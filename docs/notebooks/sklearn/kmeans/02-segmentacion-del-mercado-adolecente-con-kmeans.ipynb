{
 "cells": [
  {
   "cell_type": "markdown",
   "metadata": {},
   "source": [
    "Segmentación del mercado de adolecentes \n",
    "===\n",
    "\n",
    "* *60 min* | Ultima modificación: Junio 22, 2019"
   ]
  },
  {
   "cell_type": "markdown",
   "metadata": {},
   "source": [
    "En este tutorial se aplica el algoritmo K-means para clasificar un grupo de adolecentes con base en sus intéreses, con el fin de diseñar estrategias publicitarias y servicios encaminados a cada grupo de interés."
   ]
  },
  {
   "cell_type": "markdown",
   "metadata": {},
   "source": [
    "## Descripción del problema"
   ]
  },
  {
   "cell_type": "markdown",
   "metadata": {},
   "source": [
    "Un vendedor desea enviar publicidad electrónica a una población de adolecentes y adultos jóvenes con el fin de maximizar sus ventas. Para ello, desea poder clasificar a sus clientes potenciales por grupos de interés de acuerdo con sus intereses y consecuentemente enviar publicidad específica a cada uno de ellos.   "
   ]
  },
  {
   "cell_type": "markdown",
   "metadata": {},
   "source": [
    "En este problema se desea determina que grupos de interés existen en una población de clientes a partir de los mensajes enviados por un servicio de redes sociales. La información disponible consiste en 30000 observaciones de 40 variables que podrían caracterizar los intereses de la población analizada. Estas variables corresponden a palabras que pueden asociarse a un interés de la poblaión analizada. Cada variable mide la frecuencia con que una determinada palabra aparece en los mensajes de texto; adicionalmente, dentro de estas variables se incluye  información como el sexo, la edad y la cantidad de contactos de la persona. "
   ]
  },
  {
   "cell_type": "markdown",
   "metadata": {},
   "source": [
    "## Preparación"
   ]
  },
  {
   "cell_type": "code",
   "execution_count": 1,
   "metadata": {},
   "outputs": [],
   "source": [
    "import pandas as pd\n",
    "import numpy as np\n",
    "import seaborn as sns\n",
    "import matplotlib.pyplot as plt\n",
    "import altair as alt\n",
    "%matplotlib inline\n",
    "%load_ext rpy2.ipython"
   ]
  },
  {
   "cell_type": "markdown",
   "metadata": {},
   "source": [
    "## Carga de los datos"
   ]
  },
  {
   "cell_type": "code",
   "execution_count": 2,
   "metadata": {},
   "outputs": [
    {
     "data": {
      "text/html": [
       "<div>\n",
       "<style scoped>\n",
       "    .dataframe tbody tr th:only-of-type {\n",
       "        vertical-align: middle;\n",
       "    }\n",
       "\n",
       "    .dataframe tbody tr th {\n",
       "        vertical-align: top;\n",
       "    }\n",
       "\n",
       "    .dataframe thead th {\n",
       "        text-align: right;\n",
       "    }\n",
       "</style>\n",
       "<table border=\"1\" class=\"dataframe\">\n",
       "  <thead>\n",
       "    <tr style=\"text-align: right;\">\n",
       "      <th></th>\n",
       "      <th>gradyear</th>\n",
       "      <th>gender</th>\n",
       "      <th>age</th>\n",
       "      <th>friends</th>\n",
       "      <th>basketball</th>\n",
       "      <th>football</th>\n",
       "      <th>soccer</th>\n",
       "      <th>softball</th>\n",
       "      <th>volleyball</th>\n",
       "      <th>swimming</th>\n",
       "      <th>...</th>\n",
       "      <th>blonde</th>\n",
       "      <th>mall</th>\n",
       "      <th>shopping</th>\n",
       "      <th>clothes</th>\n",
       "      <th>hollister</th>\n",
       "      <th>abercrombie</th>\n",
       "      <th>die</th>\n",
       "      <th>death</th>\n",
       "      <th>drunk</th>\n",
       "      <th>drugs</th>\n",
       "    </tr>\n",
       "  </thead>\n",
       "  <tbody>\n",
       "    <tr>\n",
       "      <th>0</th>\n",
       "      <td>2006</td>\n",
       "      <td>M</td>\n",
       "      <td>18.982</td>\n",
       "      <td>7</td>\n",
       "      <td>0</td>\n",
       "      <td>0</td>\n",
       "      <td>0</td>\n",
       "      <td>0</td>\n",
       "      <td>0</td>\n",
       "      <td>0</td>\n",
       "      <td>...</td>\n",
       "      <td>0</td>\n",
       "      <td>0</td>\n",
       "      <td>0</td>\n",
       "      <td>0</td>\n",
       "      <td>0</td>\n",
       "      <td>0</td>\n",
       "      <td>0</td>\n",
       "      <td>0</td>\n",
       "      <td>0</td>\n",
       "      <td>0</td>\n",
       "    </tr>\n",
       "    <tr>\n",
       "      <th>1</th>\n",
       "      <td>2006</td>\n",
       "      <td>F</td>\n",
       "      <td>18.801</td>\n",
       "      <td>0</td>\n",
       "      <td>0</td>\n",
       "      <td>1</td>\n",
       "      <td>0</td>\n",
       "      <td>0</td>\n",
       "      <td>0</td>\n",
       "      <td>0</td>\n",
       "      <td>...</td>\n",
       "      <td>0</td>\n",
       "      <td>1</td>\n",
       "      <td>0</td>\n",
       "      <td>0</td>\n",
       "      <td>0</td>\n",
       "      <td>0</td>\n",
       "      <td>0</td>\n",
       "      <td>0</td>\n",
       "      <td>0</td>\n",
       "      <td>0</td>\n",
       "    </tr>\n",
       "    <tr>\n",
       "      <th>2</th>\n",
       "      <td>2006</td>\n",
       "      <td>M</td>\n",
       "      <td>18.335</td>\n",
       "      <td>69</td>\n",
       "      <td>0</td>\n",
       "      <td>1</td>\n",
       "      <td>0</td>\n",
       "      <td>0</td>\n",
       "      <td>0</td>\n",
       "      <td>0</td>\n",
       "      <td>...</td>\n",
       "      <td>0</td>\n",
       "      <td>0</td>\n",
       "      <td>0</td>\n",
       "      <td>0</td>\n",
       "      <td>0</td>\n",
       "      <td>0</td>\n",
       "      <td>0</td>\n",
       "      <td>1</td>\n",
       "      <td>0</td>\n",
       "      <td>0</td>\n",
       "    </tr>\n",
       "    <tr>\n",
       "      <th>3</th>\n",
       "      <td>2006</td>\n",
       "      <td>F</td>\n",
       "      <td>18.875</td>\n",
       "      <td>0</td>\n",
       "      <td>0</td>\n",
       "      <td>0</td>\n",
       "      <td>0</td>\n",
       "      <td>0</td>\n",
       "      <td>0</td>\n",
       "      <td>0</td>\n",
       "      <td>...</td>\n",
       "      <td>0</td>\n",
       "      <td>0</td>\n",
       "      <td>0</td>\n",
       "      <td>0</td>\n",
       "      <td>0</td>\n",
       "      <td>0</td>\n",
       "      <td>0</td>\n",
       "      <td>0</td>\n",
       "      <td>0</td>\n",
       "      <td>0</td>\n",
       "    </tr>\n",
       "    <tr>\n",
       "      <th>4</th>\n",
       "      <td>2006</td>\n",
       "      <td>NaN</td>\n",
       "      <td>18.995</td>\n",
       "      <td>10</td>\n",
       "      <td>0</td>\n",
       "      <td>0</td>\n",
       "      <td>0</td>\n",
       "      <td>0</td>\n",
       "      <td>0</td>\n",
       "      <td>0</td>\n",
       "      <td>...</td>\n",
       "      <td>0</td>\n",
       "      <td>0</td>\n",
       "      <td>2</td>\n",
       "      <td>0</td>\n",
       "      <td>0</td>\n",
       "      <td>0</td>\n",
       "      <td>0</td>\n",
       "      <td>0</td>\n",
       "      <td>1</td>\n",
       "      <td>1</td>\n",
       "    </tr>\n",
       "    <tr>\n",
       "      <th>5</th>\n",
       "      <td>2006</td>\n",
       "      <td>F</td>\n",
       "      <td>NaN</td>\n",
       "      <td>142</td>\n",
       "      <td>0</td>\n",
       "      <td>0</td>\n",
       "      <td>0</td>\n",
       "      <td>0</td>\n",
       "      <td>0</td>\n",
       "      <td>0</td>\n",
       "      <td>...</td>\n",
       "      <td>0</td>\n",
       "      <td>0</td>\n",
       "      <td>1</td>\n",
       "      <td>0</td>\n",
       "      <td>0</td>\n",
       "      <td>0</td>\n",
       "      <td>0</td>\n",
       "      <td>0</td>\n",
       "      <td>1</td>\n",
       "      <td>0</td>\n",
       "    </tr>\n",
       "    <tr>\n",
       "      <th>6</th>\n",
       "      <td>2006</td>\n",
       "      <td>F</td>\n",
       "      <td>18.930</td>\n",
       "      <td>72</td>\n",
       "      <td>0</td>\n",
       "      <td>0</td>\n",
       "      <td>0</td>\n",
       "      <td>0</td>\n",
       "      <td>0</td>\n",
       "      <td>0</td>\n",
       "      <td>...</td>\n",
       "      <td>0</td>\n",
       "      <td>2</td>\n",
       "      <td>0</td>\n",
       "      <td>0</td>\n",
       "      <td>2</td>\n",
       "      <td>0</td>\n",
       "      <td>0</td>\n",
       "      <td>0</td>\n",
       "      <td>0</td>\n",
       "      <td>0</td>\n",
       "    </tr>\n",
       "    <tr>\n",
       "      <th>7</th>\n",
       "      <td>2006</td>\n",
       "      <td>M</td>\n",
       "      <td>18.322</td>\n",
       "      <td>17</td>\n",
       "      <td>0</td>\n",
       "      <td>0</td>\n",
       "      <td>0</td>\n",
       "      <td>1</td>\n",
       "      <td>0</td>\n",
       "      <td>0</td>\n",
       "      <td>...</td>\n",
       "      <td>0</td>\n",
       "      <td>0</td>\n",
       "      <td>0</td>\n",
       "      <td>0</td>\n",
       "      <td>0</td>\n",
       "      <td>0</td>\n",
       "      <td>0</td>\n",
       "      <td>0</td>\n",
       "      <td>0</td>\n",
       "      <td>0</td>\n",
       "    </tr>\n",
       "    <tr>\n",
       "      <th>8</th>\n",
       "      <td>2006</td>\n",
       "      <td>F</td>\n",
       "      <td>19.055</td>\n",
       "      <td>52</td>\n",
       "      <td>0</td>\n",
       "      <td>0</td>\n",
       "      <td>0</td>\n",
       "      <td>0</td>\n",
       "      <td>0</td>\n",
       "      <td>0</td>\n",
       "      <td>...</td>\n",
       "      <td>0</td>\n",
       "      <td>0</td>\n",
       "      <td>0</td>\n",
       "      <td>0</td>\n",
       "      <td>0</td>\n",
       "      <td>0</td>\n",
       "      <td>0</td>\n",
       "      <td>0</td>\n",
       "      <td>0</td>\n",
       "      <td>0</td>\n",
       "    </tr>\n",
       "    <tr>\n",
       "      <th>9</th>\n",
       "      <td>2006</td>\n",
       "      <td>F</td>\n",
       "      <td>18.708</td>\n",
       "      <td>39</td>\n",
       "      <td>0</td>\n",
       "      <td>0</td>\n",
       "      <td>0</td>\n",
       "      <td>0</td>\n",
       "      <td>0</td>\n",
       "      <td>0</td>\n",
       "      <td>...</td>\n",
       "      <td>0</td>\n",
       "      <td>0</td>\n",
       "      <td>1</td>\n",
       "      <td>0</td>\n",
       "      <td>0</td>\n",
       "      <td>0</td>\n",
       "      <td>0</td>\n",
       "      <td>0</td>\n",
       "      <td>0</td>\n",
       "      <td>0</td>\n",
       "    </tr>\n",
       "  </tbody>\n",
       "</table>\n",
       "<p>10 rows × 40 columns</p>\n",
       "</div>"
      ],
      "text/plain": [
       "   gradyear gender     age  friends  basketball  football  soccer  softball  \\\n",
       "0      2006      M  18.982        7           0         0       0         0   \n",
       "1      2006      F  18.801        0           0         1       0         0   \n",
       "2      2006      M  18.335       69           0         1       0         0   \n",
       "3      2006      F  18.875        0           0         0       0         0   \n",
       "4      2006    NaN  18.995       10           0         0       0         0   \n",
       "5      2006      F     NaN      142           0         0       0         0   \n",
       "6      2006      F  18.930       72           0         0       0         0   \n",
       "7      2006      M  18.322       17           0         0       0         1   \n",
       "8      2006      F  19.055       52           0         0       0         0   \n",
       "9      2006      F  18.708       39           0         0       0         0   \n",
       "\n",
       "   volleyball  swimming  ...  blonde  mall  shopping  clothes  hollister  \\\n",
       "0           0         0  ...       0     0         0        0          0   \n",
       "1           0         0  ...       0     1         0        0          0   \n",
       "2           0         0  ...       0     0         0        0          0   \n",
       "3           0         0  ...       0     0         0        0          0   \n",
       "4           0         0  ...       0     0         2        0          0   \n",
       "5           0         0  ...       0     0         1        0          0   \n",
       "6           0         0  ...       0     2         0        0          2   \n",
       "7           0         0  ...       0     0         0        0          0   \n",
       "8           0         0  ...       0     0         0        0          0   \n",
       "9           0         0  ...       0     0         1        0          0   \n",
       "\n",
       "   abercrombie  die  death  drunk  drugs  \n",
       "0            0    0      0      0      0  \n",
       "1            0    0      0      0      0  \n",
       "2            0    0      1      0      0  \n",
       "3            0    0      0      0      0  \n",
       "4            0    0      0      1      1  \n",
       "5            0    0      0      1      0  \n",
       "6            0    0      0      0      0  \n",
       "7            0    0      0      0      0  \n",
       "8            0    0      0      0      0  \n",
       "9            0    0      0      0      0  \n",
       "\n",
       "[10 rows x 40 columns]"
      ]
     },
     "execution_count": 2,
     "metadata": {},
     "output_type": "execute_result"
    }
   ],
   "source": [
    "df = pd.read_csv(\n",
    "    \"https://raw.githubusercontent.com/jdvelasq/datalabs/master/datasets/snsdata.csv\",\n",
    "    sep = ',',           \n",
    "    thousands = None,    \n",
    "    decimal = '.',       \n",
    "    encoding='latin-1') \n",
    "\n",
    "df.head(10)"
   ]
  },
  {
   "cell_type": "markdown",
   "metadata": {},
   "source": [
    "## Análisis exploratorio"
   ]
  },
  {
   "cell_type": "code",
   "execution_count": 3,
   "metadata": {},
   "outputs": [
    {
     "data": {
      "text/plain": [
       "30000"
      ]
     },
     "execution_count": 3,
     "metadata": {},
     "output_type": "execute_result"
    }
   ],
   "source": [
    "##\n",
    "## Número de registros\n",
    "##\n",
    "len(df)"
   ]
  },
  {
   "cell_type": "code",
   "execution_count": 4,
   "metadata": {},
   "outputs": [
    {
     "data": {
      "text/plain": [
       "F    22054\n",
       "M     5222\n",
       "Name: gender, dtype: int64"
      ]
     },
     "execution_count": 4,
     "metadata": {},
     "output_type": "execute_result"
    }
   ],
   "source": [
    "##\n",
    "## Valores diferentes de NA\n",
    "##\n",
    "df.gender.value_counts()"
   ]
  },
  {
   "cell_type": "code",
   "execution_count": 5,
   "metadata": {},
   "outputs": [
    {
     "data": {
      "text/plain": [
       "2724"
      ]
     },
     "execution_count": 5,
     "metadata": {},
     "output_type": "execute_result"
    }
   ],
   "source": [
    "##\n",
    "## Número de registros con NA\n",
    "##\n",
    "df.gender.isna().sum()"
   ]
  },
  {
   "cell_type": "code",
   "execution_count": 6,
   "metadata": {
    "scrolled": true
   },
   "outputs": [
    {
     "data": {
      "text/plain": [
       "count    24914.000000\n",
       "mean        17.993950\n",
       "std          7.858054\n",
       "min          3.086000\n",
       "25%         16.312000\n",
       "50%         17.287000\n",
       "75%         18.259000\n",
       "max        106.927000\n",
       "Name: age, dtype: float64"
      ]
     },
     "execution_count": 6,
     "metadata": {},
     "output_type": "execute_result"
    }
   ],
   "source": [
    "##\n",
    "## La muestra contiene un rango de edades \n",
    "## por fuera de la población de interés\n",
    "##\n",
    "df.age.describe()"
   ]
  },
  {
   "cell_type": "code",
   "execution_count": 7,
   "metadata": {
    "scrolled": true
   },
   "outputs": [
    {
     "data": {
      "text/plain": [
       "count    24914.000000\n",
       "mean        17.993950\n",
       "std          7.858054\n",
       "min          3.086000\n",
       "25%         16.312000\n",
       "50%         17.287000\n",
       "75%         18.259000\n",
       "max        106.927000\n",
       "Name: age, dtype: float64"
      ]
     },
     "execution_count": 7,
     "metadata": {},
     "output_type": "execute_result"
    }
   ],
   "source": [
    "##\n",
    "## Se analizan los rangos de las variables \n",
    "## para determinar si hay datos por fuera de sus \n",
    "## rangos válidos. La variable `edad` contiene\n",
    "## datos por fuera de la población de interés\n",
    "##\n",
    "df.age.describe()"
   ]
  },
  {
   "cell_type": "code",
   "execution_count": 8,
   "metadata": {},
   "outputs": [
    {
     "data": {
      "text/plain": [
       "5086"
      ]
     },
     "execution_count": 8,
     "metadata": {},
     "output_type": "execute_result"
    }
   ],
   "source": [
    "## cantidad de nulos en la columna age\n",
    "df.age.isnull().sum()"
   ]
  },
  {
   "cell_type": "code",
   "execution_count": 9,
   "metadata": {},
   "outputs": [
    {
     "data": {
      "text/plain": [
       "count    24477.000000\n",
       "mean        17.252429\n",
       "std          1.157465\n",
       "min         13.027000\n",
       "25%         16.304000\n",
       "50%         17.265000\n",
       "75%         18.220000\n",
       "max         19.995000\n",
       "Name: age, dtype: float64"
      ]
     },
     "execution_count": 9,
     "metadata": {},
     "output_type": "execute_result"
    }
   ],
   "source": [
    "##\n",
    "## Se seleccionan las personas entre 13 y 20 años y \n",
    "## se descartan las demás observaciones\n",
    "##\n",
    "df['age'] = df['age'].map(lambda x: np.nan if x <  13 else x)\n",
    "df['age'] = df['age'].map(lambda x: np.nan if x >= 20 else x)\n",
    "\n",
    "##\n",
    "## Se verifica la variable edad en los registros de las\n",
    "## personas en la población de interés.\n",
    "##\n",
    "df.age.describe()"
   ]
  },
  {
   "cell_type": "code",
   "execution_count": 10,
   "metadata": {},
   "outputs": [
    {
     "data": {
      "text/plain": [
       "F    22054\n",
       "M     5222\n",
       "Name: gender, dtype: int64"
      ]
     },
     "execution_count": 10,
     "metadata": {},
     "output_type": "execute_result"
    }
   ],
   "source": [
    "##\n",
    "## Se crean nuevas variables numéricas a partir \n",
    "## de información categórica\n",
    "##\n",
    "df['female'] = df['gender'].map(lambda x: 1 if x == 'F' else 0)\n",
    "df['no_gender'] = df['gender'].map(lambda x: 1 if pd.isnull(x) else 0)\n",
    "\n",
    "## Cantidad de hombres y mujeres en la muestra.\n",
    "df.gender.value_counts()"
   ]
  },
  {
   "cell_type": "code",
   "execution_count": 11,
   "metadata": {},
   "outputs": [
    {
     "data": {
      "text/plain": [
       "2724"
      ]
     },
     "execution_count": 11,
     "metadata": {},
     "output_type": "execute_result"
    }
   ],
   "source": [
    "##\n",
    "## Número de registros con NA\n",
    "##\n",
    "df.gender.isna().sum()"
   ]
  },
  {
   "cell_type": "code",
   "execution_count": 12,
   "metadata": {},
   "outputs": [
    {
     "data": {
      "text/plain": [
       "1    22054\n",
       "0     7946\n",
       "Name: female, dtype: int64"
      ]
     },
     "execution_count": 12,
     "metadata": {},
     "output_type": "execute_result"
    }
   ],
   "source": [
    "##\n",
    "## Cantidad de hombres y mujeres en la muestra\n",
    "## 0=Male, 1=Female\n",
    "##\n",
    "df.female.value_counts()"
   ]
  },
  {
   "cell_type": "code",
   "execution_count": 13,
   "metadata": {},
   "outputs": [
    {
     "data": {
      "text/plain": [
       "0    27276\n",
       "1     2724\n",
       "Name: no_gender, dtype: int64"
      ]
     },
     "execution_count": 13,
     "metadata": {},
     "output_type": "execute_result"
    }
   ],
   "source": [
    "##\n",
    "## Cantidad de patrones para los que se \n",
    "## conoce y no se conoce el genero\n",
    "##\n",
    "df.no_gender.value_counts()"
   ]
  },
  {
   "cell_type": "code",
   "execution_count": 14,
   "metadata": {},
   "outputs": [
    {
     "data": {
      "text/plain": [
       "17.252428933284307"
      ]
     },
     "execution_count": 14,
     "metadata": {},
     "output_type": "execute_result"
    }
   ],
   "source": [
    "##\n",
    "## Edad sin tener en cuenta los datos faltantes\n",
    "##\n",
    "df.age.mean()"
   ]
  },
  {
   "cell_type": "code",
   "execution_count": 15,
   "metadata": {},
   "outputs": [
    {
     "data": {
      "text/plain": [
       "gradyear\n",
       "2006    18.655858\n",
       "2007    17.706172\n",
       "2008    16.767701\n",
       "2009    15.819573\n",
       "Name: age, dtype: float64"
      ]
     },
     "execution_count": 15,
     "metadata": {},
     "output_type": "execute_result"
    }
   ],
   "source": [
    "##\n",
    "## Se calcula una tabla para determinar \n",
    "## la edad promedio por año de graduación\n",
    "##\n",
    "df.groupby(\"gradyear\")['age'].mean()"
   ]
  },
  {
   "cell_type": "code",
   "execution_count": 16,
   "metadata": {},
   "outputs": [
    {
     "data": {
      "text/plain": [
       "count    30000.000000\n",
       "mean        17.237326\n",
       "std          1.141821\n",
       "min         13.027000\n",
       "25%         16.282000\n",
       "50%         17.238000\n",
       "75%         18.212000\n",
       "max         19.995000\n",
       "Name: age, dtype: float64"
      ]
     },
     "execution_count": 16,
     "metadata": {},
     "output_type": "execute_result"
    }
   ],
   "source": [
    "##\n",
    "## Los valores faltantes se llenan con el promedio\n",
    "## de acuerdo con el año de graduación\n",
    "##\n",
    "ave_age = df.groupby(\"gradyear\")['age'].mean()\n",
    "df.age = [x if not pd.isnull(x) else ave_age[y] for x, y in zip(df.age, df.gradyear)]\n",
    "df.age.describe()"
   ]
  },
  {
   "cell_type": "markdown",
   "metadata": {},
   "source": [
    "## Entrenamiento del modelo"
   ]
  },
  {
   "cell_type": "code",
   "execution_count": 17,
   "metadata": {
    "collapsed": true
   },
   "outputs": [
    {
     "data": {
      "text/html": [
       "<div>\n",
       "<style scoped>\n",
       "    .dataframe tbody tr th:only-of-type {\n",
       "        vertical-align: middle;\n",
       "    }\n",
       "\n",
       "    .dataframe tbody tr th {\n",
       "        vertical-align: top;\n",
       "    }\n",
       "\n",
       "    .dataframe thead th {\n",
       "        text-align: right;\n",
       "    }\n",
       "</style>\n",
       "<table border=\"1\" class=\"dataframe\">\n",
       "  <thead>\n",
       "    <tr style=\"text-align: right;\">\n",
       "      <th></th>\n",
       "      <th>basketball</th>\n",
       "      <th>football</th>\n",
       "      <th>soccer</th>\n",
       "      <th>softball</th>\n",
       "      <th>volleyball</th>\n",
       "      <th>swimming</th>\n",
       "      <th>cheerleading</th>\n",
       "      <th>baseball</th>\n",
       "      <th>tennis</th>\n",
       "      <th>sports</th>\n",
       "      <th>...</th>\n",
       "      <th>shopping</th>\n",
       "      <th>clothes</th>\n",
       "      <th>hollister</th>\n",
       "      <th>abercrombie</th>\n",
       "      <th>die</th>\n",
       "      <th>death</th>\n",
       "      <th>drunk</th>\n",
       "      <th>drugs</th>\n",
       "      <th>female</th>\n",
       "      <th>no_gender</th>\n",
       "    </tr>\n",
       "  </thead>\n",
       "  <tbody>\n",
       "    <tr>\n",
       "      <th>0</th>\n",
       "      <td>0</td>\n",
       "      <td>0</td>\n",
       "      <td>0</td>\n",
       "      <td>0</td>\n",
       "      <td>0</td>\n",
       "      <td>0</td>\n",
       "      <td>0</td>\n",
       "      <td>0</td>\n",
       "      <td>0</td>\n",
       "      <td>0</td>\n",
       "      <td>...</td>\n",
       "      <td>0</td>\n",
       "      <td>0</td>\n",
       "      <td>0</td>\n",
       "      <td>0</td>\n",
       "      <td>0</td>\n",
       "      <td>0</td>\n",
       "      <td>0</td>\n",
       "      <td>0</td>\n",
       "      <td>0</td>\n",
       "      <td>0</td>\n",
       "    </tr>\n",
       "    <tr>\n",
       "      <th>1</th>\n",
       "      <td>0</td>\n",
       "      <td>1</td>\n",
       "      <td>0</td>\n",
       "      <td>0</td>\n",
       "      <td>0</td>\n",
       "      <td>0</td>\n",
       "      <td>0</td>\n",
       "      <td>0</td>\n",
       "      <td>0</td>\n",
       "      <td>0</td>\n",
       "      <td>...</td>\n",
       "      <td>0</td>\n",
       "      <td>0</td>\n",
       "      <td>0</td>\n",
       "      <td>0</td>\n",
       "      <td>0</td>\n",
       "      <td>0</td>\n",
       "      <td>0</td>\n",
       "      <td>0</td>\n",
       "      <td>1</td>\n",
       "      <td>0</td>\n",
       "    </tr>\n",
       "    <tr>\n",
       "      <th>2</th>\n",
       "      <td>0</td>\n",
       "      <td>1</td>\n",
       "      <td>0</td>\n",
       "      <td>0</td>\n",
       "      <td>0</td>\n",
       "      <td>0</td>\n",
       "      <td>0</td>\n",
       "      <td>0</td>\n",
       "      <td>0</td>\n",
       "      <td>0</td>\n",
       "      <td>...</td>\n",
       "      <td>0</td>\n",
       "      <td>0</td>\n",
       "      <td>0</td>\n",
       "      <td>0</td>\n",
       "      <td>0</td>\n",
       "      <td>1</td>\n",
       "      <td>0</td>\n",
       "      <td>0</td>\n",
       "      <td>0</td>\n",
       "      <td>0</td>\n",
       "    </tr>\n",
       "    <tr>\n",
       "      <th>3</th>\n",
       "      <td>0</td>\n",
       "      <td>0</td>\n",
       "      <td>0</td>\n",
       "      <td>0</td>\n",
       "      <td>0</td>\n",
       "      <td>0</td>\n",
       "      <td>0</td>\n",
       "      <td>0</td>\n",
       "      <td>0</td>\n",
       "      <td>0</td>\n",
       "      <td>...</td>\n",
       "      <td>0</td>\n",
       "      <td>0</td>\n",
       "      <td>0</td>\n",
       "      <td>0</td>\n",
       "      <td>0</td>\n",
       "      <td>0</td>\n",
       "      <td>0</td>\n",
       "      <td>0</td>\n",
       "      <td>1</td>\n",
       "      <td>0</td>\n",
       "    </tr>\n",
       "    <tr>\n",
       "      <th>4</th>\n",
       "      <td>0</td>\n",
       "      <td>0</td>\n",
       "      <td>0</td>\n",
       "      <td>0</td>\n",
       "      <td>0</td>\n",
       "      <td>0</td>\n",
       "      <td>0</td>\n",
       "      <td>0</td>\n",
       "      <td>0</td>\n",
       "      <td>0</td>\n",
       "      <td>...</td>\n",
       "      <td>2</td>\n",
       "      <td>0</td>\n",
       "      <td>0</td>\n",
       "      <td>0</td>\n",
       "      <td>0</td>\n",
       "      <td>0</td>\n",
       "      <td>1</td>\n",
       "      <td>1</td>\n",
       "      <td>0</td>\n",
       "      <td>1</td>\n",
       "    </tr>\n",
       "  </tbody>\n",
       "</table>\n",
       "<p>5 rows × 38 columns</p>\n",
       "</div>"
      ],
      "text/plain": [
       "   basketball  football  soccer  softball  volleyball  swimming  cheerleading  \\\n",
       "0           0         0       0         0           0         0             0   \n",
       "1           0         1       0         0           0         0             0   \n",
       "2           0         1       0         0           0         0             0   \n",
       "3           0         0       0         0           0         0             0   \n",
       "4           0         0       0         0           0         0             0   \n",
       "\n",
       "   baseball  tennis  sports  ...  shopping  clothes  hollister  abercrombie  \\\n",
       "0         0       0       0  ...         0        0          0            0   \n",
       "1         0       0       0  ...         0        0          0            0   \n",
       "2         0       0       0  ...         0        0          0            0   \n",
       "3         0       0       0  ...         0        0          0            0   \n",
       "4         0       0       0  ...         2        0          0            0   \n",
       "\n",
       "   die  death  drunk  drugs  female  no_gender  \n",
       "0    0      0      0      0       0          0  \n",
       "1    0      0      0      0       1          0  \n",
       "2    0      1      0      0       0          0  \n",
       "3    0      0      0      0       1          0  \n",
       "4    0      0      1      1       0          1  \n",
       "\n",
       "[5 rows x 38 columns]"
      ]
     },
     "execution_count": 17,
     "metadata": {},
     "output_type": "execute_result"
    }
   ],
   "source": [
    "##\n",
    "## Se separa la información de las palabras relacionadas\n",
    "## con los intereses del resto de la información\n",
    "##\n",
    "interests = df.iloc[:,4:].copy()\n",
    "interests.head()"
   ]
  },
  {
   "cell_type": "code",
   "execution_count": 18,
   "metadata": {},
   "outputs": [
    {
     "data": {
      "text/plain": [
       "array([[0.        , 0.        , 0.        , ..., 0.        , 0.        ,\n",
       "        0.        ],\n",
       "       [0.        , 0.06666667, 0.        , ..., 0.        , 1.        ,\n",
       "        0.        ],\n",
       "       [0.        , 0.06666667, 0.        , ..., 0.        , 0.        ,\n",
       "        0.        ],\n",
       "       ...,\n",
       "       [0.        , 0.06666667, 0.        , ..., 0.        , 0.        ,\n",
       "        0.        ],\n",
       "       [0.        , 0.        , 0.        , ..., 0.        , 0.        ,\n",
       "        0.        ],\n",
       "       [0.08333333, 0.        , 0.        , ..., 0.        , 1.        ,\n",
       "        0.        ]])"
      ]
     },
     "execution_count": 18,
     "metadata": {},
     "output_type": "execute_result"
    }
   ],
   "source": [
    "##\n",
    "## Se escala para eliminar problemas asociados\n",
    "## a la medida de los datos.\n",
    "##\n",
    "from sklearn.preprocessing import MinMaxScaler\n",
    "scaler = MinMaxScaler()\n",
    "interests_z = scaler.fit_transform(interests)\n",
    "interests_z"
   ]
  },
  {
   "cell_type": "code",
   "execution_count": 19,
   "metadata": {},
   "outputs": [],
   "source": [
    "##\n",
    "## Se usa el algoritmo para determinar los centros de 5 grupos\n",
    "##\n",
    "from sklearn.cluster import KMeans\n",
    "df_clusters = KMeans(n_clusters=5, random_state=1).fit(interests_z)"
   ]
  },
  {
   "cell_type": "markdown",
   "metadata": {},
   "source": [
    "## Evaluación del modelo"
   ]
  },
  {
   "cell_type": "code",
   "execution_count": 20,
   "metadata": {},
   "outputs": [
    {
     "data": {
      "text/plain": [
       "3    16472\n",
       "0     5222\n",
       "1     3095\n",
       "2     2724\n",
       "4     2487\n",
       "Name: 0, dtype: int64"
      ]
     },
     "execution_count": 20,
     "metadata": {},
     "output_type": "execute_result"
    }
   ],
   "source": [
    "##\n",
    "## Número de patrones asignados a cada cluster\n",
    "##\n",
    "(pd.DataFrame(df_clusters.predict(interests_z)))[0].value_counts()"
   ]
  },
  {
   "cell_type": "code",
   "execution_count": 21,
   "metadata": {},
   "outputs": [
    {
     "data": {
      "text/plain": [
       "array([[ 1.31415167e-02,  2.98991446e-02,  7.78047293e-03,\n",
       "         5.40698853e-04,  2.47578924e-03,  2.57595038e-03,\n",
       "         9.57487553e-04,  1.69714669e-02,  6.88114388e-03,\n",
       "         1.66443253e-02,  3.95761522e-03,  1.40767468e-03,\n",
       "         4.57466275e-03,  5.18958254e-03,  2.26850897e-03,\n",
       "         6.85561088e-03,  5.32130961e-03,  4.45666934e-03,\n",
       "         1.08196093e-02,  1.20461053e-02,  5.41283470e-03,\n",
       "         4.44796490e-03,  4.16826248e-03,  2.48946764e-03,\n",
       "         4.88059871e-03,  3.42567769e-03,  7.43736509e-05,\n",
       "         1.13302694e-02,  4.43926047e-03,  9.02432018e-03,\n",
       "         3.63845270e-03,  2.84852547e-03,  8.10382647e-03,\n",
       "         7.44104612e-03,  9.40731520e-03,  3.44695519e-03,\n",
       "         8.94839758e-14, -1.47104551e-15],\n",
       "       [ 1.92484083e-02,  2.93514622e-02,  1.33688237e-02,\n",
       "         1.61293394e-02,  2.26379318e-02,  8.69892125e-03,\n",
       "         6.43142333e-02,  8.33603108e-03,  8.61120104e-03,\n",
       "         1.56738966e-02,  4.43509226e-02,  3.19753739e-03,\n",
       "         1.14744074e-02,  3.21463257e-02,  7.27145952e-03,\n",
       "         2.70206108e-02,  4.89518036e-03,  2.94299420e-03,\n",
       "         1.55997086e-02,  1.84834050e-02,  7.49904725e-03,\n",
       "         1.04402719e-02,  4.74803065e-03,  1.88351629e-03,\n",
       "         2.31685230e-02,  3.88115535e-02,  6.75178670e-04,\n",
       "         7.65619942e-02,  1.55390094e-01,  1.81288443e-02,\n",
       "         3.12938384e-02,  2.71528003e-02,  1.04917743e-02,\n",
       "         1.14230218e-02,  1.95451602e-02,  6.23179022e-03,\n",
       "         1.00000000e+00, -1.42941214e-15],\n",
       "       [ 7.20447871e-03,  9.83847283e-03,  6.56713983e-03,\n",
       "         5.29066252e-03,  7.23725614e-03,  3.31580693e-03,\n",
       "         9.87110458e-03,  3.78579295e-03,  5.33529124e-03,\n",
       "         6.36319139e-03,  1.40316528e-02,  1.23013113e-03,\n",
       "         5.91450481e-03,  7.92951542e-03,  2.73918446e-03,\n",
       "         1.17229564e-02,  2.99247986e-03,  2.20264317e-03,\n",
       "         8.48935389e-03,  7.60436333e-03,  4.66086730e-03,\n",
       "         3.89634228e-03,  3.20606951e-03,  1.36830864e-03,\n",
       "         8.08628011e-03,  8.89215206e-03,  1.82992272e-04,\n",
       "         1.79882526e-02,  2.30943799e-02,  1.40877386e-02,\n",
       "         7.05661609e-03,  5.00183554e-03,  7.22533707e-03,\n",
       "         5.03461296e-03,  7.70925110e-03,  2.06497797e-03,\n",
       "        -1.52100554e-14,  1.00000000e+00],\n",
       "       [ 8.72375288e-03,  1.05595339e-02,  7.37683915e-03,\n",
       "         1.06880475e-02,  1.02257556e-02,  3.82132188e-03,\n",
       "         5.96080970e-03,  3.17848040e-03,  4.81450014e-03,\n",
       "         9.02718777e-03,  1.56032960e-02,  1.37131273e-03,\n",
       "         7.71398902e-03,  1.05473965e-02,  2.56752593e-03,\n",
       "         1.30173565e-02,  4.11843891e-03,  3.69638857e-03,\n",
       "         1.04068682e-02,  9.61455100e-03,  5.63006141e-03,\n",
       "         4.92116210e-03,  3.46118056e-03,  1.71026934e-03,\n",
       "         8.65199463e-03,  9.08281749e-03,  2.18992760e-04,\n",
       "         1.27493223e-02,  1.69702854e-02,  3.13291060e-15,\n",
       "         3.50635865e-03,  2.94331836e-03,  7.34312417e-03,\n",
       "         7.49050682e-03,  8.77685399e-03,  2.74608569e-03,\n",
       "         1.00000000e+00,  3.58740815e-14],\n",
       "       [ 1.71726310e-02,  2.29191797e-02,  1.05139317e-02,\n",
       "         1.66039878e-02,  1.43316675e-02,  7.13387032e-03,\n",
       "         1.07224233e-02,  7.91616405e-03,  7.34485994e-03,\n",
       "         1.95014073e-02,  3.42224009e-02,  4.79687357e-03,\n",
       "         1.31796453e-02,  2.33212706e-02,  1.40731805e-02,\n",
       "         2.39110039e-02,  6.93911369e-03,  4.60576818e-03,\n",
       "         1.87223563e-02,  1.94918337e-02,  7.96038132e-03,\n",
       "         8.85513762e-03,  3.96729661e-03,  2.99740469e-03,\n",
       "         3.25584934e-02,  2.34106241e-02,  1.00338273e-03,\n",
       "         3.56520574e-02,  4.70446321e-02,  1.67018496e-01,\n",
       "         1.61729884e-02,  1.24648170e-02,  1.43290565e-02,\n",
       "         1.34700442e-02,  2.20144753e-02,  1.01276639e-02,\n",
       "         1.00000000e+00, -1.41553436e-15]])"
      ]
     },
     "execution_count": 21,
     "metadata": {},
     "output_type": "execute_result"
    }
   ],
   "source": [
    "##\n",
    "## Frecuencia de las palabras en cada cluster\n",
    "##\n",
    "df_clusters.cluster_centers_"
   ]
  },
  {
   "cell_type": "markdown",
   "metadata": {},
   "source": [
    "**Actividad.---** Haga un heatmap para la interpretación de los grupos."
   ]
  },
  {
   "cell_type": "markdown",
   "metadata": {},
   "source": [
    "**Actividad.---** Cuál de los clusters anteriores tiene más interés en los deportes?"
   ]
  },
  {
   "cell_type": "markdown",
   "metadata": {},
   "source": [
    "**Actividad.---** Cuál es el cluster de las princesas?"
   ]
  },
  {
   "cell_type": "markdown",
   "metadata": {},
   "source": [
    "**Actividad.---** Cuál cluster representa las personas que no hablan o no han posteado sobre sus intereses?"
   ]
  },
  {
   "cell_type": "markdown",
   "metadata": {},
   "source": [
    "## Análisis del modelo"
   ]
  },
  {
   "cell_type": "code",
   "execution_count": 22,
   "metadata": {
    "collapsed": true
   },
   "outputs": [
    {
     "data": {
      "text/html": [
       "<div>\n",
       "<style scoped>\n",
       "    .dataframe tbody tr th:only-of-type {\n",
       "        vertical-align: middle;\n",
       "    }\n",
       "\n",
       "    .dataframe tbody tr th {\n",
       "        vertical-align: top;\n",
       "    }\n",
       "\n",
       "    .dataframe thead th {\n",
       "        text-align: right;\n",
       "    }\n",
       "</style>\n",
       "<table border=\"1\" class=\"dataframe\">\n",
       "  <thead>\n",
       "    <tr style=\"text-align: right;\">\n",
       "      <th></th>\n",
       "      <th>cluster</th>\n",
       "      <th>gender</th>\n",
       "      <th>age</th>\n",
       "      <th>friends</th>\n",
       "    </tr>\n",
       "  </thead>\n",
       "  <tbody>\n",
       "    <tr>\n",
       "      <th>0</th>\n",
       "      <td>0</td>\n",
       "      <td>M</td>\n",
       "      <td>18.982</td>\n",
       "      <td>7</td>\n",
       "    </tr>\n",
       "    <tr>\n",
       "      <th>1</th>\n",
       "      <td>1</td>\n",
       "      <td>F</td>\n",
       "      <td>18.801</td>\n",
       "      <td>0</td>\n",
       "    </tr>\n",
       "    <tr>\n",
       "      <th>2</th>\n",
       "      <td>0</td>\n",
       "      <td>M</td>\n",
       "      <td>18.335</td>\n",
       "      <td>69</td>\n",
       "    </tr>\n",
       "    <tr>\n",
       "      <th>3</th>\n",
       "      <td>3</td>\n",
       "      <td>F</td>\n",
       "      <td>18.875</td>\n",
       "      <td>0</td>\n",
       "    </tr>\n",
       "    <tr>\n",
       "      <th>4</th>\n",
       "      <td>2</td>\n",
       "      <td>NaN</td>\n",
       "      <td>18.995</td>\n",
       "      <td>10</td>\n",
       "    </tr>\n",
       "  </tbody>\n",
       "</table>\n",
       "</div>"
      ],
      "text/plain": [
       "   cluster gender     age  friends\n",
       "0        0      M  18.982        7\n",
       "1        1      F  18.801        0\n",
       "2        0      M  18.335       69\n",
       "3        3      F  18.875        0\n",
       "4        2    NaN  18.995       10"
      ]
     },
     "execution_count": 22,
     "metadata": {},
     "output_type": "execute_result"
    }
   ],
   "source": [
    "##\n",
    "## Se asigna a cada ejemplo de los datos\n",
    "## el cluster al que pertenece\n",
    "##\n",
    "df[\"cluster\"] = df_clusters.predict(interests_z).tolist()\n",
    "\n",
    "##\n",
    "## clusters a los que pertenecen los primeros cinco patrones\n",
    "##\n",
    "df[[\"cluster\", \"gender\", \"age\", \"friends\"]].head(5)"
   ]
  },
  {
   "cell_type": "code",
   "execution_count": 23,
   "metadata": {},
   "outputs": [
    {
     "data": {
      "text/plain": [
       "cluster\n",
       "0    17.432631\n",
       "1    17.052040\n",
       "2    17.269795\n",
       "3    17.229694\n",
       "4    17.072812\n",
       "Name: age, dtype: float64"
      ]
     },
     "execution_count": 23,
     "metadata": {},
     "output_type": "execute_result"
    }
   ],
   "source": [
    "##\n",
    "## Características demográficas de los clusters.\n",
    "## Edad por cluster.\n",
    "##\n",
    "df.groupby(\"cluster\")['age'].mean()"
   ]
  },
  {
   "cell_type": "code",
   "execution_count": 24,
   "metadata": {},
   "outputs": [
    {
     "data": {
      "text/plain": [
       "cluster\n",
       "0    0\n",
       "1    1\n",
       "2    0\n",
       "3    1\n",
       "4    1\n",
       "Name: female, dtype: int64"
      ]
     },
     "execution_count": 24,
     "metadata": {},
     "output_type": "execute_result"
    }
   ],
   "source": [
    "## \n",
    "## Promedio de mujeres por cluster\n",
    "##\n",
    "#\n",
    "# cluster\tfemale\n",
    "#       1 0.8381171\n",
    "#       2 0.7250000\n",
    "#       3 0.8378198\n",
    "#       4 0.8027079\n",
    "#       5 0.6994515\n",
    "#\n",
    "df.groupby(\"cluster\")['female'].mean()"
   ]
  },
  {
   "cell_type": "code",
   "execution_count": 25,
   "metadata": {},
   "outputs": [
    {
     "name": "stdout",
     "output_type": "stream",
     "text": [
      "0\n",
      "3095\n",
      "0\n",
      "16472\n",
      "2487\n"
     ]
    }
   ],
   "source": [
    "for a,b in df.groupby(\"cluster\"):\n",
    "    print(b['female'].sum())"
   ]
  },
  {
   "cell_type": "code",
   "execution_count": 26,
   "metadata": {
    "scrolled": true
   },
   "outputs": [
    {
     "data": {
      "text/plain": [
       "cluster\n",
       "0    24.926465\n",
       "1    39.572536\n",
       "2    26.139134\n",
       "3    30.256982\n",
       "4    33.431846\n",
       "Name: friends, dtype: float64"
      ]
     },
     "execution_count": 26,
     "metadata": {},
     "output_type": "execute_result"
    }
   ],
   "source": [
    "##\n",
    "## Cantidad promedio de amigos por cluster\n",
    "##\n",
    "df.groupby(\"cluster\")['friends'].mean()"
   ]
  },
  {
   "cell_type": "markdown",
   "metadata": {},
   "source": [
    "**Actividad.---** Al analizar las distintas variables presentadas, qué puede inferir de cada cluster?"
   ]
  },
  {
   "cell_type": "markdown",
   "metadata": {},
   "source": [
    "**Actividad.---** Repita este ejercicio usando clustering jerárquico."
   ]
  },
  {
   "cell_type": "markdown",
   "metadata": {},
   "source": [
    "---"
   ]
  },
  {
   "cell_type": "markdown",
   "metadata": {},
   "source": [
    "## Apendice --- Solución en R"
   ]
  },
  {
   "cell_type": "code",
   "execution_count": 27,
   "metadata": {},
   "outputs": [
    {
     "name": "stdout",
     "output_type": "stream",
     "text": [
      "\n",
      "    F     M \n",
      "22054  5222 \n"
     ]
    }
   ],
   "source": [
    "%%R \n",
    "\n",
    "df <- read.csv(\n",
    "    \"https://raw.githubusercontent.com/jdvelasq/datalabs/master/datasets/snsdata.csv\", \n",
    "    stringsAsFactors = TRUE)\n",
    "\n",
    "##\n",
    "## Cantidad de registros por genero.\n",
    "## La suma no es igual a los 30.000 \n",
    "## registros de la muestra\n",
    "##\n",
    "table(df$gender)"
   ]
  },
  {
   "cell_type": "code",
   "execution_count": 28,
   "metadata": {},
   "outputs": [
    {
     "name": "stdout",
     "output_type": "stream",
     "text": [
      "\n",
      "    F     M  <NA> \n",
      "22054  5222  2724 \n"
     ]
    }
   ],
   "source": [
    "%%R\n",
    "##\n",
    "## La función `table` excluye los NA.\n",
    "## A continuación se tienen en cuenta en el conteo\n",
    "##\n",
    "table(df$gender, useNA = \"ifany\")"
   ]
  },
  {
   "cell_type": "code",
   "execution_count": 29,
   "metadata": {},
   "outputs": [
    {
     "name": "stdout",
     "output_type": "stream",
     "text": [
      "   Min. 1st Qu.  Median    Mean 3rd Qu.    Max.    NA's \n",
      "  3.086  16.312  17.287  17.994  18.259 106.927    5086 \n"
     ]
    }
   ],
   "source": [
    "%%R\n",
    "##\n",
    "## Se analizan los rangos de las variables \n",
    "## para determinar si hay datos por fuera de sus \n",
    "## rangos válidos. La variable `edad` contiene\n",
    "## datos por fuera de la población de interés\n",
    "##\n",
    "summary(df$age)"
   ]
  },
  {
   "cell_type": "code",
   "execution_count": 30,
   "metadata": {
    "collapsed": true
   },
   "outputs": [
    {
     "name": "stdout",
     "output_type": "stream",
     "text": [
      "   Min. 1st Qu.  Median    Mean 3rd Qu.    Max.    NA's \n",
      "  13.03   16.30   17.27   17.25   18.22   20.00    5523 \n"
     ]
    }
   ],
   "source": [
    "%%R\n",
    "##\n",
    "## Se seleccionan las personas entre 13 y 20 años y \n",
    "## se descartan las demás observaciones\n",
    "##\n",
    "df$age <- ifelse(df$age >= 13 & df$age < 20, df$age, NA)\n",
    "\n",
    "##\n",
    "## Se verifica nuevament la variable edad en los registros de las\n",
    "## personas en la población de interés.\n",
    "##\n",
    "summary(df$age)"
   ]
  },
  {
   "cell_type": "code",
   "execution_count": 31,
   "metadata": {
    "collapsed": true
   },
   "outputs": [
    {
     "name": "stdout",
     "output_type": "stream",
     "text": [
      "\n",
      "    F     M  <NA> \n",
      "22054  5222  2724 \n"
     ]
    }
   ],
   "source": [
    "%%R\n",
    "##\n",
    "## Se crean nuevas variables numéricas a partir \n",
    "## de información categórica\n",
    "##\n",
    "df$female <- ifelse(df$gender == \"F\" & !is.na(df$gender), 1, 0)\n",
    "\n",
    "##\n",
    "## Se crea una nueva columna para indicar que \n",
    "## no hay información del sexo de la persona\n",
    "##\n",
    "df$no_gender <- ifelse(is.na(df$gender), 1, 0)\n",
    "\n",
    "##\n",
    "## Cantidad de hombres y mujeres en la muestra.\n",
    "##\n",
    "table(df$gender, useNA = \"ifany\")"
   ]
  },
  {
   "cell_type": "code",
   "execution_count": 32,
   "metadata": {},
   "outputs": [
    {
     "name": "stdout",
     "output_type": "stream",
     "text": [
      "\n",
      "    0     1 \n",
      " 7946 22054 \n"
     ]
    }
   ],
   "source": [
    "%%R\n",
    "##\n",
    "## Cantidad de hombres y mujeres en la muestra\n",
    "## 1=Female\n",
    "##\n",
    "table(df$female, useNA = \"ifany\")"
   ]
  },
  {
   "cell_type": "code",
   "execution_count": 33,
   "metadata": {},
   "outputs": [
    {
     "name": "stdout",
     "output_type": "stream",
     "text": [
      "\n",
      "    0     1 \n",
      "27276  2724 \n"
     ]
    }
   ],
   "source": [
    "%%R\n",
    "##\n",
    "## Cantidad de patrones para los que se \n",
    "## conoce y no se conoce el genero\n",
    "##\n",
    "table(df$no_gender, useNA = \"ifany\")"
   ]
  },
  {
   "cell_type": "code",
   "execution_count": 34,
   "metadata": {},
   "outputs": [
    {
     "name": "stdout",
     "output_type": "stream",
     "text": [
      "[1] NA\n"
     ]
    }
   ],
   "source": [
    "%%R\n",
    "##\n",
    "## La muestra contiene datos faltantes por lo\n",
    "## que el promdio de la edad es <NA>\n",
    "##\n",
    "mean(df$age)"
   ]
  },
  {
   "cell_type": "code",
   "execution_count": 35,
   "metadata": {},
   "outputs": [
    {
     "name": "stdout",
     "output_type": "stream",
     "text": [
      "[1] 17.25243\n"
     ]
    }
   ],
   "source": [
    "%%R\n",
    "##\n",
    "## Se computa la media de la edad sin \n",
    "## tener en cuenta los datos faltantes\n",
    "##\n",
    "mean(df$age, na.rm = TRUE)"
   ]
  },
  {
   "cell_type": "code",
   "execution_count": 36,
   "metadata": {},
   "outputs": [
    {
     "name": "stdout",
     "output_type": "stream",
     "text": [
      "  gradyear      age\n",
      "1     2006 18.65586\n",
      "2     2007 17.70617\n",
      "3     2008 16.76770\n",
      "4     2009 15.81957\n"
     ]
    }
   ],
   "source": [
    "%%R\n",
    "##\n",
    "## Se calcula una tabla para determinar \n",
    "## la edad promedio por año de graduación\n",
    "##\n",
    "aggregate(data = df, age ~ gradyear, mean, na.rm = TRUE)"
   ]
  },
  {
   "cell_type": "code",
   "execution_count": 37,
   "metadata": {},
   "outputs": [
    {
     "name": "stdout",
     "output_type": "stream",
     "text": [
      "   Min. 1st Qu.  Median    Mean 3rd Qu.    Max. \n",
      "  13.03   16.28   17.24   17.24   18.21   20.00 \n"
     ]
    }
   ],
   "source": [
    "%%R\n",
    "##\n",
    "## \n",
    "## Los valores faltantes en la edad se llenan \n",
    "## con el promedio de acuerdo con el año de graduación\n",
    "ave_age <- ave(df$age, \n",
    "               df$gradyear, \n",
    "               FUN = function(x) mean(x, na.rm = TRUE))\n",
    "                   \n",
    "df$age <- ifelse(is.na(df$age), ave_age, df$age)\n",
    "summary(df$age)"
   ]
  },
  {
   "cell_type": "code",
   "execution_count": 38,
   "metadata": {
    "collapsed": true
   },
   "outputs": [
    {
     "name": "stdout",
     "output_type": "stream",
     "text": [
      " int [1:5] 871 600 5981 1034 21514\n"
     ]
    }
   ],
   "source": [
    "%%R\n",
    "##\n",
    "## Se separa la información de las palabras relacionadas\n",
    "## con los intereses del resto de la información\n",
    "## y se escala para eliminar problemas asociados\n",
    "## a la medida de los datos.\n",
    "##\n",
    "interests <- df[5:40]\n",
    "interests_z <- as.data.frame(lapply(interests, scale))\n",
    "\n",
    "##\n",
    "## Se usa el algoritmo para determinar los centros de 5 grupos\n",
    "##\n",
    "set.seed(2345)\n",
    "df_clusters <- kmeans(interests_z, 5)\n",
    "\n",
    "##\n",
    "## Número de patrones asignados a cada cluster\n",
    "##\n",
    "str(df_clusters$size)"
   ]
  },
  {
   "cell_type": "code",
   "execution_count": 39,
   "metadata": {},
   "outputs": [
    {
     "name": "stdout",
     "output_type": "stream",
     "text": [
      "   basketball   football      soccer    softball  volleyball    swimming\n",
      "1  0.16001227  0.2364174  0.10385512  0.07232021  0.18897158  0.23970234\n",
      "2 -0.09195886  0.0652625 -0.09932124 -0.01739428 -0.06219308  0.03339844\n",
      "3  0.52755083  0.4873480  0.29778605  0.37178877  0.37986175  0.29628671\n",
      "4  0.34081039  0.3593965  0.12722250  0.16384661  0.11032200  0.26943332\n",
      "5 -0.16695523 -0.1641499 -0.09033520 -0.11367669 -0.11682181 -0.10595448\n",
      "  cheerleading    baseball      tennis      sports        cute          sex\n",
      "1    0.3931445  0.02993479  0.13532387  0.10257837  0.37884271  0.020042068\n",
      "2   -0.1101103 -0.11487510  0.04062204 -0.09899231 -0.03265037 -0.042486141\n",
      "3    0.3303485  0.35231971  0.14057808  0.32967130  0.54442929  0.002913623\n",
      "4    0.1856664  0.27527088  0.10980958  0.79711920  0.47866008  2.028471066\n",
      "5   -0.1136077 -0.10918483 -0.05097057 -0.13135334 -0.18878627 -0.097928345\n",
      "         sexy         hot      kissed       dance        band    marching\n",
      "1  0.11740551  0.41389104  0.06787768  0.22780899 -0.10257102 -0.10942590\n",
      "2 -0.04329091 -0.03812345 -0.04554933  0.04573186  4.06726666  5.25757242\n",
      "3  0.24040196  0.38551819 -0.03356121  0.45662534 -0.02120728 -0.10880541\n",
      "4  0.51266080  0.31708549  2.97973077  0.45535061  0.38053621 -0.02014608\n",
      "5 -0.09501817 -0.13810894 -0.13535855 -0.15932739 -0.12167214 -0.11098063\n",
      "       music        rock         god      church       jesus       bible\n",
      "1  0.1378306  0.05905951  0.03651755 -0.00709374  0.01458533 -0.03692278\n",
      "2  0.4981238  0.15963917  0.09283620  0.06414651  0.04801941  0.05863810\n",
      "3  0.2844999  0.21436936  0.35014919  0.53739806  0.27843424  0.22990963\n",
      "4  1.1367885  1.21013948  0.41679142  0.16627797  0.12988313  0.08478769\n",
      "5 -0.1532006 -0.12460034 -0.12144246 -0.15889274 -0.08557822 -0.06813159\n",
      "         hair       dress      blonde        mall    shopping       clothes\n",
      "1  0.43807926  0.14905267  0.06137340  0.60368108  0.79806891  0.5651537331\n",
      "2 -0.04484083  0.07201611 -0.01146396 -0.08724304 -0.03865318 -0.0003526292\n",
      "3  0.23612853  0.39407628  0.03471458  0.48318495  0.66327838  0.3759725120\n",
      "4  2.55623737  0.53852195  0.36134138  0.62256686  0.27101815  1.2306917174\n",
      "5 -0.20498730 -0.14348036 -0.02918252 -0.18625656 -0.22865236 -0.1865419798\n",
      "   hollister abercrombie          die       death        drunk       drugs\n",
      "1  4.1521844  3.96493810  0.043475966  0.09857501  0.035614771  0.03443294\n",
      "2 -0.1678300 -0.14129577  0.009447317  0.05135888 -0.086773220 -0.06878491\n",
      "3 -0.0553846 -0.07417839  0.037989066  0.11972190 -0.009688746 -0.05973769\n",
      "4  0.1610784  0.26324494  1.712181870  0.93631312  1.897388200  2.73326605\n",
      "5 -0.1557662 -0.14861104 -0.094875180 -0.08370729 -0.087520105 -0.11423381\n"
     ]
    }
   ],
   "source": [
    "%%R\n",
    "##\n",
    "## Frecuencia de las palabras en cada cluster\n",
    "##\n",
    "df_clusters$centers"
   ]
  },
  {
   "cell_type": "markdown",
   "metadata": {},
   "source": [
    "### Análisis del modelo"
   ]
  },
  {
   "cell_type": "code",
   "execution_count": 40,
   "metadata": {},
   "outputs": [
    {
     "name": "stdout",
     "output_type": "stream",
     "text": [
      "List of 9\n",
      " $ cluster     : int [1:30000] 5 3 5 5 4 5 1 5 5 3 ...\n",
      " $ centers     : num [1:5, 1:36] 0.16 -0.092 0.528 0.341 -0.167 ...\n",
      "  ..- attr(*, \"dimnames\")=List of 2\n",
      "  .. ..$ : chr [1:5] \"1\" \"2\" \"3\" \"4\" ...\n",
      "  .. ..$ : chr [1:36] \"basketball\" \"football\" \"soccer\" \"softball\" ...\n",
      " $ totss       : num 1079964\n",
      " $ withinss    : num [1:5] 56114 36039 419433 181973 248881\n",
      " $ tot.withinss: num 942439\n",
      " $ betweenss   : num 137525\n",
      " $ size        : int [1:5] 871 600 5981 1034 21514\n",
      " $ iter        : int 5\n",
      " $ ifault      : int 0\n",
      " - attr(*, \"class\")= chr \"kmeans\"\n"
     ]
    }
   ],
   "source": [
    "%%R\n",
    "str(df_clusters)"
   ]
  },
  {
   "cell_type": "code",
   "execution_count": 41,
   "metadata": {
    "collapsed": true
   },
   "outputs": [
    {
     "name": "stdout",
     "output_type": "stream",
     "text": [
      "  cluster gender    age friends\n",
      "1       5      M 18.982       7\n",
      "2       3      F 18.801       0\n",
      "3       5      M 18.335      69\n",
      "4       5      F 18.875       0\n",
      "5       4   <NA> 18.995      10\n"
     ]
    }
   ],
   "source": [
    "%%R\n",
    "##\n",
    "## Se asigna a cada ejemplo de los datos\n",
    "## el cluster al que pertenece\n",
    "##\n",
    "df$cluster <- df_clusters$cluster\n",
    "\n",
    "##\n",
    "## clusters a los que pertenecen los primeros cinco patrones\n",
    "##\n",
    "df[1:5, c(\"cluster\", \"gender\", \"age\", \"friends\")]"
   ]
  },
  {
   "cell_type": "code",
   "execution_count": 42,
   "metadata": {},
   "outputs": [
    {
     "name": "stdout",
     "output_type": "stream",
     "text": [
      "  cluster      age\n",
      "1       1 16.86497\n",
      "2       2 17.39037\n",
      "3       3 17.07656\n",
      "4       4 17.11957\n",
      "5       5 17.29849\n"
     ]
    }
   ],
   "source": [
    "%%R\n",
    "##\n",
    "## Características demográficas de los clusters.\n",
    "## Edad por cluster.\n",
    "##\n",
    "aggregate(data = df, age ~ cluster, mean)"
   ]
  },
  {
   "cell_type": "code",
   "execution_count": 43,
   "metadata": {},
   "outputs": [
    {
     "name": "stdout",
     "output_type": "stream",
     "text": [
      "  cluster    female\n",
      "1       1 0.8381171\n",
      "2       2 0.7250000\n",
      "3       3 0.8378198\n",
      "4       4 0.8027079\n",
      "5       5 0.6994515\n"
     ]
    }
   ],
   "source": [
    "%%R\n",
    "## \n",
    "## Promedio de mujeres por cluster\n",
    "##\n",
    "aggregate(data = df, female ~ cluster, mean)"
   ]
  },
  {
   "cell_type": "code",
   "execution_count": 44,
   "metadata": {
    "scrolled": true
   },
   "outputs": [
    {
     "name": "stdout",
     "output_type": "stream",
     "text": [
      "  cluster  friends\n",
      "1       1 41.43054\n",
      "2       2 32.57333\n",
      "3       3 37.16185\n",
      "4       4 30.50290\n",
      "5       5 27.70052\n"
     ]
    }
   ],
   "source": [
    "%%R\n",
    "##\n",
    "## Cantidad promedio de amigos por cluster\n",
    "##\n",
    "aggregate(data = df, friends ~ cluster, mean)"
   ]
  }
 ],
 "metadata": {
  "kernel_info": {
   "name": "python3"
  },
  "kernelspec": {
   "display_name": "Python 3",
   "language": "python",
   "name": "python3"
  },
  "language_info": {
   "codemirror_mode": {
    "name": "ipython",
    "version": 3
   },
   "file_extension": ".py",
   "mimetype": "text/x-python",
   "name": "python",
   "nbconvert_exporter": "python",
   "pygments_lexer": "ipython3",
   "version": "3.6.8"
  },
  "nteract": {
   "version": "0.7.1"
  }
 },
 "nbformat": 4,
 "nbformat_minor": 2
}
