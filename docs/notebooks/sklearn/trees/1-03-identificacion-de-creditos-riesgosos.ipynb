{
 "cells": [
  {
   "cell_type": "markdown",
   "metadata": {},
   "source": [
    "Identificación de créditos riesgosos\n",
    "===\n",
    "\n",
    "* *60 min* | Ultima modificación: Junio 22, 2019"
   ]
  },
  {
   "cell_type": "markdown",
   "metadata": {},
   "source": [
    "En el tutorial anterior se discutieron los fundamentos del uso de árboles de clasificación. En este tutorial, se presenta la identificación de créditos potencialmente riesgosos en una identidad crediticia."
   ]
  },
  {
   "cell_type": "markdown",
   "metadata": {},
   "source": [
    "## Descripción del problema"
   ]
  },
  {
   "cell_type": "markdown",
   "metadata": {},
   "source": [
    "Las entidades financieras desean mejorar sus procedimientos de aprobación de créditos con el fin de disminuir los riesgos de no pago de la deuda, lo que acarrea pérdidas a la entidad. El problema real consiste en poder decidir si se aprueba o no un crédito particular con base en información que puede ser fácilmente recolectada por teléfono o en la web."
   ]
  },
  {
   "cell_type": "markdown",
   "metadata": {},
   "source": [
    "Se tiene una muestra de 1000 observaciones. Cada registro contiene 20 atributos que recopilan información tanto sobre el crédito como sobre la salud financiera del solicitante. La información fue recolectada por una firma alemana y se puede descargar de https://archive.ics.uci.edu/ml/datasets/statlog+(german+credit+data).\n",
    "\n",
    "Los atributos y sus valores son los siguientes:\n",
    "\n",
    "     Attribute 1:  (qualitative)\n",
    "     \t      Status of existing checking account\n",
    "     \t      A11 :      ... <    0 DM\n",
    "     \t      A12 : 0 <= ... <  200 DM\n",
    "     \t      A13 :      ... >= 200 DM /\n",
    "     \t            salary assignments for at least 1 year\n",
    "     \t      A14 : no checking account\n",
    "\n",
    "     Attribute 2:  (numerical)\n",
    "     \t      Duration in month\n",
    "\n",
    "     Attribute 3:  (qualitative)\n",
    "     \t      Credit history\n",
    "     \t      A30 : no credits taken/\n",
    "     \t            all credits paid back duly\n",
    "     \t      A31 : all credits at this bank paid back duly\n",
    "     \t      A32 : existing credits paid back duly till now\n",
    "     \t      A33 : delay in paying off in the past\n",
    "     \t      A34 : critical account/\n",
    "     \t            other credits existing (not at this bank)\n",
    "\n",
    "     Attribute 4:  (qualitative)\n",
    "     \t      Purpose\n",
    "     \t      A40 : car (new)\n",
    "     \t      A41 : car (used)\n",
    "     \t      A42 : furniture/equipment\n",
    "     \t      A43 : radio/television\n",
    "     \t      A44 : domestic appliances\n",
    "     \t      A45 : repairs\n",
    "     \t      A46 : education\n",
    "     \t      A47 : (vacation - does not exist?)\n",
    "     \t      A48 : retraining\n",
    "     \t      A49 : business\n",
    "     \t      A410 : others\n",
    "\n",
    "     Attribute 5:  (numerical)\n",
    "     \t      Credit amount\n",
    "\n",
    "     Attribute 6:  (qualitative)\n",
    "     \t      Savings account/bonds\n",
    "     \t      A61 :          ... <  100 DM\n",
    "     \t      A62 :   100 <= ... <  500 DM\n",
    "     \t      A63 :   500 <= ... < 1000 DM\n",
    "     \t      A64 :          .. >= 1000 DM\n",
    "     \t      A65 :   unknown/ no savings account\n",
    "\n",
    "     Attribute 7:  (qualitative)\n",
    "     \t      Present employment since\n",
    "     \t      A71 : unemployed\n",
    "     \t      A72 :       ... < 1 year\n",
    "     \t      A73 : 1  <= ... < 4 years  \n",
    "     \t      A74 : 4  <= ... < 7 years\n",
    "     \t      A75 :       .. >= 7 years\n",
    "\n",
    "     Attribute 8:  (numerical)\n",
    "     \t      Installment rate in percentage of disposable income\n",
    "\n",
    "     Attribute 9:  (qualitative)\n",
    "     \t      Personal status and sex\n",
    "     \t      A91 : male   : divorced/separated\n",
    "     \t      A92 : female : divorced/separated/married\n",
    "     \t      A93 : male   : single\n",
    "     \t      A94 : male   : married/widowed\n",
    "     \t      A95 : female : single\n",
    "\n",
    "     Attribute 10: (qualitative)\n",
    "     \t      Other debtors / guarantors\n",
    "     \t      A101 : none\n",
    "     \t      A102 : co-applicant\n",
    "     \t      A103 : guarantor\n",
    "\n",
    "     Attribute 11: (numerical)\n",
    "     \t      Present residence since\n",
    "\n",
    "     Attribute 12: (qualitative)\n",
    "     \t      Property\n",
    "     \t      A121 : real estate\n",
    "     \t      A122 : if not A121 : building society savings agreement/\n",
    "     \t\t\t\t   life insurance\n",
    "     \t      A123 : if not A121/A122 : car or other, not in attribute 6\n",
    "     \t      A124 : unknown / no property\n",
    "\n",
    "     Attribute 13: (numerical)\n",
    "     \t      Age in years\n",
    "\n",
    "     Attribute 14: (qualitative)\n",
    "     \t      Other installment plans \n",
    "     \t      A141 : bank\n",
    "     \t      A142 : stores\n",
    "     \t      A143 : none\n",
    "\n",
    "     Attribute 15: (qualitative)\n",
    "     \t      Housing\n",
    "     \t      A151 : rent\n",
    "     \t      A152 : own\n",
    "     \t      A153 : for free\n",
    "\n",
    "     Attribute 16: (numerical)\n",
    "              Number of existing credits at this bank\n",
    "\n",
    "     Attribute 17: (qualitative)\n",
    "     \t      Job\n",
    "     \t      A171 : unemployed/ unskilled  - non-resident\n",
    "     \t      A172 : unskilled - resident\n",
    "     \t      A173 : skilled employee / official\n",
    "     \t      A174 : management/ self-employed/\n",
    "     \t\t         highly qualified employee/ officer\n",
    "\n",
    "     Attribute 18: (numerical)\n",
    "     \t      Number of people being liable to provide maintenance for\n",
    "\n",
    "     Attribute 19: (qualitative)\n",
    "     \t      Telephone\n",
    "     \t      A191 : none\n",
    "     \t      A192 : yes, registered under the customers name\n",
    "\n",
    "     Attribute 20: (qualitative)\n",
    "     \t      foreign worker\n",
    "     \t      A201 : yes\n",
    "     \t      A202 : no\n"
   ]
  },
  {
   "cell_type": "markdown",
   "metadata": {},
   "source": [
    "## Preparación"
   ]
  },
  {
   "cell_type": "code",
   "execution_count": 1,
   "metadata": {},
   "outputs": [],
   "source": [
    "import pandas as pd\n",
    "import numpy as np\n",
    "import seaborn as sns\n",
    "import matplotlib.pyplot as plt\n",
    "%matplotlib inline\n",
    "%load_ext rpy2.ipython"
   ]
  },
  {
   "cell_type": "markdown",
   "metadata": {},
   "source": [
    "## Carga de datos"
   ]
  },
  {
   "cell_type": "code",
   "execution_count": 2,
   "metadata": {},
   "outputs": [
    {
     "name": "stdout",
     "output_type": "stream",
     "text": [
      "<class 'pandas.core.frame.DataFrame'>\n",
      "RangeIndex: 1000 entries, 0 to 999\n",
      "Data columns (total 21 columns):\n",
      "checking_balance        1000 non-null object\n",
      "months_loan_duration    1000 non-null int64\n",
      "credit_history          1000 non-null object\n",
      "purpose                 1000 non-null object\n",
      "amount                  1000 non-null int64\n",
      "savings_balance         1000 non-null object\n",
      "employment_length       1000 non-null object\n",
      "installment_rate        1000 non-null int64\n",
      "personal_status         1000 non-null object\n",
      "other_debtors           1000 non-null object\n",
      "residence_history       1000 non-null int64\n",
      "property                1000 non-null object\n",
      "age                     1000 non-null int64\n",
      "installment_plan        1000 non-null object\n",
      "housing                 1000 non-null object\n",
      "existing_credits        1000 non-null int64\n",
      "default                 1000 non-null int64\n",
      "dependents              1000 non-null int64\n",
      "telephone               1000 non-null object\n",
      "foreign_worker          1000 non-null object\n",
      "job                     1000 non-null object\n",
      "dtypes: int64(8), object(13)\n",
      "memory usage: 164.1+ KB\n"
     ]
    }
   ],
   "source": [
    "##\n",
    "## Lee el archivo. \n",
    "##\n",
    "df = pd.read_csv(\n",
    "    \"https://raw.githubusercontent.com/jdvelasq/datalabs/master/datasets/credit.csv\",\n",
    "    sep = ',',           # separador de campos\n",
    "    thousands = None,    # separador de miles para números\n",
    "    decimal = '.',       # separador de los decimales para números\n",
    "    encoding='latin-1')  # idioma\n",
    "\n",
    "##\n",
    "## Verifica la lectura de los datos\n",
    "##\n",
    "df.info()"
   ]
  },
  {
   "cell_type": "code",
   "execution_count": 3,
   "metadata": {},
   "outputs": [
    {
     "data": {
      "text/html": [
       "<div>\n",
       "<style scoped>\n",
       "    .dataframe tbody tr th:only-of-type {\n",
       "        vertical-align: middle;\n",
       "    }\n",
       "\n",
       "    .dataframe tbody tr th {\n",
       "        vertical-align: top;\n",
       "    }\n",
       "\n",
       "    .dataframe thead th {\n",
       "        text-align: right;\n",
       "    }\n",
       "</style>\n",
       "<table border=\"1\" class=\"dataframe\">\n",
       "  <thead>\n",
       "    <tr style=\"text-align: right;\">\n",
       "      <th></th>\n",
       "      <th>checking_balance</th>\n",
       "      <th>months_loan_duration</th>\n",
       "      <th>credit_history</th>\n",
       "      <th>purpose</th>\n",
       "      <th>amount</th>\n",
       "      <th>savings_balance</th>\n",
       "      <th>employment_length</th>\n",
       "      <th>installment_rate</th>\n",
       "      <th>personal_status</th>\n",
       "      <th>other_debtors</th>\n",
       "      <th>...</th>\n",
       "      <th>property</th>\n",
       "      <th>age</th>\n",
       "      <th>installment_plan</th>\n",
       "      <th>housing</th>\n",
       "      <th>existing_credits</th>\n",
       "      <th>default</th>\n",
       "      <th>dependents</th>\n",
       "      <th>telephone</th>\n",
       "      <th>foreign_worker</th>\n",
       "      <th>job</th>\n",
       "    </tr>\n",
       "  </thead>\n",
       "  <tbody>\n",
       "    <tr>\n",
       "      <th>0</th>\n",
       "      <td>&lt; 0 DM</td>\n",
       "      <td>6</td>\n",
       "      <td>critical</td>\n",
       "      <td>radio/tv</td>\n",
       "      <td>1169</td>\n",
       "      <td>unknown</td>\n",
       "      <td>&gt; 7 yrs</td>\n",
       "      <td>4</td>\n",
       "      <td>single male</td>\n",
       "      <td>none</td>\n",
       "      <td>...</td>\n",
       "      <td>real estate</td>\n",
       "      <td>67</td>\n",
       "      <td>none</td>\n",
       "      <td>own</td>\n",
       "      <td>2</td>\n",
       "      <td>1</td>\n",
       "      <td>1</td>\n",
       "      <td>yes</td>\n",
       "      <td>yes</td>\n",
       "      <td>skilled employee</td>\n",
       "    </tr>\n",
       "    <tr>\n",
       "      <th>1</th>\n",
       "      <td>1 - 200 DM</td>\n",
       "      <td>48</td>\n",
       "      <td>repaid</td>\n",
       "      <td>radio/tv</td>\n",
       "      <td>5951</td>\n",
       "      <td>&lt; 100 DM</td>\n",
       "      <td>1 - 4 yrs</td>\n",
       "      <td>2</td>\n",
       "      <td>female</td>\n",
       "      <td>none</td>\n",
       "      <td>...</td>\n",
       "      <td>real estate</td>\n",
       "      <td>22</td>\n",
       "      <td>none</td>\n",
       "      <td>own</td>\n",
       "      <td>1</td>\n",
       "      <td>2</td>\n",
       "      <td>1</td>\n",
       "      <td>none</td>\n",
       "      <td>yes</td>\n",
       "      <td>skilled employee</td>\n",
       "    </tr>\n",
       "    <tr>\n",
       "      <th>2</th>\n",
       "      <td>unknown</td>\n",
       "      <td>12</td>\n",
       "      <td>critical</td>\n",
       "      <td>education</td>\n",
       "      <td>2096</td>\n",
       "      <td>&lt; 100 DM</td>\n",
       "      <td>4 - 7 yrs</td>\n",
       "      <td>2</td>\n",
       "      <td>single male</td>\n",
       "      <td>none</td>\n",
       "      <td>...</td>\n",
       "      <td>real estate</td>\n",
       "      <td>49</td>\n",
       "      <td>none</td>\n",
       "      <td>own</td>\n",
       "      <td>1</td>\n",
       "      <td>1</td>\n",
       "      <td>2</td>\n",
       "      <td>none</td>\n",
       "      <td>yes</td>\n",
       "      <td>unskilled resident</td>\n",
       "    </tr>\n",
       "    <tr>\n",
       "      <th>3</th>\n",
       "      <td>&lt; 0 DM</td>\n",
       "      <td>42</td>\n",
       "      <td>repaid</td>\n",
       "      <td>furniture</td>\n",
       "      <td>7882</td>\n",
       "      <td>&lt; 100 DM</td>\n",
       "      <td>4 - 7 yrs</td>\n",
       "      <td>2</td>\n",
       "      <td>single male</td>\n",
       "      <td>guarantor</td>\n",
       "      <td>...</td>\n",
       "      <td>building society savings</td>\n",
       "      <td>45</td>\n",
       "      <td>none</td>\n",
       "      <td>for free</td>\n",
       "      <td>1</td>\n",
       "      <td>1</td>\n",
       "      <td>2</td>\n",
       "      <td>none</td>\n",
       "      <td>yes</td>\n",
       "      <td>skilled employee</td>\n",
       "    </tr>\n",
       "    <tr>\n",
       "      <th>4</th>\n",
       "      <td>&lt; 0 DM</td>\n",
       "      <td>24</td>\n",
       "      <td>delayed</td>\n",
       "      <td>car (new)</td>\n",
       "      <td>4870</td>\n",
       "      <td>&lt; 100 DM</td>\n",
       "      <td>1 - 4 yrs</td>\n",
       "      <td>3</td>\n",
       "      <td>single male</td>\n",
       "      <td>none</td>\n",
       "      <td>...</td>\n",
       "      <td>unknown/none</td>\n",
       "      <td>53</td>\n",
       "      <td>none</td>\n",
       "      <td>for free</td>\n",
       "      <td>2</td>\n",
       "      <td>2</td>\n",
       "      <td>2</td>\n",
       "      <td>none</td>\n",
       "      <td>yes</td>\n",
       "      <td>skilled employee</td>\n",
       "    </tr>\n",
       "  </tbody>\n",
       "</table>\n",
       "<p>5 rows × 21 columns</p>\n",
       "</div>"
      ],
      "text/plain": [
       "  checking_balance  months_loan_duration credit_history    purpose  amount  \\\n",
       "0           < 0 DM                     6       critical   radio/tv    1169   \n",
       "1       1 - 200 DM                    48         repaid   radio/tv    5951   \n",
       "2          unknown                    12       critical  education    2096   \n",
       "3           < 0 DM                    42         repaid  furniture    7882   \n",
       "4           < 0 DM                    24        delayed  car (new)    4870   \n",
       "\n",
       "  savings_balance employment_length  installment_rate personal_status  \\\n",
       "0         unknown           > 7 yrs                 4     single male   \n",
       "1        < 100 DM         1 - 4 yrs                 2          female   \n",
       "2        < 100 DM         4 - 7 yrs                 2     single male   \n",
       "3        < 100 DM         4 - 7 yrs                 2     single male   \n",
       "4        < 100 DM         1 - 4 yrs                 3     single male   \n",
       "\n",
       "  other_debtors  ...                  property age  installment_plan  \\\n",
       "0          none  ...               real estate  67              none   \n",
       "1          none  ...               real estate  22              none   \n",
       "2          none  ...               real estate  49              none   \n",
       "3     guarantor  ...  building society savings  45              none   \n",
       "4          none  ...              unknown/none  53              none   \n",
       "\n",
       "    housing existing_credits  default  dependents  telephone foreign_worker  \\\n",
       "0       own                2        1           1        yes            yes   \n",
       "1       own                1        2           1       none            yes   \n",
       "2       own                1        1           2       none            yes   \n",
       "3  for free                1        1           2       none            yes   \n",
       "4  for free                2        2           2       none            yes   \n",
       "\n",
       "                  job  \n",
       "0    skilled employee  \n",
       "1    skilled employee  \n",
       "2  unskilled resident  \n",
       "3    skilled employee  \n",
       "4    skilled employee  \n",
       "\n",
       "[5 rows x 21 columns]"
      ]
     },
     "execution_count": 3,
     "metadata": {},
     "output_type": "execute_result"
    }
   ],
   "source": [
    "##\n",
    "## Contenido del archivo\n",
    "##\n",
    "df.head()"
   ]
  },
  {
   "cell_type": "code",
   "execution_count": 4,
   "metadata": {},
   "outputs": [
    {
     "data": {
      "text/plain": [
       "checking_balance        object\n",
       "months_loan_duration     int64\n",
       "credit_history          object\n",
       "purpose                 object\n",
       "amount                   int64\n",
       "savings_balance         object\n",
       "employment_length       object\n",
       "installment_rate         int64\n",
       "personal_status         object\n",
       "other_debtors           object\n",
       "residence_history        int64\n",
       "property                object\n",
       "age                      int64\n",
       "installment_plan        object\n",
       "housing                 object\n",
       "existing_credits         int64\n",
       "default                  int64\n",
       "dependents               int64\n",
       "telephone               object\n",
       "foreign_worker          object\n",
       "job                     object\n",
       "dtype: object"
      ]
     },
     "execution_count": 4,
     "metadata": {},
     "output_type": "execute_result"
    }
   ],
   "source": [
    "##\n",
    "## Se verifican los tipos de datos de las columnas \n",
    "##\n",
    "df.dtypes"
   ]
  },
  {
   "cell_type": "markdown",
   "metadata": {},
   "source": [
    "### Análisis Exploratorio"
   ]
  },
  {
   "cell_type": "code",
   "execution_count": 5,
   "metadata": {},
   "outputs": [
    {
     "data": {
      "text/plain": [
       "unknown       394\n",
       "< 0 DM        274\n",
       "1 - 200 DM    269\n",
       "> 200 DM       63\n",
       "Name: checking_balance, dtype: int64"
      ]
     },
     "execution_count": 5,
     "metadata": {},
     "output_type": "execute_result"
    }
   ],
   "source": [
    "##\n",
    "## Algunas de las columnas son numéricas y \n",
    "## las otras son factores.\n",
    "## DM corresponde a Deutsche Marks\n",
    "## se verifican algunos valores versus el code book.\n",
    "##\n",
    "df.checking_balance.value_counts()"
   ]
  },
  {
   "cell_type": "code",
   "execution_count": 6,
   "metadata": {},
   "outputs": [
    {
     "data": {
      "text/plain": [
       "< 100 DM         603\n",
       "unknown          183\n",
       "101 - 500 DM     103\n",
       "501 - 1000 DM     63\n",
       "> 1000 DM         48\n",
       "Name: savings_balance, dtype: int64"
      ]
     },
     "execution_count": 6,
     "metadata": {},
     "output_type": "execute_result"
    }
   ],
   "source": [
    "df.savings_balance.value_counts()"
   ]
  },
  {
   "cell_type": "code",
   "execution_count": 7,
   "metadata": {},
   "outputs": [
    {
     "data": {
      "text/plain": [
       "count     1000.000000\n",
       "mean      3271.258000\n",
       "std       2822.736876\n",
       "min        250.000000\n",
       "25%       1365.500000\n",
       "50%       2319.500000\n",
       "75%       3972.250000\n",
       "max      18424.000000\n",
       "Name: amount, dtype: float64"
      ]
     },
     "execution_count": 7,
     "metadata": {},
     "output_type": "execute_result"
    }
   ],
   "source": [
    "##\n",
    "## El monto del préstamo va desde 250 DM hasta 18.424 DM\n",
    "##\n",
    "df.amount.describe()"
   ]
  },
  {
   "cell_type": "code",
   "execution_count": 8,
   "metadata": {},
   "outputs": [
    {
     "data": {
      "text/plain": [
       "count    1000.000000\n",
       "mean       20.903000\n",
       "std        12.058814\n",
       "min         4.000000\n",
       "25%        12.000000\n",
       "50%        18.000000\n",
       "75%        24.000000\n",
       "max        72.000000\n",
       "Name: months_loan_duration, dtype: float64"
      ]
     },
     "execution_count": 8,
     "metadata": {},
     "output_type": "execute_result"
    }
   ],
   "source": [
    "##\n",
    "## La duración del préstamo va desde 4 hasta 72 meses\n",
    "##\n",
    "df.months_loan_duration.describe()"
   ]
  },
  {
   "cell_type": "code",
   "execution_count": 9,
   "metadata": {},
   "outputs": [
    {
     "data": {
      "text/plain": [
       "1    700\n",
       "2    300\n",
       "Name: default, dtype: int64"
      ]
     },
     "execution_count": 9,
     "metadata": {},
     "output_type": "execute_result"
    }
   ],
   "source": [
    "##\n",
    "## La columna default indica si hubo problemas \n",
    "## en el pago del préstamo (1- pago, 2- no pago)\n",
    "## esta es la columna que se desea pronosticar\n",
    "## 1-si, 2-no\n",
    "##\n",
    "df.default.value_counts()"
   ]
  },
  {
   "cell_type": "markdown",
   "metadata": {},
   "source": [
    "### Preprocesamiento"
   ]
  },
  {
   "cell_type": "code",
   "execution_count": 10,
   "metadata": {},
   "outputs": [],
   "source": [
    "from sklearn.preprocessing import LabelEncoder\n",
    "\n",
    "##\n",
    "## Se construye un codificador para transformar\n",
    "## los strings a enteros (similar a factores en R)\n",
    "##\n",
    "enc = LabelEncoder()\n",
    "\n",
    "##\n",
    "## Se aplica el codificador a las columnas\n",
    "## del dataset\n",
    "##\n",
    "df[\"checking_balance\"] = enc.fit_transform(df[\"checking_balance\"])\n",
    "df[\"credit_history\"] = enc.fit_transform(df[\"credit_history\"])\n",
    "df[\"purpose\"] = enc.fit_transform(df[\"purpose\"])\n",
    "df[\"savings_balance\"] = enc.fit_transform(df[\"savings_balance\"])\n",
    "df[\"employment_length\"] = enc.fit_transform(df[\"employment_length\"])\n",
    "df[\"personal_status\"] = enc.fit_transform(df[\"personal_status\"])\n",
    "df[\"other_debtors\"] = enc.fit_transform(df[\"other_debtors\"])\n",
    "df[\"property\"] = enc.fit_transform(df[\"property\"])\n",
    "df[\"installment_plan\"] = enc.fit_transform(df[\"installment_plan\"])\n",
    "df[\"housing\"] = enc.fit_transform(df[\"housing\"])\n",
    "df[\"telephone\"] = enc.fit_transform(df[\"telephone\"])\n",
    "df[\"foreign_worker\"] = enc.fit_transform(df[\"foreign_worker\"])\n",
    "df[\"job\"] = enc.fit_transform(df[\"job\"])"
   ]
  },
  {
   "cell_type": "markdown",
   "metadata": {},
   "source": [
    "### Entrenamiento del modelo"
   ]
  },
  {
   "cell_type": "code",
   "execution_count": 11,
   "metadata": {},
   "outputs": [],
   "source": [
    "##\n",
    "## Se usa el 90% de los datos para entrenamiento \n",
    "## y el 10% restante para prueba\n",
    "##\n",
    "train_sample = list(range(900))\n",
    "test_sample  = list(range(900, 1000))\n",
    "\n",
    "##\n",
    "## Genera los conjuntos de entrenamiento y prueba\n",
    "##\n",
    "X_train = df.iloc[train_sample,:].copy()\n",
    "X_test  = df.iloc[test_sample,:].copy()\n",
    "\n",
    "##\n",
    "## Se elimina la columna default que \n",
    "## corresponde a la variable de salida\n",
    "##\n",
    "X_train.drop('default', axis=1, inplace=True)\n",
    "X_test.drop('default', axis=1, inplace=True)\n",
    "\n",
    "##\n",
    "## Se genera la variable dependiente\n",
    "##\n",
    "y_train_true = df.default[train_sample]\n",
    "y_test_true  = df.default[test_sample]"
   ]
  },
  {
   "cell_type": "code",
   "execution_count": 12,
   "metadata": {},
   "outputs": [
    {
     "data": {
      "text/plain": [
       "array([[48, 20],\n",
       "       [20, 12]])"
      ]
     },
     "execution_count": 12,
     "metadata": {},
     "output_type": "execute_result"
    }
   ],
   "source": [
    "##\n",
    "## Construcción del arbol de clasificación\n",
    "##\n",
    "from sklearn.tree import DecisionTreeClassifier\n",
    "\n",
    "##\n",
    "## Se construye el arbol\n",
    "##\n",
    "clf = DecisionTreeClassifier()\n",
    "\n",
    "##\n",
    "## Se entrena para los datos de prueba\n",
    "##\n",
    "clf.fit(X_train, y_train_true)\n",
    "\n",
    "##\n",
    "## Se pronostica para la muestra de prueba\n",
    "##\n",
    "y_test_pred = clf.predict(X_test)\n",
    "\n",
    "##\n",
    "## Métricas de desempeño\n",
    "##\n",
    "from sklearn.metrics import confusion_matrix\n",
    "confusion_matrix(y_test_true, y_test_pred)"
   ]
  },
  {
   "cell_type": "code",
   "execution_count": 13,
   "metadata": {},
   "outputs": [
    {
     "name": "stdout",
     "output_type": "stream",
     "text": [
      "\n",
      " \n",
      "   Cell Contents\n",
      "|-------------------------|\n",
      "|                       N |\n",
      "|           N / Row Total |\n",
      "|           N / Col Total |\n",
      "|         N / Table Total |\n",
      "|-------------------------|\n",
      "\n",
      " \n",
      "Total Observations in Table:  100 \n",
      "\n",
      " \n",
      "             | y_test_pred \n",
      " y_test_true |         1 |         2 | Row Total | \n",
      "-------------|-----------|-----------|-----------|\n",
      "           1 |        48 |        20 |        68 | \n",
      "             |     0.706 |     0.294 |     0.680 | \n",
      "             |     0.706 |     0.625 |           | \n",
      "             |     0.480 |     0.200 |           | \n",
      "-------------|-----------|-----------|-----------|\n",
      "           2 |        20 |        12 |        32 | \n",
      "             |     0.625 |     0.375 |     0.320 | \n",
      "             |     0.294 |     0.375 |           | \n",
      "             |     0.200 |     0.120 |           | \n",
      "-------------|-----------|-----------|-----------|\n",
      "Column Total |        68 |        32 |       100 | \n",
      "             |     0.680 |     0.320 |           | \n",
      "-------------|-----------|-----------|-----------|\n",
      "\n",
      " \n"
     ]
    }
   ],
   "source": [
    "%%R -i y_test_true -i y_test_pred\n",
    "##\n",
    "## La función CrossTable del paquete gmodels\n",
    "## entrega información más detallada.\n",
    "## install.packages(\"gmodels\")\n",
    "##\n",
    "library(gmodels)\n",
    "CrossTable(x = y_test_true, \n",
    "           y = y_test_pred,\n",
    "           prop.chisq=FALSE)"
   ]
  },
  {
   "cell_type": "markdown",
   "metadata": {},
   "source": [
    "## Solución usando R"
   ]
  },
  {
   "cell_type": "code",
   "execution_count": 14,
   "metadata": {},
   "outputs": [
    {
     "name": "stdout",
     "output_type": "stream",
     "text": [
      "'data.frame':\t1000 obs. of  21 variables:\n",
      " $ checking_balance    : int  1 0 3 1 1 3 3 0 3 0 ...\n",
      " $ months_loan_duration: int  6 48 12 42 24 36 24 36 12 30 ...\n",
      " $ credit_history      : int  0 4 0 4 1 4 4 4 4 0 ...\n",
      " $ purpose             : int  7 7 4 5 1 4 5 2 7 1 ...\n",
      " $ amount              : int  1169 5951 2096 7882 4870 9055 2835 6948 3059 5234 ...\n",
      " $ savings_balance     : int  4 2 2 2 2 4 1 2 3 2 ...\n",
      " $ employment_length   : int  3 1 2 2 1 1 3 1 2 4 ...\n",
      " $ installment_rate    : int  4 2 2 2 3 2 3 2 2 4 ...\n",
      " $ personal_status     : int  3 1 3 3 3 3 3 3 0 2 ...\n",
      " $ other_debtors       : int  2 2 2 1 2 2 2 2 2 2 ...\n",
      " $ residence_history   : int  4 2 3 4 4 4 4 2 4 2 ...\n",
      " $ property            : int  2 2 2 0 3 3 0 1 2 1 ...\n",
      " $ age                 : int  67 22 49 45 53 35 53 35 61 28 ...\n",
      " $ installment_plan    : int  1 1 1 1 1 1 1 1 1 1 ...\n",
      " $ housing             : int  1 1 1 0 0 0 1 2 1 1 ...\n",
      " $ existing_credits    : int  2 1 1 1 2 1 1 1 1 2 ...\n",
      " $ default             : int  1 2 1 1 2 1 1 1 1 2 ...\n",
      " $ dependents          : int  1 1 2 2 2 2 1 1 1 1 ...\n",
      " $ telephone           : int  1 0 0 0 0 1 0 1 0 0 ...\n",
      " $ foreign_worker      : int  1 1 1 1 1 1 1 1 1 1 ...\n",
      " $ job                 : int  1 1 3 1 1 3 1 0 3 0 ...\n"
     ]
    }
   ],
   "source": [
    "%%R -i df\n",
    "str(df)"
   ]
  },
  {
   "cell_type": "markdown",
   "metadata": {},
   "source": [
    "### Análisis exploratorio"
   ]
  },
  {
   "cell_type": "code",
   "execution_count": 15,
   "metadata": {},
   "outputs": [
    {
     "name": "stdout",
     "output_type": "stream",
     "text": [
      "\n",
      "  0   1   2   3 \n",
      "269 274  63 394 \n"
     ]
    }
   ],
   "source": [
    "%%R\n",
    "##\n",
    "## Algunas de las columnas son numéricas y \n",
    "## las otras son factores.\n",
    "## DM corresponde a Deutsche Marks\n",
    "## se verifican algunos valores versus el code book.\n",
    "##\n",
    "table(df$checking_balance)"
   ]
  },
  {
   "cell_type": "code",
   "execution_count": 16,
   "metadata": {},
   "outputs": [
    {
     "name": "stdout",
     "output_type": "stream",
     "text": [
      "\n",
      "  0   1   2   3   4 \n",
      "103  63 603  48 183 \n"
     ]
    }
   ],
   "source": [
    "%%R\n",
    "table(df$savings_balance)"
   ]
  },
  {
   "cell_type": "code",
   "execution_count": 17,
   "metadata": {},
   "outputs": [
    {
     "name": "stdout",
     "output_type": "stream",
     "text": [
      "   Min. 1st Qu.  Median    Mean 3rd Qu.    Max. \n",
      "    250    1366    2320    3271    3972   18424 \n"
     ]
    }
   ],
   "source": [
    "%%R\n",
    "##\n",
    "## El monto del préstamo va desde 250 DM hasta 18.424 DM\n",
    "##\n",
    "summary(df$amount)"
   ]
  },
  {
   "cell_type": "code",
   "execution_count": 18,
   "metadata": {},
   "outputs": [
    {
     "name": "stdout",
     "output_type": "stream",
     "text": [
      "   Min. 1st Qu.  Median    Mean 3rd Qu.    Max. \n",
      "    4.0    12.0    18.0    20.9    24.0    72.0 \n"
     ]
    }
   ],
   "source": [
    "%%R\n",
    "##\n",
    "## La duración del préstamo va desde 4 hasta 72 meses\n",
    "##\n",
    "summary(df$months_loan_duration)"
   ]
  },
  {
   "cell_type": "code",
   "execution_count": 19,
   "metadata": {},
   "outputs": [
    {
     "name": "stdout",
     "output_type": "stream",
     "text": [
      "\n",
      "  1   2 \n",
      "700 300 \n"
     ]
    }
   ],
   "source": [
    "%%R\n",
    "##\n",
    "## La columna default indica si hubo problemas \n",
    "## en el pago del préstamo (1- pago, 2- no pago)\n",
    "## esta es la columna que se desea pronosticar\n",
    "## 1-si, 2-no\n",
    "##\n",
    "table(df$default)"
   ]
  },
  {
   "cell_type": "code",
   "execution_count": 20,
   "metadata": {},
   "outputs": [
    {
     "name": "stdout",
     "output_type": "stream",
     "text": [
      "\n",
      " No Yes \n",
      "700 300 \n"
     ]
    }
   ],
   "source": [
    "%%R\n",
    "##\n",
    "## Se convierte la columna default a \n",
    "## factores para su manejo en R\n",
    "##\n",
    "df$default <- factor(df$default, labels=c(\"No\", \"Yes\"))\n",
    "table(df$default)"
   ]
  },
  {
   "cell_type": "markdown",
   "metadata": {},
   "source": [
    "### Entrenamiento del modelo"
   ]
  },
  {
   "cell_type": "code",
   "execution_count": 21,
   "metadata": {},
   "outputs": [
    {
     "name": "stdout",
     "output_type": "stream",
     "text": [
      "\n",
      "       No       Yes \n",
      "0.7022222 0.2977778 \n"
     ]
    }
   ],
   "source": [
    "%%R\n",
    "##\n",
    "## Se usa el 90% de los datos para entrenamiento \n",
    "## y el 10% restante para prueba\n",
    "##\n",
    "train_sample <- 1:900\n",
    "\n",
    "##\n",
    "## Genera los conjuntos de entrenamiento y prueba. La\n",
    "## columna 17 es la variable dependiente\n",
    "##\n",
    "df_train     <- df[train_sample,]\n",
    "df_test      <- df[-train_sample,]\n",
    "\n",
    "##\n",
    "## Se verifica la proporción entre créditos pagados\n",
    "## y no pagados en los dos conjuntos de datos\n",
    "## conjunto de entrenamiento\n",
    "##\n",
    "prop.table(table(df_train$defaul))"
   ]
  },
  {
   "cell_type": "code",
   "execution_count": 22,
   "metadata": {},
   "outputs": [
    {
     "name": "stdout",
     "output_type": "stream",
     "text": [
      "\n",
      "  No  Yes \n",
      "0.68 0.32 \n"
     ]
    }
   ],
   "source": [
    "%%R\n",
    "##\n",
    "## Proporción de casos para el conjunto de prueba\n",
    "##\n",
    "prop.table(table(df_test$default))"
   ]
  },
  {
   "cell_type": "code",
   "execution_count": 23,
   "metadata": {},
   "outputs": [
    {
     "name": "stdout",
     "output_type": "stream",
     "text": [
      "Call:\n",
      "rpart(formula = default ~ ., data = df_train)\n",
      "  n= 900 \n",
      "\n",
      "          CP nsplit rel error    xerror       xstd\n",
      "1 0.03482587      0 1.0000000 1.0000000 0.05118820\n",
      "2 0.02238806      5 0.7873134 0.9962687 0.05113302\n",
      "3 0.01492537      7 0.7425373 0.8805970 0.04923614\n",
      "4 0.01368159      9 0.7126866 0.8582090 0.04882534\n",
      "5 0.01119403     12 0.6716418 0.8619403 0.04889484\n",
      "6 0.01000000     13 0.6604478 0.8395522 0.04847157\n",
      "\n",
      "Variable importance\n",
      "    checking_balance months_loan_duration               amount \n",
      "                  30                   17                   15 \n",
      "      credit_history      savings_balance        other_debtors \n",
      "                   8                    6                    5 \n",
      "    installment_rate                  age     existing_credits \n",
      "                   4                    4                    4 \n",
      "             purpose            telephone    employment_length \n",
      "                   4                    1                    1 \n",
      "          dependents             property \n",
      "                   1                    1 \n",
      "\n",
      "Node number 1: 900 observations,    complexity param=0.03482587\n",
      "  predicted class=No   expected loss=0.2977778  P(node) =1\n",
      "    class counts:   632   268\n",
      "   probabilities: 0.702 0.298 \n",
      "  left son=2 (414 obs) right son=3 (486 obs)\n",
      "  Primary splits:\n",
      "      checking_balance     < 1.5     to the right, improve=44.187500, (0 missing)\n",
      "      credit_history       < 0.5     to the left,  improve=12.332640, (0 missing)\n",
      "      months_loan_duration < 34.5    to the left,  improve=12.180660, (0 missing)\n",
      "      amount               < 10918   to the left,  improve= 9.173089, (0 missing)\n",
      "      savings_balance      < 2.5     to the right, improve= 7.320726, (0 missing)\n",
      "  Surrogate splits:\n",
      "      credit_history       < 0.5     to the left,  agree=0.594, adj=0.118, (0 split)\n",
      "      savings_balance      < 2.5     to the right, agree=0.581, adj=0.089, (0 split)\n",
      "      purpose              < 6.5     to the right, agree=0.556, adj=0.034, (0 split)\n",
      "      months_loan_duration < 6.5     to the left,  agree=0.553, adj=0.029, (0 split)\n",
      "      existing_credits     < 1.5     to the right, agree=0.551, adj=0.024, (0 split)\n",
      "\n",
      "Node number 2: 414 observations\n",
      "  predicted class=No   expected loss=0.1280193  P(node) =0.46\n",
      "    class counts:   361    53\n",
      "   probabilities: 0.872 0.128 \n",
      "\n",
      "Node number 3: 486 observations,    complexity param=0.03482587\n",
      "  predicted class=No   expected loss=0.4423868  P(node) =0.54\n",
      "    class counts:   271   215\n",
      "   probabilities: 0.558 0.442 \n",
      "  left son=6 (77 obs) right son=7 (409 obs)\n",
      "  Primary splits:\n",
      "      months_loan_duration < 11.5    to the left,  improve=10.070930, (0 missing)\n",
      "      credit_history       < 1.5     to the left,  improve= 7.089452, (0 missing)\n",
      "      amount               < 10841.5 to the left,  improve= 5.029148, (0 missing)\n",
      "      savings_balance      < 2.5     to the right, improve= 4.808546, (0 missing)\n",
      "      property             < 2.5     to the left,  improve= 4.383809, (0 missing)\n",
      "  Surrogate splits:\n",
      "      amount         < 527.5   to the left,  agree=0.856, adj=0.091, (0 split)\n",
      "      age            < 66.5    to the right, agree=0.846, adj=0.026, (0 split)\n",
      "      foreign_worker < 0.5     to the left,  agree=0.844, adj=0.013, (0 split)\n",
      "\n",
      "Node number 6: 77 observations\n",
      "  predicted class=No   expected loss=0.2077922  P(node) =0.08555556\n",
      "    class counts:    61    16\n",
      "   probabilities: 0.792 0.208 \n",
      "\n",
      "Node number 7: 409 observations,    complexity param=0.03482587\n",
      "  predicted class=No   expected loss=0.4865526  P(node) =0.4544444\n",
      "    class counts:   210   199\n",
      "   probabilities: 0.513 0.487 \n",
      "  left son=14 (311 obs) right son=15 (98 obs)\n",
      "  Primary splits:\n",
      "      months_loan_duration < 31.5    to the left,  improve=6.297416, (0 missing)\n",
      "      savings_balance      < 2.5     to the right, improve=5.725306, (0 missing)\n",
      "      credit_history       < 1.5     to the left,  improve=5.511386, (0 missing)\n",
      "      installment_rate     < 2.5     to the left,  improve=4.479824, (0 missing)\n",
      "      checking_balance     < 0.5     to the left,  improve=3.451949, (0 missing)\n",
      "  Surrogate splits:\n",
      "      amount   < 6648    to the left,  agree=0.817, adj=0.235, (0 split)\n",
      "      property < 2.5     to the left,  agree=0.765, adj=0.020, (0 split)\n",
      "\n",
      "Node number 14: 311 observations,    complexity param=0.03482587\n",
      "  predicted class=No   expected loss=0.437299  P(node) =0.3455556\n",
      "    class counts:   175   136\n",
      "   probabilities: 0.563 0.437 \n",
      "  left son=28 (222 obs) right son=29 (89 obs)\n",
      "  Primary splits:\n",
      "      amount           < 1381.5  to the right, improve=7.159329, (0 missing)\n",
      "      credit_history   < 1.5     to the left,  improve=5.254683, (0 missing)\n",
      "      checking_balance < 0.5     to the left,  improve=3.284545, (0 missing)\n",
      "      installment_rate < 2.5     to the left,  improve=3.112680, (0 missing)\n",
      "      personal_status  < 2.5     to the right, improve=2.872844, (0 missing)\n",
      "  Surrogate splits:\n",
      "      months_loan_duration < 12.5    to the right, agree=0.730, adj=0.056, (0 split)\n",
      "      purpose              < 8.5     to the left,  agree=0.720, adj=0.022, (0 split)\n",
      "      existing_credits     < 3.5     to the left,  agree=0.717, adj=0.011, (0 split)\n",
      "\n",
      "Node number 15: 98 observations,    complexity param=0.02238806\n",
      "  predicted class=Yes  expected loss=0.3571429  P(node) =0.1088889\n",
      "    class counts:    35    63\n",
      "   probabilities: 0.357 0.643 \n",
      "  left son=30 (14 obs) right son=31 (84 obs)\n",
      "  Primary splits:\n",
      "      savings_balance   < 3.5     to the right, improve=4.166667, (0 missing)\n",
      "      age               < 29.5    to the right, improve=2.688889, (0 missing)\n",
      "      installment_rate  < 2.5     to the left,  improve=1.507168, (0 missing)\n",
      "      job               < 1.5     to the right, improve=1.399225, (0 missing)\n",
      "      residence_history < 1.5     to the left,  improve=1.399225, (0 missing)\n",
      "\n",
      "Node number 28: 222 observations,    complexity param=0.02238806\n",
      "  predicted class=No   expected loss=0.3693694  P(node) =0.2466667\n",
      "    class counts:   140    82\n",
      "   probabilities: 0.631 0.369 \n",
      "  left son=56 (214 obs) right son=57 (8 obs)\n",
      "  Primary splits:\n",
      "      amount          < 8724.5  to the left,  improve=4.243517, (0 missing)\n",
      "      credit_history  < 1.5     to the left,  improve=3.784535, (0 missing)\n",
      "      savings_balance < 2.5     to the right, improve=2.491677, (0 missing)\n",
      "      personal_status < 2.5     to the right, improve=2.306306, (0 missing)\n",
      "      other_debtors   < 0.5     to the right, improve=2.242471, (0 missing)\n",
      "\n",
      "Node number 29: 89 observations,    complexity param=0.03482587\n",
      "  predicted class=Yes  expected loss=0.3932584  P(node) =0.09888889\n",
      "    class counts:    35    54\n",
      "   probabilities: 0.393 0.607 \n",
      "  left son=58 (12 obs) right son=59 (77 obs)\n",
      "  Primary splits:\n",
      "      other_debtors        < 1.5     to the left,  improve=7.599616, (0 missing)\n",
      "      checking_balance     < 0.5     to the left,  improve=3.569869, (0 missing)\n",
      "      months_loan_duration < 22.5    to the left,  improve=3.441434, (0 missing)\n",
      "      purpose              < 3.5     to the right, improve=3.391626, (0 missing)\n",
      "      amount               < 1324.5  to the left,  improve=2.718824, (0 missing)\n",
      "\n",
      "Node number 30: 14 observations\n",
      "  predicted class=No   expected loss=0.2857143  P(node) =0.01555556\n",
      "    class counts:    10     4\n",
      "   probabilities: 0.714 0.286 \n",
      "\n",
      "Node number 31: 84 observations,    complexity param=0.01368159\n",
      "  predicted class=Yes  expected loss=0.297619  P(node) =0.09333333\n",
      "    class counts:    25    59\n",
      "   probabilities: 0.298 0.702 \n",
      "  left son=62 (53 obs) right son=63 (31 obs)\n",
      "  Primary splits:\n",
      "      age                  < 29.5    to the right, improve=3.963844, (0 missing)\n",
      "      months_loan_duration < 43.5    to the left,  improve=3.174603, (0 missing)\n",
      "      installment_rate     < 2.5     to the left,  improve=1.456236, (0 missing)\n",
      "      employment_length    < 1.5     to the right, improve=1.052686, (0 missing)\n",
      "      residence_history    < 3.5     to the left,  improve=1.052686, (0 missing)\n",
      "  Surrogate splits:\n",
      "      property             < 0.5     to the right, agree=0.679, adj=0.129, (0 split)\n",
      "      employment_length    < 0.5     to the right, agree=0.655, adj=0.065, (0 split)\n",
      "      months_loan_duration < 57      to the left,  agree=0.643, adj=0.032, (0 split)\n",
      "      credit_history       < 0.5     to the right, agree=0.643, adj=0.032, (0 split)\n",
      "      amount               < 7973.5  to the left,  agree=0.643, adj=0.032, (0 split)\n",
      "\n",
      "Node number 56: 214 observations,    complexity param=0.01492537\n",
      "  predicted class=No   expected loss=0.3504673  P(node) =0.2377778\n",
      "    class counts:   139    75\n",
      "   probabilities: 0.650 0.350 \n",
      "  left son=112 (70 obs) right son=113 (144 obs)\n",
      "  Primary splits:\n",
      "      credit_history   < 1.5     to the left,  improve=3.091414, (0 missing)\n",
      "      housing          < 1.5     to the left,  improve=2.070713, (0 missing)\n",
      "      savings_balance  < 2.5     to the right, improve=1.938212, (0 missing)\n",
      "      installment_rate < 2.5     to the left,  improve=1.816577, (0 missing)\n",
      "      personal_status  < 2.5     to the right, improve=1.754505, (0 missing)\n",
      "  Surrogate splits:\n",
      "      existing_credits < 1.5     to the right, agree=0.790, adj=0.357, (0 split)\n",
      "      job              < 0.5     to the left,  agree=0.687, adj=0.043, (0 split)\n",
      "      amount           < 1409.5  to the left,  agree=0.678, adj=0.014, (0 split)\n",
      "      age              < 65.5    to the right, agree=0.678, adj=0.014, (0 split)\n",
      "      foreign_worker   < 0.5     to the left,  agree=0.678, adj=0.014, (0 split)\n",
      "\n",
      "Node number 57: 8 observations\n",
      "  predicted class=Yes  expected loss=0.125  P(node) =0.008888889\n",
      "    class counts:     1     7\n",
      "   probabilities: 0.125 0.875 \n",
      "\n",
      "Node number 58: 12 observations\n",
      "  predicted class=No   expected loss=0.08333333  P(node) =0.01333333\n",
      "    class counts:    11     1\n",
      "   probabilities: 0.917 0.083 \n",
      "\n",
      "Node number 59: 77 observations\n",
      "  predicted class=Yes  expected loss=0.3116883  P(node) =0.08555556\n",
      "    class counts:    24    53\n",
      "   probabilities: 0.312 0.688 \n",
      "\n",
      "Node number 62: 53 observations,    complexity param=0.01368159\n",
      "  predicted class=Yes  expected loss=0.4150943  P(node) =0.05888889\n",
      "    class counts:    22    31\n",
      "   probabilities: 0.415 0.585 \n",
      "  left son=124 (34 obs) right son=125 (19 obs)\n",
      "  Primary splits:\n",
      "      months_loan_duration < 47.5    to the left,  improve=3.918512, (0 missing)\n",
      "      installment_rate     < 2.5     to the left,  improve=3.544940, (0 missing)\n",
      "      residence_history    < 3.5     to the left,  improve=2.673171, (0 missing)\n",
      "      age                  < 56      to the left,  improve=2.003526, (0 missing)\n",
      "      credit_history       < 1.5     to the left,  improve=1.075532, (0 missing)\n",
      "  Surrogate splits:\n",
      "      amount   < 6048.5  to the left,  agree=0.698, adj=0.158, (0 split)\n",
      "      age      < 57.5    to the left,  agree=0.698, adj=0.158, (0 split)\n",
      "      purpose  < 0.5     to the right, agree=0.679, adj=0.105, (0 split)\n",
      "      property < 2.5     to the left,  agree=0.660, adj=0.053, (0 split)\n",
      "\n",
      "Node number 63: 31 observations\n",
      "  predicted class=Yes  expected loss=0.09677419  P(node) =0.03444444\n",
      "    class counts:     3    28\n",
      "   probabilities: 0.097 0.903 \n",
      "\n",
      "Node number 112: 70 observations\n",
      "  predicted class=No   expected loss=0.2285714  P(node) =0.07777778\n",
      "    class counts:    54    16\n",
      "   probabilities: 0.771 0.229 \n",
      "\n",
      "Node number 113: 144 observations,    complexity param=0.01492537\n",
      "  predicted class=No   expected loss=0.4097222  P(node) =0.16\n",
      "    class counts:    85    59\n",
      "   probabilities: 0.590 0.410 \n",
      "  left son=226 (118 obs) right son=227 (26 obs)\n",
      "  Primary splits:\n",
      "      existing_credits < 1.5     to the left,  improve=3.781852, (0 missing)\n",
      "      credit_history   < 3.5     to the right, improve=2.308216, (0 missing)\n",
      "      installment_rate < 2.5     to the left,  improve=2.188430, (0 missing)\n",
      "      amount           < 2478    to the right, improve=1.862991, (0 missing)\n",
      "      housing          < 1.5     to the left,  improve=1.403523, (0 missing)\n",
      "  Surrogate splits:\n",
      "      credit_history < 2.5     to the right, agree=0.896, adj=0.423, (0 split)\n",
      "      amount         < 7915.5  to the left,  agree=0.840, adj=0.115, (0 split)\n",
      "\n",
      "Node number 124: 34 observations,    complexity param=0.01368159\n",
      "  predicted class=No   expected loss=0.4411765  P(node) =0.03777778\n",
      "    class counts:    19    15\n",
      "   probabilities: 0.559 0.441 \n",
      "  left son=248 (19 obs) right son=249 (15 obs)\n",
      "  Primary splits:\n",
      "      installment_rate     < 3.5     to the left,  improve=4.582250, (0 missing)\n",
      "      amount               < 4625    to the right, improve=3.122601, (0 missing)\n",
      "      months_loan_duration < 37.5    to the right, improve=1.568939, (0 missing)\n",
      "      credit_history       < 1.5     to the left,  improve=1.355615, (0 missing)\n",
      "      residence_history    < 3.5     to the left,  improve=0.807563, (0 missing)\n",
      "  Surrogate splits:\n",
      "      purpose           < 6.5     to the left,  agree=0.794, adj=0.533, (0 split)\n",
      "      amount            < 4210    to the right, agree=0.794, adj=0.533, (0 split)\n",
      "      age               < 56      to the left,  agree=0.676, adj=0.267, (0 split)\n",
      "      employment_length < 0.5     to the right, agree=0.647, adj=0.200, (0 split)\n",
      "      dependents        < 1.5     to the right, agree=0.647, adj=0.200, (0 split)\n",
      "\n",
      "Node number 125: 19 observations\n",
      "  predicted class=Yes  expected loss=0.1578947  P(node) =0.02111111\n",
      "    class counts:     3    16\n",
      "   probabilities: 0.158 0.842 \n",
      "\n",
      "Node number 226: 118 observations\n",
      "  predicted class=No   expected loss=0.3559322  P(node) =0.1311111\n",
      "    class counts:    76    42\n",
      "   probabilities: 0.644 0.356 \n",
      "\n",
      "Node number 227: 26 observations,    complexity param=0.01119403\n",
      "  predicted class=Yes  expected loss=0.3461538  P(node) =0.02888889\n",
      "    class counts:     9    17\n",
      "   probabilities: 0.346 0.654 \n",
      "  left son=454 (15 obs) right son=455 (11 obs)\n",
      "  Primary splits:\n",
      "      amount               < 3106.5  to the right, improve=4.569231, (0 missing)\n",
      "      installment_rate     < 2.5     to the left,  improve=2.507326, (0 missing)\n",
      "      housing              < 1.5     to the left,  improve=1.969231, (0 missing)\n",
      "      months_loan_duration < 25      to the right, improve=1.797009, (0 missing)\n",
      "      age                  < 29      to the right, improve=1.435897, (0 missing)\n",
      "  Surrogate splits:\n",
      "      months_loan_duration < 22.5    to the right, agree=0.808, adj=0.545, (0 split)\n",
      "      credit_history       < 2.5     to the left,  agree=0.731, adj=0.364, (0 split)\n",
      "      installment_rate     < 2.5     to the left,  agree=0.731, adj=0.364, (0 split)\n",
      "      telephone            < 0.5     to the right, agree=0.692, adj=0.273, (0 split)\n",
      "      purpose              < 6       to the left,  agree=0.654, adj=0.182, (0 split)\n",
      "\n",
      "Node number 248: 19 observations\n",
      "  predicted class=No   expected loss=0.2105263  P(node) =0.02111111\n",
      "    class counts:    15     4\n",
      "   probabilities: 0.789 0.211 \n",
      "\n",
      "Node number 249: 15 observations\n",
      "  predicted class=Yes  expected loss=0.2666667  P(node) =0.01666667\n",
      "    class counts:     4    11\n",
      "   probabilities: 0.267 0.733 \n",
      "\n",
      "Node number 454: 15 observations\n",
      "  predicted class=No   expected loss=0.4  P(node) =0.01666667\n",
      "    class counts:     9     6\n",
      "   probabilities: 0.600 0.400 \n",
      "\n",
      "Node number 455: 11 observations\n",
      "  predicted class=Yes  expected loss=0  P(node) =0.01222222\n",
      "    class counts:     0    11\n",
      "   probabilities: 0.000 1.000 \n",
      "\n"
     ]
    }
   ],
   "source": [
    "%%R\n",
    "library(rpart)\n",
    "clf <- rpart(default ~ ., data = df_train)\n",
    "summary(clf)"
   ]
  },
  {
   "cell_type": "markdown",
   "metadata": {},
   "source": [
    "El último resultado indica que hay 135 errores en 900 ejemplos."
   ]
  },
  {
   "cell_type": "markdown",
   "metadata": {},
   "source": [
    "### Evaluación del modelo"
   ]
  },
  {
   "cell_type": "code",
   "execution_count": 24,
   "metadata": {},
   "outputs": [
    {
     "name": "stdout",
     "output_type": "stream",
     "text": [
      "\n",
      " \n",
      "   Cell Contents\n",
      "|-------------------------|\n",
      "|                       N |\n",
      "|         N / Table Total |\n",
      "|-------------------------|\n",
      "\n",
      " \n",
      "Total Observations in Table:  100 \n",
      "\n",
      " \n",
      "               | predicted default \n",
      "actual default |        No |       Yes | Row Total | \n",
      "---------------|-----------|-----------|-----------|\n",
      "            No |        60 |         8 |        68 | \n",
      "               |     0.600 |     0.080 |           | \n",
      "---------------|-----------|-----------|-----------|\n",
      "           Yes |        23 |         9 |        32 | \n",
      "               |     0.230 |     0.090 |           | \n",
      "---------------|-----------|-----------|-----------|\n",
      "  Column Total |        83 |        17 |       100 | \n",
      "---------------|-----------|-----------|-----------|\n",
      "\n",
      " \n"
     ]
    }
   ],
   "source": [
    "%%R\n",
    "##\n",
    "## Se evaluar el modelo con los datos de prueba\n",
    "## install.packages(\"gmodels\")\n",
    "##\n",
    "library(gmodels)\n",
    "y_test_pred <- predict(clf, df_test, type='class')\n",
    "CrossTable(df_test$default, \n",
    "           y_test_pred,\n",
    "           prop.chisq = FALSE, \n",
    "           prop.c = FALSE, \n",
    "           prop.r = FALSE,\n",
    "           dnn = c('actual default', 'predicted default'))"
   ]
  },
  {
   "cell_type": "markdown",
   "metadata": {},
   "source": [
    "## Mejora del modelo"
   ]
  },
  {
   "cell_type": "markdown",
   "metadata": {},
   "source": [
    "### Adaptive Boosting"
   ]
  },
  {
   "cell_type": "markdown",
   "metadata": {},
   "source": [
    "Ya que la precisión del modelo presentado para este caso no es suficiente, se aplica la técnica de adaptive boosting. En esta técnica se entrenan muchos árboles simultáneamente sobre los datos; cuando hay un nuevo ejemplo, cada árbol pronóstica la clase y la clasificación final se obtiene por voto (mayoría)."
   ]
  },
  {
   "cell_type": "code",
   "execution_count": 25,
   "metadata": {},
   "outputs": [
    {
     "name": "stderr",
     "output_type": "stream",
     "text": [
      "R[write to console]: Error in C5.0(X_train, y_train_true, trials = 10) : \n",
      "  could not find function \"C5.0\"\n",
      "Calls: <Anonymous> -> <Anonymous> -> withVisible\n",
      "\n"
     ]
    },
    {
     "name": "stdout",
     "output_type": "stream",
     "text": [
      "\n",
      "Error in C5.0(X_train, y_train_true, trials = 10) : \n",
      "  could not find function \"C5.0\"\n",
      "Calls: <Anonymous> -> <Anonymous> -> withVisible\n"
     ]
    }
   ],
   "source": [
    "%%R\n",
    "clf10 <- C5.0(X_train, \n",
    "              y_train_true,\n",
    "              trials = 10)    # cantidad de árboles a considerar\n",
    "\n",
    "clf10"
   ]
  },
  {
   "cell_type": "code",
   "execution_count": 26,
   "metadata": {
    "scrolled": false
   },
   "outputs": [
    {
     "name": "stderr",
     "output_type": "stream",
     "text": [
      "R[write to console]: Error in summary(clf10) : object 'clf10' not found\n",
      "Calls: <Anonymous> -> <Anonymous> -> withVisible -> summary\n",
      "\n"
     ]
    },
    {
     "name": "stdout",
     "output_type": "stream",
     "text": [
      "\n",
      "Error in summary(clf10) : object 'clf10' not found\n",
      "Calls: <Anonymous> -> <Anonymous> -> withVisible -> summary\n"
     ]
    }
   ],
   "source": [
    "%%R\n",
    "## imprime todos los arboles\n",
    "summary(clf10)"
   ]
  },
  {
   "cell_type": "markdown",
   "metadata": {},
   "source": [
    "El resultado anterior indica que hay 29 errores en 900 patrones de entrenamiento."
   ]
  },
  {
   "cell_type": "code",
   "execution_count": 27,
   "metadata": {},
   "outputs": [
    {
     "name": "stderr",
     "output_type": "stream",
     "text": [
      "R[write to console]: Error in predict(clf10, X_test) : object 'clf10' not found\n",
      "Calls: <Anonymous> -> <Anonymous> -> withVisible -> predict\n",
      "\n"
     ]
    },
    {
     "name": "stdout",
     "output_type": "stream",
     "text": [
      "\n",
      "Error in predict(clf10, X_test) : object 'clf10' not found\n",
      "Calls: <Anonymous> -> <Anonymous> -> withVisible -> predict\n"
     ]
    }
   ],
   "source": [
    "%%R\n",
    "y_test_pred10 <- predict(clf10, X_test)\n",
    "\n",
    "CrossTable(y_test_true, \n",
    "           y_test_pred10,\n",
    "           prop.chisq = FALSE, \n",
    "           prop.c = FALSE, \n",
    "           prop.r = FALSE,\n",
    "           dnn = c('actual default', 'predicted default'))"
   ]
  },
  {
   "cell_type": "markdown",
   "metadata": {},
   "source": [
    "### Uso de pesos por tipo de error\n",
    "\n",
    "Es posible introducir pesos para hacer más costoso un tipo de error que otro."
   ]
  },
  {
   "cell_type": "code",
   "execution_count": 28,
   "metadata": {},
   "outputs": [
    {
     "name": "stdout",
     "output_type": "stream",
     "text": [
      "List of 2\n",
      " $ predicted: chr [1:2] \"No\" \"Yes\"\n",
      " $ actual   : chr [1:2] \"No\" \"Yes\"\n"
     ]
    }
   ],
   "source": [
    "%%R\n",
    "matrix_dimensions <- list(predicted=c(\"No\", \"Yes\"), actual=c(\"No\", \"Yes\"))\n",
    "str(matrix_dimensions)"
   ]
  },
  {
   "cell_type": "code",
   "execution_count": 29,
   "metadata": {},
   "outputs": [
    {
     "name": "stdout",
     "output_type": "stream",
     "text": [
      "         actual\n",
      "predicted No Yes\n",
      "      No   0   4\n",
      "      Yes  1   0\n"
     ]
    }
   ],
   "source": [
    "%%R\n",
    "error_cost <- matrix(c(0, 1, 4, 0), # pesos por tipo de error\n",
    "                     nrow = 2,\n",
    "                     dimnames = matrix_dimensions)\n",
    "error_cost"
   ]
  },
  {
   "cell_type": "code",
   "execution_count": 30,
   "metadata": {},
   "outputs": [
    {
     "name": "stderr",
     "output_type": "stream",
     "text": [
      "R[write to console]: Error in C5.0(X_train, y_train_true, costs = error_cost) : \n",
      "  could not find function \"C5.0\"\n",
      "Calls: <Anonymous> -> <Anonymous> -> withVisible\n",
      "\n"
     ]
    },
    {
     "name": "stdout",
     "output_type": "stream",
     "text": [
      "\n",
      "Error in C5.0(X_train, y_train_true, costs = error_cost) : \n",
      "  could not find function \"C5.0\"\n",
      "Calls: <Anonymous> -> <Anonymous> -> withVisible\n"
     ]
    }
   ],
   "source": [
    "%%R\n",
    "clf_cost <- C5.0(X_train,\n",
    "                 y_train_true,\n",
    "                 costs = error_cost)\n",
    "\n",
    "y_test_pred_cost <- predict(clf_cost, X_test)\n",
    "\n",
    "CrossTable(y_test_true,\n",
    "           y_test_pred_cost,\n",
    "           prop.chisq = FALSE, \n",
    "           prop.c = FALSE, \n",
    "           prop.r = FALSE,\n",
    "           dnn = c('actual default', 'predicted default'))"
   ]
  },
  {
   "cell_type": "markdown",
   "metadata": {},
   "source": [
    "**Actividad.---** Respecto a los dos casos anteriores, ¿Cómo se interpreta la tabla anterior?"
   ]
  },
  {
   "cell_type": "markdown",
   "metadata": {},
   "source": [
    "**Actividad.---** Compute metricas de error y compare los resultados obtenidos?"
   ]
  },
  {
   "cell_type": "markdown",
   "metadata": {},
   "source": [
    "**Actividad.---** Haga la estimación robusta del mdoelo usando cross-validation."
   ]
  }
 ],
 "metadata": {
  "kernel_info": {
   "name": "python3"
  },
  "kernelspec": {
   "display_name": "Python 3",
   "language": "python",
   "name": "python3"
  },
  "language_info": {
   "codemirror_mode": {
    "name": "ipython",
    "version": 3
   },
   "file_extension": ".py",
   "mimetype": "text/x-python",
   "name": "python",
   "nbconvert_exporter": "python",
   "pygments_lexer": "ipython3",
   "version": "3.6.8"
  },
  "nteract": {
   "version": "0.7.1"
  },
  "varInspector": {
   "cols": {
    "lenName": 16,
    "lenType": 16,
    "lenVar": 40
   },
   "kernels_config": {
    "python": {
     "delete_cmd_postfix": "",
     "delete_cmd_prefix": "del ",
     "library": "var_list.py",
     "varRefreshCmd": "print(var_dic_list())"
    },
    "r": {
     "delete_cmd_postfix": ") ",
     "delete_cmd_prefix": "rm(",
     "library": "var_list.r",
     "varRefreshCmd": "cat(var_dic_list()) "
    }
   },
   "types_to_exclude": [
    "module",
    "function",
    "builtin_function_or_method",
    "instance",
    "_Feature"
   ],
   "window_display": false
  }
 },
 "nbformat": 4,
 "nbformat_minor": 2
}
