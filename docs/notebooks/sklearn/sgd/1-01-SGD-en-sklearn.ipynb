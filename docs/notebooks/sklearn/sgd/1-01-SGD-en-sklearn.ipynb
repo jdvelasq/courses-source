{
 "cells": [
  {
   "cell_type": "markdown",
   "metadata": {},
   "source": [
    "SGDRegressor y SGDClassifier\n",
    "====\n",
    "\n",
    "* *30 min* | Última modificación: Julio 11, 2019"
   ]
  },
  {
   "cell_type": "code",
   "execution_count": 1,
   "metadata": {},
   "outputs": [],
   "source": [
    "import numpy as np\n",
    "import pandas as pd\n",
    "import matplotlib.pyplot as plt\n",
    "import math\n",
    "%matplotlib inline"
   ]
  },
  {
   "cell_type": "markdown",
   "metadata": {},
   "source": [
    "## Regresión"
   ]
  },
  {
   "cell_type": "code",
   "execution_count": 2,
   "metadata": {},
   "outputs": [
    {
     "data": {
      "image/png": "[encoded data removed]",
      "text/plain": [
       "<Figure size 432x288 with 1 Axes>"
      ]
     },
     "metadata": {
      "needs_background": "light"
     },
     "output_type": "display_data"
    }
   ],
   "source": [
    "from sklearn.datasets import make_regression\n",
    "\n",
    "X, y = make_regression(\n",
    "    n_samples=100,         #\n",
    "    n_features=1,          #\n",
    "    n_informative=1,       #\n",
    "    bias=0.0,              # intercepto\n",
    "    effective_rank=None,   # numero de vectores singulares para explicar los datos\n",
    "    tail_strength=0.9,     # ? importancia relativa de las colas\n",
    "    noise=10.0,            #\n",
    "    shuffle=False,         # ?\n",
    "    coef=False,            # ?coeficientes de la regresion \n",
    "    random_state=12356)    #\n",
    "\n",
    "plt.scatter(X, y);\n"
   ]
  },
  {
   "cell_type": "code",
   "execution_count": 3,
   "metadata": {},
   "outputs": [
    {
     "data": {
      "image/png": "[encoded data removed]",
      "text/plain": [
       "<Figure size 432x288 with 1 Axes>"
      ]
     },
     "metadata": {
      "needs_background": "light"
     },
     "output_type": "display_data"
    }
   ],
   "source": [
    "from sklearn.linear_model import SGDRegressor\n",
    "\n",
    "sgdRegressor = SGDRegressor(\n",
    "    loss='squared_loss',         # 'squared_loss', 'huber', 'epsilon_insensitive', 'squared_epsilon_insensitive'\n",
    "    penalty='l2',                # 'none', 'l2', 'l1', 'elasticnet'\n",
    "    alpha=0.0001,                # factor regularización\n",
    "    l1_ratio=0.15,               # ElasticNet\n",
    "    fit_intercept=True,          #\n",
    "    max_iter=1000,               #\n",
    "    tol=0.001,                   # \n",
    "    shuffle=True,                # ?datos de entrenamiento\n",
    "    verbose=0,                   #\n",
    "    epsilon=0.1,                 # epsilon-insensitive loss function\n",
    "    random_state=None,           #\n",
    "    learning_rate='invscaling',  # 'constant', 'optimal', 'invscaling', 'adaptive'\n",
    "    eta0=0.01,                   # leaning_rate = constant\n",
    "    power_t=0.25,                # inverse scaling learning rate\n",
    "    early_stopping=False,        #\n",
    "    validation_fraction=0.1,     #\n",
    "    n_iter_no_change=5,          #\n",
    "    warm_start=False,            #\n",
    "    average=False)               # average weights\n",
    "\n",
    "\n",
    "sgdRegressor.fit(X, y)\n",
    "\n",
    "plt.scatter(X, y)\n",
    "\n",
    "X_pred = np.linspace(start=-2, stop=4, num=50)\n",
    "X_pred = [[x] for x in X_pred]\n",
    "y_pred = sgdRegressor.predict(X_pred)\n",
    "plt.plot(X_pred, y_pred, '-', linewidth = 4, color='orange');"
   ]
  },
  {
   "cell_type": "markdown",
   "metadata": {},
   "source": [
    "## Clasificación"
   ]
  },
  {
   "cell_type": "markdown",
   "metadata": {},
   "source": [
    "### Dataset"
   ]
  },
  {
   "cell_type": "code",
   "execution_count": 4,
   "metadata": {},
   "outputs": [
    {
     "data": {
      "image/png": "[encoded data removed]",
      "text/plain": [
       "<Figure size 432x288 with 1 Axes>"
      ]
     },
     "metadata": {
      "needs_background": "light"
     },
     "output_type": "display_data"
    }
   ],
   "source": [
    "from sklearn.datasets import make_blobs\n",
    "\n",
    "NPOINTS = 150\n",
    "\n",
    "X, d = make_blobs(\n",
    "    n_samples=NPOINTS, \n",
    "    n_features=2,\n",
    "    centers=3,\n",
    "    cluster_std=0.8, \n",
    "    shuffle=False,  \n",
    "    random_state=12345)\n",
    "\n",
    "plt.scatter(X[:50,0], X[:50,1], color='red')\n",
    "plt.scatter(X[50:100,0], X[50:100,1], color='blue')\n",
    "plt.scatter(X[100:,0], X[100:,1], color='green')\n",
    "plt.gca().set_aspect('equal', adjustable='box')"
   ]
  },
  {
   "cell_type": "markdown",
   "metadata": {},
   "source": [
    "### Modelo"
   ]
  },
  {
   "cell_type": "code",
   "execution_count": 5,
   "metadata": {},
   "outputs": [
    {
     "data": {
      "text/plain": [
       "SGDClassifier(alpha=0.0001, average=False, class_weight=None,\n",
       "              early_stopping=False, epsilon=0.1, eta0=0.0, fit_intercept=True,\n",
       "              l1_ratio=0.15, learning_rate='optimal', loss='hinge',\n",
       "              max_iter=1000, n_iter_no_change=5, n_jobs=None, penalty='l2',\n",
       "              power_t=0.5, random_state=None, shuffle=True, tol=0.001,\n",
       "              validation_fraction=0.1, verbose=0, warm_start=False)"
      ]
     },
     "execution_count": 5,
     "metadata": {},
     "output_type": "execute_result"
    }
   ],
   "source": [
    "from sklearn.linear_model import SGDClassifier\n",
    "\n",
    "sgdClassifier = SGDClassifier(\n",
    "    loss='hinge',                # 'hinge', 'log', 'modified_huber', 'squared_hinge', \n",
    "                                 # 'perceptron', 'squared_loss', 'huber', 'epsilon_insensitive', \n",
    "                                 # 'squared_epsilon_insensitive'\n",
    "    penalty='l2',                # 'none', 'l2', 'l1', or 'elasticnet'\n",
    "    alpha=0.0001,                # regularization\n",
    "    l1_ratio=0.15,               # Elastic Net\n",
    "    fit_intercept=True,          #\n",
    "    max_iter=1000,               #\n",
    "    tol=0.001,                   #\n",
    "    shuffle=True,                # ?shuffle training data after each epoch\n",
    "    verbose=0,                   #\n",
    "    epsilon=0.1,                 # epsilon insensitive loss function\n",
    "    random_state=None,           #\n",
    "    learning_rate='optimal',     # 'constant', 'optimal', 'invscaling', 'adaptive'\n",
    "    eta0=0.0,                    #\n",
    "    power_t=0.5,                 # eta = eta0 / pow(t, power_t) para 'invscaling'\n",
    "    early_stopping=False,        # \n",
    "    validation_fraction=0.1,     # para early_stopping\n",
    "    n_iter_no_change=5,          #\n",
    "    class_weight=None,           # \n",
    "    warm_start=False,            # ?reusa solución previa\n",
    "    average=False)               # \n",
    "\n",
    "\n",
    "sgdClassifier.fit(X, d)"
   ]
  },
  {
   "cell_type": "code",
   "execution_count": 6,
   "metadata": {},
   "outputs": [
    {
     "data": {
      "text/plain": [
       "array([[  9.17984201,  -9.0332372 ],\n",
       "       [-32.38345592, -14.34846758],\n",
       "       [  0.61967664,  38.81812241]])"
      ]
     },
     "execution_count": 6,
     "metadata": {},
     "output_type": "execute_result"
    }
   ],
   "source": [
    "sgdClassifier.coef_"
   ]
  },
  {
   "cell_type": "code",
   "execution_count": 7,
   "metadata": {},
   "outputs": [
    {
     "data": {
      "text/plain": [
       "array([-49.71283893, -37.96440731,   5.11558828])"
      ]
     },
     "execution_count": 7,
     "metadata": {},
     "output_type": "execute_result"
    }
   ],
   "source": [
    "sgdClassifier.intercept_"
   ]
  },
  {
   "cell_type": "code",
   "execution_count": 8,
   "metadata": {},
   "outputs": [
    {
     "data": {
      "text/plain": [
       "array([0, 0, 0, 0, 0, 0, 0, 0, 0, 0, 0, 0, 0, 0, 0, 0, 0, 0, 0, 0, 0, 0,\n",
       "       0, 0, 0, 0, 0, 0, 0, 0, 0, 0, 0, 0, 0, 0, 0, 0, 0, 0, 0, 0, 0, 0,\n",
       "       0, 0, 0, 0, 0, 0, 1, 1, 1, 1, 1, 1, 1, 1, 1, 1, 1, 1, 1, 1, 1, 1,\n",
       "       1, 1, 1, 1, 1, 1, 1, 1, 1, 1, 1, 1, 1, 1, 1, 1, 1, 1, 1, 1, 1, 1,\n",
       "       1, 1, 1, 1, 1, 1, 1, 1, 1, 1, 1, 1, 2, 2, 2, 2, 2, 2, 2, 2, 2, 2,\n",
       "       2, 2, 2, 2, 2, 2, 2, 2, 2, 2, 2, 2, 2, 2, 2, 2, 2, 2, 2, 2, 2, 2,\n",
       "       2, 2, 2, 2, 2, 2, 2, 2, 2, 2, 2, 2, 2, 2, 2, 2, 2, 2])"
      ]
     },
     "execution_count": 8,
     "metadata": {},
     "output_type": "execute_result"
    }
   ],
   "source": [
    "sgdClassifier.predict(X)"
   ]
  },
  {
   "cell_type": "markdown",
   "metadata": {},
   "source": [
    "#### Fronteras de decisión"
   ]
  },
  {
   "cell_type": "code",
   "execution_count": 9,
   "metadata": {},
   "outputs": [
    {
     "data": {
      "image/png": "[encoded data removed]",
      "text/plain": [
       "<Figure size 432x288 with 1 Axes>"
      ]
     },
     "metadata": {
      "needs_background": "light"
     },
     "output_type": "display_data"
    }
   ],
   "source": [
    "plt.scatter(X[:50,0], X[:50,1], color='red')\n",
    "plt.scatter(X[50:100,0], X[50:100,1], color='blue')\n",
    "plt.scatter(X[100:,0], X[100:,1], color='green')\n",
    "plt.gca().set_aspect('equal', adjustable='box')\n",
    "\n",
    "xlim = plt.gca().get_xlim()\n",
    "ylim = plt.gca().get_ylim()\n",
    "\n",
    "xplot = np.linspace(start=xlim[0], stop=xlim[1], num=20)\n",
    "fronteraA = (- sgdClassifier.intercept_[0] / sgdClassifier.coef_[0][1] \n",
    "             - sgdClassifier.coef_[0][0] / sgdClassifier.coef_[0][1] * xplot)\n",
    "\n",
    "fronteraB = (- sgdClassifier.intercept_[1] / sgdClassifier.coef_[1][1] \n",
    "             - sgdClassifier.coef_[1][0] / sgdClassifier.coef_[1][1] * xplot)\n",
    "\n",
    "fronteraC = (- sgdClassifier.intercept_[2] / sgdClassifier.coef_[2][1] \n",
    "             - sgdClassifier.coef_[2][0] / sgdClassifier.coef_[2][1] * xplot)\n",
    "\n",
    "plt.plot(xplot, fronteraA, color='red', linewidth=3)\n",
    "plt.plot(xplot, fronteraB, color='blue', linewidth=3)\n",
    "plt.plot(xplot, fronteraC, color='green', linewidth=3);\n",
    "\n",
    "plt.xlim(xlim)\n",
    "plt.ylim(ylim);"
   ]
  }
 ],
 "metadata": {
  "kernelspec": {
   "display_name": "Python 3",
   "language": "python",
   "name": "python3"
  },
  "language_info": {
   "codemirror_mode": {
    "name": "ipython",
    "version": 3
   },
   "file_extension": ".py",
   "mimetype": "text/x-python",
   "name": "python",
   "nbconvert_exporter": "python",
   "pygments_lexer": "ipython3",
   "version": "3.6.9"
  }
 },
 "nbformat": 4,
 "nbformat_minor": 4
}
