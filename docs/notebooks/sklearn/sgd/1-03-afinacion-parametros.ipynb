{
 "cells": [
  {
   "cell_type": "markdown",
   "metadata": {},
   "source": [
    "# Afinación de los parámetros de modelos"
   ]
  },
  {
   "cell_type": "markdown",
   "metadata": {},
   "source": [
    "* *30 min* | Ultima modificación: Abril 13, 2020"
   ]
  },
  {
   "cell_type": "markdown",
   "metadata": {},
   "source": [
    "Este tutorial demuestra como obtener la mejor combinación de hiperparámetros posibles de un modelo usando cross-validation."
   ]
  },
  {
   "cell_type": "markdown",
   "metadata": {},
   "source": [
    "## Carga de datos"
   ]
  },
  {
   "cell_type": "code",
   "execution_count": 1,
   "metadata": {},
   "outputs": [
    {
     "name": "stdout",
     "output_type": "stream",
     "text": [
      "(150, 4) (150,)\n"
     ]
    }
   ],
   "source": [
    "#\n",
    "# Carga de datos del dataset del iris\n",
    "#\n",
    "from sklearn import datasets\n",
    "data = datasets.load_iris()\n",
    "\n",
    "#\n",
    "# Carga de datos.\n",
    "#   Se verifica la cantidad de datos de la muestra\n",
    "#\n",
    "X, y = data.data, data.target\n",
    "print(X.shape, y.shape)"
   ]
  },
  {
   "cell_type": "markdown",
   "metadata": {},
   "source": [
    "## Partición de los datos"
   ]
  },
  {
   "cell_type": "code",
   "execution_count": 2,
   "metadata": {},
   "outputs": [],
   "source": [
    "from sklearn.model_selection import train_test_split\n",
    "X_train, X_test, y_train, y_test = train_test_split(X, y, test_size=0.25, random_state=33)"
   ]
  },
  {
   "cell_type": "markdown",
   "metadata": {},
   "source": [
    "## Preprocesamiento"
   ]
  },
  {
   "cell_type": "code",
   "execution_count": 3,
   "metadata": {},
   "outputs": [],
   "source": [
    "from sklearn.preprocessing import StandardScaler\n",
    "\n",
    "scaler = StandardScaler()\n",
    "scaler.fit(X_train)\n",
    "X_train = scaler.transform(X_train)\n",
    "X_test  = scaler.transform(X_test)"
   ]
  },
  {
   "cell_type": "markdown",
   "metadata": {},
   "source": [
    "## Creación de la malla de datos"
   ]
  },
  {
   "cell_type": "code",
   "execution_count": 4,
   "metadata": {},
   "outputs": [
    {
     "data": {
      "text/plain": [
       "GridSearchCV(cv=5, error_score=nan,\n",
       "             estimator=SGDClassifier(alpha=0.0001, average=False,\n",
       "                                     class_weight=None, early_stopping=False,\n",
       "                                     epsilon=0.1, eta0=0.0, fit_intercept=True,\n",
       "                                     l1_ratio=0.15, learning_rate='optimal',\n",
       "                                     loss='hinge', max_iter=1000,\n",
       "                                     n_iter_no_change=5, n_jobs=None,\n",
       "                                     penalty='l2', power_t=0.5,\n",
       "                                     random_state=None, shuffle=True, tol=0.001,\n",
       "                                     validation_fraction=0.1, verbose=0,\n",
       "                                     warm_start=False),\n",
       "             iid='deprecated', n_jobs=None,\n",
       "             param_grid=[{'penalty': ['none']},\n",
       "                         {'alpha': [1e-05, 2e-05, 3e-05], 'penalty': ['l2']},\n",
       "                         {'alpha': [1e-05, 2e-05, 3e-05],\n",
       "                          'l1_ratio': [0.1, 0.15, 0.2], 'penalty': ['l1']}],\n",
       "             pre_dispatch='2*n_jobs', refit=True, return_train_score=False,\n",
       "             scoring=None, verbose=0)"
      ]
     },
     "execution_count": 4,
     "metadata": {},
     "output_type": "execute_result"
    }
   ],
   "source": [
    "from sklearn.linear_model import SGDClassifier\n",
    "from sklearn.model_selection import GridSearchCV\n",
    "\n",
    "\n",
    "#\n",
    "# La variable tuned_parameters es una lista de diccionarios\n",
    "# que contiene los valores que pueden ajustarse\n",
    "#\n",
    "parameters = [ {'penalty': ['none']},\n",
    "               {'penalty': ['l2'],\n",
    "                'alpha': [0.00001, 0.00002, 0.00003]},\n",
    "               {'penalty': ['l1'],\n",
    "                'alpha': [0.00001, 0.00002, 0.00003],\n",
    "                'l1_ratio': [0.10, 0.15, 0.20]} ]\n",
    "\n",
    "#\n",
    "# Construye la malla de hiperparámetros\n",
    "#\n",
    "clf = GridSearchCV(SGDClassifier(), \n",
    "                       parameters, \n",
    "                       cv=5)\n",
    "\n",
    "#\n",
    "# Entrenamiento de todos los modelos y selección\n",
    "# de la combinación óptima de parámetros\n",
    "#\n",
    "clf.fit(X_train, y_train)"
   ]
  },
  {
   "cell_type": "code",
   "execution_count": 5,
   "metadata": {},
   "outputs": [
    {
     "data": {
      "text/plain": [
       "{'mean_fit_time': array([0.0029778 , 0.0026813 , 0.0027029 , 0.00276084, 0.00284386,\n",
       "        0.00289602, 0.00354352, 0.00304675, 0.00286613, 0.00259495,\n",
       "        0.00260658, 0.00264225, 0.00261641]),\n",
       " 'std_fit_time': array([2.64037071e-04, 1.03741554e-04, 1.62831155e-04, 1.24644029e-04,\n",
       "        1.42623341e-04, 1.55474465e-04, 7.35495721e-04, 4.33973398e-04,\n",
       "        2.39768052e-04, 5.78474424e-05, 9.58884313e-05, 5.83857066e-05,\n",
       "        4.43637976e-05]),\n",
       " 'mean_score_time': array([0.0004066 , 0.00045028, 0.00037251, 0.00045509, 0.00034795,\n",
       "        0.00033865, 0.00057549, 0.00040164, 0.00032053, 0.00035806,\n",
       "        0.00035367, 0.00033679, 0.00035515]),\n",
       " 'std_score_time': array([5.51605175e-05, 1.39943103e-04, 7.19840298e-05, 7.49248204e-05,\n",
       "        3.83697205e-05, 1.94638363e-05, 2.31998865e-04, 6.61346838e-05,\n",
       "        1.01316395e-05, 6.18802367e-05, 5.34752411e-05, 4.11255394e-05,\n",
       "        5.27823627e-05]),\n",
       " 'param_penalty': masked_array(data=['none', 'l2', 'l2', 'l2', 'l1', 'l1', 'l1', 'l1', 'l1',\n",
       "                    'l1', 'l1', 'l1', 'l1'],\n",
       "              mask=[False, False, False, False, False, False, False, False,\n",
       "                    False, False, False, False, False],\n",
       "        fill_value='?',\n",
       "             dtype=object),\n",
       " 'param_alpha': masked_array(data=[--, 1e-05, 2e-05, 3e-05, 1e-05, 1e-05, 1e-05, 2e-05,\n",
       "                    2e-05, 2e-05, 3e-05, 3e-05, 3e-05],\n",
       "              mask=[ True, False, False, False, False, False, False, False,\n",
       "                    False, False, False, False, False],\n",
       "        fill_value='?',\n",
       "             dtype=object),\n",
       " 'param_l1_ratio': masked_array(data=[--, --, --, --, 0.1, 0.15, 0.2, 0.1, 0.15, 0.2, 0.1,\n",
       "                    0.15, 0.2],\n",
       "              mask=[ True,  True,  True,  True, False, False, False, False,\n",
       "                    False, False, False, False, False],\n",
       "        fill_value='?',\n",
       "             dtype=object),\n",
       " 'params': [{'penalty': 'none'},\n",
       "  {'alpha': 1e-05, 'penalty': 'l2'},\n",
       "  {'alpha': 2e-05, 'penalty': 'l2'},\n",
       "  {'alpha': 3e-05, 'penalty': 'l2'},\n",
       "  {'alpha': 1e-05, 'l1_ratio': 0.1, 'penalty': 'l1'},\n",
       "  {'alpha': 1e-05, 'l1_ratio': 0.15, 'penalty': 'l1'},\n",
       "  {'alpha': 1e-05, 'l1_ratio': 0.2, 'penalty': 'l1'},\n",
       "  {'alpha': 2e-05, 'l1_ratio': 0.1, 'penalty': 'l1'},\n",
       "  {'alpha': 2e-05, 'l1_ratio': 0.15, 'penalty': 'l1'},\n",
       "  {'alpha': 2e-05, 'l1_ratio': 0.2, 'penalty': 'l1'},\n",
       "  {'alpha': 3e-05, 'l1_ratio': 0.1, 'penalty': 'l1'},\n",
       "  {'alpha': 3e-05, 'l1_ratio': 0.15, 'penalty': 'l1'},\n",
       "  {'alpha': 3e-05, 'l1_ratio': 0.2, 'penalty': 'l1'}],\n",
       " 'split0_test_score': array([0.86956522, 0.86956522, 0.86956522, 0.7826087 , 0.91304348,\n",
       "        0.82608696, 0.82608696, 0.69565217, 0.86956522, 0.91304348,\n",
       "        0.82608696, 0.86956522, 0.73913043]),\n",
       " 'split1_test_score': array([0.91304348, 0.73913043, 0.86956522, 0.91304348, 0.91304348,\n",
       "        0.91304348, 0.7826087 , 0.91304348, 0.95652174, 0.91304348,\n",
       "        0.86956522, 0.91304348, 0.82608696]),\n",
       " 'split2_test_score': array([1.        , 0.86363636, 0.90909091, 0.90909091, 0.81818182,\n",
       "        0.95454545, 0.72727273, 0.86363636, 0.95454545, 0.95454545,\n",
       "        1.        , 0.90909091, 0.95454545]),\n",
       " 'split3_test_score': array([0.95454545, 0.95454545, 0.86363636, 0.90909091, 0.90909091,\n",
       "        0.72727273, 0.81818182, 0.90909091, 0.95454545, 0.90909091,\n",
       "        0.95454545, 0.95454545, 0.81818182]),\n",
       " 'split4_test_score': array([1.        , 0.72727273, 0.77272727, 0.77272727, 0.81818182,\n",
       "        0.77272727, 0.77272727, 1.        , 0.77272727, 0.95454545,\n",
       "        0.77272727, 0.95454545, 0.95454545]),\n",
       " 'mean_test_score': array([0.94743083, 0.83083004, 0.856917  , 0.85731225, 0.8743083 ,\n",
       "        0.83873518, 0.78537549, 0.87628458, 0.90158103, 0.92885375,\n",
       "        0.88458498, 0.9201581 , 0.85849802]),\n",
       " 'std_test_score': array([0.05064227, 0.08604081, 0.04511127, 0.0651203 , 0.0458498 ,\n",
       "        0.08470495, 0.03543231, 0.10051967, 0.07246688, 0.02102678,\n",
       "        0.08291544, 0.0319303 , 0.08411268]),\n",
       " 'rank_test_score': array([ 1, 12, 10,  9,  7, 11, 13,  6,  4,  2,  5,  3,  8], dtype=int32)}"
      ]
     },
     "execution_count": 5,
     "metadata": {},
     "output_type": "execute_result"
    }
   ],
   "source": [
    "#\n",
    "# Combinaciones usadas de hiperparámetros\n",
    "#\n",
    "clf.cv_results_"
   ]
  },
  {
   "cell_type": "code",
   "execution_count": 6,
   "metadata": {},
   "outputs": [
    {
     "data": {
      "text/plain": [
       "SGDClassifier(alpha=0.0001, average=False, class_weight=None,\n",
       "              early_stopping=False, epsilon=0.1, eta0=0.0, fit_intercept=True,\n",
       "              l1_ratio=0.15, learning_rate='optimal', loss='hinge',\n",
       "              max_iter=1000, n_iter_no_change=5, n_jobs=None, penalty='none',\n",
       "              power_t=0.5, random_state=None, shuffle=True, tol=0.001,\n",
       "              validation_fraction=0.1, verbose=0, warm_start=False)"
      ]
     },
     "execution_count": 6,
     "metadata": {},
     "output_type": "execute_result"
    }
   ],
   "source": [
    "#\n",
    "# Mejor modelo\n",
    "#\n",
    "clf.best_estimator_"
   ]
  },
  {
   "cell_type": "code",
   "execution_count": 7,
   "metadata": {},
   "outputs": [
    {
     "data": {
      "text/plain": [
       "array([[-17.11345065,  13.34621913, -19.44408516, -19.37956468],\n",
       "       [ -3.57221559,  -3.50681797,  14.01690648,  -8.24023211],\n",
       "       [ -2.3230746 , -11.98231611,  39.19242903,  42.88226925]])"
      ]
     },
     "execution_count": 7,
     "metadata": {},
     "output_type": "execute_result"
    }
   ],
   "source": [
    "#\n",
    "# Coeficientes del mejor modelo\n",
    "#\n",
    "clf.best_estimator_.coef_"
   ]
  },
  {
   "cell_type": "code",
   "execution_count": 8,
   "metadata": {},
   "outputs": [
    {
     "data": {
      "text/plain": [
       "array([-10.11758215,  -0.85261756, -58.61404576])"
      ]
     },
     "execution_count": 8,
     "metadata": {},
     "output_type": "execute_result"
    }
   ],
   "source": [
    "#\n",
    "# Interceptos del mejor modelo\n",
    "#\n",
    "clf.best_estimator_.intercept_"
   ]
  },
  {
   "cell_type": "markdown",
   "metadata": {},
   "source": [
    "## Evaluación del mejor modelo encontrado"
   ]
  },
  {
   "cell_type": "code",
   "execution_count": 9,
   "metadata": {},
   "outputs": [
    {
     "data": {
      "text/plain": [
       "0.9642857142857143"
      ]
     },
     "execution_count": 9,
     "metadata": {},
     "output_type": "execute_result"
    }
   ],
   "source": [
    "from sklearn import metrics\n",
    "\n",
    "#\n",
    "# Pronóstico para el conjunto de entrenamiento\n",
    "#\n",
    "y_train_pred = clf.predict(X_train)\n",
    "\n",
    "# Precisión para el conjunto de entrenamiento\n",
    "metrics.accuracy_score(y_train, y_train_pred)"
   ]
  },
  {
   "cell_type": "code",
   "execution_count": 10,
   "metadata": {},
   "outputs": [
    {
     "data": {
      "text/plain": [
       "0.9736842105263158"
      ]
     },
     "execution_count": 10,
     "metadata": {},
     "output_type": "execute_result"
    }
   ],
   "source": [
    "# Precisión para el conjunto de prueba\n",
    "y_pred = clf.predict(X_test)\n",
    "metrics.accuracy_score(y_test, y_pred)"
   ]
  },
  {
   "cell_type": "code",
   "execution_count": 11,
   "metadata": {},
   "outputs": [
    {
     "name": "stdout",
     "output_type": "stream",
     "text": [
      "              precision    recall  f1-score   support\n",
      "\n",
      "      setosa       1.00      1.00      1.00         8\n",
      "  versicolor       0.92      1.00      0.96        11\n",
      "   virginica       1.00      0.95      0.97        19\n",
      "\n",
      "    accuracy                           0.97        38\n",
      "   macro avg       0.97      0.98      0.98        38\n",
      "weighted avg       0.98      0.97      0.97        38\n",
      "\n"
     ]
    }
   ],
   "source": [
    "# \n",
    "# Métricas de evaluación\n",
    "#\n",
    "print(metrics.classification_report(y_test, y_pred, target_names=data.target_names))"
   ]
  },
  {
   "cell_type": "code",
   "execution_count": 12,
   "metadata": {},
   "outputs": [
    {
     "data": {
      "text/plain": [
       "array([[ 8,  0,  0],\n",
       "       [ 0, 11,  0],\n",
       "       [ 0,  1, 18]])"
      ]
     },
     "execution_count": 12,
     "metadata": {},
     "output_type": "execute_result"
    }
   ],
   "source": [
    "#\n",
    "# Matriz de confusión\n",
    "#\n",
    "metrics.confusion_matrix(y_test, y_pred)\n",
    "\n",
    "#\n",
    "# Note que en el ejemplo del tutorial anterior.\n",
    "#\n",
    "# array([[ 8,  0,  0],\n",
    "#        [ 5,  1,  5],\n",
    "#        [ 0,  0, 19]])\n",
    "#"
   ]
  },
  {
   "cell_type": "code",
   "execution_count": 13,
   "metadata": {},
   "outputs": [
    {
     "data": {
      "image/png": "[encoded data removed]",
      "text/plain": [
       "<Figure size 432x288 with 2 Axes>"
      ]
     },
     "metadata": {
      "needs_background": "light"
     },
     "output_type": "display_data"
    }
   ],
   "source": [
    "from sklearn.metrics import plot_confusion_matrix\n",
    "\n",
    "#\n",
    "# Note que la función computa internamente\n",
    "# el pronósitco del clasificador\n",
    "#\n",
    "plot_confusion_matrix(\n",
    "    clf,        # clasificador entrenado\n",
    "    X_test,     # matriz de variables de entrada\n",
    "    y_test);    # valor real "
   ]
  }
 ],
 "metadata": {
  "kernel_info": {
   "name": "python3"
  },
  "kernelspec": {
   "display_name": "Python 3",
   "language": "python",
   "name": "python3"
  },
  "language_info": {
   "codemirror_mode": {
    "name": "ipython",
    "version": 3
   },
   "file_extension": ".py",
   "mimetype": "text/x-python",
   "name": "python",
   "nbconvert_exporter": "python",
   "pygments_lexer": "ipython3",
   "version": "3.6.9"
  },
  "nteract": {
   "version": "0.7.1"
  }
 },
 "nbformat": 4,
 "nbformat_minor": 4
}
