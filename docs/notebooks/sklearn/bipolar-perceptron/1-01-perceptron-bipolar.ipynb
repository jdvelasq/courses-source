{
 "cells": [
  {
   "cell_type": "markdown",
   "metadata": {},
   "source": [
    "Regla de aprendizaje del perceptrón\n",
    "===\n",
    "\n",
    "* *60 min* | Última modificación: Marzo 20, 2020"
   ]
  },
  {
   "cell_type": "markdown",
   "metadata": {},
   "source": [
    "## Definición del problema"
   ]
  },
  {
   "cell_type": "markdown",
   "metadata": {},
   "source": [
    "Se desea determinar a que clase (de tres posibles) pertence una muestra a partir de sus atributos  $x_1$ = 2.5 y $x_2$ = -4.0. Se usa una muestra artificial de 150 ejemplos."
   ]
  },
  {
   "cell_type": "code",
   "execution_count": 1,
   "metadata": {},
   "outputs": [],
   "source": [
    "import pandas as pd\n",
    "import numpy as np\n",
    "import matplotlib.pyplot as plt\n",
    "%matplotlib inline"
   ]
  },
  {
   "cell_type": "code",
   "execution_count": 2,
   "metadata": {},
   "outputs": [],
   "source": [
    "from sklearn.datasets import make_blobs\n",
    "\n",
    "NPOINTS = 150\n",
    "\n",
    "X, d = make_blobs(\n",
    "    n_samples=NPOINTS, \n",
    "    n_features=2,\n",
    "    centers=3,\n",
    "    cluster_std=0.8, \n",
    "    shuffle=False,  \n",
    "    random_state=12345)"
   ]
  },
  {
   "cell_type": "code",
   "execution_count": 3,
   "metadata": {},
   "outputs": [
    {
     "data": {
      "image/png": "[encoded data removed]",
      "text/plain": [
       "<Figure size 432x288 with 1 Axes>"
      ]
     },
     "metadata": {
      "needs_background": "light"
     },
     "output_type": "display_data"
    }
   ],
   "source": [
    "plt.scatter(X[:50,0], X[:50,1], color='red')\n",
    "plt.scatter(X[50:100,0], X[50:100,1], color='blue')\n",
    "plt.scatter(X[100:,0], X[100:,1], color='green')\n",
    "plt.gca().set_aspect('equal', adjustable='box')"
   ]
  },
  {
   "cell_type": "markdown",
   "metadata": {},
   "source": [
    "## Definición del problema de clasificación"
   ]
  },
  {
   "cell_type": "markdown",
   "metadata": {},
   "source": [
    "El problema de clasificación binaria (con clases $C_1$ y $C_2$ dicotómicas) se define de la siguiente manera:\n",
    "\n",
    "\n",
    "* Cada patrón de entrada tiene la forma $\\mathbf{x}=[+1,x_1,x_2,…,x_n ]$.\n",
    "\n",
    "\n",
    "* Los parámetros del perceptrón binario son $\\mathbf{w}=[w_0,w_1,…,w_n]$ tal que $y=\\varphi(\\mathbf{w}^T \\mathbf{x})$, donde $\\varphi(.)$ es un conmutador bipolar."
   ]
  },
  {
   "cell_type": "markdown",
   "metadata": {},
   "source": [
    "![assets/PerceptronBipolar,jpg](assets/PerceptronBipolar.jpg)"
   ]
  },
  {
   "cell_type": "markdown",
   "metadata": {},
   "source": [
    "* Se desea encontrar el vector $\\mathbf{w}$ tal que el perceptrón clasifique correctamente todos los patrones de entrenamiento.\n",
    "\n",
    "\n",
    "* El error del perceptrón con parámetros $\\mathbf{w}$, $E(\\mathbf{w})$, es la cantidad de patrones mal clasificados.\n",
    "\n",
    "\n",
    "![assets/PerceptronBipClasificacion-01.png](assets/PerceptronBipClasificacion-01.png)"
   ]
  },
  {
   "cell_type": "markdown",
   "metadata": {},
   "source": [
    "## Regla de aprendizaje del perceptrón\n",
    "\n",
    "La regla de aprendizaje del perceptrón es básicamente el algoritmo de gradiente descendente estocástico (SGD):\n",
    "\n",
    "* $d_k$ es la respuesta deseada para el patrón $\\mathbf{x}_k$ presentado en el instante $k$.\n",
    "\n",
    "\n",
    "* $e_k$ es el error definido como:\n",
    "\n",
    "$$\n",
    "e_k= \n",
    "d_k-y_k = \n",
    "d_k - \\varphi(\\mathbf{w}^T_k \\mathbf{x}_k) =\n",
    "\\begin{cases}      \n",
    "       0,  & \\text{Si $d_k = y_k$}\\\\\n",
    "      +2, & \\text{Si $d_k = +1$ y $y_k = -1$}\\\\\n",
    "      -2, & \\text{Si $d_k = -1$ y $y_k = +1$}\\\\\n",
    "\\end{cases}\n",
    "$$\n",
    "\n",
    "\n",
    "* Se desea calcular unos pesos corregidos $\\mathbf{w}_{k+1}=\\mathbf{w}_k+\\Delta \\mathbf{w}_k$ tal que el perceptrón no se equivoque; es decir:\n",
    "\n",
    "$$\n",
    "\\varphi (\\mathbf{w}^T_{k+1} \\mathbf{x}_k) = \\varphi ([\\mathbf{w}_k + \\Delta \\mathbf{w}_k]^T  \\mathbf{x}_k)=d_k\n",
    "$$\n"
   ]
  },
  {
   "cell_type": "markdown",
   "metadata": {},
   "source": [
    "El cálculo de los pesos se realiza de la siguiente forma. Se requiere que:\n",
    "\n",
    "\n",
    "* \tSi $e_k=+2$, entonces $d_k=+1$,   $y_k=-1$   y   $\\Delta \\mathbf{w}^T_k  \\mathbf{x}_k>0$ tal que:  $\\varphi (\\mathbf{w}^T_{k+1} \\mathbf{x}_k)=+1$.\n",
    "\n",
    "\n",
    "* Si $e_k=-2$, entonces $d_k=-1$, $y_k =+1$  y  $\\Delta \\mathbf{w}^T_k \\mathbf{x}_k<0$ tal que: $\\varphi (\\mathbf{w}^T_ {k+1} \\mathbf{x}_k)=-1$.\n",
    "\n",
    "\n",
    "Entonces se podría escoger:\n",
    "\n",
    "$$\\Delta \\mathbf{w}_k= \\eta e_k  \\mathbf{x}_k$$\n",
    "\n",
    "$$\\mathbf{w}_{k+1} = \\mathbf{w}_k+\\eta e_k  \\mathbf{x}_k$$\n",
    "\n",
    "donde $\\eta$ es la tasa de aprendizaje. Note que la ecuación presentada es similar a la usada para el ADALINE, pero en el caso del perceptrón, $e_k \\in \\{-2, 0, +2\\}$, tal que la convergencia genera fronteras de decisión que usualmente son muy diferentes a las del ADALINE.  \n",
    "\n",
    "Se inicializa el vector de parámetros $\\mathbf{w}_0 = [w_0,w_1,…,w_n ]^T$ con ceros, o con un valor aleatorio pequeño.\n",
    "\n",
    "Los patrones deberían presentarse en un orden aleatorio. \n",
    "\n"
   ]
  },
  {
   "cell_type": "markdown",
   "metadata": {},
   "source": [
    "El siguiente esquema permite diferenciar entre los algoritmos de aprendizaje del perceptrón y el ADALINE.\n",
    "\n",
    "![assets/PerceptronBipClasificacion-04.png](assets/PerceptronBipClasificacion-04.png)"
   ]
  },
  {
   "cell_type": "markdown",
   "metadata": {},
   "source": [
    "## Implementación del algoritmo"
   ]
  },
  {
   "cell_type": "code",
   "execution_count": 4,
   "metadata": {},
   "outputs": [],
   "source": [
    "class BipolarPerceptronClassifier:\n",
    "    \"\"\"\n",
    "    Bipolar perceptron classifier\n",
    "    \n",
    "    Parameters\n",
    "    ----------\n",
    "    learning_rate : float\n",
    "        Learning rate coefficient. Default to 0.1. \n",
    "        \n",
    "    max_iter : integer\n",
    "        The maximun number of passes over the training data (aka epochs).\n",
    "        Default to 100    \n",
    "    \"\"\"\n",
    "    \n",
    "    def __init__(self, learning_rate=0.00001, max_iter=100):\n",
    "        self.learning_rate = learning_rate\n",
    "        self.max_iter = max_iter\n",
    "        self.w = None\n",
    "        \n",
    "    def fit(self, X, y):\n",
    "        \n",
    "        if not isinstance(X, np.ndarray):\n",
    "            X = np.array(X)\n",
    "        if not isinstance(y, np.ndarray):\n",
    "            d = np.array(y)\n",
    "        else:\n",
    "            d = y.copy()\n",
    "        \n",
    "        self.w = np.zeros(1 + len(X[0]))\n",
    "        X = np.c_[np.ones(len(d)), X]\n",
    "        history = []\n",
    "        for iter in range(self.max_iter):\n",
    "            n = np.random.choice(len(d), 1)\n",
    "            p = np.dot(X[n,:], self.w)\n",
    "            p = +1.0 if p >= 0.0 else -1.0\n",
    "            e = (d[n] - p)[0]\n",
    "            self.w += 2 * self.learning_rate * e * X[n][0]\n",
    "            history.append(e**2)\n",
    "            \n",
    "        return history\n",
    "\n",
    "    def predict(self, X):\n",
    "        if not isinstance(X, np.ndarray):\n",
    "            X = np.array(X)\n",
    "        y = np.dot(X, self.w)\n",
    "        return [-1 if v < 0 else +1 for v in y]"
   ]
  },
  {
   "cell_type": "markdown",
   "metadata": {},
   "source": [
    "## Entrenamiento del modelo"
   ]
  },
  {
   "cell_type": "code",
   "execution_count": 5,
   "metadata": {},
   "outputs": [
    {
     "data": {
      "image/png": "[encoded data removed]",
      "text/plain": [
       "<Figure size 432x288 with 3 Axes>"
      ]
     },
     "metadata": {
      "needs_background": "light"
     },
     "output_type": "display_data"
    }
   ],
   "source": [
    "##\n",
    "## Solución \n",
    "## Se codifica un vector para cada clase\n",
    "##\n",
    "\n",
    "A = [+1 if u == 0 else -1 for u in d]\n",
    "B = [+1 if u == 1 else -1 for u in d]\n",
    "C = [+1 if u == 2 else -1 for u in d]\n",
    "\n",
    "max_iter = 500\n",
    "\n",
    "mA = BipolarPerceptronClassifier(learning_rate=0.002, max_iter=max_iter)\n",
    "mB = BipolarPerceptronClassifier(learning_rate=0.002, max_iter=max_iter)\n",
    "mC = BipolarPerceptronClassifier(learning_rate=0.003, max_iter=max_iter)\n",
    "\n",
    "historyA = mA.fit(X, A)\n",
    "historyB = mB.fit(X, B)\n",
    "historyC = mC.fit(X, C)\n",
    "\n",
    "plt.subplot(1, 3, 1)\n",
    "plt.plot(historyA)\n",
    "plt.legend('A');\n",
    "plt.xlim(0, max_iter)\n",
    "plt.ylim(0, 15);\n",
    "\n",
    "plt.subplot(1, 3, 2)\n",
    "plt.plot(historyB)\n",
    "plt.legend('B');\n",
    "plt.xlim(0, max_iter)\n",
    "plt.ylim(0, 15);\n",
    "\n",
    "plt.subplot(1, 3, 3)\n",
    "plt.plot(historyC);\n",
    "plt.legend('C');\n",
    "plt.xlim(0, max_iter)\n",
    "plt.ylim(0, 15);"
   ]
  },
  {
   "cell_type": "markdown",
   "metadata": {},
   "source": [
    "## Pronóstico"
   ]
  },
  {
   "cell_type": "code",
   "execution_count": 6,
   "metadata": {},
   "outputs": [
    {
     "name": "stdout",
     "output_type": "stream",
     "text": [
      "[1] [1] [-1]\n"
     ]
    }
   ],
   "source": [
    "##\n",
    "##  Pronostico para un punto que no pertence\n",
    "##  a la muestra de datos\n",
    "##\n",
    "print(mA.predict([[-2,5, -4.0]]), \n",
    "      mB.predict([[-2,5, -4.0]]),\n",
    "      mC.predict([[-2,5, -4.0]]))\n",
    "\n",
    "## el punto pertence a la clase A"
   ]
  },
  {
   "cell_type": "markdown",
   "metadata": {},
   "source": [
    "## Fronteras de decisión"
   ]
  },
  {
   "cell_type": "code",
   "execution_count": 7,
   "metadata": {},
   "outputs": [
    {
     "data": {
      "image/png": "[encoded data removed]",
      "text/plain": [
       "<Figure size 432x288 with 1 Axes>"
      ]
     },
     "metadata": {
      "needs_background": "light"
     },
     "output_type": "display_data"
    }
   ],
   "source": [
    "plt.scatter(X[:50,0], X[:50,1], color='red')\n",
    "plt.scatter(X[50:100,0], X[50:100,1], color='blue')\n",
    "plt.scatter(X[100:,0], X[100:,1], color='green')\n",
    "plt.gca().set_aspect('equal', adjustable='box')\n",
    "\n",
    "xlim = plt.gca().get_xlim()\n",
    "ylim = plt.gca().get_ylim()\n",
    "\n",
    "xplot = np.linspace(start=xlim[0], stop=xlim[1], num=20)\n",
    "fronteraA = - mA.w[0] / mA.w[2] - mA.w[1] / mA.w[2] * xplot\n",
    "fronteraB = - mB.w[0] / mB.w[2] - mB.w[1] / mB.w[2] * xplot\n",
    "fronteraC = - mC.w[0] / mC.w[2] - mC.w[1] / mC.w[2] * xplot\n",
    "\n",
    "plt.plot(xplot, fronteraA, color='red', linewidth=3)\n",
    "plt.plot(xplot, fronteraB, color='blue', linewidth=3)\n",
    "plt.plot(xplot, fronteraC, color='green', linewidth=3);\n",
    "\n",
    "plt.xlim(xlim)\n",
    "plt.ylim(ylim);"
   ]
  },
  {
   "cell_type": "markdown",
   "metadata": {},
   "source": [
    "### Variaciones al método del perceptrón\n",
    "\n",
    "La primera variación al método del perceptrón consiste en calcular la corrección neta sobre todos los patrones e introducir un mecanismo de adaptación en la tasa de aprendizaje:\n",
    "\n",
    "$$\n",
    "\\mathbf{w}_{k+1} = \\mathbf{w}_k + \\eta \\sum_{p=1}^P  e_p \\mathbf{x}_p\n",
    "$$\n"
   ]
  },
  {
   "cell_type": "markdown",
   "metadata": {},
   "source": [
    "La segunda variación consiste en introducir un margen $b$ al realizarse el entrenamiento del perceptrón, tal que:\n",
    "\n",
    "$$\n",
    "y_k = \\varphi \\left( \\mathbf{w}^T_k \\mathbf{x}_k-b * d_k \\right)\n",
    "$$"
   ]
  },
  {
   "cell_type": "markdown",
   "metadata": {},
   "source": [
    "**Actividad.---** Modifique el código del ejercicio anterior para incorporar las dos variaciones indicadas simultaneamente. Para el caso de $\\eta$ considere que si el error disminuye de una iteración a otra, $\\eta$ aumenta; si el error aumenta, se retorna a los pesos anteriores y $\\eta$ disminuye."
   ]
  },
  {
   "cell_type": "markdown",
   "metadata": {},
   "source": [
    "**Actividad.---** Grafique las fronteras de decisión para los problemas propuestos."
   ]
  },
  {
   "cell_type": "markdown",
   "metadata": {},
   "source": [
    "## Solución usando sklearn"
   ]
  },
  {
   "cell_type": "code",
   "execution_count": 8,
   "metadata": {},
   "outputs": [
    {
     "data": {
      "text/plain": [
       "1.0"
      ]
     },
     "execution_count": 8,
     "metadata": {},
     "output_type": "execute_result"
    }
   ],
   "source": [
    "from sklearn.linear_model import Perceptron\n",
    "\n",
    "clf = Perceptron(\n",
    "    penalty=None,             # None, 'l1', 'l2', 'elasticnet' \n",
    "    alpha=0.0001,             # parametro regularizacion\n",
    "    fit_intercept=True,       # \n",
    "    max_iter=1000,            #\n",
    "    shuffle=True,             # \n",
    "    verbose=0,                #\n",
    "    eta0=1.0,                 # tasa de aprendizaje\n",
    "    random_state=0,           # para shuffle\n",
    "    early_stopping=False,     # ?early_stopping\n",
    "    validation_fraction=0.1,  # % test set en early_stopping\n",
    "    n_iter_no_change=5,       # máximo de iteraciones sin cambio\n",
    "    class_weight=None,        # peso de las clases\n",
    "    warm_start=False)         # ?usa la solución previa como punto de arranque\n",
    "\n",
    "clf.fit(X, d)\n",
    "clf.score(X, d)"
   ]
  },
  {
   "cell_type": "code",
   "execution_count": 9,
   "metadata": {},
   "outputs": [
    {
     "data": {
      "text/plain": [
       "array([[50,  0,  0],\n",
       "       [ 0, 50,  0],\n",
       "       [ 0,  0, 50]])"
      ]
     },
     "execution_count": 9,
     "metadata": {},
     "output_type": "execute_result"
    }
   ],
   "source": [
    "from sklearn.metrics import confusion_matrix\n",
    "confusion_matrix(\n",
    "    d,\n",
    "    clf.predict(X)\n",
    ")"
   ]
  },
  {
   "cell_type": "code",
   "execution_count": 10,
   "metadata": {},
   "outputs": [
    {
     "data": {
      "text/plain": [
       "array([[ 3.60924129, -3.87946541],\n",
       "       [-6.64344969, -3.02385523],\n",
       "       [ 0.05183502, 11.07081134]])"
      ]
     },
     "execution_count": 10,
     "metadata": {},
     "output_type": "execute_result"
    }
   ],
   "source": [
    "##\n",
    "## Parametros\n",
    "##\n",
    "clf.coef_"
   ]
  },
  {
   "cell_type": "code",
   "execution_count": 11,
   "metadata": {},
   "outputs": [
    {
     "data": {
      "text/plain": [
       "array([-15.,  -4.,   2.])"
      ]
     },
     "execution_count": 11,
     "metadata": {},
     "output_type": "execute_result"
    }
   ],
   "source": [
    "##\n",
    "## Interceptos\n",
    "##\n",
    "clf.intercept_"
   ]
  },
  {
   "cell_type": "markdown",
   "metadata": {},
   "source": [
    "**Ejercicio.---** Resuelva el problema anterior usando `SGDClassifier` y la función de pérdida del preceptrón."
   ]
  }
 ],
 "metadata": {
  "kernelspec": {
   "display_name": "Python 3",
   "language": "python",
   "name": "python3"
  },
  "language_info": {
   "codemirror_mode": {
    "name": "ipython",
    "version": 3
   },
   "file_extension": ".py",
   "mimetype": "text/x-python",
   "name": "python",
   "nbconvert_exporter": "python",
   "pygments_lexer": "ipython3",
   "version": "3.6.9"
  }
 },
 "nbformat": 4,
 "nbformat_minor": 4
}
