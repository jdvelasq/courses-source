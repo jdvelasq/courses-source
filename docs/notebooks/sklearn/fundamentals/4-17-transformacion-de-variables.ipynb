{
 "cells": [
  {
   "cell_type": "markdown",
   "metadata": {},
   "source": [
    "Transformación no lineal de variables (independientes y dependiente)\n",
    "===\n",
    "\n",
    "* *15 min* | Ultima modificación: Marzo 26, 2020"
   ]
  },
  {
   "cell_type": "markdown",
   "metadata": {},
   "source": [
    "A continuación, se describen las principales transformaciones que pueden realizarse tanto a la variable dependiente como independiente."
   ]
  },
  {
   "cell_type": "markdown",
   "metadata": {},
   "source": [
    "* Logaritmo (natural):"
   ]
  },
  {
   "cell_type": "markdown",
   "metadata": {},
   "source": [
    "$$\n",
    "w = \\log (z)\n",
    "$$"
   ]
  },
  {
   "cell_type": "markdown",
   "metadata": {},
   "source": [
    "* Logaritmo base 10:"
   ]
  },
  {
   "cell_type": "markdown",
   "metadata": {},
   "source": [
    "$$\n",
    "w = \\log_{10} (z)\n",
    "$$"
   ]
  },
  {
   "cell_type": "markdown",
   "metadata": {},
   "source": [
    "* Logística:\n",
    "$$\n",
    "w = \\log \n",
    "\\left[\n",
    "\\frac{c \\cdot z}{1 - c \\cdot z}\n",
    "\\right]\n",
    "$$\n",
    "\n",
    "con:\n",
    "\n",
    "$$\n",
    "c = (1 - 10^{-6}) \\cdot 10 ^{-\\text{ceil} (\\log_{10} (\\max (z)))}\n",
    "$$\n",
    "\n",
    "donde la función ceil() retorna el entero más pequeño que es igual o mayor que $z$."
   ]
  },
  {
   "cell_type": "markdown",
   "metadata": {},
   "source": [
    "* Raíz cuadrada:\n",
    "$$\n",
    "w = z^{1/2}\n",
    "$$"
   ]
  },
  {
   "cell_type": "markdown",
   "metadata": {},
   "source": [
    "* Raíz cúbica:\n",
    "$$\n",
    "w = z^{1/3}\n",
    "$$"
   ]
  },
  {
   "cell_type": "markdown",
   "metadata": {},
   "source": [
    "* Box-Cox:\n",
    "$$\n",
    "w = \n",
    "\\begin{cases}\n",
    "\\frac{z^\\lambda - 1}{\\lambda}, & \\lambda \\ne 0 \\\\\n",
    "\\\\\n",
    "\\log{z}, & \\lambda = 0\n",
    "\\end{cases}\n",
    "$$"
   ]
  },
  {
   "cell_type": "markdown",
   "metadata": {},
   "source": [
    "**Comparación de modelos con diferentes transformaciones de las variables independientes.**"
   ]
  },
  {
   "cell_type": "markdown",
   "metadata": {},
   "source": [
    "En este caso, se comparan diferentes modelos alternativos que difieren en la transformación aplicada a las variables independientes. Se selecciona el modelo con mejor ajuste a las muestras de entrenamiento y prueba."
   ]
  },
  {
   "cell_type": "markdown",
   "metadata": {},
   "source": [
    "**Comparación de modelos con diferentes transformaciones de la variable dependiente.**"
   ]
  },
  {
   "cell_type": "markdown",
   "metadata": {},
   "source": [
    "En este caso, los modelos no pueden compararse directamente con la serie transformada."
   ]
  },
  {
   "cell_type": "markdown",
   "metadata": {},
   "source": [
    "**Pregunta.---** ¿Explique por qué no se pueden compara?"
   ]
  },
  {
   "cell_type": "markdown",
   "metadata": {},
   "source": [
    "El procedimiento es el siguiente:\n",
    "\n",
    "* Se aplica la transformación seleccionada a la variable dependiente.\n",
    "\n",
    "* Se construye el mejor modelo posible.\n",
    "\n",
    "* Se pronostican los datos de entrenamiento y prueba.\n",
    "\n",
    "* Se aplica la transformación inversa a los pronosticos de entrenamiento y prueba.\n",
    "\n",
    "* Se calcula la función de pérdida para los pronósticos con la transformación inversa.\n",
    "\n",
    "\n",
    "Una vez se ha calculado la función de pérdida para todas las transformaciones se selecciona la que genera mejores resultados."
   ]
  }
 ],
 "metadata": {
  "kernel_info": {
   "name": "python3"
  },
  "kernelspec": {
   "display_name": "Python 3",
   "language": "python",
   "name": "python3"
  },
  "language_info": {
   "codemirror_mode": {
    "name": "ipython",
    "version": 3
   },
   "file_extension": ".py",
   "mimetype": "text/x-python",
   "name": "python",
   "nbconvert_exporter": "python",
   "pygments_lexer": "ipython3",
   "version": "3.6.9"
  },
  "nteract": {
   "version": "0.7.1"
  }
 },
 "nbformat": 4,
 "nbformat_minor": 4
}
