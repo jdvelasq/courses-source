{
 "cells": [
  {
   "cell_type": "markdown",
   "metadata": {},
   "source": [
    "Reconocimiento de texto\n",
    "===\n",
    "\n",
    "* *30 min* | Ultima modificación: Junio 22, 2019"
   ]
  },
  {
   "cell_type": "markdown",
   "metadata": {},
   "source": [
    "## Definición del problema"
   ]
  },
  {
   "cell_type": "markdown",
   "metadata": {},
   "source": [
    "En los problemas de OCR (optical character recognition), el reconocimiento se realizar mediante la división del documento en una malla tal que cada caracter es aislado en una celda. El problema real consiste en identificar el caracter aislado. La dificultad radica que un mismo caracter puede variar en tamaño, forma de escritura, grosor y orientación; véase la figura de abajo. Se desea construir una herramienta que permita el reconocimiento automático de caracteres.  "
   ]
  },
  {
   "cell_type": "markdown",
   "metadata": {},
   "source": [
    "\n",
    "\n",
    "<img src=\"images/img00.png\" height=500 width=300>"
   ]
  },
  {
   "cell_type": "markdown",
   "metadata": {},
   "source": [
    "Se tiene una base de 20.000 ejemplos de 16 atributos, la cual fue construida con las 26 letras mayúsculas del alfabeto ingles, impresas en blanco y negro distorsionadas y escaladas. Los atributos son los siguientes:\n",
    "\n",
    "1.\tlettr\tcapital letter\t(26 values from A to Z) \n",
    "2.\tx-box\thorizontal position of box\t(integer) \n",
    "3.\ty-box\tvertical position of box\t(integer) \n",
    "4.\twidth\twidth of box\t(integer) \n",
    "5.\thigh height of box\t(integer) \n",
    "6.\tonpix\ttotal # on pixels\t(integer) \n",
    "7.\tx-bar\tmean x of on pixels in box\t(integer) \n",
    "8.\ty-bar\tmean y of on pixels in box\t(integer) \n",
    "9.\tx2bar\tmean x variance\t(integer) \n",
    "10.\ty2bar\tmean y variance\t(integer) \n",
    "11.\txybar\tmean x y correlation\t(integer) \n",
    "12.\tx2ybr\tmean of x * x * y\t(integer) \n",
    "13.\txy2br\tmean of x * y * y\t(integer) \n",
    "14.\tx-ege\tmean edge count left to right\t(integer) \n",
    "15.\txegvy\tcorrelation of x-ege with y\t(integer) \n",
    "16.\ty-ege\tmean edge count bottom to top\t(integer) \n",
    "17.\tyegvx\tcorrelation of y-ege with x\t(integer)\n",
    "\n",
    "\n",
    "El problema en términos de los datos consiste en poder asociar el patrón capturado en cada celda con la correspondiente letra.  \n",
    "\n"
   ]
  },
  {
   "cell_type": "markdown",
   "metadata": {},
   "source": [
    "## Exploración"
   ]
  },
  {
   "cell_type": "code",
   "execution_count": 4,
   "metadata": {},
   "outputs": [
    {
     "name": "stdout",
     "output_type": "stream",
     "text": [
      "'data.frame':\t20000 obs. of  17 variables:\n",
      " $ letter: Factor w/ 26 levels \"A\",\"B\",\"C\",\"D\",..: 20 9 4 14 7 19 2 1 10 13 ...\n",
      " $ xbox  : int  2 5 4 7 2 4 4 1 2 11 ...\n",
      " $ ybox  : int  8 12 11 11 1 11 2 1 2 15 ...\n",
      " $ width : int  3 3 6 6 3 5 5 3 4 13 ...\n",
      " $ height: int  5 7 8 6 1 8 4 2 4 9 ...\n",
      " $ onpix : int  1 2 6 3 1 3 4 1 2 7 ...\n",
      " $ xbar  : int  8 10 10 5 8 8 8 8 10 13 ...\n",
      " $ ybar  : int  13 5 6 9 6 8 7 2 6 2 ...\n",
      " $ x2bar : int  0 5 2 4 6 6 6 2 2 6 ...\n",
      " $ y2bar : int  6 4 6 6 6 9 6 2 6 2 ...\n",
      " $ xybar : int  6 13 10 4 6 5 7 8 12 12 ...\n",
      " $ x2ybar: int  10 3 3 4 5 6 6 2 4 1 ...\n",
      " $ xy2bar: int  8 9 7 10 9 6 6 8 8 9 ...\n",
      " $ xedge : int  0 2 3 6 1 0 2 1 1 8 ...\n",
      " $ xedgey: int  8 8 7 10 7 8 8 6 6 1 ...\n",
      " $ yedge : int  0 4 3 2 5 9 7 2 1 1 ...\n",
      " $ yedgex: int  8 10 9 8 10 7 10 7 7 8 ...\n"
     ]
    }
   ],
   "source": [
    "## Carga de los datos\n",
    "data <- read.csv(\"data/letterdata.csv\")\n",
    "str(data)"
   ]
  },
  {
   "cell_type": "markdown",
   "metadata": {},
   "source": [
    "## Entrenamiento del modelo"
   ]
  },
  {
   "cell_type": "code",
   "execution_count": 24,
   "metadata": {
    "collapsed": true
   },
   "outputs": [],
   "source": [
    "##\n",
    "## Se usa el 80% de los datos para el entrenamiento \n",
    "## y el 20% restante para la prueba.\n",
    "##\n",
    "data_train <- data[1:16000,]\n",
    "data_test  <- data[16001:20000,]"
   ]
  },
  {
   "cell_type": "code",
   "execution_count": 25,
   "metadata": {
    "collapsed": true
   },
   "outputs": [],
   "source": [
    "## install.packages(\"kernlab\")\n",
    "library(kernlab)"
   ]
  },
  {
   "cell_type": "code",
   "execution_count": 26,
   "metadata": {
    "scrolled": false
   },
   "outputs": [
    {
     "name": "stdout",
     "output_type": "stream",
     "text": [
      " Setting default kernel parameters  \n"
     ]
    }
   ],
   "source": [
    "clf <- ksvm(letter ~ ., \n",
    "            data = data,\n",
    "           kernel=\"vanilladot\")"
   ]
  },
  {
   "cell_type": "markdown",
   "metadata": {},
   "source": [
    "**Ejercicio.--** Consulte la ayuda de la función ksvm y explique los tipos de funciones de kernel disponibles."
   ]
  },
  {
   "cell_type": "markdown",
   "metadata": {},
   "source": [
    "## Evaluación del modelo"
   ]
  },
  {
   "cell_type": "code",
   "execution_count": 27,
   "metadata": {},
   "outputs": [
    {
     "data": {
      "text/html": [
       "<ol class=list-inline>\n",
       "\t<li>U</li>\n",
       "\t<li>N</li>\n",
       "\t<li>V</li>\n",
       "\t<li>I</li>\n",
       "\t<li>N</li>\n",
       "\t<li>H</li>\n",
       "</ol>\n"
      ],
      "text/latex": [
       "\\begin{enumerate*}\n",
       "\\item U\n",
       "\\item N\n",
       "\\item V\n",
       "\\item I\n",
       "\\item N\n",
       "\\item H\n",
       "\\end{enumerate*}\n"
      ],
      "text/markdown": [
       "1. U\n",
       "2. N\n",
       "3. V\n",
       "4. I\n",
       "5. N\n",
       "6. H\n",
       "\n",
       "\n"
      ],
      "text/plain": [
       "[1] U N V I N H\n",
       "Levels: A B C D E F G H I J K L M N O P Q R S T U V W X Y Z"
      ]
     },
     "metadata": {},
     "output_type": "display_data"
    }
   ],
   "source": [
    "##\n",
    "## Se pronóstica la letra correspondiente \n",
    "## para la muestra de prueba\n",
    "##\n",
    "y_test_pred <- predict(clf, data_test)\n",
    "head(y_test_pred)"
   ]
  },
  {
   "cell_type": "code",
   "execution_count": 28,
   "metadata": {},
   "outputs": [
    {
     "data": {
      "text/plain": [
       "           \n",
       "y_test_pred   A   B   C   D   E   F   G   H   I   J   K   L   M   N   O   P   Q\n",
       "          A 145   0   0   0   0   0   0   0   0   1   0   0   0   0   2   0   6\n",
       "          B   0 122   0   5   2   0   1   1   0   0   1   0   2   0   0   2   2\n",
       "          C   0   0 121   0   1   0   9   2   1   0   1   3   0   0   2   0   0\n",
       "          D   1   1   0 156   0   0   2   9   4   2   2   2   0   3   6   3   1\n",
       "          E   0   0   6   0 129   2   1   0   0   0   3   4   0   0   0   0   3\n",
       "          F   0   0   0   0   0 138   1   3   5   0   0   0   0   1   0  15   0\n",
       "          G   1   1   3   2   9   2 126   3   0   0   0   2   1   0   0   2   8\n",
       "          H   0   0   0   2   0   2   0 108   0   2   4   2   2   5  17   0   1\n",
       "          I   0   0   0   0   0   0   0   0 144   7   0   0   0   0   0   0   0\n",
       "          J   0   1   0   0   0   1   0   1   4 130   0   0   0   0   0   1   2\n",
       "          K   1   1   8   0   0   0   3   6   0   0 122   0   0   2   0   1   0\n",
       "          L   0   0   0   0   2   0   1   0   1   0   0 136   0   0   0   0   0\n",
       "          M   1   0   1   1   0   0   1   1   0   0   0   0 137   2   0   0   0\n",
       "          N   0   0   0   0   0   1   0   1   0   0   0   0   0 149   0   0   0\n",
       "          O   0   0   1   0   0   0   1   1   0   1   0   0   0   1 103   1   3\n",
       "          P   0   0   0   1   0   3   1   0   0   0   0   0   0   0   2 136   0\n",
       "          Q   0   0   0   0   0   0   7   2   0   0   0   3   0   0   3   1 126\n",
       "          R   1   7   0   0   1   0   2   7   0   0  11   0   0   1   1   1   1\n",
       "          S   2   2   0   0   1   1   5   0   1   1   0   1   0   0   0   0  13\n",
       "          T   0   0   0   0   3   3   0   0   0   0   1   0   0   0   0   0   0\n",
       "          U   1   0   2   0   0   0   0   3   0   0   0   0   0   0   1   0   0\n",
       "          V   0   0   0   0   0   0   2   2   0   0   0   0   0   2   1   0   2\n",
       "          W   0   0   0   0   0   0   1   0   0   0   0   0   2   0   0   0   0\n",
       "          X   0   1   0   0   2   0   0   1   2   0   1   4   0   0   1   0   0\n",
       "          Y   3   0   0   0   0   0   0   0   0   0   0   0   0   0   0   5   0\n",
       "          Z   0   0   0   0   2   0   0   0   3   4   0   0   0   0   0   0   0\n",
       "           \n",
       "y_test_pred   R   S   T   U   V   W   X   Y   Z\n",
       "          A   2   0   1   1   0   1   0   0   0\n",
       "          B   2   3   0   0   2   0   1   0   0\n",
       "          C   0   0   0   0   0   0   0   0   0\n",
       "          D   3   0   0   0   0   0   3   2   1\n",
       "          E   1  12   0   0   0   0   2   0   5\n",
       "          F   0   4   0   0   0   0   1   2   0\n",
       "          G   1   3   2   0   0   0   1   0   0\n",
       "          H   3   0   1   1   3   0   0   1   0\n",
       "          I   0   3   0   0   0   0   5   0   0\n",
       "          J   0   1   0   0   0   0   1   0   6\n",
       "          K   6   0   1   3   0   0   3   0   0\n",
       "          L   0   4   0   0   0   0   1   0   1\n",
       "          M   0   0   0   3   0   6   0   0   0\n",
       "          N   2   0   0   1   0   2   0   0   0\n",
       "          O   0   0   0   1   0   0   0   0   0\n",
       "          P   0   0   0   0   0   0   0   1   0\n",
       "          Q   0   4   0   0   0   0   0   3   1\n",
       "          R 141   0   1   0   1   0   0   0   0\n",
       "          S   0 116   3   0   0   0   1   0  11\n",
       "          T   0   2 138   1   0   0   2   2   2\n",
       "          U   0   0   0 153   0   0   0   1   0\n",
       "          V   0   0   0   0 126   1   0   3   0\n",
       "          W   0   0   0   4   4 129   0   0   0\n",
       "          X   0   1   0   0   0   0 138   0   0\n",
       "          Y   0   0   1   0   0   0   0 130   0\n",
       "          Z   0   8   3   0   0   0   0   0 131"
      ]
     },
     "metadata": {},
     "output_type": "display_data"
    }
   ],
   "source": [
    "##\n",
    "## La siguiente tabla indica la letra real y\n",
    "## la letra reconocida. Las columnas corresponden\n",
    "## a la letra real, mientras que las filas corresponden\n",
    "## a las letras reconocidas.\n",
    "##\n",
    "table(y_test_pred, data_test$letter)"
   ]
  },
  {
   "cell_type": "code",
   "execution_count": 29,
   "metadata": {},
   "outputs": [
    {
     "data": {
      "text/plain": [
       "agreement\n",
       "FALSE  TRUE \n",
       "  570  3430 "
      ]
     },
     "metadata": {},
     "output_type": "display_data"
    }
   ],
   "source": [
    "##\n",
    "## número de casos correctos e incorrectos\n",
    "##\n",
    "agreement <- y_test_pred == data_test$letter\n",
    "table(agreement)"
   ]
  },
  {
   "cell_type": "code",
   "execution_count": 30,
   "metadata": {},
   "outputs": [
    {
     "data": {
      "text/plain": [
       "agreement\n",
       " FALSE   TRUE \n",
       "0.1425 0.8575 "
      ]
     },
     "metadata": {},
     "output_type": "display_data"
    }
   ],
   "source": [
    "prop.table(table(agreement))"
   ]
  },
  {
   "cell_type": "markdown",
   "metadata": {},
   "source": [
    "## Mejora del modelo"
   ]
  },
  {
   "cell_type": "code",
   "execution_count": 32,
   "metadata": {},
   "outputs": [
    {
     "data": {
      "text/plain": [
       "agreement_rbf\n",
       "FALSE  TRUE \n",
       "  277  3723 "
      ]
     },
     "metadata": {},
     "output_type": "display_data"
    }
   ],
   "source": [
    "clf_rbf <- ksvm(letter ~ ., \n",
    "                data = data_train,\n",
    "                kernel = \"rbfdot\")\n",
    "\n",
    "y_test_pred_rbf <- predict(clf_rbf,\n",
    "                           data_test)\n",
    "\n",
    "agreement_rbf <- y_test_pred_rbf == y_test_true\n",
    "table(agreement_rbf)"
   ]
  },
  {
   "cell_type": "code",
   "execution_count": 33,
   "metadata": {},
   "outputs": [
    {
     "data": {
      "text/plain": [
       "agreement_rbf\n",
       "  FALSE    TRUE \n",
       "0.06925 0.93075 "
      ]
     },
     "metadata": {},
     "output_type": "display_data"
    }
   ],
   "source": [
    "prop.table(table(agreement_rbf))"
   ]
  },
  {
   "cell_type": "markdown",
   "metadata": {},
   "source": [
    "**Ejercicio.--** Realice la estimación usando cross-validation."
   ]
  }
 ],
 "metadata": {
  "kernel_info": {
   "name": "python3"
  },
  "kernelspec": {
   "display_name": "R",
   "language": "R",
   "name": "ir"
  },
  "language_info": {
   "codemirror_mode": "r",
   "file_extension": ".r",
   "mimetype": "text/x-r-source",
   "name": "R",
   "pygments_lexer": "r",
   "version": "3.4.4"
  },
  "nteract": {
   "version": "0.7.1"
  },
  "varInspector": {
   "cols": {
    "lenName": 16,
    "lenType": 16,
    "lenVar": 40
   },
   "kernels_config": {
    "python": {
     "delete_cmd_postfix": "",
     "delete_cmd_prefix": "del ",
     "library": "var_list.py",
     "varRefreshCmd": "print(var_dic_list())"
    },
    "r": {
     "delete_cmd_postfix": ") ",
     "delete_cmd_prefix": "rm(",
     "library": "var_list.r",
     "varRefreshCmd": "cat(var_dic_list()) "
    }
   },
   "types_to_exclude": [
    "module",
    "function",
    "builtin_function_or_method",
    "instance",
    "_Feature"
   ],
   "window_display": false
  }
 },
 "nbformat": 4,
 "nbformat_minor": 2
}
