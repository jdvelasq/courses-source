{
 "cells": [
  {
   "cell_type": "markdown",
   "metadata": {},
   "source": [
    "Transformación de tablas almacendas como listas de listas\n",
    "========================"
   ]
  },
  {
   "cell_type": "markdown",
   "metadata": {},
   "source": [
    "* *120 min* | Última modificación: Junio 22, 2019"
   ]
  },
  {
   "cell_type": "markdown",
   "metadata": {},
   "source": [
    "**Este tutorial contiene un taller de transformación de datos en el que se llevan a la práctica los conceptos presentados en los tutoriales anteriores.**"
   ]
  },
  {
   "cell_type": "markdown",
   "metadata": {},
   "source": [
    "## Selección de datos de tablas"
   ]
  },
  {
   "cell_type": "code",
   "execution_count": 1,
   "metadata": {},
   "outputs": [
    {
     "data": {
      "text/plain": [
       "['t,srcuser,srchost,dstuser,dsthost,size\\n',\n",
       " '2006-05-11 10:15:08,barb,saturn,tricia,mars,58274\\n',\n",
       " '2006-05-12 12:48:13,tricia,mars,gene,venus,194925\\n',\n",
       " '2006-05-12 15:02:49,phil,mars,phil,saturn,1048\\n',\n",
       " '2006-05-13 13:59:18,barb,saturn,tricia,venus,271\\n',\n",
       " '2006-05-14 09:31:37,gene,venus,barb,mars,2291\\n',\n",
       " '2006-05-14 11:52:17,phil,mars,tricia,saturn,5781\\n',\n",
       " '2006-05-14 14:42:21,barb,venus,barb,venus,98151\\n',\n",
       " '2006-05-14 17:03:01,tricia,saturn,phil,venus,2394482\\n',\n",
       " '2006-05-15 07:17:48,gene,mars,gene,saturn,3824\\n',\n",
       " '2006-05-15 08:50:57,phil,venus,phil,venus,978\\n',\n",
       " '2006-05-15 10:25:52,gene,mars,tricia,saturn,998532\\n',\n",
       " '2006-05-15 17:35:31,gene,saturn,gene,mars,3856\\n',\n",
       " '2006-05-16 09:00:28,gene,venus,barb,mars,613\\n',\n",
       " '2006-05-16 23:04:19,phil,venus,barb,venus,10294\\n',\n",
       " '2006-05-17 12:49:23,phil,mars,tricia,saturn,873\\n',\n",
       " '2006-05-19 22:21:51,gene,saturn,gene,venus,23992']"
      ]
     },
     "execution_count": 1,
     "metadata": {},
     "output_type": "execute_result"
    }
   ],
   "source": [
    "## lectura del archivo como una lista de strings\n",
    "mail = open('https://raw.githubusercontent.com/jdvelasq/datalabs/master/datasets/mail.csv', 'r').readlines()\n",
    "mail"
   ]
  },
  {
   "cell_type": "code",
   "execution_count": 2,
   "metadata": {},
   "outputs": [
    {
     "data": {
      "text/plain": [
       "['t,srcuser,srchost,dstuser,dsthost,size',\n",
       " '2006-05-11 10:15:08,barb,saturn,tricia,mars,58274',\n",
       " '2006-05-12 12:48:13,tricia,mars,gene,venus,194925',\n",
       " '2006-05-12 15:02:49,phil,mars,phil,saturn,1048',\n",
       " '2006-05-13 13:59:18,barb,saturn,tricia,venus,271',\n",
       " '2006-05-14 09:31:37,gene,venus,barb,mars,2291',\n",
       " '2006-05-14 11:52:17,phil,mars,tricia,saturn,5781',\n",
       " '2006-05-14 14:42:21,barb,venus,barb,venus,98151',\n",
       " '2006-05-14 17:03:01,tricia,saturn,phil,venus,2394482',\n",
       " '2006-05-15 07:17:48,gene,mars,gene,saturn,3824',\n",
       " '2006-05-15 08:50:57,phil,venus,phil,venus,978',\n",
       " '2006-05-15 10:25:52,gene,mars,tricia,saturn,998532',\n",
       " '2006-05-15 17:35:31,gene,saturn,gene,mars,3856',\n",
       " '2006-05-16 09:00:28,gene,venus,barb,mars,613',\n",
       " '2006-05-16 23:04:19,phil,venus,barb,venus,10294',\n",
       " '2006-05-17 12:49:23,phil,mars,tricia,saturn,873',\n",
       " '2006-05-19 22:21:51,gene,saturn,gene,venus,2399']"
      ]
     },
     "execution_count": 2,
     "metadata": {},
     "output_type": "execute_result"
    }
   ],
   "source": [
    "## elimina los `\\n` al final de cada string\n",
    "mail = [row[0:-1] for row in mail]\n",
    "mail"
   ]
  },
  {
   "cell_type": "code",
   "execution_count": 3,
   "metadata": {},
   "outputs": [
    {
     "data": {
      "text/plain": [
       "[['t', 'srcuser', 'srchost', 'dstuser', 'dsthost', 'size'],\n",
       " ['2006-05-11 10:15:08', 'barb', 'saturn', 'tricia', 'mars', '58274'],\n",
       " ['2006-05-12 12:48:13', 'tricia', 'mars', 'gene', 'venus', '194925'],\n",
       " ['2006-05-12 15:02:49', 'phil', 'mars', 'phil', 'saturn', '1048'],\n",
       " ['2006-05-13 13:59:18', 'barb', 'saturn', 'tricia', 'venus', '271'],\n",
       " ['2006-05-14 09:31:37', 'gene', 'venus', 'barb', 'mars', '2291'],\n",
       " ['2006-05-14 11:52:17', 'phil', 'mars', 'tricia', 'saturn', '5781'],\n",
       " ['2006-05-14 14:42:21', 'barb', 'venus', 'barb', 'venus', '98151'],\n",
       " ['2006-05-14 17:03:01', 'tricia', 'saturn', 'phil', 'venus', '2394482'],\n",
       " ['2006-05-15 07:17:48', 'gene', 'mars', 'gene', 'saturn', '3824'],\n",
       " ['2006-05-15 08:50:57', 'phil', 'venus', 'phil', 'venus', '978'],\n",
       " ['2006-05-15 10:25:52', 'gene', 'mars', 'tricia', 'saturn', '998532'],\n",
       " ['2006-05-15 17:35:31', 'gene', 'saturn', 'gene', 'mars', '3856'],\n",
       " ['2006-05-16 09:00:28', 'gene', 'venus', 'barb', 'mars', '613'],\n",
       " ['2006-05-16 23:04:19', 'phil', 'venus', 'barb', 'venus', '10294'],\n",
       " ['2006-05-17 12:49:23', 'phil', 'mars', 'tricia', 'saturn', '873'],\n",
       " ['2006-05-19 22:21:51', 'gene', 'saturn', 'gene', 'venus', '2399']]"
      ]
     },
     "execution_count": 3,
     "metadata": {},
     "output_type": "execute_result"
    }
   ],
   "source": [
    "## parte el archivo por las `,`\n",
    "mail = [row.split(',') for row in mail]\n",
    "mail"
   ]
  },
  {
   "cell_type": "code",
   "execution_count": 4,
   "metadata": {},
   "outputs": [],
   "source": [
    "## separa los nombres y los datos\n",
    "mail = mail[1:]"
   ]
  },
  {
   "cell_type": "markdown",
   "metadata": {},
   "source": [
    "### Selección de columnas"
   ]
  },
  {
   "cell_type": "code",
   "execution_count": 5,
   "metadata": {},
   "outputs": [
    {
     "data": {
      "text/plain": [
       "[['2006-05-11 10:15:08', 'saturn', 'barb', 'mars', 'tricia', '58274'],\n",
       " ['2006-05-12 12:48:13', 'mars', 'tricia', 'venus', 'gene', '194925'],\n",
       " ['2006-05-12 15:02:49', 'mars', 'phil', 'saturn', 'phil', '1048'],\n",
       " ['2006-05-13 13:59:18', 'saturn', 'barb', 'venus', 'tricia', '271'],\n",
       " ['2006-05-14 09:31:37', 'venus', 'gene', 'mars', 'barb', '2291'],\n",
       " ['2006-05-14 11:52:17', 'mars', 'phil', 'saturn', 'tricia', '5781'],\n",
       " ['2006-05-14 14:42:21', 'venus', 'barb', 'venus', 'barb', '98151'],\n",
       " ['2006-05-14 17:03:01', 'saturn', 'tricia', 'venus', 'phil', '2394482'],\n",
       " ['2006-05-15 07:17:48', 'mars', 'gene', 'saturn', 'gene', '3824'],\n",
       " ['2006-05-15 08:50:57', 'venus', 'phil', 'venus', 'phil', '978'],\n",
       " ['2006-05-15 10:25:52', 'mars', 'gene', 'saturn', 'tricia', '998532'],\n",
       " ['2006-05-15 17:35:31', 'saturn', 'gene', 'mars', 'gene', '3856'],\n",
       " ['2006-05-16 09:00:28', 'venus', 'gene', 'mars', 'barb', '613'],\n",
       " ['2006-05-16 23:04:19', 'venus', 'phil', 'venus', 'barb', '10294'],\n",
       " ['2006-05-17 12:49:23', 'mars', 'phil', 'saturn', 'tricia', '873'],\n",
       " ['2006-05-19 22:21:51', 'saturn', 'gene', 'venus', 'gene', '2399']]"
      ]
     },
     "execution_count": 5,
     "metadata": {},
     "output_type": "execute_result"
    }
   ],
   "source": [
    "## Selección de algunas columnas en diferente orden\n",
    "[[row[0], row[2], row[1],row[4], row[3], row[5]] for row in mail]"
   ]
  },
  {
   "cell_type": "markdown",
   "metadata": {},
   "source": [
    "### Selección de filas"
   ]
  },
  {
   "cell_type": "code",
   "execution_count": 6,
   "metadata": {},
   "outputs": [
    {
     "data": {
      "text/plain": [
       "[['2006-05-14 09:31:37', 'venus', 'gene'],\n",
       " ['2006-05-14 14:42:21', 'venus', 'barb'],\n",
       " ['2006-05-15 08:50:57', 'venus', 'phil'],\n",
       " ['2006-05-16 09:00:28', 'venus', 'gene'],\n",
       " ['2006-05-16 23:04:19', 'venus', 'phil']]"
      ]
     },
     "execution_count": 6,
     "metadata": {},
     "output_type": "execute_result"
    }
   ],
   "source": [
    "## se quiere seleccionar las filas donde srchost='venus'\n",
    "## Selección de algunas columnas en diferente orden\n",
    "[[row[0],row[2], row[1]] for row in mail if row[2] == 'venus']"
   ]
  },
  {
   "cell_type": "code",
   "execution_count": 7,
   "metadata": {},
   "outputs": [
    {
     "data": {
      "text/plain": [
       "[['2006-05-11 10:15:08', 'barb', 'saturn'],\n",
       " ['2006-05-13 13:59:18', 'barb', 'saturn'],\n",
       " ['2006-05-14 17:03:01', 'tricia', 'saturn'],\n",
       " ['2006-05-15 17:35:31', 'gene', 'saturn'],\n",
       " ['2006-05-19 22:21:51', 'gene', 'saturn']]"
      ]
     },
     "execution_count": 7,
     "metadata": {},
     "output_type": "execute_result"
    }
   ],
   "source": [
    "## se quiere seleccionar las filas donde srchost='venus'\n",
    "## Selección de algunas columnas en diferente orden\n",
    "import re\n",
    "[[row[0],row[1], row[2]] for row in mail if re.search('^s', row[2])]"
   ]
  },
  {
   "cell_type": "code",
   "execution_count": 8,
   "metadata": {},
   "outputs": [
    {
     "data": {
      "text/plain": [
       "[['2006-05-11 10:15:08', 'barb', 'saturn'],\n",
       " ['2006-05-13 13:59:18', 'barb', 'saturn']]"
      ]
     },
     "execution_count": 8,
     "metadata": {},
     "output_type": "execute_result"
    }
   ],
   "source": [
    "[[row[0],row[1], row[2]] for row in mail if row[1] == 'barb' and row[3] == 'tricia']"
   ]
  },
  {
   "cell_type": "markdown",
   "metadata": {},
   "source": [
    "### Combinación de Columnas"
   ]
  },
  {
   "cell_type": "code",
   "execution_count": 9,
   "metadata": {},
   "outputs": [
    {
     "data": {
      "text/plain": [
       "[['2006-05-11 10:15:08', 'barb@saturn', 'tricia@mars'],\n",
       " ['2006-05-12 12:48:13', 'tricia@mars', 'gene@venus'],\n",
       " ['2006-05-12 15:02:49', 'phil@mars', 'phil@saturn'],\n",
       " ['2006-05-13 13:59:18', 'barb@saturn', 'tricia@venus'],\n",
       " ['2006-05-14 09:31:37', 'gene@venus', 'barb@mars'],\n",
       " ['2006-05-14 11:52:17', 'phil@mars', 'tricia@saturn'],\n",
       " ['2006-05-14 14:42:21', 'barb@venus', 'barb@venus'],\n",
       " ['2006-05-14 17:03:01', 'tricia@saturn', 'phil@venus'],\n",
       " ['2006-05-15 07:17:48', 'gene@mars', 'gene@saturn'],\n",
       " ['2006-05-15 08:50:57', 'phil@venus', 'phil@venus'],\n",
       " ['2006-05-15 10:25:52', 'gene@mars', 'tricia@saturn'],\n",
       " ['2006-05-15 17:35:31', 'gene@saturn', 'gene@mars'],\n",
       " ['2006-05-16 09:00:28', 'gene@venus', 'barb@mars'],\n",
       " ['2006-05-16 23:04:19', 'phil@venus', 'barb@venus'],\n",
       " ['2006-05-17 12:49:23', 'phil@mars', 'tricia@saturn'],\n",
       " ['2006-05-19 22:21:51', 'gene@saturn', 'gene@venus']]"
      ]
     },
     "execution_count": 9,
     "metadata": {},
     "output_type": "execute_result"
    }
   ],
   "source": [
    "[[row[0], row[1] + '@'+ row[2],row[3] + '@'+ row[4]] for row in mail]"
   ]
  },
  {
   "cell_type": "markdown",
   "metadata": {},
   "source": [
    "### Selección condicional"
   ]
  },
  {
   "cell_type": "code",
   "execution_count": 10,
   "metadata": {},
   "outputs": [
    {
     "data": {
      "text/plain": [
       "[['2006-05-14 17:03:01', 'tricia', 'saturn', 'phil', 'venus', '2394482'],\n",
       " ['2006-05-15 10:25:52', 'gene', 'mars', 'tricia', 'saturn', '998532']]"
      ]
     },
     "execution_count": 10,
     "metadata": {},
     "output_type": "execute_result"
    }
   ],
   "source": [
    "[row for row in mail if float(row[5])/1024 > 500]"
   ]
  },
  {
   "cell_type": "markdown",
   "metadata": {},
   "source": [
    "### Remoción de duplicados"
   ]
  },
  {
   "cell_type": "code",
   "execution_count": 11,
   "metadata": {},
   "outputs": [
    {
     "data": {
      "text/plain": [
       "['barb',\n",
       " 'tricia',\n",
       " 'phil',\n",
       " 'barb',\n",
       " 'gene',\n",
       " 'phil',\n",
       " 'barb',\n",
       " 'tricia',\n",
       " 'gene',\n",
       " 'phil',\n",
       " 'gene',\n",
       " 'gene',\n",
       " 'gene',\n",
       " 'phil',\n",
       " 'phil',\n",
       " 'gene']"
      ]
     },
     "execution_count": 11,
     "metadata": {},
     "output_type": "execute_result"
    }
   ],
   "source": [
    "[row[1] for row in mail]"
   ]
  },
  {
   "cell_type": "code",
   "execution_count": 12,
   "metadata": {},
   "outputs": [
    {
     "data": {
      "text/plain": [
       "{'barb', 'gene', 'phil', 'tricia'}"
      ]
     },
     "execution_count": 12,
     "metadata": {},
     "output_type": "execute_result"
    }
   ],
   "source": [
    "set([row[1] for row in mail])"
   ]
  },
  {
   "cell_type": "code",
   "execution_count": 13,
   "metadata": {},
   "outputs": [
    {
     "data": {
      "text/plain": [
       "4"
      ]
     },
     "execution_count": 13,
     "metadata": {},
     "output_type": "execute_result"
    }
   ],
   "source": [
    "len(set([row[1] for row in mail]))"
   ]
  },
  {
   "cell_type": "markdown",
   "metadata": {},
   "source": [
    "### Manejo de NULL"
   ]
  },
  {
   "cell_type": "code",
   "execution_count": 14,
   "metadata": {},
   "outputs": [
    {
     "data": {
      "text/plain": [
       "[['name', 'id'],\n",
       " ['bernina', '198-48'],\n",
       " ['berta', 'NULL'],\n",
       " ['ben', 'NULL'],\n",
       " ['bill', '475-8']]"
      ]
     },
     "execution_count": 14,
     "metadata": {},
     "output_type": "execute_result"
    }
   ],
   "source": [
    "taxpayer = open('files/taxpayer.csv', 'r').readlines()\n",
    "taxpayer = [row[0:-1] for row in taxpayer]\n",
    "taxpayer = [row.split(',') for row in taxpayer]\n",
    "taxpayer"
   ]
  },
  {
   "cell_type": "code",
   "execution_count": 15,
   "metadata": {},
   "outputs": [
    {
     "data": {
      "text/plain": [
       "[['name', 'id'],\n",
       " ['bernina', '198-48'],\n",
       " ['berta', None],\n",
       " ['ben', None],\n",
       " ['bill', '475-8']]"
      ]
     },
     "execution_count": 15,
     "metadata": {},
     "output_type": "execute_result"
    }
   ],
   "source": [
    "taxpayer = [ [element if element != 'NULL' else None for element in row] for row in taxpayer]\n",
    "taxpayer"
   ]
  },
  {
   "cell_type": "code",
   "execution_count": 16,
   "metadata": {},
   "outputs": [
    {
     "data": {
      "text/plain": [
       "[['name', 'id'], ['bernina', '198-48'], ['bill', '475-8']]"
      ]
     },
     "execution_count": 16,
     "metadata": {},
     "output_type": "execute_result"
    }
   ],
   "source": [
    "[row for row in taxpayer if row[1] is not None]"
   ]
  },
  {
   "cell_type": "markdown",
   "metadata": {},
   "source": [
    "### Ordenamiento"
   ]
  },
  {
   "cell_type": "code",
   "execution_count": 17,
   "metadata": {},
   "outputs": [
    {
     "data": {
      "text/plain": [
       "[['2006-05-12 12:48:13', 'tricia', 'mars', 'gene', 'venus', '194925'],\n",
       " ['2006-05-14 17:03:01', 'tricia', 'saturn', 'phil', 'venus', '2394482'],\n",
       " ['2006-05-15 10:25:52', 'gene', 'mars', 'tricia', 'saturn', '998532']]"
      ]
     },
     "execution_count": 17,
     "metadata": {},
     "output_type": "execute_result"
    }
   ],
   "source": [
    "from operator import itemgetter\n",
    "sorted([row for row in mail if int(row[5]) > 100000], key=itemgetter(5))"
   ]
  },
  {
   "cell_type": "code",
   "execution_count": 18,
   "metadata": {},
   "outputs": [
    {
     "data": {
      "text/plain": [
       "[['2006-05-11 10:15:08', 'barb', 'saturn', 'tricia', 'mars', 58274],\n",
       " ['2006-05-12 12:48:13', 'tricia', 'mars', 'gene', 'venus', 194925],\n",
       " ['2006-05-12 15:02:49', 'phil', 'mars', 'phil', 'saturn', 1048],\n",
       " ['2006-05-13 13:59:18', 'barb', 'saturn', 'tricia', 'venus', 271],\n",
       " ['2006-05-14 09:31:37', 'gene', 'venus', 'barb', 'mars', 2291],\n",
       " ['2006-05-14 11:52:17', 'phil', 'mars', 'tricia', 'saturn', 5781],\n",
       " ['2006-05-14 14:42:21', 'barb', 'venus', 'barb', 'venus', 98151],\n",
       " ['2006-05-14 17:03:01', 'tricia', 'saturn', 'phil', 'venus', 2394482],\n",
       " ['2006-05-15 07:17:48', 'gene', 'mars', 'gene', 'saturn', 3824],\n",
       " ['2006-05-15 08:50:57', 'phil', 'venus', 'phil', 'venus', 978],\n",
       " ['2006-05-15 10:25:52', 'gene', 'mars', 'tricia', 'saturn', 998532],\n",
       " ['2006-05-15 17:35:31', 'gene', 'saturn', 'gene', 'mars', 3856],\n",
       " ['2006-05-16 09:00:28', 'gene', 'venus', 'barb', 'mars', 613],\n",
       " ['2006-05-16 23:04:19', 'phil', 'venus', 'barb', 'venus', 10294],\n",
       " ['2006-05-17 12:49:23', 'phil', 'mars', 'tricia', 'saturn', 873],\n",
       " ['2006-05-19 22:21:51', 'gene', 'saturn', 'gene', 'venus', 2399]]"
      ]
     },
     "execution_count": 18,
     "metadata": {},
     "output_type": "execute_result"
    }
   ],
   "source": [
    "mail = [[element if index != 5 else int(element) for index, element in enumerate(row)] for row in mail]\n",
    "mail"
   ]
  },
  {
   "cell_type": "code",
   "execution_count": 19,
   "metadata": {},
   "outputs": [
    {
     "data": {
      "text/plain": [
       "[['2006-05-12 12:48:13', 'tricia', 'mars', 'gene', 'venus', 194925],\n",
       " ['2006-05-15 10:25:52', 'gene', 'mars', 'tricia', 'saturn', 998532],\n",
       " ['2006-05-14 17:03:01', 'tricia', 'saturn', 'phil', 'venus', 2394482]]"
      ]
     },
     "execution_count": 19,
     "metadata": {},
     "output_type": "execute_result"
    }
   ],
   "source": [
    "sorted([row for row in mail if int(row[5]) > 100000], key=itemgetter(5))"
   ]
  },
  {
   "cell_type": "code",
   "execution_count": 20,
   "metadata": {},
   "outputs": [
    {
     "data": {
      "text/plain": [
       "[['2006-05-14 14:42:21', 'barb', 'venus', 'barb', 'venus', 98151],\n",
       " ['2006-05-11 10:15:08', 'barb', 'saturn', 'tricia', 'mars', 58274],\n",
       " ['2006-05-13 13:59:18', 'barb', 'saturn', 'tricia', 'venus', 271],\n",
       " ['2006-05-14 09:31:37', 'gene', 'venus', 'barb', 'mars', 2291],\n",
       " ['2006-05-16 09:00:28', 'gene', 'venus', 'barb', 'mars', 613],\n",
       " ['2006-05-15 07:17:48', 'gene', 'mars', 'gene', 'saturn', 3824],\n",
       " ['2006-05-15 17:35:31', 'gene', 'saturn', 'gene', 'mars', 3856],\n",
       " ['2006-05-19 22:21:51', 'gene', 'saturn', 'gene', 'venus', 2399],\n",
       " ['2006-05-15 10:25:52', 'gene', 'mars', 'tricia', 'saturn', 998532],\n",
       " ['2006-05-16 23:04:19', 'phil', 'venus', 'barb', 'venus', 10294],\n",
       " ['2006-05-12 15:02:49', 'phil', 'mars', 'phil', 'saturn', 1048],\n",
       " ['2006-05-15 08:50:57', 'phil', 'venus', 'phil', 'venus', 978],\n",
       " ['2006-05-14 11:52:17', 'phil', 'mars', 'tricia', 'saturn', 5781],\n",
       " ['2006-05-17 12:49:23', 'phil', 'mars', 'tricia', 'saturn', 873],\n",
       " ['2006-05-12 12:48:13', 'tricia', 'mars', 'gene', 'venus', 194925],\n",
       " ['2006-05-14 17:03:01', 'tricia', 'saturn', 'phil', 'venus', 2394482]]"
      ]
     },
     "execution_count": 20,
     "metadata": {},
     "output_type": "execute_result"
    }
   ],
   "source": [
    "sorted([row for row in mail], key=itemgetter(1,3))"
   ]
  },
  {
   "cell_type": "markdown",
   "metadata": {},
   "source": [
    "### Joins"
   ]
  },
  {
   "cell_type": "code",
   "execution_count": 21,
   "metadata": {},
   "outputs": [
    {
     "data": {
      "text/plain": [
       "[['1', 'AIM', 'user1-aimid'],\n",
       " ['1', 'MSN', 'user1-msnid'],\n",
       " ['2', 'AIM', 'user2-aimid'],\n",
       " ['2', 'MSN', 'user2-msnid'],\n",
       " ['2', 'Yahoo', 'user2-yahooid'],\n",
       " ['4', 'Yahoo', 'user4-yahooi']]"
      ]
     },
     "execution_count": 21,
     "metadata": {},
     "output_type": "execute_result"
    }
   ],
   "source": [
    "profile_contact = open('files/profile_contact.csv', 'r').readlines()\n",
    "profile_contact = profile_contact[1:]\n",
    "profile_contact = [row[0:-1] for row in profile_contact]\n",
    "profile_contact = [row.split(',') for row in profile_contact]\n",
    "profile_contact"
   ]
  },
  {
   "cell_type": "code",
   "execution_count": 22,
   "metadata": {},
   "outputs": [
    {
     "data": {
      "text/plain": [
       "[['Fred', '1970-04-13', 'black', 'lutefisk:fadge:pizza', '0'],\n",
       " ['Mort', '1969-09-30', 'white', 'burrito:curry:eggroll', '3'],\n",
       " ['Brit', '1957-12-01', 'red', 'burrito:curry:pizza', '1'],\n",
       " ['Carl', '1973-11-02', 'red', 'eggroll:pizza', '4'],\n",
       " ['Sean', '1963-07-04', 'blue', 'burrito:curry', '5'],\n",
       " ['Alan', '1965-02-14', 'red', 'curry:fadge', '1'],\n",
       " ['Mara', '1968-09-17', 'green', 'lutefisk:fadge', '1'],\n",
       " ['Shepard', '1975-09-02', 'black', 'curry:pizza', '2'],\n",
       " ['Dick', '1952-08-20', 'green', 'lutefisk:fadge', '0'],\n",
       " ['Tony', '1960-05-01', 'white', 'burrito:pizza', '0']]"
      ]
     },
     "execution_count": 22,
     "metadata": {},
     "output_type": "execute_result"
    }
   ],
   "source": [
    "profile = open('files/profile.csv', 'r').readlines()\n",
    "profile = profile[1:]\n",
    "profile = [row[0:-1] for row in profile]\n",
    "profile = [row.split(',') for row in profile]\n",
    "profile"
   ]
  },
  {
   "cell_type": "code",
   "execution_count": 23,
   "metadata": {},
   "outputs": [
    {
     "data": {
      "text/plain": [
       "[['0', 'Fred', '1970-04-13', 'black', 'lutefisk:fadge:pizza', '0'],\n",
       " ['1', 'Mort', '1969-09-30', 'white', 'burrito:curry:eggroll', '3'],\n",
       " ['2', 'Brit', '1957-12-01', 'red', 'burrito:curry:pizza', '1'],\n",
       " ['3', 'Carl', '1973-11-02', 'red', 'eggroll:pizza', '4'],\n",
       " ['4', 'Sean', '1963-07-04', 'blue', 'burrito:curry', '5'],\n",
       " ['5', 'Alan', '1965-02-14', 'red', 'curry:fadge', '1'],\n",
       " ['6', 'Mara', '1968-09-17', 'green', 'lutefisk:fadge', '1'],\n",
       " ['7', 'Shepard', '1975-09-02', 'black', 'curry:pizza', '2'],\n",
       " ['8', 'Dick', '1952-08-20', 'green', 'lutefisk:fadge', '0'],\n",
       " ['9', 'Tony', '1960-05-01', 'white', 'burrito:pizza', '0']]"
      ]
     },
     "execution_count": 23,
     "metadata": {},
     "output_type": "execute_result"
    }
   ],
   "source": [
    "profile0 = [[str(idx)] + row   for idx, row in enumerate(profile)]\n",
    "profile0"
   ]
  },
  {
   "cell_type": "code",
   "execution_count": 24,
   "metadata": {},
   "outputs": [
    {
     "data": {
      "text/plain": [
       "[['1', 'Mort', 'AIM'],\n",
       " ['1', 'Mort', 'MSN'],\n",
       " ['2', 'Brit', 'AIM'],\n",
       " ['2', 'Brit', 'MSN'],\n",
       " ['2', 'Brit', 'Yahoo'],\n",
       " ['4', 'Sean', 'Yahoo']]"
      ]
     },
     "execution_count": 24,
     "metadata": {},
     "output_type": "execute_result"
    }
   ],
   "source": [
    "[[row_pc[0], row_p[1], row_pc[1]] for row_p in profile0 for row_pc in profile_contact  if row_p[0] == row_pc[0]]"
   ]
  },
  {
   "cell_type": "code",
   "execution_count": 25,
   "metadata": {},
   "outputs": [
    {
     "data": {
      "text/plain": [
       "[['1', 'AIM', 'user1-aimid'], ['1', 'MSN', 'user1-msnid']]"
      ]
     },
     "execution_count": 25,
     "metadata": {},
     "output_type": "execute_result"
    }
   ],
   "source": [
    "[row_pc for row_pc in profile_contact if row_pc[0] in [row_p[0] for row_p in profile0 if row_p[1] == 'Mort']]"
   ]
  },
  {
   "cell_type": "markdown",
   "metadata": {},
   "source": [
    "### Selección del principio o el final"
   ]
  },
  {
   "cell_type": "code",
   "execution_count": 26,
   "metadata": {},
   "outputs": [
    {
     "data": {
      "text/plain": [
       "[['Fred', '1970-04-13', 'black', 'lutefisk:fadge:pizza', '0'],\n",
       " ['Mort', '1969-09-30', 'white', 'burrito:curry:eggroll', '3'],\n",
       " ['Brit', '1957-12-01', 'red', 'burrito:curry:pizza', '1'],\n",
       " ['Carl', '1973-11-02', 'red', 'eggroll:pizza', '4'],\n",
       " ['Sean', '1963-07-04', 'blue', 'burrito:curry', '5']]"
      ]
     },
     "execution_count": 26,
     "metadata": {},
     "output_type": "execute_result"
    }
   ],
   "source": [
    "profile[:5]"
   ]
  },
  {
   "cell_type": "code",
   "execution_count": 27,
   "metadata": {},
   "outputs": [
    {
     "data": {
      "text/plain": [
       "[['Alan', '1965-02-14', 'red', 'curry:fadge', '1'],\n",
       " ['Mara', '1968-09-17', 'green', 'lutefisk:fadge', '1'],\n",
       " ['Shepard', '1975-09-02', 'black', 'curry:pizza', '2'],\n",
       " ['Dick', '1952-08-20', 'green', 'lutefisk:fadge', '0'],\n",
       " ['Tony', '1960-05-01', 'white', 'burrito:pizza', '0']]"
      ]
     },
     "execution_count": 27,
     "metadata": {},
     "output_type": "execute_result"
    }
   ],
   "source": [
    "profile[-5:]"
   ]
  },
  {
   "cell_type": "markdown",
   "metadata": {},
   "source": [
    "### Selección en el medio"
   ]
  },
  {
   "cell_type": "code",
   "execution_count": 28,
   "metadata": {},
   "outputs": [
    {
     "data": {
      "text/plain": [
       "[['Carl', '1973-11-02', 'red', 'eggroll:pizza', '4'],\n",
       " ['Sean', '1963-07-04', 'blue', 'burrito:curry', '5'],\n",
       " ['Alan', '1965-02-14', 'red', 'curry:fadge', '1'],\n",
       " ['Mara', '1968-09-17', 'green', 'lutefisk:fadge', '1'],\n",
       " ['Shepard', '1975-09-02', 'black', 'curry:pizza', '2']]"
      ]
     },
     "execution_count": 28,
     "metadata": {},
     "output_type": "execute_result"
    }
   ],
   "source": [
    "profile[3:8]"
   ]
  },
  {
   "cell_type": "markdown",
   "metadata": {},
   "source": [
    "### Realización de cómputos"
   ]
  },
  {
   "cell_type": "code",
   "execution_count": 29,
   "metadata": {},
   "outputs": [
    {
     "data": {
      "text/plain": [
       "[[1, 2], [3, 4], [5, 6], [7, 8]]"
      ]
     },
     "execution_count": 29,
     "metadata": {},
     "output_type": "execute_result"
    }
   ],
   "source": [
    "### Columnas calculadas\n",
    "data = [[1, 2], [3, 4], [5, 6], [7, 8]]\n",
    "data"
   ]
  },
  {
   "cell_type": "code",
   "execution_count": 30,
   "metadata": {},
   "outputs": [
    {
     "data": {
      "text/plain": [
       "[2, 12, 30, 56]"
      ]
     },
     "execution_count": 30,
     "metadata": {},
     "output_type": "execute_result"
    }
   ],
   "source": [
    "[row[0] * row[1] for row in data] "
   ]
  },
  {
   "cell_type": "markdown",
   "metadata": {},
   "source": [
    "## Cadenas de Caracteres"
   ]
  },
  {
   "cell_type": "markdown",
   "metadata": {},
   "source": [
    "### Mayúsculas / Minúsculas"
   ]
  },
  {
   "cell_type": "code",
   "execution_count": 31,
   "metadata": {},
   "outputs": [
    {
     "data": {
      "text/plain": [
       "[['human', '2', '2'],\n",
       " ['insect', '6', '0'],\n",
       " ['squid', '0', '10'],\n",
       " ['octopus', '0', '8'],\n",
       " ['fish', '0', '0'],\n",
       " ['centipede', '100', '0 '],\n",
       " ['table', '4', '0'],\n",
       " ['armchair', '4', '2'],\n",
       " ['phonograph', '0', '1 '],\n",
       " ['tripod', '3', '0'],\n",
       " ['Peg Leg Pete', '1', '2 '],\n",
       " ['space alien', 'NULL', 'NUL']]"
      ]
     },
     "execution_count": 31,
     "metadata": {},
     "output_type": "execute_result"
    }
   ],
   "source": [
    "limbs = open('files/limbs.csv', 'r').readlines()\n",
    "limbs = limbs[1:]\n",
    "limbs = [row[0:-1] for row in limbs]\n",
    "limbs = [row.split(',') for row in limbs]\n",
    "limbs"
   ]
  },
  {
   "cell_type": "code",
   "execution_count": 32,
   "metadata": {},
   "outputs": [
    {
     "data": {
      "text/plain": [
       "[['HUMAN', 'human', 'Human'],\n",
       " ['INSECT', 'insect', 'Insect'],\n",
       " ['SQUID', 'squid', 'Squid'],\n",
       " ['OCTOPUS', 'octopus', 'Octopus'],\n",
       " ['FISH', 'fish', 'Fish'],\n",
       " ['CENTIPEDE', 'centipede', 'Centipede'],\n",
       " ['TABLE', 'table', 'Table'],\n",
       " ['ARMCHAIR', 'armchair', 'Armchair'],\n",
       " ['PHONOGRAPH', 'phonograph', 'Phonograph'],\n",
       " ['TRIPOD', 'tripod', 'Tripod'],\n",
       " ['PEG LEG PETE', 'peg leg pete', 'Peg leg pete'],\n",
       " ['SPACE ALIEN', 'space alien', 'Space alien']]"
      ]
     },
     "execution_count": 32,
     "metadata": {},
     "output_type": "execute_result"
    }
   ],
   "source": [
    "[[row[0].upper(), row[0].lower(), row[0].capitalize()] for row in limbs]"
   ]
  },
  {
   "cell_type": "markdown",
   "metadata": {},
   "source": [
    "### Búsqueda de patrones"
   ]
  },
  {
   "cell_type": "code",
   "execution_count": 33,
   "metadata": {},
   "outputs": [
    {
     "data": {
      "text/plain": [
       "[['copper'],\n",
       " ['gold'],\n",
       " ['iron'],\n",
       " ['lead'],\n",
       " ['mercury'],\n",
       " ['platinum'],\n",
       " ['silver'],\n",
       " ['tin']]"
      ]
     },
     "execution_count": 33,
     "metadata": {},
     "output_type": "execute_result"
    }
   ],
   "source": [
    "metals = [[x] for x in 'copper,gold,iron,lead,mercury,platinum,silver,tin'.split(',')]\n",
    "metals"
   ]
  },
  {
   "cell_type": "code",
   "execution_count": 34,
   "metadata": {},
   "outputs": [
    {
     "data": {
      "text/plain": [
       "[['copper']]"
      ]
     },
     "execution_count": 34,
     "metadata": {},
     "output_type": "execute_result"
    }
   ],
   "source": [
    "## cadenas que inician con 'c'\n",
    "[[row[0]] for row in metals if re.search('^co', row[0])]"
   ]
  },
  {
   "cell_type": "code",
   "execution_count": 35,
   "metadata": {},
   "outputs": [
    {
     "data": {
      "text/plain": [
       "[['copper'], ['silver']]"
      ]
     },
     "execution_count": 35,
     "metadata": {},
     "output_type": "execute_result"
    }
   ],
   "source": [
    "## cadenas que finalizan con 'er'\n",
    "[[row[0]] for row in metals if re.search('er$', row[0])]"
   ]
  },
  {
   "cell_type": "code",
   "execution_count": 36,
   "metadata": {},
   "outputs": [
    {
     "data": {
      "text/plain": [
       "[['copper'], ['mercury'], ['silver']]"
      ]
     },
     "execution_count": 36,
     "metadata": {},
     "output_type": "execute_result"
    }
   ],
   "source": [
    "## cadenas que continene 'er'\n",
    "[[row[0]] for row in metals if re.search('er', row[0])]"
   ]
  },
  {
   "cell_type": "code",
   "execution_count": 37,
   "metadata": {},
   "outputs": [
    {
     "data": {
      "text/plain": [
       "[['copper']]"
      ]
     },
     "execution_count": 37,
     "metadata": {},
     "output_type": "execute_result"
    }
   ],
   "source": [
    "## cadenas que continene 'pp' a partir de la posición 2\n",
    "[[row[0]] for row in metals if re.search('^pp', row[0][2:])]"
   ]
  },
  {
   "cell_type": "code",
   "execution_count": 38,
   "metadata": {},
   "outputs": [
    {
     "data": {
      "text/plain": [
       "[['copper'], ['gold'], ['lead'], ['mercury']]"
      ]
     },
     "execution_count": 38,
     "metadata": {},
     "output_type": "execute_result"
    }
   ],
   "source": [
    "## cadenas que no continene 'i' \n",
    "[[row[0]] for row in metals if not re.search('i', row[0])]"
   ]
  },
  {
   "cell_type": "code",
   "execution_count": 39,
   "metadata": {},
   "outputs": [
    {
     "data": {
      "text/plain": [
       "[['cop'], ['gol'], ['iro'], ['lea'], ['mer'], ['pla'], ['sil'], ['tin']]"
      ]
     },
     "execution_count": 39,
     "metadata": {},
     "output_type": "execute_result"
    }
   ],
   "source": [
    "## Las primeras 3 letras de cada string\n",
    "[[row[0][:3]] for row in metals]"
   ]
  },
  {
   "cell_type": "code",
   "execution_count": 40,
   "metadata": {},
   "outputs": [
    {
     "data": {
      "text/plain": [
       "[['copper'], ['iron'], ['silver']]"
      ]
     },
     "execution_count": 40,
     "metadata": {},
     "output_type": "execute_result"
    }
   ],
   "source": [
    "## cadenas que empiezan con una vocal o terminan en 'ir'\n",
    "[[row[0]] for row in metals if re.search('^[aeiou]|er$', row[0])]"
   ]
  },
  {
   "cell_type": "markdown",
   "metadata": {},
   "source": [
    "## Fechas y horas"
   ]
  },
  {
   "cell_type": "markdown",
   "metadata": {},
   "source": [
    "### Extracción de partes"
   ]
  },
  {
   "cell_type": "code",
   "execution_count": 41,
   "metadata": {},
   "outputs": [
    {
     "data": {
      "text/plain": [
       "datetime.date(2018, 9, 19)"
      ]
     },
     "execution_count": 41,
     "metadata": {},
     "output_type": "execute_result"
    }
   ],
   "source": [
    "import time, datetime\n",
    "datetime.date.today()"
   ]
  },
  {
   "cell_type": "code",
   "execution_count": 42,
   "metadata": {},
   "outputs": [
    {
     "data": {
      "text/plain": [
       "'2018-09-19'"
      ]
     },
     "execution_count": 42,
     "metadata": {},
     "output_type": "execute_result"
    }
   ],
   "source": [
    "datetime.date.today().isoformat()"
   ]
  },
  {
   "cell_type": "code",
   "execution_count": 43,
   "metadata": {},
   "outputs": [
    {
     "data": {
      "text/plain": [
       "'18/09/19'"
      ]
     },
     "execution_count": 43,
     "metadata": {},
     "output_type": "execute_result"
    }
   ],
   "source": [
    "datetime.date.today().strftime('%y/%m/%d')"
   ]
  },
  {
   "cell_type": "code",
   "execution_count": 44,
   "metadata": {},
   "outputs": [
    {
     "data": {
      "text/plain": [
       "datetime.datetime(2018, 9, 19, 8, 37, 18, 359576)"
      ]
     },
     "execution_count": 44,
     "metadata": {},
     "output_type": "execute_result"
    }
   ],
   "source": [
    "datetime.datetime.now()"
   ]
  },
  {
   "cell_type": "code",
   "execution_count": 45,
   "metadata": {},
   "outputs": [
    {
     "data": {
      "text/plain": [
       "'2018-09-19 08:37:18.368081'"
      ]
     },
     "execution_count": 45,
     "metadata": {},
     "output_type": "execute_result"
    }
   ],
   "source": [
    "datetime.datetime.now().isoformat(' ')"
   ]
  },
  {
   "cell_type": "code",
   "execution_count": 46,
   "metadata": {},
   "outputs": [
    {
     "data": {
      "text/plain": [
       "[['1970-01-01 00:00:00'],\n",
       " ['1987-03-05 12:30:15'],\n",
       " ['1999-12-31 09:00:00'],\n",
       " ['2000-06-04 15:45:30'],\n",
       " ['2000-06-04 15:45:30']]"
      ]
     },
     "execution_count": 46,
     "metadata": {},
     "output_type": "execute_result"
    }
   ],
   "source": [
    "datetime_val = open('files/datetime_val.csv', 'r').readlines()\n",
    "datetime_val = datetime_val[1:]\n",
    "datetime_val = [row[0:-1] if row[-1] == '\\n' else row for row in datetime_val]\n",
    "datetime_val = [row.split(',') for row in datetime_val]\n",
    "datetime_val"
   ]
  },
  {
   "cell_type": "code",
   "execution_count": 47,
   "metadata": {},
   "outputs": [],
   "source": [
    "## Se deben redefinir estas funciones de acuerdo con\n",
    "## el formato particular de la fecha y hora en los datos\n",
    "\n",
    "def YEAR(s):\n",
    "    return datetime.datetime.strptime(s, '%Y-%m-%d %H:%M:%S').strftime('%Y')\n",
    "\n",
    "def MONTH(s):\n",
    "    ## Numero del mes\n",
    "    return datetime.datetime.strptime(s, '%Y-%m-%d %H:%M:%S').month\n",
    "\n",
    "def MONTHNAME(s):    \n",
    "    return datetime.datetime.strptime(s, '%Y-%m-%d %H:%M:%S').strftime('%B')\n",
    "\n",
    "def MONTHNAME_ABBR(s):    \n",
    "    return datetime.datetime.strptime(s, '%Y-%m-%d %H:%M:%S').strftime('%b')\n",
    "\n",
    "\n",
    "def DAYOFMONTH(s):\n",
    "    return datetime.datetime.strptime(s, '%Y-%m-%d %H:%M:%S').strftime('%d')\n",
    "\n",
    "def DAYNAME(s):\n",
    "    return datetime.datetime.strptime(s, '%Y-%m-%d %H:%M:%S').strftime('%A')\n",
    "\n",
    "def DAYNAME_ABBR(s):\n",
    "    return datetime.datetime.strptime(s, '%Y-%m-%d %H:%M:%S').strftime('%a')\n",
    "\n",
    "def WEEKDAY(s):\n",
    "    return datetime.datetime.strptime(s, '%Y-%m-%d %H:%M:%S').strftime('%w')\n",
    "\n",
    "def DAYOFYEAR(s):\n",
    "    return datetime.datetime.strptime(s, '%Y-%m-%d %H:%M:%S').strftime('%J')\n",
    "\n",
    "def WEEKOFYEAR(s):\n",
    "    return datetime.datetime.strptime(s, '%Y-%m-%d %H:%M:%S').strftime('%W')\n",
    "\n"
   ]
  },
  {
   "cell_type": "code",
   "execution_count": 48,
   "metadata": {},
   "outputs": [
    {
     "data": {
      "text/plain": [
       "[['1970-01-01 00:00:00', '1970', 1, 'January', 'Jan'],\n",
       " ['1987-03-05 12:30:15', '1987', 3, 'March', 'Mar'],\n",
       " ['1999-12-31 09:00:00', '1999', 12, 'December', 'Dec'],\n",
       " ['2000-06-04 15:45:30', '2000', 6, 'June', 'Jun'],\n",
       " ['2000-06-04 15:45:30', '2000', 6, 'June', 'Jun']]"
      ]
     },
     "execution_count": 48,
     "metadata": {},
     "output_type": "execute_result"
    }
   ],
   "source": [
    "[[row[0], YEAR(row[0]), MONTH(row[0]), MONTHNAME(row[0]), MONTHNAME_ABBR(row[0])] for row in datetime_val]"
   ]
  },
  {
   "cell_type": "code",
   "execution_count": 49,
   "metadata": {},
   "outputs": [
    {
     "data": {
      "text/plain": [
       "[['1970-01-01 00:00:00', '01', 'Thursday', 'Thu', '4'],\n",
       " ['1987-03-05 12:30:15', '05', 'Thursday', 'Thu', '4'],\n",
       " ['1999-12-31 09:00:00', '31', 'Friday', 'Fri', '5'],\n",
       " ['2000-06-04 15:45:30', '04', 'Sunday', 'Sun', '0'],\n",
       " ['2000-06-04 15:45:30', '04', 'Sunday', 'Sun', '0']]"
      ]
     },
     "execution_count": 49,
     "metadata": {},
     "output_type": "execute_result"
    }
   ],
   "source": [
    "[[row[0], DAYOFMONTH(row[0]), DAYNAME(row[0]), DAYNAME_ABBR(row[0]), WEEKDAY(row[0])] for row in datetime_val]"
   ]
  },
  {
   "cell_type": "code",
   "execution_count": 50,
   "metadata": {},
   "outputs": [],
   "source": [
    "## Se deben redefinir estas funciones de acuerdo con\n",
    "## el formato particular de la fecha y hora en los datos\n",
    "def HOUR(s):\n",
    "    return datetime.datetime.strptime(s, '%Y-%m-%d %H:%M:%S').strftime('%H')\n",
    "\n",
    "def MINUTE(s):\n",
    "    return datetime.datetime.strptime(s, '%Y-%m-%d %H:%M:%S').strftime('%M')\n",
    "\n",
    "def SECOND(s):\n",
    "    return datetime.datetime.strptime(s, '%Y-%m-%d %H:%M:%S').strftime('%S')"
   ]
  },
  {
   "cell_type": "code",
   "execution_count": 51,
   "metadata": {},
   "outputs": [
    {
     "data": {
      "text/plain": [
       "[['1970-01-01 00:00:00', '00', '00', '00'],\n",
       " ['1987-03-05 12:30:15', '12', '30', '15'],\n",
       " ['1999-12-31 09:00:00', '09', '00', '00'],\n",
       " ['2000-06-04 15:45:30', '15', '45', '30'],\n",
       " ['2000-06-04 15:45:30', '15', '45', '30']]"
      ]
     },
     "execution_count": 51,
     "metadata": {},
     "output_type": "execute_result"
    }
   ],
   "source": [
    "[[row[0], HOUR(row[0]), MINUTE(row[0]), SECOND(row[0]) ] for row in datetime_val]"
   ]
  },
  {
   "cell_type": "code",
   "execution_count": 52,
   "metadata": {},
   "outputs": [
    {
     "data": {
      "text/plain": [
       "[['1970-01-01 00:00:00', '01/01/70'],\n",
       " ['1987-03-05 12:30:15', '05/03/87'],\n",
       " ['1999-12-31 09:00:00', '31/12/99'],\n",
       " ['2000-06-04 15:45:30', '04/06/00'],\n",
       " ['2000-06-04 15:45:30', '04/06/00']]"
      ]
     },
     "execution_count": 52,
     "metadata": {},
     "output_type": "execute_result"
    }
   ],
   "source": [
    "[[row[0], datetime.datetime.strptime(row[0], '%Y-%m-%d %H:%M:%S').strftime('%d/%m/%y') ] for row in datetime_val]"
   ]
  },
  {
   "cell_type": "markdown",
   "metadata": {},
   "source": [
    "### Cómputos con fechas"
   ]
  },
  {
   "cell_type": "code",
   "execution_count": 53,
   "metadata": {},
   "outputs": [
    {
     "data": {
      "text/plain": [
       "[[datetime.timedelta(17793, 31038, 421259)],\n",
       " [datetime.timedelta(11520, 72423, 421307)],\n",
       " [datetime.timedelta(6836, 85038, 421334)],\n",
       " [datetime.timedelta(6680, 60708, 421357)],\n",
       " [datetime.timedelta(6680, 60708, 421377)]]"
      ]
     },
     "execution_count": 53,
     "metadata": {},
     "output_type": "execute_result"
    }
   ],
   "source": [
    "### Intervalos\n",
    "[[datetime.datetime.now() - datetime.datetime.strptime(row[0], '%Y-%m-%d %H:%M:%S')] for row in datetime_val]"
   ]
  },
  {
   "cell_type": "code",
   "execution_count": 54,
   "metadata": {},
   "outputs": [
    {
     "data": {
      "text/plain": [
       "datetime.timedelta(-29)"
      ]
     },
     "execution_count": 54,
     "metadata": {},
     "output_type": "execute_result"
    }
   ],
   "source": [
    "## Otro ejemplo\n",
    "x = datetime.datetime.strptime('2018-09-30', '%Y-%m-%d')\n",
    "y = datetime.datetime.strptime('2018-09-01', '%Y-%m-%d')\n",
    "y - x"
   ]
  },
  {
   "cell_type": "code",
   "execution_count": 55,
   "metadata": {},
   "outputs": [
    {
     "data": {
      "text/plain": [
       "datetime.datetime(2018, 9, 6, 0, 0)"
      ]
     },
     "execution_count": 55,
     "metadata": {},
     "output_type": "execute_result"
    }
   ],
   "source": [
    "y + datetime.timedelta(days=5)"
   ]
  },
  {
   "cell_type": "code",
   "execution_count": 56,
   "metadata": {},
   "outputs": [
    {
     "data": {
      "text/plain": [
       "[['1970-01-03 12:00:00'],\n",
       " ['1987-03-08 00:30:15'],\n",
       " ['2000-01-02 21:00:00'],\n",
       " ['2000-06-07 03:45:30'],\n",
       " ['2000-06-07 03:45:30']]"
      ]
     },
     "execution_count": 56,
     "metadata": {},
     "output_type": "execute_result"
    }
   ],
   "source": [
    "## Suma 60 horas a cada fecha\n",
    "[[(datetime.datetime.strptime(row[0], '%Y-%m-%d %H:%M:%S') +\n",
    "  datetime.timedelta(hours=60)).isoformat(' ')] for row in datetime_val]"
   ]
  },
  {
   "cell_type": "code",
   "execution_count": 57,
   "metadata": {},
   "outputs": [
    {
     "data": {
      "text/plain": [
       "[[datetime.timedelta(17793, 31038, 447060)],\n",
       " [datetime.timedelta(11520, 72423, 447093)],\n",
       " [datetime.timedelta(6836, 85038, 447110)],\n",
       " [datetime.timedelta(6680, 60708, 447124)],\n",
       " [datetime.timedelta(6680, 60708, 447137)]]"
      ]
     },
     "execution_count": 57,
     "metadata": {},
     "output_type": "execute_result"
    }
   ],
   "source": [
    "## Calcula la edad\n",
    "x = [[(datetime.datetime.now() - datetime.datetime.strptime(row[0], '%Y-%m-%d %H:%M:%S'))] for row in datetime_val]\n",
    "x"
   ]
  },
  {
   "cell_type": "code",
   "execution_count": 58,
   "metadata": {},
   "outputs": [
    {
     "data": {
      "text/plain": [
       "[[48], [31], [18], [18], [18]]"
      ]
     },
     "execution_count": 58,
     "metadata": {},
     "output_type": "execute_result"
    }
   ],
   "source": [
    "[[int(row[0].days / 365)] for row in x]"
   ]
  },
  {
   "cell_type": "markdown",
   "metadata": {},
   "source": [
    "## Resumenes"
   ]
  },
  {
   "cell_type": "markdown",
   "metadata": {},
   "source": [
    "### Valores únicos"
   ]
  },
  {
   "cell_type": "code",
   "execution_count": 59,
   "metadata": {},
   "outputs": [
    {
     "data": {
      "text/plain": [
       "{'barb', 'gene', 'phil', 'tricia'}"
      ]
     },
     "execution_count": 59,
     "metadata": {},
     "output_type": "execute_result"
    }
   ],
   "source": [
    "## valores unicos\n",
    "set([row[1] for row in mail])"
   ]
  },
  {
   "cell_type": "code",
   "execution_count": 60,
   "metadata": {},
   "outputs": [
    {
     "data": {
      "text/plain": [
       "4"
      ]
     },
     "execution_count": 60,
     "metadata": {},
     "output_type": "execute_result"
    }
   ],
   "source": [
    "len(set([row[1] for row in mail]))"
   ]
  },
  {
   "cell_type": "markdown",
   "metadata": {},
   "source": [
    "### Búsqueda del máximo o el mínimo"
   ]
  },
  {
   "cell_type": "code",
   "execution_count": 61,
   "metadata": {},
   "outputs": [
    {
     "data": {
      "text/plain": [
       "[['centipede', '100', '0 ']]"
      ]
     },
     "execution_count": 61,
     "metadata": {},
     "output_type": "execute_result"
    }
   ],
   "source": [
    "[row for row in limbs[:-1] if int(row[1]) == max(int(x[1]) for x in limbs[:-1])] "
   ]
  },
  {
   "cell_type": "markdown",
   "metadata": {},
   "source": [
    "### Agrupamientos"
   ]
  },
  {
   "cell_type": "code",
   "execution_count": 62,
   "metadata": {},
   "outputs": [
    {
     "name": "stdout",
     "output_type": "stream",
     "text": [
      "barb\n",
      "    ['2006-05-11 10:15:08', 'barb', 'saturn', 'tricia', 'mars', 58274]\n",
      "    ['2006-05-13 13:59:18', 'barb', 'saturn', 'tricia', 'venus', 271]\n",
      "    ['2006-05-14 14:42:21', 'barb', 'venus', 'barb', 'venus', 98151]\n",
      "gene\n",
      "    ['2006-05-14 09:31:37', 'gene', 'venus', 'barb', 'mars', 2291]\n",
      "    ['2006-05-15 07:17:48', 'gene', 'mars', 'gene', 'saturn', 3824]\n",
      "    ['2006-05-15 10:25:52', 'gene', 'mars', 'tricia', 'saturn', 998532]\n",
      "    ['2006-05-15 17:35:31', 'gene', 'saturn', 'gene', 'mars', 3856]\n",
      "    ['2006-05-16 09:00:28', 'gene', 'venus', 'barb', 'mars', 613]\n",
      "    ['2006-05-19 22:21:51', 'gene', 'saturn', 'gene', 'venus', 2399]\n",
      "phil\n",
      "    ['2006-05-12 15:02:49', 'phil', 'mars', 'phil', 'saturn', 1048]\n",
      "    ['2006-05-14 11:52:17', 'phil', 'mars', 'tricia', 'saturn', 5781]\n",
      "    ['2006-05-15 08:50:57', 'phil', 'venus', 'phil', 'venus', 978]\n",
      "    ['2006-05-16 23:04:19', 'phil', 'venus', 'barb', 'venus', 10294]\n",
      "    ['2006-05-17 12:49:23', 'phil', 'mars', 'tricia', 'saturn', 873]\n",
      "tricia\n",
      "    ['2006-05-12 12:48:13', 'tricia', 'mars', 'gene', 'venus', 194925]\n",
      "    ['2006-05-14 17:03:01', 'tricia', 'saturn', 'phil', 'venus', 2394482]\n"
     ]
    }
   ],
   "source": [
    "import itertools\n",
    "from operator import itemgetter\n",
    "\n",
    "for key, group in itertools.groupby(sorted(mail, key=itemgetter(1)), itemgetter(1)):\n",
    "    print(key)\n",
    "    for g in group:\n",
    "        print('   ', g)"
   ]
  },
  {
   "cell_type": "code",
   "execution_count": 63,
   "metadata": {},
   "outputs": [
    {
     "data": {
      "text/plain": [
       "[['barb', 3], ['gene', 6], ['phil', 5], ['tricia', 2]]"
      ]
     },
     "execution_count": 63,
     "metadata": {},
     "output_type": "execute_result"
    }
   ],
   "source": [
    "## Cuenta el numero de elementos por grupo\n",
    "[[key, len(list(group))] for key, group in itertools.groupby(sorted(mail, key=itemgetter(1)), itemgetter(1))]"
   ]
  }
 ],
 "metadata": {
  "kernelspec": {
   "display_name": "Python 3",
   "language": "python",
   "name": "python3"
  },
  "language_info": {
   "codemirror_mode": {
    "name": "ipython",
    "version": 3
   },
   "file_extension": ".py",
   "mimetype": "text/x-python",
   "name": "python",
   "nbconvert_exporter": "python",
   "pygments_lexer": "ipython3",
   "version": "3.6.8"
  },
  "toc-autonumbering": false
 },
 "nbformat": 4,
 "nbformat_minor": 2
}
