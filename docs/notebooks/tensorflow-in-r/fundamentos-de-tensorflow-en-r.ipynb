{
 "cells": [
  {
   "cell_type": "markdown",
   "metadata": {
    "toc-hr-collapsed": false
   },
   "source": [
    "Ejecución de TensorFlow en R\n",
    "==="
   ]
  },
  {
   "cell_type": "markdown",
   "metadata": {},
   "source": [
    "Esta lección presenta como ejecutar TensorFlow y TensorBoard desde R, conocimientos a partir de los cuales se construirán algunos modelos a lo largo del curso. La información oficial se encuentra disponible en https://tensorflow.rstudio.com/tensorflow/articles/basic_usage.html"
   ]
  },
  {
   "cell_type": "markdown",
   "metadata": {},
   "source": [
    "## Objetivos de aprendizaje\n",
    "\n",
    "- Programar gráficas de flujos de datos en R.\n",
    "- Abrir y cerrar sesiones en TensorFlow desde R.\n",
    "- Ejecutar gráficas de flujos de datos de TensorFlow desde R."
   ]
  },
  {
   "cell_type": "markdown",
   "metadata": {},
   "source": [
    "## Gráficas computacionales en TensorFlow"
   ]
  },
  {
   "cell_type": "markdown",
   "metadata": {},
   "source": [
    "### Expresiones simples"
   ]
  },
  {
   "cell_type": "markdown",
   "metadata": {},
   "source": [
    "El siguiente código muestra como construir la gráfica computacional de $5 * 3 - (3 + 2)$ en TensorFlow."
   ]
  },
  {
   "cell_type": "code",
   "execution_count": 1,
   "metadata": {},
   "outputs": [],
   "source": [
    "## \n",
    "## Se importa la librería\n",
    "##\n",
    "library(tensorflow)"
   ]
  },
  {
   "cell_type": "code",
   "execution_count": 2,
   "metadata": {},
   "outputs": [],
   "source": [
    "## \n",
    "## Construcción de los nodos\n",
    "##\n",
    "node1 <- tf$constant(5.0)           # Tensor []\n",
    "node2 <- tf$constant(2.0)           # Tensor []\n",
    "node3 <- tf$constant(3.0)           # Tensor []\n",
    "node4 <- tf$multiply(node1, node2)  # Operación\n",
    "node5 <- tf$add(node3, node2)       # Operación\n",
    "node6 <- tf$subtract(node4, node5)  # Operación "
   ]
  },
  {
   "cell_type": "markdown",
   "metadata": {},
   "source": [
    "Las variables contienen objetos en memoria."
   ]
  },
  {
   "cell_type": "code",
   "execution_count": 3,
   "metadata": {},
   "outputs": [
    {
     "name": "stdout",
     "output_type": "stream",
     "text": [
      "Tensor(\"Sub:0\", shape=(), dtype=float32)\n"
     ]
    }
   ],
   "source": [
    "print(node6)"
   ]
  },
  {
   "cell_type": "markdown",
   "metadata": {},
   "source": [
    "## Creación y manipulación de gráficas computacionales"
   ]
  },
  {
   "cell_type": "markdown",
   "metadata": {},
   "source": [
    "Es posible definir y manipular gráficas computacionales."
   ]
  },
  {
   "cell_type": "code",
   "execution_count": 22,
   "metadata": {},
   "outputs": [],
   "source": [
    "g1 <- tf$Graph()\n",
    "g2 <- tf$Graph()\n",
    "\n",
    "with(g1$as_default(), {\n",
    "    a <- tf$constant(1)\n",
    "    b <- tf$constant(2)\n",
    "    c <- tf$add(a, b)\n",
    "})\n",
    "    \n",
    "with(g2$as_default(),{\n",
    "    e <- tf$constant(3)\n",
    "    f <- tf$constant(4)\n",
    "    g <- tf$multiply(e, f)\n",
    "})"
   ]
  },
  {
   "cell_type": "markdown",
   "metadata": {},
   "source": [
    "## Apertura y cerrado de sesiones"
   ]
  },
  {
   "cell_type": "markdown",
   "metadata": {},
   "source": [
    "Analogamente a Python, en R también se hace necesaria la creación de una sesión para interactuar con la API."
   ]
  },
  {
   "cell_type": "code",
   "execution_count": 5,
   "metadata": {},
   "outputs": [
    {
     "name": "stdout",
     "output_type": "stream",
     "text": [
      "outs = 5.000000"
     ]
    }
   ],
   "source": [
    "##\n",
    "##  Abre la sesión y luego la cierra\n",
    "##\n",
    "with(tf$Session() %as% sess, {\n",
    "    outs <- sess$run(node6)          ## realiza la evaluación\n",
    "    cat(sprintf(\"outs = %f\",outs))   ## imprime el resultado de la evaluación\n",
    "})"
   ]
  },
  {
   "cell_type": "code",
   "execution_count": 13,
   "metadata": {},
   "outputs": [
    {
     "name": "stdout",
     "output_type": "stream",
     "text": [
      "node6 = 5.000000 node4 = 10.000000 "
     ]
    }
   ],
   "source": [
    "##\n",
    "##  Para computar el resultado en un nodo se puede usar eval()\n",
    "##  Note que es necesario pasar la sesión abierta a eval() \n",
    "##  para realizar la evaluación.\n",
    "##\n",
    "with(tf$Session() %as% sess,{\n",
    "    cat(sprintf(\"node6 = %f \",node6$eval()))\n",
    "    cat(sprintf(\"node4 = %f \",node4$eval()))\n",
    "})"
   ]
  },
  {
   "cell_type": "code",
   "execution_count": 16,
   "metadata": {},
   "outputs": [
    {
     "name": "stdout",
     "output_type": "stream",
     "text": [
      "outs = 5.000000 outs = 10.000000 outs = 5.000000"
     ]
    }
   ],
   "source": [
    "##\n",
    "## run() admite una lista de nodos a evaluar\n",
    "##\n",
    "with(tf$Session() %as% sess,{\n",
    "    outs <- sess$run(c(node6,node4,node5))\n",
    "    cat(sprintf(\"outs = %f\",outs))\n",
    "})"
   ]
  },
  {
   "cell_type": "code",
   "execution_count": 17,
   "metadata": {},
   "outputs": [
    {
     "name": "stdout",
     "output_type": "stream",
     "text": [
      "outs = 5.000000"
     ]
    }
   ],
   "source": [
    "##\n",
    "## La sesión puede ser almacenada en una variable\n",
    "## y usada en cálculos posteriores\n",
    "##\n",
    "sess <- tf$Session()             ## Abre la sesion\n",
    "outs <- sess$run(node6)          ## Evalua el grafo y almacena el resultado\n",
    "sess$close()                     ## Cierra la sesión\n",
    "cat(sprintf(\"outs = %f\",outs))   ## imprime el resultado de la evaluación"
   ]
  },
  {
   "cell_type": "markdown",
   "metadata": {},
   "source": [
    "**Actividad.--** Realice el cómputo de la siguiente expresión usando TensorFlow en R\n",
    "\n",
    "$$-0.9 * 2^3 + 2.5 * 2^2 - 3.8 * 2 -4.3$$"
   ]
  },
  {
   "cell_type": "markdown",
   "metadata": {},
   "source": [
    "## Operaciones con escalares"
   ]
  },
  {
   "cell_type": "markdown",
   "metadata": {},
   "source": [
    "Las operaciones aritméticas en R con TensorFlow siguen siendo homologas a las presentadas en el modulo anterior.\n",
    "\n",
    "    Operacion               equivalente\n",
    "    --------------------------------------\n",
    "    tf$add(a, b)            a + b\n",
    "tf$multiply(a, b)       a * b\n",
    "    tf$subtract(a, b)       a - b\n",
    "tf$divide(a, b)         a / b\n",
    "    tf$pow(a, b)            a ** b\n",
    "tf$mod(a, b)            a % b\n",
    "    \n",
    "    tf$abs(a)               abs(a)\n",
    "tf$square(a)            a ** 2\n",
    "    tf$sqrt(a)              sqrt(a)\n",
    "tf$exp(a)               exp(a)\n",
    "    tf$negative(a)          -a\n",
    "tf$sigmoid(a)           1 / (1 + exp(-a))\n",
    "    tf$sign                 sign(a)\n",
    "tf$maximum\n",
    "    tf$minimum\n",
    "tf$logical_and(a, b)    a & b\n",
    "    tf$logical_or(a, b)     a | b   \n",
    "tf$greater(a, b)        a > b\n",
    "    tf$greater_equal(a, b)  a >= b\n",
    "tf$less_equal(a, b)     a <= b\n",
    "    tf$less(a, b)           a < b\n",
    "tf$logical_not(a)       ~a \n",
    "    tf$equal(a, b)          a == b\n",
    "tf$not_equal            a != b"
   ]
  },
  {
   "cell_type": "markdown",
   "metadata": {},
   "source": [
    "---\n",
    "**Actividad.--** Compute las siguientes expresiones usando TensorFlow y use TensorBoard para visualizar las gráficas computacionales.\n",
    "\n",
    "* $\\frac{5*(4^2) + \\exp{(2)}}{9^2}$\n",
    "\n",
    "---"
   ]
  },
  {
   "cell_type": "markdown",
   "metadata": {},
   "source": [
    "## Operaciones matriciales"
   ]
  },
  {
   "cell_type": "markdown",
   "metadata": {},
   "source": [
    "TensorFlow en R también soporta una gran cantidad de operaciones matriciales. A continuación se presentan ejemplos básicos disponibles:"
   ]
  },
  {
   "cell_type": "code",
   "execution_count": 37,
   "metadata": {},
   "outputs": [
    {
     "name": "stdout",
     "output_type": "stream",
     "text": [
      "     [,1] [,2] [,3]\n",
      "[1,]    1    1    1\n",
      "[2,]    1    1    1\n",
      "[3,]    1    1    1\n"
     ]
    }
   ],
   "source": [
    "## Convierte una matriz de R a un tensor\n",
    "with(tf$Session() %as% sess,{\n",
    "    a <- matrix(1,3,3)\n",
    "    b <- tf$convert_to_tensor(a)$eval()\n",
    "})\n",
    "print(b)"
   ]
  },
  {
   "cell_type": "code",
   "execution_count": 38,
   "metadata": {},
   "outputs": [
    {
     "name": "stdout",
     "output_type": "stream",
     "text": [
      "     [,1] [,2]\n",
      "[1,]    0    0\n",
      "[2,]    0    0\n"
     ]
    }
   ],
   "source": [
    "## crea un tensor de 2x2 con ceros\n",
    "with(tf$Session() %as% sess, {\n",
    "    print(tf$zeros(c(2,2))$eval())\n",
    "})"
   ]
  },
  {
   "cell_type": "code",
   "execution_count": 39,
   "metadata": {},
   "outputs": [
    {
     "name": "stdout",
     "output_type": "stream",
     "text": [
      "     [,1] [,2]\n",
      "[1,]    1    1\n",
      "[2,]    1    1\n"
     ]
    }
   ],
   "source": [
    "## crea un tensor de 2x2 con unos\n",
    "with(tf$Session() %as% sess, {\n",
    "    print(tf$ones(c(2,2))$eval())\n",
    "})"
   ]
  },
  {
   "cell_type": "code",
   "execution_count": 91,
   "metadata": {},
   "outputs": [
    {
     "name": "stdout",
     "output_type": "stream",
     "text": [
      "           [,1]       [,2]\n",
      "[1,] -2.0449452 -0.1258496\n",
      "[2,] -0.0626974 -1.0317870\n",
      "[3,]  0.4562011  0.8926023\n"
     ]
    }
   ],
   "source": [
    "## crea un tensor de 3x2 con aleatorios \n",
    "## Por defecto genera valores de la normal estandar\n",
    "with(tf$Session() %as% sess, {\n",
    "    t -> tf$random_normal(list(3L,2L))\n",
    "    print(t$eval())\n",
    "})"
   ]
  },
  {
   "cell_type": "code",
   "execution_count": 92,
   "metadata": {},
   "outputs": [
    {
     "name": "stdout",
     "output_type": "stream",
     "text": [
      "           [,1]      [,2]\n",
      "[1,]  0.3284631 -1.653644\n",
      "[2,] -1.6417620 -1.094942\n",
      "[3,] -0.3659464  1.332795\n"
     ]
    }
   ],
   "source": [
    "## crea un tensor de 3x2 con aleatorios \n",
    "## normales truncado\n",
    "with(tf$Session() %as% sess, {\n",
    "    t -> tf$truncated_normal(list(3L,2L))\n",
    "    print(t$eval())\n",
    "})"
   ]
  },
  {
   "cell_type": "code",
   "execution_count": 93,
   "metadata": {},
   "outputs": [
    {
     "name": "stdout",
     "output_type": "stream",
     "text": [
      "            [,1]      [,2]\n",
      "[1,] 0.460012436 0.4434766\n",
      "[2,] 0.073261619 0.8804345\n",
      "[3,] 0.002163768 0.3541161\n"
     ]
    }
   ],
   "source": [
    "## crea un tensor de aleatorios uniformes de 3x2\n",
    "with(tf$Session() %as% sess, {\n",
    "    t -> tf$random_uniform(list(3L,2L))\n",
    "    print(t$eval())\n",
    "})"
   ]
  },
  {
   "cell_type": "code",
   "execution_count": 94,
   "metadata": {},
   "outputs": [
    {
     "name": "stdout",
     "output_type": "stream",
     "text": [
      "     [,1] [,2]\n",
      "[1,]    4    4\n",
      "[2,]    4    4\n",
      "[3,]    4    4\n"
     ]
    }
   ],
   "source": [
    "## crea un tensor de 3x2 lleno de 4s.\n",
    "with(tf$Session() %as% sess, {\n",
    "    t -> tf$fill(list(3L,2L),4)\n",
    "    print(t$eval())\n",
    "})"
   ]
  },
  {
   "cell_type": "code",
   "execution_count": 128,
   "metadata": {},
   "outputs": [
    {
     "name": "stdout",
     "output_type": "stream",
     "text": [
      "     [,1] [,2]\n",
      "[1,]    1    4\n",
      "[2,]    2    5\n",
      "[3,]    3    6\n"
     ]
    }
   ],
   "source": [
    "## crea un tensor constante a partir de \n",
    "## una lista de listas que representan una\n",
    "## matriz\n",
    "with(tf$Session() %as% sess, {\n",
    "    t -> tf$constant(cbind(c(1,2,3),c(4,5,6)))\n",
    "    print(t$eval())\n",
    "})"
   ]
  },
  {
   "cell_type": "code",
   "execution_count": 129,
   "metadata": {},
   "outputs": [
    {
     "name": "stdout",
     "output_type": "stream",
     "text": [
      "[1] 6 3 2 5 1 4\n"
     ]
    }
   ],
   "source": [
    "## genera un tensor mezclando los elementos\n",
    "## de un tensor constante\n",
    "with(tf$Session() %as% sess, {\n",
    "    t -> tf$random_shuffle(c(1,2,3,4,5,6))\n",
    "    print(t$eval())\n",
    "})"
   ]
  },
  {
   "cell_type": "markdown",
   "metadata": {},
   "source": [
    "Se utilizan funciones análogas para reducir los tensores:\n",
    "\n",
    "    tf$reduce_sum\n",
    "tf$reduce_prod\n",
    "    tf$reduce_min\n",
    "tf$reduce_max\n",
    "    tf$reduce_mean\n",
    "tf$reduce_all\n",
    "    tf$reduce_any\n",
    "tf$reduce_logsumexp\n",
    "    tf$count_nonzero\n",
    "tf$accumulate_n\n",
    "    tf$einsum\n",
    "    "
   ]
  },
  {
   "cell_type": "code",
   "execution_count": 145,
   "metadata": {},
   "outputs": [
    {
     "name": "stdout",
     "output_type": "stream",
     "text": [
      "     [,1] [,2]\n",
      "[1,]    1    4\n",
      "[2,]    2    5\n",
      "[3,]    3    6\n",
      "(3, 2)\n"
     ]
    }
   ],
   "source": [
    "## obtiene las dimensiones de un tensor\n",
    "with(tf$Session() %as% sess, {\n",
    "    m <- tf$constant(cbind(c(1,2,3),c(4,5,6)))\n",
    "    print(m$eval())\n",
    "    print(m$get_shape())\n",
    "})"
   ]
  },
  {
   "cell_type": "code",
   "execution_count": 146,
   "metadata": {},
   "outputs": [
    {
     "name": "stdout",
     "output_type": "stream",
     "text": [
      "[1]  6 15\n"
     ]
    }
   ],
   "source": [
    "## suma de las columnas de un tensor\n",
    "with(tf$Session() %as% sess, {\n",
    "    print(tf$reduce_sum(m,reduction_indices=list(0L))$eval())\n",
    "})"
   ]
  },
  {
   "cell_type": "code",
   "execution_count": 147,
   "metadata": {},
   "outputs": [
    {
     "name": "stdout",
     "output_type": "stream",
     "text": [
      "[1] 5 7 9\n"
     ]
    }
   ],
   "source": [
    "## suma de las filas de un tensor\n",
    "with(tf$Session() %as% sess, {\n",
    "    print(tf$reduce_sum(m,reduction_indices=list(1L))$eval())\n",
    "})"
   ]
  },
  {
   "cell_type": "code",
   "execution_count": 148,
   "metadata": {},
   "outputs": [
    {
     "name": "stdout",
     "output_type": "stream",
     "text": [
      "[1] 21\n"
     ]
    }
   ],
   "source": [
    "## suma de todos los elementos de un tensor\n",
    "## suma de las filas de un tensor\n",
    "with(tf$Session() %as% sess, {\n",
    "    print(tf$reduce_sum(m)$eval())\n",
    "})"
   ]
  },
  {
   "cell_type": "code",
   "execution_count": 150,
   "metadata": {},
   "outputs": [
    {
     "name": "stdout",
     "output_type": "stream",
     "text": [
      "     [,1] [,2]\n",
      "[1,]    2    8\n",
      "[2,]    4   10\n",
      "[3,]    6   12\n"
     ]
    }
   ],
   "source": [
    "## suma dos tensores\n",
    "with(tf$Session() %as% sess, {\n",
    "    a = m + m \n",
    "    print(a$eval())\n",
    "})"
   ]
  },
  {
   "cell_type": "code",
   "execution_count": 155,
   "metadata": {},
   "outputs": [
    {
     "name": "stdout",
     "output_type": "stream",
     "text": [
      "     [,1] [,2] [,3] [,4] [,5] [,6]\n",
      "[1,]    1    4    2    5    3    6\n"
     ]
    }
   ],
   "source": [
    "## cambia las dimensiones de un tensor\n",
    "with(tf$Session() %as% sess, {\n",
    "    print(tf$reshape(m,list(1L,6L))$eval())\n",
    "})"
   ]
  },
  {
   "cell_type": "code",
   "execution_count": 156,
   "metadata": {
    "scrolled": true
   },
   "outputs": [
    {
     "name": "stdout",
     "output_type": "stream",
     "text": [
      "     [,1] [,2]\n",
      "[1,]    1    4\n",
      "[2,]    2    5\n",
      "[3,]    3    6\n"
     ]
    }
   ],
   "source": [
    "## cambia las dimensiones de un tensor\n",
    "with(tf$Session() %as% sess, {\n",
    "    print(tf$reshape(m,list(3L,2L))$eval())\n",
    "})"
   ]
  },
  {
   "cell_type": "code",
   "execution_count": 2,
   "metadata": {},
   "outputs": [
    {
     "name": "stdout",
     "output_type": "stream",
     "text": [
      "     [,1] [,2]\n",
      "[1,]    7    6\n",
      "[2,]    4   14\n"
     ]
    }
   ],
   "source": [
    "## suma varios tensores elemento a elemento\n",
    "with(tf$Session() %as% sess, {\n",
    "    a <- tf$constant(cbind(c(1,2),c(3,4)))\n",
    "    b <- tf$constant(cbind(c(5,0),c(0,6)))\n",
    "    print(tf$accumulate_n(c(a,b,a))$eval())\n",
    "})"
   ]
  },
  {
   "cell_type": "code",
   "execution_count": 10,
   "metadata": {},
   "outputs": [
    {
     "name": "stdout",
     "output_type": "stream",
     "text": [
      "     [,1] [,2]\n",
      "[1,]    7    6\n",
      "[2,]    4   14\n"
     ]
    }
   ],
   "source": [
    "## suma varios tensores elemento a elemento\n",
    "with(tf$Session() %as% sess, {\n",
    "    print(tf$add_n(c(a,b,a))$eval())\n",
    "})"
   ]
  },
  {
   "cell_type": "code",
   "execution_count": 16,
   "metadata": {},
   "outputs": [
    {
     "name": "stdout",
     "output_type": "stream",
     "text": [
      "[1] 3\n"
     ]
    }
   ],
   "source": [
    "## Busca el valor máximo en el tensor y devuelve la posición contando desde cero\n",
    "with(tf$Session() %as% sess, {\n",
    "    t <- tf$constant(c(1,3,2,5,0))\n",
    "    print(tf$argmax(t)$eval())\n",
    "})"
   ]
  },
  {
   "cell_type": "code",
   "execution_count": 17,
   "metadata": {},
   "outputs": [
    {
     "name": "stdout",
     "output_type": "stream",
     "text": [
      "[1] 4\n"
     ]
    }
   ],
   "source": [
    "## Busca el valor mínimo en el tensor y devuelve la posición contando desde cero\n",
    "with(tf$Session() %as% sess, {\n",
    "    t <- tf$constant(c(1,3,2,5,0))\n",
    "    print(tf$argmin(t)$eval())\n",
    "})"
   ]
  },
  {
   "cell_type": "markdown",
   "metadata": {},
   "source": [
    "**Actividad.--** Para las matrices\n",
    "\n",
    "$$\\mathbf{X} =\n",
    "\\left[\n",
    "  \\begin{array}{cc}\n",
    "     0.0 & 2.1 \\\\\n",
    "     1.9 & 6.2 \\\\\n",
    "     3.0 & 1.9 \\\\\n",
    "     1.2 & 3.2 \n",
    "  \\end{array}\n",
    "\\right],\n",
    "\\qquad \\mathbf{y} = \n",
    "\\left[\n",
    "  \\begin{array}{c}\n",
    "     3.1 \\\\\n",
    "     4.0 \\\\\n",
    "     5.1 \\\\\n",
    "     6.1  \n",
    "  \\end{array}\n",
    "\\right]\n",
    "$$\n",
    "\n",
    "compute\n",
    "\n",
    "* $\\mathbf{z} = (\\mathbf{X}' \\mathbf{X})^{-1} \\mathbf{X}' \\mathbf{y}$\n",
    "\n",
    "\n",
    "* $\\mathbf{p} = \\mathbf{X} \\mathbf{z}$"
   ]
  },
  {
   "cell_type": "markdown",
   "metadata": {},
   "source": [
    "**Actividad.--** Indique para que sirven las siguientes funciones del modulo `tf` y realice un ejemplo:\n",
    "\n",
    "    tf$clip_by_value\n",
    "tf$clip_by_norm\n",
    "    tf$clip_by_average_norm\n",
    "tf$clip_by_global_norm\n",
    "    tf$clip_by_norm\n",
    "tf$concat\n",
    "    tf$case\n",
    "tf$cond\n",
    "    tf$cumprod\n",
    "tf$cumsum\n",
    "    tf$diag\n",
    "tf$inverse_permutation\n",
    "    tf$log_sigmoid \n",
    "tf$map_fn\n",
    "    \n",
    "    tf$matrix_inverse\n",
    "tf$matrix_diag\n",
    "    tf$matrix_set_diag\n",
    "tf$matrix_solve\n",
    "    tf$matrix_transpose\n",
    "tf$parallel_stack\n",
    "    tf$stack\n",
    "tf$random_shuffle\n",
    "    tf$reverse\n",
    "tf$maximum\n",
    "    tf$minimum\n",
    "    "
   ]
  },
  {
   "cell_type": "markdown",
   "metadata": {},
   "source": [
    "## Variables y Placeholders"
   ]
  },
  {
   "cell_type": "markdown",
   "metadata": {},
   "source": [
    "Las variables en TensorFlow pueden entenderse como las variables locales de una función, las cuales no pueden ser accesadas desde el exterior. Los placeholders son equivalentes a los parámetros, los cuales pueden tomar cualquier valor cuando se llama la función."
   ]
  },
  {
   "cell_type": "code",
   "execution_count": 70,
   "metadata": {},
   "outputs": [
    {
     "name": "stdout",
     "output_type": "stream",
     "text": [
      "[1] 10\n",
      "[1] 3\n",
      "[1] 8\n"
     ]
    }
   ],
   "source": [
    "## define a, b y c como placeholders\n",
    "a <- tf$placeholder(tf$float32)\n",
    "b <- tf$placeholder(tf$float32)\n",
    "c <- tf$placeholder(tf$float32)\n",
    "\n",
    "## define los nodos de cómputo\n",
    "node4 <- tf$multiply(a, b)\n",
    "node5 <- tf$add(c, b)\n",
    "node6 <- tf$subtract(node4, node5)\n",
    "\n",
    "with(tf$Session() %as% sess,{\n",
    "    print(sess$run(node6, feed_dict=dict(a = 5, b = 3,c=2)))\n",
    "    print(sess$run(node6, feed_dict=dict(a = 4, b = 2,c=3)))\n",
    "    print(sess$run(node6, feed_dict=dict(a = 4, b = 3,c=1)))\n",
    "})"
   ]
  },
  {
   "cell_type": "code",
   "execution_count": 85,
   "metadata": {},
   "outputs": [
    {
     "name": "stdout",
     "output_type": "stream",
     "text": [
      "           [,1]      [,2]      [,3]\n",
      "[1,]  0.5919801 -1.009552 0.1683660\n",
      "[2,] -0.3372244  1.635849 1.3323969\n",
      "[3,] -2.1025639  2.502614 0.6471938\n"
     ]
    }
   ],
   "source": [
    "##\n",
    "## la misma operación pero matricial\n",
    "##\n",
    "a <- tf$placeholder(tf$float32,shape=c(3L,3L))\n",
    "b <- tf$placeholder(tf$float32,shape=c(3L,3L))\n",
    "c <- tf$placeholder(tf$float32,shape=c(3L,3L))\n",
    "\n",
    "node4 = tf$multiply(a, b)\n",
    "node5 = tf$add(c, b)\n",
    "node6 = tf$subtract(node4, node5)\n",
    "\n",
    "with(tf$Session() %as% sess,{\n",
    "    print(sess$run(node6, feed_dict=dict(\n",
    "        a = cbind(c(1,0,0),c(0,1,0),c(0,0,1)),\n",
    "        b = matrix(rnorm(9),3,3),\n",
    "        c = matrix(rnorm(9),3,3))))\n",
    "})"
   ]
  },
  {
   "cell_type": "markdown",
   "metadata": {},
   "source": [
    "El siguiente ejemplo presente un acumulador para el calculo de $n = n + 1$.\n",
    "\n",
    "    [=] (node1)  \n",
    "     +---[n]\n",
    "     +---[+] (node0)\n",
    "          +----[n]\n",
    "          +----[1]\n",
    "     "
   ]
  },
  {
   "cell_type": "code",
   "execution_count": 88,
   "metadata": {},
   "outputs": [
    {
     "name": "stdout",
     "output_type": "stream",
     "text": [
      "[1] 1\n",
      "[1] 2\n",
      "[1] 3\n",
      "[1] 4\n",
      "[1] 5\n"
     ]
    }
   ],
   "source": [
    "## crea la variable y la inicializa a cero\n",
    "n <- tf$Variable(0)\n",
    "\n",
    "## arbol sintactico que representa las operaciones\n",
    "node0 <- tf$add(n, tf$constant(1))\n",
    "node1 <- tf$assign(n, node0)\n",
    "\n",
    "## Evalua\n",
    "with(tf$Session() %as% sess, {\n",
    "    \n",
    "    sess$run(tf$global_variables_initializer())\n",
    "    \n",
    "    for (i in seq(1,5,1)){\n",
    "        print(sess$run(node1))\n",
    "    }\n",
    "})"
   ]
  },
  {
   "cell_type": "code",
   "execution_count": 89,
   "metadata": {},
   "outputs": [
    {
     "name": "stdout",
     "output_type": "stream",
     "text": [
      "[1] 1\n",
      "[1] 2\n",
      "[1] 3\n",
      "[1] 4\n",
      "[1] 5\n"
     ]
    }
   ],
   "source": [
    "## crea la variable y la inicializa a cero\n",
    "n <- tf$Variable(0)\n",
    "\n",
    "node0 <- tf$assign_add(n,tf$constant(1))\n",
    "\n",
    "## arbol sintactico que representa las operaciones\n",
    "## se usa tf$assign_add para simplificar el arbol\n",
    "## tambien existe tf$assign_sub\n",
    "with(tf$Session() %as% sess, {\n",
    "    sess$run(tf$global_variables_initializer())\n",
    "    for (i in seq(1,5,1)){\n",
    "        print(sess$run(node0))\n",
    "    }\n",
    "})"
   ]
  },
  {
   "cell_type": "markdown",
   "metadata": {},
   "source": [
    "**Actividad.--** Evalue la función\n",
    "\n",
    "$$f(x) = 0.3x^3 - 0.6x^2 - 0.1x + 0.5$$\n",
    "\n",
    "para el vector\n",
    "\n",
    "\n",
    "$$\\mathbf{x} = \n",
    "\\left[\n",
    "  \\begin{array}{c}\n",
    "     1.0 \\\\\n",
    "     4.2 \\\\\n",
    "     3.1 \\\\\n",
    "     6.3  \n",
    "  \\end{array}\n",
    "\\right]\n",
    "$$\n",
    "\n",
    "\n"
   ]
  },
  {
   "cell_type": "markdown",
   "metadata": {},
   "source": [
    "**Actividad.--** Genere los 10 primeros términos de la serie de Fibonacci usando TensorFlow.\n",
    "\n",
    "    1, 1, 2, 3, 5, 8, 13, ..."
   ]
  },
  {
   "cell_type": "markdown",
   "metadata": {},
   "source": [
    "## Uso de TensorFlow con otras librerías de R"
   ]
  },
  {
   "cell_type": "markdown",
   "metadata": {},
   "source": [
    "Los resultados de cómputos realizados con TensorFlow pueden ser asignados a variables en R para ser usados directamente con otras librerías. En el siguiente ejemplo, se generan 20 puntos  aleatorios normales estándar y luego se grafican con la función `plot` nativa de R:"
   ]
  },
  {
   "cell_type": "code",
   "execution_count": 101,
   "metadata": {},
   "outputs": [
    {
     "data": {
      "image/png": "[encoded data removed]",
      "text/plain": [
       "plot without title"
      ]
     },
     "metadata": {},
     "output_type": "display_data"
    }
   ],
   "source": [
    "## Se generan los datos\n",
    "a <- tf$random_normal(list(2L,20L))\n",
    "\n",
    "with(tf$Session() %as% sess,{\n",
    "    result <- sess$run(a)\n",
    "})\n",
    "\n",
    "## Se asignan los valores a las variables x y y\n",
    "x <- result[1,]\n",
    "y <- result[2,]\n",
    "plot(x,y, col= \"red\")"
   ]
  }
 ],
 "metadata": {
  "kernelspec": {
   "display_name": "R",
   "language": "R",
   "name": "ir"
  },
  "language_info": {
   "codemirror_mode": "r",
   "file_extension": ".r",
   "mimetype": "text/x-r-source",
   "name": "R",
   "pygments_lexer": "r",
   "version": "3.4.4"
  }
 },
 "nbformat": 4,
 "nbformat_minor": 2
}
