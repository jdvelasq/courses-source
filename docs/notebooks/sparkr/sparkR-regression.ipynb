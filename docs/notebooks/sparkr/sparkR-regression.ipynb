{
 "cells": [
  {
   "cell_type": "markdown",
   "metadata": {},
   "source": [
    "Predicción de gastos médicos en SparkR\n",
    "===\n",
    "\n",
    "* *30 min* | Última modificación: Junio 22, 2019"
   ]
  },
  {
   "cell_type": "markdown",
   "metadata": {},
   "source": [
    "En este tutorial se presentan los comandos fundamentales para construir un modelo de regresión lineal para la predicción de gastos médicos por parte de una aseguradora usando SparkR."
   ]
  },
  {
   "cell_type": "markdown",
   "metadata": {},
   "source": [
    "## Definición del problema"
   ]
  },
  {
   "cell_type": "markdown",
   "metadata": {},
   "source": [
    "Una compañía de seguros desea pronósticar los gastos médicos de la población asegurada con el fin de recolectar un valor superior en ingresos, tal que le permita obtener utilidades. Los costos son difíciles de pronósticar ya que las condiciones más costosas son más raras y parecen aleatorias; y que ciertas condiciones son más probables para ciertos segmentos de la población (infarto en personas obesas y cáncer en fumadores)."
   ]
  },
  {
   "cell_type": "markdown",
   "metadata": {},
   "source": [
    "El objetivo es usar una base de datos con 1338 registros de gastos médicos hipotéticos para pacientes de EU con el fin de estimar los costos para determinados segmentos de la población. La información registrada es la siguiente:\n",
    "\n",
    "* Age: entero hasta 64.\n",
    "\n",
    "* Sex: male, female.\n",
    "\n",
    "* bmi: Body mass index.\n",
    "\n",
    "* children: entero indicando la cantidad de hijos/dependientes cubiertos por el plan de salud.\n",
    "\n",
    "* smoker: yes, no.\n",
    "\n",
    "* region: northest, southeast, southwest, northwest.\n",
    "\n",
    "* charges: costos.\n"
   ]
  },
  {
   "cell_type": "markdown",
   "metadata": {},
   "source": [
    "## Solución"
   ]
  },
  {
   "cell_type": "markdown",
   "metadata": {},
   "source": [
    "### Preparación"
   ]
  },
  {
   "cell_type": "code",
   "execution_count": 1,
   "metadata": {},
   "outputs": [],
   "source": [
    "##\n",
    "## Esta función se usará para ejecutar comandos en el \n",
    "## sistema operativo y capturar la salida.\n",
    "##\n",
    "systemp <- function(command) cat(system(command, intern = TRUE), sep = '\\n')"
   ]
  },
  {
   "cell_type": "code",
   "execution_count": 2,
   "metadata": {},
   "outputs": [
    {
     "name": "stderr",
     "output_type": "stream",
     "text": [
      "\n",
      "Attaching package: ‘SparkR’\n",
      "\n",
      "The following objects are masked from ‘package:stats’:\n",
      "\n",
      "    cov, filter, lag, na.omit, predict, sd, var, window\n",
      "\n",
      "The following objects are masked from ‘package:base’:\n",
      "\n",
      "    as.data.frame, colnames, colnames<-, drop, endsWith, intersect,\n",
      "    rank, rbind, sample, startsWith, subset, summary, transform, union\n",
      "\n",
      "Spark package found in SPARK_HOME: /usr/local/spark-2.4.0\n"
     ]
    },
    {
     "name": "stdout",
     "output_type": "stream",
     "text": [
      "Launching java with spark-submit command /usr/local/spark-2.4.0/bin/spark-submit   sparkr-shell /tmp/Rtmp6lSMIr/backend_port3f4e3ad21f00 \n"
     ]
    },
    {
     "name": "stderr",
     "output_type": "stream",
     "text": [
      "Warning message in sparkR.session(enableHiveSupport = TRUE):\n",
      "“Version mismatch between Spark JVM and SparkR package. JVM version was 2.4.0 , while R package version was 2.4.3”"
     ]
    },
    {
     "data": {
      "text/plain": [
       "Java ref type org.apache.spark.sql.SparkSession id 1 "
      ]
     },
     "metadata": {},
     "output_type": "display_data"
    }
   ],
   "source": [
    "##\n",
    "## Se procede a la carga de la librería\n",
    "##\n",
    "library(SparkR)\n",
    "sparkR.session(enableHiveSupport = TRUE)"
   ]
  },
  {
   "cell_type": "markdown",
   "metadata": {},
   "source": [
    "### Carga de datos"
   ]
  },
  {
   "cell_type": "markdown",
   "metadata": {},
   "source": [
    "Se mueve el archivo de la máquina local a sistema HDFS."
   ]
  },
  {
   "cell_type": "code",
   "execution_count": null,
   "metadata": {},
   "outputs": [],
   "source": [
    "## copia el archivo al HDFS\n",
    "systemp('hdfs dfs -copyFromLocal insurance.csv /tmp/insurance.csv') "
   ]
  },
  {
   "cell_type": "markdown",
   "metadata": {},
   "source": [
    "Se realizar la carga de los datos en SparkR, y se verifica la lectura del archivo."
   ]
  },
  {
   "cell_type": "code",
   "execution_count": 3,
   "metadata": {},
   "outputs": [
    {
     "data": {
      "text/html": [
       "<table>\n",
       "<caption>A data.frame: 6 × 7</caption>\n",
       "<thead>\n",
       "\t<tr><th scope=col>age</th><th scope=col>sex</th><th scope=col>bmi</th><th scope=col>children</th><th scope=col>smoker</th><th scope=col>region</th><th scope=col>charges</th></tr>\n",
       "\t<tr><th scope=col>&lt;chr&gt;</th><th scope=col>&lt;chr&gt;</th><th scope=col>&lt;chr&gt;</th><th scope=col>&lt;chr&gt;</th><th scope=col>&lt;chr&gt;</th><th scope=col>&lt;chr&gt;</th><th scope=col>&lt;chr&gt;</th></tr>\n",
       "</thead>\n",
       "<tbody>\n",
       "\t<tr><td>19</td><td>female</td><td>27.9  </td><td>0</td><td>yes</td><td>southwest</td><td>16884.924  </td></tr>\n",
       "\t<tr><td>18</td><td>male  </td><td>33.77 </td><td>1</td><td>no </td><td>southeast</td><td>1725.5523  </td></tr>\n",
       "\t<tr><td>28</td><td>male  </td><td>33    </td><td>3</td><td>no </td><td>southeast</td><td>4449.462   </td></tr>\n",
       "\t<tr><td>33</td><td>male  </td><td>22.705</td><td>0</td><td>no </td><td>northwest</td><td>21984.47061</td></tr>\n",
       "\t<tr><td>32</td><td>male  </td><td>28.88 </td><td>0</td><td>no </td><td>northwest</td><td>3866.8552  </td></tr>\n",
       "\t<tr><td>31</td><td>female</td><td>25.74 </td><td>0</td><td>no </td><td>southeast</td><td>3756.6216  </td></tr>\n",
       "</tbody>\n",
       "</table>\n"
      ],
      "text/latex": [
       "A data.frame: 6 × 7\n",
       "\\begin{tabular}{r|lllllll}\n",
       " age & sex & bmi & children & smoker & region & charges\\\\\n",
       " <chr> & <chr> & <chr> & <chr> & <chr> & <chr> & <chr>\\\\\n",
       "\\hline\n",
       "\t 19 & female & 27.9   & 0 & yes & southwest & 16884.924  \\\\\n",
       "\t 18 & male   & 33.77  & 1 & no  & southeast & 1725.5523  \\\\\n",
       "\t 28 & male   & 33     & 3 & no  & southeast & 4449.462   \\\\\n",
       "\t 33 & male   & 22.705 & 0 & no  & northwest & 21984.47061\\\\\n",
       "\t 32 & male   & 28.88  & 0 & no  & northwest & 3866.8552  \\\\\n",
       "\t 31 & female & 25.74  & 0 & no  & southeast & 3756.6216  \\\\\n",
       "\\end{tabular}\n"
      ],
      "text/markdown": [
       "\n",
       "A data.frame: 6 × 7\n",
       "\n",
       "| age &lt;chr&gt; | sex &lt;chr&gt; | bmi &lt;chr&gt; | children &lt;chr&gt; | smoker &lt;chr&gt; | region &lt;chr&gt; | charges &lt;chr&gt; |\n",
       "|---|---|---|---|---|---|---|\n",
       "| 19 | female | 27.9   | 0 | yes | southwest | 16884.924   |\n",
       "| 18 | male   | 33.77  | 1 | no  | southeast | 1725.5523   |\n",
       "| 28 | male   | 33     | 3 | no  | southeast | 4449.462    |\n",
       "| 33 | male   | 22.705 | 0 | no  | northwest | 21984.47061 |\n",
       "| 32 | male   | 28.88  | 0 | no  | northwest | 3866.8552   |\n",
       "| 31 | female | 25.74  | 0 | no  | southeast | 3756.6216   |\n",
       "\n"
      ],
      "text/plain": [
       "  age sex    bmi    children smoker region    charges    \n",
       "1 19  female 27.9   0        yes    southwest 16884.924  \n",
       "2 18  male   33.77  1        no     southeast 1725.5523  \n",
       "3 28  male   33     3        no     southeast 4449.462   \n",
       "4 33  male   22.705 0        no     northwest 21984.47061\n",
       "5 32  male   28.88  0        no     northwest 3866.8552  \n",
       "6 31  female 25.74  0        no     southeast 3756.6216  "
      ]
     },
     "metadata": {},
     "output_type": "display_data"
    }
   ],
   "source": [
    "df <- read.df(\n",
    "    '/tmp/insurance.csv',  # ubicación y nombre del archivo\n",
    "    'csv',                 # formato\n",
    "    header = TRUE)         # encabeamiento\n",
    "\n",
    "head(df)"
   ]
  },
  {
   "cell_type": "code",
   "execution_count": 4,
   "metadata": {},
   "outputs": [
    {
     "name": "stdout",
     "output_type": "stream",
     "text": [
      "root\n",
      " |-- age: string (nullable = true)\n",
      " |-- sex: string (nullable = true)\n",
      " |-- bmi: string (nullable = true)\n",
      " |-- children: string (nullable = true)\n",
      " |-- smoker: string (nullable = true)\n",
      " |-- region: string (nullable = true)\n",
      " |-- charges: string (nullable = true)\n"
     ]
    }
   ],
   "source": [
    "##\n",
    "## Se imprime el esquema en formato de arbol\n",
    "##\n",
    "printSchema(df)"
   ]
  },
  {
   "cell_type": "code",
   "execution_count": 5,
   "metadata": {},
   "outputs": [
    {
     "name": "stdout",
     "output_type": "stream",
     "text": [
      "[1] \"age\"    \"string\"\n",
      "[1] \"sex\"    \"string\"\n",
      "[1] \"bmi\"    \"string\"\n",
      "[1] \"children\" \"string\"  \n",
      "[1] \"smoker\" \"string\"\n",
      "[1] \"region\" \"string\"\n",
      "[1] \"charges\" \"string\" \n"
     ]
    }
   ],
   "source": [
    "for(x in dtypes(df)){\n",
    "    print(x)\n",
    "}"
   ]
  },
  {
   "cell_type": "markdown",
   "metadata": {},
   "source": [
    "Como puede observarse, varios de los campos fueron leídos erróneamente como texto. Con la función `cast()` se procede a realizar la conversión de dichos campos a `double`."
   ]
  },
  {
   "cell_type": "code",
   "execution_count": 6,
   "metadata": {},
   "outputs": [],
   "source": [
    "df <- withColumn(df, 'age',      cast(df$age, 'double'))\n",
    "df <- withColumn(df, 'bmi',      cast(df$bmi, 'double'))\n",
    "df <- withColumn(df, 'children', cast(df$children, 'double'))\n",
    "df <- withColumn(df, 'charges',  cast(df$charges, 'double'))"
   ]
  },
  {
   "cell_type": "markdown",
   "metadata": {},
   "source": [
    "Se imprime nuevamente el esquema para verificar los tipos de los campos."
   ]
  },
  {
   "cell_type": "code",
   "execution_count": 7,
   "metadata": {},
   "outputs": [
    {
     "name": "stdout",
     "output_type": "stream",
     "text": [
      "root\n",
      " |-- age: double (nullable = true)\n",
      " |-- sex: string (nullable = true)\n",
      " |-- bmi: double (nullable = true)\n",
      " |-- children: double (nullable = true)\n",
      " |-- smoker: string (nullable = true)\n",
      " |-- region: string (nullable = true)\n",
      " |-- charges: double (nullable = true)\n"
     ]
    }
   ],
   "source": [
    "printSchema(df)"
   ]
  },
  {
   "cell_type": "markdown",
   "metadata": {},
   "source": [
    "### Análisis exploratorio"
   ]
  },
  {
   "cell_type": "code",
   "execution_count": 8,
   "metadata": {},
   "outputs": [
    {
     "data": {
      "text/html": [
       "<ol class=list-inline>\n",
       "\t<li>'age'</li>\n",
       "\t<li>'bmi'</li>\n",
       "\t<li>'children'</li>\n",
       "\t<li>'charges'</li>\n",
       "</ol>\n"
      ],
      "text/latex": [
       "\\begin{enumerate*}\n",
       "\\item 'age'\n",
       "\\item 'bmi'\n",
       "\\item 'children'\n",
       "\\item 'charges'\n",
       "\\end{enumerate*}\n"
      ],
      "text/markdown": [
       "1. 'age'\n",
       "2. 'bmi'\n",
       "3. 'children'\n",
       "4. 'charges'\n",
       "\n",
       "\n"
      ],
      "text/plain": [
       "[1] \"age\"      \"bmi\"      \"children\" \"charges\" "
      ]
     },
     "metadata": {},
     "output_type": "display_data"
    }
   ],
   "source": [
    "##\n",
    "## Se obtienen las columnas numéricas\n",
    "##\n",
    "num_columns <- c() \n",
    "for(x in dtypes(df)){\n",
    "    if(x[2] != 'string') \n",
    "        num_columns <- c(num_columns, x[1])\n",
    "}\n",
    "num_columns"
   ]
  },
  {
   "cell_type": "markdown",
   "metadata": {},
   "source": [
    "La función `summary` de SparkR permite obtener los principales estadísticos del DataFrame. Puesto que dicha función retorna un DataFrame de Spark, es necesario usar `collect()` para visualizar la tabla de resultados."
   ]
  },
  {
   "cell_type": "code",
   "execution_count": 10,
   "metadata": {},
   "outputs": [
    {
     "data": {
      "text/html": [
       "<table>\n",
       "<caption>A data.frame: 8 × 5</caption>\n",
       "<thead>\n",
       "\t<tr><th scope=col>summary</th><th scope=col>age</th><th scope=col>bmi</th><th scope=col>children</th><th scope=col>charges</th></tr>\n",
       "\t<tr><th scope=col>&lt;chr&gt;</th><th scope=col>&lt;chr&gt;</th><th scope=col>&lt;chr&gt;</th><th scope=col>&lt;chr&gt;</th><th scope=col>&lt;chr&gt;</th></tr>\n",
       "</thead>\n",
       "<tbody>\n",
       "\t<tr><td>count </td><td>1338              </td><td>1338              </td><td>1338             </td><td>1338              </td></tr>\n",
       "\t<tr><td>mean  </td><td>39.20702541106129 </td><td>30.663396860986538</td><td>1.0949177877429  </td><td>13270.422265141257</td></tr>\n",
       "\t<tr><td>stddev</td><td>14.049960379216147</td><td>6.098186911679012 </td><td>1.205492739781914</td><td>12110.011236693992</td></tr>\n",
       "\t<tr><td>min   </td><td>18.0              </td><td>15.96             </td><td>0.0              </td><td>1121.8739         </td></tr>\n",
       "\t<tr><td>25%   </td><td>27.0              </td><td>26.29             </td><td>0.0              </td><td>4738.2682         </td></tr>\n",
       "\t<tr><td>50%   </td><td>39.0              </td><td>30.4              </td><td>1.0              </td><td>9377.9047         </td></tr>\n",
       "\t<tr><td>75%   </td><td>51.0              </td><td>34.7              </td><td>2.0              </td><td>16657.71745       </td></tr>\n",
       "\t<tr><td>max   </td><td>64.0              </td><td>53.13             </td><td>5.0              </td><td>63770.42801       </td></tr>\n",
       "</tbody>\n",
       "</table>\n"
      ],
      "text/latex": [
       "A data.frame: 8 × 5\n",
       "\\begin{tabular}{r|lllll}\n",
       " summary & age & bmi & children & charges\\\\\n",
       " <chr> & <chr> & <chr> & <chr> & <chr>\\\\\n",
       "\\hline\n",
       "\t count  & 1338               & 1338               & 1338              & 1338              \\\\\n",
       "\t mean   & 39.20702541106129  & 30.663396860986538 & 1.0949177877429   & 13270.422265141257\\\\\n",
       "\t stddev & 14.049960379216147 & 6.098186911679012  & 1.205492739781914 & 12110.011236693992\\\\\n",
       "\t min    & 18.0               & 15.96              & 0.0               & 1121.8739         \\\\\n",
       "\t 25\\%    & 27.0               & 26.29              & 0.0               & 4738.2682         \\\\\n",
       "\t 50\\%    & 39.0               & 30.4               & 1.0               & 9377.9047         \\\\\n",
       "\t 75\\%    & 51.0               & 34.7               & 2.0               & 16657.71745       \\\\\n",
       "\t max    & 64.0               & 53.13              & 5.0               & 63770.42801       \\\\\n",
       "\\end{tabular}\n"
      ],
      "text/markdown": [
       "\n",
       "A data.frame: 8 × 5\n",
       "\n",
       "| summary &lt;chr&gt; | age &lt;chr&gt; | bmi &lt;chr&gt; | children &lt;chr&gt; | charges &lt;chr&gt; |\n",
       "|---|---|---|---|---|\n",
       "| count  | 1338               | 1338               | 1338              | 1338               |\n",
       "| mean   | 39.20702541106129  | 30.663396860986538 | 1.0949177877429   | 13270.422265141257 |\n",
       "| stddev | 14.049960379216147 | 6.098186911679012  | 1.205492739781914 | 12110.011236693992 |\n",
       "| min    | 18.0               | 15.96              | 0.0               | 1121.8739          |\n",
       "| 25%    | 27.0               | 26.29              | 0.0               | 4738.2682          |\n",
       "| 50%    | 39.0               | 30.4               | 1.0               | 9377.9047          |\n",
       "| 75%    | 51.0               | 34.7               | 2.0               | 16657.71745        |\n",
       "| max    | 64.0               | 53.13              | 5.0               | 63770.42801        |\n",
       "\n"
      ],
      "text/plain": [
       "  summary age                bmi                children         \n",
       "1 count   1338               1338               1338             \n",
       "2 mean    39.20702541106129  30.663396860986538 1.0949177877429  \n",
       "3 stddev  14.049960379216147 6.098186911679012  1.205492739781914\n",
       "4 min     18.0               15.96              0.0              \n",
       "5 25%     27.0               26.29              0.0              \n",
       "6 50%     39.0               30.4               1.0              \n",
       "7 75%     51.0               34.7               2.0              \n",
       "8 max     64.0               53.13              5.0              \n",
       "  charges           \n",
       "1 1338              \n",
       "2 13270.422265141257\n",
       "3 12110.011236693992\n",
       "4 1121.8739         \n",
       "5 4738.2682         \n",
       "6 9377.9047         \n",
       "7 16657.71745       \n",
       "8 63770.42801       "
      ]
     },
     "metadata": {},
     "output_type": "display_data"
    }
   ],
   "source": [
    "collect(summary(select(df, num_columns)))"
   ]
  },
  {
   "cell_type": "markdown",
   "metadata": {},
   "source": [
    "También puede usarse la función `decribe()`"
   ]
  },
  {
   "cell_type": "code",
   "execution_count": 11,
   "metadata": {},
   "outputs": [
    {
     "data": {
      "text/html": [
       "<table>\n",
       "<caption>A data.frame: 5 × 5</caption>\n",
       "<thead>\n",
       "\t<tr><th scope=col>summary</th><th scope=col>age</th><th scope=col>bmi</th><th scope=col>children</th><th scope=col>charges</th></tr>\n",
       "\t<tr><th scope=col>&lt;chr&gt;</th><th scope=col>&lt;chr&gt;</th><th scope=col>&lt;chr&gt;</th><th scope=col>&lt;chr&gt;</th><th scope=col>&lt;chr&gt;</th></tr>\n",
       "</thead>\n",
       "<tbody>\n",
       "\t<tr><td>count </td><td>1338              </td><td>1338              </td><td>1338             </td><td>1338              </td></tr>\n",
       "\t<tr><td>mean  </td><td>39.20702541106129 </td><td>30.663396860986538</td><td>1.0949177877429  </td><td>13270.422265141257</td></tr>\n",
       "\t<tr><td>stddev</td><td>14.049960379216147</td><td>6.098186911679012 </td><td>1.205492739781914</td><td>12110.011236693992</td></tr>\n",
       "\t<tr><td>min   </td><td>18.0              </td><td>15.96             </td><td>0.0              </td><td>1121.8739         </td></tr>\n",
       "\t<tr><td>max   </td><td>64.0              </td><td>53.13             </td><td>5.0              </td><td>63770.42801       </td></tr>\n",
       "</tbody>\n",
       "</table>\n"
      ],
      "text/latex": [
       "A data.frame: 5 × 5\n",
       "\\begin{tabular}{r|lllll}\n",
       " summary & age & bmi & children & charges\\\\\n",
       " <chr> & <chr> & <chr> & <chr> & <chr>\\\\\n",
       "\\hline\n",
       "\t count  & 1338               & 1338               & 1338              & 1338              \\\\\n",
       "\t mean   & 39.20702541106129  & 30.663396860986538 & 1.0949177877429   & 13270.422265141257\\\\\n",
       "\t stddev & 14.049960379216147 & 6.098186911679012  & 1.205492739781914 & 12110.011236693992\\\\\n",
       "\t min    & 18.0               & 15.96              & 0.0               & 1121.8739         \\\\\n",
       "\t max    & 64.0               & 53.13              & 5.0               & 63770.42801       \\\\\n",
       "\\end{tabular}\n"
      ],
      "text/markdown": [
       "\n",
       "A data.frame: 5 × 5\n",
       "\n",
       "| summary &lt;chr&gt; | age &lt;chr&gt; | bmi &lt;chr&gt; | children &lt;chr&gt; | charges &lt;chr&gt; |\n",
       "|---|---|---|---|---|\n",
       "| count  | 1338               | 1338               | 1338              | 1338               |\n",
       "| mean   | 39.20702541106129  | 30.663396860986538 | 1.0949177877429   | 13270.422265141257 |\n",
       "| stddev | 14.049960379216147 | 6.098186911679012  | 1.205492739781914 | 12110.011236693992 |\n",
       "| min    | 18.0               | 15.96              | 0.0               | 1121.8739          |\n",
       "| max    | 64.0               | 53.13              | 5.0               | 63770.42801        |\n",
       "\n"
      ],
      "text/plain": [
       "  summary age                bmi                children         \n",
       "1 count   1338               1338               1338             \n",
       "2 mean    39.20702541106129  30.663396860986538 1.0949177877429  \n",
       "3 stddev  14.049960379216147 6.098186911679012  1.205492739781914\n",
       "4 min     18.0               15.96              0.0              \n",
       "5 max     64.0               53.13              5.0              \n",
       "  charges           \n",
       "1 1338              \n",
       "2 13270.422265141257\n",
       "3 12110.011236693992\n",
       "4 1121.8739         \n",
       "5 63770.42801       "
      ]
     },
     "metadata": {},
     "output_type": "display_data"
    }
   ],
   "source": [
    "collect(describe(select(df, num_columns)))"
   ]
  },
  {
   "cell_type": "markdown",
   "metadata": {},
   "source": [
    "Por otra parte, es posible usar la función `summary` para obtener los estadísticos descriptivos de una columna. En este caso, primero se selecciona la columna y luego se aplica `summary`."
   ]
  },
  {
   "cell_type": "code",
   "execution_count": 13,
   "metadata": {},
   "outputs": [
    {
     "data": {
      "text/html": [
       "<table>\n",
       "<caption>A data.frame: 8 × 2</caption>\n",
       "<thead>\n",
       "\t<tr><th scope=col>summary</th><th scope=col>age</th></tr>\n",
       "\t<tr><th scope=col>&lt;chr&gt;</th><th scope=col>&lt;chr&gt;</th></tr>\n",
       "</thead>\n",
       "<tbody>\n",
       "\t<tr><td>count </td><td>1338              </td></tr>\n",
       "\t<tr><td>mean  </td><td>39.20702541106129 </td></tr>\n",
       "\t<tr><td>stddev</td><td>14.049960379216147</td></tr>\n",
       "\t<tr><td>min   </td><td>18.0              </td></tr>\n",
       "\t<tr><td>25%   </td><td>27.0              </td></tr>\n",
       "\t<tr><td>50%   </td><td>39.0              </td></tr>\n",
       "\t<tr><td>75%   </td><td>51.0              </td></tr>\n",
       "\t<tr><td>max   </td><td>64.0              </td></tr>\n",
       "</tbody>\n",
       "</table>\n"
      ],
      "text/latex": [
       "A data.frame: 8 × 2\n",
       "\\begin{tabular}{r|ll}\n",
       " summary & age\\\\\n",
       " <chr> & <chr>\\\\\n",
       "\\hline\n",
       "\t count  & 1338              \\\\\n",
       "\t mean   & 39.20702541106129 \\\\\n",
       "\t stddev & 14.049960379216147\\\\\n",
       "\t min    & 18.0              \\\\\n",
       "\t 25\\%    & 27.0              \\\\\n",
       "\t 50\\%    & 39.0              \\\\\n",
       "\t 75\\%    & 51.0              \\\\\n",
       "\t max    & 64.0              \\\\\n",
       "\\end{tabular}\n"
      ],
      "text/markdown": [
       "\n",
       "A data.frame: 8 × 2\n",
       "\n",
       "| summary &lt;chr&gt; | age &lt;chr&gt; |\n",
       "|---|---|\n",
       "| count  | 1338               |\n",
       "| mean   | 39.20702541106129  |\n",
       "| stddev | 14.049960379216147 |\n",
       "| min    | 18.0               |\n",
       "| 25%    | 27.0               |\n",
       "| 50%    | 39.0               |\n",
       "| 75%    | 51.0               |\n",
       "| max    | 64.0               |\n",
       "\n"
      ],
      "text/plain": [
       "  summary age               \n",
       "1 count   1338              \n",
       "2 mean    39.20702541106129 \n",
       "3 stddev  14.049960379216147\n",
       "4 min     18.0              \n",
       "5 25%     27.0              \n",
       "6 50%     39.0              \n",
       "7 75%     51.0              \n",
       "8 max     64.0              "
      ]
     },
     "metadata": {},
     "output_type": "display_data"
    }
   ],
   "source": [
    "collect(summary(select(df, 'age')))"
   ]
  },
  {
   "cell_type": "markdown",
   "metadata": {},
   "source": [
    "SparkR también implementa la función `histogram` para computar el histograma de una columna de un DataFrame. En este caso, debe usarse la librería `ggplot` para realizar la correspondiente gráfica."
   ]
  },
  {
   "cell_type": "code",
   "execution_count": 33,
   "metadata": {},
   "outputs": [
    {
     "data": {
      "image/png": "[encoded data removed]",
      "text/plain": [
       "plot without title"
      ]
     },
     "metadata": {},
     "output_type": "display_data"
    }
   ],
   "source": [
    "library(ggplot2)\n",
    "options(repr.plot.width = 3, repr.plot.height = 3)\n",
    "ggplot(histogram(df, 'age'), \n",
    "       aes(x = centroids, y = counts)) + \n",
    "geom_bar(stat = \"identity\") +\n",
    "xlab(\"age\") + ylab(\"Frequency\")  "
   ]
  },
  {
   "cell_type": "markdown",
   "metadata": {},
   "source": [
    "Muchas funciones de uso común en R no están disponibles en SparkR, por lo que resulta necesario usar `collect()` para obtener el contenido de la variable y luego aplicar la función requerida."
   ]
  },
  {
   "cell_type": "code",
   "execution_count": 16,
   "metadata": {},
   "outputs": [
    {
     "data": {
      "text/html": [
       "<ol class=list-inline>\n",
       "\t<li>'sex'</li>\n",
       "\t<li>'smoker'</li>\n",
       "\t<li>'region'</li>\n",
       "</ol>\n"
      ],
      "text/latex": [
       "\\begin{enumerate*}\n",
       "\\item 'sex'\n",
       "\\item 'smoker'\n",
       "\\item 'region'\n",
       "\\end{enumerate*}\n"
      ],
      "text/markdown": [
       "1. 'sex'\n",
       "2. 'smoker'\n",
       "3. 'region'\n",
       "\n",
       "\n"
      ],
      "text/plain": [
       "[1] \"sex\"    \"smoker\" \"region\""
      ]
     },
     "metadata": {},
     "output_type": "display_data"
    }
   ],
   "source": [
    "##\n",
    "## Se obtienen las columnas numéricas\n",
    "##\n",
    "nonnum_columns <- c() \n",
    "for(x in dtypes(df)){\n",
    "    if(x[2] == 'string') \n",
    "        nonnum_columns <- c(nonnum_columns, x[1])\n",
    "}\n",
    "nonnum_columns"
   ]
  },
  {
   "cell_type": "code",
   "execution_count": 18,
   "metadata": {},
   "outputs": [
    {
     "name": "stdout",
     "output_type": "stream",
     "text": [
      "\n",
      "female   male \n",
      "   662    676 \n",
      "\n",
      "  no  yes \n",
      "1064  274 \n",
      "\n",
      "northeast northwest southeast southwest \n",
      "      324       325       364       325 \n"
     ]
    }
   ],
   "source": [
    "for(column in nonnum_columns){\n",
    "    print(table(collect(select(df, column))))\n",
    "}"
   ]
  },
  {
   "cell_type": "markdown",
   "metadata": {},
   "source": [
    "No obstante, algunas veces es posible utilizar los operadores de agregación de SQL para realizar los cómputos equivalentes. En sl siguiente fragmento de código, se usa la función `groupBy` para calcular la cantidad de registros por región."
   ]
  },
  {
   "cell_type": "code",
   "execution_count": 26,
   "metadata": {},
   "outputs": [
    {
     "data": {
      "text/html": [
       "<table>\n",
       "<caption>A data.frame: 4 × 2</caption>\n",
       "<thead>\n",
       "\t<tr><th scope=col>region</th><th scope=col>count</th></tr>\n",
       "\t<tr><th scope=col>&lt;chr&gt;</th><th scope=col>&lt;dbl&gt;</th></tr>\n",
       "</thead>\n",
       "<tbody>\n",
       "\t<tr><td>northwest</td><td>325</td></tr>\n",
       "\t<tr><td>southeast</td><td>364</td></tr>\n",
       "\t<tr><td>northeast</td><td>324</td></tr>\n",
       "\t<tr><td>southwest</td><td>325</td></tr>\n",
       "</tbody>\n",
       "</table>\n"
      ],
      "text/latex": [
       "A data.frame: 4 × 2\n",
       "\\begin{tabular}{r|ll}\n",
       " region & count\\\\\n",
       " <chr> & <dbl>\\\\\n",
       "\\hline\n",
       "\t northwest & 325\\\\\n",
       "\t southeast & 364\\\\\n",
       "\t northeast & 324\\\\\n",
       "\t southwest & 325\\\\\n",
       "\\end{tabular}\n"
      ],
      "text/markdown": [
       "\n",
       "A data.frame: 4 × 2\n",
       "\n",
       "| region &lt;chr&gt; | count &lt;dbl&gt; |\n",
       "|---|---|\n",
       "| northwest | 325 |\n",
       "| southeast | 364 |\n",
       "| northeast | 324 |\n",
       "| southwest | 325 |\n",
       "\n"
      ],
      "text/plain": [
       "  region    count\n",
       "1 northwest 325  \n",
       "2 southeast 364  \n",
       "3 northeast 324  \n",
       "4 southwest 325  "
      ]
     },
     "metadata": {},
     "output_type": "display_data"
    }
   ],
   "source": [
    "collect(summarize(groupBy(df,                  ## DataFrame\n",
    "                          df$region),          ## Columna para realizar la agregación\n",
    "                          count=n(df$region))) ## Cuenta la cantidad de registros por valor en quantity"
   ]
  },
  {
   "cell_type": "markdown",
   "metadata": {},
   "source": [
    "A continuación, se traen los datos al entorno local para calcula la correlación entre las columnas del DataFrame."
   ]
  },
  {
   "cell_type": "code",
   "execution_count": 30,
   "metadata": {},
   "outputs": [
    {
     "data": {
      "text/html": [
       "<table>\n",
       "<caption>A matrix: 4 × 4 of type dbl</caption>\n",
       "<thead>\n",
       "\t<tr><th></th><th scope=col>age</th><th scope=col>bmi</th><th scope=col>children</th><th scope=col>charges</th></tr>\n",
       "</thead>\n",
       "<tbody>\n",
       "\t<tr><th scope=row>age</th><td>1.0000000</td><td>0.1092719</td><td>0.04246900</td><td>0.29900819</td></tr>\n",
       "\t<tr><th scope=row>bmi</th><td>0.1092719</td><td>1.0000000</td><td>0.01275890</td><td>0.19834097</td></tr>\n",
       "\t<tr><th scope=row>children</th><td>0.0424690</td><td>0.0127589</td><td>1.00000000</td><td>0.06799823</td></tr>\n",
       "\t<tr><th scope=row>charges</th><td>0.2990082</td><td>0.1983410</td><td>0.06799823</td><td>1.00000000</td></tr>\n",
       "</tbody>\n",
       "</table>\n"
      ],
      "text/latex": [
       "A matrix: 4 × 4 of type dbl\n",
       "\\begin{tabular}{r|llll}\n",
       "  & age & bmi & children & charges\\\\\n",
       "\\hline\n",
       "\tage & 1.0000000 & 0.1092719 & 0.04246900 & 0.29900819\\\\\n",
       "\tbmi & 0.1092719 & 1.0000000 & 0.01275890 & 0.19834097\\\\\n",
       "\tchildren & 0.0424690 & 0.0127589 & 1.00000000 & 0.06799823\\\\\n",
       "\tcharges & 0.2990082 & 0.1983410 & 0.06799823 & 1.00000000\\\\\n",
       "\\end{tabular}\n"
      ],
      "text/markdown": [
       "\n",
       "A matrix: 4 × 4 of type dbl\n",
       "\n",
       "| <!--/--> | age | bmi | children | charges |\n",
       "|---|---|---|---|---|\n",
       "| age | 1.0000000 | 0.1092719 | 0.04246900 | 0.29900819 |\n",
       "| bmi | 0.1092719 | 1.0000000 | 0.01275890 | 0.19834097 |\n",
       "| children | 0.0424690 | 0.0127589 | 1.00000000 | 0.06799823 |\n",
       "| charges | 0.2990082 | 0.1983410 | 0.06799823 | 1.00000000 |\n",
       "\n"
      ],
      "text/plain": [
       "         age       bmi       children   charges   \n",
       "age      1.0000000 0.1092719 0.04246900 0.29900819\n",
       "bmi      0.1092719 1.0000000 0.01275890 0.19834097\n",
       "children 0.0424690 0.0127589 1.00000000 0.06799823\n",
       "charges  0.2990082 0.1983410 0.06799823 1.00000000"
      ]
     },
     "metadata": {},
     "output_type": "display_data"
    }
   ],
   "source": [
    "cor(collect(select(df, c(\"age\", \"bmi\", \"children\", \"charges\"))))"
   ]
  },
  {
   "cell_type": "markdown",
   "metadata": {},
   "source": [
    "Este procedimiento de importación de datos, también puede usarse para construir gráficos."
   ]
  },
  {
   "cell_type": "code",
   "execution_count": 31,
   "metadata": {},
   "outputs": [
    {
     "data": {
      "image/png": "[encoded data removed]",
      "text/plain": [
       "plot without title"
      ]
     },
     "metadata": {},
     "output_type": "display_data"
    }
   ],
   "source": [
    "options(repr.plot.width = 4, repr.plot.height = 4)\n",
    "pairs(collect(select(df, c(\"age\", \"bmi\", \"children\", \"charges\"))))"
   ]
  },
  {
   "cell_type": "markdown",
   "metadata": {},
   "source": [
    "### Construcción de modelos"
   ]
  },
  {
   "cell_type": "markdown",
   "metadata": {},
   "source": [
    "#### Modelo de regresión lineal"
   ]
  },
  {
   "cell_type": "markdown",
   "metadata": {},
   "source": [
    "A continuación se usa la función `spark.gml` para la especificación de modelos lineales generalizados. Una lista de los algoritmos disponibles en SparR puede ser consultada en https://spark.apache.org/docs/latest/sparkr.html#algorithms "
   ]
  },
  {
   "cell_type": "code",
   "execution_count": 36,
   "metadata": {},
   "outputs": [
    {
     "data": {
      "text/plain": [
       "\n",
       "Deviance Residuals: \n",
       "(Note: These are approximate quantiles with relative error <= 0.01)\n",
       "     Min        1Q    Median        3Q       Max  \n",
       "-11304.9   -2857.9   -1043.9    1280.1   29992.8  \n",
       "\n",
       "Coefficients:\n",
       "                   Estimate  Std. Error    t value    Pr(>|t|)\n",
       "(Intercept)        11910.00    1033.924   11.51922  0.00000000\n",
       "age                  256.86      11.899   21.58666  0.00000000\n",
       "children             475.50     137.804    3.45055  0.00057697\n",
       "bmi                  339.19      28.599   11.86013  0.00000000\n",
       "sex_male            -131.31     332.945   -0.39440  0.69334752\n",
       "smoker_no         -23848.53     413.153  -57.72320  0.00000000\n",
       "region_southeast   -1035.02     478.692   -2.16219  0.03078174\n",
       "region_southwest    -960.05     477.933   -2.00876  0.04476493\n",
       "region_northwest    -352.96     476.276   -0.74109  0.45876893\n",
       "\n",
       "(Dispersion parameter for gaussian family taken to be 36749084)\n",
       "\n",
       "    Null deviance: 1.9607e+11  on 1337  degrees of freedom\n",
       "Residual deviance: 4.8840e+10  on 1329  degrees of freedom\n",
       "AIC: 27116\n",
       "\n",
       "Number of Fisher Scoring iterations: 1\n"
      ]
     },
     "metadata": {},
     "output_type": "display_data"
    }
   ],
   "source": [
    "model <- spark.glm(\n",
    "    df, \n",
    "    charges ~ age + children + bmi + sex + smoker + region, \n",
    "    family = \"gaussian\")\n",
    "\n",
    "fitted_glm <- predict(model, df)\n",
    "\n",
    "summary(model)"
   ]
  },
  {
   "cell_type": "markdown",
   "metadata": {},
   "source": [
    "La sintaxis sigue siendo similar a la tradicional en R. "
   ]
  },
  {
   "cell_type": "markdown",
   "metadata": {},
   "source": [
    "#### Gradient-boosted tree regression"
   ]
  },
  {
   "cell_type": "code",
   "execution_count": 41,
   "metadata": {},
   "outputs": [],
   "source": [
    "##\n",
    "## Se procede de igual manera que con el modelo\n",
    "## de regresión lineal\n",
    "##\n",
    "model <- spark.gbt(\n",
    "    df, \n",
    "    charges ~ age + children + bmi + sex + smoker + region, \n",
    "    maxIter = 20)\n",
    "\n",
    "fitted_gbt <- predict(model, df)\n",
    "\n",
    "#### summary(model)"
   ]
  },
  {
   "cell_type": "markdown",
   "metadata": {},
   "source": [
    "#### Random forest regression"
   ]
  },
  {
   "cell_type": "code",
   "execution_count": 42,
   "metadata": {},
   "outputs": [],
   "source": [
    "##\n",
    "## Se procede de igual manera que con el modelo\n",
    "## de regresión lineal\n",
    "##\n",
    "model <- spark.randomForest(\n",
    "    df, \n",
    "    charges ~ age + children + bmi + sex + smoker + region)\n",
    "\n",
    "fitted_rfr <- predict(model, df)\n",
    "\n",
    "#### summary(model)"
   ]
  },
  {
   "cell_type": "markdown",
   "metadata": {},
   "source": [
    "#### Resumen de resultados"
   ]
  },
  {
   "cell_type": "code",
   "execution_count": 47,
   "metadata": {},
   "outputs": [
    {
     "data": {
      "image/png": "[encoded data removed]",
      "text/plain": [
       "plot without title"
      ]
     },
     "metadata": {},
     "output_type": "display_data"
    }
   ],
   "source": [
    "options(repr.plot.width = 4, repr.plot.height = 4)\n",
    "\n",
    "r <- collect(select(fitted_glm, \"charges\", \"prediction\"))\n",
    "plot(x=r$charges, r$prediction, col='red', ylim=c(0,60000))\n",
    "\n",
    "r <- collect(select(fitted_gbt, \"charges\", \"prediction\"))\n",
    "points(x=r$charges, r$prediction, col='blue')\n",
    "\n",
    "r <- collect(select(fitted_rfr, \"charges\", \"prediction\"))\n",
    "points(x=r$charges, r$prediction, col='black')\n",
    "\n"
   ]
  }
 ],
 "metadata": {
  "kernel_info": {
   "name": "python3"
  },
  "kernelspec": {
   "display_name": "R",
   "language": "R",
   "name": "ir"
  },
  "language_info": {
   "codemirror_mode": "r",
   "file_extension": ".r",
   "mimetype": "text/x-r-source",
   "name": "R",
   "pygments_lexer": "r",
   "version": "3.4.4"
  },
  "nteract": {
   "version": "0.7.1"
  },
  "varInspector": {
   "cols": {
    "lenName": 16,
    "lenType": 16,
    "lenVar": 40
   },
   "kernels_config": {
    "python": {
     "delete_cmd_postfix": "",
     "delete_cmd_prefix": "del ",
     "library": "var_list.py",
     "varRefreshCmd": "print(var_dic_list())"
    },
    "r": {
     "delete_cmd_postfix": ") ",
     "delete_cmd_prefix": "rm(",
     "library": "var_list.r",
     "varRefreshCmd": "cat(var_dic_list()) "
    }
   },
   "types_to_exclude": [
    "module",
    "function",
    "builtin_function_or_method",
    "instance",
    "_Feature"
   ],
   "window_display": false
  }
 },
 "nbformat": 4,
 "nbformat_minor": 2
}
