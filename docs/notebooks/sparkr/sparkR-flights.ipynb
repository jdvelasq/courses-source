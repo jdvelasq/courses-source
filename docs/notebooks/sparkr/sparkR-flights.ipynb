{
 "cells": [
  {
   "cell_type": "markdown",
   "metadata": {},
   "source": [
    "Análisis de datos usando SparkR\n",
    "===\n",
    "\n",
    "* *30 min* | Última modificación: Junio 22, 2019"
   ]
  },
  {
   "cell_type": "markdown",
   "metadata": {},
   "source": [
    "En este tutorial se presenta el análisis de una base de datos sobre vuelos usando SQL en Spark desde la interfaz de R. En este documento se ejemplifica el uso de DataFrames para la realización de consultas usando sus funciones nativas, como también el envio de comandos SQL. Adicionalmente, se demuestra como salvar los resultados al HDFS en distintos formatos. \n",
    "\n",
    "Al finalizar este documento, el lector estará en capacidad de:\n",
    "\n",
    "* Mover archivos entre el HDFS y el sistema local.\n",
    "\n",
    "* Importar tablas en formato CSV a SparkR.\n",
    "\n",
    "* Aplicar operadores de selección, filtrado y agregación desde R.\n",
    "\n",
    "* Usar los resultados obtenidos para construir gráficos.\n",
    "\n",
    "* Exportar los resultados a archivos en el sistema HDFS."
   ]
  },
  {
   "cell_type": "markdown",
   "metadata": {},
   "source": [
    "Este ejemplo está basado en el tutorial de Spark de HortoWorks, disponible en https://es.hortonworks.com/tutorial/learning-spark-sql-with-zeppelin/"
   ]
  },
  {
   "cell_type": "markdown",
   "metadata": {},
   "source": [
    "En este tutorial se ejemplican los mismos comandos usados en el tutorial 'Análisis de datos usando PySpark', por lo que aquí solo se ilustra la sintaxis usada; para obtener información detallada, debe verse el tutorial citado."
   ]
  },
  {
   "cell_type": "markdown",
   "metadata": {},
   "source": [
    "## Preparación"
   ]
  },
  {
   "cell_type": "code",
   "execution_count": 1,
   "metadata": {},
   "outputs": [],
   "source": [
    "##\n",
    "## Esta función se usará para ejecutar comandos en el \n",
    "## sistema operativo y capturar la salida.\n",
    "##\n",
    "systemp <- function(command) cat(system(command, intern = TRUE), sep = '\\n')"
   ]
  },
  {
   "cell_type": "code",
   "execution_count": 2,
   "metadata": {},
   "outputs": [
    {
     "name": "stderr",
     "output_type": "stream",
     "text": [
      "\n",
      "Attaching package: ‘SparkR’\n",
      "\n",
      "The following objects are masked from ‘package:stats’:\n",
      "\n",
      "    cov, filter, lag, na.omit, predict, sd, var, window\n",
      "\n",
      "The following objects are masked from ‘package:base’:\n",
      "\n",
      "    as.data.frame, colnames, colnames<-, drop, endsWith, intersect,\n",
      "    rank, rbind, sample, startsWith, subset, summary, transform, union\n",
      "\n",
      "Spark package found in SPARK_HOME: /usr/local/spark-2.4.0\n"
     ]
    },
    {
     "name": "stdout",
     "output_type": "stream",
     "text": [
      "Launching java with spark-submit command /usr/local/spark-2.4.0/bin/spark-submit   sparkr-shell /tmp/RtmpshPvjt/backend_portb80694bda87 \n"
     ]
    },
    {
     "name": "stderr",
     "output_type": "stream",
     "text": [
      "Warning message in sparkR.session(enableHiveSupport = TRUE):\n",
      "“Version mismatch between Spark JVM and SparkR package. JVM version was 2.4.0 , while R package version was 2.4.3”"
     ]
    },
    {
     "data": {
      "text/plain": [
       "Java ref type org.apache.spark.sql.SparkSession id 1 "
      ]
     },
     "metadata": {},
     "output_type": "display_data"
    }
   ],
   "source": [
    "library(SparkR)\n",
    "sparkR.session(enableHiveSupport = TRUE)"
   ]
  },
  {
   "cell_type": "markdown",
   "metadata": {},
   "source": [
    "## Copia de archivos al HDFS"
   ]
  },
  {
   "cell_type": "code",
   "execution_count": 3,
   "metadata": {},
   "outputs": [
    {
     "name": "stdout",
     "output_type": "stream",
     "text": [
      "\n",
      "-rw-r--r--   1 vagrant supergroup    9719582 2019-05-20 23:36 /tmp/flights.csv\n"
     ]
    }
   ],
   "source": [
    "##\n",
    "## El archivo flights.csv se encuentra en la capeta de\n",
    "## trabajo de la máquina local. Se copia el archivo \n",
    "## a la carpeta /tmp del sistema HDFS.\n",
    "##\n",
    "systemp('hdfs dfs -copyFromLocal flights.csv /tmp/')\n",
    "\n",
    "##\n",
    "## Se listan los archivos en la carpeta /tmp del HDFS\n",
    "## para verificar que el archivo haya sido copiado\n",
    "##\n",
    "systemp('hdfs dfs -ls /tmp/*csv')"
   ]
  },
  {
   "cell_type": "markdown",
   "metadata": {},
   "source": [
    "## Carga de datos en Spark"
   ]
  },
  {
   "cell_type": "code",
   "execution_count": 4,
   "metadata": {},
   "outputs": [],
   "source": [
    "##\n",
    "## Crea un DataFrame a partir del archivo fligths.csv\n",
    "##\n",
    "flights <- read.df(\"/tmp/flights.csv\",\n",
    "                   \"csv\", \n",
    "                   header=\"true\")"
   ]
  },
  {
   "cell_type": "code",
   "execution_count": 5,
   "metadata": {},
   "outputs": [
    {
     "name": "stdout",
     "output_type": "stream",
     "text": [
      "root\n",
      " |-- Year: string (nullable = true)\n",
      " |-- Month: string (nullable = true)\n",
      " |-- DayofMonth: string (nullable = true)\n",
      " |-- DayOfWeek: string (nullable = true)\n",
      " |-- DepTime: string (nullable = true)\n",
      " |-- CRSDepTime: string (nullable = true)\n",
      " |-- ArrTime: string (nullable = true)\n",
      " |-- CRSArrTime: string (nullable = true)\n",
      " |-- UniqueCarrier: string (nullable = true)\n",
      " |-- FlightNum: string (nullable = true)\n",
      " |-- TailNum: string (nullable = true)\n",
      " |-- ActualElapsedTime: string (nullable = true)\n",
      " |-- CRSElapsedTime: string (nullable = true)\n",
      " |-- AirTime: string (nullable = true)\n",
      " |-- ArrDelay: string (nullable = true)\n",
      " |-- DepDelay: string (nullable = true)\n",
      " |-- Origin: string (nullable = true)\n",
      " |-- Dest: string (nullable = true)\n",
      " |-- Distance: string (nullable = true)\n",
      " |-- TaxiIn: string (nullable = true)\n",
      " |-- TaxiOut: string (nullable = true)\n",
      " |-- Cancelled: string (nullable = true)\n",
      " |-- CancellationCode: string (nullable = true)\n",
      " |-- Diverted: string (nullable = true)\n",
      " |-- CarrierDelay: string (nullable = true)\n",
      " |-- WeatherDelay: string (nullable = true)\n",
      " |-- NASDelay: string (nullable = true)\n",
      " |-- SecurityDelay: string (nullable = true)\n",
      " |-- LateAircraftDelay: string (nullable = true)\n"
     ]
    }
   ],
   "source": [
    "##\n",
    "## Se imprime el esquema para verificar la lectura\n",
    "## del archivo.\n",
    "##\n",
    "printSchema(flights)"
   ]
  },
  {
   "cell_type": "code",
   "execution_count": 6,
   "metadata": {},
   "outputs": [
    {
     "data": {
      "text/html": [
       "<table>\n",
       "<caption>A data.frame: 6 × 5</caption>\n",
       "<thead>\n",
       "\t<tr><th scope=col>UniqueCarrier</th><th scope=col>FlightNum</th><th scope=col>DepDelay</th><th scope=col>ArrDelay</th><th scope=col>Distance</th></tr>\n",
       "\t<tr><th scope=col>&lt;chr&gt;</th><th scope=col>&lt;chr&gt;</th><th scope=col>&lt;chr&gt;</th><th scope=col>&lt;chr&gt;</th><th scope=col>&lt;chr&gt;</th></tr>\n",
       "</thead>\n",
       "<tbody>\n",
       "\t<tr><td>WN</td><td>335 </td><td>8 </td><td>-14</td><td>810</td></tr>\n",
       "\t<tr><td>WN</td><td>3231</td><td>19</td><td>2  </td><td>810</td></tr>\n",
       "\t<tr><td>WN</td><td>448 </td><td>8 </td><td>14 </td><td>515</td></tr>\n",
       "\t<tr><td>WN</td><td>1746</td><td>-4</td><td>-6 </td><td>515</td></tr>\n",
       "\t<tr><td>WN</td><td>3920</td><td>34</td><td>34 </td><td>515</td></tr>\n",
       "\t<tr><td>WN</td><td>378 </td><td>25</td><td>11 </td><td>688</td></tr>\n",
       "</tbody>\n",
       "</table>\n"
      ],
      "text/latex": [
       "A data.frame: 6 × 5\n",
       "\\begin{tabular}{r|lllll}\n",
       " UniqueCarrier & FlightNum & DepDelay & ArrDelay & Distance\\\\\n",
       " <chr> & <chr> & <chr> & <chr> & <chr>\\\\\n",
       "\\hline\n",
       "\t WN & 335  & 8  & -14 & 810\\\\\n",
       "\t WN & 3231 & 19 & 2   & 810\\\\\n",
       "\t WN & 448  & 8  & 14  & 515\\\\\n",
       "\t WN & 1746 & -4 & -6  & 515\\\\\n",
       "\t WN & 3920 & 34 & 34  & 515\\\\\n",
       "\t WN & 378  & 25 & 11  & 688\\\\\n",
       "\\end{tabular}\n"
      ],
      "text/markdown": [
       "\n",
       "A data.frame: 6 × 5\n",
       "\n",
       "| UniqueCarrier &lt;chr&gt; | FlightNum &lt;chr&gt; | DepDelay &lt;chr&gt; | ArrDelay &lt;chr&gt; | Distance &lt;chr&gt; |\n",
       "|---|---|---|---|---|\n",
       "| WN | 335  | 8  | -14 | 810 |\n",
       "| WN | 3231 | 19 | 2   | 810 |\n",
       "| WN | 448  | 8  | 14  | 515 |\n",
       "| WN | 1746 | -4 | -6  | 515 |\n",
       "| WN | 3920 | 34 | 34  | 515 |\n",
       "| WN | 378  | 25 | 11  | 688 |\n",
       "\n"
      ],
      "text/plain": [
       "  UniqueCarrier FlightNum DepDelay ArrDelay Distance\n",
       "1 WN            335       8        -14      810     \n",
       "2 WN            3231      19       2        810     \n",
       "3 WN            448       8        14       515     \n",
       "4 WN            1746      -4       -6       515     \n",
       "5 WN            3920      34       34       515     \n",
       "6 WN            378       25       11       688     "
      ]
     },
     "metadata": {},
     "output_type": "display_data"
    }
   ],
   "source": [
    "## \n",
    "## Se imprime un subconjunto de las columnas para verificar\n",
    "## la lectura\n",
    "##\n",
    "head(select(flights, 'UniqueCarrier', 'FlightNum', 'DepDelay', 'ArrDelay', 'Distance'))"
   ]
  },
  {
   "cell_type": "code",
   "execution_count": 7,
   "metadata": {},
   "outputs": [
    {
     "data": {
      "text/html": [
       "1e+05"
      ],
      "text/latex": [
       "1e+05"
      ],
      "text/markdown": [
       "1e+05"
      ],
      "text/plain": [
       "[1] 1e+05"
      ]
     },
     "metadata": {},
     "output_type": "display_data"
    }
   ],
   "source": [
    "##\n",
    "## Número total de registros leidos\n",
    "##\n",
    "numTotalFlights <- count(flights)\n",
    "numTotalFlights"
   ]
  },
  {
   "cell_type": "markdown",
   "metadata": {},
   "source": [
    "## Cálculos usando funciones de los DataFrames"
   ]
  },
  {
   "cell_type": "markdown",
   "metadata": {},
   "source": [
    "### Cómputo del porcentaje de vuelos retrasados"
   ]
  },
  {
   "cell_type": "code",
   "execution_count": 8,
   "metadata": {},
   "outputs": [
    {
     "data": {
      "text/html": [
       "<table>\n",
       "<caption>A data.frame: 6 × 2</caption>\n",
       "<thead>\n",
       "\t<tr><th scope=col>UniqueCarrier</th><th scope=col>DepDelay</th></tr>\n",
       "\t<tr><th scope=col>&lt;chr&gt;</th><th scope=col>&lt;chr&gt;</th></tr>\n",
       "</thead>\n",
       "<tbody>\n",
       "\t<tr><td>WN</td><td>19</td></tr>\n",
       "\t<tr><td>WN</td><td>34</td></tr>\n",
       "\t<tr><td>WN</td><td>25</td></tr>\n",
       "\t<tr><td>WN</td><td>67</td></tr>\n",
       "\t<tr><td>WN</td><td>94</td></tr>\n",
       "\t<tr><td>WN</td><td>27</td></tr>\n",
       "</tbody>\n",
       "</table>\n"
      ],
      "text/latex": [
       "A data.frame: 6 × 2\n",
       "\\begin{tabular}{r|ll}\n",
       " UniqueCarrier & DepDelay\\\\\n",
       " <chr> & <chr>\\\\\n",
       "\\hline\n",
       "\t WN & 19\\\\\n",
       "\t WN & 34\\\\\n",
       "\t WN & 25\\\\\n",
       "\t WN & 67\\\\\n",
       "\t WN & 94\\\\\n",
       "\t WN & 27\\\\\n",
       "\\end{tabular}\n"
      ],
      "text/markdown": [
       "\n",
       "A data.frame: 6 × 2\n",
       "\n",
       "| UniqueCarrier &lt;chr&gt; | DepDelay &lt;chr&gt; |\n",
       "|---|---|\n",
       "| WN | 19 |\n",
       "| WN | 34 |\n",
       "| WN | 25 |\n",
       "| WN | 67 |\n",
       "| WN | 94 |\n",
       "| WN | 27 |\n",
       "\n"
      ],
      "text/plain": [
       "  UniqueCarrier DepDelay\n",
       "1 WN            19      \n",
       "2 WN            34      \n",
       "3 WN            25      \n",
       "4 WN            67      \n",
       "5 WN            94      \n",
       "6 WN            27      "
      ]
     },
     "metadata": {},
     "output_type": "display_data"
    }
   ],
   "source": [
    "##\n",
    "## La variable delayedFlights contiene las columnas \n",
    "## UniqueCarrier y DepDelay para los vuelos con \n",
    "## DepDelay > 15 minutos.\n",
    "##\n",
    "delayedFlights <- select(filter(flights, flights$DepDelay > 15), c('UniqueCarrier', 'DepDelay'))\n",
    "head(delayedFlights)"
   ]
  },
  {
   "cell_type": "code",
   "execution_count": 9,
   "metadata": {},
   "outputs": [
    {
     "name": "stdout",
     "output_type": "stream",
     "text": [
      "Porcentaje de vuelos retrasados:  19.587 %"
     ]
    }
   ],
   "source": [
    "##\n",
    "## Porcentaje de vuelos retrasados.\n",
    "##\n",
    "numDelayedFlights <- count(delayedFlights)\n",
    "cat(\"Porcentaje de vuelos retrasados: \", numDelayedFlights / numTotalFlights * 100, \"%\")"
   ]
  },
  {
   "cell_type": "markdown",
   "metadata": {},
   "source": [
    "### Creación de campos"
   ]
  },
  {
   "cell_type": "markdown",
   "metadata": {},
   "source": [
    "A continuación se desea crear una nueva columna llamada `IsDelayed` que vale 0 si el vuelo se realizó a tiempo y 1 si se retraso."
   ]
  },
  {
   "cell_type": "code",
   "execution_count": 10,
   "metadata": {},
   "outputs": [
    {
     "data": {
      "text/html": [
       "<table>\n",
       "<caption>A data.frame: 6 × 2</caption>\n",
       "<thead>\n",
       "\t<tr><th scope=col>DepDelay</th><th scope=col>isDelayed</th></tr>\n",
       "\t<tr><th scope=col>&lt;chr&gt;</th><th scope=col>&lt;dbl&gt;</th></tr>\n",
       "</thead>\n",
       "<tbody>\n",
       "\t<tr><td>8 </td><td>0</td></tr>\n",
       "\t<tr><td>19</td><td>1</td></tr>\n",
       "\t<tr><td>8 </td><td>0</td></tr>\n",
       "\t<tr><td>-4</td><td>0</td></tr>\n",
       "\t<tr><td>34</td><td>1</td></tr>\n",
       "\t<tr><td>25</td><td>1</td></tr>\n",
       "</tbody>\n",
       "</table>\n"
      ],
      "text/latex": [
       "A data.frame: 6 × 2\n",
       "\\begin{tabular}{r|ll}\n",
       " DepDelay & isDelayed\\\\\n",
       " <chr> & <dbl>\\\\\n",
       "\\hline\n",
       "\t 8  & 0\\\\\n",
       "\t 19 & 1\\\\\n",
       "\t 8  & 0\\\\\n",
       "\t -4 & 0\\\\\n",
       "\t 34 & 1\\\\\n",
       "\t 25 & 1\\\\\n",
       "\\end{tabular}\n"
      ],
      "text/markdown": [
       "\n",
       "A data.frame: 6 × 2\n",
       "\n",
       "| DepDelay &lt;chr&gt; | isDelayed &lt;dbl&gt; |\n",
       "|---|---|\n",
       "| 8  | 0 |\n",
       "| 19 | 1 |\n",
       "| 8  | 0 |\n",
       "| -4 | 0 |\n",
       "| 34 | 1 |\n",
       "| 25 | 1 |\n",
       "\n"
      ],
      "text/plain": [
       "  DepDelay isDelayed\n",
       "1 8        0        \n",
       "2 19       1        \n",
       "3 8        0        \n",
       "4 -4       0        \n",
       "5 34       1        \n",
       "6 25       1        "
      ]
     },
     "metadata": {},
     "output_type": "display_data"
    }
   ],
   "source": [
    "##\n",
    "## Selecciona algunos campos del DataFrame original\n",
    "##\n",
    "flightsWithDelays <- select(flights, c('Year', \n",
    "                                       'Month',\n",
    "                                       'DayofMonth', \n",
    "                                       'UniqueCarrier', \n",
    "                                       'FlightNum', \n",
    "                                       'DepDelay'))\n",
    "                                   \n",
    "##\n",
    "## Crea un nuevo campo, como computo de otro existente\n",
    "##\n",
    "flightsWithDelays$IsDelayed <- ifelse(flightsWithDelays$DepDelay > 15, 1, 0)\n",
    "\n",
    "\n",
    "##\n",
    "## Se imprimen algunos registros para verificar el resultado.\n",
    "##\n",
    "head(select(flightsWithDelays, c('DepDelay', 'isDelayed')))"
   ]
  },
  {
   "cell_type": "code",
   "execution_count": 11,
   "metadata": {},
   "outputs": [
    {
     "data": {
      "text/html": [
       "<table>\n",
       "<caption>A data.frame: 1 × 1</caption>\n",
       "<thead>\n",
       "\t<tr><th scope=col>(sum(IsDelayed) / count(DepDelay))</th></tr>\n",
       "\t<tr><th scope=col>&lt;dbl&gt;</th></tr>\n",
       "</thead>\n",
       "<tbody>\n",
       "\t<tr><td>0.1981327</td></tr>\n",
       "</tbody>\n",
       "</table>\n"
      ],
      "text/latex": [
       "A data.frame: 1 × 1\n",
       "\\begin{tabular}{r|l}\n",
       " (sum(IsDelayed) / count(DepDelay))\\\\\n",
       " <dbl>\\\\\n",
       "\\hline\n",
       "\t 0.1981327\\\\\n",
       "\\end{tabular}\n"
      ],
      "text/markdown": [
       "\n",
       "A data.frame: 1 × 1\n",
       "\n",
       "| (sum(IsDelayed) / count(DepDelay)) &lt;dbl&gt; |\n",
       "|---|\n",
       "| 0.1981327 |\n",
       "\n"
      ],
      "text/plain": [
       "  (sum(IsDelayed) / count(DepDelay))\n",
       "1 0.1981327                         "
      ]
     },
     "metadata": {},
     "output_type": "display_data"
    }
   ],
   "source": [
    "## \n",
    "## A continuación, se calcula el porcentaje de vuelos con retrasos\n",
    "##\n",
    "head(agg(flightsWithDelays, sum(flightsWithDelays$IsDelayed) / n(flightsWithDelays$DepDelay)))\n"
   ]
  },
  {
   "cell_type": "markdown",
   "metadata": {},
   "source": [
    "## Cómputos usando SQL"
   ]
  },
  {
   "cell_type": "markdown",
   "metadata": {},
   "source": [
    "A continuación se realizan los mismos cálculos anteriores, pero usando SQL desde Spark."
   ]
  },
  {
   "cell_type": "code",
   "execution_count": 12,
   "metadata": {},
   "outputs": [],
   "source": [
    "## \n",
    "## Se crea la tabla\n",
    "##\n",
    "flights$IsDelayed <- ifelse(flights$DepDelay > 15, 1, 0)\n",
    "createOrReplaceTempView(flights, 'flightsView')"
   ]
  },
  {
   "cell_type": "code",
   "execution_count": 13,
   "metadata": {},
   "outputs": [
    {
     "data": {
      "text/html": [
       "<table>\n",
       "<caption>A data.frame: 2 × 2</caption>\n",
       "<thead>\n",
       "\t<tr><th scope=col>UniqueCarrier</th><th scope=col>NumDelays</th></tr>\n",
       "\t<tr><th scope=col>&lt;chr&gt;</th><th scope=col>&lt;dbl&gt;</th></tr>\n",
       "</thead>\n",
       "<tbody>\n",
       "\t<tr><td>XE</td><td> 1014</td></tr>\n",
       "\t<tr><td>WN</td><td>18573</td></tr>\n",
       "</tbody>\n",
       "</table>\n"
      ],
      "text/latex": [
       "A data.frame: 2 × 2\n",
       "\\begin{tabular}{r|ll}\n",
       " UniqueCarrier & NumDelays\\\\\n",
       " <chr> & <dbl>\\\\\n",
       "\\hline\n",
       "\t XE &  1014\\\\\n",
       "\t WN & 18573\\\\\n",
       "\\end{tabular}\n"
      ],
      "text/markdown": [
       "\n",
       "A data.frame: 2 × 2\n",
       "\n",
       "| UniqueCarrier &lt;chr&gt; | NumDelays &lt;dbl&gt; |\n",
       "|---|---|\n",
       "| XE |  1014 |\n",
       "| WN | 18573 |\n",
       "\n"
      ],
      "text/plain": [
       "  UniqueCarrier NumDelays\n",
       "1 XE             1014    \n",
       "2 WN            18573    "
      ]
     },
     "metadata": {},
     "output_type": "display_data"
    }
   ],
   "source": [
    "##\n",
    "## Numero total de retrasos por transportador\n",
    "##\n",
    "head(sql(\"\n",
    "SELECT \n",
    "    UniqueCarrier, \n",
    "    SUM(IsDelayed) AS NumDelays \n",
    "FROM \n",
    "    flightsView \n",
    "GROUP BY \n",
    "    UniqueCarrier\n",
    "\"))"
   ]
  },
  {
   "cell_type": "code",
   "execution_count": 14,
   "metadata": {},
   "outputs": [
    {
     "data": {
      "image/png": "[encoded data removed]",
      "text/plain": [
       "plot without title"
      ]
     },
     "metadata": {},
     "output_type": "display_data"
    }
   ],
   "source": [
    "##\n",
    "## Gráfico\n",
    "##\n",
    "result <- collect(sql(\"\n",
    "SELECT \n",
    "    UniqueCarrier, \n",
    "    SUM(IsDelayed) AS NumDelays \n",
    "FROM \n",
    "    flightsView \n",
    "GROUP BY \n",
    "    UniqueCarrier\n",
    "\"))\n",
    "                  \n",
    "barplot(result$NumDelays)"
   ]
  },
  {
   "cell_type": "code",
   "execution_count": 15,
   "metadata": {},
   "outputs": [
    {
     "data": {
      "text/html": [
       "<table>\n",
       "<caption>A data.frame: 2 × 2</caption>\n",
       "<thead>\n",
       "\t<tr><th scope=col>UniqueCarrier</th><th scope=col>TotalTimeDelay</th></tr>\n",
       "\t<tr><th scope=col>&lt;chr&gt;</th><th scope=col>&lt;dbl&gt;</th></tr>\n",
       "</thead>\n",
       "<tbody>\n",
       "\t<tr><td>XE</td><td> 47505</td></tr>\n",
       "\t<tr><td>WN</td><td>978547</td></tr>\n",
       "</tbody>\n",
       "</table>\n"
      ],
      "text/latex": [
       "A data.frame: 2 × 2\n",
       "\\begin{tabular}{r|ll}\n",
       " UniqueCarrier & TotalTimeDelay\\\\\n",
       " <chr> & <dbl>\\\\\n",
       "\\hline\n",
       "\t XE &  47505\\\\\n",
       "\t WN & 978547\\\\\n",
       "\\end{tabular}\n"
      ],
      "text/markdown": [
       "\n",
       "A data.frame: 2 × 2\n",
       "\n",
       "| UniqueCarrier &lt;chr&gt; | TotalTimeDelay &lt;dbl&gt; |\n",
       "|---|---|\n",
       "| XE |  47505 |\n",
       "| WN | 978547 |\n",
       "\n"
      ],
      "text/plain": [
       "  UniqueCarrier TotalTimeDelay\n",
       "1 XE             47505        \n",
       "2 WN            978547        "
      ]
     },
     "metadata": {},
     "output_type": "display_data"
    }
   ],
   "source": [
    "##\n",
    "## Tiempo total de retrasos por transportador\n",
    "##\n",
    "collect(sql(\"\n",
    "SELECT \n",
    "    UniqueCarrier, \n",
    "    SUM(DepDelay) AS TotalTimeDelay \n",
    "FROM \n",
    "    flightsView \n",
    "GROUP BY \n",
    "    UniqueCarrier\n",
    "\"))"
   ]
  },
  {
   "cell_type": "code",
   "execution_count": 16,
   "metadata": {},
   "outputs": [
    {
     "data": {
      "text/html": [
       "<table>\n",
       "<caption>A data.frame: 2 × 2</caption>\n",
       "<thead>\n",
       "\t<tr><th scope=col>UniqueCarrier</th><th scope=col>AvgDistanceTraveled</th></tr>\n",
       "\t<tr><th scope=col>&lt;chr&gt;</th><th scope=col>&lt;dbl&gt;</th></tr>\n",
       "</thead>\n",
       "<tbody>\n",
       "\t<tr><td>XE</td><td>738.0678</td></tr>\n",
       "\t<tr><td>WN</td><td>623.7927</td></tr>\n",
       "</tbody>\n",
       "</table>\n"
      ],
      "text/latex": [
       "A data.frame: 2 × 2\n",
       "\\begin{tabular}{r|ll}\n",
       " UniqueCarrier & AvgDistanceTraveled\\\\\n",
       " <chr> & <dbl>\\\\\n",
       "\\hline\n",
       "\t XE & 738.0678\\\\\n",
       "\t WN & 623.7927\\\\\n",
       "\\end{tabular}\n"
      ],
      "text/markdown": [
       "\n",
       "A data.frame: 2 × 2\n",
       "\n",
       "| UniqueCarrier &lt;chr&gt; | AvgDistanceTraveled &lt;dbl&gt; |\n",
       "|---|---|\n",
       "| XE | 738.0678 |\n",
       "| WN | 623.7927 |\n",
       "\n"
      ],
      "text/plain": [
       "  UniqueCarrier AvgDistanceTraveled\n",
       "1 XE            738.0678           \n",
       "2 WN            623.7927           "
      ]
     },
     "metadata": {},
     "output_type": "display_data"
    }
   ],
   "source": [
    "##\n",
    "## Distancia recorrida por operador\n",
    "##\n",
    "collect(sql(\"\n",
    "SELECT \n",
    "    UniqueCarrier, \n",
    "    avg(Distance) AS AvgDistanceTraveled \n",
    "FROM \n",
    "    flightsView \n",
    "GROUP BY \n",
    "    UniqueCarrier \n",
    "ORDER BY \n",
    "    AvgDistanceTraveled DESC\n",
    "\"))"
   ]
  },
  {
   "cell_type": "markdown",
   "metadata": {},
   "source": [
    "### Retrasos por día de la semana"
   ]
  },
  {
   "cell_type": "code",
   "execution_count": 17,
   "metadata": {},
   "outputs": [
    {
     "data": {
      "text/html": [
       "<table>\n",
       "<caption>A data.frame: 6 × 3</caption>\n",
       "<thead>\n",
       "\t<tr><th scope=col>DayOfWeek</th><th scope=col>delayed</th><th scope=col>Count</th></tr>\n",
       "\t<tr><th scope=col>&lt;chr&gt;</th><th scope=col>&lt;dbl&gt;</th><th scope=col>&lt;dbl&gt;</th></tr>\n",
       "</thead>\n",
       "<tbody>\n",
       "\t<tr><td>1</td><td>0</td><td>11863</td></tr>\n",
       "\t<tr><td>1</td><td>1</td><td> 2656</td></tr>\n",
       "\t<tr><td>2</td><td>0</td><td>12911</td></tr>\n",
       "\t<tr><td>2</td><td>1</td><td> 1799</td></tr>\n",
       "\t<tr><td>3</td><td>1</td><td> 1434</td></tr>\n",
       "\t<tr><td>3</td><td>0</td><td>13260</td></tr>\n",
       "</tbody>\n",
       "</table>\n"
      ],
      "text/latex": [
       "A data.frame: 6 × 3\n",
       "\\begin{tabular}{r|lll}\n",
       " DayOfWeek & delayed & Count\\\\\n",
       " <chr> & <dbl> & <dbl>\\\\\n",
       "\\hline\n",
       "\t 1 & 0 & 11863\\\\\n",
       "\t 1 & 1 &  2656\\\\\n",
       "\t 2 & 0 & 12911\\\\\n",
       "\t 2 & 1 &  1799\\\\\n",
       "\t 3 & 1 &  1434\\\\\n",
       "\t 3 & 0 & 13260\\\\\n",
       "\\end{tabular}\n"
      ],
      "text/markdown": [
       "\n",
       "A data.frame: 6 × 3\n",
       "\n",
       "| DayOfWeek &lt;chr&gt; | delayed &lt;dbl&gt; | Count &lt;dbl&gt; |\n",
       "|---|---|---|\n",
       "| 1 | 0 | 11863 |\n",
       "| 1 | 1 |  2656 |\n",
       "| 2 | 0 | 12911 |\n",
       "| 2 | 1 |  1799 |\n",
       "| 3 | 1 |  1434 |\n",
       "| 3 | 0 | 13260 |\n",
       "\n"
      ],
      "text/plain": [
       "  DayOfWeek delayed Count\n",
       "1 1         0       11863\n",
       "2 1         1        2656\n",
       "3 2         0       12911\n",
       "4 2         1        1799\n",
       "5 3         1        1434\n",
       "6 3         0       13260"
      ]
     },
     "metadata": {},
     "output_type": "display_data"
    }
   ],
   "source": [
    "head(sql(\"\n",
    "SELECT \n",
    "    DayOfWeek, \n",
    "    delayed,\n",
    "    COUNT(1) AS Count\n",
    "FROM\n",
    "    (SELECT\n",
    "        DayOfWeek,\n",
    "        IsDelayed AS delayed\n",
    "     FROM\n",
    "        flightsView)\n",
    "GROUP BY \n",
    "    DayOfWeek, \n",
    "    delayed\n",
    "ORDER BY \n",
    "    DayOfWeek\n",
    "\"))"
   ]
  },
  {
   "cell_type": "markdown",
   "metadata": {},
   "source": [
    "### Retrasos por hora del día"
   ]
  },
  {
   "cell_type": "code",
   "execution_count": 18,
   "metadata": {},
   "outputs": [
    {
     "data": {
      "text/html": [
       "<table>\n",
       "<caption>A data.frame: 6 × 3</caption>\n",
       "<thead>\n",
       "\t<tr><th scope=col>Hour</th><th scope=col>delayed</th><th scope=col>Count</th></tr>\n",
       "\t<tr><th scope=col>&lt;int&gt;</th><th scope=col>&lt;dbl&gt;</th><th scope=col>&lt;dbl&gt;</th></tr>\n",
       "</thead>\n",
       "<tbody>\n",
       "\t<tr><td>6</td><td>1</td><td> 208</td></tr>\n",
       "\t<tr><td>6</td><td>0</td><td>6126</td></tr>\n",
       "\t<tr><td>7</td><td>1</td><td> 372</td></tr>\n",
       "\t<tr><td>7</td><td>0</td><td>7274</td></tr>\n",
       "\t<tr><td>8</td><td>1</td><td> 547</td></tr>\n",
       "\t<tr><td>8</td><td>0</td><td>5956</td></tr>\n",
       "</tbody>\n",
       "</table>\n"
      ],
      "text/latex": [
       "A data.frame: 6 × 3\n",
       "\\begin{tabular}{r|lll}\n",
       " Hour & delayed & Count\\\\\n",
       " <int> & <dbl> & <dbl>\\\\\n",
       "\\hline\n",
       "\t 6 & 1 &  208\\\\\n",
       "\t 6 & 0 & 6126\\\\\n",
       "\t 7 & 1 &  372\\\\\n",
       "\t 7 & 0 & 7274\\\\\n",
       "\t 8 & 1 &  547\\\\\n",
       "\t 8 & 0 & 5956\\\\\n",
       "\\end{tabular}\n"
      ],
      "text/markdown": [
       "\n",
       "A data.frame: 6 × 3\n",
       "\n",
       "| Hour &lt;int&gt; | delayed &lt;dbl&gt; | Count &lt;dbl&gt; |\n",
       "|---|---|---|\n",
       "| 6 | 1 |  208 |\n",
       "| 6 | 0 | 6126 |\n",
       "| 7 | 1 |  372 |\n",
       "| 7 | 0 | 7274 |\n",
       "| 8 | 1 |  547 |\n",
       "| 8 | 0 | 5956 |\n",
       "\n"
      ],
      "text/plain": [
       "  Hour delayed Count\n",
       "1 6    1        208 \n",
       "2 6    0       6126 \n",
       "3 7    1        372 \n",
       "4 7    0       7274 \n",
       "5 8    1        547 \n",
       "6 8    0       5956 "
      ]
     },
     "metadata": {},
     "output_type": "display_data"
    }
   ],
   "source": [
    "head(sql(\"\n",
    "SELECT \n",
    "    Hour,\n",
    "    delayed, \n",
    "    COUNT(1) AS Count\n",
    "FROM \n",
    "(\n",
    "    SELECT\n",
    "        CAST(CRSDepTime / 100 AS INT) AS Hour, \n",
    "        IsDelayed AS delayed\n",
    "    FROM\n",
    "        flightsView\n",
    ")\n",
    "GROUP BY \n",
    "    Hour, \n",
    "    delayed\n",
    "ORDER BY \n",
    "    Hour\n",
    "\"))"
   ]
  },
  {
   "cell_type": "markdown",
   "metadata": {},
   "source": [
    "## Almacenamiento y lectura de tablas calculadas"
   ]
  },
  {
   "cell_type": "markdown",
   "metadata": {},
   "source": [
    "### Escritura de resultados en el HDFS con formato ORC"
   ]
  },
  {
   "cell_type": "code",
   "execution_count": 19,
   "metadata": {},
   "outputs": [
    {
     "name": "stdout",
     "output_type": "stream",
     "text": [
      "Deleted /tmp/flightsWithDelays.orc\n"
     ]
    }
   ],
   "source": [
    "##\n",
    "## Se salva la tabla calculada al directorio tmp del HDFS.\n",
    "## Primero se borra si existe.\n",
    "##\n",
    "systemp('hdfs dfs -rm -r -f /tmp/flightsWithDelays.orc')\n",
    "\n",
    "## Se salva en formato ORC\n",
    "write.orc(flightsWithDelays, \"/tmp/flightsWithDelays.orc\")"
   ]
  },
  {
   "cell_type": "code",
   "execution_count": 20,
   "metadata": {},
   "outputs": [
    {
     "name": "stdout",
     "output_type": "stream",
     "text": [
      "Found 3 items\n",
      "-rw-r--r--   1 vagrant supergroup          0 2019-05-20 23:37 /tmp/flightsWithDelays.orc/_SUCCESS\n",
      "-rw-r--r--   1 vagrant supergroup     204828 2019-05-20 23:37 /tmp/flightsWithDelays.orc/part-00000-6411fb20-af57-4a81-b21e-b3653adb85d7-c000.snappy.orc\n",
      "-rw-r--r--   1 vagrant supergroup      92419 2019-05-20 23:37 /tmp/flightsWithDelays.orc/part-00001-6411fb20-af57-4a81-b21e-b3653adb85d7-c000.snappy.orc\n"
     ]
    }
   ],
   "source": [
    "##\n",
    "## Contenido del directorio donde se salvó la tabla\n",
    "##\n",
    "systemp('hdfs dfs -ls /tmp/flightsWithDelays.orc')"
   ]
  },
  {
   "cell_type": "markdown",
   "metadata": {},
   "source": [
    "### Carga de los resultados desde el HDFS"
   ]
  },
  {
   "cell_type": "code",
   "execution_count": 21,
   "metadata": {},
   "outputs": [
    {
     "data": {
      "text/html": [
       "<table>\n",
       "<caption>A data.frame: 6 × 7</caption>\n",
       "<thead>\n",
       "\t<tr><th scope=col>Year</th><th scope=col>Month</th><th scope=col>DayofMonth</th><th scope=col>UniqueCarrier</th><th scope=col>FlightNum</th><th scope=col>DepDelay</th><th scope=col>IsDelayed</th></tr>\n",
       "\t<tr><th scope=col>&lt;chr&gt;</th><th scope=col>&lt;chr&gt;</th><th scope=col>&lt;chr&gt;</th><th scope=col>&lt;chr&gt;</th><th scope=col>&lt;chr&gt;</th><th scope=col>&lt;chr&gt;</th><th scope=col>&lt;dbl&gt;</th></tr>\n",
       "</thead>\n",
       "<tbody>\n",
       "\t<tr><td>2008</td><td>1</td><td>3</td><td>WN</td><td>335 </td><td>8 </td><td>0</td></tr>\n",
       "\t<tr><td>2008</td><td>1</td><td>3</td><td>WN</td><td>3231</td><td>19</td><td>1</td></tr>\n",
       "\t<tr><td>2008</td><td>1</td><td>3</td><td>WN</td><td>448 </td><td>8 </td><td>0</td></tr>\n",
       "\t<tr><td>2008</td><td>1</td><td>3</td><td>WN</td><td>1746</td><td>-4</td><td>0</td></tr>\n",
       "\t<tr><td>2008</td><td>1</td><td>3</td><td>WN</td><td>3920</td><td>34</td><td>1</td></tr>\n",
       "\t<tr><td>2008</td><td>1</td><td>3</td><td>WN</td><td>378 </td><td>25</td><td>1</td></tr>\n",
       "</tbody>\n",
       "</table>\n"
      ],
      "text/latex": [
       "A data.frame: 6 × 7\n",
       "\\begin{tabular}{r|lllllll}\n",
       " Year & Month & DayofMonth & UniqueCarrier & FlightNum & DepDelay & IsDelayed\\\\\n",
       " <chr> & <chr> & <chr> & <chr> & <chr> & <chr> & <dbl>\\\\\n",
       "\\hline\n",
       "\t 2008 & 1 & 3 & WN & 335  & 8  & 0\\\\\n",
       "\t 2008 & 1 & 3 & WN & 3231 & 19 & 1\\\\\n",
       "\t 2008 & 1 & 3 & WN & 448  & 8  & 0\\\\\n",
       "\t 2008 & 1 & 3 & WN & 1746 & -4 & 0\\\\\n",
       "\t 2008 & 1 & 3 & WN & 3920 & 34 & 1\\\\\n",
       "\t 2008 & 1 & 3 & WN & 378  & 25 & 1\\\\\n",
       "\\end{tabular}\n"
      ],
      "text/markdown": [
       "\n",
       "A data.frame: 6 × 7\n",
       "\n",
       "| Year &lt;chr&gt; | Month &lt;chr&gt; | DayofMonth &lt;chr&gt; | UniqueCarrier &lt;chr&gt; | FlightNum &lt;chr&gt; | DepDelay &lt;chr&gt; | IsDelayed &lt;dbl&gt; |\n",
       "|---|---|---|---|---|---|---|\n",
       "| 2008 | 1 | 3 | WN | 335  | 8  | 0 |\n",
       "| 2008 | 1 | 3 | WN | 3231 | 19 | 1 |\n",
       "| 2008 | 1 | 3 | WN | 448  | 8  | 0 |\n",
       "| 2008 | 1 | 3 | WN | 1746 | -4 | 0 |\n",
       "| 2008 | 1 | 3 | WN | 3920 | 34 | 1 |\n",
       "| 2008 | 1 | 3 | WN | 378  | 25 | 1 |\n",
       "\n"
      ],
      "text/plain": [
       "  Year Month DayofMonth UniqueCarrier FlightNum DepDelay IsDelayed\n",
       "1 2008 1     3          WN            335       8        0        \n",
       "2 2008 1     3          WN            3231      19       1        \n",
       "3 2008 1     3          WN            448       8        0        \n",
       "4 2008 1     3          WN            1746      -4       0        \n",
       "5 2008 1     3          WN            3920      34       1        \n",
       "6 2008 1     3          WN            378       25       1        "
      ]
     },
     "metadata": {},
     "output_type": "display_data"
    }
   ],
   "source": [
    "##\n",
    "## Se lee la tabla calculada desde el HDFS\n",
    "##\n",
    "test <- read.orc(\"/tmp/flightsWithDelays.orc\")\n",
    "head(test)"
   ]
  },
  {
   "cell_type": "markdown",
   "metadata": {},
   "source": [
    "### Salva el DataFrame como una tabla permamente"
   ]
  },
  {
   "cell_type": "code",
   "execution_count": 22,
   "metadata": {},
   "outputs": [
    {
     "name": "stdout",
     "output_type": "stream",
     "text": [
      "\n"
     ]
    }
   ],
   "source": [
    "##\n",
    "## La tabla queda guardada en la carpeta\n",
    "## spark-warehouse del directorio actual\n",
    "##\n",
    "systemp('rm -rf spark-warehouse/flightswithdelaystbl')\n",
    "saveAsTable(flightsWithDelays, \"flightswithdelaystbl\")"
   ]
  },
  {
   "cell_type": "markdown",
   "metadata": {},
   "source": [
    "### Tablas almacenadas"
   ]
  },
  {
   "cell_type": "code",
   "execution_count": 23,
   "metadata": {},
   "outputs": [
    {
     "data": {
      "text/html": [
       "<table>\n",
       "<caption>A data.frame: 2 × 3</caption>\n",
       "<thead>\n",
       "\t<tr><th scope=col>database</th><th scope=col>tableName</th><th scope=col>isTemporary</th></tr>\n",
       "\t<tr><th scope=col>&lt;chr&gt;</th><th scope=col>&lt;chr&gt;</th><th scope=col>&lt;lgl&gt;</th></tr>\n",
       "</thead>\n",
       "<tbody>\n",
       "\t<tr><td>default</td><td>flightswithdelaystbl</td><td>FALSE</td></tr>\n",
       "\t<tr><td>       </td><td>flightsview         </td><td> TRUE</td></tr>\n",
       "</tbody>\n",
       "</table>\n"
      ],
      "text/latex": [
       "A data.frame: 2 × 3\n",
       "\\begin{tabular}{r|lll}\n",
       " database & tableName & isTemporary\\\\\n",
       " <chr> & <chr> & <lgl>\\\\\n",
       "\\hline\n",
       "\t default & flightswithdelaystbl & FALSE\\\\\n",
       "\t         & flightsview          &  TRUE\\\\\n",
       "\\end{tabular}\n"
      ],
      "text/markdown": [
       "\n",
       "A data.frame: 2 × 3\n",
       "\n",
       "| database &lt;chr&gt; | tableName &lt;chr&gt; | isTemporary &lt;lgl&gt; |\n",
       "|---|---|---|\n",
       "| default | flightswithdelaystbl | FALSE |\n",
       "| <!----> | flightsview          |  TRUE |\n",
       "\n"
      ],
      "text/plain": [
       "  database tableName            isTemporary\n",
       "1 default  flightswithdelaystbl FALSE      \n",
       "2          flightsview           TRUE      "
      ]
     },
     "metadata": {},
     "output_type": "display_data"
    }
   ],
   "source": [
    "collect(sql(\"SHOW TABLES\"))"
   ]
  },
  {
   "cell_type": "markdown",
   "metadata": {},
   "source": [
    "## Consultas en un tabla permanente"
   ]
  },
  {
   "cell_type": "code",
   "execution_count": 24,
   "metadata": {},
   "outputs": [
    {
     "data": {
      "text/html": [
       "<table>\n",
       "<caption>A data.frame: 1 × 1</caption>\n",
       "<thead>\n",
       "\t<tr><th scope=col>Total</th></tr>\n",
       "\t<tr><th scope=col>&lt;dbl&gt;</th></tr>\n",
       "</thead>\n",
       "<tbody>\n",
       "\t<tr><td>1e+05</td></tr>\n",
       "</tbody>\n",
       "</table>\n"
      ],
      "text/latex": [
       "A data.frame: 1 × 1\n",
       "\\begin{tabular}{r|l}\n",
       " Total\\\\\n",
       " <dbl>\\\\\n",
       "\\hline\n",
       "\t 1e+05\\\\\n",
       "\\end{tabular}\n"
      ],
      "text/markdown": [
       "\n",
       "A data.frame: 1 × 1\n",
       "\n",
       "| Total &lt;dbl&gt; |\n",
       "|---|\n",
       "| 1e+05 |\n",
       "\n"
      ],
      "text/plain": [
       "  Total\n",
       "1 1e+05"
      ]
     },
     "metadata": {},
     "output_type": "display_data"
    }
   ],
   "source": [
    "## \n",
    "## Note que cuando la tabla está almacenada de forma\n",
    "## permanente no es necesario cargarla a la memoria\n",
    "## para poder usarla.\n",
    "##\n",
    "collect(sql(\"SELECT COUNT(1) AS Total from flightswithdelaystbl\"))"
   ]
  },
  {
   "cell_type": "code",
   "execution_count": 25,
   "metadata": {},
   "outputs": [
    {
     "data": {
      "text/plain": [
       "SparkDataFrame[]"
      ]
     },
     "metadata": {},
     "output_type": "display_data"
    },
    {
     "data": {
      "text/html": [
       "<table>\n",
       "<caption>A data.frame: 1 × 3</caption>\n",
       "<thead>\n",
       "\t<tr><th scope=col>database</th><th scope=col>tableName</th><th scope=col>isTemporary</th></tr>\n",
       "\t<tr><th scope=col>&lt;chr&gt;</th><th scope=col>&lt;chr&gt;</th><th scope=col>&lt;lgl&gt;</th></tr>\n",
       "</thead>\n",
       "<tbody>\n",
       "\t<tr><td></td><td>flightsview</td><td>TRUE</td></tr>\n",
       "</tbody>\n",
       "</table>\n"
      ],
      "text/latex": [
       "A data.frame: 1 × 3\n",
       "\\begin{tabular}{r|lll}\n",
       " database & tableName & isTemporary\\\\\n",
       " <chr> & <chr> & <lgl>\\\\\n",
       "\\hline\n",
       "\t  & flightsview & TRUE\\\\\n",
       "\\end{tabular}\n"
      ],
      "text/markdown": [
       "\n",
       "A data.frame: 1 × 3\n",
       "\n",
       "| database &lt;chr&gt; | tableName &lt;chr&gt; | isTemporary &lt;lgl&gt; |\n",
       "|---|---|---|\n",
       "| <!----> | flightsview | TRUE |\n",
       "\n"
      ],
      "text/plain": [
       "  database tableName   isTemporary\n",
       "1          flightsview TRUE       "
      ]
     },
     "metadata": {},
     "output_type": "display_data"
    }
   ],
   "source": [
    "## Se borran las tablas para limpiar el área\n",
    "## de trabajo.\n",
    "sql(\"DROP TABLE flightswithdelaystbl\")\n",
    "collect(sql(\"SHOW TABLES\"))"
   ]
  },
  {
   "cell_type": "code",
   "execution_count": null,
   "metadata": {},
   "outputs": [],
   "source": [
    "sparkR.stop()"
   ]
  },
  {
   "cell_type": "markdown",
   "metadata": {},
   "source": [
    "---"
   ]
  },
  {
   "cell_type": "markdown",
   "metadata": {},
   "source": [
    "**Limpieza**"
   ]
  },
  {
   "cell_type": "code",
   "execution_count": 26,
   "metadata": {},
   "outputs": [
    {
     "name": "stdout",
     "output_type": "stream",
     "text": [
      "Deleted /tmp/flights.csv\n"
     ]
    }
   ],
   "source": [
    "systemp('hdfs dfs -rm /tmp/flights.csv')"
   ]
  }
 ],
 "metadata": {
  "kernelspec": {
   "display_name": "R",
   "language": "R",
   "name": "ir"
  },
  "language_info": {
   "codemirror_mode": "r",
   "file_extension": ".r",
   "mimetype": "text/x-r-source",
   "name": "R",
   "pygments_lexer": "r",
   "version": "3.4.4"
  },
  "toc-autonumbering": false
 },
 "nbformat": 4,
 "nbformat_minor": 2
}
