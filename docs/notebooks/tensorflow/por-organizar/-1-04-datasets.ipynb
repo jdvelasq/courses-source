{
 "cells": [
  {
   "cell_type": "markdown",
   "metadata": {},
   "source": [
    "Manejo eficiente de datasets y transformaciones en TensorFlow\n",
    "==="
   ]
  },
  {
   "cell_type": "markdown",
   "metadata": {},
   "source": [
    "* *10 min* | Última modificación: Abril 3, 2020."
   ]
  },
  {
   "cell_type": "markdown",
   "metadata": {},
   "source": [
    "## Introducción"
   ]
  },
  {
   "cell_type": "markdown",
   "metadata": {},
   "source": [
    "TF contiene funciones para el manejo eficiente de conjuntos de datos de gran tamaño. Este procesamiento se realiza usando un streaming de datos, tal que no es necesario cargar la totalidad de los datos a memoria para su procesamiento. El esquema es el siguiente (https://www.tensorflow.org/api_docs/python/tf/data/Dataset):\n",
    "\n",
    "1. Se crea una fuente de datos para los datos de entrada (un objeto de Python, un archivo en disco, etc).\n",
    "\n",
    "2. Se define el preprocesamiento a aplicar para realizar la transformación de datos.\n",
    "\n",
    "3. Se itera sobre el dataset (como si fuese un stream) y se procesan los elementos."
   ]
  },
  {
   "cell_type": "markdown",
   "metadata": {},
   "source": [
    "## Uso"
   ]
  },
  {
   "cell_type": "code",
   "execution_count": 1,
   "metadata": {},
   "outputs": [
    {
     "name": "stdout",
     "output_type": "stream",
     "text": [
      "2.1.0\n"
     ]
    }
   ],
   "source": [
    "#\n",
    "#  Preparación\n",
    "#\n",
    "import warnings\n",
    "\n",
    "warnings.filterwarnings(\"ignore\")\n",
    "\n",
    "import tensorflow as tf\n",
    "import numpy as np\n",
    "\n",
    "print(tf.__version__)"
   ]
  },
  {
   "cell_type": "markdown",
   "metadata": {},
   "source": [
    "### Conversión de un objeto de Python"
   ]
  },
  {
   "cell_type": "code",
   "execution_count": 2,
   "metadata": {},
   "outputs": [
    {
     "name": "stdout",
     "output_type": "stream",
     "text": [
      "tf.Tensor(1, shape=(), dtype=int32)\n",
      "tf.Tensor(2, shape=(), dtype=int32)\n",
      "tf.Tensor(3, shape=(), dtype=int32)\n",
      "tf.Tensor(4, shape=(), dtype=int32)\n",
      "tf.Tensor(5, shape=(), dtype=int32)\n",
      "tf.Tensor(6, shape=(), dtype=int32)\n"
     ]
    }
   ],
   "source": [
    "#\n",
    "#  Cada elemento de la lista es convertido en un tensor\n",
    "#\n",
    "tensors = tf.data.Dataset.from_tensor_slices([1, 2, 3, 4, 5, 6])\n",
    "\n",
    "#\n",
    "# Imprime el contenido\n",
    "#\n",
    "for tensor in tensors:\n",
    "    print(tensor)"
   ]
  },
  {
   "cell_type": "markdown",
   "metadata": {},
   "source": [
    "### Conversión del contenido de un archivo"
   ]
  },
  {
   "cell_type": "code",
   "execution_count": 3,
   "metadata": {},
   "outputs": [
    {
     "name": "stdout",
     "output_type": "stream",
     "text": [
      "Overwriting demo.txt\n"
     ]
    }
   ],
   "source": [
    "%%writefile demo.txt\n",
    "linea 1\n",
    "linea 2\n",
    "linea 3\n",
    "linea 4"
   ]
  },
  {
   "cell_type": "code",
   "execution_count": 4,
   "metadata": {},
   "outputs": [
    {
     "name": "stdout",
     "output_type": "stream",
     "text": [
      "tf.Tensor(b'linea 1', shape=(), dtype=string) --- b'linea 1'\n",
      "tf.Tensor(b'linea 2', shape=(), dtype=string) --- b'linea 2'\n",
      "tf.Tensor(b'linea 3', shape=(), dtype=string) --- b'linea 3'\n",
      "tf.Tensor(b'linea 4', shape=(), dtype=string) --- b'linea 4'\n"
     ]
    }
   ],
   "source": [
    "#\n",
    "#  Lectura del contenido del archivo como tensores\n",
    "#\n",
    "tensors = tf.data.TextLineDataset(\"demo.txt\")\n",
    "\n",
    "#\n",
    "# Imprime el contenido\n",
    "#\n",
    "for tensor in tensors:\n",
    "    print(tensor, '---', tensor.numpy())"
   ]
  }
 ],
 "metadata": {
  "kernelspec": {
   "display_name": "Python 3",
   "language": "python",
   "name": "python3"
  },
  "language_info": {
   "codemirror_mode": {
    "name": "ipython",
    "version": 3
   },
   "file_extension": ".py",
   "mimetype": "text/x-python",
   "name": "python",
   "nbconvert_exporter": "python",
   "pygments_lexer": "ipython3",
   "version": "3.6.9"
  }
 },
 "nbformat": 4,
 "nbformat_minor": 4
}
