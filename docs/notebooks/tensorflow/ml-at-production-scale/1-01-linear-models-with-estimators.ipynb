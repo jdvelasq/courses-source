{
 "cells": [
  {
   "cell_type": "markdown",
   "metadata": {},
   "source": [
    "Construcción de modelos usando estimadores\n",
    "==="
   ]
  },
  {
   "cell_type": "markdown",
   "metadata": {},
   "source": [
    "* *30 min* | Última modificación: Julio 12, 2019."
   ]
  },
  {
   "cell_type": "markdown",
   "metadata": {},
   "source": [
    "## Depedencias"
   ]
  },
  {
   "cell_type": "code",
   "execution_count": 1,
   "metadata": {},
   "outputs": [],
   "source": [
    "import matplotlib.pyplot as plt\n",
    "import numpy as np\n",
    "%matplotlib inline"
   ]
  },
  {
   "cell_type": "code",
   "execution_count": 2,
   "metadata": {},
   "outputs": [],
   "source": [
    "import tensorflow as tf\n",
    "## Establece el nivel de reporte en \n",
    "## pantalla de TensorFlow\n",
    "tf.logging.set_verbosity(tf.logging.ERROR)"
   ]
  },
  {
   "cell_type": "markdown",
   "metadata": {},
   "source": [
    "## Dataset"
   ]
  },
  {
   "cell_type": "code",
   "execution_count": 3,
   "metadata": {},
   "outputs": [
    {
     "data": {
      "image/png": "[encoded data removed]",
      "text/plain": [
       "<Figure size 432x288 with 1 Axes>"
      ]
     },
     "metadata": {
      "needs_background": "light"
     },
     "output_type": "display_data"
    }
   ],
   "source": [
    "##\n",
    "## datos del problema propuesto\n",
    "##\n",
    "from sklearn.datasets import make_regression\n",
    "\n",
    "X, d = make_regression(\n",
    "    n_samples=100,         #\n",
    "    n_features=1,          #\n",
    "    n_informative=1,       #\n",
    "    bias=0.0,              # intercepto\n",
    "    effective_rank=None,   # numero de vectores singulares para explicar los datos\n",
    "    tail_strength=0.9,     # ? importancia relativa de las colas\n",
    "    noise=12.0,            #\n",
    "    shuffle=False,         # ?\n",
    "    coef=False,            # ?coeficientes de la regresion\n",
    "    random_state=12136)    #\n",
    "\n",
    "plt.scatter(X, d);"
   ]
  },
  {
   "cell_type": "markdown",
   "metadata": {},
   "source": [
    "## Featured Columns"
   ]
  },
  {
   "cell_type": "markdown",
   "metadata": {},
   "source": [
    "Para columnas categoricas cuyos valores conocidos:\n",
    "\n",
    "```python\n",
    "eye_color = tf.feature_column.categorical_column_with_vocabulary_list(\n",
    "    \"eye_color\", \n",
    "    vocabulary_list=[\"blue\", \n",
    "                     \"brown\", \n",
    "                     \"green\"])\n",
    "```\n",
    "\n",
    "Para columnas categoricas para las que no se conocen todos los valores posibles:\n",
    "\n",
    "```python\n",
    "education = tf.feature_column.categorical_column_with_hash_bucket(\n",
    "    \"education\", \n",
    "    hash_bucket_size=1000)\n",
    "```\n",
    "\n",
    "Para combinaciones:\n",
    "\n",
    "```python\n",
    "sport_x_city = tf.feature_column.crossed_column(\n",
    "    [\"sport\", \"city\"], \n",
    "    hash_bucket_size=int(1e4))\n",
    "```\n",
    "\n",
    "Bucketization:\n",
    "\n",
    "```python\n",
    "age_buckets = tf.feature_column.bucketized_column(\n",
    "    age, \n",
    "    boundaries=[18, 25, 30, 35, 40, 45, 50, 55, 60, 65])\n",
    "```"
   ]
  },
  {
   "cell_type": "code",
   "execution_count": null,
   "metadata": {},
   "outputs": [],
   "source": [
    "## Indica que la columna 'x' es numérica\n",
    "column = tf.feature_column.numeric_column(\"x\")"
   ]
  },
  {
   "cell_type": "code",
   "execution_count": null,
   "metadata": {},
   "outputs": [],
   "source": []
  },
  {
   "cell_type": "markdown",
   "metadata": {},
   "source": [
    "## Funciones de entrada a los estimadores"
   ]
  },
  {
   "cell_type": "code",
   "execution_count": 4,
   "metadata": {},
   "outputs": [],
   "source": [
    "## Función de entrada para el estimador.\n",
    "## Debe retornar una tupla con (entradas, salida).\n",
    "## Note que features es un diccionario que contine \n",
    "## una paraja clave-valor por cada variable \n",
    "## independiente\n",
    "def input_fn_train():\n",
    "    features={'x': np.array(X)}\n",
    "    labels=d\n",
    "    return features, labels\n",
    "\n",
    "\n",
    "## Esta función es igual que la anterior, pero \n",
    "## retorna únicamente el data.frame de variables\n",
    "## independientes\n",
    "def input_fn_predict():\n",
    "    features = {'x': X}\n",
    "    return features"
   ]
  },
  {
   "cell_type": "markdown",
   "metadata": {},
   "source": [
    "## Baseline regressor"
   ]
  },
  {
   "cell_type": "code",
   "execution_count": 5,
   "metadata": {},
   "outputs": [
    {
     "name": "stdout",
     "output_type": "stream",
     "text": [
      "Pronosticos:\n",
      "  -0.0755   -2.9318\n",
      "   0.2546   -2.9318\n",
      "  -1.6779   -2.9318\n",
      "   0.0293   -2.9318\n",
      "  -1.2602   -2.9318\n",
      "  -1.1800   -2.9318\n",
      "   1.2612   -2.9318\n",
      "  -0.4497   -2.9318\n",
      "   0.4412   -2.9318\n",
      "   0.3960   -2.9318\n",
      "  -0.0354   -2.9318\n",
      "   2.2734   -2.9318\n",
      "   0.5158   -2.9318\n",
      "   1.6237   -2.9318\n",
      "   0.1691   -2.9318\n",
      "  -0.0121   -2.9318\n",
      "  -0.3039   -2.9318\n",
      "  -1.1597   -2.9318\n",
      "   0.2303   -2.9318\n",
      "  -1.2708   -2.9318\n",
      "  -1.5080   -2.9318\n",
      "  -0.9356   -2.9318\n",
      "  -1.4532   -2.9318\n",
      "   0.5876   -2.9318\n",
      "   0.4854   -2.9318\n",
      "   0.8495   -2.9318\n",
      "   1.1130   -2.9318\n",
      "  -1.7399   -2.9318\n",
      "  -0.2514   -2.9318\n",
      "  -1.0507   -2.9318\n",
      "  -0.3076   -2.9318\n",
      "   0.3728   -2.9318\n",
      "   0.5264   -2.9318\n",
      "  -1.3370   -2.9318\n",
      "  -0.6606   -2.9318\n",
      "  -0.6144   -2.9318\n",
      "  -1.4774   -2.9318\n",
      "   1.1807   -2.9318\n",
      "   0.9704   -2.9318\n",
      "  -1.5066   -2.9318\n",
      "   0.8731   -2.9318\n",
      "  -0.0937   -2.9318\n",
      "  -0.1800   -2.9318\n",
      "   2.0581   -2.9318\n",
      "  -0.7563   -2.9318\n",
      "   0.8886   -2.9318\n",
      "   0.1899   -2.9318\n",
      "  -0.3355   -2.9318\n",
      "   0.2248   -2.9318\n",
      "   0.4466   -2.9318\n",
      "   0.5047   -2.9318\n",
      "  -0.6236   -2.9318\n",
      "  -0.1888   -2.9318\n",
      "   0.2352   -2.9318\n",
      "  -1.1621   -2.9318\n",
      "  -0.5986   -2.9318\n",
      "  -0.3132   -2.9318\n",
      "   1.1245   -2.9318\n",
      "   0.6452   -2.9318\n",
      "  -0.4707   -2.9318\n",
      "  -0.8411   -2.9318\n",
      "  -1.7709   -2.9318\n",
      "   1.4799   -2.9318\n",
      "  -0.2526   -2.9318\n",
      "   1.6152   -2.9318\n",
      "  -1.7395   -2.9318\n",
      "  -0.1960   -2.9318\n",
      "  -0.4050   -2.9318\n",
      "   0.6913   -2.9318\n",
      "  -0.7042   -2.9318\n",
      "   0.6560   -2.9318\n",
      "  -1.2084   -2.9318\n",
      "   1.0014   -2.9318\n",
      "  -1.9980   -2.9318\n",
      "   0.5624   -2.9318\n",
      "   1.3177   -2.9318\n",
      "   1.0148   -2.9318\n",
      "   0.3716   -2.9318\n",
      "  -0.0292   -2.9318\n",
      "   0.4308   -2.9318\n",
      "   1.1079   -2.9318\n",
      "   0.4670   -2.9318\n",
      "  -1.2908   -2.9318\n",
      "  -0.5011   -2.9318\n",
      "  -0.2243   -2.9318\n",
      "  -1.1248   -2.9318\n",
      "   0.9131   -2.9318\n",
      "  -0.2482   -2.9318\n",
      "   0.3312   -2.9318\n",
      "  -1.2127   -2.9318\n",
      "  -1.1015   -2.9318\n",
      "   0.5410   -2.9318\n",
      "   1.3994   -2.9318\n",
      "  -0.7490   -2.9318\n",
      "  -0.8867   -2.9318\n",
      "  -1.2512   -2.9318\n",
      "   1.5016   -2.9318\n",
      "   0.5126   -2.9318\n",
      "   0.1722   -2.9318\n",
      "   1.7353   -2.9318\n",
      "\n",
      "Métricas de error\n",
      "  average_loss    :  3448.5046\n",
      "  global_step     :   100.0000\n",
      "  label/mean      :    -3.0172\n",
      "  loss            : 344850.4688\n",
      "  prediction/mean :    -2.9318\n",
      "\n"
     ]
    },
    {
     "data": {
      "image/png": "[encoded data removed]",
      "text/plain": [
       "<Figure size 432x288 with 1 Axes>"
      ]
     },
     "metadata": {
      "needs_background": "light"
     },
     "output_type": "display_data"
    }
   ],
   "source": [
    "## Construye el estimador base, cuya salida es\n",
    "## una constante.\n",
    "regressor = tf.estimator.BaselineRegressor()\n",
    "\n",
    "## Entrenamiento\n",
    "regressor.train(\n",
    "    input_fn=input_fn_train,  # función de entrada\n",
    "    steps=100)                # número de iteraciones (optimización)\n",
    "\n",
    "## Pronostica para nuevos valores. En este\n",
    "## caso se usa la misma función de entrada que\n",
    "## para el entrenamiento.\n",
    "results = regressor.predict(\n",
    "    input_fn=input_fn_predict)\n",
    "\n",
    "## Imprime los resultados.\n",
    "forecasts = []\n",
    "print('Pronosticos:')\n",
    "for i, value in zip(X, results):\n",
    "    ## Value es un diccionario por cada posible valor de x.\n",
    "    ## El contenido de la clave predictions es un vector.\n",
    "    print('  {:7.4f}   {:7.4f}'.format(i[0], value['predictions'][0]))\n",
    "    \n",
    "    ## Se almacenan los valores pronosticodos en una lista\n",
    "    ## para poder graficarlos \n",
    "    forecasts += value['predictions'].tolist()\n",
    "\n",
    "## Grafica los puntos de la muestra de datos\n",
    "plt.plot(X, d, 'o')\n",
    "\n",
    "## Grafica los pronósticos del modelo\n",
    "plt.plot(X, forecasts, '-', color = 'red');\n",
    "\n",
    "## Imprime los estadísticos de error.\n",
    "metrics = regressor.evaluate(input_fn=input_fn_train, steps=1)\n",
    "print('')\n",
    "print('Métricas de error')\n",
    "for key in sorted(metrics.keys()):\n",
    "    print(\"  {:16s}: {:10.4f}\".format(key, metrics[key]))\n",
    "print('')"
   ]
  },
  {
   "cell_type": "markdown",
   "metadata": {},
   "source": [
    "## Linear Regressor"
   ]
  },
  {
   "cell_type": "code",
   "execution_count": 6,
   "metadata": {},
   "outputs": [
    {
     "name": "stdout",
     "output_type": "stream",
     "text": [
      "Pronosticos:\n",
      "  -0.0755   -4.7529\n",
      "   0.2546   13.6133\n",
      "  -1.6779   -93.9188\n",
      "   0.0293    1.0802\n",
      "  -1.2602   -70.6734\n",
      "  -1.1800   -66.2129\n",
      "   1.2612   69.6243\n",
      "  -0.4497   -25.5779\n",
      "   0.4412   23.9954\n",
      "   0.3960   21.4808\n",
      "  -0.0354   -2.5228\n",
      "   2.2734   125.9521\n",
      "   0.5158   28.1498\n",
      "   1.6237   89.7950\n",
      "   0.1691    8.8578\n",
      "  -0.0121   -1.2281\n",
      "  -0.3039   -17.4645\n",
      "  -1.1597   -65.0860\n",
      "   0.2303   12.2623\n",
      "  -1.2708   -71.2660\n",
      "  -1.5080   -84.4643\n",
      "  -0.9356   -52.6139\n",
      "  -1.4532   -81.4174\n",
      "   0.5876   32.1452\n",
      "   0.4854   26.4580\n",
      "   0.8495   46.7200\n",
      "   1.1130   61.3792\n",
      "  -1.7399   -97.3663\n",
      "  -0.2514   -14.5440\n",
      "  -1.0507   -59.0169\n",
      "  -0.3076   -17.6706\n",
      "   0.3728   20.1897\n",
      "   0.5264   28.7391\n",
      "  -1.3370   -74.9489\n",
      "  -0.6606   -37.3105\n",
      "  -0.6144   -34.7427\n",
      "  -1.4774   -82.7617\n",
      "   1.1807   65.1464\n",
      "   0.9704   53.4446\n",
      "  -1.5066   -84.3889\n",
      "   0.8731   48.0329\n",
      "  -0.0937   -5.7676\n",
      "  -0.1800   -10.5700\n",
      "   2.0581   113.9702\n",
      "  -0.7563   -42.6350\n",
      "   0.8886   48.8909\n",
      "   0.1899   10.0148\n",
      "  -0.3355   -19.2237\n",
      "   0.2248   11.9542\n",
      "   0.4466   24.2979\n",
      "   0.5047   27.5316\n",
      "  -0.6236   -35.2514\n",
      "  -0.1888   -11.0575\n",
      "   0.2352   12.5351\n",
      "  -1.1621   -65.2175\n",
      "  -0.5986   -33.8609\n",
      "  -0.3132   -17.9817\n",
      "   1.1245   62.0194\n",
      "   0.6452   35.3512\n",
      "  -0.4707   -26.7421\n",
      "  -0.8411   -47.3571\n",
      "  -1.7709   -99.0919\n",
      "   1.4799   81.7942\n",
      "  -0.2526   -14.6100\n",
      "   1.6152   89.3217\n",
      "  -1.7395   -97.3471\n",
      "  -0.1960   -11.4593\n",
      "  -0.4050   -23.0863\n",
      "   0.6913   37.9117\n",
      "  -0.7042   -39.7399\n",
      "   0.6560   35.9516\n",
      "  -1.2084   -67.7960\n",
      "   1.0014   55.1688\n",
      "  -1.9980   -111.7318\n",
      "   0.5624   30.7395\n",
      "   1.3177   72.7711\n",
      "   1.0148   55.9128\n",
      "   0.3716   20.1265\n",
      "  -0.0292   -2.1796\n",
      "   0.4308   23.4204\n",
      "   1.1079   61.0947\n",
      "   0.4670   25.4306\n",
      "  -1.2908   -72.3787\n",
      "  -0.5011   -28.4380\n",
      "  -0.2243   -13.0324\n",
      "  -1.1248   -63.1420\n",
      "   0.9131   50.2538\n",
      "  -0.2482   -14.3617\n",
      "   0.3312   17.8745\n",
      "  -1.2127   -68.0343\n",
      "  -1.1015   -61.8444\n",
      "   0.5410   29.5509\n",
      "   1.3994   77.3143\n",
      "  -0.7490   -42.2303\n",
      "  -0.8867   -49.8940\n",
      "  -1.2512   -70.1767\n",
      "   1.5016   83.0050\n",
      "   0.5126   27.9730\n",
      "   0.1722    9.0313\n",
      "   1.7353   96.0097\n",
      "\n",
      "Métricas de error\n",
      "  average_loss    :   142.4169\n",
      "  global_step     :   500.0000\n",
      "  label/mean      :    -3.0172\n",
      "  loss            : 14241.6953\n",
      "  prediction/mean :    -3.0190\n",
      "\n"
     ]
    },
    {
     "data": {
      "image/png": "[encoded data removed]",
      "text/plain": [
       "<Figure size 432x288 with 1 Axes>"
      ]
     },
     "metadata": {
      "needs_background": "light"
     },
     "output_type": "display_data"
    }
   ],
   "source": [
    "## Construye el estimador lineal, cuya salida es\n",
    "## el resultado de la regresión lineal entre\n",
    "## x y y.\n",
    "regressor = tf.estimator.LinearRegressor(\n",
    "    feature_columns = [column],\n",
    "    optimizer = tf.train.AdamOptimizer(\n",
    "        learning_rate = 0.2))\n",
    "\n",
    "## Entrenamiento\n",
    "regressor.train(\n",
    "    input_fn=input_fn_train,\n",
    "    steps=500)\n",
    "\n",
    "## Pronostica para nuevos valores. En este\n",
    "## caso se usa la misma función de entrada que\n",
    "## para el entrenamiento.\n",
    "results = regressor.predict(\n",
    "    input_fn=input_fn_predict)\n",
    "\n",
    "## Imprime los resultados.\n",
    "forecasts = []\n",
    "print('Pronosticos:')\n",
    "for i, value in zip(X, results):\n",
    "    ## Value es un diccionario por cada posible valor de x.\n",
    "    ## El contenido de la clave predictions es un vector.\n",
    "    print('  {:7.4f}   {:7.4f}'.format(i[0], value['predictions'][0]))\n",
    "    \n",
    "    ## Se almacenan los valores pronosticodos en una lista\n",
    "    ## para poder graficarlos \n",
    "    forecasts += value['predictions'].tolist()\n",
    "\n",
    "## Grafica los puntos de la muestra de datos\n",
    "plt.plot(X, d, 'o')\n",
    "\n",
    "## Grafica los pronósticos del modelo\n",
    "plt.plot(X, forecasts, '-', color = 'red');\n",
    "\n",
    "## Imprime los estadísticos de error.\n",
    "metrics = regressor.evaluate(input_fn=input_fn_train, steps=1)\n",
    "print('')\n",
    "print('Métricas de error')\n",
    "for key in sorted(metrics.keys()):\n",
    "    print(\"  {:16s}: {:10.4f}\".format(key, metrics[key]))\n",
    "print('')"
   ]
  }
 ],
 "metadata": {
  "kernelspec": {
   "display_name": "Python 3",
   "language": "python",
   "name": "python3"
  },
  "language_info": {
   "codemirror_mode": {
    "name": "ipython",
    "version": 3
   },
   "file_extension": ".py",
   "mimetype": "text/x-python",
   "name": "python",
   "nbconvert_exporter": "python",
   "pygments_lexer": "ipython3",
   "version": "3.6.8"
  }
 },
 "nbformat": 4,
 "nbformat_minor": 2
}
