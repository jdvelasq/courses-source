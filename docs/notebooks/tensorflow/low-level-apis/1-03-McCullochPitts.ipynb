{
 "cells": [
  {
   "cell_type": "markdown",
   "metadata": {},
   "source": [
    "Reconocimiento de patrones binarios usando neuronas de McCulloch-Pitts\n",
    "===\n",
    "\n",
    "* *30 min* | Última modificación: Marzo 30, 2020"
   ]
  },
  {
   "cell_type": "markdown",
   "metadata": {},
   "source": [
    "En este tutorial se presenta la implementación de una red neuronal que permite reconocer el siguiente conjunto de patrones binarios."
   ]
  },
  {
   "cell_type": "markdown",
   "metadata": {},
   "source": [
    "\n",
    "    Entrada   Salida\n",
    "    ------------------\n",
    "       000       0\n",
    "       001       1\n",
    "       010       0\n",
    "       011       0\n",
    "       100       1\n",
    "       101       0\n",
    "       110       1\n",
    "       111       1\n",
    "\n",
    "       "
   ]
  },
  {
   "cell_type": "markdown",
   "metadata": {},
   "source": [
    "## Implementación en TensorFlow"
   ]
  },
  {
   "cell_type": "code",
   "execution_count": 2,
   "metadata": {},
   "outputs": [
    {
     "ename": "ModuleNotFoundError",
     "evalue": "No module named 'tensorflow'",
     "output_type": "error",
     "traceback": [
      "\u001b[0;31m---------------------------------------------------------------------------\u001b[0m",
      "\u001b[0;31mModuleNotFoundError\u001b[0m                       Traceback (most recent call last)",
      "\u001b[0;32m<ipython-input-2-111e8c03b368>\u001b[0m in \u001b[0;36m<module>\u001b[0;34m\u001b[0m\n\u001b[1;32m      2\u001b[0m \u001b[0;31m## Preparación\u001b[0m\u001b[0;34m\u001b[0m\u001b[0;34m\u001b[0m\u001b[0;34m\u001b[0m\u001b[0m\n\u001b[1;32m      3\u001b[0m \u001b[0;31m##\u001b[0m\u001b[0;34m\u001b[0m\u001b[0;34m\u001b[0m\u001b[0;34m\u001b[0m\u001b[0m\n\u001b[0;32m----> 4\u001b[0;31m \u001b[0;32mimport\u001b[0m \u001b[0mtensorflow\u001b[0m \u001b[0;32mas\u001b[0m \u001b[0mtf\u001b[0m\u001b[0;34m\u001b[0m\u001b[0;34m\u001b[0m\u001b[0m\n\u001b[0m\u001b[1;32m      5\u001b[0m \u001b[0;34m\u001b[0m\u001b[0m\n\u001b[1;32m      6\u001b[0m \u001b[0;31m##\u001b[0m\u001b[0;34m\u001b[0m\u001b[0;34m\u001b[0m\u001b[0;34m\u001b[0m\u001b[0m\n",
      "\u001b[0;31mModuleNotFoundError\u001b[0m: No module named 'tensorflow'"
     ]
    }
   ],
   "source": [
    "## \n",
    "## Preparación\n",
    "##\n",
    "import tensorflow as tf\n",
    "\n",
    "##\n",
    "## Peso de las neuronas inhibitorias\n",
    "##\n",
    "N = -10.0\n",
    "\n",
    "## Pesos asociados a las conexiones. \n",
    "## Se traspone la matriz para que cada\n",
    "## fila representa un patrón y cada columna\n",
    "## un dígito binario    \n",
    "weights = tf.constant([[N, N, 1],  # 001\n",
    "                       [1, N, N],  # 100\n",
    "                       [1, 1, N],  # 110\n",
    "                       [1, 1, 1]], # 111 \n",
    "                      tf.float32)\n",
    "\n",
    "\n",
    "## valor límite de las neuronas para \n",
    "## la función de activación\n",
    "threshold = tf.constant([1, 1, 2, 3],\n",
    "                        tf.float32)\n",
    "\n",
    "                       \n",
    "                       \n",
    "##\n",
    "## vector fila que representa la entrada a la red neuronal\n",
    "##\n",
    "x = tf.placeholder(tf.float32, shape=(3,))\n",
    "\n",
    "\n",
    "\n",
    "## \n",
    "## Cálculo de la salida de la red\n",
    "##\n",
    "out0 = tf.matmul(weights, tf.reshape(x, [3, 1]) )       # suma de las entradas \n",
    "out1 = tf.reshape(out0, [-1])\n",
    "out2 = tf.subtract(out1, threshold) # resta el umbral: g() - umbral\n",
    "out3 = tf.map_fn(lambda m: tf.cond(tf.greater_equal(m, 0.0), \n",
    "                                      true_fn  = lambda : tf.constant(1.0), \n",
    "                                      false_fn = lambda : tf.constant(0.0)),\n",
    "                  out2)\n",
    "\n",
    "##\n",
    "## Computa la función OR\n",
    "##\n",
    "nnet = tf.reduce_max(out3) # salida de la red neuronal\n",
    "\n",
    "##\n",
    "## Abre una sesión y ejecuta\n",
    "## los cálculos para diferentes valores de entrada\n",
    "##\n",
    "with tf.Session() as sess:\n",
    "\n",
    "    print(sess.run(nnet, feed_dict = {x: [0,0,0]}))\n",
    "    print(sess.run(nnet, feed_dict = {x: [0,0,1]}))\n",
    "    print(sess.run(nnet, feed_dict = {x: [0,1,0]}))\n",
    "    print(sess.run(nnet, feed_dict = {x: [0,1,1]}))\n",
    "    print(sess.run(nnet, feed_dict = {x: [1,0,0]}))\n",
    "    print(sess.run(nnet, feed_dict = {x: [1,0,1]}))\n",
    "    print(sess.run(nnet, feed_dict = {x: [1,1,0]}))\n",
    "    print(sess.run(nnet, feed_dict = {x: [1,1,1]}))\n"
   ]
  },
  {
   "cell_type": "markdown",
   "metadata": {},
   "source": [
    "## Apéndice --- Implementación en R"
   ]
  },
  {
   "cell_type": "markdown",
   "metadata": {},
   "source": [
    "A continuación se presenta el programa en R para simular una red de neuronas de McCulloch-Pitts. "
   ]
  },
  {
   "cell_type": "code",
   "execution_count": null,
   "metadata": {},
   "outputs": [],
   "source": []
  },
  {
   "cell_type": "code",
   "execution_count": 4,
   "metadata": {},
   "outputs": [
    {
     "name": "stdout",
     "output_type": "stream",
     "text": [
      "[1] TRUE\n",
      "[1] TRUE\n",
      "[1] TRUE\n",
      "[1] TRUE\n",
      "[1] TRUE\n",
      "[1] TRUE\n",
      "[1] TRUE\n",
      "[1] TRUE\n"
     ]
    }
   ],
   "source": [
    "%%R\n",
    "nnet <- function(x) {\n",
    "\n",
    "    ## \n",
    "    ## define x como un vector fila\n",
    "    ##\n",
    "    x <- matrix(x, nrow = 3, ncol = 1)\n",
    "    \n",
    "    ## Peso de las neuronas inhibitorias, es \n",
    "    ## un valor mucho más grande que la cantidad\n",
    "    ## de entradas\n",
    "    N <- -10.0\n",
    "\n",
    "    ## Las conexiones son representadas mediante \n",
    "    ## una matriz donde las filas corresponden \n",
    "    ## a los patrones y las columnas a los bits.\n",
    "    ## Note que N representa las conexiones inhibitorias.\n",
    "    ## Las conexiones excitatorias tienen un \n",
    "    ## valor de 1.\n",
    "    weights <- matrix(c(N, N, 1,  # 001\n",
    "                        1, N, N,  # 100\n",
    "                        1, 1, N,  # 110\n",
    "                        1, 1, 1), # 111 \n",
    "                      nrow = 3,   # número de bits por patron\n",
    "                      ncol = 4)   # número de patrones\n",
    "    \n",
    "    ## se traspone la matriz para que cada\n",
    "    ## fila representa un patrón y cada columna\n",
    "    ## un dígito binario\n",
    "    weights <- t(weights)\n",
    "    \n",
    "    ## El umbral de las neuronas de la primera capa\n",
    "    ## se almacena en un vector\n",
    "    threshold <- matrix(c(1, 1, 2, 3), nrow = 4,, ncol = 1)\n",
    "    \n",
    "    ## operaciones matemáticas\n",
    "    out <- weights %*% x          # multiplicación matricial\n",
    "    out <- out - threshold        # resta el umbral \n",
    "    out <- ifelse(out >= 0, 1, 0) # aplica la función f\n",
    "    out <- max(out)               # computa la función OR\n",
    "    \n",
    "    return(out)                   # retorna la salida de la red neuronal \n",
    "}\n",
    "\n",
    "## \n",
    "## Verificacion\n",
    "##\n",
    "print(nnet(c(0,0,0)) == 0)\n",
    "print(nnet(c(0,0,1)) == 1)\n",
    "print(nnet(c(0,1,0)) == 0)\n",
    "print(nnet(c(0,1,1)) == 0)\n",
    "print(nnet(c(1,0,0)) == 1)\n",
    "print(nnet(c(1,0,1)) == 0)\n",
    "print(nnet(c(1,1,0)) == 1)\n",
    "print(nnet(c(1,1,1)) == 1)"
   ]
  },
  {
   "cell_type": "markdown",
   "metadata": {},
   "source": [
    "## Apéndice --- Implementación en TensorFlow for R"
   ]
  },
  {
   "cell_type": "code",
   "execution_count": null,
   "metadata": {},
   "outputs": [],
   "source": [
    "%%R\n",
    "## \n",
    "## Preparación\n",
    "##\n",
    "library(tensorflow)\n",
    "\n",
    "##\n",
    "## Peso de las neuronas inhibitorias\n",
    "##\n",
    "N <- -10.0\n",
    "\n",
    "## Pesos asociados a las conexiones. \n",
    "## Se traspone la matriz para que cada\n",
    "## fila representa un patrón y cada columna\n",
    "## un dígito binario    \n",
    "weights <- tf$constant( t(matrix(c(N, N, 1,  # 001\n",
    "                                   1, N, N,  # 100\n",
    "                                   1, 1, N,  # 110\n",
    "                                   1, 1, 1), # 111 \n",
    "                                 nrow = 3,   # número de bits de la entrada\n",
    "                                 ncol = 4)), # número de patrones)\n",
    "                          tf$float32)\n",
    "\n",
    "\n",
    "## valor límite de las neuronas para \n",
    "## la función de activación\n",
    "threshold <- tf$constant(matrix(c(1, 1, 2, 3), \n",
    "                                nrow = 4, \n",
    "                                ncol = 1), \n",
    "                         tf$float32)\n",
    "\n",
    "                       \n",
    "                       \n",
    "##\n",
    "## vector fila que representa la entrada a la red neuronal\n",
    "##\n",
    "x <- tf$placeholder(tf$float32, shape=c(3, 1))\n",
    "\n",
    "\n",
    "\n",
    "## \n",
    "## Cálculo de la salida de la red\n",
    "##\n",
    "out0 <- tf$matmul(weights, x)        # suma de las entradas \n",
    "out1 <- tf$subtract(out0, threshold) # resta el umbral: g() - umbral\n",
    "out2 <- tf$map_fn(function(m) tf$cond(tf$greater_equal(m[[0]], 0.0), \n",
    "                                      true_fn = function() tf$constant(1.), \n",
    "                                      false_fn = function() tf$constant(0.0)),\n",
    "                  out1)\n",
    "\n",
    "##\n",
    "## Computa la función OR\n",
    "##\n",
    "nnet <- tf$reduce_max(out2) # salida de la red neuronal\n",
    "\n",
    "##\n",
    "## Abre una sesión y ejecuta\n",
    "## los cálculos para diferentes valores de entrada\n",
    "##\n",
    "with(tf$Session() %as% sess, {\n",
    "    \n",
    "    print(sess$run(nnet, feed_dict =dict(x = matrix(c(0,0,0), 3, 1))))\n",
    "    print(sess$run(nnet, feed_dict =dict(x = matrix(c(0,0,1), 3, 1))))\n",
    "    print(sess$run(nnet, feed_dict =dict(x = matrix(c(0,1,0), 3, 1))))\n",
    "    print(sess$run(nnet, feed_dict =dict(x = matrix(c(0,1,1), 3, 1))))\n",
    "    print(sess$run(nnet, feed_dict =dict(x = matrix(c(1,0,0), 3, 1))))\n",
    "    print(sess$run(nnet, feed_dict =dict(x = matrix(c(1,0,1), 3, 1))))\n",
    "    print(sess$run(nnet, feed_dict =dict(x = matrix(c(1,1,0), 3, 1))))\n",
    "    print(sess$run(nnet, feed_dict =dict(x = matrix(c(1,1,1), 3, 1))))\n",
    "})"
   ]
  }
 ],
 "metadata": {
  "kernelspec": {
   "display_name": "Python 3",
   "language": "python",
   "name": "python3"
  },
  "language_info": {
   "codemirror_mode": {
    "name": "ipython",
    "version": 3
   },
   "file_extension": ".py",
   "mimetype": "text/x-python",
   "name": "python",
   "nbconvert_exporter": "python",
   "pygments_lexer": "ipython3",
   "version": "3.6.9"
  }
 },
 "nbformat": 4,
 "nbformat_minor": 4
}
