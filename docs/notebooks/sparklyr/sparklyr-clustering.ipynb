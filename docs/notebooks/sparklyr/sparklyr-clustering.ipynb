{
 "cells": [
  {
   "cell_type": "markdown",
   "metadata": {},
   "source": [
    "Segmentación del mercado de adolecentes en sparklyr\n",
    "===\n",
    "\n",
    "* *30 min* | Última modificación: Junio 22, 2019"
   ]
  },
  {
   "cell_type": "markdown",
   "metadata": {},
   "source": [
    "En este tutorial se aplica el algoritmo K-means para clasificar un grupo de adolecentes con base en sus intéreses, con el fin de diseñar estrategias publicitarias y servicios encaminados a cada grupo de interés usando SparkR. Este tutorial se enfoca en la programación de Sparklyr y no en el análisis del problema. Para abordar este tutorial, el lector debe tener suficiencia en los módulos correspondientes de analítica predictiva."
   ]
  },
  {
   "cell_type": "markdown",
   "metadata": {},
   "source": [
    "## Definición del problema"
   ]
  },
  {
   "cell_type": "markdown",
   "metadata": {},
   "source": [
    "Un vendedor desea enviar publicidad electrónica a una población de adolecentes y adultos jóvenes con el fin de maximizar sus ventas. Para ello, desea poder clasificar a sus clientes potenciales por grupos de interés de acuerdo con sus intereses y consecuentemente enviar publicidad específica a cada uno de ellos.   "
   ]
  },
  {
   "cell_type": "markdown",
   "metadata": {},
   "source": [
    "En este problema se desea determina que grupos de interés existen en una población de clientes a partir de los mensajes enviados por un servicio de redes sociales. La información disponible consiste en 30000 observaciones de 40 variables que podrían caracterizar los intereses de la población analizada. Estas variables corresponden a palabras que pueden asociarse a un interés de la poblaión analizada. Cada variable mide la frecuencia con que una determinada palabra aparece en los mensajes de texto; adicionalmente, dentro de estas variables se incluye  información como el sexo, la edad y la cantidad de contactos de la persona. "
   ]
  },
  {
   "cell_type": "markdown",
   "metadata": {},
   "source": [
    "## Solución"
   ]
  },
  {
   "cell_type": "markdown",
   "metadata": {},
   "source": [
    "### Preparación"
   ]
  },
  {
   "cell_type": "code",
   "execution_count": 1,
   "metadata": {},
   "outputs": [],
   "source": [
    "##\n",
    "## Esta función se usará para ejecutar comandos en el \n",
    "## sistema operativo y capturar la salida.\n",
    "##\n",
    "systemp <- function(command) cat(system(command, intern = TRUE), sep = '\\n')"
   ]
  },
  {
   "cell_type": "code",
   "execution_count": 2,
   "metadata": {},
   "outputs": [
    {
     "name": "stderr",
     "output_type": "stream",
     "text": [
      "\n",
      "Attaching package: ‘dplyr’\n",
      "\n",
      "The following objects are masked from ‘package:stats’:\n",
      "\n",
      "    filter, lag\n",
      "\n",
      "The following objects are masked from ‘package:base’:\n",
      "\n",
      "    intersect, setdiff, setequal, union\n",
      "\n"
     ]
    },
    {
     "data": {
      "text/html": [
       "<table>\n",
       "<caption>A data.frame: 1 × 3</caption>\n",
       "<thead>\n",
       "\t<tr><th scope=col>spark</th><th scope=col>hadoop</th><th scope=col>dir</th></tr>\n",
       "\t<tr><th scope=col>&lt;chr&gt;</th><th scope=col>&lt;chr&gt;</th><th scope=col>&lt;chr&gt;</th></tr>\n",
       "</thead>\n",
       "<tbody>\n",
       "\t<tr><td>2.4.3</td><td>2.7</td><td>/home/vagrant/spark/spark-2.4.3-bin-hadoop2.7</td></tr>\n",
       "</tbody>\n",
       "</table>\n"
      ],
      "text/latex": [
       "A data.frame: 1 × 3\n",
       "\\begin{tabular}{r|lll}\n",
       " spark & hadoop & dir\\\\\n",
       " <chr> & <chr> & <chr>\\\\\n",
       "\\hline\n",
       "\t 2.4.3 & 2.7 & /home/vagrant/spark/spark-2.4.3-bin-hadoop2.7\\\\\n",
       "\\end{tabular}\n"
      ],
      "text/markdown": [
       "\n",
       "A data.frame: 1 × 3\n",
       "\n",
       "| spark &lt;chr&gt; | hadoop &lt;chr&gt; | dir &lt;chr&gt; |\n",
       "|---|---|---|\n",
       "| 2.4.3 | 2.7 | /home/vagrant/spark/spark-2.4.3-bin-hadoop2.7 |\n",
       "\n"
      ],
      "text/plain": [
       "  spark hadoop dir                                          \n",
       "1 2.4.3 2.7    /home/vagrant/spark/spark-2.4.3-bin-hadoop2.7"
      ]
     },
     "metadata": {},
     "output_type": "display_data"
    },
    {
     "data": {
      "text/plain": [
       "[1] ‘2.4.3’"
      ]
     },
     "metadata": {},
     "output_type": "display_data"
    }
   ],
   "source": [
    "library(sparklyr)\n",
    "library(dplyr)\n",
    "spark_installed_versions()\n",
    "sc <- spark_connect(master='local', spark_home='/home/vagrant/spark/spark-2.4.3-bin-hadoop2.7')\n",
    "spark_version(sc)"
   ]
  },
  {
   "cell_type": "markdown",
   "metadata": {},
   "source": [
    "### Carga de datos"
   ]
  },
  {
   "cell_type": "markdown",
   "metadata": {},
   "source": [
    "El archivo con los datos se encuentra en la carpeta actual de trabajo en la máquina local."
   ]
  },
  {
   "cell_type": "code",
   "execution_count": 3,
   "metadata": {},
   "outputs": [
    {
     "name": "stderr",
     "output_type": "stream",
     "text": [
      "Warning message:\n",
      "“running command 'hdfs dfs -copyFromLocal insurance.csv /tmp/snsdata.csv' had status 1”"
     ]
    },
    {
     "name": "stdout",
     "output_type": "stream",
     "text": [
      "\n"
     ]
    }
   ],
   "source": [
    "## copia el archivo al HDFS\n",
    "systemp('hdfs dfs -copyFromLocal snsdata.csv /tmp/snsdata.csv') "
   ]
  },
  {
   "cell_type": "code",
   "execution_count": 4,
   "metadata": {},
   "outputs": [
    {
     "data": {
      "text/plain": [
       "\u001b[38;5;246m# Source: spark<snsdata> [?? x 40]\u001b[39m\n",
       "   gradyear gender   age friends basketball football soccer softball volleyball\n",
       "      \u001b[3m\u001b[38;5;246m<int>\u001b[39m\u001b[23m \u001b[3m\u001b[38;5;246m<chr>\u001b[39m\u001b[23m  \u001b[3m\u001b[38;5;246m<dbl>\u001b[39m\u001b[23m   \u001b[3m\u001b[38;5;246m<int>\u001b[39m\u001b[23m      \u001b[3m\u001b[38;5;246m<int>\u001b[39m\u001b[23m    \u001b[3m\u001b[38;5;246m<int>\u001b[39m\u001b[23m  \u001b[3m\u001b[38;5;246m<int>\u001b[39m\u001b[23m    \u001b[3m\u001b[38;5;246m<int>\u001b[39m\u001b[23m      \u001b[3m\u001b[38;5;246m<int>\u001b[39m\u001b[23m\n",
       "\u001b[38;5;250m 1\u001b[39m     \u001b[4m2\u001b[24m006 M       19.0       7          0        0      0        0          0\n",
       "\u001b[38;5;250m 2\u001b[39m     \u001b[4m2\u001b[24m006 F       18.8       0          0        1      0        0          0\n",
       "\u001b[38;5;250m 3\u001b[39m     \u001b[4m2\u001b[24m006 M       18.3      69          0        1      0        0          0\n",
       "\u001b[38;5;250m 4\u001b[39m     \u001b[4m2\u001b[24m006 F       18.9       0          0        0      0        0          0\n",
       "\u001b[38;5;250m 5\u001b[39m     \u001b[4m2\u001b[24m006 NA      19.0      10          0        0      0        0          0\n",
       "\u001b[38;5;250m 6\u001b[39m     \u001b[4m2\u001b[24m006 F      \u001b[31mNaN\u001b[39m       142          0        0      0        0          0\n",
       "\u001b[38;5;250m 7\u001b[39m     \u001b[4m2\u001b[24m006 F       18.9      72          0        0      0        0          0\n",
       "\u001b[38;5;250m 8\u001b[39m     \u001b[4m2\u001b[24m006 M       18.3      17          0        0      0        1          0\n",
       "\u001b[38;5;250m 9\u001b[39m     \u001b[4m2\u001b[24m006 F       19.1      52          0        0      0        0          0\n",
       "\u001b[38;5;250m10\u001b[39m     \u001b[4m2\u001b[24m006 F       18.7      39          0        0      0        0          0\n",
       "\u001b[38;5;246m# … with more rows, and 31 more variables: swimming \u001b[3m\u001b[38;5;246m<int>\u001b[38;5;246m\u001b[23m, cheerleading \u001b[3m\u001b[38;5;246m<int>\u001b[38;5;246m\u001b[23m,\n",
       "#   baseball \u001b[3m\u001b[38;5;246m<int>\u001b[38;5;246m\u001b[23m, tennis \u001b[3m\u001b[38;5;246m<int>\u001b[38;5;246m\u001b[23m, sports \u001b[3m\u001b[38;5;246m<int>\u001b[38;5;246m\u001b[23m, cute \u001b[3m\u001b[38;5;246m<int>\u001b[38;5;246m\u001b[23m, sex \u001b[3m\u001b[38;5;246m<int>\u001b[38;5;246m\u001b[23m,\n",
       "#   sexy \u001b[3m\u001b[38;5;246m<int>\u001b[38;5;246m\u001b[23m, hot \u001b[3m\u001b[38;5;246m<int>\u001b[38;5;246m\u001b[23m, kissed \u001b[3m\u001b[38;5;246m<int>\u001b[38;5;246m\u001b[23m, dance \u001b[3m\u001b[38;5;246m<int>\u001b[38;5;246m\u001b[23m, band \u001b[3m\u001b[38;5;246m<int>\u001b[38;5;246m\u001b[23m,\n",
       "#   marching \u001b[3m\u001b[38;5;246m<int>\u001b[38;5;246m\u001b[23m, music \u001b[3m\u001b[38;5;246m<int>\u001b[38;5;246m\u001b[23m, rock \u001b[3m\u001b[38;5;246m<int>\u001b[38;5;246m\u001b[23m, god \u001b[3m\u001b[38;5;246m<int>\u001b[38;5;246m\u001b[23m, church \u001b[3m\u001b[38;5;246m<int>\u001b[38;5;246m\u001b[23m,\n",
       "#   jesus \u001b[3m\u001b[38;5;246m<int>\u001b[38;5;246m\u001b[23m, bible \u001b[3m\u001b[38;5;246m<int>\u001b[38;5;246m\u001b[23m, hair \u001b[3m\u001b[38;5;246m<int>\u001b[38;5;246m\u001b[23m, dress \u001b[3m\u001b[38;5;246m<int>\u001b[38;5;246m\u001b[23m, blonde \u001b[3m\u001b[38;5;246m<int>\u001b[38;5;246m\u001b[23m,\n",
       "#   mall \u001b[3m\u001b[38;5;246m<int>\u001b[38;5;246m\u001b[23m, shopping \u001b[3m\u001b[38;5;246m<int>\u001b[38;5;246m\u001b[23m, clothes \u001b[3m\u001b[38;5;246m<int>\u001b[38;5;246m\u001b[23m, hollister \u001b[3m\u001b[38;5;246m<int>\u001b[38;5;246m\u001b[23m,\n",
       "#   abercrombie \u001b[3m\u001b[38;5;246m<int>\u001b[38;5;246m\u001b[23m, die \u001b[3m\u001b[38;5;246m<int>\u001b[38;5;246m\u001b[23m, death \u001b[3m\u001b[38;5;246m<int>\u001b[38;5;246m\u001b[23m, drunk \u001b[3m\u001b[38;5;246m<int>\u001b[38;5;246m\u001b[23m, drugs \u001b[3m\u001b[38;5;246m<int>\u001b[38;5;246m\u001b[23m\u001b[39m"
      ]
     },
     "metadata": {},
     "output_type": "display_data"
    }
   ],
   "source": [
    "df <- \n",
    "spark_read_csv(sc,                  ## spark_connection\n",
    "               'snsdata',           ## nombre de la tabla\n",
    "               '/tmp/snsdata.csv')  ## ubicación del archivo\n",
    "                                    ## en el sistema hdfs\n",
    "df"
   ]
  },
  {
   "cell_type": "code",
   "execution_count": 5,
   "metadata": {},
   "outputs": [
    {
     "data": {
      "text/plain": [
       "\u001b[38;5;246m# Source: spark<?> [?? x 1]\u001b[39m\n",
       "      n\n",
       "  \u001b[3m\u001b[38;5;246m<dbl>\u001b[39m\u001b[23m\n",
       "\u001b[38;5;250m1\u001b[39m \u001b[4m3\u001b[24m\u001b[4m0\u001b[24m000"
      ]
     },
     "metadata": {},
     "output_type": "display_data"
    }
   ],
   "source": [
    "##\n",
    "## Cantidad de registros leidos\n",
    "##\n",
    "count(df)"
   ]
  },
  {
   "cell_type": "markdown",
   "metadata": {},
   "source": [
    "### Análisis exploratorio"
   ]
  },
  {
   "cell_type": "markdown",
   "metadata": {},
   "source": [
    "A continuación se ejemplifican algunos cómputos típicos para el análisis exploratorio."
   ]
  },
  {
   "cell_type": "code",
   "execution_count": 6,
   "metadata": {},
   "outputs": [
    {
     "data": {
      "text/plain": [
       "\u001b[38;5;246m# Source: spark<?> [?? x 2]\u001b[39m\n",
       "  gender count\n",
       "  \u001b[3m\u001b[38;5;246m<chr>\u001b[39m\u001b[23m  \u001b[3m\u001b[38;5;246m<dbl>\u001b[39m\u001b[23m\n",
       "\u001b[38;5;250m1\u001b[39m M       \u001b[4m5\u001b[24m222\n",
       "\u001b[38;5;250m2\u001b[39m F      \u001b[4m2\u001b[24m\u001b[4m2\u001b[24m054\n",
       "\u001b[38;5;250m3\u001b[39m NA      \u001b[4m2\u001b[24m724"
      ]
     },
     "metadata": {},
     "output_type": "display_data"
    }
   ],
   "source": [
    "##\n",
    "## Conteo por género\n",
    "##\n",
    "df %>%  group_by(gender) %>% summarize(count = n())"
   ]
  },
  {
   "cell_type": "code",
   "execution_count": 7,
   "metadata": {},
   "outputs": [
    {
     "data": {
      "text/plain": [
       "\n",
       "    F     M    NA \n",
       "22054  5222  2724 "
      ]
     },
     "metadata": {},
     "output_type": "display_data"
    }
   ],
   "source": [
    "##\n",
    "## Conteo por género\n",
    "##\n",
    "table(df %>% select(gender) %>% collect)"
   ]
  },
  {
   "cell_type": "code",
   "execution_count": 8,
   "metadata": {},
   "outputs": [
    {
     "data": {
      "text/plain": [
       "      age         \n",
       " Min.   :  3.086  \n",
       " 1st Qu.: 16.312  \n",
       " Median : 17.287  \n",
       " Mean   : 17.994  \n",
       " 3rd Qu.: 18.259  \n",
       " Max.   :106.927  \n",
       " NA's   :5086     "
      ]
     },
     "metadata": {},
     "output_type": "display_data"
    }
   ],
   "source": [
    "##\n",
    "## Estadísticos por rango de edades\n",
    "##\n",
    "summary(df %>% select(age) %>% collect())"
   ]
  },
  {
   "cell_type": "code",
   "execution_count": 9,
   "metadata": {},
   "outputs": [
    {
     "data": {
      "text/plain": [
       "\u001b[38;5;246m# Source: spark<?> [?? x 2]\u001b[39m\n",
       "  summary age               \n",
       "  \u001b[3m\u001b[38;5;246m<chr>\u001b[39m\u001b[23m   \u001b[3m\u001b[38;5;246m<chr>\u001b[39m\u001b[23m             \n",
       "\u001b[38;5;250m1\u001b[39m count   24914             \n",
       "\u001b[38;5;250m2\u001b[39m mean    17.993949546439772\n",
       "\u001b[38;5;250m3\u001b[39m stddev  7.858054477853863 \n",
       "\u001b[38;5;250m4\u001b[39m min     3.086             \n",
       "\u001b[38;5;250m5\u001b[39m max     106.927           "
      ]
     },
     "metadata": {},
     "output_type": "display_data"
    }
   ],
   "source": [
    "##\n",
    "## Estadísticos por rango de edades\n",
    "##\n",
    "sdf_describe(df, 'age')"
   ]
  },
  {
   "cell_type": "markdown",
   "metadata": {},
   "source": [
    "Los métodos que pueden aplicarse a las columnas están listados en: https://spark.rstudio.com/reference/"
   ]
  },
  {
   "cell_type": "code",
   "execution_count": 10,
   "metadata": {},
   "outputs": [
    {
     "data": {
      "text/plain": [
       "\u001b[38;5;246m# Source: spark<?> [?? x 1]\u001b[39m\n",
       "      n\n",
       "  \u001b[3m\u001b[38;5;246m<dbl>\u001b[39m\u001b[23m\n",
       "\u001b[38;5;250m1\u001b[39m  \u001b[4m5\u001b[24m086"
      ]
     },
     "metadata": {},
     "output_type": "display_data"
    }
   ],
   "source": [
    "##\n",
    "## Cantidad de nulos en la columna age\n",
    "##\n",
    "df %>% filter(isNull(age)) %>% count"
   ]
  },
  {
   "cell_type": "code",
   "execution_count": 11,
   "metadata": {},
   "outputs": [
    {
     "data": {
      "text/plain": [
       "\u001b[38;5;246m# Source: spark<?> [?? x 2]\u001b[39m\n",
       "  summary age1319           \n",
       "  \u001b[3m\u001b[38;5;246m<chr>\u001b[39m\u001b[23m   \u001b[3m\u001b[38;5;246m<chr>\u001b[39m\u001b[23m             \n",
       "\u001b[38;5;250m1\u001b[39m count   24477             \n",
       "\u001b[38;5;250m2\u001b[39m mean    17.25242893328433 \n",
       "\u001b[38;5;250m3\u001b[39m stddev  1.1574649278955391\n",
       "\u001b[38;5;250m4\u001b[39m min     13.027            \n",
       "\u001b[38;5;250m5\u001b[39m max     19.995            "
      ]
     },
     "metadata": {},
     "output_type": "display_data"
    }
   ],
   "source": [
    "##\n",
    "## Se agrega una columna con las edades entre 13 y 19,\n",
    "## reemplazando por null los valores por fuera de este\n",
    "## rango\n",
    "##\n",
    "df <- \n",
    "mutate(df, \n",
    "       age1319 = ifelse(age >= 13 & age < 20, age, NA))\n",
    "\n",
    "##\n",
    "## Se verifican los valores en la nueva columna\n",
    "##\n",
    "sdf_describe(df, 'age1319')"
   ]
  },
  {
   "cell_type": "code",
   "execution_count": 12,
   "metadata": {},
   "outputs": [
    {
     "data": {
      "text/html": [
       "<table>\n",
       "<caption>A tibble: 4 × 2</caption>\n",
       "<thead>\n",
       "\t<tr><th scope=col>gradyear</th><th scope=col>avg_age</th></tr>\n",
       "\t<tr><th scope=col>&lt;int&gt;</th><th scope=col>&lt;dbl&gt;</th></tr>\n",
       "</thead>\n",
       "<tbody>\n",
       "\t<tr><td>2009</td><td>16.87602</td></tr>\n",
       "\t<tr><td>2006</td><td>19.13724</td></tr>\n",
       "\t<tr><td>2007</td><td>18.39146</td></tr>\n",
       "\t<tr><td>2008</td><td>17.52387</td></tr>\n",
       "</tbody>\n",
       "</table>\n"
      ],
      "text/latex": [
       "A tibble: 4 × 2\n",
       "\\begin{tabular}{r|ll}\n",
       " gradyear & avg\\_age\\\\\n",
       " <int> & <dbl>\\\\\n",
       "\\hline\n",
       "\t 2009 & 16.87602\\\\\n",
       "\t 2006 & 19.13724\\\\\n",
       "\t 2007 & 18.39146\\\\\n",
       "\t 2008 & 17.52387\\\\\n",
       "\\end{tabular}\n"
      ],
      "text/markdown": [
       "\n",
       "A tibble: 4 × 2\n",
       "\n",
       "| gradyear &lt;int&gt; | avg_age &lt;dbl&gt; |\n",
       "|---|---|\n",
       "| 2009 | 16.87602 |\n",
       "| 2006 | 19.13724 |\n",
       "| 2007 | 18.39146 |\n",
       "| 2008 | 17.52387 |\n",
       "\n"
      ],
      "text/plain": [
       "  gradyear avg_age \n",
       "1 2009     16.87602\n",
       "2 2006     19.13724\n",
       "3 2007     18.39146\n",
       "4 2008     17.52387"
      ]
     },
     "metadata": {},
     "output_type": "display_data"
    }
   ],
   "source": [
    "##\n",
    "## Se calcula la edad promedio por año \n",
    "## de graduación para la muestra en el\n",
    "## rango de edades considerado\n",
    "##\n",
    "age_df <- df %>% group_by(gradyear) %>% summarize(avg_age = avg(age))\n",
    "\n",
    "age_df %>% collect"
   ]
  },
  {
   "cell_type": "markdown",
   "metadata": {},
   "source": [
    "### Entrenamiento del modelo"
   ]
  },
  {
   "cell_type": "code",
   "execution_count": 13,
   "metadata": {},
   "outputs": [],
   "source": [
    "##\n",
    "## Agrupamiento usando k-means\n",
    "##\n",
    "model <- \n",
    "ml_kmeans(\n",
    "    df,\n",
    "    ~ friends + basketball + football + soccer + softball + \n",
    "      volleyball + swimming + cheerleading + baseball + tennis + \n",
    "      sports + cute + sex + sexy + hot + kissed + dance + band + \n",
    "      marching + music + rock + god + church + jesus + bible + \n",
    "      hair + dress + blonde + mall + shopping + clothes + hollister + \n",
    "      abercrombie + die + death + drunk + drugs,\n",
    "    k = 5,\n",
    "    max_iter = 100,\n",
    "    seed = 12345,\n",
    "    prediction_col = 'cluster'\n",
    ")"
   ]
  },
  {
   "cell_type": "code",
   "execution_count": 14,
   "metadata": {},
   "outputs": [],
   "source": [
    "##\n",
    "## Pronóstico del cluster de cada grupo\n",
    "##\n",
    "fitted <- ml_predict(model, df) %>% collect"
   ]
  },
  {
   "cell_type": "markdown",
   "metadata": {},
   "source": [
    "### Análisis del modelo"
   ]
  },
  {
   "cell_type": "code",
   "execution_count": 15,
   "metadata": {},
   "outputs": [
    {
     "data": {
      "text/html": [
       "<table>\n",
       "<caption>A tibble: 5 × 2</caption>\n",
       "<thead>\n",
       "\t<tr><th scope=col>cluster</th><th scope=col>count</th></tr>\n",
       "\t<tr><th scope=col>&lt;int&gt;</th><th scope=col>&lt;int&gt;</th></tr>\n",
       "</thead>\n",
       "<tbody>\n",
       "\t<tr><td>0</td><td> 3502</td></tr>\n",
       "\t<tr><td>1</td><td>16886</td></tr>\n",
       "\t<tr><td>2</td><td>    7</td></tr>\n",
       "\t<tr><td>3</td><td> 8994</td></tr>\n",
       "\t<tr><td>4</td><td>  611</td></tr>\n",
       "</tbody>\n",
       "</table>\n"
      ],
      "text/latex": [
       "A tibble: 5 × 2\n",
       "\\begin{tabular}{r|ll}\n",
       " cluster & count\\\\\n",
       " <int> & <int>\\\\\n",
       "\\hline\n",
       "\t 0 &  3502\\\\\n",
       "\t 1 & 16886\\\\\n",
       "\t 2 &     7\\\\\n",
       "\t 3 &  8994\\\\\n",
       "\t 4 &   611\\\\\n",
       "\\end{tabular}\n"
      ],
      "text/markdown": [
       "\n",
       "A tibble: 5 × 2\n",
       "\n",
       "| cluster &lt;int&gt; | count &lt;int&gt; |\n",
       "|---|---|\n",
       "| 0 |  3502 |\n",
       "| 1 | 16886 |\n",
       "| 2 |     7 |\n",
       "| 3 |  8994 |\n",
       "| 4 |   611 |\n",
       "\n"
      ],
      "text/plain": [
       "  cluster count\n",
       "1 0        3502\n",
       "2 1       16886\n",
       "3 2           7\n",
       "4 3        8994\n",
       "5 4         611"
      ]
     },
     "metadata": {},
     "output_type": "display_data"
    }
   ],
   "source": [
    "##\n",
    "## Cantidad de patrones por cluster\n",
    "##\n",
    "fitted %>%  group_by(cluster) %>% summarize(count = n())"
   ]
  }
 ],
 "metadata": {
  "kernel_info": {
   "name": "python3"
  },
  "kernelspec": {
   "display_name": "R",
   "language": "R",
   "name": "ir"
  },
  "language_info": {
   "codemirror_mode": "r",
   "file_extension": ".r",
   "mimetype": "text/x-r-source",
   "name": "R",
   "pygments_lexer": "r",
   "version": "3.4.4"
  },
  "nteract": {
   "version": "0.7.1"
  }
 },
 "nbformat": 4,
 "nbformat_minor": 2
}
