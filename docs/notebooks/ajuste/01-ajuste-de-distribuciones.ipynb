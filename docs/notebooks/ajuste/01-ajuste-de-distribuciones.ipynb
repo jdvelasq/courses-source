{
 "cells": [
  {
   "cell_type": "markdown",
   "metadata": {
    "slideshow": {
     "slide_type": "slide"
    }
   },
   "source": [
    "Ajuste de Distribuciones\n",
    "===\n",
    "\n",
    "* *60 min* | Ultima modificación: Junio 22, 2019"
   ]
  },
  {
   "cell_type": "markdown",
   "metadata": {},
   "source": [
    "El ajuste de distribuciones teóricas a los datos es un concepto fundamental en estadística ya que permite inferir sobre las características de dichos datos y generar conclusiones generalizadas. Entre los casos de aplicación se encuentran la estimación del riesgo, la teoría de colas y estimaciones de probabilidad en el estudio de casos. "
   ]
  },
  {
   "cell_type": "markdown",
   "metadata": {},
   "source": [
    "## Definición del problema"
   ]
  },
  {
   "cell_type": "markdown",
   "metadata": {},
   "source": [
    "En estadística, como se explica en la lección anterior, uno de los objetivos es estimar estadísticos a partir de una muestra o parámetros sobre toda la población, que describan las características de los datos y se pueda inferir conclusiones valiosas a partir de ellos. Existen distribuciones de datos teóricas para las cuales ha sido probada su generalización y cuya funcionalidad radica en que la estimación de parámetros o estadisticos se encuentra definida matematematicamente e igualmente la inferencia de los mismos. Generalmente, se busca ajustar los datos a una distribución teórica en la medida de lo posible.  \n",
    "\n",
    "En la siguiente gráfica se presenta un conjunto de datos (histograma) y dos posibles distribuciones teóricas de probabilidad. El problema consiste en determinar cual es la distribución teórica que mejor se ajuste a la distribución de una muestra de datos."
   ]
  },
  {
   "cell_type": "markdown",
   "metadata": {},
   "source": [
    "![assets/fit-dist.jpg](assets/fit-dist.jpg)"
   ]
  },
  {
   "cell_type": "markdown",
   "metadata": {},
   "source": [
    "De esta forma, el problema se puede dividir en tres pasos:\n",
    "\n",
    "* Escoger un conjunto de modelos teóricos posibles para los datos.\n",
    "* Estimar los parámetros para cada modelo teórico considerado.\n",
    "* Determinar cuál es el modelo más apropiado para los datos."
   ]
  },
  {
   "cell_type": "markdown",
   "metadata": {},
   "source": [
    "#### **Paso 1.**\n",
    "El primer paso se basa comparar las propiedades del histograma o la distribución empírica de los datos (media, varianza, asimetría y curtosis) versus las propiedades conocidas de las diferentes distribuciones teóricas de probabilidad. Por ejemplo, una distribución normal no sería adecuada si el histograma de los datos es asimétrico; y una distribución lognormal no sería adecuada si el histograma de los datos es simétrico. "
   ]
  },
  {
   "cell_type": "markdown",
   "metadata": {},
   "source": [
    "#### **Paso 2.**\n",
    "El segundo paso consiste en estimar los parámetros de cada distribución dados los datos. "
   ]
  },
  {
   "cell_type": "markdown",
   "metadata": {},
   "source": [
    "#### Estimación por mínimos cuadrados ordinarios\n",
    "\n",
    "Sea $\\{y_1, y_2, ..., y_n \\}$ la muestra $\\{x_1, x_2,...,x_n\\}$ ordenada de menor a mayor. La probabilidad empírica acumulada es:\n",
    "\n",
    "$$F_e(y_i) = \\frac{i}{n}$$\n",
    "\n",
    "En este caso se busca minimizar el error cuadrático medio entre la distribución teórica y la empírica variando los parámetros $\\theta_k$ de la distribución:\n",
    "\n",
    "$$\\text{SSE} = \\sum_{i=1}^n \\left[ F(y_i) - F_e (y_i) \\right]^2 $$"
   ]
  },
  {
   "cell_type": "markdown",
   "metadata": {},
   "source": [
    "#### Prueba de la bondad de ajuste\n",
    "\n",
    "En este caso se supone que los datos provienen de cierta distribución teórica. Las hipótesis son las siguientes:\n",
    "\n",
    "* $H_0$: La muestra proviene de la distribución teórica considerada.\n",
    "* $H_a$: La muestra no proviene de dicha distribución.\n",
    "\n",
    "Para la muestra aleatoria $\\{x_1, ..., x_n\\}$ se procede de la siguiente manera:\n",
    "\n",
    "* Se hace un histograma de $k$ intervalos y se calcula la cantidad $N_j$, con $j=1,...,k$, de valores $x_i$, $i=1,...,n$, en cada intervalo.\n",
    "\n",
    "* Se calcula la cantidad teórica de valores en cada intervalo como $n \\; p_j$, donde $p_j$ es la función de densidad de probabilidad del intervalo.\n",
    "\n",
    "* Se realiza la prueba con el estadístico:\n",
    "\n",
    "$$T = \\sum_{j=1}^k \\frac{(N_j - n \\; p_j)^2}{n \\; p_j} \\quad \\sim \\quad \\chi_{m-1}^2$$\n",
    "\n",
    "donde $m$ es la cantidad de parámetros estimados de la distribución."
   ]
  },
  {
   "cell_type": "markdown",
   "metadata": {},
   "source": [
    "#### Estimación por máxima verosimitud\n",
    "\n",
    "A continuación se presenta el caso de estimación por máxima verosimilitud; en este caso se responde la siguiente pregunta: ¿Cuáles son los parámetros de la distribucion considerada para que se maximice la probabilidad de que los datos provengan de ella?."
   ]
  },
  {
   "cell_type": "markdown",
   "metadata": {},
   "source": [
    "Si se tiene un conjunto de datos $x_1$, $x_2$, ..., $x_n$, la verosimilitud se define como:\n",
    "\n",
    "$$L(x_1, x_2, ..., x_n \\;|\\; \\theta_1, \\theta_2,...) = \\prod_{i=1}^n f(x_i \\;|\\; \\theta_1, \\theta_2, ...)$$\n",
    "\n",
    "donde $\\theta_1$, $\\theta_2$, ... son los parámetros desconocidos de la distribución."
   ]
  },
  {
   "cell_type": "markdown",
   "metadata": {},
   "source": [
    "Por facilidad, se acostumbra usar el $\\log$ de la verosimilitud:\n",
    "\n",
    "$$\\log \\; L(x_1, x_2, ..., x_n \\;|\\; \\theta_1, \\theta_2,...) = \\sum_{i=1}^n \\log \\; f(x_i \\;|\\; \\theta_1, \\theta_2, ...)$$"
   ]
  },
  {
   "cell_type": "markdown",
   "metadata": {},
   "source": [
    "El problema se reducen en encontrar el conjunto de parámetros $\\theta_1$, $\\theta_2$, ... que maximizan el $\\log \\; L$."
   ]
  },
  {
   "cell_type": "markdown",
   "metadata": {},
   "source": [
    "La función de densidad de probabilidad de la distribución normal es:\n",
    "\n",
    "$$f(x_i \\; | \\; \\mu, \\sigma^2) =\\frac{1}{\\sigma \\sqrt{2\\pi}} \\exp \\left\\{ -\\frac{1}{2} \\frac{(x_i-\\mu)^2}{\\sigma^2} \\right\\}$$\n",
    "\n",
    "donde los puntos $x_i$ son conocidos y los valores de $\\mu$ y $\\sigma^2$ son desconocidos. Consecuentemente,\n",
    "\n",
    "$$\\log \\; L(x_1, x_2, ..., x_n \\;|\\; \\mu, \\sigma^2) = \\sum_{i=1}^n \\log \\; f(x_i \\;|\\; \\mu, \\sigma^2)$$"
   ]
  },
  {
   "cell_type": "markdown",
   "metadata": {},
   "source": [
    "Con un poco de matemática es posible demostrar que la mejor estimación de los valores se obtiene con:\n",
    "\n",
    "$$\\mu = \\frac{1}{n} \\sum_{i=1}^n x_i$$ \n",
    "\n",
    "$$\\sigma^2 = \\sum_{i=1}^n \\frac{1}{n} (x_i - \\mu)^2$$"
   ]
  },
  {
   "cell_type": "markdown",
   "metadata": {},
   "source": [
    "El procedimiento es similar para otras distribuciones de probabilidad."
   ]
  },
  {
   "cell_type": "markdown",
   "metadata": {},
   "source": [
    "#### **Paso 3.**\n",
    "\n",
    "El tercer paso consiste en seleccionar la distribución que mejor se ajusta a los datos. Para ello, se utiliza el criterio de Akaike:\n",
    "\n",
    "$$\\text{AIC} = 2k - 2 \\log \\;L $$\n",
    "\n",
    "donde: $k$ es la cantidad de parámetros a estimar de la distribución y $\\log\\; L$ es el logaritmo natural de la verosimilitud. Se selecciona la distribución con el menor valor del criterio de Akaike."
   ]
  },
  {
   "cell_type": "markdown",
   "metadata": {},
   "source": [
    "**Actividad.---** Ejemplifique el procedimiento de ajuste para la muestra de datos presentada a continuación, si se consideran como distribuciones posibles la normal y la lognormal.\n",
    "\n",
    "    2.1354  1.4172  3.4028  0.1756  0.6383 \n",
    "    4.8346  3.1612  3.9591  1.3108  0.3740 \n",
    "    1.0227  1.0721  0.3059  3.1502  0.3482 \n",
    "    0.6974  7.0370  0.6394  0.1185  1.1985 \n",
    "    0.2976  0.7173  0.7754  0.4162  2.0598 \n",
    "    0.5444  4.4360  0.3669  1.0241  2.3115 \n",
    "    0.2302  1.8033  0.7637  0.7311  0.3841  \n",
    "    7.6613  6.1364  0.8387  0.8977  0.2882 \n",
    "    2.2553  0.6730  1.6091  0.5886  0.1958 \n",
    "    0.6136  0.9225  0.1875  1.2280  2.4042 "
   ]
  },
  {
   "cell_type": "markdown",
   "metadata": {},
   "source": [
    "En el siguiente código se resuelvens pasos para el ajuste en lenguaje R:"
   ]
  },
  {
   "cell_type": "code",
   "execution_count": 2,
   "metadata": {},
   "outputs": [],
   "source": [
    "import pandas as pd\n",
    "import numpy as np\n",
    "import matplotlib.pyplot as plt\n",
    "%matplotlib inline\n",
    "%load_ext rpy2.ipython"
   ]
  },
  {
   "cell_type": "code",
   "execution_count": 3,
   "metadata": {},
   "outputs": [],
   "source": [
    "%%R\n",
    "##\n",
    "## Se cargan los datos\n",
    "##\n",
    "data <- c(2.1354,1.4172,3.4028,0.1756,0.6383,4.8346,3.1612,3.9591,1.3108,0.3740,1.0227,1.0721,0.3059,3.1502,0.3482,\n",
    "  0.6974,5.0370,0.6394,0.1185,1.1985,0.2976,0.7173,0.7754,0.4162,2.0598,0.5444,4.4360,0.3669,1.0241,2.3115, \n",
    "  0.2302,1.8033,0.7637,0.7311,0.3841,6.6613,6.1364,0.8387,0.8977,0.2882,2.2553,0.6730,1.6091,0.5886,0.1958, \n",
    "  0.6136,0.9225,0.1875,1.2280,2.4042)"
   ]
  },
  {
   "cell_type": "code",
   "execution_count": 4,
   "metadata": {},
   "outputs": [
    {
     "name": "stdout",
     "output_type": "stream",
     "text": [
      "   Min. 1st Qu.  Median    Mean 3rd Qu.    Max. \n",
      " 0.1185  0.4482  0.8682  1.5472  2.1165  6.6613 \n"
     ]
    }
   ],
   "source": [
    "%%R\n",
    "summary(data)"
   ]
  },
  {
   "cell_type": "code",
   "execution_count": 5,
   "metadata": {},
   "outputs": [
    {
     "name": "stdout",
     "output_type": "stream",
     "text": [
      " num [1:50] 2.135 1.417 3.403 0.176 0.638 ...\n"
     ]
    }
   ],
   "source": [
    "%%R\n",
    "str(data)"
   ]
  },
  {
   "cell_type": "code",
   "execution_count": 6,
   "metadata": {},
   "outputs": [
    {
     "data": {
      "image/png": "[encoded data removed]"
     },
     "metadata": {},
     "output_type": "display_data"
    }
   ],
   "source": [
    "%%R\n",
    "##\n",
    "## Paso 1.\n",
    "## Los datos se comportan de manera decreciente, centrados en su mayoría en valores entre 0 y 1.\n",
    "##\n",
    "hist(data, ylim=c(0,30), col='lightgrey')"
   ]
  },
  {
   "cell_type": "code",
   "execution_count": 12,
   "metadata": {},
   "outputs": [
    {
     "name": "stdout",
     "output_type": "stream",
     "text": [
      "Media = 1.547208 \n",
      "Varianza = 2.59631099217959 \n",
      "Desviacion Estandar = 1.61130723084693 \n",
      "Curtosis = 1.64170395441649 \n",
      "Coeficiente de asimetria = 1.56590854849907 \n"
     ]
    }
   ],
   "source": [
    "%%R\n",
    "##\n",
    "## Medidas descriptivas de la distribución de los datos\n",
    "##\n",
    "library(e1071)\n",
    "cat(paste('Media =', mean(data), '\\n'))   ## media\n",
    "cat(paste('Varianza =', var(data), '\\n')) ## varianza\n",
    "cat(paste('Desviacion Estandar =', sd(data), '\\n')) ## varianza\n",
    "cat(paste('Curtosis =', kurtosis(data), '\\n'))   ## curtosis\n",
    "cat(paste('Coeficiente de asimetria =', skewness(data), '\\n'))   ## coeficiente de asimetría"
   ]
  },
  {
   "cell_type": "code",
   "execution_count": 13,
   "metadata": {},
   "outputs": [
    {
     "data": {
      "image/png": "[encoded data removed]"
     },
     "metadata": {},
     "output_type": "display_data"
    }
   ],
   "source": [
    "%%R\n",
    "##\n",
    "## Es posible generar historigramas que muestren la probabilidad \n",
    "## a continuación se ajusta la distribución empírica , normal y lognormal\n",
    "## observe que debido al comportamiento asimétrico de los datos, la lognormal se ajusta mejor que la normal\n",
    "##\n",
    "\n",
    "hist(data, probability = TRUE, xlim = c(0,8), ylim=c(0,0.7), main= \"Histograma de los datos\", col=\"lightgray\") ## histograma\n",
    "curve(dnorm(x,mean=mean(data),sd=sd(data)), add=TRUE, col=\"blue\", lwd=2)                                       ## Distribución normal\n",
    "curve(dlnorm(x,mean=mean(log(data)),sd=sd(log(data))), add=TRUE, col=\"red\", lwd=2)                             ## Distribución lognormal\n",
    "lines(density(data), col='black', lwd=2)                                                                       ## Distribucióno empírica\n",
    "\n",
    "legend(\"topright\",col=c(\"black\",\"blue\",\"red\"),\n",
    "       legend =c(\"Distribución empírica de probabilidad\",\"Distribución Normal de probabilidad\",\"Distribución Lognormal de probabilidad\"),\n",
    "       lwd=2, bty = \"n\")"
   ]
  },
  {
   "cell_type": "code",
   "execution_count": 14,
   "metadata": {},
   "outputs": [
    {
     "name": "stdout",
     "output_type": "stream",
     "text": [
      "        2.5 %   97.5 %\n",
      "mean 1.105073 1.989343\n",
      "sd   1.282476 1.907749\n"
     ]
    }
   ],
   "source": [
    "%%R\n",
    "##\n",
    "## Paso 2.\n",
    "## Se estiman los parámetros de acuerdo con la distirbución normal\n",
    "## la librería MASS con la función fitdistr retorna la estimación por máxima verosimilitud \n",
    "##\n",
    "library(MASS)\n",
    "aj_normal <- fitdistr(data,\"normal\")\n",
    "aj_normal\n",
    "confint(aj_normal)  ## Intervalos de confianza para los parámetros estimados"
   ]
  },
  {
   "cell_type": "code",
   "execution_count": 15,
   "metadata": {},
   "outputs": [
    {
     "name": "stdout",
     "output_type": "stream",
     "text": [
      "             2.5 %    97.5 %\n",
      "meanlog -0.3284121 0.2289943\n",
      "sdlog    0.8084197 1.2025655\n"
     ]
    }
   ],
   "source": [
    "%%R\n",
    "##\n",
    "## Máxima verosimilitud para la distribución lognormal\n",
    "##\n",
    "aj_lnormal <- fitdistr(data,\"lognormal\")\n",
    "aj_lnormal\n",
    "confint(aj_lnormal) ## Intervalos de confianza para los parámetros estimados"
   ]
  },
  {
   "cell_type": "code",
   "execution_count": 16,
   "metadata": {},
   "outputs": [
    {
     "name": "stdout",
     "output_type": "stream",
     "text": [
      "\n",
      "\tAnderson-Darling test of goodness-of-fit\n",
      "\tNull hypothesis: Normal distribution\n",
      "\twith parameters mean = 1.547208, sd = 1.59511277730949\n",
      "\n",
      "data:  data\n",
      "An = 3.9702, p-value = 0.009104\n",
      "\n"
     ]
    }
   ],
   "source": [
    "%%R\n",
    "##\n",
    "## Pruebas de bondad de ajuste para la distribución normal\n",
    "## con un  valor p de 0.009, se rechaza la hipótesis nula \n",
    "## no hay evidencia suficiente para afirmar que los datos siguen una distribución normal\n",
    "##\n",
    "library(goftest) \n",
    "ad.test(data,\"pnorm\",mean =aj_normal$estimate[1], sd= aj_normal$estimate[2])"
   ]
  },
  {
   "cell_type": "code",
   "execution_count": 17,
   "metadata": {},
   "outputs": [
    {
     "name": "stdout",
     "output_type": "stream",
     "text": [
      "\n",
      "\tAnderson-Darling test of goodness-of-fit\n",
      "\tNull hypothesis: log-normal distribution\n",
      "\n",
      "data:  data\n",
      "An = 0.27457, p-value = 0.9558\n",
      "\n"
     ]
    }
   ],
   "source": [
    "%%R\n",
    "##\n",
    "## Pruebas de bondad de ajuste para la distribución lognormal\n",
    "## con un  valor p de 0.9, no se rechaza la hipótesis nula\n",
    "## hay suficiente para afirmar que los datos siguen una distribución lognormal\n",
    "##\n",
    "ad.test(data,\"plnorm\",mean =aj_lnormal$estimate[1], sd= aj_lnormal$estimate[2])"
   ]
  },
  {
   "cell_type": "code",
   "execution_count": 19,
   "metadata": {},
   "outputs": [
    {
     "name": "stdout",
     "output_type": "stream",
     "text": [
      "AIC Normal = 192.588297371899 \n",
      "AIC Lognormal = 141.470722966947 \n"
     ]
    }
   ],
   "source": [
    "%%R\n",
    "##\n",
    "## Paso 3. \n",
    "## Se calcula el AIC para determinar la mejor distribución de probabilidad\n",
    "## Con un AIC de 141,5 aproximadamente, la distribución lognormal se considera la que mejor se ajusta\n",
    "##\n",
    "cat(paste('AIC Normal =',AIC(aj_normal),'\\n'))\n",
    "cat(paste('AIC Lognormal =',AIC(aj_lnormal),'\\n'))"
   ]
  }
 ],
 "metadata": {
  "kernel_info": {
   "name": "python3"
  },
  "kernelspec": {
   "display_name": "Python 3",
   "language": "python",
   "name": "python3"
  },
  "language_info": {
   "codemirror_mode": {
    "name": "ipython",
    "version": 3
   },
   "file_extension": ".py",
   "mimetype": "text/x-python",
   "name": "python",
   "nbconvert_exporter": "python",
   "pygments_lexer": "ipython3",
   "version": "3.6.8"
  },
  "nteract": {
   "version": "0.7.1"
  },
  "varInspector": {
   "cols": {
    "lenName": 16,
    "lenType": 16,
    "lenVar": 40
   },
   "kernels_config": {
    "python": {
     "delete_cmd_postfix": "",
     "delete_cmd_prefix": "del ",
     "library": "var_list.py",
     "varRefreshCmd": "print(var_dic_list())"
    },
    "r": {
     "delete_cmd_postfix": ") ",
     "delete_cmd_prefix": "rm(",
     "library": "var_list.r",
     "varRefreshCmd": "cat(var_dic_list()) "
    }
   },
   "types_to_exclude": [
    "module",
    "function",
    "builtin_function_or_method",
    "instance",
    "_Feature"
   ],
   "window_display": false
  }
 },
 "nbformat": 4,
 "nbformat_minor": 2
}
