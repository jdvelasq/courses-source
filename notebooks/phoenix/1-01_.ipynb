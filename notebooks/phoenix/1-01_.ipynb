{
 "cells": [
  {
   "cell_type": "markdown",
   "metadata": {},
   "source": [
    "Uso de SQL en Apache HBase usando Apache Phoenix\n",
    "===\n",
    "\n",
    "* Última modificación: Mayo 25, 2022"
   ]
  },
  {
   "cell_type": "markdown",
   "metadata": {},
   "source": [
    "Introducción\n",
    "---"
   ]
  },
  {
   "cell_type": "markdown",
   "metadata": {},
   "source": [
    "* Es una capa SQL sobre HBase."
   ]
  },
  {
   "cell_type": "markdown",
   "metadata": {},
   "source": [
    "* Compila las consultas SQL en scans de HBase."
   ]
  },
  {
   "cell_type": "markdown",
   "metadata": {},
   "source": [
    "* Orquesta la ejecución de los scans en paralelo."
   ]
  },
  {
   "cell_type": "markdown",
   "metadata": {},
   "source": [
    "* Aplica optimizaciones."
   ]
  },
  {
   "cell_type": "markdown",
   "metadata": {},
   "source": [
    "Creación del archivo SQL\n",
    "---"
   ]
  },
  {
   "cell_type": "code",
   "execution_count": 1,
   "metadata": {},
   "outputs": [
    {
     "name": "stdout",
     "output_type": "stream",
     "text": [
      "Overwriting /tmp/us_population.sql\n"
     ]
    }
   ],
   "source": [
    "%%writefile /tmp/us_population.sql\n",
    "CREATE TABLE IF NOT EXISTS us_population (\n",
    "      state CHAR(2) NOT NULL,\n",
    "      city VARCHAR NOT NULL,\n",
    "      population BIGINT\n",
    "      CONSTRAINT my_pk PRIMARY KEY (state, city)\n",
    ");"
   ]
  },
  {
   "cell_type": "markdown",
   "metadata": {},
   "source": [
    "Creación del archivo de datos\n",
    "--"
   ]
  },
  {
   "cell_type": "code",
   "execution_count": 2,
   "metadata": {},
   "outputs": [
    {
     "name": "stdout",
     "output_type": "stream",
     "text": [
      "Overwriting /tmp/us_population.csv\n"
     ]
    }
   ],
   "source": [
    "%%writefile /tmp/us_population.csv\n",
    "NY,New York,8143197\n",
    "CA,Los Angeles,3844829\n",
    "IL,Chicago,2842518\n",
    "TX,Houston,2016582\n",
    "PA,Philadelphia,1463281\n",
    "AZ,Phoenix,1461575\n",
    "TX,San Antonio,1256509\n",
    "CA,San Diego,1255540\n",
    "TX,Dallas,1213825\n",
    "CA,San Jose,912332"
   ]
  },
  {
   "cell_type": "markdown",
   "metadata": {},
   "source": [
    "Creación y llenado de la tabla\n",
    "---"
   ]
  },
  {
   "cell_type": "code",
   "execution_count": 3,
   "metadata": {},
   "outputs": [
    {
     "name": "stdout",
     "output_type": "stream",
     "text": [
      "SLF4J: Class path contains multiple SLF4J bindings.\n",
      "SLF4J: Found binding in [jar:file:/opt/phoenix/phoenix-client-hbase-2.3-5.1.2.jar!/org/slf4j/impl/StaticLoggerBinder.class]\n",
      "SLF4J: Found binding in [jar:file:/opt/hadoop/share/hadoop/common/lib/slf4j-log4j12-1.7.25.jar!/org/slf4j/impl/StaticLoggerBinder.class]\n",
      "SLF4J: See http://www.slf4j.org/codes.html#multiple_bindings for an explanation.\n",
      "SLF4J: Actual binding is of type [org.slf4j.impl.Log4jLoggerFactory]\n",
      "22/05/27 18:46:09 WARN util.NativeCodeLoader: Unable to load native-hadoop library for your platform... using builtin-java classes where applicable\n",
      "no rows upserted\n",
      "Time: 0.012 sec(s)\n",
      "\n",
      "csv columns from database.\n",
      "CSV Upsert complete. 10 rows upserted\n",
      "Time: 0.054 sec(s)\n",
      "\n"
     ]
    }
   ],
   "source": [
    "!psql.py localhost /tmp/us_population.sql /tmp/us_population.csv"
   ]
  },
  {
   "cell_type": "markdown",
   "metadata": {},
   "source": [
    "Cell magic `%%sqlline`\n",
    "---"
   ]
  },
  {
   "cell_type": "code",
   "execution_count": 4,
   "metadata": {},
   "outputs": [],
   "source": [
    "from IPython.core.magic import Magics, cell_magic, line_magic, magics_class\n",
    "from pexpect import spawn\n",
    "\n",
    "TIMEOUT = 60\n",
    "PROG = \"sqlline.py localhost\"\n",
    "PROMPT = [\"0: jdbc:phoenix:localhost> \", \"0: jdbc:phoenix:localhost> \", \". . . . . . . . semicolon> \"]\n",
    "QUIT = \"!quit\"\n",
    "\n",
    "\n",
    "@magics_class\n",
    "class Magic(Magics):\n",
    "    def __init__(self, shell):\n",
    "        super().__init__(shell)\n",
    "        self.app = spawn(PROG, timeout=60)\n",
    "        self.app.expect(PROMPT)\n",
    "\n",
    "    @cell_magic\n",
    "    def sqlline(self, line, cell):\n",
    "        cell_lines = [cell_line.strip() for cell_line in cell.split(\"\\n\")]\n",
    "        cell_lines = [cell_line for cell_line in cell_lines if cell_line != \"\"]\n",
    "        for cell_line in cell_lines:\n",
    "            self.app.sendline(cell_line)\n",
    "            self.app.expect(PROMPT, timeout=TIMEOUT)\n",
    "            output = self.app.before.decode()\n",
    "            output = output.replace(\"\\r\\n\", \"\\n\")\n",
    "            output = output.split(\"\\n\")\n",
    "            output = [output_line.strip() for output_line in output]\n",
    "            for output_line in output:\n",
    "                if output_line not in cell_lines:\n",
    "                    print(output_line)\n",
    "        return None\n",
    "\n",
    "    @line_magic\n",
    "    def quit(self, line):\n",
    "        self.app.sendline(QUIT)\n",
    "\n",
    "\n",
    "def load_ipython_extension(ip):\n",
    "    ip.register_magics(Magic(ip))\n",
    "\n",
    "\n",
    "load_ipython_extension(ip=get_ipython())"
   ]
  },
  {
   "cell_type": "markdown",
   "metadata": {},
   "source": [
    "```\n",
    "sqlline.py localhost\n",
    "```"
   ]
  },
  {
   "cell_type": "code",
   "execution_count": 5,
   "metadata": {},
   "outputs": [
    {
     "name": "stdout",
     "output_type": "stream",
     "text": [
      "\n",
      "\n",
      "count(city)\u001b[6D\u001b[6C AS \"City Count\",\n",
      "\n",
      "sum(population)\u001b[12D\u001b[12C AS \"Population Sum\"\n",
      "\n",
      "\n",
      "\n",
      "ORDER BY sum(population)\u001b[12D\u001b[12C DESC;\n",
      "\u001b[?1l\u001b>\u001b[?1000l\u001b[?2004l\u001b[32m+-------+------------+----------------+\u001b[0m\n",
      "\u001b[32m| \u001b[39;1mState\u001b[32;22m | \u001b[39;1mCity Count\u001b[32;22m | \u001b[39;1mPopulation Sum\u001b[32;22m |\u001b[0m\n",
      "\u001b[32m+-------+------------+----------------+\u001b[0m\n",
      "\u001b[32m| \u001b[0mNY   \u001b[32m | \u001b[0m1         \u001b[32m | \u001b[0m8143197       \u001b[32m |\u001b[0m\n",
      "\u001b[32m| \u001b[0mCA   \u001b[32m | \u001b[0m3         \u001b[32m | \u001b[0m6012701       \u001b[32m |\u001b[0m\n",
      "\u001b[32m| \u001b[0mTX   \u001b[32m | \u001b[0m3         \u001b[32m | \u001b[0m4486916       \u001b[32m |\u001b[0m\n",
      "\u001b[32m| \u001b[0mIL   \u001b[32m | \u001b[0m1         \u001b[32m | \u001b[0m2842518       \u001b[32m |\u001b[0m\n",
      "\u001b[32m| \u001b[0mPA   \u001b[32m | \u001b[0m1         \u001b[32m | \u001b[0m1463281       \u001b[32m |\u001b[0m\n",
      "\u001b[32m| \u001b[0mAZ   \u001b[32m | \u001b[0m1         \u001b[32m | \u001b[0m1461575       \u001b[32m |\u001b[0m\n",
      "\u001b[32m+-------+------------+----------------+\u001b[0m\n",
      "6 rows selected (0.062 seconds)\n",
      "\u001b[?1h\u001b=\u001b[?2004h\n"
     ]
    }
   ],
   "source": [
    "%%sqlline\n",
    "SELECT \n",
    "    state AS \"State\",\n",
    "    count(city) AS \"City Count\",\n",
    "    sum(population) AS \"Population Sum\"\n",
    "FROM us_population\n",
    "GROUP BY state\n",
    "ORDER BY sum(population) DESC;"
   ]
  },
  {
   "cell_type": "code",
   "execution_count": 6,
   "metadata": {},
   "outputs": [],
   "source": [
    "%quit"
   ]
  }
 ],
 "metadata": {
  "kernelspec": {
   "display_name": "Python 3 (ipykernel)",
   "language": "python",
   "name": "python3"
  },
  "language_info": {
   "codemirror_mode": {
    "name": "ipython",
    "version": 3
   },
   "file_extension": ".py",
   "mimetype": "text/x-python",
   "name": "python",
   "nbconvert_exporter": "python",
   "pygments_lexer": "ipython3",
   "version": "3.8.10"
  },
  "toc": {
   "base_numbering": 1,
   "nav_menu": {},
   "number_sections": false,
   "sideBar": true,
   "skip_h1_title": false,
   "title_cell": "Table of Contents",
   "title_sidebar": "Contents",
   "toc_cell": false,
   "toc_position": {},
   "toc_section_display": true,
   "toc_window_display": true
  }
 },
 "nbformat": 4,
 "nbformat_minor": 4
}
