{
 "cells": [
  {
   "cell_type": "markdown",
   "id": "73df3b3a-5992-41b7-9f34-23c47c60d596",
   "metadata": {},
   "source": [
    "Python Driver para Apache Phoenix (pendiente)\n",
    "===\n",
    "\n",
    "* Última modificación: Mayo 25, 2022"
   ]
  },
  {
   "cell_type": "code",
   "execution_count": null,
   "id": "6ac1e265-003b-4987-a4aa-3a67a5fa36bd",
   "metadata": {},
   "outputs": [],
   "source": [
    "import phoenixdb\n",
    "import phoenixdb.cursor\n",
    "\n",
    "database_url = \"http://localhost:8765\"\n",
    "conn = phoenixdb.connect(database_url, autocommit=True)\n",
    "\n",
    "cursor = conn.cursor()\n",
    "cursor.execute(\"CREATE TABLE users (id INTEGER PRIMARY KEY, username VARCHAR)\")\n",
    "cursor.execute(\"UPSERT INTO users VALUES (?, ?)\", (1, \"admin\"))\n",
    "cursor.execute(\"SELECT * FROM users\")\n",
    "print(cursor.fetchall())\n",
    "\n",
    "cursor = conn.cursor(cursor_factory=phoenixdb.cursor.DictCursor)\n",
    "cursor.execute(\"SELECT * FROM users WHERE id=1\")\n",
    "print(cursor.fetchone()[\"USERNAME\"])"
   ]
  }
 ],
 "metadata": {
  "kernelspec": {
   "display_name": "Python 3 (ipykernel)",
   "language": "python",
   "name": "python3"
  },
  "language_info": {
   "codemirror_mode": {
    "name": "ipython",
    "version": 3
   },
   "file_extension": ".py",
   "mimetype": "text/x-python",
   "name": "python",
   "nbconvert_exporter": "python",
   "pygments_lexer": "ipython3",
   "version": "3.8.10"
  }
 },
 "nbformat": 4,
 "nbformat_minor": 5
}
