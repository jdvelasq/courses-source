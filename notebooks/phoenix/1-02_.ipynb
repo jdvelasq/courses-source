{
 "cells": [
  {
   "cell_type": "markdown",
   "id": "73df3b3a-5992-41b7-9f34-23c47c60d596",
   "metadata": {},
   "source": [
    "Python Driver para Apache Phoenix (pendiente)\n",
    "===\n",
    "\n",
    "* Última modificación: Mayo 25, 2022"
   ]
  },
  {
   "cell_type": "code",
   "execution_count": 7,
   "id": "6ac1e265-003b-4987-a4aa-3a67a5fa36bd",
   "metadata": {},
   "outputs": [
    {
     "name": "stdout",
     "output_type": "stream",
     "text": [
      "Overwriting demo_phoenix.py\n"
     ]
    }
   ],
   "source": [
    "%%writefile demo_phoenix.py \n",
    "\n",
    "\n",
    "import phoenixdb\n",
    "import phoenixdb.cursor\n",
    "\n",
    "database_url = \"http://0.0.0.0:8765\"\n",
    "conn = phoenixdb.connect(database_url, autocommit=True)\n",
    "\n",
    "cursor = conn.cursor()\n",
    "cursor.execute(\"CREATE TABLE users (id INTEGER PRIMARY KEY, username VARCHAR)\")\n",
    "cursor.execute(\"UPSERT INTO users VALUES (?, ?)\", (1, \"admin\"))\n",
    "cursor.execute(\"SELECT * FROM users\")\n",
    "print(cursor.fetchall())\n",
    "\n",
    "cursor = conn.cursor(cursor_factory=phoenixdb.cursor.DictCursor)\n",
    "cursor.execute(\"SELECT * FROM users WHERE id=1\")\n",
    "print(cursor.fetchone()[\"USERNAME\"])"
   ]
  },
  {
   "cell_type": "code",
   "execution_count": 8,
   "id": "f487bc08-45dc-473a-9846-4dbc74bd1cb2",
   "metadata": {},
   "outputs": [
    {
     "name": "stdout",
     "output_type": "stream",
     "text": [
      "Traceback (most recent call last):\n",
      "  File \"demo_phoenix.py\", line 3, in <module>\n",
      "    import phoenixdb\n",
      "  File \"/usr/local/lib/python3.8/dist-packages/phoenixdb/__init__.py\", line 19, in <module>\n",
      "    from phoenixdb import errors, types\n",
      "  File \"/usr/local/lib/python3.8/dist-packages/phoenixdb/types.py\", line 21, in <module>\n",
      "    from phoenixdb.avatica.proto import common_pb2\n",
      "  File \"/usr/local/lib/python3.8/dist-packages/phoenixdb/avatica/__init__.py\", line 16, in <module>\n",
      "    from .client import AvaticaClient  # noqa: F401\n",
      "  File \"/usr/local/lib/python3.8/dist-packages/phoenixdb/avatica/client.py\", line 27, in <module>\n",
      "    from phoenixdb.avatica.proto import common_pb2, requests_pb2, responses_pb2\n",
      "  File \"/usr/local/lib/python3.8/dist-packages/phoenixdb/avatica/proto/common_pb2.py\", line 47, in <module>\n",
      "    _descriptor.EnumValueDescriptor(\n",
      "  File \"/usr/local/lib/python3.8/dist-packages/google/protobuf/descriptor.py\", line 755, in __new__\n",
      "    _message.Message._CheckCalledFromGeneratedFile()\n",
      "TypeError: Descriptors cannot not be created directly.\n",
      "If this call came from a _pb2.py file, your generated code is out of date and must be regenerated with protoc >= 3.19.0.\n",
      "If you cannot immediately regenerate your protos, some other possible workarounds are:\n",
      " 1. Downgrade the protobuf package to 3.20.x or lower.\n",
      " 2. Set PROTOCOL_BUFFERS_PYTHON_IMPLEMENTATION=python (but this will use pure-Python parsing and will be much slower).\n",
      "\n",
      "More information: https://developers.google.com/protocol-buffers/docs/news/2022-05-06#python-updates\n"
     ]
    }
   ],
   "source": [
    "!python3 demo_phoenix.py "
   ]
  }
 ],
 "metadata": {
  "kernelspec": {
   "display_name": "Python 3 (ipykernel)",
   "language": "python",
   "name": "python3"
  },
  "language_info": {
   "codemirror_mode": {
    "name": "ipython",
    "version": 3
   },
   "file_extension": ".py",
   "mimetype": "text/x-python",
   "name": "python",
   "nbconvert_exporter": "python",
   "pygments_lexer": "ipython3",
   "version": "3.8.10"
  }
 },
 "nbformat": 4,
 "nbformat_minor": 5
}
