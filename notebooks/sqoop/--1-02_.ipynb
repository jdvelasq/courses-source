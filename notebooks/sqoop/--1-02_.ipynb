{
 "cells": [
  {
   "cell_type": "markdown",
   "id": "816db6f4-6121-45c5-aace-71dfb313994d",
   "metadata": {
    "tags": []
   },
   "source": [
    "MariaDB\n",
    "===\n",
    "\n",
    "* Última modificación: Mayo 19, 2022"
   ]
  },
  {
   "cell_type": "code",
   "execution_count": 1,
   "id": "1d3c355b-7424-411f-af7e-89df9b8631d9",
   "metadata": {},
   "outputs": [],
   "source": [
    "filenames = [\n",
    "    \"drivers.csv\",\n",
    "    \"timesheet.csv\",\n",
    "    \"truck_event_text_partition.csv\",\n",
    "]\n",
    "\n",
    "url = \"https://raw.githubusercontent.com/jdvelasq/datalabs/master/datasets/drivers/\"\n",
    "\n",
    "for filename in filenames:\n",
    "    !wget --quiet {url + filename} -P /tmp/"
   ]
  },
  {
   "cell_type": "code",
   "execution_count": null,
   "id": "67e47ad3-5954-4ebe-a808-4f3e5a6c5ac8",
   "metadata": {},
   "outputs": [],
   "source": [
    "import mariadb\n",
    "\n",
    "conn = mariadb.connect(\n",
    "    host='localhost',\n",
    "    user='root',\n",
    "    passwd='',\n",
    "    db='',\n",
    ")\n",
    "cur = conn.cursor()\n",
    "\n",
    "# cur.execute(\"GRANT ALL PRIVILEGES ON *.* TO 'root'@'localhost' IDENTIFIED BY '%%' WITH GRANT OPTION;\")\n",
    "# cur.execute(\"FLUSH PRIVILEGES;\")\n",
    "\n",
    "cur.execute(\"CREATE DATABASE IF NOT EXISTS demo;\")\n",
    "cur.execute(\"USE demo;\")\n",
    "cur.execute(\"DROP TABLE IF EXISTS drivers;\")\n",
    "cur.execute(\n",
    "    \"\"\"\n",
    "    CREATE TABLE drivers (\n",
    "        driverId       INT,\n",
    "        name           VARCHAR(20),\n",
    "        ssn            VARCHAR(20),\n",
    "        location       VARCHAR(40),\n",
    "        certified      VARCHAR(20),\n",
    "        wage_plan      VARCHAR(20)\n",
    "    );\n",
    "    \"\"\"\n",
    ")\n",
    "conn.commit()\n",
    "\n",
    "with open(\"/tmp/drivers.csv\", \"rt\") as f:\n",
    "    data = f.readlines()\n",
    "\n",
    "data = [line.replace('\\n', '') for line in data]\n",
    "data = [line.split(\",\") for line in data]\n",
    "data = [tuple(line) for line in data]\n",
    "data = data[1:]\n",
    "\n",
    "cur.executemany(\"INSERT INTO drivers VALUES (?,?,?,?,?,?)\", data)\n",
    "conn.commit()\n",
    "conn.close()"
   ]
  }
 ],
 "metadata": {
  "kernelspec": {
   "display_name": "Python 3 (ipykernel)",
   "language": "python",
   "name": "python3"
  },
  "language_info": {
   "codemirror_mode": {
    "name": "ipython",
    "version": 3
   },
   "file_extension": ".py",
   "mimetype": "text/x-python",
   "name": "python",
   "nbconvert_exporter": "python",
   "pygments_lexer": "ipython3",
   "version": "3.8.10"
  }
 },
 "nbformat": 4,
 "nbformat_minor": 5
}
