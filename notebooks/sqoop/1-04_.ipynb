{
 "cells": [
  {
   "cell_type": "markdown",
   "id": "6498bd89-7146-455d-b4a6-b88a7e422c50",
   "metadata": {
    "tags": []
   },
   "source": [
    "Sqoop list-tables\n",
    "===\n",
    "\n",
    "* Última modificación: Mayo 19, 2022"
   ]
  },
  {
   "cell_type": "markdown",
   "id": "5df4c96e-a612-431d-9d8e-e9b6991c4e72",
   "metadata": {},
   "source": [
    "Preparación de la base de datos\n",
    "---"
   ]
  },
  {
   "cell_type": "code",
   "execution_count": 1,
   "id": "65e8ea8b-8ede-4c63-9dca-54d6fd0b559c",
   "metadata": {},
   "outputs": [],
   "source": [
    "import sqlite3\n",
    "\n",
    "conn = sqlite3.connect(\"sample.db\")\n",
    "cur = conn.cursor()\n",
    "\n",
    "conn.executescript(\n",
    "    \"\"\"\n",
    "    DROP TABLE IF EXISTS drivers;\n",
    "    DROP TABLE IF EXISTS truck_events;\n",
    "\n",
    "    CREATE TABLE drivers (\n",
    "        driverId       INT,\n",
    "        name           STRING,\n",
    "        ssn            STRING,\n",
    "        location       STRING,\n",
    "        certified      STRING,\n",
    "        wage_plan      STRING\n",
    "    );\n",
    "    \n",
    "    CREATE TABLE truck_events (\n",
    "        driverId       INT,\n",
    "        truckId        INT,\n",
    "        eventTime      STRING,\n",
    "        eventType      STRING,\n",
    "        longitude      DOUBLE,\n",
    "        latitude       DOUBLE,\n",
    "        eventKey       STRING,\n",
    "        correlationId  STRING,\n",
    "        driverName     STRING,\n",
    "        routeId        STRING,\n",
    "        routeName      STRING,\n",
    "        eventDate      STRING\n",
    "    );    \n",
    "    \n",
    "    CREATE TABLE timesheet (\n",
    "        driverId       INT, \n",
    "        week           INT, \n",
    "        hours_logged   INT, \n",
    "        miles_logged   INT \n",
    "    );\n",
    "        \n",
    "    \"\"\"\n",
    ")\n",
    "conn.commit()\n",
    "conn.close()"
   ]
  },
  {
   "cell_type": "code",
   "execution_count": 2,
   "id": "f55285a9-b23c-4350-9fa7-7a4f4ecbb054",
   "metadata": {},
   "outputs": [
    {
     "name": "stdout",
     "output_type": "stream",
     "text": [
      "drivers\n",
      "truck_events\n",
      "timesheet\n"
     ]
    }
   ],
   "source": [
    "!sqlite3 sample.db \"SELECT name FROM sqlite_master WHERE type='table';\""
   ]
  },
  {
   "cell_type": "markdown",
   "id": "7d13153e-e63d-46b8-8740-b0ea470a956d",
   "metadata": {},
   "source": [
    "list-tables\n",
    "--"
   ]
  },
  {
   "cell_type": "code",
   "execution_count": 3,
   "id": "384ff429-bf0b-4ae2-9635-ca51c7a7e4a6",
   "metadata": {},
   "outputs": [
    {
     "name": "stdout",
     "output_type": "stream",
     "text": [
      "Writing list-tables.sh\n"
     ]
    }
   ],
   "source": [
    "%%writefile list-tables.sh\n",
    "sqoop list-tables \\\n",
    "    --connect jdbc:sqlite:sample.db \\\n",
    "    --driver org.sqlite.JDBC"
   ]
  },
  {
   "cell_type": "code",
   "execution_count": 4,
   "id": "990ddf4e-dfa2-471d-84a9-e08fe4757aac",
   "metadata": {},
   "outputs": [
    {
     "name": "stdout",
     "output_type": "stream",
     "text": [
      "Warning: /opt/hbase does not exist! HBase imports will fail.\n",
      "Please set $HBASE_HOME to the root of your HBase installation.\n",
      "Warning: /opt/hbase does not exist! HCatalog jobs will fail.\n",
      "Please set $HCAT_HOME to the root of your HCatalog installation.\n",
      "Warning: /opt/accumulo does not exist! Accumulo imports will fail.\n",
      "Please set $ACCUMULO_HOME to the root of your Accumulo installation.\n",
      "Warning: /opt/zookeeper does not exist! Accumulo imports will fail.\n",
      "Please set $ZOOKEEPER_HOME to the root of your Zookeeper installation.\n",
      "drivers\n",
      "timesheet\n",
      "truck_events\n"
     ]
    }
   ],
   "source": [
    "!bash list-tables.sh"
   ]
  },
  {
   "cell_type": "code",
   "execution_count": 5,
   "id": "63a81843-0c7e-4c6c-9d68-1c601b670494",
   "metadata": {},
   "outputs": [
    {
     "name": "stdout",
     "output_type": "stream",
     "text": [
      "rm: cannot remove '*.java': No such file or directory\n"
     ]
    }
   ],
   "source": [
    "!rm *.db *.java *.sh"
   ]
  }
 ],
 "metadata": {
  "kernelspec": {
   "display_name": "Python 3 (ipykernel)",
   "language": "python",
   "name": "python3"
  },
  "language_info": {
   "codemirror_mode": {
    "name": "ipython",
    "version": 3
   },
   "file_extension": ".py",
   "mimetype": "text/x-python",
   "name": "python",
   "nbconvert_exporter": "python",
   "pygments_lexer": "ipython3",
   "version": "3.8.10"
  }
 },
 "nbformat": 4,
 "nbformat_minor": 5
}
