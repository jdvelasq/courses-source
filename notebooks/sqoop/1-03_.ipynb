{
 "cells": [
  {
   "cell_type": "markdown",
   "id": "6498bd89-7146-455d-b4a6-b88a7e422c50",
   "metadata": {
    "tags": []
   },
   "source": [
    "Sqoop query\n",
    "===\n",
    "\n",
    "* Última modificación: Mayo 19, 2022"
   ]
  },
  {
   "cell_type": "markdown",
   "id": "90bdb06a-94a7-47e5-9dbb-1d151e74b93c",
   "metadata": {},
   "source": [
    "Descarga de datos\n",
    "---"
   ]
  },
  {
   "cell_type": "code",
   "execution_count": 1,
   "id": "e8f4a355-9c9e-4dc2-afb3-fa6d5cfcbc3f",
   "metadata": {},
   "outputs": [],
   "source": [
    "file_name = \"drivers.csv\"\n",
    "url = \"https://raw.githubusercontent.com/jdvelasq/datalabs/master/datasets/drivers/\"\n",
    "!wget --quiet {url + file_name} -P /tmp/"
   ]
  },
  {
   "cell_type": "markdown",
   "id": "5df4c96e-a612-431d-9d8e-e9b6991c4e72",
   "metadata": {},
   "source": [
    "Preparación de la base de datos\n",
    "---"
   ]
  },
  {
   "cell_type": "code",
   "execution_count": 2,
   "id": "65e8ea8b-8ede-4c63-9dca-54d6fd0b559c",
   "metadata": {},
   "outputs": [],
   "source": [
    "import sqlite3\n",
    "\n",
    "conn = sqlite3.connect(\"sample.db\")\n",
    "cur = conn.cursor()\n",
    "\n",
    "conn.executescript(\n",
    "    \"\"\"\n",
    "    DROP TABLE IF EXISTS drivers;\n",
    "\n",
    "    CREATE TABLE drivers (\n",
    "        driverId       INT,\n",
    "        name           STRING,\n",
    "        ssn            STRING,\n",
    "        location       STRING,\n",
    "        certified      STRING,\n",
    "        wage_plan      STRING\n",
    "    );\n",
    "    \"\"\"\n",
    ")\n",
    "conn.commit()\n",
    "\n",
    "with open(\"/tmp/drivers.csv\", \"rt\") as f:\n",
    "    data = f.readlines()\n",
    "\n",
    "data = [line.replace('\\n', '') for line in data]\n",
    "data = [line.split(\",\") for line in data]\n",
    "data = [tuple(line) for line in data]\n",
    "data = data[1:]\n",
    "\n",
    "cur.executemany(\"INSERT INTO drivers VALUES (?,?,?,?,?,?)\", data)\n",
    "conn.commit()\n",
    "conn.close()"
   ]
  },
  {
   "cell_type": "code",
   "execution_count": 3,
   "id": "0cb81e86-144c-4346-87fe-018972bad6c5",
   "metadata": {},
   "outputs": [
    {
     "name": "stdout",
     "output_type": "stream",
     "text": [
      "10|George Vetticaden|621011971|244-4532 Nulla Rd.|N|miles\n",
      "11|Jamie Engesser|262112338|366-4125 Ac Street|N|miles\n",
      "12|Paul Coddin|198041975|Ap #622-957 Risus. Street|Y|hours\n",
      "13|Joe Niemiec|139907145|2071 Hendrerit. Ave|Y|hours\n",
      "14|Adis Cesir|820812209|Ap #810-1228 In St.|Y|hours\n",
      "15|Rohit Bakshi|239005227|648-5681 Dui- Rd.|Y|hours\n",
      "16|Tom McCuch|363303105|P.O. Box 313- 962 Parturient Rd.|Y|hours\n",
      "17|Eric Mizell|123808238|P.O. Box 579- 2191 Gravida. Street|Y|hours\n",
      "18|Grant Liu|171010151|Ap #928-3159 Vestibulum Av.|Y|hours\n",
      "19|Ajay Singh|160005158|592-9430 Nonummy Avenue|Y|hours\n"
     ]
    }
   ],
   "source": [
    "!sqlite3 sample.db \"select * from drivers\" | head"
   ]
  },
  {
   "cell_type": "markdown",
   "id": "7d13153e-e63d-46b8-8740-b0ea470a956d",
   "metadata": {},
   "source": [
    "Query\n",
    "--"
   ]
  },
  {
   "cell_type": "code",
   "execution_count": 4,
   "id": "9ece7d69-6ae4-47db-9601-8f3069973a80",
   "metadata": {},
   "outputs": [
    {
     "name": "stdout",
     "output_type": "stream",
     "text": [
      "Writing query.sh\n"
     ]
    }
   ],
   "source": [
    "%%writefile query.sh\n",
    "sqoop eval \\\n",
    "    --connect jdbc:sqlite:sample.db \\\n",
    "    --driver org.sqlite.JDBC \\\n",
    "    --query \"SELECT * FROM drivers LIMIT 3\""
   ]
  },
  {
   "cell_type": "code",
   "execution_count": 5,
   "id": "4d635299-6186-40a1-be53-386eecc0865c",
   "metadata": {},
   "outputs": [
    {
     "name": "stdout",
     "output_type": "stream",
     "text": [
      "Warning: /opt/hbase does not exist! HBase imports will fail.\n",
      "Please set $HBASE_HOME to the root of your HBase installation.\n",
      "Warning: /opt/hbase does not exist! HCatalog jobs will fail.\n",
      "Please set $HCAT_HOME to the root of your HCatalog installation.\n",
      "Warning: /opt/accumulo does not exist! Accumulo imports will fail.\n",
      "Please set $ACCUMULO_HOME to the root of your Accumulo installation.\n",
      "Warning: /opt/zookeeper does not exist! Accumulo imports will fail.\n",
      "Please set $ZOOKEEPER_HOME to the root of your Zookeeper installation.\n",
      "-------------------------------------------------------------------------------------------------------------------------------------------\n",
      "| driverId             | name                 | ssn                  | location             | certified            | wage_plan            | \n",
      "-------------------------------------------------------------------------------------------------------------------------------------------\n",
      "| 10                   | George Vetticaden    | 621011971            | 244-4532 Nulla Rd.   | N                    | miles                | \n",
      "| 11                   | Jamie Engesser       | 262112338            | 366-4125 Ac Street   | N                    | miles                | \n",
      "| 12                   | Paul Coddin          | 198041975            | Ap #622-957 Risus. Street | Y                    | hours                | \n",
      "-------------------------------------------------------------------------------------------------------------------------------------------\n"
     ]
    }
   ],
   "source": [
    "!bash query.sh"
   ]
  },
  {
   "cell_type": "code",
   "execution_count": 6,
   "id": "fe755876-f086-47d6-95e9-37387807245f",
   "metadata": {},
   "outputs": [],
   "source": [
    "!rm *.db *.sh *.java"
   ]
  }
 ],
 "metadata": {
  "kernelspec": {
   "display_name": "Python 3 (ipykernel)",
   "language": "python",
   "name": "python3"
  },
  "language_info": {
   "codemirror_mode": {
    "name": "ipython",
    "version": 3
   },
   "file_extension": ".py",
   "mimetype": "text/x-python",
   "name": "python",
   "nbconvert_exporter": "python",
   "pygments_lexer": "ipython3",
   "version": "3.8.10"
  }
 },
 "nbformat": 4,
 "nbformat_minor": 5
}
