{
 "cells": [
  {
   "cell_type": "markdown",
   "id": "816db6f4-6121-45c5-aace-71dfb313994d",
   "metadata": {
    "tags": []
   },
   "source": [
    "Sqoop export (migración del HDFS hacia la BD)\n",
    "===\n",
    "\n",
    "* Última modificación: Mayo 19, 2022"
   ]
  },
  {
   "cell_type": "markdown",
   "id": "e049cf86-fb2f-4f4e-a442-ad2a4a65a088",
   "metadata": {},
   "source": [
    "Descarga de datos\n",
    "---"
   ]
  },
  {
   "cell_type": "code",
   "execution_count": 1,
   "id": "d1fc4bef-00fb-4327-b576-9e7a10d07385",
   "metadata": {},
   "outputs": [],
   "source": [
    "file_name = \"drivers.csv\"\n",
    "url = \"https://raw.githubusercontent.com/jdvelasq/datalabs/master/datasets/drivers/\"\n",
    "!wget --quiet {url + file_name} -P /tmp/"
   ]
  },
  {
   "cell_type": "markdown",
   "id": "e3cb4fa3-64f2-4dcc-98f0-f0f8ad64b79e",
   "metadata": {
    "tags": []
   },
   "source": [
    "Creación de la base de datos\n",
    "---"
   ]
  },
  {
   "cell_type": "code",
   "execution_count": 2,
   "id": "31115735-0c15-4dea-aaf5-ee3f2f257eb7",
   "metadata": {},
   "outputs": [],
   "source": [
    "import sqlite3\n",
    "\n",
    "conn = sqlite3.connect(\"sample.db\")\n",
    "cur = conn.cursor()\n",
    "\n",
    "conn.executescript(\n",
    "    \"\"\"\n",
    "    DROP TABLE IF EXISTS drivers;\n",
    "\n",
    "    CREATE TABLE drivers (\n",
    "        driverId       INT,\n",
    "        name           STRING,\n",
    "        ssn            STRING,\n",
    "        location       STRING,\n",
    "        certified      STRING,\n",
    "        wage_plan      STRING\n",
    "    );\n",
    "    \"\"\"\n",
    ")\n",
    "conn.commit()\n",
    "conn.close()"
   ]
  },
  {
   "cell_type": "code",
   "execution_count": 3,
   "id": "0cb81e86-144c-4346-87fe-018972bad6c5",
   "metadata": {},
   "outputs": [
    {
     "name": "stdout",
     "output_type": "stream",
     "text": [
      "drivers\n"
     ]
    }
   ],
   "source": [
    "!sqlite3 sample.db \"SELECT name FROM sqlite_master WHERE type='table';\""
   ]
  },
  {
   "cell_type": "markdown",
   "id": "b8324683-dd32-48c2-a4a0-351711eafcf2",
   "metadata": {},
   "source": [
    "Copia de los datos al HDFS\n",
    "---"
   ]
  },
  {
   "cell_type": "code",
   "execution_count": 4,
   "id": "49948b90-df85-4b76-9536-04cd40dd6159",
   "metadata": {},
   "outputs": [
    {
     "name": "stdout",
     "output_type": "stream",
     "text": [
      "10,George Vetticaden,621011971,244-4532 Nulla Rd.,N,miles\n",
      "11,Jamie Engesser,262112338,366-4125 Ac Street,N,miles\n",
      "12,Paul Coddin,198041975,Ap #622-957 Risus. Street,Y,hours\n",
      "13,Joe Niemiec,139907145,2071 Hendrerit. Ave,Y,hours\n",
      "14,Adis Cesir,820812209,Ap #810-1228 In St.,Y,hours\n",
      "15,Rohit Bakshi,239005227,648-5681 Dui- Rd.,Y,hours\n",
      "16,Tom McCuch,363303105,P.O. Box 313- 962 Parturient Rd.,Y,hours\n",
      "17,Eric Mizell,123808238,P.O. Box 579- 2191 Gravida. Street,Y,hours\n",
      "18,Grant Liu,171010151,Ap #928-3159 Vestibulum Av.,Y,hours\n",
      "19,Ajay Singh,160005158,592-9430 Nonummy Avenue,Y,hours\n"
     ]
    }
   ],
   "source": [
    "!tail +2 /tmp/drivers.csv > /tmp/drivers1.csv\n",
    "!head /tmp/drivers1.csv"
   ]
  },
  {
   "cell_type": "code",
   "execution_count": 6,
   "id": "310e111a-f286-47cf-9192-a8da5919b8eb",
   "metadata": {},
   "outputs": [
    {
     "name": "stdout",
     "output_type": "stream",
     "text": [
      "copyFromLocal: `/tmp/drivers.csv': File exists\n",
      "Box 213- 8948 Nec Ave,Y,hours\n",
      "27,Mark Lochbihler,392603159,8355 Ipsum St.,Y,hours\n",
      "28,Olivier Renault,959908181,P.O. Box 243- 6509 Erat. Avenue,Y,hours\n",
      "29,Teddy Choi,185502192,P.O. Box 106- 7003 Amet Rd.,Y,hours\n",
      "30,Dan Rice,282307061,Ap #881-9267 Mollis Avenue,Y,hours\n",
      "31,Rommel Garcia,858912101,P.O. Box 945- 6015 Sociis St.,Y,hours\n",
      "32,Ryan Templeton,290304287,765-6599 Egestas. Av.,Y,hours\n",
      "33,Sridhara Sabbella,967409015,Ap #477-2507 Sagittis Avenue,Y,hours\n",
      "34,Frank Romano,391407216,Ap #753-6814 Quis Ave,Y,hours\n",
      "35,Emil Siemes,971401151,321-2976 Felis Rd.,Y,hours\n",
      "36,Andrew Grande,245303216,Ap #685-9598 Egestas Rd.,Y,hours\n",
      "37,Wes Floyd,190504074,P.O. Box 269- 9611 Nulla Street,Y,hours\n",
      "38,Scott Shaw,386411175,276 Lobortis Road,Y,hours\n",
      "39,David Kaiser,967706052,9185 At Street,Y,hours\n",
      "40,Nicolas Maillard,208510217,1027 Quis Rd.,Y,hours\n",
      "41,Greg Phillips,308103116,P.O. Box 847- 5961 Arcu. Road,Y,hours\n",
      "42,Randy Gelhausen,853302254,145-4200 In- Avenue,Y,hours\n",
      "43,Dave Patton,977706052,3028 A- St.,Y,hours"
     ]
    }
   ],
   "source": [
    "!hdfs dfs -copyFromLocal /tmp/drivers.csv /tmp/\n",
    "!hdfs dfs -tail /tmp/drivers.csv"
   ]
  },
  {
   "cell_type": "markdown",
   "id": "f84a485d-487a-48d1-b52e-b42eb57d4a71",
   "metadata": {},
   "source": [
    "Exportación de una tabla\n",
    "--"
   ]
  },
  {
   "cell_type": "code",
   "execution_count": 9,
   "id": "d05f95c7-8a5c-4ee9-8494-d85e841145bc",
   "metadata": {},
   "outputs": [
    {
     "name": "stdout",
     "output_type": "stream",
     "text": [
      "Overwriting /tmp/export.sh\n"
     ]
    }
   ],
   "source": [
    "%%writefile /tmp/export.sh\n",
    "\n",
    "sqoop export \\\n",
    "    --connect jdbc:sqlite:sample.db \\\n",
    "    --driver org.sqlite.JDBC \\\n",
    "    --table drivers \\\n",
    "    --export-dir /tmp/drivers.csv"
   ]
  },
  {
   "cell_type": "code",
   "execution_count": 10,
   "id": "014124e4-f341-45db-97f9-86536ffd1ff5",
   "metadata": {},
   "outputs": [
    {
     "name": "stdout",
     "output_type": "stream",
     "text": [
      "Warning: /opt/hbase does not exist! HBase imports will fail.\n",
      "Please set $HBASE_HOME to the root of your HBase installation.\n",
      "Warning: /opt/hbase does not exist! HCatalog jobs will fail.\n",
      "Please set $HCAT_HOME to the root of your HCatalog installation.\n",
      "Warning: /opt/accumulo does not exist! Accumulo imports will fail.\n",
      "Please set $ACCUMULO_HOME to the root of your Accumulo installation.\n",
      "Warning: /opt/zookeeper does not exist! Accumulo imports will fail.\n",
      "Please set $ZOOKEEPER_HOME to the root of your Zookeeper installation.\n",
      "Note: /tmp/sqoop-root/compile/f95caf311d0e135863a5009cee7c9368/drivers.java uses or overrides a deprecated API.\n",
      "Note: Recompile with -Xlint:deprecation for details.\n",
      "22/05/19 21:07:42 ERROR mapreduce.ExportJobBase: Export job failed!\n",
      "22/05/19 21:07:42 ERROR tool.ExportTool: Error during export: \n",
      "Export job failed!\n",
      "\tat org.apache.sqoop.mapreduce.ExportJobBase.runExport(ExportJobBase.java:445)\n",
      "\tat org.apache.sqoop.manager.SqlManager.exportTable(SqlManager.java:931)\n",
      "\tat org.apache.sqoop.tool.ExportTool.exportTable(ExportTool.java:80)\n",
      "\tat org.apache.sqoop.tool.ExportTool.run(ExportTool.java:99)\n",
      "\tat org.apache.sqoop.Sqoop.run(Sqoop.java:147)\n",
      "\tat org.apache.hadoop.util.ToolRunner.run(ToolRunner.java:76)\n",
      "\tat org.apache.sqoop.Sqoop.runSqoop(Sqoop.java:183)\n",
      "\tat org.apache.sqoop.Sqoop.runTool(Sqoop.java:234)\n",
      "\tat org.apache.sqoop.Sqoop.runTool(Sqoop.java:243)\n",
      "\tat org.apache.sqoop.Sqoop.main(Sqoop.java:252)\n"
     ]
    }
   ],
   "source": [
    "!bash /tmp/export.sh"
   ]
  },
  {
   "cell_type": "code",
   "execution_count": 11,
   "id": "ee768769-4336-434d-920d-5a15fae0657e",
   "metadata": {},
   "outputs": [],
   "source": [
    "!sqlite3 sample.db \"select * from drivers\" | head"
   ]
  },
  {
   "cell_type": "code",
   "execution_count": null,
   "id": "5c9d3d15-b522-4c48-97fb-3b4d0c83b7d4",
   "metadata": {},
   "outputs": [],
   "source": [
    "!rm sample.db"
   ]
  }
 ],
 "metadata": {
  "kernelspec": {
   "display_name": "Python 3 (ipykernel)",
   "language": "python",
   "name": "python3"
  },
  "language_info": {
   "codemirror_mode": {
    "name": "ipython",
    "version": 3
   },
   "file_extension": ".py",
   "mimetype": "text/x-python",
   "name": "python",
   "nbconvert_exporter": "python",
   "pygments_lexer": "ipython3",
   "version": "3.8.10"
  }
 },
 "nbformat": 4,
 "nbformat_minor": 5
}
