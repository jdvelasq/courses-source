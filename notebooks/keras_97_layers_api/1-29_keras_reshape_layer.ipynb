{
 "cells": [
  {
   "cell_type": "markdown",
   "id": "2ab3ea35-4000-495d-ac92-c7a4f0a33959",
   "metadata": {
    "tags": []
   },
   "source": [
    "Capa Reshape --- 0:00 min\n",
    "===\n",
    "\n",
    "* Última modificación: Marzo 7, 2022 | YouTube\n",
    "\n",
    "* Adaptado de: https://keras.io/api/layers/reshaping_layers/reshape/"
   ]
  },
  {
   "cell_type": "markdown",
   "id": "a87bd244-0907-414a-85c8-ce9bbfe144de",
   "metadata": {},
   "source": [
    "Capa que reforma el tamaño de las entradas."
   ]
  },
  {
   "cell_type": "markdown",
   "id": "bc4745c3-50de-4b88-b63f-298cf931bdbb",
   "metadata": {
    "tags": []
   },
   "source": [
    "Importación de librerías\n",
    "---"
   ]
  },
  {
   "cell_type": "code",
   "execution_count": 1,
   "id": "091ebc98-245a-41d1-abde-aee83fc2a55f",
   "metadata": {},
   "outputs": [
    {
     "data": {
      "text/plain": [
       "'2.8.0'"
      ]
     },
     "execution_count": 1,
     "metadata": {},
     "output_type": "execute_result"
    }
   ],
   "source": [
    "import os\n",
    "\n",
    "os.environ[\"TF_CPP_MIN_LOG_LEVEL\"] = \"2\"\n",
    "\n",
    "import tensorflow as tf\n",
    "\n",
    "tf.__version__"
   ]
  },
  {
   "cell_type": "markdown",
   "id": "add266e1-ea88-4694-90bf-002c7649e566",
   "metadata": {},
   "source": [
    "Ejemplos de uso\n",
    "---"
   ]
  },
  {
   "cell_type": "code",
   "execution_count": 2,
   "id": "deedae24-d409-4666-a10f-6992517f413d",
   "metadata": {},
   "outputs": [
    {
     "data": {
      "text/plain": [
       "(None, 3, 4)"
      ]
     },
     "execution_count": 2,
     "metadata": {},
     "output_type": "execute_result"
    }
   ],
   "source": [
    "#\n",
    "# Uso como primera capa de un modelo secuencial\n",
    "#\n",
    "model = tf.keras.Sequential()\n",
    "model.add(\n",
    "    tf.keras.layers.Reshape(\n",
    "        (3, 4),\n",
    "        input_shape=(12,),\n",
    "    ),\n",
    ")\n",
    "model.output_shape"
   ]
  },
  {
   "cell_type": "code",
   "execution_count": 3,
   "id": "3a8aa83a-6ece-40a8-8b97-831db884f6c5",
   "metadata": {},
   "outputs": [
    {
     "data": {
      "text/plain": [
       "(None, 6, 2)"
      ]
     },
     "execution_count": 3,
     "metadata": {},
     "output_type": "execute_result"
    }
   ],
   "source": [
    "#\n",
    "# Como una capa intermedia en un modelo\n",
    "#\n",
    "model.add(\n",
    "    tf.keras.layers.Reshape(\n",
    "        (6, 2),\n",
    "    ),\n",
    ")\n",
    "model.output_shape"
   ]
  },
  {
   "cell_type": "code",
   "execution_count": 4,
   "id": "c7cb8c7a-e09a-4fc8-b40b-f14ea0070018",
   "metadata": {},
   "outputs": [
    {
     "data": {
      "text/plain": [
       "(None, 3, 2, 2)"
      ]
     },
     "execution_count": 4,
     "metadata": {},
     "output_type": "execute_result"
    }
   ],
   "source": [
    "#\n",
    "# Soporta inferencia del tamaño usando -1 como dimension.\n",
    "#\n",
    "model.add(\n",
    "    tf.keras.layers.Reshape(\n",
    "        (-1, 2, 2),\n",
    "    ),\n",
    ")\n",
    "model.output_shape"
   ]
  }
 ],
 "metadata": {
  "kernelspec": {
   "display_name": "Python 3 (ipykernel)",
   "language": "python",
   "name": "python3"
  },
  "language_info": {
   "codemirror_mode": {
    "name": "ipython",
    "version": 3
   },
   "file_extension": ".py",
   "mimetype": "text/x-python",
   "name": "python",
   "nbconvert_exporter": "python",
   "pygments_lexer": "ipython3",
   "version": "3.9.10"
  }
 },
 "nbformat": 4,
 "nbformat_minor": 5
}
