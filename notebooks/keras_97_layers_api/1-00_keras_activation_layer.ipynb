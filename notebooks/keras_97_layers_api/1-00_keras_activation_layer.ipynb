{
 "cells": [
  {
   "cell_type": "markdown",
   "id": "16bce2ad-5aee-4bd8-a7a0-0020c525163c",
   "metadata": {
    "tags": []
   },
   "source": [
    "Capa Activation --- 0:00 min\n",
    "===\n",
    "\n",
    "* Última modificación: Marzo 7, 2022 | YouTube\n",
    "\n",
    "* Adaptado de: https://keras.io/api/layers/core_layers/activation/"
   ]
  },
  {
   "cell_type": "markdown",
   "id": "7b3bf592-2dff-4f14-aebb-18d82b3ebe0e",
   "metadata": {
    "tags": []
   },
   "source": [
    "Importación de librerías\n",
    "---"
   ]
  },
  {
   "cell_type": "code",
   "execution_count": 1,
   "id": "31a2fea9-c4a0-4931-ae62-f5719deb534a",
   "metadata": {},
   "outputs": [
    {
     "data": {
      "text/plain": [
       "'2.8.0'"
      ]
     },
     "execution_count": 1,
     "metadata": {},
     "output_type": "execute_result"
    }
   ],
   "source": [
    "import os\n",
    "\n",
    "os.environ[\"TF_CPP_MIN_LOG_LEVEL\"] = \"2\"\n",
    "\n",
    "import tensorflow as tf\n",
    "\n",
    "tf.__version__"
   ]
  },
  {
   "cell_type": "markdown",
   "id": "efaf8952-3c07-4669-b508-8d37620676f2",
   "metadata": {},
   "source": [
    "Ejemplos\n",
    "---"
   ]
  },
  {
   "cell_type": "code",
   "execution_count": 2,
   "id": "c6d2641f-25c3-44f0-89de-0e81568a6cd8",
   "metadata": {},
   "outputs": [
    {
     "data": {
      "text/plain": [
       "[0.0, 0.0, 0.0, 2.0]"
      ]
     },
     "execution_count": 2,
     "metadata": {},
     "output_type": "execute_result"
    }
   ],
   "source": [
    "#\n",
    "# Aplica la función de activación a la entrada\n",
    "#\n",
    "layer = tf.keras.layers.Activation(\"relu\")\n",
    "output = layer([-3.0, -1.0, 0.0, 2.0])\n",
    "list(output.numpy())"
   ]
  },
  {
   "cell_type": "code",
   "execution_count": 3,
   "id": "11e4c416-63bd-416c-a9f9-78443c0be01c",
   "metadata": {},
   "outputs": [
    {
     "data": {
      "text/plain": [
       "[0.0, 0.0, 0.0, 2.0]"
      ]
     },
     "execution_count": 3,
     "metadata": {},
     "output_type": "execute_result"
    }
   ],
   "source": [
    "layer = tf.keras.layers.Activation(tf.nn.relu)\n",
    "output = layer([-3.0, -1.0, 0.0, 2.0])\n",
    "list(output.numpy())"
   ]
  }
 ],
 "metadata": {
  "kernelspec": {
   "display_name": "Python 3 (ipykernel)",
   "language": "python",
   "name": "python3"
  },
  "language_info": {
   "codemirror_mode": {
    "name": "ipython",
    "version": 3
   },
   "file_extension": ".py",
   "mimetype": "text/x-python",
   "name": "python",
   "nbconvert_exporter": "python",
   "pygments_lexer": "ipython3",
   "version": "3.9.10"
  }
 },
 "nbformat": 4,
 "nbformat_minor": 5
}
