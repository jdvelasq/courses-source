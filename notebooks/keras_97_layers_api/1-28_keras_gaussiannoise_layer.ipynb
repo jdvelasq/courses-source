{
 "cells": [
  {
   "cell_type": "markdown",
   "id": "fb2514b7-f5d2-4aeb-ba33-6c483f5c0e50",
   "metadata": {
    "tags": []
   },
   "source": [
    "Capa GaussianNoise --- 0:00 min\n",
    "===\n",
    "\n",
    "* Última modificación: Marzo 7, 2022 | YouTube\n",
    "\n",
    "* Adaptado de: https://keras.io/api/layers/regularization_layers/gaussian_noise/"
   ]
  },
  {
   "cell_type": "markdown",
   "id": "3125bbaa-e709-4c4f-9691-9f2d8ecf7182",
   "metadata": {},
   "source": [
    "Suma ruido gaussiano centrado en cero. Esta técnica es util para mitigar el sobre-ajuste, ya que equivale a un aumento de datos aleaatorio. Funciona como si la entrada fuese un proceso corrupto."
   ]
  },
  {
   "cell_type": "markdown",
   "id": "61d5931a-4928-4868-afb6-466d0d7e09ff",
   "metadata": {
    "tags": []
   },
   "source": [
    "Importación de librerías\n",
    "---"
   ]
  },
  {
   "cell_type": "code",
   "execution_count": 1,
   "id": "5cde7b6b-1c63-4a57-86dd-7db5dcbb35d4",
   "metadata": {},
   "outputs": [
    {
     "data": {
      "text/plain": [
       "'2.8.0'"
      ]
     },
     "execution_count": 1,
     "metadata": {},
     "output_type": "execute_result"
    }
   ],
   "source": [
    "import os\n",
    "\n",
    "os.environ[\"TF_CPP_MIN_LOG_LEVEL\"] = \"2\"\n",
    "\n",
    "import tensorflow as tf\n",
    "\n",
    "tf.__version__"
   ]
  },
  {
   "cell_type": "markdown",
   "id": "95ba6d23-f107-470f-8b0a-392b722048c8",
   "metadata": {},
   "source": [
    "Ejemplos de uso\n",
    "---"
   ]
  },
  {
   "cell_type": "code",
   "execution_count": 2,
   "id": "0e1c62e8-a988-444b-98a7-16a7eb8cf962",
   "metadata": {},
   "outputs": [
    {
     "data": {
      "text/plain": [
       "array([[0., 1.],\n",
       "       [2., 3.],\n",
       "       [4., 5.],\n",
       "       [6., 7.],\n",
       "       [8., 9.]], dtype=float32)"
      ]
     },
     "execution_count": 2,
     "metadata": {},
     "output_type": "execute_result"
    }
   ],
   "source": [
    "import numpy as np\n",
    "\n",
    "layer = tf.keras.layers.GaussianNoise(\n",
    "    stddev=0.2,\n",
    "    seed=12345,\n",
    "    input_shape=(2,),\n",
    ")\n",
    "data = np.arange(10).reshape(5, 2).astype(np.float32)\n",
    "data"
   ]
  },
  {
   "cell_type": "code",
   "execution_count": 3,
   "id": "522bcda4-a902-429c-b663-5c505f4c730e",
   "metadata": {},
   "outputs": [
    {
     "data": {
      "text/plain": [
       "<tf.Tensor: shape=(5, 2), dtype=float32, numpy=\n",
       "array([[0.17684934, 1.015686  ],\n",
       "       [2.0272799 , 2.8778086 ],\n",
       "       [4.3705134 , 4.769865  ],\n",
       "       [5.8765774 , 6.7445674 ],\n",
       "       [8.396073  , 9.275732  ]], dtype=float32)>"
      ]
     },
     "execution_count": 3,
     "metadata": {},
     "output_type": "execute_result"
    }
   ],
   "source": [
    "layer(\n",
    "    data,\n",
    "    training=True,\n",
    ")"
   ]
  },
  {
   "cell_type": "code",
   "execution_count": 4,
   "id": "53bf304e-e186-4e23-b1cc-0033b11c1b26",
   "metadata": {},
   "outputs": [
    {
     "data": {
      "text/plain": [
       "<tf.Tensor: shape=(5, 2), dtype=float32, numpy=\n",
       "array([[0.10960626, 1.167422  ],\n",
       "       [2.1752663 , 3.0928245 ],\n",
       "       [4.075233  , 4.98608   ],\n",
       "       [5.7705874 , 6.81417   ],\n",
       "       [7.8808827 , 9.3056965 ]], dtype=float32)>"
      ]
     },
     "execution_count": 4,
     "metadata": {},
     "output_type": "execute_result"
    }
   ],
   "source": [
    "layer(\n",
    "    data,\n",
    "    training=True,\n",
    ")"
   ]
  }
 ],
 "metadata": {
  "kernelspec": {
   "display_name": "Python 3 (ipykernel)",
   "language": "python",
   "name": "python3"
  },
  "language_info": {
   "codemirror_mode": {
    "name": "ipython",
    "version": 3
   },
   "file_extension": ".py",
   "mimetype": "text/x-python",
   "name": "python",
   "nbconvert_exporter": "python",
   "pygments_lexer": "ipython3",
   "version": "3.9.10"
  }
 },
 "nbformat": 4,
 "nbformat_minor": 5
}
