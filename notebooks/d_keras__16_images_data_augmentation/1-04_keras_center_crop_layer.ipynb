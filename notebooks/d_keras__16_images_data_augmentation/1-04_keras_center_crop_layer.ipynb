{
 "cells": [
  {
   "cell_type": "markdown",
   "id": "e7430557-b99f-4870-b079-e97326acb135",
   "metadata": {
    "tags": []
   },
   "source": [
    "Capa CenterCrop --- 0:00 min\n",
    "===\n",
    "\n",
    "* Última modificación: Marzo 7, 2022 | YouTube\n",
    "\n",
    "* Adaptado de: https://keras.io/api/layers/preprocessing_layers/image_preprocessing/center_crop/"
   ]
  },
  {
   "cell_type": "markdown",
   "id": "b4cddf65-ce9b-4dbd-b986-eb63a571f1a6",
   "metadata": {
    "tags": []
   },
   "source": [
    "Importación de librerías\n",
    "---"
   ]
  },
  {
   "cell_type": "code",
   "execution_count": 1,
   "id": "5b16f8c5-4f05-457f-95bc-0d773d79d8df",
   "metadata": {},
   "outputs": [
    {
     "data": {
      "text/plain": [
       "'2.8.0'"
      ]
     },
     "execution_count": 1,
     "metadata": {},
     "output_type": "execute_result"
    }
   ],
   "source": [
    "import os\n",
    "\n",
    "os.environ[\"TF_CPP_MIN_LOG_LEVEL\"] = \"2\"\n",
    "\n",
    "import tensorflow as tf\n",
    "\n",
    "tf.__version__"
   ]
  },
  {
   "cell_type": "markdown",
   "id": "d222c70a-069b-4c9e-ade6-2317a63393b1",
   "metadata": {},
   "source": [
    "Ejemplos de uso\n",
    "---"
   ]
  },
  {
   "cell_type": "markdown",
   "id": "d6e246f3-e4ee-48a7-a66a-73a4ee9f9ded",
   "metadata": {},
   "source": [
    "Recorta las imágenes."
   ]
  },
  {
   "cell_type": "code",
   "execution_count": null,
   "id": "d7cdebd3-5ac5-43f4-beba-7d9cab4a2088",
   "metadata": {},
   "outputs": [],
   "source": []
  }
 ],
 "metadata": {
  "kernelspec": {
   "display_name": "Python 3 (ipykernel)",
   "language": "python",
   "name": "python3"
  },
  "language_info": {
   "codemirror_mode": {
    "name": "ipython",
    "version": 3
   },
   "file_extension": ".py",
   "mimetype": "text/x-python",
   "name": "python",
   "nbconvert_exporter": "python",
   "pygments_lexer": "ipython3",
   "version": "3.9.10"
  }
 },
 "nbformat": 4,
 "nbformat_minor": 5
}
