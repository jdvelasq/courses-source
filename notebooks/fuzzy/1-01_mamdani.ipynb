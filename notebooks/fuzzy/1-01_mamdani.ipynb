{
 "cells": [
  {
   "cell_type": "markdown",
   "id": "4116c532-9b46-4c25-b6b8-fe0689458b5b",
   "metadata": {},
   "source": [
    "Sistema de inferencia difusa de Mamdani\n",
    "===\n",
    "\n",
    "* 30 min | Última modificación: Junio 1, 2021 | [YouTube]"
   ]
  },
  {
   "cell_type": "code",
   "execution_count": 1,
   "id": "fda07d0f-3958-4ea3-9474-34a43adc175e",
   "metadata": {},
   "outputs": [],
   "source": [
    "import warnings\n",
    "\n",
    "warnings.filterwarnings(\"ignore\")"
   ]
  },
  {
   "cell_type": "markdown",
   "id": "7d9081c3-b212-4cba-8473-9863447b37ff",
   "metadata": {},
   "source": [
    "## Función de pertenencia y conjuntos difusos"
   ]
  },
  {
   "cell_type": "markdown",
   "id": "43845e99-570b-4b15-b54e-1db0fffea028",
   "metadata": {},
   "source": [
    "* **Noción de dicotomia**. El conjunto $A$ definido sobre un universo de discurso $X$ tiene una función característica o de pertenencia definida como:\n",
    "\n",
    "$$\n",
    "\\mu_A(x) = \n",
    "\\begin{cases}\n",
    "1, & \\text{if } x \\in A \\\\\n",
    "0, & \\text{if } x \\notin A \\\\\n",
    "\\end{cases}\n",
    "$$"
   ]
  },
  {
   "cell_type": "markdown",
   "id": "c2028bbd-e6be-466f-9407-af459ad82bf6",
   "metadata": {},
   "source": [
    "* **Función de pertenencia**: $\\mu_A(x) \\to \\{0,1\\}$ indica si el elemento $x$ pertenece al conjunto $A$; es la modelación numérica del concepto."
   ]
  },
  {
   "cell_type": "markdown",
   "id": "9927f367-41e3-4931-80fe-e325d8480f27",
   "metadata": {},
   "source": [
    "* **Conjunto difuso**: Se obtiene al relajar la condición anterior, tal que $\\mu_A(x) \\to [0, 1]$, indicando condición parcial de pertenencia. El $0$ indica absoluta certeza de que no pertenece, y el $1$ absoluta certeza de que si pertenece."
   ]
  },
  {
   "cell_type": "markdown",
   "id": "629475eb-3d91-4c21-8678-aca722273938",
   "metadata": {},
   "source": [
    "## Variable difusa"
   ]
  },
  {
   "cell_type": "markdown",
   "id": "fafc60b3-1ee9-4e72-9020-af9408c93f45",
   "metadata": {},
   "source": [
    "Es una variable que esta definida sobre un universo $X$ y tiene varios conjuntos borrosos que representan los conceptos asociados"
   ]
  },
  {
   "cell_type": "code",
   "execution_count": 2,
   "id": "52452142-8136-415e-b802-8ee145e3a637",
   "metadata": {},
   "outputs": [],
   "source": [
    "import matplotlib.pyplot as plt\n",
    "import numpy as np\n",
    "\n",
    "\n",
    "class FuzzyVariable:\n",
    "    def __init__(self, name, universe, sets):\n",
    "        #\n",
    "        # Una variable difusa tiene definidos un nombre y \n",
    "        # un universo X. Y varios conjuntos difusos que \n",
    "        # son caracterizados por sus funciones de pertenencia\n",
    "        #\n",
    "        self.name = name\n",
    "        self.universe = universe\n",
    "        self.sets = sets\n",
    "\n",
    "    def plot(self, figsize=(10, 3)):\n",
    "        #\n",
    "        # Grafíca la función de pertenencia de cada conjunto \n",
    "        # difuso definido para la variable\n",
    "        #\n",
    "        plt.figure(figsize=figsize)\n",
    "        for k in self.sets.keys():\n",
    "            plt.plot(self.universe, self.sets[k], \"o-\", label=k)\n",
    "        plt.legend()\n",
    "        plt.title(self.name)\n",
    "        plt.ylim(-0.05, 1.05)\n",
    "\n",
    "    def membership(self, value, fuzzyset):\n",
    "        #\n",
    "        # Computa el valor de la función de pertenencia\n",
    "        # para x=value y el correspondiente conjunto difuso\n",
    "        #\n",
    "        return np.interp(\n",
    "            x=value,\n",
    "            xp=self.universe,\n",
    "            fp=self.sets[fuzzyset],\n",
    "        )\n",
    "    \n",
    "    def aggregate(self, operator=\"max\"):\n",
    "        #\n",
    "        # Reduce los conjuntos que tiene definida la \n",
    "        # variable a un solo conjunto borroso usando el\n",
    "        # operador indicado\n",
    "        #\n",
    "        \n",
    "        aggregation = None\n",
    "        \n",
    "        for i_fuzzyset, fuzzyset in enumerate(self.sets.keys()):\n",
    "            \n",
    "            if i_fuzzyset == 0:\n",
    "                aggregation = self.sets[fuzzyset]\n",
    "            else:\n",
    "                aggregation = np.maximum(aggregation, self.sets[fuzzyset])\n",
    "                \n",
    "        self.sets = {'aggregation': aggregation}\n",
    "                \n",
    "    def defuzzification(self, fuzzyset=\"aggregation\", method='cog'):\n",
    "        \n",
    "        if method == 'cog':\n",
    "            #\n",
    "            # cog: center of gravity\n",
    "            #\n",
    "            num = sum([u * v  for u, v in zip(self.universe, self.sets[fuzzyset])])\n",
    "            den = sum([u for u in self.sets[fuzzyset]])\n",
    "            return num / den\n",
    "                \n",
    "                "
   ]
  },
  {
   "cell_type": "code",
   "execution_count": 3,
   "id": "d0b87f10-2777-43f0-ab20-9c516cf20dd3",
   "metadata": {},
   "outputs": [
    {
     "data": {
      "image/png": "[encoded data removed]",
      "text/plain": [
       "<Figure size 720x216 with 1 Axes>"
      ]
     },
     "metadata": {
      "needs_background": "light"
     },
     "output_type": "display_data"
    }
   ],
   "source": [
    "#\n",
    "# En el siguiente código se define la variable difusa score\n",
    "# la cual tiene asociadas las etiquetas linguisticas High y\n",
    "# Low\n",
    "#\n",
    "score = FuzzyVariable(\n",
    "    #\n",
    "    # Nombre de la variable\n",
    "    #\n",
    "    name=\"score\",\n",
    "    \n",
    "    #\n",
    "    # Universo de valores sobre los que estan definidos los\n",
    "    # conjuntos borrosos\n",
    "    #\n",
    "    universe=np.arange(start=150, stop=201, step=5),\n",
    "    \n",
    "    #\n",
    "    # Se define cada conjunto borroso y los correspondientes\n",
    "    # valores de la función de pertenencia para cada punto\n",
    "    # del universo en que esta definida la variable\n",
    "    #\n",
    "    sets={\n",
    "        \"High\": [0., 0., 0., 0., 0., 0., 0.2, 0.7, 1., 1., 1.],\n",
    "        \"Low\": [1., 1., 0.8, 0.5, 0.2, 0., 0., 0., 0., 0., 0.],\n",
    "    },\n",
    ")\n",
    "\n",
    "#\n",
    "# Gráfica de la variable.\n",
    "#\n",
    "score.plot()"
   ]
  },
  {
   "cell_type": "code",
   "execution_count": 4,
   "id": "1c9d17cb-e62f-4674-8595-933d58b59710",
   "metadata": {},
   "outputs": [
    {
     "data": {
      "image/png": "[encoded data removed]",
      "text/plain": [
       "<Figure size 720x216 with 1 Axes>"
      ]
     },
     "metadata": {
      "needs_background": "light"
     },
     "output_type": "display_data"
    }
   ],
   "source": [
    "#\n",
    "# Variable ratio\n",
    "#\n",
    "ratio = FuzzyVariable(\n",
    "    name=\"ratio\",\n",
    "    universe=[0.1, 0.3, 0.40, 0.41, 0.42, 0.43, 0.44, 0.45, 0.5, 0.7, 1.0],\n",
    "    sets={\n",
    "        \"Goodr\": [1, 1, 0.7, 0.3, 0, 0, 0, 0, 0, 0, 0],\n",
    "        \"Badr\": [0, 0, 0, 0, 0, 0, 0, 0.3, 0.7, 1.0, 1.0],\n",
    "    },\n",
    ")\n",
    "\n",
    "ratio.plot()"
   ]
  },
  {
   "cell_type": "code",
   "execution_count": 5,
   "id": "e8af6dd4-3035-44ad-9086-26de48a7f43a",
   "metadata": {},
   "outputs": [
    {
     "data": {
      "image/png": "[encoded data removed]",
      "text/plain": [
       "<Figure size 720x216 with 1 Axes>"
      ]
     },
     "metadata": {
      "needs_background": "light"
     },
     "output_type": "display_data"
    }
   ],
   "source": [
    "#\n",
    "# Variable credit\n",
    "#\n",
    "credit = FuzzyVariable(\n",
    "    name=\"credit\",\n",
    "    universe=list(range(11)),\n",
    "    sets={\n",
    "        \"Goodc\": [1, 1, 1, 0.7, 0.3, 0, 0, 0, 0, 0, 0],\n",
    "        \"Badc\": [0, 0, 0, 0, 0, 0, 0.3, 0.7, 1, 1, 1],\n",
    "    },\n",
    ")\n",
    "\n",
    "credit.plot()"
   ]
  },
  {
   "cell_type": "code",
   "execution_count": 6,
   "id": "2692d03b-5899-4e1f-97ac-240c5d7b709c",
   "metadata": {},
   "outputs": [
    {
     "data": {
      "image/png": "[encoded data removed]",
      "text/plain": [
       "<Figure size 720x216 with 1 Axes>"
      ]
     },
     "metadata": {
      "needs_background": "light"
     },
     "output_type": "display_data"
    }
   ],
   "source": [
    "#\n",
    "# Variable decision\n",
    "#\n",
    "decision = FuzzyVariable(\n",
    "    name=\"decision\",\n",
    "    universe=list(range(11)),\n",
    "    sets={\n",
    "        \"Approve\": [0, 0, 0, 0, 0, 0, 0.3, 0.7, 1, 1, 1],\n",
    "        \"Reject\": [1, 1, 1, 0.7, 0.3, 0, 0, 0, 0, 0, 0],\n",
    "    },\n",
    ")\n",
    "\n",
    "decision.plot()"
   ]
  },
  {
   "cell_type": "markdown",
   "id": "7ada5171-be07-49fe-86dd-5fb185f077c2",
   "metadata": {},
   "source": [
    "## Cómputo del valor de pertenencia"
   ]
  },
  {
   "cell_type": "markdown",
   "id": "a59c4ccc-68fb-4037-98ca-666268320d58",
   "metadata": {},
   "source": [
    "Dado un valor $x \\in X$ es posible calcular el valor de la función de pertenencia. Por ejemplo, para la variable score:"
   ]
  },
  {
   "cell_type": "code",
   "execution_count": 7,
   "id": "0db17fac-eacb-47eb-afe8-ff74e1749d11",
   "metadata": {},
   "outputs": [
    {
     "data": {
      "image/png": "[encoded data removed]",
      "text/plain": [
       "<Figure size 720x216 with 1 Axes>"
      ]
     },
     "metadata": {
      "needs_background": "light"
     },
     "output_type": "display_data"
    }
   ],
   "source": [
    "score.plot()"
   ]
  },
  {
   "cell_type": "code",
   "execution_count": 8,
   "id": "5cbaae6e-0388-4228-91da-c8e53ac4d68e",
   "metadata": {},
   "outputs": [
    {
     "data": {
      "text/plain": [
       "0.32"
      ]
     },
     "execution_count": 8,
     "metadata": {},
     "output_type": "execute_result"
    }
   ],
   "source": [
    "#\n",
    "# Pertenencia de score=168 al conjunto Low\n",
    "#\n",
    "score.membership(168, \"Low\")"
   ]
  },
  {
   "cell_type": "markdown",
   "id": "4694f60c-cfc6-4319-896e-d1c50b788bda",
   "metadata": {},
   "source": [
    "## Reglas difusas"
   ]
  },
  {
   "cell_type": "markdown",
   "id": "37024547-0894-4fb7-b24e-2f3a97b65062",
   "metadata": {},
   "source": [
    "Son reglas que usan variables difusas y conjuntos borrosos para expresar conceptos y reglas heurísticas. Por ejemplo:\n",
    "\n",
    "*  **IF** score $\\in$ \"High\" **AND** ratio $\\in$ \"Goodr\" **AND** credit $\\in$ \"Goodc\", **THEN** decision $\\in$ Approve\n",
    "\n",
    "*  **IF** score $\\in$ \"Low\" **AND** ratio $\\in$ \"Badr\" **AND** credit $\\in$ \"Badc\", **THEN** decision $\\in$ Reject\n",
    "\n"
   ]
  },
  {
   "cell_type": "code",
   "execution_count": 9,
   "id": "85e54e4d-4f3c-4634-8de3-a5086f66ca2b",
   "metadata": {},
   "outputs": [],
   "source": [
    "class Rule:\n",
    "    def __init__(self, antecedents, consequent):\n",
    "        #\n",
    "        # La regla está representada por un grupo de\n",
    "        # antecedente con el operador AND y un consecuente\n",
    "        #\n",
    "        self.antecedents = antecedents\n",
    "        self.consequent = consequent\n",
    "\n",
    "        #\n",
    "        # Valores requeridos para computos internos\n",
    "        #\n",
    "        self.memberships = None\n",
    "        self.output = None\n",
    "\n",
    "    def consequent_universe(self):\n",
    "        #\n",
    "        # Esta función devuelve el universo de la\n",
    "        # variable de salida\n",
    "        #\n",
    "        return self.consequent[0].universe\n",
    "\n",
    "    def consequent_membership(self):\n",
    "        #\n",
    "        # Devuelve la función de pertenencia del conjunto\n",
    "        # borroso de la variable de salida de la regla\n",
    "        #\n",
    "        return self.consequent[0].sets[self.consequent[1]]\n",
    "\n",
    "    def consequent_name(self):\n",
    "        #\n",
    "        # Retorna el nombre de la variable de salida\n",
    "        #\n",
    "        return self.consequent[0].name\n",
    "\n",
    "    def compute_memberships(self, **values):\n",
    "        self.memberships = []\n",
    "        for fuzzyvar, fuzzyset in self.antecedents:\n",
    "            if fuzzyvar.name in values.keys():\n",
    "                crisp_value = values[fuzzyvar.name]\n",
    "                membership = fuzzyvar.membership(crisp_value, fuzzyset)\n",
    "                self.memberships.append(membership)\n",
    "\n",
    "    def compute_composition(self, composition, **values):\n",
    "        self.compute_memberships(**values)\n",
    "        if composition == \"max-min\":\n",
    "            self.compute_compositon_maxmin()\n",
    "        if composition == \"max-product\":\n",
    "            self.compute_composition_maxproduct()\n",
    "\n",
    "    def compute_compositon_maxmin(self):\n",
    "        factor = np.min(self.memberships)\n",
    "        membership = self.consequent_membership()\n",
    "        self.output = FuzzyVariable(\n",
    "            name=self.consequent_name(),\n",
    "            universe=self.consequent_universe(),\n",
    "            sets={\n",
    "                \"rule_output\": np.where(\n",
    "                    membership >= factor,\n",
    "                    factor,\n",
    "                    membership,\n",
    "                )\n",
    "            },\n",
    "        )\n",
    "\n",
    "    def compute_composition_maxproduct(self):\n",
    "        factor = np.prod(self.memberships)\n",
    "        membership = self.consequent_membership()\n",
    "        self.output = FuzzyVariable(\n",
    "            name=self.consequent_name(),\n",
    "            universe=self.consequent_universe(),\n",
    "            sets={\"rule_output\": np.array(membership) * factor},\n",
    "        )"
   ]
  },
  {
   "cell_type": "code",
   "execution_count": 10,
   "id": "68125372-b56e-4e72-814e-42c258225d94",
   "metadata": {},
   "outputs": [],
   "source": [
    "#\n",
    "# IF score IS High\n",
    "#    AND ratio IS Goodr\n",
    "#    AND credit IS Goodc\n",
    "# THEN\n",
    "#    decision IS Approve\n",
    "#\n",
    "rule_1 = Rule(\n",
    "    antecedents=[\n",
    "        (score, \"High\"),\n",
    "        (ratio, \"Goodr\"),\n",
    "        (credit, \"Goodc\"),\n",
    "    ],\n",
    "    consequent=(decision, \"Approve\"),\n",
    ")"
   ]
  },
  {
   "cell_type": "code",
   "execution_count": 11,
   "id": "8903191b-8b75-4f00-bacc-191a67e41f43",
   "metadata": {},
   "outputs": [],
   "source": [
    "#\n",
    "# IF score IS Low\n",
    "#    AND ratio IS Badr\n",
    "#    AND credit IS Badc\n",
    "# THEN\n",
    "#    decision IS Reject\n",
    "#\n",
    "rule_2 = Rule(\n",
    "    antecedents=[\n",
    "        (score, \"Low\"),\n",
    "        (ratio, \"Badr\"),\n",
    "        (credit, \"Badc\"),\n",
    "    ],\n",
    "    consequent=(decision, \"Reject\"),\n",
    ")"
   ]
  },
  {
   "cell_type": "markdown",
   "id": "6e44632b-9fdf-4a7e-91cf-f9e0f6547763",
   "metadata": {},
   "source": [
    "## Sistema de inferencia difusa"
   ]
  },
  {
   "cell_type": "markdown",
   "id": "b158fa2a-b8ac-420a-b068-ed42468d2557",
   "metadata": {},
   "source": [
    "Es un sistema de reglas difusas que permite realizar inferencia y obtener resultados. Esta compuesto por los siguientes elementos:\n",
    "\n",
    "* Entrada.\n",
    "\n",
    "* Fuzzifier.\n",
    "\n",
    "* Fuzzy knowledge base.\n",
    "\n",
    "* Infernce engine.\n",
    "\n",
    "* Defuzzifier. "
   ]
  },
  {
   "cell_type": "markdown",
   "id": "a93e3810-9db8-455a-b788-2f1e92fd12ea",
   "metadata": {},
   "source": [
    "## Composición max-product"
   ]
  },
  {
   "cell_type": "markdown",
   "id": "186e287b-4eae-41aa-8ad3-32c9eaa88d10",
   "metadata": {},
   "source": [
    "La composión es el proceso de obtener la salida del sistema de inferencia difusa para una entrada determinada. Esta compuesto por dos partes:\n",
    "\n",
    "* El cálculo del consecuente de cada regla.\n",
    "\n",
    "* La agregación de los consecuentes de las reglas."
   ]
  },
  {
   "cell_type": "code",
   "execution_count": 12,
   "id": "2d045167-a284-4fa3-8048-1298a685fa4d",
   "metadata": {},
   "outputs": [
    {
     "data": {
      "text/plain": [
       "[0.7, 1.0, 0.85]"
      ]
     },
     "execution_count": 12,
     "metadata": {},
     "output_type": "execute_result"
    }
   ],
   "source": [
    "#\n",
    "# El primer paso consiste en el cómputo de las pertenencias\n",
    "# para los datos de entrada. Por ejemplo, si\n",
    "#\n",
    "# * score = 185,\n",
    "# * ratio = 0.22, y\n",
    "# * credit = 2.5\n",
    "#\n",
    "# Las pertenencias para la primera regla son:\n",
    "# \n",
    "rule_1.compute_memberships(score=185, ratio=0.22, credit=2.5,)\n",
    "rule_1.memberships"
   ]
  },
  {
   "cell_type": "code",
   "execution_count": 13,
   "id": "9a9435e3-b065-4fdb-b4ed-af0b2e8b3c1f",
   "metadata": {},
   "outputs": [
    {
     "data": {
      "text/plain": [
       "[0.0, 0.0, 0.0]"
      ]
     },
     "execution_count": 13,
     "metadata": {},
     "output_type": "execute_result"
    }
   ],
   "source": [
    "#\n",
    "# Mientras que para la segunda regla son:\n",
    "#\n",
    "rule_2.compute_memberships(score=185, ratio=0.22, credit=2.5,)\n",
    "rule_2.memberships"
   ]
  },
  {
   "cell_type": "code",
   "execution_count": 14,
   "id": "3a3cfc81-b9fc-4cfe-8363-98bc947e47d3",
   "metadata": {},
   "outputs": [
    {
     "data": {
      "image/png": "[encoded data removed]",
      "text/plain": [
       "<Figure size 720x216 with 1 Axes>"
      ]
     },
     "metadata": {
      "needs_background": "light"
     },
     "output_type": "display_data"
    }
   ],
   "source": [
    "#\n",
    "# El cálculo del consecuente se realiza como la\n",
    "# multiplicación de las pertenencias por el valor de la\n",
    "# función de pertenencia del consecuente.\n",
    "#\n",
    "# Para la primera regla es 0.7 x 1.0 x 0.85 x la función de\n",
    "# pertenencia de decision IS Aprove\n",
    "#\n",
    "# 0.595 = 0.7 x 1.0 x 0.85\n",
    "#\n",
    "rule_1.compute_composition(\n",
    "    composition=\"max-product\",\n",
    "    score=185,\n",
    "    ratio=0.22,\n",
    "    credit=2.5,\n",
    ")\n",
    "rule_1.output.plot()"
   ]
  },
  {
   "cell_type": "code",
   "execution_count": 15,
   "id": "be363b70-0c1d-4925-8cdd-3f36ec2d03e7",
   "metadata": {},
   "outputs": [
    {
     "data": {
      "image/png": "[encoded data removed]",
      "text/plain": [
       "<Figure size 720x216 with 1 Axes>"
      ]
     },
     "metadata": {
      "needs_background": "light"
     },
     "output_type": "display_data"
    }
   ],
   "source": [
    "#\n",
    "# Para la segunda regla es:\n",
    "#\n",
    "rule_2.compute_composition(\n",
    "    composition=\"max-product\",\n",
    "    score=185,\n",
    "    ratio=0.22,\n",
    "    credit=2.5,\n",
    ")\n",
    "rule_2.output.plot()"
   ]
  },
  {
   "cell_type": "markdown",
   "id": "28e68618-c2df-4604-a858-447f9a061106",
   "metadata": {},
   "source": [
    "La segunda parte de la composición consiste en agregar los dos conjutos de salida (uno por cada regla). Esto se hace mediante el operador max aplicado punto a punto sobre cada punto del universo de la variable. En este caso es igual a la salida de la primera regla."
   ]
  },
  {
   "cell_type": "markdown",
   "id": "2b585070-886f-41ef-b504-5ead86b0e050",
   "metadata": {},
   "source": [
    "## Composición max-min"
   ]
  },
  {
   "cell_type": "code",
   "execution_count": 16,
   "id": "19ca480d-4398-43cb-afd6-bfd021fed108",
   "metadata": {},
   "outputs": [
    {
     "data": {
      "text/plain": [
       "[0.7, 1.0, 0.85]"
      ]
     },
     "execution_count": 16,
     "metadata": {},
     "output_type": "execute_result"
    }
   ],
   "source": [
    "#\n",
    "# El primer paso consiste en el cómputo de las pertenencias\n",
    "# para los datos de entrada. Por ejemplo, si\n",
    "#\n",
    "# * score = 185,\n",
    "# * ratio = 0.22, y\n",
    "# * credit = 2.5\n",
    "#\n",
    "# Las pertenencias para la primera regla son:\n",
    "# \n",
    "rule_1.compute_memberships(score=185, ratio=0.22, credit=2.5,)\n",
    "rule_1.memberships"
   ]
  },
  {
   "cell_type": "code",
   "execution_count": 17,
   "id": "65449f75-ad13-4b6b-9e4d-4ed76b2b03ca",
   "metadata": {},
   "outputs": [
    {
     "data": {
      "image/png": "[encoded data removed]",
      "text/plain": [
       "<Figure size 720x216 with 1 Axes>"
      ]
     },
     "metadata": {
      "needs_background": "light"
     },
     "output_type": "display_data"
    }
   ],
   "source": [
    "#\n",
    "# El cálculo del consecuente se realiza asi:\n",
    "# \n",
    "# * Se calcula el mínimo de las funciones de pertenencia u\n",
    "#\n",
    "# * El valor del consecuente es el máximo entre u y el \n",
    "#   valor de la función de pertenencia\n",
    "#\n",
    "rule_1.compute_composition(\n",
    "    composition=\"max-min\",\n",
    "    score=185,\n",
    "    ratio=0.22,\n",
    "    credit=2.5,\n",
    ")\n",
    "rule_1.output.plot()"
   ]
  },
  {
   "cell_type": "code",
   "execution_count": 18,
   "id": "3f96ffd0-f0ec-4fe3-8db1-70034bb1eb5f",
   "metadata": {},
   "outputs": [
    {
     "data": {
      "image/png": "[encoded data removed]",
      "text/plain": [
       "<Figure size 720x216 with 1 Axes>"
      ]
     },
     "metadata": {
      "needs_background": "light"
     },
     "output_type": "display_data"
    }
   ],
   "source": [
    "#\n",
    "# La gráfica anterior es el minimo entre el valor de la \n",
    "# función de pertenencia para decision IS Approve y 0.595\n",
    "decision.plot()"
   ]
  },
  {
   "cell_type": "markdown",
   "id": "b28ea842-d1b1-401c-b6b7-797254051548",
   "metadata": {},
   "source": [
    "## Especificación de un modelo de Mamdani"
   ]
  },
  {
   "cell_type": "code",
   "execution_count": 19,
   "id": "39fe1d62-63e5-45b5-b9ac-9c7024fed1c0",
   "metadata": {},
   "outputs": [],
   "source": [
    "class Mamdani:\n",
    "    #\n",
    "    # El modelo está conformado por:\n",
    "    #\n",
    "    # * El conjunto de reglas\n",
    "    # * El operador de composición\n",
    "    # * El operador de agregación de los consecuentes de\n",
    "    #   las reglas\n",
    "    # * El operador de defuzzification\n",
    "    #\n",
    "    def __init__(\n",
    "        self,\n",
    "        rules,\n",
    "        composition=\"max-min\",\n",
    "        aggregation=\"max\",\n",
    "        defuzzification=\"cog\",\n",
    "    ):\n",
    "        self.rules = rules\n",
    "        self.composition = composition\n",
    "        self.aggregation = aggregation\n",
    "        self.defuzzification = defuzzification\n",
    "        #\n",
    "        self.output = None\n",
    "        self.values = None\n",
    "\n",
    "    def __call__(self, **values):\n",
    "        #\n",
    "        # El proceso de calculo contiene siguientes pasos\n",
    "        #\n",
    "        self.values = values\n",
    "        self.compute_composition()\n",
    "        self.compute_aggregation()\n",
    "        return self.compute_defuzzification()\n",
    "\n",
    "    def compute_composition(self):\n",
    "        #\n",
    "        # Calcula el consecuente de cada regla usando el\n",
    "        # operador de composición especificado.\n",
    "        #\n",
    "        for rule in self.rules:\n",
    "            rule.compute_composition(self.composition, **self.values)\n",
    "\n",
    "    def compute_aggregation(self):\n",
    "\n",
    "        #\n",
    "        # Se geenera una variable difusa cuyos conjuntos\n",
    "        # borrosos son los resultados de cada regla difusa\n",
    "        #\n",
    "        for i_rule, rule in enumerate(self.rules):\n",
    "            if i_rule == 0:\n",
    "                self.output = FuzzyVariable(\n",
    "                    name=\"output\",\n",
    "                    universe=rule.output.universe,\n",
    "                    sets={\"rule_{}\".format(i_rule): rule.output.sets[\"rule_output\"]},\n",
    "                )\n",
    "            else:\n",
    "                self.output.sets[\"rule_{}\".format(i_rule)] = rule.output.sets[\n",
    "                    \"rule_output\"\n",
    "                ]\n",
    "\n",
    "        #\n",
    "        # Agrega los conjuntos borrosos para obtener uno\n",
    "        # solo (el código aparece en la definición de la\n",
    "        # clase)\n",
    "        #\n",
    "        self.output.aggregate()\n",
    "\n",
    "    def compute_defuzzification(self):\n",
    "        #\n",
    "        # El conjunto borroso se convierte en un valor\n",
    "        # crisp\n",
    "        #\n",
    "        return self.output.defuzzification()"
   ]
  },
  {
   "cell_type": "code",
   "execution_count": 20,
   "id": "649fe8d0-53eb-4a50-be85-b4e77add0eec",
   "metadata": {},
   "outputs": [
    {
     "name": "stdout",
     "output_type": "stream",
     "text": [
      "8.425\n"
     ]
    },
    {
     "data": {
      "image/png": "[encoded data removed]",
      "text/plain": [
       "<Figure size 720x216 with 1 Axes>"
      ]
     },
     "metadata": {
      "needs_background": "light"
     },
     "output_type": "display_data"
    }
   ],
   "source": [
    "#\n",
    "# Especificación del sistema\n",
    "#\n",
    "mamdani = Mamdani(\n",
    "    rules=[\n",
    "        rule_1,\n",
    "        rule_2,\n",
    "    ],\n",
    "    composition=\"max-product\",\n",
    ")\n",
    "\n",
    "#\n",
    "# Valor computado para una entrada específica\n",
    "#\n",
    "print(\n",
    "    mamdani(\n",
    "        score=191,\n",
    "        ratio=0.1,\n",
    "        credit=4,\n",
    "    )\n",
    ")\n",
    "\n",
    "#\n",
    "# Conjuto borroso obtenido despues de agregar las salidas\n",
    "# de las reglas borrosas\n",
    "#\n",
    "mamdani.output.plot()"
   ]
  }
 ],
 "metadata": {
  "kernelspec": {
   "display_name": "Python 3",
   "language": "python",
   "name": "python3"
  },
  "language_info": {
   "codemirror_mode": {
    "name": "ipython",
    "version": 3
   },
   "file_extension": ".py",
   "mimetype": "text/x-python",
   "name": "python",
   "nbconvert_exporter": "python",
   "pygments_lexer": "ipython3",
   "version": "3.6.9"
  }
 },
 "nbformat": 4,
 "nbformat_minor": 5
}
