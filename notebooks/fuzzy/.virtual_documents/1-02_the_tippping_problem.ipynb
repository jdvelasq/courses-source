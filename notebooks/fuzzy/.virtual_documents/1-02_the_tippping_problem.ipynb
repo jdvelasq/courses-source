import warnings
import matplotlib.pyplot as plt

warnings.filterwarnings("ignore")


get_ipython().getoutput("pip install --quiet --upgrade fuzzy_toolbox")


import numpy as np
from fuzzy_toolbox.mamdani import FuzzyRule, FuzzyVariable, Mamdani, trimf, zmf, smf, trapmf


service_quality = FuzzyVariable(
    name="service_quality",
    universe=np.linspace(start=0, stop=10, num=200),
)

#
# Se especifican funciones de pertenencia triangulares para
# los conjuntos borrosos
#
service_quality["poor"] = trimf(
    service_quality.universe,
    -1, 
    0,
    5,
)
service_quality["good"] = trimf(
    service_quality.universe,
    0,
    5,
    10,
)
service_quality["excellent"] = trimf(
    service_quality.universe,
    5,
    10,
    10,
)

service_quality.plot()


food_quality = FuzzyVariable(
    name="food_quality",
    universe=np.linspace(start=0, stop=10, num=200),
)

#
# Función de pertenencia Z
#
food_quality['rancid'] = zmf(food_quality.universe, 0, 5)

#
# Función de pertenencia S
#
food_quality['delicious'] = smf(food_quality.universe, 5, 10)

food_quality.plot()


tip = FuzzyVariable(
    name="tip",
    universe=np.linspace(start=0, stop=25, num=200),
)

#
# Funciones de pertenencia triangulares
#
tip['small'] = trimf(tip.universe, 0, 0, 10)
tip['average'] = trimf(tip.universe, 0, 10, 20)

# Función de pertenencia trapezoidal
#
tip['generous'] = trapmf(tip.universe, 10, 20, 25, 25)

tip.plot()


#
# La regla usa el conector lógico OR
# 
rule_1 = FuzzyRule(
    antecedents=[
        (service_quality, "poor"),
        (food_quality, "rancid"),
    ],
    consequent=(tip, "small"),
    is_and=False,
)

rule_1


rule_2 = FuzzyRule(
    antecedents=[
        (service_quality, "good"),
    ],
    consequent=(tip, "average"),
)

rule_2


#
# La regla usa el conector lógico OR
# 
rule_3 = FuzzyRule(
    antecedents=[
        (service_quality, "excellent"),
        (food_quality, "delicious"),
    ],
    consequent=(tip, "generous"),
    is_and = False,
)

rule_3


#
# Usa la regla composicional de inferencia max-prod
#
mamdani = Mamdani(
    rules=[
        rule_1,
        rule_2,
        rule_3,
    ],
    and_operator="prod",
    or_operator="max",
    implication_operator="prod",
    aggregation_operator="max",
    defuzzification_operator="cog",
)

plt.figure(figsize=(12, 10))

mamdani.plot(
    service_quality=4,
    food_quality=8,
)


rule_1 = FuzzyRule(
    antecedents=[
        (service_quality, "very", "poor"),
        (food_quality, "extremely", "rancid"),
    ],
    consequent=(tip, "extremely", "small"),
    is_and=False,
)

rule_1


rule_3 = FuzzyRule(
    antecedents=[
        (service_quality, "excellent"),
        (food_quality, "delicious"),
    ],
    consequent=(tip, "very", "generous"),
    is_and = False,
)

rule_3


mamdani = Mamdani(
    rules=[
        rule_1,
        rule_2,
        rule_3,
    ],
    and_operator="prod",
    or_operator="max",
    implication_operator="prod",
    aggregation_operator="max",
    defuzzification_operator="cog",
)

plt.figure(figsize=(12, 10))

mamdani.plot(
    service_quality=4,
    food_quality=8,
)
