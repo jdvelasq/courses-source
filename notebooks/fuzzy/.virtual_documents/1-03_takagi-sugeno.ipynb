import warnings

import matplotlib.pyplot as plt
import numpy as np
import pandas as pd
from fuzzy_toolbox.sugeno import Sugeno
from sklearn.preprocessing import MinMaxScaler

warnings.filterwarnings("ignore")


def plot_memberships(m):
    plt.figure(figsize=(14, 5))
    plt.subplot(1, 3, 1)
    m.plot_fuzzysets(0)
    plt.subplot(1, 3, 2)
    m.plot_fuzzysets(1)
    plt.subplot(1, 3, 3)
    m.plot_fuzzysets(2)


get_ipython().getoutput("pip install --quiet --upgrade fuzzy_toolbox")


df = pd.read_csv(
    "https://raw.githubusercontent.com/jdvelasq/datalabs/master/datasets/concrete.csv",
    sep=",",
    thousands=None,
    decimal=".",
)

scaler = MinMaxScaler()
df_norm = pd.DataFrame(scaler.fit_transform(df), columns=df.columns)
y = df_norm.pop("strength")

X_consequences = df_norm.copy()
X_premises = X_consequences[["cement", "slag", "ash"]]


from fuzzy_toolbox.sugeno import Sugeno

model_trimf = Sugeno(
    num_input_mfs=(3, 3, 3),
    and_operator="prod",
    mftype="trimf",
    seed=123456,
)

#
# Conjuntos borrosos iniciales
#
history = model_trimf.fit(
    X_premises.values,
    X_consequences.values,
    y.values,
    max_iter=0,
)


    
plot_memberships(model_trimf)


#
# Entrenamiento del modelo
#
history = model_trimf.fit(
    X_premises.values,
    X_consequences.values,
    y.values,
    max_iter=500,
    learning_rate="adaptive",
    learning_rate_init=10.0,
    power_t=0.5,
    batch_size=None,
    shuffle=True,
)
plt.plot(history["loss"], "-k")
plt.show()


plot_memberships(model_trimf)


#
# Pronóstico vs Real
#
y_pred = model_trimf(X_premises.values, X_consequences.values)
plt.figure(figsize=(8, 8))
plt.scatter(y.values, y_pred)
plt.plot([0, 1], [0, 1], color="black")
plt.ylim(0, 1)
plt.show()
round(np.mean((y.values - y_pred)**2),4)


model_gaussmf = Sugeno(
    num_input_mfs=(3, 3, 3),
    and_operator="prod",
    mftype="gaussmf",
    seed=123456,
)

#
# Conjuntos borrosos iniciales
#
history = model_gaussmf.fit(
    X_premises.values,
    X_consequences.values,
    y.values,
    max_iter=0,
)

plot_memberships(model_gaussmf)


#
# Entrenamiento del modelo
#
history = model_gaussmf.fit(
    X_premises.values,
    X_consequences.values,
    y.values,
    max_iter=50,
    learning_rate="adaptive",
    learning_rate_init=10,
    power_t=0.5,
    batch_size="auto",
    shuffle=True,
)
plt.plot(history["loss"], "-k")
plt.show()


plot_memberships(model_gaussmf)


#
# Pronóstico vs Real
#
y_pred = model_gaussmf(X_premises.values, X_consequences.values)
plt.figure(figsize=(8, 8))
plt.scatter(y.values, y_pred)
plt.plot([0, 1], [0, 1], color="black")
plt.ylim(0, 1)
plt.show()
round(np.mean((y.values - y_pred)**2),4)


anfis = Sugeno(
    num_input_mfs=(3, 3, 3),
    and_operator="prod",
    mftype="gbellmf",
    seed=123456,
)

#
# Conjuntos borrosos iniciales
#
history = anfis.fit(
    X_premises.values,
    X_consequences.values,
    y.values,
    max_iter=0,
)

plot_memberships(anfis)


#
# Entrenamiento del modelo
#
history = anfis.fit(
    X_premises.values,
    X_consequences.values,
    y.values,
    max_iter=50,
    learning_rate="adaptive",
    learning_rate_init=10,
    power_t=0.5,
    batch_size="auto",
    shuffle=True,
)
plt.plot(history["loss"], "-k")
plt.show()


plot_memberships(anfis)


#
# Pronóstico vs Real
#
y_pred = anfis(X_premises.values, X_consequences.values)
plt.figure(figsize=(8, 8))
plt.scatter(y.values, y_pred)
plt.plot([0, 1], [0, 1], color="black")
plt.ylim(0, 1)
plt.show()
round(np.mean((y.values - y_pred)**2),4)
