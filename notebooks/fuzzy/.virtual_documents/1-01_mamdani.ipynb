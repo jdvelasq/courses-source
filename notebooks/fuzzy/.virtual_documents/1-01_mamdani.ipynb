import warnings
import matplotlib.pyplot as plt

warnings.filterwarnings("ignore")


get_ipython().getoutput("pip install --quiet --upgrade fuzzy_toolbox")


import numpy as np
from fuzzy_toolbox.mamdani import FuzzyVariable

score = FuzzyVariable(
    #
    # Nombre de la variable
    #
    name="score",
    #
    # Universo de valores sobre los que estan definidos los
    # conjuntos borrosos
    #
    universe=np.arange(start=150, stop=201, step=5),
    #
    # Se define cada conjunto borroso y los correspondientes
    # valores de la función de pertenencia para cada punto
    # del universo en que esta definida la variable
    #
    sets={
        "High": [0.0, 0.0, 0.0, 0.0, 0.0, 0.0, 0.2, 0.7, 1.0, 1.0, 1.0],
        "Low": [1.0, 1.0, 0.8, 0.5, 0.2, 0.0, 0.0, 0.0, 0.0, 0.0, 0.0],
    },
)

#
# Gráfica de la variable.
#
score.plot()


#
# Variable ratio
#
ratio = FuzzyVariable(
    name="ratio",
    universe=[0.1, 0.3, 0.40, 0.41, 0.42, 0.43, 0.44, 0.45, 0.5, 0.7, 1.0],
    sets={
        "Goodr": [1, 1, 0.7, 0.3, 0, 0, 0, 0, 0, 0, 0],
        "Badr": [0, 0, 0, 0, 0, 0, 0, 0.3, 0.7, 1.0, 1.0],
    },
)

ratio.plot()


#
# Variable credit
#
credit = FuzzyVariable(
    name="credit",
    universe=list(range(11)),
    sets={
        "Goodc": [1, 1, 1, 0.7, 0.3, 0, 0, 0, 0, 0, 0],
        "Badc": [0, 0, 0, 0, 0, 0, 0.3, 0.7, 1, 1, 1],
    },
)

credit.plot()


#
# Variable decision
#
decision = FuzzyVariable(
    name="decision",
    universe=list(range(11)),
    sets={
        "Approve": [0, 0, 0, 0, 0, 0, 0.3, 0.7, 1, 1, 1],
        "Reject": [1, 1, 1, 0.7, 0.3, 0, 0, 0, 0, 0, 0],
    },
)

decision.plot()


#
# Pertenencia de score=168 al conjunto Low
#
current_score = 168
membership = score.compute_membership(168, "Low")

score.plot()
plt.gca().vlines(
    x=current_score,
    ymin=0.0,
    ymax=membership,
    color="k",
    linewidth=4,
)
plt.show()

membership


#
# Regla 1
# -----------------------------------
# IF score IS High
#    AND ratio IS Goodr
#    AND credit IS Goodc
# THEN
#    decision IS Approve
#
from fuzzy_toolbox.mamdani import FuzzyRule

#
# Las reglas están conformadas por tuplas que indican cada
# una de las premisas en el antecedente y el consecuente.
#
rule_1 = FuzzyRule(
    antecedents=[
        (score, "High"),
        (ratio, "Goodr"),
        (credit, "Goodc"),
    ],
    consequent=(decision, "Approve"),
)

rule_1


#
# Regla 2
# -----------------------------------
# IF score IS Low
#    AND ratio IS Badr
#    AND credit IS Badc
# THEN
#    decision IS Reject
#
rule_2 = FuzzyRule(
    antecedents=[
        (score, "Low"),
        (ratio, "Badr"),
        (credit, "Badc"),
    ],
    consequent=(decision, "Reject"),
)

rule_2


#
# Por ejemplo, si
#
#   * score = 185,
#   * ratio = 0.22, y
#   * credit = 2.5
#
# Las pertenencias para la primera regla son:
#
rule_1.compute_memberships(
    score=185,
    ratio=0.22,
    credit=2.5,
)
rule_1.memberships


#
# Mientras que para la segunda regla son:
#
rule_2.compute_memberships(
    score=185,
    ratio=0.22,
    credit=2.5,
)
rule_2.memberships


# 
# Para la regla 1, los valores de las funciones de pertenencia son:
#
rule_1.memberships


#
# Usando el operador min para el AND
#
rule_1.combine_inputs(and_operator="min", or_operator=None)
rule_1.combined_input


#
# Usando el operador prod para el AND
#
rule_1.combine_inputs(and_operator="prod", or_operator=None)
rule_1.combined_input


decision.plot()


#
# En el operador min, el conjunto difuso resultante es 
# calculado como el mínimo entre el valor de la función de
# pertenencia del conjunto de salida y el valor obtenido al
# agregar las entradas
#
rule_1.compute_implication(implication_operator="min")
rule_1.output.plot()

#
# El efecto visual se debe a que los puntos de la función
# de pertenencia son interpolados para los puntos en que
# está definido el universo de la variable.
# 
plt.plot(decision.universe, decision['Approve'], '--k')
plt.show()


rule_1.compute_implication(implication_operator="prod")
rule_1.output.plot()

#
# Note que esta es la versión escalada de la función de
# pertenencia original
#
plt.plot(decision.universe, decision['Approve'], '--k')
plt.show()


rule_1.combine_inputs(and_operator="min", or_operator=None)
rule_1.compute_implication(implication_operator="min")
rule_1.output.plot()


rule_1.combine_inputs(and_operator="prod", or_operator=None)
rule_1.compute_implication(implication_operator="prod")
rule_1.output.plot()


from fuzzy_toolbox.mamdani import Mamdani

#
# Especificación del sistema difuso que usa la regla
# composicional de inferencia max-min
#
mamdani = Mamdani(
    rules=[
        rule_1,
        rule_2,
    ],
    and_operator="min",
    or_operator="max",
    implication_operator="min",
    aggregation_operator="max",
    defuzzification_operator="cog",
)

plt.figure(figsize=(12, 8))

mamdani.plot(
    score=185,
    ratio=0.22,
    credit=2.5,
)


#
# Especificación del sistema difuso que usa la regla
# composicional de inferencia max-prod
#
mamdani = Mamdani(
    rules=[
        rule_1,
        rule_2,
    ],
    and_operator="prod",
    or_operator="max",
    implication_operator="prod",
    aggregation_operator="max",
    defuzzification_operator="cog",
)

plt.figure(figsize=(12, 8))

mamdani.plot(
    score=185,
    ratio=0.22,
    credit=2.5,
)
