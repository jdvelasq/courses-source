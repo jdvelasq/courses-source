{
 "cells": [
  {
   "cell_type": "markdown",
   "id": "9d7ecc4e-581a-4eb1-81e0-ee51b906c5ac",
   "metadata": {
    "tags": []
   },
   "source": [
    "Función Input --- 0:00 min\n",
    "===\n",
    "\n",
    "* Última modificación: Marzo 7, 2022 | YouTube\n",
    "\n",
    "* Adaptado de: https://keras.io/api/layers/core_layers/input/"
   ]
  },
  {
   "cell_type": "markdown",
   "id": "d65639aa-bca0-4334-9d8f-1120751b7846",
   "metadata": {
    "tags": []
   },
   "source": [
    "Importación de librerías\n",
    "---"
   ]
  },
  {
   "cell_type": "code",
   "execution_count": 1,
   "id": "fc70a917-95c5-451a-8373-c95d83c4c119",
   "metadata": {},
   "outputs": [
    {
     "data": {
      "text/plain": [
       "'2.8.0'"
      ]
     },
     "execution_count": 1,
     "metadata": {},
     "output_type": "execute_result"
    }
   ],
   "source": [
    "import os\n",
    "\n",
    "os.environ[\"TF_CPP_MIN_LOG_LEVEL\"] = \"2\"\n",
    "\n",
    "import tensorflow as tf\n",
    "\n",
    "tf.__version__"
   ]
  },
  {
   "cell_type": "markdown",
   "id": "bdf5f770-9234-4fda-8d5e-ce96deaeeb5d",
   "metadata": {},
   "source": [
    "Input\n",
    "--"
   ]
  },
  {
   "cell_type": "code",
   "execution_count": 2,
   "id": "fef05f7c-53d0-4bdd-a696-e0dc51c0587b",
   "metadata": {},
   "outputs": [],
   "source": [
    "#\n",
    "# Regresión logística multiple\n",
    "#\n",
    "x = tf.keras.layers.Input(shape=(32,))\n",
    "y = tf.keras.layers.Dense(16, activation=\"softmax\")(x)\n",
    "model = tf.keras.Model(x, y)"
   ]
  },
  {
   "cell_type": "code",
   "execution_count": 3,
   "id": "3d5daf92-a44a-460a-a964-0e2a3b89a890",
   "metadata": {},
   "outputs": [],
   "source": [
    "#\n",
    "# Creación de un tensor simbólico para ser usado posteriormente.\n",
    "#\n",
    "x = tf.keras.layers.Input(shape=(32,))\n",
    "y = tf.square(x)\n",
    "model = tf.keras.Model(x, y)"
   ]
  }
 ],
 "metadata": {
  "kernelspec": {
   "display_name": "Python 3 (ipykernel)",
   "language": "python",
   "name": "python3"
  },
  "language_info": {
   "codemirror_mode": {
    "name": "ipython",
    "version": 3
   },
   "file_extension": ".py",
   "mimetype": "text/x-python",
   "name": "python",
   "nbconvert_exporter": "python",
   "pygments_lexer": "ipython3",
   "version": "3.9.10"
  }
 },
 "nbformat": 4,
 "nbformat_minor": 5
}
