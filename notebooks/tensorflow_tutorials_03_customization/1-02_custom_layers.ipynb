{
 "cells": [
  {
   "cell_type": "markdown",
   "id": "5b881ebb-402c-4952-843c-bcacabc5d282",
   "metadata": {
    "tags": []
   },
   "source": [
    "Capas personalizadas --- 0:00 min\n",
    "===\n",
    "\n",
    "* Última modificación: Marzo 1, 2022 | YouTube"
   ]
  },
  {
   "cell_type": "markdown",
   "id": "d66b6c65-b4e3-46d2-a508-1d5b33dea9c3",
   "metadata": {
    "tags": []
   },
   "source": [
    "Importación de librerías\n",
    "---"
   ]
  },
  {
   "cell_type": "code",
   "execution_count": 1,
   "id": "12db1b73-db68-48ef-a84e-6de7bb2cde1e",
   "metadata": {},
   "outputs": [],
   "source": [
    "import os\n",
    "\n",
    "os.environ[\"TF_CPP_MIN_LOG_LEVEL\"] = \"2\"\n",
    "\n",
    "import tensorflow as tf\n",
    "import tensorflow_datasets as tfds"
   ]
  },
  {
   "cell_type": "markdown",
   "id": "4cf7f933-5850-40b2-8c30-2434ed9826ee",
   "metadata": {},
   "source": [
    "Conjuntos de operaciones comunes\n",
    "----"
   ]
  },
  {
   "cell_type": "code",
   "execution_count": 2,
   "id": "71f06e59-2e93-4004-8618-06c6747b3fe1",
   "metadata": {},
   "outputs": [],
   "source": [
    "layer = tf.keras.layers.Dense(100)"
   ]
  },
  {
   "cell_type": "code",
   "execution_count": 3,
   "id": "9be23bf4-5bec-445d-854a-e16a3267d386",
   "metadata": {},
   "outputs": [],
   "source": [
    "layer = tf.keras.layers.Dense(10, input_shape=(None, 5))"
   ]
  },
  {
   "cell_type": "code",
   "execution_count": 4,
   "id": "6d2fa894-5a2f-4fec-8dfc-0d53ed8bfdab",
   "metadata": {},
   "outputs": [
    {
     "data": {
      "text/plain": [
       "<tf.Tensor: shape=(10, 10), dtype=float32, numpy=\n",
       "array([[0., 0., 0., 0., 0., 0., 0., 0., 0., 0.],\n",
       "       [0., 0., 0., 0., 0., 0., 0., 0., 0., 0.],\n",
       "       [0., 0., 0., 0., 0., 0., 0., 0., 0., 0.],\n",
       "       [0., 0., 0., 0., 0., 0., 0., 0., 0., 0.],\n",
       "       [0., 0., 0., 0., 0., 0., 0., 0., 0., 0.],\n",
       "       [0., 0., 0., 0., 0., 0., 0., 0., 0., 0.],\n",
       "       [0., 0., 0., 0., 0., 0., 0., 0., 0., 0.],\n",
       "       [0., 0., 0., 0., 0., 0., 0., 0., 0., 0.],\n",
       "       [0., 0., 0., 0., 0., 0., 0., 0., 0., 0.],\n",
       "       [0., 0., 0., 0., 0., 0., 0., 0., 0., 0.]], dtype=float32)>"
      ]
     },
     "execution_count": 4,
     "metadata": {},
     "output_type": "execute_result"
    }
   ],
   "source": [
    "layer(tf.zeros([10, 5]))"
   ]
  },
  {
   "cell_type": "code",
   "execution_count": 5,
   "id": "d0805231-35fa-411e-bbda-8206d80d610e",
   "metadata": {},
   "outputs": [
    {
     "data": {
      "text/plain": [
       "[<tf.Variable 'dense_1/kernel:0' shape=(5, 10) dtype=float32, numpy=\n",
       " array([[-0.02325332,  0.41240185, -0.04722053,  0.00823265, -0.5001466 ,\n",
       "         -0.17735547,  0.0699051 ,  0.54058   ,  0.35389382, -0.08745921],\n",
       "        [ 0.3547942 ,  0.41461843, -0.5319194 , -0.2816233 , -0.2989134 ,\n",
       "         -0.38525283, -0.3751296 , -0.26973662, -0.314858  , -0.41375172],\n",
       "        [ 0.02956992, -0.08834106,  0.46280307,  0.42045122,  0.4816653 ,\n",
       "         -0.14118266,  0.50701267, -0.23256588,  0.0253154 , -0.23714414],\n",
       "        [ 0.14449716,  0.30955386, -0.21363354,  0.31867987,  0.18757445,\n",
       "          0.0325762 , -0.2127009 ,  0.62799007, -0.1279037 ,  0.17440587],\n",
       "        [ 0.5919631 ,  0.22138774, -0.43562776, -0.03065169, -0.45233214,\n",
       "         -0.09552449,  0.09480822, -0.3697552 , -0.51259685,  0.23746729]],\n",
       "       dtype=float32)>,\n",
       " <tf.Variable 'dense_1/bias:0' shape=(10,) dtype=float32, numpy=array([0., 0., 0., 0., 0., 0., 0., 0., 0., 0.], dtype=float32)>]"
      ]
     },
     "execution_count": 5,
     "metadata": {},
     "output_type": "execute_result"
    }
   ],
   "source": [
    "layer.variables"
   ]
  },
  {
   "cell_type": "code",
   "execution_count": 6,
   "id": "a12776d1-adb8-4a2e-96c7-3d6d24d3de3d",
   "metadata": {},
   "outputs": [
    {
     "data": {
      "text/plain": [
       "(<tf.Variable 'dense_1/kernel:0' shape=(5, 10) dtype=float32, numpy=\n",
       " array([[-0.02325332,  0.41240185, -0.04722053,  0.00823265, -0.5001466 ,\n",
       "         -0.17735547,  0.0699051 ,  0.54058   ,  0.35389382, -0.08745921],\n",
       "        [ 0.3547942 ,  0.41461843, -0.5319194 , -0.2816233 , -0.2989134 ,\n",
       "         -0.38525283, -0.3751296 , -0.26973662, -0.314858  , -0.41375172],\n",
       "        [ 0.02956992, -0.08834106,  0.46280307,  0.42045122,  0.4816653 ,\n",
       "         -0.14118266,  0.50701267, -0.23256588,  0.0253154 , -0.23714414],\n",
       "        [ 0.14449716,  0.30955386, -0.21363354,  0.31867987,  0.18757445,\n",
       "          0.0325762 , -0.2127009 ,  0.62799007, -0.1279037 ,  0.17440587],\n",
       "        [ 0.5919631 ,  0.22138774, -0.43562776, -0.03065169, -0.45233214,\n",
       "         -0.09552449,  0.09480822, -0.3697552 , -0.51259685,  0.23746729]],\n",
       "       dtype=float32)>,\n",
       " <tf.Variable 'dense_1/bias:0' shape=(10,) dtype=float32, numpy=array([0., 0., 0., 0., 0., 0., 0., 0., 0., 0.], dtype=float32)>)"
      ]
     },
     "execution_count": 6,
     "metadata": {},
     "output_type": "execute_result"
    }
   ],
   "source": [
    "layer.kernel, layer.bias"
   ]
  },
  {
   "cell_type": "markdown",
   "id": "59eef30a-69e7-400a-875c-54b3394ef047",
   "metadata": {},
   "source": [
    "Implementación de capas personalizadas\n",
    "---"
   ]
  },
  {
   "cell_type": "code",
   "execution_count": 7,
   "id": "f447548b-56d4-4e54-9106-6a1a6a9b6af2",
   "metadata": {},
   "outputs": [],
   "source": [
    "class MyDenseLayer(tf.keras.layers.Layer):\n",
    "    #\n",
    "    def __init__(self, num_outputs):\n",
    "        super(MyDenseLayer, self).__init__()\n",
    "        self.num_outputs = num_outputs\n",
    "\n",
    "    def build(self, input_shape):\n",
    "        self.kernel = self.add_weight(\n",
    "            \"kernel\", shape=[int(input_shape[-1]), self.num_outputs]\n",
    "        )\n",
    "\n",
    "    def call(self, inputs):\n",
    "        return tf.matmul(inputs, self.kernel)\n",
    "\n",
    "\n",
    "layer = MyDenseLayer(10)"
   ]
  },
  {
   "cell_type": "code",
   "execution_count": 8,
   "id": "154fde65-fd89-40eb-88f6-3da7f6fee3e0",
   "metadata": {},
   "outputs": [],
   "source": [
    "_ = layer(tf.zeros([10, 5]))"
   ]
  },
  {
   "cell_type": "code",
   "execution_count": 9,
   "id": "ff36bebc-7743-4f70-9235-a00cc2c32d9f",
   "metadata": {},
   "outputs": [
    {
     "name": "stdout",
     "output_type": "stream",
     "text": [
      "['my_dense_layer/kernel:0']\n"
     ]
    }
   ],
   "source": [
    "print([var.name for var in layer.trainable_variables])"
   ]
  },
  {
   "cell_type": "markdown",
   "id": "d6489c04-33ed-4b61-a33e-b3c27a6a146b",
   "metadata": {},
   "source": [
    "Composición de capas en modelos\n",
    "---"
   ]
  },
  {
   "cell_type": "code",
   "execution_count": 10,
   "id": "eb01c16e-532d-47b5-8703-81da2bed3aaa",
   "metadata": {},
   "outputs": [],
   "source": [
    "class ResnetIdentityBlock(tf.keras.Model):\n",
    "    #\n",
    "    def __init__(self, kernel_size, filters):\n",
    "        super(ResnetIdentityBlock, self).__init__(name=\"\")\n",
    "        filters1, filters2, filters3 = filters\n",
    "\n",
    "        self.conv2a = tf.keras.layers.Conv2D(filters1, (1, 1))\n",
    "        self.bn2a = tf.keras.layers.BatchNormalization()\n",
    "\n",
    "        self.conv2b = tf.keras.layers.Conv2D(filters2, kernel_size, padding=\"same\")\n",
    "        self.bn2b = tf.keras.layers.BatchNormalization()\n",
    "\n",
    "        self.conv2c = tf.keras.layers.Conv2D(filters3, (1, 1))\n",
    "        self.bn2c = tf.keras.layers.BatchNormalization()\n",
    "\n",
    "    def call(self, input_tensor, training=False):\n",
    "        x = self.conv2a(input_tensor)\n",
    "        x = self.bn2a(x, training=training)\n",
    "        x = tf.nn.relu(x)\n",
    "\n",
    "        x = self.conv2b(x)\n",
    "        x = self.bn2b(x, training=training)\n",
    "        x = tf.nn.relu(x)\n",
    "\n",
    "        x = self.conv2c(x)\n",
    "        x = self.bn2c(x, training=training)\n",
    "\n",
    "        x += input_tensor\n",
    "        return tf.nn.relu(x)\n",
    "\n",
    "\n",
    "block = ResnetIdentityBlock(1, [1, 2, 3])"
   ]
  },
  {
   "cell_type": "code",
   "execution_count": 11,
   "id": "4f36e41a-89a1-4c18-a4c3-cffdc912b345",
   "metadata": {},
   "outputs": [],
   "source": [
    "_ = block(tf.zeros([1, 2, 3, 3]))"
   ]
  },
  {
   "cell_type": "code",
   "execution_count": 12,
   "id": "9c14db3a-2b98-4652-afbd-d3e1343db570",
   "metadata": {},
   "outputs": [
    {
     "data": {
      "text/plain": [
       "[<keras.layers.convolutional.Conv2D at 0x7f006c806e50>,\n",
       " <keras.layers.normalization.batch_normalization.BatchNormalization at 0x7f003f9fc100>,\n",
       " <keras.layers.convolutional.Conv2D at 0x7f001c3b7460>,\n",
       " <keras.layers.normalization.batch_normalization.BatchNormalization at 0x7f001c3b7220>,\n",
       " <keras.layers.convolutional.Conv2D at 0x7f001c3bbaf0>,\n",
       " <keras.layers.normalization.batch_normalization.BatchNormalization at 0x7f001c3bb3d0>]"
      ]
     },
     "execution_count": 12,
     "metadata": {},
     "output_type": "execute_result"
    }
   ],
   "source": [
    "block.layers"
   ]
  },
  {
   "cell_type": "code",
   "execution_count": 13,
   "id": "f7789ae5-e61c-4865-a2f7-d00cfd60434c",
   "metadata": {},
   "outputs": [
    {
     "data": {
      "text/plain": [
       "18"
      ]
     },
     "execution_count": 13,
     "metadata": {},
     "output_type": "execute_result"
    }
   ],
   "source": [
    "len(block.variables)"
   ]
  },
  {
   "cell_type": "code",
   "execution_count": 14,
   "id": "ab8821e8-9cf5-4db7-9e59-d1daaa1b9a78",
   "metadata": {},
   "outputs": [
    {
     "name": "stdout",
     "output_type": "stream",
     "text": [
      "Model: \"\"\n",
      "_________________________________________________________________\n",
      " Layer (type)                Output Shape              Param #   \n",
      "=================================================================\n",
      " conv2d (Conv2D)             multiple                  4         \n",
      "                                                                 \n",
      " batch_normalization (BatchN  multiple                 4         \n",
      " ormalization)                                                   \n",
      "                                                                 \n",
      " conv2d_1 (Conv2D)           multiple                  4         \n",
      "                                                                 \n",
      " batch_normalization_1 (Batc  multiple                 8         \n",
      " hNormalization)                                                 \n",
      "                                                                 \n",
      " conv2d_2 (Conv2D)           multiple                  9         \n",
      "                                                                 \n",
      " batch_normalization_2 (Batc  multiple                 12        \n",
      " hNormalization)                                                 \n",
      "                                                                 \n",
      "=================================================================\n",
      "Total params: 41\n",
      "Trainable params: 29\n",
      "Non-trainable params: 12\n",
      "_________________________________________________________________\n"
     ]
    }
   ],
   "source": [
    "block.summary()"
   ]
  },
  {
   "cell_type": "code",
   "execution_count": 15,
   "id": "353abed3-5556-45e0-b453-c6cac104f597",
   "metadata": {},
   "outputs": [
    {
     "data": {
      "text/plain": [
       "<tf.Tensor: shape=(1, 2, 3, 3), dtype=float32, numpy=\n",
       "array([[[[0., 0., 0.],\n",
       "         [0., 0., 0.],\n",
       "         [0., 0., 0.]],\n",
       "\n",
       "        [[0., 0., 0.],\n",
       "         [0., 0., 0.],\n",
       "         [0., 0., 0.]]]], dtype=float32)>"
      ]
     },
     "execution_count": 15,
     "metadata": {},
     "output_type": "execute_result"
    }
   ],
   "source": [
    "#\n",
    "# Construcción de un modelo de capas apiladas\n",
    "#\n",
    "my_seq = tf.keras.Sequential(\n",
    "    [\n",
    "        tf.keras.layers.Conv2D(1, (1, 1), input_shape=(None, None, 3)),\n",
    "        tf.keras.layers.BatchNormalization(),\n",
    "        tf.keras.layers.Conv2D(2, 1, padding=\"same\"),\n",
    "        tf.keras.layers.BatchNormalization(),\n",
    "        tf.keras.layers.Conv2D(3, (1, 1)),\n",
    "        tf.keras.layers.BatchNormalization(),\n",
    "    ]\n",
    ")\n",
    "my_seq(tf.zeros([1, 2, 3, 3]))"
   ]
  },
  {
   "cell_type": "code",
   "execution_count": 16,
   "id": "a3c77c50-fb65-4e6e-919f-bbe7f80b6827",
   "metadata": {},
   "outputs": [
    {
     "name": "stdout",
     "output_type": "stream",
     "text": [
      "Model: \"sequential\"\n",
      "_________________________________________________________________\n",
      " Layer (type)                Output Shape              Param #   \n",
      "=================================================================\n",
      " conv2d_3 (Conv2D)           (None, None, None, 1)     4         \n",
      "                                                                 \n",
      " batch_normalization_3 (Batc  (None, None, None, 1)    4         \n",
      " hNormalization)                                                 \n",
      "                                                                 \n",
      " conv2d_4 (Conv2D)           (None, None, None, 2)     4         \n",
      "                                                                 \n",
      " batch_normalization_4 (Batc  (None, None, None, 2)    8         \n",
      " hNormalization)                                                 \n",
      "                                                                 \n",
      " conv2d_5 (Conv2D)           (None, None, None, 3)     9         \n",
      "                                                                 \n",
      " batch_normalization_5 (Batc  (None, None, None, 3)    12        \n",
      " hNormalization)                                                 \n",
      "                                                                 \n",
      "=================================================================\n",
      "Total params: 41\n",
      "Trainable params: 29\n",
      "Non-trainable params: 12\n",
      "_________________________________________________________________\n"
     ]
    }
   ],
   "source": [
    "my_seq.summary()"
   ]
  }
 ],
 "metadata": {
  "kernelspec": {
   "display_name": "Python 3 (ipykernel)",
   "language": "python",
   "name": "python3"
  },
  "language_info": {
   "codemirror_mode": {
    "name": "ipython",
    "version": 3
   },
   "file_extension": ".py",
   "mimetype": "text/x-python",
   "name": "python",
   "nbconvert_exporter": "python",
   "pygments_lexer": "ipython3",
   "version": "3.9.10"
  }
 },
 "nbformat": 4,
 "nbformat_minor": 5
}
