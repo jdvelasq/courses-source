{
 "cells": [
  {
   "cell_type": "markdown",
   "metadata": {
    "toc-hr-collapsed": false
   },
   "source": [
    "Taller --- Selección de variables hacia adelante (forward) usando criterios de información\n",
    "===\n",
    "\n",
    "* *45 min* | Ultima modificación: Marzo 10, 2021"
   ]
  },
  {
   "cell_type": "markdown",
   "metadata": {},
   "source": [
    "Implemente una estrategía forward de selección de variables relevantes a partir del código suministrado."
   ]
  },
  {
   "cell_type": "code",
   "execution_count": 1,
   "metadata": {},
   "outputs": [
    {
     "data": {
      "image/png": "[encoded data removed]",
      "text/plain": [
       "<Figure size 432x288 with 1 Axes>"
      ]
     },
     "metadata": {
      "needs_background": "light"
     },
     "output_type": "display_data"
    },
    {
     "name": "stdout",
     "output_type": "stream",
     "text": [
      "                                 OLS Regression Results                                \n",
      "=======================================================================================\n",
      "Dep. Variable:                      y   R-squared (uncentered):                   0.959\n",
      "Model:                            OLS   Adj. R-squared (uncentered):              0.958\n",
      "Method:                 Least Squares   F-statistic:                              1155.\n",
      "Date:                Wed, 10 Mar 2021   Prob (F-statistic):                   5.01e-135\n",
      "Time:                        23:55:36   Log-Likelihood:                         -790.65\n",
      "No. Observations:                 200   AIC:                                      1589.\n",
      "Df Residuals:                     196   BIC:                                      1603.\n",
      "Df Model:                           4                                                  \n",
      "Covariance Type:            nonrobust                                                  \n",
      "==============================================================================\n",
      "                 coef    std err          t      P>|t|      [0.025      0.975]\n",
      "------------------------------------------------------------------------------\n",
      "x1            66.3268      0.983     67.492      0.000      64.389      68.265\n",
      "x2            -0.2731      0.923     -0.296      0.768      -2.092       1.546\n",
      "x3            -0.6180      0.982     -0.629      0.530      -2.555       1.319\n",
      "x4            -0.3032      0.970     -0.313      0.755      -2.215       1.609\n",
      "==============================================================================\n",
      "Omnibus:                        0.546   Durbin-Watson:                   2.002\n",
      "Prob(Omnibus):                  0.761   Jarque-Bera (JB):                0.615\n",
      "Skew:                          -0.122   Prob(JB):                        0.735\n",
      "Kurtosis:                       2.879   Cond. No.                         1.14\n",
      "==============================================================================\n",
      "\n",
      "Warnings:\n",
      "[1] Standard Errors assume that the covariance matrix of the errors is correctly specified.\n"
     ]
    },
    {
     "name": "stderr",
     "output_type": "stream",
     "text": [
      "/usr/local/lib/python3.6/dist-packages/statsmodels/tools/_testing.py:19: FutureWarning: pandas.util.testing is deprecated. Use the functions in the public API at pandas.testing instead.\n",
      "  import pandas.util.testing as tm\n"
     ]
    }
   ],
   "source": [
    "import math\n",
    "import matplotlib.pyplot as plt\n",
    "import numpy as np\n",
    "\n",
    "%matplotlib inline\n",
    "\n",
    "#\n",
    "# A continuación se genera una muestra de 200 datos, con\n",
    "# cuatro variables independientes, pero solo una explicativa\n",
    "#\n",
    "from sklearn.datasets import make_regression\n",
    "\n",
    "np.random.seed(12345)\n",
    "\n",
    "X, d = make_regression(\n",
    "    n_samples=200,\n",
    "    n_features=4,\n",
    "    n_informative=1,\n",
    "    bias=0.0,  # intercepto\n",
    "    effective_rank=None,  # numero de vectores singulares para explicar los datos\n",
    "    tail_strength=0.9,  # ? importancia relativa de las colas\n",
    "    noise=12.0,\n",
    "    shuffle=False,  # ?\n",
    "    coef=False,  # ?coeficientes de la regresion\n",
    "    random_state=12136,\n",
    ")\n",
    "\n",
    "#\n",
    "# Grafica de la variable dependiente contra\n",
    "# la variable explicativa\n",
    "#\n",
    "plt.scatter(X[:, 0], d)\n",
    "plt.show()\n",
    "\n",
    "#\n",
    "# A continuación se estima el modelo de regresión lineal\n",
    "# con las 4 variables independientes\n",
    "#\n",
    "import statsmodels.api as sm\n",
    "\n",
    "model = sm.OLS(d, X)\n",
    "results = model.fit()\n",
    "print(results.summary())"
   ]
  }
 ],
 "metadata": {
  "kernelspec": {
   "display_name": "Python 3",
   "language": "python",
   "name": "python3"
  },
  "language_info": {
   "codemirror_mode": {
    "name": "ipython",
    "version": 3
   },
   "file_extension": ".py",
   "mimetype": "text/x-python",
   "name": "python",
   "nbconvert_exporter": "python",
   "pygments_lexer": "ipython3",
   "version": "3.6.9"
  }
 },
 "nbformat": 4,
 "nbformat_minor": 4
}
