{
 "cells": [
  {
   "cell_type": "markdown",
   "metadata": {
    "toc-hr-collapsed": false
   },
   "source": [
    "Taller --- Función epsilon cuadrada insensitiva\n",
    "===\n",
    "\n",
    "* *30 min* | Ultima modificación: Marzo 10, 2021"
   ]
  },
  {
   "cell_type": "markdown",
   "metadata": {},
   "source": [
    "Modifique el siguiente código para usar la función $\\epsilon^2$-insensitiva como función de pérdida. ¿Cuál es el rango de valores de $\\epsilon$ que deberían usarse?"
   ]
  },
  {
   "cell_type": "code",
   "execution_count": 1,
   "metadata": {},
   "outputs": [],
   "source": [
    "import math\n",
    "\n",
    "import numpy as np\n",
    "\n",
    "import matplotlib.pyplot as plt\n",
    "\n",
    "%matplotlib inline"
   ]
  },
  {
   "cell_type": "code",
   "execution_count": 2,
   "metadata": {},
   "outputs": [],
   "source": [
    "#\n",
    "# Este código es independiente de la función de\n",
    "# pérdida utilizada.\n",
    "#\n",
    "def mejora(w, loss, mu, delta=0.001):\n",
    "    def grd_loss(w):\n",
    "        #\n",
    "        # Aproximación numérica del gradiente\n",
    "        #\n",
    "        grd = []\n",
    "        L0, _ = loss(w)\n",
    "        for i in range(len(w)):\n",
    "            w[i] += delta\n",
    "            L, _ = loss(w)\n",
    "            grd.append((L - L0) / delta)\n",
    "            w[i] -= delta\n",
    "        return grd\n",
    "\n",
    "    grd = grd_loss(w)\n",
    "    w = [u - mu * g for u, g in zip(w, grd)]\n",
    "    return w"
   ]
  },
  {
   "cell_type": "code",
   "execution_count": 3,
   "metadata": {},
   "outputs": [],
   "source": [
    "def f(x):\n",
    "    result = [\n",
    "        math.exp(0.10 * u + 0.5) if u < 5 else math.exp(0.15 * u + 0.7) for u in x\n",
    "    ]\n",
    "    return np.array(result)"
   ]
  },
  {
   "cell_type": "code",
   "execution_count": 4,
   "metadata": {},
   "outputs": [
    {
     "data": {
      "image/png": "[encoded data removed]",
      "text/plain": [
       "<Figure size 432x288 with 1 Axes>"
      ]
     },
     "metadata": {
      "needs_background": "light"
     },
     "output_type": "display_data"
    }
   ],
   "source": [
    "np.random.seed(12345)\n",
    "x_real = np.linspace(start=0, stop=10, num=100)\n",
    "x_data = np.linspace(start=0, stop=10, num=16)\n",
    "d_real = f(x_real)\n",
    "d_data = f(x_data) + np.random.normal(0, 0.3, len(x_data))\n",
    "\n",
    "# introduce un outlier en los datos de entrenamiento\n",
    "d_data[13] = 0\n",
    "\n",
    "plt.plot(x_real, d_real, \"--\", color=\"gray\")\n",
    "plt.plot(x_data, d_data, \"o\", color=\"black\")\n",
    "plt.show()"
   ]
  },
  {
   "cell_type": "code",
   "execution_count": 5,
   "metadata": {},
   "outputs": [],
   "source": [
    "# selecciona aleatoriamente 10 elementos del conjunto de datos\n",
    "index = sorted(np.random.choice(len(x_data), 12, replace=False))\n",
    "\n",
    "# muestra usada para estimar los parámetros del modelo\n",
    "x_fit = x_data[index]\n",
    "d_fit = d_data[index]\n",
    "\n",
    "# muestra usada para evaluar la generalización\n",
    "x_test = np.delete(x_data, index)\n",
    "d_test = np.delete(d_data, index)"
   ]
  },
  {
   "cell_type": "code",
   "execution_count": 6,
   "metadata": {},
   "outputs": [],
   "source": [
    "def g(w, x):\n",
    "    return np.exp(w[0] + w[1] * x)"
   ]
  },
  {
   "cell_type": "code",
   "execution_count": 7,
   "metadata": {},
   "outputs": [],
   "source": [
    "epsilon = 1\n",
    "\n",
    "\n",
    "def huber_loss(w):\n",
    "    y_fit = g(w, x_fit)\n",
    "    y_test = g(w, x_test)\n",
    "    e_fit = abs(d_fit - y_fit)\n",
    "    e_test = abs(d_test - y_test)\n",
    "    loss_fit = sum(\n",
    "        [\n",
    "            0.5 * np.power(e, 2)\n",
    "            if e <= epsilon\n",
    "            else epsilon * e - 0.5 * epsilon * epsilon\n",
    "            for e in e_fit\n",
    "        ]\n",
    "    )\n",
    "    loss_test = sum(\n",
    "        [\n",
    "            0.5 * np.power(e, 2)\n",
    "            if e <= epsilon\n",
    "            else epsilon * e - 0.5 * epsilon * epsilon\n",
    "            for e in e_test\n",
    "        ]\n",
    "    )\n",
    "    return loss_fit, loss_test"
   ]
  },
  {
   "cell_type": "code",
   "execution_count": 8,
   "metadata": {},
   "outputs": [
    {
     "data": {
      "image/png": "[encoded data removed]",
      "text/plain": [
       "<Figure size 432x288 with 1 Axes>"
      ]
     },
     "metadata": {
      "needs_background": "light"
     },
     "output_type": "display_data"
    }
   ],
   "source": [
    "w = [0.9, 0.20]  # coeficientes iniciales\n",
    "\n",
    "loss_fit, loss_test = huber_loss(w)\n",
    "history_loss_fit = [loss_fit]\n",
    "history_loss_test = [loss_test]\n",
    "\n",
    "for epoch in range(5000):\n",
    "    w = mejora(w, huber_loss, 0.0001)\n",
    "    loss_fit, loss_test = huber_loss(w)\n",
    "    history_loss_fit.append(loss_fit)\n",
    "    history_loss_test.append(loss_test)\n",
    "\n",
    "y_real = g(w, x_real)\n",
    "\n",
    "plt.plot(x_data, d_data, \"o\", color=\"black\")\n",
    "plt.plot(x_real, d_real, \"--\", color=\"black\")\n",
    "plt.plot(x_real, y_real, color=\"red\")\n",
    "plt.plot(x_test, d_test, \"o\", color=\"black\", fillstyle=\"none\", markersize=11)\n",
    "plt.show()"
   ]
  }
 ],
 "metadata": {
  "kernelspec": {
   "display_name": "Python 3",
   "language": "python",
   "name": "python3"
  },
  "language_info": {
   "codemirror_mode": {
    "name": "ipython",
    "version": 3
   },
   "file_extension": ".py",
   "mimetype": "text/x-python",
   "name": "python",
   "nbconvert_exporter": "python",
   "pygments_lexer": "ipython3",
   "version": "3.6.9"
  }
 },
 "nbformat": 4,
 "nbformat_minor": 4
}
