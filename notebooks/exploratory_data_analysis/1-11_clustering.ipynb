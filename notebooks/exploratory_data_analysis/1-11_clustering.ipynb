{
 "cells": [
  {
   "cell_type": "markdown",
   "id": "b0d7aa9d-91e7-45e9-81f1-a1fde3559882",
   "metadata": {
    "slideshow": {
     "slide_type": "slide"
    },
    "tags": []
   },
   "source": [
    "Clustering\n",
    "===\n"
   ]
  },
  {
   "cell_type": "markdown",
   "id": "d4cc2228-8197-4b81-b6e5-402cfba79533",
   "metadata": {},
   "source": [
    "Pendiente"
   ]
  }
 ],
 "metadata": {
  "kernelspec": {
   "display_name": "Python 3",
   "language": "python",
   "name": "python3"
  },
  "language_info": {
   "codemirror_mode": {
    "name": "ipython",
    "version": 3
   },
   "file_extension": ".py",
   "mimetype": "text/x-python",
   "name": "python",
   "nbconvert_exporter": "python",
   "pygments_lexer": "ipython3",
   "version": "3.6.9"
  }
 },
 "nbformat": 4,
 "nbformat_minor": 5
}
