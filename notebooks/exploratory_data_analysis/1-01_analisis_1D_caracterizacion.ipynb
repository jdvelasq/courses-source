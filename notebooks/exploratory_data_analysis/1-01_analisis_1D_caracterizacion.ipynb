{
 "cells": [
  {
   "cell_type": "markdown",
   "id": "32bbcf32-aff6-48f2-84b3-aa388ff8aa45",
   "metadata": {
    "slideshow": {
     "slide_type": "slide"
    }
   },
   "source": [
    "Análisis 1D --- Caracterización de los Datos\n",
    "===\n",
    "\n",
    "* 60:00 min | Última modificación: Abril 5, 2021 | [YouTube]()"
   ]
  },
  {
   "cell_type": "markdown",
   "id": "c5863fb5-2877-4659-b02d-d983ee466da2",
   "metadata": {},
   "source": [
    "## Introducción"
   ]
  },
  {
   "cell_type": "markdown",
   "id": "af0917d4-d267-4b24-b9d6-10decbfb2541",
   "metadata": {
    "jp-MarkdownHeadingCollapsed": true,
    "tags": []
   },
   "source": [
    "**Qué es?**\n",
    "\n",
    "Es una aproximación metodológica y filosófica para organizar, graficar y resumir los datos, de tal forma que se puedan resolver **preguntas de interés**.\n",
    "\n",
    "El análisis exploratorio de datos busca:\n",
    "\n",
    "* Mejorar la comprensión y aumentar el conocimiento.\n",
    "\n",
    "* Generar y confirmar una o más hipótesis.\n",
    "\n",
    "* Construir una intuición y ganar insights sobre los datos.\n",
    "\n",
    "* Formular conclusiones válidas.\n",
    "\n",
    "* Ayudar en análisis de decisiones y planeamiento.\n",
    "\n",
    "* Ayudar en análisis causal."
   ]
  },
  {
   "cell_type": "markdown",
   "id": "09a2cc09-abfd-42ca-aef6-560410f8d10d",
   "metadata": {
    "tags": []
   },
   "source": [
    "**Proceso metodológico.**\n",
    "\n",
    "* **Fase Previa**: ingestión y limpieza de datos.\n",
    "\n",
    "* Exploración 1-D.\n",
    "\n",
    "* Exploración 2-D.\n",
    "\n",
    "* Exploración N-D.\n",
    "\n",
    "* Análisis Factorial.\n",
    "\n",
    "* Clustering.\n",
    "\n",
    "* Selección de Características.\n",
    "\n",
    "* Ingeniería de Características.\n",
    "\n",
    "* **Fase Posterior:** Sintetización, comunicación y decisión."
   ]
  },
  {
   "cell_type": "markdown",
   "id": "f960e006-421c-4376-9ae9-f3837bb7e296",
   "metadata": {},
   "source": [
    "## Definiciones y conceptos básicos"
   ]
  },
  {
   "cell_type": "markdown",
   "id": "23ebdea7-74f4-4c4b-9d69-e834c90f8e0d",
   "metadata": {},
   "source": [
    "![assets/pob-muestra.jpg](assets/pob-muestra.jpg)"
   ]
  },
  {
   "cell_type": "markdown",
   "id": "66b70617-46a5-45e6-8a73-db9a77e7e1ec",
   "metadata": {},
   "source": [
    "**Análisis exploratorio de datos**. En el análisis exploratorio de datos se busca obtener información de interés de la población a partir de una muestra que es representativa de la población. En términos más formales, se usa para generar hipótesis sobre los datos, tales como:"
   ]
  },
  {
   "cell_type": "markdown",
   "id": "4770acf7-45bc-4b46-8b26-b9497a6353c8",
   "metadata": {},
   "source": [
    "* Ubicación del centro de los datos."
   ]
  },
  {
   "cell_type": "markdown",
   "id": "3a760889-a960-4830-bdb0-303a05a756e4",
   "metadata": {},
   "source": [
    "* Dispersión de los datos."
   ]
  },
  {
   "cell_type": "markdown",
   "id": "6a166752-353f-40fc-a3fa-591a5d0497c9",
   "metadata": {},
   "source": [
    "* Distribución de probabilidades de los datos."
   ]
  },
  {
   "cell_type": "markdown",
   "id": "92383b65-1729-4057-b624-693c19bfe7df",
   "metadata": {},
   "source": [
    "* Relaciones entre los datos."
   ]
  },
  {
   "cell_type": "markdown",
   "id": "854dccbe-8423-487f-a9d1-1203f859d9cd",
   "metadata": {},
   "source": [
    "Uno de los objetivos fundamentales en estadística es estimar el valor de un parámetro de la población mediante un estadístico calculado sobre la muestra. \n",
    "\n",
    "Existen dos aproximaciones para estimar características de la población:\n",
    "\n",
    "* Estimación de intervalos de confianza: usualmente para estadísticos calculados sobre la muestra de datos.  \n",
    "\n",
    "* Pruebas de hipótesis: para propiedades más complejas de la población, como por ejemplo su distribución de probabilidades o relaciones de dependencia entre variables."
   ]
  },
  {
   "cell_type": "markdown",
   "id": "83c3ba8e-e7e5-4896-810c-1ebb30811c22",
   "metadata": {},
   "source": [
    "**Población**: Colección de objetos o individuos sobre los cuales se desea obtener información de interés.\n",
    "\n",
    "**Parámetro:** Un número que resume una propiedad o característica de la población entera. \n",
    "\n",
    "**Muestra:** Grupo obtenido aleatoriamente que es representativo de la población.\n",
    "\n",
    "**Estadístico:** Un número que resume una propiedad o característica de la muestra. "
   ]
  },
  {
   "cell_type": "markdown",
   "id": "1170c053-cc1b-4fed-909a-f8b758a26bce",
   "metadata": {},
   "source": [
    "**Tipos de datos:** Los tipos de datos son los siguientes:\n",
    "\n",
    "* Continuos (flotante, numérico)\n",
    "* Discretos (enteros)\n",
    "* Categóricos (enumeraciones, fctores, valores nominales).\n",
    "* Binarios (Indicadores, lógicos)\n",
    "* Ordinales (Categóricos con un ordenamiento explícito, factores ordenados)."
   ]
  },
  {
   "cell_type": "markdown",
   "id": "d24198a6-6a38-4ab5-b72a-f0f029294210",
   "metadata": {},
   "source": [
    "**Datos rectagulares:** Datos organizados en una tabla.\n",
    "\n",
    "* Feature: característica, atributo, entrada, predictor, variable independiente.\n",
    "* Outcome: resultado, variable dependiente, respuesta, objetivo, salida.\n",
    "* Registro: fila en una tabla de datos, también conocida como caso, ejemplo, instancia, observación, patrón o muestra.\n"
   ]
  },
  {
   "cell_type": "markdown",
   "id": "96a95a45-6ae1-43e2-88c7-d589592ff9be",
   "metadata": {},
   "source": [
    "## Caracterización de los datos"
   ]
  },
  {
   "cell_type": "markdown",
   "id": "d5b12035-46a8-4090-bc27-72037bdb2db8",
   "metadata": {},
   "source": [
    "Medidas de tendencia central y dispesión:\n",
    "\n",
    "* Concentración local: media, moda, mediana, quartiles.\n",
    "\n",
    "* Dispersión: desviación estándar, varianza.\n",
    "\n",
    "* Forma: Curtosis y asimetría."
   ]
  },
  {
   "cell_type": "markdown",
   "id": "d5e8b720-5ec7-4b5f-bb5d-371fa4514667",
   "metadata": {},
   "source": [
    "## Carga de los datos"
   ]
  },
  {
   "cell_type": "code",
   "execution_count": 2,
   "id": "5b44d54e-9bf5-48cc-97f4-057a81eafe0d",
   "metadata": {},
   "outputs": [],
   "source": [
    "import numpy as np\n",
    "import pandas as pd\n",
    "import matplotlib.pyplot as plt\n",
    "import seaborn as sns"
   ]
  },
  {
   "cell_type": "code",
   "execution_count": 3,
   "id": "385db3bf-c225-4517-9681-c9da35eef34e",
   "metadata": {},
   "outputs": [
    {
     "data": {
      "text/html": [
       "<div>\n",
       "<style scoped>\n",
       "    .dataframe tbody tr th:only-of-type {\n",
       "        vertical-align: middle;\n",
       "    }\n",
       "\n",
       "    .dataframe tbody tr th {\n",
       "        vertical-align: top;\n",
       "    }\n",
       "\n",
       "    .dataframe thead th {\n",
       "        text-align: right;\n",
       "    }\n",
       "</style>\n",
       "<table border=\"1\" class=\"dataframe\">\n",
       "  <thead>\n",
       "    <tr style=\"text-align: right;\">\n",
       "      <th></th>\n",
       "      <th>Sepal_Length</th>\n",
       "      <th>Sepal_Width</th>\n",
       "      <th>Petal_Length</th>\n",
       "      <th>Petal_Width</th>\n",
       "      <th>Species</th>\n",
       "    </tr>\n",
       "  </thead>\n",
       "  <tbody>\n",
       "    <tr>\n",
       "      <th>0</th>\n",
       "      <td>5.1</td>\n",
       "      <td>3.5</td>\n",
       "      <td>1.4</td>\n",
       "      <td>0.2</td>\n",
       "      <td>setosa</td>\n",
       "    </tr>\n",
       "    <tr>\n",
       "      <th>1</th>\n",
       "      <td>4.9</td>\n",
       "      <td>3.0</td>\n",
       "      <td>1.4</td>\n",
       "      <td>0.2</td>\n",
       "      <td>setosa</td>\n",
       "    </tr>\n",
       "    <tr>\n",
       "      <th>2</th>\n",
       "      <td>4.7</td>\n",
       "      <td>3.2</td>\n",
       "      <td>1.3</td>\n",
       "      <td>0.2</td>\n",
       "      <td>setosa</td>\n",
       "    </tr>\n",
       "    <tr>\n",
       "      <th>3</th>\n",
       "      <td>4.6</td>\n",
       "      <td>3.1</td>\n",
       "      <td>1.5</td>\n",
       "      <td>0.2</td>\n",
       "      <td>setosa</td>\n",
       "    </tr>\n",
       "    <tr>\n",
       "      <th>4</th>\n",
       "      <td>5.0</td>\n",
       "      <td>3.6</td>\n",
       "      <td>1.4</td>\n",
       "      <td>0.2</td>\n",
       "      <td>setosa</td>\n",
       "    </tr>\n",
       "  </tbody>\n",
       "</table>\n",
       "</div>"
      ],
      "text/plain": [
       "   Sepal_Length  Sepal_Width  Petal_Length  Petal_Width Species\n",
       "0           5.1          3.5           1.4          0.2  setosa\n",
       "1           4.9          3.0           1.4          0.2  setosa\n",
       "2           4.7          3.2           1.3          0.2  setosa\n",
       "3           4.6          3.1           1.5          0.2  setosa\n",
       "4           5.0          3.6           1.4          0.2  setosa"
      ]
     },
     "execution_count": 3,
     "metadata": {},
     "output_type": "execute_result"
    }
   ],
   "source": [
    "#\n",
    "# Para ejemplificar se usará la base de datos del Iris\n",
    "#\n",
    "data = pd.read_csv(\n",
    "    \"https://raw.githubusercontent.com/jdvelasq/playground/master/datasets/iris.csv\"\n",
    ")\n",
    "\n",
    "data.head()"
   ]
  },
  {
   "cell_type": "markdown",
   "id": "b39954ae-fd1b-4933-9dc2-6272a71bdde3",
   "metadata": {},
   "source": [
    "## Medidas de concentración local"
   ]
  },
  {
   "cell_type": "markdown",
   "id": "dd8f32c3-2ed7-4417-a9a6-5f4e180aa8e9",
   "metadata": {},
   "source": [
    "**Media o promedio muestral:**\n",
    "\n",
    "Valor \"típico\" de los datos.\n",
    "\n",
    "$$\\bar{x} = \\frac{1}{n} \\sum_{i=1}^n x_i$$"
   ]
  },
  {
   "cell_type": "code",
   "execution_count": 9,
   "id": "ff30cd63-3b49-4273-8a6e-9315ba4b6a8d",
   "metadata": {},
   "outputs": [
    {
     "data": {
      "text/plain": [
       "5.843333333333334"
      ]
     },
     "metadata": {},
     "output_type": "display_data"
    },
    {
     "data": {
      "text/plain": [
       "5.843333333333334"
      ]
     },
     "metadata": {},
     "output_type": "display_data"
    },
    {
     "data": {
      "text/plain": [
       "5.843333333333334"
      ]
     },
     "metadata": {},
     "output_type": "display_data"
    }
   ],
   "source": [
    "#\n",
    "# Cálculo para cada una de las columnas del\n",
    "# dataframe\n",
    "#\n",
    "from statistics import mean\n",
    "\n",
    "display(\n",
    "    data.Sepal_Length.mean(),\n",
    "    mean(data.Sepal_Length),\n",
    "    np.mean(data.Sepal_Length)\n",
    ")"
   ]
  },
  {
   "cell_type": "code",
   "execution_count": 4,
   "id": "98242151-12f8-40ec-9946-d5377a2fa01a",
   "metadata": {},
   "outputs": [
    {
     "data": {
      "text/plain": [
       "Sepal_Length    5.843333\n",
       "Sepal_Width     3.057333\n",
       "Petal_Length    3.758000\n",
       "Petal_Width     1.199333\n",
       "dtype: float64"
      ]
     },
     "execution_count": 4,
     "metadata": {},
     "output_type": "execute_result"
    }
   ],
   "source": [
    "#\n",
    "# Cálculo para las columnas numéricas del\n",
    "# dataframe\n",
    "#\n",
    "data.mean()"
   ]
  },
  {
   "cell_type": "markdown",
   "id": "ba2b6ac0-1396-4f96-b23e-7c161f8d9cf3",
   "metadata": {},
   "source": [
    "**Media ponderada:** \n",
    "\n",
    "$$\\bar{x} = \\frac{1}{\\sum_{i=1}^n w_i} \\sum_{i=1}^n w_i x_i$$"
   ]
  },
  {
   "cell_type": "markdown",
   "id": "b4e809b8-adc5-4c78-86d0-f2c038a091c5",
   "metadata": {},
   "source": [
    "**Outlier o valor atípico:** \n",
    "\n",
    "Valores extremadamente distantes del resto de los datos. En algunos casos se pueden definir en términos de la media y la desviación estándar de la muestra; por ejemplo, se considera outliers aquellas observaciones distantes más de 3.5$\\sigma$ de la media. "
   ]
  },
  {
   "cell_type": "markdown",
   "id": "e2ad25e0-18e6-4f0f-8dce-168315c02bbd",
   "metadata": {},
   "source": [
    "**Media truncada:** \n",
    "\n",
    "Se calcula la media sobre los datos después de eliminar los $p$ datos más pequeños y los $p$ datos más grandes. Si $x_{(1)}$, $x_{2}$, ..., $x_{(n)}$ representan los datos ordenados, donde $x_{(1)}$ es el dato más pequeño y $x_{(n)}$ el más grande, entonces la media truncada se calcula como:\n",
    "\n",
    "$$\\frac{1}{n-2p} \\sum_{i=1+p}^{n-p} x_i$$"
   ]
  },
  {
   "cell_type": "markdown",
   "id": "e7c6ccdf-4fd6-4abe-9e36-cf1e541f3e1d",
   "metadata": {},
   "source": [
    "**Mediana:** \n",
    "\n",
    "Es el valor $x_{((n+1)/2)}$ cuando se ordenan los datos. Es una aproximación robusta (no influenciada por datos atípicos o distribuciones asimétricas."
   ]
  },
  {
   "cell_type": "code",
   "execution_count": 13,
   "id": "4f9518ab-4482-4e06-8082-0970073cf928",
   "metadata": {},
   "outputs": [
    {
     "data": {
      "text/plain": [
       "5.8"
      ]
     },
     "metadata": {},
     "output_type": "display_data"
    },
    {
     "data": {
      "text/plain": [
       "5.8"
      ]
     },
     "metadata": {},
     "output_type": "display_data"
    },
    {
     "data": {
      "text/plain": [
       "5.8"
      ]
     },
     "metadata": {},
     "output_type": "display_data"
    }
   ],
   "source": [
    "from statistics import median\n",
    "\n",
    "display(\n",
    "    data.Sepal_Length.median(),\n",
    "    median(data.Sepal_Length),\n",
    "    np.median(data.Sepal_Length),\n",
    ")"
   ]
  },
  {
   "cell_type": "code",
   "execution_count": 6,
   "id": "04945eb1-2092-4d66-ae5d-3df29b06e027",
   "metadata": {},
   "outputs": [
    {
     "data": {
      "text/plain": [
       "Sepal_Length    5.80\n",
       "Sepal_Width     3.00\n",
       "Petal_Length    4.35\n",
       "Petal_Width     1.30\n",
       "dtype: float64"
      ]
     },
     "execution_count": 6,
     "metadata": {},
     "output_type": "execute_result"
    }
   ],
   "source": [
    "df.median()"
   ]
  },
  {
   "cell_type": "markdown",
   "id": "4829bfad-36b1-4738-aa04-3d34d08f407c",
   "metadata": {},
   "source": [
    "**Moda:**"
   ]
  },
  {
   "cell_type": "code",
   "execution_count": 10,
   "id": "bf331795-30f9-4e21-8f41-329453b036fb",
   "metadata": {},
   "outputs": [
    {
     "data": {
      "text/plain": [
       "0    5.0\n",
       "dtype: float64"
      ]
     },
     "metadata": {},
     "output_type": "display_data"
    },
    {
     "data": {
      "text/plain": [
       "5.0"
      ]
     },
     "metadata": {},
     "output_type": "display_data"
    },
    {
     "data": {
      "text/plain": [
       "ModeResult(mode=array([5.]), count=array([10]))"
      ]
     },
     "metadata": {},
     "output_type": "display_data"
    }
   ],
   "source": [
    "from statistics import mode\n",
    "from scipy import stats\n",
    "\n",
    "display(\n",
    "    data.Sepal_Length.mode(),\n",
    "    mode(data.Sepal_Length),\n",
    "    stats.mode(data.Sepal_Length),\n",
    ")"
   ]
  },
  {
   "cell_type": "markdown",
   "id": "0d437ec6-ef6b-40aa-af74-ce26c513db89",
   "metadata": {},
   "source": [
    "## Medidas de Dispersión"
   ]
  },
  {
   "cell_type": "markdown",
   "id": "44a1e19e-68e2-4c56-b00a-b78cc96362ba",
   "metadata": {},
   "source": [
    "Son una medida de dispersión o variabiilidad de los datos, y a como se distribuyen los datos."
   ]
  },
  {
   "cell_type": "markdown",
   "id": "4e4f454d-af38-4f49-be78-27f3d9a771e8",
   "metadata": {},
   "source": [
    "**Desviación:** \n",
    "\n",
    "Diferencia entre el valor observado y el valor estimado de localización. En modelado sus sinónimos son errores o residuales."
   ]
  },
  {
   "cell_type": "markdown",
   "id": "583952b4-1936-45c2-b83d-a20b3a288deb",
   "metadata": {},
   "source": [
    "**Rango:** \n",
    "\n",
    "Diferencia entre el valor más grande y más pequeño de la muestra de los datos."
   ]
  },
  {
   "cell_type": "markdown",
   "id": "b4824bf3-f7b2-4b6c-900a-51048b6503d1",
   "metadata": {},
   "source": [
    "**Varianza muestral:**\n",
    "\n",
    "$$s^2 = \\frac{1}{n-1} \\sum_{i=1}^n (x_i - \\bar{x})^2$$"
   ]
  },
  {
   "cell_type": "code",
   "execution_count": 5,
   "id": "b829cb4f-159f-4a77-ae24-de7d3da25baf",
   "metadata": {},
   "outputs": [
    {
     "data": {
      "text/plain": [
       "0.6856935123042507"
      ]
     },
     "metadata": {},
     "output_type": "display_data"
    },
    {
     "data": {
      "text/plain": [
       "0.6856935123042506"
      ]
     },
     "metadata": {},
     "output_type": "display_data"
    },
    {
     "data": {
      "text/plain": [
       "0.6811222222222223"
      ]
     },
     "metadata": {},
     "output_type": "display_data"
    }
   ],
   "source": [
    "from statistics import variance\n",
    "\n",
    "display(\n",
    "    data.Sepal_Length.var(),\n",
    "    variance(data.Sepal_Length),\n",
    "    np.var(data.Sepal_Length),\n",
    ")"
   ]
  },
  {
   "cell_type": "markdown",
   "id": "f85fe535-1cac-427c-9b1b-bfcc86b3a9e9",
   "metadata": {},
   "source": [
    "**Desviación estándar muestral**.\n",
    "\n",
    "Raíz cuadrada de la varianza muestral."
   ]
  },
  {
   "cell_type": "code",
   "execution_count": 24,
   "id": "df5c76d1-963b-477d-ac93-a7fe2bd80a70",
   "metadata": {},
   "outputs": [
    {
     "data": {
      "text/plain": [
       "0.828066127977863"
      ]
     },
     "metadata": {},
     "output_type": "display_data"
    },
    {
     "data": {
      "text/plain": [
       "0.8280661279778629"
      ]
     },
     "metadata": {},
     "output_type": "display_data"
    },
    {
     "data": {
      "text/plain": [
       "0.8253012917851409"
      ]
     },
     "metadata": {},
     "output_type": "display_data"
    }
   ],
   "source": [
    "from statistics import stdev\n",
    "\n",
    "display(\n",
    "    data.Sepal_Length.std(),\n",
    "    stdev(data.Sepal_Length),\n",
    "    np.std(data.Sepal_Length),\n",
    ")"
   ]
  },
  {
   "cell_type": "code",
   "execution_count": 17,
   "id": "67f2eec4-1911-4650-89fb-8cd996a793a2",
   "metadata": {},
   "outputs": [
    {
     "data": {
      "text/plain": [
       "Sepal_Length    0.828066\n",
       "Sepal_Width     0.435866\n",
       "Petal_Length    1.765298\n",
       "Petal_Width     0.762238\n",
       "dtype: float64"
      ]
     },
     "execution_count": 17,
     "metadata": {},
     "output_type": "execute_result"
    }
   ],
   "source": [
    "df.std()"
   ]
  },
  {
   "cell_type": "markdown",
   "id": "31d560c3-2373-45f5-b5e6-8453503ee3ae",
   "metadata": {},
   "source": [
    "**Desviación media absoluta (MAD):**\n",
    "\n",
    "Norma L1 o distancia de Manhattan.\n",
    "\n",
    "$$\\text{MAD} = \\frac{1}{n} \\sum_{i=1}^n |x_i - \\bar{x}|$$"
   ]
  },
  {
   "cell_type": "code",
   "execution_count": 19,
   "id": "bcd9985a-6e8d-42f1-a18f-f868afbcc12b",
   "metadata": {},
   "outputs": [
    {
     "data": {
      "text/plain": [
       "Sepal_Length    0.687556\n",
       "Sepal_Width     0.336782\n",
       "Petal_Length    1.562747\n",
       "Petal_Width     0.658133\n",
       "dtype: float64"
      ]
     },
     "execution_count": 19,
     "metadata": {},
     "output_type": "execute_result"
    }
   ],
   "source": [
    "df.mad()"
   ]
  },
  {
   "cell_type": "markdown",
   "id": "9281b63c-dc83-43de-bc61-f17649b2eecf",
   "metadata": {},
   "source": [
    "**Desviación absoluta de la mediana:** \n",
    "\n",
    "Ya que la varianza y la desviación media absoluta no son robusta a outliers, se puede realizar un estimado de la desviación usando la mediana $m$ de la muestra:\n",
    "\n",
    "$$\\text{Mediana}(|x_1 - m|,\\; |x_2 - m|,\\;...,\\;|x_n - m|)$$ \n",
    "\n",
    "\n",
    "También es posible computar la varianza muestral truncada en analogía a la media truncada."
   ]
  },
  {
   "cell_type": "code",
   "execution_count": 21,
   "id": "24253578-cd60-4403-9310-ff10ccf61601",
   "metadata": {},
   "outputs": [
    {
     "data": {
      "text/plain": [
       "Sepal_Length    0.687556\n",
       "Sepal_Width     0.336782\n",
       "Petal_Length    1.562747\n",
       "Petal_Width     0.658133\n",
       "dtype: float64"
      ]
     },
     "execution_count": 21,
     "metadata": {},
     "output_type": "execute_result"
    }
   ],
   "source": [
    "def madm(df):\n",
    "    d = df._get_numeric_data().copy()\n",
    "    m = d.median()\n",
    "    for c in d.columns:\n",
    "        d[c] = d[c] - m[c]\n",
    "    return d.mad()\n",
    "\n",
    "\n",
    "madm(df)"
   ]
  },
  {
   "cell_type": "markdown",
   "id": "022f8644-ebd3-4f85-a044-8b12b7f149ef",
   "metadata": {},
   "source": [
    "**Estadísticos de orden:** Métricas calculadas sobre los datos ordenados."
   ]
  },
  {
   "cell_type": "markdown",
   "id": "a5a9efb0-b7e9-4407-8053-d03692522ede",
   "metadata": {},
   "source": [
    "* **Percentil** $p$: Valor para el cual el $p$ por ciento de los datos son menores o iguales. "
   ]
  },
  {
   "cell_type": "markdown",
   "id": "ff2a673e-4ad0-4d25-ac65-886f0a56daa3",
   "metadata": {},
   "source": [
    "* **decil** $d$: Valor para el cual el $d$ por ciento de los datos son menores o iguales. $d$ es un múltiplo de 10."
   ]
  },
  {
   "cell_type": "markdown",
   "id": "458d0291-f35f-4762-ae27-a7b1669803d4",
   "metadata": {},
   "source": [
    "* **Cuartil inferior:** Valor para el cual el 25% de las observaciones son más pequeñas (percentil del 25%)."
   ]
  },
  {
   "cell_type": "markdown",
   "id": "c06e92c7-7e66-4895-b2f0-c8f9d6ba144c",
   "metadata": {},
   "source": [
    "* **Cuartil superior:** Valor para el cual el 25% de las observaciones son más grandes (percentil del 75%)."
   ]
  },
  {
   "cell_type": "markdown",
   "id": "e9badeb3-b9ae-4d2c-9e38-d4728767fd6f",
   "metadata": {},
   "source": [
    "* **Rango intercuartil (IQR):**\n",
    "\n",
    "$$\\text{IQR} = \\text{Cuartil superior} - \\text{Cuartil inferior}$$"
   ]
  },
  {
   "cell_type": "markdown",
   "id": "13046e5f-973b-43f1-a4c2-ca3a3913d8e3",
   "metadata": {},
   "source": [
    "## Médidas de Forma"
   ]
  },
  {
   "cell_type": "code",
   "execution_count": 6,
   "id": "6341293b-e7cc-44c6-a4b5-341889aa447c",
   "metadata": {},
   "outputs": [
    {
     "data": {
      "text/plain": [
       "0.3149109566369728"
      ]
     },
     "metadata": {},
     "output_type": "display_data"
    },
    {
     "data": {
      "text/plain": [
       "0.3117530585022963"
      ]
     },
     "metadata": {},
     "output_type": "display_data"
    }
   ],
   "source": [
    "from scipy.stats import skew\n",
    "\n",
    "display(\n",
    "    data.Sepal_Length.skew(),\n",
    "    skew(data.Sepal_Length),\n",
    ")"
   ]
  },
  {
   "cell_type": "code",
   "execution_count": 7,
   "id": "c5f53ab9-6886-46e0-a11c-6a410c980ba8",
   "metadata": {},
   "outputs": [
    {
     "data": {
      "text/plain": [
       "-0.5520640413156395"
      ]
     },
     "metadata": {},
     "output_type": "display_data"
    },
    {
     "data": {
      "text/plain": [
       "-0.5735679489249765"
      ]
     },
     "metadata": {},
     "output_type": "display_data"
    }
   ],
   "source": [
    "from scipy.stats import kurtosis\n",
    "\n",
    "display(\n",
    "    data.Sepal_Length.kurt(),\n",
    "    kurtosis(data.Sepal_Length),\n",
    ")"
   ]
  },
  {
   "cell_type": "markdown",
   "id": "e652e5ce-469b-4e08-9079-b665cac66732",
   "metadata": {},
   "source": [
    "**Coeficiente de variación (CV):**\n",
    "\n",
    "$$\\text{CV} = 100 \\times \\frac{s}{\\bar{x}}$$"
   ]
  },
  {
   "cell_type": "code",
   "execution_count": 28,
   "id": "186d28c0-f5b5-4d4d-808d-b12f5c55acaa",
   "metadata": {},
   "outputs": [
    {
     "data": {
      "text/plain": [
       "Sepal_Length    14.171126\n",
       "Sepal_Width     14.256420\n",
       "Petal_Length    46.974407\n",
       "Petal_Width     63.555114\n",
       "dtype: float64"
      ]
     },
     "execution_count": 28,
     "metadata": {},
     "output_type": "execute_result"
    }
   ],
   "source": [
    "100 * df.std() / df.mean()"
   ]
  },
  {
   "cell_type": "markdown",
   "id": "bc8db907-7525-45c7-9f54-370bb486c59b",
   "metadata": {},
   "source": [
    "## Método describe"
   ]
  },
  {
   "cell_type": "code",
   "execution_count": 26,
   "id": "b2abc766-2e2d-40d2-bb4f-3588e3f2ed02",
   "metadata": {},
   "outputs": [
    {
     "data": {
      "text/html": [
       "<div>\n",
       "<style scoped>\n",
       "    .dataframe tbody tr th:only-of-type {\n",
       "        vertical-align: middle;\n",
       "    }\n",
       "\n",
       "    .dataframe tbody tr th {\n",
       "        vertical-align: top;\n",
       "    }\n",
       "\n",
       "    .dataframe thead th {\n",
       "        text-align: right;\n",
       "    }\n",
       "</style>\n",
       "<table border=\"1\" class=\"dataframe\">\n",
       "  <thead>\n",
       "    <tr style=\"text-align: right;\">\n",
       "      <th></th>\n",
       "      <th>Sepal_Length</th>\n",
       "      <th>Sepal_Width</th>\n",
       "      <th>Petal_Length</th>\n",
       "      <th>Petal_Width</th>\n",
       "    </tr>\n",
       "  </thead>\n",
       "  <tbody>\n",
       "    <tr>\n",
       "      <th>count</th>\n",
       "      <td>150.000000</td>\n",
       "      <td>150.000000</td>\n",
       "      <td>150.000000</td>\n",
       "      <td>150.000000</td>\n",
       "    </tr>\n",
       "    <tr>\n",
       "      <th>mean</th>\n",
       "      <td>5.843333</td>\n",
       "      <td>3.057333</td>\n",
       "      <td>3.758000</td>\n",
       "      <td>1.199333</td>\n",
       "    </tr>\n",
       "    <tr>\n",
       "      <th>std</th>\n",
       "      <td>0.828066</td>\n",
       "      <td>0.435866</td>\n",
       "      <td>1.765298</td>\n",
       "      <td>0.762238</td>\n",
       "    </tr>\n",
       "    <tr>\n",
       "      <th>min</th>\n",
       "      <td>4.300000</td>\n",
       "      <td>2.000000</td>\n",
       "      <td>1.000000</td>\n",
       "      <td>0.100000</td>\n",
       "    </tr>\n",
       "    <tr>\n",
       "      <th>25%</th>\n",
       "      <td>5.100000</td>\n",
       "      <td>2.800000</td>\n",
       "      <td>1.600000</td>\n",
       "      <td>0.300000</td>\n",
       "    </tr>\n",
       "    <tr>\n",
       "      <th>50%</th>\n",
       "      <td>5.800000</td>\n",
       "      <td>3.000000</td>\n",
       "      <td>4.350000</td>\n",
       "      <td>1.300000</td>\n",
       "    </tr>\n",
       "    <tr>\n",
       "      <th>75%</th>\n",
       "      <td>6.400000</td>\n",
       "      <td>3.300000</td>\n",
       "      <td>5.100000</td>\n",
       "      <td>1.800000</td>\n",
       "    </tr>\n",
       "    <tr>\n",
       "      <th>max</th>\n",
       "      <td>7.900000</td>\n",
       "      <td>4.400000</td>\n",
       "      <td>6.900000</td>\n",
       "      <td>2.500000</td>\n",
       "    </tr>\n",
       "  </tbody>\n",
       "</table>\n",
       "</div>"
      ],
      "text/plain": [
       "       Sepal_Length  Sepal_Width  Petal_Length  Petal_Width\n",
       "count    150.000000   150.000000    150.000000   150.000000\n",
       "mean       5.843333     3.057333      3.758000     1.199333\n",
       "std        0.828066     0.435866      1.765298     0.762238\n",
       "min        4.300000     2.000000      1.000000     0.100000\n",
       "25%        5.100000     2.800000      1.600000     0.300000\n",
       "50%        5.800000     3.000000      4.350000     1.300000\n",
       "75%        6.400000     3.300000      5.100000     1.800000\n",
       "max        7.900000     4.400000      6.900000     2.500000"
      ]
     },
     "execution_count": 26,
     "metadata": {},
     "output_type": "execute_result"
    }
   ],
   "source": [
    "data.describe()"
   ]
  },
  {
   "cell_type": "markdown",
   "id": "0f79b213-fe87-4889-b412-49af0571306a",
   "metadata": {
    "tags": []
   },
   "source": [
    "## Visualización"
   ]
  },
  {
   "cell_type": "code",
   "execution_count": 31,
   "id": "d6894499-0e73-4efc-bca7-8f3e861b3b33",
   "metadata": {},
   "outputs": [
    {
     "data": {
      "text/plain": [
       "count    150.000000\n",
       "mean       5.843333\n",
       "std        0.828066\n",
       "min        4.300000\n",
       "25%        5.100000\n",
       "50%        5.800000\n",
       "75%        6.400000\n",
       "max        7.900000\n",
       "Name: Sepal_Length, dtype: float64"
      ]
     },
     "execution_count": 31,
     "metadata": {},
     "output_type": "execute_result"
    }
   ],
   "source": [
    "#\n",
    "# El método describe de pandas computa los \n",
    "# principales estadísticos para las columnas\n",
    "# numéricas del dataframe\n",
    "#\n",
    "data.Sepal_Length.describe()"
   ]
  },
  {
   "cell_type": "code",
   "execution_count": 35,
   "id": "0e35e5ea-2602-457e-a4c8-135aee051fb5",
   "metadata": {},
   "outputs": [
    {
     "data": {
      "text/plain": [
       "<matplotlib.lines.Line2D at 0x7f426d627b38>"
      ]
     },
     "execution_count": 35,
     "metadata": {},
     "output_type": "execute_result"
    },
    {
     "data": {
      "image/png": "[encoded data removed]",
      "text/plain": [
       "<Figure size 432x288 with 1 Axes>"
      ]
     },
     "metadata": {},
     "output_type": "display_data"
    }
   ],
   "source": [
    "descriptive_stats = data.Sepal_Length.describe()\n",
    "\n",
    "q75 = data.Sepal_Length.describe()['75%']\n",
    "q25 = data.Sepal_Length.describe()['25%']\n",
    "iqr = q75 - q25\n",
    "\n",
    "upper_outliers = q75 + 1.5 * iqr\n",
    "lower_outliers = q25 - 1.5 * iqr\n",
    "\n",
    "sns.set(color_codes=True)\n",
    "\n",
    "sns.kdeplot(data['Sepal_Length'], shade=True)\n",
    "plt.axvline(data.Sepal_Length.mean())\n",
    "plt.axvline(data.Sepal_Length.median(), color='r')\n",
    "plt.axvline(q25, color='g')\n",
    "plt.axvline(q75, color='g')\n",
    "plt.axvline(upper_outliers, color = 'b')\n",
    "plt.axvline(lower_outliers, color = 'b')\n",
    "plt.show()"
   ]
  }
 ],
 "metadata": {
  "kernelspec": {
   "display_name": "Python 3",
   "language": "python",
   "name": "python3"
  },
  "language_info": {
   "codemirror_mode": {
    "name": "ipython",
    "version": 3
   },
   "file_extension": ".py",
   "mimetype": "text/x-python",
   "name": "python",
   "nbconvert_exporter": "python",
   "pygments_lexer": "ipython3",
   "version": "3.6.9"
  }
 },
 "nbformat": 4,
 "nbformat_minor": 5
}
