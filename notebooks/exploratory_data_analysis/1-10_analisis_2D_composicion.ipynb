{
 "cells": [
  {
   "cell_type": "markdown",
   "id": "5ab1f56a-569e-44e0-865d-01f51bb2df31",
   "metadata": {
    "slideshow": {
     "slide_type": "slide"
    },
    "tags": []
   },
   "source": [
    "Análisis 2D --- Graficos de composición\n",
    "===\n",
    "\n",
    "* 60:00 min | Última modificación: Abril 5, 2021 | [YouTube]()"
   ]
  },
  {
   "cell_type": "code",
   "execution_count": null,
   "id": "717e826e-9911-4870-a689-374156bad02e",
   "metadata": {},
   "outputs": [],
   "source": []
  },
  {
   "cell_type": "markdown",
   "id": "537ed8f1-cd42-43ea-8f83-59dac38d0e57",
   "metadata": {
    "tags": []
   },
   "source": [
    "## stackplot()"
   ]
  },
  {
   "cell_type": "code",
   "execution_count": null,
   "id": "605606fb-3b15-48b1-97e7-7034c08061a1",
   "metadata": {},
   "outputs": [],
   "source": []
  },
  {
   "cell_type": "code",
   "execution_count": null,
   "id": "1b57f68e-517f-47cf-81b4-af74be6058bd",
   "metadata": {},
   "outputs": [],
   "source": []
  },
  {
   "cell_type": "code",
   "execution_count": null,
   "id": "a3335ebf-f12c-4de4-b7e2-200822e8fd2a",
   "metadata": {},
   "outputs": [],
   "source": []
  },
  {
   "cell_type": "markdown",
   "id": "967acd4d-4fc5-4779-b888-4ad4f2e67155",
   "metadata": {},
   "source": [
    "## bar()"
   ]
  },
  {
   "cell_type": "code",
   "execution_count": null,
   "id": "8119f3ff-197b-41e3-a7f1-50084efc681e",
   "metadata": {},
   "outputs": [],
   "source": []
  },
  {
   "cell_type": "code",
   "execution_count": null,
   "id": "f607eeb3-251f-4930-9f19-d1ceb255f397",
   "metadata": {},
   "outputs": [],
   "source": []
  },
  {
   "cell_type": "markdown",
   "id": "3bac50b2-97fd-4f31-9f8b-c9e2b61b2e09",
   "metadata": {
    "tags": []
   },
   "source": [
    "## sns.barplot()"
   ]
  },
  {
   "cell_type": "code",
   "execution_count": null,
   "id": "f7681de1-0478-4fec-a536-338f3278d731",
   "metadata": {},
   "outputs": [],
   "source": []
  }
 ],
 "metadata": {
  "kernelspec": {
   "display_name": "Python 3",
   "language": "python",
   "name": "python3"
  },
  "language_info": {
   "codemirror_mode": {
    "name": "ipython",
    "version": 3
   },
   "file_extension": ".py",
   "mimetype": "text/x-python",
   "name": "python",
   "nbconvert_exporter": "python",
   "pygments_lexer": "ipython3",
   "version": "3.6.9"
  }
 },
 "nbformat": 4,
 "nbformat_minor": 5
}
