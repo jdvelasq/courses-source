{
 "cells": [
  {
   "cell_type": "markdown",
   "id": "1dcef9bf-885a-4add-9020-96e550c1b6e1",
   "metadata": {
    "slideshow": {
     "slide_type": "slide"
    },
    "tags": []
   },
   "source": [
    "Análisis 1D --- Graficos de comparación univariada\n",
    "===\n",
    "\n",
    "* 60:00 min | Última modificación: Abril 5, 2021 | [YouTube]()"
   ]
  },
  {
   "cell_type": "code",
   "execution_count": 1,
   "id": "5c3b1fda-fbee-443d-976a-739e3ddad6cd",
   "metadata": {},
   "outputs": [],
   "source": [
    "import matplotlib.pyplot as plt\n",
    "import numpy as np\n",
    "import pandas as pd\n",
    "import seaborn as sns"
   ]
  },
  {
   "cell_type": "markdown",
   "id": "29ab64fb-53dd-43c1-9fa7-8090a8e19f82",
   "metadata": {},
   "source": [
    "## pie()"
   ]
  },
  {
   "cell_type": "code",
   "execution_count": 4,
   "id": "295c7726-98d1-41c6-a7fd-827632f83f26",
   "metadata": {},
   "outputs": [
    {
     "data": {
      "image/png": "[encoded data removed]",
      "text/plain": [
       "<Figure size 432x288 with 1 Axes>"
      ]
     },
     "metadata": {},
     "output_type": "display_data"
    }
   ],
   "source": [
    "data = [15, 30]\n",
    "\n",
    "plt.subplots()\n",
    "\n",
    "colors = ['#2A9FBC', '#F15B2A']\n",
    "\n",
    "wedges, texts = plt.pie(\n",
    "    data,\n",
    "    startangle=90,\n",
    "    colors=colors,\n",
    "    wedgeprops=dict(linewidth=3, alpha=0.5),\n",
    ")\n",
    "\n",
    "for i, w in enumerate(wedges):\n",
    "    w.set_edgecolor(colors[i])"
   ]
  },
  {
   "cell_type": "markdown",
   "id": "6372fe32-d3a0-42ea-9ac9-b959d2347dc1",
   "metadata": {},
   "source": [
    "## pywaffle"
   ]
  },
  {
   "cell_type": "code",
   "execution_count": 5,
   "id": "449a52cd-3913-44b9-ab4b-d3b8669aa4a6",
   "metadata": {},
   "outputs": [
    {
     "name": "stdout",
     "output_type": "stream",
     "text": [
      "\u001b[33mWARNING: Running pip as the 'root' user can result in broken permissions and conflicting behaviour with the system package manager. It is recommended to use a virtual environment instead: https://pip.pypa.io/warnings/venv\u001b[0m\n"
     ]
    }
   ],
   "source": [
    "!pip3 install --quiet pywaffle"
   ]
  },
  {
   "cell_type": "code",
   "execution_count": 7,
   "id": "841d286d-acd2-4703-bf2c-94e6efe3cd75",
   "metadata": {},
   "outputs": [
    {
     "data": {
      "image/png": "[encoded data removed]",
      "text/plain": [
       "<Waffle size 432x288 with 1 Axes>"
      ]
     },
     "metadata": {
      "needs_background": "light"
     },
     "output_type": "display_data"
    }
   ],
   "source": [
    "from pywaffle import Waffle\n",
    "\n",
    "data = {'A': 17, 'B': 16, 'C': 6, 'D': 7, 'E': 5}\n",
    "\n",
    "fig = plt.figure(\n",
    "    FigureClass=Waffle,\n",
    "    rows=6,\n",
    "    values=data,\n",
    "    colors=('blue', 'red', 'green', 'gray', 'yellow'), \n",
    "    title=dict(label='Titulo', loc='left'),\n",
    "    labels=[\"{} ({})\".format(k, v) for k, v in data.items()],\n",
    "    legend=dict(loc='lower left', bbox_to_anchor=(0, -0.4), ncol=len(data), framealpha=0)\n",
    ")"
   ]
  },
  {
   "cell_type": "markdown",
   "id": "7cf87453-2558-4e05-9110-26d2ce5e19f4",
   "metadata": {},
   "source": [
    "## Squarify"
   ]
  },
  {
   "cell_type": "code",
   "execution_count": 8,
   "id": "8008f084-94f4-45b2-917e-8471a83fa5ee",
   "metadata": {},
   "outputs": [
    {
     "name": "stdout",
     "output_type": "stream",
     "text": [
      "\u001b[33mWARNING: Running pip as the 'root' user can result in broken permissions and conflicting behaviour with the system package manager. It is recommended to use a virtual environment instead: https://pip.pypa.io/warnings/venv\u001b[0m\n"
     ]
    }
   ],
   "source": [
    "!pip3 install --quiet squarify"
   ]
  },
  {
   "cell_type": "code",
   "execution_count": 11,
   "id": "6cd0ee45-d5c8-4e3c-8ee6-09a3aa0135c4",
   "metadata": {},
   "outputs": [
    {
     "data": {
      "text/plain": [
       "(0.0, 100.0, 0.0, 100.0)"
      ]
     },
     "execution_count": 11,
     "metadata": {},
     "output_type": "execute_result"
    },
    {
     "data": {
      "image/png": "[encoded data removed]",
      "text/plain": [
       "<Figure size 432x288 with 1 Axes>"
      ]
     },
     "metadata": {
      "needs_background": "light"
     },
     "output_type": "display_data"
    }
   ],
   "source": [
    "import squarify\n",
    "\n",
    "data = [10, 12, 23, 54, 36]\n",
    "labels = list(\"ABCDE\")\n",
    "\n",
    "squarify.plot(\n",
    "    sizes=data,\n",
    "    label=labels,\n",
    "    color='green,grey,blue,red,purple'.split(','),\n",
    "    alpha=0.5,\n",
    ")\n",
    "plt.axis(\"off\")"
   ]
  },
  {
   "cell_type": "markdown",
   "id": "afb2a8d6-fe47-4335-8697-b4a18b9a832d",
   "metadata": {
    "tags": []
   },
   "source": [
    "## pandas.dataframe.bar()"
   ]
  },
  {
   "cell_type": "code",
   "execution_count": 60,
   "id": "a6a5b22d-c185-482a-b610-d83ca39ccebc",
   "metadata": {},
   "outputs": [
    {
     "data": {
      "text/html": [
       "<div>\n",
       "<style scoped>\n",
       "    .dataframe tbody tr th:only-of-type {\n",
       "        vertical-align: middle;\n",
       "    }\n",
       "\n",
       "    .dataframe tbody tr th {\n",
       "        vertical-align: top;\n",
       "    }\n",
       "\n",
       "    .dataframe thead th {\n",
       "        text-align: right;\n",
       "    }\n",
       "</style>\n",
       "<table border=\"1\" class=\"dataframe\">\n",
       "  <thead>\n",
       "    <tr style=\"text-align: right;\">\n",
       "      <th></th>\n",
       "      <th>valor</th>\n",
       "    </tr>\n",
       "  </thead>\n",
       "  <tbody>\n",
       "    <tr>\n",
       "      <th>A</th>\n",
       "      <td>220</td>\n",
       "    </tr>\n",
       "    <tr>\n",
       "      <th>B</th>\n",
       "      <td>-30</td>\n",
       "    </tr>\n",
       "    <tr>\n",
       "      <th>C</th>\n",
       "      <td>-50</td>\n",
       "    </tr>\n",
       "    <tr>\n",
       "      <th>D</th>\n",
       "      <td>-20</td>\n",
       "    </tr>\n",
       "    <tr>\n",
       "      <th>E</th>\n",
       "      <td>150</td>\n",
       "    </tr>\n",
       "  </tbody>\n",
       "</table>\n",
       "</div>"
      ],
      "text/plain": [
       "   valor\n",
       "A    220\n",
       "B    -30\n",
       "C    -50\n",
       "D    -20\n",
       "E    150"
      ]
     },
     "execution_count": 60,
     "metadata": {},
     "output_type": "execute_result"
    }
   ],
   "source": [
    "df = pd.DataFrame(\n",
    "    data={\"valor\": [220, -30, -50, -20, 150, -10]},\n",
    "    index=list(\"ABCDEF\"),\n",
    ")\n",
    "\n",
    "df.head()"
   ]
  },
  {
   "cell_type": "code",
   "execution_count": 61,
   "id": "47bef480-3b63-400a-a22f-e0d941212e16",
   "metadata": {},
   "outputs": [
    {
     "data": {
      "text/html": [
       "<div>\n",
       "<style scoped>\n",
       "    .dataframe tbody tr th:only-of-type {\n",
       "        vertical-align: middle;\n",
       "    }\n",
       "\n",
       "    .dataframe tbody tr th {\n",
       "        vertical-align: top;\n",
       "    }\n",
       "\n",
       "    .dataframe thead th {\n",
       "        text-align: right;\n",
       "    }\n",
       "</style>\n",
       "<table border=\"1\" class=\"dataframe\">\n",
       "  <thead>\n",
       "    <tr style=\"text-align: right;\">\n",
       "      <th></th>\n",
       "      <th>valor</th>\n",
       "      <th>cumsum</th>\n",
       "    </tr>\n",
       "  </thead>\n",
       "  <tbody>\n",
       "    <tr>\n",
       "      <th>A</th>\n",
       "      <td>220</td>\n",
       "      <td>0.0</td>\n",
       "    </tr>\n",
       "    <tr>\n",
       "      <th>B</th>\n",
       "      <td>-30</td>\n",
       "      <td>220.0</td>\n",
       "    </tr>\n",
       "    <tr>\n",
       "      <th>C</th>\n",
       "      <td>-50</td>\n",
       "      <td>190.0</td>\n",
       "    </tr>\n",
       "    <tr>\n",
       "      <th>D</th>\n",
       "      <td>-20</td>\n",
       "      <td>140.0</td>\n",
       "    </tr>\n",
       "    <tr>\n",
       "      <th>E</th>\n",
       "      <td>150</td>\n",
       "      <td>120.0</td>\n",
       "    </tr>\n",
       "  </tbody>\n",
       "</table>\n",
       "</div>"
      ],
      "text/plain": [
       "   valor  cumsum\n",
       "A    220     0.0\n",
       "B    -30   220.0\n",
       "C    -50   190.0\n",
       "D    -20   140.0\n",
       "E    150   120.0"
      ]
     },
     "execution_count": 61,
     "metadata": {},
     "output_type": "execute_result"
    }
   ],
   "source": [
    "df['cumsum'] = df.valor.cumsum().shift(1).fillna(0)\n",
    "df.head()"
   ]
  },
  {
   "cell_type": "code",
   "execution_count": 62,
   "id": "b146a4cf-e07b-418b-a3ae-86b9512b407a",
   "metadata": {},
   "outputs": [
    {
     "data": {
      "text/plain": [
       "<matplotlib.axes._subplots.AxesSubplot at 0x7f785d8ad780>"
      ]
     },
     "execution_count": 62,
     "metadata": {},
     "output_type": "execute_result"
    },
    {
     "data": {
      "image/png": "[encoded data removed]",
      "text/plain": [
       "<Figure size 432x288 with 1 Axes>"
      ]
     },
     "metadata": {
      "needs_background": "light"
     },
     "output_type": "display_data"
    }
   ],
   "source": [
    "df.plot.bar(\n",
    "    stacked=True,\n",
    "    bottom=df['cumsum'],\n",
    ")"
   ]
  },
  {
   "cell_type": "code",
   "execution_count": 63,
   "id": "bc734d3e-a315-462a-93d3-942baea6b607",
   "metadata": {},
   "outputs": [
    {
     "data": {
      "text/plain": [
       "0      0.0\n",
       "0      NaN\n",
       "0    220.0\n",
       "1    220.0\n",
       "1      NaN\n",
       "1    190.0\n",
       "2    190.0\n",
       "2      NaN\n",
       "2    140.0\n",
       "3    140.0\n",
       "3      NaN\n",
       "3    120.0\n",
       "4    120.0\n",
       "4      NaN\n",
       "4    270.0\n",
       "5    270.0\n",
       "5      NaN\n",
       "5      NaN\n",
       "Name: valor, dtype: float64"
      ]
     },
     "execution_count": 63,
     "metadata": {},
     "output_type": "execute_result"
    }
   ],
   "source": [
    "cumsum = df.valor.cumsum().shift(1).fillna(0)\n",
    "\n",
    "h_lines = cumsum.reset_index(drop=True).repeat(3).shift(-1)\n",
    "h_lines[1::3] = np.nan\n",
    "h_lines"
   ]
  },
  {
   "cell_type": "code",
   "execution_count": 72,
   "id": "8f8c1eec-7d35-4c22-8496-31e372bceddf",
   "metadata": {},
   "outputs": [
    {
     "data": {
      "text/plain": [
       "[<matplotlib.lines.Line2D at 0x7f785d635358>]"
      ]
     },
     "execution_count": 72,
     "metadata": {},
     "output_type": "execute_result"
    },
    {
     "data": {
      "image/png": "[encoded data removed]",
      "text/plain": [
       "<Figure size 432x288 with 1 Axes>"
      ]
     },
     "metadata": {
      "needs_background": "light"
     },
     "output_type": "display_data"
    }
   ],
   "source": [
    "df['total'] = df.sum().valor\n",
    "cumsum.loc['total'] = 0\n",
    "\n",
    "\n",
    "fig = df[['valor']].plot.bar(\n",
    "    stacked=True,\n",
    "    bottom=df['cumsum'],\n",
    "    color=\"#F15B2A\",\n",
    ") \n",
    "\n",
    "cumsum['total'] = df[:-1].sum().valor\n",
    "h_lines = cumsum.reset_index(drop=True).repeat(3).shift(-1)\n",
    "h_lines[1::3]=np.nan\n",
    "\n",
    "fig.plot(h_lines.index, h_lines.values, 'black',)"
   ]
  }
 ],
 "metadata": {
  "kernelspec": {
   "display_name": "Python 3",
   "language": "python",
   "name": "python3"
  },
  "language_info": {
   "codemirror_mode": {
    "name": "ipython",
    "version": 3
   },
   "file_extension": ".py",
   "mimetype": "text/x-python",
   "name": "python",
   "nbconvert_exporter": "python",
   "pygments_lexer": "ipython3",
   "version": "3.6.9"
  }
 },
 "nbformat": 4,
 "nbformat_minor": 5
}
