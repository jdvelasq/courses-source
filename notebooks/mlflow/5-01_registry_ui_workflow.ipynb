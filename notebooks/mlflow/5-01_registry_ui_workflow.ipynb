{
 "cells": [
  {
   "cell_type": "markdown",
   "id": "7f8fcfa0-86dc-4739-959d-fe5dde256310",
   "metadata": {
    "tags": []
   },
   "source": [
    "UI Workflow\n",
    "===\n",
    "\n",
    "* Ultima modificación: Mayo 14, 2022"
   ]
  },
  {
   "cell_type": "markdown",
   "id": "142bc361-9fd0-448d-bf47-b4bb3a4a3daa",
   "metadata": {},
   "source": [
    "Diretorio para almacenar el proyecto\n",
    "---"
   ]
  },
  {
   "cell_type": "code",
   "execution_count": 1,
   "id": "949ab1cd-d237-4139-9c69-c4a3a3d56168",
   "metadata": {},
   "outputs": [
    {
     "name": "stdout",
     "output_type": "stream",
     "text": [
      "rm: mlruns.db: No such file or directory\n"
     ]
    }
   ],
   "source": [
    "#\n",
    "# Borra el directorio de trabajo\n",
    "#\n",
    "!rm -rf mlruns\n",
    "!rm mlruns.db"
   ]
  },
  {
   "cell_type": "markdown",
   "id": "f48ad37b-fa6a-45f9-9b14-22f4ea90e384",
   "metadata": {},
   "source": [
    "Codebase\n",
    "---"
   ]
  },
  {
   "cell_type": "code",
   "execution_count": 2,
   "id": "b5b94903-b48b-4f10-b695-6311f738c22c",
   "metadata": {},
   "outputs": [],
   "source": [
    "# ---------------------------------------------------------------------------------------\n",
    "#\n",
    "# Este código es identico al de los ejemplos anteriores\n",
    "#\n",
    "# ---------------------------------------------------------------------------------------\n",
    "\n",
    "\n",
    "def load_data():\n",
    "\n",
    "    import pandas as pd\n",
    "\n",
    "    url = \"https://raw.githubusercontent.com/jdvelasq/datalabs/master/datasets/concrete.csv\"\n",
    "    df = pd.read_csv(url)\n",
    "    df = df.astype({'age': 'float'})\n",
    "    \n",
    "    y = df[\"strength\"]\n",
    "    x = df.copy()\n",
    "    x.pop(\"strength\")\n",
    "\n",
    "    return x, y\n",
    "\n",
    "\n",
    "def make_train_test_split(x, y):\n",
    "\n",
    "    from sklearn.model_selection import train_test_split\n",
    "\n",
    "    (x_train, x_test, y_train, y_test) = train_test_split(\n",
    "        x,\n",
    "        y,\n",
    "        test_size=0.25,\n",
    "        random_state=123456,\n",
    "    )\n",
    "    return x_train, x_test, y_train, y_test\n",
    "\n",
    "\n",
    "def eval_metrics(y_true, y_pred):\n",
    "\n",
    "    from sklearn.metrics import mean_absolute_error, mean_squared_error, r2_score\n",
    "\n",
    "    mse = mean_squared_error(y_true, y_pred)\n",
    "    mae = mean_absolute_error(y_true, y_pred)\n",
    "    r2 = r2_score(y_true, y_pred)\n",
    "\n",
    "    return mse, mae, r2\n",
    "\n",
    "\n",
    "def report(estimator, mse, mae, r2):\n",
    "\n",
    "    print(estimator, \":\", sep=\"\")\n",
    "    print(f\"  MSE: {mse}\")\n",
    "    print(f\"  MAE: {mae}\")\n",
    "    print(f\"  R2: {r2}\")\n",
    "\n",
    "\n",
    "def log_metrics(mse, mae, r2):\n",
    "\n",
    "    import mlflow\n",
    "\n",
    "    mlflow.log_metric(\"mse\", mse)\n",
    "    mlflow.log_metric(\"mae\", mae)\n",
    "    mlflow.log_metric(\"r2\", r2)\n",
    "\n",
    "\n",
    "def make_pipeline(estimator):\n",
    "\n",
    "    from sklearn.pipeline import Pipeline\n",
    "    from sklearn.preprocessing import MinMaxScaler\n",
    "\n",
    "    pipeline = Pipeline(\n",
    "        steps=[\n",
    "            (\"minMaxScaler\", MinMaxScaler()),\n",
    "            (\"estimator\", estimator),\n",
    "        ],\n",
    "    )\n",
    "\n",
    "    return pipeline\n",
    "\n",
    "\n",
    "def set_tracking_uri():\n",
    "    \n",
    "    import mlflow\n",
    "    \n",
    "    mlflow.set_tracking_uri('sqlite:///mlruns.db')\n",
    "    \n",
    "\n",
    "def display_config():\n",
    "    \n",
    "    import mlflow\n",
    "    \n",
    "    print(\"Current model registry uri: {}\".format(mlflow.get_registry_uri()))\n",
    "    print(\"      Current tracking uri: {}\".format(mlflow.get_tracking_uri()))\n",
    "    \n",
    "\n",
    "#\n",
    "# Modelos\n",
    "#\n",
    "def make_linear_regression():\n",
    "\n",
    "    import sys\n",
    "\n",
    "    from sklearn.linear_model import LinearRegression\n",
    "\n",
    "    import mlflow\n",
    "\n",
    "    x, y = load_data()\n",
    "    x_train, x_test, y_train, y_test = make_train_test_split(x, y)\n",
    "\n",
    "    mlflow.sklearn.autolog()\n",
    "\n",
    "    estimator = make_pipeline(\n",
    "        estimator=LinearRegression(),\n",
    "    )\n",
    "\n",
    "    with mlflow.start_run():\n",
    "        estimator.fit(x_train, y_train)\n",
    "\n",
    "        mse, mae, r2 = eval_metrics(\n",
    "            y_true=y_test,\n",
    "            y_pred=estimator.predict(x_test),\n",
    "        )\n",
    "        log_metrics(mse, mae, r2)\n",
    "        report(estimator, mse, mae, r2)\n",
    "\n",
    "\n",
    "def make_k_neighbors_regressor(n_neighbors):\n",
    "\n",
    "    import sys\n",
    "\n",
    "    from sklearn.neighbors import KNeighborsRegressor\n",
    "\n",
    "    import mlflow\n",
    "\n",
    "    x, y = load_data()\n",
    "    x_train, x_test, y_train, y_test = make_train_test_split(x, y)\n",
    "\n",
    "    mlflow.sklearn.autolog()\n",
    "\n",
    "    estimator = make_pipeline(\n",
    "        estimator=KNeighborsRegressor(n_neighbors=n_neighbors),\n",
    "    )\n",
    "\n",
    "    with mlflow.start_run():\n",
    "        estimator.fit(x_train, y_train)\n",
    "\n",
    "        mse, mae, r2 = eval_metrics(\n",
    "            y_true=y_test,\n",
    "            y_pred=estimator.predict(x_test),\n",
    "        )\n",
    "        log_metrics(mse, mae, r2)\n",
    "        report(estimator, mse, mae, r2)"
   ]
  },
  {
   "cell_type": "markdown",
   "id": "dda7ea0e-bd45-4f08-bbc0-761fcac6266a",
   "metadata": {
    "tags": []
   },
   "source": [
    "Ejecución de los experimentos\n",
    "---"
   ]
  },
  {
   "cell_type": "code",
   "execution_count": 3,
   "id": "5d637edb-7da0-4a5f-801c-379c082a6d88",
   "metadata": {},
   "outputs": [
    {
     "name": "stdout",
     "output_type": "stream",
     "text": [
      "Current model registry uri: sqlite:///mlruns.db\n",
      "      Current tracking uri: sqlite:///mlruns.db\n"
     ]
    }
   ],
   "source": [
    "set_tracking_uri()\n",
    "\n",
    "display_config()"
   ]
  },
  {
   "cell_type": "code",
   "execution_count": 4,
   "id": "be25f8dc-42e5-4eb8-8d19-1863a25d4328",
   "metadata": {},
   "outputs": [
    {
     "name": "stderr",
     "output_type": "stream",
     "text": [
      "2022/06/03 22:48:44 WARNING mlflow.utils.autologging_utils: MLflow autologging encountered a warning: \"/Volumes/GitHub/courses-source/notebooks/mlflow/.venv/lib/python3.8/site-packages/setuptools/distutils_patch.py:25: UserWarning: Distutils was imported before Setuptools. This usage is discouraged and may exhibit undesirable behaviors or errors. Please use Setuptools' objects directly or at least import Setuptools first.\"\n",
      "2022/06/03 22:48:45 INFO mlflow.store.db.utils: Creating initial MLflow database tables...\n",
      "2022/06/03 22:48:45 INFO mlflow.store.db.utils: Updating database tables\n",
      "INFO  [alembic.runtime.migration] Context impl SQLiteImpl.\n",
      "INFO  [alembic.runtime.migration] Will assume non-transactional DDL.\n",
      "INFO  [alembic.runtime.migration] Running upgrade  -> 451aebb31d03, add metric step\n",
      "INFO  [alembic.runtime.migration] Running upgrade 451aebb31d03 -> 90e64c465722, migrate user column to tags\n",
      "INFO  [alembic.runtime.migration] Running upgrade 90e64c465722 -> 181f10493468, allow nulls for metric values\n",
      "INFO  [alembic.runtime.migration] Running upgrade 181f10493468 -> df50e92ffc5e, Add Experiment Tags Table\n",
      "INFO  [alembic.runtime.migration] Running upgrade df50e92ffc5e -> 7ac759974ad8, Update run tags with larger limit\n",
      "INFO  [alembic.runtime.migration] Running upgrade 7ac759974ad8 -> 89d4b8295536, create latest metrics table\n",
      "INFO  [89d4b8295536_create_latest_metrics_table_py] Migration complete!\n",
      "INFO  [alembic.runtime.migration] Running upgrade 89d4b8295536 -> 2b4d017a5e9b, add model registry tables to db\n",
      "INFO  [2b4d017a5e9b_add_model_registry_tables_to_db_py] Adding registered_models and model_versions tables to database.\n",
      "INFO  [2b4d017a5e9b_add_model_registry_tables_to_db_py] Migration complete!\n",
      "INFO  [alembic.runtime.migration] Running upgrade 2b4d017a5e9b -> cfd24bdc0731, Update run status constraint with killed\n",
      "INFO  [alembic.runtime.migration] Running upgrade cfd24bdc0731 -> 0a8213491aaa, drop_duplicate_killed_constraint\n",
      "INFO  [alembic.runtime.migration] Running upgrade 0a8213491aaa -> 728d730b5ebd, add registered model tags table\n",
      "INFO  [alembic.runtime.migration] Running upgrade 728d730b5ebd -> 27a6a02d2cf1, add model version tags table\n",
      "INFO  [alembic.runtime.migration] Running upgrade 27a6a02d2cf1 -> 84291f40a231, add run_link to model_version\n",
      "INFO  [alembic.runtime.migration] Running upgrade 84291f40a231 -> a8c4a736bde6, allow nulls for run_id\n",
      "INFO  [alembic.runtime.migration] Running upgrade a8c4a736bde6 -> 39d1c3be5f05, add_is_nan_constraint_for_metrics_tables_if_necessary\n",
      "INFO  [alembic.runtime.migration] Running upgrade 39d1c3be5f05 -> c48cb773bb87, reset_default_value_for_is_nan_in_metrics_table_for_mysql\n",
      "INFO  [alembic.runtime.migration] Running upgrade c48cb773bb87 -> bd07f7e963c5, create index on run_uuid\n",
      "INFO  [alembic.runtime.migration] Context impl SQLiteImpl.\n",
      "INFO  [alembic.runtime.migration] Will assume non-transactional DDL.\n"
     ]
    },
    {
     "name": "stdout",
     "output_type": "stream",
     "text": [
      "Pipeline(steps=[('minMaxScaler', MinMaxScaler()),\n",
      "                ('estimator', LinearRegression())]):\n",
      "  MSE: 117.25636031414096\n",
      "  MAE: 8.526872668000976\n",
      "  R2: 0.6007675607096427\n"
     ]
    }
   ],
   "source": [
    "make_linear_regression()"
   ]
  },
  {
   "cell_type": "code",
   "execution_count": 5,
   "id": "31cb8e03-0b6b-472d-a228-cf9f6be366d3",
   "metadata": {},
   "outputs": [
    {
     "name": "stdout",
     "output_type": "stream",
     "text": [
      "----------------------------- neighbors = 1 -----------------------------\n",
      "Pipeline(steps=[('minMaxScaler', MinMaxScaler()),\n",
      "                ('estimator', KNeighborsRegressor(n_neighbors=1))]):\n",
      "  MSE: 84.29744651162792\n",
      "  MAE: 6.566356589147286\n",
      "  R2: 0.712985503672273\n",
      "\n",
      "----------------------------- neighbors = 2 -----------------------------\n",
      "Pipeline(steps=[('minMaxScaler', MinMaxScaler()),\n",
      "                ('estimator', KNeighborsRegressor(n_neighbors=2))]):\n",
      "  MSE: 75.76470591085271\n",
      "  MAE: 6.5040503875969\n",
      "  R2: 0.7420376321431968\n",
      "\n",
      "----------------------------- neighbors = 3 -----------------------------\n",
      "Pipeline(steps=[('minMaxScaler', MinMaxScaler()),\n",
      "                ('estimator', KNeighborsRegressor(n_neighbors=3))]):\n",
      "  MSE: 80.3410048664944\n",
      "  MAE: 6.792235142118863\n",
      "  R2: 0.7264563281517714\n",
      "\n",
      "----------------------------- neighbors = 4 -----------------------------\n",
      "Pipeline(steps=[('minMaxScaler', MinMaxScaler()),\n",
      "                ('estimator', KNeighborsRegressor(n_neighbors=4))]):\n",
      "  MSE: 84.93929769864341\n",
      "  MAE: 6.951056201550387\n",
      "  R2: 0.7108001397878143\n",
      "\n"
     ]
    }
   ],
   "source": [
    "#\n",
    "# Ejecución del modelo de vecinos más cercanos\n",
    "#\n",
    "for n_neighbors in range(1, 5):\n",
    "    print(f\"----------------------------- neighbors = {n_neighbors} -----------------------------\")\n",
    "    make_k_neighbors_regressor(n_neighbors)\n",
    "    print()\n",
    "    "
   ]
  },
  {
   "cell_type": "markdown",
   "id": "d232297e-8232-4b91-af6e-22a8d05d92b4",
   "metadata": {},
   "source": [
    "MLflow ui\n",
    "---"
   ]
  },
  {
   "cell_type": "markdown",
   "id": "229102d0-3581-47f3-a1b7-76328450ff07",
   "metadata": {},
   "source": [
    "Para visualizar la interfase use:\n",
    "\n",
    "```bash\n",
    "mlflow ui --backend-store-uri sqlite:///mlruns.db\n",
    "```\n",
    "\n",
    "**Nota:** En docker usar:\n",
    "\n",
    "```bash\n",
    "mlflow ui --host 0.0.0.0 --backend-store-uri sqlite:///mlruns.db\n",
    "``` \n",
    "\n",
    "con: \n",
    "\n",
    "http://127.0.0.1:5001\n"
   ]
  },
  {
   "cell_type": "markdown",
   "id": "23698113-ff0c-473d-a99b-9cba037379fe",
   "metadata": {},
   "source": [
    "![assets/mlflow-registry-1-part-0.png](assets/mlflow-registry-1-part-0.png)"
   ]
  },
  {
   "cell_type": "markdown",
   "id": "96f0e9f2-ea39-4296-a4a0-46f040b825f9",
   "metadata": {},
   "source": [
    "**Modelo**"
   ]
  },
  {
   "cell_type": "markdown",
   "id": "27b3d550-1b36-4c90-91b8-c68178f0ea2a",
   "metadata": {},
   "source": [
    "![assets/mlflow-registry-1-part-1.png](assets/mlflow-registry-1-part-1.png)\n"
   ]
  },
  {
   "cell_type": "markdown",
   "id": "f1f67289-4f38-4ad0-99c4-6d9ad02e282c",
   "metadata": {},
   "source": [
    "![assets/mlflow-registry-1-part-2.png](assets/mlflow-registry-1-part-2.png)"
   ]
  },
  {
   "cell_type": "markdown",
   "id": "b6e735f3-ff61-4f10-abcc-8ed46e8eb4e3",
   "metadata": {},
   "source": [
    "![assets/mlflow-registry-1-part-3.png](assets/mlflow-registry-1-part-3.png)"
   ]
  },
  {
   "cell_type": "markdown",
   "id": "3d11591f-3c0f-487a-ae0f-5bd7c2ee6769",
   "metadata": {},
   "source": [
    "![assets/mlflow-registry-1-part-4.png](assets/mlflow-registry-1-part-4.png)"
   ]
  }
 ],
 "metadata": {
  "kernelspec": {
   "display_name": "Python 3 (ipykernel)",
   "language": "python",
   "name": "python3"
  },
  "language_info": {
   "codemirror_mode": {
    "name": "ipython",
    "version": 3
   },
   "file_extension": ".py",
   "mimetype": "text/x-python",
   "name": "python",
   "nbconvert_exporter": "python",
   "pygments_lexer": "ipython3",
   "version": "3.8.9"
  }
 },
 "nbformat": 4,
 "nbformat_minor": 5
}
