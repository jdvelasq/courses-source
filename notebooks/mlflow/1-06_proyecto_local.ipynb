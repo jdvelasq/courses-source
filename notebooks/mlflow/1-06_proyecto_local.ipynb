{
 "cells": [
  {
   "cell_type": "markdown",
   "id": "be3e61d8-e5b5-465e-a914-3137db03cff7",
   "metadata": {
    "tags": []
   },
   "source": [
    "Proyectos locales --- 0:00 min\n",
    "===\n",
    "\n",
    "* 0:00 min | Ultima modificación: Abril 4, 2022 | YouTube"
   ]
  },
  {
   "cell_type": "code",
   "execution_count": null,
   "id": "8fd852a7-f970-45cd-a932-f44e3da4a9f5",
   "metadata": {},
   "outputs": [],
   "source": []
  },
  {
   "cell_type": "code",
   "execution_count": null,
   "id": "79a7e803-2baa-44b7-9db7-75a2c39190b2",
   "metadata": {},
   "outputs": [],
   "source": []
  },
  {
   "cell_type": "code",
   "execution_count": null,
   "id": "fecf7746-d090-4afd-bab1-93a01041bb41",
   "metadata": {},
   "outputs": [],
   "source": []
  }
 ],
 "metadata": {
  "kernelspec": {
   "display_name": "Python 3 (ipykernel)",
   "language": "python",
   "name": "python3"
  },
  "language_info": {
   "codemirror_mode": {
    "name": "ipython",
    "version": 3
   },
   "file_extension": ".py",
   "mimetype": "text/x-python",
   "name": "python",
   "nbconvert_exporter": "python",
   "pygments_lexer": "ipython3",
   "version": "3.9.12"
  }
 },
 "nbformat": 4,
 "nbformat_minor": 5
}
