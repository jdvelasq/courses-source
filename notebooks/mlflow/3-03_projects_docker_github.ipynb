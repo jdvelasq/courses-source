{
 "cells": [
  {
   "cell_type": "markdown",
   "id": "7f8fcfa0-86dc-4739-959d-fe5dde256310",
   "metadata": {
    "tags": []
   },
   "source": [
    "Creación de un proyecto básico en GitHub\n",
    "===\n",
    "\n",
    "* Ultima modificación: Mayo 14, 2022"
   ]
  },
  {
   "cell_type": "markdown",
   "id": "142bc361-9fd0-448d-bf47-b4bb3a4a3daa",
   "metadata": {},
   "source": [
    "Limpieza del diretorio\n",
    "---"
   ]
  },
  {
   "cell_type": "code",
   "execution_count": 1,
   "id": "949ab1cd-d237-4139-9c69-c4a3a3d56168",
   "metadata": {},
   "outputs": [],
   "source": [
    "!rm -rf mlruns"
   ]
  },
  {
   "cell_type": "markdown",
   "id": "f48ad37b-fa6a-45f9-9b14-22f4ea90e384",
   "metadata": {},
   "source": [
    "Repo en GitHub\n",
    "---"
   ]
  },
  {
   "cell_type": "markdown",
   "id": "b1f7743b-69a5-4c7f-ace8-ff2dfd779396",
   "metadata": {},
   "source": [
    "![assets/mlflow-project-3-github-part-0](assets/mlflow-project-3-github-part-0.png)"
   ]
  },
  {
   "cell_type": "markdown",
   "id": "707fc856-6a71-44ec-ba06-0da611352ab9",
   "metadata": {},
   "source": [
    "Dockerfile\n",
    "---"
   ]
  },
  {
   "cell_type": "markdown",
   "id": "4d806f84-4dfa-4322-a481-e80071012b90",
   "metadata": {},
   "source": [
    "```Docker\n",
    "FROM condaforge/miniforge3\n",
    "\n",
    "RUN pip install mlflow \\\n",
    "    && pip install pandas \\\n",
    "    && pip install scikit-learn \\\n",
    "    && pip install cloudpickle\n",
    "````\n"
   ]
  },
  {
   "cell_type": "markdown",
   "id": "a0d41e38-59f3-4fa1-af38-5cd1d0c27911",
   "metadata": {},
   "source": [
    "Creación de la imagen\n",
    "---"
   ]
  },
  {
   "cell_type": "markdown",
   "id": "7c148ce0-b4ec-4e53-b8a6-a2750f02c3c9",
   "metadata": {},
   "source": [
    "Cree el contendor reemplazando su nombre de usuario:\n",
    "\n",
    "```shell\n",
    "$ docker build -t jdvelasq/mlflow:example .\n",
    "$ docker push jdvelasq/mlflow:example\n",
    "```\n",
    "\n"
   ]
  },
  {
   "cell_type": "markdown",
   "id": "0537b2bd-ffbc-457f-ae83-25f740ce9ff0",
   "metadata": {},
   "source": [
    "Ejecución del projecto en GitHub\n",
    "---"
   ]
  },
  {
   "cell_type": "code",
   "execution_count": null,
   "id": "31cb8e03-0b6b-472d-a228-cf9f6be366d3",
   "metadata": {},
   "outputs": [
    {
     "name": "stdout",
     "output_type": "stream",
     "text": [
      "2022/06/03 22:41:44 INFO mlflow.projects.utils: === Fetching project from git@github.com:jdvelasq/mlflow-wine-quality.git into /var/folders/34/8tnnc98d5bv6wy7xzfb0qwhh0000gn/T/tmp9fqk1t6o ===\n",
      "The authenticity of host 'github.com (140.82.114.4)' can't be established.\n",
      "ED25519 key fingerprint is SHA256:+DiY3wvvV6TuJJhbpZisF/zLDA0zPMSvHdkr4UvCOqU.\n",
      "This key is not known by any other names\n",
      "Are you sure you want to continue connecting (yes/no/[fingerprint])? "
     ]
    }
   ],
   "source": [
    "#\n",
    "# Ejecución con parámetros por defecto\n",
    "#\n",
    "!mlflow run git@github.com:jdvelasq/mlflow-wine-quality.git"
   ]
  },
  {
   "cell_type": "markdown",
   "id": "21652134-498e-48ea-b7c0-d879b72bb124",
   "metadata": {},
   "source": [
    "Ejecución en el ambiente local con parámetros suministrados por el usuario\n",
    "---"
   ]
  },
  {
   "cell_type": "code",
   "execution_count": null,
   "id": "9ba69279-0175-441e-bf2f-55050b7621e6",
   "metadata": {},
   "outputs": [],
   "source": [
    "!mlflow run /tmp/wine_prj -P alpha=0.2 -P l1_ratio=0.2 -P verbose=1"
   ]
  },
  {
   "cell_type": "code",
   "execution_count": null,
   "id": "20463431-fc33-4711-9103-ed8ba990bde9",
   "metadata": {},
   "outputs": [],
   "source": [
    "!mlflow run /tmp/wine_prj -P alpha=0.1 -P l1_ratio=0.1 -P verbose=1"
   ]
  },
  {
   "cell_type": "code",
   "execution_count": null,
   "id": "d0131026-f02f-4903-a465-e02f987b1a9e",
   "metadata": {},
   "outputs": [],
   "source": [
    "!mlflow run /tmp/wine_prj -P alpha=0.5 -P l1_ratio=0.5 -P verbose=1"
   ]
  },
  {
   "cell_type": "markdown",
   "id": "d232297e-8232-4b91-af6e-22a8d05d92b4",
   "metadata": {},
   "source": [
    "MLflow ui\n",
    "---"
   ]
  },
  {
   "cell_type": "markdown",
   "id": "229102d0-3581-47f3-a1b7-76328450ff07",
   "metadata": {},
   "source": [
    "Para visualizar la interfase use:\n",
    "\n",
    "```bash\n",
    "mlflow ui\n",
    "```\n",
    "\n",
    "**Nota:** En docker usar:\n",
    "\n",
    "```bash\n",
    "mlflow ui --host 0.0.0.0 \n",
    "``` \n",
    "\n",
    "con: \n",
    "\n",
    "http://127.0.0.1:5001\n"
   ]
  },
  {
   "cell_type": "markdown",
   "id": "23698113-ff0c-473d-a99b-9cba037379fe",
   "metadata": {},
   "source": [
    "![assets/mlflow-project-2-docker-part-0](assets/mlflow-project-2-docker-part-0.png)"
   ]
  },
  {
   "cell_type": "markdown",
   "id": "96f0e9f2-ea39-4296-a4a0-46f040b825f9",
   "metadata": {},
   "source": [
    "**Detalles de la corrida**"
   ]
  },
  {
   "cell_type": "markdown",
   "id": "27b3d550-1b36-4c90-91b8-c68178f0ea2a",
   "metadata": {},
   "source": [
    "![assets/mlflow-project-2-docker-part-1](assets/mlflow-project-2-docker-part-1.png)\n",
    "![assets/mlflow-project-2-docker-part-2](assets/mlflow-project-2-docker-part-2.png)\n",
    "![assets/mlflow-project-2-docker-part-3](assets/mlflow-project-2-docker-part-3.png)"
   ]
  }
 ],
 "metadata": {
  "kernelspec": {
   "display_name": "Python 3 (ipykernel)",
   "language": "python",
   "name": "python3"
  },
  "language_info": {
   "codemirror_mode": {
    "name": "ipython",
    "version": 3
   },
   "file_extension": ".py",
   "mimetype": "text/x-python",
   "name": "python",
   "nbconvert_exporter": "python",
   "pygments_lexer": "ipython3",
   "version": "3.8.9"
  }
 },
 "nbformat": 4,
 "nbformat_minor": 5
}
