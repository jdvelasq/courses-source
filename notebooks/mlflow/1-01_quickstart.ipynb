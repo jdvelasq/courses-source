{
 "cells": [
  {
   "cell_type": "markdown",
   "id": "7f8fcfa0-86dc-4739-959d-fe5dde256310",
   "metadata": {
    "tags": []
   },
   "source": [
    "Quickstart --- 0:00 min\n",
    "===\n",
    "\n",
    "* 0:00 min | Ultima modificación: Abril 4, 2022 | YouTube"
   ]
  },
  {
   "cell_type": "markdown",
   "id": "93b722cb-319d-4642-ac7b-f6117e60ae0b",
   "metadata": {},
   "source": [
    "https://www.mlflow.org/docs/latest/quickstart.html"
   ]
  },
  {
   "cell_type": "markdown",
   "id": "b1ae3f9a-dd7c-45f9-ad23-06f240c7a5ae",
   "metadata": {},
   "source": [
    "Preparación\n",
    "----"
   ]
  },
  {
   "cell_type": "code",
   "execution_count": 1,
   "id": "7de88e4b-3f8f-44a9-ab84-2145c0dbab86",
   "metadata": {},
   "outputs": [],
   "source": [
    "import os\n",
    "from random import random, randint\n",
    "from mlflow import log_metric, log_param, log_artifacts"
   ]
  },
  {
   "cell_type": "markdown",
   "id": "69bb2d27-25d7-441f-b92b-db97d83f8879",
   "metadata": {},
   "source": [
    "Almacenamiento de parámetros\n",
    "---"
   ]
  },
  {
   "cell_type": "code",
   "execution_count": 2,
   "id": "b46728c2-0b07-481e-8e95-f37962a75044",
   "metadata": {},
   "outputs": [],
   "source": [
    "log_param(\"param1\", randint(0, 100))\n",
    "\n",
    "# Log a metric; metrics can be updated throughout the run\n",
    "log_metric(\"foo\", random())\n",
    "log_metric(\"foo\", random() + 1)\n",
    "log_metric(\"foo\", random() + 2)\n",
    "\n",
    "# Log an artifact (output file)\n",
    "if not os.path.exists(\"outputs\"):\n",
    "    os.makedirs(\"outputs\")\n",
    "with open(\"outputs/test.txt\", \"w\") as f:\n",
    "    f.write(\"hello world!\")\n",
    "log_artifacts(\"outputs\")"
   ]
  },
  {
   "cell_type": "code",
   "execution_count": 3,
   "id": "e984999d-b30b-4cda-ba18-803f303e1e9d",
   "metadata": {},
   "outputs": [
    {
     "name": "stdout",
     "output_type": "stream",
     "text": [
      ".  ..  test.txt\n"
     ]
    }
   ],
   "source": [
    "!ls outputs"
   ]
  },
  {
   "cell_type": "markdown",
   "id": "b9a76303-5841-4af0-b43c-2678e3508f4a",
   "metadata": {},
   "source": [
    "Visualización de la GUI\n",
    "---"
   ]
  },
  {
   "cell_type": "markdown",
   "id": "5f260f03-f4d1-4e36-b5c5-fc9d55dbdba2",
   "metadata": {},
   "source": [
    "Para visualizar la interfaz de usuario se ejecuta:\n",
    "\n",
    "```bash\n",
    "mlflow ui\n",
    "```"
   ]
  },
  {
   "cell_type": "code",
   "execution_count": 4,
   "id": "2d966ed0-342c-474b-9725-0a99e7963357",
   "metadata": {},
   "outputs": [
    {
     "name": "stdout",
     "output_type": "stream",
     "text": [
      "[2022-03-31 18:18:26 +0000] [152] [INFO] Starting gunicorn 20.1.0\n",
      "[2022-03-31 18:18:26 +0000] [152] [INFO] Listening at: http://127.0.0.1:5000 (152)\n",
      "[2022-03-31 18:18:26 +0000] [152] [INFO] Using worker: sync\n",
      "[2022-03-31 18:18:26 +0000] [153] [INFO] Booting worker with pid: 153\n",
      "^C\n",
      "[2022-03-31 18:19:00 +0000] [152] [INFO] Handling signal: int\n",
      "[2022-03-31 18:19:00 +0000] [153] [INFO] Worker exiting (pid: 153)\n"
     ]
    }
   ],
   "source": [
    "!mlflow ui"
   ]
  },
  {
   "cell_type": "code",
   "execution_count": null,
   "id": "09f93621-61f9-4821-aa51-eee958d2febf",
   "metadata": {},
   "outputs": [],
   "source": [
    "%bash\n",
    "rm -r outputs outputs mlruns"
   ]
  }
 ],
 "metadata": {
  "kernelspec": {
   "display_name": "Python 3 (ipykernel)",
   "language": "python",
   "name": "python3"
  },
  "language_info": {
   "codemirror_mode": {
    "name": "ipython",
    "version": 3
   },
   "file_extension": ".py",
   "mimetype": "text/x-python",
   "name": "python",
   "nbconvert_exporter": "python",
   "pygments_lexer": "ipython3",
   "version": "3.9.12"
  }
 },
 "nbformat": 4,
 "nbformat_minor": 5
}
