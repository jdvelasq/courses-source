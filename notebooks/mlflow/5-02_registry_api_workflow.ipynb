{
 "cells": [
  {
   "cell_type": "markdown",
   "id": "7f8fcfa0-86dc-4739-959d-fe5dde256310",
   "metadata": {
    "tags": []
   },
   "source": [
    "API Workflow --- 0:00 min\n",
    "===\n",
    "\n",
    "* 0:00 min | Ultima modificación: Abril 4, 2022 | YouTube"
   ]
  },
  {
   "cell_type": "markdown",
   "id": "142bc361-9fd0-448d-bf47-b4bb3a4a3daa",
   "metadata": {},
   "source": [
    "Diretorio para almacenar el proyecto\n",
    "---"
   ]
  },
  {
   "cell_type": "code",
   "execution_count": 1,
   "id": "949ab1cd-d237-4139-9c69-c4a3a3d56168",
   "metadata": {},
   "outputs": [],
   "source": [
    "#\n",
    "# Borra el directorio de trabajo\n",
    "#\n",
    "!rm -rf mlruns\n",
    "!rm mlruns.db"
   ]
  },
  {
   "cell_type": "markdown",
   "id": "f48ad37b-fa6a-45f9-9b14-22f4ea90e384",
   "metadata": {},
   "source": [
    "Codebase\n",
    "---"
   ]
  },
  {
   "cell_type": "code",
   "execution_count": 2,
   "id": "d33449be-0b6b-4114-ac1f-d75b77f600c5",
   "metadata": {},
   "outputs": [],
   "source": [
    "def load_data():\n",
    "\n",
    "    import pandas as pd\n",
    "\n",
    "    url = \"https://raw.githubusercontent.com/jdvelasq/datalabs/master/datasets/concrete.csv\"\n",
    "    df = pd.read_csv(url)\n",
    "    df = df.astype({'age': 'float'})\n",
    "    \n",
    "    y = df[\"strength\"]\n",
    "    x = df.copy()\n",
    "    x.pop(\"strength\")\n",
    "\n",
    "    return x, y\n",
    "\n",
    "\n",
    "def make_train_test_split(x, y):\n",
    "\n",
    "    from sklearn.model_selection import train_test_split\n",
    "\n",
    "    (x_train, x_test, y_train, y_test) = train_test_split(\n",
    "        x,\n",
    "        y,\n",
    "        test_size=0.25,\n",
    "        random_state=123456,\n",
    "    )\n",
    "    return x_train, x_test, y_train, y_test\n",
    "\n",
    "\n",
    "def eval_metrics(y_true, y_pred):\n",
    "\n",
    "    from sklearn.metrics import mean_absolute_error, mean_squared_error, r2_score\n",
    "\n",
    "    mse = mean_squared_error(y_true, y_pred)\n",
    "    mae = mean_absolute_error(y_true, y_pred)\n",
    "    r2 = r2_score(y_true, y_pred)\n",
    "\n",
    "    return mse, mae, r2\n",
    "\n",
    "\n",
    "def report(estimator, mse, mae, r2):\n",
    "\n",
    "    print(estimator, \":\", sep=\"\")\n",
    "    print(f\"  MSE: {mse}\")\n",
    "    print(f\"  MAE: {mae}\")\n",
    "    print(f\"  R2: {r2}\")\n",
    "\n",
    "\n",
    "# def log_metrics(mse, mae, r2):\n",
    "# \n",
    "#     import mlflow\n",
    "# \n",
    "#     mlflow.log_metric(\"mse\", mse)\n",
    "#     mlflow.log_metric(\"mae\", mae)\n",
    "#     mlflow.log_metric(\"r2\", r2)\n",
    "\n",
    "\n",
    "def make_pipeline(estimator):\n",
    "\n",
    "    from sklearn.pipeline import Pipeline\n",
    "    from sklearn.preprocessing import MinMaxScaler\n",
    "\n",
    "    pipeline = Pipeline(\n",
    "        steps=[\n",
    "            (\"minMaxScaler\", MinMaxScaler()),\n",
    "            (\"estimator\", estimator),\n",
    "        ],\n",
    "    )\n",
    "\n",
    "    return pipeline\n",
    "\n",
    "\n",
    "def set_tracking_uri():\n",
    "    \n",
    "    import mlflow\n",
    "    \n",
    "    mlflow.set_tracking_uri('sqlite:///mlruns.db')\n",
    "    \n",
    "\n",
    "def display_config():\n",
    "    \n",
    "    import mlflow\n",
    "    \n",
    "    print(\"Current model registry uri: {}\".format(mlflow.get_registry_uri()))\n",
    "    print(\"      Current tracking uri: {}\".format(mlflow.get_tracking_uri()))\n",
    "    "
   ]
  },
  {
   "cell_type": "markdown",
   "id": "fec9deb0-769c-4329-b68a-45b2b56e6035",
   "metadata": {},
   "source": [
    "Adición del modelo con mlflow.\\<model_flavor\\>.log_model()\n",
    "---"
   ]
  },
  {
   "cell_type": "code",
   "execution_count": 3,
   "id": "6b80df15-38e9-476b-9672-cd019e4620ca",
   "metadata": {},
   "outputs": [
    {
     "name": "stderr",
     "output_type": "stream",
     "text": [
      "2022/04/06 17:03:53 INFO mlflow.store.db.utils: Creating initial MLflow database tables...\n",
      "2022/04/06 17:03:53 INFO mlflow.store.db.utils: Updating database tables\n",
      "INFO  [alembic.runtime.migration] Context impl SQLiteImpl.\n",
      "INFO  [alembic.runtime.migration] Will assume non-transactional DDL.\n",
      "INFO  [alembic.runtime.migration] Running upgrade  -> 451aebb31d03, add metric step\n",
      "INFO  [alembic.runtime.migration] Running upgrade 451aebb31d03 -> 90e64c465722, migrate user column to tags\n",
      "INFO  [alembic.runtime.migration] Running upgrade 90e64c465722 -> 181f10493468, allow nulls for metric values\n",
      "INFO  [alembic.runtime.migration] Running upgrade 181f10493468 -> df50e92ffc5e, Add Experiment Tags Table\n",
      "INFO  [alembic.runtime.migration] Running upgrade df50e92ffc5e -> 7ac759974ad8, Update run tags with larger limit\n",
      "INFO  [alembic.runtime.migration] Running upgrade 7ac759974ad8 -> 89d4b8295536, create latest metrics table\n",
      "INFO  [89d4b8295536_create_latest_metrics_table_py] Migration complete!\n",
      "INFO  [alembic.runtime.migration] Running upgrade 89d4b8295536 -> 2b4d017a5e9b, add model registry tables to db\n",
      "INFO  [2b4d017a5e9b_add_model_registry_tables_to_db_py] Adding registered_models and model_versions tables to database.\n",
      "INFO  [2b4d017a5e9b_add_model_registry_tables_to_db_py] Migration complete!\n",
      "INFO  [alembic.runtime.migration] Running upgrade 2b4d017a5e9b -> cfd24bdc0731, Update run status constraint with killed\n",
      "INFO  [alembic.runtime.migration] Running upgrade cfd24bdc0731 -> 0a8213491aaa, drop_duplicate_killed_constraint\n",
      "INFO  [alembic.runtime.migration] Running upgrade 0a8213491aaa -> 728d730b5ebd, add registered model tags table\n",
      "INFO  [alembic.runtime.migration] Running upgrade 728d730b5ebd -> 27a6a02d2cf1, add model version tags table\n",
      "INFO  [alembic.runtime.migration] Running upgrade 27a6a02d2cf1 -> 84291f40a231, add run_link to model_version\n",
      "INFO  [alembic.runtime.migration] Running upgrade 84291f40a231 -> a8c4a736bde6, allow nulls for run_id\n",
      "INFO  [alembic.runtime.migration] Running upgrade a8c4a736bde6 -> 39d1c3be5f05, add_is_nan_constraint_for_metrics_tables_if_necessary\n",
      "INFO  [alembic.runtime.migration] Running upgrade 39d1c3be5f05 -> c48cb773bb87, reset_default_value_for_is_nan_in_metrics_table_for_mysql\n",
      "INFO  [alembic.runtime.migration] Context impl SQLiteImpl.\n",
      "INFO  [alembic.runtime.migration] Will assume non-transactional DDL.\n"
     ]
    },
    {
     "name": "stdout",
     "output_type": "stream",
     "text": [
      "MLflow run ID: 5b3da9f5bc074740b2d309cce9f2c90d\n",
      "Pipeline(steps=[('minMaxScaler', MinMaxScaler()),\n",
      "                ('estimator', KNeighborsRegressor())]):\n",
      "  MSE: 84.86041046511627\n",
      "  MAE: 7.058906976744186\n",
      "  R2: 0.7110687336840049\n"
     ]
    },
    {
     "name": "stderr",
     "output_type": "stream",
     "text": [
      "Successfully registered model 'sklearn-5-neighbors-regressor-model'.\n",
      "2022/04/06 17:03:56 INFO mlflow.tracking._model_registry.client: Waiting up to 300 seconds for model version to finish creation.                     Model name: sklearn-5-neighbors-regressor-model, version 1\n",
      "Created version '1' of model 'sklearn-5-neighbors-regressor-model'.\n"
     ]
    }
   ],
   "source": [
    "def make_k_neighbors_regressor(n_neighbors):\n",
    "\n",
    "    from sklearn.neighbors import KNeighborsRegressor\n",
    "\n",
    "    import mlflow\n",
    "\n",
    "    x, y = load_data()\n",
    "    x_train, x_test, y_train, y_test = make_train_test_split(x, y)\n",
    "\n",
    "    estimator = make_pipeline(\n",
    "        estimator=KNeighborsRegressor(n_neighbors=n_neighbors),\n",
    "    )\n",
    "    \n",
    "    set_tracking_uri()\n",
    "\n",
    "    with mlflow.start_run(run_name=\"DEMO_RUN\") as run:\n",
    "\n",
    "        print(f\"MLflow run ID: {run.info.run_id}\")\n",
    "        \n",
    "        estimator.fit(x_train, y_train)\n",
    "\n",
    "        mse, mae, r2 = eval_metrics(\n",
    "            y_true=y_test,\n",
    "            y_pred=estimator.predict(x_test),\n",
    "        )\n",
    "        \n",
    "        report(estimator, mse, mae, r2)\n",
    "        \n",
    "        #\n",
    "        # Parametros y metricas\n",
    "        #\n",
    "        mlflow.log_param('n_neighbors', n_neighbors)\n",
    "        mlflow.log_metric(\"mse\", mse)\n",
    "        mlflow.log_metric(\"mae\", mae)\n",
    "        mlflow.log_metric(\"r2\", r2)\n",
    "        \n",
    "        #\n",
    "        # Registro del modelo como version 1\n",
    "        #\n",
    "        mlflow.sklearn.log_model(\n",
    "            sk_model=estimator,\n",
    "            artifact_path=\"model\",\n",
    "            registered_model_name=f\"sklearn-{n_neighbors}-neighbors-regressor-model\"\n",
    "        )\n",
    "\n",
    "        \n",
    "make_k_neighbors_regressor(n_neighbors=5)"
   ]
  },
  {
   "cell_type": "markdown",
   "id": "af2e8be2-37a6-4767-a949-8d2f16af681b",
   "metadata": {},
   "source": [
    "Adición del modelo con mlflow.register.model()\n",
    "---"
   ]
  },
  {
   "cell_type": "code",
   "execution_count": 4,
   "id": "3950a796-5790-47aa-80ad-54de6c29c711",
   "metadata": {},
   "outputs": [
    {
     "name": "stdout",
     "output_type": "stream",
     "text": [
      "MLflow run ID: 5aebfd7b67cd4bbe8f6203dd17929e01\n",
      "Pipeline(steps=[('minMaxScaler', MinMaxScaler()),\n",
      "                ('estimator', KNeighborsRegressor())]):\n",
      "  MSE: 84.86041046511627\n",
      "  MAE: 7.058906976744186\n",
      "  R2: 0.7110687336840049\n"
     ]
    },
    {
     "name": "stderr",
     "output_type": "stream",
     "text": [
      "Registered model 'sklearn-5-neighbors-regressor-model' already exists. Creating a new version of this model...\n",
      "2022/04/06 17:04:04 INFO mlflow.tracking._model_registry.client: Waiting up to 300 seconds for model version to finish creation.                     Model name: sklearn-5-neighbors-regressor-model, version 2\n",
      "Created version '2' of model 'sklearn-5-neighbors-regressor-model'.\n"
     ]
    }
   ],
   "source": [
    "def make_k_neighbors_regressor(n_neighbors):\n",
    "\n",
    "    from sklearn.neighbors import KNeighborsRegressor\n",
    "\n",
    "    import mlflow\n",
    "\n",
    "    x, y = load_data()\n",
    "    x_train, x_test, y_train, y_test = make_train_test_split(x, y)\n",
    "\n",
    "    estimator = make_pipeline(\n",
    "        estimator=KNeighborsRegressor(n_neighbors=n_neighbors),\n",
    "    )\n",
    "    \n",
    "    set_tracking_uri()\n",
    "\n",
    "    with mlflow.start_run(run_name=\"DEMO_RUN\") as run:\n",
    "\n",
    "        print(f\"MLflow run ID: {run.info.run_id}\")\n",
    "        \n",
    "        estimator.fit(x_train, y_train)\n",
    "\n",
    "        mse, mae, r2 = eval_metrics(\n",
    "            y_true=y_test,\n",
    "            y_pred=estimator.predict(x_test),\n",
    "        )\n",
    "        \n",
    "        report(estimator, mse, mae, r2)\n",
    "        \n",
    "        #\n",
    "        # Parametros y metricas\n",
    "        #\n",
    "        mlflow.log_param('n_neighbors', n_neighbors)\n",
    "        mlflow.log_metric(\"mse\", mse)\n",
    "        mlflow.log_metric(\"mae\", mae)\n",
    "        mlflow.log_metric(\"r2\", r2)\n",
    "        \n",
    "        #\n",
    "        # log del modelo\n",
    "        #\n",
    "        mlflow.sklearn.log_model(estimator, \"model\")\n",
    "              \n",
    "        #\n",
    "        # Despues de realizar muchas corridas, se registra el medelo usando el \n",
    "        # run_id\n",
    "        #\n",
    "        mlflow.register_model(\n",
    "            f\"runs:/{run.info.run_id}\",\n",
    "            f\"sklearn-{n_neighbors}-neighbors-regressor-model\"\n",
    "        )\n",
    "        \n",
    "\n",
    "        \n",
    "make_k_neighbors_regressor(n_neighbors=5)"
   ]
  },
  {
   "cell_type": "markdown",
   "id": "5b6ad8a7-5a15-4667-8e8e-d000d5eb521a",
   "metadata": {},
   "source": [
    "Adición del modelo con create_registered_model()\n",
    "---"
   ]
  },
  {
   "cell_type": "code",
   "execution_count": 5,
   "id": "42443186-93b4-4e9b-8536-f7d94e8eb05f",
   "metadata": {},
   "outputs": [
    {
     "name": "stdout",
     "output_type": "stream",
     "text": [
      "MLflow run ID: e60e350f820449dca03bf60e1c364e7c\n",
      "Pipeline(steps=[('minMaxScaler', MinMaxScaler()),\n",
      "                ('estimator', KNeighborsRegressor())]):\n",
      "  MSE: 84.86041046511627\n",
      "  MAE: 7.058906976744186\n",
      "  R2: 0.7110687336840049\n"
     ]
    },
    {
     "name": "stderr",
     "output_type": "stream",
     "text": [
      "2022/04/06 17:04:15 INFO mlflow.tracking._model_registry.client: Waiting up to 300 seconds for model version to finish creation.                     Model name: sklearn-5-neighbors-regressor-model, version 3\n"
     ]
    }
   ],
   "source": [
    "def make_k_neighbors_regressor(n_neighbors):\n",
    "\n",
    "    from sklearn.neighbors import KNeighborsRegressor\n",
    "\n",
    "    import mlflow\n",
    "    from mlflow.tracking import MlflowClient\n",
    "\n",
    "    x, y = load_data()\n",
    "    x_train, x_test, y_train, y_test = make_train_test_split(x, y)\n",
    "\n",
    "    estimator = make_pipeline(\n",
    "        estimator=KNeighborsRegressor(n_neighbors=n_neighbors),\n",
    "    )\n",
    "\n",
    "    set_tracking_uri()\n",
    "\n",
    "    with mlflow.start_run(run_name=\"DEMO_RUN\") as run:\n",
    "\n",
    "        print(f\"MLflow run ID: {run.info.run_id}\")\n",
    "\n",
    "        estimator.fit(x_train, y_train)\n",
    "\n",
    "        mse, mae, r2 = eval_metrics(\n",
    "            y_true=y_test,\n",
    "            y_pred=estimator.predict(x_test),\n",
    "        )\n",
    "\n",
    "        report(estimator, mse, mae, r2)\n",
    "\n",
    "        #\n",
    "        # Parametros y metricas\n",
    "        #\n",
    "        mlflow.log_param(\"n_neighbors\", n_neighbors)\n",
    "        mlflow.log_metric(\"mse\", mse)\n",
    "        mlflow.log_metric(\"mae\", mae)\n",
    "        mlflow.log_metric(\"r2\", r2)\n",
    "\n",
    "        #\n",
    "        # log del modelo\n",
    "        #\n",
    "        mlflow.sklearn.log_model(estimator, \"model\")\n",
    "\n",
    "        #\n",
    "        # Despues de realizar muchas corridas, se registra el medelo usando el\n",
    "        # run_id\n",
    "        #\n",
    "        client = MlflowClient()\n",
    "        client.create_model_version(\n",
    "            name=f\"sklearn-{n_neighbors}-neighbors-regressor-model\",\n",
    "            source=f\"mlruns/0/{run.info.run_id}/artifacts/model\",\n",
    "            run_id=run.info.run_id,\n",
    "        )\n",
    "\n",
    "\n",
    "make_k_neighbors_regressor(n_neighbors=5)"
   ]
  },
  {
   "cell_type": "markdown",
   "id": "08fa52ad-3236-4ff0-8cf2-b9bc530bf64e",
   "metadata": {},
   "source": [
    "Carga de una versión específica del modelo\n",
    "---"
   ]
  },
  {
   "cell_type": "code",
   "execution_count": 6,
   "id": "6316dc76-2c35-4ccd-ae29-6feab5dac535",
   "metadata": {},
   "outputs": [
    {
     "data": {
      "text/plain": [
       "array([38.838, 15.852, 11.67 , 26.634, 32.11 , 27.81 , 24.602, 18.056,\n",
       "       18.93 , 42.354])"
      ]
     },
     "execution_count": 6,
     "metadata": {},
     "output_type": "execute_result"
    }
   ],
   "source": [
    "#\n",
    "# Carga de una versión específica del modelo\n",
    "#\n",
    "def predict():\n",
    "    \n",
    "    import mlflow\n",
    "    \n",
    "    x, y = load_data()\n",
    "    x_train, x_test, y_train, y_test = make_train_test_split(x, y)\n",
    "    \n",
    "    model_name = \"sklearn-5-neighbors-regressor-model\"\n",
    "    model_version = 1\n",
    "\n",
    "    model = mlflow.pyfunc.load_model(\n",
    "        model_uri=f\"models:/{model_name}/{model_version}\"\n",
    "    )\n",
    "\n",
    "    return model.predict(x_test[0:10])\n",
    "    \n",
    "    \n",
    "predict()"
   ]
  },
  {
   "cell_type": "markdown",
   "id": "e4247820-bcaf-4794-979c-8b20089d1902",
   "metadata": {},
   "source": [
    "Cambio manual del estado de un modelo\n",
    "---"
   ]
  },
  {
   "cell_type": "markdown",
   "id": "149eff2c-ba9b-46e6-b73b-6a1d644b0a99",
   "metadata": {},
   "source": [
    "* None (cuando se crea)\n",
    "\n",
    "* Staging\n",
    "\n",
    "* Production\n",
    "\n",
    "* Archived"
   ]
  },
  {
   "cell_type": "markdown",
   "id": "4811e40d-d832-481a-bdf1-cf635e47279d",
   "metadata": {},
   "source": [
    "Se entra a mlflow ui y se cambia el estado del modelo."
   ]
  },
  {
   "cell_type": "markdown",
   "id": "ee4732c9-43ce-4853-b11b-258d6ef9e17a",
   "metadata": {},
   "source": [
    "Para visualizar la interfase use:\n",
    "\n",
    "```bash\n",
    "mlflow ui --backend-store-uri sqlite:///mlruns.db\n",
    "```\n",
    "\n",
    "**Nota:** En docker usar:\n",
    "\n",
    "```bash\n",
    "mlflow ui --host 0.0.0.0 --backend-store-uri sqlite:///mlruns.db\n",
    "``` \n",
    "\n",
    "con: \n",
    "\n",
    "http://127.0.0.1:5001\n"
   ]
  },
  {
   "cell_type": "markdown",
   "id": "447dc1e6-10cb-4178-8e3f-3df0fc63967b",
   "metadata": {},
   "source": [
    "**Paso 1**\n",
    "\n",
    "![assets/mlflow-registry-api-workflow-part-0.png](assets/mlflow-registry-api-workflow-part-0.png)"
   ]
  },
  {
   "cell_type": "markdown",
   "id": "3c61feb7-4a7f-4e5d-b986-3586d868a4ad",
   "metadata": {},
   "source": [
    "**Paso 2**\n",
    "\n",
    "![assets/mlflow-registry-api-workflow-part-0.png](assets/mlflow-registry-api-workflow-part-1.png)"
   ]
  },
  {
   "cell_type": "markdown",
   "id": "d9f287aa-43a1-4a2e-a72a-6a2f12028a25",
   "metadata": {},
   "source": [
    "**Paso 3**\n",
    "\n",
    "![assets/mlflow-registry-api-workflow-part-0.png](assets/mlflow-registry-api-workflow-part-2.png)"
   ]
  },
  {
   "cell_type": "markdown",
   "id": "cd591ea1-7d1d-4111-9c58-7027783d47bb",
   "metadata": {},
   "source": [
    "**Paso 4**\n",
    "\n",
    "![assets/mlflow-registry-api-workflow-part-0.png](assets/mlflow-registry-api-workflow-part-3.png)"
   ]
  },
  {
   "cell_type": "markdown",
   "id": "073bb912-0e7b-4d45-aced-65743623f2b7",
   "metadata": {},
   "source": [
    "**Paso 5**\n",
    "\n",
    "![assets/mlflow-registry-api-workflow-part-0.png](assets/mlflow-registry-api-workflow-part-4.png)"
   ]
  },
  {
   "cell_type": "markdown",
   "id": "1357d11e-386e-4f77-870d-6e135b52746e",
   "metadata": {},
   "source": [
    "Carga de un modelo por estado\n",
    "---"
   ]
  },
  {
   "cell_type": "code",
   "execution_count": 7,
   "id": "289b4231-8f58-43f7-8352-87feb634fe39",
   "metadata": {},
   "outputs": [
    {
     "data": {
      "text/plain": [
       "array([38.838, 15.852, 11.67 , 26.634, 32.11 , 27.81 , 24.602, 18.056,\n",
       "       18.93 , 42.354])"
      ]
     },
     "execution_count": 7,
     "metadata": {},
     "output_type": "execute_result"
    }
   ],
   "source": [
    "def predict():\n",
    "    \n",
    "    import mlflow\n",
    "    \n",
    "    x, y = load_data()\n",
    "    x_train, x_test, y_train, y_test = make_train_test_split(x, y)\n",
    "    \n",
    "    model_name = \"sklearn-5-neighbors-regressor-model\"\n",
    "    stage = 'Staging'\n",
    "\n",
    "    model = mlflow.pyfunc.load_model(\n",
    "        model_uri=f\"models:/{model_name}/{stage}\"\n",
    "    )\n",
    "\n",
    "    return model.predict(x_test[0:10])\n",
    "    \n",
    "    \n",
    "predict()"
   ]
  },
  {
   "cell_type": "markdown",
   "id": "ece3c9e6-4efb-458c-9b59-05f936f80233",
   "metadata": {},
   "source": [
    "Puesta en productivo como un API\n",
    "---\n",
    "\n",
    "```bash\n",
    "#!/usr/bin/env sh\n",
    "\n",
    "export MLFLOW_TRACKING_URI=http://localhost:5000\n",
    "\n",
    "mlflow models serve -m \"models:/sklearn-5-neighbors-regressor-model/Production\"\n",
    "\n",
    "```"
   ]
  },
  {
   "cell_type": "markdown",
   "id": "dc9b8454-544c-4d8a-8d8a-6cb1c731a7d6",
   "metadata": {},
   "source": [
    "Cambio del estado de un modelo por código\n",
    "---"
   ]
  },
  {
   "cell_type": "code",
   "execution_count": 8,
   "id": "abc855e4-d8d3-4774-8e30-6dd035ce5d9e",
   "metadata": {},
   "outputs": [],
   "source": [
    "def change_name():\n",
    "\n",
    "    import mlflow\n",
    "\n",
    "    client = mlflow.tracking.MlflowClient()\n",
    "\n",
    "    client.transition_model_version_stage(\n",
    "        name=\"sklearn-5-neighbors-regressor-model\",\n",
    "        version=1,\n",
    "        #  Staging|Archived|Production|None\n",
    "        stage=\"Production\",\n",
    "    )\n",
    "\n",
    "\n",
    "change_name()"
   ]
  },
  {
   "cell_type": "markdown",
   "id": "25230d53-07c8-40a2-9365-3534532ab381",
   "metadata": {},
   "source": [
    "Listado y búsqueda de modelos\n",
    "--"
   ]
  },
  {
   "cell_type": "code",
   "execution_count": 9,
   "id": "9885e12e-04e3-4445-9c98-b7c273c6d263",
   "metadata": {},
   "outputs": [
    {
     "name": "stdout",
     "output_type": "stream",
     "text": [
      "{   'creation_timestamp': 1649264636530,\n",
      "    'description': None,\n",
      "    'last_updated_timestamp': 1649264764048,\n",
      "    'latest_versions': [   <ModelVersion: creation_timestamp=1649264636569, current_stage='Production', description=None, last_updated_timestamp=1649264764048, name='sklearn-5-neighbors-regressor-model', run_id='5b3da9f5bc074740b2d309cce9f2c90d', run_link=None, source='./mlruns/0/5b3da9f5bc074740b2d309cce9f2c90d/artifacts/model', status='READY', status_message=None, tags={}, user_id=None, version=1>,\n",
      "                           <ModelVersion: creation_timestamp=1649264644896, current_stage='None', description=None, last_updated_timestamp=1649264644896, name='sklearn-5-neighbors-regressor-model', run_id='5aebfd7b67cd4bbe8f6203dd17929e01', run_link=None, source='./mlruns/0/5aebfd7b67cd4bbe8f6203dd17929e01/artifacts', status='READY', status_message=None, tags={}, user_id=None, version=2>,\n",
      "                           <ModelVersion: creation_timestamp=1649264655243, current_stage='Staging', description=None, last_updated_timestamp=1649264748555, name='sklearn-5-neighbors-regressor-model', run_id='e60e350f820449dca03bf60e1c364e7c', run_link=None, source='mlruns/0/e60e350f820449dca03bf60e1c364e7c/artifacts/model', status='READY', status_message=None, tags={}, user_id=None, version=3>],\n",
      "    'name': 'sklearn-5-neighbors-regressor-model',\n",
      "    'tags': {}}\n"
     ]
    }
   ],
   "source": [
    "def list_models():\n",
    "\n",
    "    from pprint import pprint\n",
    "\n",
    "    import mlflow\n",
    "\n",
    "    client = mlflow.tracking.MlflowClient()\n",
    "\n",
    "    for rm in client.list_registered_models():\n",
    "        pprint(dict(rm), indent=4)\n",
    "        \n",
    "        \n",
    "list_models()"
   ]
  },
  {
   "cell_type": "code",
   "execution_count": 10,
   "id": "47d1859c-4fe9-411f-9070-1a55aa880eb3",
   "metadata": {},
   "outputs": [
    {
     "name": "stdout",
     "output_type": "stream",
     "text": [
      "{   'creation_timestamp': 1649264636569,\n",
      "    'current_stage': 'Production',\n",
      "    'description': None,\n",
      "    'last_updated_timestamp': 1649264764048,\n",
      "    'name': 'sklearn-5-neighbors-regressor-model',\n",
      "    'run_id': '5b3da9f5bc074740b2d309cce9f2c90d',\n",
      "    'run_link': None,\n",
      "    'source': './mlruns/0/5b3da9f5bc074740b2d309cce9f2c90d/artifacts/model',\n",
      "    'status': 'READY',\n",
      "    'status_message': None,\n",
      "    'tags': {},\n",
      "    'user_id': None,\n",
      "    'version': 1}\n",
      "\n",
      "{   'creation_timestamp': 1649264644896,\n",
      "    'current_stage': 'None',\n",
      "    'description': None,\n",
      "    'last_updated_timestamp': 1649264644896,\n",
      "    'name': 'sklearn-5-neighbors-regressor-model',\n",
      "    'run_id': '5aebfd7b67cd4bbe8f6203dd17929e01',\n",
      "    'run_link': None,\n",
      "    'source': './mlruns/0/5aebfd7b67cd4bbe8f6203dd17929e01/artifacts',\n",
      "    'status': 'READY',\n",
      "    'status_message': None,\n",
      "    'tags': {},\n",
      "    'user_id': None,\n",
      "    'version': 2}\n",
      "\n",
      "{   'creation_timestamp': 1649264655243,\n",
      "    'current_stage': 'Staging',\n",
      "    'description': None,\n",
      "    'last_updated_timestamp': 1649264748555,\n",
      "    'name': 'sklearn-5-neighbors-regressor-model',\n",
      "    'run_id': 'e60e350f820449dca03bf60e1c364e7c',\n",
      "    'run_link': None,\n",
      "    'source': 'mlruns/0/e60e350f820449dca03bf60e1c364e7c/artifacts/model',\n",
      "    'status': 'READY',\n",
      "    'status_message': None,\n",
      "    'tags': {},\n",
      "    'user_id': None,\n",
      "    'version': 3}\n",
      "\n"
     ]
    }
   ],
   "source": [
    "def search_models():\n",
    "    \n",
    "    from pprint import pprint\n",
    "\n",
    "    import mlflow\n",
    "\n",
    "    client = mlflow.tracking.MlflowClient()\n",
    "    \n",
    "    for mv in client.search_model_versions(\"name='sklearn-5-neighbors-regressor-model'\"):\n",
    "        pprint(dict(mv), indent=4)\n",
    "        print()\n",
    "        \n",
    "search_models()"
   ]
  }
 ],
 "metadata": {
  "kernelspec": {
   "display_name": "Python 3 (ipykernel)",
   "language": "python",
   "name": "python3"
  },
  "language_info": {
   "codemirror_mode": {
    "name": "ipython",
    "version": 3
   },
   "file_extension": ".py",
   "mimetype": "text/x-python",
   "name": "python",
   "nbconvert_exporter": "python",
   "pygments_lexer": "ipython3",
   "version": "3.8.10"
  }
 },
 "nbformat": 4,
 "nbformat_minor": 5
}
