{
 "cells": [
  {
   "cell_type": "markdown",
   "id": "7f8fcfa0-86dc-4739-959d-fe5dde256310",
   "metadata": {
    "tags": []
   },
   "source": [
    "Tracking con TensorFlow usando el sistema local de archivos --- 0:00 min\n",
    "===\n",
    "\n",
    "* 0:00 min | Ultima modificación: Abril 4, 2022 | YouTube"
   ]
  },
  {
   "cell_type": "markdown",
   "id": "e3be0422-2674-4ed4-aa46-82a79962366e",
   "metadata": {},
   "source": [
    "Código base\n",
    "---"
   ]
  },
  {
   "cell_type": "code",
   "execution_count": 5,
   "id": "435ea39e-f3a7-4a43-82d9-dc14a0e69354",
   "metadata": {},
   "outputs": [],
   "source": [
    "def load_data():\n",
    "\n",
    "    import pandas as pd\n",
    "\n",
    "    url = \"http://archive.ics.uci.edu/ml/machine-learning-databases/wine-quality/winequality-red.csv\"\n",
    "    df = pd.read_csv(url, sep=\";\")\n",
    "\n",
    "    y = df[\"quality\"]\n",
    "    x = df.copy()\n",
    "    x.pop(\"quality\")\n",
    "\n",
    "    return x, y\n",
    "\n",
    "\n",
    "def make_train_test_split(x, y):\n",
    "    #\n",
    "    # En TF la partición de los datos se realiza por fuera del ambienta. Esto\n",
    "    # es, los archivos ya se encuentran divididos en train y test. En este\n",
    "    # ejemplo se aprovecha sklearn para mantener la compatibilidad con los\n",
    "    # tutoriales anteriores.\n",
    "    #\n",
    "    from sklearn.model_selection import train_test_split\n",
    "\n",
    "    (x_train, x_test, y_train, y_test) = train_test_split(\n",
    "        x,\n",
    "        y,\n",
    "        test_size=0.25,\n",
    "        random_state=123456,\n",
    "    )\n",
    "    return x_train, x_test, y_train, y_test\n",
    "\n",
    "\n",
    "def eval_metrics(y_true, y_pred):\n",
    "\n",
    "    #\n",
    "    # En este ejemplo se puede hacer con sklearn debido a que la muestra es \n",
    "    # pequeña y se desea hacer el ejemplo compatible con el resto de tutoriales\n",
    "    # de esta sección.\n",
    "    #\n",
    "    from sklearn.metrics import mean_absolute_error, mean_squared_error, r2_score\n",
    "\n",
    "    mse = mean_squared_error(y_true, y_pred)\n",
    "    mae = mean_absolute_error(y_true, y_pred)\n",
    "    r2 = r2_score(y_true, y_pred)\n",
    "\n",
    "    return mse, mae, r2\n",
    "\n",
    "\n",
    "def report(estimator, mse, mae, r2):\n",
    "\n",
    "    print(estimator, \":\", sep=\"\")\n",
    "    print(f\"  MSE: {mse}\")\n",
    "    print(f\"  MAE: {mae}\")\n",
    "    print(f\"  R2: {r2}\")"
   ]
  },
  {
   "cell_type": "markdown",
   "id": "23ce5b6b-8375-4364-a26a-ce93047f25ac",
   "metadata": {},
   "source": [
    "MLflow Tracking\n",
    "---"
   ]
  },
  {
   "cell_type": "code",
   "execution_count": 6,
   "id": "13ca8eb5-9ade-4d0c-b8f9-58dd7ca0511d",
   "metadata": {},
   "outputs": [],
   "source": [
    "def make_experiment(experiment_name, units, verbose=0):\n",
    "\n",
    "    import os\n",
    "\n",
    "    os.environ[\"TF_CPP_MIN_LOG_LEVEL\"] = \"2\"\n",
    "    \n",
    "    import tensorflow as tf\n",
    "\n",
    "    import mlflow\n",
    "    import mlflow.sklearn\n",
    "\n",
    "    x, y = load_data()\n",
    "    x_train, x_test, y_train, y_test = make_train_test_split(x, y)\n",
    "\n",
    "    FEATURES = 11\n",
    "\n",
    "\n",
    "    #\n",
    "    # Establece el directorio de tracking. Esta es la dirección absoluta al\n",
    "    # directorio actual en este ejemplo.\n",
    "    #\n",
    "    if not os.path.exists(\"mlruns\"):\n",
    "        os.makedirs(\"mlruns\")\n",
    "    mlflow.set_tracking_uri(\"file:///datalake/mlflow/mlruns\")\n",
    "    print(\"Tracking directory:\", mlflow.get_tracking_uri())\n",
    "\n",
    "    mlflow.tensorflow.autolog(\n",
    "        every_n_iter=1,\n",
    "        log_models=True,\n",
    "        disable=False,\n",
    "        exclusive=False,\n",
    "        disable_for_unsupported_versions=False,\n",
    "        silent=False,\n",
    "        registered_model_name=None,\n",
    "    )\n",
    "\n",
    "    #\n",
    "    # Almancena las corridas  en el experimento indicado\n",
    "    #\n",
    "    mlflow.set_experiment(experiment_name)\n",
    "\n",
    "    with mlflow.start_run() as run:\n",
    "\n",
    "        run = mlflow.active_run()\n",
    "        print(\"Active run_id: {}\".format(run.info.run_id))\n",
    "\n",
    "        model = tf.keras.Sequential(\n",
    "            [\n",
    "                tf.keras.layers.Dense(\n",
    "                    units,\n",
    "                    activation=\"relu\",\n",
    "                    input_shape=(FEATURES,),\n",
    "                ),\n",
    "                tf.keras.layers.Dense(1),\n",
    "            ]\n",
    "        )\n",
    "        \n",
    "        mlflow.log_param(\"units\", units)\n",
    "        \n",
    "\n",
    "        model.compile(\n",
    "            optimizer=tf.keras.optimizers.Adam(),\n",
    "            loss=\"mean_squared_error\",\n",
    "            metrics=[\n",
    "                \"mean_squared_error\",\n",
    "                \"mean_absolute_error\",\n",
    "            ]\n",
    "        )\n",
    "\n",
    "\n",
    "        model.fit(\n",
    "            x_train,\n",
    "            y_train,\n",
    "            epochs=1000,\n",
    "            verbose=verbose,\n",
    "            validation_split=0.2,\n",
    "        )\n",
    "\n",
    "        results = model.evaluate(\n",
    "            x_test,\n",
    "            y_test,\n",
    "            verbose=verbose,\n",
    "        )\n",
    "        \n",
    "        \n",
    "        y_pred = model.predict(x_test)\n",
    "        mse, mae, r2 = eval_metrics(y_test, y_pred=y_pred)\n",
    "        mlflow.log_metric(\"mse\", mse)\n",
    "        mlflow.log_metric(\"mae\", mae)\n",
    "        mlflow.log_metric(\"r2\", r2)\n",
    "        \n",
    "        \n",
    "    #\n",
    "    # Reporta el mejor modelo encontrado en la corrida\n",
    "    #\n",
    "    y_pred = model.predict(x_test)\n",
    "    mse, mae, r2 = eval_metrics(y_test, y_pred=y_pred)\n",
    "    if verbose > 0:\n",
    "        report(model, mse, mae, r2)"
   ]
  },
  {
   "cell_type": "code",
   "execution_count": 7,
   "id": "cf099de8-3152-4aa5-a8d1-b85b34bcd652",
   "metadata": {},
   "outputs": [
    {
     "name": "stdout",
     "output_type": "stream",
     "text": [
      "Runing for H=1 ...\n",
      "Tracking directory: file:///datalake/mlflow/mlruns\n",
      "Active run_id: 2f6719e2b77648228786700d3d479286\n",
      "INFO:tensorflow:Assets written to: /tmp/tmp8ogh4xoi/model/data/model/assets\n",
      "\n",
      "Runing for H=2 ...\n",
      "Tracking directory: file:///datalake/mlflow/mlruns\n",
      "Active run_id: e57e691adc8e483e87672c2c3343b191\n",
      "INFO:tensorflow:Assets written to: /tmp/tmp17y4wrnf/model/data/model/assets\n",
      "\n",
      "Runing for H=3 ...\n",
      "Tracking directory: file:///datalake/mlflow/mlruns\n",
      "Active run_id: ff7278c9570745e58c6451046ec35445\n",
      "INFO:tensorflow:Assets written to: /tmp/tmpk9liyoli/model/data/model/assets\n",
      "\n",
      "Runing for H=4 ...\n",
      "Tracking directory: file:///datalake/mlflow/mlruns\n",
      "Active run_id: 17a068cdf22a4fbb8c1812bbfcb8700e\n",
      "INFO:tensorflow:Assets written to: /tmp/tmpzay4hipz/model/data/model/assets\n",
      "\n"
     ]
    }
   ],
   "source": [
    "import numpy as np\n",
    "\n",
    "#\n",
    "# Se tantea para diferentes cantidades de neuronas en la capa oculta. Por \n",
    "# simplicidad no se varian otros parámetros como la tasa de aprendizaje o su\n",
    "# esquema de modificación\n",
    "#\n",
    "for units in range(1, 5):\n",
    "    print(f\"Runing for H={units} ...\")\n",
    "    make_experiment(\n",
    "        units=units,\n",
    "        experiment_name=\"red-wine\",\n",
    "        verbose=0,\n",
    "    )\n",
    "    print()"
   ]
  },
  {
   "cell_type": "markdown",
   "id": "d232297e-8232-4b91-af6e-22a8d05d92b4",
   "metadata": {},
   "source": [
    "MLflow ui\n",
    "---"
   ]
  },
  {
   "cell_type": "markdown",
   "id": "229102d0-3581-47f3-a1b7-76328450ff07",
   "metadata": {},
   "source": [
    "Para visualizar la interfase use:\n",
    "\n",
    "```bash\n",
    "mlflow ui\n",
    "```\n",
    "\n",
    "**Nota:** En docker usar:\n",
    "\n",
    "```bash\n",
    "mlflow ui --host 0.0.0.0 \n",
    "``` \n",
    "\n",
    "con: \n",
    "\n",
    "http://127.0.0.1:5001\n"
   ]
  },
  {
   "cell_type": "markdown",
   "id": "23698113-ff0c-473d-a99b-9cba037379fe",
   "metadata": {},
   "source": [
    "![assets/mlflow-tracking-1-sklearn-part-0.png](assets/mlflow-tracking-2-tensorflow-part-0.png)"
   ]
  },
  {
   "cell_type": "markdown",
   "id": "96f0e9f2-ea39-4296-a4a0-46f040b825f9",
   "metadata": {},
   "source": [
    "**Detalles de la corrida**"
   ]
  },
  {
   "cell_type": "markdown",
   "id": "27b3d550-1b36-4c90-91b8-c68178f0ea2a",
   "metadata": {},
   "source": [
    "![assets/mlflow-tracking-1-sklearn-part-1.png](assets/mlflow-tracking-2-tensorflow-part-1.png)\n",
    "![assets/mlflow-tracking-1-sklearn-part-2.png](assets/mlflow-tracking-2-tensorflow-part-2.png)\n",
    "![assets/mlflow-tracking-1-sklearn-part-3.png](assets/mlflow-tracking-2-tensorflow-part-3.png)"
   ]
  },
  {
   "cell_type": "markdown",
   "id": "928de67d-5d48-484c-abad-6278224f488b",
   "metadata": {
    "tags": []
   },
   "source": [
    "Chequeo\n",
    "---"
   ]
  },
  {
   "cell_type": "code",
   "execution_count": 8,
   "id": "f524f13f-de2d-41f2-8030-c92fca1bdaa6",
   "metadata": {},
   "outputs": [
    {
     "name": "stderr",
     "output_type": "stream",
     "text": [
      "/usr/local/lib/python3.9/site-packages/keras/backend.py:450: UserWarning: `tf.keras.backend.set_learning_phase` is deprecated and will be removed after 2020-10-11. To update it, simply pass a True/False value to the `training` argument of the `__call__` method of your layer or model.\n",
      "  warnings.warn('`tf.keras.backend.set_learning_phase` is deprecated and '\n"
     ]
    },
    {
     "name": "stdout",
     "output_type": "stream",
     "text": [
      "mlflow.pyfunc.loaded_model:\n",
      "  artifact_path: model\n",
      "  flavor: mlflow.keras\n",
      "  run_id: 17a068cdf22a4fbb8c1812bbfcb8700e\n",
      ":\n",
      "  MSE: 0.46573855418702975\n",
      "  MAE: 0.5218748867511749\n",
      "  R2: 0.3317715066006244\n"
     ]
    }
   ],
   "source": [
    "def check_estimator():\n",
    "\n",
    "    import mlflow\n",
    "\n",
    "    x, y = load_data()\n",
    "    x_train, x_test, y_train, y_test = make_train_test_split(x, y)\n",
    "\n",
    "    # NOTA: este parámetro es copiado directamente de la interfase de MLflow\n",
    "    estimator_path = \"runs:/17a068cdf22a4fbb8c1812bbfcb8700e/model\"\n",
    "    estimator = mlflow.pyfunc.load_model(estimator_path)\n",
    "    mse, mae, r2 = eval_metrics(y_test, y_pred=estimator.predict(x_test))\n",
    "    report(estimator, mse, mae, r2)\n",
    "\n",
    "\n",
    "#\n",
    "# Debe coincidir con el mejor modelo encontrado en la celdas anteriores\n",
    "#\n",
    "check_estimator()"
   ]
  },
  {
   "cell_type": "code",
   "execution_count": null,
   "id": "09f93621-61f9-4821-aa51-eee958d2febf",
   "metadata": {},
   "outputs": [],
   "source": [
    "# -----------------------------------------------------------------------------\n",
    "# No se borran las corridas para comparar resultados con otras librerías\n",
    "# -----------------------------------------------------------------------------\n",
    "# %%bash\n",
    "# rm -rf outputs mlruns models"
   ]
  }
 ],
 "metadata": {
  "kernelspec": {
   "display_name": "Python 3 (ipykernel)",
   "language": "python",
   "name": "python3"
  },
  "language_info": {
   "codemirror_mode": {
    "name": "ipython",
    "version": 3
   },
   "file_extension": ".py",
   "mimetype": "text/x-python",
   "name": "python",
   "nbconvert_exporter": "python",
   "pygments_lexer": "ipython3",
   "version": "3.9.12"
  }
 },
 "nbformat": 4,
 "nbformat_minor": 5
}
