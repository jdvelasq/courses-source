{
 "cells": [
  {
   "cell_type": "markdown",
   "id": "7f8fcfa0-86dc-4739-959d-fe5dde256310",
   "metadata": {
    "tags": []
   },
   "source": [
    "Storage format\n",
    "===\n",
    "\n",
    "* Ultima modificación: Mayo 14, 2022"
   ]
  },
  {
   "cell_type": "markdown",
   "id": "93b722cb-319d-4642-ac7b-f6117e60ae0b",
   "metadata": {},
   "source": [
    "https://www.mlflow.org/docs/latest/models.html"
   ]
  },
  {
   "cell_type": "markdown",
   "id": "fe20025a-9975-4684-ab92-3025911cd31a",
   "metadata": {},
   "source": [
    "Código base\n",
    "---"
   ]
  },
  {
   "cell_type": "code",
   "execution_count": 1,
   "id": "435ea39e-f3a7-4a43-82d9-dc14a0e69354",
   "metadata": {},
   "outputs": [],
   "source": [
    "def load_data():\n",
    "\n",
    "    import pandas as pd\n",
    "\n",
    "    url = \"http://archive.ics.uci.edu/ml/machine-learning-databases/wine-quality/winequality-red.csv\"\n",
    "    df = pd.read_csv(url, sep=\";\")\n",
    "\n",
    "    y = df[\"quality\"]\n",
    "    x = df.copy()\n",
    "    x.pop(\"quality\")\n",
    "\n",
    "    return x, y\n",
    "\n",
    "def make_train_test_split(x, y):\n",
    "\n",
    "    from sklearn.model_selection import train_test_split\n",
    "\n",
    "    (x_train, x_test, y_train, y_test) = train_test_split(\n",
    "        x,\n",
    "        y,\n",
    "        test_size=0.25,\n",
    "        random_state=123456,\n",
    "    )\n",
    "    return x_train, x_test, y_train, y_test\n",
    "\n",
    "def eval_metrics(y_true, y_pred):\n",
    "\n",
    "    from sklearn.metrics import mean_absolute_error, mean_squared_error, r2_score\n",
    "\n",
    "    mse = mean_squared_error(y_true, y_pred)\n",
    "    mae = mean_absolute_error(y_true, y_pred)\n",
    "    r2 = r2_score(y_true, y_pred)\n",
    "\n",
    "    return mse, mae, r2\n",
    "\n",
    "def report(estimator, mse, mae, r2):\n",
    "\n",
    "    print(estimator, \":\", sep=\"\")\n",
    "    print(f\"  MSE: {mse}\")\n",
    "    print(f\"  MAE: {mae}\")\n",
    "    print(f\"  R2: {r2}\")\n",
    "    \n",
    "def train_estimator(alpha=0.5, l1_ratio=0.5, verbose=1):\n",
    "\n",
    "    import mlflow.sklearn\n",
    "    from sklearn.linear_model import ElasticNet\n",
    "\n",
    "    import mlflow\n",
    "\n",
    "    x, y = load_data()\n",
    "    x_train, x_test, y_train, y_test = make_train_test_split(x, y)\n",
    "    \n",
    "    print('Tracking directory:', mlflow.get_tracking_uri())\n",
    "    \n",
    "    with mlflow.start_run():\n",
    "    \n",
    "        estimator = ElasticNet(alpha=alpha, l1_ratio=l1_ratio, random_state=12345)\n",
    "        estimator.fit(x_train, y_train)\n",
    "        mse, mae, r2 = eval_metrics(y_test, y_pred=estimator.predict(x_test))\n",
    "        if verbose > 0:\n",
    "            report(estimator, mse, mae, r2)\n",
    "         \n",
    "        mlflow.log_param(\"alpha\", alpha)\n",
    "        mlflow.log_param(\"l1_ratio\", l1_ratio)\n",
    "        \n",
    "        mlflow.log_metric(\"mse\", mse)\n",
    "        mlflow.log_metric(\"mae\", mae)\n",
    "        mlflow.log_metric(\"r2\", r2)\n",
    "        \n",
    "        mlflow.sklearn.log_model(estimator, \"model\")\n",
    "        \n",
    "        # -------------------------------------------------------------------------------\n",
    "        #\n",
    "        # Guardado del modelo para posible ejecución.\n",
    "        # Crea el directori\n",
    "        #\n",
    "        mlflow.sklearn.save_model(estimator, \"/tmp/my_model\")"
   ]
  },
  {
   "cell_type": "markdown",
   "id": "9da47c38-37f9-425e-a603-cf0c0b31d211",
   "metadata": {},
   "source": [
    "Almacenamiento del modelo de prueba\n",
    "---"
   ]
  },
  {
   "cell_type": "code",
   "execution_count": 2,
   "id": "cc73cad9-600d-41bd-96d2-ea1106c31e5e",
   "metadata": {},
   "outputs": [
    {
     "name": "stdout",
     "output_type": "stream",
     "text": [
      "\u001b[35m/tmp\u001b[m\u001b[m\n"
     ]
    }
   ],
   "source": [
    "!ls /tmp"
   ]
  },
  {
   "cell_type": "code",
   "execution_count": 3,
   "id": "3506e0a7-bda7-472a-981b-1f9f6a8b810f",
   "metadata": {},
   "outputs": [
    {
     "name": "stdout",
     "output_type": "stream",
     "text": [
      "Tracking directory: file:///Volumes/GitHub/courses-source/notebooks/mlflow/mlruns\n",
      "ElasticNet(alpha=0.1, l1_ratio=0.05, random_state=12345):\n",
      "  MSE: 0.48683363717622585\n",
      "  MAE: 0.5493759222336462\n",
      "  R2: 0.30150487868829456\n"
     ]
    },
    {
     "name": "stderr",
     "output_type": "stream",
     "text": [
      "/Volumes/GitHub/courses-source/notebooks/mlflow/.venv/lib/python3.8/site-packages/setuptools/distutils_patch.py:25: UserWarning: Distutils was imported before Setuptools. This usage is discouraged and may exhibit undesirable behaviors or errors. Please use Setuptools' objects directly or at least import Setuptools first.\n",
      "  warnings.warn(\n"
     ]
    }
   ],
   "source": [
    "!rm -rf mlruns\n",
    "train_estimator(0.1, 0.05)"
   ]
  },
  {
   "cell_type": "code",
   "execution_count": 4,
   "id": "0d9b1bef-a925-4ff2-83fb-15ab654577e8",
   "metadata": {},
   "outputs": [
    {
     "name": "stdout",
     "output_type": "stream",
     "text": [
      "\u001b[35m/tmp\u001b[m\u001b[m\n"
     ]
    }
   ],
   "source": [
    "!ls /tmp"
   ]
  },
  {
   "cell_type": "code",
   "execution_count": 5,
   "id": "e45037ef-e053-478f-8daf-e65ef033ab5b",
   "metadata": {},
   "outputs": [
    {
     "name": "stdout",
     "output_type": "stream",
     "text": [
      "MLmodel\n",
      "conda.yaml\n",
      "model.pkl\n",
      "python_env.yaml\n",
      "requirements.txt\n"
     ]
    }
   ],
   "source": [
    "!ls -1 /tmp/my_model/"
   ]
  },
  {
   "cell_type": "markdown",
   "id": "7f36e7cc-062e-46a0-9c2d-1fe6623921eb",
   "metadata": {},
   "source": [
    "Contenido de los archivos\n",
    "---"
   ]
  },
  {
   "cell_type": "code",
   "execution_count": 6,
   "id": "7c4197f9-d3cd-42d1-b2fe-e9765a86aae5",
   "metadata": {},
   "outputs": [
    {
     "name": "stdout",
     "output_type": "stream",
     "text": [
      "flavors:\n",
      "  python_function:\n",
      "    env: conda.yaml\n",
      "    loader_module: mlflow.sklearn\n",
      "    model_path: model.pkl\n",
      "    python_version: 3.8.9\n",
      "  sklearn:\n",
      "    code: null\n",
      "    pickled_model: model.pkl\n",
      "    serialization_format: cloudpickle\n",
      "    sklearn_version: 1.1.1\n",
      "mlflow_version: 1.26.1\n",
      "model_uuid: b5676e4da4b5402680a0b8df5a8e76ee\n",
      "utc_time_created: '2022-06-04 03:45:32.343915'\n"
     ]
    }
   ],
   "source": [
    "#\n",
    "# Especificación del modelo\n",
    "#\n",
    "!cat /tmp/my_model/MLmodel"
   ]
  },
  {
   "cell_type": "code",
   "execution_count": 7,
   "id": "706a352e-7a01-4a69-aeeb-1861113c9979",
   "metadata": {},
   "outputs": [
    {
     "name": "stdout",
     "output_type": "stream",
     "text": [
      "channels:\n",
      "- conda-forge\n",
      "dependencies:\n",
      "- python=3.8.9\n",
      "- pip<=22.1.2\n",
      "- pip:\n",
      "  - mlflow\n",
      "  - cloudpickle==2.1.0\n",
      "  - psutil==5.9.1\n",
      "  - scikit-learn==1.1.1\n",
      "name: mlflow-env\n"
     ]
    }
   ],
   "source": [
    "#\n",
    "# Especificación del ambiente\n",
    "#\n",
    "!cat /tmp/my_model/conda.yaml"
   ]
  },
  {
   "cell_type": "code",
   "execution_count": 8,
   "id": "7746b947-8f20-4cb5-b301-347c4704e6d2",
   "metadata": {},
   "outputs": [
    {
     "name": "stdout",
     "output_type": "stream",
     "text": [
      "mlflow\n",
      "cloudpickle==2.1.0\n",
      "psutil==5.9.1\n",
      "scikit-learn==1.1.1"
     ]
    }
   ],
   "source": [
    "#\n",
    "# Especificación de requerimientos\n",
    "#\n",
    "!cat /tmp/my_model/requirements.txt"
   ]
  },
  {
   "cell_type": "markdown",
   "id": "85627488-24f3-460f-9a07-3cb2e82a8f16",
   "metadata": {},
   "source": [
    "Uso de un modelo almacenado cargando directamente el modelo\n",
    "---"
   ]
  },
  {
   "cell_type": "code",
   "execution_count": 9,
   "id": "498f272c-088e-4108-90e7-e8ad2a1791c7",
   "metadata": {},
   "outputs": [
    {
     "name": "stdout",
     "output_type": "stream",
     "text": [
      "mlflow.pyfunc.loaded_model:\n",
      "  flavor: mlflow.sklearn\n",
      ":\n",
      "  MSE: 0.48683363717622585\n",
      "  MAE: 0.5493759222336462\n",
      "  R2: 0.30150487868829456\n"
     ]
    }
   ],
   "source": [
    "def check_estimator():\n",
    "\n",
    "    import mlflow\n",
    "\n",
    "    x, y = load_data()\n",
    "    x_train, x_test, y_train, y_test = make_train_test_split(x, y)\n",
    "\n",
    "    # -------------------------------------------------------------------------\n",
    "    # Se carga directamente de la carpeta en que se almacenó en el código \n",
    "    # anterior\n",
    "    estimator_path = \"/tmp/my_model\"\n",
    "    # -------------------------------------------------------------------------\n",
    "    \n",
    "    estimator = mlflow.pyfunc.load_model(estimator_path)\n",
    "    mse, mae, r2 = eval_metrics(y_test, y_pred=estimator.predict(x_test))\n",
    "    report(estimator, mse, mae, r2)\n",
    "\n",
    "\n",
    "#\n",
    "# Debe coincidir con el mejor modelo encontrado en la celdas anteriores\n",
    "#\n",
    "check_estimator()"
   ]
  },
  {
   "cell_type": "markdown",
   "id": "69702c71-d1cb-463a-96e0-d254987c2998",
   "metadata": {},
   "source": [
    "Uso del modelo con models serve\n",
    "---"
   ]
  },
  {
   "cell_type": "code",
   "execution_count": 10,
   "id": "78cdafcf-d1a8-47e3-9532-ee3e48cedd50",
   "metadata": {},
   "outputs": [
    {
     "data": {
      "text/plain": [
       "'\\'{\"columns\":[\"fixed acidity\",\"volatile acidity\",\"citric acid\",\"residual sugar\",\"chlorides\",\"free sulfur dioxide\",\"total sulfur dioxide\",\"density\",\"pH\",\"sulphates\",\"alcohol\"],\"index\":[1105,553,1339,1591,1552,1479,371,631,1559,741],\"data\":[[6.3,0.57,0.28,2.1,0.048,13.0,49.0,0.99374,3.41,0.6,12.8],[5.0,1.04,0.24,1.6,0.05,32.0,96.0,0.9934,3.74,0.62,11.5],[7.5,0.51,0.02,1.7,0.084,13.0,31.0,0.99538,3.36,0.54,10.5],[5.4,0.74,0.09,1.7,0.089,16.0,26.0,0.99402,3.67,0.56,11.6],[6.3,0.68,0.01,3.7,0.103,32.0,54.0,0.99586,3.51,0.66,11.3],[8.2,0.28,0.6,3.0,0.104,10.0,22.0,0.99828,3.39,0.68,10.6],[7.9,0.24,0.4,1.6,0.056,11.0,25.0,0.9967,3.32,0.87,8.7],[10.4,0.28,0.54,2.7,0.105,5.0,19.0,0.9988,3.25,0.63,9.5],[7.8,0.6,0.26,2.0,0.08,31.0,131.0,0.99622,3.21,0.52,9.9],[9.2,0.53,0.24,2.6,0.078,28.0,139.0,0.99788,3.21,0.57,9.5]]}\\''"
      ]
     },
     "execution_count": 10,
     "metadata": {},
     "output_type": "execute_result"
    }
   ],
   "source": [
    "def get_json_test_data():\n",
    "\n",
    "    x, y = load_data()\n",
    "    x_train, x_test, y_train, y_test = make_train_test_split(x, y)\n",
    "    \n",
    "    data = x_test.iloc[0:10,:].to_json(orient='split')\n",
    "\n",
    "    data = repr(data)\n",
    "    return data\n",
    "\n",
    "data = get_json_test_data()\n",
    "data"
   ]
  },
  {
   "cell_type": "markdown",
   "id": "beddffa7-5bc0-457a-a055-16ddcf62ce68",
   "metadata": {},
   "source": [
    "**Ejecutar en la consola:**\n",
    "\n",
    "```bash\n",
    "mlflow models serve --no-conda -m /tmp/my_model\n",
    "```"
   ]
  },
  {
   "cell_type": "markdown",
   "id": "3e927845-6cef-4c76-8410-b33c128ba55b",
   "metadata": {},
   "source": [
    "![assets/mlflow-model-1-serve.png](assets/mlflow-model-1-serve.png)"
   ]
  },
  {
   "cell_type": "code",
   "execution_count": 11,
   "id": "a7d6e8dd-8980-45a2-8c33-138e91a12907",
   "metadata": {},
   "outputs": [],
   "source": [
    "!curl http://127.0.0.1:5000/invocations -H 'Content-Type: application/json' -d {data}"
   ]
  }
 ],
 "metadata": {
  "kernelspec": {
   "display_name": "Python 3 (ipykernel)",
   "language": "python",
   "name": "python3"
  },
  "language_info": {
   "codemirror_mode": {
    "name": "ipython",
    "version": 3
   },
   "file_extension": ".py",
   "mimetype": "text/x-python",
   "name": "python",
   "nbconvert_exporter": "python",
   "pygments_lexer": "ipython3",
   "version": "3.8.9"
  }
 },
 "nbformat": 4,
 "nbformat_minor": 5
}
