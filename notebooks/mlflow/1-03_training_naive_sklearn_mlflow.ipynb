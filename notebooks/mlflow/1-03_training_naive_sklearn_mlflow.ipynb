{
 "cells": [
  {
   "cell_type": "markdown",
   "id": "7f8fcfa0-86dc-4739-959d-fe5dde256310",
   "metadata": {
    "tags": []
   },
   "source": [
    "Entrenamiento ingenuo de modelos en sklearn con MLflow\n",
    "===\n",
    "\n",
    "* Ultima modificación: Mayo 14, 2022"
   ]
  },
  {
   "cell_type": "markdown",
   "id": "93b722cb-319d-4642-ac7b-f6117e60ae0b",
   "metadata": {},
   "source": [
    "https://www.mlflow.org/docs/latest/quickstart.html"
   ]
  },
  {
   "cell_type": "markdown",
   "id": "fe20025a-9975-4684-ab92-3025911cd31a",
   "metadata": {},
   "source": [
    "Carga de datos\n",
    "---"
   ]
  },
  {
   "cell_type": "code",
   "execution_count": 1,
   "id": "435ea39e-f3a7-4a43-82d9-dc14a0e69354",
   "metadata": {},
   "outputs": [],
   "source": [
    "def load_data():\n",
    "\n",
    "    import pandas as pd\n",
    "\n",
    "    url = \"http://archive.ics.uci.edu/ml/machine-learning-databases/wine-quality/winequality-red.csv\"\n",
    "    df = pd.read_csv(url, sep=\";\")\n",
    "\n",
    "    y = df[\"quality\"]\n",
    "    x = df.copy()\n",
    "    x.pop(\"quality\")\n",
    "\n",
    "    return x, y"
   ]
  },
  {
   "cell_type": "markdown",
   "id": "9664c7d9-c793-46bb-9da2-4cd7ef2b7551",
   "metadata": {},
   "source": [
    "Particionamiento de los datos\n",
    "---"
   ]
  },
  {
   "cell_type": "code",
   "execution_count": 2,
   "id": "16052a77-ecfe-4792-80f4-87c83c2ef3c1",
   "metadata": {},
   "outputs": [],
   "source": [
    "def make_train_test_split(x, y):\n",
    "\n",
    "    from sklearn.model_selection import train_test_split\n",
    "\n",
    "    (x_train, x_test, y_train, y_test) = train_test_split(\n",
    "        x,\n",
    "        y,\n",
    "        test_size=0.25,\n",
    "        random_state=123456,\n",
    "    )\n",
    "    return x_train, x_test, y_train, y_test"
   ]
  },
  {
   "cell_type": "markdown",
   "id": "7effd7ff-7219-4a4d-a025-3ab6ebc30973",
   "metadata": {},
   "source": [
    "Métricas de evaluación\n",
    "---"
   ]
  },
  {
   "cell_type": "code",
   "execution_count": 3,
   "id": "faf87300-2c2a-4fb6-8770-afd008908464",
   "metadata": {},
   "outputs": [],
   "source": [
    "def eval_metrics(y_true, y_pred):\n",
    "\n",
    "    from sklearn.metrics import mean_absolute_error, mean_squared_error, r2_score\n",
    "\n",
    "    mse = mean_squared_error(y_true, y_pred)\n",
    "    mae = mean_absolute_error(y_true, y_pred)\n",
    "    r2 = r2_score(y_true, y_pred)\n",
    "\n",
    "    return mse, mae, r2"
   ]
  },
  {
   "cell_type": "code",
   "execution_count": 4,
   "id": "fb165750-dde2-4a24-a966-69c10f63efa3",
   "metadata": {},
   "outputs": [],
   "source": [
    "def report(estimator, mse, mae, r2):\n",
    "\n",
    "    print(estimator, \":\", sep=\"\")\n",
    "    print(f\"  MSE: {mse}\")\n",
    "    print(f\"  MAE: {mae}\")\n",
    "    print(f\"  R2: {r2}\")"
   ]
  },
  {
   "cell_type": "markdown",
   "id": "cc12ed84-7877-4112-a7c3-b3358b6f2fbd",
   "metadata": {},
   "source": [
    "Almacenamiento del modelo\n",
    "---"
   ]
  },
  {
   "cell_type": "code",
   "execution_count": 5,
   "id": "c66cbac7-4027-4ab1-82d9-2d5ef4063fd8",
   "metadata": {},
   "outputs": [],
   "source": [
    "# ----------------------------------------------------------------------------- \n",
    "# Ya no se requiere con MLflow\n",
    "# ----------------------------------------------------------------------------- \n",
    "#\n",
    "# def save_best_estimator(# estimator):\n",
    "# \n",
    "#     import os\n",
    "#     import pickle\n",
    "# \n",
    "#     if not os.path.exists(\"models\"):\n",
    "#         os.makedirs(\"models\")\n",
    "#     with open(\"models/estimator.pickle\", \"wb\") as file:\n",
    "#         pickle.dump(estimator, file)\n",
    "#"
   ]
  },
  {
   "cell_type": "markdown",
   "id": "d58d7ac8-7141-4651-95ba-a2ede7f9c937",
   "metadata": {},
   "source": [
    "Carga del modelo\n",
    "---"
   ]
  },
  {
   "cell_type": "code",
   "execution_count": 6,
   "id": "ed4df17b-6b55-47a6-b32f-71b0d71b43fb",
   "metadata": {},
   "outputs": [],
   "source": [
    "# ----------------------------------------------------------------------------- \n",
    "# Ya no se requiere con MLflow\n",
    "# ----------------------------------------------------------------------------- \n",
    "#\n",
    "# def load_best_estimator():\n",
    "#\n",
    "#     import os\n",
    "#     import pickle\n",
    "# \n",
    "#     if not os.path.exists(\"models\"):\n",
    "#         return None\n",
    "#     with open(\"models/estimator.pickle\", \"rb\") as file:\n",
    "#         estimator = pickle.load(file)\n",
    "# \n",
    "#     return estimator\n",
    "#"
   ]
  },
  {
   "cell_type": "markdown",
   "id": "bb62439b-6bf4-427a-bd1a-50751b549d4e",
   "metadata": {},
   "source": [
    "Entrenamiento\n",
    "---"
   ]
  },
  {
   "cell_type": "code",
   "execution_count": 7,
   "id": "a5dc2935-25bf-4719-9f2b-099d7c091ca3",
   "metadata": {},
   "outputs": [],
   "source": [
    "def train_estimator(alpha=0.5, l1_ratio=0.5, verbose=1):\n",
    "\n",
    "    import mlflow.sklearn\n",
    "    from sklearn.linear_model import ElasticNet\n",
    "\n",
    "    import mlflow\n",
    "\n",
    "    x, y = load_data()\n",
    "    x_train, x_test, y_train, y_test = make_train_test_split(x, y)\n",
    "    \n",
    "    print('Tracking directory:', mlflow.get_tracking_uri())\n",
    "    \n",
    "    with mlflow.start_run():\n",
    "    \n",
    "        estimator = ElasticNet(alpha=alpha, l1_ratio=l1_ratio, random_state=12345)\n",
    "        estimator.fit(x_train, y_train)\n",
    "        mse, mae, r2 = eval_metrics(y_test, y_pred=estimator.predict(x_test))\n",
    "        if verbose > 0:\n",
    "            report(estimator, mse, mae, r2)\n",
    "         \n",
    "        \n",
    "        #\n",
    "        # Tracking de parámetros\n",
    "        #\n",
    "        mlflow.log_param(\"alpha\", alpha)\n",
    "        mlflow.log_param(\"l1_ratio\", l1_ratio)\n",
    "        \n",
    "        #\n",
    "        # Tracking de metricas\n",
    "        #        \n",
    "        mlflow.log_metric(\"mse\", mse)\n",
    "        mlflow.log_metric(\"mae\", mae)\n",
    "        mlflow.log_metric(\"r2\", r2)\n",
    "        \n",
    "        #\n",
    "        # Tracking del modelo\n",
    "        #\n",
    "        mlflow.sklearn.log_model(estimator, \"model\")\n",
    "\n",
    "    # -------------------------------------------------------------------------\n",
    "    # No se requiere\n",
    "    # -------------------------------------------------------------------------\n",
    "    #\n",
    "    # best_estimator = load_best_estimator()\n",
    "    # if best_estimator is None or estimator.score(x_test, y_test) > best_estimator.score(\n",
    "    #     x_test, y_test\n",
    "    # ):\n",
    "    #     best_estimator = estimator\n",
    "    # \n",
    "    # save_best_estimator(best_estimator)"
   ]
  },
  {
   "cell_type": "markdown",
   "id": "77758052-2f79-4206-8f9a-bd6d3afb90bc",
   "metadata": {
    "tags": []
   },
   "source": [
    "Búsqueda manual de los mejores hiperparámetros\n",
    "---"
   ]
  },
  {
   "cell_type": "code",
   "execution_count": 8,
   "id": "683effa9-e5d5-42a1-b19a-006c44fcbf6b",
   "metadata": {},
   "outputs": [
    {
     "name": "stdout",
     "output_type": "stream",
     "text": [
      "Tracking directory: file:///datalake/mlflow/mlruns\n",
      "ElasticNet(alpha=0.5, random_state=12345):\n",
      "  MSE: 0.6349429447805036\n",
      "  MAE: 0.6453803508338732\n",
      "  R2: 0.0890018368226928\n"
     ]
    }
   ],
   "source": [
    "train_estimator(0.5, 0.5)"
   ]
  },
  {
   "cell_type": "code",
   "execution_count": 9,
   "id": "cb52b931-2dce-4bb9-8292-79260529b7eb",
   "metadata": {},
   "outputs": [
    {
     "name": "stdout",
     "output_type": "stream",
     "text": [
      "Tracking directory: file:///datalake/mlflow/mlruns\n",
      "ElasticNet(alpha=0.2, l1_ratio=0.2, random_state=12345):\n",
      "  MSE: 0.5170837474931838\n",
      "  MAE: 0.5701436798648394\n",
      "  R2: 0.2581028767270219\n"
     ]
    }
   ],
   "source": [
    "train_estimator(0.2, 0.2)"
   ]
  },
  {
   "cell_type": "code",
   "execution_count": 10,
   "id": "4e6837bd-5a40-4f61-bcee-b97580f9b082",
   "metadata": {},
   "outputs": [
    {
     "name": "stdout",
     "output_type": "stream",
     "text": [
      "Tracking directory: file:///datalake/mlflow/mlruns\n",
      "ElasticNet(alpha=0.1, l1_ratio=0.1, random_state=12345):\n",
      "  MSE: 0.489021012335199\n",
      "  MAE: 0.551252749110561\n",
      "  R2: 0.29836649473051535\n"
     ]
    }
   ],
   "source": [
    "train_estimator(0.1, 0.1)"
   ]
  },
  {
   "cell_type": "code",
   "execution_count": 11,
   "id": "39605639-bbc4-4527-89b1-91a8df736c30",
   "metadata": {},
   "outputs": [
    {
     "name": "stdout",
     "output_type": "stream",
     "text": [
      "Tracking directory: file:///datalake/mlflow/mlruns\n",
      "ElasticNet(alpha=0.1, l1_ratio=0.05, random_state=12345):\n",
      "  MSE: 0.48683363717622585\n",
      "  MAE: 0.5493759222336462\n",
      "  R2: 0.30150487868829456\n"
     ]
    }
   ],
   "source": [
    "train_estimator(0.1, 0.05)"
   ]
  },
  {
   "cell_type": "code",
   "execution_count": 12,
   "id": "adb148ec-9a5c-4920-bf14-ef2706aa5357",
   "metadata": {},
   "outputs": [
    {
     "name": "stdout",
     "output_type": "stream",
     "text": [
      "Tracking directory: file:///datalake/mlflow/mlruns\n",
      "ElasticNet(alpha=0.3, l1_ratio=0.2, random_state=12345):\n",
      "  MSE: 0.5322180010211477\n",
      "  MAE: 0.5793993870194708\n",
      "  R2: 0.23638867818623654\n"
     ]
    }
   ],
   "source": [
    "train_estimator(0.3, 0.2)"
   ]
  },
  {
   "cell_type": "markdown",
   "id": "0e378abb-3a78-4b9d-9556-ebfd872a2d99",
   "metadata": {},
   "source": [
    "Comparación entre modelos usando MLflow\n",
    "---"
   ]
  },
  {
   "cell_type": "markdown",
   "id": "0cf24a65-69a9-4754-a42d-d9adcb3d4552",
   "metadata": {},
   "source": [
    "Para visualizar la interfase use:\n",
    "\n",
    "```bash\n",
    "mlflow ui\n",
    "```\n",
    "\n",
    "**Nota:** En docker usar:\n",
    "\n",
    "```bash\n",
    "mlflow ui --host 0.0.0.0 \n",
    "``` \n",
    "\n",
    "con: \n",
    "\n",
    "http://127.0.0.1:5001\n"
   ]
  },
  {
   "cell_type": "markdown",
   "id": "145f8613-10d1-4fbe-8c77-e25e2e6e3ecd",
   "metadata": {},
   "source": [
    "![assets/mlflow-basic-example-1.png](assets/mlflow-basic-example-1.png)"
   ]
  },
  {
   "cell_type": "markdown",
   "id": "92cbe282-ad24-478d-bdcd-5d191abcdcbe",
   "metadata": {},
   "source": [
    "Hacer doble click en el modelo (Columna 'Start Time')"
   ]
  },
  {
   "cell_type": "markdown",
   "id": "d39c22cb-82b9-4790-99ff-3b66432202be",
   "metadata": {},
   "source": [
    "![assets/mlflow-basic-example-2-part-A.png](assets/mlflow-basic-example-2-part-A.png)\n",
    "![assets/mlflow-basic-example-2-part-B.png](assets/mlflow-basic-example-2-part-B.png)\n",
    "![assets/mlflow-basic-example-2-part-C.png](assets/mlflow-basic-example-2-part-C.png)"
   ]
  },
  {
   "cell_type": "markdown",
   "id": "f3f547d6-55ed-4761-94e5-0cf7cf641d7a",
   "metadata": {
    "tags": []
   },
   "source": [
    "Chequeo\n",
    "---"
   ]
  },
  {
   "cell_type": "code",
   "execution_count": 13,
   "id": "f807a992-85e2-4abe-8097-d4b75661629d",
   "metadata": {},
   "outputs": [
    {
     "ename": "MlflowException",
     "evalue": "Run '37ca5a5c816f4ca7b6d1f4b32f2b46f0' not found",
     "output_type": "error",
     "traceback": [
      "\u001b[0;31m---------------------------------------------------------------------------\u001b[0m",
      "\u001b[0;31mMlflowException\u001b[0m                           Traceback (most recent call last)",
      "Input \u001b[0;32mIn [13]\u001b[0m, in \u001b[0;36m<cell line: 18>\u001b[0;34m()\u001b[0m\n\u001b[1;32m     12\u001b[0m     report(estimator, mse, mae, r2)\n\u001b[1;32m     15\u001b[0m \u001b[38;5;66;03m#\u001b[39;00m\n\u001b[1;32m     16\u001b[0m \u001b[38;5;66;03m# Debe coincidir con el mejor modelo encontrado en la celdas anteriores\u001b[39;00m\n\u001b[1;32m     17\u001b[0m \u001b[38;5;66;03m#\u001b[39;00m\n\u001b[0;32m---> 18\u001b[0m \u001b[43mcheck_estimator\u001b[49m\u001b[43m(\u001b[49m\u001b[43m)\u001b[49m\n",
      "Input \u001b[0;32mIn [13]\u001b[0m, in \u001b[0;36mcheck_estimator\u001b[0;34m()\u001b[0m\n\u001b[1;32m      8\u001b[0m \u001b[38;5;66;03m# NOTA: este parámetro es copiado directamente de la interfase de MLflow\u001b[39;00m\n\u001b[1;32m      9\u001b[0m estimator_path \u001b[38;5;241m=\u001b[39m \u001b[38;5;124m\"\u001b[39m\u001b[38;5;124mruns:/37ca5a5c816f4ca7b6d1f4b32f2b46f0/model\u001b[39m\u001b[38;5;124m\"\u001b[39m\n\u001b[0;32m---> 10\u001b[0m estimator \u001b[38;5;241m=\u001b[39m \u001b[43mmlflow\u001b[49m\u001b[38;5;241;43m.\u001b[39;49m\u001b[43mpyfunc\u001b[49m\u001b[38;5;241;43m.\u001b[39;49m\u001b[43mload_model\u001b[49m\u001b[43m(\u001b[49m\u001b[43mestimator_path\u001b[49m\u001b[43m)\u001b[49m\n\u001b[1;32m     11\u001b[0m mse, mae, r2 \u001b[38;5;241m=\u001b[39m eval_metrics(y_test, y_pred\u001b[38;5;241m=\u001b[39mestimator\u001b[38;5;241m.\u001b[39mpredict(x_test))\n\u001b[1;32m     12\u001b[0m report(estimator, mse, mae, r2)\n",
      "File \u001b[0;32m/usr/local/lib/python3.9/site-packages/mlflow/pyfunc/__init__.py:691\u001b[0m, in \u001b[0;36mload_model\u001b[0;34m(model_uri, suppress_warnings, dst_path)\u001b[0m\n\u001b[1;32m    667\u001b[0m \u001b[38;5;28;01mdef\u001b[39;00m \u001b[38;5;21mload_model\u001b[39m(model_uri: \u001b[38;5;28mstr\u001b[39m, suppress_warnings: \u001b[38;5;28mbool\u001b[39m \u001b[38;5;241m=\u001b[39m \u001b[38;5;28;01mTrue\u001b[39;00m, dst_path: \u001b[38;5;28mstr\u001b[39m \u001b[38;5;241m=\u001b[39m \u001b[38;5;28;01mNone\u001b[39;00m) \u001b[38;5;241m-\u001b[39m\u001b[38;5;241m>\u001b[39m PyFuncModel:\n\u001b[1;32m    668\u001b[0m     \u001b[38;5;124;03m\"\"\"\u001b[39;00m\n\u001b[1;32m    669\u001b[0m \u001b[38;5;124;03m    Load a model stored in Python function format.\u001b[39;00m\n\u001b[1;32m    670\u001b[0m \n\u001b[0;32m   (...)\u001b[0m\n\u001b[1;32m    689\u001b[0m \u001b[38;5;124;03m                     path will be created.\u001b[39;00m\n\u001b[1;32m    690\u001b[0m \u001b[38;5;124;03m    \"\"\"\u001b[39;00m\n\u001b[0;32m--> 691\u001b[0m     local_path \u001b[38;5;241m=\u001b[39m \u001b[43m_download_artifact_from_uri\u001b[49m\u001b[43m(\u001b[49m\u001b[43martifact_uri\u001b[49m\u001b[38;5;241;43m=\u001b[39;49m\u001b[43mmodel_uri\u001b[49m\u001b[43m,\u001b[49m\u001b[43m \u001b[49m\u001b[43moutput_path\u001b[49m\u001b[38;5;241;43m=\u001b[39;49m\u001b[43mdst_path\u001b[49m\u001b[43m)\u001b[49m\n\u001b[1;32m    693\u001b[0m     _warn_dependency_requirement_mismatches(local_path)\n\u001b[1;32m    695\u001b[0m     model_meta \u001b[38;5;241m=\u001b[39m Model\u001b[38;5;241m.\u001b[39mload(os\u001b[38;5;241m.\u001b[39mpath\u001b[38;5;241m.\u001b[39mjoin(local_path, MLMODEL_FILE_NAME))\n",
      "File \u001b[0;32m/usr/local/lib/python3.9/site-packages/mlflow/tracking/artifact_utils.py:95\u001b[0m, in \u001b[0;36m_download_artifact_from_uri\u001b[0;34m(artifact_uri, output_path)\u001b[0m\n\u001b[1;32m     92\u001b[0m     parsed_uri \u001b[38;5;241m=\u001b[39m parsed_uri\u001b[38;5;241m.\u001b[39m_replace(path\u001b[38;5;241m=\u001b[39mposixpath\u001b[38;5;241m.\u001b[39mdirname(parsed_uri\u001b[38;5;241m.\u001b[39mpath))\n\u001b[1;32m     93\u001b[0m     root_uri \u001b[38;5;241m=\u001b[39m prefix \u001b[38;5;241m+\u001b[39m urllib\u001b[38;5;241m.\u001b[39mparse\u001b[38;5;241m.\u001b[39murlunparse(parsed_uri)\n\u001b[0;32m---> 95\u001b[0m \u001b[38;5;28;01mreturn\u001b[39;00m \u001b[43mget_artifact_repository\u001b[49m\u001b[43m(\u001b[49m\u001b[43martifact_uri\u001b[49m\u001b[38;5;241;43m=\u001b[39;49m\u001b[43mroot_uri\u001b[49m\u001b[43m)\u001b[49m\u001b[38;5;241m.\u001b[39mdownload_artifacts(\n\u001b[1;32m     96\u001b[0m     artifact_path\u001b[38;5;241m=\u001b[39martifact_path, dst_path\u001b[38;5;241m=\u001b[39moutput_path\n\u001b[1;32m     97\u001b[0m )\n",
      "File \u001b[0;32m/usr/local/lib/python3.9/site-packages/mlflow/store/artifact/artifact_repository_registry.py:107\u001b[0m, in \u001b[0;36mget_artifact_repository\u001b[0;34m(artifact_uri)\u001b[0m\n\u001b[1;32m     97\u001b[0m \u001b[38;5;28;01mdef\u001b[39;00m \u001b[38;5;21mget_artifact_repository\u001b[39m(artifact_uri):\n\u001b[1;32m     98\u001b[0m     \u001b[38;5;124;03m\"\"\"Get an artifact repository from the registry based on the scheme of artifact_uri\u001b[39;00m\n\u001b[1;32m     99\u001b[0m \n\u001b[1;32m    100\u001b[0m \u001b[38;5;124;03m    :param artifact_uri: The artifact store URI. This URI is used to select which artifact\u001b[39;00m\n\u001b[0;32m   (...)\u001b[0m\n\u001b[1;32m    105\u001b[0m \u001b[38;5;124;03m             requirements.\u001b[39;00m\n\u001b[1;32m    106\u001b[0m \u001b[38;5;124;03m    \"\"\"\u001b[39;00m\n\u001b[0;32m--> 107\u001b[0m     \u001b[38;5;28;01mreturn\u001b[39;00m \u001b[43m_artifact_repository_registry\u001b[49m\u001b[38;5;241;43m.\u001b[39;49m\u001b[43mget_artifact_repository\u001b[49m\u001b[43m(\u001b[49m\u001b[43martifact_uri\u001b[49m\u001b[43m)\u001b[49m\n",
      "File \u001b[0;32m/usr/local/lib/python3.9/site-packages/mlflow/store/artifact/artifact_repository_registry.py:73\u001b[0m, in \u001b[0;36mArtifactRepositoryRegistry.get_artifact_repository\u001b[0;34m(self, artifact_uri)\u001b[0m\n\u001b[1;32m     66\u001b[0m \u001b[38;5;28;01mif\u001b[39;00m repository \u001b[38;5;129;01mis\u001b[39;00m \u001b[38;5;28;01mNone\u001b[39;00m:\n\u001b[1;32m     67\u001b[0m     \u001b[38;5;28;01mraise\u001b[39;00m MlflowException(\n\u001b[1;32m     68\u001b[0m         \u001b[38;5;124m\"\u001b[39m\u001b[38;5;124mCould not find a registered artifact repository for: \u001b[39m\u001b[38;5;132;01m{}\u001b[39;00m\u001b[38;5;124m. \u001b[39m\u001b[38;5;124m\"\u001b[39m\n\u001b[1;32m     69\u001b[0m         \u001b[38;5;124m\"\u001b[39m\u001b[38;5;124mCurrently registered schemes are: \u001b[39m\u001b[38;5;132;01m{}\u001b[39;00m\u001b[38;5;124m\"\u001b[39m\u001b[38;5;241m.\u001b[39mformat(\n\u001b[1;32m     70\u001b[0m             artifact_uri, \u001b[38;5;28mlist\u001b[39m(\u001b[38;5;28mself\u001b[39m\u001b[38;5;241m.\u001b[39m_registry\u001b[38;5;241m.\u001b[39mkeys())\n\u001b[1;32m     71\u001b[0m         )\n\u001b[1;32m     72\u001b[0m     )\n\u001b[0;32m---> 73\u001b[0m \u001b[38;5;28;01mreturn\u001b[39;00m \u001b[43mrepository\u001b[49m\u001b[43m(\u001b[49m\u001b[43martifact_uri\u001b[49m\u001b[43m)\u001b[49m\n",
      "File \u001b[0;32m/usr/local/lib/python3.9/site-packages/mlflow/store/artifact/runs_artifact_repo.py:26\u001b[0m, in \u001b[0;36mRunsArtifactRepository.__init__\u001b[0;34m(self, artifact_uri)\u001b[0m\n\u001b[1;32m     23\u001b[0m \u001b[38;5;28;01mfrom\u001b[39;00m \u001b[38;5;21;01mmlflow\u001b[39;00m\u001b[38;5;21;01m.\u001b[39;00m\u001b[38;5;21;01mstore\u001b[39;00m\u001b[38;5;21;01m.\u001b[39;00m\u001b[38;5;21;01martifact\u001b[39;00m\u001b[38;5;21;01m.\u001b[39;00m\u001b[38;5;21;01martifact_repository_registry\u001b[39;00m \u001b[38;5;28;01mimport\u001b[39;00m get_artifact_repository\n\u001b[1;32m     25\u001b[0m \u001b[38;5;28msuper\u001b[39m()\u001b[38;5;241m.\u001b[39m\u001b[38;5;21m__init__\u001b[39m(artifact_uri)\n\u001b[0;32m---> 26\u001b[0m uri \u001b[38;5;241m=\u001b[39m \u001b[43mRunsArtifactRepository\u001b[49m\u001b[38;5;241;43m.\u001b[39;49m\u001b[43mget_underlying_uri\u001b[49m\u001b[43m(\u001b[49m\u001b[43martifact_uri\u001b[49m\u001b[43m)\u001b[49m\n\u001b[1;32m     27\u001b[0m \u001b[38;5;28mself\u001b[39m\u001b[38;5;241m.\u001b[39mrepo \u001b[38;5;241m=\u001b[39m get_artifact_repository(uri)\n",
      "File \u001b[0;32m/usr/local/lib/python3.9/site-packages/mlflow/store/artifact/runs_artifact_repo.py:39\u001b[0m, in \u001b[0;36mRunsArtifactRepository.get_underlying_uri\u001b[0;34m(runs_uri)\u001b[0m\n\u001b[1;32m     37\u001b[0m (run_id, artifact_path) \u001b[38;5;241m=\u001b[39m RunsArtifactRepository\u001b[38;5;241m.\u001b[39mparse_runs_uri(runs_uri)\n\u001b[1;32m     38\u001b[0m tracking_uri \u001b[38;5;241m=\u001b[39m get_databricks_profile_uri_from_artifact_uri(runs_uri)\n\u001b[0;32m---> 39\u001b[0m uri \u001b[38;5;241m=\u001b[39m \u001b[43mget_artifact_uri\u001b[49m\u001b[43m(\u001b[49m\u001b[43mrun_id\u001b[49m\u001b[43m,\u001b[49m\u001b[43m \u001b[49m\u001b[43martifact_path\u001b[49m\u001b[43m,\u001b[49m\u001b[43m \u001b[49m\u001b[43mtracking_uri\u001b[49m\u001b[43m)\u001b[49m\n\u001b[1;32m     40\u001b[0m \u001b[38;5;28;01massert\u001b[39;00m \u001b[38;5;129;01mnot\u001b[39;00m RunsArtifactRepository\u001b[38;5;241m.\u001b[39mis_runs_uri(uri)  \u001b[38;5;66;03m# avoid an infinite loop\u001b[39;00m\n\u001b[1;32m     41\u001b[0m \u001b[38;5;28;01mreturn\u001b[39;00m add_databricks_profile_info_to_artifact_uri(uri, tracking_uri)\n",
      "File \u001b[0;32m/usr/local/lib/python3.9/site-packages/mlflow/tracking/artifact_utils.py:47\u001b[0m, in \u001b[0;36mget_artifact_uri\u001b[0;34m(run_id, artifact_path, tracking_uri)\u001b[0m\n\u001b[1;32m     41\u001b[0m     \u001b[38;5;28;01mraise\u001b[39;00m MlflowException(\n\u001b[1;32m     42\u001b[0m         message\u001b[38;5;241m=\u001b[39m\u001b[38;5;124m\"\u001b[39m\u001b[38;5;124mA run_id must be specified in order to obtain an artifact uri!\u001b[39m\u001b[38;5;124m\"\u001b[39m,\n\u001b[1;32m     43\u001b[0m         error_code\u001b[38;5;241m=\u001b[39mINVALID_PARAMETER_VALUE,\n\u001b[1;32m     44\u001b[0m     )\n\u001b[1;32m     46\u001b[0m store \u001b[38;5;241m=\u001b[39m _get_store(tracking_uri)\n\u001b[0;32m---> 47\u001b[0m run \u001b[38;5;241m=\u001b[39m \u001b[43mstore\u001b[49m\u001b[38;5;241;43m.\u001b[39;49m\u001b[43mget_run\u001b[49m\u001b[43m(\u001b[49m\u001b[43mrun_id\u001b[49m\u001b[43m)\u001b[49m\n\u001b[1;32m     48\u001b[0m \u001b[38;5;66;03m# Maybe move this method to RunsArtifactRepository so the circular dependency is clearer.\u001b[39;00m\n\u001b[1;32m     49\u001b[0m \u001b[38;5;28;01massert\u001b[39;00m urllib\u001b[38;5;241m.\u001b[39mparse\u001b[38;5;241m.\u001b[39murlparse(run\u001b[38;5;241m.\u001b[39minfo\u001b[38;5;241m.\u001b[39martifact_uri)\u001b[38;5;241m.\u001b[39mscheme \u001b[38;5;241m!=\u001b[39m \u001b[38;5;124m\"\u001b[39m\u001b[38;5;124mruns\u001b[39m\u001b[38;5;124m\"\u001b[39m  \u001b[38;5;66;03m# avoid an infinite loop\u001b[39;00m\n",
      "File \u001b[0;32m/usr/local/lib/python3.9/site-packages/mlflow/store/tracking/file_store.py:532\u001b[0m, in \u001b[0;36mFileStore.get_run\u001b[0;34m(self, run_id)\u001b[0m\n\u001b[1;32m    528\u001b[0m \u001b[38;5;124;03m\"\"\"\u001b[39;00m\n\u001b[1;32m    529\u001b[0m \u001b[38;5;124;03mNote: Will get both active and deleted runs.\u001b[39;00m\n\u001b[1;32m    530\u001b[0m \u001b[38;5;124;03m\"\"\"\u001b[39;00m\n\u001b[1;32m    531\u001b[0m _validate_run_id(run_id)\n\u001b[0;32m--> 532\u001b[0m run_info \u001b[38;5;241m=\u001b[39m \u001b[38;5;28;43mself\u001b[39;49m\u001b[38;5;241;43m.\u001b[39;49m\u001b[43m_get_run_info\u001b[49m\u001b[43m(\u001b[49m\u001b[43mrun_id\u001b[49m\u001b[43m)\u001b[49m\n\u001b[1;32m    533\u001b[0m \u001b[38;5;28;01mif\u001b[39;00m run_info \u001b[38;5;129;01mis\u001b[39;00m \u001b[38;5;28;01mNone\u001b[39;00m:\n\u001b[1;32m    534\u001b[0m     \u001b[38;5;28;01mraise\u001b[39;00m MlflowException(\n\u001b[1;32m    535\u001b[0m         \u001b[38;5;124m\"\u001b[39m\u001b[38;5;124mRun \u001b[39m\u001b[38;5;124m'\u001b[39m\u001b[38;5;132;01m%s\u001b[39;00m\u001b[38;5;124m'\u001b[39m\u001b[38;5;124m metadata is in invalid state.\u001b[39m\u001b[38;5;124m\"\u001b[39m \u001b[38;5;241m%\u001b[39m run_id, databricks_pb2\u001b[38;5;241m.\u001b[39mINVALID_STATE\n\u001b[1;32m    536\u001b[0m     )\n",
      "File \u001b[0;32m/usr/local/lib/python3.9/site-packages/mlflow/store/tracking/file_store.py:551\u001b[0m, in \u001b[0;36mFileStore._get_run_info\u001b[0;34m(self, run_uuid)\u001b[0m\n\u001b[1;32m    549\u001b[0m exp_id, run_dir \u001b[38;5;241m=\u001b[39m \u001b[38;5;28mself\u001b[39m\u001b[38;5;241m.\u001b[39m_find_run_root(run_uuid)\n\u001b[1;32m    550\u001b[0m \u001b[38;5;28;01mif\u001b[39;00m run_dir \u001b[38;5;129;01mis\u001b[39;00m \u001b[38;5;28;01mNone\u001b[39;00m:\n\u001b[0;32m--> 551\u001b[0m     \u001b[38;5;28;01mraise\u001b[39;00m MlflowException(\n\u001b[1;32m    552\u001b[0m         \u001b[38;5;124m\"\u001b[39m\u001b[38;5;124mRun \u001b[39m\u001b[38;5;124m'\u001b[39m\u001b[38;5;132;01m%s\u001b[39;00m\u001b[38;5;124m'\u001b[39m\u001b[38;5;124m not found\u001b[39m\u001b[38;5;124m\"\u001b[39m \u001b[38;5;241m%\u001b[39m run_uuid, databricks_pb2\u001b[38;5;241m.\u001b[39mRESOURCE_DOES_NOT_EXIST\n\u001b[1;32m    553\u001b[0m     )\n\u001b[1;32m    554\u001b[0m run_info \u001b[38;5;241m=\u001b[39m \u001b[38;5;28mself\u001b[39m\u001b[38;5;241m.\u001b[39m_get_run_info_from_dir(run_dir)\n\u001b[1;32m    555\u001b[0m \u001b[38;5;28;01mif\u001b[39;00m run_info\u001b[38;5;241m.\u001b[39mexperiment_id \u001b[38;5;241m!=\u001b[39m exp_id:\n",
      "\u001b[0;31mMlflowException\u001b[0m: Run '37ca5a5c816f4ca7b6d1f4b32f2b46f0' not found"
     ]
    }
   ],
   "source": [
    "def check_estimator():\n",
    "\n",
    "    import mlflow\n",
    "\n",
    "    x, y = load_data()\n",
    "    x_train, x_test, y_train, y_test = make_train_test_split(x, y)\n",
    "\n",
    "    # NOTA: este parámetro es copiado directamente de la interfase de MLflow\n",
    "    estimator_path = \"runs:/37ca5a5c816f4ca7b6d1f4b32f2b46f0/model\"\n",
    "    estimator = mlflow.pyfunc.load_model(estimator_path)\n",
    "    mse, mae, r2 = eval_metrics(y_test, y_pred=estimator.predict(x_test))\n",
    "    report(estimator, mse, mae, r2)\n",
    "\n",
    "\n",
    "#\n",
    "# Debe coincidir con el mejor modelo encontrado en la celdas anteriores\n",
    "#\n",
    "check_estimator()"
   ]
  },
  {
   "cell_type": "code",
   "execution_count": null,
   "id": "09f93621-61f9-4821-aa51-eee958d2febf",
   "metadata": {},
   "outputs": [],
   "source": [
    "%%bash\n",
    "rm -rf outputs mlruns models"
   ]
  }
 ],
 "metadata": {
  "kernelspec": {
   "display_name": "Python 3 (ipykernel)",
   "language": "python",
   "name": "python3"
  },
  "language_info": {
   "codemirror_mode": {
    "name": "ipython",
    "version": 3
   },
   "file_extension": ".py",
   "mimetype": "text/x-python",
   "name": "python",
   "nbconvert_exporter": "python",
   "pygments_lexer": "ipython3",
   "version": "3.8.10"
  }
 },
 "nbformat": 4,
 "nbformat_minor": 5
}
