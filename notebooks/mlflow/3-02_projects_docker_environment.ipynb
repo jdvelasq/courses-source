{
 "cells": [
  {
   "cell_type": "markdown",
   "id": "7f8fcfa0-86dc-4739-959d-fe5dde256310",
   "metadata": {
    "tags": []
   },
   "source": [
    "Creación de un proyecto básico en ambiente docker\n",
    "===\n",
    "\n",
    "* Ultima modificación: Mayo 14, 2022"
   ]
  },
  {
   "cell_type": "markdown",
   "id": "142bc361-9fd0-448d-bf47-b4bb3a4a3daa",
   "metadata": {},
   "source": [
    "Diretorio para almacenar el proyecto\n",
    "---"
   ]
  },
  {
   "cell_type": "code",
   "execution_count": 1,
   "id": "949ab1cd-d237-4139-9c69-c4a3a3d56168",
   "metadata": {},
   "outputs": [],
   "source": [
    "#\n",
    "# Crea una carpeta para el proyecto. El proyecto también puede estar alojado en\n",
    "# un repositorio de GitHub.\n",
    "#\n",
    "!rm -rf mlruns\n",
    "!rm -rf /tmp/wine_prj\n",
    "!mkdir /tmp/wine_prj"
   ]
  },
  {
   "cell_type": "markdown",
   "id": "f48ad37b-fa6a-45f9-9b14-22f4ea90e384",
   "metadata": {},
   "source": [
    "Código en Python\n",
    "---"
   ]
  },
  {
   "cell_type": "code",
   "execution_count": 2,
   "id": "e0defd66-ecb9-451a-a8d8-2757d13bacb9",
   "metadata": {},
   "outputs": [
    {
     "name": "stdout",
     "output_type": "stream",
     "text": [
      "Writing /tmp/wine_prj/train_elasticnet.py\n"
     ]
    }
   ],
   "source": [
    "%%writefile /tmp/wine_prj/train_elasticnet.py\n",
    "\n",
    "#\n",
    "# Puede ejecutarse en la línea de comandos como:\n",
    "# $ python3 train_elasticnet.py {alpha} {l1_ratio} {verbose}\n",
    "#\n",
    "\n",
    "def load_data():\n",
    "\n",
    "    import pandas as pd\n",
    "\n",
    "    url = \"http://archive.ics.uci.edu/ml/machine-learning-databases/wine-quality/winequality-red.csv\"\n",
    "    df = pd.read_csv(url, sep=\";\")\n",
    "\n",
    "    y = df[\"quality\"]\n",
    "    x = df.copy()\n",
    "    x.pop(\"quality\")\n",
    "\n",
    "    return x, y\n",
    "\n",
    "\n",
    "def make_train_test_split(x, y):\n",
    "\n",
    "    from sklearn.model_selection import train_test_split\n",
    "\n",
    "    (x_train, x_test, y_train, y_test) = train_test_split(\n",
    "        x,\n",
    "        y,\n",
    "        test_size=0.25,\n",
    "        random_state=123456,\n",
    "    )\n",
    "    return x_train, x_test, y_train, y_test\n",
    "\n",
    "\n",
    "def eval_metrics(y_true, y_pred):\n",
    "\n",
    "    from sklearn.metrics import mean_absolute_error, mean_squared_error, r2_score\n",
    "\n",
    "    mse = mean_squared_error(y_true, y_pred)\n",
    "    mae = mean_absolute_error(y_true, y_pred)\n",
    "    r2 = r2_score(y_true, y_pred)\n",
    "\n",
    "    return mse, mae, r2\n",
    "\n",
    "\n",
    "def report(estimator, mse, mae, r2):\n",
    "\n",
    "    print(estimator, \":\", sep=\"\")\n",
    "    print(f\"  MSE: {mse}\")\n",
    "    print(f\"  MAE: {mae}\")\n",
    "    print(f\"  R2: {r2}\")\n",
    "\n",
    "\n",
    "def run():\n",
    "    #\n",
    "    # Entrena un modelo sklearn ElasticNet\n",
    "    #\n",
    "\n",
    "    import sys\n",
    "\n",
    "    from sklearn.linear_model import ElasticNet\n",
    "    \n",
    "    import mlflow    \n",
    "\n",
    "    x, y = load_data()\n",
    "    x_train, x_test, y_train, y_test = make_train_test_split(x, y)\n",
    "\n",
    "    alpha = float(sys.argv[1])\n",
    "    l1_ratio = float(sys.argv[2])\n",
    "    verbose = int(sys.argv[3])\n",
    "    \n",
    "    print('Tracking directory:', mlflow.get_tracking_uri())\n",
    "\n",
    "    with mlflow.start_run():\n",
    "    \n",
    "        estimator = ElasticNet(alpha=alpha, l1_ratio=l1_ratio, random_state=12345)\n",
    "        estimator.fit(x_train, y_train)\n",
    "        mse, mae, r2 = eval_metrics(y_test, y_pred=estimator.predict(x_test))\n",
    "        if verbose > 0:\n",
    "            report(estimator, mse, mae, r2)    \n",
    "            \n",
    "        mlflow.log_param(\"alpha\", alpha)\n",
    "        mlflow.log_param(\"l1_ratio\", l1_ratio)\n",
    "        \n",
    "        mlflow.log_metric(\"mse\", mse)\n",
    "        mlflow.log_metric(\"mae\", mae)\n",
    "        mlflow.log_metric(\"r2\", r2)\n",
    "        \n",
    "        mlflow.sklearn.log_model(estimator, \"model\")            \n",
    "\n",
    "\n",
    "if __name__ == \"__main__\":\n",
    "    run()"
   ]
  },
  {
   "cell_type": "markdown",
   "id": "c0be612c-d79a-40f7-9884-505899c66c97",
   "metadata": {},
   "source": [
    "MLproject\n",
    "---"
   ]
  },
  {
   "cell_type": "code",
   "execution_count": 3,
   "id": "2507c922-ad2e-4852-bf73-e684b8ed6489",
   "metadata": {},
   "outputs": [
    {
     "name": "stdout",
     "output_type": "stream",
     "text": [
      "Writing /tmp/wine_prj/MLproject\n"
     ]
    }
   ],
   "source": [
    "%%writefile /tmp/wine_prj/MLproject\n",
    "name: proyecto-de-demostracion\n",
    "\n",
    "docker_env:\n",
    "    image:  jdvelasq/mlflow:example\n",
    "\n",
    "entry_points:\n",
    "    main:\n",
    "        parameters:\n",
    "            alpha: {type: float, default: 0.1}\n",
    "            l1_ratio: {type: float, default: 0.1}\n",
    "            verbose: {type: integer, default: 1}\n",
    "        command: 'python3 train_elasticnet.py {alpha} {l1_ratio} {verbose}'"
   ]
  },
  {
   "cell_type": "markdown",
   "id": "707fc856-6a71-44ec-ba06-0da611352ab9",
   "metadata": {},
   "source": [
    "Docker\n",
    "---"
   ]
  },
  {
   "cell_type": "code",
   "execution_count": 4,
   "id": "3c125c4e-56ca-4c4d-8d01-69ec4b40712b",
   "metadata": {},
   "outputs": [
    {
     "name": "stdout",
     "output_type": "stream",
     "text": [
      "Writing /tmp/wine_prj/Dockerfile\n"
     ]
    }
   ],
   "source": [
    "%%writefile /tmp/wine_prj/Dockerfile\n",
    "\n",
    "FROM condaforge/miniforge3\n",
    "\n",
    "RUN pip install mlflow \\\n",
    "    && pip install pandas \\\n",
    "    && pip install scikit-learn \\\n",
    "    && pip install cloudpickle"
   ]
  },
  {
   "cell_type": "markdown",
   "id": "7c148ce0-b4ec-4e53-b8a6-a2750f02c3c9",
   "metadata": {},
   "source": [
    "Cree el contendor reemplazando su nombre de usuario:\n",
    "\n",
    "```shell\n",
    "$ docker build -t jdvelasq/mlflow:example .\n",
    "$ docker push jdvelasq/mlflow:example\n",
    "```\n",
    "\n"
   ]
  },
  {
   "cell_type": "markdown",
   "id": "0537b2bd-ffbc-457f-ae83-25f740ce9ff0",
   "metadata": {},
   "source": [
    "Ejecución en el ambiente local con parámetros por defecto\n",
    "---"
   ]
  },
  {
   "cell_type": "code",
   "execution_count": 5,
   "id": "31cb8e03-0b6b-472d-a228-cf9f6be366d3",
   "metadata": {},
   "outputs": [
    {
     "name": "stdout",
     "output_type": "stream",
     "text": [
      "2022/06/03 22:40:28 INFO mlflow.projects.docker: === Building docker image proyecto-de-demostracion ===\n",
      "2022/06/03 22:40:28 INFO mlflow.projects.utils: === Created directory /var/folders/34/8tnnc98d5bv6wy7xzfb0qwhh0000gn/T/tmphzu5896c for downloading remote URIs passed to arguments of type 'path' ===\n",
      "2022/06/03 22:40:28 INFO mlflow.projects.backend.local: === Running command 'docker run --rm -v /Volumes/GitHub/courses-source/notebooks/mlflow/mlruns:/mlflow/tmp/mlruns -v /Volumes/GitHub/courses-source/notebooks/mlflow/mlruns/0/c43b891ced4c490cb90e8468d784ffa6/artifacts:/Volumes/GitHub/courses-source/notebooks/mlflow/mlruns/0/c43b891ced4c490cb90e8468d784ffa6/artifacts -e MLFLOW_RUN_ID=c43b891ced4c490cb90e8468d784ffa6 -e MLFLOW_TRACKING_URI=file:///mlflow/tmp/mlruns -e MLFLOW_EXPERIMENT_ID=0 proyecto-de-demostracion:latest python3 train_elasticnet.py 0.1 0.1 1' in run with ID 'c43b891ced4c490cb90e8468d784ffa6' === \n",
      "/opt/conda/lib/python3.9/site-packages/_distutils_hack/__init__.py:30: UserWarning: Setuptools is replacing distutils.\n",
      "  warnings.warn(\"Setuptools is replacing distutils.\")\n",
      "Tracking directory: file:///mlflow/tmp/mlruns\n",
      "ElasticNet(alpha=0.1, l1_ratio=0.1, random_state=12345):\n",
      "  MSE: 0.489021012335199\n",
      "  MAE: 0.551252749110561\n",
      "  R2: 0.29836649473051535\n",
      "2022/06/03 22:40:32 INFO mlflow.projects: === Run (ID 'c43b891ced4c490cb90e8468d784ffa6') succeeded ===\n"
     ]
    }
   ],
   "source": [
    "#\n",
    "# Ejecución con parámetros por defecto\n",
    "#\n",
    "!mlflow run /tmp/wine_prj"
   ]
  },
  {
   "cell_type": "markdown",
   "id": "21652134-498e-48ea-b7c0-d879b72bb124",
   "metadata": {},
   "source": [
    "Ejecución en el ambiente local con parámetros suministrados por el usuario\n",
    "---"
   ]
  },
  {
   "cell_type": "code",
   "execution_count": 6,
   "id": "9ba69279-0175-441e-bf2f-55050b7621e6",
   "metadata": {},
   "outputs": [
    {
     "name": "stdout",
     "output_type": "stream",
     "text": [
      "2022/06/03 22:40:34 INFO mlflow.projects.docker: === Building docker image proyecto-de-demostracion ===\n",
      "2022/06/03 22:40:35 INFO mlflow.projects.utils: === Created directory /var/folders/34/8tnnc98d5bv6wy7xzfb0qwhh0000gn/T/tmpbke5zwdd for downloading remote URIs passed to arguments of type 'path' ===\n",
      "2022/06/03 22:40:35 INFO mlflow.projects.backend.local: === Running command 'docker run --rm -v /Volumes/GitHub/courses-source/notebooks/mlflow/mlruns:/mlflow/tmp/mlruns -v /Volumes/GitHub/courses-source/notebooks/mlflow/mlruns/0/215c210f935d4840b0e69b856e79d62e/artifacts:/Volumes/GitHub/courses-source/notebooks/mlflow/mlruns/0/215c210f935d4840b0e69b856e79d62e/artifacts -e MLFLOW_RUN_ID=215c210f935d4840b0e69b856e79d62e -e MLFLOW_TRACKING_URI=file:///mlflow/tmp/mlruns -e MLFLOW_EXPERIMENT_ID=0 proyecto-de-demostracion:latest python3 train_elasticnet.py 0.2 0.2 1' in run with ID '215c210f935d4840b0e69b856e79d62e' === \n",
      "/opt/conda/lib/python3.9/site-packages/_distutils_hack/__init__.py:30: UserWarning: Setuptools is replacing distutils.\n",
      "  warnings.warn(\"Setuptools is replacing distutils.\")\n",
      "Tracking directory: file:///mlflow/tmp/mlruns\n",
      "ElasticNet(alpha=0.2, l1_ratio=0.2, random_state=12345):\n",
      "  MSE: 0.5170837474931838\n",
      "  MAE: 0.5701436798648394\n",
      "  R2: 0.2581028767270219\n",
      "2022/06/03 22:40:39 INFO mlflow.projects: === Run (ID '215c210f935d4840b0e69b856e79d62e') succeeded ===\n"
     ]
    }
   ],
   "source": [
    "!mlflow run /tmp/wine_prj -P alpha=0.2 -P l1_ratio=0.2 -P verbose=1"
   ]
  },
  {
   "cell_type": "code",
   "execution_count": 7,
   "id": "20463431-fc33-4711-9103-ed8ba990bde9",
   "metadata": {},
   "outputs": [
    {
     "name": "stdout",
     "output_type": "stream",
     "text": [
      "2022/06/03 22:40:40 INFO mlflow.projects.docker: === Building docker image proyecto-de-demostracion ===\n",
      "2022/06/03 22:40:41 INFO mlflow.projects.utils: === Created directory /var/folders/34/8tnnc98d5bv6wy7xzfb0qwhh0000gn/T/tmp3e_opkq0 for downloading remote URIs passed to arguments of type 'path' ===\n",
      "2022/06/03 22:40:41 INFO mlflow.projects.backend.local: === Running command 'docker run --rm -v /Volumes/GitHub/courses-source/notebooks/mlflow/mlruns:/mlflow/tmp/mlruns -v /Volumes/GitHub/courses-source/notebooks/mlflow/mlruns/0/eaebccc62bf64f1a87778bebe9ea0d16/artifacts:/Volumes/GitHub/courses-source/notebooks/mlflow/mlruns/0/eaebccc62bf64f1a87778bebe9ea0d16/artifacts -e MLFLOW_RUN_ID=eaebccc62bf64f1a87778bebe9ea0d16 -e MLFLOW_TRACKING_URI=file:///mlflow/tmp/mlruns -e MLFLOW_EXPERIMENT_ID=0 proyecto-de-demostracion:latest python3 train_elasticnet.py 0.1 0.1 1' in run with ID 'eaebccc62bf64f1a87778bebe9ea0d16' === \n",
      "/opt/conda/lib/python3.9/site-packages/_distutils_hack/__init__.py:30: UserWarning: Setuptools is replacing distutils.\n",
      "  warnings.warn(\"Setuptools is replacing distutils.\")\n",
      "Tracking directory: file:///mlflow/tmp/mlruns\n",
      "ElasticNet(alpha=0.1, l1_ratio=0.1, random_state=12345):\n",
      "  MSE: 0.489021012335199\n",
      "  MAE: 0.551252749110561\n",
      "  R2: 0.29836649473051535\n",
      "2022/06/03 22:40:45 INFO mlflow.projects: === Run (ID 'eaebccc62bf64f1a87778bebe9ea0d16') succeeded ===\n"
     ]
    }
   ],
   "source": [
    "!mlflow run /tmp/wine_prj -P alpha=0.1 -P l1_ratio=0.1 -P verbose=1"
   ]
  },
  {
   "cell_type": "code",
   "execution_count": 8,
   "id": "d0131026-f02f-4903-a465-e02f987b1a9e",
   "metadata": {},
   "outputs": [
    {
     "name": "stdout",
     "output_type": "stream",
     "text": [
      "2022/06/03 22:40:46 INFO mlflow.projects.docker: === Building docker image proyecto-de-demostracion ===\n",
      "2022/06/03 22:40:47 INFO mlflow.projects.utils: === Created directory /var/folders/34/8tnnc98d5bv6wy7xzfb0qwhh0000gn/T/tmpmc9470gt for downloading remote URIs passed to arguments of type 'path' ===\n",
      "2022/06/03 22:40:47 INFO mlflow.projects.backend.local: === Running command 'docker run --rm -v /Volumes/GitHub/courses-source/notebooks/mlflow/mlruns:/mlflow/tmp/mlruns -v /Volumes/GitHub/courses-source/notebooks/mlflow/mlruns/0/e5f3f7f7915d4c2694e477da57578fd8/artifacts:/Volumes/GitHub/courses-source/notebooks/mlflow/mlruns/0/e5f3f7f7915d4c2694e477da57578fd8/artifacts -e MLFLOW_RUN_ID=e5f3f7f7915d4c2694e477da57578fd8 -e MLFLOW_TRACKING_URI=file:///mlflow/tmp/mlruns -e MLFLOW_EXPERIMENT_ID=0 proyecto-de-demostracion:latest python3 train_elasticnet.py 0.5 0.5 1' in run with ID 'e5f3f7f7915d4c2694e477da57578fd8' === \n",
      "/opt/conda/lib/python3.9/site-packages/_distutils_hack/__init__.py:30: UserWarning: Setuptools is replacing distutils.\n",
      "  warnings.warn(\"Setuptools is replacing distutils.\")\n",
      "Tracking directory: file:///mlflow/tmp/mlruns\n",
      "ElasticNet(alpha=0.5, random_state=12345):\n",
      "  MSE: 0.6349429447805036\n",
      "  MAE: 0.6453803508338732\n",
      "  R2: 0.0890018368226928\n",
      "2022/06/03 22:40:51 INFO mlflow.projects: === Run (ID 'e5f3f7f7915d4c2694e477da57578fd8') succeeded ===\n"
     ]
    }
   ],
   "source": [
    "!mlflow run /tmp/wine_prj -P alpha=0.5 -P l1_ratio=0.5 -P verbose=1"
   ]
  },
  {
   "cell_type": "markdown",
   "id": "d232297e-8232-4b91-af6e-22a8d05d92b4",
   "metadata": {},
   "source": [
    "MLflow ui\n",
    "---"
   ]
  },
  {
   "cell_type": "markdown",
   "id": "229102d0-3581-47f3-a1b7-76328450ff07",
   "metadata": {},
   "source": [
    "Para visualizar la interfase use:\n",
    "\n",
    "```bash\n",
    "mlflow ui\n",
    "```\n",
    "\n",
    "**Nota:** En docker usar:\n",
    "\n",
    "```bash\n",
    "mlflow ui --host 0.0.0.0 \n",
    "``` \n",
    "\n",
    "con: \n",
    "\n",
    "http://127.0.0.1:5001\n"
   ]
  },
  {
   "cell_type": "markdown",
   "id": "23698113-ff0c-473d-a99b-9cba037379fe",
   "metadata": {},
   "source": [
    "![assets/mlflow-project-2-docker-part-0](assets/mlflow-project-2-docker-part-0.png)"
   ]
  },
  {
   "cell_type": "markdown",
   "id": "96f0e9f2-ea39-4296-a4a0-46f040b825f9",
   "metadata": {},
   "source": [
    "**Detalles de la corrida**"
   ]
  },
  {
   "cell_type": "markdown",
   "id": "27b3d550-1b36-4c90-91b8-c68178f0ea2a",
   "metadata": {},
   "source": [
    "![assets/mlflow-project-2-docker-part-1](assets/mlflow-project-2-docker-part-1.png)\n",
    "![assets/mlflow-project-2-docker-part-2](assets/mlflow-project-2-docker-part-2.png)\n",
    "![assets/mlflow-project-2-docker-part-3](assets/mlflow-project-2-docker-part-3.png)"
   ]
  }
 ],
 "metadata": {
  "kernelspec": {
   "display_name": "Python 3 (ipykernel)",
   "language": "python",
   "name": "python3"
  },
  "language_info": {
   "codemirror_mode": {
    "name": "ipython",
    "version": 3
   },
   "file_extension": ".py",
   "mimetype": "text/x-python",
   "name": "python",
   "nbconvert_exporter": "python",
   "pygments_lexer": "ipython3",
   "version": "3.8.9"
  }
 },
 "nbformat": 4,
 "nbformat_minor": 5
}
