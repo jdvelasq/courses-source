{
 "cells": [
  {
   "cell_type": "markdown",
   "id": "1f414c8f-0572-418b-8f2a-66411725287f",
   "metadata": {
    "tags": []
   },
   "source": [
    "Librería configparser (lenguaje de configuración básico)\n",
    "===\n",
    "\n",
    "* Última modificación: Mayo 14, 2022"
   ]
  },
  {
   "cell_type": "markdown",
   "id": "57fe7505-3c31-449c-aecd-90b59565ee51",
   "metadata": {},
   "source": [
    "Ejemplo de un archivo de configuración\n",
    "---"
   ]
  },
  {
   "cell_type": "markdown",
   "id": "22029e94-d3d0-4233-a285-12a5ae7e9120",
   "metadata": {},
   "source": [
    "```\n",
    "[DEFAULT]\n",
    "ServerAliveInterval = 45\n",
    "Compression = yes\n",
    "CompressionLevel = 9\n",
    "ForwardX11 = yes\n",
    "\n",
    "[bitbucket.org]\n",
    "User = hg\n",
    "\n",
    "[topsecret.server.com]\n",
    "Port = 50022\n",
    "ForwardX11 = no\n",
    "``` "
   ]
  },
  {
   "cell_type": "markdown",
   "id": "dcd4067c-e06a-4f4f-b444-2c4a72233a54",
   "metadata": {},
   "source": [
    "Creación desde Python\n",
    "---"
   ]
  },
  {
   "cell_type": "code",
   "execution_count": 1,
   "id": "9987210f-0f2a-46e8-a119-81533a8f5297",
   "metadata": {},
   "outputs": [],
   "source": [
    "import configparser\n",
    "\n",
    "config = configparser.ConfigParser()\n",
    "config[\"DEFAULT\"] = {\n",
    "    \"ServerAliveInterval\": \"45\",\n",
    "    \"Compression\": \"yes\",\n",
    "    \"CompressionLevel\": \"9\",\n",
    "}\n",
    "config[\"bitbucket.org\"] = {}\n",
    "config[\"bitbucket.org\"][\"User\"] = \"hg\"\n",
    "config[\"topsecret.server.com\"] = {}\n",
    "\n",
    "topsecret = config[\"topsecret.server.com\"]\n",
    "topsecret[\"Port\"] = \"50022\"  # mutates the parser\n",
    "topsecret[\"ForwardX11\"] = \"no\"  # same here\n",
    "\n",
    "config[\"DEFAULT\"][\"ForwardX11\"] = \"yes\"\n",
    "\n",
    "with open(\"/tmp/example.ini\", \"w\") as configfile:\n",
    "    config.write(configfile)"
   ]
  },
  {
   "cell_type": "code",
   "execution_count": 2,
   "id": "3d1a5a52-ccd4-44e4-87d2-8bce77b48820",
   "metadata": {},
   "outputs": [
    {
     "name": "stdout",
     "output_type": "stream",
     "text": [
      "[DEFAULT]\n",
      "serveraliveinterval = 45\n",
      "compression = yes\n",
      "compressionlevel = 9\n",
      "forwardx11 = yes\n",
      "\n",
      "[bitbucket.org]\n",
      "user = hg\n",
      "\n",
      "[topsecret.server.com]\n",
      "port = 50022\n",
      "forwardx11 = no\n",
      "\n"
     ]
    }
   ],
   "source": [
    "!cat /tmp/example.ini"
   ]
  },
  {
   "cell_type": "markdown",
   "id": "3fa205a9-f08e-4353-9668-0b800cf0844a",
   "metadata": {},
   "source": [
    "Lectura desde Python\n",
    "---"
   ]
  },
  {
   "cell_type": "code",
   "execution_count": 3,
   "id": "ef5645cb-4033-42d6-a1ec-9ddb3f07211c",
   "metadata": {},
   "outputs": [],
   "source": [
    "#\n",
    "# Crea una instancia de ConfigParser()\n",
    "#\n",
    "config = configparser.ConfigParser()"
   ]
  },
  {
   "cell_type": "code",
   "execution_count": 4,
   "id": "542a26fa-c793-4692-908a-57bd17fbd91d",
   "metadata": {},
   "outputs": [
    {
     "data": {
      "text/plain": [
       "[]"
      ]
     },
     "execution_count": 4,
     "metadata": {},
     "output_type": "execute_result"
    }
   ],
   "source": [
    "#\n",
    "# Lista las secciones\n",
    "#\n",
    "config.sections()"
   ]
  },
  {
   "cell_type": "code",
   "execution_count": 5,
   "id": "8f2fba4b-cabf-4c5d-809d-d35d4884ead4",
   "metadata": {},
   "outputs": [
    {
     "data": {
      "text/plain": [
       "['/tmp/example.ini']"
      ]
     },
     "execution_count": 5,
     "metadata": {},
     "output_type": "execute_result"
    }
   ],
   "source": [
    "#\n",
    "# Lee el archivo\n",
    "#\n",
    "config.read('/tmp/example.ini')"
   ]
  },
  {
   "cell_type": "code",
   "execution_count": 6,
   "id": "21c6b7ea-ea4b-4d16-9150-4227ff14cf70",
   "metadata": {},
   "outputs": [
    {
     "data": {
      "text/plain": [
       "['bitbucket.org', 'topsecret.server.com']"
      ]
     },
     "execution_count": 6,
     "metadata": {},
     "output_type": "execute_result"
    }
   ],
   "source": [
    "#\n",
    "# Lista la secciones\n",
    "#\n",
    "config.sections()"
   ]
  },
  {
   "cell_type": "code",
   "execution_count": 7,
   "id": "af128eb3-8e43-4ca0-9207-0e566175b639",
   "metadata": {},
   "outputs": [
    {
     "data": {
      "text/plain": [
       "True"
      ]
     },
     "execution_count": 7,
     "metadata": {},
     "output_type": "execute_result"
    }
   ],
   "source": [
    "#\n",
    "# Condicional sobre una sección\n",
    "#\n",
    "'bitbucket.org' in config"
   ]
  },
  {
   "cell_type": "code",
   "execution_count": 8,
   "id": "83e47e9b-4b52-4323-80bd-7831a2abe161",
   "metadata": {},
   "outputs": [
    {
     "data": {
      "text/plain": [
       "False"
      ]
     },
     "execution_count": 8,
     "metadata": {},
     "output_type": "execute_result"
    }
   ],
   "source": [
    "'bytebong.com' in config"
   ]
  },
  {
   "cell_type": "code",
   "execution_count": 9,
   "id": "4f7e0054-27f8-4b49-bb50-54f7da88a765",
   "metadata": {},
   "outputs": [
    {
     "data": {
      "text/plain": [
       "'hg'"
      ]
     },
     "execution_count": 9,
     "metadata": {},
     "output_type": "execute_result"
    }
   ],
   "source": [
    "#\n",
    "# Extrae el valor de un parámetro de una sección\n",
    "#\n",
    "config['bitbucket.org']['User']"
   ]
  },
  {
   "cell_type": "code",
   "execution_count": 10,
   "id": "dbb578c1-7c47-4018-8114-2e8179a915ae",
   "metadata": {},
   "outputs": [
    {
     "data": {
      "text/plain": [
       "'yes'"
      ]
     },
     "execution_count": 10,
     "metadata": {},
     "output_type": "execute_result"
    }
   ],
   "source": [
    "#\n",
    "# Extracción de un valor de la sección DEFAULT\n",
    "#\n",
    "config['DEFAULT']['Compression']"
   ]
  },
  {
   "cell_type": "code",
   "execution_count": 11,
   "id": "6a5e6b18-e51f-492c-80d8-ba197829a9c6",
   "metadata": {},
   "outputs": [
    {
     "data": {
      "text/plain": [
       "'no'"
      ]
     },
     "execution_count": 11,
     "metadata": {},
     "output_type": "execute_result"
    }
   ],
   "source": [
    "#\n",
    "# Carga una sección a una variable\n",
    "#\n",
    "topsecret = config['topsecret.server.com']\n",
    "topsecret['ForwardX11']"
   ]
  },
  {
   "cell_type": "code",
   "execution_count": 12,
   "id": "d1ee1a66-964a-4fed-bd9d-d7a25d963a75",
   "metadata": {},
   "outputs": [
    {
     "data": {
      "text/plain": [
       "'50022'"
      ]
     },
     "execution_count": 12,
     "metadata": {},
     "output_type": "execute_result"
    }
   ],
   "source": [
    "topsecret['Port']"
   ]
  },
  {
   "cell_type": "code",
   "execution_count": 13,
   "id": "447a86a3-db87-430d-8ad1-544110062fe5",
   "metadata": {},
   "outputs": [
    {
     "name": "stdout",
     "output_type": "stream",
     "text": [
      "user\n",
      "serveraliveinterval\n",
      "compression\n",
      "compressionlevel\n",
      "forwardx11\n"
     ]
    }
   ],
   "source": [
    "#\n",
    "# Itaración sobre una seccción\n",
    "#\n",
    "for key in config['bitbucket.org']:  \n",
    "    print(key)"
   ]
  },
  {
   "cell_type": "code",
   "execution_count": 14,
   "id": "233b1b1c-20af-4a04-9c0d-a75b899c5f8f",
   "metadata": {},
   "outputs": [
    {
     "data": {
      "text/plain": [
       "'yes'"
      ]
     },
     "execution_count": 14,
     "metadata": {},
     "output_type": "execute_result"
    }
   ],
   "source": [
    "#\n",
    "# Extracción de un valor de una sección de usuario\n",
    "#\n",
    "config['bitbucket.org']['ForwardX11']"
   ]
  },
  {
   "cell_type": "markdown",
   "id": "8df29680-bb51-4ef1-9d09-e46fd7a170eb",
   "metadata": {},
   "source": [
    "Fallback\n",
    "---"
   ]
  },
  {
   "cell_type": "code",
   "execution_count": 15,
   "id": "c2e8604d-107b-41c7-ac01-f275f02bb03c",
   "metadata": {},
   "outputs": [
    {
     "data": {
      "text/plain": [
       "False"
      ]
     },
     "execution_count": 15,
     "metadata": {},
     "output_type": "execute_result"
    }
   ],
   "source": [
    "'BatchMode' in config"
   ]
  },
  {
   "cell_type": "code",
   "execution_count": 16,
   "id": "270cac8e-b0a4-4f9b-a880-a93687c02f6b",
   "metadata": {},
   "outputs": [
    {
     "data": {
      "text/plain": [
       "True"
      ]
     },
     "execution_count": 16,
     "metadata": {},
     "output_type": "execute_result"
    }
   ],
   "source": [
    "config.getboolean('BatchMode', fallback=True, option='xxx')"
   ]
  },
  {
   "cell_type": "code",
   "execution_count": 17,
   "id": "38a275c3-df26-46d0-8370-38bc3f484246",
   "metadata": {},
   "outputs": [
    {
     "data": {
      "text/plain": [
       "False"
      ]
     },
     "execution_count": 17,
     "metadata": {},
     "output_type": "execute_result"
    }
   ],
   "source": [
    "config['DEFAULT']['BatchMode'] = 'no'\n",
    "topsecret.getboolean('BatchMode', fallback=True)"
   ]
  }
 ],
 "metadata": {
  "kernelspec": {
   "display_name": "Python 3 (ipykernel)",
   "language": "python",
   "name": "python3"
  },
  "language_info": {
   "codemirror_mode": {
    "name": "ipython",
    "version": 3
   },
   "file_extension": ".py",
   "mimetype": "text/x-python",
   "name": "python",
   "nbconvert_exporter": "python",
   "pygments_lexer": "ipython3",
   "version": "3.8.10"
  }
 },
 "nbformat": 4,
 "nbformat_minor": 5
}
