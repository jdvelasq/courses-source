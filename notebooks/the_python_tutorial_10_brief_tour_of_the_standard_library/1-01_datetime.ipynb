{
 "cells": [
  {
   "cell_type": "markdown",
   "id": "887662ec-ec07-4210-845e-7f3e15c5f266",
   "metadata": {
    "tags": []
   },
   "source": [
    "Librería datetime (Manipulación de fechas y horas) --- 17:36\n",
    "===\n",
    "\n",
    "* 17:36 min | Última modificación: Octubre 5, 2021 | [YouTube](https://youtu.be/dwVcyYSYPK8)"
   ]
  },
  {
   "cell_type": "code",
   "execution_count": 1,
   "id": "48c75a4f-b4c0-464e-a034-d8d96bf8ab6b",
   "metadata": {},
   "outputs": [],
   "source": [
    "from datetime import datetime, date, timedelta\n",
    "import time"
   ]
  },
  {
   "cell_type": "code",
   "execution_count": 2,
   "id": "fc233abf-fafc-4cc6-a790-3d83b6724715",
   "metadata": {},
   "outputs": [
    {
     "data": {
      "text/plain": [
       "datetime.date(2021, 9, 4)"
      ]
     },
     "metadata": {},
     "output_type": "display_data"
    },
    {
     "name": "stdout",
     "output_type": "stream",
     "text": [
      "2021-09-04\n"
     ]
    }
   ],
   "source": [
    "#\n",
    "# Función today()\n",
    "# ===============================================\n",
    "# display() imprime el objeto\n",
    "# print() imprime un string con formato fecha\n",
    "#\n",
    "display(date.today())\n",
    "print(date.today())"
   ]
  },
  {
   "cell_type": "code",
   "execution_count": 3,
   "id": "62396cd9-8063-4ac7-aef2-399c5878e4cd",
   "metadata": {},
   "outputs": [
    {
     "data": {
      "text/plain": [
       "'2021-09-04'"
      ]
     },
     "execution_count": 3,
     "metadata": {},
     "output_type": "execute_result"
    }
   ],
   "source": [
    "#\n",
    "# Fecha en isoformat\n",
    "#\n",
    "date.today().isoformat()"
   ]
  },
  {
   "cell_type": "code",
   "execution_count": 4,
   "id": "f1465093-9d0d-43e3-9fc9-cd8e94459aa7",
   "metadata": {},
   "outputs": [
    {
     "data": {
      "text/plain": [
       "'21/09/04'"
      ]
     },
     "metadata": {},
     "output_type": "display_data"
    },
    {
     "data": {
      "text/plain": [
       "'2021-09-04'"
      ]
     },
     "metadata": {},
     "output_type": "display_data"
    },
    {
     "data": {
      "text/plain": [
       "'2021 09 04'"
      ]
     },
     "metadata": {},
     "output_type": "display_data"
    }
   ],
   "source": [
    "#\n",
    "# Método strftime()\n",
    "# ===============================================\n",
    "#\n",
    "# Formatos:\n",
    "#   %d -- 01, 02, ...\n",
    "#   %m -- 01, ..., 12\n",
    "#   %Y -- 0001, ..., 9999\n",
    "#   %y -- 00, ..., 99\n",
    "#\n",
    "display(\n",
    "    date.today().strftime('%y/%m/%d'),\n",
    "    date.today().strftime('%Y-%m-%d'),\n",
    "    date.today().strftime('%Y %m %d')\n",
    ")"
   ]
  },
  {
   "cell_type": "code",
   "execution_count": 5,
   "id": "bb19a65e-f1e2-4c6f-b623-ff195c5ca978",
   "metadata": {},
   "outputs": [
    {
     "data": {
      "text/plain": [
       "datetime.datetime(2021, 9, 4, 3, 53, 53, 84278)"
      ]
     },
     "metadata": {},
     "output_type": "display_data"
    },
    {
     "data": {
      "text/plain": [
       "datetime.datetime(2021, 9, 4, 3, 53, 53, 84285)"
      ]
     },
     "metadata": {},
     "output_type": "display_data"
    },
    {
     "name": "stdout",
     "output_type": "stream",
     "text": [
      "2021-09-04 03:53:53.087603\n",
      "2021-09-04 03:53:53.087611\n"
     ]
    }
   ],
   "source": [
    "#\n",
    "# Función now()\n",
    "# =============================================================================\n",
    "#\n",
    "\n",
    "display(\n",
    "    datetime.now(),\n",
    "    datetime.utcnow()\n",
    ")\n",
    "\n",
    "print(\n",
    "    datetime.now(),\n",
    "    datetime.utcnow(),\n",
    "    sep='\\n',\n",
    ")"
   ]
  },
  {
   "cell_type": "code",
   "execution_count": 6,
   "id": "e435dcd8-0a2d-44f5-84a1-d5f3155bfff2",
   "metadata": {},
   "outputs": [
    {
     "data": {
      "text/plain": [
       "'2021-09-04 03:53:53.093118'"
      ]
     },
     "execution_count": 6,
     "metadata": {},
     "output_type": "execute_result"
    }
   ],
   "source": [
    "#\n",
    "# Método isoformat()\n",
    "#\n",
    "datetime.now().isoformat(' ')"
   ]
  },
  {
   "cell_type": "code",
   "execution_count": 7,
   "id": "56c71b70-ce80-4b7e-b844-3873976d7747",
   "metadata": {},
   "outputs": [
    {
     "data": {
      "text/plain": [
       "[['1970-01-01 00:00:00'],\n",
       " ['1987-03-05 12:30:15'],\n",
       " ['1999-12-31 09:00:00'],\n",
       " ['2000-06-04 15:45:30'],\n",
       " ['2000-06-04 15:45:30']]"
      ]
     },
     "execution_count": 7,
     "metadata": {},
     "output_type": "execute_result"
    }
   ],
   "source": [
    "#\n",
    "# Funciones equivalentes en SQL\n",
    "# =============================================================================\n",
    "#\n",
    "\n",
    "datetime_val = [\n",
    "    ['1970-01-01 00:00:00'],\n",
    "    ['1987-03-05 12:30:15'],\n",
    "    ['1999-12-31 09:00:00'],\n",
    "    ['2000-06-04 15:45:30'],\n",
    "    ['2000-06-04 15:45:30'], \n",
    "]\n",
    "\n",
    "datetime_val"
   ]
  },
  {
   "cell_type": "code",
   "execution_count": 8,
   "id": "4de56b2a-b772-495d-b969-5cdfd4d9629d",
   "metadata": {},
   "outputs": [],
   "source": [
    "#\n",
    "# Funciones para la extracción de fechas\n",
    "# =============================================================================\n",
    "# Las funciones tienen el mismo nombre que en SQL\n",
    "#\n",
    "def YEAR(s):\n",
    "    return datetime.strptime(s, '%Y-%m-%d %H:%M:%S').strftime('%Y')\n",
    "\n",
    "def MONTH(s):\n",
    "    return datetime.strptime(s, '%Y-%m-%d %H:%M:%S').month\n",
    "\n",
    "def MONTHNAME(s):    \n",
    "    return datetime.strptime(s, '%Y-%m-%d %H:%M:%S').strftime('%B')\n",
    "\n",
    "def MONTHNAME_ABBR(s):    \n",
    "    return datetime.strptime(s, '%Y-%m-%d %H:%M:%S').strftime('%b')\n",
    "\n",
    "def DAYOFMONTH(s):\n",
    "    return datetime.strptime(s, '%Y-%m-%d %H:%M:%S').strftime('%d')\n",
    "\n",
    "def DAYNAME(s):\n",
    "    return datetime.strptime(s, '%Y-%m-%d %H:%M:%S').strftime('%A')\n",
    "\n",
    "def DAYNAME_ABBR(s):\n",
    "    return datetime.strptime(s, '%Y-%m-%d %H:%M:%S').strftime('%a')\n",
    "\n",
    "def WEEKDAY(s):\n",
    "    return datetime.strptime(s, '%Y-%m-%d %H:%M:%S').strftime('%w')\n",
    "\n",
    "def DAYOFYEAR(s):\n",
    "    return datetime.strptime(s, '%Y-%m-%d %H:%M:%S').strftime('%J')\n",
    "\n",
    "def WEEKOFYEAR(s):\n",
    "    return datetime.strptime(s, '%Y-%m-%d %H:%M:%S').strftime('%W')"
   ]
  },
  {
   "cell_type": "code",
   "execution_count": 9,
   "id": "307b1614-1caf-4bcd-8930-2e695ebe3842",
   "metadata": {},
   "outputs": [
    {
     "data": {
      "text/plain": [
       "[['1970-01-01 00:00:00', '1970', 1, 'January', 'Jan'],\n",
       " ['1987-03-05 12:30:15', '1987', 3, 'March', 'Mar'],\n",
       " ['1999-12-31 09:00:00', '1999', 12, 'December', 'Dec'],\n",
       " ['2000-06-04 15:45:30', '2000', 6, 'June', 'Jun'],\n",
       " ['2000-06-04 15:45:30', '2000', 6, 'June', 'Jun']]"
      ]
     },
     "execution_count": 9,
     "metadata": {},
     "output_type": "execute_result"
    }
   ],
   "source": [
    "[\n",
    "    [\n",
    "        row[0],\n",
    "        YEAR(row[0]),\n",
    "        MONTH(row[0]),\n",
    "        MONTHNAME(row[0]),\n",
    "        MONTHNAME_ABBR(row[0]),\n",
    "    ]\n",
    "    for row in datetime_val\n",
    "]"
   ]
  },
  {
   "cell_type": "code",
   "execution_count": 10,
   "id": "d3e160f9-0b7d-4796-bc3a-0523785e789a",
   "metadata": {},
   "outputs": [
    {
     "data": {
      "text/plain": [
       "[['1970-01-01 00:00:00', '01', 'Thursday', 'Thu', '4'],\n",
       " ['1987-03-05 12:30:15', '05', 'Thursday', 'Thu', '4'],\n",
       " ['1999-12-31 09:00:00', '31', 'Friday', 'Fri', '5'],\n",
       " ['2000-06-04 15:45:30', '04', 'Sunday', 'Sun', '0'],\n",
       " ['2000-06-04 15:45:30', '04', 'Sunday', 'Sun', '0']]"
      ]
     },
     "execution_count": 10,
     "metadata": {},
     "output_type": "execute_result"
    }
   ],
   "source": [
    "[\n",
    "    [\n",
    "        row[0],\n",
    "        DAYOFMONTH(row[0]),\n",
    "        DAYNAME(row[0]),\n",
    "        DAYNAME_ABBR(row[0]),\n",
    "        WEEKDAY(row[0]),\n",
    "    ]\n",
    "    for row in datetime_val\n",
    "]"
   ]
  },
  {
   "cell_type": "code",
   "execution_count": 11,
   "id": "1000cbbb-9cf0-4402-ba8b-85c1979d8a8e",
   "metadata": {},
   "outputs": [
    {
     "data": {
      "text/plain": [
       "[['1970-01-01 00:00:00', '00', '00', '00'],\n",
       " ['1987-03-05 12:30:15', '12', '30', '15'],\n",
       " ['1999-12-31 09:00:00', '09', '00', '00'],\n",
       " ['2000-06-04 15:45:30', '15', '45', '30'],\n",
       " ['2000-06-04 15:45:30', '15', '45', '30']]"
      ]
     },
     "execution_count": 11,
     "metadata": {},
     "output_type": "execute_result"
    }
   ],
   "source": [
    "#\n",
    "# Funciones para la extracción de tiempo\n",
    "# =============================================================================\n",
    "# Las funciones tienen el mismo nombre que en SQL\n",
    "#\n",
    "def HOUR(s):\n",
    "    return datetime.strptime(s, '%Y-%m-%d %H:%M:%S').strftime('%H')\n",
    "\n",
    "def MINUTE(s):\n",
    "    return datetime.strptime(s, '%Y-%m-%d %H:%M:%S').strftime('%M')\n",
    "\n",
    "def SECOND(s):\n",
    "    return datetime.strptime(s, '%Y-%m-%d %H:%M:%S').strftime('%S')\n",
    "\n",
    "#\n",
    "# Extracción de las componentes de la hora\n",
    "#\n",
    "[\n",
    "    [\n",
    "        row[0],\n",
    "        HOUR(row[0]),\n",
    "        MINUTE(row[0]),\n",
    "        SECOND(row[0]),\n",
    "    ]\n",
    "    for row in datetime_val\n",
    "]"
   ]
  },
  {
   "cell_type": "code",
   "execution_count": 12,
   "id": "a30e76e9-374f-43e4-908c-d327df225d96",
   "metadata": {},
   "outputs": [
    {
     "data": {
      "text/plain": [
       "[['1970-01-01 00:00:00', '01/01/70'],\n",
       " ['1987-03-05 12:30:15', '05/03/87'],\n",
       " ['1999-12-31 09:00:00', '31/12/99'],\n",
       " ['2000-06-04 15:45:30', '04/06/00'],\n",
       " ['2000-06-04 15:45:30', '04/06/00']]"
      ]
     },
     "execution_count": 12,
     "metadata": {},
     "output_type": "execute_result"
    }
   ],
   "source": [
    "#\n",
    "# Ejemplo de cambio de formato\n",
    "# =============================================================================\n",
    "#\n",
    "[\n",
    "    [\n",
    "        row[0],\n",
    "        datetime.strptime(row[0], \"%Y-%m-%d %H:%M:%S\").strftime(\"%d/%m/%y\"),\n",
    "    ]\n",
    "    for row in datetime_val\n",
    "]"
   ]
  },
  {
   "cell_type": "code",
   "execution_count": 13,
   "id": "f2a5355e-c96e-439e-9020-0b39d76b490d",
   "metadata": {},
   "outputs": [
    {
     "data": {
      "text/plain": [
       "datetime.timedelta(18874, 14033, 156683)"
      ]
     },
     "metadata": {},
     "output_type": "display_data"
    },
    {
     "name": "stdout",
     "output_type": "stream",
     "text": [
      "18874 days, 3:53:53.156683\n",
      "\n"
     ]
    },
    {
     "data": {
      "text/plain": [
       "datetime.timedelta(12601, 55418, 156724)"
      ]
     },
     "metadata": {},
     "output_type": "display_data"
    },
    {
     "name": "stdout",
     "output_type": "stream",
     "text": [
      "12601 days, 15:23:38.156724\n",
      "\n"
     ]
    },
    {
     "data": {
      "text/plain": [
       "datetime.timedelta(7917, 68033, 156752)"
      ]
     },
     "metadata": {},
     "output_type": "display_data"
    },
    {
     "name": "stdout",
     "output_type": "stream",
     "text": [
      "7917 days, 18:53:53.156752\n",
      "\n"
     ]
    },
    {
     "data": {
      "text/plain": [
       "datetime.timedelta(7761, 43703, 156778)"
      ]
     },
     "metadata": {},
     "output_type": "display_data"
    },
    {
     "name": "stdout",
     "output_type": "stream",
     "text": [
      "7761 days, 12:08:23.156778\n",
      "\n"
     ]
    },
    {
     "data": {
      "text/plain": [
       "datetime.timedelta(7761, 43703, 156836)"
      ]
     },
     "metadata": {},
     "output_type": "display_data"
    },
    {
     "name": "stdout",
     "output_type": "stream",
     "text": [
      "7761 days, 12:08:23.156836\n",
      "\n"
     ]
    }
   ],
   "source": [
    "#\n",
    "# Cómputos con fechas\n",
    "# =============================================================================\n",
    "#\n",
    "interval = [\n",
    "    datetime.now() - datetime.strptime(row[0], \"%Y-%m-%d %H:%M:%S\")\n",
    "    for row in datetime_val\n",
    "]\n",
    "\n",
    "for td in interval:\n",
    "    display(td)\n",
    "    print(td)\n",
    "    print()"
   ]
  },
  {
   "cell_type": "code",
   "execution_count": 14,
   "id": "d511c94e-4451-4c27-a8a0-5f30f74fc951",
   "metadata": {},
   "outputs": [
    {
     "name": "stdout",
     "output_type": "stream",
     "text": [
      "2021-09-04 03:53:53.171253\n",
      "2021-09-09 03:53:53.171405\n"
     ]
    }
   ],
   "source": [
    "#\n",
    "# Suma de un incremento\n",
    "# =============================================================================\n",
    "#\n",
    "print(datetime.now())\n",
    "print(datetime.now() + timedelta(days=5))"
   ]
  },
  {
   "cell_type": "code",
   "execution_count": 15,
   "id": "4e00ff3c-72fd-4cbf-a698-e0a496d9cc86",
   "metadata": {},
   "outputs": [
    {
     "data": {
      "text/plain": [
       "[['1970-01-03 12:00:00'],\n",
       " ['1987-03-08 00:30:15'],\n",
       " ['2000-01-02 21:00:00'],\n",
       " ['2000-06-07 03:45:30'],\n",
       " ['2000-06-07 03:45:30']]"
      ]
     },
     "execution_count": 15,
     "metadata": {},
     "output_type": "execute_result"
    }
   ],
   "source": [
    "#\n",
    "# Suma 60 horas a cada fecha\n",
    "#\n",
    "[[(datetime.strptime(row[0], '%Y-%m-%d %H:%M:%S') +\n",
    "  timedelta(hours=60)).isoformat(' ')] for row in datetime_val]"
   ]
  },
  {
   "cell_type": "code",
   "execution_count": 16,
   "id": "6e9f0463-0638-4c69-b7e7-086ee4ca03ff",
   "metadata": {},
   "outputs": [
    {
     "name": "stdout",
     "output_type": "stream",
     "text": [
      "18874 days, 3:53:53.186915\n",
      "12601 days, 15:23:38.186963\n",
      "7917 days, 18:53:53.186992\n",
      "7761 days, 12:08:23.187013\n",
      "7761 days, 12:08:23.187030\n"
     ]
    }
   ],
   "source": [
    "#\n",
    "# Calcula la edad\n",
    "#\n",
    "ages = [\n",
    "    datetime.now() - datetime.strptime(row[0], \"%Y-%m-%d %H:%M:%S\")\n",
    "    for row in datetime_val\n",
    "]\n",
    "for age in ages:\n",
    "    print(age)"
   ]
  },
  {
   "cell_type": "markdown",
   "id": "a340fecc-3486-4b23-a910-a3d7b752a4fa",
   "metadata": {},
   "source": [
    "**Caso práctico**"
   ]
  },
  {
   "cell_type": "markdown",
   "id": "a3c3c2e8-9fcc-4ffa-b912-8724f0a90d6f",
   "metadata": {},
   "source": [
    "El archivo 'chicago_crime.csv' con tiene la información sobre reportes de hechos delictivos por fecha para la ciudad de Chicago. Responda las siguientes preguntas:\n",
    "\n",
    "* Cuales son los meses del año con más crímenes?\n",
    "\n",
    "* Cuáles son las ubicaciones más frecuentes por cada mes del año 2016?"
   ]
  },
  {
   "cell_type": "code",
   "execution_count": 26,
   "id": "c8c1d508-5fe9-451f-8d8d-d52d54fdb646",
   "metadata": {},
   "outputs": [],
   "source": [
    "base_url = \"https://raw.githubusercontent.com/jdvelasq/datalabs/master/datasets/\" \n",
    "filenames = [\n",
    "    \"chicago_crime.csv\", \n",
    "    \"cta_daily_station_totals.csv\", \n",
    "    \"cta_daily_summary_totals.csv\",\n",
    "]\n",
    "\n",
    "for filename in filenames:\n",
    "    !wget --quiet {base_url + filename} -P /tmp/"
   ]
  },
  {
   "cell_type": "code",
   "execution_count": 28,
   "id": "fdd476c1-bff8-4a48-86e8-e5d72ae21e39",
   "metadata": {},
   "outputs": [
    {
     "name": "stdout",
     "output_type": "stream",
     "text": [
      "Date,Block,Primary Type,Description,Location Description,Arrest,Domestic,District\n",
      "05/23/2016 05:35:00 PM,024XX W DIVISION ST,ASSAULT,SIMPLE,STREET,false,true,14\n",
      "03/26/2016 08:20:00 PM,019XX W HOWARD ST,BURGLARY,FORCIBLE ENTRY,SMALL RETAIL STORE,false,false,24\n",
      "04/25/2016 03:05:00 PM,001XX W 79TH ST,THEFT,RETAIL THEFT,DEPARTMENT STORE,true,false,6\n",
      "04/26/2016 05:30:00 PM,010XX N PINE AVE,BATTERY,SIMPLE,SIDEWALK,false,false,15\n",
      "06/19/2016 01:15:00 AM,027XX W AUGUSTA BLVD,BATTERY,AGGRAVATED: HANDGUN,SIDEWALK,false,false,12\n",
      "05/28/2016 08:00:00 PM,070XX S ASHLAND AVE,BATTERY,DOMESTIC BATTERY SIMPLE,GAS STATION,false,true,7\n",
      "07/03/2016 03:43:00 PM,0000X N STATE ST,THEFT,RETAIL THEFT,OTHER,false,false,1\n",
      "06/11/2016 06:55:00 PM,044XX W MAYPOLE AVE,PUBLIC PEACE VIOLATION,RECKLESS CONDUCT,STREET,true,false,11\n",
      "10/04/2016 10:20:00 AM,016XX W 63RD ST,BATTERY,SIMPLE,STREET,true,false,7\n"
     ]
    }
   ],
   "source": [
    "!head /tmp/chicago_crime.csv"
   ]
  },
  {
   "cell_type": "code",
   "execution_count": 36,
   "id": "90134559-7e2b-4b78-8745-e8cb039ded20",
   "metadata": {},
   "outputs": [
    {
     "name": "stdout",
     "output_type": "stream",
     "text": [
      "     1\tDate\n",
      "     2\tBlock\n",
      "     3\tPrimary Type\n",
      "     4\tDescription\n",
      "     5\tLocation Description\n",
      "     6\tArrest\n",
      "     7\tDomestic\n",
      "     8\tDistrict\n"
     ]
    }
   ],
   "source": [
    "#\n",
    "# head extrae la primera linea del archivo\n",
    "# tr convierte la ',' en '\\n' para que se imprima una columna por línea\n",
    "# nl numera cada línea de la salida\n",
    "# \n",
    "!head -n 1 /tmp/chicago_crime.csv | tr ',' '\\n' | nl"
   ]
  },
  {
   "cell_type": "code",
   "execution_count": 44,
   "id": "d4f79818-a99e-434a-8453-1bc1f43f4469",
   "metadata": {},
   "outputs": [
    {
     "name": "stdout",
     "output_type": "stream",
     "text": [
      "Crimes by Month:\n",
      "[(1, 1948), (2, 1862), (7, 1257)]\n",
      "\n",
      "Locations by Month:\n",
      "5 [('STREET', 241), ('RESIDENCE', 175), ('APARTMENT', 128), ('SIDEWALK', 111), ('OTHER', 41)]\n",
      "3 [('STREET', 240), ('RESIDENCE', 190), ('APARTMENT', 139), ('SIDEWALK', 99), ('OTHER', 52)]\n",
      "4 [('STREET', 213), ('RESIDENCE', 171), ('APARTMENT', 152), ('SIDEWALK', 96), ('OTHER', 40)]\n",
      "6 [('STREET', 245), ('RESIDENCE', 164), ('APARTMENT', 159), ('SIDEWALK', 123), ('PARKING LOT/GARAGE(NON.RESID.)', 44)]\n",
      "7 [('STREET', 309), ('RESIDENCE', 177), ('APARTMENT', 166), ('SIDEWALK', 125), ('OTHER', 47)]\n",
      "10 [('STREET', 248), ('RESIDENCE', 206), ('APARTMENT', 122), ('SIDEWALK', 92), ('OTHER', 62)]\n",
      "12 [('STREET', 207), ('RESIDENCE', 158), ('APARTMENT', 136), ('OTHER', 47), ('SIDEWALK', 46)]\n",
      "1 [('STREET', 196), ('RESIDENCE', 160), ('APARTMENT', 153), ('SIDEWALK', 72), ('PARKING LOT/GARAGE(NON.RESID.)', 43)]\n",
      "9 [('STREET', 279), ('RESIDENCE', 183), ('APARTMENT', 144), ('SIDEWALK', 121), ('OTHER', 39)]\n",
      "11 [('STREET', 236), ('RESIDENCE', 182), ('APARTMENT', 154), ('SIDEWALK', 75), ('OTHER', 41)]\n",
      "8 [('STREET', 280), ('RESIDENCE', 199), ('APARTMENT', 144), ('SIDEWALK', 109), ('OTHER', 47)]\n",
      "2 [('STREET', 188), ('RESIDENCE', 159), ('APARTMENT', 144), ('SIDEWALK', 73), ('OTHER', 40)]\n"
     ]
    }
   ],
   "source": [
    "import csv\n",
    "from collections import Counter, defaultdict\n",
    "from datetime import datetime\n",
    "\n",
    "\n",
    "def load_crime_data():\n",
    "    \"\"\"Retorna los registros con los campos de interes como una lista de tuplas.\"\"\"\n",
    "\n",
    "    csvfile = open(\"/tmp/chicago_crime.csv\", \"r\")\n",
    "\n",
    "    next(csvfile)\n",
    "\n",
    "    crime_data = []\n",
    "\n",
    "    for row in csv.reader(csvfile):\n",
    "        #\n",
    "        # Se agregan los siguientes campos:\n",
    "        #\n",
    "        #   0: Date,\n",
    "        #   2: Primary Type,\n",
    "        #   4: Location Description\n",
    "        #   5: Arrest\n",
    "        #\n",
    "        crime_data.append((row[0], row[2], row[4], row[5]))\n",
    "\n",
    "    return crime_data\n",
    "\n",
    "\n",
    "def compute_crimes_by_month(crime_data):\n",
    "    \"\"\"Calcula la cantidad de crimenes para cada mes.\"\"\"\n",
    "\n",
    "    crimes_by_month = Counter()\n",
    "\n",
    "    for row in crime_data:\n",
    "\n",
    "        #\n",
    "        # Convierte el string a un objeto fecha:\n",
    "        # 05/23/2016 05:35:00 PM\n",
    "        #\n",
    "        date = datetime.strptime(row[0], \"%m/%d/%Y %I:%M:%S %p\")\n",
    "\n",
    "        #\n",
    "        # Contador\n",
    "        #\n",
    "        crimes_by_month[date.month] += 1\n",
    "\n",
    "    return crimes_by_month\n",
    "\n",
    "\n",
    "def compute_locations_by_month(crime_data):\n",
    "\n",
    "    #\n",
    "    # Crea un defaultdict para realizar el conteo.\n",
    "    # El valor por defecto del diccionario es una\n",
    "    # lista vacia\n",
    "    #\n",
    "    locations_by_month = defaultdict(list)\n",
    "\n",
    "    for row in crime_data:\n",
    "\n",
    "        #\n",
    "        # Convierte el string a un objeto fecha:\n",
    "        # 05/23/2016 05:35:00 PM\n",
    "        #\n",
    "        date = datetime.strptime(row[0], \"%m/%d/%Y %I:%M:%S %p\")\n",
    "\n",
    "        if date.year == 2016:\n",
    "            locations_by_month[date.month].append(row[2])\n",
    "\n",
    "    locations_by_month = {\n",
    "        key: Counter(value).most_common(5) for key, value in locations_by_month.items()\n",
    "    }\n",
    "\n",
    "    return locations_by_month\n",
    "\n",
    "\n",
    "def create_report(crimes_by_month, locations_by_month):\n",
    "    print(\"Crimes by Month:\")\n",
    "    print(crimes_by_month.most_common(3))\n",
    "    print()\n",
    "    print(\"Locations by Month:\")\n",
    "    for key, value in locations_by_month.items():\n",
    "        print(key, value)\n",
    "\n",
    "\n",
    "crime_data = load_crime_data()\n",
    "crimes_by_month = compute_crimes_by_month(crime_data)\n",
    "locations_by_month = compute_locations_by_month(crime_data)\n",
    "create_report(crimes_by_month, locations_by_month)"
   ]
  },
  {
   "cell_type": "code",
   "execution_count": 47,
   "id": "77884b9e-f66b-4b5e-895c-bcb99e5cf0cd",
   "metadata": {},
   "outputs": [
    {
     "data": {
      "text/plain": [
       "defaultdict(collections.Counter,\n",
       "            {'14': Counter({2016: 59, 2017: 8}),\n",
       "             '24': Counter({2017: 10, 2016: 51}),\n",
       "             '6': Counter({2016: 157, 2017: 32}),\n",
       "             '15': Counter({2016: 154, 2017: 16}),\n",
       "             '12': Counter({2016: 72, 2017: 9}),\n",
       "             '7': Counter({2016: 181, 2017: 27}),\n",
       "             '1': Counter({2016: 124, 2017: 15}),\n",
       "             '11': Counter({2016: 275, 2017: 53}),\n",
       "             '18': Counter({2016: 92, 2017: 17}),\n",
       "             '22': Counter({2016: 78, 2017: 12}),\n",
       "             '5': Counter({2017: 30, 2016: 149}),\n",
       "             '16': Counter({2016: 66, 2017: 9}),\n",
       "             '9': Counter({2016: 116, 2017: 17}),\n",
       "             '8': Counter({2016: 124, 2017: 26}),\n",
       "             '3': Counter({2016: 98, 2017: 18}),\n",
       "             '2': Counter({2016: 84, 2017: 15}),\n",
       "             '19': Counter({2016: 88, 2017: 11}),\n",
       "             '10': Counter({2016: 144, 2017: 20}),\n",
       "             '4': Counter({2016: 134, 2017: 15}),\n",
       "             '17': Counter({2016: 38, 2017: 5}),\n",
       "             '20': Counter({2016: 27, 2017: 8}),\n",
       "             '25': Counter({2017: 26, 2016: 150}),\n",
       "             '31': Counter({2016: 1})})"
      ]
     },
     "execution_count": 47,
     "metadata": {},
     "output_type": "execute_result"
    }
   ],
   "source": [
    "def load_crimes_by_district():\n",
    "    \n",
    "    #\n",
    "    # Carga el archivo\n",
    "    #\n",
    "    csvfile = open(\"/tmp/chicago_crime.csv\", \"r\")\n",
    "\n",
    "    #\n",
    "    # Almacena los delitos como una lista\n",
    "    #\n",
    "    crimes_by_district = defaultdict(list)\n",
    "\n",
    "    for row in csv.DictReader(csvfile):\n",
    "        \n",
    "        # \n",
    "        # Elimina el campo District y almacena el \n",
    "        # valor por cada registro\n",
    "        #\n",
    "        district = row.pop('District')\n",
    "\n",
    "        # \n",
    "        # Almacena el resto de los campos en una\n",
    "        # lista\n",
    "        #\n",
    "        crimes_by_district[district].append(row)\n",
    "        \n",
    "    return crimes_by_district\n",
    "\n",
    "def count_crimes_by_district_and_year(crimes_by_district):\n",
    "    \n",
    "    #\n",
    "    # Por cada distrito crea un contador vacio\n",
    "    #\n",
    "    crimes_by_district_and_year = defaultdict(Counter)\n",
    "    \n",
    "    \n",
    "    for district, crimes in crimes_by_district.items():\n",
    "\n",
    "        for crime in crimes:\n",
    "\n",
    "            if crime['Arrest'] == 'true':\n",
    "                \n",
    "                year = datetime.strptime(crime['Date'], '%m/%d/%Y %I:%M:%S %p').year\n",
    "                \n",
    "                crimes_by_district_and_year[district][year] += 1\n",
    "\n",
    "    return crimes_by_district_and_year\n",
    "\n",
    "\n",
    "crimes_by_district = load_crimes_by_district()\n",
    "\n",
    "crimes_by_district_and_year = count_crimes_by_district_and_year(crimes_by_district)\n",
    "\n",
    "crimes_by_district_and_year"
   ]
  }
 ],
 "metadata": {
  "kernelspec": {
   "display_name": "Python 3 (ipykernel)",
   "language": "python",
   "name": "python3"
  },
  "language_info": {
   "codemirror_mode": {
    "name": "ipython",
    "version": 3
   },
   "file_extension": ".py",
   "mimetype": "text/x-python",
   "name": "python",
   "nbconvert_exporter": "python",
   "pygments_lexer": "ipython3",
   "version": "3.8.10"
  }
 },
 "nbformat": 4,
 "nbformat_minor": 5
}
