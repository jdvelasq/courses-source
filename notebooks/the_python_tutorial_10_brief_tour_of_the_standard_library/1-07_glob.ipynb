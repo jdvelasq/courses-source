{
 "cells": [
  {
   "cell_type": "markdown",
   "id": "9877bfb8-484d-4618-9fc6-bc692ba35d1e",
   "metadata": {},
   "source": [
    "Librería glob (Expansión de nombres de paths estilo Unix)\n",
    "===\n",
    "\n",
    "* Última modificación: Mayo 14, 2022"
   ]
  },
  {
   "cell_type": "code",
   "execution_count": 1,
   "id": "0df10cd9-d6c6-46b0-a372-b767f72fab6f",
   "metadata": {},
   "outputs": [],
   "source": [
    "import glob"
   ]
  },
  {
   "cell_type": "code",
   "execution_count": 2,
   "id": "46e1b421-f246-41a4-9307-e41b9d6f3d97",
   "metadata": {},
   "outputs": [
    {
     "data": {
      "text/plain": [
       "['1-01_datetime.ipynb',\n",
       " '1-02-re.ipynb',\n",
       " '1-03_os.ipynb',\n",
       " '1-04_glob.ipynb',\n",
       " '1-05_collections.ipynb',\n",
       " '1-06_logging.ipynb']"
      ]
     },
     "execution_count": 2,
     "metadata": {},
     "output_type": "execute_result"
    }
   ],
   "source": [
    "#\n",
    "# Nombres de archivo terminados en `.ipynb` en la carpeta actual \n",
    "#\n",
    "glob.glob(\"*.ipynb\")"
   ]
  },
  {
   "cell_type": "code",
   "execution_count": 3,
   "id": "9281b92d-d807-4a8a-81f1-154db8719104",
   "metadata": {},
   "outputs": [
    {
     "name": "stdout",
     "output_type": "stream",
     "text": [
      "Writing /tmp/archivo-con-nombre-escapado-*-?.txt\n"
     ]
    }
   ],
   "source": [
    "%%writefile /tmp/archivo-con-nombre-escapado-*-?.txt\n",
    "\n",
    "Sin contenido"
   ]
  },
  {
   "cell_type": "code",
   "execution_count": 4,
   "id": "8b3ef54c-5b8b-4674-813a-e9c884f35ceb",
   "metadata": {},
   "outputs": [
    {
     "data": {
      "text/plain": [
       "'/tmp/archivo-con-nombre-escapado-[*]-[?].txt'"
      ]
     },
     "execution_count": 4,
     "metadata": {},
     "output_type": "execute_result"
    }
   ],
   "source": [
    "#\n",
    "# El nombre de archivo anterior contiene wildcards que se interpretan\n",
    "# como patrones en Unix. Se usa `glob.escape` para poder buscar estos\n",
    "# patrones.\n",
    "#\n",
    "glob.escape(\"/tmp/archivo-con-nombre-escapado-*-?.txt\")"
   ]
  },
  {
   "cell_type": "code",
   "execution_count": 5,
   "id": "a70eb157-a878-42eb-9ab7-85df5771dc8c",
   "metadata": {},
   "outputs": [
    {
     "data": {
      "text/plain": [
       "['/tmp/archivo-con-nombre-escapado-*-?.txt']"
      ]
     },
     "execution_count": 5,
     "metadata": {},
     "output_type": "execute_result"
    }
   ],
   "source": [
    "#\n",
    "# Búsqueda con nombres de archivos que contiene caracteres especiales\n",
    "#\n",
    "glob.glob(glob.escape(\"/tmp/archivo-con-nombre-escapado-*-?.txt\"))"
   ]
  },
  {
   "cell_type": "code",
   "execution_count": 6,
   "id": "ccb3523f-b13f-406c-8d3d-9ff712c1124c",
   "metadata": {},
   "outputs": [],
   "source": [
    "import os\n",
    "\n",
    "#\n",
    "# A continuación se genera un arbol de directorios con archivos\n",
    "#\n",
    "os.makedirs('/tmp/branch-0/branch-0-0/branch-0-0-0')\n",
    "os.makedirs('/tmp/branch-0/branch-0-0/branch-0-0-1')\n",
    "os.makedirs('/tmp/branch-1/branch-1-1/branch-1-1-0')\n",
    "os.makedirs('/tmp/branch-1/branch-1-1/branch-1-1-1')\n",
    "\n",
    "#\n",
    "# Y se crean archivos vacios en los directorios terminales\n",
    "#\n",
    "!touch /tmp/branch-0/branch-0-0/branch-0-0-0/demo-0.txt\n",
    "!touch /tmp/branch-0/branch-0-0/branch-0-0-1/demo-1.txt\n",
    "!touch /tmp/branch-1/branch-1-1/branch-1-1-0/demo-2.txt\n",
    "!touch /tmp/branch-1/branch-1-1/branch-1-1-1/demo-3.txt"
   ]
  },
  {
   "cell_type": "code",
   "execution_count": 7,
   "id": "fe4ec463-f732-4753-8836-abecee31eaec",
   "metadata": {},
   "outputs": [
    {
     "data": {
      "text/plain": [
       "['/tmp/archivo-con-nombre-escapado-*-?.txt',\n",
       " '/tmp/branch-1/branch-1-1/branch-1-1-1/demo-3.txt',\n",
       " '/tmp/branch-1/branch-1-1/branch-1-1-0/demo-2.txt',\n",
       " '/tmp/branch-0/branch-0-0/branch-0-0-1/demo-1.txt',\n",
       " '/tmp/branch-0/branch-0-0/branch-0-0-0/demo-0.txt']"
      ]
     },
     "execution_count": 7,
     "metadata": {},
     "output_type": "execute_result"
    }
   ],
   "source": [
    "#\n",
    "# Búsqueda recursiva\n",
    "#\n",
    "glob.glob(\"/tmp/**/*.txt\",  recursive=True)"
   ]
  },
  {
   "cell_type": "markdown",
   "id": "be3d4f17-4ba1-4181-88a5-60065bd5d0b6",
   "metadata": {},
   "source": [
    "**Ejemplos de patrones:**  Qué patrones representan los siguientes ejemplos:\n",
    "\n",
    "a)\n",
    "```python\n",
    "glob.glob('./[0-9].*')\n",
    "```\n",
    "\n",
    "b)\n",
    "```python\n",
    "glob.glob('?.gif')\n",
    "```\n",
    "\n",
    "c)\n",
    "```python\n",
    "glob.glob('**/.txt', recursive=True)\n",
    "```\n",
    "\n",
    "d)\n",
    "```python\n",
    "glob.glob('./**/', recursive=True)\n",
    "```\n",
    "\n"
   ]
  }
 ],
 "metadata": {
  "kernelspec": {
   "display_name": "Python 3 (ipykernel)",
   "language": "python",
   "name": "python3"
  },
  "language_info": {
   "codemirror_mode": {
    "name": "ipython",
    "version": 3
   },
   "file_extension": ".py",
   "mimetype": "text/x-python",
   "name": "python",
   "nbconvert_exporter": "python",
   "pygments_lexer": "ipython3",
   "version": "3.8.10"
  }
 },
 "nbformat": 4,
 "nbformat_minor": 5
}
