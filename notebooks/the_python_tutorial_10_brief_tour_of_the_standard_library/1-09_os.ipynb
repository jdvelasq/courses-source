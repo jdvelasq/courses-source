{
 "cells": [
  {
   "cell_type": "markdown",
   "id": "b96c1a52-8adc-4cde-96be-d192234c48d7",
   "metadata": {},
   "source": [
    "Librería os (Interfaces al sistema operativo)\n",
    "===\n",
    "\n",
    "* Última modificación: Mayo 14, 2022"
   ]
  },
  {
   "cell_type": "code",
   "execution_count": 1,
   "id": "e6f1d73f-a9fa-4245-898c-1aed8b78d4c0",
   "metadata": {},
   "outputs": [],
   "source": [
    "import os"
   ]
  },
  {
   "cell_type": "code",
   "execution_count": 2,
   "id": "36df35d6-b046-4384-b98e-3c8adae0b13e",
   "metadata": {},
   "outputs": [
    {
     "data": {
      "text/plain": [
       "'/workspace/python_advanced'"
      ]
     },
     "execution_count": 2,
     "metadata": {},
     "output_type": "execute_result"
    }
   ],
   "source": [
    "# -----------------------------------------------------------------------------\n",
    "# getcwd(): get current working directory\n",
    "#\n",
    "cwd = os.getcwd()\n",
    "cwd"
   ]
  },
  {
   "cell_type": "code",
   "execution_count": 3,
   "id": "3e2dff5b-2984-482e-9d00-2c262dae4237",
   "metadata": {},
   "outputs": [
    {
     "data": {
      "text/plain": [
       "'/tmp'"
      ]
     },
     "execution_count": 3,
     "metadata": {},
     "output_type": "execute_result"
    }
   ],
   "source": [
    "# -----------------------------------------------------------------------------\n",
    "# chdir(path): Change the current working directory to path.\n",
    "#\n",
    "os.chdir('/tmp')\n",
    "os.getcwd()"
   ]
  },
  {
   "cell_type": "code",
   "execution_count": 4,
   "id": "d7bbe9b6-7680-418c-b086-a725a0f86cac",
   "metadata": {},
   "outputs": [
    {
     "data": {
      "text/plain": [
       "'/workspace/python_advanced'"
      ]
     },
     "execution_count": 4,
     "metadata": {},
     "output_type": "execute_result"
    }
   ],
   "source": [
    "os.chdir(cwd)\n",
    "os.getcwd()"
   ]
  },
  {
   "cell_type": "code",
   "execution_count": 5,
   "id": "c70c5a0f-09c0-43ea-8f5e-41ea7b894a47",
   "metadata": {},
   "outputs": [
    {
     "data": {
      "text/plain": [
       "['.DS_Store', '.ipynb_checkpoints', '1-02_os.ipynb']"
      ]
     },
     "execution_count": 5,
     "metadata": {},
     "output_type": "execute_result"
    }
   ],
   "source": [
    "# -----------------------------------------------------------------------------\n",
    "# listdir(path='.'): Return a list containing the names of the entries in the directory given by path. \n",
    "#\n",
    "os.listdir()"
   ]
  },
  {
   "cell_type": "code",
   "execution_count": 6,
   "id": "e49cf27b-acc1-4770-a308-c0f0d2bf8b9a",
   "metadata": {},
   "outputs": [
    {
     "data": {
      "text/plain": [
       "['.profile', '.bashrc', '.local', '.jupyter', '.ipython', '.cache']"
      ]
     },
     "execution_count": 6,
     "metadata": {},
     "output_type": "execute_result"
    }
   ],
   "source": [
    "os.listdir(\"/root\")"
   ]
  },
  {
   "cell_type": "code",
   "execution_count": 7,
   "id": "1e31c927-fb0d-43f5-8129-cb645cf3ced0",
   "metadata": {},
   "outputs": [
    {
     "name": "stdout",
     "output_type": "stream",
     "text": [
      "1-02_os.ipynb\n",
      "demo\n"
     ]
    }
   ],
   "source": [
    "# -----------------------------------------------------------------------------\n",
    "# mkdir(path): Create a directory named path.\n",
    "#\n",
    "os.mkdir('./demo')\n",
    "!ls -1"
   ]
  },
  {
   "cell_type": "code",
   "execution_count": 8,
   "id": "9c8c1250-b513-4bca-8b7a-c8da8e5e2297",
   "metadata": {},
   "outputs": [],
   "source": [
    "# -----------------------------------------------------------------------------\n",
    "# makedirs(name): Recursive directory creation function. \n",
    "#\n",
    "os.makedirs('./branch-0/branch-1/branch-2')"
   ]
  },
  {
   "cell_type": "code",
   "execution_count": 9,
   "id": "423b75c6-5aed-49f2-935e-9e31a31400df",
   "metadata": {},
   "outputs": [
    {
     "name": "stdout",
     "output_type": "stream",
     "text": [
      "1-02_os.ipynb  branch-0  delete.me  demo\n"
     ]
    }
   ],
   "source": [
    "# -----------------------------------------------------------------------------\n",
    "# remove(path): Remove (delete) the file path. If path is a directory, an IsADirectoryError is raised. \n",
    "#\n",
    "!touch delete.me\n",
    "!ls "
   ]
  },
  {
   "cell_type": "code",
   "execution_count": 10,
   "id": "b9908710-d35b-44cc-8ecd-b0cdd49cd434",
   "metadata": {},
   "outputs": [
    {
     "name": "stdout",
     "output_type": "stream",
     "text": [
      "1-02_os.ipynb  branch-0  demo\n"
     ]
    }
   ],
   "source": [
    "os.remove('delete.me')\n",
    "!ls"
   ]
  },
  {
   "cell_type": "code",
   "execution_count": 11,
   "id": "ca4f98bd-c6b7-4a04-b94c-2291ab54b037",
   "metadata": {},
   "outputs": [
    {
     "name": "stdout",
     "output_type": "stream",
     "text": [
      "1-02_os.ipynb\n",
      "branch-0\n"
     ]
    }
   ],
   "source": [
    "# -----------------------------------------------------------------------------\n",
    "# Remove (delete) the empty directory path.\n",
    "#\n",
    "os.rmdir(\"demo\")\n",
    "!ls -1"
   ]
  },
  {
   "cell_type": "code",
   "execution_count": 12,
   "id": "5d932332-8be3-4132-b5f3-263f1513a04b",
   "metadata": {},
   "outputs": [
    {
     "name": "stdout",
     "output_type": "stream",
     "text": [
      "1-02_os.ipynb\n"
     ]
    }
   ],
   "source": [
    "# -----------------------------------------------------------------------------\n",
    "# removedirs(name)\n",
    "#\n",
    "os.removedirs('branch-0/branch-1/branch-2')\n",
    "!ls -1"
   ]
  },
  {
   "cell_type": "code",
   "execution_count": 13,
   "id": "7ffd3699-acb6-4a58-add3-2584ccf4069a",
   "metadata": {},
   "outputs": [
    {
     "name": "stdout",
     "output_type": "stream",
     "text": [
      "1-02_os.ipynb\n",
      "rename.me\n"
     ]
    }
   ],
   "source": [
    "# -----------------------------------------------------------------------------\n",
    "# rename(src, dst): Rename the file or directory src to dst.  Fails if dst exists!\n",
    "#\n",
    "!touch rename.me\n",
    "!ls -1 "
   ]
  },
  {
   "cell_type": "code",
   "execution_count": 14,
   "id": "795c9928-241f-41ca-b5f0-e4ed317c9fd2",
   "metadata": {},
   "outputs": [
    {
     "name": "stdout",
     "output_type": "stream",
     "text": [
      "1-02_os.ipynb\n",
      "renamed\n"
     ]
    }
   ],
   "source": [
    "os.rename('rename.me', 'renamed')\n",
    "!ls -1"
   ]
  },
  {
   "cell_type": "code",
   "execution_count": 15,
   "id": "2fc01b5a-bb5a-4af9-9805-da148bc606f7",
   "metadata": {},
   "outputs": [
    {
     "name": "stdout",
     "output_type": "stream",
     "text": [
      "1-02_os.ipynb\n",
      "rename.me\n",
      "renamed\n"
     ]
    }
   ],
   "source": [
    "# -----------------------------------------------------------------------------\n",
    "# replace(src, dst): Rename the file or directory src to dst.\n",
    "#\n",
    "!echo \"content of rename.me\" > rename.me\n",
    "!echo \"content of renamed\" > renamed\n",
    "!ls -1"
   ]
  },
  {
   "cell_type": "code",
   "execution_count": 16,
   "id": "01ab0e0f-3652-49b0-8c8f-58994c7cf9e0",
   "metadata": {},
   "outputs": [
    {
     "name": "stdout",
     "output_type": "stream",
     "text": [
      "1-02_os.ipynb\n",
      "renamed\n"
     ]
    }
   ],
   "source": [
    "os.replace('rename.me', 'renamed')\n",
    "!ls -1"
   ]
  },
  {
   "cell_type": "code",
   "execution_count": 17,
   "id": "323d3f41-bd42-4f78-b690-00deab3efcb1",
   "metadata": {},
   "outputs": [
    {
     "name": "stdout",
     "output_type": "stream",
     "text": [
      "content of rename.me\n"
     ]
    }
   ],
   "source": [
    "!cat renamed"
   ]
  },
  {
   "cell_type": "code",
   "execution_count": 18,
   "id": "52bf9367-70f1-4706-a46f-0fff016af1dc",
   "metadata": {},
   "outputs": [
    {
     "name": "stdout",
     "output_type": "stream",
     "text": [
      "1-02_os.ipynb\n",
      "branch-0\n",
      "renamed\n"
     ]
    }
   ],
   "source": [
    "# -----------------------------------------------------------------------------\n",
    "# rmdir(path): Remove (delete) the empty directory path.\n",
    "#\n",
    "os.makedirs('./branch-0/branch-1/branch-2')\n",
    "!ls -1"
   ]
  },
  {
   "cell_type": "code",
   "execution_count": 19,
   "id": "e893f7d9-7239-46b8-a4df-50682ff4df89",
   "metadata": {},
   "outputs": [
    {
     "data": {
      "text/plain": [
       "environ{'HOSTNAME': '944a418c8e87',\n",
       "        'PWD': '/workspace',\n",
       "        'HOME': '/root',\n",
       "        'LANG': 'C.UTF-8',\n",
       "        'TERM': 'xterm-color',\n",
       "        'SHLVL': '0',\n",
       "        'PATH': '/usr/local/sbin:/usr/local/bin:/usr/sbin:/usr/bin:/sbin:/bin',\n",
       "        'DEBIAN_FRONTEND': 'dialog',\n",
       "        '_': '/usr/local/bin/jupyter',\n",
       "        'PYDEVD_USE_FRAME_EVAL': 'NO',\n",
       "        'JPY_PARENT_PID': '1',\n",
       "        'CLICOLOR': '1',\n",
       "        'PAGER': 'cat',\n",
       "        'GIT_PAGER': 'cat',\n",
       "        'MPLBACKEND': 'module://matplotlib_inline.backend_inline'}"
      ]
     },
     "execution_count": 19,
     "metadata": {},
     "output_type": "execute_result"
    }
   ],
   "source": [
    "# -----------------------------------------------------------------------------\n",
    "# environ: retorna las variables de ambiente\n",
    "#\n",
    "os.environ"
   ]
  },
  {
   "cell_type": "code",
   "execution_count": 20,
   "id": "dc3fbebd-ea9c-4b3d-9a6e-67881e305ab0",
   "metadata": {},
   "outputs": [
    {
     "data": {
      "text/plain": [
       "'/root'"
      ]
     },
     "execution_count": 20,
     "metadata": {},
     "output_type": "execute_result"
    }
   ],
   "source": [
    "os.environ[\"HOME\"]"
   ]
  },
  {
   "cell_type": "code",
   "execution_count": 21,
   "id": "3c2ccf14-bcd2-4b26-9f4c-5b1650073479",
   "metadata": {},
   "outputs": [
    {
     "data": {
      "text/plain": [
       "0"
      ]
     },
     "execution_count": 21,
     "metadata": {},
     "output_type": "execute_result"
    }
   ],
   "source": [
    "# -----------------------------------------------------------------------------\n",
    "# system: Execute the command (a string) in a subshell.\n",
    "#\n",
    "os.system(\"ls /root\")"
   ]
  },
  {
   "cell_type": "code",
   "execution_count": 25,
   "id": "8b5b2bf1-0aee-4ba6-9f06-fc83a8f7d2ab",
   "metadata": {},
   "outputs": [],
   "source": [
    "!rm -rf branch-0 renamed"
   ]
  },
  {
   "cell_type": "code",
   "execution_count": 22,
   "id": "a7094758-6481-4ffb-8c0a-53b43fd588eb",
   "metadata": {},
   "outputs": [],
   "source": [
    "#\n",
    "# Uso de glob para especificar wildcards\n",
    "#\n",
    "# import glob\n",
    "\n",
    "# glob.glob(\"*.ipynb\")"
   ]
  },
  {
   "cell_type": "code",
   "execution_count": 23,
   "id": "e4a14f29-5c8e-4b9c-9c84-a5e7bd32e2b0",
   "metadata": {},
   "outputs": [],
   "source": [
    "#\n",
    "# Ejecución de comandos y captura del retvalue\n",
    "#\n",
    "# os.system(\"ls /root\")"
   ]
  },
  {
   "cell_type": "code",
   "execution_count": 24,
   "id": "fc7ef7b7-3ce3-46e8-b5d9-22b6d793a74f",
   "metadata": {},
   "outputs": [],
   "source": [
    "import subprocess\n",
    "\n",
    "# output = subprocess.check_output([\"ls\", \"-1\"])\n",
    "# output = output.decode(\"UTF-8\")\n",
    "# print(output)"
   ]
  }
 ],
 "metadata": {
  "kernelspec": {
   "display_name": "Python 3 (ipykernel)",
   "language": "python",
   "name": "python3"
  },
  "language_info": {
   "codemirror_mode": {
    "name": "ipython",
    "version": 3
   },
   "file_extension": ".py",
   "mimetype": "text/x-python",
   "name": "python",
   "nbconvert_exporter": "python",
   "pygments_lexer": "ipython3",
   "version": "3.8.10"
  }
 },
 "nbformat": 4,
 "nbformat_minor": 5
}
