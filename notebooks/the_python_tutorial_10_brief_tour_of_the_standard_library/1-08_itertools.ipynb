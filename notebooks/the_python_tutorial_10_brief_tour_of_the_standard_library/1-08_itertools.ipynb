{
 "cells": [
  {
   "cell_type": "markdown",
   "id": "37074ef8-8839-4dd4-8b3f-8048966f462d",
   "metadata": {},
   "source": [
    "Librería itertools (Funciones para crear iteradores) --- 0:00 min\n",
    "===\n",
    "\n",
    "* Última modificación: Mayo 13, 2022 | YouTube"
   ]
  },
  {
   "cell_type": "code",
   "execution_count": null,
   "id": "2a014fb0-52d6-442e-9aac-3cd559f5a9e9",
   "metadata": {},
   "outputs": [],
   "source": [
    "import itertools\n",
    "import operator"
   ]
  },
  {
   "cell_type": "code",
   "execution_count": null,
   "id": "0c46b5c7-9e2e-4405-9897-b8f4ca24ee0d",
   "metadata": {},
   "outputs": [],
   "source": [
    "# -----------------------------------------------------------------------------\n",
    "# accumulate(): Make an iterator that returns accumulated sums, or accumulated\n",
    "# results of other binary functions\n",
    "#\n",
    "data = [1, 2, 3, 4, 5]\n",
    "\n",
    "#\n",
    "# suma acumulada\n",
    "#\n",
    "list(itertools.accumulate(data, operator.add))"
   ]
  },
  {
   "cell_type": "code",
   "execution_count": null,
   "id": "25c507a6-18fd-46e3-a0fa-12a704d184a3",
   "metadata": {},
   "outputs": [],
   "source": [
    "#\n",
    "# Máximo acumulado\n",
    "#\n",
    "list(itertools.accumulate(data, max))"
   ]
  },
  {
   "cell_type": "code",
   "execution_count": null,
   "id": "1d96818b-519c-4120-850f-66b38fb60372",
   "metadata": {},
   "outputs": [],
   "source": [
    "#\n",
    "# Definición de una función de usuario para acumulación\n",
    "#\n",
    "list(itertools.accumulate(data, lambda accum, x: accum + x**2))"
   ]
  },
  {
   "cell_type": "code",
   "execution_count": null,
   "id": "8e383bd2-9c8d-4fea-8848-2d2df2014934",
   "metadata": {},
   "outputs": [],
   "source": [
    "#\n",
    "# Roughly equivalent to:\n",
    "#\n",
    "def accumulate(iterable, func=operator.add, *, initial=None):\n",
    "    \"Return running totals\"\n",
    "    # accumulate([1,2,3,4,5]) --> 1 3 6 10 15\n",
    "    # accumulate([1,2,3,4,5], initial=100) --> 100 101 103 106 110 115\n",
    "    # accumulate([1,2,3,4,5], operator.mul) --> 1 2 6 24 120\n",
    "    it = iter(iterable)\n",
    "    total = initial\n",
    "    if initial is None:\n",
    "        try:\n",
    "            total = next(it)\n",
    "        except StopIteration:\n",
    "            return\n",
    "    yield total\n",
    "    for element in it:\n",
    "        total = func(total, element)\n",
    "        yield total"
   ]
  },
  {
   "cell_type": "code",
   "execution_count": null,
   "id": "2cd1879d-60d7-4f4b-95bd-e8a0a232abf9",
   "metadata": {},
   "outputs": [],
   "source": [
    "# -----------------------------------------------------------------------------\n",
    "# chain(): Make an iterator that returns elements from the first iterable until\n",
    "# it is exhausted, then proceeds to the next iterable, until all of the\n",
    "# iterables are exhausted. Roughly equivalent to:\n",
    "#\n",
    "def chain(*iterables):\n",
    "    # chain('ABC', 'DEF') --> A B C D E F\n",
    "    for it in iterables:\n",
    "        for element in it:\n",
    "            yield element\n",
    "\n",
    "\n",
    "list(itertools.chain(\"ABC\", \"DEF\"))"
   ]
  },
  {
   "cell_type": "code",
   "execution_count": null,
   "id": "df48357d-8a7c-4654-b0d8-daece6ca4c39",
   "metadata": {},
   "outputs": [],
   "source": [
    "# -----------------------------------------------------------------------------\n",
    "# itertools.combinations(iterable, r): Return r length subsequences of elements\n",
    "# from the input iterable.\n",
    "#\n",
    "# Roughly equivalent to:\n",
    "#\n",
    "def combinations(iterable, r):\n",
    "    # combinations('ABCD', 2) --> AB AC AD BC BD CD\n",
    "    # combinations(range(4), 3) --> 012 013 023 123\n",
    "    pool = tuple(iterable)\n",
    "    n = len(pool)\n",
    "    if r > n:\n",
    "        return\n",
    "    indices = list(range(r))\n",
    "    yield tuple(pool[i] for i in indices)\n",
    "    while True:\n",
    "        for i in reversed(range(r)):\n",
    "            if indices[i] != i + n - r:\n",
    "                break\n",
    "        else:\n",
    "            return\n",
    "        indices[i] += 1\n",
    "        for j in range(i + 1, r):\n",
    "            indices[j] = indices[j - 1] + 1\n",
    "        yield tuple(pool[i] for i in indices)\n",
    "\n",
    "\n",
    "def combinations(iterable, r):\n",
    "    pool = tuple(iterable)\n",
    "    n = len(pool)\n",
    "    for indices in permutations(range(n), r):\n",
    "        if sorted(indices) == list(indices):\n",
    "            yield tuple(pool[i] for i in indices)\n",
    "\n",
    "\n",
    "list(itertools.combinations(\"ABCD\", 2))"
   ]
  },
  {
   "cell_type": "code",
   "execution_count": null,
   "id": "1c005dad-5afc-4851-9f59-10a2e8e67c59",
   "metadata": {},
   "outputs": [],
   "source": [
    "# -----------------------------------------------------------------------------\n",
    "# itertools.itertools.combinations_with_replacement(iterable, r): Return r\n",
    "# length subsequences of elements from the input iterable allowing individual\n",
    "# elements to be repeated more than once.\n",
    "# \n",
    "# Roughly equivalent to:\n",
    "#\n",
    "def combinations_with_replacement(iterable, r):\n",
    "    # combinations_with_replacement('ABC', 2) --> AA AB AC BB BC CC\n",
    "    pool = tuple(iterable)\n",
    "    n = len(pool)\n",
    "    if not n and r:\n",
    "        return\n",
    "    indices = [0] * r\n",
    "    yield tuple(pool[i] for i in indices)\n",
    "    while True:\n",
    "        for i in reversed(range(r)):\n",
    "            if indices[i] != n - 1:\n",
    "                break\n",
    "        else:\n",
    "            return\n",
    "        indices[i:] = [indices[i] + 1] * (r - i)\n",
    "        yield tuple(pool[i] for i in indices)\n",
    "\n",
    "\n",
    "list(itertools.combinations_with_replacement(\"ABC\", 2))"
   ]
  },
  {
   "cell_type": "code",
   "execution_count": null,
   "id": "42815ee5-e58a-482c-ac09-fb23e4d491a4",
   "metadata": {},
   "outputs": [],
   "source": [
    "# -----------------------------------------------------------------------------\n",
    "# itertools.compress(data, selectors): Make an iterator that filters elements\n",
    "# from data returning only those that have a corresponding element in selectors\n",
    "# that evaluates to True.\n",
    "#\n",
    "# Roughly equivalent to:\n",
    "#\n",
    "def compress(data, selectors):\n",
    "    # compress('ABCDEF', [1,0,1,0,1,1]) --> A C E F\n",
    "    return (d for d, s in zip(data, selectors) if s)\n",
    "\n",
    "\n",
    "list(itertools.compress(\"ABCDEF\", [1, 0, 1, 0, 1, 1]))"
   ]
  },
  {
   "cell_type": "code",
   "execution_count": null,
   "id": "78221f3c-7a5b-4413-9bcb-2e1af04946f9",
   "metadata": {},
   "outputs": [],
   "source": [
    "# -----------------------------------------------------------------------------\n",
    "# itertools.cycle(iterable): Make an iterator returning elements from the\n",
    "# iterable and saving a copy of each.\n",
    "# \n",
    "# Roughly equivalent to:\n",
    "#\n",
    "def cycle(iterable):\n",
    "    # cycle('ABCD') --> A B C D A B C D A B C D ...\n",
    "    saved = []\n",
    "    for element in iterable:\n",
    "        yield element\n",
    "        saved.append(element)\n",
    "    while saved:\n",
    "        for element in saved:\n",
    "            yield element"
   ]
  },
  {
   "cell_type": "code",
   "execution_count": null,
   "id": "57155c41-adba-48aa-8c2a-0bfd51109b29",
   "metadata": {},
   "outputs": [],
   "source": [
    "# -----------------------------------------------------------------------------\n",
    "# itertools.dropwhile(predicate, iterable): Make an iterator that drops\n",
    "# elements from the iterable as long as the predicate is true; afterwards,\n",
    "# returns every element.\n",
    "# \n",
    "# Roughly equivalent to:\n",
    "#\n",
    "def dropwhile(predicate, iterable):\n",
    "    # dropwhile(lambda x: x<5, [1,4,6,4,1]) --> 6 4 1\n",
    "    iterable = iter(iterable)\n",
    "    for x in iterable:\n",
    "        if not predicate(x):\n",
    "            yield x\n",
    "            break\n",
    "    for x in iterable:\n",
    "        yield x"
   ]
  },
  {
   "cell_type": "code",
   "execution_count": null,
   "id": "e261bb43-627d-4242-89c3-06fcef3f627e",
   "metadata": {},
   "outputs": [],
   "source": [
    "# -----------------------------------------------------------------------------\n",
    "# itertools.filterfalse(predicate, iterable): Make an iterator that filters\n",
    "# elements from iterable returning only those for which the predicate is False.\n",
    "# If predicate is None, return the items that are false.\n",
    "# \n",
    "# Roughly equivalent to:\n",
    "#\n",
    "def filterfalse(predicate, iterable):\n",
    "    # filterfalse(lambda x: x%2, range(10)) --> 0 2 4 6 8\n",
    "    if predicate is None:\n",
    "        predicate = bool\n",
    "    for x in iterable:\n",
    "        if not predicate(x):\n",
    "            yield x"
   ]
  },
  {
   "cell_type": "code",
   "execution_count": null,
   "id": "86b82258-f9fb-46a7-a0f2-9fcdffd9779a",
   "metadata": {},
   "outputs": [],
   "source": [
    "# -----------------------------------------------------------------------------\n",
    "# itertools.groupby(iterable, key=None): Make an iterator that returns\n",
    "# consecutive keys and groups from the iterable.\n",
    "#\n",
    "# Roughly equivalent to:\n",
    "#\n",
    "groups = []\n",
    "uniquekeys = []\n",
    "data = sorted(data, key=keyfunc)\n",
    "for k, g in groupby(data, keyfunc):\n",
    "    groups.append(list(g))  # Store group iterator as a list\n",
    "    uniquekeys.append(k)"
   ]
  },
  {
   "cell_type": "code",
   "execution_count": null,
   "id": "9c92a675-d323-428d-b8d9-df8fdf3e86ca",
   "metadata": {},
   "outputs": [],
   "source": [
    "#\n",
    "# Roughly equivalent to:\n",
    "#\n",
    "class groupby:\n",
    "    # [k for k, g in groupby('AAAABBBCCDAABBB')] --> A B C D A B\n",
    "    # [list(g) for k, g in groupby('AAAABBBCCD')] --> AAAA BBB CC D\n",
    "    def __init__(self, iterable, key=None):\n",
    "        if key is None:\n",
    "            key = lambda x: x\n",
    "        self.keyfunc = key\n",
    "        self.it = iter(iterable)\n",
    "        self.tgtkey = self.currkey = self.currvalue = object()\n",
    "\n",
    "    def __iter__(self):\n",
    "        return self\n",
    "\n",
    "    def __next__(self):\n",
    "        self.id = object()\n",
    "        while self.currkey == self.tgtkey:\n",
    "            self.currvalue = next(self.it)  # Exit on StopIteration\n",
    "            self.currkey = self.keyfunc(self.currvalue)\n",
    "        self.tgtkey = self.currkey\n",
    "        return (self.currkey, self._grouper(self.tgtkey, self.id))\n",
    "\n",
    "    def _grouper(self, tgtkey, id):\n",
    "        while self.id is id and self.currkey == tgtkey:\n",
    "            yield self.currvalue\n",
    "            try:\n",
    "                self.currvalue = next(self.it)\n",
    "            except StopIteration:\n",
    "                return\n",
    "            self.currkey = self.keyfunc(self.currvalue)"
   ]
  },
  {
   "cell_type": "code",
   "execution_count": null,
   "id": "90a3c9ba-5351-4700-86b2-69f6526b419d",
   "metadata": {},
   "outputs": [],
   "source": [
    "# -----------------------------------------------------------------------------\n",
    "# itertools.islice(iterable, start, stop[, step]): Make an iterator that\n",
    "# returns selected elements from the iterable.\n",
    "#\n",
    "# Roughly equivalent to:\n",
    "#\n",
    "def islice(iterable, *args):\n",
    "    # islice('ABCDEFG', 2) --> A B\n",
    "    # islice('ABCDEFG', 2, 4) --> C D\n",
    "    # islice('ABCDEFG', 2, None) --> C D E F G\n",
    "    # islice('ABCDEFG', 0, None, 2) --> A C E G\n",
    "    s = slice(*args)\n",
    "    start, stop, step = s.start or 0, s.stop or sys.maxsize, s.step or 1\n",
    "    it = iter(range(start, stop, step))\n",
    "    try:\n",
    "        nexti = next(it)\n",
    "    except StopIteration:\n",
    "        # Consume *iterable* up to the *start* position.\n",
    "        for i, element in zip(range(start), iterable):\n",
    "            pass\n",
    "        return\n",
    "    try:\n",
    "        for i, element in enumerate(iterable):\n",
    "            if i == nexti:\n",
    "                yield element\n",
    "                nexti = next(it)\n",
    "    except StopIteration:\n",
    "        # Consume to *stop*.\n",
    "        for i, element in zip(range(i + 1, stop), iterable):\n",
    "            pass"
   ]
  },
  {
   "cell_type": "code",
   "execution_count": null,
   "id": "f9797cef-03da-4193-8f0a-1bd3254d4b82",
   "metadata": {},
   "outputs": [],
   "source": [
    "# -----------------------------------------------------------------------------\n",
    "# itertools.pairwise(iterable): Return successive overlapping pairs taken from\n",
    "# the input iterable. Roughly equivalent to:\n",
    "# New in version 3.10\n",
    "#\n",
    "def pairwise(iterable):\n",
    "    # pairwise('ABCDEFG') --> AB BC CD DE EF FG\n",
    "    a, b = tee(iterable)\n",
    "    next(b, None)\n",
    "    return zip(a, b)"
   ]
  },
  {
   "cell_type": "code",
   "execution_count": null,
   "id": "f09aa011-95c9-402c-8335-d00dc9e31b0f",
   "metadata": {},
   "outputs": [],
   "source": [
    "# -----------------------------------------------------------------------------\n",
    "# itertools.permutations(iterable, r=None): Return successive r length\n",
    "# permutations of elements in the iterable.\n",
    "#\n",
    "# Roughly equivalent to:\n",
    "#\n",
    "def permutations(iterable, r=None):\n",
    "    # permutations('ABCD', 2) --> AB AC AD BA BC BD CA CB CD DA DB DC\n",
    "    # permutations(range(3)) --> 012 021 102 120 201 210\n",
    "    pool = tuple(iterable)\n",
    "    n = len(pool)\n",
    "    r = n if r is None else r\n",
    "    if r > n:\n",
    "        return\n",
    "    indices = list(range(n))\n",
    "    cycles = list(range(n, n - r, -1))\n",
    "    yield tuple(pool[i] for i in indices[:r])\n",
    "    while n:\n",
    "        for i in reversed(range(r)):\n",
    "            cycles[i] -= 1\n",
    "            if cycles[i] == 0:\n",
    "                indices[i:] = indices[i + 1 :] + indices[i : i + 1]\n",
    "                cycles[i] = n - i\n",
    "            else:\n",
    "                j = cycles[i]\n",
    "                indices[i], indices[-j] = indices[-j], indices[i]\n",
    "                yield tuple(pool[i] for i in indices[:r])\n",
    "                break\n",
    "        else:\n",
    "            return"
   ]
  },
  {
   "cell_type": "code",
   "execution_count": null,
   "id": "37d4fe5e-18cd-415a-9d8b-96ef7b6b02e0",
   "metadata": {},
   "outputs": [],
   "source": [
    "def permutations(iterable, r=None):\n",
    "    pool = tuple(iterable)\n",
    "    n = len(pool)\n",
    "    r = n if r is None else r\n",
    "    for indices in product(range(n), repeat=r):\n",
    "        if len(set(indices)) == r:\n",
    "            yield tuple(pool[i] for i in indices)"
   ]
  },
  {
   "cell_type": "code",
   "execution_count": null,
   "id": "dd8eabb2-db3c-43bd-a24f-fe3e269434f9",
   "metadata": {},
   "outputs": [],
   "source": [
    "# -----------------------------------------------------------------------------\n",
    "# itertools.product(*iterables, repeat=1): Cartesian product of input\n",
    "# iterables.\n",
    "#\n",
    "# Roughly equivalent to:\n",
    "#\n",
    "def product(*args, repeat=1):\n",
    "    # product('ABCD', 'xy') --> Ax Ay Bx By Cx Cy Dx Dy\n",
    "    # product(range(2), repeat=3) --> 000 001 010 011 100 101 110 111\n",
    "    pools = [tuple(pool) for pool in args] * repeat\n",
    "    result = [[]]\n",
    "    for pool in pools:\n",
    "        result = [x + [y] for x in result for y in pool]\n",
    "    for prod in result:\n",
    "        yield tuple(prod)"
   ]
  },
  {
   "cell_type": "code",
   "execution_count": null,
   "id": "8f4a7874-0837-4646-bb46-937596bdca57",
   "metadata": {},
   "outputs": [],
   "source": [
    "# -----------------------------------------------------------------------------\n",
    "# itertools.repeat(object[, times]): Make an iterator that returns object over\n",
    "# and over again.\n",
    "#\n",
    "# Roughly equivalent to:\n",
    "#\n",
    "def repeat(object, times=None):\n",
    "    # repeat(10, 3) --> 10 10 10\n",
    "    if times is None:\n",
    "        while True:\n",
    "            yield object\n",
    "    else:\n",
    "        for i in range(times):\n",
    "            yield object"
   ]
  },
  {
   "cell_type": "code",
   "execution_count": null,
   "id": "49df3c52-ffcf-4d20-a58d-09d256f63c43",
   "metadata": {},
   "outputs": [],
   "source": [
    "# -----------------------------------------------------------------------------\n",
    "# itertools.takewhile(predicate, iterable): Make an iterator that returns\n",
    "# elements from the iterable as long as the predicate is true.\n",
    "#\n",
    "# Roughly equivalent to:\n",
    "#\n",
    "def takewhile(predicate, iterable):\n",
    "    # takewhile(lambda x: x<5, [1,4,6,4,1]) --> 1 4\n",
    "    for x in iterable:\n",
    "        if predicate(x):\n",
    "            yield x\n",
    "        else:\n",
    "            break"
   ]
  },
  {
   "cell_type": "code",
   "execution_count": null,
   "id": "1f250498-d24b-4e13-b0f4-ad55c35d8acc",
   "metadata": {},
   "outputs": [],
   "source": [
    "# -----------------------------------------------------------------------------\n",
    "# itertools.tee(iterable, n=2): Return n independent iterators from a single\n",
    "# iterable.\n",
    "#\n",
    "# Roughly equivalent to:\n",
    "#\n",
    "def tee(iterable, n=2):\n",
    "    it = iter(iterable)\n",
    "    deques = [collections.deque() for i in range(n)]\n",
    "\n",
    "    def gen(mydeque):\n",
    "        while True:\n",
    "            if not mydeque:  # when the local deque is empty\n",
    "                try:\n",
    "                    newval = next(it)  # fetch a new value and\n",
    "                except StopIteration:\n",
    "                    return\n",
    "                for d in deques:  # load it to all the deques\n",
    "                    d.append(newval)\n",
    "            yield mydeque.popleft()\n",
    "\n",
    "    return tuple(gen(d) for d in deques)"
   ]
  },
  {
   "cell_type": "code",
   "execution_count": null,
   "id": "16e22091-6e68-495c-86b2-a29f414533c8",
   "metadata": {},
   "outputs": [],
   "source": [
    "# -----------------------------------------------------------------------------\n",
    "# itertools.zip_lon gest(*iterables, fillvalue=None): Make an iterator that\n",
    "# aggregates elements from each of the iterables.\n",
    "#\n",
    "# Roughly equivalent to:\n",
    "#\n",
    "def zip_longest(*args, fillvalue=None):\n",
    "    # zip_longest('ABCD', 'xy', fillvalue='-') --> Ax By C- D-\n",
    "    iterators = [iter(it) for it in args]\n",
    "    num_active = len(iterators)\n",
    "    if not num_active:\n",
    "        return\n",
    "    while True:\n",
    "        values = []\n",
    "        for i, it in enumerate(iterators):\n",
    "            try:\n",
    "                value = next(it)\n",
    "            except StopIteration:\n",
    "                num_active -= 1\n",
    "                if not num_active:\n",
    "                    return\n",
    "                iterators[i] = repeat(fillvalue)\n",
    "                value = fillvalue\n",
    "            values.append(value)\n",
    "        yield tuple(values)"
   ]
  },
  {
   "cell_type": "markdown",
   "id": "a85f84ff-4734-4854-9234-1d99b1a20325",
   "metadata": {},
   "source": [
    "Itertools Recipces\n",
    "---"
   ]
  },
  {
   "cell_type": "markdown",
   "id": "f97dcfc8-9156-4138-b293-9223fec33626",
   "metadata": {},
   "source": [
    "```bash\n",
    "pip install more-itertools\n",
    "```"
   ]
  },
  {
   "cell_type": "code",
   "execution_count": null,
   "id": "266e38b5-7efe-4e89-b4c9-c5f429aa9a54",
   "metadata": {},
   "outputs": [],
   "source": [
    "def take(n, iterable):\n",
    "    \"Return first n items of the iterable as a list\"\n",
    "    return list(islice(iterable, n))"
   ]
  },
  {
   "cell_type": "code",
   "execution_count": null,
   "id": "1c0382e3-1806-4c35-a886-1a169559890a",
   "metadata": {},
   "outputs": [],
   "source": [
    "def prepend(value, iterator):\n",
    "    \"Prepend a single value in front of an iterator\"\n",
    "    # prepend(1, [2, 3, 4]) -> 1 2 3 4\n",
    "    return chain([value], iterator)"
   ]
  },
  {
   "cell_type": "code",
   "execution_count": null,
   "id": "d0050a86-0f58-4cc4-930a-f900b2e86f5d",
   "metadata": {},
   "outputs": [],
   "source": [
    "def tabulate(function, start=0):\n",
    "    \"Return function(0), function(1), ...\"\n",
    "    return map(function, count(start))"
   ]
  },
  {
   "cell_type": "code",
   "execution_count": null,
   "id": "9d014551-2280-4077-9cd0-64dd48dbc787",
   "metadata": {},
   "outputs": [],
   "source": [
    "def tail(n, iterable):\n",
    "    \"Return an iterator over the last n items\"\n",
    "    # tail(3, 'ABCDEFG') --> E F G\n",
    "    return iter(collections.deque(iterable, maxlen=n))"
   ]
  },
  {
   "cell_type": "code",
   "execution_count": null,
   "id": "e2bbdf97-bb14-4bd2-981b-58dcc71a4ded",
   "metadata": {},
   "outputs": [],
   "source": [
    "def consume(iterator, n=None):\n",
    "    \"Advance the iterator n-steps ahead. If n is None, consume entirely.\"\n",
    "    # Use functions that consume iterators at C speed.\n",
    "    if n is None:\n",
    "        # feed the entire iterator into a zero-length deque\n",
    "        collections.deque(iterator, maxlen=0)\n",
    "    else:\n",
    "        # advance to the empty slice starting at position n\n",
    "        next(islice(iterator, n, n), None)"
   ]
  },
  {
   "cell_type": "code",
   "execution_count": null,
   "id": "775ba95f-c27c-4600-a240-60f752bab8fb",
   "metadata": {},
   "outputs": [],
   "source": [
    "def nth(iterable, n, default=None):\n",
    "    \"Returns the nth item or a default value\"\n",
    "    return next(islice(iterable, n, None), default)"
   ]
  },
  {
   "cell_type": "code",
   "execution_count": null,
   "id": "25d9e5c9-718c-462c-b172-0dc12a41bef3",
   "metadata": {},
   "outputs": [],
   "source": [
    "def all_equal(iterable):\n",
    "    \"Returns True if all the elements are equal to each other\"\n",
    "    g = groupby(iterable)\n",
    "    return next(g, True) and not next(g, False)"
   ]
  },
  {
   "cell_type": "code",
   "execution_count": null,
   "id": "83f5a267-b048-4707-afc1-bf9c0d822474",
   "metadata": {},
   "outputs": [],
   "source": [
    "def quantify(iterable, pred=bool):\n",
    "    \"Count how many times the predicate is true\"\n",
    "    return sum(map(pred, iterable))"
   ]
  },
  {
   "cell_type": "code",
   "execution_count": null,
   "id": "d7c1b637-a752-44a6-9b21-52778add04f3",
   "metadata": {},
   "outputs": [],
   "source": [
    "def pad_none(iterable):\n",
    "    \"\"\"Returns the sequence elements and then returns None indefinitely.\n",
    "\n",
    "    Useful for emulating the behavior of the built-in map() function.\n",
    "    \"\"\"\n",
    "    return chain(iterable, repeat(None))"
   ]
  },
  {
   "cell_type": "code",
   "execution_count": null,
   "id": "e981332f-f004-453c-9476-79e70785cc16",
   "metadata": {},
   "outputs": [],
   "source": [
    "def ncycles(iterable, n):\n",
    "    \"Returns the sequence elements n times\"\n",
    "    return chain.from_iterable(repeat(tuple(iterable), n))"
   ]
  },
  {
   "cell_type": "code",
   "execution_count": null,
   "id": "76ffb6f1-0ab6-4205-8f42-845f130a1489",
   "metadata": {},
   "outputs": [],
   "source": [
    "def dotproduct(vec1, vec2):\n",
    "    return sum(map(operator.mul, vec1, vec2))"
   ]
  },
  {
   "cell_type": "code",
   "execution_count": null,
   "id": "e830e2d6-505c-41ba-b215-9c0ac1b06c2c",
   "metadata": {},
   "outputs": [],
   "source": [
    "def convolve(signal, kernel):\n",
    "    # See:  https://betterexplained.com/articles/intuitive-convolution/\n",
    "    # convolve(data, [0.25, 0.25, 0.25, 0.25]) --> Moving average (blur)\n",
    "    # convolve(data, [1, -1]) --> 1st finite difference (1st derivative)\n",
    "    # convolve(data, [1, -2, 1]) --> 2nd finite difference (2nd derivative)\n",
    "    kernel = tuple(kernel)[::-1]\n",
    "    n = len(kernel)\n",
    "    window = collections.deque([0], maxlen=n) * n\n",
    "    for x in chain(signal, repeat(0, n - 1)):\n",
    "        window.append(x)\n",
    "        yield sum(map(operator.mul, kernel, window))"
   ]
  },
  {
   "cell_type": "code",
   "execution_count": null,
   "id": "78cb28d7-6865-4b9a-97aa-bd71e2a47f29",
   "metadata": {},
   "outputs": [],
   "source": [
    "def flatten(list_of_lists):\n",
    "    \"Flatten one level of nesting\"\n",
    "    return chain.from_iterable(list_of_lists)"
   ]
  },
  {
   "cell_type": "code",
   "execution_count": null,
   "id": "3bf64241-1260-417f-b74b-8552acb8139d",
   "metadata": {},
   "outputs": [],
   "source": [
    "def repeatfunc(func, times=None, *args):\n",
    "    \"\"\"Repeat calls to func with specified arguments.\n",
    "\n",
    "    Example:  repeatfunc(random.random)\n",
    "    \"\"\"\n",
    "    if times is None:\n",
    "        return starmap(func, repeat(args))\n",
    "    return starmap(func, repeat(args, times))"
   ]
  },
  {
   "cell_type": "code",
   "execution_count": null,
   "id": "c79b34b1-60d9-4e96-b543-9897d88f3ca0",
   "metadata": {},
   "outputs": [],
   "source": [
    "def grouper(iterable, n, *, incomplete=\"fill\", fillvalue=None):\n",
    "    \"Collect data into non-overlapping fixed-length chunks or blocks\"\n",
    "    # grouper('ABCDEFG', 3, fillvalue='x') --> ABC DEF Gxx\n",
    "    # grouper('ABCDEFG', 3, incomplete='strict') --> ABC DEF ValueError\n",
    "    # grouper('ABCDEFG', 3, incomplete='ignore') --> ABC DEF\n",
    "    args = [iter(iterable)] * n\n",
    "    if incomplete == \"fill\":\n",
    "        return zip_longest(*args, fillvalue=fillvalue)\n",
    "    if incomplete == \"strict\":\n",
    "        return zip(*args, strict=True)\n",
    "    if incomplete == \"ignore\":\n",
    "        return zip(*args)\n",
    "    else:\n",
    "        raise ValueError(\"Expected fill, strict, or ignore\")"
   ]
  },
  {
   "cell_type": "code",
   "execution_count": null,
   "id": "45a8c88b-b79c-4a1d-8acb-eb40e7feaa93",
   "metadata": {},
   "outputs": [],
   "source": [
    "def triplewise(iterable):\n",
    "    \"Return overlapping triplets from an iterable\"\n",
    "    # triplewise('ABCDEFG') -> ABC BCD CDE DEF EFG\n",
    "    for (a, _), (b, c) in pairwise(pairwise(iterable)):\n",
    "        yield a, b, c"
   ]
  },
  {
   "cell_type": "code",
   "execution_count": null,
   "id": "3c225283-39d6-4ac4-8bca-284398675a90",
   "metadata": {},
   "outputs": [],
   "source": [
    "def sliding_window(iterable, n):\n",
    "    # sliding_window('ABCDEFG', 4) -> ABCD BCDE CDEF DEFG\n",
    "    it = iter(iterable)\n",
    "    window = collections.deque(islice(it, n), maxlen=n)\n",
    "    if len(window) == n:\n",
    "        yield tuple(window)\n",
    "    for x in it:\n",
    "        window.append(x)\n",
    "        yield tuple(window)"
   ]
  },
  {
   "cell_type": "code",
   "execution_count": null,
   "id": "3e0f2069-410f-4938-95dc-594510ec6228",
   "metadata": {},
   "outputs": [],
   "source": [
    "def roundrobin(*iterables):\n",
    "    \"roundrobin('ABC', 'D', 'EF') --> A D E B F C\"\n",
    "    # Recipe credited to George Sakkis\n",
    "    num_active = len(iterables)\n",
    "    nexts = cycle(iter(it).__next__ for it in iterables)\n",
    "    while num_active:\n",
    "        try:\n",
    "            for next in nexts:\n",
    "                yield next()\n",
    "        except StopIteration:\n",
    "            # Remove the iterator we just exhausted from the cycle.\n",
    "            num_active -= 1\n",
    "            nexts = cycle(islice(nexts, num_active))"
   ]
  },
  {
   "cell_type": "code",
   "execution_count": null,
   "id": "b98766ea-a0e6-456e-a945-dda0227f1959",
   "metadata": {},
   "outputs": [],
   "source": [
    "def partition(pred, iterable):\n",
    "    \"Use a predicate to partition entries into false entries and true entries\"\n",
    "    # partition(is_odd, range(10)) --> 0 2 4 6 8   and  1 3 5 7 9\n",
    "    t1, t2 = tee(iterable)\n",
    "    return filterfalse(pred, t1), filter(pred, t2)"
   ]
  },
  {
   "cell_type": "code",
   "execution_count": null,
   "id": "5873063b-03b5-4f90-9e2c-4feace25a5b9",
   "metadata": {},
   "outputs": [],
   "source": [
    "def before_and_after(predicate, it):\n",
    "    \"\"\"Variant of takewhile() that allows complete\n",
    "    access to the remainder of the iterator.\n",
    "\n",
    "    >>> it = iter('ABCdEfGhI')\n",
    "    >>> all_upper, remainder = before_and_after(str.isupper, it)\n",
    "    >>> ''.join(all_upper)\n",
    "    'ABC'\n",
    "    >>> ''.join(remainder)     # takewhile() would lose the 'd'\n",
    "    'dEfGhI'\n",
    "\n",
    "    Note that the first iterator must be fully\n",
    "    consumed before the second iterator can\n",
    "    generate valid results.\n",
    "    \"\"\"\n",
    "    it = iter(it)\n",
    "    transition = []\n",
    "\n",
    "    def true_iterator():\n",
    "        for elem in it:\n",
    "            if predicate(elem):\n",
    "                yield elem\n",
    "            else:\n",
    "                transition.append(elem)\n",
    "                return\n",
    "\n",
    "    def remainder_iterator():\n",
    "        yield from transition\n",
    "        yield from it\n",
    "\n",
    "    return true_iterator(), remainder_iterator()"
   ]
  },
  {
   "cell_type": "code",
   "execution_count": null,
   "id": "ebc6bd5b-5a3b-425a-bdb1-7a336027e5d9",
   "metadata": {},
   "outputs": [],
   "source": [
    "def subslices(seq):\n",
    "    \"Return all contiguous non-empty subslices of a sequence\"\n",
    "    # subslices('ABCD') --> A AB ABC ABCD B BC BCD C CD D\n",
    "    slices = starmap(slice, combinations(range(len(seq) + 1), 2))\n",
    "    return map(operator.getitem, repeat(seq), slices)"
   ]
  },
  {
   "cell_type": "code",
   "execution_count": null,
   "id": "a6a49450-8425-4d01-8d79-dc7f25afbb4c",
   "metadata": {},
   "outputs": [],
   "source": [
    "def powerset(iterable):\n",
    "    \"powerset([1,2,3]) --> () (1,) (2,) (3,) (1,2) (1,3) (2,3) (1,2,3)\"\n",
    "    s = list(iterable)\n",
    "    return chain.from_iterable(combinations(s, r) for r in range(len(s) + 1))"
   ]
  },
  {
   "cell_type": "code",
   "execution_count": null,
   "id": "1fac1b03-c4ac-49a6-aa9f-53301384f2ca",
   "metadata": {},
   "outputs": [],
   "source": [
    "def unique_everseen(iterable, key=None):\n",
    "    \"List unique elements, preserving order. Remember all elements ever seen.\"\n",
    "    # unique_everseen('AAAABBBCCDAABBB') --> A B C D\n",
    "    # unique_everseen('ABBCcAD', str.lower) --> A B C D\n",
    "    seen = set()\n",
    "    seen_add = seen.add\n",
    "    if key is None:\n",
    "        for element in filterfalse(seen.__contains__, iterable):\n",
    "            seen_add(element)\n",
    "            yield element\n",
    "    else:\n",
    "        for element in iterable:\n",
    "            k = key(element)\n",
    "            if k not in seen:\n",
    "                seen_add(k)\n",
    "                yield element"
   ]
  },
  {
   "cell_type": "code",
   "execution_count": null,
   "id": "aa9f5e8b-07ba-47fa-8721-50b94a5edfb5",
   "metadata": {},
   "outputs": [],
   "source": [
    "def unique_justseen(iterable, key=None):\n",
    "    \"List unique elements, preserving order. Remember only the element just seen.\"\n",
    "    # unique_justseen('AAAABBBCCDAABBB') --> A B C D A B\n",
    "    # unique_justseen('ABBCcAD', str.lower) --> A B C A D\n",
    "    return map(next, map(operator.itemgetter(1), groupby(iterable, key)))"
   ]
  },
  {
   "cell_type": "code",
   "execution_count": null,
   "id": "97a6a118-a86c-483a-a3cb-b40eb253247e",
   "metadata": {},
   "outputs": [],
   "source": [
    "def iter_except(func, exception, first=None):\n",
    "    \"\"\"Call a function repeatedly until an exception is raised.\n",
    "\n",
    "    Converts a call-until-exception interface to an iterator interface.\n",
    "    Like builtins.iter(func, sentinel) but uses an exception instead\n",
    "    of a sentinel to end the loop.\n",
    "\n",
    "    Examples:\n",
    "        iter_except(functools.partial(heappop, h), IndexError)   # priority queue iterator\n",
    "        iter_except(d.popitem, KeyError)                         # non-blocking dict iterator\n",
    "        iter_except(d.popleft, IndexError)                       # non-blocking deque iterator\n",
    "        iter_except(q.get_nowait, Queue.Empty)                   # loop over a producer Queue\n",
    "        iter_except(s.pop, KeyError)                             # non-blocking set iterator\n",
    "\n",
    "    \"\"\"\n",
    "    try:\n",
    "        if first is not None:\n",
    "            yield first()  # For database APIs needing an initial cast to db.first()\n",
    "        while True:\n",
    "            yield func()\n",
    "    except exception:\n",
    "        pass"
   ]
  },
  {
   "cell_type": "code",
   "execution_count": null,
   "id": "42956fec-f055-4bc4-8fa0-4ce4790a865f",
   "metadata": {},
   "outputs": [],
   "source": [
    "def first_true(iterable, default=False, pred=None):\n",
    "    \"\"\"Returns the first true value in the iterable.\n",
    "\n",
    "    If no true value is found, returns *default*\n",
    "\n",
    "    If *pred* is not None, returns the first item\n",
    "    for which pred(item) is true.\n",
    "\n",
    "    \"\"\"\n",
    "    # first_true([a,b,c], x) --> a or b or c or x\n",
    "    # first_true([a,b], x, f) --> a if f(a) else b if f(b) else x\n",
    "    return next(filter(pred, iterable), default)"
   ]
  },
  {
   "cell_type": "code",
   "execution_count": null,
   "id": "3d530796-e5df-458f-821b-1c91bf19ed4b",
   "metadata": {},
   "outputs": [],
   "source": [
    "def random_product(*args, repeat=1):\n",
    "    \"Random selection from itertools.product(*args, **kwds)\"\n",
    "    pools = [tuple(pool) for pool in args] * repeat\n",
    "    return tuple(map(random.choice, pools))"
   ]
  },
  {
   "cell_type": "code",
   "execution_count": null,
   "id": "f88cbbf4-d615-4b1b-bb1d-739b56b4dc27",
   "metadata": {},
   "outputs": [],
   "source": [
    "def random_permutation(iterable, r=None):\n",
    "    \"Random selection from itertools.permutations(iterable, r)\"\n",
    "    pool = tuple(iterable)\n",
    "    r = len(pool) if r is None else r\n",
    "    return tuple(random.sample(pool, r))"
   ]
  },
  {
   "cell_type": "code",
   "execution_count": null,
   "id": "c21729bd-3dea-4e00-90f8-d2bdc48a60fb",
   "metadata": {},
   "outputs": [],
   "source": [
    "def random_combination(iterable, r):\n",
    "    \"Random selection from itertools.combinations(iterable, r)\"\n",
    "    pool = tuple(iterable)\n",
    "    n = len(pool)\n",
    "    indices = sorted(random.sample(range(n), r))\n",
    "    return tuple(pool[i] for i in indices)"
   ]
  },
  {
   "cell_type": "code",
   "execution_count": null,
   "id": "a4d8490b-0b9f-4ff5-bd0e-93be94c57ec7",
   "metadata": {},
   "outputs": [],
   "source": [
    "def random_combination_with_replacement(iterable, r):\n",
    "    \"Random selection from itertools.combinations_with_replacement(iterable, r)\"\n",
    "    pool = tuple(iterable)\n",
    "    n = len(pool)\n",
    "    indices = sorted(random.choices(range(n), k=r))\n",
    "    return tuple(pool[i] for i in indices)"
   ]
  },
  {
   "cell_type": "code",
   "execution_count": null,
   "id": "313e1476-f36d-491b-92cb-0cd2f4b23506",
   "metadata": {},
   "outputs": [],
   "source": [
    "def nth_combination(iterable, r, index):\n",
    "    \"Equivalent to list(combinations(iterable, r))[index]\"\n",
    "    pool = tuple(iterable)\n",
    "    n = len(pool)\n",
    "    if r < 0 or r > n:\n",
    "        raise ValueError\n",
    "    c = 1\n",
    "    k = min(r, n - r)\n",
    "    for i in range(1, k + 1):\n",
    "        c = c * (n - k + i) // i\n",
    "    if index < 0:\n",
    "        index += c\n",
    "    if index < 0 or index >= c:\n",
    "        raise IndexError\n",
    "    result = []\n",
    "    while r:\n",
    "        c, n, r = c * r // n, n - 1, r - 1\n",
    "        while index >= c:\n",
    "            index -= c\n",
    "            c, n = c * (n - r) // n, n - 1\n",
    "        result.append(pool[-1 - n])\n",
    "    return tuple(result)"
   ]
  }
 ],
 "metadata": {
  "kernelspec": {
   "display_name": "Python 3 (ipykernel)",
   "language": "python",
   "name": "python3"
  },
  "language_info": {
   "codemirror_mode": {
    "name": "ipython",
    "version": 3
   },
   "file_extension": ".py",
   "mimetype": "text/x-python",
   "name": "python",
   "nbconvert_exporter": "python",
   "pygments_lexer": "ipython3",
   "version": "3.8.10"
  }
 },
 "nbformat": 4,
 "nbformat_minor": 5
}
