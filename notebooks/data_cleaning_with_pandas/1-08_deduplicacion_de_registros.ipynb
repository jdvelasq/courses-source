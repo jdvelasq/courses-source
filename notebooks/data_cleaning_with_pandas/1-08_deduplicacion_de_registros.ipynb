{
 "cells": [
  {
   "cell_type": "markdown",
   "id": "3dd0e577-1dff-4ddc-a983-f46fd82ca462",
   "metadata": {
    "tags": []
   },
   "source": [
    "# Deduplicación de registros\n",
    "\n",
    "* *60:00 min* | Última modificación: Agosto 11, 2021 | YouTube"
   ]
  },
  {
   "cell_type": "code",
   "execution_count": 10,
   "id": "9b81661d-e425-4f40-a6b3-1a91062f8ae2",
   "metadata": {},
   "outputs": [
    {
     "name": "stdout",
     "output_type": "stream",
     "text": [
      "Overwriting /tmp/data.csv\n"
     ]
    }
   ],
   "source": [
    "%%writefile /tmp/data.csv\n",
    "first_name,last_name,birtdate,phone\n",
    "Kayne,Taffie,2/10/1985,+86 (669) 916-2473\n",
    "Daisey S,Heisham,5/19/1990,+55 (858) 758-7630\n",
    "Clair W,Brik,10/3/1976,+351 (509) 289-3191\n",
    "Kippy L,Frome,9/18/1992,+420 (195) 491-9791\n",
    "Burgess Jr,Klimes,2/4/1977,+86 (762) 990-4484\n",
    "Dermot R,Garwill,9/27/1984,+86 (699) 948-9318\n",
    "Hadley P,Gosker,2/15/1993,+48 (457) 883-3998\n",
    "S Jackqueline,Papes,6/18/1983,+86 (784) 978-0726\n",
    "BURGESS,Klimes,2/4/1977,+86 (762) 990-4484\n",
    "Dermot,Garwill,9/27/1984,+86 (699) 948-9318\n",
    "Hadley,GOSKER,2/15/1993,+48 (457) 883-3998\n",
    "Jackqueline,Papes,6/18/1983,+86 (784) 978-0726\n",
    "Alastair,Barge,3/9/1971,+33 (182) 729-8581\n",
    "Theobald,Bastian,11/15/1987,+62 (397) 242-4366\n",
    "Pammi,Daffey,9/5/1986,+86 (761) 567-4803\n",
    "Marcus,Charlo,7/7/1974,+86 (928) 602-4540\n",
    "Burgess,KLIMES,2/4/1977,+86 (762) 990-4484\n",
    "Dermot,Garwill,9/27/1984,+86 (699) 948-9318"
   ]
  },
  {
   "cell_type": "code",
   "execution_count": 11,
   "id": "90900603-6424-49e5-81cf-b90592b8e59a",
   "metadata": {},
   "outputs": [],
   "source": [
    "import pandas as pd\n",
    "\n",
    "pd.set_option(\"display.notebook_repr_html\", False)"
   ]
  },
  {
   "cell_type": "code",
   "execution_count": 12,
   "id": "927014b9-df12-4b2f-9325-9ec5f489ade3",
   "metadata": {},
   "outputs": [
    {
     "data": {
      "text/plain": [
       "   first_name last_name   birtdate                phone\n",
       "0       Kayne    Taffie  2/10/1985   +86 (669) 916-2473\n",
       "1    Daisey S   Heisham  5/19/1990   +55 (858) 758-7630\n",
       "2     Clair W      Brik  10/3/1976  +351 (509) 289-3191\n",
       "3     Kippy L     Frome  9/18/1992  +420 (195) 491-9791\n",
       "4  Burgess Jr    Klimes   2/4/1977   +86 (762) 990-4484"
      ]
     },
     "execution_count": 12,
     "metadata": {},
     "output_type": "execute_result"
    }
   ],
   "source": [
    "df = pd.read_csv('/tmp/data.csv')\n",
    "df.head()"
   ]
  },
  {
   "cell_type": "code",
   "execution_count": 13,
   "id": "f42aaf23-013e-4ac8-b4d3-9375b666f336",
   "metadata": {},
   "outputs": [
    {
     "name": "stdout",
     "output_type": "stream",
     "text": [
      "WARNING:recordlinkage:indexing - performance warning - A full index can result in large number of record pairs.\n"
     ]
    },
    {
     "data": {
      "text/plain": [
       "MultiIndex([( 1,  0),\n",
       "            ( 2,  0),\n",
       "            ( 2,  1),\n",
       "            ( 3,  0),\n",
       "            ( 3,  1),\n",
       "            ( 3,  2),\n",
       "            ( 4,  0),\n",
       "            ( 4,  1),\n",
       "            ( 4,  2),\n",
       "            ( 4,  3),\n",
       "            ...\n",
       "            (17,  7),\n",
       "            (17,  8),\n",
       "            (17,  9),\n",
       "            (17, 10),\n",
       "            (17, 11),\n",
       "            (17, 12),\n",
       "            (17, 13),\n",
       "            (17, 14),\n",
       "            (17, 15),\n",
       "            (17, 16)],\n",
       "           length=153)"
      ]
     },
     "execution_count": 13,
     "metadata": {},
     "output_type": "execute_result"
    }
   ],
   "source": [
    "#\n",
    "# Bloking une registros que son identicos en uno\n",
    "# o mas campos\n",
    "#\n",
    "import recordlinkage\n",
    "\n",
    "indexer = recordlinkage.Index()\n",
    "indexer.full()\n",
    "candidate_links = indexer.index(df)\n",
    "candidate_links"
   ]
  },
  {
   "cell_type": "code",
   "execution_count": 25,
   "id": "336f29e7-1230-4f9c-b9e4-845d115e3697",
   "metadata": {},
   "outputs": [
    {
     "data": {
      "text/plain": [
       "     first_name  last_name\n",
       "1 0         0.0        0.0\n",
       "2 0         0.0        0.0\n",
       "  1         0.0        0.0\n",
       "3 0         0.0        0.0\n",
       "  1         0.0        0.0"
      ]
     },
     "execution_count": 25,
     "metadata": {},
     "output_type": "execute_result"
    }
   ],
   "source": [
    "#\n",
    "# Comparación de registros\n",
    "#\n",
    "compare_cl = recordlinkage.Compare()\n",
    "\n",
    "compare_cl.string(\n",
    "    \"first_name\",\n",
    "    \"first_name\",\n",
    "    method=\"levenshtein\",\n",
    "    threshold=0.50,\n",
    "    label=\"first_name\",\n",
    ")\n",
    "\n",
    "compare_cl.string(\n",
    "    \"last_name\",\n",
    "    \"last_name\",\n",
    "    method=\"levenshtein\",\n",
    "    threshold=0.50,\n",
    "    label=\"last_name\",\n",
    ")\n",
    "\n",
    "features = compare_cl.compute(candidate_links, df)\n",
    "features.head()"
   ]
  },
  {
   "cell_type": "code",
   "execution_count": 26,
   "id": "13296901-4d6b-4266-afeb-271bb62136bb",
   "metadata": {},
   "outputs": [
    {
     "data": {
      "text/plain": [
       "2.0      4\n",
       "1.0      5\n",
       "0.0    144\n",
       "dtype: int64"
      ]
     },
     "execution_count": 26,
     "metadata": {},
     "output_type": "execute_result"
    }
   ],
   "source": [
    "features.sum(axis=1).value_counts().sort_index(ascending=False)"
   ]
  },
  {
   "cell_type": "code",
   "execution_count": 32,
   "id": "6c929891-7a82-4a18-88b7-9b716890b69d",
   "metadata": {},
   "outputs": [
    {
     "data": {
      "text/plain": [
       "      first_name  last_name\n",
       "6  1         1.0        0.0\n",
       "8  4         0.0        1.0\n",
       "9  5         1.0        1.0\n",
       "10 6         1.0        0.0\n",
       "11 7         1.0        1.0\n",
       "14 0         0.0        1.0\n",
       "16 4         1.0        0.0\n",
       "17 5         1.0        1.0\n",
       "   9         1.0        1.0"
      ]
     },
     "execution_count": 32,
     "metadata": {},
     "output_type": "execute_result"
    }
   ],
   "source": [
    "potential_matches = features[features.sum(axis=1) > 0]\n",
    "potential_matches"
   ]
  },
  {
   "cell_type": "code",
   "execution_count": 33,
   "id": "3059fad0-fe7f-4a65-bf49-5b3aa7f65ca8",
   "metadata": {},
   "outputs": [
    {
     "data": {
      "text/plain": [
       "Int64Index([1, 4, 5, 6, 7, 0, 4, 5, 9], dtype='int64')"
      ]
     },
     "execution_count": 33,
     "metadata": {},
     "output_type": "execute_result"
    }
   ],
   "source": [
    "duplicate_rows = potential_matches.index.get_level_values(1)\n",
    "duplicate_rows"
   ]
  },
  {
   "cell_type": "code",
   "execution_count": 34,
   "id": "878ade84-d896-4770-be2d-97ea2a2d4363",
   "metadata": {},
   "outputs": [
    {
     "data": {
      "text/plain": [
       "     first_name last_name    birtdate                phone\n",
       "12     Alastair     Barge    3/9/1971   +33 (182) 729-8581\n",
       "8       BURGESS    Klimes    2/4/1977   +86 (762) 990-4484\n",
       "16      Burgess    KLIMES    2/4/1977   +86 (762) 990-4484\n",
       "2       Clair W      Brik   10/3/1976  +351 (509) 289-3191\n",
       "17       Dermot   Garwill   9/27/1984   +86 (699) 948-9318\n",
       "10       Hadley    GOSKER   2/15/1993   +48 (457) 883-3998\n",
       "11  Jackqueline     Papes   6/18/1983   +86 (784) 978-0726\n",
       "3       Kippy L     Frome   9/18/1992  +420 (195) 491-9791\n",
       "15       Marcus    Charlo    7/7/1974   +86 (928) 602-4540\n",
       "14        Pammi    Daffey    9/5/1986   +86 (761) 567-4803\n",
       "13     Theobald   Bastian  11/15/1987   +62 (397) 242-4366"
      ]
     },
     "execution_count": 34,
     "metadata": {},
     "output_type": "execute_result"
    }
   ],
   "source": [
    "df[~df.index.isin(duplicate_rows)].sort_values('first_name')"
   ]
  },
  {
   "cell_type": "code",
   "execution_count": null,
   "id": "cf91d557-5374-4152-8d1a-b5957f4e6867",
   "metadata": {},
   "outputs": [],
   "source": []
  }
 ],
 "metadata": {
  "kernelspec": {
   "display_name": "Python 3",
   "language": "python",
   "name": "python3"
  },
  "language_info": {
   "codemirror_mode": {
    "name": "ipython",
    "version": 3
   },
   "file_extension": ".py",
   "mimetype": "text/x-python",
   "name": "python",
   "nbconvert_exporter": "python",
   "pygments_lexer": "ipython3",
   "version": "3.6.9"
  }
 },
 "nbformat": 4,
 "nbformat_minor": 5
}
