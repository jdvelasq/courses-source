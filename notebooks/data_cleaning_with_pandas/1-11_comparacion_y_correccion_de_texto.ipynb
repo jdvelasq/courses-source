{
 "cells": [
  {
   "cell_type": "markdown",
   "id": "7b79a962-5269-4047-8479-cebcebfed651",
   "metadata": {
    "tags": []
   },
   "source": [
    "# Comparación y corrección de texto\n",
    "\n",
    "* *60:00 min* | Última modificación: Agosto 11, 2021 | YouTube"
   ]
  },
  {
   "cell_type": "code",
   "execution_count": 3,
   "id": "f441ea56-b489-4509-a2c3-71fd3a6b9eac",
   "metadata": {},
   "outputs": [
    {
     "name": "stdout",
     "output_type": "stream",
     "text": [
      "\u001b[33mWARNING: Running pip as the 'root' user can result in broken permissions and conflicting behaviour with the system package manager. It is recommended to use a virtual environment instead: https://pip.pypa.io/warnings/venv\u001b[0m\n"
     ]
    }
   ],
   "source": [
    "!pip3 install --quiet fuzzywuzzy python-Levenshtein"
   ]
  },
  {
   "cell_type": "code",
   "execution_count": 12,
   "id": "ab58aef9-8aa4-4c76-8d7c-e749248b6ecb",
   "metadata": {},
   "outputs": [],
   "source": [
    "import pandas as pd\n",
    "from fuzzywuzzy import fuzz, process\n",
    "\n",
    "pd.set_option(\"display.notebook_repr_html\", False)"
   ]
  },
  {
   "cell_type": "markdown",
   "id": "c30cc9e0-7e98-4d37-8a80-d67affab3025",
   "metadata": {},
   "source": [
    "## Comparación de cadenas de texto"
   ]
  },
  {
   "cell_type": "code",
   "execution_count": 13,
   "id": "db0a38e0-a0b6-41fb-a8b1-72e625a55d52",
   "metadata": {},
   "outputs": [
    {
     "data": {
      "text/plain": [
       "100"
      ]
     },
     "metadata": {},
     "output_type": "display_data"
    },
    {
     "data": {
      "text/plain": [
       "100"
      ]
     },
     "metadata": {},
     "output_type": "display_data"
    },
    {
     "data": {
      "text/plain": [
       "100"
      ]
     },
     "metadata": {},
     "output_type": "display_data"
    },
    {
     "data": {
      "text/plain": [
       "100"
      ]
     },
     "metadata": {},
     "output_type": "display_data"
    }
   ],
   "source": [
    "#\n",
    "# Comparación de strings\n",
    "#\n",
    "display(\n",
    "    fuzz.WRatio('hola mundo', 'hola mundo'),\n",
    "    fuzz.WRatio('hola mundo', 'Hola mundo'),\n",
    "    fuzz.WRatio('hola mundo', 'Hola Mundo'),\n",
    "    fuzz.WRatio('hola mundo', 'hola mundo!')\n",
    ")"
   ]
  },
  {
   "cell_type": "code",
   "execution_count": 14,
   "id": "62a18f42-0516-4890-a5f2-2a78323ed0e4",
   "metadata": {},
   "outputs": [
    {
     "data": {
      "text/plain": [
       "100"
      ]
     },
     "metadata": {},
     "output_type": "display_data"
    },
    {
     "data": {
      "text/plain": [
       "100"
      ]
     },
     "metadata": {},
     "output_type": "display_data"
    },
    {
     "data": {
      "text/plain": [
       "95"
      ]
     },
     "metadata": {},
     "output_type": "display_data"
    },
    {
     "data": {
      "text/plain": [
       "91"
      ]
     },
     "metadata": {},
     "output_type": "display_data"
    },
    {
     "data": {
      "text/plain": [
       "87"
      ]
     },
     "metadata": {},
     "output_type": "display_data"
    },
    {
     "data": {
      "text/plain": [
       "90"
      ]
     },
     "metadata": {},
     "output_type": "display_data"
    },
    {
     "data": {
      "text/plain": [
       "90"
      ]
     },
     "metadata": {},
     "output_type": "display_data"
    }
   ],
   "source": [
    "#\n",
    "# Comparación de strings\n",
    "#\n",
    "display(\n",
    "    fuzz.WRatio('hola mundo!', 'hola mundo'),\n",
    "    fuzz.WRatio('hola mundo', 'Hola mundo!'),\n",
    "    fuzz.WRatio('hola mundo', 'Hola mundoo'),\n",
    "    fuzz.WRatio('hola mundo', 'hola mundooo'),\n",
    "    fuzz.WRatio('hola mundo', 'hola mundoooo'),\n",
    "    fuzz.WRatio('hola mundo', 'hola'),\n",
    "    fuzz.WRatio('hola', 'hola mundo')\n",
    ")"
   ]
  },
  {
   "cell_type": "code",
   "execution_count": 15,
   "id": "83c5fe09-66c5-430f-832b-ad24d45b133f",
   "metadata": {},
   "outputs": [
    {
     "data": {
      "text/plain": [
       "[('Hola mundo', 100, 0),\n",
       " ('mundo', 90, 1),\n",
       " ('Hola', 90, 2),\n",
       " ('Hola mundo cruel!', 90, 3)]"
      ]
     },
     "execution_count": 15,
     "metadata": {},
     "output_type": "execute_result"
    }
   ],
   "source": [
    "#\n",
    "# Comparación con arrays\n",
    "#\n",
    "base_string = \"hola mundo\"\n",
    "array = pd.Series(\n",
    "    [\n",
    "        \"Hola mundo\",\n",
    "        \"mundo\",\n",
    "        \"Hola\",\n",
    "        \"Hola mundo cruel!\",\n",
    "    ]\n",
    ")\n",
    "\n",
    "\n",
    "process.extract(\n",
    "    base_string,\n",
    "    array,\n",
    ")"
   ]
  },
  {
   "cell_type": "markdown",
   "id": "6307e6a3-e757-49c8-ac7a-c61e3cbfa593",
   "metadata": {},
   "source": [
    "## Corrección y unificación básica cuando se conoce la clave"
   ]
  },
  {
   "cell_type": "code",
   "execution_count": 16,
   "id": "b9cbb74c-8aed-49f6-a6ed-500d8ac70d82",
   "metadata": {},
   "outputs": [
    {
     "name": "stdout",
     "output_type": "stream",
     "text": [
      "Overwriting /tmp/data.csv\n"
     ]
    }
   ],
   "source": [
    "%%writefile /tmp/data.csv\n",
    "ciudad\n",
    "Medellin\n",
    "Bogota\n",
    "bogota\n",
    "bogote\n",
    "Mdellin\n",
    "medellin\n",
    "Cali\n",
    "cali\n",
    "CALI"
   ]
  },
  {
   "cell_type": "code",
   "execution_count": 17,
   "id": "5f72d021-6480-4442-aad8-ceea02c1886c",
   "metadata": {},
   "outputs": [
    {
     "data": {
      "text/plain": [
       "     ciudad\n",
       "0  Medellin\n",
       "1    Bogota\n",
       "2    bogota\n",
       "3    bogote\n",
       "4   Mdellin\n",
       "5  medellin\n",
       "6      Cali\n",
       "7      cali\n",
       "8      CALI"
      ]
     },
     "execution_count": 17,
     "metadata": {},
     "output_type": "execute_result"
    }
   ],
   "source": [
    "df = pd.read_csv('/tmp/data.csv')\n",
    "df"
   ]
  },
  {
   "cell_type": "code",
   "execution_count": 18,
   "id": "c2db133d-19cd-42f5-bd1f-b0887c386209",
   "metadata": {},
   "outputs": [
    {
     "data": {
      "text/plain": [
       "     ciudad   ciudad_\n",
       "0  Medellin  Medellin\n",
       "1    Bogota    Bogota\n",
       "2    bogota    Bogota\n",
       "3    bogote    Bogota\n",
       "4   Mdellin  Medellin\n",
       "5  medellin  Medellin\n",
       "6      Cali      Cali\n",
       "7      cali      Cali\n",
       "8      CALI      Cali"
      ]
     },
     "execution_count": 18,
     "metadata": {},
     "output_type": "execute_result"
    }
   ],
   "source": [
    "#\n",
    "# Nombres validos\n",
    "#\n",
    "valid_names = [\"Medellin\", \"Bogota\", \"Cali\"]\n",
    "df[\"ciudad_\"] = df.ciudad.copy()\n",
    "\n",
    "#\n",
    "# Valor mínimo de similitud para hacer el cambio\n",
    "#\n",
    "min_threshold = 80\n",
    "\n",
    "#\n",
    "# Estructuta básica\n",
    "#\n",
    "for valid_name in valid_names:\n",
    "\n",
    "    potential_matches = process.extract(\n",
    "        valid_name,\n",
    "        df.ciudad,\n",
    "        limit=df.shape[0],\n",
    "    )\n",
    "\n",
    "    for potential_match in potential_matches:\n",
    "\n",
    "        if potential_match[1] >= min_threshold:\n",
    "\n",
    "            df.loc[df.ciudad == potential_match[0], \"ciudad_\"] = valid_name\n",
    "\n",
    "df"
   ]
  },
  {
   "cell_type": "code",
   "execution_count": null,
   "id": "33b3b977-b93f-4805-b755-c1a91930a845",
   "metadata": {},
   "outputs": [],
   "source": []
  }
 ],
 "metadata": {
  "kernelspec": {
   "display_name": "Python 3",
   "language": "python",
   "name": "python3"
  },
  "language_info": {
   "codemirror_mode": {
    "name": "ipython",
    "version": 3
   },
   "file_extension": ".py",
   "mimetype": "text/x-python",
   "name": "python",
   "nbconvert_exporter": "python",
   "pygments_lexer": "ipython3",
   "version": "3.6.9"
  }
 },
 "nbformat": 4,
 "nbformat_minor": 5
}
