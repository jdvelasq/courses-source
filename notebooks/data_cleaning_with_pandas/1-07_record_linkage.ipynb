{
 "cells": [
  {
   "cell_type": "markdown",
   "id": "8749a23f-5da7-4c14-bc44-eccb70f5afc3",
   "metadata": {
    "tags": []
   },
   "source": [
    "Vinculación de registros (record linkage)\n",
    "===\n",
    "\n",
    "* 0:00 min | Última modificación: Octubre 06, 2021 | YouTube"
   ]
  },
  {
   "cell_type": "markdown",
   "id": "f60a88f0-3e69-4179-a46e-5a5da3b8fcd7",
   "metadata": {},
   "source": [
    "Se usa cuando no hay campos clave por los cuales se pueda hacer un join."
   ]
  },
  {
   "cell_type": "code",
   "execution_count": null,
   "id": "f8542912-bbfa-4679-824c-fd6e567498b8",
   "metadata": {},
   "outputs": [],
   "source": [
    "!pip3 install --quiet recordlinkage"
   ]
  },
  {
   "cell_type": "code",
   "execution_count": 1,
   "id": "4a1a242a-ad0e-4689-844b-223740dcad38",
   "metadata": {},
   "outputs": [],
   "source": [
    "import pandas as pd\n",
    "\n",
    "pd.set_option(\"display.notebook_repr_html\", False)"
   ]
  },
  {
   "cell_type": "markdown",
   "id": "71d7f87c-303c-4bc7-89a1-6ffcc16a9c6d",
   "metadata": {},
   "source": [
    "Datos\n",
    "---"
   ]
  },
  {
   "cell_type": "markdown",
   "id": "877bf0bf-3dba-4a58-a4c6-fdaba51b57cb",
   "metadata": {},
   "source": [
    "El primer conjunto de datos no contiene registros duplicados."
   ]
  },
  {
   "cell_type": "code",
   "execution_count": 53,
   "id": "9256a117-2333-41b7-b56c-5dc58f2c83a6",
   "metadata": {},
   "outputs": [
    {
     "name": "stdout",
     "output_type": "stream",
     "text": [
      "Overwriting /tmp/dfA.csv\n"
     ]
    }
   ],
   "source": [
    "%%writefile /tmp/dfA.csv\n",
    "first_name,last_name,birtdate,phone\n",
    "Kayne M,Taffie,2/10/1985,+86 (669) 916-2473\n",
    "Daisey S,Heisham,5/19/1990,+55 (858) 758-7630\n",
    "Clair W,Brik,10/3/1976,+351 (509) 289-3191\n",
    "Kippy L,Frome,9/18/1992,+420 (195) 491-9791\n",
    "Burgess Jr,Klimes,2/4/1977,+86 (762) 990-4484\n",
    "Dermot R,Garwill,9/27/1984,+86 (699) 948-9318\n",
    "Hadley P,Gosker,2/15/1993,+48 (457) 883-3998\n",
    "S Jackqueline,Papes,6/18/1983,+86 (784) 978-0726"
   ]
  },
  {
   "cell_type": "markdown",
   "id": "4ebe33ac-f4fa-467f-ba19-54a293991238",
   "metadata": {},
   "source": [
    "El segundo conjunto de datos contiene registros duplicados del primero."
   ]
  },
  {
   "cell_type": "code",
   "execution_count": 54,
   "id": "7b12fced-cf28-4ba4-8ed1-de6e8832fb1b",
   "metadata": {},
   "outputs": [
    {
     "name": "stdout",
     "output_type": "stream",
     "text": [
      "Overwriting /tmp/dfB.csv\n"
     ]
    }
   ],
   "source": [
    "%%writefile /tmp/dfB.csv\n",
    "first_name,last_name,birtdate,phone\n",
    "BURGESS,Klimes,2/4/1977,+86 (762) 990-4484\n",
    "Dermot,Garwill,9/27/1984,+86 (699) 948-9318\n",
    "Hadley,GOSKER,2/15/1993,+48 (457) 883-3998\n",
    "Jackqueline,Papes,6/18/1983,+86 (784) 978-0726\n",
    "Alastair,Barge,3/9/1971,+33 (182) 729-8581\n",
    "Theobald,Bastian,11/15/1987,+62 (397) 242-4366\n",
    "Pammi,Daffey,9/5/1986,+86 (761) 567-4803\n",
    "Marcus,Charlo,7/7/1974,+86 (928) 602-4540\n",
    "Burgess,KLIMES,2/4/1977,+86 (762) 990-4484\n",
    "Dermot,Garwill,9/27/1984,+86 (699) 948-9318"
   ]
  },
  {
   "cell_type": "code",
   "execution_count": 55,
   "id": "48a182da-624d-40f8-b607-a5efcd03c10a",
   "metadata": {},
   "outputs": [
    {
     "data": {
      "text/plain": [
       "      first_name last_name   birtdate                phone\n",
       "0        Kayne M    Taffie  2/10/1985   +86 (669) 916-2473\n",
       "1       Daisey S   Heisham  5/19/1990   +55 (858) 758-7630\n",
       "2        Clair W      Brik  10/3/1976  +351 (509) 289-3191\n",
       "3        Kippy L     Frome  9/18/1992  +420 (195) 491-9791\n",
       "4     Burgess Jr    Klimes   2/4/1977   +86 (762) 990-4484\n",
       "5       Dermot R   Garwill  9/27/1984   +86 (699) 948-9318\n",
       "6       Hadley P    Gosker  2/15/1993   +48 (457) 883-3998\n",
       "7  S Jackqueline     Papes  6/18/1983   +86 (784) 978-0726"
      ]
     },
     "metadata": {},
     "output_type": "display_data"
    },
    {
     "data": {
      "text/plain": [
       "'------------------------------------------------------------'"
      ]
     },
     "metadata": {},
     "output_type": "display_data"
    },
    {
     "data": {
      "text/plain": [
       "    first_name last_name    birtdate               phone\n",
       "0      BURGESS    Klimes    2/4/1977  +86 (762) 990-4484\n",
       "1       Dermot   Garwill   9/27/1984  +86 (699) 948-9318\n",
       "2       Hadley    GOSKER   2/15/1993  +48 (457) 883-3998\n",
       "3  Jackqueline     Papes   6/18/1983  +86 (784) 978-0726\n",
       "4     Alastair     Barge    3/9/1971  +33 (182) 729-8581\n",
       "5     Theobald   Bastian  11/15/1987  +62 (397) 242-4366\n",
       "6        Pammi    Daffey    9/5/1986  +86 (761) 567-4803\n",
       "7       Marcus    Charlo    7/7/1974  +86 (928) 602-4540\n",
       "8      Burgess    KLIMES    2/4/1977  +86 (762) 990-4484\n",
       "9       Dermot   Garwill   9/27/1984  +86 (699) 948-9318"
      ]
     },
     "metadata": {},
     "output_type": "display_data"
    }
   ],
   "source": [
    "dfA = pd.read_csv('/tmp/dfA.csv')\n",
    "dfB = pd.read_csv('/tmp/dfB.csv')\n",
    "\n",
    "display(\n",
    "    dfA,\n",
    "    '-' * 60,\n",
    "    dfB\n",
    ")"
   ]
  },
  {
   "cell_type": "markdown",
   "id": "7579ca64-53ee-4aea-94aa-9ca2a91c8926",
   "metadata": {},
   "source": [
    "Data Cleaning\n",
    "---"
   ]
  },
  {
   "cell_type": "code",
   "execution_count": 68,
   "id": "5d1bdbb7-48e5-40b9-8e33-9898ca8fbca6",
   "metadata": {},
   "outputs": [
    {
     "data": {
      "text/plain": [
       "      first_name last_name   birtdate           phone\n",
       "0        kayne m    taffie  2/10/1985   +866699162473\n",
       "1       daisey s   heisham  5/19/1990   +558587587630\n",
       "2        clair w      brik  10/3/1976  +3515092893191\n",
       "3        kippy l     frome  9/18/1992  +4201954919791\n",
       "4     burgess jr    klimes   2/4/1977   +867629904484\n",
       "5       dermot r   garwill  9/27/1984   +866999489318\n",
       "6       hadley p    gosker  2/15/1993   +484578833998\n",
       "7  s jackqueline     papes  6/18/1983   +867849780726"
      ]
     },
     "metadata": {},
     "output_type": "display_data"
    },
    {
     "data": {
      "text/plain": [
       "'------------------------------------------------------------'"
      ]
     },
     "metadata": {},
     "output_type": "display_data"
    },
    {
     "data": {
      "text/plain": [
       "    first_name last_name    birtdate          phone\n",
       "0      burgess    klimes    2/4/1977  +867629904484\n",
       "1       dermot   garwill   9/27/1984  +866999489318\n",
       "2       hadley    gosker   2/15/1993  +484578833998\n",
       "3  jackqueline     papes   6/18/1983  +867849780726\n",
       "4     alastair     barge    3/9/1971  +331827298581\n",
       "5     theobald   bastian  11/15/1987  +623972424366\n",
       "6        pammi    daffey    9/5/1986  +867615674803\n",
       "7       marcus    charlo    7/7/1974  +869286024540\n",
       "8      burgess    klimes    2/4/1977  +867629904484\n",
       "9       dermot   garwill   9/27/1984  +866999489318"
      ]
     },
     "metadata": {},
     "output_type": "display_data"
    }
   ],
   "source": [
    "from recordlinkage.preprocessing import clean, phonenumbers\n",
    "\n",
    "dfA.first_name = clean(dfA.first_name)\n",
    "dfB.first_name = clean(dfB.first_name)\n",
    "\n",
    "dfA.last_name = clean(dfA.last_name)\n",
    "dfB.last_name = clean(dfB.last_name)\n",
    "\n",
    "dfA.phone = phonenumbers(dfA.phone)\n",
    "dfB.phone = phonenumbers(dfB.phone)\n",
    "\n",
    "display(\n",
    "    dfA,\n",
    "    '-' * 60,\n",
    "    dfB\n",
    ")"
   ]
  },
  {
   "cell_type": "code",
   "execution_count": null,
   "id": "080bd54a-9c1a-452c-a6ac-d759813848a9",
   "metadata": {},
   "outputs": [],
   "source": []
  },
  {
   "cell_type": "code",
   "execution_count": 56,
   "id": "60b4d6ae-ee5a-485b-9d2d-0db2f243c512",
   "metadata": {},
   "outputs": [
    {
     "name": "stdout",
     "output_type": "stream",
     "text": [
      "WARNING:recordlinkage:indexing - performance warning - A full index can result in large number of record pairs.\n"
     ]
    },
    {
     "data": {
      "text/plain": [
       "(MultiIndex([(0, 0),\n",
       "             (0, 1),\n",
       "             (0, 2),\n",
       "             (0, 3),\n",
       "             (0, 4)],\n",
       "            ),\n",
       " MultiIndex([(7, 5),\n",
       "             (7, 6),\n",
       "             (7, 7),\n",
       "             (7, 8),\n",
       "             (7, 9)],\n",
       "            ))"
      ]
     },
     "execution_count": 56,
     "metadata": {},
     "output_type": "execute_result"
    }
   ],
   "source": [
    "#\n",
    "# Creacion de pares de registros usando full()\n",
    "# ===============================================\n",
    "# Crea pares dfA x dfB y retorna el indice\n",
    "#\n",
    "import recordlinkage\n",
    "\n",
    "indexer = recordlinkage.Index()\n",
    "indexer.full()\n",
    "pairs = indexer.index(dfA, dfB)\n",
    "pairs[:5], pairs[-5:]"
   ]
  },
  {
   "cell_type": "code",
   "execution_count": 57,
   "id": "736d5f79-8933-4823-b4e7-30dc14561f89",
   "metadata": {},
   "outputs": [
    {
     "data": {
      "text/plain": [
       "MultiIndex([(4, 0),\n",
       "            (5, 1),\n",
       "            (5, 9),\n",
       "            (7, 3)],\n",
       "           )"
      ]
     },
     "execution_count": 57,
     "metadata": {},
     "output_type": "execute_result"
    }
   ],
   "source": [
    "#\n",
    "# Formación de pares por atributos iguales.\n",
    "#\n",
    "indexer = recordlinkage.Index()\n",
    "indexer.block('last_name')\n",
    "candidate_links = indexer.index(dfA, dfB)\n",
    "candidate_links"
   ]
  },
  {
   "cell_type": "code",
   "execution_count": 58,
   "id": "c69fff72-64bd-4334-a3d1-1b5ee1f11555",
   "metadata": {},
   "outputs": [
    {
     "data": {
      "text/plain": [
       "     last_name  first_name\n",
       "4 0          1         0.0\n",
       "5 1          1         1.0\n",
       "  9          1         1.0\n",
       "7 3          1         1.0"
      ]
     },
     "execution_count": 58,
     "metadata": {},
     "output_type": "execute_result"
    }
   ],
   "source": [
    "#\n",
    "# Comparación de registros\n",
    "#\n",
    "compare_cl = recordlinkage.Compare()\n",
    "\n",
    "compare_cl.exact(\n",
    "    \"last_name\",\n",
    "    \"last_name\",\n",
    "    label=\"last_name\",\n",
    ")\n",
    "\n",
    "compare_cl.string(\n",
    "    \"first_name\",\n",
    "    \"first_name\",\n",
    "    method=\"jarowinkler\",\n",
    "    threshold=0.85,\n",
    "    label=\"first_name\",\n",
    ")\n",
    "\n",
    "features = compare_cl.compute(candidate_links, dfA, dfB)\n",
    "features"
   ]
  },
  {
   "cell_type": "code",
   "execution_count": 59,
   "id": "e06aed5b-41ca-4938-9033-5f17ecfaa40f",
   "metadata": {},
   "outputs": [
    {
     "data": {
      "text/plain": [
       "2.0    3\n",
       "1.0    1\n",
       "dtype: int64"
      ]
     },
     "execution_count": 59,
     "metadata": {},
     "output_type": "execute_result"
    }
   ],
   "source": [
    "features.sum(axis=1).value_counts().sort_index(ascending=False)"
   ]
  },
  {
   "cell_type": "code",
   "execution_count": 60,
   "id": "03a650de-f738-4b1d-a9c2-cc772468bf2c",
   "metadata": {},
   "outputs": [
    {
     "data": {
      "text/plain": [
       "     last_name  first_name\n",
       "4 0          1         0.0\n",
       "5 1          1         1.0\n",
       "  9          1         1.0\n",
       "7 3          1         1.0"
      ]
     },
     "execution_count": 60,
     "metadata": {},
     "output_type": "execute_result"
    }
   ],
   "source": [
    "#\n",
    "# Se puede establecer un minimo para considerar\n",
    "# que un grupo de registros son el mismo.\n",
    "#\n",
    "potential_matches = features[features.sum(axis=1) >= 1]\n",
    "potential_matches"
   ]
  },
  {
   "cell_type": "code",
   "execution_count": 61,
   "id": "f1f3e387-adbc-4900-8031-bc97d781891a",
   "metadata": {},
   "outputs": [
    {
     "data": {
      "text/plain": [
       "MultiIndex([(4, 0),\n",
       "            (5, 1),\n",
       "            (5, 9),\n",
       "            (7, 3)],\n",
       "           )"
      ]
     },
     "execution_count": 61,
     "metadata": {},
     "output_type": "execute_result"
    }
   ],
   "source": [
    "#\n",
    "# Indices obtenidos\n",
    "potential_matches.index"
   ]
  },
  {
   "cell_type": "code",
   "execution_count": 62,
   "id": "fb8a8900-42a2-4564-bd56-b56199a42e28",
   "metadata": {},
   "outputs": [
    {
     "data": {
      "text/plain": [
       "Int64Index([0, 1, 9, 3], dtype='int64')"
      ]
     },
     "execution_count": 62,
     "metadata": {},
     "output_type": "execute_result"
    }
   ],
   "source": [
    "#\n",
    "# Indices de los registros duplicados en el \n",
    "# segundo dataframe\n",
    "#\n",
    "duplicate_rows = potential_matches.index.get_level_values(1)\n",
    "duplicate_rows"
   ]
  },
  {
   "cell_type": "code",
   "execution_count": 63,
   "id": "00d205b3-e9ea-41bd-883e-aac6018d7014",
   "metadata": {},
   "outputs": [
    {
     "data": {
      "text/plain": [
       "    first_name last_name   birtdate               phone\n",
       "0      BURGESS    Klimes   2/4/1977  +86 (762) 990-4484\n",
       "1       Dermot   Garwill  9/27/1984  +86 (699) 948-9318\n",
       "3  Jackqueline     Papes  6/18/1983  +86 (784) 978-0726\n",
       "9       Dermot   Garwill  9/27/1984  +86 (699) 948-9318"
      ]
     },
     "execution_count": 63,
     "metadata": {},
     "output_type": "execute_result"
    }
   ],
   "source": [
    "#\n",
    "# Registros duplicados en dfB\n",
    "#\n",
    "dfB[dfB.index.isin(duplicate_rows)]"
   ]
  },
  {
   "cell_type": "code",
   "execution_count": 64,
   "id": "f537d27b-e7f8-4834-a62f-709223a8b366",
   "metadata": {},
   "outputs": [
    {
     "data": {
      "text/plain": [
       "  first_name last_name    birtdate               phone\n",
       "2     Hadley    GOSKER   2/15/1993  +48 (457) 883-3998\n",
       "4   Alastair     Barge    3/9/1971  +33 (182) 729-8581\n",
       "5   Theobald   Bastian  11/15/1987  +62 (397) 242-4366\n",
       "6      Pammi    Daffey    9/5/1986  +86 (761) 567-4803\n",
       "7     Marcus    Charlo    7/7/1974  +86 (928) 602-4540\n",
       "8    Burgess    KLIMES    2/4/1977  +86 (762) 990-4484"
      ]
     },
     "execution_count": 64,
     "metadata": {},
     "output_type": "execute_result"
    }
   ],
   "source": [
    "#\n",
    "# Registros no duplicados en dfB\n",
    "#\n",
    "dfB_new = dfB[~dfB.index.isin(duplicate_rows)]\n",
    "dfB_new"
   ]
  },
  {
   "cell_type": "code",
   "execution_count": 67,
   "id": "5d78e7f0-28c9-4f12-8d2b-1360b9405336",
   "metadata": {},
   "outputs": [
    {
     "data": {
      "text/plain": [
       "      birtdate     first_name last_name                phone\n",
       "2    10/3/1976        Clair W      Brik  +351 (509) 289-3191\n",
       "10  11/15/1987       Theobald   Bastian   +62 (397) 242-4366\n",
       "0    2/10/1985        Kayne M    Taffie   +86 (669) 916-2473\n",
       "6    2/15/1993       Hadley P    Gosker   +48 (457) 883-3998\n",
       "8    2/15/1993         Hadley    GOSKER   +48 (457) 883-3998\n",
       "4     2/4/1977     Burgess Jr    Klimes   +86 (762) 990-4484\n",
       "13    2/4/1977        Burgess    KLIMES   +86 (762) 990-4484\n",
       "9     3/9/1971       Alastair     Barge   +33 (182) 729-8581\n",
       "1    5/19/1990       Daisey S   Heisham   +55 (858) 758-7630\n",
       "7    6/18/1983  S Jackqueline     Papes   +86 (784) 978-0726\n",
       "12    7/7/1974         Marcus    Charlo   +86 (928) 602-4540\n",
       "3    9/18/1992        Kippy L     Frome  +420 (195) 491-9791\n",
       "5    9/27/1984       Dermot R   Garwill   +86 (699) 948-9318\n",
       "11    9/5/1986          Pammi    Daffey   +86 (761) 567-4803"
      ]
     },
     "execution_count": 67,
     "metadata": {},
     "output_type": "execute_result"
    }
   ],
   "source": [
    "#\n",
    "# Concatenación de dfA y dfB\n",
    "#\n",
    "dfA_new = dfA.append(dfB_new, ignore_index=True, sort=True)\n",
    "dfA_new.sort_values('birtdate')"
   ]
  }
 ],
 "metadata": {
  "kernelspec": {
   "display_name": "Python 3",
   "language": "python",
   "name": "python3"
  },
  "language_info": {
   "codemirror_mode": {
    "name": "ipython",
    "version": 3
   },
   "file_extension": ".py",
   "mimetype": "text/x-python",
   "name": "python",
   "nbconvert_exporter": "python",
   "pygments_lexer": "ipython3",
   "version": "3.6.9"
  }
 },
 "nbformat": 4,
 "nbformat_minor": 5
}
