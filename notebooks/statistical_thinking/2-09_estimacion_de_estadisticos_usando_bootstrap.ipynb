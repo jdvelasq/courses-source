{
 "cells": [
  {
   "cell_type": "markdown",
   "metadata": {
    "slideshow": {
     "slide_type": "slide"
    }
   },
   "source": [
    "Estimación de estadísticos usando bootstrap --- 24:53 min\n",
    "===\n",
    "\n",
    "* 24:53 min | Ultima modificación: Marzo 31, 2021 | [YouTube](https://youtu.be/2MAtBtICESw)"
   ]
  },
  {
   "cell_type": "markdown",
   "metadata": {},
   "source": [
    "La estimación de la distribución de probabilidades (y sus propiedades) de un estadístico suele ser dificil debido a que solo unos pocos estadísticos siguen una distribución de probabilidades conocida. El bootstrap es un método numérico para realizar está estimación a partir de una muestra de datos. Uno de sus usos más importantes es la estimación del error promedio de pronóstico en modelos predictivos comúnmente usados en analítica."
   ]
  },
  {
   "cell_type": "markdown",
   "metadata": {},
   "source": [
    "## Descripción del problema"
   ]
  },
  {
   "cell_type": "markdown",
   "metadata": {},
   "source": [
    "Se tiene la siguiente muestra de datos, obtenida de un experimento. Se desea estimar la media de la población. "
   ]
  },
  {
   "cell_type": "code",
   "execution_count": 1,
   "metadata": {},
   "outputs": [],
   "source": [
    "x = [0.09, 0.15, 0.18, 0.16, 0.23, 0.35, 0.49, 0.68, 0.71, 0.85, 0.96, 0.98, 0.27]"
   ]
  },
  {
   "cell_type": "markdown",
   "metadata": {},
   "source": [
    "## Conceptos básicos"
   ]
  },
  {
   "cell_type": "markdown",
   "metadata": {},
   "source": [
    "A continuación se presentan las principales definiciones asociadas al concepto de bootstrap."
   ]
  },
  {
   "cell_type": "markdown",
   "metadata": {},
   "source": [
    "![assets/pob-muestra.jpg](assets/pob-muestra.jpg)"
   ]
  },
  {
   "cell_type": "markdown",
   "metadata": {},
   "source": [
    "**Población**: Colección de objetos o individuos sobre los cuales se desea obtener información de interés.\n",
    "\n",
    "**Muestra**: Grupo obtenido aleatoriamente que es representativo de la población.\n",
    "\n",
    "**Parámetro**: Un valor que resume una propiedad o característica de la población entera. \n",
    "\n",
    "**Muestreo sin reemplazo**: Cuando una observación es seleccionada ya no está disponible en adelante. \n",
    "\n",
    "**Muestreo con reemplazo**: Cada observación es devuelta a la población después de ser seleccionada.\n",
    "\n",
    "**Muestreo aleatorio**: Muestreo de elementos de forma aleatoria tal que cada miembro de la población tiene igual probabilidad de ser seleccionado.\n",
    "\n",
    "**Muestreo estratificado**: División de la población en estratos y muestreo aleatorio de cada estrato.\n",
    "\n",
    "**Muestra aleatoria simple**: Muestra que resulta de muestrear la población sin estratificar.\n",
    "\n",
    "**Muestra sesgada**: Muestra que no representa la población.\n",
    "\n",
    "**Sesgo estadístico**: Errores de muestreo o medición que son sistemáticos y producidos por la medición o el muestreo mismo.\n",
    "\n",
    "**Estadístico**: Un número que resume una propiedad o característica de la muestra. \n",
    "\n",
    "**Estadístico muestral**: Una métrica calculada para una muestra de datos obtenida de forma aleatoria de la población.\n",
    "\n",
    "**Distribución muestral**: Es la distribución de probabilidad de un estadístico muestral calculado sobre muchas muestras o remuestreos.\n",
    "\n",
    "**Error estándar**: Es la desviación estándar del estadístico muestral sobre muchas muestras.\n",
    "\n"
   ]
  },
  {
   "cell_type": "markdown",
   "metadata": {},
   "source": [
    "\n",
    "Para estimar el valor de un parámetro de la población mediante un estadístico calculado sobre la muestra, se deben tener en cuenta alguna de las dos siguientes opciones: \n",
    "\n",
    "* Pruebas de hipótesis (se caracterizaron en el módulo de análisis exploratorio).\n",
    "\n",
    "* Estimación de intervalos de confianza."
   ]
  },
  {
   "cell_type": "markdown",
   "metadata": {},
   "source": [
    "El problema abordado aquí radica en que el estadístico calculado (la media de la muestra) es una aproximación al parámetro real de la población (la media de la población); si se obtienen diferentes muestras de datos, y se calcula el estadístico de interés, se obtendrán distintos valores (distintas medias); entonces, la pregunta es cómo aproximar la media de la población a partir de la muestra de datos. Esta es la utilidad del bootstrapping. "
   ]
  },
  {
   "cell_type": "markdown",
   "metadata": {},
   "source": [
    "## Bootstrapping"
   ]
  },
  {
   "cell_type": "markdown",
   "metadata": {},
   "source": [
    "El bootstrap se usa cuando no es posible derivar ecuaciones que permitan aproximar la distribución de probabilidades de un estadístico. El bootstrap se basa en el remuestreo de los datos para poder obtener una muestra del estadístico que se está calculado. \n",
    "\n",
    "Suponga que tiene una muestra de ocho ejemplos:\n",
    "\n",
    "$$\\{x_1, x_2, x_3, x_4, x_5, x_6, x_7, x_8\\}$$\n",
    "\n",
    "Una muestra bootstap se obtiene de la muestra original, seleccionando ocho elementos de forma aleatoria con reemplazo. Por ejemplo, una muestra bootstrap podría ser:\n",
    "\n",
    "$$\\{x_1, x_2, x_2, x_2, x_4, x_1, x_7, x_7\\}$$\n",
    "\n",
    "Nóte que los elementos pueden repetirse. Sobre cada muestra bootstrap obtenida, se realiza el proceso de cómputo y se obtiene el estadístico de interés. Si este procedimiento se repite, por ejemplo, 500 veces para calcular el estadístico de interés, se tendrían 500 valores posibles de éste. Así, una estimación mucho mejor del valor del estadístico, sería calcular su valor promedio a partir de la muestra de 500 valores. Más aún, podría calcularse el histograma o la distribución de probabilidades de dicho estadístico, lo cual es mucho más informativo."
   ]
  },
  {
   "cell_type": "markdown",
   "metadata": {},
   "source": [
    "## Algoritmo bootstrap no paramétrico"
   ]
  },
  {
   "cell_type": "markdown",
   "metadata": {},
   "source": [
    "* Se tiene la muestra $x=\\{x_i; 1,...,n\\}$, que en ese caso es $\\{x_1, x_2, x_3, x_4, x_5, x_6, x_7, x_8\\}$ con $n=8$.\n",
    "\n",
    "\n",
    "* Se seleccionan $B$ muestras bootstrap independientes $x^{*1}, ..., x^{*B}$ cada una de $n$ elementos obtenidos de la muestra original. Por ejemplo:\n",
    "$$\n",
    "\\begin{split} \\\\\n",
    "x^{*1} & = \\{x_1, x_2, x_2, x_2, x_4, x_1, x_7, x_7\\} \\\\ \\\\\n",
    "x^{*2} & = \\{x_4, x_1, x_2, x_4, x_8, x_3, x_1, x_1\\} \\\\ \\\\\n",
    "x^{*3} & = \\{x_7, x_7, x_1, x_3, x_6, x_1, x_4, x_8\\} \n",
    "\\end{split}\n",
    "$$\n",
    "y así sucesivamente.\n",
    "\n",
    "\n",
    "\n",
    "* Para cada muestra bootstap se calcula el estadístico de interes: $\\theta(b) = t(x^{*b})$. Es decir:\n",
    "$$\n",
    "\\begin{split} \\\\\n",
    "\\theta(1) & = t(x^{*1}) = t(\\{x_1, x_2, x_2, x_2, x_4, x_1, x_7, x_7\\}) \\\\ \\\\\n",
    "\\theta(2) & = t(x^{*2}) = t(\\{x_4, x_1, x_2, x_4, x_8, x_3, x_1, x_1\\}) \\\\ \\\\\n",
    "\\theta(3) & = t(x^{*3}) = t(\\{x_7, x_7, x_1, x_3, x_6, x_1, x_4, x_8\\}) \n",
    "\\end{split}\n",
    "$$\n",
    "y así sucesivamente.\n",
    "\n",
    "\n",
    "\n",
    "* La muestra $\\theta(1), ..., \\theta(B)$ representa la distribución de probabilidades de $\\theta$ y puede calcularsele valor esperado, desviación estándar, etc. El valor buscado sería:\n",
    "\n",
    "$$\\bar{\\theta}(\\bullet) = \\frac{1}{B} \\sum_{b=1}^B \\theta (b)$$"
   ]
  },
  {
   "cell_type": "markdown",
   "metadata": {},
   "source": [
    "* El error estándar se puede calcular como:\n",
    "\n",
    "$$\\text{se}_B = \\left\\{\n",
    "\\frac{1}{B-1} \\sum_{b=1}^B \\left[\\theta(b) - \\bar{\\theta}(\\bullet) \\right]^2\n",
    "\\right\\}^{(1/2)}$$\n",
    "\n"
   ]
  },
  {
   "cell_type": "markdown",
   "metadata": {},
   "source": [
    "## Cómputo en Python"
   ]
  },
  {
   "cell_type": "markdown",
   "metadata": {},
   "source": [
    "A continuación se presenta la solución del problema usando Python."
   ]
  },
  {
   "cell_type": "code",
   "execution_count": 2,
   "metadata": {},
   "outputs": [],
   "source": [
    "import warnings\n",
    "warnings.filterwarnings(\"ignore\")\n",
    "\n",
    "import numpy as np\n",
    "import seaborn as sns\n",
    "from scipy import stats\n",
    "import matplotlib.pyplot as plt\n",
    "from sklearn.utils import resample"
   ]
  },
  {
   "cell_type": "code",
   "execution_count": 3,
   "metadata": {},
   "outputs": [
    {
     "data": {
      "text/plain": [
       "[0.98, 0.23, 0.71, 0.98, 0.15, 0.09, 0.18, 0.35, 0.98, 0.35, 0.16, 0.09, 0.85]"
      ]
     },
     "execution_count": 3,
     "metadata": {},
     "output_type": "execute_result"
    }
   ],
   "source": [
    "#\n",
    "# La función resample permite hacer un muestreo con reemplazo.\n",
    "#\n",
    "boot = resample(\n",
    "    x,  # muestra\n",
    "    replace=True,  # reemplazo?\n",
    "    n_samples=len(x),  # longitud de la nueva muestra\n",
    "    random_state=None,\n",
    ")  # generador de aleatorios\n",
    "\n",
    "boot"
   ]
  },
  {
   "cell_type": "code",
   "execution_count": 4,
   "metadata": {},
   "outputs": [
    {
     "data": {
      "text/plain": [
       "[[0.35,\n",
       "  0.18,\n",
       "  0.18,\n",
       "  0.68,\n",
       "  0.71,\n",
       "  0.49,\n",
       "  0.15,\n",
       "  0.49,\n",
       "  0.09,\n",
       "  0.18,\n",
       "  0.16,\n",
       "  0.09,\n",
       "  0.23],\n",
       " [0.27,\n",
       "  0.35,\n",
       "  0.68,\n",
       "  0.18,\n",
       "  0.16,\n",
       "  0.49,\n",
       "  0.23,\n",
       "  0.98,\n",
       "  0.35,\n",
       "  0.23,\n",
       "  0.96,\n",
       "  0.49,\n",
       "  0.09]]"
      ]
     },
     "execution_count": 4,
     "metadata": {},
     "output_type": "execute_result"
    }
   ],
   "source": [
    "##\n",
    "## Se generan 500 muestras bootstrap\n",
    "##\n",
    "sample = [resample(x, replace=True, n_samples=len(x)) for _ in range(500)]\n",
    "sample[0:2]"
   ]
  },
  {
   "cell_type": "code",
   "execution_count": 5,
   "metadata": {},
   "outputs": [
    {
     "data": {
      "text/plain": [
       "[0.30615384615384617,\n",
       " 0.42,\n",
       " 0.5015384615384616,\n",
       " 0.38384615384615384,\n",
       " 0.3253846153846153]"
      ]
     },
     "execution_count": 5,
     "metadata": {},
     "output_type": "execute_result"
    }
   ],
   "source": [
    "#\n",
    "# Se computa la media para cada muestra bootstrap\n",
    "#\n",
    "stat = [np.mean(s) for s in sample]\n",
    "stat[0:5]"
   ]
  },
  {
   "cell_type": "code",
   "execution_count": 6,
   "metadata": {},
   "outputs": [
    {
     "data": {
      "text/plain": [
       "0.46413846153846156"
      ]
     },
     "execution_count": 6,
     "metadata": {},
     "output_type": "execute_result"
    }
   ],
   "source": [
    "#\n",
    "# Estimado de la media de la población\n",
    "#\n",
    "np.mean(stat)"
   ]
  },
  {
   "cell_type": "code",
   "execution_count": 7,
   "metadata": {},
   "outputs": [
    {
     "data": {
      "image/png": "[encoded data removed]",
      "text/plain": [
       "<Figure size 432x288 with 1 Axes>"
      ]
     },
     "metadata": {},
     "output_type": "display_data"
    }
   ],
   "source": [
    "#\n",
    "# Histograma de las medias calculadas\n",
    "#\n",
    "sns.set(color_codes=True)\n",
    "sns.distplot(stat, rug=True)\n",
    "plt.show()"
   ]
  },
  {
   "cell_type": "code",
   "execution_count": 8,
   "metadata": {},
   "outputs": [
    {
     "data": {
      "text/plain": [
       "0.08591046529577916"
      ]
     },
     "execution_count": 8,
     "metadata": {},
     "output_type": "execute_result"
    }
   ],
   "source": [
    "#\n",
    "# Error estándar (desviación estándar) para\n",
    "# el valor computado de la media\n",
    "#\n",
    "np.std(stat)"
   ]
  },
  {
   "cell_type": "markdown",
   "metadata": {},
   "source": [
    "## Distribución de probabilidades del estadístico boostrap"
   ]
  },
  {
   "cell_type": "markdown",
   "metadata": {},
   "source": [
    "Se obtiene aplicando el teorema del Límite Central."
   ]
  },
  {
   "cell_type": "markdown",
   "metadata": {},
   "source": [
    "Si $s_1$, ..., $s_n$ es una muestra aleatoria donde las observaciones $s_i$ son independientes e identicamente distribuidas de una distribución con media $\\mu$ y varianza finita $\\sigma^2$, entonces:\n",
    "\n",
    "$$\\bar{s} = \\frac{1}{n} \\sum_{i=1}^n s_i$$\n",
    "\n",
    "sigue una distribución normal con media $\\mu$ y varianza $(\\sigma_{\\bar{s}})^2 = \\sigma^2 / n$.\n",
    "\n",
    "Note que no se hace ningún supuesto sobre la distribución que siguen las observaciones $s_i$"
   ]
  },
  {
   "cell_type": "markdown",
   "metadata": {},
   "source": [
    "En este caso,  $s_i = \\theta(i)$, lo que quiere decir que $ \\theta(i)$ sigue una distribución normal $N(\\mu, \\sigma)$ con:\n",
    "\n",
    "$$\n",
    "\\begin{split}\n",
    "\\mu & = \\bar{\\theta}(\\bullet) \\\\ \\\\\n",
    "    & = \\frac{1}{B} \\sum_{b=1}^B \\theta (b)\n",
    "\\end{split}\n",
    "$$\n",
    "\n",
    "y\n",
    "\n",
    "$$\n",
    "\\begin{split}\n",
    "\\sigma \n",
    "    & = \\text{se}_B \\\\ \\\\\n",
    "    & = \\left\\{\\frac{1}{B-1} \\sum_{b=1}^B \\left[\\theta(b) - \\bar{\\theta}(\\bullet) \\right]^2 \\right\\}^{(1/2)}\n",
    "\\end{split}\n",
    "$$"
   ]
  },
  {
   "cell_type": "code",
   "execution_count": 9,
   "metadata": {},
   "outputs": [
    {
     "data": {
      "image/png": "[encoded data removed]",
      "text/plain": [
       "<Figure size 432x288 with 1 Axes>"
      ]
     },
     "metadata": {},
     "output_type": "display_data"
    }
   ],
   "source": [
    "#\n",
    "# Distribución normal teórica\n",
    "#\n",
    "sns.set(color_codes=True)\n",
    "sns.distplot(stat, rug=True, fit=stats.norm)\n",
    "plt.show()"
   ]
  },
  {
   "cell_type": "code",
   "execution_count": 10,
   "metadata": {},
   "outputs": [
    {
     "data": {
      "text/plain": [
       "[0.29231753094690327, 0.6359593921300198]"
      ]
     },
     "execution_count": 10,
     "metadata": {},
     "output_type": "execute_result"
    }
   ],
   "source": [
    "#\n",
    "# Intervalos de confianza para +/- 2 sigma\n",
    "# aprox el 95% de confianza\n",
    "#\n",
    "[np.mean(stat) - 2 * np.std(stat), np.mean(stat) + 2 * np.std(stat)]"
   ]
  },
  {
   "cell_type": "markdown",
   "metadata": {},
   "source": [
    "## Jacknife"
   ]
  },
  {
   "cell_type": "markdown",
   "metadata": {},
   "source": [
    "Se obtiene al dejar un solo elemento fuera de la muestra de datos.\n",
    "\n",
    "\n",
    "* Se tiene la muestra $x=\\{x_i; 1,...,n\\}$, que en ese caso es $\\{x_1, x_2, x_3, x_4, x_5, x_6, x_7, x_8\\}$ con $n=8$.\n",
    "\n",
    "\n",
    "\n",
    "* Se obtienen $n$ muestras jackknife $x_{(i)}$, $i=1, ...,n$, donde:\n",
    "$$\n",
    "\\begin{split} \\\\\n",
    "x_{(i)} & = (x_1, \\; x_2, \\; ..., \\; x_{i-1}, \\; x_{i+1}, \\; ..., \\; x_n)\n",
    "\\end{split}\n",
    "$$\n",
    "Es decir:\n",
    "$$\n",
    "\\begin{split} \\\\\n",
    "x_{(1)} & = (x_2, \\; x_3, \\; x_4, \\; ..., \\; x_{7}, \\; x_{8}) \\\\ \\\\\n",
    "x_{(2)} & = (x_1, \\; x_3, \\; x_4, \\; ..., \\; x_{7}, \\; x_{8}) \\\\ \\\\\n",
    "x_{(3)} & = (x_1, \\; x_2, \\; x_4, \\; ..., \\; x_{7}, \\; x_{8}) \\\\ \\\\\n",
    "... \\\\ \\\\\n",
    "x_{(8)} & = (x_1, \\; x_2, \\; x_3, \\; ..., \\; x_{6}, \\; x_{7}) \\\\ \\\\\n",
    "\\end{split}\n",
    "$$\n",
    "\n",
    "\n",
    "\n",
    "\n",
    "\n",
    "* Se calcula el estadístico para la muestra jackknife:\n",
    "$$\n",
    "\\begin{split}\n",
    "\\theta_{(i)} = t(x_{(i)}) \\\\\n",
    "\\end{split}\n",
    "$$\n",
    "que para la muestra actual es:\n",
    "$$\n",
    "\\begin{split}\n",
    "\\theta_{(1)} & = t(x_{(1)}) \\\\ \\\\\n",
    "\\theta_{(2)} & = t(x_{(2)}) \\\\ \\\\\n",
    "... \\\\ \\\\\n",
    "\\theta_{(8)} & = t(x_{(8)}) \\\\ \\\\\n",
    "\\end{split}\n",
    "$$\n",
    "\n",
    "\n",
    "\n",
    "\n",
    "* El error estándar se obtiene como:\n",
    "\n",
    "$$\\text{se}_{\\text{jack}} = \\left\\{\n",
    "\\frac{n-1}{n} \\sum_{i=1}^n \\left[   \\theta_{(i)} - \\theta_{(\\bullet)}  \\right]^2\n",
    "\\right\\}^{1/2}$$\n",
    "\n",
    "$$\n",
    "\\bar{\\theta}(\\bullet) = \\frac{1}{n} \\sum_{i=1}^n \\theta_{(i)}$$"
   ]
  },
  {
   "cell_type": "markdown",
   "metadata": {},
   "source": [
    "**Actividad.---** Estime la media de la población usando Jacknife."
   ]
  }
 ],
 "metadata": {
  "kernel_info": {
   "name": "python3"
  },
  "kernelspec": {
   "display_name": "Python 3",
   "language": "python",
   "name": "python3"
  },
  "language_info": {
   "codemirror_mode": {
    "name": "ipython",
    "version": 3
   },
   "file_extension": ".py",
   "mimetype": "text/x-python",
   "name": "python",
   "nbconvert_exporter": "python",
   "pygments_lexer": "ipython3",
   "version": "3.6.9"
  },
  "nteract": {
   "version": "0.7.1"
  },
  "varInspector": {
   "cols": {
    "lenName": 16,
    "lenType": 16,
    "lenVar": 40
   },
   "kernels_config": {
    "python": {
     "delete_cmd_postfix": "",
     "delete_cmd_prefix": "del ",
     "library": "var_list.py",
     "varRefreshCmd": "print(var_dic_list())"
    },
    "r": {
     "delete_cmd_postfix": ") ",
     "delete_cmd_prefix": "rm(",
     "library": "var_list.r",
     "varRefreshCmd": "cat(var_dic_list()) "
    }
   },
   "types_to_exclude": [
    "module",
    "function",
    "builtin_function_or_method",
    "instance",
    "_Feature"
   ],
   "window_display": false
  }
 },
 "nbformat": 4,
 "nbformat_minor": 4
}
