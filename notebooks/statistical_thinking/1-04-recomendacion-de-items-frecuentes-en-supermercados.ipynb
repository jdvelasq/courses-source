{
 "cells": [
  {
   "cell_type": "markdown",
   "metadata": {},
   "source": [
    "Recomendación de items frecuentes en supermercados usando Apriori --- 8:50 min\n",
    "===\n",
    "\n",
    "* 8:50 min | Ultima modificación: Junio 22, 2019 | [YouTube](https://youtu.be/tOWDtDoHht8)"
   ]
  },
  {
   "cell_type": "markdown",
   "metadata": {},
   "source": [
    "En este ejemplo se desarrolla un sistema de reglas de asociación usando el algoritmo Apriori para realizar recomendaciones a clientes a partir de su compra actual. "
   ]
  },
  {
   "cell_type": "markdown",
   "metadata": {},
   "source": [
    "## Descripción del problema"
   ]
  },
  {
   "cell_type": "markdown",
   "metadata": {},
   "source": [
    "Una cadena de supermercados desea construir un sistema de recomendación para su página web que sugiera a un comprador otros productos que podrían interesarle dependiendo de la búsqueda o la selección de productos que haya realizado en el momento de realizar la selección."
   ]
  },
  {
   "cell_type": "markdown",
   "metadata": {},
   "source": [
    "Se tiene una base de datos de 9835 transacciones recolectadas de forma continua durante 12 días para un supermercado relativamente pequeño. Para hacer este problema manejable no se tuvieron en cuenta las posibles marcas de un mismo producto ni los distintos tipos de presentaciones. De esta forma, se tienen registros de 169 tipos de productos como `chicken`, `frozen meals`, `margarine`, etc. El objetivo en términos de los datos consiste en determinar los grupos de productos que se compran frecuentemente juntos con el fin de que cuando un cliente seleccione uno o más items de un determinado grupo, los restantes elementos le sean sugeridos automáticamente por el sistema.  "
   ]
  },
  {
   "cell_type": "markdown",
   "metadata": {},
   "source": [
    "## Preparación"
   ]
  },
  {
   "cell_type": "code",
   "execution_count": 1,
   "metadata": {},
   "outputs": [],
   "source": [
    "##\n",
    "## Preparación. Se utiliza el paquete rpy2 \n",
    "## para ejecutar código R dentro de Python.\n",
    "##\n",
    "%load_ext rpy2.ipython"
   ]
  },
  {
   "cell_type": "code",
   "execution_count": 2,
   "metadata": {},
   "outputs": [],
   "source": [
    "%%sh\n",
    "PACK=arules\n",
    "if /usr/bin/test ! -d /usr/local/lib/R/site-library/$PACK; \n",
    "then    \n",
    "    sudo Rscript -e 'install.packages(\"'$PACK'\")'\n",
    "fi"
   ]
  },
  {
   "cell_type": "code",
   "execution_count": 3,
   "metadata": {},
   "outputs": [
    {
     "name": "stderr",
     "output_type": "stream",
     "text": [
      "R[write to console]: Loading required package: Matrix\n",
      "\n",
      "R[write to console]: \n",
      "Attaching package: ‘arules’\n",
      "\n",
      "\n",
      "R[write to console]: The following objects are masked from ‘package:base’:\n",
      "\n",
      "    abbreviate, write\n",
      "\n",
      "\n"
     ]
    }
   ],
   "source": [
    "%%R\n",
    "##\n",
    "## Carga de los datos\n",
    "##\n",
    "library(arules)"
   ]
  },
  {
   "cell_type": "markdown",
   "metadata": {},
   "source": [
    "## Lectura de datos"
   ]
  },
  {
   "cell_type": "code",
   "execution_count": 4,
   "metadata": {
    "collapsed": true,
    "jupyter": {
     "outputs_hidden": true
    }
   },
   "outputs": [],
   "source": [
    "%%R\n",
    "groceries <- read.transactions(\n",
    "    \"https://raw.githubusercontent.com/jdvelasq/datalabs/master/datasets/groceries.csv\", \n",
    "    sep = \",\"\n",
    ")"
   ]
  },
  {
   "cell_type": "markdown",
   "metadata": {},
   "source": [
    "El archivo anterior contiene una transacción por fila, y los items comprados por transacción aparecen separados por coma:\n",
    "\n",
    "    citrus fruit,semi-finished bread,margarine,ready soups \n",
    "    tropical fruit,yogurt,coffee\n",
    "    whole milk\n",
    "    pip fruit,yogurt,cream cheese ,meat spreads\n",
    "    other vegetables,whole milk,condensed milk,long life bakery product\n",
    "    whole milk,butter,yogurt,rice,abrasive cleaner\n",
    "    rolls/buns\n",
    "    other vegetables,UHT-milk,rolls/buns,bottled beer,liquor (appetizer)\n",
    "    pot plants\n",
    "    whole milk,cereals\n",
    "    \n",
    "Una de las dificultades para manejar esta información es que cada fila puede contener un número diferente de elementos por lo que no es posible usar directamente un data.frame y se utiliza una matriz esparcida. "
   ]
  },
  {
   "cell_type": "markdown",
   "metadata": {},
   "source": [
    "## Análisis exploratorio"
   ]
  },
  {
   "cell_type": "code",
   "execution_count": 5,
   "metadata": {},
   "outputs": [
    {
     "name": "stdout",
     "output_type": "stream",
     "text": [
      "transactions as itemMatrix in sparse format with\n",
      " 9835 rows (elements/itemsets/transactions) and\n",
      " 169 columns (items) and a density of 0.02609146 \n",
      "\n",
      "most frequent items:\n",
      "      whole milk other vegetables       rolls/buns             soda \n",
      "            2513             1903             1809             1715 \n",
      "          yogurt          (Other) \n",
      "            1372            34055 \n",
      "\n",
      "element (itemset/transaction) length distribution:\n",
      "sizes\n",
      "   1    2    3    4    5    6    7    8    9   10   11   12   13   14   15   16 \n",
      "2159 1643 1299 1005  855  645  545  438  350  246  182  117   78   77   55   46 \n",
      "  17   18   19   20   21   22   23   24   26   27   28   29   32 \n",
      "  29   14   14    9   11    4    6    1    1    1    1    3    1 \n",
      "\n",
      "   Min. 1st Qu.  Median    Mean 3rd Qu.    Max. \n",
      "  1.000   2.000   3.000   4.409   6.000  32.000 \n",
      "\n",
      "includes extended item information - examples:\n",
      "            labels\n",
      "1 abrasive cleaner\n",
      "2 artif. sweetener\n",
      "3   baby cosmetics\n"
     ]
    }
   ],
   "source": [
    "%%R\n",
    "##\n",
    "## Se obtiene la información más relevante de los datos. Los \n",
    "## resultados indican lo siguiente:\n",
    "##\n",
    "##   * Hay 9.835 transacciones con 169 items (ok!)\n",
    "##\n",
    "##   * Los productos más vendidos son:\n",
    "##     \n",
    "##       producto          transacciones en \n",
    "##                         las que aparece\n",
    "##       ------------------------------------\n",
    "##       whole milk        2.513\n",
    "##       other vegetables  1.903\n",
    "##       ...\n",
    "##\n",
    "##  * Hay 2.159 transacciones con 1 ítem, 1.643 con 2 ítems, ...,\n",
    "##    hay una sola transacción con 32 ítems\n",
    "##\n",
    "##\n",
    "summary(groceries)"
   ]
  },
  {
   "cell_type": "markdown",
   "metadata": {},
   "source": [
    "La segunda parte de la tabla anterior indica la cantidad de transacciones que tienen un solo item, luego dos y así sucesivamente.\n",
    " \n",
    "    element (itemset/transaction) length distribution:\n",
    "    sizes\n",
    "       1    2    3    4    5    6    7    8    9   10   11   12   13   14   15   16 \n",
    "    2159 1643 1299 1005  855  645  545  438  350  246  182  117   78   77   55   46 \n",
    "\n",
    "      17   18   19   20   21   22   23   24   26   27   28   29   32 \n",
    "      29   14   14    9   11    4    6    1    1    1    1    3    1 \n",
    "\n",
    "Esta misma tabla indica que hay una transacción en que se compraron 32 items."
   ]
  },
  {
   "cell_type": "code",
   "execution_count": 6,
   "metadata": {},
   "outputs": [
    {
     "name": "stdout",
     "output_type": "stream",
     "text": [
      "    items                     \n",
      "[1] {citrus fruit,            \n",
      "     margarine,               \n",
      "     ready soups,             \n",
      "     semi-finished bread}     \n",
      "[2] {coffee,                  \n",
      "     tropical fruit,          \n",
      "     yogurt}                  \n",
      "[3] {whole milk}              \n",
      "[4] {cream cheese,            \n",
      "     meat spreads,            \n",
      "     pip fruit,               \n",
      "     yogurt}                  \n",
      "[5] {condensed milk,          \n",
      "     long life bakery product,\n",
      "     other vegetables,        \n",
      "     whole milk}              \n"
     ]
    }
   ],
   "source": [
    "%%R\n",
    "##\n",
    "## Se visualizan los items comprados en las primeras\n",
    "## cinco transacciones (filas del archivo)\n",
    "##\n",
    "inspect(groceries[1:5])"
   ]
  },
  {
   "cell_type": "code",
   "execution_count": 7,
   "metadata": {},
   "outputs": [
    {
     "name": "stdout",
     "output_type": "stream",
     "text": [
      "abrasive cleaner artif. sweetener   baby cosmetics \n",
      "    0.0035587189     0.0032536858     0.0006100661 \n"
     ]
    }
   ],
   "source": [
    "%%R\n",
    "##\n",
    "## Se imprime la frequencia con que se compraron los primeros \n",
    "## tres items (note que esta organizado alfabeticamente)\n",
    "##\n",
    "itemFrequency(groceries[, 1:3])"
   ]
  },
  {
   "cell_type": "code",
   "execution_count": 8,
   "metadata": {},
   "outputs": [
    {
     "data": {
      "image/png": "[encoded data removed]"
     },
     "metadata": {},
     "output_type": "display_data"
    }
   ],
   "source": [
    "%%R\n",
    "##\n",
    "## Se grafica un histograma que muestra la frecuencia\n",
    "## con que se compraron ciertos items. El parámetro\n",
    "## `support`  corresponde a la frecuencia mínima que\n",
    "## deben tener un item para que sea incluído en la gráfica.\n",
    "## En este caso un item debe aparecer en 0.1 * 9385 = 938.5\n",
    "## transacciones para ser tenido en cuenta.\n",
    "##\n",
    "itemFrequencyPlot(groceries, support = 0.1)"
   ]
  },
  {
   "cell_type": "code",
   "execution_count": 9,
   "metadata": {},
   "outputs": [
    {
     "data": {
      "image/png": "[encoded data removed]"
     },
     "metadata": {},
     "output_type": "display_data"
    }
   ],
   "source": [
    "%%R\n",
    "##\n",
    "## Se obtiene la misma gráfica anterior pero para los \n",
    "## 20 items más comprados.\n",
    "##\n",
    "itemFrequencyPlot(groceries, topN = 20)"
   ]
  },
  {
   "cell_type": "code",
   "execution_count": 10,
   "metadata": {},
   "outputs": [
    {
     "data": {
      "image/png": "[encoded data removed]"
     },
     "metadata": {},
     "output_type": "display_data"
    }
   ],
   "source": [
    "%%R\n",
    "##\n",
    "## Se puede visualizar la matriz de items\n",
    "## y transacciones para una muestra aleatoria.\n",
    "## Una linea vertical muestra items que podrían ser \n",
    "## comprados en cada transacción\n",
    "##\n",
    "image(sample(groceries, 100))"
   ]
  },
  {
   "cell_type": "markdown",
   "metadata": {},
   "source": [
    "## Construcción del modelo"
   ]
  },
  {
   "cell_type": "code",
   "execution_count": 11,
   "metadata": {},
   "outputs": [
    {
     "name": "stdout",
     "output_type": "stream",
     "text": [
      "Apriori\n",
      "\n",
      "Parameter specification:\n",
      " confidence minval smax arem  aval originalSupport maxtime support minlen\n",
      "        0.8    0.1    1 none FALSE            TRUE       5     0.1      1\n",
      " maxlen target   ext\n",
      "     10  rules FALSE\n",
      "\n",
      "Algorithmic control:\n",
      " filter tree heap memopt load sort verbose\n",
      "    0.1 TRUE TRUE  FALSE TRUE    2    TRUE\n",
      "\n",
      "Absolute minimum support count: 983 \n",
      "\n",
      "set item appearances ...[0 item(s)] done [0.00s].\n",
      "set transactions ...[169 item(s), 9835 transaction(s)] done [0.01s].\n",
      "sorting and recoding items ... [8 item(s)] done [0.00s].\n",
      "creating transaction tree ... done [0.00s].\n",
      "checking subsets of size 1 2 done [0.00s].\n",
      "writing ... [0 rule(s)] done [0.00s].\n",
      "creating S4 object  ... done [0.00s].\n",
      "set of 0 rules \n"
     ]
    }
   ],
   "source": [
    "%%R\n",
    "##\n",
    "## La corrida con los parámetros por defecto de la\n",
    "## función no generan reglas para los datos suministrados.\n",
    "## El valor por defecto de support es 0.1, es decir,\n",
    "## un item debe aparecer en un mínimo de 938.5 transacciones\n",
    "## para ser considerado\n",
    "##\n",
    "apriori(groceries)"
   ]
  },
  {
   "cell_type": "code",
   "execution_count": 12,
   "metadata": {},
   "outputs": [
    {
     "name": "stdout",
     "output_type": "stream",
     "text": [
      "Apriori\n",
      "\n",
      "Parameter specification:\n",
      " confidence minval smax arem  aval originalSupport maxtime support minlen\n",
      "       0.25    0.1    1 none FALSE            TRUE       5   0.006      2\n",
      " maxlen target   ext\n",
      "     10  rules FALSE\n",
      "\n",
      "Algorithmic control:\n",
      " filter tree heap memopt load sort verbose\n",
      "    0.1 TRUE TRUE  FALSE TRUE    2    TRUE\n",
      "\n",
      "Absolute minimum support count: 59 \n",
      "\n",
      "set item appearances ...[0 item(s)] done [0.00s].\n",
      "set transactions ...[169 item(s), 9835 transaction(s)] done [0.01s].\n",
      "sorting and recoding items ... [109 item(s)] done [0.00s].\n",
      "creating transaction tree ... done [0.01s].\n",
      "checking subsets of size 1 2 3 4 done [0.01s].\n",
      "writing ... [463 rule(s)] done [0.00s].\n",
      "creating S4 object  ... done [0.00s].\n"
     ]
    }
   ],
   "source": [
    "%%R\n",
    "##\n",
    "## El parámetro confianza representa el porcentaje mínimo\n",
    "## de veces que una regla debe ser correcta para que \n",
    "## sea considerada; esto permite eliminar reglas sin\n",
    "## sentido. El parámetro minlen indica que las reglas \n",
    "## deben contener al menos 2 items.\n",
    "##\n",
    "groceryrules <- apriori(groceries, \n",
    "                        parameter = list(support = 0.006, \n",
    "                                         confidence = 0.25, \n",
    "                                         minlen = 2))"
   ]
  },
  {
   "cell_type": "code",
   "execution_count": 13,
   "metadata": {},
   "outputs": [
    {
     "name": "stdout",
     "output_type": "stream",
     "text": [
      "set of 463 rules \n"
     ]
    }
   ],
   "source": [
    "%%R\n",
    "##\n",
    "## Número de reglas generadas\n",
    "##\n",
    "groceryrules"
   ]
  },
  {
   "cell_type": "markdown",
   "metadata": {},
   "source": [
    "## Evaluación del modelo"
   ]
  },
  {
   "cell_type": "code",
   "execution_count": 14,
   "metadata": {},
   "outputs": [
    {
     "name": "stdout",
     "output_type": "stream",
     "text": [
      "set of 463 rules\n",
      "\n",
      "rule length distribution (lhs + rhs):sizes\n",
      "  2   3   4 \n",
      "150 297  16 \n",
      "\n",
      "   Min. 1st Qu.  Median    Mean 3rd Qu.    Max. \n",
      "  2.000   2.000   3.000   2.711   3.000   4.000 \n",
      "\n",
      "summary of quality measures:\n",
      "    support           confidence          lift            count      \n",
      " Min.   :0.006101   Min.   :0.2500   Min.   :0.9932   Min.   : 60.0  \n",
      " 1st Qu.:0.007117   1st Qu.:0.2971   1st Qu.:1.6229   1st Qu.: 70.0  \n",
      " Median :0.008744   Median :0.3554   Median :1.9332   Median : 86.0  \n",
      " Mean   :0.011539   Mean   :0.3786   Mean   :2.0351   Mean   :113.5  \n",
      " 3rd Qu.:0.012303   3rd Qu.:0.4495   3rd Qu.:2.3565   3rd Qu.:121.0  \n",
      " Max.   :0.074835   Max.   :0.6600   Max.   :3.9565   Max.   :736.0  \n",
      "\n",
      "mining info:\n",
      "      data ntransactions support confidence\n",
      " groceries          9835   0.006       0.25\n"
     ]
    }
   ],
   "source": [
    "%%R\n",
    "## \n",
    "## Se obtiene la cantidad  de reglas, la cantidad \n",
    "## de elementos por regla, y el resumen de las \n",
    "## métricas de calidad\n",
    "##\n",
    "summary(groceryrules)"
   ]
  },
  {
   "cell_type": "code",
   "execution_count": 15,
   "metadata": {},
   "outputs": [
    {
     "name": "stdout",
     "output_type": "stream",
     "text": [
      "     lhs                      rhs                support     confidence\n",
      "[1]  {pot plants}          => {whole milk}       0.006914082 0.4000000 \n",
      "[2]  {pasta}               => {whole milk}       0.006100661 0.4054054 \n",
      "[3]  {herbs}               => {root vegetables}  0.007015760 0.4312500 \n",
      "[4]  {herbs}               => {other vegetables} 0.007727504 0.4750000 \n",
      "[5]  {herbs}               => {whole milk}       0.007727504 0.4750000 \n",
      "[6]  {processed cheese}    => {whole milk}       0.007015760 0.4233129 \n",
      "[7]  {semi-finished bread} => {whole milk}       0.007117438 0.4022989 \n",
      "[8]  {beverages}           => {whole milk}       0.006812405 0.2617188 \n",
      "[9]  {detergent}           => {other vegetables} 0.006405694 0.3333333 \n",
      "[10] {detergent}           => {whole milk}       0.008947636 0.4656085 \n",
      "     lift     count\n",
      "[1]  1.565460 68   \n",
      "[2]  1.586614 60   \n",
      "[3]  3.956477 69   \n",
      "[4]  2.454874 76   \n",
      "[5]  1.858983 76   \n",
      "[6]  1.656698 69   \n",
      "[7]  1.574457 70   \n",
      "[8]  1.024275 67   \n",
      "[9]  1.722719 63   \n",
      "[10] 1.822228 88   \n"
     ]
    }
   ],
   "source": [
    "%%R\n",
    "##\n",
    "## Se visualizan las primeras 10 reglas.\n",
    "##\n",
    "inspect(groceryrules[1:10])"
   ]
  },
  {
   "cell_type": "code",
   "execution_count": 16,
   "metadata": {},
   "outputs": [
    {
     "name": "stdout",
     "output_type": "stream",
     "text": [
      "    lhs                   rhs                      support confidence     lift count\n",
      "[1] {herbs}            => {root vegetables}    0.007015760  0.4312500 3.956477    69\n",
      "[2] {berries}          => {whipped/sour cream} 0.009049314  0.2721713 3.796886    89\n",
      "[3] {other vegetables,                                                              \n",
      "     tropical fruit,                                                                \n",
      "     whole milk}       => {root vegetables}    0.007015760  0.4107143 3.768074    69\n",
      "[4] {beef,                                                                          \n",
      "     other vegetables} => {root vegetables}    0.007930859  0.4020619 3.688692    78\n",
      "[5] {other vegetables,                                                              \n",
      "     tropical fruit}   => {pip fruit}          0.009456024  0.2634561 3.482649    93\n"
     ]
    }
   ],
   "source": [
    "%%R\n",
    "##\n",
    "## Se puede inspeccionar un conjunto de reglas en particular\n",
    "##\n",
    "inspect(sort(groceryrules, by = \"lift\")[1:5])"
   ]
  },
  {
   "cell_type": "code",
   "execution_count": 17,
   "metadata": {},
   "outputs": [
    {
     "name": "stdout",
     "output_type": "stream",
     "text": [
      "    lhs          rhs                  support     confidence lift     count\n",
      "[1] {berries} => {whipped/sour cream} 0.009049314 0.2721713  3.796886  89  \n",
      "[2] {berries} => {yogurt}             0.010574479 0.3180428  2.279848 104  \n",
      "[3] {berries} => {other vegetables}   0.010269446 0.3088685  1.596280 101  \n",
      "[4] {berries} => {whole milk}         0.011794611 0.3547401  1.388328 116  \n"
     ]
    }
   ],
   "source": [
    "%%R\n",
    "##\n",
    "## Se puede obtener un subconjunto de las reglas que\n",
    "## cumplen una condición particular\n",
    "##\n",
    "berryrules <- subset(groceryrules, items %in% \"berries\")\n",
    "inspect(berryrules)"
   ]
  },
  {
   "cell_type": "code",
   "execution_count": 18,
   "metadata": {
    "collapsed": true,
    "jupyter": {
     "outputs_hidden": true
    }
   },
   "outputs": [],
   "source": [
    "%%R\n",
    "##\n",
    "## Se pueden almacenar las reglas en el disco\n",
    "##\n",
    "write(groceryrules, \n",
    "      file = \"groceryrules.csv\",\n",
    "      sep = \",\", \n",
    "      quote = TRUE, \n",
    "      row.names = FALSE)"
   ]
  },
  {
   "cell_type": "code",
   "execution_count": 19,
   "metadata": {},
   "outputs": [
    {
     "name": "stdout",
     "output_type": "stream",
     "text": [
      "\"rules\",\"support\",\"confidence\",\"lift\",\"count\"\n",
      "\"{pot plants} => {whole milk}\",0.00691408235892222,0.4,1.56545961002786,68\n",
      "\"{pasta} => {whole milk}\",0.00610066090493137,0.405405405405405,1.58661446962283,60\n",
      "\"{herbs} => {root vegetables}\",0.00701576004067107,0.43125,3.95647737873134,69\n",
      "\"{herbs} => {other vegetables}\",0.00772750381291307,0.475,2.45487388334209,76\n",
      "\"{herbs} => {whole milk}\",0.00772750381291307,0.475,1.85898328690808,76\n",
      "\"{processed cheese} => {whole milk}\",0.00701576004067107,0.423312883435583,1.65669805355709,69\n",
      "\"{semi-finished bread} => {whole milk}\",0.00711743772241993,0.402298850574713,1.57445650433836,70\n",
      "\"{beverages} => {whole milk}\",0.00681240467717336,0.26171875,1.02427533077994,67\n",
      "\"{detergent} => {other vegetables}\",0.00640569395017794,0.333333333333333,1.72271851462603,63\n"
     ]
    }
   ],
   "source": [
    "!head groceryrules.csv"
   ]
  },
  {
   "cell_type": "code",
   "execution_count": 20,
   "metadata": {},
   "outputs": [
    {
     "name": "stdout",
     "output_type": "stream",
     "text": [
      "'data.frame':\t463 obs. of  5 variables:\n",
      " $ rules     : Factor w/ 463 levels \"{baking powder} => {other vegetables}\",..: 340 302 207 206 208 341 402 21 139 140 ...\n",
      " $ support   : num  0.00691 0.0061 0.00702 0.00773 0.00773 ...\n",
      " $ confidence: num  0.4 0.405 0.431 0.475 0.475 ...\n",
      " $ lift      : num  1.57 1.59 3.96 2.45 1.86 ...\n",
      " $ count     : num  68 60 69 76 76 69 70 67 63 88 ...\n"
     ]
    }
   ],
   "source": [
    "%%R\n",
    "##\n",
    "## Se pueden convertir a un data.frame\n",
    "##\n",
    "groceryrules_df <- as(groceryrules, \"data.frame\")\n",
    "str(groceryrules_df)"
   ]
  },
  {
   "cell_type": "markdown",
   "metadata": {},
   "source": [
    "**Ejercicio.---** ¿Cómo se usan las reglas obtenidas cuándo se sabe que un cliente ha seleccionado ciertos productos?"
   ]
  },
  {
   "cell_type": "markdown",
   "metadata": {},
   "source": [
    "---"
   ]
  },
  {
   "cell_type": "code",
   "execution_count": 21,
   "metadata": {},
   "outputs": [],
   "source": [
    "!rm *.csv"
   ]
  }
 ],
 "metadata": {
  "kernel_info": {
   "name": "python3"
  },
  "kernelspec": {
   "display_name": "Python 3",
   "language": "python",
   "name": "python3"
  },
  "language_info": {
   "codemirror_mode": {
    "name": "ipython",
    "version": 3
   },
   "file_extension": ".py",
   "mimetype": "text/x-python",
   "name": "python",
   "nbconvert_exporter": "python",
   "pygments_lexer": "ipython3",
   "version": "3.6.9"
  },
  "nteract": {
   "version": "0.7.1"
  }
 },
 "nbformat": 4,
 "nbformat_minor": 4
}
