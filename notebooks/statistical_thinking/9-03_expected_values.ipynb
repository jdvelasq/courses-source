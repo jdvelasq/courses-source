{
 "cells": [
  {
   "cell_type": "markdown",
   "id": "bb37ada7-09a2-43f0-bf21-90512bfaeeb4",
   "metadata": {
    "tags": []
   },
   "source": [
    "Valores esperados ---\n",
    "===\n",
    "\n",
    "* 0:00 min | Ultima modificación: Octubre 15, 2021 | [YouTube]"
   ]
  },
  {
   "cell_type": "markdown",
   "id": "9fba36be-f8b7-4fe2-9f64-4d8c0455d013",
   "metadata": {},
   "source": [
    "Media poblacional para variables discretas\n",
    "----"
   ]
  },
  {
   "cell_type": "markdown",
   "id": "e1d004a8-4362-4821-a3a7-b6e75af5adea",
   "metadata": {},
   "source": [
    "$$\n",
    "\\text{E}[X] = \\sum_x x \\cdot p(x)\n",
    "$$"
   ]
  },
  {
   "cell_type": "markdown",
   "id": "efe6fbd4-5248-4333-9def-f0aab7286b9f",
   "metadata": {},
   "source": [
    "Media muestral\n",
    "---"
   ]
  },
  {
   "cell_type": "markdown",
   "id": "3d865a0b-aeef-44e6-8c33-a5545e2bfa2b",
   "metadata": {},
   "source": [
    "$$\n",
    "\\bar{X} = \\sum_i^n = x_i \\cdot p(x_i)\n",
    "$$\n",
    "\n",
    "con $p(x_i)=1/n$."
   ]
  },
  {
   "cell_type": "markdown",
   "id": "c451c5fe-8e89-472f-9a0a-d05d6f1d2b18",
   "metadata": {},
   "source": [
    "Calculo de la media para la tirada de una moneda"
   ]
  },
  {
   "cell_type": "markdown",
   "id": "97ec3217-ad0b-497f-9324-08804161613a",
   "metadata": {},
   "source": [
    "Experimentos de simulación\n",
    "----"
   ]
  },
  {
   "cell_type": "code",
   "execution_count": 6,
   "id": "08f7f754-fd6e-46f1-adc7-575d96fe45fe",
   "metadata": {},
   "outputs": [
    {
     "name": "stdout",
     "output_type": "stream",
     "text": [
      "Object `sns.kde` not found.\n"
     ]
    }
   ],
   "source": [
    "import numpy as np\n",
    "import seaborn as sns\n",
    "\n",
    "n_samples = 500\n",
    "#\n",
    "# Simulación de un gran número de normales\n",
    "#\n",
    "normal_sample = np.random.normal(size=n_samples)\n",
    "\n",
    "#\n",
    "# Simulación de el promedio de 10 normales u su histograma\n",
    "#\n",
    "sample_size = 10\n",
    "means_sample = np.mean(np.random.normal(size=(n_samples, sample_size)), axis=1)"
   ]
  },
  {
   "cell_type": "code",
   "execution_count": 7,
   "id": "2de6aa88-db16-4c7e-8300-8feaa0035974",
   "metadata": {},
   "outputs": [
    {
     "name": "stdout",
     "output_type": "stream",
     "text": [
      "Object `sns.kde` not found.\n"
     ]
    }
   ],
   "source": []
  },
  {
   "cell_type": "markdown",
   "id": "023cc031-1400-4b12-9b0a-d9c527c2d212",
   "metadata": {},
   "source": [
    "**Promedio de la tirada de datos**"
   ]
  },
  {
   "cell_type": "code",
   "execution_count": null,
   "id": "df83d557-c2a0-467c-93f1-b5bd6cc861be",
   "metadata": {},
   "outputs": [],
   "source": [
    "#\n",
    "# Gráfica de la frecuencia de cada tirada de datos"
   ]
  }
 ],
 "metadata": {
  "kernelspec": {
   "display_name": "Python 3",
   "language": "python",
   "name": "python3"
  },
  "language_info": {
   "codemirror_mode": {
    "name": "ipython",
    "version": 3
   },
   "file_extension": ".py",
   "mimetype": "text/x-python",
   "name": "python",
   "nbconvert_exporter": "python",
   "pygments_lexer": "ipython3",
   "version": "3.6.9"
  }
 },
 "nbformat": 4,
 "nbformat_minor": 5
}
