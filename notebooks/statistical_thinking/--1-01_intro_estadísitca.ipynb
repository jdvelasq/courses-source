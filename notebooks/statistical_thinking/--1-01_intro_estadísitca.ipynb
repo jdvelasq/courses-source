{
 "cells": [
  {
   "cell_type": "markdown",
   "id": "4983768b-ee9c-40ef-9ec8-45ba612e4a1a",
   "metadata": {},
   "source": [
    "Introducción ---\n",
    "===\n",
    "\n",
    "* 0:00 min | Ultima modificación: Octubre 15, 2021 | [YouTube]"
   ]
  },
  {
   "cell_type": "markdown",
   "id": "afdd66b3-35f3-41c2-8b9a-2f655bd3c201",
   "metadata": {},
   "source": [
    "Definiciones fundamentales\n",
    "---"
   ]
  },
  {
   "cell_type": "markdown",
   "id": "11443061-a582-4600-bdc7-63f73495b4e6",
   "metadata": {},
   "source": [
    "![assets/pob-muestra.jpg](assets/pob-muestra.jpg)"
   ]
  },
  {
   "cell_type": "markdown",
   "id": "9fd00898-9513-47ad-99ce-b0efe75495ec",
   "metadata": {},
   "source": [
    "**Población**: Colección de objetos o individuos sobre los cuales se desea obtener información de interés.\n",
    "\n",
    "**Parámetro**: Un valor que resume una propiedad o característica de la población entera. \n",
    "\n",
    "**Muestra**: Grupo obtenido aleatoriamente que es representativo de la población.\n",
    "\n",
    "**Muestreo aleatorio**: Muestreo de elementos de forma aleatoria tal que cada miembro de la población tiene igual probabilidad de ser seleccionado.\n",
    "\n",
    "**Muestra sesgada**: Muestra que no representa la población.\n",
    "\n",
    "\n",
    "\n",
    "\n",
    "\n"
   ]
  },
  {
   "cell_type": "markdown",
   "id": "ef6716ba-d4fe-4a1f-a512-22b708cc559f",
   "metadata": {},
   "source": [
    "Inferencia estadística\n",
    "--\n",
    "\n",
    "Proceso para generar una conclusión sobre la población a partir de una muestra (ruidosa)."
   ]
  },
  {
   "cell_type": "markdown",
   "id": "2d5f6138-45cf-4fc4-8623-b34868f1ba37",
   "metadata": {},
   "source": [
    "Objetivos de la inferencia\n",
    "---\n",
    "\n",
    "* Estimar y cuantificar la incertidumbre de un estimado de un parámetro de la población.\n",
    "\n",
    "* Determinar cuando una cantidad es un valor benchmark.\n",
    "\n",
    "* Inferir relaciones enetre cantidades medidas con ruido."
   ]
  },
  {
   "cell_type": "code",
   "execution_count": null,
   "id": "c84ec38e-e449-4149-b2d0-42d9304f05de",
   "metadata": {},
   "outputs": [],
   "source": []
  },
  {
   "cell_type": "code",
   "execution_count": null,
   "id": "bade865e-6a5b-4cdb-993e-8db0a8d390dd",
   "metadata": {},
   "outputs": [],
   "source": []
  },
  {
   "cell_type": "code",
   "execution_count": null,
   "id": "dfd3a730-440f-46ef-90f0-c77a86dbfe8f",
   "metadata": {},
   "outputs": [],
   "source": []
  }
 ],
 "metadata": {
  "kernelspec": {
   "display_name": "Python 3",
   "language": "python",
   "name": "python3"
  },
  "language_info": {
   "codemirror_mode": {
    "name": "ipython",
    "version": 3
   },
   "file_extension": ".py",
   "mimetype": "text/x-python",
   "name": "python",
   "nbconvert_exporter": "python",
   "pygments_lexer": "ipython3",
   "version": "3.6.9"
  }
 },
 "nbformat": 4,
 "nbformat_minor": 5
}
