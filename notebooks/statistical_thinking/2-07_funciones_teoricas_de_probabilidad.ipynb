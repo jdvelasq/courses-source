{
 "cells": [
  {
   "cell_type": "markdown",
   "metadata": {
    "slideshow": {
     "slide_type": "slide"
    }
   },
   "source": [
    "Funciones Teóricas de Probabilidad --- 15:51 min\n",
    "===\n",
    "\n",
    "* 15:51 min | Ultima modificación: Octubre 17, 2021 | [YouTube](https://youtu.be/Sjpdbo4xL6I)"
   ]
  },
  {
   "cell_type": "markdown",
   "metadata": {},
   "source": [
    "Hasta ahora, los ejemplos presentados han sido resueltos a partir de la noción de probabilidad como frecuencia; es decir, la probabilidad ha sido calculada mediante el conteo de los eventos posibles en el universo. Sin embargo, esta aproximación no puede ser usada en todos los casos. Las funciones teóricas de probabilidad son funciones matemáticas que asocian una probabilidad específica a cada punto del dominio de la función y permiten representar muchas situaciones del mundo real. En este tutorial se presentan las principales funciones de probabilidad, las cuales serán usadas posteriormente dentro de la solucón de muchos casos de aplicación en Analítica Predictiva."
   ]
  },
  {
   "cell_type": "code",
   "execution_count": 6,
   "metadata": {},
   "outputs": [],
   "source": [
    "import math\n",
    "\n",
    "import matplotlib.pyplot as plt\n",
    "import numpy as np\n",
    "import seaborn as sns\n",
    "from scipy.stats import norm"
   ]
  },
  {
   "cell_type": "markdown",
   "metadata": {},
   "source": [
    "Definiciones básicas\n",
    "---"
   ]
  },
  {
   "cell_type": "markdown",
   "metadata": {},
   "source": [
    "### Espacio muestral \n",
    "\n",
    "Es el conjunto $S$ de todos los posibles resultados de un experimento."
   ]
  },
  {
   "cell_type": "markdown",
   "metadata": {},
   "source": [
    "### Función de probabilidad\n",
    "\n",
    "Dado un espacio muestral $S$ y un conjunto de eventos $A_i$ mutuamente exclusivos y colectivamente exhasutivos, una *función de probabilidad* es una función Pr cualquiera que:\n",
    "\n",
    "* $\\text{Pr}(A_i) \\ge 0, \\quad \\forall A \\in S$\n",
    "\n",
    "\n",
    "* $\\text{Pr}(S) = 1$."
   ]
  },
  {
   "cell_type": "markdown",
   "metadata": {},
   "source": [
    "### Variable aleatoria\n",
    "\n",
    "Una variable aletaoria $X$ es una función que mapea el espacio muestral en los números reales."
   ]
  },
  {
   "cell_type": "markdown",
   "metadata": {},
   "source": [
    "### Función de distribución acumulada de $X$ o $F_X(x)$\n",
    "\n",
    "Es la función\n",
    "\n",
    "$$F_X(x) = \\text{Pr}_X (X \\le x), \\quad \\forall x$$\n",
    "\n",
    "Tal que:\n",
    "\n",
    "* $\\lim_{x \\to -\\infty} F_X(x) = 0$ y $\\lim_{x \\to \\infty} F_X(x) = 1$\n",
    "* $F_X(x)$ es no una función no decreciente de x.\n",
    "* $F_X(x)$ es continua por la derecha (existencia)."
   ]
  },
  {
   "cell_type": "markdown",
   "metadata": {},
   "source": [
    "### Función de masa de probabilidad\n",
    "\n",
    "La función de masa de probabilidad $f_X(s)$ de una variable aleatoria discreta $X$ es dada por:\n",
    "\n",
    "$$f_X(x) = \\text{Pr}(X=x), \\qquad \\forall x.$$\n",
    "\n",
    "### Función de densidad de probabilidad\n",
    "\n",
    "La función $f_X(x)$ para una variable aleatoria continua $X$ es una función que satisface con:\n",
    "\n",
    "$$F_X(x) = \\int_{-\\infty}^x f_X(t) dt, \\quad \\forall x.$$"
   ]
  },
  {
   "cell_type": "markdown",
   "metadata": {},
   "source": [
    "### Valor esperado\n",
    "\n",
    "El valor esperado o media de una variable aleatoria $g(X)$, denotado como $\\text{E}g(X)$, es:\n",
    "\n",
    "$$ \\text{E}g(X) =\n",
    "   \\begin{cases}      \n",
    "      \\int_{-\\infty}^\\infty g(x)f_X(x), & \\text{Si $X$ es continua}\\\\\n",
    "      \\\\\n",
    "      \\sum_{x \\in X} g(x)f_X(x) = g(x)\\text{Pr}(X=x), & \\text{Si $X$ es discreta}\n",
    "   \\end{cases}\n",
    "$$"
   ]
  },
  {
   "cell_type": "markdown",
   "metadata": {},
   "source": [
    "### Momentos de una distribución\n",
    "\n",
    "El $n$-ésimo momento se define como:\n",
    "\n",
    "$$M_n = \\text{E}(x^n) = \\int u^n f_X(t) dt$$\n",
    "\n",
    "* Media o valor esperado:\n",
    "\n",
    "$$ \\text{E}(x) = \\mu_x=\\int u·f_X(t) dt = M_1$$\n",
    "\n",
    "* Varianza:\n",
    "\n",
    "$$\\text{V}(x)= \\sigma^2_x = \\text{E}[(x-\\mu)^2]=M_2 - M_1^2$$\n",
    "\n",
    "\n",
    "* Simetría:\n",
    "\n",
    "$$\\text{S}_x = \\text{E}[(x-\\mu)^3]=M_3 - 3M_2M_1 + 2M_1^3$$\n",
    "\n",
    "* Curtosis:\n",
    "\n",
    "$$\\text{K}_x = \\text{E}[(x-\\mu)^4]=M_4 - 4M_3M_1 + 6M_2M_1^2 - 3M_1^4$$\n",
    "\n",
    "\n"
   ]
  },
  {
   "cell_type": "markdown",
   "metadata": {},
   "source": [
    "**Interpretación gráfica**"
   ]
  },
  {
   "cell_type": "markdown",
   "metadata": {},
   "source": [
    "![assets/momentos-distribucion.jpg](assets/momentos-distribucion.jpg)"
   ]
  },
  {
   "cell_type": "markdown",
   "metadata": {},
   "source": [
    "Principales distribuciones de probabilidad\n",
    "---"
   ]
  },
  {
   "cell_type": "markdown",
   "metadata": {},
   "source": [
    "### Distribución de Bernoulli\n",
    "\n",
    "\n",
    "En esta distribución se tiene un experiemento en el cual hay dos y solo dos resultados posibles. Una variable aleatoria $X$ sigue una distribución de Bernoulli de orden $p$ si:\n",
    "\n",
    "$$ X =\n",
    "   \\begin{cases}\n",
    "      1, & \\text{con probabilidad $p$} \\\\\n",
    "      0, &\\text{con probabilidad $1-p$}\n",
    "   \\end{cases}\n",
    "$$\n",
    "\n",
    "con:\n",
    "\n",
    "$$\\text{E}(X) = 1p + 0(1-p)=p$$\n",
    "\n",
    "$$\\text{Var}(X) = (1-p)^2p + (0-p)^2(1-p)=p(1-p)$$"
   ]
  },
  {
   "cell_type": "code",
   "execution_count": 3,
   "metadata": {},
   "outputs": [
    {
     "data": {
      "text/plain": [
       "array([0.12696983, 0.96671784, 0.26047601, 0.89723652, 0.37674972])"
      ]
     },
     "metadata": {},
     "output_type": "display_data"
    },
    {
     "data": {
      "text/plain": [
       "array([ True, False,  True, False,  True])"
      ]
     },
     "metadata": {},
     "output_type": "display_data"
    }
   ],
   "source": [
    "#\n",
    "# Simulación de 5 tiradas de una moneda\n",
    "#\n",
    "np.random.seed(123456)\n",
    "\n",
    "random_numbers = np.random.random(size=5)\n",
    "display(random_numbers)\n",
    "heads = random_numbers < 0.5\n",
    "display(heads)"
   ]
  },
  {
   "cell_type": "markdown",
   "metadata": {},
   "source": [
    "### Distribución Binomial\n",
    "\n",
    "La distribución binomial se obtiene al considerar una secuencia de $n$ experimentos independientes de Bernoulli y se obtienen exactamente $Y$ éxitos, es decir, ocurre $X=1$, $y$ veces. En otras palabras, si se tiene una secuencia de $n$ experimentos idénticos, cada uno con una probabilidad de éxito $p$, y se definen las variables aleatorias $X_1$, ..., $X_n$ como:\n",
    "\n",
    "$$ X_i =\n",
    "   \\begin{cases}\n",
    "      1, & \\text{con probabilidad $p$} \\\\\n",
    "      0, &\\text{con probabilidad $1-p$}\n",
    "   \\end{cases}\n",
    "$$\n",
    "\n",
    "La variable aleatoria\n",
    "\n",
    "$$Y = \\sum_{i=1}^n X_i$$\n",
    "\n",
    "sigue una distribución binomial($n$, $p$).\n",
    "\n"
   ]
  },
  {
   "cell_type": "code",
   "execution_count": 4,
   "metadata": {},
   "outputs": [
    {
     "data": {
      "text/plain": [
       "2"
      ]
     },
     "execution_count": 4,
     "metadata": {},
     "output_type": "execute_result"
    }
   ],
   "source": [
    "#\n",
    "# Simulación del número de exitos en 5 tiradas de\n",
    "# una moneda\n",
    "#\n",
    "np.random.binomial(5, 0.5)"
   ]
  },
  {
   "cell_type": "code",
   "execution_count": 5,
   "metadata": {},
   "outputs": [
    {
     "data": {
      "text/plain": [
       "array([2, 4, 1, 3, 2, 2, 1, 4, 4, 2])"
      ]
     },
     "execution_count": 5,
     "metadata": {},
     "output_type": "execute_result"
    }
   ],
   "source": [
    "#\n",
    "# Simulación del número de éxitos en 5 tiradas de\n",
    "# una moneda repetido 10 veces.\n",
    "#\n",
    "np.random.binomial(5, 0.5, 10)"
   ]
  },
  {
   "cell_type": "code",
   "execution_count": 19,
   "metadata": {},
   "outputs": [
    {
     "data": {
      "image/png": "[encoded data removed]",
      "text/plain": [
       "<Figure size 432x288 with 1 Axes>"
      ]
     },
     "metadata": {
      "needs_background": "light"
     },
     "output_type": "display_data"
    }
   ],
   "source": [
    "#\n",
    "# Función de densidad de probabilidad simulada\n",
    "#\n",
    "samples = np.random.binomial(60, ., 10000)\n",
    "sns.histplot(samples, discrete=True, shrink=0.2, stat=\"density\")\n",
    "sns.despine(trim=True, offset=2)\n",
    "plt.show()"
   ]
  },
  {
   "cell_type": "markdown",
   "metadata": {
    "jp-MarkdownHeadingCollapsed": true,
    "tags": []
   },
   "source": [
    "### Distribución Uniforme Discreta\n",
    "\n",
    "Una variable aletoria $X$ tiene una [distribución discreta uniforme](https://es.wikipedia.org/wiki/Distribución_uniforme_discreta) (1, $N$) si:\n",
    "\n",
    "$$\\text{Pr}(X=x|N) = \\frac{1}{N}, \\quad x=1,...,N$$\n",
    "\n",
    "donde $N$ es un entero.\n",
    "\n",
    "$$\\text{E}(X) = \\frac{N+1}{2}$$\n",
    "\n",
    "$$\\text{Var}(X) = \\frac{(N+1)(N-1)}{12}$$"
   ]
  },
  {
   "cell_type": "markdown",
   "metadata": {},
   "source": [
    "### Distribución Poisson\n",
    "\n",
    "Esta distribución se usa para modelar el número de ocurrencias de un evento en un intervalo de tiempo. Una variable $X$ sigue una distribución de Poisson($\\lambda$), si:\n",
    "\n",
    "$$P(X=x|\\lambda) = \\frac{\\exp(-\\lambda) * \\lambda^x}{x!}, \\quad x=0,1,...$$\n",
    "\n",
    "con:\n",
    "\n",
    "$$\\text{E}(X)=\\text{Var}(X) = \\lambda$$"
   ]
  },
  {
   "cell_type": "markdown",
   "metadata": {},
   "source": [
    "### Distribución Normal"
   ]
  },
  {
   "cell_type": "markdown",
   "metadata": {},
   "source": [
    "La función de densidad de probabilidad de una [distribución normal](https://es.wikipedia.org/wiki/Distribución_normal) con media $\\mu$ y varianza $\\sigma^2$ se define como:\n",
    "\n",
    "$$f(x | \\mu, \\sigma^2) =\\frac{1}{\\sigma \\sqrt{2\\pi}} \\exp \\left\\{ -\\frac{1}{2} \\frac{(x-\\mu)^2}{\\sigma^2} \\right\\}$$\n"
   ]
  },
  {
   "cell_type": "markdown",
   "metadata": {},
   "source": [
    "Para la distribución normal:\n",
    "* $M_1 = \\mu$\n",
    "* $M_2 = \\sigma^2$\n",
    "* $M_3 = 0$\n",
    "* $M_4 = 3\\sigma^2$"
   ]
  },
  {
   "cell_type": "markdown",
   "metadata": {},
   "source": [
    "Consulte su historia en [Wikipedia](https://es.wikipedia.org/wiki/Distribución_normal)."
   ]
  },
  {
   "cell_type": "markdown",
   "metadata": {},
   "source": [
    "En la siguiente figura se observan diferentes distribuciones normales que varian en su media y varianza."
   ]
  },
  {
   "cell_type": "code",
   "execution_count": 2,
   "metadata": {},
   "outputs": [
    {
     "data": {
      "image/png": "[encoded data removed]",
      "text/plain": [
       "<Figure size 576x432 with 1 Axes>"
      ]
     },
     "metadata": {
      "needs_background": "light"
     },
     "output_type": "display_data"
    }
   ],
   "source": [
    "plt.figure(figsize=(8, 6))\n",
    "x = np.linspace(-4, +4, 100)\n",
    "plt.plot(x, norm.pdf(x, loc=0.0, scale=math.sqrt(0.2)), \"r-\", lw=2, alpha=0.6, label=\"\")\n",
    "plt.plot(\n",
    "    x, norm.pdf(x, loc=-2.0, scale=math.sqrt(0.5)), \"b-\", lw=2, alpha=0.6, label=\"\"\n",
    ")\n",
    "plt.plot(x, norm.pdf(x, loc=0.0, scale=math.sqrt(1.0)), \"k-\", lw=2, alpha=0.6, label=\"\")\n",
    "plt.gca().spines[\"left\"].set_color(\"gray\")\n",
    "plt.gca().spines[\"bottom\"].set_color(\"gray\")\n",
    "plt.gca().spines[\"top\"].set_visible(False)\n",
    "plt.gca().spines[\"right\"].set_visible(False)\n",
    "plt.show()"
   ]
  },
  {
   "cell_type": "markdown",
   "metadata": {},
   "source": [
    "**Propiedades útiles:**\n",
    "\n",
    "Sean $x \\sim \\text{N}(\\mu_x, \\sigma^2_x)$ y $y \\sim \\text{N}(\\mu_y, \\sigma^2_y)$, entonces:\n",
    "\n",
    "$$x + y \\sim \\text{N}\\left(\\mu_x + \\mu_y, \\sigma_x^2 + \\sigma_y^2\\right)$$"
   ]
  },
  {
   "cell_type": "markdown",
   "metadata": {},
   "source": [
    "Sea $x \\sim \\text{N}(\\mu_x, \\sigma^2_x)$ y los números reales arbitrarios $a$ y $b$, entonces:\n",
    "\n",
    "$$ax + b \\sim \\text{N}\\left(a \\mu_x + b, a^2 \\sigma_x^2\\right)$$"
   ]
  },
  {
   "cell_type": "markdown",
   "metadata": {},
   "source": [
    "Sean $x \\sim \\text{N}(\\mu_x, \\sigma^2_x)$ y $\\varepsilon \\sim \\text{N}(0, 1^2)$, entonces:\n",
    "\n",
    "$$x  \\sim \\mu + \\sigma \\varepsilon$$"
   ]
  },
  {
   "cell_type": "markdown",
   "metadata": {},
   "source": [
    "### Distribución Normal Estándar"
   ]
  },
  {
   "cell_type": "markdown",
   "metadata": {},
   "source": [
    "La distribución normal estándar se obtiene al hacer $\\mu=0$ y $\\sigma=1$ en la distribución normal:\n",
    "\n",
    "$$f(z) =\\frac{1}{\\sqrt{2\\pi}} \\exp \\left\\{ -\\frac{1}{2} z^2 \\right\\}$$"
   ]
  },
  {
   "cell_type": "markdown",
   "metadata": {},
   "source": [
    "**Intevalos de confianza.** Corresponden a los valores de $x$ para los cuales el área central de la normal es igual al porcentaje especificado. En la imagen presentada a continuación se grafican los intervalos de confianza para $\\pm \\; 3 \\sigma$, $\\pm \\; 2 \\sigma$ y $\\pm \\; \\sigma$, que equivalen a áreas del 99.73%, 95.44% y 68.26% respectivamente. \n",
    "\n",
    "![assets/intervalos-confianza.jpg](assets/intervalos-confianza.jpg)"
   ]
  },
  {
   "cell_type": "markdown",
   "metadata": {},
   "source": [
    "Los valores del área para cada caso se calcularían asi:"
   ]
  },
  {
   "cell_type": "code",
   "execution_count": 3,
   "metadata": {},
   "outputs": [
    {
     "data": {
      "text/plain": [
       "0.9973002039367398"
      ]
     },
     "execution_count": 3,
     "metadata": {},
     "output_type": "execute_result"
    }
   ],
   "source": [
    "# para +/- 3 * sigma\n",
    "1.0 - 2 * norm.cdf(-3)"
   ]
  },
  {
   "cell_type": "code",
   "execution_count": 4,
   "metadata": {},
   "outputs": [
    {
     "data": {
      "text/plain": [
       "0.9544997361036416"
      ]
     },
     "execution_count": 4,
     "metadata": {},
     "output_type": "execute_result"
    }
   ],
   "source": [
    "# para +/- 2 * sigma\n",
    "1.0 - 2 * norm.cdf(-2)"
   ]
  },
  {
   "cell_type": "code",
   "execution_count": 5,
   "metadata": {},
   "outputs": [
    {
     "data": {
      "text/plain": [
       "0.6826894921370859"
      ]
     },
     "execution_count": 5,
     "metadata": {},
     "output_type": "execute_result"
    }
   ],
   "source": [
    "# para +/- 1 * sigma\n",
    "1.0 - 2 * norm.cdf(-1)"
   ]
  },
  {
   "cell_type": "markdown",
   "metadata": {},
   "source": [
    "### Distribución Lognormal\n",
    "\n",
    "La variable aleatoria $x$ sigue una distribución [lognormal](https://es.wikipedia.org/wiki/Distribución_log-normal) si:\n",
    "\n",
    "$$\\log (x) \\sim \\text{N}(\\mu, \\sigma^2)$$"
   ]
  },
  {
   "cell_type": "markdown",
   "metadata": {},
   "source": [
    "**Actividad.---** Grafique la función de densidad de probabilidad para la distribución lognormal para:\n",
    "* $\\mu$=1.0 y $\\sigma$ = 0.5\n",
    "* $\\mu$=1.0 y $\\sigma$ = 1.0\n",
    "* $\\mu$=1.5 y $\\sigma$ = 0.5\n",
    "\n",
    "Haga click [aquí](https://docs.scipy.org/doc/scipy/reference/generated/scipy.stats.lognorm.html) para obtener ayuda de las funciones del lenguaje Python para esta distribución."
   ]
  },
  {
   "cell_type": "markdown",
   "metadata": {},
   "source": [
    "**Actividad.---** Para las tres distribuciones anteriores, grafique la región correspondiente a los intevalos de confianza del 95%."
   ]
  },
  {
   "cell_type": "markdown",
   "metadata": {},
   "source": [
    "### Distribución $t$ de Student:\n",
    "\n",
    "Sean $x_i,...,x_n \\sim \\text{N}(\\mu, \\sigma^2)$, entonces:\n",
    "\n",
    "$$\\frac{M_1 - \\mu}{\\sqrt{\\frac{1}{n}M_2}} \\sim t_{n-1}$$\n",
    "\n",
    "Esta [distribución](https://es.wikipedia.org/wiki/Distribución_t_de_Student) tiene una forma similar a la distribución normal pero un poco más delgada y con colas más pesadas, haciéndose más similar a la distribución normal conforme $n$ aumenta. Históricamente fue derivada como la aproximación a la distribución de probabilidades de la media de $n$ datos provenientes de una distribución con media $\\mu$ y varianza $\\sigma^2$. "
   ]
  },
  {
   "cell_type": "markdown",
   "metadata": {},
   "source": [
    "**Actividad.---** Grafique una distribución normal estándar y distribuciones $t$ con 3, 5 y 10 grados de libertad."
   ]
  },
  {
   "cell_type": "markdown",
   "metadata": {},
   "source": [
    "### Distribución Chi-cuadrada\n",
    "\n",
    "Sea $z_i \\sim \\text{N}(0, 1)$, para $i=1,..., n$, entonces:\n",
    "\n",
    "$$z_1^2 + z_2^2 + \\ldots + z_n^2 \\sim \\chi_n^2$$"
   ]
  },
  {
   "cell_type": "markdown",
   "metadata": {},
   "source": [
    "### Distribución F\n",
    "\n",
    "Sean $x_i, y_j \\sim \\text{N}(0, 1)$, para $i=1,..., n$ y $j=1,...,m$, entonces:\n",
    "\n",
    "$$F = \\frac{\\sum_{i=1}^n x_i^2 / n}{\\sum_{j=1}^m y_i^2} \\sim F_{n,m}$$"
   ]
  },
  {
   "cell_type": "markdown",
   "metadata": {},
   "source": [
    "### Distribución Exponencial\n",
    "\n",
    "En esta distribución:\n",
    "\n",
    "$$f(X|\\beta)=\\frac{1}{\\beta}\\exp \\left( \\frac{-x}{\\beta} \\right)$$\n",
    "\n",
    "La cual es usada para modelar tiempos de vida.\n",
    "\n",
    "$$\\text{E}(X)= \\beta$$\n",
    "\n",
    "$$\\text{Var}(X) = \\beta^2$$\n",
    "\n",
    "Ejemplo: El tiempo entre arrivos que siguen una distribución de Poisson sigue una distribución exponencial."
   ]
  },
  {
   "cell_type": "markdown",
   "metadata": {},
   "source": [
    "### Distribución de Weibull\n",
    "\n",
    "La distribución de [Weibull](https://es.wikipedia.org/wiki/Distribución_de_Weibull) se usa para modelar la distribución de fallos en sistemas cuando la tasa de fallos es proporcional a una potencia del tiempo. Se define como:\n",
    "\n",
    "$$f(X|\\lambda, k) = \n",
    "   \\begin{cases}\n",
    "      \\frac{k}{\\lambda} \\left( \\frac{X}{\\lambda} \\right)^{k-1} \n",
    "      \\exp \\left( - \\left(\\frac{x}{\\lambda} \\right)^k \\right), & x \\ge 0 \\\\\n",
    "      0, & x < 0\n",
    "   \\end{cases}\n",
    "$$\n",
    "\n",
    "* $k < 1$ indica que la tasa de fallos decrece con el tiempo.\n",
    "* $k=1$ la tasa de fallos es constante en el tiempo.\n",
    "* $k>1$ indica que la tasa de fallos crece en el tiempo."
   ]
  }
 ],
 "metadata": {
  "kernel_info": {
   "name": "python3"
  },
  "kernelspec": {
   "display_name": "Python 3",
   "language": "python",
   "name": "python3"
  },
  "language_info": {
   "codemirror_mode": {
    "name": "ipython",
    "version": 3
   },
   "file_extension": ".py",
   "mimetype": "text/x-python",
   "name": "python",
   "nbconvert_exporter": "python",
   "pygments_lexer": "ipython3",
   "version": "3.6.9"
  },
  "nteract": {
   "version": "0.7.1"
  },
  "varInspector": {
   "cols": {
    "lenName": 16,
    "lenType": 16,
    "lenVar": 40
   },
   "kernels_config": {
    "python": {
     "delete_cmd_postfix": "",
     "delete_cmd_prefix": "del ",
     "library": "var_list.py",
     "varRefreshCmd": "print(var_dic_list())"
    },
    "r": {
     "delete_cmd_postfix": ") ",
     "delete_cmd_prefix": "rm(",
     "library": "var_list.r",
     "varRefreshCmd": "cat(var_dic_list()) "
    }
   },
   "types_to_exclude": [
    "module",
    "function",
    "builtin_function_or_method",
    "instance",
    "_Feature"
   ],
   "window_display": false
  }
 },
 "nbformat": 4,
 "nbformat_minor": 4
}
