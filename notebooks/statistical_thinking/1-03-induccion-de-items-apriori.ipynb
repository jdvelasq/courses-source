{
 "cells": [
  {
   "cell_type": "markdown",
   "metadata": {},
   "source": [
    "Inducción de reglas con el algoritmo Apriori --- 25:15 min\n",
    "===\n",
    "\n",
    "* 25:15 min | Ultima modificación: Abril 5, 2021 | [YouTube](https://youtu.be/luiqF054_xU)"
   ]
  },
  {
   "cell_type": "markdown",
   "metadata": {},
   "source": [
    "Una de las aplicaciones directas del concepto de probabilidad como frecuencia es la construcción de sistemas de recomendación basados en que ítems siempre van juntos. Este tipo de sistema de recomendación es diferente de aquellos que buscan clientes con comportamientos similares para realizar la recomendación de productos. En términos más generales, este tipo de sistemas permite obtener los conjuntos de ítems que los clientes suelen seleccionar. En este tutorial se discute el algoritmo [Apriori](https://en.wikipedia.org/wiki/Apriori_algorithm) para la construcción de reglas de asociación entre ítems. "
   ]
  },
  {
   "cell_type": "markdown",
   "metadata": {},
   "source": [
    "## Descripción del problema"
   ]
  },
  {
   "cell_type": "markdown",
   "metadata": {},
   "source": [
    "Un problema típico de los retailers es poder recomendar productos afines a sus compradores basados en el histórico general de las ventas. Estas recomendaciones tienen como fin sugerirle al usuario productos que podría haber olvidado y que usualmente se llevan juntos, o nuevos productos sustitutos que reemplazarían productos ya posicionados. Esta recomendación se basa en el histórico general de la tienda (productos que todas las personas usualmente llevan juntos) y no en las preferencias individuales de los clientes."
   ]
  },
  {
   "cell_type": "markdown",
   "metadata": {},
   "source": [
    "Para ejemplificar el proceso de construcción de las reglas de inducción, se tiene un conjunto ficticio de 10 transacciones realizadas sobre seis posibles ítems ($x_1, ..., x_6)$, donde cada fila representa una transacción:\n",
    "\n",
    "\n",
    "     #  Productos\n",
    "    --------------------\n",
    "     1  x1, x2, x3\n",
    "     2  x1, x3\n",
    "     3  x2, x4\n",
    "     4  x1, x2, x3\n",
    "     5  x1, x2, x5\n",
    "     6  x1, x2, x3, x4\n",
    "     7  x4, x6\n",
    "     8  x1, x2, x4, x6\n",
    "     9  x1, x3, x4\n",
    "    10  x1, x2, x3\n",
    "   \n",
    "\n",
    "El problema consiste en derivar un conjunto de reglas de asociación que permita recomenda un grupo de productos a partir de los productos que ya seleccionó el cliente. Por ejemplo, si un cliente compra $x_1$ y $x_3$, ¿qué producto o productos se le deben recomendar?"
   ]
  },
  {
   "cell_type": "markdown",
   "metadata": {},
   "source": [
    "## Transacción"
   ]
  },
  {
   "cell_type": "markdown",
   "metadata": {},
   "source": [
    "Una **transacción** se representa a través del conjunto de ítems comprados en ella. Así, una transacción con cuatro ítems se representa como:\n",
    "\n",
    "$$\\{x_1, x_2, x_3, x_4 \\}$$\n",
    "\n",
    "El problema descrito equivale a determinar los productos $x_i$, con $x_i \\notin \\{x_1, x_2, x_3, x_4 \\}$, con mayor probabilidad de ser comprados sabiendo que el cliente ya seleccionó $x_1$, $x_2$, $x_3$ y $x_4$. Dicho de otra forma, se deben computar las probabilidades condicionales $\\text{Pr}(x_i \\, | \\,  x_1, x_2, x_3, x_4)$ y recomendar los $N$ productos $x_i$ con mayor probabilidad condicional de compra. En este problema se asume que SI existe una dependencia entre la compra de un producto y otro; si esta dependencia no existe, no tiene sentido construir el sistema de recomendación."
   ]
  },
  {
   "cell_type": "markdown",
   "metadata": {},
   "source": [
    "## Regla de asociación"
   ]
  },
  {
   "cell_type": "markdown",
   "metadata": {},
   "source": [
    "De esta forma, el objetivo del sistema de recomendación es construir una **regla de asociación** de la forma:\n",
    "\n",
    "$$\\{x_2, x_3, x_4 \\} \\rightarrow x_1$$\n",
    "\n",
    "la cual indica que cuando se compran $x_2$, $x_3$ y $x_4$ también se compra (implica) $x_1$."
   ]
  },
  {
   "cell_type": "markdown",
   "metadata": {},
   "source": [
    "Es posible evaluar todas las posibles reglas por fuerza bruta (enumeración). Para el caso anterior, las reglas podrían ser: $\\{x_2\\} \\rightarrow x_1$, $\\{x_3\\} \\rightarrow x_1$, $\\{x_4\\} \\rightarrow x_1$,  $\\{x_1\\} \\rightarrow x_2$, $\\{x_3\\} \\rightarrow x_2$, ..., \n",
    "$\\{x_2, x_3\\} \\rightarrow x_1$, $...$, $\\{x_1, x_2\\} \\rightarrow x_4$ y así sucesivamente, hasta construir todas las permutaciones posibles. Sin embargo, esta solución resulta imposible en términos prácticos debido a que la cantidad de reglas crece exponencialmente."
   ]
  },
  {
   "cell_type": "markdown",
   "metadata": {},
   "source": [
    "**Actividad 1.---** ¿Cuántas reglas posibles hay para el caso anterior?"
   ]
  },
  {
   "cell_type": "markdown",
   "metadata": {},
   "source": [
    "## Algoritmo Apriori"
   ]
  },
  {
   "cell_type": "markdown",
   "metadata": {},
   "source": [
    "El algoritmo **Apriori** se basa en evaluar solamente las reglas que tienen una frecuencia alta (mayor probabilidad). El algoritmo se basa en la siguiente heurística: para que el conjunto $\\{x_1, x_2\\}$ sea frecuente (que tenga una probabilidad alta), los ítems $x_1$ y $x_2$ deben ser frecuentes; es decir, si $x_1$ o $x_2$ son infrecuentes, su combinación no es evaluada.  "
   ]
  },
  {
   "cell_type": "markdown",
   "metadata": {},
   "source": [
    "Para medir la **importancia** de una regla se usa el soporte y la confianza. Si una regla de asocación se escribe como \n",
    "\n",
    "$$X \\rightarrow Y$$\n",
    "\n",
    "el soporte es la proporción de veces que $X$ aparece respecto al total de transacciones; nótese que acá se está hablando explícitamente de probabilidad. "
   ]
  },
  {
   "cell_type": "markdown",
   "metadata": {},
   "source": [
    "La **confianza** se define como:\n",
    "\n",
    "$$\\text{confidence}(X \\rightarrow Y) = \\frac{\\text{support}(X, Y)}{\\text{support}(X)} $$\n",
    "\n",
    "la cual se interpreta como la cantidad de veces en que la presencia de $X$ resulta en la presencia de $Y$. Es decir, ya que se dio $X$ que tan probable es que se de $Y$."
   ]
  },
  {
   "cell_type": "markdown",
   "metadata": {},
   "source": [
    "**Pregunta.---** ¿Es verdad que $\\text{confidence}(X \\rightarrow Y) = \\text{confidence}(Y \\rightarrow X)$?"
   ]
  },
  {
   "cell_type": "markdown",
   "metadata": {},
   "source": [
    "El algoritmo Apriori opera en dos fases: En la primera fase se identifican todos los conjuntos de ítems que cumplen con el soporte mínimo requerido (o probabilidad mínima de compra). En la segunda fase, con los ítems identificados en la fase uno, se crean reglas que cumplen con la confianza mínima requerida."
   ]
  },
  {
   "cell_type": "markdown",
   "metadata": {},
   "source": [
    "En la **primera fase**, se procede de forma constructiva de la siguiente forma (explícitamente se está calculado probabilidad):\n",
    "\n",
    "* Se calcula el soporte de cada ítem y se seleccionan aquellos ítems que cumplen con el soporte mínimo requerido.\n",
    "\n",
    "\n",
    "* Se forman todos las conjuntos (combinaciones) de dos ítems. Sólo se consideran combinaciones de dos ítems que contengan ítems que cumplen el soporte mínimo requerido. Se seleccionan aquellas combinaciones de dos ítems que cumplen con el soporte mínimo requerido.\n",
    "\n",
    "\n",
    "* Se forman todos los conjuntos de tres ítems. No se consideran combinaciones que contengan conjuntos no frecuentes de dos ítems. Es decir, si la combinación {$x_1$, $x_4$} no se frecuente (no cumple con el soporte mínimo requerido), entonces no se consideran combinaciones como {$x_1$, $x_3$, $x_4$} o {$x_1$, $x_2$, $x_4$}.\n",
    "\n",
    "\n",
    "* Se continua con las combinaciones de cuatro ítems y se seleccionan aquellas que cumplan con el soporte mínimo requerido. El algoritmo se detiene cuando ya no hay combinaciones de ítems que cumpan con el soporte mínimo."
   ]
  },
  {
   "cell_type": "markdown",
   "metadata": {},
   "source": [
    "**Actividad 2.---** Calcule el soporte para $x_1$, ..., $x_6$, esto es, la probabilidad de que $x_i$ aparezca en una transacción. Si el soporte mínimo requerido es del 40%, ¿cuáles ítems debe seleccionarse?\n",
    "\n",
    "         X   support   seleccionado\n",
    "     --------------------------------\n",
    "        x1         ?              ?\n",
    "        x2      7/10             Si\n",
    "        x3         ?              ?\n",
    "        x4         ?              ?\n",
    "        x5         ?              ?\n",
    "        x6      2/10             No"
   ]
  },
  {
   "cell_type": "markdown",
   "metadata": {},
   "source": [
    "**Actividad 3.---** Cuáles las combinaciones de dos ítems que deben ser consideradas de acuerdo con el resultado del ejercicio anterior? Cúales cumplen con un soporte mínimo del 40%?\n",
    "\n",
    "              X   support   seleccionado\n",
    "     -------------------------------------\n",
    "       {x1, x2}      6/10             Si\n",
    "              ?         ?              ?\n",
    "              ?         ?              ?\n",
    "              ?         ?              ?\n",
    "       {x2, x4}      3/10             No\n",
    "              ?         ?              ?\n",
    "               "
   ]
  },
  {
   "cell_type": "markdown",
   "metadata": {},
   "source": [
    "**Actividad 4.---** Cúales combinaciones de tres ítems pueden considerarse y cuáles cumplen con el soporte mínimo requerido?\n",
    "\n",
    "                X   support   seleccionado\n",
    "     ---------------------------------------\n",
    "        {?, ?, ?}         ?              ?"
   ]
  },
  {
   "cell_type": "markdown",
   "metadata": {},
   "source": [
    "En la **segunda fase**, para todas las combinaciones de 2, 3, ... ítems, se generan todas las reglas posibles y se evalúa su confianza. Se seleccionan aquellas que cumplen con la confianza mínima requerida. Si la combinación {$x_1$, $x_2$} cumplio con el soporte mínimo, entonces se consideran las reglas {$x_1$} $\\to$ {$x_2$} y {$x_2$} $\\to$ {$x_1$}. Nótese que es posible considerar reglas con varios elementos en el consecuente como por ejemplo {$x_1$} $\\to$ {$x_2$, $x_3$}."
   ]
  },
  {
   "cell_type": "markdown",
   "metadata": {},
   "source": [
    "El *lift* de una regla mide la importancia de una regla en relación a la tasa típica de compra, dado que se sabe que un ítem o un conjunto de ítems han sido comprados.\n",
    "\n",
    "$$\\text{lift}(X \\rightarrow Y) = \\frac{\\text{confidence}(X, Y)}{\\text{support}(Y)} $$\n"
   ]
  },
  {
   "cell_type": "markdown",
   "metadata": {},
   "source": [
    "**Actividad 5.---** Para todas las combinaciones que cumplen con el soporte mínimo requerido, forme las correspodientes reglas y cómpute la confianza y el lift. Si la confianza mínima es del 70%, ¿cuáles reglas deben ser seleccionadas?\n",
    "\n",
    "\n",
    "     Combinación    Reglas           Confianza   Lift  Seleccionada\n",
    "    ----------------------------------------------------------------\n",
    "     {x1, x2}       {x1}     -> {x2}       75%      ?            Si\n",
    "                    {x2}     -> {x1}       86%      ?             ?\n",
    "    ----------------------------------------------------------------\n",
    "     {?, x3}        {?}      -> {?}          ?      ?             ?\n",
    "                    {x3}     -> {?}          ?      ?             ?\n",
    "    ----------------------------------------------------------------\n",
    "     {x2, ?}        {?}      -> {x2}         ?      ?             ?\n",
    "                    {?}      -> {?}          ?      ?             ?\n",
    "    ----------------------------------------------------------------\n",
    "     {x1, x2, x3}   {?}      -> {?, ?}       ?      ?             ?\n",
    "                    {?}      -> {?, ?}       ?      ?             ?\n",
    "                    {x3}     -> {x1, x2}   67%      ?            No\n",
    "                    {?, x2}  -> {?}          ?      ?             ?\n",
    "                    {?, ?}   -> {x2}         ?      ?             ?\n",
    "                    {x2, x1} -> {?}          ?      ?             ?\n",
    "    ----------------------------------------------------------------\n",
    " \n",
    "\n",
    "**Pregunta.---** Si un cliente compra $x_1$ y $x_3$, ¿qué producto o productos se le deben recomendar?"
   ]
  },
  {
   "cell_type": "markdown",
   "metadata": {},
   "source": [
    "## Solución usando el lenguaje R"
   ]
  },
  {
   "cell_type": "markdown",
   "metadata": {},
   "source": [
    "A continuación se describen las funcionalidades del paquete `arules` del lenguaje R para la construcción de reglas de asociación."
   ]
  },
  {
   "cell_type": "code",
   "execution_count": 1,
   "metadata": {},
   "outputs": [],
   "source": [
    "##\n",
    "## Preparación. Se utiliza el paquete rpy2 \n",
    "## para ejecutar código R dentro de Python.\n",
    "##\n",
    "%load_ext rpy2.ipython"
   ]
  },
  {
   "cell_type": "code",
   "execution_count": 2,
   "metadata": {},
   "outputs": [],
   "source": [
    "%%sh\n",
    "if /usr/bin/test ! -d /usr/local/lib/R/site-library/arules; \n",
    "then    \n",
    "    sudo Rscript -e 'install.packages(\"arules\")'\n",
    "fi"
   ]
  },
  {
   "cell_type": "markdown",
   "metadata": {},
   "source": [
    "### Preparación"
   ]
  },
  {
   "cell_type": "code",
   "execution_count": 3,
   "metadata": {},
   "outputs": [
    {
     "name": "stderr",
     "output_type": "stream",
     "text": [
      "R[write to console]: Loading required package: Matrix\n",
      "\n",
      "R[write to console]: \n",
      "Attaching package: ‘arules’\n",
      "\n",
      "\n",
      "R[write to console]: The following objects are masked from ‘package:base’:\n",
      "\n",
      "    abbreviate, write\n",
      "\n",
      "\n"
     ]
    }
   ],
   "source": [
    "%%R\n",
    "## Se carga la librería\n",
    "library(arules)"
   ]
  },
  {
   "cell_type": "markdown",
   "metadata": {},
   "source": [
    "### Formato del archivo de datos"
   ]
  },
  {
   "cell_type": "code",
   "execution_count": 4,
   "metadata": {},
   "outputs": [
    {
     "name": "stdout",
     "output_type": "stream",
     "text": [
      "Overwriting apriori.csv\n"
     ]
    }
   ],
   "source": [
    "%%writefile data.csv\n",
    "x1,x2,x3\n",
    "x1,x3\n",
    "x2,x4\n",
    "x1,x2,x3\n",
    "x1,x2,x5\n",
    "x1,x2,x3,x4\n",
    "x4,x6\n",
    "x1,x2,x4,x6\n",
    "x1,x3,x4\n",
    "x1,x2,x3"
   ]
  },
  {
   "cell_type": "markdown",
   "metadata": {},
   "source": [
    "### Lectura de las transacciones"
   ]
  },
  {
   "cell_type": "code",
   "execution_count": 5,
   "metadata": {},
   "outputs": [],
   "source": [
    "%%R\n",
    "##\n",
    "## Se leen los datos\n",
    "##\n",
    "transactions <- read.transactions(\"data.csv\", sep = \",\")"
   ]
  },
  {
   "cell_type": "code",
   "execution_count": 6,
   "metadata": {},
   "outputs": [
    {
     "name": "stdout",
     "output_type": "stream",
     "text": [
      "     items        \n",
      "[1]  {x1,x2,x3}   \n",
      "[2]  {x1,x3}      \n",
      "[3]  {x2,x4}      \n",
      "[4]  {x1,x2,x3}   \n",
      "[5]  {x1,x2,x5}   \n",
      "[6]  {x1,x2,x3,x4}\n",
      "[7]  {x4,x6}      \n",
      "[8]  {x1,x2,x4,x6}\n",
      "[9]  {x1,x3,x4}   \n",
      "[10] {x1,x2,x3}   \n"
     ]
    }
   ],
   "source": [
    "%%R\n",
    "##\n",
    "## Se imprimen los items por transacción\n",
    "##\n",
    "inspect(transactions)"
   ]
  },
  {
   "cell_type": "markdown",
   "metadata": {},
   "source": [
    "### Análisis exploratorio"
   ]
  },
  {
   "cell_type": "code",
   "execution_count": 7,
   "metadata": {},
   "outputs": [
    {
     "name": "stdout",
     "output_type": "stream",
     "text": [
      "transactions as itemMatrix in sparse format with\n",
      " 10 rows (elements/itemsets/transactions) and\n",
      " 6 columns (items) and a density of 0.4833333 \n",
      "\n",
      "most frequent items:\n",
      "     x1      x2      x3      x4      x6 (Other) \n",
      "      8       7       6       5       2       1 \n",
      "\n",
      "element (itemset/transaction) length distribution:\n",
      "sizes\n",
      "2 3 4 \n",
      "3 5 2 \n",
      "\n",
      "   Min. 1st Qu.  Median    Mean 3rd Qu.    Max. \n",
      "   2.00    2.25    3.00    2.90    3.00    4.00 \n",
      "\n",
      "includes extended item information - examples:\n",
      "  labels\n",
      "1     x1\n",
      "2     x2\n",
      "3     x3\n"
     ]
    }
   ],
   "source": [
    "%%R\n",
    "##\n",
    "## Se obtiene la información más relevante de los datos:\n",
    "##\n",
    "##    * Número de transacciones\n",
    "##    * Número total de ítems\n",
    "##    * Número de transacciones por cantidad de ítems (y cuartiles)\n",
    "##\n",
    "summary(transactions)"
   ]
  },
  {
   "cell_type": "code",
   "execution_count": 8,
   "metadata": {},
   "outputs": [
    {
     "name": "stdout",
     "output_type": "stream",
     "text": [
      " x1  x2  x3  x4  x5  x6 \n",
      "0.8 0.7 0.6 0.5 0.1 0.2 \n"
     ]
    }
   ],
   "source": [
    "%%R\n",
    "##\n",
    "## Se imprime la frequencia de compra, es decir,  \n",
    "## la frecuencia de cada ítem en el total de trasacciones\n",
    "##\n",
    "itemFrequency(transactions)"
   ]
  },
  {
   "cell_type": "code",
   "execution_count": 9,
   "metadata": {},
   "outputs": [
    {
     "data": {
      "image/png": "[encoded data removed]"
     },
     "metadata": {},
     "output_type": "display_data"
    }
   ],
   "source": [
    "%%R\n",
    "##\n",
    "## Se grafica un histograma que muestra la frecuencia\n",
    "## con que se compraron ciertos items. El parámetro\n",
    "## `support`  corresponde a la frecuencia mínima que\n",
    "## deben tener un item para que sea incluído en la gráfica.\n",
    "## En este caso un item debe aparecer en 0.2 * 10 = 2\n",
    "## transacciones para ser tenido en cuenta. Nóte que no\n",
    "## aparece x5.\n",
    "##\n",
    "options(repr.plot.width = 3, repr.plot.height = 2)\n",
    "itemFrequencyPlot(transactions, support = 0.2)"
   ]
  },
  {
   "cell_type": "code",
   "execution_count": 10,
   "metadata": {},
   "outputs": [
    {
     "data": {
      "image/png": "[encoded data removed]"
     },
     "metadata": {},
     "output_type": "display_data"
    }
   ],
   "source": [
    "%%R\n",
    "##\n",
    "## Se obtiene la misma gráfica anterior \n",
    "## pero para los ítems más comprados.\n",
    "## La gráfica muestra que x1 es el más comprado\n",
    "## y x5 el menos comprado\n",
    "##\n",
    "options(repr.plot.width = 3, repr.plot.height = 2)\n",
    "itemFrequencyPlot(transactions, topN = 6)"
   ]
  },
  {
   "cell_type": "markdown",
   "metadata": {},
   "source": [
    "### Construcción del sistema de reglas de asociación"
   ]
  },
  {
   "cell_type": "code",
   "execution_count": 11,
   "metadata": {},
   "outputs": [
    {
     "name": "stdout",
     "output_type": "stream",
     "text": [
      "Apriori\n",
      "\n",
      "Parameter specification:\n",
      " confidence minval smax arem  aval originalSupport maxtime support minlen\n",
      "        0.8    0.1    1 none FALSE            TRUE       5     0.1      1\n",
      " maxlen target   ext\n",
      "     10  rules FALSE\n",
      "\n",
      "Algorithmic control:\n",
      " filter tree heap memopt load sort verbose\n",
      "    0.1 TRUE TRUE  FALSE TRUE    2    TRUE\n",
      "\n",
      "Absolute minimum support count: 1 \n",
      "\n",
      "set item appearances ...[0 item(s)] done [0.00s].\n",
      "set transactions ...[6 item(s), 10 transaction(s)] done [0.00s].\n",
      "sorting and recoding items ... [6 item(s)] done [0.00s].\n",
      "creating transaction tree ... done [0.00s].\n",
      "checking subsets of size 1 2 3 4 done [0.00s].\n",
      "writing ... [18 rule(s)] done [0.00s].\n",
      "creating S4 object  ... done [0.00s].\n",
      "set of 18 rules \n"
     ]
    }
   ],
   "source": [
    "%%R\n",
    "##\n",
    "## La corrida con los parámetros por defecto de la\n",
    "## función no generan reglas para los datos suministrados.\n",
    "## El valor por defecto de support es 0.1, es decir,\n",
    "## un item debe aparecer en un mínimo de 1 transacciones\n",
    "## para ser considerado.\n",
    "##\n",
    "apriori(transactions)"
   ]
  },
  {
   "cell_type": "code",
   "execution_count": 12,
   "metadata": {},
   "outputs": [
    {
     "name": "stdout",
     "output_type": "stream",
     "text": [
      "Apriori\n",
      "\n",
      "Parameter specification:\n",
      " confidence minval smax arem  aval originalSupport maxtime support minlen\n",
      "       0.25    0.1    1 none FALSE            TRUE       5   0.006      2\n",
      " maxlen target   ext\n",
      "     10  rules FALSE\n",
      "\n",
      "Algorithmic control:\n",
      " filter tree heap memopt load sort verbose\n",
      "    0.1 TRUE TRUE  FALSE TRUE    2    TRUE\n",
      "\n",
      "Absolute minimum support count: 0 \n",
      "\n",
      "set item appearances ...[0 item(s)] done [0.00s].\n",
      "set transactions ...[6 item(s), 10 transaction(s)] done [0.00s].\n",
      "sorting and recoding items ... [6 item(s)] done [0.00s].\n",
      "creating transaction tree ... done [0.00s].\n",
      "checking subsets of size 1 2 3 4 done [0.00s].\n",
      "writing ... [48 rule(s)] done [0.00s].\n",
      "creating S4 object  ... done [0.00s].\n"
     ]
    }
   ],
   "source": [
    "%%R\n",
    "##\n",
    "## El parámetro confianza representa el porcentaje mínimo\n",
    "## de veces que una regla debe ser correcta para que \n",
    "## sea considerada; esto permite eliminar reglas sin\n",
    "## sentido. El parámetro minlen indica que las reglas \n",
    "## deben contener al menos 2 items.\n",
    "##\n",
    "transactionsrules <- apriori(transactions, \n",
    "                        parameter = list(support = 0.006, \n",
    "                                         confidence = 0.25, \n",
    "                                         minlen = 2))"
   ]
  },
  {
   "cell_type": "code",
   "execution_count": 13,
   "metadata": {},
   "outputs": [
    {
     "name": "stdout",
     "output_type": "stream",
     "text": [
      "set of 48 rules \n"
     ]
    }
   ],
   "source": [
    "%%R\n",
    "##\n",
    "## Número de reglas generadas.\n",
    "## Se generaron 48 reglas\n",
    "##\n",
    "transactionsrules"
   ]
  },
  {
   "cell_type": "code",
   "execution_count": 14,
   "metadata": {},
   "outputs": [
    {
     "name": "stdout",
     "output_type": "stream",
     "text": [
      "set of 48 rules\n",
      "\n",
      "rule length distribution (lhs + rhs):sizes\n",
      " 2  3  4 \n",
      "18 22  8 \n",
      "\n",
      "   Min. 1st Qu.  Median    Mean 3rd Qu.    Max. \n",
      "  2.000   2.000   3.000   2.792   3.000   4.000 \n",
      "\n",
      "summary of quality measures:\n",
      "    support         confidence          lift            count      \n",
      " Min.   :0.1000   Min.   :0.2500   Min.   :0.5000   Min.   :1.000  \n",
      " 1st Qu.:0.1000   1st Qu.:0.4821   1st Qu.:0.7143   1st Qu.:1.000  \n",
      " Median :0.1000   Median :0.6667   Median :1.0714   Median :1.000  \n",
      " Mean   :0.2104   Mean   :0.6715   Mean   :1.1288   Mean   :2.104  \n",
      " 3rd Qu.:0.3000   3rd Qu.:1.0000   3rd Qu.:1.2946   3rd Qu.:3.000  \n",
      " Max.   :0.6000   Max.   :1.0000   Max.   :2.5000   Max.   :6.000  \n",
      "\n",
      "mining info:\n",
      "         data ntransactions support confidence\n",
      " transactions            10   0.006       0.25\n"
     ]
    }
   ],
   "source": [
    "%%R\n",
    "##\n",
    "## Se imprime un resumen de las reglas generadas.\n",
    "##\n",
    "##   * Hay 18 reglas con 2 ítems, 22 reglas con 3 ítems\n",
    "##     y así sucesivamente.\n",
    "##\n",
    "##   * Luego se imprimen los estadísticos para la cantidad\n",
    "##     de reglas por ítem\n",
    "##\n",
    "##   * Seguidamente aparece el resumen de las métricas de\n",
    "##     las reglas de asociación\n",
    "##\n",
    "summary(transactionsrules)"
   ]
  },
  {
   "cell_type": "code",
   "execution_count": 15,
   "metadata": {},
   "outputs": [
    {
     "name": "stdout",
     "output_type": "stream",
     "text": [
      "     lhs           rhs  support confidence lift      count\n",
      "[1]  {x5}       => {x2} 0.1     1.0000000  1.4285714 1    \n",
      "[2]  {x5}       => {x1} 0.1     1.0000000  1.2500000 1    \n",
      "[3]  {x6}       => {x4} 0.2     1.0000000  2.0000000 2    \n",
      "[4]  {x4}       => {x6} 0.2     0.4000000  2.0000000 2    \n",
      "[5]  {x6}       => {x2} 0.1     0.5000000  0.7142857 1    \n",
      "[6]  {x6}       => {x1} 0.1     0.5000000  0.6250000 1    \n",
      "[7]  {x4}       => {x3} 0.2     0.4000000  0.6666667 2    \n",
      "[8]  {x3}       => {x4} 0.2     0.3333333  0.6666667 2    \n",
      "[9]  {x4}       => {x2} 0.3     0.6000000  0.8571429 3    \n",
      "[10] {x2}       => {x4} 0.3     0.4285714  0.8571429 3    \n",
      "[11] {x4}       => {x1} 0.3     0.6000000  0.7500000 3    \n",
      "[12] {x1}       => {x4} 0.3     0.3750000  0.7500000 3    \n",
      "[13] {x3}       => {x2} 0.4     0.6666667  0.9523810 4    \n",
      "[14] {x2}       => {x3} 0.4     0.5714286  0.9523810 4    \n",
      "[15] {x3}       => {x1} 0.6     1.0000000  1.2500000 6    \n",
      "[16] {x1}       => {x3} 0.6     0.7500000  1.2500000 6    \n",
      "[17] {x2}       => {x1} 0.6     0.8571429  1.0714286 6    \n",
      "[18] {x1}       => {x2} 0.6     0.7500000  1.0714286 6    \n",
      "[19] {x2,x5}    => {x1} 0.1     1.0000000  1.2500000 1    \n",
      "[20] {x1,x5}    => {x2} 0.1     1.0000000  1.4285714 1    \n",
      "[21] {x4,x6}    => {x2} 0.1     0.5000000  0.7142857 1    \n",
      "[22] {x2,x6}    => {x4} 0.1     1.0000000  2.0000000 1    \n",
      "[23] {x2,x4}    => {x6} 0.1     0.3333333  1.6666667 1    \n",
      "[24] {x4,x6}    => {x1} 0.1     0.5000000  0.6250000 1    \n",
      "[25] {x1,x6}    => {x4} 0.1     1.0000000  2.0000000 1    \n",
      "[26] {x1,x4}    => {x6} 0.1     0.3333333  1.6666667 1    \n",
      "[27] {x2,x6}    => {x1} 0.1     1.0000000  1.2500000 1    \n",
      "[28] {x1,x6}    => {x2} 0.1     1.0000000  1.4285714 1    \n",
      "[29] {x3,x4}    => {x2} 0.1     0.5000000  0.7142857 1    \n",
      "[30] {x2,x4}    => {x3} 0.1     0.3333333  0.5555556 1    \n",
      "[31] {x2,x3}    => {x4} 0.1     0.2500000  0.5000000 1    \n",
      "[32] {x3,x4}    => {x1} 0.2     1.0000000  1.2500000 2    \n",
      "[33] {x1,x4}    => {x3} 0.2     0.6666667  1.1111111 2    \n",
      "[34] {x1,x3}    => {x4} 0.2     0.3333333  0.6666667 2    \n",
      "[35] {x2,x4}    => {x1} 0.2     0.6666667  0.8333333 2    \n",
      "[36] {x1,x4}    => {x2} 0.2     0.6666667  0.9523810 2    \n",
      "[37] {x1,x2}    => {x4} 0.2     0.3333333  0.6666667 2    \n",
      "[38] {x2,x3}    => {x1} 0.4     1.0000000  1.2500000 4    \n",
      "[39] {x1,x3}    => {x2} 0.4     0.6666667  0.9523810 4    \n",
      "[40] {x1,x2}    => {x3} 0.4     0.6666667  1.1111111 4    \n",
      "[41] {x2,x4,x6} => {x1} 0.1     1.0000000  1.2500000 1    \n",
      "[42] {x1,x4,x6} => {x2} 0.1     1.0000000  1.4285714 1    \n",
      "[43] {x1,x2,x6} => {x4} 0.1     1.0000000  2.0000000 1    \n",
      "[44] {x1,x2,x4} => {x6} 0.1     0.5000000  2.5000000 1    \n",
      "[45] {x2,x3,x4} => {x1} 0.1     1.0000000  1.2500000 1    \n",
      "[46] {x1,x3,x4} => {x2} 0.1     0.5000000  0.7142857 1    \n",
      "[47] {x1,x2,x4} => {x3} 0.1     0.5000000  0.8333333 1    \n",
      "[48] {x1,x2,x3} => {x4} 0.1     0.2500000  0.5000000 1    \n"
     ]
    }
   ],
   "source": [
    "%%R\n",
    "##\n",
    "## Visualización de todas las reglas.\n",
    "##\n",
    "inspect(transactionsrules)"
   ]
  },
  {
   "cell_type": "code",
   "execution_count": 16,
   "metadata": {},
   "outputs": [
    {
     "name": "stdout",
     "output_type": "stream",
     "text": [
      "    lhs           rhs  support confidence lift count\n",
      "[1] {x1,x2,x4} => {x6} 0.1     0.5        2.5  1    \n",
      "[2] {x6}       => {x4} 0.2     1.0        2.0  2    \n",
      "[3] {x4}       => {x6} 0.2     0.4        2.0  2    \n",
      "[4] {x2,x6}    => {x4} 0.1     1.0        2.0  1    \n",
      "[5] {x1,x6}    => {x4} 0.1     1.0        2.0  1    \n"
     ]
    }
   ],
   "source": [
    "%%R\n",
    "##\n",
    "## Se puede inspeccionar un conjunto de reglas en particular\n",
    "##\n",
    "inspect(sort(transactionsrules, by = \"lift\")[1:5])"
   ]
  },
  {
   "cell_type": "code",
   "execution_count": 17,
   "metadata": {},
   "outputs": [
    {
     "name": "stdout",
     "output_type": "stream",
     "text": [
      "     lhs           rhs  support confidence lift      count\n",
      "[1]  {x5}       => {x2} 0.1     1.0000000  1.4285714 1    \n",
      "[2]  {x5}       => {x1} 0.1     1.0000000  1.2500000 1    \n",
      "[3]  {x6}       => {x4} 0.2     1.0000000  2.0000000 2    \n",
      "[4]  {x4}       => {x6} 0.2     0.4000000  2.0000000 2    \n",
      "[5]  {x6}       => {x2} 0.1     0.5000000  0.7142857 1    \n",
      "[6]  {x6}       => {x1} 0.1     0.5000000  0.6250000 1    \n",
      "[7]  {x4}       => {x3} 0.2     0.4000000  0.6666667 2    \n",
      "[8]  {x3}       => {x4} 0.2     0.3333333  0.6666667 2    \n",
      "[9]  {x4}       => {x2} 0.3     0.6000000  0.8571429 3    \n",
      "[10] {x2}       => {x4} 0.3     0.4285714  0.8571429 3    \n",
      "[11] {x4}       => {x1} 0.3     0.6000000  0.7500000 3    \n",
      "[12] {x1}       => {x4} 0.3     0.3750000  0.7500000 3    \n",
      "[13] {x3}       => {x2} 0.4     0.6666667  0.9523810 4    \n",
      "[14] {x2}       => {x3} 0.4     0.5714286  0.9523810 4    \n",
      "[15] {x3}       => {x1} 0.6     1.0000000  1.2500000 6    \n",
      "[16] {x1}       => {x3} 0.6     0.7500000  1.2500000 6    \n",
      "[17] {x2}       => {x1} 0.6     0.8571429  1.0714286 6    \n",
      "[18] {x1}       => {x2} 0.6     0.7500000  1.0714286 6    \n",
      "[19] {x2,x5}    => {x1} 0.1     1.0000000  1.2500000 1    \n",
      "[20] {x1,x5}    => {x2} 0.1     1.0000000  1.4285714 1    \n",
      "[21] {x4,x6}    => {x2} 0.1     0.5000000  0.7142857 1    \n",
      "[22] {x2,x6}    => {x4} 0.1     1.0000000  2.0000000 1    \n",
      "[23] {x2,x4}    => {x6} 0.1     0.3333333  1.6666667 1    \n",
      "[24] {x4,x6}    => {x1} 0.1     0.5000000  0.6250000 1    \n",
      "[25] {x1,x6}    => {x4} 0.1     1.0000000  2.0000000 1    \n",
      "[26] {x1,x4}    => {x6} 0.1     0.3333333  1.6666667 1    \n",
      "[27] {x2,x6}    => {x1} 0.1     1.0000000  1.2500000 1    \n",
      "[28] {x1,x6}    => {x2} 0.1     1.0000000  1.4285714 1    \n",
      "[29] {x3,x4}    => {x2} 0.1     0.5000000  0.7142857 1    \n",
      "[30] {x2,x4}    => {x3} 0.1     0.3333333  0.5555556 1    \n",
      "[31] {x2,x3}    => {x4} 0.1     0.2500000  0.5000000 1    \n",
      "[32] {x3,x4}    => {x1} 0.2     1.0000000  1.2500000 2    \n",
      "[33] {x1,x4}    => {x3} 0.2     0.6666667  1.1111111 2    \n",
      "[34] {x1,x3}    => {x4} 0.2     0.3333333  0.6666667 2    \n",
      "[35] {x2,x4}    => {x1} 0.2     0.6666667  0.8333333 2    \n",
      "[36] {x1,x4}    => {x2} 0.2     0.6666667  0.9523810 2    \n",
      "[37] {x1,x2}    => {x4} 0.2     0.3333333  0.6666667 2    \n",
      "[38] {x2,x3}    => {x1} 0.4     1.0000000  1.2500000 4    \n",
      "[39] {x1,x3}    => {x2} 0.4     0.6666667  0.9523810 4    \n",
      "[40] {x1,x2}    => {x3} 0.4     0.6666667  1.1111111 4    \n",
      "[41] {x2,x4,x6} => {x1} 0.1     1.0000000  1.2500000 1    \n",
      "[42] {x1,x4,x6} => {x2} 0.1     1.0000000  1.4285714 1    \n",
      "[43] {x1,x2,x6} => {x4} 0.1     1.0000000  2.0000000 1    \n",
      "[44] {x1,x2,x4} => {x6} 0.1     0.5000000  2.5000000 1    \n",
      "[45] {x2,x3,x4} => {x1} 0.1     1.0000000  1.2500000 1    \n",
      "[46] {x1,x3,x4} => {x2} 0.1     0.5000000  0.7142857 1    \n",
      "[47] {x1,x2,x4} => {x3} 0.1     0.5000000  0.8333333 1    \n",
      "[48] {x1,x2,x3} => {x4} 0.1     0.2500000  0.5000000 1    \n"
     ]
    }
   ],
   "source": [
    "%%R\n",
    "##\n",
    "## Se puede obtener un subconjunto de las reglas que\n",
    "## cumplen una condición particular\n",
    "##\n",
    "berryrules <- subset(transactionsrules, items %in% \"x2\")\n",
    "inspect(transactionsrules)"
   ]
  },
  {
   "cell_type": "markdown",
   "metadata": {},
   "source": [
    "---"
   ]
  },
  {
   "cell_type": "code",
   "execution_count": null,
   "metadata": {},
   "outputs": [],
   "source": [
    "!rm data.csv"
   ]
  },
  {
   "cell_type": "markdown",
   "metadata": {},
   "source": [
    "## Solución a las actividades"
   ]
  },
  {
   "cell_type": "markdown",
   "metadata": {},
   "source": [
    "     #  Productos\n",
    "    --------------------\n",
    "     1  x1, x2, x3\n",
    "     2  x1, x3\n",
    "     3  x2, x4\n",
    "     4  x1, x2, x3\n",
    "     5  x1, x2, x5\n",
    "     6  x1, x2, x3, x4\n",
    "     7  x4, x6\n",
    "     8  x1, x2, x4, x6\n",
    "     9  x1, x3, x4\n",
    "    10  x1, x2, x3"
   ]
  },
  {
   "cell_type": "markdown",
   "metadata": {},
   "source": [
    "**Actividad 1.---** ¿Cuántas reglas posibles hay para el caso anterior?\n",
    "\n",
    "    x2 -> x1     x1 -> x2     x1 -> x3     x1 -> x4\n",
    "    x3 -> x1     x3 -> x2     x2 -> x3     x2 -> x4\n",
    "    x4 -> x1     x4 -> x2     x4 -> x3     x3 -> x4\n",
    "    \n",
    "    {x2, x3} -> x1     {x1, x3} -> x2     {x1, x2} -> x3     {x1, x2} -> x4     \n",
    "    {x2, x4} -> x1     {x1, x4} -> x2     {x1, x4} -> x3     {x1, x3} -> x4\n",
    "    {x3, x4} -> x1     {x3, x4} -> x2     {x2, x4} -> x3     {x2, x3} -> x4\n",
    "    \n",
    "    x1 -> {x2, x3}     x2 -> {x1, x3}     x3 -> {x1, x2}     x4 -> {x1, x2}\n",
    "    x1 -> {x2, x4}     x2 -> {x1, x4}     x3 -> {x1, x4}     x4 -> {x1, x3}\n",
    "    x1 -> {x3, x4}     x2 -> {x3, x4}     x3 -> {x2, x4}     x4 -> {x2, x3}\n",
    "    \n",
    "    {x2, x3, x4} -> x1         x1 -> {x2, x3, x4}\n",
    "    {x1, x3, x4} -> x2         x2 -> {x1, x3, x4}\n",
    "    {x1, x2, x4} -> x3         x3 -> {x1, x2, x4}\n",
    "    {x1, x2, x3} -> x4         x4 -> {x1, x2, x3}\n",
    "    \n",
    "    {x1, x2} -> {x3, x4}    {x2, x3} -> {x1, x4}\n",
    "    {x1, x3} -> {x2, x4}    {x2, x4} -> {x1, x3}\n",
    "    {x1, x4} -> {x2, x3}    {x3, x4} -> {x1, x2}\n",
    "    "
   ]
  },
  {
   "cell_type": "markdown",
   "metadata": {},
   "source": [
    "**Actividad 2.---** Calcule el soporte para $x_1$, ..., $x_6$, esto es, la probabilidad de que $x_i$ aparezca en una transacción. Si el soporte mínimo requerido es del 40%, ¿cuáles ítems debe seleccionarse?\n",
    "\n",
    "         X   support   seleccionado\n",
    "     --------------------------------\n",
    "        x1      8/10             Si\n",
    "        x2      7/10             Si\n",
    "        x3      6/10             Si\n",
    "        x4      5/10             Si\n",
    "        x5      1/10             No\n",
    "        x6      2/10             No\n",
    "        \n",
    "        Se descartan {x5, x6}"
   ]
  },
  {
   "cell_type": "markdown",
   "metadata": {},
   "source": [
    "**Actividad 3.---** Cuáles las combinaciones de dos ítems que deben ser consideradas de acuerdo con el resultado del ejercicio anterior? Cúales cumplen con un soporte mínimo del 40%?\n",
    "\n",
    "              X   support   seleccionado\n",
    "     -------------------------------------\n",
    "       {x1, x2}      6/10             Si\n",
    "       {x1, x3}      6/10             Si\n",
    "       {x1, x4}      3/10             No\n",
    "       {x2, x3}      4/10             Si\n",
    "       {x2, x4}      3/10             No\n",
    "       {x3, x4}      2/10             No\n",
    "               \n",
    "       Solo se consideran combinaciones de {x1, x2, x3}"
   ]
  },
  {
   "cell_type": "markdown",
   "metadata": {},
   "source": [
    "**Actividad 4.---** Cúales combinaciones de tres ítems pueden considerarse y cuáles cumplen con el soporte mínimo requerido?\n",
    "\n",
    "                X   support   seleccionado\n",
    "     ---------------------------------------\n",
    "     {x1, x2, x3}      4/10             Si\n"
   ]
  },
  {
   "cell_type": "markdown",
   "metadata": {},
   "source": [
    "**Actividad 5.---** Para todas las combinaciones que cumplen con el soporte mínimo requerido, forme las correspodientes reglas y cómpute la confianza y el lift. Si la confianza mínima es del 70%, ¿cuáles reglas deben ser seleccionadas?\n",
    "\n",
    "\n",
    "     Combinación    Reglas                Confianza             Lift  Seleccionada\n",
    "    ------------------------------------------------------------------------------\n",
    "     {x1, x2}       {x1}     -> {x2}      75% = 6/8   (6/8) / (7/10)            Si\n",
    "                    {x2}     -> {x1}      86% = 6/7   (6/7) / (8/10)            Si\n",
    "    ------------------------------------------------------------------------------\n",
    "     {x1, x3}       {x1}     -> {x3}            6/8   (6/8) / (6/10)            Si\n",
    "                    {x3}     -> {x1}            6/6   (6/6) / (8/10)            Si\n",
    "    ------------------------------------------------------------------------------\n",
    "     {x2, x3}       {x3}     -> {x2}            4/6   (4/6) / (7/10)            No\n",
    "                    {x2}     -> {x3}            4/7   (4/7) / (6/10)            No\n",
    "    ------------------------------------------------------------------------------\n",
    "     {x1, x2, x3}   {x1}     -> {x2, x3}        4/8   (4/8) / (4/10)            No\n",
    "                    {x2}     -> {x1, x3}        4/7   (4/7) / (6/10)            Np\n",
    "                    {x3}     -> {x1, x2}  67% = 4/6   (4/6) / (6/10)            No\n",
    "                    {x2, x3} -> {x1}            4/4   (4/4) / (8/10)            Si\n",
    "                    {x1, x3} -> {x2}            4/6   (4/6) / (7/10)            No\n",
    "                    {x1, x2} -> {x3}            4/6   (4/6) / (6/10)            No\n",
    "    ------------------------------------------------------------------------------\n",
    " \n",
    "    Reglas seleccionadas:\n",
    "    \n",
    "    {x1}     -> {x2}\n",
    "    {x1}     -> {x3}\n",
    "    {x2}     -> {x1}\n",
    "    {x3}     -> {x1}\n",
    "    {x2, x3} -> {x1}\n",
    "    "
   ]
  }
 ],
 "metadata": {
  "kernel_info": {
   "name": "python3"
  },
  "kernelspec": {
   "display_name": "Python 3",
   "language": "python",
   "name": "python3"
  },
  "language_info": {
   "codemirror_mode": {
    "name": "ipython",
    "version": 3
   },
   "file_extension": ".py",
   "mimetype": "text/x-python",
   "name": "python",
   "nbconvert_exporter": "python",
   "pygments_lexer": "ipython3",
   "version": "3.6.9"
  },
  "nteract": {
   "version": "0.7.1"
  },
  "varInspector": {
   "cols": {
    "lenName": 16,
    "lenType": 16,
    "lenVar": 40
   },
   "kernels_config": {
    "python": {
     "delete_cmd_postfix": "",
     "delete_cmd_prefix": "del ",
     "library": "var_list.py",
     "varRefreshCmd": "print(var_dic_list())"
    },
    "r": {
     "delete_cmd_postfix": ") ",
     "delete_cmd_prefix": "rm(",
     "library": "var_list.r",
     "varRefreshCmd": "cat(var_dic_list()) "
    }
   },
   "types_to_exclude": [
    "module",
    "function",
    "builtin_function_or_method",
    "instance",
    "_Feature"
   ],
   "window_display": false
  }
 },
 "nbformat": 4,
 "nbformat_minor": 4
}
