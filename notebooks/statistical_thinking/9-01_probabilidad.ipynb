{
 "cells": [
  {
   "cell_type": "markdown",
   "metadata": {},
   "source": [
    "Concepto de probabilidad ---\n",
    "===\n",
    "\n",
    "* 0:00 min | Ultima modificación: Octubre 15, 2021 | [YouTube]"
   ]
  },
  {
   "cell_type": "markdown",
   "metadata": {},
   "source": [
    "Objetivo de la Estadística\n",
    "---"
   ]
  },
  {
   "cell_type": "markdown",
   "metadata": {},
   "source": [
    "En términos de los objetivos de este curso, la estadística tiene como fin **derivar conclusiones** sobre una población a partir de un **experimento**."
   ]
  },
  {
   "cell_type": "markdown",
   "metadata": {},
   "source": [
    "Definición de probabilidad como frecuencia\n",
    "---\n",
    "\n",
    "**Espacio muestral:** se define como el conjunto de todos los posibles resultados de un experimento."
   ]
  },
  {
   "cell_type": "markdown",
   "metadata": {
    "slideshow": {
     "slide_type": "slide"
    }
   },
   "source": [
    "**Pregunta.---** En la tirada de dos dados, ¿cuál es el espacio muestral?"
   ]
  },
  {
   "cell_type": "markdown",
   "metadata": {},
   "source": [
    "**Evento:** Es cualquier colección de posibles resultados de un experimento (subconjunto del espacio muestral)."
   ]
  },
  {
   "cell_type": "markdown",
   "metadata": {
    "slideshow": {
     "slide_type": "slide"
    }
   },
   "source": [
    "En su forma más simple, el concepto de probabilidad puede interpretarse como la frecuencia con que ocurre un evento. Por ejempo, si en la tirada de dos dados se definen como un evento la suma de los puntos obtenidos, entonces:\n",
    "\n",
    "![tirada-dados](assets/tirada-dados.jpg)\n",
    "\n",
    "\n",
    "    Pr(𝑋= 2) = 1 / 36   Pr(𝑋= 6) = 5 / 36   Pr(𝑋=10) = 3 / 36\n",
    "    Pr(𝑋= 3) = 2 / 36   Pr(𝑋= 7) = 6 / 36   Pr(𝑋=11) = 2 / 36\n",
    "    Pr(𝑋= 4) = 3 / 36   Pr(𝑋= 8) = 5 / 36   Pr(𝑋=12) = 1 / 36\n",
    "    Pr(𝑋= 5) = 4 / 36   Pr(𝑋= 9) = 4 / 36"
   ]
  },
  {
   "cell_type": "markdown",
   "metadata": {
    "slideshow": {
     "slide_type": "slide"
    }
   },
   "source": [
    "**Pregunta.---** Los soldados mediavales apostaban con dos dados de la siguiente manera: si el resultado es par {2, 4, 6, 8, 10, 12} ganaba el soldado A; y si el resultado es impar {3, 5, 7, 9, 11} ganaba el soldado B. ¿Quién tiene mayor probabilidad de ganar?"
   ]
  },
  {
   "cell_type": "markdown",
   "metadata": {},
   "source": [
    "Diferencia entre los términos deterministico, aleatorio, incierto y estocástico\n",
    "---"
   ]
  },
  {
   "cell_type": "markdown",
   "metadata": {},
   "source": [
    "**Determinístico**: Dada una entrada se sabe exactamente su resultado: $f(x)=x+1$ entonces $f(1)=2$.\n",
    "\n",
    "\n",
    "**Aleatorio**: Se conocen todos sus posibles estados pero no se sabe que evento ocurrira, por ejemplo, la tirada de dos dados.\n",
    "\n",
    "\n",
    "**Incierto**: No se conocen todos los estados posibles que pueden ocurrir, por ejemplo, no se sabe cuantas caras tiene el dado. El principio de incertidumbre dice que en esta situación todos los eventos son igual de probables.\n",
    "\n",
    "**Estocástico**: Hay una componente aleatoria más una componente determinística. Por ejemplo: $f(x)=mx+b+e$ donde $e$ sigue una distribución normal $N(0, \\sigma^2)$."
   ]
  },
  {
   "cell_type": "markdown",
   "metadata": {
    "slideshow": {
     "slide_type": "slide"
    }
   },
   "source": [
    "Propiedades y definiciones básicas sobre probabilidad\n",
    "--"
   ]
  },
  {
   "cell_type": "markdown",
   "metadata": {
    "slideshow": {
     "slide_type": "slide"
    }
   },
   "source": [
    "* Todas las probabilidades deben estar entre $0$ y $1$: \n",
    "\n",
    "\n",
    "$$0 \\le \\text{Pr}(x_i) \\le 1$$\n",
    "\n",
    "\n",
    "* Las probabilidades de eventos mutuamente exclusivos (no pueden ocurrir simultáneamente) y colectivamente exhaustivos (cubren todo el universo de casos posibles) deben sumar la unidad:\n",
    "\n",
    "$$\\sum_{i=1}^n \\text{Pr}(x_i) = 1$$\n",
    "\n",
    "En las siguientes figuras, los eventos F1, F2 y F3, y V1 y V2 están definidos sobre el mismo universo; y son mutuamente exclusivos y colectivamente exhaustivos, tal que se cumplen las dos propiedades anteriores\n",
    "\n",
    "![assets/eventos-conjuntos-2.jpg](assets/eventos-conjuntos-2.jpg)\n",
    "\n",
    "\n",
    "$$\\text{Pr}(F1) + \\text{Pr}(F2) + \\text{Pr}(F3) = 1, \\quad \\qquad \\text{Pr}(V1) + \\text{Pr}(V2) = 1$$ \n",
    "\n"
   ]
  },
  {
   "cell_type": "markdown",
   "metadata": {},
   "source": [
    "Conteo con reemplazo vs conteo sin reemplazo\n",
    "---"
   ]
  },
  {
   "cell_type": "markdown",
   "metadata": {},
   "source": [
    "Un concepto fundamental en probabilidad es realizar el conteo de todos los posibles eventos con el fin de determinar su frecuencia."
   ]
  },
  {
   "cell_type": "markdown",
   "metadata": {},
   "source": [
    "**Definición I**. Si trabajo es compuesto por $k$ tareas individuales, y si tarea $i$ puede ser realizada en $n_i$ formas diferentes, entonces el trabajo puede ser realizado en \n",
    "\n",
    "$$\n",
    "n_1 \\times n_2 \\times \\cdots \\times n_k\n",
    "$$\n",
    "\n",
    "formas diferentes"
   ]
  },
  {
   "cell_type": "markdown",
   "metadata": {},
   "source": [
    "**Ejemplo**. En una loteria, el usuario puede escoger seis números entre 1, 2, ..., 44.\n",
    "\n",
    "* Si el usuario NO puede  seleccionar un número dos veces, entonces los primeros dos números pueden ser seleccionados en $44 \\times 43 = 1,892$ formas diferentes (**Conteo SIN reemplazo**).\n",
    "\n",
    "* Si el usuario SI puede  seleccionar un número dos veces, entonces los primeros dos números pueden ser seleccionados en $44 \\times 44 = 1,936$ formas diferentes (**Conteo CON reemplazo**)."
   ]
  },
  {
   "cell_type": "markdown",
   "metadata": {},
   "source": [
    "Conteo ordenado con reemplazo vs sin reemplazo\n",
    "---"
   ]
  },
  {
   "cell_type": "markdown",
   "metadata": {},
   "source": [
    "Considere una loteria en que el usuario debe seleccioar seis (6) números entre 1, 2, ..., 44 ."
   ]
  },
  {
   "cell_type": "markdown",
   "metadata": {},
   "source": [
    "**Conteo ordenado sin reemplazo**. Se refiere a que el orden de los numeros SI importa, es decir, los resultados\n",
    "\n",
    "     1  33  7  26  11  9\n",
    "     \n",
    "y\n",
    "\n",
    "     33  1  7  26  11  9\n",
    "     \n",
    "son resultados diferentes.\n",
    "\n",
    "En este caso, el número total de tickets es de\n",
    "\n",
    "$$\n",
    "44 \\times 43 \\times 42 \\times 41 \\times 40 \\times 39 = \\frac{44!}{38!} = 5,082,517,440\n",
    "$$"
   ]
  },
  {
   "cell_type": "markdown",
   "metadata": {},
   "source": [
    "**Conteo ordenado con reemplazo**.\n",
    "\n",
    "El número total de tickets es:\n",
    "\n",
    "$$\n",
    "44 \\times 44 \\times 44 \\times 44 \\times 44 \\times 44 = 44^6 = 7,256,313,856\n",
    "$$"
   ]
  },
  {
   "cell_type": "markdown",
   "metadata": {},
   "source": [
    "**Conteo no ordenado sin reemplazo**. El denominador se obtiene al considerar cuantas secuencias se pueden armar con seis números diferentes.\n",
    "\n",
    "\n",
    "$$\n",
    "\\frac{44 \\times 43 \\times 42 \\times 41 \\times 40 \\times 39}\n",
    "{6 \\times 5 \\times 4 \\times 3 \\times 2 \\times 1} = \\frac{44!}{6! \\times 38!} = \n",
    "\\binom{44}{6} =\n",
    "7,059,052\n",
    "$$\n",
    "\n",
    "con:\n",
    "\n",
    "$$\n",
    "\\binom{n}{r} = \\frac{n!}{r! \\times (n-r)!}\n",
    "$$\n",
    "\n"
   ]
  },
  {
   "cell_type": "markdown",
   "metadata": {},
   "source": [
    "**Conteo no ordenado con reemplazo**\n",
    "\n",
    "$$\n",
    "\\binom{n+r-1}{r}\n",
    "$$"
   ]
  },
  {
   "cell_type": "markdown",
   "metadata": {},
   "source": [
    "**Ejercicio** Considere una baraja inglesa que contiene las siguientes cartas\n",
    "\n",
    "\n",
    "    A  2  3  4  5  6  7  8  9  10  J  Q  K\n",
    "    \n",
    "para cada uno de los cuatro palos:\n",
    "\n",
    "* Picas (o espadas).\n",
    "\n",
    "* Corazones (o copas).\n",
    "\n",
    "* Rombos (o diamantes, oros o cocos).\n",
    "\n",
    "* Tréboles (o flores o bastos).\n",
    "\n",
    "Es decir, 52 cartas en total. Si se realiza un juego con manos de cinco cartas, responda las siguientes preguntas:"
   ]
  },
  {
   "cell_type": "markdown",
   "metadata": {},
   "source": [
    "* Cuántas manos diferentes hay?\n",
    "\n",
    "* Cuál es la probabilidad de obtener cuatro aces?\n",
    "\n",
    "* Cuál es la probbilidad de obtener cuatro cartas del mismo palo?\n",
    "\n",
    "* Cuál es la probabilidad de obtener exactamente un par?\n",
    "\n",
    "* "
   ]
  },
  {
   "cell_type": "code",
   "execution_count": null,
   "metadata": {},
   "outputs": [],
   "source": []
  },
  {
   "cell_type": "code",
   "execution_count": null,
   "metadata": {},
   "outputs": [],
   "source": []
  },
  {
   "cell_type": "code",
   "execution_count": null,
   "metadata": {},
   "outputs": [],
   "source": []
  },
  {
   "cell_type": "markdown",
   "metadata": {
    "slideshow": {
     "slide_type": "slide"
    }
   },
   "source": [
    "### Probabilidad conjunta\n",
    "\n",
    "Los eventos considerados ocurren simultáneamente. En la siguiente figura, los eventos F1 y V2 ocurren simultáneamente (área sombreada de la figura), tal que su probabilidad conjunta es:\n",
    "\n",
    "$$\\text{Pr}(F1~\\text{and}~V2)$$\n",
    "\n",
    "![assets/probabilidad-conjunta-3.jpg](assets/probabilidad-conjunta-3.jpg)\n"
   ]
  },
  {
   "cell_type": "markdown",
   "metadata": {
    "slideshow": {
     "slide_type": "fragment"
    }
   },
   "source": [
    "### Probabilidad condicional\n",
    "\n",
    "Es la probabilidad de que ocurra un evento sabiendo que el otro ya ocurrio. En la siguiente figura el evento V2 es condicionar a la ocurrencia F1. Noté que en la siguiente figura, el universo no es el rectángulo anterior que cubre todos los eventos, si no el evento F1. De esta forma, la probabilidad condicional es sólo la proporción de V2 que se intercepta con F1, la cual corresponde a la porción sombreada de la figura de abajo. La siguiente expresión matemática permite calcular la probabilidad condicional en términos de la probabilidad conjunta.\n",
    "\n",
    "$$\\text{Pr}(V2 \\; | \\; F1) = \\text{Pr}(F1 \\; \\text{and} \\; V2) \\; / \\; \\text{Pr}(F1)$$\n",
    "\n",
    "En otras palabras, \n",
    "\n",
    "$$\\text{Pr}(A \\; | \\; B) * \\text{Pr}(B) = \\text{Pr}(A \\; \\text{and} \\; B)$$\n",
    "\n",
    "para dos eventos A y B.\n",
    "\n",
    "![assets/probabilidad-condicional.jpg](assets/probabilidad-condicional.jpg)\n"
   ]
  },
  {
   "cell_type": "markdown",
   "metadata": {
    "slideshow": {
     "slide_type": "slide"
    }
   },
   "source": [
    "### Independencia\n",
    "\n",
    "Si los eventos $A$ y $B$ son independientes, la probabilidad condicional del evento A dado que ocurrio el evento B es igual a la probabilidad del evento A:\n",
    "\n",
    "$$\\text{Pr}(A \\; |  \\; B) = \\text{Pr}(A)$$\n",
    "\n",
    "De la definición de probabilidad condicional:\n",
    "\n",
    "$$\\text{Pr}(A  \\; |  \\; B) = \\text{Pr}(A) = \\frac{\\text{Pr}(A\\text{ and }B)}{\\text{Pr}(B)}$$\n",
    "\n",
    "Entonces:\n",
    "\n",
    "$$\\text{Pr}(A\\text{ and } B) \\; =  \\; \\text{Pr}(A) \\; * \\; \\text{Pr}(B)$$ "
   ]
  },
  {
   "cell_type": "markdown",
   "metadata": {
    "slideshow": {
     "slide_type": "slide"
    }
   },
   "source": [
    "### Probabilidad marginal \n",
    "\n",
    "Sea $X_1$ con $i = 1, ... , n$ , un conjunto de eventos mutuamente exclusivos y colectivamente exhaustivos. La probabilidad de un evento $A$ es:\n",
    "\n",
    "$$\\text{Pr}(A) = \\sum_{i=1}^n \\text{Pr}(A\\text{ and }X_i)$$\n",
    "\n",
    "En la siguiente figura se puede observar que para cualquiera de los tres eventos $F_j$ (para $j=1,2,3$)\n",
    "\n",
    "$$\\text{Pr}(F_j) = \\text{Pr}(F_j\\text{ and }V_1) + \\text{Pr}(F_j\\text{ and }V_2)$$\n",
    "\n",
    "y que para los dos eventos $V_i$ ($i=1,2$):\n",
    "\n",
    "$$\\text{Pr}(V_i) = \\text{Pr}(V_i\\text{ and }F_1) + \\text{Pr}(V_i\\text{ and }F_2) + \\text{Pr}(V_i\\text{ and }F_3)$$"
   ]
  },
  {
   "cell_type": "markdown",
   "metadata": {
    "slideshow": {
     "slide_type": "slide"
    }
   },
   "source": [
    "![assets/eventos-conjuntos.jpg](assets/eventos-conjuntos.jpg)"
   ]
  },
  {
   "cell_type": "markdown",
   "metadata": {
    "slideshow": {
     "slide_type": "slide"
    }
   },
   "source": [
    "### Unión (OR)\n",
    "\n",
    "Para dos eventos $A$ y $B$:\n",
    "\n",
    "$$\\text{Pr}(A \\text{ or } B) = \\text{Pr}(A) + \\text{Pr}(B) - \\text{Pr}(A\\text{ and }B)$$\n",
    "\n",
    "En la figura de abajo se observa que al unir las regiones de los eventos F1 y V2, las áreas se traslapan y por tanto hay que restar la intersección.\n",
    "\n",
    "![assets/probabilidad-conjunta.jpg](assets/probabilidad-conjunta-3.jpg)\n"
   ]
  },
  {
   "cell_type": "markdown",
   "metadata": {
    "slideshow": {
     "slide_type": "slide"
    }
   },
   "source": [
    "### Complemento o negación\n",
    "\n",
    "$$\\text{Pr}(\\text{not } A) = 1 - \\text{Pr}(A)$$"
   ]
  },
  {
   "cell_type": "markdown",
   "metadata": {
    "slideshow": {
     "slide_type": "fragment"
    }
   },
   "source": [
    "### Probabilidad total\n",
    "\n",
    "La probabilidad total indica que la probabilidad de un evento A puede calcularse como la probabilidad de que ocurran los eventos A y B simultáneamente más la probabilidad de que ocurran los evento A y *not* B (el complemento de B:\n",
    "\n",
    "$$\\text{Pr}(A) = \\text{Pr}(A\\text{ and } B) + \\text{Pr}(A\\text{ and } \\text{not }B) $$ "
   ]
  },
  {
   "cell_type": "markdown",
   "metadata": {},
   "source": [
    "Para la siguiente figura: \n",
    "\n",
    "$$\n",
    "\\begin{split}\n",
    "\\text{Pr}(V_2) \n",
    "    & = \\text{Pr}(V_2 \\text{ and } F_1) + \\text{Pr}(V_2 \\text{ and not } F_1) \\\\ \\\\\n",
    "    & = \\text{Pr}(V_2 \\text{ and } F_1) + \\text{Pr}(V_2 \\text{ and } (F_2 \\cup F_3)) \\\\ \\\\\n",
    "\\end{split}\n",
    "$$"
   ]
  },
  {
   "cell_type": "markdown",
   "metadata": {
    "slideshow": {
     "slide_type": "slide"
    }
   },
   "source": [
    "![assets/eventos-conjuntos.jpg](assets/eventos-conjuntos.jpg)"
   ]
  },
  {
   "cell_type": "markdown",
   "metadata": {
    "slideshow": {
     "slide_type": "fragment"
    }
   },
   "source": [
    "La ecuación anterior puede expresarse en términos de probabilidades condicionales, tal que:\n",
    "\n",
    "$$\\text{Pr}(A) = \\text{Pr}(A \\; | \\; B) \\; \\text{Pr}(B)  \\; + \\;  \\text{Pr}(A \\; | \\; \\text{not }B)\\text{ Pr}(\\text{not }B)$$"
   ]
  },
  {
   "cell_type": "markdown",
   "metadata": {
    "slideshow": {
     "slide_type": "slide"
    }
   },
   "source": [
    "### Teorema de Bayes\n",
    "\n",
    "A partir de \n",
    "\n",
    "$$\\text{Pr}(A  \\; |  \\; B) = \\frac{\\text{Pr}(A\\text{ and }B)}{\\text{Pr}(B)},  \n",
    "\\quad \n",
    "\\text{Pr}(B  \\; |  \\; A) = \\frac{\\text{Pr}(A\\text{ and }B)}{\\text{Pr}(A)} $$\n",
    "\n",
    "Se obtiene que:\n",
    "\n",
    "$$\\text{Pr}(A \\; | \\; B)\\text{ Pr}({B}) =  \\text{Pr}(B \\; | \\; A) \\; \\text{Pr}({A})$$\n",
    "\n",
    "Despejando $\\text{Pr}(B \\; | \\; A)$,\n",
    "\n",
    "$$\\text{Pr}(B \\; | \\; A) = \n",
    "    \\frac{\\text{Pr}(A \\; | \\; B) \\; \\text{Pr}(B)}{\\text{Pr}(A)} = \n",
    "    \\frac{\\text{Pr}(A \\; | \\; B)~\\text{Pr}(B)} {\\text{Pr}(A \\; | \\; B) \\; \\text{Pr}(B)  \\; + \\;  \\text{Pr}(A \\; | \\; \\text{not }B) \\; \\text{Pr}(\\text{not }B)}$$\n",
    "    \n",
    "En la última ecuación, se aplica el teorema de probabilidad total para el evento A."
   ]
  },
  {
   "cell_type": "markdown",
   "metadata": {
    "slideshow": {
     "slide_type": "slide"
    }
   },
   "source": [
    "**Actividad.---** Complete las siguientes tablas de probabilidades:\n",
    "\n",
    "\n",
    "*Probabilidades totales*:\n",
    "\n",
    "\n",
    "               F1    F2    F3  Prob(V)\n",
    "     ----------------------------------\n",
    "         V1   0.10     ?  0.03       ?\n",
    "         V2      ?  0.26  0.14    0.62\n",
    "     ----------------------------------\n",
    "      Prob(F)    ?     ?     ?        \n",
    "    \n",
    "    \n",
    "*Probabilidades condicionales*:\n",
    "\n",
    "    Prob(F|V)                 Prob(V|F)\n",
    "\n",
    "            F1    F2    F3            F1    F2    F3  \n",
    "    ----------------------    ----------------------\n",
    "      V1 10/38     ?     ?      V1     ? 25/51     ?        \n",
    "      V2     ?     ? 14/62      V2     ?     ?     ?  \n",
    "      "
   ]
  },
  {
   "cell_type": "markdown",
   "metadata": {
    "slideshow": {
     "slide_type": "slide"
    }
   },
   "source": [
    "**Actividad.---** Verifique las dos tablas de probabilidades condicionales calculadas en el ejercicio anterior usando el teorema de Bayes (es decir, calcule `Prob(V|F)` a partir de `Prob(F|V)` y viceversa)."
   ]
  },
  {
   "cell_type": "markdown",
   "metadata": {},
   "source": [
    "Variable aleatoria\n",
    "--"
   ]
  },
  {
   "cell_type": "markdown",
   "metadata": {
    "tags": []
   },
   "source": [
    "Una variable aletoria se define como el resultado de un experimento. Esta puede ser discreta o continua."
   ]
  },
  {
   "cell_type": "markdown",
   "metadata": {},
   "source": [
    "Ejemplos:\n",
    "\n",
    "* La suma resultante de tirar dos datos.\n",
    "\n",
    "* La temperatura media del mes de enero de este año."
   ]
  },
  {
   "cell_type": "markdown",
   "metadata": {},
   "source": [
    "Función de masa de probabilidad\n",
    "---\n",
    "\n",
    "Es una función que da el valor exacto de la probabilidad para una variable aleatoria discreta para un valor determinado. Para la tirada de dos dados, la función vale:\n",
    "\n",
    "    Pr(𝑋= 2) = 1 / 36   Pr(𝑋= 6) = 5 / 36   Pr(𝑋=10) = 3 / 36\n",
    "    Pr(𝑋= 3) = 2 / 36   Pr(𝑋= 7) = 6 / 36   Pr(𝑋=11) = 2 / 36\n",
    "    Pr(𝑋= 4) = 3 / 36   Pr(𝑋= 8) = 5 / 36   Pr(𝑋=12) = 1 / 36\n",
    "    Pr(𝑋= 5) = 4 / 36   Pr(𝑋= 9) = 4 / 36"
   ]
  },
  {
   "cell_type": "markdown",
   "metadata": {},
   "source": [
    "Función de densidad de probabilidad\n",
    "---\n",
    "\n",
    "Es la función de probabilidad asociada a una variable aleatoria continua. "
   ]
  },
  {
   "cell_type": "markdown",
   "metadata": {},
   "source": [
    "El área bajo la función de densidad de probabilidad corresponde a la probabilidad de la variable aletaoria. Debe cumplir con las siguiente propiedadades"
   ]
  },
  {
   "cell_type": "markdown",
   "metadata": {},
   "source": [
    "$$\n",
    "0 \\le f_X(x) \\le 1\n",
    "$$\n",
    "\n",
    "\n",
    "$$\n",
    "\\int_{-\\infty}^\\infty f_X(x) = 1\n",
    "$$"
   ]
  },
  {
   "cell_type": "markdown",
   "metadata": {},
   "source": [
    "Función de probabilidad acumulada y función de supervivencia\n",
    "---"
   ]
  },
  {
   "cell_type": "markdown",
   "metadata": {},
   "source": [
    "La función de probabilidad acumulada retorna la probabilidad de que una variable aleaoria sea menor o igual a un valor $x$:\n",
    "\n",
    "$$\n",
    "F(x) = \\text{Pr}(X\\le x)\n",
    "$$"
   ]
  },
  {
   "cell_type": "markdown",
   "metadata": {},
   "source": [
    "La función de supervivencia retorna la probabilidad de que una variable sea mayor a un valor $x$:\n",
    "\n",
    "$$\n",
    "S(x) = \\text{Pr}(X > x) \n",
    "$$"
   ]
  },
  {
   "cell_type": "markdown",
   "metadata": {},
   "source": [
    "Cuantil\n",
    "---"
   ]
  },
  {
   "cell_type": "markdown",
   "metadata": {},
   "source": [
    "Matriz de confusión\n",
    "---"
   ]
  },
  {
   "cell_type": "markdown",
   "metadata": {},
   "source": [
    "La matriz de confusión es una matriz que permite visualizar el desempeño de un clasificador. La organización típica es la presentada a continuación:"
   ]
  },
  {
   "cell_type": "markdown",
   "metadata": {},
   "source": [
    "             | Pronóstico\n",
    "             |  PP    PN\n",
    "    ---------|------------\n",
    "          P  |  TP    FN \n",
    "    Real     |\n",
    "          N  |  FP    TN                        \n",
    "    \n",
    "    \n",
    "     P - Positive                 TP - Verdadero positivo (correcto)\n",
    "     N - Negative                 TN - Verdadero negativo (correcto)\n",
    "    PP - Predicted Positive       FN - Falso negativo (mal clasificado)\n",
    "    PN - Predicted Negative       FP - Falso positivo (mal clasificado)    "
   ]
  },
  {
   "cell_type": "markdown",
   "metadata": {},
   "source": [
    "Considere la siguiente notación para los casos presentados:\n",
    "\n",
    "* $+$ y $-$ son los eventos de que el pronóstico sea positivo o negativo respectivamente.\n",
    "\n",
    "* $D$ y $D^c$ son los eventos reales positivos o negativos respectivamente."
   ]
  },
  {
   "cell_type": "markdown",
   "metadata": {},
   "source": [
    "Métricas derivadas de la matriz de confusión\n",
    "---"
   ]
  },
  {
   "cell_type": "markdown",
   "metadata": {},
   "source": [
    "**Sensitivity/recall/hit rate/true positive rate**: Es la probabilidad de que el pronóstico sea positivo dado que el valor real es positivo:\n",
    "\n",
    "$$\n",
    "\\text{Pr}(+ \\; | \\; D) = \\frac{\\text{TP}}{\\text{P}}  = \\frac{\\text{TP}}{\\text{TP}+\\text{FN}}\n",
    "$$"
   ]
  },
  {
   "cell_type": "markdown",
   "metadata": {},
   "source": [
    "**Specificity/selectivity/true negative rate** Es la probabilidad de que el pronóstico sea negativo dada que el valor real es negativo:\n",
    "\n",
    "$$\n",
    "\\text{Pr}(- \\; | \\; D^c) = \\frac{\\text{TN}}{\\text{N}}  = \\frac{\\text{TN}}{\\text{FP}+\\text{TN}}\n",
    "$$"
   ]
  },
  {
   "cell_type": "markdown",
   "metadata": {},
   "source": [
    "**Positive predictive value**: Es la probabilidad de que el valor real sea positivo dado que el pronóstico es positivo:\n",
    "\n",
    "$$\n",
    "\\text{Pr}(D \\; | \\; +) = \\frac{\\text{TP}}{\\text{PP}}  = \\frac{\\text{TP}}{\\text{TP}+\\text{FP}}\n",
    "$$"
   ]
  },
  {
   "cell_type": "markdown",
   "metadata": {},
   "source": [
    "**Negative predictive value**: Es la probabilidad de que el valor real sea negativo cuando el pronóstico es negativo:\n",
    "\n",
    "$$\n",
    "\\text{Pr}(D^c \\; | \\; -) = \\frac{\\text{TN}}{\\text{PN}}  = \\frac{\\text{TN}}{\\text{FN}+\\text{TN}}\n",
    "$$"
   ]
  },
  {
   "cell_type": "markdown",
   "metadata": {},
   "source": [
    "**Prevalencia** Es la probabilidad de $P$."
   ]
  },
  {
   "cell_type": "markdown",
   "metadata": {},
   "source": [
    "Radios de verosimilitud y su interpretación\n",
    "---"
   ]
  },
  {
   "cell_type": "markdown",
   "metadata": {},
   "source": [
    "**Radio de verosimilitud de un resultado positivo**\n",
    "\n",
    "$$\n",
    "\\text{DLR}_+ = \n",
    "\\frac{\\text{Pr}(+ \\; | \\; D)}\n",
    "{\\text{Pr}(+ \\; | \\; D^c)} = \n",
    "\\frac{\\text{sensitivity}}{1 - \\text{especifity}}\n",
    "$$\n",
    "\n",
    "Cuantas veces es más probable que se pronostique + si efectivamente es D respecto a no D."
   ]
  },
  {
   "cell_type": "markdown",
   "metadata": {},
   "source": [
    "**Radio de verosimilitud de un resultado negativo**\n",
    "\n",
    "$$\n",
    "\\text{DLR}_- = \n",
    "\\frac{\\text{Pr}(- \\; | \\; D)}\n",
    "{\\text{Pr}(- \\; | \\; D^c)} = \n",
    "\\frac{1 - \\text{sensitivity}}{\\text{especifity}}\n",
    "$$"
   ]
  },
  {
   "cell_type": "markdown",
   "metadata": {},
   "source": [
    "Se interpreta como la relación entre probabilidades."
   ]
  },
  {
   "cell_type": "markdown",
   "metadata": {},
   "source": [
    "El $\\alpha$-ésimo cuantil de una distribución $F$ es el punto $x_\\alpha$ tal que:\n",
    "\n",
    "$$\n",
    "F(x_\\alpha) = \\alpha\n",
    "$$"
   ]
  }
 ],
 "metadata": {
  "kernel_info": {
   "name": "python3"
  },
  "kernelspec": {
   "display_name": "Python 3",
   "language": "python",
   "name": "python3"
  },
  "language_info": {
   "codemirror_mode": {
    "name": "ipython",
    "version": 3
   },
   "file_extension": ".py",
   "mimetype": "text/x-python",
   "name": "python",
   "nbconvert_exporter": "python",
   "pygments_lexer": "ipython3",
   "version": "3.6.9"
  },
  "nteract": {
   "version": "0.7.1"
  },
  "varInspector": {
   "cols": {
    "lenName": 16,
    "lenType": 16,
    "lenVar": 40
   },
   "kernels_config": {
    "python": {
     "delete_cmd_postfix": "",
     "delete_cmd_prefix": "del ",
     "library": "var_list.py",
     "varRefreshCmd": "print(var_dic_list())"
    },
    "r": {
     "delete_cmd_postfix": ") ",
     "delete_cmd_prefix": "rm(",
     "library": "var_list.r",
     "varRefreshCmd": "cat(var_dic_list()) "
    }
   },
   "types_to_exclude": [
    "module",
    "function",
    "builtin_function_or_method",
    "instance",
    "_Feature"
   ],
   "window_display": false
  }
 },
 "nbformat": 4,
 "nbformat_minor": 4
}
