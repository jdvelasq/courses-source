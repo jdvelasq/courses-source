{
 "cells": [
  {
   "cell_type": "markdown",
   "metadata": {
    "slideshow": {
     "slide_type": "slide"
    }
   },
   "source": [
    "Pruebas de Hipótesis --- 12:01 min\n",
    "===\n",
    "\n",
    "* 12:01 min | Ultima modificación: Octubre 17, 2021 | [YouTube](https://youtu.be/uvrI3RQDMDw)"
   ]
  },
  {
   "cell_type": "markdown",
   "metadata": {},
   "source": [
    "Una de las aplicaciones más importantes de las funciones teóricas de probabilidad es la prueba de hipótesis. En este tipo de problemas se quiere determinar si un valor observado (estadístico) proviene de una determinada distribución de probabilidades, con el fin de aceptar o rechazar una hipótesis sobre los datos. El uso de las pruebas de hipótesis es uno de los elementos fundamentales en la construcción de modelos de aprendizaje estadístico."
   ]
  },
  {
   "cell_type": "markdown",
   "metadata": {},
   "source": [
    "## Definición"
   ]
  },
  {
   "cell_type": "markdown",
   "metadata": {},
   "source": [
    "Este es un tipo de prueba que tiene como fin probar una hipótesis (o supuesto), $H_0$, sobre un parámetro o característica de la población versus una hipótesis alternativa complementaria $H_a$, a partir de una muestra de la población. "
   ]
  },
  {
   "cell_type": "markdown",
   "metadata": {},
   "source": [
    "Si $\\theta$ denota un estadístico de la muestra, entonces una prueba de hipótesis es una regla que indica cuando aceptar o rechazar la hipótesis nula: \n",
    "\n",
    "* $H_0: \\theta \\sim (·)$\n",
    "* $H_a: \\text{ en caso contario}$ "
   ]
  },
  {
   "cell_type": "markdown",
   "metadata": {},
   "source": [
    "## Tipos de errores \n",
    "\n",
    "Se puede dar una de las siguientes situaciones:\n",
    "\n",
    "![assets/errores-tipo-I-y-II.jpg](assets/errores-tipo-I-y-II.jpg)\n",
    "\n",
    "* Aceptar $H_0$ cuando $H_0$ es verdadera: Ok!.\n",
    "* Rechazar $H_0$ cuando $H_0$ es falsa: Ok!.\n",
    "* Rechazar $H_0$ cuando $H_0$ es verdadera: Error Tipo I.\n",
    "* Aceptar $H_0$ cuando $H_0$ es falsa: Error Tipo II.\n",
    "\n",
    "Estos cuatro casos están estrechamente relacionados con las matrices de confusión en clasificadores. Por ejemplo, cuando se acepta $H_0$ y $H_0$ es verdadera se tiene un verdadero positivo. Los demás casos se interpretan igual."
   ]
  },
  {
   "cell_type": "markdown",
   "metadata": {},
   "source": [
    "## Tipos de pruebas de hipótesis\n",
    "\n",
    "Se consideran los siguientes tipos:\n",
    "\n",
    "* $H_0: \\theta = a, \\quad H_a: \\theta < a$, cola a la izquierda.\n",
    "\n",
    "\n",
    "* $H_0: \\theta = a, \\quad H_a: \\theta \\ne a$, dos colas.\n",
    "\n",
    "\n",
    "* $H_0: \\theta = a, \\quad H_a: \\theta > a$, cola a la derecha."
   ]
  },
  {
   "cell_type": "markdown",
   "metadata": {},
   "source": [
    "En los tres casos, se desea saber si el valor $a$ está en la región blanca o en la región sombreada de las siguientes figuras. En el caso de la cola a la izquierda, se espera que si $a$ realmente no pertenece a la distribución de probabilidades estipulada, se encuentre ubicado en la región gris y por tanto se pueda rechazar la hipotesis nula; si se supone que $a$ = 1.75, entonces como está ubicado en la región blanca se acepta. "
   ]
  },
  {
   "cell_type": "markdown",
   "metadata": {},
   "source": [
    "![assets/valores-criticos.jpg](assets/valores-criticos.jpg)"
   ]
  },
  {
   "cell_type": "markdown",
   "metadata": {},
   "source": [
    "## Prueba usando valores críticos"
   ]
  },
  {
   "cell_type": "markdown",
   "metadata": {},
   "source": [
    "En esta aproximación:\n",
    "\n",
    "* Se definen las hipótesis nula y alternativa.\n",
    "\n",
    "\n",
    "* Se computa el estadístico a partir de la muestra (el valor de $a$).\n",
    "\n",
    "\n",
    "* Se determina el valor crítico $\\alpha$ a partir del nivel de confianza de la prueba usando la distribución conocida que sigue el estadístico; el valor crítico es un valor pequeño, típicamente el nivel de confianza es igual a 0.01, 0.05 o 0.10. El valor critico permite definir el tamaño de la región o regiones sombreadas en la figura anterior.\n",
    "\n",
    "\n",
    "* Si el valor del estadístico es más crítico que el valor crítico calculado se rechaza $H_0$; en caso contrario se acepta $H_0$ como verdadera."
   ]
  },
  {
   "cell_type": "markdown",
   "metadata": {},
   "source": [
    "**Ejemplo.---** El estadístico $\\theta$ computado a partir de la muestra de datos es 1.75. Determine si la hipótesis nula se acepta o se rechaza para un nivel de confianza de 5% cuando:\n",
    "\n",
    "* $\\theta \\sim \\text{N}(0,1)$ con cola a la izquierda.\n",
    "* $\\theta \\sim \\text{N}(0,1)$ con dos colas.\n",
    "* $\\theta \\sim \\text{N}(0,1)$ con cola a la derecha."
   ]
  },
  {
   "cell_type": "markdown",
   "metadata": {},
   "source": [
    "*Solución*. Para ilustrar el proceso de solución se usará la figura de abajo. \n",
    "\n",
    "\n",
    "* Para la cola a la izquierda se obtiene el valor de $z$ tal que el área sombreada bajo la curva sea de 0.05 (nivel de confianza); esto es, $z=-1.6449$. Esto es lo mismo que decir que el estadístico de interés caerá el 95% de las veces en el área blanca. Como $\\theta=1.75$ está en la región no sombreada, se acepta $H_0$."
   ]
  },
  {
   "cell_type": "code",
   "execution_count": 1,
   "metadata": {},
   "outputs": [],
   "source": [
    "from scipy.stats import norm"
   ]
  },
  {
   "cell_type": "code",
   "execution_count": 2,
   "metadata": {},
   "outputs": [
    {
     "data": {
      "text/plain": [
       "-1.6448536269514729"
      ]
     },
     "execution_count": 2,
     "metadata": {},
     "output_type": "execute_result"
    }
   ],
   "source": [
    "#\n",
    "# Area entre -inf y z tal que el area sea 5%\n",
    "#\n",
    "norm.ppf(0.05)"
   ]
  },
  {
   "cell_type": "markdown",
   "metadata": {},
   "source": [
    "* Para el caso de dos colas, el área sombreada total debe ser igual a 0.05, es decir, cada una de las dos regiones sombreadas debe tener un área de 0.025. En este caso, $z=\\pm 1.9600$. Ya que para una confianza de 0.05, ocurre que $-1.96 \\le \\theta \\le 1.96$ el 95% de las veces, se acepta $H_0$ para $\\theta = 1.75$. "
   ]
  },
  {
   "cell_type": "code",
   "execution_count": 3,
   "metadata": {},
   "outputs": [
    {
     "data": {
      "text/plain": [
       "-1.9599639845400545"
      ]
     },
     "execution_count": 3,
     "metadata": {},
     "output_type": "execute_result"
    }
   ],
   "source": [
    "#\n",
    "# Area entre -inf y z tal que el area sea 5%/2\n",
    "# los puntos +/- z son simétricos respecto al origen\n",
    "#\n",
    "norm.ppf(0.05 / 2)"
   ]
  },
  {
   "cell_type": "markdown",
   "metadata": {},
   "source": [
    "* Para el caso de la cola a la derecha, el área sombreada debe ser igual a 0.05; esto ocurre cuando $z = 1.6449$. Es decir, el 95% de las veces ocurrirá que $-\\infty \\le \\theta \\le 1.6449$, entonces se rechaza $H_0$."
   ]
  },
  {
   "cell_type": "code",
   "execution_count": 4,
   "metadata": {},
   "outputs": [
    {
     "data": {
      "text/plain": [
       "1.6448536269514722"
      ]
     },
     "execution_count": 4,
     "metadata": {},
     "output_type": "execute_result"
    }
   ],
   "source": [
    "#\n",
    "# Area entre -inf y z tal que el area sea 95%\n",
    "#\n",
    "norm.ppf(0.95)"
   ]
  },
  {
   "cell_type": "markdown",
   "metadata": {},
   "source": [
    "(véase la figura anterior)."
   ]
  },
  {
   "cell_type": "markdown",
   "metadata": {},
   "source": [
    "**Actividad.---** Repita el ejercicio anterior para niveles de confianza del 0.01 y el 0.10."
   ]
  },
  {
   "cell_type": "markdown",
   "metadata": {},
   "source": [
    "## Prueba usando el valor-$p$"
   ]
  },
  {
   "cell_type": "markdown",
   "metadata": {},
   "source": [
    "En esta aproximación:\n",
    "\n",
    "* Se definen las hipótesis nula y alternativa.\n",
    "\n",
    "\n",
    "* Se computa el estadístico a partir de la muestra.\n",
    "\n",
    "\n",
    "* Se calcula el valor-$p$ usando la distribución conocida que sigue el estadístico. Este es el valor del área de la distribución de probabilidades en que se rechaza la hipótesis nula.\n",
    "\n",
    "\n",
    "* Se establece el nivel de significancia $\\alpha$ (típicamente 0.01, 0.05 o 0.10) y se compara con el valor-$\\alpha$.\n",
    "\n",
    "\n",
    "* Si el valor-$p$ es menor o igual a $\\alpha$ se rechaza $H_0$; en caso contario se acepta."
   ]
  },
  {
   "cell_type": "markdown",
   "metadata": {},
   "source": [
    "**Ejemplo.---** El estadístico $\\theta$ computado a partir de la muestra de datos es 1.75. Determine si la hipótesis nula se acepta o se rechaza para un nivel de confianza de 0.05 cuando:\n",
    "\n",
    "* $\\theta \\sim \\text{N}(0,1)$ con cola a la izquierda.\n",
    "* $\\theta \\sim \\text{N}(0,1)$ con dos colas.\n",
    "* $\\theta \\sim \\text{N}(0,1)$ con cola a la derecha."
   ]
  },
  {
   "cell_type": "markdown",
   "metadata": {},
   "source": [
    "*Solución*. Para ilustrar el proceso de solución se usará la figura de abajo. \n",
    "\n",
    "\n",
    "* Para la cola a la izquierda se obtiene el valor-$p$ para $\\theta=1.75$, es decir, el área sombreada bajo la curva, o valor-$p$ = 0.9599. Ya que el valor-$p$ = 0.9599 > 0.05 (nivel de confianza) se acepta $H_0$. "
   ]
  },
  {
   "cell_type": "code",
   "execution_count": 5,
   "metadata": {},
   "outputs": [
    {
     "data": {
      "text/plain": [
       "0.9599408431361829"
      ]
     },
     "execution_count": 5,
     "metadata": {},
     "output_type": "execute_result"
    }
   ],
   "source": [
    "#\n",
    "# Area entre -inf y 1.75\n",
    "#\n",
    "norm.cdf(1.75)"
   ]
  },
  {
   "cell_type": "markdown",
   "metadata": {},
   "source": [
    "* Para el caso de dos colas, el área sombreada bajo la curva es 0.0801 (valor-$p$); ya que 0.0801 > 0.05 (nivel de confianza), entonces se acepta $H_0$."
   ]
  },
  {
   "cell_type": "code",
   "execution_count": 6,
   "metadata": {},
   "outputs": [
    {
     "data": {
      "text/plain": [
       "0.08011831372763417"
      ]
     },
     "execution_count": 6,
     "metadata": {},
     "output_type": "execute_result"
    }
   ],
   "source": [
    "#\n",
    "# Area entre -inf y -1.75 mas 1.75 e +inf, simétricas\n",
    "#\n",
    "2 * norm.cdf(-1.75)"
   ]
  },
  {
   "cell_type": "markdown",
   "metadata": {},
   "source": [
    "* Para el caso de la cola a la derecha, el área sombreada es 0.0401; ya que valor-$p$ = 0.0401 < 0.05 se rechaza $H_0$."
   ]
  },
  {
   "cell_type": "code",
   "execution_count": 7,
   "metadata": {},
   "outputs": [
    {
     "data": {
      "text/plain": [
       "0.040059156863817114"
      ]
     },
     "execution_count": 7,
     "metadata": {},
     "output_type": "execute_result"
    }
   ],
   "source": [
    "#\n",
    "# Area entre 1.75 e +inf =\n",
    "#   1.0 - area entre -inf y 1.75\n",
    "#\n",
    "1.0 - norm.cdf(1.75)"
   ]
  },
  {
   "cell_type": "markdown",
   "metadata": {},
   "source": [
    "![assets/p-value.jpg](assets/p-value.jpg)"
   ]
  },
  {
   "cell_type": "markdown",
   "metadata": {},
   "source": [
    "**Actividad.---** Si $\\theta=2.98$ y $\\theta$ sigue una distribución log-normal con $\\mu=0$ y $\\sigma=1$ determine si $H_0$, ¿Se acepta o se rechaza para la cola a la derecha?."
   ]
  }
 ],
 "metadata": {
  "kernel_info": {
   "name": "python3"
  },
  "kernelspec": {
   "display_name": "Python 3",
   "language": "python",
   "name": "python3"
  },
  "language_info": {
   "codemirror_mode": {
    "name": "ipython",
    "version": 3
   },
   "file_extension": ".py",
   "mimetype": "text/x-python",
   "name": "python",
   "nbconvert_exporter": "python",
   "pygments_lexer": "ipython3",
   "version": "3.6.9"
  },
  "nteract": {
   "version": "0.7.1"
  },
  "varInspector": {
   "cols": {
    "lenName": 16,
    "lenType": 16,
    "lenVar": 40
   },
   "kernels_config": {
    "python": {
     "delete_cmd_postfix": "",
     "delete_cmd_prefix": "del ",
     "library": "var_list.py",
     "varRefreshCmd": "print(var_dic_list())"
    },
    "r": {
     "delete_cmd_postfix": ") ",
     "delete_cmd_prefix": "rm(",
     "library": "var_list.r",
     "varRefreshCmd": "cat(var_dic_list()) "
    }
   },
   "types_to_exclude": [
    "module",
    "function",
    "builtin_function_or_method",
    "instance",
    "_Feature"
   ],
   "window_display": false
  }
 },
 "nbformat": 4,
 "nbformat_minor": 4
}
