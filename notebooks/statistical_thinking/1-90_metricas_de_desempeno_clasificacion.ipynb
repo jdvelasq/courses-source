{
 "cells": [
  {
   "cell_type": "markdown",
   "id": "1de4abee-68d8-4d34-b029-62438a24586e",
   "metadata": {
    "tags": []
   },
   "source": [
    "Métricas de Desempeño en Clasificación\n",
    "===\n",
    "\n",
    "* 34:29 min | Ultima modificación: Marzo 21, 2021 | [YouTube]"
   ]
  },
  {
   "cell_type": "code",
   "execution_count": null,
   "id": "a45e343c-d2a0-4524-a385-8dba7112a701",
   "metadata": {},
   "outputs": [],
   "source": []
  },
  {
   "cell_type": "markdown",
   "id": "fb036db0-296d-4847-acf4-2429cd72d810",
   "metadata": {},
   "source": [
    "Para evaluar el desempeño en problemas de clasificación dicotómicos (dos clases mutuamente excluyentes) se usa la matriz de confusión:\n",
    "\n",
    "\n",
    "             | Pronostico\n",
    "             |  P     N\n",
    "    ---------|------------  \n",
    "          P  |  TP    FN          \n",
    "    Real     |\n",
    "          N  |  FP    TN\n",
    "    \n",
    "    TP - Verdadero positivo (correcto)\n",
    "    TN - Verdadero negativo (correcto)\n",
    "    FN - Falso negativo (mal clasificado)\n",
    "    FP - Falso positivo (mal clasificado)\n",
    "    \n",
    "Esta tabla permite analizar el comportamiento del modelo.\n",
    "\n",
    "La medición de la precisión del modelo permite estimar el desempeño del modelo ante nuevos datos."
   ]
  },
  {
   "cell_type": "markdown",
   "id": "c2d5ef98-b42e-4a76-ae54-4f372946d5c3",
   "metadata": {},
   "source": [
    "* Tasa de éxito (porcentaje de patrones clasificados correctamente):\n",
    "\n",
    "\n",
    "$$\\text{success rate} = \\frac{\\text{TP} + \\text{TN}}{\\text{TP} + \\text{TN} + \\text{FP} + \\text{FN}}$$"
   ]
  },
  {
   "cell_type": "markdown",
   "id": "66067b75-0045-4f1b-a5d8-672e07276faf",
   "metadata": {},
   "source": [
    "* Tasa de error (porcentaje total de patrones clasificados incorrectamente):\n",
    "\n",
    "$$\\text{error rate} = \\frac{\\text{FP} + \\text{FN}}{\\text{TP} + \\text{TN} + \\text{FP} + \\text{FN}} = 1 - \\text{accuracy}$$"
   ]
  },
  {
   "cell_type": "markdown",
   "id": "becaf40b-e1eb-44ef-8d3d-b49ee7e3aee1",
   "metadata": {},
   "source": [
    "* Precisión o valor predictivo positivo: Proporción de casos positivos que fueron verdaderamente positivos.\n",
    "\n",
    "\n",
    "$$\\text{precision} = \\frac{\\text{TP}}{\\text{TP}  + \\text{FP}}$$"
   ]
  },
  {
   "cell_type": "markdown",
   "id": "2e7bdfb7-0e8c-4652-8555-5912902e474b",
   "metadata": {},
   "source": [
    "* Valor predictivo negativo: Proporción de casos negativos que fueron verdaderamente negativos.\n",
    "\n",
    "\n",
    "$$\\text{negative predictive value} = \\frac{\\text{TN}}{\\text{TN}  + \\text{FN}}$$"
   ]
  },
  {
   "cell_type": "markdown",
   "id": "fa1d7af5-433a-422b-b0af-8a47983752b8",
   "metadata": {},
   "source": [
    "* Sensibilidad, tasa verdadera positiva, recall: mide la proporción de ejemplos positivos que fueron correctamente clasificados.\n",
    "\n",
    "\n",
    "$$\\text{sensitibity} = \\frac{\\text{TP}}{\\text{TP}  + \\text{FN}}$$"
   ]
  },
  {
   "cell_type": "markdown",
   "id": "defe164a-e318-47fd-9f09-d81598735bbc",
   "metadata": {},
   "source": [
    "* Especifidad o tasa verdadera negativa: mide la proporción de ejemplos negativos correctamente clasificados.\n",
    "\n",
    "\n",
    "$$\\text{specifity} = \\frac{\\text{TN}}{\\text{TN}  + \\text{FP}}$$"
   ]
  },
  {
   "cell_type": "markdown",
   "id": "114b3623-d221-4853-8ece-bf5bda024bd6",
   "metadata": {},
   "source": [
    "### Matriz de confusión"
   ]
  },
  {
   "cell_type": "code",
   "execution_count": 21,
   "id": "ed26a9d2-f7c1-469f-8e1b-e543f51c7c3e",
   "metadata": {},
   "outputs": [
    {
     "data": {
      "text/plain": [
       "array([[6, 0, 0],\n",
       "       [2, 3, 2],\n",
       "       [1, 1, 3]])"
      ]
     },
     "execution_count": 21,
     "metadata": {},
     "output_type": "execute_result"
    }
   ],
   "source": [
    "from sklearn.metrics import confusion_matrix\n",
    "\n",
    "confusion_matrix(df0.y, df0.y_predicted_x1)"
   ]
  },
  {
   "cell_type": "code",
   "execution_count": 22,
   "id": "d5f52f46-b25d-4c42-82a7-2cab869fd295",
   "metadata": {},
   "outputs": [
    {
     "data": {
      "text/plain": [
       "array([[3, 3, 0],\n",
       "       [2, 5, 0],\n",
       "       [1, 4, 0]])"
      ]
     },
     "execution_count": 22,
     "metadata": {},
     "output_type": "execute_result"
    }
   ],
   "source": [
    "confusion_matrix(df0.y, df0.y_predicted_x2)"
   ]
  },
  {
   "cell_type": "code",
   "execution_count": 23,
   "id": "82677338-e686-455c-83eb-3a1cb4b27731",
   "metadata": {},
   "outputs": [
    {
     "data": {
      "text/plain": [
       "array([[3, 1, 2],\n",
       "       [2, 3, 2],\n",
       "       [0, 2, 3]])"
      ]
     },
     "execution_count": 23,
     "metadata": {},
     "output_type": "execute_result"
    }
   ],
   "source": [
    "confusion_matrix(df0.y, df0.y_predicted_x3)"
   ]
  }
 ],
 "metadata": {
  "kernelspec": {
   "display_name": "Python 3",
   "language": "python",
   "name": "python3"
  },
  "language_info": {
   "codemirror_mode": {
    "name": "ipython",
    "version": 3
   },
   "file_extension": ".py",
   "mimetype": "text/x-python",
   "name": "python",
   "nbconvert_exporter": "python",
   "pygments_lexer": "ipython3",
   "version": "3.6.9"
  }
 },
 "nbformat": 4,
 "nbformat_minor": 5
}
