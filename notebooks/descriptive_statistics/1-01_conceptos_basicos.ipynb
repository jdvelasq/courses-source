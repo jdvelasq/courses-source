{
 "cells": [
  {
   "cell_type": "markdown",
   "id": "32bbcf32-aff6-48f2-84b3-aa388ff8aa45",
   "metadata": {
    "slideshow": {
     "slide_type": "slide"
    }
   },
   "source": [
    "Introducción al Análisis Exploratorio Cuantitativo de Datos\n",
    "===\n",
    "\n",
    "* 10:55 min | Última modificación: Diciembre 13, 2021 | [YouTube](https://youtu.be/tzn8nHUkcKw)"
   ]
  },
  {
   "cell_type": "markdown",
   "id": "c5863fb5-2877-4659-b02d-d983ee466da2",
   "metadata": {},
   "source": [
    "Introducción\n",
    "---"
   ]
  },
  {
   "cell_type": "markdown",
   "id": "af0917d4-d267-4b24-b9d6-10decbfb2541",
   "metadata": {
    "jp-MarkdownHeadingCollapsed": true,
    "tags": []
   },
   "source": [
    "**Qué es?**\n",
    "\n",
    "Es una aproximación metodológica y filosófica para organizar, graficar y resumir los datos, de tal forma que se puedan resolver **preguntas de interés**.\n",
    "\n",
    "El análisis exploratorio de datos busca:\n",
    "\n",
    "* Mejorar la comprensión y aumentar el conocimiento.\n",
    "\n",
    "* Generar y confirmar una o más hipótesis.\n",
    "\n",
    "* Construir una intuición y ganar insights sobre los datos.\n",
    "\n",
    "* Formular conclusiones válidas.\n",
    "\n",
    "* Ayudar en análisis de decisiones y planeamiento.\n",
    "\n",
    "* Ayudar en análisis causal."
   ]
  },
  {
   "cell_type": "markdown",
   "id": "09a2cc09-abfd-42ca-aef6-560410f8d10d",
   "metadata": {
    "tags": []
   },
   "source": [
    "**Proceso metodológico.**\n",
    "\n",
    "* **Fase Previa**: ingestión y limpieza de datos.\n",
    "\n",
    "* Análisis de la distribución.\n",
    "\n",
    "* Correlación.\n",
    "\n",
    "* Ranking.\n",
    "\n",
    "* Evolución\n",
    "\n",
    "* Clustering.\n",
    "\n",
    "* Selección de Características.\n",
    "\n",
    "* Ingeniería de Características.\n",
    "\n",
    "* **Fase Posterior:** Sintetización, modelado, comunicación y decisión."
   ]
  },
  {
   "cell_type": "markdown",
   "id": "f960e006-421c-4376-9ae9-f3837bb7e296",
   "metadata": {},
   "source": [
    "Definiciones y conceptos básicos\n",
    "---"
   ]
  },
  {
   "cell_type": "markdown",
   "id": "23ebdea7-74f4-4c4b-9d69-e834c90f8e0d",
   "metadata": {},
   "source": [
    "![assets/pob-muestra.jpg](assets/pob-muestra.jpg)"
   ]
  },
  {
   "cell_type": "markdown",
   "id": "43826074-7f48-489a-90e8-7e3995c31c32",
   "metadata": {},
   "source": [
    "Como fase inicial de la analítica y de cualquier proceso de modelado, es necesario conocer y familiarizarse con las características de los datos disponibles, con el objetivo de determinar si la información se ajusta al problema planteado inicialmente y generar hipotesis del comportamiento. Existen diversas técnicas para explorar los datos, agrupadas en medidas numéricas como las medidas de localización o medidas de dispersión, y gráficas explicativas. En este tutorial se describen las preguntas más frecuentes a las que se enfrenta un modelador en cuanto a los datos y las posibles técnicas que ayudan a esclarecerlas. "
   ]
  },
  {
   "cell_type": "markdown",
   "id": "66b70617-46a5-45e6-8a73-db9a77e7e1ec",
   "metadata": {},
   "source": [
    "**Análisis exploratorio cuantitativo de datos**. En el análisis exploratorio de datos se busca obtener información de interés de la población a partir de una muestra que es representativa de la población. En términos más formales, se usa para generar hipótesis sobre los datos, tales como:"
   ]
  },
  {
   "cell_type": "markdown",
   "id": "4770acf7-45bc-4b46-8b26-b9497a6353c8",
   "metadata": {},
   "source": [
    "* Ubicación del centro de los datos."
   ]
  },
  {
   "cell_type": "markdown",
   "id": "3a760889-a960-4830-bdb0-303a05a756e4",
   "metadata": {},
   "source": [
    "* Dispersión de los datos."
   ]
  },
  {
   "cell_type": "markdown",
   "id": "6a166752-353f-40fc-a3fa-591a5d0497c9",
   "metadata": {},
   "source": [
    "* Distribución de probabilidades de los datos."
   ]
  },
  {
   "cell_type": "markdown",
   "id": "92383b65-1729-4057-b624-693c19bfe7df",
   "metadata": {},
   "source": [
    "* Relaciones entre los datos."
   ]
  },
  {
   "cell_type": "markdown",
   "id": "854dccbe-8423-487f-a9d1-1203f859d9cd",
   "metadata": {},
   "source": [
    "Uno de los objetivos fundamentales en estadística es estimar el valor de un parámetro de la población mediante un estadístico calculado sobre la muestra. \n",
    "\n",
    "Existen dos aproximaciones para estimar características de la población:\n",
    "\n",
    "* Estimación de intervalos de confianza: usualmente para estadísticos calculados sobre la muestra de datos.  \n",
    "\n",
    "* Pruebas de hipótesis: para propiedades más complejas de la población, como por ejemplo su distribución de probabilidades o relaciones de dependencia entre variables."
   ]
  },
  {
   "cell_type": "markdown",
   "id": "83c3ba8e-e7e5-4896-810c-1ebb30811c22",
   "metadata": {},
   "source": [
    "**Población**: Colección de objetos o individuos sobre los cuales se desea obtener información de interés.\n",
    "\n",
    "**Parámetro:** Un número que resume una propiedad o característica de la población entera. \n",
    "\n",
    "**Muestra:** Grupo obtenido aleatoriamente que es representativo de la población.\n",
    "\n",
    "**Estadístico:** Un número que resume una propiedad o característica de la muestra. "
   ]
  },
  {
   "cell_type": "markdown",
   "id": "1170c053-cc1b-4fed-909a-f8b758a26bce",
   "metadata": {},
   "source": [
    "**Tipos de datos:** Los tipos de datos son los siguientes:\n",
    "\n",
    "* Continuos (flotante, numérico)\n",
    "* Discretos (enteros)\n",
    "* Categóricos (enumeraciones, fctores, valores nominales).\n",
    "* Binarios (Indicadores, lógicos)\n",
    "* Ordinales (Categóricos con un ordenamiento explícito, factores ordenados)."
   ]
  },
  {
   "cell_type": "markdown",
   "id": "d24198a6-6a38-4ab5-b72a-f0f029294210",
   "metadata": {},
   "source": [
    "**Datos rectagulares:** Datos organizados en una tabla.\n",
    "\n",
    "* Feature: característica, atributo, entrada, predictor, variable independiente.\n",
    "* Outcome: resultado, variable dependiente, respuesta, objetivo, salida.\n",
    "* Registro: fila en una tabla de datos, también conocida como caso, ejemplo, instancia, observación, patrón o muestra.\n"
   ]
  }
 ],
 "metadata": {
  "kernelspec": {
   "display_name": "Python 3",
   "language": "python",
   "name": "python3"
  },
  "language_info": {
   "codemirror_mode": {
    "name": "ipython",
    "version": 3
   },
   "file_extension": ".py",
   "mimetype": "text/x-python",
   "name": "python",
   "nbconvert_exporter": "python",
   "pygments_lexer": "ipython3",
   "version": "3.6.9"
  }
 },
 "nbformat": 4,
 "nbformat_minor": 5
}
