{
 "cells": [
  {
   "cell_type": "markdown",
   "id": "b52e9d55-4092-43c8-86e8-36fe90671acc",
   "metadata": {
    "slideshow": {
     "slide_type": "slide"
    },
    "tags": []
   },
   "source": [
    "Transformaciones de datos\n",
    "===\n"
   ]
  },
  {
   "cell_type": "markdown",
   "id": "627d59d2-93a5-4080-b024-a7940adec1de",
   "metadata": {},
   "source": [
    "Pendiente por definir los tiempos."
   ]
  }
 ],
 "metadata": {
  "kernelspec": {
   "display_name": "Python 3",
   "language": "python",
   "name": "python3"
  },
  "language_info": {
   "codemirror_mode": {
    "name": "ipython",
    "version": 3
   },
   "file_extension": ".py",
   "mimetype": "text/x-python",
   "name": "python",
   "nbconvert_exporter": "python",
   "pygments_lexer": "ipython3",
   "version": "3.6.9"
  }
 },
 "nbformat": 4,
 "nbformat_minor": 5
}
