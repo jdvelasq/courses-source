{
 "cells": [
  {
   "cell_type": "markdown",
   "id": "a1302981-56fe-4fb0-997f-3a3d3e70b16c",
   "metadata": {
    "slideshow": {
     "slide_type": "slide"
    },
    "tags": []
   },
   "source": [
    "Análisis Factorial --- 7:05 min\n",
    "===\n"
   ]
  },
  {
   "cell_type": "markdown",
   "id": "efb0066d-7ac4-4289-9a5f-ad1be4cc278b",
   "metadata": {},
   "source": [
    "La metodología está explicada en: https://youtu.be/XiVWvl2jpPg"
   ]
  }
 ],
 "metadata": {
  "kernelspec": {
   "display_name": "Python 3",
   "language": "python",
   "name": "python3"
  },
  "language_info": {
   "codemirror_mode": {
    "name": "ipython",
    "version": 3
   },
   "file_extension": ".py",
   "mimetype": "text/x-python",
   "name": "python",
   "nbconvert_exporter": "python",
   "pygments_lexer": "ipython3",
   "version": "3.6.9"
  }
 },
 "nbformat": 4,
 "nbformat_minor": 5
}
