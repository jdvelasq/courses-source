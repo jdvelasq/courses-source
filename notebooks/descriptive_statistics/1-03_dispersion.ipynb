{
 "cells": [
  {
   "cell_type": "markdown",
   "id": "e436d1aa-ba07-43b5-a137-e236a0aad69e",
   "metadata": {
    "slideshow": {
     "slide_type": "slide"
    }
   },
   "source": [
    "Medidas de Dispersión\n",
    "===\n",
    "\n",
    "* 18:39 min | Última modificación: Dicimebre 13, 2021 | [YouTube](https://youtu.be/0iGKLtAtFDs)"
   ]
  },
  {
   "cell_type": "code",
   "execution_count": 1,
   "id": "0cfedb39-3ef3-4a4e-b4b9-0306f6a98a47",
   "metadata": {},
   "outputs": [],
   "source": [
    "import warnings\n",
    "\n",
    "warnings.filterwarnings(\"ignore\")"
   ]
  },
  {
   "cell_type": "code",
   "execution_count": 2,
   "id": "31325b42-65f6-43bc-8408-4a999ce8449c",
   "metadata": {},
   "outputs": [],
   "source": [
    "import matplotlib.pyplot as plt\n",
    "import numpy as np\n",
    "import pandas as pd\n",
    "import seaborn as sns"
   ]
  },
  {
   "cell_type": "markdown",
   "id": "579e5586-d2a5-4c1d-bdeb-08f228fd4734",
   "metadata": {},
   "source": [
    "## Definición del problema "
   ]
  },
  {
   "cell_type": "markdown",
   "id": "b9653db0-91ed-459b-91e4-dec7e3014213",
   "metadata": {},
   "source": [
    "El [conjunto de datos de la flor Iris](https://es.wikipedia.org/wiki/Iris_flor_conjunto_de_datos) contiene 150 muestras de las medidas del ancho y el largo del pétalo y del sépalo para las tres especies de esta flor (Iris setosa, Iris virginica e Iris versicolor). A partir de la muestra de datos se desean responder la siguiente pregunta:\n",
    "\n",
    "\n",
    "* **P2**.--- ¿Cuál es el rango típico de la longitud y ancho del pétalo y del sépalo para cada uno de los tipos de flores?"
   ]
  },
  {
   "cell_type": "markdown",
   "id": "5fdd5619-3187-43c6-ae0b-430febf68673",
   "metadata": {},
   "source": [
    "## Carga de datos"
   ]
  },
  {
   "cell_type": "code",
   "execution_count": 3,
   "id": "f48de899-7ced-48f3-97f7-307146dfd3ab",
   "metadata": {},
   "outputs": [
    {
     "data": {
      "text/html": [
       "<div>\n",
       "<style scoped>\n",
       "    .dataframe tbody tr th:only-of-type {\n",
       "        vertical-align: middle;\n",
       "    }\n",
       "\n",
       "    .dataframe tbody tr th {\n",
       "        vertical-align: top;\n",
       "    }\n",
       "\n",
       "    .dataframe thead th {\n",
       "        text-align: right;\n",
       "    }\n",
       "</style>\n",
       "<table border=\"1\" class=\"dataframe\">\n",
       "  <thead>\n",
       "    <tr style=\"text-align: right;\">\n",
       "      <th></th>\n",
       "      <th>sepal_length</th>\n",
       "      <th>sepal_width</th>\n",
       "      <th>petal_length</th>\n",
       "      <th>petal_width</th>\n",
       "      <th>species</th>\n",
       "    </tr>\n",
       "  </thead>\n",
       "  <tbody>\n",
       "    <tr>\n",
       "      <th>0</th>\n",
       "      <td>5.1</td>\n",
       "      <td>3.5</td>\n",
       "      <td>1.4</td>\n",
       "      <td>0.2</td>\n",
       "      <td>setosa</td>\n",
       "    </tr>\n",
       "    <tr>\n",
       "      <th>1</th>\n",
       "      <td>4.9</td>\n",
       "      <td>3.0</td>\n",
       "      <td>1.4</td>\n",
       "      <td>0.2</td>\n",
       "      <td>setosa</td>\n",
       "    </tr>\n",
       "    <tr>\n",
       "      <th>2</th>\n",
       "      <td>4.7</td>\n",
       "      <td>3.2</td>\n",
       "      <td>1.3</td>\n",
       "      <td>0.2</td>\n",
       "      <td>setosa</td>\n",
       "    </tr>\n",
       "    <tr>\n",
       "      <th>3</th>\n",
       "      <td>4.6</td>\n",
       "      <td>3.1</td>\n",
       "      <td>1.5</td>\n",
       "      <td>0.2</td>\n",
       "      <td>setosa</td>\n",
       "    </tr>\n",
       "    <tr>\n",
       "      <th>4</th>\n",
       "      <td>5.0</td>\n",
       "      <td>3.6</td>\n",
       "      <td>1.4</td>\n",
       "      <td>0.2</td>\n",
       "      <td>setosa</td>\n",
       "    </tr>\n",
       "  </tbody>\n",
       "</table>\n",
       "</div>"
      ],
      "text/plain": [
       "   sepal_length  sepal_width  petal_length  petal_width species\n",
       "0           5.1          3.5           1.4          0.2  setosa\n",
       "1           4.9          3.0           1.4          0.2  setosa\n",
       "2           4.7          3.2           1.3          0.2  setosa\n",
       "3           4.6          3.1           1.5          0.2  setosa\n",
       "4           5.0          3.6           1.4          0.2  setosa"
      ]
     },
     "metadata": {},
     "output_type": "display_data"
    },
    {
     "data": {
      "text/html": [
       "<div>\n",
       "<style scoped>\n",
       "    .dataframe tbody tr th:only-of-type {\n",
       "        vertical-align: middle;\n",
       "    }\n",
       "\n",
       "    .dataframe tbody tr th {\n",
       "        vertical-align: top;\n",
       "    }\n",
       "\n",
       "    .dataframe thead th {\n",
       "        text-align: right;\n",
       "    }\n",
       "</style>\n",
       "<table border=\"1\" class=\"dataframe\">\n",
       "  <thead>\n",
       "    <tr style=\"text-align: right;\">\n",
       "      <th></th>\n",
       "      <th>sepal_length</th>\n",
       "      <th>sepal_width</th>\n",
       "      <th>petal_length</th>\n",
       "      <th>petal_width</th>\n",
       "      <th>species</th>\n",
       "    </tr>\n",
       "  </thead>\n",
       "  <tbody>\n",
       "    <tr>\n",
       "      <th>145</th>\n",
       "      <td>6.7</td>\n",
       "      <td>3.0</td>\n",
       "      <td>5.2</td>\n",
       "      <td>2.3</td>\n",
       "      <td>virginica</td>\n",
       "    </tr>\n",
       "    <tr>\n",
       "      <th>146</th>\n",
       "      <td>6.3</td>\n",
       "      <td>2.5</td>\n",
       "      <td>5.0</td>\n",
       "      <td>1.9</td>\n",
       "      <td>virginica</td>\n",
       "    </tr>\n",
       "    <tr>\n",
       "      <th>147</th>\n",
       "      <td>6.5</td>\n",
       "      <td>3.0</td>\n",
       "      <td>5.2</td>\n",
       "      <td>2.0</td>\n",
       "      <td>virginica</td>\n",
       "    </tr>\n",
       "    <tr>\n",
       "      <th>148</th>\n",
       "      <td>6.2</td>\n",
       "      <td>3.4</td>\n",
       "      <td>5.4</td>\n",
       "      <td>2.3</td>\n",
       "      <td>virginica</td>\n",
       "    </tr>\n",
       "    <tr>\n",
       "      <th>149</th>\n",
       "      <td>5.9</td>\n",
       "      <td>3.0</td>\n",
       "      <td>5.1</td>\n",
       "      <td>1.8</td>\n",
       "      <td>virginica</td>\n",
       "    </tr>\n",
       "  </tbody>\n",
       "</table>\n",
       "</div>"
      ],
      "text/plain": [
       "     sepal_length  sepal_width  petal_length  petal_width    species\n",
       "145           6.7          3.0           5.2          2.3  virginica\n",
       "146           6.3          2.5           5.0          1.9  virginica\n",
       "147           6.5          3.0           5.2          2.0  virginica\n",
       "148           6.2          3.4           5.4          2.3  virginica\n",
       "149           5.9          3.0           5.1          1.8  virginica"
      ]
     },
     "metadata": {},
     "output_type": "display_data"
    }
   ],
   "source": [
    "#\n",
    "# Se cargan los datos y se realiza una inspección\n",
    "# inicial de la tabla y los datos\n",
    "#\n",
    "iris = sns.load_dataset('iris')\n",
    "\n",
    "display(\n",
    "    iris.head(),\n",
    "    iris.tail()\n",
    ")"
   ]
  },
  {
   "cell_type": "markdown",
   "id": "81e82104-76b4-4d8e-937a-698aaaabc646",
   "metadata": {},
   "source": [
    "## P2.--- ¿Cuál es el rango típico de la longitud y ancho del pétalo y del sépalo para cada uno de los tipos de flores?"
   ]
  },
  {
   "cell_type": "markdown",
   "id": "c6681e6e-38d8-4645-aba7-39795aa7d9fc",
   "metadata": {},
   "source": [
    "Esta pregunta se refiere a una medida de la dispersión o variabilildad de los datos y a como se distribuyen."
   ]
  },
  {
   "cell_type": "markdown",
   "id": "e7dbfe41-1da3-4dfa-a259-3367f61f9860",
   "metadata": {},
   "source": [
    "### Métricas basadas en la distancia respecto a las métricas de localización"
   ]
  },
  {
   "cell_type": "markdown",
   "id": "06d5b4f3-7688-4b98-92c5-19f3e400cc03",
   "metadata": {},
   "source": [
    "**Desviación:** \n",
    "\n",
    "Diferencia entre el valor observado y el valor estimado de localización. En modelado sus sinónimos son errores o residuales."
   ]
  },
  {
   "cell_type": "markdown",
   "id": "0b159f4f-6f3f-4381-9f07-861269a2822c",
   "metadata": {},
   "source": [
    "**Rango:** \n",
    "\n",
    "Diferencia entre el valor más grande y más pequeño de la muestra de los datos."
   ]
  },
  {
   "cell_type": "code",
   "execution_count": 4,
   "id": "2f810d1b-185d-47b2-9e3f-d6ddbc85ad92",
   "metadata": {},
   "outputs": [],
   "source": [
    "iris_melt = pd.melt(\n",
    "    iris,\n",
    "    id_vars=\"species\",\n",
    "    var_name=\"Variables\",\n",
    "    value_name=\"Values\",\n",
    ")"
   ]
  },
  {
   "cell_type": "code",
   "execution_count": 5,
   "id": "28d390a6-531a-493a-8ea5-f9eedcae5604",
   "metadata": {},
   "outputs": [
    {
     "data": {
      "image/png": "[encoded data removed]",
      "text/plain": [
       "<Figure size 720x720 with 4 Axes>"
      ]
     },
     "metadata": {
      "needs_background": "light"
     },
     "output_type": "display_data"
    }
   ],
   "source": [
    "g = sns.catplot(\n",
    "    x=\"species\",\n",
    "    y=\"Values\",\n",
    "    data=iris_melt,\n",
    "    col=\"Variables\",\n",
    "    kind=\"swarm\",\n",
    "    col_wrap=2,\n",
    "    alpha=0.4,\n",
    "    s=7,\n",
    "    edgecolors=\"k\",\n",
    "    linewidth=1,\n",
    ")\n",
    "\n",
    "colors = ['tab:blue', 'tab:orange', 'tab:green']\n",
    "\n",
    "means = iris.groupby(\"species\").mean()\n",
    "\n",
    "for i_axes in range(4):\n",
    "    ax = g.axes[i_axes]\n",
    "    x_lim = ax.get_xlim()\n",
    "    mean_values = means[means.columns[i_axes]]\n",
    "    for i, (color, mean_value) in enumerate(zip(colors, mean_values)):\n",
    "        g.axes[i_axes].hlines(mean_value, i-0.4, i+0.4,  ls='-', color=color, lw=4)\n",
    "\n",
    "plt.show()"
   ]
  },
  {
   "cell_type": "markdown",
   "id": "07afde70-9772-4888-98f9-f06b1c94f903",
   "metadata": {},
   "source": [
    "**Varianza muestral:**\n",
    "\n",
    "$$s^2 = \\frac{1}{n-1} \\sum_{i=1}^n (x_i - \\bar{x})^2$$"
   ]
  },
  {
   "cell_type": "code",
   "execution_count": 6,
   "id": "808b45a4-5c7f-4ee6-98d0-d6b8d3e226a6",
   "metadata": {},
   "outputs": [
    {
     "data": {
      "text/plain": [
       "0.6856935123042507"
      ]
     },
     "metadata": {},
     "output_type": "display_data"
    },
    {
     "data": {
      "text/plain": [
       "0.6856935123042506"
      ]
     },
     "metadata": {},
     "output_type": "display_data"
    },
    {
     "data": {
      "text/plain": [
       "0.6811222222222223"
      ]
     },
     "metadata": {},
     "output_type": "display_data"
    }
   ],
   "source": [
    "#\n",
    "# Cálculo para una variable\n",
    "#\n",
    "from statistics import variance\n",
    "\n",
    "display(\n",
    "    iris.sepal_length.var(),\n",
    "    variance(iris.sepal_length),\n",
    "    np.var(iris.sepal_length),\n",
    ")"
   ]
  },
  {
   "cell_type": "code",
   "execution_count": 7,
   "id": "fd8dcb83-d707-4d97-ab9d-0db28201c0dc",
   "metadata": {},
   "outputs": [
    {
     "data": {
      "text/plain": [
       "sepal_length    0.685694\n",
       "sepal_width     0.189979\n",
       "petal_length    3.116278\n",
       "petal_width     0.581006\n",
       "dtype: float64"
      ]
     },
     "execution_count": 7,
     "metadata": {},
     "output_type": "execute_result"
    }
   ],
   "source": [
    "#\n",
    "# Cálculo para las columnas del dataframe\n",
    "#\n",
    "iris.var()"
   ]
  },
  {
   "cell_type": "code",
   "execution_count": 8,
   "id": "dc9584f2-f98c-475a-bd17-f855315a996a",
   "metadata": {},
   "outputs": [
    {
     "data": {
      "text/html": [
       "<div>\n",
       "<style scoped>\n",
       "    .dataframe tbody tr th:only-of-type {\n",
       "        vertical-align: middle;\n",
       "    }\n",
       "\n",
       "    .dataframe tbody tr th {\n",
       "        vertical-align: top;\n",
       "    }\n",
       "\n",
       "    .dataframe thead th {\n",
       "        text-align: right;\n",
       "    }\n",
       "</style>\n",
       "<table border=\"1\" class=\"dataframe\">\n",
       "  <thead>\n",
       "    <tr style=\"text-align: right;\">\n",
       "      <th></th>\n",
       "      <th>sepal_length</th>\n",
       "      <th>sepal_width</th>\n",
       "      <th>petal_length</th>\n",
       "      <th>petal_width</th>\n",
       "    </tr>\n",
       "    <tr>\n",
       "      <th>species</th>\n",
       "      <th></th>\n",
       "      <th></th>\n",
       "      <th></th>\n",
       "      <th></th>\n",
       "    </tr>\n",
       "  </thead>\n",
       "  <tbody>\n",
       "    <tr>\n",
       "      <th>setosa</th>\n",
       "      <td>0.124249</td>\n",
       "      <td>0.143690</td>\n",
       "      <td>0.030159</td>\n",
       "      <td>0.011106</td>\n",
       "    </tr>\n",
       "    <tr>\n",
       "      <th>versicolor</th>\n",
       "      <td>0.266433</td>\n",
       "      <td>0.098469</td>\n",
       "      <td>0.220816</td>\n",
       "      <td>0.039106</td>\n",
       "    </tr>\n",
       "    <tr>\n",
       "      <th>virginica</th>\n",
       "      <td>0.404343</td>\n",
       "      <td>0.104004</td>\n",
       "      <td>0.304588</td>\n",
       "      <td>0.075433</td>\n",
       "    </tr>\n",
       "  </tbody>\n",
       "</table>\n",
       "</div>"
      ],
      "text/plain": [
       "            sepal_length  sepal_width  petal_length  petal_width\n",
       "species                                                         \n",
       "setosa          0.124249     0.143690      0.030159     0.011106\n",
       "versicolor      0.266433     0.098469      0.220816     0.039106\n",
       "virginica       0.404343     0.104004      0.304588     0.075433"
      ]
     },
     "execution_count": 8,
     "metadata": {},
     "output_type": "execute_result"
    }
   ],
   "source": [
    "#\n",
    "# Cálculo por especie\n",
    "#\n",
    "iris.groupby('species').var()"
   ]
  },
  {
   "cell_type": "markdown",
   "id": "1e0c2549-9126-4c82-931d-9ac84706a2c8",
   "metadata": {},
   "source": [
    "**Desviación estándar muestral**.\n",
    "\n",
    "Raíz cuadrada de la varianza muestral."
   ]
  },
  {
   "cell_type": "code",
   "execution_count": 9,
   "id": "c01e1f83-8aef-468b-adf1-3b7bdf48c509",
   "metadata": {},
   "outputs": [
    {
     "data": {
      "text/plain": [
       "0.828066127977863"
      ]
     },
     "metadata": {},
     "output_type": "display_data"
    },
    {
     "data": {
      "text/plain": [
       "0.8280661279778629"
      ]
     },
     "metadata": {},
     "output_type": "display_data"
    },
    {
     "data": {
      "text/plain": [
       "0.8253012917851409"
      ]
     },
     "metadata": {},
     "output_type": "display_data"
    }
   ],
   "source": [
    "#\n",
    "# Cálculo para una variable\n",
    "#\n",
    "from statistics import stdev\n",
    "\n",
    "display(\n",
    "    iris.sepal_length.std(),\n",
    "    stdev(iris.sepal_length),\n",
    "    np.std(iris.sepal_length),\n",
    ")"
   ]
  },
  {
   "cell_type": "code",
   "execution_count": 10,
   "id": "1416df48-140f-4eae-ba0d-3ed264427b02",
   "metadata": {},
   "outputs": [
    {
     "data": {
      "text/plain": [
       "sepal_length    0.828066\n",
       "sepal_width     0.435866\n",
       "petal_length    1.765298\n",
       "petal_width     0.762238\n",
       "dtype: float64"
      ]
     },
     "execution_count": 10,
     "metadata": {},
     "output_type": "execute_result"
    }
   ],
   "source": [
    "#\n",
    "# Cálculo para las columnas del dataframe\n",
    "#\n",
    "iris.std()"
   ]
  },
  {
   "cell_type": "code",
   "execution_count": 11,
   "id": "30d04b76-5092-4714-92c5-506800e89d87",
   "metadata": {},
   "outputs": [
    {
     "data": {
      "text/html": [
       "<div>\n",
       "<style scoped>\n",
       "    .dataframe tbody tr th:only-of-type {\n",
       "        vertical-align: middle;\n",
       "    }\n",
       "\n",
       "    .dataframe tbody tr th {\n",
       "        vertical-align: top;\n",
       "    }\n",
       "\n",
       "    .dataframe thead th {\n",
       "        text-align: right;\n",
       "    }\n",
       "</style>\n",
       "<table border=\"1\" class=\"dataframe\">\n",
       "  <thead>\n",
       "    <tr style=\"text-align: right;\">\n",
       "      <th></th>\n",
       "      <th>sepal_length</th>\n",
       "      <th>sepal_width</th>\n",
       "      <th>petal_length</th>\n",
       "      <th>petal_width</th>\n",
       "    </tr>\n",
       "    <tr>\n",
       "      <th>species</th>\n",
       "      <th></th>\n",
       "      <th></th>\n",
       "      <th></th>\n",
       "      <th></th>\n",
       "    </tr>\n",
       "  </thead>\n",
       "  <tbody>\n",
       "    <tr>\n",
       "      <th>setosa</th>\n",
       "      <td>0.352490</td>\n",
       "      <td>0.379064</td>\n",
       "      <td>0.173664</td>\n",
       "      <td>0.105386</td>\n",
       "    </tr>\n",
       "    <tr>\n",
       "      <th>versicolor</th>\n",
       "      <td>0.516171</td>\n",
       "      <td>0.313798</td>\n",
       "      <td>0.469911</td>\n",
       "      <td>0.197753</td>\n",
       "    </tr>\n",
       "    <tr>\n",
       "      <th>virginica</th>\n",
       "      <td>0.635880</td>\n",
       "      <td>0.322497</td>\n",
       "      <td>0.551895</td>\n",
       "      <td>0.274650</td>\n",
       "    </tr>\n",
       "  </tbody>\n",
       "</table>\n",
       "</div>"
      ],
      "text/plain": [
       "            sepal_length  sepal_width  petal_length  petal_width\n",
       "species                                                         \n",
       "setosa          0.352490     0.379064      0.173664     0.105386\n",
       "versicolor      0.516171     0.313798      0.469911     0.197753\n",
       "virginica       0.635880     0.322497      0.551895     0.274650"
      ]
     },
     "execution_count": 11,
     "metadata": {},
     "output_type": "execute_result"
    }
   ],
   "source": [
    "#\n",
    "# Cálculo por especie\n",
    "#\n",
    "iris.groupby('species').std()"
   ]
  },
  {
   "cell_type": "markdown",
   "id": "58bfbf94-4db4-4215-8bb0-0e7daeb25f77",
   "metadata": {},
   "source": [
    "**Desviación media absoluta (MAD):**\n",
    "\n",
    "Norma L1 o distancia de Manhattan.\n",
    "\n",
    "$$\\text{MAD} = \\frac{1}{n} \\sum_{i=1}^n |x_i - \\bar{x}|$$"
   ]
  },
  {
   "cell_type": "code",
   "execution_count": 12,
   "id": "14b0a922-00ef-4205-84b5-e9dcab8e8ed8",
   "metadata": {},
   "outputs": [
    {
     "data": {
      "text/plain": [
       "0.6875555555555557"
      ]
     },
     "metadata": {},
     "output_type": "display_data"
    },
    {
     "data": {
      "text/plain": [
       "1.0378200000000002"
      ]
     },
     "metadata": {},
     "output_type": "display_data"
    }
   ],
   "source": [
    "#\n",
    "# Cálculo para una variable\n",
    "#\n",
    "from scipy.stats import median_absolute_deviation\n",
    "\n",
    "display(\n",
    "    iris.sepal_length.mad(),\n",
    "    median_absolute_deviation(iris.sepal_length)\n",
    ")"
   ]
  },
  {
   "cell_type": "code",
   "execution_count": 13,
   "id": "b9e498dd-fe7a-4de9-9cb2-351ed4b890a5",
   "metadata": {},
   "outputs": [
    {
     "data": {
      "text/plain": [
       "sepal_length    0.687556\n",
       "sepal_width     0.336782\n",
       "petal_length    1.562747\n",
       "petal_width     0.658133\n",
       "dtype: float64"
      ]
     },
     "execution_count": 13,
     "metadata": {},
     "output_type": "execute_result"
    }
   ],
   "source": [
    "#\n",
    "# Cálculo para las columnas del dataframe\n",
    "#\n",
    "iris.mad()"
   ]
  },
  {
   "cell_type": "code",
   "execution_count": 14,
   "id": "aea3d3d4-59d7-4411-bc59-002e645430a0",
   "metadata": {},
   "outputs": [
    {
     "data": {
      "text/html": [
       "<div>\n",
       "<style scoped>\n",
       "    .dataframe tbody tr th:only-of-type {\n",
       "        vertical-align: middle;\n",
       "    }\n",
       "\n",
       "    .dataframe tbody tr th {\n",
       "        vertical-align: top;\n",
       "    }\n",
       "\n",
       "    .dataframe thead th {\n",
       "        text-align: right;\n",
       "    }\n",
       "</style>\n",
       "<table border=\"1\" class=\"dataframe\">\n",
       "  <thead>\n",
       "    <tr style=\"text-align: right;\">\n",
       "      <th></th>\n",
       "      <th>sepal_length</th>\n",
       "      <th>sepal_width</th>\n",
       "      <th>petal_length</th>\n",
       "      <th>petal_width</th>\n",
       "    </tr>\n",
       "    <tr>\n",
       "      <th>species</th>\n",
       "      <th></th>\n",
       "      <th></th>\n",
       "      <th></th>\n",
       "      <th></th>\n",
       "    </tr>\n",
       "  </thead>\n",
       "  <tbody>\n",
       "    <tr>\n",
       "      <th>setosa</th>\n",
       "      <td>0.27072</td>\n",
       "      <td>0.28736</td>\n",
       "      <td>0.13152</td>\n",
       "      <td>0.08256</td>\n",
       "    </tr>\n",
       "    <tr>\n",
       "      <th>versicolor</th>\n",
       "      <td>0.42144</td>\n",
       "      <td>0.25480</td>\n",
       "      <td>0.37920</td>\n",
       "      <td>0.15712</td>\n",
       "    </tr>\n",
       "    <tr>\n",
       "      <th>virginica</th>\n",
       "      <td>0.50256</td>\n",
       "      <td>0.24216</td>\n",
       "      <td>0.44000</td>\n",
       "      <td>0.22808</td>\n",
       "    </tr>\n",
       "  </tbody>\n",
       "</table>\n",
       "</div>"
      ],
      "text/plain": [
       "            sepal_length  sepal_width  petal_length  petal_width\n",
       "species                                                         \n",
       "setosa           0.27072      0.28736       0.13152      0.08256\n",
       "versicolor       0.42144      0.25480       0.37920      0.15712\n",
       "virginica        0.50256      0.24216       0.44000      0.22808"
      ]
     },
     "execution_count": 14,
     "metadata": {},
     "output_type": "execute_result"
    }
   ],
   "source": [
    "#\n",
    "# Cálculo por especie\n",
    "#\n",
    "iris.groupby('species').mad()"
   ]
  },
  {
   "cell_type": "markdown",
   "id": "0eeab3aa-9b3a-4af6-8c7d-4adfec0b1d71",
   "metadata": {},
   "source": [
    "**Desviación absoluta de la mediana:** \n",
    "\n",
    "Ya que la varianza y la desviación media absoluta no son robusta a outliers, se puede realizar un estimado de la desviación usando la mediana $m$ de la muestra:\n",
    "\n",
    "$$\\text{Mediana}(|x_1 - m|,\\; |x_2 - m|,\\;...,\\;|x_n - m|)$$ \n",
    "\n",
    "\n",
    "También es posible computar la varianza muestral truncada en analogía a la media truncada."
   ]
  },
  {
   "cell_type": "code",
   "execution_count": 15,
   "id": "afb93286-5759-4341-b501-4c7065528483",
   "metadata": {},
   "outputs": [
    {
     "data": {
      "text/plain": [
       "sepal_length    0.687556\n",
       "sepal_width     0.336782\n",
       "petal_length    1.562747\n",
       "petal_width     0.658133\n",
       "dtype: float64"
      ]
     },
     "execution_count": 15,
     "metadata": {},
     "output_type": "execute_result"
    }
   ],
   "source": [
    "def madm(df):\n",
    "    d = df._get_numeric_data().copy()\n",
    "    m = d.median()\n",
    "    for c in d.columns:\n",
    "        d[c] = d[c] - m[c]\n",
    "    return d.mad()\n",
    "\n",
    "\n",
    "madm(iris)"
   ]
  },
  {
   "cell_type": "code",
   "execution_count": 16,
   "id": "076c4bf1-54e6-4ba4-9753-201887858bce",
   "metadata": {},
   "outputs": [
    {
     "data": {
      "text/html": [
       "<div>\n",
       "<style scoped>\n",
       "    .dataframe tbody tr th:only-of-type {\n",
       "        vertical-align: middle;\n",
       "    }\n",
       "\n",
       "    .dataframe tbody tr th {\n",
       "        vertical-align: top;\n",
       "    }\n",
       "\n",
       "    .dataframe thead th {\n",
       "        text-align: right;\n",
       "    }\n",
       "</style>\n",
       "<table border=\"1\" class=\"dataframe\">\n",
       "  <thead>\n",
       "    <tr style=\"text-align: right;\">\n",
       "      <th></th>\n",
       "      <th>sepal_length</th>\n",
       "      <th>sepal_width</th>\n",
       "      <th>petal_length</th>\n",
       "      <th>petal_width</th>\n",
       "    </tr>\n",
       "    <tr>\n",
       "      <th>species</th>\n",
       "      <th></th>\n",
       "      <th></th>\n",
       "      <th></th>\n",
       "      <th></th>\n",
       "    </tr>\n",
       "  </thead>\n",
       "  <tbody>\n",
       "    <tr>\n",
       "      <th>setosa</th>\n",
       "      <td>0.270</td>\n",
       "      <td>0.284</td>\n",
       "      <td>0.130</td>\n",
       "      <td>0.066</td>\n",
       "    </tr>\n",
       "    <tr>\n",
       "      <th>versicolor</th>\n",
       "      <td>0.420</td>\n",
       "      <td>0.250</td>\n",
       "      <td>0.376</td>\n",
       "      <td>0.154</td>\n",
       "    </tr>\n",
       "    <tr>\n",
       "      <th>virginica</th>\n",
       "      <td>0.492</td>\n",
       "      <td>0.238</td>\n",
       "      <td>0.440</td>\n",
       "      <td>0.226</td>\n",
       "    </tr>\n",
       "  </tbody>\n",
       "</table>\n",
       "</div>"
      ],
      "text/plain": [
       "            sepal_length  sepal_width  petal_length  petal_width\n",
       "species                                                         \n",
       "setosa             0.270        0.284         0.130        0.066\n",
       "versicolor         0.420        0.250         0.376        0.154\n",
       "virginica          0.492        0.238         0.440        0.226"
      ]
     },
     "execution_count": 16,
     "metadata": {},
     "output_type": "execute_result"
    }
   ],
   "source": [
    "#\n",
    "# Cálculo por especie\n",
    "#\n",
    "def madm(x):\n",
    "    m = x.median()\n",
    "    x = x - m\n",
    "    x = x.abs()\n",
    "    return x.mean()\n",
    "    \n",
    "\n",
    "iris.groupby('species').agg(madm)"
   ]
  },
  {
   "cell_type": "markdown",
   "id": "fdff3e82-3f1f-471a-bb76-c3b1d2bfccb6",
   "metadata": {},
   "source": [
    "### Métricas basadas en la distribución de los datos"
   ]
  },
  {
   "cell_type": "markdown",
   "id": "e2c8e4d2-5c00-4a41-a5b7-f5eed72239cd",
   "metadata": {},
   "source": [
    "**Función de Densidad Acumulada Empírica (ECDF)**"
   ]
  },
  {
   "cell_type": "code",
   "execution_count": 17,
   "id": "1a26e811-b9c2-48e0-906f-8cfd0ec50ed0",
   "metadata": {},
   "outputs": [
    {
     "data": {
      "image/png": "[encoded data removed]",
      "text/plain": [
       "<Figure size 432x288 with 1 Axes>"
      ]
     },
     "metadata": {
      "needs_background": "light"
     },
     "output_type": "display_data"
    }
   ],
   "source": [
    "def ecdf(ax, data, param_dict=None):\n",
    "    \n",
    "    if param_dict is None:\n",
    "        param_dict = {}\n",
    "        \n",
    "    props = {\n",
    "        'marker': '.',\n",
    "        'linestyle': 'none',\n",
    "    }\n",
    "    \n",
    "    props = {**props, **param_dict}\n",
    "    \n",
    "    x = np.sort(data)\n",
    "    y = np.arange(1, len(data) + 1) / (len(data) + 1)\n",
    "    out = ax.plot(x, y, **props)\n",
    "    return out\n",
    "    \n",
    "    \n",
    "_, ax = plt.subplots(1, 1)\n",
    "ecdf(ax, iris.sepal_length[iris.species == 'virginica'])\n",
    "plt.show()"
   ]
  },
  {
   "cell_type": "code",
   "execution_count": 18,
   "id": "8020456b-db05-44a0-a45d-fdc822c19228",
   "metadata": {},
   "outputs": [
    {
     "data": {
      "image/png": "[encoded data removed]",
      "text/plain": [
       "<Figure size 804.75x720 with 4 Axes>"
      ]
     },
     "metadata": {
      "needs_background": "light"
     },
     "output_type": "display_data"
    }
   ],
   "source": [
    "sns.displot(\n",
    "    kind=\"ecdf\",\n",
    "    x=\"Values\",\n",
    "    hue='species',\n",
    "    data=iris_melt,\n",
    "    col=\"Variables\",\n",
    "    col_wrap=2,\n",
    "    marker='o',\n",
    "    linestyle=None,\n",
    "    alpha=0.4,\n",
    "    markersize=7,\n",
    "    markeredgecolor=\"k\",\n",
    "    linewidth=1,\n",
    ")\n",
    "plt.show()"
   ]
  },
  {
   "cell_type": "markdown",
   "id": "cf1347d4-2656-4459-aa23-a752ef5baa58",
   "metadata": {},
   "source": [
    "**Estadísticos de orden:** Métricas calculadas sobre los datos ordenados."
   ]
  },
  {
   "cell_type": "markdown",
   "id": "67c73d08-2592-4c99-a1a1-17d08e2bc8c2",
   "metadata": {},
   "source": [
    "* **Percentil** $p$: Valor para el cual el $p$ por ciento de los datos son menores o iguales. "
   ]
  },
  {
   "cell_type": "markdown",
   "id": "ba3cb4ab-94a2-474c-a16b-3c91341ed4ff",
   "metadata": {},
   "source": [
    "* **decil** $d$: Valor para el cual el $d$ por ciento de los datos son menores o iguales. $d$ es un múltiplo de 10."
   ]
  },
  {
   "cell_type": "markdown",
   "id": "17f7dd7d-7e96-477c-8c02-11dbeec1cda1",
   "metadata": {},
   "source": [
    "* **Cuartil inferior:** Valor para el cual el 25% de las observaciones son más pequeñas (percentil del 25%)."
   ]
  },
  {
   "cell_type": "markdown",
   "id": "ae2df12a-aa44-4d88-a247-760d697111a0",
   "metadata": {},
   "source": [
    "* **Cuartil superior:** Valor para el cual el 25% de las observaciones son más grandes (percentil del 75%)."
   ]
  },
  {
   "cell_type": "markdown",
   "id": "72c44524-aa04-48d9-9ded-a778ed77adcf",
   "metadata": {},
   "source": [
    "* **Rango intercuartil (IQR):**\n",
    "\n",
    "$$\\text{IQR} = \\text{Cuartil superior} - \\text{Cuartil inferior}$$"
   ]
  },
  {
   "cell_type": "code",
   "execution_count": 19,
   "id": "066ae75b-c9eb-4616-8558-22376df3417b",
   "metadata": {},
   "outputs": [
    {
     "data": {
      "text/html": [
       "<div>\n",
       "<style scoped>\n",
       "    .dataframe tbody tr th:only-of-type {\n",
       "        vertical-align: middle;\n",
       "    }\n",
       "\n",
       "    .dataframe tbody tr th {\n",
       "        vertical-align: top;\n",
       "    }\n",
       "\n",
       "    .dataframe thead th {\n",
       "        text-align: right;\n",
       "    }\n",
       "</style>\n",
       "<table border=\"1\" class=\"dataframe\">\n",
       "  <thead>\n",
       "    <tr style=\"text-align: right;\">\n",
       "      <th></th>\n",
       "      <th>sepal_length</th>\n",
       "      <th>sepal_width</th>\n",
       "      <th>petal_length</th>\n",
       "      <th>petal_width</th>\n",
       "    </tr>\n",
       "  </thead>\n",
       "  <tbody>\n",
       "    <tr>\n",
       "      <th>0.25</th>\n",
       "      <td>5.1</td>\n",
       "      <td>2.8</td>\n",
       "      <td>1.6</td>\n",
       "      <td>0.3</td>\n",
       "    </tr>\n",
       "    <tr>\n",
       "      <th>0.75</th>\n",
       "      <td>6.4</td>\n",
       "      <td>3.3</td>\n",
       "      <td>5.1</td>\n",
       "      <td>1.8</td>\n",
       "    </tr>\n",
       "  </tbody>\n",
       "</table>\n",
       "</div>"
      ],
      "text/plain": [
       "      sepal_length  sepal_width  petal_length  petal_width\n",
       "0.25           5.1          2.8           1.6          0.3\n",
       "0.75           6.4          3.3           5.1          1.8"
      ]
     },
     "execution_count": 19,
     "metadata": {},
     "output_type": "execute_result"
    }
   ],
   "source": [
    "#\n",
    "# Cálculo de los cuartiles\n",
    "#\n",
    "iris.quantile(\n",
    "    # -------------------------------------------------------------------------\n",
    "    # the quantile(s) to compute\n",
    "    q=[0.25, 0.75],\n",
    "    # -------------------------------------------------------------------------\n",
    "    # Specifies the interpolation method to use, when the desired quantile lies\n",
    "    # between two data points i and j:\n",
    "    # {‘linear’, ‘lower’, ‘higher’, ‘midpoint’, ‘nearest’}\n",
    "    interpolation='linear',\n",
    ")"
   ]
  },
  {
   "cell_type": "code",
   "execution_count": 20,
   "id": "4717ad6b-8d77-4765-b9ee-524883711f94",
   "metadata": {},
   "outputs": [
    {
     "data": {
      "text/plain": [
       "sepal_length    5.1\n",
       "sepal_width     2.8\n",
       "petal_length    1.6\n",
       "petal_width     0.3\n",
       "Name: 0.25, dtype: float64"
      ]
     },
     "metadata": {},
     "output_type": "display_data"
    },
    {
     "data": {
      "text/plain": [
       "sepal_length    6.4\n",
       "sepal_width     3.3\n",
       "petal_length    5.1\n",
       "petal_width     1.8\n",
       "Name: 0.75, dtype: float64"
      ]
     },
     "metadata": {},
     "output_type": "display_data"
    }
   ],
   "source": [
    "#\n",
    "# Cálculo de cuartiles\n",
    "#\n",
    "display(\n",
    "    iris.quantile(0.25),\n",
    "    iris.quantile(0.75)\n",
    ")"
   ]
  },
  {
   "cell_type": "code",
   "execution_count": 21,
   "id": "c6a610e2-41bc-4baf-a2d5-364f50f065a3",
   "metadata": {},
   "outputs": [
    {
     "data": {
      "text/html": [
       "<div>\n",
       "<style scoped>\n",
       "    .dataframe tbody tr th:only-of-type {\n",
       "        vertical-align: middle;\n",
       "    }\n",
       "\n",
       "    .dataframe tbody tr th {\n",
       "        vertical-align: top;\n",
       "    }\n",
       "\n",
       "    .dataframe thead th {\n",
       "        text-align: right;\n",
       "    }\n",
       "</style>\n",
       "<table border=\"1\" class=\"dataframe\">\n",
       "  <thead>\n",
       "    <tr style=\"text-align: right;\">\n",
       "      <th></th>\n",
       "      <th>sepal_length</th>\n",
       "      <th>sepal_width</th>\n",
       "      <th>petal_length</th>\n",
       "      <th>petal_width</th>\n",
       "    </tr>\n",
       "    <tr>\n",
       "      <th>species</th>\n",
       "      <th></th>\n",
       "      <th></th>\n",
       "      <th></th>\n",
       "      <th></th>\n",
       "    </tr>\n",
       "  </thead>\n",
       "  <tbody>\n",
       "    <tr>\n",
       "      <th>setosa</th>\n",
       "      <td>4.800</td>\n",
       "      <td>3.200</td>\n",
       "      <td>1.4</td>\n",
       "      <td>0.2</td>\n",
       "    </tr>\n",
       "    <tr>\n",
       "      <th>versicolor</th>\n",
       "      <td>5.600</td>\n",
       "      <td>2.525</td>\n",
       "      <td>4.0</td>\n",
       "      <td>1.2</td>\n",
       "    </tr>\n",
       "    <tr>\n",
       "      <th>virginica</th>\n",
       "      <td>6.225</td>\n",
       "      <td>2.800</td>\n",
       "      <td>5.1</td>\n",
       "      <td>1.8</td>\n",
       "    </tr>\n",
       "  </tbody>\n",
       "</table>\n",
       "</div>"
      ],
      "text/plain": [
       "            sepal_length  sepal_width  petal_length  petal_width\n",
       "species                                                         \n",
       "setosa             4.800        3.200           1.4          0.2\n",
       "versicolor         5.600        2.525           4.0          1.2\n",
       "virginica          6.225        2.800           5.1          1.8"
      ]
     },
     "execution_count": 21,
     "metadata": {},
     "output_type": "execute_result"
    }
   ],
   "source": [
    "iris.groupby(\"species\").quantile(0.25)"
   ]
  },
  {
   "cell_type": "code",
   "execution_count": 22,
   "id": "b8c937b4-3187-4f4d-b4b1-f6cf5eabff10",
   "metadata": {},
   "outputs": [
    {
     "data": {
      "text/html": [
       "<div>\n",
       "<style scoped>\n",
       "    .dataframe tbody tr th:only-of-type {\n",
       "        vertical-align: middle;\n",
       "    }\n",
       "\n",
       "    .dataframe tbody tr th {\n",
       "        vertical-align: top;\n",
       "    }\n",
       "\n",
       "    .dataframe thead th {\n",
       "        text-align: right;\n",
       "    }\n",
       "</style>\n",
       "<table border=\"1\" class=\"dataframe\">\n",
       "  <thead>\n",
       "    <tr style=\"text-align: right;\">\n",
       "      <th></th>\n",
       "      <th>sepal_length</th>\n",
       "      <th>sepal_width</th>\n",
       "      <th>petal_length</th>\n",
       "      <th>petal_width</th>\n",
       "    </tr>\n",
       "    <tr>\n",
       "      <th>species</th>\n",
       "      <th></th>\n",
       "      <th></th>\n",
       "      <th></th>\n",
       "      <th></th>\n",
       "    </tr>\n",
       "  </thead>\n",
       "  <tbody>\n",
       "    <tr>\n",
       "      <th>setosa</th>\n",
       "      <td>5.2</td>\n",
       "      <td>3.675</td>\n",
       "      <td>1.575</td>\n",
       "      <td>0.3</td>\n",
       "    </tr>\n",
       "    <tr>\n",
       "      <th>versicolor</th>\n",
       "      <td>6.3</td>\n",
       "      <td>3.000</td>\n",
       "      <td>4.600</td>\n",
       "      <td>1.5</td>\n",
       "    </tr>\n",
       "    <tr>\n",
       "      <th>virginica</th>\n",
       "      <td>6.9</td>\n",
       "      <td>3.175</td>\n",
       "      <td>5.875</td>\n",
       "      <td>2.3</td>\n",
       "    </tr>\n",
       "  </tbody>\n",
       "</table>\n",
       "</div>"
      ],
      "text/plain": [
       "            sepal_length  sepal_width  petal_length  petal_width\n",
       "species                                                         \n",
       "setosa               5.2        3.675         1.575          0.3\n",
       "versicolor           6.3        3.000         4.600          1.5\n",
       "virginica            6.9        3.175         5.875          2.3"
      ]
     },
     "execution_count": 22,
     "metadata": {},
     "output_type": "execute_result"
    }
   ],
   "source": [
    "iris.groupby(\"species\").quantile(0.75)"
   ]
  },
  {
   "cell_type": "code",
   "execution_count": 23,
   "id": "b9bbe714-9f9a-459c-a112-07e6ae582ddd",
   "metadata": {},
   "outputs": [
    {
     "data": {
      "text/html": [
       "<div>\n",
       "<style scoped>\n",
       "    .dataframe tbody tr th:only-of-type {\n",
       "        vertical-align: middle;\n",
       "    }\n",
       "\n",
       "    .dataframe tbody tr th {\n",
       "        vertical-align: top;\n",
       "    }\n",
       "\n",
       "    .dataframe thead th {\n",
       "        text-align: right;\n",
       "    }\n",
       "</style>\n",
       "<table border=\"1\" class=\"dataframe\">\n",
       "  <thead>\n",
       "    <tr style=\"text-align: right;\">\n",
       "      <th></th>\n",
       "      <th>sepal_length</th>\n",
       "      <th>sepal_width</th>\n",
       "      <th>petal_length</th>\n",
       "      <th>petal_width</th>\n",
       "    </tr>\n",
       "    <tr>\n",
       "      <th>species</th>\n",
       "      <th></th>\n",
       "      <th></th>\n",
       "      <th></th>\n",
       "      <th></th>\n",
       "    </tr>\n",
       "  </thead>\n",
       "  <tbody>\n",
       "    <tr>\n",
       "      <th>setosa</th>\n",
       "      <td>0.400</td>\n",
       "      <td>0.475</td>\n",
       "      <td>0.175</td>\n",
       "      <td>0.1</td>\n",
       "    </tr>\n",
       "    <tr>\n",
       "      <th>versicolor</th>\n",
       "      <td>0.700</td>\n",
       "      <td>0.475</td>\n",
       "      <td>0.600</td>\n",
       "      <td>0.3</td>\n",
       "    </tr>\n",
       "    <tr>\n",
       "      <th>virginica</th>\n",
       "      <td>0.675</td>\n",
       "      <td>0.375</td>\n",
       "      <td>0.775</td>\n",
       "      <td>0.5</td>\n",
       "    </tr>\n",
       "  </tbody>\n",
       "</table>\n",
       "</div>"
      ],
      "text/plain": [
       "            sepal_length  sepal_width  petal_length  petal_width\n",
       "species                                                         \n",
       "setosa             0.400        0.475         0.175          0.1\n",
       "versicolor         0.700        0.475         0.600          0.3\n",
       "virginica          0.675        0.375         0.775          0.5"
      ]
     },
     "execution_count": 23,
     "metadata": {},
     "output_type": "execute_result"
    }
   ],
   "source": [
    "iris.groupby(\"species\").quantile(0.75) - iris.groupby(\"species\").quantile(0.25)"
   ]
  },
  {
   "cell_type": "code",
   "execution_count": 24,
   "id": "4404f6ed-8e29-456b-a97d-5c6659ab6c04",
   "metadata": {},
   "outputs": [
    {
     "data": {
      "text/html": [
       "<div>\n",
       "<style scoped>\n",
       "    .dataframe tbody tr th:only-of-type {\n",
       "        vertical-align: middle;\n",
       "    }\n",
       "\n",
       "    .dataframe tbody tr th {\n",
       "        vertical-align: top;\n",
       "    }\n",
       "\n",
       "    .dataframe thead th {\n",
       "        text-align: right;\n",
       "    }\n",
       "</style>\n",
       "<table border=\"1\" class=\"dataframe\">\n",
       "  <thead>\n",
       "    <tr style=\"text-align: right;\">\n",
       "      <th></th>\n",
       "      <th>sepal_length</th>\n",
       "      <th>sepal_width</th>\n",
       "      <th>petal_length</th>\n",
       "      <th>petal_width</th>\n",
       "    </tr>\n",
       "  </thead>\n",
       "  <tbody>\n",
       "    <tr>\n",
       "      <th>count</th>\n",
       "      <td>150.000000</td>\n",
       "      <td>150.000000</td>\n",
       "      <td>150.000000</td>\n",
       "      <td>150.000000</td>\n",
       "    </tr>\n",
       "    <tr>\n",
       "      <th>mean</th>\n",
       "      <td>5.843333</td>\n",
       "      <td>3.057333</td>\n",
       "      <td>3.758000</td>\n",
       "      <td>1.199333</td>\n",
       "    </tr>\n",
       "    <tr>\n",
       "      <th>std</th>\n",
       "      <td>0.828066</td>\n",
       "      <td>0.435866</td>\n",
       "      <td>1.765298</td>\n",
       "      <td>0.762238</td>\n",
       "    </tr>\n",
       "    <tr>\n",
       "      <th>min</th>\n",
       "      <td>4.300000</td>\n",
       "      <td>2.000000</td>\n",
       "      <td>1.000000</td>\n",
       "      <td>0.100000</td>\n",
       "    </tr>\n",
       "    <tr>\n",
       "      <th>25%</th>\n",
       "      <td>5.100000</td>\n",
       "      <td>2.800000</td>\n",
       "      <td>1.600000</td>\n",
       "      <td>0.300000</td>\n",
       "    </tr>\n",
       "    <tr>\n",
       "      <th>50%</th>\n",
       "      <td>5.800000</td>\n",
       "      <td>3.000000</td>\n",
       "      <td>4.350000</td>\n",
       "      <td>1.300000</td>\n",
       "    </tr>\n",
       "    <tr>\n",
       "      <th>75%</th>\n",
       "      <td>6.400000</td>\n",
       "      <td>3.300000</td>\n",
       "      <td>5.100000</td>\n",
       "      <td>1.800000</td>\n",
       "    </tr>\n",
       "    <tr>\n",
       "      <th>max</th>\n",
       "      <td>7.900000</td>\n",
       "      <td>4.400000</td>\n",
       "      <td>6.900000</td>\n",
       "      <td>2.500000</td>\n",
       "    </tr>\n",
       "  </tbody>\n",
       "</table>\n",
       "</div>"
      ],
      "text/plain": [
       "       sepal_length  sepal_width  petal_length  petal_width\n",
       "count    150.000000   150.000000    150.000000   150.000000\n",
       "mean       5.843333     3.057333      3.758000     1.199333\n",
       "std        0.828066     0.435866      1.765298     0.762238\n",
       "min        4.300000     2.000000      1.000000     0.100000\n",
       "25%        5.100000     2.800000      1.600000     0.300000\n",
       "50%        5.800000     3.000000      4.350000     1.300000\n",
       "75%        6.400000     3.300000      5.100000     1.800000\n",
       "max        7.900000     4.400000      6.900000     2.500000"
      ]
     },
     "execution_count": 24,
     "metadata": {},
     "output_type": "execute_result"
    }
   ],
   "source": [
    "#\n",
    "# El método describe de pandas computa los principales estadísticos para las\n",
    "# columnas numéricas del dataframe\n",
    "#\n",
    "iris.describe()"
   ]
  },
  {
   "cell_type": "code",
   "execution_count": 25,
   "id": "02c43469-e0e3-412e-99d2-63825b036fa5",
   "metadata": {},
   "outputs": [
    {
     "name": "stdout",
     "output_type": "stream",
     "text": [
      "sepal_length\n",
      "            count   mean       std  min    25%  50%  75%  max\n",
      "species                                                      \n",
      "setosa       50.0  5.006  0.352490  4.3  4.800  5.0  5.2  5.8\n",
      "versicolor   50.0  5.936  0.516171  4.9  5.600  5.9  6.3  7.0\n",
      "virginica    50.0  6.588  0.635880  4.9  6.225  6.5  6.9  7.9\n",
      "\n",
      "sepal_width\n",
      "            count   mean       std  min    25%  50%    75%  max\n",
      "species                                                        \n",
      "setosa       50.0  3.428  0.379064  2.3  3.200  3.4  3.675  4.4\n",
      "versicolor   50.0  2.770  0.313798  2.0  2.525  2.8  3.000  3.4\n",
      "virginica    50.0  2.974  0.322497  2.2  2.800  3.0  3.175  3.8\n",
      "\n",
      "petal_length\n",
      "            count   mean       std  min  25%   50%    75%  max\n",
      "species                                                       \n",
      "setosa       50.0  1.462  0.173664  1.0  1.4  1.50  1.575  1.9\n",
      "versicolor   50.0  4.260  0.469911  3.0  4.0  4.35  4.600  5.1\n",
      "virginica    50.0  5.552  0.551895  4.5  5.1  5.55  5.875  6.9\n",
      "\n",
      "petal_width\n",
      "            count   mean       std  min  25%  50%  75%  max\n",
      "species                                                    \n",
      "setosa       50.0  0.246  0.105386  0.1  0.2  0.2  0.3  0.6\n",
      "versicolor   50.0  1.326  0.197753  1.0  1.2  1.3  1.5  1.8\n",
      "virginica    50.0  2.026  0.274650  1.4  1.8  2.0  2.3  2.5\n",
      "\n"
     ]
    }
   ],
   "source": [
    "for column in iris._get_numeric_data().columns:\n",
    "    print(column)\n",
    "    print(iris.groupby(\"species\")[column].describe())\n",
    "    print(\"\")"
   ]
  },
  {
   "cell_type": "code",
   "execution_count": 26,
   "id": "1e92bfbb-25a0-4a1c-99b1-3659e1045326",
   "metadata": {},
   "outputs": [
    {
     "data": {
      "text/plain": [
       "count    150.000000\n",
       "mean       5.843333\n",
       "std        0.828066\n",
       "min        4.300000\n",
       "25%        5.100000\n",
       "50%        5.800000\n",
       "75%        6.400000\n",
       "max        7.900000\n",
       "Name: sepal_length, dtype: float64"
      ]
     },
     "execution_count": 26,
     "metadata": {},
     "output_type": "execute_result"
    }
   ],
   "source": [
    "#\n",
    "# Método describe aplicado a una columna particular\n",
    "#\n",
    "iris.sepal_length.describe()"
   ]
  },
  {
   "cell_type": "code",
   "execution_count": 27,
   "id": "97ab0698-9880-4bea-8045-6075a99b9b3d",
   "metadata": {},
   "outputs": [
    {
     "data": {
      "image/png": "[encoded data removed]",
      "text/plain": [
       "<Figure size 432x288 with 1 Axes>"
      ]
     },
     "metadata": {},
     "output_type": "display_data"
    }
   ],
   "source": [
    "descriptive_stats = iris.sepal_length.describe()\n",
    "\n",
    "q75 = iris.sepal_length.describe()['75%']\n",
    "q25 = iris.sepal_length.describe()['25%']\n",
    "iqr = q75 - q25\n",
    "\n",
    "upper_outliers = q75 + 1.5 * iqr\n",
    "lower_outliers = q25 - 1.5 * iqr\n",
    "\n",
    "sns.set(color_codes=True)\n",
    "\n",
    "sns.kdeplot(iris['sepal_length'], shade=True)\n",
    "plt.axvline(iris.sepal_length.mean())\n",
    "plt.axvline(iris.sepal_length.median(), color='r')\n",
    "plt.axvline(q25, color='g')\n",
    "plt.axvline(q75, color='g')\n",
    "plt.axvline(upper_outliers, color = 'b')\n",
    "plt.axvline(lower_outliers, color = 'b')\n",
    "plt.show()"
   ]
  },
  {
   "cell_type": "markdown",
   "id": "6bf1868e-5aad-43bc-bb33-7e1a2f0034c2",
   "metadata": {},
   "source": [
    "**Diagramas de caja y bigote**"
   ]
  },
  {
   "cell_type": "code",
   "execution_count": 28,
   "id": "ac13a773-eaf5-4557-96f2-e54752dcad54",
   "metadata": {},
   "outputs": [
    {
     "data": {
      "image/png": "[encoded data removed]",
      "text/plain": [
       "<Figure size 720x720 with 4 Axes>"
      ]
     },
     "metadata": {},
     "output_type": "display_data"
    }
   ],
   "source": [
    "#\n",
    "# La caja central representa los cuartiles del 25% y 75%.\n",
    "# La línea centra de la caja representa la mediana\n",
    "# Los bigotes están ubicados a 1.5 veces el rango interquartil.\n",
    "# Los puntos por fuera de los bigotes representan outliers.\n",
    "#\n",
    "sns.catplot(\n",
    "    x=\"species\",\n",
    "    y=\"Values\",\n",
    "    data=iris_melt,\n",
    "    col=\"Variables\",\n",
    "    kind=\"box\",\n",
    "    col_wrap=2,\n",
    ")\n",
    "plt.show()"
   ]
  },
  {
   "cell_type": "markdown",
   "id": "400d2afe-2eb6-4a9a-98c6-c74419f481ec",
   "metadata": {},
   "source": [
    "**Medidas de forma**"
   ]
  },
  {
   "cell_type": "code",
   "execution_count": 29,
   "id": "2b7b4cb0-2c05-484f-b12a-adf38a450f8b",
   "metadata": {},
   "outputs": [
    {
     "data": {
      "text/plain": [
       "0.3149109566369728"
      ]
     },
     "metadata": {},
     "output_type": "display_data"
    },
    {
     "data": {
      "text/plain": [
       "0.3117530585022963"
      ]
     },
     "metadata": {},
     "output_type": "display_data"
    }
   ],
   "source": [
    "from scipy.stats import skew\n",
    "\n",
    "display(\n",
    "    iris.sepal_length.skew(),\n",
    "    skew(iris.sepal_length),\n",
    ")"
   ]
  },
  {
   "cell_type": "code",
   "execution_count": 30,
   "id": "bda964a1-9f6d-4435-b2a6-a696a31d0e97",
   "metadata": {},
   "outputs": [
    {
     "data": {
      "text/plain": [
       "-0.5520640413156395"
      ]
     },
     "metadata": {},
     "output_type": "display_data"
    },
    {
     "data": {
      "text/plain": [
       "-0.5735679489249765"
      ]
     },
     "metadata": {},
     "output_type": "display_data"
    }
   ],
   "source": [
    "from scipy.stats import kurtosis\n",
    "\n",
    "display(\n",
    "    iris.sepal_length.kurt(),\n",
    "    kurtosis(iris.sepal_length),\n",
    ")"
   ]
  }
 ],
 "metadata": {
  "kernelspec": {
   "display_name": "Python 3",
   "language": "python",
   "name": "python3"
  },
  "language_info": {
   "codemirror_mode": {
    "name": "ipython",
    "version": 3
   },
   "file_extension": ".py",
   "mimetype": "text/x-python",
   "name": "python",
   "nbconvert_exporter": "python",
   "pygments_lexer": "ipython3",
   "version": "3.6.9"
  }
 },
 "nbformat": 4,
 "nbformat_minor": 5
}
