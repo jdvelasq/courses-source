{
 "cells": [
  {
   "cell_type": "markdown",
   "metadata": {},
   "source": [
    "Lenguaje Markdown\n",
    "===\n",
    "\n",
    "* *10:00 min* | Última modificación: Septiembre 13, 2021."
   ]
  },
  {
   "cell_type": "markdown",
   "metadata": {},
   "source": [
    "El formato de un libro de Jupyter/Colab se realiza usando Markdown en las celdas marcadas como tipo markdown. \n",
    "\n",
    "\n",
    "\n",
    "* Haga click [aquí](https://daringfireball.net/projects/markdown/basics) para acceder a una guía de markdown y [aquí](http://jupyter-notebook.readthedocs.org/en/latest/examples/Notebook/rstversions/Working%20With%20Markdown%20Cells.html) a la documentación oficial sobre markdown en Jupyter. \n",
    "\n",
    "\n",
    "* IPython tiene opciones para visualizar salidas en latex y html (entre otros). Haga click [aquí](https://github.com/ipython/ipython-in-depth/blob/1905adca735c567884c5db8c1b6295b0e1d7a218/examples/IPython%20Kernel/Rich%20Output.ipynb) para acceder a un tutorial. \n",
    "\n",
    "\n",
    "* Los libros de Jupyter pueden visualizarse de forma estática en la web usando [nbviewer](http://nbviewer.jupyter.org)\n",
    "\n",
    "\n"
   ]
  },
  {
   "cell_type": "markdown",
   "metadata": {},
   "source": [
    "**Encabezamientos de sección**\n",
    "\n",
    "     - # para títulos\n",
    "     - ## Para secciones\n",
    "     - ### Para subsecciones\n",
    "     - #### Para secciones de 3r nivel"
   ]
  },
  {
   "cell_type": "markdown",
   "metadata": {},
   "source": [
    "**Párrafos**\n",
    "\n",
    "     - Escriba el texto normalmente.\n",
    "     - Use > al inicio de párrafo para `quotes`"
   ]
  },
  {
   "cell_type": "markdown",
   "metadata": {},
   "source": [
    "**Enfasis**\n",
    "\n",
    "    - Texto en itálica: _texto_ o *text*.\n",
    "    - Texto en negrita: **texto** o __texto__ \n",
    "    - Texto tachado: ~~texto~~"
   ]
  },
  {
   "cell_type": "markdown",
   "metadata": {},
   "source": [
    "**Viñetas**\n",
    "\n",
    "    - Un guión (-), asterísco (*) o suma (+) seguido de uno o dos espacios: - texto\n",
    "    - Para sublistas dentro de listas simplemente idente la nueva lista."
   ]
  },
  {
   "cell_type": "markdown",
   "metadata": {},
   "source": [
    "**Lista numeradas**\n",
    "\n",
    "    - Digite el número inicial seguido de punto (.) y espacio. Luego el texto.\n",
    "    - Los números no requieren ser consecutivos ya que se corrigen automáticamente.\n",
    "    - Puede crear listas tipo diccionario usando este patrón:\n",
    "    \n",
    "         1. Uno\n",
    "         texto texto texto\n",
    "         \n",
    "         2. Dos\n",
    "         texto texto texto\n",
    "         \n",
    "         3. Tres\n",
    "         texto texto texto"
   ]
  },
  {
   "cell_type": "markdown",
   "metadata": {},
   "source": [
    "**Vínculos**\n",
    "\n",
    "    Este es un vínculo a [GOOGLE](http://www.google.com)."
   ]
  },
  {
   "cell_type": "markdown",
   "metadata": {},
   "source": [
    "**Vínculos tipo referencia**\n",
    "\n",
    "    Estos son vinculos referenciados a [Anaconda][1]  y [Python][2].\n",
    "\n",
    "    [1]: https://www.continuum.io \"Continuum Analytics\"\n",
    "    [2]: https://www.python.org \"Python Software Fundation\""
   ]
  },
  {
   "cell_type": "markdown",
   "metadata": {},
   "source": [
    "**Vínculos internos**\n",
    "\n",
    "    [vínculo a la seccion de abajo](#Imágenes)"
   ]
  },
  {
   "cell_type": "markdown",
   "metadata": {},
   "source": [
    "**Imágenes**\n",
    "\n",
    "    ![texto alternativo](nombre_de_archivo)   "
   ]
  },
  {
   "cell_type": "markdown",
   "metadata": {},
   "source": [
    "**Código fuente y salida de programas**\n",
    "\n",
    "\n",
    "    Se pueden crear bloques de código:\n",
    "\n",
    "        # agregar cuatro espacios al principio de linea\n",
    "        for (i = 1; i < 5; i++)\n",
    "        {\n",
    "            printf('%d', i)\n",
    "        }\n",
    "\n",
    "    O se puede colocar código en linea `cat out.1 out.2`.\n",
    "\n",
    "    ```\n",
    "    Sample output from a computer program\n",
    "    ```"
   ]
  },
  {
   "cell_type": "markdown",
   "metadata": {},
   "source": [
    "**GitHub Flavored Markdown**\n",
    "\n",
    "Se puede indicar el lenguaje y el sistema agrega sintaxis de colores.\n",
    "\n",
    "    Ejemplo de código en linea:\n",
    "    ```javascript\n",
    "    function fancyAlert(arg) {\n",
    "      if(arg) {\n",
    "        $.facebox({div:'#foo'})\n",
    "      }\n",
    "    }\n",
    "    ```"
   ]
  },
  {
   "cell_type": "markdown",
   "metadata": {},
   "source": [
    "**Latex**\n",
    "\n",
    "Una guía completa sobre latex puede ser encontrada [aquí](http://ftp.ams.org/pub/tex/doc/amsmath/short-math-guide.pdf).\n",
    "\n",
    "    $$x^2$$\n",
    "\n",
    "    $$\\frac{1}{x^2} \\int{\\exp{x^n}} dx$$"
   ]
  },
  {
   "cell_type": "markdown",
   "metadata": {},
   "source": [
    "**Lineas horizontales**\n",
    "\n",
    "    ***\n",
    "\n",
    "    ---"
   ]
  },
  {
   "cell_type": "markdown",
   "metadata": {},
   "source": [
    "**Tablas**\n",
    "\n",
    "\n",
    "    titulo 1 MUY MUY LARGO | titulo 2 | titulo 3\n",
    "    -----:|:--------:| -------\n",
    "    celda 1-1 | celda 1-2 | celda 1-3\n",
    "    celda 2-1 | celda 2-2 | celda 2-3"
   ]
  }
 ],
 "metadata": {
  "kernel_info": {
   "name": "python3"
  },
  "kernelspec": {
   "display_name": "Python 3",
   "language": "python",
   "name": "python3"
  },
  "language_info": {
   "codemirror_mode": {
    "name": "ipython",
    "version": 3
   },
   "file_extension": ".py",
   "mimetype": "text/x-python",
   "name": "python",
   "nbconvert_exporter": "python",
   "pygments_lexer": "ipython3",
   "version": "3.6.9"
  },
  "nteract": {
   "version": "0.7.1"
  }
 },
 "nbformat": 4,
 "nbformat_minor": 4
}
