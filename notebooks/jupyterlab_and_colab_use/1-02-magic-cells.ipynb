{
 "cells": [
  {
   "cell_type": "markdown",
   "metadata": {},
   "source": [
    "Uso de %%bash y %%writefile\n",
    "======================\n",
    "\n",
    "* *5:00 min* | Última modificación: Septiembre 13, 2021."
   ]
  },
  {
   "cell_type": "markdown",
   "metadata": {},
   "source": [
    "Los ambientes tienen varias utilidades que extienden las capacidades de los notebooks más allá de las características del kernel que se este usando. Las `magics` permiten modiicar el comportamiento de las celdas individuales. A continuación se describen las principales. Haga clic [aquí](http://ipython.readthedocs.io/en/stable/interactive/magics.html) para acceder a la documentación oficial.\n",
    "\n",
    "Una lista de los `magics` disponibles se encuentra en: https://github.com/ipython/ipython/wiki/Extensions-Index"
   ]
  },
  {
   "cell_type": "markdown",
   "metadata": {},
   "source": [
    "## `%%bash` \n",
    "\n",
    "Ejecuta el código de la celda usando bash."
   ]
  },
  {
   "cell_type": "markdown",
   "metadata": {},
   "source": [
    "```ipython\n",
    "%%bash\n",
    "ls -1 sample_data/*\n",
    "````"
   ]
  },
  {
   "cell_type": "markdown",
   "metadata": {},
   "source": [
    "```ipython\n",
    "!ls -1 sample_data/*\n",
    "````"
   ]
  },
  {
   "cell_type": "markdown",
   "metadata": {},
   "source": [
    "```ipython\n",
    "files = !ls -1 sample_data/*\n",
    "files\n",
    "````"
   ]
  },
  {
   "cell_type": "markdown",
   "metadata": {},
   "source": [
    "![magic_bash.gif](assets/magic_bash.gif)"
   ]
  },
  {
   "cell_type": "markdown",
   "metadata": {},
   "source": [
    "## `%%writefile`"
   ]
  },
  {
   "cell_type": "markdown",
   "metadata": {},
   "source": [
    "Permite grabar el contenido de la celda al archivo especificado."
   ]
  },
  {
   "cell_type": "markdown",
   "metadata": {
    "tags": []
   },
   "source": [
    "![magic_writefile.gif](assets/magic_writefile.gif)"
   ]
  }
 ],
 "metadata": {
  "kernel_info": {
   "name": "python3"
  },
  "kernelspec": {
   "display_name": "Python 3",
   "language": "python",
   "name": "python3"
  },
  "language_info": {
   "codemirror_mode": {
    "name": "ipython",
    "version": 3
   },
   "file_extension": ".py",
   "mimetype": "text/x-python",
   "name": "python",
   "nbconvert_exporter": "python",
   "pygments_lexer": "ipython3",
   "version": "3.6.9"
  },
  "nteract": {
   "version": "0.7.1"
  }
 },
 "nbformat": 4,
 "nbformat_minor": 4
}
