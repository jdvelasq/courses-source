{
 "cells": [
  {
   "cell_type": "markdown",
   "id": "0d65721a-7870-4e25-b254-db6a5bbccadd",
   "metadata": {
    "tags": []
   },
   "source": [
    "Objetos\n",
    "===\n",
    "\n",
    "* Última modificación: Mayo 13, 2022"
   ]
  },
  {
   "cell_type": "code",
   "execution_count": 1,
   "id": "535393fd-a197-4d51-bf41-799bc587b8a5",
   "metadata": {},
   "outputs": [
    {
     "name": "stdout",
     "output_type": "stream",
     "text": [
      "After local assignment: test spam\n",
      "After nonlocal assignment: nonlocal spam\n",
      "After global assignment: nonlocal spam\n",
      "In global scope: global spam\n"
     ]
    }
   ],
   "source": [
    "def scope_test():\n",
    "    def do_local():\n",
    "        spam = \"local spam\"\n",
    "\n",
    "    def do_nonlocal():\n",
    "        nonlocal spam\n",
    "        spam = \"nonlocal spam\"\n",
    "\n",
    "    def do_global():\n",
    "        global spam\n",
    "        spam = \"global spam\"\n",
    "\n",
    "    spam = \"test spam\"\n",
    "\n",
    "    do_local()\n",
    "\n",
    "    print(\"After local assignment:\", spam)\n",
    "\n",
    "    do_nonlocal()\n",
    "\n",
    "    print(\"After nonlocal assignment:\", spam)\n",
    "\n",
    "    do_global()\n",
    "\n",
    "    print(\"After global assignment:\", spam)\n",
    "\n",
    "\n",
    "scope_test()\n",
    "print(\"In global scope:\", spam)"
   ]
  },
  {
   "cell_type": "markdown",
   "id": "ff405f73-a193-4042-8588-17182c7e0880",
   "metadata": {},
   "source": [
    "Clases\n",
    "---"
   ]
  },
  {
   "cell_type": "code",
   "execution_count": 2,
   "id": "bb49aa34-39ef-4567-94f0-e1bffbd85447",
   "metadata": {},
   "outputs": [],
   "source": [
    "class MyClass:\n",
    "    \"\"\"A simple example class\"\"\"\n",
    "\n",
    "    i = 12345\n",
    "\n",
    "    def f(self):\n",
    "        return \"hello world\"\n",
    "\n",
    "\n",
    "x = MyClass()\n",
    "y = MyClass()"
   ]
  },
  {
   "cell_type": "code",
   "execution_count": 3,
   "id": "a189b96e-b97c-41c7-8520-1ea427663229",
   "metadata": {},
   "outputs": [
    {
     "data": {
      "text/plain": [
       "<__main__.MyClass at 0x7f6c9e058790>"
      ]
     },
     "execution_count": 3,
     "metadata": {},
     "output_type": "execute_result"
    }
   ],
   "source": [
    "x"
   ]
  },
  {
   "cell_type": "code",
   "execution_count": 4,
   "id": "a2226e8c-4b30-41f4-bab8-3f2ea91f6484",
   "metadata": {},
   "outputs": [
    {
     "data": {
      "text/plain": [
       "<__main__.MyClass at 0x7f6c9e058640>"
      ]
     },
     "execution_count": 4,
     "metadata": {},
     "output_type": "execute_result"
    }
   ],
   "source": [
    "y"
   ]
  },
  {
   "cell_type": "code",
   "execution_count": 5,
   "id": "f29bdb05-1f92-4d13-bb15-850f10dc01fa",
   "metadata": {},
   "outputs": [
    {
     "data": {
      "text/plain": [
       "12345"
      ]
     },
     "execution_count": 5,
     "metadata": {},
     "output_type": "execute_result"
    }
   ],
   "source": [
    "x.i"
   ]
  },
  {
   "cell_type": "code",
   "execution_count": 6,
   "id": "20f1c583-dcea-4b9b-94e4-906ee01c6c82",
   "metadata": {},
   "outputs": [
    {
     "data": {
      "text/plain": [
       "12345"
      ]
     },
     "execution_count": 6,
     "metadata": {},
     "output_type": "execute_result"
    }
   ],
   "source": [
    "y.i = 654321\n",
    "x.i"
   ]
  },
  {
   "cell_type": "code",
   "execution_count": 7,
   "id": "f85afaba-28c0-4403-8164-90ce28ff2a3a",
   "metadata": {},
   "outputs": [
    {
     "data": {
      "text/plain": [
       "654321"
      ]
     },
     "execution_count": 7,
     "metadata": {},
     "output_type": "execute_result"
    }
   ],
   "source": [
    "y.i"
   ]
  },
  {
   "cell_type": "code",
   "execution_count": 8,
   "id": "63049ce8-1129-4e61-9ac2-22f530189c2d",
   "metadata": {},
   "outputs": [
    {
     "data": {
      "text/plain": [
       "(3.0, -4.5)"
      ]
     },
     "execution_count": 8,
     "metadata": {},
     "output_type": "execute_result"
    }
   ],
   "source": [
    "class Complex:\n",
    "    def __init__(self, realpart, imagpart):\n",
    "        self.r = realpart\n",
    "        self.i = imagpart\n",
    "\n",
    "\n",
    "x = Complex(3.0, -4.5)\n",
    "x.r, x.i"
   ]
  },
  {
   "cell_type": "markdown",
   "id": "11ac55b0-adff-4c34-82df-172004d6a320",
   "metadata": {},
   "source": [
    "Variables de instancia y de clase\n",
    "---"
   ]
  },
  {
   "cell_type": "code",
   "execution_count": 9,
   "id": "9706fee2-4932-426b-95ec-f24b5c5630f9",
   "metadata": {},
   "outputs": [
    {
     "data": {
      "text/plain": [
       "'canine'"
      ]
     },
     "execution_count": 9,
     "metadata": {},
     "output_type": "execute_result"
    }
   ],
   "source": [
    "class Dog:\n",
    "\n",
    "    kind = \"canine\"  # class variable shared by all instances\n",
    "\n",
    "    def __init__(self, name):\n",
    "        self.name = name  # instance variable unique to each instance\n",
    "\n",
    "\n",
    "d = Dog(\"Fido\")\n",
    "e = Dog(\"Buddy\")\n",
    "d.kind  # shared by all dogs"
   ]
  },
  {
   "cell_type": "code",
   "execution_count": 10,
   "id": "ea2eed20-3ad5-450b-a43b-566698538038",
   "metadata": {},
   "outputs": [
    {
     "data": {
      "text/plain": [
       "'canine'"
      ]
     },
     "execution_count": 10,
     "metadata": {},
     "output_type": "execute_result"
    }
   ],
   "source": [
    "e.kind  # shared by all dogs"
   ]
  },
  {
   "cell_type": "code",
   "execution_count": 11,
   "id": "cbc8fa31-b06e-4b16-977f-3524f40076c5",
   "metadata": {},
   "outputs": [
    {
     "data": {
      "text/plain": [
       "'Fido'"
      ]
     },
     "execution_count": 11,
     "metadata": {},
     "output_type": "execute_result"
    }
   ],
   "source": [
    "d.name  # unique to d"
   ]
  },
  {
   "cell_type": "code",
   "execution_count": 12,
   "id": "aacd96ac-7ac5-4023-9c40-0a21c26539a9",
   "metadata": {},
   "outputs": [
    {
     "data": {
      "text/plain": [
       "'Buddy'"
      ]
     },
     "execution_count": 12,
     "metadata": {},
     "output_type": "execute_result"
    }
   ],
   "source": [
    "e.name  # unique to e"
   ]
  },
  {
   "cell_type": "code",
   "execution_count": 13,
   "id": "29d35f4f-6a8e-40c5-8f14-0e69e1611cc3",
   "metadata": {},
   "outputs": [
    {
     "data": {
      "text/plain": [
       "['roll over', 'play dead']"
      ]
     },
     "execution_count": 13,
     "metadata": {},
     "output_type": "execute_result"
    }
   ],
   "source": [
    "#\n",
    "# Construcción errónea\n",
    "#\n",
    "class Dog:\n",
    "\n",
    "    tricks = []  # mistaken use of a class variable\n",
    "\n",
    "    def __init__(self, name):\n",
    "        self.name = name\n",
    "\n",
    "    def add_trick(self, trick):\n",
    "        self.tricks.append(trick)\n",
    "\n",
    "\n",
    "d = Dog(\"Fido\")\n",
    "e = Dog(\"Buddy\")\n",
    "d.add_trick(\"roll over\")\n",
    "e.add_trick(\"play dead\")\n",
    "d.tricks  # unexpectedly shared by all dogs"
   ]
  },
  {
   "cell_type": "code",
   "execution_count": 14,
   "id": "d7452791-7382-4b8c-a6aa-82942bed41ba",
   "metadata": {},
   "outputs": [
    {
     "data": {
      "text/plain": [
       "['roll over']"
      ]
     },
     "execution_count": 14,
     "metadata": {},
     "output_type": "execute_result"
    }
   ],
   "source": [
    "#\n",
    "# Construcción correcta\n",
    "#\n",
    "class Dog:\n",
    "    def __init__(self, name):\n",
    "        self.name = name\n",
    "        self.tricks = []  # creates a new empty list for each dog\n",
    "\n",
    "    def add_trick(self, trick):\n",
    "        self.tricks.append(trick)\n",
    "\n",
    "\n",
    "d = Dog(\"Fido\")\n",
    "e = Dog(\"Buddy\")\n",
    "d.add_trick(\"roll over\")\n",
    "e.add_trick(\"play dead\")\n",
    "d.tricks"
   ]
  },
  {
   "cell_type": "code",
   "execution_count": 15,
   "id": "f1945785-5ab6-4df7-ab55-698678cdf433",
   "metadata": {},
   "outputs": [
    {
     "data": {
      "text/plain": [
       "['play dead']"
      ]
     },
     "execution_count": 15,
     "metadata": {},
     "output_type": "execute_result"
    }
   ],
   "source": [
    "e.tricks"
   ]
  },
  {
   "cell_type": "code",
   "execution_count": 16,
   "id": "884f56d7-9695-4c10-91b9-d669140171c2",
   "metadata": {},
   "outputs": [
    {
     "name": "stdout",
     "output_type": "stream",
     "text": [
      "storage west\n"
     ]
    }
   ],
   "source": [
    "class Warehouse:\n",
    "    purpose = \"storage\"\n",
    "    region = \"west\"\n",
    "\n",
    "\n",
    "#\n",
    "# Se prioriza la instancia sobre la clase\n",
    "#\n",
    "w1 = Warehouse()\n",
    "print(w1.purpose, w1.region)"
   ]
  },
  {
   "cell_type": "code",
   "execution_count": 17,
   "id": "51ca96d5-516d-4ab8-a4f5-858615d6e0e0",
   "metadata": {},
   "outputs": [
    {
     "name": "stdout",
     "output_type": "stream",
     "text": [
      "storage east\n"
     ]
    }
   ],
   "source": [
    "w2 = Warehouse()\n",
    "w2.region = \"east\"\n",
    "print(w2.purpose, w2.region)"
   ]
  },
  {
   "cell_type": "code",
   "execution_count": 18,
   "id": "cdf8aab7-b669-4899-be17-569e318cf141",
   "metadata": {},
   "outputs": [
    {
     "name": "stdout",
     "output_type": "stream",
     "text": [
      "storage west\n"
     ]
    }
   ],
   "source": [
    "print(w1.purpose, w1.region)"
   ]
  },
  {
   "cell_type": "code",
   "execution_count": 19,
   "id": "55ad40e9-99f9-4349-9c38-5335ec140a31",
   "metadata": {},
   "outputs": [],
   "source": [
    "#\n",
    "# Un método puede llamar a otro\n",
    "#\n",
    "class Bag:\n",
    "    def __init__(self):\n",
    "        self.data = []\n",
    "\n",
    "    def add(self, x):\n",
    "        self.data.append(x)\n",
    "\n",
    "    def addtwice(self, x):\n",
    "        self.add(x)\n",
    "        self.add(x)"
   ]
  },
  {
   "cell_type": "markdown",
   "id": "549cb55c-6130-4eac-aab3-1d1f81630718",
   "metadata": {},
   "source": [
    "Herencia\n",
    "---"
   ]
  },
  {
   "cell_type": "markdown",
   "id": "710463f9-3828-4122-890d-da588e876973",
   "metadata": {},
   "source": [
    "```python\n",
    "class DerivedClassName(BaseClassName):\n",
    "    <statement-1>\n",
    "    .\n",
    "    .\n",
    "    .\n",
    "    <statement-N>\n",
    "```"
   ]
  },
  {
   "cell_type": "markdown",
   "id": "88fe0ddc-7287-4c64-a8c0-b43006081380",
   "metadata": {},
   "source": [
    "```python\n",
    "class DerivedClassName(modname.BaseClassName):\n",
    "    ...\n",
    "```"
   ]
  },
  {
   "cell_type": "markdown",
   "id": "b883c1a9-54f1-434d-8758-95e18d6d253d",
   "metadata": {},
   "source": [
    "Herencia múltiple:\n",
    "\n",
    "```python\n",
    "class DerivedClassName(Base1, Base2, Base3):\n",
    "    <statement-1>\n",
    "    .\n",
    "    .\n",
    "    .\n",
    "    <statement-N>\n",
    "```\n",
    "   "
   ]
  },
  {
   "cell_type": "markdown",
   "id": "39d0ce59-1e19-43ac-8cd6-27355efbc1ba",
   "metadata": {},
   "source": [
    "Variables privadas\n",
    "---"
   ]
  },
  {
   "cell_type": "markdown",
   "id": "d60cc5d2-a8d3-4823-8800-34f0c7b0d403",
   "metadata": {},
   "source": [
    "Nombres con un subrayado se deben tratar como no públicos\n",
    "\n",
    "```python\n",
    "class Mapping:\n",
    "    def __init__(self, iterable):\n",
    "        self.items_list = []\n",
    "        self.__update(iterable)\n",
    "\n",
    "    def update(self, iterable):\n",
    "        for item in iterable:\n",
    "            self.items_list.append(item)\n",
    "\n",
    "    __update = update   # private copy of original update() method\n",
    "\n",
    "class MappingSubclass(Mapping):\n",
    "\n",
    "    def update(self, keys, values):\n",
    "        # provides new signature for update()\n",
    "        # but does not break __init__()\n",
    "        for item in zip(keys, values):\n",
    "            self.items_list.append(item)\n",
    "            \n",
    "```\n",
    "\n",
    "Se reemplaza __update  por _Mapping__update"
   ]
  },
  {
   "cell_type": "markdown",
   "id": "6b66346a-c200-454f-b4d3-518eeee5de43",
   "metadata": {},
   "source": [
    "Estructuras\n",
    "---"
   ]
  },
  {
   "cell_type": "code",
   "execution_count": 20,
   "id": "41edc6b4-defe-4429-b0cd-79efa985a626",
   "metadata": {},
   "outputs": [],
   "source": [
    "class Employee:\n",
    "    pass\n",
    "\n",
    "\n",
    "john = Employee()  # Create an empty employee record\n",
    "\n",
    "# Fill the fields of the record\n",
    "john.name = \"John Doe\"\n",
    "john.dept = \"computer lab\"\n",
    "john.salary = 1000"
   ]
  },
  {
   "cell_type": "markdown",
   "id": "fdb08119-04fa-442f-aa73-c55164a27bbc",
   "metadata": {},
   "source": [
    "Iteradores\n",
    "---"
   ]
  },
  {
   "cell_type": "code",
   "execution_count": 21,
   "id": "36b8b707-a8a8-4591-8081-6e572c90769d",
   "metadata": {},
   "outputs": [
    {
     "name": "stdout",
     "output_type": "stream",
     "text": [
      "1\n",
      "2\n",
      "3\n"
     ]
    }
   ],
   "source": [
    "for element in [1, 2, 3]:\n",
    "    print(element)"
   ]
  },
  {
   "cell_type": "code",
   "execution_count": 22,
   "id": "8b4d9429-261d-44e0-8fc9-9ce5d7301f68",
   "metadata": {},
   "outputs": [
    {
     "name": "stdout",
     "output_type": "stream",
     "text": [
      "1\n",
      "2\n",
      "3\n"
     ]
    }
   ],
   "source": [
    "for element in (1, 2, 3):\n",
    "    print(element)"
   ]
  },
  {
   "cell_type": "code",
   "execution_count": 23,
   "id": "51fe3bc0-2e29-40c9-9d5e-b0624bf241da",
   "metadata": {},
   "outputs": [
    {
     "name": "stdout",
     "output_type": "stream",
     "text": [
      "one\n",
      "two\n"
     ]
    }
   ],
   "source": [
    "for key in {'one':1, 'two':2}:\n",
    "    print(key)"
   ]
  },
  {
   "cell_type": "code",
   "execution_count": 24,
   "id": "a0e1d6c7-a456-4343-8242-93d9bb18af56",
   "metadata": {},
   "outputs": [
    {
     "name": "stdout",
     "output_type": "stream",
     "text": [
      "1\n",
      "2\n",
      "3\n"
     ]
    }
   ],
   "source": [
    "for char in \"123\":\n",
    "    print(char)"
   ]
  },
  {
   "cell_type": "code",
   "execution_count": 25,
   "id": "301f83dd-d57c-4e9a-a9e3-d0868e3dd26a",
   "metadata": {},
   "outputs": [
    {
     "data": {
      "text/plain": [
       "<str_iterator at 0x7f6c9c7ce250>"
      ]
     },
     "execution_count": 25,
     "metadata": {},
     "output_type": "execute_result"
    }
   ],
   "source": [
    "s = 'abc'\n",
    "it = iter(s)\n",
    "it"
   ]
  },
  {
   "cell_type": "code",
   "execution_count": 26,
   "id": "4f82858c-5354-4c1f-8090-8ba4e4961ec6",
   "metadata": {},
   "outputs": [
    {
     "data": {
      "text/plain": [
       "'a'"
      ]
     },
     "execution_count": 26,
     "metadata": {},
     "output_type": "execute_result"
    }
   ],
   "source": [
    "next(it)"
   ]
  },
  {
   "cell_type": "code",
   "execution_count": 27,
   "id": "146b6575-befc-41a8-9656-5b1df73b913c",
   "metadata": {},
   "outputs": [
    {
     "data": {
      "text/plain": [
       "'b'"
      ]
     },
     "execution_count": 27,
     "metadata": {},
     "output_type": "execute_result"
    }
   ],
   "source": [
    "next(it)"
   ]
  },
  {
   "cell_type": "code",
   "execution_count": 28,
   "id": "8db8ddac-4b04-4f16-9edc-80915b28d78e",
   "metadata": {},
   "outputs": [
    {
     "data": {
      "text/plain": [
       "'c'"
      ]
     },
     "execution_count": 28,
     "metadata": {},
     "output_type": "execute_result"
    }
   ],
   "source": [
    "next(it)"
   ]
  },
  {
   "cell_type": "code",
   "execution_count": 29,
   "id": "a32d0a8d-d336-4062-9801-d6b2ccc5b7ba",
   "metadata": {},
   "outputs": [
    {
     "name": "stdout",
     "output_type": "stream",
     "text": [
      "m\n",
      "a\n",
      "p\n",
      "s\n"
     ]
    }
   ],
   "source": [
    "class Reverse:\n",
    "    \"\"\"Iterator for looping over a sequence backwards.\"\"\"\n",
    "    def __init__(self, data):\n",
    "        self.data = data\n",
    "        self.index = len(data)\n",
    "\n",
    "    def __iter__(self):\n",
    "        return self\n",
    "\n",
    "    def __next__(self):\n",
    "        if self.index == 0:\n",
    "            raise StopIteration\n",
    "        self.index = self.index - 1\n",
    "        return self.data[self.index]\n",
    "    \n",
    "    \n",
    "rev = Reverse('spam')\n",
    "for char in rev:\n",
    "    print(char)"
   ]
  },
  {
   "cell_type": "markdown",
   "id": "8c6182f7-1cd1-47ed-bec9-b624d417c337",
   "metadata": {},
   "source": [
    "Generadores\n",
    "--"
   ]
  },
  {
   "cell_type": "code",
   "execution_count": 30,
   "id": "ff31eaaf-db66-40ef-a0b6-dc7db8c7680e",
   "metadata": {},
   "outputs": [
    {
     "name": "stdout",
     "output_type": "stream",
     "text": [
      "f\n",
      "l\n",
      "o\n",
      "g\n"
     ]
    }
   ],
   "source": [
    "def reverse(data):\n",
    "    for index in range(len(data) - 1, -1, -1):\n",
    "        yield data[index]\n",
    "\n",
    "\n",
    "for char in reverse(\"golf\"):\n",
    "    print(char)"
   ]
  }
 ],
 "metadata": {
  "kernelspec": {
   "display_name": "Python 3 (ipykernel)",
   "language": "python",
   "name": "python3"
  },
  "language_info": {
   "codemirror_mode": {
    "name": "ipython",
    "version": 3
   },
   "file_extension": ".py",
   "mimetype": "text/x-python",
   "name": "python",
   "nbconvert_exporter": "python",
   "pygments_lexer": "ipython3",
   "version": "3.8.10"
  }
 },
 "nbformat": 4,
 "nbformat_minor": 5
}
