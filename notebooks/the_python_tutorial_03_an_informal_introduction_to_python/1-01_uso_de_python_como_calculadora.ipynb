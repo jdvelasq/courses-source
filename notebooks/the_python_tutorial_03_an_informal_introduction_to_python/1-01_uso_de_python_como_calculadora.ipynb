{
 "cells": [
  {
   "cell_type": "markdown",
   "id": "263b7b26-e576-4cc4-93ba-bfe3b64e810b",
   "metadata": {
    "tags": []
   },
   "source": [
    "Uso de Python como una calculadora --- 18:50 min\n",
    "===\n",
    "\n",
    "* 18:50 min | Última modificación: Octubre 4, 2021 | [YouTube](https://youtu.be/nmgG_3C6M14)"
   ]
  },
  {
   "cell_type": "markdown",
   "id": "314701c9-2c53-4fd0-bdd2-6bad225c727c",
   "metadata": {},
   "source": [
    "Comentarios\n",
    "---"
   ]
  },
  {
   "cell_type": "markdown",
   "id": "3ce97254-ff3d-4c27-a0fb-464b4cbd69e7",
   "metadata": {},
   "source": [
    "Usos:\n",
    "\n",
    "* Documentar el código (El **por qué**, no el **como**)\n",
    "\n",
    "* Evitar la ejecución del código durante la fase de pruebas y verificación. "
   ]
  },
  {
   "cell_type": "code",
   "execution_count": 1,
   "id": "0a3bb163-8e59-4806-8f66-a3fd5ffc399c",
   "metadata": {},
   "outputs": [],
   "source": [
    "# Comentario de una línea"
   ]
  },
  {
   "cell_type": "code",
   "execution_count": 2,
   "id": "f3774b2b-66e3-47f2-8ad9-075555ef2caf",
   "metadata": {},
   "outputs": [
    {
     "name": "stdout",
     "output_type": "stream",
     "text": [
      "hola mundo cruel!\n"
     ]
    }
   ],
   "source": [
    "print(\"hola mundo cruel!\")  # comentario después del codigo"
   ]
  },
  {
   "cell_type": "code",
   "execution_count": 3,
   "id": "6fc8bf2f-d68d-4db3-8ba7-e33da6accf06",
   "metadata": {},
   "outputs": [],
   "source": [
    "#\n",
    "# Comentario de varias líneas\n",
    "#"
   ]
  },
  {
   "cell_type": "code",
   "execution_count": 4,
   "id": "56024450-2c65-4d63-a8d0-428de11c642a",
   "metadata": {},
   "outputs": [
    {
     "name": "stdout",
     "output_type": "stream",
     "text": [
      "Hola mundo cruel!\n"
     ]
    }
   ],
   "source": [
    "\"\"\"\n",
    "Comentario entre comillas dobles.\n",
    "\n",
    "Se usa para documentar modulos y funciones, o para comentar\n",
    "bloques de código.\n",
    "\n",
    "\"\"\"\n",
    "print(\"Hola mundo cruel!\")"
   ]
  },
  {
   "cell_type": "code",
   "execution_count": 5,
   "id": "26007b16-1e93-4ff9-9dc8-a003bacc689c",
   "metadata": {},
   "outputs": [
    {
     "name": "stdout",
     "output_type": "stream",
     "text": [
      "Hola mundo cruel!\n"
     ]
    }
   ],
   "source": [
    "\"\"\" \n",
    "Este es un comentario entre comillas dobles\n",
    "\"\"\"\n",
    "print(\"Hola mundo cruel!\")"
   ]
  },
  {
   "cell_type": "markdown",
   "id": "8813050d-344d-4817-9098-9d9476f9ef8b",
   "metadata": {},
   "source": [
    "Los codetags usandos en los comentarios son los siguientes:\n",
    "\n",
    "    TODO:    código pendiente por completar\n",
    "    FIXME:   áreas problemáticas o código que necesita ser reesrito.\n",
    "    BUG:     Defecto reportado \n",
    "    RFE:     Request For Enhancement\n",
    "    ???:     Pregunta\n",
    "    !!!:     Alerta\n",
    "    TODOC:   Necesita documentación\n",
    "    "
   ]
  },
  {
   "cell_type": "markdown",
   "id": "fc467053-43ea-48b7-a0f6-ea020d10a5dc",
   "metadata": {},
   "source": [
    "Números\n",
    "---"
   ]
  },
  {
   "cell_type": "code",
   "execution_count": 6,
   "id": "b028fbb8-8ddf-48bb-8218-b627aa72e980",
   "metadata": {},
   "outputs": [
    {
     "data": {
      "text/plain": [
       "1"
      ]
     },
     "metadata": {},
     "output_type": "display_data"
    },
    {
     "data": {
      "text/plain": [
       "int"
      ]
     },
     "metadata": {},
     "output_type": "display_data"
    },
    {
     "name": "stdout",
     "output_type": "stream",
     "text": [
      "<class 'int'>\n"
     ]
    }
   ],
   "source": [
    "#\n",
    "# Tipo entero (int)\n",
    "#\n",
    "display(\n",
    "    1,\n",
    "    type(1),\n",
    ")\n",
    "print(type(1))"
   ]
  },
  {
   "cell_type": "code",
   "execution_count": 7,
   "id": "acf9fa38-a81c-47ea-b2af-d67943c84135",
   "metadata": {},
   "outputs": [
    {
     "data": {
      "text/plain": [
       "1.0"
      ]
     },
     "metadata": {},
     "output_type": "display_data"
    },
    {
     "data": {
      "text/plain": [
       "float"
      ]
     },
     "metadata": {},
     "output_type": "display_data"
    },
    {
     "name": "stdout",
     "output_type": "stream",
     "text": [
      "<class 'float'>\n"
     ]
    }
   ],
   "source": [
    "#\n",
    "# Tipo flotante (float)\n",
    "#\n",
    "display(\n",
    "    1.0,\n",
    "    type(1.0),\n",
    ")\n",
    "print(type(1.0))"
   ]
  },
  {
   "cell_type": "code",
   "execution_count": 8,
   "id": "0b585364-424c-4ba2-a04d-3c0ad2c643a9",
   "metadata": {},
   "outputs": [
    {
     "data": {
      "text/plain": [
       "(1+1j)"
      ]
     },
     "metadata": {},
     "output_type": "display_data"
    },
    {
     "data": {
      "text/plain": [
       "complex"
      ]
     },
     "metadata": {},
     "output_type": "display_data"
    },
    {
     "name": "stdout",
     "output_type": "stream",
     "text": [
      "<class 'complex'>\n"
     ]
    }
   ],
   "source": [
    "#\n",
    "# Tipo imaginario (complex)\n",
    "#\n",
    "display(\n",
    "    1 + 1j,\n",
    "    type(1 + 1j),\n",
    ")\n",
    "print(type(1 + 1j))"
   ]
  },
  {
   "cell_type": "code",
   "execution_count": 9,
   "id": "400afbe1-563a-4a22-834b-a94d7a319848",
   "metadata": {},
   "outputs": [
    {
     "data": {
      "text/plain": [
       "1"
      ]
     },
     "metadata": {},
     "output_type": "display_data"
    },
    {
     "data": {
      "text/plain": [
       "int"
      ]
     },
     "metadata": {},
     "output_type": "display_data"
    },
    {
     "name": "stdout",
     "output_type": "stream",
     "text": [
      "<class 'int'>\n"
     ]
    }
   ],
   "source": [
    "display(\n",
    "    int(1.0),\n",
    "    type(int(1.0)),\n",
    ")\n",
    "print(type(int(1.0)))"
   ]
  },
  {
   "cell_type": "code",
   "execution_count": 10,
   "id": "e74d6dac-0efb-4742-9474-4921706132f9",
   "metadata": {},
   "outputs": [
    {
     "data": {
      "text/plain": [
       "1.0"
      ]
     },
     "metadata": {},
     "output_type": "display_data"
    },
    {
     "data": {
      "text/plain": [
       "float"
      ]
     },
     "metadata": {},
     "output_type": "display_data"
    },
    {
     "name": "stdout",
     "output_type": "stream",
     "text": [
      "<class 'float'>\n"
     ]
    }
   ],
   "source": [
    "display(\n",
    "    float(1),\n",
    "    type(float(1)),\n",
    ")\n",
    "print(type(float(1)))"
   ]
  },
  {
   "cell_type": "code",
   "execution_count": 11,
   "id": "611805b1-163c-4de3-bdea-8d70407817d0",
   "metadata": {},
   "outputs": [
    {
     "data": {
      "text/plain": [
       "(1+0j)"
      ]
     },
     "metadata": {},
     "output_type": "display_data"
    },
    {
     "data": {
      "text/plain": [
       "complex"
      ]
     },
     "metadata": {},
     "output_type": "display_data"
    }
   ],
   "source": [
    "display(\n",
    "    complex(1),\n",
    "    type(complex(1)),\n",
    ")"
   ]
  },
  {
   "cell_type": "code",
   "execution_count": 12,
   "id": "9857952b-3065-4449-bd73-6e878d7d28f2",
   "metadata": {},
   "outputs": [
    {
     "data": {
      "text/plain": [
       "(5,)"
      ]
     },
     "execution_count": 12,
     "metadata": {},
     "output_type": "execute_result"
    }
   ],
   "source": [
    "#\n",
    "# Operadores sobre enteros\n",
    "#\n",
    "2 + 2 + 1,"
   ]
  },
  {
   "cell_type": "code",
   "execution_count": 13,
   "id": "01db94fa-ae4e-45be-937b-0ce0e0e437b7",
   "metadata": {},
   "outputs": [
    {
     "data": {
      "text/plain": [
       "1"
      ]
     },
     "metadata": {},
     "output_type": "display_data"
    },
    {
     "data": {
      "text/plain": [
       "3"
      ]
     },
     "metadata": {},
     "output_type": "display_data"
    },
    {
     "data": {
      "text/plain": [
       "32768"
      ]
     },
     "metadata": {},
     "output_type": "display_data"
    }
   ],
   "source": [
    "#\n",
    "#   +   Suma\n",
    "#   -   Resta\n",
    "#   *   Multiplicación\n",
    "#   /   Division\n",
    "#   //  Parte entera de la division\n",
    "#   %   Residuo de la división\n",
    "#   **  Potenciación\n",
    "#\n",
    "display(\n",
    "    8 // 5,\n",
    "    8 % 5,\n",
    "    8 ** 5,\n",
    ")"
   ]
  },
  {
   "cell_type": "code",
   "execution_count": 14,
   "id": "2e855c01-b8a7-493a-bd93-49a4d67d00a0",
   "metadata": {},
   "outputs": [
    {
     "data": {
      "text/plain": [
       "163"
      ]
     },
     "execution_count": 14,
     "metadata": {},
     "output_type": "execute_result"
    }
   ],
   "source": [
    "#\n",
    "# Precedencia de operadores\n",
    "#\n",
    "#  [+]\n",
    "#   |\n",
    "#   +--- 1\n",
    "#   |\n",
    "#   +--- [*]\n",
    "#         |\n",
    "#         +--- 2\n",
    "#         |\n",
    "#         +--- [**]\n",
    "#               |\n",
    "#               +---- 3\n",
    "#               |\n",
    "#               +---- 4\n",
    "1 + 2 * 3 ** 4"
   ]
  },
  {
   "cell_type": "code",
   "execution_count": 15,
   "id": "f3a73e0c-a3d6-4b48-9313-13d116969e78",
   "metadata": {},
   "outputs": [
    {
     "name": "stdout",
     "output_type": "stream",
     "text": [
      "1.6\n"
     ]
    },
    {
     "data": {
      "text/plain": [
       "float"
      ]
     },
     "execution_count": 15,
     "metadata": {},
     "output_type": "execute_result"
    }
   ],
   "source": [
    "#\n",
    "# Conversion automática del tipo de dato\n",
    "#\n",
    "print(8 / 5)\n",
    "type(8 / 5)"
   ]
  },
  {
   "cell_type": "code",
   "execution_count": 16,
   "id": "e2f12fc4-91ec-405e-baa6-95203d94bc8f",
   "metadata": {},
   "outputs": [
    {
     "data": {
      "text/plain": [
       "2.0"
      ]
     },
     "execution_count": 16,
     "metadata": {},
     "output_type": "execute_result"
    }
   ],
   "source": [
    "#\n",
    "# int + float\n",
    "#\n",
    "1 + 1.0"
   ]
  },
  {
   "cell_type": "markdown",
   "id": "aa70d58e-7b38-4bd5-a04c-3bda9d763c58",
   "metadata": {},
   "source": [
    "Booleanos\n",
    "---"
   ]
  },
  {
   "cell_type": "code",
   "execution_count": 17,
   "id": "d1c27291-5ef4-4ad3-ae57-8464281fe3f6",
   "metadata": {},
   "outputs": [
    {
     "data": {
      "text/plain": [
       "True"
      ]
     },
     "execution_count": 17,
     "metadata": {},
     "output_type": "execute_result"
    }
   ],
   "source": [
    "True"
   ]
  },
  {
   "cell_type": "code",
   "execution_count": 18,
   "id": "414e0ea5-3e7d-4874-bb63-95933b84d8b6",
   "metadata": {},
   "outputs": [
    {
     "data": {
      "text/plain": [
       "bool"
      ]
     },
     "execution_count": 18,
     "metadata": {},
     "output_type": "execute_result"
    }
   ],
   "source": [
    "type(True)"
   ]
  },
  {
   "cell_type": "code",
   "execution_count": 19,
   "id": "7f23a83a-8f32-4780-b730-15b42f3f9d76",
   "metadata": {},
   "outputs": [
    {
     "data": {
      "text/plain": [
       "1"
      ]
     },
     "execution_count": 19,
     "metadata": {},
     "output_type": "execute_result"
    }
   ],
   "source": [
    "int(True)"
   ]
  },
  {
   "cell_type": "code",
   "execution_count": 20,
   "id": "e66be49e-fc1a-4a2e-b1a3-e8980cd0644e",
   "metadata": {},
   "outputs": [
    {
     "data": {
      "text/plain": [
       "0"
      ]
     },
     "execution_count": 20,
     "metadata": {},
     "output_type": "execute_result"
    }
   ],
   "source": [
    "int(False)"
   ]
  },
  {
   "cell_type": "code",
   "execution_count": 21,
   "id": "3d018ce8-7bd5-40a6-b95e-fe3a3432d228",
   "metadata": {},
   "outputs": [
    {
     "data": {
      "text/plain": [
       "0"
      ]
     },
     "execution_count": 21,
     "metadata": {},
     "output_type": "execute_result"
    }
   ],
   "source": [
    "False * 1"
   ]
  },
  {
   "cell_type": "code",
   "execution_count": 22,
   "id": "d36230f9-4c86-4d16-a3f4-9457dd80b444",
   "metadata": {},
   "outputs": [
    {
     "data": {
      "text/plain": [
       "3"
      ]
     },
     "execution_count": 22,
     "metadata": {},
     "output_type": "execute_result"
    }
   ],
   "source": [
    "True + True + True"
   ]
  },
  {
   "cell_type": "code",
   "execution_count": 23,
   "id": "d67d7a2a-027f-4962-8e90-c5dbf3eb8c22",
   "metadata": {},
   "outputs": [
    {
     "data": {
      "text/plain": [
       "4"
      ]
     },
     "execution_count": 23,
     "metadata": {},
     "output_type": "execute_result"
    }
   ],
   "source": [
    "True * 4"
   ]
  },
  {
   "cell_type": "code",
   "execution_count": 24,
   "id": "97e85e27-b865-433d-8053-fd8136788e7f",
   "metadata": {},
   "outputs": [
    {
     "data": {
      "text/plain": [
       "0.1"
      ]
     },
     "execution_count": 24,
     "metadata": {},
     "output_type": "execute_result"
    }
   ],
   "source": [
    "True / 10"
   ]
  },
  {
   "cell_type": "markdown",
   "id": "7e58651c-c332-4a36-8805-82cd63ac9a8c",
   "metadata": {},
   "source": [
    "![true-igual-a-true](assets/true_igual_a_true.png)"
   ]
  },
  {
   "cell_type": "code",
   "execution_count": 25,
   "id": "4314669d-d0a6-4a9a-8328-566e7ec46b4d",
   "metadata": {},
   "outputs": [
    {
     "data": {
      "text/plain": [
       "False"
      ]
     },
     "execution_count": 25,
     "metadata": {},
     "output_type": "execute_result"
    }
   ],
   "source": [
    "bool()"
   ]
  },
  {
   "cell_type": "code",
   "execution_count": 26,
   "id": "a1390b84-b6fd-4452-bfa9-0ed492a2371c",
   "metadata": {},
   "outputs": [
    {
     "data": {
      "text/plain": [
       "True"
      ]
     },
     "metadata": {},
     "output_type": "display_data"
    },
    {
     "data": {
      "text/plain": [
       "True"
      ]
     },
     "metadata": {},
     "output_type": "display_data"
    },
    {
     "data": {
      "text/plain": [
       "True"
      ]
     },
     "metadata": {},
     "output_type": "display_data"
    },
    {
     "data": {
      "text/plain": [
       "True"
      ]
     },
     "metadata": {},
     "output_type": "display_data"
    }
   ],
   "source": [
    "display(\n",
    "    bool(1),\n",
    "    bool(2.0),\n",
    "    bool(\"hola\"),\n",
    "    bool(True),\n",
    ")"
   ]
  },
  {
   "cell_type": "code",
   "execution_count": 27,
   "id": "09461cba-0bd8-4167-8005-87ca5c213c7c",
   "metadata": {},
   "outputs": [
    {
     "data": {
      "text/plain": [
       "False"
      ]
     },
     "metadata": {},
     "output_type": "display_data"
    },
    {
     "data": {
      "text/plain": [
       "False"
      ]
     },
     "metadata": {},
     "output_type": "display_data"
    },
    {
     "data": {
      "text/plain": [
       "False"
      ]
     },
     "metadata": {},
     "output_type": "display_data"
    },
    {
     "data": {
      "text/plain": [
       "False"
      ]
     },
     "metadata": {},
     "output_type": "display_data"
    },
    {
     "data": {
      "text/plain": [
       "False"
      ]
     },
     "metadata": {},
     "output_type": "display_data"
    },
    {
     "data": {
      "text/plain": [
       "False"
      ]
     },
     "metadata": {},
     "output_type": "display_data"
    },
    {
     "data": {
      "text/plain": [
       "False"
      ]
     },
     "metadata": {},
     "output_type": "display_data"
    },
    {
     "data": {
      "text/plain": [
       "False"
      ]
     },
     "metadata": {},
     "output_type": "display_data"
    }
   ],
   "source": [
    "display(\n",
    "    bool(False),\n",
    "    bool(None),\n",
    "    bool(0),\n",
    "    bool(0.0),\n",
    "    bool(\"\"),\n",
    "    bool(()),\n",
    "    bool([]),\n",
    "    bool({}),\n",
    ")"
   ]
  },
  {
   "cell_type": "code",
   "execution_count": 28,
   "id": "398b2276-1c7b-4bd6-952c-4575faa876b2",
   "metadata": {},
   "outputs": [
    {
     "data": {
      "text/plain": [
       "False"
      ]
     },
     "execution_count": 28,
     "metadata": {},
     "output_type": "execute_result"
    }
   ],
   "source": [
    "not True"
   ]
  },
  {
   "cell_type": "code",
   "execution_count": 29,
   "id": "7a690adc-542f-4b94-81bb-75a94c3ce4bf",
   "metadata": {},
   "outputs": [
    {
     "data": {
      "text/plain": [
       "False"
      ]
     },
     "execution_count": 29,
     "metadata": {},
     "output_type": "execute_result"
    }
   ],
   "source": [
    "1 is None"
   ]
  },
  {
   "cell_type": "markdown",
   "id": "68b9c60b-4b47-404f-a95a-97c17ff3fcd4",
   "metadata": {},
   "source": [
    "None (Tipo Nulo)\n",
    "---"
   ]
  },
  {
   "cell_type": "code",
   "execution_count": 30,
   "id": "0869527a-4a23-4f66-92eb-f5ec133bf5de",
   "metadata": {},
   "outputs": [
    {
     "name": "stdout",
     "output_type": "stream",
     "text": [
      "None\n"
     ]
    }
   ],
   "source": [
    "x = None\n",
    "\n",
    "print(x)"
   ]
  },
  {
   "cell_type": "code",
   "execution_count": 31,
   "id": "379f7f71-89af-49dc-9b70-c832881585d7",
   "metadata": {},
   "outputs": [
    {
     "data": {
      "text/plain": [
       "NoneType"
      ]
     },
     "execution_count": 31,
     "metadata": {},
     "output_type": "execute_result"
    }
   ],
   "source": [
    "type(None)"
   ]
  },
  {
   "cell_type": "code",
   "execution_count": 32,
   "id": "306eb9fe-994a-4b67-b6b4-84006f90e8a1",
   "metadata": {},
   "outputs": [
    {
     "name": "stdout",
     "output_type": "stream",
     "text": [
      "<class 'NoneType'>\n"
     ]
    }
   ],
   "source": [
    "print(type(None))"
   ]
  },
  {
   "cell_type": "code",
   "execution_count": 33,
   "id": "a655393d-80ed-4cce-8cf1-a5f4c841fc9b",
   "metadata": {},
   "outputs": [
    {
     "data": {
      "text/plain": [
       "True"
      ]
     },
     "metadata": {},
     "output_type": "display_data"
    },
    {
     "data": {
      "text/plain": [
       "True"
      ]
     },
     "metadata": {},
     "output_type": "display_data"
    },
    {
     "data": {
      "text/plain": [
       "False"
      ]
     },
     "metadata": {},
     "output_type": "display_data"
    }
   ],
   "source": [
    "display(\n",
    "    x == None,\n",
    "    x is None,\n",
    "    x is not None,\n",
    ")"
   ]
  },
  {
   "cell_type": "markdown",
   "id": "d06380e8-9435-4a15-853c-99c8c0b662f0",
   "metadata": {},
   "source": [
    "Variables\n",
    "---"
   ]
  },
  {
   "cell_type": "code",
   "execution_count": 34,
   "id": "be3fb92f-8be4-4b27-b069-aa8f48fd4ff6",
   "metadata": {},
   "outputs": [
    {
     "data": {
      "text/plain": [
       "20"
      ]
     },
     "execution_count": 34,
     "metadata": {},
     "output_type": "execute_result"
    }
   ],
   "source": [
    "#\n",
    "# Asignación de variables y operadores aritméticos\n",
    "#\n",
    "base = 4\n",
    "altura = 5\n",
    "area = base * altura\n",
    "area"
   ]
  },
  {
   "cell_type": "code",
   "execution_count": 35,
   "id": "9b9d8e20-de63-479e-b23c-33e88df6db59",
   "metadata": {},
   "outputs": [
    {
     "data": {
      "text/plain": [
       "1"
      ]
     },
     "metadata": {},
     "output_type": "display_data"
    },
    {
     "data": {
      "text/plain": [
       "1"
      ]
     },
     "metadata": {},
     "output_type": "display_data"
    },
    {
     "data": {
      "text/plain": [
       "1"
      ]
     },
     "metadata": {},
     "output_type": "display_data"
    }
   ],
   "source": [
    "#\n",
    "# Asignación de un valor a varias variables\n",
    "#\n",
    "x = y = z = 1\n",
    "\n",
    "display(\n",
    "    x,\n",
    "    y,\n",
    "    z,\n",
    ")"
   ]
  },
  {
   "cell_type": "code",
   "execution_count": 36,
   "id": "81183f5e-b889-4a3e-839f-50d42ea6910a",
   "metadata": {},
   "outputs": [
    {
     "data": {
      "text/plain": [
       "1"
      ]
     },
     "metadata": {},
     "output_type": "display_data"
    },
    {
     "data": {
      "text/plain": [
       "2"
      ]
     },
     "metadata": {},
     "output_type": "display_data"
    },
    {
     "data": {
      "text/plain": [
       "3"
      ]
     },
     "metadata": {},
     "output_type": "display_data"
    }
   ],
   "source": [
    "#\n",
    "# Asignación de varios valores a varias variables\n",
    "#\n",
    "x, y, z = 1, 2, 3\n",
    "\n",
    "display(\n",
    "    x,\n",
    "    y,\n",
    "    z,\n",
    ")"
   ]
  },
  {
   "cell_type": "code",
   "execution_count": 37,
   "id": "29768117-ba9e-4a4e-b329-62e6fb27e43d",
   "metadata": {},
   "outputs": [
    {
     "data": {
      "text/plain": [
       "'JohnWick'"
      ]
     },
     "execution_count": 37,
     "metadata": {},
     "output_type": "execute_result"
    }
   ],
   "source": [
    "#\n",
    "# Variables con strings\n",
    "#\n",
    "first_name = \"John\"\n",
    "family_name = \"Wick\"\n",
    "first_name + family_name"
   ]
  },
  {
   "cell_type": "code",
   "execution_count": 38,
   "id": "f4268435-5251-4a32-8fe6-4400f23cd7de",
   "metadata": {},
   "outputs": [
    {
     "data": {
      "text/plain": [
       "'John Wick'"
      ]
     },
     "execution_count": 38,
     "metadata": {},
     "output_type": "execute_result"
    }
   ],
   "source": [
    "first_name + \" \" + family_name"
   ]
  },
  {
   "cell_type": "markdown",
   "id": "ab46aab4-3f0c-4f2c-9969-40472eaacb05",
   "metadata": {},
   "source": [
    "Strings\n",
    "---"
   ]
  },
  {
   "cell_type": "code",
   "execution_count": 39,
   "id": "71b3289a-4435-43bc-a4ca-08a6e7061ff0",
   "metadata": {},
   "outputs": [
    {
     "data": {
      "text/plain": [
       "'hola mundo'"
      ]
     },
     "execution_count": 39,
     "metadata": {},
     "output_type": "execute_result"
    }
   ],
   "source": [
    "#\n",
    "# Escritura con comillas simples\n",
    "#\n",
    "\"hola mundo\""
   ]
  },
  {
   "cell_type": "code",
   "execution_count": 40,
   "id": "36156e62-acc9-483a-84fb-7add94e8374a",
   "metadata": {},
   "outputs": [
    {
     "data": {
      "text/plain": [
       "'hola mundo cruel!'"
      ]
     },
     "execution_count": 40,
     "metadata": {},
     "output_type": "execute_result"
    }
   ],
   "source": [
    "#\n",
    "# Escritura con comillas dobles\n",
    "#\n",
    "\"hola mundo cruel!\""
   ]
  },
  {
   "cell_type": "code",
   "execution_count": 41,
   "id": "35956eb9-57d5-444e-aed4-60d1b9487abf",
   "metadata": {},
   "outputs": [
    {
     "data": {
      "text/plain": [
       "'hola mundo cruel!'"
      ]
     },
     "execution_count": 41,
     "metadata": {},
     "output_type": "execute_result"
    }
   ],
   "source": [
    "#\n",
    "# Uso de comillas triples\n",
    "#\n",
    "\"\"\"hola mundo cruel!\"\"\""
   ]
  },
  {
   "cell_type": "code",
   "execution_count": 42,
   "id": "d231fd2c-ca06-49c2-8001-d492ddd6d21f",
   "metadata": {},
   "outputs": [
    {
     "data": {
      "text/plain": [
       "'--\"--'"
      ]
     },
     "execution_count": 42,
     "metadata": {},
     "output_type": "execute_result"
    }
   ],
   "source": [
    "#\n",
    "# Uso alternado de comillas. Python entiende que se usa\n",
    "# la comilla simples para delimitar el string.\n",
    "#\n",
    "'--\"--'"
   ]
  },
  {
   "cell_type": "code",
   "execution_count": 43,
   "id": "69889e9f-8643-477f-b1f2-4878b6a2c79c",
   "metadata": {},
   "outputs": [
    {
     "data": {
      "text/plain": [
       "\"--'--\""
      ]
     },
     "execution_count": 43,
     "metadata": {},
     "output_type": "execute_result"
    }
   ],
   "source": [
    "\"--'--\""
   ]
  },
  {
   "cell_type": "code",
   "execution_count": 44,
   "id": "f4a75a76-c0c1-4a9b-86f7-6e15fe341485",
   "metadata": {},
   "outputs": [
    {
     "data": {
      "text/plain": [
       "'--\"--'"
      ]
     },
     "execution_count": 44,
     "metadata": {},
     "output_type": "execute_result"
    }
   ],
   "source": [
    "#\n",
    "# En estos dos casos se requiere usar el `\\` para\n",
    "# indicar que la comilla intermedia no es el delimitador.\n",
    "# (caracter escapado)\n",
    "#\n",
    "'--\"--'"
   ]
  },
  {
   "cell_type": "code",
   "execution_count": 45,
   "id": "3442f796-ef8e-4282-a108-964b2156ebed",
   "metadata": {},
   "outputs": [
    {
     "data": {
      "text/plain": [
       "\"--'--\""
      ]
     },
     "execution_count": 45,
     "metadata": {},
     "output_type": "execute_result"
    }
   ],
   "source": [
    "\"--'--\""
   ]
  },
  {
   "cell_type": "code",
   "execution_count": 46,
   "id": "5a9d9806-5956-476f-bef4-6abca67625b2",
   "metadata": {},
   "outputs": [
    {
     "data": {
      "text/plain": [
       "'\\n  Hola\\n  Mundo\\n  Cruel!\\n'"
      ]
     },
     "execution_count": 46,
     "metadata": {},
     "output_type": "execute_result"
    }
   ],
   "source": [
    "#\n",
    "# Cadenas de caracteres de varias lineas\n",
    "#\n",
    "\"\"\"\n",
    "  Hola\n",
    "  Mundo\n",
    "  Cruel!\n",
    "\"\"\""
   ]
  },
  {
   "cell_type": "markdown",
   "id": "de515c09-07ef-420c-993f-c047dfd6c96e",
   "metadata": {},
   "source": [
    "![escape-n-texto](assets/escape_n_texto.png)"
   ]
  },
  {
   "cell_type": "code",
   "execution_count": 47,
   "id": "51f82888-61cc-458f-aa35-6bf5fa180274",
   "metadata": {},
   "outputs": [
    {
     "data": {
      "text/plain": [
       "'HolaMundoCruel!'"
      ]
     },
     "execution_count": 47,
     "metadata": {},
     "output_type": "execute_result"
    }
   ],
   "source": [
    "\"Hola\" \"Mundo\" \"Cruel!\""
   ]
  },
  {
   "cell_type": "code",
   "execution_count": 48,
   "id": "98e5330f-46a1-4596-9c57-4d29834c4fa4",
   "metadata": {},
   "outputs": [],
   "source": [
    "#\n",
    "# Error caracter multilinea\n",
    "#"
   ]
  },
  {
   "cell_type": "markdown",
   "id": "0d8125b1-dd21-4f2c-b9e7-cc1453bc11a3",
   "metadata": {},
   "source": [
    "![error-caracter-multilinea](assets/error_caracter_multilinea.png)"
   ]
  },
  {
   "cell_type": "code",
   "execution_count": 49,
   "id": "396e496a-697f-4019-9720-dc2f3b6c2f57",
   "metadata": {},
   "outputs": [
    {
     "data": {
      "text/plain": [
       "'HolaMundoCruel!'"
      ]
     },
     "execution_count": 49,
     "metadata": {},
     "output_type": "execute_result"
    }
   ],
   "source": [
    "#\n",
    "# Operadores aritmeticos.\n",
    "#   En strings + representa concatenacion y\n",
    "#   * representa repetición\n",
    "#\n",
    "\"Hola\" + \"Mundo\" + \"Cruel!\""
   ]
  },
  {
   "cell_type": "code",
   "execution_count": 50,
   "id": "b6b307ec-a4b1-4c22-b6fd-3dbcd9d4a495",
   "metadata": {},
   "outputs": [
    {
     "data": {
      "text/plain": [
       "'Hola3'"
      ]
     },
     "execution_count": 50,
     "metadata": {},
     "output_type": "execute_result"
    }
   ],
   "source": [
    "\"Hola\" + str(3)"
   ]
  },
  {
   "cell_type": "code",
   "execution_count": 51,
   "id": "a201fe8e-3789-41e6-9b01-948c0ce31cc4",
   "metadata": {},
   "outputs": [
    {
     "data": {
      "text/plain": [
       "'HolaHolaHola'"
      ]
     },
     "execution_count": 51,
     "metadata": {},
     "output_type": "execute_result"
    }
   ],
   "source": [
    "\"Hola\" * 3"
   ]
  },
  {
   "cell_type": "code",
   "execution_count": null,
   "id": "d9b73131-1840-4116-b93c-d885d359ad5f",
   "metadata": {},
   "outputs": [],
   "source": [
    "#\n",
    "# Errorres en manejo de cadenas de caracteres\n",
    "#"
   ]
  },
  {
   "cell_type": "markdown",
   "id": "01e76336-d7bb-45f4-b21c-fe047ccaa16a",
   "metadata": {},
   "source": [
    "![hola-por-hola](assets/hola_por_hola.png)"
   ]
  },
  {
   "cell_type": "code",
   "execution_count": null,
   "id": "1b1019f6-ede6-4363-bcc1-23c551a18574",
   "metadata": {},
   "outputs": [],
   "source": [
    "3 * \"abc \" + \"012\""
   ]
  },
  {
   "cell_type": "code",
   "execution_count": null,
   "id": "0bac435d-6427-452d-9dff-8b760465272e",
   "metadata": {},
   "outputs": [],
   "source": [
    "\"abc \" * 3 + \"012\""
   ]
  },
  {
   "cell_type": "code",
   "execution_count": null,
   "id": "d42e8a05-b38f-4d41-90d7-30d25d91087c",
   "metadata": {},
   "outputs": [],
   "source": [
    "#\n",
    "# Note que acá se ignoran los espacios\n",
    "# entre las comillas interiores\n",
    "#\n",
    "\"Py\" \"thon\""
   ]
  }
 ],
 "metadata": {
  "kernelspec": {
   "display_name": "Python 3",
   "language": "python",
   "name": "python3"
  },
  "language_info": {
   "codemirror_mode": {
    "name": "ipython",
    "version": 3
   },
   "file_extension": ".py",
   "mimetype": "text/x-python",
   "name": "python",
   "nbconvert_exporter": "python",
   "pygments_lexer": "ipython3",
   "version": "3.6.9"
  }
 },
 "nbformat": 4,
 "nbformat_minor": 5
}
