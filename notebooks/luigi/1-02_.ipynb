{
 "cells": [
  {
   "cell_type": "markdown",
   "id": "f332a342-dcf5-4562-ab9a-7d6f25431641",
   "metadata": {},
   "source": [
    "Tareas en paralelo\n",
    "===\n",
    "\n",
    "* Última modificación: Mayo  14, 2022"
   ]
  },
  {
   "cell_type": "code",
   "execution_count": 1,
   "id": "5353a787-9519-4a86-b2ed-ec8136c32a65",
   "metadata": {},
   "outputs": [
    {
     "name": "stdout",
     "output_type": "stream",
     "text": [
      "/tmp\n"
     ]
    }
   ],
   "source": [
    "%cd /tmp"
   ]
  },
  {
   "cell_type": "code",
   "execution_count": 2,
   "id": "5e4e512b-f5b1-4147-9bd6-90cbf8fc34e4",
   "metadata": {},
   "outputs": [
    {
     "name": "stdout",
     "output_type": "stream",
     "text": [
      "rm: cannot remove 'france.csv': No such file or directory\n",
      "rm: cannot remove 'germany.csv': No such file or directory\n"
     ]
    }
   ],
   "source": [
    "!rm france.csv germany.csv"
   ]
  },
  {
   "cell_type": "code",
   "execution_count": 3,
   "id": "c259ddb8-d9e2-4172-93fc-911259370d40",
   "metadata": {},
   "outputs": [
    {
     "name": "stdout",
     "output_type": "stream",
     "text": [
      "Overwriting pipeline.py\n"
     ]
    }
   ],
   "source": [
    "%%writefile pipeline.py\n",
    "\n",
    "import sqlalchemy\n",
    "\n",
    "import luigi\n",
    "import luigi.contrib.sqla\n",
    "from luigi import LocalTarget, Task\n",
    "\n",
    "\n",
    "class DownloadFranceSales(Task):\n",
    "    def output(self):\n",
    "        return LocalTarget(\"france.csv\")\n",
    "\n",
    "    def run(self):\n",
    "        with self.output().open(\"w\") as file:\n",
    "            print(\"May,100\", file=file)\n",
    "            print(\"May,200\", file=file)\n",
    "            print(\"Jun,140\", file=file)\n",
    "            print(\"Jun,150\", file=file)\n",
    "\n",
    "\n",
    "class DownloadGermanySales(Task):\n",
    "    def output(self):\n",
    "        return LocalTarget(\"germany.csv\")\n",
    "\n",
    "    def run(self):\n",
    "        with self.output().open(\"w\") as file:\n",
    "            print(\"May,120\", file=file)\n",
    "            print(\"May,210\", file=file)\n",
    "            print(\"Jun,140\", file=file)\n",
    "            print(\"Jun,150\", file=file)\n",
    "\n",
    "\n",
    "class CreateDatabase(luigi.contrib.sqla.CopyToTable):\n",
    "\n",
    "    columns = [\n",
    "        ([\"month\", sqlalchemy.String(64)], {}),\n",
    "        ([\"amount\", sqlalchemy.Float], {}),\n",
    "    ]\n",
    "    connection_string = \"sqlite://///tmp/demo.db\"  # in memory SQLite database\n",
    "    table = \"sales\"  # name of the table to store data\n",
    "    column_separator = ','\n",
    "\n",
    "    def requires(self):\n",
    "        return [\n",
    "            DownloadFranceSales(),\n",
    "            DownloadGermanySales(),\n",
    "        ]\n",
    "\n",
    "    def rows(self):\n",
    "        with self.input()[0].open() as f:\n",
    "            for line in f:\n",
    "                yield line.split(self.column_separator)\n",
    "\n",
    "        with self.input()[1].open() as f:\n",
    "            for line in f:\n",
    "                yield line.split(self.column_separator)\n",
    "                \n",
    "\n",
    "if __name__ == \"__main__\":\n",
    "    luigi.run([\"CreateDatabase\", \"--local-scheduler\"])"
   ]
  },
  {
   "cell_type": "markdown",
   "id": "1e002ddf-b486-47a0-88c1-3dacb15f4b23",
   "metadata": {},
   "source": [
    "https://luigi.readthedocs.io/en/stable/api/luigi.contrib.sqla.html"
   ]
  },
  {
   "cell_type": "code",
   "execution_count": 4,
   "id": "9912d2d9-1e3d-45df-8aa0-2a5787dd91c4",
   "metadata": {},
   "outputs": [
    {
     "name": "stdout",
     "output_type": "stream",
     "text": [
      "DEBUG: Checking if CreateDatabase() is complete\n",
      "DEBUG: Checking if DownloadFranceSales() is complete\n",
      "DEBUG: Checking if DownloadGermanySales() is complete\n",
      "INFO: Informed scheduler that task   CreateDatabase__99914b932b   has status   PENDING\n",
      "INFO: Informed scheduler that task   DownloadGermanySales__99914b932b   has status   PENDING\n",
      "INFO: Informed scheduler that task   DownloadFranceSales__99914b932b   has status   PENDING\n",
      "INFO: Done scheduling tasks\n",
      "INFO: Running Worker with 1 processes\n",
      "DEBUG: Asking scheduler for work...\n",
      "DEBUG: Pending tasks: 3\n",
      "INFO: [pid 112] Worker Worker(salt=940235631, workers=1, host=b148b7d2dd75, username=root, pid=112) running   DownloadFranceSales()\n",
      "INFO: [pid 112] Worker Worker(salt=940235631, workers=1, host=b148b7d2dd75, username=root, pid=112) done      DownloadFranceSales()\n",
      "DEBUG: 1 running tasks, waiting for next task to finish\n",
      "INFO: Informed scheduler that task   DownloadFranceSales__99914b932b   has status   DONE\n",
      "DEBUG: Asking scheduler for work...\n",
      "DEBUG: Pending tasks: 2\n",
      "INFO: [pid 112] Worker Worker(salt=940235631, workers=1, host=b148b7d2dd75, username=root, pid=112) running   DownloadGermanySales()\n",
      "INFO: [pid 112] Worker Worker(salt=940235631, workers=1, host=b148b7d2dd75, username=root, pid=112) done      DownloadGermanySales()\n",
      "DEBUG: 1 running tasks, waiting for next task to finish\n",
      "INFO: Informed scheduler that task   DownloadGermanySales__99914b932b   has status   DONE\n",
      "DEBUG: Asking scheduler for work...\n",
      "DEBUG: Pending tasks: 1\n",
      "INFO: [pid 112] Worker Worker(salt=940235631, workers=1, host=b148b7d2dd75, username=root, pid=112) running   CreateDatabase()\n",
      "INFO: Running task copy to table for update id CreateDatabase__99914b932b for table sales\n",
      "INFO: Finished inserting 0 rows into SQLAlchemy target\n",
      "INFO: Finished inserting rows into SQLAlchemy target\n",
      "INFO: [pid 112] Worker Worker(salt=940235631, workers=1, host=b148b7d2dd75, username=root, pid=112) done      CreateDatabase()\n",
      "DEBUG: 1 running tasks, waiting for next task to finish\n",
      "INFO: Informed scheduler that task   CreateDatabase__99914b932b   has status   DONE\n",
      "DEBUG: Asking scheduler for work...\n",
      "DEBUG: Done\n",
      "DEBUG: There are no more tasks to run at this time\n",
      "INFO: Worker Worker(salt=940235631, workers=1, host=b148b7d2dd75, username=root, pid=112) was stopped. Shutting down Keep-Alive thread\n",
      "INFO: \n",
      "===== Luigi Execution Summary =====\n",
      "\n",
      "Scheduled 3 tasks of which:\n",
      "* 3 ran successfully:\n",
      "    - 1 CreateDatabase()\n",
      "    - 1 DownloadFranceSales()\n",
      "    - 1 DownloadGermanySales()\n",
      "\n",
      "This progress looks :) because there were no failed tasks or missing dependencies\n",
      "\n",
      "===== Luigi Execution Summary =====\n",
      "\n"
     ]
    }
   ],
   "source": [
    "!python3 pipeline.py"
   ]
  },
  {
   "cell_type": "markdown",
   "id": "d43107b2-c66b-4a2f-803a-fa630b0d3ee6",
   "metadata": {},
   "source": [
    "Consulta de la tabla desde la línea de comandos\n",
    "---"
   ]
  },
  {
   "cell_type": "markdown",
   "id": "83c1cb5e-854c-40ba-8dca-ddf1f1d7a001",
   "metadata": {},
   "source": [
    "```bash\n",
    "$  squlite3 demo.db\n",
    "```\n"
   ]
  },
  {
   "cell_type": "markdown",
   "id": "6cc2a85c-c7f4-4556-8cbf-eaa83828a4cb",
   "metadata": {},
   "source": [
    "![assets/luigi_gui_1_02-0.png](assets/luigi_gui_1_02-0.png)"
   ]
  }
 ],
 "metadata": {
  "kernelspec": {
   "display_name": "Python 3 (ipykernel)",
   "language": "python",
   "name": "python3"
  },
  "language_info": {
   "codemirror_mode": {
    "name": "ipython",
    "version": 3
   },
   "file_extension": ".py",
   "mimetype": "text/x-python",
   "name": "python",
   "nbconvert_exporter": "python",
   "pygments_lexer": "ipython3",
   "version": "3.8.10"
  }
 },
 "nbformat": 4,
 "nbformat_minor": 5
}
