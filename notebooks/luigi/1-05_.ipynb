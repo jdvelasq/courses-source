{
 "cells": [
  {
   "cell_type": "markdown",
   "id": "c7806142-fef0-4e2a-ae0e-e528c4c5f3d8",
   "metadata": {},
   "source": [
    "Parametrización (2)\n",
    "===\n",
    "\n",
    "* Última modificación: Mayo  13, 2022 | YouTube"
   ]
  },
  {
   "cell_type": "code",
   "execution_count": 1,
   "id": "5a847a3f-b70f-4846-a5d6-02a51fece565",
   "metadata": {},
   "outputs": [
    {
     "name": "stdout",
     "output_type": "stream",
     "text": [
      "/tmp\n"
     ]
    }
   ],
   "source": [
    "%cd /tmp\n",
    "!rm -rf output/ all_sales.csv\n",
    "!mkdir -p input/ "
   ]
  },
  {
   "cell_type": "code",
   "execution_count": 2,
   "id": "24490df1-9715-4f08-aaed-8e3295f1bba7",
   "metadata": {},
   "outputs": [
    {
     "name": "stdout",
     "output_type": "stream",
     "text": [
      "Overwriting input/sales1.csv\n"
     ]
    }
   ],
   "source": [
    "%%writefile input/sales1.csv\n",
    "Fance,May,100\n",
    "NA\n",
    "Germany,May,200"
   ]
  },
  {
   "cell_type": "code",
   "execution_count": 3,
   "id": "d413df8c-ec0b-4732-9783-254d169d45f5",
   "metadata": {},
   "outputs": [
    {
     "name": "stdout",
     "output_type": "stream",
     "text": [
      "Overwriting input/sales2.csv\n"
     ]
    }
   ],
   "source": [
    "%%writefile input/sales2.csv\n",
    "Fance,June,140\n",
    "Germany,June,180\n",
    "UK,June,180"
   ]
  },
  {
   "cell_type": "code",
   "execution_count": 4,
   "id": "027c83a1-fc41-4b12-84e4-a6a557b793a2",
   "metadata": {},
   "outputs": [
    {
     "name": "stdout",
     "output_type": "stream",
     "text": [
      "Overwriting input/sales3.csv\n"
     ]
    }
   ],
   "source": [
    "%%writefile input/sales3.csv\n",
    "France,June,240\n",
    "None\n",
    "Germany,June,180"
   ]
  },
  {
   "cell_type": "code",
   "execution_count": 5,
   "id": "36db8539-2d83-4e58-a112-6ca0bd7159c6",
   "metadata": {},
   "outputs": [
    {
     "name": "stdout",
     "output_type": "stream",
     "text": [
      "Overwriting pipeline.py\n"
     ]
    }
   ],
   "source": [
    "%%writefile pipeline.py\n",
    "\n",
    "import os\n",
    "\n",
    "import luigi\n",
    "from luigi import IntParameter, LocalTarget, Parameter, Task\n",
    "\n",
    "INPUT_FOLDER = \"input\"\n",
    "OUTPUT_FOLDER = \"output\"\n",
    "\n",
    "\n",
    "class DownloadFile(Task):\n",
    "\n",
    "    file_name = Parameter()\n",
    "    index = IntParameter()\n",
    "\n",
    "    def output(self):\n",
    "        output_path = os.path.join(\n",
    "            OUTPUT_FOLDER,\n",
    "            str(self.index),\n",
    "            self.file_name,\n",
    "        )\n",
    "        return LocalTarget(output_path)\n",
    "\n",
    "    def run(self):\n",
    "        input_path = os.path.join(INPUT_FOLDER, self.file_name)\n",
    "        with open(input_path) as in_file:\n",
    "            with self.output().open(\"w\") as out_file:\n",
    "                for line in in_file:\n",
    "                    if \",\" in line:\n",
    "                        out_file.write(line)\n",
    "\n",
    "\n",
    "class DownloadSalesData(Task):\n",
    "    def output(self):\n",
    "        return LocalTarget(\"all_sales.csv\")\n",
    "\n",
    "    def run(self):\n",
    "        processed_files = []\n",
    "        counter = 1\n",
    "        for file in sorted(os.listdir(INPUT_FOLDER)):\n",
    "            target = yield DownloadFile(file, counter)\n",
    "            counter += 1\n",
    "            processed_files.append(target)\n",
    "\n",
    "        with self.output().open(\"w\") as out_file:\n",
    "            for file in processed_files:\n",
    "                with file.open() as in_file:\n",
    "                    for line in in_file:\n",
    "                        out_file.write(line)\n",
    "\n",
    "\n",
    "if __name__ == \"__main__\":\n",
    "    luigi.run([\"DownloadSalesData\", \"--local-scheduler\"])"
   ]
  },
  {
   "cell_type": "code",
   "execution_count": 6,
   "id": "01b6eb40-3d9c-474c-b1c7-efdb024fa2c5",
   "metadata": {},
   "outputs": [
    {
     "name": "stdout",
     "output_type": "stream",
     "text": [
      "DEBUG: Checking if DownloadSalesData() is complete\n",
      "INFO: Informed scheduler that task   DownloadSalesData__99914b932b   has status   PENDING\n",
      "INFO: Done scheduling tasks\n",
      "INFO: Running Worker with 1 processes\n",
      "DEBUG: Asking scheduler for work...\n",
      "DEBUG: Pending tasks: 1\n",
      "INFO: [pid 475] Worker Worker(salt=466330766, workers=1, host=b148b7d2dd75, username=root, pid=475) running   DownloadSalesData()\n",
      "INFO: [pid 475] Worker Worker(salt=466330766, workers=1, host=b148b7d2dd75, username=root, pid=475) new requirements      DownloadSalesData()\n",
      "DEBUG: 1 running tasks, waiting for next task to finish\n",
      "DEBUG: Checking if DownloadFile(file_name=sales3.csv, index=1) is complete\n",
      "INFO: Informed scheduler that task   DownloadFile_sales3_csv_1_3c9fa6db4d   has status   PENDING\n",
      "INFO: Informed scheduler that task   DownloadSalesData__99914b932b   has status   PENDING\n",
      "DEBUG: Asking scheduler for work...\n",
      "DEBUG: Pending tasks: 2\n",
      "INFO: [pid 475] Worker Worker(salt=466330766, workers=1, host=b148b7d2dd75, username=root, pid=475) running   DownloadFile(file_name=sales3.csv, index=1)\n",
      "INFO: [pid 475] Worker Worker(salt=466330766, workers=1, host=b148b7d2dd75, username=root, pid=475) done      DownloadFile(file_name=sales3.csv, index=1)\n",
      "DEBUG: 1 running tasks, waiting for next task to finish\n",
      "INFO: Informed scheduler that task   DownloadFile_sales3_csv_1_3c9fa6db4d   has status   DONE\n",
      "DEBUG: Asking scheduler for work...\n",
      "DEBUG: Pending tasks: 1\n",
      "INFO: [pid 475] Worker Worker(salt=466330766, workers=1, host=b148b7d2dd75, username=root, pid=475) running   DownloadSalesData()\n",
      "INFO: [pid 475] Worker Worker(salt=466330766, workers=1, host=b148b7d2dd75, username=root, pid=475) new requirements      DownloadSalesData()\n",
      "DEBUG: 1 running tasks, waiting for next task to finish\n",
      "DEBUG: Checking if DownloadFile(file_name=sales2.csv, index=2) is complete\n",
      "INFO: Informed scheduler that task   DownloadFile_sales2_csv_2_a64b62af8e   has status   PENDING\n",
      "INFO: Informed scheduler that task   DownloadSalesData__99914b932b   has status   PENDING\n",
      "DEBUG: Asking scheduler for work...\n",
      "DEBUG: Pending tasks: 2\n",
      "INFO: [pid 475] Worker Worker(salt=466330766, workers=1, host=b148b7d2dd75, username=root, pid=475) running   DownloadFile(file_name=sales2.csv, index=2)\n",
      "INFO: [pid 475] Worker Worker(salt=466330766, workers=1, host=b148b7d2dd75, username=root, pid=475) done      DownloadFile(file_name=sales2.csv, index=2)\n",
      "DEBUG: 1 running tasks, waiting for next task to finish\n",
      "INFO: Informed scheduler that task   DownloadFile_sales2_csv_2_a64b62af8e   has status   DONE\n",
      "DEBUG: Asking scheduler for work...\n",
      "DEBUG: Pending tasks: 1\n",
      "INFO: [pid 475] Worker Worker(salt=466330766, workers=1, host=b148b7d2dd75, username=root, pid=475) running   DownloadSalesData()\n",
      "INFO: [pid 475] Worker Worker(salt=466330766, workers=1, host=b148b7d2dd75, username=root, pid=475) new requirements      DownloadSalesData()\n",
      "DEBUG: 1 running tasks, waiting for next task to finish\n",
      "DEBUG: Checking if DownloadFile(file_name=sales1.csv, index=3) is complete\n",
      "INFO: Informed scheduler that task   DownloadFile_sales1_csv_3_8ffb46dea7   has status   PENDING\n",
      "INFO: Informed scheduler that task   DownloadSalesData__99914b932b   has status   PENDING\n",
      "DEBUG: Asking scheduler for work...\n",
      "DEBUG: Pending tasks: 2\n",
      "INFO: [pid 475] Worker Worker(salt=466330766, workers=1, host=b148b7d2dd75, username=root, pid=475) running   DownloadFile(file_name=sales1.csv, index=3)\n",
      "INFO: [pid 475] Worker Worker(salt=466330766, workers=1, host=b148b7d2dd75, username=root, pid=475) done      DownloadFile(file_name=sales1.csv, index=3)\n",
      "DEBUG: 1 running tasks, waiting for next task to finish\n",
      "INFO: Informed scheduler that task   DownloadFile_sales1_csv_3_8ffb46dea7   has status   DONE\n",
      "DEBUG: Asking scheduler for work...\n",
      "DEBUG: Pending tasks: 1\n",
      "INFO: [pid 475] Worker Worker(salt=466330766, workers=1, host=b148b7d2dd75, username=root, pid=475) running   DownloadSalesData()\n",
      "INFO: [pid 475] Worker Worker(salt=466330766, workers=1, host=b148b7d2dd75, username=root, pid=475) done      DownloadSalesData()\n",
      "DEBUG: 1 running tasks, waiting for next task to finish\n",
      "INFO: Informed scheduler that task   DownloadSalesData__99914b932b   has status   DONE\n",
      "DEBUG: Asking scheduler for work...\n",
      "DEBUG: Done\n",
      "DEBUG: There are no more tasks to run at this time\n",
      "INFO: Worker Worker(salt=466330766, workers=1, host=b148b7d2dd75, username=root, pid=475) was stopped. Shutting down Keep-Alive thread\n",
      "INFO: \n",
      "===== Luigi Execution Summary =====\n",
      "\n",
      "Scheduled 4 tasks of which:\n",
      "* 4 ran successfully:\n",
      "    - 3 DownloadFile(file_name=sales1.csv, index=3) ...\n",
      "    - 1 DownloadSalesData()\n",
      "\n",
      "This progress looks :) because there were no failed tasks or missing dependencies\n",
      "\n",
      "===== Luigi Execution Summary =====\n",
      "\n"
     ]
    }
   ],
   "source": [
    "!python3 pipeline.py"
   ]
  },
  {
   "cell_type": "code",
   "execution_count": 7,
   "id": "21c5e301-2428-4008-b968-c08b561b75ac",
   "metadata": {},
   "outputs": [
    {
     "name": "stdout",
     "output_type": "stream",
     "text": [
      "France,June,240\n",
      "Germany,June,180\n",
      "Fance,June,140\n",
      "Germany,June,180\n",
      "UK,June,180\n",
      "Fance,May,100\n",
      "Germany,May,200\n"
     ]
    }
   ],
   "source": [
    "!cat all_sales.csv"
   ]
  },
  {
   "cell_type": "code",
   "execution_count": 8,
   "id": "c988898a-13d8-4110-8c18-77d904dc6a07",
   "metadata": {},
   "outputs": [
    {
     "name": "stdout",
     "output_type": "stream",
     "text": [
      "1\n",
      "2\n",
      "3\n"
     ]
    }
   ],
   "source": [
    "!ls -1 /tmp/output"
   ]
  },
  {
   "cell_type": "code",
   "execution_count": 9,
   "id": "27de3891-4c1f-4537-8313-8046b31549b3",
   "metadata": {},
   "outputs": [
    {
     "name": "stdout",
     "output_type": "stream",
     "text": [
      "sales3.csv\n"
     ]
    }
   ],
   "source": [
    "!ls -1 /tmp/output/1/"
   ]
  },
  {
   "cell_type": "code",
   "execution_count": 10,
   "id": "e63c5afd-5ddd-41cb-a75b-cbae8925ccb3",
   "metadata": {},
   "outputs": [
    {
     "name": "stdout",
     "output_type": "stream",
     "text": [
      "sales2.csv\n"
     ]
    }
   ],
   "source": [
    "!ls -1 /tmp/output/2/"
   ]
  },
  {
   "cell_type": "code",
   "execution_count": 11,
   "id": "3bc7ee90-be6d-4a30-83eb-5f025103f0f4",
   "metadata": {},
   "outputs": [
    {
     "name": "stdout",
     "output_type": "stream",
     "text": [
      "sales1.csv\n"
     ]
    }
   ],
   "source": [
    "!ls -1 /tmp/output/3/"
   ]
  },
  {
   "cell_type": "code",
   "execution_count": 12,
   "id": "4a31c0b2-515d-4f64-b7b1-2c22eb49484d",
   "metadata": {},
   "outputs": [
    {
     "name": "stdout",
     "output_type": "stream",
     "text": [
      "France,June,240\n",
      "Germany,June,180\n"
     ]
    }
   ],
   "source": [
    "!cat /tmp/output/1/sales3.csv"
   ]
  }
 ],
 "metadata": {
  "kernelspec": {
   "display_name": "Python 3 (ipykernel)",
   "language": "python",
   "name": "python3"
  },
  "language_info": {
   "codemirror_mode": {
    "name": "ipython",
    "version": 3
   },
   "file_extension": ".py",
   "mimetype": "text/x-python",
   "name": "python",
   "nbconvert_exporter": "python",
   "pygments_lexer": "ipython3",
   "version": "3.8.10"
  }
 },
 "nbformat": 4,
 "nbformat_minor": 5
}
