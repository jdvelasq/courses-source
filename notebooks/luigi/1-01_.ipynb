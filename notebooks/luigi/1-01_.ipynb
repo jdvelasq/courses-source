{
 "cells": [
  {
   "cell_type": "markdown",
   "id": "0f41985d-d42e-4096-8aa4-0d92bf31888c",
   "metadata": {},
   "source": [
    "Tareas secuenciales\n",
    "===\n",
    "\n",
    "* Última modificación: Mayo  14, 2022"
   ]
  },
  {
   "cell_type": "markdown",
   "id": "c10874c5-333c-4b44-9012-ce28f3a731ae",
   "metadata": {},
   "source": [
    "Tareas a ejecutar\n",
    "--"
   ]
  },
  {
   "cell_type": "markdown",
   "id": "35f15222-6e29-4085-8ce2-3894a1a6bd03",
   "metadata": {},
   "source": [
    "* ProcessOrders: Genera el archivo CSV con el total de ventas (`$`) por mes.\n",
    "\n",
    "* GenerateReport: Cómputa las ventas totales por mes.\n",
    "\n",
    "* SummarizeReport: Calcula la suma de las ventas por mes."
   ]
  },
  {
   "cell_type": "markdown",
   "id": "dc588613-7b35-4ea5-9990-70239d7d380f",
   "metadata": {},
   "source": [
    "Carpeta de trabajo\n",
    "---"
   ]
  },
  {
   "cell_type": "code",
   "execution_count": 1,
   "id": "c928a52b-dc90-4d4b-84c8-5f0bfc6db160",
   "metadata": {},
   "outputs": [
    {
     "name": "stdout",
     "output_type": "stream",
     "text": [
      "/tmp\n"
     ]
    }
   ],
   "source": [
    "%cd /tmp"
   ]
  },
  {
   "cell_type": "markdown",
   "id": "2f9ce0f8-3289-4569-9ef8-dc874ba23eed",
   "metadata": {},
   "source": [
    "ProcessOrders()\n",
    "---"
   ]
  },
  {
   "cell_type": "code",
   "execution_count": 2,
   "id": "80285dcf-3e08-4d98-bd22-84a41b7b60f3",
   "metadata": {},
   "outputs": [
    {
     "name": "stdout",
     "output_type": "stream",
     "text": [
      "Overwriting /tmp/pipeline.py\n"
     ]
    }
   ],
   "source": [
    "%%writefile /tmp/pipeline.py\n",
    "\n",
    "import luigi\n",
    "from luigi import Task, LocalTarget\n",
    "\n",
    "\n",
    "class ProcessOrders(Task):\n",
    "    def output(self):\n",
    "        return LocalTarget('orders.csv')\n",
    "\n",
    "    def run(self):\n",
    "        with self.output().open('w') as file:\n",
    "            print('May,100', file=file)\n",
    "            print('May,100', file=file)\n",
    "            print('Jun,200', file=file)\n",
    "            print('Jun,150', file=file)\n",
    "\n",
    "if __name__ == '__main__':\n",
    "    luigi.run([\"ProcessOrders\", \"--local-scheduler\"])"
   ]
  },
  {
   "cell_type": "code",
   "execution_count": 3,
   "id": "564a7cc4-73d2-4853-98f0-7e9689258422",
   "metadata": {},
   "outputs": [
    {
     "name": "stdout",
     "output_type": "stream",
     "text": [
      "DEBUG: Checking if ProcessOrders() is complete\n",
      "INFO: Informed scheduler that task   ProcessOrders__99914b932b   has status   DONE\n",
      "INFO: Done scheduling tasks\n",
      "INFO: Running Worker with 1 processes\n",
      "DEBUG: Asking scheduler for work...\n",
      "DEBUG: Done\n",
      "DEBUG: There are no more tasks to run at this time\n",
      "INFO: Worker Worker(salt=378523441, workers=1, host=e3fdad83036a, username=root, pid=661) was stopped. Shutting down Keep-Alive thread\n",
      "INFO: \n",
      "===== Luigi Execution Summary =====\n",
      "\n",
      "Scheduled 1 tasks of which:\n",
      "* 1 complete ones were encountered:\n",
      "    - 1 ProcessOrders()\n",
      "\n",
      "Did not run any tasks\n",
      "This progress looks :) because there were no failed tasks or missing dependencies\n",
      "\n",
      "===== Luigi Execution Summary =====\n",
      "\n"
     ]
    }
   ],
   "source": [
    "!python3 /tmp/pipeline.py"
   ]
  },
  {
   "cell_type": "code",
   "execution_count": 4,
   "id": "a299316c-834c-4742-ae32-f3b5d36ced71",
   "metadata": {},
   "outputs": [
    {
     "name": "stdout",
     "output_type": "stream",
     "text": [
      "May,100\n",
      "May,100\n",
      "Jun,200\n",
      "Jun,150\n"
     ]
    }
   ],
   "source": [
    "!cat orders.csv"
   ]
  },
  {
   "cell_type": "markdown",
   "id": "21dcec5e-c451-467d-a2ab-e5c0447ea398",
   "metadata": {},
   "source": [
    "GenerateReport()\n",
    "---"
   ]
  },
  {
   "cell_type": "code",
   "execution_count": 5,
   "id": "39ae1381-25ca-4234-ae25-1cb5c1310eb8",
   "metadata": {},
   "outputs": [
    {
     "name": "stdout",
     "output_type": "stream",
     "text": [
      "Overwriting /tmp/pipeline.py\n"
     ]
    }
   ],
   "source": [
    "%%writefile /tmp/pipeline.py\n",
    "\n",
    "import luigi\n",
    "from luigi import Task, LocalTarget\n",
    "\n",
    "\n",
    "class ProcessOrders(Task):\n",
    "    def output(self):\n",
    "        return LocalTarget('orders.csv')\n",
    "\n",
    "    def run(self):\n",
    "        with self.output().open('w') as file:\n",
    "            print('May,100', file=file)\n",
    "            print('May,100', file=file)\n",
    "            print('Jun,200', file=file)\n",
    "            print('Jun,150', file=file)\n",
    "\n",
    "class GenerateReport(Task):\n",
    "    def requires(self):\n",
    "        #\n",
    "        # Dependencia de la tarea anterior\n",
    "        #\n",
    "        return ProcessOrders()\n",
    "    \n",
    "    \n",
    "    def output(self):\n",
    "        return LocalTarget('report.csv')\n",
    "    \n",
    "    def run(self):\n",
    "        report = {}\n",
    "        for line in self.input().open():\n",
    "            month, amount=line.split(',')\n",
    "            if month in report:\n",
    "                report[month] += float(amount)\n",
    "            else:\n",
    "                report[month] = float(amount)\n",
    "            \n",
    "        with self.output().open('w') as file:\n",
    "            for month in report:\n",
    "                print(month+',' + str(report[month]), file=file)\n",
    "            \n",
    "            \n",
    "            \n",
    "if __name__ == '__main__':\n",
    "    luigi.run([\"GenerateReport\", \"--local-scheduler\"])"
   ]
  },
  {
   "cell_type": "code",
   "execution_count": 6,
   "id": "85766d6f-2c0e-4bf5-acec-7ae43ed062cd",
   "metadata": {},
   "outputs": [
    {
     "name": "stdout",
     "output_type": "stream",
     "text": [
      "DEBUG: Checking if GenerateReport() is complete\n",
      "INFO: Informed scheduler that task   GenerateReport__99914b932b   has status   DONE\n",
      "INFO: Done scheduling tasks\n",
      "INFO: Running Worker with 1 processes\n",
      "DEBUG: Asking scheduler for work...\n",
      "DEBUG: Done\n",
      "DEBUG: There are no more tasks to run at this time\n",
      "INFO: Worker Worker(salt=108316347, workers=1, host=e3fdad83036a, username=root, pid=667) was stopped. Shutting down Keep-Alive thread\n",
      "INFO: \n",
      "===== Luigi Execution Summary =====\n",
      "\n",
      "Scheduled 1 tasks of which:\n",
      "* 1 complete ones were encountered:\n",
      "    - 1 GenerateReport()\n",
      "\n",
      "Did not run any tasks\n",
      "This progress looks :) because there were no failed tasks or missing dependencies\n",
      "\n",
      "===== Luigi Execution Summary =====\n",
      "\n"
     ]
    }
   ],
   "source": [
    "!python3 pipeline.py"
   ]
  },
  {
   "cell_type": "code",
   "execution_count": 7,
   "id": "aa0ed04d-968b-40c6-9dbc-1ff0bc97f5db",
   "metadata": {},
   "outputs": [
    {
     "name": "stdout",
     "output_type": "stream",
     "text": [
      "May,200.0\n",
      "Jun,350.0\n"
     ]
    }
   ],
   "source": [
    "!cat report.csv"
   ]
  },
  {
   "cell_type": "markdown",
   "id": "de0aea17-342f-4999-a54d-532d6479273c",
   "metadata": {},
   "source": [
    "SummarizeReport()\n",
    "---"
   ]
  },
  {
   "cell_type": "code",
   "execution_count": 8,
   "id": "bed48d4c-0889-4d9b-9ee9-b4f06a53d734",
   "metadata": {},
   "outputs": [
    {
     "name": "stdout",
     "output_type": "stream",
     "text": [
      "Overwriting pipeline.py\n"
     ]
    }
   ],
   "source": [
    "%%writefile pipeline.py\n",
    "\n",
    "import luigi\n",
    "from luigi import Task, LocalTarget\n",
    "\n",
    "\n",
    "class ProcessOrders(Task):\n",
    "    def output(self):\n",
    "        return LocalTarget('orders.csv')\n",
    "\n",
    "    def run(self):\n",
    "        with self.output().open('w') as file:\n",
    "            print('May,100', file=file)\n",
    "            print('May,100', file=file)\n",
    "            print('Jun,200', file=file)\n",
    "            print('Jun,150', file=file)\n",
    "    \n",
    "class GenerateReport(Task):\n",
    "    def requires(self):\n",
    "        #\n",
    "        # Dependencia\n",
    "        #\n",
    "        return ProcessOrders()\n",
    "    \n",
    "    \n",
    "    def output(self):\n",
    "        return LocalTarget('report.csv')\n",
    "    \n",
    "    def run(self):\n",
    "        report = {}\n",
    "        for line in self.input().open():\n",
    "            month, amount=line.split(',')\n",
    "            if month in report:\n",
    "                report[month] += float(amount)\n",
    "            else:\n",
    "                report[month] = float(amount)\n",
    "            \n",
    "        with self.output().open('w') as file:\n",
    "            for month in report:\n",
    "                print(month+',' + str(report[month]), file=file)\n",
    "            \n",
    "\n",
    "class SummarizeReport(Task):\n",
    "    def requires(self):\n",
    "        #\n",
    "        # Dependencia\n",
    "        #\n",
    "        return GenerateReport()\n",
    "    \n",
    "    def output(self):\n",
    "        return LocalTarget('summary.txt')\n",
    "    \n",
    "    def run(self):\n",
    "        total = 0.0\n",
    "        for line in self.input().open():\n",
    "            month, amount = line.split(',')\n",
    "            total += float(amount)\n",
    "            \n",
    "        with self.output().open('w') as file:\n",
    "            file.write(str(total))\n",
    "            \n",
    "            \n",
    "if __name__ == '__main__':\n",
    "    luigi.run([\"SummarizeReport\", \"--local-scheduler\"])\n",
    "    \n"
   ]
  },
  {
   "cell_type": "markdown",
   "id": "d568c1d3-1acf-4745-8cda-c3f1a319e91b",
   "metadata": {},
   "source": [
    "Luigi GUI\n",
    "--"
   ]
  },
  {
   "cell_type": "code",
   "execution_count": 9,
   "id": "aa64d0cc-f246-4b7c-bade-74d73e96f03c",
   "metadata": {},
   "outputs": [
    {
     "name": "stdout",
     "output_type": "stream",
     "text": [
      "DEBUG: Checking if SummarizeReport() is complete\n",
      "INFO: Informed scheduler that task   SummarizeReport__99914b932b   has status   DONE\n",
      "INFO: Done scheduling tasks\n",
      "INFO: Running Worker with 1 processes\n",
      "DEBUG: Asking scheduler for work...\n",
      "DEBUG: Done\n",
      "DEBUG: There are no more tasks to run at this time\n",
      "INFO: Worker Worker(salt=084282489, workers=1, host=e3fdad83036a, username=root, pid=673) was stopped. Shutting down Keep-Alive thread\n",
      "INFO: \n",
      "===== Luigi Execution Summary =====\n",
      "\n",
      "Scheduled 1 tasks of which:\n",
      "* 1 complete ones were encountered:\n",
      "    - 1 SummarizeReport()\n",
      "\n",
      "Did not run any tasks\n",
      "This progress looks :) because there were no failed tasks or missing dependencies\n",
      "\n",
      "===== Luigi Execution Summary =====\n",
      "\n"
     ]
    }
   ],
   "source": [
    "!python3 pipeline.py"
   ]
  },
  {
   "cell_type": "code",
   "execution_count": 10,
   "id": "7dd56c81-845e-4309-9250-116547f3cf52",
   "metadata": {},
   "outputs": [
    {
     "name": "stdout",
     "output_type": "stream",
     "text": [
      "550.0"
     ]
    }
   ],
   "source": [
    "!cat summary.txt"
   ]
  },
  {
   "cell_type": "markdown",
   "id": "d0c6c7d3-23bb-4324-aa8d-3cb31c876cbf",
   "metadata": {},
   "source": [
    "Luigi GUI help\n",
    "--"
   ]
  },
  {
   "cell_type": "code",
   "execution_count": 11,
   "id": "2e933759-1f3f-43ba-9787-c367a827940c",
   "metadata": {},
   "outputs": [
    {
     "name": "stdout",
     "output_type": "stream",
     "text": [
      "usage: luigid [-h] [--background] [--pidfile PIDFILE] [--logdir LOGDIR]\n",
      "              [--state-path STATE_PATH] [--address ADDRESS]\n",
      "              [--unix-socket UNIX_SOCKET] [--port PORT]\n",
      "\n",
      "Central luigi server\n",
      "\n",
      "optional arguments:\n",
      "  -h, --help            show this help message and exit\n",
      "  --background          Run in background mode\n",
      "  --pidfile PIDFILE     Write pidfile\n",
      "  --logdir LOGDIR       log directory\n",
      "  --state-path STATE_PATH\n",
      "                        Pickled state file\n",
      "  --address ADDRESS     Listening interface\n",
      "  --unix-socket UNIX_SOCKET\n",
      "                        Unix socket path\n",
      "  --port PORT           Listening port\n"
     ]
    }
   ],
   "source": [
    "!luigid --help"
   ]
  },
  {
   "cell_type": "markdown",
   "id": "7824095c-eb02-48e7-989b-72664166c805",
   "metadata": {},
   "source": [
    "Ejecución y reporte desde la GUI\n",
    "--"
   ]
  },
  {
   "cell_type": "markdown",
   "id": "23dc3c16-d737-493d-af67-bf22737be632",
   "metadata": {},
   "source": [
    "**Invocación de la GUI desde el prompt**"
   ]
  },
  {
   "cell_type": "markdown",
   "id": "fd3525da-c05b-4aa4-838d-5fe2361ab33d",
   "metadata": {},
   "source": [
    "```bash\n",
    "$ luigid\n",
    "```\n",
    "\n",
    "Para ver la interfaz use:\n",
    "\n",
    "http://localhost:8082\n",
    "\n",
    "o\n",
    "\n",
    "http://127.0.0.1:8082"
   ]
  },
  {
   "cell_type": "markdown",
   "id": "6f7c43ae-a087-47f0-86db-3284e2a0baaa",
   "metadata": {},
   "source": [
    "**Modificación de luigi.Run()**"
   ]
  },
  {
   "cell_type": "code",
   "execution_count": 12,
   "id": "80e7edfb-b8a7-4148-8d18-2fb02e14d863",
   "metadata": {},
   "outputs": [
    {
     "name": "stdout",
     "output_type": "stream",
     "text": [
      "Overwriting pipeline.py\n"
     ]
    }
   ],
   "source": [
    "%%writefile pipeline.py\n",
    "\n",
    "import luigi\n",
    "from luigi import Task, LocalTarget\n",
    "\n",
    "\n",
    "class ProcessOrders(Task):\n",
    "    def output(self):\n",
    "        return LocalTarget('orders.csv')\n",
    "\n",
    "    def run(self):\n",
    "        with self.output().open('w') as file:\n",
    "            print('May,100', file=file)\n",
    "            print('May,100', file=file)\n",
    "            print('Jun,200', file=file)\n",
    "            print('Jun,150', file=file)\n",
    "    \n",
    "class GenerateReport(Task):\n",
    "    def requires(self):\n",
    "        #\n",
    "        # Dependencia\n",
    "        #\n",
    "        return ProcessOrders()\n",
    "    \n",
    "    \n",
    "    def output(self):\n",
    "        return LocalTarget('report.csv')\n",
    "    \n",
    "    def run(self):\n",
    "        report = {}\n",
    "        for line in self.input().open():\n",
    "            month, amount=line.split(',')\n",
    "            if month in report:\n",
    "                report[month] += float(amount)\n",
    "            else:\n",
    "                report[month] = float(amount)\n",
    "            \n",
    "        with self.output().open('w') as file:\n",
    "            for month in report:\n",
    "                print(month+',' + str(report[month]), file=file)\n",
    "            \n",
    "\n",
    "class SummarizeReport(Task):\n",
    "    def requires(self):\n",
    "        #\n",
    "        # Dependencia\n",
    "        #\n",
    "        return GenerateReport()\n",
    "    \n",
    "    def output(self):\n",
    "        return LocalTarget('summary.txt')\n",
    "    \n",
    "    def run(self):\n",
    "        total = 0.0\n",
    "        for line in self.input().open():\n",
    "            month, amount = line.split(',')\n",
    "            total += float(amount)\n",
    "            \n",
    "        with self.output().open('w') as file:\n",
    "            file.write(str(total))\n",
    "            \n",
    "            \n",
    "if __name__ == '__main__':\n",
    "    #\n",
    "    # Cambia aca:\n",
    "    #\n",
    "    # luigi.run([\"SummarizeReport\", \"--local-scheduler\"])\n",
    "    luigi.run([\"SummarizeReport\"])\n"
   ]
  },
  {
   "cell_type": "markdown",
   "id": "8cc4a770-85e2-4967-a9db-a8f09afec443",
   "metadata": {},
   "source": [
    "**Ejecución del pipeline**"
   ]
  },
  {
   "cell_type": "code",
   "execution_count": 13,
   "id": "af09dd8f-f67c-4791-8bfc-54ed3d464c73",
   "metadata": {},
   "outputs": [
    {
     "name": "stdout",
     "output_type": "stream",
     "text": [
      "DEBUG: Checking if SummarizeReport() is complete\n",
      "DEBUG: Checking if GenerateReport() is complete\n",
      "INFO: Informed scheduler that task   SummarizeReport__99914b932b   has status   PENDING\n",
      "DEBUG: Checking if ProcessOrders() is complete\n",
      "INFO: Informed scheduler that task   GenerateReport__99914b932b   has status   PENDING\n",
      "INFO: Informed scheduler that task   ProcessOrders__99914b932b   has status   PENDING\n",
      "INFO: Done scheduling tasks\n",
      "INFO: Running Worker with 1 processes\n",
      "DEBUG: Asking scheduler for work...\n",
      "DEBUG: Pending tasks: 3\n",
      "INFO: [pid 684] Worker Worker(salt=656333087, workers=1, host=e3fdad83036a, username=root, pid=684) running   ProcessOrders()\n",
      "INFO: [pid 684] Worker Worker(salt=656333087, workers=1, host=e3fdad83036a, username=root, pid=684) done      ProcessOrders()\n",
      "DEBUG: 1 running tasks, waiting for next task to finish\n",
      "INFO: Informed scheduler that task   ProcessOrders__99914b932b   has status   DONE\n",
      "DEBUG: Asking scheduler for work...\n",
      "DEBUG: Pending tasks: 2\n",
      "INFO: [pid 684] Worker Worker(salt=656333087, workers=1, host=e3fdad83036a, username=root, pid=684) running   GenerateReport()\n",
      "INFO: [pid 684] Worker Worker(salt=656333087, workers=1, host=e3fdad83036a, username=root, pid=684) done      GenerateReport()\n",
      "DEBUG: 1 running tasks, waiting for next task to finish\n",
      "INFO: Informed scheduler that task   GenerateReport__99914b932b   has status   DONE\n",
      "DEBUG: Asking scheduler for work...\n",
      "DEBUG: Pending tasks: 1\n",
      "INFO: [pid 684] Worker Worker(salt=656333087, workers=1, host=e3fdad83036a, username=root, pid=684) running   SummarizeReport()\n",
      "INFO: [pid 684] Worker Worker(salt=656333087, workers=1, host=e3fdad83036a, username=root, pid=684) done      SummarizeReport()\n",
      "DEBUG: 1 running tasks, waiting for next task to finish\n",
      "INFO: Informed scheduler that task   SummarizeReport__99914b932b   has status   DONE\n",
      "DEBUG: Asking scheduler for work...\n",
      "DEBUG: Done\n",
      "DEBUG: There are no more tasks to run at this time\n",
      "INFO: Worker Worker(salt=656333087, workers=1, host=e3fdad83036a, username=root, pid=684) was stopped. Shutting down Keep-Alive thread\n",
      "INFO: \n",
      "===== Luigi Execution Summary =====\n",
      "\n",
      "Scheduled 3 tasks of which:\n",
      "* 3 ran successfully:\n",
      "    - 1 GenerateReport()\n",
      "    - 1 ProcessOrders()\n",
      "    - 1 SummarizeReport()\n",
      "\n",
      "This progress looks :) because there were no failed tasks or missing dependencies\n",
      "\n",
      "===== Luigi Execution Summary =====\n",
      "\n"
     ]
    }
   ],
   "source": [
    "!rm summary.txt report.csv orders.csv\n",
    "!python3 pipeline.py"
   ]
  },
  {
   "cell_type": "markdown",
   "id": "620cf960-fdb2-4329-9391-e38567b71bea",
   "metadata": {},
   "source": [
    "**GUI**"
   ]
  },
  {
   "cell_type": "markdown",
   "id": "beec77a2-2c31-4fca-950b-6ea615287abd",
   "metadata": {},
   "source": [
    "![assets/luigi_gui_1_01-0.png](assets/luigi_gui_1_01-0.png)"
   ]
  },
  {
   "cell_type": "markdown",
   "id": "d667ad96-4c54-476b-95f5-d2eb4a0c4dcf",
   "metadata": {},
   "source": [
    "![assets/luigi_gui_1_01-1.png](assets/luigi_gui_1_01-1.png)"
   ]
  }
 ],
 "metadata": {
  "kernelspec": {
   "display_name": "Python 3 (ipykernel)",
   "language": "python",
   "name": "python3"
  },
  "language_info": {
   "codemirror_mode": {
    "name": "ipython",
    "version": 3
   },
   "file_extension": ".py",
   "mimetype": "text/x-python",
   "name": "python",
   "nbconvert_exporter": "python",
   "pygments_lexer": "ipython3",
   "version": "3.8.10"
  }
 },
 "nbformat": 4,
 "nbformat_minor": 5
}
