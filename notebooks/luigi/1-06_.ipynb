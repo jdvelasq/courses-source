{
 "cells": [
  {
   "cell_type": "markdown",
   "id": "08ea0d61-0b16-49c8-a68b-6313da073ce0",
   "metadata": {},
   "source": [
    "Command Line\n",
    "===\n",
    "\n",
    "* Última modificación: Mayo  14, 2022"
   ]
  },
  {
   "cell_type": "code",
   "execution_count": 1,
   "id": "abf5c40f-5241-4f91-b394-f13c648f7152",
   "metadata": {},
   "outputs": [
    {
     "name": "stdout",
     "output_type": "stream",
     "text": [
      "/tmp\n"
     ]
    }
   ],
   "source": [
    "%cd /tmp\n",
    "!rm -rf output/ all_sales.csv\n",
    "!mkdir -p input/ "
   ]
  },
  {
   "cell_type": "code",
   "execution_count": 2,
   "id": "36d32c48-ace0-41d2-a987-7fce674e72cb",
   "metadata": {},
   "outputs": [
    {
     "name": "stdout",
     "output_type": "stream",
     "text": [
      "Overwriting input/sales1.csv\n"
     ]
    }
   ],
   "source": [
    "%%writefile input/sales1.csv\n",
    "Fance,May,100\n",
    "NA\n",
    "Germany,May,200"
   ]
  },
  {
   "cell_type": "code",
   "execution_count": 3,
   "id": "9ca41d1a-ed86-480b-a858-a255f714eab9",
   "metadata": {},
   "outputs": [
    {
     "name": "stdout",
     "output_type": "stream",
     "text": [
      "Overwriting input/sales2.csv\n"
     ]
    }
   ],
   "source": [
    "%%writefile input/sales2.csv\n",
    "Fance,June,140\n",
    "Germany,June,180\n",
    "UK,June,180"
   ]
  },
  {
   "cell_type": "code",
   "execution_count": 4,
   "id": "d3bd8798-be46-4585-bdd6-6b241d2cfd88",
   "metadata": {},
   "outputs": [
    {
     "name": "stdout",
     "output_type": "stream",
     "text": [
      "Overwriting input/sales3.csv\n"
     ]
    }
   ],
   "source": [
    "%%writefile input/sales3.csv\n",
    "France,June,240\n",
    "None\n",
    "Germany,June,180"
   ]
  },
  {
   "cell_type": "code",
   "execution_count": 5,
   "id": "04dc6518-d077-4150-a627-2df92fe52037",
   "metadata": {},
   "outputs": [
    {
     "name": "stdout",
     "output_type": "stream",
     "text": [
      "Overwriting __init__.py\n"
     ]
    }
   ],
   "source": [
    "%%writefile __init__.py\n",
    "#"
   ]
  },
  {
   "cell_type": "code",
   "execution_count": 6,
   "id": "0a18fa2f-decf-42fd-a638-65dbf0724c7d",
   "metadata": {},
   "outputs": [
    {
     "name": "stdout",
     "output_type": "stream",
     "text": [
      "Overwriting pipeline.py\n"
     ]
    }
   ],
   "source": [
    "%%writefile pipeline.py\n",
    "\n",
    "import os\n",
    "\n",
    "import luigi\n",
    "from luigi import IntParameter, LocalTarget, Parameter, Task\n",
    "\n",
    "OUTPUT_FOLDER = \"output\"\n",
    "\n",
    "\n",
    "class DownloadFile(Task):\n",
    "\n",
    "    input_folder = Parameter()\n",
    "    file_name = Parameter()\n",
    "    index = IntParameter()\n",
    "\n",
    "    def output(self):\n",
    "        output_path = os.path.join(\n",
    "            OUTPUT_FOLDER,\n",
    "            str(self.index),\n",
    "            self.file_name,\n",
    "        )\n",
    "        return LocalTarget(output_path)\n",
    "\n",
    "    def run(self):\n",
    "        input_path = os.path.join(\n",
    "            self.input_folder,\n",
    "            self.file_name,\n",
    "        )\n",
    "        with open(input_path) as in_file:\n",
    "            with self.output().open(\"w\") as out_file:\n",
    "                for line in in_file:\n",
    "                    if \",\" in line:\n",
    "                        out_file.write(line)\n",
    "\n",
    "\n",
    "class DownloadSalesData(Task):\n",
    "    input_folder = Parameter()\n",
    "\n",
    "    def output(self):\n",
    "        return LocalTarget(\"all_sales.csv\")\n",
    "\n",
    "    def run(self):\n",
    "        processed_files = []\n",
    "        counter = 1\n",
    "        for file in sorted(os.listdir(self.input_folder)):\n",
    "            target = yield DownloadFile(\n",
    "                self.input_folder,\n",
    "                file,\n",
    "                counter,\n",
    "            )\n",
    "            counter += 1\n",
    "            processed_files.append(target)\n",
    "\n",
    "        with self.output().open(\"w\") as out_file:\n",
    "            for file in processed_files:\n",
    "                with file.open() as in_file:\n",
    "                    for line in in_file:\n",
    "                        out_file.write(line)\n",
    "\n"
   ]
  },
  {
   "cell_type": "code",
   "execution_count": 7,
   "id": "81585b0c-b8e6-4d41-89b5-84c1438238cc",
   "metadata": {},
   "outputs": [
    {
     "name": "stdout",
     "output_type": "stream",
     "text": [
      "DEBUG: Checking if DownloadSalesData(input_folder=input) is complete\n",
      "INFO: Informed scheduler that task   DownloadSalesData_input_3d041dae39   has status   PENDING\n",
      "INFO: Done scheduling tasks\n",
      "INFO: Running Worker with 1 processes\n",
      "DEBUG: Asking scheduler for work...\n",
      "DEBUG: Pending tasks: 1\n",
      "INFO: [pid 731] Worker Worker(salt=628782563, workers=1, host=b148b7d2dd75, username=root, pid=731) running   DownloadSalesData(input_folder=input)\n",
      "INFO: [pid 731] Worker Worker(salt=628782563, workers=1, host=b148b7d2dd75, username=root, pid=731) new requirements      DownloadSalesData(input_folder=input)\n",
      "DEBUG: 1 running tasks, waiting for next task to finish\n",
      "DEBUG: Checking if DownloadFile(input_folder=input, file_name=sales1.csv, index=1) is complete\n",
      "INFO: Informed scheduler that task   DownloadFile_sales1_csv_1_input_c3a4c863ff   has status   PENDING\n",
      "INFO: Informed scheduler that task   DownloadSalesData_input_3d041dae39   has status   PENDING\n",
      "DEBUG: Asking scheduler for work...\n",
      "DEBUG: Pending tasks: 2\n",
      "INFO: [pid 731] Worker Worker(salt=628782563, workers=1, host=b148b7d2dd75, username=root, pid=731) running   DownloadFile(input_folder=input, file_name=sales1.csv, index=1)\n",
      "INFO: [pid 731] Worker Worker(salt=628782563, workers=1, host=b148b7d2dd75, username=root, pid=731) done      DownloadFile(input_folder=input, file_name=sales1.csv, index=1)\n",
      "DEBUG: 1 running tasks, waiting for next task to finish\n",
      "INFO: Informed scheduler that task   DownloadFile_sales1_csv_1_input_c3a4c863ff   has status   DONE\n",
      "DEBUG: Asking scheduler for work...\n",
      "DEBUG: Pending tasks: 1\n",
      "INFO: [pid 731] Worker Worker(salt=628782563, workers=1, host=b148b7d2dd75, username=root, pid=731) running   DownloadSalesData(input_folder=input)\n",
      "INFO: [pid 731] Worker Worker(salt=628782563, workers=1, host=b148b7d2dd75, username=root, pid=731) new requirements      DownloadSalesData(input_folder=input)\n",
      "DEBUG: 1 running tasks, waiting for next task to finish\n",
      "DEBUG: Checking if DownloadFile(input_folder=input, file_name=sales2.csv, index=2) is complete\n",
      "INFO: Informed scheduler that task   DownloadFile_sales2_csv_2_input_83e73fcbf0   has status   PENDING\n",
      "INFO: Informed scheduler that task   DownloadSalesData_input_3d041dae39   has status   PENDING\n",
      "DEBUG: Asking scheduler for work...\n",
      "DEBUG: Pending tasks: 2\n",
      "INFO: [pid 731] Worker Worker(salt=628782563, workers=1, host=b148b7d2dd75, username=root, pid=731) running   DownloadFile(input_folder=input, file_name=sales2.csv, index=2)\n",
      "INFO: [pid 731] Worker Worker(salt=628782563, workers=1, host=b148b7d2dd75, username=root, pid=731) done      DownloadFile(input_folder=input, file_name=sales2.csv, index=2)\n",
      "DEBUG: 1 running tasks, waiting for next task to finish\n",
      "INFO: Informed scheduler that task   DownloadFile_sales2_csv_2_input_83e73fcbf0   has status   DONE\n",
      "DEBUG: Asking scheduler for work...\n",
      "DEBUG: Pending tasks: 1\n",
      "INFO: [pid 731] Worker Worker(salt=628782563, workers=1, host=b148b7d2dd75, username=root, pid=731) running   DownloadSalesData(input_folder=input)\n",
      "INFO: [pid 731] Worker Worker(salt=628782563, workers=1, host=b148b7d2dd75, username=root, pid=731) new requirements      DownloadSalesData(input_folder=input)\n",
      "DEBUG: 1 running tasks, waiting for next task to finish\n",
      "DEBUG: Checking if DownloadFile(input_folder=input, file_name=sales3.csv, index=3) is complete\n",
      "INFO: Informed scheduler that task   DownloadFile_sales3_csv_3_input_18bd499a8c   has status   PENDING\n",
      "INFO: Informed scheduler that task   DownloadSalesData_input_3d041dae39   has status   PENDING\n",
      "DEBUG: Asking scheduler for work...\n",
      "DEBUG: Pending tasks: 2\n",
      "INFO: [pid 731] Worker Worker(salt=628782563, workers=1, host=b148b7d2dd75, username=root, pid=731) running   DownloadFile(input_folder=input, file_name=sales3.csv, index=3)\n",
      "INFO: [pid 731] Worker Worker(salt=628782563, workers=1, host=b148b7d2dd75, username=root, pid=731) done      DownloadFile(input_folder=input, file_name=sales3.csv, index=3)\n",
      "DEBUG: 1 running tasks, waiting for next task to finish\n",
      "INFO: Informed scheduler that task   DownloadFile_sales3_csv_3_input_18bd499a8c   has status   DONE\n",
      "DEBUG: Asking scheduler for work...\n",
      "DEBUG: Pending tasks: 1\n",
      "INFO: [pid 731] Worker Worker(salt=628782563, workers=1, host=b148b7d2dd75, username=root, pid=731) running   DownloadSalesData(input_folder=input)\n",
      "INFO: [pid 731] Worker Worker(salt=628782563, workers=1, host=b148b7d2dd75, username=root, pid=731) done      DownloadSalesData(input_folder=input)\n",
      "DEBUG: 1 running tasks, waiting for next task to finish\n",
      "INFO: Informed scheduler that task   DownloadSalesData_input_3d041dae39   has status   DONE\n",
      "DEBUG: Asking scheduler for work...\n",
      "DEBUG: Done\n",
      "DEBUG: There are no more tasks to run at this time\n",
      "INFO: Worker Worker(salt=628782563, workers=1, host=b148b7d2dd75, username=root, pid=731) was stopped. Shutting down Keep-Alive thread\n",
      "INFO: \n",
      "===== Luigi Execution Summary =====\n",
      "\n",
      "Scheduled 4 tasks of which:\n",
      "* 4 ran successfully:\n",
      "    - 3 DownloadFile(input_folder=input, file_name=sales1.csv, index=1) ...\n",
      "    - 1 DownloadSalesData(input_folder=input)\n",
      "\n",
      "This progress looks :) because there were no failed tasks or missing dependencies\n",
      "\n",
      "===== Luigi Execution Summary =====\n",
      "\n"
     ]
    }
   ],
   "source": [
    "!python3 -m luigi --module pipeline  DownloadSalesData --input-folder input --local-scheduler"
   ]
  },
  {
   "cell_type": "code",
   "execution_count": 8,
   "id": "76933a31-0983-4e39-bbc7-3be94d0464f0",
   "metadata": {},
   "outputs": [
    {
     "name": "stdout",
     "output_type": "stream",
     "text": [
      "Fance,May,100\n",
      "Germany,May,200\n",
      "Fance,June,140\n",
      "Germany,June,180\n",
      "UK,June,180\n",
      "France,June,240\n",
      "Germany,June,180\n"
     ]
    }
   ],
   "source": [
    "!cat all_sales.csv"
   ]
  },
  {
   "cell_type": "code",
   "execution_count": 9,
   "id": "dd5bedf0-ed04-4079-ac2e-d5788b372ac8",
   "metadata": {},
   "outputs": [
    {
     "name": "stdout",
     "output_type": "stream",
     "text": [
      "1\n",
      "2\n",
      "3\n"
     ]
    }
   ],
   "source": [
    "!ls -1 /tmp/output"
   ]
  },
  {
   "cell_type": "code",
   "execution_count": 10,
   "id": "16eb1428-ee67-43c6-b947-bb9db49cdc1a",
   "metadata": {},
   "outputs": [
    {
     "name": "stdout",
     "output_type": "stream",
     "text": [
      "sales1.csv\n"
     ]
    }
   ],
   "source": [
    "!ls -1 /tmp/output/1/"
   ]
  },
  {
   "cell_type": "code",
   "execution_count": 11,
   "id": "b8b61c7f-b319-4207-820d-dbb72f320603",
   "metadata": {},
   "outputs": [
    {
     "name": "stdout",
     "output_type": "stream",
     "text": [
      "sales2.csv\n"
     ]
    }
   ],
   "source": [
    "!ls -1 /tmp/output/2/"
   ]
  },
  {
   "cell_type": "code",
   "execution_count": 12,
   "id": "48a698f0-55de-43a9-90fd-6a9b08d6ea52",
   "metadata": {},
   "outputs": [
    {
     "name": "stdout",
     "output_type": "stream",
     "text": [
      "sales3.csv\n"
     ]
    }
   ],
   "source": [
    "!ls -1 /tmp/output/3/"
   ]
  },
  {
   "cell_type": "code",
   "execution_count": 13,
   "id": "acc6cdef-a1d5-40f4-a4e7-a22d1cfc4bbc",
   "metadata": {},
   "outputs": [
    {
     "name": "stdout",
     "output_type": "stream",
     "text": [
      "Fance,May,100\n",
      "Germany,May,200\n"
     ]
    }
   ],
   "source": [
    "!cat /tmp/output/1/sales1.csv"
   ]
  }
 ],
 "metadata": {
  "kernelspec": {
   "display_name": "Python 3 (ipykernel)",
   "language": "python",
   "name": "python3"
  },
  "language_info": {
   "codemirror_mode": {
    "name": "ipython",
    "version": 3
   },
   "file_extension": ".py",
   "mimetype": "text/x-python",
   "name": "python",
   "nbconvert_exporter": "python",
   "pygments_lexer": "ipython3",
   "version": "3.8.10"
  }
 },
 "nbformat": 4,
 "nbformat_minor": 5
}
