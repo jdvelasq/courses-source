{
 "cells": [
  {
   "cell_type": "markdown",
   "id": "bcf77ae9-91c8-45e4-920b-cef0c19e7f1b",
   "metadata": {
    "tags": []
   },
   "source": [
    "Aceleracion de map()\n",
    "===\n",
    "\n",
    "* Última modificación: Mayo 14, 2022"
   ]
  },
  {
   "cell_type": "markdown",
   "id": "d0ef5fda-ac59-44a0-8550-fa9b567866a8",
   "metadata": {},
   "source": [
    "*Adaptado del libro \"Mastering Large Datasets with Python\".*"
   ]
  },
  {
   "cell_type": "markdown",
   "id": "ec5c48d6-81b6-40d5-a13a-4f75e1f1d3d8",
   "metadata": {},
   "source": [
    "Preparación de datos\n",
    "--"
   ]
  },
  {
   "cell_type": "code",
   "execution_count": 1,
   "id": "8ecac404-eeca-4c0c-865f-2604444437d1",
   "metadata": {},
   "outputs": [],
   "source": [
    "import os\n",
    "import re"
   ]
  },
  {
   "cell_type": "code",
   "execution_count": 2,
   "id": "e64254f1-eab4-422a-a243-bb72b8aacf06",
   "metadata": {},
   "outputs": [],
   "source": [
    "REPEAT = 1000000\n",
    "\n",
    "phone_numbers = [\n",
    "    \"(123) 456-7890\",\n",
    "    \"1234567890\",\n",
    "    \"123.456.7890\",\n",
    "    \"+1 123 456-7890\",\n",
    "]\n",
    "\n",
    "new_numbers = []\n",
    "\n",
    "regex = re.compile(r\"\\d\")"
   ]
  },
  {
   "cell_type": "code",
   "execution_count": 3,
   "id": "adfd14cd-d991-4559-befa-536b68bdd389",
   "metadata": {},
   "outputs": [],
   "source": [
    "class PhoneFormatter:\n",
    "    def __init__(self):\n",
    "        self.regex = re.compile(r\"\\d\")\n",
    "\n",
    "    def pretty_format(self, phone_number):\n",
    "\n",
    "        digits = self.regex.findall(phone_number)\n",
    "\n",
    "        area_code = \"\".join(digits[-10:-7])\n",
    "        first_3 = \"\".join(digits[-7:-4])\n",
    "        last_4 = \"\".join(digits[-4 : len(digits)])\n",
    "\n",
    "        return \"({}) {}-{}\".format(\n",
    "            area_code,\n",
    "            first_3,\n",
    "            last_4,\n",
    "        )\n",
    "\n",
    "\n",
    "phone_numbers = [\n",
    "    \"(123) 456-7890\",\n",
    "    \"1234567890\",\n",
    "    \"123.456.7890\",\n",
    "    \"+1 123 456-7890\",\n",
    "]\n",
    "\n",
    "formatter = PhoneFormatter()"
   ]
  },
  {
   "cell_type": "markdown",
   "id": "59573afa-02cd-4177-bf02-a9cb277a2baf",
   "metadata": {},
   "source": [
    "Definición de funciones\n",
    "--"
   ]
  },
  {
   "cell_type": "code",
   "execution_count": 4,
   "id": "0a85120b-3cfd-40b7-82da-9077df722a60",
   "metadata": {},
   "outputs": [],
   "source": [
    "def lazzy_map(phone_numbers):\n",
    "    return list(\n",
    "        map(\n",
    "            formatter.pretty_format,\n",
    "            phone_numbers * REPEAT,\n",
    "        )\n",
    "    )"
   ]
  },
  {
   "cell_type": "code",
   "execution_count": 5,
   "id": "33518d51-8dac-4d29-8447-52c21b77c742",
   "metadata": {},
   "outputs": [],
   "source": [
    "from multiprocessing import Pool\n",
    "\n",
    "\n",
    "def parallel_map(phone_numbers):\n",
    "    with Pool() as pool:\n",
    "        result = pool.map(\n",
    "            formatter.pretty_format,\n",
    "            phone_numbers * REPEAT,\n",
    "        )\n",
    "    return result"
   ]
  },
  {
   "cell_type": "markdown",
   "id": "93af9048-62a1-4245-9716-bcf179b961cd",
   "metadata": {},
   "source": [
    "Medición de tiempos\n",
    "---"
   ]
  },
  {
   "cell_type": "code",
   "execution_count": 6,
   "id": "aeccc9af-dd75-47ae-be6b-33419411fdb8",
   "metadata": {},
   "outputs": [
    {
     "name": "stdout",
     "output_type": "stream",
     "text": [
      "7.24 s ± 199 ms per loop (mean ± std. dev. of 7 runs, 1 loop each)\n"
     ]
    }
   ],
   "source": [
    "%%timeit\n",
    "\n",
    "_ = lazzy_map(phone_numbers)"
   ]
  },
  {
   "cell_type": "code",
   "execution_count": 7,
   "id": "ef484ac2-f63e-44fb-a290-937b675f926d",
   "metadata": {},
   "outputs": [
    {
     "name": "stdout",
     "output_type": "stream",
     "text": [
      "1.45 s ± 104 ms per loop (mean ± std. dev. of 7 runs, 1 loop each)\n"
     ]
    }
   ],
   "source": [
    "%%timeit\n",
    "\n",
    "_ = parallel_map(phone_numbers)"
   ]
  },
  {
   "cell_type": "markdown",
   "id": "89b6d728-6373-46ae-b52f-1bf62592d09d",
   "metadata": {},
   "source": [
    "Función imap()\n",
    "--"
   ]
  },
  {
   "cell_type": "code",
   "execution_count": 8,
   "id": "8c2377c6-65fb-4c36-bf26-e85979afb4d1",
   "metadata": {},
   "outputs": [],
   "source": [
    "#\n",
    "# Esta función retorna un iterador por lo que se retraza\n",
    "# su ejecución hasta que el valor es requerido\n",
    "#\n",
    "def parallel_imap(phone_numbers):\n",
    "    with Pool() as pool:\n",
    "        result = pool.imap(\n",
    "            formatter.pretty_format,\n",
    "            phone_numbers * REPEAT,\n",
    "        )\n",
    "    return result"
   ]
  },
  {
   "cell_type": "code",
   "execution_count": 9,
   "id": "f3e39050-c538-49eb-8878-ebc1a7f0ff9c",
   "metadata": {},
   "outputs": [
    {
     "name": "stdout",
     "output_type": "stream",
     "text": [
      "112 ms ± 13 ms per loop (mean ± std. dev. of 7 runs, 10 loops each)\n"
     ]
    }
   ],
   "source": [
    "%%timeit\n",
    "\n",
    "_ = parallel_imap(phone_numbers)"
   ]
  },
  {
   "cell_type": "markdown",
   "id": "bc98f53b-cfee-4caf-b4fc-e06d91564548",
   "metadata": {},
   "source": [
    "Función imap_unordered()\n",
    "--"
   ]
  },
  {
   "cell_type": "code",
   "execution_count": 10,
   "id": "6019a510-aafd-457e-8a16-edc109242e76",
   "metadata": {},
   "outputs": [],
   "source": [
    "#\n",
    "# Esta función retorna un iterador por lo que se retraza\n",
    "# su ejecución hasta que el valor es requerido\n",
    "#\n",
    "def parallel_imap_unordered(phone_numbers):\n",
    "    with Pool() as pool:\n",
    "        result = pool.imap_unordered(\n",
    "            formatter.pretty_format,\n",
    "            phone_numbers * REPEAT,\n",
    "        )\n",
    "    return result"
   ]
  },
  {
   "cell_type": "code",
   "execution_count": 11,
   "id": "d5910a62-024f-459e-a768-0776ea0a7d25",
   "metadata": {},
   "outputs": [
    {
     "name": "stdout",
     "output_type": "stream",
     "text": [
      "106 ms ± 3.03 ms per loop (mean ± std. dev. of 7 runs, 10 loops each)\n"
     ]
    }
   ],
   "source": [
    "%%timeit\n",
    "\n",
    "_ = parallel_imap_unordered(phone_numbers)"
   ]
  },
  {
   "cell_type": "markdown",
   "id": "40846e0c-6dc0-4db4-8004-42b8055127f9",
   "metadata": {},
   "source": [
    "Función starmap()\n",
    "---"
   ]
  },
  {
   "cell_type": "code",
   "execution_count": 12,
   "id": "49c95994-44fb-41ee-a1e7-f7ebfe55204e",
   "metadata": {},
   "outputs": [],
   "source": [
    "x = [7, 3, 1, 19, 11, 3]\n",
    "y = [3, 4, 6, 10, 14, 1]"
   ]
  },
  {
   "cell_type": "code",
   "execution_count": 13,
   "id": "81d8cc83-8b9c-4e1a-add2-007437258c4c",
   "metadata": {},
   "outputs": [
    {
     "name": "stdout",
     "output_type": "stream",
     "text": [
      "862 ns ± 6.55 ns per loop (mean ± std. dev. of 7 runs, 1,000,000 loops each)\n"
     ]
    }
   ],
   "source": [
    "%%timeit\n",
    "\n",
    "[max(k) for k in zip(x, y)]"
   ]
  },
  {
   "cell_type": "code",
   "execution_count": 14,
   "id": "bd6e6a0c-fc4d-494f-9b54-c4311f08fa4d",
   "metadata": {},
   "outputs": [],
   "source": [
    "from itertools import starmap"
   ]
  },
  {
   "cell_type": "code",
   "execution_count": 15,
   "id": "465ddc84-1283-4ccb-8ebb-8a22d83ef9a7",
   "metadata": {},
   "outputs": [
    {
     "name": "stdout",
     "output_type": "stream",
     "text": [
      "663 ns ± 7.59 ns per loop (mean ± std. dev. of 7 runs, 1,000,000 loops each)\n"
     ]
    }
   ],
   "source": [
    "%%timeit\n",
    "\n",
    "list(starmap(max, zip(x, y)))"
   ]
  }
 ],
 "metadata": {
  "kernelspec": {
   "display_name": "Python 3 (ipykernel)",
   "language": "python",
   "name": "python3"
  },
  "language_info": {
   "codemirror_mode": {
    "name": "ipython",
    "version": 3
   },
   "file_extension": ".py",
   "mimetype": "text/x-python",
   "name": "python",
   "nbconvert_exporter": "python",
   "pygments_lexer": "ipython3",
   "version": "3.8.10"
  }
 },
 "nbformat": 4,
 "nbformat_minor": 5
}
