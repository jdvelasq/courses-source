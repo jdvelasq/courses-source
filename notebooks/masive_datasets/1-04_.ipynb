{
 "cells": [
  {
   "cell_type": "markdown",
   "id": "2091ba96-e70c-4cf5-800b-0b512a461d1e",
   "metadata": {
    "tags": []
   },
   "source": [
    "Operaciones de acumulación con reduce()\n",
    "===\n",
    "\n",
    "* Última modificación: Mayo 14, 2022"
   ]
  },
  {
   "cell_type": "markdown",
   "id": "e9b8ca7a-69e9-4aee-8c74-fa876514f393",
   "metadata": {},
   "source": [
    "*Adaptado del libro \"Mastering Large Datasets with Python\".*"
   ]
  },
  {
   "cell_type": "markdown",
   "id": "ba34ecb3-ff3b-4a6b-b913-27be0b442ac4",
   "metadata": {},
   "source": [
    "Suma de una lista\n",
    "---"
   ]
  },
  {
   "cell_type": "code",
   "execution_count": 1,
   "id": "f487533e-4bb6-4581-93b8-5a08152d6154",
   "metadata": {},
   "outputs": [
    {
     "data": {
      "text/plain": [
       "[0, 1, 2, 3, 4]"
      ]
     },
     "execution_count": 1,
     "metadata": {},
     "output_type": "execute_result"
    }
   ],
   "source": [
    "integers = list(range(5))\n",
    "integers"
   ]
  },
  {
   "cell_type": "code",
   "execution_count": 2,
   "id": "79e90854-8714-4459-9e7c-6f0460c75271",
   "metadata": {},
   "outputs": [
    {
     "data": {
      "text/plain": [
       "10"
      ]
     },
     "execution_count": 2,
     "metadata": {},
     "output_type": "execute_result"
    }
   ],
   "source": [
    "from functools import reduce\n",
    "from operator import add\n",
    "\n",
    "reduce(\n",
    "    add,  # function\n",
    "    integers,  # iterable\n",
    "    0,  # initializer\n",
    ")"
   ]
  },
  {
   "cell_type": "markdown",
   "id": "af071d02-e201-48eb-b8cf-4cbd9371f0de",
   "metadata": {},
   "source": [
    "Acumulador personalizado\n",
    "---"
   ]
  },
  {
   "cell_type": "code",
   "execution_count": 3,
   "id": "dcc5c1b8-c890-4602-9e10-29af9d4ab23d",
   "metadata": {},
   "outputs": [
    {
     "data": {
      "text/plain": [
       "10"
      ]
     },
     "execution_count": 3,
     "metadata": {},
     "output_type": "execute_result"
    }
   ],
   "source": [
    "def my_add(acc, nxt):\n",
    "    return acc + nxt\n",
    "\n",
    "\n",
    "reduce(\n",
    "    my_add,  # function\n",
    "    integers,  # iterable\n",
    "    0,  # initializer\n",
    ")"
   ]
  },
  {
   "cell_type": "markdown",
   "id": "4b8116c0-3474-4be3-89e9-8a4af3dc94e4",
   "metadata": {},
   "source": [
    "Operación de la función de acumulación\n",
    "--"
   ]
  },
  {
   "cell_type": "code",
   "execution_count": 4,
   "id": "08301bce-9d8d-46e9-a54e-e48eae7e8236",
   "metadata": {},
   "outputs": [
    {
     "data": {
      "text/plain": [
       "10"
      ]
     },
     "execution_count": 4,
     "metadata": {},
     "output_type": "execute_result"
    }
   ],
   "source": [
    "acc = 0  # initializer\n",
    "\n",
    "acc = integers[0] + acc\n",
    "acc = integers[1] + acc\n",
    "acc = integers[2] + acc\n",
    "acc = integers[3] + acc\n",
    "acc = integers[4] + acc\n",
    "acc"
   ]
  },
  {
   "cell_type": "markdown",
   "id": "984bdfac-b5ca-42fd-8406-639c2b6a3636",
   "metadata": {},
   "source": [
    "Uso de lambda\n",
    "---"
   ]
  },
  {
   "cell_type": "code",
   "execution_count": 5,
   "id": "48886f8a-8601-4cc8-84d5-d0d399721a4b",
   "metadata": {},
   "outputs": [
    {
     "data": {
      "text/plain": [
       "10"
      ]
     },
     "execution_count": 5,
     "metadata": {},
     "output_type": "execute_result"
    }
   ],
   "source": [
    "reduce(\n",
    "    lambda acc, nxt: acc + nxt,\n",
    "    integers,\n",
    "    0,\n",
    ")"
   ]
  },
  {
   "cell_type": "markdown",
   "id": "770098b7-8842-441b-bf8b-df493a194c26",
   "metadata": {},
   "source": [
    "Acumulación sobre estructuras de datos\n",
    "---"
   ]
  },
  {
   "cell_type": "code",
   "execution_count": 6,
   "id": "543a7c79-c0c9-41f2-b2fe-52b37e3636a4",
   "metadata": {},
   "outputs": [
    {
     "data": {
      "text/plain": [
       "10"
      ]
     },
     "execution_count": 6,
     "metadata": {},
     "output_type": "execute_result"
    }
   ],
   "source": [
    "my_list = [\n",
    "    {\"a\": 1, \"b\": 4},\n",
    "    {\"a\": 3, \"b\": 2},\n",
    "    {\"a\": 0, \"b\": 1},\n",
    "    {\"a\": 2, \"b\": 0},\n",
    "    {\"a\": 4, \"b\": 3},\n",
    "]\n",
    "\n",
    "reduce(lambda acc, nxt: acc + nxt.get(\"a\", 0), my_list, 0)"
   ]
  },
  {
   "cell_type": "code",
   "execution_count": 7,
   "id": "1d0608dc-9822-4484-9ed2-ec0913ac8d65",
   "metadata": {},
   "outputs": [
    {
     "data": {
      "text/plain": [
       "10.0"
      ]
     },
     "execution_count": 7,
     "metadata": {},
     "output_type": "execute_result"
    }
   ],
   "source": [
    "reduce(lambda acc, nxt: acc + nxt.get(\"a\", 0), my_list, 0.0)"
   ]
  },
  {
   "cell_type": "code",
   "execution_count": 8,
   "id": "79dd532b-b45a-4b79-9fc4-14dcc6a0ed4a",
   "metadata": {},
   "outputs": [
    {
     "data": {
      "text/plain": [
       "{'a': 10, 'b': 10}"
      ]
     },
     "execution_count": 8,
     "metadata": {},
     "output_type": "execute_result"
    }
   ],
   "source": [
    "def make_sums(acc, nxt):\n",
    "    acc[\"a\"] = acc.get(\"a\", 0) + nxt[\"a\"]\n",
    "    acc[\"b\"] = acc.get(\"b\", 0) + nxt[\"b\"]\n",
    "    return acc\n",
    "\n",
    "\n",
    "reduce(\n",
    "    make_sums,\n",
    "    my_list,\n",
    "    {},\n",
    ")"
   ]
  },
  {
   "cell_type": "markdown",
   "id": "a3080383-bf65-4a9a-a1ba-6480049edf3d",
   "metadata": {},
   "source": [
    "Equivalente a filter()\n",
    "---"
   ]
  },
  {
   "cell_type": "code",
   "execution_count": 9,
   "id": "70657a2e-787f-4c13-8d8d-60b224cc3799",
   "metadata": {},
   "outputs": [
    {
     "data": {
      "text/plain": [
       "[0, 1, 2, 3, 4, 5, 6, 7, 8, 9]"
      ]
     },
     "execution_count": 9,
     "metadata": {},
     "output_type": "execute_result"
    }
   ],
   "source": [
    "my_list = list(range(10))\n",
    "my_list"
   ]
  },
  {
   "cell_type": "code",
   "execution_count": 10,
   "id": "dcf09a11-5dbf-40d2-b725-9af65a836331",
   "metadata": {},
   "outputs": [
    {
     "data": {
      "text/plain": [
       "[0, 2, 4, 6, 8]"
      ]
     },
     "execution_count": 10,
     "metadata": {},
     "output_type": "execute_result"
    }
   ],
   "source": [
    "def keep_if_even(acc, nxt):\n",
    "    if nxt % 2 == 0:\n",
    "        return acc + [nxt]\n",
    "    return acc\n",
    "\n",
    "\n",
    "reduce(\n",
    "    keep_if_even,\n",
    "    my_list,\n",
    "    [],\n",
    ")"
   ]
  },
  {
   "cell_type": "markdown",
   "id": "d182065f-2668-46eb-a462-7164d983ba22",
   "metadata": {},
   "source": [
    "Conteos de frecuencia con reduce()\n",
    "---"
   ]
  },
  {
   "cell_type": "code",
   "execution_count": 11,
   "id": "c90ef4ca-c601-4849-ba0c-2deee6df608e",
   "metadata": {},
   "outputs": [
    {
     "data": {
      "text/plain": [
       "['A', 'N', 'C', 'A', 'D', 'A', 'C', 'C', 'A', 'E', 'D', 'A', 'D']"
      ]
     },
     "execution_count": 11,
     "metadata": {},
     "output_type": "execute_result"
    }
   ],
   "source": [
    "my_list = list(\"ANCADACCAEDAD\")\n",
    "my_list"
   ]
  },
  {
   "cell_type": "code",
   "execution_count": 12,
   "id": "f518e16e-4c12-48db-a88e-af0be92a0b64",
   "metadata": {},
   "outputs": [
    {
     "data": {
      "text/plain": [
       "{'A': 5, 'N': 1, 'C': 3, 'D': 3, 'E': 1}"
      ]
     },
     "execution_count": 12,
     "metadata": {},
     "output_type": "execute_result"
    }
   ],
   "source": [
    "def make_counts(acc, nxt):\n",
    "    acc[nxt] = acc.get(nxt, 0) + 1\n",
    "    return acc\n",
    "\n",
    "\n",
    "reduce(\n",
    "    make_counts,\n",
    "    my_list,\n",
    "    {},\n",
    ")"
   ]
  }
 ],
 "metadata": {
  "kernelspec": {
   "display_name": "Python 3 (ipykernel)",
   "language": "python",
   "name": "python3"
  },
  "language_info": {
   "codemirror_mode": {
    "name": "ipython",
    "version": 3
   },
   "file_extension": ".py",
   "mimetype": "text/x-python",
   "name": "python",
   "nbconvert_exporter": "python",
   "pygments_lexer": "ipython3",
   "version": "3.8.10"
  }
 },
 "nbformat": 4,
 "nbformat_minor": 5
}
