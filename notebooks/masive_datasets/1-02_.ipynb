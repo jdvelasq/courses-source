{
 "cells": [
  {
   "cell_type": "markdown",
   "id": "93bfb003-8f1f-40c4-96c9-e51f715064d5",
   "metadata": {
    "tags": []
   },
   "source": [
    "Conteo de palabras con map() y Counter()\n",
    "===\n",
    "\n",
    "* Última modificación: Mayo 14, 2022"
   ]
  },
  {
   "cell_type": "markdown",
   "id": "a0a82d32-0bef-49a9-b532-9f685e318ae2",
   "metadata": {},
   "source": [
    "*Adaptado del libro \"Mastering Large Datasets with Python\".*"
   ]
  },
  {
   "cell_type": "markdown",
   "id": "e0de0dc9-addb-45e0-875e-51f511da9b9b",
   "metadata": {},
   "source": [
    "Archivos de prueba\n",
    "---"
   ]
  },
  {
   "cell_type": "code",
   "execution_count": 1,
   "id": "01678cfa-0165-4528-b906-322d02501364",
   "metadata": {},
   "outputs": [],
   "source": [
    "!rm -rf /tmp/input /tmp/output\n",
    "!mkdir /tmp/input"
   ]
  },
  {
   "cell_type": "code",
   "execution_count": 2,
   "id": "271e3d2f-7b60-4249-a8dd-2497fd4ffab6",
   "metadata": {},
   "outputs": [
    {
     "name": "stdout",
     "output_type": "stream",
     "text": [
      "Writing /tmp/input/text0.txt\n"
     ]
    }
   ],
   "source": [
    "%%writefile /tmp/input/text0.txt\n",
    "Analytics is the discovery, interpretation, and communication of meaningful patterns\n",
    "in data. Especially valuable in areas rich with recorded information, analytics relies\n",
    "on the simultaneous application of statistics, computer programming and operations research\n",
    "to quantify performance.\n",
    "\n",
    "Organizations may apply analytics to business data to describe, predict, and improve business\n",
    "performance. Specifically, areas within analytics include predictive analytics, prescriptive\n",
    "analytics, enterprise decision management, descriptive analytics, cognitive analytics, Big\n",
    "Data Analytics, retail analytics, store assortment and stock-keeping unit optimization,\n",
    "marketing optimization and marketing mix modeling, web analytics, call analytics, speech\n",
    "analytics, sales force sizing and optimization, price and promotion modeling, predictive\n",
    "science, credit risk analysis, and fraud analytics. Since analytics can require extensive\n",
    "computation (see big data), the algorithms and software used for analytics harness the most\n",
    "current methods in computer science, statistics, and mathematics.\n",
    "\n",
    "The field of data analysis. Analytics often involves studying past historical data to\n",
    "research potential trends, to analyze the effects of certain decisions or events, or to\n",
    "evaluate the performance of a given tool or scenario. The goal of analytics is to improve\n",
    "the business by gaining knowledge which can be used to make improvements or changes.\n",
    "\n",
    "Data analytics (DA) is the process of examining data sets in order to draw conclusions\n",
    "about the information they contain, increasingly with the aid of specialized systems\n",
    "and software. Data analytics technologies and techniques are widely used in commercial\n",
    "industries to enable organizations to make more-informed business decisions and by\n",
    "scientists and researchers to verify or disprove scientific models, theories and\n",
    "hypotheses."
   ]
  },
  {
   "cell_type": "code",
   "execution_count": 3,
   "id": "fb7e85a1-3931-4cb7-b3c6-fa24cabe666f",
   "metadata": {},
   "outputs": [],
   "source": [
    "import shutil\n",
    "\n",
    "for i in range(1, 10000):\n",
    "    shutil.copy(\"/tmp/input/text0.txt\", f\"/tmp/input/text{i}.txt\")"
   ]
  },
  {
   "cell_type": "markdown",
   "id": "9dc1bb28-54eb-4519-bc1d-46fc5b0f7d9e",
   "metadata": {},
   "source": [
    "Lectura de los archivos línea por línea\n",
    "---"
   ]
  },
  {
   "cell_type": "code",
   "execution_count": 4,
   "id": "b23f4820-331c-414a-9396-95d680eeead3",
   "metadata": {},
   "outputs": [],
   "source": [
    "import fileinput\n",
    "import glob\n",
    "import os\n",
    "\n",
    "\n",
    "def load_data(file_path):\n",
    "    # -----------------------------------------------------------------------------------\n",
    "    def make_iterator_from_single_file(file_path):\n",
    "        with open(file_path, \"rt\") as file:\n",
    "            for line in file:\n",
    "                yield line\n",
    "\n",
    "    # -----------------------------------------------------------------------------------\n",
    "    def make_iterator_from_multiple_files(file_path):\n",
    "        file_path = os.path.join(file_path, \"*\")\n",
    "        files = glob.glob(file_path)\n",
    "        with fileinput.input(files=files) as file:\n",
    "            for line in file:\n",
    "                yield line\n",
    "\n",
    "    # -----------------------------------------------------------------------------------\n",
    "    if os.path.isfile(file_path):\n",
    "        return make_iterator_from_single_file(file_path)\n",
    "    return make_iterator_from_multiple_files(file_path)"
   ]
  },
  {
   "cell_type": "markdown",
   "id": "e7508440-c3a3-4084-8212-9f5313ae6a36",
   "metadata": {},
   "source": [
    "Funciones para preprocesamiento\n",
    "---"
   ]
  },
  {
   "cell_type": "code",
   "execution_count": 5,
   "id": "5fda60dd-c6a5-4dd7-89fc-e2f42fa9281a",
   "metadata": {},
   "outputs": [],
   "source": [
    "import string\n",
    "\n",
    "\n",
    "def tolower(x):\n",
    "    return x.lower()\n",
    "\n",
    "\n",
    "def remove_punctuation(x):\n",
    "    return x.translate(str.maketrans(\"\", \"\", string.punctuation))\n",
    "\n",
    "\n",
    "def remove_newline(x):\n",
    "    return x.replace(\"\\n\", \"\")\n",
    "\n",
    "\n",
    "def split_lines(x):\n",
    "    return x.split()"
   ]
  },
  {
   "cell_type": "markdown",
   "id": "b2fde671-6098-4a63-98d7-49df095ab260",
   "metadata": {},
   "source": [
    "Encadenamiento de funciones map()\n",
    "---"
   ]
  },
  {
   "cell_type": "code",
   "execution_count": 6,
   "id": "2eafc26b-a9cc-4a78-af77-85b9c4cea02f",
   "metadata": {},
   "outputs": [
    {
     "data": {
      "text/plain": [
       "['analytics', 'is', 'the', 'discovery', 'interpretation']"
      ]
     },
     "execution_count": 6,
     "metadata": {},
     "output_type": "execute_result"
    }
   ],
   "source": [
    "from toolz.itertoolz import concat\n",
    "\n",
    "result = map(\n",
    "    tolower,\n",
    "    map(\n",
    "        remove_punctuation,\n",
    "        map(\n",
    "            remove_newline,\n",
    "            concat(\n",
    "                map(\n",
    "                    split_lines,\n",
    "                    load_data(\"/tmp/input/\"),\n",
    "                )\n",
    "            ),\n",
    "        ),\n",
    "    ),\n",
    ")\n",
    "\n",
    "list(result)[:5]"
   ]
  },
  {
   "cell_type": "markdown",
   "id": "1b3cf169-7f32-46b6-a551-087ac1169b48",
   "metadata": {},
   "source": [
    "Multiprocessing\n",
    "--"
   ]
  },
  {
   "cell_type": "code",
   "execution_count": 7,
   "id": "765e3be0-0465-4cf8-9292-4f70165077d8",
   "metadata": {},
   "outputs": [
    {
     "data": {
      "text/plain": [
       "['analytics', 'is', 'the', 'discovery', 'interpretation']"
      ]
     },
     "execution_count": 7,
     "metadata": {},
     "output_type": "execute_result"
    }
   ],
   "source": [
    "from multiprocessing import Pool\n",
    "\n",
    "with Pool() as pool:\n",
    "\n",
    "    result = pool.map(split_lines, load_data(\"/tmp/input/\"))\n",
    "    result = concat(result)\n",
    "    result = pool.map(remove_newline, result)\n",
    "    result = pool.map(remove_punctuation, result)\n",
    "    result = pool.map(tolower, result)\n",
    "\n",
    "\n",
    "result[:5]"
   ]
  },
  {
   "cell_type": "markdown",
   "id": "d5dbb92f-0fed-4acc-9198-958259a52c28",
   "metadata": {},
   "source": [
    "Tuberías de funciones con compose()\n",
    "----"
   ]
  },
  {
   "cell_type": "code",
   "execution_count": 8,
   "id": "14a46352-4f56-49ca-ab75-ccc2814c6fc9",
   "metadata": {},
   "outputs": [
    {
     "data": {
      "text/plain": [
       "['analytics', 'is', 'the', 'discovery', 'interpretation']"
      ]
     },
     "execution_count": 8,
     "metadata": {},
     "output_type": "execute_result"
    }
   ],
   "source": [
    "from toolz.functoolz import compose\n",
    "\n",
    "compose_pipeline = compose(\n",
    "    remove_punctuation,\n",
    "    tolower,\n",
    "    remove_newline,\n",
    ")\n",
    "\n",
    "with Pool() as pool:\n",
    "\n",
    "    result = pool.map(split_lines, load_data(\"/tmp/input/\"))\n",
    "    result = concat(result)\n",
    "    result = pool.map(compose_pipeline, result)\n",
    "\n",
    "\n",
    "result[:5]"
   ]
  },
  {
   "cell_type": "markdown",
   "id": "3aa2da07-b45e-4c72-bb99-4eb2564dc290",
   "metadata": {},
   "source": [
    "Comparación de tiempos\n",
    "---"
   ]
  },
  {
   "cell_type": "code",
   "execution_count": 9,
   "id": "6e0f7cf9-3a2d-43ed-a609-a36d13b76043",
   "metadata": {},
   "outputs": [
    {
     "name": "stdout",
     "output_type": "stream",
     "text": [
      "4.6 s ± 94.6 ms per loop (mean ± std. dev. of 7 runs, 1 loop each)\n"
     ]
    }
   ],
   "source": [
    "%%timeit\n",
    "\n",
    "result = map(\n",
    "    tolower,\n",
    "    map(\n",
    "        remove_punctuation,\n",
    "        map(\n",
    "            remove_newline,\n",
    "            concat(\n",
    "                map(\n",
    "                    split_lines,\n",
    "                    load_data(\"/tmp/input/\"),\n",
    "                )\n",
    "            ),\n",
    "        ),\n",
    "    ),\n",
    ")\n",
    "\n",
    "result = list(result)"
   ]
  },
  {
   "cell_type": "code",
   "execution_count": 10,
   "id": "7b259167-44eb-4c17-98bb-8e3359ab86b3",
   "metadata": {},
   "outputs": [
    {
     "name": "stdout",
     "output_type": "stream",
     "text": [
      "3.56 s ± 372 ms per loop (mean ± std. dev. of 7 runs, 1 loop each)\n"
     ]
    }
   ],
   "source": [
    "%%timeit\n",
    "\n",
    "with Pool() as pool:\n",
    "\n",
    "    result = pool.map(split_lines, load_data(\"/tmp/input/\"))\n",
    "    result = concat(result)\n",
    "    result = pool.map(remove_newline, result)\n",
    "    result = pool.map(remove_punctuation, result)\n",
    "    result = pool.map(tolower, result)"
   ]
  },
  {
   "cell_type": "code",
   "execution_count": 11,
   "id": "661b7d7d-9d5b-4f86-bea1-cad0a5a5dd02",
   "metadata": {},
   "outputs": [
    {
     "name": "stdout",
     "output_type": "stream",
     "text": [
      "2.19 s ± 100 ms per loop (mean ± std. dev. of 7 runs, 1 loop each)\n"
     ]
    }
   ],
   "source": [
    "%%timeit\n",
    "\n",
    "with Pool() as pool:\n",
    "\n",
    "    result = pool.map(split_lines, load_data(\"/tmp/input/\"))\n",
    "    result = concat(result)\n",
    "    result = pool.map(compose_pipeline, result)"
   ]
  },
  {
   "cell_type": "markdown",
   "id": "62df2294-0d3f-497d-a47e-a8d46e98c039",
   "metadata": {},
   "source": [
    "Conteo de palabras\n",
    "---"
   ]
  },
  {
   "cell_type": "code",
   "execution_count": 12,
   "id": "ddfbf972-d000-47fc-ad59-6d0a4a561f3b",
   "metadata": {},
   "outputs": [
    {
     "data": {
      "text/plain": [
       "[('analytics', 200000),\n",
       " ('and', 150000),\n",
       " ('the', 120000),\n",
       " ('to', 120000),\n",
       " ('data', 90000),\n",
       " ('of', 80000),\n",
       " ('in', 50000),\n",
       " ('or', 50000),\n",
       " ('business', 40000),\n",
       " ('is', 30000)]"
      ]
     },
     "execution_count": 12,
     "metadata": {},
     "output_type": "execute_result"
    }
   ],
   "source": [
    "from collections import Counter\n",
    "\n",
    "result = map(\n",
    "    tolower,\n",
    "    map(\n",
    "        remove_punctuation,\n",
    "        map(\n",
    "            remove_newline,\n",
    "            concat(\n",
    "                map(\n",
    "                    split_lines,\n",
    "                    load_data(\"/tmp/input/\"),\n",
    "                )\n",
    "            ),\n",
    "        ),\n",
    "    ),\n",
    ")\n",
    "\n",
    "Counter(result).most_common(10)"
   ]
  }
 ],
 "metadata": {
  "kernelspec": {
   "display_name": "Python 3 (ipykernel)",
   "language": "python",
   "name": "python3"
  },
  "language_info": {
   "codemirror_mode": {
    "name": "ipython",
    "version": 3
   },
   "file_extension": ".py",
   "mimetype": "text/x-python",
   "name": "python",
   "nbconvert_exporter": "python",
   "pygments_lexer": "ipython3",
   "version": "3.8.10"
  }
 },
 "nbformat": 4,
 "nbformat_minor": 5
}
