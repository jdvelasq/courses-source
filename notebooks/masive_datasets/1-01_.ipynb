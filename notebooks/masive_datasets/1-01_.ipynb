{
 "cells": [
  {
   "cell_type": "markdown",
   "id": "1f0f59ee-5d6b-4830-8c4a-f91c20c58679",
   "metadata": {
    "tags": []
   },
   "source": [
    "Procesamiento de datos en paralelo con map()\n",
    "===\n",
    "\n",
    "* Última modificación: Mayo 14, 2022"
   ]
  },
  {
   "cell_type": "markdown",
   "id": "d37273e7-dddc-4387-9382-89b040570f84",
   "metadata": {},
   "source": [
    "*Adaptado del libro \"Mastering Large Datasets with Python\".*"
   ]
  },
  {
   "cell_type": "markdown",
   "id": "36b78cc5-f508-4281-aa03-571c69b6b091",
   "metadata": {},
   "source": [
    "Ejemplo de un cálculo con un ciclo for\n",
    "----"
   ]
  },
  {
   "cell_type": "code",
   "execution_count": 1,
   "id": "9209a6b3-6eb5-44d7-a24a-36dff1fdc80c",
   "metadata": {},
   "outputs": [],
   "source": [
    "import re\n",
    "import os"
   ]
  },
  {
   "cell_type": "code",
   "execution_count": 2,
   "id": "fdf991d0-9fee-4a12-b973-c725ef019b35",
   "metadata": {},
   "outputs": [],
   "source": [
    "REPEAT = 1000000\n",
    "\n",
    "phone_numbers = [\n",
    "    \"(123) 456-7890\",\n",
    "    \"1234567890\",\n",
    "    \"123.456.7890\",\n",
    "    \"+1 123 456-7890\",\n",
    "]\n",
    "\n",
    "new_numbers = []\n",
    "\n",
    "regex = re.compile(r\"\\d\")"
   ]
  },
  {
   "cell_type": "code",
   "execution_count": 3,
   "id": "1489d4e2-9ee9-4b39-b4f6-f12f9f49e046",
   "metadata": {},
   "outputs": [
    {
     "name": "stdout",
     "output_type": "stream",
     "text": [
      "7.15 s ± 61.6 ms per loop (mean ± std. dev. of 7 runs, 1 loop each)\n"
     ]
    }
   ],
   "source": [
    "%%timeit\n",
    "\n",
    "for phone_number in phone_numbers * REPEAT:\n",
    "\n",
    "    digits = regex.findall(phone_number)\n",
    "\n",
    "    area_code = \"\".join(digits[-10:-7])\n",
    "    first_3 = \"\".join(digits[-7:-4])\n",
    "    last_4 = \"\".join(digits[-4 : len(digits)])\n",
    "\n",
    "    correct_format = \"({}) {}-{}\".format(\n",
    "        area_code,\n",
    "        first_3,\n",
    "        last_4,\n",
    "    )\n",
    "\n",
    "    new_numbers.append(correct_format)"
   ]
  },
  {
   "cell_type": "markdown",
   "id": "636530c4-9476-4460-b355-c4a21181fb83",
   "metadata": {},
   "source": [
    "Solución con map()\n",
    "--"
   ]
  },
  {
   "cell_type": "code",
   "execution_count": 4,
   "id": "168faaa6-ab9c-48c1-a145-40d420a53c8c",
   "metadata": {},
   "outputs": [],
   "source": [
    "class PhoneFormatter:\n",
    "    def __init__(self):\n",
    "        self.regex = re.compile(r\"\\d\")\n",
    "\n",
    "    def pretty_format(self, phone_number):\n",
    "\n",
    "        digits = self.regex.findall(phone_number)\n",
    "\n",
    "        area_code = \"\".join(digits[-10:-7])\n",
    "        first_3 = \"\".join(digits[-7:-4])\n",
    "        last_4 = \"\".join(digits[-4 : len(digits)])\n",
    "\n",
    "        return \"({}) {}-{}\".format(\n",
    "            area_code,\n",
    "            first_3,\n",
    "            last_4,\n",
    "        )\n",
    "\n",
    "\n",
    "phone_numbers = [\n",
    "    \"(123) 456-7890\",\n",
    "    \"1234567890\",\n",
    "    \"123.456.7890\",\n",
    "    \"+1 123 456-7890\",\n",
    "]\n",
    "\n",
    "formatter = PhoneFormatter()"
   ]
  },
  {
   "cell_type": "code",
   "execution_count": 5,
   "id": "79fafd61-d5e2-4c21-9347-707e92d29956",
   "metadata": {},
   "outputs": [
    {
     "data": {
      "text/plain": [
       "['(123) 456-7890', '(123) 456-7890', '(123) 456-7890', '(123) 456-7890']"
      ]
     },
     "execution_count": 5,
     "metadata": {},
     "output_type": "execute_result"
    }
   ],
   "source": [
    "list(map(formatter.pretty_format, phone_numbers))"
   ]
  },
  {
   "cell_type": "code",
   "execution_count": 6,
   "id": "061ad56a-5881-492a-be37-86927e92b7e4",
   "metadata": {},
   "outputs": [
    {
     "name": "stdout",
     "output_type": "stream",
     "text": [
      "7.92 s ± 175 ms per loop (mean ± std. dev. of 7 runs, 1 loop each)\n"
     ]
    }
   ],
   "source": [
    "%%timeit\n",
    "\n",
    "list(map(formatter.pretty_format, phone_numbers * REPEAT))"
   ]
  },
  {
   "cell_type": "markdown",
   "id": "eabd04db-4813-4003-a508-d7448ca12969",
   "metadata": {},
   "source": [
    "Multiprocessing\n",
    "---"
   ]
  },
  {
   "cell_type": "code",
   "execution_count": 7,
   "id": "19832a0f-b770-434f-9ed6-4a931eca3cb0",
   "metadata": {},
   "outputs": [
    {
     "data": {
      "text/plain": [
       "16"
      ]
     },
     "execution_count": 7,
     "metadata": {},
     "output_type": "execute_result"
    }
   ],
   "source": [
    "#\n",
    "# Número de procesadores\n",
    "#\n",
    "os.cpu_count()"
   ]
  },
  {
   "cell_type": "code",
   "execution_count": 8,
   "id": "60c7e2fb-cd72-41bf-8c20-9143f5403b80",
   "metadata": {},
   "outputs": [],
   "source": [
    "from multiprocessing import Pool"
   ]
  },
  {
   "cell_type": "code",
   "execution_count": 9,
   "id": "b94bd2e9-9981-4ec0-8b2b-7a1c727fddc6",
   "metadata": {},
   "outputs": [
    {
     "name": "stdout",
     "output_type": "stream",
     "text": [
      "8.72 s ± 108 ms per loop (mean ± std. dev. of 7 runs, 1 loop each)\n"
     ]
    }
   ],
   "source": [
    "%%timeit\n",
    "\n",
    "with Pool(processes=1) as p:\n",
    "    p.map(formatter.pretty_format, phone_numbers * REPEAT)"
   ]
  },
  {
   "cell_type": "code",
   "execution_count": 10,
   "id": "fac8fd83-aa81-47c3-9b60-bfda09e7db73",
   "metadata": {},
   "outputs": [
    {
     "name": "stdout",
     "output_type": "stream",
     "text": [
      "4.68 s ± 35.9 ms per loop (mean ± std. dev. of 7 runs, 1 loop each)\n"
     ]
    }
   ],
   "source": [
    "%%timeit\n",
    "\n",
    "with Pool(processes=2) as p:\n",
    "    p.map(formatter.pretty_format, phone_numbers * REPEAT)"
   ]
  },
  {
   "cell_type": "code",
   "execution_count": 11,
   "id": "5785db85-42c2-4f89-988d-a57d4ce3277d",
   "metadata": {},
   "outputs": [
    {
     "name": "stdout",
     "output_type": "stream",
     "text": [
      "3.39 s ± 65.7 ms per loop (mean ± std. dev. of 7 runs, 1 loop each)\n"
     ]
    }
   ],
   "source": [
    "%%timeit\n",
    "\n",
    "with Pool(processes=3) as p:\n",
    "    p.map(formatter.pretty_format, phone_numbers * REPEAT)"
   ]
  },
  {
   "cell_type": "code",
   "execution_count": 12,
   "id": "b3d95936-d7b4-40c1-a03b-7e8da5c192ec",
   "metadata": {},
   "outputs": [
    {
     "name": "stdout",
     "output_type": "stream",
     "text": [
      "2.73 s ± 28.8 ms per loop (mean ± std. dev. of 7 runs, 1 loop each)\n"
     ]
    }
   ],
   "source": [
    "%%timeit\n",
    "\n",
    "with Pool(processes=4) as p:\n",
    "    p.map(formatter.pretty_format, phone_numbers * REPEAT)"
   ]
  },
  {
   "cell_type": "code",
   "execution_count": 13,
   "id": "7a5cd27e-677e-40ee-b58a-5670a2891ec7",
   "metadata": {},
   "outputs": [
    {
     "name": "stdout",
     "output_type": "stream",
     "text": [
      "2.37 s ± 13.9 ms per loop (mean ± std. dev. of 7 runs, 1 loop each)\n"
     ]
    }
   ],
   "source": [
    "%%timeit\n",
    "\n",
    "with Pool(processes=5) as p:\n",
    "    p.map(formatter.pretty_format, phone_numbers * REPEAT)"
   ]
  },
  {
   "cell_type": "code",
   "execution_count": 14,
   "id": "1863e579-d3d5-41a6-8484-757a054a2cd7",
   "metadata": {},
   "outputs": [
    {
     "name": "stdout",
     "output_type": "stream",
     "text": [
      "2.18 s ± 60.2 ms per loop (mean ± std. dev. of 7 runs, 1 loop each)\n"
     ]
    }
   ],
   "source": [
    "%%timeit\n",
    "\n",
    "with Pool(processes=6) as p:\n",
    "    p.map(formatter.pretty_format, phone_numbers * REPEAT)"
   ]
  },
  {
   "cell_type": "code",
   "execution_count": 15,
   "id": "c7815e7c-0329-4d4a-8136-e7aa8e36aaa4",
   "metadata": {},
   "outputs": [
    {
     "name": "stdout",
     "output_type": "stream",
     "text": [
      "2.08 s ± 34.2 ms per loop (mean ± std. dev. of 7 runs, 1 loop each)\n"
     ]
    }
   ],
   "source": [
    "%%timeit\n",
    "\n",
    "with Pool(processes=7) as p:\n",
    "    p.map(formatter.pretty_format, phone_numbers * REPEAT)"
   ]
  },
  {
   "cell_type": "code",
   "execution_count": 16,
   "id": "c6e594dc-7386-4eaf-b7f6-7735138f425a",
   "metadata": {},
   "outputs": [
    {
     "name": "stdout",
     "output_type": "stream",
     "text": [
      "2.24 s ± 353 ms per loop (mean ± std. dev. of 7 runs, 1 loop each)\n"
     ]
    }
   ],
   "source": [
    "%%timeit\n",
    "\n",
    "with Pool(processes=8) as p:\n",
    "    p.map(formatter.pretty_format, phone_numbers * REPEAT)"
   ]
  },
  {
   "cell_type": "code",
   "execution_count": 17,
   "id": "b836bebf-39d6-4b8f-966c-64f8c34a522e",
   "metadata": {},
   "outputs": [
    {
     "name": "stdout",
     "output_type": "stream",
     "text": [
      "2.11 s ± 253 ms per loop (mean ± std. dev. of 7 runs, 1 loop each)\n"
     ]
    }
   ],
   "source": [
    "%%timeit\n",
    "\n",
    "with Pool(processes=9) as p:\n",
    "    p.map(formatter.pretty_format, phone_numbers * REPEAT)"
   ]
  },
  {
   "cell_type": "code",
   "execution_count": 18,
   "id": "0f5a5ca6-146e-4af4-ae74-4716e5d583eb",
   "metadata": {},
   "outputs": [
    {
     "name": "stdout",
     "output_type": "stream",
     "text": [
      "2.05 s ± 38.1 ms per loop (mean ± std. dev. of 7 runs, 1 loop each)\n"
     ]
    }
   ],
   "source": [
    "%%timeit\n",
    "\n",
    "with Pool(processes=10) as p:\n",
    "    p.map(formatter.pretty_format, phone_numbers * REPEAT)"
   ]
  }
 ],
 "metadata": {
  "kernelspec": {
   "display_name": "Python 3 (ipykernel)",
   "language": "python",
   "name": "python3"
  },
  "language_info": {
   "codemirror_mode": {
    "name": "ipython",
    "version": 3
   },
   "file_extension": ".py",
   "mimetype": "text/x-python",
   "name": "python",
   "nbconvert_exporter": "python",
   "pygments_lexer": "ipython3",
   "version": "3.8.10"
  }
 },
 "nbformat": 4,
 "nbformat_minor": 5
}
