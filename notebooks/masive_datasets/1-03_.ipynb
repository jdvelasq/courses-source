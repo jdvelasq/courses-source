{
 "cells": [
  {
   "cell_type": "markdown",
   "id": "ecddf3b1-b4a3-40d1-9505-e706b12cd8fe",
   "metadata": {
    "tags": []
   },
   "source": [
    "Conteo de palabras\n",
    "===\n",
    "\n",
    "* Última modificación: Mayo 14, 2022"
   ]
  },
  {
   "cell_type": "markdown",
   "id": "55f94bcd-41a5-4507-95cd-866af9aac82e",
   "metadata": {},
   "source": [
    "*Adaptado del libro \"Mastering Large Datasets with Python\".*"
   ]
  },
  {
   "cell_type": "markdown",
   "id": "998e4b5c-6863-48d6-922a-fb50f8180988",
   "metadata": {},
   "source": [
    "Archivos de prueba\n",
    "---"
   ]
  },
  {
   "cell_type": "code",
   "execution_count": 1,
   "id": "e9bcf579-fa1d-4950-9600-55740ff28b81",
   "metadata": {},
   "outputs": [],
   "source": [
    "!rm -rf /tmp/input /tmp/output\n",
    "!mkdir /tmp/input"
   ]
  },
  {
   "cell_type": "code",
   "execution_count": 2,
   "id": "5af3601a-da9c-43b6-9cd6-62a3d5fc5919",
   "metadata": {},
   "outputs": [
    {
     "name": "stdout",
     "output_type": "stream",
     "text": [
      "Writing /tmp/input/text0.txt\n"
     ]
    }
   ],
   "source": [
    "%%writefile /tmp/input/text0.txt\n",
    "Analytics is the discovery, interpretation, and communication of meaningful patterns\n",
    "in data. Especially valuable in areas rich with recorded information, analytics relies\n",
    "on the simultaneous application of statistics, computer programming and operations research\n",
    "to quantify performance.\n",
    "\n",
    "Organizations may apply analytics to business data to describe, predict, and improve business\n",
    "performance. Specifically, areas within analytics include predictive analytics, prescriptive\n",
    "analytics, enterprise decision management, descriptive analytics, cognitive analytics, Big\n",
    "Data Analytics, retail analytics, store assortment and stock-keeping unit optimization,\n",
    "marketing optimization and marketing mix modeling, web analytics, call analytics, speech\n",
    "analytics, sales force sizing and optimization, price and promotion modeling, predictive\n",
    "science, credit risk analysis, and fraud analytics. Since analytics can require extensive\n",
    "computation (see big data), the algorithms and software used for analytics harness the most\n",
    "current methods in computer science, statistics, and mathematics.\n",
    "\n",
    "The field of data analysis. Analytics often involves studying past historical data to\n",
    "research potential trends, to analyze the effects of certain decisions or events, or to\n",
    "evaluate the performance of a given tool or scenario. The goal of analytics is to improve\n",
    "the business by gaining knowledge which can be used to make improvements or changes.\n",
    "\n",
    "Data analytics (DA) is the process of examining data sets in order to draw conclusions\n",
    "about the information they contain, increasingly with the aid of specialized systems\n",
    "and software. Data analytics technologies and techniques are widely used in commercial\n",
    "industries to enable organizations to make more-informed business decisions and by\n",
    "scientists and researchers to verify or disprove scientific models, theories and\n",
    "hypotheses."
   ]
  },
  {
   "cell_type": "code",
   "execution_count": 3,
   "id": "47fa46ff-83d6-40bd-86cd-b241b37ecf19",
   "metadata": {},
   "outputs": [],
   "source": [
    "import shutil\n",
    "\n",
    "for i in range(1, 10000):\n",
    "    shutil.copy(\"/tmp/input/text0.txt\", f\"/tmp/input/text{i}.txt\")"
   ]
  },
  {
   "cell_type": "markdown",
   "id": "41ab6912-fd73-459a-ac96-bb729c5f4913",
   "metadata": {},
   "source": [
    "Lectura de los archivos línea por línea\n",
    "---"
   ]
  },
  {
   "cell_type": "code",
   "execution_count": 4,
   "id": "66de6dd0-c337-44ea-8d74-b5529e25c7d1",
   "metadata": {},
   "outputs": [],
   "source": [
    "import fileinput\n",
    "import glob\n",
    "import os\n",
    "\n",
    "\n",
    "def load_data(file_path):\n",
    "    # -----------------------------------------------------------------------------------\n",
    "    def make_iterator_from_single_file(file_path):\n",
    "        with open(file_path, \"rt\") as file:\n",
    "            for line in file:\n",
    "                yield line\n",
    "\n",
    "    # -----------------------------------------------------------------------------------\n",
    "    def make_iterator_from_multiple_files(file_path):\n",
    "        file_path = os.path.join(file_path, \"*\")\n",
    "        files = glob.glob(file_path)\n",
    "        with fileinput.input(files=files) as file:\n",
    "            for line in file:\n",
    "                yield line\n",
    "\n",
    "    # -----------------------------------------------------------------------------------\n",
    "    if os.path.isfile(file_path):\n",
    "        return make_iterator_from_single_file(file_path)\n",
    "    return make_iterator_from_multiple_files(file_path)"
   ]
  },
  {
   "cell_type": "markdown",
   "id": "615a535f-1bb7-44fd-b42f-dedcc10608a1",
   "metadata": {},
   "source": [
    "Funciones para preprocesamiento\n",
    "---"
   ]
  },
  {
   "cell_type": "code",
   "execution_count": 5,
   "id": "1bbc441b-f8f5-476e-ae7c-71a8b5814b5e",
   "metadata": {},
   "outputs": [],
   "source": [
    "import string\n",
    "\n",
    "\n",
    "def tolower(x):\n",
    "    return x.lower()\n",
    "\n",
    "\n",
    "def remove_punctuation(x):\n",
    "    return x.translate(str.maketrans(\"\", \"\", string.punctuation))\n",
    "\n",
    "\n",
    "def remove_newline(x):\n",
    "    return x.replace(\"\\n\", \"\")"
   ]
  },
  {
   "cell_type": "markdown",
   "id": "9e90eb26-d78b-4a5e-bbe9-4ffca64d93bd",
   "metadata": {},
   "source": [
    "Procesamiento de las líneas\n",
    "---"
   ]
  },
  {
   "cell_type": "code",
   "execution_count": 6,
   "id": "ede2a4e6-cd45-459d-9067-f389656eb6e4",
   "metadata": {},
   "outputs": [],
   "source": [
    "result = map(\n",
    "    tolower,\n",
    "    map(\n",
    "        remove_punctuation,\n",
    "        map(\n",
    "            remove_newline,\n",
    "            load_data(\"/tmp/input/\"),\n",
    "        ),\n",
    "    ),\n",
    ")"
   ]
  },
  {
   "cell_type": "markdown",
   "id": "115ba11c-a033-41de-950d-c35b056983de",
   "metadata": {},
   "source": [
    "Filtrado de las líneas\n",
    "---"
   ]
  },
  {
   "cell_type": "code",
   "execution_count": 7,
   "id": "7f193351-e4c2-4141-852c-920670b2cee3",
   "metadata": {},
   "outputs": [],
   "source": [
    "def contains_analytics(x):\n",
    "    return \"analytics\" in x"
   ]
  },
  {
   "cell_type": "code",
   "execution_count": 8,
   "id": "16b395cb-35d9-49f2-bde2-13473290a50f",
   "metadata": {},
   "outputs": [
    {
     "data": {
      "text/plain": [
       "['analytics is the discovery interpretation and communication of meaningful patterns',\n",
       " 'in data especially valuable in areas rich with recorded information analytics relies',\n",
       " 'organizations may apply analytics to business data to describe predict and improve business',\n",
       " 'performance specifically areas within analytics include predictive analytics prescriptive',\n",
       " 'analytics enterprise decision management descriptive analytics cognitive analytics big']"
      ]
     },
     "execution_count": 8,
     "metadata": {},
     "output_type": "execute_result"
    }
   ],
   "source": [
    "result = filter(contains_analytics, result)\n",
    "list(result)[:5]"
   ]
  }
 ],
 "metadata": {
  "kernelspec": {
   "display_name": "Python 3 (ipykernel)",
   "language": "python",
   "name": "python3"
  },
  "language_info": {
   "codemirror_mode": {
    "name": "ipython",
    "version": 3
   },
   "file_extension": ".py",
   "mimetype": "text/x-python",
   "name": "python",
   "nbconvert_exporter": "python",
   "pygments_lexer": "ipython3",
   "version": "3.8.10"
  }
 },
 "nbformat": 4,
 "nbformat_minor": 5
}
