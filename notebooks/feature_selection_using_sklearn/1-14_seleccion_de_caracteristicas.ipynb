{
 "cells": [
  {
   "cell_type": "markdown",
   "id": "72121ff8-9589-4ab4-967e-5fea22b4a047",
   "metadata": {
    "slideshow": {
     "slide_type": "slide"
    },
    "tags": []
   },
   "source": [
    "Selección de características\n",
    "===\n",
    "\n",
    "* 60:00 min | Última modificación: Abril 5, 2021 | [YouTube]"
   ]
  },
  {
   "cell_type": "markdown",
   "id": "2a189f91-9eb5-48c6-b4d4-03e23f592e49",
   "metadata": {
    "tags": []
   },
   "source": [
    "* Idenfiticar las características más importantes\n",
    "\n",
    "* Remover irrelevantes o redundates\n",
    "\n",
    "* Mejora la interpretavilidad y capacidad predictiva del modelo"
   ]
  },
  {
   "cell_type": "markdown",
   "id": "079941b2-1f1d-45b8-b48f-bdb21cbfa40b",
   "metadata": {},
   "source": [
    "## Técnicas\n",
    "\n",
    "* Métodos de filtrado\n",
    "    - Selección de las mejores características.\n",
    "    - Desarrollo del modelo.\n",
    "    - Análisis del desempeño.\n",
    "\n",
    "* Basados en modelos\n",
    "    - Desarrollo del modelo.\n",
    "    - Selección de características basadas en el desempeño del modelo.\n",
    "    - Selección backward, forward, mixtos.\n",
    "\n",
    "* Métodos embebidos\n",
    "    - Selección de un subconjunto de características.\n",
    "    - Desarrollo del modelo.\n",
    "    - Desempeño.\n",
    "    - Retorno al paso 1."
   ]
  },
  {
   "cell_type": "code",
   "execution_count": 2,
   "id": "a83b0c3f-9371-4ce9-9771-50c7f16d830f",
   "metadata": {},
   "outputs": [],
   "source": [
    "from sklearn.datasets import load_iris\n",
    "\n",
    "iris = load_iris()\n",
    "X, y = iris.data, iris.target\n",
    "\n"
   ]
  },
  {
   "cell_type": "markdown",
   "id": "8460817a-6cc6-4c15-b67a-9e4ff1055e5b",
   "metadata": {},
   "source": [
    "## Variance Threshold"
   ]
  },
  {
   "cell_type": "code",
   "execution_count": 4,
   "id": "3241da7c-2a36-456d-99fd-b9ee4e95d2c2",
   "metadata": {},
   "outputs": [
    {
     "data": {
      "text/plain": [
       "array([[5.1, 1.4, 0.2],\n",
       "       [4.9, 1.4, 0.2],\n",
       "       [4.7, 1.3, 0.2],\n",
       "       [4.6, 1.5, 0.2],\n",
       "       [5. , 1.4, 0.2],\n",
       "       [5.4, 1.7, 0.4],\n",
       "       [4.6, 1.4, 0.3],\n",
       "       [5. , 1.5, 0.2],\n",
       "       [4.4, 1.4, 0.2],\n",
       "       [4.9, 1.5, 0.1]])"
      ]
     },
     "execution_count": 4,
     "metadata": {},
     "output_type": "execute_result"
    }
   ],
   "source": [
    "from sklearn.feature_selection import VarianceThreshold\n",
    "\n",
    "sel = VarianceThreshold(threshold=0.3)\n",
    "sel.fit_transform(X)[:10]"
   ]
  },
  {
   "cell_type": "markdown",
   "id": "424fccd7-daa5-475b-8905-319362bcf7d5",
   "metadata": {},
   "source": [
    "## Características correlacionadas"
   ]
  },
  {
   "cell_type": "code",
   "execution_count": 7,
   "id": "0f5d620d-7f50-404b-b688-457eed079248",
   "metadata": {},
   "outputs": [
    {
     "data": {
      "text/plain": [
       "<matplotlib.collections.PathCollection at 0x7f91000ff438>"
      ]
     },
     "execution_count": 7,
     "metadata": {},
     "output_type": "execute_result"
    },
    {
     "data": {
      "image/png": "[encoded data removed]",
      "text/plain": [
       "<Figure size 432x288 with 1 Axes>"
      ]
     },
     "metadata": {
      "needs_background": "light"
     },
     "output_type": "display_data"
    }
   ],
   "source": [
    "import numpy as np\n",
    "from scipy.stats import pearsonr\n",
    "import matplotlib.pyplot as plt\n",
    "\n",
    "\n",
    "np.random.seed(42)\n",
    "x1 = np.random.normal(0, 1, 500)\n",
    "x2 = x1 + np.random.normal(0, 1, 500)\n",
    "x3 = x1 + np.random.normal(0, 10, 500)\n",
    "\n",
    "plt.scatter(x1, x2)\n",
    "plt.scatter(x1, x3)"
   ]
  },
  {
   "cell_type": "code",
   "execution_count": 8,
   "id": "14d2ba35-8a35-4722-8724-7d9d805720bf",
   "metadata": {},
   "outputs": [
    {
     "data": {
      "text/plain": [
       "(0.6811405918134971, 1.9520324398684079e-69)"
      ]
     },
     "metadata": {},
     "output_type": "display_data"
    },
    {
     "data": {
      "text/plain": [
       "(0.03937486620402585, 0.37962586391466446)"
      ]
     },
     "metadata": {},
     "output_type": "display_data"
    }
   ],
   "source": [
    "display(\n",
    "    pearsonr(x1, x2),\n",
    "    pearsonr(x1, x3)\n",
    ")"
   ]
  },
  {
   "cell_type": "code",
   "execution_count": 10,
   "id": "f1aeef6c-3608-4351-8905-43e55b67c9cd",
   "metadata": {},
   "outputs": [
    {
     "data": {
      "text/plain": [
       "(-0.11756978413300206, 0.15189826071144766)"
      ]
     },
     "metadata": {},
     "output_type": "display_data"
    },
    {
     "data": {
      "text/plain": [
       "(0.8717537758865831, 1.0386674194498099e-47)"
      ]
     },
     "metadata": {},
     "output_type": "display_data"
    },
    {
     "data": {
      "text/plain": [
       "(0.8179411262715756, 2.325498079793272e-37)"
      ]
     },
     "metadata": {},
     "output_type": "display_data"
    }
   ],
   "source": [
    "display(\n",
    "    pearsonr(X[:, 0], X[:, 1]),\n",
    "    pearsonr(X[:, 0], X[:, 2]),\n",
    "    pearsonr(X[:, 0], X[:, 3])\n",
    ")"
   ]
  },
  {
   "cell_type": "markdown",
   "id": "c41deab2-0069-42f2-ba27-0fee4925ed6a",
   "metadata": {},
   "source": [
    "## Información mutua"
   ]
  },
  {
   "cell_type": "code",
   "execution_count": 11,
   "id": "c629704b-7605-402b-886c-fedc68a5b766",
   "metadata": {},
   "outputs": [
    {
     "data": {
      "text/plain": [
       "array([0.48451775, 0.20941727, 0.99280814, 0.98327118])"
      ]
     },
     "execution_count": 11,
     "metadata": {},
     "output_type": "execute_result"
    }
   ],
   "source": [
    "from sklearn.feature_selection import mutual_info_classif\n",
    "\n",
    "mutual_info_classif(X, y)"
   ]
  },
  {
   "cell_type": "markdown",
   "id": "2c8cce8d-c880-4eca-961f-8caa31adae6f",
   "metadata": {},
   "source": [
    "## Chi-squared"
   ]
  },
  {
   "cell_type": "code",
   "execution_count": 12,
   "id": "b786431f-e3e5-4221-a30a-6bca0aad7327",
   "metadata": {},
   "outputs": [
    {
     "data": {
      "text/plain": [
       "array([[5.1, 1.4, 0.2],\n",
       "       [4.9, 1.4, 0.2],\n",
       "       [4.7, 1.3, 0.2],\n",
       "       [4.6, 1.5, 0.2],\n",
       "       [5. , 1.4, 0.2],\n",
       "       [5.4, 1.7, 0.4],\n",
       "       [4.6, 1.4, 0.3],\n",
       "       [5. , 1.5, 0.2],\n",
       "       [4.4, 1.4, 0.2],\n",
       "       [4.9, 1.5, 0.1]])"
      ]
     },
     "execution_count": 12,
     "metadata": {},
     "output_type": "execute_result"
    }
   ],
   "source": [
    "from sklearn.feature_selection import SelectKBest, chi2\n",
    "\n",
    "X_new = SelectKBest(chi2, k=3).fit_transform(X, y)\n",
    "X_new[:10]"
   ]
  },
  {
   "cell_type": "code",
   "execution_count": null,
   "id": "42308f75-d8e6-4c34-817e-09857a8d1d3d",
   "metadata": {},
   "outputs": [],
   "source": []
  },
  {
   "cell_type": "code",
   "execution_count": null,
   "id": "11c54198-d207-4ba3-b2e4-f7a4b68ff2a3",
   "metadata": {},
   "outputs": [],
   "source": []
  },
  {
   "cell_type": "code",
   "execution_count": null,
   "id": "b688dd85-2a2a-47ca-831b-1f6b6c99f0d3",
   "metadata": {},
   "outputs": [],
   "source": []
  }
 ],
 "metadata": {
  "kernelspec": {
   "display_name": "Python 3",
   "language": "python",
   "name": "python3"
  },
  "language_info": {
   "codemirror_mode": {
    "name": "ipython",
    "version": 3
   },
   "file_extension": ".py",
   "mimetype": "text/x-python",
   "name": "python",
   "nbconvert_exporter": "python",
   "pygments_lexer": "ipython3",
   "version": "3.6.9"
  }
 },
 "nbformat": 4,
 "nbformat_minor": 5
}
