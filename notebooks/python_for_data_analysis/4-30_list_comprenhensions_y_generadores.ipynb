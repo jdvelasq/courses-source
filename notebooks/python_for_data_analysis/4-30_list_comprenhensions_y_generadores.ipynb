{
 "cells": [
  {
   "cell_type": "markdown",
   "id": "5f9b94b9-74af-4a04-acad-00cbec490810",
   "metadata": {
    "tags": []
   },
   "source": [
    "List Comprenhensions --- 9:41 min\n",
    "===\n",
    "\n",
    "* 9:41 min | Última modificación: Octubre 5, 2021 | [YouTube](https://youtu.be/T5s2lx-FTCs)"
   ]
  },
  {
   "cell_type": "code",
   "execution_count": 1,
   "id": "5a114855-0fd1-43bc-b628-d14e79a84757",
   "metadata": {},
   "outputs": [
    {
     "data": {
      "text/plain": [
       "[0, 1, 4, 9, 16, 25, 36, 49, 64, 81]"
      ]
     },
     "execution_count": 1,
     "metadata": {},
     "output_type": "execute_result"
    }
   ],
   "source": [
    "#\n",
    "# Llenado de una lista con append\n",
    "#\n",
    "squares = []\n",
    "for x in range(10):\n",
    "    squares.append(x ** 2)\n",
    "\n",
    "squares"
   ]
  },
  {
   "cell_type": "code",
   "execution_count": 2,
   "id": "2892c8a5-380f-4d42-ab67-71276bf2a263",
   "metadata": {},
   "outputs": [
    {
     "data": {
      "text/plain": [
       "[0, 1, 4, 9, 16, 25, 36, 49, 64, 81]"
      ]
     },
     "execution_count": 2,
     "metadata": {},
     "output_type": "execute_result"
    }
   ],
   "source": [
    "#\n",
    "# Comprenhension equivalente\n",
    "#\n",
    "squares = [x ** 2 for x in range(10)]\n",
    "squares"
   ]
  },
  {
   "cell_type": "code",
   "execution_count": 3,
   "id": "574d4834-51fa-4742-91ce-b2420a0d5c33",
   "metadata": {},
   "outputs": [
    {
     "data": {
      "text/plain": [
       "[0, 1, 4, 9, 16, 25, 36, 49, 64, 81]"
      ]
     },
     "execution_count": 3,
     "metadata": {},
     "output_type": "execute_result"
    }
   ],
   "source": [
    "#\n",
    "# Código equivalente usando map()\n",
    "#\n",
    "squares = list(map(lambda x: x ** 2, range(10)))\n",
    "squares"
   ]
  },
  {
   "cell_type": "code",
   "execution_count": 4,
   "id": "dc84be02-9361-44e8-a3d4-52509c512198",
   "metadata": {},
   "outputs": [
    {
     "data": {
      "text/plain": [
       "[(1, 3), (1, 4), (2, 3), (2, 1), (2, 4), (3, 1), (3, 4)]"
      ]
     },
     "execution_count": 4,
     "metadata": {},
     "output_type": "execute_result"
    }
   ],
   "source": [
    "#\n",
    "# Creación de pares usando ciclos for anidados\n",
    "#\n",
    "combs = []\n",
    "for x in [1, 2, 3]:\n",
    "    for y in [3, 1, 4]:\n",
    "        if x != y:\n",
    "            combs.append((x, y))\n",
    "\n",
    "combs"
   ]
  },
  {
   "cell_type": "code",
   "execution_count": 5,
   "id": "df0a44f4-7b52-4506-9580-fe2eedd93479",
   "metadata": {},
   "outputs": [
    {
     "data": {
      "text/plain": [
       "[(1, 3), (1, 4), (2, 3), (2, 1), (2, 4), (3, 1), (3, 4)]"
      ]
     },
     "execution_count": 5,
     "metadata": {},
     "output_type": "execute_result"
    }
   ],
   "source": [
    "#\n",
    "# Código equivalente usando un comprenhension\n",
    "#\n",
    "[(x, y) for x in [1, 2, 3] for y in [3, 1, 4] if x != y]"
   ]
  },
  {
   "cell_type": "code",
   "execution_count": 6,
   "id": "cde888ad-3638-4716-8598-0830f2b90990",
   "metadata": {},
   "outputs": [
    {
     "data": {
      "text/plain": [
       "[[0, 1, 2, 3, 4],\n",
       " [0, 1, 2, 3, 4],\n",
       " [0, 1, 2, 3, 4],\n",
       " [0, 1, 2, 3, 4],\n",
       " [0, 1, 2, 3, 4]]"
      ]
     },
     "execution_count": 6,
     "metadata": {},
     "output_type": "execute_result"
    }
   ],
   "source": [
    "#\n",
    "# Creación de una lista de listas\n",
    "#\n",
    "[list(range(5)) for _ in range(5)]"
   ]
  },
  {
   "cell_type": "code",
   "execution_count": 7,
   "id": "b42f11d5-e750-44b0-bc6a-76f94bfa97c5",
   "metadata": {},
   "outputs": [
    {
     "name": "stdout",
     "output_type": "stream",
     "text": [
      "012345678910111213141516171819\n"
     ]
    }
   ],
   "source": [
    "#\n",
    "# iteracción sobre strings -- MAL\n",
    "#\n",
    "nums = \"\"\n",
    "for n in range(20):\n",
    "    nums += str(n)\n",
    "print(nums)"
   ]
  },
  {
   "cell_type": "code",
   "execution_count": 8,
   "id": "a76e017a-29dc-4b98-b05f-3215357c915b",
   "metadata": {},
   "outputs": [
    {
     "name": "stdout",
     "output_type": "stream",
     "text": [
      "012345678910111213141516171819\n"
     ]
    }
   ],
   "source": [
    "#\n",
    "# Iteración sobre strings -- BIEN\n",
    "#\n",
    "nums = []\n",
    "for n in range(20):\n",
    "    nums.append(str(n))\n",
    "print(\"\".join(nums))"
   ]
  },
  {
   "cell_type": "code",
   "execution_count": 9,
   "id": "30c4f94d-e33e-4868-9ad8-ad698e588b88",
   "metadata": {},
   "outputs": [
    {
     "data": {
      "text/plain": [
       "'012345678910111213141516171819'"
      ]
     },
     "execution_count": 9,
     "metadata": {},
     "output_type": "execute_result"
    }
   ],
   "source": [
    "#\n",
    "# iteración sobre strings -- MEJOR\n",
    "#\n",
    "nums = [str(n) for n in range(20)]\n",
    "\"\".join(nums)"
   ]
  },
  {
   "cell_type": "code",
   "execution_count": 10,
   "id": "8a82c1cf-d26b-4f88-b66f-e001beae0240",
   "metadata": {},
   "outputs": [
    {
     "data": {
      "text/plain": [
       "[0, 1, 2, 3, 4]"
      ]
     },
     "execution_count": 10,
     "metadata": {},
     "output_type": "execute_result"
    }
   ],
   "source": [
    "#\n",
    "# Condicionales. if-then\n",
    "#\n",
    "[x for x in range(10) if x < 5]"
   ]
  },
  {
   "cell_type": "code",
   "execution_count": 11,
   "id": "2e707879-1555-45be-b8cf-910a5c0af9f3",
   "metadata": {},
   "outputs": [
    {
     "data": {
      "text/plain": [
       "[0, 1, 2, 3, 4, 0, 0, 0, 0, 0]"
      ]
     },
     "execution_count": 11,
     "metadata": {},
     "output_type": "execute_result"
    }
   ],
   "source": [
    "#\n",
    "# Condicionales. if-else\n",
    "#\n",
    "[x if x < 5 else 0 for x in range(10)]"
   ]
  },
  {
   "cell_type": "code",
   "execution_count": 12,
   "id": "71ba179b-1a8e-4a70-9bc9-ce6072a13e50",
   "metadata": {},
   "outputs": [
    {
     "data": {
      "text/plain": [
       "{'A': 0, 'B': 1, 'C': 2, 'D': 3}"
      ]
     },
     "execution_count": 12,
     "metadata": {},
     "output_type": "execute_result"
    }
   ],
   "source": [
    "#\n",
    "# Dict comprenhension\n",
    "#\n",
    "{letter: i_letter for i_letter, letter in enumerate([\"A\", \"B\", \"C\", \"D\"])}"
   ]
  },
  {
   "cell_type": "code",
   "execution_count": 13,
   "id": "df436063-2ddc-45f6-aa24-21ac062d75f4",
   "metadata": {},
   "outputs": [
    {
     "data": {
      "text/plain": [
       "['1', '10', '11', '12', '13', '14', '15', '16', '17', '18', '19']"
      ]
     },
     "execution_count": 13,
     "metadata": {},
     "output_type": "execute_result"
    }
   ],
   "source": [
    "#\n",
    "# Construcción de un generador usando una comprenhension\n",
    "# =============================================================================\n",
    "# Numeros del 1 al 20 que contienen un '1'\n",
    "#\n",
    "import re\n",
    "\n",
    "[str(x) for x in range(1, 21) if re.search(\"1\", str(x))]"
   ]
  },
  {
   "cell_type": "code",
   "execution_count": 14,
   "id": "c644354e-438a-45df-a268-9700ba21fa52",
   "metadata": {},
   "outputs": [
    {
     "name": "stdout",
     "output_type": "stream",
     "text": [
      "0\n",
      "1\n",
      "4\n",
      "9\n",
      "16\n",
      "25\n",
      "36\n",
      "49\n",
      "64\n",
      "81\n"
     ]
    }
   ],
   "source": [
    "generador = (i ** 2 for i in range(10))\n",
    "for element in generador:\n",
    "    print(element)"
   ]
  },
  {
   "cell_type": "code",
   "execution_count": 15,
   "id": "37b196b3-f116-4cbf-ace2-339717a7f719",
   "metadata": {},
   "outputs": [
    {
     "data": {
      "text/plain": [
       "0"
      ]
     },
     "metadata": {},
     "output_type": "display_data"
    },
    {
     "data": {
      "text/plain": [
       "1"
      ]
     },
     "metadata": {},
     "output_type": "display_data"
    }
   ],
   "source": [
    "generador = (i ** 2 for i in range(10))\n",
    "display(\n",
    "    next(generador),\n",
    "    next(generador),\n",
    ")"
   ]
  },
  {
   "cell_type": "code",
   "execution_count": 16,
   "id": "957f213f-5049-4e93-852d-339d8720d8d8",
   "metadata": {},
   "outputs": [
    {
     "name": "stdout",
     "output_type": "stream",
     "text": [
      "0\n",
      "1\n",
      "2\n",
      "3\n",
      "4\n"
     ]
    }
   ],
   "source": [
    "#\n",
    "# Uso de generadores en funciones\n",
    "# =============================================================================\n",
    "#\n",
    "def num_sequence(n):\n",
    "    counter = 0\n",
    "    while counter < n:\n",
    "        yield counter\n",
    "        counter += 1\n",
    "\n",
    "\n",
    "for value in num_sequence(5):\n",
    "    print(value)"
   ]
  },
  {
   "cell_type": "code",
   "execution_count": 17,
   "id": "0ad39480-aa56-45eb-94f3-aaa4c0eac8b3",
   "metadata": {},
   "outputs": [
    {
     "name": "stdout",
     "output_type": "stream",
     "text": [
      "CountryName,CountryCode,Year,Total Population,Urban population (% of total)\n",
      "Arab World,ARB,1960,92495902.0,31.285384211605397\n",
      "Caribbean small states,CSS,1960,4190810.0,31.5974898513652\n"
     ]
    }
   ],
   "source": [
    "#\n",
    "# Uso de generadores para leer datos\n",
    "# =============================================================================\n",
    "#\n",
    "data_url = \"https://raw.githubusercontent.com/jdvelasq/datalabs/master/datasets/world_bank_development_Indicators.csv\"\n",
    "!wget --quiet {data_url} -P /tmp/\n",
    "\n",
    "\n",
    "def read_large_file(file_object):\n",
    "\n",
    "    while True:\n",
    "\n",
    "        data = file_object.readline()\n",
    "\n",
    "        if not data:\n",
    "            break\n",
    "\n",
    "        yield data\n",
    "\n",
    "\n",
    "with open(\"/tmp/world_bank_development_Indicators.csv\", \"r\") as file:\n",
    "\n",
    "    gen_file = read_large_file(file)\n",
    "\n",
    "    print(next(gen_file), end=\"\")\n",
    "    print(next(gen_file), end=\"\")\n",
    "    print(next(gen_file), end=\"\")"
   ]
  }
 ],
 "metadata": {
  "kernelspec": {
   "display_name": "Python 3",
   "language": "python",
   "name": "python3"
  },
  "language_info": {
   "codemirror_mode": {
    "name": "ipython",
    "version": 3
   },
   "file_extension": ".py",
   "mimetype": "text/x-python",
   "name": "python",
   "nbconvert_exporter": "python",
   "pygments_lexer": "ipython3",
   "version": "3.6.9"
  }
 },
 "nbformat": 4,
 "nbformat_minor": 5
}
