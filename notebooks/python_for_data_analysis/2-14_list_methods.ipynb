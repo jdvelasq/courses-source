{
 "cells": [
  {
   "cell_type": "markdown",
   "id": "d7d615b1-08d8-4f0f-8140-7436c57328c9",
   "metadata": {
    "tags": []
   },
   "source": [
    "Principales métodos de las listas --- 9:07 min\n",
    "===\n",
    "\n",
    "* 9:07 min | Última modificación: Octubre 4, 2021 | [YouTube](https://youtu.be/pOuKrFPK3UI)"
   ]
  },
  {
   "cell_type": "code",
   "execution_count": 1,
   "id": "944e5e81-05b4-4aa1-8545-a8d62a9b1a7a",
   "metadata": {},
   "outputs": [
    {
     "data": {
      "text/plain": [
       "[1, 8, 27, 64, 125, 216, 343]"
      ]
     },
     "execution_count": 1,
     "metadata": {},
     "output_type": "execute_result"
    }
   ],
   "source": [
    "#\n",
    "# Método append\n",
    "# =============================================================================\n",
    "#\n",
    "cubes_list = [1, 8, 27, 64, 125]\n",
    "\n",
    "#\n",
    "# Se agrega el cubo de 6 al final de la lista.\n",
    "#\n",
    "cubes_list.append(216)\n",
    "\n",
    "#\n",
    "# Se agrega el cubo de 7 al final de la lista.\n",
    "#\n",
    "cubes_list.append(7 ** 3)\n",
    "cubes_list"
   ]
  },
  {
   "cell_type": "code",
   "execution_count": 2,
   "id": "d12aa0de-6297-440b-a255-f42de44d5c8e",
   "metadata": {},
   "outputs": [
    {
     "data": {
      "text/plain": [
       "[1, 4, 9, 16, 25, 36, 49, 64, 81, 100]"
      ]
     },
     "execution_count": 2,
     "metadata": {},
     "output_type": "execute_result"
    }
   ],
   "source": [
    "#\n",
    "# Método append usando el operador +\n",
    "#\n",
    "squares_list = [1, 4, 9, 16, 25]\n",
    "\n",
    "#\n",
    "# Concatenacion de listas usando el operador +\n",
    "#\n",
    "squares_list + [36, 49, 64, 81, 100]"
   ]
  },
  {
   "cell_type": "code",
   "execution_count": 3,
   "id": "9ee2d00b-b5b1-4231-87f5-05be33b71211",
   "metadata": {},
   "outputs": [
    {
     "data": {
      "text/plain": [
       "[]"
      ]
     },
     "execution_count": 3,
     "metadata": {},
     "output_type": "execute_result"
    }
   ],
   "source": [
    "#\n",
    "# Método clear\n",
    "# =============================================================================\n",
    "#\n",
    "list_to_clear = [1, 2, 3, 4, 5, 6]\n",
    "list_to_clear.clear()\n",
    "list_to_clear"
   ]
  },
  {
   "cell_type": "code",
   "execution_count": 4,
   "id": "6fb83306-b1cd-4f32-8a89-eca03059ee0c",
   "metadata": {},
   "outputs": [
    {
     "data": {
      "text/plain": [
       "[1, 4, 9, 16, 25]"
      ]
     },
     "execution_count": 4,
     "metadata": {},
     "output_type": "execute_result"
    }
   ],
   "source": [
    "#\n",
    "# Método pop\n",
    "# =============================================================================\n",
    "# Lista antes de pop()\n",
    "squares_list"
   ]
  },
  {
   "cell_type": "code",
   "execution_count": 5,
   "id": "f8bed09c-3f17-4edd-9ff0-36726e77737e",
   "metadata": {},
   "outputs": [
    {
     "data": {
      "text/plain": [
       "25"
      ]
     },
     "execution_count": 5,
     "metadata": {},
     "output_type": "execute_result"
    }
   ],
   "source": [
    "#\n",
    "# Método pop\n",
    "# =============================================================================\n",
    "#\n",
    "squares_list.pop()"
   ]
  },
  {
   "cell_type": "code",
   "execution_count": 6,
   "id": "b8fbda21-8475-434e-83dd-f1694372c56f",
   "metadata": {},
   "outputs": [
    {
     "data": {
      "text/plain": [
       "[1, 4, 9, 16]"
      ]
     },
     "execution_count": 6,
     "metadata": {},
     "output_type": "execute_result"
    }
   ],
   "source": [
    "#\n",
    "# Contenido de squares despues de pop()\n",
    "#\n",
    "squares_list"
   ]
  },
  {
   "cell_type": "code",
   "execution_count": 7,
   "id": "d442095e-81a1-4986-b5d1-1b62a70a5240",
   "metadata": {},
   "outputs": [
    {
     "data": {
      "text/plain": [
       "[4, 9, 16]"
      ]
     },
     "execution_count": 7,
     "metadata": {},
     "output_type": "execute_result"
    }
   ],
   "source": [
    "#\n",
    "# Pop() indicando la posición\n",
    "#\n",
    "squares_list.pop(0)\n",
    "squares_list"
   ]
  },
  {
   "cell_type": "code",
   "execution_count": 8,
   "id": "7e8be96f-4eba-4703-b9a0-6cc81407a571",
   "metadata": {},
   "outputs": [
    {
     "data": {
      "text/plain": [
       "[0, 1, 2, 3, 4, 5, 6, 7, 8, 9]"
      ]
     },
     "execution_count": 8,
     "metadata": {},
     "output_type": "execute_result"
    }
   ],
   "source": [
    "#\n",
    "# Método extend\n",
    "# =============================================================================\n",
    "#\n",
    "list_a = [0, 1, 2, 3, 4, 5]\n",
    "list_b = [6, 7, 8, 9]\n",
    "\n",
    "#\n",
    "# Agrega lista_b al final de lista_a\n",
    "#\n",
    "list_a.extend(list_b)\n",
    "list_a"
   ]
  },
  {
   "cell_type": "code",
   "execution_count": 9,
   "id": "d7badcbf-be16-4bd5-8115-5597f6d20af5",
   "metadata": {},
   "outputs": [
    {
     "data": {
      "text/plain": [
       "[0, 1, 2, 3, 4, 5, 6, 7, 8, 9]"
      ]
     },
     "execution_count": 9,
     "metadata": {},
     "output_type": "execute_result"
    }
   ],
   "source": [
    "#\n",
    "# Método extend\n",
    "#\n",
    "lista_a = [0, 1, 2, 3, 4, 5, 6]\n",
    "lista_b = [7, 8, 9]\n",
    "\n",
    "#\n",
    "# Se agrega lista_b al final de lista_a\n",
    "#\n",
    "lista_a.extend(lista_b)\n",
    "lista_a"
   ]
  },
  {
   "cell_type": "code",
   "execution_count": 10,
   "id": "092c0033-1d02-42d2-a872-3dbf8f895411",
   "metadata": {},
   "outputs": [
    {
     "data": {
      "text/plain": [
       "['a', 0, 1, 2, 3, 4, 5, 6, 7, 8, 9]"
      ]
     },
     "execution_count": 10,
     "metadata": {},
     "output_type": "execute_result"
    }
   ],
   "source": [
    "#\n",
    "# Método insert\n",
    "# =============================================================================\n",
    "#\n",
    "list_a.insert(0, \"a\")\n",
    "list_a"
   ]
  },
  {
   "cell_type": "code",
   "execution_count": 11,
   "id": "93de6fbf-f8db-42d8-b1bc-4bbd108c2b67",
   "metadata": {},
   "outputs": [
    {
     "data": {
      "text/plain": [
       "3"
      ]
     },
     "execution_count": 11,
     "metadata": {},
     "output_type": "execute_result"
    }
   ],
   "source": [
    "#\n",
    "# Método count\n",
    "# =============================================================================\n",
    "#\n",
    "list_c = [\"a\", \"b\", \"b\", \"c\", \"c\", \"c\", \"d\", \"d\", \"d\", \"d\"]\n",
    "\n",
    "#\n",
    "# Cantidad de veces que aparece 'c'.\n",
    "#\n",
    "list_c.count(\"c\")"
   ]
  },
  {
   "cell_type": "code",
   "execution_count": 12,
   "id": "db27d904-15ae-4bad-abca-465fe509fdd0",
   "metadata": {},
   "outputs": [
    {
     "data": {
      "text/plain": [
       "Counter({'a': 1, 'b': 2, 'c': 3, 'd': 4})"
      ]
     },
     "execution_count": 12,
     "metadata": {},
     "output_type": "execute_result"
    }
   ],
   "source": [
    "#\n",
    "# Para contar todos los elementos resulta más\n",
    "# apropiado usar el objecto Counter del\n",
    "# modulo collections\n",
    "#\n",
    "from collections import Counter\n",
    "\n",
    "Counter(list_c)"
   ]
  },
  {
   "cell_type": "code",
   "execution_count": 13,
   "id": "653d8f7e-91e3-4f15-a1d4-66e99a11d144",
   "metadata": {},
   "outputs": [
    {
     "data": {
      "text/plain": [
       "[('d', 4), ('c', 3)]"
      ]
     },
     "execution_count": 13,
     "metadata": {},
     "output_type": "execute_result"
    }
   ],
   "source": [
    "#\n",
    "# Mas común\n",
    "#\n",
    "Counter(list_c).most_common(2)"
   ]
  },
  {
   "cell_type": "code",
   "execution_count": 14,
   "id": "5ca4c887-b5eb-4e37-87d4-ff53504d02fd",
   "metadata": {},
   "outputs": [
    {
     "data": {
      "text/plain": [
       "3"
      ]
     },
     "execution_count": 14,
     "metadata": {},
     "output_type": "execute_result"
    }
   ],
   "source": [
    "#\n",
    "# Método index\n",
    "# =============================================================================\n",
    "#\n",
    "list_c = [\"a\", \"b\", \"b\", \"c\", \"c\", \"c\", \"d\", \"d\", \"d\", \"d\"]\n",
    "list_c.index(\"c\")"
   ]
  },
  {
   "cell_type": "code",
   "execution_count": 15,
   "id": "6976d7c8-22be-4d51-8483-1a94e77a6ddd",
   "metadata": {},
   "outputs": [],
   "source": [
    "#\n",
    "# Elemento que no está en la lista\n",
    "#"
   ]
  },
  {
   "cell_type": "markdown",
   "id": "a7e45f1f-e9b1-47b3-8f85-13427cfa75f2",
   "metadata": {
    "tags": []
   },
   "source": [
    "![element_not_in_list](assets/element_not_in_list.png)"
   ]
  },
  {
   "cell_type": "code",
   "execution_count": 16,
   "id": "01a78fbf-a33d-481b-9308-74cc8ac7839f",
   "metadata": {},
   "outputs": [
    {
     "data": {
      "text/plain": [
       "['a', 'c', 'd', 'e', 'f', 'g']"
      ]
     },
     "execution_count": 16,
     "metadata": {},
     "output_type": "execute_result"
    }
   ],
   "source": [
    "#\n",
    "# Método remove\n",
    "# =============================================================================\n",
    "#\n",
    "letters_list = [\"a\", \"b\", \"c\", \"d\", \"e\", \"f\", \"g\"]\n",
    "letters_list.remove(\"b\")\n",
    "letters_list"
   ]
  },
  {
   "cell_type": "code",
   "execution_count": 17,
   "id": "ed3047ce-ceb9-44f2-9f7b-59dd6e44ed41",
   "metadata": {},
   "outputs": [
    {
     "data": {
      "text/plain": [
       "['g', 'f', 'e', 'd', 'c', 'b', 'a']"
      ]
     },
     "execution_count": 17,
     "metadata": {},
     "output_type": "execute_result"
    }
   ],
   "source": [
    "#\n",
    "# Método reverse\n",
    "# =============================================================================\n",
    "#\n",
    "letters_list = [\"a\", \"b\", \"c\", \"d\", \"e\", \"f\", \"g\"]\n",
    "\n",
    "letters_list.reverse()\n",
    "letters_list"
   ]
  },
  {
   "cell_type": "code",
   "execution_count": 18,
   "id": "8431b3a8-deaf-4dad-8c99-370b8d5f64ff",
   "metadata": {},
   "outputs": [
    {
     "data": {
      "text/plain": [
       "['g', 'f', 'e', 'd', 'c', 'b', 'a']"
      ]
     },
     "execution_count": 18,
     "metadata": {},
     "output_type": "execute_result"
    }
   ],
   "source": [
    "#\n",
    "# Método sort\n",
    "# =============================================================================\n",
    "#\n",
    "letters_list = [\"a\", \"b\", \"c\", \"d\", \"e\", \"f\", \"g\"]\n",
    "letters_list.sort(reverse=True)\n",
    "letters_list"
   ]
  },
  {
   "cell_type": "code",
   "execution_count": 19,
   "id": "86a3fd35-b8ad-4c9c-80cf-8b25bf5ce7a2",
   "metadata": {},
   "outputs": [
    {
     "data": {
      "text/plain": [
       "[(10, 'b'), (8, 'a'), (12, 'd'), (9, 'c')]"
      ]
     },
     "execution_count": 19,
     "metadata": {},
     "output_type": "execute_result"
    }
   ],
   "source": [
    "#\n",
    "# Lista de tuplas\n",
    "#\n",
    "tuples_list = [(10, \"b\"), (8, \"a\"), (12, \"d\"), (9, \"c\")]\n",
    "tuples_list"
   ]
  },
  {
   "cell_type": "code",
   "execution_count": 20,
   "id": "6bd3ac64-6e5c-45dd-8710-717af8883362",
   "metadata": {},
   "outputs": [
    {
     "data": {
      "text/plain": [
       "[(12, 'd'), (10, 'b'), (9, 'c'), (8, 'a')]"
      ]
     },
     "execution_count": 20,
     "metadata": {},
     "output_type": "execute_result"
    }
   ],
   "source": [
    "from operator import itemgetter\n",
    "\n",
    "tuples_list.sort(key=itemgetter(0), reverse=True)\n",
    "tuples_list"
   ]
  },
  {
   "cell_type": "code",
   "execution_count": 21,
   "id": "48ed64b2-8d58-40f6-9fa0-aae0a21b47e0",
   "metadata": {},
   "outputs": [
    {
     "data": {
      "text/plain": [
       "['g', 'f', 'e', 'd', 'c', 'b', 'a']"
      ]
     },
     "execution_count": 21,
     "metadata": {},
     "output_type": "execute_result"
    }
   ],
   "source": [
    "#\n",
    "# Función sorted\n",
    "# =============================================================================\n",
    "#\n",
    "letters_list = [\"a\", \"b\", \"c\", \"d\", \"e\", \"f\", \"g\"]\n",
    "sorted(letters_list, reverse=True)"
   ]
  },
  {
   "cell_type": "code",
   "execution_count": 22,
   "id": "0f672fe6-5ad7-4ef8-b232-79adaee5882a",
   "metadata": {},
   "outputs": [
    {
     "data": {
      "text/plain": [
       "['a', 'b', 'c', 'd', 'e', 'f', 'g']"
      ]
     },
     "execution_count": 22,
     "metadata": {},
     "output_type": "execute_result"
    }
   ],
   "source": [
    "#\n",
    "# La lista original queda intacta\n",
    "#\n",
    "letters_list"
   ]
  },
  {
   "cell_type": "code",
   "execution_count": 23,
   "id": "8e86cde2-3862-461b-875b-b73e71b89ee6",
   "metadata": {},
   "outputs": [
    {
     "data": {
      "text/plain": [
       "[(8, 'a'), (10, 'b'), (9, 'c'), (12, 'd')]"
      ]
     },
     "execution_count": 23,
     "metadata": {},
     "output_type": "execute_result"
    }
   ],
   "source": [
    "#\n",
    "# Ordenamiento de listas complejas con sorted\n",
    "#\n",
    "tuples_list = [(10, \"b\"), (8, \"a\"), (12, \"d\"), (9, \"c\")]\n",
    "sorted(tuples_list, key=itemgetter(1), reverse=False)"
   ]
  }
 ],
 "metadata": {
  "kernelspec": {
   "display_name": "Python 3",
   "language": "python",
   "name": "python3"
  },
  "language_info": {
   "codemirror_mode": {
    "name": "ipython",
    "version": 3
   },
   "file_extension": ".py",
   "mimetype": "text/x-python",
   "name": "python",
   "nbconvert_exporter": "python",
   "pygments_lexer": "ipython3",
   "version": "3.6.9"
  }
 },
 "nbformat": 4,
 "nbformat_minor": 5
}
