{
 "cells": [
  {
   "cell_type": "markdown",
   "id": "5fbe480b-d515-4d66-9751-48f49c07e701",
   "metadata": {
    "tags": []
   },
   "source": [
    "# Detección y manejo de valores faltantes --- revisar de sklearn\n",
    "\n",
    "* *60:00 min* | Última modificación: Agosto 11, 2021 | YouTube"
   ]
  },
  {
   "cell_type": "code",
   "execution_count": 1,
   "id": "2cc4d091-a49c-4e56-b3d7-b374bcc7acc4",
   "metadata": {},
   "outputs": [],
   "source": [
    "import pandas as pd\n",
    "\n",
    "pd.set_option(\"display.notebook_repr_html\", False)"
   ]
  },
  {
   "cell_type": "code",
   "execution_count": null,
   "id": "c9127480-94e1-43dd-9b38-306f5e5c2f33",
   "metadata": {},
   "outputs": [],
   "source": []
  },
  {
   "cell_type": "code",
   "execution_count": null,
   "id": "9dde7473-ef2c-46b8-9057-61b7eb993e57",
   "metadata": {},
   "outputs": [],
   "source": []
  },
  {
   "cell_type": "code",
   "execution_count": null,
   "id": "0170c410-0e35-40cd-9734-b17e132786a2",
   "metadata": {},
   "outputs": [],
   "source": []
  },
  {
   "cell_type": "code",
   "execution_count": null,
   "id": "f3b2726e-83be-4858-bdc6-fc397d79603b",
   "metadata": {},
   "outputs": [],
   "source": []
  },
  {
   "cell_type": "code",
   "execution_count": null,
   "id": "89b485a7-255c-483d-b616-c89147eee889",
   "metadata": {},
   "outputs": [],
   "source": []
  },
  {
   "cell_type": "code",
   "execution_count": null,
   "id": "f3f5a149-3f4c-4856-bc03-1da56a1d7985",
   "metadata": {},
   "outputs": [],
   "source": []
  },
  {
   "cell_type": "code",
   "execution_count": null,
   "id": "3db0131e-ca95-448b-84db-d98974467ac3",
   "metadata": {},
   "outputs": [],
   "source": []
  }
 ],
 "metadata": {
  "kernelspec": {
   "display_name": "Python 3",
   "language": "python",
   "name": "python3"
  },
  "language_info": {
   "codemirror_mode": {
    "name": "ipython",
    "version": 3
   },
   "file_extension": ".py",
   "mimetype": "text/x-python",
   "name": "python",
   "nbconvert_exporter": "python",
   "pygments_lexer": "ipython3",
   "version": "3.6.9"
  }
 },
 "nbformat": 4,
 "nbformat_minor": 5
}
