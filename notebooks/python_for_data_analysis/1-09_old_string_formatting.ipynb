{
 "cells": [
  {
   "cell_type": "markdown",
   "id": "4b45c70b-5e68-4dc7-a035-90161d9fc52a",
   "metadata": {
    "tags": []
   },
   "source": [
    "Old school string formatfing --- 1:29 min\n",
    "===\n",
    "\n",
    "* 1:29 min | Última modificación: Octubre 4, 2021 | [YouTube](https://youtu.be/cy6TkYpHn30)"
   ]
  },
  {
   "cell_type": "code",
   "execution_count": 1,
   "id": "c2bb3542-b460-4573-a7c8-5f2d3c9d8867",
   "metadata": {},
   "outputs": [
    {
     "data": {
      "text/plain": [
       "'Variable entera 123, string hola, floante 4.5600'"
      ]
     },
     "execution_count": 1,
     "metadata": {},
     "output_type": "execute_result"
    }
   ],
   "source": [
    "str_var = \"hola\"\n",
    "int_var = 123\n",
    "float_var = 4.56\n",
    "\n",
    "\"Variable entera %d, string %s, floante %.4f\" % (int_var, str_var, float_var)"
   ]
  }
 ],
 "metadata": {
  "kernelspec": {
   "display_name": "Python 3",
   "language": "python",
   "name": "python3"
  },
  "language_info": {
   "codemirror_mode": {
    "name": "ipython",
    "version": 3
   },
   "file_extension": ".py",
   "mimetype": "text/x-python",
   "name": "python",
   "nbconvert_exporter": "python",
   "pygments_lexer": "ipython3",
   "version": "3.6.9"
  }
 },
 "nbformat": 4,
 "nbformat_minor": 5
}
