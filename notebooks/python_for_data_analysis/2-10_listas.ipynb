{
 "cells": [
  {
   "cell_type": "markdown",
   "id": "d62cbd99-bb71-4c60-a7ab-c848b5c27ad1",
   "metadata": {
    "tags": []
   },
   "source": [
    "Operaciones básicas sobre listas --- 6:55 min\n",
    "===\n",
    "\n",
    "* 6:55 min | Última modificación: Octubre 4, 2021 | [YouTube](https://youtu.be/ycAcu1mpjUQ)"
   ]
  },
  {
   "cell_type": "markdown",
   "id": "36fcab14-94fc-407d-a2cf-c96f910a1111",
   "metadata": {},
   "source": [
    "## Creación y type"
   ]
  },
  {
   "cell_type": "code",
   "execution_count": 1,
   "id": "418dd53d-7573-427a-8d96-e139f4202169",
   "metadata": {},
   "outputs": [],
   "source": [
    "#\n",
    "# Creación de una lista vacia\n",
    "#\n",
    "empty_list = []"
   ]
  },
  {
   "cell_type": "code",
   "execution_count": 2,
   "id": "e8bcf9f0-360b-443e-a6ca-99b01a2271ac",
   "metadata": {},
   "outputs": [
    {
     "data": {
      "text/plain": [
       "list"
      ]
     },
     "execution_count": 2,
     "metadata": {},
     "output_type": "execute_result"
    }
   ],
   "source": [
    "#\n",
    "# Tipo de dato\n",
    "#\n",
    "type(empty_list)"
   ]
  },
  {
   "cell_type": "code",
   "execution_count": 3,
   "id": "c920e918-26dc-4a72-abd7-7bbe75fb7c97",
   "metadata": {},
   "outputs": [
    {
     "data": {
      "text/plain": [
       "[]"
      ]
     },
     "execution_count": 3,
     "metadata": {},
     "output_type": "execute_result"
    }
   ],
   "source": [
    "#\n",
    "# Contenido de la variable\n",
    "#\n",
    "empty_list"
   ]
  },
  {
   "cell_type": "code",
   "execution_count": 4,
   "id": "602d4155-b905-4c31-8fbc-364d308b8ff8",
   "metadata": {},
   "outputs": [
    {
     "data": {
      "text/plain": [
       "0"
      ]
     },
     "execution_count": 4,
     "metadata": {},
     "output_type": "execute_result"
    }
   ],
   "source": [
    "#\n",
    "# Longitud de la lista\n",
    "#\n",
    "len(empty_list)"
   ]
  },
  {
   "cell_type": "code",
   "execution_count": 5,
   "id": "e3fa7881-1420-43a4-9c67-b2db9b023372",
   "metadata": {},
   "outputs": [
    {
     "data": {
      "text/plain": [
       "['a', 'b', 'c', 'd', 'e']"
      ]
     },
     "execution_count": 5,
     "metadata": {},
     "output_type": "execute_result"
    }
   ],
   "source": [
    "#\n",
    "# Listas sobre iterables\n",
    "#\n",
    "list(\"abcde\")"
   ]
  },
  {
   "cell_type": "code",
   "execution_count": 6,
   "id": "75f88ede-b7f9-4cc8-8614-ec7d56927be1",
   "metadata": {},
   "outputs": [
    {
     "data": {
      "text/plain": [
       "[1, 4, 9, 16, 25]"
      ]
     },
     "execution_count": 6,
     "metadata": {},
     "output_type": "execute_result"
    }
   ],
   "source": [
    "#\n",
    "# Las listas se crean delimitando sus elementos entre [ y ]\n",
    "#\n",
    "squares_list = [1, 4, 9, 16, 25]\n",
    "squares_list"
   ]
  },
  {
   "cell_type": "code",
   "execution_count": 7,
   "id": "c8c711dc-dc25-4f03-b0e0-1ffe3660f58b",
   "metadata": {},
   "outputs": [
    {
     "data": {
      "text/plain": [
       "[1, 4, 9, 16, 25]"
      ]
     },
     "execution_count": 7,
     "metadata": {},
     "output_type": "execute_result"
    }
   ],
   "source": [
    "squares_list = list((1, 4, 9, 16, 25))\n",
    "squares_list"
   ]
  },
  {
   "cell_type": "markdown",
   "id": "d553b6a2-b04a-4877-82d9-fe9a049bf65c",
   "metadata": {},
   "source": [
    "## Longitud de una lista"
   ]
  },
  {
   "cell_type": "code",
   "execution_count": 8,
   "id": "d5293a05-47ca-4365-af4c-ef021bbc6507",
   "metadata": {},
   "outputs": [
    {
     "data": {
      "text/plain": [
       "4"
      ]
     },
     "execution_count": 8,
     "metadata": {},
     "output_type": "execute_result"
    }
   ],
   "source": [
    "letters_list = [\"a\", \"b\", \"c\", \"d\"]\n",
    "len(letters_list)"
   ]
  },
  {
   "cell_type": "markdown",
   "id": "0cbcc21b-5c24-4942-8b11-e54d92196086",
   "metadata": {},
   "source": [
    "## Selección de elementos"
   ]
  },
  {
   "cell_type": "code",
   "execution_count": 9,
   "id": "e2b706af-ba72-4e72-9b98-76755a99c782",
   "metadata": {},
   "outputs": [
    {
     "data": {
      "text/plain": [
       "'A'"
      ]
     },
     "execution_count": 9,
     "metadata": {},
     "output_type": "execute_result"
    }
   ],
   "source": [
    "#\n",
    "# Sus elementos se indexan desde cero al igual que en los strings\n",
    "#\n",
    "#  +---+---+---+---+---+---+---+---+---+---+---+---+\n",
    "#  | A | 1 | B | 2 | C | 3 | D | 4 | E | 5 | F | 6 |\n",
    "#  +---+---+---+---+---+---+---+---+---+---+---+---+\n",
    "#    0   1   2   3   4   5   6   7   8   9  10  11\n",
    "#  -12 -11 -10  -9  -8  -7  -6  -5  -4  -3  -2  -1\n",
    "#\n",
    "some_list = [\"A\", 1, \"B\", 2, \"C\", 3, \"D\", 4, \"E\", 5, \"F\", 6]\n",
    "some_list[0]"
   ]
  },
  {
   "cell_type": "code",
   "execution_count": 10,
   "id": "f44aec49-c1db-42ad-8b4f-d5bf235511a4",
   "metadata": {},
   "outputs": [
    {
     "data": {
      "text/plain": [
       "'B'"
      ]
     },
     "execution_count": 10,
     "metadata": {},
     "output_type": "execute_result"
    }
   ],
   "source": [
    "#\n",
    "# Elemento intermedio\n",
    "#\n",
    "#  +---+---+---+---+---+---+---+---+---+---+---+---+\n",
    "#  | A | 1 | B | 2 | C | 3 | D | 4 | E | 5 | F | 6 |\n",
    "#  +---+---+---+---+---+---+---+---+---+---+---+---+\n",
    "#    0   1   2   3   4   5   6   7   8   9  10  11\n",
    "#  -12 -11 -10  -9  -8  -7  -6  -5  -4  -3  -2  -1\n",
    "#\n",
    "some_list[2]"
   ]
  },
  {
   "cell_type": "code",
   "execution_count": 11,
   "id": "263e1891-62e6-4822-9eb4-064287e896ee",
   "metadata": {},
   "outputs": [
    {
     "data": {
      "text/plain": [
       "6"
      ]
     },
     "execution_count": 11,
     "metadata": {},
     "output_type": "execute_result"
    }
   ],
   "source": [
    "#\n",
    "# Último elemento\n",
    "#\n",
    "#\n",
    "#  +---+---+---+---+---+---+---+---+---+---+---+---+\n",
    "#  | A | 1 | B | 2 | C | 3 | D | 4 | E | 5 | F | 6 |\n",
    "#  +---+---+---+---+---+---+---+---+---+---+---+---+\n",
    "#    0   1   2   3   4   5   6   7   8   9  10  11\n",
    "#  -12 -11 -10  -9  -8  -7  -6  -5  -4  -3  -2  -1\n",
    "#\n",
    "some_list[-1]"
   ]
  },
  {
   "cell_type": "code",
   "execution_count": 12,
   "id": "400a0d17-009f-4a47-b851-3d2a6528807a",
   "metadata": {},
   "outputs": [
    {
     "data": {
      "text/plain": [
       "[5, 'F', 6]"
      ]
     },
     "execution_count": 12,
     "metadata": {},
     "output_type": "execute_result"
    }
   ],
   "source": [
    "#\n",
    "# Desde la posición -3 hasta el final\n",
    "#\n",
    "#  +---+---+---+---+---+---+---+---+---+---+---+---+\n",
    "#  | A | 1 | B | 2 | C | 3 | D | 4 | E | 5 | F | 6 |\n",
    "#  +---+---+---+---+---+---+---+---+---+---+---+---+\n",
    "#    0   1   2   3   4   5   6   7   8   9  10  11\n",
    "#  -12 -11 -10  -9  -8  -7  -6  -5  -4  -3  -2  -1\n",
    "#\n",
    "some_list[-3:]"
   ]
  },
  {
   "cell_type": "code",
   "execution_count": 13,
   "id": "414bf409-92bf-400f-a302-0828f3d9167d",
   "metadata": {},
   "outputs": [
    {
     "data": {
      "text/plain": [
       "['B', 2, 'C', 3, 'D', 4, 'E', 5, 'F', 6]"
      ]
     },
     "execution_count": 13,
     "metadata": {},
     "output_type": "execute_result"
    }
   ],
   "source": [
    "#\n",
    "# Desde la posición 3 (0, 1 y 2) hasta el final.\n",
    "#\n",
    "#  +---+---+---+---+---+---+---+---+---+---+---+---+\n",
    "#  | A | 1 | B | 2 | C | 3 | D | 4 | E | 5 | F | 6 |\n",
    "#  +---+---+---+---+---+---+---+---+---+---+---+---+\n",
    "#    0   1   2   3   4   5   6   7   8   9  10  11\n",
    "#  -12 -11 -10  -9  -8  -7  -6  -5  -4  -3  -2  -1\n",
    "#\n",
    "some_list[2:]"
   ]
  },
  {
   "cell_type": "code",
   "execution_count": 14,
   "id": "83366efd-edb3-4c61-95c4-c43f19f4ef40",
   "metadata": {},
   "outputs": [
    {
     "data": {
      "text/plain": [
       "['A', 1, 'B', 2, 'C', 3, 'D', 4, 'E', 5, 'F', 6]"
      ]
     },
     "execution_count": 14,
     "metadata": {},
     "output_type": "execute_result"
    }
   ],
   "source": [
    "#\n",
    "# Desde el primer hasta el último elemento.\n",
    "#\n",
    "some_list[:]"
   ]
  },
  {
   "cell_type": "code",
   "execution_count": 15,
   "id": "820788f4-949f-434b-bc68-15293aae9909",
   "metadata": {},
   "outputs": [
    {
     "data": {
      "text/plain": [
       "['A', 1, 'B', 2, 'C', 3, 'D', 4, 'E', 5, 'F', 6]"
      ]
     },
     "execution_count": 15,
     "metadata": {},
     "output_type": "execute_result"
    }
   ],
   "source": [
    "some_list[0:]"
   ]
  },
  {
   "cell_type": "code",
   "execution_count": 16,
   "id": "caca5a0a-cf81-43a7-af90-4b4863521e7b",
   "metadata": {},
   "outputs": [
    {
     "data": {
      "text/plain": [
       "['A', 1, 'B', 2, 'C', 3, 'D', 4, 'E', 5, 'F']"
      ]
     },
     "execution_count": 16,
     "metadata": {},
     "output_type": "execute_result"
    }
   ],
   "source": [
    "#\n",
    "# Todos los elementos excluyendo el último.\n",
    "#\n",
    "#  +---+---+---+---+---+---+---+---+---+---+---+---+\n",
    "#  | A | 1 | B | 2 | C | 3 | D | 4 | E | 5 | F | 6 |\n",
    "#  +---+---+---+---+---+---+---+---+---+---+---+---+\n",
    "#    0   1   2   3   4   5   6   7   8   9  10  11\n",
    "#  -12 -11 -10  -9  -8  -7  -6  -5  -4  -3  -2  -1\n",
    "#\n",
    "some_list[0:-1]"
   ]
  },
  {
   "cell_type": "code",
   "execution_count": 17,
   "id": "484551c6-02f6-43b8-83e7-e7fcfdcb3e60",
   "metadata": {},
   "outputs": [
    {
     "data": {
      "text/plain": [
       "['A', 'B', 'C', 'D', 'E', 'F']"
      ]
     },
     "execution_count": 17,
     "metadata": {},
     "output_type": "execute_result"
    }
   ],
   "source": [
    "#\n",
    "# Elementos en indices pares\n",
    "#\n",
    "#  +---+---+---+---+---+---+---+---+---+---+---+---+\n",
    "#  | A | 1 | B | 2 | C | 3 | D | 4 | E | 5 | F | 6 |\n",
    "#  +---+---+---+---+---+---+---+---+---+---+---+---+\n",
    "#    0   1   2   3   4   5   6   7   8   9  10  11\n",
    "#  -12 -11 -10  -9  -8  -7  -6  -5  -4  -3  -2  -1\n",
    "#\n",
    "some_list[0::2]"
   ]
  },
  {
   "cell_type": "code",
   "execution_count": 18,
   "id": "2bd7d512-8255-44bf-b95b-ac4842656db1",
   "metadata": {},
   "outputs": [
    {
     "data": {
      "text/plain": [
       "[1, 2, 3, 4, 5, 6]"
      ]
     },
     "execution_count": 18,
     "metadata": {},
     "output_type": "execute_result"
    }
   ],
   "source": [
    "#\n",
    "# Elementos en indices impares\n",
    "#\n",
    "#  +---+---+---+---+---+---+---+---+---+---+---+---+\n",
    "#  | A | 1 | B | 2 | C | 3 | D | 4 | E | 5 | F | 6 |\n",
    "#  +---+---+---+---+---+---+---+---+---+---+---+---+\n",
    "#    0   1   2   3   4   5   6   7   8   9  10  11\n",
    "#  -12 -11 -10  -9  -8  -7  -6  -5  -4  -3  -2  -1\n",
    "#\n",
    "some_list[1::2]"
   ]
  },
  {
   "cell_type": "code",
   "execution_count": 19,
   "id": "1476ab2f-0c83-4e8b-8fd2-e3e5d8d6f8ec",
   "metadata": {},
   "outputs": [
    {
     "data": {
      "text/plain": [
       "['A', 'B']"
      ]
     },
     "execution_count": 19,
     "metadata": {},
     "output_type": "execute_result"
    }
   ],
   "source": [
    "#\n",
    "# Elementos en indices pares\n",
    "#\n",
    "#  +---+---+---+---+---+---+---+---+---+---+---+---+\n",
    "#  | A | 1 | B | 2 | C | 3 | D | 4 | E | 5 | F | 6 |\n",
    "#  +---+---+---+---+---+---+---+---+---+---+---+---+\n",
    "#    0   1   2   3   4   5   6   7   8   9  10  11\n",
    "#  -12 -11 -10  -9  -8  -7  -6  -5  -4  -3  -2  -1\n",
    "#\n",
    "some_list[0:4:2]"
   ]
  },
  {
   "cell_type": "code",
   "execution_count": 20,
   "id": "e28ef1f3-9aea-4167-a1bd-7b6485aae723",
   "metadata": {},
   "outputs": [
    {
     "data": {
      "text/plain": [
       "[1, 2]"
      ]
     },
     "execution_count": 20,
     "metadata": {},
     "output_type": "execute_result"
    }
   ],
   "source": [
    "#\n",
    "# Elementos en indices impares\n",
    "#\n",
    "#  +---+---+---+---+---+---+---+---+---+---+---+---+\n",
    "#  | A | 1 | B | 2 | C | 3 | D | 4 | E | 5 | F | 6 |\n",
    "#  +---+---+---+---+---+---+---+---+---+---+---+---+\n",
    "#    0   1   2   3   4   5   6   7   8   9  10  11\n",
    "#  -12 -11 -10  -9  -8  -7  -6  -5  -4  -3  -2  -1\n",
    "#\n",
    "some_list[1:5:2]"
   ]
  },
  {
   "cell_type": "code",
   "execution_count": 21,
   "id": "9675030c-9293-44e4-b505-c44dcdae5a01",
   "metadata": {},
   "outputs": [
    {
     "data": {
      "text/plain": [
       "[['a', 'b', 'c'], [1, 2, 3]]"
      ]
     },
     "execution_count": 21,
     "metadata": {},
     "output_type": "execute_result"
    }
   ],
   "source": [
    "a = [\"a\", \"b\", \"c\"]\n",
    "n = [1, 2, 3]\n",
    "\n",
    "#\n",
    "# Creación de una lista de listas\n",
    "#\n",
    "compound_list = [a, n]\n",
    "compound_list"
   ]
  },
  {
   "cell_type": "code",
   "execution_count": 22,
   "id": "34d596b2-1f1b-4846-8965-d81779c46e30",
   "metadata": {},
   "outputs": [
    {
     "data": {
      "text/plain": [
       "['a', 'b', 'c']"
      ]
     },
     "execution_count": 22,
     "metadata": {},
     "output_type": "execute_result"
    }
   ],
   "source": [
    "#\n",
    "# Primer elemento.\n",
    "#\n",
    "# [['a', 'b', 'c'], [1, 2, 3]]\n",
    "#\n",
    "compound_list[0]"
   ]
  },
  {
   "cell_type": "code",
   "execution_count": 23,
   "id": "bec6bfa6-5965-48df-bbea-7184a028bd43",
   "metadata": {},
   "outputs": [
    {
     "data": {
      "text/plain": [
       "'b'"
      ]
     },
     "execution_count": 23,
     "metadata": {},
     "output_type": "execute_result"
    }
   ],
   "source": [
    "#\n",
    "# El elemento en la posición 1 de la primera lista\n",
    "#\n",
    "# [['a', 'b', 'c'], [1, 2, 3]]\n",
    "#\n",
    "compound_list[0][1]"
   ]
  },
  {
   "cell_type": "code",
   "execution_count": 24,
   "id": "9e3c3be1-46ad-485c-a371-da1a33b09664",
   "metadata": {},
   "outputs": [
    {
     "data": {
      "text/plain": [
       "[1, 2, 3]"
      ]
     },
     "execution_count": 24,
     "metadata": {},
     "output_type": "execute_result"
    }
   ],
   "source": [
    "#\n",
    "# El segundo elemento de x\n",
    "#\n",
    "# [['a', 'b', 'c'], [1, 2, 3]]\n",
    "#\n",
    "compound_list[1]"
   ]
  },
  {
   "cell_type": "code",
   "execution_count": 25,
   "id": "807ad1a4-ed47-4aba-a40a-52ecc1973caf",
   "metadata": {
    "tags": []
   },
   "outputs": [
    {
     "data": {
      "text/plain": [
       "3"
      ]
     },
     "execution_count": 25,
     "metadata": {},
     "output_type": "execute_result"
    }
   ],
   "source": [
    "#\n",
    "# El elemento en la posición 2 de la segunda lista\n",
    "#\n",
    "# [['a', 'b', 'c'], [1, 2, 3]]\n",
    "#\n",
    "compound_list[1][2]"
   ]
  },
  {
   "cell_type": "code",
   "execution_count": 26,
   "id": "13d2fd98-eacb-42d7-9a86-22848cdef267",
   "metadata": {},
   "outputs": [],
   "source": [
    "#\n",
    "# Indice de la lista por fuera del rango\n",
    "#"
   ]
  },
  {
   "cell_type": "markdown",
   "id": "a1a1f747-3e5f-4463-a31e-b8dff580b42c",
   "metadata": {
    "tags": []
   },
   "source": [
    "![list_index_out_of_range.png](assets/list_index_out_of_range.png)"
   ]
  }
 ],
 "metadata": {
  "kernelspec": {
   "display_name": "Python 3",
   "language": "python",
   "name": "python3"
  },
  "language_info": {
   "codemirror_mode": {
    "name": "ipython",
    "version": 3
   },
   "file_extension": ".py",
   "mimetype": "text/x-python",
   "name": "python",
   "nbconvert_exporter": "python",
   "pygments_lexer": "ipython3",
   "version": "3.6.9"
  }
 },
 "nbformat": 4,
 "nbformat_minor": 5
}
