{
 "cells": [
  {
   "cell_type": "markdown",
   "id": "887662ec-ec07-4210-845e-7f3e15c5f266",
   "metadata": {
    "tags": []
   },
   "source": [
    "Datos de fecha y hora\n",
    "===\n",
    "\n",
    "* *90:00 min* | Última modificación: Agosto 24, 2021 | [YouTube]"
   ]
  },
  {
   "cell_type": "markdown",
   "id": "f9d320c7-99c8-4731-87c6-2b141bece741",
   "metadata": {},
   "source": [
    "## Fecha actual"
   ]
  },
  {
   "cell_type": "code",
   "execution_count": 41,
   "id": "0a3be04a-e02b-49c5-9e40-0d4b21c666ac",
   "metadata": {},
   "outputs": [
    {
     "data": {
      "text/plain": [
       "datetime.date(2018, 9, 19)"
      ]
     },
     "execution_count": 41,
     "metadata": {},
     "output_type": "execute_result"
    }
   ],
   "source": [
    "import time, datetime\n",
    "\n",
    "datetime.date.today()"
   ]
  },
  {
   "cell_type": "code",
   "execution_count": 42,
   "id": "62396cd9-8063-4ac7-aef2-399c5878e4cd",
   "metadata": {},
   "outputs": [
    {
     "data": {
      "text/plain": [
       "'2018-09-19'"
      ]
     },
     "execution_count": 42,
     "metadata": {},
     "output_type": "execute_result"
    }
   ],
   "source": [
    "datetime.date.today().isoformat()"
   ]
  },
  {
   "cell_type": "code",
   "execution_count": 43,
   "id": "f1465093-9d0d-43e3-9fc9-cd8e94459aa7",
   "metadata": {},
   "outputs": [
    {
     "data": {
      "text/plain": [
       "'18/09/19'"
      ]
     },
     "execution_count": 43,
     "metadata": {},
     "output_type": "execute_result"
    }
   ],
   "source": [
    "datetime.date.today().strftime('%y/%m/%d')"
   ]
  },
  {
   "cell_type": "code",
   "execution_count": 44,
   "id": "bb19a65e-f1e2-4c6f-b623-ff195c5ca978",
   "metadata": {},
   "outputs": [
    {
     "data": {
      "text/plain": [
       "datetime.datetime(2018, 9, 19, 8, 37, 18, 359576)"
      ]
     },
     "execution_count": 44,
     "metadata": {},
     "output_type": "execute_result"
    }
   ],
   "source": [
    "datetime.datetime.now()"
   ]
  },
  {
   "cell_type": "code",
   "execution_count": 45,
   "id": "e435dcd8-0a2d-44f5-84a1-d5f3155bfff2",
   "metadata": {},
   "outputs": [
    {
     "data": {
      "text/plain": [
       "'2018-09-19 08:37:18.368081'"
      ]
     },
     "execution_count": 45,
     "metadata": {},
     "output_type": "execute_result"
    }
   ],
   "source": [
    "datetime.datetime.now().isoformat(' ')"
   ]
  },
  {
   "cell_type": "code",
   "execution_count": 1,
   "id": "56c71b70-ce80-4b7e-b844-3873976d7747",
   "metadata": {},
   "outputs": [
    {
     "data": {
      "text/plain": [
       "[['1970-01-01 00:00:00'],\n",
       " ['1987-03-05 12:30:15'],\n",
       " ['1999-12-31 09:00:00'],\n",
       " ['2000-06-04 15:45:30'],\n",
       " ['2000-06-04 15:45:30']]"
      ]
     },
     "execution_count": 1,
     "metadata": {},
     "output_type": "execute_result"
    }
   ],
   "source": [
    "datetime_val = [\n",
    "    ['1970-01-01 00:00:00'],\n",
    "    ['1987-03-05 12:30:15'],\n",
    "    ['1999-12-31 09:00:00'],\n",
    "    ['2000-06-04 15:45:30'],\n",
    "    ['2000-06-04 15:45:30'], \n",
    "]\n",
    "\n",
    "datetime_val"
   ]
  },
  {
   "cell_type": "code",
   "execution_count": 47,
   "id": "4de56b2a-b772-495d-b969-5cdfd4d9629d",
   "metadata": {},
   "outputs": [],
   "source": [
    "#\n",
    "# Se deben redefinir estas funciones de acuerdo con\n",
    "# el formato particular de la fecha y hora en los datos\n",
    "#\n",
    "\n",
    "def YEAR(s):\n",
    "    return datetime.datetime.strptime(s, '%Y-%m-%d %H:%M:%S').strftime('%Y')\n",
    "\n",
    "def MONTH(s):\n",
    "    #\n",
    "    # Numero del mes\n",
    "    #\n",
    "    return datetime.datetime.strptime(s, '%Y-%m-%d %H:%M:%S').month\n",
    "\n",
    "def MONTHNAME(s):    \n",
    "    return datetime.datetime.strptime(s, '%Y-%m-%d %H:%M:%S').strftime('%B')\n",
    "\n",
    "def MONTHNAME_ABBR(s):    \n",
    "    return datetime.datetime.strptime(s, '%Y-%m-%d %H:%M:%S').strftime('%b')\n",
    "\n",
    "def DAYOFMONTH(s):\n",
    "    return datetime.datetime.strptime(s, '%Y-%m-%d %H:%M:%S').strftime('%d')\n",
    "\n",
    "def DAYNAME(s):\n",
    "    return datetime.datetime.strptime(s, '%Y-%m-%d %H:%M:%S').strftime('%A')\n",
    "\n",
    "def DAYNAME_ABBR(s):\n",
    "    return datetime.datetime.strptime(s, '%Y-%m-%d %H:%M:%S').strftime('%a')\n",
    "\n",
    "def WEEKDAY(s):\n",
    "    return datetime.datetime.strptime(s, '%Y-%m-%d %H:%M:%S').strftime('%w')\n",
    "\n",
    "def DAYOFYEAR(s):\n",
    "    return datetime.datetime.strptime(s, '%Y-%m-%d %H:%M:%S').strftime('%J')\n",
    "\n",
    "def WEEKOFYEAR(s):\n",
    "    return datetime.datetime.strptime(s, '%Y-%m-%d %H:%M:%S').strftime('%W')"
   ]
  },
  {
   "cell_type": "code",
   "execution_count": 48,
   "id": "307b1614-1caf-4bcd-8930-2e695ebe3842",
   "metadata": {},
   "outputs": [
    {
     "data": {
      "text/plain": [
       "[['1970-01-01 00:00:00', '1970', 1, 'January', 'Jan'],\n",
       " ['1987-03-05 12:30:15', '1987', 3, 'March', 'Mar'],\n",
       " ['1999-12-31 09:00:00', '1999', 12, 'December', 'Dec'],\n",
       " ['2000-06-04 15:45:30', '2000', 6, 'June', 'Jun'],\n",
       " ['2000-06-04 15:45:30', '2000', 6, 'June', 'Jun']]"
      ]
     },
     "execution_count": 48,
     "metadata": {},
     "output_type": "execute_result"
    }
   ],
   "source": [
    "[\n",
    "    [\n",
    "        row[0],\n",
    "        YEAR(row[0]),\n",
    "        MONTH(row[0]),\n",
    "        MONTHNAME(row[0]),\n",
    "        MONTHNAME_ABBR(row[0]),\n",
    "    ]\n",
    "    for row in datetime_val\n",
    "]"
   ]
  },
  {
   "cell_type": "code",
   "execution_count": 49,
   "id": "d3e160f9-0b7d-4796-bc3a-0523785e789a",
   "metadata": {},
   "outputs": [
    {
     "data": {
      "text/plain": [
       "[['1970-01-01 00:00:00', '01', 'Thursday', 'Thu', '4'],\n",
       " ['1987-03-05 12:30:15', '05', 'Thursday', 'Thu', '4'],\n",
       " ['1999-12-31 09:00:00', '31', 'Friday', 'Fri', '5'],\n",
       " ['2000-06-04 15:45:30', '04', 'Sunday', 'Sun', '0'],\n",
       " ['2000-06-04 15:45:30', '04', 'Sunday', 'Sun', '0']]"
      ]
     },
     "execution_count": 49,
     "metadata": {},
     "output_type": "execute_result"
    }
   ],
   "source": [
    "[\n",
    "    [\n",
    "        row[0],\n",
    "        DAYOFMONTH(row[0]),\n",
    "        DAYNAME(row[0]),\n",
    "        DAYNAME_ABBR(row[0]),\n",
    "        WEEKDAY(row[0]),\n",
    "    ]\n",
    "    for row in datetime_val\n",
    "]"
   ]
  },
  {
   "cell_type": "code",
   "execution_count": 50,
   "id": "1000cbbb-9cf0-4402-ba8b-85c1979d8a8e",
   "metadata": {},
   "outputs": [],
   "source": [
    "#\n",
    "# Se deben redefinir estas funciones de acuerdo con\n",
    "# el formato particular de la fecha y hora en los datos\n",
    "#\n",
    "def HOUR(s):\n",
    "    return datetime.datetime.strptime(s, '%Y-%m-%d %H:%M:%S').strftime('%H')\n",
    "\n",
    "def MINUTE(s):\n",
    "    return datetime.datetime.strptime(s, '%Y-%m-%d %H:%M:%S').strftime('%M')\n",
    "\n",
    "def SECOND(s):\n",
    "    return datetime.datetime.strptime(s, '%Y-%m-%d %H:%M:%S').strftime('%S')"
   ]
  },
  {
   "cell_type": "code",
   "execution_count": 51,
   "id": "7468eaad-0175-418e-a0af-b35d23b0f000",
   "metadata": {},
   "outputs": [
    {
     "data": {
      "text/plain": [
       "[['1970-01-01 00:00:00', '00', '00', '00'],\n",
       " ['1987-03-05 12:30:15', '12', '30', '15'],\n",
       " ['1999-12-31 09:00:00', '09', '00', '00'],\n",
       " ['2000-06-04 15:45:30', '15', '45', '30'],\n",
       " ['2000-06-04 15:45:30', '15', '45', '30']]"
      ]
     },
     "execution_count": 51,
     "metadata": {},
     "output_type": "execute_result"
    }
   ],
   "source": [
    "[\n",
    "    [\n",
    "        row[0],\n",
    "        HOUR(row[0]),\n",
    "        MINUTE(row[0]),\n",
    "        SECOND(row[0]),\n",
    "    ]\n",
    "    for row in datetime_val\n",
    "]"
   ]
  },
  {
   "cell_type": "code",
   "execution_count": 52,
   "id": "a30e76e9-374f-43e4-908c-d327df225d96",
   "metadata": {},
   "outputs": [
    {
     "data": {
      "text/plain": [
       "[['1970-01-01 00:00:00', '01/01/70'],\n",
       " ['1987-03-05 12:30:15', '05/03/87'],\n",
       " ['1999-12-31 09:00:00', '31/12/99'],\n",
       " ['2000-06-04 15:45:30', '04/06/00'],\n",
       " ['2000-06-04 15:45:30', '04/06/00']]"
      ]
     },
     "execution_count": 52,
     "metadata": {},
     "output_type": "execute_result"
    }
   ],
   "source": [
    "[\n",
    "    [\n",
    "        row[0],\n",
    "        datetime.datetime.strptime(row[0], \"%Y-%m-%d %H:%M:%S\").strftime(\"%d/%m/%y\"),\n",
    "    ]\n",
    "    for row in datetime_val\n",
    "]"
   ]
  },
  {
   "cell_type": "markdown",
   "id": "d8a45ed7-adac-4b13-81af-546186f4717a",
   "metadata": {},
   "source": [
    "### Cómputos con fechas"
   ]
  },
  {
   "cell_type": "code",
   "execution_count": 53,
   "id": "f2a5355e-c96e-439e-9020-0b39d76b490d",
   "metadata": {},
   "outputs": [
    {
     "data": {
      "text/plain": [
       "[[datetime.timedelta(17793, 31038, 421259)],\n",
       " [datetime.timedelta(11520, 72423, 421307)],\n",
       " [datetime.timedelta(6836, 85038, 421334)],\n",
       " [datetime.timedelta(6680, 60708, 421357)],\n",
       " [datetime.timedelta(6680, 60708, 421377)]]"
      ]
     },
     "execution_count": 53,
     "metadata": {},
     "output_type": "execute_result"
    }
   ],
   "source": [
    "#\n",
    "# Intervalos\n",
    "#\n",
    "[\n",
    "    [datetime.datetime.now() - datetime.datetime.strptime(row[0], \"%Y-%m-%d %H:%M:%S\")]\n",
    "    for row in datetime_val\n",
    "]"
   ]
  },
  {
   "cell_type": "code",
   "execution_count": 54,
   "id": "c7c9365b-5bc9-41bc-b734-22ca6af4a31c",
   "metadata": {},
   "outputs": [
    {
     "data": {
      "text/plain": [
       "datetime.timedelta(-29)"
      ]
     },
     "execution_count": 54,
     "metadata": {},
     "output_type": "execute_result"
    }
   ],
   "source": [
    "#\n",
    "# Otro ejemplo\n",
    "#\n",
    "x = datetime.datetime.strptime('2018-09-30', '%Y-%m-%d')\n",
    "y = datetime.datetime.strptime('2018-09-01', '%Y-%m-%d')\n",
    "y - x"
   ]
  },
  {
   "cell_type": "code",
   "execution_count": 55,
   "id": "d511c94e-4451-4c27-a8a0-5f30f74fc951",
   "metadata": {},
   "outputs": [
    {
     "data": {
      "text/plain": [
       "datetime.datetime(2018, 9, 6, 0, 0)"
      ]
     },
     "execution_count": 55,
     "metadata": {},
     "output_type": "execute_result"
    }
   ],
   "source": [
    "#\n",
    "# Suma de un incremento\n",
    "#\n",
    "y + datetime.timedelta(days=5)"
   ]
  },
  {
   "cell_type": "code",
   "execution_count": 56,
   "id": "4e00ff3c-72fd-4cbf-a698-e0a496d9cc86",
   "metadata": {},
   "outputs": [
    {
     "data": {
      "text/plain": [
       "[['1970-01-03 12:00:00'],\n",
       " ['1987-03-08 00:30:15'],\n",
       " ['2000-01-02 21:00:00'],\n",
       " ['2000-06-07 03:45:30'],\n",
       " ['2000-06-07 03:45:30']]"
      ]
     },
     "execution_count": 56,
     "metadata": {},
     "output_type": "execute_result"
    }
   ],
   "source": [
    "#\n",
    "# Suma 60 horas a cada fecha\n",
    "#\n",
    "[[(datetime.datetime.strptime(row[0], '%Y-%m-%d %H:%M:%S') +\n",
    "  datetime.timedelta(hours=60)).isoformat(' ')] for row in datetime_val]"
   ]
  },
  {
   "cell_type": "code",
   "execution_count": 57,
   "id": "6e9f0463-0638-4c69-b7e7-086ee4ca03ff",
   "metadata": {},
   "outputs": [
    {
     "data": {
      "text/plain": [
       "[[datetime.timedelta(17793, 31038, 447060)],\n",
       " [datetime.timedelta(11520, 72423, 447093)],\n",
       " [datetime.timedelta(6836, 85038, 447110)],\n",
       " [datetime.timedelta(6680, 60708, 447124)],\n",
       " [datetime.timedelta(6680, 60708, 447137)]]"
      ]
     },
     "execution_count": 57,
     "metadata": {},
     "output_type": "execute_result"
    }
   ],
   "source": [
    "#\n",
    "# Calcula la edad\n",
    "#\n",
    "x = [\n",
    "    [\n",
    "        (\n",
    "            datetime.datetime.now()\n",
    "            - datetime.datetime.strptime(row[0], \"%Y-%m-%d %H:%M:%S\")\n",
    "        )\n",
    "    ]\n",
    "    for row in datetime_val\n",
    "]\n",
    "x"
   ]
  },
  {
   "cell_type": "code",
   "execution_count": 58,
   "id": "65605ce1-f71d-453d-a80b-3be3edadbe56",
   "metadata": {},
   "outputs": [
    {
     "data": {
      "text/plain": [
       "[[48], [31], [18], [18], [18]]"
      ]
     },
     "execution_count": 58,
     "metadata": {},
     "output_type": "execute_result"
    }
   ],
   "source": [
    "[[int(row[0].days / 365)] for row in x]"
   ]
  }
 ],
 "metadata": {
  "kernelspec": {
   "display_name": "Python 3",
   "language": "python",
   "name": "python3"
  },
  "language_info": {
   "codemirror_mode": {
    "name": "ipython",
    "version": 3
   },
   "file_extension": ".py",
   "mimetype": "text/x-python",
   "name": "python",
   "nbconvert_exporter": "python",
   "pygments_lexer": "ipython3",
   "version": "3.6.9"
  }
 },
 "nbformat": 4,
 "nbformat_minor": 5
}
