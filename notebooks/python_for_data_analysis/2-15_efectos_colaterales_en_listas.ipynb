{
 "cells": [
  {
   "cell_type": "markdown",
   "id": "9e9fb73a-4e0a-45bd-a624-0498122feef4",
   "metadata": {
    "tags": []
   },
   "source": [
    "Efectors colaterales en listas y método copy() --- 2:36 min\n",
    "===\n",
    "\n",
    "* 2:36 min | Última modificación: Octubre 4, 2021 | [YouTube](https://youtu.be/54utr5rgIsQ)"
   ]
  },
  {
   "cell_type": "code",
   "execution_count": 1,
   "id": "79eee6ee-f5e0-4bef-b248-16334c118add",
   "metadata": {},
   "outputs": [
    {
     "data": {
      "text/plain": [
       "[0, 1, 2, 3, 4, 5, 6]"
      ]
     },
     "execution_count": 1,
     "metadata": {},
     "output_type": "execute_result"
    }
   ],
   "source": [
    "list_a = [0, 1, 2, 3, 4, 5, 6]\n",
    "list_b = list_a\n",
    "list_b"
   ]
  },
  {
   "cell_type": "code",
   "execution_count": 2,
   "id": "10937700-8553-44b3-9995-0a79a5a64caa",
   "metadata": {},
   "outputs": [
    {
     "data": {
      "text/plain": [
       "6"
      ]
     },
     "execution_count": 2,
     "metadata": {},
     "output_type": "execute_result"
    }
   ],
   "source": [
    "#\n",
    "# Se elimina el último elemento\n",
    "# de list_b\n",
    "#\n",
    "list_b.pop()"
   ]
  },
  {
   "cell_type": "code",
   "execution_count": 3,
   "id": "50befd69-f6be-4ca4-b2ce-cb99e26980ea",
   "metadata": {},
   "outputs": [
    {
     "data": {
      "text/plain": [
       "[0, 1, 2, 3, 4, 5]"
      ]
     },
     "execution_count": 3,
     "metadata": {},
     "output_type": "execute_result"
    }
   ],
   "source": [
    "#\n",
    "# Tambien se elimino de list_a !!!\n",
    "#\n",
    "list_a"
   ]
  },
  {
   "cell_type": "code",
   "execution_count": 4,
   "id": "ab13185b-47dc-47df-8058-0ba15b0ee99d",
   "metadata": {},
   "outputs": [
    {
     "data": {
      "text/plain": [
       "[0, 1, 2, 3, 4, 5]"
      ]
     },
     "execution_count": 4,
     "metadata": {},
     "output_type": "execute_result"
    }
   ],
   "source": [
    "#\n",
    "# Solución usando el operador copy()\n",
    "# Tambien podria usarse:\n",
    "#\n",
    "#  list_b = list_a[:]\n",
    "#  list_b = list(list_a)\n",
    "#\n",
    "list_a = [0, 1, 2, 3, 4, 5, 6]\n",
    "list_b = list_a.copy()\n",
    "list_b.pop()\n",
    "list_b"
   ]
  },
  {
   "cell_type": "code",
   "execution_count": 5,
   "id": "f8a657c1-ba0e-464f-954c-1aa911c961fe",
   "metadata": {
    "tags": []
   },
   "outputs": [
    {
     "data": {
      "text/plain": [
       "[0, 1, 2, 3, 4, 5, 6]"
      ]
     },
     "execution_count": 5,
     "metadata": {},
     "output_type": "execute_result"
    }
   ],
   "source": [
    "list_a"
   ]
  },
  {
   "cell_type": "code",
   "execution_count": 6,
   "id": "fc3749ac-7238-48bf-972d-5e031b3ab386",
   "metadata": {},
   "outputs": [
    {
     "data": {
      "text/plain": [
       "[0, 1, 2, 3, 4, 5]"
      ]
     },
     "execution_count": 6,
     "metadata": {},
     "output_type": "execute_result"
    }
   ],
   "source": [
    "list_a = [0, 1, 2, 3, 4, 5, 6]\n",
    "list_b = list(list_a)\n",
    "list_b.pop()\n",
    "list_b"
   ]
  },
  {
   "cell_type": "code",
   "execution_count": 7,
   "id": "ff2c5161-9942-4fe2-9ef7-44ec8b661ec7",
   "metadata": {},
   "outputs": [
    {
     "data": {
      "text/plain": [
       "[0, 1, 2, 3, 4, 5, 6]"
      ]
     },
     "execution_count": 7,
     "metadata": {},
     "output_type": "execute_result"
    }
   ],
   "source": [
    "list_a"
   ]
  }
 ],
 "metadata": {
  "kernelspec": {
   "display_name": "Python 3",
   "language": "python",
   "name": "python3"
  },
  "language_info": {
   "codemirror_mode": {
    "name": "ipython",
    "version": 3
   },
   "file_extension": ".py",
   "mimetype": "text/x-python",
   "name": "python",
   "nbconvert_exporter": "python",
   "pygments_lexer": "ipython3",
   "version": "3.6.9"
  }
 },
 "nbformat": 4,
 "nbformat_minor": 5
}
