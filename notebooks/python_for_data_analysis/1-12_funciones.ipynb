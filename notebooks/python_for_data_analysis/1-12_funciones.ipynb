{
 "cells": [
  {
   "cell_type": "markdown",
   "id": "d1e21d00-0d0c-41d1-9b54-32b9aa8cfa34",
   "metadata": {},
   "source": [
    "Funciones de Usuario\n",
    "===\n",
    "\n",
    "* *90:00 min* | Última modificación: Agosto 24, 2021 | [YouTube]"
   ]
  },
  {
   "cell_type": "markdown",
   "id": "b5321cd9-d06e-48e0-be60-b3647c7d2b9d",
   "metadata": {},
   "source": [
    "## Operación de las funciones internas"
   ]
  },
  {
   "cell_type": "code",
   "execution_count": 1,
   "id": "3ca53bb0-b3a0-4750-9865-2564248732d0",
   "metadata": {},
   "outputs": [
    {
     "name": "stdout",
     "output_type": "stream",
     "text": [
      "Hola mundo cruel!\n"
     ]
    }
   ],
   "source": [
    "#\n",
    "# La función print() internamente genera\n",
    "# la salida en pantalla de sus argumentos\n",
    "#\n",
    "print(\"Hola mundo cruel!\")"
   ]
  },
  {
   "cell_type": "code",
   "execution_count": 2,
   "id": "51ead632-eef5-4aa9-ad4d-f643e3b0ef6e",
   "metadata": {},
   "outputs": [
    {
     "data": {
      "text/plain": [
       "21"
      ]
     },
     "execution_count": 2,
     "metadata": {},
     "output_type": "execute_result"
    }
   ],
   "source": [
    "#\n",
    "# La función sum() toma una lista y retorna\n",
    "# su suma.\n",
    "sum([1, 2, 3, 4, 5, 6])"
   ]
  },
  {
   "cell_type": "markdown",
   "id": "bc21a077-eeea-40fe-abee-05ea85d2406a",
   "metadata": {
    "tags": []
   },
   "source": [
    "## Creación de funciones de usuario"
   ]
  },
  {
   "cell_type": "code",
   "execution_count": 3,
   "id": "507122da-3355-4bb3-a678-66cd5c53f211",
   "metadata": {},
   "outputs": [],
   "source": [
    "#\n",
    "# Abstracción del concepto f(x) = x ** 2\n",
    "# ===============================================\n",
    "#\n",
    "#   x  -> argumento de la función\n",
    "#   return  -> indica que retorna\n",
    "#\n",
    "def square(x):   \n",
    "    return x**2  "
   ]
  },
  {
   "cell_type": "code",
   "execution_count": 4,
   "id": "d0efd3b0-c902-457f-8686-76cf87ed2b3a",
   "metadata": {},
   "outputs": [
    {
     "data": {
      "text/plain": [
       "4"
      ]
     },
     "execution_count": 4,
     "metadata": {},
     "output_type": "execute_result"
    }
   ],
   "source": [
    "#\n",
    "# Uso de la función usando x como un argumento \n",
    "# posicional.\n",
    "#\n",
    "square(2)"
   ]
  },
  {
   "cell_type": "code",
   "execution_count": 5,
   "id": "18c50b29-7f0f-49a4-bf99-6f2a6236177c",
   "metadata": {},
   "outputs": [
    {
     "data": {
      "text/plain": [
       "4"
      ]
     },
     "execution_count": 5,
     "metadata": {},
     "output_type": "execute_result"
    }
   ],
   "source": [
    "#\n",
    "# Llamada a la función nombrado explicitamente\n",
    "# el argumento\n",
    "#\n",
    "square(x=2)"
   ]
  },
  {
   "cell_type": "code",
   "execution_count": 18,
   "id": "845bcf1d-fc72-40bc-b524-ea69c923f611",
   "metadata": {
    "tags": []
   },
   "outputs": [
    {
     "data": {
      "text/plain": [
       "9"
      ]
     },
     "execution_count": 18,
     "metadata": {},
     "output_type": "execute_result"
    }
   ],
   "source": [
    "square(1+2)"
   ]
  },
  {
   "cell_type": "code",
   "execution_count": 19,
   "id": "94f2a816-87ee-4da0-8db5-9856e99bccce",
   "metadata": {},
   "outputs": [
    {
     "data": {
      "text/plain": [
       "16"
      ]
     },
     "execution_count": 19,
     "metadata": {},
     "output_type": "execute_result"
    }
   ],
   "source": [
    "square(square(2))"
   ]
  },
  {
   "cell_type": "code",
   "execution_count": 20,
   "id": "efafced7-cbeb-4d6d-8281-3c922873d956",
   "metadata": {},
   "outputs": [
    {
     "data": {
      "text/plain": [
       "5"
      ]
     },
     "execution_count": 20,
     "metadata": {},
     "output_type": "execute_result"
    }
   ],
   "source": [
    "square(1) + square(2)"
   ]
  },
  {
   "cell_type": "code",
   "execution_count": 21,
   "id": "e7767d56-9cd8-476a-8914-d6ab81340e0b",
   "metadata": {},
   "outputs": [],
   "source": [
    "# \n",
    "# Las funciones puden ser llamadas dentro de otras\n",
    "#\n",
    "def sum_of_squares(x, y):          \n",
    "    return square(x) + square(y) "
   ]
  },
  {
   "cell_type": "code",
   "execution_count": 22,
   "id": "ebd33e39-6684-4829-b77e-7729dacc27b1",
   "metadata": {},
   "outputs": [
    {
     "data": {
      "text/plain": [
       "5"
      ]
     },
     "execution_count": 22,
     "metadata": {},
     "output_type": "execute_result"
    }
   ],
   "source": [
    "sum_of_squares(1, 2)"
   ]
  },
  {
   "cell_type": "markdown",
   "id": "51e78294-4411-4a92-a724-8a5a1cd844e6",
   "metadata": {},
   "source": [
    "## Errores típicos"
   ]
  },
  {
   "cell_type": "code",
   "execution_count": null,
   "id": "03671794-1bfe-4a6b-b563-ee08e500e385",
   "metadata": {},
   "outputs": [],
   "source": [
    "#\n",
    "# Error causado cuando el argumento no existe\n",
    "# ===============================================\n",
    "#"
   ]
  },
  {
   "cell_type": "markdown",
   "id": "3eff5425-3d80-42bc-9f9b-21644ed50b9e",
   "metadata": {},
   "source": [
    "![function_unexpected_keyword_argument.png](assets/function_unexpected_keyword_argument.png)"
   ]
  },
  {
   "cell_type": "code",
   "execution_count": null,
   "id": "2f29d87f-967b-4bb3-80a0-1c772fd905f2",
   "metadata": {},
   "outputs": [],
   "source": [
    "#\n",
    "# Error causado al usar una variable inexistente\n",
    "# ===============================================\n",
    "#"
   ]
  },
  {
   "cell_type": "markdown",
   "id": "a9c41299-1134-4986-b90e-d7cb0418cdb4",
   "metadata": {},
   "source": [
    "![function_name_is_not_defined.png](assets/function_name_is_not_defined.png)"
   ]
  },
  {
   "cell_type": "code",
   "execution_count": null,
   "id": "b1d15a97-8e79-42e3-bc17-2afdf6c74bd6",
   "metadata": {},
   "outputs": [],
   "source": [
    "#\n",
    "# Error causado al llamar la función con un\n",
    "# número equivocado de argumentos.\n",
    "# ===============================================\n",
    "#"
   ]
  },
  {
   "cell_type": "markdown",
   "id": "bfe730fe-e959-413d-a4fc-fb3f6ed6616a",
   "metadata": {
    "tags": []
   },
   "source": [
    "![error_posicional_arg.png](assets/error_posicional_arg.png)"
   ]
  },
  {
   "cell_type": "markdown",
   "id": "e80d39fb-401f-43d0-bde8-99803f639bac",
   "metadata": {},
   "source": [
    "## Argumentos"
   ]
  },
  {
   "cell_type": "code",
   "execution_count": 12,
   "id": "68efb090-0aef-4d50-921b-8b19465a30b7",
   "metadata": {},
   "outputs": [
    {
     "name": "stdout",
     "output_type": "stream",
     "text": [
      "a: 1\n",
      "b: 2\n",
      "c: 3\n"
     ]
    }
   ],
   "source": [
    "#\n",
    "# Asignación de los valores de las llamadas a\n",
    "# los argumentos de la función.\n",
    "# ===============================================\n",
    "#\n",
    "def my_function(a, b, c):\n",
    "    print(\"a:\", a)\n",
    "    print(\"b:\", b)\n",
    "    print(\"c:\", c)\n",
    "    \n",
    "    \n",
    "my_function(1, 2, 3)"
   ]
  },
  {
   "cell_type": "markdown",
   "id": "fab55849-29e8-4c1b-bce7-5aa841036b01",
   "metadata": {},
   "source": [
    "## Retorno de valores"
   ]
  },
  {
   "cell_type": "code",
   "execution_count": 14,
   "id": "4ac10222-2ab7-4882-8730-9f2bc27fb8fe",
   "metadata": {},
   "outputs": [],
   "source": [
    "#\n",
    "# Asignación del resultado de una función \n",
    "# cuando la función no retorna nada\n",
    "# ===============================================\n",
    "#\n",
    "def function_returning_nothing(x):\n",
    "    pass\n",
    "\n",
    "\n",
    "y = function_returning_nothing(1)\n",
    "y"
   ]
  },
  {
   "cell_type": "code",
   "execution_count": 15,
   "id": "0de5f5d5-1f16-4e84-9e7a-4caf5dec5884",
   "metadata": {},
   "outputs": [
    {
     "data": {
      "text/plain": [
       "NoneType"
      ]
     },
     "execution_count": 15,
     "metadata": {},
     "output_type": "execute_result"
    }
   ],
   "source": [
    "type(y)"
   ]
  },
  {
   "cell_type": "code",
   "execution_count": 16,
   "id": "608c6158-5f89-49f8-b269-9395e7e42f75",
   "metadata": {},
   "outputs": [
    {
     "data": {
      "text/plain": [
       "(1, 2)"
      ]
     },
     "execution_count": 16,
     "metadata": {},
     "output_type": "execute_result"
    }
   ],
   "source": [
    "#\n",
    "# Retorno de valores complejos\n",
    "# ===============================================\n",
    "#\n",
    "def function_returning_a_tuple(x, y):\n",
    "    return x, y\n",
    "\n",
    "\n",
    "function_returning_a_tuple(1, 2)"
   ]
  },
  {
   "cell_type": "code",
   "execution_count": 17,
   "id": "31651e26-3fad-444d-b688-f0b660b2969a",
   "metadata": {},
   "outputs": [
    {
     "data": {
      "text/plain": [
       "True"
      ]
     },
     "execution_count": 17,
     "metadata": {},
     "output_type": "execute_result"
    }
   ],
   "source": [
    "#\n",
    "# Se debe verificar que la función siempre \n",
    "# retorne un valor\n",
    "# ===============================================\n",
    "#\n",
    "def comparing_function(x, y):\n",
    "    if x > y: \n",
    "        return True\n",
    "    \n",
    "    \n",
    "comparing_function(2, 1)"
   ]
  },
  {
   "cell_type": "code",
   "execution_count": 18,
   "id": "5b577c05-ff4d-431d-aad1-e76fec201652",
   "metadata": {},
   "outputs": [],
   "source": [
    "#\n",
    "# Esta llamada no retorna un valor\n",
    "# ===============================================\n",
    "#\n",
    "comparing_function(1, 2)"
   ]
  },
  {
   "cell_type": "code",
   "execution_count": 19,
   "id": "8efa016c-1ed6-4ff1-845c-1f0b57fca5ac",
   "metadata": {},
   "outputs": [
    {
     "data": {
      "text/plain": [
       "NoneType"
      ]
     },
     "execution_count": 19,
     "metadata": {},
     "output_type": "execute_result"
    }
   ],
   "source": [
    "type(comparing_function(1, 2))"
   ]
  },
  {
   "cell_type": "code",
   "execution_count": null,
   "id": "3fa28868-4943-4353-a493-d2249ee454ec",
   "metadata": {},
   "outputs": [],
   "source": [
    "#\n",
    "# Corrección\n",
    "#\n",
    "def comparing_function(x, y):\n",
    "    if x > y: \n",
    "        return True\n",
    "    return False\n",
    "    \n",
    "    \n",
    "comparing_function(1, 2)"
   ]
  },
  {
   "cell_type": "markdown",
   "id": "d36a671b-8877-4495-b1b6-e487a0b551b7",
   "metadata": {},
   "source": [
    "## Ambito"
   ]
  },
  {
   "cell_type": "code",
   "execution_count": 7,
   "id": "46713c81-6561-492e-b664-1236b405961b",
   "metadata": {},
   "outputs": [
    {
     "name": "stdout",
     "output_type": "stream",
     "text": [
      "wick.john\n"
     ]
    }
   ],
   "source": [
    "#\n",
    "# Accesso a variables definidas fuera del ámbito\n",
    "# de la función\n",
    "# ===============================================\n",
    "#\n",
    "username = \"wick.john\"\n",
    "\n",
    "def print_username():\n",
    "    print(username)\n",
    "    \n",
    "    \n",
    "print_username()"
   ]
  },
  {
   "cell_type": "markdown",
   "id": "449dc305-c6fe-4421-abb1-3b93b4de0bd4",
   "metadata": {},
   "source": [
    "Explicación:\n",
    "\n",
    "     \n",
    "     +-- Ambiente del módulo -------------+      +-- Ambiente de la función ------------------+        \n",
    "     | {                                  |      | creado con la llamada a la funcion         |\n",
    "     |     'username': \"wick.john\",       |      | {                                          |\n",
    "     |     'print_username': #function,   | <=== |     'ambiente_padre': ambiente del modulo  |\n",
    "     | }                                  |      | }                                          |\n",
    "     +------------------------------------+      +--------------------------------------------+\n",
    "    \n",
    "    "
   ]
  },
  {
   "cell_type": "code",
   "execution_count": 20,
   "id": "fdd7922f-c91c-4d18-b4b7-2fa0af6c9298",
   "metadata": {},
   "outputs": [
    {
     "name": "stdout",
     "output_type": "stream",
     "text": [
      "inside: 3\n",
      "outside: 5\n"
     ]
    }
   ],
   "source": [
    "#\n",
    "# Ambito de las variables\n",
    "# ===============================================\n",
    "#\n",
    "int_var = 5\n",
    "\n",
    "def my_function(int_var):\n",
    "    int_var = 3\n",
    "    print(\"inside:\", int_var)\n",
    "    \n",
    "my_function(int_var)\n",
    "print(\"outside:\", int_var)"
   ]
  },
  {
   "cell_type": "markdown",
   "id": "1dfb9b62-cc2e-420a-a855-2eefe62923c7",
   "metadata": {},
   "source": [
    "    Codigo                Memoria\n",
    "    -----------------------------------------------------------\n",
    "                          ambiente = {}, funcion = {}\n",
    "    int_var = 5\n",
    "                          ambiente = {'int_var': 5}, funcion = {}\n",
    "    my_function(int_var)\n",
    "                          ambiente = {'int_var': 5}, funcion = {'int_var': 5}\n",
    "        (cuerpo de la funcion)\n",
    "        int_var = 3\n",
    "                          ambiente = {'int_var': 5}, funcion = {'int_var': 3}"
   ]
  },
  {
   "cell_type": "markdown",
   "id": "b3cc8a8e-9662-4a9a-83ba-80c8ff97fc0d",
   "metadata": {},
   "source": [
    "## Side effects"
   ]
  },
  {
   "cell_type": "code",
   "execution_count": 9,
   "id": "d1ce363a-9a24-4fad-82e9-b2317bec1fff",
   "metadata": {},
   "outputs": [
    {
     "data": {
      "text/plain": [
       "3"
      ]
     },
     "execution_count": 9,
     "metadata": {},
     "output_type": "execute_result"
    }
   ],
   "source": [
    "#\n",
    "# Side effects con variables\n",
    "# ===============================================\n",
    "#\n",
    "a = 1\n",
    "b = 2\n",
    "\n",
    "def a_plus_b():\n",
    "    return a + b\n",
    "\n",
    "\n",
    "a_plus_b()"
   ]
  },
  {
   "cell_type": "code",
   "execution_count": 10,
   "id": "fa1d2ca4-c2ca-4d2d-be71-10b5263eb95a",
   "metadata": {},
   "outputs": [
    {
     "data": {
      "text/plain": [
       "5"
      ]
     },
     "execution_count": 10,
     "metadata": {},
     "output_type": "execute_result"
    }
   ],
   "source": [
    "#\n",
    "# Side effect: un cambio inadvertido cambia\n",
    "# cambios no esperados en el resultado de la\n",
    "# función (indeseado!)\n",
    "#\n",
    "a = 3\n",
    "\n",
    "a_plus_b()"
   ]
  },
  {
   "cell_type": "code",
   "execution_count": 21,
   "id": "ebbcee5b-e0cd-4575-ac0d-a576b99c7011",
   "metadata": {},
   "outputs": [
    {
     "name": "stdout",
     "output_type": "stream",
     "text": [
      "[1, 2, 'a']\n"
     ]
    }
   ],
   "source": [
    "#\n",
    "# Side effects con listas\n",
    "# ===============================================\n",
    "#\n",
    "my_list = [1, 2]\n",
    "\n",
    "def my_function(a_list):\n",
    "    a_list.append('a')\n",
    "    \n",
    "    \n",
    "my_function(my_list)\n",
    "#\n",
    "# Efecto indeseado:\n",
    "#\n",
    "print(my_list)"
   ]
  },
  {
   "cell_type": "code",
   "execution_count": 22,
   "id": "4147328b-0ead-44e7-a180-f207f53b6735",
   "metadata": {},
   "outputs": [
    {
     "name": "stdout",
     "output_type": "stream",
     "text": [
      "[1, 2]\n"
     ]
    }
   ],
   "source": [
    "#\n",
    "# Corrección: no se debe modificar la lista\n",
    "# externa\n",
    "# \n",
    "my_list = [1, 2]\n",
    "\n",
    "def my_function(a_list):\n",
    "    a_list = a_list.copy()\n",
    "    a_list.append('a')\n",
    "    \n",
    "\n",
    "my_function(my_list)\n",
    "print(my_list)"
   ]
  },
  {
   "cell_type": "code",
   "execution_count": 24,
   "id": "6055f42b-3d66-424a-90f3-b42acf16b4d2",
   "metadata": {},
   "outputs": [
    {
     "name": "stdout",
     "output_type": "stream",
     "text": [
      "[1, 2]\n",
      "[1, 2, 'a']\n"
     ]
    }
   ],
   "source": [
    "#\n",
    "# Si se desea modificar la lista\n",
    "#\n",
    "my_list = [1, 2]\n",
    "\n",
    "def my_function(a_list):\n",
    "    a_list = a_list.copy()\n",
    "    a_list.append('a')\n",
    "    return a_list\n",
    "    \n",
    "\n",
    "my_new_list = my_function(my_list)\n",
    "print(my_list)\n",
    "print(my_new_list)"
   ]
  },
  {
   "cell_type": "code",
   "execution_count": 11,
   "id": "6752182a-e388-4a56-a029-a12791f118b4",
   "metadata": {},
   "outputs": [
    {
     "name": "stdout",
     "output_type": "stream",
     "text": [
      "[1]\n",
      "[1, 2]\n",
      "[1, 2, 3]\n"
     ]
    }
   ],
   "source": [
    "#\n",
    "# Side effects con listas\n",
    "# ===============================================\n",
    "# La variable L no debería acumular la lista ya \n",
    "# que el valor por defecto de L es []\n",
    "# \n",
    "def f(a, L=[]):\n",
    "    L.append(a)\n",
    "    return L\n",
    "\n",
    "\n",
    "print(f(1))\n",
    "print(f(2))\n",
    "print(f(3))"
   ]
  },
  {
   "cell_type": "code",
   "execution_count": null,
   "id": "ff783084-fbdd-4ba3-b7af-eaad0991a8b7",
   "metadata": {},
   "outputs": [],
   "source": [
    "#\n",
    "# Corrección del side effect usando None\n",
    "#\n",
    "def f(a, L=None):\n",
    "    if L is None:\n",
    "        L = []\n",
    "    L.append(a)\n",
    "    return L\n",
    "\n",
    "print(f(1))\n",
    "print(f(2))\n",
    "print(f(3))"
   ]
  },
  {
   "cell_type": "code",
   "execution_count": 23,
   "id": "a0a2be52-7f40-4261-b5fb-7186c6eed0b9",
   "metadata": {},
   "outputs": [
    {
     "name": "stdout",
     "output_type": "stream",
     "text": [
      "{0: 'A', 1: 'b'}\n"
     ]
    }
   ],
   "source": [
    "#\n",
    "# Side effects con diccionarios\n",
    "# ===============================================\n",
    "#\n",
    "my_dict = {\n",
    "    0: 'a',\n",
    "    1: 'b',\n",
    "}\n",
    "\n",
    "def my_function(a_dict):\n",
    "    a_dict[0] = 'A'\n",
    "    \n",
    "    \n",
    "my_function(my_dict)\n",
    "#\n",
    "# Efecto indeseado:\n",
    "#\n",
    "print(my_dict)"
   ]
  },
  {
   "cell_type": "code",
   "execution_count": null,
   "id": "80664d05-bc86-4b5e-be56-029c9041c85e",
   "metadata": {},
   "outputs": [],
   "source": [
    "my_dict = {\n",
    "    0: 'a',\n",
    "    1: 'b',\n",
    "}\n",
    "\n",
    "def my_function(a_dict):\n",
    "    a_dict = a_dict.copy()\n",
    "    a_dict[0] = 'A'\n",
    "    \n",
    "    \n",
    "my_function(my_dict)\n",
    "print(my_dict)"
   ]
  },
  {
   "cell_type": "markdown",
   "id": "0fd229ca-7b0e-40cc-806a-9e90f5e52ede",
   "metadata": {
    "tags": []
   },
   "source": [
    "## Argumentos posiciones, valores por defecto y número variable de argumentos"
   ]
  },
  {
   "cell_type": "code",
   "execution_count": 33,
   "id": "daf2d64b-823c-4ccf-b780-11d313bc2e2e",
   "metadata": {},
   "outputs": [
    {
     "name": "stdout",
     "output_type": "stream",
     "text": [
      " first_arg: 1\n",
      "second_arg: 2\n",
      "      args: ()\n",
      "    kwargs: {}\n"
     ]
    }
   ],
   "source": [
    "#\n",
    "# Tipos de argumentos\n",
    "#\n",
    "def my_function(first_arg, second_arg=2, *args, **kwargs):\n",
    "    print(' first_arg:', first_arg)\n",
    "    print('second_arg:', second_arg)\n",
    "    print('      args:', args)\n",
    "    print('    kwargs:', kwargs)\n",
    "    \n",
    "    \n",
    "\n",
    "#\n",
    "# Llamada con argumentos posicionales\n",
    "#\n",
    "my_function(1, 2)"
   ]
  },
  {
   "cell_type": "code",
   "execution_count": 34,
   "id": "9be99124-9c14-4fcc-ab26-09ac72e6c521",
   "metadata": {},
   "outputs": [
    {
     "name": "stdout",
     "output_type": "stream",
     "text": [
      " first_arg: 1\n",
      "second_arg: 2\n",
      "      args: ()\n",
      "    kwargs: {}\n"
     ]
    }
   ],
   "source": [
    "#\n",
    "# Llamada con argumentos por nombre\n",
    "#\n",
    "my_function(second_arg=2, first_arg=1)"
   ]
  },
  {
   "cell_type": "code",
   "execution_count": 35,
   "id": "dc781ab3-0571-443d-833e-756dc96d3528",
   "metadata": {},
   "outputs": [
    {
     "name": "stdout",
     "output_type": "stream",
     "text": [
      " first_arg: 1\n",
      "second_arg: 2\n",
      "      args: (3, 4)\n",
      "    kwargs: {}\n"
     ]
    }
   ],
   "source": [
    "#\n",
    "# Llamada con argumentos extra sin nombre\n",
    "# \n",
    "my_function(1, 2, 3, 4)"
   ]
  },
  {
   "cell_type": "code",
   "execution_count": 29,
   "id": "e8b771db-eab5-407b-aee0-a40ea30dd016",
   "metadata": {},
   "outputs": [
    {
     "name": "stdout",
     "output_type": "stream",
     "text": [
      "first_arg: 1\n",
      "second_arg: 2\n",
      "args: ()\n",
      "kwargs {'third_arg': 3}\n"
     ]
    }
   ],
   "source": [
    "#\n",
    "# Llamada con argumentos extra con nombre\n",
    "# \n",
    "my_function(first_arg=1, second_arg=2, third_arg=3)"
   ]
  },
  {
   "cell_type": "code",
   "execution_count": 36,
   "id": "d7e54950-f09d-4cc8-8b3e-e5604e359995",
   "metadata": {
    "tags": []
   },
   "outputs": [
    {
     "name": "stdout",
     "output_type": "stream",
     "text": [
      " first_arg: 1\n",
      "second_arg: 2\n",
      "      args: (3, 4)\n",
      "    kwargs: {'a': 5, 'b': 6, 'c': 7}\n"
     ]
    }
   ],
   "source": [
    "#\n",
    "# Combinacion de los casos anteriores\n",
    "#\n",
    "my_function(1, 2, 3, 4, a=5, b=6, c=7)"
   ]
  },
  {
   "cell_type": "markdown",
   "id": "402acfa6-8a99-46ea-804d-7175755723ba",
   "metadata": {},
   "source": [
    "## Llamada de funciones con argumentos especificados en un diccionario"
   ]
  },
  {
   "cell_type": "code",
   "execution_count": 31,
   "id": "55b2b202-b933-4b38-80c7-cb9695666793",
   "metadata": {},
   "outputs": [
    {
     "data": {
      "text/plain": [
       "6"
      ]
     },
     "execution_count": 31,
     "metadata": {},
     "output_type": "execute_result"
    }
   ],
   "source": [
    "def my_function(a, b, c):\n",
    "    return a + b + c\n",
    "\n",
    "\n",
    "args = {\n",
    "    'a': 1,\n",
    "    'b': 2,\n",
    "    'c': 3,\n",
    "}\n",
    "\n",
    "my_function(**args)"
   ]
  },
  {
   "cell_type": "markdown",
   "id": "041e1e52-be68-470e-bbd9-b7dcf8dc9c05",
   "metadata": {},
   "source": [
    "## Documentación de funciones"
   ]
  },
  {
   "cell_type": "code",
   "execution_count": 2,
   "id": "1dbe6894-5607-4609-b135-14bc9235f52c",
   "metadata": {},
   "outputs": [
    {
     "data": {
      "text/plain": [
       "'No hace nada'"
      ]
     },
     "execution_count": 2,
     "metadata": {},
     "output_type": "execute_result"
    }
   ],
   "source": [
    "#\n",
    "# Define una función sin cuerpo pero documentada\n",
    "#\n",
    "def my_function():\n",
    "    \"\"\"No hace nada\"\"\"\n",
    "    \n",
    "my_function.__doc__"
   ]
  },
  {
   "cell_type": "code",
   "execution_count": 3,
   "id": "c6a332cf-5e31-4d3d-80d6-9c23297f348e",
   "metadata": {},
   "outputs": [
    {
     "name": "stdout",
     "output_type": "stream",
     "text": [
      "Help on function my_function in module __main__:\n",
      "\n",
      "my_function()\n",
      "    No hace nada\n",
      "\n"
     ]
    }
   ],
   "source": [
    "help(my_function)"
   ]
  },
  {
   "cell_type": "markdown",
   "id": "b16ad4d1-ded9-447f-be01-bd63fd3a14c1",
   "metadata": {},
   "source": [
    "## Efectos colaterales en funciones"
   ]
  },
  {
   "cell_type": "code",
   "execution_count": null,
   "id": "0acadfd7-974e-4807-8f56-91e8aba79ca0",
   "metadata": {},
   "outputs": [],
   "source": []
  },
  {
   "cell_type": "code",
   "execution_count": null,
   "id": "537a8738-5c28-4aff-8f43-469bd369534d",
   "metadata": {},
   "outputs": [],
   "source": [
    "def f(*args): # simplemente imprime los argumentos con que se invoca\n",
    "    print(args)\n",
    "    \n",
    "f(1, 2, 3)"
   ]
  },
  {
   "cell_type": "code",
   "execution_count": null,
   "id": "8bffc3ab-6b72-45fb-bc43-11f30cb7bdab",
   "metadata": {},
   "outputs": [],
   "source": [
    "def f(a, *b, c = 'hola'): \n",
    "    print(a)\n",
    "    print(b)\n",
    "    print(c)\n",
    "    \n",
    "f(1, 2, 3, 4, 5) # el 5 no se asigna a la variable c"
   ]
  },
  {
   "cell_type": "markdown",
   "id": "d99523c2-714a-4b91-b7b1-7511ebd7c772",
   "metadata": {},
   "source": [
    "Note que a diferencia del caso anterior, en el cual se hacia la llamada `f(1, 2, 3, 4, 5) `, en el siguiente ejemplo se hace explicita la asignación a la variable `c`."
   ]
  },
  {
   "cell_type": "code",
   "execution_count": 30,
   "id": "003181ad-5d4a-4ede-a1c7-4aa6745db8f0",
   "metadata": {},
   "outputs": [
    {
     "name": "stdout",
     "output_type": "stream",
     "text": [
      "1\n",
      "(2, 3, 4)\n",
      "5\n"
     ]
    }
   ],
   "source": [
    "f(1, 2, 3, 4, c=5) # se debe indicar explicitamente que `c = 5`."
   ]
  },
  {
   "cell_type": "markdown",
   "id": "ad07315a-16d1-498d-95f7-4b87fa772134",
   "metadata": {},
   "source": [
    "Python permite la definición de funciones anónimas (que no tienen nombre) usando la palabra reservada `lambda`. En el siguiente ejemplo, se define la función `incr` la cual incrementa en la unidad su argumento."
   ]
  },
  {
   "cell_type": "code",
   "execution_count": 31,
   "id": "5cfb3362-444c-4857-a42e-d9793e59d891",
   "metadata": {},
   "outputs": [
    {
     "data": {
      "text/plain": [
       "2"
      ]
     },
     "execution_count": 31,
     "metadata": {},
     "output_type": "execute_result"
    }
   ],
   "source": [
    "def incr(x):\n",
    "    return(x + 1)\n",
    "\n",
    "incr(1)"
   ]
  },
  {
   "cell_type": "markdown",
   "id": "960c251a-b072-464a-b792-7c54b7019aad",
   "metadata": {},
   "source": [
    "Esto es equivalente a asignar una función anónima a una variable:"
   ]
  },
  {
   "cell_type": "code",
   "execution_count": 32,
   "id": "18fbac44-b569-4963-8efe-0a880c35f0e6",
   "metadata": {},
   "outputs": [
    {
     "data": {
      "text/plain": [
       "2"
      ]
     },
     "execution_count": 32,
     "metadata": {},
     "output_type": "execute_result"
    }
   ],
   "source": [
    "incr0 = lambda x:x + 1\n",
    "\n",
    "incr0(1)"
   ]
  },
  {
   "cell_type": "markdown",
   "id": "db65a6e8-600d-4d89-95aa-404f15239f85",
   "metadata": {},
   "source": [
    "En el código anterior, el código `lambda x:` indica que hay una función anónima con un solo argumento llamado `x`. El código `x + 1` es lo que retorna la función. "
   ]
  },
  {
   "cell_type": "markdown",
   "id": "ddb7fdca-951a-44d8-aa7e-2a8fb8db0241",
   "metadata": {},
   "source": [
    "No es necesario realizar la asignación de la función anónima a una variable; la función anónima puede ser usada directamente, tal como se ilustra en el siguiente ejemplo. "
   ]
  },
  {
   "cell_type": "code",
   "execution_count": 33,
   "id": "17ab457f-1f47-4a6d-b5e3-ff333cb1fef7",
   "metadata": {},
   "outputs": [
    {
     "data": {
      "text/plain": [
       "3"
      ]
     },
     "execution_count": 33,
     "metadata": {},
     "output_type": "execute_result"
    }
   ],
   "source": [
    "(lambda x:x + 1)(2)"
   ]
  },
  {
   "cell_type": "markdown",
   "id": "f7f645ae-e2e7-47d3-94f8-84af37e8c47d",
   "metadata": {},
   "source": [
    "Las funciones pueden retornar funciones, tal como es el caso presentado a continuación donde `return` devuelve una función anónima. Note que el valor de `n` persiste, tal que la función `f` suma `42` a su argumento y `g` suma `1` a su argumento.  "
   ]
  },
  {
   "cell_type": "code",
   "execution_count": 34,
   "id": "ab06d835-8f3c-476b-925b-bb835ed3b95c",
   "metadata": {},
   "outputs": [
    {
     "data": {
      "text/plain": [
       "42"
      ]
     },
     "execution_count": 34,
     "metadata": {},
     "output_type": "execute_result"
    }
   ],
   "source": [
    "def make_incrementor(n):\n",
    "    return lambda x: x + n\n",
    "\n",
    "f = make_incrementor(42)\n",
    "f(0)"
   ]
  },
  {
   "cell_type": "code",
   "execution_count": 35,
   "id": "270979d6-4ebd-475c-b6a7-dcaa731efd76",
   "metadata": {},
   "outputs": [
    {
     "data": {
      "text/plain": [
       "43"
      ]
     },
     "execution_count": 35,
     "metadata": {},
     "output_type": "execute_result"
    }
   ],
   "source": [
    "f(1)"
   ]
  },
  {
   "cell_type": "code",
   "execution_count": 36,
   "id": "5dbc8d36-43bc-49c2-8578-06e4944d3878",
   "metadata": {},
   "outputs": [
    {
     "data": {
      "text/plain": [
       "2"
      ]
     },
     "execution_count": 36,
     "metadata": {},
     "output_type": "execute_result"
    }
   ],
   "source": [
    "g = make_incrementor(1)\n",
    "g(1)"
   ]
  },
  {
   "cell_type": "code",
   "execution_count": null,
   "id": "0fff8376-9679-4f65-b8da-7fe4d7b37411",
   "metadata": {},
   "outputs": [],
   "source": []
  },
  {
   "cell_type": "code",
   "execution_count": null,
   "id": "0cf8423e-d892-46eb-97fb-48612c46cc39",
   "metadata": {},
   "outputs": [],
   "source": []
  },
  {
   "cell_type": "code",
   "execution_count": null,
   "id": "86382078-7532-4516-a90d-90f3a7c1e0bb",
   "metadata": {},
   "outputs": [],
   "source": []
  },
  {
   "cell_type": "code",
   "execution_count": null,
   "id": "f5260a59-78c2-44cb-b06b-caa8a6158578",
   "metadata": {},
   "outputs": [],
   "source": []
  }
 ],
 "metadata": {
  "kernelspec": {
   "display_name": "Python 3",
   "language": "python",
   "name": "python3"
  },
  "language_info": {
   "codemirror_mode": {
    "name": "ipython",
    "version": 3
   },
   "file_extension": ".py",
   "mimetype": "text/x-python",
   "name": "python",
   "nbconvert_exporter": "python",
   "pygments_lexer": "ipython3",
   "version": "3.6.9"
  }
 },
 "nbformat": 4,
 "nbformat_minor": 5
}
