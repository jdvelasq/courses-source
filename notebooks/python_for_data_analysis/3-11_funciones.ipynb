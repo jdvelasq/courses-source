{
 "cells": [
  {
   "cell_type": "markdown",
   "id": "d1e21d00-0d0c-41d1-9b54-32b9aa8cfa34",
   "metadata": {},
   "source": [
    "Funciones de Usuario\n",
    "===\n",
    "\n",
    "* *90:00 min* | Última modificación: Agosto 24, 2021 | [YouTube]"
   ]
  },
  {
   "cell_type": "markdown",
   "id": "b5321cd9-d06e-48e0-be60-b3647c7d2b9d",
   "metadata": {},
   "source": [
    "## Operación de las funciones internas"
   ]
  },
  {
   "cell_type": "code",
   "execution_count": 1,
   "id": "3ca53bb0-b3a0-4750-9865-2564248732d0",
   "metadata": {},
   "outputs": [
    {
     "name": "stdout",
     "output_type": "stream",
     "text": [
      "Hola mundo cruel!\n"
     ]
    }
   ],
   "source": [
    "#\n",
    "# La función print() internamente genera\n",
    "# la salida en pantalla de sus argumentos\n",
    "#\n",
    "print(\"Hola mundo cruel!\")"
   ]
  },
  {
   "cell_type": "code",
   "execution_count": 2,
   "id": "51ead632-eef5-4aa9-ad4d-f643e3b0ef6e",
   "metadata": {},
   "outputs": [
    {
     "data": {
      "text/plain": [
       "21"
      ]
     },
     "execution_count": 2,
     "metadata": {},
     "output_type": "execute_result"
    }
   ],
   "source": [
    "#\n",
    "# La función sum() toma una lista y retorna\n",
    "# su suma.\n",
    "sum([1, 2, 3, 4, 5, 6])"
   ]
  },
  {
   "cell_type": "markdown",
   "id": "bc21a077-eeea-40fe-abee-05ea85d2406a",
   "metadata": {
    "tags": []
   },
   "source": [
    "## Creación de funciones de usuario"
   ]
  },
  {
   "cell_type": "code",
   "execution_count": 3,
   "id": "507122da-3355-4bb3-a678-66cd5c53f211",
   "metadata": {},
   "outputs": [],
   "source": [
    "#\n",
    "# Abstracción del concepto f(x) = x ** 2\n",
    "# ===============================================\n",
    "#\n",
    "#   x  -> argumento de la función\n",
    "#   return  -> indica que retorna\n",
    "#\n",
    "def square(x):\n",
    "    x_squared = x ** 2\n",
    "    return x_squared"
   ]
  },
  {
   "cell_type": "code",
   "execution_count": 4,
   "id": "d0efd3b0-c902-457f-8686-76cf87ed2b3a",
   "metadata": {},
   "outputs": [
    {
     "data": {
      "text/plain": [
       "4"
      ]
     },
     "execution_count": 4,
     "metadata": {},
     "output_type": "execute_result"
    }
   ],
   "source": [
    "#\n",
    "# Diferencia argumento posicional y nombrado\n",
    "# ===============================================\n",
    "#\n",
    "display(\n",
    "    square(2),\n",
    "    square(x=2)\n",
    ")"
   ]
  },
  {
   "cell_type": "code",
   "execution_count": 21,
   "id": "e7767d56-9cd8-476a-8914-d6ab81340e0b",
   "metadata": {},
   "outputs": [],
   "source": [
    "# \n",
    "# Las funciones puden ser llamadas dentro de\n",
    "# otras\n",
    "# ===============================================\n",
    "#\n",
    "def sum_of_squares(x, y):          \n",
    "    return square(x) + square(y) "
   ]
  },
  {
   "cell_type": "code",
   "execution_count": 22,
   "id": "ebd33e39-6684-4829-b77e-7729dacc27b1",
   "metadata": {},
   "outputs": [
    {
     "data": {
      "text/plain": [
       "5"
      ]
     },
     "execution_count": 22,
     "metadata": {},
     "output_type": "execute_result"
    }
   ],
   "source": [
    "sum_of_squares(1, 2)"
   ]
  },
  {
   "cell_type": "markdown",
   "id": "51e78294-4411-4a92-a724-8a5a1cd844e6",
   "metadata": {},
   "source": [
    "## Errores típicos"
   ]
  },
  {
   "cell_type": "code",
   "execution_count": null,
   "id": "03671794-1bfe-4a6b-b563-ee08e500e385",
   "metadata": {},
   "outputs": [],
   "source": [
    "#\n",
    "# Error causado cuando el argumento no existe\n",
    "# ===============================================\n",
    "#"
   ]
  },
  {
   "cell_type": "markdown",
   "id": "3eff5425-3d80-42bc-9f9b-21644ed50b9e",
   "metadata": {},
   "source": [
    "![function_unexpected_keyword_argument.png](assets/function_unexpected_keyword_argument.png)"
   ]
  },
  {
   "cell_type": "code",
   "execution_count": null,
   "id": "2f29d87f-967b-4bb3-80a0-1c772fd905f2",
   "metadata": {},
   "outputs": [],
   "source": [
    "#\n",
    "# Error causado al usar una variable inexistente\n",
    "# ===============================================\n",
    "#"
   ]
  },
  {
   "cell_type": "markdown",
   "id": "a9c41299-1134-4986-b90e-d7cb0418cdb4",
   "metadata": {},
   "source": [
    "![function_name_is_not_defined.png](assets/function_name_is_not_defined.png)"
   ]
  },
  {
   "cell_type": "code",
   "execution_count": null,
   "id": "b1d15a97-8e79-42e3-bc17-2afdf6c74bd6",
   "metadata": {},
   "outputs": [],
   "source": [
    "#\n",
    "# Error causado al llamar la función con un\n",
    "# número equivocado de argumentos.\n",
    "# ===============================================\n",
    "#"
   ]
  },
  {
   "cell_type": "markdown",
   "id": "bfe730fe-e959-413d-a4fc-fb3f6ed6616a",
   "metadata": {
    "tags": []
   },
   "source": [
    "![error_posicional_arg.png](assets/error_posicional_arg.png)"
   ]
  },
  {
   "cell_type": "markdown",
   "id": "e80d39fb-401f-43d0-bde8-99803f639bac",
   "metadata": {},
   "source": [
    "## Argumentos"
   ]
  },
  {
   "cell_type": "code",
   "execution_count": 12,
   "id": "68efb090-0aef-4d50-921b-8b19465a30b7",
   "metadata": {},
   "outputs": [
    {
     "name": "stdout",
     "output_type": "stream",
     "text": [
      "a: 1\n",
      "b: 2\n",
      "c: 3\n"
     ]
    }
   ],
   "source": [
    "#\n",
    "# Asignación de los valores de las llamadas a\n",
    "# los argumentos de la función.\n",
    "# ===============================================\n",
    "#\n",
    "def my_function(a, b, c):\n",
    "    print(\"a:\", a)\n",
    "    print(\"b:\", b)\n",
    "    print(\"c:\", c)\n",
    "    \n",
    "    \n",
    "my_function(1, 2, 3)"
   ]
  },
  {
   "cell_type": "markdown",
   "id": "fab55849-29e8-4c1b-bce7-5aa841036b01",
   "metadata": {},
   "source": [
    "## Retorno de valores"
   ]
  },
  {
   "cell_type": "code",
   "execution_count": 14,
   "id": "4ac10222-2ab7-4882-8730-9f2bc27fb8fe",
   "metadata": {},
   "outputs": [],
   "source": [
    "#\n",
    "# Asignación del resultado de una función \n",
    "# cuando la función no retorna nada\n",
    "# ===============================================\n",
    "#\n",
    "def function_returning_nothing(x):\n",
    "    pass\n",
    "\n",
    "\n",
    "y = function_returning_nothing(1)\n",
    "\n",
    "display(\n",
    "    y,\n",
    "    type(y)\n",
    ")"
   ]
  },
  {
   "cell_type": "code",
   "execution_count": 16,
   "id": "608c6158-5f89-49f8-b269-9395e7e42f75",
   "metadata": {},
   "outputs": [
    {
     "data": {
      "text/plain": [
       "(1, 2)"
      ]
     },
     "execution_count": 16,
     "metadata": {},
     "output_type": "execute_result"
    }
   ],
   "source": [
    "#\n",
    "# Retorno de varios valores \n",
    "# ===============================================\n",
    "#\n",
    "def function_returning_a_tuple(x, y):\n",
    "    return x, y\n",
    "\n",
    "\n",
    "function_returning_a_tuple(1, 2)"
   ]
  },
  {
   "cell_type": "code",
   "execution_count": 17,
   "id": "31651e26-3fad-444d-b688-f0b660b2969a",
   "metadata": {},
   "outputs": [
    {
     "data": {
      "text/plain": [
       "True"
      ]
     },
     "execution_count": 17,
     "metadata": {},
     "output_type": "execute_result"
    }
   ],
   "source": [
    "#\n",
    "# Se debe verificar que la función siempre \n",
    "# retorne un valor\n",
    "# ===============================================\n",
    "#\n",
    "def comparing_function(x, y):\n",
    "    if x > y: \n",
    "        return True\n",
    "    \n",
    "    \n",
    "comparing_function(2, 1)"
   ]
  },
  {
   "cell_type": "code",
   "execution_count": 18,
   "id": "5b577c05-ff4d-431d-aad1-e76fec201652",
   "metadata": {},
   "outputs": [],
   "source": [
    "#\n",
    "# Esta llamada no retorna un valor\n",
    "# ===============================================\n",
    "#\n",
    "display(\n",
    "    comparing_function(1, 2),\n",
    "    type(comparing_function(1, 2))\n",
    ")"
   ]
  },
  {
   "cell_type": "code",
   "execution_count": null,
   "id": "3fa28868-4943-4353-a493-d2249ee454ec",
   "metadata": {},
   "outputs": [],
   "source": [
    "#\n",
    "# Corrección\n",
    "#\n",
    "def comparing_function(x, y):\n",
    "    if x > y: \n",
    "        return True\n",
    "    return False\n",
    "    \n",
    "    \n",
    "comparing_function(1, 2)"
   ]
  },
  {
   "cell_type": "markdown",
   "id": "d36a671b-8877-4495-b1b6-e487a0b551b7",
   "metadata": {},
   "source": [
    "## Ambito"
   ]
  },
  {
   "cell_type": "code",
   "execution_count": 7,
   "id": "46713c81-6561-492e-b664-1236b405961b",
   "metadata": {},
   "outputs": [
    {
     "name": "stdout",
     "output_type": "stream",
     "text": [
      "wick.john\n"
     ]
    }
   ],
   "source": [
    "#\n",
    "# Accesso a variables definidas fuera del ámbito\n",
    "# de la función\n",
    "# ===============================================\n",
    "#\n",
    "username = \"wick.john\"\n",
    "\n",
    "def print_username():\n",
    "    print(username)\n",
    "    \n",
    "    \n",
    "print_username()"
   ]
  },
  {
   "cell_type": "markdown",
   "id": "449dc305-c6fe-4421-abb1-3b93b4de0bd4",
   "metadata": {},
   "source": [
    "Explicación:\n",
    "\n",
    "     \n",
    "     +-- Ambiente del módulo -------------+      +-- Ambiente de la función ------------------+        \n",
    "     | {                                  |      | creado con la llamada a la funcion         |\n",
    "     |     'username': \"wick.john\",       |      | {                                          |\n",
    "     |     'print_username': #function,   | <=== |     'ambiente_padre': ambiente del modulo  |\n",
    "     | }                                  |      | }                                          |\n",
    "     +------------------------------------+      +--------------------------------------------+\n",
    "    \n",
    "    "
   ]
  },
  {
   "cell_type": "code",
   "execution_count": 20,
   "id": "fdd7922f-c91c-4d18-b4b7-2fa0af6c9298",
   "metadata": {},
   "outputs": [
    {
     "name": "stdout",
     "output_type": "stream",
     "text": [
      "inside: 3\n",
      "outside: 5\n"
     ]
    }
   ],
   "source": [
    "#\n",
    "# Ambito de las variables\n",
    "# ===============================================\n",
    "#\n",
    "int_var = 5\n",
    "\n",
    "def my_function(int_var):\n",
    "    int_var = 3\n",
    "    print(\"inside:\", int_var)\n",
    "    \n",
    "my_function(int_var)\n",
    "print(\"outside:\", int_var)"
   ]
  },
  {
   "cell_type": "markdown",
   "id": "472af842-d9b6-4625-850b-02889a743215",
   "metadata": {},
   "source": [
    "    Codigo                Memoria\n",
    "    -----------------------------------------------------------\n",
    "                          ambiente = {}, funcion = {}\n",
    "    int_var = 5\n",
    "                          ambiente = {'int_var': 5}, funcion = {}\n",
    "    my_function(int_var)\n",
    "                          ambiente = {'int_var': 5}, funcion = {'int_var': 5}\n",
    "        (cuerpo de la funcion)\n",
    "        int_var = 3\n",
    "                          ambiente = {'int_var': 5}, funcion = {'int_var': 3}"
   ]
  },
  {
   "cell_type": "markdown",
   "id": "3e64839b-dd2a-4f31-aecd-4e95c6236e52",
   "metadata": {},
   "source": [
    "## Comandos global y nonlocal"
   ]
  },
  {
   "cell_type": "code",
   "execution_count": 10,
   "id": "dc8e0e11-c51b-4841-895f-b76902840564",
   "metadata": {},
   "outputs": [
    {
     "data": {
      "text/plain": [
       "0"
      ]
     },
     "metadata": {},
     "output_type": "display_data"
    },
    {
     "data": {
      "text/plain": [
       "1"
      ]
     },
     "metadata": {},
     "output_type": "display_data"
    }
   ],
   "source": [
    "#\n",
    "# Se define la variable como global\n",
    "#\n",
    "global_var = 0\n",
    "\n",
    "def user_function():\n",
    "    \"\"\"Cambia el valor de la variable global\"\"\"\n",
    "    global global_var\n",
    "    global_var += 1\n",
    "    \n",
    "    \n",
    "display(global_var)\n",
    "user_function()\n",
    "display(global_var)"
   ]
  },
  {
   "cell_type": "code",
   "execution_count": 13,
   "id": "94bf15c4-5db2-4ef6-a228-c28c4b21a85b",
   "metadata": {},
   "outputs": [
    {
     "name": "stdout",
     "output_type": "stream",
     "text": [
      "2\n",
      "1\n"
     ]
    }
   ],
   "source": [
    "#\n",
    "# Sin nonlocal\n",
    "#\n",
    "def outer():\n",
    "    n = 1\n",
    "\n",
    "    def inner():\n",
    "        n = 2\n",
    "        print(n)\n",
    "\n",
    "    inner()\n",
    "    print(n)\n",
    "\n",
    "\n",
    "outer()"
   ]
  },
  {
   "cell_type": "code",
   "execution_count": 12,
   "id": "3042b08c-b4b0-405f-882a-63ac970562e4",
   "metadata": {},
   "outputs": [
    {
     "name": "stdout",
     "output_type": "stream",
     "text": [
      "2\n",
      "2\n"
     ]
    }
   ],
   "source": [
    "#\n",
    "# Con nonlocal\n",
    "#\n",
    "def outer():\n",
    "    n = 1\n",
    "\n",
    "    def inner():\n",
    "        nonlocal n\n",
    "        n = 2\n",
    "        print(n)\n",
    "\n",
    "    inner()\n",
    "    print(n)\n",
    "\n",
    "\n",
    "outer()"
   ]
  },
  {
   "cell_type": "markdown",
   "id": "b3cc8a8e-9662-4a9a-83ba-80c8ff97fc0d",
   "metadata": {},
   "source": [
    "## Side effects"
   ]
  },
  {
   "cell_type": "code",
   "execution_count": 9,
   "id": "d1ce363a-9a24-4fad-82e9-b2317bec1fff",
   "metadata": {},
   "outputs": [
    {
     "data": {
      "text/plain": [
       "3"
      ]
     },
     "execution_count": 9,
     "metadata": {},
     "output_type": "execute_result"
    }
   ],
   "source": [
    "#\n",
    "# Side effects con variables\n",
    "# ===============================================\n",
    "#\n",
    "a = 1\n",
    "b = 2\n",
    "\n",
    "def a_plus_b():\n",
    "    return a + b\n",
    "\n",
    "\n",
    "a_plus_b()"
   ]
  },
  {
   "cell_type": "code",
   "execution_count": 10,
   "id": "fa1d2ca4-c2ca-4d2d-be71-10b5263eb95a",
   "metadata": {},
   "outputs": [
    {
     "data": {
      "text/plain": [
       "5"
      ]
     },
     "execution_count": 10,
     "metadata": {},
     "output_type": "execute_result"
    }
   ],
   "source": [
    "#\n",
    "# Side effect: un cambio inadvertido cambia\n",
    "# cambios no esperados en el resultado de la\n",
    "# función (indeseado!)\n",
    "#\n",
    "a = 3\n",
    "\n",
    "a_plus_b()"
   ]
  },
  {
   "cell_type": "code",
   "execution_count": 21,
   "id": "ebbcee5b-e0cd-4575-ac0d-a576b99c7011",
   "metadata": {},
   "outputs": [
    {
     "name": "stdout",
     "output_type": "stream",
     "text": [
      "[1, 2, 'a']\n"
     ]
    }
   ],
   "source": [
    "#\n",
    "# Side effects con listas\n",
    "# ===============================================\n",
    "#\n",
    "my_list = [1, 2]\n",
    "\n",
    "def my_function(a_list):\n",
    "    a_list.append('a')\n",
    "    \n",
    "    \n",
    "my_function(my_list)\n",
    "#\n",
    "# Efecto indeseado:\n",
    "#\n",
    "print(my_list)"
   ]
  },
  {
   "cell_type": "code",
   "execution_count": 22,
   "id": "4147328b-0ead-44e7-a180-f207f53b6735",
   "metadata": {},
   "outputs": [
    {
     "name": "stdout",
     "output_type": "stream",
     "text": [
      "[1, 2]\n"
     ]
    }
   ],
   "source": [
    "#\n",
    "# Corrección: no se debe modificar la lista\n",
    "# externa\n",
    "# \n",
    "my_list = [1, 2]\n",
    "\n",
    "def my_function(a_list):\n",
    "    a_list = a_list.copy()\n",
    "    a_list.append('a')\n",
    "    \n",
    "\n",
    "my_function(my_list)\n",
    "print(my_list)"
   ]
  },
  {
   "cell_type": "code",
   "execution_count": 24,
   "id": "6055f42b-3d66-424a-90f3-b42acf16b4d2",
   "metadata": {},
   "outputs": [
    {
     "name": "stdout",
     "output_type": "stream",
     "text": [
      "[1, 2]\n",
      "[1, 2, 'a']\n"
     ]
    }
   ],
   "source": [
    "#\n",
    "# Si se desea modificar la lista\n",
    "#\n",
    "my_list = [1, 2]\n",
    "\n",
    "def my_function(a_list):\n",
    "    a_list = a_list.copy()\n",
    "    a_list.append('a')\n",
    "    return a_list\n",
    "    \n",
    "\n",
    "my_new_list = my_function(my_list)\n",
    "print(my_list)\n",
    "print(my_new_list)"
   ]
  },
  {
   "cell_type": "code",
   "execution_count": 2,
   "id": "6752182a-e388-4a56-a029-a12791f118b4",
   "metadata": {},
   "outputs": [
    {
     "name": "stdout",
     "output_type": "stream",
     "text": [
      "[1]\n",
      "[1, 2]\n",
      "[1, 2, 3]\n"
     ]
    }
   ],
   "source": [
    "#\n",
    "# Side effects con listas\n",
    "# ===============================================\n",
    "# La variable L no debería acumular la lista ya \n",
    "# que el valor por defecto de L es []\n",
    "# \n",
    "def f(a, L=[]):\n",
    "    L.append(a)\n",
    "    return L\n",
    "\n",
    "\n",
    "print(f(1))\n",
    "print(f(2))\n",
    "print(f(3))"
   ]
  },
  {
   "cell_type": "code",
   "execution_count": null,
   "id": "ff783084-fbdd-4ba3-b7af-eaad0991a8b7",
   "metadata": {},
   "outputs": [],
   "source": [
    "#\n",
    "# Corrección del side effect usando None\n",
    "#\n",
    "def f(a, L=None):\n",
    "    if L is None:\n",
    "        L = []\n",
    "    L.append(a)\n",
    "    return L\n",
    "\n",
    "print(f(1))\n",
    "print(f(2))\n",
    "print(f(3))"
   ]
  },
  {
   "cell_type": "code",
   "execution_count": 23,
   "id": "a0a2be52-7f40-4261-b5fb-7186c6eed0b9",
   "metadata": {},
   "outputs": [
    {
     "name": "stdout",
     "output_type": "stream",
     "text": [
      "{0: 'A', 1: 'b'}\n"
     ]
    }
   ],
   "source": [
    "#\n",
    "# Side effects con diccionarios\n",
    "# ===============================================\n",
    "#\n",
    "my_dict = {\n",
    "    0: 'a',\n",
    "    1: 'b',\n",
    "}\n",
    "\n",
    "def my_function(a_dict):\n",
    "    a_dict[0] = 'A'\n",
    "    \n",
    "    \n",
    "my_function(my_dict)\n",
    "#\n",
    "# Efecto indeseado:\n",
    "#\n",
    "print(my_dict)"
   ]
  },
  {
   "cell_type": "code",
   "execution_count": null,
   "id": "80664d05-bc86-4b5e-be56-029c9041c85e",
   "metadata": {},
   "outputs": [],
   "source": [
    "my_dict = {\n",
    "    0: 'a',\n",
    "    1: 'b',\n",
    "}\n",
    "\n",
    "def my_function(a_dict):\n",
    "    a_dict = a_dict.copy()\n",
    "    a_dict[0] = 'A'\n",
    "    \n",
    "    \n",
    "my_function(my_dict)\n",
    "print(my_dict)"
   ]
  },
  {
   "cell_type": "markdown",
   "id": "0fd229ca-7b0e-40cc-806a-9e90f5e52ede",
   "metadata": {
    "tags": []
   },
   "source": [
    "## Argumentos posiciones, valores por defecto y número variable de argumentos"
   ]
  },
  {
   "cell_type": "code",
   "execution_count": 33,
   "id": "daf2d64b-823c-4ccf-b780-11d313bc2e2e",
   "metadata": {},
   "outputs": [
    {
     "name": "stdout",
     "output_type": "stream",
     "text": [
      " first_arg: 1\n",
      "second_arg: 2\n",
      "      args: ()\n",
      "    kwargs: {}\n"
     ]
    }
   ],
   "source": [
    "#\n",
    "# Tipos de argumentos\n",
    "#\n",
    "def my_function(first_arg, second_arg=2, *args, **kwargs):\n",
    "    print(' first_arg:', first_arg)\n",
    "    print('second_arg:', second_arg)\n",
    "    print('      args:', args)\n",
    "    print('    kwargs:', kwargs)\n",
    "    \n",
    "    \n",
    "\n",
    "#\n",
    "# Llamada con argumentos posicionales\n",
    "#\n",
    "my_function(1, 2)"
   ]
  },
  {
   "cell_type": "code",
   "execution_count": 34,
   "id": "9be99124-9c14-4fcc-ab26-09ac72e6c521",
   "metadata": {},
   "outputs": [
    {
     "name": "stdout",
     "output_type": "stream",
     "text": [
      " first_arg: 1\n",
      "second_arg: 2\n",
      "      args: ()\n",
      "    kwargs: {}\n"
     ]
    }
   ],
   "source": [
    "#\n",
    "# Llamada con argumentos por nombre\n",
    "#\n",
    "my_function(second_arg=2, first_arg=1)"
   ]
  },
  {
   "cell_type": "code",
   "execution_count": 35,
   "id": "dc781ab3-0571-443d-833e-756dc96d3528",
   "metadata": {},
   "outputs": [
    {
     "name": "stdout",
     "output_type": "stream",
     "text": [
      " first_arg: 1\n",
      "second_arg: 2\n",
      "      args: (3, 4)\n",
      "    kwargs: {}\n"
     ]
    }
   ],
   "source": [
    "#\n",
    "# Llamada con argumentos extra sin nombre\n",
    "# \n",
    "my_function(1, 2, 3, 4)"
   ]
  },
  {
   "cell_type": "code",
   "execution_count": 29,
   "id": "e8b771db-eab5-407b-aee0-a40ea30dd016",
   "metadata": {},
   "outputs": [
    {
     "name": "stdout",
     "output_type": "stream",
     "text": [
      "first_arg: 1\n",
      "second_arg: 2\n",
      "args: ()\n",
      "kwargs {'third_arg': 3}\n"
     ]
    }
   ],
   "source": [
    "#\n",
    "# Llamada con argumentos extra con nombre\n",
    "# \n",
    "my_function(first_arg=1, second_arg=2, third_arg=3)"
   ]
  },
  {
   "cell_type": "code",
   "execution_count": 36,
   "id": "d7e54950-f09d-4cc8-8b3e-e5604e359995",
   "metadata": {
    "tags": []
   },
   "outputs": [
    {
     "name": "stdout",
     "output_type": "stream",
     "text": [
      " first_arg: 1\n",
      "second_arg: 2\n",
      "      args: (3, 4)\n",
      "    kwargs: {'a': 5, 'b': 6, 'c': 7}\n"
     ]
    }
   ],
   "source": [
    "#\n",
    "# Combinacion de los casos anteriores\n",
    "#\n",
    "my_function(1, 2, 3, 4, a=5, b=6, c=7)"
   ]
  },
  {
   "cell_type": "markdown",
   "id": "402acfa6-8a99-46ea-804d-7175755723ba",
   "metadata": {},
   "source": [
    "## Llamada de funciones con argumentos especificados en un diccionario"
   ]
  },
  {
   "cell_type": "code",
   "execution_count": 31,
   "id": "55b2b202-b933-4b38-80c7-cb9695666793",
   "metadata": {},
   "outputs": [
    {
     "data": {
      "text/plain": [
       "6"
      ]
     },
     "execution_count": 31,
     "metadata": {},
     "output_type": "execute_result"
    }
   ],
   "source": [
    "def my_function(a, b, c):\n",
    "    return a + b + c\n",
    "\n",
    "\n",
    "args = {\n",
    "    'a': 1,\n",
    "    'b': 2,\n",
    "    'c': 3,\n",
    "}\n",
    "\n",
    "my_function(**args)"
   ]
  },
  {
   "cell_type": "markdown",
   "id": "041e1e52-be68-470e-bbd9-b7dcf8dc9c05",
   "metadata": {},
   "source": [
    "## Documentación de funciones"
   ]
  },
  {
   "cell_type": "code",
   "execution_count": 2,
   "id": "1dbe6894-5607-4609-b135-14bc9235f52c",
   "metadata": {},
   "outputs": [
    {
     "data": {
      "text/plain": [
       "'No hace nada'"
      ]
     },
     "execution_count": 2,
     "metadata": {},
     "output_type": "execute_result"
    }
   ],
   "source": [
    "#\n",
    "# Define una función sin cuerpo pero documentada\n",
    "#\n",
    "def my_function():\n",
    "    \"\"\"No hace nada\"\"\"\n",
    "    \n",
    "my_function.__doc__"
   ]
  },
  {
   "cell_type": "code",
   "execution_count": 3,
   "id": "c6a332cf-5e31-4d3d-80d6-9c23297f348e",
   "metadata": {},
   "outputs": [
    {
     "name": "stdout",
     "output_type": "stream",
     "text": [
      "Help on function my_function in module __main__:\n",
      "\n",
      "my_function()\n",
      "    No hace nada\n",
      "\n"
     ]
    }
   ],
   "source": [
    "help(my_function)"
   ]
  },
  {
   "cell_type": "markdown",
   "id": "b16ad4d1-ded9-447f-be01-bd63fd3a14c1",
   "metadata": {},
   "source": [
    "## Funciones anónimas"
   ]
  },
  {
   "cell_type": "code",
   "execution_count": 3,
   "id": "0acadfd7-974e-4807-8f56-91e8aba79ca0",
   "metadata": {},
   "outputs": [
    {
     "data": {
      "text/plain": [
       "2"
      ]
     },
     "execution_count": 3,
     "metadata": {},
     "output_type": "execute_result"
    }
   ],
   "source": [
    "#\n",
    "# Función creada con nombre\n",
    "#\n",
    "def incr(x):\n",
    "    return x + 1\n",
    "\n",
    "\n",
    "incr(1)"
   ]
  },
  {
   "cell_type": "code",
   "execution_count": 5,
   "id": "5e44bcb1-0b2a-444e-90d7-ede3534af8a4",
   "metadata": {},
   "outputs": [
    {
     "data": {
      "text/plain": [
       "2"
      ]
     },
     "execution_count": 5,
     "metadata": {},
     "output_type": "execute_result"
    }
   ],
   "source": [
    "#\n",
    "# Función anónima o lambda\n",
    "#\n",
    "incr_ = lambda x: x + 1\n",
    "incr_(1)"
   ]
  },
  {
   "cell_type": "code",
   "execution_count": 33,
   "id": "e907c627-62a8-489b-8955-45dfab1d301a",
   "metadata": {},
   "outputs": [
    {
     "data": {
      "text/plain": [
       "3"
      ]
     },
     "execution_count": 33,
     "metadata": {},
     "output_type": "execute_result"
    }
   ],
   "source": [
    "#\n",
    "# Las funciones lambda se puede aplicar\n",
    "# directamente\n",
    "#\n",
    "(lambda x:x + 1)(2)"
   ]
  },
  {
   "cell_type": "markdown",
   "id": "536d3ef2-cbc9-4dde-bc20-fa2f70939044",
   "metadata": {
    "tags": []
   },
   "source": [
    "## Técnicas avanzadas"
   ]
  },
  {
   "cell_type": "code",
   "execution_count": 6,
   "id": "ca258424-3b32-48f3-89e2-ea3ff8a4979a",
   "metadata": {},
   "outputs": [
    {
     "data": {
      "text/plain": [
       "43"
      ]
     },
     "execution_count": 6,
     "metadata": {},
     "output_type": "execute_result"
    }
   ],
   "source": [
    "#\n",
    "# Creación de una función que devuelve otra\n",
    "#\n",
    "def make_incrementor(n):\n",
    "    return lambda x: x + n\n",
    "\n",
    "f = make_incrementor(42)\n",
    "f(1)"
   ]
  },
  {
   "cell_type": "code",
   "execution_count": 7,
   "id": "0cf8423e-d892-46eb-97fb-48612c46cc39",
   "metadata": {},
   "outputs": [
    {
     "data": {
      "text/plain": [
       "7"
      ]
     },
     "execution_count": 7,
     "metadata": {},
     "output_type": "execute_result"
    }
   ],
   "source": [
    "#\n",
    "# Función compuesta de varias subfunciones\n",
    "# Principio de responsabilidad simple:\n",
    "# cada función hace una tarea y solo una tarea\n",
    "#\n",
    "def complex_function(x):\n",
    "    def constant():\n",
    "        return 1\n",
    "\n",
    "    def first():\n",
    "        return x\n",
    "\n",
    "    def second():\n",
    "        return x ** 2\n",
    "\n",
    "    result = constant() + first() + second()\n",
    "    return result\n",
    "    \n",
    "complex_function(2)"
   ]
  },
  {
   "cell_type": "markdown",
   "id": "56d7310c-4068-47a0-8a23-89c969ba3759",
   "metadata": {},
   "source": [
    "## Manejo de Errores y Excepciones"
   ]
  },
  {
   "cell_type": "code",
   "execution_count": 1,
   "id": "f031b2ad-f7a7-4ce6-8d69-20fa0f82be43",
   "metadata": {},
   "outputs": [
    {
     "name": "stdout",
     "output_type": "stream",
     "text": [
      "x must be a positive float or integer\n"
     ]
    },
    {
     "data": {
      "text/plain": [
       "1.0"
      ]
     },
     "metadata": {},
     "output_type": "display_data"
    },
    {
     "data": {
      "text/plain": [
       "(6.123233995736766e-17+1j)"
      ]
     },
     "metadata": {},
     "output_type": "display_data"
    },
    {
     "data": {
      "text/plain": [
       "None"
      ]
     },
     "metadata": {},
     "output_type": "display_data"
    }
   ],
   "source": [
    "def sqrt(x):\n",
    "    try:\n",
    "        return x ** 0.5\n",
    "    \n",
    "    except:\n",
    "        print(\"x must be a float or integer\")\n",
    "        \n",
    "display(\n",
    "    sqrt(1.0),\n",
    "    sqrt(-1.0),\n",
    "    sqrt(\"1\")\n",
    ")"
   ]
  },
  {
   "cell_type": "code",
   "execution_count": 2,
   "id": "22931f85-571a-44eb-827b-547810b98173",
   "metadata": {},
   "outputs": [
    {
     "name": "stdout",
     "output_type": "stream",
     "text": [
      "x must be a float or integer\n"
     ]
    },
    {
     "data": {
      "text/plain": [
       "1.0"
      ]
     },
     "metadata": {},
     "output_type": "display_data"
    },
    {
     "data": {
      "text/plain": [
       "(6.123233995736766e-17+1j)"
      ]
     },
     "metadata": {},
     "output_type": "display_data"
    },
    {
     "data": {
      "text/plain": [
       "None"
      ]
     },
     "metadata": {},
     "output_type": "display_data"
    }
   ],
   "source": [
    "def sqrt(x):\n",
    "    try:\n",
    "        return x ** 0.5\n",
    "    \n",
    "    except TypeError:\n",
    "        print(\"x must be a float or integer\")\n",
    "        \n",
    "display(\n",
    "    sqrt(1.0),\n",
    "    sqrt(-1.0),\n",
    "    sqrt(\"1\")\n",
    ")"
   ]
  },
  {
   "cell_type": "code",
   "execution_count": 3,
   "id": "30020b36-1bbc-42ad-ad45-5f3da3bb0682",
   "metadata": {},
   "outputs": [
    {
     "ename": "ValueError",
     "evalue": "x must be > 0",
     "output_type": "error",
     "traceback": [
      "\u001b[0;31m---------------------------------------------------------------------------\u001b[0m",
      "\u001b[0;31mValueError\u001b[0m                                Traceback (most recent call last)",
      "\u001b[0;32m<ipython-input-3-f04da2c6748c>\u001b[0m in \u001b[0;36m<module>\u001b[0;34m\u001b[0m\n\u001b[1;32m     10\u001b[0m display(\n\u001b[1;32m     11\u001b[0m     \u001b[0msqrt\u001b[0m\u001b[0;34m(\u001b[0m\u001b[0;36m1.0\u001b[0m\u001b[0;34m)\u001b[0m\u001b[0;34m,\u001b[0m\u001b[0;34m\u001b[0m\u001b[0;34m\u001b[0m\u001b[0m\n\u001b[0;32m---> 12\u001b[0;31m     \u001b[0msqrt\u001b[0m\u001b[0;34m(\u001b[0m\u001b[0;34m-\u001b[0m\u001b[0;36m1.0\u001b[0m\u001b[0;34m)\u001b[0m\u001b[0;34m,\u001b[0m\u001b[0;34m\u001b[0m\u001b[0;34m\u001b[0m\u001b[0m\n\u001b[0m\u001b[1;32m     13\u001b[0m     \u001b[0msqrt\u001b[0m\u001b[0;34m(\u001b[0m\u001b[0;34m\"1\"\u001b[0m\u001b[0;34m)\u001b[0m\u001b[0;34m\u001b[0m\u001b[0;34m\u001b[0m\u001b[0m\n\u001b[1;32m     14\u001b[0m )\n",
      "\u001b[0;32m<ipython-input-3-f04da2c6748c>\u001b[0m in \u001b[0;36msqrt\u001b[0;34m(x)\u001b[0m\n\u001b[1;32m      1\u001b[0m \u001b[0;32mdef\u001b[0m \u001b[0msqrt\u001b[0m\u001b[0;34m(\u001b[0m\u001b[0mx\u001b[0m\u001b[0;34m)\u001b[0m\u001b[0;34m:\u001b[0m\u001b[0;34m\u001b[0m\u001b[0;34m\u001b[0m\u001b[0m\n\u001b[1;32m      2\u001b[0m     \u001b[0;32mif\u001b[0m \u001b[0mx\u001b[0m \u001b[0;34m<\u001b[0m \u001b[0;36m0\u001b[0m\u001b[0;34m:\u001b[0m\u001b[0;34m\u001b[0m\u001b[0;34m\u001b[0m\u001b[0m\n\u001b[0;32m----> 3\u001b[0;31m         \u001b[0;32mraise\u001b[0m \u001b[0mValueError\u001b[0m\u001b[0;34m(\u001b[0m\u001b[0;34m\"x must be > 0\"\u001b[0m\u001b[0;34m)\u001b[0m\u001b[0;34m\u001b[0m\u001b[0;34m\u001b[0m\u001b[0m\n\u001b[0m\u001b[1;32m      4\u001b[0m     \u001b[0;32mtry\u001b[0m\u001b[0;34m:\u001b[0m\u001b[0;34m\u001b[0m\u001b[0;34m\u001b[0m\u001b[0m\n\u001b[1;32m      5\u001b[0m         \u001b[0;32mreturn\u001b[0m \u001b[0mx\u001b[0m \u001b[0;34m**\u001b[0m \u001b[0;36m0.5\u001b[0m\u001b[0;34m\u001b[0m\u001b[0;34m\u001b[0m\u001b[0m\n",
      "\u001b[0;31mValueError\u001b[0m: x must be > 0"
     ]
    }
   ],
   "source": [
    "def sqrt(x):\n",
    "    if x < 0:\n",
    "        raise ValueError(\"x must be > 0\")\n",
    "    try:\n",
    "        return x ** 0.5\n",
    "    \n",
    "    except TypeError:\n",
    "        print(\"x must be a float or integer\")\n",
    "        \n",
    "display(\n",
    "    sqrt(1.0),\n",
    "    sqrt(-1.0),\n",
    "    sqrt(\"1\")\n",
    ")"
   ]
  },
  {
   "cell_type": "markdown",
   "id": "86b99676-3aff-4f01-9403-c17ff0be1bcd",
   "metadata": {},
   "source": [
    "## Ejemplo"
   ]
  },
  {
   "cell_type": "markdown",
   "id": "66c51814-164a-492f-a298-b43394aa40ee",
   "metadata": {},
   "source": [
    "Se desea construir una función que cuente las ocurrencias de cada elemento en una columna de una tabla."
   ]
  },
  {
   "cell_type": "code",
   "execution_count": 9,
   "id": "d1deeb77-3c7e-460b-b2fd-ff971bdb42e3",
   "metadata": {},
   "outputs": [],
   "source": [
    "#\n",
    "# Se descargan los datos de la tabla\n",
    "#\n",
    "tweets_url = \"https://raw.githubusercontent.com/jdvelasq/datalabs/master/datasets/tweets.csv\" \n",
    "!wget --quiet {tweets_url} -P /tmp/ "
   ]
  },
  {
   "cell_type": "code",
   "execution_count": 10,
   "id": "4f860e1c-0fcf-48b9-9f35-346686371ea1",
   "metadata": {},
   "outputs": [
    {
     "data": {
      "text/html": [
       "<div>\n",
       "<style scoped>\n",
       "    .dataframe tbody tr th:only-of-type {\n",
       "        vertical-align: middle;\n",
       "    }\n",
       "\n",
       "    .dataframe tbody tr th {\n",
       "        vertical-align: top;\n",
       "    }\n",
       "\n",
       "    .dataframe thead th {\n",
       "        text-align: right;\n",
       "    }\n",
       "</style>\n",
       "<table border=\"1\" class=\"dataframe\">\n",
       "  <thead>\n",
       "    <tr style=\"text-align: right;\">\n",
       "      <th></th>\n",
       "      <th>contributors</th>\n",
       "      <th>coordinates</th>\n",
       "      <th>created_at</th>\n",
       "      <th>entities</th>\n",
       "      <th>extended_entities</th>\n",
       "      <th>favorite_count</th>\n",
       "      <th>favorited</th>\n",
       "      <th>filter_level</th>\n",
       "      <th>geo</th>\n",
       "      <th>id</th>\n",
       "      <th>...</th>\n",
       "      <th>quoted_status_id</th>\n",
       "      <th>quoted_status_id_str</th>\n",
       "      <th>retweet_count</th>\n",
       "      <th>retweeted</th>\n",
       "      <th>retweeted_status</th>\n",
       "      <th>source</th>\n",
       "      <th>text</th>\n",
       "      <th>timestamp_ms</th>\n",
       "      <th>truncated</th>\n",
       "      <th>user</th>\n",
       "    </tr>\n",
       "  </thead>\n",
       "  <tbody>\n",
       "    <tr>\n",
       "      <th>0</th>\n",
       "      <td>NaN</td>\n",
       "      <td>NaN</td>\n",
       "      <td>Tue Mar 29 23:40:17 +0000 2016</td>\n",
       "      <td>{'hashtags': [], 'user_mentions': [{'screen_na...</td>\n",
       "      <td>{'media': [{'sizes': {'large': {'w': 1024, 'h'...</td>\n",
       "      <td>0</td>\n",
       "      <td>False</td>\n",
       "      <td>low</td>\n",
       "      <td>NaN</td>\n",
       "      <td>714960401759387648</td>\n",
       "      <td>...</td>\n",
       "      <td>NaN</td>\n",
       "      <td>NaN</td>\n",
       "      <td>0</td>\n",
       "      <td>False</td>\n",
       "      <td>{'retweeted': False, 'text': \".@krollbondratin...</td>\n",
       "      <td>&lt;a href=\"http://twitter.com\" rel=\"nofollow\"&gt;Tw...</td>\n",
       "      <td>RT @bpolitics: .@krollbondrating's Christopher...</td>\n",
       "      <td>1459294817758</td>\n",
       "      <td>False</td>\n",
       "      <td>{'utc_offset': 3600, 'profile_image_url_https'...</td>\n",
       "    </tr>\n",
       "    <tr>\n",
       "      <th>1</th>\n",
       "      <td>NaN</td>\n",
       "      <td>NaN</td>\n",
       "      <td>Tue Mar 29 23:40:17 +0000 2016</td>\n",
       "      <td>{'hashtags': [{'text': 'cruzsexscandal', 'indi...</td>\n",
       "      <td>{'media': [{'sizes': {'large': {'w': 500, 'h':...</td>\n",
       "      <td>0</td>\n",
       "      <td>False</td>\n",
       "      <td>low</td>\n",
       "      <td>NaN</td>\n",
       "      <td>714960401977319424</td>\n",
       "      <td>...</td>\n",
       "      <td>NaN</td>\n",
       "      <td>NaN</td>\n",
       "      <td>0</td>\n",
       "      <td>False</td>\n",
       "      <td>{'retweeted': False, 'text': '@dmartosko Cruz ...</td>\n",
       "      <td>&lt;a href=\"http://twitter.com\" rel=\"nofollow\"&gt;Tw...</td>\n",
       "      <td>RT @HeidiAlpine: @dmartosko Cruz video found.....</td>\n",
       "      <td>1459294817810</td>\n",
       "      <td>False</td>\n",
       "      <td>{'utc_offset': None, 'profile_image_url_https'...</td>\n",
       "    </tr>\n",
       "    <tr>\n",
       "      <th>2</th>\n",
       "      <td>NaN</td>\n",
       "      <td>NaN</td>\n",
       "      <td>Tue Mar 29 23:40:17 +0000 2016</td>\n",
       "      <td>{'hashtags': [], 'user_mentions': [], 'symbols...</td>\n",
       "      <td>NaN</td>\n",
       "      <td>0</td>\n",
       "      <td>False</td>\n",
       "      <td>low</td>\n",
       "      <td>NaN</td>\n",
       "      <td>714960402426236928</td>\n",
       "      <td>...</td>\n",
       "      <td>NaN</td>\n",
       "      <td>NaN</td>\n",
       "      <td>0</td>\n",
       "      <td>False</td>\n",
       "      <td>NaN</td>\n",
       "      <td>&lt;a href=\"http://www.facebook.com/twitter\" rel=...</td>\n",
       "      <td>Njihuni me Zonjën Trump !!! | Ekskluzive https...</td>\n",
       "      <td>1459294817917</td>\n",
       "      <td>False</td>\n",
       "      <td>{'utc_offset': 7200, 'profile_image_url_https'...</td>\n",
       "    </tr>\n",
       "    <tr>\n",
       "      <th>3</th>\n",
       "      <td>NaN</td>\n",
       "      <td>NaN</td>\n",
       "      <td>Tue Mar 29 23:40:17 +0000 2016</td>\n",
       "      <td>{'hashtags': [], 'user_mentions': [], 'symbols...</td>\n",
       "      <td>NaN</td>\n",
       "      <td>0</td>\n",
       "      <td>False</td>\n",
       "      <td>low</td>\n",
       "      <td>NaN</td>\n",
       "      <td>714960402367561730</td>\n",
       "      <td>...</td>\n",
       "      <td>7.149239e+17</td>\n",
       "      <td>7.149239e+17</td>\n",
       "      <td>0</td>\n",
       "      <td>False</td>\n",
       "      <td>NaN</td>\n",
       "      <td>&lt;a href=\"http://twitter.com/download/android\" ...</td>\n",
       "      <td>Your an idiot she shouldn't have tried to grab...</td>\n",
       "      <td>1459294817903</td>\n",
       "      <td>False</td>\n",
       "      <td>{'utc_offset': None, 'profile_image_url_https'...</td>\n",
       "    </tr>\n",
       "    <tr>\n",
       "      <th>4</th>\n",
       "      <td>NaN</td>\n",
       "      <td>NaN</td>\n",
       "      <td>Tue Mar 29 23:40:17 +0000 2016</td>\n",
       "      <td>{'hashtags': [], 'user_mentions': [{'screen_na...</td>\n",
       "      <td>NaN</td>\n",
       "      <td>0</td>\n",
       "      <td>False</td>\n",
       "      <td>low</td>\n",
       "      <td>NaN</td>\n",
       "      <td>714960402149416960</td>\n",
       "      <td>...</td>\n",
       "      <td>NaN</td>\n",
       "      <td>NaN</td>\n",
       "      <td>0</td>\n",
       "      <td>False</td>\n",
       "      <td>{'retweeted': False, 'text': 'The anti-America...</td>\n",
       "      <td>&lt;a href=\"http://twitter.com/download/iphone\" r...</td>\n",
       "      <td>RT @AlanLohner: The anti-American D.C. elites ...</td>\n",
       "      <td>1459294817851</td>\n",
       "      <td>False</td>\n",
       "      <td>{'utc_offset': -18000, 'profile_image_url_http...</td>\n",
       "    </tr>\n",
       "  </tbody>\n",
       "</table>\n",
       "<p>5 rows × 31 columns</p>\n",
       "</div>"
      ],
      "text/plain": [
       "   contributors  coordinates                      created_at  \\\n",
       "0           NaN          NaN  Tue Mar 29 23:40:17 +0000 2016   \n",
       "1           NaN          NaN  Tue Mar 29 23:40:17 +0000 2016   \n",
       "2           NaN          NaN  Tue Mar 29 23:40:17 +0000 2016   \n",
       "3           NaN          NaN  Tue Mar 29 23:40:17 +0000 2016   \n",
       "4           NaN          NaN  Tue Mar 29 23:40:17 +0000 2016   \n",
       "\n",
       "                                            entities  \\\n",
       "0  {'hashtags': [], 'user_mentions': [{'screen_na...   \n",
       "1  {'hashtags': [{'text': 'cruzsexscandal', 'indi...   \n",
       "2  {'hashtags': [], 'user_mentions': [], 'symbols...   \n",
       "3  {'hashtags': [], 'user_mentions': [], 'symbols...   \n",
       "4  {'hashtags': [], 'user_mentions': [{'screen_na...   \n",
       "\n",
       "                                   extended_entities  favorite_count  \\\n",
       "0  {'media': [{'sizes': {'large': {'w': 1024, 'h'...               0   \n",
       "1  {'media': [{'sizes': {'large': {'w': 500, 'h':...               0   \n",
       "2                                                NaN               0   \n",
       "3                                                NaN               0   \n",
       "4                                                NaN               0   \n",
       "\n",
       "   favorited filter_level  geo                  id  ...  quoted_status_id  \\\n",
       "0      False          low  NaN  714960401759387648  ...               NaN   \n",
       "1      False          low  NaN  714960401977319424  ...               NaN   \n",
       "2      False          low  NaN  714960402426236928  ...               NaN   \n",
       "3      False          low  NaN  714960402367561730  ...      7.149239e+17   \n",
       "4      False          low  NaN  714960402149416960  ...               NaN   \n",
       "\n",
       "  quoted_status_id_str  retweet_count  retweeted  \\\n",
       "0                  NaN              0      False   \n",
       "1                  NaN              0      False   \n",
       "2                  NaN              0      False   \n",
       "3         7.149239e+17              0      False   \n",
       "4                  NaN              0      False   \n",
       "\n",
       "                                    retweeted_status  \\\n",
       "0  {'retweeted': False, 'text': \".@krollbondratin...   \n",
       "1  {'retweeted': False, 'text': '@dmartosko Cruz ...   \n",
       "2                                                NaN   \n",
       "3                                                NaN   \n",
       "4  {'retweeted': False, 'text': 'The anti-America...   \n",
       "\n",
       "                                              source  \\\n",
       "0  <a href=\"http://twitter.com\" rel=\"nofollow\">Tw...   \n",
       "1  <a href=\"http://twitter.com\" rel=\"nofollow\">Tw...   \n",
       "2  <a href=\"http://www.facebook.com/twitter\" rel=...   \n",
       "3  <a href=\"http://twitter.com/download/android\" ...   \n",
       "4  <a href=\"http://twitter.com/download/iphone\" r...   \n",
       "\n",
       "                                                text   timestamp_ms truncated  \\\n",
       "0  RT @bpolitics: .@krollbondrating's Christopher...  1459294817758     False   \n",
       "1  RT @HeidiAlpine: @dmartosko Cruz video found.....  1459294817810     False   \n",
       "2  Njihuni me Zonjën Trump !!! | Ekskluzive https...  1459294817917     False   \n",
       "3  Your an idiot she shouldn't have tried to grab...  1459294817903     False   \n",
       "4  RT @AlanLohner: The anti-American D.C. elites ...  1459294817851     False   \n",
       "\n",
       "                                                user  \n",
       "0  {'utc_offset': 3600, 'profile_image_url_https'...  \n",
       "1  {'utc_offset': None, 'profile_image_url_https'...  \n",
       "2  {'utc_offset': 7200, 'profile_image_url_https'...  \n",
       "3  {'utc_offset': None, 'profile_image_url_https'...  \n",
       "4  {'utc_offset': -18000, 'profile_image_url_http...  \n",
       "\n",
       "[5 rows x 31 columns]"
      ]
     },
     "execution_count": 10,
     "metadata": {},
     "output_type": "execute_result"
    }
   ],
   "source": [
    "#\n",
    "# Se cargan los datos en una tabla\n",
    "#\n",
    "import pandas as pd\n",
    "\n",
    "tweets_df = pd.read_csv(\"/tmp/tweets.csv\")\n",
    "tweets_df.head()"
   ]
  },
  {
   "cell_type": "code",
   "execution_count": 11,
   "id": "cb76ff73-6600-4768-8b44-fd430b0a1b33",
   "metadata": {},
   "outputs": [
    {
     "data": {
      "text/plain": [
       "0     RT @bpolitics: .@krollbondrating's Christopher...\n",
       "1     RT @HeidiAlpine: @dmartosko Cruz video found.....\n",
       "2     Njihuni me Zonjën Trump !!! | Ekskluzive https...\n",
       "3     Your an idiot she shouldn't have tried to grab...\n",
       "4     RT @AlanLohner: The anti-American D.C. elites ...\n",
       "                            ...                        \n",
       "95    RT @claytoncubitt: Stop asking Bernie supporte...\n",
       "96    Kasich is gonna fuck this up for Ted Cruz  htt...\n",
       "97    RT @akaMaude13: Seriously can't make this up. ...\n",
       "98    Kasich is gonna fuck this up for Ted Cruz  htt...\n",
       "99    @marklevinshow try reporting this truth. https...\n",
       "Name: text, Length: 100, dtype: object"
      ]
     },
     "execution_count": 11,
     "metadata": {},
     "output_type": "execute_result"
    }
   ],
   "source": [
    "#\n",
    "# Se desea analizar los retweets. Estos\n",
    "# Empiezan por RT\n",
    "#\n",
    "tweets_df.text"
   ]
  },
  {
   "cell_type": "code",
   "execution_count": 16,
   "id": "4cb91087-237a-4ede-944c-a8225c5cf0d0",
   "metadata": {},
   "outputs": [
    {
     "data": {
      "text/plain": [
       "[\"RT @bpolitics: .@krollbondrating's Christopher Whalen says Clinton is the weakest Dem candidate in 50 years https://t.co/pLk7rvoRSn https:/…\",\n",
       " 'RT @HeidiAlpine: @dmartosko Cruz video found.....racing from the scene.... #cruzsexscandal https://t.co/zuAPZfQDk3',\n",
       " 'RT @AlanLohner: The anti-American D.C. elites despise Trump for his America-first foreign policy. Trump threatens their gravy train. https:…',\n",
       " 'RT @BIackPplTweets: Young Donald trump meets his neighbor  https://t.co/RFlu17Z1eE',\n",
       " 'RT @trumpresearch: @WaitingInBagdad @thehill Trump supporters have selective amnisia.']"
      ]
     },
     "execution_count": 16,
     "metadata": {},
     "output_type": "execute_result"
    }
   ],
   "source": [
    "#\n",
    "#\n",
    "result = filter(lambda x: x[:2] == \"RT\", tweets_df.text)\n",
    "res_list = list(result)\n",
    "res_list[:5]"
   ]
  },
  {
   "cell_type": "code",
   "execution_count": 17,
   "id": "ad5fc259-124e-49ff-b2ac-7550338dd4d6",
   "metadata": {},
   "outputs": [
    {
     "name": "stdout",
     "output_type": "stream",
     "text": [
      "{'en': 97, 'et': 1, 'und': 2}\n"
     ]
    }
   ],
   "source": [
    "def count_entries(df, col_name='lang'):\n",
    "    \"\"\"Return a dictionary with counts of\n",
    "    occurrences as value for each key.\"\"\"\n",
    "    \n",
    "    cols_count = {}\n",
    "\n",
    "    try:\n",
    "        col = df[col_name]\n",
    "        \n",
    "        for entry in col:\n",
    "            if entry in cols_count.keys():\n",
    "                cols_count[entry] += 1\n",
    "            else:\n",
    "                cols_count[entry] = 1\n",
    "    \n",
    "        return cols_count\n",
    "\n",
    "    except ValueError:\n",
    "        print(f\"La columna {col_name} no existe!\")\n",
    "\n",
    "counted_entries = count_entries(tweets_df, 'lang')\n",
    "print(counted_entries)"
   ]
  },
  {
   "cell_type": "code",
   "execution_count": null,
   "id": "e3c7cfec-198f-4696-8854-53a7f9552d82",
   "metadata": {},
   "outputs": [],
   "source": []
  }
 ],
 "metadata": {
  "kernelspec": {
   "display_name": "Python 3",
   "language": "python",
   "name": "python3"
  },
  "language_info": {
   "codemirror_mode": {
    "name": "ipython",
    "version": 3
   },
   "file_extension": ".py",
   "mimetype": "text/x-python",
   "name": "python",
   "nbconvert_exporter": "python",
   "pygments_lexer": "ipython3",
   "version": "3.6.9"
  }
 },
 "nbformat": 4,
 "nbformat_minor": 5
}
