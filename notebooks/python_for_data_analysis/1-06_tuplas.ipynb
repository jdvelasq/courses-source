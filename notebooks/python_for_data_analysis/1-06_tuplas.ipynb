{
 "cells": [
  {
   "cell_type": "markdown",
   "id": "35df0cae-5159-40e9-bcd6-7ceb1d6b6bfc",
   "metadata": {
    "tags": []
   },
   "source": [
    "Tuplas\n",
    "===\n",
    "\n",
    "* *90:00 min* | Última modificación: Agosto 24, 2021 | [YouTube]"
   ]
  },
  {
   "cell_type": "markdown",
   "id": "be82b251-1ea7-4ad3-a930-f3ba74a96ef3",
   "metadata": {
    "tags": []
   },
   "source": []
  },
  {
   "cell_type": "markdown",
   "id": "1d25ce73-8acf-48af-9519-620586039a90",
   "metadata": {},
   "source": [
    "Al finalizar este tutorial, usted estará en capacidad de:\n",
    "\n",
    "*\n",
    "\n",
    "*"
   ]
  },
  {
   "cell_type": "markdown",
   "id": "56281b01-c28e-4f9d-bd80-ca0189a7f85d",
   "metadata": {},
   "source": [
    "Una tupla es una secuencia de elementos separados por comas. "
   ]
  },
  {
   "cell_type": "code",
   "execution_count": 1,
   "id": "3639967d-9bf5-43dd-8282-4d2ebc7ae1d9",
   "metadata": {},
   "outputs": [
    {
     "data": {
      "text/plain": [
       "()"
      ]
     },
     "execution_count": 1,
     "metadata": {},
     "output_type": "execute_result"
    }
   ],
   "source": [
    "#\n",
    "# Creación de una tupla vacia\n",
    "#\n",
    "empty_tuple = ()\n",
    "empty_tuple"
   ]
  },
  {
   "cell_type": "code",
   "execution_count": 2,
   "id": "560a578e-c628-41d3-a35a-fc2c28a2efc8",
   "metadata": {},
   "outputs": [
    {
     "data": {
      "text/plain": [
       "tuple"
      ]
     },
     "execution_count": 2,
     "metadata": {},
     "output_type": "execute_result"
    }
   ],
   "source": [
    "#\n",
    "# Tipo\n",
    "#\n",
    "type(empty_tuple)"
   ]
  },
  {
   "cell_type": "code",
   "execution_count": 74,
   "id": "cefde7c8-a3e8-40a0-83ac-f2ae16b77824",
   "metadata": {},
   "outputs": [
    {
     "data": {
      "text/plain": [
       "12345"
      ]
     },
     "execution_count": 74,
     "metadata": {},
     "output_type": "execute_result"
    }
   ],
   "source": [
    "#\n",
    "# Una tupla es una secuencia de\n",
    "# elementos separados por comas\n",
    "#\n",
    "tuple_a = 12345, 54321, 'hello!'\n",
    "tuple_a"
   ]
  },
  {
   "cell_type": "code",
   "execution_count": 3,
   "id": "ea3e3c57-ab29-465b-a3fc-84ffaa03f8c9",
   "metadata": {},
   "outputs": [
    {
     "data": {
      "text/plain": [
       "(1,)"
      ]
     },
     "execution_count": 3,
     "metadata": {},
     "output_type": "execute_result"
    }
   ],
   "source": [
    "#\n",
    "# Tupla con un solo elemento\n",
    "#\n",
    "one_element_tuple = 1,\n",
    "one_element_tuple"
   ]
  },
  {
   "cell_type": "code",
   "execution_count": null,
   "id": "1f792a78-62ee-4151-a20c-2a315c23289d",
   "metadata": {},
   "outputs": [],
   "source": [
    "#\n",
    "# Los elementos de una tupla pueden ser\n",
    "# accesados por su posición\n",
    "#\n",
    "tuple_a[1]"
   ]
  },
  {
   "cell_type": "code",
   "execution_count": 76,
   "id": "a6184aa5-9d04-4696-b715-3eb631dfb602",
   "metadata": {},
   "outputs": [
    {
     "data": {
      "text/plain": [
       "((12345, 54321, 'hello!'), (1, 2, 3, 4, 5))"
      ]
     },
     "execution_count": 76,
     "metadata": {},
     "output_type": "execute_result"
    }
   ],
   "source": [
    "# \n",
    "# Las tuplas pueden anidarse.\n",
    "#\n",
    "tuple_b = tuple_a, (1, 2, 3, 4, 5)\n",
    "tuple_b"
   ]
  },
  {
   "cell_type": "code",
   "execution_count": 77,
   "id": "fcbb701c-e4a2-49ff-bd3d-fac68e9fac97",
   "metadata": {},
   "outputs": [],
   "source": [
    "#\n",
    "# Asignación de elementos de una \n",
    "# tupla a variables\n",
    "#\n",
    "first, second, third = tuple_a "
   ]
  },
  {
   "cell_type": "code",
   "execution_count": 78,
   "id": "508ae16a-f25d-426e-b65f-ffe8ac27fa88",
   "metadata": {},
   "outputs": [
    {
     "data": {
      "text/plain": [
       "12345"
      ]
     },
     "execution_count": 78,
     "metadata": {},
     "output_type": "execute_result"
    }
   ],
   "source": [
    "#\n",
    "# Contenido de t[0]\n",
    "#\n",
    "first"
   ]
  },
  {
   "cell_type": "code",
   "execution_count": 79,
   "id": "0135ca3a-a49f-41cf-8154-05c264b8d25a",
   "metadata": {},
   "outputs": [
    {
     "data": {
      "text/plain": [
       "54321"
      ]
     },
     "execution_count": 79,
     "metadata": {},
     "output_type": "execute_result"
    }
   ],
   "source": [
    "#\n",
    "# Contenido de t[1]\n",
    "#\n",
    "second"
   ]
  },
  {
   "cell_type": "code",
   "execution_count": 80,
   "id": "cc96efa4-e0c7-47de-9248-9c2dc7e034f8",
   "metadata": {},
   "outputs": [
    {
     "data": {
      "text/plain": [
       "'hello!'"
      ]
     },
     "execution_count": 80,
     "metadata": {},
     "output_type": "execute_result"
    }
   ],
   "source": [
    "#\n",
    "# Contenido de t[2]\n",
    "#\n",
    "third"
   ]
  },
  {
   "cell_type": "code",
   "execution_count": 14,
   "id": "fd340912-201e-44e0-a30f-2110bf524179",
   "metadata": {},
   "outputs": [
    {
     "data": {
      "text/plain": [
       "([1, 2, 4], ['a', 'b', 'c', 'd'])"
      ]
     },
     "execution_count": 14,
     "metadata": {},
     "output_type": "execute_result"
    }
   ],
   "source": [
    "#\n",
    "# Las tuplas pueden contener elementos\n",
    "# con tipos de datos complejos\n",
    "#\n",
    "int_list = [1, 2, 4]\n",
    "letters_list = ['a', 'b', 'c', 'd']\n",
    "complex_tuple = int_list, letters_list\n",
    "complex_tuple"
   ]
  },
  {
   "cell_type": "code",
   "execution_count": 5,
   "id": "fdabb450-381b-4a7a-91cf-c034a0d8b09f",
   "metadata": {},
   "outputs": [
    {
     "data": {
      "text/plain": [
       "(3, 4, 5)"
      ]
     },
     "execution_count": 5,
     "metadata": {},
     "output_type": "execute_result"
    }
   ],
   "source": [
    "#\n",
    "# Selección de un rango\n",
    "#\n",
    "integers_tuple = (1, 2, 3, 4, 5, 6,  7)\n",
    "integers_tuple[2:5]"
   ]
  },
  {
   "cell_type": "code",
   "execution_count": 6,
   "id": "a4b56164-612b-4eaa-923f-27829e531d98",
   "metadata": {},
   "outputs": [
    {
     "data": {
      "text/plain": [
       "('A', 'B', 'C', 'D', 'E')"
      ]
     },
     "execution_count": 6,
     "metadata": {},
     "output_type": "execute_result"
    }
   ],
   "source": [
    "#\n",
    "# Creación de una tupla con un string\n",
    "#\n",
    "from_string_tuple = tuple(\"ABCDE\")\n",
    "from_string_tuple"
   ]
  },
  {
   "cell_type": "code",
   "execution_count": 7,
   "id": "61ee59c1-340d-46fd-b336-5ec0fa690aa4",
   "metadata": {},
   "outputs": [
    {
     "data": {
      "text/plain": [
       "('a', 'b', 'c', 'd')"
      ]
     },
     "execution_count": 7,
     "metadata": {},
     "output_type": "execute_result"
    }
   ],
   "source": [
    "#\n",
    "# Creación de una tupla usando un iterable\n",
    "#\n",
    "letters_list = ['a', 'b', 'c', 'd']\n",
    "letters_tuple = tuple(letters_list)\n",
    "letters_tuple"
   ]
  },
  {
   "cell_type": "code",
   "execution_count": 9,
   "id": "3ce0e7bf-f82b-46ad-83b3-8db523c430dc",
   "metadata": {},
   "outputs": [
    {
     "data": {
      "text/plain": [
       "True"
      ]
     },
     "execution_count": 9,
     "metadata": {},
     "output_type": "execute_result"
    }
   ],
   "source": [
    "#\n",
    "# Existencia de un elemento en una tupla\n",
    "#\n",
    "letters_tuple = ('a', 'b', 'c', 'd')\n",
    "'a' in letters_tuple"
   ]
  },
  {
   "cell_type": "code",
   "execution_count": 10,
   "id": "75cf2c4e-7ae9-4582-bf21-f59903578e5d",
   "metadata": {},
   "outputs": [
    {
     "data": {
      "text/plain": [
       "True"
      ]
     },
     "execution_count": 10,
     "metadata": {},
     "output_type": "execute_result"
    }
   ],
   "source": [
    "'m' not in letters_tuple"
   ]
  },
  {
   "cell_type": "code",
   "execution_count": null,
   "id": "e102237f-b739-4546-88de-1bbef0175a51",
   "metadata": {},
   "outputs": [],
   "source": [
    "#\n",
    "# Las tuplas no tienen metodo append\n",
    "#"
   ]
  },
  {
   "cell_type": "markdown",
   "id": "154a30ac-98ac-48cd-a0f7-531353b56df4",
   "metadata": {},
   "source": [
    "![tuple_append_error.png](assets/tuple_append_error.png)"
   ]
  },
  {
   "cell_type": "code",
   "execution_count": null,
   "id": "6cd96244-801c-4b32-b2a1-7bab2a355af1",
   "metadata": {},
   "outputs": [],
   "source": [
    "#\n",
    "# Las tuplas no soportan asignación\n",
    "#"
   ]
  },
  {
   "cell_type": "markdown",
   "id": "bbcee08f-0c8d-4ef1-98c7-d656b81b28cd",
   "metadata": {},
   "source": [
    "![tuple_item_assighment_error.png](assets/tuple_item_assighment_error.png)"
   ]
  }
 ],
 "metadata": {
  "kernelspec": {
   "display_name": "Python 3",
   "language": "python",
   "name": "python3"
  },
  "language_info": {
   "codemirror_mode": {
    "name": "ipython",
    "version": 3
   },
   "file_extension": ".py",
   "mimetype": "text/x-python",
   "name": "python",
   "nbconvert_exporter": "python",
   "pygments_lexer": "ipython3",
   "version": "3.6.9"
  }
 },
 "nbformat": 4,
 "nbformat_minor": 5
}
