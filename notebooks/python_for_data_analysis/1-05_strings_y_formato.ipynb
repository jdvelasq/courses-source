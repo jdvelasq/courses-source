{
 "cells": [
  {
   "cell_type": "markdown",
   "id": "92fbbead-76b3-4ac8-81e8-33bfb201c190",
   "metadata": {
    "tags": []
   },
   "source": [
    "Strings y formato\n",
    "===\n",
    "\n",
    "* *90:00 min* | Última modificación: Agosto 24, 2021 | [YouTube]"
   ]
  },
  {
   "cell_type": "markdown",
   "id": "82f27784-ae5a-44c8-b605-4795db7b79a7",
   "metadata": {},
   "source": []
  },
  {
   "cell_type": "markdown",
   "id": "3f3e4d07-29a7-4c80-a94d-8bc0f2c64a34",
   "metadata": {},
   "source": [
    "Al final de esta lección, usted estará en capacidad de:\n",
    "\n",
    "* Calcular la longitud de una cadena de caracteres.\n",
    "\n",
    "* Acceder a los caracteres de un string como una lista.\n",
    "\n",
    "* Aplicar metodos de transformación y conteo."
   ]
  },
  {
   "cell_type": "markdown",
   "id": "b90664a0-8059-426d-817b-697a6ba73a73",
   "metadata": {},
   "source": [
    "## Longitud de una cadena de texto"
   ]
  },
  {
   "cell_type": "code",
   "execution_count": 1,
   "id": "c91ef9d0-c18b-4ae4-b2f6-7ef89616dcbb",
   "metadata": {},
   "outputs": [
    {
     "data": {
      "text/plain": [
       "5"
      ]
     },
     "execution_count": 1,
     "metadata": {},
     "output_type": "execute_result"
    }
   ],
   "source": [
    "#\n",
    "# La función len calcula la longitud de una cadena de caracteres.\n",
    "#\n",
    "s = 'abcde'\n",
    "len(s)"
   ]
  },
  {
   "cell_type": "markdown",
   "id": "c49a92b3-cb38-4c8e-ac3b-a575be86c38f",
   "metadata": {},
   "source": [
    "## Strings como listas de caracteres"
   ]
  },
  {
   "cell_type": "markdown",
   "id": "4aca160f-5554-44a5-928b-8685dac3d62e",
   "metadata": {},
   "source": [
    "En Python, los strings son vectores de caracteres; el primer caracter ocupa la posición 0, el segundo la 1 y así sucesivamente. Los índices negativos (iniciando en `-1`) se usan para indicar la posición contando desde atrás. Poe ejemplo: \n",
    " \n",
    "     +---+---+---+---+---+---+\n",
    "     | P | y | t | h | o | n |\n",
    "     +---+---+---+---+---+---+\n",
    "       0   1   2   3   4   5   \n",
    "      -6  -5  -4  -3  -2  -1"
   ]
  },
  {
   "cell_type": "code",
   "execution_count": 2,
   "id": "e952966e-7c01-4f2e-bc8e-79c7180cfbf2",
   "metadata": {},
   "outputs": [
    {
     "data": {
      "text/plain": [
       "'P'"
      ]
     },
     "execution_count": 2,
     "metadata": {},
     "output_type": "execute_result"
    }
   ],
   "source": [
    "# \n",
    "# Caracter en la posición 0\n",
    "#\n",
    "word = 'Python'\n",
    "word[0]    # Primer caracter"
   ]
  },
  {
   "cell_type": "code",
   "execution_count": 3,
   "id": "694ca261-7127-471f-8b00-8f0c35890f33",
   "metadata": {},
   "outputs": [
    {
     "data": {
      "text/plain": [
       "'n'"
      ]
     },
     "execution_count": 3,
     "metadata": {},
     "output_type": "execute_result"
    }
   ],
   "source": [
    "# \n",
    "# Caracter en la posición 5\n",
    "#\n",
    "word[5]    # Sexto caracter"
   ]
  },
  {
   "cell_type": "code",
   "execution_count": 4,
   "id": "09e629ce-c32b-47bc-b053-f20ab3f7739c",
   "metadata": {},
   "outputs": [
    {
     "data": {
      "text/plain": [
       "'n'"
      ]
     },
     "execution_count": 4,
     "metadata": {},
     "output_type": "execute_result"
    }
   ],
   "source": [
    "# \n",
    "# Ultimo caracter\n",
    "#\n",
    "word[-1] "
   ]
  },
  {
   "cell_type": "code",
   "execution_count": 5,
   "id": "80ebaacf-5d2e-4a62-b334-837c3201c866",
   "metadata": {},
   "outputs": [
    {
     "data": {
      "text/plain": [
       "'o'"
      ]
     },
     "execution_count": 5,
     "metadata": {},
     "output_type": "execute_result"
    }
   ],
   "source": [
    "#\n",
    "# Antepenúltimo caracter\n",
    "#\n",
    "word[-2]   "
   ]
  },
  {
   "cell_type": "code",
   "execution_count": 6,
   "id": "7ca41294-918c-4ec3-9ebe-f2ddbba2a01b",
   "metadata": {},
   "outputs": [
    {
     "data": {
      "text/plain": [
       "'P'"
      ]
     },
     "execution_count": 6,
     "metadata": {},
     "output_type": "execute_result"
    }
   ],
   "source": [
    "#\n",
    "# Primer caracter\n",
    "#\n",
    "word[-6]   "
   ]
  },
  {
   "cell_type": "code",
   "execution_count": 7,
   "id": "aa75c419-f3d8-4738-a269-e60754506d1c",
   "metadata": {},
   "outputs": [
    {
     "data": {
      "text/plain": [
       "'Py'"
      ]
     },
     "execution_count": 7,
     "metadata": {},
     "output_type": "execute_result"
    }
   ],
   "source": [
    "#\n",
    "# El operador `:` se usa para indicar rangos\n",
    "#\n",
    "word[0:2]  "
   ]
  },
  {
   "cell_type": "code",
   "execution_count": 8,
   "id": "8aaa12ea-3488-479e-a6e0-c9e06ed3a2fc",
   "metadata": {},
   "outputs": [
    {
     "data": {
      "text/plain": [
       "'Py'"
      ]
     },
     "execution_count": 8,
     "metadata": {},
     "output_type": "execute_result"
    }
   ],
   "source": [
    "#\n",
    "# ':2' indica desde el principio hasta la \n",
    "# posición 2 (sin incluirla)\n",
    "#\n",
    "word[:2]   "
   ]
  },
  {
   "cell_type": "code",
   "execution_count": 9,
   "id": "2de4cba5-8fab-4d42-95fe-a8f755244d0a",
   "metadata": {},
   "outputs": [
    {
     "data": {
      "text/plain": [
       "'tho'"
      ]
     },
     "execution_count": 9,
     "metadata": {},
     "output_type": "execute_result"
    }
   ],
   "source": [
    "#\n",
    "# Caracteres en las posiciones 2, 3 y 4\n",
    "#\n",
    "word[2:5]"
   ]
  },
  {
   "cell_type": "code",
   "execution_count": 10,
   "id": "e265838e-8d17-4254-8645-9b7ce1abd007",
   "metadata": {},
   "outputs": [
    {
     "data": {
      "text/plain": [
       "'thon'"
      ]
     },
     "execution_count": 10,
     "metadata": {},
     "output_type": "execute_result"
    }
   ],
   "source": [
    "# \n",
    "# Desde la posición 2 hasta el final\n",
    "#\n",
    "word[2:]   "
   ]
  },
  {
   "cell_type": "code",
   "execution_count": 11,
   "id": "5a13f2f7-b886-4ffe-a3b5-9f818b77cb9f",
   "metadata": {},
   "outputs": [
    {
     "data": {
      "text/plain": [
       "'Python'"
      ]
     },
     "execution_count": 11,
     "metadata": {},
     "output_type": "execute_result"
    }
   ],
   "source": [
    "#\n",
    "# Hasta la posición 2 + De la posición 2 en adelante\n",
    "# \"Py\" + \"thon\"\n",
    "# \n",
    "word[:2] + word[2:]  "
   ]
  },
  {
   "cell_type": "code",
   "execution_count": 12,
   "id": "56890ac6-46da-4a36-a9cf-b94aa61ae343",
   "metadata": {},
   "outputs": [
    {
     "data": {
      "text/plain": [
       "'on'"
      ]
     },
     "execution_count": 12,
     "metadata": {},
     "output_type": "execute_result"
    }
   ],
   "source": [
    "# \n",
    "# Desde la posición -2 hasta el final, \n",
    "# o sea, los últimos dos caracteres.\n",
    "# \n",
    "word[-2:]  "
   ]
  },
  {
   "cell_type": "code",
   "execution_count": 13,
   "id": "cdd6f64e-ce77-42a9-9415-139eb1445569",
   "metadata": {},
   "outputs": [
    {
     "data": {
      "text/plain": [
       "'Python'"
      ]
     },
     "execution_count": 13,
     "metadata": {},
     "output_type": "execute_result"
    }
   ],
   "source": [
    "#\n",
    "# Desde el primero hasta el último caracter.\n",
    "# Genera una copia\n",
    "#\n",
    "word[:]    "
   ]
  },
  {
   "cell_type": "markdown",
   "id": "d0d0460a-53c1-4f96-a28b-d5dfd136d93a",
   "metadata": {},
   "source": [
    "## Métodos"
   ]
  },
  {
   "cell_type": "code",
   "execution_count": 14,
   "id": "741356f2-b205-4936-be18-9a2af19e1977",
   "metadata": {},
   "outputs": [
    {
     "data": {
      "text/plain": [
       "'hola mundo'"
      ]
     },
     "execution_count": 14,
     "metadata": {},
     "output_type": "execute_result"
    }
   ],
   "source": [
    "#\n",
    "# Método replace\n",
    "# ===============================================\n",
    "#\n",
    "# Borra los caracteres '-' de la cadena de texto\n",
    "#\n",
    "'h-o-l-a- -m-u-n-d-o'.replace('-', '')"
   ]
  },
  {
   "cell_type": "code",
   "execution_count": 15,
   "id": "572c9f63-32cf-4c02-be7f-26ed328e28c4",
   "metadata": {},
   "outputs": [
    {
     "data": {
      "text/plain": [
       "'h=o=l=a= =m=u=n=d=o'"
      ]
     },
     "execution_count": 15,
     "metadata": {},
     "output_type": "execute_result"
    }
   ],
   "source": [
    "#\n",
    "# Cambia los '-'  por '='\n",
    "#\n",
    "'h-o-l-a- -m-u-n-d-o'.replace('-', '=')"
   ]
  },
  {
   "cell_type": "code",
   "execution_count": 16,
   "id": "30df0fbb-12ab-4b0b-9f88-24eb9975162f",
   "metadata": {},
   "outputs": [
    {
     "data": {
      "text/plain": [
       "'HOLA MUNDO'"
      ]
     },
     "execution_count": 16,
     "metadata": {},
     "output_type": "execute_result"
    }
   ],
   "source": [
    "#\n",
    "# Método upper\n",
    "# ===============================================\n",
    "#\n",
    "'hola mundo'.upper()"
   ]
  },
  {
   "cell_type": "code",
   "execution_count": 17,
   "id": "b8d5ed6e-22bf-405a-9b7c-7b9867a6c99d",
   "metadata": {},
   "outputs": [
    {
     "data": {
      "text/plain": [
       "'hola mundo'"
      ]
     },
     "execution_count": 17,
     "metadata": {},
     "output_type": "execute_result"
    }
   ],
   "source": [
    "#\n",
    "# Método lower\n",
    "# ===============================================\n",
    "#\n",
    "'HOLA MUNDO'.lower()"
   ]
  },
  {
   "cell_type": "code",
   "execution_count": 18,
   "id": "1c1bb891-d296-415d-b9f2-1b5a0e282086",
   "metadata": {},
   "outputs": [
    {
     "data": {
      "text/plain": [
       "'Hola mundo'"
      ]
     },
     "execution_count": 18,
     "metadata": {},
     "output_type": "execute_result"
    }
   ],
   "source": [
    "#\n",
    "# Método capitalize\n",
    "# ===============================================\n",
    "#\n",
    "'hola mundo'.capitalize()"
   ]
  },
  {
   "cell_type": "code",
   "execution_count": 19,
   "id": "38aa0c85-53c2-4d67-981d-f1d8c0f65c5e",
   "metadata": {},
   "outputs": [
    {
     "data": {
      "text/plain": [
       "'hOLA mUNDO cRUEL'"
      ]
     },
     "execution_count": 19,
     "metadata": {},
     "output_type": "execute_result"
    }
   ],
   "source": [
    "#\n",
    "# Método swapcase\n",
    "# ===============================================\n",
    "#\n",
    "'Hola Mundo Cruel'.swapcase()"
   ]
  },
  {
   "cell_type": "code",
   "execution_count": 20,
   "id": "cdd1a2da-17bb-461f-a68b-43f40e168bca",
   "metadata": {},
   "outputs": [
    {
     "data": {
      "text/plain": [
       "'Hola Mundo Cruel'"
      ]
     },
     "execution_count": 20,
     "metadata": {},
     "output_type": "execute_result"
    }
   ],
   "source": [
    "#\n",
    "# Método title\n",
    "# ===============================================\n",
    "#\n",
    "'hola mundo cruel'.title()"
   ]
  },
  {
   "cell_type": "code",
   "execution_count": 21,
   "id": "6fbae82e-6552-4ef2-a3cd-9191a2c4c49c",
   "metadata": {},
   "outputs": [
    {
     "data": {
      "text/plain": [
       "'-----hola mundo-----'"
      ]
     },
     "execution_count": 21,
     "metadata": {},
     "output_type": "execute_result"
    }
   ],
   "source": [
    "#\n",
    "# Método center\n",
    "# ===============================================\n",
    "#\n",
    "'hola mundo'.center(20, '-')"
   ]
  },
  {
   "cell_type": "code",
   "execution_count": 22,
   "id": "450ad428-d38e-45c3-81c3-ba2f45a61cd4",
   "metadata": {},
   "outputs": [
    {
     "data": {
      "text/plain": [
       "'hola mundo----------'"
      ]
     },
     "execution_count": 22,
     "metadata": {},
     "output_type": "execute_result"
    }
   ],
   "source": [
    "#\n",
    "# Método ljust\n",
    "# ===============================================\n",
    "#\n",
    "'hola mundo'.ljust(20, '-')"
   ]
  },
  {
   "cell_type": "code",
   "execution_count": 23,
   "id": "e60c946f-1e1d-4bed-b874-6f7a6a6f856f",
   "metadata": {},
   "outputs": [
    {
     "data": {
      "text/plain": [
       "'----------hola mundo'"
      ]
     },
     "execution_count": 23,
     "metadata": {},
     "output_type": "execute_result"
    }
   ],
   "source": [
    "#\n",
    "# Método rjust\n",
    "# ===============================================\n",
    "#\n",
    "'hola mundo'.rjust(20, '-')"
   ]
  },
  {
   "cell_type": "code",
   "execution_count": 24,
   "id": "4e50c224-b416-482b-9c97-57e2294e6afc",
   "metadata": {},
   "outputs": [
    {
     "data": {
      "text/plain": [
       "3"
      ]
     },
     "execution_count": 24,
     "metadata": {},
     "output_type": "execute_result"
    }
   ],
   "source": [
    "#\n",
    "# Método count\n",
    "# ===============================================\n",
    "#\n",
    "'abcdeabcdeabcde'.count('ab')"
   ]
  },
  {
   "cell_type": "code",
   "execution_count": 25,
   "id": "5adaa446-c7e3-488f-9a90-c96374429ba5",
   "metadata": {},
   "outputs": [
    {
     "data": {
      "text/plain": [
       "2"
      ]
     },
     "execution_count": 25,
     "metadata": {},
     "output_type": "execute_result"
    }
   ],
   "source": [
    "#\n",
    "#\n",
    "# Método find\n",
    "# ===============================================\n",
    "# Posicion de la primera aparación de la cadena 'cd'\n",
    "# \n",
    "'abcdeabcdeabcde'.find('cd') "
   ]
  },
  {
   "cell_type": "code",
   "execution_count": 26,
   "id": "120662bf-119b-443c-9400-46aa5ae4efc5",
   "metadata": {},
   "outputs": [
    {
     "data": {
      "text/plain": [
       "('1', ',', '2,3,4,5')"
      ]
     },
     "execution_count": 26,
     "metadata": {},
     "output_type": "execute_result"
    }
   ],
   "source": [
    "#\n",
    "# Método partition\n",
    "# ===============================================\n",
    "#\n",
    "'1,2,3,4,5'.partition(',')"
   ]
  },
  {
   "cell_type": "code",
   "execution_count": 27,
   "id": "5465f3da-2971-486a-aa39-a89cbe5f8edf",
   "metadata": {},
   "outputs": [
    {
     "data": {
      "text/plain": [
       "['1', '2', '3', '4', '5']"
      ]
     },
     "execution_count": 27,
     "metadata": {},
     "output_type": "execute_result"
    }
   ],
   "source": [
    "#\n",
    "# Método rsplit\n",
    "# ===============================================\n",
    "#\n",
    "'1,2,3,4,5'.rsplit(',')"
   ]
  },
  {
   "cell_type": "code",
   "execution_count": 28,
   "id": "8d31a80e-fadd-458a-a0e2-5f8b85e703bb",
   "metadata": {},
   "outputs": [
    {
     "data": {
      "text/plain": [
       "'a-b-c'"
      ]
     },
     "execution_count": 28,
     "metadata": {},
     "output_type": "execute_result"
    }
   ],
   "source": [
    "#\n",
    "# Método join\n",
    "# ===============================================\n",
    "#\n",
    "'-'.join(['a', 'b', 'c'])"
   ]
  },
  {
   "cell_type": "code",
   "execution_count": 29,
   "id": "0d7377b3-dcc5-492f-8f65-c3c38672e13b",
   "metadata": {},
   "outputs": [
    {
     "data": {
      "text/plain": [
       "['hola', 'mundo', 'cruel']"
      ]
     },
     "execution_count": 29,
     "metadata": {},
     "output_type": "execute_result"
    }
   ],
   "source": [
    "#\n",
    "# Método splitlines\n",
    "# ===============================================\n",
    "# Parte por los caracteres '\\n'.\n",
    "# Se usa en la lectura de archivos de texto.\n",
    "#\n",
    "'hola\\nmundo\\ncruel'.splitlines()"
   ]
  },
  {
   "cell_type": "code",
   "execution_count": 30,
   "id": "5140acc3-9226-4712-830a-9a512af743ee",
   "metadata": {},
   "outputs": [
    {
     "data": {
      "text/plain": [
       "True"
      ]
     },
     "execution_count": 30,
     "metadata": {},
     "output_type": "execute_result"
    }
   ],
   "source": [
    "#\n",
    "# Método isalnum\n",
    "# ===============================================\n",
    "#\n",
    "'abc123'.isalnum() # alfanumérico?"
   ]
  },
  {
   "cell_type": "code",
   "execution_count": 31,
   "id": "1c2fc77c-2cd3-4a62-8f32-43d7384019dc",
   "metadata": {},
   "outputs": [
    {
     "data": {
      "text/plain": [
       "False"
      ]
     },
     "execution_count": 31,
     "metadata": {},
     "output_type": "execute_result"
    }
   ],
   "source": [
    "#\n",
    "# Método isalnum\n",
    "# ===============================================\n",
    "#\n",
    "'()#@'.isalnum() # alfanumérico?"
   ]
  },
  {
   "cell_type": "code",
   "execution_count": 32,
   "id": "03bf3c04-142b-4e4e-bc30-4a86fc136b74",
   "metadata": {},
   "outputs": [
    {
     "data": {
      "text/plain": [
       "True"
      ]
     },
     "execution_count": 32,
     "metadata": {},
     "output_type": "execute_result"
    }
   ],
   "source": [
    "#\n",
    "# Método isalpha\n",
    "# ===============================================\n",
    "#\n",
    "'abc'.isalpha() "
   ]
  },
  {
   "cell_type": "code",
   "execution_count": 33,
   "id": "d8111b4a-e9f4-42e6-9496-e321de789cd3",
   "metadata": {},
   "outputs": [
    {
     "data": {
      "text/plain": [
       "True"
      ]
     },
     "execution_count": 33,
     "metadata": {},
     "output_type": "execute_result"
    }
   ],
   "source": [
    "#\n",
    "# Método isdigit\n",
    "# ===============================================\n",
    "#\n",
    "'1234'.isdigit()"
   ]
  },
  {
   "cell_type": "code",
   "execution_count": 34,
   "id": "d992c0bb-4384-4297-8874-805d79b48dbe",
   "metadata": {},
   "outputs": [
    {
     "data": {
      "text/plain": [
       "False"
      ]
     },
     "execution_count": 34,
     "metadata": {},
     "output_type": "execute_result"
    }
   ],
   "source": [
    "'1.234'.isdigit()"
   ]
  },
  {
   "cell_type": "code",
   "execution_count": 35,
   "id": "bb8e258c-8a6e-4679-ac5a-2aee1af305c0",
   "metadata": {},
   "outputs": [
    {
     "data": {
      "text/plain": [
       "False"
      ]
     },
     "execution_count": 35,
     "metadata": {},
     "output_type": "execute_result"
    }
   ],
   "source": [
    "#\n",
    "# Método isnumeric\n",
    "# ===============================================\n",
    "#\n",
    "'1.234'.isnumeric()"
   ]
  },
  {
   "cell_type": "code",
   "execution_count": 46,
   "id": "5f480319-5600-49f0-96ee-6c9355c9e12f",
   "metadata": {},
   "outputs": [
    {
     "data": {
      "text/plain": [
       "'00012'"
      ]
     },
     "execution_count": 46,
     "metadata": {},
     "output_type": "execute_result"
    }
   ],
   "source": [
    "#\n",
    "# Método zfill\n",
    "# ===============================================\n",
    "#\n",
    "'12'.zfill(5)  "
   ]
  },
  {
   "cell_type": "code",
   "execution_count": 47,
   "id": "95c119ff-4c68-40c8-aeb5-19c5a8ed94ae",
   "metadata": {},
   "outputs": [
    {
     "data": {
      "text/plain": [
       "'-003.14'"
      ]
     },
     "execution_count": 47,
     "metadata": {},
     "output_type": "execute_result"
    }
   ],
   "source": [
    "'-3.14'.zfill(7) "
   ]
  },
  {
   "cell_type": "code",
   "execution_count": 48,
   "id": "2540ac21-d21c-4a31-9e67-10e087e7cf17",
   "metadata": {},
   "outputs": [
    {
     "data": {
      "text/plain": [
       "'3.14159265359'"
      ]
     },
     "execution_count": 48,
     "metadata": {},
     "output_type": "execute_result"
    }
   ],
   "source": [
    "'3.14159265359'.zfill(5) "
   ]
  },
  {
   "cell_type": "code",
   "execution_count": null,
   "id": "61e048ba-08b3-415b-aa6b-57db172c2d75",
   "metadata": {},
   "outputs": [],
   "source": [
    "#\n",
    "# Método format\n",
    "# ===============================================\n",
    "# Rellena los {} en forma secuencial\n",
    "#\n",
    "'Este es el argumento {} y este el \"{}\"'.format('-1-', '-2-')"
   ]
  },
  {
   "cell_type": "code",
   "execution_count": 67,
   "id": "d571fc75-0aa6-4eb8-9697-0310d871753c",
   "metadata": {},
   "outputs": [
    {
     "data": {
      "text/plain": [
       "'-0- y -1-'"
      ]
     },
     "execution_count": 67,
     "metadata": {},
     "output_type": "execute_result"
    }
   ],
   "source": [
    "#\n",
    "# Se puede indicar el orden de los argumentos\n",
    "#\n",
    "'{0} y {1}'.format('-0-', '-1-')"
   ]
  },
  {
   "cell_type": "code",
   "execution_count": 68,
   "id": "371aea28-1616-4aa1-bd1b-a619100fe756",
   "metadata": {},
   "outputs": [
    {
     "data": {
      "text/plain": [
       "'-1- y -0-'"
      ]
     },
     "execution_count": 68,
     "metadata": {},
     "output_type": "execute_result"
    }
   ],
   "source": [
    "#\n",
    "# Se puede indicar el orden de los argumentos\n",
    "#\n",
    "'{1} y {0}'.format('-0-', '-1-')"
   ]
  },
  {
   "cell_type": "code",
   "execution_count": 52,
   "id": "0b06aa91-b4e3-4a88-abf3-839d1b4f1665",
   "metadata": {},
   "outputs": [
    {
     "name": "stdout",
     "output_type": "stream",
     "text": [
      "-0- y -1-.\n"
     ]
    }
   ],
   "source": [
    "#\n",
    "# Argumentos con nombre\n",
    "#\n",
    "'{arg0} y {arg1}.'.format(arg1='-1-', arg0='-0-')"
   ]
  },
  {
   "cell_type": "code",
   "execution_count": 69,
   "id": "b9ffa872-3b8e-41e3-8e30-3c2d0a7dee46",
   "metadata": {},
   "outputs": [
    {
     "data": {
      "text/plain": [
       "'-0-, -1-, y -2-.'"
      ]
     },
     "execution_count": 69,
     "metadata": {},
     "output_type": "execute_result"
    }
   ],
   "source": [
    "'{0}, {1}, y {a}.'.format('-0-', '-1-', a='-2-')"
   ]
  },
  {
   "cell_type": "code",
   "execution_count": 55,
   "id": "7d4f73bb-1642-41d7-bd1a-bbfdb7956da6",
   "metadata": {},
   "outputs": [
    {
     "name": "stdout",
     "output_type": "stream",
     "text": [
      "Este es el argumento '-0-'.\n"
     ]
    }
   ],
   "source": [
    "#\n",
    "# String en formato raw\n",
    "#\n",
    "'Este es el argumento {!r}.'.format(x)"
   ]
  },
  {
   "cell_type": "code",
   "execution_count": 56,
   "id": "ed68826f-930e-4192-b891-adcfae5026e4",
   "metadata": {},
   "outputs": [
    {
     "name": "stdout",
     "output_type": "stream",
     "text": [
      "Valor de PI con tres decimales: 3.142.\n"
     ]
    }
   ],
   "source": [
    "#\n",
    "# Formato de los valores\n",
    "#\n",
    "import math\n",
    "\n",
    "'Valor de PI con tres decimales: {0:.3f}.'.format(math.pi)"
   ]
  },
  {
   "cell_type": "code",
   "execution_count": 57,
   "id": "4645233d-07dd-4ba6-86a4-3fdcfe59a821",
   "metadata": {},
   "outputs": [
    {
     "name": "stdout",
     "output_type": "stream",
     "text": [
      "hola mundo ---- 1.23456789\n"
     ]
    }
   ],
   "source": [
    "'{} ---- {}'.format('hola mundo', 1.23456789)"
   ]
  },
  {
   "cell_type": "code",
   "execution_count": 58,
   "id": "0440e680-eadb-40ef-beef-a6dd894e7d4e",
   "metadata": {},
   "outputs": [
    {
     "name": "stdout",
     "output_type": "stream",
     "text": [
      "hola mundo      ----     1.23\n"
     ]
    }
   ],
   "source": [
    "#\n",
    "# String de 15 caracteres, numero flotante de 2 decimales\n",
    "#\n",
    "'{0:15s} ---- {1:8.2f}'.format('hola mundo', 1.23456789)"
   ]
  },
  {
   "cell_type": "code",
   "execution_count": 59,
   "id": "b0583c2e-d4b6-4428-ad85-60c3d8d41074",
   "metadata": {},
   "outputs": [
    {
     "name": "stdout",
     "output_type": "stream",
     "text": [
      "     hola mundo ----     1.23\n"
     ]
    }
   ],
   "source": [
    "#\n",
    "# String de 15 caracteres alineado a la derecha\n",
    "#\n",
    "'{0:>15s} ---- {1:8.2f}'.format('hola mundo', 1.23456789)"
   ]
  },
  {
   "cell_type": "code",
   "execution_count": 61,
   "id": "a327de99-65ae-473e-9e23-d370e87e793c",
   "metadata": {},
   "outputs": [
    {
     "name": "stdout",
     "output_type": "stream",
     "text": [
      "a: 100; b: 101; c: 102\n"
     ]
    }
   ],
   "source": [
    "# \n",
    "# Impresión de un diccionario\n",
    "#\n",
    "z = {'a': 100, 'b': 101, 'c': 102}\n",
    "print('a: {0[a]:d}; '\n",
    "      'b: {0[b]:d}; '\n",
    "      'c: {0[c]:d}'.format(z))"
   ]
  },
  {
   "cell_type": "code",
   "execution_count": 62,
   "id": "9a15be0e-dcbf-4bd8-a475-1060120f491f",
   "metadata": {},
   "outputs": [
    {
     "name": "stdout",
     "output_type": "stream",
     "text": [
      "a: 100; b: 101; c: 102\n"
     ]
    }
   ],
   "source": [
    "#\n",
    "# Otra forma de imprimir un diccionario.\n",
    "#\n",
    "z = {'a': 100, 'b': 101, 'c': 102}\n",
    "print('a: {a:d}; b: {b:d}; c: {c:d}'.format(**z))"
   ]
  },
  {
   "cell_type": "code",
   "execution_count": 1,
   "id": "3da51b6f-adfe-4313-bbc7-a42ce78142ae",
   "metadata": {},
   "outputs": [
    {
     "data": {
      "text/plain": [
       "'--->123456<---'"
      ]
     },
     "execution_count": 1,
     "metadata": {},
     "output_type": "execute_result"
    }
   ],
   "source": [
    "#\n",
    "# Uso de f\"{}\" para imprimir\n",
    "#\n",
    "some_variable = 123456\n",
    "text = f\"--->{some_variable}<---\"\n",
    "text"
   ]
  },
  {
   "cell_type": "markdown",
   "id": "20a8a350-fe9e-43c9-98ba-71fe023420cb",
   "metadata": {},
   "source": [
    "## Representación en texto de los datos (repr)"
   ]
  },
  {
   "cell_type": "code",
   "execution_count": 64,
   "id": "80dc2591-69ac-4b99-84c2-56a1f822d4df",
   "metadata": {},
   "outputs": [
    {
     "name": "stdout",
     "output_type": "stream",
     "text": [
      "Hola, mundo.\n"
     ]
    }
   ],
   "source": [
    "#\n",
    "# Impresión de una cadena de texto.\n",
    "#\n",
    "s = 'Hola, mundo.'\n",
    "print(s) "
   ]
  },
  {
   "cell_type": "code",
   "execution_count": 65,
   "id": "7861f7c0-4b25-402c-97e6-498f6a34ce22",
   "metadata": {},
   "outputs": [
    {
     "data": {
      "text/plain": [
       "'Hola, mundo.'"
      ]
     },
     "execution_count": 65,
     "metadata": {},
     "output_type": "execute_result"
    }
   ],
   "source": [
    "#\n",
    "# Impresión del string (no print)\n",
    "s"
   ]
  },
  {
   "cell_type": "code",
   "execution_count": 38,
   "id": "9ba50b65-f3d8-4bba-9aae-dde5928f5fb0",
   "metadata": {},
   "outputs": [
    {
     "data": {
      "text/plain": [
       "\"'Hola, mundo.'\""
      ]
     },
     "execution_count": 38,
     "metadata": {},
     "output_type": "execute_result"
    }
   ],
   "source": [
    "#\n",
    "# Representación interna como texto\n",
    "#\n",
    "repr(s) "
   ]
  },
  {
   "cell_type": "code",
   "execution_count": 41,
   "id": "6136af5d-4d84-474b-ad80-0c0998470f9b",
   "metadata": {},
   "outputs": [
    {
     "name": "stdout",
     "output_type": "stream",
     "text": [
      "El valor de \"x\" es 32.5, y el de \"y\" es 40000...\n"
     ]
    }
   ],
   "source": [
    "#\n",
    "# repr() se puede usar para obtener la represntación\n",
    "# como de string de un objeto\n",
    "#\n",
    "x = 10 * 3.25\n",
    "y = 200 * 200\n",
    "s = 'El valor de \"x\" es ' + repr(x) + ', y el de \"y\" es ' + repr(y) + '...'\n",
    "print(s)"
   ]
  },
  {
   "cell_type": "code",
   "execution_count": 42,
   "id": "e8822236-fe40-4479-954f-32e378b9fe49",
   "metadata": {},
   "outputs": [
    {
     "name": "stdout",
     "output_type": "stream",
     "text": [
      "'hola, mundo, feliz\\n'\n"
     ]
    }
   ],
   "source": [
    "#\n",
    "# print() de un repr() muestra las comillas\n",
    "#\n",
    "hello = 'hola, mundo, feliz\\n'\n",
    "hellos = repr(hello)\n",
    "print(hellos)"
   ]
  },
  {
   "cell_type": "code",
   "execution_count": 43,
   "id": "964e19cf-f0a1-4a2b-8c00-6ba2b4979001",
   "metadata": {},
   "outputs": [
    {
     "data": {
      "text/plain": [
       "\"(32.5, 40000, ('a', 'b'))\""
      ]
     },
     "execution_count": 43,
     "metadata": {},
     "output_type": "execute_result"
    }
   ],
   "source": [
    "#\n",
    "# La función `repr()` recibe cualquier objeto de Python\n",
    "#\n",
    "repr((x, y, ('a', 'b')))  "
   ]
  }
 ],
 "metadata": {
  "kernelspec": {
   "display_name": "Python 3",
   "language": "python",
   "name": "python3"
  },
  "language_info": {
   "codemirror_mode": {
    "name": "ipython",
    "version": 3
   },
   "file_extension": ".py",
   "mimetype": "text/x-python",
   "name": "python",
   "nbconvert_exporter": "python",
   "pygments_lexer": "ipython3",
   "version": "3.6.9"
  }
 },
 "nbformat": 4,
 "nbformat_minor": 5
}
