{
 "cells": [
  {
   "cell_type": "markdown",
   "id": "a5d89bd6-3171-429d-80f9-674fecc7d840",
   "metadata": {},
   "source": [
    "Introducción a NumPy\n",
    "===\n",
    "\n",
    "* *90:00 min* | Última modificación: Agosto 24, 2021 | [YouTube]"
   ]
  },
  {
   "cell_type": "code",
   "execution_count": 1,
   "id": "908e0c3e-dfe1-42cd-bd78-13a65be84219",
   "metadata": {},
   "outputs": [
    {
     "data": {
      "text/plain": [
       "list"
      ]
     },
     "execution_count": 1,
     "metadata": {},
     "output_type": "execute_result"
    }
   ],
   "source": [
    "#\n",
    "# Importación de la libreria y creación de un \n",
    "# array\n",
    "# ===============================================\n",
    "#\n",
    "import numpy as np\n",
    "\n",
    "some_list = [1, 2, 3, 4, 5, 6]\n",
    "type(some_list)"
   ]
  },
  {
   "cell_type": "code",
   "execution_count": 2,
   "id": "cade02d9-126e-4f02-86b7-80583de804fd",
   "metadata": {},
   "outputs": [
    {
     "data": {
      "text/plain": [
       "numpy.ndarray"
      ]
     },
     "metadata": {},
     "output_type": "display_data"
    },
    {
     "data": {
      "text/plain": [
       "array([1, 2, 3, 4, 5, 6])"
      ]
     },
     "metadata": {},
     "output_type": "display_data"
    },
    {
     "data": {
      "text/plain": [
       "(6,)"
      ]
     },
     "metadata": {},
     "output_type": "display_data"
    }
   ],
   "source": [
    "#\n",
    "# Creación de un array a partir de uan lista\n",
    "# ===============================================\n",
    "#\n",
    "some_array = np.array(some_list)\n",
    "\n",
    "display(\n",
    "    type(some_array),\n",
    "    some_array,\n",
    "    some_array.shape,\n",
    ")"
   ]
  },
  {
   "cell_type": "code",
   "execution_count": 3,
   "id": "234e5f0d-c1a9-45a6-ab50-3628451445d8",
   "metadata": {},
   "outputs": [
    {
     "data": {
      "text/plain": [
       "array([1., 1., 1., 1., 1.])"
      ]
     },
     "execution_count": 3,
     "metadata": {},
     "output_type": "execute_result"
    }
   ],
   "source": [
    "#\n",
    "# Función ones()\n",
    "# ===============================================\n",
    "#\n",
    "ones_array = np.ones(5)\n",
    "ones_array"
   ]
  },
  {
   "cell_type": "code",
   "execution_count": 4,
   "id": "6c00bacd-10cc-4165-a04b-1d1a60be55ba",
   "metadata": {},
   "outputs": [
    {
     "data": {
      "text/plain": [
       "array([0, 1, 2, 3, 4, 5, 6, 7, 8, 9])"
      ]
     },
     "execution_count": 4,
     "metadata": {},
     "output_type": "execute_result"
    }
   ],
   "source": [
    "#\n",
    "# Función arange()\n",
    "# ===============================================\n",
    "#\n",
    "range_array = np.arange(10)\n",
    "range_array"
   ]
  },
  {
   "cell_type": "code",
   "execution_count": 5,
   "id": "dd97ee36-7aa5-43e6-8fa9-0acfe8d92e1c",
   "metadata": {},
   "outputs": [
    {
     "data": {
      "text/plain": [
       "array([1.        , 1.21052632, 1.42105263, 1.63157895, 1.84210526,\n",
       "       2.05263158, 2.26315789, 2.47368421, 2.68421053, 2.89473684,\n",
       "       3.10526316, 3.31578947, 3.52631579, 3.73684211, 3.94736842,\n",
       "       4.15789474, 4.36842105, 4.57894737, 4.78947368, 5.        ])"
      ]
     },
     "execution_count": 5,
     "metadata": {},
     "output_type": "execute_result"
    }
   ],
   "source": [
    "#\n",
    "# Función linspace()\n",
    "# ===============================================\n",
    "#\n",
    "linspace_array = np.linspace(\n",
    "    start=1,\n",
    "    stop=5,\n",
    "    num=20,\n",
    "    endpoint=True,\n",
    ")\n",
    "\n",
    "linspace_array"
   ]
  },
  {
   "cell_type": "code",
   "execution_count": 6,
   "id": "e0ea5860-ab98-4b02-85c3-032ee6f668e6",
   "metadata": {},
   "outputs": [
    {
     "data": {
      "text/plain": [
       "array([[0.63726331, 0.43914903, 0.33632037, 0.14738951],\n",
       "       [0.50098944, 0.76488939, 0.97265779, 0.04624116],\n",
       "       [0.45247396, 0.12762108, 0.31789294, 0.64173829]])"
      ]
     },
     "metadata": {},
     "output_type": "display_data"
    },
    {
     "data": {
      "text/plain": [
       "''"
      ]
     },
     "metadata": {},
     "output_type": "display_data"
    },
    {
     "data": {
      "text/plain": [
       "array([[1.55386593, 1.90860708, 1.92988225, 1.79516862],\n",
       "       [1.92193758, 1.93960593, 1.07596989, 1.79734576],\n",
       "       [1.69012606, 1.17740739, 1.23981697, 1.71670174]])"
      ]
     },
     "metadata": {},
     "output_type": "display_data"
    },
    {
     "data": {
      "text/plain": [
       "''"
      ]
     },
     "metadata": {},
     "output_type": "display_data"
    },
    {
     "data": {
      "text/plain": [
       "array([[ 0.8057096 , -0.23724177,  2.51181335,  2.4855375 ],\n",
       "       [ 1.01136341,  3.03116873,  0.59475925,  0.03475614],\n",
       "       [ 2.40022621,  1.38680254,  1.74415753,  1.05282653]])"
      ]
     },
     "metadata": {},
     "output_type": "display_data"
    }
   ],
   "source": [
    "#\n",
    "# Números Aleatorios\n",
    "# ===============================================\n",
    "#\n",
    "display(\n",
    "    np.random.random(\n",
    "        size=(3, 4),\n",
    "    ),\n",
    "    \"\",\n",
    "    np.random.uniform(\n",
    "        low=1,\n",
    "        high=2,\n",
    "        size=(3, 4),\n",
    "    ),\n",
    "    \"\",\n",
    "    np.random.normal(\n",
    "        loc=1,\n",
    "        scale=2,\n",
    "        size=(3, 4),\n",
    "    ),\n",
    ")"
   ]
  },
  {
   "cell_type": "code",
   "execution_count": 7,
   "id": "248fae41-f803-4d2a-8914-a01d10145a46",
   "metadata": {},
   "outputs": [
    {
     "data": {
      "text/plain": [
       "0"
      ]
     },
     "metadata": {},
     "output_type": "display_data"
    },
    {
     "data": {
      "text/plain": [
       "9"
      ]
     },
     "metadata": {},
     "output_type": "display_data"
    },
    {
     "data": {
      "text/plain": [
       "array([2, 3, 4, 5, 6])"
      ]
     },
     "metadata": {},
     "output_type": "display_data"
    }
   ],
   "source": [
    "#\n",
    "# Selección de elementos\n",
    "# ===============================================\n",
    "#\n",
    "some_array = np.arange(10)\n",
    "\n",
    "display(\n",
    "    some_array[0],\n",
    "    some_array[-1],\n",
    "    some_array[2:7],\n",
    ")"
   ]
  },
  {
   "cell_type": "code",
   "execution_count": 8,
   "id": "ef56d436-6fee-4918-a67b-fde1917d4a9d",
   "metadata": {},
   "outputs": [
    {
     "data": {
      "text/plain": [
       "array([[1, 2, 3],\n",
       "       [4, 5, 6],\n",
       "       [7, 8, 9]])"
      ]
     },
     "execution_count": 8,
     "metadata": {},
     "output_type": "execute_result"
    }
   ],
   "source": [
    "#\n",
    "# Selección de la primera columna\n",
    "#\n",
    "some_matrix = np.array(\n",
    "    [\n",
    "        [1, 2, 3],\n",
    "        [4, 5, 6],\n",
    "        [7, 8, 9],\n",
    "    ]\n",
    ")\n",
    "some_matrix"
   ]
  },
  {
   "cell_type": "code",
   "execution_count": 9,
   "id": "087ee183-5902-40c6-95da-15268afa34b1",
   "metadata": {},
   "outputs": [
    {
     "data": {
      "text/plain": [
       "array([4, 5, 6])"
      ]
     },
     "execution_count": 9,
     "metadata": {},
     "output_type": "execute_result"
    }
   ],
   "source": [
    "#\n",
    "# Segunda fila\n",
    "#\n",
    "some_matrix[1,:]"
   ]
  },
  {
   "cell_type": "code",
   "execution_count": 10,
   "id": "09c5ece3-76de-49f8-a674-1e866594c31b",
   "metadata": {},
   "outputs": [
    {
     "data": {
      "text/plain": [
       "array([2, 5, 8])"
      ]
     },
     "execution_count": 10,
     "metadata": {},
     "output_type": "execute_result"
    }
   ],
   "source": [
    "#\n",
    "# Segunda columna\n",
    "#\n",
    "some_matrix[:,1]"
   ]
  },
  {
   "cell_type": "code",
   "execution_count": 11,
   "id": "fdd5bce6-0ce7-4933-b970-08c250a78b0f",
   "metadata": {},
   "outputs": [
    {
     "data": {
      "text/plain": [
       "array([[0, 1, 2, 3, 4],\n",
       "       [5, 6, 7, 8, 9]])"
      ]
     },
     "metadata": {},
     "output_type": "display_data"
    },
    {
     "data": {
      "text/plain": [
       "'---'"
      ]
     },
     "metadata": {},
     "output_type": "display_data"
    },
    {
     "data": {
      "text/plain": [
       "array([[0, 1],\n",
       "       [2, 3],\n",
       "       [4, 5],\n",
       "       [6, 7],\n",
       "       [8, 9]])"
      ]
     },
     "metadata": {},
     "output_type": "display_data"
    },
    {
     "data": {
      "text/plain": [
       "'---'"
      ]
     },
     "metadata": {},
     "output_type": "display_data"
    },
    {
     "data": {
      "text/plain": [
       "(5, 2)"
      ]
     },
     "metadata": {},
     "output_type": "display_data"
    }
   ],
   "source": [
    "#\n",
    "# Método reshape()\n",
    "# ===============================================\n",
    "#\n",
    "display(\n",
    "    range_array.reshape(2, 5),\n",
    "    '---',\n",
    "    range_array.reshape(5, 2),\n",
    "    '---',\n",
    "    range_array.reshape(5, 2).shape,\n",
    ")"
   ]
  },
  {
   "cell_type": "code",
   "execution_count": 20,
   "id": "d3994156-731a-47c6-b3af-c45239476502",
   "metadata": {},
   "outputs": [
    {
     "data": {
      "text/plain": [
       "array([[1, 2],\n",
       "       [2, 3],\n",
       "       [3, 4]])"
      ]
     },
     "execution_count": 20,
     "metadata": {},
     "output_type": "execute_result"
    }
   ],
   "source": [
    "#\n",
    "# Función stack()\n",
    "# ===============================================\n",
    "#\n",
    "a = np.array((1,2,3))\n",
    "b = np.array((2,3,4))\n",
    "ab = np.column_stack((a,b))\n",
    "ab"
   ]
  },
  {
   "cell_type": "code",
   "execution_count": 12,
   "id": "5deb2e33-6372-42f9-a6ed-79810c919664",
   "metadata": {},
   "outputs": [
    {
     "data": {
      "text/plain": [
       "4.5"
      ]
     },
     "metadata": {},
     "output_type": "display_data"
    },
    {
     "data": {
      "text/plain": [
       "4.5"
      ]
     },
     "metadata": {},
     "output_type": "display_data"
    },
    {
     "data": {
      "text/plain": [
       "8.25"
      ]
     },
     "metadata": {},
     "output_type": "display_data"
    },
    {
     "data": {
      "text/plain": [
       "2.8722813232690143"
      ]
     },
     "metadata": {},
     "output_type": "display_data"
    }
   ],
   "source": [
    "#\n",
    "# Funciones estadísticas\n",
    "# ===============================================\n",
    "#\n",
    "display(\n",
    "    np.mean(range_array),\n",
    "    np.median(range_array),\n",
    "    np.var(range_array),\n",
    "    np.std(range_array),\n",
    ")    "
   ]
  },
  {
   "cell_type": "code",
   "execution_count": 13,
   "id": "3de3d245-503c-40a1-84e8-0f374eecea2d",
   "metadata": {},
   "outputs": [
    {
     "data": {
      "text/plain": [
       "array([0.66890065, 1.53834628, 0.88898026, 1.6534638 ])"
      ]
     },
     "metadata": {},
     "output_type": "display_data"
    },
    {
     "data": {
      "text/plain": [
       "array([35.22734704,  1.2102223 ,  0.09956965,  1.10858071])"
      ]
     },
     "metadata": {},
     "output_type": "display_data"
    }
   ],
   "source": [
    "#\n",
    "# Operaadores aritméticos\n",
    "# ===============================================\n",
    "#\n",
    "first_array = np.random.random(4)\n",
    "second_array = np.random.random(4)\n",
    "\n",
    "display(\n",
    "    first_array + second_array,\n",
    "    first_array / second_array **2,\n",
    ")"
   ]
  },
  {
   "cell_type": "code",
   "execution_count": 14,
   "id": "f9bf0c8e-a84f-40a1-ad75-8c78e7c2fd91",
   "metadata": {},
   "outputs": [
    {
     "data": {
      "text/plain": [
       "array([[12.35699566, 11.62424772, 12.37050344],\n",
       "       [11.42114798, 12.21050362, 11.77556962],\n",
       "       [11.64433785, 12.87456012, 12.23052363]])"
      ]
     },
     "execution_count": 14,
     "metadata": {},
     "output_type": "execute_result"
    }
   ],
   "source": [
    "#\n",
    "# Operaciones matriciales\n",
    "# ===============================================\n",
    "#\n",
    "first_matrix = np.random.uniform(\n",
    "    low=1,\n",
    "    high=2,\n",
    "    size=(3, 3),\n",
    ")\n",
    "\n",
    "second_matrix = np.random.uniform(\n",
    "    low=10,\n",
    "    high=11,\n",
    "    size=(3, 3),\n",
    ")\n",
    "\n",
    "first_matrix + second_matrix"
   ]
  },
  {
   "cell_type": "code",
   "execution_count": 15,
   "id": "555fb820-8ac9-4082-9485-57f156c82ed3",
   "metadata": {},
   "outputs": [
    {
     "data": {
      "text/plain": [
       "array([False, False, False, False, False, False,  True,  True,  True,\n",
       "        True])"
      ]
     },
     "execution_count": 15,
     "metadata": {},
     "output_type": "execute_result"
    }
   ],
   "source": [
    "#\n",
    "# Operadores lógicos\n",
    "# ===============================================\n",
    "#\n",
    "np.arange(10) > 5"
   ]
  },
  {
   "cell_type": "code",
   "execution_count": 16,
   "id": "31697db8-2f9c-4396-b5d7-53a5ed0216db",
   "metadata": {},
   "outputs": [
    {
     "data": {
      "text/plain": [
       "array([6, 7, 8, 9])"
      ]
     },
     "execution_count": 16,
     "metadata": {},
     "output_type": "execute_result"
    }
   ],
   "source": [
    "#\n",
    "# Selección lógica\n",
    "# ===============================================\n",
    "#\n",
    "some_array = np.arange(10)\n",
    "bool_array = some_array > 5\n",
    "some_array[bool_array]"
   ]
  },
  {
   "cell_type": "code",
   "execution_count": 17,
   "id": "84808536-0a6b-4eba-88cd-68f940d6d5e1",
   "metadata": {},
   "outputs": [
    {
     "data": {
      "text/plain": [
       "array([False, False, False, False,  True,  True,  True,  True, False,\n",
       "       False])"
      ]
     },
     "execution_count": 17,
     "metadata": {},
     "output_type": "execute_result"
    }
   ],
   "source": [
    "array_gt_3 = some_array > 3\n",
    "array_lt_8 = some_array < 8\n",
    "array_gt_3_and_lt_8 = np.logical_and(array_gt_3, array_lt_8)\n",
    "array_gt_3_and_lt_8"
   ]
  },
  {
   "cell_type": "code",
   "execution_count": 18,
   "id": "67046c12-8879-4157-88c7-4c0b07afe2f1",
   "metadata": {},
   "outputs": [
    {
     "data": {
      "text/plain": [
       "array([ True,  True,  True,  True, False, False, False, False,  True,\n",
       "        True])"
      ]
     },
     "execution_count": 18,
     "metadata": {},
     "output_type": "execute_result"
    }
   ],
   "source": [
    "array_not_gt_3_or_not_lt_8 = np.logical_or(\n",
    "    np.logical_not(array_gt_3), np.logical_not(array_lt_8)\n",
    ")\n",
    "array_not_gt_3_or_not_lt_8"
   ]
  },
  {
   "cell_type": "code",
   "execution_count": 21,
   "id": "2e59d8ff-6ff2-434d-9088-5d3d186ab84d",
   "metadata": {},
   "outputs": [
    {
     "name": "stdout",
     "output_type": "stream",
     "text": [
      "0\n",
      "1\n",
      "2\n",
      "3\n",
      "4\n",
      "5\n",
      "6\n",
      "7\n",
      "8\n",
      "9\n"
     ]
    }
   ],
   "source": [
    "#\n",
    "# Iteración sobre arrays\n",
    "# ===============================================\n",
    "#\n",
    "for value in range_array:\n",
    "    print(value)"
   ]
  },
  {
   "cell_type": "code",
   "execution_count": 25,
   "id": "5a608802-47ab-45ae-8cf0-60b477dbc64f",
   "metadata": {},
   "outputs": [
    {
     "data": {
      "text/plain": [
       "array([[1.83006208, 1.48949586, 1.81672753],\n",
       "       [1.2448606 , 1.77909635, 1.2323116 ],\n",
       "       [1.12923197, 1.93616376, 1.67140521]])"
      ]
     },
     "metadata": {},
     "output_type": "display_data"
    },
    {
     "name": "stdout",
     "output_type": "stream",
     "text": [
      "\n",
      "[1.83006208 1.48949586 1.81672753]\n",
      "[1.2448606  1.77909635 1.2323116 ]\n",
      "[1.12923197 1.93616376 1.67140521]\n",
      "\n",
      "1.8300620816963569\n",
      "1.4894958575675017\n",
      "1.816727529967066\n",
      "1.2448605985017545\n",
      "1.7790963515435143\n",
      "1.2323115952058137\n",
      "1.129231973002498\n",
      "1.9361637636940912\n",
      "1.6714052108112347\n"
     ]
    }
   ],
   "source": [
    "#\n",
    "# Iteración sobre una matriz\n",
    "# ===============================================\n",
    "#\n",
    "\n",
    "display(first_matrix)\n",
    "\n",
    "print('')\n",
    "\n",
    "for value in first_matrix:\n",
    "    print(value)\n",
    "    \n",
    "print('')\n",
    "\n",
    "for value in np.nditer(first_matrix):\n",
    "    print(value)"
   ]
  },
  {
   "cell_type": "code",
   "execution_count": null,
   "id": "5365b2eb-cf0d-4dce-9c85-96172e0f0dde",
   "metadata": {},
   "outputs": [],
   "source": []
  }
 ],
 "metadata": {
  "kernelspec": {
   "display_name": "Python 3",
   "language": "python",
   "name": "python3"
  },
  "language_info": {
   "codemirror_mode": {
    "name": "ipython",
    "version": 3
   },
   "file_extension": ".py",
   "mimetype": "text/x-python",
   "name": "python",
   "nbconvert_exporter": "python",
   "pygments_lexer": "ipython3",
   "version": "3.6.9"
  }
 },
 "nbformat": 4,
 "nbformat_minor": 5
}
