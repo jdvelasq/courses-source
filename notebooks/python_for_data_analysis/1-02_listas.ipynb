{
 "cells": [
  {
   "cell_type": "markdown",
   "id": "d62cbd99-bb71-4c60-a7ab-c848b5c27ad1",
   "metadata": {
    "tags": []
   },
   "source": [
    "Listas\n",
    "===\n",
    "\n",
    "* *90:00 min* | Última modificación: Agosto 24, 2021 | [YouTube]"
   ]
  },
  {
   "cell_type": "markdown",
   "id": "98cb0a06-9ca0-42ac-8d4d-d3984275c20f",
   "metadata": {},
   "source": [
    "Las listas son una de las estructuras fundamentales para el manejo de datos en Python. En este tutorial se aborda su uso."
   ]
  },
  {
   "cell_type": "markdown",
   "id": "c975b4ca-b804-4162-adbb-9c7197b45fbd",
   "metadata": {},
   "source": [
    "El final de este tutorial, usted estará en capacidad de:\n",
    "\n",
    "* Crear listas manualmente.\n",
    "\n",
    "* Computar la longitud de una lista.\n",
    "\n",
    "* Seleccionar un rango de elementos de una lista.\n",
    "\n",
    "* Reemplazar uno o más elementos de una lista.\n",
    "\n",
    "* Borrar elementos de una lista.\n",
    "\n",
    "* Usar el método copy() para evitar efectos colaterales.\n",
    "\n",
    "* Aplicar correctamente las funciones filter() y map().\n",
    "\n",
    "* Usar correctamente el objeto Counter."
   ]
  },
  {
   "cell_type": "markdown",
   "id": "36fcab14-94fc-407d-a2cf-c96f910a1111",
   "metadata": {},
   "source": [
    "## Creación y type"
   ]
  },
  {
   "cell_type": "code",
   "execution_count": 1,
   "id": "418dd53d-7573-427a-8d96-e139f4202169",
   "metadata": {},
   "outputs": [],
   "source": [
    "#\n",
    "# Creación de una lista vacia\n",
    "#\n",
    "empty_list = []"
   ]
  },
  {
   "cell_type": "code",
   "execution_count": 2,
   "id": "e8bcf9f0-360b-443e-a6ca-99b01a2271ac",
   "metadata": {},
   "outputs": [
    {
     "data": {
      "text/plain": [
       "list"
      ]
     },
     "execution_count": 2,
     "metadata": {},
     "output_type": "execute_result"
    }
   ],
   "source": [
    "#\n",
    "# Tipo de dato\n",
    "#\n",
    "type(empty_list)"
   ]
  },
  {
   "cell_type": "code",
   "execution_count": 3,
   "id": "c920e918-26dc-4a72-abd7-7bbe75fb7c97",
   "metadata": {},
   "outputs": [
    {
     "data": {
      "text/plain": [
       "[]"
      ]
     },
     "execution_count": 3,
     "metadata": {},
     "output_type": "execute_result"
    }
   ],
   "source": [
    "#\n",
    "# Contenido de la variable\n",
    "#\n",
    "empty_list"
   ]
  },
  {
   "cell_type": "code",
   "execution_count": 4,
   "id": "602d4155-b905-4c31-8fbc-364d308b8ff8",
   "metadata": {},
   "outputs": [
    {
     "data": {
      "text/plain": [
       "0"
      ]
     },
     "execution_count": 4,
     "metadata": {},
     "output_type": "execute_result"
    }
   ],
   "source": [
    "#\n",
    "# Longitud de la lista\n",
    "#\n",
    "len(empty_list)"
   ]
  },
  {
   "cell_type": "code",
   "execution_count": 5,
   "id": "75f88ede-b7f9-4cc8-8614-ec7d56927be1",
   "metadata": {},
   "outputs": [
    {
     "data": {
      "text/plain": [
       "[1, 4, 9, 16, 25]"
      ]
     },
     "execution_count": 5,
     "metadata": {},
     "output_type": "execute_result"
    }
   ],
   "source": [
    "# \n",
    "# Las listas se crean delimitando sus elementos entre [ y ]\n",
    "#\n",
    "squares_list = [1, 4, 9, 16, 25]  \n",
    "squares_list"
   ]
  },
  {
   "cell_type": "markdown",
   "id": "d553b6a2-b04a-4877-82d9-fe9a049bf65c",
   "metadata": {},
   "source": [
    "## Longitud de una lista"
   ]
  },
  {
   "cell_type": "code",
   "execution_count": 6,
   "id": "d5293a05-47ca-4365-af4c-ef021bbc6507",
   "metadata": {},
   "outputs": [
    {
     "data": {
      "text/plain": [
       "4"
      ]
     },
     "execution_count": 6,
     "metadata": {},
     "output_type": "execute_result"
    }
   ],
   "source": [
    "letters_list = ['a', 'b', 'c', 'd']\n",
    "len(letters_list)"
   ]
  },
  {
   "cell_type": "markdown",
   "id": "0cbcc21b-5c24-4942-8b11-e54d92196086",
   "metadata": {},
   "source": [
    "## Selección de elementos"
   ]
  },
  {
   "cell_type": "code",
   "execution_count": 7,
   "id": "e2b706af-ba72-4e72-9b98-76755a99c782",
   "metadata": {},
   "outputs": [
    {
     "data": {
      "text/plain": [
       "'A'"
      ]
     },
     "execution_count": 7,
     "metadata": {},
     "output_type": "execute_result"
    }
   ],
   "source": [
    "# \n",
    "# Sus elementos se indexan desde cero \n",
    "# al igual que en los strings\n",
    "#\n",
    "some_list = ['A', 1, 'B', 2, 'C', 3, 'D', 4, 'E', 5, 'F', 6]\n",
    "some_list[0]  "
   ]
  },
  {
   "cell_type": "code",
   "execution_count": 8,
   "id": "f44aec49-c1db-42ad-8b4f-d5bf235511a4",
   "metadata": {},
   "outputs": [
    {
     "data": {
      "text/plain": [
       "'B'"
      ]
     },
     "execution_count": 8,
     "metadata": {},
     "output_type": "execute_result"
    }
   ],
   "source": [
    "#\n",
    "# Elemento intermedio\n",
    "#\n",
    "some_list[2]"
   ]
  },
  {
   "cell_type": "code",
   "execution_count": 9,
   "id": "263e1891-62e6-4822-9eb4-064287e896ee",
   "metadata": {},
   "outputs": [
    {
     "data": {
      "text/plain": [
       "6"
      ]
     },
     "execution_count": 9,
     "metadata": {},
     "output_type": "execute_result"
    }
   ],
   "source": [
    "#\n",
    "# Último elemento\n",
    "#\n",
    "some_list[-1] "
   ]
  },
  {
   "cell_type": "code",
   "execution_count": 10,
   "id": "400a0d17-009f-4a47-b851-3d2a6528807a",
   "metadata": {},
   "outputs": [
    {
     "data": {
      "text/plain": [
       "[5, 'F', 6]"
      ]
     },
     "execution_count": 10,
     "metadata": {},
     "output_type": "execute_result"
    }
   ],
   "source": [
    "# \n",
    "# Desde la posición -3 hasta el final\n",
    "#\n",
    "some_list[-3:]  "
   ]
  },
  {
   "cell_type": "code",
   "execution_count": 11,
   "id": "414bf409-92bf-400f-a302-0828f3d9167d",
   "metadata": {},
   "outputs": [
    {
     "data": {
      "text/plain": [
       "['B', 2, 'C', 3, 'D', 4, 'E', 5, 'F', 6]"
      ]
     },
     "execution_count": 11,
     "metadata": {},
     "output_type": "execute_result"
    }
   ],
   "source": [
    "#\n",
    "# Desde la posición 3 (0, 1 y 2) hasta el final.\n",
    "#\n",
    "some_list[2:]"
   ]
  },
  {
   "cell_type": "code",
   "execution_count": 12,
   "id": "83366efd-edb3-4c61-95c4-c43f19f4ef40",
   "metadata": {},
   "outputs": [
    {
     "data": {
      "text/plain": [
       "['A', 1, 'B', 2, 'C', 3, 'D', 4, 'E', 5, 'F', 6]"
      ]
     },
     "execution_count": 12,
     "metadata": {},
     "output_type": "execute_result"
    }
   ],
   "source": [
    "# \n",
    "# Desde el primer hasta el último elemento.\n",
    "#\n",
    "some_list[:]  "
   ]
  },
  {
   "cell_type": "code",
   "execution_count": 13,
   "id": "820788f4-949f-434b-bc68-15293aae9909",
   "metadata": {},
   "outputs": [
    {
     "data": {
      "text/plain": [
       "['A', 1, 'B', 2, 'C', 3, 'D', 4, 'E', 5, 'F', 6]"
      ]
     },
     "execution_count": 13,
     "metadata": {},
     "output_type": "execute_result"
    }
   ],
   "source": [
    "some_list[0:]"
   ]
  },
  {
   "cell_type": "code",
   "execution_count": 14,
   "id": "caca5a0a-cf81-43a7-af90-4b4863521e7b",
   "metadata": {},
   "outputs": [
    {
     "data": {
      "text/plain": [
       "['A', 1, 'B', 2, 'C', 3, 'D', 4, 'E', 5, 'F']"
      ]
     },
     "execution_count": 14,
     "metadata": {},
     "output_type": "execute_result"
    }
   ],
   "source": [
    "#\n",
    "# Todos los elementos excluyendo el último.\n",
    "#\n",
    "some_list[0:-1] "
   ]
  },
  {
   "cell_type": "code",
   "execution_count": 15,
   "id": "484551c6-02f6-43b8-83e7-e7fcfdcb3e60",
   "metadata": {},
   "outputs": [
    {
     "data": {
      "text/plain": [
       "['A', 'B', 'C', 'D', 'E', 'F']"
      ]
     },
     "execution_count": 15,
     "metadata": {},
     "output_type": "execute_result"
    }
   ],
   "source": [
    "#\n",
    "# Elementos en indices pares\n",
    "#\n",
    "some_list[0::2]"
   ]
  },
  {
   "cell_type": "code",
   "execution_count": 16,
   "id": "2bd7d512-8255-44bf-b95b-ac4842656db1",
   "metadata": {},
   "outputs": [
    {
     "data": {
      "text/plain": [
       "[1, 2, 3, 4, 5, 6]"
      ]
     },
     "execution_count": 16,
     "metadata": {},
     "output_type": "execute_result"
    }
   ],
   "source": [
    "#\n",
    "# Elementos en indices impares\n",
    "#\n",
    "some_list[1::2]"
   ]
  },
  {
   "cell_type": "code",
   "execution_count": 17,
   "id": "1476ab2f-0c83-4e8b-8fd2-e3e5d8d6f8ec",
   "metadata": {},
   "outputs": [
    {
     "data": {
      "text/plain": [
       "['A', 'B']"
      ]
     },
     "execution_count": 17,
     "metadata": {},
     "output_type": "execute_result"
    }
   ],
   "source": [
    "#\n",
    "# Elementos en indices pares\n",
    "#\n",
    "some_list[0:4:2]"
   ]
  },
  {
   "cell_type": "code",
   "execution_count": 18,
   "id": "e28ef1f3-9aea-4167-a1bd-7b6485aae723",
   "metadata": {},
   "outputs": [
    {
     "data": {
      "text/plain": [
       "[1, 2]"
      ]
     },
     "execution_count": 18,
     "metadata": {},
     "output_type": "execute_result"
    }
   ],
   "source": [
    "#\n",
    "# Elementos en indices impares\n",
    "#\n",
    "some_list[1:5:2]"
   ]
  },
  {
   "cell_type": "code",
   "execution_count": 19,
   "id": "9675030c-9293-44e4-b505-c44dcdae5a01",
   "metadata": {},
   "outputs": [
    {
     "data": {
      "text/plain": [
       "[['a', 'b', 'c'], [1, 2, 3]]"
      ]
     },
     "execution_count": 19,
     "metadata": {},
     "output_type": "execute_result"
    }
   ],
   "source": [
    "a = ['a', 'b', 'c'] \n",
    "n = [1, 2, 3]\n",
    "\n",
    "#\n",
    "# Creación de una lista de listas\n",
    "#\n",
    "compound_list = [a, n]          \n",
    "compound_list"
   ]
  },
  {
   "cell_type": "code",
   "execution_count": 20,
   "id": "34d596b2-1f1b-4846-8965-d81779c46e30",
   "metadata": {},
   "outputs": [
    {
     "data": {
      "text/plain": [
       "['a', 'b', 'c']"
      ]
     },
     "execution_count": 20,
     "metadata": {},
     "output_type": "execute_result"
    }
   ],
   "source": [
    "#\n",
    "# Primer elemento.\n",
    "#\n",
    "compound_list[0]  "
   ]
  },
  {
   "cell_type": "code",
   "execution_count": 21,
   "id": "bec6bfa6-5965-48df-bbea-7184a028bd43",
   "metadata": {},
   "outputs": [
    {
     "data": {
      "text/plain": [
       "'b'"
      ]
     },
     "execution_count": 21,
     "metadata": {},
     "output_type": "execute_result"
    }
   ],
   "source": [
    "#\n",
    "# El elemento en la posición 1 de la primera lista\n",
    "#\n",
    "compound_list[0][1] "
   ]
  },
  {
   "cell_type": "code",
   "execution_count": 22,
   "id": "9e3c3be1-46ad-485c-a371-da1a33b09664",
   "metadata": {},
   "outputs": [
    {
     "data": {
      "text/plain": [
       "[1, 2, 3]"
      ]
     },
     "execution_count": 22,
     "metadata": {},
     "output_type": "execute_result"
    }
   ],
   "source": [
    "#\n",
    "# El segundo elemento de x\n",
    "#\n",
    "compound_list[1]  "
   ]
  },
  {
   "cell_type": "code",
   "execution_count": 23,
   "id": "807ad1a4-ed47-4aba-a40a-52ecc1973caf",
   "metadata": {
    "tags": []
   },
   "outputs": [
    {
     "data": {
      "text/plain": [
       "3"
      ]
     },
     "execution_count": 23,
     "metadata": {},
     "output_type": "execute_result"
    }
   ],
   "source": [
    "# \n",
    "# El elemento en la posición 2 de la segunda lista\n",
    "#\n",
    "compound_list[1][2] "
   ]
  },
  {
   "cell_type": "code",
   "execution_count": 24,
   "id": "13d2fd98-eacb-42d7-9a86-22848cdef267",
   "metadata": {},
   "outputs": [],
   "source": [
    "#\n",
    "# Indice de la lista por fuera del rango\n",
    "#"
   ]
  },
  {
   "cell_type": "markdown",
   "id": "a1a1f747-3e5f-4463-a31e-b8dff580b42c",
   "metadata": {
    "tags": []
   },
   "source": [
    "![list_index_out_of_range.png](assets/list_index_out_of_range.png)"
   ]
  },
  {
   "cell_type": "markdown",
   "id": "d888e291-4d9b-4818-9dc2-36ce550b9ea7",
   "metadata": {},
   "source": [
    "## Desempaquetado de listas"
   ]
  },
  {
   "cell_type": "code",
   "execution_count": 25,
   "id": "5892f73e-0874-40bc-a853-7afbd1d4f065",
   "metadata": {},
   "outputs": [
    {
     "data": {
      "text/plain": [
       "[2, 3]"
      ]
     },
     "execution_count": 25,
     "metadata": {},
     "output_type": "execute_result"
    }
   ],
   "source": [
    "#\n",
    "# first = 1, rest = [2, 3]\n",
    "#\n",
    "first, *rest = [1, 2, 3]    \n",
    "rest"
   ]
  },
  {
   "cell_type": "code",
   "execution_count": 26,
   "id": "093fa885-b306-4c0a-81c5-22ea906efdb4",
   "metadata": {},
   "outputs": [
    {
     "data": {
      "text/plain": [
       "[2, 3]"
      ]
     },
     "execution_count": 26,
     "metadata": {},
     "output_type": "execute_result"
    }
   ],
   "source": [
    "# \n",
    "# first = 1, middle = [2, 3], last = 4\n",
    "#\n",
    "first, *middle, last = [1, 2, 3, 4] \n",
    "middle"
   ]
  },
  {
   "cell_type": "markdown",
   "id": "45f000af-0efa-4532-82dd-2650a9332fa0",
   "metadata": {
    "tags": []
   },
   "source": [
    "## Reemplazo de elementos"
   ]
  },
  {
   "cell_type": "code",
   "execution_count": 27,
   "id": "ac4fa268-5f2c-4632-91cf-6947c1105f70",
   "metadata": {},
   "outputs": [
    {
     "data": {
      "text/plain": [
       "64"
      ]
     },
     "execution_count": 27,
     "metadata": {},
     "output_type": "execute_result"
    }
   ],
   "source": [
    "#\n",
    "# Lista de cubos con un elemento malo\n",
    "#\n",
    "cubes_list = [1, 8, 27, 65, 125]  \n",
    "\n",
    "#\n",
    "# El cubo de 4 es 64, no 65!\n",
    "#\n",
    "4 ** 3  "
   ]
  },
  {
   "cell_type": "code",
   "execution_count": 28,
   "id": "cb10b32e-46aa-4c8b-b208-a5925837ba44",
   "metadata": {},
   "outputs": [
    {
     "data": {
      "text/plain": [
       "[1, 8, 27, 64, 125]"
      ]
     },
     "execution_count": 28,
     "metadata": {},
     "output_type": "execute_result"
    }
   ],
   "source": [
    "# \n",
    "# Se reemplaza el valor erróneo\n",
    "#\n",
    "cubes_list[3] = 64  \n",
    "cubes_list"
   ]
  },
  {
   "cell_type": "code",
   "execution_count": 29,
   "id": "2260bf5d-b346-4035-8f45-8fd4c433ec41",
   "metadata": {},
   "outputs": [
    {
     "data": {
      "text/plain": [
       "['a', 'b', 'c', 'd', 'e', 'f', 'g']"
      ]
     },
     "execution_count": 29,
     "metadata": {},
     "output_type": "execute_result"
    }
   ],
   "source": [
    "letters_list = ['a', 'b', 'c', 'd', 'e', 'f', 'g'] \n",
    "letters_list"
   ]
  },
  {
   "cell_type": "code",
   "execution_count": 30,
   "id": "39b957d3-5a56-4c29-8502-f456ce956f63",
   "metadata": {},
   "outputs": [
    {
     "data": {
      "text/plain": [
       "['a', 'b', 'C', 'D', 'E', 'f', 'g']"
      ]
     },
     "execution_count": 30,
     "metadata": {},
     "output_type": "execute_result"
    }
   ],
   "source": [
    "#\n",
    "# Reemplazo por un rango de posiciones \n",
    "#\n",
    "letters_list[2:5] = ['C', 'D', 'E']  \n",
    "letters_list"
   ]
  },
  {
   "cell_type": "code",
   "execution_count": 31,
   "id": "b341e4ee-7b3e-4be1-936a-9840120e63fc",
   "metadata": {},
   "outputs": [
    {
     "data": {
      "text/plain": [
       "['a', 'b', 'f', 'g']"
      ]
     },
     "execution_count": 31,
     "metadata": {},
     "output_type": "execute_result"
    }
   ],
   "source": [
    "#\n",
    "# Borrado de un rango de elementos\n",
    "#\n",
    "letters_list[2:5] = []  \n",
    "letters_list"
   ]
  },
  {
   "cell_type": "code",
   "execution_count": 32,
   "id": "9e0ddb1c-88d8-458c-91d9-e33d13e7d67a",
   "metadata": {},
   "outputs": [
    {
     "data": {
      "text/plain": [
       "['a', 'c', 'e', 'g']"
      ]
     },
     "execution_count": 32,
     "metadata": {},
     "output_type": "execute_result"
    }
   ],
   "source": [
    "letters_list = ['a', 'b', 'c', 'd', 'e', 'f', 'g'] \n",
    "\n",
    "#\n",
    "# Selección cada 2 elementos\n",
    "#\n",
    "letters_list[0:7:2]"
   ]
  },
  {
   "cell_type": "code",
   "execution_count": 33,
   "id": "d302ca35-b753-4d0d-b74f-d6d2df09ff64",
   "metadata": {},
   "outputs": [
    {
     "data": {
      "text/plain": [
       "['A', 'b', 'C', 'd', 'E', 'f', 'G']"
      ]
     },
     "execution_count": 33,
     "metadata": {},
     "output_type": "execute_result"
    }
   ],
   "source": [
    "#\n",
    "# Reemplazo cada 2 elementos\n",
    "#\n",
    "letters_list[0:7:2] = ['A', 'C', 'E', 'G']\n",
    "letters_list"
   ]
  },
  {
   "cell_type": "code",
   "execution_count": 34,
   "id": "aeebdac5-7b54-4655-9889-57e565133beb",
   "metadata": {},
   "outputs": [
    {
     "data": {
      "text/plain": [
       "[]"
      ]
     },
     "execution_count": 34,
     "metadata": {},
     "output_type": "execute_result"
    }
   ],
   "source": [
    "#\n",
    "# Borrado del contenido de la lista\n",
    "#\n",
    "letters_list[:] = []  \n",
    "letters_list"
   ]
  },
  {
   "cell_type": "markdown",
   "id": "e93b03a3-1479-4064-a1c8-b28efcc91f92",
   "metadata": {},
   "source": [
    "## Borrado de elementos usando `del`"
   ]
  },
  {
   "cell_type": "code",
   "execution_count": 35,
   "id": "94ea14c8-d385-4809-b23b-29326d61aeb1",
   "metadata": {},
   "outputs": [
    {
     "data": {
      "text/plain": [
       "[1, 2, 3, 4, 5, 6, 7, 8]"
      ]
     },
     "execution_count": 35,
     "metadata": {},
     "output_type": "execute_result"
    }
   ],
   "source": [
    "integers_list = [0, 1, 2, 3, 4, 5, 6, 7, 8]\n",
    "del integers_list[0]\n",
    "integers_list"
   ]
  },
  {
   "cell_type": "code",
   "execution_count": 36,
   "id": "fac29b77-b6d6-4c82-8c35-5d2e2cda2bfc",
   "metadata": {},
   "outputs": [
    {
     "data": {
      "text/plain": [
       "['a', 'b', 'c']"
      ]
     },
     "execution_count": 36,
     "metadata": {},
     "output_type": "execute_result"
    }
   ],
   "source": [
    "del integers_list[2:4]\n",
    "a"
   ]
  },
  {
   "cell_type": "code",
   "execution_count": 37,
   "id": "b2d4bdf9-a820-47e5-8174-69888ab610ee",
   "metadata": {},
   "outputs": [
    {
     "data": {
      "text/plain": [
       "[]"
      ]
     },
     "execution_count": 37,
     "metadata": {},
     "output_type": "execute_result"
    }
   ],
   "source": [
    "del integers_list[:]\n",
    "integers_list"
   ]
  },
  {
   "cell_type": "code",
   "execution_count": 38,
   "id": "976d9853-3127-4465-a05a-67d69b800d41",
   "metadata": {},
   "outputs": [],
   "source": [
    "#\n",
    "# Borra la variable de memoria\n",
    "#\n",
    "del integers_list"
   ]
  },
  {
   "cell_type": "markdown",
   "id": "1d9df1de-2325-4a34-b3e6-ee48d4bc98b2",
   "metadata": {},
   "source": [
    "## Métodos"
   ]
  },
  {
   "cell_type": "code",
   "execution_count": 39,
   "id": "d28ea6aa-305e-46bb-b955-d56ef2f17271",
   "metadata": {},
   "outputs": [
    {
     "data": {
      "text/plain": [
       "[1, 8, 27, 64, 125, 216, 343]"
      ]
     },
     "execution_count": 39,
     "metadata": {},
     "output_type": "execute_result"
    }
   ],
   "source": [
    "#\n",
    "# Método append\n",
    "# ===============================================\n",
    "#\n",
    "cubes_list = [1, 8, 27, 64, 125] \n",
    "\n",
    "# \n",
    "# Se agrega el cubo de 6 al final de la lista.\n",
    "#\n",
    "cubes_list.append(216)     \n",
    "\n",
    "#\n",
    "# Se agrega el cubo de 7 al final de la lista.\n",
    "#\n",
    "cubes_list.append(7 ** 3)\n",
    "cubes_list"
   ]
  },
  {
   "cell_type": "code",
   "execution_count": 40,
   "id": "3a5c548d-530b-4834-9d1b-72606b962561",
   "metadata": {},
   "outputs": [
    {
     "data": {
      "text/plain": [
       "[1, 4, 9, 16, 25, 36, 49, 64, 81, 100]"
      ]
     },
     "execution_count": 40,
     "metadata": {},
     "output_type": "execute_result"
    }
   ],
   "source": [
    "#\n",
    "# Método append usando el operador +\n",
    "#\n",
    "squares_list = [1, 4, 9, 16, 25]\n",
    "\n",
    "#\n",
    "# Concatenacion de listas usando el operador +\n",
    "#\n",
    "squares_list + [36, 49, 64, 81, 100]"
   ]
  },
  {
   "cell_type": "code",
   "execution_count": 41,
   "id": "1d685964-ca83-41d2-96b7-920e1b15302a",
   "metadata": {},
   "outputs": [
    {
     "data": {
      "text/plain": [
       "[]"
      ]
     },
     "execution_count": 41,
     "metadata": {},
     "output_type": "execute_result"
    }
   ],
   "source": [
    "#\n",
    "# Método clear\n",
    "# ===============================================\n",
    "#\n",
    "list_to_clear = [1, 2, 3, 4, 5, 6]\n",
    "list_to_clear.clear()\n",
    "list_to_clear"
   ]
  },
  {
   "cell_type": "code",
   "execution_count": 42,
   "id": "1d89f62f-8ac8-4883-8efe-13acb409db9c",
   "metadata": {},
   "outputs": [
    {
     "data": {
      "text/plain": [
       "25"
      ]
     },
     "execution_count": 42,
     "metadata": {},
     "output_type": "execute_result"
    }
   ],
   "source": [
    "#\n",
    "# Método pop\n",
    "# ===============================================\n",
    "#\n",
    "squares_list.pop()"
   ]
  },
  {
   "cell_type": "code",
   "execution_count": 43,
   "id": "de24a3ab-0952-4c71-b828-e767f9ef4cd9",
   "metadata": {},
   "outputs": [
    {
     "data": {
      "text/plain": [
       "[1, 4, 9, 16]"
      ]
     },
     "execution_count": 43,
     "metadata": {},
     "output_type": "execute_result"
    }
   ],
   "source": [
    "#\n",
    "# Contenido de squares despues de pop()\n",
    "#\n",
    "squares_list"
   ]
  },
  {
   "cell_type": "code",
   "execution_count": 44,
   "id": "88820e9a-51cb-4bc7-8114-0515ea2fffca",
   "metadata": {},
   "outputs": [
    {
     "data": {
      "text/plain": [
       "[4, 9, 16]"
      ]
     },
     "execution_count": 44,
     "metadata": {},
     "output_type": "execute_result"
    }
   ],
   "source": [
    "#\n",
    "# Pop() indicando la posición\n",
    "#\n",
    "squares_list.pop(0)\n",
    "squares_list"
   ]
  },
  {
   "cell_type": "code",
   "execution_count": 45,
   "id": "d47d8181-0b20-4eb6-badf-553e03a169bf",
   "metadata": {},
   "outputs": [
    {
     "data": {
      "text/plain": [
       "[0, 1, 2, 3, 4, 5, 6, 7, 8, 9]"
      ]
     },
     "execution_count": 45,
     "metadata": {},
     "output_type": "execute_result"
    }
   ],
   "source": [
    "#\n",
    "# Método extend\n",
    "# ===============================================\n",
    "#\n",
    "list_a = [0, 1, 2, 3, 4, 5]\n",
    "list_b = [6, 7, 8, 9]\n",
    "\n",
    "#\n",
    "# Agrega lista_b al final de lista_a\n",
    "#\n",
    "list_a.extend(list_b)\n",
    "list_a"
   ]
  },
  {
   "cell_type": "code",
   "execution_count": 46,
   "id": "77aadffd-242f-47cf-a65e-728ef7575380",
   "metadata": {},
   "outputs": [
    {
     "data": {
      "text/plain": [
       "[0, 1, 2, 3, 4, 5, 6, 7, 8, 9]"
      ]
     },
     "execution_count": 46,
     "metadata": {},
     "output_type": "execute_result"
    }
   ],
   "source": [
    "#\n",
    "# Método extend\n",
    "#\n",
    "lista_a = [0, 1, 2, 3, 4, 5, 6]\n",
    "lista_b = [7, 8, 9]\n",
    "\n",
    "#\n",
    "# Se agrega lista_b al final de lista_a\n",
    "#\n",
    "lista_a.extend(lista_b)    \n",
    "lista_a"
   ]
  },
  {
   "cell_type": "code",
   "execution_count": 47,
   "id": "d7df8697-4089-4994-8f50-b3d8c9bcb4c1",
   "metadata": {},
   "outputs": [
    {
     "data": {
      "text/plain": [
       "['a', 0, 1, 2, 3, 4, 5, 6, 7, 8, 9]"
      ]
     },
     "execution_count": 47,
     "metadata": {},
     "output_type": "execute_result"
    }
   ],
   "source": [
    "#\n",
    "# Método insert\n",
    "# ===============================================\n",
    "#\n",
    "list_a.insert(0, 'a')  \n",
    "list_a"
   ]
  },
  {
   "cell_type": "code",
   "execution_count": 48,
   "id": "62bc5132-d763-4a42-925e-cfbf631106e7",
   "metadata": {},
   "outputs": [
    {
     "data": {
      "text/plain": [
       "3"
      ]
     },
     "execution_count": 48,
     "metadata": {},
     "output_type": "execute_result"
    }
   ],
   "source": [
    "#\n",
    "# Método count\n",
    "# ===============================================\n",
    "#\n",
    "list_c = ['a', 'b', 'b', 'c', 'c', 'c', 'd', 'd', 'd', 'd']\n",
    "\n",
    "#\n",
    "# Cantidad de veces que aparece 'c'.\n",
    "#\n",
    "list_c.count('c')"
   ]
  },
  {
   "cell_type": "code",
   "execution_count": 49,
   "id": "81953a7c-337c-4711-a332-3ebd6ec26c0f",
   "metadata": {},
   "outputs": [
    {
     "data": {
      "text/plain": [
       "Counter({'a': 1, 'b': 2, 'c': 3, 'd': 4})"
      ]
     },
     "execution_count": 49,
     "metadata": {},
     "output_type": "execute_result"
    }
   ],
   "source": [
    "#\n",
    "# Para contar todos los elementos resulta más\n",
    "# apropiado usar el objecto Counter del \n",
    "# modulo collections\n",
    "#\n",
    "from collections import Counter\n",
    "\n",
    "Counter(list_c)"
   ]
  },
  {
   "cell_type": "code",
   "execution_count": 50,
   "id": "29369f31-4acc-4fa7-9085-98e599b1fea0",
   "metadata": {},
   "outputs": [
    {
     "data": {
      "text/plain": [
       "[('d', 4), ('c', 3)]"
      ]
     },
     "execution_count": 50,
     "metadata": {},
     "output_type": "execute_result"
    }
   ],
   "source": [
    "#\n",
    "# Mas común\n",
    "#\n",
    "Counter(list_c).most_common(2)"
   ]
  },
  {
   "cell_type": "code",
   "execution_count": 51,
   "id": "d71f1a89-c9ae-414d-a345-68da6f9c3e7a",
   "metadata": {},
   "outputs": [
    {
     "data": {
      "text/plain": [
       "3"
      ]
     },
     "execution_count": 51,
     "metadata": {},
     "output_type": "execute_result"
    }
   ],
   "source": [
    "#\n",
    "# Método index\n",
    "# ===============================================\n",
    "#\n",
    "list_c = ['a', 'b', 'b', 'c', 'c', 'c', 'd', 'd', 'd', 'd']\n",
    "list_c.index('c')"
   ]
  },
  {
   "cell_type": "code",
   "execution_count": 52,
   "id": "41577d1b-622d-48eb-977f-0669e9e8666b",
   "metadata": {},
   "outputs": [],
   "source": [
    "#\n",
    "# Elemento que no está en la lista\n",
    "# "
   ]
  },
  {
   "cell_type": "markdown",
   "id": "eb639bec-da47-4fc9-ab44-c7e8e0a0766e",
   "metadata": {
    "tags": []
   },
   "source": [
    "![element_not_in_list](assets/element_not_in_list.png)"
   ]
  },
  {
   "cell_type": "code",
   "execution_count": 53,
   "id": "d0752526-4be4-4f44-9f71-95bb11d7ea4f",
   "metadata": {},
   "outputs": [
    {
     "data": {
      "text/plain": [
       "['a', 'c', 'd', 'e', 'f', 'g']"
      ]
     },
     "execution_count": 53,
     "metadata": {},
     "output_type": "execute_result"
    }
   ],
   "source": [
    "#\n",
    "# Método remove\n",
    "# ===============================================\n",
    "#\n",
    "letters_list = ['a', 'b', 'c', 'd', 'e', 'f', 'g']\n",
    "letters_list.remove('b')\n",
    "letters_list"
   ]
  },
  {
   "cell_type": "code",
   "execution_count": 54,
   "id": "d679d719-4959-464b-b6d1-8abcb80b3012",
   "metadata": {},
   "outputs": [
    {
     "data": {
      "text/plain": [
       "['g', 'f', 'e', 'd', 'c', 'b', 'a']"
      ]
     },
     "execution_count": 54,
     "metadata": {},
     "output_type": "execute_result"
    }
   ],
   "source": [
    "#\n",
    "# Método reverse\n",
    "# ===============================================\n",
    "#\n",
    "letters_list = ['a', 'b', 'c', 'd', 'e', 'f', 'g']\n",
    "\n",
    "letters_list.reverse()\n",
    "letters_list"
   ]
  },
  {
   "cell_type": "code",
   "execution_count": 55,
   "id": "942d98b5-2242-414e-8a35-58ed250bbfd8",
   "metadata": {},
   "outputs": [
    {
     "data": {
      "text/plain": [
       "['g', 'f', 'e', 'd', 'c', 'b', 'a']"
      ]
     },
     "execution_count": 55,
     "metadata": {},
     "output_type": "execute_result"
    }
   ],
   "source": [
    "#\n",
    "# Método sort\n",
    "# ===============================================\n",
    "#\n",
    "letters_list = ['a', 'b', 'c', 'd', 'e', 'f', 'g']\n",
    "letters_list.sort(reverse=True)\n",
    "letters_list"
   ]
  },
  {
   "cell_type": "code",
   "execution_count": 56,
   "id": "bf18cc6b-00f1-4143-9696-f839f6a7dcd9",
   "metadata": {},
   "outputs": [
    {
     "data": {
      "text/plain": [
       "[(10, 'b'), (8, 'a'), (12, 'd'), (9, 'c')]"
      ]
     },
     "execution_count": 56,
     "metadata": {},
     "output_type": "execute_result"
    }
   ],
   "source": [
    "#\n",
    "# Lista de tuplas\n",
    "#\n",
    "tuples_list = [(10, 'b'), (8, 'a'), (12, 'd'), (9, 'c')]\n",
    "tuples_list"
   ]
  },
  {
   "cell_type": "code",
   "execution_count": 57,
   "id": "f4e1b34b-3bb6-42af-9aed-7f54dfb636a1",
   "metadata": {},
   "outputs": [
    {
     "data": {
      "text/plain": [
       "[(12, 'd'), (10, 'b'), (9, 'c'), (8, 'a')]"
      ]
     },
     "execution_count": 57,
     "metadata": {},
     "output_type": "execute_result"
    }
   ],
   "source": [
    "from operator import itemgetter\n",
    "\n",
    "tuples_list.sort(key=itemgetter(0), reverse=True)\n",
    "tuples_list"
   ]
  },
  {
   "cell_type": "code",
   "execution_count": 58,
   "id": "0cbd4a8a-13e9-400f-9cba-d2b696509b5f",
   "metadata": {},
   "outputs": [
    {
     "data": {
      "text/plain": [
       "['g', 'f', 'e', 'd', 'c', 'b', 'a']"
      ]
     },
     "execution_count": 58,
     "metadata": {},
     "output_type": "execute_result"
    }
   ],
   "source": [
    "#\n",
    "# Función sorted\n",
    "# ===============================================\n",
    "#\n",
    "letters_list = ['a', 'b', 'c', 'd', 'e', 'f', 'g']\n",
    "sorted(letters_list, reverse=True)"
   ]
  },
  {
   "cell_type": "code",
   "execution_count": 59,
   "id": "8347efed-c11e-40b8-9b61-b368b6767005",
   "metadata": {},
   "outputs": [
    {
     "data": {
      "text/plain": [
       "['a', 'b', 'c', 'd', 'e', 'f', 'g']"
      ]
     },
     "execution_count": 59,
     "metadata": {},
     "output_type": "execute_result"
    }
   ],
   "source": [
    "#\n",
    "# La lista original queda intacta\n",
    "#\n",
    "letters_list"
   ]
  },
  {
   "cell_type": "code",
   "execution_count": 60,
   "id": "0f45198a-bb42-43ce-94d6-3bc1f68a9f35",
   "metadata": {},
   "outputs": [
    {
     "data": {
      "text/plain": [
       "[(8, 'a'), (10, 'b'), (9, 'c'), (12, 'd')]"
      ]
     },
     "execution_count": 60,
     "metadata": {},
     "output_type": "execute_result"
    }
   ],
   "source": [
    "#\n",
    "# Ordenamiento de listas complejas con sorted\n",
    "#\n",
    "tuples_list = [(10, 'b'), (8, 'a'), (12, 'd'), (9, 'c')]\n",
    "sorted(tuples_list, key=itemgetter(1), reverse=False)"
   ]
  },
  {
   "cell_type": "markdown",
   "id": "7fae10f3-e44e-475a-8195-96ee85d38c19",
   "metadata": {},
   "source": [
    "## Efectos colaterales y método copy"
   ]
  },
  {
   "cell_type": "code",
   "execution_count": 61,
   "id": "9b0c9d50-3e46-4d44-9889-667d5948a362",
   "metadata": {},
   "outputs": [
    {
     "data": {
      "text/plain": [
       "[0, 1, 2, 3, 4, 5, 6]"
      ]
     },
     "execution_count": 61,
     "metadata": {},
     "output_type": "execute_result"
    }
   ],
   "source": [
    "list_a = [0, 1, 2, 3, 4, 5, 6]\n",
    "list_b = list_a\n",
    "list_b"
   ]
  },
  {
   "cell_type": "code",
   "execution_count": 62,
   "id": "0e786199-66ca-442e-8bea-20e375bd9449",
   "metadata": {},
   "outputs": [
    {
     "data": {
      "text/plain": [
       "6"
      ]
     },
     "execution_count": 62,
     "metadata": {},
     "output_type": "execute_result"
    }
   ],
   "source": [
    "#\n",
    "# Se elimina el último elemento \n",
    "# de list_b\n",
    "#\n",
    "list_b.pop()"
   ]
  },
  {
   "cell_type": "code",
   "execution_count": 63,
   "id": "10117b7c-bd92-4dec-897f-a3eb6507cf99",
   "metadata": {},
   "outputs": [
    {
     "data": {
      "text/plain": [
       "[0, 1, 2, 3, 4, 5]"
      ]
     },
     "execution_count": 63,
     "metadata": {},
     "output_type": "execute_result"
    }
   ],
   "source": [
    "#\n",
    "# Tambien se elimino de list_a !!!\n",
    "#\n",
    "list_a"
   ]
  },
  {
   "cell_type": "code",
   "execution_count": 64,
   "id": "2088644b-646c-4f7d-9406-1f102b1f51c6",
   "metadata": {},
   "outputs": [
    {
     "data": {
      "text/plain": [
       "[0, 1, 2, 3, 4, 5]"
      ]
     },
     "execution_count": 64,
     "metadata": {},
     "output_type": "execute_result"
    }
   ],
   "source": [
    "#\n",
    "# Solución usando el operador copy()\n",
    "# Tambien podria usarse:\n",
    "#\n",
    "#  list_b = list_a[:]\n",
    "#  list_b = list(list_a)\n",
    "#\n",
    "list_a = [0, 1, 2, 3, 4, 5, 6]\n",
    "list_b = list_a.copy()\n",
    "list_b.pop()\n",
    "list_b"
   ]
  },
  {
   "cell_type": "code",
   "execution_count": 65,
   "id": "e8cf9656-76b5-4b6d-86cf-3ebeae7e0500",
   "metadata": {
    "tags": []
   },
   "outputs": [
    {
     "data": {
      "text/plain": [
       "[0, 1, 2, 3, 4, 5, 6]"
      ]
     },
     "execution_count": 65,
     "metadata": {},
     "output_type": "execute_result"
    }
   ],
   "source": [
    "list_a"
   ]
  },
  {
   "cell_type": "code",
   "execution_count": 66,
   "id": "6718ea06-b78f-4368-8651-1b0c4127f0f9",
   "metadata": {},
   "outputs": [
    {
     "data": {
      "text/plain": [
       "[0, 1, 2, 3, 4, 5]"
      ]
     },
     "execution_count": 66,
     "metadata": {},
     "output_type": "execute_result"
    }
   ],
   "source": [
    "list_a = [0, 1, 2, 3, 4, 5, 6]\n",
    "list_b = list(list_a)\n",
    "list_b.pop()\n",
    "list_b"
   ]
  },
  {
   "cell_type": "code",
   "execution_count": 67,
   "id": "7334c54c-7591-455b-8861-7f6d73e66da2",
   "metadata": {},
   "outputs": [
    {
     "data": {
      "text/plain": [
       "[0, 1, 2, 3, 4, 5, 6]"
      ]
     },
     "execution_count": 67,
     "metadata": {},
     "output_type": "execute_result"
    }
   ],
   "source": [
    "list_a"
   ]
  },
  {
   "cell_type": "markdown",
   "id": "95f12cff-2ef4-46b6-b79d-83dfbecf3a94",
   "metadata": {
    "tags": []
   },
   "source": [
    "## Funciones filter, map y reduce"
   ]
  },
  {
   "cell_type": "code",
   "execution_count": 68,
   "id": "39e21db7-b2ef-4c8c-8599-a7499f985328",
   "metadata": {},
   "outputs": [
    {
     "data": {
      "text/plain": [
       "<filter at 0x7ffbcc5b27b8>"
      ]
     },
     "execution_count": 68,
     "metadata": {},
     "output_type": "execute_result"
    }
   ],
   "source": [
    "#\n",
    "# Filter retorna los elementos para los \n",
    "# cuales el condicional da verdadero\n",
    "#\n",
    "list_a = [0, 1, 2, 3, 4, 5, 6, 7, 8, 9]\n",
    "filter(lambda element: element > 4, list_a)"
   ]
  },
  {
   "cell_type": "code",
   "execution_count": 69,
   "id": "eaa9dea5-37dc-49cc-af28-f840590463e8",
   "metadata": {},
   "outputs": [
    {
     "data": {
      "text/plain": [
       "[10, 11, 12, 13, 14, 15, 16, 17, 18, 19]"
      ]
     },
     "execution_count": 69,
     "metadata": {},
     "output_type": "execute_result"
    }
   ],
   "source": [
    "#\n",
    "# Map aplica una función a cada elemento\n",
    "# de la lista\n",
    "#\n",
    "list_a = [0, 1, 2, 3, 4, 5, 6, 7, 8, 9]\n",
    "\n",
    "#\n",
    "# La función devuelve un iterador por lo\n",
    "# que se debe usar list() para visualizar\n",
    "# los elementos\n",
    "#\n",
    "list(map(lambda element: element + 10, list_a))"
   ]
  },
  {
   "cell_type": "code",
   "execution_count": 70,
   "id": "0d632383-3b6c-4a70-b93e-215e4c342453",
   "metadata": {},
   "outputs": [
    {
     "data": {
      "text/plain": [
       "21"
      ]
     },
     "execution_count": 70,
     "metadata": {},
     "output_type": "execute_result"
    }
   ],
   "source": [
    "from functools import reduce\n",
    "\n",
    "my_list = [1, 2, 3, 4, 5, 6]\n",
    "\n",
    "reduce(lambda item_1, item_2: item_1 + item_2, my_list)"
   ]
  },
  {
   "cell_type": "code",
   "execution_count": null,
   "id": "c91e6784-d01d-4903-a772-582efddba72e",
   "metadata": {},
   "outputs": [],
   "source": []
  }
 ],
 "metadata": {
  "kernelspec": {
   "display_name": "Python 3",
   "language": "python",
   "name": "python3"
  },
  "language_info": {
   "codemirror_mode": {
    "name": "ipython",
    "version": 3
   },
   "file_extension": ".py",
   "mimetype": "text/x-python",
   "name": "python",
   "nbconvert_exporter": "python",
   "pygments_lexer": "ipython3",
   "version": "3.6.9"
  }
 },
 "nbformat": 4,
 "nbformat_minor": 5
}
