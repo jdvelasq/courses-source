{
 "cells": [
  {
   "cell_type": "markdown",
   "id": "0ff51f78-7a53-437f-822a-e0ade6730946",
   "metadata": {},
   "source": [
    "Iteradores y generadores\n",
    "===\n",
    "\n",
    "* *90:00 min* | Última modificación: Agosto 26, 2021 | [YouTube]"
   ]
  },
  {
   "cell_type": "code",
   "execution_count": null,
   "id": "8da46b0c-16e7-459e-89b0-802b97ce7fbb",
   "metadata": {},
   "outputs": [],
   "source": [
    "squares = []\n",
    "for x in range(10):\n",
    "    squares.append(x**2)\n",
    "\n",
    "squares"
   ]
  },
  {
   "cell_type": "code",
   "execution_count": null,
   "id": "9e13f4cd-74e1-4b49-8015-2649447d4e1b",
   "metadata": {},
   "outputs": [],
   "source": [
    "squares = list(map(lambda x: x**2, range(10)))\n",
    "squares"
   ]
  },
  {
   "cell_type": "code",
   "execution_count": null,
   "id": "3d8d29c0-7be5-4ab4-9d5f-8fd1c29a71d0",
   "metadata": {},
   "outputs": [],
   "source": [
    "squares = [x**2 for x in range(10)]\n",
    "squares"
   ]
  },
  {
   "cell_type": "code",
   "execution_count": null,
   "id": "ee064209-296e-4e34-a204-c903c5cf6fc4",
   "metadata": {},
   "outputs": [],
   "source": [
    "[(x, y) for x in [1,2,3] for y in [3,1,4] if x != y]"
   ]
  },
  {
   "cell_type": "code",
   "execution_count": null,
   "id": "dbdacc77-00cd-40e1-adeb-108d49368e2a",
   "metadata": {},
   "outputs": [],
   "source": [
    "combs = []\n",
    "for x in [1,2,3]:\n",
    "    for y in [3,1,4]:\n",
    "        if x != y:\n",
    "            combs.append((x, y))\n",
    "\n",
    "combs\n"
   ]
  },
  {
   "cell_type": "code",
   "execution_count": null,
   "id": "85ab7f16-2de0-4ca4-913b-d9ed85ca3089",
   "metadata": {},
   "outputs": [],
   "source": [
    "# llamada de un metodo sobre cada elemento\n",
    "x = ['  a a', '  a a  ', 'a a  ']\n",
    "[y.strip() for y in x]  # elimina los espacios en blanco que delimitan la cadena"
   ]
  },
  {
   "cell_type": "code",
   "execution_count": null,
   "id": "421d1f84-e43d-43be-a47f-940eb9cde7e8",
   "metadata": {},
   "outputs": [],
   "source": [
    "['linea ' + str(i) for i in range(1, 6)]"
   ]
  },
  {
   "cell_type": "code",
   "execution_count": null,
   "id": "4458953b-10f0-4bb9-9d61-87be9b4cca37",
   "metadata": {},
   "outputs": [],
   "source": [
    "for x in ['linea ' + str(i) for i in range(1, 6)]:\n",
    "    print(x)"
   ]
  },
  {
   "cell_type": "code",
   "execution_count": null,
   "id": "b8de0085-b968-4ef2-8ec8-d7afc024844e",
   "metadata": {},
   "outputs": [],
   "source": [
    "# numeros del 1 al 20 que contienen un '1'\n",
    "import re\n",
    "[str(x) for x in range(1,21) if re.search('1', str(x))]"
   ]
  },
  {
   "cell_type": "code",
   "execution_count": null,
   "id": "87256a3a-e254-4586-b228-abbdda1859e6",
   "metadata": {},
   "outputs": [],
   "source": [
    "# números del 1 al 20 que finanlizan con un '1'\n",
    "import re\n",
    "[str(x) for x in range(1,21) if re.search('1$', str(x))]"
   ]
  },
  {
   "cell_type": "code",
   "execution_count": null,
   "id": "ad6eafdd-5cc6-49af-9966-664a54315b4b",
   "metadata": {},
   "outputs": [],
   "source": [
    "# extrae los caracteres en las posiciones 2, 3 y 4\n",
    "x = [\"123456790\",\n",
    "     \"abcdefghi\",\n",
    "     \"jklmnopqr\" ]\n",
    "[m[2:5] for m in x]"
   ]
  },
  {
   "cell_type": "code",
   "execution_count": null,
   "id": "339ea61c-7883-496d-9698-4cd82a985be5",
   "metadata": {},
   "outputs": [],
   "source": [
    "# extrae la segunda palabra de cada línea\n",
    "x = [\"Bash is a Unix shell and command language\",\n",
    "     \"written by Brian Fox for the \",\n",
    "     \"GNU Project as a free software\",\n",
    "     \"replacement for the Bourne shell.\"]\n",
    "[m.split(' ')[1] for m in x]"
   ]
  },
  {
   "cell_type": "code",
   "execution_count": null,
   "id": "8bbe2eee-b01b-4a6d-9b68-413b4a081282",
   "metadata": {},
   "outputs": [],
   "source": [
    "## iteracción sobre strings -- MAL\n",
    "nums = \"\"\n",
    "for n in range(20):\n",
    "  nums += str(n)   # Lento e ineficiente\n",
    "print(nums)"
   ]
  },
  {
   "cell_type": "code",
   "execution_count": null,
   "id": "d87204e2-1997-4b2b-8849-56c9bfed1ed9",
   "metadata": {},
   "outputs": [],
   "source": [
    "## iteración sobre strings -- BIEN\n",
    "nums = []\n",
    "for n in range(20):\n",
    "  nums.append(str(n))\n",
    "print(\"\".join(nums))  # más eficiente"
   ]
  },
  {
   "cell_type": "code",
   "execution_count": null,
   "id": "7785a823-928b-43ee-871b-ccd84f14e1b9",
   "metadata": {},
   "outputs": [],
   "source": [
    "# iteración sobre strings -- MEJOR\n",
    "nums = [str(n) for n in range(20)]\n",
    "print(\"\".join(nums))"
   ]
  },
  {
   "cell_type": "code",
   "execution_count": null,
   "id": "630617d5-b36a-4433-831a-4b221d0dd3b9",
   "metadata": {},
   "outputs": [],
   "source": [
    "# también se pueden crear tuplas.\n",
    "[(x, x**2) for x in range(6)]"
   ]
  },
  {
   "cell_type": "code",
   "execution_count": null,
   "id": "960e9c53-31cb-4cfa-99ee-cd8afa504c93",
   "metadata": {},
   "outputs": [],
   "source": [
    "vec = [[1,2,3],\n",
    "       [4,5,6],\n",
    "       [7,8,9]]\n",
    "[num for elem in vec for num in elem]"
   ]
  },
  {
   "cell_type": "code",
   "execution_count": null,
   "id": "52985611-3bc5-43a5-85c9-16bb77dcad84",
   "metadata": {},
   "outputs": [],
   "source": [
    "from math import pi  # otro ejemplo\n",
    "[str(round(pi, i)) for i in range(1, 6)]"
   ]
  },
  {
   "cell_type": "code",
   "execution_count": null,
   "id": "a69c5e7b-5218-46ab-b3a4-f70814c5ddac",
   "metadata": {},
   "outputs": [],
   "source": [
    "## se simula una matriz como una lista cuyos elementos son listas de números.\n",
    "matrix = [\n",
    "    [1, 2, 3, 4],\n",
    "    [5, 6, 7, 8],\n",
    "    [9, 10, 11, 12],\n",
    "]"
   ]
  },
  {
   "cell_type": "code",
   "execution_count": null,
   "id": "345350e9-6c20-43f7-a3cf-4699bbfb2191",
   "metadata": {},
   "outputs": [],
   "source": [
    "## se calcula la transpuesta\n",
    "[[row[i] for row in matrix] for i in range(4)]"
   ]
  },
  {
   "cell_type": "code",
   "execution_count": null,
   "id": "da0e1d87-25bb-4d75-9ea6-1afbf6f28263",
   "metadata": {},
   "outputs": [],
   "source": [
    "## este es el codigo equivalente tradicional.\n",
    "transposed = []\n",
    "for i in range(4):\n",
    "    transposed.append([row[i] for row in matrix])\n",
    "\n",
    "transposed"
   ]
  },
  {
   "cell_type": "code",
   "execution_count": null,
   "id": "6a5a799b-bdc1-4c2e-ba82-6d23a40b7ced",
   "metadata": {},
   "outputs": [],
   "source": [
    "# otro codigo equivalente.\n",
    "transposed = []\n",
    "for i in range(4):\n",
    "    # the following 3 lines implement the nested listcomp\n",
    "    transposed_row = []\n",
    "    for row in matrix:\n",
    "        transposed_row.append(row[i])\n",
    "    transposed.append(transposed_row)\n",
    "\n",
    "transposed"
   ]
  },
  {
   "cell_type": "code",
   "execution_count": null,
   "id": "ae36cc58-3c01-4f97-ad5f-1bdf07002e68",
   "metadata": {},
   "outputs": [],
   "source": []
  },
  {
   "cell_type": "code",
   "execution_count": null,
   "id": "e7f4808c-cf4d-4df0-9c79-3bc86c51d9ae",
   "metadata": {},
   "outputs": [],
   "source": []
  },
  {
   "cell_type": "code",
   "execution_count": null,
   "id": "a791ef49-7339-420f-940f-e8cd05f7854b",
   "metadata": {},
   "outputs": [],
   "source": []
  },
  {
   "cell_type": "code",
   "execution_count": 89,
   "id": "c905425c-cde9-48a8-ac26-0029dce0a85a",
   "metadata": {},
   "outputs": [
    {
     "data": {
      "text/plain": [
       "{'d', 'r'}"
      ]
     },
     "execution_count": 89,
     "metadata": {},
     "output_type": "execute_result"
    }
   ],
   "source": [
    "# List comprenhensions en conjuntos\n",
    "a = {x for x in 'abracadabra' if x not in 'abc'} # letras que estan en `abracadabra` y no están en `abc`.\n",
    "a"
   ]
  },
  {
   "cell_type": "code",
   "execution_count": 98,
   "id": "d439afbd-2232-4430-92cf-4bcad5ff5ddf",
   "metadata": {},
   "outputs": [
    {
     "data": {
      "text/plain": [
       "{2: 4, 4: 16, 6: 36}"
      ]
     },
     "execution_count": 98,
     "metadata": {},
     "output_type": "execute_result"
    }
   ],
   "source": [
    "# también se pueden crear diccionarios usando comprenhensions\n",
    "{x: x**2 for x in (2, 4, 6)}"
   ]
  },
  {
   "cell_type": "markdown",
   "id": "fc91c100-5851-439e-8ed5-5c787a5c73bd",
   "metadata": {},
   "source": [
    "## Ejemplos"
   ]
  },
  {
   "cell_type": "code",
   "execution_count": null,
   "id": "6fe46c3e-d7d4-4905-a84b-64adbe8442aa",
   "metadata": {},
   "outputs": [],
   "source": [
    "%%writefile out.1\n",
    "Date, Year, CustomerID, Value\n",
    "2013-01-12, 2013, 1, 100\n",
    "2014-05-12, 2014, 1, 100\n",
    "2013-02-25, 2013, 2, 200\n",
    "2013-04-04, 2013, 1, 100\n",
    "2013-06-21, 2013, 2, 200\n",
    "2014-05-18, 2014, 1, 100\n",
    "2014-06-23, 2014, 2, 200\n",
    "2013-02-28, 2013, 1, 100\n",
    "2013-08-02, 2013, 1, 100"
   ]
  },
  {
   "cell_type": "code",
   "execution_count": null,
   "id": "6d83dd54-65c4-4ffe-b4d5-0479fedf70c4",
   "metadata": {},
   "outputs": [],
   "source": [
    "x = open('out.1','r').readlines()\n",
    "x"
   ]
  },
  {
   "cell_type": "code",
   "execution_count": null,
   "id": "43f40caf-06b6-4c17-97ca-29b6d49bf05b",
   "metadata": {},
   "outputs": [],
   "source": [
    "x = [z.replace('\\n', '') for z in x]\n",
    "x"
   ]
  },
  {
   "cell_type": "code",
   "execution_count": null,
   "id": "94c1544f-9283-4a71-bd17-cb72aff6d8b2",
   "metadata": {},
   "outputs": [],
   "source": [
    "x = [z.split(',') for z in x]\n",
    "x"
   ]
  },
  {
   "cell_type": "code",
   "execution_count": null,
   "id": "258bd496-5166-4515-b674-5a1fe8ce9eeb",
   "metadata": {},
   "outputs": [],
   "source": [
    "# extrae el campo Date\n",
    "[z[0] for z in x[1:]]"
   ]
  },
  {
   "cell_type": "code",
   "execution_count": null,
   "id": "aeda67b1-b874-446b-8ab1-bfc29c43a3c8",
   "metadata": {},
   "outputs": [],
   "source": [
    "# separa Date en sus partes\n",
    "[z[0].split('-') for z in x[1:]]"
   ]
  },
  {
   "cell_type": "code",
   "execution_count": null,
   "id": "bc11add7-dc78-4d03-a75f-7795693ffc81",
   "metadata": {},
   "outputs": [],
   "source": [
    "# el mes ocupa la posicion 1\n",
    "[z[0].split('-')[1] for z in x[1:]] # el mes"
   ]
  },
  {
   "cell_type": "code",
   "execution_count": null,
   "id": "085fde41-82be-4f6e-96cf-383b3c53081f",
   "metadata": {},
   "outputs": [],
   "source": [
    "x[1:] = [z+[z[0].split('-')[1]] for z in x[1:]]\n",
    "x"
   ]
  },
  {
   "cell_type": "code",
   "execution_count": null,
   "id": "5f0d17c3-e5b8-409d-98e8-f347db8f95af",
   "metadata": {},
   "outputs": [],
   "source": [
    "x[0].append('Month')\n",
    "x"
   ]
  },
  {
   "cell_type": "code",
   "execution_count": null,
   "id": "0349bdab-3a08-4cac-8ebc-4f1b7bad3b22",
   "metadata": {},
   "outputs": [],
   "source": [
    "[z for z in x if z[1] == ' 2013']"
   ]
  },
  {
   "cell_type": "code",
   "execution_count": null,
   "id": "734da56c-50b7-4304-9a1c-6d7842bb4983",
   "metadata": {},
   "outputs": [],
   "source": []
  }
 ],
 "metadata": {
  "kernelspec": {
   "display_name": "Python 3",
   "language": "python",
   "name": "python3"
  },
  "language_info": {
   "codemirror_mode": {
    "name": "ipython",
    "version": 3
   },
   "file_extension": ".py",
   "mimetype": "text/x-python",
   "name": "python",
   "nbconvert_exporter": "python",
   "pygments_lexer": "ipython3",
   "version": "3.6.9"
  }
 },
 "nbformat": 4,
 "nbformat_minor": 5
}
