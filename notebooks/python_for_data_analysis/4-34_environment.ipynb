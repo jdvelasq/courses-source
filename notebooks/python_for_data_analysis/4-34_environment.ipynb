{
 "cells": [
  {
   "cell_type": "markdown",
   "id": "b96c1a52-8adc-4cde-96be-d192234c48d7",
   "metadata": {},
   "source": [
    "Variables de ambiente y ejecución de comandos del sistema operativo --- 6:06 min\n",
    "===\n",
    "\n",
    "* 6:06 min | Última modificación: Octubre 12, 2021 | [YouTube](https://youtu.be/Zz1RCvvBrqk)"
   ]
  },
  {
   "cell_type": "code",
   "execution_count": 1,
   "id": "219dad44-843b-4c60-8c65-eae6cab6b2e8",
   "metadata": {},
   "outputs": [
    {
     "data": {
      "text/plain": [
       "environ{'LANG': 'C.UTF-8',\n",
       "        'HOSTNAME': '91bdd17406c3',\n",
       "        'PWD': '/datalake',\n",
       "        'HOME': '/root',\n",
       "        'DEBIAN_FRONTEND': 'dialog',\n",
       "        'TERM': 'xterm-color',\n",
       "        'SHLVL': '1',\n",
       "        'PATH': '/usr/local/sbin:/usr/local/bin:/usr/sbin:/usr/bin:/sbin:/bin',\n",
       "        '_': '/usr/local/bin/jupyter',\n",
       "        'JPY_PARENT_PID': '1',\n",
       "        'CLICOLOR': '1',\n",
       "        'PAGER': 'cat',\n",
       "        'GIT_PAGER': 'cat',\n",
       "        'MPLBACKEND': 'module://ipykernel.pylab.backend_inline'}"
      ]
     },
     "execution_count": 1,
     "metadata": {},
     "output_type": "execute_result"
    }
   ],
   "source": [
    "import os\n",
    "\n",
    "#\n",
    "# Variables de ambiente\n",
    "# -----------------------------------------------------------------------------\n",
    "# Note que este es un diccionario de Python\n",
    "#\n",
    "os.environ"
   ]
  },
  {
   "cell_type": "code",
   "execution_count": 2,
   "id": "dc3fbebd-ea9c-4b3d-9a6e-67881e305ab0",
   "metadata": {},
   "outputs": [
    {
     "data": {
      "text/plain": [
       "'/root'"
      ]
     },
     "execution_count": 2,
     "metadata": {},
     "output_type": "execute_result"
    }
   ],
   "source": [
    "#\n",
    "# Lectura del contenido de una de las variables\n",
    "#\n",
    "os.environ[\"HOME\"]"
   ]
  },
  {
   "cell_type": "code",
   "execution_count": 3,
   "id": "bf971094-5b1d-48d9-8b40-22aed22be29a",
   "metadata": {},
   "outputs": [
    {
     "data": {
      "text/plain": [
       "'/datalake/python_for_data_analysis'"
      ]
     },
     "execution_count": 3,
     "metadata": {},
     "output_type": "execute_result"
    }
   ],
   "source": [
    "#\n",
    "# getcwd: get current working directory\n",
    "#\n",
    "os.getcwd()"
   ]
  },
  {
   "cell_type": "code",
   "execution_count": 4,
   "id": "0d9bb309-e44f-4e78-8c2d-2044605085eb",
   "metadata": {},
   "outputs": [
    {
     "name": "stdout",
     "output_type": "stream",
     "text": [
      "---1-19_pandas.ipynb\n",
      "1-01_uso_de_python_como_calculadora.ipynb\n",
      "1-02_operadores.ipynb\n",
      "1-03_funciones_internas.ipynb\n",
      "1-04_strings_slicing.ipynb\n",
      "1-05_string_metodos.ipynb\n",
      "1-06_string_formateados.ipynb\n",
      "1-07_strings_templates.ipynb\n",
      "1-08_string_format_method.ipynb\n",
      "1-09_old_string_formatting.ipynb\n",
      "2-10_listas.ipynb\n",
      "2-11_desempaquetado_de_listas.ipynb\n",
      "2-12_reemplazo_elementos_listas.ipynb\n",
      "2-13_listas_borrado.ipynb\n",
      "2-14_list_methods.ipynb\n",
      "2-15_efectos_colaterales_en_listas.ipynb\n",
      "2-16_funciones_filter_map_y_reduce.ipynb\n",
      "2-17_tuplas.ipynb\n",
      "2-18_conjuntos.ipynb\n",
      "2-19_diccionarios.ipynb\n",
      "3-20_if-elif-else.ipynb\n",
      "3-21_for.ipynb\n",
      "3-22_while.ipynb\n",
      "3-23_funciones.ipynb\n",
      "3-24_funciones_ambito_global_local.ipynb\n",
      "3-25_funciones_side_effects.ipynb\n",
      "3-26_funciones_argumentos.ipynb\n",
      "3-27_lambda.ipynb\n",
      "3-28_funciones_errores_y_excepciones.ipynb\n",
      "4-29_iteradores.ipynb\n",
      "4-30_list_comprenhensions_y_generadores.ipynb\n",
      "4-31_procesamiento_de_archivos.ipynb\n",
      "4-32_fecha_y_hora.ipynb\n",
      "4-33-expresiones-regulares-en-Python.ipynb\n",
      "4-34_environment.ipynb\n",
      "4-35_numpy.ipynb\n",
      "4-36_operaciones_basicas_sobre_datos.ipynb\n",
      "4-37_procesamiento_de_datos_con_python.ipynb\n",
      "assets\n"
     ]
    }
   ],
   "source": [
    "#\n",
    "# Ejecución de un comando de sistema operativo desde jupyter lab\n",
    "# -----------------------------------------------------------------------------\n",
    "# Lista el contenido de la carpeta actual\n",
    "#\n",
    "!ls -1"
   ]
  },
  {
   "cell_type": "code",
   "execution_count": 5,
   "id": "c70c5a0f-09c0-43ea-8f5e-41ea7b894a47",
   "metadata": {},
   "outputs": [
    {
     "data": {
      "text/plain": [
       "['---1-19_pandas.ipynb',\n",
       " '.DS_Store',\n",
       " '.ipynb_checkpoints',\n",
       " '1-01_uso_de_python_como_calculadora.ipynb',\n",
       " '1-02_operadores.ipynb',\n",
       " '1-03_funciones_internas.ipynb',\n",
       " '1-04_strings_slicing.ipynb',\n",
       " '1-05_string_metodos.ipynb',\n",
       " '1-06_string_formateados.ipynb',\n",
       " '1-07_strings_templates.ipynb',\n",
       " '1-08_string_format_method.ipynb',\n",
       " '1-09_old_string_formatting.ipynb',\n",
       " '2-10_listas.ipynb',\n",
       " '2-11_desempaquetado_de_listas.ipynb',\n",
       " '2-12_reemplazo_elementos_listas.ipynb',\n",
       " '2-13_listas_borrado.ipynb',\n",
       " '2-14_list_methods.ipynb',\n",
       " '2-15_efectos_colaterales_en_listas.ipynb',\n",
       " '2-16_funciones_filter_map_y_reduce.ipynb',\n",
       " '2-17_tuplas.ipynb',\n",
       " '2-18_conjuntos.ipynb',\n",
       " '2-19_diccionarios.ipynb',\n",
       " '3-20_if-elif-else.ipynb',\n",
       " '3-21_for.ipynb',\n",
       " '3-22_while.ipynb',\n",
       " '3-23_funciones.ipynb',\n",
       " '3-24_funciones_ambito_global_local.ipynb',\n",
       " '3-25_funciones_side_effects.ipynb',\n",
       " '3-26_funciones_argumentos.ipynb',\n",
       " '3-27_lambda.ipynb',\n",
       " '3-28_funciones_errores_y_excepciones.ipynb',\n",
       " '4-29_iteradores.ipynb',\n",
       " '4-30_list_comprenhensions_y_generadores.ipynb',\n",
       " '4-31_procesamiento_de_archivos.ipynb',\n",
       " '4-32_fecha_y_hora.ipynb',\n",
       " '4-33-expresiones-regulares-en-Python.ipynb',\n",
       " '4-34_environment.ipynb',\n",
       " '4-35_numpy.ipynb',\n",
       " '4-36_operaciones_basicas_sobre_datos.ipynb',\n",
       " '4-37_procesamiento_de_datos_con_python.ipynb',\n",
       " 'assets']"
      ]
     },
     "execution_count": 5,
     "metadata": {},
     "output_type": "execute_result"
    }
   ],
   "source": [
    "#\n",
    "# Obtención del contenido actual usando listdir()\n",
    "#\n",
    "os.listdir()"
   ]
  },
  {
   "cell_type": "code",
   "execution_count": 6,
   "id": "e49cf27b-acc1-4770-a308-c0f0d2bf8b9a",
   "metadata": {},
   "outputs": [
    {
     "data": {
      "text/plain": [
       "['.bashrc', '.profile', '.local', '.jupyter', '.ipython', '.cache', '.ssh']"
      ]
     },
     "execution_count": 6,
     "metadata": {},
     "output_type": "execute_result"
    }
   ],
   "source": [
    "#\n",
    "# Con listdir() se puede obtener el contenido de una carpeta particular\n",
    "#\n",
    "os.listdir(\"/root\")"
   ]
  },
  {
   "cell_type": "code",
   "execution_count": 7,
   "id": "a7094758-6481-4ffb-8c0a-53b43fd588eb",
   "metadata": {},
   "outputs": [
    {
     "data": {
      "text/plain": [
       "['---1-19_pandas.ipynb',\n",
       " '1-01_uso_de_python_como_calculadora.ipynb',\n",
       " '1-02_operadores.ipynb',\n",
       " '1-03_funciones_internas.ipynb',\n",
       " '1-04_strings_slicing.ipynb',\n",
       " '1-05_string_metodos.ipynb',\n",
       " '1-06_string_formateados.ipynb',\n",
       " '1-07_strings_templates.ipynb',\n",
       " '1-08_string_format_method.ipynb',\n",
       " '1-09_old_string_formatting.ipynb',\n",
       " '2-10_listas.ipynb',\n",
       " '2-11_desempaquetado_de_listas.ipynb',\n",
       " '2-12_reemplazo_elementos_listas.ipynb',\n",
       " '2-13_listas_borrado.ipynb',\n",
       " '2-14_list_methods.ipynb',\n",
       " '2-15_efectos_colaterales_en_listas.ipynb',\n",
       " '2-16_funciones_filter_map_y_reduce.ipynb',\n",
       " '2-17_tuplas.ipynb',\n",
       " '2-18_conjuntos.ipynb',\n",
       " '2-19_diccionarios.ipynb',\n",
       " '3-20_if-elif-else.ipynb',\n",
       " '3-21_for.ipynb',\n",
       " '3-22_while.ipynb',\n",
       " '3-23_funciones.ipynb',\n",
       " '3-24_funciones_ambito_global_local.ipynb',\n",
       " '3-25_funciones_side_effects.ipynb',\n",
       " '3-26_funciones_argumentos.ipynb',\n",
       " '3-27_lambda.ipynb',\n",
       " '3-28_funciones_errores_y_excepciones.ipynb',\n",
       " '4-29_iteradores.ipynb',\n",
       " '4-30_list_comprenhensions_y_generadores.ipynb',\n",
       " '4-31_procesamiento_de_archivos.ipynb',\n",
       " '4-32_fecha_y_hora.ipynb',\n",
       " '4-33-expresiones-regulares-en-Python.ipynb',\n",
       " '4-34_environment.ipynb',\n",
       " '4-35_numpy.ipynb',\n",
       " '4-36_operaciones_basicas_sobre_datos.ipynb',\n",
       " '4-37_procesamiento_de_datos_con_python.ipynb']"
      ]
     },
     "execution_count": 7,
     "metadata": {},
     "output_type": "execute_result"
    }
   ],
   "source": [
    "#\n",
    "# Uso de glob para especificar wildcards\n",
    "#\n",
    "import glob\n",
    "\n",
    "glob.glob(\"*.ipynb\")"
   ]
  },
  {
   "cell_type": "code",
   "execution_count": 8,
   "id": "e4a14f29-5c8e-4b9c-9c84-a5e7bd32e2b0",
   "metadata": {},
   "outputs": [
    {
     "data": {
      "text/plain": [
       "0"
      ]
     },
     "execution_count": 8,
     "metadata": {},
     "output_type": "execute_result"
    }
   ],
   "source": [
    "#\n",
    "# Ejecución de comandos y captura del retvalue\n",
    "#\n",
    "os.system(\"ls /root\")"
   ]
  },
  {
   "cell_type": "code",
   "execution_count": 9,
   "id": "fc7ef7b7-3ce3-46e8-b5d9-22b6d793a74f",
   "metadata": {},
   "outputs": [
    {
     "name": "stdout",
     "output_type": "stream",
     "text": [
      "---1-19_pandas.ipynb\n",
      "1-01_uso_de_python_como_calculadora.ipynb\n",
      "1-02_operadores.ipynb\n",
      "1-03_funciones_internas.ipynb\n",
      "1-04_strings_slicing.ipynb\n",
      "1-05_string_metodos.ipynb\n",
      "1-06_string_formateados.ipynb\n",
      "1-07_strings_templates.ipynb\n",
      "1-08_string_format_method.ipynb\n",
      "1-09_old_string_formatting.ipynb\n",
      "2-10_listas.ipynb\n",
      "2-11_desempaquetado_de_listas.ipynb\n",
      "2-12_reemplazo_elementos_listas.ipynb\n",
      "2-13_listas_borrado.ipynb\n",
      "2-14_list_methods.ipynb\n",
      "2-15_efectos_colaterales_en_listas.ipynb\n",
      "2-16_funciones_filter_map_y_reduce.ipynb\n",
      "2-17_tuplas.ipynb\n",
      "2-18_conjuntos.ipynb\n",
      "2-19_diccionarios.ipynb\n",
      "3-20_if-elif-else.ipynb\n",
      "3-21_for.ipynb\n",
      "3-22_while.ipynb\n",
      "3-23_funciones.ipynb\n",
      "3-24_funciones_ambito_global_local.ipynb\n",
      "3-25_funciones_side_effects.ipynb\n",
      "3-26_funciones_argumentos.ipynb\n",
      "3-27_lambda.ipynb\n",
      "3-28_funciones_errores_y_excepciones.ipynb\n",
      "4-29_iteradores.ipynb\n",
      "4-30_list_comprenhensions_y_generadores.ipynb\n",
      "4-31_procesamiento_de_archivos.ipynb\n",
      "4-32_fecha_y_hora.ipynb\n",
      "4-33-expresiones-regulares-en-Python.ipynb\n",
      "4-34_environment.ipynb\n",
      "4-35_numpy.ipynb\n",
      "4-36_operaciones_basicas_sobre_datos.ipynb\n",
      "4-37_procesamiento_de_datos_con_python.ipynb\n",
      "assets\n",
      "\n"
     ]
    }
   ],
   "source": [
    "import subprocess\n",
    "\n",
    "output = subprocess.check_output([\"ls\", \"-1\"])\n",
    "output = output.decode(\"UTF-8\")\n",
    "print(output)"
   ]
  }
 ],
 "metadata": {
  "kernelspec": {
   "display_name": "Python 3",
   "language": "python",
   "name": "python3"
  },
  "language_info": {
   "codemirror_mode": {
    "name": "ipython",
    "version": 3
   },
   "file_extension": ".py",
   "mimetype": "text/x-python",
   "name": "python",
   "nbconvert_exporter": "python",
   "pygments_lexer": "ipython3",
   "version": "3.6.9"
  }
 },
 "nbformat": 4,
 "nbformat_minor": 5
}
