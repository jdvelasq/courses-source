{
 "cells": [
  {
   "cell_type": "markdown",
   "id": "b96c1a52-8adc-4cde-96be-d192234c48d7",
   "metadata": {},
   "source": [
    "Introducción a procesos y variables de ambiente\n",
    "===\n",
    "\n",
    "* 0:00 min | Última modificación: Octubre 5, 2021 | [YouTube]"
   ]
  },
  {
   "cell_type": "code",
   "execution_count": 1,
   "id": "219dad44-843b-4c60-8c65-eae6cab6b2e8",
   "metadata": {},
   "outputs": [],
   "source": [
    "import os"
   ]
  },
  {
   "cell_type": "code",
   "execution_count": 2,
   "id": "8a1cc32e-51cf-4b1b-8362-d84d633f58a9",
   "metadata": {},
   "outputs": [
    {
     "data": {
      "text/plain": [
       "environ{'HOSTNAME': 'fc47da7f5164',\n",
       "        'HOME': '/root',\n",
       "        'TERM': 'xterm-color',\n",
       "        'PATH': '/usr/local/sbin:/usr/local/bin:/usr/sbin:/usr/bin:/sbin:/bin',\n",
       "        'LANG': 'C.UTF-8',\n",
       "        'DEBIAN_FRONTEND': 'dialog',\n",
       "        'PWD': '/datalake',\n",
       "        'JPY_PARENT_PID': '25',\n",
       "        'CLICOLOR': '1',\n",
       "        'PAGER': 'cat',\n",
       "        'GIT_PAGER': 'cat',\n",
       "        'MPLBACKEND': 'module://ipykernel.pylab.backend_inline'}"
      ]
     },
     "execution_count": 2,
     "metadata": {},
     "output_type": "execute_result"
    }
   ],
   "source": [
    "os.environ"
   ]
  },
  {
   "cell_type": "code",
   "execution_count": 3,
   "id": "dc3fbebd-ea9c-4b3d-9a6e-67881e305ab0",
   "metadata": {},
   "outputs": [
    {
     "data": {
      "text/plain": [
       "'/root'"
      ]
     },
     "execution_count": 3,
     "metadata": {},
     "output_type": "execute_result"
    }
   ],
   "source": [
    "os.environ['HOME']"
   ]
  },
  {
   "cell_type": "code",
   "execution_count": 4,
   "id": "bf971094-5b1d-48d9-8b40-22aed22be29a",
   "metadata": {},
   "outputs": [
    {
     "data": {
      "text/plain": [
       "'/datalake/python_for_data_analysis'"
      ]
     },
     "execution_count": 4,
     "metadata": {},
     "output_type": "execute_result"
    }
   ],
   "source": [
    "os.getcwd()"
   ]
  },
  {
   "cell_type": "code",
   "execution_count": 5,
   "id": "0d9bb309-e44f-4e78-8c2d-2044605085eb",
   "metadata": {},
   "outputs": [
    {
     "name": "stdout",
     "output_type": "stream",
     "text": [
      "1-01_expresiones_simples.ipynb\n",
      "1-02_listas.ipynb\n",
      "1-03_funciones_internas.ipynb\n",
      "1-04_strings_y_formato.ipynb\n",
      "1-05_tuplas.ipynb\n",
      "1-06_conjuntos.ipynb\n",
      "1-07_diccionarios.ipynb\n",
      "1-08_if-elif-else.ipynb\n",
      "1-09_for.ipynb\n",
      "1-10_while.ipynb\n",
      "1-11_funciones.ipynb\n",
      "1-12_numpy.ipynb\n",
      "1-13_pandas.ipynb\n",
      "1-14_environment.ipynb\n",
      "assets\n"
     ]
    }
   ],
   "source": [
    "!ls -1"
   ]
  },
  {
   "cell_type": "code",
   "execution_count": 6,
   "id": "c70c5a0f-09c0-43ea-8f5e-41ea7b894a47",
   "metadata": {},
   "outputs": [
    {
     "data": {
      "text/plain": [
       "['.DS_Store',\n",
       " '.ipynb_checkpoints',\n",
       " '1-01_expresiones_simples.ipynb',\n",
       " '1-02_listas.ipynb',\n",
       " '1-03_funciones_internas.ipynb',\n",
       " '1-04_strings_y_formato.ipynb',\n",
       " '1-05_tuplas.ipynb',\n",
       " '1-06_conjuntos.ipynb',\n",
       " '1-07_diccionarios.ipynb',\n",
       " '1-08_if-elif-else.ipynb',\n",
       " '1-09_for.ipynb',\n",
       " '1-10_while.ipynb',\n",
       " '1-11_funciones.ipynb',\n",
       " '1-12_numpy.ipynb',\n",
       " '1-13_pandas.ipynb',\n",
       " '1-14_environment.ipynb',\n",
       " 'assets']"
      ]
     },
     "execution_count": 6,
     "metadata": {},
     "output_type": "execute_result"
    }
   ],
   "source": [
    "os.listdir()"
   ]
  },
  {
   "cell_type": "code",
   "execution_count": 7,
   "id": "ea0df679-7f78-4bc6-b172-3a1279245ea1",
   "metadata": {},
   "outputs": [],
   "source": [
    "import subprocess"
   ]
  },
  {
   "cell_type": "code",
   "execution_count": 8,
   "id": "5c469b7a-2afe-4a47-a4eb-b45eb38a02e3",
   "metadata": {},
   "outputs": [
    {
     "data": {
      "text/plain": [
       "0"
      ]
     },
     "execution_count": 8,
     "metadata": {},
     "output_type": "execute_result"
    }
   ],
   "source": [
    "subprocess.call(['ls', '-1'])"
   ]
  },
  {
   "cell_type": "code",
   "execution_count": 10,
   "id": "d99610cd-6bb9-487e-a9fd-fcef9d878ae1",
   "metadata": {},
   "outputs": [
    {
     "name": "stdout",
     "output_type": "stream",
     "text": [
      "b'1-01_expresiones_simples.ipynb\\n1-02_listas.ipynb\\n1-03_funciones_internas.ipynb\\n1-04_strings_y_formato.ipynb\\n1-05_tuplas.ipynb\\n1-06_conjuntos.ipynb\\n1-07_diccionarios.ipynb\\n1-08_if-elif-else.ipynb\\n1-09_for.ipynb\\n1-10_while.ipynb\\n1-11_funciones.ipynb\\n1-12_numpy.ipynb\\n1-13_pandas.ipynb\\n1-14_environment.ipynb\\nassets\\n'\n"
     ]
    }
   ],
   "source": [
    "output = subprocess.check_output(['ls', '-1'])\n",
    "print(output)"
   ]
  },
  {
   "cell_type": "code",
   "execution_count": 11,
   "id": "f589ae45-a627-4674-818f-ed9d229a70d6",
   "metadata": {},
   "outputs": [],
   "source": [
    "from subprocess import Popen, PIPE"
   ]
  },
  {
   "cell_type": "code",
   "execution_count": 12,
   "id": "9bbcf890-aa26-4caf-962f-799869e206ba",
   "metadata": {},
   "outputs": [],
   "source": [
    "process = Popen(['cat', '1-01_expresiones_simples.ipynb'], stdout=PIPE, stderr=PIPE)\n"
   ]
  },
  {
   "cell_type": "code",
   "execution_count": 14,
   "id": "2caf910b-8b65-46ea-b6a5-8a7da382b1b4",
   "metadata": {},
   "outputs": [],
   "source": [
    "stdout, stderr = process.communicate()"
   ]
  },
  {
   "cell_type": "code",
   "execution_count": 15,
   "id": "1ed8972c-9786-445b-94c5-a08e467c8cde",
   "metadata": {},
   "outputs": [
    {
     "data": {
      "text/plain": [
       "b'{\\n \"cells\": [\\n  {\\n   \"cell_type\": \"markdown\",\\n   \"metadata\": {\\n    \"tags\": []\\n   },\\n   \"source\": [\\n    \"Expresiones simples en Python\\\\n\",\\n    \"===\\\\n\",\\n    \"\\\\n\",\\n    \"* *90:00 min* | \\xc3\\x9altima modificaci\\xc3\\xb3n: Agosto 24, 2021 | [YouTube]\"\\n   ]\\n  },\\n  {\\n   \"cell_type\": \"markdown\",\\n   \"metadata\": {},\\n   \"source\": [\\n    \"Python puede ser usado interactivamente como una calculadora para realizar operaciones simples. Este tutorial demuestra su uso.\"\\n   ]\\n  },\\n  {\\n   \"cell_type\": \"markdown\",\\n   \"metadata\": {},\\n   \"source\": [\\n    \"Al final de este tutorial, usted estar\\xc3\\xa1 en capacidad de:\\\\n\",\\n    \"\\\\n\",\\n    \"* Usar operadores aritm\\xc3\\xa9ticos sobre n\\xc3\\xbameros y cadenas de texto.\\\\n\",\\n    \"\\\\n\",\\n    \"* Operar con cadenas de texto.\\\\n\",\\n    \"\\\\n\",\\n    \"* Construir operaciones l\\xc3\\xb3gicas.\\\\n\",\\n    \"\\\\n\",\\n    \"* Usar variables.\\\\n\",\\n    \"\\\\n\",\\n    \"* Describir los tipos b\\xc3\\xa1sicos de datos y sus conversiones.\"\\n   ]\\n  },\\n  {\\n   \"cell_type\": \"markdown\",\\n   \"metadata\": {},\\n   \"source\": [\\n    \"## Operadores aritm\\xc3\\xa9ticos sobre valores num\\xc3\\xa9ricos\"\\n   ]\\n  },\\n  {\\n   \"cell_type\": \"code\",\\n   \"execution_count\": 1,\\n   \"metadata\": {},\\n   \"outputs\": [\\n    {\\n     \"name\": \"stdout\",\\n     \"output_type\": \"stream\",\\n     \"text\": [\\n      \"5\\\\n\",\\n      \"<class \\'int\\'>\\\\n\"\\n     ]\\n    },\\n    {\\n     \"data\": {\\n      \"text/plain\": [\\n       \"int\"\\n      ]\\n     },\\n     \"execution_count\": 1,\\n     \"metadata\": {},\\n     \"output_type\": \"execute_result\"\\n    }\\n   ],\\n   \"source\": [\\n    \"#\\\\n\",\\n    \"# Operadores sobre enteros\\\\n\",\\n    \"#\\\\n\",\\n    \"print(2 + 2 + 1)\\\\n\",\\n    \"print(type(2 + 2 + 1))\\\\n\",\\n    \"type(2 + 2 + 1)\"\\n   ]\\n  },\\n  {\\n   \"cell_type\": \"code\",\\n   \"execution_count\": 2,\\n   \"metadata\": {},\\n   \"outputs\": [\\n    {\\n     \"data\": {\\n      \"text/plain\": [\\n       \"int\"\\n      ]\\n     },\\n     \"execution_count\": 2,\\n     \"metadata\": {},\\n     \"output_type\": \"execute_result\"\\n    }\\n   ],\\n   \"source\": [\\n    \"#\\\\n\",\\n    \"# Tipo de dato\\\\n\",\\n    \"#\\\\n\",\\n    \"type(5)\"\\n   ]\\n  },\\n  {\\n   \"cell_type\": \"code\",\\n   \"execution_count\": 3,\\n   \"metadata\": {},\\n   \"outputs\": [\\n    {\\n     \"name\": \"stdout\",\\n     \"output_type\": \"stream\",\\n     \"text\": [\\n      \"1.6\\\\n\"\\n     ]\\n    },\\n    {\\n     \"data\": {\\n      \"text/plain\": [\\n       \"float\"\\n      ]\\n     },\\n     \"execution_count\": 3,\\n     \"metadata\": {},\\n     \"output_type\": \"execute_result\"\\n    }\\n   ],\\n   \"source\": [\\n    \"#\\\\n\",\\n    \"# Conversion autom\\xc3\\xa1tica del tipo de dato\\\\n\",\\n    \"#\\\\n\",\\n    \"print(8 / 5)\\\\n\",\\n    \"type(8 / 5)\"\\n   ]\\n  },\\n  {\\n   \"cell_type\": \"code\",\\n   \"execution_count\": 4,\\n   \"metadata\": {},\\n   \"outputs\": [\\n    {\\n     \"data\": {\\n      \"text/plain\": [\\n       \"1\"\\n      ]\\n     },\\n     \"execution_count\": 4,\\n     \"metadata\": {},\\n     \"output_type\": \"execute_result\"\\n    }\\n   ],\\n   \"source\": [\\n    \"#\\\\n\",\\n    \"#\\xc2\\xa0Parte entera de la division\\\\n\",\\n    \"#\\\\n\",\\n    \"8 // 5 \"\\n   ]\\n  },\\n  {\\n   \"cell_type\": \"code\",\\n   \"execution_count\": 5,\\n   \"metadata\": {},\\n   \"outputs\": [\\n    {\\n     \"data\": {\\n      \"text/plain\": [\\n       \"3\"\\n      ]\\n     },\\n     \"execution_count\": 5,\\n     \"metadata\": {},\\n     \"output_type\": \"execute_result\"\\n    }\\n   ],\\n   \"source\": [\\n    \"#\\\\n\",\\n    \"# Residuo de la divisi\\xc3\\xb3n\\\\n\",\\n    \"#\\\\n\",\\n    \"8 % 5\"\\n   ]\\n  },\\n  {\\n   \"cell_type\": \"code\",\\n   \"execution_count\": 6,\\n   \"metadata\": {},\\n   \"outputs\": [\\n    {\\n     \"data\": {\\n      \"text/plain\": [\\n       \"25\"\\n      ]\\n     },\\n     \"execution_count\": 6,\\n     \"metadata\": {},\\n     \"output_type\": \"execute_result\"\\n    }\\n   ],\\n   \"source\": [\\n    \"#\\\\n\",\\n    \"# Potenciaci\\xc3\\xb3n.\\\\n\",\\n    \"#\\\\n\",\\n    \"5 ** 2\"\\n   ]\\n  },\\n  {\\n   \"cell_type\": \"code\",\\n   \"execution_count\": 7,\\n   \"metadata\": {},\\n   \"outputs\": [\\n    {\\n     \"data\": {\\n      \"text/plain\": [\\n       \"2.0\"\\n      ]\\n     },\\n     \"execution_count\": 7,\\n     \"metadata\": {},\\n     \"output_type\": \"execute_result\"\\n    }\\n   ],\\n   \"source\": [\\n    \"#\\\\n\",\\n    \"# int + float\\\\n\",\\n    \"#\\\\n\",\\n    \"1 + 1.\"\\n   ]\\n  },\\n  {\\n   \"cell_type\": \"markdown\",\\n   \"metadata\": {},\\n   \"source\": [\\n    \"## Operadores aritm\\xc3\\xa9ticos sobre cadenas de texto\"\\n   ]\\n  },\\n  {\\n   \"cell_type\": \"code\",\\n   \"execution_count\": 8,\\n   \"metadata\": {},\\n   \"outputs\": [\\n    {\\n     \"data\": {\\n      \"text/plain\": [\\n       \"\\'hola mundo\\'\"\\n      ]\\n     },\\n     \"execution_count\": 8,\\n     \"metadata\": {},\\n     \"output_type\": \"execute_result\"\\n    }\\n   ],\\n   \"source\": [\\n    \"#\\\\n\",\\n    \"# Escritura con comillas simples\\\\n\",\\n    \"#\\\\n\",\\n    \"\\'hola mundo\\'  \"\\n   ]\\n  },\\n  {\\n   \"cell_type\": \"code\",\\n   \"execution_count\": 9,\\n   \"metadata\": {},\\n   \"outputs\": [\\n    {\\n     \"data\": {\\n      \"text/plain\": [\\n       \"str\"\\n      ]\\n     },\\n     \"execution_count\": 9,\\n     \"metadata\": {},\\n     \"output_type\": \"execute_result\"\\n    }\\n   ],\\n   \"source\": [\\n    \"#\\\\n\",\\n    \"#\\xc2\\xa0Tipo de dato\\\\n\",\\n    \"#\\\\n\",\\n    \"type(\\'hola mundo\\')\"\\n   ]\\n  },\\n  {\\n   \"cell_type\": \"code\",\\n   \"execution_count\": 10,\\n   \"metadata\": {},\\n   \"outputs\": [\\n    {\\n     \"data\": {\\n      \"text/plain\": [\\n       \"\\'hola mundo\\'\"\\n      ]\\n     },\\n     \"execution_count\": 10,\\n     \"metadata\": {},\\n     \"output_type\": \"execute_result\"\\n    }\\n   ],\\n   \"source\": [\\n    \"#\\\\n\",\\n    \"#\\xc2\\xa0Escritura con comillas dobles\\\\n\",\\n    \"#\\\\n\",\\n    \"\\\\\"hola mundo cruel!\\\\\"  \"\\n   ]\\n  },\\n  {\\n   \"cell_type\": \"code\",\\n   \"execution_count\": null,\\n   \"metadata\": {},\\n   \"outputs\": [],\\n   \"source\": [\\n    \"#\\\\n\",\\n    \"# Uso de comillas triples\\\\n\",\\n    \"#\\\\n\",\\n    \"\\\\\"\\\\\"\\\\\"hola mundo cruel!\\\\\"\\\\\"\\\\\"\"\\n   ]\\n  },\\n  {\\n   \"cell_type\": \"code\",\\n   \"execution_count\": 11,\\n   \"metadata\": {},\\n   \"outputs\": [\\n    {\\n     \"data\": {\\n      \"text/plain\": [\\n       \"\\'--\\\\\"--\\'\"\\n      ]\\n     },\\n     \"execution_count\": 11,\\n     \"metadata\": {},\\n     \"output_type\": \"execute_result\"\\n    }\\n   ],\\n   \"source\": [\\n    \"#\\\\n\",\\n    \"#\\xc2\\xa0Uso alternado de comillas. Python entiende que se usa \\\\n\",\\n    \"# la comilla simples para delimitar el string.\\\\n\",\\n    \"#\\\\n\",\\n    \"\\'--\\\\\"--\\'  \"\\n   ]\\n  },\\n  {\\n   \"cell_type\": \"code\",\\n   \"execution_count\": 12,\\n   \"metadata\": {},\\n   \"outputs\": [\\n    {\\n     \"data\": {\\n      \"text/plain\": [\\n       \"\\\\\"--\\'--\\\\\"\"\\n      ]\\n     },\\n     \"execution_count\": 12,\\n     \"metadata\": {},\\n     \"output_type\": \"execute_result\"\\n    }\\n   ],\\n   \"source\": [\\n    \"\\\\\"--\\'--\\\\\"\"\\n   ]\\n  },\\n  {\\n   \"cell_type\": \"code\",\\n   \"execution_count\": 13,\\n   \"metadata\": {},\\n   \"outputs\": [\\n    {\\n     \"data\": {\\n      \"text/plain\": [\\n       \"\\\\\"--\\'--\\\\\"\"\\n      ]\\n     },\\n     \"execution_count\": 13,\\n     \"metadata\": {},\\n     \"output_type\": \"execute_result\"\\n    }\\n   ],\\n   \"source\": [\\n    \"#\\\\n\",\\n    \"# En estos dos casos se requiere usar el `\\\\\\\\` para \\\\n\",\\n    \"# indicar que la comilla intermedia no es el delimitador.\\\\n\",\\n    \"# (caracter escapado)\\\\n\",\\n    \"#\\\\n\",\\n    \"\\'--\\\\\\\\\\'--\\'  \"\\n   ]\\n  },\\n  {\\n   \"cell_type\": \"code\",\\n   \"execution_count\": 14,\\n   \"metadata\": {},\\n   \"outputs\": [\\n    {\\n     \"data\": {\\n      \"text/plain\": [\\n       \"\\'--\\\\\"--\\'\"\\n      ]\\n     },\\n     \"execution_count\": 14,\\n     \"metadata\": {},\\n     \"output_type\": \"execute_result\"\\n    }\\n   ],\\n   \"source\": [\\n    \"\\\\\"--\\\\\\\\\\\\\"--\\\\\"\"\\n   ]\\n  },\\n  {\\n   \"cell_type\": \"code\",\\n   \"execution_count\": 15,\\n   \"metadata\": {},\\n   \"outputs\": [\\n    {\\n     \"data\": {\\n      \"text/plain\": [\\n       \"\\'\\\\\\\\n  Hola\\\\\\\\n  Mundo\\\\\\\\n  Cruel!\\\\\\\\n\\'\"\\n      ]\\n     },\\n     \"execution_count\": 15,\\n     \"metadata\": {},\\n     \"output_type\": \"execute_result\"\\n    }\\n   ],\\n   \"source\": [\\n    \"#\\\\n\",\\n    \"# Cadenas de caracteres de varias lineas\\\\n\",\\n    \"#\\\\n\",\\n    \"\\\\\"\\\\\"\\\\\"\\\\n\",\\n    \"  Hola\\\\n\",\\n    \"  Mundo\\\\n\",\\n    \"  Cruel!\\\\n\",\\n    \"\\\\\"\\\\\"\\\\\"\"\\n   ]\\n  },\\n  {\\n   \"cell_type\": \"markdown\",\\n   \"metadata\": {},\\n   \"source\": [\\n    \"![escape-n-texto](assets/escape_n_texto.png)\"\\n   ]\\n  },\\n  {\\n   \"cell_type\": \"code\",\\n   \"execution_count\": 16,\\n   \"metadata\": {},\\n   \"outputs\": [\\n    {\\n     \"data\": {\\n      \"text/plain\": [\\n       \"\\'HolaMundoCruel!\\'\"\\n      ]\\n     },\\n     \"execution_count\": 16,\\n     \"metadata\": {},\\n     \"output_type\": \"execute_result\"\\n    }\\n   ],\\n   \"source\": [\\n    \"(\\\\n\",\\n    \"    \\\\\"Hola\\\\\"\\\\n\",\\n    \"    \\\\\"Mundo\\\\\"\\\\n\",\\n    \"    \\\\\"Cruel!\\\\\"\\\\n\",\\n    \")\"\\n   ]\\n  },\\n  {\\n   \"cell_type\": \"code\",\\n   \"execution_count\": null,\\n   \"metadata\": {},\\n   \"outputs\": [],\\n   \"source\": [\\n    \"#\\\\n\",\\n    \"# Error caracter multilinea\\\\n\",\\n    \"#\"\\n   ]\\n  },\\n  {\\n   \"cell_type\": \"markdown\",\\n   \"metadata\": {},\\n   \"source\": [\\n    \"![error-caracter-multilinea](assets/error_caracter_multilinea.png)\"\\n   ]\\n  },\\n  {\\n   \"cell_type\": \"code\",\\n   \"execution_count\": 17,\\n   \"metadata\": {},\\n   \"outputs\": [\\n    {\\n     \"data\": {\\n      \"text/plain\": [\\n       \"\\'HolaMundoCruel!\\'\"\\n      ]\\n     },\\n     \"execution_count\": 17,\\n     \"metadata\": {},\\n     \"output_type\": \"execute_result\"\\n    }\\n   ],\\n   \"source\": [\\n    \"#\\\\n\",\\n    \"# Operadores aritmeticos.\\\\n\",\\n    \"#   En strings + representa concatenacion y\\\\n\",\\n    \"#   * representa repetici\\xc3\\xb3n\\\\n\",\\n    \"#\\\\n\",\\n    \"\\\\\"Hola\\\\\"  +  \\\\\"Mundo\\\\\" + \\\\\"Cruel!\\\\\"\"\\n   ]\\n  },\\n  {\\n   \"cell_type\": \"code\",\\n   \"execution_count\": 18,\\n   \"metadata\": {},\\n   \"outputs\": [\\n    {\\n     \"data\": {\\n      \"text/plain\": [\\n       \"\\'Hola3\\'\"\\n      ]\\n     },\\n     \"execution_count\": 18,\\n     \"metadata\": {},\\n     \"output_type\": \"execute_result\"\\n    }\\n   ],\\n   \"source\": [\\n    \"\\\\\"Hola\\\\\" + str(3)\"\\n   ]\\n  },\\n  {\\n   \"cell_type\": \"code\",\\n   \"execution_count\": 19,\\n   \"metadata\": {},\\n   \"outputs\": [\\n    {\\n     \"data\": {\\n      \"text/plain\": [\\n       \"\\'HolaHolaHola\\'\"\\n      ]\\n     },\\n     \"execution_count\": 19,\\n     \"metadata\": {},\\n     \"output_type\": \"execute_result\"\\n    }\\n   ],\\n   \"source\": [\\n    \"\\\\\"Hola\\\\\" * 3\"\\n   ]\\n  },\\n  {\\n   \"cell_type\": \"code\",\\n   \"execution_count\": 20,\\n   \"metadata\": {},\\n   \"outputs\": [],\\n   \"source\": [\\n    \"#\\\\n\",\\n    \"# Errorres en manejo de cadenas de caracteres\\\\n\",\\n    \"#\"\\n   ]\\n  },\\n  {\\n   \"cell_type\": \"markdown\",\\n   \"metadata\": {},\\n   \"source\": [\\n    \"![hola-por-hola](assets/hola_por_hola.png)\"\\n   ]\\n  },\\n  {\\n   \"cell_type\": \"code\",\\n   \"execution_count\": 21,\\n   \"metadata\": {},\\n   \"outputs\": [\\n    {\\n     \"data\": {\\n      \"text/plain\": [\\n       \"\\'abc abc abc 012\\'\"\\n      ]\\n     },\\n     \"execution_count\": 21,\\n     \"metadata\": {},\\n     \"output_type\": \"execute_result\"\\n    }\\n   ],\\n   \"source\": [\\n    \"3 * \\'abc \\' + \\'012\\'  \"\\n   ]\\n  },\\n  {\\n   \"cell_type\": \"code\",\\n   \"execution_count\": 22,\\n   \"metadata\": {},\\n   \"outputs\": [\\n    {\\n     \"data\": {\\n      \"text/plain\": [\\n       \"\\'abc abc abc 012\\'\"\\n      ]\\n     },\\n     \"execution_count\": 22,\\n     \"metadata\": {},\\n     \"output_type\": \"execute_result\"\\n    }\\n   ],\\n   \"source\": [\\n    \"\\'abc \\' * 3 + \\'012\\'\"\\n   ]\\n  },\\n  {\\n   \"cell_type\": \"code\",\\n   \"execution_count\": 23,\\n   \"metadata\": {},\\n   \"outputs\": [\\n    {\\n     \"data\": {\\n      \"text/plain\": [\\n       \"\\'Python\\'\"\\n      ]\\n     },\\n     \"execution_count\": 23,\\n     \"metadata\": {},\\n     \"output_type\": \"execute_result\"\\n    }\\n   ],\\n   \"source\": [\\n    \"#\\\\n\",\\n    \"#\\xc2\\xa0Note que ac\\xc3\\xa1 se ignoran los espacios \\\\n\",\\n    \"# entre las comillas interiores\\\\n\",\\n    \"#\\\\n\",\\n    \"\\'Py\\' \\'thon\\'   \"\\n   ]\\n  },\\n  {\\n   \"cell_type\": \"markdown\",\\n   \"metadata\": {},\\n   \"source\": [\\n    \"## Operadores aritm\\xc3\\xa9ticos sobre valores l\\xc3\\xb3gicos\"\\n   ]\\n  },\\n  {\\n   \"cell_type\": \"code\",\\n   \"execution_count\": 24,\\n   \"metadata\": {},\\n   \"outputs\": [\\n    {\\n     \"data\": {\\n      \"text/plain\": [\\n       \"True\"\\n      ]\\n     },\\n     \"execution_count\": 24,\\n     \"metadata\": {},\\n     \"output_type\": \"execute_result\"\\n    }\\n   ],\\n   \"source\": [\\n    \"True\"\\n   ]\\n  },\\n  {\\n   \"cell_type\": \"code\",\\n   \"execution_count\": 25,\\n   \"metadata\": {},\\n   \"outputs\": [\\n    {\\n     \"data\": {\\n      \"text/plain\": [\\n       \"bool\"\\n      ]\\n     },\\n     \"execution_count\": 25,\\n     \"metadata\": {},\\n     \"output_type\": \"execute_result\"\\n    }\\n   ],\\n   \"source\": [\\n    \"type(True)\"\\n   ]\\n  },\\n  {\\n   \"cell_type\": \"code\",\\n   \"execution_count\": 26,\\n   \"metadata\": {},\\n   \"outputs\": [\\n    {\\n     \"data\": {\\n      \"text/plain\": [\\n       \"1\"\\n      ]\\n     },\\n     \"execution_count\": 26,\\n     \"metadata\": {},\\n     \"output_type\": \"execute_result\"\\n    }\\n   ],\\n   \"source\": [\\n    \"int(True)\"\\n   ]\\n  },\\n  {\\n   \"cell_type\": \"code\",\\n   \"execution_count\": 27,\\n   \"metadata\": {},\\n   \"outputs\": [\\n    {\\n     \"data\": {\\n      \"text/plain\": [\\n       \"0\"\\n      ]\\n     },\\n     \"execution_count\": 27,\\n     \"metadata\": {},\\n     \"output_type\": \"execute_result\"\\n    }\\n   ],\\n   \"source\": [\\n    \"int(False)\"\\n   ]\\n  },\\n  {\\n   \"cell_type\": \"code\",\\n   \"execution_count\": 28,\\n   \"metadata\": {},\\n   \"outputs\": [\\n    {\\n     \"data\": {\\n      \"text/plain\": [\\n       \"0\"\\n      ]\\n     },\\n     \"execution_count\": 28,\\n     \"metadata\": {},\\n     \"output_type\": \"execute_result\"\\n    }\\n   ],\\n   \"source\": [\\n    \"False * 1\"\\n   ]\\n  },\\n  {\\n   \"cell_type\": \"code\",\\n   \"execution_count\": 29,\\n   \"metadata\": {},\\n   \"outputs\": [\\n    {\\n     \"data\": {\\n      \"text/plain\": [\\n       \"3\"\\n      ]\\n     },\\n     \"execution_count\": 29,\\n     \"metadata\": {},\\n     \"output_type\": \"execute_result\"\\n    }\\n   ],\\n   \"source\": [\\n    \"True + True + True\"\\n   ]\\n  },\\n  {\\n   \"cell_type\": \"code\",\\n   \"execution_count\": 30,\\n   \"metadata\": {},\\n   \"outputs\": [\\n    {\\n     \"data\": {\\n      \"text/plain\": [\\n       \"4\"\\n      ]\\n     },\\n     \"execution_count\": 30,\\n     \"metadata\": {},\\n     \"output_type\": \"execute_result\"\\n    }\\n   ],\\n   \"source\": [\\n    \"True * 4\"\\n   ]\\n  },\\n  {\\n   \"cell_type\": \"code\",\\n   \"execution_count\": 31,\\n   \"metadata\": {},\\n   \"outputs\": [\\n    {\\n     \"data\": {\\n      \"text/plain\": [\\n       \"0.1\"\\n      ]\\n     },\\n     \"execution_count\": 31,\\n     \"metadata\": {},\\n     \"output_type\": \"execute_result\"\\n    }\\n   ],\\n   \"source\": [\\n    \"True / 10\"\\n   ]\\n  },\\n  {\\n   \"cell_type\": \"markdown\",\\n   \"metadata\": {},\\n   \"source\": [\\n    \"![true-igual-a-true](assets/true_igual_a_true.png)\"\\n   ]\\n  },\\n  {\\n   \"cell_type\": \"markdown\",\\n   \"metadata\": {},\\n   \"source\": [\\n    \"## Conversiones entre tipos de datos\"\\n   ]\\n  },\\n  {\\n   \"cell_type\": \"code\",\\n   \"execution_count\": 32,\\n   \"metadata\": {},\\n   \"outputs\": [\\n    {\\n     \"data\": {\\n      \"text/plain\": [\\n       \"1.0\"\\n      ]\\n     },\\n     \"execution_count\": 32,\\n     \"metadata\": {},\\n     \"output_type\": \"execute_result\"\\n    }\\n   ],\\n   \"source\": [\\n    \"float(\\\\\"1\\\\\")\"\\n   ]\\n  },\\n  {\\n   \"cell_type\": \"code\",\\n   \"execution_count\": 33,\\n   \"metadata\": {},\\n   \"outputs\": [\\n    {\\n     \"data\": {\\n      \"text/plain\": [\\n       \"1\"\\n      ]\\n     },\\n     \"execution_count\": 33,\\n     \"metadata\": {},\\n     \"output_type\": \"execute_result\"\\n    }\\n   ],\\n   \"source\": [\\n    \"int(\\\\\"1\\\\\")\"\\n   ]\\n  },\\n  {\\n   \"cell_type\": \"code\",\\n   \"execution_count\": 34,\\n   \"metadata\": {},\\n   \"outputs\": [\\n    {\\n     \"data\": {\\n      \"text/plain\": [\\n       \"\\'1\\'\"\\n      ]\\n     },\\n     \"execution_count\": 34,\\n     \"metadata\": {},\\n     \"output_type\": \"execute_result\"\\n    }\\n   ],\\n   \"source\": [\\n    \"str(1)\"\\n   ]\\n  },\\n  {\\n   \"cell_type\": \"markdown\",\\n   \"metadata\": {},\\n   \"source\": [\\n    \"## None\"\\n   ]\\n  },\\n  {\\n   \"cell_type\": \"code\",\\n   \"execution_count\": 35,\\n   \"metadata\": {},\\n   \"outputs\": [\\n    {\\n     \"data\": {\\n      \"text/plain\": [\\n       \"True\"\\n      ]\\n     },\\n     \"execution_count\": 35,\\n     \"metadata\": {},\\n     \"output_type\": \"execute_result\"\\n    }\\n   ],\\n   \"source\": [\\n    \"x = None\\\\n\",\\n    \"x == None\"\\n   ]\\n  },\\n  {\\n   \"cell_type\": \"code\",\\n   \"execution_count\": 36,\\n   \"metadata\": {},\\n   \"outputs\": [\\n    {\\n     \"data\": {\\n      \"text/plain\": [\\n       \"True\"\\n      ]\\n     },\\n     \"execution_count\": 36,\\n     \"metadata\": {},\\n     \"output_type\": \"execute_result\"\\n    }\\n   ],\\n   \"source\": [\\n    \"x is None\"\\n   ]\\n  },\\n  {\\n   \"cell_type\": \"code\",\\n   \"execution_count\": 37,\\n   \"metadata\": {},\\n   \"outputs\": [\\n    {\\n     \"data\": {\\n      \"text/plain\": [\\n       \"False\"\\n      ]\\n     },\\n     \"execution_count\": 37,\\n     \"metadata\": {},\\n     \"output_type\": \"execute_result\"\\n    }\\n   ],\\n   \"source\": [\\n    \"x is not None\"\\n   ]\\n  },\\n  {\\n   \"cell_type\": \"markdown\",\\n   \"metadata\": {\\n    \"tags\": []\\n   },\\n   \"source\": [\\n    \"## Operadores l\\xc3\\xb3gicos\"\\n   ]\\n  },\\n  {\\n   \"cell_type\": \"markdown\",\\n   \"metadata\": {},\\n   \"source\": [\\n    \"Operadores l\\xc3\\xb3gicos:\\\\n\",\\n    \"\\\\n\",\\n    \"     >    Mayor que\\\\n\",\\n    \"     >=   Mayor o igual que\\\\n\",\\n    \"     <    Menor que\\\\n\",\\n    \"     <=   Menor o igual que\\\\n\",\\n    \"     ==   Igual\\\\n\",\\n    \"     !=   Diferente\"\\n   ]\\n  },\\n  {\\n   \"cell_type\": \"code\",\\n   \"execution_count\": 38,\\n   \"metadata\": {},\\n   \"outputs\": [\\n    {\\n     \"data\": {\\n      \"text/plain\": [\\n       \"False\"\\n      ]\\n     },\\n     \"execution_count\": 38,\\n     \"metadata\": {},\\n     \"output_type\": \"execute_result\"\\n    }\\n   ],\\n   \"source\": [\\n    \"1 > 2\"\\n   ]\\n  },\\n  {\\n   \"cell_type\": \"code\",\\n   \"execution_count\": 39,\\n   \"metadata\": {},\\n   \"outputs\": [\\n    {\\n     \"data\": {\\n      \"text/plain\": [\\n       \"True\"\\n      ]\\n     },\\n     \"execution_count\": 39,\\n     \"metadata\": {},\\n     \"output_type\": \"execute_result\"\\n    }\\n   ],\\n   \"source\": [\\n    \"#\\\\n\",\\n    \"# float == int\\\\n\",\\n    \"#\\\\n\",\\n    \"1.0 == 1\"\\n   ]\\n  },\\n  {\\n   \"cell_type\": \"code\",\\n   \"execution_count\": 40,\\n   \"metadata\": {},\\n   \"outputs\": [\\n    {\\n     \"data\": {\\n      \"text/plain\": [\\n       \"False\"\\n      ]\\n     },\\n     \"execution_count\": 40,\\n     \"metadata\": {},\\n     \"output_type\": \"execute_result\"\\n    }\\n   ],\\n   \"source\": [\\n    \"#\\\\n\",\\n    \"# El mismo tipo, no el mismo valor\\\\n\",\\n    \"#\\\\n\",\\n    \"type(1.0) == type(1)\"\\n   ]\\n  },\\n  {\\n   \"cell_type\": \"code\",\\n   \"execution_count\": 41,\\n   \"metadata\": {},\\n   \"outputs\": [\\n    {\\n     \"data\": {\\n      \"text/plain\": [\\n       \"True\"\\n      ]\\n     },\\n     \"execution_count\": 41,\\n     \"metadata\": {},\\n     \"output_type\": \"execute_result\"\\n    }\\n   ],\\n   \"source\": [\\n    \"True == 1\"\\n   ]\\n  },\\n  {\\n   \"cell_type\": \"code\",\\n   \"execution_count\": 42,\\n   \"metadata\": {},\\n   \"outputs\": [\\n    {\\n     \"data\": {\\n      \"text/plain\": [\\n       \"False\"\\n      ]\\n     },\\n     \"execution_count\": 42,\\n     \"metadata\": {},\\n     \"output_type\": \"execute_result\"\\n    }\\n   ],\\n   \"source\": [\\n    \"\\\\\"Hola\\\\\" == \\\\\"hola\\\\\"\"\\n   ]\\n  },\\n  {\\n   \"cell_type\": \"markdown\",\\n   \"metadata\": {\\n    \"tags\": []\\n   },\\n   \"source\": [\\n    \"## Conectores l\\xc3\\xb3gicos\"\\n   ]\\n  },\\n  {\\n   \"cell_type\": \"markdown\",\\n   \"metadata\": {},\\n   \"source\": [\\n    \"    and        AND l\\xc3\\xb3gico\\\\n\",\\n    \"    or         OR  l\\xc3\\xb3gico\\\\n\",\\n    \"    not        Negaci\\xc3\\xb3n\"\\n   ]\\n  },\\n  {\\n   \"cell_type\": \"markdown\",\\n   \"metadata\": {},\\n   \"source\": [\\n    \"Tablas de Verdad\\\\n\",\\n    \"\\\\n\",\\n    \"          x      y  (x OR y)  (x AND y)\\\\n\",\\n    \"     ----------------------------------\\\\n\",\\n    \"      True   True       True      True\\\\n\",\\n    \"      True  False       True     False\\\\n\",\\n    \"     False   True       True     False\\\\n\",\\n    \"     False  False      False     False\"\\n   ]\\n  },\\n  {\\n   \"cell_type\": \"code\",\\n   \"execution_count\": 43,\\n   \"metadata\": {},\\n   \"outputs\": [\\n    {\\n     \"data\": {\\n      \"text/plain\": [\\n       \"False\"\\n      ]\\n     },\\n     \"execution_count\": 43,\\n     \"metadata\": {},\\n     \"output_type\": \"execute_result\"\\n    }\\n   ],\\n   \"source\": [\\n    \"7 > 8 and \\\\\"hola\\\\\" == \\\\\"hola\\\\\"\"\\n   ]\\n  },\\n  {\\n   \"cell_type\": \"code\",\\n   \"execution_count\": 44,\\n   \"metadata\": {},\\n   \"outputs\": [\\n    {\\n     \"data\": {\\n      \"text/plain\": [\\n       \"True\"\\n      ]\\n     },\\n     \"execution_count\": 44,\\n     \"metadata\": {},\\n     \"output_type\": \"execute_result\"\\n    }\\n   ],\\n   \"source\": [\\n    \"True and True and 1 > 0\"\\n   ]\\n  },\\n  {\\n   \"cell_type\": \"code\",\\n   \"execution_count\": 45,\\n   \"metadata\": {},\\n   \"outputs\": [\\n    {\\n     \"data\": {\\n      \"text/plain\": [\\n       \"True\"\\n      ]\\n     },\\n     \"execution_count\": 45,\\n     \"metadata\": {},\\n     \"output_type\": \"execute_result\"\\n    }\\n   ],\\n   \"source\": [\\n    \"not 1 > 2\"\\n   ]\\n  },\\n  {\\n   \"cell_type\": \"code\",\\n   \"execution_count\": 46,\\n   \"metadata\": {},\\n   \"outputs\": [\\n    {\\n     \"data\": {\\n      \"text/plain\": [\\n       \"False\"\\n      ]\\n     },\\n     \"execution_count\": 46,\\n     \"metadata\": {},\\n     \"output_type\": \"execute_result\"\\n    }\\n   ],\\n   \"source\": [\\n    \"not True\"\\n   ]\\n  },\\n  {\\n   \"cell_type\": \"code\",\\n   \"execution_count\": 47,\\n   \"metadata\": {},\\n   \"outputs\": [\\n    {\\n     \"data\": {\\n      \"text/plain\": [\\n       \"False\"\\n      ]\\n     },\\n     \"execution_count\": 47,\\n     \"metadata\": {},\\n     \"output_type\": \"execute_result\"\\n    }\\n   ],\\n   \"source\": [\\n    \"1 is None\"\\n   ]\\n  },\\n  {\\n   \"cell_type\": \"code\",\\n   \"execution_count\": 48,\\n   \"metadata\": {},\\n   \"outputs\": [\\n    {\\n     \"data\": {\\n      \"text/plain\": [\\n       \"False\"\\n      ]\\n     },\\n     \"execution_count\": 48,\\n     \"metadata\": {},\\n     \"output_type\": \"execute_result\"\\n    }\\n   ],\\n   \"source\": [\\n    \"#\\\\n\",\\n    \"# Shortcircuit\\\\n\",\\n    \"#\\\\n\",\\n    \"#   Si es un AND, el c\\xc3\\xb3mputo se detiene\\\\n\",\\n    \"#   al encontrar el primer valor False.\\\\n\",\\n    \"#\\\\n\",\\n    \"#   Si es un OR, el computo se detiene \\\\n\",\\n    \"#   al encontrar el primer valor True.\\\\n\",\\n    \"#\\\\n\",\\n    \"False and True\"\\n   ]\\n  },\\n  {\\n   \"cell_type\": \"markdown\",\\n   \"metadata\": {},\\n   \"source\": [\\n    \"## Variables\"\\n   ]\\n  },\\n  {\\n   \"cell_type\": \"code\",\\n   \"execution_count\": 49,\\n   \"metadata\": {},\\n   \"outputs\": [\\n    {\\n     \"data\": {\\n      \"text/plain\": [\\n       \"20\"\\n      ]\\n     },\\n     \"execution_count\": 49,\\n     \"metadata\": {},\\n     \"output_type\": \"execute_result\"\\n    }\\n   ],\\n   \"source\": [\\n    \"#\\\\n\",\\n    \"# Asignaci\\xc3\\xb3n de variables y operadores aritm\\xc3\\xa9ticos\\\\n\",\\n    \"#\\\\n\",\\n    \"base = 4\\\\n\",\\n    \"altura = 5\\\\n\",\\n    \"area = base * altura\\\\n\",\\n    \"area\"\\n   ]\\n  },\\n  {\\n   \"cell_type\": \"code\",\\n   \"execution_count\": 50,\\n   \"metadata\": {},\\n   \"outputs\": [\\n    {\\n     \"data\": {\\n      \"text/plain\": [\\n       \"\\'JohnWick\\'\"\\n      ]\\n     },\\n     \"execution_count\": 50,\\n     \"metadata\": {},\\n     \"output_type\": \"execute_result\"\\n    }\\n   ],\\n   \"source\": [\\n    \"#\\\\n\",\\n    \"# Variables con strings\\\\n\",\\n    \"#\\\\n\",\\n    \"first_name = \\\\\"John\\\\\"\\\\n\",\\n    \"family_name = \\\\\"Wick\\\\\"\\\\n\",\\n    \"first_name + family_name\"\\n   ]\\n  },\\n  {\\n   \"cell_type\": \"code\",\\n   \"execution_count\": 51,\\n   \"metadata\": {},\\n   \"outputs\": [\\n    {\\n     \"data\": {\\n      \"text/plain\": [\\n       \"\\'John Wick\\'\"\\n      ]\\n     },\\n     \"execution_count\": 51,\\n     \"metadata\": {},\\n     \"output_type\": \"execute_result\"\\n    }\\n   ],\\n   \"source\": [\\n    \"first_name + \\\\\" \\\\\" + family_name\"\\n   ]\\n  },\\n  {\\n   \"cell_type\": \"markdown\",\\n   \"metadata\": {},\\n   \"source\": [\\n    \"Operadores aritm\\xc3\\xa9ticos de asignaci\\xc3\\xb3n\\\\n\",\\n    \"\\\\n\",\\n    \"    Operador  Ejemplo   Equivalente a\\\\n\",\\n    \"    ---------------------------------------------------------------\\\\n\",\\n    \"    +=        x += 2    x = x + 2\\\\n\",\\n    \"    -=        x -= 2    x = x - 2\\\\n\",\\n    \"    *=        x *= 3    x = x * 3\\\\n\",\\n    \"    /=        x /= 2    x = x / 2\\\\n\",\\n    \"    %=        x %= 2    x = x % 2\\\\n\",\\n    \"    //=       x //= 2   x = x // 2\\\\n\",\\n    \"    **=       x **= 2   x = x ** 2\\\\n\"\\n   ]\\n  },\\n  {\\n   \"cell_type\": \"code\",\\n   \"execution_count\": 52,\\n   \"metadata\": {},\\n   \"outputs\": [\\n    {\\n     \"data\": {\\n      \"text/plain\": [\\n       \"1.0\"\\n      ]\\n     },\\n     \"execution_count\": 52,\\n     \"metadata\": {},\\n     \"output_type\": \"execute_result\"\\n    }\\n   ],\\n   \"source\": [\\n    \"#\\\\n\",\\n    \"# El operador es equivalente a x = x / (2 + 2)\\\\n\",\\n    \"x = 4\\\\n\",\\n    \"x /= 2 + 2\\\\n\",\\n    \"x\"\\n   ]\\n  },\\n  {\\n   \"cell_type\": \"code\",\\n   \"execution_count\": 1,\\n   \"metadata\": {},\\n   \"outputs\": [\\n    {\\n     \"data\": {\\n      \"text/plain\": [\\n       \"int\"\\n      ]\\n     },\\n     \"execution_count\": 1,\\n     \"metadata\": {},\\n     \"output_type\": \"execute_result\"\\n    }\\n   ],\\n   \"source\": [\\n    \"#\\\\n\",\\n    \"# Variable entera\\\\n\",\\n    \"#\\\\n\",\\n    \"int_var = 5\\\\n\",\\n    \"type(int_var)\"\\n   ]\\n  },\\n  {\\n   \"cell_type\": \"code\",\\n   \"execution_count\": 2,\\n   \"metadata\": {},\\n   \"outputs\": [\\n    {\\n     \"data\": {\\n      \"text/plain\": [\\n       \"1.0\"\\n      ]\\n     },\\n     \"execution_count\": 2,\\n     \"metadata\": {},\\n     \"output_type\": \"execute_result\"\\n    }\\n   ],\\n   \"source\": [\\n    \"#\\\\n\",\\n    \"# Variable flotante\\\\n\",\\n    \"#\\\\n\",\\n    \"float_var = 1.0\\\\n\",\\n    \"type(float_var)\"\\n   ]\\n  },\\n  {\\n   \"cell_type\": \"code\",\\n   \"execution_count\": 7,\\n   \"metadata\": {},\\n   \"outputs\": [\\n    {\\n     \"data\": {\\n      \"text/plain\": [\\n       \"bool\"\\n      ]\\n     },\\n     \"execution_count\": 7,\\n     \"metadata\": {},\\n     \"output_type\": \"execute_result\"\\n    }\\n   ],\\n   \"source\": [\\n    \"#\\\\n\",\\n    \"# Variable booleana\\\\n\",\\n    \"#\\\\n\",\\n    \"bool_var = True\\\\n\",\\n    \"type(bool_var)\"\\n   ]\\n  },\\n  {\\n   \"cell_type\": \"code\",\\n   \"execution_count\": 4,\\n   \"metadata\": {},\\n   \"outputs\": [\\n    {\\n     \"data\": {\\n      \"text/plain\": [\\n       \"True\"\\n      ]\\n     },\\n     \"execution_count\": 4,\\n     \"metadata\": {},\\n     \"output_type\": \"execute_result\"\\n    }\\n   ],\\n   \"source\": [\\n    \"#\\\\n\",\\n    \"# Pregunta si el valor o la variable es del tipo\\\\n\",\\n    \"#\\xc2\\xa0especificado.\\\\n\",\\n    \"#\\\\n\",\\n    \"isinstance(1.0, float)\"\\n   ]\\n  },\\n  {\\n   \"cell_type\": \"code\",\\n   \"execution_count\": 5,\\n   \"metadata\": {},\\n   \"outputs\": [\\n    {\\n     \"data\": {\\n      \"text/plain\": [\\n       \"False\"\\n      ]\\n     },\\n     \"execution_count\": 5,\\n     \"metadata\": {},\\n     \"output_type\": \"execute_result\"\\n    }\\n   ],\\n   \"source\": [\\n    \"#\\\\n\",\\n    \"# 1.0 no es un string\\\\n\",\\n    \"#\\\\n\",\\n    \"isinstance(1.0, str)\"\\n   ]\\n  },\\n  {\\n   \"cell_type\": \"code\",\\n   \"execution_count\": 6,\\n   \"metadata\": {},\\n   \"outputs\": [\\n    {\\n     \"data\": {\\n      \"text/plain\": [\\n       \"True\"\\n      ]\\n     },\\n     \"execution_count\": 6,\\n     \"metadata\": {},\\n     \"output_type\": \"execute_result\"\\n    }\\n   ],\\n   \"source\": [\\n    \"#\\\\n\",\\n    \"# Operador OR en isinstance\\\\n\",\\n    \"#\\\\n\",\\n    \"isinstance(1, (int, float))\"\\n   ]\\n  },\\n  {\\n   \"cell_type\": \"code\",\\n   \"execution_count\": 8,\\n   \"metadata\": {},\\n   \"outputs\": [\\n    {\\n     \"name\": \"stdout\",\\n     \"output_type\": \"stream\",\\n     \"text\": [\\n      \"5 1.0 True\\\\n\"\\n     ]\\n    }\\n   ],\\n   \"source\": [\\n    \"#\\\\n\",\\n    \"# Uso de variables con print\\\\n\",\\n    \"#\\\\n\",\\n    \"print(int_var, float_var, bool_var)\"\\n   ]\\n  },\\n  {\\n   \"cell_type\": \"markdown\",\\n   \"metadata\": {},\\n   \"source\": [\\n    \"## Conversion de tipos de datos\"\\n   ]\\n  },\\n  {\\n   \"cell_type\": \"code\",\\n   \"execution_count\": 9,\\n   \"metadata\": {},\\n   \"outputs\": [\\n    {\\n     \"data\": {\\n      \"text/plain\": [\\n       \"\\'5\\'\"\\n      ]\\n     },\\n     \"execution_count\": 9,\\n     \"metadata\": {},\\n     \"output_type\": \"execute_result\"\\n    }\\n   ],\\n   \"source\": [\\n    \"str(int_var)\"\\n   ]\\n  },\\n  {\\n   \"cell_type\": \"code\",\\n   \"execution_count\": 10,\\n   \"metadata\": {},\\n   \"outputs\": [\\n    {\\n     \"data\": {\\n      \"text/plain\": [\\n       \"1.0\"\\n      ]\\n     },\\n     \"execution_count\": 10,\\n     \"metadata\": {},\\n     \"output_type\": \"execute_result\"\\n    }\\n   ],\\n   \"source\": [\\n    \"float(\\'1\\')\"\\n   ]\\n  },\\n  {\\n   \"cell_type\": \"code\",\\n   \"execution_count\": 12,\\n   \"metadata\": {},\\n   \"outputs\": [\\n    {\\n     \"data\": {\\n      \"text/plain\": [\\n       \"5\"\\n      ]\\n     },\\n     \"execution_count\": 12,\\n     \"metadata\": {},\\n     \"output_type\": \"execute_result\"\\n    }\\n   ],\\n   \"source\": [\\n    \"int(\\'5\\')\"\\n   ]\\n  }\\n ],\\n \"metadata\": {\\n  \"kernel_info\": {\\n   \"name\": \"python3\"\\n  },\\n  \"kernelspec\": {\\n   \"display_name\": \"Python 3\",\\n   \"language\": \"python\",\\n   \"name\": \"python3\"\\n  },\\n  \"language_info\": {\\n   \"codemirror_mode\": {\\n    \"name\": \"ipython\",\\n    \"version\": 3\\n   },\\n   \"file_extension\": \".py\",\\n   \"mimetype\": \"text/x-python\",\\n   \"name\": \"python\",\\n   \"nbconvert_exporter\": \"python\",\\n   \"pygments_lexer\": \"ipython3\",\\n   \"version\": \"3.6.9\"\\n  },\\n  \"nteract\": {\\n   \"version\": \"0.12.3\"\\n  },\\n  \"toc-autonumbering\": false,\\n  \"toc-showcode\": false,\\n  \"toc-showmarkdowntxt\": false,\\n  \"toc-showtags\": false\\n },\\n \"nbformat\": 4,\\n \"nbformat_minor\": 4\\n}\\n'"
      ]
     },
     "execution_count": 15,
     "metadata": {},
     "output_type": "execute_result"
    }
   ],
   "source": [
    "stdout"
   ]
  },
  {
   "cell_type": "code",
   "execution_count": null,
   "id": "ac76c376-de06-4343-adbd-49dc9be8daf2",
   "metadata": {},
   "outputs": [],
   "source": []
  }
 ],
 "metadata": {
  "kernelspec": {
   "display_name": "Python 3",
   "language": "python",
   "name": "python3"
  },
  "language_info": {
   "codemirror_mode": {
    "name": "ipython",
    "version": 3
   },
   "file_extension": ".py",
   "mimetype": "text/x-python",
   "name": "python",
   "nbconvert_exporter": "python",
   "pygments_lexer": "ipython3",
   "version": "3.6.9"
  }
 },
 "nbformat": 4,
 "nbformat_minor": 5
}
