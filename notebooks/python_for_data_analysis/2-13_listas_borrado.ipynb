{
 "cells": [
  {
   "cell_type": "markdown",
   "id": "959d21e4-dd78-474e-9378-dafc5b47dd1f",
   "metadata": {
    "tags": []
   },
   "source": [
    "Borrado de elementos en listas usando del --- 2:23 min\n",
    "===\n",
    "\n",
    "* 2:23 min | Última modificación: Octubre 4, 2021 | [YouTube](https://youtu.be/Vab0SSa4pHk)"
   ]
  },
  {
   "cell_type": "code",
   "execution_count": 1,
   "id": "1107dad3-dd1e-4d15-9c34-668a8a5af6ec",
   "metadata": {},
   "outputs": [
    {
     "data": {
      "text/plain": [
       "[1, 2, 3, 4, 5, 6, 7, 8]"
      ]
     },
     "execution_count": 1,
     "metadata": {},
     "output_type": "execute_result"
    }
   ],
   "source": [
    "integers_list = [0, 1, 2, 3, 4, 5, 6, 7, 8]\n",
    "#\n",
    "#  +---+---+---+---+---+---+---+---+---+\n",
    "#  | 0 | 1 | 2 | 3 | 4 | 5 | 6 | 7 | 8 |\n",
    "#  +---+---+---+---+---+---+---+---+---+\n",
    "#    0   1   2   3   4   5   6   7   8\n",
    "#   -9  -8  -7  -6  -5  -4  -3  -2  -1\n",
    "#\n",
    "del integers_list[0]\n",
    "integers_list"
   ]
  },
  {
   "cell_type": "code",
   "execution_count": 2,
   "id": "f7d9c2b8-a606-4939-b4e9-2ce3bf4476d8",
   "metadata": {},
   "outputs": [
    {
     "data": {
      "text/plain": [
       "[1, 2, 5, 6, 7, 8]"
      ]
     },
     "execution_count": 2,
     "metadata": {},
     "output_type": "execute_result"
    }
   ],
   "source": [
    "#\n",
    "#  +---+---+---+---+---+---+---+---+\n",
    "#  | 1 | 2 | 3 | 4 | 5 | 6 | 7 | 8 |\n",
    "#  +---+---+---+---+---+---+---+---+\n",
    "#    0   1   2   3   4   5   6   7\n",
    "#   -8  -7  -6  -5  -4  -3  -2  -1\n",
    "#\n",
    "del integers_list[2:4]\n",
    "integers_list"
   ]
  },
  {
   "cell_type": "code",
   "execution_count": 3,
   "id": "c45d573c-e2ab-4d53-b6cc-e2b8d55b3834",
   "metadata": {},
   "outputs": [
    {
     "data": {
      "text/plain": [
       "[]"
      ]
     },
     "execution_count": 3,
     "metadata": {},
     "output_type": "execute_result"
    }
   ],
   "source": [
    "del integers_list[:]\n",
    "integers_list"
   ]
  },
  {
   "cell_type": "code",
   "execution_count": 4,
   "id": "ed973138-143c-4c70-bff0-a3408e8c3f90",
   "metadata": {},
   "outputs": [],
   "source": [
    "#\n",
    "# Borra la variable de memoria\n",
    "#\n",
    "del integers_list"
   ]
  },
  {
   "cell_type": "code",
   "execution_count": 5,
   "id": "7bf59413-ff02-4901-bc80-1f4c9c79ecd9",
   "metadata": {},
   "outputs": [
    {
     "data": {
      "text/plain": [
       "[]"
      ]
     },
     "execution_count": 5,
     "metadata": {},
     "output_type": "execute_result"
    }
   ],
   "source": [
    "#\n",
    "# Borrado del contenido de la lista\n",
    "#\n",
    "letters_list = [\"a\", \"b\", \"c\", \"d\", \"e\", \"f\", \"g\"]\n",
    "\n",
    "letters_list[:] = []\n",
    "letters_list"
   ]
  }
 ],
 "metadata": {
  "kernelspec": {
   "display_name": "Python 3",
   "language": "python",
   "name": "python3"
  },
  "language_info": {
   "codemirror_mode": {
    "name": "ipython",
    "version": 3
   },
   "file_extension": ".py",
   "mimetype": "text/x-python",
   "name": "python",
   "nbconvert_exporter": "python",
   "pygments_lexer": "ipython3",
   "version": "3.6.9"
  }
 },
 "nbformat": 4,
 "nbformat_minor": 5
}
