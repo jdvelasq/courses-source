{
 "cells": [
  {
   "cell_type": "markdown",
   "id": "35df0cae-5159-40e9-bcd6-7ceb1d6b6bfc",
   "metadata": {
    "tags": []
   },
   "source": [
    "Conjuntos\n",
    "===\n",
    "\n",
    "* *90:00 min* | Última modificación: Agosto 24, 2021 | [YouTube]"
   ]
  },
  {
   "cell_type": "markdown",
   "id": "be82b251-1ea7-4ad3-a930-f3ba74a96ef3",
   "metadata": {
    "tags": []
   },
   "source": []
  },
  {
   "cell_type": "markdown",
   "id": "1d25ce73-8acf-48af-9519-620586039a90",
   "metadata": {},
   "source": [
    "Al finalizar este tutorial, usted estará en capacidad de:\n",
    "\n",
    "*\n",
    "\n",
    "*"
   ]
  },
  {
   "cell_type": "markdown",
   "id": "c62bfe64-44ee-4f45-a326-cb621a8141e3",
   "metadata": {},
   "source": [
    "Un conjunto es una estructura de datos cuyos elementos no se repiten."
   ]
  },
  {
   "cell_type": "code",
   "execution_count": 81,
   "id": "4b5e8a47-ad64-47ef-8a1f-bad7fada6759",
   "metadata": {},
   "outputs": [
    {
     "name": "stdout",
     "output_type": "stream",
     "text": [
      "{'pear', 'orange', 'banana', 'apple'}\n"
     ]
    }
   ],
   "source": [
    "#\n",
    "# Un conjunto es una estructura de datos \n",
    "# cuyos elementos no se repiten\n",
    "#\n",
    "set_a = { 'a', 'a', 'b', 'c', 'd', 'd', 'd'}\n",
    "set_a"
   ]
  },
  {
   "cell_type": "code",
   "execution_count": 82,
   "id": "9f7a2aac-5f18-4bb9-8a7e-40f73251b053",
   "metadata": {},
   "outputs": [
    {
     "data": {
      "text/plain": [
       "True"
      ]
     },
     "execution_count": 82,
     "metadata": {},
     "output_type": "execute_result"
    }
   ],
   "source": [
    "#\n",
    "# Operador lógico para determinar si un\n",
    "# elemento esta en un conjunto\n",
    "#\n",
    "'a' in set_a"
   ]
  },
  {
   "cell_type": "code",
   "execution_count": 83,
   "id": "46bc21c3-9b39-45cf-9599-7bc9961ec820",
   "metadata": {},
   "outputs": [
    {
     "data": {
      "text/plain": [
       "False"
      ]
     },
     "execution_count": 83,
     "metadata": {},
     "output_type": "execute_result"
    }
   ],
   "source": [
    "'e' in set_a"
   ]
  },
  {
   "cell_type": "code",
   "execution_count": 84,
   "id": "979bed08-e7e4-4745-ab0f-24912669e9f3",
   "metadata": {},
   "outputs": [
    {
     "data": {
      "text/plain": [
       "{'a', 'b', 'c', 'd', 'r'}"
      ]
     },
     "execution_count": 84,
     "metadata": {},
     "output_type": "execute_result"
    }
   ],
   "source": [
    "#\n",
    "# Cuando la entrada al set es un string, los\n",
    "# elementos son sus letras\n",
    "#\n",
    "set_a = set('abracadabra')   \n",
    "set_b = set('alacazam')\n",
    "set_a "
   ]
  },
  {
   "cell_type": "markdown",
   "id": "d4e2b414-4a9b-442b-86f5-801d4a58b455",
   "metadata": {},
   "source": [
    "A continuación se presentan las principales operaciones entre conjuntos."
   ]
  },
  {
   "cell_type": "code",
   "execution_count": 85,
   "id": "e613a283-3e07-4ff8-b5b8-870b492873bf",
   "metadata": {},
   "outputs": [
    {
     "data": {
      "text/plain": [
       "{'b', 'd', 'r'}"
      ]
     },
     "execution_count": 85,
     "metadata": {},
     "output_type": "execute_result"
    }
   ],
   "source": [
    "#\n",
    "# Diferencia de conjuntos\n",
    "# ===================================\n",
    "#\n",
    "set_a - set_b                              "
   ]
  },
  {
   "cell_type": "code",
   "execution_count": 86,
   "id": "57544fd4-4e9a-4c43-81c9-42c0a5e0b32e",
   "metadata": {},
   "outputs": [
    {
     "data": {
      "text/plain": [
       "{'a', 'b', 'c', 'd', 'l', 'm', 'r', 'z'}"
      ]
     },
     "execution_count": 86,
     "metadata": {},
     "output_type": "execute_result"
    }
   ],
   "source": [
    "#\n",
    "# Unión de conjuntos\n",
    "# ===================================\n",
    "#\n",
    "set_a | set_b "
   ]
  },
  {
   "cell_type": "code",
   "execution_count": 87,
   "id": "dfecd2fb-4bbd-4608-af28-f62838807fa7",
   "metadata": {},
   "outputs": [
    {
     "data": {
      "text/plain": [
       "{'a', 'c'}"
      ]
     },
     "execution_count": 87,
     "metadata": {},
     "output_type": "execute_result"
    }
   ],
   "source": [
    "#\n",
    "# Intersección de conjuntos\n",
    "# ===================================\n",
    "#\n",
    "set_a & set_b"
   ]
  },
  {
   "cell_type": "code",
   "execution_count": 88,
   "id": "13c05070-9d31-466a-9850-a22fb13b1d58",
   "metadata": {},
   "outputs": [
    {
     "data": {
      "text/plain": [
       "{'b', 'd', 'l', 'm', 'r', 'z'}"
      ]
     },
     "execution_count": 88,
     "metadata": {},
     "output_type": "execute_result"
    }
   ],
   "source": [
    "#\n",
    "# Unión menos intersección\n",
    "# ===================================\n",
    "#\n",
    "set_a ^ set_b"
   ]
  }
 ],
 "metadata": {
  "kernelspec": {
   "display_name": "Python 3",
   "language": "python",
   "name": "python3"
  },
  "language_info": {
   "codemirror_mode": {
    "name": "ipython",
    "version": 3
   },
   "file_extension": ".py",
   "mimetype": "text/x-python",
   "name": "python",
   "nbconvert_exporter": "python",
   "pygments_lexer": "ipython3",
   "version": "3.6.9"
  }
 },
 "nbformat": 4,
 "nbformat_minor": 5
}
