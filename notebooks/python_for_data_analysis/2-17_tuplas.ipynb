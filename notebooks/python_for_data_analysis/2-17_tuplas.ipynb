{
 "cells": [
  {
   "cell_type": "markdown",
   "id": "35df0cae-5159-40e9-bcd6-7ceb1d6b6bfc",
   "metadata": {
    "tags": []
   },
   "source": [
    "Tuplas --- 8:01 min\n",
    "===\n",
    "\n",
    "* 8:01 min | Última modificación: Octubre 5, 2021 | [YouTube](https://youtu.be/_NvE1amluJw)"
   ]
  },
  {
   "cell_type": "markdown",
   "id": "56281b01-c28e-4f9d-bd80-ca0189a7f85d",
   "metadata": {},
   "source": [
    "Una tupla es una secuencia de elementos separados por comas. "
   ]
  },
  {
   "cell_type": "code",
   "execution_count": 1,
   "id": "3639967d-9bf5-43dd-8282-4d2ebc7ae1d9",
   "metadata": {},
   "outputs": [
    {
     "data": {
      "text/plain": [
       "()"
      ]
     },
     "execution_count": 1,
     "metadata": {},
     "output_type": "execute_result"
    }
   ],
   "source": [
    "#\n",
    "# Creación de una tupla vacia\n",
    "#\n",
    "empty_tuple = ()\n",
    "empty_tuple"
   ]
  },
  {
   "cell_type": "code",
   "execution_count": 2,
   "id": "39ad1bf1-053b-4249-aba1-ca92acb6c749",
   "metadata": {},
   "outputs": [
    {
     "data": {
      "text/plain": [
       "()"
      ]
     },
     "execution_count": 2,
     "metadata": {},
     "output_type": "execute_result"
    }
   ],
   "source": [
    "#\n",
    "# Creación de una tupla vacia\n",
    "#\n",
    "empty_tuple = tuple()\n",
    "empty_tuple"
   ]
  },
  {
   "cell_type": "code",
   "execution_count": 3,
   "id": "560a578e-c628-41d3-a35a-fc2c28a2efc8",
   "metadata": {},
   "outputs": [
    {
     "data": {
      "text/plain": [
       "tuple"
      ]
     },
     "execution_count": 3,
     "metadata": {},
     "output_type": "execute_result"
    }
   ],
   "source": [
    "#\n",
    "# Tipo\n",
    "#\n",
    "type(empty_tuple)"
   ]
  },
  {
   "cell_type": "code",
   "execution_count": 4,
   "id": "cefde7c8-a3e8-40a0-83ac-f2ae16b77824",
   "metadata": {},
   "outputs": [
    {
     "data": {
      "text/plain": [
       "(12345, 54321, 'hello!')"
      ]
     },
     "execution_count": 4,
     "metadata": {},
     "output_type": "execute_result"
    }
   ],
   "source": [
    "#\n",
    "# Una tupla es una secuencia de\n",
    "# elementos separados por comas\n",
    "#\n",
    "tuple_a = 12345, 54321, \"hello!\"\n",
    "tuple_a"
   ]
  },
  {
   "cell_type": "code",
   "execution_count": 5,
   "id": "f155bb7f-e585-4d52-8cb2-6f30340eefdc",
   "metadata": {},
   "outputs": [
    {
     "data": {
      "text/plain": [
       "(12345, 54321, 'hello!')"
      ]
     },
     "execution_count": 5,
     "metadata": {},
     "output_type": "execute_result"
    }
   ],
   "source": [
    "tuple_a = tuple((12345, 54321, \"hello!\"))\n",
    "tuple_a"
   ]
  },
  {
   "cell_type": "code",
   "execution_count": 6,
   "id": "459a19d0-b58a-4661-af02-d908167c43e9",
   "metadata": {},
   "outputs": [
    {
     "data": {
      "text/plain": [
       "3"
      ]
     },
     "execution_count": 6,
     "metadata": {},
     "output_type": "execute_result"
    }
   ],
   "source": [
    "#\n",
    "# Longitud de una tupla\n",
    "#\n",
    "len(tuple_a)"
   ]
  },
  {
   "cell_type": "code",
   "execution_count": 7,
   "id": "ea3e3c57-ab29-465b-a3fc-84ffaa03f8c9",
   "metadata": {},
   "outputs": [
    {
     "data": {
      "text/plain": [
       "(1,)"
      ]
     },
     "execution_count": 7,
     "metadata": {},
     "output_type": "execute_result"
    }
   ],
   "source": [
    "#\n",
    "# Tupla con un solo elemento\n",
    "#\n",
    "one_element_tuple = (1,)\n",
    "one_element_tuple"
   ]
  },
  {
   "cell_type": "code",
   "execution_count": 24,
   "id": "9e0fb0d7-09dd-46d1-8072-1b58bf05a30f",
   "metadata": {},
   "outputs": [
    {
     "data": {
      "text/plain": [
       "(1,)"
      ]
     },
     "execution_count": 24,
     "metadata": {},
     "output_type": "execute_result"
    }
   ],
   "source": [
    "1,"
   ]
  },
  {
   "cell_type": "code",
   "execution_count": 8,
   "id": "1f792a78-62ee-4151-a20c-2a315c23289d",
   "metadata": {},
   "outputs": [
    {
     "data": {
      "text/plain": [
       "54321"
      ]
     },
     "execution_count": 8,
     "metadata": {},
     "output_type": "execute_result"
    }
   ],
   "source": [
    "#\n",
    "# Los elementos de una tupla pueden ser\n",
    "# accesados por su posición\n",
    "#\n",
    "tuple_a[1]"
   ]
  },
  {
   "cell_type": "code",
   "execution_count": 9,
   "id": "a6184aa5-9d04-4696-b715-3eb631dfb602",
   "metadata": {},
   "outputs": [
    {
     "data": {
      "text/plain": [
       "((12345, 54321, 'hello!'), (1, 2, 3, 4, 5))"
      ]
     },
     "execution_count": 9,
     "metadata": {},
     "output_type": "execute_result"
    }
   ],
   "source": [
    "#\n",
    "# Las tuplas pueden anidarse.\n",
    "#\n",
    "tuple_b = tuple_a, (1, 2, 3, 4, 5)\n",
    "tuple_b"
   ]
  },
  {
   "cell_type": "code",
   "execution_count": 10,
   "id": "fcbb701c-e4a2-49ff-bd3d-fac68e9fac97",
   "metadata": {},
   "outputs": [
    {
     "data": {
      "text/plain": [
       "1"
      ]
     },
     "metadata": {},
     "output_type": "display_data"
    },
    {
     "data": {
      "text/plain": [
       "2"
      ]
     },
     "metadata": {},
     "output_type": "display_data"
    },
    {
     "data": {
      "text/plain": [
       "3"
      ]
     },
     "metadata": {},
     "output_type": "display_data"
    }
   ],
   "source": [
    "#\n",
    "# Asignación de elementos de una\n",
    "# tupla a variables\n",
    "#\n",
    "tuple_a = 1, 2, 3\n",
    "first, second, third = tuple_a\n",
    "\n",
    "display(\n",
    "    first,\n",
    "    second,\n",
    "    third,\n",
    ")"
   ]
  },
  {
   "cell_type": "code",
   "execution_count": 11,
   "id": "7243cfa2-44e5-4ca3-9bf0-3a87b15383ce",
   "metadata": {},
   "outputs": [
    {
     "data": {
      "text/plain": [
       "1"
      ]
     },
     "metadata": {},
     "output_type": "display_data"
    },
    {
     "data": {
      "text/plain": [
       "[2, 3, 4]"
      ]
     },
     "metadata": {},
     "output_type": "display_data"
    },
    {
     "data": {
      "text/plain": [
       "5"
      ]
     },
     "metadata": {},
     "output_type": "display_data"
    }
   ],
   "source": [
    "#\n",
    "# Desempaquetado\n",
    "#\n",
    "tuple_a = 1, 2, 3, 4, 5\n",
    "\n",
    "first, *second, third = tuple_a\n",
    "\n",
    "display(\n",
    "    first,\n",
    "    second,\n",
    "    third,\n",
    ")"
   ]
  },
  {
   "cell_type": "code",
   "execution_count": 12,
   "id": "27262457-19c9-4386-86e3-9f426bdf8b84",
   "metadata": {},
   "outputs": [
    {
     "data": {
      "text/plain": [
       "1"
      ]
     },
     "metadata": {},
     "output_type": "display_data"
    },
    {
     "data": {
      "text/plain": [
       "2"
      ]
     },
     "metadata": {},
     "output_type": "display_data"
    },
    {
     "data": {
      "text/plain": [
       "3"
      ]
     },
     "metadata": {},
     "output_type": "display_data"
    }
   ],
   "source": [
    "#\n",
    "# Asignación de elementos de una\n",
    "# tupla a variables\n",
    "#\n",
    "tuple_a = 1, 2, 3\n",
    "first, second, third = tuple_a\n",
    "\n",
    "display(\n",
    "    first,\n",
    "    second,\n",
    "    third,\n",
    ")"
   ]
  },
  {
   "cell_type": "code",
   "execution_count": 13,
   "id": "fd340912-201e-44e0-a30f-2110bf524179",
   "metadata": {},
   "outputs": [
    {
     "data": {
      "text/plain": [
       "([1, 2, 4], ['a', 'b', 'c', 'd'])"
      ]
     },
     "execution_count": 13,
     "metadata": {},
     "output_type": "execute_result"
    }
   ],
   "source": [
    "#\n",
    "# Las tuplas pueden contener elementos\n",
    "# con tipos de datos complejos\n",
    "#\n",
    "int_list = [1, 2, 4]\n",
    "letters_list = [\"a\", \"b\", \"c\", \"d\"]\n",
    "complex_tuple = int_list, letters_list\n",
    "complex_tuple"
   ]
  },
  {
   "cell_type": "code",
   "execution_count": 14,
   "id": "fdabb450-381b-4a7a-91cf-c034a0d8b09f",
   "metadata": {},
   "outputs": [
    {
     "data": {
      "text/plain": [
       "(3, 4, 5)"
      ]
     },
     "execution_count": 14,
     "metadata": {},
     "output_type": "execute_result"
    }
   ],
   "source": [
    "#\n",
    "# Selección de un rango\n",
    "#\n",
    "integers_tuple = (1, 2, 3, 4, 5, 6, 7)\n",
    "integers_tuple[2:5]"
   ]
  },
  {
   "cell_type": "code",
   "execution_count": 15,
   "id": "a4b56164-612b-4eaa-923f-27829e531d98",
   "metadata": {},
   "outputs": [
    {
     "data": {
      "text/plain": [
       "('A', 'B', 'C', 'D', 'E')"
      ]
     },
     "execution_count": 15,
     "metadata": {},
     "output_type": "execute_result"
    }
   ],
   "source": [
    "#\n",
    "# Creación de una tupla con un string\n",
    "#\n",
    "from_string_tuple = tuple(\"ABCDE\")\n",
    "from_string_tuple"
   ]
  },
  {
   "cell_type": "code",
   "execution_count": 16,
   "id": "61ee59c1-340d-46fd-b336-5ec0fa690aa4",
   "metadata": {},
   "outputs": [
    {
     "data": {
      "text/plain": [
       "('a', 'b', 'c', 'd')"
      ]
     },
     "execution_count": 16,
     "metadata": {},
     "output_type": "execute_result"
    }
   ],
   "source": [
    "#\n",
    "# Creación de una tupla usando un iterable\n",
    "#\n",
    "letters_list = [\"a\", \"b\", \"c\", \"d\"]\n",
    "letters_tuple = tuple(letters_list)\n",
    "letters_tuple"
   ]
  },
  {
   "cell_type": "code",
   "execution_count": 17,
   "id": "3ce0e7bf-f82b-46ad-83b3-8db523c430dc",
   "metadata": {},
   "outputs": [
    {
     "data": {
      "text/plain": [
       "True"
      ]
     },
     "execution_count": 17,
     "metadata": {},
     "output_type": "execute_result"
    }
   ],
   "source": [
    "#\n",
    "# Existencia de un elemento en una tupla\n",
    "#\n",
    "letters_tuple = (\"a\", \"b\", \"c\", \"d\")\n",
    "\n",
    "\"a\" in letters_tuple"
   ]
  },
  {
   "cell_type": "code",
   "execution_count": 18,
   "id": "75cf2c4e-7ae9-4582-bf21-f59903578e5d",
   "metadata": {},
   "outputs": [
    {
     "data": {
      "text/plain": [
       "True"
      ]
     },
     "execution_count": 18,
     "metadata": {},
     "output_type": "execute_result"
    }
   ],
   "source": [
    "\"m\" not in letters_tuple"
   ]
  },
  {
   "cell_type": "code",
   "execution_count": 19,
   "id": "27d32da9-02f7-482e-92a0-2ff965edb0fd",
   "metadata": {},
   "outputs": [
    {
     "data": {
      "text/plain": [
       "[('a', 1), ('b', 2), ('c', 3), ('d', 4)]"
      ]
     },
     "execution_count": 19,
     "metadata": {},
     "output_type": "execute_result"
    }
   ],
   "source": [
    "#\n",
    "# Creación de tuplas usando zip\n",
    "#\n",
    "letters_list = [\"a\", \"b\", \"c\", \"d\"]\n",
    "integers_list = [1, 2, 3, 4]\n",
    "list(zip(letters_list, integers_list))"
   ]
  },
  {
   "cell_type": "code",
   "execution_count": 20,
   "id": "6b781ddc-b69b-4ce3-af3c-777ec8b5aa89",
   "metadata": {},
   "outputs": [
    {
     "data": {
      "text/plain": [
       "3"
      ]
     },
     "execution_count": 20,
     "metadata": {},
     "output_type": "execute_result"
    }
   ],
   "source": [
    "#\n",
    "# Método count()\n",
    "#\n",
    "letters_tuple = \"a\", \"b\", \"b\", \"c\", \"c\", \"c\"\n",
    "letters_tuple.count(\"c\")"
   ]
  },
  {
   "cell_type": "code",
   "execution_count": 21,
   "id": "888eb5f4-bcdb-436f-aaca-98f3c7d7d7e6",
   "metadata": {},
   "outputs": [
    {
     "data": {
      "text/plain": [
       "2"
      ]
     },
     "execution_count": 21,
     "metadata": {},
     "output_type": "execute_result"
    }
   ],
   "source": [
    "#\n",
    "# Método index\n",
    "#\n",
    "int_tuple = 1, 4, 5, 9, 8, 7\n",
    "int_tuple.index(5)"
   ]
  },
  {
   "cell_type": "code",
   "execution_count": 22,
   "id": "e102237f-b739-4546-88de-1bbef0175a51",
   "metadata": {},
   "outputs": [],
   "source": [
    "#\n",
    "# Las tuplas no tienen metodo append\n",
    "#"
   ]
  },
  {
   "cell_type": "markdown",
   "id": "154a30ac-98ac-48cd-a0f7-531353b56df4",
   "metadata": {},
   "source": [
    "![tuple_append_error.png](assets/tuple_append_error.png)"
   ]
  },
  {
   "cell_type": "code",
   "execution_count": 23,
   "id": "6cd96244-801c-4b32-b2a1-7bab2a355af1",
   "metadata": {},
   "outputs": [],
   "source": [
    "#\n",
    "# Las tuplas no soportan asignación\n",
    "#"
   ]
  },
  {
   "cell_type": "markdown",
   "id": "bbcee08f-0c8d-4ef1-98c7-d656b81b28cd",
   "metadata": {},
   "source": [
    "![tuple_item_assighment_error.png](assets/tuple_item_assighment_error.png)"
   ]
  }
 ],
 "metadata": {
  "kernelspec": {
   "display_name": "Python 3",
   "language": "python",
   "name": "python3"
  },
  "language_info": {
   "codemirror_mode": {
    "name": "ipython",
    "version": 3
   },
   "file_extension": ".py",
   "mimetype": "text/x-python",
   "name": "python",
   "nbconvert_exporter": "python",
   "pygments_lexer": "ipython3",
   "version": "3.6.9"
  }
 },
 "nbformat": 4,
 "nbformat_minor": 5
}
