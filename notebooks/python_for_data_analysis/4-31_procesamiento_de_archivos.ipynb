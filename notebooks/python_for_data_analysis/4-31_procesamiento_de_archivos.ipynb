{
 "cells": [
  {
   "cell_type": "markdown",
   "id": "bec88b2d-b701-4a54-b4a6-226870dfdba3",
   "metadata": {
    "tags": []
   },
   "source": [
    "Procesamiento de un archivo usando list comprenhensions --- 6:34 min\n",
    "===\n",
    "\n",
    "* 6:34 min | Última modificación: Octubre 5, 2021 | [YouTube](https://youtu.be/QQd3VM80X5E)"
   ]
  },
  {
   "cell_type": "code",
   "execution_count": 1,
   "id": "f9569b71-dccb-49a4-9e27-2ad18635d93f",
   "metadata": {},
   "outputs": [
    {
     "name": "stdout",
     "output_type": "stream",
     "text": [
      "Overwriting /tmp/data.csv\n"
     ]
    }
   ],
   "source": [
    "%%writefile /tmp/data.csv\n",
    "Date,Year,CustomerID,Value\n",
    "2013-01-12,2013,1,100\n",
    "2014-05-12,2014,1,100\n",
    "2013-02-25,2013,2,200\n",
    "2013-04-04,2013,1,100\n",
    "2013-06-21,2013,2,200\n",
    "2014-05-18,2014,1,100\n",
    "2014-06-23,2014,2,200\n",
    "2013-02-28,2013,1,100\n",
    "2013-08-02,2013,1,100"
   ]
  },
  {
   "cell_type": "code",
   "execution_count": 2,
   "id": "fcf0e0b0-c5f5-4365-ac4a-5dd4d6c180bb",
   "metadata": {},
   "outputs": [
    {
     "data": {
      "text/plain": [
       "['Date,Year,CustomerID,Value\\n',\n",
       " '2013-01-12,2013,1,100\\n',\n",
       " '2014-05-12,2014,1,100\\n',\n",
       " '2013-02-25,2013,2,200\\n',\n",
       " '2013-04-04,2013,1,100\\n',\n",
       " '2013-06-21,2013,2,200\\n',\n",
       " '2014-05-18,2014,1,100\\n',\n",
       " '2014-06-23,2014,2,200\\n',\n",
       " '2013-02-28,2013,1,100\\n',\n",
       " '2013-08-02,2013,1,100\\n']"
      ]
     },
     "execution_count": 2,
     "metadata": {},
     "output_type": "execute_result"
    }
   ],
   "source": [
    "x = open(\"/tmp/data.csv\", \"r\").readlines()\n",
    "x"
   ]
  },
  {
   "cell_type": "code",
   "execution_count": 3,
   "id": "fba8ec22-3602-4a4c-b796-12f2da49e22e",
   "metadata": {},
   "outputs": [
    {
     "data": {
      "text/plain": [
       "['Date,Year,CustomerID,Value',\n",
       " '2013-01-12,2013,1,100',\n",
       " '2014-05-12,2014,1,100',\n",
       " '2013-02-25,2013,2,200',\n",
       " '2013-04-04,2013,1,100',\n",
       " '2013-06-21,2013,2,200',\n",
       " '2014-05-18,2014,1,100',\n",
       " '2014-06-23,2014,2,200',\n",
       " '2013-02-28,2013,1,100',\n",
       " '2013-08-02,2013,1,100']"
      ]
     },
     "execution_count": 3,
     "metadata": {},
     "output_type": "execute_result"
    }
   ],
   "source": [
    "x = [z.replace(\"\\n\", \"\") for z in x]\n",
    "x"
   ]
  },
  {
   "cell_type": "code",
   "execution_count": 4,
   "id": "d8c52370-321a-4aa6-a837-c3695f87de8f",
   "metadata": {},
   "outputs": [
    {
     "data": {
      "text/plain": [
       "[['Date', 'Year', 'CustomerID', 'Value'],\n",
       " ['2013-01-12', '2013', '1', '100'],\n",
       " ['2014-05-12', '2014', '1', '100'],\n",
       " ['2013-02-25', '2013', '2', '200'],\n",
       " ['2013-04-04', '2013', '1', '100'],\n",
       " ['2013-06-21', '2013', '2', '200'],\n",
       " ['2014-05-18', '2014', '1', '100'],\n",
       " ['2014-06-23', '2014', '2', '200'],\n",
       " ['2013-02-28', '2013', '1', '100'],\n",
       " ['2013-08-02', '2013', '1', '100']]"
      ]
     },
     "execution_count": 4,
     "metadata": {},
     "output_type": "execute_result"
    }
   ],
   "source": [
    "x = [z.split(\",\") for z in x]\n",
    "x"
   ]
  },
  {
   "cell_type": "code",
   "execution_count": 5,
   "id": "315b7195-ad9a-4b2f-b91e-3072c3780268",
   "metadata": {},
   "outputs": [
    {
     "data": {
      "text/plain": [
       "['2013-01-12',\n",
       " '2014-05-12',\n",
       " '2013-02-25',\n",
       " '2013-04-04',\n",
       " '2013-06-21',\n",
       " '2014-05-18',\n",
       " '2014-06-23',\n",
       " '2013-02-28',\n",
       " '2013-08-02']"
      ]
     },
     "execution_count": 5,
     "metadata": {},
     "output_type": "execute_result"
    }
   ],
   "source": [
    "# extrae el campo Date\n",
    "[z[0] for z in x[1:]]"
   ]
  },
  {
   "cell_type": "code",
   "execution_count": 6,
   "id": "83f65104-d44d-41bf-ac13-a3664346b68b",
   "metadata": {},
   "outputs": [
    {
     "data": {
      "text/plain": [
       "[['2013', '01', '12'],\n",
       " ['2014', '05', '12'],\n",
       " ['2013', '02', '25'],\n",
       " ['2013', '04', '04'],\n",
       " ['2013', '06', '21'],\n",
       " ['2014', '05', '18'],\n",
       " ['2014', '06', '23'],\n",
       " ['2013', '02', '28'],\n",
       " ['2013', '08', '02']]"
      ]
     },
     "execution_count": 6,
     "metadata": {},
     "output_type": "execute_result"
    }
   ],
   "source": [
    "# separa Date en sus partes\n",
    "[z[0].split(\"-\") for z in x[1:]]"
   ]
  },
  {
   "cell_type": "code",
   "execution_count": 7,
   "id": "01bbe424-e4fc-4fac-a3f9-a2f53bf09a9b",
   "metadata": {},
   "outputs": [
    {
     "data": {
      "text/plain": [
       "['01', '05', '02', '04', '06', '05', '06', '02', '08']"
      ]
     },
     "execution_count": 7,
     "metadata": {},
     "output_type": "execute_result"
    }
   ],
   "source": [
    "# el mes ocupa la posicion 1\n",
    "[z[0].split(\"-\")[1] for z in x[1:]]  # el mes"
   ]
  },
  {
   "cell_type": "code",
   "execution_count": 8,
   "id": "6ce45138-a538-4998-ba02-149b846bc7cf",
   "metadata": {},
   "outputs": [
    {
     "data": {
      "text/plain": [
       "[['Date', 'Year', 'CustomerID', 'Value'],\n",
       " ['2013-01-12', '2013', '1', '100', '01'],\n",
       " ['2014-05-12', '2014', '1', '100', '05'],\n",
       " ['2013-02-25', '2013', '2', '200', '02'],\n",
       " ['2013-04-04', '2013', '1', '100', '04'],\n",
       " ['2013-06-21', '2013', '2', '200', '06'],\n",
       " ['2014-05-18', '2014', '1', '100', '05'],\n",
       " ['2014-06-23', '2014', '2', '200', '06'],\n",
       " ['2013-02-28', '2013', '1', '100', '02'],\n",
       " ['2013-08-02', '2013', '1', '100', '08']]"
      ]
     },
     "execution_count": 8,
     "metadata": {},
     "output_type": "execute_result"
    }
   ],
   "source": [
    "x[1:] = [z + [z[0].split(\"-\")[1]] for z in x[1:]]\n",
    "x"
   ]
  },
  {
   "cell_type": "code",
   "execution_count": 9,
   "id": "e04dfff1-ad9a-4fbb-b877-f0ddf7d2d1bc",
   "metadata": {},
   "outputs": [
    {
     "data": {
      "text/plain": [
       "[['Date', 'Year', 'CustomerID', 'Value', 'Month'],\n",
       " ['2013-01-12', '2013', '1', '100', '01'],\n",
       " ['2014-05-12', '2014', '1', '100', '05'],\n",
       " ['2013-02-25', '2013', '2', '200', '02'],\n",
       " ['2013-04-04', '2013', '1', '100', '04'],\n",
       " ['2013-06-21', '2013', '2', '200', '06'],\n",
       " ['2014-05-18', '2014', '1', '100', '05'],\n",
       " ['2014-06-23', '2014', '2', '200', '06'],\n",
       " ['2013-02-28', '2013', '1', '100', '02'],\n",
       " ['2013-08-02', '2013', '1', '100', '08']]"
      ]
     },
     "execution_count": 9,
     "metadata": {},
     "output_type": "execute_result"
    }
   ],
   "source": [
    "x[0].append(\"Month\")\n",
    "x"
   ]
  },
  {
   "cell_type": "code",
   "execution_count": 10,
   "id": "18609cac-5c0b-4de2-a239-0ed5d43e75fd",
   "metadata": {},
   "outputs": [
    {
     "data": {
      "text/plain": [
       "[['2013-01-12', '2013', '1', '100', '01'],\n",
       " ['2013-02-25', '2013', '2', '200', '02'],\n",
       " ['2013-04-04', '2013', '1', '100', '04'],\n",
       " ['2013-06-21', '2013', '2', '200', '06'],\n",
       " ['2013-02-28', '2013', '1', '100', '02'],\n",
       " ['2013-08-02', '2013', '1', '100', '08']]"
      ]
     },
     "execution_count": 10,
     "metadata": {},
     "output_type": "execute_result"
    }
   ],
   "source": [
    "[z for z in x if z[1] == \"2013\"]"
   ]
  }
 ],
 "metadata": {
  "kernelspec": {
   "display_name": "Python 3",
   "language": "python",
   "name": "python3"
  },
  "language_info": {
   "codemirror_mode": {
    "name": "ipython",
    "version": 3
   },
   "file_extension": ".py",
   "mimetype": "text/x-python",
   "name": "python",
   "nbconvert_exporter": "python",
   "pygments_lexer": "ipython3",
   "version": "3.6.9"
  }
 },
 "nbformat": 4,
 "nbformat_minor": 5
}
