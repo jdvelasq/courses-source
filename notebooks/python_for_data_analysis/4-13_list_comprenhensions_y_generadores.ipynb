{
 "cells": [
  {
   "cell_type": "markdown",
   "id": "5f9b94b9-74af-4a04-acad-00cbec490810",
   "metadata": {
    "tags": []
   },
   "source": [
    "List Comprenhensions\n",
    "===\n",
    "\n",
    "* *90:00 min* | Última modificación: Agosto 26, 2021 | [YouTube]"
   ]
  },
  {
   "cell_type": "code",
   "execution_count": null,
   "id": "aff0bc62-c926-4ae2-af2d-394757515a3f",
   "metadata": {
    "tags": []
   },
   "outputs": [],
   "source": []
  },
  {
   "cell_type": "code",
   "execution_count": 1,
   "id": "5a114855-0fd1-43bc-b628-d14e79a84757",
   "metadata": {},
   "outputs": [
    {
     "data": {
      "text/plain": [
       "[0, 1, 4, 9, 16, 25, 36, 49, 64, 81]"
      ]
     },
     "execution_count": 1,
     "metadata": {},
     "output_type": "execute_result"
    }
   ],
   "source": [
    "#\n",
    "# Llenado de una lista con append\n",
    "#\n",
    "squares = []\n",
    "for x in range(10):\n",
    "    squares.append(x**2)\n",
    "\n",
    "squares"
   ]
  },
  {
   "cell_type": "code",
   "execution_count": 2,
   "id": "2892c8a5-380f-4d42-ab67-71276bf2a263",
   "metadata": {},
   "outputs": [
    {
     "data": {
      "text/plain": [
       "[0, 1, 4, 9, 16, 25, 36, 49, 64, 81]"
      ]
     },
     "execution_count": 2,
     "metadata": {},
     "output_type": "execute_result"
    }
   ],
   "source": [
    "#\n",
    "# Comprenhension equivalente\n",
    "#\n",
    "squares = [x**2 for x in range(10)]\n",
    "squares"
   ]
  },
  {
   "cell_type": "code",
   "execution_count": 3,
   "id": "574d4834-51fa-4742-91ce-b2420a0d5c33",
   "metadata": {},
   "outputs": [
    {
     "data": {
      "text/plain": [
       "[0, 1, 4, 9, 16, 25, 36, 49, 64, 81]"
      ]
     },
     "execution_count": 3,
     "metadata": {},
     "output_type": "execute_result"
    }
   ],
   "source": [
    "#\n",
    "# Código equivalente usando map()\n",
    "#\n",
    "squares = list(map(lambda x: x**2, range(10)))\n",
    "squares"
   ]
  },
  {
   "cell_type": "code",
   "execution_count": 4,
   "id": "dc84be02-9361-44e8-a3d4-52509c512198",
   "metadata": {},
   "outputs": [
    {
     "data": {
      "text/plain": [
       "[(1, 3), (1, 4), (2, 3), (2, 1), (2, 4), (3, 1), (3, 4)]"
      ]
     },
     "execution_count": 4,
     "metadata": {},
     "output_type": "execute_result"
    }
   ],
   "source": [
    "#\n",
    "# Creación de pares usando ciclos for anidados\n",
    "#\n",
    "combs = []\n",
    "for x in [1,2,3]:\n",
    "    for y in [3,1,4]:\n",
    "        if x != y:\n",
    "            combs.append((x, y))\n",
    "\n",
    "combs"
   ]
  },
  {
   "cell_type": "code",
   "execution_count": 5,
   "id": "df0a44f4-7b52-4506-9580-fe2eedd93479",
   "metadata": {},
   "outputs": [
    {
     "data": {
      "text/plain": [
       "[(1, 3), (1, 4), (2, 3), (2, 1), (2, 4), (3, 1), (3, 4)]"
      ]
     },
     "execution_count": 5,
     "metadata": {},
     "output_type": "execute_result"
    }
   ],
   "source": [
    "#\n",
    "# Código equivalente usando un comprenhension\n",
    "#\n",
    "[(x, y) for x in [1,2,3] for y in [3,1,4] if x != y]"
   ]
  },
  {
   "cell_type": "code",
   "execution_count": 6,
   "id": "cde888ad-3638-4716-8598-0830f2b90990",
   "metadata": {},
   "outputs": [
    {
     "data": {
      "text/plain": [
       "[[0, 1, 2, 3, 4],\n",
       " [0, 1, 2, 3, 4],\n",
       " [0, 1, 2, 3, 4],\n",
       " [0, 1, 2, 3, 4],\n",
       " [0, 1, 2, 3, 4]]"
      ]
     },
     "execution_count": 6,
     "metadata": {},
     "output_type": "execute_result"
    }
   ],
   "source": [
    "#\n",
    "# Creación de una lista de listas\n",
    "#\n",
    "[list(range(5))  for _ in range(5)]"
   ]
  },
  {
   "cell_type": "code",
   "execution_count": 7,
   "id": "b42f11d5-e750-44b0-bc6a-76f94bfa97c5",
   "metadata": {},
   "outputs": [
    {
     "name": "stdout",
     "output_type": "stream",
     "text": [
      "012345678910111213141516171819\n"
     ]
    }
   ],
   "source": [
    "#\n",
    "# iteracción sobre strings -- MAL\n",
    "#\n",
    "nums = \"\"\n",
    "for n in range(20):\n",
    "    nums += str(n)\n",
    "print(nums)"
   ]
  },
  {
   "cell_type": "code",
   "execution_count": 8,
   "id": "a76e017a-29dc-4b98-b05f-3215357c915b",
   "metadata": {},
   "outputs": [
    {
     "name": "stdout",
     "output_type": "stream",
     "text": [
      "012345678910111213141516171819\n"
     ]
    }
   ],
   "source": [
    "#\n",
    "# Iteración sobre strings -- BIEN\n",
    "#\n",
    "nums = []\n",
    "for n in range(20):\n",
    "    nums.append(str(n))\n",
    "print(\"\".join(nums))"
   ]
  },
  {
   "cell_type": "code",
   "execution_count": 9,
   "id": "30c4f94d-e33e-4868-9ad8-ad698e588b88",
   "metadata": {},
   "outputs": [
    {
     "data": {
      "text/plain": [
       "'012345678910111213141516171819'"
      ]
     },
     "execution_count": 9,
     "metadata": {},
     "output_type": "execute_result"
    }
   ],
   "source": [
    "#\n",
    "# iteración sobre strings -- MEJOR\n",
    "#\n",
    "nums = [str(n) for n in range(20)]\n",
    "\"\".join(nums)"
   ]
  },
  {
   "cell_type": "code",
   "execution_count": 10,
   "id": "8a82c1cf-d26b-4f88-b66f-e001beae0240",
   "metadata": {},
   "outputs": [
    {
     "data": {
      "text/plain": [
       "[0, 1, 2, 3, 4]"
      ]
     },
     "execution_count": 10,
     "metadata": {},
     "output_type": "execute_result"
    }
   ],
   "source": [
    "#\n",
    "# Condicionales. if-then\n",
    "#\n",
    "[x for x in range(10) if x < 5]"
   ]
  },
  {
   "cell_type": "code",
   "execution_count": 11,
   "id": "2e707879-1555-45be-b8cf-910a5c0af9f3",
   "metadata": {},
   "outputs": [
    {
     "data": {
      "text/plain": [
       "[0, 1, 2, 3, 4, 0, 0, 0, 0, 0]"
      ]
     },
     "execution_count": 11,
     "metadata": {},
     "output_type": "execute_result"
    }
   ],
   "source": [
    "#\n",
    "# Condicionales. if-else\n",
    "#\n",
    "[x if x < 5 else 0 for x in range(10) ]"
   ]
  },
  {
   "cell_type": "code",
   "execution_count": 12,
   "id": "71ba179b-1a8e-4a70-9bc9-ce6072a13e50",
   "metadata": {},
   "outputs": [
    {
     "data": {
      "text/plain": [
       "{'A': 0, 'B': 1, 'C': 2, 'D': 3}"
      ]
     },
     "execution_count": 12,
     "metadata": {},
     "output_type": "execute_result"
    }
   ],
   "source": [
    "#\n",
    "# Dict comprenhension\n",
    "#\n",
    "{letter: i_letter for i_letter, letter in enumerate(['A', 'B', 'C', 'D'])}"
   ]
  },
  {
   "cell_type": "markdown",
   "id": "0a97d41a-e6b5-4e6a-a1b4-63cb9d80de5c",
   "metadata": {},
   "source": [
    "## Construcción de un generador usando una comprenhension"
   ]
  },
  {
   "cell_type": "code",
   "execution_count": 13,
   "id": "df436063-2ddc-45f6-aa24-21ac062d75f4",
   "metadata": {},
   "outputs": [
    {
     "data": {
      "text/plain": [
       "['1', '10', '11', '12', '13', '14', '15', '16', '17', '18', '19']"
      ]
     },
     "execution_count": 13,
     "metadata": {},
     "output_type": "execute_result"
    }
   ],
   "source": [
    "#\n",
    "# Numeros del 1 al 20 que contienen un '1'\n",
    "#\n",
    "import re\n",
    "\n",
    "[str(x) for x in range(1,21) if re.search('1', str(x))]"
   ]
  },
  {
   "cell_type": "code",
   "execution_count": 14,
   "id": "c644354e-438a-45df-a268-9700ba21fa52",
   "metadata": {},
   "outputs": [
    {
     "name": "stdout",
     "output_type": "stream",
     "text": [
      "0\n",
      "1\n",
      "4\n",
      "9\n",
      "16\n",
      "25\n",
      "36\n",
      "49\n",
      "64\n",
      "81\n"
     ]
    }
   ],
   "source": [
    "generador = (i**2 for i in range(10))\n",
    "for element in generador:\n",
    "    print(element)"
   ]
  },
  {
   "cell_type": "code",
   "execution_count": 15,
   "id": "37b196b3-f116-4cbf-ace2-339717a7f719",
   "metadata": {},
   "outputs": [
    {
     "data": {
      "text/plain": [
       "0"
      ]
     },
     "metadata": {},
     "output_type": "display_data"
    },
    {
     "data": {
      "text/plain": [
       "1"
      ]
     },
     "metadata": {},
     "output_type": "display_data"
    }
   ],
   "source": [
    "generador = (i**2 for i in range(10))\n",
    "display(\n",
    "    next(generador),\n",
    "    next(generador)\n",
    ")"
   ]
  },
  {
   "cell_type": "markdown",
   "id": "88e92d55-76e7-4b4b-89be-12e86253d891",
   "metadata": {},
   "source": [
    "## Uso de generadores en funciones"
   ]
  },
  {
   "cell_type": "code",
   "execution_count": 16,
   "id": "957f213f-5049-4e93-852d-339d8720d8d8",
   "metadata": {},
   "outputs": [
    {
     "name": "stdout",
     "output_type": "stream",
     "text": [
      "0\n",
      "1\n",
      "2\n",
      "3\n",
      "4\n"
     ]
    }
   ],
   "source": [
    "def num_sequence(n):\n",
    "    counter = 0\n",
    "    while counter < n:\n",
    "        yield counter\n",
    "        counter += 1\n",
    "        \n",
    "        \n",
    "for value in num_sequence(5):\n",
    "    print(value)"
   ]
  },
  {
   "cell_type": "markdown",
   "id": "3e9ba7ce-4107-411b-aff2-7f9efb13c7ad",
   "metadata": {},
   "source": [
    "## Uso de generadores para leer datos"
   ]
  },
  {
   "cell_type": "code",
   "execution_count": 17,
   "id": "0ad39480-aa56-45eb-94f3-aaa4c0eac8b3",
   "metadata": {},
   "outputs": [
    {
     "name": "stdout",
     "output_type": "stream",
     "text": [
      "CountryName,CountryCode,Year,Total Population,Urban population (% of total)\n",
      "Arab World,ARB,1960,92495902.0,31.285384211605397\n",
      "Caribbean small states,CSS,1960,4190810.0,31.5974898513652\n"
     ]
    }
   ],
   "source": [
    "data_url = \"https://raw.githubusercontent.com/jdvelasq/datalabs/master/datasets/world_bank_development_Indicators.csv\" \n",
    "!wget --quiet {data_url} -P /tmp/ \n",
    "\n",
    "\n",
    "def read_large_file(file_object):\n",
    "    \n",
    "    while True:\n",
    "\n",
    "        data = file_object.readline()\n",
    "\n",
    "        if not data:\n",
    "            break\n",
    "\n",
    "        yield data\n",
    "        \n",
    "        \n",
    "with open('/tmp/world_bank_development_Indicators.csv', 'r') as file:\n",
    "    \n",
    "    gen_file = read_large_file(file)\n",
    "    \n",
    "    print(next(gen_file), end='')\n",
    "    print(next(gen_file), end='')\n",
    "    print(next(gen_file), end='')"
   ]
  },
  {
   "cell_type": "markdown",
   "id": "8c933d71-06fe-451c-8a88-2c46ebeb8fd9",
   "metadata": {},
   "source": [
    "## Procesamiento de un archivo usando list comprenhensions"
   ]
  },
  {
   "cell_type": "code",
   "execution_count": 18,
   "id": "5a8e00e6-e1a0-4f3f-a51f-19becc4804b9",
   "metadata": {},
   "outputs": [
    {
     "name": "stdout",
     "output_type": "stream",
     "text": [
      "Writing out.1\n"
     ]
    }
   ],
   "source": [
    "%%writefile out.1\n",
    "Date, Year, CustomerID, Value\n",
    "2013-01-12, 2013, 1, 100\n",
    "2014-05-12, 2014, 1, 100\n",
    "2013-02-25, 2013, 2, 200\n",
    "2013-04-04, 2013, 1, 100\n",
    "2013-06-21, 2013, 2, 200\n",
    "2014-05-18, 2014, 1, 100\n",
    "2014-06-23, 2014, 2, 200\n",
    "2013-02-28, 2013, 1, 100\n",
    "2013-08-02, 2013, 1, 100"
   ]
  },
  {
   "cell_type": "code",
   "execution_count": 19,
   "id": "933c0eaa-2a55-47e3-a73d-e5d505eb3fe9",
   "metadata": {},
   "outputs": [
    {
     "data": {
      "text/plain": [
       "['Date, Year, CustomerID, Value\\n',\n",
       " '2013-01-12, 2013, 1, 100\\n',\n",
       " '2014-05-12, 2014, 1, 100\\n',\n",
       " '2013-02-25, 2013, 2, 200\\n',\n",
       " '2013-04-04, 2013, 1, 100\\n',\n",
       " '2013-06-21, 2013, 2, 200\\n',\n",
       " '2014-05-18, 2014, 1, 100\\n',\n",
       " '2014-06-23, 2014, 2, 200\\n',\n",
       " '2013-02-28, 2013, 1, 100\\n',\n",
       " '2013-08-02, 2013, 1, 100\\n']"
      ]
     },
     "execution_count": 19,
     "metadata": {},
     "output_type": "execute_result"
    }
   ],
   "source": [
    "x = open('out.1','r').readlines()\n",
    "x"
   ]
  },
  {
   "cell_type": "code",
   "execution_count": 20,
   "id": "1b3a06c8-1009-43ed-9c79-61dac7b17ddd",
   "metadata": {},
   "outputs": [
    {
     "data": {
      "text/plain": [
       "['Date, Year, CustomerID, Value',\n",
       " '2013-01-12, 2013, 1, 100',\n",
       " '2014-05-12, 2014, 1, 100',\n",
       " '2013-02-25, 2013, 2, 200',\n",
       " '2013-04-04, 2013, 1, 100',\n",
       " '2013-06-21, 2013, 2, 200',\n",
       " '2014-05-18, 2014, 1, 100',\n",
       " '2014-06-23, 2014, 2, 200',\n",
       " '2013-02-28, 2013, 1, 100',\n",
       " '2013-08-02, 2013, 1, 100']"
      ]
     },
     "execution_count": 20,
     "metadata": {},
     "output_type": "execute_result"
    }
   ],
   "source": [
    "x = [z.replace('\\n', '') for z in x]\n",
    "x"
   ]
  },
  {
   "cell_type": "code",
   "execution_count": 21,
   "id": "e3ab525f-5ed2-4150-a139-30dc91ba93c6",
   "metadata": {},
   "outputs": [
    {
     "data": {
      "text/plain": [
       "[['Date', ' Year', ' CustomerID', ' Value'],\n",
       " ['2013-01-12', ' 2013', ' 1', ' 100'],\n",
       " ['2014-05-12', ' 2014', ' 1', ' 100'],\n",
       " ['2013-02-25', ' 2013', ' 2', ' 200'],\n",
       " ['2013-04-04', ' 2013', ' 1', ' 100'],\n",
       " ['2013-06-21', ' 2013', ' 2', ' 200'],\n",
       " ['2014-05-18', ' 2014', ' 1', ' 100'],\n",
       " ['2014-06-23', ' 2014', ' 2', ' 200'],\n",
       " ['2013-02-28', ' 2013', ' 1', ' 100'],\n",
       " ['2013-08-02', ' 2013', ' 1', ' 100']]"
      ]
     },
     "execution_count": 21,
     "metadata": {},
     "output_type": "execute_result"
    }
   ],
   "source": [
    "x = [z.split(',') for z in x]\n",
    "x"
   ]
  },
  {
   "cell_type": "code",
   "execution_count": 22,
   "id": "fa8ed6f8-40cd-4c37-a1b3-acea588bde18",
   "metadata": {},
   "outputs": [
    {
     "data": {
      "text/plain": [
       "['2013-01-12',\n",
       " '2014-05-12',\n",
       " '2013-02-25',\n",
       " '2013-04-04',\n",
       " '2013-06-21',\n",
       " '2014-05-18',\n",
       " '2014-06-23',\n",
       " '2013-02-28',\n",
       " '2013-08-02']"
      ]
     },
     "execution_count": 22,
     "metadata": {},
     "output_type": "execute_result"
    }
   ],
   "source": [
    "# extrae el campo Date\n",
    "[z[0] for z in x[1:]]"
   ]
  },
  {
   "cell_type": "code",
   "execution_count": 23,
   "id": "c3f10a9f-74c8-4b61-914c-d201c1d9bad9",
   "metadata": {},
   "outputs": [
    {
     "data": {
      "text/plain": [
       "[['2013', '01', '12'],\n",
       " ['2014', '05', '12'],\n",
       " ['2013', '02', '25'],\n",
       " ['2013', '04', '04'],\n",
       " ['2013', '06', '21'],\n",
       " ['2014', '05', '18'],\n",
       " ['2014', '06', '23'],\n",
       " ['2013', '02', '28'],\n",
       " ['2013', '08', '02']]"
      ]
     },
     "execution_count": 23,
     "metadata": {},
     "output_type": "execute_result"
    }
   ],
   "source": [
    "# separa Date en sus partes\n",
    "[z[0].split('-') for z in x[1:]]"
   ]
  },
  {
   "cell_type": "code",
   "execution_count": 24,
   "id": "f7f026f1-6fcf-4314-9f44-8c80e93180e1",
   "metadata": {},
   "outputs": [
    {
     "data": {
      "text/plain": [
       "['01', '05', '02', '04', '06', '05', '06', '02', '08']"
      ]
     },
     "execution_count": 24,
     "metadata": {},
     "output_type": "execute_result"
    }
   ],
   "source": [
    "# el mes ocupa la posicion 1\n",
    "[z[0].split('-')[1] for z in x[1:]] # el mes"
   ]
  },
  {
   "cell_type": "code",
   "execution_count": 25,
   "id": "7dbd098f-d162-4d44-a337-0ff61f4b2b52",
   "metadata": {},
   "outputs": [
    {
     "data": {
      "text/plain": [
       "[['Date', ' Year', ' CustomerID', ' Value'],\n",
       " ['2013-01-12', ' 2013', ' 1', ' 100', '01'],\n",
       " ['2014-05-12', ' 2014', ' 1', ' 100', '05'],\n",
       " ['2013-02-25', ' 2013', ' 2', ' 200', '02'],\n",
       " ['2013-04-04', ' 2013', ' 1', ' 100', '04'],\n",
       " ['2013-06-21', ' 2013', ' 2', ' 200', '06'],\n",
       " ['2014-05-18', ' 2014', ' 1', ' 100', '05'],\n",
       " ['2014-06-23', ' 2014', ' 2', ' 200', '06'],\n",
       " ['2013-02-28', ' 2013', ' 1', ' 100', '02'],\n",
       " ['2013-08-02', ' 2013', ' 1', ' 100', '08']]"
      ]
     },
     "execution_count": 25,
     "metadata": {},
     "output_type": "execute_result"
    }
   ],
   "source": [
    "x[1:] = [z+[z[0].split('-')[1]] for z in x[1:]]\n",
    "x"
   ]
  },
  {
   "cell_type": "code",
   "execution_count": 26,
   "id": "b54cb209-606b-4320-9ef3-9c697d42e5a7",
   "metadata": {},
   "outputs": [
    {
     "data": {
      "text/plain": [
       "[['Date', ' Year', ' CustomerID', ' Value', 'Month'],\n",
       " ['2013-01-12', ' 2013', ' 1', ' 100', '01'],\n",
       " ['2014-05-12', ' 2014', ' 1', ' 100', '05'],\n",
       " ['2013-02-25', ' 2013', ' 2', ' 200', '02'],\n",
       " ['2013-04-04', ' 2013', ' 1', ' 100', '04'],\n",
       " ['2013-06-21', ' 2013', ' 2', ' 200', '06'],\n",
       " ['2014-05-18', ' 2014', ' 1', ' 100', '05'],\n",
       " ['2014-06-23', ' 2014', ' 2', ' 200', '06'],\n",
       " ['2013-02-28', ' 2013', ' 1', ' 100', '02'],\n",
       " ['2013-08-02', ' 2013', ' 1', ' 100', '08']]"
      ]
     },
     "execution_count": 26,
     "metadata": {},
     "output_type": "execute_result"
    }
   ],
   "source": [
    "x[0].append('Month')\n",
    "x"
   ]
  },
  {
   "cell_type": "code",
   "execution_count": 27,
   "id": "edeede23-5ef4-4dc3-8ef6-5d69492d0d9a",
   "metadata": {},
   "outputs": [
    {
     "data": {
      "text/plain": [
       "[['2013-01-12', ' 2013', ' 1', ' 100', '01'],\n",
       " ['2013-02-25', ' 2013', ' 2', ' 200', '02'],\n",
       " ['2013-04-04', ' 2013', ' 1', ' 100', '04'],\n",
       " ['2013-06-21', ' 2013', ' 2', ' 200', '06'],\n",
       " ['2013-02-28', ' 2013', ' 1', ' 100', '02'],\n",
       " ['2013-08-02', ' 2013', ' 1', ' 100', '08']]"
      ]
     },
     "execution_count": 27,
     "metadata": {},
     "output_type": "execute_result"
    }
   ],
   "source": [
    "[z for z in x if z[1] == ' 2013']"
   ]
  }
 ],
 "metadata": {
  "kernelspec": {
   "display_name": "Python 3",
   "language": "python",
   "name": "python3"
  },
  "language_info": {
   "codemirror_mode": {
    "name": "ipython",
    "version": 3
   },
   "file_extension": ".py",
   "mimetype": "text/x-python",
   "name": "python",
   "nbconvert_exporter": "python",
   "pygments_lexer": "ipython3",
   "version": "3.6.9"
  }
 },
 "nbformat": 4,
 "nbformat_minor": 5
}
