{
 "cells": [
  {
   "cell_type": "markdown",
   "id": "1f596601-1eb3-4787-89e3-d1fb4c7dfed5",
   "metadata": {
    "tags": []
   },
   "source": [
    "# Normalización de datos\n",
    "\n",
    "* *60:00 min* | Última modificación: Agosto 11, 2021 | YouTube"
   ]
  },
  {
   "cell_type": "code",
   "execution_count": 1,
   "id": "d8f4063f-eb45-4e59-9595-f66e6ed8ff0a",
   "metadata": {},
   "outputs": [],
   "source": [
    "import matplotlib.pyplot as plt\n",
    "import numpy as np\n",
    "import pandas as pd\n",
    "import seaborn as sns"
   ]
  },
  {
   "cell_type": "markdown",
   "id": "ffe0af4e-1f18-434a-86cc-2679e2ce8ec7",
   "metadata": {},
   "source": [
    "## Escalado lineal"
   ]
  },
  {
   "cell_type": "code",
   "execution_count": 2,
   "id": "32f24bf0-4f90-474f-91c3-e47fc480b8c8",
   "metadata": {},
   "outputs": [
    {
     "data": {
      "text/html": [
       "<div>\n",
       "<style scoped>\n",
       "    .dataframe tbody tr th:only-of-type {\n",
       "        vertical-align: middle;\n",
       "    }\n",
       "\n",
       "    .dataframe tbody tr th {\n",
       "        vertical-align: top;\n",
       "    }\n",
       "\n",
       "    .dataframe thead th {\n",
       "        text-align: right;\n",
       "    }\n",
       "</style>\n",
       "<table border=\"1\" class=\"dataframe\">\n",
       "  <thead>\n",
       "    <tr style=\"text-align: right;\">\n",
       "      <th></th>\n",
       "      <th>cement</th>\n",
       "      <th>slag</th>\n",
       "      <th>ash</th>\n",
       "      <th>water</th>\n",
       "      <th>superplastic</th>\n",
       "      <th>coarseagg</th>\n",
       "      <th>fineagg</th>\n",
       "      <th>age</th>\n",
       "      <th>strength</th>\n",
       "    </tr>\n",
       "  </thead>\n",
       "  <tbody>\n",
       "    <tr>\n",
       "      <th>0</th>\n",
       "      <td>540.0</td>\n",
       "      <td>0.0</td>\n",
       "      <td>0.0</td>\n",
       "      <td>162.0</td>\n",
       "      <td>2.5</td>\n",
       "      <td>1040.0</td>\n",
       "      <td>676.0</td>\n",
       "      <td>28</td>\n",
       "      <td>79.99</td>\n",
       "    </tr>\n",
       "    <tr>\n",
       "      <th>1</th>\n",
       "      <td>540.0</td>\n",
       "      <td>0.0</td>\n",
       "      <td>0.0</td>\n",
       "      <td>162.0</td>\n",
       "      <td>2.5</td>\n",
       "      <td>1055.0</td>\n",
       "      <td>676.0</td>\n",
       "      <td>28</td>\n",
       "      <td>61.89</td>\n",
       "    </tr>\n",
       "    <tr>\n",
       "      <th>2</th>\n",
       "      <td>332.5</td>\n",
       "      <td>142.5</td>\n",
       "      <td>0.0</td>\n",
       "      <td>228.0</td>\n",
       "      <td>0.0</td>\n",
       "      <td>932.0</td>\n",
       "      <td>594.0</td>\n",
       "      <td>270</td>\n",
       "      <td>40.27</td>\n",
       "    </tr>\n",
       "    <tr>\n",
       "      <th>3</th>\n",
       "      <td>332.5</td>\n",
       "      <td>142.5</td>\n",
       "      <td>0.0</td>\n",
       "      <td>228.0</td>\n",
       "      <td>0.0</td>\n",
       "      <td>932.0</td>\n",
       "      <td>594.0</td>\n",
       "      <td>365</td>\n",
       "      <td>41.05</td>\n",
       "    </tr>\n",
       "    <tr>\n",
       "      <th>4</th>\n",
       "      <td>198.6</td>\n",
       "      <td>132.4</td>\n",
       "      <td>0.0</td>\n",
       "      <td>192.0</td>\n",
       "      <td>0.0</td>\n",
       "      <td>978.4</td>\n",
       "      <td>825.5</td>\n",
       "      <td>360</td>\n",
       "      <td>44.30</td>\n",
       "    </tr>\n",
       "  </tbody>\n",
       "</table>\n",
       "</div>"
      ],
      "text/plain": [
       "   cement   slag  ash  water  superplastic  coarseagg  fineagg  age  strength\n",
       "0   540.0    0.0  0.0  162.0           2.5     1040.0    676.0   28     79.99\n",
       "1   540.0    0.0  0.0  162.0           2.5     1055.0    676.0   28     61.89\n",
       "2   332.5  142.5  0.0  228.0           0.0      932.0    594.0  270     40.27\n",
       "3   332.5  142.5  0.0  228.0           0.0      932.0    594.0  365     41.05\n",
       "4   198.6  132.4  0.0  192.0           0.0      978.4    825.5  360     44.30"
      ]
     },
     "execution_count": 2,
     "metadata": {},
     "output_type": "execute_result"
    }
   ],
   "source": [
    "raw_df = pd.read_csv(\n",
    "    \"https://raw.githubusercontent.com/jdvelasq/datalabs/master/datasets/concrete.csv\",\n",
    ")\n",
    "\n",
    "raw_df.head()"
   ]
  },
  {
   "cell_type": "code",
   "execution_count": 3,
   "id": "9951c441-3e3a-4eb4-9912-4ca35d17e754",
   "metadata": {},
   "outputs": [
    {
     "data": {
      "image/png": "[encoded data removed]",
      "text/plain": [
       "<Figure size 720x432 with 1 Axes>"
      ]
     },
     "metadata": {
      "needs_background": "light"
     },
     "output_type": "display_data"
    }
   ],
   "source": [
    "plt.figure(figsize=(10, 6))\n",
    "sns.boxplot(data=raw_df)\n",
    "plt.xticks(rotation=90)\n",
    "plt.show()"
   ]
  },
  {
   "cell_type": "markdown",
   "id": "7ea969df-cc87-4047-94c3-c9bf8cafdcdc",
   "metadata": {},
   "source": [
    "En el escalado lineal se lleva cada columna al rango 0-1 con:\n",
    "\n",
    "$$\n",
    "x_{*} = \\frac{x-\\min(x)}{\\max(x) - \\min(x)}\n",
    "$$"
   ]
  },
  {
   "cell_type": "code",
   "execution_count": 4,
   "id": "ac8ee85d-b71c-485d-b945-ab23aa9ab542",
   "metadata": {},
   "outputs": [
    {
     "data": {
      "text/plain": [
       "0       1.000000\n",
       "1       1.000000\n",
       "2       0.526256\n",
       "3       0.526256\n",
       "4       0.220548\n",
       "          ...   \n",
       "1025    0.398174\n",
       "1026    0.502740\n",
       "1027    0.106164\n",
       "1028    0.130365\n",
       "1029    0.362785\n",
       "Name: cement, Length: 1030, dtype: float64"
      ]
     },
     "execution_count": 4,
     "metadata": {},
     "output_type": "execute_result"
    }
   ],
   "source": [
    "#\n",
    "# Manual\n",
    "#\n",
    "(raw_df.cement - raw_df.cement.min()) / (raw_df.cement.max() - raw_df.cement.min())"
   ]
  },
  {
   "cell_type": "code",
   "execution_count": 5,
   "id": "e5b6bad0-aa6f-4ee8-a892-75eeb851c33e",
   "metadata": {},
   "outputs": [
    {
     "data": {
      "text/html": [
       "<div>\n",
       "<style scoped>\n",
       "    .dataframe tbody tr th:only-of-type {\n",
       "        vertical-align: middle;\n",
       "    }\n",
       "\n",
       "    .dataframe tbody tr th {\n",
       "        vertical-align: top;\n",
       "    }\n",
       "\n",
       "    .dataframe thead th {\n",
       "        text-align: right;\n",
       "    }\n",
       "</style>\n",
       "<table border=\"1\" class=\"dataframe\">\n",
       "  <thead>\n",
       "    <tr style=\"text-align: right;\">\n",
       "      <th></th>\n",
       "      <th>cement</th>\n",
       "      <th>slag</th>\n",
       "      <th>ash</th>\n",
       "      <th>water</th>\n",
       "      <th>superplastic</th>\n",
       "      <th>coarseagg</th>\n",
       "      <th>fineagg</th>\n",
       "      <th>age</th>\n",
       "      <th>strength</th>\n",
       "    </tr>\n",
       "  </thead>\n",
       "  <tbody>\n",
       "    <tr>\n",
       "      <th>0</th>\n",
       "      <td>1.000000</td>\n",
       "      <td>0.000000</td>\n",
       "      <td>0.0</td>\n",
       "      <td>0.321086</td>\n",
       "      <td>0.07764</td>\n",
       "      <td>0.694767</td>\n",
       "      <td>0.205720</td>\n",
       "      <td>0.074176</td>\n",
       "      <td>0.967485</td>\n",
       "    </tr>\n",
       "    <tr>\n",
       "      <th>1</th>\n",
       "      <td>1.000000</td>\n",
       "      <td>0.000000</td>\n",
       "      <td>0.0</td>\n",
       "      <td>0.321086</td>\n",
       "      <td>0.07764</td>\n",
       "      <td>0.738372</td>\n",
       "      <td>0.205720</td>\n",
       "      <td>0.074176</td>\n",
       "      <td>0.741996</td>\n",
       "    </tr>\n",
       "    <tr>\n",
       "      <th>2</th>\n",
       "      <td>0.526256</td>\n",
       "      <td>0.396494</td>\n",
       "      <td>0.0</td>\n",
       "      <td>0.848243</td>\n",
       "      <td>0.00000</td>\n",
       "      <td>0.380814</td>\n",
       "      <td>0.000000</td>\n",
       "      <td>0.739011</td>\n",
       "      <td>0.472655</td>\n",
       "    </tr>\n",
       "    <tr>\n",
       "      <th>3</th>\n",
       "      <td>0.526256</td>\n",
       "      <td>0.396494</td>\n",
       "      <td>0.0</td>\n",
       "      <td>0.848243</td>\n",
       "      <td>0.00000</td>\n",
       "      <td>0.380814</td>\n",
       "      <td>0.000000</td>\n",
       "      <td>1.000000</td>\n",
       "      <td>0.482372</td>\n",
       "    </tr>\n",
       "    <tr>\n",
       "      <th>4</th>\n",
       "      <td>0.220548</td>\n",
       "      <td>0.368392</td>\n",
       "      <td>0.0</td>\n",
       "      <td>0.560703</td>\n",
       "      <td>0.00000</td>\n",
       "      <td>0.515698</td>\n",
       "      <td>0.580783</td>\n",
       "      <td>0.986264</td>\n",
       "      <td>0.522860</td>\n",
       "    </tr>\n",
       "  </tbody>\n",
       "</table>\n",
       "</div>"
      ],
      "text/plain": [
       "     cement      slag  ash     water  superplastic  coarseagg   fineagg  \\\n",
       "0  1.000000  0.000000  0.0  0.321086       0.07764   0.694767  0.205720   \n",
       "1  1.000000  0.000000  0.0  0.321086       0.07764   0.738372  0.205720   \n",
       "2  0.526256  0.396494  0.0  0.848243       0.00000   0.380814  0.000000   \n",
       "3  0.526256  0.396494  0.0  0.848243       0.00000   0.380814  0.000000   \n",
       "4  0.220548  0.368392  0.0  0.560703       0.00000   0.515698  0.580783   \n",
       "\n",
       "        age  strength  \n",
       "0  0.074176  0.967485  \n",
       "1  0.074176  0.741996  \n",
       "2  0.739011  0.472655  \n",
       "3  1.000000  0.482372  \n",
       "4  0.986264  0.522860  "
      ]
     },
     "execution_count": 5,
     "metadata": {},
     "output_type": "execute_result"
    }
   ],
   "source": [
    "#\n",
    "# Con sklearn\n",
    "#\n",
    "from sklearn.preprocessing import MinMaxScaler\n",
    "\n",
    "#\n",
    "#  Se escalan todas las variables al rango [0, 1]\n",
    "#  para evitar problemas asociados a la escala\n",
    "#\n",
    "scaler = MinMaxScaler()\n",
    "scaled_df = pd.DataFrame(\n",
    "    scaler.fit_transform(raw_df),\n",
    "    columns=raw_df.columns,\n",
    ")\n",
    "scaled_df.head()"
   ]
  },
  {
   "cell_type": "code",
   "execution_count": 6,
   "id": "b98271d7-26ef-4a95-a90c-afe8bb86f961",
   "metadata": {},
   "outputs": [
    {
     "data": {
      "image/png": "[encoded data removed]",
      "text/plain": [
       "<Figure size 720x432 with 1 Axes>"
      ]
     },
     "metadata": {
      "needs_background": "light"
     },
     "output_type": "display_data"
    }
   ],
   "source": [
    "plt.figure(figsize=(10, 6))\n",
    "sns.boxplot(data=scaled_df)\n",
    "plt.xticks(rotation=90)\n",
    "plt.show()"
   ]
  },
  {
   "cell_type": "markdown",
   "id": "a1fa2a8b-a33d-46fc-ad12-9b09ae9759d6",
   "metadata": {
    "tags": []
   },
   "source": [
    "## Estandarización"
   ]
  },
  {
   "cell_type": "markdown",
   "id": "673b74dd-a450-4049-af8b-82cd3206c950",
   "metadata": {},
   "source": [
    "Se aplica la transformación:\n",
    "\n",
    "$$\n",
    "x_{*} = \\frac{x - \\text{mean}(x)}{\\text{std}(x)}\n",
    "$$"
   ]
  },
  {
   "cell_type": "code",
   "execution_count": 7,
   "id": "8b6fd316-486e-41cc-a581-6a887a594c9e",
   "metadata": {},
   "outputs": [
    {
     "data": {
      "text/html": [
       "<div>\n",
       "<style scoped>\n",
       "    .dataframe tbody tr th:only-of-type {\n",
       "        vertical-align: middle;\n",
       "    }\n",
       "\n",
       "    .dataframe tbody tr th {\n",
       "        vertical-align: top;\n",
       "    }\n",
       "\n",
       "    .dataframe thead th {\n",
       "        text-align: right;\n",
       "    }\n",
       "</style>\n",
       "<table border=\"1\" class=\"dataframe\">\n",
       "  <thead>\n",
       "    <tr style=\"text-align: right;\">\n",
       "      <th></th>\n",
       "      <th>cement</th>\n",
       "      <th>slag</th>\n",
       "      <th>ash</th>\n",
       "      <th>water</th>\n",
       "      <th>superplastic</th>\n",
       "      <th>coarseagg</th>\n",
       "      <th>fineagg</th>\n",
       "      <th>age</th>\n",
       "      <th>strength</th>\n",
       "    </tr>\n",
       "  </thead>\n",
       "  <tbody>\n",
       "    <tr>\n",
       "      <th>0</th>\n",
       "      <td>2.477915</td>\n",
       "      <td>-0.856888</td>\n",
       "      <td>-0.847144</td>\n",
       "      <td>-0.916764</td>\n",
       "      <td>-0.620448</td>\n",
       "      <td>0.863154</td>\n",
       "      <td>-1.217670</td>\n",
       "      <td>-0.279733</td>\n",
       "      <td>2.645408</td>\n",
       "    </tr>\n",
       "    <tr>\n",
       "      <th>1</th>\n",
       "      <td>2.477915</td>\n",
       "      <td>-0.856888</td>\n",
       "      <td>-0.847144</td>\n",
       "      <td>-0.916764</td>\n",
       "      <td>-0.620448</td>\n",
       "      <td>1.056164</td>\n",
       "      <td>-1.217670</td>\n",
       "      <td>-0.279733</td>\n",
       "      <td>1.561421</td>\n",
       "    </tr>\n",
       "    <tr>\n",
       "      <th>2</th>\n",
       "      <td>0.491425</td>\n",
       "      <td>0.795526</td>\n",
       "      <td>-0.847144</td>\n",
       "      <td>2.175461</td>\n",
       "      <td>-1.039143</td>\n",
       "      <td>-0.526517</td>\n",
       "      <td>-2.240917</td>\n",
       "      <td>3.553066</td>\n",
       "      <td>0.266627</td>\n",
       "    </tr>\n",
       "    <tr>\n",
       "      <th>3</th>\n",
       "      <td>0.491425</td>\n",
       "      <td>0.795526</td>\n",
       "      <td>-0.847144</td>\n",
       "      <td>2.175461</td>\n",
       "      <td>-1.039143</td>\n",
       "      <td>-0.526517</td>\n",
       "      <td>-2.240917</td>\n",
       "      <td>5.057677</td>\n",
       "      <td>0.313340</td>\n",
       "    </tr>\n",
       "    <tr>\n",
       "      <th>4</th>\n",
       "      <td>-0.790459</td>\n",
       "      <td>0.678408</td>\n",
       "      <td>-0.847144</td>\n",
       "      <td>0.488793</td>\n",
       "      <td>-1.039143</td>\n",
       "      <td>0.070527</td>\n",
       "      <td>0.647884</td>\n",
       "      <td>4.978487</td>\n",
       "      <td>0.507979</td>\n",
       "    </tr>\n",
       "  </tbody>\n",
       "</table>\n",
       "</div>"
      ],
      "text/plain": [
       "     cement      slag       ash     water  superplastic  coarseagg   fineagg  \\\n",
       "0  2.477915 -0.856888 -0.847144 -0.916764     -0.620448   0.863154 -1.217670   \n",
       "1  2.477915 -0.856888 -0.847144 -0.916764     -0.620448   1.056164 -1.217670   \n",
       "2  0.491425  0.795526 -0.847144  2.175461     -1.039143  -0.526517 -2.240917   \n",
       "3  0.491425  0.795526 -0.847144  2.175461     -1.039143  -0.526517 -2.240917   \n",
       "4 -0.790459  0.678408 -0.847144  0.488793     -1.039143   0.070527  0.647884   \n",
       "\n",
       "        age  strength  \n",
       "0 -0.279733  2.645408  \n",
       "1 -0.279733  1.561421  \n",
       "2  3.553066  0.266627  \n",
       "3  5.057677  0.313340  \n",
       "4  4.978487  0.507979  "
      ]
     },
     "execution_count": 7,
     "metadata": {},
     "output_type": "execute_result"
    }
   ],
   "source": [
    "from sklearn.preprocessing import StandardScaler\n",
    "\n",
    "scaler = StandardScaler()\n",
    "scaled_df = pd.DataFrame(\n",
    "    scaler.fit_transform(raw_df),\n",
    "    columns=raw_df.columns,\n",
    ")\n",
    "scaled_df.head()"
   ]
  },
  {
   "cell_type": "code",
   "execution_count": 8,
   "id": "2e60d214-2533-4a14-9c1e-1998eeb69167",
   "metadata": {},
   "outputs": [
    {
     "data": {
      "image/png": "[encoded data removed]",
      "text/plain": [
       "<Figure size 720x432 with 1 Axes>"
      ]
     },
     "metadata": {
      "needs_background": "light"
     },
     "output_type": "display_data"
    }
   ],
   "source": [
    "plt.figure(figsize=(10, 6))\n",
    "sns.boxplot(data=scaled_df)\n",
    "plt.xticks(rotation=90)\n",
    "plt.show()"
   ]
  },
  {
   "cell_type": "code",
   "execution_count": 9,
   "id": "b5aa95bb-dc3d-4e0c-b1b1-596d19ac2549",
   "metadata": {},
   "outputs": [
    {
     "data": {
      "text/plain": [
       "array([281.16786408,  73.89582524,  54.18834951, 181.56728155,\n",
       "         6.20466019, 972.91893204, 773.58048544,  45.66213592,\n",
       "        35.81796117])"
      ]
     },
     "execution_count": 9,
     "metadata": {},
     "output_type": "execute_result"
    }
   ],
   "source": [
    "#\n",
    "# Media de cada una de las características\n",
    "#\n",
    "scaler.mean_"
   ]
  },
  {
   "cell_type": "code",
   "execution_count": 10,
   "id": "409485dc-3744-4d81-b5d9-9fc9084caadf",
   "metadata": {},
   "outputs": [
    {
     "data": {
      "text/plain": [
       "array([104.45562093,  86.2374484 ,  63.9659301 ,  21.34384992,\n",
       "         5.97094077,  77.71620016,  80.13705031,  63.13923913,\n",
       "        16.69763041])"
      ]
     },
     "execution_count": 10,
     "metadata": {},
     "output_type": "execute_result"
    }
   ],
   "source": [
    "#\n",
    "# Desviación estándard de cada una de las características\n",
    "#\n",
    "scaler.scale_"
   ]
  },
  {
   "cell_type": "markdown",
   "id": "f8b40464-41f1-46d0-bf81-23229e06e487",
   "metadata": {},
   "source": [
    "## maxabs_scale"
   ]
  },
  {
   "cell_type": "code",
   "execution_count": 11,
   "id": "52e8ce6b-f80d-45ba-9aec-57e74d1700e0",
   "metadata": {},
   "outputs": [
    {
     "data": {
      "text/html": [
       "<div>\n",
       "<style scoped>\n",
       "    .dataframe tbody tr th:only-of-type {\n",
       "        vertical-align: middle;\n",
       "    }\n",
       "\n",
       "    .dataframe tbody tr th {\n",
       "        vertical-align: top;\n",
       "    }\n",
       "\n",
       "    .dataframe thead th {\n",
       "        text-align: right;\n",
       "    }\n",
       "</style>\n",
       "<table border=\"1\" class=\"dataframe\">\n",
       "  <thead>\n",
       "    <tr style=\"text-align: right;\">\n",
       "      <th></th>\n",
       "      <th>cement</th>\n",
       "      <th>slag</th>\n",
       "      <th>ash</th>\n",
       "      <th>water</th>\n",
       "      <th>superplastic</th>\n",
       "      <th>coarseagg</th>\n",
       "      <th>fineagg</th>\n",
       "      <th>age</th>\n",
       "      <th>strength</th>\n",
       "    </tr>\n",
       "  </thead>\n",
       "  <tbody>\n",
       "    <tr>\n",
       "      <th>0</th>\n",
       "      <td>1.000000</td>\n",
       "      <td>-0.258826</td>\n",
       "      <td>-0.371378</td>\n",
       "      <td>-0.299044</td>\n",
       "      <td>-0.142512</td>\n",
       "      <td>0.389822</td>\n",
       "      <td>-0.445533</td>\n",
       "      <td>-0.055309</td>\n",
       "      <td>0.944209</td>\n",
       "    </tr>\n",
       "    <tr>\n",
       "      <th>1</th>\n",
       "      <td>1.000000</td>\n",
       "      <td>-0.258826</td>\n",
       "      <td>-0.371378</td>\n",
       "      <td>-0.299044</td>\n",
       "      <td>-0.142512</td>\n",
       "      <td>0.476991</td>\n",
       "      <td>-0.445533</td>\n",
       "      <td>-0.055309</td>\n",
       "      <td>0.557309</td>\n",
       "    </tr>\n",
       "    <tr>\n",
       "      <th>2</th>\n",
       "      <td>0.198322</td>\n",
       "      <td>0.240291</td>\n",
       "      <td>-0.371378</td>\n",
       "      <td>0.709625</td>\n",
       "      <td>-0.238684</td>\n",
       "      <td>-0.237789</td>\n",
       "      <td>-0.819929</td>\n",
       "      <td>0.702509</td>\n",
       "      <td>0.095166</td>\n",
       "    </tr>\n",
       "    <tr>\n",
       "      <th>3</th>\n",
       "      <td>0.198322</td>\n",
       "      <td>0.240291</td>\n",
       "      <td>-0.371378</td>\n",
       "      <td>0.709625</td>\n",
       "      <td>-0.238684</td>\n",
       "      <td>-0.237789</td>\n",
       "      <td>-0.819929</td>\n",
       "      <td>1.000000</td>\n",
       "      <td>0.111839</td>\n",
       "    </tr>\n",
       "    <tr>\n",
       "      <th>4</th>\n",
       "      <td>-0.319002</td>\n",
       "      <td>0.204915</td>\n",
       "      <td>-0.371378</td>\n",
       "      <td>0.159442</td>\n",
       "      <td>-0.238684</td>\n",
       "      <td>0.031852</td>\n",
       "      <td>0.237054</td>\n",
       "      <td>0.984343</td>\n",
       "      <td>0.181310</td>\n",
       "    </tr>\n",
       "  </tbody>\n",
       "</table>\n",
       "</div>"
      ],
      "text/plain": [
       "     cement      slag       ash     water  superplastic  coarseagg   fineagg  \\\n",
       "0  1.000000 -0.258826 -0.371378 -0.299044     -0.142512   0.389822 -0.445533   \n",
       "1  1.000000 -0.258826 -0.371378 -0.299044     -0.142512   0.476991 -0.445533   \n",
       "2  0.198322  0.240291 -0.371378  0.709625     -0.238684  -0.237789 -0.819929   \n",
       "3  0.198322  0.240291 -0.371378  0.709625     -0.238684  -0.237789 -0.819929   \n",
       "4 -0.319002  0.204915 -0.371378  0.159442     -0.238684   0.031852  0.237054   \n",
       "\n",
       "        age  strength  \n",
       "0 -0.055309  0.944209  \n",
       "1 -0.055309  0.557309  \n",
       "2  0.702509  0.095166  \n",
       "3  1.000000  0.111839  \n",
       "4  0.984343  0.181310  "
      ]
     },
     "execution_count": 11,
     "metadata": {},
     "output_type": "execute_result"
    }
   ],
   "source": [
    "#\n",
    "# Transforma cada columna al intervalo [-1, 1].\n",
    "# El maximo valor absoluto de cada columna \n",
    "# será igual a 1.0\n",
    "#\n",
    "from sklearn.preprocessing import maxabs_scale\n",
    "\n",
    "maxabs_scaled_df = pd.DataFrame(\n",
    "    maxabs_scale(scaled_df),\n",
    "    columns=raw_df.columns,\n",
    ")\n",
    "maxabs_scaled_df.head()"
   ]
  },
  {
   "cell_type": "code",
   "execution_count": 12,
   "id": "8b689e69-0547-421c-9d16-355dbcd0ed50",
   "metadata": {},
   "outputs": [
    {
     "data": {
      "image/png": "[encoded data removed]",
      "text/plain": [
       "<Figure size 720x432 with 1 Axes>"
      ]
     },
     "metadata": {
      "needs_background": "light"
     },
     "output_type": "display_data"
    }
   ],
   "source": [
    "plt.figure(figsize=(10, 6))\n",
    "sns.boxplot(data=maxabs_scaled_df)\n",
    "plt.xticks(rotation=90)\n",
    "plt.show()"
   ]
  },
  {
   "cell_type": "markdown",
   "id": "ea56ee72-1253-4286-acea-cd62906e3975",
   "metadata": {},
   "source": [
    "## Normalización"
   ]
  },
  {
   "cell_type": "code",
   "execution_count": 13,
   "id": "54b33d78-7041-437a-adc4-8eed02e94afa",
   "metadata": {},
   "outputs": [
    {
     "data": {
      "text/html": [
       "<div>\n",
       "<style scoped>\n",
       "    .dataframe tbody tr th:only-of-type {\n",
       "        vertical-align: middle;\n",
       "    }\n",
       "\n",
       "    .dataframe tbody tr th {\n",
       "        vertical-align: top;\n",
       "    }\n",
       "\n",
       "    .dataframe thead th {\n",
       "        text-align: right;\n",
       "    }\n",
       "</style>\n",
       "<table border=\"1\" class=\"dataframe\">\n",
       "  <thead>\n",
       "    <tr style=\"text-align: right;\">\n",
       "      <th></th>\n",
       "      <th>cement</th>\n",
       "      <th>slag</th>\n",
       "      <th>ash</th>\n",
       "      <th>water</th>\n",
       "      <th>superplastic</th>\n",
       "      <th>coarseagg</th>\n",
       "      <th>fineagg</th>\n",
       "      <th>age</th>\n",
       "      <th>strength</th>\n",
       "    </tr>\n",
       "  </thead>\n",
       "  <tbody>\n",
       "    <tr>\n",
       "      <th>0</th>\n",
       "      <td>0.395564</td>\n",
       "      <td>0.000000</td>\n",
       "      <td>0.0</td>\n",
       "      <td>0.118669</td>\n",
       "      <td>0.001831</td>\n",
       "      <td>0.761826</td>\n",
       "      <td>0.495187</td>\n",
       "      <td>0.020511</td>\n",
       "      <td>0.058595</td>\n",
       "    </tr>\n",
       "    <tr>\n",
       "      <th>1</th>\n",
       "      <td>0.392536</td>\n",
       "      <td>0.000000</td>\n",
       "      <td>0.0</td>\n",
       "      <td>0.117761</td>\n",
       "      <td>0.001817</td>\n",
       "      <td>0.766900</td>\n",
       "      <td>0.491397</td>\n",
       "      <td>0.020354</td>\n",
       "      <td>0.044989</td>\n",
       "    </tr>\n",
       "    <tr>\n",
       "      <th>2</th>\n",
       "      <td>0.273422</td>\n",
       "      <td>0.117181</td>\n",
       "      <td>0.0</td>\n",
       "      <td>0.187489</td>\n",
       "      <td>0.000000</td>\n",
       "      <td>0.766403</td>\n",
       "      <td>0.488458</td>\n",
       "      <td>0.222027</td>\n",
       "      <td>0.033115</td>\n",
       "    </tr>\n",
       "    <tr>\n",
       "      <th>3</th>\n",
       "      <td>0.268004</td>\n",
       "      <td>0.114859</td>\n",
       "      <td>0.0</td>\n",
       "      <td>0.183774</td>\n",
       "      <td>0.000000</td>\n",
       "      <td>0.751218</td>\n",
       "      <td>0.478781</td>\n",
       "      <td>0.294200</td>\n",
       "      <td>0.033087</td>\n",
       "    </tr>\n",
       "    <tr>\n",
       "      <th>4</th>\n",
       "      <td>0.145460</td>\n",
       "      <td>0.096973</td>\n",
       "      <td>0.0</td>\n",
       "      <td>0.140626</td>\n",
       "      <td>0.000000</td>\n",
       "      <td>0.716605</td>\n",
       "      <td>0.604618</td>\n",
       "      <td>0.263673</td>\n",
       "      <td>0.032446</td>\n",
       "    </tr>\n",
       "  </tbody>\n",
       "</table>\n",
       "</div>"
      ],
      "text/plain": [
       "     cement      slag  ash     water  superplastic  coarseagg   fineagg  \\\n",
       "0  0.395564  0.000000  0.0  0.118669      0.001831   0.761826  0.495187   \n",
       "1  0.392536  0.000000  0.0  0.117761      0.001817   0.766900  0.491397   \n",
       "2  0.273422  0.117181  0.0  0.187489      0.000000   0.766403  0.488458   \n",
       "3  0.268004  0.114859  0.0  0.183774      0.000000   0.751218  0.478781   \n",
       "4  0.145460  0.096973  0.0  0.140626      0.000000   0.716605  0.604618   \n",
       "\n",
       "        age  strength  \n",
       "0  0.020511  0.058595  \n",
       "1  0.020354  0.044989  \n",
       "2  0.222027  0.033115  \n",
       "3  0.294200  0.033087  \n",
       "4  0.263673  0.032446  "
      ]
     },
     "execution_count": 13,
     "metadata": {},
     "output_type": "execute_result"
    }
   ],
   "source": [
    "#\n",
    "# Normaliza cada muestra individualmente para que\n",
    "# su norma sea unitaria. La norma puede ser: 'l2',\n",
    "# 'l1', 'max'.\n",
    "#\n",
    "from sklearn.preprocessing import Normalizer\n",
    "\n",
    "normalized_df = pd.DataFrame(\n",
    "    Normalizer().fit_transform(raw_df),\n",
    "    columns=raw_df.columns,\n",
    ")\n",
    "normalized_df.head()"
   ]
  },
  {
   "cell_type": "code",
   "execution_count": 14,
   "id": "1d10062a-4ae0-4d89-8f60-ad8ed611bafd",
   "metadata": {},
   "outputs": [
    {
     "data": {
      "image/png": "[encoded data removed]",
      "text/plain": [
       "<Figure size 720x432 with 1 Axes>"
      ]
     },
     "metadata": {
      "needs_background": "light"
     },
     "output_type": "display_data"
    }
   ],
   "source": [
    "plt.figure(figsize=(10, 6))\n",
    "sns.boxplot(data=normalized_df)\n",
    "plt.xticks(rotation=90)\n",
    "plt.show()"
   ]
  },
  {
   "cell_type": "markdown",
   "id": "5620ccc3-42db-4e60-9104-b2caf10d159c",
   "metadata": {},
   "source": [
    "## QuantileTransformer"
   ]
  },
  {
   "cell_type": "code",
   "execution_count": 15,
   "id": "31b047ec-bbe9-4b58-85c7-13f37a25114e",
   "metadata": {},
   "outputs": [
    {
     "data": {
      "text/html": [
       "<div>\n",
       "<style scoped>\n",
       "    .dataframe tbody tr th:only-of-type {\n",
       "        vertical-align: middle;\n",
       "    }\n",
       "\n",
       "    .dataframe tbody tr th {\n",
       "        vertical-align: top;\n",
       "    }\n",
       "\n",
       "    .dataframe thead th {\n",
       "        text-align: right;\n",
       "    }\n",
       "</style>\n",
       "<table border=\"1\" class=\"dataframe\">\n",
       "  <thead>\n",
       "    <tr style=\"text-align: right;\">\n",
       "      <th></th>\n",
       "      <th>cement</th>\n",
       "      <th>slag</th>\n",
       "      <th>ash</th>\n",
       "      <th>water</th>\n",
       "      <th>superplastic</th>\n",
       "      <th>coarseagg</th>\n",
       "      <th>fineagg</th>\n",
       "      <th>age</th>\n",
       "      <th>strength</th>\n",
       "    </tr>\n",
       "  </thead>\n",
       "  <tbody>\n",
       "    <tr>\n",
       "      <th>0</th>\n",
       "      <td>1.000000</td>\n",
       "      <td>0.000000</td>\n",
       "      <td>0.0</td>\n",
       "      <td>0.206707</td>\n",
       "      <td>0.375375</td>\n",
       "      <td>0.760761</td>\n",
       "      <td>0.132132</td>\n",
       "      <td>0.521021</td>\n",
       "      <td>0.997209</td>\n",
       "    </tr>\n",
       "    <tr>\n",
       "      <th>1</th>\n",
       "      <td>1.000000</td>\n",
       "      <td>0.000000</td>\n",
       "      <td>0.0</td>\n",
       "      <td>0.206707</td>\n",
       "      <td>0.375375</td>\n",
       "      <td>0.826326</td>\n",
       "      <td>0.132132</td>\n",
       "      <td>0.521021</td>\n",
       "      <td>0.923226</td>\n",
       "    </tr>\n",
       "    <tr>\n",
       "      <th>2</th>\n",
       "      <td>0.701201</td>\n",
       "      <td>0.744745</td>\n",
       "      <td>0.0</td>\n",
       "      <td>0.970470</td>\n",
       "      <td>0.000000</td>\n",
       "      <td>0.264264</td>\n",
       "      <td>0.000000</td>\n",
       "      <td>0.974474</td>\n",
       "      <td>0.638555</td>\n",
       "    </tr>\n",
       "    <tr>\n",
       "      <th>3</th>\n",
       "      <td>0.701201</td>\n",
       "      <td>0.744745</td>\n",
       "      <td>0.0</td>\n",
       "      <td>0.970470</td>\n",
       "      <td>0.000000</td>\n",
       "      <td>0.264264</td>\n",
       "      <td>0.000000</td>\n",
       "      <td>1.000000</td>\n",
       "      <td>0.657658</td>\n",
       "    </tr>\n",
       "    <tr>\n",
       "      <th>4</th>\n",
       "      <td>0.264765</td>\n",
       "      <td>0.716717</td>\n",
       "      <td>0.0</td>\n",
       "      <td>0.697197</td>\n",
       "      <td>0.000000</td>\n",
       "      <td>0.576577</td>\n",
       "      <td>0.760761</td>\n",
       "      <td>0.983984</td>\n",
       "      <td>0.724725</td>\n",
       "    </tr>\n",
       "  </tbody>\n",
       "</table>\n",
       "</div>"
      ],
      "text/plain": [
       "     cement      slag  ash     water  superplastic  coarseagg   fineagg  \\\n",
       "0  1.000000  0.000000  0.0  0.206707      0.375375   0.760761  0.132132   \n",
       "1  1.000000  0.000000  0.0  0.206707      0.375375   0.826326  0.132132   \n",
       "2  0.701201  0.744745  0.0  0.970470      0.000000   0.264264  0.000000   \n",
       "3  0.701201  0.744745  0.0  0.970470      0.000000   0.264264  0.000000   \n",
       "4  0.264765  0.716717  0.0  0.697197      0.000000   0.576577  0.760761   \n",
       "\n",
       "        age  strength  \n",
       "0  0.521021  0.997209  \n",
       "1  0.521021  0.923226  \n",
       "2  0.974474  0.638555  \n",
       "3  1.000000  0.657658  \n",
       "4  0.983984  0.724725  "
      ]
     },
     "execution_count": 15,
     "metadata": {},
     "output_type": "execute_result"
    }
   ],
   "source": [
    "#\n",
    "# Realiza una transformación no lineal que mapea\n",
    "# los datos a una distribucion uniforme en el \n",
    "# rango 0-1\n",
    "#\n",
    "\n",
    "from sklearn.preprocessing import QuantileTransformer\n",
    "\n",
    "quantile_df = pd.DataFrame(\n",
    "    QuantileTransformer().fit_transform(raw_df),\n",
    "    columns=raw_df.columns,\n",
    ")\n",
    "quantile_df.head()"
   ]
  },
  {
   "cell_type": "code",
   "execution_count": 16,
   "id": "4c9297aa-2e1a-499d-9f28-7f389c265b55",
   "metadata": {},
   "outputs": [
    {
     "data": {
      "image/png": "[encoded data removed]",
      "text/plain": [
       "<Figure size 720x432 with 1 Axes>"
      ]
     },
     "metadata": {
      "needs_background": "light"
     },
     "output_type": "display_data"
    }
   ],
   "source": [
    "plt.figure(figsize=(10, 6))\n",
    "sns.boxplot(data=quantile_df)\n",
    "plt.xticks(rotation=90)\n",
    "plt.show()"
   ]
  },
  {
   "cell_type": "markdown",
   "id": "c4167890-7324-4712-929c-ae27f83aa6e0",
   "metadata": {},
   "source": [
    "## PowerTransformer"
   ]
  },
  {
   "cell_type": "code",
   "execution_count": 17,
   "id": "81090333-f6dc-4bb4-be2f-d1e5a3a4ed36",
   "metadata": {},
   "outputs": [
    {
     "data": {
      "text/html": [
       "<div>\n",
       "<style scoped>\n",
       "    .dataframe tbody tr th:only-of-type {\n",
       "        vertical-align: middle;\n",
       "    }\n",
       "\n",
       "    .dataframe tbody tr th {\n",
       "        vertical-align: top;\n",
       "    }\n",
       "\n",
       "    .dataframe thead th {\n",
       "        text-align: right;\n",
       "    }\n",
       "</style>\n",
       "<table border=\"1\" class=\"dataframe\">\n",
       "  <thead>\n",
       "    <tr style=\"text-align: right;\">\n",
       "      <th></th>\n",
       "      <th>cement</th>\n",
       "      <th>slag</th>\n",
       "      <th>ash</th>\n",
       "      <th>water</th>\n",
       "      <th>superplastic</th>\n",
       "      <th>coarseagg</th>\n",
       "      <th>fineagg</th>\n",
       "      <th>age</th>\n",
       "      <th>strength</th>\n",
       "    </tr>\n",
       "  </thead>\n",
       "  <tbody>\n",
       "    <tr>\n",
       "      <th>0</th>\n",
       "      <td>0.000000</td>\n",
       "      <td>-3.738452</td>\n",
       "      <td>-3.892746</td>\n",
       "      <td>-0.627850</td>\n",
       "      <td>-1.574444</td>\n",
       "      <td>-0.277372</td>\n",
       "      <td>-0.665464</td>\n",
       "      <td>-5.370476</td>\n",
       "      <td>-0.029484</td>\n",
       "    </tr>\n",
       "    <tr>\n",
       "      <th>1</th>\n",
       "      <td>0.000000</td>\n",
       "      <td>-3.738452</td>\n",
       "      <td>-3.892746</td>\n",
       "      <td>-0.627850</td>\n",
       "      <td>-1.574444</td>\n",
       "      <td>-0.237389</td>\n",
       "      <td>-0.665464</td>\n",
       "      <td>-5.370476</td>\n",
       "      <td>-0.247706</td>\n",
       "    </tr>\n",
       "    <tr>\n",
       "      <th>2</th>\n",
       "      <td>-0.508603</td>\n",
       "      <td>-0.916914</td>\n",
       "      <td>-3.892746</td>\n",
       "      <td>-0.137246</td>\n",
       "      <td>-1.975720</td>\n",
       "      <td>-0.569918</td>\n",
       "      <td>-0.810312</td>\n",
       "      <td>-0.309694</td>\n",
       "      <td>-0.551296</td>\n",
       "    </tr>\n",
       "    <tr>\n",
       "      <th>3</th>\n",
       "      <td>-0.508603</td>\n",
       "      <td>-0.916914</td>\n",
       "      <td>-3.892746</td>\n",
       "      <td>-0.137246</td>\n",
       "      <td>-1.975720</td>\n",
       "      <td>-0.569918</td>\n",
       "      <td>-0.810312</td>\n",
       "      <td>0.000000</td>\n",
       "      <td>-0.539236</td>\n",
       "    </tr>\n",
       "    <tr>\n",
       "      <th>4</th>\n",
       "      <td>-1.000318</td>\n",
       "      <td>-0.995194</td>\n",
       "      <td>-3.892746</td>\n",
       "      <td>-0.401606</td>\n",
       "      <td>-1.975720</td>\n",
       "      <td>-0.443108</td>\n",
       "      <td>-0.365545</td>\n",
       "      <td>-0.012522</td>\n",
       "      <td>-0.490031</td>\n",
       "    </tr>\n",
       "  </tbody>\n",
       "</table>\n",
       "</div>"
      ],
      "text/plain": [
       "     cement      slag       ash     water  superplastic  coarseagg   fineagg  \\\n",
       "0  0.000000 -3.738452 -3.892746 -0.627850     -1.574444  -0.277372 -0.665464   \n",
       "1  0.000000 -3.738452 -3.892746 -0.627850     -1.574444  -0.237389 -0.665464   \n",
       "2 -0.508603 -0.916914 -3.892746 -0.137246     -1.975720  -0.569918 -0.810312   \n",
       "3 -0.508603 -0.916914 -3.892746 -0.137246     -1.975720  -0.569918 -0.810312   \n",
       "4 -1.000318 -0.995194 -3.892746 -0.401606     -1.975720  -0.443108 -0.365545   \n",
       "\n",
       "        age  strength  \n",
       "0 -5.370476 -0.029484  \n",
       "1 -5.370476 -0.247706  \n",
       "2 -0.309694 -0.551296  \n",
       "3  0.000000 -0.539236  \n",
       "4 -0.012522 -0.490031  "
      ]
     },
     "execution_count": 17,
     "metadata": {},
     "output_type": "execute_result"
    }
   ],
   "source": [
    "#\n",
    "# Realizar una transformación no lineal para\n",
    "# hacer que la distribución de cada columna sea\n",
    "# más similar a una distribución normal\n",
    "#\n",
    "from sklearn.preprocessing import PowerTransformer\n",
    "\n",
    "scaler = MinMaxScaler()\n",
    "scaled_df = pd.DataFrame(\n",
    "    scaler.fit_transform(raw_df),\n",
    "    columns=raw_df.columns,\n",
    ")\n",
    "\n",
    "power_df = pd.DataFrame(\n",
    "    PowerTransformer(\n",
    "        method=\"box-cox\",\n",
    "        standardize=False,\n",
    "    ).fit_transform(scaled_df.values * 0.9 + 0.1),\n",
    "    columns=raw_df.columns,\n",
    ")\n",
    "power_df.head()"
   ]
  },
  {
   "cell_type": "code",
   "execution_count": 18,
   "id": "360fbdd8-7074-41cf-b3e4-dc15fb634793",
   "metadata": {},
   "outputs": [
    {
     "data": {
      "image/png": "[encoded data removed]",
      "text/plain": [
       "<Figure size 720x432 with 1 Axes>"
      ]
     },
     "metadata": {
      "needs_background": "light"
     },
     "output_type": "display_data"
    }
   ],
   "source": [
    "plt.figure(figsize=(10, 6))\n",
    "sns.boxplot(data=power_df)\n",
    "plt.xticks(rotation=90)\n",
    "plt.show()"
   ]
  },
  {
   "cell_type": "markdown",
   "id": "431d0c9f-554e-47e4-b911-e16ee901c1a9",
   "metadata": {},
   "source": [
    "## KBinsDiscretizer"
   ]
  },
  {
   "cell_type": "code",
   "execution_count": 19,
   "id": "5388c69a-9cbe-4003-8f6d-fc27d8614cb7",
   "metadata": {},
   "outputs": [
    {
     "data": {
      "text/plain": [
       "array([[ 0.,  4., 12.],\n",
       "       [ 1.,  5., 15.],\n",
       "       [ 2.,  6., 14.],\n",
       "       [ 3.,  3., 11.],\n",
       "       [ 4.,  7., 11.],\n",
       "       [ 5.,  3., 13.],\n",
       "       [ 6.,  7., 11.],\n",
       "       [ 7.,  6., 14.],\n",
       "       [ 8.,  3., 18.],\n",
       "       [ 9.,  2., 13.],\n",
       "       [10.,  1., 14.]])"
      ]
     },
     "execution_count": 19,
     "metadata": {},
     "output_type": "execute_result"
    }
   ],
   "source": [
    "X = np.array(\n",
    "    [\n",
    "        [0.0, 4.0, 12],\n",
    "        [1.0, 5.0, 15],\n",
    "        [2.0, 6.0, 14],\n",
    "        [3.0, 3.0, 11],\n",
    "        [4.0, 7.0, 11],\n",
    "        [5.0, 3.0, 13],\n",
    "        [6.0, 7.0, 11],\n",
    "        [7.0, 6.0, 14],\n",
    "        [8.0, 3.0, 18],\n",
    "        [9.0, 2.0, 13],\n",
    "        [10.0, 1.0, 14],\n",
    "    ]\n",
    ")\n",
    "X"
   ]
  },
  {
   "cell_type": "code",
   "execution_count": 20,
   "id": "151a621b-a946-4f92-b8a3-0701e51e40c5",
   "metadata": {},
   "outputs": [
    {
     "data": {
      "text/plain": [
       "array([[0., 1., 0.],\n",
       "       [0., 1., 1.],\n",
       "       [0., 1., 1.],\n",
       "       [0., 0., 0.],\n",
       "       [1., 1., 0.],\n",
       "       [1., 0., 1.],\n",
       "       [1., 1., 0.],\n",
       "       [2., 1., 1.],\n",
       "       [2., 0., 1.],\n",
       "       [2., 0., 1.],\n",
       "       [2., 0., 1.]])"
      ]
     },
     "execution_count": 20,
     "metadata": {},
     "output_type": "execute_result"
    }
   ],
   "source": [
    "from sklearn.preprocessing import KBinsDiscretizer\n",
    "\n",
    "KBinsDiscretizer(\n",
    "    n_bins=[3, 2, 2],\n",
    "    encode=\"ordinal\",\n",
    ").fit_transform(X)"
   ]
  },
  {
   "cell_type": "markdown",
   "id": "935e5852-1dfa-4c78-80b8-ba0ba1bda264",
   "metadata": {},
   "source": [
    "## Binarizer"
   ]
  },
  {
   "cell_type": "code",
   "execution_count": 21,
   "id": "e3fb676c-fe58-4ca1-b60a-7b0e0558e098",
   "metadata": {},
   "outputs": [
    {
     "data": {
      "text/plain": [
       "[[1.0, -1.0, 2.0], [2.0, 0.0, 0.0], [0.0, 1.0, -1.0]]"
      ]
     },
     "execution_count": 21,
     "metadata": {},
     "output_type": "execute_result"
    }
   ],
   "source": [
    "X = [\n",
    "    [1.0, -1.0, 2.0],\n",
    "    [2.0, 0.0, 0.0],\n",
    "    [0.0, 1.0, -1.0],\n",
    "]\n",
    "X"
   ]
  },
  {
   "cell_type": "code",
   "execution_count": 22,
   "id": "725aeb88-17b5-4c8f-b83b-da4b01ce5bbc",
   "metadata": {},
   "outputs": [
    {
     "data": {
      "text/plain": [
       "array([[1., 0., 1.],\n",
       "       [1., 0., 0.],\n",
       "       [0., 1., 0.]])"
      ]
     },
     "execution_count": 22,
     "metadata": {},
     "output_type": "execute_result"
    }
   ],
   "source": [
    "from sklearn.preprocessing import Binarizer\n",
    "\n",
    "Binarizer(threshold=0.5).fit_transform(X)"
   ]
  },
  {
   "cell_type": "markdown",
   "id": "7ca6526b-6ea7-4bd6-b730-85a2bc012a54",
   "metadata": {
    "tags": []
   },
   "source": [
    "## LabelEncoder"
   ]
  },
  {
   "cell_type": "code",
   "execution_count": 23,
   "id": "3220f179-65db-498e-9596-b251ff4b527f",
   "metadata": {},
   "outputs": [
    {
     "data": {
      "text/html": [
       "<div>\n",
       "<style scoped>\n",
       "    .dataframe tbody tr th:only-of-type {\n",
       "        vertical-align: middle;\n",
       "    }\n",
       "\n",
       "    .dataframe tbody tr th {\n",
       "        vertical-align: top;\n",
       "    }\n",
       "\n",
       "    .dataframe thead th {\n",
       "        text-align: right;\n",
       "    }\n",
       "</style>\n",
       "<table border=\"1\" class=\"dataframe\">\n",
       "  <thead>\n",
       "    <tr style=\"text-align: right;\">\n",
       "      <th></th>\n",
       "      <th>city</th>\n",
       "    </tr>\n",
       "  </thead>\n",
       "  <tbody>\n",
       "    <tr>\n",
       "      <th>0</th>\n",
       "      <td>paris</td>\n",
       "    </tr>\n",
       "    <tr>\n",
       "      <th>1</th>\n",
       "      <td>paris</td>\n",
       "    </tr>\n",
       "    <tr>\n",
       "      <th>2</th>\n",
       "      <td>tokyo</td>\n",
       "    </tr>\n",
       "    <tr>\n",
       "      <th>3</th>\n",
       "      <td>amsterdam</td>\n",
       "    </tr>\n",
       "  </tbody>\n",
       "</table>\n",
       "</div>"
      ],
      "text/plain": [
       "        city\n",
       "0      paris\n",
       "1      paris\n",
       "2      tokyo\n",
       "3  amsterdam"
      ]
     },
     "execution_count": 23,
     "metadata": {},
     "output_type": "execute_result"
    }
   ],
   "source": [
    "df = pd.DataFrame(\n",
    "    [\n",
    "        [\"paris\"],\n",
    "        [\"paris\"],\n",
    "        [\"tokyo\"],\n",
    "        [\"amsterdam\"],\n",
    "    ],\n",
    "    columns=[\"city\"],\n",
    ")\n",
    "df"
   ]
  },
  {
   "cell_type": "code",
   "execution_count": 24,
   "id": "47accd3e-45c7-40eb-b896-04e524373d47",
   "metadata": {},
   "outputs": [
    {
     "data": {
      "text/html": [
       "<div>\n",
       "<style scoped>\n",
       "    .dataframe tbody tr th:only-of-type {\n",
       "        vertical-align: middle;\n",
       "    }\n",
       "\n",
       "    .dataframe tbody tr th {\n",
       "        vertical-align: top;\n",
       "    }\n",
       "\n",
       "    .dataframe thead th {\n",
       "        text-align: right;\n",
       "    }\n",
       "</style>\n",
       "<table border=\"1\" class=\"dataframe\">\n",
       "  <thead>\n",
       "    <tr style=\"text-align: right;\">\n",
       "      <th></th>\n",
       "      <th>city</th>\n",
       "    </tr>\n",
       "  </thead>\n",
       "  <tbody>\n",
       "    <tr>\n",
       "      <th>0</th>\n",
       "      <td>1</td>\n",
       "    </tr>\n",
       "    <tr>\n",
       "      <th>1</th>\n",
       "      <td>1</td>\n",
       "    </tr>\n",
       "    <tr>\n",
       "      <th>2</th>\n",
       "      <td>2</td>\n",
       "    </tr>\n",
       "    <tr>\n",
       "      <th>3</th>\n",
       "      <td>0</td>\n",
       "    </tr>\n",
       "  </tbody>\n",
       "</table>\n",
       "</div>"
      ],
      "text/plain": [
       "   city\n",
       "0     1\n",
       "1     1\n",
       "2     2\n",
       "3     0"
      ]
     },
     "execution_count": 24,
     "metadata": {},
     "output_type": "execute_result"
    }
   ],
   "source": [
    "from sklearn.preprocessing import LabelEncoder\n",
    "\n",
    "encoded_df = df.copy()\n",
    "encoded_df['city'] = LabelEncoder().fit_transform(df.city)\n",
    "\n",
    "encoded_df.head()"
   ]
  },
  {
   "cell_type": "markdown",
   "id": "26604a4f-c3f9-47c4-8523-b2242ca32887",
   "metadata": {},
   "source": [
    "## OneHotEncoder"
   ]
  },
  {
   "cell_type": "code",
   "execution_count": 25,
   "id": "5b6dfcb6-4740-4a0a-a183-fdbf06cc7933",
   "metadata": {},
   "outputs": [
    {
     "data": {
      "text/html": [
       "<div>\n",
       "<style scoped>\n",
       "    .dataframe tbody tr th:only-of-type {\n",
       "        vertical-align: middle;\n",
       "    }\n",
       "\n",
       "    .dataframe tbody tr th {\n",
       "        vertical-align: top;\n",
       "    }\n",
       "\n",
       "    .dataframe thead th {\n",
       "        text-align: right;\n",
       "    }\n",
       "</style>\n",
       "<table border=\"1\" class=\"dataframe\">\n",
       "  <thead>\n",
       "    <tr style=\"text-align: right;\">\n",
       "      <th></th>\n",
       "      <th>sex</th>\n",
       "      <th>from</th>\n",
       "      <th>uses</th>\n",
       "    </tr>\n",
       "  </thead>\n",
       "  <tbody>\n",
       "    <tr>\n",
       "      <th>0</th>\n",
       "      <td>male</td>\n",
       "      <td>from US</td>\n",
       "      <td>uses Safari</td>\n",
       "    </tr>\n",
       "    <tr>\n",
       "      <th>1</th>\n",
       "      <td>female</td>\n",
       "      <td>from Europe</td>\n",
       "      <td>uses Firefox</td>\n",
       "    </tr>\n",
       "  </tbody>\n",
       "</table>\n",
       "</div>"
      ],
      "text/plain": [
       "      sex         from          uses\n",
       "0    male      from US   uses Safari\n",
       "1  female  from Europe  uses Firefox"
      ]
     },
     "execution_count": 25,
     "metadata": {},
     "output_type": "execute_result"
    }
   ],
   "source": [
    "X = [\n",
    "    [\"male\", \"from US\", \"uses Safari\"],\n",
    "    [\"female\", \"from Europe\", \"uses Firefox\"],\n",
    "]\n",
    "\n",
    "df = pd.DataFrame(X, columns=['sex', 'from', 'uses'])\n",
    "df"
   ]
  },
  {
   "cell_type": "code",
   "execution_count": 26,
   "id": "75c2b3f5-6d72-4dc4-8f00-5524e5f06f27",
   "metadata": {},
   "outputs": [
    {
     "data": {
      "text/html": [
       "<div>\n",
       "<style scoped>\n",
       "    .dataframe tbody tr th:only-of-type {\n",
       "        vertical-align: middle;\n",
       "    }\n",
       "\n",
       "    .dataframe tbody tr th {\n",
       "        vertical-align: top;\n",
       "    }\n",
       "\n",
       "    .dataframe thead th {\n",
       "        text-align: right;\n",
       "    }\n",
       "</style>\n",
       "<table border=\"1\" class=\"dataframe\">\n",
       "  <thead>\n",
       "    <tr style=\"text-align: right;\">\n",
       "      <th></th>\n",
       "      <th>sex_female</th>\n",
       "      <th>sex_male</th>\n",
       "      <th>from_from Europe</th>\n",
       "      <th>from_from US</th>\n",
       "      <th>uses_uses Firefox</th>\n",
       "      <th>uses_uses Safari</th>\n",
       "    </tr>\n",
       "  </thead>\n",
       "  <tbody>\n",
       "    <tr>\n",
       "      <th>0</th>\n",
       "      <td>0</td>\n",
       "      <td>1</td>\n",
       "      <td>0</td>\n",
       "      <td>1</td>\n",
       "      <td>0</td>\n",
       "      <td>1</td>\n",
       "    </tr>\n",
       "    <tr>\n",
       "      <th>1</th>\n",
       "      <td>1</td>\n",
       "      <td>0</td>\n",
       "      <td>1</td>\n",
       "      <td>0</td>\n",
       "      <td>1</td>\n",
       "      <td>0</td>\n",
       "    </tr>\n",
       "  </tbody>\n",
       "</table>\n",
       "</div>"
      ],
      "text/plain": [
       "   sex_female  sex_male  from_from Europe  from_from US  uses_uses Firefox  \\\n",
       "0           0         1                 0             1                  0   \n",
       "1           1         0                 1             0                  1   \n",
       "\n",
       "   uses_uses Safari  \n",
       "0                 1  \n",
       "1                 0  "
      ]
     },
     "execution_count": 26,
     "metadata": {},
     "output_type": "execute_result"
    }
   ],
   "source": [
    "pd.get_dummies(df)"
   ]
  },
  {
   "cell_type": "code",
   "execution_count": 27,
   "id": "f9feb6ef-e81a-45b3-9cac-543d96f101aa",
   "metadata": {},
   "outputs": [
    {
     "data": {
      "text/plain": [
       "array([[0., 1., 0., 1., 0., 1.],\n",
       "       [1., 0., 1., 0., 1., 0.]])"
      ]
     },
     "execution_count": 27,
     "metadata": {},
     "output_type": "execute_result"
    }
   ],
   "source": [
    "#\n",
    "# Con sklearn\n",
    "#\n",
    "from sklearn.preprocessing import OneHotEncoder\n",
    "\n",
    "OneHotEncoder().fit_transform(df.values).toarray()"
   ]
  }
 ],
 "metadata": {
  "kernelspec": {
   "display_name": "Python 3",
   "language": "python",
   "name": "python3"
  },
  "language_info": {
   "codemirror_mode": {
    "name": "ipython",
    "version": 3
   },
   "file_extension": ".py",
   "mimetype": "text/x-python",
   "name": "python",
   "nbconvert_exporter": "python",
   "pygments_lexer": "ipython3",
   "version": "3.6.9"
  }
 },
 "nbformat": 4,
 "nbformat_minor": 5
}
