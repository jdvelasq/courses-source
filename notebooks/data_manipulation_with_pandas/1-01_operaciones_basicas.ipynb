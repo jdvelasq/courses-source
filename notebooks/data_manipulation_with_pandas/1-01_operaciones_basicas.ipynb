{
 "cells": [
  {
   "cell_type": "markdown",
   "metadata": {},
   "source": [
    "# Operaciones básicas con Pandas\n",
    "\n",
    "* *60:00 min* | Última modificación: Agosto 11, 2021 | YouTube"
   ]
  },
  {
   "cell_type": "markdown",
   "metadata": {},
   "source": [
    "Pandas es una librería de alto desempeño para el manejo y análisis de datos en Python ampliamente utilizada en Analítica y Ciencia de Datos, por lo que su dominio resulta fundamental. Pandas se especializa en estructuras \"tidy\", es decir, tablas de datos donde cada fila es un registro y cada columna es un atributo."
   ]
  },
  {
   "cell_type": "markdown",
   "metadata": {},
   "source": [
    "Este tutorial esta basado en https://es.hortonworks.com/tutorial/beginners-guide-to-apache-pig/\n",
    "\n",
    "Al finalizar este documento usted estará en capcidad de: \n",
    "\n",
    "* Cargar datos almacenados en un archivo CSV. \n",
    "\n",
    "* Visualizar los registros.\n",
    "\n",
    "* Obtener un subconjunto de registros.\n",
    "\n",
    "* Obtener un subconjunto de columnas.\n",
    "\n",
    "* Obtener un subconjunto de filas y columnas.\n",
    "\n",
    "* Extraer los datos de un registro particular.\n",
    "\n",
    "* Guardar una tabla en disco usando el formato CSV."
   ]
  },
  {
   "cell_type": "markdown",
   "metadata": {},
   "source": [
    "## Preparación"
   ]
  },
  {
   "cell_type": "code",
   "execution_count": 2,
   "metadata": {},
   "outputs": [],
   "source": [
    "import pandas as pd\n",
    "import numpy as np\n",
    "\n",
    "pd.set_option(\"display.notebook_repr_html\", False)"
   ]
  },
  {
   "cell_type": "markdown",
   "metadata": {},
   "source": [
    "## Carga de los datos de los eventos de los conductores"
   ]
  },
  {
   "cell_type": "markdown",
   "metadata": {},
   "source": [
    "En el siguiente código se crea crea un DataFrame de eventos de los conductores en el sistema."
   ]
  },
  {
   "cell_type": "code",
   "execution_count": 3,
   "metadata": {},
   "outputs": [
    {
     "data": {
      "text/plain": [
       "17075"
      ]
     },
     "execution_count": 3,
     "metadata": {},
     "output_type": "execute_result"
    }
   ],
   "source": [
    "#\n",
    "# Carga del archivo ddesde un repo en GitHub\n",
    "#\n",
    "truck_events = pd.read_csv(\n",
    "    \"https://raw.githubusercontent.com/jdvelasq/datalabs/master/datasets/drivers/truck_event_text_partition.csv\",\n",
    "    sep=\",\",  \n",
    "    thousands=None, \n",
    "    decimal=\".\",\n",
    ")\n",
    "\n",
    "#\n",
    "# Total de registros leídos\n",
    "#\n",
    "len(truck_events)"
   ]
  },
  {
   "cell_type": "code",
   "execution_count": 4,
   "metadata": {},
   "outputs": [
    {
     "data": {
      "text/plain": [
       "['CorrelationId',\n",
       " 'driverId',\n",
       " 'driverName',\n",
       " 'eventDate',\n",
       " 'eventKey',\n",
       " 'eventTime',\n",
       " 'eventType',\n",
       " 'latitude',\n",
       " 'longitude',\n",
       " 'routeId',\n",
       " 'routeName',\n",
       " 'truckId']"
      ]
     },
     "execution_count": 4,
     "metadata": {},
     "output_type": "execute_result"
    }
   ],
   "source": [
    "#\n",
    "# Columnas ordenadas alfabeticamente\n",
    "#\n",
    "sorted(truck_events.columns)"
   ]
  },
  {
   "cell_type": "code",
   "execution_count": 5,
   "metadata": {},
   "outputs": [
    {
     "data": {
      "text/plain": [
       "           driverId       truckId     longitude      latitude  CorrelationId  \\\n",
       "count  17075.000000  17075.000000  17075.000000  17075.000000   1.707500e+04   \n",
       "mean      21.043104     55.424480    -91.798316     38.846300   5.373716e+17   \n",
       "std        6.612549     28.936049      2.236992      2.378946   1.295419e+18   \n",
       "min       10.000000     10.000000    -97.370000     34.750000   1.000000e+03   \n",
       "25%       15.000000     27.000000    -93.580000     37.030000   1.000000e+03   \n",
       "50%       21.000000     55.000000    -91.380000     38.970000   1.000000e+03   \n",
       "75%       27.000000     81.000000    -90.150000     41.540000   1.000000e+03   \n",
       "max       32.000000    109.000000    -87.660000     42.250000   3.660000e+18   \n",
       "\n",
       "            routeId  \n",
       "count  1.707500e+04  \n",
       "mean   1.034766e+09  \n",
       "std    6.233880e+08  \n",
       "min    2.492948e+07  \n",
       "25%    3.711828e+08  \n",
       "50%    1.198243e+09  \n",
       "75%    1.565885e+09  \n",
       "max    1.962262e+09  "
      ]
     },
     "execution_count": 5,
     "metadata": {},
     "output_type": "execute_result"
    }
   ],
   "source": [
    "#\n",
    "# Estadísticos de las columnas numéricas\n",
    "#\n",
    "truck_events.describe()"
   ]
  },
  {
   "cell_type": "markdown",
   "metadata": {},
   "source": [
    "## Visualización de la tabla"
   ]
  },
  {
   "cell_type": "code",
   "execution_count": 6,
   "metadata": {},
   "outputs": [
    {
     "data": {
      "text/plain": [
       "   driverId  truckId eventTime eventType  longitude  latitude  \\\n",
       "0        14       25   59:21.4    Normal     -94.58     37.03   \n",
       "1        18       16   59:21.7    Normal     -89.66     39.78   \n",
       "2        27      105   59:21.7    Normal     -90.21     38.65   \n",
       "3        11       74   59:21.7    Normal     -90.20     38.65   \n",
       "4        22       87   59:21.7    Normal     -90.04     35.19   \n",
       "5        22       87   59:22.3    Normal     -90.37     35.21   \n",
       "6        23       68   59:22.4    Normal     -89.91     40.86   \n",
       "7        11       74   59:22.5    Normal     -89.74     39.10   \n",
       "8        20       41   59:22.5    Normal     -93.36     41.69   \n",
       "9        32       42   59:22.5    Normal     -90.37     35.21   \n",
       "\n",
       "                     eventKey  CorrelationId       driverName     routeId  \\\n",
       "0   14|25|9223370572464814373   3.660000e+18       Adis Cesir   160405074   \n",
       "1   18|16|9223370572464814089   3.660000e+18        Grant Liu  1565885487   \n",
       "2  27|105|9223370572464814070   3.660000e+18  Mark Lochbihler  1325562373   \n",
       "3   11|74|9223370572464814123   3.660000e+18   Jamie Engesser  1567254452   \n",
       "4   22|87|9223370572464814101   3.660000e+18    Nadeem Asghar  1198242881   \n",
       "5   22|87|9223370572464813486   3.660000e+18    Nadeem Asghar  1198242881   \n",
       "6   23|68|9223370572464813450   3.660000e+18        Adam Diaz   160405074   \n",
       "7   11|74|9223370572464813355   3.660000e+18   Jamie Engesser  1567254452   \n",
       "8   20|41|9223370572464813344   3.660000e+18     Chris Harris   160779139   \n",
       "9   32|42|9223370572464813296   3.660000e+18   Ryan Templeton  1090292248   \n",
       "\n",
       "                                routeName      eventDate  \n",
       "0           Joplin to Kansas City Route 2  2016-05-27-22  \n",
       "1           Springfield to KC Via Hanibal  2016-05-27-22  \n",
       "2  Springfield to KC Via Columbia Route 2  2016-05-27-22  \n",
       "3           Saint Louis to Memphis Route2  2016-05-27-22  \n",
       "4           Saint Louis to Chicago Route2  2016-05-27-22  \n",
       "5           Saint Louis to Chicago Route2  2016-05-27-22  \n",
       "6           Joplin to Kansas City Route 2  2016-05-27-22  \n",
       "7           Saint Louis to Memphis Route2  2016-05-27-22  \n",
       "8           Des Moines to Chicago Route 2  2016-05-27-22  \n",
       "9          Peoria to Ceder Rapids Route 2  2016-05-27-22  "
      ]
     },
     "execution_count": 6,
     "metadata": {},
     "output_type": "execute_result"
    }
   ],
   "source": [
    "#\n",
    "# Cabecera del archivo\n",
    "#\n",
    "truck_events.head(10)"
   ]
  },
  {
   "cell_type": "code",
   "execution_count": 7,
   "metadata": {},
   "outputs": [
    {
     "data": {
      "text/plain": [
       "       driverId  truckId eventTime eventType  longitude  latitude  \\\n",
       "17065        21      105   12:22.0    Normal     -91.38     34.83   \n",
       "17066        11       27   12:22.2    Normal     -89.74     39.10   \n",
       "17067        30       95   12:23.8    Normal     -89.74     39.10   \n",
       "17068        31       48   12:22.5    Normal     -89.60     41.76   \n",
       "17069        22       24   12:22.9    Normal     -91.32     41.71   \n",
       "17070        11       27   12:23.1    Normal     -90.20     38.65   \n",
       "17071        16       46   12:24.0    Normal     -94.35     38.33   \n",
       "17072        18       49   12:23.7    Normal     -90.52     39.71   \n",
       "17073        10       39   12:23.8    Normal     -93.34     37.21   \n",
       "17074        19      100   12:24.0    Normal     -97.37     36.79   \n",
       "\n",
       "                         eventKey  CorrelationId         driverName  \\\n",
       "17065  21|105|9223370571956433811         1000.0       Jeff Markham   \n",
       "17066   11|27|9223370571956433631         1000.0     Jamie Engesser   \n",
       "17067   30|95|9223370571956432041         1000.0           Dan Rice   \n",
       "17068   31|48|9223370571956433330         1000.0      Rommel Garcia   \n",
       "17069   22|24|9223370571956432911         1000.0      Nadeem Asghar   \n",
       "17070   11|27|9223370571956432681         1000.0     Jamie Engesser   \n",
       "17071   16|46|9223370571956431821         1000.0         Tom McCuch   \n",
       "17072   18|49|9223370571956432141         1000.0          Grant Liu   \n",
       "17073   10|39|9223370571956431961         1000.0  George Vetticaden   \n",
       "17074  19|100|9223370571956431810         1000.0         Ajay Singh   \n",
       "\n",
       "          routeId                       routeName      eventDate  \n",
       "17065  1594289134  Memphis to Little Rock Route 2  2016-06-02-20  \n",
       "17066  1198242881   Saint Louis to Chicago Route2  2016-06-02-20  \n",
       "17067  1198242881   Saint Louis to Chicago Route2  2016-06-02-20  \n",
       "17068   160779139   Des Moines to Chicago Route 2  2016-06-02-20  \n",
       "17069  1090292248  Peoria to Ceder Rapids Route 2  2016-06-02-20  \n",
       "17070  1198242881   Saint Louis to Chicago Route2  2016-06-02-20  \n",
       "17071   160405074   Joplin to Kansas City Route 2  2016-06-02-20  \n",
       "17072  1565885487   Springfield to KC Via Hanibal  2016-06-02-20  \n",
       "17073  1390372503            Saint Louis to Tulsa  2016-06-02-20  \n",
       "17074  1962261785      Wichita to Little Rock.kml  2016-06-02-20  "
      ]
     },
     "execution_count": 7,
     "metadata": {},
     "output_type": "execute_result"
    }
   ],
   "source": [
    "#\n",
    "# Cola del archivo\n",
    "#\n",
    "truck_events.tail(10)"
   ]
  },
  {
   "cell_type": "code",
   "execution_count": 8,
   "metadata": {},
   "outputs": [
    {
     "data": {
      "text/plain": [
       "    driverId  truckId eventTime eventType  longitude  latitude  \\\n",
       "10        27      105   59:22.6    Normal     -90.41     38.75   \n",
       "11        17       15   59:23.2    Normal     -90.55     38.81   \n",
       "12        14       25   59:23.3    Normal     -94.31     37.31   \n",
       "13        28       39   59:23.3    Normal     -89.96     39.74   \n",
       "14        15       51   59:23.4    Normal     -90.68     35.12   \n",
       "15        16       12   59:23.4    Normal     -90.29     40.96   \n",
       "16        31       18   59:23.5    Normal     -94.31     37.31   \n",
       "17        25       96   59:23.5    Normal     -90.24     38.00   \n",
       "18        14       25   59:24.2    Normal     -94.30     37.66   \n",
       "19        22       87   59:24.2    Normal     -90.94     35.03   \n",
       "\n",
       "                      eventKey  CorrelationId            driverName  \\\n",
       "10  27|105|9223370572464813205   3.660000e+18       Mark Lochbihler   \n",
       "11   17|15|9223370572464812585   3.660000e+18           Eric Mizell   \n",
       "12   14|25|9223370572464812526   3.660000e+18            Adis Cesir   \n",
       "13   28|39|9223370572464812496   3.660000e+18       Olivier Renault   \n",
       "14   15|51|9223370572464812405   3.660000e+18          Rohit Bakshi   \n",
       "15   16|12|9223370572464812395   3.660000e+18            Tom McCuch   \n",
       "16   31|18|9223370572464812346   3.660000e+18         Rommel Garcia   \n",
       "17   25|96|9223370572464812336   3.660000e+18  Jean-Philippe Player   \n",
       "18   14|25|9223370572464811655   3.660000e+18            Adis Cesir   \n",
       "19   22|87|9223370572464811652   3.660000e+18         Nadeem Asghar   \n",
       "\n",
       "       routeId                               routeName      eventDate  \n",
       "10  1325562373  Springfield to KC Via Columbia Route 2  2016-05-27-22  \n",
       "11  1927624662          Springfield to KC Via Columbia  2016-05-27-22  \n",
       "12   160405074           Joplin to Kansas City Route 2  2016-05-27-22  \n",
       "13   137128276   Springfield to KC Via Hanibal Route 2  2016-05-27-22  \n",
       "14  1384345811                   Joplin to Kansas City  2016-05-27-22  \n",
       "15  1961634315                  Saint Louis to Memphis  2016-05-27-22  \n",
       "16  1594289134          Memphis to Little Rock Route 2  2016-05-27-22  \n",
       "17   371182829                  Memphis to Little Rock  2016-05-27-22  \n",
       "18   160405074           Joplin to Kansas City Route 2  2016-05-27-22  \n",
       "19  1198242881           Saint Louis to Chicago Route2  2016-05-27-22  "
      ]
     },
     "execution_count": 8,
     "metadata": {},
     "output_type": "execute_result"
    }
   ],
   "source": [
    "#\n",
    "# Porción intermedia del archivo\n",
    "#\n",
    "truck_events.head(20).tail(10)"
   ]
  },
  {
   "cell_type": "markdown",
   "metadata": {},
   "source": [
    "## Visualización de una columna"
   ]
  },
  {
   "cell_type": "code",
   "execution_count": 9,
   "metadata": {},
   "outputs": [
    {
     "data": {
      "text/plain": [
       "0             Joplin to Kansas City Route 2\n",
       "1             Springfield to KC Via Hanibal\n",
       "2    Springfield to KC Via Columbia Route 2\n",
       "3             Saint Louis to Memphis Route2\n",
       "4             Saint Louis to Chicago Route2\n",
       "Name: routeName, dtype: object"
      ]
     },
     "execution_count": 9,
     "metadata": {},
     "output_type": "execute_result"
    }
   ],
   "source": [
    "truck_events.routeName.head()"
   ]
  },
  {
   "cell_type": "markdown",
   "metadata": {},
   "source": [
    "## Obtención de un subconjunto de registros"
   ]
  },
  {
   "cell_type": "markdown",
   "metadata": {},
   "source": [
    "En hive es posible un subconjunto de datos y almacenarlo en una nueva tabla a partir de una consulta que permita obtener los datos deseados. En el siguiente código, se crea la tabla `truck_events_subset` con los primeros 100 registros de la tabla `truck_events`."
   ]
  },
  {
   "cell_type": "code",
   "execution_count": 10,
   "metadata": {},
   "outputs": [
    {
     "data": {
      "text/plain": [
       "   driverId  truckId eventTime eventType  longitude  latitude  \\\n",
       "0        14       25   59:21.4    Normal     -94.58     37.03   \n",
       "1        18       16   59:21.7    Normal     -89.66     39.78   \n",
       "2        27      105   59:21.7    Normal     -90.21     38.65   \n",
       "3        11       74   59:21.7    Normal     -90.20     38.65   \n",
       "4        22       87   59:21.7    Normal     -90.04     35.19   \n",
       "5        22       87   59:22.3    Normal     -90.37     35.21   \n",
       "6        23       68   59:22.4    Normal     -89.91     40.86   \n",
       "7        11       74   59:22.5    Normal     -89.74     39.10   \n",
       "8        20       41   59:22.5    Normal     -93.36     41.69   \n",
       "9        32       42   59:22.5    Normal     -90.37     35.21   \n",
       "\n",
       "                     eventKey  CorrelationId       driverName     routeId  \\\n",
       "0   14|25|9223370572464814373   3.660000e+18       Adis Cesir   160405074   \n",
       "1   18|16|9223370572464814089   3.660000e+18        Grant Liu  1565885487   \n",
       "2  27|105|9223370572464814070   3.660000e+18  Mark Lochbihler  1325562373   \n",
       "3   11|74|9223370572464814123   3.660000e+18   Jamie Engesser  1567254452   \n",
       "4   22|87|9223370572464814101   3.660000e+18    Nadeem Asghar  1198242881   \n",
       "5   22|87|9223370572464813486   3.660000e+18    Nadeem Asghar  1198242881   \n",
       "6   23|68|9223370572464813450   3.660000e+18        Adam Diaz   160405074   \n",
       "7   11|74|9223370572464813355   3.660000e+18   Jamie Engesser  1567254452   \n",
       "8   20|41|9223370572464813344   3.660000e+18     Chris Harris   160779139   \n",
       "9   32|42|9223370572464813296   3.660000e+18   Ryan Templeton  1090292248   \n",
       "\n",
       "                                routeName      eventDate  \n",
       "0           Joplin to Kansas City Route 2  2016-05-27-22  \n",
       "1           Springfield to KC Via Hanibal  2016-05-27-22  \n",
       "2  Springfield to KC Via Columbia Route 2  2016-05-27-22  \n",
       "3           Saint Louis to Memphis Route2  2016-05-27-22  \n",
       "4           Saint Louis to Chicago Route2  2016-05-27-22  \n",
       "5           Saint Louis to Chicago Route2  2016-05-27-22  \n",
       "6           Joplin to Kansas City Route 2  2016-05-27-22  \n",
       "7           Saint Louis to Memphis Route2  2016-05-27-22  \n",
       "8           Des Moines to Chicago Route 2  2016-05-27-22  \n",
       "9          Peoria to Ceder Rapids Route 2  2016-05-27-22  "
      ]
     },
     "execution_count": 10,
     "metadata": {},
     "output_type": "execute_result"
    }
   ],
   "source": [
    "truck_events_subset = truck_events[0:10]\n",
    "truck_events_subset"
   ]
  },
  {
   "cell_type": "markdown",
   "metadata": {},
   "source": [
    "## Obtención de un subconjunto de columnas"
   ]
  },
  {
   "cell_type": "markdown",
   "metadata": {},
   "source": [
    "En el siguiente código se obtienen algunas columnas de la tabla `truck_events_subset` para ser almacenadas en una tabla diferente."
   ]
  },
  {
   "cell_type": "code",
   "execution_count": 11,
   "metadata": {},
   "outputs": [
    {
     "data": {
      "text/plain": [
       "   driverId eventTime eventType\n",
       "0        14   59:21.4    Normal\n",
       "1        18   59:21.7    Normal\n",
       "2        27   59:21.7    Normal\n",
       "3        11   59:21.7    Normal\n",
       "4        22   59:21.7    Normal\n",
       "5        22   59:22.3    Normal\n",
       "6        23   59:22.4    Normal\n",
       "7        11   59:22.5    Normal\n",
       "8        20   59:22.5    Normal\n",
       "9        32   59:22.5    Normal"
      ]
     },
     "execution_count": 11,
     "metadata": {},
     "output_type": "execute_result"
    }
   ],
   "source": [
    "specific_columns = truck_events_subset[[\"driverId\", \"eventTime\", \"eventType\"]]\n",
    "specific_columns"
   ]
  },
  {
   "cell_type": "markdown",
   "metadata": {},
   "source": [
    "Un subconjunto tambien puede ser obtenido a partir de la función filter()."
   ]
  },
  {
   "cell_type": "code",
   "execution_count": 12,
   "metadata": {},
   "outputs": [
    {
     "data": {
      "text/plain": [
       "   driverId eventTime eventType\n",
       "0        14   59:21.4    Normal\n",
       "1        18   59:21.7    Normal\n",
       "2        27   59:21.7    Normal\n",
       "3        11   59:21.7    Normal\n",
       "4        22   59:21.7    Normal\n",
       "5        22   59:22.3    Normal\n",
       "6        23   59:22.4    Normal\n",
       "7        11   59:22.5    Normal\n",
       "8        20   59:22.5    Normal\n",
       "9        32   59:22.5    Normal"
      ]
     },
     "execution_count": 12,
     "metadata": {},
     "output_type": "execute_result"
    }
   ],
   "source": [
    "#\n",
    "# Selección usando los nombres de las columnas.\n",
    "#\n",
    "truck_events_subset.filter(items=[\"driverId\", \"eventTime\", \"eventType\"])"
   ]
  },
  {
   "cell_type": "code",
   "execution_count": 13,
   "metadata": {},
   "outputs": [
    {
     "data": {
      "text/plain": [
       "  eventTime eventType  longitude  latitude       driverName  \\\n",
       "0   59:21.4    Normal     -94.58     37.03       Adis Cesir   \n",
       "1   59:21.7    Normal     -89.66     39.78        Grant Liu   \n",
       "2   59:21.7    Normal     -90.21     38.65  Mark Lochbihler   \n",
       "3   59:21.7    Normal     -90.20     38.65   Jamie Engesser   \n",
       "4   59:21.7    Normal     -90.04     35.19    Nadeem Asghar   \n",
       "5   59:22.3    Normal     -90.37     35.21    Nadeem Asghar   \n",
       "6   59:22.4    Normal     -89.91     40.86        Adam Diaz   \n",
       "7   59:22.5    Normal     -89.74     39.10   Jamie Engesser   \n",
       "8   59:22.5    Normal     -93.36     41.69     Chris Harris   \n",
       "9   59:22.5    Normal     -90.37     35.21   Ryan Templeton   \n",
       "\n",
       "                                routeName      eventDate  \n",
       "0           Joplin to Kansas City Route 2  2016-05-27-22  \n",
       "1           Springfield to KC Via Hanibal  2016-05-27-22  \n",
       "2  Springfield to KC Via Columbia Route 2  2016-05-27-22  \n",
       "3           Saint Louis to Memphis Route2  2016-05-27-22  \n",
       "4           Saint Louis to Chicago Route2  2016-05-27-22  \n",
       "5           Saint Louis to Chicago Route2  2016-05-27-22  \n",
       "6           Joplin to Kansas City Route 2  2016-05-27-22  \n",
       "7           Saint Louis to Memphis Route2  2016-05-27-22  \n",
       "8           Des Moines to Chicago Route 2  2016-05-27-22  \n",
       "9          Peoria to Ceder Rapids Route 2  2016-05-27-22  "
      ]
     },
     "execution_count": 13,
     "metadata": {},
     "output_type": "execute_result"
    }
   ],
   "source": [
    "#\n",
    "# Selección de las columnas cuyo nombre termina \n",
    "# en 'e'.\n",
    "#\n",
    "truck_events_subset.filter(regex='e$', axis=1)"
   ]
  },
  {
   "cell_type": "code",
   "execution_count": 14,
   "metadata": {},
   "outputs": [
    {
     "data": {
      "text/plain": [
       "  eventTime eventType                    eventKey      eventDate\n",
       "0   59:21.4    Normal   14|25|9223370572464814373  2016-05-27-22\n",
       "1   59:21.7    Normal   18|16|9223370572464814089  2016-05-27-22\n",
       "2   59:21.7    Normal  27|105|9223370572464814070  2016-05-27-22\n",
       "3   59:21.7    Normal   11|74|9223370572464814123  2016-05-27-22\n",
       "4   59:21.7    Normal   22|87|9223370572464814101  2016-05-27-22\n",
       "5   59:22.3    Normal   22|87|9223370572464813486  2016-05-27-22\n",
       "6   59:22.4    Normal   23|68|9223370572464813450  2016-05-27-22\n",
       "7   59:22.5    Normal   11|74|9223370572464813355  2016-05-27-22\n",
       "8   59:22.5    Normal   20|41|9223370572464813344  2016-05-27-22\n",
       "9   59:22.5    Normal   32|42|9223370572464813296  2016-05-27-22"
      ]
     },
     "execution_count": 14,
     "metadata": {},
     "output_type": "execute_result"
    }
   ],
   "source": [
    "#\n",
    "# Selección de las columnas que contienen 'ent'\n",
    "#\n",
    "truck_events_subset.filter(like='ent', axis=1)"
   ]
  },
  {
   "cell_type": "markdown",
   "metadata": {},
   "source": [
    "## Obtención de un subconjunto de filas y columnas"
   ]
  },
  {
   "cell_type": "code",
   "execution_count": 11,
   "metadata": {},
   "outputs": [
    {
     "data": {
      "text/plain": [
       "    driverId eventTime eventType\n",
       "0         14   59:21.4    Normal\n",
       "1         18   59:21.7    Normal\n",
       "2         27   59:21.7    Normal\n",
       "3         11   59:21.7    Normal\n",
       "4         22   59:21.7    Normal\n",
       "5         22   59:22.3    Normal\n",
       "6         23   59:22.4    Normal\n",
       "7         11   59:22.5    Normal\n",
       "8         20   59:22.5    Normal\n",
       "9         32   59:22.5    Normal\n",
       "10        27   59:22.6    Normal"
      ]
     },
     "execution_count": 11,
     "metadata": {},
     "output_type": "execute_result"
    }
   ],
   "source": [
    "new_sub_set = truck_events.loc[0:10, [\"driverId\", \"eventTime\", \"eventType\"]]\n",
    "new_sub_set"
   ]
  },
  {
   "cell_type": "markdown",
   "metadata": {},
   "source": [
    "## Obtención de un campo de un registro en particular"
   ]
  },
  {
   "cell_type": "code",
   "execution_count": 12,
   "metadata": {},
   "outputs": [
    {
     "data": {
      "text/plain": [
       "driverId                                    18\n",
       "truckId                                     16\n",
       "eventTime                              59:21.7\n",
       "eventType                               Normal\n",
       "longitude                               -89.66\n",
       "latitude                                 39.78\n",
       "eventKey             18|16|9223370572464814089\n",
       "CorrelationId                         3.66e+18\n",
       "driverName                           Grant Liu\n",
       "routeId                             1565885487\n",
       "routeName        Springfield to KC Via Hanibal\n",
       "eventDate                        2016-05-27-22\n",
       "Name: 1, dtype: object"
      ]
     },
     "execution_count": 12,
     "metadata": {},
     "output_type": "execute_result"
    }
   ],
   "source": [
    "truck_events.iloc[1]"
   ]
  },
  {
   "cell_type": "code",
   "execution_count": 13,
   "metadata": {},
   "outputs": [
    {
     "data": {
      "text/plain": [
       "'18|16|9223370572464814089'"
      ]
     },
     "execution_count": 13,
     "metadata": {},
     "output_type": "execute_result"
    }
   ],
   "source": [
    "truck_events.iloc[1].eventKey"
   ]
  },
  {
   "cell_type": "code",
   "execution_count": 14,
   "metadata": {},
   "outputs": [
    {
     "data": {
      "text/plain": [
       "'18|16|9223370572464814089'"
      ]
     },
     "execution_count": 14,
     "metadata": {},
     "output_type": "execute_result"
    }
   ],
   "source": [
    "truck_events.iloc[1][\"eventKey\"]"
   ]
  },
  {
   "cell_type": "markdown",
   "metadata": {},
   "source": [
    "## Escritura de la tabla en el disco"
   ]
  },
  {
   "cell_type": "code",
   "execution_count": 15,
   "metadata": {},
   "outputs": [],
   "source": [
    "specific_columns.to_csv(\"/tmp/specific-columns.csv\", sep=\",\", header=True, index=False)"
   ]
  },
  {
   "cell_type": "code",
   "execution_count": 16,
   "metadata": {},
   "outputs": [
    {
     "name": "stdout",
     "output_type": "stream",
     "text": [
      "specific-columns.csv\n"
     ]
    }
   ],
   "source": [
    "#\n",
    "# Se visualiza el contenido del directorio\n",
    "#\n",
    "!ls /tmp/"
   ]
  },
  {
   "cell_type": "code",
   "execution_count": 17,
   "metadata": {},
   "outputs": [
    {
     "name": "stdout",
     "output_type": "stream",
     "text": [
      "driverId,eventTime,eventType\n",
      "14,59:21.4,Normal\n",
      "18,59:21.7,Normal\n",
      "27,59:21.7,Normal\n",
      "11,59:21.7,Normal\n",
      "22,59:21.7,Normal\n",
      "22,59:22.3,Normal\n",
      "23,59:22.4,Normal\n",
      "11,59:22.5,Normal\n",
      "20,59:22.5,Normal\n",
      "32,59:22.5,Normal\n"
     ]
    }
   ],
   "source": [
    "#\n",
    "# Se visualiza la parte final del archivo\n",
    "#\n",
    "!cat /tmp/specific-columns.csv"
   ]
  }
 ],
 "metadata": {
  "kernelspec": {
   "display_name": "Python 3",
   "language": "python",
   "name": "python3"
  },
  "language_info": {
   "codemirror_mode": {
    "name": "ipython",
    "version": 3
   },
   "file_extension": ".py",
   "mimetype": "text/x-python",
   "name": "python",
   "nbconvert_exporter": "python",
   "pygments_lexer": "ipython3",
   "version": "3.6.9"
  },
  "toc-autonumbering": false,
  "toc-showmarkdowntxt": false
 },
 "nbformat": 4,
 "nbformat_minor": 4
}
