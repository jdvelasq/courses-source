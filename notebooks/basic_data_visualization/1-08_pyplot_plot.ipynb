{
 "cells": [
  {
   "cell_type": "markdown",
   "id": "214b5d1c-3b0b-4e27-88d9-593e006a69d3",
   "metadata": {
    "tags": []
   },
   "source": [
    "Gráfico de líneas\n",
    "===\n",
    "\n",
    "* *90:00 min* | Última modificación: Septiembre 1, 2021 | [YouTube]"
   ]
  },
  {
   "cell_type": "code",
   "execution_count": null,
   "id": "9a7d6484-b3b2-4293-9aca-ab6f60ae3d3f",
   "metadata": {},
   "outputs": [],
   "source": []
  }
 ],
 "metadata": {
  "kernelspec": {
   "display_name": "Python 3",
   "language": "python",
   "name": "python3"
  },
  "language_info": {
   "codemirror_mode": {
    "name": "ipython",
    "version": 3
   },
   "file_extension": ".py",
   "mimetype": "text/x-python",
   "name": "python",
   "nbconvert_exporter": "python",
   "pygments_lexer": "ipython3",
   "version": "3.6.9"
  }
 },
 "nbformat": 4,
 "nbformat_minor": 5
}
