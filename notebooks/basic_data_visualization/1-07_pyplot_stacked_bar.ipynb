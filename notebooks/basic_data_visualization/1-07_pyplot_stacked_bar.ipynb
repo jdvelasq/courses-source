{
 "cells": [
  {
   "cell_type": "markdown",
   "id": "b96c1a52-8adc-4cde-96be-d192234c48d7",
   "metadata": {
    "tags": []
   },
   "source": [
    "Gráfico de barras apiladas\n",
    "===\n",
    "\n",
    "* *90:00 min* | Última modificación: Septiembre 1, 2021 | [YouTube]"
   ]
  },
  {
   "cell_type": "code",
   "execution_count": 1,
   "id": "569b4696-4a1c-433b-98ca-9185a7b1baf5",
   "metadata": {},
   "outputs": [],
   "source": [
    "import matplotlib.pyplot as plt\n",
    "import seaborn as sns"
   ]
  },
  {
   "cell_type": "code",
   "execution_count": 2,
   "id": "30faa7b2-a53a-4206-860a-80973897d0a0",
   "metadata": {},
   "outputs": [
    {
     "data": {
      "text/plain": [
       "sex\n",
       "Male      60\n",
       "Female    33\n",
       "dtype: int64"
      ]
     },
     "metadata": {},
     "output_type": "display_data"
    },
    {
     "data": {
      "text/plain": [
       "sex\n",
       "Male      97\n",
       "Female    54\n",
       "dtype: int64"
      ]
     },
     "metadata": {},
     "output_type": "display_data"
    }
   ],
   "source": [
    "#\n",
    "# Datos\n",
    "#\n",
    "tips = sns.load_dataset('tips')\n",
    "\n",
    "smoker_sex = tips.groupby(['smoker', 'sex']).size()\n",
    "\n",
    "smoker_sex_yes = smoker_sex['Yes']\n",
    "smoker_sex_no = smoker_sex['No']\n",
    "\n",
    "display(\n",
    "    smoker_sex_yes,\n",
    "    smoker_sex_no,\n",
    ")"
   ]
  },
  {
   "cell_type": "code",
   "execution_count": 3,
   "id": "c3206419-d9ac-4ea9-81db-a3b63c9a8e4d",
   "metadata": {},
   "outputs": [
    {
     "data": {
      "image/png": "[encoded data removed]",
      "text/plain": [
       "<Figure size 432x216 with 1 Axes>"
      ]
     },
     "metadata": {
      "needs_background": "light"
     },
     "output_type": "display_data"
    }
   ],
   "source": [
    "plt.figure(figsize=(6, 3))\n",
    "\n",
    "plt.bar(\n",
    "    x=smoker_sex_yes.index,\n",
    "    height=smoker_sex_yes,\n",
    "    color=\"tab:blue\",\n",
    "    alpha=0.5,\n",
    "    edgecolor=\"tab:blue\",\n",
    "    linewidth=3,\n",
    "    label='Yes',\n",
    ")\n",
    "\n",
    "plt.bar(\n",
    "    x=smoker_sex_no.index,\n",
    "    height=smoker_sex_no,\n",
    "    bottom=smoker_sex_yes,\n",
    "    color=\"tab:orange\",\n",
    "    alpha=0.5,\n",
    "    edgecolor=\"tab:orange\",\n",
    "    linewidth=3,\n",
    "    label='No',\n",
    ")\n",
    "\n",
    "plt.title(\"Number of bills\", fontsize=18)\n",
    "plt.xlabel(\"Smoker\", fontsize=14)\n",
    "plt.ylabel(\"Quantity\")\n",
    "\n",
    "plt.xticks(\n",
    "    rotation=\"vertical\",\n",
    ")\n",
    "\n",
    "plt.legend()\n",
    "\n",
    "plt.gca().spines[\"left\"].set_color(\"lightgray\")\n",
    "plt.gca().spines[\"bottom\"].set_color(\"gray\")\n",
    "plt.gca().spines[\"top\"].set_visible(False)\n",
    "plt.gca().spines[\"right\"].set_visible(False)\n",
    "\n",
    "plt.show()"
   ]
  }
 ],
 "metadata": {
  "kernelspec": {
   "display_name": "Python 3",
   "language": "python",
   "name": "python3"
  },
  "language_info": {
   "codemirror_mode": {
    "name": "ipython",
    "version": 3
   },
   "file_extension": ".py",
   "mimetype": "text/x-python",
   "name": "python",
   "nbconvert_exporter": "python",
   "pygments_lexer": "ipython3",
   "version": "3.6.9"
  }
 },
 "nbformat": 4,
 "nbformat_minor": 5
}
