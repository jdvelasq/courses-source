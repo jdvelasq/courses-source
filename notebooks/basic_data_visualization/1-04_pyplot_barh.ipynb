{
 "cells": [
  {
   "cell_type": "markdown",
   "id": "b96c1a52-8adc-4cde-96be-d192234c48d7",
   "metadata": {
    "tags": []
   },
   "source": [
    "Gráfico de barras horizontales\n",
    "===\n",
    "\n",
    "* *90:00 min* | Última modificación: Septiembre 1, 2021 | [YouTube]"
   ]
  },
  {
   "cell_type": "code",
   "execution_count": 1,
   "id": "569b4696-4a1c-433b-98ca-9185a7b1baf5",
   "metadata": {},
   "outputs": [],
   "source": [
    "import matplotlib.pyplot as plt\n",
    "import seaborn as sns"
   ]
  },
  {
   "cell_type": "code",
   "execution_count": 2,
   "id": "30faa7b2-a53a-4206-860a-80973897d0a0",
   "metadata": {},
   "outputs": [
    {
     "data": {
      "text/plain": [
       "No     151\n",
       "Yes     93\n",
       "Name: smoker, dtype: int64"
      ]
     },
     "execution_count": 2,
     "metadata": {},
     "output_type": "execute_result"
    }
   ],
   "source": [
    "#\n",
    "# Datos\n",
    "#\n",
    "tips = sns.load_dataset('tips')\n",
    "smoker = tips.smoker.value_counts()\n",
    "smoker"
   ]
  },
  {
   "cell_type": "code",
   "execution_count": 3,
   "id": "da0fec00-ae51-47c9-8103-ed433ad02c3e",
   "metadata": {},
   "outputs": [
    {
     "data": {
      "image/png": "[encoded data removed]",
      "text/plain": [
       "<Figure size 288x216 with 1 Axes>"
      ]
     },
     "metadata": {
      "needs_background": "light"
     },
     "output_type": "display_data"
    }
   ],
   "source": [
    "plt.figure(figsize=(4, 3))\n",
    "\n",
    "plt.barh(\n",
    "    y=range(len(smoker)),\n",
    "    width=smoker,\n",
    "    color=\"tab:green\",\n",
    "    alpha=0.5,\n",
    "    edgecolor=\"tab:green\",\n",
    "    linewidth=3,\n",
    ")\n",
    "\n",
    "plt.title(\"Number of bills\", fontsize=18)\n",
    "plt.xlabel(\"Smoker\", fontsize=14)\n",
    "plt.ylabel(\"Quantity\")\n",
    "\n",
    "plt.yticks(\n",
    "    ticks=range(len(smoker)),\n",
    "    labels=smoker.index,\n",
    "    rotation=\"horizontal\",\n",
    ")\n",
    "\n",
    "plt.gca().spines[\"left\"].set_color(\"gray\")\n",
    "plt.gca().spines[\"bottom\"].set_color(\"gray\")\n",
    "plt.gca().spines[\"top\"].set_visible(False)\n",
    "plt.gca().spines[\"right\"].set_visible(False)\n",
    "\n",
    "plt.show()"
   ]
  }
 ],
 "metadata": {
  "kernelspec": {
   "display_name": "Python 3",
   "language": "python",
   "name": "python3"
  },
  "language_info": {
   "codemirror_mode": {
    "name": "ipython",
    "version": 3
   },
   "file_extension": ".py",
   "mimetype": "text/x-python",
   "name": "python",
   "nbconvert_exporter": "python",
   "pygments_lexer": "ipython3",
   "version": "3.6.9"
  }
 },
 "nbformat": 4,
 "nbformat_minor": 5
}
