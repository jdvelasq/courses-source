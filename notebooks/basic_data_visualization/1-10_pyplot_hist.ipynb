{
 "cells": [
  {
   "cell_type": "markdown",
   "id": "e14a2a60-ab6b-45fc-a8c0-dba9e728e7ba",
   "metadata": {
    "tags": []
   },
   "source": [
    "Histogramas\n",
    "===\n",
    "\n",
    "* *90:00 min* | Última modificación: Septiembre 1, 2021 | [YouTube]"
   ]
  },
  {
   "cell_type": "markdown",
   "id": "04c79c85-1096-4c2d-bcd3-a60b4489eba2",
   "metadata": {
    "tags": []
   },
   "source": [
    "En este tutorial se presentan varios ejemplos de visualización de relaciones con diagramas de dispersión."
   ]
  },
  {
   "cell_type": "code",
   "execution_count": 1,
   "id": "e5391712-619d-4322-a909-1db6f347f318",
   "metadata": {},
   "outputs": [],
   "source": [
    "import matplotlib.pyplot as plt\n",
    "import seaborn as sns"
   ]
  },
  {
   "cell_type": "markdown",
   "id": "fc6f79fc-beba-4446-b970-30af1305aadc",
   "metadata": {},
   "source": [
    "## Datos"
   ]
  },
  {
   "cell_type": "code",
   "execution_count": 11,
   "id": "ac6cbd68-cf2b-4a38-b7f6-6b7d9b232d56",
   "metadata": {},
   "outputs": [],
   "source": [
    "penguins = sns.load_dataset(\"penguins\")\n",
    "tips = sns.load_dataset('tips')"
   ]
  },
  {
   "cell_type": "code",
   "execution_count": 15,
   "id": "599e7874-c2e5-42ba-93a3-76e9303df6f4",
   "metadata": {},
   "outputs": [
    {
     "data": {
      "image/png": "[encoded data removed]",
      "text/plain": [
       "<Figure size 432x288 with 1 Axes>"
      ]
     },
     "metadata": {
      "needs_background": "light"
     },
     "output_type": "display_data"
    }
   ],
   "source": [
    "plt.hist(\n",
    "    x=penguins.flipper_length_mm,\n",
    "    bins=None,\n",
    "    density=False,\n",
    "    cumulative=False,\n",
    "    histtype='bar',\n",
    "    orientation='vertical',\n",
    "    rwidth=None,\n",
    "    log=False,\n",
    "    align='mid',\n",
    "    color='tab:blue',\n",
    "    edgecolor='black',\n",
    "    alpha=0.8,\n",
    ")\n",
    "\n",
    "plt.gca().spines[\"left\"].set_color(\"gray\")\n",
    "plt.gca().spines[\"bottom\"].set_color(\"gray\")\n",
    "plt.gca().spines[\"top\"].set_visible(False)\n",
    "plt.gca().spines[\"right\"].set_visible(False)\n",
    "\n",
    "plt.show()"
   ]
  },
  {
   "cell_type": "code",
   "execution_count": 9,
   "id": "6366c84d-d8bf-4e83-b9fc-2101fbc24be3",
   "metadata": {},
   "outputs": [
    {
     "data": {
      "image/png": "[encoded data removed]",
      "text/plain": [
       "<Figure size 432x288 with 1 Axes>"
      ]
     },
     "metadata": {
      "needs_background": "light"
     },
     "output_type": "display_data"
    }
   ],
   "source": [
    "plt.hist(\n",
    "    x=penguins.flipper_length_mm,\n",
    "    bins=None,\n",
    "    density=True,\n",
    "    cumulative=False,\n",
    "    histtype='bar',\n",
    "    orientation='vertical',\n",
    "    rwidth=0.8,\n",
    "    log=False,\n",
    "    color='tab:blue',\n",
    "    edgecolor='black',\n",
    "    alpha=0.8,\n",
    ")\n",
    "\n",
    "plt.gca().spines[\"left\"].set_color(\"gray\")\n",
    "plt.gca().spines[\"bottom\"].set_color(\"gray\")\n",
    "plt.gca().spines[\"top\"].set_visible(False)\n",
    "plt.gca().spines[\"right\"].set_visible(False)\n",
    "\n",
    "plt.show()"
   ]
  },
  {
   "cell_type": "markdown",
   "id": "6b1ecce4-c757-431a-b512-8d6edd5ed3e6",
   "metadata": {},
   "source": [
    "## Histograma para una variable discreta"
   ]
  },
  {
   "cell_type": "code",
   "execution_count": 16,
   "id": "bbada11f-c48f-48b3-8cd9-97db3362ab4a",
   "metadata": {},
   "outputs": [
    {
     "data": {
      "image/png": "[encoded data removed]",
      "text/plain": [
       "<Figure size 432x288 with 1 Axes>"
      ]
     },
     "metadata": {
      "needs_background": "light"
     },
     "output_type": "display_data"
    }
   ],
   "source": [
    "plt.hist(\n",
    "    x=tips[\"size\"],\n",
    "    bins=None,\n",
    "    density=True,\n",
    "    cumulative=False,\n",
    "    histtype='bar',\n",
    "    orientation='vertical',\n",
    "    rwidth=0.8,\n",
    "    align='mid',    \n",
    "    log=False,\n",
    "    color='tab:blue',\n",
    "    edgecolor='black',\n",
    "    alpha=0.8,\n",
    ")\n",
    "\n",
    "plt.gca().spines[\"left\"].set_color(\"gray\")\n",
    "plt.gca().spines[\"bottom\"].set_color(\"gray\")\n",
    "plt.gca().spines[\"top\"].set_visible(False)\n",
    "plt.gca().spines[\"right\"].set_visible(False)\n",
    "\n",
    "plt.show()"
   ]
  },
  {
   "cell_type": "code",
   "execution_count": 18,
   "id": "49e90638-b7cf-4f92-85c7-88243f1061ea",
   "metadata": {},
   "outputs": [
    {
     "data": {
      "image/png": "[encoded data removed]",
      "text/plain": [
       "<Figure size 432x288 with 1 Axes>"
      ]
     },
     "metadata": {
      "needs_background": "light"
     },
     "output_type": "display_data"
    }
   ],
   "source": [
    "plt.hist(\n",
    "    x=tips[\"size\"],\n",
    "    bins=[0.5, 1.5, 2.5, 3.5, 4.5, 5.5, 6.5],\n",
    "    density=True,\n",
    "    cumulative=False,\n",
    "    histtype='bar',\n",
    "    orientation='vertical',\n",
    "    rwidth=0.7,\n",
    "    align='mid',    \n",
    "    log=False,\n",
    "    color='tab:blue',\n",
    "    edgecolor='black',\n",
    "    alpha=0.8,\n",
    ")\n",
    "\n",
    "plt.gca().spines[\"left\"].set_color(\"gray\")\n",
    "plt.gca().spines[\"bottom\"].set_color(\"gray\")\n",
    "plt.gca().spines[\"top\"].set_visible(False)\n",
    "plt.gca().spines[\"right\"].set_visible(False)\n",
    "\n",
    "plt.show()"
   ]
  }
 ],
 "metadata": {
  "kernelspec": {
   "display_name": "Python 3",
   "language": "python",
   "name": "python3"
  },
  "language_info": {
   "codemirror_mode": {
    "name": "ipython",
    "version": 3
   },
   "file_extension": ".py",
   "mimetype": "text/x-python",
   "name": "python",
   "nbconvert_exporter": "python",
   "pygments_lexer": "ipython3",
   "version": "3.6.9"
  }
 },
 "nbformat": 4,
 "nbformat_minor": 5
}
