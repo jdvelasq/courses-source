{
 "cells": [
  {
   "cell_type": "markdown",
   "id": "f6824e3e-d23b-43f9-938b-607aa3395561",
   "metadata": {
    "tags": []
   },
   "source": [
    "Funciones de activación de las capas --- 0:00 min\n",
    "===\n",
    "\n",
    "* Última modificación: Marzo 7, 2022 | YouTube\n",
    "\n",
    "* Adaptado de: https://keras.io/api/layers/activations/"
   ]
  },
  {
   "cell_type": "markdown",
   "id": "d43d5b96-de04-459d-9624-39efbf1392f1",
   "metadata": {
    "tags": []
   },
   "source": [
    "Importación de librerías\n",
    "---"
   ]
  },
  {
   "cell_type": "code",
   "execution_count": 1,
   "id": "7921b517-e32c-4780-b0d5-a8f934189f7d",
   "metadata": {},
   "outputs": [
    {
     "data": {
      "text/plain": [
       "'2.8.0'"
      ]
     },
     "execution_count": 1,
     "metadata": {},
     "output_type": "execute_result"
    }
   ],
   "source": [
    "import os\n",
    "\n",
    "os.environ[\"TF_CPP_MIN_LOG_LEVEL\"] = \"2\"\n",
    "\n",
    "import tensorflow as tf\n",
    "\n",
    "tf.__version__"
   ]
  },
  {
   "cell_type": "markdown",
   "id": "e65528d8-3cbc-41e9-94fe-9b7ae99003a5",
   "metadata": {},
   "source": [
    "Uso de activaciones\n",
    "--"
   ]
  },
  {
   "cell_type": "code",
   "execution_count": 2,
   "id": "930fe38e-f466-47c8-aac7-33b3aa6d42e8",
   "metadata": {},
   "outputs": [],
   "source": [
    "#\n",
    "# Código comunmente usado\n",
    "#\n",
    "model = tf.keras.Sequential()\n",
    "model.add(\n",
    "    tf.keras.layers.Dense(64, activation=tf.keras.activations.relu),\n",
    ")"
   ]
  },
  {
   "cell_type": "code",
   "execution_count": 3,
   "id": "1e957b29-cd2f-4e4e-9351-c82a1ae31808",
   "metadata": {},
   "outputs": [],
   "source": [
    "#\n",
    "# Código equivalente al anterior. La activación puede usarse como una capa.\n",
    "#\n",
    "model = tf.keras.Sequential()\n",
    "model.add(\n",
    "    tf.keras.layers.Dense(64),\n",
    ")\n",
    "model.add(\n",
    "    tf.keras.layers.Activation(\n",
    "        tf.keras.activations.relu,\n",
    "    ),\n",
    ")"
   ]
  },
  {
   "cell_type": "code",
   "execution_count": 4,
   "id": "93114e51-dec5-4609-a8e0-cde546d39bec",
   "metadata": {},
   "outputs": [],
   "source": [
    "#\n",
    "# Usando funciones built-in:\n",
    "#\n",
    "model = tf.keras.Sequential()\n",
    "model.add(\n",
    "    tf.keras.layers.Dense(\n",
    "        64,\n",
    "        activation=\"relu\",\n",
    "    ),\n",
    ")"
   ]
  },
  {
   "cell_type": "markdown",
   "id": "8794c688-437e-4657-b4ce-1bb436c478bd",
   "metadata": {},
   "source": [
    "Funciones de activación\n",
    "--"
   ]
  },
  {
   "cell_type": "code",
   "execution_count": 5,
   "id": "c770805d-74d8-4dc5-b0ed-047130b1b5f5",
   "metadata": {},
   "outputs": [],
   "source": [
    "#\n",
    "# Entrada de ejemplo\n",
    "#\n",
    "foo = tf.constant([-10, -5, 0.0, 5, 10], dtype=tf.float32)"
   ]
  },
  {
   "cell_type": "markdown",
   "id": "251eb45b-11c9-480a-933f-8943828adbf0",
   "metadata": {},
   "source": [
    "**Función `linear`**"
   ]
  },
  {
   "cell_type": "markdown",
   "id": "4180e9a0-28a0-42de-9c26-fae4a7b63ae9",
   "metadata": {},
   "source": [
    "```a(x) = x```"
   ]
  },
  {
   "cell_type": "code",
   "execution_count": 6,
   "id": "b62236ae-3bbb-45b7-a0e7-8b83d6c86833",
   "metadata": {},
   "outputs": [
    {
     "data": {
      "text/plain": [
       "array([-10.,  -5.,   0.,   5.,  10.], dtype=float32)"
      ]
     },
     "execution_count": 6,
     "metadata": {},
     "output_type": "execute_result"
    }
   ],
   "source": [
    "tf.keras.activations.linear(x=foo).numpy()"
   ]
  },
  {
   "cell_type": "markdown",
   "id": "f97d6137-99e3-462a-b7b3-b1edc1a25422",
   "metadata": {},
   "source": [
    "**Función `relu`**"
   ]
  },
  {
   "cell_type": "code",
   "execution_count": 7,
   "id": "630f8d23-7f0e-472d-8307-3090810892ea",
   "metadata": {},
   "outputs": [
    {
     "data": {
      "text/plain": [
       "array([ 0.,  0.,  0.,  5., 10.], dtype=float32)"
      ]
     },
     "execution_count": 7,
     "metadata": {},
     "output_type": "execute_result"
    }
   ],
   "source": [
    "tf.keras.activations.relu(\n",
    "    x=foo,\n",
    "    alpha=0.0,\n",
    "    max_value=None,\n",
    "    threshold=0.0,\n",
    ").numpy()"
   ]
  },
  {
   "cell_type": "code",
   "execution_count": 8,
   "id": "2ad33235-9288-4345-b77b-5148afea50e2",
   "metadata": {},
   "outputs": [
    {
     "data": {
      "text/plain": [
       "array([-5. , -2.5,  0. ,  5. , 10. ], dtype=float32)"
      ]
     },
     "execution_count": 8,
     "metadata": {},
     "output_type": "execute_result"
    }
   ],
   "source": [
    "tf.keras.activations.relu(\n",
    "    x=foo,\n",
    "    alpha=0.5,\n",
    "    max_value=None,\n",
    "    threshold=0.0,\n",
    ").numpy()"
   ]
  },
  {
   "cell_type": "code",
   "execution_count": 9,
   "id": "ce245258-ba7b-4742-8969-8e8299bbee89",
   "metadata": {},
   "outputs": [
    {
     "data": {
      "text/plain": [
       "array([0., 0., 0., 5., 5.], dtype=float32)"
      ]
     },
     "execution_count": 9,
     "metadata": {},
     "output_type": "execute_result"
    }
   ],
   "source": [
    "tf.keras.activations.relu(\n",
    "    x=foo,\n",
    "    alpha=0.0,\n",
    "    max_value=5.0,\n",
    "    threshold=0.0,\n",
    ").numpy()"
   ]
  },
  {
   "cell_type": "code",
   "execution_count": 10,
   "id": "92829099-ac17-4b50-a9b3-7d32c08e45d9",
   "metadata": {},
   "outputs": [
    {
     "data": {
      "text/plain": [
       "array([-0., -0.,  0.,  0., 10.], dtype=float32)"
      ]
     },
     "execution_count": 10,
     "metadata": {},
     "output_type": "execute_result"
    }
   ],
   "source": [
    "tf.keras.activations.relu(\n",
    "    x=foo,\n",
    "    alpha=0.0,\n",
    "    max_value=None,\n",
    "    threshold=5.0,\n",
    ").numpy()"
   ]
  },
  {
   "cell_type": "markdown",
   "id": "704fb133-4959-42e2-9002-34753733dc61",
   "metadata": {},
   "source": [
    "**Función `sigmoid`**"
   ]
  },
  {
   "cell_type": "markdown",
   "id": "afb8a325-2086-4240-93a3-bce9e31d1ebb",
   "metadata": {},
   "source": [
    "```sigmoid(x) = 1 / (1 + exp(-x))```"
   ]
  },
  {
   "cell_type": "code",
   "execution_count": 11,
   "id": "47fef9db-8534-4b72-bce9-8fd5dd3d3b99",
   "metadata": {},
   "outputs": [
    {
     "data": {
      "text/plain": [
       "array([2.0611537e-09, 2.6894143e-01, 5.0000000e-01, 7.3105860e-01,\n",
       "       1.0000000e+00], dtype=float32)"
      ]
     },
     "execution_count": 11,
     "metadata": {},
     "output_type": "execute_result"
    }
   ],
   "source": [
    "a = tf.constant([-20, -1.0, 0.0, 1.0, 20], dtype=tf.float32)\n",
    "tf.keras.activations.sigmoid(a).numpy()"
   ]
  },
  {
   "cell_type": "markdown",
   "id": "119f9daa-af6a-4bca-a440-cc326570ddd3",
   "metadata": {},
   "source": [
    "**Función `softmax`**"
   ]
  },
  {
   "cell_type": "code",
   "execution_count": 12,
   "id": "6dc1f14f-91a2-4b17-b364-64c7df669f4b",
   "metadata": {},
   "outputs": [
    {
     "data": {
      "text/plain": [
       "<tf.Tensor: shape=(), dtype=float32, numpy=1.0>"
      ]
     },
     "execution_count": 12,
     "metadata": {},
     "output_type": "execute_result"
    }
   ],
   "source": [
    "inputs = tf.random.normal(shape=(32, 10))\n",
    "outputs = tf.keras.activations.softmax(inputs)\n",
    "tf.reduce_sum(outputs[0, :])"
   ]
  },
  {
   "cell_type": "code",
   "execution_count": 13,
   "id": "5d7644ec-784b-4db7-b6cf-335ccf993a87",
   "metadata": {},
   "outputs": [],
   "source": [
    "layer = tf.keras.layers.Dense(32, activation=tf.keras.activations.softmax)"
   ]
  },
  {
   "cell_type": "markdown",
   "id": "f42c8ad3-33a6-4b07-8e7b-db23ff8555e6",
   "metadata": {},
   "source": [
    "**Función `softplus`**"
   ]
  },
  {
   "cell_type": "markdown",
   "id": "38e85574-811a-440b-a3fb-e8d7c038ac26",
   "metadata": {},
   "source": [
    "```softplus(x) = log(exp(x) + 1)```"
   ]
  },
  {
   "cell_type": "code",
   "execution_count": 14,
   "id": "a3a3b6bc-f6ab-4392-9b4c-05455309d82e",
   "metadata": {},
   "outputs": [
    {
     "data": {
      "text/plain": [
       "array([2.0611537e-09, 3.1326169e-01, 6.9314718e-01, 1.3132616e+00,\n",
       "       2.0000000e+01], dtype=float32)"
      ]
     },
     "execution_count": 14,
     "metadata": {},
     "output_type": "execute_result"
    }
   ],
   "source": [
    "a = tf.constant([-20, -1.0, 0.0, 1.0, 20], dtype=tf.float32)\n",
    "tf.keras.activations.softplus(a).numpy()"
   ]
  },
  {
   "cell_type": "markdown",
   "id": "4a870c91-cdb8-4e92-afa2-2363c736cc1b",
   "metadata": {},
   "source": [
    "**Función `softsign`**"
   ]
  },
  {
   "cell_type": "markdown",
   "id": "a62d79b3-9f1a-4d18-865e-b5517a3218a1",
   "metadata": {},
   "source": [
    "```softsign(x) = x / (abs(x) + 1)```"
   ]
  },
  {
   "cell_type": "code",
   "execution_count": 15,
   "id": "2e1be3d6-420d-4fe4-b1b3-f5a856e3b1c3",
   "metadata": {},
   "outputs": [
    {
     "data": {
      "text/plain": [
       "array([-0.5,  0. ,  0.5], dtype=float32)"
      ]
     },
     "execution_count": 15,
     "metadata": {},
     "output_type": "execute_result"
    }
   ],
   "source": [
    "a = tf.constant([-1.0, 0.0, 1.0], dtype=tf.float32)\n",
    "tf.keras.activations.softsign(a).numpy()"
   ]
  },
  {
   "cell_type": "markdown",
   "id": "bca9caaa-d1c6-41cb-80cb-85928c7041b8",
   "metadata": {},
   "source": [
    "**Función `tanh`**"
   ]
  },
  {
   "cell_type": "markdown",
   "id": "7f7bdb05-f3fe-493b-bc58-3f0074f6ed34",
   "metadata": {},
   "source": [
    "```tanh(x) = sinh(x)/cosh(x) = ((exp(x) - exp(-x))/(exp(x) + exp(-x)))```"
   ]
  },
  {
   "cell_type": "code",
   "execution_count": 16,
   "id": "d4bc2d53-b1a5-4f00-a24f-171529e7641b",
   "metadata": {},
   "outputs": [
    {
     "data": {
      "text/plain": [
       "array([-0.9950547, -0.7615942,  0.       ,  0.7615942,  0.9950547],\n",
       "      dtype=float32)"
      ]
     },
     "execution_count": 16,
     "metadata": {},
     "output_type": "execute_result"
    }
   ],
   "source": [
    "a = tf.constant([-3.0, -1.0, 0.0, 1.0, 3.0], dtype=tf.float32)\n",
    "tf.keras.activations.tanh(a).numpy()"
   ]
  },
  {
   "cell_type": "markdown",
   "id": "de14d940-8e8b-478d-89a0-4a3c8d721dbb",
   "metadata": {},
   "source": [
    "**Función `selu` (Scaled Exponential Linear Unit)**"
   ]
  },
  {
   "cell_type": "markdown",
   "id": "5486a247-148f-4bde-a4e4-cd54ae235bdd",
   "metadata": {},
   "source": [
    "* ```if x > 0: return scale * x```\n",
    "\n",
    "* ```if x < 0: return scale * alpha * (exp(x) - 1)```"
   ]
  },
  {
   "cell_type": "code",
   "execution_count": 17,
   "id": "1f2fe5dd-edf8-4f11-af4f-7f345f4ce663",
   "metadata": {},
   "outputs": [],
   "source": [
    "num_classes = 10\n",
    "model = tf.keras.Sequential()\n",
    "\n",
    "model.add(\n",
    "    tf.keras.layers.Dense(\n",
    "        64,\n",
    "        kernel_initializer=\"lecun_normal\",\n",
    "        activation=\"selu\",\n",
    "    )\n",
    ")\n",
    "\n",
    "model.add(\n",
    "    tf.keras.layers.Dense(\n",
    "        32,\n",
    "        kernel_initializer=\"lecun_normal\",\n",
    "        activation=\"selu\",\n",
    "    )\n",
    ")\n",
    "\n",
    "model.add(\n",
    "    tf.keras.layers.Dense(\n",
    "        16,\n",
    "        kernel_initializer=\"lecun_normal\",\n",
    "        activation=\"selu\",\n",
    "    )\n",
    ")\n",
    "\n",
    "model.add(\n",
    "    tf.keras.layers.Dense(\n",
    "        num_classes,\n",
    "        activation=\"softmax\",\n",
    "    ),\n",
    ")"
   ]
  },
  {
   "cell_type": "markdown",
   "id": "8c309b23-2c80-44ae-afc6-ecadf21c0bd8",
   "metadata": {},
   "source": [
    "**Función `elu` (Exponential Linear Unit)**"
   ]
  },
  {
   "cell_type": "markdown",
   "id": "413a20ae-f9c1-446f-958c-f0df36b048d7",
   "metadata": {},
   "source": [
    "* Para `alpha > 0`: `x if x > 0 else alpha * (exp(x) - 1)`\n",
    "\n",
    "* Para `alpha < 0`: controla la saturación para valores negativos"
   ]
  },
  {
   "cell_type": "code",
   "execution_count": 18,
   "id": "3a5789b2-1270-4d11-bf9c-23766c14be72",
   "metadata": {},
   "outputs": [],
   "source": [
    "model = tf.keras.Sequential()\n",
    "\n",
    "model.add(\n",
    "    tf.keras.layers.Conv2D(\n",
    "        32,\n",
    "        (3, 3),\n",
    "        activation=\"elu\",\n",
    "        input_shape=(28, 28, 1),\n",
    "    ),\n",
    ")\n",
    "model.add(\n",
    "    tf.keras.layers.MaxPooling2D(\n",
    "        (2, 2),\n",
    "    ),\n",
    ")\n",
    "model.add(\n",
    "    tf.keras.layers.Conv2D(\n",
    "        64,\n",
    "        (3, 3),\n",
    "        activation=\"elu\",\n",
    "    ),\n",
    ")\n",
    "model.add(\n",
    "    tf.keras.layers.MaxPooling2D(\n",
    "        (2, 2),\n",
    "    ),\n",
    ")\n",
    "model.add(\n",
    "    tf.keras.layers.Conv2D(\n",
    "        64,\n",
    "        (3, 3),\n",
    "        activation=\"elu\",\n",
    "    ),\n",
    ")"
   ]
  },
  {
   "cell_type": "markdown",
   "id": "2f98fda4-801a-43d6-b8f5-b527dd8e62f9",
   "metadata": {},
   "source": [
    "**Función `exp`**"
   ]
  },
  {
   "cell_type": "code",
   "execution_count": 19,
   "id": "6663ffc3-c036-465d-8981-0aaa33cc2ca8",
   "metadata": {},
   "outputs": [
    {
     "data": {
      "text/plain": [
       "array([ 0.04978707,  0.36787945,  1.        ,  2.7182817 , 20.085537  ],\n",
       "      dtype=float32)"
      ]
     },
     "execution_count": 19,
     "metadata": {},
     "output_type": "execute_result"
    }
   ],
   "source": [
    "a = tf.constant([-3.0, -1.0, 0.0, 1.0, 3.0], dtype=tf.float32)\n",
    "tf.keras.activations.exponential(a).numpy()"
   ]
  },
  {
   "cell_type": "markdown",
   "id": "cd7af9c0-a88f-49ed-b786-b10470ead8c7",
   "metadata": {},
   "source": [
    "Funciones personalizadas de activación\n",
    "---"
   ]
  },
  {
   "cell_type": "code",
   "execution_count": 20,
   "id": "884232c0-b000-467d-91f2-8388e059374f",
   "metadata": {},
   "outputs": [],
   "source": [
    "#\n",
    "# Es posile usar cualquier función de TensorFlow que recibe y retorna un tensor\n",
    "#\n",
    "model = tf.keras.Sequential()\n",
    "model.add(\n",
    "    tf.keras.layers.Dense(\n",
    "        64,\n",
    "        activation=tf.nn.tanh,\n",
    "    ),\n",
    ")"
   ]
  }
 ],
 "metadata": {
  "kernelspec": {
   "display_name": "Python 3 (ipykernel)",
   "language": "python",
   "name": "python3"
  },
  "language_info": {
   "codemirror_mode": {
    "name": "ipython",
    "version": 3
   },
   "file_extension": ".py",
   "mimetype": "text/x-python",
   "name": "python",
   "nbconvert_exporter": "python",
   "pygments_lexer": "ipython3",
   "version": "3.9.10"
  }
 },
 "nbformat": 4,
 "nbformat_minor": 5
}
