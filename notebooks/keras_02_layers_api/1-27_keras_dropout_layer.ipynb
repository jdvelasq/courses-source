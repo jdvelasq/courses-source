{
 "cells": [
  {
   "cell_type": "markdown",
   "id": "bf18aa9c-cc11-46b6-9de3-bb174a4f767d",
   "metadata": {
    "tags": []
   },
   "source": [
    "Capa Dropout --- 0:00 min\n",
    "===\n",
    "\n",
    "* Última modificación: Marzo 7, 2022 | YouTube\n",
    "\n",
    "* Adaptado de: https://keras.io/api/layers/regularization_layers/dropout/"
   ]
  },
  {
   "cell_type": "markdown",
   "id": "b467bdb3-f9ef-45e8-b243-65ef43687eba",
   "metadata": {},
   "source": [
    "Una capa Dropout fija aleatoriamente las unidades de entrada en cero con una frecuencia de `rate`en cada iteración del entrenamiento, lo cual ayuda a prevenir el sobre-ajuste. Las entradas que no son iguales a cero son escaladas por un factor de `1/(1-rate)` tal que la suma sobre todas las entradas no cambia."
   ]
  },
  {
   "cell_type": "markdown",
   "id": "554a010c-fc75-4f99-a12c-31dcf4940ff0",
   "metadata": {},
   "source": [
    "La capa Dropout solo es aplicada durante el entrenamiento y no durante el pronostico (o inferencia)."
   ]
  },
  {
   "cell_type": "markdown",
   "id": "9188c542-4f98-4010-9305-6cad5b576754",
   "metadata": {
    "tags": []
   },
   "source": [
    "Importación de librerías\n",
    "---"
   ]
  },
  {
   "cell_type": "code",
   "execution_count": 1,
   "id": "c0226b4c-1937-4d6c-87c4-6ee2758c93e0",
   "metadata": {},
   "outputs": [
    {
     "data": {
      "text/plain": [
       "'2.8.0'"
      ]
     },
     "execution_count": 1,
     "metadata": {},
     "output_type": "execute_result"
    }
   ],
   "source": [
    "import os\n",
    "\n",
    "os.environ[\"TF_CPP_MIN_LOG_LEVEL\"] = \"2\"\n",
    "\n",
    "import tensorflow as tf\n",
    "\n",
    "tf.__version__"
   ]
  },
  {
   "cell_type": "markdown",
   "id": "956822eb-3079-4bd1-9b21-806b7e05a177",
   "metadata": {},
   "source": [
    "Ejemplos de uso\n",
    "---"
   ]
  },
  {
   "cell_type": "code",
   "execution_count": 2,
   "id": "0b44e5a3-e9a3-4d66-b038-17c34b519c7e",
   "metadata": {},
   "outputs": [
    {
     "data": {
      "text/plain": [
       "array([[0., 1.],\n",
       "       [2., 3.],\n",
       "       [4., 5.],\n",
       "       [6., 7.],\n",
       "       [8., 9.]], dtype=float32)"
      ]
     },
     "execution_count": 2,
     "metadata": {},
     "output_type": "execute_result"
    }
   ],
   "source": [
    "import numpy as np\n",
    "\n",
    "tf.random.set_seed(0)\n",
    "layer = tf.keras.layers.Dropout(\n",
    "    rate=0.2,\n",
    "    input_shape=(2,),\n",
    ")\n",
    "data = np.arange(10).reshape(5, 2).astype(np.float32)\n",
    "data"
   ]
  },
  {
   "cell_type": "code",
   "execution_count": 3,
   "id": "243240f6-f6d2-4064-9bb9-655c0fe87796",
   "metadata": {},
   "outputs": [
    {
     "data": {
      "text/plain": [
       "<tf.Tensor: shape=(5, 2), dtype=float32, numpy=\n",
       "array([[ 0.  ,  1.25],\n",
       "       [ 2.5 ,  3.75],\n",
       "       [ 5.  ,  6.25],\n",
       "       [ 7.5 ,  8.75],\n",
       "       [10.  ,  0.  ]], dtype=float32)>"
      ]
     },
     "execution_count": 3,
     "metadata": {},
     "output_type": "execute_result"
    }
   ],
   "source": [
    "layer(\n",
    "    data,\n",
    "    training=True,\n",
    ")"
   ]
  }
 ],
 "metadata": {
  "kernelspec": {
   "display_name": "Python 3 (ipykernel)",
   "language": "python",
   "name": "python3"
  },
  "language_info": {
   "codemirror_mode": {
    "name": "ipython",
    "version": 3
   },
   "file_extension": ".py",
   "mimetype": "text/x-python",
   "name": "python",
   "nbconvert_exporter": "python",
   "pygments_lexer": "ipython3",
   "version": "3.9.10"
  }
 },
 "nbformat": 4,
 "nbformat_minor": 5
}
