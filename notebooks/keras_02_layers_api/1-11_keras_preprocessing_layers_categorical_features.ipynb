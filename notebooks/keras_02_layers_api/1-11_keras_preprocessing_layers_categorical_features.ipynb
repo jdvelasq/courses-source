{
 "cells": [
  {
   "cell_type": "markdown",
   "id": "1f27d3d5-c1f8-407b-a3e6-b5080f122301",
   "metadata": {
    "tags": []
   },
   "source": [
    "Capas de preprocesamiento de características categóricas --- 0:00 min\n",
    "===\n",
    "\n",
    "* Última modificación: Marzo 7, 2022 | YouTube\n",
    "\n",
    "* Adaptado de: https://keras.io/api/layers/preprocessing_layers/numerical"
   ]
  },
  {
   "cell_type": "markdown",
   "id": "d6c2cfb0-7b2e-445a-84e4-dac9a78aa4c6",
   "metadata": {
    "tags": []
   },
   "source": [
    "Importación de librerías\n",
    "---"
   ]
  },
  {
   "cell_type": "code",
   "execution_count": 1,
   "id": "90622c13-1af3-45b9-b4a9-7e2ae27259ad",
   "metadata": {},
   "outputs": [
    {
     "data": {
      "text/plain": [
       "'2.8.0'"
      ]
     },
     "execution_count": 1,
     "metadata": {},
     "output_type": "execute_result"
    }
   ],
   "source": [
    "import os\n",
    "\n",
    "os.environ[\"TF_CPP_MIN_LOG_LEVEL\"] = \"2\"\n",
    "\n",
    "import tensorflow as tf\n",
    "\n",
    "tf.__version__"
   ]
  },
  {
   "cell_type": "markdown",
   "id": "1ad0bb6c-8e49-42d6-8373-fdc1d8a73203",
   "metadata": {},
   "source": [
    "Capa CategoryEncoding\n",
    "---"
   ]
  },
  {
   "cell_type": "code",
   "execution_count": 2,
   "id": "bfb5018e-16b8-430f-ab2c-d1e62a43eb58",
   "metadata": {},
   "outputs": [
    {
     "data": {
      "text/plain": [
       "<tf.Tensor: shape=(4, 4), dtype=float32, numpy=\n",
       "array([[0., 0., 0., 1.],\n",
       "       [0., 0., 1., 0.],\n",
       "       [1., 0., 0., 0.],\n",
       "       [0., 1., 0., 0.]], dtype=float32)>"
      ]
     },
     "execution_count": 2,
     "metadata": {},
     "output_type": "execute_result"
    }
   ],
   "source": [
    "#\n",
    "# One-hot encoding\n",
    "#\n",
    "layer = tf.keras.layers.CategoryEncoding(\n",
    "    num_tokens=4,\n",
    "    output_mode=\"one_hot\",\n",
    ")\n",
    "layer([3, 2, 0, 1])"
   ]
  },
  {
   "cell_type": "code",
   "execution_count": 3,
   "id": "6751fd9c-0639-4363-8143-454e66307a80",
   "metadata": {},
   "outputs": [
    {
     "data": {
      "text/plain": [
       "<tf.Tensor: shape=(4, 4), dtype=float32, numpy=\n",
       "array([[1., 1., 0., 0.],\n",
       "       [1., 0., 0., 0.],\n",
       "       [0., 1., 1., 0.],\n",
       "       [0., 1., 0., 1.]], dtype=float32)>"
      ]
     },
     "execution_count": 3,
     "metadata": {},
     "output_type": "execute_result"
    }
   ],
   "source": [
    "#\n",
    "# Multi-hot encoding\n",
    "#\n",
    "layer = tf.keras.layers.CategoryEncoding(\n",
    "    num_tokens=4,\n",
    "    output_mode=\"multi_hot\",\n",
    ")\n",
    "layer([[0, 1], [0, 0], [1, 2], [3, 1]])"
   ]
  },
  {
   "cell_type": "code",
   "execution_count": 4,
   "id": "6c7fcee2-6e53-475e-a92c-1b0ccd0d2429",
   "metadata": {},
   "outputs": [
    {
     "data": {
      "text/plain": [
       "<tf.Tensor: shape=(4, 4), dtype=float32, numpy=\n",
       "array([[0.1, 0.2, 0. , 0. ],\n",
       "       [0.2, 0. , 0. , 0. ],\n",
       "       [0. , 0.2, 0.3, 0. ],\n",
       "       [0. , 0.2, 0. , 0.4]], dtype=float32)>"
      ]
     },
     "execution_count": 4,
     "metadata": {},
     "output_type": "execute_result"
    }
   ],
   "source": [
    "import numpy as np\n",
    "\n",
    "#\n",
    "# `count` mode\n",
    "#\n",
    "layer = tf.keras.layers.CategoryEncoding(\n",
    "    num_tokens=4,\n",
    "    output_mode=\"count\",\n",
    ")\n",
    "count_weights = np.array(\n",
    "    [\n",
    "        [0.1, 0.2],\n",
    "        [0.1, 0.1],\n",
    "        [0.2, 0.3],\n",
    "        [0.4, 0.2],\n",
    "    ]\n",
    ")\n",
    "layer(\n",
    "    [\n",
    "        [0, 1],\n",
    "        [0, 0],\n",
    "        [1, 2],\n",
    "        [3, 1],\n",
    "    ],\n",
    "    count_weights=count_weights,\n",
    ")"
   ]
  },
  {
   "cell_type": "markdown",
   "id": "c6fdb074-0025-4c6e-9b34-3e90b8ed5545",
   "metadata": {},
   "source": [
    "Capa Hashing\n",
    "---"
   ]
  },
  {
   "cell_type": "code",
   "execution_count": 5,
   "id": "f578e952-a02e-49fa-8a50-ed235e2bc520",
   "metadata": {},
   "outputs": [
    {
     "data": {
      "text/plain": [
       "<tf.Tensor: shape=(5, 1), dtype=int64, numpy=\n",
       "array([[1],\n",
       "       [0],\n",
       "       [1],\n",
       "       [1],\n",
       "       [2]])>"
      ]
     },
     "execution_count": 5,
     "metadata": {},
     "output_type": "execute_result"
    }
   ],
   "source": [
    "#\n",
    "# FarmHash64\n",
    "#\n",
    "layer = tf.keras.layers.Hashing(\n",
    "    num_bins=3,\n",
    ")\n",
    "inp = [\n",
    "    [\"A\"],\n",
    "    [\"B\"],\n",
    "    [\"C\"],\n",
    "    [\"D\"],\n",
    "    [\"E\"],\n",
    "]\n",
    "layer(inp)"
   ]
  },
  {
   "cell_type": "code",
   "execution_count": 6,
   "id": "b4f93037-6a34-437b-ba86-66eecbd018e0",
   "metadata": {},
   "outputs": [
    {
     "data": {
      "text/plain": [
       "<tf.Tensor: shape=(5, 1), dtype=int64, numpy=\n",
       "array([[1],\n",
       "       [1],\n",
       "       [0],\n",
       "       [2],\n",
       "       [2]])>"
      ]
     },
     "execution_count": 6,
     "metadata": {},
     "output_type": "execute_result"
    }
   ],
   "source": [
    "#\n",
    "# FarmHas64 con mask\n",
    "#\n",
    "layer = tf.keras.layers.Hashing(\n",
    "    num_bins=3,\n",
    "    mask_value=\"\",\n",
    ")\n",
    "inp = [\n",
    "    [\"A\"],\n",
    "    [\"B\"],\n",
    "    [\"\"],\n",
    "    [\"C\"],\n",
    "    [\"D\"],\n",
    "]\n",
    "layer(inp)"
   ]
  },
  {
   "cell_type": "code",
   "execution_count": 7,
   "id": "458bd1de-ffc9-42ab-965b-06e182c6a585",
   "metadata": {},
   "outputs": [
    {
     "data": {
      "text/plain": [
       "<tf.Tensor: shape=(5, 1), dtype=int64, numpy=\n",
       "array([[1],\n",
       "       [2],\n",
       "       [1],\n",
       "       [0],\n",
       "       [2]])>"
      ]
     },
     "execution_count": 7,
     "metadata": {},
     "output_type": "execute_result"
    }
   ],
   "source": [
    "#\n",
    "# SipHash64\n",
    "#\n",
    "layer = tf.keras.layers.Hashing(\n",
    "    num_bins=3,\n",
    "    salt=[133, 137],\n",
    ")\n",
    "inp = [\n",
    "    [\"A\"],\n",
    "    [\"B\"],\n",
    "    [\"C\"],\n",
    "    [\"D\"],\n",
    "    [\"E\"],\n",
    "]\n",
    "layer(inp)"
   ]
  },
  {
   "cell_type": "code",
   "execution_count": 8,
   "id": "911f38e0-973d-4676-a1f6-2c5a26a8a6b3",
   "metadata": {},
   "outputs": [
    {
     "data": {
      "text/plain": [
       "<tf.Tensor: shape=(5, 1), dtype=int64, numpy=\n",
       "array([[0],\n",
       "       [0],\n",
       "       [2],\n",
       "       [1],\n",
       "       [0]])>"
      ]
     },
     "execution_count": 8,
     "metadata": {},
     "output_type": "execute_result"
    }
   ],
   "source": [
    "#\n",
    "# Siphash64 con un entero, o salt=[133, 133]\n",
    "#\n",
    "layer = tf.keras.layers.Hashing(\n",
    "    num_bins=3,\n",
    "    salt=133,\n",
    ")\n",
    "inp = [\n",
    "    [\"A\"],\n",
    "    [\"B\"],\n",
    "    [\"C\"],\n",
    "    [\"D\"],\n",
    "    [\"E\"],\n",
    "]\n",
    "layer(inp)"
   ]
  },
  {
   "cell_type": "markdown",
   "id": "d40ec9dc-e9c9-40cc-b461-e745139db6b8",
   "metadata": {},
   "source": [
    "Capa StringLookup\n",
    "--"
   ]
  },
  {
   "cell_type": "code",
   "execution_count": 9,
   "id": "b03cd836-6d49-4499-ae27-653e956c9566",
   "metadata": {},
   "outputs": [
    {
     "data": {
      "text/plain": [
       "<tf.Tensor: shape=(2, 3), dtype=int64, numpy=\n",
       "array([[1, 3, 4],\n",
       "       [4, 0, 2]])>"
      ]
     },
     "execution_count": 9,
     "metadata": {},
     "output_type": "execute_result"
    }
   ],
   "source": [
    "#\n",
    "# Creación de una capa con vocabulario pre-existente\n",
    "#\n",
    "vocab = [\"a\", \"b\", \"c\", \"d\"]\n",
    "data = tf.constant(\n",
    "    [\n",
    "        [\"a\", \"c\", \"d\"],\n",
    "        [\"d\", \"z\", \"b\"],\n",
    "    ]\n",
    ")\n",
    "layer = tf.keras.layers.StringLookup(\n",
    "    vocabulary=vocab,\n",
    ")\n",
    "layer(data)"
   ]
  },
  {
   "cell_type": "code",
   "execution_count": 10,
   "id": "7c7fa307-c422-49dc-8256-4470d7e72a28",
   "metadata": {},
   "outputs": [
    {
     "data": {
      "text/plain": [
       "['[UNK]', 'd', 'z', 'c', 'b', 'a']"
      ]
     },
     "execution_count": 10,
     "metadata": {},
     "output_type": "execute_result"
    }
   ],
   "source": [
    "#\n",
    "# Creación de una capa con vocabulario adaptado\n",
    "#\n",
    "data = tf.constant(\n",
    "    [\n",
    "        [\"a\", \"c\", \"d\"],\n",
    "        [\"d\", \"z\", \"b\"],\n",
    "    ]\n",
    ")\n",
    "layer = tf.keras.layers.StringLookup()\n",
    "layer.adapt(data)\n",
    "layer.get_vocabulary()"
   ]
  },
  {
   "cell_type": "code",
   "execution_count": 11,
   "id": "6a574576-0e4f-4e8d-9ad1-dc540a9fb2df",
   "metadata": {},
   "outputs": [
    {
     "data": {
      "text/plain": [
       "<tf.Tensor: shape=(2, 3), dtype=int64, numpy=\n",
       "array([[5, 3, 1],\n",
       "       [1, 2, 4]])>"
      ]
     },
     "execution_count": 11,
     "metadata": {},
     "output_type": "execute_result"
    }
   ],
   "source": [
    "data = tf.constant(\n",
    "    [\n",
    "        [\"a\", \"c\", \"d\"],\n",
    "        [\"d\", \"z\", \"b\"],\n",
    "    ]\n",
    ")\n",
    "layer = tf.keras.layers.StringLookup()\n",
    "layer.adapt(data)\n",
    "layer(data)"
   ]
  },
  {
   "cell_type": "code",
   "execution_count": 12,
   "id": "5cb262de-616c-4ae6-88d0-4afc703b72d5",
   "metadata": {},
   "outputs": [
    {
     "data": {
      "text/plain": [
       "<tf.Tensor: shape=(2, 3), dtype=int64, numpy=\n",
       "array([[2, 4, 5],\n",
       "       [0, 1, 3]])>"
      ]
     },
     "execution_count": 12,
     "metadata": {},
     "output_type": "execute_result"
    }
   ],
   "source": [
    "#\n",
    "# Multiples OOV indices\n",
    "#\n",
    "vocab = [\"a\", \"b\", \"c\", \"d\"]\n",
    "data = tf.constant(\n",
    "    [\n",
    "        [\"a\", \"c\", \"d\"],\n",
    "        [\"m\", \"z\", \"b\"],\n",
    "    ]\n",
    ")\n",
    "layer = tf.keras.layers.StringLookup(\n",
    "    vocabulary=vocab,\n",
    "    num_oov_indices=2,\n",
    ")\n",
    "layer(data)"
   ]
  },
  {
   "cell_type": "code",
   "execution_count": 13,
   "id": "9999b076-e55d-4b56-8078-504f7ce57455",
   "metadata": {},
   "outputs": [
    {
     "data": {
      "text/plain": [
       "<tf.Tensor: shape=(5, 5), dtype=float32, numpy=\n",
       "array([[0., 1., 0., 0., 0.],\n",
       "       [0., 0., 1., 0., 0.],\n",
       "       [0., 0., 0., 1., 0.],\n",
       "       [0., 0., 0., 0., 1.],\n",
       "       [1., 0., 0., 0., 0.]], dtype=float32)>"
      ]
     },
     "execution_count": 13,
     "metadata": {},
     "output_type": "execute_result"
    }
   ],
   "source": [
    "#\n",
    "# One-hot output\n",
    "#\n",
    "vocab = [\"a\", \"b\", \"c\", \"d\"]\n",
    "data = tf.constant([\"a\", \"b\", \"c\", \"d\", \"z\"])\n",
    "layer = tf.keras.layers.StringLookup(\n",
    "    vocabulary=vocab,\n",
    "    output_mode=\"one_hot\",\n",
    ")\n",
    "layer(data)"
   ]
  },
  {
   "cell_type": "code",
   "execution_count": 14,
   "id": "70464c01-3ecf-48b7-b9d0-6f0cecf81e9c",
   "metadata": {},
   "outputs": [
    {
     "data": {
      "text/plain": [
       "<tf.Tensor: shape=(2, 5), dtype=float32, numpy=\n",
       "array([[0., 1., 0., 1., 1.],\n",
       "       [1., 0., 1., 0., 1.]], dtype=float32)>"
      ]
     },
     "execution_count": 14,
     "metadata": {},
     "output_type": "execute_result"
    }
   ],
   "source": [
    "#\n",
    "# Multi-hot output\n",
    "#\n",
    "vocab = [\"a\", \"b\", \"c\", \"d\"]\n",
    "data = tf.constant(\n",
    "    [\n",
    "        [\"a\", \"c\", \"d\", \"d\"],\n",
    "        [\"d\", \"z\", \"b\", \"z\"],\n",
    "    ]\n",
    ")\n",
    "layer = tf.keras.layers.StringLookup(\n",
    "    vocabulary=vocab,\n",
    "    output_mode=\"multi_hot\",\n",
    ")\n",
    "layer(data)"
   ]
  },
  {
   "cell_type": "code",
   "execution_count": 15,
   "id": "39615dbc-aa43-4f5a-b3d7-9a1ffed00a1e",
   "metadata": {},
   "outputs": [
    {
     "data": {
      "text/plain": [
       "<tf.Tensor: shape=(2, 5), dtype=float32, numpy=\n",
       "array([[0., 1., 0., 1., 2.],\n",
       "       [2., 0., 1., 0., 1.]], dtype=float32)>"
      ]
     },
     "execution_count": 15,
     "metadata": {},
     "output_type": "execute_result"
    }
   ],
   "source": [
    "#\n",
    "# Token count output\n",
    "#\n",
    "vocab = [\"a\", \"b\", \"c\", \"d\"]\n",
    "data = tf.constant(\n",
    "    [\n",
    "        [\"a\", \"c\", \"d\", \"d\"],\n",
    "        [\"d\", \"z\", \"b\", \"z\"],\n",
    "    ]\n",
    ")\n",
    "layer = tf.keras.layers.StringLookup(\n",
    "    vocabulary=vocab,\n",
    "    output_mode=\"count\",\n",
    ")\n",
    "layer(data)"
   ]
  },
  {
   "cell_type": "code",
   "execution_count": 16,
   "id": "f022ecba-aa20-4129-bcbf-04db3d516f32",
   "metadata": {},
   "outputs": [
    {
     "data": {
      "text/plain": [
       "<tf.Tensor: shape=(2, 5), dtype=float32, numpy=\n",
       "array([[0.  , 0.25, 0.  , 0.6 , 0.8 ],\n",
       "       [1.  , 0.  , 0.75, 0.  , 0.4 ]], dtype=float32)>"
      ]
     },
     "execution_count": 16,
     "metadata": {},
     "output_type": "execute_result"
    }
   ],
   "source": [
    "#\n",
    "# TF-IDF output\n",
    "#\n",
    "vocab = [\"a\", \"b\", \"c\", \"d\"]\n",
    "idf_weights = [0.25, 0.75, 0.6, 0.4]\n",
    "data = tf.constant(\n",
    "    [\n",
    "        [\"a\", \"c\", \"d\", \"d\"],\n",
    "        [\"d\", \"z\", \"b\", \"z\"],\n",
    "    ]\n",
    ")\n",
    "layer = tf.keras.layers.StringLookup(\n",
    "    output_mode=\"tf_idf\",\n",
    ")\n",
    "layer.set_vocabulary(vocab, idf_weights=idf_weights)\n",
    "layer(data)"
   ]
  },
  {
   "cell_type": "code",
   "execution_count": 17,
   "id": "7fd34439-4600-4b02-8d5c-19fb94609edb",
   "metadata": {},
   "outputs": [
    {
     "data": {
      "text/plain": [
       "<tf.Tensor: shape=(2, 3), dtype=string, numpy=\n",
       "array([[b'a', b'c', b'd'],\n",
       "       [b'd', b'[UNK]', b'b']], dtype=object)>"
      ]
     },
     "execution_count": 17,
     "metadata": {},
     "output_type": "execute_result"
    }
   ],
   "source": [
    "#\n",
    "# Búsqueda inversa\n",
    "#\n",
    "vocab = [\"a\", \"b\", \"c\", \"d\"]\n",
    "data = tf.constant(\n",
    "    [\n",
    "        [1, 3, 4],\n",
    "        [4, 0, 2],\n",
    "    ]\n",
    ")\n",
    "layer = tf.keras.layers.StringLookup(\n",
    "    vocabulary=vocab,\n",
    "    invert=True,\n",
    ")\n",
    "layer(data)"
   ]
  }
 ],
 "metadata": {
  "kernelspec": {
   "display_name": "Python 3 (ipykernel)",
   "language": "python",
   "name": "python3"
  },
  "language_info": {
   "codemirror_mode": {
    "name": "ipython",
    "version": 3
   },
   "file_extension": ".py",
   "mimetype": "text/x-python",
   "name": "python",
   "nbconvert_exporter": "python",
   "pygments_lexer": "ipython3",
   "version": "3.9.10"
  }
 },
 "nbformat": 4,
 "nbformat_minor": 5
}
