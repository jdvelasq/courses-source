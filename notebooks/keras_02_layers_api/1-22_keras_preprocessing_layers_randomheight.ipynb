{
 "cells": [
  {
   "cell_type": "markdown",
   "id": "41ef40ea-6398-4b24-bf9f-ea9ed0f6cdce",
   "metadata": {
    "tags": []
   },
   "source": [
    "Capa RandomHeight --- 0:00 min\n",
    "===\n",
    "\n",
    "* Última modificación: Marzo 7, 2022 | YouTube\n",
    "\n",
    "* Adaptado de: https://keras.io/api/layers/preprocessing_layers/image_augmentation/random_height/"
   ]
  },
  {
   "cell_type": "markdown",
   "id": "a90ad10a-bbb0-4ea9-9f21-a05b40d0ee77",
   "metadata": {},
   "source": [
    "Varía aleatoriamente la altura de la imagen durante el entrenamiento."
   ]
  },
  {
   "cell_type": "markdown",
   "id": "a67ca827-53c6-4bb5-b80d-7c408522cc4f",
   "metadata": {
    "tags": []
   },
   "source": [
    "Importación de librerías\n",
    "---"
   ]
  },
  {
   "cell_type": "code",
   "execution_count": 1,
   "id": "c4a81467-adc9-440a-afac-46135d1c24a5",
   "metadata": {},
   "outputs": [
    {
     "data": {
      "text/plain": [
       "'2.8.0'"
      ]
     },
     "execution_count": 1,
     "metadata": {},
     "output_type": "execute_result"
    }
   ],
   "source": [
    "import os\n",
    "\n",
    "os.environ[\"TF_CPP_MIN_LOG_LEVEL\"] = \"2\"\n",
    "\n",
    "import tensorflow as tf\n",
    "\n",
    "tf.__version__"
   ]
  },
  {
   "cell_type": "markdown",
   "id": "f93fabe5-d407-4564-9cc1-da8db3ea19cb",
   "metadata": {},
   "source": [
    "Ejemplos de uso\n",
    "---"
   ]
  },
  {
   "cell_type": "code",
   "execution_count": null,
   "id": "3f7494a9-f250-4c35-8b90-154328a5f3f7",
   "metadata": {},
   "outputs": [],
   "source": []
  }
 ],
 "metadata": {
  "kernelspec": {
   "display_name": "Python 3 (ipykernel)",
   "language": "python",
   "name": "python3"
  },
  "language_info": {
   "codemirror_mode": {
    "name": "ipython",
    "version": 3
   },
   "file_extension": ".py",
   "mimetype": "text/x-python",
   "name": "python",
   "nbconvert_exporter": "python",
   "pygments_lexer": "ipython3",
   "version": "3.9.10"
  }
 },
 "nbformat": 4,
 "nbformat_minor": 5
}
