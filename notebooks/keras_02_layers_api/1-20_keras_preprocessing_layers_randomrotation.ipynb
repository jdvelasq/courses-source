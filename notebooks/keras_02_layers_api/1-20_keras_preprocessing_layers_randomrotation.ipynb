{
 "cells": [
  {
   "cell_type": "markdown",
   "id": "5896e447-dbc1-463e-a0f6-ea1585fb371f",
   "metadata": {
    "tags": []
   },
   "source": [
    "Capa RandomRotation --- 0:00 min\n",
    "===\n",
    "\n",
    "* Última modificación: Marzo 7, 2022 | YouTube\n",
    "\n",
    "* Adaptado de: https://keras.io/api/layers/preprocessing_layers/image_augmentation/random_rotation/"
   ]
  },
  {
   "cell_type": "markdown",
   "id": "9962d937-321d-4f73-bee1-7e3cc9f24afb",
   "metadata": {
    "tags": []
   },
   "source": [
    "Importación de librerías\n",
    "---"
   ]
  },
  {
   "cell_type": "code",
   "execution_count": 1,
   "id": "6c6fcea3-2bcb-416e-a9ac-febea2b9bcc9",
   "metadata": {},
   "outputs": [
    {
     "data": {
      "text/plain": [
       "'2.8.0'"
      ]
     },
     "execution_count": 1,
     "metadata": {},
     "output_type": "execute_result"
    }
   ],
   "source": [
    "import os\n",
    "\n",
    "os.environ[\"TF_CPP_MIN_LOG_LEVEL\"] = \"2\"\n",
    "\n",
    "import tensorflow as tf\n",
    "\n",
    "tf.__version__"
   ]
  },
  {
   "cell_type": "markdown",
   "id": "3f44b890-fdb6-48f0-9afb-afe3d15e7fae",
   "metadata": {},
   "source": [
    "Ejemplos de uso\n",
    "---"
   ]
  },
  {
   "cell_type": "markdown",
   "id": "f77f1e69-f250-4649-8413-06adfec30710",
   "metadata": {},
   "source": [
    "Esta capa rota aleatoriamente las imágenes durante el entrenamiento."
   ]
  },
  {
   "cell_type": "code",
   "execution_count": null,
   "id": "8437e951-8872-4801-9b74-318bae3a99b2",
   "metadata": {},
   "outputs": [],
   "source": []
  }
 ],
 "metadata": {
  "kernelspec": {
   "display_name": "Python 3 (ipykernel)",
   "language": "python",
   "name": "python3"
  },
  "language_info": {
   "codemirror_mode": {
    "name": "ipython",
    "version": 3
   },
   "file_extension": ".py",
   "mimetype": "text/x-python",
   "name": "python",
   "nbconvert_exporter": "python",
   "pygments_lexer": "ipython3",
   "version": "3.9.10"
  }
 },
 "nbformat": 4,
 "nbformat_minor": 5
}
