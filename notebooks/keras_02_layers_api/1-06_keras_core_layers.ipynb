{
 "cells": [
  {
   "cell_type": "markdown",
   "id": "5c4c5255-d506-4a7f-848c-f9270950e9ba",
   "metadata": {
    "tags": []
   },
   "source": [
    "Tipos principales de capas --- 0:00 min\n",
    "===\n",
    "\n",
    "* Última modificación: Marzo 7, 2022 | YouTube\n",
    "\n",
    "* Adaptado de: https://keras.io/api/layers/constraints/"
   ]
  },
  {
   "cell_type": "markdown",
   "id": "1ed0ab7d-704b-4dfe-abd3-b3a88a1199b7",
   "metadata": {
    "tags": []
   },
   "source": [
    "Importación de librerías\n",
    "---"
   ]
  },
  {
   "cell_type": "code",
   "execution_count": 1,
   "id": "4f955e42-327e-434a-9b5d-341c4e2cdc0e",
   "metadata": {},
   "outputs": [
    {
     "data": {
      "text/plain": [
       "'2.8.0'"
      ]
     },
     "execution_count": 1,
     "metadata": {},
     "output_type": "execute_result"
    }
   ],
   "source": [
    "import os\n",
    "\n",
    "os.environ[\"TF_CPP_MIN_LOG_LEVEL\"] = \"2\"\n",
    "\n",
    "import tensorflow as tf\n",
    "\n",
    "tf.__version__"
   ]
  },
  {
   "cell_type": "markdown",
   "id": "63607827-f9c2-4350-928a-55bc42268cf1",
   "metadata": {},
   "source": [
    "Capa Input\n",
    "--"
   ]
  },
  {
   "cell_type": "code",
   "execution_count": 2,
   "id": "f503310f-0083-4314-898f-d95b8131ed88",
   "metadata": {},
   "outputs": [],
   "source": [
    "#\n",
    "# Regresión logística multiple\n",
    "#\n",
    "x = tf.keras.layers.Input(shape=(32,))\n",
    "y = tf.keras.layers.Dense(16, activation=\"softmax\")(x)\n",
    "model = tf.keras.Model(x, y)"
   ]
  },
  {
   "cell_type": "code",
   "execution_count": 3,
   "id": "f9a5a99b-c89c-4e7c-8e61-9d84299f5f52",
   "metadata": {},
   "outputs": [],
   "source": [
    "#\n",
    "# Creación de un tensor simbólico para ser usado posteriormente.\n",
    "#\n",
    "x = tf.keras.layers.Input(shape=(32,))\n",
    "y = tf.square(x)\n",
    "model = tf.keras.Model(x, y)"
   ]
  },
  {
   "cell_type": "markdown",
   "id": "c485163b-3367-43d1-a9fd-d62d8d134c24",
   "metadata": {
    "tags": []
   },
   "source": [
    "Capa Dense\n",
    "--"
   ]
  },
  {
   "cell_type": "markdown",
   "id": "0a59fc0c-3021-4904-9902-9c6f96fd1cde",
   "metadata": {},
   "source": [
    "```output = activation(dot(input, kernel) + bias)```"
   ]
  },
  {
   "cell_type": "code",
   "execution_count": 4,
   "id": "200b804c-7e43-4b6c-864a-563987e6b982",
   "metadata": {},
   "outputs": [
    {
     "data": {
      "text/plain": [
       "(None, 32)"
      ]
     },
     "execution_count": 4,
     "metadata": {},
     "output_type": "execute_result"
    }
   ],
   "source": [
    "model = tf.keras.models.Sequential()\n",
    "model.add(\n",
    "    tf.keras.Input(shape=(16,)),\n",
    ")\n",
    "model.add(\n",
    "    tf.keras.layers.Dense(32, activation=\"relu\"),\n",
    ")\n",
    "model.add(\n",
    "    #\n",
    "    # Por defecto la activación es `linear`\n",
    "    #\n",
    "    tf.keras.layers.Dense(32),\n",
    ")\n",
    "model.output_shape"
   ]
  },
  {
   "cell_type": "markdown",
   "id": "01ac486e-524f-45ae-8a8a-a69a9f9b260f",
   "metadata": {},
   "source": [
    "Capa Activation\n",
    "---"
   ]
  },
  {
   "cell_type": "code",
   "execution_count": 5,
   "id": "0579b948-ef15-4a0e-8975-2dc1a1f0b223",
   "metadata": {},
   "outputs": [
    {
     "data": {
      "text/plain": [
       "[0.0, 0.0, 0.0, 2.0]"
      ]
     },
     "execution_count": 5,
     "metadata": {},
     "output_type": "execute_result"
    }
   ],
   "source": [
    "#\n",
    "# Aplica la función de activación a la entrada\n",
    "#\n",
    "layer = tf.keras.layers.Activation(\"relu\")\n",
    "output = layer([-3.0, -1.0, 0.0, 2.0])\n",
    "list(output.numpy())"
   ]
  },
  {
   "cell_type": "code",
   "execution_count": 6,
   "id": "3ae09dd5-7b29-435f-91a4-41823facb677",
   "metadata": {},
   "outputs": [
    {
     "data": {
      "text/plain": [
       "[0.0, 0.0, 0.0, 2.0]"
      ]
     },
     "execution_count": 6,
     "metadata": {},
     "output_type": "execute_result"
    }
   ],
   "source": [
    "layer = tf.keras.layers.Activation(tf.nn.relu)\n",
    "output = layer([-3.0, -1.0, 0.0, 2.0])\n",
    "list(output.numpy())"
   ]
  },
  {
   "cell_type": "markdown",
   "id": "c29db4a7-395a-4a83-ba2b-2e299a1d3635",
   "metadata": {},
   "source": [
    "Capa Embedding\n",
    "---"
   ]
  },
  {
   "cell_type": "markdown",
   "id": "740d0464-3a31-4ad4-99f0-a021afa8cd01",
   "metadata": {},
   "source": [
    "Convierte enteros positivos en vectors densos de tamaño fijo.\n",
    "\n",
    "```[[4], [20]] -> [[0.25, 0.1], [0.6, -0.2]]```"
   ]
  },
  {
   "cell_type": "code",
   "execution_count": 8,
   "id": "71c4eaf8-b0f5-40e3-afb6-8b815563a786",
   "metadata": {},
   "outputs": [
    {
     "data": {
      "text/plain": [
       "(32, 10, 64)"
      ]
     },
     "execution_count": 8,
     "metadata": {},
     "output_type": "execute_result"
    }
   ],
   "source": [
    "import numpy as np\n",
    "\n",
    "model = tf.keras.Sequential()\n",
    "model.add(\n",
    "    tf.keras.layers.Embedding(\n",
    "        input_dim=1000,\n",
    "        output_dim=64,\n",
    "        embeddings_initializer=\"uniform\",\n",
    "        embeddings_regularizer=None,\n",
    "        embeddings_constraint=None,\n",
    "        input_length=10,\n",
    "    ),\n",
    ")\n",
    "input_array = np.random.randint(\n",
    "    1000,\n",
    "    size=(32, 10),\n",
    ")\n",
    "model.compile(\n",
    "    \"rmsprop\",\n",
    "    \"mse\",\n",
    ")\n",
    "output_array = model.predict(input_array)\n",
    "output_array.shape"
   ]
  },
  {
   "cell_type": "markdown",
   "id": "651a9d60-ab56-4bfe-a730-555cf266f454",
   "metadata": {},
   "source": [
    "Capa Lambda\n",
    "--"
   ]
  },
  {
   "cell_type": "code",
   "execution_count": 11,
   "id": "bd72370c-8db1-44ba-8abc-d07204b42cbb",
   "metadata": {},
   "outputs": [
    {
     "ename": "TypeError",
     "evalue": "add() got an unexpected keyword argument 'output_shape'",
     "output_type": "error",
     "traceback": [
      "\u001b[0;31m---------------------------------------------------------------------------\u001b[0m",
      "\u001b[0;31mTypeError\u001b[0m                                 Traceback (most recent call last)",
      "Input \u001b[0;32mIn [11]\u001b[0m, in \u001b[0;36m<cell line: 6>\u001b[0;34m()\u001b[0m\n\u001b[1;32m      1\u001b[0m model \u001b[38;5;241m=\u001b[39m tf\u001b[38;5;241m.\u001b[39mkeras\u001b[38;5;241m.\u001b[39mSequential()\n\u001b[1;32m      3\u001b[0m \u001b[38;5;66;03m#\u001b[39;00m\n\u001b[1;32m      4\u001b[0m \u001b[38;5;66;03m# Adiciona una capa x -> x^2\u001b[39;00m\n\u001b[1;32m      5\u001b[0m \u001b[38;5;66;03m#\u001b[39;00m\n\u001b[0;32m----> 6\u001b[0m \u001b[43mmodel\u001b[49m\u001b[38;5;241;43m.\u001b[39;49m\u001b[43madd\u001b[49m\u001b[43m(\u001b[49m\n\u001b[1;32m      7\u001b[0m \u001b[43m    \u001b[49m\u001b[43mtf\u001b[49m\u001b[38;5;241;43m.\u001b[39;49m\u001b[43mkeras\u001b[49m\u001b[38;5;241;43m.\u001b[39;49m\u001b[43mlayers\u001b[49m\u001b[38;5;241;43m.\u001b[39;49m\u001b[43mLambda\u001b[49m\u001b[43m(\u001b[49m\u001b[38;5;28;43;01mlambda\u001b[39;49;00m\u001b[43m \u001b[49m\u001b[43mx\u001b[49m\u001b[43m:\u001b[49m\u001b[43m \u001b[49m\u001b[43mx\u001b[49m\u001b[38;5;241;43m*\u001b[39;49m\u001b[38;5;241;43m*\u001b[39;49m\u001b[38;5;241;43m2\u001b[39;49m\u001b[43m)\u001b[49m\u001b[43m,\u001b[49m\n\u001b[1;32m      8\u001b[0m \u001b[43m    \u001b[49m\u001b[43moutput_shape\u001b[49m\u001b[38;5;241;43m=\u001b[39;49m\u001b[38;5;28;43;01mNone\u001b[39;49;00m\u001b[43m,\u001b[49m\n\u001b[1;32m      9\u001b[0m \u001b[43m    \u001b[49m\u001b[43mmask\u001b[49m\u001b[38;5;241;43m=\u001b[39;49m\u001b[38;5;28;43;01mNone\u001b[39;49;00m\u001b[43m,\u001b[49m\n\u001b[1;32m     10\u001b[0m \u001b[43m    \u001b[49m\u001b[43marguments\u001b[49m\u001b[38;5;241;43m=\u001b[39;49m\u001b[38;5;28;43;01mNone\u001b[39;49;00m\u001b[43m,\u001b[49m\n\u001b[1;32m     11\u001b[0m \u001b[43m)\u001b[49m\n",
      "File \u001b[0;32m/usr/local/lib/python3.9/site-packages/tensorflow/python/training/tracking/base.py:629\u001b[0m, in \u001b[0;36mno_automatic_dependency_tracking.<locals>._method_wrapper\u001b[0;34m(self, *args, **kwargs)\u001b[0m\n\u001b[1;32m    627\u001b[0m \u001b[38;5;28mself\u001b[39m\u001b[38;5;241m.\u001b[39m_self_setattr_tracking \u001b[38;5;241m=\u001b[39m \u001b[38;5;28;01mFalse\u001b[39;00m  \u001b[38;5;66;03m# pylint: disable=protected-access\u001b[39;00m\n\u001b[1;32m    628\u001b[0m \u001b[38;5;28;01mtry\u001b[39;00m:\n\u001b[0;32m--> 629\u001b[0m   result \u001b[38;5;241m=\u001b[39m \u001b[43mmethod\u001b[49m\u001b[43m(\u001b[49m\u001b[38;5;28;43mself\u001b[39;49m\u001b[43m,\u001b[49m\u001b[43m \u001b[49m\u001b[38;5;241;43m*\u001b[39;49m\u001b[43margs\u001b[49m\u001b[43m,\u001b[49m\u001b[43m \u001b[49m\u001b[38;5;241;43m*\u001b[39;49m\u001b[38;5;241;43m*\u001b[39;49m\u001b[43mkwargs\u001b[49m\u001b[43m)\u001b[49m\n\u001b[1;32m    630\u001b[0m \u001b[38;5;28;01mfinally\u001b[39;00m:\n\u001b[1;32m    631\u001b[0m   \u001b[38;5;28mself\u001b[39m\u001b[38;5;241m.\u001b[39m_self_setattr_tracking \u001b[38;5;241m=\u001b[39m previous_value  \u001b[38;5;66;03m# pylint: disable=protected-access\u001b[39;00m\n",
      "File \u001b[0;32m/usr/local/lib/python3.9/site-packages/keras/utils/traceback_utils.py:67\u001b[0m, in \u001b[0;36mfilter_traceback.<locals>.error_handler\u001b[0;34m(*args, **kwargs)\u001b[0m\n\u001b[1;32m     65\u001b[0m \u001b[38;5;28;01mexcept\u001b[39;00m \u001b[38;5;167;01mException\u001b[39;00m \u001b[38;5;28;01mas\u001b[39;00m e:  \u001b[38;5;66;03m# pylint: disable=broad-except\u001b[39;00m\n\u001b[1;32m     66\u001b[0m   filtered_tb \u001b[38;5;241m=\u001b[39m _process_traceback_frames(e\u001b[38;5;241m.\u001b[39m__traceback__)\n\u001b[0;32m---> 67\u001b[0m   \u001b[38;5;28;01mraise\u001b[39;00m e\u001b[38;5;241m.\u001b[39mwith_traceback(filtered_tb) \u001b[38;5;28;01mfrom\u001b[39;00m \u001b[38;5;28mNone\u001b[39m\n\u001b[1;32m     68\u001b[0m \u001b[38;5;28;01mfinally\u001b[39;00m:\n\u001b[1;32m     69\u001b[0m   \u001b[38;5;28;01mdel\u001b[39;00m filtered_tb\n",
      "File \u001b[0;32m/usr/local/lib/python3.9/site-packages/keras/utils/traceback_utils.py:64\u001b[0m, in \u001b[0;36mfilter_traceback.<locals>.error_handler\u001b[0;34m(*args, **kwargs)\u001b[0m\n\u001b[1;32m     62\u001b[0m filtered_tb \u001b[38;5;241m=\u001b[39m \u001b[38;5;28;01mNone\u001b[39;00m\n\u001b[1;32m     63\u001b[0m \u001b[38;5;28;01mtry\u001b[39;00m:\n\u001b[0;32m---> 64\u001b[0m   \u001b[38;5;28;01mreturn\u001b[39;00m fn(\u001b[38;5;241m*\u001b[39margs, \u001b[38;5;241m*\u001b[39m\u001b[38;5;241m*\u001b[39mkwargs)\n\u001b[1;32m     65\u001b[0m \u001b[38;5;28;01mexcept\u001b[39;00m \u001b[38;5;167;01mException\u001b[39;00m \u001b[38;5;28;01mas\u001b[39;00m e:  \u001b[38;5;66;03m# pylint: disable=broad-except\u001b[39;00m\n\u001b[1;32m     66\u001b[0m   filtered_tb \u001b[38;5;241m=\u001b[39m _process_traceback_frames(e\u001b[38;5;241m.\u001b[39m__traceback__)\n",
      "\u001b[0;31mTypeError\u001b[0m: add() got an unexpected keyword argument 'output_shape'"
     ]
    }
   ],
   "source": [
    "model = tf.keras.Sequential()\n",
    "\n",
    "#\n",
    "# Adiciona una capa x -> x^2\n",
    "#\n",
    "model.add(\n",
    "    tf.keras.layers.Lambda(lambda x: x**2),\n",
    "    output_shape=None,\n",
    "    mask=None,\n",
    "    arguments=None,\n",
    ")"
   ]
  },
  {
   "cell_type": "code",
   "execution_count": null,
   "id": "415429c5-4970-4cb6-86ba-005720edc4d5",
   "metadata": {},
   "outputs": [],
   "source": [
    "#\n",
    "# Adiciona una capa que retorna la concatenacion de la parte positiva de la\n",
    "# entrada y el opuesto de la parte negativa de la entrada\n",
    "#\n",
    "def antirectifier(x):\n",
    "    x -= K.mean(x, axis=1, keepdims=True)\n",
    "    x = K.l2_normalize(x, axis=1)\n",
    "    pos = K.relu(x)\n",
    "    neg = K.relu(-x)\n",
    "    return K.concatenate([pos, neg], axis=1)\n",
    "\n",
    "\n",
    "model.add(Lambda(antirectifier))"
   ]
  },
  {
   "cell_type": "code",
   "execution_count": null,
   "id": "480fbda2-9645-4723-9909-f42a81dfe16f",
   "metadata": {},
   "outputs": [],
   "source": [
    "  scale = tf.Variable(1.)\n",
    "  scale_layer = tf.keras.layers.Lambda(lambda x: x * scale)"
   ]
  },
  {
   "cell_type": "code",
   "execution_count": null,
   "id": "75c9f7f2-9adb-4df6-b941-8da395dfc788",
   "metadata": {},
   "outputs": [],
   "source": []
  }
 ],
 "metadata": {
  "kernelspec": {
   "display_name": "Python 3 (ipykernel)",
   "language": "python",
   "name": "python3"
  },
  "language_info": {
   "codemirror_mode": {
    "name": "ipython",
    "version": 3
   },
   "file_extension": ".py",
   "mimetype": "text/x-python",
   "name": "python",
   "nbconvert_exporter": "python",
   "pygments_lexer": "ipython3",
   "version": "3.9.10"
  }
 },
 "nbformat": 4,
 "nbformat_minor": 5
}
