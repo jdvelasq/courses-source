{
 "cells": [
  {
   "cell_type": "markdown",
   "id": "1f945b64-a122-45ba-b8a6-6c50190c09a4",
   "metadata": {
    "tags": []
   },
   "source": [
    "Capa LayerNormalization --- 0:00 min\n",
    "===\n",
    "\n",
    "* Última modificación: Marzo 7, 2022 | YouTube\n",
    "\n",
    "* Adaptado de: https://keras.io/api/layers/normalization_layers/layer_normalization/"
   ]
  },
  {
   "cell_type": "markdown",
   "id": "c5083f3a-4c6f-46ec-8577-9bb60f9efa1b",
   "metadata": {},
   "source": [
    "Normaliza las entradas. Esta capa aplica una transformación que mantiene la media de la salida cercana a 0 y la varianza de la salida cercana a 1."
   ]
  },
  {
   "cell_type": "markdown",
   "id": "e5d390b2-987c-432a-af13-552e1fd86281",
   "metadata": {
    "tags": []
   },
   "source": [
    "Importación de librerías\n",
    "---"
   ]
  },
  {
   "cell_type": "code",
   "execution_count": 1,
   "id": "7164f9d8-881b-418f-ab1e-45c1b2a7a997",
   "metadata": {},
   "outputs": [
    {
     "data": {
      "text/plain": [
       "'2.8.0'"
      ]
     },
     "execution_count": 1,
     "metadata": {},
     "output_type": "execute_result"
    }
   ],
   "source": [
    "import os\n",
    "\n",
    "os.environ[\"TF_CPP_MIN_LOG_LEVEL\"] = \"2\"\n",
    "\n",
    "import tensorflow as tf\n",
    "\n",
    "tf.__version__"
   ]
  },
  {
   "cell_type": "markdown",
   "id": "b5e2e987-889a-498c-bc4b-5b1a24d4320e",
   "metadata": {},
   "source": [
    "Ejemplos de uso\n",
    "---"
   ]
  },
  {
   "cell_type": "code",
   "execution_count": null,
   "id": "2361545c-284a-4153-a556-2b1dae2d832f",
   "metadata": {},
   "outputs": [],
   "source": []
  },
  {
   "cell_type": "code",
   "execution_count": null,
   "id": "80b4e3c1-ecfa-482d-9aec-82eb92ba7781",
   "metadata": {},
   "outputs": [],
   "source": []
  }
 ],
 "metadata": {
  "kernelspec": {
   "display_name": "Python 3 (ipykernel)",
   "language": "python",
   "name": "python3"
  },
  "language_info": {
   "codemirror_mode": {
    "name": "ipython",
    "version": 3
   },
   "file_extension": ".py",
   "mimetype": "text/x-python",
   "name": "python",
   "nbconvert_exporter": "python",
   "pygments_lexer": "ipython3",
   "version": "3.9.10"
  }
 },
 "nbformat": 4,
 "nbformat_minor": 5
}
