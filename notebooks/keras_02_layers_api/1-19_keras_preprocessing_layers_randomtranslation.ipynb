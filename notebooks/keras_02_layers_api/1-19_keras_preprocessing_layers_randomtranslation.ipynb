{
 "cells": [
  {
   "cell_type": "markdown",
   "id": "1d50a877-e9e6-44ea-a435-930e64cabea8",
   "metadata": {
    "tags": []
   },
   "source": [
    "Capa RandomTranslation --- 0:00 min\n",
    "===\n",
    "\n",
    "* Última modificación: Marzo 7, 2022 | YouTube\n",
    "\n",
    "* Adaptado de: https://keras.io/api/layers/preprocessing_layers/image_augmentation/random_translation/"
   ]
  },
  {
   "cell_type": "markdown",
   "id": "38bf0942-43cd-426a-bb5e-9d4466ac349c",
   "metadata": {
    "tags": []
   },
   "source": [
    "Importación de librerías\n",
    "---"
   ]
  },
  {
   "cell_type": "code",
   "execution_count": 1,
   "id": "69611008-e3b9-48de-97f6-bc5219b773b7",
   "metadata": {},
   "outputs": [
    {
     "data": {
      "text/plain": [
       "'2.8.0'"
      ]
     },
     "execution_count": 1,
     "metadata": {},
     "output_type": "execute_result"
    }
   ],
   "source": [
    "import os\n",
    "\n",
    "os.environ[\"TF_CPP_MIN_LOG_LEVEL\"] = \"2\"\n",
    "\n",
    "import tensorflow as tf\n",
    "\n",
    "tf.__version__"
   ]
  },
  {
   "cell_type": "markdown",
   "id": "bd16c454-848f-49a1-b5b9-ed138063cdac",
   "metadata": {},
   "source": [
    "Ejemplos de uso\n",
    "---"
   ]
  },
  {
   "cell_type": "markdown",
   "id": "0ba55422-a7cb-4d90-99ba-4bcc11d1d2ed",
   "metadata": {},
   "source": [
    "Esta capa gira traslada aleatoriamente las imágenes durante el entrenamiento."
   ]
  },
  {
   "cell_type": "code",
   "execution_count": null,
   "id": "6a9085b6-5669-4071-aeeb-575045521e87",
   "metadata": {},
   "outputs": [],
   "source": []
  },
  {
   "cell_type": "code",
   "execution_count": null,
   "id": "2953062d-238b-4f87-90e0-d0e0bac538f0",
   "metadata": {},
   "outputs": [],
   "source": []
  }
 ],
 "metadata": {
  "kernelspec": {
   "display_name": "Python 3 (ipykernel)",
   "language": "python",
   "name": "python3"
  },
  "language_info": {
   "codemirror_mode": {
    "name": "ipython",
    "version": 3
   },
   "file_extension": ".py",
   "mimetype": "text/x-python",
   "name": "python",
   "nbconvert_exporter": "python",
   "pygments_lexer": "ipython3",
   "version": "3.9.10"
  }
 },
 "nbformat": 4,
 "nbformat_minor": 5
}
