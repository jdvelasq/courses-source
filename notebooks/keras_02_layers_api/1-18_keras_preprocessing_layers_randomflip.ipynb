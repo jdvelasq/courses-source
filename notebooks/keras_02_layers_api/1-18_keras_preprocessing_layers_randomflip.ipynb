{
 "cells": [
  {
   "cell_type": "markdown",
   "id": "a17680ea-1007-440d-9bab-38cea3e287c2",
   "metadata": {
    "tags": []
   },
   "source": [
    "Capa RandomFlip --- 0:00 min\n",
    "===\n",
    "\n",
    "* Última modificación: Marzo 7, 2022 | YouTube\n",
    "\n",
    "* Adaptado de: https://keras.io/api/layers/preprocessing_layers/image_augmentation/random_flip/"
   ]
  },
  {
   "cell_type": "markdown",
   "id": "ef42fa38-f19d-4be3-a000-b5e7846bd575",
   "metadata": {
    "tags": []
   },
   "source": [
    "Importación de librerías\n",
    "---"
   ]
  },
  {
   "cell_type": "code",
   "execution_count": 1,
   "id": "71fbf885-797e-41c7-8b55-5fecb0f23e7c",
   "metadata": {},
   "outputs": [
    {
     "data": {
      "text/plain": [
       "'2.8.0'"
      ]
     },
     "execution_count": 1,
     "metadata": {},
     "output_type": "execute_result"
    }
   ],
   "source": [
    "import os\n",
    "\n",
    "os.environ[\"TF_CPP_MIN_LOG_LEVEL\"] = \"2\"\n",
    "\n",
    "import tensorflow as tf\n",
    "\n",
    "tf.__version__"
   ]
  },
  {
   "cell_type": "markdown",
   "id": "7160ee93-c90e-4987-aa87-d2f97baa058a",
   "metadata": {},
   "source": [
    "Ejemplos de uso\n",
    "---"
   ]
  },
  {
   "cell_type": "markdown",
   "id": "f20dc2fe-f80d-45b0-b14b-2720e663cc04",
   "metadata": {},
   "source": [
    "Esta capa gira aleatoriamente las imágenes durante el entrenamiento."
   ]
  },
  {
   "cell_type": "code",
   "execution_count": null,
   "id": "62b47449-75c2-43e6-bf41-5d969fe3904d",
   "metadata": {},
   "outputs": [],
   "source": []
  }
 ],
 "metadata": {
  "kernelspec": {
   "display_name": "Python 3 (ipykernel)",
   "language": "python",
   "name": "python3"
  },
  "language_info": {
   "codemirror_mode": {
    "name": "ipython",
    "version": 3
   },
   "file_extension": ".py",
   "mimetype": "text/x-python",
   "name": "python",
   "nbconvert_exporter": "python",
   "pygments_lexer": "ipython3",
   "version": "3.9.10"
  }
 },
 "nbformat": 4,
 "nbformat_minor": 5
}
