{
 "cells": [
  {
   "cell_type": "markdown",
   "id": "0cb2c0d4-5556-40ae-bad6-09bb31bf58e5",
   "metadata": {
    "tags": []
   },
   "source": [
    "Funciones generales de las capas (Clase base) --- 0:00 min\n",
    "===\n",
    "\n",
    "* Última modificación: Marzo 7, 2022 | YouTube\n",
    "\n",
    "* Adaptado de: https://keras.io/api/layers/base_layer/"
   ]
  },
  {
   "cell_type": "markdown",
   "id": "72704f79-7a29-4cf7-bb9d-3f8e91ee40fc",
   "metadata": {
    "tags": []
   },
   "source": [
    "Importación de librerías\n",
    "---"
   ]
  },
  {
   "cell_type": "code",
   "execution_count": 1,
   "id": "7c598235-5f35-4509-9637-dcbe8471659c",
   "metadata": {},
   "outputs": [
    {
     "data": {
      "text/plain": [
       "'2.8.0'"
      ]
     },
     "execution_count": 1,
     "metadata": {},
     "output_type": "execute_result"
    }
   ],
   "source": [
    "import os\n",
    "\n",
    "os.environ[\"TF_CPP_MIN_LOG_LEVEL\"] = \"2\"\n",
    "\n",
    "import tensorflow as tf\n",
    "\n",
    "tf.__version__"
   ]
  },
  {
   "cell_type": "markdown",
   "id": "f29cc10c-54d8-421c-a213-130146eadaec",
   "metadata": {},
   "source": [
    "Clase base Layer\n",
    "---"
   ]
  },
  {
   "cell_type": "markdown",
   "id": "619c0186-158b-4411-8718-a1b8dee5f014",
   "metadata": {},
   "source": [
    "Esta es la clase base y cubre todas las funciones que son generales a las capas de procesamiento en un modelo de redes neuronales."
   ]
  },
  {
   "cell_type": "markdown",
   "id": "b76b86b1-f287-48d1-a20c-ce27854dfa59",
   "metadata": {},
   "source": [
    "```python\n",
    "tf.keras.layers.Layer(\n",
    "    # -------------------------------------------------------------------------\n",
    "    # ?si es True los pesos son modificables durante el entrenamiento.\n",
    "    trainable=True, \n",
    "    # -------------------------------------------------------------------------\n",
    "    # string con el nombre de la capa\n",
    "    name=None, \n",
    "    # -------------------------------------------------------------------------\n",
    "    # tipo de dato para los célculos\n",
    "    dtype=None, \n",
    ")\n",
    "```"
   ]
  },
  {
   "cell_type": "code",
   "execution_count": 2,
   "id": "60d64889-2cd8-43ea-95d2-97295963d928",
   "metadata": {},
   "outputs": [],
   "source": [
    "#\n",
    "# Ejemplo 1.\n",
    "# Capa que implementa el modelo y = w x + b\n",
    "#\n",
    "class SimpleDense(tf.keras.layers.Layer):\n",
    "    #\n",
    "    def __init__(\n",
    "        self,\n",
    "        units=32,\n",
    "    ):\n",
    "        super(SimpleDense, self).__init__()\n",
    "        self.units = units\n",
    "\n",
    "    def build(self, input_shape):\n",
    "        #\n",
    "        # Inicializa un generador de aleatorios\n",
    "        #\n",
    "        w_init = tf.random_normal_initializer()\n",
    "\n",
    "        #\n",
    "        # Crea la variable `w` con un valor inicial aleatorio\n",
    "        #\n",
    "        self.w = tf.Variable(\n",
    "            initial_value=w_init(\n",
    "                shape=(input_shape[-1], self.units),\n",
    "                dtype=\"float32\",\n",
    "            ),\n",
    "            trainable=True,\n",
    "        )\n",
    "\n",
    "        #\n",
    "        # Inicializa un generador de ceros\n",
    "        #\n",
    "        b_init = tf.zeros_initializer()\n",
    "        self.b = tf.Variable(\n",
    "            initial_value=b_init(\n",
    "                shape=(self.units,),\n",
    "                dtype=\"float32\",\n",
    "            ),\n",
    "            trainable=True,\n",
    "        )\n",
    "\n",
    "    def call(self, inputs):\n",
    "        #\n",
    "        # Implementa la computación que realiza la capa\n",
    "        #\n",
    "        return tf.matmul(inputs, self.w) + self.b\n",
    "\n",
    "\n",
    "#\n",
    "# Instanciación de la capa\n",
    "#\n",
    "linear_layer = SimpleDense(4)\n",
    "\n",
    "#\n",
    "# Este código es equivalente a llamar a `build(input_shape)` y crear los pesos\n",
    "#\n",
    "y = linear_layer(tf.ones((2, 2)))\n",
    "\n",
    "\n",
    "assert len(linear_layer.weights) == 2\n",
    "assert len(linear_layer.trainable_weights) == 2"
   ]
  },
  {
   "cell_type": "code",
   "execution_count": 3,
   "id": "495b002f-6137-4e59-85e8-25d25cddbd48",
   "metadata": {},
   "outputs": [],
   "source": [
    "#\n",
    "# Ejemplo 2.\n",
    "# Uso de `add_weight()` para crear los pesos\n",
    "#\n",
    "class SimpleDense(tf.keras.layers.Layer):\n",
    "    def __init__(self, units=32):\n",
    "        super(SimpleDense, self).__init__()\n",
    "        self.units = units\n",
    "\n",
    "    def build(self, input_shape):\n",
    "        self.w = self.add_weight(\n",
    "            shape=(input_shape[-1], self.units),\n",
    "            initializer=\"random_normal\",\n",
    "            trainable=True,\n",
    "        )\n",
    "        self.b = self.add_weight(\n",
    "            shape=(self.units,),\n",
    "            initializer=\"random_normal\",\n",
    "            trainable=True,\n",
    "        )\n",
    "\n",
    "    def call(self, inputs):\n",
    "        return tf.matmul(inputs, self.w) + self.b"
   ]
  },
  {
   "cell_type": "code",
   "execution_count": 4,
   "id": "9ea0dfce-5945-4bc3-af5b-62153d3f7d83",
   "metadata": {},
   "outputs": [
    {
     "name": "stdout",
     "output_type": "stream",
     "text": [
      "[2. 2.]\n",
      "[4. 4.]\n"
     ]
    }
   ],
   "source": [
    "#\n",
    "# Ejemplo 3.\n",
    "# Las capas pueden tener pesos no entrenables, los cuales deben ser\n",
    "# actualizados manualmente durante la llamada a `call()`\n",
    "#\n",
    "class ComputeSum(tf.keras.layers.Layer):\n",
    "    def __init__(self, input_dim):\n",
    "        super(ComputeSum, self).__init__()\n",
    "        self.total = tf.Variable(\n",
    "            initial_value=tf.zeros((input_dim,)),\n",
    "            trainable=False,\n",
    "        )\n",
    "\n",
    "    def call(self, inputs):\n",
    "        self.total.assign_add(tf.reduce_sum(inputs, axis=0))\n",
    "        return self.total\n",
    "\n",
    "\n",
    "my_sum = ComputeSum(2)\n",
    "x = tf.ones((2, 2))\n",
    "\n",
    "y = my_sum(x)\n",
    "print(y.numpy())  # [2. 2.]\n",
    "\n",
    "y = my_sum(x)\n",
    "print(y.numpy())  # [4. 4.]\n",
    "\n",
    "assert my_sum.weights == [my_sum.total]\n",
    "assert my_sum.non_trainable_weights == [my_sum.total]\n",
    "assert my_sum.trainable_weights == []"
   ]
  },
  {
   "cell_type": "markdown",
   "id": "74fa098a-3aba-41fe-a18d-447963b2dd34",
   "metadata": {},
   "source": [
    "Propiedad weights\n",
    "--"
   ]
  },
  {
   "cell_type": "code",
   "execution_count": 5,
   "id": "36a66242-4cb9-49af-8cfc-5350a68eb78a",
   "metadata": {},
   "outputs": [
    {
     "data": {
      "text/plain": [
       "[<tf.Variable 'simple_dense/Variable:0' shape=(2, 4) dtype=float32, numpy=\n",
       " array([[ 0.03067854,  0.03787955,  0.02552752,  0.06423488],\n",
       "        [-0.02314473,  0.02136273, -0.00477252,  0.00825742]],\n",
       "       dtype=float32)>,\n",
       " <tf.Variable 'simple_dense/Variable:0' shape=(4,) dtype=float32, numpy=array([0., 0., 0., 0.], dtype=float32)>]"
      ]
     },
     "execution_count": 5,
     "metadata": {},
     "output_type": "execute_result"
    }
   ],
   "source": [
    "#\n",
    "# Retorna una lista con todas las variables/pesos de una capa\n",
    "#\n",
    "linear_layer.weights"
   ]
  },
  {
   "cell_type": "markdown",
   "id": "0c9a66b6-a09c-403d-abbf-619f484723c6",
   "metadata": {},
   "source": [
    "Propiedad trainable_weights\n",
    "--"
   ]
  },
  {
   "cell_type": "code",
   "execution_count": 6,
   "id": "6d81f17f-4e49-4812-8c7a-a404ca3a2822",
   "metadata": {},
   "outputs": [
    {
     "data": {
      "text/plain": [
       "[<tf.Variable 'simple_dense/Variable:0' shape=(2, 4) dtype=float32, numpy=\n",
       " array([[ 0.03067854,  0.03787955,  0.02552752,  0.06423488],\n",
       "        [-0.02314473,  0.02136273, -0.00477252,  0.00825742]],\n",
       "       dtype=float32)>,\n",
       " <tf.Variable 'simple_dense/Variable:0' shape=(4,) dtype=float32, numpy=array([0., 0., 0., 0.], dtype=float32)>]"
      ]
     },
     "execution_count": 6,
     "metadata": {},
     "output_type": "execute_result"
    }
   ],
   "source": [
    "#\n",
    "# Retorna una lista de todos los pesos entrenables de la capay que son\n",
    "# actualizados en cada iteración del algoritmo de gradiente descendente\n",
    "#\n",
    "linear_layer.trainable_weights"
   ]
  },
  {
   "cell_type": "markdown",
   "id": "8fca82ed-2c62-48ee-b43d-acc9c7e3ff9b",
   "metadata": {},
   "source": [
    "Propiedad non_trainable_weights\n",
    "--"
   ]
  },
  {
   "cell_type": "code",
   "execution_count": 7,
   "id": "1f07dd6d-0a12-4dd8-bfb8-34b9e54125fc",
   "metadata": {},
   "outputs": [
    {
     "data": {
      "text/plain": [
       "[]"
      ]
     },
     "execution_count": 7,
     "metadata": {},
     "output_type": "execute_result"
    }
   ],
   "source": [
    "#\n",
    "# Retorna una lista con los pesos no entrenables\n",
    "#\n",
    "linear_layer.non_trainable_weights"
   ]
  },
  {
   "cell_type": "markdown",
   "id": "e7c056b3-fb10-44fb-87ef-9cf29c73e68b",
   "metadata": {},
   "source": [
    "Propiedad get_weights\n",
    "--"
   ]
  },
  {
   "cell_type": "code",
   "execution_count": 8,
   "id": "de9155d7-cfed-4935-80e6-82ef0841741c",
   "metadata": {},
   "outputs": [
    {
     "data": {
      "text/plain": [
       "[array([[1.],\n",
       "        [1.],\n",
       "        [1.]], dtype=float32),\n",
       " array([0.], dtype=float32)]"
      ]
     },
     "execution_count": 8,
     "metadata": {},
     "output_type": "execute_result"
    }
   ],
   "source": [
    "#\n",
    "# Retorna los pesos de la capa como arrays de NumPy\n",
    "#\n",
    "layer_a = tf.keras.layers.Dense(\n",
    "    1,\n",
    "    kernel_initializer=tf.constant_initializer(1.0),\n",
    ")\n",
    "a_out = layer_a(\n",
    "    tf.convert_to_tensor([[1.0, 2.0, 3.0]]),\n",
    ")\n",
    "layer_a.get_weights()"
   ]
  },
  {
   "cell_type": "code",
   "execution_count": 9,
   "id": "b463e9f9-47b9-45ed-a6da-1d1e58cf86ea",
   "metadata": {},
   "outputs": [
    {
     "data": {
      "text/plain": [
       "[array([[2.],\n",
       "        [2.],\n",
       "        [2.]], dtype=float32),\n",
       " array([0.], dtype=float32)]"
      ]
     },
     "execution_count": 9,
     "metadata": {},
     "output_type": "execute_result"
    }
   ],
   "source": [
    "layer_b = tf.keras.layers.Dense(\n",
    "    1,\n",
    "    kernel_initializer=tf.constant_initializer(2.0),\n",
    ")\n",
    "b_out = layer_b(\n",
    "    tf.convert_to_tensor([[10.0, 20.0, 30.0]]),\n",
    ")\n",
    "layer_b.get_weights()"
   ]
  },
  {
   "cell_type": "code",
   "execution_count": 10,
   "id": "50e7a8fa-6fef-454d-acc0-4b56cfcf0680",
   "metadata": {},
   "outputs": [
    {
     "data": {
      "text/plain": [
       "[array([[1.],\n",
       "        [1.],\n",
       "        [1.]], dtype=float32),\n",
       " array([0.], dtype=float32)]"
      ]
     },
     "execution_count": 10,
     "metadata": {},
     "output_type": "execute_result"
    }
   ],
   "source": [
    "layer_b.set_weights(\n",
    "    layer_a.get_weights(),\n",
    ")\n",
    "layer_b.get_weights()"
   ]
  },
  {
   "cell_type": "markdown",
   "id": "c83d57e4-7b4f-439d-8e11-61211533058b",
   "metadata": {},
   "source": [
    "Propiedad set_weights\n",
    "--"
   ]
  },
  {
   "cell_type": "markdown",
   "id": "f0ac2124-e40a-4ff3-bedf-d56c8b6c9068",
   "metadata": {},
   "source": [
    "Actualiza los pesos de la capa a partir de arrays de NumPy. Ver el ejemplo anterior."
   ]
  },
  {
   "cell_type": "markdown",
   "id": "e549182f-a4af-4c42-ad1a-9ed2c13ef102",
   "metadata": {},
   "source": [
    "Propiedad get_config\n",
    "--"
   ]
  },
  {
   "cell_type": "code",
   "execution_count": 11,
   "id": "137bca93-f3c4-47c7-91b7-95491792e840",
   "metadata": {},
   "outputs": [
    {
     "data": {
      "text/plain": [
       "{'name': 'dense',\n",
       " 'trainable': True,\n",
       " 'dtype': 'float32',\n",
       " 'units': 1,\n",
       " 'activation': 'linear',\n",
       " 'use_bias': True,\n",
       " 'kernel_initializer': {'class_name': 'Constant', 'config': {'value': 1.0}},\n",
       " 'bias_initializer': {'class_name': 'Zeros', 'config': {}},\n",
       " 'kernel_regularizer': None,\n",
       " 'bias_regularizer': None,\n",
       " 'activity_regularizer': None,\n",
       " 'kernel_constraint': None,\n",
       " 'bias_constraint': None}"
      ]
     },
     "execution_count": 11,
     "metadata": {},
     "output_type": "execute_result"
    }
   ],
   "source": [
    "#\n",
    "# Retorna la configuración de la capa\n",
    "#\n",
    "layer_a.get_config()"
   ]
  },
  {
   "cell_type": "markdown",
   "id": "8d239f42-836c-4088-ba23-a29928d83ef3",
   "metadata": {},
   "source": [
    "Método add_loss()\n",
    "--"
   ]
  },
  {
   "cell_type": "code",
   "execution_count": 12,
   "id": "3a5cfdf2-252b-42f7-867b-29a72887a5c2",
   "metadata": {},
   "outputs": [],
   "source": [
    "#\n",
    "# Adiciona tensores de pérdida potencialmente dependientes de las capas de\n",
    "# entrada.\n",
    "#\n",
    "# Ejemplo 1.\n",
    "# En este ejemplo el metodo es llamado directamente durante la construcción\n",
    "# de la capa.\n",
    "#\n",
    "class MyLayer(tf.keras.layers.Layer):\n",
    "    def call(self, inputs):\n",
    "        self.add_loss(\n",
    "            tf.abs(\n",
    "                tf.reduce_mean(inputs),\n",
    "            ),\n",
    "        )\n",
    "        return inputs"
   ]
  },
  {
   "cell_type": "code",
   "execution_count": 13,
   "id": "d0f8cc3e-dcc5-4600-9a2c-2f56ee68180a",
   "metadata": {},
   "outputs": [],
   "source": [
    "#\n",
    "# Ejemplo 2\n",
    "# Llamada de add_loss directamente en un modelo funcional.\n",
    "#\n",
    "inputs = tf.keras.Input(shape=(10,))\n",
    "x = tf.keras.layers.Dense(10)(inputs)\n",
    "outputs = tf.keras.layers.Dense(1)(x)\n",
    "model = tf.keras.Model(inputs, outputs)\n",
    "model.add_loss(tf.abs(tf.reduce_mean(x)))"
   ]
  },
  {
   "cell_type": "code",
   "execution_count": 14,
   "id": "2a100fa3-bdb8-4b3e-a52a-78d7b6c86a1b",
   "metadata": {},
   "outputs": [],
   "source": [
    "#\n",
    "# Ejemplo 3\n",
    "# Llamada de add_loss referenciando una variable de una de las capas.\n",
    "# En este ejemplo funcina como una regularización\n",
    "#\n",
    "inputs = tf.keras.Input(shape=(10,))\n",
    "d = tf.keras.layers.Dense(10)\n",
    "x = d(inputs)\n",
    "outputs = tf.keras.layers.Dense(1)(x)\n",
    "model = tf.keras.Model(inputs, outputs)\n",
    "model.add_loss(lambda: tf.reduce_mean(d.kernel))"
   ]
  },
  {
   "cell_type": "markdown",
   "id": "d360cbb8-1be4-4117-bfb1-353a07854098",
   "metadata": {},
   "source": [
    "Propiedad losses\n",
    "--"
   ]
  },
  {
   "cell_type": "code",
   "execution_count": 15,
   "id": "be0de45e-8dd8-4473-8205-b58a2c95920d",
   "metadata": {},
   "outputs": [
    {
     "data": {
      "text/plain": [
       "[<tf.Tensor: shape=(), dtype=float32, numpy=1.0>]"
      ]
     },
     "execution_count": 15,
     "metadata": {},
     "output_type": "execute_result"
    }
   ],
   "source": [
    "#\n",
    "# Retorna una lista con las pérdidas adicionadas usando add_loss\n",
    "#\n",
    "import numpy as np\n",
    "\n",
    "\n",
    "class MyLayer(tf.keras.layers.Layer):\n",
    "    def call(self, inputs):\n",
    "        self.add_loss(\n",
    "            tf.abs(tf.reduce_mean(inputs)),\n",
    "        )\n",
    "        return inputs\n",
    "\n",
    "\n",
    "l = MyLayer()\n",
    "l(np.ones((10, 1)))\n",
    "l.losses"
   ]
  },
  {
   "cell_type": "code",
   "execution_count": 16,
   "id": "f37d5063-e3cb-4129-b7c6-65d63b70c955",
   "metadata": {},
   "outputs": [
    {
     "data": {
      "text/plain": [
       "0"
      ]
     },
     "execution_count": 16,
     "metadata": {},
     "output_type": "execute_result"
    }
   ],
   "source": [
    "inputs = tf.keras.Input(shape=(10,))\n",
    "x = tf.keras.layers.Dense(10)(inputs)\n",
    "outputs = tf.keras.layers.Dense(1)(x)\n",
    "model = tf.keras.Model(inputs, outputs)\n",
    "\n",
    "len(model.losses)"
   ]
  },
  {
   "cell_type": "code",
   "execution_count": 17,
   "id": "adff5ba6-37ac-4a82-abdf-68623f02e794",
   "metadata": {},
   "outputs": [
    {
     "data": {
      "text/plain": [
       "1"
      ]
     },
     "execution_count": 17,
     "metadata": {},
     "output_type": "execute_result"
    }
   ],
   "source": [
    "model.add_loss(tf.abs(tf.reduce_mean(x)))\n",
    "len(model.losses)"
   ]
  },
  {
   "cell_type": "code",
   "execution_count": 18,
   "id": "61c976a4-65a2-4e45-bdb4-ffaa21d621b6",
   "metadata": {},
   "outputs": [
    {
     "data": {
      "text/plain": [
       "[<tf.Tensor: shape=(), dtype=float32, numpy=1.0>]"
      ]
     },
     "execution_count": 18,
     "metadata": {},
     "output_type": "execute_result"
    }
   ],
   "source": [
    "inputs = tf.keras.Input(shape=(10,))\n",
    "d = tf.keras.layers.Dense(10, kernel_initializer=\"ones\")\n",
    "x = d(inputs)\n",
    "outputs = tf.keras.layers.Dense(1)(x)\n",
    "model = tf.keras.Model(inputs, outputs)\n",
    "model.add_loss(lambda: tf.reduce_mean(d.kernel))\n",
    "model.losses"
   ]
  },
  {
   "cell_type": "markdown",
   "id": "d7179c01-0b65-48ba-ad91-0bebe2229307",
   "metadata": {},
   "source": [
    "Método add_metric()\n",
    "--"
   ]
  },
  {
   "cell_type": "code",
   "execution_count": 19,
   "id": "ade1fc1e-c944-4ab3-902d-1ff01a78a91f",
   "metadata": {},
   "outputs": [],
   "source": [
    "#\n",
    "# Adiciona una métrica a la capa\n",
    "#\n",
    "# Ejemplo 1.\n",
    "# LLamada dentro de call().\n",
    "#\n",
    "class MyMetricLayer(tf.keras.layers.Layer):\n",
    "    def __init__(self):\n",
    "        super(MyMetricLayer, self).__init__(name=\"my_metric_layer\")\n",
    "        self.mean = tf.keras.metrics.Mean(name=\"metric_1\")\n",
    "\n",
    "    def call(self, inputs):\n",
    "        self.add_metric(self.mean(inputs))\n",
    "        self.add_metric(\n",
    "            tf.reduce_sum(inputs),\n",
    "            name=\"metric_2\",\n",
    "        )\n",
    "        return inputs"
   ]
  },
  {
   "cell_type": "code",
   "execution_count": 20,
   "id": "a91b1c21-d20c-4c37-a8ae-96f062664643",
   "metadata": {},
   "outputs": [],
   "source": [
    "#\n",
    "# Ejemplo 2.\n",
    "# Llamada dentro de un modelo funcional\n",
    "#\n",
    "inputs = tf.keras.Input(shape=(10,))\n",
    "x = tf.keras.layers.Dense(10)(inputs)\n",
    "outputs = tf.keras.layers.Dense(1)(x)\n",
    "model = tf.keras.Model(inputs, outputs)\n",
    "model.add_metric(\n",
    "    tf.math.reduce_sum(x),\n",
    "    name=\"metric_1\",\n",
    ")"
   ]
  },
  {
   "cell_type": "markdown",
   "id": "c8489967-2ebb-4d41-8895-ab7cb4b44406",
   "metadata": {},
   "source": [
    "Propiedad metric\n",
    "---"
   ]
  },
  {
   "cell_type": "code",
   "execution_count": 21,
   "id": "9d0b6bb1-8eae-4086-9f5d-73bd27effa35",
   "metadata": {},
   "outputs": [
    {
     "data": {
      "text/plain": [
       "['max', 'min']"
      ]
     },
     "execution_count": 21,
     "metadata": {},
     "output_type": "execute_result"
    }
   ],
   "source": [
    "#\n",
    "# Lista las métricas addicionadas usando add_metric\n",
    "#\n",
    "input = tf.keras.layers.Input(shape=(3,))\n",
    "d = tf.keras.layers.Dense(2)\n",
    "output = d(input)\n",
    "\n",
    "d.add_metric(\n",
    "    tf.reduce_max(output),\n",
    "    name=\"max\",\n",
    ")\n",
    "\n",
    "d.add_metric(\n",
    "    tf.reduce_min(output),\n",
    "    name=\"min\",\n",
    ")\n",
    "\n",
    "[m.name for m in d.metrics]"
   ]
  }
 ],
 "metadata": {
  "kernelspec": {
   "display_name": "Python 3 (ipykernel)",
   "language": "python",
   "name": "python3"
  },
  "language_info": {
   "codemirror_mode": {
    "name": "ipython",
    "version": 3
   },
   "file_extension": ".py",
   "mimetype": "text/x-python",
   "name": "python",
   "nbconvert_exporter": "python",
   "pygments_lexer": "ipython3",
   "version": "3.9.10"
  }
 },
 "nbformat": 4,
 "nbformat_minor": 5
}
