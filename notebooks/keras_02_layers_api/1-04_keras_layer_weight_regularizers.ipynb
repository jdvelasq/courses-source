{
 "cells": [
  {
   "cell_type": "markdown",
   "id": "45187299-dfd8-431e-aced-21ee1b921672",
   "metadata": {
    "tags": []
   },
   "source": [
    "Regularización de pesos en las capas --- 0:00 min\n",
    "===\n",
    "\n",
    "* Última modificación: Marzo 7, 2022 | YouTube\n",
    "\n",
    "* Adaptado de: https://keras.io/api/layers/initializers/"
   ]
  },
  {
   "cell_type": "markdown",
   "id": "561e97d3-b5ba-49f1-a6ec-6a6d3bff1399",
   "metadata": {
    "tags": []
   },
   "source": [
    "Importación de librerías\n",
    "---"
   ]
  },
  {
   "cell_type": "code",
   "execution_count": 1,
   "id": "826659ac-8f93-43f7-95da-7312437062cc",
   "metadata": {},
   "outputs": [
    {
     "data": {
      "text/plain": [
       "'2.8.0'"
      ]
     },
     "execution_count": 1,
     "metadata": {},
     "output_type": "execute_result"
    }
   ],
   "source": [
    "import os\n",
    "\n",
    "os.environ[\"TF_CPP_MIN_LOG_LEVEL\"] = \"2\"\n",
    "\n",
    "import tensorflow as tf\n",
    "\n",
    "tf.__version__"
   ]
  },
  {
   "cell_type": "markdown",
   "id": "4c70fc54-0675-4e44-938e-788fb928adb5",
   "metadata": {},
   "source": [
    "Uso de los regularizadores\n",
    "---"
   ]
  },
  {
   "cell_type": "code",
   "execution_count": 2,
   "id": "2e144f6e-73c6-48ea-98bf-96485b3b256a",
   "metadata": {},
   "outputs": [],
   "source": [
    "layer = tf.keras.layers.Dense(\n",
    "    units=64,\n",
    "    kernel_regularizer=tf.keras.regularizers.l1_l2(l1=1e-5, l2=1e-4),\n",
    "    bias_regularizer=tf.keras.regularizers.l2(1e-4),\n",
    "    activity_regularizer=tf.keras.regularizers.l2(1e-5),\n",
    ")"
   ]
  },
  {
   "cell_type": "code",
   "execution_count": 3,
   "id": "ce9c0209-d4fb-4769-90eb-5f90a2bfe42c",
   "metadata": {},
   "outputs": [
    {
     "data": {
      "text/plain": [
       "<tf.Tensor: shape=(), dtype=float32, numpy=5.25>"
      ]
     },
     "execution_count": 3,
     "metadata": {},
     "output_type": "execute_result"
    }
   ],
   "source": [
    "layer = tf.keras.layers.Dense(\n",
    "    5,\n",
    "    kernel_initializer=\"ones\",\n",
    "    kernel_regularizer=tf.keras.regularizers.l1(0.01),\n",
    "    activity_regularizer=tf.keras.regularizers.l2(0.01),\n",
    ")\n",
    "tensor = tf.ones(shape=(5, 5)) * 2.0\n",
    "out = layer(tensor)\n",
    "tf.math.reduce_sum(layer.losses)  # 5.25 (= 5 + 0.25)"
   ]
  },
  {
   "cell_type": "markdown",
   "id": "768198be-26b2-4f56-807c-2aec24759b8c",
   "metadata": {},
   "source": [
    "Regularizadores disponibles\n",
    "--"
   ]
  },
  {
   "cell_type": "markdown",
   "id": "8fb53585-6914-451d-a34f-7c2a44b77dd8",
   "metadata": {},
   "source": [
    "**L1**"
   ]
  },
  {
   "cell_type": "markdown",
   "id": "f1b457ba-7cca-45e8-b30a-de7f30fb165b",
   "metadata": {},
   "source": [
    "```loss = l1 * reduce_sum(abs(x))```"
   ]
  },
  {
   "cell_type": "code",
   "execution_count": 4,
   "id": "50582f45-af17-4249-a26d-5a73a88799a6",
   "metadata": {},
   "outputs": [],
   "source": [
    "dense = tf.keras.layers.Dense(\n",
    "    3,\n",
    "    kernel_regularizer=\"l1\",\n",
    ")"
   ]
  },
  {
   "cell_type": "markdown",
   "id": "74eb4d2f-8935-4f04-8ee3-7684fecfb8db",
   "metadata": {},
   "source": [
    "**L2**"
   ]
  },
  {
   "cell_type": "markdown",
   "id": "886881fd-63c3-406c-9973-0397720f94ff",
   "metadata": {},
   "source": [
    "```loss = l2 * reduce_sum(square(x))```"
   ]
  },
  {
   "cell_type": "code",
   "execution_count": 5,
   "id": "f12ce1b4-5717-4885-ad9c-ed3afc80adcf",
   "metadata": {},
   "outputs": [],
   "source": [
    "dense = tf.keras.layers.Dense(3, kernel_regularizer=\"l2\")"
   ]
  },
  {
   "cell_type": "markdown",
   "id": "a7a20616-bf09-430c-8131-8683633ab972",
   "metadata": {},
   "source": [
    "**l1_l2**"
   ]
  },
  {
   "cell_type": "markdown",
   "id": "eb8bbfb1-cec1-4681-ac5b-9a3fdbaaddef",
   "metadata": {},
   "source": [
    "```loss = l1 * reduce_sum(abs(x)) + l2 * reduce_sum(square(x))```"
   ]
  },
  {
   "cell_type": "markdown",
   "id": "cccc4fca-baa7-4cae-85c8-cf31a62ad476",
   "metadata": {},
   "source": [
    "Regularizadores personalizados\n",
    "---"
   ]
  },
  {
   "cell_type": "code",
   "execution_count": 6,
   "id": "29aceee0-cff8-4697-933c-4aaa1a90cf1b",
   "metadata": {},
   "outputs": [],
   "source": [
    "#\n",
    "# Definido como una función\n",
    "#\n",
    "def my_regularizer(x):\n",
    "    return 1e-3 * tf.reduce_sum(tf.square(x))"
   ]
  },
  {
   "cell_type": "code",
   "execution_count": 7,
   "id": "da60784b-84f9-4fa9-89cd-9da72f8f4275",
   "metadata": {},
   "outputs": [],
   "source": [
    "#\n",
    "# Como una subclase\n",
    "#\n",
    "class MyRegularizer(tf.keras.regularizers.Regularizer):\n",
    "    #\n",
    "    def __init__(self, strength):\n",
    "        self.strength = strength\n",
    "\n",
    "    def __call__(self, x):\n",
    "        return self.strength * tf.reduce_sum(tf.square(x))"
   ]
  },
  {
   "cell_type": "code",
   "execution_count": 8,
   "id": "7ca92287-a4fd-4f7f-a743-8d31250da915",
   "metadata": {},
   "outputs": [],
   "source": [
    "class MyRegularizer(tf.keras.regularizers.Regularizer):\n",
    "    #\n",
    "    def __init__(self, strength):\n",
    "        self.strength = strength\n",
    "\n",
    "    def __call__(self, x):\n",
    "        return self.strength * tf.reduce_sum(tf.square(x))\n",
    "\n",
    "    def get_config(self):\n",
    "        # para soportar serialización\n",
    "        return {\"strength\": self.strength}"
   ]
  }
 ],
 "metadata": {
  "kernelspec": {
   "display_name": "Python 3 (ipykernel)",
   "language": "python",
   "name": "python3"
  },
  "language_info": {
   "codemirror_mode": {
    "name": "ipython",
    "version": 3
   },
   "file_extension": ".py",
   "mimetype": "text/x-python",
   "name": "python",
   "nbconvert_exporter": "python",
   "pygments_lexer": "ipython3",
   "version": "3.9.10"
  }
 },
 "nbformat": 4,
 "nbformat_minor": 5
}
