{
 "cells": [
  {
   "cell_type": "markdown",
   "id": "78110029-1171-4c41-9b64-a032a76f91a6",
   "metadata": {
    "tags": []
   },
   "source": [
    "Capa BatchNormalization --- 0:00 min\n",
    "===\n",
    "\n",
    "* Última modificación: Marzo 7, 2022 | YouTube\n",
    "\n",
    "* Adaptado de: https://keras.io/api/layers/normalization_layers/batch_normalization/"
   ]
  },
  {
   "cell_type": "markdown",
   "id": "6027fe4d-ed43-41fe-83ff-5c85134a957b",
   "metadata": {},
   "source": [
    "Normaliza las entradas. Esta capa aplica una transformación que mantiene la media de la salida cercana a 0 y la varianza de la salida cercana a 1."
   ]
  },
  {
   "cell_type": "markdown",
   "id": "c1a29280-6c22-482f-a020-158ca06de697",
   "metadata": {
    "tags": []
   },
   "source": [
    "Importación de librerías\n",
    "---"
   ]
  },
  {
   "cell_type": "code",
   "execution_count": 1,
   "id": "26b1ab2b-46ac-42f2-9795-b73114c99a86",
   "metadata": {},
   "outputs": [
    {
     "data": {
      "text/plain": [
       "'2.8.0'"
      ]
     },
     "execution_count": 1,
     "metadata": {},
     "output_type": "execute_result"
    }
   ],
   "source": [
    "import os\n",
    "\n",
    "os.environ[\"TF_CPP_MIN_LOG_LEVEL\"] = \"2\"\n",
    "\n",
    "import tensorflow as tf\n",
    "\n",
    "tf.__version__"
   ]
  },
  {
   "cell_type": "markdown",
   "id": "226b7f05-e870-4a35-ae41-e5552f57bd97",
   "metadata": {},
   "source": [
    "Ejemplos de uso\n",
    "---"
   ]
  },
  {
   "cell_type": "code",
   "execution_count": null,
   "id": "49e15836-8b25-4754-b70d-3a6fcb278edf",
   "metadata": {},
   "outputs": [],
   "source": []
  }
 ],
 "metadata": {
  "kernelspec": {
   "display_name": "Python 3 (ipykernel)",
   "language": "python",
   "name": "python3"
  },
  "language_info": {
   "codemirror_mode": {
    "name": "ipython",
    "version": 3
   },
   "file_extension": ".py",
   "mimetype": "text/x-python",
   "name": "python",
   "nbconvert_exporter": "python",
   "pygments_lexer": "ipython3",
   "version": "3.9.10"
  }
 },
 "nbformat": 4,
 "nbformat_minor": 5
}
