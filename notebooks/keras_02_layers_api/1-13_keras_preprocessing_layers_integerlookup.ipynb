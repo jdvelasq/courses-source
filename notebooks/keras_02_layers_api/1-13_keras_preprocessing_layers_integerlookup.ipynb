{
 "cells": [
  {
   "cell_type": "markdown",
   "id": "a209536b-d891-4234-b7cf-5ee173a132a2",
   "metadata": {
    "tags": []
   },
   "source": [
    "Capa IntegerLookup --- 0:00 min\n",
    "===\n",
    "\n",
    "* Última modificación: Marzo 7, 2022 | YouTube\n",
    "\n",
    "* Adaptado de: https://keras.io/api/layers/preprocessing_layers/categorical/integer_lookup/"
   ]
  },
  {
   "cell_type": "markdown",
   "id": "128867b4-2a3c-49d1-82c5-43ad92c6d8bc",
   "metadata": {
    "tags": []
   },
   "source": [
    "Importación de librerías\n",
    "---"
   ]
  },
  {
   "cell_type": "code",
   "execution_count": 1,
   "id": "6408249a-a6e9-4701-8277-bd2fd452073f",
   "metadata": {},
   "outputs": [
    {
     "data": {
      "text/plain": [
       "'2.8.0'"
      ]
     },
     "execution_count": 1,
     "metadata": {},
     "output_type": "execute_result"
    }
   ],
   "source": [
    "import os\n",
    "\n",
    "os.environ[\"TF_CPP_MIN_LOG_LEVEL\"] = \"2\"\n",
    "\n",
    "import tensorflow as tf\n",
    "\n",
    "tf.__version__"
   ]
  },
  {
   "cell_type": "markdown",
   "id": "0012d3cb-928b-49b3-8b6c-605ddf2ed00c",
   "metadata": {},
   "source": [
    "Ejemplos de uso\n",
    "---"
   ]
  },
  {
   "cell_type": "markdown",
   "id": "432e910b-33d2-46da-9089-52c69de0d86d",
   "metadata": {},
   "source": [
    "Mapea características enteras a rangos continuos."
   ]
  },
  {
   "cell_type": "code",
   "execution_count": 2,
   "id": "67527945-1112-4e59-bfe1-59b567d3350f",
   "metadata": {},
   "outputs": [
    {
     "data": {
      "text/plain": [
       "<tf.Tensor: shape=(2, 3), dtype=int64, numpy=\n",
       "array([[1, 3, 4],\n",
       "       [4, 0, 2]])>"
      ]
     },
     "execution_count": 2,
     "metadata": {},
     "output_type": "execute_result"
    }
   ],
   "source": [
    "#\n",
    "# Crea una capa con vocabulario conocido\n",
    "#\n",
    "vocab = [12, 36, 1138, 42]\n",
    "data = tf.constant(\n",
    "    [\n",
    "        [12, 1138, 42],\n",
    "        [42, 1000, 36],\n",
    "    ]\n",
    ")\n",
    "layer = tf.keras.layers.IntegerLookup(\n",
    "    vocabulary=vocab,\n",
    ")\n",
    "layer(data)"
   ]
  },
  {
   "cell_type": "code",
   "execution_count": 3,
   "id": "ec6f0712-293c-4c4e-bc22-b835434f1e93",
   "metadata": {},
   "outputs": [
    {
     "data": {
      "text/plain": [
       "[-1, 42, 1138, 1000, 36, 12]"
      ]
     },
     "execution_count": 3,
     "metadata": {},
     "output_type": "execute_result"
    }
   ],
   "source": [
    "#\n",
    "# Crea una capa con vocabulario adaptado\n",
    "#\n",
    "data = tf.constant(\n",
    "    [\n",
    "        [12, 1138, 42],\n",
    "        [42, 1000, 36],\n",
    "    ]\n",
    ")\n",
    "layer = tf.keras.layers.IntegerLookup()\n",
    "layer.adapt(data)\n",
    "layer.get_vocabulary()"
   ]
  },
  {
   "cell_type": "code",
   "execution_count": 4,
   "id": "e583fa0e-6b52-4306-8b67-a12f94814ddf",
   "metadata": {},
   "outputs": [
    {
     "data": {
      "text/plain": [
       "<tf.Tensor: shape=(2, 3), dtype=int64, numpy=\n",
       "array([[2, 4, 5],\n",
       "       [1, 0, 3]])>"
      ]
     },
     "execution_count": 4,
     "metadata": {},
     "output_type": "execute_result"
    }
   ],
   "source": [
    "#\n",
    "# Múltiples OOV índices\n",
    "#\n",
    "vocab = [12, 36, 1138, 42]\n",
    "data = tf.constant(\n",
    "    [\n",
    "        [12, 1138, 42],\n",
    "        [37, 1000, 36],\n",
    "    ]\n",
    ")\n",
    "layer = tf.keras.layers.IntegerLookup(\n",
    "    vocabulary=vocab,\n",
    "    num_oov_indices=2,\n",
    ")\n",
    "layer(data)"
   ]
  },
  {
   "cell_type": "code",
   "execution_count": 5,
   "id": "37488625-ce24-4b57-89b3-38820cde0684",
   "metadata": {},
   "outputs": [
    {
     "data": {
      "text/plain": [
       "<tf.Tensor: shape=(5, 5), dtype=float32, numpy=\n",
       "array([[0., 1., 0., 0., 0.],\n",
       "       [0., 0., 1., 0., 0.],\n",
       "       [0., 0., 0., 1., 0.],\n",
       "       [0., 0., 0., 0., 1.],\n",
       "       [1., 0., 0., 0., 0.]], dtype=float32)>"
      ]
     },
     "execution_count": 5,
     "metadata": {},
     "output_type": "execute_result"
    }
   ],
   "source": [
    "#\n",
    "# One-hot\n",
    "#\n",
    "vocab = [12, 36, 1138, 42]\n",
    "data = tf.constant([12, 36, 1138, 42, 7])\n",
    "layer = tf.keras.layers.IntegerLookup(\n",
    "    vocabulary=vocab,\n",
    "    output_mode=\"one_hot\",\n",
    ")\n",
    "layer(data)"
   ]
  },
  {
   "cell_type": "code",
   "execution_count": 6,
   "id": "cac39b11-00f4-45cf-85c3-35b07e25721d",
   "metadata": {},
   "outputs": [
    {
     "data": {
      "text/plain": [
       "<tf.Tensor: shape=(2, 5), dtype=float32, numpy=\n",
       "array([[0., 1., 0., 1., 1.],\n",
       "       [1., 0., 1., 0., 1.]], dtype=float32)>"
      ]
     },
     "execution_count": 6,
     "metadata": {},
     "output_type": "execute_result"
    }
   ],
   "source": [
    "#\n",
    "# Multi-hot\n",
    "#\n",
    "vocab = [12, 36, 1138, 42]\n",
    "data = tf.constant(\n",
    "    [\n",
    "        [12, 1138, 42, 42],\n",
    "        [42, 7, 36, 7],\n",
    "    ]\n",
    ")\n",
    "layer = tf.keras.layers.IntegerLookup(\n",
    "    vocabulary=vocab,\n",
    "    output_mode=\"multi_hot\",\n",
    ")\n",
    "layer(data)"
   ]
  },
  {
   "cell_type": "code",
   "execution_count": 7,
   "id": "6c90e1fa-5ccd-4550-aab8-6cda26570984",
   "metadata": {},
   "outputs": [
    {
     "data": {
      "text/plain": [
       "<tf.Tensor: shape=(2, 5), dtype=float32, numpy=\n",
       "array([[0., 1., 0., 1., 2.],\n",
       "       [2., 0., 1., 0., 1.]], dtype=float32)>"
      ]
     },
     "execution_count": 7,
     "metadata": {},
     "output_type": "execute_result"
    }
   ],
   "source": [
    "#\n",
    "# Token count\n",
    "#\n",
    "vocab = [12, 36, 1138, 42]\n",
    "data = tf.constant(\n",
    "    [\n",
    "        [12, 1138, 42, 42],\n",
    "        [42, 7, 36, 7],\n",
    "    ]\n",
    ")\n",
    "layer = tf.keras.layers.IntegerLookup(\n",
    "    vocabulary=vocab,\n",
    "    output_mode=\"count\",\n",
    ")\n",
    "layer(data)"
   ]
  },
  {
   "cell_type": "code",
   "execution_count": 8,
   "id": "4c0220e6-7119-40c9-bcd7-09abd43f998d",
   "metadata": {},
   "outputs": [
    {
     "data": {
      "text/plain": [
       "<tf.Tensor: shape=(2, 5), dtype=float32, numpy=\n",
       "array([[0.  , 0.25, 0.  , 0.6 , 0.8 ],\n",
       "       [1.  , 0.  , 0.75, 0.  , 0.4 ]], dtype=float32)>"
      ]
     },
     "execution_count": 8,
     "metadata": {},
     "output_type": "execute_result"
    }
   ],
   "source": [
    "#\n",
    "# Salida TF-IDF\n",
    "#\n",
    "vocab = [12, 36, 1138, 42]\n",
    "idf_weights = [0.25, 0.75, 0.6, 0.4]\n",
    "data = tf.constant(\n",
    "    [\n",
    "        [12, 1138, 42, 42],\n",
    "        [42, 7, 36, 7],\n",
    "    ]\n",
    ")\n",
    "layer = tf.keras.layers.IntegerLookup(\n",
    "    output_mode=\"tf_idf\",\n",
    "    vocabulary=vocab,\n",
    "    idf_weights=idf_weights,\n",
    ")\n",
    "layer(data)"
   ]
  },
  {
   "cell_type": "code",
   "execution_count": 9,
   "id": "5039d9d4-44f0-4496-b48a-e674a2f326fc",
   "metadata": {},
   "outputs": [
    {
     "data": {
      "text/plain": [
       "<tf.Tensor: shape=(2, 3), dtype=int64, numpy=\n",
       "array([[  12, 1138,   42],\n",
       "       [  42,   -1,   36]])>"
      ]
     },
     "execution_count": 9,
     "metadata": {},
     "output_type": "execute_result"
    }
   ],
   "source": [
    "#\n",
    "# Búsqueda inversa\n",
    "#\n",
    "vocab = [12, 36, 1138, 42]\n",
    "data = tf.constant(\n",
    "    [\n",
    "        [1, 3, 4],\n",
    "        [4, 0, 2],\n",
    "    ]\n",
    ")\n",
    "layer = tf.keras.layers.IntegerLookup(\n",
    "    vocabulary=vocab,\n",
    "    invert=True,\n",
    ")\n",
    "layer(data)"
   ]
  }
 ],
 "metadata": {
  "kernelspec": {
   "display_name": "Python 3 (ipykernel)",
   "language": "python",
   "name": "python3"
  },
  "language_info": {
   "codemirror_mode": {
    "name": "ipython",
    "version": 3
   },
   "file_extension": ".py",
   "mimetype": "text/x-python",
   "name": "python",
   "nbconvert_exporter": "python",
   "pygments_lexer": "ipython3",
   "version": "3.9.10"
  }
 },
 "nbformat": 4,
 "nbformat_minor": 5
}
