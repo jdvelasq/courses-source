{
 "cells": [
  {
   "cell_type": "markdown",
   "id": "6182de2a-eee0-4791-85a5-dfed680c7c07",
   "metadata": {
    "tags": []
   },
   "source": [
    "Inicialización de pesos en las capas --- 0:00 min\n",
    "===\n",
    "\n",
    "* Última modificación: Marzo 7, 2022 | YouTube\n",
    "\n",
    "* Adaptado de: https://keras.io/api/layers/initializers/"
   ]
  },
  {
   "cell_type": "markdown",
   "id": "3b4287a7-5fc5-4bcb-ac8a-c23d66afe8ff",
   "metadata": {
    "tags": []
   },
   "source": [
    "Importación de librerías\n",
    "---"
   ]
  },
  {
   "cell_type": "code",
   "execution_count": 1,
   "id": "3ae9f229-3186-4bf2-88ab-d92552ad2f40",
   "metadata": {},
   "outputs": [
    {
     "data": {
      "text/plain": [
       "'2.8.0'"
      ]
     },
     "execution_count": 1,
     "metadata": {},
     "output_type": "execute_result"
    }
   ],
   "source": [
    "import os\n",
    "\n",
    "os.environ[\"TF_CPP_MIN_LOG_LEVEL\"] = \"2\"\n",
    "\n",
    "import tensorflow as tf\n",
    "\n",
    "tf.__version__"
   ]
  },
  {
   "cell_type": "markdown",
   "id": "ae091728-e676-42ca-84c0-e34dcb3e223a",
   "metadata": {},
   "source": [
    "Uso de inicializadores\n",
    "--"
   ]
  },
  {
   "cell_type": "code",
   "execution_count": 2,
   "id": "db455095-912c-483b-918c-f4c0a5d4d962",
   "metadata": {},
   "outputs": [],
   "source": [
    "#\n",
    "# Opción 1\n",
    "#\n",
    "layer = tf.keras.layers.Dense(\n",
    "    units=64,\n",
    "    kernel_initializer=tf.keras.initializers.RandomNormal(stddev=0.01),\n",
    "    bias_initializer=tf.keras.initializers.Zeros(),\n",
    ")"
   ]
  },
  {
   "cell_type": "code",
   "execution_count": 3,
   "id": "2eb97245-a202-45a3-b6c5-6083f9d48534",
   "metadata": {},
   "outputs": [],
   "source": [
    "#\n",
    "# Opción 2\n",
    "#\n",
    "layer = tf.keras.layers.Dense(\n",
    "    units=64, kernel_initializer=\"random_normal\", bias_initializer=\"zeros\"\n",
    ")"
   ]
  },
  {
   "cell_type": "markdown",
   "id": "e71ab093-4ea5-435e-835b-0915a68e01ee",
   "metadata": {},
   "source": [
    "Inicializadores disponibles\n",
    "--"
   ]
  },
  {
   "cell_type": "markdown",
   "id": "dd6e9973-0b94-407b-8236-e7069b561b9e",
   "metadata": {},
   "source": [
    "**RandomNormal**"
   ]
  },
  {
   "cell_type": "code",
   "execution_count": 4,
   "id": "2e1405e7-e82b-4427-aaf3-ce3acff738b6",
   "metadata": {},
   "outputs": [
    {
     "data": {
      "text/plain": [
       "<tf.Tensor: shape=(2, 2), dtype=float32, numpy=\n",
       "array([[-0.48938656,  0.4790997 ],\n",
       "       [-0.7081518 ,  0.09535532]], dtype=float32)>"
      ]
     },
     "execution_count": 4,
     "metadata": {},
     "output_type": "execute_result"
    }
   ],
   "source": [
    "initializer = tf.keras.initializers.RandomNormal(\n",
    "    mean=0.0,\n",
    "    stddev=1.0,\n",
    ")\n",
    "initializer(\n",
    "    shape=(2, 2),\n",
    ")"
   ]
  },
  {
   "cell_type": "code",
   "execution_count": 5,
   "id": "9d32d9ca-0e93-4b86-82ba-659b3ec015be",
   "metadata": {},
   "outputs": [],
   "source": [
    "initializer = tf.keras.initializers.RandomNormal(\n",
    "    mean=0.0,\n",
    "    stddev=1.0,\n",
    ")\n",
    "layer = tf.keras.layers.Dense(\n",
    "    3,\n",
    "    kernel_initializer=initializer,\n",
    ")"
   ]
  },
  {
   "cell_type": "markdown",
   "id": "8494ff98-d403-4d25-9f3f-dae918c3f0a0",
   "metadata": {},
   "source": [
    "**RandomUniform**"
   ]
  },
  {
   "cell_type": "code",
   "execution_count": 6,
   "id": "09ce7898-e1b3-41b1-9092-0d715770f015",
   "metadata": {},
   "outputs": [
    {
     "data": {
      "text/plain": [
       "<tf.Tensor: shape=(2, 2), dtype=float32, numpy=\n",
       "array([[0.99648523, 0.46839   ],\n",
       "       [0.16169655, 0.143978  ]], dtype=float32)>"
      ]
     },
     "execution_count": 6,
     "metadata": {},
     "output_type": "execute_result"
    }
   ],
   "source": [
    "initializer = tf.keras.initializers.RandomUniform(\n",
    "    minval=0.0,\n",
    "    maxval=1.0,\n",
    ")\n",
    "initializer(\n",
    "    shape=(2, 2),\n",
    ")"
   ]
  },
  {
   "cell_type": "code",
   "execution_count": 7,
   "id": "5869bac1-27b4-484e-9286-9311fba1e4b1",
   "metadata": {},
   "outputs": [],
   "source": [
    "initializer = tf.keras.initializers.RandomUniform(\n",
    "    minval=0.0,\n",
    "    maxval=1.0,\n",
    ")\n",
    "layer = tf.keras.layers.Dense(\n",
    "    3,\n",
    "    kernel_initializer=initializer,\n",
    ")"
   ]
  },
  {
   "cell_type": "markdown",
   "id": "04114f3b-e556-4b8d-a158-9cfd7f0bede1",
   "metadata": {},
   "source": [
    "**TruncateNormal**"
   ]
  },
  {
   "cell_type": "code",
   "execution_count": 8,
   "id": "241ff306-24a6-451c-8eca-689baf480bc9",
   "metadata": {},
   "outputs": [
    {
     "data": {
      "text/plain": [
       "<tf.Tensor: shape=(2, 2), dtype=float32, numpy=\n",
       "array([[ 0.07993031, -0.6222534 ],\n",
       "       [-0.10998045, -1.5632824 ]], dtype=float32)>"
      ]
     },
     "execution_count": 8,
     "metadata": {},
     "output_type": "execute_result"
    }
   ],
   "source": [
    "#\n",
    "# Descarta los valores por fuera de dos desviaciones estándar\n",
    "#\n",
    "initializer = tf.keras.initializers.TruncatedNormal(\n",
    "    mean=0.0,\n",
    "    stddev=1.0,\n",
    ")\n",
    "initializer(\n",
    "    shape=(2, 2),\n",
    ")"
   ]
  },
  {
   "cell_type": "code",
   "execution_count": 9,
   "id": "cc938b60-92c8-4994-af8c-449b4d818e59",
   "metadata": {},
   "outputs": [],
   "source": [
    "initializer = tf.keras.initializers.TruncatedNormal(\n",
    "    mean=0.0,\n",
    "    stddev=1.0,\n",
    ")\n",
    "layer = tf.keras.layers.Dense(\n",
    "    3,\n",
    "    kernel_initializer=initializer,\n",
    ")"
   ]
  },
  {
   "cell_type": "markdown",
   "id": "c0e6bb06-cdf7-4293-92f7-a1f64b848d38",
   "metadata": {},
   "source": [
    "**Zeros**"
   ]
  },
  {
   "cell_type": "code",
   "execution_count": 10,
   "id": "9f16ce46-51a4-42d9-86ea-ec6a48eb8e78",
   "metadata": {},
   "outputs": [
    {
     "data": {
      "text/plain": [
       "<tf.Tensor: shape=(2, 2), dtype=float32, numpy=\n",
       "array([[0., 0.],\n",
       "       [0., 0.]], dtype=float32)>"
      ]
     },
     "execution_count": 10,
     "metadata": {},
     "output_type": "execute_result"
    }
   ],
   "source": [
    "initializer = tf.keras.initializers.Zeros()\n",
    "initializer(\n",
    "    shape=(2, 2),\n",
    ")"
   ]
  },
  {
   "cell_type": "code",
   "execution_count": 11,
   "id": "339b7934-7f12-4367-bbe5-ee348cefa455",
   "metadata": {},
   "outputs": [],
   "source": [
    "initializer = tf.keras.initializers.Zeros()\n",
    "layer = tf.keras.layers.Dense(\n",
    "    3,\n",
    "    kernel_initializer=initializer,\n",
    ")"
   ]
  },
  {
   "cell_type": "markdown",
   "id": "93787034-59ba-4a37-844c-5d27302704ee",
   "metadata": {},
   "source": [
    "**Ones**"
   ]
  },
  {
   "cell_type": "code",
   "execution_count": 12,
   "id": "c8623e3e-2bc7-4a01-a64c-c139d482e11d",
   "metadata": {},
   "outputs": [
    {
     "data": {
      "text/plain": [
       "<tf.Tensor: shape=(2, 2), dtype=float32, numpy=\n",
       "array([[1., 1.],\n",
       "       [1., 1.]], dtype=float32)>"
      ]
     },
     "execution_count": 12,
     "metadata": {},
     "output_type": "execute_result"
    }
   ],
   "source": [
    "initializer = tf.keras.initializers.Ones()\n",
    "initializer(\n",
    "    shape=(2, 2),\n",
    ")"
   ]
  },
  {
   "cell_type": "code",
   "execution_count": 13,
   "id": "c493d306-e9fc-4017-b1c8-57283b220d76",
   "metadata": {},
   "outputs": [],
   "source": [
    "initializer = tf.keras.initializers.Ones()\n",
    "layer = tf.keras.layers.Dense(\n",
    "    3,\n",
    "    kernel_initializer=initializer,\n",
    ")"
   ]
  },
  {
   "cell_type": "markdown",
   "id": "b915219d-18d4-4d5b-8cb1-300afb5992ea",
   "metadata": {},
   "source": [
    "**GlorotNormal**"
   ]
  },
  {
   "cell_type": "code",
   "execution_count": 14,
   "id": "e0287c1d-680a-44a8-bfc7-ac2e1dd7509a",
   "metadata": {},
   "outputs": [
    {
     "data": {
      "text/plain": [
       "<tf.Tensor: shape=(2, 2), dtype=float32, numpy=\n",
       "array([[ 1.0747541 , -0.9629612 ],\n",
       "       [-0.23607732, -0.02812083]], dtype=float32)>"
      ]
     },
     "execution_count": 14,
     "metadata": {},
     "output_type": "execute_result"
    }
   ],
   "source": [
    "#\n",
    "# Muestras aleatorias de una distribución normal truncada, centrada en 0 y con\n",
    "# una stddev = sqrt(2 / (fan_in + fan_out)), donde fan_in es el número de\n",
    "# neuronas de entrada y fan_out es el número de neuronas de salida\n",
    "#\n",
    "initializer = tf.keras.initializers.GlorotNormal()\n",
    "initializer(\n",
    "    shape=(2, 2),\n",
    ")"
   ]
  },
  {
   "cell_type": "code",
   "execution_count": 15,
   "id": "a41664a5-699d-4bd8-868d-e637ea76c984",
   "metadata": {},
   "outputs": [],
   "source": [
    "initializer = tf.keras.initializers.GlorotNormal()\n",
    "layer = tf.keras.layers.Dense(\n",
    "    3,\n",
    "    kernel_initializer=initializer,\n",
    ")"
   ]
  },
  {
   "cell_type": "markdown",
   "id": "0186a4b8-bd7e-4e4d-a683-898fb63b5d26",
   "metadata": {},
   "source": [
    "**GlorotUniform**"
   ]
  },
  {
   "cell_type": "code",
   "execution_count": 16,
   "id": "06505011-6c66-46d0-a11c-227005a027f5",
   "metadata": {},
   "outputs": [
    {
     "data": {
      "text/plain": [
       "<tf.Tensor: shape=(2, 2), dtype=float32, numpy=\n",
       "array([[-0.621108  ,  0.5849397 ],\n",
       "       [ 0.40255153, -0.707111  ]], dtype=float32)>"
      ]
     },
     "execution_count": 16,
     "metadata": {},
     "output_type": "execute_result"
    }
   ],
   "source": [
    "#\n",
    "# Muestras aleatorias de una distribución uniforme en (-limit, limit) donde\n",
    "# limit es limit = sqrt(6 / (fan_in + fan_out))\n",
    "#\n",
    "initializer = tf.keras.initializers.GlorotUniform()\n",
    "initializer(\n",
    "    shape=(2, 2),\n",
    ")"
   ]
  },
  {
   "cell_type": "code",
   "execution_count": 17,
   "id": "1bfea5d1-b89b-4cd1-a252-36c8dbf7a5a8",
   "metadata": {},
   "outputs": [],
   "source": [
    "initializer = tf.keras.initializers.GlorotUniform()\n",
    "layer = tf.keras.layers.Dense(\n",
    "    3,\n",
    "    kernel_initializer=initializer,\n",
    ")"
   ]
  },
  {
   "cell_type": "markdown",
   "id": "5f17deab-c130-4aae-ab73-be507beccd9c",
   "metadata": {},
   "source": [
    "**HeNormal**"
   ]
  },
  {
   "cell_type": "code",
   "execution_count": 18,
   "id": "7e5c0647-821d-49e8-93e3-62af2da5963c",
   "metadata": {},
   "outputs": [
    {
     "data": {
      "text/plain": [
       "<tf.Tensor: shape=(2, 2), dtype=float32, numpy=\n",
       "array([[ 1.2207036, -2.129395 ],\n",
       "       [ 0.7974296,  1.0268037]], dtype=float32)>"
      ]
     },
     "execution_count": 18,
     "metadata": {},
     "output_type": "execute_result"
    }
   ],
   "source": [
    "#\n",
    "# Muestras aleatorias de una distribución normal truncada con centro en 0 y\n",
    "# stddev = sqrt(2 / fan_in)\n",
    "#\n",
    "initializer = tf.keras.initializers.HeNormal()\n",
    "initializer(\n",
    "    shape=(2, 2),\n",
    ")"
   ]
  },
  {
   "cell_type": "code",
   "execution_count": 19,
   "id": "8b516e5e-4a58-4540-9f09-2d4780d907e3",
   "metadata": {},
   "outputs": [],
   "source": [
    "initializer = tf.keras.initializers.HeNormal()\n",
    "layer = tf.keras.layers.Dense(\n",
    "    3,\n",
    "    kernel_initializer=initializer,\n",
    ")"
   ]
  },
  {
   "cell_type": "markdown",
   "id": "0ffd6268-440d-48b3-8515-ff45dfaeaa01",
   "metadata": {},
   "source": [
    "**HeUniform**"
   ]
  },
  {
   "cell_type": "code",
   "execution_count": 20,
   "id": "d8bdecc7-103c-4630-be95-5b470a74bfef",
   "metadata": {},
   "outputs": [
    {
     "data": {
      "text/plain": [
       "<tf.Tensor: shape=(2, 2), dtype=float32, numpy=\n",
       "array([[ 1.362542  ,  0.54803836],\n",
       "       [-0.74073255, -1.5826889 ]], dtype=float32)>"
      ]
     },
     "execution_count": 20,
     "metadata": {},
     "output_type": "execute_result"
    }
   ],
   "source": [
    "#\n",
    "# Muestras aleatorias de una distribución uniforme en (-limit, limit) donde\n",
    "# limit es limit = sqrt(6 / fan_in)\n",
    "#\n",
    "initializer = tf.keras.initializers.HeUniform()\n",
    "initializer(\n",
    "    shape=(2, 2),\n",
    ")"
   ]
  },
  {
   "cell_type": "code",
   "execution_count": 21,
   "id": "5755de18-101f-43ba-94c3-38daccdf99f0",
   "metadata": {},
   "outputs": [],
   "source": [
    "initializer = tf.keras.initializers.HeUniform()\n",
    "layer = tf.keras.layers.Dense(\n",
    "    3,\n",
    "    kernel_initializer=initializer,\n",
    ")"
   ]
  },
  {
   "cell_type": "markdown",
   "id": "ed5b6909-95c5-40e9-a691-e1518f342214",
   "metadata": {},
   "source": [
    "**Identity**"
   ]
  },
  {
   "cell_type": "code",
   "execution_count": 22,
   "id": "fbdf404c-32ec-430b-8737-84e6288f0a30",
   "metadata": {},
   "outputs": [
    {
     "data": {
      "text/plain": [
       "<tf.Tensor: shape=(2, 2), dtype=float32, numpy=\n",
       "array([[1., 0.],\n",
       "       [0., 1.]], dtype=float32)>"
      ]
     },
     "execution_count": 22,
     "metadata": {},
     "output_type": "execute_result"
    }
   ],
   "source": [
    "initializer = tf.keras.initializers.Identity()\n",
    "initializer(\n",
    "    shape=(2, 2),\n",
    ")"
   ]
  },
  {
   "cell_type": "code",
   "execution_count": 23,
   "id": "2e265b64-9e75-4ea7-9e07-8d80c8902a99",
   "metadata": {},
   "outputs": [],
   "source": [
    "initializer = tf.keras.initializers.Identity()\n",
    "layer = tf.keras.layers.Dense(\n",
    "    3,\n",
    "    kernel_initializer=initializer,\n",
    ")"
   ]
  },
  {
   "cell_type": "markdown",
   "id": "5e125166-63f8-4fa7-ab04-03739596bc98",
   "metadata": {},
   "source": [
    "**Orthogonal**"
   ]
  },
  {
   "cell_type": "code",
   "execution_count": 24,
   "id": "61857a6e-a5da-46ec-8d03-ef33e6dba0f4",
   "metadata": {},
   "outputs": [
    {
     "data": {
      "text/plain": [
       "<tf.Tensor: shape=(2, 2), dtype=float32, numpy=\n",
       "array([[ 0.6444479 ,  0.7646481 ],\n",
       "       [ 0.7646481 , -0.64444804]], dtype=float32)>"
      ]
     },
     "execution_count": 24,
     "metadata": {},
     "output_type": "execute_result"
    }
   ],
   "source": [
    "initializer = tf.keras.initializers.Orthogonal()\n",
    "initializer(\n",
    "    shape=(2, 2),\n",
    ")"
   ]
  },
  {
   "cell_type": "code",
   "execution_count": 25,
   "id": "6e8f331f-2f00-4663-91ab-bd043ab92638",
   "metadata": {},
   "outputs": [],
   "source": [
    "initializer = tf.keras.initializers.Orthogonal()\n",
    "layer = tf.keras.layers.Dense(\n",
    "    3,\n",
    "    kernel_initializer=initializer,\n",
    ")"
   ]
  },
  {
   "cell_type": "markdown",
   "id": "baab9467-9cf8-463a-b7b3-e51d03734283",
   "metadata": {},
   "source": [
    "**Constant**"
   ]
  },
  {
   "cell_type": "code",
   "execution_count": 26,
   "id": "f9596e43-82b1-4727-b98f-de1467269531",
   "metadata": {},
   "outputs": [
    {
     "data": {
      "text/plain": [
       "<tf.Tensor: shape=(2, 2), dtype=float32, numpy=\n",
       "array([[3., 3.],\n",
       "       [3., 3.]], dtype=float32)>"
      ]
     },
     "execution_count": 26,
     "metadata": {},
     "output_type": "execute_result"
    }
   ],
   "source": [
    "initializer = tf.keras.initializers.Constant(3.0)\n",
    "initializer(\n",
    "    shape=(2, 2),\n",
    ")"
   ]
  },
  {
   "cell_type": "code",
   "execution_count": 27,
   "id": "530c6f05-2577-4df6-b70b-d09ebb0bd6dc",
   "metadata": {},
   "outputs": [],
   "source": [
    "initializer = tf.keras.initializers.Constant(3.0)\n",
    "layer = tf.keras.layers.Dense(\n",
    "    3,\n",
    "    kernel_initializer=initializer,\n",
    ")"
   ]
  },
  {
   "cell_type": "markdown",
   "id": "bbf76b89-887f-4da2-bd12-16f5dc72cadc",
   "metadata": {},
   "source": [
    "**VarianceScaling**"
   ]
  },
  {
   "cell_type": "code",
   "execution_count": 28,
   "id": "d4ec54a7-0e8b-4f33-83ed-15978196b9ed",
   "metadata": {},
   "outputs": [
    {
     "data": {
      "text/plain": [
       "<tf.Tensor: shape=(2, 2), dtype=float32, numpy=\n",
       "array([[-0.04169232, -0.3864935 ],\n",
       "       [ 0.31988037,  0.19993657]], dtype=float32)>"
      ]
     },
     "execution_count": 28,
     "metadata": {},
     "output_type": "execute_result"
    }
   ],
   "source": [
    "#\n",
    "# Inicializador adaptable al tamaño de los tensores de pesos.\n",
    "# Los valores son muestreados de una distribución normal\n",
    "# (distribution=\"truncated_normal\" o \"untruncated_normal\") con\n",
    "# media cero y stddev = sqrt(scale / n), donde n puede ser:\n",
    "#\n",
    "#   * mode=\"fan_in\": número de neuronas de la capa de entrada.\n",
    "#   * mode=\"fan_out\": número de neuronas de la capa de salida.\n",
    "#   * mode=\"fan_avg\": promedio del número de neuronas de entrada y salida.\n",
    "#\n",
    "# Los valores también pueden ser muestrados de una distribución\n",
    "# uniforme con limit = sqrt(3 * scale / n).\n",
    "#\n",
    "initializer = tf.keras.initializers.VarianceScaling(\n",
    "    scale=0.1,\n",
    "    mode=\"fan_in\",\n",
    "    distribution=\"uniform\",\n",
    ")\n",
    "initializer(\n",
    "    shape=(2, 2),\n",
    ")"
   ]
  },
  {
   "cell_type": "code",
   "execution_count": 29,
   "id": "4dbc70c0-b3cb-42b6-9f4b-0dd0e0eccf73",
   "metadata": {},
   "outputs": [],
   "source": [
    "initializer = tf.keras.initializers.VarianceScaling(\n",
    "    scale=0.1,\n",
    "    mode=\"fan_in\",\n",
    "    distribution=\"uniform\",\n",
    ")\n",
    "layer = tf.keras.layers.Dense(\n",
    "    3,\n",
    "    kernel_initializer=initializer,\n",
    ")"
   ]
  },
  {
   "cell_type": "markdown",
   "id": "c033fe3c-55d9-4071-ada3-514b10eb2155",
   "metadata": {},
   "source": [
    "**Inicializadores personalizados**"
   ]
  },
  {
   "cell_type": "code",
   "execution_count": 30,
   "id": "2b9e08ba-d7d7-4c67-826b-58c6b2342ea6",
   "metadata": {},
   "outputs": [],
   "source": [
    "def my_init(shape, dtype=None):\n",
    "    return tf.random.normal(\n",
    "        shape,\n",
    "        dtype=dtype,\n",
    "    )\n",
    "\n",
    "\n",
    "layer = tf.keras.layers.Dense(\n",
    "    64,\n",
    "    kernel_initializer=my_init,\n",
    ")"
   ]
  },
  {
   "cell_type": "code",
   "execution_count": 31,
   "id": "e3cb338a-c8b2-47ba-a141-b70fb0746137",
   "metadata": {},
   "outputs": [],
   "source": [
    "class ExampleRandomNormal(tf.keras.initializers.Initializer):\n",
    "    def __init__(self, mean, stddev):\n",
    "        self.mean = mean\n",
    "        self.stddev = stddev\n",
    "\n",
    "    def __call__(self, shape, dtype=None):\n",
    "        return tf.random.normal(\n",
    "            shape,\n",
    "            mean=self.mean,\n",
    "            stddev=self.stddev,\n",
    "            dtype=dtype,\n",
    "        )\n",
    "\n",
    "    def get_config(self):\n",
    "        return {\n",
    "            \"mean\": self.mean,\n",
    "            \"stddev\": self.stddev,\n",
    "        }"
   ]
  }
 ],
 "metadata": {
  "kernelspec": {
   "display_name": "Python 3 (ipykernel)",
   "language": "python",
   "name": "python3"
  },
  "language_info": {
   "codemirror_mode": {
    "name": "ipython",
    "version": 3
   },
   "file_extension": ".py",
   "mimetype": "text/x-python",
   "name": "python",
   "nbconvert_exporter": "python",
   "pygments_lexer": "ipython3",
   "version": "3.9.10"
  }
 },
 "nbformat": 4,
 "nbformat_minor": 5
}
