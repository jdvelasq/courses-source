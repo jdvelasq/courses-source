{
 "cells": [
  {
   "cell_type": "markdown",
   "id": "eb0425c6-b3d9-41a4-b5f9-bd1de614fa87",
   "metadata": {},
   "source": [
    "Comandos avanzados\n",
    "===========================================================\n",
    "\n",
    "* Última modificación: Mayo 16, 2022 | YouTube"
   ]
  },
  {
   "cell_type": "markdown",
   "id": "26ecd3c2-8ba6-4d14-9585-eac7b3a86675",
   "metadata": {},
   "source": [
    "Preparación\n",
    "--"
   ]
  },
  {
   "cell_type": "code",
   "execution_count": 1,
   "id": "5a1daed4-4323-434d-bb57-118c04cb904a",
   "metadata": {},
   "outputs": [
    {
     "name": "stdout",
     "output_type": "stream",
     "text": [
      "/tmp/csvkit_tutorial\n"
     ]
    }
   ],
   "source": [
    "!mkdir -p /tmp/csvkit_tutorial\n",
    "%cd /tmp/csvkit_tutorial\n",
    "!curl -L -O --silent https://raw.githubusercontent.com/wireservice/csvkit/master/examples/realdata/ne_1033_data.xlsx\n",
    "!curl -L -O --silent https://raw.githubusercontent.com/wireservice/csvkit/master/examples/realdata/acs2012_5yr_population.csv\n",
    "!in2csv ne_1033_data.xlsx > data.csv"
   ]
  },
  {
   "cell_type": "markdown",
   "id": "29603363-a5af-46b1-82b4-553fe9cb89a2",
   "metadata": {},
   "source": [
    "csvjson\n",
    "--"
   ]
  },
  {
   "cell_type": "code",
   "execution_count": 2,
   "id": "be805cfe-32e3-458d-8cf5-8f6e8eeee7d3",
   "metadata": {},
   "outputs": [
    {
     "name": "stdout",
     "output_type": "stream",
     "text": [
      "[\n",
      "    {\n",
      "        \"county\": \"GREELEY\",\n",
      "        \"item_name\": \"RIFLE,7.62 MILLIMETER\"\n",
      "    },\n",
      "    {\n",
      "        \"county\": \"GREELEY\",\n",
      "        \"item_name\": \"RIFLE,7.62 MILLIMETER\"\n",
      "    },\n",
      "    {\n",
      "        \"county\": \"GREELEY\",\n",
      "        \"item_name\": \"RIFLE,7.62 MILLIMETER\"\n",
      "    }\n",
      "]"
     ]
    }
   ],
   "source": [
    "!csvcut -c county,item_name data.csv | csvgrep -c county -m \"GREELEY\" | csvjson --indent 4"
   ]
  },
  {
   "cell_type": "code",
   "execution_count": 3,
   "id": "d8498ed0-4cdb-4655-a071-957743846af7",
   "metadata": {},
   "outputs": [
    {
     "name": "stdout",
     "output_type": "stream",
     "text": [
      "{\n",
      "    \"31001\": {\n",
      "        \"fips\": 31001.0,\n",
      "        \"name\": \"Adams County, NE\",\n",
      "        \"total_population\": 31299.0,\n",
      "        \"margin_of_error\": 0.0\n",
      "    },\n",
      "    \"31003\": {\n",
      "        \"fips\": 31003.0,\n",
      "        \"name\": \"Antelope County, NE\",\n"
     ]
    }
   ],
   "source": [
    "!csvjson --indent 4 --key fips acs2012_5yr_population.csv | head"
   ]
  },
  {
   "cell_type": "markdown",
   "id": "e52971c4-0051-4454-b210-3e9ffd200b4a",
   "metadata": {},
   "source": [
    "csvpy\n",
    "---"
   ]
  },
  {
   "cell_type": "markdown",
   "id": "4be93018-2e81-427a-a98c-95e0427bf6f2",
   "metadata": {},
   "source": [
    "```bash\n",
    "$ csvpy data.csv\n",
    "```\n",
    "```python\n",
    "Welcome! \"data.csv\" has been loaded in a reader object named \"reader\".\n",
    ">>> print(len(list(reader)))\n",
    "1037\n",
    "```"
   ]
  },
  {
   "cell_type": "markdown",
   "id": "1c2f0ee4-a161-459c-92b0-247a403a2fff",
   "metadata": {},
   "source": [
    "csvformat\n",
    "---"
   ]
  },
  {
   "cell_type": "code",
   "execution_count": 4,
   "id": "66e722d2-4647-4305-b87d-2c258de29f0a",
   "metadata": {},
   "outputs": [
    {
     "name": "stdout",
     "output_type": "stream",
     "text": [
      "state|county|fips|nsn|item_name|quantity|ui|acquisition_cost|total_cost|ship_date|federal_supply_category|federal_supply_category_name|federal_supply_class|federal_supply_class_name\n",
      "NE|ADAMS|31001.0|1005-00-589-1271|RIFLE,7.62 MILLIMETER|1.0|Each|138.0|138.0|2008-07-11|10.0|WEAPONS|1005.0|Guns, through 30 mm\n",
      "NE|ADAMS|31001.0|1005-00-589-1271|RIFLE,7.62 MILLIMETER|1.0|Each|138.0|138.0|2008-07-11|10.0|WEAPONS|1005.0|Guns, through 30 mm\n",
      "NE|ADAMS|31001.0|1005-00-589-1271|RIFLE,7.62 MILLIMETER|1.0|Each|138.0|138.0|2008-07-11|10.0|WEAPONS|1005.0|Guns, through 30 mm\n",
      "NE|ADAMS|31001.0|1005-00-589-1271|RIFLE,7.62 MILLIMETER|1.0|Each|138.0|138.0|2008-07-11|10.0|WEAPONS|1005.0|Guns, through 30 mm\n",
      "NE|ADAMS|31001.0|1005-00-589-1271|RIFLE,7.62 MILLIMETER|1.0|Each|138.0|138.0|2008-07-11|10.0|WEAPONS|1005.0|Guns, through 30 mm\n",
      "NE|ADAMS|31001.0|1005-00-589-1271|RIFLE,7.62 MILLIMETER|1.0|Each|138.0|138.0|2008-07-11|10.0|WEAPONS|1005.0|Guns, through 30 mm\n",
      "NE|BUFFALO|31019.0|1005-00-073-9421|RIFLE,5.56 MILLIMETER|1.0|Each|499.0|499.0|2008-09-24|10.0|WEAPONS|1005.0|Guns, through 30 mm\n",
      "NE|BUFFALO|31019.0|1005-00-073-9421|RIFLE,5.56 MILLIMETER|1.0|Each|499.0|499.0|2008-09-24|10.0|WEAPONS|1005.0|Guns, through 30 mm\n",
      "NE|BUFFALO|31019.0|1005-00-073-9421|RIFLE,5.56 MILLIMETER|1.0|Each|499.0|499.0|2008-09-24|10.0|WEAPONS|1005.0|Guns, through 30 mm\n"
     ]
    }
   ],
   "source": [
    "!csvformat -D \\| data.csv | head"
   ]
  },
  {
   "cell_type": "code",
   "execution_count": 5,
   "id": "6995e6ea-3d75-4f4f-a72a-116e84f4b947",
   "metadata": {},
   "outputs": [
    {
     "name": "stdout",
     "output_type": "stream",
     "text": [
      "state\tcounty\tfips\tnsn\titem_name\tquantity\tui\tacquisition_cost\ttotal_cost\tship_date\tfederal_supply_category\tfederal_supply_category_name\tfederal_supply_class\tfederal_supply_class_name\n",
      "NE\tADAMS\t31001.0\t1005-00-589-1271\tRIFLE,7.62 MILLIMETER\t1.0\tEach\t138.0\t138.0\t2008-07-11\t10.0\tWEAPONS\t1005.0\tGuns, through 30 mm\n",
      "NE\tADAMS\t31001.0\t1005-00-589-1271\tRIFLE,7.62 MILLIMETER\t1.0\tEach\t138.0\t138.0\t2008-07-11\t10.0\tWEAPONS\t1005.0\tGuns, through 30 mm\n",
      "NE\tADAMS\t31001.0\t1005-00-589-1271\tRIFLE,7.62 MILLIMETER\t1.0\tEach\t138.0\t138.0\t2008-07-11\t10.0\tWEAPONS\t1005.0\tGuns, through 30 mm\n",
      "NE\tADAMS\t31001.0\t1005-00-589-1271\tRIFLE,7.62 MILLIMETER\t1.0\tEach\t138.0\t138.0\t2008-07-11\t10.0\tWEAPONS\t1005.0\tGuns, through 30 mm\n",
      "NE\tADAMS\t31001.0\t1005-00-589-1271\tRIFLE,7.62 MILLIMETER\t1.0\tEach\t138.0\t138.0\t2008-07-11\t10.0\tWEAPONS\t1005.0\tGuns, through 30 mm\n",
      "NE\tADAMS\t31001.0\t1005-00-589-1271\tRIFLE,7.62 MILLIMETER\t1.0\tEach\t138.0\t138.0\t2008-07-11\t10.0\tWEAPONS\t1005.0\tGuns, through 30 mm\n",
      "NE\tBUFFALO\t31019.0\t1005-00-073-9421\tRIFLE,5.56 MILLIMETER\t1.0\tEach\t499.0\t499.0\t2008-09-24\t10.0\tWEAPONS\t1005.0\tGuns, through 30 mm\n",
      "NE\tBUFFALO\t31019.0\t1005-00-073-9421\tRIFLE,5.56 MILLIMETER\t1.0\tEach\t499.0\t499.0\t2008-09-24\t10.0\tWEAPONS\t1005.0\tGuns, through 30 mm\n",
      "NE\tBUFFALO\t31019.0\t1005-00-073-9421\tRIFLE,5.56 MILLIMETER\t1.0\tEach\t499.0\t499.0\t2008-09-24\t10.0\tWEAPONS\t1005.0\tGuns, through 30 mm\n"
     ]
    }
   ],
   "source": [
    "!csvformat -T data.csv | head"
   ]
  },
  {
   "cell_type": "code",
   "execution_count": 6,
   "id": "f6c1bd51-2b34-4334-8ef9-9fd247186ac6",
   "metadata": {},
   "outputs": [
    {
     "name": "stdout",
     "output_type": "stream",
     "text": [
      "\"state\",\"county\",\"fips\",\"nsn\",\"item_name\",\"quantity\",\"ui\",\"acquisition_cost\",\"total_cost\",\"ship_date\",\"federal_supply_category\",\"federal_supply_category_name\",\"federal_supply_class\",\"federal_supply_class_name\"\n",
      "\"NE\",\"ADAMS\",\"31001.0\",\"1005-00-589-1271\",\"RIFLE,7.62 MILLIMETER\",\"1.0\",\"Each\",\"138.0\",\"138.0\",\"2008-07-11\",\"10.0\",\"WEAPONS\",\"1005.0\",\"Guns, through 30 mm\"\n",
      "\"NE\",\"ADAMS\",\"31001.0\",\"1005-00-589-1271\",\"RIFLE,7.62 MILLIMETER\",\"1.0\",\"Each\",\"138.0\",\"138.0\",\"2008-07-11\",\"10.0\",\"WEAPONS\",\"1005.0\",\"Guns, through 30 mm\"\n",
      "\"NE\",\"ADAMS\",\"31001.0\",\"1005-00-589-1271\",\"RIFLE,7.62 MILLIMETER\",\"1.0\",\"Each\",\"138.0\",\"138.0\",\"2008-07-11\",\"10.0\",\"WEAPONS\",\"1005.0\",\"Guns, through 30 mm\"\n",
      "\"NE\",\"ADAMS\",\"31001.0\",\"1005-00-589-1271\",\"RIFLE,7.62 MILLIMETER\",\"1.0\",\"Each\",\"138.0\",\"138.0\",\"2008-07-11\",\"10.0\",\"WEAPONS\",\"1005.0\",\"Guns, through 30 mm\"\n",
      "\"NE\",\"ADAMS\",\"31001.0\",\"1005-00-589-1271\",\"RIFLE,7.62 MILLIMETER\",\"1.0\",\"Each\",\"138.0\",\"138.0\",\"2008-07-11\",\"10.0\",\"WEAPONS\",\"1005.0\",\"Guns, through 30 mm\"\n",
      "\"NE\",\"ADAMS\",\"31001.0\",\"1005-00-589-1271\",\"RIFLE,7.62 MILLIMETER\",\"1.0\",\"Each\",\"138.0\",\"138.0\",\"2008-07-11\",\"10.0\",\"WEAPONS\",\"1005.0\",\"Guns, through 30 mm\"\n",
      "\"NE\",\"BUFFALO\",\"31019.0\",\"1005-00-073-9421\",\"RIFLE,5.56 MILLIMETER\",\"1.0\",\"Each\",\"499.0\",\"499.0\",\"2008-09-24\",\"10.0\",\"WEAPONS\",\"1005.0\",\"Guns, through 30 mm\"\n",
      "\"NE\",\"BUFFALO\",\"31019.0\",\"1005-00-073-9421\",\"RIFLE,5.56 MILLIMETER\",\"1.0\",\"Each\",\"499.0\",\"499.0\",\"2008-09-24\",\"10.0\",\"WEAPONS\",\"1005.0\",\"Guns, through 30 mm\"\n",
      "\"NE\",\"BUFFALO\",\"31019.0\",\"1005-00-073-9421\",\"RIFLE,5.56 MILLIMETER\",\"1.0\",\"Each\",\"499.0\",\"499.0\",\"2008-09-24\",\"10.0\",\"WEAPONS\",\"1005.0\",\"Guns, through 30 mm\"\n"
     ]
    }
   ],
   "source": [
    "!csvformat -U 1 data.csv | head"
   ]
  }
 ],
 "metadata": {
  "kernelspec": {
   "display_name": "Python 3 (ipykernel)",
   "language": "python",
   "name": "python3"
  },
  "language_info": {
   "codemirror_mode": {
    "name": "ipython",
    "version": 3
   },
   "file_extension": ".py",
   "mimetype": "text/x-python",
   "name": "python",
   "nbconvert_exporter": "python",
   "pygments_lexer": "ipython3",
   "version": "3.8.10"
  }
 },
 "nbformat": 4,
 "nbformat_minor": 5
}
