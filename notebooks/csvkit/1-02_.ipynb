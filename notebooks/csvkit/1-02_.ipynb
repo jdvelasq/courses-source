{
 "cells": [
  {
   "cell_type": "markdown",
   "id": "a6e80c6a-fbcf-4a8f-baae-9841c6e4e2e6",
   "metadata": {},
   "source": [
    "Exámen de los datos\n",
    "===========================================================\n",
    "\n",
    "* Última modificación: Mayo 16, 2022 | YouTube"
   ]
  },
  {
   "cell_type": "markdown",
   "id": "4c5a5d14-2f3f-4986-8886-d1b2abb622c8",
   "metadata": {},
   "source": [
    "Preparación\n",
    "--"
   ]
  },
  {
   "cell_type": "code",
   "execution_count": 1,
   "id": "6f3dec1d-e9c4-4fb7-a27a-21c98e92b09a",
   "metadata": {},
   "outputs": [
    {
     "name": "stdout",
     "output_type": "stream",
     "text": [
      "/tmp/csvkit_tutorial\n"
     ]
    }
   ],
   "source": [
    "!mkdir -p /tmp/csvkit_tutorial\n",
    "%cd /tmp/csvkit_tutorial\n",
    "!curl -L -O --silent https://raw.githubusercontent.com/wireservice/csvkit/master/examples/realdata/ne_1033_data.xlsx\n",
    "!in2csv ne_1033_data.xlsx > data.csv"
   ]
  },
  {
   "cell_type": "markdown",
   "id": "c511a2d6-b35d-4f14-9f9a-1565ee396874",
   "metadata": {},
   "source": [
    "csvstat\n",
    "--"
   ]
  },
  {
   "cell_type": "code",
   "execution_count": 2,
   "id": "563e5784-a9ab-4aba-a885-c261e261c0a2",
   "metadata": {},
   "outputs": [
    {
     "name": "stdout",
     "output_type": "stream",
     "text": [
      "  1. \"county\"\n",
      "\n",
      "\tType of data:          Text\n",
      "\tContains null values:  False\n",
      "\tUnique values:         35\n",
      "\tLongest value:         10 characters\n",
      "\tMost common values:    DOUGLAS (760x)\n",
      "\t                       DAKOTA (42x)\n",
      "\t                       CASS (37x)\n",
      "\t                       HALL (23x)\n",
      "\t                       LANCASTER (18x)\n",
      "\n",
      "  2. \"acquisition_cost\"\n",
      "\n",
      "\tType of data:          Number\n",
      "\tContains null values:  False\n",
      "\tUnique values:         75\n",
      "\tSmallest value:        0\n",
      "\tLargest value:         412000\n",
      "\tSum:                   5430787.55\n",
      "\tMean:                  5242.073\n",
      "\tMedian:                6000\n",
      "\tStDev:                 13368.078\n",
      "\tMost common values:    6800 (304x)\n",
      "\t                       10747 (195x)\n",
      "\t                       6000 (105x)\n",
      "\t                       499 (98x)\n",
      "\t                       0 (81x)\n",
      "\n",
      "  3. \"ship_date\"\n",
      "\n",
      "\tType of data:          Date\n",
      "\tContains null values:  False\n",
      "\tUnique values:         84\n",
      "\tSmallest value:        2006-03-07\n",
      "\tLargest value:         2014-01-30\n",
      "\tMost common values:    2013-04-25 (495x)\n",
      "\t                       2013-04-26 (160x)\n",
      "\t                       2008-05-20 (28x)\n",
      "\t                       2012-04-16 (26x)\n",
      "\t                       2006-11-17 (20x)\n",
      "\n",
      "Row count: 1036\n"
     ]
    }
   ],
   "source": [
    "!csvcut -c county,acquisition_cost,ship_date data.csv | csvstat"
   ]
  },
  {
   "cell_type": "markdown",
   "id": "cd98ab58-b0aa-4b97-91c8-f4ef66d89171",
   "metadata": {},
   "source": [
    "csvgrep\n",
    "---"
   ]
  },
  {
   "cell_type": "code",
   "execution_count": 3,
   "id": "305d28ad-768b-4ea1-acbe-f3a4faba99a0",
   "metadata": {},
   "outputs": [
    {
     "name": "stdout",
     "output_type": "stream",
     "text": [
      "| county    | item_name                      | total_cost |\n",
      "| --------- | ------------------------------ | ---------- |\n",
      "| LANCASTER | RIFLE,5.56 MILLIMETER          |        120 |\n",
      "| LANCASTER | RIFLE,5.56 MILLIMETER          |        120 |\n",
      "| LANCASTER | RIFLE,5.56 MILLIMETER          |        120 |\n",
      "| LANCASTER | RIFLE,5.56 MILLIMETER          |        120 |\n",
      "| LANCASTER | RIFLE,5.56 MILLIMETER          |        120 |\n",
      "| LANCASTER | RIFLE,5.56 MILLIMETER          |        120 |\n",
      "| LANCASTER | RIFLE,5.56 MILLIMETER          |        120 |\n",
      "| LANCASTER | RIFLE,5.56 MILLIMETER          |        120 |\n",
      "| LANCASTER | RIFLE,5.56 MILLIMETER          |        120 |\n",
      "| LANCASTER | RIFLE,5.56 MILLIMETER          |        120 |\n",
      "| LANCASTER | LIGHT ARMORED VEHICLE          |          0 |\n",
      "| LANCASTER | LIGHT ARMORED VEHICLE          |          0 |\n",
      "| LANCASTER | LIGHT ARMORED VEHICLE          |          0 |\n",
      "| LANCASTER | MINE RESISTANT VEHICLE         |    412,000 |\n",
      "| LANCASTER | IMAGE INTENSIFIER,NIGHT VISION |      6,800 |\n",
      "| LANCASTER | IMAGE INTENSIFIER,NIGHT VISION |      6,800 |\n",
      "| LANCASTER | IMAGE INTENSIFIER,NIGHT VISION |      6,800 |\n",
      "| LANCASTER | IMAGE INTENSIFIER,NIGHT VISION |      6,800 |\n"
     ]
    }
   ],
   "source": [
    "!csvcut -c county,item_name,total_cost data.csv | csvgrep -c county -m LANCASTER | csvlook"
   ]
  },
  {
   "cell_type": "markdown",
   "id": "f363296a-5ebf-4042-9ea4-54c90386a556",
   "metadata": {},
   "source": [
    "csvsort\n",
    "--"
   ]
  },
  {
   "cell_type": "code",
   "execution_count": 4,
   "id": "77dbd31d-1f02-4add-8198-5f5de7ec18ed",
   "metadata": {},
   "outputs": [
    {
     "name": "stdout",
     "output_type": "stream",
     "text": [
      "| county    | item_name                      | total_cost |\n",
      "| --------- | ------------------------------ | ---------- |\n",
      "| LANCASTER | MINE RESISTANT VEHICLE         |    412,000 |\n",
      "| LANCASTER | IMAGE INTENSIFIER,NIGHT VISION |      6,800 |\n",
      "| LANCASTER | IMAGE INTENSIFIER,NIGHT VISION |      6,800 |\n",
      "| LANCASTER | IMAGE INTENSIFIER,NIGHT VISION |      6,800 |\n",
      "| LANCASTER | IMAGE INTENSIFIER,NIGHT VISION |      6,800 |\n",
      "| LANCASTER | RIFLE,5.56 MILLIMETER          |        120 |\n",
      "| LANCASTER | RIFLE,5.56 MILLIMETER          |        120 |\n",
      "| LANCASTER | RIFLE,5.56 MILLIMETER          |        120 |\n",
      "| LANCASTER | RIFLE,5.56 MILLIMETER          |        120 |\n",
      "| LANCASTER | RIFLE,5.56 MILLIMETER          |        120 |\n",
      "| LANCASTER | RIFLE,5.56 MILLIMETER          |        120 |\n",
      "| LANCASTER | RIFLE,5.56 MILLIMETER          |        120 |\n",
      "| LANCASTER | RIFLE,5.56 MILLIMETER          |        120 |\n",
      "| LANCASTER | RIFLE,5.56 MILLIMETER          |        120 |\n",
      "| LANCASTER | RIFLE,5.56 MILLIMETER          |        120 |\n",
      "| LANCASTER | LIGHT ARMORED VEHICLE          |          0 |\n",
      "| LANCASTER | LIGHT ARMORED VEHICLE          |          0 |\n",
      "| LANCASTER | LIGHT ARMORED VEHICLE          |          0 |\n"
     ]
    }
   ],
   "source": [
    "!csvcut -c county,item_name,total_cost data.csv | csvgrep -c county -m LANCASTER | csvsort -c total_cost -r | csvlook"
   ]
  }
 ],
 "metadata": {
  "kernelspec": {
   "display_name": "Python 3 (ipykernel)",
   "language": "python",
   "name": "python3"
  },
  "language_info": {
   "codemirror_mode": {
    "name": "ipython",
    "version": 3
   },
   "file_extension": ".py",
   "mimetype": "text/x-python",
   "name": "python",
   "nbconvert_exporter": "python",
   "pygments_lexer": "ipython3",
   "version": "3.8.10"
  }
 },
 "nbformat": 4,
 "nbformat_minor": 5
}
