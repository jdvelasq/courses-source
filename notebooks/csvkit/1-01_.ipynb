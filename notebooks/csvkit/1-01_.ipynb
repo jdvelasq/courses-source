{
 "cells": [
  {
   "cell_type": "markdown",
   "id": "6abbbd24-03e0-4e57-b336-bc16d88718a5",
   "metadata": {},
   "source": [
    "Introducción a csvkit\n",
    "===========================================================\n",
    "\n",
    "* Última modificación: Mayo 16, 2022 | YouTube"
   ]
  },
  {
   "cell_type": "markdown",
   "id": "ab328a13-b0ba-4be2-88cb-25edc9ddee0b",
   "metadata": {},
   "source": [
    "Descarga de los datos\n",
    "--"
   ]
  },
  {
   "cell_type": "code",
   "execution_count": 1,
   "id": "b8860a9a-3d92-45de-932c-0e7f279a0e56",
   "metadata": {},
   "outputs": [
    {
     "name": "stdout",
     "output_type": "stream",
     "text": [
      "/tmp/csvkit_tutorial\n"
     ]
    }
   ],
   "source": [
    "#\n",
    "# Crea un archivo temporal para el tutorial\n",
    "#\n",
    "!mkdir -p /tmp/csvkit_tutorial\n",
    "\n",
    "#\n",
    "# Cambia el directorio de trabajo del notebook al temporal\n",
    "#\n",
    "%cd /tmp/csvkit_tutorial"
   ]
  },
  {
   "cell_type": "code",
   "execution_count": 2,
   "id": "6f37c640-ecaa-4a32-881a-45480e4fcc77",
   "metadata": {},
   "outputs": [
    {
     "name": "stdout",
     "output_type": "stream",
     "text": [
      "  % Total    % Received % Xferd  Average Speed   Time    Time     Time  Current\n",
      "                                 Dload  Upload   Total   Spent    Left  Speed\n",
      "100 65331  100 65331    0     0   428k      0 --:--:-- --:--:-- --:--:--  428k\n"
     ]
    }
   ],
   "source": [
    "#\n",
    "# Descarga de los datos\n",
    "#\n",
    "!curl -L -O https://raw.githubusercontent.com/wireservice/csvkit/master/examples/realdata/ne_1033_data.xlsx"
   ]
  },
  {
   "cell_type": "code",
   "execution_count": 3,
   "id": "f026b4ff-5af4-460f-9113-e83d0b7539ec",
   "metadata": {},
   "outputs": [
    {
     "name": "stdout",
     "output_type": "stream",
     "text": [
      "data.csv  ne_1033_data.xlsx\n"
     ]
    }
   ],
   "source": [
    "!ls"
   ]
  },
  {
   "cell_type": "markdown",
   "id": "d2e8d938-3510-42c7-ba7d-df6faee38120",
   "metadata": {},
   "source": [
    "in2csv\n",
    "--"
   ]
  },
  {
   "cell_type": "code",
   "execution_count": 4,
   "id": "8e55187c-7238-4f2d-afbf-9efbd2cb353a",
   "metadata": {},
   "outputs": [],
   "source": [
    "#\n",
    "# Exporta el archivo xlsx a CSV\n",
    "#\n",
    "!in2csv ne_1033_data.xlsx > data.csv"
   ]
  },
  {
   "cell_type": "code",
   "execution_count": 5,
   "id": "adec1b75-7ba1-4bda-933c-4c428d9e97a8",
   "metadata": {},
   "outputs": [
    {
     "name": "stdout",
     "output_type": "stream",
     "text": [
      "state,county,fips,nsn,item_name,quantity,ui,acquisition_cost,total_cost,ship_date,federal_supply_category,federal_supply_category_name,federal_supply_class,federal_supply_class_name\n",
      "NE,ADAMS,31001.0,1005-00-589-1271,\"RIFLE,7.62 MILLIMETER\",1.0,Each,138.0,138.0,2008-07-11,10.0,WEAPONS,1005.0,\"Guns, through 30 mm\"\n",
      "NE,ADAMS,31001.0,1005-00-589-1271,\"RIFLE,7.62 MILLIMETER\",1.0,Each,138.0,138.0,2008-07-11,10.0,WEAPONS,1005.0,\"Guns, through 30 mm\"\n",
      "NE,ADAMS,31001.0,1005-00-589-1271,\"RIFLE,7.62 MILLIMETER\",1.0,Each,138.0,138.0,2008-07-11,10.0,WEAPONS,1005.0,\"Guns, through 30 mm\"\n",
      "NE,ADAMS,31001.0,1005-00-589-1271,\"RIFLE,7.62 MILLIMETER\",1.0,Each,138.0,138.0,2008-07-11,10.0,WEAPONS,1005.0,\"Guns, through 30 mm\"\n",
      "NE,ADAMS,31001.0,1005-00-589-1271,\"RIFLE,7.62 MILLIMETER\",1.0,Each,138.0,138.0,2008-07-11,10.0,WEAPONS,1005.0,\"Guns, through 30 mm\"\n",
      "NE,ADAMS,31001.0,1005-00-589-1271,\"RIFLE,7.62 MILLIMETER\",1.0,Each,138.0,138.0,2008-07-11,10.0,WEAPONS,1005.0,\"Guns, through 30 mm\"\n",
      "NE,BUFFALO,31019.0,1005-00-073-9421,\"RIFLE,5.56 MILLIMETER\",1.0,Each,499.0,499.0,2008-09-24,10.0,WEAPONS,1005.0,\"Guns, through 30 mm\"\n",
      "NE,BUFFALO,31019.0,1005-00-073-9421,\"RIFLE,5.56 MILLIMETER\",1.0,Each,499.0,499.0,2008-09-24,10.0,WEAPONS,1005.0,\"Guns, through 30 mm\"\n",
      "NE,BUFFALO,31019.0,1005-00-073-9421,\"RIFLE,5.56 MILLIMETER\",1.0,Each,499.0,499.0,2008-09-24,10.0,WEAPONS,1005.0,\"Guns, through 30 mm\"\n"
     ]
    }
   ],
   "source": [
    "!head data.csv"
   ]
  },
  {
   "cell_type": "markdown",
   "id": "4d2f4e02-7860-4cab-aeb9-76db61d41d0a",
   "metadata": {},
   "source": [
    "csvlook\n",
    "---"
   ]
  },
  {
   "cell_type": "code",
   "execution_count": 6,
   "id": "4717ccb9-6f8c-466b-be4f-0cbdc155d584",
   "metadata": {},
   "outputs": [
    {
     "name": "stdout",
     "output_type": "stream",
     "text": [
      "| state | county     |   fips | nsn              | item_name                                                      | quantity | ui      | acquisition_cost | total_cost |  ship_date | federal_supply_category | federal_supply_category_name        | federal_supply_class | federal_supply_class_name                                       |\n",
      "| ----- | ---------- | ------ | ---------------- | -------------------------------------------------------------- | -------- | ------- | ---------------- | ---------- | ---------- | ----------------------- | ----------------------------------- | -------------------- | --------------------------------------------------------------- |\n",
      "| NE    | ADAMS      | 31,001 | 1005-00-589-1271 | RIFLE,7.62 MILLIMETER                                          |        1 | Each    |           138.00 |     138.00 | 2008-07-11 |                      10 | WEAPONS                             |                1,005 | Guns, through 30 mm                                             |\n",
      "| NE    | ADAMS      | 31,001 | 1005-00-589-1271 | RIFLE,7.62 MILLIMETER                                          |        1 | Each    |           138.00 |     138.00 | 2008-07-11 |                      10 | WEAPONS                             |                1,005 | Guns, through 30 mm                                             |\n",
      "| NE    | ADAMS      | 31,001 | 1005-00-589-1271 | RIFLE,7.62 MILLIMETER                                          |        1 | Each    |           138.00 |     138.00 | 2008-07-11 |                      10 | WEAPONS                             |                1,005 | Guns, through 30 mm                                             |\n",
      "| NE    | ADAMS      | 31,001 | 1005-00-589-1271 | RIFLE,7.62 MILLIMETER                                          |        1 | Each    |           138.00 |     138.00 | 2008-07-11 |                      10 | WEAPONS                             |                1,005 | Guns, through 30 mm                                             |\n",
      "| NE    | ADAMS      | 31,001 | 1005-00-589-1271 | RIFLE,7.62 MILLIMETER                                          |        1 | Each    |           138.00 |     138.00 | 2008-07-11 |                      10 | WEAPONS                             |                1,005 | Guns, through 30 mm                                             |\n",
      "| NE    | ADAMS      | 31,001 | 1005-00-589-1271 | RIFLE,7.62 MILLIMETER                                          |        1 | Each    |           138.00 |     138.00 | 2008-07-11 |                      10 | WEAPONS                             |                1,005 | Guns, through 30 mm                                             |\n",
      "| NE    | BUFFALO    | 31,019 | 1005-00-073-9421 | RIFLE,5.56 MILLIMETER                                          |        1 | Each    |           499.00 |     499.00 | 2008-09-24 |                      10 | WEAPONS                             |                1,005 | Guns, through 30 mm                                             |\n",
      "| NE    | BUFFALO    | 31,019 | 1005-00-073-9421 | RIFLE,5.56 MILLIMETER                                          |        1 | Each    |           499.00 |     499.00 | 2008-09-24 |                      10 | WEAPONS                             |                1,005 | Guns, through 30 mm                                             |\n"
     ]
    }
   ],
   "source": [
    "#\n",
    "# En el *Terminal* use: csvlook data.csv | less -S\n",
    "#\n",
    "!csvlook data.csv | head"
   ]
  },
  {
   "cell_type": "markdown",
   "id": "c3e08a35-f46a-479d-a069-bd0da615e1d0",
   "metadata": {},
   "source": [
    "csvcut\n",
    "---"
   ]
  },
  {
   "cell_type": "code",
   "execution_count": 7,
   "id": "5f118a68-72a8-48e8-8f6d-7c56c2574e47",
   "metadata": {},
   "outputs": [
    {
     "name": "stdout",
     "output_type": "stream",
     "text": [
      "  1: state\n",
      "  2: county\n",
      "  3: fips\n",
      "  4: nsn\n",
      "  5: item_name\n",
      "  6: quantity\n",
      "  7: ui\n",
      "  8: acquisition_cost\n",
      "  9: total_cost\n",
      " 10: ship_date\n",
      " 11: federal_supply_category\n",
      " 12: federal_supply_category_name\n",
      " 13: federal_supply_class\n",
      " 14: federal_supply_class_name\n"
     ]
    }
   ],
   "source": [
    "#\n",
    "# Columnas en los datos\n",
    "#\n",
    "!csvcut -n data.csv"
   ]
  },
  {
   "cell_type": "code",
   "execution_count": 8,
   "id": "92fbbb74-7d53-436f-ad81-434ca596493e",
   "metadata": {},
   "outputs": [
    {
     "name": "stdout",
     "output_type": "stream",
     "text": [
      "county,item_name,quantity\n",
      "ADAMS,\"RIFLE,7.62 MILLIMETER\",1.0\n",
      "ADAMS,\"RIFLE,7.62 MILLIMETER\",1.0\n",
      "ADAMS,\"RIFLE,7.62 MILLIMETER\",1.0\n",
      "ADAMS,\"RIFLE,7.62 MILLIMETER\",1.0\n",
      "ADAMS,\"RIFLE,7.62 MILLIMETER\",1.0\n",
      "ADAMS,\"RIFLE,7.62 MILLIMETER\",1.0\n",
      "BUFFALO,\"RIFLE,5.56 MILLIMETER\",1.0\n",
      "BUFFALO,\"RIFLE,5.56 MILLIMETER\",1.0\n",
      "BUFFALO,\"RIFLE,5.56 MILLIMETER\",1.0\n"
     ]
    }
   ],
   "source": [
    "#\n",
    "# Extracción de columnas por posición\n",
    "#\n",
    "!csvcut -c 2,5,6 data.csv | head"
   ]
  },
  {
   "cell_type": "code",
   "execution_count": 9,
   "id": "04a9088f-170a-40ec-b249-602df29ce830",
   "metadata": {},
   "outputs": [
    {
     "name": "stdout",
     "output_type": "stream",
     "text": [
      "| county     | item_name                                                      | quantity |\n",
      "| ---------- | -------------------------------------------------------------- | -------- |\n",
      "| ADAMS      | RIFLE,7.62 MILLIMETER                                          |        1 |\n",
      "| ADAMS      | RIFLE,7.62 MILLIMETER                                          |        1 |\n",
      "| ADAMS      | RIFLE,7.62 MILLIMETER                                          |        1 |\n",
      "| ADAMS      | RIFLE,7.62 MILLIMETER                                          |        1 |\n",
      "| ADAMS      | RIFLE,7.62 MILLIMETER                                          |        1 |\n",
      "| ADAMS      | RIFLE,7.62 MILLIMETER                                          |        1 |\n",
      "| BUFFALO    | RIFLE,5.56 MILLIMETER                                          |        1 |\n",
      "| BUFFALO    | RIFLE,5.56 MILLIMETER                                          |        1 |\n"
     ]
    }
   ],
   "source": [
    "#\n",
    "# Extracción de columnas por nombre\n",
    "#\n",
    "!csvcut -c county,item_name,quantity data.csv | csvlook | head"
   ]
  },
  {
   "cell_type": "markdown",
   "id": "577bf5b4-ee2d-40bf-8ec7-264b8f00befc",
   "metadata": {},
   "source": [
    "Pipeline\n",
    "--"
   ]
  },
  {
   "cell_type": "code",
   "execution_count": 10,
   "id": "cc36a1fc-18d6-42d4-b452-ce2719ec6081",
   "metadata": {},
   "outputs": [
    {
     "name": "stdout",
     "output_type": "stream",
     "text": [
      "| county     | item_name                                                      | quantity |\n",
      "| ---------- | -------------------------------------------------------------- | -------- |\n",
      "| ADAMS      | RIFLE,7.62 MILLIMETER                                          |        1 |\n",
      "| ADAMS      | RIFLE,7.62 MILLIMETER                                          |        1 |\n",
      "| ADAMS      | RIFLE,7.62 MILLIMETER                                          |        1 |\n",
      "| ADAMS      | RIFLE,7.62 MILLIMETER                                          |        1 |\n",
      "| ADAMS      | RIFLE,7.62 MILLIMETER                                          |        1 |\n",
      "| ADAMS      | RIFLE,7.62 MILLIMETER                                          |        1 |\n",
      "| BUFFALO    | RIFLE,5.56 MILLIMETER                                          |        1 |\n",
      "| BUFFALO    | RIFLE,5.56 MILLIMETER                                          |        1 |\n"
     ]
    }
   ],
   "source": [
    "!in2csv ne_1033_data.xlsx | csvcut -c county,item_name,quantity | csvlook | head"
   ]
  }
 ],
 "metadata": {
  "kernelspec": {
   "display_name": "Python 3 (ipykernel)",
   "language": "python",
   "name": "python3"
  },
  "language_info": {
   "codemirror_mode": {
    "name": "ipython",
    "version": 3
   },
   "file_extension": ".py",
   "mimetype": "text/x-python",
   "name": "python",
   "nbconvert_exporter": "python",
   "pygments_lexer": "ipython3",
   "version": "3.8.10"
  }
 },
 "nbformat": 4,
 "nbformat_minor": 5
}
