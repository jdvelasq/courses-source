{
 "cells": [
  {
   "cell_type": "markdown",
   "id": "177a6a18-9e09-4a86-af6f-8323451d8c55",
   "metadata": {
    "tags": []
   },
   "source": [
    "Testing Automático\n",
    "===\n",
    "\n",
    "* Ultima modificación: Mayo 14, 2022"
   ]
  },
  {
   "cell_type": "markdown",
   "id": "124d5bf9-da74-4d14-94f0-25963ee72914",
   "metadata": {},
   "source": [
    "Archivos de ejemplo\n",
    "----"
   ]
  },
  {
   "cell_type": "code",
   "execution_count": null,
   "id": "d1967527-f545-4fd0-8ae2-82d4b27372d6",
   "metadata": {},
   "outputs": [],
   "source": [
    "%%writefile /tmp/example.py\n",
    "\"A\",\"B\",\"C\"\n",
    "\"x\",\"foo\",20\n",
    "\"x\",\"foo\",30\n",
    "\"y\",\"foo\",10\n",
    "\"y\",\"bar\",20\n",
    "\"z\",\"bar\",10\n",
    "\"z\",\"bar\",10"
   ]
  },
  {
   "cell_type": "code",
   "execution_count": null,
   "id": "528738f9-465c-4c1e-8c55-47d022ed65b5",
   "metadata": {},
   "outputs": [],
   "source": []
  },
  {
   "cell_type": "markdown",
   "id": "8f251724-df99-4044-ad66-f52a417c33a7",
   "metadata": {},
   "source": [
    "Pytest\n",
    "---"
   ]
  },
  {
   "cell_type": "markdown",
   "id": "80d81f94-e26b-485b-8d6b-b452e8cde3f3",
   "metadata": {},
   "source": [
    "**Pandas**"
   ]
  },
  {
   "cell_type": "markdown",
   "id": "3111d870-5dac-44ae-b622-f3c925bb3f81",
   "metadata": {},
   "source": [
    "```python\n",
    "#!/usr/bin/env python3\n",
    "import pytest\n",
    "import pandas as pd\n",
    "import datatest as dt\n",
    "from datatest import (\n",
    "    Missing,\n",
    "    Extra,\n",
    "    Invalid,\n",
    "    Deviation,\n",
    ")\n",
    "\n",
    "\n",
    "@pytest.fixture(scope='session')\n",
    "@dt.working_directory(__file__)\n",
    "def df():\n",
    "    return pd.read_csv('example.csv')  # Returns DataFrame.\n",
    "\n",
    "\n",
    "@pytest.mark.mandatory\n",
    "def test_column_names(df):\n",
    "    required_names = {'A', 'B', 'C'}\n",
    "    dt.validate(df.columns, required_names)\n",
    "\n",
    "\n",
    "def test_a(df):\n",
    "    requirement = {'x', 'y', 'z'}\n",
    "    dt.validate(df['A'], requirement)\n",
    "\n",
    "\n",
    "# ...add more tests here...\n",
    "\n",
    "\n",
    "if __name__ == '__main__':\n",
    "    import sys\n",
    "    sys.exit(pytest.main(sys.argv))\n",
    "```"
   ]
  },
  {
   "cell_type": "markdown",
   "id": "fbd0819d-7cdc-4450-9161-754399bd3646",
   "metadata": {},
   "source": [
    "**Pandas (Integrated)**"
   ]
  },
  {
   "cell_type": "markdown",
   "id": "8bdbcfc9-b3f0-4831-ade1-2050d7ef5bb7",
   "metadata": {},
   "source": [
    "```Python\n",
    "#!/usr/bin/env python3\n",
    "import pytest\n",
    "import pandas as pd\n",
    "import datatest as dt\n",
    "from datatest import (\n",
    "    Missing,\n",
    "    Extra,\n",
    "    Invalid,\n",
    "    Deviation,\n",
    ")\n",
    "\n",
    "\n",
    "@pytest.fixture(scope='session')\n",
    "@dt.working_directory(__file__)\n",
    "def df():\n",
    "    return pd.read_csv('example.csv')  # Returns DataFrame.\n",
    "\n",
    "\n",
    "@pytest.fixture(scope='session', autouse=True)\n",
    "def pandas_integration():\n",
    "    dt.register_accessors()\n",
    "\n",
    "\n",
    "@pytest.mark.mandatory\n",
    "def test_column_names(df):\n",
    "    required_names = {'A', 'B', 'C'}\n",
    "    df.columns.validate(required_names)\n",
    "\n",
    "\n",
    "def test_a(df):\n",
    "    requirement = {'x', 'y', 'z'}\n",
    "    df['A'].validate(requirement)\n",
    "\n",
    "\n",
    "# ...add more tests here...\n",
    "\n",
    "\n",
    "if __name__ == '__main__':\n",
    "    import sys\n",
    "    sys.exit(pytest.main(sys.argv))\n",
    "```"
   ]
  },
  {
   "cell_type": "markdown",
   "id": "bfd4545d-8996-4075-b4e0-82fe50189733",
   "metadata": {},
   "source": [
    "**SQL**"
   ]
  },
  {
   "cell_type": "markdown",
   "id": "659c8fe8-1d55-4dbc-940a-26ce03f1b715",
   "metadata": {},
   "source": [
    "```python\n",
    "#!/usr/bin/env python3\n",
    "import pytest\n",
    "import sqlite3\n",
    "from datatest import (\n",
    "    validate,\n",
    "    accepted,\n",
    "    working_directory,\n",
    "    Missing,\n",
    "    Extra,\n",
    "    Invalid,\n",
    "    Deviation,\n",
    ")\n",
    "\n",
    "\n",
    "@pytest.fixture(scope='session')\n",
    "def connection():\n",
    "    with working_directory(__file__):\n",
    "        conn = sqlite3.connect('example.sqlite3')\n",
    "    yield conn\n",
    "    conn.close()\n",
    "\n",
    "\n",
    "@pytest.fixture(scope='function')\n",
    "def cursor(connection):\n",
    "    cur = connection.cursor()\n",
    "    yield cur\n",
    "    cur.close()\n",
    "\n",
    "\n",
    "@pytest.mark.mandatory\n",
    "def test_column_names(cursor):\n",
    "    cursor.execute('SELECT * FROM mytable LIMIT 0;')\n",
    "    column_names = [item[0] for item in cursor.description]\n",
    "    required_names = {'A', 'B', 'C'}\n",
    "    validate(column_names, required_names)\n",
    "\n",
    "\n",
    "def test_a(cursor):\n",
    "    cursor.execute('SELECT A FROM mytable;')\n",
    "    requirement = {'x', 'y', 'z'}\n",
    "    validate(cursor, requirement)\n",
    "\n",
    "\n",
    "# ...add more tests here...\n",
    "\n",
    "\n",
    "if __name__ == '__main__':\n",
    "    import sys\n",
    "    sys.exit(pytest.main(sys.argv))\n",
    "```"
   ]
  },
  {
   "cell_type": "markdown",
   "id": "dedfe1b0-4d74-4ab8-a139-0c544691f6c1",
   "metadata": {},
   "source": [
    "Unittest\n",
    "---"
   ]
  },
  {
   "cell_type": "markdown",
   "id": "4b2bde60-6aa8-4e9a-a0fd-d81c2569f05d",
   "metadata": {},
   "source": [
    "```python\n",
    "from datatest import DataTestCase, Extra\n",
    "\n",
    "class TestMyData(DataTestCase):\n",
    "    def test_one(self):\n",
    "        data = ['A', 'B', 'C', 'D']\n",
    "        requirement = {'A', 'B'}\n",
    "        with self.accepted(Extra):\n",
    "            self.assertValid(data, requirement)\n",
    "```"
   ]
  },
  {
   "cell_type": "markdown",
   "id": "5436080c-a02c-4f62-b848-0872d7816a5b",
   "metadata": {},
   "source": [
    "```python\n",
    "from datatest import DataTestCase, mandatory\n",
    "\n",
    "class TestMyData(DataTestCase):\n",
    "    @mandatory\n",
    "    def test_one(self):\n",
    "        data = ['A', 'A', 'B', 'B']\n",
    "        requirement = {'A', 'B'}\n",
    "        self.assertValid(data, requirement)\n",
    "```"
   ]
  },
  {
   "cell_type": "markdown",
   "id": "a66f0b51-ac9f-40b7-bfa8-b0dabfb07ee0",
   "metadata": {},
   "source": [
    "```bash\n",
    "$ python3 -m datatest\n",
    "``` "
   ]
  },
  {
   "cell_type": "markdown",
   "id": "9c458865-4e0e-4d3f-8e34-5c972b019d0c",
   "metadata": {},
   "source": [
    "```python\n",
    "import unittest\n",
    "from datatest import DataTestCase\n",
    "\n",
    "class TestMyData(DataTestCase):\n",
    "    @unittest.skip('Data not yet collected.')\n",
    "    def test_one(self):\n",
    "        data = ...\n",
    "        requirement = ...\n",
    "        self.assertValid(data, requirement)\n",
    "```"
   ]
  },
  {
   "cell_type": "markdown",
   "id": "f5909137-68fb-4199-b9ae-0250607b5235",
   "metadata": {},
   "source": [
    "**Pandas**"
   ]
  },
  {
   "cell_type": "markdown",
   "id": "01735a4b-a363-4c1b-8434-87b852b5c2a1",
   "metadata": {},
   "source": [
    "```python\n",
    "#!/usr/bin/env python3\n",
    "import pandas as pd\n",
    "import datatest as dt\n",
    "from datatest import (\n",
    "    Missing,\n",
    "    Extra,\n",
    "    Invalid,\n",
    "    Deviation,\n",
    ")\n",
    "\n",
    "\n",
    "@dt.working_directory(__file__)\n",
    "def setUpModule():\n",
    "    global df\n",
    "    df = pd.read_csv('example.csv')\n",
    "\n",
    "\n",
    "class TestMyData(dt.DataTestCase):\n",
    "    @dt.mandatory\n",
    "    def test_column_names(self):\n",
    "        required_names = {'A', 'B', 'C'}\n",
    "        self.assertValid(df.columns, required_names)\n",
    "\n",
    "    def test_a(self):\n",
    "        requirement = {'x', 'y', 'z'}\n",
    "        self.assertValid(df['A'], requirement)\n",
    "\n",
    "    # ...add more tests here...\n",
    "\n",
    "\n",
    "if __name__ == '__main__':\n",
    "    from datatest import main\n",
    "    main()\n",
    "```"
   ]
  },
  {
   "cell_type": "markdown",
   "id": "551790b5-b8e0-4e9d-a8ee-b9c4332514b5",
   "metadata": {},
   "source": [
    "**Pandas (Integrated**"
   ]
  },
  {
   "cell_type": "markdown",
   "id": "25e51572-097b-4f72-a55b-880a7d8ad9fd",
   "metadata": {},
   "source": [
    "```python\n",
    "#!/usr/bin/env python3\n",
    "import pandas as pd\n",
    "import datatest as dt\n",
    "from datatest import (\n",
    "    Missing,\n",
    "    Extra,\n",
    "    Invalid,\n",
    "    Deviation,\n",
    ")\n",
    "\n",
    "\n",
    "@dt.working_directory(__file__)\n",
    "def setUpModule():\n",
    "    global df\n",
    "    df = pd.read_csv('example.csv')\n",
    "    dt.register_accessors()  # Register pandas accessors.\n",
    "\n",
    "\n",
    "class TestMyData(dt.DataTestCase):\n",
    "    @dt.mandatory\n",
    "    def test_column_names(self):\n",
    "        required_names = {'A', 'B', 'C'}\n",
    "        df.columns.validate(required_names)\n",
    "\n",
    "    def test_a(self):\n",
    "        requirement = {'x', 'y', 'z'}\n",
    "        df['A'].validate(requirement)\n",
    "\n",
    "    # ...add more tests here...\n",
    "\n",
    "\n",
    "if __name__ == '__main__':\n",
    "    from datatest import main\n",
    "    main()\n",
    "``` "
   ]
  },
  {
   "cell_type": "markdown",
   "id": "ab2827c9-ed81-441d-bb3a-bae055c130e9",
   "metadata": {},
   "source": [
    "**SQL**"
   ]
  },
  {
   "cell_type": "markdown",
   "id": "36962383-6d8a-408b-8691-018c491fad58",
   "metadata": {},
   "source": [
    "```python\n",
    "#!/usr/bin/env python3\n",
    "import sqlite3\n",
    "from datatest import (\n",
    "    DataTestCase,\n",
    "    mandatory,\n",
    "    working_directory,\n",
    "    Missing,\n",
    "    Extra,\n",
    "    Invalid,\n",
    "    Deviation,\n",
    ")\n",
    "\n",
    "\n",
    "@working_directory(__file__)\n",
    "def setUpModule():\n",
    "    global connection\n",
    "    connection = sqlite3.connect('example.sqlite3')\n",
    "\n",
    "\n",
    "def tearDownModule():\n",
    "    connection.close()\n",
    "\n",
    "\n",
    "class MyTest(DataTestCase):\n",
    "    def setUp(self):\n",
    "        cursor = connection.cursor()\n",
    "        self.addCleanup(cursor.close)\n",
    "\n",
    "        self.cursor = cursor\n",
    "\n",
    "    @mandatory\n",
    "    def test_column_names(self):\n",
    "        self.cursor.execute('SELECT * FROM mytable LIMIT 0;')\n",
    "        column_names = [item[0] for item in self.cursor.description]\n",
    "        required_names = {'A', 'B', 'C'}\n",
    "        self.assertValid(column_names, required_names)\n",
    "\n",
    "    def test_a(self):\n",
    "        self.cursor.execute('SELECT A FROM mytable;')\n",
    "        requirement = {'x', 'y', 'z'}\n",
    "        self.assertValid(self.cursor, requirement)\n",
    "\n",
    "\n",
    "if __name__ == '__main__':\n",
    "    from datatest import main\n",
    "    main()\n",
    "```"
   ]
  }
 ],
 "metadata": {
  "kernelspec": {
   "display_name": "Python 3 (ipykernel)",
   "language": "python",
   "name": "python3"
  },
  "language_info": {
   "codemirror_mode": {
    "name": "ipython",
    "version": 3
   },
   "file_extension": ".py",
   "mimetype": "text/x-python",
   "name": "python",
   "nbconvert_exporter": "python",
   "pygments_lexer": "ipython3",
   "version": "3.8.10"
  }
 },
 "nbformat": 4,
 "nbformat_minor": 5
}
