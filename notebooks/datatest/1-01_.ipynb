{
 "cells": [
  {
   "cell_type": "markdown",
   "id": "e653200f-39c4-4dcf-9d1a-04ed63634580",
   "metadata": {
    "tags": []
   },
   "source": [
    "DataTest --- 0:00 min\n",
    "===\n",
    "\n",
    "* Ultima modificación: Mayo 13, 2022 | YouTube"
   ]
  },
  {
   "cell_type": "code",
   "execution_count": null,
   "id": "18002df8-654d-414d-bb34-a4f2f0437be4",
   "metadata": {},
   "outputs": [],
   "source": []
  }
 ],
 "metadata": {
  "kernelspec": {
   "display_name": "Python 3 (ipykernel)",
   "language": "python",
   "name": "python3"
  },
  "language_info": {
   "codemirror_mode": {
    "name": "ipython",
    "version": 3
   },
   "file_extension": ".py",
   "mimetype": "text/x-python",
   "name": "python",
   "nbconvert_exporter": "python",
   "pygments_lexer": "ipython3",
   "version": "3.8.10"
  }
 },
 "nbformat": 4,
 "nbformat_minor": 5
}
