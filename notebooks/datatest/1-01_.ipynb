{
 "cells": [
  {
   "cell_type": "markdown",
   "id": "e653200f-39c4-4dcf-9d1a-04ed63634580",
   "metadata": {
    "tags": []
   },
   "source": [
    "Introducción a DataTest\n",
    "===\n",
    "\n",
    "* Ultima modificación: Mayo 14, 2022"
   ]
  },
  {
   "cell_type": "code",
   "execution_count": 13,
   "id": "2c1f9f1f-4c72-4b37-9e99-db271871487f",
   "metadata": {},
   "outputs": [],
   "source": [
    "from datatest import validate\n",
    "import pandas as pd"
   ]
  },
  {
   "cell_type": "markdown",
   "id": "bf0c8f52-39cd-4c65-b820-3924c2fd9a46",
   "metadata": {},
   "source": [
    "Validación\n",
    "---"
   ]
  },
  {
   "cell_type": "markdown",
   "id": "1ccb6910-b4e4-463a-91c4-31e8a7158c78",
   "metadata": {},
   "source": [
    "**Comparaciones inteligentes**"
   ]
  },
  {
   "cell_type": "code",
   "execution_count": 2,
   "id": "75460c3d-5c56-4dd9-b47c-1ee821a706be",
   "metadata": {},
   "outputs": [],
   "source": [
    "data = ['A', 'B', 'A']\n",
    "requirement = {'A', 'B'}\n",
    "validate(data, requirement)"
   ]
  },
  {
   "cell_type": "code",
   "execution_count": 3,
   "id": "3a66e9f4-9f15-4cad-9b8b-5673dadb8fb9",
   "metadata": {},
   "outputs": [],
   "source": [
    "\n",
    "data = [2, 4, 6, 8]\n",
    "\n",
    "def is_even(x):\n",
    "    return x % 2 == 0\n",
    "\n",
    "validate(data, requirement=is_even)"
   ]
  },
  {
   "cell_type": "code",
   "execution_count": 4,
   "id": "60b061aa-b5d2-4b8b-af01-78202e9c9c54",
   "metadata": {},
   "outputs": [],
   "source": [
    "data = [2, 4, 6, 8]\n",
    "requirement = int\n",
    "validate(data, requirement)\n"
   ]
  },
  {
   "cell_type": "code",
   "execution_count": 5,
   "id": "5981217f-3c05-4264-acb6-843763609476",
   "metadata": {},
   "outputs": [],
   "source": [
    "data = [('a', 2), ('b', 4), ('c', 6)]\n",
    "\n",
    "def is_even(x):\n",
    "    return x % 2 == 0\n",
    "\n",
    "requirement = (str, is_even)\n",
    "validate(data, requirement)"
   ]
  },
  {
   "cell_type": "markdown",
   "id": "f0c7aa26-fa1b-4858-9782-b572f09b183d",
   "metadata": {},
   "source": [
    "**Manejo automático de datos**"
   ]
  },
  {
   "cell_type": "code",
   "execution_count": 7,
   "id": "dc1939eb-8643-4532-9e42-7ebf49f1d8ec",
   "metadata": {},
   "outputs": [],
   "source": [
    "#\n",
    "# Elemento\n",
    "#\n",
    "data = 42\n",
    "requirement = int  # <- Same for all formats.\n",
    "validate(data, requirement)"
   ]
  },
  {
   "cell_type": "code",
   "execution_count": 8,
   "id": "146aa435-64b7-444a-a41e-f66c8467ba16",
   "metadata": {},
   "outputs": [],
   "source": [
    "#\n",
    "# Grupo de elementos\n",
    "#\n",
    "data = [1, 2, 3]\n",
    "requirement = int  # <- Same for all formats.\n",
    "validate(data, requirement)"
   ]
  },
  {
   "cell_type": "code",
   "execution_count": 9,
   "id": "d1a2b152-b707-4a5b-9fb4-e6578c2c8cc6",
   "metadata": {},
   "outputs": [],
   "source": [
    "#\n",
    "# Mapping\n",
    "#\n",
    "data = {'A': 1, 'B': 2, 'C': 3}\n",
    "requirement = int  # <- Same for all formats.\n",
    "validate(data, requirement)"
   ]
  },
  {
   "cell_type": "code",
   "execution_count": 10,
   "id": "cb7d4783-31dd-495c-bdfe-66cc732c452a",
   "metadata": {},
   "outputs": [],
   "source": [
    "#\n",
    "# Mapping of groups\n",
    "#\n",
    "data = {'X': [1, 2, 3], 'Y': [4, 5, 6], 'Z': [7, 8, 9]}\n",
    "requirement = int  # <- Same for all formats.\n",
    "validate(data, requirement)"
   ]
  },
  {
   "cell_type": "code",
   "execution_count": 14,
   "id": "84ca33b7-07e2-404d-82ad-748a1b463552",
   "metadata": {},
   "outputs": [],
   "source": [
    "#\n",
    "# Pandas\n",
    "#\n",
    "df = pd.DataFrame([('x', 1, 12.25),\n",
    "                   ('y', 2, 33.75),\n",
    "                   ('z', 3, 101.5)],\n",
    "                  columns=['A', 'B', 'C'])\n",
    "\n",
    "validate(df[['A', 'B']], (str, int))"
   ]
  },
  {
   "cell_type": "code",
   "execution_count": 16,
   "id": "c3ed043c-7e7f-47a5-b460-3def503057d9",
   "metadata": {},
   "outputs": [],
   "source": [
    "#\n",
    "# Pandas (Integrated API)\n",
    "#\n",
    "import datatest as dt\n",
    "\n",
    "dt.register_accessors()\n",
    "\n",
    "df = pd.DataFrame([('x', 1, 12.25),\n",
    "                   ('y', 2, 33.75),\n",
    "                   ('z', 3, 101.5)],\n",
    "                  columns=['A', 'B', 'C'])\n",
    "\n",
    "df[['A', 'B']].validate((str, int))"
   ]
  },
  {
   "cell_type": "code",
   "execution_count": 17,
   "id": "fe2ce2c3-3d89-445a-b5a2-c0b5d353f20f",
   "metadata": {},
   "outputs": [],
   "source": [
    "#\n",
    "# NumPy\n",
    "#\n",
    "import numpy as np\n",
    "\n",
    "a = np.array([('x', 1, 12.25),\n",
    "              ('y', 2, 33.75),\n",
    "              ('z', 3, 101.5)],\n",
    "             dtype='U10, int32, float32')\n",
    "\n",
    "validate(a[['f0', 'f1']], (str, int))"
   ]
  },
  {
   "cell_type": "code",
   "execution_count": 18,
   "id": "4597dd01-75bf-4da6-bcd6-a8923b622b6e",
   "metadata": {},
   "outputs": [],
   "source": [
    "#\n",
    "# Bases de datos\n",
    "#\n",
    "import sqlite3\n",
    "\n",
    "conn = sqlite3.connect(':memory:')\n",
    "conn.executescript('''\n",
    "    CREATE TABLE mydata(A, B, C);\n",
    "    INSERT INTO mydata VALUES('x', 1, 12.25);\n",
    "    INSERT INTO mydata VALUES('y', 2, 33.75);\n",
    "    INSERT INTO mydata VALUES('z', 3, 101.5);\n",
    "''')\n",
    "cursor = conn.cursor()\n",
    "\n",
    "cursor.execute('SELECT A, B FROM mydata;')\n",
    "validate(cursor, (str, int))"
   ]
  },
  {
   "cell_type": "markdown",
   "id": "a35fd282-69d4-4f12-bb81-b08138bcf292",
   "metadata": {},
   "source": [
    "Errores\n",
    "---"
   ]
  },
  {
   "cell_type": "markdown",
   "id": "8d179d31-9512-4ea5-8a8e-bb43ab69a938",
   "metadata": {},
   "source": [
    "**“Missing” Differences**"
   ]
  },
  {
   "cell_type": "code",
   "execution_count": 19,
   "id": "7eda15ac-e19f-4c91-ac3c-672452781eef",
   "metadata": {},
   "outputs": [
    {
     "ename": "ValidationError",
     "evalue": "does not satisfy set membership (2 differences): [\n    Missing('C'),\n    Missing('D'),\n]",
     "output_type": "error",
     "traceback": [
      "\u001b[0;31m---------------------------------------------------------------------------\u001b[0m",
      "\u001b[0;31mValidationError\u001b[0m                           Traceback (most recent call last)",
      "Input \u001b[0;32mIn [19]\u001b[0m, in \u001b[0;36m<cell line: 3>\u001b[0;34m()\u001b[0m\n\u001b[1;32m      1\u001b[0m data \u001b[38;5;241m=\u001b[39m [\u001b[38;5;124m'\u001b[39m\u001b[38;5;124mA\u001b[39m\u001b[38;5;124m'\u001b[39m, \u001b[38;5;124m'\u001b[39m\u001b[38;5;124mB\u001b[39m\u001b[38;5;124m'\u001b[39m]\n\u001b[1;32m      2\u001b[0m requirement \u001b[38;5;241m=\u001b[39m {\u001b[38;5;124m'\u001b[39m\u001b[38;5;124mA\u001b[39m\u001b[38;5;124m'\u001b[39m, \u001b[38;5;124m'\u001b[39m\u001b[38;5;124mB\u001b[39m\u001b[38;5;124m'\u001b[39m, \u001b[38;5;124m'\u001b[39m\u001b[38;5;124mC\u001b[39m\u001b[38;5;124m'\u001b[39m, \u001b[38;5;124m'\u001b[39m\u001b[38;5;124mD\u001b[39m\u001b[38;5;124m'\u001b[39m}\n\u001b[0;32m----> 3\u001b[0m \u001b[43mvalidate\u001b[49m\u001b[43m(\u001b[49m\u001b[43mdata\u001b[49m\u001b[43m,\u001b[49m\u001b[43m \u001b[49m\u001b[43mrequirement\u001b[49m\u001b[43m)\u001b[49m\n",
      "File \u001b[0;32m/usr/local/lib/python3.8/dist-packages/datatest/validation.py:296\u001b[0m, in \u001b[0;36mValidateType.__call__\u001b[0;34m(self, data, requirement, msg)\u001b[0m\n\u001b[1;32m    294\u001b[0m \u001b[38;5;28;01mif\u001b[39;00m \u001b[38;5;28misinstance\u001b[39m(requirement_object, sequence_or_order_types):\n\u001b[1;32m    295\u001b[0m     err\u001b[38;5;241m.\u001b[39m_sorted_str \u001b[38;5;241m=\u001b[39m \u001b[38;5;28;01mFalse\u001b[39;00m\n\u001b[0;32m--> 296\u001b[0m \u001b[38;5;28;01mraise\u001b[39;00m err\n",
      "\u001b[0;31mValidationError\u001b[0m: does not satisfy set membership (2 differences): [\n    Missing('C'),\n    Missing('D'),\n]"
     ]
    }
   ],
   "source": [
    "data = ['A', 'B']\n",
    "requirement = {'A', 'B', 'C', 'D'}\n",
    "validate(data, requirement)"
   ]
  },
  {
   "cell_type": "markdown",
   "id": "87739316-9264-4a65-8e9c-8b864fc08743",
   "metadata": {},
   "source": [
    "**“Extra” Differences**"
   ]
  },
  {
   "cell_type": "code",
   "execution_count": 20,
   "id": "b64f06f3-6bb4-49c6-a8a1-2419cdb27cb4",
   "metadata": {},
   "outputs": [
    {
     "ename": "ValidationError",
     "evalue": "does not satisfy set membership (2 differences): [\n    Extra('C'),\n    Extra('D'),\n]",
     "output_type": "error",
     "traceback": [
      "\u001b[0;31m---------------------------------------------------------------------------\u001b[0m",
      "\u001b[0;31mValidationError\u001b[0m                           Traceback (most recent call last)",
      "Input \u001b[0;32mIn [20]\u001b[0m, in \u001b[0;36m<cell line: 3>\u001b[0;34m()\u001b[0m\n\u001b[1;32m      1\u001b[0m data \u001b[38;5;241m=\u001b[39m [\u001b[38;5;124m'\u001b[39m\u001b[38;5;124mA\u001b[39m\u001b[38;5;124m'\u001b[39m, \u001b[38;5;124m'\u001b[39m\u001b[38;5;124mB\u001b[39m\u001b[38;5;124m'\u001b[39m, \u001b[38;5;124m'\u001b[39m\u001b[38;5;124mC\u001b[39m\u001b[38;5;124m'\u001b[39m, \u001b[38;5;124m'\u001b[39m\u001b[38;5;124mD\u001b[39m\u001b[38;5;124m'\u001b[39m]\n\u001b[1;32m      2\u001b[0m requirement \u001b[38;5;241m=\u001b[39m {\u001b[38;5;124m'\u001b[39m\u001b[38;5;124mA\u001b[39m\u001b[38;5;124m'\u001b[39m, \u001b[38;5;124m'\u001b[39m\u001b[38;5;124mB\u001b[39m\u001b[38;5;124m'\u001b[39m}\n\u001b[0;32m----> 3\u001b[0m \u001b[43mvalidate\u001b[49m\u001b[43m(\u001b[49m\u001b[43mdata\u001b[49m\u001b[43m,\u001b[49m\u001b[43m \u001b[49m\u001b[43mrequirement\u001b[49m\u001b[43m)\u001b[49m\n",
      "File \u001b[0;32m/usr/local/lib/python3.8/dist-packages/datatest/validation.py:296\u001b[0m, in \u001b[0;36mValidateType.__call__\u001b[0;34m(self, data, requirement, msg)\u001b[0m\n\u001b[1;32m    294\u001b[0m \u001b[38;5;28;01mif\u001b[39;00m \u001b[38;5;28misinstance\u001b[39m(requirement_object, sequence_or_order_types):\n\u001b[1;32m    295\u001b[0m     err\u001b[38;5;241m.\u001b[39m_sorted_str \u001b[38;5;241m=\u001b[39m \u001b[38;5;28;01mFalse\u001b[39;00m\n\u001b[0;32m--> 296\u001b[0m \u001b[38;5;28;01mraise\u001b[39;00m err\n",
      "\u001b[0;31mValidationError\u001b[0m: does not satisfy set membership (2 differences): [\n    Extra('C'),\n    Extra('D'),\n]"
     ]
    }
   ],
   "source": [
    "data = ['A', 'B', 'C', 'D']\n",
    "requirement = {'A', 'B'}\n",
    "validate(data, requirement)"
   ]
  },
  {
   "cell_type": "markdown",
   "id": "82bf71b6-34e5-4450-8e9b-71c1b7478ed6",
   "metadata": {},
   "source": [
    "**“Invalid” Differences**"
   ]
  },
  {
   "cell_type": "code",
   "execution_count": 21,
   "id": "2f9835aa-a18c-4c73-a28d-4b2c3f394650",
   "metadata": {},
   "outputs": [
    {
     "ename": "ValidationError",
     "evalue": "does not satisfy `(str, is_even())` (2 differences): [\n    Invalid((1.25, 8)),\n    Invalid(('e', 9)),\n]",
     "output_type": "error",
     "traceback": [
      "\u001b[0;31m---------------------------------------------------------------------------\u001b[0m",
      "\u001b[0;31mValidationError\u001b[0m                           Traceback (most recent call last)",
      "Input \u001b[0;32mIn [21]\u001b[0m, in \u001b[0;36m<cell line: 7>\u001b[0;34m()\u001b[0m\n\u001b[1;32m      4\u001b[0m     \u001b[38;5;28;01mreturn\u001b[39;00m x \u001b[38;5;241m%\u001b[39m \u001b[38;5;241m2\u001b[39m \u001b[38;5;241m==\u001b[39m \u001b[38;5;241m0\u001b[39m\n\u001b[1;32m      6\u001b[0m requirement \u001b[38;5;241m=\u001b[39m (\u001b[38;5;28mstr\u001b[39m, is_even)\n\u001b[0;32m----> 7\u001b[0m \u001b[43mvalidate\u001b[49m\u001b[43m(\u001b[49m\u001b[43mdata\u001b[49m\u001b[43m,\u001b[49m\u001b[43m \u001b[49m\u001b[43mrequirement\u001b[49m\u001b[43m)\u001b[49m\n",
      "File \u001b[0;32m/usr/local/lib/python3.8/dist-packages/datatest/validation.py:296\u001b[0m, in \u001b[0;36mValidateType.__call__\u001b[0;34m(self, data, requirement, msg)\u001b[0m\n\u001b[1;32m    294\u001b[0m \u001b[38;5;28;01mif\u001b[39;00m \u001b[38;5;28misinstance\u001b[39m(requirement_object, sequence_or_order_types):\n\u001b[1;32m    295\u001b[0m     err\u001b[38;5;241m.\u001b[39m_sorted_str \u001b[38;5;241m=\u001b[39m \u001b[38;5;28;01mFalse\u001b[39;00m\n\u001b[0;32m--> 296\u001b[0m \u001b[38;5;28;01mraise\u001b[39;00m err\n",
      "\u001b[0;31mValidationError\u001b[0m: does not satisfy `(str, is_even())` (2 differences): [\n    Invalid((1.25, 8)),\n    Invalid(('e', 9)),\n]"
     ]
    }
   ],
   "source": [
    "data = [('a', 2), ('b', 4), ('c', 6), (1.25, 8), ('e', 9)]\n",
    "\n",
    "def is_even(x):\n",
    "    return x % 2 == 0\n",
    "\n",
    "requirement = (str, is_even)\n",
    "validate(data, requirement)"
   ]
  },
  {
   "cell_type": "markdown",
   "id": "dabfe4df-6b26-42af-b1fa-94818c13d079",
   "metadata": {},
   "source": [
    "**“Deviation” Differences**"
   ]
  },
  {
   "cell_type": "code",
   "execution_count": 22,
   "id": "5c71aaf2-238f-4b08-8b8c-b0b5d654bdb3",
   "metadata": {},
   "outputs": [
    {
     "ename": "ValidationError",
     "evalue": "does not satisfy mapping requirements (2 differences): {\n    'C': Deviation(-1, 300),\n    'D': Deviation(+5, 400),\n}",
     "output_type": "error",
     "traceback": [
      "\u001b[0;31m---------------------------------------------------------------------------\u001b[0m",
      "\u001b[0;31mValidationError\u001b[0m                           Traceback (most recent call last)",
      "Input \u001b[0;32mIn [22]\u001b[0m, in \u001b[0;36m<cell line: 15>\u001b[0;34m()\u001b[0m\n\u001b[1;32m      1\u001b[0m data \u001b[38;5;241m=\u001b[39m {\n\u001b[1;32m      2\u001b[0m     \u001b[38;5;124m'\u001b[39m\u001b[38;5;124mA\u001b[39m\u001b[38;5;124m'\u001b[39m: \u001b[38;5;241m100\u001b[39m,\n\u001b[1;32m      3\u001b[0m     \u001b[38;5;124m'\u001b[39m\u001b[38;5;124mB\u001b[39m\u001b[38;5;124m'\u001b[39m: \u001b[38;5;241m200\u001b[39m,\n\u001b[1;32m      4\u001b[0m     \u001b[38;5;124m'\u001b[39m\u001b[38;5;124mC\u001b[39m\u001b[38;5;124m'\u001b[39m: \u001b[38;5;241m299\u001b[39m,\n\u001b[1;32m      5\u001b[0m     \u001b[38;5;124m'\u001b[39m\u001b[38;5;124mD\u001b[39m\u001b[38;5;124m'\u001b[39m: \u001b[38;5;241m405\u001b[39m,\n\u001b[1;32m      6\u001b[0m }\n\u001b[1;32m      8\u001b[0m requirement \u001b[38;5;241m=\u001b[39m {\n\u001b[1;32m      9\u001b[0m     \u001b[38;5;124m'\u001b[39m\u001b[38;5;124mA\u001b[39m\u001b[38;5;124m'\u001b[39m: \u001b[38;5;241m100\u001b[39m,\n\u001b[1;32m     10\u001b[0m     \u001b[38;5;124m'\u001b[39m\u001b[38;5;124mB\u001b[39m\u001b[38;5;124m'\u001b[39m: \u001b[38;5;241m200\u001b[39m,\n\u001b[1;32m     11\u001b[0m     \u001b[38;5;124m'\u001b[39m\u001b[38;5;124mC\u001b[39m\u001b[38;5;124m'\u001b[39m: \u001b[38;5;241m300\u001b[39m,\n\u001b[1;32m     12\u001b[0m     \u001b[38;5;124m'\u001b[39m\u001b[38;5;124mD\u001b[39m\u001b[38;5;124m'\u001b[39m: \u001b[38;5;241m400\u001b[39m,\n\u001b[1;32m     13\u001b[0m }\n\u001b[0;32m---> 15\u001b[0m \u001b[43mvalidate\u001b[49m\u001b[43m(\u001b[49m\u001b[43mdata\u001b[49m\u001b[43m,\u001b[49m\u001b[43m \u001b[49m\u001b[43mrequirement\u001b[49m\u001b[43m)\u001b[49m\n",
      "File \u001b[0;32m/usr/local/lib/python3.8/dist-packages/datatest/validation.py:296\u001b[0m, in \u001b[0;36mValidateType.__call__\u001b[0;34m(self, data, requirement, msg)\u001b[0m\n\u001b[1;32m    294\u001b[0m \u001b[38;5;28;01mif\u001b[39;00m \u001b[38;5;28misinstance\u001b[39m(requirement_object, sequence_or_order_types):\n\u001b[1;32m    295\u001b[0m     err\u001b[38;5;241m.\u001b[39m_sorted_str \u001b[38;5;241m=\u001b[39m \u001b[38;5;28;01mFalse\u001b[39;00m\n\u001b[0;32m--> 296\u001b[0m \u001b[38;5;28;01mraise\u001b[39;00m err\n",
      "\u001b[0;31mValidationError\u001b[0m: does not satisfy mapping requirements (2 differences): {\n    'C': Deviation(-1, 300),\n    'D': Deviation(+5, 400),\n}"
     ]
    }
   ],
   "source": [
    "data = {\n",
    "    'A': 100,\n",
    "    'B': 200,\n",
    "    'C': 299,\n",
    "    'D': 405,\n",
    "}\n",
    "\n",
    "requirement = {\n",
    "    'A': 100,\n",
    "    'B': 200,\n",
    "    'C': 300,\n",
    "    'D': 400,\n",
    "}\n",
    "\n",
    "validate(data, requirement)"
   ]
  },
  {
   "cell_type": "markdown",
   "id": "921729e4-bfb5-4f0b-9903-5be531bdf620",
   "metadata": {},
   "source": [
    "Acceptances\n",
    "---"
   ]
  },
  {
   "cell_type": "code",
   "execution_count": 23,
   "id": "50081c61-f7d8-4dca-9ea5-92c520284131",
   "metadata": {},
   "outputs": [],
   "source": [
    "#\n",
    "# Using acceptance\n",
    "#\n",
    "from datatest import (\n",
    "    validate,\n",
    "    accepted,\n",
    "    Extra,\n",
    ")\n",
    "\n",
    "data = ['A', 'B', 'C', 'D']\n",
    "requirement = {'A', 'B'}\n",
    "with accepted(Extra):\n",
    "    validate(data, requirement)"
   ]
  },
  {
   "cell_type": "code",
   "execution_count": 24,
   "id": "2c008323-9a39-4877-b29d-41abf49d5bb5",
   "metadata": {},
   "outputs": [
    {
     "ename": "ValidationError",
     "evalue": "does not satisfy set membership (2 differences): [\n    Extra('C'),\n    Extra('D'),\n]",
     "output_type": "error",
     "traceback": [
      "\u001b[0;31m---------------------------------------------------------------------------\u001b[0m",
      "\u001b[0;31mValidationError\u001b[0m                           Traceback (most recent call last)",
      "Input \u001b[0;32mIn [24]\u001b[0m, in \u001b[0;36m<cell line: 12>\u001b[0;34m()\u001b[0m\n\u001b[1;32m     10\u001b[0m data \u001b[38;5;241m=\u001b[39m [\u001b[38;5;124m'\u001b[39m\u001b[38;5;124mA\u001b[39m\u001b[38;5;124m'\u001b[39m, \u001b[38;5;124m'\u001b[39m\u001b[38;5;124mB\u001b[39m\u001b[38;5;124m'\u001b[39m, \u001b[38;5;124m'\u001b[39m\u001b[38;5;124mC\u001b[39m\u001b[38;5;124m'\u001b[39m, \u001b[38;5;124m'\u001b[39m\u001b[38;5;124mD\u001b[39m\u001b[38;5;124m'\u001b[39m]\n\u001b[1;32m     11\u001b[0m requirement \u001b[38;5;241m=\u001b[39m {\u001b[38;5;124m'\u001b[39m\u001b[38;5;124mA\u001b[39m\u001b[38;5;124m'\u001b[39m, \u001b[38;5;124m'\u001b[39m\u001b[38;5;124mB\u001b[39m\u001b[38;5;124m'\u001b[39m}\n\u001b[0;32m---> 12\u001b[0m \u001b[43mvalidate\u001b[49m\u001b[43m(\u001b[49m\u001b[43mdata\u001b[49m\u001b[43m,\u001b[49m\u001b[43m \u001b[49m\u001b[43mrequirement\u001b[49m\u001b[43m)\u001b[49m\n",
      "File \u001b[0;32m/usr/local/lib/python3.8/dist-packages/datatest/validation.py:296\u001b[0m, in \u001b[0;36mValidateType.__call__\u001b[0;34m(self, data, requirement, msg)\u001b[0m\n\u001b[1;32m    294\u001b[0m \u001b[38;5;28;01mif\u001b[39;00m \u001b[38;5;28misinstance\u001b[39m(requirement_object, sequence_or_order_types):\n\u001b[1;32m    295\u001b[0m     err\u001b[38;5;241m.\u001b[39m_sorted_str \u001b[38;5;241m=\u001b[39m \u001b[38;5;28;01mFalse\u001b[39;00m\n\u001b[0;32m--> 296\u001b[0m \u001b[38;5;28;01mraise\u001b[39;00m err\n",
      "\u001b[0;31mValidationError\u001b[0m: does not satisfy set membership (2 differences): [\n    Extra('C'),\n    Extra('D'),\n]"
     ]
    }
   ],
   "source": [
    "#\n",
    "# No Acceptance\n",
    "#\n",
    "from datatest import (\n",
    "    validate,\n",
    "    accepted,\n",
    "    Extra,\n",
    ")\n",
    "\n",
    "data = ['A', 'B', 'C', 'D']\n",
    "requirement = {'A', 'B'}\n",
    "validate(data, requirement)"
   ]
  },
  {
   "cell_type": "markdown",
   "id": "850135fc-184e-4b78-a950-c2fb41f038bc",
   "metadata": {},
   "source": [
    "**Accepted Instance**"
   ]
  },
  {
   "cell_type": "code",
   "execution_count": null,
   "id": "faec476c-3a06-4559-ac3b-159a9ea72d55",
   "metadata": {
    "tags": []
   },
   "outputs": [],
   "source": [
    "#\n",
    "# Using Acceptance\n",
    "#\n",
    "from datatest import (\n",
    "    validate,\n",
    "    accepted,\n",
    "    Extra,\n",
    ")\n",
    "\n",
    "data = ['A', 'B', 'C', 'D']\n",
    "requirement = {'A', 'B'}\n",
    "with accepted(Extra('C')):\n",
    "    validate(data, requirement)"
   ]
  },
  {
   "cell_type": "code",
   "execution_count": 25,
   "id": "6342c389-79dd-4a22-90a5-0e871ea624b8",
   "metadata": {},
   "outputs": [
    {
     "ename": "ValidationError",
     "evalue": "does not satisfy set membership (2 differences): [\n    Extra('C'),\n    Extra('D'),\n]",
     "output_type": "error",
     "traceback": [
      "\u001b[0;31m---------------------------------------------------------------------------\u001b[0m",
      "\u001b[0;31mValidationError\u001b[0m                           Traceback (most recent call last)",
      "Input \u001b[0;32mIn [25]\u001b[0m, in \u001b[0;36m<cell line: 6>\u001b[0;34m()\u001b[0m\n\u001b[1;32m      4\u001b[0m data \u001b[38;5;241m=\u001b[39m [\u001b[38;5;124m'\u001b[39m\u001b[38;5;124mA\u001b[39m\u001b[38;5;124m'\u001b[39m, \u001b[38;5;124m'\u001b[39m\u001b[38;5;124mB\u001b[39m\u001b[38;5;124m'\u001b[39m, \u001b[38;5;124m'\u001b[39m\u001b[38;5;124mC\u001b[39m\u001b[38;5;124m'\u001b[39m, \u001b[38;5;124m'\u001b[39m\u001b[38;5;124mD\u001b[39m\u001b[38;5;124m'\u001b[39m]\n\u001b[1;32m      5\u001b[0m requirement \u001b[38;5;241m=\u001b[39m {\u001b[38;5;124m'\u001b[39m\u001b[38;5;124mA\u001b[39m\u001b[38;5;124m'\u001b[39m, \u001b[38;5;124m'\u001b[39m\u001b[38;5;124mB\u001b[39m\u001b[38;5;124m'\u001b[39m}\n\u001b[0;32m----> 6\u001b[0m \u001b[43mvalidate\u001b[49m\u001b[43m(\u001b[49m\u001b[43mdata\u001b[49m\u001b[43m,\u001b[49m\u001b[43m \u001b[49m\u001b[43mrequirement\u001b[49m\u001b[43m)\u001b[49m\n",
      "File \u001b[0;32m/usr/local/lib/python3.8/dist-packages/datatest/validation.py:296\u001b[0m, in \u001b[0;36mValidateType.__call__\u001b[0;34m(self, data, requirement, msg)\u001b[0m\n\u001b[1;32m    294\u001b[0m \u001b[38;5;28;01mif\u001b[39;00m \u001b[38;5;28misinstance\u001b[39m(requirement_object, sequence_or_order_types):\n\u001b[1;32m    295\u001b[0m     err\u001b[38;5;241m.\u001b[39m_sorted_str \u001b[38;5;241m=\u001b[39m \u001b[38;5;28;01mFalse\u001b[39;00m\n\u001b[0;32m--> 296\u001b[0m \u001b[38;5;28;01mraise\u001b[39;00m err\n",
      "\u001b[0;31mValidationError\u001b[0m: does not satisfy set membership (2 differences): [\n    Extra('C'),\n    Extra('D'),\n]"
     ]
    }
   ],
   "source": [
    "#\n",
    "# No Acceptance\n",
    "#\n",
    "data = ['A', 'B', 'C', 'D']\n",
    "requirement = {'A', 'B'}\n",
    "validate(data, requirement)"
   ]
  },
  {
   "cell_type": "markdown",
   "id": "63966193-e70d-4046-aaae-7daa7be3131a",
   "metadata": {},
   "source": [
    "**Accepted Container of Instances**"
   ]
  },
  {
   "cell_type": "code",
   "execution_count": 26,
   "id": "395b2a40-c704-41a3-b5e8-3d906ae0de6c",
   "metadata": {},
   "outputs": [],
   "source": [
    "#\n",
    "# Using Acceptance\n",
    "#\n",
    "data = ['A', 'B', 'C', 'D']\n",
    "requirement = {'A', 'B'}\n",
    "with accepted([Extra('C'), Extra('D')]):\n",
    "    validate(data, requirement)"
   ]
  },
  {
   "cell_type": "code",
   "execution_count": 27,
   "id": "8aef79a8-eab9-4baa-b2a5-e09ce7188649",
   "metadata": {},
   "outputs": [
    {
     "ename": "ValidationError",
     "evalue": "does not satisfy set membership (2 differences): [\n    Extra('C'),\n    Extra('D'),\n]",
     "output_type": "error",
     "traceback": [
      "\u001b[0;31m---------------------------------------------------------------------------\u001b[0m",
      "\u001b[0;31mValidationError\u001b[0m                           Traceback (most recent call last)",
      "Input \u001b[0;32mIn [27]\u001b[0m, in \u001b[0;36m<cell line: 6>\u001b[0;34m()\u001b[0m\n\u001b[1;32m      4\u001b[0m data \u001b[38;5;241m=\u001b[39m [\u001b[38;5;124m'\u001b[39m\u001b[38;5;124mA\u001b[39m\u001b[38;5;124m'\u001b[39m, \u001b[38;5;124m'\u001b[39m\u001b[38;5;124mB\u001b[39m\u001b[38;5;124m'\u001b[39m, \u001b[38;5;124m'\u001b[39m\u001b[38;5;124mC\u001b[39m\u001b[38;5;124m'\u001b[39m, \u001b[38;5;124m'\u001b[39m\u001b[38;5;124mD\u001b[39m\u001b[38;5;124m'\u001b[39m]\n\u001b[1;32m      5\u001b[0m requirement \u001b[38;5;241m=\u001b[39m {\u001b[38;5;124m'\u001b[39m\u001b[38;5;124mA\u001b[39m\u001b[38;5;124m'\u001b[39m, \u001b[38;5;124m'\u001b[39m\u001b[38;5;124mB\u001b[39m\u001b[38;5;124m'\u001b[39m}\n\u001b[0;32m----> 6\u001b[0m \u001b[43mvalidate\u001b[49m\u001b[43m(\u001b[49m\u001b[43mdata\u001b[49m\u001b[43m,\u001b[49m\u001b[43m \u001b[49m\u001b[43mrequirement\u001b[49m\u001b[43m)\u001b[49m\n",
      "File \u001b[0;32m/usr/local/lib/python3.8/dist-packages/datatest/validation.py:296\u001b[0m, in \u001b[0;36mValidateType.__call__\u001b[0;34m(self, data, requirement, msg)\u001b[0m\n\u001b[1;32m    294\u001b[0m \u001b[38;5;28;01mif\u001b[39;00m \u001b[38;5;28misinstance\u001b[39m(requirement_object, sequence_or_order_types):\n\u001b[1;32m    295\u001b[0m     err\u001b[38;5;241m.\u001b[39m_sorted_str \u001b[38;5;241m=\u001b[39m \u001b[38;5;28;01mFalse\u001b[39;00m\n\u001b[0;32m--> 296\u001b[0m \u001b[38;5;28;01mraise\u001b[39;00m err\n",
      "\u001b[0;31mValidationError\u001b[0m: does not satisfy set membership (2 differences): [\n    Extra('C'),\n    Extra('D'),\n]"
     ]
    }
   ],
   "source": [
    "#\n",
    "# No acceptance\n",
    "#\n",
    "data = ['A', 'B', 'C', 'D']\n",
    "requirement = {'A', 'B'}\n",
    "validate(data, requirement)"
   ]
  },
  {
   "cell_type": "markdown",
   "id": "ce236224-b92d-402b-8c32-a456bf12567f",
   "metadata": {},
   "source": [
    "**Accepted Tolerance**"
   ]
  },
  {
   "cell_type": "code",
   "execution_count": 28,
   "id": "406571c0-96f7-496a-8ece-6c4ac0b4c59f",
   "metadata": {},
   "outputs": [],
   "source": [
    "#\n",
    "# Ussing Acceptance\n",
    "#\n",
    "data = {\n",
    "    'A': 100,\n",
    "    'B': 200,\n",
    "    'C': 299,\n",
    "    'D': 405,\n",
    "}\n",
    "requirement = {\n",
    "    'A': 100,\n",
    "    'B': 200,\n",
    "    'C': 300,\n",
    "    'D': 400,\n",
    "}\n",
    "with accepted.tolerance(5):  # accepts ±5\n",
    "    validate(data, requirement)"
   ]
  },
  {
   "cell_type": "code",
   "execution_count": 29,
   "id": "6b934555-5e65-46df-96a9-a7955c6c983c",
   "metadata": {},
   "outputs": [
    {
     "ename": "ValidationError",
     "evalue": "does not satisfy mapping requirements (2 differences): {\n    'C': Deviation(-1, 300),\n    'D': Deviation(+5, 400),\n}",
     "output_type": "error",
     "traceback": [
      "\u001b[0;31m---------------------------------------------------------------------------\u001b[0m",
      "\u001b[0;31mValidationError\u001b[0m                           Traceback (most recent call last)",
      "Input \u001b[0;32mIn [29]\u001b[0m, in \u001b[0;36m<cell line: 16>\u001b[0;34m()\u001b[0m\n\u001b[1;32m      4\u001b[0m data \u001b[38;5;241m=\u001b[39m {\n\u001b[1;32m      5\u001b[0m     \u001b[38;5;124m'\u001b[39m\u001b[38;5;124mA\u001b[39m\u001b[38;5;124m'\u001b[39m: \u001b[38;5;241m100\u001b[39m,\n\u001b[1;32m      6\u001b[0m     \u001b[38;5;124m'\u001b[39m\u001b[38;5;124mB\u001b[39m\u001b[38;5;124m'\u001b[39m: \u001b[38;5;241m200\u001b[39m,\n\u001b[1;32m      7\u001b[0m     \u001b[38;5;124m'\u001b[39m\u001b[38;5;124mC\u001b[39m\u001b[38;5;124m'\u001b[39m: \u001b[38;5;241m299\u001b[39m,\n\u001b[1;32m      8\u001b[0m     \u001b[38;5;124m'\u001b[39m\u001b[38;5;124mD\u001b[39m\u001b[38;5;124m'\u001b[39m: \u001b[38;5;241m405\u001b[39m,\n\u001b[1;32m      9\u001b[0m }\n\u001b[1;32m     10\u001b[0m requirement \u001b[38;5;241m=\u001b[39m {\n\u001b[1;32m     11\u001b[0m     \u001b[38;5;124m'\u001b[39m\u001b[38;5;124mA\u001b[39m\u001b[38;5;124m'\u001b[39m: \u001b[38;5;241m100\u001b[39m,\n\u001b[1;32m     12\u001b[0m     \u001b[38;5;124m'\u001b[39m\u001b[38;5;124mB\u001b[39m\u001b[38;5;124m'\u001b[39m: \u001b[38;5;241m200\u001b[39m,\n\u001b[1;32m     13\u001b[0m     \u001b[38;5;124m'\u001b[39m\u001b[38;5;124mC\u001b[39m\u001b[38;5;124m'\u001b[39m: \u001b[38;5;241m300\u001b[39m,\n\u001b[1;32m     14\u001b[0m     \u001b[38;5;124m'\u001b[39m\u001b[38;5;124mD\u001b[39m\u001b[38;5;124m'\u001b[39m: \u001b[38;5;241m400\u001b[39m,\n\u001b[1;32m     15\u001b[0m }\n\u001b[0;32m---> 16\u001b[0m \u001b[43mvalidate\u001b[49m\u001b[43m(\u001b[49m\u001b[43mdata\u001b[49m\u001b[43m,\u001b[49m\u001b[43m \u001b[49m\u001b[43mrequirement\u001b[49m\u001b[43m)\u001b[49m\n",
      "File \u001b[0;32m/usr/local/lib/python3.8/dist-packages/datatest/validation.py:296\u001b[0m, in \u001b[0;36mValidateType.__call__\u001b[0;34m(self, data, requirement, msg)\u001b[0m\n\u001b[1;32m    294\u001b[0m \u001b[38;5;28;01mif\u001b[39;00m \u001b[38;5;28misinstance\u001b[39m(requirement_object, sequence_or_order_types):\n\u001b[1;32m    295\u001b[0m     err\u001b[38;5;241m.\u001b[39m_sorted_str \u001b[38;5;241m=\u001b[39m \u001b[38;5;28;01mFalse\u001b[39;00m\n\u001b[0;32m--> 296\u001b[0m \u001b[38;5;28;01mraise\u001b[39;00m err\n",
      "\u001b[0;31mValidationError\u001b[0m: does not satisfy mapping requirements (2 differences): {\n    'C': Deviation(-1, 300),\n    'D': Deviation(+5, 400),\n}"
     ]
    }
   ],
   "source": [
    "#\n",
    "# No Acceptance\n",
    "#\n",
    "data = {\n",
    "    'A': 100,\n",
    "    'B': 200,\n",
    "    'C': 299,\n",
    "    'D': 405,\n",
    "}\n",
    "requirement = {\n",
    "    'A': 100,\n",
    "    'B': 200,\n",
    "    'C': 300,\n",
    "    'D': 400,\n",
    "}\n",
    "validate(data, requirement)"
   ]
  },
  {
   "cell_type": "markdown",
   "id": "9b86fc37-11fe-456a-88b7-906c34d7e6a9",
   "metadata": {},
   "source": [
    "**Otras Acceptances**"
   ]
  },
  {
   "cell_type": "markdown",
   "id": "64675ccc-9285-4d22-96fd-36053d85a61a",
   "metadata": {},
   "source": [
    "* accepted.keys()\n",
    "\n",
    "* accepted.args()\n",
    "\n",
    "* accepted.pecent()\n",
    "\n",
    "* Otras"
   ]
  },
  {
   "cell_type": "markdown",
   "id": "09dcc44f-b03f-4681-b490-2fe341af5db2",
   "metadata": {},
   "source": [
    "**Combining Acceptances**"
   ]
  },
  {
   "cell_type": "markdown",
   "id": "d404740a-7e9a-46fe-9510-d522a4b4d60e",
   "metadata": {},
   "source": [
    "```python\n",
    "from datatest import (\n",
    "    validate,\n",
    "    accepted,\n",
    ")\n",
    "\n",
    "# Accept up to five missing differences.\n",
    "with accepted(Missing) & accepted.count(5):\n",
    "    validate(..., ...)\n",
    "\n",
    "# Accept differences of ±10 or ±5%.\n",
    "with accepted.tolerance(10) | accepted.percent(0.05):\n",
    "    validate(..., ...)\n",
    "\n",
    "```"
   ]
  },
  {
   "cell_type": "markdown",
   "id": "14a3d1cb-52e4-4df9-bb1d-72c327d0c0a8",
   "metadata": {},
   "source": [
    "Herramientas para el manejo de datos\n",
    "--"
   ]
  },
  {
   "cell_type": "markdown",
   "id": "1c768772-ca54-488e-8425-07b81f749041",
   "metadata": {},
   "source": [
    "**Directorio de trabajo**"
   ]
  },
  {
   "cell_type": "markdown",
   "id": "b5087f88-a9d0-4481-8f28-08eceabc6db7",
   "metadata": {},
   "source": [
    "```python\n",
    "import pandas as pd\n",
    "from datatest import working_directory\n",
    "\n",
    "with working_directory(__file__):\n",
    "    my_df = pd.read_csv('myfile.csv')\n",
    "```"
   ]
  },
  {
   "cell_type": "markdown",
   "id": "aa966d9c-6dcd-42c9-9bfa-5158c5aa5597",
   "metadata": {},
   "source": [
    "**Repeating Contanier**"
   ]
  },
  {
   "cell_type": "markdown",
   "id": "be0a5f90-39a2-4212-8156-7cb66825126b",
   "metadata": {},
   "source": [
    "Se usa para operar sobre diferentes archivos al mismo tiempo en vez de duplicar operaciones."
   ]
  },
  {
   "cell_type": "markdown",
   "id": "de0b7e6f-f846-4593-9963-416b89b8eada",
   "metadata": {},
   "source": [
    "```python\n",
    "# -----------------------------------------------------------------------------\n",
    "# Using RepeatingContanier\n",
    "#\n",
    "import pandas as pd\n",
    "from datatest import RepeatingContainer\n",
    "\n",
    "repeating = RepeatingContainer([\n",
    "    pd.read_csv('file1.csv'),\n",
    "    pd.read_csv('file2.csv'),\n",
    "])\n",
    "\n",
    "counted1, counted2 = repeating['C'].count()\n",
    "\n",
    "filled1, filled2 = repeating.fillna(method='backfill')\n",
    "\n",
    "summed1, summed2 = repeating[['A', 'C']].groupby('A').sum()\n",
    "````"
   ]
  },
  {
   "cell_type": "markdown",
   "id": "3a1074a6-be99-4a85-bd58-c45eacb3881d",
   "metadata": {},
   "source": [
    "```Python\n",
    "# -----------------------------------------------------------------------------\n",
    "# No RepeatingContainer\n",
    "#\n",
    "import pandas as pd\n",
    "\n",
    "df1 = pd.read_csv('file1.csv')\n",
    "df2 = pd.read_csv('file2.csv')\n",
    "\n",
    "counted1 = df1['C'].count()\n",
    "counted2 = df2['C'].count()\n",
    "\n",
    "filled1 = df1.fillna(method='backfill')\n",
    "filled2 = df2.fillna(method='backfill')\n",
    "\n",
    "summed1 = df1[['A', 'C']].groupby('A').sum()\n",
    "summed2 = df2[['A', 'C']].groupby('A').sum()\n",
    "\n",
    "```"
   ]
  }
 ],
 "metadata": {
  "kernelspec": {
   "display_name": "Python 3 (ipykernel)",
   "language": "python",
   "name": "python3"
  },
  "language_info": {
   "codemirror_mode": {
    "name": "ipython",
    "version": 3
   },
   "file_extension": ".py",
   "mimetype": "text/x-python",
   "name": "python",
   "nbconvert_exporter": "python",
   "pygments_lexer": "ipython3",
   "version": "3.8.10"
  }
 },
 "nbformat": 4,
 "nbformat_minor": 5
}
