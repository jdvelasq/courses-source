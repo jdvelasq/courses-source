{
 "cells": [
  {
   "cell_type": "markdown",
   "id": "364feb7a-666a-46a4-8245-4961ffcbe8c5",
   "metadata": {
    "tags": []
   },
   "source": [
    "Validación de objetos de Pandas\n",
    "===\n",
    "\n",
    "* Ultima modificación: Mayo 14, 2022"
   ]
  },
  {
   "cell_type": "markdown",
   "id": "b4c6e1f5-d7cb-4fcb-b1eb-aea5474cd13c",
   "metadata": {},
   "source": [
    "DataFrame\n",
    "---"
   ]
  },
  {
   "cell_type": "markdown",
   "id": "3873a798-6f47-486c-b050-ed1161c9e6ba",
   "metadata": {},
   "source": [
    "**Default Index**"
   ]
  },
  {
   "cell_type": "code",
   "execution_count": 1,
   "id": "c2509c1f-9daf-4b2c-a5af-28e493644b6e",
   "metadata": {},
   "outputs": [
    {
     "name": "stdout",
     "output_type": "stream",
     "text": [
      "Overwriting /tmp/validation_example.py\n"
     ]
    }
   ],
   "source": [
    "%%writefile /tmp/validation_example.py\n",
    "\n",
    "import pandas as pd\n",
    "\n",
    "import datatest as dt\n",
    "\n",
    "dt.register_accessors()\n",
    "\n",
    "df = pd.DataFrame(data={\"A\": [\"foo\", \"bar\", \"baz\", \"qux\"], \"B\": [10, 20, \"x\", \"y\"]})\n",
    "\n",
    "\n",
    "requirement = [\n",
    "    (\"foo\", 10),\n",
    "    (\"bar\", 20),\n",
    "    (\"baz\", \"x\"),\n",
    "    (\"qux\", \"y\"),\n",
    "]\n",
    "\n",
    "df.validate(requirement)"
   ]
  },
  {
   "cell_type": "code",
   "execution_count": 2,
   "id": "3777b5a4-8286-487a-af8f-a79af4c6095a",
   "metadata": {},
   "outputs": [],
   "source": [
    "!python3 /tmp/validation_example.py"
   ]
  },
  {
   "cell_type": "code",
   "execution_count": 3,
   "id": "a6ce4413-033b-4260-a63c-0ba929d75f53",
   "metadata": {},
   "outputs": [
    {
     "name": "stdout",
     "output_type": "stream",
     "text": [
      "Overwriting /tmp/validation_example.py\n"
     ]
    }
   ],
   "source": [
    "%%writefile /tmp/validation_example.py\n",
    "\n",
    "import pandas as pd\n",
    "\n",
    "import datatest as dt\n",
    "\n",
    "dt.register_accessors()\n",
    "\n",
    "df = pd.DataFrame(data={\"A\": [\"foo\", \"bar\", \"baz\", \"qux\"], \"B\": [10, 20, \"x\", \"y\"]})\n",
    "\n",
    "\n",
    "df.validate((str, int))"
   ]
  },
  {
   "cell_type": "code",
   "execution_count": 4,
   "id": "3963c659-4cc6-4ad0-8374-7d1b1c3898aa",
   "metadata": {},
   "outputs": [
    {
     "name": "stdout",
     "output_type": "stream",
     "text": [
      "Traceback (most recent call last):\n",
      "  File \"/tmp/validation_example.py\", line 11, in <module>\n",
      "    df.validate((str, int))\n",
      "datatest.ValidationError: does not satisfy `(str, int)` (2 differences): [\n",
      "    Invalid(('baz', 'x')),\n",
      "    Invalid(('qux', 'y')),\n",
      "]\n"
     ]
    }
   ],
   "source": [
    "!python3 /tmp/validation_example.py"
   ]
  },
  {
   "cell_type": "markdown",
   "id": "c72cc1ac-4ca7-4ca3-ba8d-c83d65ca1869",
   "metadata": {},
   "source": [
    "**Specified Index**"
   ]
  },
  {
   "cell_type": "code",
   "execution_count": 5,
   "id": "d93c5329-6aed-49e6-8253-9bfb1e10d965",
   "metadata": {},
   "outputs": [
    {
     "name": "stdout",
     "output_type": "stream",
     "text": [
      "Overwriting /tmp/validation_example.py\n"
     ]
    }
   ],
   "source": [
    "%%writefile /tmp/validation_example.py\n",
    "\n",
    "import pandas as pd\n",
    "\n",
    "import datatest as dt\n",
    "\n",
    "dt.register_accessors()\n",
    "\n",
    "df = pd.DataFrame(\n",
    "    data={\"A\": [\"foo\", \"bar\", \"baz\", \"qux\"], \"B\": [10, 20, \"x\", \"y\"]},\n",
    "    index=[\"I\", \"II\", \"III\", \"IV\"],\n",
    ")\n",
    "\n",
    "requirement = {\n",
    "    \"I\": (\"foo\", 10),\n",
    "    \"II\": (\"bar\", 20),\n",
    "    \"III\": (\"baz\", \"x\"),\n",
    "    \"IV\": (\"qux\", \"y\"),\n",
    "}\n",
    "\n",
    "df.validate(requirement)"
   ]
  },
  {
   "cell_type": "code",
   "execution_count": 6,
   "id": "d4de2109-e190-4526-8a7a-45c5adcf8e15",
   "metadata": {},
   "outputs": [],
   "source": [
    "!python3 /tmp/validation_example.py"
   ]
  },
  {
   "cell_type": "code",
   "execution_count": 7,
   "id": "6d8a281c-c50a-42b4-8fb5-495fe71481f4",
   "metadata": {},
   "outputs": [
    {
     "name": "stdout",
     "output_type": "stream",
     "text": [
      "Overwriting /tmp/validation_example.py\n"
     ]
    }
   ],
   "source": [
    "%%writefile /tmp/validation_example.py\n",
    "\n",
    "import pandas as pd\n",
    "\n",
    "import datatest as dt\n",
    "\n",
    "dt.register_accessors()\n",
    "\n",
    "df = pd.DataFrame(\n",
    "    data={\"A\": [\"foo\", \"bar\", \"baz\", \"qux\"], \"B\": [10, 20, \"x\", \"y\"]},\n",
    "    index=[\"I\", \"II\", \"III\", \"IV\"],\n",
    ")\n",
    "\n",
    "df.validate((str, int))"
   ]
  },
  {
   "cell_type": "code",
   "execution_count": 8,
   "id": "e9049b23-a5fa-4913-9976-15fa8b01a429",
   "metadata": {},
   "outputs": [
    {
     "name": "stdout",
     "output_type": "stream",
     "text": [
      "Traceback (most recent call last):\n",
      "  File \"/tmp/validation_example.py\", line 13, in <module>\n",
      "    df.validate((str, int))\n",
      "datatest.ValidationError: does not satisfy `(str, int)` (2 differences): {\n",
      "    'III': Invalid(('baz', 'x')),\n",
      "    'IV': Invalid(('qux', 'y')),\n",
      "}\n"
     ]
    }
   ],
   "source": [
    "!python3 /tmp/validation_example.py"
   ]
  },
  {
   "cell_type": "markdown",
   "id": "5a2a62ae-7dc7-4549-9289-c54fb8712994",
   "metadata": {},
   "source": [
    "Series\n",
    "---"
   ]
  },
  {
   "cell_type": "markdown",
   "id": "5934ad31-8fca-4248-93cb-dfdf976c2413",
   "metadata": {},
   "source": [
    "**Default Index**"
   ]
  },
  {
   "cell_type": "code",
   "execution_count": 9,
   "id": "46d794b6-7130-412e-80e3-3a2e2624a95d",
   "metadata": {},
   "outputs": [
    {
     "name": "stdout",
     "output_type": "stream",
     "text": [
      "Overwriting /tmp/validation_example.py\n"
     ]
    }
   ],
   "source": [
    "%%writefile /tmp/validation_example.py\n",
    "\n",
    "import pandas as pd\n",
    "\n",
    "import datatest as dt\n",
    "\n",
    "\n",
    "dt.register_accessors()\n",
    "\n",
    "s = pd.Series(data=[10, 20, \"x\", \"y\"])\n",
    "\n",
    "requirement = [10, 20, \"x\", \"y\"]\n",
    "\n",
    "s.validate(requirement)"
   ]
  },
  {
   "cell_type": "code",
   "execution_count": 10,
   "id": "361f326b-b993-4842-8e7c-93fc153cd722",
   "metadata": {},
   "outputs": [],
   "source": [
    "!python3 /tmp/validation_example.py"
   ]
  },
  {
   "cell_type": "code",
   "execution_count": 11,
   "id": "3c151abd-fa5d-4909-a7a6-8ae64541b731",
   "metadata": {},
   "outputs": [
    {
     "name": "stdout",
     "output_type": "stream",
     "text": [
      "Overwriting /tmp/validation_example.py\n"
     ]
    }
   ],
   "source": [
    "%%writefile /tmp/validation_example.py\n",
    "\n",
    "import pandas as pd\n",
    "\n",
    "import datatest as dt\n",
    "\n",
    "dt.register_accessors()\n",
    "\n",
    "s = pd.Series(data=[10, 20, \"x\", \"y\"])\n",
    "\n",
    "s.validate(int)"
   ]
  },
  {
   "cell_type": "code",
   "execution_count": 12,
   "id": "8e9136fe-197a-4e0c-8f55-6f054d50993e",
   "metadata": {},
   "outputs": [
    {
     "name": "stdout",
     "output_type": "stream",
     "text": [
      "Traceback (most recent call last):\n",
      "  File \"/tmp/validation_example.py\", line 10, in <module>\n",
      "    s.validate(int)\n",
      "datatest.ValidationError: does not satisfy `int` (2 differences): [\n",
      "    Invalid('x'),\n",
      "    Invalid('y'),\n",
      "]\n"
     ]
    }
   ],
   "source": [
    "!python3 /tmp/validation_example.py"
   ]
  },
  {
   "cell_type": "markdown",
   "id": "71fd1ffe-0d32-47c3-80d5-6f92a455cbb5",
   "metadata": {},
   "source": [
    "**Specified Index**"
   ]
  },
  {
   "cell_type": "code",
   "execution_count": 13,
   "id": "e12e66b4-6a54-49be-8c61-9cb241d570eb",
   "metadata": {},
   "outputs": [
    {
     "name": "stdout",
     "output_type": "stream",
     "text": [
      "Overwriting /tmp/validation_example.py\n"
     ]
    }
   ],
   "source": [
    "%%writefile /tmp/validation_example.py\n",
    "\n",
    "import pandas as pd\n",
    "\n",
    "import datatest as dt\n",
    "\n",
    "dt.register_accessors()\n",
    "\n",
    "s = pd.Series(data=[10, 20, 'x', 'y'],\n",
    "              index=['I', 'II', 'III', 'IV'])\n",
    "\n",
    "requirement = {'I': 10, 'II': 20, 'III': 'x', 'IV': 'y'}\n",
    "\n",
    "s.validate(requirement)"
   ]
  },
  {
   "cell_type": "code",
   "execution_count": 14,
   "id": "767611b8-7018-4696-9e15-3df2ed685011",
   "metadata": {},
   "outputs": [],
   "source": [
    "!python3 /tmp/validation_example.py"
   ]
  },
  {
   "cell_type": "code",
   "execution_count": 15,
   "id": "eb6cf8bc-d79d-454b-9ad8-87e8557f5655",
   "metadata": {},
   "outputs": [
    {
     "name": "stdout",
     "output_type": "stream",
     "text": [
      "Overwriting /tmp/validation_example.py\n"
     ]
    }
   ],
   "source": [
    "%%writefile /tmp/validation_example.py\n",
    "\n",
    "import pandas as pd\n",
    "\n",
    "import datatest as dt\n",
    "\n",
    "dt.register_accessors()\n",
    "\n",
    "s = pd.Series(data=[10, 20, 'x', 'y'],\n",
    "              index=['I', 'II', 'III', 'IV'])\n",
    "\n",
    "s.validate(int)"
   ]
  },
  {
   "cell_type": "code",
   "execution_count": 16,
   "id": "7f295c4d-9963-4d00-8054-07501bc6a2aa",
   "metadata": {},
   "outputs": [
    {
     "name": "stdout",
     "output_type": "stream",
     "text": [
      "Traceback (most recent call last):\n",
      "  File \"/tmp/validation_example.py\", line 11, in <module>\n",
      "    s.validate(int)\n",
      "datatest.ValidationError: does not satisfy `int` (2 differences): {\n",
      "    'III': Invalid('x'),\n",
      "    'IV': Invalid('y'),\n",
      "}\n"
     ]
    }
   ],
   "source": [
    "!python3 /tmp/validation_example.py"
   ]
  },
  {
   "cell_type": "markdown",
   "id": "c28cb4df-8435-461c-9dd1-38bf3689c00f",
   "metadata": {},
   "source": [
    "Index & MultiIndex\n",
    "--"
   ]
  },
  {
   "cell_type": "code",
   "execution_count": 17,
   "id": "2465adaa-d858-4bb5-a0c6-42fb5ebb86ad",
   "metadata": {},
   "outputs": [
    {
     "name": "stdout",
     "output_type": "stream",
     "text": [
      "Overwriting /tmp/validation_example.py\n"
     ]
    }
   ],
   "source": [
    "%%writefile /tmp/validation_example.py\n",
    "\n",
    "import pandas as pd\n",
    "\n",
    "import datatest as dt\n",
    "\n",
    "dt.register_accessors()\n",
    "\n",
    "index = pd.Index(['I', 'II', 'III', 'IV'])\n",
    "requirement = ['I', 'II', 'III', 'IV']\n",
    "index.validate(requirement)\n",
    "\n",
    "multi = pd.MultiIndex.from_tuples([\n",
    "    ('I', 'a'),\n",
    "    ('II', 'b'),\n",
    "    ('III', 'c'),\n",
    "    ('IV', 'd'),\n",
    "])\n",
    "requirement = [('I', 'a'), ('II', 'b'), ('III', 'c'), ('IV', 'd')]\n",
    "multi.validate(requirement)"
   ]
  },
  {
   "cell_type": "code",
   "execution_count": 18,
   "id": "90cb23f8-f391-43d6-ba25-c535af9aaab3",
   "metadata": {},
   "outputs": [],
   "source": [
    "!python3 /tmp/validation_example.py"
   ]
  }
 ],
 "metadata": {
  "kernelspec": {
   "display_name": "Python 3 (ipykernel)",
   "language": "python",
   "name": "python3"
  },
  "language_info": {
   "codemirror_mode": {
    "name": "ipython",
    "version": 3
   },
   "file_extension": ".py",
   "mimetype": "text/x-python",
   "name": "python",
   "nbconvert_exporter": "python",
   "pygments_lexer": "ipython3",
   "version": "3.8.10"
  }
 },
 "nbformat": 4,
 "nbformat_minor": 5
}
