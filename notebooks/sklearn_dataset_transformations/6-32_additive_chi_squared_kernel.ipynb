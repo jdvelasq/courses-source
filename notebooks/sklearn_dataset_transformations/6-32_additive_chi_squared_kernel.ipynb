{
 "cells": [
  {
   "cell_type": "markdown",
   "id": "7c4c54a5-f8fd-4c39-849b-5e235fd97071",
   "metadata": {
    "tags": []
   },
   "source": [
    "AdditiveChi2Sample (Additive Chi Squared Kernel) --- 1:45 min\n",
    "===\n",
    "\n",
    "* 1:45 min | Última modificación: Octubre 7, 2021 | [YouTube](https://youtu.be/z61YHt4N4ik)"
   ]
  },
  {
   "cell_type": "markdown",
   "id": "6241cfca-32fd-4214-b18c-0ff959f8f53e",
   "metadata": {},
   "source": [
    "**Kernel**:\n",
    "\n",
    "$$\n",
    "k(x,y) = \\sum_i \\frac{2 x_i y_i}{x_i + y_i}\n",
    "$$"
   ]
  },
  {
   "cell_type": "code",
   "execution_count": 2,
   "id": "555202e8-ef7d-4e3d-809e-02942a85163e",
   "metadata": {},
   "outputs": [
    {
     "data": {
      "text/plain": [
       "0.9821925431274346"
      ]
     },
     "execution_count": 2,
     "metadata": {},
     "output_type": "execute_result"
    }
   ],
   "source": [
    "from sklearn.datasets import load_digits\n",
    "from sklearn.kernel_approximation import AdditiveChi2Sampler\n",
    "from sklearn.linear_model import SGDClassifier\n",
    "\n",
    "X, y = load_digits(return_X_y=True)\n",
    "\n",
    "chi2sampler = AdditiveChi2Sampler(\n",
    "    # -------------------------------------------------------------------------\n",
    "    # Gives the number of (complex) sampling points.\n",
    "    sample_steps=2,\n",
    "    # -------------------------------------------------------------------------\n",
    "    # Sampling interval. Must be specified when sample_steps not in {1,2,3}.\n",
    "    sample_interval=None,\n",
    ")\n",
    "\n",
    "X_transformed = chi2sampler.fit_transform(X, y)\n",
    "\n",
    "clf = SGDClassifier(\n",
    "    max_iter=100,\n",
    "    random_state=0,\n",
    "    tol=1e-3,\n",
    ")\n",
    "\n",
    "clf.fit(X_transformed, y)\n",
    "\n",
    "clf.score(X_transformed, y)"
   ]
  }
 ],
 "metadata": {
  "kernelspec": {
   "display_name": "Python 3",
   "language": "python",
   "name": "python3"
  },
  "language_info": {
   "codemirror_mode": {
    "name": "ipython",
    "version": 3
   },
   "file_extension": ".py",
   "mimetype": "text/x-python",
   "name": "python",
   "nbconvert_exporter": "python",
   "pygments_lexer": "ipython3",
   "version": "3.6.9"
  }
 },
 "nbformat": 4,
 "nbformat_minor": 5
}
