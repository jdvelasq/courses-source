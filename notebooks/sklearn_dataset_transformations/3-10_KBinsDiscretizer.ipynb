{
 "cells": [
  {
   "cell_type": "markdown",
   "id": "92575af8-2dec-4af0-9830-7d9759b6307a",
   "metadata": {
    "tags": []
   },
   "source": [
    "KBinsDiscretizer --- 4:52 min\n",
    "===\n",
    "\n",
    "* 4:52 min | Última modificación: Octubre 7, 2021 | [YouTube](https://youtu.be/SR-rnqAmQVo)"
   ]
  },
  {
   "cell_type": "code",
   "execution_count": 1,
   "id": "66b722f8-5a51-40e2-aa3f-2770a9bfd3ac",
   "metadata": {},
   "outputs": [
    {
     "data": {
      "text/plain": [
       "array([[ 0.,  4., 12.],\n",
       "       [ 1.,  5., 15.],\n",
       "       [ 2.,  6., 14.],\n",
       "       [ 3.,  3., 11.],\n",
       "       [ 4.,  7., 11.],\n",
       "       [ 5.,  3., 13.],\n",
       "       [ 6.,  7., 11.],\n",
       "       [ 7.,  6., 14.],\n",
       "       [ 8.,  3., 18.],\n",
       "       [ 9.,  2., 13.],\n",
       "       [10.,  1., 14.]])"
      ]
     },
     "execution_count": 1,
     "metadata": {},
     "output_type": "execute_result"
    }
   ],
   "source": [
    "import numpy as np\n",
    "\n",
    "X = np.array(\n",
    "    [\n",
    "        [0.0, 4.0, 12],\n",
    "        [1.0, 5.0, 15],\n",
    "        [2.0, 6.0, 14],\n",
    "        [3.0, 3.0, 11],\n",
    "        [4.0, 7.0, 11],\n",
    "        [5.0, 3.0, 13],\n",
    "        [6.0, 7.0, 11],\n",
    "        [7.0, 6.0, 14],\n",
    "        [8.0, 3.0, 18],\n",
    "        [9.0, 2.0, 13],\n",
    "        [10.0, 1.0, 14],\n",
    "    ]\n",
    ")\n",
    "X"
   ]
  },
  {
   "cell_type": "code",
   "execution_count": 2,
   "id": "49c6507b-e2d0-4045-956a-e3f67bf50a96",
   "metadata": {},
   "outputs": [
    {
     "data": {
      "text/plain": [
       "array([[0., 1., 0.],\n",
       "       [0., 1., 1.],\n",
       "       [0., 1., 1.],\n",
       "       [0., 0., 0.],\n",
       "       [1., 1., 0.],\n",
       "       [1., 0., 1.],\n",
       "       [1., 1., 0.],\n",
       "       [2., 1., 1.],\n",
       "       [2., 0., 1.],\n",
       "       [2., 0., 1.],\n",
       "       [2., 0., 1.]])"
      ]
     },
     "execution_count": 2,
     "metadata": {},
     "output_type": "execute_result"
    }
   ],
   "source": [
    "from sklearn.preprocessing import KBinsDiscretizer\n",
    "\n",
    "kBinsDiscretizer = KBinsDiscretizer(\n",
    "    # -------------------------------------------------------------------------\n",
    "    # The number of bins to produce. Raises ValueError if n_bins < 2.\n",
    "    n_bins=[3, 2, 2],\n",
    "    # -------------------------------------------------------------------------\n",
    "    # Method used to encode the transformed result.\n",
    "    # - 'onehot'\n",
    "    # - 'onehot-dense'\n",
    "    # - 'ordinal'\n",
    "    encode=\"ordinal\",\n",
    "    # -------------------------------------------------------------------------\n",
    "    # Strategy used to define the widths of the bins.\n",
    "    # - 'uniform': All bins in each feature have identical widths.\n",
    "    # - 'quantile': All bins in each feature have the same number of points.\n",
    "    # - 'kmeans': Values in each bin have the same nearest center of a 1D\n",
    "    #   k-means cluster.\n",
    "    strategy=\"quantile\",\n",
    "    # -------------------------------------------------------------------------\n",
    "    # The desired data-type for the output.\n",
    "    # - np.float32\n",
    "    # - np.float64\n",
    "    # dtype=None,\n",
    ")\n",
    "\n",
    "\n",
    "kBinsDiscretizer.fit(X)\n",
    "\n",
    "kBinsDiscretizer.transform(X)"
   ]
  },
  {
   "cell_type": "code",
   "execution_count": 3,
   "id": "1f2f2bb0-4929-4d5b-aa6f-89c3e03a5cca",
   "metadata": {},
   "outputs": [
    {
     "data": {
      "text/plain": [
       "array([array([ 0.        ,  3.33333333,  6.66666667, 10.        ]),\n",
       "       array([1., 4., 7.]), array([11., 13., 18.])], dtype=object)"
      ]
     },
     "execution_count": 3,
     "metadata": {},
     "output_type": "execute_result"
    }
   ],
   "source": [
    "kBinsDiscretizer.bin_edges_"
   ]
  },
  {
   "cell_type": "code",
   "execution_count": 4,
   "id": "e3caa818-884d-4f98-8e8c-a4bdb5a332c9",
   "metadata": {},
   "outputs": [
    {
     "data": {
      "text/plain": [
       "array([3, 2, 2])"
      ]
     },
     "execution_count": 4,
     "metadata": {},
     "output_type": "execute_result"
    }
   ],
   "source": [
    "kBinsDiscretizer.n_bins_"
   ]
  }
 ],
 "metadata": {
  "kernelspec": {
   "display_name": "Python 3",
   "language": "python",
   "name": "python3"
  },
  "language_info": {
   "codemirror_mode": {
    "name": "ipython",
    "version": 3
   },
   "file_extension": ".py",
   "mimetype": "text/x-python",
   "name": "python",
   "nbconvert_exporter": "python",
   "pygments_lexer": "ipython3",
   "version": "3.6.9"
  }
 },
 "nbformat": 4,
 "nbformat_minor": 5
}
