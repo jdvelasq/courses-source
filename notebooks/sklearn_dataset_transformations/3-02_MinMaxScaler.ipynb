{
 "cells": [
  {
   "cell_type": "markdown",
   "id": "3b516949-15cb-459d-b6cc-1e07062c5fa8",
   "metadata": {
    "tags": []
   },
   "source": [
    "MinMaxScaler --- 2:44 min\n",
    "===\n",
    "\n",
    "* 2:44 min | Última modificación: Octubre 7, 2021 | [YouTube](https://youtu.be/IrptjYgfxGY)"
   ]
  },
  {
   "cell_type": "markdown",
   "id": "a9eb7ce9-cfaf-4ada-ba60-2ae9304e5607",
   "metadata": {},
   "source": [
    "En el escalado lineal se lleva cada columna al rango 0-1 con:\n",
    "\n",
    "$$\n",
    "x_{*} = \\frac{x-\\min(x)}{\\max(x) - \\min(x)}\n",
    "$$"
   ]
  },
  {
   "cell_type": "markdown",
   "id": "c27d5adc-f585-44d9-ae80-2fed2468ede9",
   "metadata": {},
   "source": [
    "* Se usa para preservar entradas con 0 en los datos.\n",
    "\n",
    "* Permite robustes ante desviaciones estándar muy pequeñas."
   ]
  },
  {
   "cell_type": "code",
   "execution_count": 1,
   "id": "4f46f0e4-0ba7-473a-a27b-76e8672c3449",
   "metadata": {},
   "outputs": [],
   "source": [
    "import seaborn as sns\n",
    "\n",
    "penguins = sns.load_dataset(\"penguins\")\n",
    "\n",
    "data = penguins[[\"flipper_length_mm\"]]\n",
    "data = data.rename(columns={\"flipper_length_mm\": \"original\"})"
   ]
  },
  {
   "cell_type": "code",
   "execution_count": 2,
   "id": "24a7f883-82d7-46fc-9168-495c081202c5",
   "metadata": {},
   "outputs": [],
   "source": [
    "from sklearn.preprocessing import MinMaxScaler\n",
    "\n",
    "minMaxScaler = MinMaxScaler(\n",
    "    # -------------------------------------------------------------------------\n",
    "    # Desired range of transformed data.\n",
    "    feature_range=(0, 1),\n",
    "    # -------------------------------------------------------------------------\n",
    "    # Set to True to clip transformed values of held-out data to provided\n",
    "    # feature range.\n",
    "    # clip=False,\n",
    ")\n",
    "minMaxScaler.fit(data)\n",
    "\n",
    "data[\"transformed\"] = minMaxScaler.transform(data)"
   ]
  },
  {
   "cell_type": "code",
   "execution_count": 3,
   "id": "2e9875a4-8004-48da-aabc-0f2b683fbf93",
   "metadata": {},
   "outputs": [
    {
     "data": {
      "image/png": "[encoded data removed]",
      "text/plain": [
       "<Figure size 432x432 with 3 Axes>"
      ]
     },
     "metadata": {
      "needs_background": "light"
     },
     "output_type": "display_data"
    }
   ],
   "source": [
    "import matplotlib.pyplot as plt\n",
    "\n",
    "sns.jointplot(x=\"original\", y=\"transformed\", data=data, kind=\"scatter\")\n",
    "plt.show()"
   ]
  },
  {
   "cell_type": "code",
   "execution_count": 4,
   "id": "30418935-6901-435c-85cd-d915959085ab",
   "metadata": {},
   "outputs": [
    {
     "data": {
      "text/plain": [
       "array([-2.91525424])"
      ]
     },
     "metadata": {},
     "output_type": "display_data"
    },
    {
     "data": {
      "text/plain": [
       "array([0.01694915])"
      ]
     },
     "metadata": {},
     "output_type": "display_data"
    },
    {
     "data": {
      "text/plain": [
       "array([172.])"
      ]
     },
     "metadata": {},
     "output_type": "display_data"
    },
    {
     "data": {
      "text/plain": [
       "array([231.])"
      ]
     },
     "metadata": {},
     "output_type": "display_data"
    },
    {
     "data": {
      "text/plain": [
       "array([59.])"
      ]
     },
     "metadata": {},
     "output_type": "display_data"
    }
   ],
   "source": [
    "display(\n",
    "    minMaxScaler.min_,\n",
    "    minMaxScaler.scale_,\n",
    "    minMaxScaler.data_min_,\n",
    "    minMaxScaler.data_max_,\n",
    "    minMaxScaler.data_range_,\n",
    ")"
   ]
  }
 ],
 "metadata": {
  "kernelspec": {
   "display_name": "Python 3",
   "language": "python",
   "name": "python3"
  },
  "language_info": {
   "codemirror_mode": {
    "name": "ipython",
    "version": 3
   },
   "file_extension": ".py",
   "mimetype": "text/x-python",
   "name": "python",
   "nbconvert_exporter": "python",
   "pygments_lexer": "ipython3",
   "version": "3.6.9"
  }
 },
 "nbformat": 4,
 "nbformat_minor": 5
}
