{
 "cells": [
  {
   "cell_type": "markdown",
   "id": "bf73b997-662a-4308-ac96-44fa00fe16d5",
   "metadata": {
    "tags": []
   },
   "source": [
    "Kernel Approximation\n",
    "===\n",
    "\n",
    "* *60:00 min* | Última modificación: Agosto 11, 2021 | YouTube"
   ]
  },
  {
   "cell_type": "code",
   "execution_count": null,
   "id": "cddfc01a-bab6-404a-855d-30d43d619b81",
   "metadata": {},
   "outputs": [],
   "source": []
  },
  {
   "cell_type": "code",
   "execution_count": null,
   "id": "d815fcde-c647-4154-bcc1-5919675fcd0b",
   "metadata": {},
   "outputs": [],
   "source": []
  }
 ],
 "metadata": {
  "kernelspec": {
   "display_name": "Python 3",
   "language": "python",
   "name": "python3"
  },
  "language_info": {
   "codemirror_mode": {
    "name": "ipython",
    "version": 3
   },
   "file_extension": ".py",
   "mimetype": "text/x-python",
   "name": "python",
   "nbconvert_exporter": "python",
   "pygments_lexer": "ipython3",
   "version": "3.6.9"
  }
 },
 "nbformat": 4,
 "nbformat_minor": 5
}
