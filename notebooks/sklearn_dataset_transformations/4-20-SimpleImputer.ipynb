{
 "cells": [
  {
   "cell_type": "markdown",
   "id": "7c4c54a5-f8fd-4c39-849b-5e235fd97071",
   "metadata": {
    "tags": []
   },
   "source": [
    "SimpleImputer --- 5:29 min\n",
    "===\n",
    "\n",
    "* 5:29 min | Última modificación: Octubre 7, 2021 | [YouTube](https://youtu.be/lX3CdB30xeM)"
   ]
  },
  {
   "cell_type": "code",
   "execution_count": 1,
   "id": "7a26042f-a3c0-4141-a9db-e50422f2b2b6",
   "metadata": {},
   "outputs": [],
   "source": [
    "import numpy as np\n",
    "\n",
    "X_train = [\n",
    "    [1, 2],\n",
    "    [np.nan, 3],\n",
    "    [7, 6],\n",
    "]\n",
    "\n",
    "X_test = [\n",
    "    [np.nan, 2],\n",
    "    [6, np.nan],\n",
    "    [7, 6],\n",
    "    [4, np.nan],\n",
    "]"
   ]
  },
  {
   "cell_type": "code",
   "execution_count": 2,
   "id": "36c63c13-2ce7-4abf-8b67-8c9e59af0ff9",
   "metadata": {},
   "outputs": [
    {
     "data": {
      "text/plain": [
       "array([[4.        , 2.        ],\n",
       "       [6.        , 3.66666667],\n",
       "       [7.        , 6.        ],\n",
       "       [4.        , 3.66666667]])"
      ]
     },
     "execution_count": 2,
     "metadata": {},
     "output_type": "execute_result"
    }
   ],
   "source": [
    "from sklearn.impute import SimpleImputer\n",
    "\n",
    "simpleImputer = SimpleImputer(\n",
    "    # -------------------------------------------------------------------------\n",
    "    # The placeholder for the missing values.\n",
    "    missing_values=np.nan,\n",
    "    # -------------------------------------------------------------------------\n",
    "    # The imputation strategy.\n",
    "    # - If “mean”, then replace missing values using the mean along each column\n",
    "    # - If “median”, then replace missing values using the median along each\n",
    "    #   column.\n",
    "    # - If “most_frequent”, then replace missing using the most frequent value\n",
    "    #   along each column.\n",
    "    # - If “constant”, then replace missing values with fill_value.\n",
    "    strategy=\"mean\",\n",
    "    # -------------------------------------------------------------------------\n",
    "    # When strategy == “constant”, fill_value is used to replace all\n",
    "    # occurrences of missing_values.\n",
    "    fill_value=None,\n",
    "    # -------------------------------------------------------------------------\n",
    "    # If True, a MissingIndicator transform will stack onto output of the\n",
    "    # imputer’s transform.\n",
    "    add_indicator=False,\n",
    ")\n",
    "\n",
    "simpleImputer.fit(X_train)\n",
    "\n",
    "simpleImputer.transform(X_test)"
   ]
  },
  {
   "cell_type": "code",
   "execution_count": 3,
   "id": "d8ff26fe-4a8f-4a4b-bf53-d45dd54095a8",
   "metadata": {},
   "outputs": [
    {
     "data": {
      "text/plain": [
       "array([4.        , 3.66666667])"
      ]
     },
     "execution_count": 3,
     "metadata": {},
     "output_type": "execute_result"
    }
   ],
   "source": [
    "simpleImputer.statistics_"
   ]
  }
 ],
 "metadata": {
  "kernelspec": {
   "display_name": "Python 3",
   "language": "python",
   "name": "python3"
  },
  "language_info": {
   "codemirror_mode": {
    "name": "ipython",
    "version": 3
   },
   "file_extension": ".py",
   "mimetype": "text/x-python",
   "name": "python",
   "nbconvert_exporter": "python",
   "pygments_lexer": "ipython3",
   "version": "3.6.9"
  }
 },
 "nbformat": 4,
 "nbformat_minor": 5
}
