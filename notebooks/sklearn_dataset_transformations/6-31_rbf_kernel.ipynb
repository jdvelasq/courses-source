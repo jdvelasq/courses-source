{
 "cells": [
  {
   "cell_type": "markdown",
   "id": "7c4c54a5-f8fd-4c39-849b-5e235fd97071",
   "metadata": {
    "tags": []
   },
   "source": [
    "RBFSampler (Radial Basis Function Kernel) --- 2:15 min\n",
    "===\n",
    "\n",
    "* 2:15 min | Última modificación: Octubre 7, 2021 | [YouTube](https://youtu.be/JjT7Pox_Yfs)"
   ]
  },
  {
   "cell_type": "markdown",
   "id": "6241cfca-32fd-4214-b18c-0ff959f8f53e",
   "metadata": {},
   "source": [
    "**Kernel**:\n",
    "\n",
    "$$\n",
    "f(x) = \\exp(-\\gamma \\cdot x^2)\n",
    "$$"
   ]
  },
  {
   "cell_type": "code",
   "execution_count": 1,
   "id": "555202e8-ef7d-4e3d-809e-02942a85163e",
   "metadata": {},
   "outputs": [
    {
     "data": {
      "text/plain": [
       "(4, 100)"
      ]
     },
     "execution_count": 1,
     "metadata": {},
     "output_type": "execute_result"
    }
   ],
   "source": [
    "from sklearn.kernel_approximation import RBFSampler\n",
    "from sklearn.linear_model import SGDClassifier\n",
    "\n",
    "X = [\n",
    "    [0, 0],\n",
    "    [1, 1],\n",
    "    [1, 0],\n",
    "    [0, 1],\n",
    "]\n",
    "\n",
    "y = [\n",
    "    0,\n",
    "    0,\n",
    "    1,\n",
    "    1,\n",
    "]\n",
    "\n",
    "rbfSampler = RBFSampler(\n",
    "    # -------------------------------------------------------------------------\n",
    "    # Parameter of RBF kernel: exp(-gamma * x^2).\n",
    "    gamma=1,\n",
    "    # -------------------------------------------------------------------------\n",
    "    # Number of Monte Carlo samples per original feature.\n",
    "    n_components=100,\n",
    "    # -------------------------------------------------------------------------\n",
    "    # Pseudo-random number generator to control the generation of the random\n",
    "    # weights and random offset when fitting the training data.\n",
    "    random_state=1,\n",
    ")\n",
    "\n",
    "X_features = rbfSampler.fit_transform(X)\n",
    "\n",
    "X_features.shape"
   ]
  },
  {
   "cell_type": "code",
   "execution_count": 2,
   "id": "51276216-5439-43e2-863e-06d2846332c7",
   "metadata": {},
   "outputs": [
    {
     "data": {
      "text/plain": [
       "1.0"
      ]
     },
     "execution_count": 2,
     "metadata": {},
     "output_type": "execute_result"
    }
   ],
   "source": [
    "sgdClassifier = SGDClassifier(max_iter=100, tol=1e-3)\n",
    "\n",
    "sgdClassifier.fit(X_features, y)\n",
    "\n",
    "sgdClassifier.score(X_features, y)"
   ]
  }
 ],
 "metadata": {
  "kernelspec": {
   "display_name": "Python 3",
   "language": "python",
   "name": "python3"
  },
  "language_info": {
   "codemirror_mode": {
    "name": "ipython",
    "version": 3
   },
   "file_extension": ".py",
   "mimetype": "text/x-python",
   "name": "python",
   "nbconvert_exporter": "python",
   "pygments_lexer": "ipython3",
   "version": "3.6.9"
  }
 },
 "nbformat": 4,
 "nbformat_minor": 5
}
