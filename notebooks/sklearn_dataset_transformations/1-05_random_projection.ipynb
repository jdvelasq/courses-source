{
 "cells": [
  {
   "cell_type": "markdown",
   "id": "23efcb37-ff51-4d55-97b6-0f5a3ad3ee54",
   "metadata": {
    "tags": []
   },
   "source": [
    "Proyeciones aleatorias\n",
    "===\n",
    "\n",
    "* *60:00 min* | Última modificación: Agosto 11, 2021 | YouTube"
   ]
  },
  {
   "cell_type": "code",
   "execution_count": null,
   "id": "0c78fe59-6a52-42ac-a527-645af37c1f81",
   "metadata": {},
   "outputs": [],
   "source": []
  }
 ],
 "metadata": {
  "kernelspec": {
   "display_name": "Python 3",
   "language": "python",
   "name": "python3"
  },
  "language_info": {
   "codemirror_mode": {
    "name": "ipython",
    "version": 3
   },
   "file_extension": ".py",
   "mimetype": "text/x-python",
   "name": "python",
   "nbconvert_exporter": "python",
   "pygments_lexer": "ipython3",
   "version": "3.6.9"
  }
 },
 "nbformat": 4,
 "nbformat_minor": 5
}
