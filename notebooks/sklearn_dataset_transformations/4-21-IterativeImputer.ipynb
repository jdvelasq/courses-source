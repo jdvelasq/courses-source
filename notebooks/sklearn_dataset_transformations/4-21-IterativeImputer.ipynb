{
 "cells": [
  {
   "cell_type": "markdown",
   "id": "7c4c54a5-f8fd-4c39-849b-5e235fd97071",
   "metadata": {
    "tags": []
   },
   "source": [
    "IterativeImputer --- 5:13 min\n",
    "===\n",
    "\n",
    "* 5:13 min | Última modificación: Octubre 7, 2021 | [YouTube](https://youtu.be/V06mdCLVkgs)"
   ]
  },
  {
   "cell_type": "markdown",
   "id": "72fcdbbe-bfa7-4bd4-86bb-4f89bcd704a6",
   "metadata": {},
   "source": [
    "En esta estrategía para imputar valores faltantes, se modela cada variable con valores faltantes como una función de otras características."
   ]
  },
  {
   "cell_type": "code",
   "execution_count": 1,
   "id": "7a26042f-a3c0-4141-a9db-e50422f2b2b6",
   "metadata": {},
   "outputs": [],
   "source": [
    "import numpy as np\n",
    "\n",
    "X_train = [\n",
    "    [1, 2],\n",
    "    [3, 6],\n",
    "    [4, 8],\n",
    "    [np.nan, 3],\n",
    "    [7, np.nan],\n",
    "]\n",
    "\n",
    "X_test = [\n",
    "    [np.nan, 2],\n",
    "    [6, np.nan],\n",
    "    [np.nan, 6],\n",
    "]"
   ]
  },
  {
   "cell_type": "code",
   "execution_count": 2,
   "id": "36c63c13-2ce7-4abf-8b67-8c9e59af0ff9",
   "metadata": {},
   "outputs": [
    {
     "data": {
      "text/plain": [
       "array([[ 0.99943391,  2.        ],\n",
       "       [ 6.        , 11.99978477],\n",
       "       [ 3.00029983,  6.        ]])"
      ]
     },
     "execution_count": 2,
     "metadata": {},
     "output_type": "execute_result"
    }
   ],
   "source": [
    "from sklearn.experimental import enable_iterative_imputer\n",
    "from sklearn.impute import IterativeImputer\n",
    "from sklearn.linear_model import LinearRegression\n",
    "\n",
    "iterativeImputer = IterativeImputer(\n",
    "    # -------------------------------------------------------------------------\n",
    "    # The estimator to use at each step of the round-robin imputation\n",
    "    estimator=LinearRegression(),\n",
    "    # -------------------------------------------------------------------------\n",
    "    # The placeholder for the missing values.\n",
    "    missing_values=np.nan,\n",
    "    # -------------------------------------------------------------------------\n",
    "    # Whether to sample from the (Gaussian) predictive posterior of the fitted\n",
    "    # estimator for each imputation.\n",
    "    sample_posterior=False,\n",
    "    # -------------------------------------------------------------------------\n",
    "    # Maximum number of imputation rounds to perform before returning the\n",
    "    # imputations computed during the final round.  A round is a single\n",
    "    # imputation of each feature with missing values.\n",
    "    max_iter=10,\n",
    "    # -------------------------------------------------------------------------\n",
    "    # Number of other features to use to estimate the missing values of each\n",
    "    # feature column. Nearness between features is measured using the absolute\n",
    "    # correlation coefficient between each feature pair (after initial\n",
    "    # imputation).\n",
    "    n_nearest_features=None,\n",
    "    # -------------------------------------------------------------------------\n",
    "    # Which strategy to use to initialize the missing values.\n",
    "    # init_strategy=\"mean\",\n",
    "    # -------------------------------------------------------------------------\n",
    "    # The order in which the features will be imputed. Possible values:\n",
    "    # - \"ascendint\": From features with fewest missing values to most.\n",
    "    # - \"decending\": From features with most missing values to fewest.\n",
    "    # - \"roman\": Left to right.\n",
    "    # - \"arabic\": Right to left.\n",
    "    # - \"random\": A random order for each round.\n",
    "    imputation_order=\"ascending\",\n",
    "    # -------------------------------------------------------------------------\n",
    "    # If True then features with missing values during transform which did not\n",
    "    # have any missing values during fit will be imputed with the initial\n",
    "    # imputation method only.\n",
    "    skip_complete=False,\n",
    "    # -------------------------------------------------------------------------\n",
    "    # Minimum possible imputed value.\n",
    "    min_value=-np.inf,\n",
    "    # -------------------------------------------------------------------------\n",
    "    # Maximum possible imputed value.\n",
    "    max_value=np.inf,\n",
    "    # -------------------------------------------------------------------------\n",
    "    # The seed of the pseudo random number generator to use.\n",
    "    random_state=None,\n",
    "    # -------------------------------------------------------------------------\n",
    "    #\n",
    "    add_indicator=False,\n",
    ")\n",
    "\n",
    "iterativeImputer.fit(X_train)\n",
    "\n",
    "iterativeImputer.transform(X_test)"
   ]
  }
 ],
 "metadata": {
  "kernelspec": {
   "display_name": "Python 3",
   "language": "python",
   "name": "python3"
  },
  "language_info": {
   "codemirror_mode": {
    "name": "ipython",
    "version": 3
   },
   "file_extension": ".py",
   "mimetype": "text/x-python",
   "name": "python",
   "nbconvert_exporter": "python",
   "pygments_lexer": "ipython3",
   "version": "3.6.9"
  }
 },
 "nbformat": 4,
 "nbformat_minor": 5
}
