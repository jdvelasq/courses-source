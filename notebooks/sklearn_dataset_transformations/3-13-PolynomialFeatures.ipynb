{
 "cells": [
  {
   "cell_type": "markdown",
   "id": "7c4c54a5-f8fd-4c39-849b-5e235fd97071",
   "metadata": {
    "tags": []
   },
   "source": [
    "PolynomialFeatures --- 5:09 min\n",
    "===\n",
    "\n",
    "* 5:09 min | Última modificación: Octubre 7, 2021 | [YouTube](https://youtu.be/Dtvy_K_R5nw)"
   ]
  },
  {
   "cell_type": "code",
   "execution_count": 1,
   "id": "7a26042f-a3c0-4141-a9db-e50422f2b2b6",
   "metadata": {},
   "outputs": [
    {
     "data": {
      "text/plain": [
       "array([[0, 1],\n",
       "       [2, 3],\n",
       "       [4, 5]])"
      ]
     },
     "execution_count": 1,
     "metadata": {},
     "output_type": "execute_result"
    }
   ],
   "source": [
    "import numpy as np\n",
    "from sklearn.preprocessing import PolynomialFeatures\n",
    "\n",
    "X = np.arange(6).reshape(3, 2)\n",
    "X"
   ]
  },
  {
   "cell_type": "code",
   "execution_count": 2,
   "id": "679529a6-2afe-4e17-9121-4018f003f96d",
   "metadata": {},
   "outputs": [
    {
     "data": {
      "text/plain": [
       "array([[ 1.,  0.,  1.,  0.,  0.,  1.],\n",
       "       [ 1.,  2.,  3.,  4.,  6.,  9.],\n",
       "       [ 1.,  4.,  5., 16., 20., 25.]])"
      ]
     },
     "execution_count": 2,
     "metadata": {},
     "output_type": "execute_result"
    }
   ],
   "source": [
    "polynomialFeatures = PolynomialFeatures(\n",
    "    # -------------------------------------------------------------------------\n",
    "    # If a single int is given, it specifies the maximal degree of the\n",
    "    # polynomial features. If a tuple (min_degree, max_degree) is passed, then\n",
    "    # min_degree is the minimum and max_degree is the maximum polynomial degree\n",
    "    # of the generated features.\n",
    "    degree=2,\n",
    "    # -------------------------------------------------------------------------\n",
    "    # If true, only interaction features are produced: features that are\n",
    "    # products of at most degree distinct input features, i.e. terms with power\n",
    "    # of 2 or higher of the same input feature are excluded:\n",
    "    #\n",
    "    # - included: x[0], x[1], x[0] * x[1], etc.\n",
    "    # - excluded: x[0] ** 2, x[0] ** 2 * x[1], etc.\n",
    "    #\n",
    "    interaction_only=False,\n",
    "    # -------------------------------------------------------------------------\n",
    "    # f True (default), then include a bias column, the feature in which all\n",
    "    # polynomial powers are zero\n",
    "    include_bias=True,\n",
    ")\n",
    "\n",
    "polynomialFeatures.fit(X)\n",
    "\n",
    "polynomialFeatures.transform(X)"
   ]
  },
  {
   "cell_type": "code",
   "execution_count": 3,
   "id": "9400e1a3-08c1-41d6-b9e4-eab5be5cc7d5",
   "metadata": {},
   "outputs": [
    {
     "data": {
      "text/plain": [
       "array([[0, 0],\n",
       "       [1, 0],\n",
       "       [0, 1],\n",
       "       [2, 0],\n",
       "       [1, 1],\n",
       "       [0, 2]])"
      ]
     },
     "execution_count": 3,
     "metadata": {},
     "output_type": "execute_result"
    }
   ],
   "source": [
    "#\n",
    "# powers_[i, j] is the exponent of the jth input in the ith output.\n",
    "#\n",
    "polynomialFeatures.powers_"
   ]
  }
 ],
 "metadata": {
  "kernelspec": {
   "display_name": "Python 3",
   "language": "python",
   "name": "python3"
  },
  "language_info": {
   "codemirror_mode": {
    "name": "ipython",
    "version": 3
   },
   "file_extension": ".py",
   "mimetype": "text/x-python",
   "name": "python",
   "nbconvert_exporter": "python",
   "pygments_lexer": "ipython3",
   "version": "3.6.9"
  }
 },
 "nbformat": 4,
 "nbformat_minor": 5
}
