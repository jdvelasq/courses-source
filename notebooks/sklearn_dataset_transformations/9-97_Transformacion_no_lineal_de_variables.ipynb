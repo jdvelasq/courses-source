{
 "cells": [
  {
   "cell_type": "markdown",
   "metadata": {},
   "source": [
    "Transformación no lineal de variables (independientes y dependiente) --- 12:09 min\n",
    "===\n",
    "\n",
    "* 12:09 min | Ultima modificación: Marzo 30, 2021 | [YouTube](https://youtu.be/Yvzmuf1vlWY)"
   ]
  },
  {
   "cell_type": "markdown",
   "metadata": {},
   "source": [
    "A continuación, se describen las principales transformaciones que pueden realizarse tanto a la variable dependiente como independiente."
   ]
  },
  {
   "cell_type": "markdown",
   "metadata": {},
   "source": [
    "* Logaritmo (natural):"
   ]
  },
  {
   "cell_type": "markdown",
   "metadata": {},
   "source": [
    "$$\n",
    "w = \\log (z)\n",
    "$$"
   ]
  },
  {
   "cell_type": "markdown",
   "metadata": {},
   "source": [
    "* Logaritmo base 10:"
   ]
  },
  {
   "cell_type": "markdown",
   "metadata": {},
   "source": [
    "$$\n",
    "w = \\log_{10} (z)\n",
    "$$"
   ]
  },
  {
   "cell_type": "markdown",
   "metadata": {},
   "source": [
    "* Logística:\n",
    "$$\n",
    "w = \\log \n",
    "\\left[\n",
    "\\frac{c \\cdot z}{1 - c \\cdot z}\n",
    "\\right]\n",
    "$$\n",
    "\n",
    "con:\n",
    "\n",
    "$$\n",
    "c = (1 - 10^{-6}) \\cdot 10 ^{-\\text{ceil} (\\log_{10} (\\max (z)))}\n",
    "$$\n",
    "\n",
    "donde la función ceil() retorna el entero más pequeño que es igual o mayor que $z$."
   ]
  },
  {
   "cell_type": "markdown",
   "metadata": {},
   "source": [
    "* Raíz cuadrada:\n",
    "$$\n",
    "w = z^{1/2}\n",
    "$$"
   ]
  },
  {
   "cell_type": "markdown",
   "metadata": {},
   "source": [
    "* Raíz cúbica:\n",
    "$$\n",
    "w = z^{1/3}\n",
    "$$"
   ]
  },
  {
   "cell_type": "markdown",
   "metadata": {},
   "source": [
    "* Box-Cox:\n",
    "$$\n",
    "w = \n",
    "\\begin{cases}\n",
    "\\frac{z^\\lambda - 1}{\\lambda}, & \\lambda \\ne 0 \\\\\n",
    "\\\\\n",
    "\\log{z}, & \\lambda = 0\n",
    "\\end{cases}\n",
    "$$"
   ]
  },
  {
   "cell_type": "markdown",
   "metadata": {},
   "source": [
    "## Comparación de modelos con diferentes transformaciones de las variables independientes"
   ]
  },
  {
   "cell_type": "markdown",
   "metadata": {},
   "source": [
    "En este caso, se comparan diferentes modelos alternativos que difieren en la transformación aplicada a las variables independientes. Se selecciona el modelo con mejor ajuste a las muestras de entrenamiento y prueba."
   ]
  },
  {
   "cell_type": "markdown",
   "metadata": {},
   "source": [
    "## Comparación de modelos con diferentes transformaciones de la variable dependiente"
   ]
  },
  {
   "cell_type": "markdown",
   "metadata": {},
   "source": [
    "En este caso, los modelos no pueden compararse directamente con la serie transformada."
   ]
  },
  {
   "cell_type": "markdown",
   "metadata": {},
   "source": [
    "**Pregunta.---** ¿Explique por qué no se pueden comparar?"
   ]
  },
  {
   "cell_type": "markdown",
   "metadata": {},
   "source": [
    "El procedimiento es el siguiente:\n",
    "\n",
    "* Se aplica la transformación seleccionada a la variable dependiente.\n",
    "\n",
    "* Se construye el mejor modelo posible.\n",
    "\n",
    "* Se pronostican los datos de entrenamiento y prueba.\n",
    "\n",
    "* Se aplica la transformación inversa a los pronosticos de entrenamiento y prueba.\n",
    "\n",
    "* Se calcula la función de pérdida para los pronósticos con la transformación inversa.\n",
    "\n",
    "\n",
    "Una vez se ha calculado la función de pérdida para todas las transformaciones se selecciona la que genera mejores resultados."
   ]
  },
  {
   "cell_type": "markdown",
   "metadata": {},
   "source": [
    "## Ejemplo"
   ]
  },
  {
   "cell_type": "code",
   "execution_count": 1,
   "metadata": {},
   "outputs": [],
   "source": [
    "import math\n",
    "\n",
    "import matplotlib.pyplot as plt\n",
    "import numpy as np\n",
    "\n",
    "%matplotlib inline"
   ]
  },
  {
   "cell_type": "code",
   "execution_count": 2,
   "metadata": {},
   "outputs": [],
   "source": [
    "#\n",
    "# Proceso generador de datos\n",
    "#\n",
    "def f(x):\n",
    "    y = [math.exp(0.15 * u + 1) if u < 5 else math.exp(0.25 * u + 1) for u in x]\n",
    "    return np.array(y)"
   ]
  },
  {
   "cell_type": "code",
   "execution_count": 3,
   "metadata": {},
   "outputs": [
    {
     "data": {
      "image/png": "[encoded data removed]",
      "text/plain": [
       "<Figure size 432x288 with 1 Axes>"
      ]
     },
     "metadata": {
      "needs_background": "light"
     },
     "output_type": "display_data"
    }
   ],
   "source": [
    "#\n",
    "# Generación de la muestra de datos\n",
    "#\n",
    "np.random.seed(123456)\n",
    "index = list(range(12))\n",
    "\n",
    "x_real = np.linspace(start=0, stop=10, num=100)\n",
    "x_data = np.linspace(start=0, stop=10, num=16)\n",
    "x_fit = x_data[index]\n",
    "x_test = np.delete(x_data, index)\n",
    "\n",
    "d_orig_real = f(x_real)\n",
    "d_orig_data = f(x_data) + np.random.normal(0, 0.4, len(x_data))\n",
    "d_orig_fit = d_orig_data[index]\n",
    "d_orig_test = np.delete(d_orig_data, index)\n",
    "\n",
    "# muestra usada para evaluar la generalización\n",
    "plt.plot(x_data, d_orig_data, \"o\", color=\"black\")\n",
    "plt.plot(x_real, d_orig_real, \"--\", color=\"black\")\n",
    "plt.plot(x_test, d_orig_test, \"o\", color=\"black\", fillstyle=\"none\", markersize=11)\n",
    "plt.show()"
   ]
  },
  {
   "cell_type": "markdown",
   "metadata": {},
   "source": [
    "## Transformación de Box-Cox"
   ]
  },
  {
   "cell_type": "code",
   "execution_count": 4,
   "metadata": {},
   "outputs": [],
   "source": [
    "def boxcox(z, Lambda):\n",
    "    if Lambda == 0:\n",
    "        return np.log(z)\n",
    "    return (np.power(z, Lambda) - 1.0) / Lambda\n",
    "\n",
    "\n",
    "#\n",
    "# Función inversa de Box-Cox\n",
    "#\n",
    "def boxcox_inv(z, Lambda):\n",
    "    if Lambda == 0:\n",
    "        return np.exp(z)\n",
    "    return np.power(Lambda * z + 1, 1.0 / Lambda)"
   ]
  },
  {
   "cell_type": "markdown",
   "metadata": {},
   "source": [
    "## Modelo de regresión"
   ]
  },
  {
   "cell_type": "markdown",
   "metadata": {},
   "source": [
    "$$y_p = g(x_p) = w_0 + w_1 x_p$$"
   ]
  },
  {
   "cell_type": "markdown",
   "metadata": {},
   "source": [
    "## Función de pérdida"
   ]
  },
  {
   "cell_type": "markdown",
   "metadata": {},
   "source": [
    "$$\\text{SSE}(w) = \\sum_p [d_p - g(x_p)]^2 $$"
   ]
  },
  {
   "cell_type": "code",
   "execution_count": 5,
   "metadata": {},
   "outputs": [],
   "source": [
    "def SSE(observed, forecast):\n",
    "\n",
    "    forecast_fit = forecast[index]\n",
    "    forecast_test = np.delete(forecast, index)\n",
    "\n",
    "    observed_fit = observed[index]\n",
    "    observed_test = np.delete(observed, index)\n",
    "\n",
    "    SSE_fit = sum(np.power(observed_fit - forecast_fit, 2))\n",
    "    SSE_test = sum(np.power(observed_test - forecast_test, 2))\n",
    "\n",
    "    return SSE_fit, SSE_test"
   ]
  },
  {
   "cell_type": "markdown",
   "metadata": {},
   "source": [
    "## Gradiente de la función de pérdida"
   ]
  },
  {
   "cell_type": "markdown",
   "metadata": {},
   "source": [
    "$$\n",
    "\\begin{split}\n",
    "  \\frac{\\partial}{\\partial \\mathbf{w}}\\text{SSE}(\\mathbf{w}) \n",
    "    & = \\sum_p -2 \\cdot [d_p - g(x_p)] \\cdot \\frac{\\partial}{\\partial \\mathbf{w}} g(x_p) \\\\ \\\\\n",
    "    & = -2 \\sum_p e_p \\cdot \\frac{\\partial}{\\partial \\mathbf{w}} g(x_p)\n",
    "\\end{split}\n",
    "$$"
   ]
  },
  {
   "cell_type": "markdown",
   "metadata": {},
   "source": [
    "$$\n",
    "\\frac{\\partial}{\\partial \\mathbf{w}} g(x_p) = \\frac{\\partial}{\\partial \\mathbf{w}} \\left( \n",
    "w_0 + w_1 * x_p\n",
    "\\right) = \n",
    "\\left[\n",
    "\\begin{matrix}\n",
    " 1 \\\\ \n",
    " x_p\n",
    "\\end{matrix}\n",
    "\\right]\n",
    "$$"
   ]
  },
  {
   "cell_type": "code",
   "execution_count": 6,
   "metadata": {},
   "outputs": [],
   "source": [
    "def gSSE(observed, forecast):\n",
    "\n",
    "    forecast_fit = forecast[index]\n",
    "    forecast_test = np.delete(forecast, index)\n",
    "\n",
    "    observed_fit = observed[index]\n",
    "    observed_test = np.delete(observed, index)\n",
    "\n",
    "    e_fit = observed_fit - forecast_fit\n",
    "\n",
    "    grd = [[1, u] for u in x_data]\n",
    "    grd = [u for i, u in enumerate(grd) if i in index]\n",
    "    grd = [[-2.0 * e_fit[i] * u for u in g] for i, g in enumerate(grd)]\n",
    "    grd = [[g[icol] for g in grd] for icol in range(len(w))]\n",
    "    grd = [sum(u) for u in grd]\n",
    "\n",
    "    return grd"
   ]
  },
  {
   "cell_type": "markdown",
   "metadata": {},
   "source": [
    "## Gradiente descendente"
   ]
  },
  {
   "cell_type": "markdown",
   "metadata": {},
   "source": [
    "$$ \\mathbf{w}_k = \\mathbf{w}_{k-1} - \\mu \\frac{\\partial}{\\partial \\mathbf{w}} \\text{SSE}(\\mathbf{w}_{k-1})$$"
   ]
  },
  {
   "cell_type": "code",
   "execution_count": 7,
   "metadata": {},
   "outputs": [],
   "source": [
    "def mejora(w, mu, observed, forecast):\n",
    "    grd = gSSE(observed, forecast)\n",
    "    w = [u - mu * g for u, g in zip(w, grd)]\n",
    "    return w"
   ]
  },
  {
   "cell_type": "markdown",
   "metadata": {},
   "source": [
    "## Early Stopping"
   ]
  },
  {
   "cell_type": "code",
   "execution_count": 8,
   "metadata": {},
   "outputs": [
    {
     "name": "stdout",
     "output_type": "stream",
     "text": [
      "Lambda   SSE\n",
      "--------------------------\n"
     ]
    },
    {
     "name": "stderr",
     "output_type": "stream",
     "text": [
      "/usr/local/lib/python3.6/dist-packages/ipykernel_launcher.py:13: RuntimeWarning: invalid value encountered in power\n",
      "  del sys.path[0]\n"
     ]
    },
    {
     "name": "stdout",
     "output_type": "stream",
     "text": [
      " -0.990  455.35718\n",
      " -0.965  448.17079\n",
      " -0.940  440.87867\n",
      " -0.915  433.06143\n",
      " -0.890  425.14793\n",
      " -0.865  416.93121\n",
      " -0.841  408.19681\n",
      " -0.816  399.39521\n",
      " -0.791  390.31902\n",
      " -0.766  380.75698\n",
      " -0.741  370.95080\n",
      " -0.716  360.92171\n",
      " -0.691  350.46700\n",
      " -0.666  339.84124\n",
      " -0.641  329.07482\n",
      " -0.616  317.97725\n",
      " -0.592  306.58984\n",
      " -0.567  294.95858\n",
      " -0.542  283.13375\n",
      " -0.517  271.16922\n",
      " -0.492  258.91714\n",
      " -0.467  246.65164\n",
      " -0.442  234.43375\n",
      " -0.417  221.95211\n",
      " -0.392  209.48799\n",
      " -0.367  197.12342\n",
      " -0.343  184.77608\n",
      " -0.318  172.54816\n",
      " -0.293  160.53803\n",
      " -0.268  148.56815\n",
      " -0.243  136.90490\n",
      " -0.218  125.53540\n",
      " -0.193  114.47293\n",
      " -0.168  103.75411\n",
      " -0.143   93.43485\n",
      " -0.118   83.66107\n",
      " -0.094   74.28272\n",
      " -0.069   65.54861\n",
      " -0.044   57.33327\n",
      " -0.019   49.74846\n",
      "  0.006   42.83310\n",
      "  0.031   36.60638\n",
      "  0.056   31.08019\n",
      "  0.081   26.28173\n",
      "  0.106   22.25844\n",
      "  0.131   19.00937\n",
      "  0.155   16.56770\n",
      "  0.180   14.93968\n",
      "  0.205   14.34356\n",
      "  0.230   14.344\n"
     ]
    },
    {
     "data": {
      "image/png": "[encoded data removed]",
      "text/plain": [
       "<Figure size 432x288 with 1 Axes>"
      ]
     },
     "metadata": {
      "needs_background": "light"
     },
     "output_type": "display_data"
    }
   ],
   "source": [
    "w_opt = None\n",
    "Lambda_opt = None\n",
    "y_orig_opt = None\n",
    "SSE_orig_opt = None\n",
    "\n",
    "\n",
    "print('Lambda   SSE')\n",
    "print('--------------------------')\n",
    "\n",
    "for Lambda in np.linspace(start=-0.99, stop=1.5, num=101):\n",
    "\n",
    "    # Transforma la variable de salida\n",
    "    d_transf_data = boxcox(d_orig_data, Lambda)\n",
    "\n",
    "    # tasa de aprendizaje\n",
    "    alpha = 0.000001\n",
    "\n",
    "    #\n",
    "    # Coeficientes iniciales. La salida es cero\n",
    "    # por ser un modelo lineal\n",
    "    #\n",
    "    w = np.array([0.0, 0.0])\n",
    "    y_transf_opt = np.array([0] * len(d_orig_data))\n",
    "\n",
    "    #\n",
    "    # Solo para el proceso de entrenamiento\n",
    "    #\n",
    "    SSE_transf_test_previous = None\n",
    "\n",
    "    for epoch in range(10000):\n",
    "\n",
    "        y_transf_data = w[0] + w[1] * x_data\n",
    "        w = mejora(w, alpha, d_transf_data, y_transf_data)\n",
    "        SSE_transf_fit, SSE_transf_test = SSE(d_transf_data, y_transf_data)\n",
    "\n",
    "        if (\n",
    "            SSE_transf_test_previous is None\n",
    "            or SSE_transf_test_previous > SSE_transf_test\n",
    "        ):\n",
    "            SSE_transf_test_previous = SSE_transf_test\n",
    "            y_transf_opt = y_transf_data\n",
    "        else:\n",
    "            # aumenta el error de prueba\n",
    "            break\n",
    "\n",
    "    y_orig_data = boxcox_inv(y_transf_opt, Lambda)\n",
    "    SSE_orig_fit, _ = SSE(d_orig_data, y_orig_data)\n",
    "\n",
    "    if SSE_orig_opt is None or SSE_orig_fit < SSE_orig_opt:\n",
    "        y_orig_opt = y_orig_data\n",
    "        SSE_orig_opt = SSE_orig_fit\n",
    "        Lambda_opt = Lambda\n",
    "        print(\"{:7.3f}  {:9.5f}\".format(Lambda, SSE_orig_opt))\n",
    "    else:\n",
    "        break\n",
    "\n",
    "print(\"{:7.3f}  {:7.3f}\".format(Lambda, SSE_orig_opt))\n",
    "plt.plot(x_data, d_orig_data, \"o\", color=\"black\")\n",
    "plt.plot(x_real, d_orig_real, \"--\", color=\"black\")\n",
    "plt.plot(x_test, d_orig_test, \"o\", color=\"black\", fillstyle=\"none\", markersize=11)\n",
    "plt.plot(x_data, y_orig_opt, \"-\", color=\"red\")\n",
    "plt.show()"
   ]
  },
  {
   "cell_type": "code",
   "execution_count": 9,
   "metadata": {},
   "outputs": [
    {
     "name": "stdout",
     "output_type": "stream",
     "text": [
      "   Obs.     Pron.\n",
      "------------------\n",
      "  2.906     1.147\n",
      "  2.891     1.567\n",
      "  2.716     2.101\n",
      "  3.215     2.770\n",
      "  4.540     3.598\n",
      "  4.412     4.611\n",
      "  5.001     5.840\n",
      "  5.056     7.316\n",
      "  9.968     9.074\n",
      " 11.341    11.152\n",
      " 14.194    13.592\n",
      " 17.431    16.438\n",
      " 20.374    19.739\n",
      " 23.446    23.547\n",
      " 27.616    27.916\n",
      " 33.224    32.906\n"
     ]
    }
   ],
   "source": [
    "print(\"   Obs.     Pron.\")\n",
    "print(\"------------------\")\n",
    "for a, b in zip(d_orig_data, y_orig_opt):\n",
    "    print(\"{:7.3f}   {:7.3f}\".format(a, b))"
   ]
  }
 ],
 "metadata": {
  "kernel_info": {
   "name": "python3"
  },
  "kernelspec": {
   "display_name": "Python 3",
   "language": "python",
   "name": "python3"
  },
  "language_info": {
   "codemirror_mode": {
    "name": "ipython",
    "version": 3
   },
   "file_extension": ".py",
   "mimetype": "text/x-python",
   "name": "python",
   "nbconvert_exporter": "python",
   "pygments_lexer": "ipython3",
   "version": "3.6.9"
  },
  "nteract": {
   "version": "0.7.1"
  }
 },
 "nbformat": 4,
 "nbformat_minor": 4
}
