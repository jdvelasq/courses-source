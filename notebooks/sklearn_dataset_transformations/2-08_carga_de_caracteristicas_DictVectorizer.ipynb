{
 "cells": [
  {
   "cell_type": "markdown",
   "id": "18d7749c-af71-4d23-ad33-d25888c7d444",
   "metadata": {
    "tags": []
   },
   "source": [
    "Carga de características desde diccionarios usando DictVectorizer --- 3:50 min\n",
    "===\n",
    "\n",
    "* 3:50 min | Ultima modificación: Ocutbre 7, 2021 | [YouTube]()"
   ]
  },
  {
   "cell_type": "markdown",
   "id": "aaa438b5-0712-494e-a689-0ac9537f2e17",
   "metadata": {},
   "source": [
    "La clase DictVectorizer permite convertir vectores de características representados como diccionarios a matrices que pueden ser usadas por los estimadores de sklearn."
   ]
  },
  {
   "cell_type": "code",
   "execution_count": 1,
   "id": "7e3af3f5-1f57-4671-bb04-51ca4d9d5892",
   "metadata": {},
   "outputs": [
    {
     "data": {
      "text/plain": [
       "array([[ 1.,  0.,  0., 33.],\n",
       "       [ 0.,  1.,  0., 12.],\n",
       "       [ 0.,  0.,  1., 18.]])"
      ]
     },
     "execution_count": 1,
     "metadata": {},
     "output_type": "execute_result"
    }
   ],
   "source": [
    "#\n",
    "# Cada diccionario representa una fila del dataset\n",
    "#\n",
    "measurements = [\n",
    "    {\"city\": \"Dubai\", \"temperature\": 33.0},\n",
    "    {\"city\": \"London\", \"temperature\": 12.0},\n",
    "    {\"city\": \"San Francisco\", \"temperature\": 18.0},\n",
    "]\n",
    "\n",
    "from sklearn.feature_extraction import DictVectorizer\n",
    "\n",
    "#\n",
    "# Creación de una instancia\n",
    "#\n",
    "dictVectorizer = DictVectorizer(\n",
    "    # -------------------------------------------------------------------------\n",
    "    # Separator string used when constructing new features for one-hot coding.\n",
    "    separator=\"=\",\n",
    "    # -------------------------------------------------------------------------\n",
    "    # Whether feature_names_ and vocabulary_ should be sorted when fitting.\n",
    "    sort=True,\n",
    ")\n",
    "\n",
    "#\n",
    "# Entrenamiento\n",
    "#\n",
    "dictVectorizer.fit(measurements)\n",
    "\n",
    "#\n",
    "# Transformación\n",
    "#\n",
    "X = dictVectorizer.transform(measurements).toarray()\n",
    "X"
   ]
  },
  {
   "cell_type": "code",
   "execution_count": 2,
   "id": "5e0a68d8-c2b4-43df-ba96-1887f2d29bc2",
   "metadata": {},
   "outputs": [
    {
     "data": {
      "text/plain": [
       "array([[ 1.,  0.,  0., 33.],\n",
       "       [ 0.,  1.,  0., 12.],\n",
       "       [ 0.,  0.,  1., 18.]])"
      ]
     },
     "execution_count": 2,
     "metadata": {},
     "output_type": "execute_result"
    }
   ],
   "source": [
    "#\n",
    "# Fit-Transform\n",
    "#\n",
    "dictVectorizer.fit_transform(measurements).toarray()"
   ]
  },
  {
   "cell_type": "code",
   "execution_count": 3,
   "id": "e0dda4a1-b87c-412c-8770-6340c7bcf033",
   "metadata": {},
   "outputs": [
    {
     "data": {
      "text/plain": [
       "['city=Dubai', 'city=London', 'city=San Francisco', 'temperature']"
      ]
     },
     "execution_count": 3,
     "metadata": {},
     "output_type": "execute_result"
    }
   ],
   "source": [
    "#\n",
    "# Nombres de las columnas\n",
    "#\n",
    "dictVectorizer.get_feature_names()"
   ]
  },
  {
   "cell_type": "code",
   "execution_count": 4,
   "id": "61090c39-b7e0-4d76-acbf-604d2a45d351",
   "metadata": {},
   "outputs": [
    {
     "data": {
      "text/html": [
       "<div>\n",
       "<style scoped>\n",
       "    .dataframe tbody tr th:only-of-type {\n",
       "        vertical-align: middle;\n",
       "    }\n",
       "\n",
       "    .dataframe tbody tr th {\n",
       "        vertical-align: top;\n",
       "    }\n",
       "\n",
       "    .dataframe thead th {\n",
       "        text-align: right;\n",
       "    }\n",
       "</style>\n",
       "<table border=\"1\" class=\"dataframe\">\n",
       "  <thead>\n",
       "    <tr style=\"text-align: right;\">\n",
       "      <th></th>\n",
       "      <th>city=Dubai</th>\n",
       "      <th>city=London</th>\n",
       "      <th>city=San Francisco</th>\n",
       "      <th>temperature</th>\n",
       "    </tr>\n",
       "  </thead>\n",
       "  <tbody>\n",
       "    <tr>\n",
       "      <th>0</th>\n",
       "      <td>1.0</td>\n",
       "      <td>0.0</td>\n",
       "      <td>0.0</td>\n",
       "      <td>33.0</td>\n",
       "    </tr>\n",
       "    <tr>\n",
       "      <th>1</th>\n",
       "      <td>0.0</td>\n",
       "      <td>1.0</td>\n",
       "      <td>0.0</td>\n",
       "      <td>12.0</td>\n",
       "    </tr>\n",
       "    <tr>\n",
       "      <th>2</th>\n",
       "      <td>0.0</td>\n",
       "      <td>0.0</td>\n",
       "      <td>1.0</td>\n",
       "      <td>18.0</td>\n",
       "    </tr>\n",
       "  </tbody>\n",
       "</table>\n",
       "</div>"
      ],
      "text/plain": [
       "   city=Dubai  city=London  city=San Francisco  temperature\n",
       "0         1.0          0.0                 0.0         33.0\n",
       "1         0.0          1.0                 0.0         12.0\n",
       "2         0.0          0.0                 1.0         18.0"
      ]
     },
     "execution_count": 4,
     "metadata": {},
     "output_type": "execute_result"
    }
   ],
   "source": [
    "import pandas as pd\n",
    "\n",
    "pd.DataFrame(\n",
    "    dictVectorizer.fit_transform(measurements).toarray(),\n",
    "    columns=dictVectorizer.get_feature_names(),\n",
    ")"
   ]
  },
  {
   "cell_type": "code",
   "execution_count": 5,
   "id": "8c58650d-6a4f-4600-97aa-6624a280befc",
   "metadata": {},
   "outputs": [
    {
     "data": {
      "text/plain": [
       "[{'city=Dubai': 1.0, 'temperature': 33.0},\n",
       " {'city=London': 1.0, 'temperature': 12.0},\n",
       " {'city=San Francisco': 1.0, 'temperature': 18.0}]"
      ]
     },
     "execution_count": 5,
     "metadata": {},
     "output_type": "execute_result"
    }
   ],
   "source": [
    "#\n",
    "# Transformación inversa\n",
    "#\n",
    "dictVectorizer.inverse_transform(X)"
   ]
  }
 ],
 "metadata": {
  "kernelspec": {
   "display_name": "Python 3",
   "language": "python",
   "name": "python3"
  },
  "language_info": {
   "codemirror_mode": {
    "name": "ipython",
    "version": 3
   },
   "file_extension": ".py",
   "mimetype": "text/x-python",
   "name": "python",
   "nbconvert_exporter": "python",
   "pygments_lexer": "ipython3",
   "version": "3.6.9"
  }
 },
 "nbformat": 4,
 "nbformat_minor": 5
}
