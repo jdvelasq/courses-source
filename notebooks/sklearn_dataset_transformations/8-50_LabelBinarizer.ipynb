{
 "cells": [
  {
   "cell_type": "markdown",
   "id": "70b19e73-d1b8-4a3d-b4d2-bbd3c78a9d51",
   "metadata": {
    "tags": []
   },
   "source": [
    "LabelBinarizer y MultiLabelBinarizer --- 3:22 min\n",
    "===\n",
    "\n",
    "* 3:22 min | Última modificación: Octubre 7, 2021 | [YouTube](https://youtu.be/aqSSUGMJOgM)"
   ]
  },
  {
   "cell_type": "markdown",
   "id": "23bd8c17-7132-444e-944a-e6ad318092e5",
   "metadata": {},
   "source": [
    "Esta es un utilidad que ayuda a crear un indicador de una lista de clases posibles."
   ]
  },
  {
   "cell_type": "code",
   "execution_count": 1,
   "id": "5dd95410-e245-41fb-bc56-3e4463c2baac",
   "metadata": {},
   "outputs": [
    {
     "data": {
      "text/plain": [
       "LabelBinarizer(neg_label=0, pos_label=1, sparse_output=False)"
      ]
     },
     "execution_count": 1,
     "metadata": {},
     "output_type": "execute_result"
    }
   ],
   "source": [
    "from sklearn.preprocessing import LabelBinarizer\n",
    "\n",
    "y = [\n",
    "    1,\n",
    "    2,\n",
    "    6,\n",
    "    4,\n",
    "    2,\n",
    "]\n",
    "\n",
    "labelBinarizer = LabelBinarizer()\n",
    "labelBinarizer.fit(y)"
   ]
  },
  {
   "cell_type": "code",
   "execution_count": 2,
   "id": "7fe460c4-72d5-4d27-8ad4-0739cb725055",
   "metadata": {},
   "outputs": [
    {
     "data": {
      "text/plain": [
       "array([1, 2, 4, 6])"
      ]
     },
     "execution_count": 2,
     "metadata": {},
     "output_type": "execute_result"
    }
   ],
   "source": [
    "labelBinarizer.classes_"
   ]
  },
  {
   "cell_type": "code",
   "execution_count": 3,
   "id": "c2622c0b-d1ec-4ac4-80f5-fe48fd4cc5c8",
   "metadata": {},
   "outputs": [
    {
     "data": {
      "text/plain": [
       "array([[1, 0, 0, 0],\n",
       "       [0, 1, 0, 0],\n",
       "       [0, 0, 0, 1],\n",
       "       [0, 0, 1, 0],\n",
       "       [0, 1, 0, 0]])"
      ]
     },
     "execution_count": 3,
     "metadata": {},
     "output_type": "execute_result"
    }
   ],
   "source": [
    "labelBinarizer.transform(y)"
   ]
  },
  {
   "cell_type": "code",
   "execution_count": 4,
   "id": "09dba80f-5556-4947-aeaf-54595bc1f943",
   "metadata": {},
   "outputs": [
    {
     "data": {
      "text/plain": [
       "array([[1, 0, 0, 0],\n",
       "       [0, 0, 0, 1]])"
      ]
     },
     "execution_count": 4,
     "metadata": {},
     "output_type": "execute_result"
    }
   ],
   "source": [
    "labelBinarizer.transform([1, 6])"
   ]
  },
  {
   "cell_type": "code",
   "execution_count": 5,
   "id": "9192f6ab-a479-4786-b2fd-994c1e7a1008",
   "metadata": {},
   "outputs": [
    {
     "data": {
      "text/plain": [
       "array([[0, 0, 1, 1, 1],\n",
       "       [0, 0, 1, 0, 0],\n",
       "       [1, 1, 0, 1, 0],\n",
       "       [1, 1, 1, 1, 1],\n",
       "       [1, 1, 1, 0, 0]])"
      ]
     },
     "execution_count": 5,
     "metadata": {},
     "output_type": "execute_result"
    }
   ],
   "source": [
    "from sklearn.preprocessing import MultiLabelBinarizer\n",
    "\n",
    "y = [\n",
    "    [2, 3, 4],\n",
    "    [2],\n",
    "    [0, 1, 3],\n",
    "    [0, 1, 2, 3, 4],\n",
    "    [0, 1, 2],\n",
    "]\n",
    "\n",
    "MultiLabelBinarizer().fit_transform(y)"
   ]
  }
 ],
 "metadata": {
  "kernelspec": {
   "display_name": "Python 3",
   "language": "python",
   "name": "python3"
  },
  "language_info": {
   "codemirror_mode": {
    "name": "ipython",
    "version": 3
   },
   "file_extension": ".py",
   "mimetype": "text/x-python",
   "name": "python",
   "nbconvert_exporter": "python",
   "pygments_lexer": "ipython3",
   "version": "3.6.9"
  }
 },
 "nbformat": 4,
 "nbformat_minor": 5
}
