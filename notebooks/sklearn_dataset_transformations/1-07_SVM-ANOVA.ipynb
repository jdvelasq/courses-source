{
 "cells": [
  {
   "cell_type": "markdown",
   "id": "abeb1eb1-e297-4c2f-b229-963d89147e2a",
   "metadata": {
    "slideshow": {
     "slide_type": "slide"
    },
    "tags": []
   },
   "source": [
    "SVM con selección univariada de características (SVM-ANOVA) --- 3:50 min\n",
    "===\n",
    "\n",
    "* 3:50 min | Última modificación: Octubre 6, 2021 | [YouTube](https://youtu.be/MzglQZJJbKQ)"
   ]
  },
  {
   "cell_type": "markdown",
   "id": "1c17a975-de26-4cf6-b32d-ad1a9ed31589",
   "metadata": {},
   "source": [
    "Construcción del pipeline\n",
    "---"
   ]
  },
  {
   "cell_type": "markdown",
   "id": "7733b7c3-1aa7-4fb1-8f8d-5d5bfaf37aef",
   "metadata": {},
   "source": [
    "https://scikit-learn.org/stable/auto_examples/svm/plot_svm_anova.html#sphx-glr-auto-examples-svm-plot-svm-anova-py"
   ]
  },
  {
   "cell_type": "code",
   "execution_count": 1,
   "id": "883eb9c3-7834-43be-9a9b-176e75d61bb4",
   "metadata": {},
   "outputs": [],
   "source": [
    "from sklearn.feature_selection import SelectPercentile, chi2\n",
    "from sklearn.pipeline import Pipeline\n",
    "from sklearn.preprocessing import StandardScaler\n",
    "from sklearn.svm import SVC\n",
    "\n",
    "pipeline = Pipeline(\n",
    "    [\n",
    "        # ---------------------------------------------------------------------\n",
    "        # Realiza la selección de características que cumplen con el percentil\n",
    "        # especificado\n",
    "        #\n",
    "        (\"anova\", SelectPercentile(chi2)),\n",
    "        # ---------------------------------------------------------------------\n",
    "        # z = (x - u) / s\n",
    "        #\n",
    "        (\"scaler\", StandardScaler()),\n",
    "        # ---------------------------------------------------------------------\n",
    "        # Máquina de vectores de soporte\n",
    "        #\n",
    "        (\"svc\", SVC(gamma=\"auto\")),\n",
    "    ],\n",
    ")"
   ]
  },
  {
   "cell_type": "markdown",
   "id": "76dad592-212a-47f1-a273-d291b3c7c1ee",
   "metadata": {},
   "source": [
    "Carga de datos de prueba\n",
    "---"
   ]
  },
  {
   "cell_type": "code",
   "execution_count": 2,
   "id": "67672a0e-9396-4400-8c37-9b522475e8e3",
   "metadata": {},
   "outputs": [
    {
     "data": {
      "text/plain": [
       "(150, 40)"
      ]
     },
     "execution_count": 2,
     "metadata": {},
     "output_type": "execute_result"
    }
   ],
   "source": [
    "import numpy as np\n",
    "from sklearn.datasets import load_iris\n",
    "\n",
    "np.random.seed(0)\n",
    "\n",
    "X, y = load_iris(return_X_y=True)\n",
    "X = np.hstack((X, 2 * np.random.random((X.shape[0], 36))))\n",
    "X.shape"
   ]
  },
  {
   "cell_type": "markdown",
   "id": "f67d09bf-c606-4982-9d3d-eec7abf1e156",
   "metadata": {},
   "source": [
    "Evaluación del caso de prueba\n",
    "---"
   ]
  },
  {
   "cell_type": "code",
   "execution_count": 3,
   "id": "f85b84da-5ad3-4773-b8cb-2757f21a2b5f",
   "metadata": {},
   "outputs": [
    {
     "data": {
      "image/png": "[encoded data removed]",
      "text/plain": [
       "<Figure size 576x432 with 1 Axes>"
      ]
     },
     "metadata": {
      "needs_background": "light"
     },
     "output_type": "display_data"
    }
   ],
   "source": [
    "import matplotlib.pyplot as plt\n",
    "from sklearn.model_selection import cross_val_score\n",
    "\n",
    "score_means = list()\n",
    "score_stds = list()\n",
    "percentiles = (1, 3, 6, 10, 15, 20, 30, 40, 60, 80, 100)\n",
    "\n",
    "for percentile in percentiles:\n",
    "    #\n",
    "    # Cambia el percentil de selección\n",
    "    #\n",
    "    pipeline.set_params(anova__percentile=percentile)\n",
    "\n",
    "    #\n",
    "    # Computa el score de la porción usada para el conjunto de test\n",
    "    # con CV\n",
    "    #\n",
    "    this_scores = cross_val_score(pipeline, X, y)\n",
    "\n",
    "    #\n",
    "    # Métricas para estimar la generalización de los scores\n",
    "    #\n",
    "    score_means.append(this_scores.mean())\n",
    "    score_stds.append(this_scores.std())\n",
    "\n",
    "plt.figure(figsize=(8,6))\n",
    "plt.errorbar(percentiles, score_means, np.array(score_stds), c=\"tab:blue\")\n",
    "plt.xticks(np.linspace(0, 100, 11, endpoint=True))\n",
    "plt.xlabel(\"Percentil\")\n",
    "plt.ylabel(\"Accuracy Score\")\n",
    "plt.axis(\"tight\")\n",
    "plt.gca().spines[\"left\"].set_color(\"gray\")\n",
    "plt.gca().spines[\"bottom\"].set_color(\"gray\")\n",
    "plt.gca().spines[\"top\"].set_visible(False)\n",
    "plt.gca().spines[\"right\"].set_visible(False)\n",
    "plt.grid()\n",
    "plt.show()"
   ]
  }
 ],
 "metadata": {
  "kernelspec": {
   "display_name": "Python 3",
   "language": "python",
   "name": "python3"
  },
  "language_info": {
   "codemirror_mode": {
    "name": "ipython",
    "version": 3
   },
   "file_extension": ".py",
   "mimetype": "text/x-python",
   "name": "python",
   "nbconvert_exporter": "python",
   "pygments_lexer": "ipython3",
   "version": "3.6.9"
  }
 },
 "nbformat": 4,
 "nbformat_minor": 5
}
