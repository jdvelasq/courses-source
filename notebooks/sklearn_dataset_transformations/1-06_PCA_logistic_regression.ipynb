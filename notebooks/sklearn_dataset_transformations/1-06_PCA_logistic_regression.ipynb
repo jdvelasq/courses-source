{
 "cells": [
  {
   "cell_type": "markdown",
   "id": "9d362f5f-51fa-4e31-aa90-d4a07ee5afdc",
   "metadata": {
    "slideshow": {
     "slide_type": "slide"
    },
    "tags": []
   },
   "source": [
    "Combinación de PCA y regresión logística --- 9:21 min\n",
    "===\n",
    "\n",
    "* 9:21 min | Última modificación: Octubre 1, 2021 | [YouTube](https://youtu.be/CqRjAkQ5RbU)"
   ]
  },
  {
   "cell_type": "markdown",
   "id": "26096b0d-d827-4950-a9ce-a138d0d170f4",
   "metadata": {},
   "source": [
    "https://scikit-learn.org/stable/auto_examples/compose/plot_digits_pipe.html#sphx-glr-auto-examples-compose-plot-digits-pipe-py"
   ]
  },
  {
   "cell_type": "markdown",
   "id": "f5f9deef-e466-4a2a-b2e7-0563bbb2bf69",
   "metadata": {},
   "source": [
    "Pipeline\n",
    "---"
   ]
  },
  {
   "cell_type": "code",
   "execution_count": 1,
   "id": "8fd4d7e1-ebe1-4c92-abe7-23de023dece2",
   "metadata": {},
   "outputs": [],
   "source": [
    "from sklearn.decomposition import PCA\n",
    "from sklearn.linear_model import LogisticRegression\n",
    "from sklearn.pipeline import Pipeline\n",
    "\n",
    "pca = PCA()\n",
    "logisticRegression = LogisticRegression(max_iter=10000, tol=0.1)\n",
    "\n",
    "pipeline = Pipeline(\n",
    "    steps=[\n",
    "        (\"pca\", pca),\n",
    "        (\"logistic\", logisticRegression),\n",
    "    ]\n",
    ")"
   ]
  },
  {
   "cell_type": "markdown",
   "id": "49635a02-284e-46a1-9090-31bad70902dd",
   "metadata": {},
   "source": [
    "Preparación de datos\n",
    "---"
   ]
  },
  {
   "cell_type": "code",
   "execution_count": 2,
   "id": "659a6466-babd-4bf0-bf00-4889533ef177",
   "metadata": {},
   "outputs": [],
   "source": [
    "from sklearn.datasets import load_digits\n",
    "\n",
    "X_digits, y_digits = load_digits(return_X_y=True)"
   ]
  },
  {
   "cell_type": "markdown",
   "id": "b3febfec-e839-416e-8358-43d18ccfc434",
   "metadata": {},
   "source": [
    "Búsqueda de hiperparámetros óptimos\n",
    "---"
   ]
  },
  {
   "cell_type": "code",
   "execution_count": 3,
   "id": "65090ed4-a333-4392-97fe-14a265fa4682",
   "metadata": {},
   "outputs": [
    {
     "data": {
      "text/plain": [
       "0.9198885793871865"
      ]
     },
     "execution_count": 3,
     "metadata": {},
     "output_type": "execute_result"
    }
   ],
   "source": [
    "import numpy as np\n",
    "from sklearn.model_selection import GridSearchCV\n",
    "\n",
    "param_grid = {\n",
    "    \"pca__n_components\": [5, 15, 30, 45, 64],\n",
    "    \"logistic__C\": np.logspace(-4, 4, 4),\n",
    "}\n",
    "\n",
    "gridSearchCV = GridSearchCV(pipeline, param_grid)\n",
    "\n",
    "gridSearchCV.fit(X_digits, y_digits)\n",
    "\n",
    "gridSearchCV.best_score_"
   ]
  },
  {
   "cell_type": "code",
   "execution_count": 4,
   "id": "90356d94-6fbe-4d84-8201-7cfa3b6ae31a",
   "metadata": {},
   "outputs": [
    {
     "data": {
      "text/plain": [
       "{'logistic__C': 0.046415888336127774, 'pca__n_components': 45}"
      ]
     },
     "execution_count": 4,
     "metadata": {},
     "output_type": "execute_result"
    }
   ],
   "source": [
    "gridSearchCV.best_params_"
   ]
  },
  {
   "cell_type": "markdown",
   "id": "9763da9c-2932-4147-b857-800c9be104b5",
   "metadata": {},
   "source": [
    "Variación de la precisión del modelo respecto a la cantidad de componentes\n",
    "---"
   ]
  },
  {
   "cell_type": "code",
   "execution_count": 5,
   "id": "9ce0a540-9f03-462d-9413-80d41ffa2309",
   "metadata": {},
   "outputs": [
    {
     "data": {
      "text/html": [
       "<div>\n",
       "<style scoped>\n",
       "    .dataframe tbody tr th:only-of-type {\n",
       "        vertical-align: middle;\n",
       "    }\n",
       "\n",
       "    .dataframe tbody tr th {\n",
       "        vertical-align: top;\n",
       "    }\n",
       "\n",
       "    .dataframe thead th {\n",
       "        text-align: right;\n",
       "    }\n",
       "</style>\n",
       "<table border=\"1\" class=\"dataframe\">\n",
       "  <thead>\n",
       "    <tr style=\"text-align: right;\">\n",
       "      <th></th>\n",
       "      <th>param_pca__n_components</th>\n",
       "      <th>mean_test_score</th>\n",
       "      <th>std_test_score</th>\n",
       "    </tr>\n",
       "  </thead>\n",
       "  <tbody>\n",
       "    <tr>\n",
       "      <th>0</th>\n",
       "      <td>5</td>\n",
       "      <td>0.778530</td>\n",
       "      <td>0.023237</td>\n",
       "    </tr>\n",
       "    <tr>\n",
       "      <th>1</th>\n",
       "      <td>15</td>\n",
       "      <td>0.888158</td>\n",
       "      <td>0.031916</td>\n",
       "    </tr>\n",
       "    <tr>\n",
       "      <th>2</th>\n",
       "      <td>30</td>\n",
       "      <td>0.899841</td>\n",
       "      <td>0.029181</td>\n",
       "    </tr>\n",
       "    <tr>\n",
       "      <th>3</th>\n",
       "      <td>45</td>\n",
       "      <td>0.899842</td>\n",
       "      <td>0.027867</td>\n",
       "    </tr>\n",
       "    <tr>\n",
       "      <th>4</th>\n",
       "      <td>64</td>\n",
       "      <td>0.900398</td>\n",
       "      <td>0.027446</td>\n",
       "    </tr>\n",
       "    <tr>\n",
       "      <th>5</th>\n",
       "      <td>5</td>\n",
       "      <td>0.824184</td>\n",
       "      <td>0.040388</td>\n",
       "    </tr>\n",
       "    <tr>\n",
       "      <th>6</th>\n",
       "      <td>15</td>\n",
       "      <td>0.905413</td>\n",
       "      <td>0.029889</td>\n",
       "    </tr>\n",
       "    <tr>\n",
       "      <th>7</th>\n",
       "      <td>30</td>\n",
       "      <td>0.918219</td>\n",
       "      <td>0.029255</td>\n",
       "    </tr>\n",
       "    <tr>\n",
       "      <th>8</th>\n",
       "      <td>45</td>\n",
       "      <td>0.919889</td>\n",
       "      <td>0.028544</td>\n",
       "    </tr>\n",
       "    <tr>\n",
       "      <th>9</th>\n",
       "      <td>64</td>\n",
       "      <td>0.919889</td>\n",
       "      <td>0.027828</td>\n",
       "    </tr>\n",
       "  </tbody>\n",
       "</table>\n",
       "</div>"
      ],
      "text/plain": [
       "  param_pca__n_components  mean_test_score  std_test_score\n",
       "0                       5         0.778530        0.023237\n",
       "1                      15         0.888158        0.031916\n",
       "2                      30         0.899841        0.029181\n",
       "3                      45         0.899842        0.027867\n",
       "4                      64         0.900398        0.027446\n",
       "5                       5         0.824184        0.040388\n",
       "6                      15         0.905413        0.029889\n",
       "7                      30         0.918219        0.029255\n",
       "8                      45         0.919889        0.028544\n",
       "9                      64         0.919889        0.027828"
      ]
     },
     "execution_count": 5,
     "metadata": {},
     "output_type": "execute_result"
    }
   ],
   "source": [
    "import pandas as pd\n",
    "\n",
    "selected_columns = [\n",
    "    \"param_pca__n_components\",\n",
    "    \"mean_test_score\",\n",
    "    \"std_test_score\",\n",
    "]\n",
    "\n",
    "\n",
    "results = pd.DataFrame(gridSearchCV.cv_results_)\n",
    "results = results[selected_columns]\n",
    "results.head(10)"
   ]
  },
  {
   "cell_type": "code",
   "execution_count": 6,
   "id": "786f8979-69ab-4a12-8e05-12756b8f39e3",
   "metadata": {},
   "outputs": [
    {
     "data": {
      "text/html": [
       "<div>\n",
       "<style scoped>\n",
       "    .dataframe tbody tr th:only-of-type {\n",
       "        vertical-align: middle;\n",
       "    }\n",
       "\n",
       "    .dataframe tbody tr th {\n",
       "        vertical-align: top;\n",
       "    }\n",
       "\n",
       "    .dataframe thead th {\n",
       "        text-align: right;\n",
       "    }\n",
       "</style>\n",
       "<table border=\"1\" class=\"dataframe\">\n",
       "  <thead>\n",
       "    <tr style=\"text-align: right;\">\n",
       "      <th></th>\n",
       "      <th></th>\n",
       "      <th>param_pca__n_components</th>\n",
       "      <th>mean_test_score</th>\n",
       "      <th>std_test_score</th>\n",
       "    </tr>\n",
       "    <tr>\n",
       "      <th>param_pca__n_components</th>\n",
       "      <th></th>\n",
       "      <th></th>\n",
       "      <th></th>\n",
       "      <th></th>\n",
       "    </tr>\n",
       "  </thead>\n",
       "  <tbody>\n",
       "    <tr>\n",
       "      <th>5</th>\n",
       "      <th>5</th>\n",
       "      <td>5</td>\n",
       "      <td>0.824184</td>\n",
       "      <td>0.040388</td>\n",
       "    </tr>\n",
       "    <tr>\n",
       "      <th>15</th>\n",
       "      <th>6</th>\n",
       "      <td>15</td>\n",
       "      <td>0.905413</td>\n",
       "      <td>0.029889</td>\n",
       "    </tr>\n",
       "    <tr>\n",
       "      <th>30</th>\n",
       "      <th>7</th>\n",
       "      <td>30</td>\n",
       "      <td>0.918219</td>\n",
       "      <td>0.029255</td>\n",
       "    </tr>\n",
       "    <tr>\n",
       "      <th>45</th>\n",
       "      <th>8</th>\n",
       "      <td>45</td>\n",
       "      <td>0.919889</td>\n",
       "      <td>0.028544</td>\n",
       "    </tr>\n",
       "    <tr>\n",
       "      <th>64</th>\n",
       "      <th>9</th>\n",
       "      <td>64</td>\n",
       "      <td>0.919889</td>\n",
       "      <td>0.027828</td>\n",
       "    </tr>\n",
       "  </tbody>\n",
       "</table>\n",
       "</div>"
      ],
      "text/plain": [
       "                          param_pca__n_components  mean_test_score  \\\n",
       "param_pca__n_components                                              \n",
       "5                       5                       5         0.824184   \n",
       "15                      6                      15         0.905413   \n",
       "30                      7                      30         0.918219   \n",
       "45                      8                      45         0.919889   \n",
       "64                      9                      64         0.919889   \n",
       "\n",
       "                           std_test_score  \n",
       "param_pca__n_components                    \n",
       "5                       5        0.040388  \n",
       "15                      6        0.029889  \n",
       "30                      7        0.029255  \n",
       "45                      8        0.028544  \n",
       "64                      9        0.027828  "
      ]
     },
     "execution_count": 6,
     "metadata": {},
     "output_type": "execute_result"
    }
   ],
   "source": [
    "components_col = \"param_pca__n_components\"\n",
    "\n",
    "best_clfs = results.groupby(components_col).apply(\n",
    "    lambda g: g.nlargest(1, \"mean_test_score\")\n",
    ")\n",
    "\n",
    "best_clfs"
   ]
  },
  {
   "cell_type": "code",
   "execution_count": 7,
   "id": "709c3862-23f6-4170-af74-41c150676188",
   "metadata": {},
   "outputs": [
    {
     "data": {
      "image/png": "[encoded data removed]",
      "text/plain": [
       "<Figure size 576x432 with 2 Axes>"
      ]
     },
     "metadata": {
      "needs_background": "light"
     },
     "output_type": "display_data"
    }
   ],
   "source": [
    "import matplotlib.pyplot as plt\n",
    "import numpy as np\n",
    "import pandas as pd\n",
    "\n",
    "#\n",
    "# Grafica el radio de varianza explicado vs la cantidad de\n",
    "# componentes\n",
    "#\n",
    "pca.fit(X_digits)\n",
    "\n",
    "fig, (ax0, ax1) = plt.subplots(\n",
    "    nrows=2,\n",
    "    sharex=True,\n",
    "    figsize=(8, 6),\n",
    ")\n",
    "\n",
    "ax0.plot(\n",
    "    np.arange(1, pca.n_components_ + 1),\n",
    "    pca.explained_variance_ratio_,\n",
    "    \"o\",\n",
    "    c=\"tab:blue\",\n",
    "    linewidth=2,\n",
    ")\n",
    "\n",
    "ax0.set_ylabel(\"PCA explained variance ratio\")\n",
    "\n",
    "ax0.axvline(\n",
    "    gridSearchCV.best_estimator_.named_steps[\"pca\"].n_components,\n",
    "    linestyle=\"--\",\n",
    "    label=\"n_components chosen\",\n",
    ")\n",
    "ax0.legend(prop=dict(size=12))\n",
    "\n",
    "#\n",
    "# Grafica del valor esperado del Test Score\n",
    "#\n",
    "best_clfs.plot(\n",
    "    x=components_col,\n",
    "    y=\"mean_test_score\",\n",
    "    yerr=\"std_test_score\",\n",
    "    legend=False,\n",
    "    ax=ax1,\n",
    ")\n",
    "ax1.set_ylabel(\"Test Score\")\n",
    "ax1.set_xlabel(\"n_components\")\n",
    "\n",
    "plt.xlim(-1, 70)\n",
    "\n",
    "plt.tight_layout()\n",
    "plt.show()"
   ]
  }
 ],
 "metadata": {
  "kernelspec": {
   "display_name": "Python 3",
   "language": "python",
   "name": "python3"
  },
  "language_info": {
   "codemirror_mode": {
    "name": "ipython",
    "version": 3
   },
   "file_extension": ".py",
   "mimetype": "text/x-python",
   "name": "python",
   "nbconvert_exporter": "python",
   "pygments_lexer": "ipython3",
   "version": "3.6.9"
  }
 },
 "nbformat": 4,
 "nbformat_minor": 5
}
