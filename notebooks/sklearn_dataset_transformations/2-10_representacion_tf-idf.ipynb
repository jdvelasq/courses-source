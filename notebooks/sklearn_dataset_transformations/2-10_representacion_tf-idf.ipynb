{
 "cells": [
  {
   "cell_type": "markdown",
   "id": "37bdd0ed-e40c-427e-b7bc-e867d6b0e9d3",
   "metadata": {
    "tags": []
   },
   "source": [
    "Representación TF-IDF  --- 14:01 min\n",
    "===\n",
    "\n",
    "* 14:01 min | Ultima modificación: Ocutbre 7, 2021 | [YouTube](https://youtu.be/kvQSbW9LR4Y)"
   ]
  },
  {
   "cell_type": "markdown",
   "id": "beffebbc-0a96-490a-b663-af0048311bd6",
   "metadata": {},
   "source": [
    "En una matriz documento-término, las cantidades representan la ocurrencia de un token en cada uno de los documentos."
   ]
  },
  {
   "cell_type": "markdown",
   "id": "d5b102d4-b787-41ff-844e-6fae8b96ae41",
   "metadata": {},
   "source": [
    "Las palabras como artículos, verbos ser/estar, conectores, etc. son palabras muy comunes en los textos (tienen frecuencias altas en una matriz documento-término) y tienen poca utilidad para extraer información valiosa de un documento. Adicionalmente, distorcionan y obscurecen términos interesantes que serían de mucha más utilidad."
   ]
  },
  {
   "cell_type": "markdown",
   "id": "d7327f09-a423-4f59-8fb0-56b2e5f76479",
   "metadata": {},
   "source": [
    "La representación TF-IDF (term-frequency inverse document-frequency) recomputa los valores de la matriz como:"
   ]
  },
  {
   "cell_type": "markdown",
   "id": "43c79054-2b3e-42d1-83ca-d44744819508",
   "metadata": {},
   "source": [
    "$$\n",
    "\\text{tf-idf}(t, d) = \\text{tf}(t, d) \\times \\text{idf}(t)\n",
    "$$"
   ]
  },
  {
   "cell_type": "markdown",
   "id": "884c24d0-8694-413c-897d-4063eabc36d2",
   "metadata": {},
   "source": [
    "* $t$ representa el término.\n",
    "\n",
    "\n",
    "* $d$ representa el documento."
   ]
  },
  {
   "cell_type": "markdown",
   "id": "80b2a24f-87f9-4537-8b68-e3beba7c9727",
   "metadata": {},
   "source": [
    "La transformación también pondera la frecuencia de cada token respecto a su frecuencia en el documento y la cantidad de tokens en dicho documento."
   ]
  },
  {
   "cell_type": "markdown",
   "id": "5f6de5ac-4650-4d33-8a00-c068ef563c14",
   "metadata": {},
   "source": [
    "Para explicar esta representación considere la siguiente matriz documento-termino:"
   ]
  },
  {
   "cell_type": "code",
   "execution_count": 1,
   "id": "fc790121-0fad-475f-af21-d92f7d2b9d9e",
   "metadata": {},
   "outputs": [
    {
     "data": {
      "text/plain": [
       "array([[3, 0, 1],\n",
       "       [2, 0, 0],\n",
       "       [3, 0, 0],\n",
       "       [4, 0, 0],\n",
       "       [3, 2, 0],\n",
       "       [3, 0, 2]])"
      ]
     },
     "execution_count": 1,
     "metadata": {},
     "output_type": "execute_result"
    }
   ],
   "source": [
    "import numpy as np\n",
    "\n",
    "#\n",
    "# tf: term-frequency\n",
    "#\n",
    "tf = np.array(\n",
    "    [\n",
    "        [3, 0, 1],\n",
    "        [2, 0, 0],\n",
    "        [3, 0, 0],\n",
    "        [4, 0, 0],\n",
    "        [3, 2, 0],\n",
    "        [3, 0, 2],\n",
    "    ]\n",
    ")\n",
    "\n",
    "tf"
   ]
  },
  {
   "cell_type": "markdown",
   "id": "dadb523c-e6a8-44a0-a4ba-a337c9f89768",
   "metadata": {},
   "source": [
    "Ahora se crea el transformador:"
   ]
  },
  {
   "cell_type": "code",
   "execution_count": 2,
   "id": "a6246c70-72b1-49a2-97cc-91761ad1523f",
   "metadata": {},
   "outputs": [
    {
     "data": {
      "text/plain": [
       "array([[0.5883954 , 0.        , 0.4116046 ],\n",
       "       [1.        , 0.        , 0.        ],\n",
       "       [1.        , 0.        , 0.        ],\n",
       "       [1.        , 0.        , 0.        ],\n",
       "       [0.34950701, 0.65049299, 0.        ],\n",
       "       [0.41682734, 0.        , 0.58317266]])"
      ]
     },
     "execution_count": 2,
     "metadata": {},
     "output_type": "execute_result"
    }
   ],
   "source": [
    "from sklearn.feature_extraction.text import TfidfTransformer\n",
    "\n",
    "transformer = TfidfTransformer(\n",
    "    # -------------------------------------------------------------\n",
    "    # Each output row will have unit norm.\n",
    "    # \"l1\", \"l2\"\n",
    "    norm=\"l1\",\n",
    "    # -------------------------------------------------------------\n",
    "    # Enable inverse-document-frequency reweighting.\n",
    "    use_idf=True,\n",
    "    # -------------------------------------------------------------\n",
    "    # Smooth idf weights by adding one to document frequencies, as\n",
    "    # if an extra document was seen containing every term in the\n",
    "    # collection exactly once. Prevents zero divisions.\n",
    "    smooth_idf=False,\n",
    "    # -------------------------------------------------------------\n",
    "    # Apply sublinear tf scaling, i.e. replace tf with 1 + log(tf).\n",
    "    sublinear_tf=False,\n",
    ")\n",
    "\n",
    "transformer.fit_transform(tf).toarray()"
   ]
  },
  {
   "cell_type": "markdown",
   "id": "88aba227-b411-4055-b7f0-564ab7d73e86",
   "metadata": {},
   "source": [
    "Caso 1\n",
    "---\n",
    "\n",
    "    * norm=\"l1\"\n",
    "\n",
    "    * use_idf=False"
   ]
  },
  {
   "cell_type": "code",
   "execution_count": 3,
   "id": "a4b6d8c7-cc95-4649-a074-8a3fd5e33a09",
   "metadata": {},
   "outputs": [
    {
     "data": {
      "text/plain": [
       "array([[3, 0, 1],\n",
       "       [2, 0, 0],\n",
       "       [3, 0, 0],\n",
       "       [4, 0, 0],\n",
       "       [3, 2, 0],\n",
       "       [3, 0, 2]])"
      ]
     },
     "execution_count": 3,
     "metadata": {},
     "output_type": "execute_result"
    }
   ],
   "source": [
    "#\n",
    "# term-frequency\n",
    "#\n",
    "tf"
   ]
  },
  {
   "cell_type": "code",
   "execution_count": 4,
   "id": "304e1df7-4328-4439-9670-bb1b2a09a108",
   "metadata": {},
   "outputs": [
    {
     "data": {
      "text/plain": [
       "array([[4, 4, 4],\n",
       "       [2, 2, 2],\n",
       "       [3, 3, 3],\n",
       "       [4, 4, 4],\n",
       "       [5, 5, 5],\n",
       "       [5, 5, 5]])"
      ]
     },
     "execution_count": 4,
     "metadata": {},
     "output_type": "execute_result"
    }
   ],
   "source": [
    "#\n",
    "# norma \"l1\" de cada fila\n",
    "#\n",
    "row_norm = np.tile(tf.sum(axis=1).reshape(-1, 1), (1, 3))\n",
    "row_norm"
   ]
  },
  {
   "cell_type": "code",
   "execution_count": 5,
   "id": "c90a1df1-73e8-4135-beea-575e765c44d7",
   "metadata": {},
   "outputs": [
    {
     "data": {
      "text/plain": [
       "array([[0.75, 0.  , 0.25],\n",
       "       [1.  , 0.  , 0.  ],\n",
       "       [1.  , 0.  , 0.  ],\n",
       "       [1.  , 0.  , 0.  ],\n",
       "       [0.6 , 0.4 , 0.  ],\n",
       "       [0.6 , 0.  , 0.4 ]])"
      ]
     },
     "execution_count": 5,
     "metadata": {},
     "output_type": "execute_result"
    }
   ],
   "source": [
    "tf / row_norm"
   ]
  },
  {
   "cell_type": "code",
   "execution_count": 6,
   "id": "9e1cb8ec-ce66-41f3-a53a-aff4d4163631",
   "metadata": {},
   "outputs": [
    {
     "data": {
      "text/plain": [
       "array([[0.75, 0.  , 0.25],\n",
       "       [1.  , 0.  , 0.  ],\n",
       "       [1.  , 0.  , 0.  ],\n",
       "       [1.  , 0.  , 0.  ],\n",
       "       [0.6 , 0.4 , 0.  ],\n",
       "       [0.6 , 0.  , 0.4 ]])"
      ]
     },
     "execution_count": 6,
     "metadata": {},
     "output_type": "execute_result"
    }
   ],
   "source": [
    "#\n",
    "# Verificación\n",
    "#\n",
    "TfidfTransformer(\n",
    "    norm=\"l1\",\n",
    "    use_idf=False,\n",
    "    smooth_idf=False,\n",
    "    sublinear_tf=False,\n",
    ").fit_transform(tf).toarray()"
   ]
  },
  {
   "cell_type": "markdown",
   "id": "3d411327-e3b8-439b-b181-1787acec50f9",
   "metadata": {
    "tags": []
   },
   "source": [
    "Caso 2\n",
    "---\n",
    "\n",
    "    * norm=\"l2\"\n",
    "\n",
    "    * use_idf=False"
   ]
  },
  {
   "cell_type": "code",
   "execution_count": 7,
   "id": "0b88d950-8145-44dc-ad9c-7479a79b88ce",
   "metadata": {},
   "outputs": [
    {
     "data": {
      "text/plain": [
       "array([[3, 0, 1],\n",
       "       [2, 0, 0],\n",
       "       [3, 0, 0],\n",
       "       [4, 0, 0],\n",
       "       [3, 2, 0],\n",
       "       [3, 0, 2]])"
      ]
     },
     "execution_count": 7,
     "metadata": {},
     "output_type": "execute_result"
    }
   ],
   "source": [
    "#\n",
    "# term-frequency\n",
    "#\n",
    "tf"
   ]
  },
  {
   "cell_type": "code",
   "execution_count": 8,
   "id": "4c0cd958-241e-447a-ac30-8a3512493b9e",
   "metadata": {},
   "outputs": [
    {
     "data": {
      "text/plain": [
       "array([[3.16227766, 3.16227766, 3.16227766],\n",
       "       [2.        , 2.        , 2.        ],\n",
       "       [3.        , 3.        , 3.        ],\n",
       "       [4.        , 4.        , 4.        ],\n",
       "       [3.60555128, 3.60555128, 3.60555128],\n",
       "       [3.60555128, 3.60555128, 3.60555128]])"
      ]
     },
     "execution_count": 8,
     "metadata": {},
     "output_type": "execute_result"
    }
   ],
   "source": [
    "#\n",
    "# norma \"l2\" de cada fila\n",
    "#\n",
    "row_norm = np.tile(np.sqrt(np.power(tf, 2).sum(axis=1).reshape(-1, 1)), (1, 3))\n",
    "row_norm"
   ]
  },
  {
   "cell_type": "code",
   "execution_count": 9,
   "id": "883a22ba-3641-4f29-9802-4c600d922c52",
   "metadata": {},
   "outputs": [
    {
     "data": {
      "text/plain": [
       "array([[0.9486833 , 0.        , 0.31622777],\n",
       "       [1.        , 0.        , 0.        ],\n",
       "       [1.        , 0.        , 0.        ],\n",
       "       [1.        , 0.        , 0.        ],\n",
       "       [0.83205029, 0.5547002 , 0.        ],\n",
       "       [0.83205029, 0.        , 0.5547002 ]])"
      ]
     },
     "execution_count": 9,
     "metadata": {},
     "output_type": "execute_result"
    }
   ],
   "source": [
    "tf / row_norm"
   ]
  },
  {
   "cell_type": "code",
   "execution_count": 10,
   "id": "84a6b064-2dfc-4164-8c8b-6e5206f56d41",
   "metadata": {},
   "outputs": [
    {
     "data": {
      "text/plain": [
       "array([[0.9486833 , 0.        , 0.31622777],\n",
       "       [1.        , 0.        , 0.        ],\n",
       "       [1.        , 0.        , 0.        ],\n",
       "       [1.        , 0.        , 0.        ],\n",
       "       [0.83205029, 0.5547002 , 0.        ],\n",
       "       [0.83205029, 0.        , 0.5547002 ]])"
      ]
     },
     "execution_count": 10,
     "metadata": {},
     "output_type": "execute_result"
    }
   ],
   "source": [
    "#\n",
    "# Verificación\n",
    "#\n",
    "TfidfTransformer(\n",
    "    norm=\"l2\",\n",
    "    use_idf=False,\n",
    "    smooth_idf=False,\n",
    "    sublinear_tf=False,\n",
    ").fit_transform(tf).toarray()"
   ]
  },
  {
   "cell_type": "markdown",
   "id": "dce9c9ce-e9b8-49e4-af36-66c9bea04721",
   "metadata": {
    "tags": []
   },
   "source": [
    "Caso 3\n",
    "---\n",
    "\n",
    "    * norm=\"l2\"\n",
    "\n",
    "    * use_idf=True\n",
    "    \n",
    "    * smooth_idf=False\n",
    "    \n",
    "    * sublinear_tf=False"
   ]
  },
  {
   "cell_type": "code",
   "execution_count": 11,
   "id": "5ed50f5a-a17d-4d0a-8a58-0741f8c9ce6a",
   "metadata": {},
   "outputs": [],
   "source": [
    "#\n",
    "# número de documentos = 6\n",
    "#\n",
    "n = tf.shape[0]"
   ]
  },
  {
   "cell_type": "code",
   "execution_count": 12,
   "id": "46ea4cb2-58bb-40a7-a42e-597b12393e23",
   "metadata": {},
   "outputs": [
    {
     "data": {
      "text/plain": [
       "array([6, 1, 2])"
      ]
     },
     "execution_count": 12,
     "metadata": {},
     "output_type": "execute_result"
    }
   ],
   "source": [
    "#\n",
    "# Cuenta los documentos en que aparece un término\n",
    "#\n",
    "df = np.where(tf > 0, 1, 0)\n",
    "df = df.sum(axis=0)\n",
    "df"
   ]
  },
  {
   "cell_type": "code",
   "execution_count": 13,
   "id": "6dbcc7e4-8c70-4c41-8247-eeaa2998cad3",
   "metadata": {},
   "outputs": [
    {
     "data": {
      "text/plain": [
       "array([[1.        , 2.79175947, 2.09861229],\n",
       "       [1.        , 2.79175947, 2.09861229],\n",
       "       [1.        , 2.79175947, 2.09861229],\n",
       "       [1.        , 2.79175947, 2.09861229],\n",
       "       [1.        , 2.79175947, 2.09861229],\n",
       "       [1.        , 2.79175947, 2.09861229]])"
      ]
     },
     "execution_count": 13,
     "metadata": {},
     "output_type": "execute_result"
    }
   ],
   "source": [
    "#\n",
    "# Computa idf(t). Para smooth_idf=False\n",
    "#\n",
    "#                  n\n",
    "#   idf(t) = log ---- + 1\n",
    "#                 df\n",
    "#\n",
    "idf = np.log(n / df) + 1\n",
    "idf = np.tile(idf, (6, 1))\n",
    "idf"
   ]
  },
  {
   "cell_type": "code",
   "execution_count": 14,
   "id": "cb5a6746-149d-42b3-bcd9-d3ffb9f39014",
   "metadata": {},
   "outputs": [
    {
     "data": {
      "text/plain": [
       "array([[3.        , 0.        , 2.09861229],\n",
       "       [2.        , 0.        , 0.        ],\n",
       "       [3.        , 0.        , 0.        ],\n",
       "       [4.        , 0.        , 0.        ],\n",
       "       [3.        , 5.58351894, 0.        ],\n",
       "       [3.        , 0.        , 4.19722458]])"
      ]
     },
     "execution_count": 14,
     "metadata": {},
     "output_type": "execute_result"
    }
   ],
   "source": [
    "tf_idf_raw = tf * idf\n",
    "tf_idf_raw"
   ]
  },
  {
   "cell_type": "code",
   "execution_count": 15,
   "id": "afd636df-0ead-48a4-a506-7a3880833341",
   "metadata": {},
   "outputs": [
    {
     "data": {
      "text/plain": [
       "array([[3.66117106, 3.66117106, 3.66117106],\n",
       "       [2.        , 2.        , 2.        ],\n",
       "       [3.        , 3.        , 3.        ],\n",
       "       [4.        , 4.        , 4.        ],\n",
       "       [6.33842912, 6.33842912, 6.33842912],\n",
       "       [5.15913696, 5.15913696, 5.15913696]])"
      ]
     },
     "execution_count": 15,
     "metadata": {},
     "output_type": "execute_result"
    }
   ],
   "source": [
    "row_norm = np.tile(np.sqrt(np.power(tf_idf_raw, 2).sum(axis=1).reshape(-1, 1)), (1, 3))\n",
    "row_norm"
   ]
  },
  {
   "cell_type": "code",
   "execution_count": 16,
   "id": "993b003c-877d-4686-9eb5-8d241405bdf6",
   "metadata": {},
   "outputs": [
    {
     "data": {
      "text/plain": [
       "array([[0.81940995, 0.        , 0.57320793],\n",
       "       [1.        , 0.        , 0.        ],\n",
       "       [1.        , 0.        , 0.        ],\n",
       "       [1.        , 0.        , 0.        ],\n",
       "       [0.47330339, 0.88089948, 0.        ],\n",
       "       [0.58149261, 0.        , 0.81355169]])"
      ]
     },
     "execution_count": 16,
     "metadata": {},
     "output_type": "execute_result"
    }
   ],
   "source": [
    "tf_idf = tf_idf_raw / row_norm\n",
    "tf_idf"
   ]
  },
  {
   "cell_type": "code",
   "execution_count": 17,
   "id": "7364e99f-f56b-4008-8737-72e722cb39bf",
   "metadata": {},
   "outputs": [
    {
     "data": {
      "text/plain": [
       "array([[0.81940995, 0.        , 0.57320793],\n",
       "       [1.        , 0.        , 0.        ],\n",
       "       [1.        , 0.        , 0.        ],\n",
       "       [1.        , 0.        , 0.        ],\n",
       "       [0.47330339, 0.88089948, 0.        ],\n",
       "       [0.58149261, 0.        , 0.81355169]])"
      ]
     },
     "execution_count": 17,
     "metadata": {},
     "output_type": "execute_result"
    }
   ],
   "source": [
    "#\n",
    "# Verificación\n",
    "#\n",
    "TfidfTransformer(\n",
    "    norm=\"l2\",\n",
    "    use_idf=True,\n",
    "    smooth_idf=False,\n",
    "    sublinear_tf=False,\n",
    ").fit_transform(tf).toarray()"
   ]
  },
  {
   "cell_type": "markdown",
   "id": "3a344953-b67b-4d66-88ee-6b3d52894b1e",
   "metadata": {
    "tags": []
   },
   "source": [
    "Caso 4\n",
    "---\n",
    "\n",
    "    * norm=\"l2\"\n",
    "\n",
    "    * use_idf=True\n",
    "    \n",
    "    * smooth_idf=True\n",
    "    \n",
    "    * sublinear_tf=False"
   ]
  },
  {
   "cell_type": "code",
   "execution_count": 18,
   "id": "ecad0300-e450-405a-8882-c27c19e9ea69",
   "metadata": {},
   "outputs": [
    {
     "data": {
      "text/plain": [
       "array([[1.        , 2.25276297, 1.84729786],\n",
       "       [1.        , 2.25276297, 1.84729786],\n",
       "       [1.        , 2.25276297, 1.84729786],\n",
       "       [1.        , 2.25276297, 1.84729786],\n",
       "       [1.        , 2.25276297, 1.84729786],\n",
       "       [1.        , 2.25276297, 1.84729786]])"
      ]
     },
     "execution_count": 18,
     "metadata": {},
     "output_type": "execute_result"
    }
   ],
   "source": [
    "#\n",
    "# Computa idf(t). Para smooth_idf=True. Equivale\n",
    "# a un documento que tiene todos los terminos\n",
    "#\n",
    "#                  1+n\n",
    "#   idf(t) = log ------ + 1\n",
    "#                 1+df\n",
    "#\n",
    "idf = np.log((1 + n) / (1 + df)) + 1\n",
    "idf = np.tile(idf, (6, 1))\n",
    "idf"
   ]
  },
  {
   "cell_type": "code",
   "execution_count": 19,
   "id": "066d10ae-77d0-42c9-b5a0-3d990fe0f28a",
   "metadata": {},
   "outputs": [
    {
     "data": {
      "text/plain": [
       "array([[3.        , 0.        , 1.84729786],\n",
       "       [2.        , 0.        , 0.        ],\n",
       "       [3.        , 0.        , 0.        ],\n",
       "       [4.        , 0.        , 0.        ],\n",
       "       [3.        , 4.50552594, 0.        ],\n",
       "       [3.        , 0.        , 3.69459572]])"
      ]
     },
     "execution_count": 19,
     "metadata": {},
     "output_type": "execute_result"
    }
   ],
   "source": [
    "tf_idf_raw = tf * idf\n",
    "tf_idf_raw"
   ]
  },
  {
   "cell_type": "code",
   "execution_count": 20,
   "id": "8821afe8-a82c-4e6f-a516-862cd2a3dc27",
   "metadata": {},
   "outputs": [
    {
     "data": {
      "text/plain": [
       "array([[3.52313914, 3.52313914, 3.52313914],\n",
       "       [2.        , 2.        , 2.        ],\n",
       "       [3.        , 3.        , 3.        ],\n",
       "       [4.        , 4.        , 4.        ],\n",
       "       [5.41292564, 5.41292564, 5.41292564],\n",
       "       [4.75920556, 4.75920556, 4.75920556]])"
      ]
     },
     "execution_count": 20,
     "metadata": {},
     "output_type": "execute_result"
    }
   ],
   "source": [
    "row_norm = np.tile(np.sqrt(np.power(tf_idf_raw, 2).sum(axis=1).reshape(-1, 1)), (1, 3))\n",
    "row_norm"
   ]
  },
  {
   "cell_type": "code",
   "execution_count": 21,
   "id": "0de9c5f9-2c77-44d4-a2d4-18addf07a2a0",
   "metadata": {},
   "outputs": [
    {
     "data": {
      "text/plain": [
       "array([[0.85151335, 0.        , 0.52433293],\n",
       "       [1.        , 0.        , 0.        ],\n",
       "       [1.        , 0.        , 0.        ],\n",
       "       [1.        , 0.        , 0.        ],\n",
       "       [0.55422893, 0.83236428, 0.        ],\n",
       "       [0.63035731, 0.        , 0.77630514]])"
      ]
     },
     "execution_count": 21,
     "metadata": {},
     "output_type": "execute_result"
    }
   ],
   "source": [
    "tf_idf = tf_idf_raw / row_norm\n",
    "tf_idf"
   ]
  },
  {
   "cell_type": "code",
   "execution_count": 22,
   "id": "02ca2f08-e414-493d-a43b-be853f735c87",
   "metadata": {},
   "outputs": [
    {
     "data": {
      "text/plain": [
       "array([[0.85151335, 0.        , 0.52433293],\n",
       "       [1.        , 0.        , 0.        ],\n",
       "       [1.        , 0.        , 0.        ],\n",
       "       [1.        , 0.        , 0.        ],\n",
       "       [0.55422893, 0.83236428, 0.        ],\n",
       "       [0.63035731, 0.        , 0.77630514]])"
      ]
     },
     "execution_count": 22,
     "metadata": {},
     "output_type": "execute_result"
    }
   ],
   "source": [
    "#\n",
    "# Verificación\n",
    "#\n",
    "TfidfTransformer(\n",
    "    norm=\"l2\",\n",
    "    use_idf=True,\n",
    "    smooth_idf=True,\n",
    "    sublinear_tf=False,\n",
    ").fit_transform(tf).toarray()"
   ]
  },
  {
   "cell_type": "markdown",
   "id": "9c9c097c-45dc-4b32-ae69-9a7fcc1ea287",
   "metadata": {
    "tags": []
   },
   "source": [
    "Caso 5\n",
    "---\n",
    "\n",
    "    * norm=\"l2\"\n",
    "\n",
    "    * use_idf=True\n",
    "    \n",
    "    * smooth_idf=True\n",
    "    \n",
    "    * sublinear_tf=True"
   ]
  },
  {
   "cell_type": "code",
   "execution_count": 23,
   "id": "fb204359-4603-442c-b46f-b8d56de30710",
   "metadata": {},
   "outputs": [
    {
     "data": {
      "text/plain": [
       "array([[1.        , 2.25276297, 1.84729786],\n",
       "       [1.        , 2.25276297, 1.84729786],\n",
       "       [1.        , 2.25276297, 1.84729786],\n",
       "       [1.        , 2.25276297, 1.84729786],\n",
       "       [1.        , 2.25276297, 1.84729786],\n",
       "       [1.        , 2.25276297, 1.84729786]])"
      ]
     },
     "execution_count": 23,
     "metadata": {},
     "output_type": "execute_result"
    }
   ],
   "source": [
    "#\n",
    "# Computa idf(t). Para smooth_idf=True. Equivale\n",
    "# a un documento que tiene todos los terminos\n",
    "#\n",
    "#                  1+n\n",
    "#   idf(t) = log ------ + 1\n",
    "#                 1+df\n",
    "#\n",
    "idf = np.log((1 + n) / (1 + df)) + 1\n",
    "idf = np.tile(idf, (6, 1))\n",
    "idf"
   ]
  },
  {
   "cell_type": "code",
   "execution_count": 24,
   "id": "01132ce6-35e4-4297-b0f5-3d830763513e",
   "metadata": {},
   "outputs": [
    {
     "data": {
      "text/plain": [
       "array([[3, 0, 1],\n",
       "       [2, 0, 0],\n",
       "       [3, 0, 0],\n",
       "       [4, 0, 0],\n",
       "       [3, 2, 0],\n",
       "       [3, 0, 2]])"
      ]
     },
     "execution_count": 24,
     "metadata": {},
     "output_type": "execute_result"
    }
   ],
   "source": [
    "np.where(tf > 0, tf, 0)"
   ]
  },
  {
   "cell_type": "code",
   "execution_count": 25,
   "id": "5a2a37d8-8b4c-4460-bd2e-fb24b88dc21b",
   "metadata": {},
   "outputs": [
    {
     "data": {
      "text/plain": [
       "array([[2.09861229, 0.        , 1.84729786],\n",
       "       [1.69314718, 0.        , 0.        ],\n",
       "       [2.09861229, 0.        , 0.        ],\n",
       "       [2.38629436, 0.        , 0.        ],\n",
       "       [2.09861229, 3.81425927, 0.        ],\n",
       "       [2.09861229, 0.        , 3.12774716]])"
      ]
     },
     "execution_count": 25,
     "metadata": {},
     "output_type": "execute_result"
    }
   ],
   "source": [
    "#\n",
    "# Cuando sublinear_tf=True, reemplaza tf por 1 + log(tf)\n",
    "#\n",
    "mylog = lambda x: 1 + np.log(x) if x > 0 else 0\n",
    "\n",
    "tf_idf_raw = np.vectorize(mylog)(tf) * idf\n",
    "tf_idf_raw"
   ]
  },
  {
   "cell_type": "code",
   "execution_count": 26,
   "id": "da1a82bc-b4ca-46d5-baa1-10ffd338d83e",
   "metadata": {},
   "outputs": [
    {
     "data": {
      "text/plain": [
       "array([[2.79583314, 2.79583314, 2.79583314],\n",
       "       [1.69314718, 1.69314718, 1.69314718],\n",
       "       [2.09861229, 2.09861229, 2.09861229],\n",
       "       [2.38629436, 2.38629436, 2.38629436],\n",
       "       [4.35347531, 4.35347531, 4.35347531],\n",
       "       [3.76656022, 3.76656022, 3.76656022]])"
      ]
     },
     "execution_count": 26,
     "metadata": {},
     "output_type": "execute_result"
    }
   ],
   "source": [
    "row_norm = np.tile(np.sqrt(np.power(tf_idf_raw, 2).sum(axis=1).reshape(-1, 1)), (1, 3))\n",
    "row_norm"
   ]
  },
  {
   "cell_type": "code",
   "execution_count": 27,
   "id": "4aa16c31-8c14-4c64-a447-eb51b1538bb3",
   "metadata": {},
   "outputs": [
    {
     "data": {
      "text/plain": [
       "array([[0.75062144, 0.        , 0.66073252],\n",
       "       [1.        , 0.        , 0.        ],\n",
       "       [1.        , 0.        , 0.        ],\n",
       "       [1.        , 0.        , 0.        ],\n",
       "       [0.48205448, 0.87614124, 0.        ],\n",
       "       [0.55716945, 0.        , 0.83039882]])"
      ]
     },
     "execution_count": 27,
     "metadata": {},
     "output_type": "execute_result"
    }
   ],
   "source": [
    "tf_idf = tf_idf_raw / row_norm\n",
    "tf_idf"
   ]
  },
  {
   "cell_type": "code",
   "execution_count": 28,
   "id": "92fca3cf-eac5-4183-8001-f4adfb400a1b",
   "metadata": {},
   "outputs": [
    {
     "data": {
      "text/plain": [
       "array([[0.75062144, 0.        , 0.66073252],\n",
       "       [1.        , 0.        , 0.        ],\n",
       "       [1.        , 0.        , 0.        ],\n",
       "       [1.        , 0.        , 0.        ],\n",
       "       [0.48205448, 0.87614124, 0.        ],\n",
       "       [0.55716945, 0.        , 0.83039882]])"
      ]
     },
     "execution_count": 28,
     "metadata": {},
     "output_type": "execute_result"
    }
   ],
   "source": [
    "#\n",
    "# Verificación\n",
    "#\n",
    "TfidfTransformer(\n",
    "    norm=\"l2\",\n",
    "    use_idf=True,\n",
    "    smooth_idf=True,\n",
    "    sublinear_tf=True,\n",
    ").fit_transform(tf).toarray()"
   ]
  }
 ],
 "metadata": {
  "kernelspec": {
   "display_name": "Python 3",
   "language": "python",
   "name": "python3"
  },
  "language_info": {
   "codemirror_mode": {
    "name": "ipython",
    "version": 3
   },
   "file_extension": ".py",
   "mimetype": "text/x-python",
   "name": "python",
   "nbconvert_exporter": "python",
   "pygments_lexer": "ipython3",
   "version": "3.6.9"
  }
 },
 "nbformat": 4,
 "nbformat_minor": 5
}
