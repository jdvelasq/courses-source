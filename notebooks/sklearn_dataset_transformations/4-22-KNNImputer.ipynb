{
 "cells": [
  {
   "cell_type": "markdown",
   "id": "7c4c54a5-f8fd-4c39-849b-5e235fd97071",
   "metadata": {
    "tags": []
   },
   "source": [
    "KNNImputer --- 3:32 min\n",
    "===\n",
    "\n",
    "* 3:32 min | Última modificación: Octubre 7, 2021 | [YouTube](https://youtu.be/wGzQnsCYDW8)"
   ]
  },
  {
   "cell_type": "markdown",
   "id": "72fcdbbe-bfa7-4bd4-86bb-4f89bcd704a6",
   "metadata": {},
   "source": [
    "Esta metodología imputa los valores llenando los faltantes usando una aproximación de vecinos próximos. La estrategía permite el promedio o el promedio ponderado."
   ]
  },
  {
   "cell_type": "code",
   "execution_count": 1,
   "id": "7a26042f-a3c0-4141-a9db-e50422f2b2b6",
   "metadata": {},
   "outputs": [],
   "source": [
    "import numpy as np\n",
    "\n",
    "X_train = [\n",
    "    [1, 2, np.nan],\n",
    "    [3, 4, 3],\n",
    "    [np.nan, 6, 5],\n",
    "    [8, 8, 7],\n",
    "]"
   ]
  },
  {
   "cell_type": "code",
   "execution_count": 2,
   "id": "36c63c13-2ce7-4abf-8b67-8c9e59af0ff9",
   "metadata": {},
   "outputs": [
    {
     "data": {
      "text/plain": [
       "array([[1. , 2. , 4. ],\n",
       "       [3. , 4. , 3. ],\n",
       "       [5.5, 6. , 5. ],\n",
       "       [8. , 8. , 7. ]])"
      ]
     },
     "execution_count": 2,
     "metadata": {},
     "output_type": "execute_result"
    }
   ],
   "source": [
    "from sklearn.impute import KNNImputer\n",
    "\n",
    "knnImputer = KNNImputer(\n",
    "    # -------------------------------------------------------------------------\n",
    "    # The placeholder for the missing values.\n",
    "    missing_values=np.nan,\n",
    "    # -------------------------------------------------------------------------\n",
    "    # Number of neighboring samples to use for imputation.\n",
    "    n_neighbors=2,\n",
    "    # -------------------------------------------------------------------------\n",
    "    # Weight function used in prediction.\n",
    "    # - 'uniform' : uniform weights. All points in each neighborhood are\n",
    "    #   weighted equally.\n",
    "    # - 'distance' : weight points by the inverse of their distance. in this\n",
    "    # case, closer neighbors of a query point will have a greater influence\n",
    "    # than neighbors which are further away.\n",
    "    weights=\"uniform\",\n",
    "    # -------------------------------------------------------------------------\n",
    "    # Distance metric for searching neighbors.\n",
    "    # - 'nan_euclidean'\n",
    "    # - user defined.\n",
    "    metric=\"nan_euclidean\",\n",
    ")\n",
    "\n",
    "knnImputer.fit(X_train)\n",
    "\n",
    "knnImputer.transform(X_train)"
   ]
  }
 ],
 "metadata": {
  "kernelspec": {
   "display_name": "Python 3",
   "language": "python",
   "name": "python3"
  },
  "language_info": {
   "codemirror_mode": {
    "name": "ipython",
    "version": 3
   },
   "file_extension": ".py",
   "mimetype": "text/x-python",
   "name": "python",
   "nbconvert_exporter": "python",
   "pygments_lexer": "ipython3",
   "version": "3.6.9"
  }
 },
 "nbformat": 4,
 "nbformat_minor": 5
}
