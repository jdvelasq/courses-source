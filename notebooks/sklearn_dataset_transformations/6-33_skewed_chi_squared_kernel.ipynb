{
 "cells": [
  {
   "cell_type": "markdown",
   "id": "7c4c54a5-f8fd-4c39-849b-5e235fd97071",
   "metadata": {
    "tags": []
   },
   "source": [
    "SkewedChi2Sampler (Skewed Chi Squared Kernel) --- 2:36 min\n",
    "===\n",
    "\n",
    "* 2:36 min | Última modificación: Octubre 11, 2021 | [YouTube](https://youtu.be/3QQDlMk-XUE)"
   ]
  },
  {
   "cell_type": "markdown",
   "id": "6241cfca-32fd-4214-b18c-0ff959f8f53e",
   "metadata": {},
   "source": [
    "**Kernel**:\n",
    "\n",
    "$$\n",
    "k(x,y) = \\prod_i \\frac{2 \\sqrt{x_i + c} \\sqrt{y_i + c}}{x_i + y_i + 2c}\n",
    "$$"
   ]
  },
  {
   "cell_type": "code",
   "execution_count": 1,
   "id": "555202e8-ef7d-4e3d-809e-02942a85163e",
   "metadata": {},
   "outputs": [
    {
     "data": {
      "text/plain": [
       "1.0"
      ]
     },
     "execution_count": 1,
     "metadata": {},
     "output_type": "execute_result"
    }
   ],
   "source": [
    "from sklearn.kernel_approximation import SkewedChi2Sampler\n",
    "from sklearn.linear_model import SGDClassifier\n",
    "\n",
    "X = [\n",
    "    [0, 0],\n",
    "    [1, 1],\n",
    "    [1, 0],\n",
    "    [0, 1],\n",
    "]\n",
    "y = [\n",
    "    0,\n",
    "    0,\n",
    "    1,\n",
    "    1,\n",
    "]\n",
    "\n",
    "\n",
    "skewedChi2Sampler = SkewedChi2Sampler(\n",
    "    # -------------------------------------------------------------------------\n",
    "    # “skewedness” parameter of the kernel. Needs to be cross-validated.\n",
    "    skewedness=0.01,\n",
    "    # -------------------------------------------------------------------------\n",
    "    # Number of Monte Carlo samples per original feature. Equals the\n",
    "    # dimensionality of the computed feature space.\n",
    "    n_components=10,\n",
    "    # -------------------------------------------------------------------------\n",
    "    # Pseudo-random number generator to control the generation of the random\n",
    "    # weights and random offset when fitting the training data.\n",
    "    random_state=0,\n",
    ")\n",
    "\n",
    "X_features = skewedChi2Sampler.fit_transform(X, y)\n",
    "sgdClassifier = SGDClassifier(max_iter=10, tol=1e-3)\n",
    "sgdClassifier.fit(X_features, y)\n",
    "\n",
    "sgdClassifier.score(X_features, y)"
   ]
  },
  {
   "cell_type": "code",
   "execution_count": 2,
   "id": "1cb15259-29e9-450a-97ce-1c95b587d596",
   "metadata": {},
   "outputs": [
    {
     "data": {
      "text/plain": [
       "array([[ 0.04900596,  0.23374428,  0.10459645,  0.04503266, -0.07708788,\n",
       "         0.15128805, -0.06281659,  0.56093924,  0.91108014, -0.11925419],\n",
       "       [ 0.34400301,  0.02893469,  0.0685688 ,  0.68185282, -0.69672387,\n",
       "        -0.63105194, -1.09792825,  0.4177765 ,  0.32230045,  0.50124184]])"
      ]
     },
     "execution_count": 2,
     "metadata": {},
     "output_type": "execute_result"
    }
   ],
   "source": [
    "#\n",
    "# Weight array, sampled from a secant hyperbolic distribution, which will be\n",
    "# used to linearly transform the log of the data.\n",
    "#\n",
    "skewedChi2Sampler.random_weights_"
   ]
  },
  {
   "cell_type": "code",
   "execution_count": 3,
   "id": "bf6086a4-8dd8-40d6-9336-3d5aaa4577a1",
   "metadata": {},
   "outputs": [
    {
     "data": {
      "text/plain": [
       "array([6.14884039, 5.02126135, 2.89956035, 4.90420945, 0.74314013,\n",
       "       4.02074236, 0.90071527, 5.93552986, 3.27886971, 2.60539781])"
      ]
     },
     "execution_count": 3,
     "metadata": {},
     "output_type": "execute_result"
    }
   ],
   "source": [
    "#\n",
    "# Bias term, which will be added to the data. It is uniformly distributed\n",
    "# between 0 and 2*pi.\n",
    "#\n",
    "skewedChi2Sampler.random_offset_"
   ]
  }
 ],
 "metadata": {
  "kernelspec": {
   "display_name": "Python 3",
   "language": "python",
   "name": "python3"
  },
  "language_info": {
   "codemirror_mode": {
    "name": "ipython",
    "version": 3
   },
   "file_extension": ".py",
   "mimetype": "text/x-python",
   "name": "python",
   "nbconvert_exporter": "python",
   "pygments_lexer": "ipython3",
   "version": "3.6.9"
  }
 },
 "nbformat": 4,
 "nbformat_minor": 5
}
