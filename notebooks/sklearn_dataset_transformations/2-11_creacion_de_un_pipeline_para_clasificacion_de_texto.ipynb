{
 "cells": [
  {
   "cell_type": "markdown",
   "id": "6a364e0b-f4b2-4c5e-8116-9979b9fd7614",
   "metadata": {
    "slideshow": {
     "slide_type": "slide"
    },
    "tags": []
   },
   "source": [
    "Creación de un pipeline para clasificación de texto --- 3:48 min\n",
    "===\n",
    "\n",
    "* 3:48 min | Ultima modificación: Ocutbre 7, 2021 | [YouTube](https://youtu.be/2GkxWH45s3w)"
   ]
  },
  {
   "cell_type": "markdown",
   "id": "b28da268-90f5-4475-89d1-45eeffabcc33",
   "metadata": {},
   "source": [
    "https://scikit-learn.org/stable/auto_examples/model_selection/grid_search_text_feature_extraction.html#sphx-glr-auto-examples-model-selection-grid-search-text-feature-extraction-py"
   ]
  },
  {
   "cell_type": "markdown",
   "id": "54119fa9-9131-4c35-9ccb-826be50cb9b6",
   "metadata": {},
   "source": [
    "Especificación del pipeline\n",
    "---"
   ]
  },
  {
   "cell_type": "code",
   "execution_count": 1,
   "id": "ece1e2fc-255c-4186-b9f4-55d7eaf278e0",
   "metadata": {},
   "outputs": [],
   "source": [
    "from sklearn.feature_extraction.text import CountVectorizer, TfidfTransformer\n",
    "from sklearn.linear_model import SGDClassifier\n",
    "from sklearn.pipeline import Pipeline\n",
    "\n",
    "pipeline = Pipeline(\n",
    "    [\n",
    "        # ---------------------------------------------------------------------\n",
    "        # Convert a collection of text documents to a matrix of token counts.\n",
    "        (\"countVectorizer\", CountVectorizer()),\n",
    "        # ---------------------------------------------------------------------\n",
    "        # Transform a count matrix to a normalized tf or tf-idf representation.\n",
    "        (\"tfidfTransformer\", TfidfTransformer()),\n",
    "        # ---------------------------------------------------------------------\n",
    "        # Linear classifiers (SVM, logistic regression, etc.) with SGD training.\n",
    "        (\"sgdClassifier\", SGDClassifier()),\n",
    "    ]\n",
    ")"
   ]
  },
  {
   "cell_type": "markdown",
   "id": "e2d31560-b006-4ea4-925a-94c604cc4c45",
   "metadata": {},
   "source": [
    "Preparación de datos\n",
    "---"
   ]
  },
  {
   "cell_type": "code",
   "execution_count": 2,
   "id": "3433dea6-11e8-49bc-8ee1-dc430f1f1297",
   "metadata": {},
   "outputs": [
    {
     "name": "stderr",
     "output_type": "stream",
     "text": [
      "Downloading 20news dataset. This may take a few minutes.\n",
      "Downloading dataset from https://ndownloader.figshare.com/files/5975967 (14 MB)\n"
     ]
    }
   ],
   "source": [
    "from sklearn.datasets import fetch_20newsgroups\n",
    "\n",
    "# categories = [\n",
    "#     \"alt.atheism\",\n",
    "#     \"talk.religion.misc\",\n",
    "# ]\n",
    "\n",
    "X_train, y_train = fetch_20newsgroups(\n",
    "    subset=\"train\",\n",
    "    return_X_y=True,\n",
    ")\n",
    "\n",
    "X_test, y_test = fetch_20newsgroups(\n",
    "    subset=\"test\",\n",
    "    return_X_y=True,\n",
    ")"
   ]
  },
  {
   "cell_type": "markdown",
   "id": "4275403b-fc4e-4669-b0ad-2546d15b2987",
   "metadata": {},
   "source": [
    "Búsqueda de hiperparámetros óptimos\n",
    "---"
   ]
  },
  {
   "cell_type": "code",
   "execution_count": 3,
   "id": "126c6374-f603-4d6f-8809-95abed26a74f",
   "metadata": {},
   "outputs": [
    {
     "data": {
      "text/plain": [
       "GridSearchCV(cv=None, error_score=nan,\n",
       "             estimator=Pipeline(memory=None,\n",
       "                                steps=[('countVectorizer',\n",
       "                                        CountVectorizer(analyzer='word',\n",
       "                                                        binary=False,\n",
       "                                                        decode_error='strict',\n",
       "                                                        dtype=<class 'numpy.int64'>,\n",
       "                                                        encoding='utf-8',\n",
       "                                                        input='content',\n",
       "                                                        lowercase=True,\n",
       "                                                        max_df=1.0,\n",
       "                                                        max_features=None,\n",
       "                                                        min_df=1,\n",
       "                                                        ngram_range=(1, 1),\n",
       "                                                        preprocessor=None,\n",
       "                                                        stop_words=None,\n",
       "                                                        strip_accents=None,\n",
       "                                                        token...\n",
       "                                                      shuffle=True, tol=0.001,\n",
       "                                                      validation_fraction=0.1,\n",
       "                                                      verbose=0,\n",
       "                                                      warm_start=False))],\n",
       "                                verbose=False),\n",
       "             iid='deprecated', n_jobs=-1,\n",
       "             param_grid={'countVectorizer__max_df': (0.5, 0.75, 1.0),\n",
       "                         'sgdClassifier__alpha': (1e-05, 1e-06),\n",
       "                         'sgdClassifier__max_iter': (20,),\n",
       "                         'sgdClassifier__penalty': ('l2', 'elasticnet')},\n",
       "             pre_dispatch='2*n_jobs', refit=True, return_train_score=False,\n",
       "             scoring=None, verbose=0)"
      ]
     },
     "execution_count": 3,
     "metadata": {},
     "output_type": "execute_result"
    }
   ],
   "source": [
    "from sklearn.model_selection import GridSearchCV\n",
    "\n",
    "param_grid = {\n",
    "    \"countVectorizer__max_df\": (0.5, 0.75, 1.0),\n",
    "    \"sgdClassifier__max_iter\": (20,),\n",
    "    \"sgdClassifier__alpha\": (0.00001, 0.000001),\n",
    "    \"sgdClassifier__penalty\": (\"l2\", \"elasticnet\"),\n",
    "}\n",
    "\n",
    "gridSearchCV = GridSearchCV(\n",
    "    pipeline,\n",
    "    param_grid,\n",
    "    n_jobs=-1,\n",
    ")\n",
    "\n",
    "gridSearchCV.fit(X_train, y_train)"
   ]
  },
  {
   "cell_type": "code",
   "execution_count": 4,
   "id": "34c7fe35-5b87-4d0a-bbb2-648e095e8c75",
   "metadata": {},
   "outputs": [
    {
     "data": {
      "text/plain": [
       "0.9213367465626444"
      ]
     },
     "execution_count": 4,
     "metadata": {},
     "output_type": "execute_result"
    }
   ],
   "source": [
    "gridSearchCV.best_score_"
   ]
  },
  {
   "cell_type": "code",
   "execution_count": 5,
   "id": "3d0b6d67-7ad0-444c-9156-99accec25a39",
   "metadata": {},
   "outputs": [
    {
     "name": "stdout",
     "output_type": "stream",
     "text": [
      "       countVectorizer__max_df: 0.75\n",
      "          sgdClassifier__alpha: 1e-05\n",
      "       sgdClassifier__max_iter: 20\n",
      "        sgdClassifier__penalty: 'l2'\n"
     ]
    }
   ],
   "source": [
    "best_parameters = gridSearchCV.best_estimator_.get_params()\n",
    "for param_name in sorted(param_grid.keys()):\n",
    "    print(\"{:>30s}: {:s}\".format(param_name, repr(best_parameters[param_name])))"
   ]
  },
  {
   "cell_type": "markdown",
   "id": "b56ea6ca-3f34-45fe-9bce-d78b21d9302c",
   "metadata": {},
   "source": [
    "Evaluación\n",
    "---"
   ]
  },
  {
   "cell_type": "code",
   "execution_count": 11,
   "id": "d792ddf9-4b8e-4863-9a27-19f51f5476bd",
   "metadata": {},
   "outputs": [
    {
     "data": {
      "text/plain": [
       "<sklearn.metrics._plot.confusion_matrix.ConfusionMatrixDisplay at 0x7fe70a111470>"
      ]
     },
     "execution_count": 11,
     "metadata": {},
     "output_type": "execute_result"
    },
    {
     "data": {
      "image/png": "[encoded data removed]",
      "text/plain": [
       "<Figure size 432x288 with 2 Axes>"
      ]
     },
     "metadata": {
      "needs_background": "light"
     },
     "output_type": "display_data"
    }
   ],
   "source": [
    "from sklearn.metrics import confusion_matrix, ConfusionMatrixDisplay\n",
    "\n",
    "y_pred = gridSearchCV.predict(X_test)\n",
    "\n",
    "cm = confusion_matrix(\n",
    "    y_true=y_test,\n",
    "    y_pred=y_pred,\n",
    ")\n",
    "\n",
    "ConfusionMatrixDisplay(confusion_matrix=cm, display_labels=range(20)).plot()"
   ]
  }
 ],
 "metadata": {
  "kernelspec": {
   "display_name": "Python 3",
   "language": "python",
   "name": "python3"
  },
  "language_info": {
   "codemirror_mode": {
    "name": "ipython",
    "version": 3
   },
   "file_extension": ".py",
   "mimetype": "text/x-python",
   "name": "python",
   "nbconvert_exporter": "python",
   "pygments_lexer": "ipython3",
   "version": "3.6.9"
  }
 },
 "nbformat": 4,
 "nbformat_minor": 5
}
