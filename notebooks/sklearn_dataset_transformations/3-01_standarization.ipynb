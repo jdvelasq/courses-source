{
 "cells": [
  {
   "cell_type": "markdown",
   "id": "1f596601-1eb3-4787-89e3-d1fb4c7dfed5",
   "metadata": {
    "tags": []
   },
   "source": [
    "StandardScaler --- 3:04\n",
    "===\n",
    "\n",
    "* 3:04 min | Última modificación: Octubre 7, 2021 | [YouTube](https://youtu.be/hhMXAe3HXXk)"
   ]
  },
  {
   "cell_type": "markdown",
   "id": "5f939a91-a873-49dc-86d0-07b5dd198fe9",
   "metadata": {},
   "source": [
    "Se aplica la transformación:\n",
    "\n",
    "$$\n",
    "x_{*} = \\frac{x - \\text{mean}(x)}{\\text{std}(x)}\n",
    "$$"
   ]
  },
  {
   "cell_type": "markdown",
   "id": "09479667-30a8-415a-bb5d-3270f85189c0",
   "metadata": {},
   "source": [
    "*  Muchas técnicas suponen que los datos ya están estandarizados (RBF, SVM, ...).\n",
    "\n",
    "* Cuando una característica tiene una varianza muy diferente de las restantes, afecta el aprendizaje del modelo, ya que domina la función objetivo."
   ]
  },
  {
   "cell_type": "code",
   "execution_count": 1,
   "id": "386e5534-d60a-472e-8f58-95bbf2739fdd",
   "metadata": {},
   "outputs": [],
   "source": [
    "import seaborn as sns\n",
    "\n",
    "penguins = sns.load_dataset(\"penguins\")\n",
    "\n",
    "data = penguins[[\"flipper_length_mm\"]]\n",
    "data = data.rename(columns={\"flipper_length_mm\": \"original\"})"
   ]
  },
  {
   "cell_type": "code",
   "execution_count": 2,
   "id": "8c036b4e-a263-4237-a000-7cf49622f713",
   "metadata": {},
   "outputs": [],
   "source": [
    "from sklearn.preprocessing import StandardScaler\n",
    "\n",
    "standardScaler = StandardScaler(\n",
    "    # -------------------------------------------------------------------------\n",
    "    # If True, center the data before scaling.\n",
    "    with_mean=True,\n",
    "    # -------------------------------------------------------------------------\n",
    "    # If True, scale the data to unit variance (or equivalently, unit standard\n",
    "    # deviation).\n",
    "    with_std=True,\n",
    ")\n",
    "standardScaler.fit(data)\n",
    "\n",
    "data[\"transformed\"] = standardScaler.transform(data)"
   ]
  },
  {
   "cell_type": "code",
   "execution_count": 3,
   "id": "2aca5ff3-55a4-4912-885b-1a74a6c4129f",
   "metadata": {},
   "outputs": [
    {
     "data": {
      "image/png": "[encoded data removed]",
      "text/plain": [
       "<Figure size 432x432 with 3 Axes>"
      ]
     },
     "metadata": {
      "needs_background": "light"
     },
     "output_type": "display_data"
    }
   ],
   "source": [
    "import matplotlib.pyplot as plt\n",
    "\n",
    "sns.jointplot(x=\"original\", y=\"transformed\", data=data, kind=\"scatter\")\n",
    "plt.show()"
   ]
  },
  {
   "cell_type": "code",
   "execution_count": 4,
   "id": "9bf8d672-b77f-4484-910a-9195d8d249ce",
   "metadata": {},
   "outputs": [
    {
     "data": {
      "text/plain": [
       "array([200.91520468])"
      ]
     },
     "metadata": {},
     "output_type": "display_data"
    },
    {
     "data": {
      "text/plain": [
       "array([14.04114057])"
      ]
     },
     "metadata": {},
     "output_type": "display_data"
    }
   ],
   "source": [
    "display(\n",
    "    standardScaler.mean_,\n",
    "    standardScaler.scale_,\n",
    ")"
   ]
  }
 ],
 "metadata": {
  "kernelspec": {
   "display_name": "Python 3",
   "language": "python",
   "name": "python3"
  },
  "language_info": {
   "codemirror_mode": {
    "name": "ipython",
    "version": 3
   },
   "file_extension": ".py",
   "mimetype": "text/x-python",
   "name": "python",
   "nbconvert_exporter": "python",
   "pygments_lexer": "ipython3",
   "version": "3.6.9"
  }
 },
 "nbformat": 4,
 "nbformat_minor": 5
}
