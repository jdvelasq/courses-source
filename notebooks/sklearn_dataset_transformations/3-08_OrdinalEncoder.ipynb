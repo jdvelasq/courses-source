{
 "cells": [
  {
   "cell_type": "markdown",
   "id": "6569be1d-bde6-4fc2-a8ce-970fc8dd0026",
   "metadata": {
    "tags": []
   },
   "source": [
    "OrdinalEncoder --- 2:52 min\n",
    "===\n",
    "\n",
    "* 2:52 min | Última modificación: Octubre 7, 2021 | [YouTube](https://youtu.be/hPJmrr7_Z7Q)"
   ]
  },
  {
   "cell_type": "code",
   "execution_count": 1,
   "id": "2c7942ef-f2f3-4ad6-b3b1-463ac0885a31",
   "metadata": {
    "tags": []
   },
   "outputs": [
    {
     "data": {
      "text/html": [
       "<div>\n",
       "<style scoped>\n",
       "    .dataframe tbody tr th:only-of-type {\n",
       "        vertical-align: middle;\n",
       "    }\n",
       "\n",
       "    .dataframe tbody tr th {\n",
       "        vertical-align: top;\n",
       "    }\n",
       "\n",
       "    .dataframe thead th {\n",
       "        text-align: right;\n",
       "    }\n",
       "</style>\n",
       "<table border=\"1\" class=\"dataframe\">\n",
       "  <thead>\n",
       "    <tr style=\"text-align: right;\">\n",
       "      <th></th>\n",
       "      <th>sex</th>\n",
       "      <th>from</th>\n",
       "      <th>uses</th>\n",
       "    </tr>\n",
       "  </thead>\n",
       "  <tbody>\n",
       "    <tr>\n",
       "      <th>0</th>\n",
       "      <td>male</td>\n",
       "      <td>from US</td>\n",
       "      <td>uses Safari</td>\n",
       "    </tr>\n",
       "    <tr>\n",
       "      <th>1</th>\n",
       "      <td>female</td>\n",
       "      <td>from Europe</td>\n",
       "      <td>uses Firefox</td>\n",
       "    </tr>\n",
       "    <tr>\n",
       "      <th>2</th>\n",
       "      <td>non_binary</td>\n",
       "      <td>from America</td>\n",
       "      <td>uses Chrome</td>\n",
       "    </tr>\n",
       "  </tbody>\n",
       "</table>\n",
       "</div>"
      ],
      "text/plain": [
       "          sex          from          uses\n",
       "0        male       from US   uses Safari\n",
       "1      female   from Europe  uses Firefox\n",
       "2  non_binary  from America   uses Chrome"
      ]
     },
     "execution_count": 1,
     "metadata": {},
     "output_type": "execute_result"
    }
   ],
   "source": [
    "import pandas as pd\n",
    "\n",
    "X = [\n",
    "    [\"male\", \"from US\", \"uses Safari\"],\n",
    "    [\"female\", \"from Europe\", \"uses Firefox\"],\n",
    "    [\"non_binary\", \"from America\", \"uses Chrome\"],\n",
    "]\n",
    "\n",
    "df = pd.DataFrame(X, columns=[\"sex\", \"from\", \"uses\"])\n",
    "df"
   ]
  },
  {
   "cell_type": "code",
   "execution_count": 2,
   "id": "0ddb888b-200a-4ed6-a69d-c5cdafcd9cfe",
   "metadata": {},
   "outputs": [
    {
     "data": {
      "text/plain": [
       "array([[1., 2., 2.],\n",
       "       [0., 1., 1.],\n",
       "       [2., 0., 0.]])"
      ]
     },
     "execution_count": 2,
     "metadata": {},
     "output_type": "execute_result"
    }
   ],
   "source": [
    "import numpy as np\n",
    "from sklearn.preprocessing import OrdinalEncoder\n",
    "\n",
    "ordinalEncoder = OrdinalEncoder(\n",
    "    # -------------------------------------------------------------------------\n",
    "    # Categories (unique values) per feature:\n",
    "    # - ‘auto’ : Determine categories automatically from the training data.\n",
    "    # - list : categories[i] holds the categories expected in the ith column.\n",
    "    categories=\"auto\",\n",
    "    # -------------------------------------------------------------------------\n",
    "    # Desired dtype of output.\n",
    "    dtype=np.float64,\n",
    "    # -------------------------------------------------------------------------\n",
    "    # When set to ‘error’ an error will be raised in case an unknown\n",
    "    # categorical feature is present during transform.\n",
    "    # handle_unknown=\"error\",\n",
    "    # -------------------------------------------------------------------------\n",
    "    # When the parameter handle_unknown is set to ‘use_encoded_value’, this\n",
    "    # parameter is required and will set the encoded value of unknown\n",
    "    # categories.\n",
    "    # unknown_value=None,\n",
    ")\n",
    "\n",
    "ordinalEncoder.fit(X)\n",
    "\n",
    "ordinalEncoder.transform(X)"
   ]
  },
  {
   "cell_type": "code",
   "execution_count": 3,
   "id": "7e369de3-a3fb-46d7-964d-35a7fc379e36",
   "metadata": {},
   "outputs": [
    {
     "data": {
      "text/plain": [
       "[array(['female', 'male', 'non_binary'], dtype=object),\n",
       " array(['from America', 'from Europe', 'from US'], dtype=object),\n",
       " array(['uses Chrome', 'uses Firefox', 'uses Safari'], dtype=object)]"
      ]
     },
     "execution_count": 3,
     "metadata": {},
     "output_type": "execute_result"
    }
   ],
   "source": [
    "ordinalEncoder.categories_"
   ]
  }
 ],
 "metadata": {
  "kernelspec": {
   "display_name": "Python 3",
   "language": "python",
   "name": "python3"
  },
  "language_info": {
   "codemirror_mode": {
    "name": "ipython",
    "version": 3
   },
   "file_extension": ".py",
   "mimetype": "text/x-python",
   "name": "python",
   "nbconvert_exporter": "python",
   "pygments_lexer": "ipython3",
   "version": "3.6.9"
  }
 },
 "nbformat": 4,
 "nbformat_minor": 5
}
