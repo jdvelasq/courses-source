{
 "cells": [
  {
   "cell_type": "markdown",
   "id": "5da62b68-6ea2-4528-98fe-0efd48808b84",
   "metadata": {
    "tags": []
   },
   "source": [
    "Normalizer --- 2:37 min\n",
    "===\n",
    "\n",
    "* 2:37 min | Última modificación: Octubre 7, 2021 | [YouTube](https://youtu.be/v6wRkHwwLUA)"
   ]
  },
  {
   "cell_type": "markdown",
   "id": "97c00c52-793b-406d-88b6-7396c3b181d4",
   "metadata": {},
   "source": [
    "Este transformador se aplica comunmente a procesamiento de texto y clustering."
   ]
  },
  {
   "cell_type": "code",
   "execution_count": 1,
   "id": "af83103c-0828-47b7-bb33-e15b63088ad4",
   "metadata": {},
   "outputs": [],
   "source": [
    "import numpy as np\n",
    "\n",
    "#\n",
    "# tf: term-frequency\n",
    "#\n",
    "tf = np.array(\n",
    "    [\n",
    "        [3, 0, 1],\n",
    "        [2, 0, 0],\n",
    "        [3, 0, 0],\n",
    "        [4, 0, 0],\n",
    "        [3, 2, 0],\n",
    "        [3, 0, 2],\n",
    "    ]\n",
    ")"
   ]
  },
  {
   "cell_type": "code",
   "execution_count": 2,
   "id": "05a8542a-e30e-424d-90b3-c8fd2e117960",
   "metadata": {},
   "outputs": [
    {
     "data": {
      "text/plain": [
       "array([[0.9486833 , 0.        , 0.31622777],\n",
       "       [1.        , 0.        , 0.        ],\n",
       "       [1.        , 0.        , 0.        ],\n",
       "       [1.        , 0.        , 0.        ],\n",
       "       [0.83205029, 0.5547002 , 0.        ],\n",
       "       [0.83205029, 0.        , 0.5547002 ]])"
      ]
     },
     "execution_count": 2,
     "metadata": {},
     "output_type": "execute_result"
    }
   ],
   "source": [
    "#\n",
    "# Normaliza cada muestra individualmente para que\n",
    "# su norma sea unitaria. La norma puede ser: 'l2',\n",
    "# 'l1', 'max'.\n",
    "#\n",
    "\n",
    "from sklearn.preprocessing import Normalizer\n",
    "\n",
    "normalizer_l2_norm = Normalizer(\n",
    "    # -------------------------------------------------------------------------\n",
    "    # The norm to use to normalize each non zero sample. If norm=’max’ is used,\n",
    "    # values will be rescaled by the maximum of the absolute values.\n",
    "    # 'l1', 'l2', 'max'\n",
    "    norm=\"l2\",\n",
    ")\n",
    "normalizer_l2_norm.fit(tf)\n",
    "\n",
    "tf_l2_norm = normalizer_l2_norm.transform(tf)\n",
    "tf_l2_norm"
   ]
  },
  {
   "cell_type": "code",
   "execution_count": 3,
   "id": "cef7a91b-8a93-429a-91c2-917ddd49ec88",
   "metadata": {},
   "outputs": [
    {
     "data": {
      "text/plain": [
       "array([1., 1., 1., 1., 1., 1.])"
      ]
     },
     "execution_count": 3,
     "metadata": {},
     "output_type": "execute_result"
    }
   ],
   "source": [
    "#\n",
    "# Verificación\n",
    "#\n",
    "np.square(tf_l2_norm).sum(axis=1)"
   ]
  },
  {
   "cell_type": "code",
   "execution_count": 4,
   "id": "1aecd631-f0d8-4c5c-a760-af913058451a",
   "metadata": {},
   "outputs": [
    {
     "data": {
      "text/plain": [
       "array([[1.        , 0.        , 0.33333333],\n",
       "       [1.        , 0.        , 0.        ],\n",
       "       [1.        , 0.        , 0.        ],\n",
       "       [1.        , 0.        , 0.        ],\n",
       "       [1.        , 0.66666667, 0.        ],\n",
       "       [1.        , 0.        , 0.66666667]])"
      ]
     },
     "execution_count": 4,
     "metadata": {},
     "output_type": "execute_result"
    }
   ],
   "source": [
    "normalizer_max_norm = Normalizer(\n",
    "    norm=\"max\",\n",
    ")\n",
    "normalizer_max_norm.fit(tf)\n",
    "\n",
    "tf_max_norm = normalizer_max_norm.transform(tf)\n",
    "tf_max_norm"
   ]
  },
  {
   "cell_type": "code",
   "execution_count": 5,
   "id": "d2d8d300-6441-4cd7-8057-da0344f7957e",
   "metadata": {},
   "outputs": [
    {
     "data": {
      "text/plain": [
       "array([1.33333333, 1.        , 1.        , 1.        , 1.66666667,\n",
       "       1.66666667])"
      ]
     },
     "execution_count": 5,
     "metadata": {},
     "output_type": "execute_result"
    }
   ],
   "source": [
    "#\n",
    "# Verificación\n",
    "#\n",
    "tf_max_norm.sum(axis=1)"
   ]
  }
 ],
 "metadata": {
  "kernelspec": {
   "display_name": "Python 3",
   "language": "python",
   "name": "python3"
  },
  "language_info": {
   "codemirror_mode": {
    "name": "ipython",
    "version": 3
   },
   "file_extension": ".py",
   "mimetype": "text/x-python",
   "name": "python",
   "nbconvert_exporter": "python",
   "pygments_lexer": "ipython3",
   "version": "3.6.9"
  }
 },
 "nbformat": 4,
 "nbformat_minor": 5
}
