{
 "cells": [
  {
   "cell_type": "markdown",
   "id": "3ccbea7f-8d51-42e1-bfbf-d64dbab322a5",
   "metadata": {
    "tags": []
   },
   "source": [
    "Transformación de la variable pronósticada\n",
    "===\n",
    "\n",
    "* *60:00 min* | Última modificación: Agosto 11, 2021 | YouTube"
   ]
  },
  {
   "cell_type": "code",
   "execution_count": null,
   "id": "64420bcc-462d-49aa-8eff-5a3d40122597",
   "metadata": {},
   "outputs": [],
   "source": []
  }
 ],
 "metadata": {
  "kernelspec": {
   "display_name": "Python 3",
   "language": "python",
   "name": "python3"
  },
  "language_info": {
   "codemirror_mode": {
    "name": "ipython",
    "version": 3
   },
   "file_extension": ".py",
   "mimetype": "text/x-python",
   "name": "python",
   "nbconvert_exporter": "python",
   "pygments_lexer": "ipython3",
   "version": "3.6.9"
  }
 },
 "nbformat": 4,
 "nbformat_minor": 5
}
