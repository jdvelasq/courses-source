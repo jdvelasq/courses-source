{
 "cells": [
  {
   "cell_type": "markdown",
   "id": "7388ba63-aec0-40e9-a460-1d6f60f587d3",
   "metadata": {
    "slideshow": {
     "slide_type": "slide"
    },
    "tags": []
   },
   "source": [
    "Tuberias de estimadores\n",
    "===\n",
    "\n",
    "* 10:00 min | Última modificación: Abril 5, 2021 | [YouTube]"
   ]
  },
  {
   "cell_type": "markdown",
   "id": "26559146-5f0f-4190-9663-62729c7e151a",
   "metadata": {},
   "source": [
    "https://scikit-learn.org/stable/modules/compose.html"
   ]
  },
  {
   "cell_type": "markdown",
   "id": "e116b096-f118-45d1-b9da-65e2faabf802",
   "metadata": {},
   "source": [
    "## Manejo de tuberías"
   ]
  },
  {
   "cell_type": "code",
   "execution_count": 1,
   "id": "416039bd-1226-4c49-b8af-a2a0595148b4",
   "metadata": {},
   "outputs": [
    {
     "data": {
      "text/plain": [
       "Pipeline(memory=None,\n",
       "         steps=[('reduce_dim',\n",
       "                 PCA(copy=True, iterated_power='auto', n_components=None,\n",
       "                     random_state=None, svd_solver='auto', tol=0.0,\n",
       "                     whiten=False)),\n",
       "                ('clf',\n",
       "                 SVC(C=1.0, break_ties=False, cache_size=200, class_weight=None,\n",
       "                     coef0=0.0, decision_function_shape='ovr', degree=3,\n",
       "                     gamma='scale', kernel='rbf', max_iter=-1,\n",
       "                     probability=False, random_state=None, shrinking=True,\n",
       "                     tol=0.001, verbose=False))],\n",
       "         verbose=False)"
      ]
     },
     "execution_count": 1,
     "metadata": {},
     "output_type": "execute_result"
    }
   ],
   "source": [
    "from sklearn.decomposition import PCA\n",
    "from sklearn.pipeline import Pipeline\n",
    "from sklearn.svm import SVC\n",
    "\n",
    "#\n",
    "# Creación de una tubería de estimadores \n",
    "# asignando un identificador\n",
    "#\n",
    "estimators = [\n",
    "    (\"reduce_dim\", PCA()),\n",
    "    (\"clf\", SVC()),\n",
    "]\n",
    "\n",
    "pipeline = Pipeline(estimators)\n",
    "pipeline"
   ]
  },
  {
   "cell_type": "code",
   "execution_count": 2,
   "id": "b31bf965-af18-4803-a40d-ca3aed996518",
   "metadata": {},
   "outputs": [
    {
     "data": {
      "text/plain": [
       "Pipeline(memory=None,\n",
       "         steps=[('binarizer', Binarizer(copy=True, threshold=0.0)),\n",
       "                ('multinomialnb',\n",
       "                 MultinomialNB(alpha=1.0, class_prior=None, fit_prior=True))],\n",
       "         verbose=False)"
      ]
     },
     "execution_count": 2,
     "metadata": {},
     "output_type": "execute_result"
    }
   ],
   "source": [
    "#\n",
    "# Creación de una tubería con identificadores\n",
    "# por defecto para sus componentes\n",
    "#\n",
    "from sklearn.naive_bayes import MultinomialNB\n",
    "from sklearn.pipeline import make_pipeline\n",
    "from sklearn.preprocessing import Binarizer\n",
    "\n",
    "make_pipeline(\n",
    "    Binarizer(),\n",
    "    MultinomialNB(),\n",
    ")"
   ]
  },
  {
   "cell_type": "code",
   "execution_count": 3,
   "id": "9da976b9-7ccc-40c7-b700-7b2bd3691526",
   "metadata": {},
   "outputs": [
    {
     "data": {
      "text/plain": [
       "('reduce_dim',\n",
       " PCA(copy=True, iterated_power='auto', n_components=None, random_state=None,\n",
       "     svd_solver='auto', tol=0.0, whiten=False))"
      ]
     },
     "execution_count": 3,
     "metadata": {},
     "output_type": "execute_result"
    }
   ],
   "source": [
    "#\n",
    "# Acceso a la tupla mediante un índice\n",
    "#\n",
    "pipeline.steps[0]"
   ]
  },
  {
   "cell_type": "code",
   "execution_count": 4,
   "id": "f820736b-b91f-421f-a4a2-b0e275f23600",
   "metadata": {},
   "outputs": [
    {
     "data": {
      "text/plain": [
       "PCA(copy=True, iterated_power='auto', n_components=None, random_state=None,\n",
       "    svd_solver='auto', tol=0.0, whiten=False)"
      ]
     },
     "execution_count": 4,
     "metadata": {},
     "output_type": "execute_result"
    }
   ],
   "source": [
    "#\n",
    "# Acceso al estimador mediante un índice\n",
    "#\n",
    "pipeline[0]"
   ]
  },
  {
   "cell_type": "code",
   "execution_count": 5,
   "id": "f70e0ac7-6b7d-45fe-a3bc-cf2338e51289",
   "metadata": {},
   "outputs": [
    {
     "data": {
      "text/plain": [
       "PCA(copy=True, iterated_power='auto', n_components=None, random_state=None,\n",
       "    svd_solver='auto', tol=0.0, whiten=False)"
      ]
     },
     "execution_count": 5,
     "metadata": {},
     "output_type": "execute_result"
    }
   ],
   "source": [
    "#\n",
    "# Accesso al estimador usando su nombre\n",
    "#\n",
    "pipeline['reduce_dim']"
   ]
  },
  {
   "cell_type": "code",
   "execution_count": 6,
   "id": "9f3a4b37-74ba-4669-8871-b1100f34afab",
   "metadata": {},
   "outputs": [
    {
     "data": {
      "text/plain": [
       "Pipeline(memory=None,\n",
       "         steps=[('reduce_dim',\n",
       "                 PCA(copy=True, iterated_power='auto', n_components=None,\n",
       "                     random_state=None, svd_solver='auto', tol=0.0,\n",
       "                     whiten=False)),\n",
       "                ('clf',\n",
       "                 SVC(C=10, break_ties=False, cache_size=200, class_weight=None,\n",
       "                     coef0=0.0, decision_function_shape='ovr', degree=3,\n",
       "                     gamma='scale', kernel='rbf', max_iter=-1,\n",
       "                     probability=False, random_state=None, shrinking=True,\n",
       "                     tol=0.001, verbose=False))],\n",
       "         verbose=False)"
      ]
     },
     "execution_count": 6,
     "metadata": {},
     "output_type": "execute_result"
    }
   ],
   "source": [
    "#\n",
    "# Actualización de los parámetros de un estimador\n",
    "# en la tubería\n",
    "#\n",
    "pipeline.set_params(clf__C=10)"
   ]
  },
  {
   "cell_type": "code",
   "execution_count": 7,
   "id": "121bcf61-1858-438d-9332-6150f3ec25f8",
   "metadata": {},
   "outputs": [],
   "source": [
    "#\n",
    "# Especificación de una malla de valores de \n",
    "# parámetros en la tubería para buscar su \n",
    "# combinación óptima\n",
    "# \n",
    "from sklearn.model_selection import GridSearchCV\n",
    "\n",
    "param_grid = dict(\n",
    "    reduce_dim__n_components=[2, 5, 10],\n",
    "    clf__C=[0.1, 10, 100],\n",
    ")\n",
    "grid_search = GridSearchCV(\n",
    "    pipeline,\n",
    "    param_grid=param_grid,\n",
    ")"
   ]
  },
  {
   "cell_type": "code",
   "execution_count": 8,
   "id": "b6b356a3-93a7-486a-a525-4f149f6e7a77",
   "metadata": {},
   "outputs": [
    {
     "data": {
      "text/plain": [
       "array([[-1.77484909e-19, -1.73094651e-02, -2.23428835e-01, ...,\n",
       "        -8.94184677e-02, -3.65977111e-02, -1.14684954e-02],\n",
       "       [ 3.27805401e-18, -1.01064569e-02, -4.90849204e-02, ...,\n",
       "         1.76697117e-01,  1.94547053e-02, -6.69693895e-03],\n",
       "       [-1.68358559e-18,  1.83420720e-02,  1.26475543e-01, ...,\n",
       "         2.32084163e-01,  1.67026563e-01,  3.48043832e-02],\n",
       "       ...,\n",
       "       [ 0.00000000e+00,  4.64905892e-16,  7.75864167e-17, ...,\n",
       "         1.04083409e-16, -6.24500451e-17, -1.52655666e-16],\n",
       "       [-0.00000000e+00,  1.66533454e-16,  2.23116834e-16, ...,\n",
       "        -2.77555756e-16,  1.11022302e-16,  1.66533454e-16],\n",
       "       [ 1.00000000e+00, -1.68983002e-17,  5.73338351e-18, ...,\n",
       "         8.66631300e-18, -1.57615962e-17,  4.07058917e-18]])"
      ]
     },
     "execution_count": 8,
     "metadata": {},
     "output_type": "execute_result"
    }
   ],
   "source": [
    "#\n",
    "# Creación de los modelos por fuera de la\n",
    "# tubería e inspección de sus valores\n",
    "#\n",
    "from sklearn.datasets import load_digits\n",
    "\n",
    "X_digits, y_digits = load_digits(return_X_y=True)\n",
    "\n",
    "pca = PCA()\n",
    "svm = SVC()\n",
    "pipeline = Pipeline(\n",
    "    [\n",
    "        (\"reduce_dim\", pca),\n",
    "        (\"clf\", svm),\n",
    "    ],\n",
    ")\n",
    "pipeline.fit(X_digits, y_digits)\n",
    "\n",
    "pca.components_"
   ]
  },
  {
   "cell_type": "markdown",
   "id": "e230a33b-45d7-48b9-ac71-8ae12d9e585b",
   "metadata": {},
   "source": [
    "## Ejemplo 1: Ensamble de ANOVA y una SVM"
   ]
  },
  {
   "cell_type": "markdown",
   "id": "379c8b1e-d35c-40cb-a68a-8b281209af61",
   "metadata": {},
   "source": [
    "https://scikit-learn.org/stable/auto_examples/feature_selection/plot_feature_selection_pipeline.html#sphx-glr-auto-examples-feature-selection-plot-feature-selection-pipeline-py"
   ]
  },
  {
   "cell_type": "code",
   "execution_count": 9,
   "id": "fbb7808e-bf89-4de1-8156-2ecbcecb142e",
   "metadata": {},
   "outputs": [
    {
     "data": {
      "text/plain": [
       "Pipeline(memory=None,\n",
       "         steps=[('selectkbest',\n",
       "                 SelectKBest(k=3,\n",
       "                             score_func=<function f_classif at 0x7f2702562f28>)),\n",
       "                ('linearsvc',\n",
       "                 LinearSVC(C=1.0, class_weight=None, dual=True,\n",
       "                           fit_intercept=True, intercept_scaling=1,\n",
       "                           loss='squared_hinge', max_iter=1000,\n",
       "                           multi_class='ovr', penalty='l2', random_state=None,\n",
       "                           tol=0.0001, verbose=0))],\n",
       "         verbose=False)"
      ]
     },
     "execution_count": 9,
     "metadata": {},
     "output_type": "execute_result"
    }
   ],
   "source": [
    "from sklearn import set_config\n",
    "\n",
    "from sklearn.datasets import make_classification\n",
    "from sklearn.model_selection import train_test_split\n",
    "from sklearn.feature_selection import SelectKBest, f_classif\n",
    "from sklearn.svm import LinearSVC\n",
    "\n",
    "X, y = make_classification(\n",
    "    n_features=20,\n",
    "    n_informative=3,\n",
    "    n_redundant=0,\n",
    "    n_classes=2,\n",
    "    n_clusters_per_class=2,\n",
    "    random_state=42,\n",
    ")\n",
    "\n",
    "X_train, X_test, y_train, y_test = train_test_split(\n",
    "    X,\n",
    "    y,\n",
    "    random_state=42,\n",
    ")\n",
    "\n",
    "anova_filter = SelectKBest(f_classif, k=3)\n",
    "\n",
    "clf = LinearSVC()\n",
    "\n",
    "anova_svm = make_pipeline(anova_filter, clf)\n",
    "anova_svm.fit(X_train, y_train)"
   ]
  },
  {
   "cell_type": "markdown",
   "id": "8b52322a-9411-493a-af3e-96b028c0c16c",
   "metadata": {
    "tags": []
   },
   "source": [
    "## Ejemplo 2: Encadenamiento e PCA() y regresión logística"
   ]
  },
  {
   "cell_type": "markdown",
   "id": "ae27d89e-f839-484f-9dfe-2a447f0ef796",
   "metadata": {
    "tags": []
   },
   "source": [
    "https://scikit-learn.org/stable/auto_examples/compose/plot_digits_pipe.html#sphx-glr-auto-examples-compose-plot-digits-pipe-py"
   ]
  },
  {
   "cell_type": "code",
   "execution_count": 10,
   "id": "2a023520-a01d-4f2f-9771-87e3da54f83c",
   "metadata": {},
   "outputs": [
    {
     "name": "stdout",
     "output_type": "stream",
     "text": [
      "Best parameter (CV score=0.920):\n",
      "{'logistic__C': 0.046415888336127774, 'pca__n_components': 45}\n"
     ]
    },
    {
     "data": {
      "text/plain": [
       "<Figure size 720x360 with 0 Axes>"
      ]
     },
     "metadata": {},
     "output_type": "display_data"
    },
    {
     "data": {
      "image/png": "[encoded data removed]",
      "text/plain": [
       "<Figure size 432x432 with 2 Axes>"
      ]
     },
     "metadata": {
      "needs_background": "light"
     },
     "output_type": "display_data"
    }
   ],
   "source": [
    "import matplotlib.pyplot as plt\n",
    "import numpy as np\n",
    "import pandas as pd\n",
    "from sklearn.linear_model import LogisticRegression\n",
    "\n",
    "\n",
    "X_digits, y_digits = load_digits(return_X_y=True)\n",
    "\n",
    "\n",
    "pca = PCA()\n",
    "logisticRegression = LogisticRegression(max_iter=10000, tol=0.1)\n",
    "pipeline = Pipeline(\n",
    "    steps=[\n",
    "        (\"pca\", pca),\n",
    "        (\"logistic\", logisticRegression),\n",
    "    ]\n",
    ")\n",
    "\n",
    "\n",
    "param_grid = {\n",
    "    \"pca__n_components\": [5, 15, 30, 45, 64],\n",
    "    \"logistic__C\": np.logspace(-4, 4, 4),\n",
    "}\n",
    "search = GridSearchCV(pipeline, param_grid)\n",
    "search.fit(X_digits, y_digits)\n",
    "print(\"Best parameter (CV score=%0.3f):\" % search.best_score_)\n",
    "print(search.best_params_)\n",
    "\n",
    "pca.fit(X_digits)\n",
    "\n",
    "#\n",
    "# Gráfica\n",
    "#\n",
    "plt.figure(figsize=(10, 5))\n",
    "\n",
    "fig, (ax0, ax1) = plt.subplots(nrows=2, sharex=True, figsize=(6, 6))\n",
    "\n",
    "ax0.plot(\n",
    "    np.arange(1, pca.n_components_ + 1),\n",
    "    pca.explained_variance_ratio_,\n",
    "    \"+\",\n",
    "    linewidth=2,\n",
    ")\n",
    "\n",
    "ax0.set_ylabel(\"PCA explained variance ratio\")\n",
    "\n",
    "ax0.axvline(\n",
    "    search.best_estimator_.named_steps[\"pca\"].n_components,\n",
    "    linestyle=\":\",\n",
    "    label=\"n_components chosen\",\n",
    ")\n",
    "ax0.legend(prop=dict(size=12))\n",
    "\n",
    "results = pd.DataFrame(search.cv_results_)\n",
    "components_col = \"param_pca__n_components\"\n",
    "best_clfs = results.groupby(components_col).apply(\n",
    "    lambda g: g.nlargest(1, \"mean_test_score\")\n",
    ")\n",
    "\n",
    "best_clfs.plot(\n",
    "    x=components_col, y=\"mean_test_score\", yerr=\"std_test_score\", legend=False, ax=ax1\n",
    ")\n",
    "ax1.set_ylabel(\"Classification accuracy (val)\")\n",
    "ax1.set_xlabel(\"n_components\")\n",
    "\n",
    "plt.xlim(-1, 70)\n",
    "\n",
    "plt.tight_layout()\n",
    "plt.show()"
   ]
  },
  {
   "cell_type": "markdown",
   "id": "54a6aa9d-12ca-4278-b1ce-8fbc73586729",
   "metadata": {},
   "source": [
    "## Ejemplo 3: SVM con selección de características univariadas"
   ]
  },
  {
   "cell_type": "markdown",
   "id": "3de0f87f-1784-43a0-8bdc-b7a3715f8a84",
   "metadata": {},
   "source": [
    "https://scikit-learn.org/stable/auto_examples/svm/plot_svm_anova.html#sphx-glr-auto-examples-svm-plot-svm-anova-py"
   ]
  },
  {
   "cell_type": "code",
   "execution_count": 11,
   "id": "59ad7638-473a-4291-bd90-97343160a01c",
   "metadata": {},
   "outputs": [
    {
     "data": {
      "image/png": "[encoded data removed]",
      "text/plain": [
       "<Figure size 432x288 with 1 Axes>"
      ]
     },
     "metadata": {
      "needs_background": "light"
     },
     "output_type": "display_data"
    }
   ],
   "source": [
    "from sklearn.feature_selection import SelectPercentile, chi2\n",
    "from sklearn.model_selection import cross_val_score\n",
    "from sklearn.preprocessing import StandardScaler\n",
    "from sklearn.datasets import load_iris\n",
    "\n",
    "X, y = load_iris(return_X_y=True)\n",
    "\n",
    "np.random.seed(0)\n",
    "X = np.hstack((X, 2 * np.random.random((X.shape[0], 36))))\n",
    "\n",
    "clf = Pipeline(\n",
    "    [\n",
    "        (\"anova\", SelectPercentile(chi2)),\n",
    "        (\"scaler\", StandardScaler()),\n",
    "        (\"svc\", SVC(gamma=\"auto\")),\n",
    "    ],\n",
    ")\n",
    "\n",
    "score_means = list()\n",
    "score_stds = list()\n",
    "percentiles = (1, 3, 6, 10, 15, 20, 30, 40, 60, 80, 100)\n",
    "\n",
    "for percentile in percentiles:\n",
    "    clf.set_params(anova__percentile=percentile)\n",
    "    this_scores = cross_val_score(clf, X, y)\n",
    "    score_means.append(this_scores.mean())\n",
    "    score_stds.append(this_scores.std())\n",
    "\n",
    "plt.errorbar(percentiles, score_means, np.array(score_stds))\n",
    "plt.title(\"Performance of the SVM-Anova varying the percentile of features selected\")\n",
    "plt.xticks(np.linspace(0, 100, 11, endpoint=True))\n",
    "plt.xlabel(\"Percentile\")\n",
    "plt.ylabel(\"Accuracy Score\")\n",
    "plt.axis(\"tight\")\n",
    "plt.show()"
   ]
  }
 ],
 "metadata": {
  "kernelspec": {
   "display_name": "Python 3",
   "language": "python",
   "name": "python3"
  },
  "language_info": {
   "codemirror_mode": {
    "name": "ipython",
    "version": 3
   },
   "file_extension": ".py",
   "mimetype": "text/x-python",
   "name": "python",
   "nbconvert_exporter": "python",
   "pygments_lexer": "ipython3",
   "version": "3.6.9"
  }
 },
 "nbformat": 4,
 "nbformat_minor": 5
}
