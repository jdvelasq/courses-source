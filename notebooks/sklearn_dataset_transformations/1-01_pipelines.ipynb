{
 "cells": [
  {
   "cell_type": "markdown",
   "id": "7388ba63-aec0-40e9-a460-1d6f60f587d3",
   "metadata": {
    "slideshow": {
     "slide_type": "slide"
    },
    "tags": []
   },
   "source": [
    "Construcción de tuberias de estimadores --- 8:41 min\n",
    "===\n",
    "\n",
    "* 8:41 min | Última modificación: Septiembre 30, 2021 | [YouTube](https://youtu.be/2lvlJWIZJF8)"
   ]
  },
  {
   "cell_type": "markdown",
   "id": "26559146-5f0f-4190-9663-62729c7e151a",
   "metadata": {},
   "source": [
    "https://scikit-learn.org/stable/modules/compose.html"
   ]
  },
  {
   "cell_type": "markdown",
   "id": "e98de97f-4c0b-4e37-b912-327446a5c1d5",
   "metadata": {},
   "source": [
    "Creación de un pipeline asignando nombres a las componentes\n",
    "---"
   ]
  },
  {
   "cell_type": "code",
   "execution_count": 1,
   "id": "416039bd-1226-4c49-b8af-a2a0595148b4",
   "metadata": {},
   "outputs": [
    {
     "data": {
      "text/plain": [
       "Pipeline(memory=None,\n",
       "         steps=[('reduce_dim',\n",
       "                 PCA(copy=True, iterated_power='auto', n_components=None,\n",
       "                     random_state=None, svd_solver='auto', tol=0.0,\n",
       "                     whiten=False)),\n",
       "                ('clf',\n",
       "                 SVC(C=1.0, break_ties=False, cache_size=200, class_weight=None,\n",
       "                     coef0=0.0, decision_function_shape='ovr', degree=3,\n",
       "                     gamma='scale', kernel='rbf', max_iter=-1,\n",
       "                     probability=False, random_state=None, shrinking=True,\n",
       "                     tol=0.001, verbose=False))],\n",
       "         verbose=False)"
      ]
     },
     "execution_count": 1,
     "metadata": {},
     "output_type": "execute_result"
    }
   ],
   "source": [
    "from sklearn.decomposition import PCA\n",
    "from sklearn.pipeline import Pipeline\n",
    "from sklearn.svm import SVC\n",
    "\n",
    "#\n",
    "# Creación de una tubería de estimadores\n",
    "# asignando un identificador\n",
    "#\n",
    "estimators = [\n",
    "    (\"reduce_dim\", PCA()),\n",
    "    (\"clf\", SVC()),\n",
    "]\n",
    "\n",
    "pipeline = Pipeline(\n",
    "    # -------------------------------------------------------------------------\n",
    "    # List of (name, transform) tuples (implementing fit/transform) that are\n",
    "    # chained, in the order in which they are chained, with the last object an\n",
    "    # estimator\n",
    "    steps=estimators,\n",
    "    # -------------------------------------------------------------------------\n",
    "    # If True, the time elapsed while fitting each step will be printed as it\n",
    "    # is completed.\n",
    "    verbose=False,\n",
    ")\n",
    "pipeline"
   ]
  },
  {
   "cell_type": "markdown",
   "id": "d63947b7-45e0-4205-8dad-2aecf8feb13d",
   "metadata": {},
   "source": [
    "Creación de un pipeline usando make_pipeline\n",
    "---"
   ]
  },
  {
   "cell_type": "code",
   "execution_count": 2,
   "id": "b31bf965-af18-4803-a40d-ca3aed996518",
   "metadata": {},
   "outputs": [
    {
     "data": {
      "text/plain": [
       "Pipeline(memory=None,\n",
       "         steps=[('binarizer', Binarizer(copy=True, threshold=0.0)),\n",
       "                ('multinomialnb',\n",
       "                 MultinomialNB(alpha=1.0, class_prior=None, fit_prior=True))],\n",
       "         verbose=False)"
      ]
     },
     "execution_count": 2,
     "metadata": {},
     "output_type": "execute_result"
    }
   ],
   "source": [
    "#\n",
    "# Creación de una tubería con identificadores\n",
    "# por defecto para sus componentes\n",
    "#\n",
    "from sklearn.naive_bayes import MultinomialNB\n",
    "from sklearn.pipeline import make_pipeline\n",
    "from sklearn.preprocessing import Binarizer\n",
    "\n",
    "make_pipeline(\n",
    "    # -------------------------------------------------------------------------\n",
    "    # List of the scikit-learn estimators that are chained together.\n",
    "    # -------------------------------------------------------------------------\n",
    "    Binarizer(\n",
    "        # ---------------------------------------------------------------------\n",
    "        # Feature values below or equal to this are replaced by 0, above it\n",
    "        # by 1\n",
    "        threshold=0.0\n",
    "    ),\n",
    "    # -------------------------------------------------------------------------\n",
    "    MultinomialNB(\n",
    "        # ---------------------------------------------------------------------\n",
    "        # Additive (Laplace/Lidstone) smoothing parameter (0 for no smoothing).\n",
    "        alpha=1.0,\n",
    "    ),\n",
    ")"
   ]
  },
  {
   "cell_type": "markdown",
   "id": "6460fe03-1b3c-4368-9af1-8c3119fb320f",
   "metadata": {},
   "source": [
    "Acceso a las componentes del pipeline\n",
    "---"
   ]
  },
  {
   "cell_type": "code",
   "execution_count": 3,
   "id": "9da976b9-7ccc-40c7-b700-7b2bd3691526",
   "metadata": {},
   "outputs": [
    {
     "data": {
      "text/plain": [
       "('reduce_dim',\n",
       " PCA(copy=True, iterated_power='auto', n_components=None, random_state=None,\n",
       "     svd_solver='auto', tol=0.0, whiten=False))"
      ]
     },
     "execution_count": 3,
     "metadata": {},
     "output_type": "execute_result"
    }
   ],
   "source": [
    "#\n",
    "# Acceso a la tupla mediante un índice\n",
    "#\n",
    "pipeline.steps[0]"
   ]
  },
  {
   "cell_type": "code",
   "execution_count": 4,
   "id": "f820736b-b91f-421f-a4a2-b0e275f23600",
   "metadata": {},
   "outputs": [
    {
     "data": {
      "text/plain": [
       "PCA(copy=True, iterated_power='auto', n_components=None, random_state=None,\n",
       "    svd_solver='auto', tol=0.0, whiten=False)"
      ]
     },
     "execution_count": 4,
     "metadata": {},
     "output_type": "execute_result"
    }
   ],
   "source": [
    "#\n",
    "# Acceso al estimador mediante un índice\n",
    "#\n",
    "pipeline[0]"
   ]
  },
  {
   "cell_type": "code",
   "execution_count": 5,
   "id": "f70e0ac7-6b7d-45fe-a3bc-cf2338e51289",
   "metadata": {},
   "outputs": [
    {
     "data": {
      "text/plain": [
       "PCA(copy=True, iterated_power='auto', n_components=None, random_state=None,\n",
       "    svd_solver='auto', tol=0.0, whiten=False)"
      ]
     },
     "execution_count": 5,
     "metadata": {},
     "output_type": "execute_result"
    }
   ],
   "source": [
    "#\n",
    "# Accesso al estimador usando su nombre\n",
    "#\n",
    "pipeline[\"reduce_dim\"]"
   ]
  },
  {
   "cell_type": "markdown",
   "id": "2442399f-2a09-4262-986e-be4c18d4f384",
   "metadata": {},
   "source": [
    "Actualización de los parámetros de los estimadores \n",
    "---"
   ]
  },
  {
   "cell_type": "code",
   "execution_count": 6,
   "id": "9f3a4b37-74ba-4669-8871-b1100f34afab",
   "metadata": {},
   "outputs": [
    {
     "data": {
      "text/plain": [
       "Pipeline(memory=None,\n",
       "         steps=[('reduce_dim',\n",
       "                 PCA(copy=True, iterated_power='auto', n_components=None,\n",
       "                     random_state=None, svd_solver='auto', tol=0.0,\n",
       "                     whiten=False)),\n",
       "                ('clf',\n",
       "                 SVC(C=10, break_ties=False, cache_size=200, class_weight=None,\n",
       "                     coef0=0.0, decision_function_shape='ovr', degree=3,\n",
       "                     gamma='scale', kernel='rbf', max_iter=-1,\n",
       "                     probability=False, random_state=None, shrinking=True,\n",
       "                     tol=0.001, verbose=False))],\n",
       "         verbose=False)"
      ]
     },
     "execution_count": 6,
     "metadata": {},
     "output_type": "execute_result"
    }
   ],
   "source": [
    "#\n",
    "# Actualización de los parámetros de un estimador\n",
    "# en la tubería\n",
    "#\n",
    "pipeline.set_params(clf__C=10)"
   ]
  },
  {
   "cell_type": "markdown",
   "id": "93a310cd-cce0-4646-b42e-2431497ac2e5",
   "metadata": {},
   "source": [
    "Búsqueda de hiperparámetros óptimos con GridSearchCV\n",
    "---"
   ]
  },
  {
   "cell_type": "code",
   "execution_count": 7,
   "id": "121bcf61-1858-438d-9332-6150f3ec25f8",
   "metadata": {},
   "outputs": [],
   "source": [
    "#\n",
    "# Especificación de una malla de valores de parámetros en la tubería para\n",
    "# buscar su combinación óptima\n",
    "#\n",
    "from sklearn.model_selection import GridSearchCV\n",
    "\n",
    "param_grid = dict(\n",
    "    reduce_dim__n_components=[2, 5, 10],\n",
    "    clf__C=[0.1, 10, 100],\n",
    ")\n",
    "\n",
    "grid_search = GridSearchCV(\n",
    "    # -------------------------------------------------------------------------\n",
    "    # esetimador/modelo\n",
    "    estimator=pipeline,\n",
    "    # -------------------------------------------------------------------------\n",
    "    # Dictionary with parameters names (str) as keys and lists of parameter\n",
    "    # settings to try as values\n",
    "    param_grid=param_grid,\n",
    ")"
   ]
  },
  {
   "cell_type": "code",
   "execution_count": 8,
   "id": "b6b356a3-93a7-486a-a525-4f149f6e7a77",
   "metadata": {},
   "outputs": [
    {
     "data": {
      "text/plain": [
       "array([[-1.77484909e-19, -1.73094651e-02, -2.23428835e-01, ...,\n",
       "        -8.94184677e-02, -3.65977111e-02, -1.14684954e-02],\n",
       "       [ 3.27805401e-18, -1.01064569e-02, -4.90849204e-02, ...,\n",
       "         1.76697117e-01,  1.94547053e-02, -6.69693895e-03],\n",
       "       [-1.68358559e-18,  1.83420720e-02,  1.26475543e-01, ...,\n",
       "         2.32084163e-01,  1.67026563e-01,  3.48043832e-02],\n",
       "       ...,\n",
       "       [ 0.00000000e+00,  4.64905892e-16,  7.75864167e-17, ...,\n",
       "         1.04083409e-16, -6.24500451e-17, -1.52655666e-16],\n",
       "       [-0.00000000e+00,  1.66533454e-16,  2.23116834e-16, ...,\n",
       "        -2.77555756e-16,  1.11022302e-16,  1.66533454e-16],\n",
       "       [ 1.00000000e+00, -1.68983002e-17,  5.73338351e-18, ...,\n",
       "         8.66631300e-18, -1.57615962e-17,  4.07058917e-18]])"
      ]
     },
     "execution_count": 8,
     "metadata": {},
     "output_type": "execute_result"
    }
   ],
   "source": [
    "#\n",
    "# Creación de los modelos por fuera de la\n",
    "# tubería e inspección de sus valores\n",
    "#\n",
    "from sklearn.datasets import load_digits\n",
    "\n",
    "X_digits, y_digits = load_digits(return_X_y=True)\n",
    "\n",
    "pca = PCA()\n",
    "clf = SVC()\n",
    "\n",
    "pipeline = Pipeline(\n",
    "    [\n",
    "        (\"reduce_dim\", pca),\n",
    "        (\"clf\", clf),\n",
    "    ],\n",
    ")\n",
    "\n",
    "pipeline.fit(X_digits, y_digits)\n",
    "\n",
    "pca.components_"
   ]
  }
 ],
 "metadata": {
  "kernelspec": {
   "display_name": "Python 3",
   "language": "python",
   "name": "python3"
  },
  "language_info": {
   "codemirror_mode": {
    "name": "ipython",
    "version": 3
   },
   "file_extension": ".py",
   "mimetype": "text/x-python",
   "name": "python",
   "nbconvert_exporter": "python",
   "pygments_lexer": "ipython3",
   "version": "3.6.9"
  }
 },
 "nbformat": 4,
 "nbformat_minor": 5
}
