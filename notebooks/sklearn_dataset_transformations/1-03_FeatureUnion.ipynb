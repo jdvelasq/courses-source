{
 "cells": [
  {
   "cell_type": "markdown",
   "id": "f3abfd44-dbd7-41e8-a540-cf0170d44ebb",
   "metadata": {
    "tags": []
   },
   "source": [
    "Aplicación en paralelo de transformadores usando FeatureUnion --- 5:36 min\n",
    "===\n",
    "\n",
    "* 5:36 min | Última modificación: Octubre 1, 2021 | [YouTube](https://youtu.be/F3J5-uTnhKQ)"
   ]
  },
  {
   "cell_type": "markdown",
   "id": "016d71f0-33a5-4dfb-9b3a-b2c92c2e1c05",
   "metadata": {},
   "source": [
    "* Permite unir una lista de transformadores en un nuevo transformador que combina sus salidas. \n",
    "\n",
    "* Durante el proceso de entrenamiento, cada uno de los transformadores es entrenado independientemente.\n",
    "\n",
    "* Los transformadores son aplicados en paralelo al set de datos, y las salidas son concatenadas lado a lado en una matriz.\n",
    "\n",
    "* La combinación de FeatureUnion y Pipeline permite crear modelos complejos."
   ]
  },
  {
   "cell_type": "markdown",
   "id": "83a6742a-f1e9-46cd-b4c7-dcef7216d92e",
   "metadata": {},
   "source": [
    "https://scikit-learn.org/stable/auto_examples/compose/plot_feature_union.html#sphx-glr-auto-examples-compose-plot-feature-union-py"
   ]
  },
  {
   "cell_type": "code",
   "execution_count": 1,
   "id": "ef87b127-15ad-4cff-b835-5653371f49b6",
   "metadata": {},
   "outputs": [
    {
     "data": {
      "text/plain": [
       "(150, 3)"
      ]
     },
     "execution_count": 1,
     "metadata": {},
     "output_type": "execute_result"
    }
   ],
   "source": [
    "from sklearn.datasets import load_iris\n",
    "from sklearn.decomposition import PCA\n",
    "from sklearn.feature_selection import SelectKBest\n",
    "from sklearn.model_selection import GridSearchCV\n",
    "from sklearn.pipeline import FeatureUnion, Pipeline\n",
    "from sklearn.svm import SVC\n",
    "\n",
    "iris = load_iris()\n",
    "\n",
    "X, y = iris.data, iris.target\n",
    "\n",
    "#\n",
    "# Crea un PCA que extrae unicamente dos (2) componentes\n",
    "#\n",
    "pca = PCA(n_components=2)\n",
    "\n",
    "#\n",
    "# Crea un transformador que selecciona únicamente la mejor característica\n",
    "#\n",
    "selection = SelectKBest(k=1)\n",
    "\n",
    "#\n",
    "# Crea la unión\n",
    "#\n",
    "combined_features = FeatureUnion(\n",
    "    [\n",
    "        (\"pca\", pca),\n",
    "        (\"univ_select\", selection),\n",
    "    ]\n",
    ")\n",
    "\n",
    "#\n",
    "# Crea un nuevo vector de variables independientes que usando FeatureUnion\n",
    "#\n",
    "X_features = combined_features.fit(X, y).transform(X)\n",
    "X_features.shape"
   ]
  },
  {
   "cell_type": "code",
   "execution_count": 2,
   "id": "325b6080-f0ca-4764-a48d-4a86d2bbbc1e",
   "metadata": {},
   "outputs": [
    {
     "data": {
      "text/plain": [
       "{'features__pca__n_components': 3, 'features__univ_select__k': 1, 'svm__C': 10}"
      ]
     },
     "execution_count": 2,
     "metadata": {},
     "output_type": "execute_result"
    }
   ],
   "source": [
    "#\n",
    "# Crea el modelo de regresión\n",
    "#\n",
    "svm = SVC(kernel=\"linear\")\n",
    "\n",
    "#\n",
    "# Crea un pipeline\n",
    "#\n",
    "pipeline = Pipeline(\n",
    "    [\n",
    "        (\"features\", combined_features),\n",
    "        (\"svm\", svm),\n",
    "    ]\n",
    ")\n",
    "\n",
    "#\n",
    "# Búsqueda de la mejor combinación de hiperparámetros usando GridSearchCV\n",
    "#\n",
    "param_grid = dict(\n",
    "    features__pca__n_components=[1, 2, 3],\n",
    "    features__univ_select__k=[1, 2],\n",
    "    svm__C=[0.1, 1, 10],\n",
    ")\n",
    "\n",
    "gridSearchCV = GridSearchCV(\n",
    "    pipeline,\n",
    "    param_grid=param_grid,\n",
    ")\n",
    "\n",
    "gridSearchCV.fit(X, y)\n",
    "\n",
    "gridSearchCV.best_params_"
   ]
  }
 ],
 "metadata": {
  "kernelspec": {
   "display_name": "Python 3",
   "language": "python",
   "name": "python3"
  },
  "language_info": {
   "codemirror_mode": {
    "name": "ipython",
    "version": 3
   },
   "file_extension": ".py",
   "mimetype": "text/x-python",
   "name": "python",
   "nbconvert_exporter": "python",
   "pygments_lexer": "ipython3",
   "version": "3.6.9"
  }
 },
 "nbformat": 4,
 "nbformat_minor": 5
}
