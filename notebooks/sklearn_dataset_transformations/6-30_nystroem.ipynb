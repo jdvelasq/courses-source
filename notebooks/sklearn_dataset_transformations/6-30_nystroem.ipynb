{
 "cells": [
  {
   "cell_type": "markdown",
   "id": "7c4c54a5-f8fd-4c39-849b-5e235fd97071",
   "metadata": {
    "tags": []
   },
   "source": [
    "Nystroem --- 11:19 min\n",
    "===\n",
    "\n",
    "* 11:19 min | Última modificación: Octubre 7, 2021 | [YouTube](https://youtu.be/Ys5B-t5KiGo)"
   ]
  },
  {
   "cell_type": "markdown",
   "id": "646f431d-5bd6-4d17-a4ac-20d62df7927a",
   "metadata": {},
   "source": [
    "Aproxima un kernel map usando un subconjunto de los datos.\n",
    "\n",
    "Construye un mapa aproximado de características para un kernel arbitrario usando un subconjunto de los datos como base."
   ]
  },
  {
   "cell_type": "code",
   "execution_count": 1,
   "id": "555202e8-ef7d-4e3d-809e-02942a85163e",
   "metadata": {},
   "outputs": [
    {
     "data": {
      "text/plain": [
       "0.9987631416202845"
      ]
     },
     "execution_count": 1,
     "metadata": {},
     "output_type": "execute_result"
    }
   ],
   "source": [
    "from sklearn.datasets import load_digits\n",
    "from sklearn.kernel_approximation import Nystroem\n",
    "from sklearn.svm import LinearSVC\n",
    "\n",
    "X, y = load_digits(\n",
    "    n_class=9,\n",
    "    return_X_y=True,\n",
    ")\n",
    "\n",
    "data = X / 16.0\n",
    "\n",
    "linearSVC = LinearSVC()\n",
    "\n",
    "nystroem = Nystroem(\n",
    "    # -------------------------------------------------------------------------\n",
    "    # Kernel map to be approximated.\n",
    "    kernel=\"rbf\",\n",
    "    # -------------------------------------------------------------------------\n",
    "    # Gamma parameter for the RBF, laplacian, polynomial, exponential chi2 and\n",
    "    # sigmoid kernels.\n",
    "    gamma=0.2,\n",
    "    # -------------------------------------------------------------------------\n",
    "    # Zero coefficient for polynomial and sigmoid kernels. Ignored by other\n",
    "    # kernels\n",
    "    coef0=None,\n",
    "    # -------------------------------------------------------------------------\n",
    "    # Degree of the polynomial kernel. Ignored by other kernels.\n",
    "    degree=None,\n",
    "    # -------------------------------------------------------------------------\n",
    "    # Number of features to construct. How many data points will be used to\n",
    "    # construct the mapping.\n",
    "    n_components=300,\n",
    "    # -------------------------------------------------------------------------\n",
    "    # Pseudo-random number generator to control the uniform sampling without\n",
    "    # replacement of n_components of the training data to construct the basis\n",
    "    # kernel.\n",
    "    random_state=1,\n",
    ")\n",
    "\n",
    "\n",
    "data_transformed = nystroem.fit_transform(data)\n",
    "\n",
    "linearSVC.fit(data_transformed, y)\n",
    "\n",
    "linearSVC.score(data_transformed, y)"
   ]
  },
  {
   "cell_type": "code",
   "execution_count": 2,
   "id": "d2867e14-595e-4724-aa3f-5d492637c80b",
   "metadata": {},
   "outputs": [
    {
     "data": {
      "text/plain": [
       "(1617, 64)"
      ]
     },
     "execution_count": 2,
     "metadata": {},
     "output_type": "execute_result"
    }
   ],
   "source": [
    "#\n",
    "# Dimensiones del dataset\n",
    "#\n",
    "data.shape"
   ]
  },
  {
   "cell_type": "code",
   "execution_count": 3,
   "id": "cc40d772-3ac5-4403-b885-f4acb9cee35a",
   "metadata": {},
   "outputs": [
    {
     "data": {
      "text/plain": [
       "(1617, 300)"
      ]
     },
     "execution_count": 3,
     "metadata": {},
     "output_type": "execute_result"
    }
   ],
   "source": [
    "#\n",
    "# Dimensiones del dataset transformado\n",
    "#\n",
    "data_transformed.shape"
   ]
  },
  {
   "cell_type": "code",
   "execution_count": 4,
   "id": "215028a2-1101-4aa3-a1cc-14bcd90930b9",
   "metadata": {},
   "outputs": [
    {
     "data": {
      "text/plain": [
       "array([[0.    , 0.    , 0.5625, ..., 0.    , 0.    , 0.    ],\n",
       "       [0.    , 0.    , 0.4375, ..., 0.3125, 0.    , 0.    ],\n",
       "       [0.    , 0.    , 0.125 , ..., 0.0625, 0.    , 0.    ],\n",
       "       ...,\n",
       "       [0.    , 0.    , 0.6875, ..., 0.    , 0.    , 0.    ],\n",
       "       [0.    , 0.    , 0.75  , ..., 0.5   , 0.    , 0.    ],\n",
       "       [0.    , 0.    , 0.    , ..., 0.4375, 0.    , 0.    ]])"
      ]
     },
     "execution_count": 4,
     "metadata": {},
     "output_type": "execute_result"
    }
   ],
   "source": [
    "#\n",
    "# Subset of training points used to construct the feature map.\n",
    "#\n",
    "nystroem.components_"
   ]
  },
  {
   "cell_type": "code",
   "execution_count": 5,
   "id": "e2567bec-7613-4299-b15a-f1281cba5c70",
   "metadata": {},
   "outputs": [
    {
     "data": {
      "text/plain": [
       "(300, 64)"
      ]
     },
     "execution_count": 5,
     "metadata": {},
     "output_type": "execute_result"
    }
   ],
   "source": [
    "nystroem.components_.shape"
   ]
  },
  {
   "cell_type": "code",
   "execution_count": 6,
   "id": "314c405f-396a-4b00-920e-790246b3cd71",
   "metadata": {},
   "outputs": [
    {
     "data": {
      "text/plain": [
       "array([ 108, 1339,  258, ..., 1096,  235, 1061])"
      ]
     },
     "execution_count": 6,
     "metadata": {},
     "output_type": "execute_result"
    }
   ],
   "source": [
    "#\n",
    "# Indices of components_ in the training set.\n",
    "#\n",
    "nystroem.component_indices_"
   ]
  },
  {
   "cell_type": "code",
   "execution_count": 7,
   "id": "96ddab28-fcbc-470e-8af9-33c2a1073721",
   "metadata": {},
   "outputs": [
    {
     "data": {
      "text/plain": [
       "(1617,)"
      ]
     },
     "execution_count": 7,
     "metadata": {},
     "output_type": "execute_result"
    }
   ],
   "source": [
    "nystroem.component_indices_.shape"
   ]
  },
  {
   "cell_type": "code",
   "execution_count": 8,
   "id": "4ab986b6-8e9d-4b39-bfc2-218a09f15524",
   "metadata": {},
   "outputs": [
    {
     "data": {
      "text/plain": [
       "array([[0.    , 0.    , 0.5625, ..., 0.    , 0.    , 0.    ],\n",
       "       [0.    , 0.    , 0.4375, ..., 0.3125, 0.    , 0.    ],\n",
       "       [0.    , 0.    , 0.125 , ..., 0.0625, 0.    , 0.    ],\n",
       "       ...,\n",
       "       [0.    , 0.    , 0.25  , ..., 0.    , 0.    , 0.    ],\n",
       "       [0.    , 0.    , 0.    , ..., 0.    , 0.    , 0.    ],\n",
       "       [0.    , 0.125 , 0.625 , ..., 0.1875, 0.    , 0.    ]])"
      ]
     },
     "execution_count": 8,
     "metadata": {},
     "output_type": "execute_result"
    }
   ],
   "source": [
    "#\n",
    "# Patrones en el espacio original de los datos\n",
    "#\n",
    "data[nystroem.component_indices_, :]"
   ]
  },
  {
   "cell_type": "code",
   "execution_count": 9,
   "id": "4ca497ed-fe8e-4cb1-b1fc-f3b27d3d5fcb",
   "metadata": {},
   "outputs": [
    {
     "data": {
      "text/plain": [
       "(1617,)"
      ]
     },
     "execution_count": 9,
     "metadata": {},
     "output_type": "execute_result"
    }
   ],
   "source": [
    "nystroem.component_indices_.shape"
   ]
  },
  {
   "cell_type": "code",
   "execution_count": 10,
   "id": "69e9f844-2248-4619-86d1-cff6942fc347",
   "metadata": {},
   "outputs": [
    {
     "data": {
      "text/plain": [
       "array([[ 1.74871777e+00,  8.91967740e-03, -2.67099689e-03, ...,\n",
       "         5.14032084e-03, -2.41497683e-03, -5.72252710e-03],\n",
       "       [ 8.91967740e-03,  2.42597573e+00, -2.37991804e-03, ...,\n",
       "        -4.56829956e-03, -3.13785752e-03,  1.45713393e-03],\n",
       "       [-2.67099689e-03, -2.37991804e-03,  2.03135146e+00, ...,\n",
       "         1.17305163e-02, -8.50655899e-04,  3.69518591e-02],\n",
       "       ...,\n",
       "       [ 5.14032084e-03, -4.56829956e-03,  1.17305163e-02, ...,\n",
       "         1.78886081e+00,  1.08028490e-02, -2.16321887e-03],\n",
       "       [-2.41497683e-03, -3.13785752e-03, -8.50655899e-04, ...,\n",
       "         1.08028490e-02,  1.71934129e+00, -9.94733358e-03],\n",
       "       [-5.72252710e-03,  1.45713393e-03,  3.69518591e-02, ...,\n",
       "        -2.16321887e-03, -9.94733358e-03,  2.49165989e+00]])"
      ]
     },
     "execution_count": 10,
     "metadata": {},
     "output_type": "execute_result"
    }
   ],
   "source": [
    "#\n",
    "# Normalization matrix needed for embedding.\n",
    "#\n",
    "nystroem.normalization_"
   ]
  },
  {
   "cell_type": "code",
   "execution_count": 11,
   "id": "9cdc977d-0fac-4a0b-87b1-6c70dcc3c4e7",
   "metadata": {},
   "outputs": [
    {
     "data": {
      "text/plain": [
       "(300, 300)"
      ]
     },
     "execution_count": 11,
     "metadata": {},
     "output_type": "execute_result"
    }
   ],
   "source": [
    "nystroem.normalization_.shape"
   ]
  }
 ],
 "metadata": {
  "kernelspec": {
   "display_name": "Python 3",
   "language": "python",
   "name": "python3"
  },
  "language_info": {
   "codemirror_mode": {
    "name": "ipython",
    "version": 3
   },
   "file_extension": ".py",
   "mimetype": "text/x-python",
   "name": "python",
   "nbconvert_exporter": "python",
   "pygments_lexer": "ipython3",
   "version": "3.6.9"
  }
 },
 "nbformat": 4,
 "nbformat_minor": 5
}
