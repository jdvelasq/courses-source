{
 "cells": [
  {
   "cell_type": "markdown",
   "id": "7681664c-b58c-477f-b29f-52ea8916a672",
   "metadata": {
    "tags": []
   },
   "source": [
    "Binarizer --- 1:42 min\n",
    "===\n",
    "\n",
    "* 1:42 min | Última modificación: Octubre 7, 2021 | [YouTube](https://youtu.be/ITZvkGLn1dU)"
   ]
  },
  {
   "cell_type": "code",
   "execution_count": 2,
   "id": "eaa5d43a-4655-4005-bcec-7b21f8d11006",
   "metadata": {},
   "outputs": [
    {
     "data": {
      "text/plain": [
       "[[1.0, -1.0, 2.0], [2.0, 0.0, 0.0], [0.0, 1.0, -1.0]]"
      ]
     },
     "execution_count": 2,
     "metadata": {},
     "output_type": "execute_result"
    }
   ],
   "source": [
    "X = [\n",
    "    [1.0, -1.0, 2.0],\n",
    "    [2.0, 0.0, 0.0],\n",
    "    [0.0, 1.0, -1.0],\n",
    "]\n",
    "X"
   ]
  },
  {
   "cell_type": "code",
   "execution_count": 3,
   "id": "9d3be566-6bb4-4323-8abe-9510ec1ee1e8",
   "metadata": {},
   "outputs": [
    {
     "data": {
      "text/plain": [
       "array([[1., 0., 1.],\n",
       "       [1., 0., 0.],\n",
       "       [0., 1., 0.]])"
      ]
     },
     "execution_count": 3,
     "metadata": {},
     "output_type": "execute_result"
    }
   ],
   "source": [
    "from sklearn.preprocessing import Binarizer\n",
    "\n",
    "binarizer = Binarizer(\n",
    "    # -------------------------------------------------------------------------\n",
    "    # Feature values below or equal to this are replaced by 0, above it by 1.\n",
    "    threshold=0.5,\n",
    ")\n",
    "\n",
    "binarizer.fit(X)\n",
    "\n",
    "binarizer.transform(X)"
   ]
  }
 ],
 "metadata": {
  "kernelspec": {
   "display_name": "Python 3",
   "language": "python",
   "name": "python3"
  },
  "language_info": {
   "codemirror_mode": {
    "name": "ipython",
    "version": 3
   },
   "file_extension": ".py",
   "mimetype": "text/x-python",
   "name": "python",
   "nbconvert_exporter": "python",
   "pygments_lexer": "ipython3",
   "version": "3.6.9"
  }
 },
 "nbformat": 4,
 "nbformat_minor": 5
}
