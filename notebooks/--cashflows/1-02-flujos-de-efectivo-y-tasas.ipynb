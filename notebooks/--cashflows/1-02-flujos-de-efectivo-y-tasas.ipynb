{
 "cells": [
  {
   "cell_type": "markdown",
   "source": [
    "Representación de flujos de efectivo y tasas de interés\n",
    "===\n",
    "\n",
    "* 60:00 min | Última modificación: Juno 22, 2019 | YouTube"
   ],
   "metadata": {
    "slideshow": {
     "slide_type": "slide"
    }
   }
  },
  {
   "cell_type": "markdown",
   "source": [
    "**Preparación**  "
   ],
   "metadata": {
    "slideshow": {
     "slide_type": "slide"
    }
   }
  },
  {
   "cell_type": "code",
   "execution_count": 1,
   "source": [
    "# Importa la librería financiera.\n",
    "# Solo es necesario ejecutar la importación una sola vez.\n",
    "import numpy as np\n",
    "import pandas as pd\n",
    "import matplotlib.pyplot as plt\n",
    "import cashflows as cf"
   ],
   "outputs": [],
   "metadata": {
    "collapsed": true
   }
  },
  {
   "cell_type": "markdown",
   "source": [
    "### Función `interest_rate` \n",
    "\n",
    "`interest_rate(const_value=0, start=None, end=None, \n",
    "   periods=None, freq='A', chgpts=None)`\n",
    "\n",
    "Crea una serie de tiempo que representa una tasa de interés.\n",
    "\n",
    "* `const_value` -- valor por defecto de la tasa de interés.\n",
    "* `start`-- período de tiempo inicial.\n",
    "* `end` -- período de tiempo final.\n",
    "* `periods`-- número de períodos (longitud de la serie).\n",
    "* `chgpts` -- especificación de cambios en la tasa de interés."
   ],
   "metadata": {
    "slideshow": {
     "slide_type": "slide"
    }
   }
  },
  {
   "cell_type": "code",
   "execution_count": 2,
   "source": [
    "cf.interest_rate(const_value=10,    # tasa de interés\n",
    "                 start='2000Q1',    # primer trimestre del año 2000\n",
    "                 periods=8,         # 8 trimestres\n",
    "                 freq='Q')          # 4 períodos por año"
   ],
   "outputs": [
    {
     "output_type": "execute_result",
     "data": {
      "text/plain": [
       "2000Q1    10.0\n",
       "2000Q2    10.0\n",
       "2000Q3    10.0\n",
       "2000Q4    10.0\n",
       "2001Q1    10.0\n",
       "2001Q2    10.0\n",
       "2001Q3    10.0\n",
       "2001Q4    10.0\n",
       "Freq: Q-DEC, dtype: float64"
      ]
     },
     "metadata": {},
     "execution_count": 2
    }
   ],
   "metadata": {
    "slideshow": {
     "slide_type": "slide"
    }
   }
  },
  {
   "cell_type": "code",
   "execution_count": 3,
   "source": [
    "cf.interest_rate(const_value=10,    # valor por defecto\n",
    "                 start='2000Q1',    # primer bimestre del año 2000 \n",
    "                 periods=8,         # 8 bimestres\n",
    "                 freq='Q')          # 6 bimestres por año "
   ],
   "outputs": [
    {
     "output_type": "execute_result",
     "data": {
      "text/plain": [
       "2000Q1    10.0\n",
       "2000Q2    10.0\n",
       "2000Q3    10.0\n",
       "2000Q4    10.0\n",
       "2001Q1    10.0\n",
       "2001Q2    10.0\n",
       "2001Q3    10.0\n",
       "2001Q4    10.0\n",
       "Freq: Q-DEC, dtype: float64"
      ]
     },
     "metadata": {},
     "execution_count": 3
    }
   ],
   "metadata": {
    "slideshow": {
     "slide_type": "slide"
    }
   }
  },
  {
   "cell_type": "code",
   "execution_count": 4,
   "source": [
    "cf.interest_rate(const_value=1,        # valor por defecto  \n",
    "                 start='2000Q1',      # primer trimestre del año 2000\n",
    "                 periods=8,               # ocho trimestres de longitud\n",
    "                 freq='Q',                # capitalización trimestral\n",
    "                 chgpts={'2000Q3':10}) # cambia en el 4to trimestre a 10"
   ],
   "outputs": [
    {
     "output_type": "execute_result",
     "data": {
      "text/plain": [
       "2000Q1     1.0\n",
       "2000Q2     1.0\n",
       "2000Q3    10.0\n",
       "2000Q4    10.0\n",
       "2001Q1    10.0\n",
       "2001Q2    10.0\n",
       "2001Q3    10.0\n",
       "2001Q4    10.0\n",
       "Freq: Q-DEC, dtype: float64"
      ]
     },
     "metadata": {},
     "execution_count": 4
    }
   ],
   "metadata": {
    "slideshow": {
     "slide_type": "slide"
    }
   }
  },
  {
   "cell_type": "code",
   "execution_count": 5,
   "source": [
    "cf.interest_rate(const_value=1,          # valor por defecto  \n",
    "                 start='2000Q1',         # primer trimestre del año 2000\n",
    "                 periods=8,              # ocho trimestres de longitud\n",
    "                 freq='Q',               # capitalización trimestral\n",
    "                 chgpts={3:10,           # cambia en el 3r trimestre a 10 \n",
    "                         6:20})          # y en el 7to a 20                                          "
   ],
   "outputs": [
    {
     "output_type": "execute_result",
     "data": {
      "text/plain": [
       "2000Q1     1.0\n",
       "2000Q2     1.0\n",
       "2000Q3     1.0\n",
       "2000Q4    10.0\n",
       "2001Q1    10.0\n",
       "2001Q2    10.0\n",
       "2001Q3    20.0\n",
       "2001Q4    20.0\n",
       "Freq: Q-DEC, dtype: float64"
      ]
     },
     "metadata": {},
     "execution_count": 5
    }
   ],
   "metadata": {
    "slideshow": {
     "slide_type": "slide"
    }
   }
  },
  {
   "cell_type": "code",
   "execution_count": 6,
   "source": [
    "cf.interest_rate(const_value=1,          # valor por defecto  \n",
    "                 start='2000Q1',         # primer trimestre del año 2000\n",
    "                 periods=8,              # ocho trimestres de longitud\n",
    "                 freq='Q',               # capitalización trimestral\n",
    "                 chgpts={'2000Q4':10,           # cambia en el 3r trimestre a 10 \n",
    "                         '2001Q3':20})          # y en el 7to a 20                                          "
   ],
   "outputs": [
    {
     "output_type": "execute_result",
     "data": {
      "text/plain": [
       "2000Q1     1.0\n",
       "2000Q2     1.0\n",
       "2000Q3     1.0\n",
       "2000Q4    10.0\n",
       "2001Q1    10.0\n",
       "2001Q2    10.0\n",
       "2001Q3    20.0\n",
       "2001Q4    20.0\n",
       "Freq: Q-DEC, dtype: float64"
      ]
     },
     "metadata": {},
     "execution_count": 6
    }
   ],
   "metadata": {
    "slideshow": {
     "slide_type": "fragment"
    }
   }
  },
  {
   "cell_type": "code",
   "execution_count": 7,
   "source": [
    "cf.interest_rate(const_value=[10, 20]*10, # especificación como un vector \n",
    "                 start='2000Q1',\n",
    "                 freq='Q')                   # capitalización trimestral"
   ],
   "outputs": [
    {
     "output_type": "execute_result",
     "data": {
      "text/plain": [
       "2000Q1    10.0\n",
       "2000Q2    20.0\n",
       "2000Q3    10.0\n",
       "2000Q4    20.0\n",
       "2001Q1    10.0\n",
       "2001Q2    20.0\n",
       "2001Q3    10.0\n",
       "2001Q4    20.0\n",
       "2002Q1    10.0\n",
       "2002Q2    20.0\n",
       "2002Q3    10.0\n",
       "2002Q4    20.0\n",
       "2003Q1    10.0\n",
       "2003Q2    20.0\n",
       "2003Q3    10.0\n",
       "2003Q4    20.0\n",
       "2004Q1    10.0\n",
       "2004Q2    20.0\n",
       "2004Q3    10.0\n",
       "2004Q4    20.0\n",
       "Freq: Q-DEC, dtype: float64"
      ]
     },
     "metadata": {},
     "execution_count": 7
    }
   ],
   "metadata": {
    "slideshow": {
     "slide_type": "slide"
    }
   }
  },
  {
   "cell_type": "markdown",
   "source": [
    "***Ejemplo.--*** Se va a tomar un crédito a 48 meses a partir de enero del 2000. La tasa inicial es del 3% y aumenta un punto cada año. Represente la tasa de interés."
   ],
   "metadata": {
    "slideshow": {
     "slide_type": "slide"
    }
   }
  },
  {
   "cell_type": "code",
   "execution_count": 8,
   "source": [
    "cf.interest_rate(const_value=3,        # valor por defecto\n",
    "                 start='2000-01',      # primer mes del año 2000\n",
    "                 periods=48,           # longitud de la serie\n",
    "                 freq='M',             # capitalización mensual\n",
    "                 chgpts={'2001-01':4,  # tasa para el año 2\n",
    "                         '2002-01':5,  # tasa para el año 3\n",
    "                         '2003-01':6}) # tasa para el año 4 "
   ],
   "outputs": [
    {
     "output_type": "execute_result",
     "data": {
      "text/plain": [
       "2000-01    3.0\n",
       "2000-02    3.0\n",
       "2000-03    3.0\n",
       "2000-04    3.0\n",
       "2000-05    3.0\n",
       "2000-06    3.0\n",
       "2000-07    3.0\n",
       "2000-08    3.0\n",
       "2000-09    3.0\n",
       "2000-10    3.0\n",
       "2000-11    3.0\n",
       "2000-12    3.0\n",
       "2001-01    4.0\n",
       "2001-02    4.0\n",
       "2001-03    4.0\n",
       "2001-04    4.0\n",
       "2001-05    4.0\n",
       "2001-06    4.0\n",
       "2001-07    4.0\n",
       "2001-08    4.0\n",
       "2001-09    4.0\n",
       "2001-10    4.0\n",
       "2001-11    4.0\n",
       "2001-12    4.0\n",
       "2002-01    5.0\n",
       "2002-02    5.0\n",
       "2002-03    5.0\n",
       "2002-04    5.0\n",
       "2002-05    5.0\n",
       "2002-06    5.0\n",
       "2002-07    5.0\n",
       "2002-08    5.0\n",
       "2002-09    5.0\n",
       "2002-10    5.0\n",
       "2002-11    5.0\n",
       "2002-12    5.0\n",
       "2003-01    6.0\n",
       "2003-02    6.0\n",
       "2003-03    6.0\n",
       "2003-04    6.0\n",
       "2003-05    6.0\n",
       "2003-06    6.0\n",
       "2003-07    6.0\n",
       "2003-08    6.0\n",
       "2003-09    6.0\n",
       "2003-10    6.0\n",
       "2003-11    6.0\n",
       "2003-12    6.0\n",
       "Freq: M, dtype: float64"
      ]
     },
     "metadata": {},
     "execution_count": 8
    }
   ],
   "metadata": {
    "slideshow": {
     "slide_type": "fragment"
    }
   }
  },
  {
   "cell_type": "code",
   "execution_count": 9,
   "source": [
    "x = cf.interest_rate(const_value=3,     # valor por defecto\n",
    "                     start='2000-1',    # primer mes del año 2000\n",
    "                     periods=48,        # longitud de la serie\n",
    "                     freq='M',          # capitalización mensual\n",
    "                     chgpts={12:4,      # tasa para el año 2\n",
    "                             24:5,      # tasa para el año 3\n",
    "                             36:6})     # tasa para el año 4\n",
    "\n",
    "# se cambia el valor de la serie en este punto\n",
    "x[5] = 10                          \n",
    "x"
   ],
   "outputs": [
    {
     "output_type": "execute_result",
     "data": {
      "text/plain": [
       "2000-01     3.0\n",
       "2000-02     3.0\n",
       "2000-03     3.0\n",
       "2000-04     3.0\n",
       "2000-05     3.0\n",
       "2000-06    10.0\n",
       "2000-07     3.0\n",
       "2000-08     3.0\n",
       "2000-09     3.0\n",
       "2000-10     3.0\n",
       "2000-11     3.0\n",
       "2000-12     3.0\n",
       "2001-01     4.0\n",
       "2001-02     4.0\n",
       "2001-03     4.0\n",
       "2001-04     4.0\n",
       "2001-05     4.0\n",
       "2001-06     4.0\n",
       "2001-07     4.0\n",
       "2001-08     4.0\n",
       "2001-09     4.0\n",
       "2001-10     4.0\n",
       "2001-11     4.0\n",
       "2001-12     4.0\n",
       "2002-01     5.0\n",
       "2002-02     5.0\n",
       "2002-03     5.0\n",
       "2002-04     5.0\n",
       "2002-05     5.0\n",
       "2002-06     5.0\n",
       "2002-07     5.0\n",
       "2002-08     5.0\n",
       "2002-09     5.0\n",
       "2002-10     5.0\n",
       "2002-11     5.0\n",
       "2002-12     5.0\n",
       "2003-01     6.0\n",
       "2003-02     6.0\n",
       "2003-03     6.0\n",
       "2003-04     6.0\n",
       "2003-05     6.0\n",
       "2003-06     6.0\n",
       "2003-07     6.0\n",
       "2003-08     6.0\n",
       "2003-09     6.0\n",
       "2003-10     6.0\n",
       "2003-11     6.0\n",
       "2003-12     6.0\n",
       "Freq: M, dtype: float64"
      ]
     },
     "metadata": {},
     "execution_count": 9
    }
   ],
   "metadata": {
    "scrolled": false,
    "slideshow": {
     "slide_type": "slide"
    }
   }
  },
  {
   "cell_type": "markdown",
   "source": [
    "`cashflow(const_value=0, start=None, end=None, \n",
    "  periods=None, freq='A')`\n",
    "\n",
    "Crea una serie de tiempo que representa un flujo genérico de efectivo.\n",
    "\n",
    "* `const_value` -- valor por defecto.\n",
    "* `start`-- período de tiempo inicial.\n",
    "* `end` -- período de tiempo final.\n",
    "* `periods`-- número de períodos (longitud de la serie).\n",
    "* `freq`-- número de períodos de capitalización por año.\n"
   ],
   "metadata": {
    "slideshow": {
     "slide_type": "slide"
    }
   }
  },
  {
   "cell_type": "code",
   "execution_count": 10,
   "source": [
    "cf.cashflow(const_value=1,   # valor constante\n",
    "            start='2000Q1',  # fecha inicial\n",
    "            periods=8,       # número total de períodos\n",
    "            freq='Q')        # número de períodos por año"
   ],
   "outputs": [
    {
     "output_type": "execute_result",
     "data": {
      "text/plain": [
       "2000Q1    1.0\n",
       "2000Q2    1.0\n",
       "2000Q3    1.0\n",
       "2000Q4    1.0\n",
       "2001Q1    1.0\n",
       "2001Q2    1.0\n",
       "2001Q3    1.0\n",
       "2001Q4    1.0\n",
       "Freq: Q-DEC, dtype: float64"
      ]
     },
     "metadata": {},
     "execution_count": 10
    }
   ],
   "metadata": {
    "slideshow": {
     "slide_type": "slide"
    }
   }
  },
  {
   "cell_type": "code",
   "execution_count": 11,
   "source": [
    "## es posible alterar y acceder a valores individuales \n",
    "## para cada período de tiempo usando []\n",
    "x = cf.cashflow(const_value=[0, 1, 2, 3], start='2000Q1', freq='Q')  \n",
    "x[3] = 10                                         \n",
    "x  "
   ],
   "outputs": [
    {
     "output_type": "execute_result",
     "data": {
      "text/plain": [
       "2000Q1     0.0\n",
       "2000Q2     1.0\n",
       "2000Q3     2.0\n",
       "2000Q4    10.0\n",
       "Freq: Q-DEC, dtype: float64"
      ]
     },
     "metadata": {},
     "execution_count": 11
    }
   ],
   "metadata": {
    "slideshow": {
     "slide_type": "slide"
    }
   }
  },
  {
   "cell_type": "code",
   "execution_count": 12,
   "source": [
    "x[3]"
   ],
   "outputs": [
    {
     "output_type": "execute_result",
     "data": {
      "text/plain": [
       "10.0"
      ]
     },
     "metadata": {},
     "execution_count": 12
    }
   ],
   "metadata": {
    "slideshow": {
     "slide_type": "fragment"
    }
   }
  },
  {
   "cell_type": "code",
   "execution_count": 13,
   "source": [
    "x['2000Q4'] = 0\n",
    "x"
   ],
   "outputs": [
    {
     "output_type": "execute_result",
     "data": {
      "text/plain": [
       "2000Q1    0.0\n",
       "2000Q2    1.0\n",
       "2000Q3    2.0\n",
       "2000Q4    0.0\n",
       "Freq: Q-DEC, dtype: float64"
      ]
     },
     "metadata": {},
     "execution_count": 13
    }
   ],
   "metadata": {
    "slideshow": {
     "slide_type": "fragment"
    }
   }
  },
  {
   "cell_type": "code",
   "execution_count": 14,
   "source": [
    "x['2000Q4']  "
   ],
   "outputs": [
    {
     "output_type": "execute_result",
     "data": {
      "text/plain": [
       "0.0"
      ]
     },
     "metadata": {},
     "execution_count": 14
    }
   ],
   "metadata": {
    "slideshow": {
     "slide_type": "fragment"
    }
   }
  },
  {
   "cell_type": "code",
   "execution_count": 15,
   "source": [
    "## función valor absoluto\n",
    "abs(cf.cashflow(const_value=[-10]*4,  \n",
    "                start='2000Q1', \n",
    "                freq='Q')) "
   ],
   "outputs": [
    {
     "output_type": "execute_result",
     "data": {
      "text/plain": [
       "2000Q1    10.0\n",
       "2000Q2    10.0\n",
       "2000Q3    10.0\n",
       "2000Q4    10.0\n",
       "Freq: Q-DEC, dtype: float64"
      ]
     },
     "metadata": {},
     "execution_count": 15
    }
   ],
   "metadata": {
    "slideshow": {
     "slide_type": "slide"
    }
   }
  },
  {
   "cell_type": "markdown",
   "source": [
    "**Operaciones entre flujos genéricos de efectivo**"
   ],
   "metadata": {
    "slideshow": {
     "slide_type": "slide"
    }
   }
  },
  {
   "cell_type": "code",
   "execution_count": 16,
   "source": [
    "x = cf.cashflow(const_value=[1]*4, start='2000Q1', freq='Q')\n",
    "y = cf.cashflow(const_value=[2]*4, start='2000Q1', freq='Q')"
   ],
   "outputs": [],
   "metadata": {
    "collapsed": true
   }
  },
  {
   "cell_type": "code",
   "execution_count": 17,
   "source": [
    "x + y"
   ],
   "outputs": [
    {
     "output_type": "execute_result",
     "data": {
      "text/plain": [
       "2000Q1    3.0\n",
       "2000Q2    3.0\n",
       "2000Q3    3.0\n",
       "2000Q4    3.0\n",
       "Freq: Q-DEC, dtype: float64"
      ]
     },
     "metadata": {},
     "execution_count": 17
    }
   ],
   "metadata": {
    "slideshow": {
     "slide_type": "fragment"
    }
   }
  },
  {
   "cell_type": "code",
   "execution_count": 18,
   "source": [
    "x * y"
   ],
   "outputs": [
    {
     "output_type": "execute_result",
     "data": {
      "text/plain": [
       "2000Q1    2.0\n",
       "2000Q2    2.0\n",
       "2000Q3    2.0\n",
       "2000Q4    2.0\n",
       "Freq: Q-DEC, dtype: float64"
      ]
     },
     "metadata": {},
     "execution_count": 18
    }
   ],
   "metadata": {
    "scrolled": true,
    "slideshow": {
     "slide_type": "fragment"
    }
   }
  },
  {
   "cell_type": "code",
   "execution_count": 19,
   "source": [
    "x - y"
   ],
   "outputs": [
    {
     "output_type": "execute_result",
     "data": {
      "text/plain": [
       "2000Q1   -1.0\n",
       "2000Q2   -1.0\n",
       "2000Q3   -1.0\n",
       "2000Q4   -1.0\n",
       "Freq: Q-DEC, dtype: float64"
      ]
     },
     "metadata": {},
     "execution_count": 19
    }
   ],
   "metadata": {
    "slideshow": {
     "slide_type": "fragment"
    }
   }
  },
  {
   "cell_type": "code",
   "execution_count": 20,
   "source": [
    "x // y"
   ],
   "outputs": [
    {
     "output_type": "execute_result",
     "data": {
      "text/plain": [
       "2000Q1    0.0\n",
       "2000Q2    0.0\n",
       "2000Q3    0.0\n",
       "2000Q4    0.0\n",
       "Freq: Q-DEC, dtype: float64"
      ]
     },
     "metadata": {},
     "execution_count": 20
    }
   ],
   "metadata": {
    "scrolled": true,
    "slideshow": {
     "slide_type": "fragment"
    }
   }
  },
  {
   "cell_type": "code",
   "execution_count": 21,
   "source": [
    "x.cumsum()"
   ],
   "outputs": [
    {
     "output_type": "execute_result",
     "data": {
      "text/plain": [
       "2000Q1    1.0\n",
       "2000Q2    2.0\n",
       "2000Q3    3.0\n",
       "2000Q4    4.0\n",
       "Freq: Q-DEC, dtype: float64"
      ]
     },
     "metadata": {},
     "execution_count": 21
    }
   ],
   "metadata": {
    "slideshow": {
     "slide_type": "fragment"
    }
   }
  },
  {
   "cell_type": "markdown",
   "source": [
    "**Asignación**"
   ],
   "metadata": {
    "slideshow": {
     "slide_type": "slide"
    }
   }
  },
  {
   "cell_type": "code",
   "execution_count": 22,
   "source": [
    "x = cf.cashflow( const_value=[2]*4, start='2000Q1', freq='Q')\n",
    "x += cf.cashflow( const_value=[3]*4, start='2000Q1', freq='Q')\n",
    "x "
   ],
   "outputs": [
    {
     "output_type": "execute_result",
     "data": {
      "text/plain": [
       "2000Q1    5.0\n",
       "2000Q2    5.0\n",
       "2000Q3    5.0\n",
       "2000Q4    5.0\n",
       "Freq: Q-DEC, dtype: float64"
      ]
     },
     "metadata": {},
     "execution_count": 22
    }
   ],
   "metadata": {
    "slideshow": {
     "slide_type": "-"
    }
   }
  },
  {
   "cell_type": "code",
   "execution_count": 23,
   "source": [
    "x = cf.cashflow( const_value=[6]*4, start='2000Q1', freq='Q')\n",
    "x //= cf.cashflow( const_value=[4]*4, start='2000Q1',freq='Q')\n",
    "x"
   ],
   "outputs": [
    {
     "output_type": "execute_result",
     "data": {
      "text/plain": [
       "2000Q1    1.0\n",
       "2000Q2    1.0\n",
       "2000Q3    1.0\n",
       "2000Q4    1.0\n",
       "Freq: Q-DEC, dtype: float64"
      ]
     },
     "metadata": {},
     "execution_count": 23
    }
   ],
   "metadata": {
    "slideshow": {
     "slide_type": "fragment"
    }
   }
  },
  {
   "cell_type": "code",
   "execution_count": 24,
   "source": [
    "x = cf.cashflow( const_value=[2]*4, start='2000Q1', freq='Q')\n",
    "x *= cf.cashflow( const_value=[3]*4, start='2000Q1', freq='Q')\n",
    "x "
   ],
   "outputs": [
    {
     "output_type": "execute_result",
     "data": {
      "text/plain": [
       "2000Q1    6.0\n",
       "2000Q2    6.0\n",
       "2000Q3    6.0\n",
       "2000Q4    6.0\n",
       "Freq: Q-DEC, dtype: float64"
      ]
     },
     "metadata": {},
     "execution_count": 24
    }
   ],
   "metadata": {
    "slideshow": {
     "slide_type": "fragment"
    }
   }
  },
  {
   "cell_type": "code",
   "execution_count": 25,
   "source": [
    "x = cf.cashflow( const_value=[6]*4, start='2000Q1', freq='Q')\n",
    "x -= cf.cashflow( const_value=[4]*4, start='2000Q1', freq='Q')\n",
    "x"
   ],
   "outputs": [
    {
     "output_type": "execute_result",
     "data": {
      "text/plain": [
       "2000Q1    2.0\n",
       "2000Q2    2.0\n",
       "2000Q3    2.0\n",
       "2000Q4    2.0\n",
       "Freq: Q-DEC, dtype: float64"
      ]
     },
     "metadata": {},
     "execution_count": 25
    }
   ],
   "metadata": {
    "slideshow": {
     "slide_type": "fragment"
    }
   }
  },
  {
   "cell_type": "code",
   "execution_count": 26,
   "source": [
    "## suma de dos series con diferente longitud\n",
    "x = cf.cashflow([100]*12, start='2000Q1', freq='Q')\n",
    "y = cf.cashflow([100]*12, start='2001Q1', freq='Q')\n",
    "x + y"
   ],
   "outputs": [
    {
     "output_type": "execute_result",
     "data": {
      "text/plain": [
       "2000Q1      NaN\n",
       "2000Q2      NaN\n",
       "2000Q3      NaN\n",
       "2000Q4      NaN\n",
       "2001Q1    200.0\n",
       "2001Q2    200.0\n",
       "2001Q3    200.0\n",
       "2001Q4    200.0\n",
       "2002Q1    200.0\n",
       "2002Q2    200.0\n",
       "2002Q3    200.0\n",
       "2002Q4    200.0\n",
       "2003Q1      NaN\n",
       "2003Q2      NaN\n",
       "2003Q3      NaN\n",
       "2003Q4      NaN\n",
       "Freq: Q-DEC, dtype: float64"
      ]
     },
     "metadata": {},
     "execution_count": 26
    }
   ],
   "metadata": {
    "scrolled": true,
    "slideshow": {
     "slide_type": "slide"
    }
   }
  },
  {
   "cell_type": "code",
   "execution_count": 27,
   "source": [
    "z = cf.cashflow([0]*24, start='1999Q1', freq='Q')\n",
    "z"
   ],
   "outputs": [
    {
     "output_type": "execute_result",
     "data": {
      "text/plain": [
       "1999Q1    0.0\n",
       "1999Q2    0.0\n",
       "1999Q3    0.0\n",
       "1999Q4    0.0\n",
       "2000Q1    0.0\n",
       "2000Q2    0.0\n",
       "2000Q3    0.0\n",
       "2000Q4    0.0\n",
       "2001Q1    0.0\n",
       "2001Q2    0.0\n",
       "2001Q3    0.0\n",
       "2001Q4    0.0\n",
       "2002Q1    0.0\n",
       "2002Q2    0.0\n",
       "2002Q3    0.0\n",
       "2002Q4    0.0\n",
       "2003Q1    0.0\n",
       "2003Q2    0.0\n",
       "2003Q3    0.0\n",
       "2003Q4    0.0\n",
       "2004Q1    0.0\n",
       "2004Q2    0.0\n",
       "2004Q3    0.0\n",
       "2004Q4    0.0\n",
       "Freq: Q-DEC, dtype: float64"
      ]
     },
     "metadata": {},
     "execution_count": 27
    }
   ],
   "metadata": {
    "scrolled": false
   }
  },
  {
   "cell_type": "code",
   "execution_count": 28,
   "source": [
    "z[x.index] += x\n",
    "z"
   ],
   "outputs": [
    {
     "output_type": "execute_result",
     "data": {
      "text/plain": [
       "1999Q1      0.0\n",
       "1999Q2      0.0\n",
       "1999Q3      0.0\n",
       "1999Q4      0.0\n",
       "2000Q1    100.0\n",
       "2000Q2    100.0\n",
       "2000Q3    100.0\n",
       "2000Q4    100.0\n",
       "2001Q1    100.0\n",
       "2001Q2    100.0\n",
       "2001Q3    100.0\n",
       "2001Q4    100.0\n",
       "2002Q1    100.0\n",
       "2002Q2    100.0\n",
       "2002Q3    100.0\n",
       "2002Q4    100.0\n",
       "2003Q1      0.0\n",
       "2003Q2      0.0\n",
       "2003Q3      0.0\n",
       "2003Q4      0.0\n",
       "2004Q1      0.0\n",
       "2004Q2      0.0\n",
       "2004Q3      0.0\n",
       "2004Q4      0.0\n",
       "Freq: Q-DEC, dtype: float64"
      ]
     },
     "metadata": {},
     "execution_count": 28
    }
   ],
   "metadata": {}
  },
  {
   "cell_type": "code",
   "execution_count": 29,
   "source": [
    "z[y.index] += y\n",
    "z"
   ],
   "outputs": [
    {
     "output_type": "execute_result",
     "data": {
      "text/plain": [
       "1999Q1      0.0\n",
       "1999Q2      0.0\n",
       "1999Q3      0.0\n",
       "1999Q4      0.0\n",
       "2000Q1    100.0\n",
       "2000Q2    100.0\n",
       "2000Q3    100.0\n",
       "2000Q4    100.0\n",
       "2001Q1    200.0\n",
       "2001Q2    200.0\n",
       "2001Q3    200.0\n",
       "2001Q4    200.0\n",
       "2002Q1    200.0\n",
       "2002Q2    200.0\n",
       "2002Q3    200.0\n",
       "2002Q4    200.0\n",
       "2003Q1    100.0\n",
       "2003Q2    100.0\n",
       "2003Q3    100.0\n",
       "2003Q4    100.0\n",
       "2004Q1      0.0\n",
       "2004Q2      0.0\n",
       "2004Q3      0.0\n",
       "2004Q4      0.0\n",
       "Freq: Q-DEC, dtype: float64"
      ]
     },
     "metadata": {},
     "execution_count": 29
    }
   ],
   "metadata": {}
  },
  {
   "cell_type": "code",
   "execution_count": 30,
   "source": [
    "## convierte el flujo a una lista\n",
    "cf.cashflow(const_value=[6]*4, start='2000Q1', freq='Q').tolist() "
   ],
   "outputs": [
    {
     "output_type": "execute_result",
     "data": {
      "text/plain": [
       "[6.0, 6.0, 6.0, 6.0]"
      ]
     },
     "metadata": {},
     "execution_count": 30
    }
   ],
   "metadata": {
    "slideshow": {
     "slide_type": "slide"
    }
   }
  },
  {
   "cell_type": "markdown",
   "source": [
    "En algunos casos es necesario introducir patrones de flujo más complejos. "
   ],
   "metadata": {
    "slideshow": {
     "slide_type": "slide"
    }
   }
  },
  {
   "cell_type": "code",
   "execution_count": 31,
   "source": [
    "cf.cashflow(const_value=[0, 1, 2, 2, 4, 5, 6, 7, 8],  start='2000Q1', freq='Q')"
   ],
   "outputs": [
    {
     "output_type": "execute_result",
     "data": {
      "text/plain": [
       "2000Q1    0.0\n",
       "2000Q2    1.0\n",
       "2000Q3    2.0\n",
       "2000Q4    2.0\n",
       "2001Q1    4.0\n",
       "2001Q2    5.0\n",
       "2001Q3    6.0\n",
       "2001Q4    7.0\n",
       "2002Q1    8.0\n",
       "Freq: Q-DEC, dtype: float64"
      ]
     },
     "metadata": {},
     "execution_count": 31
    }
   ],
   "metadata": {}
  },
  {
   "cell_type": "code",
   "execution_count": 32,
   "source": [
    "cflo = cf.cashflow(const_value=0, \n",
    "                start='2000',\n",
    "                periods=15, \n",
    "                freq='A')\n",
    "\n",
    "cflo[5:10] = 100\n",
    "cflo"
   ],
   "outputs": [
    {
     "output_type": "execute_result",
     "data": {
      "text/plain": [
       "2000      0.0\n",
       "2001      0.0\n",
       "2002      0.0\n",
       "2003      0.0\n",
       "2004      0.0\n",
       "2005    100.0\n",
       "2006    100.0\n",
       "2007    100.0\n",
       "2008    100.0\n",
       "2009    100.0\n",
       "2010      0.0\n",
       "2011      0.0\n",
       "2012      0.0\n",
       "2013      0.0\n",
       "2014      0.0\n",
       "Freq: A-DEC, dtype: float64"
      ]
     },
     "metadata": {},
     "execution_count": 32
    }
   ],
   "metadata": {
    "slideshow": {
     "slide_type": "slide"
    }
   }
  },
  {
   "cell_type": "code",
   "execution_count": 33,
   "source": [
    "cflo = cf.cashflow(const_value=0, \n",
    "                start='2000',\n",
    "                periods=15, \n",
    "                freq='A')\n",
    "cflo[0:5]   = 100\n",
    "cflo[5:10]  = 150\n",
    "cflo[10:15] = 200\n",
    "cflo"
   ],
   "outputs": [
    {
     "output_type": "execute_result",
     "data": {
      "text/plain": [
       "2000    100.0\n",
       "2001    100.0\n",
       "2002    100.0\n",
       "2003    100.0\n",
       "2004    100.0\n",
       "2005    150.0\n",
       "2006    150.0\n",
       "2007    150.0\n",
       "2008    150.0\n",
       "2009    150.0\n",
       "2010    200.0\n",
       "2011    200.0\n",
       "2012    200.0\n",
       "2013    200.0\n",
       "2014    200.0\n",
       "Freq: A-DEC, dtype: float64"
      ]
     },
     "metadata": {},
     "execution_count": 33
    }
   ],
   "metadata": {
    "slideshow": {
     "slide_type": "slide"
    }
   }
  },
  {
   "cell_type": "code",
   "execution_count": 34,
   "source": [
    "## gradiente geometrico\n",
    "cflo = cf.cashflow(const_value=0, \n",
    "                start='2000',\n",
    "                periods=15, \n",
    "                freq='A')\n",
    "cflo[5:10] = [100 * 1.05 ** (t-5) for t in range(5,10)]\n",
    "cflo"
   ],
   "outputs": [
    {
     "output_type": "execute_result",
     "data": {
      "text/plain": [
       "2000      0.000000\n",
       "2001      0.000000\n",
       "2002      0.000000\n",
       "2003      0.000000\n",
       "2004      0.000000\n",
       "2005    100.000000\n",
       "2006    105.000000\n",
       "2007    110.250000\n",
       "2008    115.762500\n",
       "2009    121.550625\n",
       "2010      0.000000\n",
       "2011      0.000000\n",
       "2012      0.000000\n",
       "2013      0.000000\n",
       "2014      0.000000\n",
       "Freq: A-DEC, dtype: float64"
      ]
     },
     "metadata": {},
     "execution_count": 34
    }
   ],
   "metadata": {
    "scrolled": true,
    "slideshow": {
     "slide_type": "slide"
    }
   }
  },
  {
   "cell_type": "code",
   "execution_count": 35,
   "source": [
    "cflo[4:11] += 200\n",
    "cflo"
   ],
   "outputs": [
    {
     "output_type": "execute_result",
     "data": {
      "text/plain": [
       "2000      0.000000\n",
       "2001      0.000000\n",
       "2002      0.000000\n",
       "2003      0.000000\n",
       "2004    200.000000\n",
       "2005    300.000000\n",
       "2006    305.000000\n",
       "2007    310.250000\n",
       "2008    315.762500\n",
       "2009    321.550625\n",
       "2010    200.000000\n",
       "2011      0.000000\n",
       "2012      0.000000\n",
       "2013      0.000000\n",
       "2014      0.000000\n",
       "Freq: A-DEC, dtype: float64"
      ]
     },
     "metadata": {},
     "execution_count": 35
    }
   ],
   "metadata": {
    "scrolled": true
   }
  },
  {
   "cell_type": "code",
   "execution_count": 36,
   "source": [
    "cflo.plot.barh()\n",
    "plt.grid(True)\n",
    "plt.show() "
   ],
   "outputs": [
    {
     "output_type": "display_data",
     "data": {
      "text/plain": [
       "<matplotlib.figure.Figure at 0x10f75e6d8>"
      ],
      "image/png": "[encoded data removed]"
     },
     "metadata": {}
    }
   ],
   "metadata": {
    "scrolled": true,
    "slideshow": {
     "slide_type": "slide"
    }
   }
  },
  {
   "cell_type": "code",
   "execution_count": 37,
   "source": [
    "cflo.plot.barh(figsize=(3,10))\n",
    "plt.grid(True)\n",
    "plt.show() "
   ],
   "outputs": [
    {
     "output_type": "display_data",
     "data": {
      "text/plain": [
       "<matplotlib.figure.Figure at 0x10f9ec908>"
      ],
      "image/png": "[encoded data removed]"
     },
     "metadata": {}
    }
   ],
   "metadata": {
    "slideshow": {
     "slide_type": "fragment"
    }
   }
  },
  {
   "cell_type": "code",
   "execution_count": 38,
   "source": [
    "cflo.plot.bar(figsize=(10, 4), ylim=(-max(abs(cflo)), max(abs(cflo))))\n",
    "plt.grid(True)\n",
    "plt.xlabel('Años')\n",
    "plt.ylabel('Millones de $')\n",
    "plt.show()"
   ],
   "outputs": [
    {
     "output_type": "display_data",
     "data": {
      "text/plain": [
       "<matplotlib.figure.Figure at 0x10fb356a0>"
      ],
      "image/png": "[encoded data removed]"
     },
     "metadata": {}
    }
   ],
   "metadata": {
    "scrolled": true,
    "slideshow": {
     "slide_type": "fragment"
    }
   }
  },
  {
   "cell_type": "code",
   "execution_count": 39,
   "source": [
    "cf.textplot(cflo)"
   ],
   "outputs": [
    {
     "output_type": "stream",
     "name": "stdout",
     "text": [
      "time    value +------------------+------------------+\n",
      "2000     0.00                    *\n",
      "2001     0.00                    *\n",
      "2002     0.00                    *\n",
      "2003     0.00                    *\n",
      "2004   200.00                    ************\n",
      "2005   300.00                    ******************\n",
      "2006   305.00                    ******************\n",
      "2007   310.25                    *******************\n",
      "2008   315.76                    *******************\n",
      "2009   321.55                    ********************\n",
      "2010   200.00                    ************\n",
      "2011     0.00                    *\n",
      "2012     0.00                    *\n",
      "2013     0.00                    *\n",
      "2014     0.00                    *\n"
     ]
    }
   ],
   "metadata": {
    "slideshow": {
     "slide_type": "fragment"
    }
   }
  },
  {
   "cell_type": "markdown",
   "source": [
    "***Ejercicio.--***  Represente los siguientes flujos de fondos y luego cómpute y grafique su suma.\n",
    "\n",
    "![assets/sesion-3-flujos.png](assets/sesion-3-flujos.png)\n"
   ],
   "metadata": {
    "slideshow": {
     "slide_type": "slide"
    }
   }
  }
 ],
 "metadata": {
  "anaconda-cloud": {},
  "celltoolbar": "Slideshow",
  "kernelspec": {
   "display_name": "Python 3",
   "language": "python",
   "name": "python3"
  },
  "language_info": {
   "codemirror_mode": {
    "name": "ipython",
    "version": 3
   },
   "file_extension": ".py",
   "mimetype": "text/x-python",
   "name": "python",
   "nbconvert_exporter": "python",
   "pygments_lexer": "ipython3",
   "version": "3.6.8"
  }
 },
 "nbformat": 4,
 "nbformat_minor": 2
}