{
 "cells": [
  {
   "cell_type": "markdown",
   "metadata": {},
   "source": [
    "# Representación de cadenas de texto como claves\n",
    "\n",
    "* *30 min* | Última modificación: Diciembre 11, 2020"
   ]
  },
  {
   "cell_type": "markdown",
   "metadata": {},
   "source": [
    "http://www.nltk.org/book/\n",
    "\n",
    "Text Analytics with Python"
   ]
  },
  {
   "cell_type": "code",
   "execution_count": 1,
   "metadata": {},
   "outputs": [],
   "source": [
    "##\n",
    "## Escriba una función que retorne la representación de\n",
    "## una cadena de texto como 1-grama.\n",
    "## Ver https://github.com/OpenRefine/OpenRefine/wiki/Clustering-In-Depth\n",
    "##\n",
    "## Ejemplo:\n",
    "## >>> one_gram('neural net')\n",
    "## 'aelnrtu'\n",
    "##\n",
    "def one_gram(x):\n",
    "    pass"
   ]
  },
  {
   "cell_type": "code",
   "execution_count": 2,
   "metadata": {},
   "outputs": [],
   "source": [
    "##\n",
    "## Escriba una función que retorne la representación de\n",
    "## una cadena de texto como 2-grama.\n",
    "## Ver https://github.com/OpenRefine/OpenRefine/wiki/Clustering-In-Depth\n",
    "##\n",
    "## Ejemplo:\n",
    "## >>> two_gram('neural net')\n",
    "## 'aleteulnneraur'\n",
    "##\n",
    "def two_gram(x):\n",
    "    pass\n"
   ]
  },
  {
   "cell_type": "code",
   "execution_count": 3,
   "metadata": {},
   "outputs": [],
   "source": [
    "##\n",
    "## Escriba una función que retorne la representación 'fingerprint'\n",
    "## una cadena de texto.\n",
    "## Ver https://github.com/OpenRefine/OpenRefine/wiki/Clustering-In-Depth\n",
    "##\n",
    "## Ejemplo:\n",
    "## >>> fingerprint('a A b')\n",
    "## 'a b'\n",
    "## >>> fingerprint('b a a')\n",
    "## 'a b'\n",
    "## >>> fingerprint(None) is None\n",
    "## True\n",
    "## >>> fingerprint('b c')\n",
    "## 'b c'\n",
    "## >>> fingerprint(' c b ')\n",
    "## 'b c'\n",
    "##\n",
    "def fingerprint(x):\n",
    "    pass"
   ]
  }
 ],
 "metadata": {
  "kernelspec": {
   "display_name": "Python 3",
   "language": "python",
   "name": "python3"
  },
  "language_info": {
   "codemirror_mode": {
    "name": "ipython",
    "version": 3
   },
   "file_extension": ".py",
   "mimetype": "text/x-python",
   "name": "python",
   "nbconvert_exporter": "python",
   "pygments_lexer": "ipython3",
   "version": "3.6.9"
  }
 },
 "nbformat": 4,
 "nbformat_minor": 4
}
