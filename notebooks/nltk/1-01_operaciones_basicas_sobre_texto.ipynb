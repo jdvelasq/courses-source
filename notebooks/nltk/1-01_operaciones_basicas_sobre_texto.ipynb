{
 "cells": [
  {
   "cell_type": "markdown",
   "metadata": {},
   "source": [
    "# Operaciones básicas sobre texto usando NLTK\n",
    "\n",
    "* *30 min* | Última modificación: Noviembre 29, 2020"
   ]
  },
  {
   "cell_type": "code",
   "execution_count": 1,
   "metadata": {},
   "outputs": [
    {
     "name": "stdout",
     "output_type": "stream",
     "text": [
      "[nltk_data] Downloading package stopwords to /root/nltk_data...\n",
      "[nltk_data]   Unzipping corpora/stopwords.zip.\n",
      "[nltk_data] Downloading package punkt to /root/nltk_data...\n",
      "[nltk_data]   Unzipping tokenizers/punkt.zip.\n"
     ]
    },
    {
     "data": {
      "text/plain": [
       "True"
      ]
     },
     "execution_count": 1,
     "metadata": {},
     "output_type": "execute_result"
    }
   ],
   "source": [
    "import nltk\n",
    "\n",
    "nltk.download(\"stopwords\")\n",
    "nltk.download(\"punkt\")"
   ]
  },
  {
   "cell_type": "code",
   "execution_count": 2,
   "metadata": {},
   "outputs": [
    {
     "data": {
      "text/plain": [
       "Index(['DOI', 'Link', 'Abstract'], dtype='object')"
      ]
     },
     "execution_count": 2,
     "metadata": {},
     "output_type": "execute_result"
    }
   ],
   "source": [
    "##\n",
    "## Preparacion de los datos\n",
    "##\n",
    "import pandas as pd\n",
    "\n",
    "data = pd.read_csv(\n",
    "    \"https://raw.githubusercontent.com/jdvelasq/datalabs/master/datasets/scopus-abstracts.csv\",\n",
    "    sep=\",\",\n",
    "    thousands=None,\n",
    "    decimal=\".\",\n",
    "    encoding=\"utf-8\",\n",
    ")\n",
    "data.columns"
   ]
  },
  {
   "cell_type": "code",
   "execution_count": 3,
   "metadata": {},
   "outputs": [
    {
     "data": {
      "text/plain": [
       "1902"
      ]
     },
     "execution_count": 3,
     "metadata": {},
     "output_type": "execute_result"
    }
   ],
   "source": [
    "##\n",
    "## Numero de registros\n",
    "##\n",
    "len(data)"
   ]
  },
  {
   "cell_type": "code",
   "execution_count": 4,
   "metadata": {},
   "outputs": [
    {
     "data": {
      "text/plain": [
       "'Mobility is one of the fundamental requirements of human life with significant societal impacts including productivity, economy, social wellbeing, adaptation to a changing climate, and so on. Although human movements follow specific patterns during normal periods, there are limited studies on how such patterns change due to extreme events. To quantify the impacts of an extreme event to human movements, we introduce the concept of mobility resilience which is defined as the ability of a mobility system to manage shocks and return to a steady state in response to an extreme event. We present a method to detect extreme events from geo-located movement data and to measure mobility resilience and transient loss of resilience due to those events. Applying this method, we measure resilience metrics from geo-located social media data for multiple types of disasters occurred all over the world. Quantifying mobility resilience may help us to assess the higher-order socio-economic impacts of extreme events and guide policies towards developing resilient infrastructures as well as a nation’s overall disaster resilience strategies. © 2019, The Author(s).'"
      ]
     },
     "execution_count": 4,
     "metadata": {},
     "output_type": "execute_result"
    }
   ],
   "source": [
    "##\n",
    "## Ejemplo de un abstract\n",
    "##\n",
    "data.Abstract[0]"
   ]
  },
  {
   "cell_type": "code",
   "execution_count": 5,
   "metadata": {},
   "outputs": [
    {
     "data": {
      "text/plain": [
       "'Mobility is one of the fundamental requirements of human life with significant societal impacts including productivity, economy, social wellbeing, adaptation to a changing climate, and so on. Although human movements follow specific patterns during normal periods, there are limited studies on how such patterns change due to extreme events. To quantify the impacts of an extreme event to human movements, we introduce the concept of mobility resilience which is defined as the ability of a mobility system to manage shocks and return to a steady state in response to an extreme event. We present a method to detect extreme events from geo-located movement data and to measure mobility resilience and transient loss of resilience due to those events. Applying this method, we measure resilience metrics from geo-located social media data for multiple types of disasters occurred all over the world. Quantifying mobility resilience may help us to assess the higher-order socio-economic impacts of extreme events and guide policies towards developing resilient infrastructures as well as a nation’s overall disaster resilience strategies. '"
      ]
     },
     "execution_count": 5,
     "metadata": {},
     "output_type": "execute_result"
    }
   ],
   "source": [
    "##\n",
    "## Algunos abstracts tienen la marca de copyright + año + 'The Author(s).'\n",
    "## Se remueve\n",
    "##\n",
    "data[\"Abstract\"] = data.Abstract.map(\n",
    "    lambda w: w[0 : w.find(\"\\u00a9\")], na_action=\"ignore\"\n",
    ")\n",
    "data.Abstract[0]"
   ]
  },
  {
   "cell_type": "code",
   "execution_count": 6,
   "metadata": {},
   "outputs": [
    {
     "data": {
      "image/png": "[encoded data removed]",
      "text/plain": [
       "<Figure size 648x360 with 1 Axes>"
      ]
     },
     "metadata": {
      "needs_background": "light"
     },
     "output_type": "display_data"
    }
   ],
   "source": [
    "##\n",
    "## Longitud de los abstracts en caracteres\n",
    "##  Colores diponibles en matplotlib: https://matplotlib.org/3.1.0/gallery/color/named_colors.html\n",
    "##\n",
    "import matplotlib.pyplot as plt\n",
    "\n",
    "data.Abstract.map(lambda w: len(w), na_action=\"ignore\").plot.hist(\n",
    "    color=\"darkorange\", alpha=0.6, rwidth=0.8, edgecolor=\"k\", figsize=(9, 5)\n",
    ")\n",
    "\n",
    "plt.gca().spines[\"left\"].set_color(\"lightgray\")\n",
    "plt.gca().spines[\"bottom\"].set_color(\"gray\")\n",
    "plt.gca().spines[\"top\"].set_visible(False)\n",
    "plt.gca().spines[\"right\"].set_visible(False)"
   ]
  },
  {
   "cell_type": "code",
   "execution_count": 7,
   "metadata": {},
   "outputs": [
    {
     "data": {
      "image/png": "[encoded data removed]",
      "text/plain": [
       "<Figure size 648x360 with 1 Axes>"
      ]
     },
     "metadata": {
      "needs_background": "light"
     },
     "output_type": "display_data"
    }
   ],
   "source": [
    "##\n",
    "## Longitud de los abstracts en palabras\n",
    "##\n",
    "data.Abstract.map(lambda w: len(w.split()), na_action=\"ignore\").plot.hist(\n",
    "    color=\"darkorange\", alpha=0.6, rwidth=0.8, edgecolor=\"k\", figsize=(9, 5)\n",
    ")\n",
    "\n",
    "plt.Figure(figsize=(8, 4))\n",
    "plt.gca().spines[\"left\"].set_color(\"lightgray\")\n",
    "plt.gca().spines[\"bottom\"].set_color(\"gray\")\n",
    "plt.gca().spines[\"top\"].set_visible(False)\n",
    "plt.gca().spines[\"right\"].set_visible(False)"
   ]
  },
  {
   "cell_type": "code",
   "execution_count": 8,
   "metadata": {},
   "outputs": [
    {
     "data": {
      "text/plain": [
       "0       Mobility is one of the fundamental requirement...\n",
       "10      The tendency of people to form socially cohesi...\n",
       "54      In recent years, mobility data from smart card...\n",
       "95      The influence of urban design on economic vita...\n",
       "111     This study demonstrates the use of mobile phon...\n",
       "188     Customer profiles that include gender and age ...\n",
       "209     To measure job accessibility, person-based app...\n",
       "235     In this research, we exploit repeated parts in...\n",
       "236     Tourist flows in historical cities are continu...\n",
       "239     It is well reported that long commutes have a ...\n",
       "242     Nowadays, Location-Based Social Networks (LBSN...\n",
       "244     In the last decades, the notion that cities ar...\n",
       "251     In Latin America, shopping malls seem to offer...\n",
       "253     Traditional crime prediction models based on c...\n",
       "255     Human mobility always had a great influence on...\n",
       "257     In this paper, we follow the short-ranged Syri...\n",
       "262     Epidemic outbreaks are an important healthcare...\n",
       "263     Billions of users of mobile phones, social med...\n",
       "265     A multi-modal transportation system of a city ...\n",
       "266     Estimating revenue and business demand of a ne...\n",
       "275     Predictive models for human mobility have impo...\n",
       "582     Understanding and modeling the mobility of ind...\n",
       "587     Pokémon Go, a location-based game that uses au...\n",
       "597     Next place prediction algorithms are invaluabl...\n",
       "666     Walking is a form of active transportation wit...\n",
       "845     China’s economic reforms of 1978, which led to...\n",
       "865     Big data is among the most promising research ...\n",
       "870     Predicting human mobility flows at different s...\n",
       "886     Tourism is becoming a significant contributor ...\n",
       "891     Whenever someone makes or receives a call on a...\n",
       "894     The exploration of people’s everyday life has ...\n",
       "946     Cloud storage services have become ubiquitous....\n",
       "1056    In recent years, we have seen scientists attem...\n",
       "1061    One of the greatest concerns related to the po...\n",
       "1065    Transportation planning is strongly influenced...\n",
       "1066    Customers mobility is dependent on the sophist...\n",
       "1102    The wealth of information provided by real-tim...\n",
       "1134    Geospatial big data refers to spatial data set...\n",
       "1164    The consumerization of information technology ...\n",
       "1167    Human mobility in a city represents a fascinat...\n",
       "1169    There is an increasing trend of people leaving...\n",
       "1300    The newly released Orange D4D mobile phone dat...\n",
       "1325    This study leverages mobile phone data to anal...\n",
       "1580    The mobile cellular systems are expected to su...\n",
       "1625    In the age of mobile computing where users can...\n",
       "Name: Abstract, dtype: object"
      ]
     },
     "execution_count": 8,
     "metadata": {},
     "output_type": "execute_result"
    }
   ],
   "source": [
    "##\n",
    "## Busqueda de abstracts con una cadena en particular\n",
    "##\n",
    "data.Abstract[data.Abstract.map(lambda w: \"mobility\" in w.lower(), na_action=\"ignore\")]"
   ]
  },
  {
   "cell_type": "code",
   "execution_count": 9,
   "metadata": {},
   "outputs": [
    {
     "data": {
      "text/plain": [
       "['Mobility',\n",
       " 'is',\n",
       " 'one',\n",
       " 'of',\n",
       " 'the',\n",
       " 'fundamental',\n",
       " 'requirements',\n",
       " 'of',\n",
       " 'human',\n",
       " 'life',\n",
       " 'with',\n",
       " 'significant',\n",
       " 'societal',\n",
       " 'impacts',\n",
       " 'including',\n",
       " 'productivity',\n",
       " ',',\n",
       " 'economy',\n",
       " ',',\n",
       " 'social']"
      ]
     },
     "execution_count": 9,
     "metadata": {},
     "output_type": "execute_result"
    }
   ],
   "source": [
    "##\n",
    "## word tokenizer\n",
    "##   Separación de las frases en palabras\n",
    "##\n",
    "from nltk.tokenize import word_tokenize\n",
    "\n",
    "tokens = data.Abstract.map(word_tokenize)\n",
    "\n",
    "# primeros 20 tokens del primer abstract\n",
    "tokens[0][:20]"
   ]
  },
  {
   "cell_type": "code",
   "execution_count": 10,
   "metadata": {},
   "outputs": [
    {
     "name": "stdout",
     "output_type": "stream",
     "text": [
      "Displaying 25 of 230 matches:\n",
      "                                     human life with significant societal impac\n",
      "nging climate , and so on . Although human movements follow specific patterns d\n",
      "y the impacts of an extreme event to human movements , we introduce the concept\n",
      "-scale online aggregators of offline human biases ? Often portrayed as easy-to-\n",
      "e seek alternative features based on human behavior that might explain part of \n",
      "ctivity of individual investors . In human relations individuals ’ gender and a\n",
      "ed caller and callee combinations of human interactions , namely male to male ,\n",
      "endship give rise to a wide scope of human sociality . Here we analyse the rela\n",
      "ts represent a new view of worldwide human behavior and a new application of ma\n",
      "owever , this task relies heavily on human observers in the affected locations \n",
      "utomating this process , the risk of human error is also eliminated . Compared \n",
      "data . AI is taking over the job ’ s human do , receptionists , drivers , chefs\n",
      "he rights and ethics of AI ” ? . The human race is on an inevitable path of AI \n",
      "proposed method reduces the need for human work and makes it easy to intelligen\n",
      "produce big data streams can require human operators to monitor these event str\n",
      "al environmental pollution caused by human activities has become a threat to pu\n",
      "ata mining were mainly attributed to human bias and shortcomings of the law ; t\n",
      "data in order to analyze and predict human behavior . Over the last decade , si\n",
      "re needed to interactively integrate human cognitive sensemaking activity with \n",
      "computational model that mirrors the human sensemaking process , and consists o\n",
      "g semantic interaction such that the human 's spatial synthesis actions are tra\n",
      "at reflecting urban developments and human mobility ) to look at the impact of \n",
      "configurational variables to explain human spatial behavior and spatial cogniti\n",
      " a common feature of many developing human societies . In many cases , past and\n",
      "be used on a large scale to speed up human development processes in cities thro\n"
     ]
    }
   ],
   "source": [
    "##\n",
    "## Concordancias\n",
    "##   Muestra las palabras en el contexto de una frase\n",
    "##\n",
    "abstracts = data.Abstract.copy()\n",
    "abstracts = abstracts.dropna()\n",
    "abstracts = abstracts.map(lambda w: w.strip())\n",
    "abstracts = abstracts.map(lambda w: w + \".\" if w[-1] != \".\" else w)\n",
    "abstracts = abstracts.tolist()\n",
    "abstracts = \" \".join(abstracts)\n",
    "\n",
    "abstracts = word_tokenize(abstracts)\n",
    "abstracts = nltk.Text(abstracts)\n",
    "abstracts.concordance(\"human\")"
   ]
  },
  {
   "cell_type": "code",
   "execution_count": 11,
   "metadata": {},
   "outputs": [
    {
     "name": "stdout",
     "output_type": "stream",
     "text": [
      "impact most effect effects data influence characteristics levels\n",
      "mobility one and patterns system field results factors dynamics\n",
      "outcomes accuracy features\n"
     ]
    }
   ],
   "source": [
    "##\n",
    "## Palabras usadas de forma similar en los mismos contextos\n",
    "##\n",
    "abstracts.similar(\"impacts\")"
   ]
  },
  {
   "cell_type": "code",
   "execution_count": 12,
   "metadata": {},
   "outputs": [
    {
     "name": "stdout",
     "output_type": "stream",
     "text": [
      "and_networks\n"
     ]
    }
   ],
   "source": [
    "##\n",
    "## Contextos comunes\n",
    "##\n",
    "abstracts.common_contexts([\"human\", \"interaction\"])"
   ]
  },
  {
   "cell_type": "code",
   "execution_count": 13,
   "metadata": {},
   "outputs": [
    {
     "data": {
      "text/plain": [
       "348451"
      ]
     },
     "execution_count": 13,
     "metadata": {},
     "output_type": "execute_result"
    }
   ],
   "source": [
    "##\n",
    "## Conteo de palabras\n",
    "##\n",
    "len(abstracts)"
   ]
  },
  {
   "cell_type": "code",
   "execution_count": 14,
   "metadata": {},
   "outputs": [
    {
     "data": {
      "text/plain": [
       "['!',\n",
       " '#',\n",
       " '$',\n",
       " '%',\n",
       " '&',\n",
       " \"'\",\n",
       " \"''\",\n",
       " \"'3DStock\",\n",
       " \"'Berlin\",\n",
       " \"'Big\",\n",
       " \"'Communities\",\n",
       " \"'Data\",\n",
       " \"'E-consultant\",\n",
       " \"'Engineering\",\n",
       " \"'European\",\n",
       " \"'HorVertical\",\n",
       " \"'JAMSTEC\",\n",
       " \"'Prime-Example\",\n",
       " \"'Research\",\n",
       " \"'Researcher\",\n",
       " \"'Spintronics\",\n",
       " \"'Tamburi\",\n",
       " \"'Virtual\",\n",
       " \"'age\",\n",
       " \"'analytical\",\n",
       " \"'big\",\n",
       " \"'data\",\n",
       " \"'engine\",\n",
       " \"'four\",\n",
       " \"'fuzzy\"]"
      ]
     },
     "execution_count": 14,
     "metadata": {},
     "output_type": "execute_result"
    }
   ],
   "source": [
    "##\n",
    "## Vocabulario\n",
    "##\n",
    "sorted(set(abstracts))[:30]"
   ]
  },
  {
   "cell_type": "code",
   "execution_count": 15,
   "metadata": {},
   "outputs": [
    {
     "data": {
      "text/plain": [
       "19978"
      ]
     },
     "execution_count": 15,
     "metadata": {},
     "output_type": "execute_result"
    }
   ],
   "source": [
    "##\n",
    "## Vocabulario único\n",
    "##\n",
    "len(sorted(set(abstracts)))"
   ]
  },
  {
   "cell_type": "code",
   "execution_count": 16,
   "metadata": {},
   "outputs": [
    {
     "data": {
      "text/plain": [
       "213"
      ]
     },
     "execution_count": 16,
     "metadata": {},
     "output_type": "execute_result"
    }
   ],
   "source": [
    "##\n",
    "## Ocurrencia de una palabra\n",
    "##\n",
    "abstracts.count(\"human\")"
   ]
  },
  {
   "cell_type": "code",
   "execution_count": 17,
   "metadata": {},
   "outputs": [
    {
     "data": {
      "text/plain": [
       "'extreme'"
      ]
     },
     "execution_count": 17,
     "metadata": {},
     "output_type": "execute_result"
    }
   ],
   "source": [
    "##\n",
    "## Indexación de palabras\n",
    "##\n",
    "abstracts[98]"
   ]
  },
  {
   "cell_type": "code",
   "execution_count": 18,
   "metadata": {},
   "outputs": [
    {
     "data": {
      "text/plain": [
       "['extreme',\n",
       " 'event',\n",
       " '.',\n",
       " 'We',\n",
       " 'present',\n",
       " 'a',\n",
       " 'method',\n",
       " 'to',\n",
       " 'detect',\n",
       " 'extreme',\n",
       " 'events',\n",
       " 'from']"
      ]
     },
     "execution_count": 18,
     "metadata": {},
     "output_type": "execute_result"
    }
   ],
   "source": [
    "abstracts[98:110]"
   ]
  },
  {
   "cell_type": "code",
   "execution_count": 19,
   "metadata": {},
   "outputs": [
    {
     "data": {
      "text/plain": [
       "53"
      ]
     },
     "execution_count": 19,
     "metadata": {},
     "output_type": "execute_result"
    }
   ],
   "source": [
    "abstracts.index(\"extreme\")"
   ]
  },
  {
   "cell_type": "code",
   "execution_count": 20,
   "metadata": {},
   "outputs": [
    {
     "data": {
      "text/plain": [
       "FreqDist({'the': 16783, ',': 13912, '.': 13814, 'of': 12884, 'and': 10793, 'to': 7812, 'a': 6364, 'in': 5374, 'data': 4468, 'is': 4107, ...})"
      ]
     },
     "execution_count": 20,
     "metadata": {},
     "output_type": "execute_result"
    }
   ],
   "source": [
    "##\n",
    "## Cómputo de la frecuencia de palabras\n",
    "##\n",
    "from nltk import FreqDist\n",
    "\n",
    "fd = FreqDist(abstracts)\n",
    "fd"
   ]
  },
  {
   "cell_type": "code",
   "execution_count": 21,
   "metadata": {},
   "outputs": [
    {
     "data": {
      "text/plain": [
       "[('the', 16783),\n",
       " (',', 13912),\n",
       " ('.', 13814),\n",
       " ('of', 12884),\n",
       " ('and', 10793),\n",
       " ('to', 7812),\n",
       " ('a', 6364),\n",
       " ('in', 5374),\n",
       " ('data', 4468),\n",
       " ('is', 4107),\n",
       " ('for', 3622),\n",
       " ('that', 3008),\n",
       " ('The', 2605),\n",
       " ('on', 2508),\n",
       " ('are', 2320),\n",
       " (')', 2245),\n",
       " ('(', 2217),\n",
       " ('with', 2149),\n",
       " ('as', 1828),\n",
       " ('this', 1794)]"
      ]
     },
     "execution_count": 21,
     "metadata": {},
     "output_type": "execute_result"
    }
   ],
   "source": [
    "fd.most_common(20)"
   ]
  },
  {
   "cell_type": "code",
   "execution_count": 22,
   "metadata": {},
   "outputs": [
    {
     "data": {
      "image/png": "[encoded data removed]",
      "text/plain": [
       "<Figure size 432x288 with 1 Axes>"
      ]
     },
     "metadata": {
      "needs_background": "light"
     },
     "output_type": "display_data"
    }
   ],
   "source": [
    "fd.plot(40, cumulative=True)"
   ]
  },
  {
   "cell_type": "code",
   "execution_count": 23,
   "metadata": {},
   "outputs": [
    {
     "name": "stdout",
     "output_type": "stream",
     "text": [
      "big data; Big Data; machine learning; social media; time series;\n",
      "results show; data mining; case study; supply chain; data sets;\n",
      "decision making; paper presents; mobile phone; United States; paper\n",
      "proposes; land use; association rules; experimental results; social\n",
      "networks; recent years\n"
     ]
    }
   ],
   "source": [
    "##\n",
    "## Collocations\n",
    "##   Textos que tienden a aparecer juntos\n",
    "##\n",
    "abstracts.collocations()"
   ]
  },
  {
   "cell_type": "code",
   "execution_count": 24,
   "metadata": {},
   "outputs": [
    {
     "data": {
      "text/plain": [
       "['Mobility', 'is', 'one', 'of', 'the', 'fundamental']"
      ]
     },
     "execution_count": 24,
     "metadata": {},
     "output_type": "execute_result"
    }
   ],
   "source": [
    "##\n",
    "## Se remueven todas las palabras que no esten\n",
    "## compuestas por letras\n",
    "##\n",
    "import re\n",
    "\n",
    "words = [re.sub(r\"[^A-Za-z]\", \"\", w) for w in abstracts]\n",
    "words = [w for w in words if w != \"\"]\n",
    "words[:6]"
   ]
  },
  {
   "cell_type": "code",
   "execution_count": 25,
   "metadata": {},
   "outputs": [
    {
     "data": {
      "text/plain": [
       "['mobility', 'is', 'one', 'of', 'the', 'fundamental']"
      ]
     },
     "execution_count": 25,
     "metadata": {},
     "output_type": "execute_result"
    }
   ],
   "source": [
    "##\n",
    "## Se transforman las palabras minusculas\n",
    "##\n",
    "words = [w.lower() for w in words]\n",
    "words[:6]"
   ]
  },
  {
   "cell_type": "code",
   "execution_count": 26,
   "metadata": {},
   "outputs": [
    {
     "data": {
      "text/plain": [
       "[('the', 19388),\n",
       " ('of', 12891),\n",
       " ('and', 10808),\n",
       " ('to', 8065),\n",
       " ('a', 6699),\n",
       " ('in', 6627),\n",
       " ('data', 4946),\n",
       " ('is', 4126),\n",
       " ('for', 3758),\n",
       " ('that', 3017)]"
      ]
     },
     "execution_count": 26,
     "metadata": {},
     "output_type": "execute_result"
    }
   ],
   "source": [
    "##\n",
    "## Conteo de palabras\n",
    "##   Ver https://docs.python.org/3/library/collections.html\n",
    "##\n",
    "from collections import Counter\n",
    "\n",
    "counter = Counter(words)\n",
    "counter.most_common(10)"
   ]
  },
  {
   "cell_type": "code",
   "execution_count": 27,
   "metadata": {},
   "outputs": [
    {
     "data": {
      "text/plain": [
       "[('data', 4946),\n",
       " ('paper', 1041),\n",
       " ('model', 951),\n",
       " ('using', 920),\n",
       " ('information', 907),\n",
       " ('research', 831),\n",
       " ('results', 827),\n",
       " ('analysis', 806),\n",
       " ('based', 732),\n",
       " ('used', 730)]"
      ]
     },
     "execution_count": 27,
     "metadata": {},
     "output_type": "execute_result"
    }
   ],
   "source": [
    "##\n",
    "## Remoción de stopwords\n",
    "##    pip3 install nltk\n",
    "##    nltk.download('stopwords')\n",
    "##\n",
    "STOPWORDS = nltk.corpus.stopwords.words(\"english\")\n",
    "\n",
    "words = [w for w in words if w not in STOPWORDS]\n",
    "counter = Counter(words)\n",
    "counter.most_common(10)"
   ]
  },
  {
   "cell_type": "markdown",
   "metadata": {},
   "source": [
    "## Ejercicio\n",
    "\n",
    "Para el siguiente texto:\n",
    "\n",
    "a) Calcule cuántas palabras únicas tiene el texto.\n",
    "\n",
    "b) Calcule cuántas frases tiene el texto.\n",
    "\n",
    "c) ¿Cúales son las diez palabras más frecuentes?\n",
    "\n",
    "d) ¿Cuantas palabras terminan en `ing`?"
   ]
  },
  {
   "cell_type": "code",
   "execution_count": 28,
   "metadata": {},
   "outputs": [],
   "source": [
    "texto = \"\"\"\n",
    "Analytics is the discovery, interpretation, and communication of meaningful patterns\n",
    "in data. Especially valuable in areas rich with recorded information, analytics relies\n",
    "on the simultaneous application of statistics, computer programming and operations research\n",
    "to quantify performance.\n",
    "\n",
    "Organizations may apply analytics to business data to describe, predict, and improve business\n",
    "performance. Specifically, areas within analytics include predictive analytics, prescriptive\n",
    "analytics, enterprise decision management, descriptive analytics, cognitive analytics, Big\n",
    "Data Analytics, retail analytics, store assortment and stock-keeping unit optimization,\n",
    "marketing optimization and marketing mix modeling, web analytics, call analytics, speech\n",
    "analytics, sales force sizing and optimization, price and promotion modeling, predictive\n",
    "science, credit risk analysis, and fraud analytics. Since analytics can require extensive\n",
    "computation (see big data), the algorithms and software used for analytics harness the most\n",
    "current methods in computer science, statistics, and mathematics.\n",
    "\n",
    "The field of data analysis. Analytics often involves studying past historical data to\n",
    "research potential trends, to analyze the effects of certain decisions or events, or to\n",
    "evaluate the performance of a given tool or scenario. The goal of analytics is to improve\n",
    "the business by gaining knowledge which can be used to make improvements or changes.\n",
    "\n",
    "Data analytics (DA) is the process of examining data sets in order to draw conclusions\n",
    "about the information they contain, increasingly with the aid of specialized systems\n",
    "and software. Data analytics technologies and techniques are widely used in commercial\n",
    "industries to enable organizations to make more-informed business decisions and by\n",
    "scientists and researchers to verify or disprove scientific models, theories and\n",
    "hypotheses.\n",
    "\"\"\""
   ]
  }
 ],
 "metadata": {
  "kernelspec": {
   "display_name": "Python 3",
   "language": "python",
   "name": "python3"
  },
  "language_info": {
   "codemirror_mode": {
    "name": "ipython",
    "version": 3
   },
   "file_extension": ".py",
   "mimetype": "text/x-python",
   "name": "python",
   "nbconvert_exporter": "python",
   "pygments_lexer": "ipython3",
   "version": "3.6.9"
  }
 },
 "nbformat": 4,
 "nbformat_minor": 4
}
