{
 "cells": [
  {
   "cell_type": "markdown",
   "metadata": {},
   "source": [
    "# Colisión de textos\n",
    "\n",
    "* *30 min* | Última modificación: Diciembre 11, 2020"
   ]
  },
  {
   "cell_type": "markdown",
   "metadata": {},
   "source": [
    "http://www.nltk.org/book/\n",
    "\n",
    "Text Analytics with Python"
   ]
  },
  {
   "cell_type": "code",
   "execution_count": 1,
   "metadata": {},
   "outputs": [],
   "source": [
    "##\n",
    "## Escriba una función que tome una lista de strings y retorne las posibles \n",
    "## cadenas a reemplazar\n",
    "##\n",
    "## Algoritmo:\n",
    "##   1.- Remueve espacios en blanco en los extremos (strip)\n",
    "##   2.- Remueve acentos\n",
    "##   3.- Computa la clave para cada string\n",
    "##   4.- Agrupa textos por clave igual\n",
    "##   5.- Construye un diccionario donde la clave es el termino mas frecuente(?)\n",
    "##       y los valores son los demas textos\n",
    "##   6.- Permita la edición por parte del usuario\n",
    "##   7.- Retorne la lista transformada\n",
    "##"
   ]
  },
  {
   "cell_type": "code",
   "execution_count": 2,
   "metadata": {},
   "outputs": [],
   "source": [
    "##\n",
    "## Explique como implementar un tesauro\n",
    "##\n"
   ]
  }
 ],
 "metadata": {
  "kernelspec": {
   "display_name": "Python 3",
   "language": "python",
   "name": "python3"
  },
  "language_info": {
   "codemirror_mode": {
    "name": "ipython",
    "version": 3
   },
   "file_extension": ".py",
   "mimetype": "text/x-python",
   "name": "python",
   "nbconvert_exporter": "python",
   "pygments_lexer": "ipython3",
   "version": "3.6.9"
  }
 },
 "nbformat": 4,
 "nbformat_minor": 4
}
