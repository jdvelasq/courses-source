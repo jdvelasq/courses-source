{
 "cells": [
  {
   "cell_type": "markdown",
   "id": "f15febfa-a859-431e-9172-b6094353462b",
   "metadata": {
    "tags": []
   },
   "source": [
    "Linking and interactions\n",
    "==========================================\n",
    "\n",
    "* *60 min* | Última modificación: Diciembre 13, 2021 | YouTube"
   ]
  },
  {
   "cell_type": "code",
   "execution_count": 1,
   "id": "014b88be-1db7-4c2e-872b-70a8636cd86e",
   "metadata": {},
   "outputs": [
    {
     "name": "stdout",
     "output_type": "stream",
     "text": [
      "\u001b[33mWARNING: Running pip as the 'root' user can result in broken permissions and conflicting behaviour with the system package manager. It is recommended to use a virtual environment instead: https://pip.pypa.io/warnings/venv\u001b[0m\n"
     ]
    }
   ],
   "source": [
    "!pip3 install -q bokeh==2.3.3"
   ]
  },
  {
   "cell_type": "code",
   "execution_count": 2,
   "id": "3249bba3-25d5-49ea-8bee-49b2cdf3e6da",
   "metadata": {},
   "outputs": [
    {
     "data": {
      "text/html": [
       "\n",
       "    <div class=\"bk-root\">\n",
       "        <a href=\"https://bokeh.org\" target=\"_blank\" class=\"bk-logo bk-logo-small bk-logo-notebook\"></a>\n",
       "        <span id=\"1001\">Loading BokehJS ...</span>\n",
       "    </div>"
      ]
     },
     "metadata": {},
     "output_type": "display_data"
    },
    {
     "data": {
      "application/javascript": [
       "\n",
       "(function(root) {\n",
       "  function now() {\n",
       "    return new Date();\n",
       "  }\n",
       "\n",
       "  var force = true;\n",
       "\n",
       "  if (typeof root._bokeh_onload_callbacks === \"undefined\" || force === true) {\n",
       "    root._bokeh_onload_callbacks = [];\n",
       "    root._bokeh_is_loading = undefined;\n",
       "  }\n",
       "\n",
       "  var JS_MIME_TYPE = 'application/javascript';\n",
       "  var HTML_MIME_TYPE = 'text/html';\n",
       "  var EXEC_MIME_TYPE = 'application/vnd.bokehjs_exec.v0+json';\n",
       "  var CLASS_NAME = 'output_bokeh rendered_html';\n",
       "\n",
       "  /**\n",
       "   * Render data to the DOM node\n",
       "   */\n",
       "  function render(props, node) {\n",
       "    var script = document.createElement(\"script\");\n",
       "    node.appendChild(script);\n",
       "  }\n",
       "\n",
       "  /**\n",
       "   * Handle when an output is cleared or removed\n",
       "   */\n",
       "  function handleClearOutput(event, handle) {\n",
       "    var cell = handle.cell;\n",
       "\n",
       "    var id = cell.output_area._bokeh_element_id;\n",
       "    var server_id = cell.output_area._bokeh_server_id;\n",
       "    // Clean up Bokeh references\n",
       "    if (id != null && id in Bokeh.index) {\n",
       "      Bokeh.index[id].model.document.clear();\n",
       "      delete Bokeh.index[id];\n",
       "    }\n",
       "\n",
       "    if (server_id !== undefined) {\n",
       "      // Clean up Bokeh references\n",
       "      var cmd = \"from bokeh.io.state import curstate; print(curstate().uuid_to_server['\" + server_id + \"'].get_sessions()[0].document.roots[0]._id)\";\n",
       "      cell.notebook.kernel.execute(cmd, {\n",
       "        iopub: {\n",
       "          output: function(msg) {\n",
       "            var id = msg.content.text.trim();\n",
       "            if (id in Bokeh.index) {\n",
       "              Bokeh.index[id].model.document.clear();\n",
       "              delete Bokeh.index[id];\n",
       "            }\n",
       "          }\n",
       "        }\n",
       "      });\n",
       "      // Destroy server and session\n",
       "      var cmd = \"import bokeh.io.notebook as ion; ion.destroy_server('\" + server_id + \"')\";\n",
       "      cell.notebook.kernel.execute(cmd);\n",
       "    }\n",
       "  }\n",
       "\n",
       "  /**\n",
       "   * Handle when a new output is added\n",
       "   */\n",
       "  function handleAddOutput(event, handle) {\n",
       "    var output_area = handle.output_area;\n",
       "    var output = handle.output;\n",
       "\n",
       "    // limit handleAddOutput to display_data with EXEC_MIME_TYPE content only\n",
       "    if ((output.output_type != \"display_data\") || (!Object.prototype.hasOwnProperty.call(output.data, EXEC_MIME_TYPE))) {\n",
       "      return\n",
       "    }\n",
       "\n",
       "    var toinsert = output_area.element.find(\".\" + CLASS_NAME.split(' ')[0]);\n",
       "\n",
       "    if (output.metadata[EXEC_MIME_TYPE][\"id\"] !== undefined) {\n",
       "      toinsert[toinsert.length - 1].firstChild.textContent = output.data[JS_MIME_TYPE];\n",
       "      // store reference to embed id on output_area\n",
       "      output_area._bokeh_element_id = output.metadata[EXEC_MIME_TYPE][\"id\"];\n",
       "    }\n",
       "    if (output.metadata[EXEC_MIME_TYPE][\"server_id\"] !== undefined) {\n",
       "      var bk_div = document.createElement(\"div\");\n",
       "      bk_div.innerHTML = output.data[HTML_MIME_TYPE];\n",
       "      var script_attrs = bk_div.children[0].attributes;\n",
       "      for (var i = 0; i < script_attrs.length; i++) {\n",
       "        toinsert[toinsert.length - 1].firstChild.setAttribute(script_attrs[i].name, script_attrs[i].value);\n",
       "        toinsert[toinsert.length - 1].firstChild.textContent = bk_div.children[0].textContent\n",
       "      }\n",
       "      // store reference to server id on output_area\n",
       "      output_area._bokeh_server_id = output.metadata[EXEC_MIME_TYPE][\"server_id\"];\n",
       "    }\n",
       "  }\n",
       "\n",
       "  function register_renderer(events, OutputArea) {\n",
       "\n",
       "    function append_mime(data, metadata, element) {\n",
       "      // create a DOM node to render to\n",
       "      var toinsert = this.create_output_subarea(\n",
       "        metadata,\n",
       "        CLASS_NAME,\n",
       "        EXEC_MIME_TYPE\n",
       "      );\n",
       "      this.keyboard_manager.register_events(toinsert);\n",
       "      // Render to node\n",
       "      var props = {data: data, metadata: metadata[EXEC_MIME_TYPE]};\n",
       "      render(props, toinsert[toinsert.length - 1]);\n",
       "      element.append(toinsert);\n",
       "      return toinsert\n",
       "    }\n",
       "\n",
       "    /* Handle when an output is cleared or removed */\n",
       "    events.on('clear_output.CodeCell', handleClearOutput);\n",
       "    events.on('delete.Cell', handleClearOutput);\n",
       "\n",
       "    /* Handle when a new output is added */\n",
       "    events.on('output_added.OutputArea', handleAddOutput);\n",
       "\n",
       "    /**\n",
       "     * Register the mime type and append_mime function with output_area\n",
       "     */\n",
       "    OutputArea.prototype.register_mime_type(EXEC_MIME_TYPE, append_mime, {\n",
       "      /* Is output safe? */\n",
       "      safe: true,\n",
       "      /* Index of renderer in `output_area.display_order` */\n",
       "      index: 0\n",
       "    });\n",
       "  }\n",
       "\n",
       "  // register the mime type if in Jupyter Notebook environment and previously unregistered\n",
       "  if (root.Jupyter !== undefined) {\n",
       "    var events = require('base/js/events');\n",
       "    var OutputArea = require('notebook/js/outputarea').OutputArea;\n",
       "\n",
       "    if (OutputArea.prototype.mime_types().indexOf(EXEC_MIME_TYPE) == -1) {\n",
       "      register_renderer(events, OutputArea);\n",
       "    }\n",
       "  }\n",
       "\n",
       "  \n",
       "  if (typeof (root._bokeh_timeout) === \"undefined\" || force === true) {\n",
       "    root._bokeh_timeout = Date.now() + 5000;\n",
       "    root._bokeh_failed_load = false;\n",
       "  }\n",
       "\n",
       "  var NB_LOAD_WARNING = {'data': {'text/html':\n",
       "     \"<div style='background-color: #fdd'>\\n\"+\n",
       "     \"<p>\\n\"+\n",
       "     \"BokehJS does not appear to have successfully loaded. If loading BokehJS from CDN, this \\n\"+\n",
       "     \"may be due to a slow or bad network connection. Possible fixes:\\n\"+\n",
       "     \"</p>\\n\"+\n",
       "     \"<ul>\\n\"+\n",
       "     \"<li>re-rerun `output_notebook()` to attempt to load from CDN again, or</li>\\n\"+\n",
       "     \"<li>use INLINE resources instead, as so:</li>\\n\"+\n",
       "     \"</ul>\\n\"+\n",
       "     \"<code>\\n\"+\n",
       "     \"from bokeh.resources import INLINE\\n\"+\n",
       "     \"output_notebook(resources=INLINE)\\n\"+\n",
       "     \"</code>\\n\"+\n",
       "     \"</div>\"}};\n",
       "\n",
       "  function display_loaded() {\n",
       "    var el = document.getElementById(\"1001\");\n",
       "    if (el != null) {\n",
       "      el.textContent = \"BokehJS is loading...\";\n",
       "    }\n",
       "    if (root.Bokeh !== undefined) {\n",
       "      if (el != null) {\n",
       "        el.textContent = \"BokehJS \" + root.Bokeh.version + \" successfully loaded.\";\n",
       "      }\n",
       "    } else if (Date.now() < root._bokeh_timeout) {\n",
       "      setTimeout(display_loaded, 100)\n",
       "    }\n",
       "  }\n",
       "\n",
       "\n",
       "  function run_callbacks() {\n",
       "    try {\n",
       "      root._bokeh_onload_callbacks.forEach(function(callback) {\n",
       "        if (callback != null)\n",
       "          callback();\n",
       "      });\n",
       "    } finally {\n",
       "      delete root._bokeh_onload_callbacks\n",
       "    }\n",
       "    console.debug(\"Bokeh: all callbacks have finished\");\n",
       "  }\n",
       "\n",
       "  function load_libs(css_urls, js_urls, callback) {\n",
       "    if (css_urls == null) css_urls = [];\n",
       "    if (js_urls == null) js_urls = [];\n",
       "\n",
       "    root._bokeh_onload_callbacks.push(callback);\n",
       "    if (root._bokeh_is_loading > 0) {\n",
       "      console.debug(\"Bokeh: BokehJS is being loaded, scheduling callback at\", now());\n",
       "      return null;\n",
       "    }\n",
       "    if (js_urls == null || js_urls.length === 0) {\n",
       "      run_callbacks();\n",
       "      return null;\n",
       "    }\n",
       "    console.debug(\"Bokeh: BokehJS not loaded, scheduling load and callback at\", now());\n",
       "    root._bokeh_is_loading = css_urls.length + js_urls.length;\n",
       "\n",
       "    function on_load() {\n",
       "      root._bokeh_is_loading--;\n",
       "      if (root._bokeh_is_loading === 0) {\n",
       "        console.debug(\"Bokeh: all BokehJS libraries/stylesheets loaded\");\n",
       "        run_callbacks()\n",
       "      }\n",
       "    }\n",
       "\n",
       "    function on_error(url) {\n",
       "      console.error(\"failed to load \" + url);\n",
       "    }\n",
       "\n",
       "    for (let i = 0; i < css_urls.length; i++) {\n",
       "      const url = css_urls[i];\n",
       "      const element = document.createElement(\"link\");\n",
       "      element.onload = on_load;\n",
       "      element.onerror = on_error.bind(null, url);\n",
       "      element.rel = \"stylesheet\";\n",
       "      element.type = \"text/css\";\n",
       "      element.href = url;\n",
       "      console.debug(\"Bokeh: injecting link tag for BokehJS stylesheet: \", url);\n",
       "      document.body.appendChild(element);\n",
       "    }\n",
       "\n",
       "    const hashes = {\"https://cdn.bokeh.org/bokeh/release/bokeh-2.3.3.min.js\": \"dM3QQsP+wXdHg42wTqW85BjZQdLNNIXqlPw/BgKoExPmTG7ZLML4EGqLMfqHT6ON\", \"https://cdn.bokeh.org/bokeh/release/bokeh-tables-2.3.3.min.js\": \"8x57I4YuIfu8XyZfFo0XVr2WAT8EK4rh/uDe3wF7YuW2FNUSNEpJbsPaB1nJ2fz2\", \"https://cdn.bokeh.org/bokeh/release/bokeh-widgets-2.3.3.min.js\": \"3QTqdz9LyAm2i0sG5XTePsHec3UHWwVsrOL68SYRoAXsafvfAyqtQ+h440+qIBhS\"};\n",
       "\n",
       "    for (let i = 0; i < js_urls.length; i++) {\n",
       "      const url = js_urls[i];\n",
       "      const element = document.createElement('script');\n",
       "      element.onload = on_load;\n",
       "      element.onerror = on_error.bind(null, url);\n",
       "      element.async = false;\n",
       "      element.src = url;\n",
       "      if (url in hashes) {\n",
       "        element.crossOrigin = \"anonymous\";\n",
       "        element.integrity = \"sha384-\" + hashes[url];\n",
       "      }\n",
       "      console.debug(\"Bokeh: injecting script tag for BokehJS library: \", url);\n",
       "      document.head.appendChild(element);\n",
       "    }\n",
       "  };\n",
       "\n",
       "  function inject_raw_css(css) {\n",
       "    const element = document.createElement(\"style\");\n",
       "    element.appendChild(document.createTextNode(css));\n",
       "    document.body.appendChild(element);\n",
       "  }\n",
       "\n",
       "  \n",
       "  var js_urls = [\"https://cdn.bokeh.org/bokeh/release/bokeh-2.3.3.min.js\", \"https://cdn.bokeh.org/bokeh/release/bokeh-widgets-2.3.3.min.js\", \"https://cdn.bokeh.org/bokeh/release/bokeh-tables-2.3.3.min.js\"];\n",
       "  var css_urls = [];\n",
       "  \n",
       "\n",
       "  var inline_js = [\n",
       "    function(Bokeh) {\n",
       "      Bokeh.set_log_level(\"info\");\n",
       "    },\n",
       "    function(Bokeh) {\n",
       "    \n",
       "    \n",
       "    }\n",
       "  ];\n",
       "\n",
       "  function run_inline_js() {\n",
       "    \n",
       "    if (root.Bokeh !== undefined || force === true) {\n",
       "      \n",
       "    for (var i = 0; i < inline_js.length; i++) {\n",
       "      inline_js[i].call(root, root.Bokeh);\n",
       "    }\n",
       "    if (force === true) {\n",
       "        display_loaded();\n",
       "      }} else if (Date.now() < root._bokeh_timeout) {\n",
       "      setTimeout(run_inline_js, 100);\n",
       "    } else if (!root._bokeh_failed_load) {\n",
       "      console.log(\"Bokeh: BokehJS failed to load within specified timeout.\");\n",
       "      root._bokeh_failed_load = true;\n",
       "    } else if (force !== true) {\n",
       "      var cell = $(document.getElementById(\"1001\")).parents('.cell').data().cell;\n",
       "      cell.output_area.append_execute_result(NB_LOAD_WARNING)\n",
       "    }\n",
       "\n",
       "  }\n",
       "\n",
       "  if (root._bokeh_is_loading === 0) {\n",
       "    console.debug(\"Bokeh: BokehJS loaded, going straight to plotting\");\n",
       "    run_inline_js();\n",
       "  } else {\n",
       "    load_libs(css_urls, js_urls, function() {\n",
       "      console.debug(\"Bokeh: BokehJS plotting callback run at\", now());\n",
       "      run_inline_js();\n",
       "    });\n",
       "  }\n",
       "}(window));"
      ],
      "application/vnd.bokehjs_load.v0+json": "\n(function(root) {\n  function now() {\n    return new Date();\n  }\n\n  var force = true;\n\n  if (typeof root._bokeh_onload_callbacks === \"undefined\" || force === true) {\n    root._bokeh_onload_callbacks = [];\n    root._bokeh_is_loading = undefined;\n  }\n\n  \n\n  \n  if (typeof (root._bokeh_timeout) === \"undefined\" || force === true) {\n    root._bokeh_timeout = Date.now() + 5000;\n    root._bokeh_failed_load = false;\n  }\n\n  var NB_LOAD_WARNING = {'data': {'text/html':\n     \"<div style='background-color: #fdd'>\\n\"+\n     \"<p>\\n\"+\n     \"BokehJS does not appear to have successfully loaded. If loading BokehJS from CDN, this \\n\"+\n     \"may be due to a slow or bad network connection. Possible fixes:\\n\"+\n     \"</p>\\n\"+\n     \"<ul>\\n\"+\n     \"<li>re-rerun `output_notebook()` to attempt to load from CDN again, or</li>\\n\"+\n     \"<li>use INLINE resources instead, as so:</li>\\n\"+\n     \"</ul>\\n\"+\n     \"<code>\\n\"+\n     \"from bokeh.resources import INLINE\\n\"+\n     \"output_notebook(resources=INLINE)\\n\"+\n     \"</code>\\n\"+\n     \"</div>\"}};\n\n  function display_loaded() {\n    var el = document.getElementById(\"1001\");\n    if (el != null) {\n      el.textContent = \"BokehJS is loading...\";\n    }\n    if (root.Bokeh !== undefined) {\n      if (el != null) {\n        el.textContent = \"BokehJS \" + root.Bokeh.version + \" successfully loaded.\";\n      }\n    } else if (Date.now() < root._bokeh_timeout) {\n      setTimeout(display_loaded, 100)\n    }\n  }\n\n\n  function run_callbacks() {\n    try {\n      root._bokeh_onload_callbacks.forEach(function(callback) {\n        if (callback != null)\n          callback();\n      });\n    } finally {\n      delete root._bokeh_onload_callbacks\n    }\n    console.debug(\"Bokeh: all callbacks have finished\");\n  }\n\n  function load_libs(css_urls, js_urls, callback) {\n    if (css_urls == null) css_urls = [];\n    if (js_urls == null) js_urls = [];\n\n    root._bokeh_onload_callbacks.push(callback);\n    if (root._bokeh_is_loading > 0) {\n      console.debug(\"Bokeh: BokehJS is being loaded, scheduling callback at\", now());\n      return null;\n    }\n    if (js_urls == null || js_urls.length === 0) {\n      run_callbacks();\n      return null;\n    }\n    console.debug(\"Bokeh: BokehJS not loaded, scheduling load and callback at\", now());\n    root._bokeh_is_loading = css_urls.length + js_urls.length;\n\n    function on_load() {\n      root._bokeh_is_loading--;\n      if (root._bokeh_is_loading === 0) {\n        console.debug(\"Bokeh: all BokehJS libraries/stylesheets loaded\");\n        run_callbacks()\n      }\n    }\n\n    function on_error(url) {\n      console.error(\"failed to load \" + url);\n    }\n\n    for (let i = 0; i < css_urls.length; i++) {\n      const url = css_urls[i];\n      const element = document.createElement(\"link\");\n      element.onload = on_load;\n      element.onerror = on_error.bind(null, url);\n      element.rel = \"stylesheet\";\n      element.type = \"text/css\";\n      element.href = url;\n      console.debug(\"Bokeh: injecting link tag for BokehJS stylesheet: \", url);\n      document.body.appendChild(element);\n    }\n\n    const hashes = {\"https://cdn.bokeh.org/bokeh/release/bokeh-2.3.3.min.js\": \"dM3QQsP+wXdHg42wTqW85BjZQdLNNIXqlPw/BgKoExPmTG7ZLML4EGqLMfqHT6ON\", \"https://cdn.bokeh.org/bokeh/release/bokeh-tables-2.3.3.min.js\": \"8x57I4YuIfu8XyZfFo0XVr2WAT8EK4rh/uDe3wF7YuW2FNUSNEpJbsPaB1nJ2fz2\", \"https://cdn.bokeh.org/bokeh/release/bokeh-widgets-2.3.3.min.js\": \"3QTqdz9LyAm2i0sG5XTePsHec3UHWwVsrOL68SYRoAXsafvfAyqtQ+h440+qIBhS\"};\n\n    for (let i = 0; i < js_urls.length; i++) {\n      const url = js_urls[i];\n      const element = document.createElement('script');\n      element.onload = on_load;\n      element.onerror = on_error.bind(null, url);\n      element.async = false;\n      element.src = url;\n      if (url in hashes) {\n        element.crossOrigin = \"anonymous\";\n        element.integrity = \"sha384-\" + hashes[url];\n      }\n      console.debug(\"Bokeh: injecting script tag for BokehJS library: \", url);\n      document.head.appendChild(element);\n    }\n  };\n\n  function inject_raw_css(css) {\n    const element = document.createElement(\"style\");\n    element.appendChild(document.createTextNode(css));\n    document.body.appendChild(element);\n  }\n\n  \n  var js_urls = [\"https://cdn.bokeh.org/bokeh/release/bokeh-2.3.3.min.js\", \"https://cdn.bokeh.org/bokeh/release/bokeh-widgets-2.3.3.min.js\", \"https://cdn.bokeh.org/bokeh/release/bokeh-tables-2.3.3.min.js\"];\n  var css_urls = [];\n  \n\n  var inline_js = [\n    function(Bokeh) {\n      Bokeh.set_log_level(\"info\");\n    },\n    function(Bokeh) {\n    \n    \n    }\n  ];\n\n  function run_inline_js() {\n    \n    if (root.Bokeh !== undefined || force === true) {\n      \n    for (var i = 0; i < inline_js.length; i++) {\n      inline_js[i].call(root, root.Bokeh);\n    }\n    if (force === true) {\n        display_loaded();\n      }} else if (Date.now() < root._bokeh_timeout) {\n      setTimeout(run_inline_js, 100);\n    } else if (!root._bokeh_failed_load) {\n      console.log(\"Bokeh: BokehJS failed to load within specified timeout.\");\n      root._bokeh_failed_load = true;\n    } else if (force !== true) {\n      var cell = $(document.getElementById(\"1001\")).parents('.cell').data().cell;\n      cell.output_area.append_execute_result(NB_LOAD_WARNING)\n    }\n\n  }\n\n  if (root._bokeh_is_loading === 0) {\n    console.debug(\"Bokeh: BokehJS loaded, going straight to plotting\");\n    run_inline_js();\n  } else {\n    load_libs(css_urls, js_urls, function() {\n      console.debug(\"Bokeh: BokehJS plotting callback run at\", now());\n      run_inline_js();\n    });\n  }\n}(window));"
     },
     "metadata": {},
     "output_type": "display_data"
    }
   ],
   "source": [
    "#\n",
    "# Esta celda habilita la salida de los gráficos en jupyter lab.\n",
    "#\n",
    "from bokeh.io import output_notebook\n",
    "\n",
    "output_notebook()"
   ]
  },
  {
   "cell_type": "code",
   "execution_count": 3,
   "id": "f018af6b-bfe6-4db5-898f-7ec119b04fa1",
   "metadata": {},
   "outputs": [],
   "source": [
    "from bokeh.io import show\n",
    "from bokeh.plotting import figure"
   ]
  },
  {
   "cell_type": "code",
   "execution_count": 4,
   "id": "0c01e972-dbec-4115-ba60-9be92396e3d8",
   "metadata": {},
   "outputs": [
    {
     "data": {
      "text/html": [
       "\n",
       "\n",
       "\n",
       "\n",
       "\n",
       "\n",
       "  <div class=\"bk-root\" id=\"a7836e98-da13-45ec-bc31-8ca5e0827cc4\" data-root-id=\"1117\"></div>\n"
      ]
     },
     "metadata": {},
     "output_type": "display_data"
    },
    {
     "data": {
      "application/javascript": [
       "(function(root) {\n",
       "  function embed_document(root) {\n",
       "    \n",
       "  var docs_json = {\"a37ea1d1-a9fb-410c-b879-4e0119d65d8d\":{\"defs\":[],\"roots\":{\"references\":[{\"attributes\":{\"children\":[{\"id\":\"1116\"},{\"id\":\"1114\"}]},\"id\":\"1117\",\"type\":\"Column\"},{\"attributes\":{\"formatter\":{\"id\":\"1083\"},\"major_label_policy\":{\"id\":\"1084\"},\"ticker\":{\"id\":\"1013\"}},\"id\":\"1012\",\"type\":\"LinearAxis\"},{\"attributes\":{},\"id\":\"1106\",\"type\":\"AllLabels\"},{\"attributes\":{\"source\":{\"id\":\"1025\"}},\"id\":\"1029\",\"type\":\"CDSView\"},{\"attributes\":{},\"id\":\"1013\",\"type\":\"BasicTicker\"},{\"attributes\":{},\"id\":\"1108\",\"type\":\"BasicTickFormatter\"},{\"attributes\":{\"data_source\":{\"id\":\"1076\"},\"glyph\":{\"id\":\"1077\"},\"hover_glyph\":null,\"muted_glyph\":null,\"nonselection_glyph\":{\"id\":\"1078\"},\"view\":{\"id\":\"1080\"}},\"id\":\"1079\",\"type\":\"GlyphRenderer\"},{\"attributes\":{\"source\":{\"id\":\"1050\"}},\"id\":\"1054\",\"type\":\"CDSView\"},{\"attributes\":{\"axis\":{\"id\":\"1012\"},\"ticker\":null},\"id\":\"1015\",\"type\":\"Grid\"},{\"attributes\":{},\"id\":\"1109\",\"type\":\"AllLabels\"},{\"attributes\":{},\"id\":\"1061\",\"type\":\"LinearScale\"},{\"attributes\":{\"fill_alpha\":{\"value\":0.1},\"fill_color\":{\"value\":\"olive\"},\"line_alpha\":{\"value\":0.1},\"line_color\":{\"value\":\"olive\"},\"marker\":{\"value\":\"square\"},\"size\":{\"value\":10},\"x\":{\"field\":\"x\"},\"y\":{\"field\":\"y\"}},\"id\":\"1078\",\"type\":\"Scatter\"},{\"attributes\":{\"formatter\":{\"id\":\"1086\"},\"major_label_policy\":{\"id\":\"1087\"},\"ticker\":{\"id\":\"1017\"}},\"id\":\"1016\",\"type\":\"LinearAxis\"},{\"attributes\":{},\"id\":\"1111\",\"type\":\"UnionRenderers\"},{\"attributes\":{\"source\":{\"id\":\"1076\"}},\"id\":\"1080\",\"type\":\"CDSView\"},{\"attributes\":{\"data\":{\"x\":[0,1,2,3,4,5,6,7,8,9,10],\"y\":[5,4,3,2,1,0,1,2,3,4,5]},\"selected\":{\"id\":\"1112\"},\"selection_policy\":{\"id\":\"1111\"}},\"id\":\"1076\",\"type\":\"ColumnDataSource\"},{\"attributes\":{},\"id\":\"1035\",\"type\":\"LinearScale\"},{\"attributes\":{},\"id\":\"1017\",\"type\":\"BasicTicker\"},{\"attributes\":{},\"id\":\"1112\",\"type\":\"Selection\"},{\"attributes\":{\"below\":[{\"id\":\"1037\"}],\"center\":[{\"id\":\"1040\"},{\"id\":\"1044\"}],\"height\":250,\"left\":[{\"id\":\"1041\"}],\"renderers\":[{\"id\":\"1053\"}],\"title\":{\"id\":\"1093\"},\"toolbar\":{\"id\":\"1047\"},\"toolbar_location\":null,\"width\":250,\"x_range\":{\"id\":\"1004\"},\"x_scale\":{\"id\":\"1033\"},\"y_range\":{\"id\":\"1006\"},\"y_scale\":{\"id\":\"1035\"}},\"id\":\"1030\",\"subtype\":\"Figure\",\"type\":\"Plot\"},{\"attributes\":{\"toolbars\":[{\"id\":\"1022\"},{\"id\":\"1047\"},{\"id\":\"1073\"}],\"tools\":[{\"id\":\"1020\"},{\"id\":\"1021\"},{\"id\":\"1045\"},{\"id\":\"1046\"},{\"id\":\"1071\"},{\"id\":\"1072\"}]},\"id\":\"1115\",\"type\":\"ProxyToolbar\"},{\"attributes\":{},\"id\":\"1082\",\"type\":\"Title\"},{\"attributes\":{\"axis\":{\"id\":\"1016\"},\"dimension\":1,\"ticker\":null},\"id\":\"1019\",\"type\":\"Grid\"},{\"attributes\":{\"data_source\":{\"id\":\"1050\"},\"glyph\":{\"id\":\"1051\"},\"hover_glyph\":null,\"muted_glyph\":null,\"nonselection_glyph\":{\"id\":\"1052\"},\"view\":{\"id\":\"1054\"}},\"id\":\"1053\",\"type\":\"GlyphRenderer\"},{\"attributes\":{\"formatter\":{\"id\":\"1094\"},\"major_label_policy\":{\"id\":\"1095\"},\"ticker\":{\"id\":\"1038\"}},\"id\":\"1037\",\"type\":\"LinearAxis\"},{\"attributes\":{},\"id\":\"1038\",\"type\":\"BasicTicker\"},{\"attributes\":{\"toolbar\":{\"id\":\"1115\"},\"toolbar_location\":\"above\"},\"id\":\"1116\",\"type\":\"ToolbarBox\"},{\"attributes\":{},\"id\":\"1057\",\"type\":\"DataRange1d\"},{\"attributes\":{\"axis\":{\"id\":\"1037\"},\"ticker\":null},\"id\":\"1040\",\"type\":\"Grid\"},{\"attributes\":{},\"id\":\"1020\",\"type\":\"PanTool\"},{\"attributes\":{},\"id\":\"1083\",\"type\":\"BasicTickFormatter\"},{\"attributes\":{},\"id\":\"1064\",\"type\":\"BasicTicker\"},{\"attributes\":{\"formatter\":{\"id\":\"1097\"},\"major_label_policy\":{\"id\":\"1098\"},\"ticker\":{\"id\":\"1042\"}},\"id\":\"1041\",\"type\":\"LinearAxis\"},{\"attributes\":{},\"id\":\"1021\",\"type\":\"WheelZoomTool\"},{\"attributes\":{\"axis\":{\"id\":\"1063\"},\"ticker\":null},\"id\":\"1066\",\"type\":\"Grid\"},{\"attributes\":{},\"id\":\"1084\",\"type\":\"AllLabels\"},{\"attributes\":{},\"id\":\"1086\",\"type\":\"BasicTickFormatter\"},{\"attributes\":{\"formatter\":{\"id\":\"1108\"},\"major_label_policy\":{\"id\":\"1109\"},\"ticker\":{\"id\":\"1068\"}},\"id\":\"1067\",\"type\":\"LinearAxis\"},{\"attributes\":{\"fill_alpha\":{\"value\":0.1},\"fill_color\":{\"value\":\"firebrick\"},\"line_alpha\":{\"value\":0.1},\"line_color\":{\"value\":\"firebrick\"},\"marker\":{\"value\":\"triangle\"},\"size\":{\"value\":10},\"x\":{\"field\":\"x\"},\"y\":{\"field\":\"y\"}},\"id\":\"1052\",\"type\":\"Scatter\"},{\"attributes\":{},\"id\":\"1042\",\"type\":\"BasicTicker\"},{\"attributes\":{\"active_multi\":null,\"tools\":[{\"id\":\"1020\"},{\"id\":\"1021\"}]},\"id\":\"1022\",\"type\":\"Toolbar\"},{\"attributes\":{\"axis\":{\"id\":\"1041\"},\"dimension\":1,\"ticker\":null},\"id\":\"1044\",\"type\":\"Grid\"},{\"attributes\":{},\"id\":\"1087\",\"type\":\"AllLabels\"},{\"attributes\":{},\"id\":\"1068\",\"type\":\"BasicTicker\"},{\"attributes\":{\"fill_color\":{\"value\":\"firebrick\"},\"line_color\":{\"value\":\"firebrick\"},\"marker\":{\"value\":\"triangle\"},\"size\":{\"value\":10},\"x\":{\"field\":\"x\"},\"y\":{\"field\":\"y\"}},\"id\":\"1051\",\"type\":\"Scatter\"},{\"attributes\":{},\"id\":\"1098\",\"type\":\"AllLabels\"},{\"attributes\":{},\"id\":\"1089\",\"type\":\"UnionRenderers\"},{\"attributes\":{\"axis\":{\"id\":\"1067\"},\"dimension\":1,\"ticker\":null},\"id\":\"1070\",\"type\":\"Grid\"},{\"attributes\":{},\"id\":\"1045\",\"type\":\"PanTool\"},{\"attributes\":{},\"id\":\"1071\",\"type\":\"PanTool\"},{\"attributes\":{},\"id\":\"1090\",\"type\":\"Selection\"},{\"attributes\":{\"data\":{\"x\":[0,1,2,3,4,5,6,7,8,9,10],\"y\":[0,1,2,3,4,5,6,7,8,9,10]},\"selected\":{\"id\":\"1090\"},\"selection_policy\":{\"id\":\"1089\"}},\"id\":\"1025\",\"type\":\"ColumnDataSource\"},{\"attributes\":{\"data\":{\"x\":[0,1,2,3,4,5,6,7,8,9,10],\"y\":[10,9,8,7,6,5,4,3,2,1,0]},\"selected\":{\"id\":\"1101\"},\"selection_policy\":{\"id\":\"1100\"}},\"id\":\"1050\",\"type\":\"ColumnDataSource\"},{\"attributes\":{},\"id\":\"1046\",\"type\":\"WheelZoomTool\"},{\"attributes\":{},\"id\":\"1072\",\"type\":\"WheelZoomTool\"},{\"attributes\":{\"below\":[{\"id\":\"1012\"}],\"center\":[{\"id\":\"1015\"},{\"id\":\"1019\"}],\"height\":250,\"left\":[{\"id\":\"1016\"}],\"renderers\":[{\"id\":\"1028\"}],\"title\":{\"id\":\"1082\"},\"toolbar\":{\"id\":\"1022\"},\"toolbar_location\":null,\"width\":250,\"x_range\":{\"id\":\"1004\"},\"x_scale\":{\"id\":\"1008\"},\"y_range\":{\"id\":\"1006\"},\"y_scale\":{\"id\":\"1010\"}},\"id\":\"1003\",\"subtype\":\"Figure\",\"type\":\"Plot\"},{\"attributes\":{\"below\":[{\"id\":\"1063\"}],\"center\":[{\"id\":\"1066\"},{\"id\":\"1070\"}],\"height\":250,\"left\":[{\"id\":\"1067\"}],\"renderers\":[{\"id\":\"1079\"}],\"title\":{\"id\":\"1104\"},\"toolbar\":{\"id\":\"1073\"},\"toolbar_location\":null,\"width\":250,\"x_range\":{\"id\":\"1004\"},\"x_scale\":{\"id\":\"1059\"},\"y_range\":{\"id\":\"1057\"},\"y_scale\":{\"id\":\"1061\"}},\"id\":\"1055\",\"subtype\":\"Figure\",\"type\":\"Plot\"},{\"attributes\":{},\"id\":\"1093\",\"type\":\"Title\"},{\"attributes\":{},\"id\":\"1006\",\"type\":\"DataRange1d\"},{\"attributes\":{\"formatter\":{\"id\":\"1105\"},\"major_label_policy\":{\"id\":\"1106\"},\"ticker\":{\"id\":\"1064\"}},\"id\":\"1063\",\"type\":\"LinearAxis\"},{\"attributes\":{},\"id\":\"1094\",\"type\":\"BasicTickFormatter\"},{\"attributes\":{\"active_multi\":null,\"tools\":[{\"id\":\"1045\"},{\"id\":\"1046\"}]},\"id\":\"1047\",\"type\":\"Toolbar\"},{\"attributes\":{},\"id\":\"1004\",\"type\":\"DataRange1d\"},{\"attributes\":{\"data_source\":{\"id\":\"1025\"},\"glyph\":{\"id\":\"1026\"},\"hover_glyph\":null,\"muted_glyph\":null,\"nonselection_glyph\":{\"id\":\"1027\"},\"view\":{\"id\":\"1029\"}},\"id\":\"1028\",\"type\":\"GlyphRenderer\"},{\"attributes\":{},\"id\":\"1033\",\"type\":\"LinearScale\"},{\"attributes\":{},\"id\":\"1095\",\"type\":\"AllLabels\"},{\"attributes\":{\"active_multi\":null,\"tools\":[{\"id\":\"1071\"},{\"id\":\"1072\"}]},\"id\":\"1073\",\"type\":\"Toolbar\"},{\"attributes\":{\"fill_color\":{\"value\":\"olive\"},\"line_color\":{\"value\":\"olive\"},\"marker\":{\"value\":\"square\"},\"size\":{\"value\":10},\"x\":{\"field\":\"x\"},\"y\":{\"field\":\"y\"}},\"id\":\"1077\",\"type\":\"Scatter\"},{\"attributes\":{},\"id\":\"1105\",\"type\":\"BasicTickFormatter\"},{\"attributes\":{},\"id\":\"1104\",\"type\":\"Title\"},{\"attributes\":{\"fill_alpha\":{\"value\":0.1},\"fill_color\":{\"value\":\"navy\"},\"line_alpha\":{\"value\":0.1},\"line_color\":{\"value\":\"navy\"},\"size\":{\"value\":10},\"x\":{\"field\":\"x\"},\"y\":{\"field\":\"y\"}},\"id\":\"1027\",\"type\":\"Circle\"},{\"attributes\":{},\"id\":\"1097\",\"type\":\"BasicTickFormatter\"},{\"attributes\":{\"children\":[[{\"id\":\"1003\"},0,0],[{\"id\":\"1030\"},0,1],[{\"id\":\"1055\"},0,2]]},\"id\":\"1114\",\"type\":\"GridBox\"},{\"attributes\":{},\"id\":\"1008\",\"type\":\"LinearScale\"},{\"attributes\":{},\"id\":\"1101\",\"type\":\"Selection\"},{\"attributes\":{},\"id\":\"1059\",\"type\":\"LinearScale\"},{\"attributes\":{\"fill_color\":{\"value\":\"navy\"},\"line_color\":{\"value\":\"navy\"},\"size\":{\"value\":10},\"x\":{\"field\":\"x\"},\"y\":{\"field\":\"y\"}},\"id\":\"1026\",\"type\":\"Circle\"},{\"attributes\":{},\"id\":\"1010\",\"type\":\"LinearScale\"},{\"attributes\":{},\"id\":\"1100\",\"type\":\"UnionRenderers\"}],\"root_ids\":[\"1117\"]},\"title\":\"Bokeh Application\",\"version\":\"2.3.3\"}};\n",
       "  var render_items = [{\"docid\":\"a37ea1d1-a9fb-410c-b879-4e0119d65d8d\",\"root_ids\":[\"1117\"],\"roots\":{\"1117\":\"a7836e98-da13-45ec-bc31-8ca5e0827cc4\"}}];\n",
       "  root.Bokeh.embed.embed_items_notebook(docs_json, render_items);\n",
       "\n",
       "  }\n",
       "  if (root.Bokeh !== undefined) {\n",
       "    embed_document(root);\n",
       "  } else {\n",
       "    var attempts = 0;\n",
       "    var timer = setInterval(function(root) {\n",
       "      if (root.Bokeh !== undefined) {\n",
       "        clearInterval(timer);\n",
       "        embed_document(root);\n",
       "      } else {\n",
       "        attempts++;\n",
       "        if (attempts > 100) {\n",
       "          clearInterval(timer);\n",
       "          console.log(\"Bokeh: ERROR: Unable to run BokehJS code because BokehJS library is missing\");\n",
       "        }\n",
       "      }\n",
       "    }, 10, root)\n",
       "  }\n",
       "})(window);"
      ],
      "application/vnd.bokehjs_exec.v0+json": ""
     },
     "metadata": {
      "application/vnd.bokehjs_exec.v0+json": {
       "id": "1117"
      }
     },
     "output_type": "display_data"
    }
   ],
   "source": [
    "from bokeh.layouts import gridplot\n",
    "\n",
    "x = list(range(11))\n",
    "y0, y1, y2 = x, [10 - i for i in x], [abs(i - 5) for i in x]\n",
    "\n",
    "plot_options = dict(width=250, plot_height=250, tools=\"pan,wheel_zoom\")\n",
    "\n",
    "s1 = figure(**plot_options)\n",
    "s1.circle(x, y0, size=10, color=\"navy\")\n",
    "\n",
    "s2 = figure(x_range=s1.x_range, y_range=s1.y_range, **plot_options)\n",
    "s2.triangle(x, y1, size=10, color=\"firebrick\")\n",
    "\n",
    "s3 = figure(x_range=s1.x_range, **plot_options)\n",
    "s3.square(x, y2, size=10, color=\"olive\")\n",
    "\n",
    "p = gridplot([[s1, s2, s3]])\n",
    "\n",
    "show(p)"
   ]
  },
  {
   "cell_type": "code",
   "execution_count": 5,
   "id": "b193ce8c-3b6a-4e06-a151-91e2bb412814",
   "metadata": {},
   "outputs": [
    {
     "data": {
      "text/html": [
       "\n",
       "\n",
       "\n",
       "\n",
       "\n",
       "\n",
       "  <div class=\"bk-root\" id=\"f835bfa8-6e28-4a79-aa42-2650da0d8e6c\" data-root-id=\"1390\"></div>\n"
      ]
     },
     "metadata": {},
     "output_type": "display_data"
    },
    {
     "data": {
      "application/javascript": [
       "(function(root) {\n",
       "  function embed_document(root) {\n",
       "    \n",
       "  var docs_json = {\"55a542ac-d6ac-4a5c-80b9-474b499ce97e\":{\"defs\":[],\"roots\":{\"references\":[{\"attributes\":{\"children\":[{\"id\":\"1389\"},{\"id\":\"1387\"}]},\"id\":\"1390\",\"type\":\"Column\"},{\"attributes\":{\"bottom_units\":\"screen\",\"fill_alpha\":0.5,\"fill_color\":\"lightgrey\",\"left_units\":\"screen\",\"level\":\"overlay\",\"line_alpha\":1.0,\"line_color\":\"black\",\"line_dash\":[4,4],\"line_width\":2,\"right_units\":\"screen\",\"syncable\":false,\"top_units\":\"screen\"},\"id\":\"1350\",\"type\":\"BoxAnnotation\"},{\"attributes\":{},\"id\":\"1333\",\"type\":\"DataRange1d\"},{\"attributes\":{},\"id\":\"1313\",\"type\":\"BasicTicker\"},{\"attributes\":{\"fill_alpha\":0.5,\"fill_color\":\"lightgrey\",\"level\":\"overlay\",\"line_alpha\":1.0,\"line_color\":\"black\",\"line_dash\":[4,4],\"line_width\":2,\"syncable\":false,\"xs_units\":\"screen\",\"ys_units\":\"screen\"},\"id\":\"1351\",\"type\":\"PolyAnnotation\"},{\"attributes\":{},\"id\":\"1335\",\"type\":\"LinearScale\"},{\"attributes\":{\"axis\":{\"id\":\"1312\"},\"dimension\":1,\"ticker\":null},\"id\":\"1315\",\"type\":\"Grid\"},{\"attributes\":{},\"id\":\"1337\",\"type\":\"LinearScale\"},{\"attributes\":{\"data_source\":{\"id\":\"1298\"},\"glyph\":{\"id\":\"1326\"},\"hover_glyph\":null,\"muted_glyph\":null,\"nonselection_glyph\":{\"id\":\"1327\"},\"view\":{\"id\":\"1329\"}},\"id\":\"1328\",\"type\":\"GlyphRenderer\"},{\"attributes\":{\"data_source\":{\"id\":\"1298\"},\"glyph\":{\"id\":\"1357\"},\"hover_glyph\":null,\"muted_glyph\":null,\"nonselection_glyph\":{\"id\":\"1358\"},\"view\":{\"id\":\"1360\"}},\"id\":\"1359\",\"type\":\"GlyphRenderer\"},{\"attributes\":{\"formatter\":{\"id\":\"1376\"},\"major_label_policy\":{\"id\":\"1377\"},\"ticker\":{\"id\":\"1340\"}},\"id\":\"1339\",\"type\":\"LinearAxis\"},{\"attributes\":{\"overlay\":{\"id\":\"1319\"}},\"id\":\"1316\",\"type\":\"BoxSelectTool\"},{\"attributes\":{\"fill_alpha\":{\"value\":0.1},\"fill_color\":{\"value\":\"#1f77b4\"},\"line_alpha\":{\"value\":0.1},\"line_color\":{\"value\":\"#1f77b4\"},\"x\":{\"field\":\"x\"},\"y\":{\"field\":\"y1\"}},\"id\":\"1358\",\"type\":\"Circle\"},{\"attributes\":{\"fill_alpha\":0.5,\"fill_color\":\"lightgrey\",\"level\":\"overlay\",\"line_alpha\":1.0,\"line_color\":\"black\",\"line_dash\":[4,4],\"line_width\":2,\"syncable\":false,\"xs_units\":\"screen\",\"ys_units\":\"screen\"},\"id\":\"1320\",\"type\":\"PolyAnnotation\"},{\"attributes\":{},\"id\":\"1340\",\"type\":\"BasicTicker\"},{\"attributes\":{\"overlay\":{\"id\":\"1320\"}},\"id\":\"1317\",\"type\":\"LassoSelectTool\"},{\"attributes\":{\"source\":{\"id\":\"1298\"}},\"id\":\"1360\",\"type\":\"CDSView\"},{\"attributes\":{\"axis\":{\"id\":\"1339\"},\"ticker\":null},\"id\":\"1342\",\"type\":\"Grid\"},{\"attributes\":{},\"id\":\"1318\",\"type\":\"HelpTool\"},{\"attributes\":{},\"id\":\"1362\",\"type\":\"Title\"},{\"attributes\":{\"formatter\":{\"id\":\"1379\"},\"major_label_policy\":{\"id\":\"1380\"},\"ticker\":{\"id\":\"1344\"}},\"id\":\"1343\",\"type\":\"LinearAxis\"},{\"attributes\":{},\"id\":\"1344\",\"type\":\"BasicTicker\"},{\"attributes\":{\"bottom_units\":\"screen\",\"fill_alpha\":0.5,\"fill_color\":\"lightgrey\",\"left_units\":\"screen\",\"level\":\"overlay\",\"line_alpha\":1.0,\"line_color\":\"black\",\"line_dash\":[4,4],\"line_width\":2,\"right_units\":\"screen\",\"syncable\":false,\"top_units\":\"screen\"},\"id\":\"1319\",\"type\":\"BoxAnnotation\"},{\"attributes\":{},\"id\":\"1363\",\"type\":\"BasicTickFormatter\"},{\"attributes\":{\"axis\":{\"id\":\"1343\"},\"dimension\":1,\"ticker\":null},\"id\":\"1346\",\"type\":\"Grid\"},{\"attributes\":{\"fill_color\":{\"value\":\"#1f77b4\"},\"line_color\":{\"value\":\"#1f77b4\"},\"x\":{\"field\":\"x\"},\"y\":{\"field\":\"y0\"}},\"id\":\"1326\",\"type\":\"Circle\"},{\"attributes\":{\"data\":{\"x\":[-20,-19,-18,-17,-16,-15,-14,-13,-12,-11,-10,-9,-8,-7,-6,-5,-4,-3,-2,-1,0,1,2,3,4,5,6,7,8,9,10,11,12,13,14,15,16,17,18,19,20],\"y0\":[20,19,18,17,16,15,14,13,12,11,10,9,8,7,6,5,4,3,2,1,0,1,2,3,4,5,6,7,8,9,10,11,12,13,14,15,16,17,18,19,20],\"y1\":[400,361,324,289,256,225,196,169,144,121,100,81,64,49,36,25,16,9,4,1,0,1,4,9,16,25,36,49,64,81,100,121,144,169,196,225,256,289,324,361,400]},\"selected\":{\"id\":\"1370\"},\"selection_policy\":{\"id\":\"1369\"}},\"id\":\"1298\",\"type\":\"ColumnDataSource\"},{\"attributes\":{},\"id\":\"1364\",\"type\":\"AllLabels\"},{\"attributes\":{\"children\":[[{\"id\":\"1299\"},0,0],[{\"id\":\"1330\"},0,1]]},\"id\":\"1387\",\"type\":\"GridBox\"},{\"attributes\":{\"toolbar\":{\"id\":\"1388\"},\"toolbar_location\":\"above\"},\"id\":\"1389\",\"type\":\"ToolbarBox\"},{\"attributes\":{\"active_multi\":null,\"tools\":[{\"id\":\"1316\"},{\"id\":\"1317\"},{\"id\":\"1318\"}]},\"id\":\"1321\",\"type\":\"Toolbar\"},{\"attributes\":{\"below\":[{\"id\":\"1339\"}],\"center\":[{\"id\":\"1342\"},{\"id\":\"1346\"}],\"height\":300,\"left\":[{\"id\":\"1343\"}],\"renderers\":[{\"id\":\"1359\"}],\"title\":{\"id\":\"1375\"},\"toolbar\":{\"id\":\"1352\"},\"toolbar_location\":null,\"width\":300,\"x_range\":{\"id\":\"1331\"},\"x_scale\":{\"id\":\"1335\"},\"y_range\":{\"id\":\"1333\"},\"y_scale\":{\"id\":\"1337\"}},\"id\":\"1330\",\"subtype\":\"Figure\",\"type\":\"Plot\"},{\"attributes\":{},\"id\":\"1366\",\"type\":\"BasicTickFormatter\"},{\"attributes\":{\"overlay\":{\"id\":\"1350\"}},\"id\":\"1347\",\"type\":\"BoxSelectTool\"},{\"attributes\":{},\"id\":\"1300\",\"type\":\"DataRange1d\"},{\"attributes\":{},\"id\":\"1375\",\"type\":\"Title\"},{\"attributes\":{},\"id\":\"1367\",\"type\":\"AllLabels\"},{\"attributes\":{\"overlay\":{\"id\":\"1351\"}},\"id\":\"1348\",\"type\":\"LassoSelectTool\"},{\"attributes\":{\"formatter\":{\"id\":\"1366\"},\"major_label_policy\":{\"id\":\"1367\"},\"ticker\":{\"id\":\"1313\"}},\"id\":\"1312\",\"type\":\"LinearAxis\"},{\"attributes\":{},\"id\":\"1369\",\"type\":\"UnionRenderers\"},{\"attributes\":{\"below\":[{\"id\":\"1308\"}],\"center\":[{\"id\":\"1311\"},{\"id\":\"1315\"}],\"height\":300,\"left\":[{\"id\":\"1312\"}],\"renderers\":[{\"id\":\"1328\"}],\"title\":{\"id\":\"1362\"},\"toolbar\":{\"id\":\"1321\"},\"toolbar_location\":null,\"width\":300,\"x_range\":{\"id\":\"1300\"},\"x_scale\":{\"id\":\"1304\"},\"y_range\":{\"id\":\"1302\"},\"y_scale\":{\"id\":\"1306\"}},\"id\":\"1299\",\"subtype\":\"Figure\",\"type\":\"Plot\"},{\"attributes\":{},\"id\":\"1349\",\"type\":\"HelpTool\"},{\"attributes\":{\"axis\":{\"id\":\"1308\"},\"ticker\":null},\"id\":\"1311\",\"type\":\"Grid\"},{\"attributes\":{},\"id\":\"1370\",\"type\":\"Selection\"},{\"attributes\":{\"active_multi\":null,\"tools\":[{\"id\":\"1347\"},{\"id\":\"1348\"},{\"id\":\"1349\"}]},\"id\":\"1352\",\"type\":\"Toolbar\"},{\"attributes\":{},\"id\":\"1306\",\"type\":\"LinearScale\"},{\"attributes\":{\"fill_alpha\":{\"value\":0.1},\"fill_color\":{\"value\":\"#1f77b4\"},\"line_alpha\":{\"value\":0.1},\"line_color\":{\"value\":\"#1f77b4\"},\"x\":{\"field\":\"x\"},\"y\":{\"field\":\"y0\"}},\"id\":\"1327\",\"type\":\"Circle\"},{\"attributes\":{},\"id\":\"1376\",\"type\":\"BasicTickFormatter\"},{\"attributes\":{},\"id\":\"1302\",\"type\":\"DataRange1d\"},{\"attributes\":{\"source\":{\"id\":\"1298\"}},\"id\":\"1329\",\"type\":\"CDSView\"},{\"attributes\":{},\"id\":\"1380\",\"type\":\"AllLabels\"},{\"attributes\":{},\"id\":\"1304\",\"type\":\"LinearScale\"},{\"attributes\":{},\"id\":\"1379\",\"type\":\"BasicTickFormatter\"},{\"attributes\":{\"fill_color\":{\"value\":\"#1f77b4\"},\"line_color\":{\"value\":\"#1f77b4\"},\"x\":{\"field\":\"x\"},\"y\":{\"field\":\"y1\"}},\"id\":\"1357\",\"type\":\"Circle\"},{\"attributes\":{},\"id\":\"1309\",\"type\":\"BasicTicker\"},{\"attributes\":{},\"id\":\"1377\",\"type\":\"AllLabels\"},{\"attributes\":{\"toolbars\":[{\"id\":\"1321\"},{\"id\":\"1352\"}],\"tools\":[{\"id\":\"1316\"},{\"id\":\"1317\"},{\"id\":\"1318\"},{\"id\":\"1347\"},{\"id\":\"1348\"},{\"id\":\"1349\"}]},\"id\":\"1388\",\"type\":\"ProxyToolbar\"},{\"attributes\":{\"formatter\":{\"id\":\"1363\"},\"major_label_policy\":{\"id\":\"1364\"},\"ticker\":{\"id\":\"1309\"}},\"id\":\"1308\",\"type\":\"LinearAxis\"},{\"attributes\":{},\"id\":\"1331\",\"type\":\"DataRange1d\"}],\"root_ids\":[\"1390\"]},\"title\":\"Bokeh Application\",\"version\":\"2.3.3\"}};\n",
       "  var render_items = [{\"docid\":\"55a542ac-d6ac-4a5c-80b9-474b499ce97e\",\"root_ids\":[\"1390\"],\"roots\":{\"1390\":\"f835bfa8-6e28-4a79-aa42-2650da0d8e6c\"}}];\n",
       "  root.Bokeh.embed.embed_items_notebook(docs_json, render_items);\n",
       "\n",
       "  }\n",
       "  if (root.Bokeh !== undefined) {\n",
       "    embed_document(root);\n",
       "  } else {\n",
       "    var attempts = 0;\n",
       "    var timer = setInterval(function(root) {\n",
       "      if (root.Bokeh !== undefined) {\n",
       "        clearInterval(timer);\n",
       "        embed_document(root);\n",
       "      } else {\n",
       "        attempts++;\n",
       "        if (attempts > 100) {\n",
       "          clearInterval(timer);\n",
       "          console.log(\"Bokeh: ERROR: Unable to run BokehJS code because BokehJS library is missing\");\n",
       "        }\n",
       "      }\n",
       "    }, 10, root)\n",
       "  }\n",
       "})(window);"
      ],
      "application/vnd.bokehjs_exec.v0+json": ""
     },
     "metadata": {
      "application/vnd.bokehjs_exec.v0+json": {
       "id": "1390"
      }
     },
     "output_type": "display_data"
    }
   ],
   "source": [
    "from bokeh.models import ColumnDataSource\n",
    "\n",
    "x = list(range(-20, 21))\n",
    "y0, y1 = [abs(xx) for xx in x], [xx ** 2 for xx in x]\n",
    "\n",
    "source = ColumnDataSource(data=dict(x=x, y0=y0, y1=y1))\n",
    "\n",
    "TOOLS = \"box_select,lasso_select,help\"\n",
    "\n",
    "left = figure(tools=TOOLS, width=300, height=300)\n",
    "left.circle(\"x\", \"y0\", source=source)\n",
    "\n",
    "right = figure(tools=TOOLS, width=300, height=300)\n",
    "right.circle(\"x\", \"y1\", source=source)\n",
    "\n",
    "p = gridplot([[left, right]])\n",
    "\n",
    "show(p)"
   ]
  },
  {
   "cell_type": "code",
   "execution_count": 6,
   "id": "648b255f-17ef-4c2f-a06b-72824087915a",
   "metadata": {},
   "outputs": [
    {
     "data": {
      "text/html": [
       "\n",
       "\n",
       "\n",
       "\n",
       "\n",
       "\n",
       "  <div class=\"bk-root\" id=\"ba9af8af-ce99-43eb-9dd9-e16caa4217e8\" data-root-id=\"1555\"></div>\n"
      ]
     },
     "metadata": {},
     "output_type": "display_data"
    },
    {
     "data": {
      "application/javascript": [
       "(function(root) {\n",
       "  function embed_document(root) {\n",
       "    \n",
       "  var docs_json = {\"1fc3319f-4eb8-43c6-a2c6-7fe0ce747f04\":{\"defs\":[],\"roots\":{\"references\":[{\"attributes\":{\"below\":[{\"id\":\"1566\"}],\"center\":[{\"id\":\"1569\"},{\"id\":\"1573\"}],\"height\":300,\"left\":[{\"id\":\"1570\"}],\"renderers\":[{\"id\":\"1579\"}],\"title\":{\"id\":\"1556\"},\"toolbar\":{\"id\":\"1574\"},\"width\":300,\"x_range\":{\"id\":\"1558\"},\"x_scale\":{\"id\":\"1562\"},\"y_range\":{\"id\":\"1560\"},\"y_scale\":{\"id\":\"1564\"}},\"id\":\"1555\",\"subtype\":\"Figure\",\"type\":\"Plot\"},{\"attributes\":{\"text\":\"Mouse over the dots\"},\"id\":\"1556\",\"type\":\"Title\"},{\"attributes\":{},\"id\":\"1562\",\"type\":\"LinearScale\"},{\"attributes\":{\"data_source\":{\"id\":\"1553\"},\"glyph\":{\"id\":\"1577\"},\"hover_glyph\":null,\"muted_glyph\":null,\"nonselection_glyph\":{\"id\":\"1578\"},\"view\":{\"id\":\"1580\"}},\"id\":\"1579\",\"type\":\"GlyphRenderer\"},{\"attributes\":{},\"id\":\"1560\",\"type\":\"DataRange1d\"},{\"attributes\":{},\"id\":\"1637\",\"type\":\"BasicTickFormatter\"},{\"attributes\":{},\"id\":\"1558\",\"type\":\"DataRange1d\"},{\"attributes\":{},\"id\":\"1638\",\"type\":\"AllLabels\"},{\"attributes\":{},\"id\":\"1564\",\"type\":\"LinearScale\"},{\"attributes\":{},\"id\":\"1567\",\"type\":\"BasicTicker\"},{\"attributes\":{\"formatter\":{\"id\":\"1634\"},\"major_label_policy\":{\"id\":\"1635\"},\"ticker\":{\"id\":\"1567\"}},\"id\":\"1566\",\"type\":\"LinearAxis\"},{\"attributes\":{\"axis\":{\"id\":\"1566\"},\"ticker\":null},\"id\":\"1569\",\"type\":\"Grid\"},{\"attributes\":{},\"id\":\"1571\",\"type\":\"BasicTicker\"},{\"attributes\":{},\"id\":\"1640\",\"type\":\"UnionRenderers\"},{\"attributes\":{},\"id\":\"1641\",\"type\":\"Selection\"},{\"attributes\":{\"formatter\":{\"id\":\"1637\"},\"major_label_policy\":{\"id\":\"1638\"},\"ticker\":{\"id\":\"1571\"}},\"id\":\"1570\",\"type\":\"LinearAxis\"},{\"attributes\":{\"axis\":{\"id\":\"1570\"},\"dimension\":1,\"ticker\":null},\"id\":\"1573\",\"type\":\"Grid\"},{\"attributes\":{\"callback\":null,\"tooltips\":[[\"index\",\"$index\"],[\"(x,y)\",\"($x, $y)\"],[\"desc\",\"@desc\"]]},\"id\":\"1554\",\"type\":\"HoverTool\"},{\"attributes\":{\"fill_alpha\":{\"value\":0.1},\"fill_color\":{\"value\":\"#1f77b4\"},\"line_alpha\":{\"value\":0.1},\"line_color\":{\"value\":\"#1f77b4\"},\"size\":{\"value\":20},\"x\":{\"field\":\"x\"},\"y\":{\"field\":\"y\"}},\"id\":\"1578\",\"type\":\"Circle\"},{\"attributes\":{},\"id\":\"1634\",\"type\":\"BasicTickFormatter\"},{\"attributes\":{},\"id\":\"1635\",\"type\":\"AllLabels\"},{\"attributes\":{\"fill_color\":{\"value\":\"#1f77b4\"},\"line_color\":{\"value\":\"#1f77b4\"},\"size\":{\"value\":20},\"x\":{\"field\":\"x\"},\"y\":{\"field\":\"y\"}},\"id\":\"1577\",\"type\":\"Circle\"},{\"attributes\":{\"data\":{\"desc\":[\"A\",\"b\",\"C\",\"d\",\"E\"],\"x\":[1,2,3,4,5],\"y\":[2,5,8,2,7]},\"selected\":{\"id\":\"1641\"},\"selection_policy\":{\"id\":\"1640\"}},\"id\":\"1553\",\"type\":\"ColumnDataSource\"},{\"attributes\":{\"active_multi\":null,\"tools\":[{\"id\":\"1554\"}]},\"id\":\"1574\",\"type\":\"Toolbar\"},{\"attributes\":{\"source\":{\"id\":\"1553\"}},\"id\":\"1580\",\"type\":\"CDSView\"}],\"root_ids\":[\"1555\"]},\"title\":\"Bokeh Application\",\"version\":\"2.3.3\"}};\n",
       "  var render_items = [{\"docid\":\"1fc3319f-4eb8-43c6-a2c6-7fe0ce747f04\",\"root_ids\":[\"1555\"],\"roots\":{\"1555\":\"ba9af8af-ce99-43eb-9dd9-e16caa4217e8\"}}];\n",
       "  root.Bokeh.embed.embed_items_notebook(docs_json, render_items);\n",
       "\n",
       "  }\n",
       "  if (root.Bokeh !== undefined) {\n",
       "    embed_document(root);\n",
       "  } else {\n",
       "    var attempts = 0;\n",
       "    var timer = setInterval(function(root) {\n",
       "      if (root.Bokeh !== undefined) {\n",
       "        clearInterval(timer);\n",
       "        embed_document(root);\n",
       "      } else {\n",
       "        attempts++;\n",
       "        if (attempts > 100) {\n",
       "          clearInterval(timer);\n",
       "          console.log(\"Bokeh: ERROR: Unable to run BokehJS code because BokehJS library is missing\");\n",
       "        }\n",
       "      }\n",
       "    }, 10, root)\n",
       "  }\n",
       "})(window);"
      ],
      "application/vnd.bokehjs_exec.v0+json": ""
     },
     "metadata": {
      "application/vnd.bokehjs_exec.v0+json": {
       "id": "1555"
      }
     },
     "output_type": "display_data"
    }
   ],
   "source": [
    "from bokeh.models import HoverTool\n",
    "\n",
    "source = ColumnDataSource(\n",
    "    data=dict(\n",
    "        x=[1, 2, 3, 4, 5],\n",
    "        y=[2, 5, 8, 2, 7],\n",
    "        desc=[\"A\", \"b\", \"C\", \"d\", \"E\"],\n",
    "    )\n",
    ")\n",
    "\n",
    "hover = HoverTool(\n",
    "    tooltips=[\n",
    "        (\"index\", \"$index\"),\n",
    "        (\"(x,y)\", \"($x, $y)\"),\n",
    "        (\"desc\", \"@desc\"),\n",
    "    ]\n",
    ")\n",
    "\n",
    "p = figure(\n",
    "    plot_width=300,\n",
    "    plot_height=300,\n",
    "    tools=[hover],\n",
    "    title=\"Mouse over the dots\",\n",
    ")\n",
    "\n",
    "p.circle(\"x\", \"y\", size=20, source=source)\n",
    "\n",
    "show(p)"
   ]
  },
  {
   "cell_type": "code",
   "execution_count": 7,
   "id": "92f5d0cd-2add-4dda-b33d-6ebf0d49663f",
   "metadata": {},
   "outputs": [
    {
     "data": {
      "text/html": [
       "\n",
       "\n",
       "\n",
       "\n",
       "\n",
       "\n",
       "  <div class=\"bk-root\" id=\"6d7e0e13-9662-4c62-8790-b92e8948de38\" data-root-id=\"1687\"></div>\n"
      ]
     },
     "metadata": {},
     "output_type": "display_data"
    },
    {
     "data": {
      "application/javascript": [
       "(function(root) {\n",
       "  function embed_document(root) {\n",
       "    \n",
       "  var docs_json = {\"87787a8f-06d3-4f1b-8176-d07eb049fea7\":{\"defs\":[],\"roots\":{\"references\":[{\"attributes\":{\"end\":10,\"start\":0,\"step\":0.1,\"title\":\"foo\",\"value\":1},\"id\":\"1687\",\"type\":\"Slider\"}],\"root_ids\":[\"1687\"]},\"title\":\"Bokeh Application\",\"version\":\"2.3.3\"}};\n",
       "  var render_items = [{\"docid\":\"87787a8f-06d3-4f1b-8176-d07eb049fea7\",\"root_ids\":[\"1687\"],\"roots\":{\"1687\":\"6d7e0e13-9662-4c62-8790-b92e8948de38\"}}];\n",
       "  root.Bokeh.embed.embed_items_notebook(docs_json, render_items);\n",
       "\n",
       "  }\n",
       "  if (root.Bokeh !== undefined) {\n",
       "    embed_document(root);\n",
       "  } else {\n",
       "    var attempts = 0;\n",
       "    var timer = setInterval(function(root) {\n",
       "      if (root.Bokeh !== undefined) {\n",
       "        clearInterval(timer);\n",
       "        embed_document(root);\n",
       "      } else {\n",
       "        attempts++;\n",
       "        if (attempts > 100) {\n",
       "          clearInterval(timer);\n",
       "          console.log(\"Bokeh: ERROR: Unable to run BokehJS code because BokehJS library is missing\");\n",
       "        }\n",
       "      }\n",
       "    }, 10, root)\n",
       "  }\n",
       "})(window);"
      ],
      "application/vnd.bokehjs_exec.v0+json": ""
     },
     "metadata": {
      "application/vnd.bokehjs_exec.v0+json": {
       "id": "1687"
      }
     },
     "output_type": "display_data"
    }
   ],
   "source": [
    "from bokeh.models.widgets import Slider\n",
    "\n",
    "slider = Slider(\n",
    "    start=0,\n",
    "    end=10,\n",
    "    value=1,\n",
    "    step=0.1,\n",
    "    title=\"foo\",\n",
    ")\n",
    "\n",
    "show(slider)"
   ]
  },
  {
   "cell_type": "code",
   "execution_count": 9,
   "id": "e997e055-9bab-4d10-8fad-379576309dd6",
   "metadata": {},
   "outputs": [
    {
     "data": {
      "text/html": [
       "\n",
       "\n",
       "\n",
       "\n",
       "\n",
       "\n",
       "  <div class=\"bk-root\" id=\"b17aab17-b746-47ba-95f7-1aa2afa03073\" data-root-id=\"1751\"></div>\n"
      ]
     },
     "metadata": {},
     "output_type": "display_data"
    },
    {
     "data": {
      "application/javascript": [
       "(function(root) {\n",
       "  function embed_document(root) {\n",
       "    \n",
       "  var docs_json = {\"d84e3460-e622-4e7d-bd42-a95f0b849fc9\":{\"defs\":[],\"roots\":{\"references\":[{\"attributes\":{\"below\":[{\"id\":\"1760\"}],\"center\":[{\"id\":\"1763\"},{\"id\":\"1767\"}],\"height\":300,\"left\":[{\"id\":\"1764\"}],\"renderers\":[{\"id\":\"1773\"}],\"title\":{\"id\":\"1837\"},\"toolbar\":{\"id\":\"1768\"},\"x_range\":{\"id\":\"1752\"},\"x_scale\":{\"id\":\"1756\"},\"y_range\":{\"id\":\"1754\"},\"y_scale\":{\"id\":\"1758\"}},\"id\":\"1751\",\"subtype\":\"Figure\",\"type\":\"Plot\"},{\"attributes\":{},\"id\":\"1842\",\"type\":\"AllLabels\"},{\"attributes\":{},\"id\":\"1761\",\"type\":\"BasicTicker\"},{\"attributes\":{\"axis\":{\"id\":\"1760\"},\"ticker\":null},\"id\":\"1763\",\"type\":\"Grid\"},{\"attributes\":{\"formatter\":{\"id\":\"1841\"},\"major_label_policy\":{\"id\":\"1842\"},\"ticker\":{\"id\":\"1765\"}},\"id\":\"1764\",\"type\":\"LinearAxis\"},{\"attributes\":{},\"id\":\"1844\",\"type\":\"UnionRenderers\"},{\"attributes\":{},\"id\":\"1765\",\"type\":\"BasicTicker\"},{\"attributes\":{\"data\":{\"x\":[1,2,3,4,5],\"y\":[2,5,8,2,7]},\"selected\":{\"id\":\"1845\"},\"selection_policy\":{\"id\":\"1844\"}},\"id\":\"1770\",\"type\":\"ColumnDataSource\"},{\"attributes\":{\"axis\":{\"id\":\"1764\"},\"dimension\":1,\"ticker\":null},\"id\":\"1767\",\"type\":\"Grid\"},{\"attributes\":{\"callback\":{\"id\":\"1749\"}},\"id\":\"1750\",\"type\":\"TapTool\"},{\"attributes\":{\"active_multi\":null,\"tools\":[{\"id\":\"1750\"}]},\"id\":\"1768\",\"type\":\"Toolbar\"},{\"attributes\":{},\"id\":\"1754\",\"type\":\"DataRange1d\"},{\"attributes\":{},\"id\":\"1756\",\"type\":\"LinearScale\"},{\"attributes\":{},\"id\":\"1838\",\"type\":\"BasicTickFormatter\"},{\"attributes\":{\"fill_alpha\":{\"value\":0.1},\"fill_color\":{\"value\":\"#1f77b4\"},\"line_alpha\":{\"value\":0.1},\"line_color\":{\"value\":\"#1f77b4\"},\"size\":{\"value\":20},\"x\":{\"field\":\"x\"},\"y\":{\"field\":\"y\"}},\"id\":\"1772\",\"type\":\"Circle\"},{\"attributes\":{\"source\":{\"id\":\"1770\"}},\"id\":\"1774\",\"type\":\"CDSView\"},{\"attributes\":{\"data_source\":{\"id\":\"1770\"},\"glyph\":{\"id\":\"1771\"},\"hover_glyph\":null,\"muted_glyph\":null,\"nonselection_glyph\":{\"id\":\"1772\"},\"view\":{\"id\":\"1774\"}},\"id\":\"1773\",\"type\":\"GlyphRenderer\"},{\"attributes\":{},\"id\":\"1845\",\"type\":\"Selection\"},{\"attributes\":{\"fill_color\":{\"value\":\"#1f77b4\"},\"line_color\":{\"value\":\"#1f77b4\"},\"size\":{\"value\":20},\"x\":{\"field\":\"x\"},\"y\":{\"field\":\"y\"}},\"id\":\"1771\",\"type\":\"Circle\"},{\"attributes\":{},\"id\":\"1752\",\"type\":\"DataRange1d\"},{\"attributes\":{},\"id\":\"1837\",\"type\":\"Title\"},{\"attributes\":{\"formatter\":{\"id\":\"1838\"},\"major_label_policy\":{\"id\":\"1839\"},\"ticker\":{\"id\":\"1761\"}},\"id\":\"1760\",\"type\":\"LinearAxis\"},{\"attributes\":{},\"id\":\"1758\",\"type\":\"LinearScale\"},{\"attributes\":{},\"id\":\"1839\",\"type\":\"AllLabels\"},{\"attributes\":{\"code\":\"alert('you tapped a circle!')\"},\"id\":\"1749\",\"type\":\"CustomJS\"},{\"attributes\":{},\"id\":\"1841\",\"type\":\"BasicTickFormatter\"}],\"root_ids\":[\"1751\"]},\"title\":\"Bokeh Application\",\"version\":\"2.3.3\"}};\n",
       "  var render_items = [{\"docid\":\"d84e3460-e622-4e7d-bd42-a95f0b849fc9\",\"root_ids\":[\"1751\"],\"roots\":{\"1751\":\"b17aab17-b746-47ba-95f7-1aa2afa03073\"}}];\n",
       "  root.Bokeh.embed.embed_items_notebook(docs_json, render_items);\n",
       "\n",
       "  }\n",
       "  if (root.Bokeh !== undefined) {\n",
       "    embed_document(root);\n",
       "  } else {\n",
       "    var attempts = 0;\n",
       "    var timer = setInterval(function(root) {\n",
       "      if (root.Bokeh !== undefined) {\n",
       "        clearInterval(timer);\n",
       "        embed_document(root);\n",
       "      } else {\n",
       "        attempts++;\n",
       "        if (attempts > 100) {\n",
       "          clearInterval(timer);\n",
       "          console.log(\"Bokeh: ERROR: Unable to run BokehJS code because BokehJS library is missing\");\n",
       "        }\n",
       "      }\n",
       "    }, 10, root)\n",
       "  }\n",
       "})(window);"
      ],
      "application/vnd.bokehjs_exec.v0+json": ""
     },
     "metadata": {
      "application/vnd.bokehjs_exec.v0+json": {
       "id": "1751"
      }
     },
     "output_type": "display_data"
    }
   ],
   "source": [
    "from bokeh.models import ColumnDataSource, CustomJS, TapTool\n",
    "\n",
    "callback = CustomJS(code=\"alert('you tapped a circle!')\")\n",
    "\n",
    "tap = TapTool(callback=callback)\n",
    "\n",
    "p = figure(plot_width=600, plot_height=300, tools=[tap])\n",
    "\n",
    "p.circle(x=[1, 2, 3, 4, 5], y=[2, 5, 8, 2, 7], size=20)\n",
    "\n",
    "show(p)"
   ]
  },
  {
   "cell_type": "code",
   "execution_count": 10,
   "id": "b1b36af0-d6ec-4901-a5f4-0e184894194a",
   "metadata": {},
   "outputs": [
    {
     "data": {
      "text/html": [
       "\n",
       "\n",
       "\n",
       "\n",
       "\n",
       "\n",
       "  <div class=\"bk-root\" id=\"b0cd9205-3e5d-486d-99dd-7e6c4ae5ab2e\" data-root-id=\"1935\"></div>\n"
      ]
     },
     "metadata": {},
     "output_type": "display_data"
    },
    {
     "data": {
      "application/javascript": [
       "(function(root) {\n",
       "  function embed_document(root) {\n",
       "    \n",
       "  var docs_json = {\"8b36c30f-4397-4b45-9915-523c5226748e\":{\"defs\":[],\"roots\":{\"references\":[{\"attributes\":{\"children\":[{\"id\":\"1933\"},{\"id\":\"1897\"}]},\"id\":\"1935\",\"type\":\"Column\"},{\"attributes\":{},\"id\":\"2010\",\"type\":\"AllLabels\"},{\"attributes\":{},\"id\":\"1914\",\"type\":\"PanTool\"},{\"attributes\":{},\"id\":\"2012\",\"type\":\"BasicTickFormatter\"},{\"attributes\":{},\"id\":\"1915\",\"type\":\"WheelZoomTool\"},{\"attributes\":{},\"id\":\"2013\",\"type\":\"AllLabels\"},{\"attributes\":{\"overlay\":{\"id\":\"1920\"}},\"id\":\"1916\",\"type\":\"BoxZoomTool\"},{\"attributes\":{\"data\":{\"x\":[0.0,0.005,0.01,0.015,0.02,0.025,0.03,0.035,0.04,0.045,0.05,0.055,0.06,0.065,0.07,0.075,0.08,0.085,0.09,0.095,0.1,0.105,0.11,0.115,0.12,0.125,0.13,0.135,0.14,0.145,0.15,0.155,0.16,0.165,0.17,0.17500000000000002,0.18,0.185,0.19,0.195,0.2,0.20500000000000002,0.21,0.215,0.22,0.225,0.23,0.23500000000000001,0.24,0.245,0.25,0.255,0.26,0.265,0.27,0.275,0.28,0.28500000000000003,0.29,0.295,0.3,0.305,0.31,0.315,0.32,0.325,0.33,0.335,0.34,0.34500000000000003,0.35000000000000003,0.355,0.36,0.365,0.37,0.375,0.38,0.385,0.39,0.395,0.4,0.405,0.41000000000000003,0.41500000000000004,0.42,0.425,0.43,0.435,0.44,0.445,0.45,0.455,0.46,0.465,0.47000000000000003,0.47500000000000003,0.48,0.485,0.49,0.495,0.5,0.505,0.51,0.515,0.52,0.525,0.53,0.535,0.54,0.545,0.55,0.555,0.56,0.5650000000000001,0.5700000000000001,0.5750000000000001,0.58,0.585,0.59,0.595,0.6,0.605,0.61,0.615,0.62,0.625,0.63,0.635,0.64,0.645,0.65,0.655,0.66,0.665,0.67,0.675,0.68,0.685,0.6900000000000001,0.6950000000000001,0.7000000000000001,0.705,0.71,0.715,0.72,0.725,0.73,0.735,0.74,0.745,0.75,0.755,0.76,0.765,0.77,0.775,0.78,0.785,0.79,0.795,0.8,0.805,0.81,0.8150000000000001,0.8200000000000001,0.8250000000000001,0.8300000000000001,0.835,0.84,0.845,0.85,0.855,0.86,0.865,0.87,0.875,0.88,0.885,0.89,0.895,0.9,0.905,0.91,0.915,0.92,0.925,0.93,0.935,0.9400000000000001,0.9450000000000001,0.9500000000000001,0.9550000000000001,0.96,0.965,0.97,0.975,0.98,0.985,0.99,0.995,1.0],\"y\":[0.0,0.005,0.01,0.015,0.02,0.025,0.03,0.035,0.04,0.045,0.05,0.055,0.06,0.065,0.07,0.075,0.08,0.085,0.09,0.095,0.1,0.105,0.11,0.115,0.12,0.125,0.13,0.135,0.14,0.145,0.15,0.155,0.16,0.165,0.17,0.17500000000000002,0.18,0.185,0.19,0.195,0.2,0.20500000000000002,0.21,0.215,0.22,0.225,0.23,0.23500000000000001,0.24,0.245,0.25,0.255,0.26,0.265,0.27,0.275,0.28,0.28500000000000003,0.29,0.295,0.3,0.305,0.31,0.315,0.32,0.325,0.33,0.335,0.34,0.34500000000000003,0.35000000000000003,0.355,0.36,0.365,0.37,0.375,0.38,0.385,0.39,0.395,0.4,0.405,0.41000000000000003,0.41500000000000004,0.42,0.425,0.43,0.435,0.44,0.445,0.45,0.455,0.46,0.465,0.47000000000000003,0.47500000000000003,0.48,0.485,0.49,0.495,0.5,0.505,0.51,0.515,0.52,0.525,0.53,0.535,0.54,0.545,0.55,0.555,0.56,0.5650000000000001,0.5700000000000001,0.5750000000000001,0.58,0.585,0.59,0.595,0.6,0.605,0.61,0.615,0.62,0.625,0.63,0.635,0.64,0.645,0.65,0.655,0.66,0.665,0.67,0.675,0.68,0.685,0.6900000000000001,0.6950000000000001,0.7000000000000001,0.705,0.71,0.715,0.72,0.725,0.73,0.735,0.74,0.745,0.75,0.755,0.76,0.765,0.77,0.775,0.78,0.785,0.79,0.795,0.8,0.805,0.81,0.8150000000000001,0.8200000000000001,0.8250000000000001,0.8300000000000001,0.835,0.84,0.845,0.85,0.855,0.86,0.865,0.87,0.875,0.88,0.885,0.89,0.895,0.9,0.905,0.91,0.915,0.92,0.925,0.93,0.935,0.9400000000000001,0.9450000000000001,0.9500000000000001,0.9550000000000001,0.96,0.965,0.97,0.975,0.98,0.985,0.99,0.995,1.0]},\"selected\":{\"id\":\"2016\"},\"selection_policy\":{\"id\":\"2015\"}},\"id\":\"1896\",\"type\":\"ColumnDataSource\"},{\"attributes\":{\"below\":[{\"id\":\"1906\"}],\"center\":[{\"id\":\"1909\"},{\"id\":\"1913\"}],\"height\":400,\"left\":[{\"id\":\"1910\"}],\"renderers\":[{\"id\":\"1931\"}],\"title\":{\"id\":\"2008\"},\"toolbar\":{\"id\":\"1921\"},\"width\":400,\"x_range\":{\"id\":\"1898\"},\"x_scale\":{\"id\":\"1902\"},\"y_range\":{\"id\":\"1900\"},\"y_scale\":{\"id\":\"1904\"}},\"id\":\"1897\",\"subtype\":\"Figure\",\"type\":\"Plot\"},{\"attributes\":{},\"id\":\"2015\",\"type\":\"UnionRenderers\"},{\"attributes\":{},\"id\":\"1917\",\"type\":\"SaveTool\"},{\"attributes\":{},\"id\":\"2016\",\"type\":\"Selection\"},{\"attributes\":{},\"id\":\"1918\",\"type\":\"ResetTool\"},{\"attributes\":{\"line_alpha\":0.1,\"line_color\":\"#1f77b4\",\"line_width\":3,\"x\":{\"field\":\"x\"},\"y\":{\"field\":\"y\"}},\"id\":\"1930\",\"type\":\"Line\"},{\"attributes\":{},\"id\":\"1919\",\"type\":\"HelpTool\"},{\"attributes\":{},\"id\":\"1898\",\"type\":\"DataRange1d\"},{\"attributes\":{\"data_source\":{\"id\":\"1896\"},\"glyph\":{\"id\":\"1929\"},\"hover_glyph\":null,\"muted_glyph\":null,\"nonselection_glyph\":{\"id\":\"1930\"},\"view\":{\"id\":\"1932\"}},\"id\":\"1931\",\"type\":\"GlyphRenderer\"},{\"attributes\":{},\"id\":\"1900\",\"type\":\"DataRange1d\"},{\"attributes\":{\"bottom_units\":\"screen\",\"fill_alpha\":0.5,\"fill_color\":\"lightgrey\",\"left_units\":\"screen\",\"level\":\"overlay\",\"line_alpha\":1.0,\"line_color\":\"black\",\"line_dash\":[4,4],\"line_width\":2,\"right_units\":\"screen\",\"syncable\":false,\"top_units\":\"screen\"},\"id\":\"1920\",\"type\":\"BoxAnnotation\"},{\"attributes\":{},\"id\":\"1902\",\"type\":\"LinearScale\"},{\"attributes\":{\"active_multi\":null,\"tools\":[{\"id\":\"1914\"},{\"id\":\"1915\"},{\"id\":\"1916\"},{\"id\":\"1917\"},{\"id\":\"1918\"},{\"id\":\"1919\"}]},\"id\":\"1921\",\"type\":\"Toolbar\"},{\"attributes\":{},\"id\":\"1904\",\"type\":\"LinearScale\"},{\"attributes\":{},\"id\":\"2009\",\"type\":\"BasicTickFormatter\"},{\"attributes\":{\"formatter\":{\"id\":\"2009\"},\"major_label_policy\":{\"id\":\"2010\"},\"ticker\":{\"id\":\"1907\"}},\"id\":\"1906\",\"type\":\"LinearAxis\"},{\"attributes\":{},\"id\":\"1907\",\"type\":\"BasicTicker\"},{\"attributes\":{\"source\":{\"id\":\"1896\"}},\"id\":\"1932\",\"type\":\"CDSView\"},{\"attributes\":{\"axis\":{\"id\":\"1906\"},\"ticker\":null},\"id\":\"1909\",\"type\":\"Grid\"},{\"attributes\":{\"line_alpha\":0.6,\"line_color\":\"#1f77b4\",\"line_width\":3,\"x\":{\"field\":\"x\"},\"y\":{\"field\":\"y\"}},\"id\":\"1929\",\"type\":\"Line\"},{\"attributes\":{\"formatter\":{\"id\":\"2012\"},\"major_label_policy\":{\"id\":\"2013\"},\"ticker\":{\"id\":\"1911\"}},\"id\":\"1910\",\"type\":\"LinearAxis\"},{\"attributes\":{},\"id\":\"1911\",\"type\":\"BasicTicker\"},{\"attributes\":{\"axis\":{\"id\":\"1910\"},\"dimension\":1,\"ticker\":null},\"id\":\"1913\",\"type\":\"Grid\"},{\"attributes\":{\"end\":6,\"js_property_callbacks\":{\"change:value\":[{\"id\":\"1934\"}]},\"start\":0.1,\"step\":0.1,\"title\":\"power\",\"value\":1},\"id\":\"1933\",\"type\":\"Slider\"},{\"attributes\":{},\"id\":\"2008\",\"type\":\"Title\"},{\"attributes\":{\"args\":{\"slider\":{\"id\":\"1933\"},\"source\":{\"id\":\"1896\"}},\"code\":\"\\n    var data = source.data;\\n    var f = slider.value;\\n    var x = data['x']\\n    var y = data['y']\\n    for (var i = 0; i < x.length; i++) {\\n        y[i] = Math.pow(x[i], f)\\n    }\\n    \\n    // necessary becasue we mutated source.data in-place\\n    source.change.emit();\\n\"},\"id\":\"1934\",\"type\":\"CustomJS\"}],\"root_ids\":[\"1935\"]},\"title\":\"Bokeh Application\",\"version\":\"2.3.3\"}};\n",
       "  var render_items = [{\"docid\":\"8b36c30f-4397-4b45-9915-523c5226748e\",\"root_ids\":[\"1935\"],\"roots\":{\"1935\":\"b0cd9205-3e5d-486d-99dd-7e6c4ae5ab2e\"}}];\n",
       "  root.Bokeh.embed.embed_items_notebook(docs_json, render_items);\n",
       "\n",
       "  }\n",
       "  if (root.Bokeh !== undefined) {\n",
       "    embed_document(root);\n",
       "  } else {\n",
       "    var attempts = 0;\n",
       "    var timer = setInterval(function(root) {\n",
       "      if (root.Bokeh !== undefined) {\n",
       "        clearInterval(timer);\n",
       "        embed_document(root);\n",
       "      } else {\n",
       "        attempts++;\n",
       "        if (attempts > 100) {\n",
       "          clearInterval(timer);\n",
       "          console.log(\"Bokeh: ERROR: Unable to run BokehJS code because BokehJS library is missing\");\n",
       "        }\n",
       "      }\n",
       "    }, 10, root)\n",
       "  }\n",
       "})(window);"
      ],
      "application/vnd.bokehjs_exec.v0+json": ""
     },
     "metadata": {
      "application/vnd.bokehjs_exec.v0+json": {
       "id": "1935"
      }
     },
     "output_type": "display_data"
    }
   ],
   "source": [
    "from bokeh.layouts import column\n",
    "from bokeh.models import ColumnDataSource, CustomJS, Slider\n",
    "\n",
    "x = [x * 0.005 for x in range(0, 201)]\n",
    "\n",
    "source = ColumnDataSource(data=dict(x=x, y=x))\n",
    "\n",
    "plot = figure(plot_width=400, plot_height=400)\n",
    "plot.line(\"x\", \"y\", source=source, line_width=3, line_alpha=0.6)\n",
    "\n",
    "slider = Slider(start=0.1, end=6, value=1, step=0.1, title=\"power\")\n",
    "\n",
    "update_curve = CustomJS(\n",
    "    args=dict(source=source, slider=slider),\n",
    "    code=\"\"\"\n",
    "    var data = source.data;\n",
    "    var f = slider.value;\n",
    "    var x = data['x']\n",
    "    var y = data['y']\n",
    "    for (var i = 0; i < x.length; i++) {\n",
    "        y[i] = Math.pow(x[i], f)\n",
    "    }\n",
    "    \n",
    "    // necessary becasue we mutated source.data in-place\n",
    "    source.change.emit();\n",
    "\"\"\",\n",
    ")\n",
    "slider.js_on_change(\"value\", update_curve)\n",
    "\n",
    "\n",
    "show(column(slider, plot))"
   ]
  },
  {
   "cell_type": "code",
   "execution_count": 11,
   "id": "59124059-180d-4474-9c5e-d32c926ad100",
   "metadata": {},
   "outputs": [
    {
     "data": {
      "text/html": [
       "\n",
       "\n",
       "\n",
       "\n",
       "\n",
       "\n",
       "  <div class=\"bk-root\" id=\"82288fae-ac0d-418f-b5d5-d3de8a829b40\" data-root-id=\"2074\"></div>\n"
      ]
     },
     "metadata": {},
     "output_type": "display_data"
    },
    {
     "data": {
      "application/javascript": [
       "(function(root) {\n",
       "  function embed_document(root) {\n",
       "    \n",
       "  var docs_json = {\"9950631f-2d25-43be-bb72-088e9901f054\":{\"defs\":[],\"roots\":{\"references\":[{\"attributes\":{\"below\":[{\"id\":\"2085\"}],\"center\":[{\"id\":\"2088\"},{\"id\":\"2092\"}],\"height\":400,\"left\":[{\"id\":\"2089\"}],\"renderers\":[{\"id\":\"2101\"},{\"id\":\"2107\"}],\"title\":{\"id\":\"2075\"},\"toolbar\":{\"id\":\"2095\"},\"width\":400,\"x_range\":{\"id\":\"2077\"},\"x_scale\":{\"id\":\"2081\"},\"y_range\":{\"id\":\"2079\"},\"y_scale\":{\"id\":\"2083\"}},\"id\":\"2074\",\"subtype\":\"Figure\",\"type\":\"Plot\"},{\"attributes\":{\"fill_alpha\":{\"value\":0.4},\"fill_color\":{\"value\":\"firebrick\"},\"line_alpha\":{\"value\":0.4},\"line_color\":{\"value\":\"firebrick\"},\"size\":{\"value\":8},\"x\":{\"field\":\"x\"},\"y\":{\"field\":\"y\"}},\"id\":\"2100\",\"type\":\"Circle\"},{\"attributes\":{\"data_source\":{\"id\":\"2073\"},\"glyph\":{\"id\":\"2098\"},\"hover_glyph\":null,\"muted_glyph\":null,\"nonselection_glyph\":{\"id\":\"2099\"},\"selection_glyph\":{\"id\":\"2100\"},\"view\":{\"id\":\"2102\"}},\"id\":\"2101\",\"type\":\"GlyphRenderer\"},{\"attributes\":{\"formatter\":{\"id\":\"2194\"},\"major_label_policy\":{\"id\":\"2195\"},\"ticker\":{\"id\":\"2086\"}},\"id\":\"2085\",\"type\":\"LinearAxis\"},{\"attributes\":{\"data\":{\"color\":[\"navy\",\"navy\",\"navy\",\"navy\",\"navy\",\"navy\",\"navy\",\"navy\",\"navy\",\"navy\",\"navy\",\"navy\",\"navy\",\"navy\",\"navy\",\"navy\",\"navy\",\"navy\",\"navy\",\"navy\",\"navy\",\"navy\",\"navy\",\"navy\",\"navy\",\"navy\",\"navy\",\"navy\",\"navy\",\"navy\",\"navy\",\"navy\",\"navy\",\"navy\",\"navy\",\"navy\",\"navy\",\"navy\",\"navy\",\"navy\",\"navy\",\"navy\",\"navy\",\"navy\",\"navy\",\"navy\",\"navy\",\"navy\",\"navy\",\"navy\",\"navy\",\"navy\",\"navy\",\"navy\",\"navy\",\"navy\",\"navy\",\"navy\",\"navy\",\"navy\",\"navy\",\"navy\",\"navy\",\"navy\",\"navy\",\"navy\",\"navy\",\"navy\",\"navy\",\"navy\",\"navy\",\"navy\",\"navy\",\"navy\",\"navy\",\"navy\",\"navy\",\"navy\",\"navy\",\"navy\",\"navy\",\"navy\",\"navy\",\"navy\",\"navy\",\"navy\",\"navy\",\"navy\",\"navy\",\"navy\",\"navy\",\"navy\",\"navy\",\"navy\",\"navy\",\"navy\",\"navy\",\"navy\",\"navy\",\"navy\",\"navy\",\"navy\",\"navy\",\"navy\",\"navy\",\"navy\",\"navy\",\"navy\",\"navy\",\"navy\",\"navy\",\"navy\",\"navy\",\"navy\",\"navy\",\"navy\",\"navy\",\"navy\",\"navy\",\"navy\",\"navy\",\"navy\",\"navy\",\"navy\",\"navy\",\"navy\",\"navy\",\"navy\",\"navy\",\"navy\",\"navy\",\"navy\",\"navy\",\"navy\",\"navy\",\"navy\",\"navy\",\"navy\",\"navy\",\"navy\",\"navy\",\"navy\",\"navy\",\"navy\",\"navy\",\"navy\",\"navy\",\"navy\",\"navy\",\"navy\",\"navy\",\"navy\",\"navy\",\"navy\",\"navy\",\"navy\",\"navy\",\"navy\",\"navy\",\"navy\",\"navy\",\"navy\",\"navy\",\"navy\",\"navy\",\"navy\",\"navy\",\"navy\",\"navy\",\"navy\",\"navy\",\"navy\",\"navy\",\"navy\",\"navy\",\"navy\",\"navy\",\"navy\",\"navy\",\"navy\",\"navy\",\"navy\",\"navy\",\"navy\",\"navy\",\"navy\",\"navy\",\"navy\",\"navy\",\"navy\",\"navy\",\"navy\",\"navy\",\"navy\",\"navy\",\"navy\",\"navy\",\"navy\",\"navy\",\"navy\",\"navy\",\"navy\",\"navy\",\"navy\",\"navy\",\"navy\",\"navy\",\"navy\",\"navy\",\"navy\",\"navy\",\"navy\",\"navy\",\"navy\",\"navy\",\"navy\",\"navy\",\"navy\",\"navy\",\"navy\",\"navy\",\"navy\",\"navy\",\"navy\",\"navy\",\"navy\",\"navy\",\"navy\",\"navy\",\"navy\",\"navy\",\"navy\",\"navy\",\"navy\",\"navy\",\"navy\",\"navy\",\"navy\",\"navy\",\"navy\",\"navy\",\"navy\",\"navy\",\"navy\",\"navy\",\"navy\",\"navy\",\"navy\",\"navy\",\"navy\",\"navy\",\"navy\",\"navy\",\"navy\",\"navy\",\"navy\",\"navy\",\"navy\",\"navy\",\"navy\",\"navy\",\"navy\",\"navy\",\"navy\",\"navy\",\"navy\",\"navy\",\"navy\",\"navy\",\"navy\",\"navy\",\"navy\",\"navy\",\"navy\",\"navy\",\"navy\",\"navy\",\"navy\",\"navy\",\"navy\",\"navy\",\"navy\",\"navy\",\"navy\",\"navy\",\"navy\",\"navy\",\"navy\",\"navy\",\"navy\",\"navy\",\"navy\",\"navy\",\"navy\",\"navy\",\"navy\",\"navy\",\"navy\",\"navy\",\"navy\",\"navy\",\"navy\",\"navy\",\"navy\",\"navy\",\"navy\",\"navy\",\"navy\",\"navy\",\"navy\",\"navy\",\"navy\",\"navy\",\"navy\",\"navy\",\"navy\",\"navy\",\"navy\",\"navy\",\"navy\",\"navy\",\"navy\",\"navy\",\"navy\",\"navy\",\"navy\",\"navy\",\"navy\",\"navy\",\"navy\",\"navy\",\"navy\",\"navy\",\"navy\",\"navy\",\"navy\",\"navy\",\"navy\",\"navy\",\"navy\",\"navy\",\"navy\",\"navy\",\"navy\",\"navy\",\"navy\",\"navy\",\"navy\",\"navy\",\"navy\",\"navy\",\"navy\",\"navy\",\"navy\",\"navy\",\"navy\",\"navy\",\"navy\",\"navy\",\"navy\",\"navy\",\"navy\",\"navy\",\"navy\",\"navy\",\"navy\",\"navy\",\"navy\",\"navy\",\"navy\",\"navy\",\"navy\",\"navy\",\"navy\",\"navy\",\"navy\",\"navy\",\"navy\",\"navy\",\"navy\",\"navy\",\"navy\",\"navy\",\"navy\",\"navy\",\"navy\",\"navy\",\"navy\",\"navy\",\"navy\",\"navy\",\"navy\",\"navy\",\"navy\",\"navy\",\"navy\",\"navy\",\"navy\",\"navy\",\"navy\",\"navy\",\"navy\",\"navy\",\"navy\",\"navy\",\"navy\",\"navy\",\"navy\",\"navy\",\"navy\",\"navy\",\"navy\",\"navy\",\"navy\",\"navy\",\"navy\",\"navy\",\"navy\",\"navy\",\"navy\",\"navy\",\"navy\",\"navy\",\"navy\",\"navy\",\"navy\",\"navy\",\"navy\",\"navy\",\"navy\",\"navy\",\"navy\",\"navy\",\"navy\",\"navy\",\"navy\",\"navy\",\"navy\",\"navy\",\"navy\",\"navy\",\"navy\",\"navy\",\"navy\",\"navy\",\"navy\",\"navy\",\"navy\",\"navy\",\"navy\",\"navy\",\"navy\",\"navy\",\"navy\",\"navy\",\"navy\",\"navy\",\"navy\",\"navy\",\"navy\",\"navy\",\"navy\",\"navy\",\"navy\",\"navy\",\"navy\",\"navy\",\"navy\",\"navy\",\"navy\",\"navy\",\"navy\",\"navy\",\"navy\",\"navy\",\"navy\",\"navy\",\"navy\",\"navy\",\"navy\",\"navy\",\"navy\",\"navy\",\"navy\",\"navy\",\"navy\",\"navy\",\"navy\",\"navy\",\"navy\",\"navy\",\"navy\",\"navy\",\"navy\",\"navy\",\"navy\",\"navy\",\"navy\",\"navy\",\"navy\"],\"x\":[0.8609419914519624,0.9725736340231776,0.27031745577744726,0.31297455439915167,0.01648139168569729,0.3918373940498382,0.10924390609752688,0.5885417527379758,0.20039273049891293,0.10359707537519347,0.6245290624569487,0.4183294367651519,0.48748290825616214,0.7903141286658986,0.5309239395562744,0.07016946764147047,0.11255483693322055,0.6908575966426767,0.8519135221992592,0.3345978257028258,0.12565023399508524,0.8816691575722038,0.4079847985754338,0.9691072146831654,0.6047168890685296,0.6722917932702954,0.7024219402500382,0.9534756007535988,0.7408266870732346,0.6695287851741885,0.5583693297345746,0.1997212345026731,0.3949733190187643,0.5828415889673376,0.3641639326624605,0.5973670422208126,0.9444036157855434,0.03824887137746735,0.43051693357994736,0.648519359853894,0.482706391360078,0.9400046923721544,0.9802489485846387,0.23557415115010538,0.9205177838020075,0.23542411990509782,0.8554911736994985,0.41894202458124763,0.9740108439795739,0.07624455526211638,0.8322755793973972,0.060959773803735184,0.40459352479995614,0.9104800552194359,0.41856020484570833,0.5838962618591889,0.4502708844253043,0.41706166466662364,0.9847779692704953,0.5204058505818306,0.37987603279460436,0.7399293499061089,0.11705495412036226,0.5942979660304561,0.9288015646630106,0.020785845319834406,0.3315615449901078,0.8847453119301715,0.8730174228845212,0.4835817803461565,0.27670903124857216,0.8183382549729584,0.003911605338682067,0.5941863484354801,0.36464534484816347,0.25901255311066573,0.5871284277240474,0.212334507287684,0.9217820751497647,0.40384097245245865,0.4471527992234262,0.7373053837500744,0.8938559208323197,0.047609230783959955,0.49725164663916277,0.8391400855172928,0.7361340664877642,0.5265244072852618,0.6849760011639703,0.25280160827923737,0.8683979650108544,0.9427342430903795,0.8315777689241943,0.9234423914314429,0.5291598711361241,0.2655002409629713,0.2935559038874369,0.33973978175852304,0.48422145367395775,0.778251035196079,0.26387878391120634,0.09146171176066276,0.6469779919429458,0.10559681529107745,0.0774186969315881,0.13807389898070455,0.04108002057790672,0.08843355811596454,0.04575971356544917,0.03919562362175166,0.7298672295724928,0.5746790567715402,0.9416479331889184,0.7908720030207115,0.9223216247653458,0.5351220632839069,0.5246653511372024,0.9761834794689608,0.561586158080194,0.6883254010435297,0.6691026095456205,0.01943451135436991,0.9122740163089781,0.5165653252993379,0.16062874211668232,0.2879624249251206,0.7018567871622446,0.5460805157382383,0.2913904800190733,0.09613611920339604,0.6247527986751491,0.669996616206835,0.25164189335418696,0.3693408492145587,0.06463411123265939,0.9303277148124575,0.3304654320259953,0.25255750453003456,0.22630685452278454,0.8839434354755423,0.1448972648344694,0.6428494351045188,0.4683321613311303,0.4779994499015462,0.8298941798509196,0.34580074582695297,0.885958594824353,0.8578816745401019,0.7670067729107773,0.820208300640429,0.5773620816052318,0.13975930601061892,0.0981835142324824,0.9169474942476048,0.7797691240183646,0.33433599326007457,0.3425467076972044,0.7217286996358131,0.10444247694245057,0.3192130433092163,0.3010993932007734,0.07394972202017192,0.4505668555999891,0.9499363731769018,0.5007682597540695,0.6080275689720088,0.3297560377955906,0.8257971694853055,0.40255790231705746,0.09265147744479452,0.3688276602105526,0.6051454946211141,0.07803835614339627,0.7624265877334183,0.2751352322135464,0.2723954525415808,0.5129310648057774,0.31243553846277694,0.8658498823250456,0.7762213232296973,0.25672294683252805,0.30537165926276555,0.2532489582366848,0.10333835212425602,0.8735203544767314,0.5188015249350375,0.6301103094247834,0.053188806178475656,0.8282735713132614,0.06407853185499235,0.6489321852403663,0.9600263753674588,0.4049885454916805,0.09246989449439114,0.41701281011238345,0.6036584930871944,0.3678571373727081,0.359929793410259,0.7794414821251171,0.7135247039652242,0.43924450259842407,0.5054279446442519,0.824399850790034,0.21189645780737698,0.04797565793719727,0.7979732485223232,0.7198299023837611,0.6476759980619182,0.5182757061938029,0.5109585724838339,0.25210050726258015,0.6367038208464726,0.24676996994641098,0.7011591862533064,0.9927642307934496,0.7699891214129714,0.2716363272475786,0.9949779568346917,0.5111397380022346,0.2677239399450414,0.2414100274560571,0.4066075839107163,0.41749607454740334,0.5445884932464669,0.6751941989719892,0.3398632248291136,0.3773832374715266,0.7929877634907478,0.5463057008550295,0.5618453697278603,0.5231620440811027,0.023824515909659394,0.0008582507081610347,0.8343517287376838,0.08207438986406135,0.7038497722273651,0.7747735904156887,0.9418048458984928,0.8736836758301475,0.9440417867210429,0.9306309710813688,0.13508085965341687,0.7257111090629292,0.7208495108619326,0.451162532497129,0.5305670816767977,0.5743535514928642,0.6526828570929396,0.7760161754121335,0.9006558949299952,0.7371293573056819,0.18335165458618163,0.4996892431941441,0.12257579370249105,0.17636395031223517,0.5723201696872761,0.2571778497741124,0.2578874543679014,0.5349415102472262,0.20644432989861494,0.5251757656204641,0.24017247687037746,0.2990557497932145,0.8386242195507513,0.6275845962399005,0.36128846177626606,0.42049647051609085,0.6135770885551621,0.46893323241151563,0.22436645349808126,0.8199258751364826,0.4292287717805393,0.28855428767927505,0.5242981335460508,0.492189722602974,0.8431763566757535,0.5432295411142714,0.7683956929891983,0.6470026188831165,0.09582013570993864,0.29528167395151794,0.990743533059991,0.7630619871444074,0.7117249950923065,0.4328713446569711,0.5708140248192062,0.9072724500179796,0.7200202089225621,0.17527344309867787,0.699802801609879,0.20512305683566745,0.9882180433480421,0.5399450021525221,0.9199661245957373,0.7342326140165499,0.0952549476652238,0.2539416116048694,0.8666686714046535,0.7347890091386565,0.5127959197119518,0.1691456843908271,0.6323189672777485,0.5025011912017857,0.54758696208149,0.6039121970677083,0.8012467246520178,0.2333305939236715,0.9683910278387416,0.08121140892080703,0.921059642017188,0.12470850497692398,0.7397193099935965,0.9446026316018489,0.4625707992021155,0.92338985850418,0.2769362364100787,0.31679986783720093,0.5686079542760266,0.9481137082118642,0.6861846127711343,0.6425124684994588,0.6115811577561111,0.7423829588177219,0.15837772178505927,0.5080159721336637,0.02563567531294808,0.9703207918418622,0.9255905618816402,0.3615398732266242,0.5102782012588736,0.6820928246165985,0.4149271954413787,0.8321465623638049,0.041270552525056514,0.229703401128438,0.7327652547290675,0.9191139745973698,0.21112984246686795,0.972325583205665,0.3527927611265479,0.041711401478282895,0.3208218023860784,0.5002123742765036,0.6285675312311909,0.38407259843573305,0.6585033558048552,0.294037126121348,0.847429227459284,0.6411162795788773,0.27638570139477625,0.6120241850410737,0.6579698503043532,0.9771180429898834,0.9270400205368883,0.9386290163475576,0.3175280900704911,0.04982762719247846,0.00046621320801421007,0.4423689330867545,0.9498305107289887,0.30351572889777734,0.45276106572817953,0.5547683671290108,0.4740567277398502,0.7274911536100641,0.05084587357454673,0.3792481746711648,0.02177048279408844,0.3428243702674759,0.14461880852250497,0.13552996432003395,0.1212295926096777,0.9016118957822807,0.600117786825442,0.36037070258358206,0.15498209668584906,0.7529766537689124,0.9321768006385489,0.7956148742768394,0.46558282243662064,0.11198504324261682,0.2035073190647605,0.5273252350163131,0.05131243688140219,0.6473905965383137,0.03213347469398997,0.7996053891880192,0.10462131035550803,0.5339462416455094,0.783051466722352,0.8224499131826735,0.012203488652080874,0.6692569409168091,0.9496680717901718,0.04321699168007598,0.08557718433183326,0.6694543650321424,0.11817589668242978,0.5247193174317223,0.595353181100585,0.8753367738527535,0.030339754888281778,0.32374667260114187,0.8738668974356021,0.005471899821474779,0.6948034483053462,0.43502821239554124,0.5406905263122745,0.8230818950196431,0.17261727102164437,0.4040984630805321,0.33508640834892434,0.4550554380097125,0.5347467959263645,0.9879506546212323,0.147483870083865,0.5288226011668262,0.384308449586823,0.8052763095669231,0.2765286578072359,0.9597301317539103,0.49998401870483333,0.4584225522652946,0.7931094276027782,0.1504632989598933,0.5163072414686746,0.04166599509993307,0.7361429807133998,0.25552554222684276,0.26378681700946605,0.8600472341991154,0.04870613601782958,0.1340089574104396,0.050874981964183386,0.4787351041934512,0.7086597075875867,0.7797947645675666,0.5752048718777807,0.7000133527257997,0.6982994222325911,0.362295853306873,0.04033437036599741,0.7465346093527768,0.15470153037467793,0.9446312474915576,0.631153620950545,0.7833704500448329,0.07140486263217727,0.12876408465924316,0.31115791009570226,0.0700858157576667,0.9340778982938073,0.21827563685149953,0.5015726136375487,0.49073723404417446,0.7555255477187817,0.8325770714754676,0.0087953695226054,0.5031617350604544,0.1630389552160384,0.9960149594308099,0.01704021651575649,0.7527042047394593,0.6462851864783787,0.24252399239399458,0.6137892597687234,0.19627987821319537,0.15592045281621825,0.00557028814067928,0.2860186780058771,0.6574629526793029,0.9743806358380487,0.9464354634519342,0.7353589013210526,0.16041527627122343,0.6021883245655185,0.6811044229520671,0.09630175346343983,0.7376505588566663,0.19120294379719216,0.29902328956267277,0.16922442367806534,0.1617277200164028,0.8040434661577446,0.9114611221239469,0.7813309566781211,0.17866416485268133,0.9600663923860823,0.8970764694444884,0.5762552055385572,0.8964980315186448,0.25655771556229434,0.8623621892467691,0.24556822519622368,0.04273002857181851,0.26362814068063256,0.4088333631169936,0.789039739511737,0.1977349217504809,0.9761063356534962],\"y\":[0.54302023010637,0.5412228075617279,0.32153128507297823,0.7927131691973042,0.5417293859774204,0.03875099827538031,0.9149914211396788,0.40317220529574505,0.5281681694787412,0.6834725837985958,0.10784385150605513,0.4753548728138379,0.6749277114672074,0.11067700742774667,0.9487643955473781,0.675427335560908,0.10203575405541887,0.06365018834407754,0.08622120265978828,0.14552870123281225,0.3476228362105318,0.43989299855246233,0.8239915276726248,0.2456490803309499,0.8382604260483616,0.7505773165926803,0.6608776874640216,0.4075478167240548,0.07642671071034601,0.18538178645434866,0.7651954584976706,0.16098816267518612,0.5878465884689268,0.447549730351289,0.761568865282361,0.6898533908376425,0.4530260684585018,0.9303886525686877,0.9398996204323494,0.35750175887219826,0.6910098698641295,0.6511885935637213,0.5464361421600177,0.6366701259591429,0.13998102114997235,0.953126423638195,0.6794991915284464,0.9110963665310323,0.09685431701334934,0.38783467268657323,0.44003149494859506,0.2043672580274809,0.9474501935527858,0.012367664752259255,0.18346762759097002,0.048444502247067645,0.5340304199625652,0.8704525434560066,0.08374927288893785,0.056519705167743406,0.5917329958584042,0.8230826769889403,0.49279075302130815,0.5426331869399911,0.8536598081538703,0.727174760727674,0.8357734733703576,0.889033779009772,0.5145483643210413,0.6865415832777817,0.9321158029517373,0.15083180653698847,0.25578834946895646,0.9410491959703314,0.6021687600745542,0.1931786019384375,0.6953928920242964,0.30011029071622886,0.21363682498370706,0.3762738520867319,0.14068860615436984,0.03854761279400476,0.1034990949707828,0.667044778062935,0.9043167363653545,0.4992433070944333,0.15884011116956953,0.07129142496571106,0.2710469326622523,0.9022287626955517,0.8173131197135877,0.5072927527397274,0.5199256945764166,0.5416051937342575,0.6348807174852711,0.8566107057885025,0.4991744071238168,0.03643204265555222,0.6994702393959382,0.2693810441679788,0.027942808703771416,0.17712411673476292,0.3482821020940683,0.46807570821391453,0.8727592672770054,0.5342392238725332,0.7291707821561654,0.16408787926459023,0.3943600985955795,0.2475287082071599,0.9551959928258759,0.1866278746878246,0.9919017520305149,0.23164847127817945,0.13250793166836095,0.4936148148269053,0.04858668050382109,0.41737543004539157,0.37615154382959426,0.2118246867209792,0.7810443490804012,0.13316237032010625,0.533154511050459,0.284748329685258,0.4674747539678228,0.44371559890393464,0.1960750234526345,0.05525528458785045,0.41799330163258774,0.4309655860225977,0.9916626089182625,0.9011580704045373,0.008134453561094102,0.8942662367671358,0.7450649115737398,0.4314911025261111,0.16493587828417255,0.4155733913642933,0.2716957167962525,0.44214026939036455,0.8292232024804755,0.4186885348945205,0.09190810772681324,0.7043507554542748,0.0859034401529567,0.272686971872912,0.32014909846942996,0.8332632650140036,0.6686150578678725,0.9644149054603717,0.04537530822762925,0.9111571181803995,0.2437556801394638,0.3437657243709139,0.17591642308773547,0.4619056835777383,0.14415920389243164,0.6080661657325781,0.18536526247634177,0.5382080307168733,0.999670693898991,0.6009540372413917,0.835718517572253,0.2746880315975123,0.14988001247878402,0.9159841421616943,0.3202761814241941,0.3454386403684444,0.008106092324970837,0.8691134928736821,0.5836339348630284,0.16933104924903541,0.6104462168630098,0.5047285729943737,0.06709442379219255,0.3937789783998521,0.25412160837589504,0.6020381370603148,0.197446793530755,0.8624839684437633,0.7605689338908002,0.7391593244999655,0.3883810107243718,0.9992015028731254,0.5287484113064106,0.03507238006827684,0.7933497635280814,0.2597583225417216,0.5731940026012482,0.3982215500539188,0.5186315131613649,0.5941501860207415,0.8131757776813764,0.8320137407463846,0.6672702037620695,0.723117206682818,0.9440883234238289,0.9704546501423758,0.49992008236021734,0.6519130059919614,0.692624387516688,0.8836317829383341,0.09956310677199842,0.93461818680788,0.3490633573230152,0.4737462916908821,0.6030281950643481,0.7821290293232793,0.6731113385045793,0.8466391841825448,0.2067822662886516,0.1208307130955687,0.4306886524722544,0.7095379228584722,0.47416415650386456,0.9819298938160848,0.4987599643414117,0.0980165305779056,0.12102701152755435,0.9331366324765464,0.058004074195669664,0.9559415298074758,0.3132390567907539,0.7324567897477618,0.9177935862275463,0.387932884737061,0.8541151024600047,0.6725292243869098,0.9493057724609817,0.5859821400677944,0.9768015422062841,0.5627888877004624,0.98444843674946,0.09870372485744772,0.7291627926726171,0.3509463755679382,0.3145764520704061,0.011095507460535226,0.5629974751330695,0.8657690596313206,0.17009393882314983,0.16631784613195233,0.5206469069961298,0.1221440595942348,0.11515603458566692,0.1723402119810301,0.4760130858050442,0.5621000715516136,0.6399129543580677,0.8528391291799002,0.5702514877811034,0.12420164000621281,0.5554820459996928,0.5720278893648963,0.5382280360672573,0.7659975616020612,0.39231108026912376,0.15287920655212273,0.7083820613138475,0.3986999782965549,0.617763916735416,0.11210769164277845,0.3356557128069305,0.8326961870195552,0.7007567774901168,0.10331047794737913,0.883396455841732,0.21601987333781825,0.3503328941083117,0.7952257128084308,0.8153384467923511,0.9863935770505274,0.5999492303759851,0.012708574472586665,0.4388572640262042,0.9346607351644258,0.40611557931388775,0.5418617555197404,0.796932599921066,0.19599072293744613,0.20351928225414417,0.5006397427458942,0.2523840554730764,0.4973442786311044,0.453362220642736,0.48025554350511257,0.9732012255449315,0.005629682856469698,0.6286875173538772,0.7782518339508964,0.31910626962350996,0.4118775171555269,0.8008116351594976,0.3623951445921465,0.3230963356917208,0.3177995682818999,0.2890971972156877,0.3573092150530036,0.6912039852174712,0.5808751528916524,0.49211259367517124,0.32252310208055035,0.3442454588464643,0.7283125303038892,0.049170076662358175,0.17932541199915464,0.26354967249730077,0.24993397678067097,0.2148566155833882,0.5271070376446595,0.3530387614925272,0.14119834969366807,0.5952226074447705,0.08752391900914258,0.11834158490600777,0.3106052535900379,0.7548020497971792,0.9053909720502628,0.9495879468860784,0.5887409371958904,0.08484790914300544,0.7337001934568468,0.9197073629941965,0.9449284383868475,0.5355926978899098,0.27279196838229736,0.31129126066540846,0.39273512658644394,0.06271659498023652,0.19840855566146753,0.04765423071393704,0.8964364461411493,0.14919821538594646,0.8890044702104009,0.6595017877955589,0.024025295200572283,0.5213773921139129,0.8952648797640527,0.8285930080197996,0.5474263174016515,0.8799518526979933,0.6667881446088585,0.3960036758912633,0.555874785214447,0.6341431007848057,0.9079212623209165,0.7757885498661091,0.6436024957392052,0.27419249990642836,0.2590470812175032,0.35405512702478326,0.6047887807143307,0.48297279377368907,0.23705296788337515,0.7448235368632957,0.5266972709511332,0.29723885254394256,0.5035883680927464,0.48824251029911336,0.5473989527260971,0.3197718893688366,0.7004012546437935,0.8706153940468082,0.7999792722546157,0.7322629905893534,0.8386303135004479,0.6155792926034834,0.25387284925020415,0.49675224221959313,0.15660417192863385,0.8244328547788257,0.5687416028854387,0.7176852996043891,0.414053797352805,0.3985680373139978,0.8709700471945424,0.9629270051097722,0.18085076268815015,0.05621460451320881,0.7946611272857989,0.9613131677254788,0.5788843847940772,0.6891766640958061,0.45275697452115105,0.6140447749175556,0.4770240584868176,0.9199797953394496,0.027931613616632656,0.7642990807931958,0.4038146829814905,0.02629031974189089,0.5108558001231641,0.9535238356155666,0.9175072607714142,0.38643039356174813,0.9702247571807808,0.3297009977891878,0.3488766965048774,0.10930307432266195,0.7700107122647811,0.07892071009205104,0.9791464918461331,0.19873881861664466,0.3495198642047114,0.6306379593056347,0.9048261932731266,0.3613150231621488,0.4344007297961663,0.3960725127273722,0.15967841227974033,0.696021988899543,0.21344888731934442,0.9922510649337458,0.5696544245341438,0.876697694955375,0.8005051934100645,0.9464764680263101,0.012524121381570552,0.5432141692887086,0.18691929228341608,0.25093925654915816,0.41713047792735014,0.2066836977420088,0.4732967019711938,0.1359273926708494,0.43150230820236846,0.909998893638945,0.21251038098689645,0.8997005861299391,0.003392405383205066,0.2744827599316373,0.8563891429541283,0.08176091169474209,0.7960123313136988,0.5810138108321017,0.06922471757449589,0.1660566060803208,0.8869822788425434,0.8735831474990894,0.044631821054786136,0.38449779126867656,0.18093439096924568,0.7412630535768685,0.026543537519503113,0.7382216686677688,0.32411742859685666,0.6275004422280009,0.5217162519335835,0.5563556768348933,0.19018221700343618,0.7155174759400212,0.6184455473524213,0.7003603459952757,0.8461454043184287,0.2647839746035786,0.06658863023234651,0.8252417407206952,0.4074764525594725,0.8829587122471492,0.3696053833256778,0.8156077764768097,0.7253594508219868,0.02643120373243446,0.5786565842329456,0.0863021783500939,0.7081333617522115,0.9231984930181604,0.9463504487178296,0.784904684878396,0.5866588472510812,0.8657643133217605,0.2698869306021473,0.2961750917284026,0.5316921378430297,0.7479839574346245,0.06260578132392391,0.21378725827126577,0.661006879834225,0.10017810904583824,0.15111673399955894,0.7350860997047975,0.7205247891017741,0.17612463101670317,0.4715182508652661,0.6922789176743597,0.23701398648970806,0.9721515868911402,0.5801423260146373,0.31856334217136684,0.6531358855132964,0.9697263561514515,0.5699288851012643,0.619701465511049,0.7712788588165448,0.16002954235680944,0.6225217087090336,0.8906615653834972,0.9170968571119996,0.6953348930464096,0.32036884796048426]},\"selected\":{\"id\":\"2110\"},\"selection_policy\":{\"id\":\"2200\"}},\"id\":\"2073\",\"type\":\"ColumnDataSource\"},{\"attributes\":{},\"id\":\"2086\",\"type\":\"BasicTicker\"},{\"attributes\":{},\"id\":\"2200\",\"type\":\"UnionRenderers\"},{\"attributes\":{\"axis\":{\"id\":\"2085\"},\"ticker\":null},\"id\":\"2088\",\"type\":\"Grid\"},{\"attributes\":{\"source\":{\"id\":\"2073\"}},\"id\":\"2102\",\"type\":\"CDSView\"},{\"attributes\":{\"fill_alpha\":{\"value\":0.4},\"fill_color\":{\"field\":\"color\"},\"line_alpha\":{\"value\":0.4},\"line_color\":{\"field\":\"color\"},\"size\":{\"value\":8},\"x\":{\"field\":\"x\"},\"y\":{\"field\":\"y\"}},\"id\":\"2098\",\"type\":\"Circle\"},{\"attributes\":{\"formatter\":{\"id\":\"2197\"},\"major_label_policy\":{\"id\":\"2198\"},\"ticker\":{\"id\":\"2090\"}},\"id\":\"2089\",\"type\":\"LinearAxis\"},{\"attributes\":{\"args\":{\"s1\":{\"id\":\"2073\"},\"s2\":{\"id\":\"2103\"}},\"code\":\"\\n    var inds = s1.selected.indices;\\n    if (inds.length == 0)\\n        return;\\n\\n    var ym = 0\\n    for (var i = 0; i < inds.length; i++) {\\n        ym += s1.data.y[inds[i]]\\n    }\\n    \\n    ym /= inds.length\\n    s2.data.ym = [ym, ym]\\n\\n    // necessary becasue we mutated source.data in-place\\n    s2.change.emit();  \\n\"},\"id\":\"2109\",\"type\":\"CustomJS\"},{\"attributes\":{},\"id\":\"2090\",\"type\":\"BasicTicker\"},{\"attributes\":{\"js_property_callbacks\":{\"change:indices\":[{\"id\":\"2109\"}]}},\"id\":\"2110\",\"type\":\"Selection\"},{\"attributes\":{\"axis\":{\"id\":\"2089\"},\"dimension\":1,\"ticker\":null},\"id\":\"2092\",\"type\":\"Grid\"},{\"attributes\":{},\"id\":\"2077\",\"type\":\"DataRange1d\"},{\"attributes\":{},\"id\":\"2081\",\"type\":\"LinearScale\"},{\"attributes\":{\"line_alpha\":0.1,\"line_color\":\"orange\",\"line_width\":5,\"x\":{\"field\":\"xm\"},\"y\":{\"field\":\"ym\"}},\"id\":\"2106\",\"type\":\"Line\"},{\"attributes\":{},\"id\":\"2194\",\"type\":\"BasicTickFormatter\"},{\"attributes\":{},\"id\":\"2198\",\"type\":\"AllLabels\"},{\"attributes\":{\"data_source\":{\"id\":\"2103\"},\"glyph\":{\"id\":\"2105\"},\"hover_glyph\":null,\"muted_glyph\":null,\"nonselection_glyph\":{\"id\":\"2106\"},\"view\":{\"id\":\"2108\"}},\"id\":\"2107\",\"type\":\"GlyphRenderer\"},{\"attributes\":{\"source\":{\"id\":\"2103\"}},\"id\":\"2108\",\"type\":\"CDSView\"},{\"attributes\":{},\"id\":\"2083\",\"type\":\"LinearScale\"},{\"attributes\":{\"overlay\":{\"id\":\"2094\"}},\"id\":\"2093\",\"type\":\"LassoSelectTool\"},{\"attributes\":{\"line_alpha\":0.6,\"line_color\":\"orange\",\"line_width\":5,\"x\":{\"field\":\"xm\"},\"y\":{\"field\":\"ym\"}},\"id\":\"2105\",\"type\":\"Line\"},{\"attributes\":{\"active_multi\":null,\"tools\":[{\"id\":\"2093\"}]},\"id\":\"2095\",\"type\":\"Toolbar\"},{\"attributes\":{},\"id\":\"2079\",\"type\":\"DataRange1d\"},{\"attributes\":{\"fill_alpha\":0.5,\"fill_color\":\"lightgrey\",\"level\":\"overlay\",\"line_alpha\":1.0,\"line_color\":\"black\",\"line_dash\":[4,4],\"line_width\":2,\"syncable\":false,\"xs_units\":\"screen\",\"ys_units\":\"screen\"},\"id\":\"2094\",\"type\":\"PolyAnnotation\"},{\"attributes\":{},\"id\":\"2195\",\"type\":\"AllLabels\"},{\"attributes\":{},\"id\":\"2203\",\"type\":\"Selection\"},{\"attributes\":{},\"id\":\"2197\",\"type\":\"BasicTickFormatter\"},{\"attributes\":{},\"id\":\"2202\",\"type\":\"UnionRenderers\"},{\"attributes\":{\"text\":\"Select Here\"},\"id\":\"2075\",\"type\":\"Title\"},{\"attributes\":{\"data\":{\"xm\":[0,1],\"ym\":[0.5,0.5]},\"selected\":{\"id\":\"2203\"},\"selection_policy\":{\"id\":\"2202\"}},\"id\":\"2103\",\"type\":\"ColumnDataSource\"},{\"attributes\":{\"fill_alpha\":{\"value\":0.1},\"fill_color\":{\"field\":\"color\"},\"line_alpha\":{\"value\":0.1},\"line_color\":{\"field\":\"color\"},\"size\":{\"value\":8},\"x\":{\"field\":\"x\"},\"y\":{\"field\":\"y\"}},\"id\":\"2099\",\"type\":\"Circle\"}],\"root_ids\":[\"2074\"]},\"title\":\"Bokeh Application\",\"version\":\"2.3.3\"}};\n",
       "  var render_items = [{\"docid\":\"9950631f-2d25-43be-bb72-088e9901f054\",\"root_ids\":[\"2074\"],\"roots\":{\"2074\":\"82288fae-ac0d-418f-b5d5-d3de8a829b40\"}}];\n",
       "  root.Bokeh.embed.embed_items_notebook(docs_json, render_items);\n",
       "\n",
       "  }\n",
       "  if (root.Bokeh !== undefined) {\n",
       "    embed_document(root);\n",
       "  } else {\n",
       "    var attempts = 0;\n",
       "    var timer = setInterval(function(root) {\n",
       "      if (root.Bokeh !== undefined) {\n",
       "        clearInterval(timer);\n",
       "        embed_document(root);\n",
       "      } else {\n",
       "        attempts++;\n",
       "        if (attempts > 100) {\n",
       "          clearInterval(timer);\n",
       "          console.log(\"Bokeh: ERROR: Unable to run BokehJS code because BokehJS library is missing\");\n",
       "        }\n",
       "      }\n",
       "    }, 10, root)\n",
       "  }\n",
       "})(window);"
      ],
      "application/vnd.bokehjs_exec.v0+json": ""
     },
     "metadata": {
      "application/vnd.bokehjs_exec.v0+json": {
       "id": "2074"
      }
     },
     "output_type": "display_data"
    }
   ],
   "source": [
    "from random import random\n",
    "\n",
    "x = [random() for x in range(500)]\n",
    "y = [random() for y in range(500)]\n",
    "color = [\"navy\"] * len(x)\n",
    "\n",
    "s1 = ColumnDataSource(data=dict(x=x, y=y, color=color))\n",
    "\n",
    "p = figure(plot_width=400, plot_height=400, tools=\"lasso_select\", title=\"Select Here\")\n",
    "\n",
    "p.circle(\n",
    "    \"x\",\n",
    "    \"y\",\n",
    "    color=\"color\",\n",
    "    size=8,\n",
    "    alpha=0.4,\n",
    "    source=s1,\n",
    "    selection_color=\"firebrick\",\n",
    "    selection_alpha=0.4,\n",
    ")\n",
    "\n",
    "s2 = ColumnDataSource(data=dict(xm=[0, 1], ym=[0.5, 0.5]))\n",
    "\n",
    "p.line(x=\"xm\", y=\"ym\", color=\"orange\", line_width=5, alpha=0.6, source=s2)\n",
    "\n",
    "callback = CustomJS(\n",
    "    args=dict(s1=s1, s2=s2),\n",
    "    code=\"\"\"\n",
    "    var inds = s1.selected.indices;\n",
    "    if (inds.length == 0)\n",
    "        return;\n",
    "\n",
    "    var ym = 0\n",
    "    for (var i = 0; i < inds.length; i++) {\n",
    "        ym += s1.data.y[inds[i]]\n",
    "    }\n",
    "    \n",
    "    ym /= inds.length\n",
    "    s2.data.ym = [ym, ym]\n",
    "\n",
    "    // necessary becasue we mutated source.data in-place\n",
    "    s2.change.emit();  \n",
    "\"\"\",\n",
    ")\n",
    "\n",
    "s1.selected.js_on_change(\"indices\", callback)\n",
    "\n",
    "show(p)"
   ]
  },
  {
   "cell_type": "code",
   "execution_count": 12,
   "id": "f74da766-f37d-459b-a79e-9c4caad030db",
   "metadata": {},
   "outputs": [
    {
     "data": {
      "text/html": [
       "\n",
       "\n",
       "\n",
       "\n",
       "\n",
       "\n",
       "  <div class=\"bk-root\" id=\"d6c696b9-d0b1-46bf-80dc-43055a88165f\" data-root-id=\"2294\"></div>\n"
      ]
     },
     "metadata": {},
     "output_type": "display_data"
    },
    {
     "data": {
      "application/javascript": [
       "(function(root) {\n",
       "  function embed_document(root) {\n",
       "    \n",
       "  var docs_json = {\"2ea50c3f-8388-4131-90ae-f1e40cd51f8b\":{\"defs\":[],\"roots\":{\"references\":[{\"attributes\":{\"children\":[{\"id\":\"2292\"},{\"id\":\"2293\"}]},\"id\":\"2294\",\"type\":\"Column\"},{\"attributes\":{},\"id\":\"2275\",\"type\":\"BasicTicker\"},{\"attributes\":{},\"id\":\"2399\",\"type\":\"UnionRenderers\"},{\"attributes\":{\"data_source\":{\"id\":\"2286\"},\"glyph\":{\"id\":\"2287\"},\"hover_glyph\":null,\"muted_glyph\":null,\"nonselection_glyph\":{\"id\":\"2288\"},\"view\":{\"id\":\"2290\"}},\"id\":\"2289\",\"type\":\"GlyphRenderer\"},{\"attributes\":{\"formatter\":{\"id\":\"2396\"},\"major_label_policy\":{\"id\":\"2397\"},\"ticker\":{\"id\":\"2279\"}},\"id\":\"2278\",\"type\":\"LinearAxis\"},{\"attributes\":{\"axis\":{\"id\":\"2278\"},\"dimension\":1,\"ticker\":null},\"id\":\"2281\",\"type\":\"Grid\"},{\"attributes\":{\"formatter\":{\"id\":\"2393\"},\"major_label_policy\":{\"id\":\"2394\"},\"ticker\":{\"id\":\"2275\"}},\"id\":\"2274\",\"type\":\"LinearAxis\"},{\"attributes\":{\"source\":{\"id\":\"2286\"}},\"id\":\"2290\",\"type\":\"CDSView\"},{\"attributes\":{\"width\":400},\"id\":\"2291\",\"type\":\"Div\"},{\"attributes\":{\"axis\":{\"id\":\"2274\"},\"ticker\":null},\"id\":\"2277\",\"type\":\"Grid\"},{\"attributes\":{},\"id\":\"2272\",\"type\":\"LinearScale\"},{\"attributes\":{\"fill_alpha\":{\"value\":0.1},\"fill_color\":{\"value\":\"#1f77b4\"},\"line_alpha\":{\"value\":0.1},\"line_color\":{\"value\":null},\"radius\":{\"value\":1},\"x\":{\"field\":\"x\"},\"y\":{\"field\":\"y\"}},\"id\":\"2288\",\"type\":\"Circle\"},{\"attributes\":{},\"id\":\"2270\",\"type\":\"LinearScale\"},{\"attributes\":{\"children\":[{\"id\":\"2265\"},{\"id\":\"2291\"}]},\"id\":\"2293\",\"type\":\"Row\"},{\"attributes\":{},\"id\":\"2268\",\"type\":\"DataRange1d\"},{\"attributes\":{\"icon\":null,\"js_event_callbacks\":{\"button_click\":[{\"id\":\"2295\"}]},\"width\":300},\"id\":\"2292\",\"type\":\"Button\"},{\"attributes\":{\"fill_alpha\":{\"value\":0.6},\"fill_color\":{\"value\":\"#1f77b4\"},\"line_color\":{\"value\":null},\"radius\":{\"value\":1},\"x\":{\"field\":\"x\"},\"y\":{\"field\":\"y\"}},\"id\":\"2287\",\"type\":\"Circle\"},{\"attributes\":{},\"id\":\"2266\",\"type\":\"DataRange1d\"},{\"attributes\":{\"args\":{\"div\":{\"id\":\"2291\"}},\"code\":\"\\ndiv.text = \\\"Button!\\\";\\n\"},\"id\":\"2295\",\"type\":\"CustomJS\"},{\"attributes\":{\"overlay\":{\"id\":\"2283\"}},\"id\":\"2282\",\"type\":\"BoxSelectTool\"},{\"attributes\":{\"args\":{\"div\":{\"id\":\"2291\"}},\"code\":\"\\ndiv.text = \\\"Selection! <p> <p>\\\" + JSON.stringify(cb_obj.geometry, undefined, 2);\\n\"},\"id\":\"2296\",\"type\":\"CustomJS\"},{\"attributes\":{\"active_multi\":null,\"tools\":[{\"id\":\"2282\"}]},\"id\":\"2284\",\"type\":\"Toolbar\"},{\"attributes\":{\"data\":{\"x\":{\"__ndarray__\":\"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\",\"dtype\":\"float64\",\"order\":\"little\",\"shape\":[2000]},\"y\":{\"__ndarray__\":\"Kc+IQKLETEARPAdu3fBAQFkOZ3r+hVZARfAkBQI5NkBG42FcpycyQF9GmZ3XZTFAyvukquTzSkC6A3gZ1486QIjWV4AjMFhAtkjgyAyCPUC1j2lVhe80QHhIOV1fQFBA7AfTa9knWECnGh+/49NMQIh1Wpm0Z0hAbYjT+5mKRUDdrKyBCTFTQJAmU/Mj4CxAMwy8yodmWEAu2A2mRrhHQPYZ3CKdglVATXFF/uu8RkA1L4YekLtUQKQQwJ39e+4/KQeBSIAMIECXk2jGeDtTQBjL9atfrlVAgWJPRIASUUCfV4+Y8C5DQJDbNT6vzUNAEM+wky7UNkAU81OtqNhTQFyhORga7UVA2DYAA2YCQUDdbkVG/2JTQIllpMlCiSRA3CVaDNYOU0C8SsU5K39KQNEhnyWw2lFAO+cHiArfSECAFm5SVvtDQIhfQ17UHEVAtKCiJn5JUkCb0XkKmFEgQPgmpgbwXFJAqmGoKptJJ0DTD+z7nIMxQMwVzKtJt/0/CNdardCuQECeVMcQdxZPQISMWqk4eUNAyTyBWqdLREAjoQpZu6xGQPwKEtKXBFFA/UVHFzVIHUChMn+mxyk5QPS+yTANT05AKCWDdOEqVkBcPPGNMAJTQE59ogjqoUpA/9ckWDdqWECK6qiKalEmQPr6B4SJbg1AKBaVGQN4UkDvW3DxK4pDQOMyPdyuzVVAEkBymfcZU0As4FPECE5XQIVfnCsQIlBARtwsywKXNUDvdT7Dao4jQJ0wjjJuFVZAaJzMj+wEUkAoam+4oxtDQE7RBktKclNAG1/XYJ0jWEAql0Xuo61EQPlW/5A9u1RAjJ62XmPvFUD7TAthGetCQKvwTaecL0NAzFzmeQeQHUAcBL5nPchUQLwN3YdyoCFA4CCIA9i0LkC2VV0C4zZMQGjv3pBQt1hAeDdtOjg9V0AVuVIyHNtLQCYKmzSvdEFAXTj1cKc2VEA+4lKJWug5QESh9yW+1FZASGxIjn6JSEBQ53i3tTszQM28ZgNTCVdAJNMPE94uMkBbZ1Pm/HZOQH1Zy7l65lBA4jukFhSwKkBeVxDV+vBQQBgH5PCgxURA+a09Pcp9QECCTkLJP2FVQB4/t0tKrkZA0H5BjAdYVUCeBaAEDgFMQHnqObpFG0VAvyvXr7BTUUC/p/TU5J9TQFosK8Hw+VVAef5vapJZVUBGikslOdFGQDzVrWHoKkdABb9isFmuV0ANzzYYxpxVQC5h6sbW0lZAbMXKtuVIREAJkKjcVIFYQMPBbfiKs0NAry5CMunjOkB5ShulZZxOQJShIPgZ2zpAEfzy5YA+VUCga0twoV5EQKGxqxxQTlRA3onDXaVgTUDHkUv8KuRVQG3+3sKFgkRAbLzD2pj7JkAI1hLs/bLsP0T6OLPgIVRAN7NbPSC7UUCnEhEIUz5TQAMD8Hw5509A0WCylri0QkDVwmrTkVhDQEQETlUJyktAIW9Pe/3pPECrTClkH3w6QHMdNzLIElhAfuFPPfcwSUCBElYTl49YQFRBGJwZkhZA6Ob1x9TQL0DA0cDfgsVXQFeIHHo4cFJAUlqDtHbgQUAtvsPWIN9TQC/iPD5Y2EVAGS9MIUBORUArIGSRzoxRQAjzePP9OkNA3ku8GadMPkCmmR0HqoRNQLfdXlX0TTxApo+dnvBdTkBreDZRco1UQK1IvVhq9lJAecM1fqgqRkB0HlG5yw1WQC1i4j+DXjpAC8UzImk7QEDctCcXHnpKQJRSbjm6FTJA5P1cKgnQREBdUd5t81ZGQLkDt/utaDtAK0/9IU74UUCsk6smWQpUQDwwq7q2QFVAN6vBxyjAPkCYcT1BDypXQJS1Tlx8sS1ABEsRNCvYUEBkPpZLLMY5QDS+scD0aERAzxpeDMXbR0Cwv5GDeK47QLb1imXLKFdAzitgjIQ+VEC4Zm2IED1EQJNMqbwhg0tAKHACZ2/xRkAiI25HE6lUQOGttcLtXEVAxj6V1yghUkCrW7efFSg/QA/xRrQC9kBAOs/T4CoITkCphYSONVo6QFcw7WNDQkdA7mWPe+NhM0AeGfNAmrBQQDPtaLc1KTZAimRKGIUhJUCFzd2pU2tPQGRrE28yHTlAkgSm1VgjUEAafUAEgkEPQLIGi0eA/lRAs81BRt2aT0BmEZYaYt9VQP/FcqwFhUdAVwlzR6+FUECHjV3Gn5o4QF6OdaX1Ri1ASv64I8H9LEA3EBdDWEJSQOLdd1Ox7ilAg7IxTGVaVkDcNHNUL2hAQJw22mBYqj1AwMJ43OraVEATRomsxeMmQEdG4HOtGlBAl53+OmZeTkCJjby6n7RYQJGtpTy+7khAptG7B05bWEDi86iO4Dk3QC5G9X3RrhdAXxOYDwoSWEDU+mCYidVWQNl+zk+34TVAwoB0BX3hUkCGPBxE7ZBYQDTkl/zY9lBAE5S6Jdv1MkC/xznBS4dVQLsOU81HblJAJZU3wduNUUDKaEMHO6RXQLrNmIEY4U5AgVCDXLMPVUATYRroInwmQGFJmzCBPVdAEP1VoUBa8D/o1V6iPjVKQM6IfJQb6ypAyTj4mTeZQED20SPitU5SQE+jUlRy8zVAASdqehrFS0BTprkFyMlTQOuNb9gyXkRAfFTBjQyzC0BEppWakRs9QLjclosqRiJApH2hiZV2RUBw9SsJhItVQFoNqIdofzhAjeQq5XHySkBK8Od8Ja41QObIoqYNZSJA/AiP585iTUAJw0a11y8cQCvwLPMmcFBAjMkzaQauVEBQmM8IJq9VQFsMIQbQukFAnZU8VTThTEDfxgWyAjNHQG8px6CpX0RAPq4gJCqGUUCKI0jJKZdHQNZmuoHwPzRAWhj0kt0WVUBWvbwrinc3QM5x06SsFEpAig96BAdhVkCu6kGAiL8LQKZXSLLmy05A+qRg3v+jVEAEWHsu148gQIRG/5AxpVZAP500qpgNUEDobKjwQecPQGeYMkFUd1hA856VQzXZHEAM9IRcFeVQQMBvI36XsStAbpVfy657NEBH+L1nbzBRQOU1xkfat1dAAP8dOzhHV0AW82r+2MNVQG49mpk15iVAvgL36DRoWEAi4YY5mCEvQDz8YdY67lRARU5+cQOsU0A9y9OKCY1RQEeEWHwnC0dALEVibc5pPkDYmmGzRR45QGJcwL8NyRBA/rkoiBwRVkBk9yyQ2xlTQNmOvDOXOz9ACkpXr4sjNUDoL20SA20TQKLK39h5jz5AL+JHuLybQ0BggluGn74bQBo52fNLKE5Ak+Z4oHz0NUAAsV4nTFoWQK6c6ZQ98CZApJ+gKNusHUBHgdD7o8BYQOv58L2ZowpArokV+WR5KkDoBGwT989XQJpLIoTExlJA1e6LKzTZIkB0uJIU5ytLQKaQgmxpliZAC06hylTeTUAl5ij9OlosQBRg2kVCJ0dA58A4BhGOQkDbAFE/ZAUwQHCN7NlrEElAwNjKzFlMGkD0Kq0CvWsuQFONke9sMDRA4C8iRhyfU0DHbfJ/MxlFQB69fIkb2iZAarciraH6UUDBKwujTzBMQCi9ZiN0c1NAVi+amdHGUkBvkKrdzCk3QAasfDlItjVAt7Mu4lVTRUB1yDgul81WQD5KRZMNI1ZAA0t2WueXUUDv7YDYfw5XQFktb31FhgtAquYkFvITM0DEEOtiNLZSQPW743Z04QtAtvZbQH2LQkAfxu5bxIlHQPnBY4OTAVZAgOqjhlGUU0DfH8p+FrFTQMLgjoqnfzFAA6xGIDvvUEA6xmR7/1ItQDA0UqC3sUlArVPaBJfKKUAKPrnFt/VEQEU7gYtXuUFAPOfJiOu+UUD1Aa0Xk00yQC55jqqOogFAGREbrRkHUEBMi16bLcc1QMUQuNaBgkxAxSI8egvNWEApfvNyI15NQNFaWqY6AkBAQfKjG4KrWEAmy37iu8RDQFGTRoG6ciFATAh2K3l3VkDEXcSLZFrlP/txKkVXoCtA7y6/w2qbV0BC/zx8LfEyQMVGb8OYh1RAP4tFKuVaUEBjLdPGgRtRQKI9SozcWhRAmm+StLdMF0AlPv0SlH9GQNpDP+BxnkNArs/8RjHfTUC2NC2ncu8pQMxnuHpFYStAXB2yJhS1Q0B9rgkGfXlXQIs3gQ6eURNA8GhqtAOgPkAFa3gGVHBBQF3UX7m4x1FAV3YUJD75UECiDgy3lAhOQMgokKNfrlBArXTfgEmkP0CKwZulaK4zQGORei4MTUVAAxH9T9VWUUAKkSKqvVozQEVh5oEwljhAZ2rrxPbZTkDaDQ/jK448QOZljt2blj9AENNl4t4jVkCVzierrxMKQFe9W6nDxSdAttjv7S4aUEA1ePgpMThQQLAMZTtNyk9AJIApF1I8UkCI0NDyIltKQABgw11rBUhApiLP8bJNUECoUSxCE8s0QAV642BgvERAfAS4zvkyWEBdzpmAs4lBQKVYxnpRryVAltMcyfW6R0CrWSyL8r1TQHtaalijSjhA5PjUZkZDVEBsAvEpSZlQQDDFfGtbxkZAWdUDwkRYUUBckFioKTJTQPkvHwdV5UBAyYi/QBQwIECH/kaSM5dHQBPwITXA9kBAT/ue2JtdSUCNG1Fl3slXQHt68nBOLjdAVk5G+nvABUBUFXMUbQhJQCsXXvRwf1NAtC+wSdTxU0CPnufHICJRQInP4QdFrFBAmto4PtPXSUCtr5j43b0WQLWvhLZXLwpAhPMcLUP1HEDgRhkizddXQNLr752KHVJAkpDL0svLWEAlKQiMXOlNQKqQe4f7IkNAS11OEf8QVED7m8iB859RQKh6xBI4IFJAdTF3gk15LEA42iERw3cwQAvrawN4eVJAGPNClmo1VUDCIP40zFVHQKVqUBxeDkdAWtC7hKg/IkCp2yZ1sTAwQAiIwT5YzEBA7/64pRgUWEBRrnEYYiNWQOUuE8HlGlJAcBM3J2WfRkDLgnX354c0QAqyjA/xCURAnq4yCpPSUUATnJEznfosQLZd7NMoYDxAFq128No/QkDfRELRKl85QLOJMySqRVNAvbWP01+4OUCtdrdjA3dYQEuA2OSCOUtAbrAh5EnZQ0BGL/NV8IVUQDD3AVZ/sgdA9Ha9YTXGVUD4Y4wO0H43QHmJX1rIQElAIkU3MfwQSUA4zI03qSZOQJRh834YOFhAh+UaXxqZNEBFOQ15iq9TQJCocUC/sTBAQ1XOkLJtUEB2V+qMtXFRQJveivfSgzBAvRhlh/1tPkDyngDQxFJWQIp6yXIGTDpALE5n27/EV0Cqg7V2EphWQM8iJzw7C1hA/EzRQ7+BWECE7ZJg6kUhQNuiDoLj3jNA54Aq9zgAUkB0G4WSNpFTQG16YmFmojpA5pDGhnUWQEBCsUp+19URQIaoVcTocERAXzIRj4JSDECP8LWM++g+QA73cR2B+vc/TNKuPRfvQ0D0GuH6BVdWQA53FO0+Tg5ASZuatoINUkB33E7o8jRYQBr6hq6ybElAlHkrsNAVVUA4Rd3WJV1AQCQ8kzORtE1AP5rOeEKbQ0CHTl/F/E9UQDp9jA94K09AM3EZpBpLQEDh9L+ECKcHQBq3hFx8NDJAKKhLLMg7UUAx8cmFxwFQQPTz6Rz3zlNAkqnPYPMnQkCJJanpr+Y9QI3ZOFvv91NAHDqsoApqSkAeVH0666AxQIZeWf1MxitAWA0v63OUQEDxboXHXSULQJ/4OVrAlVdAOmV55RAKU0CCfGQVM/lFQBN80vF+x1NAMKNKXVzCAEBllj8oDWxFQLvGVfYC9EBAGsjdhLcZTUD06AM0UAwYQJUksYTdblBAz9cfvqz0N0CJhC3KG5Y/QAKovdR9plBAK8ZAiDVgHkBVK8awEJtSQHISXhTNjThA9DAJgojYNUBuNhtu+JwlQOJGU3wztUJAk63iWUWRWECdkxRHEfwhQJTinJ+/sExArv0olSqwVECk+mc2+2xWQJj6flkyGlZAvq39jPthQkD6qCas2BEoQHQuUoJ23lNAegH4CVNtUEANxc6ZNY9SQMpY557wSVJAvWajChb+VkBEe1zBJilBQFf+sflp2ktAhl9+tlIwU0AcYfj2qnUDQNluuKOJJFJAsqxsH+D2OkDG+AhPbg1VQNIlFSNW3VJAWD7dIW2oK0B9s37MpC1VQJWniAKd1AtAeiGlEdiIU0AylFIgJTw9QFCIEmtgTzBAHmX9NbEXO0CS8kDdF3s6QOTRNTYC5fk/igEU2CoXQkBeVzUK3kkqQJTLPcYYIElAG6H5g+JJU0CzKRp4VIhAQHz60rfqvUhAqNADHm3WR0BEC+EUmlEpQFgRs1PJQUdAwa6My/W7PEBNGmIE/EVYQKYtBhukW1JA1RSjHm/0TkDy3i8eSVBJQFY1dK6bw1dAmtILOsr2WEBUD1DOT9k7QOFDiMbb60pAiGusjZxvQ0A2up7JSQlYQNAqnytHST5APpkq9+pAUkDLhsnQDBtEQMZBIq4pazRAFMnXKPr0N0BwjgjPUN4QQG7k8HqNEldAxWzVjg9NS0Bf/D2ogepTQK3a02SKUVJAi/mDUseWVUD2xrAYVcxTQK0GDqPsVVJAZxDgnBYxUEAUoMNgMxBBQP4YNKfyX1JAl9QhgGJ0UkDk9E5x8tlAQN+2HVVo5UZA0q/rZYQOSkBLVpU+bHIgQF7VYZaGtzFAfCB1B+8HREBJ3ov/c2pXQBb5PEehBiVA+WiRvljVUkAu6lpg58VTQLzbj5HNXEJA70FzFO/aRkDxOVfnVqRCQDv2FSuC4EVASSMue5r/UECV4/njtcdRQEngOnY/xE5A996VbvVNVEDGqJTKYlcjQAPDDtd3fzZAH8qPNsdHVECG5MUl/RZRQFtkPsUCoENABL91NmeoRkBy4k7n+UcjQGI/KLxz+jRAPi0z+tAtTkCgmVRM1UU7QMRcVa3KXVNAmWUazat4NEBOi7oXaUkxQHThCGhi6lRA2skOI9WdWED8HbJz2d1WQDtRz1RfJ1dA29Tt8+VPTEDB+sI9hTYZQEvKdpkTxUtAS+TUatHSQUD2S6rapdY1QNCz4NJyP1NAtGXbFVz/FECv8qbCbChGQN+oas1MNVNAioaEEZUyUEDLAhtVLRJYQFLF5mNVEEtA5bozrFXOJEAorlOFzUBJQGDktjoiBlJA3ddQzl3QTkBkIY4+NNwtQAn/+zAHFFVAWtB9JXE9PkBYZsQF4jU8QBLAT2+79VdAAUJnlR60VUB+LUQ81Ns5QEAUQMd+u09A2q1RL6TFQEAZ/XboCZRNQGqK6zLfK0dArxaC5BHgREABHlcRvPdKQLzegsAS/VRAt+nomrf4QEAvzp0RqkNFQM+waWGlDDlAZqnwegH4VkARCKx0nblGQF+jt05yGk5AStPIOMrPREBkkLoZyb9IQCvQTRvBlE1AtyEJ76l0VEDNLy/ZlOJFQK3CCtESnVJA6BRwgfxyWEBLcz4jw15AQNOZj99kBFdApUlPQqNFSUDPh4Kcr4U+QHVDj/8Cak5Abm5A1W3UVkB4r9AxoLodQI2cdripcUFAdfBD1pwVOEBhsrVCOjobQHg0BwU6GTxAc47Em4U5VEC/0GIKLcZHQB28jz1b6kFATw5JjVXFPUAexx1Ypc1YQGr28wAx8g1AcqcSlTh+KUARzOfCOmgvQDcX3uV05ExAQYxgBgUqUEBdRi0Z401TQApkTww+Aw1AmFCKfkkZV0DonjQBhYZNQMtU50+PkVdA/taQ6+JTE0AAk/hnpkVMQJwehsKuURNARqxhWWg6IECGSkAoVR0lQMQUuIwzKgZAdojxT64YUkAiqP81MXU5QHu4w5VbKEZAaIXR1S1CDkAxz9DkCW0pQKKwDrAoSkRAWxCJXQxMQEBXkvV0Yc9FQE6mawUsgVhAfVcMtCF1WEDggTaLrN8tQCvXeoESwyZAoA1Mw+oxPEAMJjhLGVpSQMiSdCBfq0xA4RtDO31GUUBV+vWrYCVSQPGzRz0GgEhAEtV7YYSzSkA4OFI1w4Q6QHazK1BBRlZAJpGS9ojyU0AiBOf+wMIzQGxEX/uQy0xA+o8iKqu/A0CCW+1DS1fyP0u1GgBWYUhAVwRaPXlkVUC/IY5LIFZSQLrcdT0GQzZA5alSXxRAWEAS8s1O6hgyQLf9HAiUIURAgr049C1fVUAHYILQ+RZQQNH0/4PKeD5AyuzxnkmQQ0CSrWsBzZo/QJyxCmSjOldAkwa2NUi1QEB0iPtjy65DQADT0o6LfEtAmtoxBAenVkBiyM5up+9DQIG7C8ne1kFAYZ/o7s+iPUDH4wOrahpRQH35VfhPS1JA2suLOvkFP0C0RpfeDWVCQEhJMGOCfkNAUat9LDDCOkBRz/qN+F5QQK8TN0sGeVNAbOMpDPIvU0A+4Xk/T71XQPOPiCNXe0VAWThTSQ8zOkAmH+uUNqswQAKlL/AI1TRAb95qoftqRkCOVIJOrY5MQJ1Xf65h8VhArumrXRt+N0CTAxZ+f9dFQDO+49PdgFFA7+vAbJofIEATNqpGZD9MQAlUthOn901AzUOmbbCNV0CztVPPlQ9DQMiEIK8zxANA6CD+wHv/QkDkV9rPSBVWQB6PSqhPwFBABV/9j+BEUUAU1q4n45dKQNgZCxEeMChAPnps6YHiPkDtQ7Cm0zZYQGZbQU/9pwxAuGVxEta1RkBFYoEwHdZRQPpzQMxnk0RAttD6AnHdOkA248FrPddXQN0/jHcDAjNAUfdJ5aYUM0Aoob0pg3MrQAXP0coOiUxACrcfpz7AUUB6SrOFOeNSQOHqjH5YUztAZhyFzdKVU0C384HgYSo/QIGRGveK01RAIHT8eFCWUEC6Toi/ihMzQBLl2I0RRExARlYQwKjrWEB7WaDndCQ9QHY82YqOaUBAC3OwNsgsUECIT6uolYtWQOlgDn8Xn1JABj6iZHry/z+6yMU+CWbzPyF3n1fvllRA8C3G2lsmSkBtgvzlNnNSQJqigHi+8khAadWYw4xTVkCueaPCOOc8QOhLkpr8bj5ARyJ/i1jwOEAeJ74ctKkuQHP46cUc11ZAr70ilcqKRUDiEk13GfdUQM7+e88bEjRAxdLLN4CIVUDk4/z/YwoYQHGsfy/wrkhA+kd6UxPjV0CSS7k4ULoGQAFHrmp64U1AtBgPTa5nSUCSmWJEeg8eQA6Z9ZQKVldA4IjxPL0eV0BIW+O38wpKQF8atY0ZmU1AWZTyPWWLKUAnvvtscBBSQBUFHtO4a1JANa+JKmnyWECwGtF7BGFGQA+/9o4K6EFAwnM9kTofR0DgeEqiIgZSQGbjo/kU0kFA2gQqjYhsS0CqZnr7PVYaQPAgR0nKmS5A1PDUQWN/JkC8/B7n3lsiQNLil85EIlFA3+GWo1hWVEAep44vvWVYQPIE5mOEs1FAn2/DmDuVQUAW5UnwO0dAQOqjGuRtdExABURrer5KQ0CsRqnUVb9YQMQh1A2BNlJA7+OZcF+JSkA0iaJnLEw7QDpaQajbFFVAzqhbK+BiI0DStR+kFWBTQFBZomz26UBAwYN74J6FAkBpvOu+t98VQLYh8pVav1BA1AlvdrH9TEBm7gnFb6VWQKL1qvTPrTxAy6pca0tjR0B/Wv8072VVQC+hL4cUREhA/It41y6fVEDYRj8kUP1RQHSI17frJjxAOxy6dgj1JED+utrHfTBXQPYThjnbgRNAVBERCExBRUBb2aETDIZOQAWGUiU6y0RAPvbSs9K9EUA1oLVjh6JWQBQitHTb7VFALmG1IPTAREA1hug4Zw1SQOkAcjrosVdAH7rSb44hPUAJ3tib6hVVQOB6TIGlLFZA1TF/AbqqVEAJNSdeBvFJQLLyDvWfPTJAWhmSQqQ3O0CO9B1CA3BWQOA77ySir1FA/cQZcXJhSkDCNLp9IvhTQDvbHjcIMDZAuz7UCZQVT0AsNQ8KaQcmQCbIf3R3blVAVmPSmgIJUUDA8VF7VEZKQK+JBv9BVTVAAgjWZYTSUkAhmyPbDPlUQEdHUHLdzFBAURXPMBqQEkAYWOF0mxgZQOLTwilHZfU/RhqSh6P99j8btyqzuuRLQE7POto92BZAZnozxLKlQ0CYadzp11BJQPVs4X/WuiVAccUtwJGCVUC+QpefhENSQFQbM4uxnkdAjznlyZMEQkDXL4RzyNpXQNBuWv72pyVAHNSR3twtOUCOgM6sWXk3QI2MCdBB11FA8ji4dpltQECW/kbrkKo/QGT8EaIZEVJA6HcWESUwMUAXtN5NpG1UQFLcZPn+rldAnBrdvqUvTEDUVIuchc87QAoYOEAwU1dAKrtmyPHKTECI4IZkYphVQOOHRyalpRhAxwpDZTWmU0C5CclDHSZXQNGmlrbAWUtAhZ5WphECMkA1O79qnK9RQHH0TkGqdERAec/ej2EzSUBDfNa6+clFQPGeByvl91FA/5yixJT2SkB5E1eZjxUzQOVa8/zKgR5AJDMrz6WQIkBih3BUePRTQBzLKykNjUdAOJcH2/5TUUADJyh72fxYQHwJT+F+5UhAzzsaYgz0SUD4u9HiZzZXQO0M9roQ/FBAsNJwh6OTUEB3J5yaSN8WQLe0TuhW31RAlcI2xdWFQED2cV+3rkZSQL5j4/VV5U5AtgUt0RI6U0CUEVkkd94sQI3js+4zZlZAOzASOIZJREBmEQrNa5FVQK9T2L5pvBxAeiD4ppN8VkC4uUWZdz3jPyEc1bHhM1VAkLzo8qIDUUDoZWEnYws7QAqXFKh/hklABfSw4v3MS0CiIHme2B8iQEMuYKkyVkFAYidLNbA2JkAdxMlv8Pg1QGzyAoD3ZEJAD8MCeq55RkC0mnrFGkdWQPuscgylQDNAA7+C/sBiPEBm42NtZ2pJQAURQ00dBUBAFguwdCinNkC2MQ/woeVKQGk0fLsmIVBAMSad9nenQkDe48Fy6TQtQFpm8Bn/SEJAmdONfyx9TkC39YVMcwZKQLBvaCXhxBdA4s5ZglaUCUDZGGkFpXVXQAEAsancGk5APO9ZoAbLQECGDpvD4uZYQMHgyzA8hlJAlJ5HFn5nOkDbzTq2xCFIQDBkCsr+jDFAp89JH+lmVkDFWV4vRxFIQPAWAxyzf1FAHtdeFYMmPEABBwuhTcZRQJRpwNfnJEJAqXw1hO7TUEBmAzcpWPJBQJt0hmv4PCVA6R1p/6xAUkBjV74NvKhGQAMlxmeNxxNAqjvE3maeLECiuvFOFXJHQNx55AahbD5AuWT+hllJSECd2u3iySc8QK75tGFfUDhARi72nYaNVUDuVy0FdVVQQMMqgcDB50pArUWgHlMnVEDNRAisRjggQL6eteToXiVAZ1w/wmvFV0AoPQh5jDwmQDtCDF8SRDdA3LeU+zoHRUAAe2+nVZrOP0mRSaX+/VZA8OKRz14hV0ArJS2yqgFVQChjUWaThN0/vhRhX2XSV0DAA4ZVyArQP2SPjkVXJS1ACifW5dOlUkCPTetmYYVBQHHhAoURshFAuQCXeYiyVkBOz6gMqMVUQGN4014uKlNADSyBeG+EEEBne5DclKhGQIlqHzWQ7lhAD0Sy5dVKQkDGFvOAihxWQECdTwKDZVBAumIGiCoNUkA+gYj4GJZFQJq6CLbrPyRA9EKfH8tLVkAkmtMAiZwyQDZ1q2YzkkFAhp1Kv9RdOkDbXlmD929BQAksl4HHvkhAHAMkDHa8SEASRG8sUahPQJjNwcmtPzNAlHvQbR6FQECq8zcrZSBMQDDF6OYavTtAD0a1vt4tVkAuXElbhCBVQFS1xRVP8VRALw9aQXUNUEAyRETWpFBUQL4BebHenFZAqAJe2XH8UkBTQO7iD2xEQBIk0IQtk0hAdzpV+a0QOkBpXYBXRSY4QLZQYhdb8VFAj5sWDcbzNED2XQZaChk8QI7xr2/H+kFAxFsH64KhLkBLlnHNtEVXQFKXIPRTSTxANNy+ejE+BEDYi1RMOZEqQDUuIap0LDJAyb50Zx6+WECWHGxKtStJQIm/HNsieFNA8e5Pn8z/TUDmAFotV5ItQDhVfyrlylhASKs19AJoVUBwst4eKBZKQPB+uZlSalRAwib4Eh5nRUCf9rwwHEZMQBS33xMpmUNAgAID751Fmz8hYKLdScdYQBlQ9vhOw0BAgYNAzR31U0Cdb+ipIsFSQJW+DdCxlU5AFHrcFtOUOkDbDoDOYxBXQE6LkTeigilArgmbGVB2VED+jcQCApdNQNm9rDsJNiRA6nXjykqyVEDnAnuO1DZLQEewD/Kob0lAlQbQzAwtTUCZUFhF/F9UQA7fG7RZMlRAX2do6WJPTkAhNxYNoNFGQMz4WlrkzUdAf8amuUytQ0A92RcMoaU7QJ2GuKgjc1JARMrKfWbaWECxybH29rFRQJuQ7yqpiUBAzmtkIrqMUUBAKw1xx8QwQE85+jkufz1ARn8gAAWzRkAIFYiT2yVMQMudcvyhi1ZASApBRZ8qK0AoC1wmIlkxQP/6TPjnvilApgK68gFEVkAybh0fJgZNQO/PSjNsn1NAMQyX1tVYV0B9koNhxGlMQDL4FX3PMTVAqcQ1pRQJOEBe+eFRzqlHQOe+/nl/9i5AMzL3Y9XySEBoQl6fByFVQB1ZDupL6lFARWfld9+3PkBm2vnpcU8hQEjTqi2Le1dAsWiekmnXRkAMzr4C4wJQQCyuahtaoRVAIOl8/PksI0ARUapwy/lMQHgY1J5ZT1JAfocdjILbRUB45iwU2pFUQPIns6KTYlhAhNU2+CE2SkBznI0EZAJNQGDUyLAPpE1AAIIdpuuYQ0DJeAc9Gro4QBWOCj6TbVFAhEjVND5dTEDaNnwbg9M3QJsycgsJjz9AGQlnXtVcN0B43ooC6HNIQHyV2G9SJVRAQP+hJYYDUECO3FBINP1UQMyRyoGAvkRAKycZ100xSkCgRXCyC1oXQBjJ6FtaSCdAgLh+Cjr8QUBX2w3jompPQEp1NH6whktA9DcYff8SA0CNpe2aAA1OQB3A8q0wsz9A8gKCRy7KGUDtU2qbp5g2QKEM4MitGk5AH+Ziy8rCUEDTck4y4ANSQN6nhtqg2S1Aa8f30IYcU0AClji1lzZNQEyUDQm9zFJAeH1UO6NwEUB2OuOOBEQ4QCJqxDsHQ0ZAuwydW+BgSUA/NKkQQpdUQCARjRduh0lAWuo1dah3VECAVB/5xcZUQOEDg9QKe0BAkEEKhVZwTECMksHAofozQKxNgG3cKk1AcrlMU6W3UUB+/r5zPAtIQCYAev7jMzhA/N7/AVBIRECvsV2boZVPQBIX6R029lFA6Nd4fevAVECE0YTrvX86QDyutSsvRDlAdCkrnpwUR0A30OT3sGhWQIPWKDEZMklA4bomwgrtTEDS6vKOLGhVQEVMPtnAOUxAg5v2+/TvS0CpMwIFtuhRQN6Ie7h2tFFA0AQINABQOkB73bxjsq9XQDYK65MpaVRAPrSKWbuM/T+Foc09KGBQQNXOyUhMGVNA8BHPr0L2P0Bsh7nZoDdTQOW33Tl5xk1AoxRpz+6APUAKtZLcrbtUQH8R4Pc3pUhAf/zi/aKUIkAXrBfVw6srQPYy4olR01RAOElySY9UOEALO+zzCHFPQEgylolHL1RAoB34nxqQTECKYl2CdutVQGqFDUu0zzZAU7bbMaHjQUAfhbw98wBYQAlwZWr0cVFAopCGVV5QUUBX4aarjPNAQOvJDBBDqRRAfQGoRA6MUkC93UYvQDhYQDCOMuP431VAtWZe+EehUkCjeegb2PtYQMTPx7H5ClNAVy+tmBWSS0Dbou/5649RQDgL+kfFphFArP+bodQEUkDOwg4aYEMzQCJ4o9SqwEJACam2ycPzO0BKVut87n4/QHxAB+KneiJAEI7jEKDZVUAjX1fHTg1FQFAk1gzU4CdAWL5RTWxuUkBsdzFU71VDQHgLILrWvFRAyySI/KtRT0BWBu4/toBCQMm3aO4PlFhApUAG2nULQUA0qiGR9zooQKJYuUfP90lA71EEeNNtVUChf0I+plozQJXuzLWBIldAz+UVHh7mSkDRosfYyAFYQM0/I1W8NFRARnvuvEbtVEAHXV7HXgwKQOi6TV/L6k5AX0+fzP/tJkCw0M9RKxFWQJv7Zbt+GEBAhzE2hCaVU0BcV20Jwq9BQMWCHI1qP1FAhjvn50gGUUBiGmG+OhYxQFZy2ADYWVdAGoi5JV3RV0CSoNMPRgELQNiz4SBthFNAQReruxMzV0Chgqb0gmJEQORAM1D8zzRAmXx9Q75oRUBwSMfJmcckQB5vyx+jkzJABgoEqCNRV0DazkTHshMnQAWyPQBuNFVA1NuPJaJvEEDp6qjaCylPQEqwJjpOAkVAgvRaRJFmUEB2nUzsvyghQOPrKqkpjzxAEZ8sQHYSREBByO6RTNUHQL0WjYgC51RAXH2Te3KbUkCTEDNfRjo1QNtDhp59UzdA1Fxd81MyUUCCQ9ESii5QQPboCGWFj0hAEeREapvHVUDXZr6+485FQAHhqvegs05ATA3QTIazLEAGHAJ4CnZWQMhD1ZaHxFZA2Txwk0gfRUB/esS3KIRVQHXJrdwYNEVAS3IFT8V5M0AlXR84o5hFQFHPRTD7f0lA9ICgDbsoUkBwj3whZ4NXQF2n+xqVYUlAHQg+b05aVUChv2QIIgJRQCqovatcbEJARaKSvgM9TkDjhjQBQ4ofQHZSNiF+sTZAyBQ2v/GDTECDhbdJVmQ5QDjm0Pj50SJAqHdPVGtuM0DiZAbr7/JVQJJkUA6i/D1A/eSusVYJQUBOm3VinXNXQGaRdb+ElU9AH1oFzsiCU0C6lWBavdszQNiUCYK0R1FAVWG61wtpP0AkJyW5/fpIQHQGgUtnLRBAAd4e3pJcRkB41yL8KJNUQOVof6zziEZAHQCPnrNWTkBfEXdsCyA5QAEasISgilhAerTKGlOwVkBfekuLKgtCQC97PM1MSU9A0/3ZqyUcLUBWjW5xKbdSQLas9llbe0pACWactOqUO0Dsx080n9pWQBWdJwPr/UhA2mF8zPXhR0AG0xXMjNxXQM+FGgPmLCxAGEBu7KKDTED3xQOyrQZWQDyDBWT7uE5AgjvuTbxPJEDmkLYyG01AQJNPTTnk/jlAVkJED0I7NkCgkvBqPDNCQF+tjUoxa05ABAo+Q2BcPUA1EE/rj6dTQJx8DZADHVdAAS49yrLLNUCuTualYotCQNHvkJjFIEpAJ4+8lADqVECMzWcAAKlVQADU/JLOjURAkzRpM7tkLEAjW//hwFhTQDiBMIZ3fVZA/DlBK/6JJUDbjwo7n5lRQDyuGWhutVZAZH7WQ/sk7z+1fm+s8+ZNQHiVDcE1Hus/wEDi++evS0BY3DD+PtdUQIDEs2CURpc/wjglBUWnTkCmQry33vozQGoxJzizVj1AbC9OQgIhQEAA3lyhyXt/P8dAcl9LY0FAz0ibm4ovKkB/798T6KVYQJ2Wop9jSEZAolLedbHUSkDMPxAJOws2QH57QXI2SiFAZwxRHbZ+UUAdH61C1AxWQE/dp3UY4FhAKBp8DCcEF0Bur46RvIgxQEchjlyLPjlAPiciHNC1Q0DegUvHtk0SQCNvmxPgCTBAckYrI21WU0CkLcEmpGgZQEarO8kyUElAErHJxl39RUCQ1MGKffJEQOZRSYNaHUNAvhsKZxvFU0BqeXR+8Z5HQJaJoh8guT1AHsQlD5UtTEAO70NIoMlQQENvrywFalhAdUlepVMWS0Bi7L1Wo15RQBDi8MoDZE5AxJ/axEcxR0BVsRqzdxBHQCA88KA22lhAYQUp8umST0BoWuEX31AJQM9BdhvAdS5Agzv06BYrNEA4q7ZlKOlIQMQWFjEelERAYCi586JhRUBI03xbTItNQAPDoxGYq1BAZpHHsej1MECXp0xMXI5VQKtCwFtR+EhA1oq0iZInS0Bs4thRzDvgPyFn+YISNDlA9EEr1ZGdUEAPc8ulJGdRQEDixVDquRBAHN6e1F+jPUBbyXONvb1VQNkJRWTVKFRA2Ad7kKFH4j8qHPeVeXMiQNN6e/v24lVAxLuMX+f8NkDi3SakrjFPQJYT/Paa5yZAvNMLKtdlUUA5VMXLc5RRQHyhRr9X9BVAjOJvuWgSRUABEjOkZfwSQNFShXx/ClNAd8W/1F9NVkBZgZTTsdJYQDsJgf6iQi9Ab2eo+QXYQUAhOEN7twozQNhAouOTP0hATEcjJ6aKVEC+n2FAGppBQPiFCW2JWidAhY3wCa6IN0A7Cp/qUyRPQC4Tt5ewgEZA7aIVnemRTUBMGW46a/M9QKLNl4gtsDtAm9tBfdIlSUBsPGlIP2rwP1C2RvdzcxVA+rhH3LEzVEBJc7ewjtojQNs9bXVxsQhAk3lDxdDHV0D8jQh4RyxAQNJhnd8UhlZAE+kzVpcPNUBD+9FDVLFWQEeNyz8qi1FAPIkmowQLUUDGHaGxwyRTQClregxr7jZASgurl3+TMkA33ecTVplQQIgLZG3GWThAVDy3TqHOIkDR8W/hPMobQIbR8p/DYlRAD7hhehSjU0BeUuneP0U1QCzOFcR/VkpA7OM2gFCGS0DaoZdanx4hQFr8MhNF2UpAE0DSR4yuKkDNmcrlQWlAQJaH0fkfy1ZAXyERvKJuOEDAL6mdjAoOQFgBlGgCRUpAivcu6nJNMEChG7ogZwUFQPqAVe0F8kdAzYgRrMVrRkDZ9TfZSulOQFiWuSD1tiVAA70KvzJ3T0CxbitKoqErQPEnCjXhfzBAFwGxei3PNUAIg1TOHm9RQMjkN99n+vA/kQ0ilcLfUUD8v0Ljyj5RQOdmfTUpfE5A+LLTeB+ITEAKHhdSAkRXQIQx4P5krldAHQjDadpuSEBkOQQ8allFQEl8G4NXqldAGrWDbDqTVEBc58lo/cUdQFSOppUoSUBAD9V2vbBAVEBMgF8gpX5OQL0h9M05WU5A2ZdKTGBSLEAFVEc7vahSQIHrzJ0rr1ZAlwfTYUHmE0CkhoNOp1pXQAfxHy6vhVVA3mtOFfF3QEDaWidCUrcgQM2hlNKb/lBAhvtGX/cpNECUSgIBp//iP/YnC75EeThAXFCeA/dNSEBGfwh7N61QQE+hSRvZtkNAQMEKPVDvQEAWYPjEeh5TQEeNNt22qi9ALlNsjHL5VUDUYOD3Zir7P+0CsEUfQFVAc35Dwz1FVUASyEVQZ65IQCITzoAcDSpA9JkK1cdGMEDwRLasg99NQDxz0jhci1dAc3kMDGg0SEBJAAN5ac8wQPQdWj8illZAMi1Az18VVkAKkTEO1xhYQFKsS5ueRhpAZsbIt3u/8j8yDXOE3j5CQGyvs0IsKEtAzQLQDAp1SkCAYs+06OBRQFeL+3ANiFBAYKI4KQUDPUBXdQ/rlqBVQO1iGktQyE9AbOwEPGeGK0DNC1bHk44UQCtFQmQ6UUVArjP7vSmjWED1lVLCAO9TQOjawDer6z5A1RzhgypfR0CUCYhWT8lXQLFXKvrsIVZAgydZxuzqWEAYebEpRJ49QH4tD6wuQDVAQ+h7z3L9QEAtSEnz53tIQCCig5+fJENAbA1VyRnAV0ABRAbc5ZNNQJG6sMjKw1NA/JWChDdr6T+YC2cCHNdTQBW484TGyVFAbA8ZhOr3RECkDtflI9dFQHPhvh8illNA5KkcYYaL9D+c60mBwRMkQDyzeQZ671dAQ+uPuXzSTUD+6zLfGqcuQEbojqqhE0lA2WtkaCbtUkAKqN8EbQH5P9l6a8fAKjZAwEE+iQ5eWEAvExg1PQtSQG0o9Trr41NADCBBMg3kDkARRZazUhRCQPMgLscvwTNAC+9F+87JUkBn+ikc/DFSQKODsQhUKVZAyLZGEzOLH0Br7NJ+aFtRQEAtC/S/8EBAZqy6/qHyWEBiyVt+0YskQAGBhyN8Nz1A8tZ73YUrVUCWI8rMFsZQQAN1IVbMlDBAHclrDMPnS0AGNAxblidHQMf5F819IU1AASgTtyKxCkD1mf+FdKkxQORZo/fIjT1ANjEItgeJUUAqlI6umOxIQAIRtw4O+VFAPBK50RKbUUAAPcLs50xXQLC9j1QdNS1AIviSnJCzS0Cmlo/mMI00QGyewmPz+jVASVizD/B/U0Amm5jaZ0UhQBfyvImA1FJAx4CzQw6NUUBRkV9IFdpVQGlWuamtx1BAF3JHRzGTSUDvJITgg4FRQAg8u8AVA0RAvOjW594dTEApWXQpo6VJQJiqaLgYz1dATbMSjkBqNUCUPPGf7+U+QDszMdz57FdAx1iHLrG0UUA8zZ1dLq5OQHFGmM1RqSNAYiy8hPncSkBHKJ1WLLkgQJ+/p6HAXSdA99Rv0vMvKkDXyB4MuWw1QI/1LGkA/lNAzIdDqu9CVkBdFLmXoFlAQHLgh2gxo0VAC15p2TTQU0AMK+PFJ/BRQBGG3WYxtUJAPLn8++30V0BOxON5MidOQPXp5o+ZiU5APE7yizs4TEAcyM/HMO9YQIWzfriBtlJACEs37NZKUUApbVmXIm1AQLtX/q7ErERAhMWViboQEEDiqs5fO9oyQOXlZ3B3bzBA/eQw6ni9U0D1OwiRputUQOQgXW3yAT5AZAyvpMEIUUCMbkMczf1WQNz1lYWb4+8/fLGj1PDdU0Csx66Dz/tWQBW8BWmbdjxArrroM1rWUkBvHmqxYNI1QKCJ8+vqyEZAc3YGncRjPECVL8tQoDw0QBSoNVoSKUhADIgN/BeHVEAFxYX7JqU8QFklHFwf01RA3q/18VXaTkAdcFZeIytYQKWg1tjaEEBAMyzOMw4xUEBF25FjdPpVQESyH5RT9klA5nO2+OXkUEBuq+qCKJNKQM61B9hvpE1Am6e7ByvpF0B8jk5eYZ4yQHmCqYmfkFZAgTKuWrV2RkDR9hH5xaJLQOwZV5Bmp1NALOlAbW1ATUBnuhiMch5XQPNsDeswyUJAUYBUX8L8UECxYpBRR3xUQPJ3vUv/lEpAwJzDSbEJNEBNkFIwBqMZQFDQyVbdw1ZAqJ1zLBXhVUDZjLR9HGE4QBAYaS9IhERAYQKrGUf9QEAPSZsWttJDQLj0nQRdzEdAlJUMWiVUOEDI+zhOX4dXQL6MEILdoEFAZNLHpIEuWEAHT1J7HmdQQCVYFCn4B0BAcJ/5uUxGQUDQy1Rx5OtRQN34tKNz1VNAjs7s5GZdRUAFhb+Q1Oc6QE+b210r7UBAwZBut0AeV0B63CAiR3BXQJTChi402ShA0od7SFyHIECVDrMh1StQQIMowzAXnEZAzMVn7JhpSEAib3CMlFocQIy8Gq5R4zBAltcCLhKUTEBBMsas/RhGQOQL0eymeVdAEJmEL7oiQ0Cqv/10BLE8QMsBenEAvVdA9nnNTopGOEAgBQ9WNehJQEdydG2s5FFA3DTNPc54WEBHHx/AgP4XQNomAUhvJUBAu5meUjoPREC+Nrz4EhVRQNBCfUNPJThAOgxLAXcPV0BQD5AhdgAwQEqAqNNX4UhAMdh4pxHbG0D9mCTerhpOQNCP/n71wU9ADGK0Gy6+TEBCrFSbgJ4hQHWp1SIZGFdAhaTDy6fyOUDZ8y8u0/xSQD46MOOcNAFAoaaBOZRSU0Dbi8Cr0nBQQHdJo4IhbUZAFIonOzyoU0DMAkz/zt0iQFauG8hkZktALlbHEDLHSECr6iL/CT07QHw/JBQ6bChATP+/k+zFJUDX/419jBFXQMJQvctljFhAkUhPfep2WEBb4nlKAQJXQDZQdpuEHFBASpnwyoHIE0C6gunMnTpSQKMv2pfl9UBAX4u4cIZpV0CebBka2/88QGTW3bRE3DVALhgWjgFmUEB5OZs8P5xFQCCXaGeAIjNA4g6sqNNIVkCsYvIrLBwZQD7BCL2kTwRAdlLccJ94UkA8zr3KVRdRQD2LeXbC5kxAiI3/54VANkD0n1CHqhI9QPFehq43LkdAzHTX8JwuQ0DsbDjm10hOQJ2d0wcLx1NAjoAoMVorEED595T937lPQL/4Dyn0EEtAEJqd6cUQQkBGPFyy/wE0QJmmh4SBXTFAbODTMkdXDUC1WqsliTRBQH9SrZF9ck9A3abFDjrGNkAZVeoLd+5YQMTZZXcLK1NAxiUSF/LATEC7yyT7UoxRQPyfKO3UgkBAb8V5bKKgSEAgQ/Mzmo1PQELiWg8gYk9Am6upRsvzSkByATsMga5YQICLAYXZZFhAvj41T05LT0DOP/LcFytEQMR6bcjS6lhAiHwcrzuIV0ArzbI0rvZRQCJV/bchXhRAi2XHgpljUkAuEWv7v+NSQB/oHXuTfyZAlV4IKIfWVkAtQSrXmgFJQA8rvMmiiEhA4i8vapYLPUBhGEfXwpcnQNujoTE17jlAoB/9AcuaQUBUhg8TGHYxQOIGLDYbyyNAvvtP3laBUEBVs/jx/7NDQO/cbZr9GlNAamfjf03uSkBwxk7BESEiQPpKJpe+HTtAC7qfW1rWNEB17qlUWCsyQLS+bPOKtPU//GGT6wYUQECUQYNBr79RQF4Mc+KBWlZAEQIJnTPvQ0D135iWg95JQCLoq9+/6i1AM3J8MTUYQUCctiRf7IxAQMov6O0wLitA7KErI8e2U0D2h94BhjFGQEr2T3QFNVhAGIaD4j4tMUDwDNbjKaZLQI2xZtEejERA0TKR+EAiV0D2y53HzDcuQBoCjbRJmRRAukzdYm+YUEAKbvN04bhSQHI6IAQCNktA/Rn3ueSGQECfIIFXGE5VQPrltvD69ztAdiNVBMFCUkDCrKSPC7NRQKN4VwXaukdAvBjF3WYnEECWHjTVY/87QDJZSx40pjpAUISOXV+BVEAd1PJSkrZWQAN/run4AiNASJ3hLklnE0DSLpo90IxTQMIcsOX7mFJAiIaZgy9mUkAc4GtrOkY0QN46fQP+NEVA42vj8KYHRUA4ixbbSqZUQJ50uWpvBDNAXxz4/TlATkBipR5w1ZswQKeSM77fmU9Apc0U3QjIVECRfclNWzRMQAyJL8qBLUBAUSwAW7dXSED0LwV7E9RFQNbDorACUwxACx48jTvARkAegI7XmYosQGCCRgJvsxlATUGckVd5VkBJM998/zo9QI+r9kQTjwRA2q+C5NWDSkCZYon+EMdVQEbI6R2+LE5APcqVEfgaVEDAcq/0D/NWQCMRKgwccEVAsUqrWBWsMkCOKsQjLBsVQKIF9XoMuBtAew72pxALPECkqheav2niP4G0ZqIWAk5AT2pbnwXHTkDOIchAjAxQQKXfyMwTM0JALzX9atLSH0CmxfhIqzxXQC3GPylRHw9AVTjLEfQFUUA3hAYmDkpCQOBmXunrHz5Aa3Cj8nTuR0AVh8lPIcMpQFi2/6HC0U9APfmXxxPdLkCuThAcRpFXQOSTVWil5FBAxYmHE1k2UEBjwis8RslDQA==\",\"dtype\":\"float64\",\"order\":\"little\",\"shape\":[2000]}},\"selected\":{\"id\":\"2400\"},\"selection_policy\":{\"id\":\"2399\"}},\"id\":\"2286\",\"type\":\"ColumnDataSource\"},{\"attributes\":{},\"id\":\"2393\",\"type\":\"BasicTickFormatter\"},{\"attributes\":{},\"id\":\"2397\",\"type\":\"AllLabels\"},{\"attributes\":{\"bottom_units\":\"screen\",\"fill_alpha\":0.5,\"fill_color\":\"lightgrey\",\"left_units\":\"screen\",\"level\":\"overlay\",\"line_alpha\":1.0,\"line_color\":\"black\",\"line_dash\":[4,4],\"line_width\":2,\"right_units\":\"screen\",\"syncable\":false,\"top_units\":\"screen\"},\"id\":\"2283\",\"type\":\"BoxAnnotation\"},{\"attributes\":{},\"id\":\"2396\",\"type\":\"BasicTickFormatter\"},{\"attributes\":{},\"id\":\"2400\",\"type\":\"Selection\"},{\"attributes\":{},\"id\":\"2392\",\"type\":\"Title\"},{\"attributes\":{},\"id\":\"2279\",\"type\":\"BasicTicker\"},{\"attributes\":{\"below\":[{\"id\":\"2274\"}],\"center\":[{\"id\":\"2277\"},{\"id\":\"2281\"}],\"js_event_callbacks\":{\"selectiongeometry\":[{\"id\":\"2296\"}]},\"left\":[{\"id\":\"2278\"}],\"renderers\":[{\"id\":\"2289\"}],\"title\":{\"id\":\"2392\"},\"toolbar\":{\"id\":\"2284\"},\"x_range\":{\"id\":\"2266\"},\"x_scale\":{\"id\":\"2270\"},\"y_range\":{\"id\":\"2268\"},\"y_scale\":{\"id\":\"2272\"}},\"id\":\"2265\",\"subtype\":\"Figure\",\"type\":\"Plot\"},{\"attributes\":{},\"id\":\"2394\",\"type\":\"AllLabels\"}],\"root_ids\":[\"2294\"]},\"title\":\"Bokeh Application\",\"version\":\"2.3.3\"}};\n",
       "  var render_items = [{\"docid\":\"2ea50c3f-8388-4131-90ae-f1e40cd51f8b\",\"root_ids\":[\"2294\"],\"roots\":{\"2294\":\"d6c696b9-d0b1-46bf-80dc-43055a88165f\"}}];\n",
       "  root.Bokeh.embed.embed_items_notebook(docs_json, render_items);\n",
       "\n",
       "  }\n",
       "  if (root.Bokeh !== undefined) {\n",
       "    embed_document(root);\n",
       "  } else {\n",
       "    var attempts = 0;\n",
       "    var timer = setInterval(function(root) {\n",
       "      if (root.Bokeh !== undefined) {\n",
       "        clearInterval(timer);\n",
       "        embed_document(root);\n",
       "      } else {\n",
       "        attempts++;\n",
       "        if (attempts > 100) {\n",
       "          clearInterval(timer);\n",
       "          console.log(\"Bokeh: ERROR: Unable to run BokehJS code because BokehJS library is missing\");\n",
       "        }\n",
       "      }\n",
       "    }, 10, root)\n",
       "  }\n",
       "})(window);"
      ],
      "application/vnd.bokehjs_exec.v0+json": ""
     },
     "metadata": {
      "application/vnd.bokehjs_exec.v0+json": {
       "id": "2294"
      }
     },
     "output_type": "display_data"
    }
   ],
   "source": [
    "from bokeh import events\n",
    "from bokeh.models import CustomJS, Div, Button\n",
    "from bokeh.layouts import column, row\n",
    "\n",
    "import numpy as np\n",
    "x = np.random.random(size=2000) * 100\n",
    "y = np.random.random(size=2000) * 100\n",
    "\n",
    "p = figure(tools=\"box_select\")\n",
    "p.scatter(x, y, radius=1, fill_alpha=0.6, line_color=None)\n",
    "\n",
    "div = Div(width=400)\n",
    "button = Button(label=\"Button\", width=300)\n",
    "layout = column(button, row(p, div))\n",
    "\n",
    "# Events with no attributes\n",
    "button.js_on_event(events.ButtonClick,  CustomJS(args=dict(div=div), code=\"\"\"\n",
    "div.text = \"Button!\";\n",
    "\"\"\")) \n",
    "\n",
    "p.js_on_event(events.SelectionGeometry, CustomJS(args=dict(div=div), code=\"\"\"\n",
    "div.text = \"Selection! <p> <p>\" + JSON.stringify(cb_obj.geometry, undefined, 2);\n",
    "\"\"\"))\n",
    "\n",
    "show(layout)"
   ]
  },
  {
   "cell_type": "code",
   "execution_count": null,
   "id": "1cb38512-4132-481f-86e2-45c6dbe56029",
   "metadata": {},
   "outputs": [],
   "source": []
  }
 ],
 "metadata": {
  "kernelspec": {
   "display_name": "Python 3",
   "language": "python",
   "name": "python3"
  },
  "language_info": {
   "codemirror_mode": {
    "name": "ipython",
    "version": 3
   },
   "file_extension": ".py",
   "mimetype": "text/x-python",
   "name": "python",
   "nbconvert_exporter": "python",
   "pygments_lexer": "ipython3",
   "version": "3.6.9"
  }
 },
 "nbformat": 4,
 "nbformat_minor": 5
}
