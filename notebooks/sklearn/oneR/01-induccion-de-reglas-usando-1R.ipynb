{
 "cells": [
  {
   "cell_type": "markdown",
   "metadata": {},
   "source": [
    "Inducción de Reglas de Asociación usando 1R\n",
    "===\n",
    "\n",
    "* *90 min* | Ultima modificación: Junio 25, 2019"
   ]
  },
  {
   "cell_type": "markdown",
   "metadata": {},
   "source": [
    "Las técnicas de clasificación son utilizadas para resolver problemas en los cuales se debe determinar a cual clase pertenece una instancia a partir de los valores de sus atributos; entre los casos prácticos de aplicación se encuentran: el diagnóstico de enfermedades (el paciente tiene o no la enfermedad), la detección de fraudes, los sistemas de reconocimiento (el objeto es o no es una persona), el riesgo crediticio (el solicitante pagará o no pagará la deuda). En este tutorial se presenta el algoritmo 1R, el cual permite construir un clasificador de referencia basado en reglas de asociación, y contra el cual se pueden contrastar los resultados de otros algoritmos más complejos."
   ]
  },
  {
   "cell_type": "markdown",
   "metadata": {},
   "source": [
    "## Descripción del problema"
   ]
  },
  {
   "cell_type": "markdown",
   "metadata": {},
   "source": [
    "El problema abordado se desea determina a que clase pertenece una nueva observación ($A$, $B$ o $C$), con base en una muestra de observaciones recolectada previamente. "
   ]
  },
  {
   "cell_type": "markdown",
   "metadata": {},
   "source": [
    "Se tiene un conjunto ficticio de 15 ejemplos para los cuales se tienen tres características $x_1$, $x_2$ y $x_3$ y su respectiva clase. Se desea determinar a que clase pertenece un nuevo punto con coordenadas $x_1$, $x_2$ y $x_3$. Si las clases representan la presencia (o no) de una enfermedad, las variables $x_i$ prodian representan, por ejemplo, los resultados de los exámenes médicos de los pacientes."
   ]
  },
  {
   "cell_type": "code",
   "execution_count": 1,
   "metadata": {},
   "outputs": [
    {
     "name": "stdout",
     "output_type": "stream",
     "text": [
      "Overwriting data.csv\n"
     ]
    }
   ],
   "source": [
    "%%writefile data.csv\n",
    "x1,x2,x3,y\n",
    "a,e,h,A\n",
    "a,e,i,C\n",
    "a,e,j,B\n",
    "a,f,h,A\n",
    "a,f,i,A\n",
    "a,g,h,A\n",
    "a,g,h,B\n",
    "b,e,i,B\n",
    "b,f,i,B\n",
    "b,f,j,B\n",
    "b,g,j,C\n",
    "c,e,i,C\n",
    "c,f,j,C\n",
    "c,g,h,B\n",
    "c,g,i,B\n",
    "c,g,j,C\n",
    "d,f,j,A\n",
    "d,g,j,A"
   ]
  },
  {
   "cell_type": "markdown",
   "metadata": {},
   "source": [
    "## Definición de probabilidad como frecuencia\n",
    "\n",
    "**Espacio muestral:** se define como el conjunto de todos los posibles resultados de un experimento."
   ]
  },
  {
   "cell_type": "markdown",
   "metadata": {
    "slideshow": {
     "slide_type": "slide"
    }
   },
   "source": [
    "**Pregunta.---** En la tirada de dos dados, ¿cuál es el espacio muestral?"
   ]
  },
  {
   "cell_type": "markdown",
   "metadata": {},
   "source": [
    "**Evento:** Es cualquier colección de posibles resultados de un experimento (subconjunto del espacio muestral)."
   ]
  },
  {
   "cell_type": "markdown",
   "metadata": {
    "slideshow": {
     "slide_type": "slide"
    }
   },
   "source": [
    "En su forma más simple, el concepto de probabilidad puede interpretarse como la frecuencia con que ocurre un evento. Por ejempo, si en la tirada de dos dados se definen como un evento la cantidad de posibles resultados que dan una suma determinada, entonces:\n",
    "\n",
    "![tirada-dados](assets/tirada-dados.jpg)\n",
    "\n",
    "\n",
    "    Pr(𝑋= 2) = 1 / 36   Pr(𝑋= 6) = 5 / 36   Pr(𝑋=10) = 3 / 36\n",
    "    Pr(𝑋= 3) = 2 / 36   Pr(𝑋= 7) = 6 / 36   Pr(𝑋=11) = 2 / 36\n",
    "    Pr(𝑋= 4) = 3 / 36   Pr(𝑋= 8) = 5 / 36   Pr(𝑋=12) = 1 / 36\n",
    "    Pr(𝑋= 5) = 4 / 36   Pr(𝑋= 9) = 4 / 36"
   ]
  },
  {
   "cell_type": "markdown",
   "metadata": {
    "slideshow": {
     "slide_type": "slide"
    }
   },
   "source": [
    "**Pregunta.---** Los soldados mediavales apostaban con dos dados de la siguiente manera: si el resultado es par {2, 4, 6, 8, 10, 12} ganaba el soldado A; y si el resultado es impar {3, 5, 7, 9, 11} ganaba el soldado B. ¿Quién tiene mayor probabilidad de ganar?"
   ]
  },
  {
   "cell_type": "markdown",
   "metadata": {
    "slideshow": {
     "slide_type": "slide"
    }
   },
   "source": [
    "## Propiedades y definiciones básicas sobre probabilidad\n",
    "\n",
    "\n",
    "* Todas las probabilidades deben estar entre $0$ y $1$: \n",
    "\n",
    "\n",
    "$$0 \\le \\text{Pr}(x_i) \\le 1$$\n",
    "\n",
    "\n",
    "* Las probabilidades de eventos mutuamente exclusivos (no pueden ocurrir simultáneamente) y colectivamente exhaustivos (cubren todo el universo de casos posibles) deben sumar la unidad:\n",
    "\n",
    "$$\\sum_{i=1}^n \\text{Pr}(x_i) = 1$$\n",
    "\n",
    "\n",
    "* Probabilidad condicional $\\text{Pr}(A \\; | \\; B)$: probabilidad de que ocurra un evento $A$ sabiendo que otro evento $B$ ya ocurrio.\n",
    "\n",
    "\n",
    "* Independencia: Si los eventos $A$ y $B$ son independientes:\n",
    "\n",
    "$$\\text{Pr}(A \\; |  \\; B) = \\text{Pr}(A)$$"
   ]
  },
  {
   "cell_type": "markdown",
   "metadata": {},
   "source": [
    "## Reglas de asociación para clasificación"
   ]
  },
  {
   "cell_type": "markdown",
   "metadata": {},
   "source": [
    "La metodología 1R se basa en la partición del espacio de entrada usando una y sólo una de las variables (atributos) del problema. Para el problema planteado, una regla basada en el atributo `x1` podría ser:\n",
    "\n",
    "    if x1 in {a, d}:  y = A\n",
    "    if x1 in {b}:     y = B\n",
    "    if x1 in {c}:     y = C\n"
   ]
  },
  {
   "cell_type": "markdown",
   "metadata": {},
   "source": [
    "El algoritmo funciona de la siguiente forma: se toma el primer atributo $x_1$ y se divide en grupos por cada  valor que puede tomar dicho atributo, es decir, por `a`, `b`, `c`, y `d`; para cada atributo se determina a que clase es más probable que pertenezca los ejemplos y se asigna dicha clase a dicho atributo. Es decir, para cada atributo se cuentan cuántos ejemplos hay de cada categoría y se asigna la clase por mayoría, esto es, si hay cuatro ejemplos para la categoría `a` de $x_1$ y tres de ellos pertencen a la clase `A` y el restante a `C` se dice que `if x1 == a: y = A`; esto equivale a decir que si `x1 == a` es más probable que el ejemplo pertenezca a la clase sea `A`. Así, el clasificador basado en este atributo podría ser escrito como un sistema de reglas:\n",
    "\n",
    "         #   x1   x2   x3    y  \n",
    "    --------------------------\n",
    "\n",
    "    if x1 == a:  y = A\n",
    "    \n",
    "         1    a    g    h    A\n",
    "         2    a    e    i    A\n",
    "         3    a    f    h    A\n",
    "        11    a    e    i    C\n",
    "        \n",
    "    if x1 == b:  y = B\n",
    "    \n",
    "         6    b    e    i    B \n",
    "         7    b    f    i    B\n",
    "        12    b    g    j    C\n",
    "         8    b    f    i    B\n",
    "\n",
    "    if x1 == c:  y = C\n",
    "    \n",
    "         9    c    g    h    B\n",
    "        10    c    g    h    B        \n",
    "        13    c    f    j    C\n",
    "        14    c    g    h    C\n",
    "        15    c    e    i    C\n",
    "    \n",
    "    if x1 == d:  y = A\n",
    "\n",
    "         4    d    f    j    A\n",
    "         5    d    g    j    A\n",
    "\n",
    "       \n",
    "Al agrupar por $x_1$, este conjunto de reglas se reescribe como:\n",
    "\n",
    "    if x1 in {a, d}:\n",
    "        y = A\n",
    "    elif x1 in {b}:\n",
    "        y = B\n",
    "    else:\n",
    "        y = C\n",
    "        \n",
    "Para el clasificador anterior se puede calcular una métrica de error.\n",
    "\n",
    "Luego se toma el segundo atributo $x_2$ y se procede de igual forma para construir otro clasificador. El proceso se repite hasta obtener un clasificador por cada atributo. Se escoge el clasificador con mayor precisión."
   ]
  },
  {
   "cell_type": "markdown",
   "metadata": {},
   "source": [
    "## Métricas de desempeño de clasificadores"
   ]
  },
  {
   "cell_type": "markdown",
   "metadata": {},
   "source": [
    "Para evaluar el desempeño en problemas de clasificación dicotómicos (dos clases mutuamente excluyentes) se usa la matriz de confusión:\n",
    "\n",
    "\n",
    "             | Pronostico\n",
    "             |  P     N\n",
    "    ---------|------------  \n",
    "          P  |  TP    FN          \n",
    "    Real     |\n",
    "          N  |  FP    TN\n",
    "    \n",
    "    TP - Verdadero positivo (correcto)\n",
    "    TN - Verdadero negativo (correcto)\n",
    "    FN - Falso negativo (mal clasificado)\n",
    "    FP - Falso positivo (mal clasificado)\n",
    "    \n",
    "Esta tabla permite analizar el comportamiento del modelo.\n",
    "\n",
    "La medición de la precisión del modelo permite estimar el desempeño del modelo ante nuevos datos."
   ]
  },
  {
   "cell_type": "markdown",
   "metadata": {},
   "source": [
    "* Tasa de éxito (porcentaje de patrones clasificados correctamente):\n",
    "\n",
    "\n",
    "$$\\text{success rate} = \\frac{\\text{TP} + \\text{TN}}{\\text{TP} + \\text{TN} + \\text{FP} + \\text{FN}}$$"
   ]
  },
  {
   "cell_type": "markdown",
   "metadata": {},
   "source": [
    "* Tasa de error (porcentaje total de patrones clasificados incorrectamente):\n",
    "\n",
    "$$\\text{error rate} = \\frac{\\text{FP} + \\text{FN}}{\\text{TP} + \\text{TN} + \\text{FP} + \\text{FN}} = 1 - \\text{accuracy}$$"
   ]
  },
  {
   "cell_type": "markdown",
   "metadata": {},
   "source": [
    "* Precisión o valor predictivo positivo: Proporción de casos positivos que fueron verdaderamente positivos.\n",
    "\n",
    "\n",
    "$$\\text{precision} = \\frac{\\text{TP}}{\\text{TP}  + \\text{FP}}$$"
   ]
  },
  {
   "cell_type": "markdown",
   "metadata": {},
   "source": [
    "* Valor predictivo negativo: Proporción de casos negativos que fueron verdaderamente negativos.\n",
    "\n",
    "\n",
    "$$\\text{negative predictive value} = \\frac{\\text{TN}}{\\text{TN}  + \\text{FN}}$$"
   ]
  },
  {
   "cell_type": "markdown",
   "metadata": {},
   "source": [
    "* Sensibilidad, tasa verdadera positiva, recall: mide la proporción de ejemplos positivos que fueron correctamente clasificados.\n",
    "\n",
    "\n",
    "$$\\text{sensitibity} = \\frac{\\text{TP}}{\\text{TP}  + \\text{FN}}$$"
   ]
  },
  {
   "cell_type": "markdown",
   "metadata": {},
   "source": [
    "* Especifidad o tasa verdadera negativa: mide la proporción de ejemplos negativos correctamente clasificados.\n",
    "\n",
    "\n",
    "$$\\text{specifity} = \\frac{\\text{TN}}{\\text{TN}  + \\text{FP}}$$"
   ]
  },
  {
   "cell_type": "markdown",
   "metadata": {},
   "source": [
    "**Actividad.---** Para el ejemplo planteado, calcule las métricas de error descritas."
   ]
  },
  {
   "cell_type": "markdown",
   "metadata": {},
   "source": [
    "**Actividad.---** Escriba un clasificador de una regla para el siguiente problema y cómpute la matriz de confusión para el mejor modelo encontrado.\n",
    "\n",
    "![assets/tree-exercise.jpg](assets/tree-exercise.jpg)\n"
   ]
  },
  {
   "cell_type": "markdown",
   "metadata": {
    "toc-hr-collapsed": true
   },
   "source": [
    "## Solución en Python"
   ]
  },
  {
   "cell_type": "markdown",
   "metadata": {},
   "source": [
    "### Preparación y carga de datos"
   ]
  },
  {
   "cell_type": "code",
   "execution_count": 2,
   "metadata": {},
   "outputs": [],
   "source": [
    "##\n",
    "## Preparación\n",
    "##\n",
    "import pandas as pd\n",
    "import numpy as np\n",
    "import seaborn as sns\n",
    "import matplotlib.pyplot as plt\n",
    "import altair as alt\n",
    "%matplotlib inline\n",
    "%load_ext rpy2.ipython"
   ]
  },
  {
   "cell_type": "code",
   "execution_count": 3,
   "metadata": {},
   "outputs": [
    {
     "data": {
      "text/html": [
       "<div>\n",
       "<style scoped>\n",
       "    .dataframe tbody tr th:only-of-type {\n",
       "        vertical-align: middle;\n",
       "    }\n",
       "\n",
       "    .dataframe tbody tr th {\n",
       "        vertical-align: top;\n",
       "    }\n",
       "\n",
       "    .dataframe thead th {\n",
       "        text-align: right;\n",
       "    }\n",
       "</style>\n",
       "<table border=\"1\" class=\"dataframe\">\n",
       "  <thead>\n",
       "    <tr style=\"text-align: right;\">\n",
       "      <th></th>\n",
       "      <th>x1</th>\n",
       "      <th>x2</th>\n",
       "      <th>x3</th>\n",
       "      <th>y</th>\n",
       "    </tr>\n",
       "  </thead>\n",
       "  <tbody>\n",
       "    <tr>\n",
       "      <th>0</th>\n",
       "      <td>a</td>\n",
       "      <td>e</td>\n",
       "      <td>h</td>\n",
       "      <td>A</td>\n",
       "    </tr>\n",
       "    <tr>\n",
       "      <th>1</th>\n",
       "      <td>a</td>\n",
       "      <td>e</td>\n",
       "      <td>i</td>\n",
       "      <td>C</td>\n",
       "    </tr>\n",
       "    <tr>\n",
       "      <th>2</th>\n",
       "      <td>a</td>\n",
       "      <td>e</td>\n",
       "      <td>j</td>\n",
       "      <td>B</td>\n",
       "    </tr>\n",
       "    <tr>\n",
       "      <th>3</th>\n",
       "      <td>a</td>\n",
       "      <td>f</td>\n",
       "      <td>h</td>\n",
       "      <td>A</td>\n",
       "    </tr>\n",
       "    <tr>\n",
       "      <th>4</th>\n",
       "      <td>a</td>\n",
       "      <td>f</td>\n",
       "      <td>i</td>\n",
       "      <td>A</td>\n",
       "    </tr>\n",
       "  </tbody>\n",
       "</table>\n",
       "</div>"
      ],
      "text/plain": [
       "  x1 x2 x3  y\n",
       "0  a  e  h  A\n",
       "1  a  e  i  C\n",
       "2  a  e  j  B\n",
       "3  a  f  h  A\n",
       "4  a  f  i  A"
      ]
     },
     "execution_count": 3,
     "metadata": {},
     "output_type": "execute_result"
    }
   ],
   "source": [
    "##\n",
    "## Carga el archivo como un DataFrame\n",
    "##\n",
    "df = pd.read_csv(\n",
    "    \"data.csv\",\n",
    "    sep = ',',         # separador de campos\n",
    "    thousands = None,  # separador de miles para números\n",
    "    decimal = '.')     # separador de los decimales para números\n",
    "\n",
    "df.head()"
   ]
  },
  {
   "cell_type": "markdown",
   "metadata": {},
   "source": [
    "### Generación de las reglas"
   ]
  },
  {
   "cell_type": "code",
   "execution_count": 4,
   "metadata": {},
   "outputs": [],
   "source": [
    "def oneR_fit(df, var, target):\n",
    "    # df: pandas DataFrame\n",
    "    # var: nombre de la columna para construir el clasificador\n",
    "    # target: columna con las clases\n",
    "    \n",
    "    ## crea una copia para no modificar el df original\n",
    "    df0 = df.copy()\n",
    "    \n",
    "    ## Columna para contar la cantidad de ocurrencias del target\n",
    "    df0['counter'] = 0\n",
    "    \n",
    "    ## conteo \n",
    "    df0 = df0.groupby([var, target], as_index=False).count()[[var, target, 'counter']]\n",
    "    \n",
    "    ## genera un vector con el maximo conteo por cada valor de var\n",
    "    df0_max_counter = df0.groupby([var], as_index=False)['counter'].transform(max)\n",
    "    \n",
    "    ## vector de T/F indicando si la fila contiene el valor maximo del conteo\n",
    "    df0_idx = df0['counter'] == df0_max_counter['counter']\n",
    "    \n",
    "    ## Seleccionar var y target para los maximos\n",
    "    df0 = df0.loc[df0_idx, [var, target]]\n",
    "    \n",
    "    ## obtiene solo la primera fila si varias clases \n",
    "    ## tiene la misma frecuencia maxima\n",
    "    df0 = df0.groupby(var, as_index=False).first()\n",
    "    \n",
    "    ## convierte var en el indice de la tabla\n",
    "    df0 = df0.set_index(var)\n",
    "    \n",
    "    return df0"
   ]
  },
  {
   "cell_type": "code",
   "execution_count": 5,
   "metadata": {},
   "outputs": [
    {
     "data": {
      "text/html": [
       "<div>\n",
       "<style scoped>\n",
       "    .dataframe tbody tr th:only-of-type {\n",
       "        vertical-align: middle;\n",
       "    }\n",
       "\n",
       "    .dataframe tbody tr th {\n",
       "        vertical-align: top;\n",
       "    }\n",
       "\n",
       "    .dataframe thead th {\n",
       "        text-align: right;\n",
       "    }\n",
       "</style>\n",
       "<table border=\"1\" class=\"dataframe\">\n",
       "  <thead>\n",
       "    <tr style=\"text-align: right;\">\n",
       "      <th></th>\n",
       "      <th>y</th>\n",
       "    </tr>\n",
       "    <tr>\n",
       "      <th>x1</th>\n",
       "      <th></th>\n",
       "    </tr>\n",
       "  </thead>\n",
       "  <tbody>\n",
       "    <tr>\n",
       "      <th>a</th>\n",
       "      <td>A</td>\n",
       "    </tr>\n",
       "    <tr>\n",
       "      <th>b</th>\n",
       "      <td>B</td>\n",
       "    </tr>\n",
       "    <tr>\n",
       "      <th>c</th>\n",
       "      <td>C</td>\n",
       "    </tr>\n",
       "    <tr>\n",
       "      <th>d</th>\n",
       "      <td>A</td>\n",
       "    </tr>\n",
       "  </tbody>\n",
       "</table>\n",
       "</div>"
      ],
      "text/plain": [
       "    y\n",
       "x1   \n",
       "a   A\n",
       "b   B\n",
       "c   C\n",
       "d   A"
      ]
     },
     "execution_count": 5,
     "metadata": {},
     "output_type": "execute_result"
    }
   ],
   "source": [
    "## reglas para x1\n",
    "rules_x1 = oneR_fit(df, 'x1', 'y')\n",
    "rules_x1"
   ]
  },
  {
   "cell_type": "code",
   "execution_count": 6,
   "metadata": {},
   "outputs": [
    {
     "data": {
      "text/html": [
       "<div>\n",
       "<style scoped>\n",
       "    .dataframe tbody tr th:only-of-type {\n",
       "        vertical-align: middle;\n",
       "    }\n",
       "\n",
       "    .dataframe tbody tr th {\n",
       "        vertical-align: top;\n",
       "    }\n",
       "\n",
       "    .dataframe thead th {\n",
       "        text-align: right;\n",
       "    }\n",
       "</style>\n",
       "<table border=\"1\" class=\"dataframe\">\n",
       "  <thead>\n",
       "    <tr style=\"text-align: right;\">\n",
       "      <th></th>\n",
       "      <th>y</th>\n",
       "    </tr>\n",
       "    <tr>\n",
       "      <th>x2</th>\n",
       "      <th></th>\n",
       "    </tr>\n",
       "  </thead>\n",
       "  <tbody>\n",
       "    <tr>\n",
       "      <th>e</th>\n",
       "      <td>B</td>\n",
       "    </tr>\n",
       "    <tr>\n",
       "      <th>f</th>\n",
       "      <td>A</td>\n",
       "    </tr>\n",
       "    <tr>\n",
       "      <th>g</th>\n",
       "      <td>B</td>\n",
       "    </tr>\n",
       "  </tbody>\n",
       "</table>\n",
       "</div>"
      ],
      "text/plain": [
       "    y\n",
       "x2   \n",
       "e   B\n",
       "f   A\n",
       "g   B"
      ]
     },
     "execution_count": 6,
     "metadata": {},
     "output_type": "execute_result"
    }
   ],
   "source": [
    "## reglas para x2\n",
    "rules_x2 = oneR_fit(df, 'x2', 'y')\n",
    "rules_x2"
   ]
  },
  {
   "cell_type": "code",
   "execution_count": 7,
   "metadata": {},
   "outputs": [
    {
     "data": {
      "text/html": [
       "<div>\n",
       "<style scoped>\n",
       "    .dataframe tbody tr th:only-of-type {\n",
       "        vertical-align: middle;\n",
       "    }\n",
       "\n",
       "    .dataframe tbody tr th {\n",
       "        vertical-align: top;\n",
       "    }\n",
       "\n",
       "    .dataframe thead th {\n",
       "        text-align: right;\n",
       "    }\n",
       "</style>\n",
       "<table border=\"1\" class=\"dataframe\">\n",
       "  <thead>\n",
       "    <tr style=\"text-align: right;\">\n",
       "      <th></th>\n",
       "      <th>y</th>\n",
       "    </tr>\n",
       "    <tr>\n",
       "      <th>x3</th>\n",
       "      <th></th>\n",
       "    </tr>\n",
       "  </thead>\n",
       "  <tbody>\n",
       "    <tr>\n",
       "      <th>h</th>\n",
       "      <td>A</td>\n",
       "    </tr>\n",
       "    <tr>\n",
       "      <th>i</th>\n",
       "      <td>B</td>\n",
       "    </tr>\n",
       "    <tr>\n",
       "      <th>j</th>\n",
       "      <td>C</td>\n",
       "    </tr>\n",
       "  </tbody>\n",
       "</table>\n",
       "</div>"
      ],
      "text/plain": [
       "    y\n",
       "x3   \n",
       "h   A\n",
       "i   B\n",
       "j   C"
      ]
     },
     "execution_count": 7,
     "metadata": {},
     "output_type": "execute_result"
    }
   ],
   "source": [
    "## reglas para x3\n",
    "rules_x3 = oneR_fit(df, 'x3', 'y')\n",
    "rules_x3"
   ]
  },
  {
   "cell_type": "markdown",
   "metadata": {},
   "source": [
    "### Predicción"
   ]
  },
  {
   "cell_type": "code",
   "execution_count": 8,
   "metadata": {},
   "outputs": [],
   "source": [
    "def oneR_predict(df, rules):\n",
    "    ## genera una copia del DataFrame\n",
    "    df0 = df.copy()\n",
    "    \n",
    "    ## convierte la variable usada para construir las reglas\n",
    "    ## en el indice de las filas del dataframe \n",
    "    df0 = df0.set_index(rules.index.name, drop=False)\n",
    "    \n",
    "    ## hace un left join con base en los valores de los \n",
    "    ## indices de las filas del df y rules\n",
    "    df0 = df0.join(rules, rsuffix='_predicted_' + rules.index.name)\n",
    "    df0.index = range(len(df0))\n",
    "    \n",
    "    return df0"
   ]
  },
  {
   "cell_type": "code",
   "execution_count": 9,
   "metadata": {},
   "outputs": [
    {
     "data": {
      "text/html": [
       "<div>\n",
       "<style scoped>\n",
       "    .dataframe tbody tr th:only-of-type {\n",
       "        vertical-align: middle;\n",
       "    }\n",
       "\n",
       "    .dataframe tbody tr th {\n",
       "        vertical-align: top;\n",
       "    }\n",
       "\n",
       "    .dataframe thead th {\n",
       "        text-align: right;\n",
       "    }\n",
       "</style>\n",
       "<table border=\"1\" class=\"dataframe\">\n",
       "  <thead>\n",
       "    <tr style=\"text-align: right;\">\n",
       "      <th></th>\n",
       "      <th>x1</th>\n",
       "      <th>x2</th>\n",
       "      <th>x3</th>\n",
       "      <th>y</th>\n",
       "      <th>y_predicted_x1</th>\n",
       "      <th>y_predicted_x2</th>\n",
       "      <th>y_predicted_x3</th>\n",
       "    </tr>\n",
       "  </thead>\n",
       "  <tbody>\n",
       "    <tr>\n",
       "      <th>0</th>\n",
       "      <td>a</td>\n",
       "      <td>e</td>\n",
       "      <td>h</td>\n",
       "      <td>A</td>\n",
       "      <td>A</td>\n",
       "      <td>B</td>\n",
       "      <td>A</td>\n",
       "    </tr>\n",
       "    <tr>\n",
       "      <th>1</th>\n",
       "      <td>a</td>\n",
       "      <td>f</td>\n",
       "      <td>h</td>\n",
       "      <td>A</td>\n",
       "      <td>A</td>\n",
       "      <td>A</td>\n",
       "      <td>A</td>\n",
       "    </tr>\n",
       "    <tr>\n",
       "      <th>2</th>\n",
       "      <td>a</td>\n",
       "      <td>g</td>\n",
       "      <td>h</td>\n",
       "      <td>A</td>\n",
       "      <td>A</td>\n",
       "      <td>B</td>\n",
       "      <td>A</td>\n",
       "    </tr>\n",
       "    <tr>\n",
       "      <th>3</th>\n",
       "      <td>a</td>\n",
       "      <td>g</td>\n",
       "      <td>h</td>\n",
       "      <td>B</td>\n",
       "      <td>A</td>\n",
       "      <td>B</td>\n",
       "      <td>A</td>\n",
       "    </tr>\n",
       "    <tr>\n",
       "      <th>4</th>\n",
       "      <td>c</td>\n",
       "      <td>g</td>\n",
       "      <td>h</td>\n",
       "      <td>B</td>\n",
       "      <td>C</td>\n",
       "      <td>B</td>\n",
       "      <td>A</td>\n",
       "    </tr>\n",
       "    <tr>\n",
       "      <th>5</th>\n",
       "      <td>a</td>\n",
       "      <td>e</td>\n",
       "      <td>i</td>\n",
       "      <td>C</td>\n",
       "      <td>A</td>\n",
       "      <td>B</td>\n",
       "      <td>B</td>\n",
       "    </tr>\n",
       "    <tr>\n",
       "      <th>6</th>\n",
       "      <td>b</td>\n",
       "      <td>e</td>\n",
       "      <td>i</td>\n",
       "      <td>B</td>\n",
       "      <td>B</td>\n",
       "      <td>B</td>\n",
       "      <td>B</td>\n",
       "    </tr>\n",
       "    <tr>\n",
       "      <th>7</th>\n",
       "      <td>c</td>\n",
       "      <td>e</td>\n",
       "      <td>i</td>\n",
       "      <td>C</td>\n",
       "      <td>C</td>\n",
       "      <td>B</td>\n",
       "      <td>B</td>\n",
       "    </tr>\n",
       "    <tr>\n",
       "      <th>8</th>\n",
       "      <td>a</td>\n",
       "      <td>f</td>\n",
       "      <td>i</td>\n",
       "      <td>A</td>\n",
       "      <td>A</td>\n",
       "      <td>A</td>\n",
       "      <td>B</td>\n",
       "    </tr>\n",
       "    <tr>\n",
       "      <th>9</th>\n",
       "      <td>b</td>\n",
       "      <td>f</td>\n",
       "      <td>i</td>\n",
       "      <td>B</td>\n",
       "      <td>B</td>\n",
       "      <td>A</td>\n",
       "      <td>B</td>\n",
       "    </tr>\n",
       "    <tr>\n",
       "      <th>10</th>\n",
       "      <td>c</td>\n",
       "      <td>g</td>\n",
       "      <td>i</td>\n",
       "      <td>B</td>\n",
       "      <td>C</td>\n",
       "      <td>B</td>\n",
       "      <td>B</td>\n",
       "    </tr>\n",
       "    <tr>\n",
       "      <th>11</th>\n",
       "      <td>a</td>\n",
       "      <td>e</td>\n",
       "      <td>j</td>\n",
       "      <td>B</td>\n",
       "      <td>A</td>\n",
       "      <td>B</td>\n",
       "      <td>C</td>\n",
       "    </tr>\n",
       "    <tr>\n",
       "      <th>12</th>\n",
       "      <td>b</td>\n",
       "      <td>f</td>\n",
       "      <td>j</td>\n",
       "      <td>B</td>\n",
       "      <td>B</td>\n",
       "      <td>A</td>\n",
       "      <td>C</td>\n",
       "    </tr>\n",
       "    <tr>\n",
       "      <th>13</th>\n",
       "      <td>c</td>\n",
       "      <td>f</td>\n",
       "      <td>j</td>\n",
       "      <td>C</td>\n",
       "      <td>C</td>\n",
       "      <td>A</td>\n",
       "      <td>C</td>\n",
       "    </tr>\n",
       "    <tr>\n",
       "      <th>14</th>\n",
       "      <td>d</td>\n",
       "      <td>f</td>\n",
       "      <td>j</td>\n",
       "      <td>A</td>\n",
       "      <td>A</td>\n",
       "      <td>A</td>\n",
       "      <td>C</td>\n",
       "    </tr>\n",
       "    <tr>\n",
       "      <th>15</th>\n",
       "      <td>b</td>\n",
       "      <td>g</td>\n",
       "      <td>j</td>\n",
       "      <td>C</td>\n",
       "      <td>B</td>\n",
       "      <td>B</td>\n",
       "      <td>C</td>\n",
       "    </tr>\n",
       "    <tr>\n",
       "      <th>16</th>\n",
       "      <td>c</td>\n",
       "      <td>g</td>\n",
       "      <td>j</td>\n",
       "      <td>C</td>\n",
       "      <td>C</td>\n",
       "      <td>B</td>\n",
       "      <td>C</td>\n",
       "    </tr>\n",
       "    <tr>\n",
       "      <th>17</th>\n",
       "      <td>d</td>\n",
       "      <td>g</td>\n",
       "      <td>j</td>\n",
       "      <td>A</td>\n",
       "      <td>A</td>\n",
       "      <td>B</td>\n",
       "      <td>C</td>\n",
       "    </tr>\n",
       "  </tbody>\n",
       "</table>\n",
       "</div>"
      ],
      "text/plain": [
       "   x1 x2 x3  y y_predicted_x1 y_predicted_x2 y_predicted_x3\n",
       "0   a  e  h  A              A              B              A\n",
       "1   a  f  h  A              A              A              A\n",
       "2   a  g  h  A              A              B              A\n",
       "3   a  g  h  B              A              B              A\n",
       "4   c  g  h  B              C              B              A\n",
       "5   a  e  i  C              A              B              B\n",
       "6   b  e  i  B              B              B              B\n",
       "7   c  e  i  C              C              B              B\n",
       "8   a  f  i  A              A              A              B\n",
       "9   b  f  i  B              B              A              B\n",
       "10  c  g  i  B              C              B              B\n",
       "11  a  e  j  B              A              B              C\n",
       "12  b  f  j  B              B              A              C\n",
       "13  c  f  j  C              C              A              C\n",
       "14  d  f  j  A              A              A              C\n",
       "15  b  g  j  C              B              B              C\n",
       "16  c  g  j  C              C              B              C\n",
       "17  d  g  j  A              A              B              C"
      ]
     },
     "execution_count": 9,
     "metadata": {},
     "output_type": "execute_result"
    }
   ],
   "source": [
    "df0 = df.copy()\n",
    "df0 = oneR_predict(df0, rules_x1)  ## Pronostico usando x1\n",
    "df0 = oneR_predict(df0, rules_x2)  ## Pronostico usando x2\n",
    "df0 = oneR_predict(df0, rules_x3)  ## Pronostico usando x3\n",
    "df0"
   ]
  },
  {
   "cell_type": "markdown",
   "metadata": {},
   "source": [
    "### Precisión"
   ]
  },
  {
   "cell_type": "code",
   "execution_count": 10,
   "metadata": {},
   "outputs": [
    {
     "name": "stdout",
     "output_type": "stream",
     "text": [
      "x1 :  12\n",
      "x2 :  8\n",
      "x3 :  9\n"
     ]
    }
   ],
   "source": [
    "## cantidad de aciertos\n",
    "print('x1 : ', (df0.y == df0.y_predicted_x1).sum())\n",
    "print('x2 : ', (df0.y == df0.y_predicted_x2).sum())\n",
    "print('x3 : ', (df0.y == df0.y_predicted_x3).sum())"
   ]
  },
  {
   "cell_type": "markdown",
   "metadata": {},
   "source": [
    "### Matriz de confusión"
   ]
  },
  {
   "cell_type": "code",
   "execution_count": 11,
   "metadata": {},
   "outputs": [
    {
     "data": {
      "text/plain": [
       "array([[6, 0, 0],\n",
       "       [2, 3, 2],\n",
       "       [1, 1, 3]])"
      ]
     },
     "execution_count": 11,
     "metadata": {},
     "output_type": "execute_result"
    }
   ],
   "source": [
    "from sklearn.metrics import confusion_matrix\n",
    "\n",
    "confusion_matrix(df0.y, df0.y_predicted_x1)"
   ]
  },
  {
   "cell_type": "code",
   "execution_count": 12,
   "metadata": {},
   "outputs": [
    {
     "data": {
      "text/plain": [
       "array([[3, 3, 0],\n",
       "       [2, 5, 0],\n",
       "       [1, 4, 0]])"
      ]
     },
     "execution_count": 12,
     "metadata": {},
     "output_type": "execute_result"
    }
   ],
   "source": [
    "confusion_matrix(df0.y, df0.y_predicted_x2)"
   ]
  },
  {
   "cell_type": "code",
   "execution_count": 13,
   "metadata": {},
   "outputs": [
    {
     "data": {
      "text/plain": [
       "array([[3, 1, 2],\n",
       "       [2, 3, 2],\n",
       "       [0, 2, 3]])"
      ]
     },
     "execution_count": 13,
     "metadata": {},
     "output_type": "execute_result"
    }
   ],
   "source": [
    "confusion_matrix(df0.y, df0.y_predicted_x3)"
   ]
  },
  {
   "cell_type": "markdown",
   "metadata": {},
   "source": [
    "## Solución usando el lenguaje R"
   ]
  },
  {
   "cell_type": "code",
   "execution_count": 14,
   "metadata": {},
   "outputs": [
    {
     "name": "stdout",
     "output_type": "stream",
     "text": [
      "\n",
      "    Attribute Accuracy\n",
      "1 * x1        66.67%  \n",
      "2   x3        50%     \n",
      "3   x2        44.44%  \n",
      "---\n",
      "Chosen attribute due to accuracy\n",
      "and ties method (if applicable): '*'\n",
      "\n",
      "\n",
      "Call:\n",
      "OneR.formula(formula = y ~ ., data = df, verbose = TRUE)\n",
      "\n",
      "Rules:\n",
      "If x1 = a then y = A\n",
      "If x1 = b then y = B\n",
      "If x1 = c then y = C\n",
      "If x1 = d then y = A\n",
      "\n",
      "Accuracy:\n",
      "12 of 18 instances classified correctly (66.67%)\n",
      "\n"
     ]
    }
   ],
   "source": [
    "%%R -i df\n",
    "##\n",
    "## Instalación del paquete:\n",
    "##\n",
    "##       install.packages(\"OneR\")\n",
    "##\n",
    "\n",
    "##\n",
    "## Carga la librería.\n",
    "##\n",
    "library(OneR)\n",
    "\n",
    "##\n",
    "## Crea el clasificador. La librería reporta la precisión \n",
    "## del clasificador si se usa cada uno de los atributos \n",
    "## (variables x) y el sistema de reglas obtenido. \n",
    "## La notación y ~ . indica que la variable y del dataframe es función de las restantes\n",
    "##\n",
    "clf <- OneR(y ~ ., data = df, verbose = TRUE)\n",
    "\n",
    "##\n",
    "## la salida del modelo indica la tasa de éxito para los clasificadores de todas las clases\n",
    "## Igualmente se imprimen las reglas de decisión para el mejor clasificador\n",
    "##\n",
    "clf  "
   ]
  },
  {
   "cell_type": "code",
   "execution_count": 15,
   "metadata": {},
   "outputs": [
    {
     "name": "stdout",
     "output_type": "stream",
     "text": [
      "\n",
      "Call:\n",
      "OneR.formula(formula = y ~ ., data = df, verbose = TRUE)\n",
      "\n",
      "Rules:\n",
      "If x1 = a then y = A\n",
      "If x1 = b then y = B\n",
      "If x1 = c then y = C\n",
      "If x1 = d then y = A\n",
      "\n",
      "Accuracy:\n",
      "12 of 18 instances classified correctly (66.67%)\n",
      "\n",
      "Contingency table:\n",
      "     x1\n",
      "y       a   b   c   d Sum\n",
      "  A   * 4   0   0 * 2   6\n",
      "  B     2 * 3   2   0   7\n",
      "  C     1   1 * 3   0   5\n",
      "  Sum   7   4   5   2  18\n",
      "---\n",
      "Maximum in each column: '*'\n",
      "\n",
      "Pearson's Chi-squared test:\n",
      "X-squared = 12.064, df = 6, p-value = 0.06056\n",
      "\n"
     ]
    }
   ],
   "source": [
    "%%R\n",
    "##\n",
    "## La función summary reporta información detallada\n",
    "## de los resultados del modelo, junto con la matriz \n",
    "## de confusión\n",
    "##\n",
    "summary(clf)"
   ]
  },
  {
   "cell_type": "markdown",
   "metadata": {},
   "source": [
    "**Matriz de confusión**"
   ]
  },
  {
   "cell_type": "code",
   "execution_count": 16,
   "metadata": {},
   "outputs": [
    {
     "name": "stdout",
     "output_type": "stream",
     "text": [
      "\n",
      " \n",
      "   Cell Contents\n",
      "|-------------------------|\n",
      "|                       N |\n",
      "|           N / Row Total |\n",
      "|           N / Col Total |\n",
      "|         N / Table Total |\n",
      "|-------------------------|\n",
      "\n",
      " \n",
      "Total Observations in Table:  18 \n",
      "\n",
      " \n",
      "             | predict(clf, df) \n",
      "        df$y |         A |         B |         C | Row Total | \n",
      "-------------|-----------|-----------|-----------|-----------|\n",
      "           A |         6 |         0 |         0 |         6 | \n",
      "             |     1.000 |     0.000 |     0.000 |     0.333 | \n",
      "             |     0.667 |     0.000 |     0.000 |           | \n",
      "             |     0.333 |     0.000 |     0.000 |           | \n",
      "-------------|-----------|-----------|-----------|-----------|\n",
      "           B |         2 |         3 |         2 |         7 | \n",
      "             |     0.286 |     0.429 |     0.286 |     0.389 | \n",
      "             |     0.222 |     0.750 |     0.400 |           | \n",
      "             |     0.111 |     0.167 |     0.111 |           | \n",
      "-------------|-----------|-----------|-----------|-----------|\n",
      "           C |         1 |         1 |         3 |         5 | \n",
      "             |     0.200 |     0.200 |     0.600 |     0.278 | \n",
      "             |     0.111 |     0.250 |     0.600 |           | \n",
      "             |     0.056 |     0.056 |     0.167 |           | \n",
      "-------------|-----------|-----------|-----------|-----------|\n",
      "Column Total |         9 |         4 |         5 |        18 | \n",
      "             |     0.500 |     0.222 |     0.278 |           | \n",
      "-------------|-----------|-----------|-----------|-----------|\n",
      "\n",
      " \n"
     ]
    }
   ],
   "source": [
    "%%R\n",
    "library(gmodels)\n",
    "CrossTable(x = df$y, \n",
    "           y = predict(clf,df),\n",
    "           prop.chisq=FALSE)"
   ]
  }
 ],
 "metadata": {
  "kernel_info": {
   "name": "python3"
  },
  "kernelspec": {
   "display_name": "Python 3",
   "language": "python",
   "name": "python3"
  },
  "language_info": {
   "codemirror_mode": {
    "name": "ipython",
    "version": 3
   },
   "file_extension": ".py",
   "mimetype": "text/x-python",
   "name": "python",
   "nbconvert_exporter": "python",
   "pygments_lexer": "ipython3",
   "version": "3.6.8"
  },
  "nteract": {
   "version": "0.7.1"
  },
  "varInspector": {
   "cols": {
    "lenName": 16,
    "lenType": 16,
    "lenVar": 40
   },
   "kernels_config": {
    "python": {
     "delete_cmd_postfix": "",
     "delete_cmd_prefix": "del ",
     "library": "var_list.py",
     "varRefreshCmd": "print(var_dic_list())"
    },
    "r": {
     "delete_cmd_postfix": ") ",
     "delete_cmd_prefix": "rm(",
     "library": "var_list.r",
     "varRefreshCmd": "cat(var_dic_list()) "
    }
   },
   "types_to_exclude": [
    "module",
    "function",
    "builtin_function_or_method",
    "instance",
    "_Feature"
   ],
   "window_display": false
  }
 },
 "nbformat": 4,
 "nbformat_minor": 2
}
