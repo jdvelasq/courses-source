{
 "cells": [
  {
   "cell_type": "markdown",
   "metadata": {
    "toc-hr-collapsed": false
   },
   "source": [
    "Taller --- Optimización usando LASSO\n",
    "===\n",
    "\n",
    "* *30 min* | Ultima modificación: Marzo 10, 2021"
   ]
  },
  {
   "cell_type": "markdown",
   "metadata": {},
   "source": [
    "Modifique el ejemplo anterior (ridge regression) para usar LASSO y analice los resultados obtenidos."
   ]
  },
  {
   "cell_type": "markdown",
   "metadata": {},
   "source": [
    "## LASSO"
   ]
  },
  {
   "cell_type": "markdown",
   "metadata": {},
   "source": [
    "En este modelo, el término de penalización es el valor absoluto de los coeficientes del modelo de regresión. Mientras que en la regresión ridge, los coeficientes $w_i$ tienden a ser pequeños, LASSO tiende a llevarlos a cero:\n",
    "\n",
    "$$ \\sum_{i=1}^N (y_i -  g(x_i))^2 + \\alpha \\sum_{p=0}^P ||w_p|| $$\n"
   ]
  }
 ],
 "metadata": {
  "kernelspec": {
   "display_name": "Python 3",
   "language": "python",
   "name": "python3"
  },
  "language_info": {
   "codemirror_mode": {
    "name": "ipython",
    "version": 3
   },
   "file_extension": ".py",
   "mimetype": "text/x-python",
   "name": "python",
   "nbconvert_exporter": "python",
   "pygments_lexer": "ipython3",
   "version": "3.6.9"
  }
 },
 "nbformat": 4,
 "nbformat_minor": 4
}
