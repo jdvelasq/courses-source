{
 "cells": [
  {
   "cell_type": "markdown",
   "metadata": {
    "toc-hr-collapsed": false
   },
   "source": [
    "Funciones de pérdida en modelos de regresión\n",
    "===\n",
    "\n",
    "* 19:31 min | Ultima modificación: Marzo 13, 2020 | [YouTube](https://youtu.be/jiFxx9mbYLM)"
   ]
  },
  {
   "cell_type": "markdown",
   "metadata": {},
   "source": [
    "**Preparación**"
   ]
  },
  {
   "cell_type": "code",
   "execution_count": 1,
   "metadata": {},
   "outputs": [],
   "source": [
    "import math\n",
    "\n",
    "import matplotlib.pyplot as plt\n",
    "import numpy as np\n",
    "\n",
    "%matplotlib inline"
   ]
  },
  {
   "cell_type": "markdown",
   "metadata": {},
   "source": [
    "## Función genérica para optimización"
   ]
  },
  {
   "cell_type": "markdown",
   "metadata": {},
   "source": [
    "La aproximación numérica al gradiente se realiza usando la ecuación:\n",
    "\n",
    "$$\n",
    "\\frac{d}{dx} f(x) = \\frac{f(x + \\Delta x) - f(x)}{\\Delta x}\n",
    "$$\n",
    "\n",
    "con un $\\Delta x$ suficientemente pequeño."
   ]
  },
  {
   "cell_type": "code",
   "execution_count": 2,
   "metadata": {},
   "outputs": [],
   "source": [
    "#\n",
    "# Este código es independiente de la función de\n",
    "# pérdida utilizada.\n",
    "#\n",
    "def mejora(w, loss, mu, delta=0.001):\n",
    "    def grd_loss(w):\n",
    "        #\n",
    "        # Aproximación numérica del gradiente\n",
    "        #\n",
    "        grd = []\n",
    "        L0, _ = loss(w)\n",
    "        for i in range(len(w)):\n",
    "            w[i] += delta\n",
    "            L, _ = loss(w)\n",
    "            grd.append((L - L0) / delta)\n",
    "            w[i] -= delta\n",
    "        return grd\n",
    "\n",
    "    grd = grd_loss(w)\n",
    "    w = [u - mu * g for u, g in zip(w, grd)]\n",
    "    return w"
   ]
  },
  {
   "cell_type": "markdown",
   "metadata": {},
   "source": [
    "## Función a aproximar usando un modelo de regresión"
   ]
  },
  {
   "cell_type": "markdown",
   "metadata": {},
   "source": [
    "$$\n",
    "f(x)=\n",
    "\\begin{cases}\n",
    "    \\exp \\; (0.10 \\cdot x + 0.5) & \\text{si } x \\lt 5 \\\\ \\\\\n",
    "    \\exp\\; (0.15 \\cdot x + 0.7)  & \\text{en cualquier otro caso}\n",
    "\\end{cases}\n",
    "$$"
   ]
  },
  {
   "cell_type": "code",
   "execution_count": 3,
   "metadata": {},
   "outputs": [],
   "source": [
    "def f(x):\n",
    "    result = [\n",
    "        math.exp(0.10 * u + 0.5) if u < 5 else math.exp(0.15 * u + 0.7) for u in x\n",
    "    ]\n",
    "    return np.array(result)"
   ]
  },
  {
   "cell_type": "markdown",
   "metadata": {},
   "source": [
    "## Muestra de datos"
   ]
  },
  {
   "cell_type": "code",
   "execution_count": 4,
   "metadata": {},
   "outputs": [
    {
     "data": {
      "image/png": "[encoded data removed]",
      "text/plain": [
       "<Figure size 432x288 with 1 Axes>"
      ]
     },
     "metadata": {
      "needs_background": "light"
     },
     "output_type": "display_data"
    }
   ],
   "source": [
    "np.random.seed(12345)\n",
    "\n",
    "x_real = np.linspace(start=0, stop=10, num=100)\n",
    "x_data = np.linspace(start=0, stop=10, num=16)\n",
    "\n",
    "d_real = f(x_real)\n",
    "d_data = f(x_data) + np.random.normal(0, 0.3, len(x_data))\n",
    "\n",
    "# introduce un outlier en los datos de entrenamiento\n",
    "d_data[13] = 0\n",
    "\n",
    "plt.plot(x_real, d_real, \"--\", color=\"gray\")\n",
    "plt.plot(x_data, d_data, \"o\", color=\"black\")\n",
    "plt.show()"
   ]
  },
  {
   "cell_type": "markdown",
   "metadata": {},
   "source": [
    "## Partición del conjunto de datos"
   ]
  },
  {
   "cell_type": "code",
   "execution_count": 5,
   "metadata": {},
   "outputs": [],
   "source": [
    "# selecciona aleatoriamente 10 elementos del conjunto de datos\n",
    "index = sorted(np.random.choice(len(x_data), 12, replace=False))\n",
    "\n",
    "# muestra usada para estimar los parámetros del modelo\n",
    "x_fit = x_data[index]\n",
    "d_fit = d_data[index]\n",
    "\n",
    "# muestra usada para evaluar la generalización\n",
    "x_test = np.delete(x_data, index)\n",
    "d_test = np.delete(d_data, index)"
   ]
  },
  {
   "cell_type": "code",
   "execution_count": 6,
   "metadata": {},
   "outputs": [
    {
     "data": {
      "image/png": "[encoded data removed]",
      "text/plain": [
       "<Figure size 432x288 with 1 Axes>"
      ]
     },
     "metadata": {
      "needs_background": "light"
     },
     "output_type": "display_data"
    }
   ],
   "source": [
    "def plot_function():\n",
    "    plt.plot(x_data, d_data, \"o\", color=\"black\")\n",
    "    plt.plot(x_real, d_real, \"--\", color=\"black\")\n",
    "    plt.plot(x_test, d_test, \"o\", color=\"black\", fillstyle=\"none\", markersize=11)\n",
    "\n",
    "\n",
    "plot_function()"
   ]
  },
  {
   "cell_type": "markdown",
   "metadata": {},
   "source": [
    "### Modelo de regresión"
   ]
  },
  {
   "cell_type": "markdown",
   "metadata": {},
   "source": [
    "$$y_p = g(x_p) = \\exp(w_0 + w_1 x_p)$$"
   ]
  },
  {
   "cell_type": "code",
   "execution_count": 7,
   "metadata": {},
   "outputs": [],
   "source": [
    "def g(w, x):\n",
    "    return np.exp(w[0] + w[1] * x)"
   ]
  },
  {
   "cell_type": "markdown",
   "metadata": {},
   "source": [
    "### Función de pérdida cuadrática"
   ]
  },
  {
   "cell_type": "markdown",
   "metadata": {},
   "source": [
    "$$\\text{squared_loss}(w) = \\sum_p [d_p - g(x_p)]^2$$"
   ]
  },
  {
   "cell_type": "code",
   "execution_count": 8,
   "metadata": {},
   "outputs": [],
   "source": [
    "def squared_loss(w):\n",
    "\n",
    "    y_fit = g(w, x_fit)\n",
    "    y_test = g(w, x_test)\n",
    "\n",
    "    sse_fit = sum(np.power(d_fit - y_fit, 2))\n",
    "    sse_test = sum(np.power(d_test - y_test, 2))\n",
    "\n",
    "    return sse_fit, sse_test"
   ]
  },
  {
   "cell_type": "code",
   "execution_count": 9,
   "metadata": {},
   "outputs": [
    {
     "data": {
      "text/plain": [
       "(156.6591787505402, 94.28262924413535)"
      ]
     },
     "execution_count": 9,
     "metadata": {},
     "output_type": "execute_result"
    }
   ],
   "source": [
    "squared_loss([0, 0])"
   ]
  },
  {
   "cell_type": "markdown",
   "metadata": {},
   "source": [
    "### Estimación de los parámetros del modelo de regresión"
   ]
  },
  {
   "cell_type": "code",
   "execution_count": 10,
   "metadata": {},
   "outputs": [
    {
     "data": {
      "image/png": "[encoded data removed]",
      "text/plain": [
       "<Figure size 432x288 with 1 Axes>"
      ]
     },
     "metadata": {
      "needs_background": "light"
     },
     "output_type": "display_data"
    }
   ],
   "source": [
    "w = [0.9, 0.20]  # coeficientes iniciales\n",
    "\n",
    "sse_fit, sse_test = squared_loss(w)\n",
    "history_sse_fit = [sse_fit]\n",
    "history_sse_test = [sse_test]\n",
    "\n",
    "for epoch in range(5000):\n",
    "    w = mejora(w, squared_loss, 0.00001)\n",
    "    sse_fit, sse_test = squared_loss(w)\n",
    "    history_sse_fit.append(sse_fit)\n",
    "    history_sse_test.append(sse_test)\n",
    "\n",
    "y_real = g(w, x_real)\n",
    "\n",
    "plt.plot(history_sse_fit, \"--k\")\n",
    "plt.plot(history_sse_test, \"--r\")\n",
    "plt.show()"
   ]
  },
  {
   "cell_type": "code",
   "execution_count": 11,
   "metadata": {},
   "outputs": [
    {
     "data": {
      "image/png": "[encoded data removed]",
      "text/plain": [
       "<Figure size 432x288 with 1 Axes>"
      ]
     },
     "metadata": {
      "needs_background": "light"
     },
     "output_type": "display_data"
    }
   ],
   "source": [
    "plot_function()\n",
    "plt.plot(x_real, y_real, color=\"red\")\n",
    "plt.show()"
   ]
  },
  {
   "cell_type": "markdown",
   "metadata": {},
   "source": [
    "## Función de pérdida de Huber"
   ]
  },
  {
   "cell_type": "markdown",
   "metadata": {},
   "source": [
    "Es una medida de error robusta a outliers. Es cuadrática cuando el error es cercano a cero y lineal para errores de magnitud grande."
   ]
  },
  {
   "cell_type": "markdown",
   "metadata": {},
   "source": [
    "$$L(d, y)=\n",
    "\\begin{cases}\n",
    "\\frac{1}{2}[d - y]^2 & \\text{Si } |d-y| \\le \\epsilon \\\\\n",
    "\\\\\n",
    "\\epsilon |d-y|-\\frac{1}{2}\\epsilon^2 & \\text{en cualquier otro caso}\n",
    "\\end{cases}\n",
    "$$"
   ]
  },
  {
   "cell_type": "code",
   "execution_count": 12,
   "metadata": {},
   "outputs": [],
   "source": [
    "epsilon = 1\n",
    "\n",
    "\n",
    "def huber_loss(w):\n",
    "    y_fit = g(w, x_fit)\n",
    "    y_test = g(w, x_test)\n",
    "    e_fit = abs(d_fit - y_fit)\n",
    "    e_test = abs(d_test - y_test)\n",
    "    loss_fit = sum(\n",
    "        [\n",
    "            0.5 * np.power(e, 2)\n",
    "            if e <= epsilon\n",
    "            else epsilon * e - 0.5 * epsilon * epsilon\n",
    "            for e in e_fit\n",
    "        ]\n",
    "    )\n",
    "    loss_test = sum(\n",
    "        [\n",
    "            0.5 * np.power(e, 2)\n",
    "            if e <= epsilon\n",
    "            else epsilon * e - 0.5 * epsilon * epsilon\n",
    "            for e in e_test\n",
    "        ]\n",
    "    )\n",
    "    return loss_fit, loss_test"
   ]
  },
  {
   "cell_type": "code",
   "execution_count": 13,
   "metadata": {},
   "outputs": [
    {
     "data": {
      "image/png": "[encoded data removed]",
      "text/plain": [
       "<Figure size 864x360 with 2 Axes>"
      ]
     },
     "metadata": {
      "needs_background": "light"
     },
     "output_type": "display_data"
    }
   ],
   "source": [
    "w = [0.9, 0.20]  # coeficientes iniciales\n",
    "\n",
    "loss_fit, loss_test = huber_loss(w)\n",
    "history_loss_fit = [sse_fit]\n",
    "history_loss_test = [sse_test]\n",
    "\n",
    "for epoch in range(5000):\n",
    "    w = mejora(w, huber_loss, 0.0001)\n",
    "    loss_fit, loss_test = huber_loss(w)\n",
    "    history_loss_fit.append(loss_fit)\n",
    "    history_loss_test.append(loss_test)\n",
    "\n",
    "y_real = g(w, x_real)\n",
    "\n",
    "plt.figure(figsize=(12, 5))\n",
    "plt.subplot(1, 2, 1)\n",
    "plt.plot(history_loss_fit, \"--k\")\n",
    "plt.plot(history_loss_test, \"--r\")\n",
    "plt.subplot(1, 2, 2)\n",
    "plot_function()\n",
    "plt.plot(x_real, y_real, color=\"red\")\n",
    "plt.show()"
   ]
  },
  {
   "cell_type": "markdown",
   "metadata": {},
   "source": [
    "**Ejercicio.---** Repita el ejercicio anterior usando la función epsilon-insensitiva."
   ]
  },
  {
   "cell_type": "markdown",
   "metadata": {},
   "source": [
    "**Ejercicio.---** Repita el ejercicio anterior usando la función epsilon-cuadrada-insensitiva."
   ]
  }
 ],
 "metadata": {
  "kernelspec": {
   "display_name": "Python 3",
   "language": "python",
   "name": "python3"
  },
  "language_info": {
   "codemirror_mode": {
    "name": "ipython",
    "version": 3
   },
   "file_extension": ".py",
   "mimetype": "text/x-python",
   "name": "python",
   "nbconvert_exporter": "python",
   "pygments_lexer": "ipython3",
   "version": "3.6.9"
  }
 },
 "nbformat": 4,
 "nbformat_minor": 4
}
