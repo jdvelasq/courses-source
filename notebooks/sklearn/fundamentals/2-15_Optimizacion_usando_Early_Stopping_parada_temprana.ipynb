{
 "cells": [
  {
   "cell_type": "markdown",
   "metadata": {
    "toc-hr-collapsed": false
   },
   "source": [
    "Optimización usando Early Stopping (parada temprana)\n",
    "===\n",
    "\n",
    "* 16:17 min | Ultima modificación: Marzo 11, 2020 | [YouTube](https://youtu.be/RAdtVtMDedE)"
   ]
  },
  {
   "cell_type": "code",
   "execution_count": 1,
   "metadata": {},
   "outputs": [],
   "source": [
    "import math\n",
    "\n",
    "import matplotlib.pyplot as plt\n",
    "import numpy as np\n",
    "\n",
    "%matplotlib inline"
   ]
  },
  {
   "cell_type": "markdown",
   "metadata": {},
   "source": [
    "## Función a aproximar usando un modelo de regresión"
   ]
  },
  {
   "cell_type": "markdown",
   "metadata": {},
   "source": [
    "$$\n",
    "y=f(x)=\n",
    "\\begin{cases}\n",
    "    \\exp \\; (0.15 \\cdot x + 1) & \\text{si } x \\lt 5 \\\\ \\\\\n",
    "    \\exp\\; (0.25 \\cdot x + 1) & \\text{de lo contrario}\n",
    "\\end{cases}\n",
    "$$"
   ]
  },
  {
   "cell_type": "code",
   "execution_count": 2,
   "metadata": {},
   "outputs": [],
   "source": [
    "def f(x):\n",
    "    y = [math.exp(0.15 * u + 1) if u < 5 else math.exp(0.25 * u + 1) for u in x]\n",
    "    return np.array(y)"
   ]
  },
  {
   "cell_type": "code",
   "execution_count": 3,
   "metadata": {},
   "outputs": [
    {
     "data": {
      "image/png": "[encoded data removed]",
      "text/plain": [
       "<Figure size 432x288 with 1 Axes>"
      ]
     },
     "metadata": {
      "needs_background": "light"
     },
     "output_type": "display_data"
    }
   ],
   "source": [
    "np.random.seed(12345)\n",
    "\n",
    "x_real = np.linspace(start=0, stop=10, num=100)\n",
    "x_data = np.linspace(start=0, stop=10, num=16)\n",
    "\n",
    "d_real = f(x_real)\n",
    "d_data = f(x_data) + np.random.normal(0, 0.4, len(x_data))\n",
    "\n",
    "plt.plot(x_real, d_real, \"--\", color=\"gray\")\n",
    "plt.plot(x_data, d_data, \"o\", color=\"black\")\n",
    "plt.show()"
   ]
  },
  {
   "cell_type": "markdown",
   "metadata": {},
   "source": [
    "## Partición del conjunto de datos"
   ]
  },
  {
   "cell_type": "code",
   "execution_count": 4,
   "metadata": {},
   "outputs": [
    {
     "data": {
      "image/png": "[encoded data removed]",
      "text/plain": [
       "<Figure size 432x288 with 1 Axes>"
      ]
     },
     "metadata": {
      "needs_background": "light"
     },
     "output_type": "display_data"
    }
   ],
   "source": [
    "# selecciona los primeros elementos del conjunto de datos\n",
    "# para calibración y los 4 finales para testing\n",
    "index = list(range(12))\n",
    "\n",
    "# muestra usada para estimar los parámetros del modelo\n",
    "x_fit = x_data[index]\n",
    "d_fit = d_data[index]\n",
    "\n",
    "# muestra usada para evaluar la generalización\n",
    "x_test = np.delete(x_data, index)\n",
    "d_test = np.delete(d_data, index)\n",
    "\n",
    "plt.plot(x_data, d_data, \"o\", color=\"black\")\n",
    "plt.plot(x_real, d_real, \"--\", color=\"black\")\n",
    "plt.plot(x_test, d_test, \"o\", color=\"black\", fillstyle=\"none\", markersize=11)\n",
    "plt.show()"
   ]
  },
  {
   "cell_type": "markdown",
   "metadata": {},
   "source": [
    "## Modelo de regresión"
   ]
  },
  {
   "cell_type": "markdown",
   "metadata": {},
   "source": [
    "$$y = g(x) = \\exp(w_0 + w_1 x)$$"
   ]
  },
  {
   "cell_type": "code",
   "execution_count": 5,
   "metadata": {},
   "outputs": [],
   "source": [
    "def g(w0, w1, x):\n",
    "    return [math.exp(w0 + w1 * xi) for xi in x]"
   ]
  },
  {
   "cell_type": "markdown",
   "metadata": {},
   "source": [
    "## Función de pérdida"
   ]
  },
  {
   "cell_type": "markdown",
   "metadata": {},
   "source": [
    "$$\\text{SSE}(w_0, w_1) = \\sum_i [d_i - g(x_i)]^2 $$"
   ]
  },
  {
   "cell_type": "code",
   "execution_count": 6,
   "metadata": {},
   "outputs": [],
   "source": [
    "def SSE(w0, w1):\n",
    "\n",
    "    y_fit = g(w0, w1, x_fit)\n",
    "    sse_fit = sum([(di - yi) ** 2 for di, yi in zip(d_fit, y_fit)])\n",
    "\n",
    "    y_test = g(w0, w1, x_test)\n",
    "    sse_test = sum([(di - yi) ** 2 for di, yi in zip(d_test, y_test)])\n",
    "\n",
    "    #\n",
    "    # note que la función devuelve simultaneamente\n",
    "    # los errores de ajuste y prueba\n",
    "    #\n",
    "    return sse_fit, sse_test"
   ]
  },
  {
   "cell_type": "markdown",
   "metadata": {},
   "source": [
    "## Gradiente de g()"
   ]
  },
  {
   "cell_type": "markdown",
   "metadata": {},
   "source": [
    "Gradiente respecto a $w_0$:\n",
    "\n",
    "$$\n",
    "\\begin{split}\n",
    "    \\frac{\\partial}{\\partial w_0} g(x) \n",
    "        & = \\frac{\\partial}{\\partial w_0} \\left[ \\exp(w_0 + w_1 x) \\right] \\\\ \\\\\n",
    "        & = \\exp(w_0 + w_1 x) \\frac{\\partial}{\\partial w_0} (w_0 + w_1 x) \\\\ \\\\\n",
    "        & = \\exp(w_0 + w_1 x) \\cdot 1 \\\\ \\\\\n",
    "        & = \\exp(w_0 + w_1 x) \\\\ \\\\\n",
    "        & = g(x)\n",
    "\\end{split}\n",
    "$$\n",
    "\n"
   ]
  },
  {
   "cell_type": "markdown",
   "metadata": {},
   "source": [
    "Gradiente respecto a $w_1$:\n",
    "\n",
    "$$\n",
    "\\begin{split}\n",
    "    \\frac{\\partial}{\\partial w_1} g(x) \n",
    "        & = \\frac{\\partial}{\\partial w_1} \\left[ \\exp(w_0 + w_1 x) \\right] \\\\ \\\\\n",
    "        & = \\exp(w_0 + w_1 x) \\frac{\\partial}{\\partial w_1} (w_0 + w_1 x) \\\\ \\\\\n",
    "        & = \\exp(w_0 + w_1 x) \\cdot x \\\\ \\\\\n",
    "        & = x \\cdot \\exp(w_0 + w_1 x) \\\\ \\\\\n",
    "        & = x \\cdot g(x)\n",
    "\\end{split}\n",
    "$$"
   ]
  },
  {
   "cell_type": "code",
   "execution_count": 7,
   "metadata": {},
   "outputs": [],
   "source": [
    "def grd_g(w0, w1):\n",
    "    grd_w0 = g(w0, w1, x_fit)\n",
    "    grd_w1 = [gi * xi for gi, xi in zip(grd_w0, x_fit)]\n",
    "    return grd_w0, grd_w1"
   ]
  },
  {
   "cell_type": "markdown",
   "metadata": {},
   "source": [
    "## Gradiente de la función de pérdida"
   ]
  },
  {
   "cell_type": "markdown",
   "metadata": {},
   "source": [
    "$$\n",
    "\\begin{split}\n",
    "\\frac{\\partial}{\\partial w_j} \\text{SSE}(w_0, w_1) \n",
    "    & = \\frac{\\partial}{\\partial w_j} \\sum_i e_i^2 \\\\ \\\\\n",
    "    & = \\sum_i \\frac{\\partial}{\\partial w_j} e_i^2 \\\\ \\\\\n",
    "    & = \\sum_i 2 \\cdot e_i \\cdot \\frac{\\partial}{\\partial w_j} e_i \\\\ \\\\\n",
    "    & = \\sum_i 2 \\cdot e_i \\cdot \\frac{\\partial}{\\partial w_j} [d_i - g(x_i)] \\\\ \\\\\n",
    "    & = \\sum_i 2 \\cdot e_i \\cdot \\frac{\\partial}{\\partial w_j} - g(x_i) \\\\ \\\\\n",
    "    & = \\sum_i -2 \\cdot e_i \\cdot \\frac{\\partial}{\\partial w_j} g(x_i) \\\\ \\\\\n",
    "\\end{split}\n",
    "$$"
   ]
  },
  {
   "cell_type": "code",
   "execution_count": 8,
   "metadata": {},
   "outputs": [],
   "source": [
    "def grd_SSE(w0, w1):\n",
    "\n",
    "    # calcula el error instantaneo\n",
    "    y_fit = g(w0, w1, x_fit)\n",
    "    e_fit = [di - yi for di, yi in zip(d_fit, y_fit)]\n",
    "\n",
    "    # gradiente de la funcion g()\n",
    "    grd_gw0, grd_gw1 = grd_g(w0, w1)\n",
    "\n",
    "    # gradiente de la función SSE()\n",
    "    grd_SSE_w0 = sum([-2 * ei * gi for ei, gi in zip(e_fit, grd_gw0)])\n",
    "    grd_SSE_w1 = sum([-2 * ei * gi for ei, gi in zip(e_fit, grd_gw1)])\n",
    "\n",
    "    return grd_SSE_w0, grd_SSE_w1"
   ]
  },
  {
   "cell_type": "markdown",
   "metadata": {},
   "source": [
    "## Corrección de los parámetros"
   ]
  },
  {
   "cell_type": "markdown",
   "metadata": {},
   "source": [
    "$$ \\mathbf{w}_k = \\mathbf{w}_{k-1} - \\mu \\frac{\\partial}{\\partial \\mathbf{w}} \\text{SSE}(\\mathbf{w}_{k-1})$$"
   ]
  },
  {
   "cell_type": "code",
   "execution_count": 9,
   "metadata": {},
   "outputs": [],
   "source": [
    "def mejora(w0, w1, mu):\n",
    "    grd_w0, grd_w1 = grd_SSE(w0, w1)\n",
    "    w0 = w0 - mu * grd_w0\n",
    "    w1 = w1 - mu * grd_w1\n",
    "    return w0, w1"
   ]
  },
  {
   "cell_type": "markdown",
   "metadata": {},
   "source": [
    "## Proceso iterativo usando gradiente descendente"
   ]
  },
  {
   "cell_type": "code",
   "execution_count": 10,
   "metadata": {},
   "outputs": [
    {
     "name": "stdout",
     "output_type": "stream",
     "text": [
      "0.07770616845298249 0.3869431892967564 (25.447857365832416, 530.3035876747726)\n"
     ]
    },
    {
     "data": {
      "image/png": "[encoded data removed]",
      "text/plain": [
       "<Figure size 432x288 with 1 Axes>"
      ]
     },
     "metadata": {
      "needs_background": "light"
     },
     "output_type": "display_data"
    },
    {
     "data": {
      "image/png": "[encoded data removed]",
      "text/plain": [
       "<Figure size 432x288 with 1 Axes>"
      ]
     },
     "metadata": {
      "needs_background": "light"
     },
     "output_type": "display_data"
    }
   ],
   "source": [
    "w0, w1 = 0.0, 0.0  # coeficientes iniciales\n",
    "\n",
    "sse_fit, sse_test = SSE(w0, w1)\n",
    "history_sse_fit = [sse_fit]\n",
    "history_sse_test = [sse_test]\n",
    "\n",
    "for epoch in range(50):\n",
    "    w0, w1 = mejora(w0, w1, mu=0.00001)\n",
    "    sse_fit, sse_test = SSE(w0, w1)\n",
    "    history_sse_fit.append(sse_fit)\n",
    "    history_sse_test.append(sse_test)\n",
    "\n",
    "print(w0, w1, SSE(w0, w1))\n",
    "\n",
    "y_real = g(w0, w1, x_real)\n",
    "\n",
    "plt.plot(history_sse_fit, \"--k\")\n",
    "plt.plot(history_sse_test, \"--r\")\n",
    "plt.show()\n",
    "\n",
    "plt.plot(x_data, d_data, \"o\", color=\"black\")\n",
    "plt.plot(x_real, d_real, \"--\", color=\"black\")\n",
    "plt.plot(x_real, y_real, color=\"red\")\n",
    "plt.plot(x_test, d_test, \"o\", color=\"black\", fillstyle=\"none\", markersize=11)\n",
    "plt.show()"
   ]
  },
  {
   "cell_type": "markdown",
   "metadata": {},
   "source": [
    "## Early Stopping"
   ]
  },
  {
   "cell_type": "code",
   "execution_count": 11,
   "metadata": {},
   "outputs": [
    {
     "name": "stdout",
     "output_type": "stream",
     "text": [
      "0.06428604867279972 0.37000034554740424 (37.25020797644438, 126.18643731436904)\n"
     ]
    },
    {
     "data": {
      "image/png": "[encoded data removed]",
      "text/plain": [
       "<Figure size 432x288 with 1 Axes>"
      ]
     },
     "metadata": {
      "needs_background": "light"
     },
     "output_type": "display_data"
    },
    {
     "data": {
      "image/png": "[encoded data removed]",
      "text/plain": [
       "<Figure size 432x288 with 1 Axes>"
      ]
     },
     "metadata": {
      "needs_background": "light"
     },
     "output_type": "display_data"
    }
   ],
   "source": [
    "w0, w1 = 0, 0  # coeficientes iniciales\n",
    "\n",
    "sse_fit, sse_test = SSE(w0, w1)\n",
    "history_sse_fit = [sse_fit]\n",
    "history_sse_test = [sse_test]\n",
    "\n",
    "sse_test_previous = None\n",
    "\n",
    "for epoch in range(100):\n",
    "    w0, w1 = mejora(w0, w1, mu=0.00001)\n",
    "    sse_fit, sse_test = SSE(w0, w1)\n",
    "    history_sse_fit.append(sse_fit)\n",
    "    history_sse_test.append(sse_test)\n",
    "    #\n",
    "    # Se monitorea sse_test. Si el sse_test\n",
    "    # aumenta, se detiene la optimización\n",
    "    #\n",
    "    if sse_test_previous is None or sse_test_previous > sse_test:\n",
    "        sse_test_previous = sse_test\n",
    "    else:\n",
    "        #\n",
    "        # aumenta el error de prueba\n",
    "        #\n",
    "        break\n",
    "\n",
    "print(w0, w1, SSE(w0, w1))\n",
    "\n",
    "y_real = g(w0, w1, x_real)\n",
    "\n",
    "plt.plot(history_sse_fit, \"--k\")\n",
    "plt.plot(history_sse_test, \"--r\")\n",
    "plt.show()\n",
    "\n",
    "plt.plot(x_data, d_data, \"o\", color=\"black\")\n",
    "plt.plot(x_real, d_real, \"--\", color=\"black\")\n",
    "plt.plot(x_real, y_real, color=\"red\")\n",
    "plt.plot(x_test, d_test, \"o\", color=\"black\", fillstyle=\"none\", markersize=11)\n",
    "plt.show()"
   ]
  }
 ],
 "metadata": {
  "kernelspec": {
   "display_name": "Python 3",
   "language": "python",
   "name": "python3"
  },
  "language_info": {
   "codemirror_mode": {
    "name": "ipython",
    "version": 3
   },
   "file_extension": ".py",
   "mimetype": "text/x-python",
   "name": "python",
   "nbconvert_exporter": "python",
   "pygments_lexer": "ipython3",
   "version": "3.6.9"
  }
 },
 "nbformat": 4,
 "nbformat_minor": 4
}
