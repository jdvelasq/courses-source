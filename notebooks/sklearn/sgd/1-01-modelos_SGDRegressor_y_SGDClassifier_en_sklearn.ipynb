{
 "cells": [
  {
   "cell_type": "markdown",
   "metadata": {},
   "source": [
    "Modelos SGDRegressor y SGDClassifier usando sklearn\n",
    "====\n",
    "\n",
    "* 18:17 min | Última modificación: Abril 12, 2021 | [YouTube](https://youtu.be/nN3jijGV-fU)"
   ]
  },
  {
   "cell_type": "markdown",
   "metadata": {},
   "source": [
    "## SGDRegressor"
   ]
  },
  {
   "cell_type": "markdown",
   "metadata": {},
   "source": [
    "En esta sección se presenta como ajustar un modelo de regresión lineal usando SGDRegressor."
   ]
  },
  {
   "cell_type": "markdown",
   "metadata": {},
   "source": [
    "### Preparación de un conjunto de datos artificiales"
   ]
  },
  {
   "cell_type": "code",
   "execution_count": 1,
   "metadata": {},
   "outputs": [],
   "source": [
    "import matplotlib.pyplot as plt\n",
    "from sklearn.datasets import make_regression\n",
    "\n",
    "X, y = make_regression(   #\n",
    "    n_samples=100,        #\n",
    "    n_features=1,         # Número total de variables explicativas \n",
    "    n_informative=1,      # Número de variables informaticas <= n_features\n",
    "    bias=0.0,             # intercepto\n",
    "    effective_rank=None,  # numero de vectores singulares para explicar los datos\n",
    "    tail_strength=0.9,    # ? importancia relativa de las colas\n",
    "    noise=10.0,           # \n",
    "    shuffle=False,        # ?\n",
    "    coef=False,           # ?coeficientes de la regresion\n",
    "    random_state=12356,   # Semilla del generador de aleatorios\n",
    ")"
   ]
  },
  {
   "cell_type": "code",
   "execution_count": 2,
   "metadata": {},
   "outputs": [
    {
     "data": {
      "text/plain": [
       "array([[ 0.68725069],\n",
       "       [-0.16282407],\n",
       "       [-2.05953155],\n",
       "       [ 1.53661965],\n",
       "       [-1.00116073],\n",
       "       [ 0.45209152],\n",
       "       [ 0.93103451],\n",
       "       [ 0.1067964 ],\n",
       "       [-0.45309061],\n",
       "       [ 0.71110858],\n",
       "       [ 0.24184678],\n",
       "       [ 0.4600953 ],\n",
       "       [ 0.34713803],\n",
       "       [ 0.95536287],\n",
       "       [-0.11774967],\n",
       "       [ 0.84264266],\n",
       "       [ 0.51148086],\n",
       "       [-0.55722275],\n",
       "       [-0.74685194],\n",
       "       [ 1.09191736],\n",
       "       [-0.19366736],\n",
       "       [-0.15591424],\n",
       "       [-0.0315241 ],\n",
       "       [ 1.68999558],\n",
       "       [ 0.50240014],\n",
       "       [ 0.29382523],\n",
       "       [-0.04807417],\n",
       "       [-0.27210442],\n",
       "       [-1.25671145],\n",
       "       [-2.23470734],\n",
       "       [ 0.06378231],\n",
       "       [ 1.08621778],\n",
       "       [-1.57475939],\n",
       "       [-1.60920754],\n",
       "       [ 0.04604424],\n",
       "       [-0.58059388],\n",
       "       [-0.2874666 ],\n",
       "       [ 0.59430295],\n",
       "       [ 0.80017972],\n",
       "       [-0.00404831],\n",
       "       [ 0.12052505],\n",
       "       [-0.20935094],\n",
       "       [ 0.7781717 ],\n",
       "       [-0.64336448],\n",
       "       [ 0.88853211],\n",
       "       [ 0.69026245],\n",
       "       [ 0.54880866],\n",
       "       [ 0.25969973],\n",
       "       [-0.70722405],\n",
       "       [-0.46610649],\n",
       "       [ 0.07500744],\n",
       "       [-0.78060065],\n",
       "       [-0.06962455],\n",
       "       [ 0.48559543],\n",
       "       [-0.3912787 ],\n",
       "       [-0.02976829],\n",
       "       [-0.53432724],\n",
       "       [ 0.63271002],\n",
       "       [ 0.74058893],\n",
       "       [ 3.55106882],\n",
       "       [ 1.35752525],\n",
       "       [-0.49826506],\n",
       "       [-1.03425549],\n",
       "       [ 1.67906454],\n",
       "       [ 0.41567222],\n",
       "       [-1.30723862],\n",
       "       [ 1.20362772],\n",
       "       [ 1.16544029],\n",
       "       [-0.12058465],\n",
       "       [ 0.40211986],\n",
       "       [ 0.78783528],\n",
       "       [ 0.41086525],\n",
       "       [ 0.24386736],\n",
       "       [ 0.84518226],\n",
       "       [ 1.66259542],\n",
       "       [ 0.8749182 ],\n",
       "       [ 0.13180449],\n",
       "       [-0.76169491],\n",
       "       [ 0.54595854],\n",
       "       [ 1.16526381],\n",
       "       [ 0.44906124],\n",
       "       [-1.85692712],\n",
       "       [ 2.41079863],\n",
       "       [-0.79006112],\n",
       "       [ 0.7464087 ],\n",
       "       [ 1.36659158],\n",
       "       [-0.70028374],\n",
       "       [ 1.09367451],\n",
       "       [ 0.21719258],\n",
       "       [-0.20389021],\n",
       "       [ 1.02476611],\n",
       "       [-0.09708452],\n",
       "       [ 0.1914938 ],\n",
       "       [ 0.57547384],\n",
       "       [ 0.32740239],\n",
       "       [ 0.54563619],\n",
       "       [ 0.94355721],\n",
       "       [ 0.06103571],\n",
       "       [ 0.66705938],\n",
       "       [ 1.15621229]])"
      ]
     },
     "execution_count": 2,
     "metadata": {},
     "output_type": "execute_result"
    }
   ],
   "source": [
    "X"
   ]
  },
  {
   "cell_type": "code",
   "execution_count": 3,
   "metadata": {},
   "outputs": [
    {
     "data": {
      "text/plain": [
       "array([ 3.37714252e+01, -1.03455774e+01, -7.03401895e+01,  7.13779962e+01,\n",
       "       -3.56333783e+01,  3.06975391e+01,  3.74106993e+01,  2.75648748e+01,\n",
       "       -9.01411313e+00,  3.45866305e+01,  8.06701381e+00,  1.26523621e+01,\n",
       "        9.78818857e+00,  3.67246867e+01, -6.43876381e+00,  3.68246787e+01,\n",
       "        2.27620296e+01, -1.83538132e+01, -3.46839134e+01,  4.64048516e+01,\n",
       "       -8.44867418e+00, -6.94069091e+00,  1.21859697e+01,  8.03005310e+01,\n",
       "        2.73035117e+01,  2.40186306e+01,  9.38822328e+00, -2.06453151e+01,\n",
       "       -6.43703412e+01, -9.59311368e+01, -3.95206720e-01,  6.55218123e+01,\n",
       "       -7.55699351e+01, -7.09288828e+01,  9.06030805e-02, -3.07439076e+01,\n",
       "       -1.53416054e+01,  3.40484322e+01,  3.04684744e+01, -2.55170137e+01,\n",
       "        4.83426605e-01, -5.87330458e-01,  3.60558357e+01, -2.70275550e+01,\n",
       "        4.21929323e+01,  3.11539164e+01,  4.43584448e+01,  1.85734594e+01,\n",
       "       -1.83878562e+01, -3.47821311e+01,  1.00340539e+00, -4.03977372e+01,\n",
       "        6.86723799e-01,  3.99499703e+01, -2.90451011e+01, -1.52190612e+01,\n",
       "       -1.95446543e+01,  3.47294629e+01,  2.70316989e+01,  1.57494071e+02,\n",
       "        6.66625362e+01, -1.97082028e+01, -5.34260037e+01,  8.91995493e+01,\n",
       "        1.96476489e+01, -4.62487083e+01,  2.80389524e+01,  4.70989447e+01,\n",
       "       -7.93835521e+00,  2.30364262e+01,  3.79179041e+01,  2.35841681e+01,\n",
       "        1.46945428e+01,  2.73687307e+01,  7.53133133e+01,  4.42385933e+01,\n",
       "        7.16087641e+00, -3.73573267e+01,  1.85493982e+01,  4.81370181e+01,\n",
       "        2.13416903e+01, -8.56811075e+01,  9.09091968e+01, -4.17248903e+01,\n",
       "        3.84052708e+01,  5.25249278e+01, -4.16414924e+01,  4.12020110e+01,\n",
       "        1.10793562e+00,  2.75905583e+00,  6.25769602e+01,  5.13904762e-01,\n",
       "       -5.41095785e+00,  2.97931669e+01,  2.97394000e+01,  3.22560035e+01,\n",
       "        5.55005660e+01,  1.49093508e+01,  4.36770038e+01,  4.96779643e+01])"
      ]
     },
     "execution_count": 3,
     "metadata": {},
     "output_type": "execute_result"
    }
   ],
   "source": [
    "y"
   ]
  },
  {
   "cell_type": "code",
   "execution_count": 4,
   "metadata": {},
   "outputs": [
    {
     "data": {
      "text/plain": [
       "<matplotlib.collections.PathCollection at 0x7fa640adce10>"
      ]
     },
     "execution_count": 4,
     "metadata": {},
     "output_type": "execute_result"
    },
    {
     "data": {
      "image/png": "[encoded data removed]",
      "text/plain": [
       "<Figure size 432x288 with 1 Axes>"
      ]
     },
     "metadata": {
      "needs_background": "light"
     },
     "output_type": "display_data"
    }
   ],
   "source": [
    "plt.scatter(X, y)"
   ]
  },
  {
   "cell_type": "markdown",
   "metadata": {},
   "source": [
    "### Modelo"
   ]
  },
  {
   "cell_type": "markdown",
   "metadata": {},
   "source": [
    "Este es un modelo lineal de la forma:"
   ]
  },
  {
   "cell_type": "markdown",
   "metadata": {},
   "source": [
    "$$y = w_0 + \\sum_i w_i x_i$$"
   ]
  },
  {
   "cell_type": "code",
   "execution_count": 5,
   "metadata": {},
   "outputs": [],
   "source": [
    "from sklearn.linear_model import SGDRegressor\n",
    "\n",
    "\n",
    "sgdRegressor = SGDRegressor(\n",
    "    loss='squared_loss',         # 'squared_loss', 'huber', 'epsilon_insensitive', 'squared_epsilon_insensitive'\n",
    "    penalty='l2',                # 'none', 'l2' (ridge), 'l1' (lasso), 'elasticnet'\n",
    "    alpha=0.0001,                # factor regularización\n",
    "    l1_ratio=0.15,               # ElasticNet\n",
    "    fit_intercept=True,          # \n",
    "    max_iter=1000,               #\n",
    "    tol=0.001,                   # \n",
    "    shuffle=True,                # ?mezcla los datos de entrenamiento\n",
    "    verbose=0,                   # \n",
    "    epsilon=0.1,                 # epsilon-insensitive loss function\n",
    "    random_state=None,           # Semilla del generador de aleatorios\n",
    "    learning_rate='invscaling',  # 'constant', 'optimal', 'invscaling', 'adaptive'\n",
    "    eta0=0.01,                   # leaning_rate = constant\n",
    "    power_t=0.25,                # inverse scaling learning rate\n",
    "    early_stopping=False,        # \n",
    "    validation_fraction=0.1,     # se usa unicamente en early_stopping=True\n",
    "    n_iter_no_change=5,          # \n",
    "    warm_start=False,            # usa los parámetros actuales o inicia con valores aleatorios\n",
    "    average=False,               # average weights\n",
    ")"
   ]
  },
  {
   "cell_type": "markdown",
   "metadata": {},
   "source": [
    "**Nota 1.---** Si se usa `early_stopping=True`, se usa aprendizaje batch y luego se evalua la generalización. En caso contrario, se usa aprendizaje online.\n",
    "\n",
    "**Nota 2.---** Las funciones de pérdida son las siguientes:\n",
    "\n",
    "*  `squared_loss`: $$L(d, y) = (d - y)^2$$  \n",
    "\n",
    "* `huber`: \n",
    "  $$\n",
    "  L(d, y)=\n",
    "    \\begin{cases}\n",
    "        \\frac{1}{2}[d - y]^2 & \\text{Si } |d-y| \\le \\epsilon \\\\\n",
    "        \\\\\n",
    "        \\epsilon |d-y|-\\frac{1}{2}\\epsilon^2 & \\text{en cualquier otro caso}\n",
    "        \\end{cases}\n",
    "  $$ \n",
    "\n",
    "* `epsilon_insensitive`: \n",
    "  $$L(d, y)=\n",
    "    \\begin{cases}\n",
    "        0 & \\text{Si } |d-y| \\le \\epsilon \\\\\n",
    "        \\\\\n",
    "        \\epsilon |d-y| - \\epsilon & \\text{en cualquier otro caso}\n",
    "    \\end{cases}\n",
    "  $$ \n",
    "\n",
    "* `squared_epsilon_insensitive`: \n",
    "  $$\n",
    "  L(d, y)= [\\text{epsilon_insensitive}(d, y)]^2\n",
    "  $$ \n",
    "  \n",
    "\n",
    "**Nota 3.---** Las funciones de penalización son las siguientes:\n",
    "\n",
    "* `none`.\n",
    "\n",
    "* `l2`: ridge.\n",
    "\n",
    "* `l1`: LASSO.\n",
    "\n",
    "* `elastincnet`.\n"
   ]
  },
  {
   "cell_type": "markdown",
   "metadata": {},
   "source": [
    "A continuación se ejemplifica el uso de `SGDRegressor` para realizar una regressión lineal."
   ]
  },
  {
   "cell_type": "code",
   "execution_count": 6,
   "metadata": {},
   "outputs": [
    {
     "data": {
      "image/png": "[encoded data removed]",
      "text/plain": [
       "<Figure size 432x288 with 1 Axes>"
      ]
     },
     "metadata": {
      "needs_background": "light"
     },
     "output_type": "display_data"
    }
   ],
   "source": [
    "import numpy as np\n",
    "\n",
    "\n",
    "#\n",
    "# Entrenamiento del modelo\n",
    "#\n",
    "sgdRegressor.fit(X, y)\n",
    "\n",
    "# \n",
    "# Grafico de la muestra para entrenamiento\n",
    "#\n",
    "plt.scatter(X, y)\n",
    "\n",
    "#\n",
    "# Gráfico del pronóstico usando SGDRegressor\n",
    "#\n",
    "X_pred = np.linspace(start=-2, stop=4, num=50)\n",
    "X_pred = [[x] for x in X_pred]\n",
    "y_pred = sgdRegressor.predict(X_pred)\n",
    "plt.plot(X_pred, y_pred, '-', linewidth = 4, color='orange')\n",
    "plt.xlabel('x')\n",
    "plt.ylabel('y')\n",
    "plt.show()"
   ]
  },
  {
   "cell_type": "code",
   "execution_count": 7,
   "metadata": {},
   "outputs": [
    {
     "data": {
      "text/plain": [
       "array([44.16533804])"
      ]
     },
     "execution_count": 7,
     "metadata": {},
     "output_type": "execute_result"
    }
   ],
   "source": [
    "sgdRegressor.coef_"
   ]
  },
  {
   "cell_type": "code",
   "execution_count": 8,
   "metadata": {},
   "outputs": [
    {
     "data": {
      "text/plain": [
       "array([1.29536839])"
      ]
     },
     "execution_count": 8,
     "metadata": {},
     "output_type": "execute_result"
    }
   ],
   "source": [
    "sgdRegressor.intercept_"
   ]
  },
  {
   "cell_type": "markdown",
   "metadata": {},
   "source": [
    "## SGDClassifier"
   ]
  },
  {
   "cell_type": "markdown",
   "metadata": {},
   "source": [
    "Este es un modelo lineal de la forma:"
   ]
  },
  {
   "cell_type": "markdown",
   "metadata": {},
   "source": [
    "$$y = g(w_0 + \\sum_i w_i x_i)$$"
   ]
  },
  {
   "cell_type": "markdown",
   "metadata": {},
   "source": [
    "donde: \n",
    "\n",
    "$$\n",
    "g(u) = \n",
    "\\begin{cases}\n",
    "+1, & \\text{Si } u > 0 \\\\ \\\\\n",
    "-1 & \\text{De lo contrario.}\n",
    "\\end{cases}\n",
    "$$\n",
    "\n",
    "donde $+1$ representa una clase y $-1$ representa la otra clase."
   ]
  },
  {
   "cell_type": "markdown",
   "metadata": {},
   "source": [
    "### Preparación de un conjunto de datos artificiales"
   ]
  },
  {
   "cell_type": "code",
   "execution_count": 9,
   "metadata": {},
   "outputs": [
    {
     "data": {
      "text/plain": [
       "Text(0, 0.5, '$x_2$')"
      ]
     },
     "execution_count": 9,
     "metadata": {},
     "output_type": "execute_result"
    },
    {
     "data": {
      "image/png": "[encoded data removed]",
      "text/plain": [
       "<Figure size 432x288 with 1 Axes>"
      ]
     },
     "metadata": {
      "needs_background": "light"
     },
     "output_type": "display_data"
    }
   ],
   "source": [
    "from sklearn.datasets import make_blobs\n",
    "\n",
    "NPOINTS = 150\n",
    "\n",
    "X, d = make_blobs(\n",
    "    n_samples=NPOINTS,\n",
    "    n_features=2,\n",
    "    centers=3,\n",
    "    cluster_std=0.8,\n",
    "    shuffle=False,\n",
    "    random_state=12345,\n",
    ")\n",
    "\n",
    "plt.scatter(X[:50, 0], X[:50, 1], color=\"red\")\n",
    "plt.scatter(X[50:100, 0], X[50:100, 1], color=\"blue\")\n",
    "plt.scatter(X[100:, 0], X[100:, 1], color=\"green\")\n",
    "plt.gca().set_aspect(\"equal\", adjustable=\"box\")\n",
    "plt.xlabel('$x_1$')\n",
    "plt.ylabel('$x_2$')"
   ]
  },
  {
   "cell_type": "markdown",
   "metadata": {},
   "source": [
    "### Modelo"
   ]
  },
  {
   "cell_type": "code",
   "execution_count": 10,
   "metadata": {},
   "outputs": [],
   "source": [
    "from sklearn.linear_model import SGDClassifier\n",
    "\n",
    "\n",
    "sgdClassifier = SGDClassifier(\n",
    "    loss='hinge',                # 'hinge', 'log', 'modified_huber', 'squared_hinge', \n",
    "                                 # 'perceptron', 'squared_loss', 'huber', 'epsilon_insensitive', \n",
    "                                 # 'squared_epsilon_insensitive'\n",
    "    penalty='l2',                # 'none', 'l2', 'l1', or 'elasticnet'\n",
    "    alpha=0.0001,                # regularization\n",
    "    l1_ratio=0.15,               # Elastic Net\n",
    "    fit_intercept=True,          #\n",
    "    max_iter=1000,               #\n",
    "    tol=0.001,                   #\n",
    "    shuffle=True,                # ?shuffle training data after each epoch\n",
    "    verbose=0,                   #\n",
    "    epsilon=0.1,                 # epsilon insensitive loss function\n",
    "    random_state=None,           #\n",
    "    learning_rate='optimal',     # 'constant', 'optimal', 'invscaling', 'adaptive'\n",
    "    eta0=0.0,                    #\n",
    "    power_t=0.5,                 # eta = eta0 / pow(t, power_t) para 'invscaling'\n",
    "    early_stopping=False,        # \n",
    "    validation_fraction=0.1,     # para early_stopping\n",
    "    n_iter_no_change=5,          #\n",
    "    class_weight=None,           # \n",
    "    warm_start=False,            # ?reusa solución previa\n",
    "    average=False,               # \n",
    ")"
   ]
  },
  {
   "cell_type": "markdown",
   "metadata": {},
   "source": [
    "**Nota 1.---** Si se usa `early_stopping=True`, se usa aprendizaje batch y luego se evalua la generalización. En caso contrario, se usa aprendizaje online.\n",
    "\n",
    "\n",
    "**Nota 2.---** Permite usar diferentes funciones de pérdida:\n",
    "\n",
    "* `hinge`: \n",
    "\n",
    "$$L(d,y)=\\max (0, 1 - d \\times y)$$\n",
    "\n",
    "* `log`: logistica\n",
    "\n",
    "    $$L(d, y) = -d \\log (y) - (1-d) \\log(1 - y)$$\n",
    "\n",
    "* `modified_huber`: \n",
    "\n",
    "    $$L(d, y)=\n",
    "    \\begin{cases}\n",
    "    \\max(0, 1 - d \\times y) & \\text{Si } d \\times y \\ge -1 \\\\\n",
    "    \\\\\n",
    "    -4 \\times d \\times y & \\text{en cualquier otro caso}\n",
    "    \\end{cases}\n",
    "    $$ \n",
    "\n",
    "* `squared hinge`: \n",
    "\n",
    "$$L(d,y)=[\\max (0, 1 - d \\times y)]^2$$ \n",
    "\n",
    "* `perceptron`: \n",
    "\n",
    "$$L(d, y)= d - y$$ \n",
    "\n",
    "* Cualquiera de las funciones usadas con `SGDRegressor`.\n",
    "  \n",
    "\n",
    "**Nota 3.---** Las funciones de penalización son las siguientes:\n",
    "\n",
    "* `none`.\n",
    "\n",
    "* `l2`: ridge.\n",
    "\n",
    "* `l1`: LASSO.\n",
    "\n",
    "* `elastincnet`.  \n"
   ]
  },
  {
   "cell_type": "markdown",
   "metadata": {},
   "source": [
    "A continuación se ejemplifica el uso de `SGDClassifier` para construir un classificador lineal."
   ]
  },
  {
   "cell_type": "code",
   "execution_count": 11,
   "metadata": {},
   "outputs": [
    {
     "data": {
      "text/plain": [
       "SGDClassifier(alpha=0.0001, average=False, class_weight=None,\n",
       "              early_stopping=False, epsilon=0.1, eta0=0.0, fit_intercept=True,\n",
       "              l1_ratio=0.15, learning_rate='optimal', loss='hinge',\n",
       "              max_iter=1000, n_iter_no_change=5, n_jobs=None, penalty='l2',\n",
       "              power_t=0.5, random_state=None, shuffle=True, tol=0.001,\n",
       "              validation_fraction=0.1, verbose=0, warm_start=False)"
      ]
     },
     "execution_count": 11,
     "metadata": {},
     "output_type": "execute_result"
    }
   ],
   "source": [
    "#\n",
    "# Estimación de los parámetros óptimos\n",
    "#\n",
    "sgdClassifier.fit(X, d)"
   ]
  },
  {
   "cell_type": "code",
   "execution_count": 12,
   "metadata": {},
   "outputs": [
    {
     "data": {
      "text/plain": [
       "array([[ 25.89353085, -12.89045379],\n",
       "       [-41.10862528,  -9.86167078],\n",
       "       [  2.52962686,  40.80706367]])"
      ]
     },
     "execution_count": 12,
     "metadata": {},
     "output_type": "execute_result"
    }
   ],
   "source": [
    "sgdClassifier.coef_"
   ]
  },
  {
   "cell_type": "code",
   "execution_count": 13,
   "metadata": {},
   "outputs": [
    {
     "data": {
      "text/plain": [
       "array([-99.94491683, -38.5897078 ,   5.08159692])"
      ]
     },
     "execution_count": 13,
     "metadata": {},
     "output_type": "execute_result"
    }
   ],
   "source": [
    "sgdClassifier.intercept_"
   ]
  },
  {
   "cell_type": "code",
   "execution_count": 14,
   "metadata": {},
   "outputs": [
    {
     "data": {
      "text/plain": [
       "array([0, 0, 0, 0, 0, 0, 0, 0, 0, 0, 0, 0, 0, 0, 0, 0, 0, 0, 0, 0, 0, 0,\n",
       "       0, 0, 0, 0, 0, 0, 0, 0, 0, 0, 0, 0, 0, 0, 0, 0, 0, 0, 0, 0, 0, 0,\n",
       "       0, 0, 0, 0, 0, 0, 1, 1, 1, 1, 1, 1, 1, 1, 1, 1, 1, 1, 1, 1, 1, 1,\n",
       "       1, 1, 1, 1, 1, 1, 1, 1, 1, 1, 1, 1, 1, 1, 1, 1, 1, 1, 1, 1, 1, 1,\n",
       "       1, 1, 1, 1, 1, 1, 1, 1, 1, 1, 1, 1, 2, 2, 2, 2, 2, 2, 2, 2, 2, 2,\n",
       "       2, 2, 2, 2, 2, 2, 2, 2, 2, 2, 2, 2, 2, 2, 2, 2, 2, 2, 2, 2, 2, 2,\n",
       "       2, 2, 2, 2, 2, 2, 2, 2, 2, 2, 2, 2, 2, 2, 2, 2, 2, 2])"
      ]
     },
     "execution_count": 14,
     "metadata": {},
     "output_type": "execute_result"
    }
   ],
   "source": [
    "sgdClassifier.predict(X)"
   ]
  },
  {
   "cell_type": "markdown",
   "metadata": {},
   "source": [
    "Para graficar las fronteras de decisión, se tiene en cuenta que la frontera entre dos clases se produce en $g(0)$, de tal forma que:\n",
    "\n",
    "$$\n",
    "w_0 + w_1x_1 + w_2x_2 = 0\n",
    "$$\n",
    "\n",
    "Despejando:\n",
    "$$\n",
    "    x_2 = - \\left(  \n",
    "    \\frac{w_0}{w_2} + \\frac{w_1}{w_2} x_1\n",
    "    \\right)\n",
    "$$\n",
    "\n"
   ]
  },
  {
   "cell_type": "code",
   "execution_count": 15,
   "metadata": {},
   "outputs": [
    {
     "data": {
      "text/plain": [
       "Text(0, 0.5, '$x_2')"
      ]
     },
     "execution_count": 15,
     "metadata": {},
     "output_type": "execute_result"
    },
    {
     "data": {
      "image/png": "[encoded data removed]",
      "text/plain": [
       "<Figure size 432x288 with 1 Axes>"
      ]
     },
     "metadata": {
      "needs_background": "light"
     },
     "output_type": "display_data"
    }
   ],
   "source": [
    "#\n",
    "# Gráfica de las fronteras de decisión\n",
    "#\n",
    "\n",
    "plt.scatter(X[:50,0], X[:50,1], color='red')\n",
    "plt.scatter(X[50:100,0], X[50:100,1], color='blue')\n",
    "plt.scatter(X[100:,0], X[100:,1], color='green')\n",
    "plt.gca().set_aspect('equal', adjustable='box')\n",
    "\n",
    "xlim = plt.gca().get_xlim()\n",
    "ylim = plt.gca().get_ylim()\n",
    "\n",
    "xplot = np.linspace(start=xlim[0], stop=xlim[1], num=20)\n",
    "fronteraA = (- sgdClassifier.intercept_[0] / sgdClassifier.coef_[0][1] \n",
    "             - sgdClassifier.coef_[0][0] / sgdClassifier.coef_[0][1] * xplot)\n",
    "\n",
    "fronteraB = (- sgdClassifier.intercept_[1] / sgdClassifier.coef_[1][1] \n",
    "             - sgdClassifier.coef_[1][0] / sgdClassifier.coef_[1][1] * xplot)\n",
    "\n",
    "fronteraC = (- sgdClassifier.intercept_[2] / sgdClassifier.coef_[2][1] \n",
    "             - sgdClassifier.coef_[2][0] / sgdClassifier.coef_[2][1] * xplot)\n",
    "\n",
    "plt.plot(xplot, fronteraA, color='red', linewidth=3)\n",
    "plt.plot(xplot, fronteraB, color='blue', linewidth=3)\n",
    "plt.plot(xplot, fronteraC, color='green', linewidth=3);\n",
    "\n",
    "plt.xlim(xlim)\n",
    "plt.ylim(ylim)\n",
    "plt.gca().set_aspect(\"equal\", adjustable=\"box\")\n",
    "plt.xlabel('$x_1$')\n",
    "plt.ylabel('$x_2')"
   ]
  },
  {
   "cell_type": "markdown",
   "metadata": {},
   "source": [
    "**Ejercicio.---** ¿Cómo se modifican las fronteras de decisión cuando se usa la función de pérdida de la regresión logística?"
   ]
  }
 ],
 "metadata": {
  "kernelspec": {
   "display_name": "Python 3",
   "language": "python",
   "name": "python3"
  },
  "language_info": {
   "codemirror_mode": {
    "name": "ipython",
    "version": 3
   },
   "file_extension": ".py",
   "mimetype": "text/x-python",
   "name": "python",
   "nbconvert_exporter": "python",
   "pygments_lexer": "ipython3",
   "version": "3.6.9"
  }
 },
 "nbformat": 4,
 "nbformat_minor": 4
}
