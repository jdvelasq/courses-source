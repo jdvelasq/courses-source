{
 "cells": [
  {
   "cell_type": "markdown",
   "metadata": {},
   "source": [
    "Regresión no lineal univariada con perceptrones multicapa\n",
    "===\n",
    "\n",
    "\n",
    "* *60 min* | Ultima modificación: Julio 3, 2019"
   ]
  },
  {
   "cell_type": "markdown",
   "metadata": {},
   "source": [
    "## Definición del problema"
   ]
  },
  {
   "cell_type": "markdown",
   "metadata": {},
   "source": [
    "Se desea construir un modelo de regresión no lineal para la siguiente muestra de 31 observaciones de $(x, y)$ con el fin de poder interpolar el valor de la variable de respuesta para valores de $x$. "
   ]
  },
  {
   "cell_type": "code",
   "execution_count": 1,
   "metadata": {},
   "outputs": [],
   "source": [
    "x = [-3.5000, -3.2941, -3.0882, -2.8824, -2.6765, \n",
    "     -2.4706, -2.2647, -2.0588, -1.8529, -1.6471, \n",
    "     -1.4412, -1.2353, -1.0294, -0.8235, -0.6176, \n",
    "     -0.4118, -0.2059,  0.0000,  0.2059,  0.4118, \n",
    "      0.6176,  0.8235,  1.0294,  1.2353,  1.4412, \n",
    "      1.6471,  1.8529,  2.0588,  2.2647,  2.4706, \n",
    "      2.6765,  2.8824,  3.0882,  3.2941,  3.5000]\n",
    "\n",
    "d = [ 0.0000,  0.0000,  0.0001,  0.0002,  0.0008,  \n",
    "      0.0022,  0.0059,  0.0144,  0.0323,  0.0664,  \n",
    "      0.1253,  0.2174,  0.3466,  0.5075,  0.6828,  \n",
    "      0.8440,  0.9585,  1.0000,  0.9585,  0.8440,  \n",
    "      0.6828,  0.5075,  0.3466,  0.2174,  0.1253,  \n",
    "      0.0664,  0.0323,  0.0144,  0.0059,  0.0022,  \n",
    "      0.0008,  0.0002,  0.0001,  0.0000,  0.0000]"
   ]
  },
  {
   "cell_type": "markdown",
   "metadata": {},
   "source": [
    "La siguiente figura muestra que la relación es no lineal entre las variables de entrada ($x$) y salida ($y$)."
   ]
  },
  {
   "cell_type": "code",
   "execution_count": 2,
   "metadata": {
    "scrolled": true
   },
   "outputs": [],
   "source": [
    "import matplotlib.pyplot as plt\n",
    "\n",
    "plt.plot(x, d, 'o')\n",
    "plt.grid()"
   ]
  },
  {
   "cell_type": "markdown",
   "metadata": {},
   "source": [
    "## Arquitectura"
   ]
  },
  {
   "cell_type": "markdown",
   "metadata": {},
   "source": [
    "El perceptrón multicapa se obtiene al agrupar varios perceptrones continuos en capas para luego conectar las capas entre sí, una a continuación de la siguiente. Las neuronas de cada capa se conectan a todas y cada una de las neuronas de la siguiente capa. Solo hay conexiones entre capas adyacentes.\n",
    "\n",
    "Se consideran tres tipos de capas por su ubicación (véase la figura de abajo):\n",
    "\n",
    "\n",
    "* Capa de entrada: son nodos que simplemente capturan la información de entrada y la transmiten directamente a la siguiente capa sin realizar ningún tipo de procesamiento. Hay tantas neuronas de entrada como variables considere el modelo. Corresponden a la capa con las entradas $x$ y $y$ de la figura de abajo.\n",
    "\n",
    "\n",
    "* Capas ocultas de procesamiento: son capas internas usualmente no visibles por el usuario que realizan el procesamiento de la información. En la figura de abajo, hay una sola capa oculta con cuatro neuronas.\n",
    "\n",
    "\n",
    "* Capa de salida: Entrega la señal de salida al usuario. Tiene tantas neuronas como variables de salida tenga el sistema. En la figura de abajo, corresponde a la neurona de la derecha que da como salida la variable $z$.\n",
    "\n",
    "Tal como se indicó, en la figura de abajo se presenta el diagrama esquemático para un modelo con dos entradas $(x, y)$, una capa oculta con cuatro neuronas, y una capa de salida."
   ]
  },
  {
   "cell_type": "markdown",
   "metadata": {},
   "source": [
    "### Capacidad de aprendizaje"
   ]
  },
  {
   "cell_type": "markdown",
   "metadata": {},
   "source": [
    "Un perceptrón multicapa puede aproximar cualquier función arbitraria simplemente agregando neuronas a la capa oculta. En la siguiente figura, se muestran las superficies generadas para por cada una de las cuatro neuronas de la capa oculta (las cuatro superficies en forma de S), y como al combinarse en la capa de salida producen la figura de la derecha (que corresponde a la variable $z$)."
   ]
  },
  {
   "cell_type": "markdown",
   "metadata": {},
   "source": [
    "![alt](assets/MulticapaRegresionUniv-01.png)"
   ]
  },
  {
   "cell_type": "markdown",
   "metadata": {},
   "source": [
    "Una pregunta fundamental en redes neuronales es la determinación de cuántas capas ocultas y cuántas neuronas por capa oculta deben usarse. En la figura de abajo se presentan las fronteras de decisión para diferentes configuraciones de una red neuronal para resolver un problema de clasificación. \n",
    "\n",
    "* Un perceptrón simple puede generar una frontera de decisión lineal (figura de la izquierda). \n",
    "\n",
    "* Un perceptrón multicapa puede generar una superficie compacta donde la región sombreada representa una clase y el resto de la superficie representa la otra (figura del centro). Cada uno de los bordes del polígono es generado como la frontera de decisión que produce cada perceptrón de la capa oculta. La neurona de salida implementa la función lógica AND o la función lógica OR. Si cada perceptrón de la capa oculta indica la pertenencia de un punto cualquiera a la región sombreda, entonces la neurona de salida representa un AND (todos los perceptrones de la capa oculta deben indicar que el punto pertenece a la región sombreada). De forma análoga, si los perceptrones de la capa oculta indican la no pertenencia a la región sombreada, entonces, la neurona de salida debe representar un OR. Esto implica (de forma intuitiva) que un perceptrón con una capa oculta puede aproximar cualquier función continua definida en un dominio compacto\n",
    "\n",
    "* Finalmente, una red con dos capas ocultas puede resolver problemas de clasificación donde los elementos de la clase de interés están aglomerados en distintas regiones (ya no hay un dominio compacto). Si se tiene en cuenta que cada región compacta puede ser generada por u perceptrón con una capa oculta, entonces se requieren dos percptrones los cuales son unidos mediante una capa adicional (al final) que representa un OR lógico.\n",
    "\n",
    "![alt](assets/MulticapaRegresionUniv-02.png)"
   ]
  },
  {
   "cell_type": "markdown",
   "metadata": {},
   "source": [
    "### Estimación de los pesos óptimos de la red neuronal"
   ]
  },
  {
   "cell_type": "markdown",
   "metadata": {},
   "source": [
    "La estimación de los parámetros óptimos se realiza mediante el método del descenso acelerado, usualmente minimizando el error cuadrático medio, tal como ya se ha realizado en muchos de los casos anteriores:\n",
    "\n",
    "$$\n",
    "\\mathbf{w}(k+1) = \\mathbf{w}(k) - \\mu \\frac{\\partial}{\\partial\\mathbf{w}(k)} \\left[ e^2(k)\\right]\n",
    "$$\n",
    "\n",
    "La dificultad subyace en la estimación del gradiente algebráico de los pesos de las conexiones respecto al error. La derivación del gradiente está fuera del alcance de este documento y se invita al lector a consultar libros especializados sobre el tema."
   ]
  },
  {
   "cell_type": "markdown",
   "metadata": {},
   "source": [
    "## Implementación usando Python"
   ]
  },
  {
   "cell_type": "code",
   "execution_count": 3,
   "metadata": {},
   "outputs": [
    {
     "data": {
      "image/png": "[encoded data removed]",
      "text/plain": [
       "<Figure size 432x288 with 1 Axes>"
      ]
     },
     "metadata": {
      "needs_background": "light"
     },
     "output_type": "display_data"
    }
   ],
   "source": [
    "import sklearn.neural_network\n",
    "import numpy as np\n",
    "\n",
    "##\n",
    "## El parámetro hidden_layer_sizes recibe una tupla que\n",
    "## indica la cantidad de neuronas de cada capa oculta. En\n",
    "## el caso presentado, el valor (6,) indica que hay una sola\n",
    "## capa oculta con 6 neuronas que usan la función sigmoidea.\n",
    "## El parámetro solver = 'sgd' indica que se usará el \n",
    "## algoritmo de gradiente descendente estocástico para entrenar\n",
    "## la red neuronal. \n",
    "##\n",
    "\n",
    "m = sklearn.neural_network.MLPRegressor(\n",
    "                 hidden_layer_sizes = (6,),  # Una capa oculta con una neurona\n",
    "                 activation = 'logistic',    #  {‘identity’, ‘logistic’, ‘tanh’, ‘relu’}\n",
    "                 solver = 'sgd',             #  {‘lbfgs’, ‘sgd’, ‘adam’}\n",
    "                 alpha = 0.0,                #\n",
    "                 learning_rate_init = 0.1,   # Valor de la tasa de aprendizaje\n",
    "                 learning_rate = 'constant', # La tasa no se adapta automáticamente\n",
    "                 verbose = False,            # Reporte del proceso de optimización\n",
    "                 shuffle = True,             #\n",
    "                 tol = 1e-8,                 #\n",
    "                 max_iter = 25000,           # Número máximo de iteraciones\n",
    "                 momentum = 0.0,             # \n",
    "                 nesterovs_momentum = False) #\n",
    "\n",
    "X = [[u] for u in x]                         # Scikit espera una lista de listas\n",
    "m.fit(X, d)                                  # Entrena el modelo\n",
    "\n",
    "plt.plot(x, d, 'o');\n",
    "plt.grid()\n",
    "plt.plot(x, m.predict(X), '-');"
   ]
  },
  {
   "cell_type": "markdown",
   "metadata": {},
   "source": [
    "En esta caso se usa la libraría `neuralnet` la cual ha sido ampliamente usada."
   ]
  }
 ],
 "metadata": {
  "kernelspec": {
   "display_name": "R",
   "language": "R",
   "name": "ir"
  },
  "language_info": {
   "codemirror_mode": "r",
   "file_extension": ".r",
   "mimetype": "text/x-r-source",
   "name": "R",
   "pygments_lexer": "r",
   "version": "3.4.4"
  }
 },
 "nbformat": 4,
 "nbformat_minor": 2
}
