{
 "cells": [
  {
   "cell_type": "markdown",
   "metadata": {},
   "source": [
    "Myoelectric signals\n",
    "===\n",
    "\n",
    "* 41:42 min | Última modificación: Mayo 27, 2021 | [YouTube]"
   ]
  },
  {
   "cell_type": "code",
   "execution_count": 1,
   "metadata": {},
   "outputs": [],
   "source": [
    "import warnings\n",
    "\n",
    "warnings.filterwarnings(\"ignore\")"
   ]
  },
  {
   "cell_type": "markdown",
   "metadata": {},
   "source": [
    "## Lectura de datos"
   ]
  },
  {
   "cell_type": "code",
   "execution_count": 2,
   "metadata": {},
   "outputs": [
    {
     "data": {
      "text/html": [
       "<div>\n",
       "<style scoped>\n",
       "    .dataframe tbody tr th:only-of-type {\n",
       "        vertical-align: middle;\n",
       "    }\n",
       "\n",
       "    .dataframe tbody tr th {\n",
       "        vertical-align: top;\n",
       "    }\n",
       "\n",
       "    .dataframe thead th {\n",
       "        text-align: right;\n",
       "    }\n",
       "</style>\n",
       "<table border=\"1\" class=\"dataframe\">\n",
       "  <thead>\n",
       "    <tr style=\"text-align: right;\">\n",
       "      <th></th>\n",
       "      <th>x1</th>\n",
       "      <th>x2</th>\n",
       "      <th>x3</th>\n",
       "      <th>x4</th>\n",
       "      <th>indicator</th>\n",
       "    </tr>\n",
       "  </thead>\n",
       "  <tbody>\n",
       "    <tr>\n",
       "      <th>0</th>\n",
       "      <td>0.138</td>\n",
       "      <td>-0.168</td>\n",
       "      <td>-0.289</td>\n",
       "      <td>0.193</td>\n",
       "      <td>1</td>\n",
       "    </tr>\n",
       "    <tr>\n",
       "      <th>1</th>\n",
       "      <td>0.255</td>\n",
       "      <td>-0.029</td>\n",
       "      <td>0.134</td>\n",
       "      <td>-0.163</td>\n",
       "      <td>1</td>\n",
       "    </tr>\n",
       "    <tr>\n",
       "      <th>2</th>\n",
       "      <td>0.044</td>\n",
       "      <td>0.003</td>\n",
       "      <td>0.048</td>\n",
       "      <td>-0.017</td>\n",
       "      <td>0</td>\n",
       "    </tr>\n",
       "    <tr>\n",
       "      <th>3</th>\n",
       "      <td>-0.030</td>\n",
       "      <td>0.003</td>\n",
       "      <td>-0.050</td>\n",
       "      <td>0.028</td>\n",
       "      <td>0</td>\n",
       "    </tr>\n",
       "    <tr>\n",
       "      <th>4</th>\n",
       "      <td>0.001</td>\n",
       "      <td>0.019</td>\n",
       "      <td>0.016</td>\n",
       "      <td>0.023</td>\n",
       "      <td>0</td>\n",
       "    </tr>\n",
       "  </tbody>\n",
       "</table>\n",
       "</div>"
      ],
      "text/plain": [
       "      x1     x2     x3     x4  indicator\n",
       "0  0.138 -0.168 -0.289  0.193          1\n",
       "1  0.255 -0.029  0.134 -0.163          1\n",
       "2  0.044  0.003  0.048 -0.017          0\n",
       "3 -0.030  0.003 -0.050  0.028          0\n",
       "4  0.001  0.019  0.016  0.023          0"
      ]
     },
     "execution_count": 2,
     "metadata": {},
     "output_type": "execute_result"
    }
   ],
   "source": [
    "import pandas as pd\n",
    "\n",
    "\n",
    "df = pd.read_csv(\n",
    "    \"https://raw.githubusercontent.com/jdvelasq/datalabs/master/datasets/myoelectric_signals.csv\",\n",
    "    sep = ',',         # separador de campos\n",
    "    thousands = None,  # separador de miles para números\n",
    "    decimal = '.')     # separador de los decimales para números\n",
    "\n",
    "df.head()"
   ]
  },
  {
   "cell_type": "code",
   "execution_count": 3,
   "metadata": {},
   "outputs": [
    {
     "data": {
      "text/html": [
       "<div>\n",
       "<style scoped>\n",
       "    .dataframe tbody tr th:only-of-type {\n",
       "        vertical-align: middle;\n",
       "    }\n",
       "\n",
       "    .dataframe tbody tr th {\n",
       "        vertical-align: top;\n",
       "    }\n",
       "\n",
       "    .dataframe thead th {\n",
       "        text-align: right;\n",
       "    }\n",
       "</style>\n",
       "<table border=\"1\" class=\"dataframe\">\n",
       "  <thead>\n",
       "    <tr style=\"text-align: right;\">\n",
       "      <th></th>\n",
       "      <th>x1</th>\n",
       "      <th>x2</th>\n",
       "      <th>x3</th>\n",
       "      <th>x4</th>\n",
       "      <th>indicator</th>\n",
       "    </tr>\n",
       "  </thead>\n",
       "  <tbody>\n",
       "    <tr>\n",
       "      <th>count</th>\n",
       "      <td>72.000000</td>\n",
       "      <td>72.000000</td>\n",
       "      <td>72.000000</td>\n",
       "      <td>72.000000</td>\n",
       "      <td>72.000000</td>\n",
       "    </tr>\n",
       "    <tr>\n",
       "      <th>mean</th>\n",
       "      <td>0.058292</td>\n",
       "      <td>-0.017681</td>\n",
       "      <td>0.010328</td>\n",
       "      <td>0.027611</td>\n",
       "      <td>0.472222</td>\n",
       "    </tr>\n",
       "    <tr>\n",
       "      <th>std</th>\n",
       "      <td>0.152580</td>\n",
       "      <td>0.145051</td>\n",
       "      <td>0.165051</td>\n",
       "      <td>0.149296</td>\n",
       "      <td>0.502731</td>\n",
       "    </tr>\n",
       "    <tr>\n",
       "      <th>min</th>\n",
       "      <td>-0.436000</td>\n",
       "      <td>-0.634000</td>\n",
       "      <td>-0.437000</td>\n",
       "      <td>-0.373000</td>\n",
       "      <td>0.000000</td>\n",
       "    </tr>\n",
       "    <tr>\n",
       "      <th>25%</th>\n",
       "      <td>-0.005250</td>\n",
       "      <td>-0.039500</td>\n",
       "      <td>-0.046250</td>\n",
       "      <td>-0.018000</td>\n",
       "      <td>0.000000</td>\n",
       "    </tr>\n",
       "    <tr>\n",
       "      <th>50%</th>\n",
       "      <td>0.025500</td>\n",
       "      <td>0.004500</td>\n",
       "      <td>-0.003000</td>\n",
       "      <td>0.019500</td>\n",
       "      <td>0.000000</td>\n",
       "    </tr>\n",
       "    <tr>\n",
       "      <th>75%</th>\n",
       "      <td>0.138750</td>\n",
       "      <td>0.026750</td>\n",
       "      <td>0.048750</td>\n",
       "      <td>0.069250</td>\n",
       "      <td>1.000000</td>\n",
       "    </tr>\n",
       "    <tr>\n",
       "      <th>max</th>\n",
       "      <td>0.614000</td>\n",
       "      <td>0.341000</td>\n",
       "      <td>0.588000</td>\n",
       "      <td>0.856000</td>\n",
       "      <td>1.000000</td>\n",
       "    </tr>\n",
       "  </tbody>\n",
       "</table>\n",
       "</div>"
      ],
      "text/plain": [
       "              x1         x2         x3         x4  indicator\n",
       "count  72.000000  72.000000  72.000000  72.000000  72.000000\n",
       "mean    0.058292  -0.017681   0.010328   0.027611   0.472222\n",
       "std     0.152580   0.145051   0.165051   0.149296   0.502731\n",
       "min    -0.436000  -0.634000  -0.437000  -0.373000   0.000000\n",
       "25%    -0.005250  -0.039500  -0.046250  -0.018000   0.000000\n",
       "50%     0.025500   0.004500  -0.003000   0.019500   0.000000\n",
       "75%     0.138750   0.026750   0.048750   0.069250   1.000000\n",
       "max     0.614000   0.341000   0.588000   0.856000   1.000000"
      ]
     },
     "execution_count": 3,
     "metadata": {},
     "output_type": "execute_result"
    }
   ],
   "source": [
    "df.describe()"
   ]
  },
  {
   "cell_type": "markdown",
   "metadata": {},
   "source": [
    "## Preparación"
   ]
  },
  {
   "cell_type": "code",
   "execution_count": 4,
   "metadata": {},
   "outputs": [
    {
     "data": {
      "image/png": "[encoded data removed]",
      "text/plain": [
       "<Figure size 720x432 with 1 Axes>"
      ]
     },
     "metadata": {
      "needs_background": "light"
     },
     "output_type": "display_data"
    }
   ],
   "source": [
    "import matplotlib.pyplot as plt\n",
    "import seaborn as sns\n",
    "\n",
    "#\n",
    "# Los rangos de las variables numéricas son\n",
    "# bastantes diferentes\n",
    "#\n",
    "plt.figure(figsize=(10, 6))\n",
    "sns.boxplot(data=df)\n",
    "plt.xticks(rotation=90);"
   ]
  },
  {
   "cell_type": "markdown",
   "metadata": {},
   "source": [
    "## Entrenamiento y Pronóstico"
   ]
  },
  {
   "cell_type": "code",
   "execution_count": 5,
   "metadata": {},
   "outputs": [
    {
     "data": {
      "text/plain": [
       "MLPClassifier(activation='logistic', alpha=0.0001, batch_size='auto',\n",
       "              beta_1=0.9, beta_2=0.999, early_stopping=False, epsilon=1e-08,\n",
       "              hidden_layer_sizes=(4,), learning_rate='adaptive',\n",
       "              learning_rate_init=0.1, max_fun=15000, max_iter=1000,\n",
       "              momentum=0.6, n_iter_no_change=10, nesterovs_momentum=True,\n",
       "              power_t=0.5, random_state=None, shuffle=True, solver='adam',\n",
       "              tol=0.0001, validation_fraction=0.1, verbose=0, warm_start=False)"
      ]
     },
     "execution_count": 5,
     "metadata": {},
     "output_type": "execute_result"
    }
   ],
   "source": [
    "from sklearn.model_selection import GridSearchCV\n",
    "from sklearn.neural_network import MLPClassifier\n",
    "\n",
    "parameters = [\n",
    "    {\n",
    "        \"hidden_layer_sizes\": [(h,) for h in range(5)],\n",
    "        \"learning_rate_init\": [\n",
    "            0.01,\n",
    "            0.05,\n",
    "            0.10,\n",
    "            0.15,\n",
    "            0.20,\n",
    "            0.25,\n",
    "            0.30,\n",
    "        ],\n",
    "        \"momentum\": [\n",
    "            0.60,\n",
    "            0.70,\n",
    "            0.80,\n",
    "            0.90,\n",
    "        ],\n",
    "    },\n",
    "]\n",
    "\n",
    "\n",
    "m = GridSearchCV(\n",
    "    MLPClassifier(\n",
    "        activation=\"logistic\",\n",
    "        learning_rate=\"adaptive\",\n",
    "        max_iter=1000,\n",
    "        verbose=0,\n",
    "    ),\n",
    "    parameters,\n",
    "    cv=10,\n",
    ")\n",
    "\n",
    "#\n",
    "# Se usa el 75% de los datos para entrenamiento\n",
    "# concrete_train <- concrete_norm[1:773, ]\n",
    "# concrete_test <- concrete_norm[774:1030, ]\n",
    "#\n",
    "m.fit(df[['x1', 'x2', 'x3', 'x4']].values, df.indicator)\n",
    "\n",
    "m.best_estimator_"
   ]
  },
  {
   "cell_type": "code",
   "execution_count": 8,
   "metadata": {},
   "outputs": [
    {
     "data": {
      "text/html": [
       "<div>\n",
       "<style scoped>\n",
       "    .dataframe tbody tr th:only-of-type {\n",
       "        vertical-align: middle;\n",
       "    }\n",
       "\n",
       "    .dataframe tbody tr th {\n",
       "        vertical-align: top;\n",
       "    }\n",
       "\n",
       "    .dataframe thead th {\n",
       "        text-align: right;\n",
       "    }\n",
       "</style>\n",
       "<table border=\"1\" class=\"dataframe\">\n",
       "  <thead>\n",
       "    <tr style=\"text-align: right;\">\n",
       "      <th></th>\n",
       "      <th>indicator</th>\n",
       "      <th>prediction</th>\n",
       "    </tr>\n",
       "  </thead>\n",
       "  <tbody>\n",
       "    <tr>\n",
       "      <th>0</th>\n",
       "      <td>1</td>\n",
       "      <td>1</td>\n",
       "    </tr>\n",
       "    <tr>\n",
       "      <th>1</th>\n",
       "      <td>1</td>\n",
       "      <td>1</td>\n",
       "    </tr>\n",
       "    <tr>\n",
       "      <th>2</th>\n",
       "      <td>0</td>\n",
       "      <td>0</td>\n",
       "    </tr>\n",
       "    <tr>\n",
       "      <th>3</th>\n",
       "      <td>0</td>\n",
       "      <td>0</td>\n",
       "    </tr>\n",
       "    <tr>\n",
       "      <th>4</th>\n",
       "      <td>0</td>\n",
       "      <td>0</td>\n",
       "    </tr>\n",
       "    <tr>\n",
       "      <th>...</th>\n",
       "      <td>...</td>\n",
       "      <td>...</td>\n",
       "    </tr>\n",
       "    <tr>\n",
       "      <th>67</th>\n",
       "      <td>0</td>\n",
       "      <td>0</td>\n",
       "    </tr>\n",
       "    <tr>\n",
       "      <th>68</th>\n",
       "      <td>1</td>\n",
       "      <td>1</td>\n",
       "    </tr>\n",
       "    <tr>\n",
       "      <th>69</th>\n",
       "      <td>0</td>\n",
       "      <td>0</td>\n",
       "    </tr>\n",
       "    <tr>\n",
       "      <th>70</th>\n",
       "      <td>1</td>\n",
       "      <td>0</td>\n",
       "    </tr>\n",
       "    <tr>\n",
       "      <th>71</th>\n",
       "      <td>1</td>\n",
       "      <td>1</td>\n",
       "    </tr>\n",
       "  </tbody>\n",
       "</table>\n",
       "<p>72 rows × 2 columns</p>\n",
       "</div>"
      ],
      "text/plain": [
       "    indicator  prediction\n",
       "0           1           1\n",
       "1           1           1\n",
       "2           0           0\n",
       "3           0           0\n",
       "4           0           0\n",
       "..        ...         ...\n",
       "67          0           0\n",
       "68          1           1\n",
       "69          0           0\n",
       "70          1           0\n",
       "71          1           1\n",
       "\n",
       "[72 rows x 2 columns]"
      ]
     },
     "execution_count": 8,
     "metadata": {},
     "output_type": "execute_result"
    }
   ],
   "source": [
    "df['prediction'] = m.predict(df[['x1', 'x2', 'x3', 'x4']])\n",
    "df[['indicator', 'prediction']]"
   ]
  },
  {
   "cell_type": "code",
   "execution_count": 9,
   "metadata": {},
   "outputs": [
    {
     "data": {
      "text/plain": [
       "array([[38,  0],\n",
       "       [ 1, 33]])"
      ]
     },
     "execution_count": 9,
     "metadata": {},
     "output_type": "execute_result"
    }
   ],
   "source": [
    "from sklearn.metrics import confusion_matrix\n",
    "\n",
    "confusion_matrix(\n",
    "    y_true=df.indicator,\n",
    "    y_pred=df.prediction,\n",
    ")"
   ]
  },
  {
   "cell_type": "code",
   "execution_count": null,
   "metadata": {},
   "outputs": [],
   "source": []
  },
  {
   "cell_type": "code",
   "execution_count": null,
   "metadata": {},
   "outputs": [],
   "source": []
  },
  {
   "cell_type": "code",
   "execution_count": null,
   "metadata": {},
   "outputs": [],
   "source": []
  },
  {
   "cell_type": "code",
   "execution_count": null,
   "metadata": {},
   "outputs": [],
   "source": []
  },
  {
   "cell_type": "code",
   "execution_count": null,
   "metadata": {},
   "outputs": [],
   "source": [
    "%%writefile goldprices.csv\n",
    "329.95 329.60 329.95 328.20 330.15 329.55 329.75 330.51\n",
    "329.715 328.50 328.65 324.75 328.45 328.35 328.15 326.32\n",
    "328.05 327.80 328.15 327,34 328.15 327.75 328.05 327.28\n",
    "327.95 328.30 328.50 329.00 328.85 331.80 330.15 328.92\n",
    "331.55 331.25 331.80 329.84 330.95 328.80 328.35 329.66\n",
    "328.55 328.80 328.55 329.09 : 329.25 332.00 331.65 330.26\n",
    "331.85 330.10 330.30 331.87 330,15 330.00 330.00 327.90\n",
    "330.95 329.90 330.65 331.20 329.25 327.85 330.00 331.20\n",
    "329.45 33350 329.60 328.55 330.55 329.20 330.15 330.73\n",
    "329.85 329.50 329.55 329,31 329,35 328.15 328.75 327.78\n",
    "329.15 328.35 328.55 327.63 328.95 329.40 330.10 328.57\n",
    "330.05 328.80 329.45 330.40 328.45 328/75 328.25 330.40\n",
    "329.65 329.60 330.15 331.41 328.75 327.00 327.35 326.87\n",
    "327.35 326.75 326.45 328.47 326.75 326.15 326.55 326.03\n",
    "326.75 327.00 327.10 327.11 327.05 327.90 327.15 325.86\n",
    "328.05 329.05 328.65 327.71 329.15 328.85 329.00 329.10\n",
    "328.55 328.80 329.35 329.10 329.45 330.25 330,45 330.00\n",
    "330.65 331.50 331.30 331.94 332.45 332/70 332.60 331.97\n",
    "331.75 331.60 331.75 331.90 331.25 332.20 331.35 330.90\n",
    "332.65 332.50 332.15 332/78 332.065 332.25 332.50 333.81\n",
    "332.05 332.00 332.05 331.92 333.15 336.35 335.75 332,20\n",
    "337.25 336.75 338.35 338.34 336.95 338.20 336.75 336.93\n",
    "339.45 340.00 340.35 338.28 339.45 339.10 339.30 338.52\n",
    "338.05 337.50 338.40 338.85 337.35 337.75 336.60 337.47\n",
    "337.85 337.00 337.30 336.94 337.85 337.00 337.25 336.94\n",
    "337.85 336.50 337.30 336.94 337,15 336.95 336.65 336.32\n",
    "337.25 338.50 339.20 338.66 339.55 336.60 338.65 339.71\n",
    "337.25 338.50 339.05 338.23 340.55 339.90 339.85 340.19\n",
    "341.15 :339.90 340.55 341.08 339.15 339.25 338.85 339.01\n",
    "337.15 339.60 339.70 339.09 341.15 346.50 334.00 340.87\n",
    "348.75 352.00 350.10 349.04 352.25 350.00 350.75 352.28\n",
    "349.75 353.00 351.60 349.64 354.65 355.90 354.90 355.49\n",
    "354.25 355.80 354.95 354.22"
   ]
  },
  {
   "cell_type": "code",
   "execution_count": null,
   "metadata": {},
   "outputs": [],
   "source": [
    "%%writefile animal_features.csv\n",
    "2.3113 .3._.3-_3\n",
    "32.103.3._3._3\n",
    "231123 ._30-_3\n",
    "23119223 3\n",
    "2311123 3\n",
    "1311223 3\n",
    "2100223 3\n",
    "210032 .23 3\n",
    "110021 ._3 3\n",
    "1100213 03\n",
    "110011 .3 3\n",
    "1100003 3\n",
    "110011 .3 3\n",
    "331144023\n",
    "33114402 3\n",
    "33114453 2\n",
    "33.11444s 1 2\n",
    "331133102\n",
    "33.11444s1s 2\n",
    "3311393012\n",
    "33.111431 2\n",
    "32511331 2\n",
    "331132 m1 m1\n",
    "33.1132m1mu1\n",
    "32.51144s1 s1\n",
    "32. .1144s1su1\n",
    "32511332 m2\n",
    "211144s 1 s1\n",
    "04.103.3-_3 -023\n",
    "0410533 ._3 -U3\n",
    "04.003 .3._3-.3\n",
    "040033 _- 3"
   ]
  },
  {
   "cell_type": "code",
   "execution_count": null,
   "metadata": {},
   "outputs": [],
   "source": []
  },
  {
   "cell_type": "code",
   "execution_count": null,
   "metadata": {},
   "outputs": [],
   "source": []
  }
 ],
 "metadata": {
  "kernelspec": {
   "display_name": "Python 3",
   "language": "python",
   "name": "python3"
  },
  "language_info": {
   "codemirror_mode": {
    "name": "ipython",
    "version": 3
   },
   "file_extension": ".py",
   "mimetype": "text/x-python",
   "name": "python",
   "nbconvert_exporter": "python",
   "pygments_lexer": "ipython3",
   "version": "3.6.9"
  }
 },
 "nbformat": 4,
 "nbformat_minor": 4
}
