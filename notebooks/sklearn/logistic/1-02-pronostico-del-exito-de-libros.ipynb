{
 "cells": [
  {
   "cell_type": "markdown",
   "metadata": {},
   "source": [
    "Pronóstico de la popularidad de libros\n",
    "===\n",
    "\n",
    "* *30 min* | Ultima modificación: Junio 22, 2019"
   ]
  },
  {
   "cell_type": "markdown",
   "metadata": {},
   "source": [
    "## Descripción del problema"
   ]
  },
  {
   "cell_type": "markdown",
   "metadata": {},
   "source": [
    "La editorial O'Really desea construir una herramienta analítica que le permita a un editor estimar la popularidad relativa de un nuevo libro antes de su lanzamiento, con el fin de poder priorizar los títulos a publicar e inclusive rechazar posibles proyectos editoriales. "
   ]
  },
  {
   "cell_type": "markdown",
   "metadata": {},
   "source": [
    "Para resolver este problema se tiene una base de datos con los 100 libros más vendidos por O'Really durante el año 2011. La base contiene el título del libro, su descripción y su ranking en pupularidad. Para este caso se hipotetiza que la aparición de ciertas palabras en la descripción del libro permitirá determinar su popularidad."
   ]
  },
  {
   "cell_type": "markdown",
   "metadata": {},
   "source": [
    "## Preparación"
   ]
  },
  {
   "cell_type": "code",
   "execution_count": 1,
   "metadata": {},
   "outputs": [],
   "source": [
    "import pandas as pd\n",
    "import numpy as np\n",
    "import seaborn as sns\n",
    "import matplotlib.pyplot as plt\n",
    "%matplotlib inline\n",
    "%load_ext rpy2.ipython"
   ]
  },
  {
   "cell_type": "markdown",
   "metadata": {},
   "source": [
    "## Lectura de datos"
   ]
  },
  {
   "cell_type": "code",
   "execution_count": 2,
   "metadata": {},
   "outputs": [
    {
     "name": "stdout",
     "output_type": "stream",
     "text": [
      "<class 'pandas.core.frame.DataFrame'>\n",
      "RangeIndex: 100 entries, 0 to 99\n",
      "Data columns (total 5 columns):\n",
      "IP_Family     100 non-null object\n",
      "BOOK title    100 non-null object\n",
      "BOOK ISBN     100 non-null int64\n",
      "Rank          100 non-null int64\n",
      "Long Desc.    100 non-null object\n",
      "dtypes: int64(2), object(3)\n",
      "memory usage: 4.0+ KB\n"
     ]
    }
   ],
   "source": [
    "df = pd.read_csv(\n",
    "    \"https://raw.githubusercontent.com/jdvelasq/datalabs/master/datasets/oreilly.csv\",\n",
    "    sep = ',',           # separador de campos\n",
    "    thousands = None,    # separador de miles para números\n",
    "    decimal = '.',       # separador de los decimales para números\n",
    "    encoding='latin-1')  # idioma\n",
    "\n",
    "df.info()"
   ]
  },
  {
   "cell_type": "markdown",
   "metadata": {},
   "source": [
    "## Construcción de la matriz de términos del documento"
   ]
  },
  {
   "cell_type": "code",
   "execution_count": 3,
   "metadata": {},
   "outputs": [
    {
     "data": {
      "text/plain": [
       "(100, 636)"
      ]
     },
     "execution_count": 3,
     "metadata": {},
     "output_type": "execute_result"
    }
   ],
   "source": [
    "##\n",
    "## Matriz de términos del documento\n",
    "##\n",
    "from sklearn.feature_extraction.text import CountVectorizer\n",
    "\n",
    "count_vect = CountVectorizer(\n",
    "    analyzer='word',        # a nivel de palabra\n",
    "    lowercase=True,         # convierte a minúsculas\n",
    "    stop_words='english',   # stop_words en inglés\n",
    "    min_df=5)               # ignora palabras con baja freq\n",
    "\n",
    "##\n",
    "## Aplica la función al texto\n",
    "##\n",
    "df_dtm = count_vect.fit_transform(df['Long Desc.'])\n",
    "\n",
    "##\n",
    "## Las filas contienen los mensajes\n",
    "## y las clomunas los términos\n",
    "##\n",
    "df_dtm.shape"
   ]
  },
  {
   "cell_type": "code",
   "execution_count": 4,
   "metadata": {},
   "outputs": [
    {
     "data": {
      "text/plain": [
       "array([[0, 0, 0, ..., 0, 0, 0],\n",
       "       [0, 0, 0, ..., 0, 0, 0],\n",
       "       [0, 0, 0, ..., 0, 0, 0],\n",
       "       ...,\n",
       "       [0, 0, 1, ..., 2, 0, 1],\n",
       "       [0, 0, 0, ..., 1, 0, 0],\n",
       "       [0, 0, 0, ..., 0, 0, 0]])"
      ]
     },
     "execution_count": 4,
     "metadata": {},
     "output_type": "execute_result"
    }
   ],
   "source": [
    "X = df_dtm.toarray()\n",
    "X"
   ]
  },
  {
   "cell_type": "markdown",
   "metadata": {},
   "source": [
    "## Modelo de regresión logística"
   ]
  },
  {
   "cell_type": "code",
   "execution_count": 19,
   "metadata": {},
   "outputs": [],
   "source": [
    "y = np.array([1] * 50 + [0]*50)"
   ]
  },
  {
   "cell_type": "code",
   "execution_count": 20,
   "metadata": {},
   "outputs": [],
   "source": [
    "from sklearn.linear_model import LogisticRegression\n",
    "\n",
    "clf = LogisticRegression(\n",
    "    solver='lbfgs', \n",
    "    multi_class='auto',\n",
    "    max_iter = 1000)\n",
    "\n",
    "clf.fit(X, y)\n",
    "y_pred = clf.predict(X)"
   ]
  },
  {
   "cell_type": "code",
   "execution_count": 22,
   "metadata": {},
   "outputs": [
    {
     "name": "stdout",
     "output_type": "stream",
     "text": [
      "\n",
      " \n",
      "   Cell Contents\n",
      "|-------------------------|\n",
      "|                       N |\n",
      "|           N / Row Total |\n",
      "|           N / Col Total |\n",
      "|         N / Table Total |\n",
      "|-------------------------|\n",
      "\n",
      " \n",
      "Total Observations in Table:  100 \n",
      "\n",
      " \n",
      "             | y_pred \n",
      "           y |         0 |         1 | Row Total | \n",
      "-------------|-----------|-----------|-----------|\n",
      "           0 |        50 |         0 |        50 | \n",
      "             |     1.000 |     0.000 |     0.500 | \n",
      "             |     1.000 |     0.000 |           | \n",
      "             |     0.500 |     0.000 |           | \n",
      "-------------|-----------|-----------|-----------|\n",
      "           1 |         0 |        50 |        50 | \n",
      "             |     0.000 |     1.000 |     0.500 | \n",
      "             |     0.000 |     1.000 |           | \n",
      "             |     0.000 |     0.500 |           | \n",
      "-------------|-----------|-----------|-----------|\n",
      "Column Total |        50 |        50 |       100 | \n",
      "             |     0.500 |     0.500 |           | \n",
      "-------------|-----------|-----------|-----------|\n",
      "\n",
      " \n"
     ]
    }
   ],
   "source": [
    "%%R -i y -i y_pred\n",
    "##\n",
    "## La función CrossTable del paquete gmodels\n",
    "## entrega información más detallada.\n",
    "## install.packages(\"gmodels\")\n",
    "##\n",
    "library(gmodels)\n",
    "CrossTable(\n",
    "    x = y, \n",
    "    y = y_pred,\n",
    "    prop.chisq=FALSE)"
   ]
  },
  {
   "cell_type": "markdown",
   "metadata": {},
   "source": [
    "## Apéndice --- Lenguaje R"
   ]
  },
  {
   "cell_type": "code",
   "execution_count": 25,
   "metadata": {},
   "outputs": [],
   "source": [
    "%%sh\n",
    "PACK=glmnet\n",
    "if /usr/bin/test ! -d /usr/local/lib/R/site-library/$PACK; \n",
    "then    \n",
    "    sudo Rscript -e 'install.packages(\"'$PACK'\")'\n",
    "fi"
   ]
  },
  {
   "cell_type": "code",
   "execution_count": 26,
   "metadata": {},
   "outputs": [
    {
     "name": "stdout",
     "output_type": "stream",
     "text": [
      "'data.frame':\t100 obs. of  5 variables:\n",
      " $ IP_Family : chr  \"9780596000271.IP\" \"9781565923928.IP\" \"9780596007126.IP\" \"9780596009205.IP\" ...\n",
      " $ BOOK.title: chr  \"Programming Perl, 3E\" \"Javascript: The Definitive Guide, 3E\" \"Head First Design Patterns\" \"Head First Java, 2E\" ...\n",
      " $ BOOK.ISBN : num  9.78e+12 9.78e+12 9.78e+12 9.78e+12 9.78e+12 ...\n",
      " $ Rank      : int  1 2 3 4 5 6 7 8 9 10 ...\n",
      " $ Long.Desc.: chr  \"Perl is a powerful programming language that  has grown in popularity since it first appeared in 1988. The firs\"| __truncated__ \"JavaScript is a powerful scripting language that can be embedded directly in HTML. It allows you to create dyna\"| __truncated__ \"You're not alone.<br />\\n<br />\\nAt any given moment, somewhere in the world someone struggles with the same so\"| __truncated__ \"Learning a complex new language is no easy task especially when it s an object-oriented computer programming la\"| __truncated__ ...\n"
     ]
    }
   ],
   "source": [
    "%%R \n",
    "## Carga y verificación de los datos\n",
    "ranks <- read.csv('oreilly.csv', stringsAsFactors = FALSE)\n",
    "str(ranks)"
   ]
  },
  {
   "cell_type": "markdown",
   "metadata": {},
   "source": [
    "### Entrenamiento del modelo"
   ]
  },
  {
   "cell_type": "code",
   "execution_count": 27,
   "metadata": {
    "collapsed": true,
    "scrolled": true
   },
   "outputs": [],
   "source": [
    "%%R\n",
    "## carga la libreria para text mining\n",
    "library(tm)\n",
    "\n",
    "## La clasificación se basa únicamente en la descripción\n",
    "## y no se tiene en cuenta el título.\n",
    "documents <- data.frame(doc_id = ranks$BOOK.ISBN, text = ranks$Long.Desc.) \n",
    "row.names(documents) <- 1:nrow(documents)\n",
    "\n",
    "## Crea el corpus y limpia el documento.\n",
    "corpus <- Corpus(DataframeSource(documents))\n",
    "corpus <- tm_map(corpus, tolower)\n",
    "corpus <- tm_map(corpus, stripWhitespace)\n",
    "corpus <- tm_map(corpus, removeWords, stopwords('english'))\n",
    "\n",
    "## Crea la matriz de términos\n",
    "dtm <- DocumentTermMatrix(corpus)\n",
    "\n",
    "## Obtiene los regresores y la variable independiente.\n",
    "## La matriz de términos del documento se convierte en\n",
    "## una matriz numérica para poder realizar la regresión.\n",
    "x <- as.matrix(dtm) \n",
    "y <- rev(1:100)  # 100, 99, ..."
   ]
  },
  {
   "cell_type": "markdown",
   "metadata": {},
   "source": [
    "Este problema será resuelto como un problema de clasificación. Para ello, se pronosticará si un libro está en el top 50 o no. Nótese que también se podrían formularse otras agrupaciones como el top 10, top 20, etc."
   ]
  },
  {
   "cell_type": "code",
   "execution_count": 28,
   "metadata": {
    "collapsed": true
   },
   "outputs": [
    {
     "name": "stderr",
     "output_type": "stream",
     "text": [
      "R[write to console]: Loading required package: Matrix\n",
      "\n",
      "R[write to console]: Loading required package: foreach\n",
      "\n",
      "R[write to console]: Loaded glmnet 2.0-18\n",
      "\n",
      "\n"
     ]
    }
   ],
   "source": [
    "%%R\n",
    "## Semilla del generador de aleatorios.\n",
    "set.seed(1)      \n",
    "\n",
    "## Regresión con regularización.\n",
    "library(glmnet)\n",
    "\n",
    "## La variable y indica si el libro pertence (1) o no pertenece (2)\n",
    "## al top 50 de los libros. A continuación se genera un vector con\n",
    "## 50 unos y 50 ceros.\n",
    "y <- rep(c(1, 0), each = 50)\n",
    "\n",
    "## Crea un data.frame vacío para almacenar los resultados\n",
    "## de la regresión para diferentes parámetros.\n",
    "performance <- data.frame()\n",
    "\n",
    "## Itera sobre diferentes valores de lambda.\n",
    "for (i in 1:50) \n",
    "{\n",
    "    ## Divide aleatoriamente el conjunto de datos\n",
    "    ## en una muestra para el entrenamiento y otra\n",
    "    ## para prueba\n",
    "    indices <- sample(1:100, 80) \n",
    "    training.x <- x[indices, ] \n",
    "    training.y <- y[indices]\n",
    "    \n",
    "    test.x <- x[-indices, ] \n",
    "    test.y <- y[-indices]\n",
    "    \n",
    "    ## Realiza la regresión logística para diferentes \n",
    "    ## valores de lambda.   \n",
    "    for (lambda in c(0.0001, 0.001, 0.0025, 0.005, 0.01, 0.025, 0.5, 1)) \n",
    "    {\n",
    "        ## Realiza la regresión.\n",
    "        glm.fit <- glmnet(training.x, training.y, family = 'binomial')\n",
    "        \n",
    "        ## Pronóstico para la muestra de entrenamiento\n",
    "        predicted.y <- predict(glm.fit, test.x, s = lambda) \n",
    "        \n",
    "        ## Convierte el valor pronósticado en 0=no pertenece, 1=si pertenece.\n",
    "        predicted.y = ifelse(predicted.y > 0, 1, 0)\n",
    "        \n",
    "        ## Métrica de error\n",
    "        error.rate <- mean(predicted.y != test.y)\n",
    "        \n",
    "        ## Almacena el resultado\n",
    "        performance <- rbind(performance, data.frame(Lambda = lambda, Iteration = i, ErrorRate = error.rate))\n",
    "    } \n",
    "}"
   ]
  },
  {
   "cell_type": "code",
   "execution_count": 29,
   "metadata": {},
   "outputs": [
    {
     "data": {
      "image/png": "[encoded data removed]"
     },
     "metadata": {},
     "output_type": "display_data"
    }
   ],
   "source": [
    "%%R\n",
    "##\n",
    "## El resultado de la siguiente gráfica muestra que se obtendría un\n",
    "## mejor modelo para valores pequeños de lambda\n",
    "##\n",
    "library(ggplot2)\n",
    "ggplot(performance, aes(x = Lambda, y = ErrorRate)) + stat_summary(fun.data = 'mean_cl_boot', geom = 'errorbar') + stat_summary(fun.data = 'mean_cl_boot', geom = 'point') + scale_x_log10()"
   ]
  }
 ],
 "metadata": {
  "kernel_info": {
   "name": "python3"
  },
  "kernelspec": {
   "display_name": "Python 3",
   "language": "python",
   "name": "python3"
  },
  "language_info": {
   "codemirror_mode": {
    "name": "ipython",
    "version": 3
   },
   "file_extension": ".py",
   "mimetype": "text/x-python",
   "name": "python",
   "nbconvert_exporter": "python",
   "pygments_lexer": "ipython3",
   "version": "3.6.8"
  },
  "nteract": {
   "version": "0.7.1"
  },
  "varInspector": {
   "cols": {
    "lenName": 16,
    "lenType": 16,
    "lenVar": 40
   },
   "kernels_config": {
    "python": {
     "delete_cmd_postfix": "",
     "delete_cmd_prefix": "del ",
     "library": "var_list.py",
     "varRefreshCmd": "print(var_dic_list())"
    },
    "r": {
     "delete_cmd_postfix": ") ",
     "delete_cmd_prefix": "rm(",
     "library": "var_list.r",
     "varRefreshCmd": "cat(var_dic_list()) "
    }
   },
   "types_to_exclude": [
    "module",
    "function",
    "builtin_function_or_method",
    "instance",
    "_Feature"
   ],
   "window_display": false
  }
 },
 "nbformat": 4,
 "nbformat_minor": 2
}
