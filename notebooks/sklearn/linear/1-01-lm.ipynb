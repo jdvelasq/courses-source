{
 "cells": [
  {
   "cell_type": "markdown",
   "metadata": {},
   "source": [
    "Regresión Lineal\n",
    "===\n",
    "\n",
    "* *30 min* | Ultima modificación: Julio 11, 2019"
   ]
  },
  {
   "cell_type": "markdown",
   "metadata": {},
   "source": [
    "## Descripción del problema"
   ]
  },
  {
   "cell_type": "markdown",
   "metadata": {},
   "source": [
    "Uno de los problemas fundamentales en *customer analytics* es el pronóstico del consumo del cliente a partir de información histórica con el fin de tomar decisiones relacionada con políticas como planes de fidelización. "
   ]
  },
  {
   "cell_type": "markdown",
   "metadata": {},
   "source": [
    "Se desea construir un modelo que permita pronósticar el valor de $y$ a partir del valor de $x$. Se tiene un conjunto de 30 observaciones para construir el modelo de pronóstico."
   ]
  },
  {
   "cell_type": "code",
   "execution_count": 1,
   "metadata": {},
   "outputs": [],
   "source": [
    "##\n",
    "## Preparación\n",
    "##\n",
    "import pandas as pd\n",
    "import numpy as np\n",
    "import seaborn as sns\n",
    "import matplotlib.pyplot as plt\n",
    "%matplotlib inline"
   ]
  },
  {
   "cell_type": "code",
   "execution_count": 2,
   "metadata": {},
   "outputs": [
    {
     "data": {
      "image/png": "[encoded data removed]",
      "text/plain": [
       "<Figure size 432x288 with 1 Axes>"
      ]
     },
     "metadata": {
      "needs_background": "light"
     },
     "output_type": "display_data"
    }
   ],
   "source": [
    "from sklearn.datasets import make_regression\n",
    "\n",
    "X, d = make_regression(\n",
    "    n_samples=100,         #\n",
    "    n_features=1,          #\n",
    "    n_informative=1,       #\n",
    "    bias=0.0,              # intercepto\n",
    "    effective_rank=None,   # numero de vectores singulares para explicar los datos\n",
    "    tail_strength=0.9,     # ? importancia relativa de las colas\n",
    "    noise=12.0,            #\n",
    "    shuffle=False,         # ?\n",
    "    coef=False,            # ?coeficientes de la regresion \n",
    "    random_state=12136)    #\n",
    "\n",
    "plt.scatter(X, d);"
   ]
  },
  {
   "cell_type": "markdown",
   "metadata": {},
   "source": [
    "## Modelo de regresión lineal"
   ]
  },
  {
   "cell_type": "markdown",
   "metadata": {},
   "source": [
    "En un modelo de regresión, la variable dependiente $y$ es una función lineal de las variables independientes $x_i$, tal que:\n",
    "\n",
    "\n",
    "$$y = w_0 + \\sum_{i=1}^N w_i * x_i + e$$\n",
    "\n",
    "\n",
    "Donde: \n",
    "\n",
    "\n",
    "* $y$ es la variable explicada.\n",
    "\n",
    "\n",
    "* $x_i$ es la $i$-ésima variable explicativa del comportamiento de $y$.\n",
    "\n",
    "\n",
    "* $w_0$ es el intercepto del modelo.\n",
    "\n",
    "\n",
    "* $w_i$ es el coeficiente de $x_i$.\n",
    "\n",
    "\n",
    "* $e$ es el error del modelo. Se parte del supuesto de que siguiendo una distribución normal con media cero y varianza $\\sigma^2$ constante y desconocida."
   ]
  },
  {
   "cell_type": "markdown",
   "metadata": {},
   "source": [
    "### Estimación"
   ]
  },
  {
   "cell_type": "markdown",
   "metadata": {},
   "source": [
    "En la siguiente figura se presenta de forma general la regresión de $y_p = e + w_0 + w_1 * x_p$ para $p$ = 1, ..., 5. Los puntos negros representan los datos (las observaciones), y la línea negra representa la ecuación de regresión. Las líneas rojas representan el error $e$ entre el valor observado de $y_p$ y el pronósticado por el modelo para cada valor  $x_p$. "
   ]
  },
  {
   "cell_type": "markdown",
   "metadata": {},
   "source": [
    "![assets/regxy.jpg](assets/regxy.jpg) "
   ]
  },
  {
   "cell_type": "markdown",
   "metadata": {},
   "source": [
    "La estimación de los parámetros $w_i$ del modelo se realiza por mínimos cuadrados ordinarios (OLS), o lo que es lo mismo, minimizando la suma de los errores al cuadrado (SSE)\n",
    "\n",
    "$$\\text{SSE} = \\sum_{p=1}^P e_p^2$$\n",
    "\n",
    "Esto es, se deben encontrar los valores de $w_i$ que minimicen:\n",
    "\n",
    "$$\\text{SSE} =\\sum_{p=1}^P \\left( y_p - w_0 - \\sum_i^N w_i x_{p,i} \\right)^2$$\n",
    "\n",
    "para los $P$ patrones de ejemplo."
   ]
  },
  {
   "cell_type": "markdown",
   "metadata": {},
   "source": [
    "La estimación de los parámetros del modelo minimizando el SSE supone que los errores siguen una distribución normal con media cero y varianza finita y constante. "
   ]
  },
  {
   "cell_type": "markdown",
   "metadata": {},
   "source": [
    "**Actividad.---** Estime los parámetros del modelo de regresión usando el Solver de Microsoft Excel."
   ]
  },
  {
   "cell_type": "markdown",
   "metadata": {},
   "source": [
    "A continuación se realiza la estimación del modelo usando Python"
   ]
  },
  {
   "cell_type": "code",
   "execution_count": 3,
   "metadata": {},
   "outputs": [
    {
     "name": "stdout",
     "output_type": "stream",
     "text": [
      "Coeficientes:  [59.27425921]\n",
      "Intercepto:  -0.3900321834949718\n"
     ]
    }
   ],
   "source": [
    "##\n",
    "## Se usa la función LinearRegresion() para \n",
    "## estimar el modelo de regresión lineal.\n",
    "##\n",
    "from sklearn.linear_model import LinearRegression\n",
    "\n",
    "## Crea el modelo\n",
    "linearRegression = LinearRegression(\n",
    "    fit_intercept=True,               # ?intercepto (w0)\n",
    "    normalize=False,                  # solo para fit_intercept == False\n",
    "    copy_X=True                       # copia X o lo sobreescribe\n",
    ")\n",
    "\n",
    "## Calibra el modelo\n",
    "linearRegression.fit(X, d)\n",
    "\n",
    "## Imprime los coeficientes:\n",
    "print('Coeficientes: ', linearRegression.coef_)\n",
    "\n",
    "## Imprime el intercepto:\n",
    "print('Intercepto: ', linearRegression.intercept_)"
   ]
  },
  {
   "cell_type": "markdown",
   "metadata": {},
   "source": [
    "### Pronóstico"
   ]
  },
  {
   "cell_type": "code",
   "execution_count": 4,
   "metadata": {},
   "outputs": [
    {
     "data": {
      "text/plain": [
       "0    -4.864184\n",
       "1    14.699995\n",
       "2   -99.846584\n",
       "3     1.349368\n",
       "4   -75.084778\n",
       "Name: y_pred, dtype: float64"
      ]
     },
     "execution_count": 4,
     "metadata": {},
     "output_type": "execute_result"
    }
   ],
   "source": [
    "df = pd.DataFrame(X, columns = ['x'])\n",
    "df['d'] = d\n",
    "df['y_pred'] = linearRegression.predict(X)\n",
    "df.y_pred.head()"
   ]
  },
  {
   "cell_type": "code",
   "execution_count": 5,
   "metadata": {},
   "outputs": [
    {
     "data": {
      "image/png": "[encoded data removed]",
      "text/plain": [
       "<Figure size 432x288 with 1 Axes>"
      ]
     },
     "metadata": {
      "needs_background": "light"
     },
     "output_type": "display_data"
    }
   ],
   "source": [
    "##\n",
    "## Gráfico del pronóstico\n",
    "##\n",
    "df.plot.scatter('x', 'd', color='black');\n",
    "plt.plot(df[['x']].values, df.y_pred, color='red');"
   ]
  },
  {
   "cell_type": "markdown",
   "metadata": {},
   "source": [
    "### Efecto del ruído cuando hay pocos datos"
   ]
  },
  {
   "cell_type": "markdown",
   "metadata": {},
   "source": [
    "Cuando existen pocos datos, la estimación del modelo es altamente sensible a los datos usados para su ajuste. En la figura de abajo, se tiene los datos sin ruido (puntos rojos) y la predicción de varios modelos lineales que difieren en los datos de entrenamiento; para variar los datos, se tomaron los valores de $X$ de los puntos rojos y se adicionó ruido aleatorio. Una vez se estimó el nuevo modelo se procedio a graficar su predicción (líneas grises). Como se observa, pequeñas variaciones en $X$ causan cambios muy importantes en el modelo estimado y consecuentemente cambios no despeciables en los pronósticos realizados."
   ]
  },
  {
   "cell_type": "markdown",
   "metadata": {},
   "source": [
    "![assets/lm-1.jpg](assets/lm-1.jpg)"
   ]
  },
  {
   "cell_type": "markdown",
   "metadata": {},
   "source": [
    "### Efecto de outliers"
   ]
  },
  {
   "cell_type": "markdown",
   "metadata": {},
   "source": [
    "Uno de los principales problemas de la regresión lineal es el efecto de los outliers. En la figura de abajo se presenta la recta de regresión lineal estimada para una muestra de diez puntos. En ella se observa que la recta de regresión sigue la tendencia de los puntos."
   ]
  },
  {
   "cell_type": "markdown",
   "metadata": {},
   "source": [
    "![assets/lm-2.jpg](assets/lm-2.jpg)"
   ]
  },
  {
   "cell_type": "markdown",
   "metadata": {},
   "source": [
    "En la siguiente figura se presenta el mismo caso anterior, pero se adicionó un punto en las coordenadas (0, 1), que corresponde a un outlier. En la figura que sigue se observa como la recta de regresión gira hacia el punto."
   ]
  },
  {
   "cell_type": "markdown",
   "metadata": {},
   "source": [
    "![assets/lm-3.jpg](assets/lm-3.jpg)"
   ]
  },
  {
   "cell_type": "markdown",
   "metadata": {},
   "source": [
    "Esto se debe a que en la estimación de los parámetros del modelo de regresión lineal se minimiza la suma de errores al cuadrado:\n",
    "\n",
    "$$\\text{SSE} =\\sum_{i=1}^N (y_i - w_0 - w_1 x_i)^2$$\n",
    "\n",
    "la cual se ve influenciada por valores del error muy grandes, como en el caso de los outliers."
   ]
  },
  {
   "cell_type": "markdown",
   "metadata": {},
   "source": [
    "Para resolver este problema, los parámetros del modelo pueden ser estimados minimizando otras medidas de error, como por ejemplo, la desviación media absoluta:\n",
    "\n",
    "$$\\text{MAD} = \\frac{1}{N} \\sum_{i=1}^N |y_i - w_0 - w_1 x_i|$$"
   ]
  },
  {
   "cell_type": "markdown",
   "metadata": {},
   "source": [
    "**Actividad.---** Estime nuevamente el modelo minimizando la desviación media absoluta."
   ]
  }
 ],
 "metadata": {
  "kernel_info": {
   "name": "python3"
  },
  "kernelspec": {
   "display_name": "Python 3",
   "language": "python",
   "name": "python3"
  },
  "language_info": {
   "codemirror_mode": {
    "name": "ipython",
    "version": 3
   },
   "file_extension": ".py",
   "mimetype": "text/x-python",
   "name": "python",
   "nbconvert_exporter": "python",
   "pygments_lexer": "ipython3",
   "version": "3.6.8"
  },
  "nteract": {
   "version": "0.7.1"
  },
  "varInspector": {
   "cols": {
    "lenName": 16,
    "lenType": 16,
    "lenVar": 40
   },
   "kernels_config": {
    "python": {
     "delete_cmd_postfix": "",
     "delete_cmd_prefix": "del ",
     "library": "var_list.py",
     "varRefreshCmd": "print(var_dic_list())"
    },
    "r": {
     "delete_cmd_postfix": ") ",
     "delete_cmd_prefix": "rm(",
     "library": "var_list.r",
     "varRefreshCmd": "cat(var_dic_list()) "
    }
   },
   "types_to_exclude": [
    "module",
    "function",
    "builtin_function_or_method",
    "instance",
    "_Feature"
   ],
   "window_display": false
  }
 },
 "nbformat": 4,
 "nbformat_minor": 2
}
