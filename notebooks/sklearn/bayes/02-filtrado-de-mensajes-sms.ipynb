{
 "cells": [
  {
   "cell_type": "markdown",
   "metadata": {},
   "source": [
    "Filtrado de spam en mensajes de texto (SMS)\n",
    "===\n",
    "\n",
    "* *45 min* | Última modificación: Junio 22, 2019"
   ]
  },
  {
   "cell_type": "markdown",
   "metadata": {},
   "source": [
    "**Bibliografía.** Machine Learning with R. Brett Lantz, Packt Publishing, Second Edition, 2015."
   ]
  },
  {
   "cell_type": "markdown",
   "metadata": {},
   "source": [
    "Los clasificadores Bayesianos ingenuos son herramientas de gran utilidad para la construcción de sistemas de clasificación, como ya se discutio en los tutoriales anteriores. En este tutorial se utiliza un clasificador Bayesiano ingenuo para determinar si un mensaje SMS es válido o es spam."
   ]
  },
  {
   "cell_type": "markdown",
   "metadata": {},
   "source": [
    "## Definición del problema"
   ]
  },
  {
   "cell_type": "markdown",
   "metadata": {},
   "source": [
    "La recepción de publicidad no deseada a traves mensajes de texto usando SMS (Short Message Service) es un problema que afecta a muchos usuarios de teléfonos móviles. El problema radica en que los usuarios deben pagar por los mesajes recibidos, y por este motivo resulta muy importante que las compañías prestadoras del servicio puedan filtrar mensajes indeseados antes de enviarlos a su destinatario final. Los mensajes tienen una longitud máxima de 160 caracteres, por lo que el texto resulta poco para realizar la clasificación, en comparación con textos más largos (como los emails). Adicionalmente, los errores de digitación dificultan el proceso de detección automática.   "
   ]
  },
  {
   "cell_type": "markdown",
   "metadata": {},
   "source": [
    "La muestra contiene 5574 mensajes en inglés, no codificados y clasificados como legítimos (ham) o spam (http://www.dt.fee.unicamp.br/~tiago/smsspamcollection/). El problema en términos de los datos consiste en clasificar si un mensaje SMS es legítico o spam, a partir del análisis de las palabras que contiente, partiendo del supuesto de que ciertas palabras que son más frecuentes dependiendo del tipo de mensaje. Esto implica que en la fase de preparación de los datos se deben extraer las palabras que contiene cada mensaje para poder realizar el análsis."
   ]
  },
  {
   "cell_type": "markdown",
   "metadata": {},
   "source": [
    "## Preparación"
   ]
  },
  {
   "cell_type": "code",
   "execution_count": 1,
   "metadata": {},
   "outputs": [],
   "source": [
    "import pandas as pd\n",
    "import numpy as np\n",
    "import seaborn as sns\n",
    "import matplotlib.pyplot as plt\n",
    "%matplotlib inline\n",
    "%load_ext rpy2.ipython"
   ]
  },
  {
   "cell_type": "markdown",
   "metadata": {},
   "source": [
    "## Carga de datos"
   ]
  },
  {
   "cell_type": "code",
   "execution_count": 2,
   "metadata": {},
   "outputs": [
    {
     "data": {
      "text/html": [
       "<div>\n",
       "<style scoped>\n",
       "    .dataframe tbody tr th:only-of-type {\n",
       "        vertical-align: middle;\n",
       "    }\n",
       "\n",
       "    .dataframe tbody tr th {\n",
       "        vertical-align: top;\n",
       "    }\n",
       "\n",
       "    .dataframe thead th {\n",
       "        text-align: right;\n",
       "    }\n",
       "</style>\n",
       "<table border=\"1\" class=\"dataframe\">\n",
       "  <thead>\n",
       "    <tr style=\"text-align: right;\">\n",
       "      <th></th>\n",
       "      <th>type</th>\n",
       "      <th>text</th>\n",
       "    </tr>\n",
       "  </thead>\n",
       "  <tbody>\n",
       "    <tr>\n",
       "      <th>0</th>\n",
       "      <td>ham</td>\n",
       "      <td>Go until jurong point, crazy.. Available only ...</td>\n",
       "    </tr>\n",
       "    <tr>\n",
       "      <th>1</th>\n",
       "      <td>ham</td>\n",
       "      <td>Ok lar... Joking wif u oni...</td>\n",
       "    </tr>\n",
       "    <tr>\n",
       "      <th>2</th>\n",
       "      <td>spam</td>\n",
       "      <td>Free entry in 2 a wkly comp to win FA Cup fina...</td>\n",
       "    </tr>\n",
       "    <tr>\n",
       "      <th>3</th>\n",
       "      <td>ham</td>\n",
       "      <td>U dun say so early hor... U c already then say...</td>\n",
       "    </tr>\n",
       "    <tr>\n",
       "      <th>4</th>\n",
       "      <td>ham</td>\n",
       "      <td>Nah I don't think he goes to usf, he lives aro...</td>\n",
       "    </tr>\n",
       "  </tbody>\n",
       "</table>\n",
       "</div>"
      ],
      "text/plain": [
       "   type                                               text\n",
       "0   ham  Go until jurong point, crazy.. Available only ...\n",
       "1   ham                      Ok lar... Joking wif u oni...\n",
       "2  spam  Free entry in 2 a wkly comp to win FA Cup fina...\n",
       "3   ham  U dun say so early hor... U c already then say...\n",
       "4   ham  Nah I don't think he goes to usf, he lives aro..."
      ]
     },
     "execution_count": 2,
     "metadata": {},
     "output_type": "execute_result"
    }
   ],
   "source": [
    "df = pd.read_csv(\n",
    "    \"https://raw.githubusercontent.com/jdvelasq/datalabs/master/datasets/sms-spam.csv\",\n",
    "    sep = ',',           \n",
    "    thousands = None,    \n",
    "    decimal = '.',       \n",
    "    encoding='latin-1') \n",
    "\n",
    "df.head()"
   ]
  },
  {
   "cell_type": "code",
   "execution_count": 3,
   "metadata": {},
   "outputs": [
    {
     "data": {
      "text/html": [
       "<div>\n",
       "<style scoped>\n",
       "    .dataframe tbody tr th:only-of-type {\n",
       "        vertical-align: middle;\n",
       "    }\n",
       "\n",
       "    .dataframe tbody tr th {\n",
       "        vertical-align: top;\n",
       "    }\n",
       "\n",
       "    .dataframe thead th {\n",
       "        text-align: right;\n",
       "    }\n",
       "</style>\n",
       "<table border=\"1\" class=\"dataframe\">\n",
       "  <thead>\n",
       "    <tr style=\"text-align: right;\">\n",
       "      <th></th>\n",
       "      <th>type</th>\n",
       "      <th>text</th>\n",
       "    </tr>\n",
       "  </thead>\n",
       "  <tbody>\n",
       "    <tr>\n",
       "      <th>count</th>\n",
       "      <td>5574</td>\n",
       "      <td>5574</td>\n",
       "    </tr>\n",
       "    <tr>\n",
       "      <th>unique</th>\n",
       "      <td>2</td>\n",
       "      <td>5160</td>\n",
       "    </tr>\n",
       "    <tr>\n",
       "      <th>top</th>\n",
       "      <td>ham</td>\n",
       "      <td>Sorry, I'll call later</td>\n",
       "    </tr>\n",
       "    <tr>\n",
       "      <th>freq</th>\n",
       "      <td>4827</td>\n",
       "      <td>30</td>\n",
       "    </tr>\n",
       "  </tbody>\n",
       "</table>\n",
       "</div>"
      ],
      "text/plain": [
       "        type                    text\n",
       "count   5574                    5574\n",
       "unique     2                    5160\n",
       "top      ham  Sorry, I'll call later\n",
       "freq    4827                      30"
      ]
     },
     "execution_count": 3,
     "metadata": {},
     "output_type": "execute_result"
    }
   ],
   "source": [
    "##\n",
    "## Verifica la lectura de los datos\n",
    "##\n",
    "df.describe()"
   ]
  },
  {
   "cell_type": "markdown",
   "metadata": {},
   "source": [
    "## Conteo de cantidad de mensajes por tipo"
   ]
  },
  {
   "cell_type": "code",
   "execution_count": 4,
   "metadata": {},
   "outputs": [
    {
     "data": {
      "text/plain": [
       "ham     4827\n",
       "spam     747\n",
       "Name: type, dtype: int64"
      ]
     },
     "execution_count": 4,
     "metadata": {},
     "output_type": "execute_result"
    }
   ],
   "source": [
    "##\n",
    "## Se obtiene la cantidad de casos para \n",
    "## cada tipo de mensaje.\n",
    "## \n",
    "df.type.value_counts()"
   ]
  },
  {
   "cell_type": "code",
   "execution_count": 5,
   "metadata": {},
   "outputs": [
    {
     "data": {
      "image/png": "[encoded data removed]",
      "text/plain": [
       "<Figure size 432x288 with 1 Axes>"
      ]
     },
     "metadata": {
      "needs_background": "light"
     },
     "output_type": "display_data"
    }
   ],
   "source": [
    "df.type.value_counts().plot.bar();"
   ]
  },
  {
   "cell_type": "code",
   "execution_count": 6,
   "metadata": {},
   "outputs": [
    {
     "data": {
      "text/plain": [
       "ham     86.6\n",
       "spam    13.4\n",
       "Name: type, dtype: float64"
      ]
     },
     "execution_count": 6,
     "metadata": {},
     "output_type": "execute_result"
    }
   ],
   "source": [
    "##\n",
    "## Se convierte el conteo anterior en probabilidades.\n",
    "##\n",
    "round(100 * df.type.value_counts() / sum(df.type.value_counts()), 1)"
   ]
  },
  {
   "cell_type": "markdown",
   "metadata": {},
   "source": [
    "## Stemmer"
   ]
  },
  {
   "cell_type": "code",
   "execution_count": 7,
   "metadata": {},
   "outputs": [
    {
     "data": {
      "text/html": [
       "<div>\n",
       "<style scoped>\n",
       "    .dataframe tbody tr th:only-of-type {\n",
       "        vertical-align: middle;\n",
       "    }\n",
       "\n",
       "    .dataframe tbody tr th {\n",
       "        vertical-align: top;\n",
       "    }\n",
       "\n",
       "    .dataframe thead th {\n",
       "        text-align: right;\n",
       "    }\n",
       "</style>\n",
       "<table border=\"1\" class=\"dataframe\">\n",
       "  <thead>\n",
       "    <tr style=\"text-align: right;\">\n",
       "      <th></th>\n",
       "      <th>type</th>\n",
       "      <th>text</th>\n",
       "      <th>stemmed</th>\n",
       "    </tr>\n",
       "  </thead>\n",
       "  <tbody>\n",
       "    <tr>\n",
       "      <th>0</th>\n",
       "      <td>ham</td>\n",
       "      <td>Go until jurong point, crazy.. Available only ...</td>\n",
       "      <td>Go until jurong point, crazy.. avail onli in b...</td>\n",
       "    </tr>\n",
       "    <tr>\n",
       "      <th>1</th>\n",
       "      <td>ham</td>\n",
       "      <td>Ok lar... Joking wif u oni...</td>\n",
       "      <td>Ok lar... joke wif u oni...</td>\n",
       "    </tr>\n",
       "    <tr>\n",
       "      <th>2</th>\n",
       "      <td>spam</td>\n",
       "      <td>Free entry in 2 a wkly comp to win FA Cup fina...</td>\n",
       "      <td>free entri in 2 a wkli comp to win FA cup fina...</td>\n",
       "    </tr>\n",
       "    <tr>\n",
       "      <th>3</th>\n",
       "      <td>ham</td>\n",
       "      <td>U dun say so early hor... U c already then say...</td>\n",
       "      <td>U dun say so earli hor... U c alreadi then say...</td>\n",
       "    </tr>\n",
       "    <tr>\n",
       "      <th>4</th>\n",
       "      <td>ham</td>\n",
       "      <td>Nah I don't think he goes to usf, he lives aro...</td>\n",
       "      <td>nah I don't think he goe to usf, he live aroun...</td>\n",
       "    </tr>\n",
       "    <tr>\n",
       "      <th>5</th>\n",
       "      <td>spam</td>\n",
       "      <td>FreeMsg Hey there darling it's been 3 week's n...</td>\n",
       "      <td>freemsg hey there darl it' been 3 week' now an...</td>\n",
       "    </tr>\n",
       "    <tr>\n",
       "      <th>6</th>\n",
       "      <td>ham</td>\n",
       "      <td>Even my brother is not like to speak with me. ...</td>\n",
       "      <td>even my brother is not like to speak with me. ...</td>\n",
       "    </tr>\n",
       "    <tr>\n",
       "      <th>7</th>\n",
       "      <td>ham</td>\n",
       "      <td>As per your request 'Melle Melle (Oru Minnamin...</td>\n",
       "      <td>As per your request 'mell mell (oru minnaminun...</td>\n",
       "    </tr>\n",
       "    <tr>\n",
       "      <th>8</th>\n",
       "      <td>spam</td>\n",
       "      <td>WINNER!! As a valued network customer you have...</td>\n",
       "      <td>winner!! As a valu network custom you have bee...</td>\n",
       "    </tr>\n",
       "    <tr>\n",
       "      <th>9</th>\n",
       "      <td>spam</td>\n",
       "      <td>Had your mobile 11 months or more? U R entitle...</td>\n",
       "      <td>had your mobil 11 month or more? U R entitl to...</td>\n",
       "    </tr>\n",
       "  </tbody>\n",
       "</table>\n",
       "</div>"
      ],
      "text/plain": [
       "   type                                               text  \\\n",
       "0   ham  Go until jurong point, crazy.. Available only ...   \n",
       "1   ham                      Ok lar... Joking wif u oni...   \n",
       "2  spam  Free entry in 2 a wkly comp to win FA Cup fina...   \n",
       "3   ham  U dun say so early hor... U c already then say...   \n",
       "4   ham  Nah I don't think he goes to usf, he lives aro...   \n",
       "5  spam  FreeMsg Hey there darling it's been 3 week's n...   \n",
       "6   ham  Even my brother is not like to speak with me. ...   \n",
       "7   ham  As per your request 'Melle Melle (Oru Minnamin...   \n",
       "8  spam  WINNER!! As a valued network customer you have...   \n",
       "9  spam  Had your mobile 11 months or more? U R entitle...   \n",
       "\n",
       "                                             stemmed  \n",
       "0  Go until jurong point, crazy.. avail onli in b...  \n",
       "1                        Ok lar... joke wif u oni...  \n",
       "2  free entri in 2 a wkli comp to win FA cup fina...  \n",
       "3  U dun say so earli hor... U c alreadi then say...  \n",
       "4  nah I don't think he goe to usf, he live aroun...  \n",
       "5  freemsg hey there darl it' been 3 week' now an...  \n",
       "6  even my brother is not like to speak with me. ...  \n",
       "7  As per your request 'mell mell (oru minnaminun...  \n",
       "8  winner!! As a valu network custom you have bee...  \n",
       "9  had your mobil 11 month or more? U R entitl to...  "
      ]
     },
     "execution_count": 7,
     "metadata": {},
     "output_type": "execute_result"
    }
   ],
   "source": [
    "from nltk.stem.porter import PorterStemmer\n",
    "stemmer = PorterStemmer()\n",
    "\n",
    "df['stemmed'] = df.text.apply(lambda x: ' '.join([stemmer.stem(w) for w in x.split() ]))\n",
    "\n",
    "df.head(10)"
   ]
  },
  {
   "cell_type": "markdown",
   "metadata": {},
   "source": [
    "## Matriz de Términos del Documento"
   ]
  },
  {
   "cell_type": "code",
   "execution_count": 8,
   "metadata": {},
   "outputs": [
    {
     "data": {
      "text/plain": [
       "(5574, 1540)"
      ]
     },
     "execution_count": 8,
     "metadata": {},
     "output_type": "execute_result"
    }
   ],
   "source": [
    "##\n",
    "## Matriz de términos del documento en Python\n",
    "##\n",
    "from sklearn.feature_extraction.text import CountVectorizer\n",
    "\n",
    "count_vect = CountVectorizer(\n",
    "    analyzer='word',        # a nivel de palabra\n",
    "    lowercase=True,         # convierte a minúsculas\n",
    "    stop_words='english',   # stop_words en inglés\n",
    "    binary=True,            # Los valores distintos de cero son fijados en 1\n",
    "    min_df=5                # ignora palabras con baja freq\n",
    ")\n",
    "\n",
    "\n",
    "##\n",
    "## Aplica la función al texto\n",
    "##\n",
    "dtm = count_vect.fit_transform(df.stemmed)\n",
    "\n",
    "##\n",
    "## Las filas contienen los mensajes\n",
    "## y las clomunas los términos\n",
    "##\n",
    "dtm.shape"
   ]
  },
  {
   "cell_type": "code",
   "execution_count": 9,
   "metadata": {
    "scrolled": true
   },
   "outputs": [
    {
     "data": {
      "text/plain": [
       "1540"
      ]
     },
     "execution_count": 9,
     "metadata": {},
     "output_type": "execute_result"
    }
   ],
   "source": [
    "##\n",
    "## Palabras aprendidas de los mensajes de texto\n",
    "##\n",
    "vocabulary = count_vect.get_feature_names()\n",
    "len(vocabulary)"
   ]
  },
  {
   "cell_type": "code",
   "execution_count": 10,
   "metadata": {},
   "outputs": [
    {
     "data": {
      "text/plain": [
       "['00',\n",
       " '000',\n",
       " '02',\n",
       " '03',\n",
       " '04',\n",
       " '06',\n",
       " '0800',\n",
       " '08000839402',\n",
       " '08000930705',\n",
       " '0870']"
      ]
     },
     "execution_count": 10,
     "metadata": {},
     "output_type": "execute_result"
    }
   ],
   "source": [
    "##\n",
    "## Primeras palabras del vocabulario\n",
    "##\n",
    "vocabulary[0:10]"
   ]
  },
  {
   "cell_type": "code",
   "execution_count": 11,
   "metadata": {
    "scrolled": false
   },
   "outputs": [
    {
     "name": "stdout",
     "output_type": "stream",
     "text": [
      "Org:  Go until jurong point, crazy.. Available only in bugis n great world la e buffet... Cine there got amore wat...\n",
      "Mod:  avail bugi cine got great la onli point wat world\n",
      "\n",
      "Org:  Ok lar... Joking wif u oni...\n",
      "Mod:  joke lar ok wif\n",
      "\n",
      "Org:  Free entry in 2 a wkly comp to win FA Cup final tkts 21st May 2005. Text FA to 87121 to receive entry question(std txt rate)T&C's apply 08452810075over18's\n",
      "Mod:  appli comp cup entri final free question rate receiv std text txt win wkli\n",
      "\n",
      "Org:  U dun say so early hor... U c already then say...\n",
      "Mod:  alreadi dun earli say\n",
      "\n",
      "Org:  Nah I don't think he goes to usf, he lives around here though\n",
      "Mod:  don goe live nah think usf\n",
      "\n",
      "Org:  FreeMsg Hey there darling it's been 3 week's now and no word back! I'd like some fun you up for it still? Tb ok! XxX std chgs to send, Â£1.50 to rcv\n",
      "Mod:  50 darl freemsg fun hey like ok send std week word xxx\n",
      "\n",
      "Org:  Even my brother is not like to speak with me. They treat me like aids patent.\n",
      "Mod:  brother like speak treat\n",
      "\n",
      "Org:  As per your request 'Melle Melle (Oru Minnaminunginte Nurungu Vettam)' has been set as your callertune for all Callers. Press *9 to copy your friends Callertune\n",
      "Mod:  callers callertun copi friend ha press request set\n",
      "\n",
      "Org:  WINNER!! As a valued network customer you have been selected to receivea Â£900 prize reward! To claim call 09061701461. Claim code KL341. Valid 12 hours only.\n",
      "Mod:  12 900 claim code custom hour network prize reward select valid valu winner\n",
      "\n",
      "Org:  Had your mobile 11 months or more? U R entitled to Update to the latest colour mobiles with camera for Free! Call The Mobile Update Co FREE on 08002986030\n",
      "Mod:  11 camera colour entitl free latest mobil month updat\n",
      "\n",
      "Org:  I'm gonna be home soon and i don't want to talk about this stuff anymore tonight, k? I've cried enough today.\n",
      "Mod:  don gonna home soon stuff talk thi today tonight want\n",
      "\n"
     ]
    }
   ],
   "source": [
    "##\n",
    "## Recupera los mensajes de la dtm\n",
    "##\n",
    "def dtm2words(dtm, vocabulary, index):\n",
    "    as_list = dtm[index,:].toarray().tolist()\n",
    "    docs = []\n",
    "    for i in index:\n",
    "        k = [vocabulary[iword] for iword, ifreq in enumerate(as_list[i]) if ifreq > 0]\n",
    "        docs += [k]\n",
    "    return docs\n",
    "    \n",
    "for i, x in enumerate(dtm2words(dtm, vocabulary, [0, 1, 2, 3, 4, 5, 6, 7, 8, 9, 10])):\n",
    "    print('Org: ', df.text[i])\n",
    "    print('Mod: ', ' '.join(x))\n",
    "    print('')"
   ]
  },
  {
   "cell_type": "markdown",
   "metadata": {},
   "source": [
    "## Conjuntos de entrenamiento y prueba"
   ]
  },
  {
   "cell_type": "code",
   "execution_count": 12,
   "metadata": {
    "collapsed": true
   },
   "outputs": [],
   "source": [
    "##\n",
    "## Creación de los conjuntos de entrenamiento y prueba.\n",
    "##\n",
    "X_train      = dtm[0:4168,]\n",
    "X_test       = dtm[4169:,]\n",
    "y_train_true = df.type[0:4168]\n",
    "y_test_true  = df.type[4169:]"
   ]
  },
  {
   "cell_type": "code",
   "execution_count": 13,
   "metadata": {},
   "outputs": [
    {
     "data": {
      "text/plain": [
       "ham     86.5\n",
       "spam    13.5\n",
       "Name: type, dtype: float64"
      ]
     },
     "execution_count": 13,
     "metadata": {},
     "output_type": "execute_result"
    }
   ],
   "source": [
    "##\n",
    "## Distribución de los datos en el conjunto de entrenamiento.\n",
    "##\n",
    "round(100 * y_train_true.value_counts() / sum(y_train_true.value_counts()), 1)"
   ]
  },
  {
   "cell_type": "code",
   "execution_count": 14,
   "metadata": {},
   "outputs": [
    {
     "data": {
      "text/plain": [
       "ham     87.0\n",
       "spam    13.0\n",
       "Name: type, dtype: float64"
      ]
     },
     "execution_count": 14,
     "metadata": {},
     "output_type": "execute_result"
    }
   ],
   "source": [
    "##\n",
    "## Distribución de los datos en el conjunto de entrenamiento.\n",
    "##\n",
    "round(100 * y_test_true.value_counts() / sum(y_test_true.value_counts()), 1)"
   ]
  },
  {
   "cell_type": "markdown",
   "metadata": {},
   "source": [
    "## Entrenamiento del modelo"
   ]
  },
  {
   "cell_type": "code",
   "execution_count": 15,
   "metadata": {},
   "outputs": [
    {
     "data": {
      "text/plain": [
       "BernoulliNB(alpha=1.0, binarize=0.0, class_prior=None, fit_prior=True)"
      ]
     },
     "execution_count": 15,
     "metadata": {},
     "output_type": "execute_result"
    }
   ],
   "source": [
    "##\n",
    "## Entrena el modelo\n",
    "##\n",
    "##\n",
    "## Se importa la libreria \n",
    "##\n",
    "from sklearn.naive_bayes import BernoulliNB\n",
    "\n",
    "##\n",
    "## Se crea un clasificador Naive Bayes (NB)\n",
    "##\n",
    "clf = BernoulliNB()\n",
    "\n",
    "##\n",
    "## Se entrena el clasificador\n",
    "##\n",
    "clf.fit(X_train.toarray(), y_train_true)\n",
    "clf"
   ]
  },
  {
   "cell_type": "markdown",
   "metadata": {},
   "source": [
    "## Evaluación del modelo"
   ]
  },
  {
   "cell_type": "code",
   "execution_count": 16,
   "metadata": {
    "collapsed": true
   },
   "outputs": [
    {
     "data": {
      "text/plain": [
       "array(['spam', 'ham', 'ham', ..., 'ham', 'ham', 'ham'], dtype='<U4')"
      ]
     },
     "execution_count": 16,
     "metadata": {},
     "output_type": "execute_result"
    }
   ],
   "source": [
    "##\n",
    "## Se pronostica para los datos de prueba.\n",
    "##\n",
    "y_test_pred = clf.predict(X_test.toarray())\n",
    "y_test_pred_prob = clf.predict_proba(X_test.toarray())\n",
    "y_test_pred"
   ]
  },
  {
   "cell_type": "code",
   "execution_count": 17,
   "metadata": {
    "collapsed": true
   },
   "outputs": [
    {
     "data": {
      "text/plain": [
       "array([[1217,    5],\n",
       "       [  20,  163]])"
      ]
     },
     "execution_count": 17,
     "metadata": {},
     "output_type": "execute_result"
    }
   ],
   "source": [
    "##\n",
    "## Métricas de desempeño\n",
    "##\n",
    "from sklearn.metrics import confusion_matrix\n",
    "confusion_matrix(y_true = y_test_true, \n",
    "                 y_pred = y_test_pred)"
   ]
  },
  {
   "cell_type": "code",
   "execution_count": 18,
   "metadata": {
    "scrolled": false
   },
   "outputs": [
    {
     "name": "stdout",
     "output_type": "stream",
     "text": [
      "           y_test_pred\n",
      "y_test_true  ham spam\n",
      "       ham  1217    5\n",
      "       spam   20  163\n"
     ]
    }
   ],
   "source": [
    "%%R -i y_test_true -i y_test_pred\n",
    "##\n",
    "## Se calcula la matriz de confusión.\n",
    "##\n",
    "table(y_test_true, y_test_pred)"
   ]
  },
  {
   "cell_type": "code",
   "execution_count": 19,
   "metadata": {},
   "outputs": [
    {
     "name": "stdout",
     "output_type": "stream",
     "text": [
      "\n",
      " \n",
      "   Cell Contents\n",
      "|-------------------------|\n",
      "|                       N |\n",
      "|           N / Row Total |\n",
      "|           N / Col Total |\n",
      "|-------------------------|\n",
      "\n",
      " \n",
      "Total Observations in Table:  1405 \n",
      "\n",
      " \n",
      "             | actual \n",
      "   predicted |       ham |      spam | Row Total | \n",
      "-------------|-----------|-----------|-----------|\n",
      "         ham |      1217 |        20 |      1237 | \n",
      "             |     0.984 |     0.016 |     0.880 | \n",
      "             |     0.996 |     0.109 |           | \n",
      "-------------|-----------|-----------|-----------|\n",
      "        spam |         5 |       163 |       168 | \n",
      "             |     0.030 |     0.970 |     0.120 | \n",
      "             |     0.004 |     0.891 |           | \n",
      "-------------|-----------|-----------|-----------|\n",
      "Column Total |      1222 |       183 |      1405 | \n",
      "             |     0.870 |     0.130 |           | \n",
      "-------------|-----------|-----------|-----------|\n",
      "\n",
      " \n"
     ]
    }
   ],
   "source": [
    "%%R \n",
    "##\n",
    "## Para el análisis resulta mejor construir la \n",
    "## matriz de confusión\n",
    "##\n",
    "# install.packages(\"gmodels\")\n",
    "##\n",
    "library(gmodels)\n",
    "CrossTable(y_test_pred, \n",
    "           y_test_true,\n",
    "           prop.chisq = FALSE, \n",
    "           prop.t = FALSE,\n",
    "           dnn = c('predicted', 'actual'))"
   ]
  },
  {
   "cell_type": "code",
   "execution_count": 20,
   "metadata": {},
   "outputs": [
    {
     "data": {
      "text/plain": [
       "array([[6.63801021e-15, 1.00000000e+00],\n",
       "       [9.99629498e-01, 3.70501972e-04],\n",
       "       [9.99665501e-01, 3.34499235e-04],\n",
       "       ...,\n",
       "       [9.99991808e-01, 8.19235717e-06],\n",
       "       [9.99937801e-01, 6.21994279e-05],\n",
       "       [9.99977784e-01, 2.22158366e-05]])"
      ]
     },
     "execution_count": 20,
     "metadata": {},
     "output_type": "execute_result"
    }
   ],
   "source": [
    "clf.predict_proba(X_test.toarray())"
   ]
  },
  {
   "cell_type": "code",
   "execution_count": 21,
   "metadata": {},
   "outputs": [
    {
     "data": {
      "text/html": [
       "<div>\n",
       "<style scoped>\n",
       "    .dataframe tbody tr th:only-of-type {\n",
       "        vertical-align: middle;\n",
       "    }\n",
       "\n",
       "    .dataframe tbody tr th {\n",
       "        vertical-align: top;\n",
       "    }\n",
       "\n",
       "    .dataframe thead th {\n",
       "        text-align: right;\n",
       "    }\n",
       "</style>\n",
       "<table border=\"1\" class=\"dataframe\">\n",
       "  <thead>\n",
       "    <tr style=\"text-align: right;\">\n",
       "      <th></th>\n",
       "      <th>actual_type</th>\n",
       "      <th>predict_type</th>\n",
       "      <th>prob_ham</th>\n",
       "      <th>prob_spam</th>\n",
       "    </tr>\n",
       "  </thead>\n",
       "  <tbody>\n",
       "    <tr>\n",
       "      <th>4169</th>\n",
       "      <td>spam</td>\n",
       "      <td>spam</td>\n",
       "      <td>6.638010e-15</td>\n",
       "      <td>1.000000e+00</td>\n",
       "    </tr>\n",
       "    <tr>\n",
       "      <th>4170</th>\n",
       "      <td>ham</td>\n",
       "      <td>ham</td>\n",
       "      <td>9.996295e-01</td>\n",
       "      <td>3.705020e-04</td>\n",
       "    </tr>\n",
       "    <tr>\n",
       "      <th>4171</th>\n",
       "      <td>ham</td>\n",
       "      <td>ham</td>\n",
       "      <td>9.996655e-01</td>\n",
       "      <td>3.344992e-04</td>\n",
       "    </tr>\n",
       "    <tr>\n",
       "      <th>4172</th>\n",
       "      <td>ham</td>\n",
       "      <td>ham</td>\n",
       "      <td>1.000000e+00</td>\n",
       "      <td>2.050868e-09</td>\n",
       "    </tr>\n",
       "    <tr>\n",
       "      <th>4173</th>\n",
       "      <td>ham</td>\n",
       "      <td>ham</td>\n",
       "      <td>9.999999e-01</td>\n",
       "      <td>6.130877e-08</td>\n",
       "    </tr>\n",
       "  </tbody>\n",
       "</table>\n",
       "</div>"
      ],
      "text/plain": [
       "     actual_type predict_type      prob_ham     prob_spam\n",
       "4169        spam         spam  6.638010e-15  1.000000e+00\n",
       "4170         ham          ham  9.996295e-01  3.705020e-04\n",
       "4171         ham          ham  9.996655e-01  3.344992e-04\n",
       "4172         ham          ham  1.000000e+00  2.050868e-09\n",
       "4173         ham          ham  9.999999e-01  6.130877e-08"
      ]
     },
     "execution_count": 21,
     "metadata": {},
     "output_type": "execute_result"
    }
   ],
   "source": [
    "##\n",
    "## Resulta más conveniente preparar una nueva tabla que\n",
    "## muestre la clasificación y no únicamente las \n",
    "## probabilidades.\n",
    "##\n",
    "results = pd.DataFrame(data = { \n",
    "    'actual_type':  y_test_true,\n",
    "    'predict_type': y_test_pred,\n",
    "    'prob_ham':     [v[0] for v in y_test_pred_prob],\n",
    "    'prob_spam':    [v[1] for v in y_test_pred_prob]})\n",
    "\n",
    "results.head(5)"
   ]
  },
  {
   "cell_type": "code",
   "execution_count": 22,
   "metadata": {},
   "outputs": [
    {
     "data": {
      "text/html": [
       "<div>\n",
       "<style scoped>\n",
       "    .dataframe tbody tr th:only-of-type {\n",
       "        vertical-align: middle;\n",
       "    }\n",
       "\n",
       "    .dataframe tbody tr th {\n",
       "        vertical-align: top;\n",
       "    }\n",
       "\n",
       "    .dataframe thead th {\n",
       "        text-align: right;\n",
       "    }\n",
       "</style>\n",
       "<table border=\"1\" class=\"dataframe\">\n",
       "  <thead>\n",
       "    <tr style=\"text-align: right;\">\n",
       "      <th></th>\n",
       "      <th>actual_type</th>\n",
       "      <th>predict_type</th>\n",
       "      <th>prob_ham</th>\n",
       "      <th>prob_spam</th>\n",
       "    </tr>\n",
       "  </thead>\n",
       "  <tbody>\n",
       "    <tr>\n",
       "      <th>4213</th>\n",
       "      <td>spam</td>\n",
       "      <td>ham</td>\n",
       "      <td>0.999475</td>\n",
       "      <td>0.000525</td>\n",
       "    </tr>\n",
       "    <tr>\n",
       "      <th>4249</th>\n",
       "      <td>spam</td>\n",
       "      <td>ham</td>\n",
       "      <td>0.761034</td>\n",
       "      <td>0.238966</td>\n",
       "    </tr>\n",
       "    <tr>\n",
       "      <th>4256</th>\n",
       "      <td>spam</td>\n",
       "      <td>ham</td>\n",
       "      <td>0.970804</td>\n",
       "      <td>0.029196</td>\n",
       "    </tr>\n",
       "    <tr>\n",
       "      <th>4297</th>\n",
       "      <td>spam</td>\n",
       "      <td>ham</td>\n",
       "      <td>0.727760</td>\n",
       "      <td>0.272240</td>\n",
       "    </tr>\n",
       "    <tr>\n",
       "      <th>4298</th>\n",
       "      <td>spam</td>\n",
       "      <td>ham</td>\n",
       "      <td>0.631022</td>\n",
       "      <td>0.368978</td>\n",
       "    </tr>\n",
       "    <tr>\n",
       "      <th>4344</th>\n",
       "      <td>ham</td>\n",
       "      <td>spam</td>\n",
       "      <td>0.353753</td>\n",
       "      <td>0.646247</td>\n",
       "    </tr>\n",
       "    <tr>\n",
       "      <th>4373</th>\n",
       "      <td>spam</td>\n",
       "      <td>ham</td>\n",
       "      <td>0.992271</td>\n",
       "      <td>0.007729</td>\n",
       "    </tr>\n",
       "    <tr>\n",
       "      <th>4394</th>\n",
       "      <td>spam</td>\n",
       "      <td>ham</td>\n",
       "      <td>0.989344</td>\n",
       "      <td>0.010656</td>\n",
       "    </tr>\n",
       "    <tr>\n",
       "      <th>4399</th>\n",
       "      <td>ham</td>\n",
       "      <td>spam</td>\n",
       "      <td>0.389774</td>\n",
       "      <td>0.610226</td>\n",
       "    </tr>\n",
       "    <tr>\n",
       "      <th>4514</th>\n",
       "      <td>spam</td>\n",
       "      <td>ham</td>\n",
       "      <td>0.999772</td>\n",
       "      <td>0.000228</td>\n",
       "    </tr>\n",
       "    <tr>\n",
       "      <th>4527</th>\n",
       "      <td>spam</td>\n",
       "      <td>ham</td>\n",
       "      <td>0.938042</td>\n",
       "      <td>0.061958</td>\n",
       "    </tr>\n",
       "    <tr>\n",
       "      <th>4729</th>\n",
       "      <td>ham</td>\n",
       "      <td>spam</td>\n",
       "      <td>0.092408</td>\n",
       "      <td>0.907592</td>\n",
       "    </tr>\n",
       "    <tr>\n",
       "      <th>4773</th>\n",
       "      <td>ham</td>\n",
       "      <td>spam</td>\n",
       "      <td>0.000699</td>\n",
       "      <td>0.999301</td>\n",
       "    </tr>\n",
       "    <tr>\n",
       "      <th>4798</th>\n",
       "      <td>spam</td>\n",
       "      <td>ham</td>\n",
       "      <td>0.622680</td>\n",
       "      <td>0.377320</td>\n",
       "    </tr>\n",
       "    <tr>\n",
       "      <th>4821</th>\n",
       "      <td>spam</td>\n",
       "      <td>ham</td>\n",
       "      <td>0.904087</td>\n",
       "      <td>0.095913</td>\n",
       "    </tr>\n",
       "    <tr>\n",
       "      <th>4914</th>\n",
       "      <td>spam</td>\n",
       "      <td>ham</td>\n",
       "      <td>0.988115</td>\n",
       "      <td>0.011885</td>\n",
       "    </tr>\n",
       "    <tr>\n",
       "      <th>4968</th>\n",
       "      <td>spam</td>\n",
       "      <td>ham</td>\n",
       "      <td>0.969484</td>\n",
       "      <td>0.030516</td>\n",
       "    </tr>\n",
       "    <tr>\n",
       "      <th>5046</th>\n",
       "      <td>ham</td>\n",
       "      <td>spam</td>\n",
       "      <td>0.015027</td>\n",
       "      <td>0.984973</td>\n",
       "    </tr>\n",
       "    <tr>\n",
       "      <th>5112</th>\n",
       "      <td>spam</td>\n",
       "      <td>ham</td>\n",
       "      <td>0.998642</td>\n",
       "      <td>0.001358</td>\n",
       "    </tr>\n",
       "    <tr>\n",
       "      <th>5372</th>\n",
       "      <td>spam</td>\n",
       "      <td>ham</td>\n",
       "      <td>0.537354</td>\n",
       "      <td>0.462646</td>\n",
       "    </tr>\n",
       "    <tr>\n",
       "      <th>5379</th>\n",
       "      <td>spam</td>\n",
       "      <td>ham</td>\n",
       "      <td>0.586516</td>\n",
       "      <td>0.413484</td>\n",
       "    </tr>\n",
       "    <tr>\n",
       "      <th>5383</th>\n",
       "      <td>spam</td>\n",
       "      <td>ham</td>\n",
       "      <td>0.999802</td>\n",
       "      <td>0.000198</td>\n",
       "    </tr>\n",
       "    <tr>\n",
       "      <th>5429</th>\n",
       "      <td>spam</td>\n",
       "      <td>ham</td>\n",
       "      <td>0.999816</td>\n",
       "      <td>0.000184</td>\n",
       "    </tr>\n",
       "    <tr>\n",
       "      <th>5451</th>\n",
       "      <td>spam</td>\n",
       "      <td>ham</td>\n",
       "      <td>0.993828</td>\n",
       "      <td>0.006172</td>\n",
       "    </tr>\n",
       "    <tr>\n",
       "      <th>5468</th>\n",
       "      <td>spam</td>\n",
       "      <td>ham</td>\n",
       "      <td>0.968063</td>\n",
       "      <td>0.031937</td>\n",
       "    </tr>\n",
       "  </tbody>\n",
       "</table>\n",
       "</div>"
      ],
      "text/plain": [
       "     actual_type predict_type  prob_ham  prob_spam\n",
       "4213        spam          ham  0.999475   0.000525\n",
       "4249        spam          ham  0.761034   0.238966\n",
       "4256        spam          ham  0.970804   0.029196\n",
       "4297        spam          ham  0.727760   0.272240\n",
       "4298        spam          ham  0.631022   0.368978\n",
       "4344         ham         spam  0.353753   0.646247\n",
       "4373        spam          ham  0.992271   0.007729\n",
       "4394        spam          ham  0.989344   0.010656\n",
       "4399         ham         spam  0.389774   0.610226\n",
       "4514        spam          ham  0.999772   0.000228\n",
       "4527        spam          ham  0.938042   0.061958\n",
       "4729         ham         spam  0.092408   0.907592\n",
       "4773         ham         spam  0.000699   0.999301\n",
       "4798        spam          ham  0.622680   0.377320\n",
       "4821        spam          ham  0.904087   0.095913\n",
       "4914        spam          ham  0.988115   0.011885\n",
       "4968        spam          ham  0.969484   0.030516\n",
       "5046         ham         spam  0.015027   0.984973\n",
       "5112        spam          ham  0.998642   0.001358\n",
       "5372        spam          ham  0.537354   0.462646\n",
       "5379        spam          ham  0.586516   0.413484\n",
       "5383        spam          ham  0.999802   0.000198\n",
       "5429        spam          ham  0.999816   0.000184\n",
       "5451        spam          ham  0.993828   0.006172\n",
       "5468        spam          ham  0.968063   0.031937"
      ]
     },
     "execution_count": 22,
     "metadata": {},
     "output_type": "execute_result"
    }
   ],
   "source": [
    "##\n",
    "## Mensajes con clasificación errónea.\n",
    "## Resulta muy importante determinar porque los \n",
    "## mensajes están mal clasificados\n",
    "##\n",
    "results[results['actual_type'] != results['predict_type']]"
   ]
  },
  {
   "cell_type": "code",
   "execution_count": 23,
   "metadata": {},
   "outputs": [
    {
     "data": {
      "text/html": [
       "<div>\n",
       "<style scoped>\n",
       "    .dataframe tbody tr th:only-of-type {\n",
       "        vertical-align: middle;\n",
       "    }\n",
       "\n",
       "    .dataframe tbody tr th {\n",
       "        vertical-align: top;\n",
       "    }\n",
       "\n",
       "    .dataframe thead th {\n",
       "        text-align: right;\n",
       "    }\n",
       "</style>\n",
       "<table border=\"1\" class=\"dataframe\">\n",
       "  <thead>\n",
       "    <tr style=\"text-align: right;\">\n",
       "      <th></th>\n",
       "      <th>actual_type</th>\n",
       "      <th>predict_type</th>\n",
       "      <th>prob_ham</th>\n",
       "      <th>prob_spam</th>\n",
       "    </tr>\n",
       "  </thead>\n",
       "  <tbody>\n",
       "    <tr>\n",
       "      <th>4253</th>\n",
       "      <td>ham</td>\n",
       "      <td>ham</td>\n",
       "      <td>0.517533</td>\n",
       "      <td>0.482467</td>\n",
       "    </tr>\n",
       "    <tr>\n",
       "      <th>4931</th>\n",
       "      <td>spam</td>\n",
       "      <td>spam</td>\n",
       "      <td>0.463595</td>\n",
       "      <td>0.536405</td>\n",
       "    </tr>\n",
       "    <tr>\n",
       "      <th>5326</th>\n",
       "      <td>ham</td>\n",
       "      <td>ham</td>\n",
       "      <td>0.564854</td>\n",
       "      <td>0.435146</td>\n",
       "    </tr>\n",
       "    <tr>\n",
       "      <th>5372</th>\n",
       "      <td>spam</td>\n",
       "      <td>ham</td>\n",
       "      <td>0.537354</td>\n",
       "      <td>0.462646</td>\n",
       "    </tr>\n",
       "    <tr>\n",
       "      <th>5379</th>\n",
       "      <td>spam</td>\n",
       "      <td>ham</td>\n",
       "      <td>0.586516</td>\n",
       "      <td>0.413484</td>\n",
       "    </tr>\n",
       "  </tbody>\n",
       "</table>\n",
       "</div>"
      ],
      "text/plain": [
       "     actual_type predict_type  prob_ham  prob_spam\n",
       "4253         ham          ham  0.517533   0.482467\n",
       "4931        spam         spam  0.463595   0.536405\n",
       "5326         ham          ham  0.564854   0.435146\n",
       "5372        spam          ham  0.537354   0.462646\n",
       "5379        spam          ham  0.586516   0.413484"
      ]
     },
     "execution_count": 23,
     "metadata": {},
     "output_type": "execute_result"
    }
   ],
   "source": [
    "##\n",
    "## Sin embargo, es mucho más intersante extraer\n",
    "## mensajes con probabilidades numéricamente \n",
    "## cercanas a 0.5. Estos podrían generar ambiguedad\n",
    "## en la clasificación.\n",
    "##\n",
    "results[(results['prob_spam'] > 0.4) & (results['prob_spam'] < 0.6)]"
   ]
  },
  {
   "cell_type": "code",
   "execution_count": 24,
   "metadata": {},
   "outputs": [
    {
     "data": {
      "text/html": [
       "<div>\n",
       "<style scoped>\n",
       "    .dataframe tbody tr th:only-of-type {\n",
       "        vertical-align: middle;\n",
       "    }\n",
       "\n",
       "    .dataframe tbody tr th {\n",
       "        vertical-align: top;\n",
       "    }\n",
       "\n",
       "    .dataframe thead th {\n",
       "        text-align: right;\n",
       "    }\n",
       "</style>\n",
       "<table border=\"1\" class=\"dataframe\">\n",
       "  <thead>\n",
       "    <tr style=\"text-align: right;\">\n",
       "      <th></th>\n",
       "      <th>actual_type</th>\n",
       "      <th>predict_type</th>\n",
       "      <th>prob_ham</th>\n",
       "      <th>prob_spam</th>\n",
       "    </tr>\n",
       "  </thead>\n",
       "  <tbody>\n",
       "    <tr>\n",
       "      <th>5372</th>\n",
       "      <td>spam</td>\n",
       "      <td>ham</td>\n",
       "      <td>0.537354</td>\n",
       "      <td>0.462646</td>\n",
       "    </tr>\n",
       "    <tr>\n",
       "      <th>5379</th>\n",
       "      <td>spam</td>\n",
       "      <td>ham</td>\n",
       "      <td>0.586516</td>\n",
       "      <td>0.413484</td>\n",
       "    </tr>\n",
       "  </tbody>\n",
       "</table>\n",
       "</div>"
      ],
      "text/plain": [
       "     actual_type predict_type  prob_ham  prob_spam\n",
       "5372        spam          ham  0.537354   0.462646\n",
       "5379        spam          ham  0.586516   0.413484"
      ]
     },
     "execution_count": 24,
     "metadata": {},
     "output_type": "execute_result"
    }
   ],
   "source": [
    "##\n",
    "## Mensajes mal clasificados con probabilidad cercana a 0.5 \n",
    "##\n",
    "results[(results['prob_spam'] > 0.4) & \n",
    "        (results['prob_spam'] < 0.6) & \n",
    "        (results['actual_type'] != results['predict_type'])]"
   ]
  },
  {
   "cell_type": "markdown",
   "metadata": {},
   "source": [
    "## Mejora del modelo"
   ]
  },
  {
   "cell_type": "markdown",
   "metadata": {},
   "source": [
    "**Actividad.---** Si en la construcción del clasificador se hace `laplace = 1`, en cuanto mejora la precisión del modelo. "
   ]
  },
  {
   "cell_type": "markdown",
   "metadata": {},
   "source": [
    "## Apéndice --- Solución en R"
   ]
  },
  {
   "cell_type": "code",
   "execution_count": 25,
   "metadata": {},
   "outputs": [],
   "source": [
    "%%sh\n",
    "PACK=tm\n",
    "if /usr/bin/test ! -d /usr/local/lib/R/site-library/$PACK; \n",
    "then    \n",
    "    sudo Rscript -e 'install.packages(\"'$PACK'\")'\n",
    "fi"
   ]
  },
  {
   "cell_type": "code",
   "execution_count": 26,
   "metadata": {},
   "outputs": [],
   "source": [
    "%%sh\n",
    "PACK=e1071\n",
    "if /usr/bin/test ! -d /usr/local/lib/R/site-library/$PACK; \n",
    "then    \n",
    "    sudo Rscript -e 'install.packages(\"'$PACK'\")'\n",
    "fi"
   ]
  },
  {
   "cell_type": "code",
   "execution_count": 27,
   "metadata": {},
   "outputs": [],
   "source": [
    "%%sh\n",
    "PACK=SnowballC\n",
    "if /usr/bin/test ! -d /usr/local/lib/R/site-library/$PACK; \n",
    "then    \n",
    "    sudo Rscript -e 'install.packages(\"'$PACK'\")'\n",
    "fi"
   ]
  },
  {
   "cell_type": "code",
   "execution_count": 28,
   "metadata": {},
   "outputs": [
    {
     "name": "stdout",
     "output_type": "stream",
     "text": [
      "<<DocumentTermMatrix (documents: 5574, terms: 1457)>>\n",
      "Non-/sparse entries: 35893/8085425\n",
      "Sparsity           : 100%\n",
      "Maximal term length: 19\n",
      "Weighting          : term frequency (tf)\n"
     ]
    }
   ],
   "source": [
    "%%R -i df\n",
    "\n",
    "##\n",
    "## El paquete tm se usa para minería de texto\n",
    "##\n",
    "library(NLP)\n",
    "library(tm)\n",
    "library(SnowballC)\n",
    "library(e1071)\n",
    "\n",
    "corpus <- VCorpus(VectorSource(df$text))\n",
    "\n",
    "dtm <- \n",
    "DocumentTermMatrix(corpus, \n",
    "                   control = list(tolower = TRUE, \n",
    "                                  removeNumbers = TRUE,\n",
    "                                  stopwords = TRUE, \n",
    "                                  removePunctuation = TRUE,\n",
    "                                  stemming = TRUE))\n",
    "\n",
    "##\n",
    "## Usa las palabras que aparecen por lo menos cinco veces\n",
    "##\n",
    "freq_words <- findFreqTerms(dtm, 5)\n",
    "dtm <- dtm[,freq_words]\n",
    "dtm"
   ]
  },
  {
   "cell_type": "code",
   "execution_count": 29,
   "metadata": {},
   "outputs": [
    {
     "name": "stdout",
     "output_type": "stream",
     "text": [
      " Factor w/ 2 levels \"ham\",\"spam\": 1 1 2 1 1 2 1 1 2 2 ...\n"
     ]
    }
   ],
   "source": [
    "%%R\n",
    "##\n",
    "## Se convierte la columna type, que contiene strings, en un factor.\n",
    "##\n",
    "df$type <- factor(df$type)\n",
    "str(df$type)"
   ]
  },
  {
   "cell_type": "code",
   "execution_count": 30,
   "metadata": {},
   "outputs": [
    {
     "name": "stdout",
     "output_type": "stream",
     "text": [
      "y_train_true\n",
      "      ham      spam \n",
      "0.8647158 0.1352842 \n",
      "\n",
      "y_test_true\n",
      "      ham      spam \n",
      "0.8697842 0.1302158 \n"
     ]
    }
   ],
   "source": [
    "%%R\n",
    "##\n",
    "## Creación de los conjuntos de entrenamiento y prueba.\n",
    "##\n",
    "X_train      <- dtm[1:4169, ]\n",
    "X_test       <- dtm[4170:5559, ]\n",
    "y_train_true <- df[1:4169, ]$type\n",
    "y_test_true  <- df[4170:5559, ]$type\n",
    "\n",
    "\n",
    "##\n",
    "## Se convierte la frecuencia de ocurrencia a \"Yes\" y \"No\"\n",
    "##\n",
    "convert_counts <- \n",
    "function(x) {\n",
    "    x <- ifelse(x > 0, \"Yes\", \"No\")\n",
    "}\n",
    "##\n",
    "X_train <- apply(X_train, MARGIN = 2, convert_counts)\n",
    "X_test  <- apply(X_test,  MARGIN = 2, convert_counts)\n",
    "\n",
    "\n",
    "##\n",
    "## Distribución de los datos en el conjunto de entrenamiento.\n",
    "##\n",
    "print(prop.table(table(y_train_true)))\n",
    "cat('\\n')\n",
    "\n",
    "##\n",
    "## Distribución de los datos en el conjunto de prueba.\n",
    "##\n",
    "print(prop.table(table(y_test_true)))"
   ]
  },
  {
   "cell_type": "markdown",
   "metadata": {},
   "source": [
    "#### Entrenamiento del modelo"
   ]
  },
  {
   "cell_type": "code",
   "execution_count": 31,
   "metadata": {},
   "outputs": [],
   "source": [
    "%%R\n",
    "##\n",
    "## Construye y entrena el clasificador\n",
    "##\n",
    "clf <- naiveBayes(X_train, y_train_true)"
   ]
  },
  {
   "cell_type": "markdown",
   "metadata": {},
   "source": [
    "#### Evaluación del modelo"
   ]
  },
  {
   "cell_type": "code",
   "execution_count": 32,
   "metadata": {},
   "outputs": [
    {
     "name": "stdout",
     "output_type": "stream",
     "text": [
      "[1] spam ham  ham  ham  ham  ham \n",
      "Levels: ham spam\n"
     ]
    }
   ],
   "source": [
    "%%R\n",
    "##\n",
    "## Se pronostica para los datos de prueba.\n",
    "##\n",
    "y_test_pred <- predict(clf, X_test)\n",
    "head(y_test_pred)"
   ]
  },
  {
   "cell_type": "code",
   "execution_count": 33,
   "metadata": {
    "scrolled": false
   },
   "outputs": [
    {
     "name": "stdout",
     "output_type": "stream",
     "text": [
      "           y_test_pred\n",
      "y_test_true  ham spam\n",
      "       ham  1202    7\n",
      "       spam   21  160\n"
     ]
    }
   ],
   "source": [
    "%%R\n",
    "##\n",
    "## Se calcula la matriz de confusión.\n",
    "##\n",
    "table(y_test_true, y_test_pred)"
   ]
  },
  {
   "cell_type": "code",
   "execution_count": null,
   "metadata": {},
   "outputs": [],
   "source": [
    "%%R\n",
    "##\n",
    "## Se calcula la probabilidad de que cada mensaje sea \n",
    "## válido o spam para el conjunto de prueba. \n",
    "## Los resultados muestran que los mensajes\n",
    "## son clasificados correctamente.\n",
    "##\n",
    "y_test_pred_prob <- predict(clf, X_test, type = \"raw\")\n",
    "head(y_test_pred_prob)"
   ]
  }
 ],
 "metadata": {
  "kernel_info": {
   "name": "python3"
  },
  "kernelspec": {
   "display_name": "Python 3",
   "language": "python",
   "name": "python3"
  },
  "language_info": {
   "codemirror_mode": {
    "name": "ipython",
    "version": 3
   },
   "file_extension": ".py",
   "mimetype": "text/x-python",
   "name": "python",
   "nbconvert_exporter": "python",
   "pygments_lexer": "ipython3",
   "version": "3.6.8"
  },
  "nteract": {
   "version": "0.7.1"
  },
  "varInspector": {
   "cols": {
    "lenName": 16,
    "lenType": 16,
    "lenVar": 40
   },
   "kernels_config": {
    "python": {
     "delete_cmd_postfix": "",
     "delete_cmd_prefix": "del ",
     "library": "var_list.py",
     "varRefreshCmd": "print(var_dic_list())"
    },
    "r": {
     "delete_cmd_postfix": ") ",
     "delete_cmd_prefix": "rm(",
     "library": "var_list.r",
     "varRefreshCmd": "cat(var_dic_list()) "
    }
   },
   "types_to_exclude": [
    "module",
    "function",
    "builtin_function_or_method",
    "instance",
    "_Feature"
   ],
   "window_display": false
  }
 },
 "nbformat": 4,
 "nbformat_minor": 2
}
