{
 "cells": [
  {
   "cell_type": "markdown",
   "metadata": {},
   "source": [
    "Carga masiva de datos (pendiente)\n",
    "=== \n",
    "\n",
    "* Última modificación: Mayo 25, 2022"
   ]
  },
  {
   "cell_type": "markdown",
   "metadata": {},
   "source": [
    "Basado en https://hbase.apache.org/book.html#quickstart"
   ]
  },
  {
   "cell_type": "markdown",
   "metadata": {},
   "source": [
    "Creación del archivo de datos\n",
    "---"
   ]
  },
  {
   "cell_type": "code",
   "execution_count": null,
   "metadata": {},
   "outputs": [],
   "source": [
    "%%writefile data.txt\n",
    "8396 Calvin Raji 230-555-0191 230-555-0191 5415 San Gabriel Dr.\n",
    "16600 Karen Wu 646-555-0113 230-555-0192 9265 La Paz\n",
    "4324 Karl Xie 508-555-0163 230-555-0193 4912 La Vuelta\n",
    "16891 Jonn Jackson 674-555-0110 230-555-0194 40 Ellis St.\n",
    "3273 Miguel Miller 397-555-0155 230-555-0195 6696 Anchor Drive\n",
    "3588 Osa Agbonile 592-555-0152 230-555-0196 1873 Lion Circle\n",
    "10272 Julia Lee 870-555-0110 230-555-0197 3148 Rose Street\n",
    "4868 Jose Hayes 599-555-0171 230-555-0198 793 Crawford Street\n",
    "4761 Caleb Alexander 670-555-0141 230-555-0199 4775 Kentucky Dr.\n",
    "16443 Terry Chander 998-555-0171 230-555-0200 771 Northridge Drive"
   ]
  }
 ],
 "metadata": {
  "kernelspec": {
   "display_name": "Python 3 (ipykernel)",
   "language": "python",
   "name": "python3"
  },
  "language_info": {
   "codemirror_mode": {
    "name": "ipython",
    "version": 3
   },
   "file_extension": ".py",
   "mimetype": "text/x-python",
   "name": "python",
   "nbconvert_exporter": "python",
   "pygments_lexer": "ipython3",
   "version": "3.8.10"
  },
  "toc": {
   "base_numbering": 1,
   "nav_menu": {},
   "number_sections": false,
   "sideBar": true,
   "skip_h1_title": false,
   "title_cell": "Table of Contents",
   "title_sidebar": "Contents",
   "toc_cell": false,
   "toc_position": {},
   "toc_section_display": true,
   "toc_window_display": true
  }
 },
 "nbformat": 4,
 "nbformat_minor": 4
}
