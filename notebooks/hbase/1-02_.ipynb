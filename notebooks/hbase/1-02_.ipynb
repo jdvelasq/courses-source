{
 "cells": [
  {
   "cell_type": "markdown",
   "metadata": {},
   "source": [
    "Manejo de tablas en Apache HBase\n",
    "===\n",
    "\n",
    "* Última modificación: Mayo 25, 2022"
   ]
  },
  {
   "cell_type": "markdown",
   "metadata": {},
   "source": [
    "Basado en https://hbase.apache.org/book.html#quickstart"
   ]
  },
  {
   "cell_type": "markdown",
   "metadata": {},
   "source": [
    "Cell magic `%%hbase`\n",
    "---"
   ]
  },
  {
   "cell_type": "code",
   "execution_count": 1,
   "metadata": {},
   "outputs": [],
   "source": [
    "from IPython.core.magic import Magics, cell_magic, line_magic, magics_class\n",
    "from pexpect import spawn\n",
    "\n",
    "TIMEOUT = 60\n",
    "PROG = \"hbase shell\"\n",
    "PROMPT = [\"hbase\\(main\\):\\d*:0>\", \"hbase\\(main\\):\\d*:0>\"]\n",
    "QUIT = \"exit\"\n",
    "\n",
    "\n",
    "@magics_class\n",
    "class Magic(Magics):\n",
    "    def __init__(self, shell):\n",
    "        super().__init__(shell)\n",
    "        self.app = spawn(PROG, timeout=60)\n",
    "        self.app.expect(PROMPT)\n",
    "\n",
    "    @cell_magic\n",
    "    def hbase(self, line, cell):\n",
    "        cell_lines = [cell_line.strip() for cell_line in cell.split(\"\\n\")]\n",
    "        cell_lines = [cell_line for cell_line in cell_lines if cell_line != \"\"]\n",
    "        for cell_line in cell_lines:\n",
    "            self.app.sendline(cell_line)\n",
    "            self.app.expect(PROMPT, timeout=TIMEOUT)\n",
    "            output = self.app.before.decode()\n",
    "            output = output.replace(\"\\r\\n\", \"\\n\")\n",
    "            output = output.split(\"\\n\")\n",
    "            output = [output_line.strip() for output_line in output]\n",
    "            for output_line in output:\n",
    "                if output_line not in cell_lines:\n",
    "                    print(output_line)\n",
    "        return None\n",
    "\n",
    "    @line_magic\n",
    "    def quit(self, line):\n",
    "        self.app.sendline(QUIT)\n",
    "\n",
    "\n",
    "def load_ipython_extension(ip):\n",
    "    ip.register_magics(Magic(ip))\n",
    "\n",
    "\n",
    "load_ipython_extension(ip=get_ipython())"
   ]
  },
  {
   "cell_type": "markdown",
   "metadata": {},
   "source": [
    "Estructura de la tabla\n",
    "---"
   ]
  },
  {
   "cell_type": "markdown",
   "metadata": {},
   "source": [
    "* Formato tabular típico:\n",
    "\n",
    "```\n",
    "ID        Name      Home phone        Office phone    Office address\n",
    "--------------------------------------------------------------------\n",
    "1000      John Doe  1-425-000-0001    1-425-000-0002  1111 San Grabriel Dr\n",
    "``` \n",
    "\n",
    "* Formato columnar:\n",
    "\n",
    "```\n",
    "          Column family:Personal      Column Family:Office\n",
    "RowKey    Name      Home phone        Office phone    Office address\n",
    "---------------------------------------------------------------------------\n",
    "1000      John Doe  1-425-000-0001    1-425-000-0002  1111 San Grabriel Dr\n",
    "``` \n"
   ]
  },
  {
   "cell_type": "markdown",
   "metadata": {},
   "source": [
    "Creación de la tabla\n",
    "---"
   ]
  },
  {
   "cell_type": "code",
   "execution_count": 2,
   "metadata": {},
   "outputs": [
    {
     "name": "stdout",
     "output_type": "stream",
     "text": [
      "Created table Contacts\n",
      "Took 1.4929 seconds\n",
      "=> Hbase::Table - Contacts\n",
      "\n"
     ]
    }
   ],
   "source": [
    "%%hbase\n",
    "create 'Contacts', 'Personal', 'Office'"
   ]
  },
  {
   "cell_type": "markdown",
   "metadata": {},
   "source": [
    "Listado de las tablas\n",
    "--"
   ]
  },
  {
   "cell_type": "code",
   "execution_count": 3,
   "metadata": {},
   "outputs": [
    {
     "name": "stdout",
     "output_type": "stream",
     "text": [
      "TABLE\n",
      "Contacts\n",
      "1 row(s)\n",
      "Took 0.0193 seconds\n",
      "=> [\"Contacts\"]\n",
      "\n"
     ]
    }
   ],
   "source": [
    "%%hbase\n",
    "list"
   ]
  },
  {
   "cell_type": "markdown",
   "metadata": {},
   "source": [
    "Inserción manual de datos\n",
    "---"
   ]
  },
  {
   "cell_type": "markdown",
   "metadata": {},
   "source": [
    "```\n",
    "put ’<table name>’,’row1’,’<colfamily:colname>’,’<value>’\n",
    "```"
   ]
  },
  {
   "cell_type": "code",
   "execution_count": 4,
   "metadata": {},
   "outputs": [
    {
     "name": "stdout",
     "output_type": "stream",
     "text": [
      "Took 0.1265 seconds\n",
      "\n",
      "Took 0.0040 seconds\n",
      "\n",
      "Took 0.0108 seconds\n",
      "\n",
      "r.' 'Contacts', '1000', 'Office:Address', '1111 San Gabriel D \n",
      "Took 0.0033 seconds\n",
      "\n"
     ]
    }
   ],
   "source": [
    "%%hbase\n",
    "put 'Contacts', '1000', 'Personal:Name', 'John Dole'\n",
    "put 'Contacts', '1000', 'Personal:Phone', '1-425-000-0001'\n",
    "put 'Contacts', '1000', 'Office:Phone', '1-425-000-0002'\n",
    "put 'Contacts', '1000', 'Office:Address', '1111 San Gabriel Dr.'"
   ]
  },
  {
   "cell_type": "markdown",
   "metadata": {},
   "source": [
    "Inspección de la tabla\n",
    "---"
   ]
  },
  {
   "cell_type": "code",
   "execution_count": 5,
   "metadata": {},
   "outputs": [
    {
     "name": "stdout",
     "output_type": "stream",
     "text": [
      "ROW                   COLUMN+CELL\n",
      "1000                 column=Office:Address, timestamp=2022-05-25T19:16:33.687Z,\n",
      "value=1111 San Gabriel Dr.\n",
      "1000                 column=Office:Phone, timestamp=2022-05-25T19:16:33.585Z, v\n",
      "alue=1-425-000-0002\n",
      "1000                 column=Personal:Name, timestamp=2022-05-25T19:16:33.389Z,\n",
      "value=John Dole\n",
      "1000                 column=Personal:Phone, timestamp=2022-05-25T19:16:33.480Z,\n",
      "value=1-425-000-0001\n",
      "1 row(s)\n",
      "Took 0.0368 seconds\n",
      "\n"
     ]
    }
   ],
   "source": [
    "%%hbase\n",
    "scan 'Contacts'"
   ]
  },
  {
   "cell_type": "markdown",
   "metadata": {},
   "source": [
    "Conteo\n",
    "---"
   ]
  },
  {
   "cell_type": "code",
   "execution_count": 6,
   "metadata": {},
   "outputs": [
    {
     "name": "stdout",
     "output_type": "stream",
     "text": [
      "1 row(s)\n",
      "Took 0.0093 seconds\n",
      "=> 1\n",
      "\n"
     ]
    }
   ],
   "source": [
    "%%hbase\n",
    "count 'Contacts'"
   ]
  },
  {
   "cell_type": "markdown",
   "metadata": {},
   "source": [
    "Extracción del contenido de una fila\n",
    "---"
   ]
  },
  {
   "cell_type": "code",
   "execution_count": 7,
   "metadata": {},
   "outputs": [
    {
     "name": "stdout",
     "output_type": "stream",
     "text": [
      "COLUMN                CELL\n",
      "Office:Address       timestamp=2022-05-25T19:16:33.687Z, value=1111 San Gabriel\n",
      "Dr.\n",
      "Office:Phone         timestamp=2022-05-25T19:16:33.585Z, value=1-425-000-0002\n",
      "Personal:Name        timestamp=2022-05-25T19:16:33.389Z, value=John Dole\n",
      "Personal:Phone       timestamp=2022-05-25T19:16:33.480Z, value=1-425-000-0001\n",
      "1 row(s)\n",
      "Took 0.0174 seconds\n",
      "\n"
     ]
    }
   ],
   "source": [
    "%%hbase\n",
    "get 'Contacts', '1000'"
   ]
  },
  {
   "cell_type": "markdown",
   "metadata": {},
   "source": [
    "Lectura de una columna específica\n",
    "--"
   ]
  },
  {
   "cell_type": "code",
   "execution_count": 8,
   "metadata": {},
   "outputs": [
    {
     "name": "stdout",
     "output_type": "stream",
     "text": [
      "COLUMN                CELL\n",
      "Personal:Name        timestamp=2022-05-25T19:16:33.389Z, value=John Dole\n",
      "1 row(s)\n",
      "Took 0.0043 seconds\n",
      "\n"
     ]
    }
   ],
   "source": [
    "%%hbase\n",
    "get 'Contacts', '1000', {COLUMN=>'Personal:Name'}"
   ]
  },
  {
   "cell_type": "markdown",
   "metadata": {},
   "source": [
    "Existencia de una tabla\n",
    "--"
   ]
  },
  {
   "cell_type": "code",
   "execution_count": 9,
   "metadata": {},
   "outputs": [
    {
     "name": "stdout",
     "output_type": "stream",
     "text": [
      "Table Contacts does exist\n",
      "Took 0.0066 seconds\n",
      "=> true\n",
      "\n"
     ]
    }
   ],
   "source": [
    "%%hbase\n",
    "exists 'Contacts'"
   ]
  },
  {
   "cell_type": "markdown",
   "metadata": {},
   "source": [
    "Desactivación de la tabla\n",
    "---"
   ]
  },
  {
   "cell_type": "code",
   "execution_count": 10,
   "metadata": {},
   "outputs": [
    {
     "name": "stdout",
     "output_type": "stream",
     "text": [
      "Took 1.1455 seconds\n",
      "\n"
     ]
    }
   ],
   "source": [
    "%%hbase\n",
    "disable 'Contacts'"
   ]
  },
  {
   "cell_type": "code",
   "execution_count": 11,
   "metadata": {},
   "outputs": [
    {
     "name": "stdout",
     "output_type": "stream",
     "text": [
      "true\n",
      "Took 0.0056 seconds\n",
      "=> 1\n",
      "\n"
     ]
    }
   ],
   "source": [
    "%%hbase\n",
    "is_disabled 'Contacts'"
   ]
  },
  {
   "cell_type": "markdown",
   "metadata": {},
   "source": [
    "Desactivación de todas las tablas\n",
    "--"
   ]
  },
  {
   "cell_type": "markdown",
   "metadata": {},
   "source": [
    "```\n",
    "disable_all 'C.*'\n",
    "```\n"
   ]
  },
  {
   "cell_type": "markdown",
   "metadata": {},
   "source": [
    "Activación de la tabla\n",
    "---"
   ]
  },
  {
   "cell_type": "code",
   "execution_count": 12,
   "metadata": {},
   "outputs": [
    {
     "name": "stdout",
     "output_type": "stream",
     "text": [
      "Took 0.6287 seconds\n",
      "\n"
     ]
    }
   ],
   "source": [
    "%%hbase\n",
    "enable 'Contacts'"
   ]
  },
  {
   "cell_type": "code",
   "execution_count": 13,
   "metadata": {},
   "outputs": [
    {
     "name": "stdout",
     "output_type": "stream",
     "text": [
      "ROW                   COLUMN+CELL\n",
      "1000                 column=Office:Address, timestamp=2022-05-25T19:16:33.687Z,\n",
      "value=1111 San Gabriel Dr.\n",
      "1000                 column=Office:Phone, timestamp=2022-05-25T19:16:33.585Z, v\n",
      "alue=1-425-000-0002\n",
      "1000                 column=Personal:Name, timestamp=2022-05-25T19:16:33.389Z,\n",
      "value=John Dole\n",
      "1000                 column=Personal:Phone, timestamp=2022-05-25T19:16:33.480Z,\n",
      "value=1-425-000-0001\n",
      "1 row(s)\n",
      "Took 0.0106 seconds\n",
      "\n"
     ]
    }
   ],
   "source": [
    "%%hbase\n",
    "scan 'Contacts'"
   ]
  },
  {
   "cell_type": "code",
   "execution_count": 14,
   "metadata": {},
   "outputs": [
    {
     "name": "stdout",
     "output_type": "stream",
     "text": [
      "true\n",
      "Took 0.0143 seconds\n",
      "=> true\n",
      "\n"
     ]
    }
   ],
   "source": [
    "%%hbase\n",
    "is_enabled 'Contacts'"
   ]
  },
  {
   "cell_type": "markdown",
   "metadata": {},
   "source": [
    "Descripción de una tabla\n",
    "--"
   ]
  },
  {
   "cell_type": "code",
   "execution_count": 15,
   "metadata": {},
   "outputs": [
    {
     "name": "stdout",
     "output_type": "stream",
     "text": [
      "Table Contacts is ENABLED\n",
      "Contacts\n",
      "COLUMN FAMILIES DESCRIPTION\n",
      "{NAME => 'Office', VERSIONS => '1', EVICT_BLOCKS_ON_CLOSE => 'false', KEEP_DELET\n",
      "ED_CELLS => 'FALSE', CACHE_DATA_ON_WRITE => 'false', DATA_BLOCK_ENCODING => 'NON\n",
      "E', TTL => 'FOREVER', MIN_VERSIONS => '0', REPLICATION_SCOPE => '0', BLOOMFILTER\n",
      "=> 'ROW', CACHE_INDEX_ON_WRITE => 'false', IN_MEMORY => 'false', CACHE_BLOOMS_O\n",
      "N_WRITE => 'false', PREFETCH_BLOCKS_ON_OPEN => 'false', COMPRESSION => 'NONE', B\n",
      "LOCKCACHE => 'true', BLOCKSIZE => '65536'}\n",
      "\n",
      "{NAME => 'Personal', VERSIONS => '1', EVICT_BLOCKS_ON_CLOSE => 'false', KEEP_DEL\n",
      "ETED_CELLS => 'FALSE', CACHE_DATA_ON_WRITE => 'false', DATA_BLOCK_ENCODING => 'N\n",
      "ONE', TTL => 'FOREVER', MIN_VERSIONS => '0', REPLICATION_SCOPE => '0', BLOOMFILT\n",
      "ER => 'ROW', CACHE_INDEX_ON_WRITE => 'false', IN_MEMORY => 'false', CACHE_BLOOMS\n",
      "_ON_WRITE => 'false', PREFETCH_BLOCKS_ON_OPEN => 'false', COMPRESSION => 'NONE',\n",
      "BLOCKCACHE => 'true', BLOCKSIZE => '65536'}\n",
      "\n",
      "2 row(s)\n",
      "\n",
      "QUOTAS\n",
      "0 row(s)\n",
      "Took 0.0502 seconds\n",
      "\n"
     ]
    }
   ],
   "source": [
    "%%hbase\n",
    "describe 'Contacts'"
   ]
  },
  {
   "cell_type": "markdown",
   "metadata": {},
   "source": [
    "Borrado de la tabla\n",
    "--"
   ]
  },
  {
   "cell_type": "code",
   "execution_count": 16,
   "metadata": {},
   "outputs": [
    {
     "name": "stdout",
     "output_type": "stream",
     "text": [
      "Took 0.3249 seconds\n",
      "\n",
      "Took 0.1268 seconds\n",
      "\n"
     ]
    }
   ],
   "source": [
    "%%hbase\n",
    "disable 'Contacts'\n",
    "drop 'Contacts'"
   ]
  },
  {
   "cell_type": "code",
   "execution_count": 17,
   "metadata": {},
   "outputs": [
    {
     "name": "stdout",
     "output_type": "stream",
     "text": [
      "TABLE\n",
      "0 row(s)\n",
      "Took 0.0025 seconds\n",
      "=> []\n",
      "\n"
     ]
    }
   ],
   "source": [
    "%%hbase\n",
    "list"
   ]
  },
  {
   "cell_type": "markdown",
   "metadata": {},
   "source": [
    "Borrado de todas las tablas\n",
    "--"
   ]
  },
  {
   "cell_type": "markdown",
   "metadata": {},
   "source": [
    "```\n",
    "drop_all 'C.*'\n",
    "```"
   ]
  },
  {
   "cell_type": "markdown",
   "metadata": {},
   "source": [
    "Cierre del prompt\n",
    "---"
   ]
  },
  {
   "cell_type": "markdown",
   "metadata": {},
   "source": [
    "Use:\n",
    "\n",
    "```\n",
    "hbase(main):025:0> exit\n",
    "```"
   ]
  },
  {
   "cell_type": "code",
   "execution_count": 4,
   "metadata": {},
   "outputs": [],
   "source": [
    "%quit"
   ]
  }
 ],
 "metadata": {
  "kernelspec": {
   "display_name": "Python 3 (ipykernel)",
   "language": "python",
   "name": "python3"
  },
  "language_info": {
   "codemirror_mode": {
    "name": "ipython",
    "version": 3
   },
   "file_extension": ".py",
   "mimetype": "text/x-python",
   "name": "python",
   "nbconvert_exporter": "python",
   "pygments_lexer": "ipython3",
   "version": "3.8.10"
  },
  "toc": {
   "base_numbering": 1,
   "nav_menu": {},
   "number_sections": false,
   "sideBar": true,
   "skip_h1_title": false,
   "title_cell": "Table of Contents",
   "title_sidebar": "Contents",
   "toc_cell": false,
   "toc_position": {},
   "toc_section_display": true,
   "toc_window_display": true
  }
 },
 "nbformat": 4,
 "nbformat_minor": 4
}
