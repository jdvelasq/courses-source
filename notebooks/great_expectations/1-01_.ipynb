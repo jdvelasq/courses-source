{
 "cells": [
  {
   "cell_type": "markdown",
   "id": "e50c6c53-8444-4fec-ae0e-34bebf423a6e",
   "metadata": {
    "tags": []
   },
   "source": [
    "Great Expectations\n",
    "===\n",
    "\n",
    "* Ultima modificación: Mayo 14, 2022 | YouTube"
   ]
  },
  {
   "cell_type": "code",
   "execution_count": null,
   "id": "6c8d6228-de3a-4845-8964-639fe972a106",
   "metadata": {},
   "outputs": [],
   "source": []
  }
 ],
 "metadata": {
  "kernelspec": {
   "display_name": "Python 3 (ipykernel)",
   "language": "python",
   "name": "python3"
  },
  "language_info": {
   "codemirror_mode": {
    "name": "ipython",
    "version": 3
   },
   "file_extension": ".py",
   "mimetype": "text/x-python",
   "name": "python",
   "nbconvert_exporter": "python",
   "pygments_lexer": "ipython3",
   "version": "3.8.10"
  }
 },
 "nbformat": 4,
 "nbformat_minor": 5
}
