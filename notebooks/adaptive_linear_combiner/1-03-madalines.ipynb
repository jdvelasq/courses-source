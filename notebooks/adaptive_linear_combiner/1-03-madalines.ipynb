{
 "cells": [
  {
   "cell_type": "markdown",
   "metadata": {},
   "source": [
    "MADALINEs\n",
    "===\n",
    "\n",
    "* 5:00 min | Última modificación: Junio 22, 2019 | [YouTube]()"
   ]
  },
  {
   "cell_type": "markdown",
   "metadata": {},
   "source": [
    "## Definición del problema"
   ]
  },
  {
   "cell_type": "markdown",
   "metadata": {},
   "source": [
    "Se requiere diseñar una red neuronal que permita clasificar correctamente el siguiente problema:\n",
    "\n",
    "![assets/MadalineClasificacion-01.png](assets/MadalineClasificacion-01.png)"
   ]
  },
  {
   "cell_type": "markdown",
   "metadata": {},
   "source": [
    "Se desea construir un clasificador no lineal, conformado por la combinación de varios ADALINE, que permita clasificar correctamente los patrones presentados. El problema radíca en que un ADALINE puede clasificar clases linealmente separables, pero el problema presentado no pertenece a este tipo de problemas. "
   ]
  },
  {
   "cell_type": "markdown",
   "metadata": {},
   "source": [
    "## MADALINE"
   ]
  },
  {
   "cell_type": "markdown",
   "metadata": {},
   "source": [
    "Cualquier función conmutable no linealmente separable puede ser calculada por un modelo neuronal con dos capas, donde la primera capa tiene $m$ unidades de entrada que calculan $z_1$, $z_2$, …, $z_m$ variables intermedias, y la segunda capa una sola unidad. \n",
    "\n",
    "$$\n",
    "y= f(x_1,x_2,…,x_n)= \\varphi \\left( \\sum_{j=0}^m w_j^*  z_j \\right)   \\text{ con } z_j= \\varphi \\left( \\sum_{i=0}^n w_{ij} x_i \\right)\n",
    "$$\n",
    "\n",
    "La siguiente figura presenta el esquema típico de una MADALINE para dos entradas.\n",
    "\n",
    "![assets/MadalineClasificacion-02.png](assets/MadalineClasificacion-02.png)\n",
    "\n"
   ]
  },
  {
   "cell_type": "markdown",
   "metadata": {},
   "source": [
    "La MADALINE surge directamente del caso anterior, al considerar que la neurona de salida usa una función lógica predeterminada.\n",
    "\n",
    "![assets/MadalineClasificacion-03.png](assets/MadalineClasificacion-03.png)\n",
    "\n"
   ]
  },
  {
   "cell_type": "markdown",
   "metadata": {},
   "source": [
    "## Algoritmo MRI o MADALINE Rule I\n",
    "\n",
    "Hay una capa de ADALINEs y una única neurona ADALINE de salida de pesos fijos y no adaptables que implementa una operación lógica (OR, AND, MAJ, etc). El objetivo es entrenar los pesos de las capas de entrada.\n",
    "\n",
    "* Los patrones son presentados de uno en uno en una secuencia aleatoria.\n",
    "\n",
    "\n",
    "* Los pesos son inicializados en valores aleatorios pequeños.\n",
    "\n",
    "\n",
    "* Si la salida de MADALINE es igual a la deseada no hay adaptación para ese patrón.\n",
    "\n",
    "\n",
    "* Si la salida difiere de la deseada se adaptan los pesos de las conexiones de las ADALINE necesarias de la capa de entrada, de acuerdo con la operación lógica de la adaline de salida. \n",
    "\n",
    "\n",
    "* Se escogen las ADALINE con $s(k)$ más cercana a cero.\n",
    "\n",
    "\n",
    "* La corrección se realiza mediante alguno de los algoritmos expuestos.\n"
   ]
  },
  {
   "cell_type": "markdown",
   "metadata": {},
   "source": [
    "## Algoritmo MRII o MADALINE Rule II\n",
    "\n",
    "* Tiene una capa de adalines de entrada y una capa de adalines de salida. Cada adaline de entrada propaga su señal a todas las adalines de la capa de salida.\n",
    "\n",
    "\n",
    "* Todos los pesos de las adalines son adaptables.\n",
    "\n",
    "\n",
    "* Al presentarse un error se ensayan correcciones en la capa de entrada intentado reducir el error. Si no hay éxito, se modifican los pesos de la capa de salida usando el algoritmo LMS.\n",
    "\n",
    "\n",
    "* El algoritmo puede converger a un óptimo local."
   ]
  },
  {
   "cell_type": "markdown",
   "metadata": {},
   "source": [
    "**Actividad.---** Solucione el problema planteado al inicio de este tutorial."
   ]
  }
 ],
 "metadata": {
  "kernelspec": {
   "display_name": "Python 3",
   "language": "python",
   "name": "python3"
  },
  "language_info": {
   "codemirror_mode": {
    "name": "ipython",
    "version": 3
   },
   "file_extension": ".py",
   "mimetype": "text/x-python",
   "name": "python",
   "nbconvert_exporter": "python",
   "pygments_lexer": "ipython3",
   "version": "3.6.9"
  }
 },
 "nbformat": 4,
 "nbformat_minor": 4
}
