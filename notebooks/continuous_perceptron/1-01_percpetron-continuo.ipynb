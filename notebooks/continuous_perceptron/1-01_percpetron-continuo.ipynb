{
 "cells": [
  {
   "cell_type": "markdown",
   "metadata": {},
   "source": [
    "Lectura: Regresión no lineal usando perceptrones continuos --- 30:00 min\n",
    "===\n",
    "\n",
    "* Última modificación: Marzo 10, 2022"
   ]
  },
  {
   "cell_type": "markdown",
   "metadata": {},
   "source": [
    "En este tutorial se describe la forma matemática y el algoritmo de entrenamiento de un perceptrón continuo."
   ]
  },
  {
   "cell_type": "markdown",
   "metadata": {},
   "source": [
    "Definición del problema\n",
    "---"
   ]
  },
  {
   "cell_type": "markdown",
   "metadata": {},
   "source": [
    "En este tutorial se aborda el problema de como construir un modelo de regresión lineal que usa un perceptrón continuo como modelo. En este caso, el modelo es:\n",
    "\n",
    "$$\n",
    "\\sigma \\left( w_0 + \\sum_i w_i x_i \\right) = y\n",
    "$$\n",
    "\n",
    "Note que en este caso, la componente de la entrada al perceptrón es un modelo de regresión lineal."
   ]
  },
  {
   "cell_type": "markdown",
   "metadata": {},
   "source": [
    "## Modelo matemático"
   ]
  },
  {
   "cell_type": "markdown",
   "metadata": {},
   "source": [
    "Este problema será resuelto mediante un perceptrón continuo. En el perceptrón continuo, la función de activación es del tipo sigmoidea-logística en vez de la función de paso duro o conmutador bipolar. La especificación matemática de las funciones de activación y el diagrama representativo del modelo son presentadas a continuación. \n",
    "\n",
    "* Función tangente hiperbólica:\n",
    "\n",
    "$$\\tanh⁡(v) = \\frac{\\sinh⁡(v)}{\\cosh⁡(v)} = \\frac{\\exp⁡(v)-\\exp⁡(-v)}{\\exp⁡(v)+\\exp⁡(-v)}=\\frac{1-\\exp⁡(-2v)}{1+\\exp⁡(2v)} $$\n",
    "\n",
    "* Función sigmoidea:\n",
    "\n",
    "$$\\sigma (v) = \\frac{1}{1+\\exp(-v)}$$\n",
    "\n",
    "De esta forma, la arquitectura del perceptrón continuo es la siguiente:\n",
    "\n",
    "\n",
    "![assets/PerceptronRegresion-02.png](assets/PerceptronRegresion-02.png)"
   ]
  },
  {
   "cell_type": "markdown",
   "metadata": {},
   "source": [
    "## Algoritmo de propagación hacia atrás del error (backpropagation)"
   ]
  },
  {
   "cell_type": "markdown",
   "metadata": {},
   "source": [
    "Para estimar los valores de los pesos asociados a las conexiones se usa el algoritmo de backpropagation. Este es un algoritmo de gradiente descendente, por lo que resulta muy similar a las ecuaciones de aprendizaje usadas en los documentos anteriores. "
   ]
  },
  {
   "cell_type": "markdown",
   "metadata": {},
   "source": [
    "### Error instántaneo"
   ]
  },
  {
   "cell_type": "markdown",
   "metadata": {},
   "source": [
    "En este caso, el error instántaneo se define como:"
   ]
  },
  {
   "cell_type": "markdown",
   "metadata": {},
   "source": [
    "$$\n",
    "\\begin{split}\n",
    "e & = d - y \\\\\n",
    "  & = d - \\sigma \\left( w_0 + \\sum_i w_i x_i \\right) \\\\\n",
    "  & = d - \\sigma \\left( \\mathbf{w}^T \\mathbf{x} \\right)\n",
    "\\end{split}\n",
    "$$"
   ]
  },
  {
   "cell_type": "markdown",
   "metadata": {},
   "source": [
    "### Gradiente del error cuadrático instántaneo"
   ]
  },
  {
   "cell_type": "markdown",
   "metadata": {},
   "source": [
    "El gradiente del error cuadrático respecto a los pesos es:"
   ]
  },
  {
   "cell_type": "markdown",
   "metadata": {},
   "source": [
    "$$\n",
    "\\begin{split}\n",
    "\\frac{\\partial}{\\partial \\mathbf{w}} e^2  \n",
    "  & = 2  e \\cdot \\frac{\\partial}{\\partial \\mathbf{w}} e \\\\\n",
    "  \\\\\n",
    "  & = 2 e \\cdot \\frac{\\partial}{\\partial \\mathbf{w}} (d - y) \\\\\n",
    "  \\\\\n",
    "  & = - 2 e \\cdot \\frac{\\partial}{\\partial \\mathbf{w}} y \\\\ \n",
    "  \\\\\n",
    "  & = - 2 e \\cdot \\frac{\\partial}{\\partial \\mathbf{w}} \\sigma \\left( w_0 + \\sum_i w_i x_i \\right) \\\\ \n",
    "\\end{split}\n",
    "$$"
   ]
  },
  {
   "cell_type": "markdown",
   "metadata": {},
   "source": [
    "Haciendo:"
   ]
  },
  {
   "cell_type": "markdown",
   "metadata": {},
   "source": [
    "$$\n",
    "s = w_0 + \\sum_i w_i x_i \n",
    "$$"
   ]
  },
  {
   "cell_type": "markdown",
   "metadata": {},
   "source": [
    "Entonces,"
   ]
  },
  {
   "cell_type": "markdown",
   "metadata": {},
   "source": [
    "$$\n",
    "\\begin{split}\n",
    "\\frac{\\partial}{\\partial \\mathbf{w}} e^2  \n",
    "  & = - 2 e \\cdot \\frac{\\partial}{\\partial \\mathbf{w}} \\sigma \\left( w_0 + \\sum_i w_i x_i \\right) \\\\ \n",
    "  \\\\\n",
    "  & = - 2 e \\cdot \\frac{\\partial}{\\partial \\mathbf{w}} \\sigma \\left( s \\right) \\\\ \n",
    "  \\\\\n",
    "  & = - 2 e \\cdot \\sigma (s)'  \\cdot \\frac{\\partial}{\\partial \\mathbf{w}} s \\\\   \n",
    "  \\\\\n",
    "  & = - 2 e  \\cdot \\sigma (s)'  \\cdot \\mathbf{x} \\\\   \n",
    "\\end{split}\n",
    "$$"
   ]
  },
  {
   "cell_type": "markdown",
   "metadata": {},
   "source": [
    "### Gradiente descendente"
   ]
  },
  {
   "cell_type": "markdown",
   "metadata": {},
   "source": [
    "$$\n",
    "\\mathbf{w}_{k+1} = \\mathbf{w}_k - \\mu \\frac{\\partial}{\\partial\\mathbf{w}} \\left[ e^2_k\\right] =\n",
    "\\mathbf{w}_k + 2 \\mu \\cdot e_k \\cdot \\sigma' \\left(s_k \\right) \\mathbf{x}_k\n",
    "$$"
   ]
  },
  {
   "cell_type": "markdown",
   "metadata": {},
   "source": [
    "### Derivadas de la función de activación\n",
    "\n",
    "Las derivadas de la función de activación son las siguientes\n",
    "\n",
    "* Para la función logistica-sigmoidea:\n",
    "\n",
    "$$\n",
    "\\sigma (u) = \\frac{1}{1+\\exp(-u)}, \\quad  \\frac{\\partial }{\\partial u} \\sigma(u)=\\sigma(u)[1-\\sigma(u)]\n",
    "$$\n",
    "\n",
    "\n",
    "* Para la función $\\tanh$:\n",
    "\n",
    "$$\n",
    "\\sigma(u) = \\tanh(u) = \\frac{\\exp(u) - \\exp(-u)}{\\exp(u) + \\exp(-u)}, \\quad \\frac{d}{du} \\sigma(u) = 1 - \\sigma(u)^2\n",
    "$$"
   ]
  },
  {
   "cell_type": "markdown",
   "metadata": {},
   "source": [
    "**Nota 1** --- Desde el punto de vista histórico, las dos ecuaciones anteriores son de singular importancia. Ello se debe a que en la década de los 80s y 90s, el poder de cómputo era muy limitado en comparación con el poder actual, y el uso de este tipo de funciones resulta computacionalmente eficiente en términos de tiempo. Ello se debe a que si se propagó la señal de entrada hacia adelante en la red neuronal para computar su salida y luego el error instantaneo, ya se conocen los valores de $\\sigma(u)$, y por lo tanto, resulta muy simple el cálculo de la derivada para corregir los pesos usando técnicas de optimización basadas en el gradiente."
   ]
  },
  {
   "cell_type": "markdown",
   "metadata": {},
   "source": [
    "**Nota 2** --- También resulta muy simple el cálculo de la derivada cuando se usa la función reLU, definida como: ```0 if x <= 0 else x```, ya que la derivada será ```0 if x<= 0 else 1```."
   ]
  },
  {
   "cell_type": "markdown",
   "metadata": {},
   "source": [
    "### Ecuación de mejora"
   ]
  },
  {
   "cell_type": "markdown",
   "metadata": {},
   "source": [
    "Para solucionar el problema se usará un perceptrón continuo que usa la función logística. La fórmula de correción de los pesos es la siguiente:\n",
    "\n",
    "$$\n",
    "\\mathbf{w}_{k+1} = \n",
    "\\mathbf{w}_k + 2 \\mu \\cdot e_k \\cdot \\sigma(u) \\cdot[1 - \\sigma(u)] \\cdot  \\mathbf{x}_k\n",
    "$$"
   ]
  },
  {
   "cell_type": "markdown",
   "metadata": {},
   "source": [
    "Nóte que esta es la misma ecuación usada en los tutoriales anteriores, excepto por la inclusión de la derivada de la función de activación (la función logística en la ecuación anterior)."
   ]
  },
  {
   "cell_type": "markdown",
   "metadata": {},
   "source": [
    "## Implementación"
   ]
  },
  {
   "cell_type": "markdown",
   "metadata": {},
   "source": [
    "El código es similar al de los libros ya estudiados, excepto por el cálculo de la derivada de la función sigmoidea."
   ]
  },
  {
   "cell_type": "code",
   "execution_count": 1,
   "metadata": {},
   "outputs": [],
   "source": [
    "import math\n",
    "\n",
    "import matplotlib.pyplot as plt\n",
    "import numpy as np\n",
    "import pandas as pd\n",
    "\n",
    "%matplotlib inline"
   ]
  },
  {
   "cell_type": "code",
   "execution_count": 2,
   "metadata": {},
   "outputs": [],
   "source": [
    "class ContinuousPerceptron:\n",
    "    def __init__(\n",
    "        self,\n",
    "        # ---------------------------------------------------------------------\n",
    "        # tasa de aprendizaje usada en el metodo de gradiente descendente\n",
    "        learning_rate=0.001,\n",
    "        # ---------------------------------------------------------------------\n",
    "        # número máximo de iteraciones sobre el set de datos\n",
    "        max_epochs=100,\n",
    "        # ---------------------------------------------------------------------\n",
    "        # mezcla patrones para aprendizaje online\n",
    "        shuffle=False,\n",
    "        # ---------------------------------------------------------------------\n",
    "        # ?batch o online\n",
    "        batch=False,\n",
    "        # ---------------------------------------------------------------------\n",
    "        # Semilla del generador de aleatorios\n",
    "        random_state=None,\n",
    "        # ---------------------------------------------------------------------\n",
    "        # ?Genera nuevos pesos aleatorios al realizar la optimización o\n",
    "        # continua con los actuales\n",
    "        warm_start=False,\n",
    "    ):  #\n",
    "\n",
    "        self.learning_rate = learning_rate\n",
    "        self.max_epochs = max_epochs\n",
    "        self.shuffle = shuffle\n",
    "        self.batch = batch\n",
    "        self.random_state = random_state\n",
    "        self.warm_start = warm_start\n",
    "        self.coef_ = None\n",
    "        self.intercept_ = None\n",
    "\n",
    "    def fit(self, X, y):\n",
    "\n",
    "        #\n",
    "        # Si los datos son listas, los convierte a NumPy\n",
    "        #\n",
    "        if not isinstance(X, np.ndarray):\n",
    "            X = np.array(X)\n",
    "        if not isinstance(y, np.ndarray):\n",
    "            d = np.array(y)\n",
    "        else:\n",
    "            d = y.copy()\n",
    "\n",
    "        #\n",
    "        # Semilla del generador de aleatorios\n",
    "        #\n",
    "        if self.random_state is not None:\n",
    "            np.random.RandomState(self.random_state)\n",
    "\n",
    "        #\n",
    "        # ?genera nuevos pesos aleatorios o continua el entrenamiento con los\n",
    "        # actuales\n",
    "        #\n",
    "        if self.coef_ is None or self.warm_start is False:\n",
    "            self.coef_ = np.random.uniform(-1, 1, X.shape[1])\n",
    "\n",
    "        if self.intercept_ is None or self.warm_start is False:\n",
    "            self.intercept_ = np.random.uniform(-1, 1, 1)\n",
    "\n",
    "        #\n",
    "        # Proceso de entrenamiento\n",
    "        #\n",
    "        history = []\n",
    "\n",
    "        if self.batch is True:\n",
    "            #\n",
    "            # Se computa el gradiente neto sobre todo el dataset y luego se\n",
    "            # corrigen los pesos\n",
    "            #\n",
    "            for epoch in range(self.max_epochs):\n",
    "                #\n",
    "                # Note que estas son las ecuaciones de la parte de arriba\n",
    "                #\n",
    "                u = np.dot(X, self.coef_) + self.intercept_\n",
    "                s = 1.0 / (1.0 + np.exp(-u))\n",
    "                e = d - s\n",
    "                self.coef_ += (\n",
    "                    2 * self.learning_rate * np.sum((X.T * e * s * (1.0 - s)).T, axis=0)\n",
    "                )\n",
    "                self.intercept_ += (\n",
    "                    2 * self.learning_rate * np.sum((e * s * (1.0 - s)).T, axis=0)\n",
    "                )\n",
    "                history.append(sum([a**2 for a in e]))\n",
    "        else:\n",
    "\n",
    "            for epoch in range(self.max_epochs):\n",
    "\n",
    "                if self.shuffle is True:\n",
    "                    #\n",
    "                    # Se mezcla aleatoriamente el conjunto de entrenamiento\n",
    "                    #\n",
    "                    n = list(range(X.shape[0]))\n",
    "                    np.random.shuffle(n)\n",
    "                    X = X[n, :]\n",
    "                    d = d[n]\n",
    "\n",
    "                for i in range(X.shape[0]):\n",
    "                    #\n",
    "                    # Para cada patrón se calcula el gradiente instantaneo y se\n",
    "                    # corrigen los pesos\n",
    "                    #\n",
    "                    u = np.dot(X[i, :], self.coef_) + self.intercept_\n",
    "                    s = 1.0 / (1.0 + np.exp(-u))\n",
    "                    e = (d[i] - s)[0]\n",
    "                    self.coef_ += 2 * self.learning_rate * e * s * (1 - s) * X[i, :]\n",
    "                    self.intercept_ += 2 * self.learning_rate * e * s * (1 - s)\n",
    "                    history.append(e**2)\n",
    "\n",
    "        return history\n",
    "\n",
    "    def predict(self, X):\n",
    "        #\n",
    "        # Pronóstico para un nuevo conjunto X\n",
    "        #\n",
    "        if not isinstance(X, np.ndarray):\n",
    "            X = np.array(X)\n",
    "        u = np.dot(X, self.coef_) + self.intercept_\n",
    "        return 1.0 / (1.0 + np.exp(-u))"
   ]
  },
  {
   "cell_type": "markdown",
   "metadata": {},
   "source": [
    "## Regresión no lineal usando perceptrones continuos"
   ]
  },
  {
   "cell_type": "markdown",
   "metadata": {},
   "source": [
    "### Dataset"
   ]
  },
  {
   "cell_type": "code",
   "execution_count": 3,
   "metadata": {},
   "outputs": [
    {
     "data": {
      "image/png": "[encoded data removed]",
      "text/plain": [
       "<Figure size 432x288 with 1 Axes>"
      ]
     },
     "metadata": {
      "needs_background": "light"
     },
     "output_type": "display_data"
    }
   ],
   "source": [
    "#\n",
    "# Generación de una muestra artificial\n",
    "#\n",
    "n_samples = 60\n",
    "np.random.seed(1234)\n",
    "X = np.random.uniform(-5, 5, n_samples)\n",
    "d = 1.0 / (1 + np.exp(-(1.0 + 1.53 * X))) + 0.05 * np.random.normal(size=n_samples)\n",
    "X = np.array([[e] for e in X])\n",
    "plt.scatter(X, d);"
   ]
  },
  {
   "cell_type": "markdown",
   "metadata": {},
   "source": [
    "### Especificación del modelo"
   ]
  },
  {
   "cell_type": "code",
   "execution_count": 4,
   "metadata": {},
   "outputs": [],
   "source": [
    "continuousPerceptron = ContinuousPerceptron(\n",
    "    learning_rate=0.05,\n",
    "    max_epochs=20,\n",
    "    shuffle=True,\n",
    "    random_state=12345,\n",
    "    batch=False,\n",
    ")"
   ]
  },
  {
   "cell_type": "markdown",
   "metadata": {},
   "source": [
    "### Entrenamiento"
   ]
  },
  {
   "cell_type": "code",
   "execution_count": 5,
   "metadata": {},
   "outputs": [
    {
     "data": {
      "image/png": "[encoded data removed]",
      "text/plain": [
       "<Figure size 432x288 with 1 Axes>"
      ]
     },
     "metadata": {
      "needs_background": "light"
     },
     "output_type": "display_data"
    }
   ],
   "source": [
    "history = continuousPerceptron.fit(X, d)\n",
    "plt.plot(history);"
   ]
  },
  {
   "cell_type": "markdown",
   "metadata": {},
   "source": [
    "### Pronóstico"
   ]
  },
  {
   "cell_type": "code",
   "execution_count": 6,
   "metadata": {},
   "outputs": [
    {
     "data": {
      "image/png": "[encoded data removed]",
      "text/plain": [
       "<Figure size 432x288 with 1 Axes>"
      ]
     },
     "metadata": {
      "needs_background": "light"
     },
     "output_type": "display_data"
    }
   ],
   "source": [
    "plt.plot(X, d, \"o\")\n",
    "X_pred = np.linspace(start=-5, stop=5, num=50)\n",
    "X_pred = [[x] for x in X_pred]\n",
    "y = continuousPerceptron.predict(X_pred) # <--- aca se realiza el pronostico\n",
    "plt.plot(X_pred, y, \"-\", linewidth=4);"
   ]
  }
 ],
 "metadata": {
  "kernelspec": {
   "display_name": "Python 3 (ipykernel)",
   "language": "python",
   "name": "python3"
  },
  "language_info": {
   "codemirror_mode": {
    "name": "ipython",
    "version": 3
   },
   "file_extension": ".py",
   "mimetype": "text/x-python",
   "name": "python",
   "nbconvert_exporter": "python",
   "pygments_lexer": "ipython3",
   "version": "3.9.10"
  }
 },
 "nbformat": 4,
 "nbformat_minor": 4
}
