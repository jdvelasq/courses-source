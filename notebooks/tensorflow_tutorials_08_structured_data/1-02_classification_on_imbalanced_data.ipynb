{
 "cells": [
  {
   "cell_type": "markdown",
   "metadata": {
    "tags": []
   },
   "source": [
    "Clasificación con datos imbalanceados --- 0:00 min\n",
    "===\n",
    "\n",
    "* Última modificación: Marzo 7, 2022 | YouTube"
   ]
  },
  {
   "cell_type": "markdown",
   "metadata": {
    "tags": []
   },
   "source": [
    "Importación de librerías\n",
    "---"
   ]
  },
  {
   "cell_type": "code",
   "execution_count": 12,
   "metadata": {},
   "outputs": [
    {
     "data": {
      "text/plain": [
       "'2.8.0'"
      ]
     },
     "execution_count": 12,
     "metadata": {},
     "output_type": "execute_result"
    }
   ],
   "source": [
    "import os\n",
    "\n",
    "os.environ[\"TF_CPP_MIN_LOG_LEVEL\"] = \"2\"\n",
    "\n",
    "import tensorflow as tf\n",
    "\n",
    "tf.__version__"
   ]
  },
  {
   "cell_type": "code",
   "execution_count": 34,
   "metadata": {},
   "outputs": [],
   "source": [
    "import matplotlib as mpl\n",
    "\n",
    "mpl.rcParams[\"figure.figsize\"] = (12, 10)\n",
    "colors = plt.rcParams[\"axes.prop_cycle\"].by_key()[\"color\"]"
   ]
  },
  {
   "cell_type": "markdown",
   "metadata": {},
   "source": [
    "Preprocesamiento y exploración de datos\n",
    "--"
   ]
  },
  {
   "cell_type": "markdown",
   "metadata": {},
   "source": [
    "**Descarga**"
   ]
  },
  {
   "cell_type": "code",
   "execution_count": 2,
   "metadata": {
    "id": "pR_SnbMArXr7"
   },
   "outputs": [
    {
     "data": {
      "text/html": [
       "<div>\n",
       "<style scoped>\n",
       "    .dataframe tbody tr th:only-of-type {\n",
       "        vertical-align: middle;\n",
       "    }\n",
       "\n",
       "    .dataframe tbody tr th {\n",
       "        vertical-align: top;\n",
       "    }\n",
       "\n",
       "    .dataframe thead th {\n",
       "        text-align: right;\n",
       "    }\n",
       "</style>\n",
       "<table border=\"1\" class=\"dataframe\">\n",
       "  <thead>\n",
       "    <tr style=\"text-align: right;\">\n",
       "      <th></th>\n",
       "      <th>Time</th>\n",
       "      <th>V1</th>\n",
       "      <th>V2</th>\n",
       "      <th>V3</th>\n",
       "      <th>V4</th>\n",
       "      <th>V5</th>\n",
       "      <th>V6</th>\n",
       "      <th>V7</th>\n",
       "      <th>V8</th>\n",
       "      <th>V9</th>\n",
       "      <th>...</th>\n",
       "      <th>V21</th>\n",
       "      <th>V22</th>\n",
       "      <th>V23</th>\n",
       "      <th>V24</th>\n",
       "      <th>V25</th>\n",
       "      <th>V26</th>\n",
       "      <th>V27</th>\n",
       "      <th>V28</th>\n",
       "      <th>Amount</th>\n",
       "      <th>Class</th>\n",
       "    </tr>\n",
       "  </thead>\n",
       "  <tbody>\n",
       "    <tr>\n",
       "      <th>0</th>\n",
       "      <td>0.0</td>\n",
       "      <td>-1.359807</td>\n",
       "      <td>-0.072781</td>\n",
       "      <td>2.536347</td>\n",
       "      <td>1.378155</td>\n",
       "      <td>-0.338321</td>\n",
       "      <td>0.462388</td>\n",
       "      <td>0.239599</td>\n",
       "      <td>0.098698</td>\n",
       "      <td>0.363787</td>\n",
       "      <td>...</td>\n",
       "      <td>-0.018307</td>\n",
       "      <td>0.277838</td>\n",
       "      <td>-0.110474</td>\n",
       "      <td>0.066928</td>\n",
       "      <td>0.128539</td>\n",
       "      <td>-0.189115</td>\n",
       "      <td>0.133558</td>\n",
       "      <td>-0.021053</td>\n",
       "      <td>149.62</td>\n",
       "      <td>0</td>\n",
       "    </tr>\n",
       "    <tr>\n",
       "      <th>1</th>\n",
       "      <td>0.0</td>\n",
       "      <td>1.191857</td>\n",
       "      <td>0.266151</td>\n",
       "      <td>0.166480</td>\n",
       "      <td>0.448154</td>\n",
       "      <td>0.060018</td>\n",
       "      <td>-0.082361</td>\n",
       "      <td>-0.078803</td>\n",
       "      <td>0.085102</td>\n",
       "      <td>-0.255425</td>\n",
       "      <td>...</td>\n",
       "      <td>-0.225775</td>\n",
       "      <td>-0.638672</td>\n",
       "      <td>0.101288</td>\n",
       "      <td>-0.339846</td>\n",
       "      <td>0.167170</td>\n",
       "      <td>0.125895</td>\n",
       "      <td>-0.008983</td>\n",
       "      <td>0.014724</td>\n",
       "      <td>2.69</td>\n",
       "      <td>0</td>\n",
       "    </tr>\n",
       "    <tr>\n",
       "      <th>2</th>\n",
       "      <td>1.0</td>\n",
       "      <td>-1.358354</td>\n",
       "      <td>-1.340163</td>\n",
       "      <td>1.773209</td>\n",
       "      <td>0.379780</td>\n",
       "      <td>-0.503198</td>\n",
       "      <td>1.800499</td>\n",
       "      <td>0.791461</td>\n",
       "      <td>0.247676</td>\n",
       "      <td>-1.514654</td>\n",
       "      <td>...</td>\n",
       "      <td>0.247998</td>\n",
       "      <td>0.771679</td>\n",
       "      <td>0.909412</td>\n",
       "      <td>-0.689281</td>\n",
       "      <td>-0.327642</td>\n",
       "      <td>-0.139097</td>\n",
       "      <td>-0.055353</td>\n",
       "      <td>-0.059752</td>\n",
       "      <td>378.66</td>\n",
       "      <td>0</td>\n",
       "    </tr>\n",
       "    <tr>\n",
       "      <th>3</th>\n",
       "      <td>1.0</td>\n",
       "      <td>-0.966272</td>\n",
       "      <td>-0.185226</td>\n",
       "      <td>1.792993</td>\n",
       "      <td>-0.863291</td>\n",
       "      <td>-0.010309</td>\n",
       "      <td>1.247203</td>\n",
       "      <td>0.237609</td>\n",
       "      <td>0.377436</td>\n",
       "      <td>-1.387024</td>\n",
       "      <td>...</td>\n",
       "      <td>-0.108300</td>\n",
       "      <td>0.005274</td>\n",
       "      <td>-0.190321</td>\n",
       "      <td>-1.175575</td>\n",
       "      <td>0.647376</td>\n",
       "      <td>-0.221929</td>\n",
       "      <td>0.062723</td>\n",
       "      <td>0.061458</td>\n",
       "      <td>123.50</td>\n",
       "      <td>0</td>\n",
       "    </tr>\n",
       "    <tr>\n",
       "      <th>4</th>\n",
       "      <td>2.0</td>\n",
       "      <td>-1.158233</td>\n",
       "      <td>0.877737</td>\n",
       "      <td>1.548718</td>\n",
       "      <td>0.403034</td>\n",
       "      <td>-0.407193</td>\n",
       "      <td>0.095921</td>\n",
       "      <td>0.592941</td>\n",
       "      <td>-0.270533</td>\n",
       "      <td>0.817739</td>\n",
       "      <td>...</td>\n",
       "      <td>-0.009431</td>\n",
       "      <td>0.798278</td>\n",
       "      <td>-0.137458</td>\n",
       "      <td>0.141267</td>\n",
       "      <td>-0.206010</td>\n",
       "      <td>0.502292</td>\n",
       "      <td>0.219422</td>\n",
       "      <td>0.215153</td>\n",
       "      <td>69.99</td>\n",
       "      <td>0</td>\n",
       "    </tr>\n",
       "  </tbody>\n",
       "</table>\n",
       "<p>5 rows × 31 columns</p>\n",
       "</div>"
      ],
      "text/plain": [
       "   Time        V1        V2        V3        V4        V5        V6        V7  \\\n",
       "0   0.0 -1.359807 -0.072781  2.536347  1.378155 -0.338321  0.462388  0.239599   \n",
       "1   0.0  1.191857  0.266151  0.166480  0.448154  0.060018 -0.082361 -0.078803   \n",
       "2   1.0 -1.358354 -1.340163  1.773209  0.379780 -0.503198  1.800499  0.791461   \n",
       "3   1.0 -0.966272 -0.185226  1.792993 -0.863291 -0.010309  1.247203  0.237609   \n",
       "4   2.0 -1.158233  0.877737  1.548718  0.403034 -0.407193  0.095921  0.592941   \n",
       "\n",
       "         V8        V9  ...       V21       V22       V23       V24       V25  \\\n",
       "0  0.098698  0.363787  ... -0.018307  0.277838 -0.110474  0.066928  0.128539   \n",
       "1  0.085102 -0.255425  ... -0.225775 -0.638672  0.101288 -0.339846  0.167170   \n",
       "2  0.247676 -1.514654  ...  0.247998  0.771679  0.909412 -0.689281 -0.327642   \n",
       "3  0.377436 -1.387024  ... -0.108300  0.005274 -0.190321 -1.175575  0.647376   \n",
       "4 -0.270533  0.817739  ... -0.009431  0.798278 -0.137458  0.141267 -0.206010   \n",
       "\n",
       "        V26       V27       V28  Amount  Class  \n",
       "0 -0.189115  0.133558 -0.021053  149.62      0  \n",
       "1  0.125895 -0.008983  0.014724    2.69      0  \n",
       "2 -0.139097 -0.055353 -0.059752  378.66      0  \n",
       "3 -0.221929  0.062723  0.061458  123.50      0  \n",
       "4  0.502292  0.219422  0.215153   69.99      0  \n",
       "\n",
       "[5 rows x 31 columns]"
      ]
     },
     "execution_count": 2,
     "metadata": {},
     "output_type": "execute_result"
    }
   ],
   "source": [
    "import pandas as pd\n",
    "\n",
    "raw_df = pd.read_csv(\n",
    "    \"https://storage.googleapis.com/download.tensorflow.org/data/creditcard.csv\"\n",
    ")\n",
    "raw_df.head()"
   ]
  },
  {
   "cell_type": "code",
   "execution_count": 3,
   "metadata": {
    "id": "-fgdQgmwUFuj"
   },
   "outputs": [
    {
     "data": {
      "text/html": [
       "<div>\n",
       "<style scoped>\n",
       "    .dataframe tbody tr th:only-of-type {\n",
       "        vertical-align: middle;\n",
       "    }\n",
       "\n",
       "    .dataframe tbody tr th {\n",
       "        vertical-align: top;\n",
       "    }\n",
       "\n",
       "    .dataframe thead th {\n",
       "        text-align: right;\n",
       "    }\n",
       "</style>\n",
       "<table border=\"1\" class=\"dataframe\">\n",
       "  <thead>\n",
       "    <tr style=\"text-align: right;\">\n",
       "      <th></th>\n",
       "      <th>Time</th>\n",
       "      <th>V1</th>\n",
       "      <th>V2</th>\n",
       "      <th>V3</th>\n",
       "      <th>V4</th>\n",
       "      <th>V5</th>\n",
       "      <th>V26</th>\n",
       "      <th>V27</th>\n",
       "      <th>V28</th>\n",
       "      <th>Amount</th>\n",
       "      <th>Class</th>\n",
       "    </tr>\n",
       "  </thead>\n",
       "  <tbody>\n",
       "    <tr>\n",
       "      <th>count</th>\n",
       "      <td>284807.000000</td>\n",
       "      <td>2.848070e+05</td>\n",
       "      <td>2.848070e+05</td>\n",
       "      <td>2.848070e+05</td>\n",
       "      <td>2.848070e+05</td>\n",
       "      <td>2.848070e+05</td>\n",
       "      <td>2.848070e+05</td>\n",
       "      <td>2.848070e+05</td>\n",
       "      <td>2.848070e+05</td>\n",
       "      <td>284807.000000</td>\n",
       "      <td>284807.000000</td>\n",
       "    </tr>\n",
       "    <tr>\n",
       "      <th>mean</th>\n",
       "      <td>94813.859575</td>\n",
       "      <td>1.168375e-15</td>\n",
       "      <td>3.416908e-16</td>\n",
       "      <td>-1.379537e-15</td>\n",
       "      <td>2.074095e-15</td>\n",
       "      <td>9.604066e-16</td>\n",
       "      <td>1.683437e-15</td>\n",
       "      <td>-3.660091e-16</td>\n",
       "      <td>-1.227390e-16</td>\n",
       "      <td>88.349619</td>\n",
       "      <td>0.001727</td>\n",
       "    </tr>\n",
       "    <tr>\n",
       "      <th>std</th>\n",
       "      <td>47488.145955</td>\n",
       "      <td>1.958696e+00</td>\n",
       "      <td>1.651309e+00</td>\n",
       "      <td>1.516255e+00</td>\n",
       "      <td>1.415869e+00</td>\n",
       "      <td>1.380247e+00</td>\n",
       "      <td>4.822270e-01</td>\n",
       "      <td>4.036325e-01</td>\n",
       "      <td>3.300833e-01</td>\n",
       "      <td>250.120109</td>\n",
       "      <td>0.041527</td>\n",
       "    </tr>\n",
       "    <tr>\n",
       "      <th>min</th>\n",
       "      <td>0.000000</td>\n",
       "      <td>-5.640751e+01</td>\n",
       "      <td>-7.271573e+01</td>\n",
       "      <td>-4.832559e+01</td>\n",
       "      <td>-5.683171e+00</td>\n",
       "      <td>-1.137433e+02</td>\n",
       "      <td>-2.604551e+00</td>\n",
       "      <td>-2.256568e+01</td>\n",
       "      <td>-1.543008e+01</td>\n",
       "      <td>0.000000</td>\n",
       "      <td>0.000000</td>\n",
       "    </tr>\n",
       "    <tr>\n",
       "      <th>25%</th>\n",
       "      <td>54201.500000</td>\n",
       "      <td>-9.203734e-01</td>\n",
       "      <td>-5.985499e-01</td>\n",
       "      <td>-8.903648e-01</td>\n",
       "      <td>-8.486401e-01</td>\n",
       "      <td>-6.915971e-01</td>\n",
       "      <td>-3.269839e-01</td>\n",
       "      <td>-7.083953e-02</td>\n",
       "      <td>-5.295979e-02</td>\n",
       "      <td>5.600000</td>\n",
       "      <td>0.000000</td>\n",
       "    </tr>\n",
       "    <tr>\n",
       "      <th>50%</th>\n",
       "      <td>84692.000000</td>\n",
       "      <td>1.810880e-02</td>\n",
       "      <td>6.548556e-02</td>\n",
       "      <td>1.798463e-01</td>\n",
       "      <td>-1.984653e-02</td>\n",
       "      <td>-5.433583e-02</td>\n",
       "      <td>-5.213911e-02</td>\n",
       "      <td>1.342146e-03</td>\n",
       "      <td>1.124383e-02</td>\n",
       "      <td>22.000000</td>\n",
       "      <td>0.000000</td>\n",
       "    </tr>\n",
       "    <tr>\n",
       "      <th>75%</th>\n",
       "      <td>139320.500000</td>\n",
       "      <td>1.315642e+00</td>\n",
       "      <td>8.037239e-01</td>\n",
       "      <td>1.027196e+00</td>\n",
       "      <td>7.433413e-01</td>\n",
       "      <td>6.119264e-01</td>\n",
       "      <td>2.409522e-01</td>\n",
       "      <td>9.104512e-02</td>\n",
       "      <td>7.827995e-02</td>\n",
       "      <td>77.165000</td>\n",
       "      <td>0.000000</td>\n",
       "    </tr>\n",
       "    <tr>\n",
       "      <th>max</th>\n",
       "      <td>172792.000000</td>\n",
       "      <td>2.454930e+00</td>\n",
       "      <td>2.205773e+01</td>\n",
       "      <td>9.382558e+00</td>\n",
       "      <td>1.687534e+01</td>\n",
       "      <td>3.480167e+01</td>\n",
       "      <td>3.517346e+00</td>\n",
       "      <td>3.161220e+01</td>\n",
       "      <td>3.384781e+01</td>\n",
       "      <td>25691.160000</td>\n",
       "      <td>1.000000</td>\n",
       "    </tr>\n",
       "  </tbody>\n",
       "</table>\n",
       "</div>"
      ],
      "text/plain": [
       "                Time            V1            V2            V3            V4  \\\n",
       "count  284807.000000  2.848070e+05  2.848070e+05  2.848070e+05  2.848070e+05   \n",
       "mean    94813.859575  1.168375e-15  3.416908e-16 -1.379537e-15  2.074095e-15   \n",
       "std     47488.145955  1.958696e+00  1.651309e+00  1.516255e+00  1.415869e+00   \n",
       "min         0.000000 -5.640751e+01 -7.271573e+01 -4.832559e+01 -5.683171e+00   \n",
       "25%     54201.500000 -9.203734e-01 -5.985499e-01 -8.903648e-01 -8.486401e-01   \n",
       "50%     84692.000000  1.810880e-02  6.548556e-02  1.798463e-01 -1.984653e-02   \n",
       "75%    139320.500000  1.315642e+00  8.037239e-01  1.027196e+00  7.433413e-01   \n",
       "max    172792.000000  2.454930e+00  2.205773e+01  9.382558e+00  1.687534e+01   \n",
       "\n",
       "                 V5           V26           V27           V28         Amount  \\\n",
       "count  2.848070e+05  2.848070e+05  2.848070e+05  2.848070e+05  284807.000000   \n",
       "mean   9.604066e-16  1.683437e-15 -3.660091e-16 -1.227390e-16      88.349619   \n",
       "std    1.380247e+00  4.822270e-01  4.036325e-01  3.300833e-01     250.120109   \n",
       "min   -1.137433e+02 -2.604551e+00 -2.256568e+01 -1.543008e+01       0.000000   \n",
       "25%   -6.915971e-01 -3.269839e-01 -7.083953e-02 -5.295979e-02       5.600000   \n",
       "50%   -5.433583e-02 -5.213911e-02  1.342146e-03  1.124383e-02      22.000000   \n",
       "75%    6.119264e-01  2.409522e-01  9.104512e-02  7.827995e-02      77.165000   \n",
       "max    3.480167e+01  3.517346e+00  3.161220e+01  3.384781e+01   25691.160000   \n",
       "\n",
       "               Class  \n",
       "count  284807.000000  \n",
       "mean        0.001727  \n",
       "std         0.041527  \n",
       "min         0.000000  \n",
       "25%         0.000000  \n",
       "50%         0.000000  \n",
       "75%         0.000000  \n",
       "max         1.000000  "
      ]
     },
     "execution_count": 3,
     "metadata": {},
     "output_type": "execute_result"
    }
   ],
   "source": [
    "raw_df[\n",
    "    [\"Time\", \"V1\", \"V2\", \"V3\", \"V4\", \"V5\", \"V26\", \"V27\", \"V28\", \"Amount\", \"Class\"]\n",
    "].describe()"
   ]
  },
  {
   "cell_type": "markdown",
   "metadata": {},
   "source": [
    "**Conteo por clase**"
   ]
  },
  {
   "cell_type": "code",
   "execution_count": 4,
   "metadata": {},
   "outputs": [
    {
     "data": {
      "text/plain": [
       "0    284315\n",
       "1       492\n",
       "Name: Class, dtype: int64"
      ]
     },
     "execution_count": 4,
     "metadata": {},
     "output_type": "execute_result"
    }
   ],
   "source": [
    "raw_df[\"Class\"].value_counts()"
   ]
  },
  {
   "cell_type": "code",
   "execution_count": 6,
   "metadata": {
    "id": "HCJFrtuY2iLF"
   },
   "outputs": [
    {
     "name": "stdout",
     "output_type": "stream",
     "text": [
      "Examples:\n",
      "    Total: 284807\n",
      "    Positive: 492 (0.17% of total)\n",
      "\n"
     ]
    }
   ],
   "source": [
    "import numpy as np\n",
    "\n",
    "neg, pos = np.bincount(raw_df[\"Class\"])\n",
    "total = neg + pos\n",
    "print(\n",
    "    \"Examples:\\n    Total: {}\\n    Positive: {} ({:.2f}% of total)\\n\".format(\n",
    "        total, pos, 100 * pos / total\n",
    "    )\n",
    ")"
   ]
  },
  {
   "cell_type": "markdown",
   "metadata": {},
   "source": [
    "**Limpieza, particionamiento y normalización de los datos**"
   ]
  },
  {
   "cell_type": "code",
   "execution_count": 7,
   "metadata": {
    "id": "Ef42jTuxEjnj"
   },
   "outputs": [],
   "source": [
    "cleaned_df = raw_df.copy()\n",
    "cleaned_df.pop(\"Time\")\n",
    "\n",
    "eps = 0.001\n",
    "cleaned_df[\"Log Ammount\"] = np.log(cleaned_df.pop(\"Amount\") + eps)"
   ]
  },
  {
   "cell_type": "code",
   "execution_count": 8,
   "metadata": {
    "id": "xfxhKg7Yr1-b"
   },
   "outputs": [],
   "source": [
    "from sklearn.model_selection import train_test_split\n",
    "\n",
    "train_df, test_df = train_test_split(\n",
    "    cleaned_df,\n",
    "    test_size=0.2,\n",
    ")\n",
    "\n",
    "train_df, val_df = train_test_split(\n",
    "    train_df,\n",
    "    test_size=0.2,\n",
    ")\n",
    "\n",
    "train_labels = np.array(train_df.pop(\"Class\"))\n",
    "bool_train_labels = train_labels != 0\n",
    "\n",
    "val_labels = np.array(val_df.pop(\"Class\"))\n",
    "test_labels = np.array(test_df.pop(\"Class\"))\n",
    "\n",
    "train_features = np.array(train_df)\n",
    "val_features = np.array(val_df)\n",
    "\n",
    "test_features = np.array(test_df)"
   ]
  },
  {
   "cell_type": "code",
   "execution_count": 9,
   "metadata": {
    "id": "IO-qEUmJ5JQg"
   },
   "outputs": [
    {
     "name": "stdout",
     "output_type": "stream",
     "text": [
      "Training labels shape: (182276,)\n",
      "Validation labels shape: (45569,)\n",
      "Test labels shape: (56962,)\n",
      "Training features shape: (182276, 29)\n",
      "Validation features shape: (45569, 29)\n",
      "Test features shape: (56962, 29)\n"
     ]
    }
   ],
   "source": [
    "from sklearn.preprocessing import StandardScaler\n",
    "\n",
    "scaler = StandardScaler()\n",
    "train_features = scaler.fit_transform(train_features)\n",
    "\n",
    "val_features = scaler.transform(val_features)\n",
    "test_features = scaler.transform(test_features)\n",
    "\n",
    "train_features = np.clip(train_features, -5, 5)\n",
    "val_features = np.clip(val_features, -5, 5)\n",
    "test_features = np.clip(test_features, -5, 5)\n",
    "\n",
    "\n",
    "print(\"Training labels shape:\", train_labels.shape)\n",
    "print(\"Validation labels shape:\", val_labels.shape)\n",
    "print(\"Test labels shape:\", test_labels.shape)\n",
    "print()\n",
    "print(\"Training features shape:\", train_features.shape)\n",
    "print(\"Validation features shape:\", val_features.shape)\n",
    "print(\"Test features shape:\", test_features.shape)"
   ]
  },
  {
   "cell_type": "markdown",
   "metadata": {},
   "source": [
    "**Distribución de los datos**"
   ]
  },
  {
   "cell_type": "code",
   "execution_count": 10,
   "metadata": {
    "id": "raK7hyjd_vf6"
   },
   "outputs": [
    {
     "data": {
      "image/png": "[encoded data removed]",
      "text/plain": [
       "<Figure size 432x432 with 3 Axes>"
      ]
     },
     "metadata": {
      "needs_background": "light"
     },
     "output_type": "display_data"
    },
    {
     "data": {
      "image/png": "[encoded data removed]",
      "text/plain": [
       "<Figure size 432x432 with 3 Axes>"
      ]
     },
     "metadata": {
      "needs_background": "light"
     },
     "output_type": "display_data"
    }
   ],
   "source": [
    "import matplotlib.pyplot as plt\n",
    "import seaborn as sns\n",
    "\n",
    "pos_df = pd.DataFrame(\n",
    "    train_features[bool_train_labels],\n",
    "    columns=train_df.columns,\n",
    ")\n",
    "neg_df = pd.DataFrame(\n",
    "    train_features[~bool_train_labels],\n",
    "    columns=train_df.columns,\n",
    ")\n",
    "\n",
    "sns.jointplot(\n",
    "    x=pos_df[\"V5\"],\n",
    "    y=pos_df[\"V6\"],\n",
    "    kind=\"hex\",\n",
    "    xlim=(-5, 5),\n",
    "    ylim=(-5, 5),\n",
    ")\n",
    "plt.suptitle(\"Positive distribution\")\n",
    "\n",
    "sns.jointplot(\n",
    "    x=neg_df[\"V5\"],\n",
    "    y=neg_df[\"V6\"],\n",
    "    kind=\"hex\",\n",
    "    xlim=(-5, 5),\n",
    "    ylim=(-5, 5),\n",
    ")\n",
    "_ = plt.suptitle(\"Negative distribution\")"
   ]
  },
  {
   "cell_type": "markdown",
   "metadata": {},
   "source": [
    "Definición del modelo y métricas\n",
    "---"
   ]
  },
  {
   "cell_type": "code",
   "execution_count": 16,
   "metadata": {
    "id": "3JQDzUqT3UYG"
   },
   "outputs": [],
   "source": [
    "METRICS = [\n",
    "    tf.keras.metrics.TruePositives(name=\"tp\"),\n",
    "    tf.keras.metrics.FalsePositives(name=\"fp\"),\n",
    "    tf.keras.metrics.TrueNegatives(name=\"tn\"),\n",
    "    tf.keras.metrics.FalseNegatives(name=\"fn\"),\n",
    "    tf.keras.metrics.BinaryAccuracy(name=\"accuracy\"),\n",
    "    tf.keras.metrics.Precision(name=\"precision\"),\n",
    "    tf.keras.metrics.Recall(name=\"recall\"),\n",
    "    tf.keras.metrics.AUC(name=\"auc\"),\n",
    "    tf.keras.metrics.AUC(name=\"prc\", curve=\"PR\"),\n",
    "]\n",
    "\n",
    "\n",
    "def make_model(metrics=METRICS, output_bias=None):\n",
    "\n",
    "    if output_bias is not None:\n",
    "        output_bias = tf.keras.initializers.Constant(output_bias)\n",
    "\n",
    "    model = tf.keras.Sequential(\n",
    "        [\n",
    "            tf.keras.layers.Dense(\n",
    "                16,\n",
    "                activation=\"relu\",\n",
    "                input_shape=(train_features.shape[-1],),\n",
    "            ),\n",
    "            tf.keras.layers.Dropout(0.5),\n",
    "            tf.keras.layers.Dense(\n",
    "                1,\n",
    "                activation=\"sigmoid\",\n",
    "                bias_initializer=output_bias,\n",
    "            ),\n",
    "        ]\n",
    "    )\n",
    "\n",
    "    model.compile(\n",
    "        optimizer=tf.keras.optimizers.Adam(\n",
    "            learning_rate=1e-3,\n",
    "        ),\n",
    "        loss=tf.keras.losses.BinaryCrossentropy(),\n",
    "        metrics=metrics,\n",
    "    )\n",
    "\n",
    "    return model"
   ]
  },
  {
   "cell_type": "markdown",
   "metadata": {},
   "source": [
    "Modelo base\n",
    "---"
   ]
  },
  {
   "cell_type": "markdown",
   "metadata": {},
   "source": [
    "**Especificación del modelo**"
   ]
  },
  {
   "cell_type": "code",
   "execution_count": 17,
   "metadata": {
    "id": "ouUkwPcGQsy3"
   },
   "outputs": [],
   "source": [
    "EPOCHS = 100\n",
    "BATCH_SIZE = 2048\n",
    "\n",
    "early_stopping = tf.keras.callbacks.EarlyStopping(\n",
    "    monitor=\"val_prc\",\n",
    "    verbose=1,\n",
    "    patience=10,\n",
    "    mode=\"max\",\n",
    "    restore_best_weights=True,\n",
    ")"
   ]
  },
  {
   "cell_type": "code",
   "execution_count": 18,
   "metadata": {
    "id": "1xlR_dekzw7C"
   },
   "outputs": [
    {
     "name": "stdout",
     "output_type": "stream",
     "text": [
      "Model: \"sequential_1\"\n",
      "_________________________________________________________________\n",
      " Layer (type)                Output Shape              Param #   \n",
      "=================================================================\n",
      " dense_2 (Dense)             (None, 16)                480       \n",
      "                                                                 \n",
      " dropout_1 (Dropout)         (None, 16)                0         \n",
      "                                                                 \n",
      " dense_3 (Dense)             (None, 1)                 17        \n",
      "                                                                 \n",
      "=================================================================\n",
      "Total params: 497\n",
      "Trainable params: 497\n",
      "Non-trainable params: 0\n",
      "_________________________________________________________________\n"
     ]
    }
   ],
   "source": [
    "model = make_model()\n",
    "model.summary()"
   ]
  },
  {
   "cell_type": "code",
   "execution_count": 20,
   "metadata": {
    "id": "LopSd-yQqO3a"
   },
   "outputs": [
    {
     "data": {
      "text/plain": [
       "array([[0.92726827],\n",
       "       [0.7600892 ],\n",
       "       [0.637135  ],\n",
       "       [0.72065616],\n",
       "       [0.9366363 ],\n",
       "       [0.64589524],\n",
       "       [0.8285974 ],\n",
       "       [0.68659854],\n",
       "       [0.95712185],\n",
       "       [0.78084993]], dtype=float32)"
      ]
     },
     "execution_count": 20,
     "metadata": {},
     "output_type": "execute_result"
    }
   ],
   "source": [
    "model.predict(train_features[:10])"
   ]
  },
  {
   "cell_type": "markdown",
   "metadata": {
    "tags": []
   },
   "source": [
    "**Bias inicial**"
   ]
  },
  {
   "cell_type": "code",
   "execution_count": 21,
   "metadata": {
    "id": "H-oPqh3SoGXk"
   },
   "outputs": [
    {
     "name": "stdout",
     "output_type": "stream",
     "text": [
      "Loss: 1.4742\n"
     ]
    }
   ],
   "source": [
    "results = model.evaluate(train_features, train_labels, batch_size=BATCH_SIZE, verbose=0)\n",
    "print(\"Loss: {:0.4f}\".format(results[0]))"
   ]
  },
  {
   "cell_type": "markdown",
   "metadata": {
    "id": "hE-JRzfKqfhB"
   },
   "source": [
    "$$ p_0 = pos/(pos + neg) = 1/(1+e^{-b_0}) $$\n",
    "$$ b_0 = -log_e(1/p_0 - 1) $$\n",
    "$$ b_0 = log_e(pos/neg)$$"
   ]
  },
  {
   "cell_type": "code",
   "execution_count": 22,
   "metadata": {
    "id": "F5KWPSjjstUS"
   },
   "outputs": [
    {
     "data": {
      "text/plain": [
       "array([-6.35935934])"
      ]
     },
     "execution_count": 22,
     "metadata": {},
     "output_type": "execute_result"
    }
   ],
   "source": [
    "initial_bias = np.log([pos / neg])\n",
    "initial_bias"
   ]
  },
  {
   "cell_type": "code",
   "execution_count": 23,
   "metadata": {
    "id": "50oyu1uss0i-"
   },
   "outputs": [
    {
     "data": {
      "text/plain": [
       "array([[0.00348756],\n",
       "       [0.00819331],\n",
       "       [0.00083524],\n",
       "       [0.01507092],\n",
       "       [0.00331992],\n",
       "       [0.00200653],\n",
       "       [0.00271955],\n",
       "       [0.0022147 ],\n",
       "       [0.00216374],\n",
       "       [0.00082248]], dtype=float32)"
      ]
     },
     "execution_count": 23,
     "metadata": {},
     "output_type": "execute_result"
    }
   ],
   "source": [
    "model = make_model(output_bias=initial_bias)\n",
    "model.predict(train_features[:10])"
   ]
  },
  {
   "cell_type": "code",
   "execution_count": 24,
   "metadata": {
    "id": "xVDqCWXDqHSc"
   },
   "outputs": [
    {
     "name": "stdout",
     "output_type": "stream",
     "text": [
      "Loss: 0.0140\n"
     ]
    }
   ],
   "source": [
    "results = model.evaluate(train_features, train_labels, batch_size=BATCH_SIZE, verbose=0)\n",
    "print(\"Loss: {:0.4f}\".format(results[0]))"
   ]
  },
  {
   "cell_type": "markdown",
   "metadata": {},
   "source": [
    "**Almacenamiento de los pesos iniciales**"
   ]
  },
  {
   "cell_type": "code",
   "execution_count": 27,
   "metadata": {
    "id": "_tSUm4yAVIif"
   },
   "outputs": [],
   "source": [
    "import tempfile\n",
    "\n",
    "initial_weights = os.path.join(tempfile.mkdtemp(), \"initial_weights\")\n",
    "model.save_weights(initial_weights)"
   ]
  },
  {
   "cell_type": "markdown",
   "metadata": {},
   "source": [
    "**Chequeo del ajuste del bias**"
   ]
  },
  {
   "cell_type": "markdown",
   "metadata": {
    "id": "SU0GX6E6mieP"
   },
   "source": [
    "### Understanding useful metrics\n",
    "\n",
    "Notice that there are a few metrics defined above that can be computed by the model that will be helpful when evaluating the performance.\n",
    "\n",
    "\n",
    "\n",
    "*   **False** negatives and **false** positives are samples that were **incorrectly** classified\n",
    "*   **True** negatives and **true** positives are samples that were **correctly** classified\n",
    "*   **Accuracy** is the percentage of examples correctly classified\n",
    ">   $\\frac{\\text{true samples}}{\\text{total samples}}$\n",
    "*   **Precision** is the percentage of **predicted** positives that were correctly classified\n",
    ">   $\\frac{\\text{true positives}}{\\text{true positives + false positives}}$\n",
    "*   **Recall** is the percentage of **actual** positives that were correctly classified\n",
    ">   $\\frac{\\text{true positives}}{\\text{true positives + false negatives}}$\n",
    "*   **AUC** refers to the Area Under the Curve of a Receiver Operating Characteristic curve (ROC-AUC). This metric is equal to the probability that a classifier will rank a random positive sample higher than a random negative sample.\n",
    "*   **AUPRC** refers to Area Under the Curve of the Precision-Recall Curve. This metric computes precision-recall pairs for different probability thresholds. \n",
    "\n",
    "Note: Accuracy is not a helpful metric for this task. You can have 99.8%+ accuracy on this task by predicting False all the time.  \n",
    "\n",
    "Read more:\n",
    "*  [True vs. False and Positive vs. Negative](https://developers.google.com/machine-learning/crash-course/classification/true-false-positive-negative)\n",
    "*  [Accuracy](https://developers.google.com/machine-learning/crash-course/classification/accuracy)\n",
    "*   [Precision and Recall](https://developers.google.com/machine-learning/crash-course/classification/precision-and-recall)\n",
    "*   [ROC-AUC](https://developers.google.com/machine-learning/crash-course/classification/roc-and-auc)\n",
    "*   [Relationship between Precision-Recall and ROC Curves](https://www.biostat.wisc.edu/~page/rocpr.pdf)"
   ]
  },
  {
   "cell_type": "code",
   "execution_count": 28,
   "metadata": {
    "id": "Dm4-4K5RZ63Q"
   },
   "outputs": [],
   "source": [
    "model = make_model()\n",
    "\n",
    "model.load_weights(initial_weights)\n",
    "\n",
    "model.layers[-1].bias.assign([0.0])\n",
    "\n",
    "zero_bias_history = model.fit(\n",
    "    train_features,\n",
    "    train_labels,\n",
    "    batch_size=BATCH_SIZE,\n",
    "    epochs=20,\n",
    "    validation_data=(val_features, val_labels),\n",
    "    verbose=0,\n",
    ")"
   ]
  },
  {
   "cell_type": "code",
   "execution_count": 29,
   "metadata": {
    "id": "j8DsLXHQaSql"
   },
   "outputs": [],
   "source": [
    "model = make_model()\n",
    "\n",
    "model.load_weights(initial_weights)\n",
    "\n",
    "careful_bias_history = model.fit(\n",
    "    train_features,\n",
    "    train_labels,\n",
    "    batch_size=BATCH_SIZE,\n",
    "    epochs=20,\n",
    "    validation_data=(val_features, val_labels),\n",
    "    verbose=0,\n",
    ")"
   ]
  },
  {
   "cell_type": "code",
   "execution_count": 30,
   "metadata": {
    "id": "E3XsMBjhauFV"
   },
   "outputs": [],
   "source": [
    "def plot_loss(history, label, n):\n",
    "\n",
    "    plt.semilogy(\n",
    "        history.epoch,\n",
    "        history.history[\"loss\"],\n",
    "        color=colors[n],\n",
    "        label=\"Train \" + label,\n",
    "    )\n",
    "    plt.semilogy(\n",
    "        history.epoch,\n",
    "        history.history[\"val_loss\"],\n",
    "        color=colors[n],\n",
    "        label=\"Val \" + label,\n",
    "        linestyle=\"--\",\n",
    "    )\n",
    "    plt.xlabel(\"Epoch\")\n",
    "    plt.ylabel(\"Loss\")"
   ]
  },
  {
   "cell_type": "code",
   "execution_count": 35,
   "metadata": {
    "id": "dxFaskm7beC7"
   },
   "outputs": [
    {
     "data": {
      "image/png": "[encoded data removed]",
      "text/plain": [
       "<Figure size 864x720 with 1 Axes>"
      ]
     },
     "metadata": {
      "needs_background": "light"
     },
     "output_type": "display_data"
    }
   ],
   "source": [
    "plot_loss(\n",
    "    zero_bias_history,\n",
    "    \"Zero Bias\",\n",
    "    0,\n",
    ")\n",
    "\n",
    "plot_loss(\n",
    "    careful_bias_history,\n",
    "    \"Careful Bias\",\n",
    "    1,\n",
    ")"
   ]
  },
  {
   "cell_type": "markdown",
   "metadata": {},
   "source": [
    "**Entranamiento del modelo**"
   ]
  },
  {
   "cell_type": "code",
   "execution_count": 39,
   "metadata": {
    "id": "yZKAc8NCDnoR"
   },
   "outputs": [
    {
     "name": "stdout",
     "output_type": "stream",
     "text": [
      "Restoring model weights from the end of the best epoch: 28.\n",
      "Epoch 38: early stopping\n"
     ]
    }
   ],
   "source": [
    "model = make_model()\n",
    "\n",
    "model.load_weights(initial_weights)\n",
    "\n",
    "baseline_history = model.fit(\n",
    "    train_features,\n",
    "    train_labels,\n",
    "    batch_size=BATCH_SIZE,\n",
    "    epochs=EPOCHS,\n",
    "    callbacks=[early_stopping],\n",
    "    validation_data=(val_features, val_labels),\n",
    "    verbose=0,\n",
    ")"
   ]
  },
  {
   "cell_type": "markdown",
   "metadata": {},
   "source": [
    "**Evolución de las Métricas**"
   ]
  },
  {
   "cell_type": "code",
   "execution_count": 40,
   "metadata": {
    "id": "WTSkhT1jyGu6"
   },
   "outputs": [],
   "source": [
    "def plot_metrics(history):\n",
    "\n",
    "    metrics = [\n",
    "        \"loss\",\n",
    "        \"prc\",\n",
    "        \"precision\",\n",
    "        \"recall\",\n",
    "    ]\n",
    "\n",
    "    for n, metric in enumerate(metrics):\n",
    "\n",
    "        name = metric.replace(\"_\", \" \").capitalize()\n",
    "        plt.subplot(2, 2, n + 1)\n",
    "        plt.plot(history.epoch, history.history[metric], color=colors[0], label=\"Train\")\n",
    "        plt.plot(\n",
    "            history.epoch,\n",
    "            history.history[\"val_\" + metric],\n",
    "            color=colors[0],\n",
    "            linestyle=\"--\",\n",
    "            label=\"Val\",\n",
    "        )\n",
    "        plt.xlabel(\"Epoch\")\n",
    "        plt.ylabel(name)\n",
    "        if metric == \"loss\":\n",
    "            plt.ylim([0, plt.ylim()[1]])\n",
    "        elif metric == \"auc\":\n",
    "            plt.ylim([0.8, 1])\n",
    "        else:\n",
    "            plt.ylim([0, 1])\n",
    "\n",
    "        plt.legend();"
   ]
  },
  {
   "cell_type": "code",
   "execution_count": 41,
   "metadata": {
    "id": "u6LReDsqlZlk"
   },
   "outputs": [
    {
     "data": {
      "image/png": "[encoded data removed]",
      "text/plain": [
       "<Figure size 864x720 with 4 Axes>"
      ]
     },
     "metadata": {
      "needs_background": "light"
     },
     "output_type": "display_data"
    }
   ],
   "source": [
    "plot_metrics(baseline_history)"
   ]
  },
  {
   "cell_type": "markdown",
   "metadata": {},
   "source": [
    "**Evaluación de las métricas**"
   ]
  },
  {
   "cell_type": "code",
   "execution_count": 42,
   "metadata": {
    "id": "aNS796IJKrev"
   },
   "outputs": [],
   "source": [
    "from sklearn.metrics import confusion_matrix\n",
    "\n",
    "train_predictions_baseline = model.predict(\n",
    "    train_features,\n",
    "    batch_size=BATCH_SIZE,\n",
    ")\n",
    "\n",
    "test_predictions_baseline = model.predict(\n",
    "    test_features,\n",
    "    batch_size=BATCH_SIZE,\n",
    ")"
   ]
  },
  {
   "cell_type": "code",
   "execution_count": 43,
   "metadata": {
    "id": "MVWBGfADwbWI"
   },
   "outputs": [],
   "source": [
    "def plot_cm(labels, predictions, p=0.5):\n",
    "\n",
    "    cm = confusion_matrix(labels, predictions > p)\n",
    "    plt.figure(figsize=(5, 5))\n",
    "    sns.heatmap(cm, annot=True, fmt=\"d\")\n",
    "    plt.title(\"Confusion matrix @{:.2f}\".format(p))\n",
    "    plt.ylabel(\"Actual label\")\n",
    "    plt.xlabel(\"Predicted label\")\n",
    "\n",
    "    print(\"Legitimate Transactions Detected (True Negatives): \", cm[0][0])\n",
    "    print(\"Legitimate Transactions Incorrectly Detected (False Positives): \", cm[0][1])\n",
    "    print(\"Fraudulent Transactions Missed (False Negatives): \", cm[1][0])\n",
    "    print(\"Fraudulent Transactions Detected (True Positives): \", cm[1][1])\n",
    "    print(\"Total Fraudulent Transactions: \", np.sum(cm[1]))"
   ]
  },
  {
   "cell_type": "code",
   "execution_count": 44,
   "metadata": {
    "id": "poh_hZngt2_9"
   },
   "outputs": [
    {
     "name": "stdout",
     "output_type": "stream",
     "text": [
      "loss :  0.003476402023807168\n",
      "tp :  80.0\n",
      "fp :  8.0\n",
      "tn :  56850.0\n",
      "fn :  24.0\n",
      "accuracy :  0.9994382262229919\n",
      "precision :  0.9090909361839294\n",
      "recall :  0.7692307829856873\n",
      "auc :  0.9226981401443481\n",
      "prc :  0.7967866659164429\n",
      "\n",
      "Legitimate Transactions Detected (True Negatives):  56850\n",
      "Legitimate Transactions Incorrectly Detected (False Positives):  8\n",
      "Fraudulent Transactions Missed (False Negatives):  24\n",
      "Fraudulent Transactions Detected (True Positives):  80\n",
      "Total Fraudulent Transactions:  104\n"
     ]
    },
    {
     "data": {
      "image/png": "[encoded data removed]",
      "text/plain": [
       "<Figure size 360x360 with 2 Axes>"
      ]
     },
     "metadata": {
      "needs_background": "light"
     },
     "output_type": "display_data"
    }
   ],
   "source": [
    "baseline_results = model.evaluate(\n",
    "    test_features, test_labels, batch_size=BATCH_SIZE, verbose=0\n",
    ")\n",
    "for name, value in zip(model.metrics_names, baseline_results):\n",
    "    print(name, \": \", value)\n",
    "print()\n",
    "\n",
    "plot_cm(test_labels, test_predictions_baseline)"
   ]
  },
  {
   "cell_type": "markdown",
   "metadata": {},
   "source": [
    "**Gráfica ROC**"
   ]
  },
  {
   "cell_type": "code",
   "execution_count": 49,
   "metadata": {
    "id": "lhaxsLSvANF9"
   },
   "outputs": [],
   "source": [
    "from sklearn.metrics import roc_curve\n",
    "\n",
    "\n",
    "def plot_roc(name, labels, predictions, **kwargs):\n",
    "    fp, tp, _ = roc_curve(labels, predictions)\n",
    "\n",
    "    plt.plot(100 * fp, 100 * tp, label=name, linewidth=2, **kwargs)\n",
    "    plt.xlabel(\"False positives [%]\")\n",
    "    plt.ylabel(\"True positives [%]\")\n",
    "    plt.xlim([-0.5, 20])\n",
    "    plt.ylim([80, 100.5])\n",
    "    plt.grid(True)\n",
    "    ax = plt.gca()\n",
    "    ax.set_aspect(\"equal\")"
   ]
  },
  {
   "cell_type": "code",
   "execution_count": 50,
   "metadata": {
    "id": "DfHHspttKJE0"
   },
   "outputs": [
    {
     "data": {
      "image/png": "[encoded data removed]",
      "text/plain": [
       "<Figure size 864x720 with 1 Axes>"
      ]
     },
     "metadata": {
      "needs_background": "light"
     },
     "output_type": "display_data"
    }
   ],
   "source": [
    "plot_roc(\n",
    "    \"Train Baseline\",\n",
    "    train_labels,\n",
    "    train_predictions_baseline,\n",
    "    color=colors[0],\n",
    ")\n",
    "\n",
    "plot_roc(\n",
    "    \"Test Baseline\",\n",
    "    test_labels,\n",
    "    test_predictions_baseline,\n",
    "    color=colors[0],\n",
    "    linestyle=\"--\",\n",
    ")\n",
    "\n",
    "plt.legend(loc=\"lower right\");"
   ]
  },
  {
   "cell_type": "markdown",
   "metadata": {},
   "source": [
    "**Gráfica de la curva AUPRC**"
   ]
  },
  {
   "cell_type": "code",
   "execution_count": 51,
   "metadata": {
    "id": "XV6JSlFGEqGI"
   },
   "outputs": [],
   "source": [
    "from sklearn.metrics import precision_recall_curve\n",
    "\n",
    "\n",
    "def plot_prc(name, labels, predictions, **kwargs):\n",
    "\n",
    "    precision, recall, _ = precision_recall_curve(labels, predictions)\n",
    "\n",
    "    plt.plot(precision, recall, label=name, linewidth=2, **kwargs)\n",
    "    plt.xlabel(\"Recall\")\n",
    "    plt.ylabel(\"Precision\")\n",
    "    plt.grid(True)\n",
    "    ax = plt.gca()\n",
    "    ax.set_aspect(\"equal\")"
   ]
  },
  {
   "cell_type": "code",
   "execution_count": 52,
   "metadata": {
    "id": "FdQs_PcqEsiL"
   },
   "outputs": [
    {
     "data": {
      "image/png": "[encoded data removed]",
      "text/plain": [
       "<Figure size 864x720 with 1 Axes>"
      ]
     },
     "metadata": {
      "needs_background": "light"
     },
     "output_type": "display_data"
    }
   ],
   "source": [
    "plot_prc(\n",
    "    \"Train Baseline\",\n",
    "    train_labels,\n",
    "    train_predictions_baseline,\n",
    "    color=colors[0],\n",
    ")\n",
    "\n",
    "plot_prc(\n",
    "    \"Test Baseline\",\n",
    "    test_labels,\n",
    "    test_predictions_baseline,\n",
    "    color=colors[0],\n",
    "    linestyle=\"--\",\n",
    ")\n",
    "\n",
    "plt.legend(loc=\"lower right\");"
   ]
  },
  {
   "cell_type": "markdown",
   "metadata": {
    "tags": []
   },
   "source": [
    "Pesos por clase\n",
    "--"
   ]
  },
  {
   "cell_type": "markdown",
   "metadata": {},
   "source": [
    "**Pesos por clase**"
   ]
  },
  {
   "cell_type": "code",
   "execution_count": 53,
   "metadata": {
    "id": "qjGWErngGny7"
   },
   "outputs": [
    {
     "name": "stdout",
     "output_type": "stream",
     "text": [
      "Weight for class 0: 0.50\n",
      "Weight for class 1: 289.44\n"
     ]
    }
   ],
   "source": [
    "weight_for_0 = (1 / neg) * (total / 2.0)\n",
    "weight_for_1 = (1 / pos) * (total / 2.0)\n",
    "\n",
    "class_weight = {0: weight_for_0, 1: weight_for_1}\n",
    "\n",
    "print(\"Weight for class 0: {:.2f}\".format(weight_for_0))\n",
    "print(\"Weight for class 1: {:.2f}\".format(weight_for_1))"
   ]
  },
  {
   "cell_type": "markdown",
   "metadata": {},
   "source": [
    "**Entrenamiento del modelo por pesos por clase**"
   ]
  },
  {
   "cell_type": "code",
   "execution_count": 55,
   "metadata": {
    "id": "UJ589fn8ST3x"
   },
   "outputs": [
    {
     "name": "stdout",
     "output_type": "stream",
     "text": [
      "Restoring model weights from the end of the best epoch: 2.\n",
      "Epoch 12: early stopping\n"
     ]
    }
   ],
   "source": [
    "weighted_model = make_model()\n",
    "weighted_model.load_weights(initial_weights)\n",
    "\n",
    "weighted_history = weighted_model.fit(\n",
    "    train_features,\n",
    "    train_labels,\n",
    "    batch_size=BATCH_SIZE,\n",
    "    epochs=EPOCHS,\n",
    "    callbacks=[early_stopping],\n",
    "    validation_data=(val_features, val_labels),\n",
    "    class_weight=class_weight,\n",
    "    verbose=0,\n",
    ")"
   ]
  },
  {
   "cell_type": "markdown",
   "metadata": {},
   "source": [
    "**Historia**"
   ]
  },
  {
   "cell_type": "code",
   "execution_count": 56,
   "metadata": {
    "id": "BBe9FMO5ucTC"
   },
   "outputs": [
    {
     "data": {
      "image/png": "[encoded data removed]",
      "text/plain": [
       "<Figure size 864x720 with 4 Axes>"
      ]
     },
     "metadata": {
      "needs_background": "light"
     },
     "output_type": "display_data"
    }
   ],
   "source": [
    "plot_metrics(weighted_history)"
   ]
  },
  {
   "cell_type": "markdown",
   "metadata": {},
   "source": [
    "**Evaluación de métricas**"
   ]
  },
  {
   "cell_type": "code",
   "execution_count": 57,
   "metadata": {
    "id": "nifqscPGw-5w"
   },
   "outputs": [],
   "source": [
    "train_predictions_weighted = weighted_model.predict(\n",
    "    train_features,\n",
    "    batch_size=BATCH_SIZE,\n",
    ")\n",
    "\n",
    "test_predictions_weighted = weighted_model.predict(\n",
    "    test_features,\n",
    "    batch_size=BATCH_SIZE,\n",
    ")"
   ]
  },
  {
   "cell_type": "code",
   "execution_count": 58,
   "metadata": {
    "id": "owKL2vdMBJr6"
   },
   "outputs": [
    {
     "name": "stdout",
     "output_type": "stream",
     "text": [
      "loss :  0.00996446330100298\n",
      "tp :  81.0\n",
      "fp :  22.0\n",
      "tn :  56836.0\n",
      "fn :  23.0\n",
      "accuracy :  0.999210000038147\n",
      "precision :  0.7864077687263489\n",
      "recall :  0.7788461446762085\n",
      "auc :  0.9494943022727966\n",
      "prc :  0.6816491484642029\n",
      "\n",
      "Legitimate Transactions Detected (True Negatives):  56836\n",
      "Legitimate Transactions Incorrectly Detected (False Positives):  22\n",
      "Fraudulent Transactions Missed (False Negatives):  23\n",
      "Fraudulent Transactions Detected (True Positives):  81\n",
      "Total Fraudulent Transactions:  104\n"
     ]
    },
    {
     "data": {
      "image/png": "[encoded data removed]",
      "text/plain": [
       "<Figure size 360x360 with 2 Axes>"
      ]
     },
     "metadata": {
      "needs_background": "light"
     },
     "output_type": "display_data"
    }
   ],
   "source": [
    "weighted_results = weighted_model.evaluate(\n",
    "    test_features,\n",
    "    test_labels,\n",
    "    batch_size=BATCH_SIZE,\n",
    "    verbose=0,\n",
    ")\n",
    "\n",
    "for name, value in zip(weighted_model.metrics_names, weighted_results):\n",
    "    print(name, \": \", value)\n",
    "print()\n",
    "\n",
    "plot_cm(\n",
    "    test_labels,\n",
    "    test_predictions_weighted,\n",
    ")"
   ]
  },
  {
   "cell_type": "markdown",
   "metadata": {},
   "source": [
    "**Curva ROC**"
   ]
  },
  {
   "cell_type": "code",
   "execution_count": 59,
   "metadata": {
    "id": "3hzScIVZS1Xm"
   },
   "outputs": [
    {
     "data": {
      "image/png": "[encoded data removed]",
      "text/plain": [
       "<Figure size 864x720 with 1 Axes>"
      ]
     },
     "metadata": {
      "needs_background": "light"
     },
     "output_type": "display_data"
    }
   ],
   "source": [
    "plot_roc(\n",
    "    \"Train Baseline\",\n",
    "    train_labels,\n",
    "    train_predictions_baseline,\n",
    "    color=colors[0],\n",
    ")\n",
    "\n",
    "plot_roc(\n",
    "    \"Test Baseline\",\n",
    "    test_labels,\n",
    "    test_predictions_baseline,\n",
    "    color=colors[0],\n",
    "    linestyle=\"--\",\n",
    ")\n",
    "\n",
    "plot_roc(\n",
    "    \"Train Weighted\",\n",
    "    train_labels,\n",
    "    train_predictions_weighted,\n",
    "    color=colors[1],\n",
    ")\n",
    "\n",
    "plot_roc(\n",
    "    \"Test Weighted\",\n",
    "    test_labels,\n",
    "    test_predictions_weighted,\n",
    "    color=colors[1],\n",
    "    linestyle=\"--\",\n",
    ")\n",
    "\n",
    "\n",
    "plt.legend(loc=\"lower right\");"
   ]
  },
  {
   "cell_type": "markdown",
   "metadata": {},
   "source": [
    "**Curva AUPRC**"
   ]
  },
  {
   "cell_type": "code",
   "execution_count": 60,
   "metadata": {
    "id": "7jHnmVebOWOC"
   },
   "outputs": [
    {
     "data": {
      "image/png": "[encoded data removed]",
      "text/plain": [
       "<Figure size 864x720 with 1 Axes>"
      ]
     },
     "metadata": {
      "needs_background": "light"
     },
     "output_type": "display_data"
    }
   ],
   "source": [
    "plot_prc(\n",
    "    \"Train Baseline\",\n",
    "    train_labels,\n",
    "    train_predictions_baseline,\n",
    "    color=colors[0],\n",
    ")\n",
    "\n",
    "plot_prc(\n",
    "    \"Test Baseline\",\n",
    "    test_labels,\n",
    "    test_predictions_baseline,\n",
    "    color=colors[0],\n",
    "    linestyle=\"--\",\n",
    ")\n",
    "\n",
    "plot_prc(\n",
    "    \"Train Weighted\",\n",
    "    train_labels,\n",
    "    train_predictions_weighted,\n",
    "    color=colors[1],\n",
    ")\n",
    "\n",
    "plot_prc(\n",
    "    \"Test Weighted\",\n",
    "    test_labels,\n",
    "    test_predictions_weighted,\n",
    "    color=colors[1],\n",
    "    linestyle=\"--\",\n",
    ")\n",
    "\n",
    "\n",
    "plt.legend(loc=\"lower right\");"
   ]
  },
  {
   "cell_type": "markdown",
   "metadata": {},
   "source": [
    "Sobremuestreo\n",
    "--"
   ]
  },
  {
   "cell_type": "markdown",
   "metadata": {},
   "source": [
    "**Sobremuestreo de la clase minoritaria**"
   ]
  },
  {
   "cell_type": "code",
   "execution_count": 61,
   "metadata": {
    "id": "sHirNp6u7OWp"
   },
   "outputs": [],
   "source": [
    "pos_features = train_features[bool_train_labels]\n",
    "neg_features = train_features[~bool_train_labels]\n",
    "\n",
    "pos_labels = train_labels[bool_train_labels]\n",
    "neg_labels = train_labels[~bool_train_labels]"
   ]
  },
  {
   "cell_type": "code",
   "execution_count": 62,
   "metadata": {},
   "outputs": [
    {
     "data": {
      "text/plain": [
       "(181957, 29)"
      ]
     },
     "execution_count": 62,
     "metadata": {},
     "output_type": "execute_result"
    }
   ],
   "source": [
    "#\n",
    "# Usando NumPy\n",
    "ids = np.arange(len(pos_features))\n",
    "choices = np.random.choice(ids, len(neg_features))\n",
    "\n",
    "res_pos_features = pos_features[choices]\n",
    "res_pos_labels = pos_labels[choices]\n",
    "\n",
    "res_pos_features.shape"
   ]
  },
  {
   "cell_type": "code",
   "execution_count": 63,
   "metadata": {
    "id": "7ie_FFet6cep"
   },
   "outputs": [
    {
     "data": {
      "text/plain": [
       "(363914, 29)"
      ]
     },
     "execution_count": 63,
     "metadata": {},
     "output_type": "execute_result"
    }
   ],
   "source": [
    "resampled_features = np.concatenate([res_pos_features, neg_features], axis=0)\n",
    "resampled_labels = np.concatenate([res_pos_labels, neg_labels], axis=0)\n",
    "\n",
    "order = np.arange(len(resampled_labels))\n",
    "np.random.shuffle(order)\n",
    "resampled_features = resampled_features[order]\n",
    "resampled_labels = resampled_labels[order]\n",
    "\n",
    "resampled_features.shape"
   ]
  },
  {
   "cell_type": "code",
   "execution_count": 64,
   "metadata": {
    "id": "yF4OZ-rI6xb6"
   },
   "outputs": [],
   "source": [
    "#\n",
    "# Usando tf.data\n",
    "#\n",
    "BUFFER_SIZE = 100000\n",
    "\n",
    "\n",
    "def make_ds(features, labels):\n",
    "    ds = tf.data.Dataset.from_tensor_slices((features, labels))  # .cache()\n",
    "    ds = ds.shuffle(BUFFER_SIZE).repeat()\n",
    "    return ds\n",
    "\n",
    "\n",
    "pos_ds = make_ds(pos_features, pos_labels)\n",
    "neg_ds = make_ds(neg_features, neg_labels)"
   ]
  },
  {
   "cell_type": "code",
   "execution_count": 65,
   "metadata": {
    "id": "llXc9rNH7Fbz"
   },
   "outputs": [
    {
     "name": "stdout",
     "output_type": "stream",
     "text": [
      "Features:\n",
      " [ 0.4638527   0.80860165 -2.95934741  2.29071554 -0.3041107  -0.57503103\n",
      " -2.04323048  0.58716249 -0.42691556 -4.18046052  3.53650541 -3.16840414\n",
      " -0.40229131 -5.         -1.76708737 -2.72834188 -3.04003887  0.11026936\n",
      "  0.12031048  0.57886309  0.80179274  0.81934791 -0.39858282  0.53962238\n",
      "  1.08000332 -0.53413989  1.62958564  0.9519011   0.63101885]\n",
      "\n",
      "Label:  1\n"
     ]
    }
   ],
   "source": [
    "for features, label in pos_ds.take(1):\n",
    "    print(\"Features:\\n\", features.numpy())\n",
    "    print()\n",
    "    print(\"Label: \", label.numpy())"
   ]
  },
  {
   "cell_type": "code",
   "execution_count": 66,
   "metadata": {
    "id": "e7w9UQPT9wzE"
   },
   "outputs": [],
   "source": [
    "resampled_ds = tf.data.Dataset.sample_from_datasets(\n",
    "    [pos_ds, neg_ds], weights=[0.5, 0.5]\n",
    ")\n",
    "resampled_ds = resampled_ds.batch(BATCH_SIZE).prefetch(2)"
   ]
  },
  {
   "cell_type": "code",
   "execution_count": 67,
   "metadata": {
    "id": "EWXARdTdAuQK"
   },
   "outputs": [
    {
     "name": "stdout",
     "output_type": "stream",
     "text": [
      "0.48779296875\n"
     ]
    }
   ],
   "source": [
    "for features, label in resampled_ds.take(1):\n",
    "    print(label.numpy().mean())"
   ]
  },
  {
   "cell_type": "code",
   "execution_count": 68,
   "metadata": {
    "id": "xH-7K46AAxpq"
   },
   "outputs": [
    {
     "data": {
      "text/plain": [
       "278.0"
      ]
     },
     "execution_count": 68,
     "metadata": {},
     "output_type": "execute_result"
    }
   ],
   "source": [
    "resampled_steps_per_epoch = np.ceil(2.0 * neg / BATCH_SIZE)\n",
    "resampled_steps_per_epoch"
   ]
  },
  {
   "cell_type": "markdown",
   "metadata": {},
   "source": [
    "**Entrenamiento con la muestra**"
   ]
  },
  {
   "cell_type": "code",
   "execution_count": 69,
   "metadata": {
    "id": "soRQ89JYqd6b"
   },
   "outputs": [
    {
     "name": "stdout",
     "output_type": "stream",
     "text": [
      "Epoch 1/100\n",
      "278/278 [==============================] - 47s 158ms/step - loss: 0.4134 - tp: 248573.0000 - fp: 82542.0000 - tn: 259138.0000 - fn: 36053.0000 - accuracy: 0.8106 - precision: 0.7507 - recall: 0.8733 - auc: 0.9192 - prc: 0.9299 - val_loss: 0.2543 - val_tp: 63.0000 - val_fp: 1244.0000 - val_tn: 44256.0000 - val_fn: 6.0000 - val_accuracy: 0.9726 - val_precision: 0.0482 - val_recall: 0.9130 - val_auc: 0.9838 - val_prc: 0.7208\n",
      "Epoch 2/100\n",
      "278/278 [==============================] - 41s 150ms/step - loss: 0.2119 - tp: 260722.0000 - fp: 18756.0000 - tn: 265614.0000 - fn: 24252.0000 - accuracy: 0.9245 - precision: 0.9329 - recall: 0.9149 - auc: 0.9719 - prc: 0.9784 - val_loss: 0.1350 - val_tp: 63.0000 - val_fp: 892.0000 - val_tn: 44608.0000 - val_fn: 6.0000 - val_accuracy: 0.9803 - val_precision: 0.0660 - val_recall: 0.9130 - val_auc: 0.9922 - val_prc: 0.6912\n",
      "Epoch 3/100\n",
      "278/278 [==============================] - 42s 152ms/step - loss: 0.1606 - tp: 263261.0000 - fp: 11132.0000 - tn: 273235.0000 - fn: 21716.0000 - accuracy: 0.9423 - precision: 0.9594 - recall: 0.9238 - auc: 0.9842 - prc: 0.9866 - val_loss: 0.0957 - val_tp: 63.0000 - val_fp: 863.0000 - val_tn: 44637.0000 - val_fn: 6.0000 - val_accuracy: 0.9809 - val_precision: 0.0680 - val_recall: 0.9130 - val_auc: 0.9940 - val_prc: 0.6798\n",
      "Epoch 4/100\n",
      "278/278 [==============================] - 42s 152ms/step - loss: 0.1350 - tp: 265283.0000 - fp: 9618.0000 - tn: 275234.0000 - fn: 19209.0000 - accuracy: 0.9494 - precision: 0.9650 - recall: 0.9325 - auc: 0.9894 - prc: 0.9905 - val_loss: 0.0774 - val_tp: 63.0000 - val_fp: 794.0000 - val_tn: 44706.0000 - val_fn: 6.0000 - val_accuracy: 0.9824 - val_precision: 0.0735 - val_recall: 0.9130 - val_auc: 0.9940 - val_prc: 0.6687\n",
      "Epoch 5/100\n",
      "278/278 [==============================] - 42s 153ms/step - loss: 0.1188 - tp: 267554.0000 - fp: 8726.0000 - tn: 275935.0000 - fn: 17129.0000 - accuracy: 0.9546 - precision: 0.9684 - recall: 0.9398 - auc: 0.9922 - prc: 0.9927 - val_loss: 0.0674 - val_tp: 63.0000 - val_fp: 731.0000 - val_tn: 44769.0000 - val_fn: 6.0000 - val_accuracy: 0.9838 - val_precision: 0.0793 - val_recall: 0.9130 - val_auc: 0.9935 - val_prc: 0.6714\n",
      "Epoch 6/100\n",
      "278/278 [==============================] - 43s 156ms/step - loss: 0.1083 - tp: 268914.0000 - fp: 8114.0000 - tn: 276510.0000 - fn: 15806.0000 - accuracy: 0.9580 - precision: 0.9707 - recall: 0.9445 - auc: 0.9937 - prc: 0.9939 - val_loss: 0.0600 - val_tp: 63.0000 - val_fp: 697.0000 - val_tn: 44803.0000 - val_fn: 6.0000 - val_accuracy: 0.9846 - val_precision: 0.0829 - val_recall: 0.9130 - val_auc: 0.9933 - val_prc: 0.6638\n",
      "Epoch 7/100\n",
      "278/278 [==============================] - 46s 166ms/step - loss: 0.1003 - tp: 269646.0000 - fp: 7462.0000 - tn: 277452.0000 - fn: 14784.0000 - accuracy: 0.9609 - precision: 0.9731 - recall: 0.9480 - auc: 0.9947 - prc: 0.9947 - val_loss: 0.0562 - val_tp: 63.0000 - val_fp: 694.0000 - val_tn: 44806.0000 - val_fn: 6.0000 - val_accuracy: 0.9846 - val_precision: 0.0832 - val_recall: 0.9130 - val_auc: 0.9928 - val_prc: 0.6632\n",
      "Epoch 8/100\n",
      "278/278 [==============================] - 43s 154ms/step - loss: 0.0950 - tp: 271000.0000 - fp: 7173.0000 - tn: 277329.0000 - fn: 13842.0000 - accuracy: 0.9631 - precision: 0.9742 - recall: 0.9514 - auc: 0.9953 - prc: 0.9953 - val_loss: 0.0516 - val_tp: 63.0000 - val_fp: 634.0000 - val_tn: 44866.0000 - val_fn: 6.0000 - val_accuracy: 0.9860 - val_precision: 0.0904 - val_recall: 0.9130 - val_auc: 0.9926 - val_prc: 0.6709\n",
      "Epoch 9/100\n",
      "278/278 [==============================] - 45s 163ms/step - loss: 0.0904 - tp: 271970.0000 - fp: 6921.0000 - tn: 277507.0000 - fn: 12946.0000 - accuracy: 0.9651 - precision: 0.9752 - recall: 0.9546 - auc: 0.9957 - prc: 0.9956 - val_loss: 0.0487 - val_tp: 63.0000 - val_fp: 611.0000 - val_tn: 44889.0000 - val_fn: 6.0000 - val_accuracy: 0.9865 - val_precision: 0.0935 - val_recall: 0.9130 - val_auc: 0.9921 - val_prc: 0.6702\n",
      "Epoch 10/100\n",
      "278/278 [==============================] - 43s 156ms/step - loss: 0.0863 - tp: 272335.0000 - fp: 6535.0000 - tn: 277964.0000 - fn: 12510.0000 - accuracy: 0.9665 - precision: 0.9766 - recall: 0.9561 - auc: 0.9961 - prc: 0.9959 - val_loss: 0.0457 - val_tp: 62.0000 - val_fp: 569.0000 - val_tn: 44931.0000 - val_fn: 7.0000 - val_accuracy: 0.9874 - val_precision: 0.0983 - val_recall: 0.8986 - val_auc: 0.9917 - val_prc: 0.6701\n",
      "Epoch 11/100\n",
      "278/278 [==============================] - ETA: 0s - loss: 0.0837 - tp: 272654.0000 - fp: 6487.0000 - tn: 278006.0000 - fn: 12197.0000 - accuracy: 0.9672 - precision: 0.9768 - recall: 0.9572 - auc: 0.9963 - prc: 0.9961Restoring model weights from the end of the best epoch: 1.\n",
      "278/278 [==============================] - 45s 161ms/step - loss: 0.0837 - tp: 272654.0000 - fp: 6487.0000 - tn: 278006.0000 - fn: 12197.0000 - accuracy: 0.9672 - precision: 0.9768 - recall: 0.9572 - auc: 0.9963 - prc: 0.9961 - val_loss: 0.0422 - val_tp: 62.0000 - val_fp: 534.0000 - val_tn: 44966.0000 - val_fn: 7.0000 - val_accuracy: 0.9881 - val_precision: 0.1040 - val_recall: 0.8986 - val_auc: 0.9916 - val_prc: 0.6699\n",
      "Epoch 11: early stopping\n"
     ]
    }
   ],
   "source": [
    "resampled_model = make_model()\n",
    "resampled_model.load_weights(initial_weights)\n",
    "\n",
    "output_layer = resampled_model.layers[-1]\n",
    "output_layer.bias.assign([0])\n",
    "\n",
    "val_ds = tf.data.Dataset.from_tensor_slices((val_features, val_labels)).cache()\n",
    "val_ds = val_ds.batch(BATCH_SIZE).prefetch(2)\n",
    "\n",
    "resampled_history = resampled_model.fit(\n",
    "    resampled_ds,\n",
    "    epochs=EPOCHS,\n",
    "    steps_per_epoch=resampled_steps_per_epoch,\n",
    "    callbacks=[early_stopping],\n",
    "    validation_data=val_ds,\n",
    "    verbose=0,\n",
    ")"
   ]
  },
  {
   "cell_type": "markdown",
   "metadata": {},
   "source": [
    "**Chequeo**"
   ]
  },
  {
   "cell_type": "code",
   "execution_count": null,
   "metadata": {
    "id": "YoUGfr1vuivl"
   },
   "outputs": [],
   "source": [
    "plot_metrics(resampled_history)"
   ]
  },
  {
   "cell_type": "markdown",
   "metadata": {},
   "source": [
    "**Re-entrenamiento**"
   ]
  },
  {
   "cell_type": "code",
   "execution_count": null,
   "metadata": {
    "id": "e_yn9I26qAHU"
   },
   "outputs": [],
   "source": [
    "resampled_model = make_model()\n",
    "resampled_model.load_weights(initial_weights)\n",
    "\n",
    "# Reset the bias to zero, since this dataset is balanced.\n",
    "output_layer = resampled_model.layers[-1]\n",
    "output_layer.bias.assign([0])\n",
    "\n",
    "resampled_history = resampled_model.fit(\n",
    "    resampled_ds,\n",
    "    # These are not real epochs\n",
    "    steps_per_epoch=20,\n",
    "    epochs=10 * EPOCHS,\n",
    "    callbacks=[early_stopping],\n",
    "    validation_data=(val_ds),\n",
    ")"
   ]
  },
  {
   "cell_type": "markdown",
   "metadata": {},
   "source": [
    "**Chequeo**"
   ]
  },
  {
   "cell_type": "code",
   "execution_count": null,
   "metadata": {
    "id": "FMycrpJwn39w"
   },
   "outputs": [],
   "source": [
    "plot_metrics(resampled_history)"
   ]
  },
  {
   "cell_type": "markdown",
   "metadata": {},
   "source": [
    "**Evaluación de métricas**"
   ]
  },
  {
   "cell_type": "code",
   "execution_count": null,
   "metadata": {
    "id": "C0fmHSgXxFdW"
   },
   "outputs": [],
   "source": [
    "train_predictions_resampled = resampled_model.predict(\n",
    "    train_features, batch_size=BATCH_SIZE\n",
    ")\n",
    "test_predictions_resampled = resampled_model.predict(\n",
    "    test_features, batch_size=BATCH_SIZE\n",
    ")"
   ]
  },
  {
   "cell_type": "code",
   "execution_count": null,
   "metadata": {
    "id": "FO0mMOYUDWFk"
   },
   "outputs": [],
   "source": [
    "resampled_results = resampled_model.evaluate(\n",
    "    test_features, test_labels, batch_size=BATCH_SIZE, verbose=0\n",
    ")\n",
    "for name, value in zip(resampled_model.metrics_names, resampled_results):\n",
    "    print(name, \": \", value)\n",
    "print()\n",
    "\n",
    "plot_cm(test_labels, test_predictions_resampled)"
   ]
  },
  {
   "cell_type": "markdown",
   "metadata": {
    "id": "_xYozM1IIITq"
   },
   "source": [
    "**Curva ROC**"
   ]
  },
  {
   "cell_type": "code",
   "execution_count": null,
   "metadata": {
    "id": "fye_CiuYrZ1U"
   },
   "outputs": [],
   "source": [
    "plot_roc(\n",
    "    \"Train Baseline\",\n",
    "    train_labels,\n",
    "    train_predictions_baseline,\n",
    "    color=colors[0],\n",
    ")\n",
    "\n",
    "plot_roc(\n",
    "    \"Test Baseline\",\n",
    "    test_labels,\n",
    "    test_predictions_baseline,\n",
    "    color=colors[0],\n",
    "    linestyle=\"--\",\n",
    ")\n",
    "\n",
    "plot_roc(\n",
    "    \"Train Weighted\",\n",
    "    train_labels,\n",
    "    train_predictions_weighted,\n",
    "    color=colors[1],\n",
    ")\n",
    "\n",
    "plot_roc(\n",
    "    \"Test Weighted\",\n",
    "    test_labels,\n",
    "    test_predictions_weighted,\n",
    "    color=colors[1],\n",
    "    linestyle=\"--\",\n",
    ")\n",
    "\n",
    "plot_roc(\n",
    "    \"Train Resampled\",\n",
    "    train_labels,\n",
    "    train_predictions_resampled,\n",
    "    color=colors[2],\n",
    ")\n",
    "\n",
    "plot_roc(\n",
    "    \"Test Resampled\",\n",
    "    test_labels,\n",
    "    test_predictions_resampled,\n",
    "    color=colors[2],\n",
    "    linestyle=\"--\",\n",
    ")\n",
    "\n",
    "plt.legend(loc=\"lower right\");"
   ]
  },
  {
   "cell_type": "markdown",
   "metadata": {
    "id": "vayGnv0VOe_v"
   },
   "source": [
    "**Curva Plot the AUPRC**"
   ]
  },
  {
   "cell_type": "code",
   "execution_count": null,
   "metadata": {
    "id": "wgWXQ8aeOhCZ"
   },
   "outputs": [],
   "source": [
    "plot_prc(\n",
    "    \"Train Baseline\",\n",
    "    train_labels,\n",
    "    train_predictions_baseline,\n",
    "    color=colors[0],\n",
    ")\n",
    "\n",
    "plot_prc(\n",
    "    \"Test Baseline\",\n",
    "    test_labels,\n",
    "    test_predictions_baseline,\n",
    "    color=colors[0],\n",
    "    linestyle=\"--\",\n",
    ")\n",
    "\n",
    "plot_prc(\n",
    "    \"Train Weighted\",\n",
    "    train_labels,\n",
    "    train_predictions_weighted,\n",
    "    color=colors[1],\n",
    ")\n",
    "\n",
    "plot_prc(\n",
    "    \"Test Weighted\",\n",
    "    test_labels,\n",
    "    test_predictions_weighted,\n",
    "    color=colors[1],\n",
    "    linestyle=\"--\",\n",
    ")\n",
    "\n",
    "plot_prc(\n",
    "    \"Train Resampled\",\n",
    "    train_labels,\n",
    "    train_predictions_resampled,\n",
    "    color=colors[2],\n",
    ")\n",
    "\n",
    "plot_prc(\n",
    "    \"Test Resampled\",\n",
    "    test_labels,\n",
    "    test_predictions_resampled,\n",
    "    color=colors[2],\n",
    "    linestyle=\"--\",\n",
    ")\n",
    "\n",
    "plt.legend(loc=\"lower right\");"
   ]
  }
 ],
 "metadata": {
  "colab": {
   "collapsed_sections": [],
   "name": "imbalanced_data.ipynb",
   "toc_visible": true
  },
  "kernelspec": {
   "display_name": "Python 3 (ipykernel)",
   "language": "python",
   "name": "python3"
  },
  "language_info": {
   "codemirror_mode": {
    "name": "ipython",
    "version": 3
   },
   "file_extension": ".py",
   "mimetype": "text/x-python",
   "name": "python",
   "nbconvert_exporter": "python",
   "pygments_lexer": "ipython3",
   "version": "3.9.10"
  }
 },
 "nbformat": 4,
 "nbformat_minor": 4
}
