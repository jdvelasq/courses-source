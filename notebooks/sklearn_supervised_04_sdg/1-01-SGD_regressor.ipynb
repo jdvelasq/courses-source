{
 "cells": [
  {
   "cell_type": "markdown",
   "metadata": {},
   "source": [
    "Gradiente Descendente Estocástico para Regresión --- 14:17 min\n",
    "====\n",
    "\n",
    "* 14:17 min | Última modificación: Octubre 13, 2021 | [YouTube](https://youtu.be/1wRFxvF1PZU)"
   ]
  },
  {
   "cell_type": "markdown",
   "metadata": {},
   "source": [
    "Definición\n",
    "---"
   ]
  },
  {
   "cell_type": "markdown",
   "metadata": {},
   "source": [
    "En este caso, se asume que el dataset esta formado por los ejemplos $(x_1, y_1), \\cdots, (x_n, y_n)$, donde cada $x_i$ es un vector $m$ dimensional y $y$ es un escalar."
   ]
  },
  {
   "cell_type": "markdown",
   "metadata": {},
   "source": [
    "En un modelo de regresión, la variable dependiente $y$ es una función lineal de las variables independientes $x_i$, tal que:\n",
    "\n",
    "\n",
    "$$f(x)= b + w^T x $$\n",
    "\n",
    "\n",
    "Donde: \n",
    "\n",
    "\n",
    "* $x$ es un patrón o ejemplo del dataset.\n",
    "\n",
    "\n",
    "* $b$ es el intercepto del modelo.\n",
    "\n",
    "\n",
    "* $w$ son los coeficientes de las variales independientes.\n"
   ]
  },
  {
   "cell_type": "markdown",
   "metadata": {},
   "source": [
    "Función de pérdida\n",
    "---"
   ]
  },
  {
   "cell_type": "markdown",
   "metadata": {},
   "source": [
    "En este modelo se minimiza la función de error:\n"
   ]
  },
  {
   "cell_type": "markdown",
   "metadata": {},
   "source": [
    "$$\n",
    "E(w) = \\frac{1}{n} \\sum_i L \\left(y_i, f(x_i) \\right) + \\alpha R(w) \n",
    "$$"
   ]
  },
  {
   "cell_type": "markdown",
   "metadata": {},
   "source": [
    "$L$ es una de las funciones de pérdida descritas a continuación:"
   ]
  },
  {
   "cell_type": "markdown",
   "metadata": {},
   "source": [
    "*  `squared_loss`: $$L(d, y) = (d - y)^2$$  "
   ]
  },
  {
   "cell_type": "markdown",
   "metadata": {},
   "source": [
    "* `huber`: \n",
    "  $$\n",
    "  L(d, y)=\n",
    "    \\begin{cases}\n",
    "        \\frac{1}{2}[d - y]^2 & \\text{Si } |d-y| \\le \\epsilon \\\\\n",
    "        \\\\\n",
    "        \\epsilon |d-y|-\\frac{1}{2}\\epsilon^2 & \\text{en cualquier otro caso}\n",
    "        \\end{cases}\n",
    "  $$ "
   ]
  },
  {
   "cell_type": "markdown",
   "metadata": {},
   "source": [
    "* `epsilon_insensitive`: \n",
    "  $$L(d, y)=\n",
    "    \\begin{cases}\n",
    "        0 & \\text{Si } |d-y| \\le \\epsilon \\\\\n",
    "        \\\\\n",
    "         |d-y| - \\epsilon & \\text{en cualquier otro caso}\n",
    "    \\end{cases}\n",
    "  $$ "
   ]
  },
  {
   "cell_type": "markdown",
   "metadata": {},
   "source": [
    "* `squared_epsilon_insensitive`: \n",
    "  $$\n",
    "  L(d, y)= [\\text{epsilon_insensitive}(d, y)]^2\n",
    "  $$ \n",
    "  "
   ]
  },
  {
   "cell_type": "markdown",
   "metadata": {},
   "source": [
    "![loss_functions_regression.png](assets/loss_functions_regression.png)"
   ]
  },
  {
   "cell_type": "markdown",
   "metadata": {},
   "source": [
    "Regularización\n",
    "---"
   ]
  },
  {
   "cell_type": "markdown",
   "metadata": {},
   "source": [
    "$R$ es el término de regularización, el cual puede ser especificado como:\n",
    "\n",
    "* L2:\n",
    "\n",
    "$$\n",
    "R(w) = \\frac{1}{2} \\sum_j w_j^2\n",
    "$$\n",
    "\n",
    "* L1:\n",
    "\n",
    "$$\n",
    "R(w) = \\frac{1}{2} \\sum_j |w_j|\n",
    "$$\n",
    "\n",
    "* Elastic Net:\n",
    "\n",
    "$$\n",
    "R(w) = \\frac{\\rho}{2}  \\sum_j w_j^2 + (1 - \\rho)  \\sum_j |w_j|\n",
    "$$\n",
    "\n"
   ]
  },
  {
   "cell_type": "markdown",
   "metadata": {},
   "source": [
    "Algoritmo de entrenamiento\n",
    "---"
   ]
  },
  {
   "cell_type": "markdown",
   "metadata": {},
   "source": [
    "La estimación de parámetros se realiza utilizando el algoritmo de gradiente descendente estocástico, actualizando los parámetros del modelo a medida que va recorriendo los ejemplos (patrón de entrenamiento)."
   ]
  },
  {
   "cell_type": "markdown",
   "metadata": {},
   "source": [
    "$$\n",
    "w \\leftarrow w - \\eta \n",
    "\\left[\n",
    "\\alpha \\frac{\\partial R(w)}{\\partial w} +\n",
    "\\frac{\\partial L(w^Tx_i + b_i, y_i}{\\partial w}\n",
    "\\right]\n",
    "$$"
   ]
  },
  {
   "cell_type": "markdown",
   "metadata": {},
   "source": [
    "Ejemplo numérico\n",
    "---"
   ]
  },
  {
   "cell_type": "code",
   "execution_count": 1,
   "metadata": {},
   "outputs": [
    {
     "data": {
      "text/plain": [
       "array([44.17796037])"
      ]
     },
     "metadata": {},
     "output_type": "display_data"
    },
    {
     "data": {
      "text/plain": [
       "array([1.31894612])"
      ]
     },
     "metadata": {},
     "output_type": "display_data"
    }
   ],
   "source": [
    "from sklearn.datasets import make_regression\n",
    "from sklearn.linear_model import SGDRegressor\n",
    "\n",
    "X, y = make_regression(\n",
    "    n_samples=100,\n",
    "    n_features=1,\n",
    "    n_informative=1,\n",
    "    bias=0.0,\n",
    "    effective_rank=None,\n",
    "    tail_strength=0.9,\n",
    "    noise=10.0,\n",
    "    shuffle=False,\n",
    "    coef=False,\n",
    "    random_state=12356,\n",
    ")\n",
    "\n",
    "\n",
    "sgdRegressor = SGDRegressor(\n",
    "    # -----------------------------------------------------\n",
    "    # 'squared_loss', 'huber', 'epsilon_insensitive',\n",
    "    # 'squared_epsilon_insensitive'\n",
    "    loss=\"squared_loss\",\n",
    "    # -----------------------------------------------------\n",
    "    # # 'none', 'l2' (ridge), 'l1' (lasso), 'elasticnet'\n",
    "    penalty=\"l2\",\n",
    "    # -----------------------------------------------------\n",
    "    # Constant that multiplies the regularization term.\n",
    "    alpha=0.0001,\n",
    "    # -----------------------------------------------------\n",
    "    # The Elastic Net mixing parameter\n",
    "    l1_ratio=0.15,\n",
    "    # -----------------------------------------------------\n",
    "    # Whether the intercept should be estimated or not.\n",
    "    fit_intercept=True,\n",
    "    # -----------------------------------------------------\n",
    "    # The maximum number of passes over the training data\n",
    "    # (aka epochs)\n",
    "    max_iter=1000,\n",
    "    # -----------------------------------------------------\n",
    "    # Whether or not the training data should be shuffled\n",
    "    # after each epoch.\n",
    "    shuffle=True,\n",
    "    # -----------------------------------------------------\n",
    "    # Epsilon in the epsilon-insensitive loss functions\n",
    "    epsilon=0.1,\n",
    "    # -----------------------------------------------------\n",
    "    # Used for shuffling the data, when shuffle is set to\n",
    "    # True.\n",
    "    random_state=None,\n",
    "    # -----------------------------------------------------\n",
    "    # The learning rate schedule\n",
    "    # 'constant', 'optimal', 'invscaling', 'adaptive'\n",
    "    learning_rate=\"invscaling\",\n",
    "    # -----------------------------------------------------\n",
    "    # The initial learning rate for the ‘constant’,\n",
    "    # ‘invscaling’ or ‘adaptive’ schedules.\n",
    "    eta0=0.01,\n",
    "    # -----------------------------------------------------\n",
    "    # The exponent for inverse scaling learning rate.\n",
    "    power_t=0.25,\n",
    "    # -----------------------------------------------------\n",
    "    # Whether to use early stopping to terminate training\n",
    "    # when validation score is not improving.\n",
    "    early_stopping=False,\n",
    "    # -----------------------------------------------------\n",
    "    # The proportion of training data to set aside as\n",
    "    # validation set for early stopping.\n",
    "    validation_fraction=0.1,\n",
    "    # -----------------------------------------------------\n",
    "    # Number of iterations with no improvement to wait\n",
    "    # before stopping fitting.\n",
    "    n_iter_no_change=5,\n",
    "    # -----------------------------------------------------\n",
    "    # When set to True, reuse the solution of the previous\n",
    "    # call to fit as initialization, otherwise, just erase\n",
    "    # the previous solution.\n",
    "    warm_start=False,\n",
    "    # -----------------------------------------------------\n",
    "    # When set to True, computes the averaged SGD weights\n",
    "    # across all updates and stores the result in the\n",
    "    # coef_ attribute.\n",
    "    average=False,\n",
    ")\n",
    "\n",
    "sgdRegressor.fit(X, y)\n",
    "\n",
    "display(\n",
    "    sgdRegressor.coef_,\n",
    "    sgdRegressor.intercept_,\n",
    ")"
   ]
  },
  {
   "cell_type": "code",
   "execution_count": 2,
   "metadata": {},
   "outputs": [],
   "source": [
    "def plot_regression(y_pred):\n",
    "    plt.scatter(X, y, marker=\"o\", s=130, edgecolors=\"white\", c=\"tab:blue\")\n",
    "    plt.plot(X_pred, y_pred, \"-\", linewidth=4, color=\"tab:orange\")\n",
    "    plt.gca().spines[\"left\"].set_color(\"gray\")\n",
    "    plt.gca().spines[\"bottom\"].set_color(\"gray\")\n",
    "    plt.gca().spines[\"top\"].set_visible(False)\n",
    "    plt.gca().spines[\"right\"].set_visible(False)\n",
    "    plt.xlabel(\"x\")\n",
    "    plt.ylabel(\"y\")"
   ]
  },
  {
   "cell_type": "code",
   "execution_count": 3,
   "metadata": {},
   "outputs": [
    {
     "data": {
      "image/png": "[encoded data removed]",
      "text/plain": [
       "<Figure size 576x576 with 1 Axes>"
      ]
     },
     "metadata": {
      "needs_background": "light"
     },
     "output_type": "display_data"
    }
   ],
   "source": [
    "import matplotlib.pyplot as plt\n",
    "import numpy as np\n",
    "\n",
    "X_pred = np.linspace(start=-2.5, stop=4, num=50).reshape(-1, 1)\n",
    "y_pred = sgdRegressor.predict(X_pred)\n",
    "\n",
    "plt.figure(figsize=(8, 8))\n",
    "plot_regression(y_pred)\n",
    "plt.show()"
   ]
  },
  {
   "cell_type": "markdown",
   "metadata": {},
   "source": [
    "Aprendizaje online\n",
    "---"
   ]
  },
  {
   "cell_type": "code",
   "execution_count": 4,
   "metadata": {},
   "outputs": [
    {
     "data": {
      "image/png": "[encoded data removed]",
      "text/plain": [
       "<Figure size 1152x360 with 4 Axes>"
      ]
     },
     "metadata": {
      "needs_background": "light"
     },
     "output_type": "display_data"
    }
   ],
   "source": [
    "#\n",
    "# Se tomarn los valores por defecto del constructor\n",
    "#\n",
    "\n",
    "sgdRegressor = SGDRegressor()\n",
    "\n",
    "plt.figure(figsize=(16, 5))\n",
    "\n",
    "for i in range(4):\n",
    "    plt.subplot(1, 4, i + 1)\n",
    "    sgdRegressor.partial_fit(X, y)\n",
    "    y_pred = sgdRegressor.predict(X_pred)\n",
    "    plot_regression(y_pred)\n",
    "\n",
    "\n",
    "plt.show()"
   ]
  },
  {
   "cell_type": "markdown",
   "metadata": {},
   "source": [
    "---"
   ]
  },
  {
   "cell_type": "code",
   "execution_count": 5,
   "metadata": {},
   "outputs": [],
   "source": [
    "def fig1():\n",
    "\n",
    "    import matplotlib.pyplot as plt\n",
    "    import numpy as np\n",
    "\n",
    "    plt.figure(figsize=(10, 10))\n",
    "    errors = np.linspace(start=-2, stop=2, num=50, endpoint=True)\n",
    "\n",
    "    def format_plot():\n",
    "        plt.gca().spines[\"left\"].set_color(\"gray\")\n",
    "        plt.gca().spines[\"bottom\"].set_color(\"gray\")\n",
    "        plt.gca().spines[\"top\"].set_visible(False)\n",
    "        plt.gca().spines[\"right\"].set_visible(False)\n",
    "        ylim = plt.ylim()\n",
    "        plt.ylim(-0.1, ylim[1])\n",
    "\n",
    "    # -------------------------------------------------------------\n",
    "    plt.subplot(2, 2, 1)\n",
    "    squared_loss = np.power(errors, 2)\n",
    "    plt.plot(errors, squared_loss, c=\"tab:blue\", lw=3)\n",
    "    plt.title(\"Squared loss\")\n",
    "    format_plot()\n",
    "\n",
    "    # -------------------------------------------------------------\n",
    "    def hubber(loss, epsilon):\n",
    "        return np.where(\n",
    "            np.abs(loss) <= epsilon,\n",
    "            0.5 * np.power(loss, 2),\n",
    "            epsilon * np.abs(loss) - 0.5 * epsilon ** 2,\n",
    "        )\n",
    "\n",
    "    plt.subplot(2, 2, 2)\n",
    "    plt.plot(errors, hubber(errors, 0.2), c=\"tab:blue\", lw=3, label=\"$\\epsilon$=0.2\")\n",
    "    plt.plot(errors, hubber(errors, 0.5), c=\"tab:orange\", lw=3, label=\"$\\epsilon$=0.5\")\n",
    "    plt.plot(errors, hubber(errors, 0.8), c=\"tab:green\", lw=3, label=\"$\\epsilon$=0.8\")\n",
    "    plt.title(\"Hubber\")\n",
    "    format_plot()\n",
    "    plt.legend()\n",
    "\n",
    "    # -------------------------------------------------------------\n",
    "    def epsilon_insensitive(loss, epsilon):\n",
    "        return np.where(np.abs(loss) <= epsilon, 0, np.abs(loss) - epsilon)\n",
    "\n",
    "    plt.subplot(2, 2, 3)\n",
    "    plt.plot(\n",
    "        errors,\n",
    "        epsilon_insensitive(errors, 0.2),\n",
    "        c=\"tab:blue\",\n",
    "        lw=3,\n",
    "        label=\"$\\epsilon$=0.2\",\n",
    "    )\n",
    "    plt.plot(\n",
    "        errors,\n",
    "        epsilon_insensitive(errors, 0.5),\n",
    "        c=\"tab:orange\",\n",
    "        lw=3,\n",
    "        label=\"$\\epsilon$=0.5\",\n",
    "    )\n",
    "    plt.plot(\n",
    "        errors,\n",
    "        epsilon_insensitive(errors, 0.8),\n",
    "        c=\"tab:green\",\n",
    "        lw=3,\n",
    "        label=\"$\\epsilon$=0.8\",\n",
    "    )\n",
    "    format_plot()\n",
    "    plt.title(\"Epsilon insensitive\")\n",
    "    plt.legend()\n",
    "\n",
    "    # -------------------------------------------------------------\n",
    "    def squared_epsilon_insensitive(loss, epsilon):\n",
    "        return np.power(epsilon_insensitive(loss, epsilon), 2)\n",
    "\n",
    "    plt.subplot(2, 2, 4)\n",
    "    plt.plot(\n",
    "        errors,\n",
    "        squared_epsilon_insensitive(errors, 0.2),\n",
    "        c=\"tab:blue\",\n",
    "        lw=3,\n",
    "        label=\"$\\epsilon$=0.2\",\n",
    "    )\n",
    "    plt.plot(\n",
    "        errors,\n",
    "        squared_epsilon_insensitive(errors, 0.5),\n",
    "        c=\"tab:orange\",\n",
    "        lw=3,\n",
    "        label=\"$\\epsilon$=0.5\",\n",
    "    )\n",
    "    plt.plot(\n",
    "        errors,\n",
    "        squared_epsilon_insensitive(errors, 0.8),\n",
    "        c=\"tab:green\",\n",
    "        lw=3,\n",
    "        label=\"$\\epsilon$=0.8\",\n",
    "    )\n",
    "    plt.title(\"Squared epsilon insensitive\")\n",
    "    format_plot()\n",
    "    plt.legend()\n",
    "\n",
    "    plt.tight_layout()\n",
    "    plt.savefig(\"assets/loss_functions_regression.png\")\n",
    "    plt.close()\n",
    "\n",
    "\n",
    "## fig1()"
   ]
  }
 ],
 "metadata": {
  "kernelspec": {
   "display_name": "Python 3",
   "language": "python",
   "name": "python3"
  },
  "language_info": {
   "codemirror_mode": {
    "name": "ipython",
    "version": 3
   },
   "file_extension": ".py",
   "mimetype": "text/x-python",
   "name": "python",
   "nbconvert_exporter": "python",
   "pygments_lexer": "ipython3",
   "version": "3.6.9"
  }
 },
 "nbformat": 4,
 "nbformat_minor": 4
}
