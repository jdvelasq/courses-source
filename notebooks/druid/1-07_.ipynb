{
 "cells": [
  {
   "cell_type": "markdown",
   "id": "e6e51b74-97fc-4384-b0cc-bdcf23dc6c3f",
   "metadata": {
    "tags": []
   },
   "source": [
    "Introducción a pydruid\n",
    "===\n",
    "\n",
    "* Ultima modificación: Mayo 24, 2022"
   ]
  },
  {
   "cell_type": "markdown",
   "id": "ae84f37a-1da5-4f34-89c0-6c71a7d172d4",
   "metadata": {},
   "source": [
    "Ver https://druid.apache.org/blog/2014/04/15/intro-to-pydruid.html"
   ]
  }
 ],
 "metadata": {
  "kernelspec": {
   "display_name": "Python 3 (ipykernel)",
   "language": "python",
   "name": "python3"
  },
  "language_info": {
   "codemirror_mode": {
    "name": "ipython",
    "version": 3
   },
   "file_extension": ".py",
   "mimetype": "text/x-python",
   "name": "python",
   "nbconvert_exporter": "python",
   "pygments_lexer": "ipython3",
   "version": "3.8.10"
  }
 },
 "nbformat": 4,
 "nbformat_minor": 5
}
