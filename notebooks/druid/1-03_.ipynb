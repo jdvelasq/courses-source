{
 "cells": [
  {
   "cell_type": "markdown",
   "id": "d3fcec5f-989e-4a93-9237-37966e5d497e",
   "metadata": {
    "tags": []
   },
   "source": [
    "Creación de queries desde la consola\n",
    "===\n",
    "\n",
    "* Ultima modificación: Mayo 24, 2022"
   ]
  },
  {
   "cell_type": "markdown",
   "id": "58a7b8e9-ccfc-4155-b580-a5210c4d2d94",
   "metadata": {},
   "source": [
    "* Selecccione `Query` en la barra principal."
   ]
  },
  {
   "cell_type": "markdown",
   "id": "cd14b480-f1c3-495d-a240-4b7ec8e54415",
   "metadata": {},
   "source": [
    "![assets/druid-00019.png](assets/druid-00019.png)"
   ]
  },
  {
   "cell_type": "markdown",
   "id": "72b920ea-f59c-45c1-bd30-1ec9c35b3123",
   "metadata": {},
   "source": [
    "* En los campos de la fuente de datos (panel izquierdo), seleccione `page` -> `Show:page`. "
   ]
  },
  {
   "cell_type": "markdown",
   "id": "d9b05707-87c6-4731-a3e5-3d7c4e917adc",
   "metadata": {},
   "source": [
    "![assets/druid-00020.png](assets/druid-00020.png)"
   ]
  },
  {
   "cell_type": "markdown",
   "id": "a8bd88b0-a2af-4692-84d4-04e7d2695bd1",
   "metadata": {},
   "source": [
    "* La acción anterior generará una consulta base que puede ser editada."
   ]
  },
  {
   "cell_type": "markdown",
   "id": "04d3ff4d-b4f9-4194-82fe-594786f50dc9",
   "metadata": {},
   "source": [
    "![assets/druid-00021.png](assets/druid-00021.png)"
   ]
  },
  {
   "cell_type": "markdown",
   "id": "e43354ec-3e53-40f5-abe9-3c1b59700988",
   "metadata": {},
   "source": [
    "* Seleccione `__time` y `Remove filter`"
   ]
  },
  {
   "cell_type": "markdown",
   "id": "7168fbf1-9a1e-4893-b88d-8edbd47ae6db",
   "metadata": {},
   "source": [
    "![assets/druid-00022.png](assets/druid-00022.png)"
   ]
  },
  {
   "cell_type": "markdown",
   "id": "3ecb4cc3-94fd-41a7-a3b2-c4cbf257d749",
   "metadata": {},
   "source": [
    "* Ejecute la consulta haciendo click en `Run`"
   ]
  },
  {
   "cell_type": "markdown",
   "id": "aefd99e9-8f2e-44c9-8753-760709d0844b",
   "metadata": {},
   "source": [
    "![assets/druid-00023.png](assets/druid-00023.png)"
   ]
  },
  {
   "cell_type": "markdown",
   "id": "daaca392-59f3-4b03-994e-bf5d1cea5815",
   "metadata": {},
   "source": [
    "* Adicione un nuevo filtro `countryName IS NOT NULL`"
   ]
  },
  {
   "cell_type": "markdown",
   "id": "c7124cb5-c74b-42f0-8fcb-8743fce37143",
   "metadata": {},
   "source": [
    "![assets/druid-00025.png](assets/druid-00025.png)"
   ]
  },
  {
   "cell_type": "markdown",
   "id": "2d775c59-59a7-4fd9-bdc3-504d1d8d87a4",
   "metadata": {},
   "source": [
    "* Haga click en `Run` para ejecutar la consulta."
   ]
  },
  {
   "cell_type": "markdown",
   "id": "1d4714b4-7504-42d7-bf8f-52451d24cb42",
   "metadata": {},
   "source": [
    "![assets/druid-00026.png](assets/druid-00026.png)"
   ]
  },
  {
   "cell_type": "markdown",
   "id": "d61ad193-8322-418b-980b-17c619d5a856",
   "metadata": {},
   "source": [
    "* Haga click en los tres puntos `...` y seleccione `Explain SQL query`"
   ]
  },
  {
   "cell_type": "markdown",
   "id": "d89b5589-7b19-46b8-a649-20d4d933fbbe",
   "metadata": {},
   "source": [
    "![assets/druid-00027.png](assets/druid-00027.png)"
   ]
  },
  {
   "cell_type": "markdown",
   "id": "03b58499-82e9-4e1b-bbff-1e57324a880d",
   "metadata": {},
   "source": [
    "* La consulta puede ser editada haciendo click en `Open query`"
   ]
  },
  {
   "cell_type": "markdown",
   "id": "027b0fb7-28fe-491e-9e4a-6b3e9fc4cb2a",
   "metadata": {},
   "source": [
    "![assets/druid-00028.png](assets/druid-00028.png)"
   ]
  },
  {
   "cell_type": "markdown",
   "id": "734771e7-9060-466d-8805-dd7408d1187e",
   "metadata": {},
   "source": [
    "![assets/druid-00029.png](assets/druid-00029.png)"
   ]
  },
  {
   "cell_type": "markdown",
   "id": "47a845e6-d8af-41c0-bc68-e8d3b6b3fadb",
   "metadata": {},
   "source": [
    "Consultas en el Terminal con dsql\n",
    "--"
   ]
  },
  {
   "cell_type": "markdown",
   "id": "25422f8e-11cb-478b-9029-c22496514f49",
   "metadata": {},
   "source": [
    "* Abra un Terminal y digite `dsql`"
   ]
  },
  {
   "cell_type": "markdown",
   "id": "f0a48b7e-d5bd-4a2d-8655-4fae6aa040b5",
   "metadata": {},
   "source": [
    "![assets/druid-00030.png](assets/druid-00030.png)"
   ]
  },
  {
   "cell_type": "markdown",
   "id": "712cb135-b3cd-4e3b-acf0-687883190967",
   "metadata": {},
   "source": [
    "* Realice una consulta"
   ]
  },
  {
   "cell_type": "markdown",
   "id": "800e01c6-1393-43e3-8ba9-78f31076d137",
   "metadata": {},
   "source": [
    "![assets/druid-00031.png](assets/druid-00031.png)"
   ]
  }
 ],
 "metadata": {
  "kernelspec": {
   "display_name": "Python 3 (ipykernel)",
   "language": "python",
   "name": "python3"
  },
  "language_info": {
   "codemirror_mode": {
    "name": "ipython",
    "version": 3
   },
   "file_extension": ".py",
   "mimetype": "text/x-python",
   "name": "python",
   "nbconvert_exporter": "python",
   "pygments_lexer": "ipython3",
   "version": "3.8.10"
  }
 },
 "nbformat": 4,
 "nbformat_minor": 5
}
