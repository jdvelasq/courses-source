{
 "cells": [
  {
   "cell_type": "markdown",
   "id": "6e492a15-7cd9-4aa4-b7eb-cae51a817dd8",
   "metadata": {
    "tags": []
   },
   "source": [
    "Carga de datos en el HDFS a Apache Druid\n",
    "===\n",
    "\n",
    "* Ultima modificación: Mayo 24, 2022"
   ]
  },
  {
   "cell_type": "markdown",
   "id": "06b38f2c-bd45-4b1d-a5e9-ae8d953e0e2b",
   "metadata": {},
   "source": [
    "La interfaz está disponible en 127.0.0.0:9999"
   ]
  },
  {
   "cell_type": "markdown",
   "id": "b4b83394-7f92-4bba-b1fb-217c61e56552",
   "metadata": {},
   "source": [
    "Movimiento de los datos de prueba al HDFS\n",
    "---"
   ]
  },
  {
   "cell_type": "code",
   "execution_count": 1,
   "id": "841c2221-6fa6-4887-b7ab-b002addd4dd2",
   "metadata": {},
   "outputs": [
    {
     "name": "stdout",
     "output_type": "stream",
     "text": [
      "Found 1 items\n",
      "-rw-r--r--   1 root supergroup    2366222 2022-05-25 02:39 /user/root/wikiticker-2015-09-12-sampled.json.gz\n"
     ]
    }
   ],
   "source": [
    "!hdfs dfs -copyFromLocal /opt/druid/quickstart/tutorial/wikiticker-2015-09-12-sampled.json.gz \n",
    "!hdfs dfs -ls /user/root/"
   ]
  },
  {
   "cell_type": "markdown",
   "id": "8e070721-b106-44e6-b0e5-d9ae970ace3e",
   "metadata": {},
   "source": [
    "Carga de datos en el HDFS\n",
    "---"
   ]
  },
  {
   "cell_type": "markdown",
   "id": "5bebf689-2094-4c33-827e-1b9b24befc86",
   "metadata": {},
   "source": [
    "* Seleccione `Load data`"
   ]
  },
  {
   "cell_type": "markdown",
   "id": "f6e2dfbe-683a-4272-b3d9-302bea125c60",
   "metadata": {},
   "source": [
    "* Seleccione `Start a new spec`"
   ]
  },
  {
   "cell_type": "markdown",
   "id": "3e67b983-224b-4ac6-a93c-924fd3824130",
   "metadata": {},
   "source": [
    "![assets/druid-00012.png](assets/druid-00012.png)"
   ]
  },
  {
   "cell_type": "markdown",
   "id": "92a92aa4-8569-4e08-a021-17cdbc08a910",
   "metadata": {},
   "source": [
    "* Seleccione `Connect data ->`"
   ]
  },
  {
   "cell_type": "markdown",
   "id": "6bb7bbad-625c-4515-bb37-1dba061c1b97",
   "metadata": {},
   "source": [
    "![assets/druid-00013.png](assets/druid-00013.png)"
   ]
  },
  {
   "cell_type": "markdown",
   "id": "bcd34705-acf3-4a07-adf0-6fe77c8e7d67",
   "metadata": {},
   "source": [
    "* En `Source type` seleccione `hdfs`"
   ]
  },
  {
   "cell_type": "markdown",
   "id": "c0a7516f-5be6-4bb9-9e74-00127b26614d",
   "metadata": {},
   "source": [
    "* En `Paths` coloque `/user/root/wikiticker-2015-09-12-sampled.json.gz`"
   ]
  },
  {
   "cell_type": "markdown",
   "id": "cb068eec-aeb7-49ee-95ef-1845b7970486",
   "metadata": {},
   "source": [
    "![assets/druid-00014.png](assets/druid-00014.png)"
   ]
  },
  {
   "cell_type": "markdown",
   "id": "155bb6a0-f99c-40cd-97de-5ba831102abd",
   "metadata": {},
   "source": [
    "* En `Segment granularity` seleccione `day`"
   ]
  },
  {
   "cell_type": "markdown",
   "id": "dd189bf1-679d-44ad-9143-c07d55184559",
   "metadata": {},
   "source": [
    "* Seleccione `Next: Tune ->`"
   ]
  },
  {
   "cell_type": "markdown",
   "id": "a312608d-9d06-4407-aa17-e8a1b0721fdd",
   "metadata": {},
   "source": [
    "![assets/druid-00015.png](assets/druid-00015.png)"
   ]
  },
  {
   "cell_type": "markdown",
   "id": "9a2c4044-2fea-42de-acf9-8a4138bd7641",
   "metadata": {},
   "source": [
    "* En `Datasource name` asigne el nombre de la fuente de datos"
   ]
  },
  {
   "cell_type": "markdown",
   "id": "5872cc1c-2677-4a2c-a0b6-e57d7d89c1c9",
   "metadata": {},
   "source": [
    "* Seleccione `Next: Edit spec ->`"
   ]
  },
  {
   "cell_type": "markdown",
   "id": "4237d5f0-de4b-4313-8831-10a422cc40d5",
   "metadata": {},
   "source": [
    "![assets/druid-00016.png](assets/druid-00016.png)"
   ]
  },
  {
   "cell_type": "markdown",
   "id": "41c756ef-556f-4036-a522-6cc677fdb1ab",
   "metadata": {},
   "source": [
    "* Seleccione `Submit`"
   ]
  },
  {
   "cell_type": "markdown",
   "id": "8d7d0355-5a8d-4b91-a20b-e89fc0978327",
   "metadata": {},
   "source": [
    "![assets/druid-00017.png](assets/druid-00017.png)"
   ]
  },
  {
   "cell_type": "markdown",
   "id": "f4bcd9c8-c848-48d5-8328-4e7bdb379204",
   "metadata": {},
   "source": [
    "Ya puede realizar consultas sobre los datos, tal como en el tutorial anterior."
   ]
  },
  {
   "cell_type": "markdown",
   "id": "c14caec9-7c5f-48ec-b990-e1703ee352df",
   "metadata": {},
   "source": [
    "![assets/druid-00018.png](assets/druid-00018.png)"
   ]
  }
 ],
 "metadata": {
  "kernelspec": {
   "display_name": "Python 3 (ipykernel)",
   "language": "python",
   "name": "python3"
  },
  "language_info": {
   "codemirror_mode": {
    "name": "ipython",
    "version": 3
   },
   "file_extension": ".py",
   "mimetype": "text/x-python",
   "name": "python",
   "nbconvert_exporter": "python",
   "pygments_lexer": "ipython3",
   "version": "3.8.10"
  }
 },
 "nbformat": 4,
 "nbformat_minor": 5
}
