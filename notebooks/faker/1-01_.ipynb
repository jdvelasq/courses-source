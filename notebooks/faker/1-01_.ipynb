{
 "cells": [
  {
   "cell_type": "markdown",
   "id": "e91bf09e-cc1a-49c3-8ef8-267e53247491",
   "metadata": {
    "tags": []
   },
   "source": [
    "Faker --- 0:00 min\n",
    "===\n",
    "\n",
    "* Ultima modificación: Mayo 13, 2022 | YouTube"
   ]
  },
  {
   "cell_type": "code",
   "execution_count": null,
   "id": "0cb87fa1-445c-4490-b976-65c75a827edb",
   "metadata": {},
   "outputs": [],
   "source": []
  },
  {
   "cell_type": "code",
   "execution_count": null,
   "id": "66197157-c62b-4426-9b8e-0a3b079c0eb7",
   "metadata": {},
   "outputs": [],
   "source": []
  },
  {
   "cell_type": "code",
   "execution_count": null,
   "id": "348e708b-5c26-4f4a-857a-72f536499811",
   "metadata": {},
   "outputs": [],
   "source": []
  }
 ],
 "metadata": {
  "kernelspec": {
   "display_name": "Python 3 (ipykernel)",
   "language": "python",
   "name": "python3"
  },
  "language_info": {
   "codemirror_mode": {
    "name": "ipython",
    "version": 3
   },
   "file_extension": ".py",
   "mimetype": "text/x-python",
   "name": "python",
   "nbconvert_exporter": "python",
   "pygments_lexer": "ipython3",
   "version": "3.8.10"
  }
 },
 "nbformat": 4,
 "nbformat_minor": 5
}
