{
 "cells": [
  {
   "cell_type": "markdown",
   "id": "44466e0a-6844-413f-a44a-ef6e0ad17380",
   "metadata": {
    "tags": []
   },
   "source": [
    "Base Provider\n",
    "===\n",
    "\n",
    "* Ultima modificación: Mayo 14, 2022"
   ]
  },
  {
   "cell_type": "code",
   "execution_count": 1,
   "id": "c47d4899-602b-43ee-9c17-fc9f43d228c7",
   "metadata": {},
   "outputs": [],
   "source": [
    "from faker import Faker\n",
    "\n",
    "fake = Faker()"
   ]
  },
  {
   "cell_type": "markdown",
   "id": "5e9f06eb-c62c-4d76-987d-f51f5bb26677",
   "metadata": {},
   "source": [
    "**bothify(text: str = '## ??', letters: str = 'abcdefghijklmnopqrstuvwxyzABCDEFGHIJKLMNOPQRSTUVWXYZ') → str**"
   ]
  },
  {
   "cell_type": "code",
   "execution_count": 2,
   "id": "e67b22be-2cf3-42a5-8209-e2b3cdc26547",
   "metadata": {},
   "outputs": [
    {
     "name": "stdout",
     "output_type": "stream",
     "text": [
      "17 DB\n",
      "88 AC\n",
      "09 CD\n",
      "21 BD\n",
      "82 CB\n"
     ]
    }
   ],
   "source": [
    "#\n",
    "# Generate a string with each placeholder in text replaced according to the\n",
    "# following rules:\n",
    "#\n",
    "#   * Number signs (‘#’) are replaced with a random digit (0 to 9).\n",
    "#\n",
    "#   * Question marks (‘?’) are replaced with a random character from letters.\n",
    "#\n",
    "for _ in range(5):\n",
    "    print(fake.bothify(letters=\"ABCDE\"))"
   ]
  },
  {
   "cell_type": "code",
   "execution_count": 3,
   "id": "75041449-5e15-43ad-a7bd-b77d54316118",
   "metadata": {},
   "outputs": [
    {
     "name": "stdout",
     "output_type": "stream",
     "text": [
      "Product Number: EwLn-66048764\n",
      "Product Number: TZMj-82421948\n",
      "Product Number: BuNO-41157815\n",
      "Product Number: afUz-38778408\n",
      "Product Number: KopZ-09753513\n"
     ]
    }
   ],
   "source": [
    "Faker.seed(0)\n",
    "for _ in range(5):\n",
    "    print(fake.bothify(text=\"Product Number: ????-########\"))"
   ]
  },
  {
   "cell_type": "code",
   "execution_count": 4,
   "id": "4f37e81e-9344-4c48-bbe0-67852b3862da",
   "metadata": {},
   "outputs": [
    {
     "name": "stdout",
     "output_type": "stream",
     "text": [
      "Product Number: DCEB-66048764\n",
      "Product Number: EBCA-82421948\n",
      "Product Number: EBED-15781565\n",
      "Product Number: AEDC-78408016\n",
      "Product Number: EDAA-35139332\n"
     ]
    }
   ],
   "source": [
    "Faker.seed(0)\n",
    "for _ in range(5):\n",
    "    print(fake.bothify(text=\"Product Number: ????-########\", letters=\"ABCDE\"))"
   ]
  },
  {
   "cell_type": "markdown",
   "id": "8b6d7655-89d4-4290-a4c3-a94cb530b5ab",
   "metadata": {},
   "source": [
    "**hexify(text: str = '^^^^', upper: bool = False) → str**"
   ]
  },
  {
   "cell_type": "code",
   "execution_count": 5,
   "id": "4f1523a6-9e37-49a8-b054-ba6cc3b73160",
   "metadata": {},
   "outputs": [
    {
     "name": "stdout",
     "output_type": "stream",
     "text": [
      "MAC Address: cd:18:fc:9f:b6:49\n",
      "MAC Address: 43:84:93:2a:f3:bd\n",
      "MAC Address: a6:fe:81:02:c0:fa\n",
      "MAC Address: 7a:26:77:4e:22:af\n",
      "MAC Address: 39:93:a6:9e:2c:a7\n"
     ]
    }
   ],
   "source": [
    "Faker.seed(0)\n",
    "for _ in range(5):\n",
    "    print(fake.hexify(text=\"MAC Address: ^^:^^:^^:^^:^^:^^\"))"
   ]
  },
  {
   "cell_type": "code",
   "execution_count": 6,
   "id": "6e15482c-81fc-4c30-adc2-30d052f25eea",
   "metadata": {},
   "outputs": [
    {
     "name": "stdout",
     "output_type": "stream",
     "text": [
      "MAC Address: CD:18:FC:9F:B6:49\n",
      "MAC Address: 43:84:93:2A:F3:BD\n",
      "MAC Address: A6:FE:81:02:C0:FA\n",
      "MAC Address: 7A:26:77:4E:22:AF\n",
      "MAC Address: 39:93:A6:9E:2C:A7\n"
     ]
    }
   ],
   "source": [
    "Faker.seed(0)\n",
    "for _ in range(5):\n",
    "    print(fake.hexify(text=\"MAC Address: ^^:^^:^^:^^:^^:^^\", upper=True))"
   ]
  },
  {
   "cell_type": "markdown",
   "id": "4feaa0f0-8c5e-4458-ae75-802215a71f6f",
   "metadata": {},
   "source": [
    "**language_code() → str**"
   ]
  },
  {
   "cell_type": "code",
   "execution_count": 7,
   "id": "5e9b5a07-e26e-4b9c-b6a7-71577b593efe",
   "metadata": {},
   "outputs": [
    {
     "name": "stdout",
     "output_type": "stream",
     "text": [
      "mg\n",
      "mt\n",
      "az\n",
      "hy\n",
      "ro\n"
     ]
    }
   ],
   "source": [
    "Faker.seed(0)\n",
    "for _ in range(5):\n",
    "    print(fake.language_code())"
   ]
  },
  {
   "cell_type": "markdown",
   "id": "e96c7f5a-ace7-4578-b9e1-b3de208b39b7",
   "metadata": {},
   "source": [
    "**lexify(text: str = '????', letters: str = 'abcdefghijklmnopqrstuvwxyzABCDEFGHIJKLMNOPQRSTUVWXYZ') → str**"
   ]
  },
  {
   "cell_type": "code",
   "execution_count": 8,
   "id": "6a22f574-bb5c-4599-a077-415866531c09",
   "metadata": {},
   "outputs": [
    {
     "name": "stdout",
     "output_type": "stream",
     "text": [
      "Random Identifier: yWAcqGFzYt\n",
      "Random Identifier: EwLnGisiWg\n",
      "Random Identifier: NZqITZMjtg\n",
      "Random Identifier: UeRvEJgwBu\n",
      "Random Identifier: NOnJECHqdZ\n"
     ]
    }
   ],
   "source": [
    "Faker.seed(0)\n",
    "for _ in range(5):\n",
    "    print(fake.lexify(text=\"Random Identifier: ??????????\"))"
   ]
  },
  {
   "cell_type": "code",
   "execution_count": 9,
   "id": "69523715-1525-4931-b116-6f7a666bbec3",
   "metadata": {},
   "outputs": [
    {
     "name": "stdout",
     "output_type": "stream",
     "text": [
      "Random Identifier: DDACEDDCDC\n",
      "Random Identifier: EBEBCBAECE\n",
      "Random Identifier: EBCAACDEAC\n",
      "Random Identifier: DCEBEDDECA\n",
      "Random Identifier: EAADAEDCBC\n"
     ]
    }
   ],
   "source": [
    "Faker.seed(0)\n",
    "for _ in range(5):\n",
    "    print(fake.lexify(text=\"Random Identifier: ??????????\", letters=\"ABCDE\"))"
   ]
  },
  {
   "cell_type": "markdown",
   "id": "d906799e-9415-408b-9101-e987f5bc345b",
   "metadata": {},
   "source": [
    "**locale() → str**"
   ]
  },
  {
   "cell_type": "code",
   "execution_count": 10,
   "id": "978b49c0-e12c-4e23-a3c8-9b2cdc74b20e",
   "metadata": {},
   "outputs": [
    {
     "name": "stdout",
     "output_type": "stream",
     "text": [
      "mg_MG\n",
      "az_IN\n",
      "ro_RO\n",
      "mn_MN\n",
      "os_RU\n"
     ]
    }
   ],
   "source": [
    "Faker.seed(0)\n",
    "for _ in range(5):\n",
    "    print(fake.locale())"
   ]
  },
  {
   "cell_type": "markdown",
   "id": "c078fc01-e0e6-4e42-abbb-5404ff664df5",
   "metadata": {},
   "source": [
    "**numerify(text: str = '###') → str**"
   ]
  },
  {
   "cell_type": "code",
   "execution_count": 11,
   "id": "d49bc349-b730-45a7-893f-58162d074f25",
   "metadata": {},
   "outputs": [
    {
     "name": "stdout",
     "output_type": "stream",
     "text": [
      "Intel Core i9-8766K vs AMD Ryzen 5 8604X\n",
      "Intel Core i5-3293K vs AMD Ryzen 5 9382X\n",
      "Intel Core i8-9241K vs AMD Ryzen 6 7615X\n",
      "Intel Core i8-9593K vs AMD Ryzen 1 9187X\n",
      "Intel Core i8-6416K vs AMD Ryzen 6 2409X\n"
     ]
    }
   ],
   "source": [
    "#\n",
    "#  #: digitos 0-9\n",
    "#  %: digitos 1-9\n",
    "#  !: digito (0-9) aleatorio o espacio\n",
    "#  @: digito (1-9) aleatorio o espacio\n",
    "#\n",
    "Faker.seed(0)\n",
    "for _ in range(5):\n",
    "    print(fake.numerify(text=\"Intel Core i%-%%##K vs AMD Ryzen % %%##X\"))"
   ]
  },
  {
   "cell_type": "code",
   "execution_count": 12,
   "id": "0e59da8a-2108-4050-bef8-cb8231b892a3",
   "metadata": {},
   "outputs": [
    {
     "name": "stdout",
     "output_type": "stream",
     "text": [
      "68 672 9 8 72 488 1 16\n",
      "1 9 1 8 681 83 1 8\n",
      "  828 6 9 72 35 7\n",
      "   4 11 2 2 63\n",
      "0 352 93 7 6 5 28 13\n"
     ]
    }
   ],
   "source": [
    "Faker.seed(0)\n",
    "for _ in range(5):\n",
    "    print(fake.numerify(text=\"!!! !!@ !@! !@@ @!! @!@ @@! @@@\"))"
   ]
  },
  {
   "cell_type": "markdown",
   "id": "2c1508b6-c821-49fe-b48d-c383eeced5c6",
   "metadata": {},
   "source": [
    "**random_choices(elements: Collection[T] = ('a', 'b', 'c'), length: Optional[int] = None) → Sequence[T]**"
   ]
  },
  {
   "cell_type": "code",
   "execution_count": 13,
   "id": "99240ca2-265f-4df0-9ede-5b522f0cad16",
   "metadata": {},
   "outputs": [
    {
     "name": "stdout",
     "output_type": "stream",
     "text": [
      "['d', 'b', 'b', 'c']\n",
      "['d', 'd', 'd', 'b']\n",
      "['c', 'b']\n",
      "['c']\n",
      "['b', 'c']\n"
     ]
    }
   ],
   "source": [
    "Faker.seed(0)\n",
    "for _ in range(5):\n",
    "    print(fake.random_choices(elements=(\"a\", \"b\", \"c\", \"d\")))"
   ]
  },
  {
   "cell_type": "code",
   "execution_count": 14,
   "id": "cd7fab66-a8c4-4291-a246-0e7d562128ea",
   "metadata": {},
   "outputs": [
    {
     "name": "stdout",
     "output_type": "stream",
     "text": [
      "['d', 'd', 'b', 'b', 'c', 'b', 'd', 'b', 'b', 'c']\n",
      "['d', 'c', 'b', 'd', 'c', 'b', 'd', 'd', 'd', 'd']\n",
      "['b', 'c', 'd', 'c', 'b', 'a', 'b', 'c', 'd', 'd']\n",
      "['b', 'd', 'b', 'd', 'c', 'a', 'c', 'b', 'd', 'c']\n",
      "['a', 'b', 'd', 'a', 'b', 'd', 'a', 'c', 'a', 'd']\n"
     ]
    }
   ],
   "source": [
    "Faker.seed(0)\n",
    "for _ in range(5):\n",
    "    print(fake.random_choices(elements=(\"a\", \"b\", \"c\", \"d\"), length=10))"
   ]
  },
  {
   "cell_type": "code",
   "execution_count": 15,
   "id": "e28d04e9-9c18-4315-8d35-b801d1623498",
   "metadata": {},
   "outputs": [
    {
     "name": "stdout",
     "output_type": "stream",
     "text": [
      "['b', 'a', 'a', 'b']\n",
      "['c', 'c', 'd', 'a']\n",
      "['b', 'a']\n",
      "['b']\n",
      "['d', 'b', 'b']\n"
     ]
    }
   ],
   "source": [
    "from collections import OrderedDict\n",
    "\n",
    "Faker.seed(0)\n",
    "for _ in range(5):\n",
    "    print(\n",
    "        fake.random_choices(\n",
    "            elements=OrderedDict(\n",
    "                [\n",
    "                    (\"a\", 0.45),\n",
    "                    (\"b\", 0.35),\n",
    "                    (\"c\", 0.15),\n",
    "                    (\"d\", 0.05),\n",
    "                ]\n",
    "            )\n",
    "        )\n",
    "    )"
   ]
  },
  {
   "cell_type": "code",
   "execution_count": 16,
   "id": "156acbe1-f26b-43d0-89bf-60939f521fa9",
   "metadata": {},
   "outputs": [
    {
     "name": "stdout",
     "output_type": "stream",
     "text": [
      "['c', 'b', 'a', 'a', 'b', 'a', 'b', 'a', 'b', 'b', 'c', 'b', 'a', 'b', 'b', 'a', 'c', 'd', 'c', 'c']\n",
      "['a', 'b', 'c', 'b', 'b', 'a', 'a', 'b', 'c', 'd', 'b', 'c', 'a', 'c', 'b', 'a', 'b', 'a', 'c', 'b']\n",
      "['a', 'b', 'c', 'a', 'a', 'c', 'a', 'b', 'a', 'd', 'c', 'a', 'a', 'a', 'b', 'c', 'a', 'b', 'b', 'b']\n",
      "['c', 'b', 'd', 'b', 'b', 'a', 'b', 'a', 'b', 'a', 'a', 'a', 'b', 'b', 'b', 'a', 'b', 'c', 'c', 'c']\n",
      "['c', 'c', 'b', 'a', 'b', 'a', 'c', 'c', 'c', 'b', 'c', 'b', 'b', 'b', 'd', 'c', 'b', 'a', 'b', 'b']\n"
     ]
    }
   ],
   "source": [
    "Faker.seed(0)\n",
    "for _ in range(5):\n",
    "    print(\n",
    "        fake.random_choices(\n",
    "            elements=OrderedDict(\n",
    "                [\n",
    "                    (\"a\", 0.45),\n",
    "                    (\"b\", 0.35),\n",
    "                    (\"c\", 0.15),\n",
    "                    (\"d\", 0.05),\n",
    "                ]\n",
    "            ),\n",
    "            length=20,\n",
    "        )\n",
    "    )"
   ]
  },
  {
   "cell_type": "markdown",
   "id": "4dc93373-0962-4ad7-8f79-a4850518ba7c",
   "metadata": {},
   "source": [
    "**random_digit() → int**"
   ]
  },
  {
   "cell_type": "code",
   "execution_count": 17,
   "id": "a13dd6b7-2a4c-4443-bf21-b4bddeae1427",
   "metadata": {},
   "outputs": [
    {
     "name": "stdout",
     "output_type": "stream",
     "text": [
      "6\n",
      "6\n",
      "0\n",
      "4\n",
      "8\n"
     ]
    }
   ],
   "source": [
    "Faker.seed(0)\n",
    "for _ in range(5):\n",
    "    print(fake.random_digit())"
   ]
  },
  {
   "cell_type": "markdown",
   "id": "92ff8b7a-59fd-4c2e-93aa-2cdc05558a08",
   "metadata": {},
   "source": [
    "**random_digit_not_null() → int**"
   ]
  },
  {
   "cell_type": "code",
   "execution_count": 18,
   "id": "45732776-0251-427b-b8fa-a3b859fd3943",
   "metadata": {},
   "outputs": [
    {
     "name": "stdout",
     "output_type": "stream",
     "text": [
      "7\n",
      "7\n",
      "1\n",
      "5\n",
      "9\n"
     ]
    }
   ],
   "source": [
    "Faker.seed(0)\n",
    "for _ in range(5):\n",
    "    print(fake.random_digit_not_null())"
   ]
  },
  {
   "cell_type": "markdown",
   "id": "0af9be75-bb28-4ffa-9ebb-f8f173249bc9",
   "metadata": {},
   "source": [
    "**random_digit_not_null_or_empty() → Union[int, str]**"
   ]
  },
  {
   "cell_type": "code",
   "execution_count": 19,
   "id": "853e95f8-10ef-4b36-925c-a5d6653bc0bc",
   "metadata": {},
   "outputs": [
    {
     "name": "stdout",
     "output_type": "stream",
     "text": [
      "7\n",
      "\n",
      "9\n",
      "7\n",
      "8\n"
     ]
    }
   ],
   "source": [
    "Faker.seed(0)\n",
    "for _ in range(5):\n",
    "    print(fake.random_digit_not_null_or_empty())"
   ]
  },
  {
   "cell_type": "markdown",
   "id": "43b2559b-37ec-4707-a66e-986ed35a999f",
   "metadata": {},
   "source": [
    "**random_digit_or_empty()**"
   ]
  },
  {
   "cell_type": "code",
   "execution_count": 20,
   "id": "bc444394-00a5-48b9-bf1f-fcbd2ca9a0c8",
   "metadata": {},
   "outputs": [
    {
     "name": "stdout",
     "output_type": "stream",
     "text": [
      "6\n",
      "\n",
      "8\n",
      "6\n",
      "7\n"
     ]
    }
   ],
   "source": [
    "Faker.seed(0)\n",
    "for _ in range(5):\n",
    "    print(fake.random_digit_or_empty())"
   ]
  },
  {
   "cell_type": "markdown",
   "id": "aaa0a6eb-6186-4ede-97f7-522624e84713",
   "metadata": {},
   "source": [
    "**random_element(elements: Collection[T] = ('a', 'b', 'c')) → T**"
   ]
  },
  {
   "cell_type": "code",
   "execution_count": 21,
   "id": "69316027-ae86-4429-a755-fbb4d61c99a4",
   "metadata": {},
   "outputs": [
    {
     "name": "stdout",
     "output_type": "stream",
     "text": [
      "d\n",
      "d\n",
      "a\n",
      "c\n",
      "d\n"
     ]
    }
   ],
   "source": [
    "Faker.seed(0)\n",
    "for _ in range(5):\n",
    "    print(fake.random_element(elements=(\"a\", \"b\", \"c\", \"d\")))"
   ]
  },
  {
   "cell_type": "code",
   "execution_count": 22,
   "id": "a48e25ed-70ef-48e6-bded-4f8ed643e673",
   "metadata": {},
   "outputs": [
    {
     "name": "stdout",
     "output_type": "stream",
     "text": [
      "c\n",
      "b\n",
      "a\n",
      "a\n",
      "b\n"
     ]
    }
   ],
   "source": [
    "Faker.seed(0)\n",
    "for _ in range(5):\n",
    "    print(\n",
    "        fake.random_element(\n",
    "            elements=OrderedDict(\n",
    "                [\n",
    "                    (\"a\", 0.45),\n",
    "                    (\"b\", 0.35),\n",
    "                    (\"c\", 0.15),\n",
    "                    (\"d\", 0.05),\n",
    "                ]\n",
    "            )\n",
    "        )\n",
    "    )"
   ]
  },
  {
   "cell_type": "markdown",
   "id": "c0733400-4b9c-4839-bdb0-123d657ca410",
   "metadata": {},
   "source": [
    "**random_elements(elements: Collection[T] = ('a', 'b', 'c'), length: Optional[int] = None, unique: bool = False, use_weighting: Optional[bool] = None) → Sequence[T]**"
   ]
  },
  {
   "cell_type": "code",
   "execution_count": 23,
   "id": "d3106511-01a3-42c0-912e-eec449ae53b1",
   "metadata": {},
   "outputs": [
    {
     "data": {
      "text/plain": [
       "['variable_4', 'variable_3', 'variable_4', 'variable_1']"
      ]
     },
     "execution_count": 23,
     "metadata": {},
     "output_type": "execute_result"
    }
   ],
   "source": [
    "# Random sampling with replacement\n",
    "fake.random_elements(\n",
    "    elements=OrderedDict(\n",
    "        [\n",
    "            (\"variable_1\", 0.5),  # Generates \"variable_1\" 50% of the time\n",
    "            (\"variable_2\", 0.2),  # Generates \"variable_2\" 20% of the time\n",
    "            (\"variable_3\", 0.2),  # Generates \"variable_3\" 20% of the time\n",
    "            (\"variable_4\", 0.1),  # Generates \"variable_4\" 10% of the time\n",
    "        ]\n",
    "    ),\n",
    "    unique=False,\n",
    ")"
   ]
  },
  {
   "cell_type": "code",
   "execution_count": 24,
   "id": "b65816e4-578f-4eb4-bee3-f78898ad2645",
   "metadata": {},
   "outputs": [
    {
     "data": {
      "text/plain": [
       "['variable_2', 'variable_1']"
      ]
     },
     "execution_count": 24,
     "metadata": {},
     "output_type": "execute_result"
    }
   ],
   "source": [
    "# Random sampling without replacement (defaults to uniform distribution)\n",
    "fake.random_elements(\n",
    "    elements=OrderedDict(\n",
    "        [\n",
    "            (\"variable_1\", 0.5),\n",
    "            (\"variable_2\", 0.2),\n",
    "            (\"variable_3\", 0.2),\n",
    "            (\"variable_4\", 0.1),\n",
    "        ]\n",
    "    ),\n",
    "    unique=True,\n",
    ")"
   ]
  },
  {
   "cell_type": "code",
   "execution_count": 25,
   "id": "50ce9d75-cf94-4c85-9e64-cc00fbae8654",
   "metadata": {},
   "outputs": [
    {
     "name": "stdout",
     "output_type": "stream",
     "text": [
      "['d', 'b', 'b', 'c']\n",
      "['d', 'd', 'd', 'b']\n",
      "['c', 'b']\n",
      "['c']\n",
      "['b', 'c']\n"
     ]
    }
   ],
   "source": [
    "Faker.seed(0)\n",
    "for _ in range(5):\n",
    "    print(fake.random_elements(elements=(\"a\", \"b\", \"c\", \"d\"), unique=False))"
   ]
  },
  {
   "cell_type": "code",
   "execution_count": 26,
   "id": "68840551-8bc1-40f2-95d6-a8726b0a98b2",
   "metadata": {},
   "outputs": [
    {
     "name": "stdout",
     "output_type": "stream",
     "text": [
      "['d', 'a', 'b', 'c']\n",
      "['c', 'b', 'd', 'a']\n",
      "['c', 'a']\n",
      "['c']\n",
      "['c', 'a']\n"
     ]
    }
   ],
   "source": [
    "Faker.seed(0)\n",
    "for _ in range(5):\n",
    "    print(fake.random_elements(elements=(\"a\", \"b\", \"c\", \"d\"), unique=True))"
   ]
  },
  {
   "cell_type": "code",
   "execution_count": 27,
   "id": "8f1387c2-66e7-492a-a545-4c9a86735366",
   "metadata": {},
   "outputs": [
    {
     "name": "stdout",
     "output_type": "stream",
     "text": [
      "['d', 'd', 'b', 'b', 'c', 'b', 'd', 'b', 'b', 'c']\n",
      "['d', 'c', 'b', 'd', 'c', 'b', 'd', 'd', 'd', 'd']\n",
      "['b', 'c', 'd', 'c', 'b', 'a', 'b', 'c', 'd', 'd']\n",
      "['b', 'd', 'b', 'd', 'c', 'a', 'c', 'b', 'd', 'c']\n",
      "['a', 'b', 'd', 'a', 'b', 'd', 'a', 'c', 'a', 'd']\n"
     ]
    }
   ],
   "source": [
    "Faker.seed(0)\n",
    "for _ in range(5):\n",
    "    print(fake.random_elements(elements=(\"a\", \"b\", \"c\", \"d\"), length=10, unique=False))"
   ]
  },
  {
   "cell_type": "code",
   "execution_count": 28,
   "id": "e9079b58-c0d5-45d3-9e77-87cd9bd239f5",
   "metadata": {},
   "outputs": [
    {
     "name": "stdout",
     "output_type": "stream",
     "text": [
      "['d', 'b', 'a', 'c']\n",
      "['d', 'b', 'c', 'a']\n",
      "['c', 'd', 'a', 'b']\n",
      "['c', 'a', 'd', 'b']\n",
      "['b', 'd', 'a', 'c']\n"
     ]
    }
   ],
   "source": [
    "Faker.seed(0)\n",
    "for _ in range(5):\n",
    "    print(fake.random_elements(elements=(\"a\", \"b\", \"c\", \"d\"), length=4, unique=True))"
   ]
  },
  {
   "cell_type": "code",
   "execution_count": 29,
   "id": "716ed6a8-6758-48dd-ba9f-c088d991d3bf",
   "metadata": {},
   "outputs": [
    {
     "name": "stdout",
     "output_type": "stream",
     "text": [
      "['c', 'b', 'a', 'a', 'b', 'a', 'b', 'a', 'b', 'b', 'c', 'b', 'a', 'b', 'b', 'a', 'c', 'd', 'c', 'c']\n",
      "['a', 'b', 'c', 'b', 'b', 'a', 'a', 'b', 'c', 'd', 'b', 'c', 'a', 'c', 'b', 'a', 'b', 'a', 'c', 'b']\n",
      "['a', 'b', 'c', 'a', 'a', 'c', 'a', 'b', 'a', 'd', 'c', 'a', 'a', 'a', 'b', 'c', 'a', 'b', 'b', 'b']\n",
      "['c', 'b', 'd', 'b', 'b', 'a', 'b', 'a', 'b', 'a', 'a', 'a', 'b', 'b', 'b', 'a', 'b', 'c', 'c', 'c']\n",
      "['c', 'c', 'b', 'a', 'b', 'a', 'c', 'c', 'c', 'b', 'c', 'b', 'b', 'b', 'd', 'c', 'b', 'a', 'b', 'b']\n"
     ]
    }
   ],
   "source": [
    "Faker.seed(0)\n",
    "for _ in range(5):\n",
    "    print(\n",
    "        fake.random_elements(\n",
    "            elements=OrderedDict(\n",
    "                [\n",
    "                    (\"a\", 0.45),\n",
    "                    (\"b\", 0.35),\n",
    "                    (\"c\", 0.15),\n",
    "                    (\"d\", 0.05),\n",
    "                ]\n",
    "            ),\n",
    "            length=20,\n",
    "            unique=False,\n",
    "        )\n",
    "    )"
   ]
  },
  {
   "cell_type": "code",
   "execution_count": 30,
   "id": "79cd7dcf-be66-4d01-a57e-0658e52b4bd1",
   "metadata": {},
   "outputs": [
    {
     "name": "stdout",
     "output_type": "stream",
     "text": [
      "['b', 'a', 'c', 'd']\n",
      "['c', 'b', 'd', 'a']\n",
      "['b', 'a']\n",
      "['b']\n",
      "['d', 'b', 'a']\n"
     ]
    }
   ],
   "source": [
    "Faker.seed(0)\n",
    "for _ in range(5):\n",
    "    print(\n",
    "        fake.random_elements(\n",
    "            elements=OrderedDict(\n",
    "                [\n",
    "                    (\"a\", 0.45),\n",
    "                    (\"b\", 0.35),\n",
    "                    (\"c\", 0.15),\n",
    "                    (\"d\", 0.05),\n",
    "                ]\n",
    "            ),\n",
    "            unique=True,\n",
    "        )\n",
    "    )"
   ]
  },
  {
   "cell_type": "markdown",
   "id": "2336c505-f496-4e48-90b3-d2aa845f51da",
   "metadata": {},
   "source": [
    "**random_int(min: int = 0, max: int = 9999, step: int = 1) → int**"
   ]
  },
  {
   "cell_type": "code",
   "execution_count": 31,
   "id": "cc8038eb-12ab-4488-aff4-b32159b59e3e",
   "metadata": {},
   "outputs": [
    {
     "name": "stdout",
     "output_type": "stream",
     "text": [
      "12\n",
      "13\n",
      "1\n",
      "8\n",
      "15\n"
     ]
    }
   ],
   "source": [
    "Faker.seed(0)\n",
    "for _ in range(5):\n",
    "    print(fake.random_int(min=0, max=15))"
   ]
  },
  {
   "cell_type": "code",
   "execution_count": 32,
   "id": "12657cc0-1ee5-485f-8213-cbd2bca5d47b",
   "metadata": {
    "tags": []
   },
   "outputs": [
    {
     "name": "stdout",
     "output_type": "stream",
     "text": [
      "9\n",
      "9\n",
      "0\n",
      "6\n",
      "12\n"
     ]
    }
   ],
   "source": [
    "Faker.seed(0)\n",
    "for _ in range(5):\n",
    "    print(fake.random_int(min=0, max=15, step=3))"
   ]
  },
  {
   "cell_type": "markdown",
   "id": "7800ed20-ca8d-4300-be44-047ad4a85aed",
   "metadata": {},
   "source": [
    "**random_letter() → str**"
   ]
  },
  {
   "cell_type": "code",
   "execution_count": 33,
   "id": "126ecb38-4eb5-4bdc-acfa-5855536270db",
   "metadata": {},
   "outputs": [
    {
     "name": "stdout",
     "output_type": "stream",
     "text": [
      "y\n",
      "W\n",
      "A\n",
      "c\n",
      "q\n"
     ]
    }
   ],
   "source": [
    "Faker.seed(0)\n",
    "for _ in range(5):\n",
    "    print(fake.random_letter())"
   ]
  },
  {
   "cell_type": "markdown",
   "id": "9e57b16f-c97e-439b-a37a-bee7e0b8918e",
   "metadata": {},
   "source": [
    "**random_letters(length: int = 16) → Sequence[str]**"
   ]
  },
  {
   "cell_type": "code",
   "execution_count": 34,
   "id": "471aa819-6dcc-4b95-87ed-a7ce78ec6fb7",
   "metadata": {},
   "outputs": [
    {
     "name": "stdout",
     "output_type": "stream",
     "text": [
      "['R', 'N', 'v', 'n', 'A', 'v', 'O', 'p', 'y', 'E']\n",
      "['V', 'A', 'o', 'N', 'G', 'n', 'V', 'Z', 'Q', 'U']\n",
      "['q', 'L', 'U', 'J', 'y', 'f', 'w', 'F', 'V', 'Y']\n",
      "['y', 'S', 'n', 'P', 'C', 'a', 'L', 'u', 'Q', 'I']\n",
      "['a', 'z', 'T', 'm', 'q', 'T', 'j', 'D', 'm', 'Y']\n"
     ]
    }
   ],
   "source": [
    "Faker.seed(0)\n",
    "for _ in range(5):\n",
    "    print(fake.random_letters(length=10))"
   ]
  },
  {
   "cell_type": "markdown",
   "id": "b5464df1-f8a7-4c64-805d-4b1ff227e48d",
   "metadata": {},
   "source": [
    "**random_lowercase_letter() → str**"
   ]
  },
  {
   "cell_type": "code",
   "execution_count": 35,
   "id": "db6697d7-724c-46fe-aa53-3e0c85a60a30",
   "metadata": {},
   "outputs": [
    {
     "name": "stdout",
     "output_type": "stream",
     "text": [
      "m\n",
      "y\n",
      "n\n",
      "b\n",
      "i\n"
     ]
    }
   ],
   "source": [
    "Faker.seed(0)\n",
    "for _ in range(5):\n",
    "    print(fake.random_lowercase_letter())"
   ]
  },
  {
   "cell_type": "markdown",
   "id": "d0278284-01e2-4b62-9a31-67f29d090f2a",
   "metadata": {},
   "source": [
    "**random_number(digits: Optional[int] = None, fix_len: bool = False) → int**"
   ]
  },
  {
   "cell_type": "code",
   "execution_count": 36,
   "id": "918616be-5556-4b54-baaf-4ff0cc68caae",
   "metadata": {},
   "outputs": [
    {
     "name": "stdout",
     "output_type": "stream",
     "text": [
      "7056020\n",
      "4\n",
      "521760889\n",
      "5088743\n",
      "48056573\n"
     ]
    }
   ],
   "source": [
    "Faker.seed(0)\n",
    "for _ in range(5):\n",
    "    print(fake.random_number(fix_len=False))"
   ]
  },
  {
   "cell_type": "code",
   "execution_count": 37,
   "id": "6b9eec45-a2fe-4a90-a743-871e7d3f8ec3",
   "metadata": {},
   "outputs": [
    {
     "name": "stdout",
     "output_type": "stream",
     "text": [
      "8056020\n",
      "5\n",
      "621760889\n",
      "6088743\n",
      "58056573\n"
     ]
    }
   ],
   "source": [
    "Faker.seed(0)\n",
    "for _ in range(5):\n",
    "    print(fake.random_number(fix_len=True))"
   ]
  },
  {
   "cell_type": "code",
   "execution_count": 38,
   "id": "5b3800f1-1f37-4cec-b282-2ab1bcf08a24",
   "metadata": {},
   "outputs": [
    {
     "name": "stdout",
     "output_type": "stream",
     "text": [
      "864\n",
      "394\n",
      "776\n",
      "911\n",
      "430\n"
     ]
    }
   ],
   "source": [
    "Faker.seed(0)\n",
    "for _ in range(5):\n",
    "    print(fake.random_number(digits=3))"
   ]
  },
  {
   "cell_type": "code",
   "execution_count": 39,
   "id": "e4f601e7-80ea-41fb-a765-2edeae063e09",
   "metadata": {},
   "outputs": [
    {
     "name": "stdout",
     "output_type": "stream",
     "text": [
      "864\n",
      "394\n",
      "776\n",
      "911\n",
      "430\n"
     ]
    }
   ],
   "source": [
    "Faker.seed(0)\n",
    "for _ in range(5):\n",
    "    print(fake.random_number(digits=3, fix_len=False))"
   ]
  },
  {
   "cell_type": "code",
   "execution_count": 40,
   "id": "d13b3e51-b145-4b6b-aa93-e4b2848cb2cf",
   "metadata": {},
   "outputs": [
    {
     "name": "stdout",
     "output_type": "stream",
     "text": [
      "964\n",
      "494\n",
      "876\n",
      "530\n",
      "141\n"
     ]
    }
   ],
   "source": [
    "Faker.seed(0)\n",
    "for _ in range(5):\n",
    "    print(fake.random_number(digits=3, fix_len=True))"
   ]
  },
  {
   "cell_type": "markdown",
   "id": "898e98ce-0983-4c73-b649-69a7f54a55f8",
   "metadata": {},
   "source": [
    "**random_sample(elements: Collection[T] = ('a', 'b', 'c'), length: Optional[int] = None) → Sequence[T]**"
   ]
  },
  {
   "cell_type": "code",
   "execution_count": 41,
   "id": "f6ed8f0f-c5a0-4b32-8312-23077434b62b",
   "metadata": {},
   "outputs": [
    {
     "name": "stdout",
     "output_type": "stream",
     "text": [
      "['d', 'a', 'c', 'f']\n",
      "['d', 'c', 'f', 'b']\n",
      "['b', 'e', 'f', 'd', 'a']\n",
      "['e']\n",
      "['e', 'f', 'b']\n"
     ]
    }
   ],
   "source": [
    "Faker.seed(0)\n",
    "for _ in range(5):\n",
    "    print(fake.random_sample(elements=(\"a\", \"b\", \"c\", \"d\", \"e\", \"f\")))"
   ]
  },
  {
   "cell_type": "code",
   "execution_count": 42,
   "id": "de7f3c47-c8c3-485f-9aea-8b84dbfd1829",
   "metadata": {},
   "outputs": [
    {
     "name": "stdout",
     "output_type": "stream",
     "text": [
      "['d', 'f', 'a']\n",
      "['c', 'e', 'd']\n",
      "['d', 'c', 'f']\n",
      "['c', 'e', 'b']\n",
      "['e', 'b', 'c']\n"
     ]
    }
   ],
   "source": [
    "Faker.seed(0)\n",
    "for _ in range(5):\n",
    "    print(fake.random_sample(elements=(\"a\", \"b\", \"c\", \"d\", \"e\", \"f\"), length=3))"
   ]
  },
  {
   "cell_type": "markdown",
   "id": "5df1fac3-5406-4782-8abd-92e914b8b3e5",
   "metadata": {},
   "source": [
    "**randomize_nb_elements(number: int = 10, le: bool = False, ge: bool = False, min: Optional[int] = None, max: Optional[int] = None) → int**"
   ]
  },
  {
   "cell_type": "code",
   "execution_count": 43,
   "id": "addba640-4d0b-4f98-881f-9969a6911957",
   "metadata": {},
   "outputs": [
    {
     "name": "stdout",
     "output_type": "stream",
     "text": [
      "109\n",
      "113\n",
      "65\n",
      "93\n",
      "125\n"
     ]
    }
   ],
   "source": [
    "Faker.seed(0)\n",
    "for _ in range(5):\n",
    "    print(fake.randomize_nb_elements(number=100))"
   ]
  },
  {
   "cell_type": "code",
   "execution_count": 44,
   "id": "27187da7-39a3-4719-bc17-24a74e428f61",
   "metadata": {},
   "outputs": [
    {
     "name": "stdout",
     "output_type": "stream",
     "text": [
      "124\n",
      "126\n",
      "102\n",
      "116\n",
      "132\n"
     ]
    }
   ],
   "source": [
    "Faker.seed(0)\n",
    "for _ in range(5):\n",
    "    print(fake.randomize_nb_elements(number=100, ge=True))"
   ]
  },
  {
   "cell_type": "code",
   "execution_count": 45,
   "id": "f6f96803-288f-4b16-ac7f-4f71c67e34a2",
   "metadata": {},
   "outputs": [
    {
     "name": "stdout",
     "output_type": "stream",
     "text": [
      "124\n",
      "126\n",
      "120\n",
      "120\n",
      "132\n"
     ]
    }
   ],
   "source": [
    "Faker.seed(0)\n",
    "for _ in range(5):\n",
    "    print(fake.randomize_nb_elements(number=100, ge=True, min=120))"
   ]
  },
  {
   "cell_type": "code",
   "execution_count": 46,
   "id": "4fb190e8-e928-43a2-a684-fee756574a95",
   "metadata": {},
   "outputs": [
    {
     "name": "stdout",
     "output_type": "stream",
     "text": [
      "84\n",
      "86\n",
      "62\n",
      "76\n",
      "92\n"
     ]
    }
   ],
   "source": [
    "Faker.seed(0)\n",
    "for _ in range(5):\n",
    "    print(fake.randomize_nb_elements(number=100, le=True))"
   ]
  },
  {
   "cell_type": "code",
   "execution_count": 47,
   "id": "6a86705e-2bfc-4791-a433-bbcb7012a03f",
   "metadata": {},
   "outputs": [
    {
     "name": "stdout",
     "output_type": "stream",
     "text": [
      "80\n",
      "80\n",
      "62\n",
      "76\n",
      "80\n"
     ]
    }
   ],
   "source": [
    "Faker.seed(0)\n",
    "for _ in range(5):\n",
    "    print(fake.randomize_nb_elements(number=100, le=True, max=80))"
   ]
  },
  {
   "cell_type": "code",
   "execution_count": 48,
   "id": "b0bcb875-b8a6-4f6d-8b9c-0d466197b018",
   "metadata": {},
   "outputs": [
    {
     "name": "stdout",
     "output_type": "stream",
     "text": [
      "79\n",
      "79\n",
      "79\n",
      "79\n",
      "79\n"
     ]
    }
   ],
   "source": [
    "Faker.seed(0)\n",
    "for _ in range(5):\n",
    "    print(fake.randomize_nb_elements(number=79, le=True, ge=True, min=80))"
   ]
  }
 ],
 "metadata": {
  "kernelspec": {
   "display_name": "Python 3 (ipykernel)",
   "language": "python",
   "name": "python3"
  },
  "language_info": {
   "codemirror_mode": {
    "name": "ipython",
    "version": 3
   },
   "file_extension": ".py",
   "mimetype": "text/x-python",
   "name": "python",
   "nbconvert_exporter": "python",
   "pygments_lexer": "ipython3",
   "version": "3.8.10"
  }
 },
 "nbformat": 4,
 "nbformat_minor": 5
}
