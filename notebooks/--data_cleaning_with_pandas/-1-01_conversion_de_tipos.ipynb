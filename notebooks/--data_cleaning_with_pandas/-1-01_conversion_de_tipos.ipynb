{
 "cells": [
  {
   "cell_type": "markdown",
   "metadata": {
    "tags": []
   },
   "source": [
    "# Conversión de tipos\n",
    "\n",
    "* *60:00 min* | Última modificación: Agosto 11, 2021 | YouTube"
   ]
  },
  {
   "cell_type": "code",
   "execution_count": 3,
   "metadata": {},
   "outputs": [
    {
     "name": "stdout",
     "output_type": "stream",
     "text": [
      "Overwriting /tmp/clean1.csv\n"
     ]
    }
   ],
   "source": [
    "%%writefile /tmp/clean1.csv\n",
    "clientId,date,investsmentId,investmentType,investment\n",
    "12,25.3.2019,1,5,$597.09\n",
    "26,21.4.2021,2,0,$678.92\n",
    "12,19.3.2020,3,4,$717.55\n",
    "27,18.4.2020,4,6,$534.11\n",
    "3,25.1.2021,5,2,$718.75\n",
    "26,5.1.2020,6,3,$414.21\n",
    "22,5.5.2019,7,0,$434.23\n",
    "21,2.11.2019,8,2,$861.73\n",
    "30,27.8.2020,9,4,$729.43\n",
    "24,13.3.2021,10,1,$407.85\n",
    "8,12.1.2019,11,3,$364.54\n",
    "27,19.6.2021,12,4,$367.25\n",
    "14,29.4.2020,13,5,$724.06\n",
    "29,22.1.2019,14,4,$484.33\n",
    "3,26.4.2020,15,0,$197.18\n",
    "8,23.3.2019,16,0,$632.23\n",
    "20,12.3.2021,17,3,$569.42\n",
    "29,10.6.2020,18,5,$557.20\n",
    "21,29.1.2020,19,3,$837.39\n",
    "24,14.3.2020,20,4,$541.86\n",
    "30,14.3.2019,21,4,$697.49\n",
    "6,1.8.2020,22,5,$638.57\n",
    "9,30.7.2020,23,2,$264.84\n",
    "1,29.8.2020,24,5,$593.49\n",
    "5,29.10.2020,25,3,$592.59\n",
    "20,29.10.2020,26,4,$482.87\n",
    "24,8.6.2021,27,6,$815.55\n",
    "16,26.5.2019,28,5,$191.29\n",
    "30,16.3.2021,29,2,$841.16\n",
    "4,7.4.2019,30,4,$477.30\n",
    "18,24.4.2019,31,4,$536.77\n",
    "20,28.4.2019,32,2,$700.67\n",
    "19,3.4.2020,33,4,$239.00\n",
    "18,23.9.2019,34,2,$311.53\n",
    "23,29.2.2020,35,2,$526.46\n",
    "25,16.8.2019,36,0,$750.40\n",
    "6,25.6.2020,37,5,$466.80\n",
    "5,8.10.2019,38,1,$667.45\n",
    "24,20.1.2019,39,4,$349.35\n",
    "10,1.9.2020,40,0,$110.21\n",
    "6,16.3.2019,41,0,$744.18\n",
    "13,23.1.2021,42,4,$208.54\n",
    "17,22.1.2020,43,4,$603.06\n",
    "25,14.6.2021,44,2,$289.28\n",
    "19,7.10.2020,45,1,$224.95\n",
    "3,15.1.2021,46,2,$626.53\n",
    "24,12.4.2019,47,6,$366.14\n",
    "2,8.7.2020,48,5,$800.74\n",
    "9,11.6.2021,49,0,$457.33\n",
    "25,21.5.2020,50,4,$242.55\n",
    "24,3.8.2020,51,3,$229.27\n",
    "15,29.10.2020,52,1,$279.79\n",
    "25,3.3.2020,53,0,$431.35\n",
    "18,11.1.2019,54,1,$802.77\n",
    "21,6.12.2019,55,2,$109.01\n",
    "2,4.8.2019,56,0,$215.03\n",
    "10,5.1.2020,57,5,$578.64\n",
    "23,9.3.2019,58,6,$892.30\n",
    "23,27.11.2019,59,3,$427.28\n",
    "22,19.10.2020,60,5,$604.85\n",
    "8,13.9.2020,61,3,$494.50\n",
    "9,6.6.2021,62,2,$464.78\n",
    "5,2.1.2019,63,2,$334.20\n",
    "1,4.9.2019,64,4,$312.27\n",
    "22,23.5.2019,65,6,$327.28\n",
    "29,2.1.2019,66,3,$743.90\n",
    "17,28.10.2020,67,0,$340.02\n",
    "11,16.10.2019,68,0,$106.58\n",
    "9,8.1.2021,69,5,$470.53\n",
    "10,3.2.2019,70,5,$167.10\n",
    "5,2.2.2021,71,3,$700.26\n",
    "15,3.10.2020,72,1,$842.72\n",
    "27,6.1.2021,73,5,$230.35\n",
    "28,12.4.2019,74,2,$584.58\n",
    "22,28.11.2019,75,4,$830.52\n",
    "7,4.1.2021,76,2,$368.03\n",
    "4,9.4.2019,77,3,$322.76\n",
    "9,10.1.2019,78,3,$291.94\n",
    "15,25.6.2021,79,0,$625.56\n",
    "15,23.8.2020,80,1,$460.40\n",
    "22,29.5.2019,81,5,$114.93\n",
    "19,31.7.2020,82,3,$513.30\n",
    "26,1.10.2019,83,0,$151.56\n",
    "26,16.3.2021,84,2,$750.99\n",
    "19,19.7.2019,85,6,$285.20\n",
    "16,18.12.2019,86,0,$377.65\n",
    "2,28.1.2020,87,6,$127.55\n",
    "17,20.1.2021,88,1,$840.21\n",
    "19,23.4.2021,89,5,$742.87\n",
    "8,12.4.2021,90,6,$ 767.64\n",
    "6,20.4.2019,91,0,$335.74\n",
    "15,31.3.2021,92,5,$762.20\n",
    "8,18.2.2020,93,4,$490.95\n",
    "22,26.1.2020,94,2,$363.12\n",
    "10,17.4.2019,95,2,$738.16\n",
    "28,2.10.2019,96,6,$223.22\n",
    "3,25.2.2021,97,4,$325.30\n",
    "1,28.1.2021,98,1,$841.75\n",
    "16,10.12.2019,99,0,$888.33\n",
    "16,14.10.2020,100,4,$342.13"
   ]
  },
  {
   "cell_type": "code",
   "execution_count": 4,
   "metadata": {},
   "outputs": [
    {
     "name": "stdout",
     "output_type": "stream",
     "text": [
      "Writing /tmp/client.csv\n"
     ]
    }
   ],
   "source": [
    "%%writefile /tmp/client.csv\n",
    "clientId,name,phone,companyId\n",
    "1,Hersch Szymanowicz,+237 (561) 702-4118,3\n",
    "2,Gaven Brito,+51 (870) 799-1508,7\n",
    "3,Maressa Pavlishchev,+62 (350) 377-8621,4\n",
    "4,Corine Dunseith,+63 (797) 344-2571,8\n",
    "5,Ramon Lawrence,+66 (557) 865-3845,6\n",
    "6,Ibbie Whitehouse,+98 (495) 896-6408,1\n",
    "7,Neils Capelen,+86 (361) 914-8734,6\n",
    "8,Thia Malkie,+46 (564) 145-8997,4\n",
    "9,Missy Folomkin,+33 (962) 798-0776,7\n",
    "10,Eleanor Gallamore,+86 (366) 702-2334,5\n",
    "11,Daryl Kehir,+63 (872) 863-1697,9\n",
    "12,Stanfield Skocroft,+63 (637) 795-7541,3\n",
    "13,Henryetta Higgan,+46 (322) 206-9391,9\n",
    "14,Jyoti Orman,+52 (520) 447-3845,3\n",
    "15,Urbanus Eble,+57 (130) 336-4134,9\n",
    "16,Hussein Chessell,+62 (690) 516-9418,5\n",
    "17,Roberta Camelin,+62 (192) 870-2062,3\n",
    "18,Giuseppe Taunton.,+60 (962) 580-0623,4\n",
    "19,Hanna Toffetto,+252 (676) 138-4687,8\n",
    "20,Benedikta Reuble,+46 (111) 641-8385,9\n",
    "21,Lek Leades,+1 (351) 584-7386,1\n",
    "22,Normand Meaking,+86 (552) 935-1873,6\n",
    "23,Henrietta Lauthian,+49 (564) 306-9564,4\n",
    "24,Gae Dawdary,+62 (715) 824-2951,2\n",
    "25,Aaron Plews,+55 (240) 137-2969,6\n",
    "26,Elfreda Shrubb,+62 (295) 637-4199,1\n",
    "27,Jase Grevile,+81 (865) 199-4601,5\n",
    "28,Erick Leggan,+98 (396) 812-9975,1\n",
    "29,Dorthea Linsey,+63 (484) 875-0848,9\n",
    "30,Kerr Sperrett,+55 (375) 321-7647,1"
   ]
  },
  {
   "cell_type": "code",
   "execution_count": 5,
   "metadata": {},
   "outputs": [
    {
     "name": "stdout",
     "output_type": "stream",
     "text": [
      "Writing /tmp/company.csv\n"
     ]
    }
   ],
   "source": [
    "%%writefile /tmp/company.csv\n",
    "companyId,company\n",
    "1,Tekfly\n",
    "2,Yambee\n",
    "3,Topdrive\n",
    "4,Fivebridge\n",
    "5,Devbug\n",
    "6,Mydo\n",
    "7,Jayo\n",
    "8,Feednation\n",
    "9,Livepath\n",
    "10,Zoombeat"
   ]
  },
  {
   "cell_type": "code",
   "execution_count": 64,
   "metadata": {},
   "outputs": [
    {
     "data": {
      "text/html": [
       "<div>\n",
       "<style scoped>\n",
       "    .dataframe tbody tr th:only-of-type {\n",
       "        vertical-align: middle;\n",
       "    }\n",
       "\n",
       "    .dataframe tbody tr th {\n",
       "        vertical-align: top;\n",
       "    }\n",
       "\n",
       "    .dataframe thead th {\n",
       "        text-align: right;\n",
       "    }\n",
       "</style>\n",
       "<table border=\"1\" class=\"dataframe\">\n",
       "  <thead>\n",
       "    <tr style=\"text-align: right;\">\n",
       "      <th></th>\n",
       "      <th>name</th>\n",
       "      <th>phone</th>\n",
       "      <th>company</th>\n",
       "      <th>date</th>\n",
       "      <th>investsmentId</th>\n",
       "      <th>investmentType</th>\n",
       "      <th>investment</th>\n",
       "    </tr>\n",
       "  </thead>\n",
       "  <tbody>\n",
       "    <tr>\n",
       "      <th>0</th>\n",
       "      <td>Hanna Toffetto</td>\n",
       "      <td>+252 (676) 138-4687</td>\n",
       "      <td>Livepath</td>\n",
       "      <td>19.7.2019</td>\n",
       "      <td>85</td>\n",
       "      <td>G</td>\n",
       "      <td>$285.20</td>\n",
       "    </tr>\n",
       "    <tr>\n",
       "      <th>1</th>\n",
       "      <td>Urbanus Eble</td>\n",
       "      <td>+57 (130) 336-4134</td>\n",
       "      <td>Zoombeat</td>\n",
       "      <td>3.10.2020</td>\n",
       "      <td>72</td>\n",
       "      <td>B</td>\n",
       "      <td>$842.72</td>\n",
       "    </tr>\n",
       "    <tr>\n",
       "      <th>2</th>\n",
       "      <td>Lawrence, Ramon</td>\n",
       "      <td>+66 (557) 865-3845</td>\n",
       "      <td>Jayo</td>\n",
       "      <td>29.10.2020</td>\n",
       "      <td>25</td>\n",
       "      <td>D</td>\n",
       "      <td>$592.59</td>\n",
       "    </tr>\n",
       "    <tr>\n",
       "      <th>3</th>\n",
       "      <td>Thia Malkie</td>\n",
       "      <td>+46 (564) 145-8997</td>\n",
       "      <td>Devbug</td>\n",
       "      <td>18.2.2020</td>\n",
       "      <td>93</td>\n",
       "      <td>E</td>\n",
       "      <td>$490.95</td>\n",
       "    </tr>\n",
       "    <tr>\n",
       "      <th>4</th>\n",
       "      <td>hanna toffetto</td>\n",
       "      <td>+252 (676) 138-4687</td>\n",
       "      <td>Livepath</td>\n",
       "      <td>3.4.2020</td>\n",
       "      <td>33</td>\n",
       "      <td>E</td>\n",
       "      <td>$239.00</td>\n",
       "    </tr>\n",
       "    <tr>\n",
       "      <th>...</th>\n",
       "      <td>...</td>\n",
       "      <td>...</td>\n",
       "      <td>...</td>\n",
       "      <td>...</td>\n",
       "      <td>...</td>\n",
       "      <td>...</td>\n",
       "      <td>...</td>\n",
       "    </tr>\n",
       "    <tr>\n",
       "      <th>130</th>\n",
       "      <td>ERICK LEGGAN</td>\n",
       "      <td>+98 (396) 812-9975</td>\n",
       "      <td>NaN</td>\n",
       "      <td>12.4.2019</td>\n",
       "      <td>74</td>\n",
       "      <td>C</td>\n",
       "      <td>$584.58</td>\n",
       "    </tr>\n",
       "    <tr>\n",
       "      <th>131</th>\n",
       "      <td>Orman, Jyoti</td>\n",
       "      <td>+52 (520) 447-3845</td>\n",
       "      <td>Fivebridge</td>\n",
       "      <td>29.4.2020</td>\n",
       "      <td>13</td>\n",
       "      <td>F</td>\n",
       "      <td>$724.06</td>\n",
       "    </tr>\n",
       "    <tr>\n",
       "      <th>132</th>\n",
       "      <td>Normand Meaking</td>\n",
       "      <td>+86 (552) 935-1873</td>\n",
       "      <td>NaN</td>\n",
       "      <td>5.5.2019</td>\n",
       "      <td>7</td>\n",
       "      <td>A</td>\n",
       "      <td>$434.23</td>\n",
       "    </tr>\n",
       "    <tr>\n",
       "      <th>133</th>\n",
       "      <td>Aaron Plews</td>\n",
       "      <td>+55 (240) 137-2969</td>\n",
       "      <td>Jayo</td>\n",
       "      <td>14.6.2021</td>\n",
       "      <td>44</td>\n",
       "      <td>C</td>\n",
       "      <td>$289.28</td>\n",
       "    </tr>\n",
       "    <tr>\n",
       "      <th>134</th>\n",
       "      <td>Ibbie Whitehouse</td>\n",
       "      <td>+98 (495) 896-6408</td>\n",
       "      <td>yambee</td>\n",
       "      <td>20.4.2019</td>\n",
       "      <td>91</td>\n",
       "      <td>A</td>\n",
       "      <td>$335.74</td>\n",
       "    </tr>\n",
       "  </tbody>\n",
       "</table>\n",
       "<p>135 rows × 7 columns</p>\n",
       "</div>"
      ],
      "text/plain": [
       "                 name                phone     company        date  \\\n",
       "0      Hanna Toffetto  +252 (676) 138-4687    Livepath   19.7.2019   \n",
       "1        Urbanus Eble   +57 (130) 336-4134    Zoombeat   3.10.2020   \n",
       "2     Lawrence, Ramon   +66 (557) 865-3845       Jayo   29.10.2020   \n",
       "3         Thia Malkie   +46 (564) 145-8997      Devbug   18.2.2020   \n",
       "4      hanna toffetto  +252 (676) 138-4687    Livepath    3.4.2020   \n",
       "..                ...                  ...         ...         ...   \n",
       "130      ERICK LEGGAN   +98 (396) 812-9975         NaN   12.4.2019   \n",
       "131      Orman, Jyoti   +52 (520) 447-3845  Fivebridge   29.4.2020   \n",
       "132   Normand Meaking   +86 (552) 935-1873         NaN    5.5.2019   \n",
       "133       Aaron Plews   +55 (240) 137-2969        Jayo   14.6.2021   \n",
       "134  Ibbie Whitehouse   +98 (495) 896-6408     yambee    20.4.2019   \n",
       "\n",
       "     investsmentId investmentType investment  \n",
       "0               85              G    $285.20  \n",
       "1               72              B    $842.72  \n",
       "2               25              D    $592.59  \n",
       "3               93              E    $490.95  \n",
       "4               33              E    $239.00  \n",
       "..             ...            ...        ...  \n",
       "130             74              C    $584.58  \n",
       "131             13              F    $724.06  \n",
       "132              7              A    $434.23  \n",
       "133             44              C    $289.28  \n",
       "134             91              A    $335.74  \n",
       "\n",
       "[135 rows x 7 columns]"
      ]
     },
     "execution_count": 64,
     "metadata": {},
     "output_type": "execute_result"
    }
   ],
   "source": [
    "import numpy as np\n",
    "\n",
    "company = pd.read_csv(\"/tmp/company.csv\")\n",
    "client = pd.read_csv(\"/tmp/client.csv\")\n",
    "data = pd.read_csv(\"/tmp/clean1.csv\")\n",
    "\n",
    "client['companyId'] = client.companyId.map(company.to_dict()['company'])\n",
    "client = client.rename(columns={'companyId':'company'})\n",
    "\n",
    "data.investmentType = data.investmentType.map(\n",
    "    {\n",
    "        0: \"A\",\n",
    "        1: \"B\",\n",
    "        2: \"C\",\n",
    "        3: \"D\",\n",
    "        4: \"E\",\n",
    "        5: \"F\",\n",
    "        6: \"G\",\n",
    "        7: \"H\",\n",
    "        8: \"I\",\n",
    "        9: \"J\",\n",
    "    }\n",
    ")\n",
    "\n",
    "\n",
    "data = data.merge(client, on='clientId')\n",
    "data = data[['name', 'phone', 'company', 'date', 'investsmentId', 'investmentType', 'investment']]\n",
    "\n",
    "for i in np.random.choice(100, 10):\n",
    "    data.loc[int(i), \"name\"] = data.loc[int(i), \"name\"].upper()\n",
    "    \n",
    "for i in np.random.choice(100, 5):\n",
    "    data.loc[int(i), \"name\"] = data.loc[int(i), \"name\"].lower()\n",
    "    \n",
    "for i in np.random.choice(100, 5):\n",
    "    data.loc[int(i), \"company\"] = data.loc[int(i), \"company\"] + \" \"\n",
    "    \n",
    "for i in np.random.choice(100, 7):\n",
    "    data.loc[int(i), \"company\"] = data.loc[int(i), \"company\"] + \"  \"\n",
    "    \n",
    "for i in np.random.choice(100, 3):\n",
    "    data.loc[int(i), \"company\"] = \" \" + data.loc[int(i), \"company\"]\n",
    "\n",
    "for i in np.random.choice(100, 5):\n",
    "    data.loc[int(i), \"company\"] = data.loc[int(i), \"company\"].lower() \n",
    "\n",
    "for i in np.random.choice(100, 5):\n",
    "    data.loc[int(i), \"company\"] = data.loc[int(i), \"company\"].lower() + \" \"    \n",
    "    \n",
    "for i in np.random.choice(100, 5):\n",
    "    data.loc[int(i), \"company\"] = data.loc[int(i), \"company\"].upper()     \n",
    "    \n",
    "\n",
    "for i in np.random.choice(100, 5):\n",
    "    data.loc[int(i), \"investment\"] = data.loc[int(i), \"investment\"].replace(\"$\", \"$ \")\n",
    "\n",
    "for i in np.random.choice(100, 5):\n",
    "    data.loc[int(i), \"investment\"] = data.loc[int(i), \"investment\"].replace(\"$\", \" $\")\n",
    "    \n",
    "for i in np.random.choice(100, 5):\n",
    "    data.loc[int(i), \"investment\"] = data.loc[int(i), \"investment\"].replace(\"$\", \" $ \")\n",
    "    \n",
    "    \n",
    "for i in np.random.choice(100, 40, replace=False):\n",
    "    name = data.loc[int(i), \"name\"].split(\" \")\n",
    "    data.loc[int(i), \"name\"] = name[1] + \", \" + name[0]\n",
    "    \n",
    "    \n",
    "copia = data.sample(n=21).copy()\n",
    "data = pd.concat([data, copia])\n",
    "    \n",
    "copia = data.sample(n=14).copy()\n",
    "copia = copia.reset_index(drop=True)\n",
    "copia.loc[:5, 'phone'] = \"NULL\"\n",
    "copia.loc[5:, 'company'] = np.nan\n",
    "data = pd.concat([data, copia])\n",
    "\n",
    "data = data.sample(n=len(data))\n",
    "data = data.reset_index(drop=True)        \n",
    "    \n",
    "data"
   ]
  },
  {
   "cell_type": "code",
   "execution_count": 65,
   "metadata": {},
   "outputs": [],
   "source": [
    "data.to_csv(\"data_to_clean.csv\", index=False)"
   ]
  },
  {
   "cell_type": "code",
   "execution_count": null,
   "metadata": {},
   "outputs": [],
   "source": []
  },
  {
   "cell_type": "code",
   "execution_count": 2,
   "metadata": {},
   "outputs": [],
   "source": [
    "import pandas as pd"
   ]
  },
  {
   "cell_type": "code",
   "execution_count": null,
   "metadata": {},
   "outputs": [],
   "source": []
  },
  {
   "cell_type": "code",
   "execution_count": null,
   "metadata": {},
   "outputs": [],
   "source": []
  },
  {
   "cell_type": "code",
   "execution_count": null,
   "metadata": {},
   "outputs": [],
   "source": []
  },
  {
   "cell_type": "code",
   "execution_count": null,
   "metadata": {},
   "outputs": [],
   "source": []
  },
  {
   "cell_type": "code",
   "execution_count": null,
   "metadata": {},
   "outputs": [],
   "source": []
  },
  {
   "cell_type": "code",
   "execution_count": null,
   "metadata": {},
   "outputs": [],
   "source": []
  },
  {
   "cell_type": "code",
   "execution_count": null,
   "metadata": {},
   "outputs": [],
   "source": []
  },
  {
   "cell_type": "code",
   "execution_count": 92,
   "metadata": {},
   "outputs": [],
   "source": [
    "import pandas as pd\n",
    "import numpy as np\n",
    "\n",
    "pd.set_option(\"display.notebook_repr_html\", False)"
   ]
  },
  {
   "cell_type": "code",
   "execution_count": 93,
   "metadata": {},
   "outputs": [
    {
     "name": "stdout",
     "output_type": "stream",
     "text": [
      "Overwriting /tmp/data.csv\n"
     ]
    }
   ],
   "source": [
    "%%writefile /tmp/data.csv\n",
    "Vendor,Date,CarBrand,Color,Price,Code\n",
    "KASPER B. ORTIZ,14.09.18,Dodge,indigo,\"1184\",1.0\n",
    "Cheryl A. Kemp,25.01.20,Dongfeng Motor,violet,1379,2\n",
    "Nita T. Gay,28.06.21,Renault,green,1591,5\n",
    "Scarlet X. Stout,17.04.19,Ford,indigo,1901,1\n",
    "Todd L. Richards,12.11.20,Tata Motors,indigo,1566,3\n",
    "Philip Z. Pruitt,12.02.20,BMW,green,1440,4\n",
    "Nita T. Gay,24.10.18,CHEVROLET,blue,1687,6\n",
    "Kasper B. Ortiz,11.10.20,Buick,indigo,1894,2\n",
    "Philip Z. Pruitt,22.01.19,Dacia,Violet,1858,6\n",
    "Cheryl A. Kemp,21.11.18,Daimler,orange,1550,1\n",
    "Todd L. Richards,28.04.19,LiCHEVROLETncoln,red,1606,2\n",
    "cheryl a. kemp,28.05.20,Buick,red,1252,\"1\"\n",
    "Kasper B. Ortiz,25.08.19,Volkswagen,violet,1468,9\n",
    "Cheryl A. Kemp,28.11.20,Vauxhall,red,1339,8\n",
    "Kasper B. Ortiz,16.03.21,Volkswagen,red,1618,9\n",
    "Philip Z. Pruitt,17.03.21,Daimler,orange,1201,7\n",
    "CHERYL A. KEMP,07.11.19,Isuzu,indigo,1280,6\n",
    "NITA T. GAY,29.05.20,Hyundai Motors,orange,1849,7\n",
    "Kasper B. Ortiz,13.02.20,Peugeot,Blue,1415,9\n",
    "CHERYL A. KEMP,29.03.20,Maruti Suzuki,blue,1626,0\n",
    "Kasper B. Ortiz,01.07.20,Mitsubishi Motors,blue,1120,1\n",
    "NITA T. GAY,03.11.18,RAM Trucks,orange,1056,4\n",
    "Kasper B. Ortiz,24.02.20,Kia Motors,orange,1375,3\n",
    "Philip Z. Pruitt,14.05.20,Chevrolet,orange,1656,9\n",
    "Kasper B. Ortiz,16.06.21,RAM Trucks,orange,1549,7\n",
    "Kasper B. Ortiz,28.08.18,Kenworth,green,NONE,9\n",
    "Philip Z. Pruitt,29.11.18,,orange,1469,4\n",
    "Cheryl A. Kemp,01.10.18,GMC,orange,1087000,3"
   ]
  },
  {
   "cell_type": "code",
   "execution_count": 94,
   "metadata": {},
   "outputs": [
    {
     "data": {
      "text/plain": [
       "             Vendor      Date        CarBrand   Color Price  Code\n",
       "0   KASPER B. ORTIZ  14.09.18           Dodge  indigo  1184   1.0\n",
       "1    Cheryl A. Kemp  25.01.20  Dongfeng Motor  violet  1379   2.0\n",
       "2       Nita T. Gay  28.06.21         Renault   green  1591   5.0\n",
       "3  Scarlet X. Stout  17.04.19            Ford  indigo  1901   1.0\n",
       "4  Todd L. Richards  12.11.20     Tata Motors  indigo  1566   3.0"
      ]
     },
     "metadata": {},
     "output_type": "display_data"
    },
    {
     "data": {
      "text/plain": [
       "'----------------------------------------------------------------------'"
      ]
     },
     "metadata": {},
     "output_type": "display_data"
    },
    {
     "data": {
      "text/plain": [
       "              Vendor      Date    CarBrand   Color    Price  Code\n",
       "23  Philip Z. Pruitt  14.05.20   Chevrolet  orange     1656   9.0\n",
       "24   Kasper B. Ortiz  16.06.21  RAM Trucks  orange     1549   7.0\n",
       "25   Kasper B. Ortiz  28.08.18    Kenworth   green     NONE   9.0\n",
       "26  Philip Z. Pruitt  29.11.18         NaN  orange     1469   4.0\n",
       "27    Cheryl A. Kemp  01.10.18         GMC  orange  1087000   3.0"
      ]
     },
     "metadata": {},
     "output_type": "display_data"
    }
   ],
   "source": [
    "#\n",
    "# Carga de datos e inspección inicial\n",
    "#\n",
    "data = pd.read_csv(\"/tmp/data.csv\")\n",
    "display(\n",
    "    data.head(),\n",
    "    \"-\" * 70,\n",
    "    data.tail(),\n",
    ")"
   ]
  },
  {
   "cell_type": "code",
   "execution_count": 95,
   "metadata": {},
   "outputs": [
    {
     "data": {
      "text/plain": [
       "Vendor       object\n",
       "Date         object\n",
       "CarBrand     object\n",
       "Color        object\n",
       "Price        object\n",
       "Code        float64\n",
       "dtype: object"
      ]
     },
     "execution_count": 95,
     "metadata": {},
     "output_type": "execute_result"
    }
   ],
   "source": [
    "#\n",
    "# Tipos de datos de las columnas\n",
    "#\n",
    "data.dtypes"
   ]
  },
  {
   "cell_type": "code",
   "execution_count": 96,
   "metadata": {},
   "outputs": [
    {
     "data": {
      "text/plain": [
       "Vendor      object\n",
       "Date        object\n",
       "CarBrand    object\n",
       "Color       object\n",
       "Price       object\n",
       "Code         int64\n",
       "dtype: object"
      ]
     },
     "execution_count": 96,
     "metadata": {},
     "output_type": "execute_result"
    }
   ],
   "source": [
    "#\n",
    "# Corrección del campo code a entero\n",
    "#\n",
    "data.Code = data.Code.astype(int)\n",
    "data.dtypes"
   ]
  },
  {
   "cell_type": "code",
   "execution_count": 97,
   "metadata": {},
   "outputs": [
    {
     "data": {
      "text/plain": [
       "Vendor       object\n",
       "Date         object\n",
       "CarBrand     object\n",
       "Color        object\n",
       "Price       float64\n",
       "Code          int64\n",
       "dtype: object"
      ]
     },
     "execution_count": 97,
     "metadata": {},
     "output_type": "execute_result"
    }
   ],
   "source": [
    "#\n",
    "# Corrección del campo price a flotante \n",
    "#\n",
    "data.Price = pd.to_numeric(data.Price, errors=\"coerce\")\n",
    "data.dtypes"
   ]
  },
  {
   "cell_type": "code",
   "execution_count": 98,
   "metadata": {},
   "outputs": [
    {
     "data": {
      "text/plain": [
       "              Vendor      Date    CarBrand   Color      Price  Code\n",
       "23  Philip Z. Pruitt  14.05.20   Chevrolet  orange     1656.0     9\n",
       "24   Kasper B. Ortiz  16.06.21  RAM Trucks  orange     1549.0     7\n",
       "25   Kasper B. Ortiz  28.08.18    Kenworth   green        NaN     9\n",
       "26  Philip Z. Pruitt  29.11.18         NaN  orange     1469.0     4\n",
       "27    Cheryl A. Kemp  01.10.18         GMC  orange  1087000.0     3"
      ]
     },
     "execution_count": 98,
     "metadata": {},
     "output_type": "execute_result"
    }
   ],
   "source": [
    "data.tail()"
   ]
  },
  {
   "cell_type": "code",
   "execution_count": 99,
   "metadata": {},
   "outputs": [
    {
     "data": {
      "text/plain": [
       "Vendor       object\n",
       "Date         object\n",
       "CarBrand     object\n",
       "Color        object\n",
       "Price       float64\n",
       "Code          int64\n",
       "dtype: object"
      ]
     },
     "metadata": {},
     "output_type": "display_data"
    },
    {
     "data": {
      "text/plain": [
       "''"
      ]
     },
     "metadata": {},
     "output_type": "display_data"
    },
    {
     "data": {
      "text/plain": [
       "''"
      ]
     },
     "metadata": {},
     "output_type": "display_data"
    },
    {
     "data": {
      "text/plain": [
       "             Vendor        Date        CarBrand   Color   Price  Code\n",
       "0   KASPER B. ORTIZ  2018-09-14           Dodge  indigo  1184.0     1\n",
       "1    Cheryl A. Kemp  2020-01-25  Dongfeng Motor  violet  1379.0     2\n",
       "2       Nita T. Gay  2021-06-28         Renault   green  1591.0     5\n",
       "3  Scarlet X. Stout  2019-04-17            Ford  indigo  1901.0     1\n",
       "4  Todd L. Richards  2020-11-12     Tata Motors  indigo  1566.0     3"
      ]
     },
     "metadata": {},
     "output_type": "display_data"
    }
   ],
   "source": [
    "#\n",
    "# Corrección del campo fecha\n",
    "#\n",
    "import datetime\n",
    "\n",
    "data.Date = data.Date.map(\n",
    "    lambda x: datetime.datetime.strptime(str(x), \"%d.%m.%y\").strftime(\"%Y-%m-%d\")\n",
    ")\n",
    "display(data.dtypes, \"\", data.head())"
   ]
  },
  {
   "cell_type": "code",
   "execution_count": 101,
   "metadata": {},
   "outputs": [
    {
     "data": {
      "text/plain": [
       "             Vendor       Date        CarBrand   Color Price  Code\n",
       "0   KASPER B. ORTIZ 2018-09-14           Dodge  indigo  1184   1.0\n",
       "1    Cheryl A. Kemp 2020-01-25  Dongfeng Motor  violet  1379   2.0\n",
       "2       Nita T. Gay 2021-06-28         Renault   green  1591   5.0\n",
       "3  Scarlet X. Stout 2019-04-17            Ford  indigo  1901   1.0\n",
       "4  Todd L. Richards 2020-12-11     Tata Motors  indigo  1566   3.0"
      ]
     },
     "execution_count": 101,
     "metadata": {},
     "output_type": "execute_result"
    }
   ],
   "source": [
    "#\n",
    "# Otra opción es convertir la fecha directamente en la lectura\n",
    "#\n",
    "data = pd.read_csv(\n",
    "    \"/tmp/data.csv\",\n",
    "    parse_dates=['Date'],\n",
    ")\n",
    "\n",
    "data.head()"
   ]
  },
  {
   "cell_type": "code",
   "execution_count": null,
   "metadata": {},
   "outputs": [],
   "source": []
  }
 ],
 "metadata": {
  "kernelspec": {
   "display_name": "Python 3",
   "language": "python",
   "name": "python3"
  },
  "language_info": {
   "codemirror_mode": {
    "name": "ipython",
    "version": 3
   },
   "file_extension": ".py",
   "mimetype": "text/x-python",
   "name": "python",
   "nbconvert_exporter": "python",
   "pygments_lexer": "ipython3",
   "version": "3.6.9"
  },
  "toc-autonumbering": false,
  "toc-showmarkdowntxt": false
 },
 "nbformat": 4,
 "nbformat_minor": 4
}
