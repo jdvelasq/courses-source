{
 "cells": [
  {
   "cell_type": "markdown",
   "id": "c91f72d3-b8c5-46bf-97b4-7b830c8157a8",
   "metadata": {
    "tags": []
   },
   "source": [
    "# Agregación\n",
    "\n",
    "* *60:00 min* | Última modificación: Agosto 11, 2021 | YouTube"
   ]
  },
  {
   "cell_type": "code",
   "execution_count": 1,
   "id": "a3b7363c-0ac0-466a-bdbb-b9bcaf4fbfc4",
   "metadata": {},
   "outputs": [],
   "source": [
    "import pandas as pd"
   ]
  },
  {
   "cell_type": "code",
   "execution_count": 2,
   "id": "0ed50fe0-8452-41be-8888-b9c2bba243ff",
   "metadata": {},
   "outputs": [
    {
     "name": "stdout",
     "output_type": "stream",
     "text": [
      "Overwriting /tmp/data.csv\n"
     ]
    }
   ],
   "source": [
    "%%writefile /tmp/data.csv\n",
    "Vendor,Date,CarBrand,Color,Price,Code\n",
    "KASPER B. ORTIZ,14.09.18,Dodge,indigo,\"1184\",1.0\n",
    "Cheryl A. Kemp,25.01.20,Dongfeng Motor,violet,1379,2\n",
    "Nita T. Gay,28.06.21,Renault,green,1591,5\n",
    "Scarlet X. Stout,17.04.19,Ford,indigo,1901,1\n",
    "Todd L. Richards,12.11.20,Tata Motors,indigo,1566,3\n",
    "Philip Z. Pruitt,12.02.20,BMW,green,1440,4\n",
    "Nita T. Gay,24.10.18,CHEVROLET,blue,1687,6\n",
    "Kasper B. Ortiz,11.10.20,Buick,indigo,1894,2\n",
    "Philip Z. Pruitt,22.01.19,Dacia,Violet,1858,6\n",
    "Cheryl A. Kemp,21.11.18,Daimler,orange,1550,1\n",
    "Todd L. Richards,28.04.19,LiCHEVROLETncoln,red,1606,2\n",
    "cheryl a. kemp,28.05.20,Buick,red,1252,\"1\"\n",
    "Kasper B. Ortiz,25.08.19,Volkswagen,violet,1468,9\n",
    "Cheryl A. Kemp,28.11.20,Vauxhall,red,1339,8\n",
    "Kasper B. Ortiz,16.03.21,Volkswagen,red,1618,9\n",
    "Philip Z. Pruitt,17.03.21,Daimler,orange,1201,7\n",
    "CHERYL A. KEMP,07.11.19,Isuzu,indigo,1280,6\n",
    "NITA T. GAY,29.05.20,Hyundai Motors,orange,1849,7\n",
    "Kasper B. Ortiz,13.02.20,Peugeot,Blue,1415,9\n",
    "CHERYL A. KEMP,29.03.20,Maruti Suzuki,blue,1626,0\n",
    "Kasper B. Ortiz,01.07.20,Mitsubishi Motors,blue,1120,1\n",
    "NITA T. GAY,03.11.18,RAM Trucks,orange,1056,4\n",
    "Kasper B. Ortiz,24.02.20,Kia Motors,orange,1375,3\n",
    "Philip Z. Pruitt,14.05.20,Chevrolet,orange,1656,9\n",
    "Kasper B. Ortiz,16.06.21,RAM Trucks,orange,1549,7\n",
    "Kasper B. Ortiz,28.08.18,Kenworth,green,NONE,9\n",
    "Philip Z. Pruitt,29.11.18,,orange,1469,4\n",
    "Cheryl A. Kemp,01.10.18,GMC,orange,1087000,3"
   ]
  },
  {
   "cell_type": "code",
   "execution_count": 7,
   "id": "c5cc1854-0de5-4d5e-9400-5cc2b14c1b4a",
   "metadata": {},
   "outputs": [
    {
     "data": {
      "text/html": [
       "<div>\n",
       "<style scoped>\n",
       "    .dataframe tbody tr th:only-of-type {\n",
       "        vertical-align: middle;\n",
       "    }\n",
       "\n",
       "    .dataframe tbody tr th {\n",
       "        vertical-align: top;\n",
       "    }\n",
       "\n",
       "    .dataframe thead th {\n",
       "        text-align: right;\n",
       "    }\n",
       "</style>\n",
       "<table border=\"1\" class=\"dataframe\">\n",
       "  <thead>\n",
       "    <tr style=\"text-align: right;\">\n",
       "      <th></th>\n",
       "      <th>Vendor</th>\n",
       "      <th>Date</th>\n",
       "      <th>CarBrand</th>\n",
       "      <th>Color</th>\n",
       "      <th>Price</th>\n",
       "      <th>Code</th>\n",
       "    </tr>\n",
       "  </thead>\n",
       "  <tbody>\n",
       "    <tr>\n",
       "      <th>0</th>\n",
       "      <td>KASPER B. ORTIZ</td>\n",
       "      <td>2018-09-14</td>\n",
       "      <td>Dodge</td>\n",
       "      <td>indigo</td>\n",
       "      <td>1184.0</td>\n",
       "      <td>1</td>\n",
       "    </tr>\n",
       "    <tr>\n",
       "      <th>1</th>\n",
       "      <td>Cheryl A. Kemp</td>\n",
       "      <td>2020-01-25</td>\n",
       "      <td>Dongfeng Motor</td>\n",
       "      <td>violet</td>\n",
       "      <td>1379.0</td>\n",
       "      <td>2</td>\n",
       "    </tr>\n",
       "    <tr>\n",
       "      <th>2</th>\n",
       "      <td>Nita T. Gay</td>\n",
       "      <td>2021-06-28</td>\n",
       "      <td>Renault</td>\n",
       "      <td>green</td>\n",
       "      <td>1591.0</td>\n",
       "      <td>5</td>\n",
       "    </tr>\n",
       "    <tr>\n",
       "      <th>3</th>\n",
       "      <td>Scarlet X. Stout</td>\n",
       "      <td>2019-04-17</td>\n",
       "      <td>Ford</td>\n",
       "      <td>indigo</td>\n",
       "      <td>1901.0</td>\n",
       "      <td>1</td>\n",
       "    </tr>\n",
       "    <tr>\n",
       "      <th>4</th>\n",
       "      <td>Todd L. Richards</td>\n",
       "      <td>2020-12-11</td>\n",
       "      <td>Tata Motors</td>\n",
       "      <td>indigo</td>\n",
       "      <td>1566.0</td>\n",
       "      <td>3</td>\n",
       "    </tr>\n",
       "  </tbody>\n",
       "</table>\n",
       "</div>"
      ],
      "text/plain": [
       "             Vendor       Date        CarBrand   Color   Price  Code\n",
       "0   KASPER B. ORTIZ 2018-09-14           Dodge  indigo  1184.0     1\n",
       "1    Cheryl A. Kemp 2020-01-25  Dongfeng Motor  violet  1379.0     2\n",
       "2       Nita T. Gay 2021-06-28         Renault   green  1591.0     5\n",
       "3  Scarlet X. Stout 2019-04-17            Ford  indigo  1901.0     1\n",
       "4  Todd L. Richards 2020-12-11     Tata Motors  indigo  1566.0     3"
      ]
     },
     "metadata": {},
     "output_type": "display_data"
    },
    {
     "data": {
      "text/plain": [
       "'----------------------------------------------------------------------'"
      ]
     },
     "metadata": {},
     "output_type": "display_data"
    },
    {
     "data": {
      "text/html": [
       "<div>\n",
       "<style scoped>\n",
       "    .dataframe tbody tr th:only-of-type {\n",
       "        vertical-align: middle;\n",
       "    }\n",
       "\n",
       "    .dataframe tbody tr th {\n",
       "        vertical-align: top;\n",
       "    }\n",
       "\n",
       "    .dataframe thead th {\n",
       "        text-align: right;\n",
       "    }\n",
       "</style>\n",
       "<table border=\"1\" class=\"dataframe\">\n",
       "  <thead>\n",
       "    <tr style=\"text-align: right;\">\n",
       "      <th></th>\n",
       "      <th>Vendor</th>\n",
       "      <th>Date</th>\n",
       "      <th>CarBrand</th>\n",
       "      <th>Color</th>\n",
       "      <th>Price</th>\n",
       "      <th>Code</th>\n",
       "    </tr>\n",
       "  </thead>\n",
       "  <tbody>\n",
       "    <tr>\n",
       "      <th>23</th>\n",
       "      <td>Philip Z. Pruitt</td>\n",
       "      <td>2020-05-14</td>\n",
       "      <td>Chevrolet</td>\n",
       "      <td>orange</td>\n",
       "      <td>1656.0</td>\n",
       "      <td>9</td>\n",
       "    </tr>\n",
       "    <tr>\n",
       "      <th>24</th>\n",
       "      <td>Kasper B. Ortiz</td>\n",
       "      <td>2021-06-16</td>\n",
       "      <td>RAM Trucks</td>\n",
       "      <td>orange</td>\n",
       "      <td>1549.0</td>\n",
       "      <td>7</td>\n",
       "    </tr>\n",
       "    <tr>\n",
       "      <th>25</th>\n",
       "      <td>Kasper B. Ortiz</td>\n",
       "      <td>2018-08-28</td>\n",
       "      <td>Kenworth</td>\n",
       "      <td>green</td>\n",
       "      <td>NaN</td>\n",
       "      <td>9</td>\n",
       "    </tr>\n",
       "    <tr>\n",
       "      <th>26</th>\n",
       "      <td>Philip Z. Pruitt</td>\n",
       "      <td>2018-11-29</td>\n",
       "      <td>NaN</td>\n",
       "      <td>orange</td>\n",
       "      <td>1469.0</td>\n",
       "      <td>4</td>\n",
       "    </tr>\n",
       "    <tr>\n",
       "      <th>27</th>\n",
       "      <td>Cheryl A. Kemp</td>\n",
       "      <td>2018-01-10</td>\n",
       "      <td>GMC</td>\n",
       "      <td>orange</td>\n",
       "      <td>1087000.0</td>\n",
       "      <td>3</td>\n",
       "    </tr>\n",
       "  </tbody>\n",
       "</table>\n",
       "</div>"
      ],
      "text/plain": [
       "              Vendor       Date    CarBrand   Color      Price  Code\n",
       "23  Philip Z. Pruitt 2020-05-14   Chevrolet  orange     1656.0     9\n",
       "24   Kasper B. Ortiz 2021-06-16  RAM Trucks  orange     1549.0     7\n",
       "25   Kasper B. Ortiz 2018-08-28    Kenworth   green        NaN     9\n",
       "26  Philip Z. Pruitt 2018-11-29         NaN  orange     1469.0     4\n",
       "27    Cheryl A. Kemp 2018-01-10         GMC  orange  1087000.0     3"
      ]
     },
     "metadata": {},
     "output_type": "display_data"
    }
   ],
   "source": [
    "#\n",
    "# Carga de datos e inspección inicial\n",
    "#\n",
    "data = pd.read_csv(\n",
    "    \"/tmp/data.csv\",\n",
    "    parse_dates=['Date'],\n",
    ")\n",
    "\n",
    "#\n",
    "# Conversión de tipos\n",
    "#\n",
    "data.Code = data.Code.astype(int)\n",
    "data.Price = pd.to_numeric(data.Price, errors=\"coerce\")\n",
    "\n",
    "\n",
    "display(\n",
    "    data.head(),\n",
    "    \"-\" * 70,\n",
    "    data.tail(),\n",
    ")"
   ]
  },
  {
   "cell_type": "code",
   "execution_count": 8,
   "id": "804c6b7c-aac2-45dd-97b5-b3ebb7508c23",
   "metadata": {},
   "outputs": [
    {
     "data": {
      "text/plain": [
       "'CHERYL A. KEMP'"
      ]
     },
     "metadata": {},
     "output_type": "display_data"
    },
    {
     "data": {
      "text/plain": [
       "'cheryl a. kemp'"
      ]
     },
     "metadata": {},
     "output_type": "display_data"
    }
   ],
   "source": [
    "#\n",
    "# Inspección directa de una columna\n",
    "#\n",
    "display(data.Vendor.min(), data.Vendor.max())"
   ]
  },
  {
   "cell_type": "code",
   "execution_count": 9,
   "id": "0dbc5328-3232-4b8b-a739-b2f9564f9e05",
   "metadata": {},
   "outputs": [
    {
     "data": {
      "text/plain": [
       "'KASPER B. ORTIZCheryl A. KempNita T. GayScarlet X. StoutTodd L. RichardsPhilip Z. PruittNita T. GayKasper B. OrtizPhilip Z. PruittCheryl A. KempTodd L. Richardscheryl a. kempKasper B. OrtizCheryl A. KempKasper B. OrtizPhilip Z. PruittCHERYL A. KEMPNITA T. GAYKasper B. OrtizCHERYL A. KEMPKasper B. OrtizNITA T. GAYKasper B. OrtizPhilip Z. PruittKasper B. OrtizKasper B. OrtizPhilip Z. PruittCheryl A. Kemp'"
      ]
     },
     "execution_count": 9,
     "metadata": {},
     "output_type": "execute_result"
    }
   ],
   "source": [
    "#\n",
    "# Se observa mezcla de valores en mayuscula\n",
    "# y minuscula\n",
    "#\n",
    "data.Vendor.sum()"
   ]
  },
  {
   "cell_type": "code",
   "execution_count": 6,
   "id": "90da24bd-dd93-423f-baf6-67b5b241b1e8",
   "metadata": {},
   "outputs": [
    {
     "data": {
      "text/plain": [
       "'1056'"
      ]
     },
     "metadata": {},
     "output_type": "display_data"
    },
    {
     "data": {
      "text/plain": [
       "'NONE'"
      ]
     },
     "metadata": {},
     "output_type": "display_data"
    }
   ],
   "source": [
    "display(data.Price.min(), data.Price.max())"
   ]
  },
  {
   "cell_type": "code",
   "execution_count": 10,
   "id": "8f817077-cc18-4e18-8ead-fec316a99472",
   "metadata": {},
   "outputs": [
    {
     "data": {
      "text/plain": [
       "Vendor    KASPER B. ORTIZCheryl A. KempNita T. GayScarle...\n",
       "Color     indigovioletgreenindigoindigogreenblueindigoVi...\n",
       "Price                                           1.12593e+06\n",
       "Code                                                    129\n",
       "dtype: object"
      ]
     },
     "execution_count": 10,
     "metadata": {},
     "output_type": "execute_result"
    }
   ],
   "source": [
    "#\n",
    "# Inspección de la suma de los campos\n",
    "#\n",
    "data.sum()"
   ]
  },
  {
   "cell_type": "code",
   "execution_count": 11,
   "id": "154ded43-2a79-46d9-9f36-12f21e0e4d1b",
   "metadata": {},
   "outputs": [
    {
     "data": {
      "text/plain": [
       "Vendor         CHERYL A. KEMP\n",
       "Date      2018-01-10 00:00:00\n",
       "Color                    Blue\n",
       "Price                    1056\n",
       "Code                        0\n",
       "dtype: object"
      ]
     },
     "execution_count": 11,
     "metadata": {},
     "output_type": "execute_result"
    }
   ],
   "source": [
    "#\n",
    "#\n",
    "#\n",
    "data.agg('min')"
   ]
  },
  {
   "cell_type": "code",
   "execution_count": 12,
   "id": "c3a0736a-b0b0-47e9-b29a-6c991d9d7c27",
   "metadata": {},
   "outputs": [
    {
     "data": {
      "text/html": [
       "<div>\n",
       "<style scoped>\n",
       "    .dataframe tbody tr th:only-of-type {\n",
       "        vertical-align: middle;\n",
       "    }\n",
       "\n",
       "    .dataframe tbody tr th {\n",
       "        vertical-align: top;\n",
       "    }\n",
       "\n",
       "    .dataframe thead th {\n",
       "        text-align: right;\n",
       "    }\n",
       "</style>\n",
       "<table border=\"1\" class=\"dataframe\">\n",
       "  <thead>\n",
       "    <tr style=\"text-align: right;\">\n",
       "      <th></th>\n",
       "      <th>Vendor</th>\n",
       "      <th>Date</th>\n",
       "      <th>Color</th>\n",
       "      <th>Price</th>\n",
       "      <th>Code</th>\n",
       "    </tr>\n",
       "  </thead>\n",
       "  <tbody>\n",
       "    <tr>\n",
       "      <th>min</th>\n",
       "      <td>CHERYL A. KEMP</td>\n",
       "      <td>2018-01-10</td>\n",
       "      <td>Blue</td>\n",
       "      <td>1056.0</td>\n",
       "      <td>0</td>\n",
       "    </tr>\n",
       "    <tr>\n",
       "      <th>max</th>\n",
       "      <td>cheryl a. kemp</td>\n",
       "      <td>2021-06-28</td>\n",
       "      <td>violet</td>\n",
       "      <td>1087000.0</td>\n",
       "      <td>9</td>\n",
       "    </tr>\n",
       "  </tbody>\n",
       "</table>\n",
       "</div>"
      ],
      "text/plain": [
       "             Vendor       Date   Color      Price  Code\n",
       "min  CHERYL A. KEMP 2018-01-10    Blue     1056.0     0\n",
       "max  cheryl a. kemp 2021-06-28  violet  1087000.0     9"
      ]
     },
     "execution_count": 12,
     "metadata": {},
     "output_type": "execute_result"
    }
   ],
   "source": [
    "#\n",
    "#\n",
    "#\n",
    "data.agg(['min', 'max'])"
   ]
  },
  {
   "cell_type": "code",
   "execution_count": 13,
   "id": "3a90a895-97b1-4f3d-b37d-1fa89f691954",
   "metadata": {},
   "outputs": [
    {
     "data": {
      "text/html": [
       "<div>\n",
       "<style scoped>\n",
       "    .dataframe tbody tr th:only-of-type {\n",
       "        vertical-align: middle;\n",
       "    }\n",
       "\n",
       "    .dataframe tbody tr th {\n",
       "        vertical-align: top;\n",
       "    }\n",
       "\n",
       "    .dataframe thead th {\n",
       "        text-align: right;\n",
       "    }\n",
       "</style>\n",
       "<table border=\"1\" class=\"dataframe\">\n",
       "  <thead>\n",
       "    <tr style=\"text-align: right;\">\n",
       "      <th></th>\n",
       "      <th>min</th>\n",
       "      <th>max</th>\n",
       "    </tr>\n",
       "  </thead>\n",
       "  <tbody>\n",
       "    <tr>\n",
       "      <th>Vendor</th>\n",
       "      <td>CHERYL A. KEMP</td>\n",
       "      <td>cheryl a. kemp</td>\n",
       "    </tr>\n",
       "    <tr>\n",
       "      <th>Date</th>\n",
       "      <td>2018-01-10 00:00:00</td>\n",
       "      <td>2021-06-28 00:00:00</td>\n",
       "    </tr>\n",
       "    <tr>\n",
       "      <th>Color</th>\n",
       "      <td>Blue</td>\n",
       "      <td>violet</td>\n",
       "    </tr>\n",
       "    <tr>\n",
       "      <th>Price</th>\n",
       "      <td>1056</td>\n",
       "      <td>1.087e+06</td>\n",
       "    </tr>\n",
       "    <tr>\n",
       "      <th>Code</th>\n",
       "      <td>0</td>\n",
       "      <td>9</td>\n",
       "    </tr>\n",
       "  </tbody>\n",
       "</table>\n",
       "</div>"
      ],
      "text/plain": [
       "                        min                  max\n",
       "Vendor       CHERYL A. KEMP       cheryl a. kemp\n",
       "Date    2018-01-10 00:00:00  2021-06-28 00:00:00\n",
       "Color                  Blue               violet\n",
       "Price                  1056            1.087e+06\n",
       "Code                      0                    9"
      ]
     },
     "execution_count": 13,
     "metadata": {},
     "output_type": "execute_result"
    }
   ],
   "source": [
    "data.agg(['min', 'max']).transpose()"
   ]
  },
  {
   "cell_type": "code",
   "execution_count": 14,
   "id": "b035996c-9e54-46fd-98c7-441028b53d97",
   "metadata": {},
   "outputs": [
    {
     "data": {
      "text/plain": [
       "Kasper B. Ortiz     8\n",
       "Philip Z. Pruitt    5\n",
       "Cheryl A. Kemp      4\n",
       "CHERYL A. KEMP      2\n",
       "Nita T. Gay         2\n",
       "Todd L. Richards    2\n",
       "NITA T. GAY         2\n",
       "cheryl a. kemp      1\n",
       "Scarlet X. Stout    1\n",
       "KASPER B. ORTIZ     1\n",
       "Name: Vendor, dtype: int64"
      ]
     },
     "execution_count": 14,
     "metadata": {},
     "output_type": "execute_result"
    }
   ],
   "source": [
    "data.Vendor.value_counts()"
   ]
  },
  {
   "cell_type": "code",
   "execution_count": 16,
   "id": "2bbd9c4b-d917-4907-ba41-ceec0b39af8d",
   "metadata": {},
   "outputs": [
    {
     "data": {
      "text/plain": [
       "<matplotlib.axes._subplots.AxesSubplot at 0x7faeff03c668>"
      ]
     },
     "execution_count": 16,
     "metadata": {},
     "output_type": "execute_result"
    },
    {
     "data": {
      "image/png": "[encoded data removed]",
      "text/plain": [
       "<Figure size 432x288 with 1 Axes>"
      ]
     },
     "metadata": {
      "needs_background": "light"
     },
     "output_type": "display_data"
    }
   ],
   "source": [
    "data.Vendor.value_counts(ascending=True).plot.barh()"
   ]
  },
  {
   "cell_type": "code",
   "execution_count": 17,
   "id": "81fc70ca-ff32-41ec-92ad-d3a07602d3fc",
   "metadata": {},
   "outputs": [
    {
     "data": {
      "text/plain": [
       "<matplotlib.axes._subplots.AxesSubplot at 0x7faefe8e67b8>"
      ]
     },
     "execution_count": 17,
     "metadata": {},
     "output_type": "execute_result"
    },
    {
     "data": {
      "image/png": "[encoded data removed]",
      "text/plain": [
       "<Figure size 432x288 with 1 Axes>"
      ]
     },
     "metadata": {
      "needs_background": "light"
     },
     "output_type": "display_data"
    }
   ],
   "source": [
    "#\n",
    "# Un histograma ayuda a dectectar la presencia de\n",
    "# outliers\n",
    "#\n",
    "data.Price.plot.hist()"
   ]
  },
  {
   "cell_type": "code",
   "execution_count": 18,
   "id": "c385305a-fc8e-4f65-91ea-d1648db01dee",
   "metadata": {},
   "outputs": [
    {
     "data": {
      "text/html": [
       "<div>\n",
       "<style scoped>\n",
       "    .dataframe tbody tr th:only-of-type {\n",
       "        vertical-align: middle;\n",
       "    }\n",
       "\n",
       "    .dataframe tbody tr th {\n",
       "        vertical-align: top;\n",
       "    }\n",
       "\n",
       "    .dataframe thead th {\n",
       "        text-align: right;\n",
       "    }\n",
       "</style>\n",
       "<table border=\"1\" class=\"dataframe\">\n",
       "  <thead>\n",
       "    <tr style=\"text-align: right;\">\n",
       "      <th></th>\n",
       "      <th>Date</th>\n",
       "      <th>CarBrand</th>\n",
       "      <th>Color</th>\n",
       "      <th>Price</th>\n",
       "      <th>Code</th>\n",
       "    </tr>\n",
       "  </thead>\n",
       "  <tbody>\n",
       "    <tr>\n",
       "      <th>0</th>\n",
       "      <td>1</td>\n",
       "      <td>1</td>\n",
       "      <td>1</td>\n",
       "      <td>1</td>\n",
       "      <td>1</td>\n",
       "    </tr>\n",
       "    <tr>\n",
       "      <th>1</th>\n",
       "      <td>4</td>\n",
       "      <td>4</td>\n",
       "      <td>3</td>\n",
       "      <td>4</td>\n",
       "      <td>4</td>\n",
       "    </tr>\n",
       "    <tr>\n",
       "      <th>2</th>\n",
       "      <td>2</td>\n",
       "      <td>2</td>\n",
       "      <td>2</td>\n",
       "      <td>2</td>\n",
       "      <td>2</td>\n",
       "    </tr>\n",
       "    <tr>\n",
       "      <th>3</th>\n",
       "      <td>1</td>\n",
       "      <td>1</td>\n",
       "      <td>1</td>\n",
       "      <td>1</td>\n",
       "      <td>1</td>\n",
       "    </tr>\n",
       "    <tr>\n",
       "      <th>4</th>\n",
       "      <td>2</td>\n",
       "      <td>2</td>\n",
       "      <td>2</td>\n",
       "      <td>2</td>\n",
       "      <td>2</td>\n",
       "    </tr>\n",
       "    <tr>\n",
       "      <th>5</th>\n",
       "      <td>5</td>\n",
       "      <td>4</td>\n",
       "      <td>3</td>\n",
       "      <td>5</td>\n",
       "      <td>4</td>\n",
       "    </tr>\n",
       "    <tr>\n",
       "      <th>6</th>\n",
       "      <td>2</td>\n",
       "      <td>2</td>\n",
       "      <td>2</td>\n",
       "      <td>2</td>\n",
       "      <td>2</td>\n",
       "    </tr>\n",
       "    <tr>\n",
       "      <th>7</th>\n",
       "      <td>8</td>\n",
       "      <td>7</td>\n",
       "      <td>7</td>\n",
       "      <td>7</td>\n",
       "      <td>5</td>\n",
       "    </tr>\n",
       "    <tr>\n",
       "      <th>8</th>\n",
       "      <td>5</td>\n",
       "      <td>4</td>\n",
       "      <td>3</td>\n",
       "      <td>5</td>\n",
       "      <td>4</td>\n",
       "    </tr>\n",
       "    <tr>\n",
       "      <th>9</th>\n",
       "      <td>4</td>\n",
       "      <td>4</td>\n",
       "      <td>3</td>\n",
       "      <td>4</td>\n",
       "      <td>4</td>\n",
       "    </tr>\n",
       "    <tr>\n",
       "      <th>10</th>\n",
       "      <td>2</td>\n",
       "      <td>2</td>\n",
       "      <td>2</td>\n",
       "      <td>2</td>\n",
       "      <td>2</td>\n",
       "    </tr>\n",
       "    <tr>\n",
       "      <th>11</th>\n",
       "      <td>1</td>\n",
       "      <td>1</td>\n",
       "      <td>1</td>\n",
       "      <td>1</td>\n",
       "      <td>1</td>\n",
       "    </tr>\n",
       "    <tr>\n",
       "      <th>12</th>\n",
       "      <td>8</td>\n",
       "      <td>7</td>\n",
       "      <td>7</td>\n",
       "      <td>7</td>\n",
       "      <td>5</td>\n",
       "    </tr>\n",
       "    <tr>\n",
       "      <th>13</th>\n",
       "      <td>4</td>\n",
       "      <td>4</td>\n",
       "      <td>3</td>\n",
       "      <td>4</td>\n",
       "      <td>4</td>\n",
       "    </tr>\n",
       "    <tr>\n",
       "      <th>14</th>\n",
       "      <td>8</td>\n",
       "      <td>7</td>\n",
       "      <td>7</td>\n",
       "      <td>7</td>\n",
       "      <td>5</td>\n",
       "    </tr>\n",
       "    <tr>\n",
       "      <th>15</th>\n",
       "      <td>5</td>\n",
       "      <td>4</td>\n",
       "      <td>3</td>\n",
       "      <td>5</td>\n",
       "      <td>4</td>\n",
       "    </tr>\n",
       "    <tr>\n",
       "      <th>16</th>\n",
       "      <td>2</td>\n",
       "      <td>2</td>\n",
       "      <td>2</td>\n",
       "      <td>2</td>\n",
       "      <td>2</td>\n",
       "    </tr>\n",
       "    <tr>\n",
       "      <th>17</th>\n",
       "      <td>2</td>\n",
       "      <td>2</td>\n",
       "      <td>1</td>\n",
       "      <td>2</td>\n",
       "      <td>2</td>\n",
       "    </tr>\n",
       "    <tr>\n",
       "      <th>18</th>\n",
       "      <td>8</td>\n",
       "      <td>7</td>\n",
       "      <td>7</td>\n",
       "      <td>7</td>\n",
       "      <td>5</td>\n",
       "    </tr>\n",
       "    <tr>\n",
       "      <th>19</th>\n",
       "      <td>2</td>\n",
       "      <td>2</td>\n",
       "      <td>2</td>\n",
       "      <td>2</td>\n",
       "      <td>2</td>\n",
       "    </tr>\n",
       "    <tr>\n",
       "      <th>20</th>\n",
       "      <td>8</td>\n",
       "      <td>7</td>\n",
       "      <td>7</td>\n",
       "      <td>7</td>\n",
       "      <td>5</td>\n",
       "    </tr>\n",
       "    <tr>\n",
       "      <th>21</th>\n",
       "      <td>2</td>\n",
       "      <td>2</td>\n",
       "      <td>1</td>\n",
       "      <td>2</td>\n",
       "      <td>2</td>\n",
       "    </tr>\n",
       "    <tr>\n",
       "      <th>22</th>\n",
       "      <td>8</td>\n",
       "      <td>7</td>\n",
       "      <td>7</td>\n",
       "      <td>7</td>\n",
       "      <td>5</td>\n",
       "    </tr>\n",
       "    <tr>\n",
       "      <th>23</th>\n",
       "      <td>5</td>\n",
       "      <td>4</td>\n",
       "      <td>3</td>\n",
       "      <td>5</td>\n",
       "      <td>4</td>\n",
       "    </tr>\n",
       "    <tr>\n",
       "      <th>24</th>\n",
       "      <td>8</td>\n",
       "      <td>7</td>\n",
       "      <td>7</td>\n",
       "      <td>7</td>\n",
       "      <td>5</td>\n",
       "    </tr>\n",
       "    <tr>\n",
       "      <th>25</th>\n",
       "      <td>8</td>\n",
       "      <td>7</td>\n",
       "      <td>7</td>\n",
       "      <td>7</td>\n",
       "      <td>5</td>\n",
       "    </tr>\n",
       "    <tr>\n",
       "      <th>26</th>\n",
       "      <td>5</td>\n",
       "      <td>4</td>\n",
       "      <td>3</td>\n",
       "      <td>5</td>\n",
       "      <td>4</td>\n",
       "    </tr>\n",
       "    <tr>\n",
       "      <th>27</th>\n",
       "      <td>4</td>\n",
       "      <td>4</td>\n",
       "      <td>3</td>\n",
       "      <td>4</td>\n",
       "      <td>4</td>\n",
       "    </tr>\n",
       "  </tbody>\n",
       "</table>\n",
       "</div>"
      ],
      "text/plain": [
       "    Date  CarBrand  Color  Price  Code\n",
       "0      1         1      1      1     1\n",
       "1      4         4      3      4     4\n",
       "2      2         2      2      2     2\n",
       "3      1         1      1      1     1\n",
       "4      2         2      2      2     2\n",
       "5      5         4      3      5     4\n",
       "6      2         2      2      2     2\n",
       "7      8         7      7      7     5\n",
       "8      5         4      3      5     4\n",
       "9      4         4      3      4     4\n",
       "10     2         2      2      2     2\n",
       "11     1         1      1      1     1\n",
       "12     8         7      7      7     5\n",
       "13     4         4      3      4     4\n",
       "14     8         7      7      7     5\n",
       "15     5         4      3      5     4\n",
       "16     2         2      2      2     2\n",
       "17     2         2      1      2     2\n",
       "18     8         7      7      7     5\n",
       "19     2         2      2      2     2\n",
       "20     8         7      7      7     5\n",
       "21     2         2      1      2     2\n",
       "22     8         7      7      7     5\n",
       "23     5         4      3      5     4\n",
       "24     8         7      7      7     5\n",
       "25     8         7      7      7     5\n",
       "26     5         4      3      5     4\n",
       "27     4         4      3      4     4"
      ]
     },
     "execution_count": 18,
     "metadata": {},
     "output_type": "execute_result"
    }
   ],
   "source": [
    "data.groupby('Vendor').transform('nunique')"
   ]
  },
  {
   "cell_type": "code",
   "execution_count": null,
   "id": "f685d592-9bc9-42e3-8176-4582ee4d3a0c",
   "metadata": {},
   "outputs": [],
   "source": []
  }
 ],
 "metadata": {
  "kernelspec": {
   "display_name": "Python 3",
   "language": "python",
   "name": "python3"
  },
  "language_info": {
   "codemirror_mode": {
    "name": "ipython",
    "version": 3
   },
   "file_extension": ".py",
   "mimetype": "text/x-python",
   "name": "python",
   "nbconvert_exporter": "python",
   "pygments_lexer": "ipython3",
   "version": "3.6.9"
  }
 },
 "nbformat": 4,
 "nbformat_minor": 5
}
