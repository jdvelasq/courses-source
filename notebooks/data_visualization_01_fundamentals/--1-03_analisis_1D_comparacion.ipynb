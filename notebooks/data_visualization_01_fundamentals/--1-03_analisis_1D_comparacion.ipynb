{
 "cells": [
  {
   "cell_type": "markdown",
   "id": "1aa6869f-b5ef-4e52-a6f2-cb6ac0e06cb7",
   "metadata": {
    "slideshow": {
     "slide_type": "slide"
    },
    "tags": []
   },
   "source": [
    "Análisis 1D --- Graficas de Comparación\n",
    "===\n",
    "\n",
    "* 60:00 min | Última modificación: Abril 5, 2021 | [YouTube]()"
   ]
  },
  {
   "cell_type": "code",
   "execution_count": 1,
   "id": "03ef9f6e-08ff-4f87-ac0b-95a632b18dff",
   "metadata": {},
   "outputs": [],
   "source": [
    "import numpy as np\n",
    "import pandas as pd\n",
    "import matplotlib.pyplot as plt\n",
    "import seaborn as sns"
   ]
  },
  {
   "cell_type": "code",
   "execution_count": 2,
   "id": "6fbc4ad5-bf34-4f87-92a6-be595418e5c2",
   "metadata": {},
   "outputs": [],
   "source": [
    "tips = sns.load_dataset('tips')"
   ]
  },
  {
   "cell_type": "code",
   "execution_count": 3,
   "id": "b312e048-9761-458c-9ee0-1478b2c8cbd8",
   "metadata": {},
   "outputs": [
    {
     "data": {
      "text/html": [
       "<div>\n",
       "<style scoped>\n",
       "    .dataframe tbody tr th:only-of-type {\n",
       "        vertical-align: middle;\n",
       "    }\n",
       "\n",
       "    .dataframe tbody tr th {\n",
       "        vertical-align: top;\n",
       "    }\n",
       "\n",
       "    .dataframe thead th {\n",
       "        text-align: right;\n",
       "    }\n",
       "</style>\n",
       "<table border=\"1\" class=\"dataframe\">\n",
       "  <thead>\n",
       "    <tr style=\"text-align: right;\">\n",
       "      <th></th>\n",
       "      <th>total_bill</th>\n",
       "      <th>tip</th>\n",
       "      <th>sex</th>\n",
       "      <th>smoker</th>\n",
       "      <th>day</th>\n",
       "      <th>time</th>\n",
       "      <th>size</th>\n",
       "    </tr>\n",
       "  </thead>\n",
       "  <tbody>\n",
       "    <tr>\n",
       "      <th>0</th>\n",
       "      <td>16.99</td>\n",
       "      <td>1.01</td>\n",
       "      <td>Female</td>\n",
       "      <td>No</td>\n",
       "      <td>Sun</td>\n",
       "      <td>Dinner</td>\n",
       "      <td>2</td>\n",
       "    </tr>\n",
       "    <tr>\n",
       "      <th>1</th>\n",
       "      <td>10.34</td>\n",
       "      <td>1.66</td>\n",
       "      <td>Male</td>\n",
       "      <td>No</td>\n",
       "      <td>Sun</td>\n",
       "      <td>Dinner</td>\n",
       "      <td>3</td>\n",
       "    </tr>\n",
       "    <tr>\n",
       "      <th>2</th>\n",
       "      <td>21.01</td>\n",
       "      <td>3.50</td>\n",
       "      <td>Male</td>\n",
       "      <td>No</td>\n",
       "      <td>Sun</td>\n",
       "      <td>Dinner</td>\n",
       "      <td>3</td>\n",
       "    </tr>\n",
       "    <tr>\n",
       "      <th>3</th>\n",
       "      <td>23.68</td>\n",
       "      <td>3.31</td>\n",
       "      <td>Male</td>\n",
       "      <td>No</td>\n",
       "      <td>Sun</td>\n",
       "      <td>Dinner</td>\n",
       "      <td>2</td>\n",
       "    </tr>\n",
       "    <tr>\n",
       "      <th>4</th>\n",
       "      <td>24.59</td>\n",
       "      <td>3.61</td>\n",
       "      <td>Female</td>\n",
       "      <td>No</td>\n",
       "      <td>Sun</td>\n",
       "      <td>Dinner</td>\n",
       "      <td>4</td>\n",
       "    </tr>\n",
       "  </tbody>\n",
       "</table>\n",
       "</div>"
      ],
      "text/plain": [
       "   total_bill   tip     sex smoker  day    time  size\n",
       "0       16.99  1.01  Female     No  Sun  Dinner     2\n",
       "1       10.34  1.66    Male     No  Sun  Dinner     3\n",
       "2       21.01  3.50    Male     No  Sun  Dinner     3\n",
       "3       23.68  3.31    Male     No  Sun  Dinner     2\n",
       "4       24.59  3.61  Female     No  Sun  Dinner     4"
      ]
     },
     "execution_count": 3,
     "metadata": {},
     "output_type": "execute_result"
    }
   ],
   "source": [
    "tips.head()"
   ]
  },
  {
   "cell_type": "markdown",
   "id": "20b60f96-61c6-453e-9be9-0492c9aef2da",
   "metadata": {},
   "source": [
    "## sns.countplot()"
   ]
  },
  {
   "cell_type": "markdown",
   "id": "65307e12-8406-44bc-9d27-ed463da70bec",
   "metadata": {},
   "source": [
    "## pywaffle"
   ]
  },
  {
   "cell_type": "markdown",
   "id": "500393f4-d9c3-4d10-8911-3ef51af67ea4",
   "metadata": {},
   "source": [
    "## Squarify"
   ]
  },
  {
   "cell_type": "markdown",
   "id": "3f1fee01-0840-4986-8504-81a0108c9b84",
   "metadata": {
    "tags": []
   },
   "source": [
    "## pandas.dataframe.bar()"
   ]
  },
  {
   "cell_type": "code",
   "execution_count": 60,
   "id": "541373f6-a7d0-4b1c-8edd-2b57187c268e",
   "metadata": {},
   "outputs": [
    {
     "data": {
      "text/html": [
       "<div>\n",
       "<style scoped>\n",
       "    .dataframe tbody tr th:only-of-type {\n",
       "        vertical-align: middle;\n",
       "    }\n",
       "\n",
       "    .dataframe tbody tr th {\n",
       "        vertical-align: top;\n",
       "    }\n",
       "\n",
       "    .dataframe thead th {\n",
       "        text-align: right;\n",
       "    }\n",
       "</style>\n",
       "<table border=\"1\" class=\"dataframe\">\n",
       "  <thead>\n",
       "    <tr style=\"text-align: right;\">\n",
       "      <th></th>\n",
       "      <th>valor</th>\n",
       "    </tr>\n",
       "  </thead>\n",
       "  <tbody>\n",
       "    <tr>\n",
       "      <th>A</th>\n",
       "      <td>220</td>\n",
       "    </tr>\n",
       "    <tr>\n",
       "      <th>B</th>\n",
       "      <td>-30</td>\n",
       "    </tr>\n",
       "    <tr>\n",
       "      <th>C</th>\n",
       "      <td>-50</td>\n",
       "    </tr>\n",
       "    <tr>\n",
       "      <th>D</th>\n",
       "      <td>-20</td>\n",
       "    </tr>\n",
       "    <tr>\n",
       "      <th>E</th>\n",
       "      <td>150</td>\n",
       "    </tr>\n",
       "  </tbody>\n",
       "</table>\n",
       "</div>"
      ],
      "text/plain": [
       "   valor\n",
       "A    220\n",
       "B    -30\n",
       "C    -50\n",
       "D    -20\n",
       "E    150"
      ]
     },
     "execution_count": 60,
     "metadata": {},
     "output_type": "execute_result"
    }
   ],
   "source": [
    "df = pd.DataFrame(\n",
    "    data={\"valor\": [220, -30, -50, -20, 150, -10]},\n",
    "    index=list(\"ABCDEF\"),\n",
    ")\n",
    "\n",
    "df.head()"
   ]
  },
  {
   "cell_type": "code",
   "execution_count": 61,
   "id": "aa07d028-9a96-45a5-b163-5649b21ea4d2",
   "metadata": {},
   "outputs": [
    {
     "data": {
      "text/html": [
       "<div>\n",
       "<style scoped>\n",
       "    .dataframe tbody tr th:only-of-type {\n",
       "        vertical-align: middle;\n",
       "    }\n",
       "\n",
       "    .dataframe tbody tr th {\n",
       "        vertical-align: top;\n",
       "    }\n",
       "\n",
       "    .dataframe thead th {\n",
       "        text-align: right;\n",
       "    }\n",
       "</style>\n",
       "<table border=\"1\" class=\"dataframe\">\n",
       "  <thead>\n",
       "    <tr style=\"text-align: right;\">\n",
       "      <th></th>\n",
       "      <th>valor</th>\n",
       "      <th>cumsum</th>\n",
       "    </tr>\n",
       "  </thead>\n",
       "  <tbody>\n",
       "    <tr>\n",
       "      <th>A</th>\n",
       "      <td>220</td>\n",
       "      <td>0.0</td>\n",
       "    </tr>\n",
       "    <tr>\n",
       "      <th>B</th>\n",
       "      <td>-30</td>\n",
       "      <td>220.0</td>\n",
       "    </tr>\n",
       "    <tr>\n",
       "      <th>C</th>\n",
       "      <td>-50</td>\n",
       "      <td>190.0</td>\n",
       "    </tr>\n",
       "    <tr>\n",
       "      <th>D</th>\n",
       "      <td>-20</td>\n",
       "      <td>140.0</td>\n",
       "    </tr>\n",
       "    <tr>\n",
       "      <th>E</th>\n",
       "      <td>150</td>\n",
       "      <td>120.0</td>\n",
       "    </tr>\n",
       "  </tbody>\n",
       "</table>\n",
       "</div>"
      ],
      "text/plain": [
       "   valor  cumsum\n",
       "A    220     0.0\n",
       "B    -30   220.0\n",
       "C    -50   190.0\n",
       "D    -20   140.0\n",
       "E    150   120.0"
      ]
     },
     "execution_count": 61,
     "metadata": {},
     "output_type": "execute_result"
    }
   ],
   "source": [
    "df['cumsum'] = df.valor.cumsum().shift(1).fillna(0)\n",
    "df.head()"
   ]
  },
  {
   "cell_type": "code",
   "execution_count": 62,
   "id": "339d87c4-c4a8-40ae-acb6-b23cc7321d58",
   "metadata": {},
   "outputs": [
    {
     "data": {
      "text/plain": [
       "<matplotlib.axes._subplots.AxesSubplot at 0x7f785d8ad780>"
      ]
     },
     "execution_count": 62,
     "metadata": {},
     "output_type": "execute_result"
    },
    {
     "data": {
      "image/png": "[encoded data removed]",
      "text/plain": [
       "<Figure size 432x288 with 1 Axes>"
      ]
     },
     "metadata": {
      "needs_background": "light"
     },
     "output_type": "display_data"
    }
   ],
   "source": [
    "df.plot.bar(\n",
    "    stacked=True,\n",
    "    bottom=df['cumsum'],\n",
    ")"
   ]
  },
  {
   "cell_type": "code",
   "execution_count": 63,
   "id": "e3011536-3c53-4ab4-a914-15b02291fd3c",
   "metadata": {},
   "outputs": [
    {
     "data": {
      "text/plain": [
       "0      0.0\n",
       "0      NaN\n",
       "0    220.0\n",
       "1    220.0\n",
       "1      NaN\n",
       "1    190.0\n",
       "2    190.0\n",
       "2      NaN\n",
       "2    140.0\n",
       "3    140.0\n",
       "3      NaN\n",
       "3    120.0\n",
       "4    120.0\n",
       "4      NaN\n",
       "4    270.0\n",
       "5    270.0\n",
       "5      NaN\n",
       "5      NaN\n",
       "Name: valor, dtype: float64"
      ]
     },
     "execution_count": 63,
     "metadata": {},
     "output_type": "execute_result"
    }
   ],
   "source": [
    "cumsum = df.valor.cumsum().shift(1).fillna(0)\n",
    "\n",
    "h_lines = cumsum.reset_index(drop=True).repeat(3).shift(-1)\n",
    "h_lines[1::3] = np.nan\n",
    "h_lines"
   ]
  },
  {
   "cell_type": "code",
   "execution_count": 72,
   "id": "dc406a7c-31fa-449e-91a0-029c7a2cb465",
   "metadata": {},
   "outputs": [
    {
     "data": {
      "text/plain": [
       "[<matplotlib.lines.Line2D at 0x7f785d635358>]"
      ]
     },
     "execution_count": 72,
     "metadata": {},
     "output_type": "execute_result"
    },
    {
     "data": {
      "image/png": "[encoded data removed]",
      "text/plain": [
       "<Figure size 432x288 with 1 Axes>"
      ]
     },
     "metadata": {
      "needs_background": "light"
     },
     "output_type": "display_data"
    }
   ],
   "source": [
    "df['total'] = df.sum().valor\n",
    "cumsum.loc['total'] = 0\n",
    "\n",
    "\n",
    "fig = df[['valor']].plot.bar(\n",
    "    stacked=True,\n",
    "    bottom=df['cumsum'],\n",
    "    color=\"#F15B2A\",\n",
    ") \n",
    "\n",
    "cumsum['total'] = df[:-1].sum().valor\n",
    "h_lines = cumsum.reset_index(drop=True).repeat(3).shift(-1)\n",
    "h_lines[1::3]=np.nan\n",
    "\n",
    "fig.plot(h_lines.index, h_lines.values, 'black',)"
   ]
  },
  {
   "cell_type": "markdown",
   "id": "13478191-985e-42da-8d2a-2ceac439355b",
   "metadata": {},
   "source": [
    "## pandas.lag_plot()"
   ]
  },
  {
   "cell_type": "code",
   "execution_count": 12,
   "id": "9d53b8d8-c2e8-4e88-988b-0b40f1c66644",
   "metadata": {},
   "outputs": [
    {
     "data": {
      "text/plain": [
       "<matplotlib.axes._subplots.AxesSubplot at 0x7ff617116d68>"
      ]
     },
     "execution_count": 12,
     "metadata": {},
     "output_type": "execute_result"
    },
    {
     "data": {
      "image/png": "[encoded data removed]",
      "text/plain": [
       "<Figure size 432x288 with 1 Axes>"
      ]
     },
     "metadata": {
      "needs_background": "light"
     },
     "output_type": "display_data"
    }
   ],
   "source": [
    "ts_data = pd.DataFrame(\n",
    "    data={\n",
    "        'yt': [12, 14, 15, 19, 13, 9, 10, 14, 24, 26]\n",
    "    }\n",
    ")\n",
    "\n",
    "pd.plotting.lag_plot(ts_data, lag=1)"
   ]
  },
  {
   "cell_type": "markdown",
   "id": "0a306148-419a-4011-92c0-6eeae2387116",
   "metadata": {},
   "source": [
    "## subplot"
   ]
  },
  {
   "cell_type": "code",
   "execution_count": 13,
   "id": "3f91ba42-1796-478f-8ecb-0dba6a7e71ed",
   "metadata": {},
   "outputs": [
    {
     "data": {
      "text/plain": [
       "[<matplotlib.patches.Polygon at 0x7ff617033898>]"
      ]
     },
     "execution_count": 13,
     "metadata": {},
     "output_type": "execute_result"
    },
    {
     "data": {
      "image/png": "[encoded data removed]",
      "text/plain": [
       "<Figure size 432x288 with 1 Axes>"
      ]
     },
     "metadata": {
      "needs_background": "light"
     },
     "output_type": "display_data"
    }
   ],
   "source": [
    "data_dir = {\n",
    "    'A': [8],\n",
    "    'B': [7],\n",
    "    'C': [10],\n",
    "    'D': [6],\n",
    "}\n",
    "\n",
    "data_df = pd.DataFrame(data_dir)\n",
    "\n",
    "\n",
    "values = data_df.iloc[0].tolist()\n",
    "values.append(values[0])\n",
    "angles = [a/4 * 2 * np.pi for a in range(4)]\n",
    "angles.append(angles[0])\n",
    "\n",
    "plt.subplot(111, polar=True)\n",
    "plt.plot(angles, values)\n",
    "plt.fill(angles, values, \"lightblue\", alpha=0.2)"
   ]
  },
  {
   "cell_type": "markdown",
   "id": "7d8d980e-3a1a-40d4-9789-c374b56d1bd7",
   "metadata": {},
   "source": [
    "## Geopandas"
   ]
  }
 ],
 "metadata": {
  "kernelspec": {
   "display_name": "Python 3",
   "language": "python",
   "name": "python3"
  },
  "language_info": {
   "codemirror_mode": {
    "name": "ipython",
    "version": 3
   },
   "file_extension": ".py",
   "mimetype": "text/x-python",
   "name": "python",
   "nbconvert_exporter": "python",
   "pygments_lexer": "ipython3",
   "version": "3.6.9"
  }
 },
 "nbformat": 4,
 "nbformat_minor": 5
}
