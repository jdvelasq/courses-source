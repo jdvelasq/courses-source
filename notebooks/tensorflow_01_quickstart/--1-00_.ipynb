{
 "cells": [
  {
   "cell_type": "markdown",
   "metadata": {},
   "source": [
    "Regresión lineal simple con Keras --- \n",
    "===\n",
    "\n",
    "* Ultima modificación: Mayo 14, 2022 | YouTube"
   ]
  },
  {
   "cell_type": "markdown",
   "metadata": {},
   "source": [
    "Modelo general de regresión lineal\n",
    "---"
   ]
  },
  {
   "cell_type": "markdown",
   "metadata": {},
   "source": [
    "En un modelo de regresión, la variable dependiente $y$ es una función lineal de las variables independientes $x_i$, tal que:\n",
    "\n",
    "\n",
    "$$y = w_0 + \\sum_{i=1}^N w_i * x_i + e$$\n",
    "\n",
    "\n",
    "Donde: \n",
    "\n",
    "\n",
    "* $y$ es la variable explicada.\n",
    "\n",
    "\n",
    "* $x_i$ es la $i$-ésima variable explicativa del comportamiento de $y$.\n",
    "\n",
    "\n",
    "* $w_0$ es el intercepto del modelo.\n",
    "\n",
    "\n",
    "* $w_i$ es el coeficiente de $x_i$.\n",
    "\n",
    "\n",
    "* $e$ es el error del modelo. Se parte del supuesto de que siguiendo una distribución normal con media cero y varianza $\\sigma^2$ constante y desconocida."
   ]
  },
  {
   "cell_type": "markdown",
   "metadata": {},
   "source": [
    "Regresión lineal simple\n",
    "---"
   ]
  },
  {
   "cell_type": "markdown",
   "metadata": {},
   "source": [
    "$$\n",
    "y = w_0 + w1 \\cdot x\n",
    "$$"
   ]
  },
  {
   "cell_type": "markdown",
   "metadata": {},
   "source": [
    "![assets/tensorflow_00002.png](assets/tensorflow_00002.png)"
   ]
  },
  {
   "cell_type": "markdown",
   "metadata": {},
   "source": [
    "## Estimación"
   ]
  },
  {
   "cell_type": "markdown",
   "metadata": {},
   "source": [
    "En la siguiente figura se presenta de forma general la regresión de $y_p = e + w_0 + w_1 * x_p$ para $p$ = 1, ..., 5. Los puntos negros representan los datos (las observaciones), y la línea negra representa la ecuación de regresión. Las líneas rojas representan el error $e$ entre el valor observado de $y_p$ y el pronósticado por el modelo para cada valor  $x_p$. "
   ]
  },
  {
   "cell_type": "markdown",
   "metadata": {},
   "source": [
    "![assets/tensorflow_00001.jpg](assets/tensorflow_00001.jpg) "
   ]
  },
  {
   "cell_type": "markdown",
   "metadata": {},
   "source": [
    "La estimación de los parámetros $w_i$ del modelo se realiza por mínimos cuadrados ordinarios (OLS), o lo que es lo mismo, minimizando el promedio de los errores al cuadrado (MSE)\n",
    "\n",
    "$$\\text{MSE} = \\frac{1}{P} \\sum_{p=1}^P e_p^2$$\n",
    "\n",
    "Esto es, se deben encontrar los valores de $w_i$ que minimicen:\n",
    "\n",
    "$$\\text{MSE} = \\frac{1}{P} \\sum_{p=1}^P \\left( y_p - w_0 - \\sum_i^N w_i x_{p,i} \\right)^2$$\n",
    "\n",
    "para los $P$ patrones de ejemplo."
   ]
  },
  {
   "cell_type": "markdown",
   "metadata": {},
   "source": [
    "La estimación de los parámetros del modelo minimizando el MSE supone que los errores siguen una distribución normal con media cero y varianza finita y constante. "
   ]
  },
  {
   "cell_type": "markdown",
   "metadata": {},
   "source": [
    "Si las características están correlacionadas (dependencia lineal aproximada), los resultados son altamente sensitivos a los errores aleatorios en la variable objetivo."
   ]
  },
  {
   "cell_type": "markdown",
   "metadata": {},
   "source": [
    "## Dataset"
   ]
  },
  {
   "cell_type": "code",
   "execution_count": 1,
   "metadata": {},
   "outputs": [],
   "source": [
    "from operator import itemgetter\n",
    "\n",
    "import matplotlib.pyplot as plt\n",
    "from sklearn.datasets import make_regression\n",
    "\n",
    "\n",
    "def make_data():\n",
    "\n",
    "    X, y_true = make_regression(\n",
    "        n_samples=100,\n",
    "        n_features=1,\n",
    "        n_informative=1,\n",
    "        bias=0.0,\n",
    "        effective_rank=None,\n",
    "        tail_strength=0.9,\n",
    "        noise=12.0,\n",
    "        shuffle=False,\n",
    "        coef=False,\n",
    "        random_state=0,\n",
    "    )\n",
    "\n",
    "    data = [p for p in zip(X.reshape(-1), y_true)]\n",
    "    data = sorted(data, key=itemgetter(0))\n",
    "    X = [p[0] for p in data]\n",
    "    y_true = [p[1] for p in data]\n",
    "\n",
    "    return X, y_true\n",
    "\n",
    "\n",
    "X, y_true = make_data()"
   ]
  },
  {
   "cell_type": "markdown",
   "metadata": {},
   "source": [
    "Gráfica de la muestra de datos\n",
    "---"
   ]
  },
  {
   "cell_type": "code",
   "execution_count": 2,
   "metadata": {},
   "outputs": [
    {
     "data": {
      "image/png": "[encoded data removed]",
      "text/plain": [
       "<Figure size 504x504 with 1 Axes>"
      ]
     },
     "metadata": {
      "needs_background": "light"
     },
     "output_type": "display_data"
    }
   ],
   "source": [
    "def plot_data(X, y_true, y_pred=None):\n",
    "    plt.figure(figsize=(7, 7))\n",
    "    plt.scatter(X, y_true, color=\"tab:blue\", alpha=0.8, s=80, edgecolors=\"white\")\n",
    "    if y_pred is not None:\n",
    "        plt.plot(X, y_pred, color=\"k\", linewidth=2)\n",
    "    plt.gca().spines[\"left\"].set_color(\"gray\")\n",
    "    plt.gca().spines[\"bottom\"].set_color(\"gray\")\n",
    "    plt.gca().spines[\"top\"].set_visible(False)\n",
    "    plt.gca().spines[\"right\"].set_visible(False)\n",
    "\n",
    "\n",
    "plot_data(X, y_true)"
   ]
  },
  {
   "cell_type": "markdown",
   "metadata": {},
   "source": [
    "Importación de TensorFlow\n",
    "--"
   ]
  },
  {
   "cell_type": "code",
   "execution_count": 3,
   "metadata": {},
   "outputs": [],
   "source": [
    "import os\n",
    "\n",
    "os.environ[\"TF_CPP_MIN_LOG_LEVEL\"] = \"2\"\n",
    "\n",
    "import tensorflow as tf"
   ]
  },
  {
   "cell_type": "markdown",
   "metadata": {},
   "source": [
    "Creación del modelo\n",
    "---"
   ]
  },
  {
   "cell_type": "code",
   "execution_count": 4,
   "metadata": {},
   "outputs": [],
   "source": [
    "model = tf.keras.Sequential(\n",
    "    tf.keras.layers.Dense(\n",
    "        input_shape=[\n",
    "            1,\n",
    "        ],\n",
    "        units=1,\n",
    "    )\n",
    ")"
   ]
  },
  {
   "cell_type": "code",
   "execution_count": 5,
   "metadata": {},
   "outputs": [
    {
     "data": {
      "image/png": "[encoded data removed]",
      "text/plain": [
       "<IPython.core.display.Image object>"
      ]
     },
     "execution_count": 5,
     "metadata": {},
     "output_type": "execute_result"
    }
   ],
   "source": [
    "tf.keras.utils.plot_model(\n",
    "    model,\n",
    "    \"/tmp/model.png\",\n",
    "    show_shapes=True,\n",
    ")"
   ]
  },
  {
   "cell_type": "code",
   "execution_count": 6,
   "metadata": {},
   "outputs": [
    {
     "name": "stdout",
     "output_type": "stream",
     "text": [
      "Model: \"sequential\"\n",
      "_________________________________________________________________\n",
      " Layer (type)                Output Shape              Param #   \n",
      "=================================================================\n",
      " dense (Dense)               (None, 1)                 2         \n",
      "                                                                 \n",
      "=================================================================\n",
      "Total params: 2\n",
      "Trainable params: 2\n",
      "Non-trainable params: 0\n",
      "_________________________________________________________________\n"
     ]
    }
   ],
   "source": [
    "model.summary()"
   ]
  },
  {
   "cell_type": "markdown",
   "metadata": {},
   "source": [
    "Pronóstico con el modelo sin entrenar\n",
    "--"
   ]
  },
  {
   "cell_type": "code",
   "execution_count": 7,
   "metadata": {},
   "outputs": [
    {
     "data": {
      "text/plain": [
       "array([-2.186281  , -1.6962769 , -1.4783212 , -1.4611833 , -1.3960383 ,\n",
       "       -1.3820792 , -1.3155792 , -1.2454622 , -1.216048  , -1.0728451 ,\n",
       "       -1.0574567 , -1.0110475 , -0.9977889 , -0.9169508 , -0.8979399 ,\n",
       "       -0.8369027 , -0.776975  , -0.76684266, -0.7602651 , -0.74571675,\n",
       "       -0.7314143 , -0.6963468 , -0.6355612 , -0.5864447 , -0.5758689 ,\n",
       "       -0.5432087 , -0.4957043 , -0.4374336 , -0.43644628, -0.37514976,\n",
       "       -0.345265  , -0.34406954, -0.3316916 , -0.3106374 , -0.3079073 ,\n",
       "       -0.2979384 , -0.26680145, -0.2588803 , -0.18218249, -0.17568955,\n",
       "       -0.16029696, -0.15408061, -0.12961641, -0.0883926 , -0.02413416,\n",
       "        0.00899181,  0.03918581,  0.04448401,  0.04809781,  0.05696275,\n",
       "        0.10419774,  0.10868257,  0.11045595,  0.1233533 ,  0.13269094,\n",
       "        0.13389117,  0.15194084,  0.17835857,  0.25902516,  0.26809898,\n",
       "        0.2857457 ,  0.30517828,  0.32384366,  0.33132824,  0.34267905,\n",
       "        0.34424803,  0.3445497 ,  0.35162055,  0.36680675,  0.3801072 ,\n",
       "        0.3963087 ,  0.3987752 ,  0.55973345,  0.60508174,  0.62436473,\n",
       "        0.651723  ,  0.66581243,  0.7402695 ,  0.7714327 ,  0.8136187 ,\n",
       "        0.8363556 ,  0.83815306,  0.90299135,  0.9757384 ,  1.0094609 ,\n",
       "        1.0296712 ,  1.0468543 ,  1.053573  ,  1.2453831 ,  1.2583016 ,\n",
       "        1.2744812 ,  1.2794712 ,  1.3126124 ,  1.5106658 ,  1.5293499 ,\n",
       "        1.5993038 ,  1.6235656 ,  1.670568  ,  1.9190135 ,  1.9437294 ],\n",
       "      dtype=float32)"
      ]
     },
     "execution_count": 7,
     "metadata": {},
     "output_type": "execute_result"
    }
   ],
   "source": [
    "y_pred = model.predict(X).reshape(-1)\n",
    "y_pred"
   ]
  },
  {
   "cell_type": "code",
   "execution_count": 8,
   "metadata": {},
   "outputs": [
    {
     "data": {
      "image/png": "[encoded data removed]",
      "text/plain": [
       "<Figure size 504x504 with 1 Axes>"
      ]
     },
     "metadata": {
      "needs_background": "light"
     },
     "output_type": "display_data"
    }
   ],
   "source": [
    "plot_data(X, y_true, y_pred)"
   ]
  },
  {
   "cell_type": "markdown",
   "metadata": {},
   "source": [
    "Entrenamiento del modelo\n",
    "---"
   ]
  },
  {
   "cell_type": "code",
   "execution_count": 9,
   "metadata": {},
   "outputs": [],
   "source": [
    "model.compile(\n",
    "    optimizer=tf.optimizers.SGD(\n",
    "        learning_rate=0.01,\n",
    "        momentum=0.0,\n",
    "    ),\n",
    "    loss=\"mean_squared_error\",\n",
    ")"
   ]
  },
  {
   "cell_type": "code",
   "execution_count": 10,
   "metadata": {},
   "outputs": [],
   "source": [
    "history = model.fit(\n",
    "    X,\n",
    "    y_true,\n",
    "    epochs=100,\n",
    "    verbose=0,\n",
    ")"
   ]
  },
  {
   "cell_type": "code",
   "execution_count": 11,
   "metadata": {},
   "outputs": [
    {
     "data": {
      "image/png": "[encoded data removed]",
      "text/plain": [
       "<Figure size 504x360 with 1 Axes>"
      ]
     },
     "metadata": {
      "needs_background": "light"
     },
     "output_type": "display_data"
    }
   ],
   "source": [
    "def plot_history(history):\n",
    "\n",
    "    plt.figure(figsize=(7, 5))\n",
    "    plt.plot(history.history[\"loss\"], \"k-\")\n",
    "    plt.ylabel(\"loss\")\n",
    "\n",
    "    plt.gca().spines[\"left\"].set_color(\"gray\")\n",
    "    plt.gca().spines[\"bottom\"].set_color(\"gray\")\n",
    "    plt.gca().spines[\"top\"].set_visible(False)\n",
    "    plt.gca().spines[\"right\"].set_visible(False)\n",
    "\n",
    "\n",
    "plot_history(history)"
   ]
  },
  {
   "cell_type": "markdown",
   "metadata": {},
   "source": [
    "Evaluación del modelo\n",
    "---"
   ]
  },
  {
   "cell_type": "code",
   "execution_count": 12,
   "metadata": {},
   "outputs": [
    {
     "data": {
      "text/plain": [
       "164.44215393066406"
      ]
     },
     "execution_count": 12,
     "metadata": {},
     "output_type": "execute_result"
    }
   ],
   "source": [
    "model.evaluate(\n",
    "    X,\n",
    "    y_true,\n",
    "    verbose=0,\n",
    ")"
   ]
  },
  {
   "cell_type": "markdown",
   "metadata": {},
   "source": [
    "Pesos del modelo\n",
    "---"
   ]
  },
  {
   "cell_type": "code",
   "execution_count": 13,
   "metadata": {},
   "outputs": [
    {
     "data": {
      "text/plain": [
       "[<tf.Variable 'dense/kernel:0' shape=(1, 1) dtype=float32, numpy=array([[42.573082]], dtype=float32)>,\n",
       " <tf.Variable 'dense/bias:0' shape=(1,) dtype=float32, numpy=array([-1.1339173], dtype=float32)>]"
      ]
     },
     "execution_count": 13,
     "metadata": {},
     "output_type": "execute_result"
    }
   ],
   "source": [
    "model.layers[0].weights"
   ]
  },
  {
   "cell_type": "markdown",
   "metadata": {},
   "source": [
    "Pronóstico\n",
    "--"
   ]
  },
  {
   "cell_type": "code",
   "execution_count": 14,
   "metadata": {},
   "outputs": [
    {
     "data": {
      "text/plain": [
       "array([-109.82256   ,  -85.46253   ,  -74.62709   ,  -73.7751    ,\n",
       "        -70.53648   ,  -69.84252   ,  -66.536545  ,  -63.05075   ,\n",
       "        -61.58846   ,  -54.469276  ,  -53.70426   ,  -51.39707   ,\n",
       "        -50.737938  ,  -46.71916   ,  -45.77405   ,  -42.73965   ,\n",
       "        -39.760406  ,  -39.25669   ,  -38.929695  ,  -38.206436  ,\n",
       "        -37.495407  ,  -35.752064  ,  -32.73017   ,  -30.288393  ,\n",
       "        -29.76263   ,  -28.138964  ,  -25.777332  ,  -22.880466  ,\n",
       "        -22.83138   ,  -19.78409   ,  -18.2984    ,  -18.23897   ,\n",
       "        -17.623613  ,  -16.576927  ,  -16.441204  ,  -15.94561   ,\n",
       "        -14.397669  ,  -14.003878  ,  -10.1909275 ,   -9.868137  ,\n",
       "         -9.102911  ,   -8.793872  ,   -7.57766   ,   -5.528262  ,\n",
       "         -2.3337216 ,   -0.68689907,    0.8141637 ,    1.0775583 ,\n",
       "          1.2572143 ,    1.6979256 ,    4.046163  ,    4.269121  ,\n",
       "          4.357283  ,    4.9984612 ,    5.462672  ,    5.5223403 ,\n",
       "          6.4196606 ,    7.7329907 ,   11.743244  ,   12.19434   ,\n",
       "         13.071629  ,   14.037699  ,   14.965628  ,   15.337715  ,\n",
       "         15.902008  ,   15.980009  ,   15.995007  ,   16.346527  ,\n",
       "         17.101492  ,   17.762709  ,   18.56815   ,   18.69077   ,\n",
       "         26.69264   ,   28.94708   ,   29.905716  ,   31.265802  ,\n",
       "         31.966246  ,   35.667793  ,   37.21704   ,   39.314274  ,\n",
       "         40.444614  ,   40.533974  ,   43.75734   ,   47.373882  ,\n",
       "         49.05036   ,   50.055096  ,   50.909332  ,   51.243347  ,\n",
       "         60.778984  ,   61.421215  ,   62.225563  ,   62.473633  ,\n",
       "         64.121216  ,   73.96723   ,   74.896095  ,   78.37378   ,\n",
       "         79.579926  ,   81.9166    ,   94.26781   ,   95.49653   ],\n",
       "      dtype=float32)"
      ]
     },
     "execution_count": 14,
     "metadata": {},
     "output_type": "execute_result"
    }
   ],
   "source": [
    "y_pred = model.predict(X).reshape(-1)\n",
    "y_pred"
   ]
  },
  {
   "cell_type": "code",
   "execution_count": 15,
   "metadata": {},
   "outputs": [
    {
     "data": {
      "image/png": "[encoded data removed]",
      "text/plain": [
       "<Figure size 504x504 with 1 Axes>"
      ]
     },
     "metadata": {
      "needs_background": "light"
     },
     "output_type": "display_data"
    }
   ],
   "source": [
    "plot_data(X, y_true, y_pred)"
   ]
  }
 ],
 "metadata": {
  "kernel_info": {
   "name": "python3"
  },
  "kernelspec": {
   "display_name": "Python 3 (ipykernel)",
   "language": "python",
   "name": "python3"
  },
  "language_info": {
   "codemirror_mode": {
    "name": "ipython",
    "version": 3
   },
   "file_extension": ".py",
   "mimetype": "text/x-python",
   "name": "python",
   "nbconvert_exporter": "python",
   "pygments_lexer": "ipython3",
   "version": "3.8.10"
  },
  "nteract": {
   "version": "0.7.1"
  },
  "varInspector": {
   "cols": {
    "lenName": 16,
    "lenType": 16,
    "lenVar": 40
   },
   "kernels_config": {
    "python": {
     "delete_cmd_postfix": "",
     "delete_cmd_prefix": "del ",
     "library": "var_list.py",
     "varRefreshCmd": "print(var_dic_list())"
    },
    "r": {
     "delete_cmd_postfix": ") ",
     "delete_cmd_prefix": "rm(",
     "library": "var_list.r",
     "varRefreshCmd": "cat(var_dic_list()) "
    }
   },
   "types_to_exclude": [
    "module",
    "function",
    "builtin_function_or_method",
    "instance",
    "_Feature"
   ],
   "window_display": false
  }
 },
 "nbformat": 4,
 "nbformat_minor": 4
}
