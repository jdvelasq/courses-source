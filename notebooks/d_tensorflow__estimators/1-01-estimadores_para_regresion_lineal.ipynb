{
 "cells": [
  {
   "cell_type": "markdown",
   "metadata": {},
   "source": [
    "Estimadores lineales para regresión en TensorFlow --- 15:12 min\n",
    "==="
   ]
  },
  {
   "cell_type": "markdown",
   "metadata": {},
   "source": [
    "Última modificación: Agosto 6, 2021 | [YouTube](https://youtu.be/wb0fyfjyoM8)"
   ]
  },
  {
   "cell_type": "markdown",
   "metadata": {},
   "source": [
    "TensorFlow no esta limitado a modelos de aprendizaje profundo y también incluye modelos lineales y árboles. Muchos de estos modelos son accesibles usando estimadores, que son modelos con capas ya configuradas para los cuales solo es necesario usar las funciones de entrenamiento y pronostico. En esta lección se presentan los elementos básicos para el uso de estimadores y se ejemplifican con la construcción de un estimador lineal."
   ]
  },
  {
   "cell_type": "markdown",
   "metadata": {},
   "source": [
    "## Importación de librerías"
   ]
  },
  {
   "cell_type": "code",
   "execution_count": 1,
   "metadata": {},
   "outputs": [
    {
     "name": "stdout",
     "output_type": "stream",
     "text": [
      "2.5.0\n"
     ]
    }
   ],
   "source": [
    "import warnings\n",
    "\n",
    "warnings.filterwarnings(\"ignore\")\n",
    "\n",
    "import numpy as np\n",
    "import matplotlib.pyplot as plt\n",
    "\n",
    "%matplotlib inline\n",
    "\n",
    "import tensorflow as tf\n",
    "\n",
    "print(tf.__version__)\n",
    "\n",
    "#\n",
    "# Establece el nivel de reporte en\n",
    "# pantalla de TensorFlow\n",
    "#\n",
    "import logging\n",
    "\n",
    "logger = tf.get_logger().setLevel(logging.ERROR)"
   ]
  },
  {
   "cell_type": "markdown",
   "metadata": {},
   "source": [
    "## Carga y configuración del dataset"
   ]
  },
  {
   "cell_type": "code",
   "execution_count": 2,
   "metadata": {},
   "outputs": [
    {
     "data": {
      "image/png": "[encoded data removed]",
      "text/plain": [
       "<Figure size 432x288 with 1 Axes>"
      ]
     },
     "metadata": {
      "needs_background": "light"
     },
     "output_type": "display_data"
    }
   ],
   "source": [
    "#\n",
    "#  Datos del problema propuesto\n",
    "#\n",
    "from sklearn.datasets import make_regression\n",
    "\n",
    "X, d = make_regression(\n",
    "    n_samples=100,  \n",
    "    n_features=1,  \n",
    "    n_informative=1,  \n",
    "    bias=0.0,             # intercepto\n",
    "    effective_rank=None,  # numero de vectores singulares para explicar los datos\n",
    "    tail_strength=0.9,    # ? importancia relativa de las colas \n",
    "    noise=12.0,  \n",
    "    shuffle=False,  \n",
    "    coef=False,  \n",
    "    random_state=12136,\n",
    ")\n",
    "\n",
    "plt.scatter(X, d);"
   ]
  },
  {
   "cell_type": "markdown",
   "metadata": {},
   "source": [
    "## Columnas de características"
   ]
  },
  {
   "cell_type": "markdown",
   "metadata": {},
   "source": [
    "Para columnas categoricas cuyos valores conocidos:\n",
    "\n",
    "```python\n",
    "eye_color = tf.feature_column.categorical_column_with_vocabulary_list(\n",
    "    \"eye_color\", \n",
    "    vocabulary_list=[\"blue\", \n",
    "                     \"brown\", \n",
    "                     \"green\"])\n",
    "```\n",
    "\n",
    "Para columnas categoricas para las que no se conocen todos los valores posibles:\n",
    "\n",
    "```python\n",
    "education = tf.feature_column.categorical_column_with_hash_bucket(\n",
    "    \"education\", \n",
    "    hash_bucket_size=1000)\n",
    "```\n",
    "\n",
    "Para combinaciones:\n",
    "\n",
    "```python\n",
    "sport_x_city = tf.feature_column.crossed_column(\n",
    "    [\"sport\", \"city\"], \n",
    "    hash_bucket_size=int(1e4))\n",
    "```\n",
    "\n",
    "Bucketization:\n",
    "\n",
    "```python\n",
    "age_buckets = tf.feature_column.bucketized_column(\n",
    "    age, \n",
    "    boundaries=[18, 25, 30, 35, 40, 45, 50, 55, 60, 65])\n",
    "```"
   ]
  },
  {
   "cell_type": "code",
   "execution_count": 3,
   "metadata": {},
   "outputs": [
    {
     "data": {
      "text/plain": [
       "NumericColumn(key='x', shape=(1,), default_value=None, dtype=tf.float32, normalizer_fn=None)"
      ]
     },
     "execution_count": 3,
     "metadata": {},
     "output_type": "execute_result"
    }
   ],
   "source": [
    "#\n",
    "#  Indica que la columna `x` es numérica\n",
    "#\n",
    "column = tf.feature_column.numeric_column(\"x\")\n",
    "column"
   ]
  },
  {
   "cell_type": "markdown",
   "metadata": {},
   "source": [
    "## Funciones de entrada de datos para los estimadores"
   ]
  },
  {
   "cell_type": "code",
   "execution_count": 4,
   "metadata": {},
   "outputs": [],
   "source": [
    "#\n",
    "#  Función de entrada para el estimador.\n",
    "#\n",
    "#    Debe retornar una tupla con (entradas, salida).\n",
    "#    Note que features es un diccionario que contine\n",
    "#    una paraja clave-valor por cada variable\n",
    "#    independiente\n",
    "#\n",
    "def input_fn_train():\n",
    "    features = {\"x\": np.array(X)}\n",
    "    labels = d\n",
    "    return features, labels\n",
    "\n",
    "\n",
    "#\n",
    "#  Esta función es igual que la anterior, pero\n",
    "#  retorna únicamente el data.frame de variables\n",
    "#  independientes\n",
    "#\n",
    "def input_fn_predict():\n",
    "    features = {\"x\": X}\n",
    "    return features"
   ]
  },
  {
   "cell_type": "markdown",
   "metadata": {},
   "source": [
    "## Baseline regressor"
   ]
  },
  {
   "cell_type": "code",
   "execution_count": 5,
   "metadata": {},
   "outputs": [
    {
     "data": {
      "text/plain": [
       "dict_keys(['predictions'])"
      ]
     },
     "execution_count": 5,
     "metadata": {},
     "output_type": "execute_result"
    }
   ],
   "source": [
    "#\n",
    "#  Construye el estimador base, cuya salida es\n",
    "#  una constante.\n",
    "#\n",
    "regressor = tf.estimator.BaselineRegressor()\n",
    "\n",
    "#\n",
    "#  Entrenamiento.\n",
    "#\n",
    "regressor.train(\n",
    "    # función de entrada\n",
    "    input_fn=input_fn_train,\n",
    "    # número de iteraciones (optimización)\n",
    "    steps=100,\n",
    ")\n",
    "\n",
    "#\n",
    "#  Pronostica para nuevos valores. En este\n",
    "#  caso se usa la misma función de entrada que\n",
    "#  para el entrenamiento.\n",
    "#\n",
    "results = regressor.predict(input_fn=input_fn_predict)\n",
    "\n",
    "#\n",
    "# Results es un iterator que retorna un diccionario.\n",
    "#\n",
    "next(results).keys()"
   ]
  },
  {
   "cell_type": "code",
   "execution_count": 6,
   "metadata": {},
   "outputs": [
    {
     "name": "stdout",
     "output_type": "stream",
     "text": [
      "\n",
      "Test set loss: 3448.505\n",
      "\n"
     ]
    },
    {
     "data": {
      "image/png": "[encoded data removed]",
      "text/plain": [
       "<Figure size 432x288 with 1 Axes>"
      ]
     },
     "metadata": {
      "needs_background": "light"
     },
     "output_type": "display_data"
    }
   ],
   "source": [
    "forecasts = []\n",
    "\n",
    "for i, value in zip(X, results):\n",
    "\n",
    "    #\n",
    "    #  Se almacenan los valores pronosticodos en una lista\n",
    "    #  para poder graficarlos\n",
    "    #\n",
    "    forecasts += value[\"predictions\"].tolist()\n",
    "\n",
    "#\n",
    "#  Grafica los puntos de la muestra de datos\n",
    "#\n",
    "plt.plot(X, d, \"o\")\n",
    "\n",
    "#\n",
    "#  Grafica los pronósticos del modelo\n",
    "#\n",
    "plt.plot(X, forecasts, \"-\", color=\"red\")\n",
    "\n",
    "#\n",
    "#  Imprime los estadísticos de error.\n",
    "#\n",
    "result = regressor.evaluate(\n",
    "    input_fn=input_fn_train, \n",
    "    steps=1)\n",
    "\n",
    "print(\"\\nTest set loss: {loss:0.3f}\\n\".format(**result))"
   ]
  },
  {
   "cell_type": "markdown",
   "metadata": {},
   "source": [
    "## Linear Regressor"
   ]
  },
  {
   "cell_type": "code",
   "execution_count": 7,
   "metadata": {},
   "outputs": [
    {
     "name": "stdout",
     "output_type": "stream",
     "text": [
      "\n",
      "Test set loss: 129.973\n",
      "\n"
     ]
    },
    {
     "data": {
      "image/png": "[encoded data removed]",
      "text/plain": [
       "<Figure size 432x288 with 1 Axes>"
      ]
     },
     "metadata": {
      "needs_background": "light"
     },
     "output_type": "display_data"
    }
   ],
   "source": [
    "#\n",
    "#  Construye el estimador lineal, cuya salida es\n",
    "#  el resultado de la regresión lineal entre\n",
    "#  x y y.\n",
    "#\n",
    "regressor = tf.estimator.LinearRegressor(\n",
    "    feature_columns=[column], \n",
    "    optimizer=tf.keras.optimizers.SGD(learning_rate=0.2),\n",
    ")\n",
    "\n",
    "#\n",
    "#  Entrenamiento\n",
    "#\n",
    "regressor.train(\n",
    "    input_fn=input_fn_train, \n",
    "    steps=500,\n",
    ")\n",
    "\n",
    "#\n",
    "#  Pronostica para nuevos valores. En este\n",
    "#  caso se usa la misma función de entrada que\n",
    "#  para el entrenamiento.\n",
    "#\n",
    "results = regressor.predict(\n",
    "    input_fn=input_fn_predict\n",
    ")\n",
    "\n",
    "\n",
    "forecasts = []\n",
    "\n",
    "#\n",
    "# No se puede iterar unicamente sobre results\n",
    "# ya que es un generador y resulta en un \n",
    "# ciclo infinito\n",
    "#\n",
    "for i, value in zip(X, results):\n",
    "    \n",
    "    #\n",
    "    #  Se almacenan los valores pronosticados\n",
    "    #  en una lista para poder graficarlos\n",
    "    #\n",
    "    forecasts += value[\"predictions\"].tolist()\n",
    "\n",
    "\n",
    "#\n",
    "#  Grafica los puntos de la muestra de datos\n",
    "#\n",
    "plt.plot(X, d, \"o\")\n",
    "\n",
    "#\n",
    "#  Grafica los pronósticos del modelo\n",
    "#\n",
    "plt.plot(X, forecasts, \"-\", color=\"red\")\n",
    "\n",
    "#\n",
    "#  Imprime los estadísticos de error.\n",
    "#\n",
    "result = regressor.evaluate(input_fn=input_fn_train, steps=1)\n",
    "print(\"\\nTest set loss: {loss:0.3f}\\n\".format(**result))"
   ]
  }
 ],
 "metadata": {
  "kernelspec": {
   "display_name": "Python 3",
   "language": "python",
   "name": "python3"
  },
  "language_info": {
   "codemirror_mode": {
    "name": "ipython",
    "version": 3
   },
   "file_extension": ".py",
   "mimetype": "text/x-python",
   "name": "python",
   "nbconvert_exporter": "python",
   "pygments_lexer": "ipython3",
   "version": "3.6.9"
  }
 },
 "nbformat": 4,
 "nbformat_minor": 4
}
