{
 "cells": [
  {
   "cell_type": "markdown",
   "metadata": {},
   "source": [
    "Regresión Logística\n",
    "===\n",
    "\n",
    "* 28:09 min | Ultima modificación: Abril 14, 2021 | [YouTube](https://youtu.be/QYqwYt9uYtM)"
   ]
  },
  {
   "cell_type": "markdown",
   "metadata": {},
   "source": [
    "## Descripción del problema"
   ]
  },
  {
   "cell_type": "markdown",
   "metadata": {},
   "source": [
    "Se desea determinar a cuál clase ($A$, $B$ o $C$) pertenece un elemento, a partir de resultados previamente recolectados."
   ]
  },
  {
   "cell_type": "code",
   "execution_count": 1,
   "metadata": {},
   "outputs": [
    {
     "data": {
      "image/png": "[encoded data removed]",
      "text/plain": [
       "<Figure size 432x288 with 1 Axes>"
      ]
     },
     "metadata": {
      "needs_background": "light"
     },
     "output_type": "display_data"
    }
   ],
   "source": [
    "import matplotlib.pyplot as plt\n",
    "from sklearn.datasets import make_blobs\n",
    "\n",
    "NPOINTS = 150\n",
    "\n",
    "X, d = make_blobs(\n",
    "    n_samples=NPOINTS,\n",
    "    n_features=2,\n",
    "    centers=3,\n",
    "    cluster_std=0.8,\n",
    "    shuffle=False,\n",
    "    random_state=12345,\n",
    ")\n",
    "\n",
    "plt.scatter(X[:50, 0], X[:50, 1], color=\"red\")\n",
    "plt.scatter(X[50:100, 0], X[50:100, 1], color=\"blue\")\n",
    "plt.scatter(X[100:, 0], X[100:, 1], color=\"green\")\n",
    "plt.gca().set_aspect(\"equal\", adjustable=\"box\")"
   ]
  },
  {
   "cell_type": "markdown",
   "metadata": {},
   "source": [
    "## Ecuación de la Regresión Logística"
   ]
  },
  {
   "cell_type": "markdown",
   "metadata": {},
   "source": [
    "La ecuación de la regresión logística es:\n",
    "\n",
    "$$y = \\sigma \\left( w_0 + \\sum_{i=i}^n w_i x_{i} \\right)$$\n",
    "\n",
    "puede interpretarse como la probabilidad de que el punto $\\mathbf{x}_i$ pertenezca a la clase de interés."
   ]
  },
  {
   "cell_type": "markdown",
   "metadata": {},
   "source": [
    "La función logística es definida como:\n",
    "\n",
    "$$\\sigma(u) = \\frac{1}{1+\\exp(-u)}$$"
   ]
  },
  {
   "cell_type": "markdown",
   "metadata": {},
   "source": [
    "## Función de costo"
   ]
  },
  {
   "cell_type": "markdown",
   "metadata": {},
   "source": [
    "En la regresión logística, los parámetros del modelo se estiman a través de la minimización de la función de entropía cruzada, definida como:\n",
    "\n",
    "$$ \n",
    "L = - \\sum_i^P d_i \\cdot \\log(y_i) + \n",
    "(1-d_i) \\cdot \\log(1 - y_i)\n",
    "$$ "
   ]
  },
  {
   "cell_type": "markdown",
   "metadata": {},
   "source": [
    "En esta función de error se debe analizar el caso para cada patrón:"
   ]
  },
  {
   "cell_type": "markdown",
   "metadata": {},
   "source": [
    "* Si $d_i = 1$, entonces se desea minimizar $-\\log(y_i)$ por lo que $y_i$ debe ser lo más cercana posible a 1.0 (recuerde que la función logística genera valores entre 0 y 1, y que el término $(1 - d_i) = 0$). "
   ]
  },
  {
   "cell_type": "markdown",
   "metadata": {},
   "source": [
    "* Si $d_i = 0$, entonces se desea minimizar $-\\log(1 - y_i)$ por lo que $y_i$ debe ser lo más cercana posible a 0.0. "
   ]
  },
  {
   "cell_type": "markdown",
   "metadata": {},
   "source": [
    "## Estimación de parámetros del modelo"
   ]
  },
  {
   "cell_type": "markdown",
   "metadata": {},
   "source": [
    "Los parámetros óptimos del modelo se pueden obtener usando el método del gradiente descendente estocástico."
   ]
  },
  {
   "cell_type": "markdown",
   "metadata": {},
   "source": [
    "## Derivada de la función sigmoidea"
   ]
  },
  {
   "cell_type": "markdown",
   "metadata": {},
   "source": [
    "Para el cómputo de la función de costo (función de entropía cruzada) se requeiere, primero, computar la derivada de la función sigmoidea definida como:"
   ]
  },
  {
   "cell_type": "markdown",
   "metadata": {},
   "source": [
    "$$\n",
    "\\sigma (u) = \\frac{1}{1+\\exp(-u)}\n",
    "$$"
   ]
  },
  {
   "cell_type": "markdown",
   "metadata": {},
   "source": [
    "La derivada se computa como:"
   ]
  },
  {
   "cell_type": "markdown",
   "metadata": {},
   "source": [
    "$$\n",
    "\\begin{split}\n",
    "    \\frac{d}{du} \\sigma(u) \n",
    "    & = \\frac{d}{du} [1 + \\exp(-u)] ^ {-1}\n",
    "    \\\\ \\\\\n",
    "    & = - [1 + \\exp(-u)]^{-2} \\cdot \\frac{d}{du} [1 + \\exp(-u)] \n",
    "    \\\\ \\\\\n",
    "    & = - [1 + \\exp(-u)]^{-2} \\cdot \\frac{d}{du} [\\exp(-u)] \n",
    "    \\\\ \\\\\n",
    "    & = - [1 + \\exp(-u)]^{-2} \\cdot \\exp(-u) \\cdot \\frac{d}{du} (-u)\n",
    "    \\\\ \\\\ \n",
    "    & = - [1 + \\exp(-u)]^{-2} \\cdot \\exp(-u) \\cdot -1 \n",
    "    \\\\ \\\\\n",
    "    & = [1 + \\exp(-u)]^{-2} \\cdot \\exp(-u) \n",
    "    \\\\ \\\\\n",
    "    & = \\frac{\\exp(-u) }{[1 + \\exp(-u)]^2}\n",
    "    \\\\ \\\\\n",
    "    & = \\frac{[1 + \\exp(-u)] - 1}{[1 + \\exp(-u)]^2}\n",
    "    \\\\ \\\\\n",
    "    & = \\frac{1}{1 + \\exp(-u)}\n",
    "        \\left[\n",
    "            \\frac{[1 + \\exp(-u)] - 1}{1 + \\exp(-u)}\n",
    "        \\right]\n",
    "    \\\\ \\\\\n",
    "    & = \\sigma(u) \\cdot \n",
    "        \\left[\n",
    "            \\frac{1 + \\exp(-u)}{1 + \\exp(-u)} \n",
    "            - \\frac{1}{1 + \\exp(-u)} \n",
    "        \\right]\n",
    "    \\\\ \\\\\n",
    "    & = \\sigma(u) \\cdot [1 - \\sigma(u)]\n",
    "\\end{split}\n",
    "$$"
   ]
  },
  {
   "cell_type": "markdown",
   "metadata": {},
   "source": [
    "## Derivada de la función de costo"
   ]
  },
  {
   "cell_type": "markdown",
   "metadata": {},
   "source": [
    "Se computa como:"
   ]
  },
  {
   "cell_type": "markdown",
   "metadata": {},
   "source": [
    "$$\n",
    "\\begin{split}\n",
    "\\frac{\\partial }{\\partial w_j} L \n",
    "    & = \\frac{\\partial }{\\partial w_j} \n",
    "    \\left[ \n",
    "        - \\sum_i^P d_i \\cdot \\log(y_i) + (1-d_i) \\cdot \\log(1 - y_i) \n",
    "    \\right] \n",
    "    \\\\ \\\\\n",
    "    & = - \\sum_i^P \\frac{\\partial }{\\partial w_j} \n",
    "    \\left[     \n",
    "        d_i \\cdot \\log(y_i) + (1-d_i) \\cdot \\log(1 - y_i) \n",
    "    \\right] \n",
    "    \\\\ \\\\\n",
    "    & = - \\sum_i^P d_i \\cdot \\frac{\\partial }{\\partial w_j} \\log(y_i)\n",
    "       + (1-d_i) \\cdot \\frac{\\partial }{\\partial w_j} \\log(1 - y_i)\n",
    "    \\\\ \\\\\n",
    "    & = - \\sum_i^P d_i \\cdot \\frac{1}{y_i}   \\frac{\\partial }{\\partial w_j} y_i\n",
    "       + (1-d_i) \\cdot \\frac{1}{1-y_i} \\frac{\\partial }{\\partial w_j} (1 - y_i)\n",
    "    \\\\ \\\\\n",
    "    & = - \\sum_i^P d_i \\cdot \\frac{1}{y_i} \\cdot \\left[ y_i \\cdot (1 - y_i) \\right] \n",
    "       \\frac{\\partial }{\\partial w_j} u\n",
    "       - (1-d_i) \\cdot \\frac{1}{1-y_i} \\cdot \\left[ y_i \\cdot (1 - y_i) \\right]\n",
    "       \\cdot \\frac{\\partial }{\\partial w_j} u\n",
    "    \\\\ \\\\\n",
    "    & = - \\sum_i^P d_i \\cdot  (1 - y_i)\n",
    "       \\frac{\\partial }{\\partial w_j} u\n",
    "       - (1-d_i) \\cdot y_i \n",
    "       \\cdot \\frac{\\partial }{\\partial w_j} u\n",
    "\\end{split}\n",
    "$$"
   ]
  },
  {
   "cell_type": "markdown",
   "metadata": {},
   "source": [
    "A partir de la ecuación anterior es posible computar el gradiente para los parámetros del modelo"
   ]
  },
  {
   "cell_type": "markdown",
   "metadata": {},
   "source": [
    "$$\n",
    "\\frac{\\partial}{\\partial w_0} L = - \\sum_i^P d_i \\cdot  (1 - y_i)\n",
    "       - (1-d_i) \\cdot y_i \n",
    "$$"
   ]
  },
  {
   "cell_type": "markdown",
   "metadata": {},
   "source": [
    "$$\n",
    "\\frac{\\partial}{\\partial w_j} L = - \\sum_i^P x_j \\cdot [d_i \\cdot  (1 - y_i)\n",
    "       - (1-d_i) \\cdot y_i] \n",
    "$$"
   ]
  },
  {
   "cell_type": "markdown",
   "metadata": {},
   "source": [
    "**Ejercicio.---** Programe el método del gradiente descendente estocástico para minimizar la función de entropía cruzada y apliquelo al problema propuesto."
   ]
  },
  {
   "cell_type": "markdown",
   "metadata": {},
   "source": [
    "## Códificación de problemas con más de dos clases"
   ]
  },
  {
   "cell_type": "markdown",
   "metadata": {},
   "source": [
    "En la regresión logística se desea construir un modelo que permite determinar si un patrón ($x_1$, $x_2$) pertenece a una clase determinada o no. Ya que el ejemplo presentado contiene más de dos clases debe ser recodificado; una forma es especificar un modelo que indique si ($x_1$, $x_2$) pertenece a la clase $A$ o al resto (las clases {$A$, $B$}); y otro modelo que indique si pertenece a la clase $B$ o no. Si el patrón no pertenece ni a $A$ ni a $B$, entonces pertenece a $C$. La secuencia de decisiones descrita puede ser representada por un árbol de decisiones."
   ]
  },
  {
   "cell_type": "markdown",
   "metadata": {},
   "source": [
    "## Comparación con el modelo de regresión"
   ]
  },
  {
   "cell_type": "markdown",
   "metadata": {},
   "source": [
    "A partir de este punto, el problema consiste en determinar si un patrón pertenece a una de dos clases mutuamente exclusivas y colectivamente exhaustivas (un patrón no puede pertenecer a las dos clases simultáneamente y cada patrón debe pertenecer a una clase de las dos clases posibles). Si se usa una variable indicadora $y$ que vale $1$ cuando el patrón pertenece a la clase $A$ y cero cuando no pertenece, entonces se podría plantear un modelo lineal de la forma:\n",
    "\n",
    "$$ y =\n",
    "   \\begin{cases}\n",
    "      1, & \\text{if $\\theta_0 + \\theta_1 x_1 + \\theta_2 x_2 > 0$} \\\\\n",
    "      \\\\\n",
    "      0, &\\text{en caso contrario.}\n",
    "   \\end{cases}\n",
    "$$\n",
    "\n",
    "La estimación de los parámetros del modelo de regresión en la ecuación anterior no puede realizarse usando regresión lineal.\n",
    "\n",
    "En la siguiente figura, se presenta un ejemplo con un grupo de puntos en el eje $X$ que pertenecen a una de dos clases; si $y=1$ el punto pertenece a la clase $A$ y en caso contrario a la clase $B$. Si se ajusta un modelo de regresión lineal de la forma:\n",
    "\n",
    "$$y = \\theta_0 + \\theta_1 x$$\n",
    "\n",
    "se obtiene la línea recta que aparece en dicha figura."
   ]
  },
  {
   "cell_type": "markdown",
   "metadata": {},
   "source": [
    "![assets/logreg-1.jpg](assets/logreg-1.jpg)"
   ]
  },
  {
   "cell_type": "markdown",
   "metadata": {},
   "source": [
    "Como puede observarse, el modelo no permite realizar la discriminación entre las clases de cada punto. Para ello, los valores de $y$ deben limitarse al intervalo $[0, 1]$.  "
   ]
  },
  {
   "cell_type": "markdown",
   "metadata": {},
   "source": [
    "La función logística es definida como:\n",
    "\n",
    "$$\\sigma(u) = \\frac{1}{1+\\exp(-u)}$$"
   ]
  },
  {
   "cell_type": "markdown",
   "metadata": {},
   "source": [
    "![assets/logreg-2.jpg](assets/logreg-2.jpg)"
   ]
  },
  {
   "cell_type": "markdown",
   "metadata": {},
   "source": [
    "La regresión logística se define como:\n",
    "\n",
    "$$y = \\sigma(\\theta_0 + \\theta_1 x_1 + \\theta_2 x_2)$$\n",
    "\n",
    "La cual puede interpretarse como la probabilidad de que el punto ($x_1$, $x_2$) pertenezca a la clase $A$."
   ]
  },
  {
   "cell_type": "markdown",
   "metadata": {},
   "source": [
    "Al aplicar la regresión logística al segundo ejemplo planteado se obtiene la línea roja de la figura de abajo, la cual representa la probabilidad de pertenencia de un punto a la clase $A$. Para $y$ = 0.5, hay una probabilidad del 50% de que el patrón pertenezca a la clase $A$ y 50% de que no pertenezca; este es un punto de indeterminación, de tal forma que el punto $x$ en que se da esta valor se conoce como frontera de decisión.  "
   ]
  },
  {
   "cell_type": "markdown",
   "metadata": {},
   "source": [
    "![assets/logreg-3.jpg](assets/logreg-3.jpg)"
   ]
  },
  {
   "cell_type": "markdown",
   "metadata": {},
   "source": [
    "## Fronteras de decisión"
   ]
  },
  {
   "cell_type": "markdown",
   "metadata": {},
   "source": [
    "En la siguiente figura se presenta un problema de clasificación para tres clases diferentes. Cada línea representa la frontera de decisión entre un grupo y los demás. Si las flechas indican la probabilidad de pertenencia a un grupo, noté que hay una región de indeterminación en el centro."
   ]
  },
  {
   "cell_type": "markdown",
   "metadata": {},
   "source": [
    "![assets/logreg-4.jpg](assets/logreg-4.jpg)"
   ]
  },
  {
   "cell_type": "markdown",
   "metadata": {},
   "source": [
    "## Solución usando Python"
   ]
  },
  {
   "cell_type": "code",
   "execution_count": 2,
   "metadata": {},
   "outputs": [
    {
     "data": {
      "text/plain": [
       "array([0, 0, 0, 0, 0, 0, 0, 0, 0, 0, 0, 0, 0, 0, 0, 0, 0, 0, 0, 0, 0, 0,\n",
       "       0, 0, 0, 0, 0, 0, 0, 0, 0, 0, 0, 0, 0, 0, 0, 0, 0, 0, 0, 0, 0, 0,\n",
       "       0, 0, 0, 0, 0, 0, 1, 1, 1, 1, 1, 1, 1, 1, 1, 1, 1, 1, 1, 1, 1, 1,\n",
       "       1, 1, 1, 1, 1, 1, 1, 1, 1, 1, 1, 1, 1, 1, 1, 1, 1, 1, 1, 1, 1, 1,\n",
       "       1, 1, 1, 1, 1, 1, 1, 1, 1, 1, 1, 1, 2, 2, 2, 2, 2, 2, 2, 2, 2, 2,\n",
       "       2, 2, 2, 2, 2, 2, 2, 2, 2, 2, 2, 2, 2, 2, 2, 2, 2, 2, 2, 2, 2, 2,\n",
       "       2, 2, 2, 2, 2, 2, 2, 2, 2, 2, 2, 2, 2, 2, 2, 2, 2, 2])"
      ]
     },
     "execution_count": 2,
     "metadata": {},
     "output_type": "execute_result"
    }
   ],
   "source": [
    "from sklearn.linear_model import LogisticRegression\n",
    "from sklearn.metrics import log_loss\n",
    "\n",
    "logisticRegression = LogisticRegression(\n",
    "    penalty=\"none\",      # ‘l1’, ‘l2’, ‘elasticnet’, ‘none’\n",
    "    tol=0.0001,          # stop criteria\n",
    "    C=1.0,               # factor inverso para regularizacion (SVM)\n",
    "    fit_intercept=True,  #\n",
    "    class_weight=None,   # None, dict or ‘balanced’\n",
    "    random_state=None,   #\n",
    "    solver=\"lbfgs\",      # 'newton-cg’, ‘lbfgs’, ‘liblinear’, ‘sag’, ‘saga’\n",
    "    max_iter=100,        #\n",
    "    multi_class=\"auto\",  # ‘ovr’, ‘multinomial’, ‘auto’\n",
    "    verbose=0,           #\n",
    "    warm_start=False,    # ?re-usa la solución previa\n",
    "    l1_ratio=None,       # Elastic-Net mixing parameter, with 0 <= l1_ratio <= 1\n",
    ")\n",
    "\n",
    "logisticRegression.fit(X, d)\n",
    "\n",
    "logisticRegression.predict(X)"
   ]
  },
  {
   "cell_type": "code",
   "execution_count": 3,
   "metadata": {},
   "outputs": [
    {
     "data": {
      "text/plain": [
       "array([0])"
      ]
     },
     "execution_count": 3,
     "metadata": {},
     "output_type": "execute_result"
    }
   ],
   "source": [
    "logisticRegression.predict([[2.5, -4.0]])"
   ]
  },
  {
   "cell_type": "code",
   "execution_count": 4,
   "metadata": {},
   "outputs": [
    {
     "data": {
      "text/plain": [
       "array([-5.32731038, -2.58361454,  7.91092493])"
      ]
     },
     "execution_count": 4,
     "metadata": {},
     "output_type": "execute_result"
    }
   ],
   "source": [
    "logisticRegression.intercept_"
   ]
  },
  {
   "cell_type": "code",
   "execution_count": 5,
   "metadata": {},
   "outputs": [
    {
     "data": {
      "text/plain": [
       "array([[ 1.47085335, -1.78916427],\n",
       "       [-1.03371155, -1.63099238],\n",
       "       [-0.4371418 ,  3.42015665]])"
      ]
     },
     "execution_count": 5,
     "metadata": {},
     "output_type": "execute_result"
    }
   ],
   "source": [
    "logisticRegression.coef_"
   ]
  },
  {
   "cell_type": "code",
   "execution_count": 6,
   "metadata": {},
   "outputs": [
    {
     "data": {
      "image/png": "[encoded data removed]",
      "text/plain": [
       "<Figure size 432x288 with 1 Axes>"
      ]
     },
     "metadata": {
      "needs_background": "light"
     },
     "output_type": "display_data"
    }
   ],
   "source": [
    "import numpy as np\n",
    "\n",
    "plt.scatter(X[:50,0], X[:50,1], color='red')\n",
    "plt.scatter(X[50:100,0], X[50:100,1], color='blue')\n",
    "plt.scatter(X[100:,0], X[100:,1], color='green')\n",
    "plt.gca().set_aspect('equal', adjustable='box')\n",
    "\n",
    "xlim = plt.gca().get_xlim()\n",
    "ylim = plt.gca().get_ylim()\n",
    "\n",
    "xplot = np.linspace(start=xlim[0], stop=xlim[1], num=20)\n",
    "\n",
    "fronteraA = (- logisticRegression.intercept_[0] / logisticRegression.coef_[0][1] \n",
    "             - logisticRegression.coef_[0][0] / logisticRegression.coef_[0][1] * xplot)\n",
    "\n",
    "fronteraB = (- logisticRegression.intercept_[1] / logisticRegression.coef_[1][1] \n",
    "             - logisticRegression.coef_[1][0] / logisticRegression.coef_[1][1] * xplot)\n",
    "\n",
    "fronteraC = (- logisticRegression.intercept_[2] / logisticRegression.coef_[2][1] \n",
    "             - logisticRegression.coef_[2][0] / logisticRegression.coef_[2][1] * xplot)\n",
    "\n",
    "plt.plot(xplot, fronteraA, color='red', linewidth=3)\n",
    "plt.plot(xplot, fronteraB, color='blue', linewidth=3)\n",
    "plt.plot(xplot, fronteraC, color='green', linewidth=3);\n",
    "\n",
    "plt.xlim(xlim)\n",
    "plt.ylim(ylim);"
   ]
  },
  {
   "cell_type": "code",
   "execution_count": 7,
   "metadata": {},
   "outputs": [
    {
     "data": {
      "text/plain": [
       "array([[9.99999996e-01, 3.37213413e-09, 5.87763928e-10],\n",
       "       [9.99999987e-01, 9.83061700e-10, 1.16679900e-08],\n",
       "       [1.00000000e+00, 4.42184492e-10, 2.02839427e-13],\n",
       "       [9.99999997e-01, 2.32571602e-09, 3.57170430e-10],\n",
       "       [9.99999999e-01, 2.91545720e-10, 1.06746679e-09],\n",
       "       [9.99999793e-01, 2.06351621e-07, 9.43530066e-10],\n",
       "       [1.00000000e+00, 1.30864625e-10, 2.63441344e-12],\n",
       "       [9.99999984e-01, 1.22786241e-08, 3.48299674e-09],\n",
       "       [1.00000000e+00, 5.12857770e-12, 2.08349752e-14],\n",
       "       [9.99999986e-01, 1.26548112e-08, 8.47345532e-10]])"
      ]
     },
     "execution_count": 7,
     "metadata": {},
     "output_type": "execute_result"
    }
   ],
   "source": [
    "logisticRegression.predict_proba(X)[0:10]"
   ]
  }
 ],
 "metadata": {
  "kernel_info": {
   "name": "python3"
  },
  "kernelspec": {
   "display_name": "Python 3",
   "language": "python",
   "name": "python3"
  },
  "language_info": {
   "codemirror_mode": {
    "name": "ipython",
    "version": 3
   },
   "file_extension": ".py",
   "mimetype": "text/x-python",
   "name": "python",
   "nbconvert_exporter": "python",
   "pygments_lexer": "ipython3",
   "version": "3.6.9"
  },
  "nteract": {
   "version": "0.7.1"
  },
  "varInspector": {
   "cols": {
    "lenName": 16,
    "lenType": 16,
    "lenVar": 40
   },
   "kernels_config": {
    "python": {
     "delete_cmd_postfix": "",
     "delete_cmd_prefix": "del ",
     "library": "var_list.py",
     "varRefreshCmd": "print(var_dic_list())"
    },
    "r": {
     "delete_cmd_postfix": ") ",
     "delete_cmd_prefix": "rm(",
     "library": "var_list.r",
     "varRefreshCmd": "cat(var_dic_list()) "
    }
   },
   "types_to_exclude": [
    "module",
    "function",
    "builtin_function_or_method",
    "instance",
    "_Feature"
   ],
   "window_display": false
  }
 },
 "nbformat": 4,
 "nbformat_minor": 4
}
