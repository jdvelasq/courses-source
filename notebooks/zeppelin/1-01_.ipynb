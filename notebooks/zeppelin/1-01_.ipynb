{
 "cells": [
  {
   "cell_type": "markdown",
   "id": "af3eda75-7525-4491-97bf-66dcad0f3284",
   "metadata": {},
   "source": [
    "Procesamiento de datos en Pythno y Bash con Apache Zeppelin\n",
    "===\n",
    "\n",
    "* Última modificación: Mayo  18, 2022"
   ]
  },
  {
   "cell_type": "markdown",
   "id": "a5a05de9-f805-4138-bca6-234d15118104",
   "metadata": {},
   "source": [
    "Acceso a la interfaz\n",
    "--"
   ]
  },
  {
   "cell_type": "markdown",
   "id": "35190177-b2b7-40d7-92bf-36f21d3849d2",
   "metadata": {},
   "source": [
    "Vaya a:\n",
    "\n",
    "localhost:8080"
   ]
  },
  {
   "cell_type": "markdown",
   "id": "229da81e-ff06-498e-82db-1016cf1872c0",
   "metadata": {},
   "source": [
    "Acceso a la nueva interfaz\n",
    "--"
   ]
  },
  {
   "cell_type": "markdown",
   "id": "ddf9d5e0-4105-44fa-b590-dcb8dfaa0f90",
   "metadata": {},
   "source": [
    "![assets/fig-00001.png](assets/fig-00001.png)"
   ]
  },
  {
   "cell_type": "markdown",
   "id": "f20f49c3-13aa-4466-9031-4893a41e7e9a",
   "metadata": {},
   "source": [
    "Creación de un notebook\n",
    "---"
   ]
  },
  {
   "cell_type": "markdown",
   "id": "2669c3b2-fafa-4ca4-8ebc-f57129c270a9",
   "metadata": {},
   "source": [
    "![assets/fig-00002.png](assets/fig-00002.png)"
   ]
  },
  {
   "cell_type": "markdown",
   "id": "18da4bdd-bec6-4585-9a95-86810a974ed4",
   "metadata": {},
   "source": [
    "![assets/fig-00003.png](assets/fig-00003.png)"
   ]
  },
  {
   "cell_type": "markdown",
   "id": "f6224736-4c43-470d-91e8-78bc2b876d16",
   "metadata": {},
   "source": [
    "Configuración del interprete de Python 3\n",
    "---"
   ]
  },
  {
   "cell_type": "markdown",
   "id": "ab1c4509-c54a-4ff3-95b9-33c114f236da",
   "metadata": {},
   "source": [
    "![assets/fig-00004.png](assets/fig-00004.png)"
   ]
  },
  {
   "cell_type": "markdown",
   "id": "a85f6e40-061e-454c-ac32-f58ff96901bd",
   "metadata": {},
   "source": [
    "![assets/fig-00005.png](assets/fig-00005.png)"
   ]
  },
  {
   "cell_type": "markdown",
   "id": "b76bc39f-e6f9-4081-8240-5ff7ba853fba",
   "metadata": {},
   "source": [
    "![assets/fig-00006.png](assets/fig-00006.png)"
   ]
  },
  {
   "cell_type": "markdown",
   "id": "7e485334-ebe6-44e6-991c-283326e0d733",
   "metadata": {},
   "source": [
    "![assets/fig-00007.png](assets/fig-00007.png)"
   ]
  },
  {
   "cell_type": "markdown",
   "id": "4398bc72-a65a-446f-9a90-784b1cf7ddf7",
   "metadata": {},
   "source": [
    "Comandos en el Shell\n",
    "---"
   ]
  },
  {
   "cell_type": "markdown",
   "id": "45513f03-0e4e-4a2a-8c4d-3d1653dfe21a",
   "metadata": {},
   "source": [
    "```\n",
    "%sh\n",
    "mkdir -p /tmp/csvkit_tutorial\n",
    "curl -L -O https://raw.githubusercontent.com/wireservice/csvkit/master/examples/realdata/ne_1033_data.xlsx\n",
    "mv ne_1033_data.xlsx /tmp/csvkit_tutorial/ne_1033_data.xlsx\n",
    "```"
   ]
  },
  {
   "cell_type": "markdown",
   "id": "2433b361-2ab7-4e53-98a7-20cb833a7134",
   "metadata": {},
   "source": [
    "```\n",
    "%sh\n",
    "in2csv /tmp/csvkit_tutorial/ne_1033_data.xlsx > /tmp/data.csv\n",
    "head /tmp/data.csv\n",
    "\n",
    "``` "
   ]
  },
  {
   "cell_type": "markdown",
   "id": "00c0eb00-abe8-49ac-ab9d-639ed39fbd26",
   "metadata": {},
   "source": [
    "![assets/fig-00008.png](assets/fig-00008.png)"
   ]
  },
  {
   "cell_type": "markdown",
   "id": "e25ebf79-9a19-447a-8a98-688eb14207c2",
   "metadata": {},
   "source": [
    "```\n",
    "%sh\n",
    "pip install pandas\n",
    "```"
   ]
  },
  {
   "cell_type": "markdown",
   "id": "9ba9195e-4d67-427e-8c69-01b2438ef20b",
   "metadata": {},
   "source": [
    "```\n",
    "%python\n",
    "import pandas as pd\n",
    "\n",
    "pd.read_csv('/tmp/data.csv').head()\n",
    "```"
   ]
  },
  {
   "cell_type": "markdown",
   "id": "e0d01974-2e6c-430c-99ed-3b8ebe1313e1",
   "metadata": {},
   "source": [
    "![assets/fig-00009.png](assets/fig-00009.png)"
   ]
  }
 ],
 "metadata": {
  "kernelspec": {
   "display_name": "Python 3 (ipykernel)",
   "language": "python",
   "name": "python3"
  },
  "language_info": {
   "codemirror_mode": {
    "name": "ipython",
    "version": 3
   },
   "file_extension": ".py",
   "mimetype": "text/x-python",
   "name": "python",
   "nbconvert_exporter": "python",
   "pygments_lexer": "ipython3",
   "version": "3.8.10"
  }
 },
 "nbformat": 4,
 "nbformat_minor": 5
}
