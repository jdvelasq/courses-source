{
 "cells": [
  {
   "cell_type": "markdown",
   "metadata": {
    "toc-hr-collapsed": false
   },
   "source": [
    "Introducción a TensorBoard\n",
    "==="
   ]
  },
  {
   "cell_type": "markdown",
   "metadata": {},
   "source": [
    "* *30 min* | Última modificación: Abril 3, 2020."
   ]
  },
  {
   "cell_type": "markdown",
   "metadata": {},
   "source": [
    "Esta lección presenta una introducción al uso de TensorBoard para visualizar las gráficas de flujos de datos, la construcción de ámbitos y el uso de resumenes de cómputos. El lector puede referirse al sitio de oficial de TensorFlow (https://www.tensorflow.org) para mayor información y para obtener una visión más profunda de las herramientas y metodologías disponibles."
   ]
  },
  {
   "cell_type": "code",
   "execution_count": 6,
   "metadata": {},
   "outputs": [
    {
     "name": "stdout",
     "output_type": "stream",
     "text": [
      "2.1.0\n"
     ]
    }
   ],
   "source": [
    "#\n",
    "#  Preparación\n",
    "#\n",
    "import warnings\n",
    "warnings.filterwarnings(\"ignore\")\n",
    "\n",
    "import tensorflow as tf\n",
    "import numpy as np\n",
    "\n",
    "print(tf.__version__)"
   ]
  },
  {
   "cell_type": "markdown",
   "metadata": {},
   "source": [
    "## (corregir) Visualización de flujos de datos en TensorBoard"
   ]
  },
  {
   "cell_type": "markdown",
   "metadata": {},
   "source": [
    "`TensorBoard` es una herramienta que permite visualizar las gráficas de flujo de datos generadas por TensorFlow. A continuación se construye la gráfica para la expresión `5 * 2 - (2 + 3)`."
   ]
  },
  {
   "cell_type": "code",
   "execution_count": 10,
   "metadata": {},
   "outputs": [
    {
     "ename": "AttributeError",
     "evalue": "module 'tensorflow' has no attribute 'contrib'",
     "output_type": "error",
     "traceback": [
      "\u001b[0;31m---------------------------------------------------------------------------\u001b[0m",
      "\u001b[0;31mAttributeError\u001b[0m                            Traceback (most recent call last)",
      "\u001b[0;32m<ipython-input-10-7c464658b3f9>\u001b[0m in \u001b[0;36m<module>\u001b[0;34m\u001b[0m\n\u001b[1;32m     15\u001b[0m \u001b[0;31m#  Se usa FileWriter para genera la información del grafo.\u001b[0m\u001b[0;34m\u001b[0m\u001b[0;34m\u001b[0m\u001b[0;34m\u001b[0m\u001b[0m\n\u001b[1;32m     16\u001b[0m \u001b[0;31m#\u001b[0m\u001b[0;34m\u001b[0m\u001b[0;34m\u001b[0m\u001b[0;34m\u001b[0m\u001b[0m\n\u001b[0;32m---> 17\u001b[0;31m \u001b[0mtf\u001b[0m\u001b[0;34m.\u001b[0m\u001b[0mcontrib\u001b[0m\u001b[0;34m.\u001b[0m\u001b[0msummary\u001b[0m\u001b[0;34m(\u001b[0m\u001b[0;34m'/tmp/my_graph'\u001b[0m\u001b[0;34m,\u001b[0m \u001b[0mg\u001b[0m\u001b[0;34m)\u001b[0m\u001b[0;34m\u001b[0m\u001b[0;34m\u001b[0m\u001b[0m\n\u001b[0m",
      "\u001b[0;31mAttributeError\u001b[0m: module 'tensorflow' has no attribute 'contrib'"
     ]
    }
   ],
   "source": [
    "g = tf.Graph()\n",
    "\n",
    "with g.as_default():\n",
    "    #\n",
    "    #  Se construyen los nodos\n",
    "    #\n",
    "    node1 = tf.constant(5.0, name='const_5')  \n",
    "    node2 = tf.constant(2.0, name='const_2')  \n",
    "    node3 = tf.constant(3.0, name='const_3')  \n",
    "    node4 = tf.multiply(node1, node2, name='node_4')\n",
    "    node5 = tf.add(node3, node2, name='node_5')\n",
    "    node6 = tf.subtract(node4, node5, name='node_6')\n",
    "\n",
    "#\n",
    "#  Se usa FileWriter para genera la información del grafo.\n",
    "#\n",
    "tf.contrib.summary('/tmp/my_graph', g)"
   ]
  },
  {
   "cell_type": "markdown",
   "metadata": {},
   "source": [
    "Para visualizar el grafo, puede usar una de las siguientes alternativas:\n",
    "\n",
    "* Lanzar `TensorBoard` desde el Terminal usando:\n",
    "\n",
    "```\n",
    "       tensorboard --logdir=\"/tmp/my_graph\"\n",
    "```     \n",
    "     \n",
    "  Abra el explorador de internet en la dirección http://localhost:6006\n",
    "    \n",
    "* Abrir la extensión TensorBoards en la pestaña lateral de Jupyter Lab.\n",
    "\n",
    "**Nota:** Si desea escribir la gráfica al directorio actual puede usar\n",
    "\n",
    "```\n",
    "    tf.summary.FileWriter('.', g)\n",
    "```\n",
    "    \n",
    "y para abrirla en TensorBoard\n",
    "\n",
    "```\n",
    "    tensorboard --logdir .\n",
    "```"
   ]
  },
  {
   "cell_type": "markdown",
   "metadata": {},
   "source": [
    "El gráfico generado es el siguiente:\n",
    "\n",
    "![TensorBoardIntro-01.png](assets/TensorBoardIntro-01.png)"
   ]
  },
  {
   "cell_type": "markdown",
   "metadata": {},
   "source": [
    "**Actividad.--** Visualice el flujo de datos de la expresión\n",
    "\n",
    "$$-0.9 * 2^3 + 2.5 * 2^2 - 3.8 * 2 -4.3$$\n",
    "\n",
    "usando `TensorBoard`."
   ]
  },
  {
   "cell_type": "markdown",
   "metadata": {},
   "source": [
    "## División de una gráfica de flujo de datos en ámbitos"
   ]
  },
  {
   "cell_type": "markdown",
   "metadata": {},
   "source": [
    "Es posible crear subgráficas dentro de una gráfica principal usando ámbitos. En este caso, se crea el ámbito y se crean los nodos dentro de él. Por ejemplo:"
   ]
  },
  {
   "cell_type": "code",
   "execution_count": 3,
   "metadata": {},
   "outputs": [
    {
     "ename": "AttributeError",
     "evalue": "module 'tensorflow_core.summary' has no attribute 'FileWriter'",
     "output_type": "error",
     "traceback": [
      "\u001b[0;31m---------------------------------------------------------------------------\u001b[0m",
      "\u001b[0;31mAttributeError\u001b[0m                            Traceback (most recent call last)",
      "\u001b[0;32m<ipython-input-3-237a5a91a3e1>\u001b[0m in \u001b[0;36m<module>\u001b[0;34m\u001b[0m\n\u001b[1;32m     21\u001b[0m \u001b[0;34m\u001b[0m\u001b[0m\n\u001b[1;32m     22\u001b[0m     \u001b[0;31m## Escribe la gráfica de flujo de datos al disco\u001b[0m\u001b[0;34m\u001b[0m\u001b[0;34m\u001b[0m\u001b[0;34m\u001b[0m\u001b[0m\n\u001b[0;32m---> 23\u001b[0;31m     \u001b[0mtf\u001b[0m\u001b[0;34m.\u001b[0m\u001b[0msummary\u001b[0m\u001b[0;34m.\u001b[0m\u001b[0mFileWriter\u001b[0m\u001b[0;34m(\u001b[0m\u001b[0;34m'/tmp/ambito'\u001b[0m\u001b[0;34m,\u001b[0m \u001b[0mg\u001b[0m\u001b[0;34m)\u001b[0m\u001b[0;34m\u001b[0m\u001b[0;34m\u001b[0m\u001b[0m\n\u001b[0m",
      "\u001b[0;31mAttributeError\u001b[0m: module 'tensorflow_core.summary' has no attribute 'FileWriter'"
     ]
    }
   ],
   "source": [
    "## crea una nueva gráfica\n",
    "g = tf.Graph()\n",
    "\n",
    "## crea los nodos dentro de la grafica g \n",
    "with g.as_default():\n",
    "    \n",
    "    ##  Se crea el ámbito A con tres nodos    \n",
    "    with tf.name_scope('A'):\n",
    "        a = tf.add(1, 2, name='Aa')\n",
    "        b = tf.add(3, 4, name='Ab')\n",
    "        c = tf.multiply(a, b, name='Ac')\n",
    "\n",
    "    ##  Se crea el ámbito B con tres nodos    \n",
    "    with tf.name_scope('B'):\n",
    "        d = tf.add(5, 6, name='Bd')\n",
    "        e = tf.add(7, 8, name='Be')\n",
    "        f = tf.multiply(d, e, name='Bf')\n",
    "\n",
    "    ## Este es el nodo raíz de los dos ámbitos\n",
    "    h = tf.subtract(c, f, 'raiz')\n",
    "\n",
    "    ## Escribe la gráfica de flujo de datos al disco\n",
    "    tf.summary.FileWriter('/tmp/ambito', g)"
   ]
  },
  {
   "cell_type": "markdown",
   "metadata": {},
   "source": [
    "Para abrir la gráfica, use el comando `tensorboard --logir=/tmp/ambito` en términal y luego habra la dirección http://localhost/6006 en el explorador. "
   ]
  },
  {
   "cell_type": "markdown",
   "metadata": {},
   "source": [
    "La gráfica generada es la siguiente:\n",
    "\n",
    "![TensorBoardIntro-02.png](assets/TensorBoardIntro-02.png)"
   ]
  },
  {
   "cell_type": "markdown",
   "metadata": {},
   "source": [
    "donde la parte superior corresponde a la grafica colapsada y la parte inferior a la gráfica expandida."
   ]
  },
  {
   "cell_type": "markdown",
   "metadata": {},
   "source": [
    "## Resumenes de ejecuciones en TensorBoard"
   ]
  },
  {
   "cell_type": "markdown",
   "metadata": {},
   "source": [
    "En el siguiente ejemplo, se ejemplifica como organizar en ámbitos el código en un programa de TensorFlow, la forma de construir resumenes, y el reporte en `TensorBoard`. En este ejemplo, se computa $y=f(x)$ para diferentes valores de $x$ y $\\sum f(x)$."
   ]
  },
  {
   "cell_type": "code",
   "execution_count": 4,
   "metadata": {},
   "outputs": [
    {
     "name": "stdout",
     "output_type": "stream",
     "text": [
      "WARNING:tensorflow:From /usr/local/lib/python3.6/dist-packages/tensorflow_core/python/ops/resource_variable_ops.py:1635: calling BaseResourceVariable.__init__ (from tensorflow.python.ops.resource_variable_ops) with constraint is deprecated and will be removed in a future version.\n",
      "Instructions for updating:\n",
      "If using Keras pass *_constraint arguments to layers.\n"
     ]
    },
    {
     "ename": "AttributeError",
     "evalue": "module 'tensorflow' has no attribute 'placeholder'",
     "output_type": "error",
     "traceback": [
      "\u001b[0;31m---------------------------------------------------------------------------\u001b[0m",
      "\u001b[0;31mAttributeError\u001b[0m                            Traceback (most recent call last)",
      "\u001b[0;32m<ipython-input-4-13df7b588f8b>\u001b[0m in \u001b[0;36m<module>\u001b[0;34m\u001b[0m\n\u001b[1;32m     14\u001b[0m     \u001b[0;31m## Se definen las variables que modifica el usuario\u001b[0m\u001b[0;34m\u001b[0m\u001b[0;34m\u001b[0m\u001b[0;34m\u001b[0m\u001b[0m\n\u001b[1;32m     15\u001b[0m     \u001b[0;32mwith\u001b[0m \u001b[0mtf\u001b[0m\u001b[0;34m.\u001b[0m\u001b[0mname_scope\u001b[0m\u001b[0;34m(\u001b[0m\u001b[0;34m'x'\u001b[0m\u001b[0;34m)\u001b[0m\u001b[0;34m:\u001b[0m\u001b[0;34m\u001b[0m\u001b[0;34m\u001b[0m\u001b[0m\n\u001b[0;32m---> 16\u001b[0;31m         \u001b[0mx\u001b[0m \u001b[0;34m=\u001b[0m \u001b[0mtf\u001b[0m\u001b[0;34m.\u001b[0m\u001b[0mplaceholder\u001b[0m\u001b[0;34m(\u001b[0m\u001b[0mtf\u001b[0m\u001b[0;34m.\u001b[0m\u001b[0mfloat32\u001b[0m\u001b[0;34m,\u001b[0m \u001b[0mshape\u001b[0m\u001b[0;34m=\u001b[0m\u001b[0;34m[\u001b[0m\u001b[0;34m]\u001b[0m\u001b[0;34m,\u001b[0m \u001b[0mname\u001b[0m\u001b[0;34m=\u001b[0m\u001b[0;34m'placeholder_x'\u001b[0m\u001b[0;34m)\u001b[0m\u001b[0;34m\u001b[0m\u001b[0;34m\u001b[0m\u001b[0m\n\u001b[0m\u001b[1;32m     17\u001b[0m \u001b[0;34m\u001b[0m\u001b[0m\n\u001b[1;32m     18\u001b[0m     \u001b[0;31m## Cómputos (evalua f(x))\u001b[0m\u001b[0;34m\u001b[0m\u001b[0;34m\u001b[0m\u001b[0;34m\u001b[0m\u001b[0m\n",
      "\u001b[0;31mAttributeError\u001b[0m: module 'tensorflow' has no attribute 'placeholder'"
     ]
    }
   ],
   "source": [
    "## Borra el directorio de trabajo en cada corrida\n",
    "!rm -rf /tmp/example\n",
    "\n",
    "## Crea una gráfica\n",
    "graph = tf.Graph()\n",
    "\n",
    "with graph.as_default():\n",
    "    \n",
    "    ## Se definen las variables a usar en la corrida\n",
    "    with tf.name_scope('variables'):\n",
    "        num_corridas = tf.Variable(0, dtype=tf.int32, name='num_corridas')\n",
    "        suma_y = tf.Variable(0.0, dtype=tf.float32, name='suma_y')\n",
    "        \n",
    "    ## Se definen las variables que modifica el usuario\n",
    "    with tf.name_scope('x'):\n",
    "        x = tf.placeholder(tf.float32, shape=[], name='placeholder_x')\n",
    "        \n",
    "    ## Cómputos (evalua f(x))\n",
    "    with tf.name_scope('fx'):\n",
    "        y = tf.square(x, name='y')\n",
    "        \n",
    "    ## Almacena los contadores\n",
    "    with tf.name_scope('contadores'):\n",
    "        incr_suma_y = suma_y.assign_add(y)\n",
    "        incr_num_corridas = num_corridas.assign_add(1)\n",
    "        \n",
    "    ## Genera los resumenes a partir de las variables\n",
    "    with tf.name_scope('resumenes'):\n",
    "        tf.summary.scalar('Y', y)\n",
    "        tf.summary.scalar('Suma_y', suma_y)\n",
    "        \n",
    "    ## Inicializa las variables y los resumenes\n",
    "    with tf.name_scope('operaciones'):\n",
    "        init = tf.global_variables_initializer()\n",
    "        resumenes = tf.summary.merge_all()\n",
    "        \n",
    "        \n",
    "## Ejecución\n",
    "##   Crea una sesión para realizar los cómputos\n",
    "sess = tf.Session(graph=graph)\n",
    "\n",
    "##   Crea el directorio donde se almacenarán los resultados\n",
    "writer = tf.summary.FileWriter('/tmp/example', graph)\n",
    "\n",
    "##   Inicializa las variables\n",
    "sess.run(init)\n",
    "\n",
    "## Esa función encapsula la corrida para un valor z\n",
    "def f(z):\n",
    "    ## Realiza el cómputo\n",
    "    _, step, summary = sess.run([y,               # Computa y = f(x)\n",
    "                                 incr_suma_y,     # sumatoria de f(x)\n",
    "                                 resumenes],      # Genera el resumen (Y, Suma_Y)\n",
    "                                feed_dict={x:z})  # Pasa el valor de x a TensorFlow\n",
    "    \n",
    "    ## Almacena el resumen en disco duro\n",
    "    writer.add_summary(summary, global_step=step)\n",
    "        \n",
    "##\n",
    "## Se llama a la función f(x) para x = 0, 1, 2, ...\n",
    "##\n",
    "for a in np.arange(0, 10, 1, np.float32):\n",
    "    f(a)\n",
    "\n",
    "## se vacia el buffer al disco duro y se cierra la conexión\n",
    "writer.flush()\n",
    "writer.close()\n",
    "\n",
    "## Se cierra la sesión\n",
    "sess.close()"
   ]
  },
  {
   "cell_type": "markdown",
   "metadata": {},
   "source": [
    "La organización del código en ámbitos permite su mejor organización. En la siguiente figura se muestra la gráfica computacional generada.\n",
    "\n",
    "![TensorBoardIntro-03.png](assets/TensorBoardIntro-03.png)"
   ]
  },
  {
   "cell_type": "markdown",
   "metadata": {},
   "source": [
    "Los gráficos generados por los resumenes son los siguientes:\n",
    "\n",
    "![TensorBoardIntro-04.png](assets/TensorBoardIntro-04.png)"
   ]
  }
 ],
 "metadata": {
  "kernelspec": {
   "display_name": "Python 3",
   "language": "python",
   "name": "python3"
  },
  "language_info": {
   "codemirror_mode": {
    "name": "ipython",
    "version": 3
   },
   "file_extension": ".py",
   "mimetype": "text/x-python",
   "name": "python",
   "nbconvert_exporter": "python",
   "pygments_lexer": "ipython3",
   "version": "3.6.9"
  }
 },
 "nbformat": 4,
 "nbformat_minor": 4
}
