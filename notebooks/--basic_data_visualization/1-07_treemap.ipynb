{
 "cells": [
  {
   "cell_type": "markdown",
   "id": "7043444b-b664-4162-a9d3-896404ab10bd",
   "metadata": {
    "tags": []
   },
   "source": [
    "Treemap\n",
    "===\n",
    "\n",
    "* *90:00 min* | Última modificación: Septiembre 1, 2021 | [YouTube]"
   ]
  },
  {
   "cell_type": "markdown",
   "id": "621bee6e-480b-4bf4-aa72-19c7bd1147ea",
   "metadata": {
    "tags": []
   },
   "source": [
    "En este tutorial se presentan varios ejemplos de visualización de relaciones con diagramas de dispersión."
   ]
  },
  {
   "cell_type": "code",
   "execution_count": 1,
   "id": "25a8ff6d-ebf3-4898-ac1d-28ff63fd3f25",
   "metadata": {},
   "outputs": [],
   "source": [
    "import matplotlib.pyplot as plt\n",
    "import seaborn as sns"
   ]
  }
 ],
 "metadata": {
  "kernelspec": {
   "display_name": "Python 3",
   "language": "python",
   "name": "python3"
  },
  "language_info": {
   "codemirror_mode": {
    "name": "ipython",
    "version": 3
   },
   "file_extension": ".py",
   "mimetype": "text/x-python",
   "name": "python",
   "nbconvert_exporter": "python",
   "pygments_lexer": "ipython3",
   "version": "3.6.9"
  }
 },
 "nbformat": 4,
 "nbformat_minor": 5
}
