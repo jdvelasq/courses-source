{
 "cells": [
  {
   "cell_type": "markdown",
   "id": "80bb25ef-1357-41b1-8562-754a357964bc",
   "metadata": {
    "tags": []
   },
   "source": [
    "Capas pooling --- 0:00 min\n",
    "===\n",
    "\n",
    "* Última modificación: Marzo 7, 2022 | YouTube\n",
    "\n",
    "* Adaptado de: https://keras.io/api/layers/pooling_layers/"
   ]
  },
  {
   "cell_type": "markdown",
   "id": "0ddabd56-cab9-4590-a64e-07d6c5115a10",
   "metadata": {
    "tags": []
   },
   "source": [
    "Importación de librerías\n",
    "---"
   ]
  },
  {
   "cell_type": "code",
   "execution_count": 1,
   "id": "f01a4aea-57d5-4748-8757-c98d43344797",
   "metadata": {},
   "outputs": [
    {
     "data": {
      "text/plain": [
       "'2.8.0'"
      ]
     },
     "execution_count": 1,
     "metadata": {},
     "output_type": "execute_result"
    }
   ],
   "source": [
    "import os\n",
    "\n",
    "os.environ[\"TF_CPP_MIN_LOG_LEVEL\"] = \"2\"\n",
    "\n",
    "\n",
    "import tensorflow as tf\n",
    "\n",
    "tf.__version__"
   ]
  },
  {
   "cell_type": "markdown",
   "id": "45a51255-0202-46e3-bd45-732d568dbee2",
   "metadata": {},
   "source": [
    "Capa MaxPooling1D\n",
    "--"
   ]
  },
  {
   "cell_type": "code",
   "execution_count": 2,
   "id": "d744f743-9813-4eae-944b-be1c282d8d86",
   "metadata": {},
   "outputs": [
    {
     "data": {
      "text/plain": [
       "array([[[1.],\n",
       "        [2.],\n",
       "        [3.],\n",
       "        [4.],\n",
       "        [5.]]], dtype=float32)"
      ]
     },
     "execution_count": 2,
     "metadata": {},
     "output_type": "execute_result"
    }
   ],
   "source": [
    "x = tf.constant([1.0, 2.0, 3.0, 4.0, 5.0])\n",
    "x = tf.reshape(x, [1, 5, 1])\n",
    "x.numpy()"
   ]
  },
  {
   "cell_type": "code",
   "execution_count": 3,
   "id": "8f0ed6aa-8366-406a-89e8-846da82bad42",
   "metadata": {},
   "outputs": [
    {
     "data": {
      "text/plain": [
       "<tf.Tensor: shape=(1, 4, 1), dtype=float32, numpy=\n",
       "array([[[2.],\n",
       "        [3.],\n",
       "        [4.],\n",
       "        [5.]]], dtype=float32)>"
      ]
     },
     "execution_count": 3,
     "metadata": {},
     "output_type": "execute_result"
    }
   ],
   "source": [
    "max_pool_1d = tf.keras.layers.MaxPooling1D(\n",
    "    pool_size=2,\n",
    "    strides=1,\n",
    "    padding=\"valid\",\n",
    ")\n",
    "max_pool_1d(x)"
   ]
  },
  {
   "cell_type": "code",
   "execution_count": 4,
   "id": "df25e38c-4a27-458f-bba2-66b31bc42431",
   "metadata": {},
   "outputs": [
    {
     "data": {
      "text/plain": [
       "<tf.Tensor: shape=(1, 2, 1), dtype=float32, numpy=\n",
       "array([[[2.],\n",
       "        [4.]]], dtype=float32)>"
      ]
     },
     "execution_count": 4,
     "metadata": {},
     "output_type": "execute_result"
    }
   ],
   "source": [
    "max_pool_1d = tf.keras.layers.MaxPooling1D(\n",
    "    pool_size=2,\n",
    "    strides=2,\n",
    "    padding=\"valid\",\n",
    ")\n",
    "max_pool_1d(x)"
   ]
  },
  {
   "cell_type": "code",
   "execution_count": 5,
   "id": "fb9d776e-b340-4548-90e1-fec4d1d332d0",
   "metadata": {},
   "outputs": [
    {
     "data": {
      "text/plain": [
       "<tf.Tensor: shape=(1, 5, 1), dtype=float32, numpy=\n",
       "array([[[2.],\n",
       "        [3.],\n",
       "        [4.],\n",
       "        [5.],\n",
       "        [5.]]], dtype=float32)>"
      ]
     },
     "execution_count": 5,
     "metadata": {},
     "output_type": "execute_result"
    }
   ],
   "source": [
    "max_pool_1d = tf.keras.layers.MaxPooling1D(\n",
    "    pool_size=2,\n",
    "    strides=1,\n",
    "    padding=\"same\",\n",
    ")\n",
    "max_pool_1d(x)"
   ]
  },
  {
   "cell_type": "markdown",
   "id": "6562817f-26e6-42b1-8156-70a94ab7969f",
   "metadata": {
    "tags": []
   },
   "source": [
    "Capa MaxPooling2D\n",
    "---"
   ]
  },
  {
   "cell_type": "code",
   "execution_count": 6,
   "id": "c863d541-5f43-4a7c-a04d-2dd33f1f1e99",
   "metadata": {},
   "outputs": [
    {
     "data": {
      "text/plain": [
       "array([[[[1.],\n",
       "         [2.],\n",
       "         [3.]],\n",
       "\n",
       "        [[4.],\n",
       "         [5.],\n",
       "         [6.]],\n",
       "\n",
       "        [[7.],\n",
       "         [8.],\n",
       "         [9.]]]], dtype=float32)"
      ]
     },
     "execution_count": 6,
     "metadata": {},
     "output_type": "execute_result"
    }
   ],
   "source": [
    "x = tf.constant(\n",
    "    [\n",
    "        [1.0, 2.0, 3.0],\n",
    "        [4.0, 5.0, 6.0],\n",
    "        [7.0, 8.0, 9.0],\n",
    "    ]\n",
    ")\n",
    "x = tf.reshape(x, [1, 3, 3, 1])\n",
    "x.numpy()"
   ]
  },
  {
   "cell_type": "code",
   "execution_count": 7,
   "id": "fb78a68d-e28b-49cf-bfd1-8d742f0d0041",
   "metadata": {},
   "outputs": [
    {
     "data": {
      "text/plain": [
       "<tf.Tensor: shape=(1, 2, 2, 1), dtype=float32, numpy=\n",
       "array([[[[5.],\n",
       "         [6.]],\n",
       "\n",
       "        [[8.],\n",
       "         [9.]]]], dtype=float32)>"
      ]
     },
     "execution_count": 7,
     "metadata": {},
     "output_type": "execute_result"
    }
   ],
   "source": [
    "max_pool_2d = tf.keras.layers.MaxPooling2D(\n",
    "    pool_size=(2, 2),\n",
    "    strides=(1, 1),\n",
    "    padding=\"valid\",\n",
    ")\n",
    "max_pool_2d(x)"
   ]
  },
  {
   "cell_type": "code",
   "execution_count": 8,
   "id": "dc856c13-faeb-4d8b-928c-c9cae352b147",
   "metadata": {},
   "outputs": [
    {
     "data": {
      "text/plain": [
       "array([[[[ 1.],\n",
       "         [ 2.],\n",
       "         [ 3.],\n",
       "         [ 4.]],\n",
       "\n",
       "        [[ 5.],\n",
       "         [ 6.],\n",
       "         [ 7.],\n",
       "         [ 8.]],\n",
       "\n",
       "        [[ 9.],\n",
       "         [10.],\n",
       "         [11.],\n",
       "         [12.]]]], dtype=float32)"
      ]
     },
     "execution_count": 8,
     "metadata": {},
     "output_type": "execute_result"
    }
   ],
   "source": [
    "x = tf.constant(\n",
    "    [\n",
    "        [1.0, 2.0, 3.0, 4.0],\n",
    "        [5.0, 6.0, 7.0, 8.0],\n",
    "        [9.0, 10.0, 11.0, 12.0],\n",
    "    ]\n",
    ")\n",
    "x = tf.reshape(x, [1, 3, 4, 1])\n",
    "x.numpy()"
   ]
  },
  {
   "cell_type": "code",
   "execution_count": 9,
   "id": "04fe71e8-a7da-4d41-bfca-a671d56c3cfa",
   "metadata": {},
   "outputs": [
    {
     "data": {
      "text/plain": [
       "<tf.Tensor: shape=(1, 1, 2, 1), dtype=float32, numpy=\n",
       "array([[[[6.],\n",
       "         [8.]]]], dtype=float32)>"
      ]
     },
     "execution_count": 9,
     "metadata": {},
     "output_type": "execute_result"
    }
   ],
   "source": [
    "max_pool_2d = tf.keras.layers.MaxPooling2D(\n",
    "    pool_size=(2, 2),\n",
    "    strides=(2, 2),\n",
    "    padding=\"valid\",\n",
    ")\n",
    "max_pool_2d(x)"
   ]
  },
  {
   "cell_type": "code",
   "execution_count": 10,
   "id": "401a2880-d907-428e-8600-fc2e78d632b7",
   "metadata": {},
   "outputs": [
    {
     "data": {
      "text/plain": [
       "array([[[[2.],\n",
       "         [4.]],\n",
       "\n",
       "        [[4.],\n",
       "         [4.]]]], dtype=float32)"
      ]
     },
     "execution_count": 10,
     "metadata": {},
     "output_type": "execute_result"
    }
   ],
   "source": [
    "input_image = tf.constant(\n",
    "    [\n",
    "        [\n",
    "            [[1.0], [1.0], [2.0], [4.0]],\n",
    "            [[2.0], [2.0], [3.0], [2.0]],\n",
    "            [[4.0], [1.0], [1.0], [1.0]],\n",
    "            [[2.0], [2.0], [1.0], [4.0]],\n",
    "        ]\n",
    "    ]\n",
    ")\n",
    "\n",
    "output = tf.constant(\n",
    "    [\n",
    "        [\n",
    "            [[1], [0]],\n",
    "            [[0], [1]],\n",
    "        ],\n",
    "    ]\n",
    ")\n",
    "\n",
    "model = tf.keras.models.Sequential()\n",
    "model.add(\n",
    "    tf.keras.layers.MaxPooling2D(\n",
    "        pool_size=(2, 2),\n",
    "        input_shape=(4, 4, 1),\n",
    "    ),\n",
    ")\n",
    "model.compile(\"adam\", \"mean_squared_error\")\n",
    "model.predict(input_image, steps=1)"
   ]
  },
  {
   "cell_type": "code",
   "execution_count": 11,
   "id": "a4962ab5-18ce-4ca3-84a2-7f6d104b857d",
   "metadata": {},
   "outputs": [
    {
     "data": {
      "text/plain": [
       "<tf.Tensor: shape=(1, 3, 3, 1), dtype=float32, numpy=\n",
       "array([[[[5.],\n",
       "         [6.],\n",
       "         [6.]],\n",
       "\n",
       "        [[8.],\n",
       "         [9.],\n",
       "         [9.]],\n",
       "\n",
       "        [[8.],\n",
       "         [9.],\n",
       "         [9.]]]], dtype=float32)>"
      ]
     },
     "execution_count": 11,
     "metadata": {},
     "output_type": "execute_result"
    }
   ],
   "source": [
    "x = tf.constant(\n",
    "    [\n",
    "        [1.0, 2.0, 3.0],\n",
    "        [4.0, 5.0, 6.0],\n",
    "        [7.0, 8.0, 9.0],\n",
    "    ]\n",
    ")\n",
    "x = tf.reshape(\n",
    "    x,\n",
    "    [1, 3, 3, 1],\n",
    ")\n",
    "max_pool_2d = tf.keras.layers.MaxPooling2D(\n",
    "    pool_size=(2, 2),\n",
    "    strides=(1, 1),\n",
    "    padding=\"same\",\n",
    ")\n",
    "max_pool_2d(x)"
   ]
  },
  {
   "cell_type": "markdown",
   "id": "160469f9-f702-4529-bc49-911cbb426252",
   "metadata": {},
   "source": [
    "Capa MaxPooling3D\n",
    "--"
   ]
  },
  {
   "cell_type": "code",
   "execution_count": 12,
   "id": "b9cffb10-393b-4052-a3fc-ce06f35fbfb9",
   "metadata": {},
   "outputs": [],
   "source": [
    "depth = 30\n",
    "height = 30\n",
    "width = 30\n",
    "input_channels = 3\n",
    "\n",
    "inputs = tf.keras.Input(\n",
    "    shape=(depth, height, width, input_channels),\n",
    ")\n",
    "layer = tf.keras.layers.MaxPooling3D(pool_size=3)\n",
    "outputs = layer(inputs)  # Shape: (batch_size, 10, 10, 10, 3)"
   ]
  },
  {
   "cell_type": "markdown",
   "id": "8b55c845-a854-45ad-a33a-80bd034570b8",
   "metadata": {},
   "source": [
    "Capa AveragePooling1D\n",
    "--"
   ]
  },
  {
   "cell_type": "code",
   "execution_count": 13,
   "id": "1ca508f8-35ec-47f7-8d3a-6401390f188a",
   "metadata": {},
   "outputs": [
    {
     "data": {
      "text/plain": [
       "<tf.Tensor: shape=(1, 5, 1), dtype=float32, numpy=\n",
       "array([[[1.],\n",
       "        [2.],\n",
       "        [3.],\n",
       "        [4.],\n",
       "        [5.]]], dtype=float32)>"
      ]
     },
     "execution_count": 13,
     "metadata": {},
     "output_type": "execute_result"
    }
   ],
   "source": [
    "x = tf.constant([1.0, 2.0, 3.0, 4.0, 5.0])\n",
    "x = tf.reshape(x, [1, 5, 1])\n",
    "x"
   ]
  },
  {
   "cell_type": "code",
   "execution_count": 14,
   "id": "5386e93a-fa0b-43d6-a36b-6e73be280c3f",
   "metadata": {},
   "outputs": [
    {
     "data": {
      "text/plain": [
       "<tf.Tensor: shape=(1, 4, 1), dtype=float32, numpy=\n",
       "array([[[1.5],\n",
       "        [2.5],\n",
       "        [3.5],\n",
       "        [4.5]]], dtype=float32)>"
      ]
     },
     "execution_count": 14,
     "metadata": {},
     "output_type": "execute_result"
    }
   ],
   "source": [
    "avg_pool_1d = tf.keras.layers.AveragePooling1D(\n",
    "    pool_size=2,\n",
    "    strides=1,\n",
    "    padding=\"valid\",\n",
    ")\n",
    "avg_pool_1d(x)"
   ]
  },
  {
   "cell_type": "code",
   "execution_count": 15,
   "id": "1872aa2c-2820-4a96-aab7-b12501f035fe",
   "metadata": {},
   "outputs": [
    {
     "data": {
      "text/plain": [
       "<tf.Tensor: shape=(1, 5, 1), dtype=float32, numpy=\n",
       "array([[[1.],\n",
       "        [2.],\n",
       "        [3.],\n",
       "        [4.],\n",
       "        [5.]]], dtype=float32)>"
      ]
     },
     "execution_count": 15,
     "metadata": {},
     "output_type": "execute_result"
    }
   ],
   "source": [
    "x = tf.constant([1.0, 2.0, 3.0, 4.0, 5.0])\n",
    "x = tf.reshape(x, [1, 5, 1])\n",
    "x"
   ]
  },
  {
   "cell_type": "code",
   "execution_count": 16,
   "id": "bf5685c3-67dd-409e-b098-946144cd0db5",
   "metadata": {},
   "outputs": [
    {
     "data": {
      "text/plain": [
       "<tf.Tensor: shape=(1, 5, 1), dtype=float32, numpy=\n",
       "array([[[1.5],\n",
       "        [2.5],\n",
       "        [3.5],\n",
       "        [4.5],\n",
       "        [5. ]]], dtype=float32)>"
      ]
     },
     "execution_count": 16,
     "metadata": {},
     "output_type": "execute_result"
    }
   ],
   "source": [
    "avg_pool_1d = tf.keras.layers.AveragePooling1D(\n",
    "    pool_size=2,\n",
    "    strides=1,\n",
    "    padding=\"same\",\n",
    ")\n",
    "avg_pool_1d(x)"
   ]
  },
  {
   "cell_type": "markdown",
   "id": "166dd1a1-4f38-460c-9ef2-9b53933ba533",
   "metadata": {},
   "source": [
    "Capa AveragePooling2D\n",
    "---"
   ]
  },
  {
   "cell_type": "code",
   "execution_count": 17,
   "id": "cca3c166-f2bc-4665-b24a-0eacfadc7bf4",
   "metadata": {},
   "outputs": [
    {
     "data": {
      "text/plain": [
       "<tf.Tensor: shape=(1, 2, 2, 1), dtype=float32, numpy=\n",
       "array([[[[3.],\n",
       "         [4.]],\n",
       "\n",
       "        [[6.],\n",
       "         [7.]]]], dtype=float32)>"
      ]
     },
     "execution_count": 17,
     "metadata": {},
     "output_type": "execute_result"
    }
   ],
   "source": [
    "x = tf.constant(\n",
    "    [\n",
    "        [1.0, 2.0, 3.0],\n",
    "        [4.0, 5.0, 6.0],\n",
    "        [7.0, 8.0, 9.0],\n",
    "    ]\n",
    ")\n",
    "x = tf.reshape(x, [1, 3, 3, 1])\n",
    "avg_pool_2d = tf.keras.layers.AveragePooling2D(\n",
    "    pool_size=(2, 2),\n",
    "    strides=(1, 1),\n",
    "    padding=\"valid\",\n",
    ")\n",
    "avg_pool_2d(x)"
   ]
  },
  {
   "cell_type": "code",
   "execution_count": 18,
   "id": "28b6e8a8-5f2b-4205-9a50-9d56bd6e8c34",
   "metadata": {},
   "outputs": [
    {
     "data": {
      "text/plain": [
       "<tf.Tensor: shape=(1, 1, 2, 1), dtype=float32, numpy=\n",
       "array([[[[3.5],\n",
       "         [5.5]]]], dtype=float32)>"
      ]
     },
     "execution_count": 18,
     "metadata": {},
     "output_type": "execute_result"
    }
   ],
   "source": [
    "x = tf.constant(\n",
    "    [\n",
    "        [1.0, 2.0, 3.0, 4.0],\n",
    "        [5.0, 6.0, 7.0, 8.0],\n",
    "        [9.0, 10.0, 11.0, 12.0],\n",
    "    ]\n",
    ")\n",
    "x = tf.reshape(x, [1, 3, 4, 1])\n",
    "\n",
    "avg_pool_2d = tf.keras.layers.AveragePooling2D(\n",
    "    pool_size=(2, 2),\n",
    "    strides=(2, 2),\n",
    "    padding=\"valid\",\n",
    ")\n",
    "avg_pool_2d(x)"
   ]
  },
  {
   "cell_type": "code",
   "execution_count": 19,
   "id": "5ad28703-e6d1-48d4-a2db-ce5c9b90594b",
   "metadata": {},
   "outputs": [
    {
     "data": {
      "text/plain": [
       "<tf.Tensor: shape=(1, 3, 3, 1), dtype=float32, numpy=\n",
       "array([[[[3. ],\n",
       "         [4. ],\n",
       "         [4.5]],\n",
       "\n",
       "        [[6. ],\n",
       "         [7. ],\n",
       "         [7.5]],\n",
       "\n",
       "        [[7.5],\n",
       "         [8.5],\n",
       "         [9. ]]]], dtype=float32)>"
      ]
     },
     "execution_count": 19,
     "metadata": {},
     "output_type": "execute_result"
    }
   ],
   "source": [
    "x = tf.constant(\n",
    "    [\n",
    "        [1.0, 2.0, 3.0],\n",
    "        [4.0, 5.0, 6.0],\n",
    "        [7.0, 8.0, 9.0],\n",
    "    ]\n",
    ")\n",
    "x = tf.reshape(x, [1, 3, 3, 1])\n",
    "avg_pool_2d = tf.keras.layers.AveragePooling2D(\n",
    "    pool_size=(2, 2),\n",
    "    strides=(1, 1),\n",
    "    padding=\"same\",\n",
    ")\n",
    "avg_pool_2d(x)"
   ]
  },
  {
   "cell_type": "markdown",
   "id": "0ca10910-c22b-4ac9-8b2a-c3fcf32a5982",
   "metadata": {},
   "source": [
    "Capa AveragePooling3D\n",
    "---"
   ]
  },
  {
   "cell_type": "code",
   "execution_count": 20,
   "id": "ac0ee727-0d67-4b27-afad-f725e2df0cd5",
   "metadata": {},
   "outputs": [],
   "source": [
    "depth = 30\n",
    "height = 30\n",
    "width = 30\n",
    "input_channels = 3\n",
    "\n",
    "inputs = tf.keras.Input(\n",
    "    shape=(depth, height, width, input_channels),\n",
    ")\n",
    "layer = tf.keras.layers.AveragePooling3D(pool_size=3)\n",
    "outputs = layer(inputs)  # Shape: (batch_size, 10, 10, 10, 3)"
   ]
  },
  {
   "cell_type": "markdown",
   "id": "0c0a3325-3322-4d2f-b1de-5497290e86fc",
   "metadata": {},
   "source": [
    "Capa GlobalMaxPooling1D\n",
    "---"
   ]
  },
  {
   "cell_type": "code",
   "execution_count": 21,
   "id": "4f2d1212-5b03-4c1c-8219-9b5df0a5be74",
   "metadata": {},
   "outputs": [
    {
     "data": {
      "text/plain": [
       "<tf.Tensor: shape=(3, 3, 1), dtype=float32, numpy=\n",
       "array([[[1.],\n",
       "        [2.],\n",
       "        [3.]],\n",
       "\n",
       "       [[4.],\n",
       "        [5.],\n",
       "        [6.]],\n",
       "\n",
       "       [[7.],\n",
       "        [8.],\n",
       "        [9.]]], dtype=float32)>"
      ]
     },
     "execution_count": 21,
     "metadata": {},
     "output_type": "execute_result"
    }
   ],
   "source": [
    "x = tf.constant(\n",
    "    [\n",
    "        [1.0, 2.0, 3.0],\n",
    "        [4.0, 5.0, 6.0],\n",
    "        [7.0, 8.0, 9.0],\n",
    "    ]\n",
    ")\n",
    "x = tf.reshape(x, [3, 3, 1])\n",
    "x"
   ]
  },
  {
   "cell_type": "code",
   "execution_count": 22,
   "id": "1395949a-d85b-4310-9d6f-4eae25e7058e",
   "metadata": {},
   "outputs": [
    {
     "data": {
      "text/plain": [
       "<tf.Tensor: shape=(3, 1), dtype=float32, numpy=\n",
       "array([[3.],\n",
       "       [6.],\n",
       "       [9.]], dtype=float32)>"
      ]
     },
     "execution_count": 22,
     "metadata": {},
     "output_type": "execute_result"
    }
   ],
   "source": [
    "max_pool_1d = tf.keras.layers.GlobalMaxPooling1D()\n",
    "max_pool_1d(x)"
   ]
  },
  {
   "cell_type": "markdown",
   "id": "2bbb2e35-6057-4f17-9831-2576c3a9a138",
   "metadata": {},
   "source": [
    "Capa GlobalMaxPooling2D\n",
    "---"
   ]
  },
  {
   "cell_type": "code",
   "execution_count": 23,
   "id": "ee6152a2-57a0-42ff-8d29-cbe5d45ff6e9",
   "metadata": {},
   "outputs": [
    {
     "data": {
      "text/plain": [
       "TensorShape([2, 3])"
      ]
     },
     "execution_count": 23,
     "metadata": {},
     "output_type": "execute_result"
    }
   ],
   "source": [
    "input_shape = (2, 4, 5, 3)\n",
    "x = tf.random.normal(input_shape)\n",
    "y = tf.keras.layers.GlobalMaxPool2D()(x)\n",
    "y.shape"
   ]
  },
  {
   "cell_type": "markdown",
   "id": "54cfe8ba-61e0-435f-b1c8-a6092772a66d",
   "metadata": {},
   "source": [
    "Capa GlobalMaxPooling2D\n",
    "---"
   ]
  },
  {
   "cell_type": "code",
   "execution_count": 24,
   "id": "90f5e19c-55f9-499a-b151-6e7c2a88d45a",
   "metadata": {},
   "outputs": [
    {
     "data": {
      "text/plain": [
       "<keras.layers.pooling.GlobalMaxPooling3D at 0x7fe8986f2b20>"
      ]
     },
     "execution_count": 24,
     "metadata": {},
     "output_type": "execute_result"
    }
   ],
   "source": [
    "tf.keras.layers.GlobalMaxPooling3D(\n",
    "    data_format=None,\n",
    "    keepdims=False,\n",
    ")"
   ]
  },
  {
   "cell_type": "markdown",
   "id": "85ce289a-0a4e-42f7-851d-04acafbc0bf2",
   "metadata": {},
   "source": [
    "Capa GlobalAveragePooling1D\n",
    "---"
   ]
  },
  {
   "cell_type": "code",
   "execution_count": 25,
   "id": "19a1c35a-028f-4962-8eab-0614d4839600",
   "metadata": {},
   "outputs": [
    {
     "data": {
      "text/plain": [
       "TensorShape([2, 4])"
      ]
     },
     "execution_count": 25,
     "metadata": {},
     "output_type": "execute_result"
    }
   ],
   "source": [
    "input_shape = (2, 3, 4)\n",
    "x = tf.random.normal(input_shape)\n",
    "y = tf.keras.layers.GlobalAveragePooling1D()(x)\n",
    "y.shape"
   ]
  },
  {
   "cell_type": "markdown",
   "id": "772608fb-b7fd-4a68-8858-3b9e4fae9f54",
   "metadata": {},
   "source": [
    "Capa GlobalAveragePooling2D\n",
    "---"
   ]
  },
  {
   "cell_type": "code",
   "execution_count": 26,
   "id": "d61e5786-a4de-4da4-8fcf-f5c57b0bc788",
   "metadata": {},
   "outputs": [
    {
     "data": {
      "text/plain": [
       "TensorShape([2, 3])"
      ]
     },
     "execution_count": 26,
     "metadata": {},
     "output_type": "execute_result"
    }
   ],
   "source": [
    "input_shape = (2, 4, 5, 3)\n",
    "x = tf.random.normal(input_shape)\n",
    "y = tf.keras.layers.GlobalAveragePooling2D()(x)\n",
    "y.shape"
   ]
  },
  {
   "cell_type": "markdown",
   "id": "5547be78-dfbd-4b58-91d5-122e5e74ebaf",
   "metadata": {},
   "source": [
    "Capa GlobalAveragePooling3D\n",
    "---"
   ]
  },
  {
   "cell_type": "code",
   "execution_count": 27,
   "id": "54ae67a1-f7b2-407d-9b6a-51199f52a70a",
   "metadata": {},
   "outputs": [
    {
     "data": {
      "text/plain": [
       "<keras.layers.pooling.GlobalAveragePooling3D at 0x7fe8986a3700>"
      ]
     },
     "execution_count": 27,
     "metadata": {},
     "output_type": "execute_result"
    }
   ],
   "source": [
    "tf.keras.layers.GlobalAveragePooling3D(\n",
    "    data_format=None,\n",
    "    keepdims=False,\n",
    ")"
   ]
  }
 ],
 "metadata": {
  "kernelspec": {
   "display_name": "Python 3 (ipykernel)",
   "language": "python",
   "name": "python3"
  },
  "language_info": {
   "codemirror_mode": {
    "name": "ipython",
    "version": 3
   },
   "file_extension": ".py",
   "mimetype": "text/x-python",
   "name": "python",
   "nbconvert_exporter": "python",
   "pygments_lexer": "ipython3",
   "version": "3.9.10"
  }
 },
 "nbformat": 4,
 "nbformat_minor": 5
}
