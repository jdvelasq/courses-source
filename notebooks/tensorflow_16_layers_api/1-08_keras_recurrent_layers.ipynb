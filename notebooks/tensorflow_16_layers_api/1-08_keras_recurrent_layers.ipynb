{
 "cells": [
  {
   "cell_type": "markdown",
   "id": "0d1ed64a-6e50-4757-b053-3ddb39500d26",
   "metadata": {
    "tags": []
   },
   "source": [
    "Capas recurrentes --- 0:00 min\n",
    "===\n",
    "\n",
    "* Última modificación: Marzo 7, 2022 | YouTube\n",
    "\n",
    "* Adaptado de: https://keras.io/api/layers/constraints/"
   ]
  },
  {
   "cell_type": "markdown",
   "id": "ed425a34-fd1d-4162-b0d7-27f7a53acf7a",
   "metadata": {
    "tags": []
   },
   "source": [
    "Importación de librerías\n",
    "---"
   ]
  },
  {
   "cell_type": "code",
   "execution_count": 1,
   "id": "bf78ac4f-d11f-41ce-9e26-2adeca8553ed",
   "metadata": {},
   "outputs": [
    {
     "data": {
      "text/plain": [
       "'2.8.0'"
      ]
     },
     "execution_count": 1,
     "metadata": {},
     "output_type": "execute_result"
    }
   ],
   "source": [
    "import os\n",
    "\n",
    "os.environ[\"TF_CPP_MIN_LOG_LEVEL\"] = \"2\"\n",
    "\n",
    "import tensorflow as tf\n",
    "\n",
    "tf.__version__"
   ]
  },
  {
   "cell_type": "markdown",
   "id": "18e8046f-4703-4847-acac-ee0f4c18527f",
   "metadata": {},
   "source": [
    "**Capa LSTM**"
   ]
  },
  {
   "cell_type": "markdown",
   "id": "1ca32a08-8619-47f5-848f-c271487d4ee5",
   "metadata": {},
   "source": [
    "Long-short time memory"
   ]
  },
  {
   "cell_type": "code",
   "execution_count": null,
   "id": "7b47d2aa-e12f-4b3e-89a3-5a677d124193",
   "metadata": {},
   "outputs": [],
   "source": [
    "inputs = tf.random.normal([32, 10, 8])\n",
    "lstm = tf.keras.layers.LSTM(4)\n",
    "output = lstm(inputs)\n",
    "output.shape"
   ]
  },
  {
   "cell_type": "code",
   "execution_count": null,
   "id": "f29e1f4f-efdc-49ee-8b37-01ae64b2899e",
   "metadata": {},
   "outputs": [],
   "source": [
    "lstm = tf.keras.layers.LSTM(4, return_sequences=True, return_state=True)\n",
    "whole_seq_output, final_memory_state, final_carry_state = lstm(inputs)\n",
    "whole_seq_output.shape"
   ]
  },
  {
   "cell_type": "code",
   "execution_count": null,
   "id": "1840c9ea-90c4-45b6-88b7-c91ef52564a2",
   "metadata": {},
   "outputs": [],
   "source": [
    "final_memory_state.shape"
   ]
  },
  {
   "cell_type": "code",
   "execution_count": null,
   "id": "091455e5-a5e1-4f0c-9188-727083575e8d",
   "metadata": {},
   "outputs": [],
   "source": [
    "final_carry_state.shape"
   ]
  },
  {
   "cell_type": "markdown",
   "id": "1ff2e22c-ac57-4d31-8081-50d56043e83d",
   "metadata": {},
   "source": [
    "**Capa GRU**"
   ]
  },
  {
   "cell_type": "markdown",
   "id": "e51aebb4-40c5-4298-94b8-b4c7d266811a",
   "metadata": {},
   "source": [
    "Gated Recurrent Unit"
   ]
  },
  {
   "cell_type": "code",
   "execution_count": null,
   "id": "c85418e7-159d-4c6b-b669-2ec5cace1006",
   "metadata": {},
   "outputs": [],
   "source": [
    "inputs = tf.random.normal([32, 10, 8])\n",
    "gru = tf.keras.layers.GRU(4)\n",
    "output = gru(inputs)\n",
    "output.shape"
   ]
  },
  {
   "cell_type": "code",
   "execution_count": null,
   "id": "35978532-a31a-4e46-8ec8-e75ca2a1aeaa",
   "metadata": {},
   "outputs": [],
   "source": [
    "gru = tf.keras.layers.GRU(4, return_sequences=True, return_state=True)\n",
    "whole_sequence_output, final_state = gru(inputs)\n",
    "whole_sequence_output.shape"
   ]
  },
  {
   "cell_type": "code",
   "execution_count": null,
   "id": "c63e7ef5-10bf-4f09-8447-19eb3cf32a1b",
   "metadata": {},
   "outputs": [],
   "source": [
    "final_state.shape"
   ]
  },
  {
   "cell_type": "markdown",
   "id": "95901b36-1294-4b04-b6de-aafd2f35318c",
   "metadata": {},
   "source": [
    "**Capa SimpleRNN**"
   ]
  },
  {
   "cell_type": "markdown",
   "id": "b3d5fb37-02bd-4754-8c77-85d04bfd3b16",
   "metadata": {},
   "source": [
    "Full connected RNN"
   ]
  },
  {
   "cell_type": "code",
   "execution_count": null,
   "id": "c8ed172d-21c9-455c-8f7b-5fd633202425",
   "metadata": {},
   "outputs": [],
   "source": [
    "inputs = np.random.random([32, 10, 8]).astype(np.float32)\n",
    "simple_rnn = tf.keras.layers.SimpleRNN(4)\n",
    "\n",
    "output = simple_rnn(inputs)  # The output has shape `[32, 4]`.\n",
    "\n",
    "simple_rnn = tf.keras.layers.SimpleRNN(4, return_sequences=True, return_state=True)\n",
    "\n",
    "# whole_sequence_output has shape `[32, 10, 4]`.\n",
    "# final_state has shape `[32, 4]`.\n",
    "whole_sequence_output, final_state = simple_rnn(inputs)"
   ]
  },
  {
   "cell_type": "markdown",
   "id": "849dbe18-9946-4c78-a7ad-c1f5622abfa3",
   "metadata": {},
   "source": [
    "**Capa TimeDistributed**"
   ]
  },
  {
   "cell_type": "markdown",
   "id": "be31f84a-bbfe-47f4-957b-7e2372f1f7a6",
   "metadata": {},
   "source": [
    "Capa especializada para manejo de datos temporales"
   ]
  },
  {
   "cell_type": "code",
   "execution_count": null,
   "id": "947a56a4-6238-4f4a-9b0a-21b6f7f89f2a",
   "metadata": {},
   "outputs": [],
   "source": [
    "inputs = tf.keras.Input(shape=(10, 128, 128, 3))\n",
    "conv_2d_layer = tf.keras.layers.Conv2D(64, (3, 3))\n",
    "outputs = tf.keras.layers.TimeDistributed(conv_2d_layer)(inputs)\n",
    "outputs.shape"
   ]
  },
  {
   "cell_type": "markdown",
   "id": "c01f88cf-1737-473f-84df-8897381fbca1",
   "metadata": {},
   "source": [
    "**Capa Bidirectional**"
   ]
  },
  {
   "cell_type": "markdown",
   "id": "e5cb75e2-d969-49c7-9ccb-cf9ba336676c",
   "metadata": {},
   "source": [
    "Capas bidireccionales en redes recurrentes."
   ]
  },
  {
   "cell_type": "code",
   "execution_count": null,
   "id": "1ceba25e-9379-4f9d-87fa-df9deb9f55d9",
   "metadata": {},
   "outputs": [],
   "source": [
    "model = Sequential()\n",
    "model.add(Bidirectional(LSTM(10, return_sequences=True), input_shape=(5, 10)))\n",
    "model.add(Bidirectional(LSTM(10)))\n",
    "model.add(Dense(5))\n",
    "model.add(Activation(\"softmax\"))\n",
    "model.compile(loss=\"categorical_crossentropy\", optimizer=\"rmsprop\")"
   ]
  },
  {
   "cell_type": "code",
   "execution_count": null,
   "id": "d207c67a-c29b-407c-84d0-7b4d38c8299e",
   "metadata": {},
   "outputs": [],
   "source": [
    "model = Sequential()\n",
    "forward_layer = LSTM(10, return_sequences=True)\n",
    "backward_layer = LSTM(\n",
    "    10,\n",
    "    activation=\"relu\",\n",
    "    return_sequences=True,\n",
    "    go_backwards=True,\n",
    ")\n",
    "model.add(\n",
    "    Bidirectional(\n",
    "        forward_layer,\n",
    "        backward_layer=backward_layer,\n",
    "        input_shape=(5, 10),\n",
    "    )\n",
    ")\n",
    "model.add(Dense(5))\n",
    "model.add(Activation(\"softmax\"))\n",
    "model.compile(loss=\"categorical_crossentropy\", optimizer=\"rmsprop\")"
   ]
  },
  {
   "cell_type": "code",
   "execution_count": null,
   "id": "bdb08164-8603-416f-9f04-0231ba4b0850",
   "metadata": {},
   "outputs": [],
   "source": []
  },
  {
   "cell_type": "code",
   "execution_count": null,
   "id": "17039683-2312-4445-8b53-1bf2af575270",
   "metadata": {},
   "outputs": [],
   "source": []
  },
  {
   "cell_type": "code",
   "execution_count": null,
   "id": "0de262c8-a200-462a-9898-db5ee74b9ddb",
   "metadata": {},
   "outputs": [],
   "source": []
  },
  {
   "cell_type": "code",
   "execution_count": null,
   "id": "2e81b400-f501-4e08-9c09-5100bc0834ec",
   "metadata": {},
   "outputs": [],
   "source": []
  },
  {
   "cell_type": "code",
   "execution_count": null,
   "id": "65eb1a8a-c98d-4563-834e-7b5f482867d1",
   "metadata": {},
   "outputs": [],
   "source": []
  }
 ],
 "metadata": {
  "kernelspec": {
   "display_name": "Python 3 (ipykernel)",
   "language": "python",
   "name": "python3"
  },
  "language_info": {
   "codemirror_mode": {
    "name": "ipython",
    "version": 3
   },
   "file_extension": ".py",
   "mimetype": "text/x-python",
   "name": "python",
   "nbconvert_exporter": "python",
   "pygments_lexer": "ipython3",
   "version": "3.9.10"
  }
 },
 "nbformat": 4,
 "nbformat_minor": 5
}
