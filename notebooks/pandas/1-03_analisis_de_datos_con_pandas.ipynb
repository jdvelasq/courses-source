{
 "cells": [
  {
   "cell_type": "markdown",
   "metadata": {},
   "source": [
    "Análisis de datos usando Pandas\n",
    "===\n",
    "\n",
    "* *60 min* | Última modificación: Junio 22, 2019."
   ]
  },
  {
   "cell_type": "markdown",
   "metadata": {},
   "source": [
    "En este tutorial se presenta el análisis de una base de datos sobre vuelos usando Pndas. En este documento se ejemplifica el uso de DataFrames para la realización de consultas usando sus funciones nativas."
   ]
  },
  {
   "cell_type": "markdown",
   "metadata": {},
   "source": [
    "Este ejemplo está basado en el tutorial de Spark de HortoWorks, disponible en https://es.hortonworks.com/tutorial/learning-spark-sql-with-zeppelin/"
   ]
  },
  {
   "cell_type": "markdown",
   "metadata": {},
   "source": [
    "## Descripción de los campos del archivo"
   ]
  },
  {
   "cell_type": "markdown",
   "metadata": {},
   "source": [
    "El archivo usado contiene la información sobre vuelos entre 1987 y 2008, y cuenta con los siguientes campos:\n",
    "\n",
    "* Year: 1987-2008\n",
    "\n",
    "* Month: 1-12\n",
    "\n",
    "* DayofMonth: 1-31\n",
    "\n",
    "* DayOfWeek: 1 (Monday) - 7 (Sunday)\n",
    "\n",
    "* DepTime: actual departure time (local, hhmm)\n",
    "\n",
    "* CRSDepTime: scheduled departure time (local, hhmm)\n",
    "\n",
    "* ArrTime: actual arrival time (local, hhmm)\n",
    "\n",
    "* CRSArrTime: scheduled arrival time (local, hhmm)\n",
    "\n",
    "* UniqueCarrier: unique carrier code\n",
    "\n",
    "* FlightNum: flight number\n",
    "\n",
    "* TailNum: plane tail number\n",
    "\n",
    "* ActualElapsedTime: in minutes\n",
    "\n",
    "* CRSElapsedTime: in minutes\n",
    "\n",
    "* AirTime: in minutes\n",
    "\n",
    "* ArrDelay: arrival delay, in minutes\n",
    "\n",
    "* DepDelay: departure delay, in minutes\n",
    "\n",
    "* Origin: origin IATA airport code\n",
    "\n",
    "* Dest: destination IATA airport code\n",
    "\n",
    "* Distance: in miles\n",
    "\n",
    "* TaxiIn: taxi in time, in minutes\n",
    "\n",
    "* TaxiOut: taxi out time in minutes\n",
    "\n",
    "* Cancelled: was the flight cancelled?\n",
    "\n",
    "* CancellationCode: reason for cancellation (A = carrier, B = weather, C = NAS, D = security)\n",
    "\n",
    "* Diverted: 1 = yes, 0 = no\n",
    "\n",
    "* CarrierDelay: in minutes\n",
    "\n",
    "* WeatherDelay: in minutes\n",
    "\n",
    "* NASDelay: in minutes\n",
    "\n",
    "* SecurityDelay: in minutes\n",
    "\n",
    "* LateAircraftDelay: in minutes"
   ]
  },
  {
   "cell_type": "markdown",
   "metadata": {},
   "source": [
    "## Preparación"
   ]
  },
  {
   "cell_type": "code",
   "execution_count": 1,
   "metadata": {},
   "outputs": [],
   "source": [
    "## importa la librería\n",
    "import pandas as pd\n",
    "import numpy as np\n",
    "pd.set_option('display.notebook_repr_html', False)"
   ]
  },
  {
   "cell_type": "markdown",
   "metadata": {},
   "source": [
    "## Carga de datos en Pandas"
   ]
  },
  {
   "cell_type": "code",
   "execution_count": 2,
   "metadata": {},
   "outputs": [],
   "source": [
    "##\n",
    "## Crea un DataFrame a partir del archivo fligths.csv\n",
    "##\n",
    "flights = pd.read_csv(\n",
    "    \"https://raw.githubusercontent.com/jdvelasq/playground/master/datasets/flights.csv\",\n",
    "    sep = ',',         # separador de campos\n",
    "    thousands = None,  # separador de miles para números\n",
    "    decimal = '.')     # separador de los decimales para números"
   ]
  },
  {
   "cell_type": "code",
   "execution_count": 4,
   "metadata": {},
   "outputs": [
    {
     "data": {
      "text/plain": [
       "           Year     Month     DayofMonth      DayOfWeek       DepTime  \\\n",
       "count  100000.0  100000.0  100000.000000  100000.000000  98858.000000   \n",
       "mean     2008.0       1.0      17.087860       3.890040   1355.200722   \n",
       "std         0.0       0.0       8.356364       1.952999    464.089632   \n",
       "min      2008.0       1.0       1.000000       1.000000      1.000000   \n",
       "25%      2008.0       1.0      10.000000       2.000000    942.000000   \n",
       "50%      2008.0       1.0      17.000000       4.000000   1344.000000   \n",
       "75%      2008.0       1.0      24.000000       5.000000   1743.000000   \n",
       "max      2008.0       1.0      31.000000       7.000000   2359.000000   \n",
       "\n",
       "          CRSDepTime       ArrTime     CRSArrTime      FlightNum  \\\n",
       "count  100000.000000  98698.000000  100000.000000  100000.000000   \n",
       "mean     1341.989400   1492.739225    1502.601540    1510.648540   \n",
       "std       451.356984    496.376794     478.100216    1186.128598   \n",
       "min       600.000000      1.000000       5.000000       1.000000   \n",
       "25%       940.000000   1114.000000    1120.000000     502.000000   \n",
       "50%      1335.000000   1518.000000    1520.000000    1320.000000   \n",
       "75%      1730.000000   1913.000000    1910.000000    2362.000000   \n",
       "max      2235.000000   2400.000000    2355.000000    7676.000000   \n",
       "\n",
       "       ActualElapsedTime  ...       Distance        TaxiIn       TaxiOut  \\\n",
       "count       98698.000000  ...  100000.000000  98698.000000  98858.000000   \n",
       "mean          107.558502  ...     630.586320      4.768962     10.927765   \n",
       "std            55.350971  ...     437.357075      2.983635      5.989580   \n",
       "min            25.000000  ...      66.000000      1.000000      1.000000   \n",
       "25%            68.000000  ...     324.000000      3.000000      8.000000   \n",
       "50%            88.000000  ...     453.000000      4.000000      9.000000   \n",
       "75%           135.000000  ...     843.000000      5.000000     12.000000   \n",
       "max           382.000000  ...    2363.000000    213.000000    150.000000   \n",
       "\n",
       "           Cancelled       Diverted  CarrierDelay  WeatherDelay      NASDelay  \\\n",
       "count  100000.000000  100000.000000  19629.000000  19629.000000  19629.000000   \n",
       "mean        0.011420       0.001600      9.573488      2.036120      8.353151   \n",
       "std         0.106253       0.039968     21.836836     13.815868     18.826087   \n",
       "min         0.000000       0.000000      0.000000      0.000000      0.000000   \n",
       "25%         0.000000       0.000000      0.000000      0.000000      0.000000   \n",
       "50%         0.000000       0.000000      1.000000      0.000000      0.000000   \n",
       "75%         0.000000       0.000000     11.000000      0.000000     10.000000   \n",
       "max         1.000000       1.000000    431.000000    267.000000    366.000000   \n",
       "\n",
       "       SecurityDelay  LateAircraftDelay  \n",
       "count   19629.000000       19629.000000  \n",
       "mean        0.110805          29.343675  \n",
       "std         1.724888          39.753529  \n",
       "min         0.000000           0.000000  \n",
       "25%         0.000000           1.000000  \n",
       "50%         0.000000          18.000000  \n",
       "75%         0.000000          37.000000  \n",
       "max        88.000000         434.000000  \n",
       "\n",
       "[8 rows x 24 columns]"
      ]
     },
     "execution_count": 4,
     "metadata": {},
     "output_type": "execute_result"
    }
   ],
   "source": [
    "##\n",
    "## Se imprime el esquema para verificar la lectura\n",
    "## del archivo.\n",
    "##\n",
    "flights.describe()"
   ]
  },
  {
   "cell_type": "code",
   "execution_count": 5,
   "metadata": {},
   "outputs": [
    {
     "data": {
      "text/plain": [
       "  UniqueCarrier  FlightNum  DepDelay  ArrDelay  Distance\n",
       "0            WN        335       8.0     -14.0       810\n",
       "1            WN       3231      19.0       2.0       810\n",
       "2            WN        448       8.0      14.0       515\n",
       "3            WN       1746      -4.0      -6.0       515\n",
       "4            WN       3920      34.0      34.0       515"
      ]
     },
     "execution_count": 5,
     "metadata": {},
     "output_type": "execute_result"
    }
   ],
   "source": [
    "## \n",
    "## Se imprime un subconjunto de las columnas para verificar\n",
    "## la lectura\n",
    "##\n",
    "flights[['UniqueCarrier', 'FlightNum', 'DepDelay', 'ArrDelay', 'Distance']].head(5)"
   ]
  },
  {
   "cell_type": "code",
   "execution_count": 6,
   "metadata": {},
   "outputs": [
    {
     "data": {
      "text/plain": [
       "100000"
      ]
     },
     "execution_count": 6,
     "metadata": {},
     "output_type": "execute_result"
    }
   ],
   "source": [
    "##\n",
    "## Número total de registros leidos\n",
    "##\n",
    "numTotalFlights = len(flights)\n",
    "numTotalFlights"
   ]
  },
  {
   "cell_type": "markdown",
   "metadata": {},
   "source": [
    "## Cálculos usando funciones de los DataFrames"
   ]
  },
  {
   "cell_type": "markdown",
   "metadata": {},
   "source": [
    "### Cómputo del porcentaje de vuelos retrasados"
   ]
  },
  {
   "cell_type": "code",
   "execution_count": 7,
   "metadata": {},
   "outputs": [
    {
     "data": {
      "text/plain": [
       "   UniqueCarrier  DepDelay\n",
       "1             WN      19.0\n",
       "4             WN      34.0\n",
       "5             WN      25.0\n",
       "6             WN      67.0\n",
       "11            WN      94.0"
      ]
     },
     "execution_count": 7,
     "metadata": {},
     "output_type": "execute_result"
    }
   ],
   "source": [
    "##\n",
    "## La variable delayedFlights contiene las columnas UniqueCarrier y DepDelay \n",
    "## para los vuelos con DepDelay > 15 minutos.\n",
    "##\n",
    "delayedFlights = flights[flights['DepDelay'] > 15][['UniqueCarrier', 'DepDelay']]\n",
    "delayedFlights.head(5)"
   ]
  },
  {
   "cell_type": "code",
   "execution_count": 8,
   "metadata": {},
   "outputs": [
    {
     "name": "stdout",
     "output_type": "stream",
     "text": [
      "Porcentaje de vuelos retrasados: 19.587%\n"
     ]
    }
   ],
   "source": [
    "##\n",
    "## Porcentaje de vuelos retrasados.\n",
    "##\n",
    "numDelayedFlights = len(delayedFlights)\n",
    "print(\"Porcentaje de vuelos retrasados: \" + str(numDelayedFlights / numTotalFlights * 100) + \"%\")"
   ]
  },
  {
   "cell_type": "markdown",
   "metadata": {},
   "source": [
    "### Creación de variables usando funciones de usuario"
   ]
  },
  {
   "cell_type": "markdown",
   "metadata": {},
   "source": [
    "A continuación se desea crear una nueva columna llamada `IsDelayed` que vale 0 si el vuelo se realizó a tiempo y 1 si se retraso."
   ]
  },
  {
   "cell_type": "code",
   "execution_count": 9,
   "metadata": {},
   "outputs": [
    {
     "data": {
      "text/plain": [
       "   DepDelay  IsDelayed\n",
       "0       8.0          0\n",
       "1      19.0          1\n",
       "2       8.0          0\n",
       "3      -4.0          0\n",
       "4      34.0          1\n",
       "5      25.0          1\n",
       "6      67.0          1\n",
       "7      -1.0          0\n",
       "8       2.0          0\n",
       "9       0.0          0"
      ]
     },
     "execution_count": 9,
     "metadata": {},
     "output_type": "execute_result"
    }
   ],
   "source": [
    "flightsWithDelays = flights[['Year',\n",
    "                             'Month', \n",
    "                             'DayofMonth', \n",
    "                             'UniqueCarrier', \n",
    "                             'FlightNum', \n",
    "                             'DepDelay']].copy()\n",
    "\n",
    "flightsWithDelays['IsDelayed'] =  flightsWithDelays['DepDelay'].copy()\n",
    "flightsWithDelays['IsDelayed'] = flightsWithDelays['IsDelayed'].map(lambda x: 1 if x > 15 else 0)\n",
    "flightsWithDelays['IsDelayed'] = flightsWithDelays['IsDelayed'].map(lambda x: 0 if np.isnan(x) else x)\n",
    "\n",
    "flightsWithDelays[['DepDelay', 'IsDelayed']].head(10)"
   ]
  },
  {
   "cell_type": "code",
   "execution_count": 10,
   "metadata": {},
   "outputs": [
    {
     "data": {
      "text/plain": [
       "0.19813267515021546"
      ]
     },
     "execution_count": 10,
     "metadata": {},
     "output_type": "execute_result"
    }
   ],
   "source": [
    "## \n",
    "## A continuación, se calcula el porcentaje de vuelos con retrasos\n",
    "##\n",
    "flightsWithDelays.IsDelayed.sum() / flightsWithDelays.DepDelay.count()"
   ]
  },
  {
   "cell_type": "code",
   "execution_count": 12,
   "metadata": {},
   "outputs": [
    {
     "data": {
      "image/png": "[encoded data removed]",
      "text/plain": [
       "<Figure size 432x288 with 1 Axes>"
      ]
     },
     "metadata": {
      "needs_background": "light"
     },
     "output_type": "display_data"
    }
   ],
   "source": [
    "##\n",
    "## Retrasos por transportador\n",
    "##\n",
    "%matplotlib inline\n",
    "flights['IsDelayed'] = flights['DepDelay'].copy()\n",
    "flights['IsDelayed'] = flights['IsDelayed'].map(lambda x: 1 if x > 15 else 0)\n",
    "flights['IsDelayed'] = flights['IsDelayed'].map(lambda x: 0 if np.isnan(x) else x)\n",
    "(flights.groupby('UniqueCarrier').sum())[\"IsDelayed\"].plot.bar();"
   ]
  },
  {
   "cell_type": "markdown",
   "metadata": {},
   "source": [
    "### Retrasos por día de la semana"
   ]
  },
  {
   "cell_type": "code",
   "execution_count": 13,
   "metadata": {},
   "outputs": [
    {
     "data": {
      "image/png": "[encoded data removed]",
      "text/plain": [
       "<Figure size 432x288 with 1 Axes>"
      ]
     },
     "metadata": {
      "needs_background": "light"
     },
     "output_type": "display_data"
    }
   ],
   "source": [
    "##\n",
    "## Compute los retrasos por dia de la semana\n",
    "##\n",
    "(flights.groupby('DayOfWeek').sum())[\"IsDelayed\"].plot.bar();"
   ]
  },
  {
   "cell_type": "markdown",
   "metadata": {},
   "source": [
    "### Retrasos por hora del día"
   ]
  },
  {
   "cell_type": "code",
   "execution_count": 23,
   "metadata": {},
   "outputs": [
    {
     "data": {
      "image/png": "[encoded data removed]",
      "text/plain": [
       "<Figure size 432x288 with 1 Axes>"
      ]
     },
     "metadata": {
      "needs_background": "light"
     },
     "output_type": "display_data"
    }
   ],
   "source": [
    "##\n",
    "## Compute los retrasos por hora del dia\n",
    "##\n",
    "flights['hour'] = flights['DepTime'].copy()\n",
    "flights['hour'] = flights['hour'].map(lambda x: int(x/100) if not np.isnan(x) else x)\n",
    "(flights.groupby('hour').sum())[\"IsDelayed\"].plot.bar();"
   ]
  }
 ],
 "metadata": {
  "kernelspec": {
   "display_name": "Python 3",
   "language": "python",
   "name": "python3"
  },
  "language_info": {
   "codemirror_mode": {
    "name": "ipython",
    "version": 3
   },
   "file_extension": ".py",
   "mimetype": "text/x-python",
   "name": "python",
   "nbconvert_exporter": "python",
   "pygments_lexer": "ipython3",
   "version": "3.6.8"
  },
  "toc-autonumbering": false
 },
 "nbformat": 4,
 "nbformat_minor": 2
}
