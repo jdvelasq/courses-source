{
 "cells": [
  {
   "cell_type": "markdown",
   "metadata": {},
   "source": [
    "# Procesamiento de datos con Pandas\n",
    "\n",
    "* *60 min* | Última modificación: Junio 22, 2019."
   ]
  },
  {
   "cell_type": "markdown",
   "metadata": {},
   "source": [
    "Este tutorial esta basado en https://es.hortonworks.com/tutorial/how-to-process-data-with-apache-hive/\n",
    "\n",
    "El objetivo de este tutorial es demostrar las características de Pandas para analizar, procesar y filtrar los datos existentes en archivos planos de forma similar al lenguaje SQL estándar.\n"
   ]
  },
  {
   "cell_type": "markdown",
   "metadata": {},
   "source": [
    "## Preparación"
   ]
  },
  {
   "cell_type": "markdown",
   "metadata": {},
   "source": [
    "Los datos se encuentran almacenados en la carpeta `files/drivers` del directorio actual."
   ]
  },
  {
   "cell_type": "code",
   "execution_count": 1,
   "metadata": {},
   "outputs": [],
   "source": [
    "## importa la librería\n",
    "import pandas as pd\n",
    "import numpy as np\n",
    "\n",
    "pd.set_option(\"display.notebook_repr_html\", False)"
   ]
  },
  {
   "cell_type": "code",
   "execution_count": 2,
   "metadata": {},
   "outputs": [
    {
     "name": "stdout",
     "output_type": "stream",
     "text": [
      "ls: cannot access 'files/drivers/*': No such file or directory\n"
     ]
    }
   ],
   "source": [
    "##\n",
    "## Lista los archivos.\n",
    "##\n",
    "!ls -1 files/drivers/*"
   ]
  },
  {
   "cell_type": "markdown",
   "metadata": {},
   "source": [
    "El contenido de un archivo puede ser visualizado parcialmente usando el comando `head`. Se usa para realizar una inspección rápida del contenido de los archivos."
   ]
  },
  {
   "cell_type": "code",
   "execution_count": 3,
   "metadata": {},
   "outputs": [
    {
     "name": "stdout",
     "output_type": "stream",
     "text": [
      "head: cannot open 'files/drivers/drivers.csv' for reading: No such file or directory\n"
     ]
    }
   ],
   "source": [
    "##\n",
    "## Se imprime el final del archivo drivers\n",
    "##\n",
    "!head files/drivers/drivers.csv"
   ]
  },
  {
   "cell_type": "code",
   "execution_count": 4,
   "metadata": {},
   "outputs": [
    {
     "name": "stdout",
     "output_type": "stream",
     "text": [
      "head: cannot open 'files/drivers/timesheet.csv' for reading: No such file or directory\n"
     ]
    }
   ],
   "source": [
    "!head files/drivers/timesheet.csv"
   ]
  },
  {
   "cell_type": "markdown",
   "metadata": {},
   "source": [
    "## Creación de la tabla `drivers`"
   ]
  },
  {
   "cell_type": "markdown",
   "metadata": {},
   "source": [
    "A continuación se crea la tabla `drivers`como un DataFrame de Pandas."
   ]
  },
  {
   "cell_type": "code",
   "execution_count": 5,
   "metadata": {},
   "outputs": [],
   "source": [
    "drivers = pd.read_csv(\n",
    "    \"https://raw.githubusercontent.com/jdvelasq/playground/master/datasets/drivers/drivers.csv\",\n",
    "    sep=\",\",  # separador de campos\n",
    "    thousands=None,  #  separador de miles para números\n",
    "    decimal=\".\",\n",
    ")  #  separador de los decimales para números"
   ]
  },
  {
   "cell_type": "markdown",
   "metadata": {},
   "source": [
    "Se obtiene los primeros 10 registros de la tabla para realizar una inspección rápida de los datos y verificar que los datos fueron cargados correctamente."
   ]
  },
  {
   "cell_type": "code",
   "execution_count": 6,
   "metadata": {},
   "outputs": [
    {
     "data": {
      "text/plain": [
       "   driverId               name        ssn                            location  \\\n",
       "0        10  George Vetticaden  621011971                  244-4532 Nulla Rd.   \n",
       "1        11     Jamie Engesser  262112338                  366-4125 Ac Street   \n",
       "2        12        Paul Coddin  198041975           Ap #622-957 Risus. Street   \n",
       "3        13        Joe Niemiec  139907145                 2071 Hendrerit. Ave   \n",
       "4        14         Adis Cesir  820812209                 Ap #810-1228 In St.   \n",
       "5        15       Rohit Bakshi  239005227                   648-5681 Dui- Rd.   \n",
       "6        16         Tom McCuch  363303105    P.O. Box 313- 962 Parturient Rd.   \n",
       "7        17        Eric Mizell  123808238  P.O. Box 579- 2191 Gravida. Street   \n",
       "8        18          Grant Liu  171010151         Ap #928-3159 Vestibulum Av.   \n",
       "9        19         Ajay Singh  160005158             592-9430 Nonummy Avenue   \n",
       "\n",
       "  certified wage-plan  \n",
       "0         N     miles  \n",
       "1         N     miles  \n",
       "2         Y     hours  \n",
       "3         Y     hours  \n",
       "4         Y     hours  \n",
       "5         Y     hours  \n",
       "6         Y     hours  \n",
       "7         Y     hours  \n",
       "8         Y     hours  \n",
       "9         Y     hours  "
      ]
     },
     "execution_count": 6,
     "metadata": {},
     "output_type": "execute_result"
    }
   ],
   "source": [
    "drivers.head(10)"
   ]
  },
  {
   "cell_type": "markdown",
   "metadata": {},
   "source": [
    "## Creación de la tabla `timesheet`"
   ]
  },
  {
   "cell_type": "markdown",
   "metadata": {},
   "source": [
    "Se procede a crear la tabla y cargar los datos para el archivo `time_sheet`."
   ]
  },
  {
   "cell_type": "code",
   "execution_count": 7,
   "metadata": {},
   "outputs": [],
   "source": [
    "timesheet = pd.read_csv(\n",
    "    \"https://raw.githubusercontent.com/jdvelasq/playground/master/datasets/drivers/timesheet.csv\",\n",
    "    sep=\",\",  # separador de campos\n",
    "    thousands=None,  #  separador de miles para números\n",
    "    decimal=\".\",\n",
    ")  #  separador de los decimales para números"
   ]
  },
  {
   "cell_type": "code",
   "execution_count": 8,
   "metadata": {},
   "outputs": [
    {
     "data": {
      "text/plain": [
       "   driverId  week  hours-logged  miles-logged\n",
       "0        10     1            70          3300\n",
       "1        10     2            70          3300\n",
       "2        10     3            60          2800\n",
       "3        10     4            70          3100\n",
       "4        10     5            70          3200\n",
       "5        10     6            70          3300\n",
       "6        10     7            70          3000\n",
       "7        10     8            70          3300\n",
       "8        10     9            70          3200\n",
       "9        10    10            50          2500"
      ]
     },
     "execution_count": 8,
     "metadata": {},
     "output_type": "execute_result"
    }
   ],
   "source": [
    "timesheet.head(10)"
   ]
  },
  {
   "cell_type": "markdown",
   "metadata": {},
   "source": [
    "## Cantidad de horas y millas de cada conductor por año"
   ]
  },
  {
   "cell_type": "markdown",
   "metadata": {},
   "source": [
    "En la siguiente consulta se desea obtener para cada conductor la cantidad de horas y millas por año."
   ]
  },
  {
   "cell_type": "code",
   "execution_count": 9,
   "metadata": {},
   "outputs": [
    {
     "data": {
      "text/plain": [
       "          week  hours-logged  miles-logged\n",
       "driverId                                  \n",
       "10        1378          3232        147150\n",
       "11        1378          3642        179300\n",
       "12        1378          2639        135962\n",
       "13        1378          2727        134126\n",
       "14        1378          2781        136624"
      ]
     },
     "execution_count": 9,
     "metadata": {},
     "output_type": "execute_result"
    }
   ],
   "source": [
    "sum_timesheet = timesheet.groupby(\"driverId\").sum()\n",
    "sum_timesheet.head()"
   ]
  },
  {
   "cell_type": "code",
   "execution_count": 10,
   "metadata": {},
   "outputs": [
    {
     "data": {
      "text/plain": [
       "          hours-logged  miles-logged\n",
       "driverId                            \n",
       "10                3232        147150\n",
       "11                3642        179300\n",
       "12                2639        135962\n",
       "13                2727        134126\n",
       "14                2781        136624"
      ]
     },
     "execution_count": 10,
     "metadata": {},
     "output_type": "execute_result"
    }
   ],
   "source": [
    "sum_timesheet = sum_timesheet[[\"hours-logged\", \"miles-logged\"]]\n",
    "sum_timesheet.head()"
   ]
  },
  {
   "cell_type": "code",
   "execution_count": 11,
   "metadata": {},
   "outputs": [],
   "source": [
    "# sum_timesheet['driverId'] = sum_timesheet.index.tolist()\n",
    "# sum_timesheet.head()"
   ]
  },
  {
   "cell_type": "markdown",
   "metadata": {},
   "source": [
    "## Unión de las tablas"
   ]
  },
  {
   "cell_type": "markdown",
   "metadata": {},
   "source": [
    "El paso final consiste en agregar el nombre del conductor de la tabla `drivers` con la cantidad de horas y millas por año."
   ]
  },
  {
   "cell_type": "code",
   "execution_count": 12,
   "metadata": {},
   "outputs": [
    {
     "data": {
      "text/plain": [
       "    driverId  hours-logged  miles-logged                 name\n",
       "0         10          3232        147150    George Vetticaden\n",
       "1         11          3642        179300       Jamie Engesser\n",
       "2         12          2639        135962          Paul Coddin\n",
       "3         13          2727        134126          Joe Niemiec\n",
       "4         14          2781        136624           Adis Cesir\n",
       "5         15          2734        138750         Rohit Bakshi\n",
       "6         16          2746        137205           Tom McCuch\n",
       "7         17          2701        135992          Eric Mizell\n",
       "8         18          2654        137834            Grant Liu\n",
       "9         19          2738        137968           Ajay Singh\n",
       "10        20          2644        134564         Chris Harris\n",
       "11        21          2751        138719         Jeff Markham\n",
       "12        22          2733        137550        Nadeem Asghar\n",
       "13        23          2750        137980            Adam Diaz\n",
       "14        24          2647        134461          Don Hilborn\n",
       "15        25          2723        139180  Jean-Philippe Playe\n",
       "16        26          2730        137530         Michael Aube\n",
       "17        27          2771        137922      Mark Lochbihler\n",
       "18        28          2723        137469      Olivier Renault\n",
       "19        29          2760        138255           Teddy Choi\n",
       "20        30          2773        137473             Dan Rice\n",
       "21        31          2704        137057        Rommel Garcia\n",
       "22        32          2736        137422       Ryan Templeton\n",
       "23        33          2759        139285    Sridhara Sabbella\n",
       "24        34          2811        137728         Frank Romano\n",
       "25        35          2728        138727          Emil Siemes\n",
       "26        36          2795        138025        Andrew Grande\n",
       "27        37          2694        137223            Wes Floyd\n",
       "28        38          2760        137464           Scott Shaw\n",
       "29        39          2745        138788         David Kaiser\n",
       "30        40          2700        136931     Nicolas Maillard\n",
       "31        41          2723        138407        Greg Phillips\n",
       "32        42          2697        136673      Randy Gelhausen\n",
       "33        43          2750        136993          Dave Patton"
      ]
     },
     "execution_count": 12,
     "metadata": {},
     "output_type": "execute_result"
    }
   ],
   "source": [
    "summary = pd.merge(sum_timesheet, drivers[[\"driverId\", \"name\"]], on=\"driverId\")\n",
    "summary"
   ]
  },
  {
   "cell_type": "markdown",
   "metadata": {},
   "source": [
    "## Almacenamiento de los resultados"
   ]
  },
  {
   "cell_type": "markdown",
   "metadata": {},
   "source": [
    "Finalmente, se almacena la tabla final obtenida en el archivo `tmp/summary.csv` para que otras aplicaciones puedan usar estos resultados."
   ]
  },
  {
   "cell_type": "code",
   "execution_count": 13,
   "metadata": {},
   "outputs": [],
   "source": [
    "!mkdir -p tmp\n",
    "summary.to_csv(\n",
    "    'tmp/summary.csv',\n",
    "    sep = ',',\n",
    "    header = True,\n",
    "    index = False)"
   ]
  },
  {
   "cell_type": "code",
   "execution_count": 14,
   "metadata": {},
   "outputs": [
    {
     "name": "stdout",
     "output_type": "stream",
     "text": [
      "driverId,hours-logged,miles-logged,name\n",
      "10,3232,147150,George Vetticaden\n",
      "11,3642,179300,Jamie Engesser\n",
      "12,2639,135962,Paul Coddin\n",
      "13,2727,134126,Joe Niemiec\n",
      "14,2781,136624,Adis Cesir\n",
      "15,2734,138750,Rohit Bakshi\n",
      "16,2746,137205,Tom McCuch\n",
      "17,2701,135992,Eric Mizell\n",
      "18,2654,137834,Grant Liu\n"
     ]
    }
   ],
   "source": [
    "!head tmp/summary.csv"
   ]
  }
 ],
 "metadata": {
  "kernelspec": {
   "display_name": "Python 3",
   "language": "python",
   "name": "python3"
  },
  "language_info": {
   "codemirror_mode": {
    "name": "ipython",
    "version": 3
   },
   "file_extension": ".py",
   "mimetype": "text/x-python",
   "name": "python",
   "nbconvert_exporter": "python",
   "pygments_lexer": "ipython3",
   "version": "3.6.8"
  }
 },
 "nbformat": 4,
 "nbformat_minor": 4
}
