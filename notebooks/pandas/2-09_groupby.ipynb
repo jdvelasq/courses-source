{
 "cells": [
  {
   "cell_type": "markdown",
   "metadata": {
    "tags": []
   },
   "source": [
    "Agrupamiento y filtrado --- 13:07 min\n",
    "===\n",
    "\n",
    "* 13:07 min | Última modificación: Octubre 6, 2021 | [YouTube](https://youtu.be/5OUSeVC11Hw)"
   ]
  },
  {
   "cell_type": "markdown",
   "metadata": {},
   "source": [
    "Este tutorial esta basado en https://es.hortonworks.com/tutorial/how-to-process-data-with-apache-hive/"
   ]
  },
  {
   "cell_type": "markdown",
   "metadata": {
    "tags": []
   },
   "source": [
    "## Definición del problema"
   ]
  },
  {
   "cell_type": "markdown",
   "metadata": {},
   "source": [
    "A partir de la información contenida en las siguientes tablas, se desea crear una tabla que resume por cada conductor la suma de la cantidad de millas y horas."
   ]
  },
  {
   "cell_type": "markdown",
   "metadata": {},
   "source": [
    "![drivers](assets/drivers.jpg)"
   ]
  },
  {
   "cell_type": "markdown",
   "metadata": {},
   "source": [
    "## Preparación"
   ]
  },
  {
   "cell_type": "code",
   "execution_count": 3,
   "metadata": {},
   "outputs": [],
   "source": [
    "import matplotlib\n",
    "import matplotlib.pyplot as plt\n",
    "import numpy as np\n",
    "import pandas as pd\n",
    "\n",
    "pd.set_option(\"display.notebook_repr_html\", False)"
   ]
  },
  {
   "cell_type": "markdown",
   "metadata": {},
   "source": [
    "## Creación de la tabla `drivers`"
   ]
  },
  {
   "cell_type": "markdown",
   "metadata": {},
   "source": [
    "A continuación se crea la tabla `drivers`como un DataFrame de Pandas."
   ]
  },
  {
   "cell_type": "code",
   "execution_count": 4,
   "metadata": {},
   "outputs": [],
   "source": [
    "drivers = pd.read_csv(\n",
    "    \"https://raw.githubusercontent.com/jdvelasq/playground/master/datasets/drivers/drivers.csv\",\n",
    "    sep=\",\",  \n",
    "    thousands=None,\n",
    "    decimal=\".\",\n",
    ")"
   ]
  },
  {
   "cell_type": "markdown",
   "metadata": {},
   "source": [
    "Se obtiene los primeros cinco registros de la tabla para realizar una inspección rápida de los datos y verificar que los datos fueron cargados correctamente."
   ]
  },
  {
   "cell_type": "code",
   "execution_count": 5,
   "metadata": {},
   "outputs": [
    {
     "data": {
      "text/plain": [
       "   driverId               name        ssn                   location  \\\n",
       "0        10  George Vetticaden  621011971         244-4532 Nulla Rd.   \n",
       "1        11     Jamie Engesser  262112338         366-4125 Ac Street   \n",
       "2        12        Paul Coddin  198041975  Ap #622-957 Risus. Street   \n",
       "3        13        Joe Niemiec  139907145        2071 Hendrerit. Ave   \n",
       "4        14         Adis Cesir  820812209        Ap #810-1228 In St.   \n",
       "\n",
       "  certified wage-plan  \n",
       "0         N     miles  \n",
       "1         N     miles  \n",
       "2         Y     hours  \n",
       "3         Y     hours  \n",
       "4         Y     hours  "
      ]
     },
     "execution_count": 5,
     "metadata": {},
     "output_type": "execute_result"
    }
   ],
   "source": [
    "drivers.head()"
   ]
  },
  {
   "cell_type": "markdown",
   "metadata": {},
   "source": [
    "## Creación de la tabla `timesheet`"
   ]
  },
  {
   "cell_type": "code",
   "execution_count": 6,
   "metadata": {},
   "outputs": [
    {
     "data": {
      "text/plain": [
       "   driverId  week  hours-logged  miles-logged\n",
       "0        10     1            70          3300\n",
       "1        10     2            70          3300\n",
       "2        10     3            60          2800\n",
       "3        10     4            70          3100\n",
       "4        10     5            70          3200"
      ]
     },
     "metadata": {},
     "output_type": "display_data"
    },
    {
     "data": {
      "text/plain": [
       "'len: 1768'"
      ]
     },
     "metadata": {},
     "output_type": "display_data"
    }
   ],
   "source": [
    "timesheet = pd.read_csv(\n",
    "    \"https://raw.githubusercontent.com/jdvelasq/playground/master/datasets/drivers/timesheet.csv\",\n",
    "    sep=\",\",  \n",
    "    thousands=None, \n",
    "    decimal=\".\",\n",
    ")\n",
    "\n",
    "display(timesheet.head(), 'len: ' + str(len(timesheet)))"
   ]
  },
  {
   "cell_type": "markdown",
   "metadata": {},
   "source": [
    "## Media de la cantidad de horas y millas de cada conductor por año"
   ]
  },
  {
   "cell_type": "code",
   "execution_count": 5,
   "metadata": {},
   "outputs": [
    {
     "data": {
      "text/plain": [
       "          week  hours-logged  miles-logged\n",
       "driverId                                  \n",
       "10        26.5     62.153846   2829.807692\n",
       "11        26.5     70.038462   3448.076923\n",
       "12        26.5     50.750000   2614.653846\n",
       "13        26.5     52.442308   2579.346154\n",
       "14        26.5     53.480769   2627.384615"
      ]
     },
     "execution_count": 5,
     "metadata": {},
     "output_type": "execute_result"
    }
   ],
   "source": [
    "mean_timesheet = timesheet.groupby(\"driverId\").mean()\n",
    "mean_timesheet.head()"
   ]
  },
  {
   "cell_type": "code",
   "execution_count": 6,
   "metadata": {},
   "outputs": [
    {
     "data": {
      "text/plain": [
       "          hours-logged  miles-logged\n",
       "driverId                            \n",
       "10           62.153846   2829.807692\n",
       "11           70.038462   3448.076923\n",
       "12           50.750000   2614.653846\n",
       "13           52.442308   2579.346154\n",
       "14           53.480769   2627.384615"
      ]
     },
     "execution_count": 6,
     "metadata": {},
     "output_type": "execute_result"
    }
   ],
   "source": [
    "#\n",
    "# Eliminación de la columna 'week'\n",
    "#\n",
    "mean_timesheet.pop('week')\n",
    "mean_timesheet.head()"
   ]
  },
  {
   "cell_type": "markdown",
   "metadata": {},
   "source": [
    "## Registros con valores por debajo de la media del grupo"
   ]
  },
  {
   "cell_type": "code",
   "execution_count": 7,
   "metadata": {},
   "outputs": [
    {
     "data": {
      "text/plain": [
       "0    62.153846\n",
       "1    62.153846\n",
       "2    62.153846\n",
       "3    62.153846\n",
       "4    62.153846\n",
       "Name: hours-logged, dtype: float64"
      ]
     },
     "metadata": {},
     "output_type": "display_data"
    },
    {
     "data": {
      "text/plain": [
       "1768"
      ]
     },
     "metadata": {},
     "output_type": "display_data"
    }
   ],
   "source": [
    "mean_hours_logged_by_driver = timesheet.groupby(\"driverId\")[\"hours-logged\"].transform(\n",
    "    \"mean\"\n",
    ")\n",
    "display(mean_hours_logged_by_driver.head(), len(mean_hours_logged_by_driver))"
   ]
  },
  {
   "cell_type": "code",
   "execution_count": 8,
   "metadata": {},
   "outputs": [
    {
     "data": {
      "text/plain": [
       "   driverId  week  hours-logged  miles-logged  mean_hours-logged\n",
       "0        10     1            70          3300          62.153846\n",
       "1        10     2            70          3300          62.153846\n",
       "2        10     3            60          2800          62.153846\n",
       "3        10     4            70          3100          62.153846\n",
       "4        10     5            70          3200          62.153846"
      ]
     },
     "execution_count": 8,
     "metadata": {},
     "output_type": "execute_result"
    }
   ],
   "source": [
    "timesheet_with_means = timesheet.copy()\n",
    "timesheet_with_means[\"mean_hours-logged\"] = mean_hours_logged_by_driver\n",
    "timesheet_with_means.head()"
   ]
  },
  {
   "cell_type": "code",
   "execution_count": 9,
   "metadata": {},
   "outputs": [
    {
     "data": {
      "text/plain": [
       "    driverId  week  hours-logged  miles-logged  mean_hours-logged\n",
       "2         10     3            60          2800          62.153846\n",
       "9         10    10            50          2500          62.153846\n",
       "19        10    20            30          1200          62.153846\n",
       "20        10    21            50          2500          62.153846\n",
       "25        10    26            60          2600          62.153846"
      ]
     },
     "metadata": {},
     "output_type": "display_data"
    },
    {
     "data": {
      "text/plain": [
       "      driverId  week  hours-logged  miles-logged  mean_hours-logged\n",
       "1756        43    41            51          2701          52.884615\n",
       "1760        43    45            46          2671          52.884615\n",
       "1762        43    47            50          2572          52.884615\n",
       "1763        43    48            52          2517          52.884615\n",
       "1767        43    52            48          2764          52.884615"
      ]
     },
     "metadata": {},
     "output_type": "display_data"
    }
   ],
   "source": [
    "timesheet_below = timesheet_with_means[\n",
    "    timesheet_with_means[\"hours-logged\"] < timesheet_with_means[\"mean_hours-logged\"]\n",
    "]\n",
    "display(timesheet_below.head(), timesheet_below.tail())"
   ]
  },
  {
   "cell_type": "markdown",
   "metadata": {},
   "source": [
    "## Cómputo de la cantidad de horas y millas de cada conductor por año"
   ]
  },
  {
   "cell_type": "code",
   "execution_count": 10,
   "metadata": {},
   "outputs": [
    {
     "data": {
      "text/plain": [
       "          week  hours-logged  miles-logged\n",
       "driverId                                  \n",
       "10        1378          3232        147150\n",
       "11        1378          3642        179300\n",
       "12        1378          2639        135962\n",
       "13        1378          2727        134126\n",
       "14        1378          2781        136624\n",
       "15        1378          2734        138750\n",
       "16        1378          2746        137205\n",
       "17        1378          2701        135992\n",
       "18        1378          2654        137834\n",
       "19        1378          2738        137968"
      ]
     },
     "execution_count": 10,
     "metadata": {},
     "output_type": "execute_result"
    }
   ],
   "source": [
    "#\n",
    "# Suma por grupo de todas las columnas numéricas\n",
    "#\n",
    "sum_timesheet = timesheet.groupby(\"driverId\").sum()\n",
    "sum_timesheet.head(10)"
   ]
  },
  {
   "cell_type": "code",
   "execution_count": 11,
   "metadata": {},
   "outputs": [
    {
     "data": {
      "text/plain": [
       "          hours-logged  miles-logged\n",
       "driverId                            \n",
       "10                3232        147150\n",
       "11                3642        179300\n",
       "12                2639        135962\n",
       "13                2727        134126\n",
       "14                2781        136624"
      ]
     },
     "execution_count": 11,
     "metadata": {},
     "output_type": "execute_result"
    }
   ],
   "source": [
    "#\n",
    "# Se elimina la columna week\n",
    "#\n",
    "sum_timesheet = sum_timesheet[[\"hours-logged\", \"miles-logged\"]]\n",
    "sum_timesheet.head()"
   ]
  },
  {
   "cell_type": "code",
   "execution_count": 12,
   "metadata": {},
   "outputs": [
    {
     "data": {
      "text/plain": [
       "0       3232\n",
       "1       3232\n",
       "2       3232\n",
       "3       3232\n",
       "4       3232\n",
       "        ... \n",
       "1763    2750\n",
       "1764    2750\n",
       "1765    2750\n",
       "1766    2750\n",
       "1767    2750\n",
       "Name: hours-logged, Length: 1768, dtype: int64"
      ]
     },
     "execution_count": 12,
     "metadata": {},
     "output_type": "execute_result"
    }
   ],
   "source": [
    "#\n",
    "# Filtrado\n",
    "#\n",
    "timesheet.groupby(\"driverId\")['hours-logged'].transform('sum')"
   ]
  },
  {
   "cell_type": "code",
   "execution_count": 19,
   "metadata": {},
   "outputs": [
    {
     "data": {
      "text/plain": [
       "          min  max\n",
       "driverId          \n",
       "10          0   76\n",
       "11          0   92\n",
       "12          0   60\n",
       "13         10   60\n",
       "14         45   60\n",
       "15         45   60\n",
       "16         45   60\n",
       "17         20   60\n",
       "18         45   60\n",
       "19         45   60\n",
       "20          0   60\n",
       "21         45   60\n",
       "22         45   60\n",
       "23         45   60\n",
       "24          0   60\n",
       "25         45   60\n",
       "26         45   60\n",
       "27         45   60\n",
       "28         45   60\n",
       "29         45   60\n",
       "30         45   60\n",
       "31         45   60\n",
       "32         45   60\n",
       "33         46   60\n",
       "34         45   60\n",
       "35         45   60\n",
       "36         45   60\n",
       "37         45   59\n",
       "38         45   60\n",
       "39         45   60\n",
       "40         45   60\n",
       "41         45   60\n",
       "42         45   60\n",
       "43         46   60"
      ]
     },
     "execution_count": 19,
     "metadata": {},
     "output_type": "execute_result"
    }
   ],
   "source": [
    "timesheet.groupby(\"driverId\")['hours-logged'].agg([min, max])"
   ]
  },
  {
   "cell_type": "markdown",
   "metadata": {},
   "source": [
    "## Unión de las tablas usando join"
   ]
  },
  {
   "cell_type": "code",
   "execution_count": 14,
   "metadata": {},
   "outputs": [
    {
     "data": {
      "text/plain": [
       "    driverId  hours-logged  miles-logged                 name\n",
       "0         10          3232        147150    George Vetticaden\n",
       "1         11          3642        179300       Jamie Engesser\n",
       "2         12          2639        135962          Paul Coddin\n",
       "3         13          2727        134126          Joe Niemiec\n",
       "4         14          2781        136624           Adis Cesir\n",
       "5         15          2734        138750         Rohit Bakshi\n",
       "6         16          2746        137205           Tom McCuch\n",
       "7         17          2701        135992          Eric Mizell\n",
       "8         18          2654        137834            Grant Liu\n",
       "9         19          2738        137968           Ajay Singh\n",
       "10        20          2644        134564         Chris Harris\n",
       "11        21          2751        138719         Jeff Markham\n",
       "12        22          2733        137550        Nadeem Asghar\n",
       "13        23          2750        137980            Adam Diaz\n",
       "14        24          2647        134461          Don Hilborn\n",
       "15        25          2723        139180  Jean-Philippe Playe\n",
       "16        26          2730        137530         Michael Aube\n",
       "17        27          2771        137922      Mark Lochbihler\n",
       "18        28          2723        137469      Olivier Renault\n",
       "19        29          2760        138255           Teddy Choi\n",
       "20        30          2773        137473             Dan Rice\n",
       "21        31          2704        137057        Rommel Garcia\n",
       "22        32          2736        137422       Ryan Templeton\n",
       "23        33          2759        139285    Sridhara Sabbella\n",
       "24        34          2811        137728         Frank Romano\n",
       "25        35          2728        138727          Emil Siemes\n",
       "26        36          2795        138025        Andrew Grande\n",
       "27        37          2694        137223            Wes Floyd\n",
       "28        38          2760        137464           Scott Shaw\n",
       "29        39          2745        138788         David Kaiser\n",
       "30        40          2700        136931     Nicolas Maillard\n",
       "31        41          2723        138407        Greg Phillips\n",
       "32        42          2697        136673      Randy Gelhausen\n",
       "33        43          2750        136993          Dave Patton"
      ]
     },
     "execution_count": 14,
     "metadata": {},
     "output_type": "execute_result"
    }
   ],
   "source": [
    "summary = pd.merge(\n",
    "    sum_timesheet,\n",
    "    drivers[[\"driverId\", \"name\"]],\n",
    "    on=\"driverId\",\n",
    ")\n",
    "summary"
   ]
  },
  {
   "cell_type": "markdown",
   "metadata": {},
   "source": [
    "## Almacenamiento de los resultados"
   ]
  },
  {
   "cell_type": "code",
   "execution_count": 15,
   "metadata": {},
   "outputs": [
    {
     "name": "stdout",
     "output_type": "stream",
     "text": [
      "driverId,hours-logged,miles-logged,name\n",
      "10,3232,147150,George Vetticaden\n",
      "11,3642,179300,Jamie Engesser\n",
      "12,2639,135962,Paul Coddin\n",
      "13,2727,134126,Joe Niemiec\n",
      "14,2781,136624,Adis Cesir\n",
      "15,2734,138750,Rohit Bakshi\n",
      "16,2746,137205,Tom McCuch\n",
      "17,2701,135992,Eric Mizell\n",
      "18,2654,137834,Grant Liu\n"
     ]
    }
   ],
   "source": [
    "summary.to_csv(\n",
    "    '/tmp/summary.csv',\n",
    "    sep = ',',\n",
    "    header = True,\n",
    "    index = False,\n",
    ")\n",
    "\n",
    "#\n",
    "# Visualización del contenido del archivo\n",
    "#\n",
    "!head /tmp/summary.csv"
   ]
  },
  {
   "cell_type": "markdown",
   "metadata": {},
   "source": [
    "## Ordenamiento por la cantidad de millas registradas"
   ]
  },
  {
   "cell_type": "code",
   "execution_count": 16,
   "metadata": {},
   "outputs": [
    {
     "data": {
      "text/plain": [
       "    driverId  hours-logged  miles-logged                 name\n",
       "1         11          3642        179300       Jamie Engesser\n",
       "0         10          3232        147150    George Vetticaden\n",
       "23        33          2759        139285    Sridhara Sabbella\n",
       "15        25          2723        139180  Jean-Philippe Playe\n",
       "29        39          2745        138788         David Kaiser\n",
       "5         15          2734        138750         Rohit Bakshi\n",
       "25        35          2728        138727          Emil Siemes\n",
       "11        21          2751        138719         Jeff Markham\n",
       "31        41          2723        138407        Greg Phillips\n",
       "19        29          2760        138255           Teddy Choi"
      ]
     },
     "execution_count": 16,
     "metadata": {},
     "output_type": "execute_result"
    }
   ],
   "source": [
    "top10 = summary.sort_values(by=\"miles-logged\", ascending=False).head(10)\n",
    "top10"
   ]
  },
  {
   "cell_type": "markdown",
   "metadata": {},
   "source": [
    "## Creación de un gráfico de barras horizontales"
   ]
  },
  {
   "cell_type": "code",
   "execution_count": 17,
   "metadata": {},
   "outputs": [
    {
     "data": {
      "image/png": "[encoded data removed]",
      "text/plain": [
       "<Figure size 432x288 with 1 Axes>"
      ]
     },
     "metadata": {
      "needs_background": "light"
     },
     "output_type": "display_data"
    }
   ],
   "source": [
    "#\n",
    "# La columna 'name' pasa a ser el nombre de las filas\n",
    "#\n",
    "top10 = top10.set_index('name')\n",
    "\n",
    "#\n",
    "# Paleta de colores:\n",
    "#\n",
    "#   tab:blue     tab:red       tab:pink\n",
    "#   tab:orange   tab:purple    tab:gray\n",
    "#   tab:green    tab:brown     tab:olive\n",
    "#   tab:cyan\n",
    "#\n",
    "top10['miles-logged'].plot.barh(color='tab:orange', alpha=0.6)\n",
    "\n",
    "plt.gca().invert_yaxis()\n",
    "\n",
    "plt.gca().get_xaxis().set_major_formatter(\n",
    "    matplotlib.ticker.FuncFormatter(\n",
    "        lambda x, p: format(int(x), ',')\n",
    "    )\n",
    ")\n",
    "\n",
    "plt.xticks(rotation = 90)\n",
    "\n",
    "plt.gca().spines[\"left\"].set_color(\"lightgray\")\n",
    "plt.gca().spines[\"bottom\"].set_color(\"gray\")\n",
    "plt.gca().spines[\"top\"].set_visible(False)\n",
    "plt.gca().spines[\"right\"].set_visible(False)"
   ]
  },
  {
   "cell_type": "markdown",
   "metadata": {
    "tags": []
   },
   "source": [
    "## Creación de un gráfico de barras verticales"
   ]
  },
  {
   "cell_type": "code",
   "execution_count": 18,
   "metadata": {},
   "outputs": [
    {
     "data": {
      "image/png": "[encoded data removed]",
      "text/plain": [
       "<Figure size 432x288 with 1 Axes>"
      ]
     },
     "metadata": {
      "needs_background": "light"
     },
     "output_type": "display_data"
    }
   ],
   "source": [
    "top10['miles-logged'].plot.bar(color='tab:blue', alpha=0.7)\n",
    "\n",
    "plt.gca().get_yaxis().set_major_formatter(\n",
    "    matplotlib.ticker.FuncFormatter(lambda x, p: format(int(x), ',')))\n",
    "\n",
    "plt.gca().spines[\"left\"].set_color(\"lightgray\")\n",
    "plt.gca().spines[\"bottom\"].set_color(\"gray\")\n",
    "plt.gca().spines[\"top\"].set_visible(False)\n",
    "plt.gca().spines[\"right\"].set_visible(False)"
   ]
  }
 ],
 "metadata": {
  "kernelspec": {
   "display_name": "Python 3",
   "language": "python",
   "name": "python3"
  },
  "language_info": {
   "codemirror_mode": {
    "name": "ipython",
    "version": 3
   },
   "file_extension": ".py",
   "mimetype": "text/x-python",
   "name": "python",
   "nbconvert_exporter": "python",
   "pygments_lexer": "ipython3",
   "version": "3.6.9"
  }
 },
 "nbformat": 4,
 "nbformat_minor": 4
}
