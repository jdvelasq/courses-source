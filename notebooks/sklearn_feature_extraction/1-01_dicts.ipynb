{
 "cells": [
  {
   "cell_type": "markdown",
   "id": "18d7749c-af71-4d23-ad33-d25888c7d444",
   "metadata": {
    "tags": []
   },
   "source": [
    "Extracción de diccionarios usando DictVectorizer\n",
    "===\n",
    "\n",
    "* 13:14 min | Ultima modificación: Abril 19, 2021 | [YouTube](https://youtu.be/YQkFsykOx7k)"
   ]
  },
  {
   "cell_type": "code",
   "execution_count": null,
   "id": "7e3af3f5-1f57-4671-bb04-51ca4d9d5892",
   "metadata": {},
   "outputs": [],
   "source": []
  }
 ],
 "metadata": {
  "kernelspec": {
   "display_name": "Python 3",
   "language": "python",
   "name": "python3"
  },
  "language_info": {
   "codemirror_mode": {
    "name": "ipython",
    "version": 3
   },
   "file_extension": ".py",
   "mimetype": "text/x-python",
   "name": "python",
   "nbconvert_exporter": "python",
   "pygments_lexer": "ipython3",
   "version": "3.6.9"
  }
 },
 "nbformat": 4,
 "nbformat_minor": 5
}
