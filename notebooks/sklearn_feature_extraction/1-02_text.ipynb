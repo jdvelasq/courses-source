{
 "cells": [
  {
   "cell_type": "markdown",
   "id": "4f840df1-29dd-4b41-a766-79bcb6e2d54a",
   "metadata": {
    "tags": []
   },
   "source": [
    "Representación de textos\n",
    "===\n",
    "\n",
    "* 13:14 min | Ultima modificación: Abril 19, 2021 | [YouTube](https://youtu.be/YQkFsykOx7k)"
   ]
  },
  {
   "cell_type": "code",
   "execution_count": null,
   "id": "a0fafa2b-000b-4d45-ad81-03fac2370698",
   "metadata": {},
   "outputs": [],
   "source": []
  }
 ],
 "metadata": {
  "kernelspec": {
   "display_name": "Python 3",
   "language": "python",
   "name": "python3"
  },
  "language_info": {
   "codemirror_mode": {
    "name": "ipython",
    "version": 3
   },
   "file_extension": ".py",
   "mimetype": "text/x-python",
   "name": "python",
   "nbconvert_exporter": "python",
   "pygments_lexer": "ipython3",
   "version": "3.6.9"
  }
 },
 "nbformat": 4,
 "nbformat_minor": 5
}
