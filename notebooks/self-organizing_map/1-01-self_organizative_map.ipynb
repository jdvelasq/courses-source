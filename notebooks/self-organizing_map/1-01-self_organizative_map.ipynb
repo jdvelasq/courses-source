{
 "cells": [
  {
   "cell_type": "markdown",
   "id": "bdb236f3-1241-4fb6-88ca-0d8e702a1d8c",
   "metadata": {},
   "source": [
    "Mapa Auto-Organizativo (SOM) o red de Kohonen\n",
    "===\n",
    "\n",
    "* 41:42 min | Última modificación: Mayo 27, 2021 | [YouTube]"
   ]
  },
  {
   "cell_type": "code",
   "execution_count": 1,
   "id": "1004be85-e105-40b1-a882-9d57aa4a7307",
   "metadata": {},
   "outputs": [],
   "source": [
    "import warnings\n",
    "\n",
    "warnings.filterwarnings(\"ignore\")"
   ]
  },
  {
   "cell_type": "markdown",
   "id": "d8854e56-88b7-4f2a-98d1-3cc91cfc78f5",
   "metadata": {},
   "source": [
    "![assets/som.png](assets/som.png)"
   ]
  },
  {
   "cell_type": "markdown",
   "id": "0dea358f-5db0-4a41-b974-2be77e5956cd",
   "metadata": {},
   "source": [
    "## Código SOM"
   ]
  },
  {
   "cell_type": "code",
   "execution_count": 2,
   "id": "fb9a8816-f622-4e9e-b5a4-e7cfeb323814",
   "metadata": {},
   "outputs": [
    {
     "name": "stdout",
     "output_type": "stream",
     "text": [
      "Overwriting som.py\n"
     ]
    }
   ],
   "source": [
    "%%writefile som.py\n",
    "import numpy as np\n",
    "import matplotlib.pyplot as plt\n",
    "\n",
    "class SOM:\n",
    "    def __init__(\n",
    "        self,\n",
    "        nrows,\n",
    "        ncols,\n",
    "        ndim,\n",
    "        init_learning_rate=0.5,\n",
    "        max_iter=10,\n",
    "        seed=None,\n",
    "    ):\n",
    "        #\n",
    "        # Configuración del modelo\n",
    "        #\n",
    "        self.nrows = nrows\n",
    "        self.ncols = ncols\n",
    "        self.ndim = ndim\n",
    "        self.init_learning_rate = init_learning_rate\n",
    "        self.max_iter = max_iter\n",
    "\n",
    "        #\n",
    "        # Parámetros internos\n",
    "        #\n",
    "        if seed is None:\n",
    "            self.rng = np.random.default_rng()\n",
    "        else:\n",
    "            self.rng = np.random.default_rng(seed)\n",
    "            \n",
    "        self.map = self.rng.uniform(size=(self.nrows, self.ncols, self.ndim))\n",
    "\n",
    "    def closest_node(self, x):\n",
    "        #\n",
    "        # Dado un vector de entrada x, computa el nodo más\n",
    "        # cercano del SOM y retorna sus coordenadas\n",
    "        #\n",
    "        dist = np.zeros(shape=(self.nrows, self.ncols))\n",
    "        for i in range(self.nrows):\n",
    "            for j in range(self.ncols):\n",
    "                dist[i, j] = np.sqrt(np.sum((self.map[i, j] - x) ** 2))\n",
    "        return np.unravel_index(dist.argmin(), dist.shape)\n",
    "\n",
    "    def fit(self, X):\n",
    "\n",
    "        # distancia inicial maxima\n",
    "        range_max = self.nrows + self.ncols\n",
    "\n",
    "        for iter in range(self.max_iter):\n",
    "\n",
    "            #\n",
    "            # Constantes para la iteración actual.\n",
    "            #\n",
    "            percentage = 1.0 - float(iter) / self.max_iter\n",
    "            neighbourhood = int(percentage * range_max)\n",
    "            current_rate = percentage * self.init_learning_rate\n",
    "\n",
    "            # for t in rng.choice(len(X), len(X), replace=False):\n",
    "            t = self.rng.integers(low=0, high=len(X))\n",
    "            \n",
    "            bmu_row, bmu_col = self.closest_node(X[t, :])\n",
    "\n",
    "            for i in range(self.nrows):\n",
    "                for j in range(self.ncols):\n",
    "                    if abs(bmu_row - i) + abs(bmu_col - j) < neighbourhood:\n",
    "                        self.map[i, j] += current_rate * (\n",
    "                            X[t] - self.map[i, j]\n",
    "                        )\n",
    "\n",
    "    def plot_Umatrix(self):\n",
    "\n",
    "        u_matrix = np.zeros((self.nrows, self.ncols), np.float64)\n",
    "\n",
    "        for i in range(self.nrows):\n",
    "            for j in range(self.ncols):\n",
    "\n",
    "                v = self.map[i, j]\n",
    "                sum_dists = 0.0\n",
    "                ct = 0.0\n",
    "\n",
    "                if i - 1 >= 0:\n",
    "                    sum_dists += np.sqrt(np.sum((self.map[i - 1, j] - v) ** 2))\n",
    "                    ct += 1\n",
    "\n",
    "                if i + 1 <= self.nrows - 1:\n",
    "                    sum_dists += np.sqrt(np.sum((self.map[i + 1, j] - v) ** 2))\n",
    "                    ct += 1\n",
    "                if j - 1 >= 0:\n",
    "                    sum_dists += np.sqrt(np.sum((self.map[i, j - 1] - v) ** 2))\n",
    "                    ct += 1\n",
    "                if j + 1 <= self.ncols - 1:\n",
    "                    sum_dists += np.sqrt(np.sum((self.map[i, j + 1] - v) ** 2))\n",
    "                    ct += 1\n",
    "\n",
    "                u_matrix[i, j] = sum_dists / ct\n",
    "\n",
    "        plt.imshow(u_matrix, cmap=\"gray\")\n",
    "\n",
    "    def dimensionality_reduction(self, X, y):\n",
    "\n",
    "        # self.fit(X)\n",
    "        \n",
    "        mapping = np.empty(shape=(self.nrows, self.ncols), dtype=object)\n",
    "        \n",
    "        for i in range(self.nrows):\n",
    "            for j in range(self.ncols):\n",
    "                mapping[i, j] = []\n",
    "\n",
    "        for t, label in enumerate(y):\n",
    "            m, n = self.closest_node(X[t, :])\n",
    "            mapping[m, n].append(label)\n",
    "\n",
    "        label_map = np.zeros((self.nrows, self.ncols))\n",
    "        for i in range(self.nrows):\n",
    "            for j in range(self.ncols):\n",
    "                if mapping[i, j] == []:\n",
    "                    label_map[i, j] = None\n",
    "                else:\n",
    "                    label_map[i, j] = max(set(mapping[i, j]), key=mapping[i, j].count)\n",
    "\n",
    "        plt.imshow(label_map)\n",
    "\n",
    "    def plot_grid(self):\n",
    "        #\n",
    "        fig = plt.figure(figsize=(3, 3))\n",
    "        \n",
    "        for i in range(self.nrows):\n",
    "            for j in range(self.ncols):\n",
    "\n",
    "                if i + 1 < self.nrows:\n",
    "\n",
    "                    # linea horizontal\n",
    "                    x0 = self.map[i, j][0]\n",
    "                    y0 = self.map[i, j][1]\n",
    "                    x1 = self.map[i + 1, j][0]\n",
    "                    y1 = self.map[i + 1, j][1]\n",
    "                    plt.plot([x0, x1], [y0, y1], \".-k\")\n",
    "\n",
    "                if j + 1 < self.ncols:\n",
    "                    #  linea vertical\n",
    "                    x0 = self.map[i, j][0]\n",
    "                    y0 = self.map[i, j][1]\n",
    "                    x1 = self.map[i, j + 1][0]\n",
    "                    y1 = self.map[i, j + 1][1]\n",
    "                    plt.plot([x0, x1], [y0, y1], \".-k\")\n",
    "\n",
    "        plt.axis(\"off\")"
   ]
  },
  {
   "cell_type": "markdown",
   "id": "3cc300f5-b5da-4fcd-9950-5180841b190c",
   "metadata": {},
   "source": [
    "## Representación de puntos de una distribución uniforme"
   ]
  },
  {
   "cell_type": "code",
   "execution_count": 3,
   "id": "20a35619-c5e4-452a-8309-149a6562b6e5",
   "metadata": {},
   "outputs": [
    {
     "data": {
      "text/plain": [
       "array([[0.63651375, 0.38481166],\n",
       "       [0.04744542, 0.95525274],\n",
       "       [0.90605094, 0.45696955],\n",
       "       ...,\n",
       "       [0.6232829 , 0.425067  ],\n",
       "       [0.80863706, 0.08872339],\n",
       "       [0.93236476, 0.05556339]])"
      ]
     },
     "execution_count": 3,
     "metadata": {},
     "output_type": "execute_result"
    }
   ],
   "source": [
    "#\n",
    "# Se genera una muestra de 1000 puntos que siguen una\n",
    "#  distribución uniforme [0, 1] en el plano (x,y)\n",
    "#\n",
    "import numpy as np\n",
    "\n",
    "NPOINTS = 1000\n",
    "\n",
    "rng = np.random.default_rng(123456)\n",
    "sample = rng.uniform(size=(NPOINTS, 2))\n",
    "sample"
   ]
  },
  {
   "cell_type": "code",
   "execution_count": 4,
   "id": "6731d0c6-c2e5-43b5-a6fc-3edf5c3ee2d6",
   "metadata": {},
   "outputs": [
    {
     "data": {
      "image/png": "[encoded data removed]",
      "text/plain": [
       "<Figure size 216x216 with 1 Axes>"
      ]
     },
     "metadata": {
      "needs_background": "light"
     },
     "output_type": "display_data"
    },
    {
     "data": {
      "image/png": "[encoded data removed]",
      "text/plain": [
       "<Figure size 216x216 with 1 Axes>"
      ]
     },
     "metadata": {
      "needs_background": "light"
     },
     "output_type": "display_data"
    }
   ],
   "source": [
    "#\n",
    "# Se crea un SOM de 10x10x2. Recuerde que los datos tienen\n",
    "# dos dimensiones (x,y)\n",
    "#\n",
    "from som import SOM\n",
    "\n",
    "som = SOM(nrows=10, ncols=10, ndim=2, max_iter=700)\n",
    "som.plot_grid()\n",
    "som.fit(sample)\n",
    "som.plot_grid()"
   ]
  }
 ],
 "metadata": {
  "kernelspec": {
   "display_name": "Python 3",
   "language": "python",
   "name": "python3"
  },
  "language_info": {
   "codemirror_mode": {
    "name": "ipython",
    "version": 3
   },
   "file_extension": ".py",
   "mimetype": "text/x-python",
   "name": "python",
   "nbconvert_exporter": "python",
   "pygments_lexer": "ipython3",
   "version": "3.6.9"
  }
 },
 "nbformat": 4,
 "nbformat_minor": 5
}
