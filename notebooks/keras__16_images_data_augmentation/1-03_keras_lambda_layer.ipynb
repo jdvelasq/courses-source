{
 "cells": [
  {
   "cell_type": "markdown",
   "id": "5c4c5255-d506-4a7f-848c-f9270950e9ba",
   "metadata": {
    "tags": []
   },
   "source": [
    "Capa Lambda --- 0:00 min\n",
    "===\n",
    "\n",
    "* Última modificación: Marzo 7, 2022 | YouTube\n",
    "\n",
    "* Adaptado de: https://keras.io/api/layers/core_layers/lambda/"
   ]
  },
  {
   "cell_type": "markdown",
   "id": "1ed0ab7d-704b-4dfe-abd3-b3a88a1199b7",
   "metadata": {
    "tags": []
   },
   "source": [
    "Importación de librerías\n",
    "---"
   ]
  },
  {
   "cell_type": "code",
   "execution_count": 1,
   "id": "4f955e42-327e-434a-9b5d-341c4e2cdc0e",
   "metadata": {},
   "outputs": [
    {
     "data": {
      "text/plain": [
       "'2.8.0'"
      ]
     },
     "execution_count": 1,
     "metadata": {},
     "output_type": "execute_result"
    }
   ],
   "source": [
    "import os\n",
    "\n",
    "os.environ[\"TF_CPP_MIN_LOG_LEVEL\"] = \"2\"\n",
    "\n",
    "import tensorflow as tf\n",
    "\n",
    "tf.__version__"
   ]
  },
  {
   "cell_type": "markdown",
   "id": "651a9d60-ab56-4bfe-a730-555cf266f454",
   "metadata": {},
   "source": [
    "Ejemplos\n",
    "--"
   ]
  },
  {
   "cell_type": "code",
   "execution_count": 2,
   "id": "bd72370c-8db1-44ba-8abc-d07204b42cbb",
   "metadata": {},
   "outputs": [],
   "source": [
    "model = tf.keras.Sequential()\n",
    "\n",
    "#\n",
    "# Adiciona una capa x -> x^2\n",
    "#\n",
    "model.add(\n",
    "    tf.keras.layers.Lambda(lambda x: x**2),\n",
    ")"
   ]
  },
  {
   "cell_type": "code",
   "execution_count": 3,
   "id": "415429c5-4970-4cb6-86ba-005720edc4d5",
   "metadata": {},
   "outputs": [],
   "source": [
    "#\n",
    "# Adiciona una capa que retorna la concatenacion de la parte positiva de la\n",
    "# entrada y el opuesto de la parte negativa de la entrada\n",
    "#\n",
    "def antirectifier(x):\n",
    "    x -= K.mean(x, axis=1, keepdims=True)\n",
    "    x = K.l2_normalize(x, axis=1)\n",
    "    pos = K.relu(x)\n",
    "    neg = K.relu(-x)\n",
    "    return K.concatenate([pos, neg], axis=1)\n",
    "\n",
    "\n",
    "model.add(tf.keras.layers.Lambda(antirectifier))"
   ]
  },
  {
   "cell_type": "code",
   "execution_count": 4,
   "id": "480fbda2-9645-4723-9909-f42a81dfe16f",
   "metadata": {},
   "outputs": [],
   "source": [
    "scale = tf.Variable(1.0)\n",
    "scale_layer = tf.keras.layers.Lambda(lambda x: x * scale)"
   ]
  },
  {
   "cell_type": "code",
   "execution_count": 5,
   "id": "75c9f7f2-9adb-4df6-b941-8da395dfc788",
   "metadata": {},
   "outputs": [],
   "source": [
    "class ScaleLayer(tf.keras.layers.Layer):\n",
    "    def __init__(self):\n",
    "        super(ScaleLayer, self).__init__()\n",
    "        self.scale = tf.Variable(1.0)\n",
    "\n",
    "    def call(self, inputs):\n",
    "        return inputs * self.scale"
   ]
  }
 ],
 "metadata": {
  "kernelspec": {
   "display_name": "Python 3 (ipykernel)",
   "language": "python",
   "name": "python3"
  },
  "language_info": {
   "codemirror_mode": {
    "name": "ipython",
    "version": 3
   },
   "file_extension": ".py",
   "mimetype": "text/x-python",
   "name": "python",
   "nbconvert_exporter": "python",
   "pygments_lexer": "ipython3",
   "version": "3.9.10"
  }
 },
 "nbformat": 4,
 "nbformat_minor": 5
}
