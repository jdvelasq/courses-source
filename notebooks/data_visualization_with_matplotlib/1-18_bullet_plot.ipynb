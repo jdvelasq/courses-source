{
 "cells": [
  {
   "cell_type": "markdown",
   "id": "eb5be356-b9a7-4cc2-bcd8-91aba02939a6",
   "metadata": {
    "tags": []
   },
   "source": [
    "Gráficas de bala --- 4:35 min\n",
    "===\n",
    "\n",
    "* 4:35 min | Última modificación: Octubre 6, 2021 | [YouTube](https://youtu.be/SBSJiLtBa8g)"
   ]
  },
  {
   "cell_type": "markdown",
   "id": "2e9d253c-c2e2-449a-a8e2-c165b8bfe880",
   "metadata": {},
   "source": [
    "El gráfico de bala es usado para contrastar varias cantidades contra una meta. Por ejemplo, las ventas del año anterior, las ventas actuales y la meta actual. En esta lección se desarrolla una gráfica de bala usando matplotlib."
   ]
  },
  {
   "cell_type": "code",
   "execution_count": 1,
   "id": "dedcb443-43d8-420a-bea7-181bf08d1b8f",
   "metadata": {},
   "outputs": [
    {
     "data": {
      "image/png": "[encoded data removed]",
      "text/plain": [
       "<Figure size 504x288 with 1 Axes>"
      ]
     },
     "metadata": {
      "needs_background": "light"
     },
     "output_type": "display_data"
    }
   ],
   "source": [
    "import matplotlib.pyplot as plt\n",
    "\n",
    "labels = list('ABCDEF')\n",
    "\n",
    "x_previous = [110, 130, 280, 350, 275, 115] \n",
    "x_current = [80, 200, 350, 420, 280, 130]\n",
    "x_goal = [120, 140, 300, 380, 300, 140]\n",
    "plt.figure(figsize=(7, 4))\n",
    "\n",
    "#\n",
    "# Barras de valores anteriores\n",
    "#\n",
    "plt.barh(\n",
    "    y=labels,\n",
    "    width=x_previous,\n",
    "    height=0.8,\n",
    "    color=\"lightgray\",\n",
    "    alpha=0.8,\n",
    ")\n",
    "\n",
    "\n",
    "#\n",
    "# Barras para los valores actuales\n",
    "#\n",
    "colors_current = [\n",
    "    \"tab:green\" if current >= goal else \"tab:orange\"\n",
    "    for current, goal in zip(x_current, x_goal)\n",
    "]\n",
    "\n",
    "plt.barh(\n",
    "    y=labels,\n",
    "    width=x_current,\n",
    "    height=0.4,\n",
    "    color=colors_current,\n",
    "    alpha=1.0,\n",
    "    edgecolor=colors_current,\n",
    "    linewidth=3,\n",
    ")\n",
    "\n",
    "#\n",
    "# Metas\n",
    "#\n",
    "for i_goal, goal in enumerate(x_goal):\n",
    "    plt.plot(\n",
    "        [goal, goal],\n",
    "        [i_goal - 0.5, i_goal + 0.5],\n",
    "        c=\"black\",\n",
    "        linewidth=2,\n",
    "    )\n",
    "\n",
    "#\n",
    "# Personalización\n",
    "#\n",
    "plt.gca().spines[\"left\"].set_color(\"gray\")\n",
    "plt.gca().spines[\"bottom\"].set_color(\"gray\")\n",
    "plt.gca().spines[\"top\"].set_visible(False)\n",
    "plt.gca().spines[\"right\"].set_visible(False)\n",
    "\n",
    "plt.show()"
   ]
  }
 ],
 "metadata": {
  "kernelspec": {
   "display_name": "Python 3",
   "language": "python",
   "name": "python3"
  },
  "language_info": {
   "codemirror_mode": {
    "name": "ipython",
    "version": 3
   },
   "file_extension": ".py",
   "mimetype": "text/x-python",
   "name": "python",
   "nbconvert_exporter": "python",
   "pygments_lexer": "ipython3",
   "version": "3.6.9"
  }
 },
 "nbformat": 4,
 "nbformat_minor": 5
}
