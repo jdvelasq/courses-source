{
 "cells": [
  {
   "cell_type": "markdown",
   "id": "7a3fedeb-9c56-49b3-b0b1-41dd3a77dc63",
   "metadata": {
    "tags": []
   },
   "source": [
    "hist() ---\n",
    "===\n",
    "\n",
    "* 0:00 min | Última modificación: Octubre 6, 2021 | [YouTube]"
   ]
  },
  {
   "cell_type": "code",
   "execution_count": 1,
   "id": "dc30072d-08a3-4d3d-a43a-13d4dacf399b",
   "metadata": {},
   "outputs": [
    {
     "data": {
      "image/png": "[encoded data removed]",
      "text/plain": [
       "<Figure size 432x288 with 1 Axes>"
      ]
     },
     "metadata": {
      "needs_background": "light"
     },
     "output_type": "display_data"
    }
   ],
   "source": [
    "import matplotlib.pyplot as plt\n",
    "import numpy as np\n",
    "\n",
    "np.random.seed(19680801)\n",
    "\n",
    "\n",
    "mu = 100\n",
    "sigma = 15\n",
    "x = mu + sigma * np.random.randn(437)\n",
    "\n",
    "num_bins = 50\n",
    "\n",
    "fig, ax = plt.subplots()\n",
    "\n",
    "\n",
    "n, bins, patches = ax.hist(\n",
    "    # -------------------------------------------------------------------------\n",
    "    # Input values, t\n",
    "    x=x,\n",
    "    # -------------------------------------------------------------------------\n",
    "    # int or sequence or str,\n",
    "    bins=num_bins,\n",
    "    # -------------------------------------------------------------------------\n",
    "    # The lower and upper range of the bins.\n",
    "    range=None,\n",
    "    # -------------------------------------------------------------------------\n",
    "    # If True, draw and return a probability density\n",
    "    density=True,\n",
    "    # -------------------------------------------------------------------------\n",
    "    # If True, then a histogram is computed where each bin gives the counts in\n",
    "    # that bin plus all bins for smaller values.\n",
    "    cumulative=False,\n",
    "    # -------------------------------------------------------------------------\n",
    "    # The type of histogram to draw.\n",
    "    # 'bar', 'barstacked', 'step', 'stepfilled'\n",
    "    histtype='bar',\n",
    "    # -------------------------------------------------------------------------\n",
    "    # The horizontal alignment of the histogram bars.\n",
    "    # 'left', 'mid', 'right'\n",
    "    align='mid',\n",
    "    # -------------------------------------------------------------------------\n",
    "    # 'vertical', 'horizontal'\n",
    "    orientation='vertical',\n",
    "    # -------------------------------------------------------------------------\n",
    "    # If True, the histogram axis will be set to a log scale.\n",
    "    log=False,\n",
    "    # -------------------------------------------------------------------------\n",
    "    # Color or sequence of colors, one per dataset. \n",
    "    color='tab:blue',\n",
    "    # -------------------------------------------------------------------------\n",
    "    # Transparencia\n",
    "    alpha=0.6,\n",
    ")\n",
    "\n",
    "\n",
    "y = (1 / (np.sqrt(2 * np.pi) * sigma)) * np.exp(-0.5 * (1 / sigma * (bins - mu)) ** 2)\n",
    "\n",
    "ax.plot(\n",
    "    bins,\n",
    "    y,\n",
    "    \"--\",\n",
    "    linewidth=3,\n",
    ")\n",
    "\n",
    "ax.set_xlabel(\"Smarts\")\n",
    "ax.set_ylabel(\"Probability density\")\n",
    "ax.set_title(r\"Histogram of IQ: $\\mu=100$, $\\sigma=15$\")\n",
    "\n",
    "fig.tight_layout()\n",
    "\n",
    "plt.show()"
   ]
  }
 ],
 "metadata": {
  "kernelspec": {
   "display_name": "Python 3",
   "language": "python",
   "name": "python3"
  },
  "language_info": {
   "codemirror_mode": {
    "name": "ipython",
    "version": 3
   },
   "file_extension": ".py",
   "mimetype": "text/x-python",
   "name": "python",
   "nbconvert_exporter": "python",
   "pygments_lexer": "ipython3",
   "version": "3.6.9"
  }
 },
 "nbformat": 4,
 "nbformat_minor": 5
}
