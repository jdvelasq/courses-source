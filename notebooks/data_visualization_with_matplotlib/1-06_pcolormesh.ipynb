{
 "cells": [
  {
   "cell_type": "markdown",
   "id": "9fcc3315-f583-477d-944d-fa21fbabed49",
   "metadata": {},
   "source": [
    "pcolormesh() ---\n",
    "===\n",
    "\n",
    "* 0:00 min | Última modificación: Octubre 6, 2021 | [YouTube]"
   ]
  },
  {
   "cell_type": "code",
   "execution_count": 1,
   "id": "5f8990a3-70eb-4259-92d0-e024fdb42872",
   "metadata": {},
   "outputs": [],
   "source": [
    "import matplotlib.pyplot as plt\n",
    "import numpy as np"
   ]
  },
  {
   "cell_type": "code",
   "execution_count": 2,
   "id": "4c478a4a-78ac-4cb0-878e-1fde70f0dfec",
   "metadata": {},
   "outputs": [
    {
     "data": {
      "image/png": "[encoded data removed]",
      "text/plain": [
       "<Figure size 432x288 with 1 Axes>"
      ]
     },
     "metadata": {
      "needs_background": "light"
     },
     "output_type": "display_data"
    }
   ],
   "source": [
    "#\n",
    "# Figura básica\n",
    "#\n",
    "np.random.seed(19680801)\n",
    "Z = np.random.rand(6, 10)\n",
    "x = np.arange(-0.5, 10, 1)  # len = 11\n",
    "y = np.arange(4.5, 11, 1)  # len = 7\n",
    "\n",
    "fig, ax = plt.subplots()\n",
    "ax.pcolormesh(x, y, Z)\n",
    "plt.show()"
   ]
  }
 ],
 "metadata": {
  "kernelspec": {
   "display_name": "Python 3",
   "language": "python",
   "name": "python3"
  },
  "language_info": {
   "codemirror_mode": {
    "name": "ipython",
    "version": 3
   },
   "file_extension": ".py",
   "mimetype": "text/x-python",
   "name": "python",
   "nbconvert_exporter": "python",
   "pygments_lexer": "ipython3",
   "version": "3.6.9"
  }
 },
 "nbformat": 4,
 "nbformat_minor": 5
}
