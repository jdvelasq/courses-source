{
 "cells": [
  {
   "cell_type": "markdown",
   "id": "b96c1a52-8adc-4cde-96be-d192234c48d7",
   "metadata": {
    "tags": []
   },
   "source": [
    "bar() / barh()\n",
    "===\n",
    "\n",
    "* 0:00 min | Última modificación: Octubre 6, 2021 | [YouTube]"
   ]
  },
  {
   "cell_type": "code",
   "execution_count": 1,
   "id": "569b4696-4a1c-433b-98ca-9185a7b1baf5",
   "metadata": {},
   "outputs": [],
   "source": [
    "import matplotlib.pyplot as plt\n",
    "\n",
    "import seaborn as sns"
   ]
  },
  {
   "cell_type": "markdown",
   "id": "df498394-3a30-458f-bcd3-29b4712bd198",
   "metadata": {},
   "source": [
    "Carga de datos\n",
    "---"
   ]
  },
  {
   "cell_type": "code",
   "execution_count": 2,
   "id": "30faa7b2-a53a-4206-860a-80973897d0a0",
   "metadata": {},
   "outputs": [
    {
     "data": {
      "text/plain": [
       "No     151\n",
       "Yes     93\n",
       "Name: smoker, dtype: int64"
      ]
     },
     "execution_count": 2,
     "metadata": {},
     "output_type": "execute_result"
    }
   ],
   "source": [
    "tips = sns.load_dataset(\"tips\")\n",
    "smoker = tips.smoker.value_counts()\n",
    "smoker"
   ]
  },
  {
   "cell_type": "markdown",
   "id": "d4690e94-0af4-4f54-ab2a-ba0e420d760c",
   "metadata": {},
   "source": [
    "Barras verticales\n",
    "---"
   ]
  },
  {
   "cell_type": "code",
   "execution_count": 3,
   "id": "3b3be92c-63af-41f3-b7d8-ce4e342f283d",
   "metadata": {},
   "outputs": [
    {
     "data": {
      "image/png": "[encoded data removed]",
      "text/plain": [
       "<Figure size 360x288 with 1 Axes>"
      ]
     },
     "metadata": {
      "needs_background": "light"
     },
     "output_type": "display_data"
    }
   ],
   "source": [
    "plt.figure(figsize=(5, 4))\n",
    "\n",
    "container = plt.bar(\n",
    "    x=smoker.index,\n",
    "    height=smoker,\n",
    "    color=\"tab:blue\",\n",
    "    alpha=0.5,\n",
    "    edgecolor=\"tab:blue\",\n",
    "    linewidth=3,\n",
    ")\n",
    "\n",
    "for i_text, (text, value) in enumerate(zip(smoker.index, smoker)):\n",
    "    plt.text(\n",
    "        i_text,\n",
    "        value / 2,\n",
    "        value,\n",
    "        ha=\"center\",\n",
    "        va=\"center\",\n",
    "        size=20,\n",
    "    )\n",
    "\n",
    "plt.title(\"Number of bills\", fontsize=18)\n",
    "plt.xlabel(\"Smoker\", fontsize=14)\n",
    "plt.ylabel(\"Quantity\")\n",
    "\n",
    "\n",
    "plt.gca().spines[\"left\"].set_visible(False)\n",
    "plt.gca().spines[\"bottom\"].set_color(\"gray\")\n",
    "plt.gca().spines[\"top\"].set_visible(False)\n",
    "plt.gca().spines[\"right\"].set_visible(False)\n",
    "plt.show()"
   ]
  },
  {
   "cell_type": "markdown",
   "id": "e747a233-5fa6-40bf-a5b1-5c9c668ab7d0",
   "metadata": {},
   "source": [
    "Barras horizontales\n",
    "---"
   ]
  },
  {
   "cell_type": "code",
   "execution_count": 4,
   "id": "e64ebe29-f481-4398-8f20-62da89cd8f32",
   "metadata": {},
   "outputs": [
    {
     "data": {
      "image/png": "[encoded data removed]",
      "text/plain": [
       "<Figure size 288x216 with 1 Axes>"
      ]
     },
     "metadata": {
      "needs_background": "light"
     },
     "output_type": "display_data"
    }
   ],
   "source": [
    "plt.figure(figsize=(4, 3))\n",
    "\n",
    "plt.barh(\n",
    "    y=range(len(smoker)),\n",
    "    width=smoker,\n",
    "    color=\"tab:green\",\n",
    "    alpha=0.5,\n",
    "    edgecolor=\"tab:green\",\n",
    "    linewidth=3,\n",
    ")\n",
    "\n",
    "plt.title(\"Number of bills\", fontsize=18)\n",
    "plt.xlabel(\"Smoker\", fontsize=14)\n",
    "plt.ylabel(\"Quantity\")\n",
    "\n",
    "plt.yticks(\n",
    "    ticks=range(len(smoker)),\n",
    "    labels=smoker.index,\n",
    "    rotation=\"horizontal\",\n",
    ")\n",
    "\n",
    "plt.gca().spines[\"left\"].set_color(\"gray\")\n",
    "plt.gca().spines[\"bottom\"].set_color(\"gray\")\n",
    "plt.gca().spines[\"top\"].set_visible(False)\n",
    "plt.gca().spines[\"right\"].set_visible(False)\n",
    "\n",
    "plt.show()"
   ]
  },
  {
   "cell_type": "markdown",
   "id": "aead2333-a71d-4df5-8fc5-ba3594d8c19e",
   "metadata": {},
   "source": [
    "Barras apiladas\n",
    "---"
   ]
  },
  {
   "cell_type": "code",
   "execution_count": 2,
   "id": "f65d70a7-9e8b-44e1-899b-6c53ff60ace9",
   "metadata": {},
   "outputs": [
    {
     "data": {
      "text/plain": [
       "sex\n",
       "Male      60\n",
       "Female    33\n",
       "dtype: int64"
      ]
     },
     "metadata": {},
     "output_type": "display_data"
    },
    {
     "data": {
      "text/plain": [
       "sex\n",
       "Male      97\n",
       "Female    54\n",
       "dtype: int64"
      ]
     },
     "metadata": {},
     "output_type": "display_data"
    }
   ],
   "source": [
    "smoker_sex = tips.groupby([\"smoker\", \"sex\"]).size()\n",
    "\n",
    "smoker_sex_yes = smoker_sex[\"Yes\"]\n",
    "smoker_sex_no = smoker_sex[\"No\"]\n",
    "\n",
    "display(\n",
    "    smoker_sex_yes,\n",
    "    smoker_sex_no,\n",
    ")"
   ]
  },
  {
   "cell_type": "code",
   "execution_count": 3,
   "id": "67293825-ea10-40df-938a-a7f99c229638",
   "metadata": {},
   "outputs": [
    {
     "data": {
      "image/png": "[encoded data removed]",
      "text/plain": [
       "<Figure size 432x216 with 1 Axes>"
      ]
     },
     "metadata": {
      "needs_background": "light"
     },
     "output_type": "display_data"
    }
   ],
   "source": [
    "plt.figure(figsize=(6, 3))\n",
    "\n",
    "plt.bar(\n",
    "    x=smoker_sex_yes.index,\n",
    "    height=smoker_sex_yes,\n",
    "    color=\"tab:blue\",\n",
    "    alpha=0.5,\n",
    "    edgecolor=\"tab:blue\",\n",
    "    linewidth=3,\n",
    "    label=\"Yes\",\n",
    ")\n",
    "\n",
    "plt.bar(\n",
    "    x=smoker_sex_no.index,\n",
    "    height=smoker_sex_no,\n",
    "    bottom=smoker_sex_yes,\n",
    "    color=\"tab:orange\",\n",
    "    alpha=0.5,\n",
    "    edgecolor=\"tab:orange\",\n",
    "    linewidth=3,\n",
    "    label=\"No\",\n",
    ")\n",
    "\n",
    "plt.title(\"Number of bills\", fontsize=18)\n",
    "plt.xlabel(\"Smoker\", fontsize=14)\n",
    "plt.ylabel(\"Quantity\")\n",
    "\n",
    "plt.xticks(\n",
    "    rotation=\"vertical\",\n",
    ")\n",
    "\n",
    "plt.legend()\n",
    "\n",
    "plt.gca().spines[\"left\"].set_color(\"lightgray\")\n",
    "plt.gca().spines[\"bottom\"].set_color(\"gray\")\n",
    "plt.gca().spines[\"top\"].set_visible(False)\n",
    "plt.gca().spines[\"right\"].set_visible(False)\n",
    "\n",
    "plt.show()"
   ]
  }
 ],
 "metadata": {
  "kernelspec": {
   "display_name": "Python 3",
   "language": "python",
   "name": "python3"
  },
  "language_info": {
   "codemirror_mode": {
    "name": "ipython",
    "version": 3
   },
   "file_extension": ".py",
   "mimetype": "text/x-python",
   "name": "python",
   "nbconvert_exporter": "python",
   "pygments_lexer": "ipython3",
   "version": "3.6.9"
  }
 },
 "nbformat": 4,
 "nbformat_minor": 5
}
