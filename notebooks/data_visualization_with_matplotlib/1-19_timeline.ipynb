{
 "cells": [
  {
   "cell_type": "markdown",
   "id": "bff51f47-f612-4bbe-820f-e5c137c5404f",
   "metadata": {
    "tags": []
   },
   "source": [
    "Linea de tiempo usando Matplotlib\n",
    "===\n",
    "\n",
    "* 0:00 min | Última modificación: Octubre 6, 2021 | [YouTube]"
   ]
  },
  {
   "cell_type": "markdown",
   "id": "97c19881-6498-44a9-a56a-9bdea2fb57ec",
   "metadata": {},
   "source": [
    "Fuente: https://matplotlib.org/devdocs/gallery/lines_bars_and_markers/timeline.html"
   ]
  },
  {
   "cell_type": "code",
   "execution_count": 3,
   "id": "898804cb-1605-43a5-b74c-d50e3f1f1ecb",
   "metadata": {},
   "outputs": [],
   "source": [
    "import matplotlib.pyplot as plt\n",
    "import numpy as np\n",
    "import matplotlib.dates as mdates\n",
    "from datetime import datetime"
   ]
  },
  {
   "cell_type": "code",
   "execution_count": 4,
   "id": "28a3d347-4896-435c-8cb3-dc01f5648731",
   "metadata": {},
   "outputs": [],
   "source": [
    "names = [\n",
    "    \"v2.2.4\",\n",
    "    \"v3.0.3\",\n",
    "    \"v3.0.2\",\n",
    "    \"v3.0.1\",\n",
    "    \"v3.0.0\",\n",
    "    \"v2.2.3\",\n",
    "    \"v2.2.2\",\n",
    "    \"v2.2.1\",\n",
    "    \"v2.2.0\",\n",
    "    \"v2.1.2\",\n",
    "    \"v2.1.1\",\n",
    "    \"v2.1.0\",\n",
    "    \"v2.0.2\",\n",
    "    \"v2.0.1\",\n",
    "    \"v2.0.0\",\n",
    "    \"v1.5.3\",\n",
    "    \"v1.5.2\",\n",
    "    \"v1.5.1\",\n",
    "    \"v1.5.0\",\n",
    "    \"v1.4.3\",\n",
    "    \"v1.4.2\",\n",
    "    \"v1.4.1\",\n",
    "    \"v1.4.0\",\n",
    "]\n",
    "\n",
    "dates = [\n",
    "    \"2019-02-26\",\n",
    "    \"2019-02-26\",\n",
    "    \"2018-11-10\",\n",
    "    \"2018-11-10\",\n",
    "    \"2018-09-18\",\n",
    "    \"2018-08-10\",\n",
    "    \"2018-03-17\",\n",
    "    \"2018-03-16\",\n",
    "    \"2018-03-06\",\n",
    "    \"2018-01-18\",\n",
    "    \"2017-12-10\",\n",
    "    \"2017-10-07\",\n",
    "    \"2017-05-10\",\n",
    "    \"2017-05-02\",\n",
    "    \"2017-01-17\",\n",
    "    \"2016-09-09\",\n",
    "    \"2016-07-03\",\n",
    "    \"2016-01-10\",\n",
    "    \"2015-10-29\",\n",
    "    \"2015-02-16\",\n",
    "    \"2014-10-26\",\n",
    "    \"2014-10-18\",\n",
    "    \"2014-08-26\",\n",
    "]\n",
    "\n",
    "dates = [datetime.strptime(d, \"%Y-%m-%d\") for d in dates]"
   ]
  },
  {
   "cell_type": "code",
   "execution_count": 9,
   "id": "99d76ab9-64f7-4043-8724-da89b4008d96",
   "metadata": {},
   "outputs": [
    {
     "data": {
      "image/png": "[encoded data removed]",
      "text/plain": [
       "<Figure size 633.6x288 with 1 Axes>"
      ]
     },
     "metadata": {
      "needs_background": "light"
     },
     "output_type": "display_data"
    }
   ],
   "source": [
    "levels = np.tile([-5, 5, -3, 3, -1, 1], int(np.ceil(len(dates) / 6)))[: len(dates)]\n",
    "\n",
    "\n",
    "fig, ax = plt.subplots(\n",
    "    figsize=(8.8, 4),\n",
    "    constrained_layout=True,\n",
    ")\n",
    "\n",
    "ax.set(title=\"Matplotlib release dates\")\n",
    "\n",
    "ax.vlines(\n",
    "    dates,\n",
    "    0,\n",
    "    levels,\n",
    "    color=\"tab:red\",\n",
    ")\n",
    "\n",
    "# \n",
    "# Linea base\n",
    "#\n",
    "ax.plot(\n",
    "    dates,\n",
    "    np.zeros_like(dates),\n",
    "    \"-o\",\n",
    "    color=\"k\",\n",
    "    markerfacecolor=\"w\",\n",
    ")\n",
    "\n",
    "# \n",
    "# Version\n",
    "#\n",
    "for d, l, r in zip(dates, levels, names):\n",
    "    ax.annotate(\n",
    "        r,\n",
    "        xy=(d, l),\n",
    "        xytext=(-3, np.sign(l) * 3),\n",
    "        textcoords=\"offset points\",\n",
    "        horizontalalignment=\"right\",\n",
    "        verticalalignment=\"bottom\" if l > 0 else \"top\",\n",
    "    )\n",
    "\n",
    "\n",
    "ax.xaxis.set_major_locator(mdates.MonthLocator(interval=4))\n",
    "ax.xaxis.set_major_formatter(mdates.DateFormatter(\"%b %Y\"))\n",
    "plt.setp(ax.get_xticklabels(), rotation=90, ha=\"right\")\n",
    "\n",
    "ax.yaxis.set_visible(False)\n",
    "\n",
    "ax.spines[\"bottom\"].set_color(\"gray\")\n",
    "ax.spines[\"left\"].set_visible(False)\n",
    "ax.spines[\"top\"].set_visible(False)\n",
    "ax.spines[\"right\"].set_visible(False)\n",
    "\n",
    "ax.margins(y=0.1)\n",
    "\n",
    "plt.show()"
   ]
  }
 ],
 "metadata": {
  "kernelspec": {
   "display_name": "Python 3",
   "language": "python",
   "name": "python3"
  },
  "language_info": {
   "codemirror_mode": {
    "name": "ipython",
    "version": 3
   },
   "file_extension": ".py",
   "mimetype": "text/x-python",
   "name": "python",
   "nbconvert_exporter": "python",
   "pygments_lexer": "ipython3",
   "version": "3.6.9"
  }
 },
 "nbformat": 4,
 "nbformat_minor": 5
}
