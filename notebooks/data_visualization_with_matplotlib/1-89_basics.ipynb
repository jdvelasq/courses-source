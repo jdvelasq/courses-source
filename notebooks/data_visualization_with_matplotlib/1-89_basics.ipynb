{
 "cells": [
  {
   "cell_type": "markdown",
   "id": "b96c1a52-8adc-4cde-96be-d192234c48d7",
   "metadata": {},
   "source": [
    "Creación y personalización de una gráfica en Matplotlib\n",
    "===\n",
    "\n",
    "* *90:00 min* | Última modificación: Septiembre 1, 2021 | [YouTube]"
   ]
  },
  {
   "cell_type": "markdown",
   "id": "cb35d611-9e63-452a-88d4-47be4255d96d",
   "metadata": {},
   "source": [
    "Matplotlib es una de las principales librerías utilizadas para graficación de datos en Python. En este tutorial se explica como crear y personalizar un gráfico simple."
   ]
  },
  {
   "cell_type": "markdown",
   "id": "7402b86c-455d-45dc-b871-1abc415afc64",
   "metadata": {},
   "source": [
    "## Datos"
   ]
  },
  {
   "cell_type": "code",
   "execution_count": 1,
   "id": "e8f42f8c-133c-4dab-9608-bb1a1677114f",
   "metadata": {},
   "outputs": [],
   "source": [
    "#\n",
    "# Se desean graficar las ventas mensuales en $.\n",
    "# Las cantidades están en K\n",
    "#\n",
    "data = [\n",
    "    ('jan', 333),\n",
    "    ('feb', 335),\n",
    "    ('mar', 445),\n",
    "    ('apr', 475),\n",
    "    ('may', 560),\n",
    "    ('jun', 720),\n",
    "    ('jul', 950),\n",
    "    ('aug', 1090),\n",
    "    ('sep', 1380),\n",
    "    ('oct', 1162),\n",
    "    ('nov', 934),\n",
    "    ('dec', 860), \n",
    "]"
   ]
  },
  {
   "cell_type": "code",
   "execution_count": 2,
   "id": "bedd31c7-cbd3-4d2f-b205-ac45d62d8fcc",
   "metadata": {},
   "outputs": [],
   "source": [
    "#\n",
    "# Se separan los datos en sus respectivas\n",
    "# variables.\n",
    "#\n",
    "month = [t[0]  for t in data]\n",
    "amount_in_K = [t[1]  for t in data]"
   ]
  },
  {
   "cell_type": "markdown",
   "id": "abe8fa04-4ac6-41b2-938f-c187274b89cf",
   "metadata": {},
   "source": [
    "## Gráfico inicial"
   ]
  },
  {
   "cell_type": "code",
   "execution_count": 3,
   "id": "57acbb1a-179e-486b-8fbe-44605ca1dea8",
   "metadata": {},
   "outputs": [
    {
     "data": {
      "image/png": "[encoded data removed]",
      "text/plain": [
       "<Figure size 432x288 with 1 Axes>"
      ]
     },
     "metadata": {
      "needs_background": "light"
     },
     "output_type": "display_data"
    }
   ],
   "source": [
    "#\n",
    "# Se verifica que se tenga una gráfica con\n",
    "# valores de sus parámetros por defecto.\n",
    "#\n",
    "import matplotlib.pyplot as plt\n",
    "\n",
    "plt.bar(\n",
    "    x=range(len(month)),\n",
    "    height=amount_in_K,\n",
    "    width=0.8,\n",
    "    bottom=None,\n",
    ")\n",
    "\n",
    "plt.show()"
   ]
  },
  {
   "cell_type": "markdown",
   "id": "e97a7d03-2cc3-4a6a-83bb-1b3f5ffe442a",
   "metadata": {},
   "source": [
    "## Personalización"
   ]
  },
  {
   "cell_type": "markdown",
   "id": "65093721-0e82-4e56-bd3e-bee5fc21299e",
   "metadata": {},
   "source": [
    "En cada paso se verifican los cambios."
   ]
  },
  {
   "cell_type": "code",
   "execution_count": 13,
   "id": "09d8ba1f-f0a1-4d55-b7da-7b2aa699a96e",
   "metadata": {},
   "outputs": [
    {
     "data": {
      "image/png": "[encoded data removed]",
      "text/plain": [
       "<Figure size 648x432 with 1 Axes>"
      ]
     },
     "metadata": {
      "needs_background": "light"
     },
     "output_type": "display_data"
    }
   ],
   "source": [
    "#\n",
    "# Paso 1: se ajusta el tamaño del grafico.\n",
    "#\n",
    "plt.figure(figsize=(9,6))\n",
    "\n",
    "#\n",
    "# Paso 2: se agregan las propiedades y los nombres\n",
    "# de los ejes.\n",
    "#\n",
    "plt.bar(\n",
    "    x=range(len(month)),\n",
    "    height=amount_in_K,\n",
    "    width=0.8,\n",
    "    bottom=None,\n",
    "    #\n",
    "    # Paso 3: Personalización de las barras.\n",
    "    #\n",
    "    color=\"lightsteelblue\",\n",
    "    alpha=0.3,\n",
    "    edgecolor='darkblue',\n",
    "    linewidth=3,\n",
    ")\n",
    "\n",
    "#\n",
    "# Paso 4: Titulos \n",
    "#\n",
    "plt.title('Sold Units', fontsize=18)\n",
    "plt.xlabel('Month', fontsize=14)\n",
    "plt.ylabel('Amount')\n",
    "\n",
    "#\n",
    "# Paso 5: Formatea el eje X\n",
    "#\n",
    "plt.xticks(\n",
    "    ticks=range(len(month)),\n",
    "    labels=month,\n",
    "    rotation=\"vertical\",\n",
    ")\n",
    "\n",
    "\n",
    "#\n",
    "# Paso 5: Se ajusta el eje Y\n",
    "#\n",
    "import matplotlib.ticker as tick\n",
    "\n",
    "#\n",
    "#   Función para formatear la cantidad. Note\n",
    "#   que retorna un string\n",
    "#\n",
    "def yaxis_format(y_value, y_position):\n",
    "    if y_value >= 1e3:\n",
    "        y_formated = \"$ {:1.1f} M\".format(y_value * 1e-3)\n",
    "    else:\n",
    "        y_formated = \"$ {:3.0f} K\".format(y_value)\n",
    "    return y_formated\n",
    "\n",
    "plt.gca().yaxis.set_major_formatter(\n",
    "    tick.FuncFormatter(yaxis_format),\n",
    ")\n",
    "\n",
    "#\n",
    "# Límites del eje Y\n",
    "#\n",
    "plt.gca().set_ylim(200, 1400)\n",
    "\n",
    "\n",
    "#\n",
    "# Paso 6: se formatea el fondo\n",
    "#\n",
    "plt.gca().spines[\"left\"].set_color(\"lightgray\")\n",
    "plt.gca().spines[\"bottom\"].set_color(\"gray\")\n",
    "plt.gca().spines[\"top\"].set_visible(False)\n",
    "plt.gca().spines[\"right\"].set_visible(False)\n",
    "\n",
    "plt.show()"
   ]
  },
  {
   "cell_type": "markdown",
   "id": "91fa71c5-d04d-4750-b93c-927ca00f676e",
   "metadata": {
    "tags": []
   },
   "source": [
    "![matplotlib_base_colors.png](assets/matplotlib_base_colors.png)"
   ]
  },
  {
   "cell_type": "markdown",
   "id": "804938df-8a5c-4f6d-bcfc-44d6f3deebc8",
   "metadata": {},
   "source": [
    "![matplotlib_tableau_colors.png](assets/matplotlib_tableau_colors.png)"
   ]
  },
  {
   "cell_type": "markdown",
   "id": "db35c989-3fdd-4b8c-89f9-6582d8aa1f78",
   "metadata": {
    "tags": []
   },
   "source": [
    "![matplotlib_css_colors.png](assets/matplotlib_css_colors.png)"
   ]
  },
  {
   "cell_type": "markdown",
   "id": "420a98f3-b2a1-499f-8714-f8901b5c7150",
   "metadata": {},
   "source": [
    "## Sitios de referencia con ejemplos"
   ]
  },
  {
   "cell_type": "markdown",
   "id": "05a34d90-ffdc-4f39-b203-b948aca286d5",
   "metadata": {},
   "source": [
    "* https://www.machinelearningplus.com/plots/top-50-matplotlib-visualizations-the-master-plots-python/"
   ]
  },
  {
   "cell_type": "markdown",
   "id": "e0581ffd-5951-442a-a8ca-232121525d20",
   "metadata": {},
   "source": [
    "* https://www.data-to-viz.com"
   ]
  },
  {
   "cell_type": "markdown",
   "id": "d4f5b673-670c-4b2e-9fdc-6ae6856ef268",
   "metadata": {},
   "source": [
    "* https://pythonplot.com"
   ]
  },
  {
   "cell_type": "markdown",
   "id": "ae4e3425-a594-4db4-90f0-c2c0e57fc6d7",
   "metadata": {},
   "source": [
    "* https://www.python-graph-gallery.com"
   ]
  },
  {
   "cell_type": "markdown",
   "id": "8c0c3cf6-ea89-4bcd-87c5-5641dcc2a0ae",
   "metadata": {},
   "source": [
    "* https://matplotlib.org/devdocs/gallery/index.html"
   ]
  }
 ],
 "metadata": {
  "kernelspec": {
   "display_name": "Python 3",
   "language": "python",
   "name": "python3"
  },
  "language_info": {
   "codemirror_mode": {
    "name": "ipython",
    "version": 3
   },
   "file_extension": ".py",
   "mimetype": "text/x-python",
   "name": "python",
   "nbconvert_exporter": "python",
   "pygments_lexer": "ipython3",
   "version": "3.6.9"
  }
 },
 "nbformat": 4,
 "nbformat_minor": 5
}
