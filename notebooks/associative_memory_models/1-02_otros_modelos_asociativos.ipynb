{
 "cells": [
  {
   "cell_type": "markdown",
   "metadata": {},
   "source": [
    "Otros modelos asociativos\n",
    "===\n",
    "\n",
    "* *30 min* | Última modificación: Junio 22, 2019"
   ]
  },
  {
   "cell_type": "markdown",
   "metadata": {},
   "source": [
    "## Memoria asociativa bidireccional (BAM)"
   ]
  },
  {
   "cell_type": "markdown",
   "metadata": {},
   "source": [
    "Es una memoria asociativa lineal donde la señal se propaga de una capa a otra (retropropagación) hasta estabilizarse (la salida de la red se hace estable). El modelo esquemático es el siguiente:\n",
    "\n",
    "![assets/ModelosAsociativos-08.png](assets/ModelosAsociativos-08.png)"
   ]
  },
  {
   "cell_type": "markdown",
   "metadata": {},
   "source": [
    "A continuación se ejemplifica el proceso de propagación de una señal a través de la BAM. El $k$-ésimo patrón, $\\mathbf{a}_k(1)$, es patrón $\\mathbf{a}_k$ en la iteración 1; entonces, la propagación de la señal se realiza de la siguiente manera:\n",
    "\n",
    "* $\\mathbf{b}_k(1) = \\text{sign}(\\mathbf{M} \\, \\mathbf{a}_k(1))$\n",
    "\n",
    "\n",
    "* $\\mathbf{a}_k(2) = \\text{sign}(\\mathbf{M}^T \\, \\mathbf{b}_k(1))$\n",
    "\n",
    "\n",
    "* Y así sucesivamente hasta que $\\mathbf{b}_k(t+1) = \\mathbf{b}_k(t)$ y $\\mathbf{a}_k(t+1) = \\mathbf{a}_k(t)$ "
   ]
  },
  {
   "cell_type": "markdown",
   "metadata": {},
   "source": [
    "La matriz $\\mathbf{M}$ se calcula como:\n",
    "\n",
    "$$\\mathbf{M} = \\sum_{k=1}^Q \\textbf{b}_k \\mathbf{a}_k^T$$"
   ]
  },
  {
   "cell_type": "markdown",
   "metadata": {},
   "source": [
    "**Actividad.---** Implemente una BAM usando TensorFlow. Verifique la reconstrucción de los patrones incompletos y contaminados con ruído."
   ]
  },
  {
   "cell_type": "markdown",
   "metadata": {},
   "source": [
    "## Red discreta de Hopfield\n",
    "\n",
    "Para una matriz lineal auto-asociativa, los coeficientes se calculan como:\n",
    "\n",
    "$$\\mathbf{M} = \\sum_{k=1}^Q \\mathbf{a}_k \\mathbf{a}_K^T$$\n",
    "\n",
    "La red discreta de Hopfield se obtiene al unir los nodos de entrada y salida en una sola capa:\n",
    "\n",
    "![assets/ModelosAsociativos-09.png](assets/ModelosAsociativos-09.png)\n",
    "\n",
    "Este tipo de red neuronal tiene las siguientes características:\n",
    "\n",
    "* La función de activación de las neuronas es $f(u)=\\text{sign}⁡(u)$.\n",
    "\n",
    "\n",
    "* Los elementos de los vectores a asociar son bipolares.\n",
    "\n",
    "\n",
    "* Los pesos de las conexiones se calculan como:\n",
    "\n",
    "$$m_{i,j} = \\frac{1}{P} \\sum_{p=1}^P (a_{p,i} * a_{p,j})$$\n",
    "\n",
    "\n",
    "* \tLos nodos toman valores $\\{-1,+1\\}$.\n"
   ]
  },
  {
   "cell_type": "markdown",
   "metadata": {},
   "source": [
    "La propagación de la señal puede ser sincrónica o asincrónica.\n",
    "\n",
    "* Prograpación asincrónica: cuando un patrón es presentado, el valor de un solo nodo es actualizado en cada instante de tiempo hasta que la red se estabiliza.\n",
    "$$\n",
    "x_{p,i}(t+1)=\n",
    "\\begin{cases}\n",
    "x_{p,i}(t),         & \\text{if } i = k \\\\\n",
    "\\text{sign} \n",
    "\\left(  \n",
    "\\sum_i^n w_{i,j} \\cdot  x_{p,j}(t) + I_{p,i}\n",
    "\\right), & \\text{if } i \\ne k\n",
    "\\end{cases}\n",
    "$$\n",
    "\n",
    "  - $x_{p,i}$ representa el estado actual de la neurona $i$ cuando se presentó el patrón $p$\n",
    "  \n",
    "  - $I_{p,i}$ es la entrada externa a la neurona $i$ para el patrón $p$ en el instante actual.\n",
    "\n",
    "\n",
    "* Propagación sincrónica:\n",
    "$$\n",
    "x_{p,i}(t+1)=\n",
    "\\text{sign} \n",
    "\\left(  \n",
    "\\sum_i^n w_{i,j} \\cdot  x_{p,j}(t) + I_{p,i}\n",
    "\\right)\n",
    "$$\n",
    "\n"
   ]
  },
  {
   "cell_type": "markdown",
   "metadata": {},
   "source": [
    "**Actividad.---** Calcule los pesos de los nodos de una red discreta de Hoptfield para los patrones $[(+1,+1,+1),(-1,-1,-1),(+1,-1,-1)]$\n",
    "\n",
    "\n",
    "**Actividad.---** Realice la propagación sincrónica de los siguientes patrones suponiendo que los pesos se actualizan secuencialmente.\n",
    "\n",
    "* $(+1,+1,-1)$\n",
    "\n",
    "\n",
    "* $(-1,+1,+1)$\n",
    "\n",
    "\n",
    "* $(0,0,+1)$\n",
    "\n",
    "\n",
    "**Actividad.---** Implemente el algoritmo en TensorFlow.\n"
   ]
  },
  {
   "cell_type": "markdown",
   "metadata": {
    "toc-hr-collapsed": false
   },
   "source": [
    "## Brain-state-in-a-Box"
   ]
  },
  {
   "cell_type": "markdown",
   "metadata": {},
   "source": [
    "Es similar a una memoria discreta de Hopfield con las siguientes variaciones:\n",
    "\n",
    "\n",
    "* La función de activación de las neuronas es $f(u)=\\min⁡(1,\\max⁡(-1,u))$.\n",
    "\n",
    "\n",
    "* Todos los nodos son actualizados simultáneamente\n",
    "\n",
    "\n",
    "* Los nodos toman valores en el intervalo $[-1,+1]$.\n",
    "\n",
    "\t\n",
    "* Los patrones a asociar son bipolares.\n",
    "    \n",
    "\n",
    "* Los pesos de las conexiones se calculan como:\n",
    "\n",
    "\n",
    "$$m_{i,j}=\\frac{1}{P} \\sum_{p=1}^P \\left( a_{p,i} \\cdot a_{p,j} \\right) $$\n"
   ]
  },
  {
   "cell_type": "markdown",
   "metadata": {},
   "source": [
    "**Actividad.---** Calcule los pesos de los nodos para los patrones $[(+1,+1,+1),(-1,-1,-1),(+1,-1,-1)]$\n",
    "\n",
    "**Actividad.---** Realice la propagación del patrón de entrada $(0.5, 0.6, 0.1)$ hasta que la red se estabilice.\n",
    "\n",
    "**Actividad.---** Implemente el algoritmo en TensorFlow.\n"
   ]
  }
 ],
 "metadata": {
  "kernelspec": {
   "display_name": "Python 3",
   "language": "python",
   "name": "python3"
  },
  "language_info": {
   "codemirror_mode": {
    "name": "ipython",
    "version": 3
   },
   "file_extension": ".py",
   "mimetype": "text/x-python",
   "name": "python",
   "nbconvert_exporter": "python",
   "pygments_lexer": "ipython3",
   "version": "3.6.8"
  }
 },
 "nbformat": 4,
 "nbformat_minor": 2
}
