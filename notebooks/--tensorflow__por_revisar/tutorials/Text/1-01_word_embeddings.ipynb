{
 "cells": [
  {
   "cell_type": "markdown",
   "metadata": {},
   "source": [
    "Embedings\n",
    "==="
   ]
  },
  {
   "cell_type": "markdown",
   "metadata": {},
   "source": [
    "* *30 min* | Última modificación: Abril 6, 2020."
   ]
  },
  {
   "cell_type": "markdown",
   "metadata": {},
   "source": [
    "Basado en https://www.tensorflow.org/tutorials/images/segmentation"
   ]
  },
  {
   "cell_type": "markdown",
   "metadata": {},
   "source": [
    "## Importación de librerías"
   ]
  },
  {
   "cell_type": "code",
   "execution_count": 3,
   "metadata": {
    "colab": {},
    "colab_type": "code",
    "id": "nmMfiSBcXZST"
   },
   "outputs": [
    {
     "name": "stdout",
     "output_type": "stream",
     "text": [
      "2.1.0\n"
     ]
    }
   ],
   "source": [
    "import tensorflow as tf\n",
    "import tensorflow_datasets as tfds\n",
    "\n",
    "tfds.disable_progress_bar()\n",
    "\n",
    "print(tf.__version__)\n",
    "\n",
    "\n",
    "#\n",
    "# Establece el nivel de reporte en\n",
    "# pantalla de TensorFlow\n",
    "#\n",
    "import logging\n",
    "\n",
    "logger = tf.get_logger().setLevel(logging.ERROR)"
   ]
  },
  {
   "cell_type": "markdown",
   "metadata": {
    "colab_type": "text",
    "id": "eqBazMiVQkj1"
   },
   "source": [
    "## Ejemplo de un embedding"
   ]
  },
  {
   "cell_type": "code",
   "execution_count": 4,
   "metadata": {
    "colab": {},
    "colab_type": "code",
    "id": "-OjxLVrMvWUE"
   },
   "outputs": [
    {
     "data": {
      "text/plain": [
       "array([[-0.04563779, -0.04760866,  0.036422  , -0.01800708,  0.01523891],\n",
       "       [-0.04402708, -0.00151724,  0.03752918, -0.00261756,  0.00653028],\n",
       "       [ 0.04785912,  0.04748055, -0.00070877,  0.02627771, -0.04765192]],\n",
       "      dtype=float32)"
      ]
     },
     "execution_count": 4,
     "metadata": {},
     "output_type": "execute_result"
    }
   ],
   "source": [
    "#\n",
    "#  Creación de una capa para crear un embedding\n",
    "#\n",
    "embedding_layer = tf.keras.layers.Embedding(1000, 5)\n",
    "\n",
    "\n",
    "#\n",
    "#  Convierte el vector de enteros [1, 2, 3]\n",
    "#  a su representación equivalente\n",
    "#\n",
    "embedding_layer(tf.constant([1, 2, 3])).numpy()"
   ]
  },
  {
   "cell_type": "code",
   "execution_count": 6,
   "metadata": {
    "colab": {},
    "colab_type": "code",
    "id": "vwSYepRjyRGy"
   },
   "outputs": [
    {
     "data": {
      "text/plain": [
       "TensorShape([2, 3, 5])"
      ]
     },
     "execution_count": 6,
     "metadata": {},
     "output_type": "execute_result"
    }
   ],
   "source": [
    "#\n",
    "#  Para texto, la capa toma como entrada un tensor 2D de enteros\n",
    "#  de tamaño (samples, sequence_length)\n",
    "#\n",
    "embedding_layer(tf.constant([[0, 1, 2], [3, 4, 5]])).shape"
   ]
  },
  {
   "cell_type": "markdown",
   "metadata": {
    "colab_type": "text",
    "id": "aGicgV5qT0wh"
   },
   "source": [
    "## Aprendizaje de embeddings"
   ]
  },
  {
   "cell_type": "code",
   "execution_count": 5,
   "metadata": {
    "colab": {},
    "colab_type": "code",
    "id": "yg6tyxPtp1TE"
   },
   "outputs": [
    {
     "name": "stdout",
     "output_type": "stream",
     "text": [
      "\u001b[1mDownloading and preparing dataset imdb_reviews/subwords8k/1.0.0 (download: 80.23 MiB, generated: Unknown size, total: 80.23 MiB) to /root/tensorflow_datasets/imdb_reviews/subwords8k/1.0.0...\u001b[0m\n",
      "Shuffling and writing examples to /root/tensorflow_datasets/imdb_reviews/subwords8k/1.0.0.incompleteLLNY69/imdb_reviews-train.tfrecord\n",
      "Shuffling and writing examples to /root/tensorflow_datasets/imdb_reviews/subwords8k/1.0.0.incompleteLLNY69/imdb_reviews-test.tfrecord\n",
      "Shuffling and writing examples to /root/tensorflow_datasets/imdb_reviews/subwords8k/1.0.0.incompleteLLNY69/imdb_reviews-unsupervised.tfrecord\n",
      "\u001b[1mDataset imdb_reviews downloaded and prepared to /root/tensorflow_datasets/imdb_reviews/subwords8k/1.0.0. Subsequent calls will reuse this data.\u001b[0m\n"
     ]
    }
   ],
   "source": [
    "#\n",
    "# Carga y preparación de datos\n",
    "#\n",
    "(train_data, test_data), info = tfds.load(\n",
    "    \"imdb_reviews/subwords8k\",\n",
    "    split=(tfds.Split.TRAIN, tfds.Split.TEST),\n",
    "    with_info=True,\n",
    "    as_supervised=True,\n",
    ")"
   ]
  },
  {
   "cell_type": "code",
   "execution_count": 6,
   "metadata": {
    "colab": {},
    "colab_type": "code",
    "id": "MYrsTgxhLBfl"
   },
   "outputs": [
    {
     "data": {
      "text/plain": [
       "['the_',\n",
       " ', ',\n",
       " '. ',\n",
       " 'a_',\n",
       " 'and_',\n",
       " 'of_',\n",
       " 'to_',\n",
       " 's_',\n",
       " 'is_',\n",
       " 'br',\n",
       " 'in_',\n",
       " 'I_',\n",
       " 'that_',\n",
       " 'this_',\n",
       " 'it_',\n",
       " ' /><',\n",
       " ' />',\n",
       " 'was_',\n",
       " 'The_',\n",
       " 'as_']"
      ]
     },
     "execution_count": 6,
     "metadata": {},
     "output_type": "execute_result"
    }
   ],
   "source": [
    "#\n",
    "#  `_` representa espacios\n",
    "#\n",
    "encoder = info.features[\"text\"].encoder\n",
    "encoder.subwords[:20]"
   ]
  },
  {
   "cell_type": "code",
   "execution_count": 7,
   "metadata": {
    "colab": {},
    "colab_type": "code",
    "id": "dRSnJkx4cs9P"
   },
   "outputs": [
    {
     "data": {
      "text/plain": [
       "<DatasetV1Adapter shapes: ((None,), ()), types: (tf.int64, tf.int64)>"
      ]
     },
     "execution_count": 7,
     "metadata": {},
     "output_type": "execute_result"
    }
   ],
   "source": [
    "train_data"
   ]
  },
  {
   "cell_type": "code",
   "execution_count": 8,
   "metadata": {
    "colab": {},
    "colab_type": "code",
    "id": "LwSCxER_2Lef"
   },
   "outputs": [],
   "source": [
    "#\n",
    "#  `padded_batch` estandariza la longitud de cadenas de texto\n",
    "#  de diferente longitud\n",
    "#\n",
    "train_batches = train_data.shuffle(1000).padded_batch(10, padded_shapes=([None], []))\n",
    "test_batches = test_data.shuffle(1000).padded_batch(10, padded_shapes=([None], []))"
   ]
  },
  {
   "cell_type": "code",
   "execution_count": 11,
   "metadata": {
    "colab": {},
    "colab_type": "code",
    "id": "Se-phCknsoan"
   },
   "outputs": [
    {
     "data": {
      "text/plain": [
       "array([[8002, 7968,  123, ...,  728,    9, 1180],\n",
       "       [  62,    9,    4, ...,    0,    0,    0],\n",
       "       [  12,  304,   15, ...,    0,    0,    0],\n",
       "       ...,\n",
       "       [ 133,  822, 7371, ...,    0,    0,    0],\n",
       "       [ 373,    6,    1, ...,    0,    0,    0],\n",
       "       [ 687, 1897,  282, ...,    0,    0,    0]])"
      ]
     },
     "execution_count": 11,
     "metadata": {},
     "output_type": "execute_result"
    }
   ],
   "source": [
    "train_batch, train_labels = next(iter(train_batches))\n",
    "train_batch.numpy()"
   ]
  },
  {
   "cell_type": "markdown",
   "metadata": {
    "colab_type": "text",
    "id": "zI9_wLIiWO8Z"
   },
   "source": [
    "## Creación del modelo"
   ]
  },
  {
   "cell_type": "code",
   "execution_count": 14,
   "metadata": {
    "colab": {},
    "colab_type": "code",
    "id": "pHLcFtn5Wsqj"
   },
   "outputs": [
    {
     "name": "stdout",
     "output_type": "stream",
     "text": [
      "Model: \"sequential\"\n",
      "_________________________________________________________________\n",
      "Layer (type)                 Output Shape              Param #   \n",
      "=================================================================\n",
      "embedding_1 (Embedding)      (None, None, 16)          130960    \n",
      "_________________________________________________________________\n",
      "global_average_pooling1d (Gl (None, 16)                0         \n",
      "_________________________________________________________________\n",
      "dense (Dense)                (None, 16)                272       \n",
      "_________________________________________________________________\n",
      "dense_1 (Dense)              (None, 1)                 17        \n",
      "=================================================================\n",
      "Total params: 131,249\n",
      "Trainable params: 131,249\n",
      "Non-trainable params: 0\n",
      "_________________________________________________________________\n"
     ]
    }
   ],
   "source": [
    "embedding_dim = 16\n",
    "\n",
    "model = tf.keras.Sequential(\n",
    "    [\n",
    "        tf.keras.layers.Embedding(encoder.vocab_size, embedding_dim),\n",
    "        tf.keras.layers.GlobalAveragePooling1D(),\n",
    "        tf.keras.layers.Dense(16, activation=\"relu\"),\n",
    "        tf.keras.layers.Dense(1),\n",
    "    ]\n",
    ")\n",
    "\n",
    "model.summary()"
   ]
  },
  {
   "cell_type": "markdown",
   "metadata": {
    "colab_type": "text",
    "id": "JjLNgKO7W2fe"
   },
   "source": [
    "### Compile and train the model"
   ]
  },
  {
   "cell_type": "code",
   "execution_count": 15,
   "metadata": {
    "colab": {},
    "colab_type": "code",
    "id": "lCUgdP69Wzix"
   },
   "outputs": [
    {
     "name": "stdout",
     "output_type": "stream",
     "text": [
      "Epoch 1/10\n",
      "2500/2500 [==============================] - 30s 12ms/step - loss: 0.4989 - accuracy: 0.7052 - val_loss: 0.3983 - val_accuracy: 0.8250\n",
      "Epoch 2/10\n",
      "2500/2500 [==============================] - 24s 10ms/step - loss: 0.2795 - accuracy: 0.8856 - val_loss: 0.3109 - val_accuracy: 0.8750\n",
      "Epoch 3/10\n",
      "2500/2500 [==============================] - 21s 8ms/step - loss: 0.2268 - accuracy: 0.9100 - val_loss: 0.3451 - val_accuracy: 0.8550\n",
      "Epoch 4/10\n",
      "2500/2500 [==============================] - 22s 9ms/step - loss: 0.1954 - accuracy: 0.9260 - val_loss: 0.2758 - val_accuracy: 0.9000\n",
      "Epoch 5/10\n",
      "2500/2500 [==============================] - 23s 9ms/step - loss: 0.1703 - accuracy: 0.9357 - val_loss: 0.3316 - val_accuracy: 0.8500\n",
      "Epoch 6/10\n",
      "2500/2500 [==============================] - 29s 12ms/step - loss: 0.1545 - accuracy: 0.9434 - val_loss: 0.4539 - val_accuracy: 0.8550\n",
      "Epoch 7/10\n",
      "2500/2500 [==============================] - 42s 17ms/step - loss: 0.1397 - accuracy: 0.9482 - val_loss: 0.3558 - val_accuracy: 0.8750\n",
      "Epoch 8/10\n",
      "2500/2500 [==============================] - 40s 16ms/step - loss: 0.1275 - accuracy: 0.9548 - val_loss: 0.4904 - val_accuracy: 0.8350\n",
      "Epoch 9/10\n",
      "2500/2500 [==============================] - 32s 13ms/step - loss: 0.1155 - accuracy: 0.9591 - val_loss: 0.4521 - val_accuracy: 0.8700\n",
      "Epoch 10/10\n",
      "2500/2500 [==============================] - 29s 11ms/step - loss: 0.1042 - accuracy: 0.9632 - val_loss: 0.5327 - val_accuracy: 0.8650\n"
     ]
    }
   ],
   "source": [
    "model.compile(\n",
    "    optimizer=\"adam\",\n",
    "    loss=tf.keras.losses.BinaryCrossentropy(from_logits=True),\n",
    "    metrics=[\"accuracy\"],\n",
    ")\n",
    "\n",
    "history = model.fit(\n",
    "    train_batches, epochs=10, validation_data=test_batches, validation_steps=20\n",
    ")"
   ]
  },
  {
   "cell_type": "code",
   "execution_count": 16,
   "metadata": {
    "colab": {},
    "colab_type": "code",
    "id": "0D3OTmOT1z1O"
   },
   "outputs": [
    {
     "data": {
      "image/png": "[encoded data removed]",
      "text/plain": [
       "<Figure size 864x648 with 1 Axes>"
      ]
     },
     "metadata": {
      "needs_background": "light"
     },
     "output_type": "display_data"
    },
    {
     "data": {
      "image/png": "[encoded data removed]",
      "text/plain": [
       "<Figure size 864x648 with 1 Axes>"
      ]
     },
     "metadata": {
      "needs_background": "light"
     },
     "output_type": "display_data"
    }
   ],
   "source": [
    "import matplotlib.pyplot as plt\n",
    "\n",
    "history_dict = history.history\n",
    "\n",
    "acc = history_dict[\"accuracy\"]\n",
    "val_acc = history_dict[\"val_accuracy\"]\n",
    "loss = history_dict[\"loss\"]\n",
    "val_loss = history_dict[\"val_loss\"]\n",
    "\n",
    "epochs = range(1, len(acc) + 1)\n",
    "\n",
    "plt.figure(figsize=(12, 9))\n",
    "plt.plot(epochs, loss, \"bo\", label=\"Training loss\")\n",
    "plt.plot(epochs, val_loss, \"b\", label=\"Validation loss\")\n",
    "plt.title(\"Training and validation loss\")\n",
    "plt.xlabel(\"Epochs\")\n",
    "plt.ylabel(\"Loss\")\n",
    "plt.legend()\n",
    "plt.show()\n",
    "\n",
    "plt.figure(figsize=(12, 9))\n",
    "plt.plot(epochs, acc, \"bo\", label=\"Training acc\")\n",
    "plt.plot(epochs, val_acc, \"b\", label=\"Validation acc\")\n",
    "plt.title(\"Training and validation accuracy\")\n",
    "plt.xlabel(\"Epochs\")\n",
    "plt.ylabel(\"Accuracy\")\n",
    "plt.legend(loc=\"lower right\")\n",
    "plt.ylim((0.5, 1))\n",
    "plt.show()"
   ]
  },
  {
   "cell_type": "markdown",
   "metadata": {
    "colab_type": "text",
    "id": "KCoA6qwqP836"
   },
   "source": [
    "## Recuperación de los embeddings"
   ]
  },
  {
   "cell_type": "code",
   "execution_count": 17,
   "metadata": {
    "colab": {},
    "colab_type": "code",
    "id": "t8WwbsXCXtpa"
   },
   "outputs": [
    {
     "data": {
      "text/plain": [
       "(8185, 16)"
      ]
     },
     "execution_count": 17,
     "metadata": {},
     "output_type": "execute_result"
    }
   ],
   "source": [
    "e = model.layers[0]\n",
    "weights = e.get_weights()[0]\n",
    "weights.shape  # shape: (vocab_size, embedding_dim)"
   ]
  },
  {
   "cell_type": "code",
   "execution_count": 18,
   "metadata": {
    "colab": {},
    "colab_type": "code",
    "id": "GsjempweP9Lq"
   },
   "outputs": [],
   "source": [
    "import io\n",
    "\n",
    "encoder = info.features[\"text\"].encoder\n",
    "\n",
    "out_v = io.open(\"vecs.tsv\", \"w\", encoding=\"utf-8\")\n",
    "out_m = io.open(\"meta.tsv\", \"w\", encoding=\"utf-8\")\n",
    "\n",
    "for num, word in enumerate(encoder.subwords):\n",
    "    vec = weights[num + 1]  # skip 0, it's padding.\n",
    "    out_m.write(word + \"\\n\")\n",
    "    out_v.write(\"\\t\".join([str(x) for x in vec]) + \"\\n\")\n",
    "out_v.close()\n",
    "out_m.close()"
   ]
  },
  {
   "cell_type": "code",
   "execution_count": 19,
   "metadata": {},
   "outputs": [
    {
     "name": "stdout",
     "output_type": "stream",
     "text": [
      "the_\n",
      ", \n",
      ". \n",
      "a_\n",
      "and_\n",
      "of_\n",
      "to_\n",
      "s_\n",
      "is_\n",
      "br\n"
     ]
    }
   ],
   "source": [
    "!head meta.tsv"
   ]
  },
  {
   "cell_type": "code",
   "execution_count": 20,
   "metadata": {},
   "outputs": [
    {
     "name": "stdout",
     "output_type": "stream",
     "text": [
      "0.11070959\t0.084626414\t-0.008618013\t0.011528218\t-0.074729554\t0.1032185\t0.035761356\t0.09538691\t0.07524498\t-0.032778863\t-0.005185133\t-0.037440386\t-0.08481105\t0.11691715\t-0.04265682\t-0.094709165\n",
      "0.07382455\t0.10638756\t0.0056597036\t0.030290121\t-0.038026758\t0.05491492\t0.002350866\t0.0057207695\t0.009293043\t0.11797054\t0.03676013\t0.03759388\t-0.047128454\t0.072976775\t0.057435334\t-0.13056973\n",
      "-0.033548146\t-0.061071105\t0.050855402\t-0.093871385\t0.039426982\t-0.03654196\t-0.083198965\t-0.033222053\t-0.0107227685\t-0.26459444\t0.09045102\t0.07336389\t-0.03404533\t-0.012912026\t-0.005331952\t-0.16289125\n",
      "0.024449961\t0.07459897\t0.03040945\t0.035011314\t-0.076002434\t0.014158559\t-0.030919837\t-0.024761138\t-0.025279384\t-0.07976803\t-0.005039749\t0.046094842\t-0.09101193\t0.0273557\t-0.022751825\t-0.1300635\n",
      "0.15596202\t0.110141374\t-0.0919083\t0.024115697\t-0.19444986\t0.09538838\t0.03972578\t0.086846404\t0.11104989\t0.053121917\t-0.06653189\t-0.0021813794\t-0.14297186\t0.13098595\t-0.09569941\t-0.230508\n",
      "-0.07456555\t-0.016944513\t0.08087835\t-0.10827788\t0.06748027\t-0.015651967\t-0.11980391\t-0.021551646\t-0.03869175\t-0.0074909483\t0.07627168\t0.060961023\t-0.038487893\t-0.026450936\t0.05053007\t-0.30523154\n",
      "-0.016740648\t0.018170184\t0.092937686\t0.0093402825\t-0.026591778\t-0.024845984\t-0.012694993\t-7.635669e-05\t-0.0332752\t0.12237345\t0.03527863\t0.008039174\t0.025019076\t0.032843523\t0.077734224\t-0.019816626\n",
      "0.06249103\t0.046021663\t-0.041486926\t-0.03535907\t-0.03886987\t0.07352008\t-0.0354033\t0.061150223\t0.04970947\t0.092514284\t0.034007248\t0.0418138\t-0.10071871\t0.06792416\t0.01508773\t-0.1770087\n",
      "0.017400244\t0.06317208\t-0.027081817\t-0.010441668\t-0.09399775\t0.031163892\t0.031207394\t0.06070948\t-0.0042780703\t0.114648\t-0.029313866\t-0.030416813\t-0.15906337\t0.12508331\t-0.005667332\t-0.26635355\n",
      "-0.0010172285\t0.03142717\t0.107246235\t-0.08409877\t0.0534645\t-0.052107893\t-0.022190768\t-0.060098726\t0.013425572\t-0.11306496\t0.11374822\t0.056939606\t-0.0021251969\t0.01734827\t-0.024035502\t-0.022510715\n"
     ]
    }
   ],
   "source": [
    "!head vecs.tsv"
   ]
  }
 ],
 "metadata": {
  "accelerator": "GPU",
  "colab": {
   "collapsed_sections": [],
   "name": "word_embeddings.ipynb",
   "private_outputs": true,
   "provenance": [],
   "toc_visible": true
  },
  "kernelspec": {
   "display_name": "Python 3",
   "language": "python",
   "name": "python3"
  },
  "language_info": {
   "codemirror_mode": {
    "name": "ipython",
    "version": 3
   },
   "file_extension": ".py",
   "mimetype": "text/x-python",
   "name": "python",
   "nbconvert_exporter": "python",
   "pygments_lexer": "ipython3",
   "version": "3.6.9"
  }
 },
 "nbformat": 4,
 "nbformat_minor": 4
}
