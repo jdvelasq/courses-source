{
 "cells": [
  {
   "cell_type": "markdown",
   "metadata": {},
   "source": [
    "Capas personalizadas\n",
    "====="
   ]
  },
  {
   "cell_type": "markdown",
   "metadata": {},
   "source": [
    "* *30 min* | Última modificación: Julio 12, 2019."
   ]
  },
  {
   "cell_type": "markdown",
   "metadata": {},
   "source": [
    "## Preparación"
   ]
  },
  {
   "cell_type": "code",
   "execution_count": 1,
   "metadata": {},
   "outputs": [],
   "source": [
    "import tensorflow as tf\n",
    "\n",
    "tf.enable_eager_execution()"
   ]
  },
  {
   "cell_type": "markdown",
   "metadata": {},
   "source": [
    "## Creación de capas"
   ]
  },
  {
   "cell_type": "markdown",
   "metadata": {},
   "source": [
    "https://www.tensorflow.org/api_docs/python/tf/keras/layers?hl=es"
   ]
  },
  {
   "cell_type": "code",
   "execution_count": 2,
   "metadata": {},
   "outputs": [
    {
     "data": {
      "text/plain": [
       "<tf.Tensor: id=29, shape=(10, 10), dtype=float32, numpy=\n",
       "array([[0., 0., 0., 0., 0., 0., 0., 0., 0., 0.],\n",
       "       [0., 0., 0., 0., 0., 0., 0., 0., 0., 0.],\n",
       "       [0., 0., 0., 0., 0., 0., 0., 0., 0., 0.],\n",
       "       [0., 0., 0., 0., 0., 0., 0., 0., 0., 0.],\n",
       "       [0., 0., 0., 0., 0., 0., 0., 0., 0., 0.],\n",
       "       [0., 0., 0., 0., 0., 0., 0., 0., 0., 0.],\n",
       "       [0., 0., 0., 0., 0., 0., 0., 0., 0., 0.],\n",
       "       [0., 0., 0., 0., 0., 0., 0., 0., 0., 0.],\n",
       "       [0., 0., 0., 0., 0., 0., 0., 0., 0., 0.],\n",
       "       [0., 0., 0., 0., 0., 0., 0., 0., 0., 0.]], dtype=float32)>"
      ]
     },
     "execution_count": 2,
     "metadata": {},
     "output_type": "execute_result"
    }
   ],
   "source": [
    "layer = tf.keras.layers.Dense(100)\n",
    "layer = tf.keras.layers.Dense(10, input_shape=(None, 5))\n",
    "layer(tf.zeros([10, 5]))"
   ]
  },
  {
   "cell_type": "code",
   "execution_count": 3,
   "metadata": {},
   "outputs": [
    {
     "data": {
      "text/plain": [
       "[<tf.Variable 'dense_1/kernel:0' shape=(5, 10) dtype=float32, numpy=\n",
       " array([[ 5.61417043e-01, -2.59731412e-02,  5.82415462e-02,\n",
       "          4.35657799e-01, -3.23878199e-01,  4.53978002e-01,\n",
       "         -9.69767570e-05, -2.53578335e-01,  1.85887575e-01,\n",
       "          9.17168856e-02],\n",
       "        [-6.11857176e-02,  2.72828102e-01, -3.59856188e-01,\n",
       "          1.96989298e-01,  4.87840772e-02, -7.54511356e-02,\n",
       "         -1.92643702e-01,  1.75538898e-01,  4.58105385e-01,\n",
       "          3.62650752e-02],\n",
       "        [-2.69355118e-01, -1.30859971e-01, -5.55179238e-01,\n",
       "          2.06014335e-01, -1.65062845e-01, -5.71648002e-01,\n",
       "          1.96198404e-01,  5.66647828e-01,  3.88566554e-01,\n",
       "          3.04105043e-01],\n",
       "        [-2.44643480e-01,  5.84685504e-01,  1.66230857e-01,\n",
       "          6.55162334e-03,  2.80374467e-01, -5.75075150e-01,\n",
       "          4.40940857e-02,  4.09032762e-01,  5.28329551e-01,\n",
       "         -1.24622226e-01],\n",
       "        [-3.15839946e-01,  1.96247697e-01, -1.72315806e-01,\n",
       "         -3.36972892e-01, -1.74317688e-01, -1.40652061e-01,\n",
       "         -3.16072464e-01,  2.03551352e-01, -3.30842137e-02,\n",
       "         -2.87220895e-01]], dtype=float32)>,\n",
       " <tf.Variable 'dense_1/bias:0' shape=(10,) dtype=float32, numpy=array([0., 0., 0., 0., 0., 0., 0., 0., 0., 0.], dtype=float32)>]"
      ]
     },
     "execution_count": 3,
     "metadata": {},
     "output_type": "execute_result"
    }
   ],
   "source": [
    "layer.variables"
   ]
  },
  {
   "cell_type": "code",
   "execution_count": 4,
   "metadata": {},
   "outputs": [
    {
     "data": {
      "text/plain": [
       "(<tf.Variable 'dense_1/kernel:0' shape=(5, 10) dtype=float32, numpy=\n",
       " array([[ 5.61417043e-01, -2.59731412e-02,  5.82415462e-02,\n",
       "          4.35657799e-01, -3.23878199e-01,  4.53978002e-01,\n",
       "         -9.69767570e-05, -2.53578335e-01,  1.85887575e-01,\n",
       "          9.17168856e-02],\n",
       "        [-6.11857176e-02,  2.72828102e-01, -3.59856188e-01,\n",
       "          1.96989298e-01,  4.87840772e-02, -7.54511356e-02,\n",
       "         -1.92643702e-01,  1.75538898e-01,  4.58105385e-01,\n",
       "          3.62650752e-02],\n",
       "        [-2.69355118e-01, -1.30859971e-01, -5.55179238e-01,\n",
       "          2.06014335e-01, -1.65062845e-01, -5.71648002e-01,\n",
       "          1.96198404e-01,  5.66647828e-01,  3.88566554e-01,\n",
       "          3.04105043e-01],\n",
       "        [-2.44643480e-01,  5.84685504e-01,  1.66230857e-01,\n",
       "          6.55162334e-03,  2.80374467e-01, -5.75075150e-01,\n",
       "          4.40940857e-02,  4.09032762e-01,  5.28329551e-01,\n",
       "         -1.24622226e-01],\n",
       "        [-3.15839946e-01,  1.96247697e-01, -1.72315806e-01,\n",
       "         -3.36972892e-01, -1.74317688e-01, -1.40652061e-01,\n",
       "         -3.16072464e-01,  2.03551352e-01, -3.30842137e-02,\n",
       "         -2.87220895e-01]], dtype=float32)>,\n",
       " <tf.Variable 'dense_1/bias:0' shape=(10,) dtype=float32, numpy=array([0., 0., 0., 0., 0., 0., 0., 0., 0., 0.], dtype=float32)>)"
      ]
     },
     "execution_count": 4,
     "metadata": {},
     "output_type": "execute_result"
    }
   ],
   "source": [
    "layer.kernel, layer.bias"
   ]
  },
  {
   "cell_type": "markdown",
   "metadata": {},
   "source": [
    "## Capas personalizadas"
   ]
  },
  {
   "cell_type": "code",
   "execution_count": 5,
   "metadata": {},
   "outputs": [
    {
     "name": "stdout",
     "output_type": "stream",
     "text": [
      "tf.Tensor(\n",
      "[[0. 0. 0. 0. 0. 0. 0. 0. 0. 0.]\n",
      " [0. 0. 0. 0. 0. 0. 0. 0. 0. 0.]\n",
      " [0. 0. 0. 0. 0. 0. 0. 0. 0. 0.]\n",
      " [0. 0. 0. 0. 0. 0. 0. 0. 0. 0.]\n",
      " [0. 0. 0. 0. 0. 0. 0. 0. 0. 0.]\n",
      " [0. 0. 0. 0. 0. 0. 0. 0. 0. 0.]\n",
      " [0. 0. 0. 0. 0. 0. 0. 0. 0. 0.]\n",
      " [0. 0. 0. 0. 0. 0. 0. 0. 0. 0.]\n",
      " [0. 0. 0. 0. 0. 0. 0. 0. 0. 0.]\n",
      " [0. 0. 0. 0. 0. 0. 0. 0. 0. 0.]], shape=(10, 10), dtype=float32)\n",
      "\n",
      "[<tf.Variable 'my_dense_layer/kernel:0' shape=(5, 10) dtype=float32, numpy=\n",
      "array([[-0.6127326 ,  0.47224265, -0.22310793,  0.531737  , -0.06826961,\n",
      "        -0.50393385,  0.3483724 ,  0.51801044,  0.08218956,  0.60095257],\n",
      "       [-0.08688819,  0.46894294, -0.5720144 , -0.35512593,  0.25836998,\n",
      "         0.5401363 , -0.03018391, -0.45340276, -0.31534445,  0.15890962],\n",
      "       [ 0.03646713, -0.10410166, -0.3984698 , -0.4547071 ,  0.2910214 ,\n",
      "        -0.3654307 ,  0.20843798,  0.5802025 , -0.5351522 ,  0.01449674],\n",
      "       [-0.5986641 , -0.16550633, -0.5783958 ,  0.6306061 , -0.33935657,\n",
      "        -0.17347386, -0.08225399,  0.43150848,  0.07850534, -0.44423628],\n",
      "       [ 0.18964237, -0.19325772,  0.4038071 , -0.05454981,  0.51325613,\n",
      "         0.17124975,  0.03764194,  0.13846427, -0.11083275,  0.16296762]],\n",
      "      dtype=float32)>]\n"
     ]
    }
   ],
   "source": [
    "class MyDenseLayer(tf.keras.layers.Layer):\n",
    "    def __init__(self, num_outputs):\n",
    "        super(MyDenseLayer, self).__init__()\n",
    "        self.num_outputs = num_outputs\n",
    "\n",
    "    def build(self, input_shape):\n",
    "        self.kernel = self.add_variable(\"kernel\",\n",
    "                                        shape=[int(input_shape[-1]),\n",
    "                                               self.num_outputs])\n",
    "\n",
    "    def call(self, input):\n",
    "        return tf.matmul(input, self.kernel)\n",
    "\n",
    "layer = MyDenseLayer(10)\n",
    "print(layer(tf.zeros([10, 5])))\n",
    "print()\n",
    "print(layer.trainable_variables)"
   ]
  },
  {
   "cell_type": "markdown",
   "metadata": {},
   "source": [
    "## Capas compuestas"
   ]
  },
  {
   "cell_type": "code",
   "execution_count": 6,
   "metadata": {},
   "outputs": [
    {
     "name": "stdout",
     "output_type": "stream",
     "text": [
      "tf.Tensor(\n",
      "[[[[0. 0. 0.]\n",
      "   [0. 0. 0.]\n",
      "   [0. 0. 0.]]\n",
      "\n",
      "  [[0. 0. 0.]\n",
      "   [0. 0. 0.]\n",
      "   [0. 0. 0.]]]], shape=(1, 2, 3, 3), dtype=float32)\n",
      "['resnet_identity_block/conv2d/kernel:0', 'resnet_identity_block/conv2d/bias:0', 'resnet_identity_block/batch_normalization/gamma:0', 'resnet_identity_block/batch_normalization/beta:0', 'resnet_identity_block/conv2d_1/kernel:0', 'resnet_identity_block/conv2d_1/bias:0', 'resnet_identity_block/batch_normalization_1/gamma:0', 'resnet_identity_block/batch_normalization_1/beta:0', 'resnet_identity_block/conv2d_2/kernel:0', 'resnet_identity_block/conv2d_2/bias:0', 'resnet_identity_block/batch_normalization_2/gamma:0', 'resnet_identity_block/batch_normalization_2/beta:0']\n"
     ]
    }
   ],
   "source": [
    "class ResnetIdentityBlock(tf.keras.Model):\n",
    "    def __init__(self, kernel_size, filters):\n",
    "        super(ResnetIdentityBlock, self).__init__(name='')\n",
    "        filters1, filters2, filters3 = filters\n",
    "\n",
    "        self.conv2a = tf.keras.layers.Conv2D(filters1, (1, 1))\n",
    "        self.bn2a = tf.keras.layers.BatchNormalization()\n",
    "\n",
    "        self.conv2b = tf.keras.layers.Conv2D(filters2, kernel_size, padding='same')\n",
    "        self.bn2b = tf.keras.layers.BatchNormalization()\n",
    "\n",
    "        self.conv2c = tf.keras.layers.Conv2D(filters3, (1, 1))\n",
    "        self.bn2c = tf.keras.layers.BatchNormalization()\n",
    "\n",
    "    def call(self, input_tensor, training=False):\n",
    "        x = self.conv2a(input_tensor)\n",
    "        x = self.bn2a(x, training=training)\n",
    "        x = tf.nn.relu(x)\n",
    "\n",
    "        x = self.conv2b(x)\n",
    "        x = self.bn2b(x, training=training)\n",
    "        x = tf.nn.relu(x)\n",
    "\n",
    "        x = self.conv2c(x)\n",
    "        x = self.bn2c(x, training=training)\n",
    "\n",
    "        x += input_tensor\n",
    "        return tf.nn.relu(x)\n",
    "\n",
    "\n",
    "block = ResnetIdentityBlock(1, [1, 2, 3])\n",
    "print(block(tf.zeros([1, 2, 3, 3])))\n",
    "print([x.name for x in block.trainable_variables])"
   ]
  },
  {
   "cell_type": "code",
   "execution_count": 7,
   "metadata": {},
   "outputs": [
    {
     "data": {
      "text/plain": [
       "<tf.Tensor: id=509, shape=(1, 2, 3, 3), dtype=float32, numpy=\n",
       "array([[[[0., 0., 0.],\n",
       "         [0., 0., 0.],\n",
       "         [0., 0., 0.]],\n",
       "\n",
       "        [[0., 0., 0.],\n",
       "         [0., 0., 0.],\n",
       "         [0., 0., 0.]]]], dtype=float32)>"
      ]
     },
     "execution_count": 7,
     "metadata": {},
     "output_type": "execute_result"
    }
   ],
   "source": [
    "my_seq = tf.keras.Sequential(\n",
    "     [tf.keras.layers.Conv2D(1, (1, 1)),\n",
    "      tf.keras.layers.BatchNormalization(),\n",
    "      tf.keras.layers.Conv2D(2, 1,\n",
    "                             padding='same'),\n",
    "      tf.keras.layers.BatchNormalization(),\n",
    "      tf.keras.layers.Conv2D(3, (1, 1)),\n",
    "      tf.keras.layers.BatchNormalization()])\n",
    "\n",
    "my_seq(tf.zeros([1, 2, 3, 3]))"
   ]
  }
 ],
 "metadata": {
  "kernelspec": {
   "display_name": "Python 3",
   "language": "python",
   "name": "python3"
  },
  "language_info": {
   "codemirror_mode": {
    "name": "ipython",
    "version": 3
   },
   "file_extension": ".py",
   "mimetype": "text/x-python",
   "name": "python",
   "nbconvert_exporter": "python",
   "pygments_lexer": "ipython3",
   "version": "3.6.8"
  }
 },
 "nbformat": 4,
 "nbformat_minor": 2
}
