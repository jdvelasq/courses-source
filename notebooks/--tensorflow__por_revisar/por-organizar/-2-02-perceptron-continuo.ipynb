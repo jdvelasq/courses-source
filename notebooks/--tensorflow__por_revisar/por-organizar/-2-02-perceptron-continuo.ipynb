{
 "cells": [
  {
   "cell_type": "markdown",
   "metadata": {},
   "source": [
    "Perceptrón Continuo en TensorFlow\n",
    "==="
   ]
  },
  {
   "cell_type": "markdown",
   "metadata": {},
   "source": [
    "* *30 min* | Última modificación: Julio 13, 2019."
   ]
  },
  {
   "cell_type": "markdown",
   "metadata": {},
   "source": [
    "## Modelo matemático"
   ]
  },
  {
   "cell_type": "markdown",
   "metadata": {},
   "source": [
    "### Ecuación del perceptrón continuo"
   ]
  },
  {
   "cell_type": "markdown",
   "metadata": {},
   "source": [
    "$$y = \\sigma(u) = \\sigma \\left( w_0 + \\sum_{i=1}^n w_i x_i  \\right)$$"
   ]
  },
  {
   "cell_type": "markdown",
   "metadata": {},
   "source": [
    "![assets/PerceptronRegresion-02.png](assets/PerceptronRegresion-02.png)"
   ]
  },
  {
   "cell_type": "markdown",
   "metadata": {},
   "source": [
    "### Error instántaneo\n",
    "\n",
    "$$\n",
    "e_k = d_k-y_k= \n",
    "d_k-\\sigma \\left( \\mathbf{w}^T_k \\mathbf{x} \\right)  =\n",
    "d_k- \\sigma \\left( \\sum_{i=0}^n w_{i,k} x_{i,k} \\right)\n",
    "$$"
   ]
  },
  {
   "cell_type": "markdown",
   "metadata": {},
   "source": [
    "### Gradiente del error cuadrático instántaneo\n",
    "\n",
    "\n",
    "$$\\frac{\\partial}{\\partial \\mathbf{w}} [e^2_k] = \n",
    "2 e_k \\frac{\\partial}{\\partial \\mathbf{w}} [e_k]  =\n",
    "2 e_k \\frac{\\partial}{\\partial \\mathbf{w}} (d_k - y_k) =\n",
    "2 e_k \\left[ - \\frac{\\partial}{\\partial \\mathbf{w}}y_k  \\right]\n",
    "$$"
   ]
  },
  {
   "cell_type": "markdown",
   "metadata": {},
   "source": [
    "$$\n",
    "y_k = \\sigma \\left( \\sum_{i=0}^n w_{i,k} x_{i,k} \\right)\n",
    "= \\sigma (\\mathbf{w}^T_k \\mathbf{x}_k) \n",
    "= \\sigma ( s_k )\n",
    "$$"
   ]
  },
  {
   "cell_type": "markdown",
   "metadata": {},
   "source": [
    "$$s_k = \\mathbf{w}^T_k \\mathbf{x}_k$$"
   ]
  },
  {
   "cell_type": "markdown",
   "metadata": {},
   "source": [
    "$$\n",
    "\\frac{\\partial}{\\partial \\mathbf{w}}y_k = \n",
    "\\frac{\\partial}{\\partial \\mathbf{w}_k} \\sigma (s_k) = \n",
    "\\sigma' (s_k) \\frac{\\partial s_k}{\\partial \\mathbf{w} }\n",
    "$$"
   ]
  },
  {
   "cell_type": "markdown",
   "metadata": {},
   "source": [
    "$$\n",
    "\\frac{\\partial}{\\partial \\mathbf{w}_k} [e^2_k] = \n",
    "2 e_k \\left[ - \\frac{\\partial}{\\partial \\mathbf{w}}y_k  \\right] = \n",
    "2 e_k \\left[ -\\sigma' (s_k) \\frac{\\partial s_k}{\\partial \\mathbf{w} } \\right] = \n",
    "-2 e_k \\sigma' \\left(s_k\\right) \\mathbf{x}_k\n",
    "$$"
   ]
  },
  {
   "cell_type": "markdown",
   "metadata": {},
   "source": [
    "### Método del gradiente"
   ]
  },
  {
   "cell_type": "markdown",
   "metadata": {},
   "source": [
    "$$\n",
    "\\mathbf{w}_{k+1} = \\mathbf{w}_k - \\mu \\frac{\\partial}{\\partial\\mathbf{w}} \\left[ e^2_k\\right] =\n",
    "\\mathbf{w}_k + 2 \\mu e_k \\sigma' \\left(s_k \\right) \\mathbf{x}_k\n",
    "$$"
   ]
  },
  {
   "cell_type": "markdown",
   "metadata": {},
   "source": [
    "### Derivadas de la función de activación\n",
    "\n",
    "* Para la función logistica-sigmoidea:\n",
    "\n",
    "$$\n",
    "\\sigma (u) = \\frac{1}{1+\\exp(-u)}, \\quad  \\frac{\\partial }{\\partial u} \\sigma(u)=\\sigma(u)[1-\\sigma(u)]\n",
    "$$\n",
    "\n",
    "\n",
    "* Para la función $\\tanh$:\n",
    "\n",
    "$$\n",
    "\\sigma(u) = \\tanh(u) = \\frac{\\exp(u) - \\exp(-u)}{\\exp(u) + \\exp(-u)}, \\quad \\frac{d}{du} \\sigma(u) = 1 - \\sigma(u)^2\n",
    "$$"
   ]
  },
  {
   "cell_type": "markdown",
   "metadata": {},
   "source": [
    "### Ecuación de mejora"
   ]
  },
  {
   "cell_type": "markdown",
   "metadata": {},
   "source": [
    "$$\n",
    "\\mathbf{w}_{k+1} = \n",
    "\\mathbf{w}_k + 2 \\mu e_k \\cdot \\sigma(u)[1-\\sigma(u)] \\cdot  \\mathbf{x}_k\n",
    "$$"
   ]
  },
  {
   "cell_type": "markdown",
   "metadata": {},
   "source": [
    "## Regresión no lineal usando perceptrones continuos"
   ]
  },
  {
   "cell_type": "markdown",
   "metadata": {},
   "source": [
    "### Dependencias"
   ]
  },
  {
   "cell_type": "code",
   "execution_count": 1,
   "metadata": {},
   "outputs": [],
   "source": [
    "import numpy as np\n",
    "import matplotlib.pyplot as plt\n",
    "%matplotlib inline"
   ]
  },
  {
   "cell_type": "markdown",
   "metadata": {},
   "source": [
    "### Dataset"
   ]
  },
  {
   "cell_type": "code",
   "execution_count": 2,
   "metadata": {},
   "outputs": [
    {
     "data": {
      "image/png": "[encoded data removed]",
      "text/plain": [
       "<Figure size 432x288 with 1 Axes>"
      ]
     },
     "metadata": {
      "needs_background": "light"
     },
     "output_type": "display_data"
    }
   ],
   "source": [
    "n_samples = 60\n",
    "np.random.seed(1234)\n",
    "X = np.random.uniform(-5, 5, n_samples)\n",
    "d = 1./(1 + np.exp(-(1.0 + 1.53 * X))) + 0.05 * np.random.normal(size=n_samples)\n",
    "X = np.array([[e] for e in X])\n",
    "plt.scatter(X, d);"
   ]
  },
  {
   "cell_type": "markdown",
   "metadata": {},
   "source": [
    "### Implementación en TensorFlow usando operaciones elementales"
   ]
  },
  {
   "cell_type": "code",
   "execution_count": 3,
   "metadata": {},
   "outputs": [
    {
     "name": "stdout",
     "output_type": "stream",
     "text": [
      "3.5712192\n",
      "0.19579235\n",
      "0.15588039\n",
      "0.14806175\n"
     ]
    }
   ],
   "source": [
    "import tensorflow as tf\n",
    "\n",
    "##\n",
    "## Convierte los datos en tensores\n",
    "##\n",
    "X_ = tf.constant(X, dtype=np.float32) \n",
    "d_ = tf.constant(d, dtype=np.float32) \n",
    "\n",
    "##\n",
    "## Parametros del perceptron\n",
    "##\n",
    "coef_ = tf.Variable([[0.01]], dtype=np.float32)\n",
    "intercept_ = tf.Variable(0, dtype=np.float32)\n",
    "\n",
    "##\n",
    "##  Calcula el error\n",
    "##\n",
    "SSE = tf.reduce_sum(\n",
    "    tf.square(d_ -\n",
    "              (tf.transpose(\n",
    "                  tf.nn.sigmoid(intercept_ + tf.matmul(X_, coef_)))))[0])\n",
    "\n",
    "##\n",
    "##  Inicializa el optimizador\n",
    "##\n",
    "opt = tf.train.GradientDescentOptimizer(learning_rate=0.01)\n",
    "# opt = tf.train.AdadeltaOptimizer(learning_rate=0.01, rho=0.95, epsilon=1e-08)\n",
    "# opt = tf.train.AdagradOptimizer(learning_rate=0.1)\n",
    "# opt = tf.train.AdamOptimizer(learning_rate=0.001)\n",
    "\n",
    "##\n",
    "##  Pronostico\n",
    "##\n",
    "x_pred = np.linspace(start=-4.5, stop=4.5, num=50)\n",
    "X_pred_ = tf.constant([[u] for u in x_pred], dtype=np.float32)\n",
    "y_pred_ = tf.nn.sigmoid(tf.matmul(X_pred_, coef_) + intercept_)\n",
    "\n",
    "opt = opt.minimize(SSE)\n",
    "\n",
    "h = []\n",
    "\n",
    "with tf.Session() as sess:\n",
    "    sess.run(tf.global_variables_initializer())\n",
    "    for i in range(400):\n",
    "        sess.run(opt)\n",
    "        h.append(SSE.eval())\n",
    "        if (i % 100 == 0):\n",
    "            print(sess.run(SSE))        \n",
    "    \n",
    "    y_pred = y_pred_.eval()"
   ]
  },
  {
   "cell_type": "code",
   "execution_count": 4,
   "metadata": {},
   "outputs": [
    {
     "data": {
      "image/png": "[encoded data removed]",
      "text/plain": [
       "<Figure size 432x288 with 1 Axes>"
      ]
     },
     "metadata": {
      "needs_background": "light"
     },
     "output_type": "display_data"
    }
   ],
   "source": [
    "##\n",
    "## Error de entrenamiento\n",
    "##\n",
    "plt.plot(h)\n",
    "plt.yscale('log')"
   ]
  },
  {
   "cell_type": "code",
   "execution_count": 5,
   "metadata": {},
   "outputs": [
    {
     "data": {
      "text/plain": [
       "[<matplotlib.lines.Line2D at 0x7f528401b0b8>]"
      ]
     },
     "execution_count": 5,
     "metadata": {},
     "output_type": "execute_result"
    },
    {
     "data": {
      "image/png": "[encoded data removed]",
      "text/plain": [
       "<Figure size 432x288 with 1 Axes>"
      ]
     },
     "metadata": {
      "needs_background": "light"
     },
     "output_type": "display_data"
    }
   ],
   "source": [
    "##\n",
    "## Pronóstico\n",
    "##\n",
    "plt.plot(X, d, 'o')\n",
    "plt.plot(x_pred, y_pred, linewidth=3)"
   ]
  }
 ],
 "metadata": {
  "kernelspec": {
   "display_name": "Python 3",
   "language": "python",
   "name": "python3"
  },
  "language_info": {
   "codemirror_mode": {
    "name": "ipython",
    "version": 3
   },
   "file_extension": ".py",
   "mimetype": "text/x-python",
   "name": "python",
   "nbconvert_exporter": "python",
   "pygments_lexer": "ipython3",
   "version": "3.6.9"
  }
 },
 "nbformat": 4,
 "nbformat_minor": 4
}
