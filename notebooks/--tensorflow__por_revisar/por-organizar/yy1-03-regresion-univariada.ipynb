{
 "cells": [
  {
   "cell_type": "markdown",
   "metadata": {},
   "source": [
    "Ejemplo --- Regresión no lineal univariada usando MLP en TensorFlow\n",
    "===\n",
    "\n",
    "* *15 min* | Última modificación: Junio 22, 2019."
   ]
  },
  {
   "cell_type": "markdown",
   "metadata": {},
   "source": [
    "Este documento presenta los ejemplos desarrollados en el tutorial *Regresión no lineal univariada con perceptrones multicapa en R* usando el lenguaje Python."
   ]
  },
  {
   "cell_type": "markdown",
   "metadata": {},
   "source": [
    "## Datos del problema planteado"
   ]
  },
  {
   "cell_type": "markdown",
   "metadata": {},
   "source": [
    "Se desea construir un modelo de regresión no lineal para la siguiente muestra de 31 observaciones de $(x, y)$. "
   ]
  },
  {
   "cell_type": "code",
   "execution_count": 1,
   "metadata": {},
   "outputs": [],
   "source": [
    "x = [-3.5000, -3.2941, -3.0882, -2.8824, -2.6765, \n",
    "     -2.4706, -2.2647, -2.0588, -1.8529, -1.6471, \n",
    "     -1.4412, -1.2353, -1.0294, -0.8235, -0.6176, \n",
    "     -0.4118, -0.2059,  0.0000,  0.2059,  0.4118, \n",
    "      0.6176,  0.8235,  1.0294,  1.2353,  1.4412, \n",
    "      1.6471,  1.8529,  2.0588,  2.2647,  2.4706, \n",
    "      2.6765,  2.8824,  3.0882,  3.2941,  3.5000]\n",
    "\n",
    "d = [ 0.0000,  0.0000,  0.0001,  0.0002,  0.0008,  \n",
    "      0.0022,  0.0059,  0.0144,  0.0323,  0.0664,  \n",
    "      0.1253,  0.2174,  0.3466,  0.5075,  0.6828,  \n",
    "      0.8440,  0.9585,  1.0000,  0.9585,  0.8440,  \n",
    "      0.6828,  0.5075,  0.3466,  0.2174,  0.1253,  \n",
    "      0.0664,  0.0323,  0.0144,  0.0059,  0.0022,  \n",
    "      0.0008,  0.0002,  0.0001,  0.0000,  0.0000]"
   ]
  },
  {
   "cell_type": "code",
   "execution_count": 2,
   "metadata": {
    "scrolled": true
   },
   "outputs": [],
   "source": [
    "import matplotlib.pyplot as plt\n",
    "\n",
    "plt.plot(x, d, 'o')\n",
    "plt.grid()"
   ]
  },
  {
   "cell_type": "markdown",
   "metadata": {},
   "source": [
    "## Solución"
   ]
  },
  {
   "cell_type": "markdown",
   "metadata": {},
   "source": [
    "A continuación se presenta el código en TensorFlow. Aquí se modela el perceptrón multicapa, como una red densa (totalmente conectada) con 3 neuronas en la capa oculta"
   ]
  },
  {
   "cell_type": "code",
   "execution_count": 4,
   "metadata": {},
   "outputs": [
    {
     "name": "stdout",
     "output_type": "stream",
     "text": [
      "_________________________________________________________________\n",
      "Layer (type)                 Output Shape              Param #   \n",
      "=================================================================\n",
      "dense (Dense)                (None, 3)                 6         \n",
      "_________________________________________________________________\n",
      "dense_1 (Dense)              (None, 1)                 4         \n",
      "=================================================================\n",
      "Total params: 10\n",
      "Trainable params: 10\n",
      "Non-trainable params: 0\n",
      "_________________________________________________________________\n"
     ]
    }
   ],
   "source": [
    "##\n",
    "## En esta celda se configura el modelo\n",
    "##\n",
    "\n",
    "import tensorflow as tf\n",
    "\n",
    "## Crea el modelo vacio sin capas\n",
    "model = tf.keras.Sequential()\n",
    "\n",
    "## Agrega la capa oculta\n",
    "model.add(tf.keras.layers.Dense(3,                         # una neurona en la capa oculta   \n",
    "                                activation=tf.nn.sigmoid,  # función de activación\n",
    "                                input_shape = (1,)))       # una neurona de entrada\n",
    "\n",
    "## Agrega la capa de salida\n",
    "model.add(tf.keras.layers.Dense(1,                         # una neurona de salida\n",
    "                                activation=tf.nn.sigmoid)) # capa de salida\n",
    "\n",
    "## Imprime el reporte de configuración del modelo\n",
    "model.summary()          "
   ]
  },
  {
   "cell_type": "code",
   "execution_count": 5,
   "metadata": {},
   "outputs": [
    {
     "data": {
      "image/png": "[encoded data removed]",
      "text/plain": [
       "<Figure size 432x288 with 1 Axes>"
      ]
     },
     "metadata": {
      "needs_background": "light"
     },
     "output_type": "display_data"
    }
   ],
   "source": [
    "##\n",
    "## En esta celda se realiza el entrenamiento del modelo\n",
    "##\n",
    "\n",
    "## Optimizacion usando gradiente\n",
    "optimizer = tf.train.GradientDescentOptimizer(learning_rate=0.1)\n",
    "\n",
    "## Compila el modelo\n",
    "model.compile(optimizer=optimizer,     # optimizador\n",
    "              loss='mse',              # función a minimizar\n",
    "              metrics=['mse', 'mae'])  # metricas a reportar\n",
    "\n",
    "## Entrena el modelo y guarda \n",
    "## el reporte de entrenamiento\n",
    "history = model.fit(x, d, epochs=25000, verbose=0)\n",
    "\n",
    "## grafico del error versus la iteración\n",
    "plt.plot(history.epoch, np.array(history.history['loss']));\n"
   ]
  },
  {
   "cell_type": "code",
   "execution_count": 6,
   "metadata": {
    "scrolled": true
   },
   "outputs": [
    {
     "data": {
      "image/png": "[encoded data removed]",
      "text/plain": [
       "<Figure size 432x288 with 1 Axes>"
      ]
     },
     "metadata": {
      "needs_background": "light"
     },
     "output_type": "display_data"
    }
   ],
   "source": [
    "##\n",
    "## Uso del modelo\n",
    "##\n",
    "\n",
    "## Pronosto para una malla densa del eje X\n",
    "x_pred = np.linspace(start=-3.5, stop=3.5, num=30)\n",
    "y_pred = model.predict(x_pred)\n",
    "\n",
    "## grafico comparativo\n",
    "plt.plot(x, d, 'o');\n",
    "plt.plot(x_pred, y_pred);"
   ]
  }
 ],
 "metadata": {
  "kernelspec": {
   "display_name": "Python 3",
   "language": "python",
   "name": "python3"
  },
  "language_info": {
   "codemirror_mode": {
    "name": "ipython",
    "version": 3
   },
   "file_extension": ".py",
   "mimetype": "text/x-python",
   "name": "python",
   "nbconvert_exporter": "python",
   "pygments_lexer": "ipython3",
   "version": "3.6.9"
  }
 },
 "nbformat": 4,
 "nbformat_minor": 4
}
