{
 "cells": [
  {
   "cell_type": "markdown",
   "id": "bdb236f3-1241-4fb6-88ca-0d8e702a1d8c",
   "metadata": {},
   "source": [
    "Redes de cascada-correlación\n",
    "===\n",
    "\n",
    "* 41:42 min | Última modificación: Mayo 31, 2021 | [YouTube]"
   ]
  },
  {
   "cell_type": "code",
   "execution_count": 1,
   "id": "1004be85-e105-40b1-a882-9d57aa4a7307",
   "metadata": {},
   "outputs": [],
   "source": [
    "import warnings\n",
    "\n",
    "warnings.filterwarnings(\"ignore\")"
   ]
  },
  {
   "cell_type": "markdown",
   "id": "e48d796b-8772-4911-b928-d242e9ad9471",
   "metadata": {},
   "source": [
    "## Definición"
   ]
  },
  {
   "cell_type": "markdown",
   "id": "60220128-7571-4f32-bd0b-1e78805fccbc",
   "metadata": {},
   "source": [
    "En este tipo de red neuronal, cada neurona de la capa oculta tiene conexiones hacia cada una de las neuronas ocultas siguientes (hacia delante) formando una \"cascada\"."
   ]
  },
  {
   "cell_type": "markdown",
   "id": "d8854e56-88b7-4f2a-98d1-3cc91cfc78f5",
   "metadata": {},
   "source": [
    "![assets/som.png](assets/cascade-correlation.png)"
   ]
  },
  {
   "cell_type": "markdown",
   "id": "a82c30b4-cd64-4ed0-a84a-2dd0d82cb2cb",
   "metadata": {},
   "source": [
    "## Caso de aplicación"
   ]
  },
  {
   "cell_type": "code",
   "execution_count": 2,
   "id": "7c56e612-0cd2-4835-a37e-e00e36198a30",
   "metadata": {},
   "outputs": [
    {
     "data": {
      "text/html": [
       "<div>\n",
       "<style scoped>\n",
       "    .dataframe tbody tr th:only-of-type {\n",
       "        vertical-align: middle;\n",
       "    }\n",
       "\n",
       "    .dataframe tbody tr th {\n",
       "        vertical-align: top;\n",
       "    }\n",
       "\n",
       "    .dataframe thead th {\n",
       "        text-align: right;\n",
       "    }\n",
       "</style>\n",
       "<table border=\"1\" class=\"dataframe\">\n",
       "  <thead>\n",
       "    <tr style=\"text-align: right;\">\n",
       "      <th></th>\n",
       "      <th>cement</th>\n",
       "      <th>slag</th>\n",
       "      <th>ash</th>\n",
       "      <th>water</th>\n",
       "      <th>superplastic</th>\n",
       "      <th>coarseagg</th>\n",
       "      <th>fineagg</th>\n",
       "      <th>age</th>\n",
       "      <th>strength</th>\n",
       "    </tr>\n",
       "  </thead>\n",
       "  <tbody>\n",
       "    <tr>\n",
       "      <th>0</th>\n",
       "      <td>540.0</td>\n",
       "      <td>0.0</td>\n",
       "      <td>0.0</td>\n",
       "      <td>162.0</td>\n",
       "      <td>2.5</td>\n",
       "      <td>1040.0</td>\n",
       "      <td>676.0</td>\n",
       "      <td>28</td>\n",
       "      <td>79.99</td>\n",
       "    </tr>\n",
       "    <tr>\n",
       "      <th>1</th>\n",
       "      <td>540.0</td>\n",
       "      <td>0.0</td>\n",
       "      <td>0.0</td>\n",
       "      <td>162.0</td>\n",
       "      <td>2.5</td>\n",
       "      <td>1055.0</td>\n",
       "      <td>676.0</td>\n",
       "      <td>28</td>\n",
       "      <td>61.89</td>\n",
       "    </tr>\n",
       "    <tr>\n",
       "      <th>2</th>\n",
       "      <td>332.5</td>\n",
       "      <td>142.5</td>\n",
       "      <td>0.0</td>\n",
       "      <td>228.0</td>\n",
       "      <td>0.0</td>\n",
       "      <td>932.0</td>\n",
       "      <td>594.0</td>\n",
       "      <td>270</td>\n",
       "      <td>40.27</td>\n",
       "    </tr>\n",
       "    <tr>\n",
       "      <th>3</th>\n",
       "      <td>332.5</td>\n",
       "      <td>142.5</td>\n",
       "      <td>0.0</td>\n",
       "      <td>228.0</td>\n",
       "      <td>0.0</td>\n",
       "      <td>932.0</td>\n",
       "      <td>594.0</td>\n",
       "      <td>365</td>\n",
       "      <td>41.05</td>\n",
       "    </tr>\n",
       "    <tr>\n",
       "      <th>4</th>\n",
       "      <td>198.6</td>\n",
       "      <td>132.4</td>\n",
       "      <td>0.0</td>\n",
       "      <td>192.0</td>\n",
       "      <td>0.0</td>\n",
       "      <td>978.4</td>\n",
       "      <td>825.5</td>\n",
       "      <td>360</td>\n",
       "      <td>44.30</td>\n",
       "    </tr>\n",
       "  </tbody>\n",
       "</table>\n",
       "</div>"
      ],
      "text/plain": [
       "   cement   slag  ash  water  superplastic  coarseagg  fineagg  age  strength\n",
       "0   540.0    0.0  0.0  162.0           2.5     1040.0    676.0   28     79.99\n",
       "1   540.0    0.0  0.0  162.0           2.5     1055.0    676.0   28     61.89\n",
       "2   332.5  142.5  0.0  228.0           0.0      932.0    594.0  270     40.27\n",
       "3   332.5  142.5  0.0  228.0           0.0      932.0    594.0  365     41.05\n",
       "4   198.6  132.4  0.0  192.0           0.0      978.4    825.5  360     44.30"
      ]
     },
     "execution_count": 2,
     "metadata": {},
     "output_type": "execute_result"
    }
   ],
   "source": [
    "import pandas as pd\n",
    "\n",
    "df = pd.read_csv(\n",
    "    \"https://raw.githubusercontent.com/jdvelasq/datalabs/master/datasets/concrete.csv\",\n",
    "    sep=\",\",  \n",
    "    thousands=None,\n",
    "    decimal=\".\",\n",
    ")  \n",
    "\n",
    "df.head()"
   ]
  },
  {
   "cell_type": "markdown",
   "id": "ef71bf1f-8f78-4459-b00b-f3a58b7dd9d4",
   "metadata": {},
   "source": [
    "## Preparación de los datos"
   ]
  },
  {
   "cell_type": "code",
   "execution_count": 3,
   "id": "642ec1a8-be08-4c20-bcac-91831674c3f1",
   "metadata": {},
   "outputs": [
    {
     "data": {
      "image/png": "[encoded data removed]",
      "text/plain": [
       "<Figure size 720x432 with 1 Axes>"
      ]
     },
     "metadata": {
      "needs_background": "light"
     },
     "output_type": "display_data"
    }
   ],
   "source": [
    "import matplotlib.pyplot as plt\n",
    "import seaborn as sns\n",
    "\n",
    "#\n",
    "# Los rangos de las variables numéricas son\n",
    "# bastantes diferentes\n",
    "#\n",
    "plt.figure(figsize=(10, 6))\n",
    "sns.boxplot(data=df)\n",
    "plt.xticks(rotation=90);"
   ]
  },
  {
   "cell_type": "code",
   "execution_count": 4,
   "id": "042598fb-d1ad-49d4-8fcf-5e62b9caea95",
   "metadata": {},
   "outputs": [
    {
     "data": {
      "image/png": "[encoded data removed]",
      "text/plain": [
       "<Figure size 720x432 with 1 Axes>"
      ]
     },
     "metadata": {
      "needs_background": "light"
     },
     "output_type": "display_data"
    }
   ],
   "source": [
    "from sklearn.preprocessing import MinMaxScaler\n",
    "\n",
    "#\n",
    "#  Se escalan todas las variables al rango [0, 1]\n",
    "#  para evitar problemas asociados a la escala\n",
    "#\n",
    "scaler = MinMaxScaler()\n",
    "df_norm = pd.DataFrame(scaler.fit_transform(df), columns=df.columns)\n",
    "\n",
    "plt.figure(figsize=(10, 6))\n",
    "sns.boxplot(data=df_norm)\n",
    "plt.xticks(rotation=90);"
   ]
  },
  {
   "cell_type": "markdown",
   "id": "1211c272-807a-4818-afef-128fdce59fa5",
   "metadata": {},
   "source": [
    "## Modelo"
   ]
  },
  {
   "cell_type": "code",
   "execution_count": 5,
   "id": "f3de9dff-f501-4176-b83f-1ed2552a337f",
   "metadata": {},
   "outputs": [
    {
     "data": {
      "text/html": [
       "<div>\n",
       "<style scoped>\n",
       "    .dataframe tbody tr th:only-of-type {\n",
       "        vertical-align: middle;\n",
       "    }\n",
       "\n",
       "    .dataframe tbody tr th {\n",
       "        vertical-align: top;\n",
       "    }\n",
       "\n",
       "    .dataframe thead th {\n",
       "        text-align: right;\n",
       "    }\n",
       "</style>\n",
       "<table border=\"1\" class=\"dataframe\">\n",
       "  <thead>\n",
       "    <tr style=\"text-align: right;\">\n",
       "      <th></th>\n",
       "      <th>cement</th>\n",
       "      <th>slag</th>\n",
       "      <th>ash</th>\n",
       "      <th>water</th>\n",
       "      <th>superplastic</th>\n",
       "      <th>coarseagg</th>\n",
       "      <th>fineagg</th>\n",
       "      <th>age</th>\n",
       "      <th>strength</th>\n",
       "    </tr>\n",
       "  </thead>\n",
       "  <tbody>\n",
       "    <tr>\n",
       "      <th>0</th>\n",
       "      <td>1.000000</td>\n",
       "      <td>0.000000</td>\n",
       "      <td>0.0</td>\n",
       "      <td>0.321086</td>\n",
       "      <td>0.07764</td>\n",
       "      <td>0.694767</td>\n",
       "      <td>0.205720</td>\n",
       "      <td>0.074176</td>\n",
       "      <td>0.967485</td>\n",
       "    </tr>\n",
       "    <tr>\n",
       "      <th>1</th>\n",
       "      <td>1.000000</td>\n",
       "      <td>0.000000</td>\n",
       "      <td>0.0</td>\n",
       "      <td>0.321086</td>\n",
       "      <td>0.07764</td>\n",
       "      <td>0.738372</td>\n",
       "      <td>0.205720</td>\n",
       "      <td>0.074176</td>\n",
       "      <td>0.741996</td>\n",
       "    </tr>\n",
       "    <tr>\n",
       "      <th>2</th>\n",
       "      <td>0.526256</td>\n",
       "      <td>0.396494</td>\n",
       "      <td>0.0</td>\n",
       "      <td>0.848243</td>\n",
       "      <td>0.00000</td>\n",
       "      <td>0.380814</td>\n",
       "      <td>0.000000</td>\n",
       "      <td>0.739011</td>\n",
       "      <td>0.472655</td>\n",
       "    </tr>\n",
       "    <tr>\n",
       "      <th>3</th>\n",
       "      <td>0.526256</td>\n",
       "      <td>0.396494</td>\n",
       "      <td>0.0</td>\n",
       "      <td>0.848243</td>\n",
       "      <td>0.00000</td>\n",
       "      <td>0.380814</td>\n",
       "      <td>0.000000</td>\n",
       "      <td>1.000000</td>\n",
       "      <td>0.482372</td>\n",
       "    </tr>\n",
       "    <tr>\n",
       "      <th>4</th>\n",
       "      <td>0.220548</td>\n",
       "      <td>0.368392</td>\n",
       "      <td>0.0</td>\n",
       "      <td>0.560703</td>\n",
       "      <td>0.00000</td>\n",
       "      <td>0.515698</td>\n",
       "      <td>0.580783</td>\n",
       "      <td>0.986264</td>\n",
       "      <td>0.522860</td>\n",
       "    </tr>\n",
       "  </tbody>\n",
       "</table>\n",
       "</div>"
      ],
      "text/plain": [
       "     cement      slag  ash     water  superplastic  coarseagg   fineagg  \\\n",
       "0  1.000000  0.000000  0.0  0.321086       0.07764   0.694767  0.205720   \n",
       "1  1.000000  0.000000  0.0  0.321086       0.07764   0.738372  0.205720   \n",
       "2  0.526256  0.396494  0.0  0.848243       0.00000   0.380814  0.000000   \n",
       "3  0.526256  0.396494  0.0  0.848243       0.00000   0.380814  0.000000   \n",
       "4  0.220548  0.368392  0.0  0.560703       0.00000   0.515698  0.580783   \n",
       "\n",
       "        age  strength  \n",
       "0  0.074176  0.967485  \n",
       "1  0.074176  0.741996  \n",
       "2  0.739011  0.472655  \n",
       "3  1.000000  0.482372  \n",
       "4  0.986264  0.522860  "
      ]
     },
     "execution_count": 5,
     "metadata": {},
     "output_type": "execute_result"
    }
   ],
   "source": [
    "df_norm.head()"
   ]
  },
  {
   "cell_type": "code",
   "execution_count": 6,
   "id": "830d7845-3ea2-4f07-831d-94c6df89a470",
   "metadata": {},
   "outputs": [
    {
     "name": "stdout",
     "output_type": "stream",
     "text": [
      "Features: [[1.         0.         0.         0.32108626 0.07763975 0.69476744\n",
      "  0.20572002 0.07417582]], Target: [0.96748474]\n",
      "Features: [[1.         0.         0.         0.32108626 0.07763975 0.73837209\n",
      "  0.20572002 0.07417582]], Target: [0.74199576]\n",
      "Features: [[0.52625571 0.39649416 0.         0.84824281 0.         0.38081395\n",
      "  0.         0.73901099]], Target: [0.47265479]\n",
      "Features: [[0.52625571 0.39649416 0.         0.84824281 0.         0.38081395\n",
      "  0.         1.        ]], Target: [0.48237199]\n",
      "Features: [[0.22054795 0.36839176 0.         0.56070288 0.         0.51569767\n",
      "  0.58078274 0.98626374]], Target: [0.52286035]\n"
     ]
    }
   ],
   "source": [
    "import tensorflow as tf\n",
    "\n",
    "X_train = df_norm.copy()\n",
    "y_train_true = X_train.pop(\"strength\")\n",
    "\n",
    "dataset_train = tf.data.Dataset.from_tensor_slices(\n",
    "    (X_train.values, y_train_true.values)\n",
    ").batch(1)\n",
    "\n",
    "for feat, targ in dataset_train.take(5):\n",
    "    print ('Features: {}, Target: {}'.format(feat, targ))"
   ]
  },
  {
   "cell_type": "code",
   "execution_count": 7,
   "id": "764f0575-eb86-44df-a295-aa9120d937f0",
   "metadata": {},
   "outputs": [
    {
     "name": "stdout",
     "output_type": "stream",
     "text": [
      "Model: \"sequential\"\n",
      "_________________________________________________________________\n",
      "Layer (type)                 Output Shape              Param #   \n",
      "=================================================================\n",
      "layer1 (Dense)               (None, None, 1)           9         \n",
      "=================================================================\n",
      "Total params: 9\n",
      "Trainable params: 9\n",
      "Non-trainable params: 0\n",
      "_________________________________________________________________\n",
      "Epoch 1/10\n",
      "WARNING:tensorflow:Model was constructed with shape (None, None, 8) for input KerasTensor(type_spec=TensorSpec(shape=(None, None, 8), dtype=tf.float32, name='layer1_input'), name='layer1_input', description=\"created by layer 'layer1_input'\"), but it was called on an input with incompatible shape (None, 8).\n",
      "WARNING:tensorflow:Model was constructed with shape (None, None, 8) for input KerasTensor(type_spec=TensorSpec(shape=(None, None, 8), dtype=tf.float32, name='layer1_input'), name='layer1_input', description=\"created by layer 'layer1_input'\"), but it was called on an input with incompatible shape (None, 8).\n",
      "1030/1030 [==============================] - 1s 780us/step - loss: 0.0669\n",
      "Epoch 2/10\n",
      "1030/1030 [==============================] - 1s 755us/step - loss: 0.0443\n",
      "Epoch 3/10\n",
      "1030/1030 [==============================] - 1s 760us/step - loss: 0.0334\n",
      "Epoch 4/10\n",
      "1030/1030 [==============================] - 1s 759us/step - loss: 0.0289\n",
      "Epoch 5/10\n",
      "1030/1030 [==============================] - 1s 822us/step - loss: 0.0272\n",
      "Epoch 6/10\n",
      "1030/1030 [==============================] - 1s 825us/step - loss: 0.0264\n",
      "Epoch 7/10\n",
      "1030/1030 [==============================] - 1s 782us/step - loss: 0.0258\n",
      "Epoch 8/10\n",
      "1030/1030 [==============================] - 1s 795us/step - loss: 0.0253\n",
      "Epoch 9/10\n",
      "1030/1030 [==============================] - 1s 796us/step - loss: 0.0249\n",
      "Epoch 10/10\n",
      "1030/1030 [==============================] - 1s 799us/step - loss: 0.0245\n"
     ]
    },
    {
     "data": {
      "text/plain": [
       "<tensorflow.python.keras.callbacks.History at 0x7ff5a849c828>"
      ]
     },
     "execution_count": 7,
     "metadata": {},
     "output_type": "execute_result"
    }
   ],
   "source": [
    "cc_model = tf.keras.Sequential(\n",
    "    [\n",
    "        tf.keras.layers.Dense(\n",
    "            1,\n",
    "            input_shape=(None, 8),\n",
    "            activation=\"relu\",\n",
    "            name=\"layer1\",\n",
    "        ),\n",
    "    ]\n",
    ")\n",
    "\n",
    "cc_model.compile(\n",
    "    optimizer=\"adam\",\n",
    "    loss=\"mean_squared_error\",\n",
    ")\n",
    "cc_model.build()\n",
    "cc_model.summary()\n",
    "cc_model.fit(\n",
    "    dataset_train,\n",
    "    epochs=10,\n",
    "    verbose=1,\n",
    ")"
   ]
  },
  {
   "cell_type": "markdown",
   "id": "f694f30e-dbce-48b8-9721-7a64ada5c1fb",
   "metadata": {},
   "source": [
    "## Modelo con H=1"
   ]
  },
  {
   "cell_type": "code",
   "execution_count": 8,
   "id": "e0793686-47c9-4b3d-b63d-888378d1792b",
   "metadata": {},
   "outputs": [],
   "source": [
    "#\n",
    "# Diccionario para guardar los resultados para cada modelo\n",
    "#\n",
    "results = {}"
   ]
  },
  {
   "cell_type": "code",
   "execution_count": 9,
   "id": "5118b81b-05e0-46a7-81bc-f35bc0f4c647",
   "metadata": {},
   "outputs": [],
   "source": [
    "def compile_and_evaluate(model):\n",
    "    model.compile(optimizer=\"adam\", loss=\"mean_squared_error\")\n",
    "    model.fit(dataset_train, epochs=20, verbose=1)\n",
    "    return model.evaluate(dataset_train, verbose=0)"
   ]
  },
  {
   "cell_type": "code",
   "execution_count": 10,
   "id": "ee73c057-030a-4e10-9dd1-dc524ffc278f",
   "metadata": {},
   "outputs": [
    {
     "name": "stdout",
     "output_type": "stream",
     "text": [
      "Epoch 1/20\n",
      "1030/1030 [==============================] - 1s 778us/step - loss: 0.1786\n",
      "Epoch 2/20\n",
      "1030/1030 [==============================] - 1s 795us/step - loss: 0.0875\n",
      "Epoch 3/20\n",
      "1030/1030 [==============================] - 1s 788us/step - loss: 0.0520\n",
      "Epoch 4/20\n",
      "1030/1030 [==============================] - 1s 800us/step - loss: 0.0362\n",
      "Epoch 5/20\n",
      "1030/1030 [==============================] - 1s 815us/step - loss: 0.0298\n",
      "Epoch 6/20\n",
      "1030/1030 [==============================] - 1s 815us/step - loss: 0.0274\n",
      "Epoch 7/20\n",
      "1030/1030 [==============================] - 1s 838us/step - loss: 0.0264\n",
      "Epoch 8/20\n",
      "1030/1030 [==============================] - 1s 802us/step - loss: 0.0258\n",
      "Epoch 9/20\n",
      "1030/1030 [==============================] - 1s 781us/step - loss: 0.0254\n",
      "Epoch 10/20\n",
      "1030/1030 [==============================] - 1s 811us/step - loss: 0.0250\n",
      "Epoch 11/20\n",
      "1030/1030 [==============================] - 1s 796us/step - loss: 0.0246\n",
      "Epoch 12/20\n",
      "1030/1030 [==============================] - 1s 770us/step - loss: 0.0243\n",
      "Epoch 13/20\n",
      "1030/1030 [==============================] - 1s 879us/step - loss: 0.0240\n",
      "Epoch 14/20\n",
      "1030/1030 [==============================] - 1s 955us/step - loss: 0.0238\n",
      "Epoch 15/20\n",
      "1030/1030 [==============================] - 1s 791us/step - loss: 0.0236\n",
      "Epoch 16/20\n",
      "1030/1030 [==============================] - 1s 794us/step - loss: 0.0234\n",
      "Epoch 17/20\n",
      "1030/1030 [==============================] - 1s 786us/step - loss: 0.0233 0s - loss: 0.023\n",
      "Epoch 18/20\n",
      "1030/1030 [==============================] - 1s 754us/step - loss: 0.0231\n",
      "Epoch 19/20\n",
      "1030/1030 [==============================] - 1s 845us/step - loss: 0.0230\n",
      "Epoch 20/20\n",
      "1030/1030 [==============================] - 1s 763us/step - loss: 0.0230\n"
     ]
    }
   ],
   "source": [
    "class CC_1(tf.keras.Model):\n",
    "    def __init__(self, name=\"cascade-correlation\", **kwargs):\n",
    "        super(CC_1, self).__init__(name=name, **kwargs)\n",
    "        self.inputs = tf.keras.Input(shape=(None, 8))\n",
    "        self.h1 = tf.keras.layers.Dense(units=1)\n",
    "\n",
    "    def call(self, inputs):\n",
    "        return self.h1(inputs)\n",
    "\n",
    "\n",
    "results[\"H=1\"] = compile_and_evaluate(CC_1())"
   ]
  },
  {
   "cell_type": "markdown",
   "id": "d71ddf7d-f33e-4dda-af7f-df4d0d86536f",
   "metadata": {},
   "source": [
    "## Modelo con H=2"
   ]
  },
  {
   "cell_type": "code",
   "execution_count": 11,
   "id": "881c2575-dd16-4f45-b526-40feec499a0a",
   "metadata": {},
   "outputs": [
    {
     "name": "stdout",
     "output_type": "stream",
     "text": [
      "Epoch 1/20\n",
      "1030/1030 [==============================] - 1s 863us/step - loss: 0.0543\n",
      "Epoch 2/20\n",
      "1030/1030 [==============================] - 1s 911us/step - loss: 0.0478\n",
      "Epoch 3/20\n",
      "1030/1030 [==============================] - 1s 803us/step - loss: 0.0401\n",
      "Epoch 4/20\n",
      "1030/1030 [==============================] - 1s 798us/step - loss: 0.0340\n",
      "Epoch 5/20\n",
      "1030/1030 [==============================] - 1s 785us/step - loss: 0.0295\n",
      "Epoch 6/20\n",
      "1030/1030 [==============================] - 1s 783us/step - loss: 0.0265\n",
      "Epoch 7/20\n",
      "1030/1030 [==============================] - 1s 802us/step - loss: 0.0248\n",
      "Epoch 8/20\n",
      "1030/1030 [==============================] - 1s 783us/step - loss: 0.0238 0s - loss: 0.02\n",
      "Epoch 9/20\n",
      "1030/1030 [==============================] - 1s 773us/step - loss: 0.0234\n",
      "Epoch 10/20\n",
      "1030/1030 [==============================] - 1s 790us/step - loss: 0.0233\n",
      "Epoch 11/20\n",
      "1030/1030 [==============================] - 1s 760us/step - loss: 0.0232\n",
      "Epoch 12/20\n",
      "1030/1030 [==============================] - 1s 786us/step - loss: 0.0233\n",
      "Epoch 13/20\n",
      "1030/1030 [==============================] - 1s 788us/step - loss: 0.0234\n",
      "Epoch 14/20\n",
      "1030/1030 [==============================] - 1s 777us/step - loss: 0.0234\n",
      "Epoch 15/20\n",
      "1030/1030 [==============================] - 1s 785us/step - loss: 0.0235\n",
      "Epoch 16/20\n",
      "1030/1030 [==============================] - 1s 768us/step - loss: 0.0236\n",
      "Epoch 17/20\n",
      "1030/1030 [==============================] - 1s 823us/step - loss: 0.0236\n",
      "Epoch 18/20\n",
      "1030/1030 [==============================] - 1s 801us/step - loss: 0.0236\n",
      "Epoch 19/20\n",
      "1030/1030 [==============================] - 1s 777us/step - loss: 0.0236\n",
      "Epoch 20/20\n",
      "1030/1030 [==============================] - 1s 923us/step - loss: 0.0236\n"
     ]
    }
   ],
   "source": [
    "class CC_2(tf.keras.Model):\n",
    "    \n",
    "    def __init__(self, name=\"cascade-correlation\", **kwargs):\n",
    "        super(CC_2, self).__init__(name=name, **kwargs)\n",
    "        #\n",
    "        self.inputs = tf.keras.Input(shape=(None,8))\n",
    "        self.h1 = tf.keras.layers.Dense(units=1)\n",
    "        self.h2 = tf.keras.layers.Dense(units=1)\n",
    "        #\n",
    "        self.cc1_2 = tf.keras.layers.Dense(1, use_bias=False)\n",
    "        \n",
    "    def call(self, inputs):\n",
    "        #\n",
    "        h1 = self.h1(inputs)\n",
    "        h1 = tf.keras.activations.sigmoid(h1)\n",
    "        #\n",
    "        h2 = self.h2(inputs)\n",
    "        h2 = h2 + self.cc1_2(h1)\n",
    "        h2 = tf.keras.activations.sigmoid(h2)\n",
    "        #\n",
    "        return h2\n",
    "\n",
    "    \n",
    "results[\"H=2\"] = compile_and_evaluate(CC_2())"
   ]
  },
  {
   "cell_type": "markdown",
   "id": "8eae1e81-98e8-426d-b68b-49b540ca1ad8",
   "metadata": {},
   "source": [
    "## Modelo con H=3"
   ]
  },
  {
   "cell_type": "code",
   "execution_count": 12,
   "id": "feb92c80-9d4b-4abd-a561-d83d05a45adf",
   "metadata": {},
   "outputs": [
    {
     "name": "stdout",
     "output_type": "stream",
     "text": [
      "Epoch 1/20\n",
      "1030/1030 [==============================] - 1s 956us/step - loss: 0.0528\n",
      "Epoch 2/20\n",
      "1030/1030 [==============================] - 1s 901us/step - loss: 0.0389\n",
      "Epoch 3/20\n",
      "1030/1030 [==============================] - 1s 902us/step - loss: 0.0314\n",
      "Epoch 4/20\n",
      "1030/1030 [==============================] - 1s 888us/step - loss: 0.0271\n",
      "Epoch 5/20\n",
      "1030/1030 [==============================] - 1s 906us/step - loss: 0.0249\n",
      "Epoch 6/20\n",
      "1030/1030 [==============================] - 1s 876us/step - loss: 0.0238\n",
      "Epoch 7/20\n",
      "1030/1030 [==============================] - 1s 878us/step - loss: 0.0233\n",
      "Epoch 8/20\n",
      "1030/1030 [==============================] - 1s 871us/step - loss: 0.0231\n",
      "Epoch 9/20\n",
      "1030/1030 [==============================] - 1s 876us/step - loss: 0.0231\n",
      "Epoch 10/20\n",
      "1030/1030 [==============================] - 1s 828us/step - loss: 0.0232\n",
      "Epoch 11/20\n",
      "1030/1030 [==============================] - 1s 821us/step - loss: 0.0232\n",
      "Epoch 12/20\n",
      "1030/1030 [==============================] - 1s 851us/step - loss: 0.0233\n",
      "Epoch 13/20\n",
      "1030/1030 [==============================] - 1s 825us/step - loss: 0.0234\n",
      "Epoch 14/20\n",
      "1030/1030 [==============================] - 1s 856us/step - loss: 0.0234\n",
      "Epoch 15/20\n",
      "1030/1030 [==============================] - 1s 820us/step - loss: 0.0234\n",
      "Epoch 16/20\n",
      "1030/1030 [==============================] - 1s 835us/step - loss: 0.0234\n",
      "Epoch 17/20\n",
      "1030/1030 [==============================] - 1s 842us/step - loss: 0.0235\n",
      "Epoch 18/20\n",
      "1030/1030 [==============================] - 1s 866us/step - loss: 0.0234\n",
      "Epoch 19/20\n",
      "1030/1030 [==============================] - 1s 864us/step - loss: 0.0234\n",
      "Epoch 20/20\n",
      "1030/1030 [==============================] - 1s 854us/step - loss: 0.0234\n"
     ]
    }
   ],
   "source": [
    "class CC_3(tf.keras.Model):\n",
    "    \n",
    "    def __init__(self, name=\"cascade-correlation\", **kwargs):\n",
    "        super(CC_3, self).__init__(name=name, **kwargs)\n",
    "        #\n",
    "        self.inputs = tf.keras.Input(shape=(None,8))\n",
    "        self.h1 = tf.keras.layers.Dense(units=1)\n",
    "        self.h2 = tf.keras.layers.Dense(units=1)\n",
    "        self.h3 = tf.keras.layers.Dense(units=1)\n",
    "        #\n",
    "        self.cc1_2 = tf.keras.layers.Dense(1, use_bias=False)\n",
    "        self.cc1_3 = tf.keras.layers.Dense(1, use_bias=False)\n",
    "        self.cc2_3 = tf.keras.layers.Dense(1, use_bias=False)\n",
    "        \n",
    "    def call(self, inputs):\n",
    "        h1 = self.h1(inputs)\n",
    "        h1 = tf.keras.activations.sigmoid(h1)\n",
    "        \n",
    "        h2 = self.h2(inputs)\n",
    "        h2 = h2 + self.cc1_2(h1)\n",
    "        h2 = tf.keras.activations.sigmoid(h2)\n",
    "        \n",
    "        h3 = self.h3(inputs)\n",
    "        h3 = h3 + self.cc1_3(h1) + self.cc2_3(h2)\n",
    "        h3 = tf.keras.activations.sigmoid(h3)\n",
    "        \n",
    "        return h3\n",
    "\n",
    "    \n",
    "results[\"H=3\"] = compile_and_evaluate(CC_3())"
   ]
  },
  {
   "cell_type": "markdown",
   "id": "46e544b4-c5f5-446e-a0e4-ee84adb7691c",
   "metadata": {},
   "source": [
    "## Modelo con H=4"
   ]
  },
  {
   "cell_type": "code",
   "execution_count": 13,
   "id": "ddecdb24-e228-4a57-8793-a101f0139d34",
   "metadata": {},
   "outputs": [
    {
     "name": "stdout",
     "output_type": "stream",
     "text": [
      "Epoch 1/20\n",
      "1030/1030 [==============================] - 2s 1ms/step - loss: 0.0892\n",
      "Epoch 2/20\n",
      "1030/1030 [==============================] - 1s 1ms/step - loss: 0.0484\n",
      "Epoch 3/20\n",
      "1030/1030 [==============================] - 1s 1ms/step - loss: 0.0370\n",
      "Epoch 4/20\n",
      "1030/1030 [==============================] - 1s 1ms/step - loss: 0.0303\n",
      "Epoch 5/20\n",
      "1030/1030 [==============================] - 1s 990us/step - loss: 0.0266\n",
      "Epoch 6/20\n",
      "1030/1030 [==============================] - 1s 930us/step - loss: 0.0247\n",
      "Epoch 7/20\n",
      "1030/1030 [==============================] - 1s 978us/step - loss: 0.0238 0s - loss: 0.02\n",
      "Epoch 8/20\n",
      "1030/1030 [==============================] - 1s 979us/step - loss: 0.0234\n",
      "Epoch 9/20\n",
      "1030/1030 [==============================] - 1s 936us/step - loss: 0.0232\n",
      "Epoch 10/20\n",
      "1030/1030 [==============================] - 1s 960us/step - loss: 0.0231\n",
      "Epoch 11/20\n",
      "1030/1030 [==============================] - 1s 955us/step - loss: 0.0231\n",
      "Epoch 12/20\n",
      "1030/1030 [==============================] - 1s 958us/step - loss: 0.0230\n",
      "Epoch 13/20\n",
      "1030/1030 [==============================] - 1s 922us/step - loss: 0.0229\n",
      "Epoch 14/20\n",
      "1030/1030 [==============================] - 1s 939us/step - loss: 0.0227\n",
      "Epoch 15/20\n",
      "1030/1030 [==============================] - 1s 929us/step - loss: 0.0225\n",
      "Epoch 16/20\n",
      "1030/1030 [==============================] - 1s 963us/step - loss: 0.0223\n",
      "Epoch 17/20\n",
      "1030/1030 [==============================] - 1s 950us/step - loss: 0.0221\n",
      "Epoch 18/20\n",
      "1030/1030 [==============================] - 1s 917us/step - loss: 0.0218\n",
      "Epoch 19/20\n",
      "1030/1030 [==============================] - 1s 951us/step - loss: 0.0215\n",
      "Epoch 20/20\n",
      "1030/1030 [==============================] - 1s 928us/step - loss: 0.0211\n"
     ]
    }
   ],
   "source": [
    "class CC_4(tf.keras.Model):\n",
    "    \n",
    "    def __init__(self, name=\"cascade-correlation\", **kwargs):\n",
    "        super(CC_4, self).__init__(name=name, **kwargs)\n",
    "        #\n",
    "        self.inputs = tf.keras.Input(shape=(None,8))\n",
    "        self.h1 = tf.keras.layers.Dense(units=1)\n",
    "        self.h2 = tf.keras.layers.Dense(units=1)\n",
    "        self.h3 = tf.keras.layers.Dense(units=1)\n",
    "        self.h4 = tf.keras.layers.Dense(units=1)\n",
    "        #\n",
    "        self.cc1_2 = tf.keras.layers.Dense(1, use_bias=False)\n",
    "        self.cc1_3 = tf.keras.layers.Dense(1, use_bias=False)\n",
    "        self.cc1_4 = tf.keras.layers.Dense(1, use_bias=False)\n",
    "        self.cc2_3 = tf.keras.layers.Dense(1, use_bias=False)\n",
    "        self.cc2_4 = tf.keras.layers.Dense(1, use_bias=False)\n",
    "        self.cc3_4 = tf.keras.layers.Dense(1, use_bias=False)\n",
    "        \n",
    "    def call(self, inputs):\n",
    "        h1 = self.h1(inputs)\n",
    "        h1 = tf.keras.activations.sigmoid(h1)\n",
    "        \n",
    "        h2 = self.h2(inputs)\n",
    "        h2 = h2 + self.cc1_2(h1)\n",
    "        h2 = tf.keras.activations.sigmoid(h2)\n",
    "        \n",
    "        h3 = self.h3(inputs)\n",
    "        h3 = h3 + self.cc1_3(h1) + self.cc2_3(h2)\n",
    "        h3 = tf.keras.activations.sigmoid(h3)\n",
    "        \n",
    "        h4 = self.h4(inputs)\n",
    "        h4 = h4 + self.cc1_4(h1) + self.cc2_4(h2) + self.cc3_4(h3)\n",
    "        h4 = tf.keras.activations.sigmoid(h4)\n",
    "\n",
    "        return h4\n",
    "\n",
    "    \n",
    "results[\"H=4\"] = compile_and_evaluate(CC_4())"
   ]
  },
  {
   "cell_type": "markdown",
   "id": "1f61f384-c245-4a17-9661-ab70f2fb3441",
   "metadata": {},
   "source": [
    "## Modelo con H=5"
   ]
  },
  {
   "cell_type": "code",
   "execution_count": 14,
   "id": "47c92194-9d8d-4f64-a951-37dbc564e56f",
   "metadata": {},
   "outputs": [
    {
     "name": "stdout",
     "output_type": "stream",
     "text": [
      "Epoch 1/20\n",
      "1030/1030 [==============================] - 2s 1ms/step - loss: 0.1110\n",
      "Epoch 2/20\n",
      "1030/1030 [==============================] - 1s 1ms/step - loss: 0.0445\n",
      "Epoch 3/20\n",
      "1030/1030 [==============================] - 1s 1ms/step - loss: 0.0331\n",
      "Epoch 4/20\n",
      "1030/1030 [==============================] - 1s 1ms/step - loss: 0.0267\n",
      "Epoch 5/20\n",
      "1030/1030 [==============================] - 1s 1ms/step - loss: 0.0242\n",
      "Epoch 6/20\n",
      "1030/1030 [==============================] - 1s 1ms/step - loss: 0.0234\n",
      "Epoch 7/20\n",
      "1030/1030 [==============================] - 1s 1ms/step - loss: 0.0232\n",
      "Epoch 8/20\n",
      "1030/1030 [==============================] - 1s 1ms/step - loss: 0.0233\n",
      "Epoch 9/20\n",
      "1030/1030 [==============================] - 1s 1ms/step - loss: 0.0234\n",
      "Epoch 10/20\n",
      "1030/1030 [==============================] - 1s 1ms/step - loss: 0.0235\n",
      "Epoch 11/20\n",
      "1030/1030 [==============================] - 1s 1ms/step - loss: 0.0235\n",
      "Epoch 12/20\n",
      "1030/1030 [==============================] - 1s 1ms/step - loss: 0.0235\n",
      "Epoch 13/20\n",
      "1030/1030 [==============================] - 1s 961us/step - loss: 0.0235\n",
      "Epoch 14/20\n",
      "1030/1030 [==============================] - 1s 1ms/step - loss: 0.0235\n",
      "Epoch 15/20\n",
      "1030/1030 [==============================] - 1s 1ms/step - loss: 0.0234\n",
      "Epoch 16/20\n",
      "1030/1030 [==============================] - 1s 1ms/step - loss: 0.0234\n",
      "Epoch 17/20\n",
      "1030/1030 [==============================] - 1s 1ms/step - loss: 0.0233\n",
      "Epoch 18/20\n",
      "1030/1030 [==============================] - 1s 1ms/step - loss: 0.0233\n",
      "Epoch 19/20\n",
      "1030/1030 [==============================] - 1s 1ms/step - loss: 0.0232\n",
      "Epoch 20/20\n",
      "1030/1030 [==============================] - 1s 1ms/step - loss: 0.0231\n"
     ]
    }
   ],
   "source": [
    "class CC_5(tf.keras.Model):\n",
    "    \n",
    "    def __init__(self, name=\"cascade-correlation\", **kwargs):\n",
    "        super(CC_5, self).__init__(name=name, **kwargs)\n",
    "        #\n",
    "        self.inputs = tf.keras.Input(shape=(None,8))\n",
    "        self.h1 = tf.keras.layers.Dense(units=1)\n",
    "        self.h2 = tf.keras.layers.Dense(units=1)\n",
    "        self.h3 = tf.keras.layers.Dense(units=1)\n",
    "        self.h4 = tf.keras.layers.Dense(units=1)\n",
    "        self.h5 = tf.keras.layers.Dense(units=1)\n",
    "        #\n",
    "        self.cc1_2 = tf.keras.layers.Dense(1, use_bias=False)\n",
    "        self.cc1_3 = tf.keras.layers.Dense(1, use_bias=False)\n",
    "        self.cc1_4 = tf.keras.layers.Dense(1, use_bias=False)\n",
    "        self.cc1_5 = tf.keras.layers.Dense(1, use_bias=False)\n",
    "        self.cc2_3 = tf.keras.layers.Dense(1, use_bias=False)\n",
    "        self.cc2_4 = tf.keras.layers.Dense(1, use_bias=False)\n",
    "        self.cc2_5 = tf.keras.layers.Dense(1, use_bias=False)\n",
    "        self.cc3_4 = tf.keras.layers.Dense(1, use_bias=False)\n",
    "        self.cc3_5 = tf.keras.layers.Dense(1, use_bias=False)\n",
    "        self.cc4_5 = tf.keras.layers.Dense(1, use_bias=False)\n",
    "        \n",
    "    def call(self, inputs):\n",
    "        h1 = self.h1(inputs)\n",
    "        h1 = tf.keras.activations.sigmoid(h1)\n",
    "        \n",
    "        h2 = self.h2(inputs)\n",
    "        h2 = h2 + self.cc1_2(h1)\n",
    "        h2 = tf.keras.activations.sigmoid(h2)\n",
    "        \n",
    "        h3 = self.h3(inputs)\n",
    "        h3 = h3 + self.cc1_3(h1) + self.cc2_3(h2)\n",
    "        h3 = tf.keras.activations.sigmoid(h3)\n",
    "        \n",
    "        h4 = self.h4(inputs)\n",
    "        h4 = h4 + self.cc1_4(h1) + self.cc2_4(h2) + self.cc3_4(h3)\n",
    "        h4 = tf.keras.activations.sigmoid(h4)\n",
    "\n",
    "        h5 = self.h5(inputs)\n",
    "        h5 = h5 + self.cc1_5(h1) + self.cc2_5(h2) + self.cc3_5(h3) + self.cc4_5(h4)\n",
    "        h5 = tf.keras.activations.sigmoid(h5)\n",
    "        \n",
    "        return h5\n",
    "\n",
    "    \n",
    "results[\"H=5\"] = compile_and_evaluate(CC_5())"
   ]
  },
  {
   "cell_type": "markdown",
   "id": "f46e356a-0756-407e-b7f6-f75c676c9cb4",
   "metadata": {},
   "source": [
    "## Resultados"
   ]
  },
  {
   "cell_type": "code",
   "execution_count": 15,
   "id": "021970c1-c9ca-44b8-ae98-fc85963ea3ff",
   "metadata": {},
   "outputs": [
    {
     "data": {
      "text/plain": [
       "{'H=1': 0.01893024519085884,\n",
       " 'H=2': 0.017939146608114243,\n",
       " 'H=3': 0.018387898802757263,\n",
       " 'H=4': 0.016703836619853973,\n",
       " 'H=5': 0.01825805753469467}"
      ]
     },
     "execution_count": 15,
     "metadata": {},
     "output_type": "execute_result"
    }
   ],
   "source": [
    "results"
   ]
  }
 ],
 "metadata": {
  "kernelspec": {
   "display_name": "Python 3",
   "language": "python",
   "name": "python3"
  },
  "language_info": {
   "codemirror_mode": {
    "name": "ipython",
    "version": 3
   },
   "file_extension": ".py",
   "mimetype": "text/x-python",
   "name": "python",
   "nbconvert_exporter": "python",
   "pygments_lexer": "ipython3",
   "version": "3.6.9"
  }
 },
 "nbformat": 4,
 "nbformat_minor": 5
}
