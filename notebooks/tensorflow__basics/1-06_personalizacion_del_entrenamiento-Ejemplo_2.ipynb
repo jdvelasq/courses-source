{
 "cells": [
  {
   "cell_type": "markdown",
   "metadata": {
    "id": "JtEZ1pCPn--z"
   },
   "source": [
    "# Personalización del entrenamiento --- Ejemplo 2"
   ]
  },
  {
   "cell_type": "markdown",
   "metadata": {},
   "source": [
    "* 30:00 min | Última modificación: Mayo 12, 2021 | [YouTube]"
   ]
  },
  {
   "cell_type": "markdown",
   "metadata": {},
   "source": [
    "Adaptado de:\n",
    "\n",
    "* https://www.tensorflow.org/tutorials/keras/keras_tuner"
   ]
  },
  {
   "cell_type": "code",
   "execution_count": 1,
   "metadata": {
    "id": "jElLULrDhQZR"
   },
   "outputs": [
    {
     "data": {
      "text/plain": [
       "'2.4.1'"
      ]
     },
     "execution_count": 1,
     "metadata": {},
     "output_type": "execute_result"
    }
   ],
   "source": [
    "import matplotlib.pyplot as plt\n",
    "import tensorflow as tf\n",
    "\n",
    "tf.__version__"
   ]
  },
  {
   "cell_type": "markdown",
   "metadata": {},
   "source": [
    "## Carga de datos"
   ]
  },
  {
   "cell_type": "code",
   "execution_count": 2,
   "metadata": {},
   "outputs": [
    {
     "name": "stdout",
     "output_type": "stream",
     "text": [
      "--2021-05-13 19:47:11--  https://storage.googleapis.com/download.tensorflow.org/data/iris_training.csv\n",
      "Resolving storage.googleapis.com (storage.googleapis.com)... 142.250.78.16, 142.250.78.48, 142.250.78.80, ...\n",
      "Connecting to storage.googleapis.com (storage.googleapis.com)|142.250.78.16|:443... connected.\n",
      "HTTP request sent, awaiting response... 200 OK\n",
      "Length: 2194 (2.1K) [text/csv]\n",
      "Saving to: ‘/tmp/iris_training.csv’\n",
      "\n",
      "/tmp/iris_training. 100%[===================>]   2.14K  --.-KB/s    in 0s      \n",
      "\n",
      "2021-05-13 19:47:11 (9.95 MB/s) - ‘/tmp/iris_training.csv’ saved [2194/2194]\n",
      "\n"
     ]
    }
   ],
   "source": [
    "!wget https://storage.googleapis.com/download.tensorflow.org/data/iris_training.csv -O /tmp/iris_training.csv"
   ]
  },
  {
   "cell_type": "code",
   "execution_count": 3,
   "metadata": {},
   "outputs": [
    {
     "name": "stdout",
     "output_type": "stream",
     "text": [
      "120,4,setosa,versicolor,virginica\n",
      "6.4,2.8,5.6,2.2,2\n",
      "5.0,2.3,3.3,1.0,1\n",
      "4.9,2.5,4.5,1.7,2\n",
      "4.9,3.1,1.5,0.1,0\n"
     ]
    }
   ],
   "source": [
    "#\n",
    "# Primeras lineas del archivo\n",
    "#\n",
    "!head -n5 /tmp/iris_training.csv"
   ]
  },
  {
   "cell_type": "code",
   "execution_count": 4,
   "metadata": {},
   "outputs": [
    {
     "data": {
      "text/plain": [
       "(['sepal_length', 'sepal_width', 'petal_length', 'petal_width'], 'species')"
      ]
     },
     "execution_count": 4,
     "metadata": {},
     "output_type": "execute_result"
    }
   ],
   "source": [
    "#\n",
    "# Nombres de las columnas del archivo\n",
    "#\n",
    "column_names = [\n",
    "    \"sepal_length\",\n",
    "    \"sepal_width\",\n",
    "    \"petal_length\",\n",
    "    \"petal_width\",\n",
    "    \"species\",\n",
    "]\n",
    "\n",
    "#\n",
    "# Extrae los nombres de las características\n",
    "#\n",
    "feature_names = column_names[:-1]\n",
    "\n",
    "#\n",
    "# Extrae el nombre de la clase\n",
    "#\n",
    "label_name = column_names[-1]\n",
    "\n",
    "#\n",
    "# Nombres de las clases\n",
    "#\n",
    "class_names = [\n",
    "    \"Iris setosa\",\n",
    "    \"Iris versicolor\",\n",
    "    \"Iris virginica\",\n",
    "]\n",
    "\n",
    "feature_names, label_name"
   ]
  },
  {
   "cell_type": "markdown",
   "metadata": {
    "id": "dqPkQExM2Pwt"
   },
   "source": [
    "## Creación de un `tf.data.Dataset`"
   ]
  },
  {
   "cell_type": "code",
   "execution_count": 5,
   "metadata": {
    "id": "WsxHnz1ebJ2S"
   },
   "outputs": [
    {
     "data": {
      "text/plain": [
       "(OrderedDict([('sepal_length',\n",
       "               <tf.Tensor: shape=(32,), dtype=float32, numpy=\n",
       "               array([4.7, 6.1, 6.1, 6. , 7.2, 7.6, 5. , 6.3, 7. , 5.1, 6.7, 7.2, 5.6,\n",
       "                      5.9, 4.4, 4.7, 4.8, 6.4, 6.3, 4.9, 5.4, 4.6, 5.5, 6.4, 6.3, 6.3,\n",
       "                      6.3, 6.7, 6. , 7.7, 6.2, 5. ], dtype=float32)>),\n",
       "              ('sepal_width',\n",
       "               <tf.Tensor: shape=(32,), dtype=float32, numpy=\n",
       "               array([3.2, 2.9, 2.6, 2.2, 3.2, 3. , 3.6, 2.5, 3.2, 3.8, 3.1, 3. , 2.9,\n",
       "                      3. , 2.9, 3.2, 3.1, 3.1, 3.4, 3.1, 3.4, 3.1, 2.4, 3.2, 3.3, 2.7,\n",
       "                      2.3, 3.3, 2.9, 2.6, 3.4, 3.2], dtype=float32)>),\n",
       "              ('petal_length',\n",
       "               <tf.Tensor: shape=(32,), dtype=float32, numpy=\n",
       "               array([1.3, 4.7, 5.6, 5. , 6. , 6.6, 1.4, 5. , 4.7, 1.5, 4.4, 5.8, 3.6,\n",
       "                      5.1, 1.4, 1.6, 1.6, 5.5, 5.6, 1.5, 1.5, 1.5, 3.7, 4.5, 4.7, 4.9,\n",
       "                      4.4, 5.7, 4.5, 6.9, 5.4, 1.2], dtype=float32)>),\n",
       "              ('petal_width',\n",
       "               <tf.Tensor: shape=(32,), dtype=float32, numpy=\n",
       "               array([0.2, 1.4, 1.4, 1.5, 1.8, 2.1, 0.2, 1.9, 1.4, 0.3, 1.4, 1.6, 1.3,\n",
       "                      1.8, 0.2, 0.2, 0.2, 1.8, 2.4, 0.1, 0.4, 0.2, 1. , 1.5, 1.6, 1.8,\n",
       "                      1.3, 2.1, 1.5, 2.3, 2.3, 0.2], dtype=float32)>)]),\n",
       " <tf.Tensor: shape=(32,), dtype=int32, numpy=\n",
       " array([0, 1, 2, 2, 2, 2, 0, 2, 1, 0, 1, 2, 1, 2, 0, 0, 0, 2, 2, 0, 0, 0,\n",
       "        1, 1, 1, 2, 1, 2, 1, 2, 2, 0], dtype=int32)>)"
      ]
     },
     "execution_count": 5,
     "metadata": {},
     "output_type": "execute_result"
    }
   ],
   "source": [
    "BATCH_SIZE = 32\n",
    "\n",
    "#\n",
    "# Crea un dataset de TensorFlow a partir\n",
    "# del archivo CSV.\n",
    "# Crea pares (features, label)\n",
    "#\n",
    "train_dataset = tf.data.experimental.make_csv_dataset(\n",
    "    \"/tmp/iris_training.csv\",\n",
    "    BATCH_SIZE,\n",
    "    column_names=column_names,\n",
    "    label_name=label_name,\n",
    "    num_epochs=1,\n",
    ")\n",
    "\n",
    "features, labels = next(iter(train_dataset))\n",
    "\n",
    "#\n",
    "# Note que features es un es OrderedDict por\n",
    "# columnas\n",
    "#\n",
    "features, labels"
   ]
  },
  {
   "cell_type": "code",
   "execution_count": 6,
   "metadata": {
    "id": "iDuG94H-C122"
   },
   "outputs": [
    {
     "name": "stdout",
     "output_type": "stream",
     "text": [
      "OrderedDict([('sepal_length', <tf.Tensor: shape=(32,), dtype=float32, numpy=\n",
      "array([5.3, 4.6, 6.1, 5.1, 6.1, 6.4, 7.2, 5.7, 7.2, 6. , 6.2, 4.9, 6.6,\n",
      "       6. , 4.6, 5. , 6.5, 6.5, 5.4, 5.2, 4.9, 6. , 4.4, 7.2, 6.1, 4.6,\n",
      "       5.1, 4.7, 4.9, 7.9, 7. , 6.9], dtype=float32)>), ('sepal_width', <tf.Tensor: shape=(32,), dtype=float32, numpy=\n",
      "array([3.7, 3.6, 2.8, 3.8, 2.9, 3.2, 3. , 4.4, 3.6, 2.7, 2.2, 3.1, 2.9,\n",
      "       2.9, 3.1, 3.4, 2.8, 3.2, 3.9, 3.5, 3. , 2.2, 3. , 3.2, 3. , 3.4,\n",
      "       3.5, 3.2, 3.1, 3.8, 3.2, 3.1], dtype=float32)>), ('petal_length', <tf.Tensor: shape=(32,), dtype=float32, numpy=\n",
      "array([1.5, 1. , 4. , 1.9, 4.7, 4.5, 5.8, 1.5, 6.1, 5.1, 4.5, 1.5, 4.6,\n",
      "       4.5, 1.5, 1.6, 4.6, 5.1, 1.7, 1.5, 1.4, 5. , 1.3, 6. , 4.9, 1.4,\n",
      "       1.4, 1.3, 1.5, 6.4, 4.7, 5.1], dtype=float32)>), ('petal_width', <tf.Tensor: shape=(32,), dtype=float32, numpy=\n",
      "array([0.2, 0.2, 1.3, 0.4, 1.4, 1.5, 1.6, 0.4, 2.5, 1.6, 1.5, 0.1, 1.3,\n",
      "       1.5, 0.2, 0.4, 1.5, 2. , 0.4, 0.2, 0.2, 1.5, 0.2, 1.8, 1.8, 0.3,\n",
      "       0.3, 0.2, 0.1, 2. , 1.4, 2.3], dtype=float32)>)])\n"
     ]
    }
   ],
   "source": [
    "#\n",
    "# El dataset es un objeto iterable\n",
    "#\n",
    "features, labels = next(iter(train_dataset))\n",
    "\n",
    "print(features)"
   ]
  },
  {
   "cell_type": "code",
   "execution_count": 7,
   "metadata": {
    "id": "me5Wn-9FcyyO"
   },
   "outputs": [
    {
     "data": {
      "image/png": "[encoded data removed]",
      "text/plain": [
       "<Figure size 432x288 with 1 Axes>"
      ]
     },
     "metadata": {
      "needs_background": "light"
     },
     "output_type": "display_data"
    }
   ],
   "source": [
    "#\n",
    "# Gráfico de algunos datos por clase\n",
    "# \n",
    "plt.scatter(\n",
    "    features[\"petal_length\"],\n",
    "    features[\"sepal_length\"],\n",
    "    c=labels,\n",
    "    cmap=\"viridis\",\n",
    ")\n",
    "\n",
    "plt.xlabel(\"Petal length\")\n",
    "plt.ylabel(\"Sepal length\")\n",
    "plt.show()"
   ]
  },
  {
   "cell_type": "code",
   "execution_count": 8,
   "metadata": {
    "id": "jm932WINcaGU"
   },
   "outputs": [
    {
     "data": {
      "text/plain": [
       "(<tf.Tensor: shape=(5, 4), dtype=float32, numpy=\n",
       " array([[6.3, 2.7, 4.9, 1.8],\n",
       "        [7.7, 2.6, 6.9, 2.3],\n",
       "        [5.7, 4.4, 1.5, 0.4],\n",
       "        [7. , 3.2, 4.7, 1.4],\n",
       "        [5. , 3.5, 1.3, 0.3]], dtype=float32)>,\n",
       " <tf.Tensor: shape=(5,), dtype=int32, numpy=array([2, 2, 0, 1, 0], dtype=int32)>)"
      ]
     },
     "execution_count": 8,
     "metadata": {},
     "output_type": "execute_result"
    }
   ],
   "source": [
    "#\n",
    "# Se empaquetan los datos que estan en un array\n",
    "# del diccionario en patrones mediante tf.stack\n",
    "#\n",
    "def pack_features(features, labels):\n",
    "    features = tf.stack(\n",
    "        list(features.values()),\n",
    "        axis=1,\n",
    "    )\n",
    "    return features, labels\n",
    "\n",
    "\n",
    "#\n",
    "# empaqueta el dataset\n",
    "#\n",
    "train_dataset = train_dataset.map(pack_features)\n",
    "\n",
    "#\n",
    "# Ejemplo de los datos empaquetados\n",
    "#\n",
    "features, labels = next(iter(train_dataset))\n",
    "features[:5], labels[:5]"
   ]
  },
  {
   "cell_type": "markdown",
   "metadata": {
    "id": "LsaVrtNM3Tx5"
   },
   "source": [
    "## Creación del modelo"
   ]
  },
  {
   "cell_type": "code",
   "execution_count": 9,
   "metadata": {
    "id": "2fZ6oL2ig3ZK"
   },
   "outputs": [
    {
     "data": {
      "text/plain": [
       "<tf.Tensor: shape=(5, 3), dtype=float32, numpy=\n",
       "array([[ 0.4206758 ,  0.25511366, -0.40024188],\n",
       "       [ 0.45096558,  0.42647046, -0.4919573 ],\n",
       "       [ 1.4894937 ,  0.30320054, -1.1194435 ],\n",
       "       [ 0.619243  ,  0.20271465, -0.50028175],\n",
       "       [ 1.2737675 ,  0.21572396, -0.9403363 ]], dtype=float32)>"
      ]
     },
     "execution_count": 9,
     "metadata": {},
     "output_type": "execute_result"
    }
   ],
   "source": [
    "model = tf.keras.Sequential(\n",
    "    [\n",
    "        tf.keras.layers.Dense(\n",
    "            10,\n",
    "            activation=tf.nn.relu,\n",
    "            input_shape=(4,),\n",
    "        ),\n",
    "        tf.keras.layers.Dense(\n",
    "            10,\n",
    "            activation=tf.nn.relu,\n",
    "        ),\n",
    "        tf.keras.layers.Dense(3),\n",
    "    ]\n",
    ")\n",
    "\n",
    "#\n",
    "# Aunque el modelo no ha sido entrenado\n",
    "# si puede producir pronósticos ya que los\n",
    "# pesos fueron inicialiados\n",
    "#\n",
    "predictions = model(features)\n",
    "predictions[:5]"
   ]
  },
  {
   "cell_type": "code",
   "execution_count": 10,
   "metadata": {
    "id": "_tRwHZmTNTX2"
   },
   "outputs": [
    {
     "data": {
      "text/plain": [
       "<tf.Tensor: shape=(5, 3), dtype=float32, numpy=\n",
       "array([[0.43716902, 0.37046453, 0.19236645],\n",
       "       [0.4227811 , 0.41255084, 0.16466805],\n",
       "       [0.72518224, 0.22143517, 0.05338265],\n",
       "       [0.50358385, 0.33202884, 0.16438735],\n",
       "       [0.68663126, 0.23835328, 0.07501543]], dtype=float32)>"
      ]
     },
     "execution_count": 10,
     "metadata": {},
     "output_type": "execute_result"
    }
   ],
   "source": [
    "#\n",
    "# Aplica la transformación softmax a los pronósticos\n",
    "#\n",
    "tf.nn.softmax(predictions[:5])"
   ]
  },
  {
   "cell_type": "code",
   "execution_count": 11,
   "metadata": {
    "id": "-Jzm_GoErz8B"
   },
   "outputs": [
    {
     "name": "stdout",
     "output_type": "stream",
     "text": [
      "Prediction: [0 0 0 0 0 0 0 0 0 0 0 0 0 0 0 0 0 1 0 1 0 1 0 1 0 0 0 1 0 0 0 0]\n",
      "    Labels: [2 2 0 1 0 0 0 1 1 1 1 0 0 1 2 2 0 2 0 2 1 2 2 2 1 0 0 2 1 2 2 1]\n"
     ]
    }
   ],
   "source": [
    "print(\"Prediction: {}\".format(tf.argmax(predictions, axis=1)))\n",
    "print(\"    Labels: {}\".format(labels))"
   ]
  },
  {
   "cell_type": "markdown",
   "metadata": {
    "id": "RaKp8aEjKX6B"
   },
   "source": [
    "## Función de pérdida"
   ]
  },
  {
   "cell_type": "code",
   "execution_count": 12,
   "metadata": {
    "id": "tMAT4DcMPwI-"
   },
   "outputs": [
    {
     "data": {
      "text/plain": [
       "<tf.Tensor: shape=(), dtype=float32, numpy=1.0730989>"
      ]
     },
     "execution_count": 12,
     "metadata": {},
     "output_type": "execute_result"
    }
   ],
   "source": [
    "#\n",
    "# Obtiene una instancia de la función de pérdida\n",
    "# definida internamente en TensorFlow\n",
    "#\n",
    "loss_fn = tf.keras.losses.SparseCategoricalCrossentropy(from_logits=True)\n",
    "\n",
    "#\n",
    "# Se crea una función para computar la función de\n",
    "# pérdida. El parámetro training es requerido para \n",
    "# capas que tienen una operación diferente durante \n",
    "# el entrenamiento y la inferencia.\n",
    "#\n",
    "def loss(model, x, y, training):\n",
    "    #\n",
    "    # Computa el pronóstico del modelo\n",
    "    #\n",
    "    y_ = model(x, training=training)\n",
    "    \n",
    "    #\n",
    "    # Retorna la pérdida\n",
    "    #\n",
    "    return loss_fn(y_true=y, y_pred=y_)\n",
    "\n",
    "#\n",
    "# Ejemplo del resultado de la función para\n",
    "# el modelo sin entrenar\n",
    "#\n",
    "loss(model, features, labels, training=False)"
   ]
  },
  {
   "cell_type": "markdown",
   "metadata": {},
   "source": [
    "## Monitoreo del gradiente"
   ]
  },
  {
   "cell_type": "code",
   "execution_count": 13,
   "metadata": {
    "id": "x57HcKWhKkei"
   },
   "outputs": [],
   "source": [
    "def grad(model, inputs, targets):\n",
    "    #\n",
    "    # Monitoreo\n",
    "    #\n",
    "    with tf.GradientTape() as tape:\n",
    "        loss_value = loss(model, inputs, targets, training=True)\n",
    "        \n",
    "    #\n",
    "    # Retorna la pérdida y los gradientes de las variables\n",
    "    # del modelo\n",
    "    #\n",
    "    return loss_value, tape.gradient(loss_value, model.trainable_variables)"
   ]
  },
  {
   "cell_type": "markdown",
   "metadata": {},
   "source": [
    "## Creación del optimizador"
   ]
  },
  {
   "cell_type": "code",
   "execution_count": 14,
   "metadata": {
    "id": "8xxi2NNGKwG_"
   },
   "outputs": [
    {
     "data": {
      "text/plain": [
       "(0, 1.0730989)"
      ]
     },
     "execution_count": 14,
     "metadata": {},
     "output_type": "execute_result"
    }
   ],
   "source": [
    "#\n",
    "# Crea una instancia del optimizador SGD\n",
    "#\n",
    "optimizer = tf.keras.optimizers.SGD(learning_rate=0.01)\n",
    "\n",
    "#\n",
    "# Un paso del optimizador se computa de la siguiente manera:\n",
    "#\n",
    "#   1. Se calcula la función de pérdida y los gradientes\n",
    "#      de los parámetros del modelo\n",
    "#\n",
    "loss_value, grads = grad(model, features, labels)\n",
    "\n",
    "optimizer.iterations.numpy(), loss_value.numpy()"
   ]
  },
  {
   "cell_type": "code",
   "execution_count": 15,
   "metadata": {
    "id": "8xxi2NNGKwG_"
   },
   "outputs": [
    {
     "data": {
      "text/plain": [
       "(1, 1.048036)"
      ]
     },
     "execution_count": 15,
     "metadata": {},
     "output_type": "execute_result"
    }
   ],
   "source": [
    "#\n",
    "#   2. Se mejoran los parámetros mediante la corrección de\n",
    "#      parámetros que implementa el optimizador\n",
    "#\n",
    "optimizer.apply_gradients(\n",
    "    zip(\n",
    "        grads,\n",
    "        model.trainable_variables,\n",
    "    )\n",
    ")\n",
    "\n",
    "optimizer.iterations.numpy(), loss(model, features, labels, training=True).numpy()"
   ]
  },
  {
   "cell_type": "markdown",
   "metadata": {},
   "source": [
    "## Proceso iterativo de entrenamiento"
   ]
  },
  {
   "cell_type": "code",
   "execution_count": 16,
   "metadata": {
    "id": "AIgulGRUhpto"
   },
   "outputs": [
    {
     "name": "stdout",
     "output_type": "stream",
     "text": [
      "Epoch 000: Loss: 0.974, Accuracy: 35.833%\n",
      "Epoch 050: Loss: 0.501, Accuracy: 85.833%\n",
      "Epoch 100: Loss: 0.316, Accuracy: 93.333%\n",
      "Epoch 150: Loss: 0.209, Accuracy: 95.000%\n",
      "Epoch 200: Loss: 0.153, Accuracy: 96.667%\n"
     ]
    }
   ],
   "source": [
    "#\n",
    "# historia\n",
    "#\n",
    "train_loss_results = []\n",
    "train_accuracy_results = []\n",
    "\n",
    "num_epochs = 201\n",
    "\n",
    "for epoch in range(num_epochs):\n",
    "\n",
    "    #\n",
    "    # Obtiene instancias de las funciones\n",
    "    #\n",
    "    epoch_loss_avg = tf.keras.metrics.Mean()\n",
    "    epoch_accuracy = tf.keras.metrics.SparseCategoricalAccuracy()\n",
    "\n",
    "    for x, y in train_dataset:\n",
    "\n",
    "        #\n",
    "        # Computa la pérdida y el gradiente\n",
    "        #\n",
    "        loss_value, grads = grad(model, x, y)\n",
    "\n",
    "        #\n",
    "        # Mejora los parámetros\n",
    "        #\n",
    "        optimizer.apply_gradients(\n",
    "            zip(\n",
    "                grads,\n",
    "                model.trainable_variables,\n",
    "            )\n",
    "        )\n",
    "\n",
    "        #\n",
    "        # Progreso\n",
    "        #\n",
    "        epoch_loss_avg.update_state(\n",
    "            loss_value,\n",
    "        )\n",
    "        \n",
    "        epoch_accuracy.update_state(\n",
    "            y,\n",
    "            model(x, training=True),\n",
    "        )\n",
    "\n",
    "    #\n",
    "    # Almacena la historia\n",
    "    #\n",
    "    train_loss_results.append(epoch_loss_avg.result())\n",
    "    train_accuracy_results.append(epoch_accuracy.result())\n",
    "\n",
    "    #\n",
    "    # Reporte\n",
    "    #\n",
    "    if epoch % 50 == 0:\n",
    "        print(\n",
    "            \"Epoch {:03d}: Loss: {:.3f}, Accuracy: {:.3%}\".format(\n",
    "                epoch,\n",
    "                epoch_loss_avg.result(),\n",
    "                epoch_accuracy.result(),\n",
    "            )\n",
    "        )"
   ]
  },
  {
   "cell_type": "markdown",
   "metadata": {
    "id": "2FQHVUnm_rjw"
   },
   "source": [
    "## Graficación de la función de pérdida"
   ]
  },
  {
   "cell_type": "code",
   "execution_count": 17,
   "metadata": {
    "id": "agjvNd2iUGFn"
   },
   "outputs": [
    {
     "data": {
      "image/png": "[encoded data removed]",
      "text/plain": [
       "<Figure size 720x432 with 2 Axes>"
      ]
     },
     "metadata": {
      "needs_background": "light"
     },
     "output_type": "display_data"
    }
   ],
   "source": [
    "fig, axes = plt.subplots(2, sharex=True, figsize=(10, 6))\n",
    "fig.suptitle(\"Training Metrics\")\n",
    "\n",
    "axes[0].set_ylabel(\"Loss\", fontsize=14)\n",
    "axes[0].plot(train_loss_results)\n",
    "\n",
    "axes[1].set_ylabel(\"Accuracy\", fontsize=14)\n",
    "axes[1].set_xlabel(\"Epoch\", fontsize=14)\n",
    "axes[1].plot(train_accuracy_results)\n",
    "plt.show()"
   ]
  },
  {
   "cell_type": "markdown",
   "metadata": {},
   "source": [
    "## Descarga de los datos para test"
   ]
  },
  {
   "cell_type": "code",
   "execution_count": 18,
   "metadata": {},
   "outputs": [
    {
     "name": "stdout",
     "output_type": "stream",
     "text": [
      "--2021-05-13 19:47:25--  https://storage.googleapis.com/download.tensorflow.org/data/iris_test.csv\n",
      "Resolving storage.googleapis.com (storage.googleapis.com)... 142.250.78.16, 142.250.78.48, 142.250.78.80, ...\n",
      "Connecting to storage.googleapis.com (storage.googleapis.com)|142.250.78.16|:443... connected.\n",
      "HTTP request sent, awaiting response... 200 OK\n",
      "Length: 573 [text/csv]\n",
      "Saving to: ‘/tmp/iris_test.csv’\n",
      "\n",
      "/tmp/iris_test.csv  100%[===================>]     573  --.-KB/s    in 0s      \n",
      "\n",
      "2021-05-13 19:47:25 (3.62 MB/s) - ‘/tmp/iris_test.csv’ saved [573/573]\n",
      "\n"
     ]
    }
   ],
   "source": [
    "!wget https://storage.googleapis.com/download.tensorflow.org/data/iris_test.csv -O /tmp/iris_test.csv"
   ]
  },
  {
   "cell_type": "markdown",
   "metadata": {},
   "source": [
    "## Creación del dataset y empaquetamiento"
   ]
  },
  {
   "cell_type": "code",
   "execution_count": 19,
   "metadata": {},
   "outputs": [],
   "source": [
    "test_dataset = tf.data.experimental.make_csv_dataset(\n",
    "    \"/tmp/iris_test.csv\",\n",
    "    BATCH_SIZE,\n",
    "    column_names=column_names,\n",
    "    label_name=label_name,\n",
    "    num_epochs=1,\n",
    ")\n",
    "\n",
    "test_dataset = test_dataset.map(pack_features)"
   ]
  },
  {
   "cell_type": "markdown",
   "metadata": {
    "id": "HFuOKXJdMAdm"
   },
   "source": [
    "## Evaluación de la precisión del modelo"
   ]
  },
  {
   "cell_type": "code",
   "execution_count": 20,
   "metadata": {
    "id": "Tw03-MK1cYId"
   },
   "outputs": [
    {
     "data": {
      "text/plain": [
       "0.96666664"
      ]
     },
     "execution_count": 20,
     "metadata": {},
     "output_type": "execute_result"
    }
   ],
   "source": [
    "#\n",
    "# Crea una instancia de la metrica\n",
    "#\n",
    "test_accuracy = tf.keras.metrics.Accuracy()\n",
    "\n",
    "for (x, y) in test_dataset:\n",
    "    #\n",
    "    #  training=False para pronóstico.\n",
    "    #\n",
    "    logits = model(x, training=False)\n",
    "\n",
    "    #\n",
    "    # Obtiene la neurona con la salida más alta\n",
    "    #\n",
    "    prediction = tf.argmax(\n",
    "        logits,\n",
    "        axis=1,\n",
    "        output_type=tf.int32,\n",
    "    )\n",
    "\n",
    "    #\n",
    "    # Computa la precisión\n",
    "    #\n",
    "    test_accuracy(prediction, y)\n",
    "\n",
    "test_accuracy.result().numpy()"
   ]
  },
  {
   "cell_type": "code",
   "execution_count": 21,
   "metadata": {
    "id": "uNwt2eMeOane"
   },
   "outputs": [
    {
     "data": {
      "text/plain": [
       "array([[1, 1],\n",
       "       [0, 0],\n",
       "       [0, 0],\n",
       "       [1, 1],\n",
       "       [1, 1],\n",
       "       [2, 2],\n",
       "       [0, 0],\n",
       "       [1, 1],\n",
       "       [2, 2],\n",
       "       [2, 2],\n",
       "       [0, 0],\n",
       "       [2, 2],\n",
       "       [1, 1],\n",
       "       [1, 1],\n",
       "       [1, 2],\n",
       "       [2, 2],\n",
       "       [1, 1],\n",
       "       [2, 2],\n",
       "       [1, 1],\n",
       "       [2, 2],\n",
       "       [0, 0],\n",
       "       [1, 1],\n",
       "       [2, 2],\n",
       "       [1, 1],\n",
       "       [1, 1],\n",
       "       [0, 0],\n",
       "       [0, 0],\n",
       "       [0, 0],\n",
       "       [1, 1],\n",
       "       [1, 1]], dtype=int32)"
      ]
     },
     "execution_count": 21,
     "metadata": {},
     "output_type": "execute_result"
    }
   ],
   "source": [
    "#\n",
    "# Resultados para el último batch usado\n",
    "#\n",
    "tf.stack([y, prediction], axis=1).numpy()"
   ]
  },
  {
   "cell_type": "markdown",
   "metadata": {
    "id": "7Li2r1tYvW7S"
   },
   "source": [
    "## Uso del modelo"
   ]
  },
  {
   "cell_type": "code",
   "execution_count": 22,
   "metadata": {
    "id": "kesTS5Lzv-M2"
   },
   "outputs": [
    {
     "name": "stdout",
     "output_type": "stream",
     "text": [
      "Example 0 prediction: Iris setosa (97.0%)\n",
      "Example 1 prediction: Iris versicolor (88.7%)\n",
      "Example 2 prediction: Iris virginica (71.2%)\n"
     ]
    }
   ],
   "source": [
    "#\n",
    "# La codificación de las clases es la siguiente:\n",
    "#    * 0: Iris setosa\n",
    "#    * 1: Iris versicolor\n",
    "#    * 2: Iris virginica\n",
    "#\n",
    "# Se crean tres patrones de prueba\n",
    "#\n",
    "predict_dataset = tf.convert_to_tensor(\n",
    "    [\n",
    "        [5.1, 3.3, 1.7, 0.5],\n",
    "        [5.9, 3.0, 4.2, 1.5],\n",
    "        [6.9, 3.1, 5.4, 2.1],\n",
    "    ]\n",
    ")\n",
    "\n",
    "#\n",
    "# Cómputo de los pronósticos\n",
    "#\n",
    "predictions = model(predict_dataset, training=False)\n",
    "\n",
    "for i, logits in enumerate(predictions):\n",
    "    #\n",
    "    # Ontiene la clase {0, 1, 2}\n",
    "    #\n",
    "    class_idx = tf.argmax(logits).numpy()\n",
    "    name = class_names[class_idx]\n",
    "    \n",
    "    #\n",
    "    # Normaliza la salida con softmax\n",
    "    #\n",
    "    p = tf.nn.softmax(logits)[class_idx]\n",
    "        \n",
    "    #\n",
    "    # Imprime el resultado y su probabilidad\n",
    "    #\n",
    "    print(\"Example {} prediction: {} ({:4.1f}%)\".format(i, name, 100 * p))"
   ]
  }
 ],
 "metadata": {
  "colab": {
   "collapsed_sections": [],
   "name": "custom_training_walkthrough.ipynb",
   "toc_visible": true
  },
  "kernelspec": {
   "display_name": "Python 3",
   "language": "python",
   "name": "python3"
  },
  "language_info": {
   "codemirror_mode": {
    "name": "ipython",
    "version": 3
   },
   "file_extension": ".py",
   "mimetype": "text/x-python",
   "name": "python",
   "nbconvert_exporter": "python",
   "pygments_lexer": "ipython3",
   "version": "3.6.9"
  }
 },
 "nbformat": 4,
 "nbformat_minor": 4
}
