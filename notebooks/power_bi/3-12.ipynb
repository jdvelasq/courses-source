{
 "cells": [
  {
   "cell_type": "markdown",
   "id": "fac51b83-20ca-4080-a512-0b8600ad1add",
   "metadata": {
    "tags": []
   },
   "source": [
    "Caso práctico: Ordenamiento\n",
    "===\n",
    "\n",
    "*  Última modificación: 15 de noviembre de 2022"
   ]
  },
  {
   "cell_type": "markdown",
   "metadata": {},
   "source": [
    "## Datos\n",
    "\n",
    "Importe el siguiente archivo a Power BI."
   ]
  },
  {
   "cell_type": "code",
   "execution_count": 3,
   "metadata": {},
   "outputs": [
    {
     "name": "stdout",
     "output_type": "stream",
     "text": [
      "Writing ../../data/ordenamiento.csv\n"
     ]
    }
   ],
   "source": [
    "%%writefile ../../data/ordenamiento.csv\n",
    "col_A,col_B\n",
    "deficiente,0\n",
    "deficiente,0\n",
    "regular,2\n",
    "deficiente,0\n",
    "malo,1\n",
    "bueno,3\n",
    "deficiente,0\n",
    "excelente,4\n",
    "regular,2\n",
    "excelente,4\n",
    "bueno,3"
   ]
  },
  {
   "cell_type": "markdown",
   "metadata": {},
   "source": [
    "* Importe la tabla anterior.\n",
    "\n",
    "* En la vista de datos, seleccione la columna col_A y luego **Ordenar por columna**. En la lista de columnas seleccione col_B. El ordenamiento es aplicado en la vista de reportes.\n",
    "\n",
    "\n",
    "![ordenamiento_01.png](assets/ordenamiento_01.png)\n"
   ]
  },
  {
   "cell_type": "markdown",
   "metadata": {},
   "source": [
    "* En la vista de Informe seleccione **Tabla** y agregue la columna col_A. Los valores deberan aparecer ordenados por la columna col_B. \n",
    "\n",
    "![ordenamiento_02.png](assets/ordenamiento_02.png)"
   ]
  }
 ],
 "metadata": {
  "kernelspec": {
   "display_name": "Python 3.9.6 ('.venv': venv)",
   "language": "python",
   "name": "python3"
  },
  "language_info": {
   "codemirror_mode": {
    "name": "ipython",
    "version": 3
   },
   "file_extension": ".py",
   "mimetype": "text/x-python",
   "name": "python",
   "nbconvert_exporter": "python",
   "pygments_lexer": "ipython3",
   "version": "3.9.6"
  },
  "orig_nbformat": 4,
  "vscode": {
   "interpreter": {
    "hash": "2482a4565599eda3cd2db35331af39775c1f78a505a9deef48c721423040da5b"
   }
  }
 },
 "nbformat": 4,
 "nbformat_minor": 2
}
