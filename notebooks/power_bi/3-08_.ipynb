{
 "cells": [
  {
   "cell_type": "markdown",
   "id": "fac51b83-20ca-4080-a512-0b8600ad1add",
   "metadata": {
    "tags": []
   },
   "source": [
    "Caso práctico: Concatenación de columnas\n",
    "===\n",
    "\n",
    "*  Última modificación: 10 de noviembre de 2022"
   ]
  },
  {
   "cell_type": "markdown",
   "metadata": {},
   "source": [
    "## Datos\n",
    "\n",
    "Importe el siguiente archivo de datos a Power BI."
   ]
  },
  {
   "cell_type": "code",
   "execution_count": 1,
   "metadata": {},
   "outputs": [
    {
     "name": "stdout",
     "output_type": "stream",
     "text": [
      "Writing ../../data/concatenacion.csv\n"
     ]
    }
   ],
   "source": [
    "%%writefile ../../data/concatenacion.csv\n",
    "columnA,columnB\n",
    "a,1\n",
    "b,2\n",
    "c,3\n",
    "d,4\n",
    "e,5"
   ]
  },
  {
   "cell_type": "markdown",
   "metadata": {},
   "source": [
    "* En propiedades seleccione **Avanzado**.\n",
    "\n",
    "![concatening_columns_01.png](assets/concatening_columns_01.png)"
   ]
  },
  {
   "cell_type": "markdown",
   "metadata": {},
   "source": [
    "* En la agregación seleccione **Ninguno**.\n",
    "\n",
    "![concatening_columns_02.png](assets/concatening_columns_02.png)"
   ]
  },
  {
   "cell_type": "markdown",
   "metadata": {},
   "source": [
    "* Agrege una nueva columna con la formula `Columna 2 = [columnA] + \"---\" + [columnB]\"\n",
    "\n",
    "![concatening_columns_03.png](assets/concatening_columns_03.png)"
   ]
  },
  {
   "cell_type": "markdown",
   "metadata": {},
   "source": [
    "* Seleccione la vista de tabla y verifique el resultado.\n",
    "\n",
    "![concatening_columns_04.png](assets/concatening_columns_04.png)"
   ]
  }
 ],
 "metadata": {
  "kernelspec": {
   "display_name": "Python 3.9.6 ('.venv': venv)",
   "language": "python",
   "name": "python3"
  },
  "language_info": {
   "codemirror_mode": {
    "name": "ipython",
    "version": 3
   },
   "file_extension": ".py",
   "mimetype": "text/x-python",
   "name": "python",
   "nbconvert_exporter": "python",
   "pygments_lexer": "ipython3",
   "version": "3.9.6"
  },
  "orig_nbformat": 4,
  "vscode": {
   "interpreter": {
    "hash": "2482a4565599eda3cd2db35331af39775c1f78a505a9deef48c721423040da5b"
   }
  }
 },
 "nbformat": 4,
 "nbformat_minor": 2
}
