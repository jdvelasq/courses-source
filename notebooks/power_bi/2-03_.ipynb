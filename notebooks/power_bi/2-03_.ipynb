{
 "cells": [
  {
   "cell_type": "markdown",
   "id": "fac51b83-20ca-4080-a512-0b8600ad1add",
   "metadata": {
    "tags": []
   },
   "source": [
    "Caso práctico: Carga de datos desde la web\n",
    "===\n",
    "\n",
    "*  Última modificación: 2 de noviembre de 2022"
   ]
  },
  {
   "cell_type": "markdown",
   "id": "f447b9b9",
   "metadata": {},
   "source": [
    "Generación de datos\n",
    "----"
   ]
  },
  {
   "cell_type": "markdown",
   "id": "6fc2db49",
   "metadata": {},
   "source": [
    "Se cargaran los datos disponibles en:\n",
    "\n",
    "https://raw.githubusercontent.com/jdvelasq/datalabs/master/datasets/drivers/drivers.csv"
   ]
  },
  {
   "cell_type": "markdown",
   "id": "aea6c2cc",
   "metadata": {},
   "source": [
    "Procedimiento\n",
    "---"
   ]
  },
  {
   "cell_type": "markdown",
   "id": "fd1ddc61",
   "metadata": {},
   "source": [
    "* Seleccione **Obtener Datos** y luego **Web**.\n",
    "\n",
    "![get_data_web_01.png](assets/get_data_web_01.png)"
   ]
  },
  {
   "cell_type": "markdown",
   "id": "5e346e80",
   "metadata": {},
   "source": [
    "* Introduzca la dirección web y haga click en aceptar.\n",
    "\n",
    "![get_data_web_02.png](assets/get_data_web_02.png)"
   ]
  },
  {
   "cell_type": "markdown",
   "id": "1f65a04b",
   "metadata": {},
   "source": [
    "* Revise las opciones de conexión y haga click en **Aceptar**.\n",
    "\n",
    "![get_data_web_03.png](assets/get_data_web_03.png)"
   ]
  },
  {
   "cell_type": "markdown",
   "id": "0d0173a5",
   "metadata": {},
   "source": [
    "* Verifique la información capturada. Haga click en **Aceptar** o **Transformar datos**.\n",
    "\n",
    "![get_data_web_04.png](assets/get_data_web_04.png)"
   ]
  }
 ],
 "metadata": {
  "kernelspec": {
   "display_name": "Python 3.9.6 ('.venv': venv)",
   "language": "python",
   "name": "python3"
  },
  "language_info": {
   "codemirror_mode": {
    "name": "ipython",
    "version": 3
   },
   "file_extension": ".py",
   "mimetype": "text/x-python",
   "name": "python",
   "nbconvert_exporter": "python",
   "pygments_lexer": "ipython3",
   "version": "3.9.6"
  },
  "vscode": {
   "interpreter": {
    "hash": "2482a4565599eda3cd2db35331af39775c1f78a505a9deef48c721423040da5b"
   }
  }
 },
 "nbformat": 4,
 "nbformat_minor": 5
}
