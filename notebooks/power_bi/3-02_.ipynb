{
 "cells": [
  {
   "cell_type": "markdown",
   "id": "fac51b83-20ca-4080-a512-0b8600ad1add",
   "metadata": {
    "tags": []
   },
   "source": [
    "Caso práctico: Selección y manejo de columnas\n",
    "===\n",
    "\n",
    "*  Última modificación: 27 de septiembre de 2022"
   ]
  },
  {
   "cell_type": "markdown",
   "metadata": {},
   "source": [
    "* Remoción de columnas.\n",
    "\n",
    "* Renombramiento de columnas.\n",
    "\n",
    "* Cambio del tipo de columnas.\n",
    "\n",
    "* División de columnas.\n",
    "\n",
    "* Columnas personalizadas."
   ]
  },
  {
   "cell_type": "markdown",
   "metadata": {},
   "source": [
    "Datos de ejemplo\n",
    "---"
   ]
  },
  {
   "cell_type": "markdown",
   "metadata": {},
   "source": [
    "Cargue el siguiente conjunto de datos de ejemplo."
   ]
  },
  {
   "cell_type": "code",
   "execution_count": 1,
   "metadata": {},
   "outputs": [
    {
     "name": "stdout",
     "output_type": "stream",
     "text": [
      "Writing ../../data/seleccion_y_manejo_de_columnas.csv\n"
     ]
    }
   ],
   "source": [
    "%%writefile ../../data/seleccion_y_manejo_de_columnas.csv\n",
    "empty_col,na_col,id,country,last_update,FLOAT_col,int_col,mv_col\n",
    ",na,1,Spain,2019-01-01 04:29:03,1.1,1,a:b\n",
    ",na,2,Spain,2019-01-01 04:30:03,2.2,2,a\n",
    ",na,3,Spain,2019-01-01 04:29:03,3.3,3,b:c:d\n",
    ",na,3,Brazil,2019-01-01 04:22:03,3.3,3,b:d\n",
    ",na,3,Spain,2019-01-01 08:49:03,3.3,3,b:d\n",
    ",na,3,Colombia,2019-01-01 13:21:42,3.3,3,b:d"
   ]
  },
  {
   "cell_type": "markdown",
   "metadata": {},
   "source": [
    "![data_transformation_cols_01.png](assets/data_transformation_cols_01.png)"
   ]
  },
  {
   "cell_type": "markdown",
   "metadata": {},
   "source": [
    "Remoción de columnas\n",
    "---\n",
    "\n",
    "![data_transformation_cols_02.png](assets/data_transformation_cols_02.png)\n",
    "\n",
    "![data_transformation_cols_03.png](assets/data_transformation_cols_03.png)"
   ]
  },
  {
   "cell_type": "markdown",
   "metadata": {},
   "source": [
    "Renombrado de columnas\n",
    "---\n",
    "\n",
    "![data_transformation_cols_04.png](assets/data_transformation_cols_04.png)\n",
    "\n",
    "![data_transformation_cols_05.png](assets/data_transformation_cols_05.png)"
   ]
  },
  {
   "cell_type": "markdown",
   "metadata": {},
   "source": [
    "Cambio del tipo de una columna\n",
    "---\n",
    "\n",
    "![data_transformation_cols_06.png](assets/data_transformation_cols_06.png)\n",
    "\n",
    "![data_transformation_cols_07.png](assets/data_transformation_cols_07.png)"
   ]
  },
  {
   "cell_type": "markdown",
   "metadata": {},
   "source": [
    "División de columnas\n",
    "---\n",
    "\n",
    "![data_transformation_cols_08.png](assets/data_transformation_cols_08.png)\n",
    "\n",
    "![data_transformation_cols_09.png](assets/data_transformation_cols_09.png)\n",
    "\n",
    "![data_transformation_cols_10.png](assets/data_transformation_cols_10.png)"
   ]
  },
  {
   "cell_type": "markdown",
   "metadata": {},
   "source": [
    "Columnas personalizadas\n",
    "---\n",
    "\n",
    "![data_transformation_cols_11.png](assets/data_transformation_cols_11.png)\n",
    "\n",
    "![data_transformation_cols_12.png](assets/data_transformation_cols_12.png)\n",
    "\n",
    "![data_transformation_cols_13.png](assets/data_transformation_cols_13.png)"
   ]
  }
 ],
 "metadata": {
  "kernelspec": {
   "display_name": "Python 3.9.6 ('.venv': venv)",
   "language": "python",
   "name": "python3"
  },
  "language_info": {
   "codemirror_mode": {
    "name": "ipython",
    "version": 3
   },
   "file_extension": ".py",
   "mimetype": "text/x-python",
   "name": "python",
   "nbconvert_exporter": "python",
   "pygments_lexer": "ipython3",
   "version": "3.9.6"
  },
  "orig_nbformat": 4,
  "vscode": {
   "interpreter": {
    "hash": "2482a4565599eda3cd2db35331af39775c1f78a505a9deef48c721423040da5b"
   }
  }
 },
 "nbformat": 4,
 "nbformat_minor": 2
}
