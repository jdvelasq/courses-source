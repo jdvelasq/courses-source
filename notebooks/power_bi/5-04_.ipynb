{
 "cells": [
  {
   "cell_type": "markdown",
   "metadata": {},
   "source": [
    "Caso práctico: Creación de un reporte\n",
    "===\n",
    "\n",
    "*  Última modificación: 30 de septiembre de 2022"
   ]
  },
  {
   "cell_type": "markdown",
   "metadata": {},
   "source": [
    "![reports_01.png](assets/reports_01.png)\n",
    "\n",
    "![reports_02.png](assets/reports_02.png)\n",
    "\n",
    "![reports_03.png](assets/reports_03.png)\n",
    "\n",
    "![reports_04.png](assets/reports_04.png)\n",
    "\n",
    "![reports_05.png](assets/reports_05.png)\n",
    "\n",
    "![reports_06.png](assets/reports_06.png)\n",
    "\n",
    "![reports_07.png](assets/reports_07.png)\n"
   ]
  }
 ],
 "metadata": {
  "kernelspec": {
   "display_name": "Python 3.9.6 64-bit",
   "language": "python",
   "name": "python3"
  },
  "language_info": {
   "name": "python",
   "version": "3.9.6"
  },
  "orig_nbformat": 4,
  "vscode": {
   "interpreter": {
    "hash": "31f2aee4e71d21fbe5cf8b01ff0e069b9275f58929596ceb00d14d90e3e16cd6"
   }
  }
 },
 "nbformat": 4,
 "nbformat_minor": 2
}
