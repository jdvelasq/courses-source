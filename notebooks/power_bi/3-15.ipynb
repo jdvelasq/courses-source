{
 "cells": [
  {
   "cell_type": "markdown",
   "id": "fac51b83-20ca-4080-a512-0b8600ad1add",
   "metadata": {
    "tags": []
   },
   "source": [
    "Caso práctico: Medidas. Porcentajes\n",
    "===\n",
    "\n",
    "*  Última modificación: 16 de noviembre de 2022"
   ]
  },
  {
   "cell_type": "markdown",
   "metadata": {},
   "source": [
    "## Datos\n",
    "\n",
    "Importe el siguiente archivo a Power BI."
   ]
  },
  {
   "cell_type": "code",
   "execution_count": 2,
   "metadata": {},
   "outputs": [
    {
     "name": "stdout",
     "output_type": "stream",
     "text": [
      "Overwriting ../../data/porcentajes.csv\n"
     ]
    }
   ],
   "source": [
    "%%writefile ../../data/porcentajes.csv\n",
    "id,pais,dpto,ciudad,ventas\n",
    "1,Colombia,Valle del Cauca,Cali,100\n",
    "2,Colombia,Valle del Cauca,Palmira,20\n",
    "3,Colombia,Valle del Cauca,Buga,30\n",
    "4,Colombia,Antioquia,Medellin,40\n",
    "5,Colombia,Antioquia,Bello,40\n",
    "6,Colombia,Antioquia,Envigado,50\n",
    "7,Colombia,Bogota,Bogota,35\n",
    "8,Colombia,Bogota,Soacha,25\n",
    "9,Colombia,Valle del Cauca,Cali,10\n",
    "10,Colombia,Valle del Cauca,Palmira,25\n",
    "11,Colombia,Antioquia,Envigado,45"
   ]
  },
  {
   "cell_type": "markdown",
   "metadata": {},
   "source": [
    "* Agregue la jerarquia dpto.\n",
    "\n",
    "```\n",
    "Conteo Dptos = DISTINCTCOUNT(jerarquias[dpto])\n",
    "```\n",
    "\n",
    "\n",
    "![porcengaje_01.png](assets/porcengaje_01.png)\n"
   ]
  },
  {
   "cell_type": "markdown",
   "metadata": {},
   "source": [
    "* Agregue la siguiente medida:\n",
    "\n",
    "```\n",
    "Total Ventas = SUM(porcentajes[ventas])\n",
    "```\n",
    "\n",
    "\n",
    "![porcengaje_02.png](assets/porcengaje_02.png)\n"
   ]
  },
  {
   "cell_type": "markdown",
   "metadata": {},
   "source": [
    "* Agregue la siguiente medida:\n",
    "\n",
    "```\n",
    "Participacion = [Total Ventas] / CALCULATE([Total Ventas], ALL(porcentajes[dpto]))\n",
    "```\n",
    "\n",
    "\n",
    "![porcengaje_03.png](assets/porcengaje_03.png)"
   ]
  },
  {
   "cell_type": "markdown",
   "metadata": {},
   "source": [
    "* Agregue una tabla en la vista de reporte y seleccione las columnas dpto, total ventas, suma ventas y participación:\n",
    "\n",
    "\n",
    "\n",
    "![porcengaje_04.png](assets/porcengaje_04.png)"
   ]
  },
  {
   "cell_type": "markdown",
   "metadata": {},
   "source": []
  }
 ],
 "metadata": {
  "kernelspec": {
   "display_name": "Python 3.9.6 ('.venv': venv)",
   "language": "python",
   "name": "python3"
  },
  "language_info": {
   "codemirror_mode": {
    "name": "ipython",
    "version": 3
   },
   "file_extension": ".py",
   "mimetype": "text/x-python",
   "name": "python",
   "nbconvert_exporter": "python",
   "pygments_lexer": "ipython3",
   "version": "3.9.6"
  },
  "orig_nbformat": 4,
  "vscode": {
   "interpreter": {
    "hash": "2482a4565599eda3cd2db35331af39775c1f78a505a9deef48c721423040da5b"
   }
  }
 },
 "nbformat": 4,
 "nbformat_minor": 2
}
