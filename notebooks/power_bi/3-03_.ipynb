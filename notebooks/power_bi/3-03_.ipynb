{
 "cells": [
  {
   "cell_type": "markdown",
   "id": "fac51b83-20ca-4080-a512-0b8600ad1add",
   "metadata": {
    "tags": []
   },
   "source": [
    "Caso práctico: Concatenación y fusión\n",
    "===\n",
    "\n",
    "*  Última modificación: 29 de septiembre de 2022"
   ]
  },
  {
   "cell_type": "markdown",
   "metadata": {},
   "source": [
    "Datos de ejemplo\n",
    "---"
   ]
  },
  {
   "cell_type": "markdown",
   "metadata": {},
   "source": [
    "**Primer dataframe**"
   ]
  },
  {
   "cell_type": "code",
   "execution_count": 1,
   "metadata": {},
   "outputs": [
    {
     "name": "stdout",
     "output_type": "stream",
     "text": [
      "Writing ../../data/dataset_1.csv\n"
     ]
    }
   ],
   "source": [
    "%%writefile ../../data/dataset_1.csv\n",
    "clientId,name,location\n",
    "10,Omar Y. Fletcher,6833 Mollis. Rd.\n",
    "11,Buffy W. Vincent,\"P.O. Box 345, 8390 Ante Avenue\"\n",
    "12,Mira N. Franklin,\"P.O. Box 445, 323 Cursus Rd.\"\n",
    "13,Ferris Q. Le,Ap #791-3809 Eu Street\n",
    "14,Michael I. Gray,6715 Diam. Rd.\n",
    "15,Alan T. Mullins,512-3640 Nisl Rd.\n",
    "16,Morgan W. Zamora,416-6030 Vivamus Road\n",
    "17,Lilah O. Morrison,3859 Mauris Ave\n",
    "18,Chantale Z. Kelley,3433 Arcu. Rd.\n",
    "19,Randall Q. Mcclure,Ap #584-7470 Nibh. Ave"
   ]
  },
  {
   "cell_type": "markdown",
   "metadata": {},
   "source": [
    "**Segundo dataframe**"
   ]
  },
  {
   "cell_type": "code",
   "execution_count": 2,
   "metadata": {},
   "outputs": [
    {
     "name": "stdout",
     "output_type": "stream",
     "text": [
      "Writing ../../data/dataset_2.csv\n"
     ]
    }
   ],
   "source": [
    "%%writefile ../../data/dataset_2.csv\n",
    "clientId,name,location\n",
    "20,Baker C. Hurst,249-6250 Velit. Rd.\n",
    "21,Bevis W. Molina,\"P.O. Box 935, 1521 At, St.\"\n",
    "22,Martina B. Schroeder,689-7600 Mi St.\n",
    "23,Kylie G. Bailey,1430 Diam. Road\n",
    "24,Steel K. Glover,\"757-681 Et, Av.\"\n",
    "25,Lucas M. Suarez,699-9329 Magna Rd.\n",
    "26,Anastasia Q. Mccray,\"P.O. Box 780, 4487 Lobortis, St.\"\n",
    "27,Germaine Q. Henson,589-4921 Duis Ave\n",
    "28,Wilma U. Mcfadden,6917 Dictum Rd.\n",
    "29,Merritt Q. Martinez,\"P.O. Box 469, 7833 Euismod Av.\""
   ]
  },
  {
   "cell_type": "markdown",
   "metadata": {},
   "source": [
    "**Tercer dataframe**"
   ]
  },
  {
   "cell_type": "code",
   "execution_count": 3,
   "metadata": {},
   "outputs": [
    {
     "name": "stdout",
     "output_type": "stream",
     "text": [
      "Writing ../../data/bonus.csv\n"
     ]
    }
   ],
   "source": [
    "%%writefile ../../data/bonus.csv\n",
    "clientId, bonus\n",
    "28, 463\n",
    "29, 790\n",
    "11, 138\n",
    "12, 227\n",
    "15, 231\n",
    "24, 248\n",
    "25, 216\n",
    "26, 291\n",
    "10, 279\n",
    "13, 160\n",
    "14, 267\n",
    "27, 215\n",
    "16, 169\n",
    "17, 263\n",
    "18, 233\n",
    "19, 292\n",
    "20, 208\n",
    "21, 247\n",
    "22, 240\n",
    "23, 161"
   ]
  },
  {
   "cell_type": "markdown",
   "metadata": {},
   "source": [
    "![data_fusion_01.png](assets/data_fusion_01.png)"
   ]
  },
  {
   "cell_type": "markdown",
   "metadata": {},
   "source": [
    "Anexar datos\n",
    "---\n",
    "\n",
    "![data_fusion_02.png](assets/data_fusion_02.png)\n",
    "\n",
    "![data_fusion_03.png](assets/data_fusion_03.png)\n",
    "\n",
    "![data_fusion_04.png](assets/data_fusion_04.png)"
   ]
  },
  {
   "cell_type": "markdown",
   "metadata": {},
   "source": [
    "Combinar datos\n",
    "---\n",
    "\n",
    "![data_fusion_05.png](assets/data_fusion_05.png)\n",
    "\n",
    "![data_fusion_06.png](assets/data_fusion_06.png)\n",
    "\n",
    "![data_fusion_07.png](assets/data_fusion_07.png)\n",
    "\n",
    "![data_fusion_08.png](assets/data_fusion_08.png)\n",
    "\n",
    "![data_fusion_09.png](assets/data_fusion_09.png)"
   ]
  }
 ],
 "metadata": {
  "kernelspec": {
   "display_name": "Python 3.9.6 ('.venv': venv)",
   "language": "python",
   "name": "python3"
  },
  "language_info": {
   "codemirror_mode": {
    "name": "ipython",
    "version": 3
   },
   "file_extension": ".py",
   "mimetype": "text/x-python",
   "name": "python",
   "nbconvert_exporter": "python",
   "pygments_lexer": "ipython3",
   "version": "3.9.6"
  },
  "orig_nbformat": 4,
  "vscode": {
   "interpreter": {
    "hash": "2482a4565599eda3cd2db35331af39775c1f78a505a9deef48c721423040da5b"
   }
  }
 },
 "nbformat": 4,
 "nbformat_minor": 2
}
