{
 "cells": [
  {
   "cell_type": "markdown",
   "metadata": {},
   "source": [
    "Caso práctico: Filtros\n",
    "===\n",
    "\n",
    "*  Última modificación: 30 de septiembre de 2022"
   ]
  },
  {
   "cell_type": "markdown",
   "metadata": {},
   "source": [
    " Tipos\n",
    "---\n",
    "\n",
    "* Visual: aplicado a una visual simple.\n",
    "\n",
    "* Pagina: aplicado a una página.\n",
    "\n",
    "* Reporte: aplicado a todo el reporte."
   ]
  },
  {
   "cell_type": "markdown",
   "metadata": {},
   "source": [
    "![filters_01.png](assets/filters_01.png)"
   ]
  }
 ],
 "metadata": {
  "kernelspec": {
   "display_name": "Python 3.9.6 64-bit",
   "language": "python",
   "name": "python3"
  },
  "language_info": {
   "name": "python",
   "version": "3.9.6"
  },
  "orig_nbformat": 4,
  "vscode": {
   "interpreter": {
    "hash": "31f2aee4e71d21fbe5cf8b01ff0e069b9275f58929596ceb00d14d90e3e16cd6"
   }
  }
 },
 "nbformat": 4,
 "nbformat_minor": 2
}
