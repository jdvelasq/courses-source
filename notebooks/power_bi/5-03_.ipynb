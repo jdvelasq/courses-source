{
 "cells": [
  {
   "cell_type": "markdown",
   "metadata": {},
   "source": [
    "Caso práctico: Creación de un dashboard básico\n",
    "===\n",
    "\n",
    "*  Última modificación: 30 de septiembre de 2022"
   ]
  },
  {
   "cell_type": "markdown",
   "metadata": {},
   "source": [
    "Datos de ejemplo\n",
    "----\n",
    "\n",
    "Cree un dashboard con dos páginas."
   ]
  },
  {
   "cell_type": "markdown",
   "metadata": {},
   "source": [
    "![dashboard_01.png](assets/dashboard_01.png)\n",
    "\n",
    "![dashboard_02.png](assets/dashboard_02.png)\n",
    "\n",
    "![dashboard_03.png](assets/dashboard_03.png)\n",
    "\n",
    "![dashboard_04.png](assets/dashboard_04.png)\n",
    "\n",
    "![dashboard_05.png](assets/dashboard_05.png)"
   ]
  }
 ],
 "metadata": {
  "kernelspec": {
   "display_name": "Python 3.9.6 64-bit",
   "language": "python",
   "name": "python3"
  },
  "language_info": {
   "name": "python",
   "version": "3.9.6"
  },
  "orig_nbformat": 4,
  "vscode": {
   "interpreter": {
    "hash": "31f2aee4e71d21fbe5cf8b01ff0e069b9275f58929596ceb00d14d90e3e16cd6"
   }
  }
 },
 "nbformat": 4,
 "nbformat_minor": 2
}
