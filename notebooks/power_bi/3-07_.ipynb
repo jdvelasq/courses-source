{
 "cells": [
  {
   "cell_type": "markdown",
   "id": "fac51b83-20ca-4080-a512-0b8600ad1add",
   "metadata": {
    "tags": []
   },
   "source": [
    "Caso práctico: Creación de nuevas columnas\n",
    "===\n",
    "\n",
    "*  Última modificación: 10 de noviembre de 2022"
   ]
  },
  {
   "cell_type": "markdown",
   "metadata": {},
   "source": [
    "* Importe la tabla drivers.csv. Seleccione el campo **driverId**. Luego, en **Propiedades** exapanda las opciones de **Avanzado**.\n",
    "\n",
    "![defining_new_column_01.png](assets/defining_new_column_01.png)"
   ]
  },
  {
   "cell_type": "markdown",
   "metadata": {},
   "source": [
    "* Expanda las opciones de **Resumir por**.\n",
    "\n",
    "![defining_new_column_02.png](assets/defining_new_column_02.png)"
   ]
  },
  {
   "cell_type": "markdown",
   "metadata": {},
   "source": [
    "* Seleccione **Ninguno**.\n",
    "\n",
    "![defining_new_column_03.png](assets/defining_new_column_03.png)"
   ]
  },
  {
   "cell_type": "markdown",
   "metadata": {},
   "source": [
    "* Haga click en **Nueva columna**.\n",
    "\n",
    "![defining_new_column_04.png](assets/defining_new_column_04.png)"
   ]
  },
  {
   "cell_type": "markdown",
   "metadata": {},
   "source": [
    "* Cambie el nombre de la columna. Al digitar '[' aparece una caja de selección con las columnas disponibles.\n",
    "\n",
    "![defining_new_column_05.png](assets/defining_new_column_05.png)"
   ]
  },
  {
   "cell_type": "markdown",
   "metadata": {},
   "source": [
    "* Introduzca la formula `driverId100 = [driverId] * 100`. Al dar enter, la nueva columna aparecerá reflejada en la tabla.\n",
    "\n",
    "![defining_new_column_06.png](assets/defining_new_column_06.png)"
   ]
  }
 ],
 "metadata": {
  "kernelspec": {
   "display_name": "Python 3.9.6 ('.venv': venv)",
   "language": "python",
   "name": "python3"
  },
  "language_info": {
   "codemirror_mode": {
    "name": "ipython",
    "version": 3
   },
   "file_extension": ".py",
   "mimetype": "text/x-python",
   "name": "python",
   "nbconvert_exporter": "python",
   "pygments_lexer": "ipython3",
   "version": "3.9.6"
  },
  "orig_nbformat": 4,
  "vscode": {
   "interpreter": {
    "hash": "2482a4565599eda3cd2db35331af39775c1f78a505a9deef48c721423040da5b"
   }
  }
 },
 "nbformat": 4,
 "nbformat_minor": 2
}
