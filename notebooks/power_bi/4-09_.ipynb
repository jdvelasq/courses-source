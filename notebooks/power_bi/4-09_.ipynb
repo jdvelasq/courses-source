{
 "cells": [
  {
   "cell_type": "markdown",
   "metadata": {},
   "source": [
    "Caso práctico: Formato de visuales\n",
    "===\n",
    "\n",
    "*  Última modificación: 30 de septiembre de 2022"
   ]
  },
  {
   "cell_type": "markdown",
   "metadata": {},
   "source": [
    "*  A nivel de visual: legendas, títulos, subtítulos, etiquetas, etc.\n",
    "\n",
    "* A nivel de página: información, tamaño, alineamiento, filtros, fondos."
   ]
  },
  {
   "cell_type": "markdown",
   "metadata": {},
   "source": [
    "![visual_formating_01.png](assets/visual_formating_01.png)\n",
    "\n",
    "![visual_formating_02.png](assets/visual_formating_02.png)\n",
    "\n",
    "![visual_formating_03.png](assets/visual_formating_03.png)\n",
    "\n",
    "![visual_formating_04.png](assets/visual_formating_04.png)"
   ]
  }
 ],
 "metadata": {
  "kernelspec": {
   "display_name": "Python 3.9.6 64-bit",
   "language": "python",
   "name": "python3"
  },
  "language_info": {
   "name": "python",
   "version": "3.9.6"
  },
  "orig_nbformat": 4,
  "vscode": {
   "interpreter": {
    "hash": "31f2aee4e71d21fbe5cf8b01ff0e069b9275f58929596ceb00d14d90e3e16cd6"
   }
  }
 },
 "nbformat": 4,
 "nbformat_minor": 2
}
