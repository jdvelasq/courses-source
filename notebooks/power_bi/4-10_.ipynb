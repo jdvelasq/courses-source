{
 "cells": [
  {
   "cell_type": "markdown",
   "metadata": {},
   "source": [
    "Caso práctico: Funciones de agregación\n",
    "===\n",
    "\n",
    "*  Última modificación: 30 de septiembre de 2022"
   ]
  },
  {
   "cell_type": "markdown",
   "metadata": {},
   "source": [
    "Objetivos\n",
    "---\n",
    "\n",
    "* Reducir el tamaño de un dataset.\n",
    "\n",
    "* Entender los datos."
   ]
  },
  {
   "cell_type": "markdown",
   "metadata": {},
   "source": [
    "Funciones de agregación\n",
    "---\n",
    "\n",
    "* SUM\n",
    "\n",
    "* AVERAGE\n",
    "\n",
    "* MINIMUM\n",
    "\n",
    "* MAXIMUM\n",
    "\n",
    "* COUNT (not blank)\n",
    "\n",
    "* COUNT (not distinct)\n",
    "\n",
    "* STANDARD DEVIATION\n",
    "\n",
    "* VARIANCE\n",
    "\n",
    "* MEDIAN\n",
    "\n",
    "* Do Not Summarize"
   ]
  },
  {
   "cell_type": "markdown",
   "metadata": {},
   "source": [
    "![aggregation_functions_01.png](assets/aggregation_functions_01.png)\n",
    "\n",
    "![aggregation_functions_02.png](assets/aggregation_functions_02.png)"
   ]
  }
 ],
 "metadata": {
  "kernelspec": {
   "display_name": "Python 3.9.6 64-bit",
   "language": "python",
   "name": "python3"
  },
  "language_info": {
   "name": "python",
   "version": "3.9.6"
  },
  "orig_nbformat": 4,
  "vscode": {
   "interpreter": {
    "hash": "31f2aee4e71d21fbe5cf8b01ff0e069b9275f58929596ceb00d14d90e3e16cd6"
   }
  }
 },
 "nbformat": 4,
 "nbformat_minor": 2
}
