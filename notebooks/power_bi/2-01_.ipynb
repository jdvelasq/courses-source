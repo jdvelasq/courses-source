{
 "cells": [
  {
   "cell_type": "markdown",
   "id": "fac51b83-20ca-4080-a512-0b8600ad1add",
   "metadata": {
    "tags": []
   },
   "source": [
    "Caso práctico: Carga de archivos individuales\n",
    "===\n",
    "\n",
    "*  Última modificación: 27 de septiembre de 2022"
   ]
  },
  {
   "cell_type": "markdown",
   "id": "f447b9b9",
   "metadata": {},
   "source": [
    "Descarga de datos\n",
    "----"
   ]
  },
  {
   "cell_type": "code",
   "execution_count": 1,
   "id": "2007fcb9",
   "metadata": {},
   "outputs": [],
   "source": [
    "import pandas as pd\n",
    "\n",
    "pd.read_csv(\"https://raw.githubusercontent.com/jdvelasq/datalabs/master/datasets/drivers/drivers.csv\").to_csv(\n",
    "    \"../../data/drivers.csv\", index=False\n",
    ")\n",
    "\n",
    "pd.read_csv(\"https://raw.githubusercontent.com/jdvelasq/datalabs/master/datasets/drivers/timesheet.csv\").to_csv(\n",
    "    \"../../data/timesheet.csv\", index=False\n",
    ")"
   ]
  },
  {
   "cell_type": "markdown",
   "id": "aea6c2cc",
   "metadata": {},
   "source": [
    "Procedimiento\n",
    "---"
   ]
  },
  {
   "cell_type": "markdown",
   "id": "fd1ddc61",
   "metadata": {},
   "source": [
    "* Seleccione **Obtener Datos**.\n",
    "\n",
    "![conexion_fuente_de_datos_01.png](assets/conexion_fuente_de_datos_01.png)"
   ]
  },
  {
   "cell_type": "markdown",
   "id": "fd1ddc61",
   "metadata": {},
   "source": [
    "* Seleccione **Texto o CSV**.\n",
    "\n",
    "![conexion_fuente_de_datos_02.png](assets/conexion_fuente_de_datos_02.png)"
   ]
  },
  {
   "cell_type": "markdown",
   "id": "169c2b25",
   "metadata": {},
   "source": [
    "*  **Examine los distintos tipos de fuentes de datos disponibles**."
   ]
  },
  {
   "cell_type": "markdown",
   "id": "0ac81dfe",
   "metadata": {},
   "source": [
    "*  Cargue el archivo **drivers.csv**"
   ]
  },
  {
   "cell_type": "markdown",
   "id": "fd1ddc61",
   "metadata": {},
   "source": [
    "* Revise la información y cargue los datos del archivo **drivers.csv**.\n",
    "\n",
    "![conexion_fuente_de_datos_03.png](assets/conexion_fuente_de_datos_03.png)"
   ]
  },
  {
   "cell_type": "markdown",
   "id": "fd1ddc61",
   "metadata": {},
   "source": [
    "* Haga click en el ícono del esquema y visualice el esquema de la tabla cargada.\n",
    "\n",
    "![conexion_fuente_de_datos_04.png](assets/conexion_fuente_de_datos_04.png)"
   ]
  },
  {
   "cell_type": "markdown",
   "id": "fd1ddc61",
   "metadata": {},
   "source": [
    "* Haga click nuevamente en **Obtener Datos** y Seleccione **Texto o CSV**.\n",
    "\n",
    "![conexion_fuente_de_datos_05.png](assets/conexion_fuente_de_datos_05.png)"
   ]
  },
  {
   "cell_type": "markdown",
   "id": "fd1ddc61",
   "metadata": {},
   "source": [
    "* Cargue el archivo **timeshee.csv**.\n",
    "\n",
    "![conexion_fuente_de_datos_06.png](assets/conexion_fuente_de_datos_06.png)"
   ]
  },
  {
   "cell_type": "markdown",
   "id": "fd1ddc61",
   "metadata": {},
   "source": [
    "* Verifique las relaciones. Al pasar el mouse sobre la relación, vera que se marcan el campo **driverId** en ambos esquemas.\n",
    "\n",
    "![conexion_fuente_de_datos_07.png](assets/conexion_fuente_de_datos_07.png)"
   ]
  }
 ],
 "metadata": {
  "kernelspec": {
   "display_name": "Python 3.9.6 ('.venv': venv)",
   "language": "python",
   "name": "python3"
  },
  "language_info": {
   "codemirror_mode": {
    "name": "ipython",
    "version": 3
   },
   "file_extension": ".py",
   "mimetype": "text/x-python",
   "name": "python",
   "nbconvert_exporter": "python",
   "pygments_lexer": "ipython3",
   "version": "3.9.6"
  },
  "vscode": {
   "interpreter": {
    "hash": "2482a4565599eda3cd2db35331af39775c1f78a505a9deef48c721423040da5b"
   }
  }
 },
 "nbformat": 4,
 "nbformat_minor": 5
}
