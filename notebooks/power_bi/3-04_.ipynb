{
 "cells": [
  {
   "cell_type": "markdown",
   "id": "fac51b83-20ca-4080-a512-0b8600ad1add",
   "metadata": {
    "tags": []
   },
   "source": [
    "Caso práctico: Pivot & unpivot\n",
    "===\n",
    "\n",
    "*  Última modificación: 29 de septiembre de 2022"
   ]
  },
  {
   "cell_type": "markdown",
   "metadata": {},
   "source": [
    "Dataset\n",
    "---"
   ]
  },
  {
   "cell_type": "code",
   "execution_count": 1,
   "metadata": {},
   "outputs": [],
   "source": [
    "import pandas as pd\n",
    "\n",
    "pd.read_csv(\n",
    "    \"https://raw.githubusercontent.com/jdvelasq/datalabs/master/datasets/iris.csv\",\n",
    "    sep=\",\",\n",
    "    thousands=None,\n",
    "    decimal=\".\",\n",
    ").to_csv(\"../../data/iris.csv\", index=False, header=True)"
   ]
  },
  {
   "cell_type": "markdown",
   "metadata": {},
   "source": [
    "![data_pivot_and_unpivot_01.png](assets/data_pivot_and_unpivot_01.png)"
   ]
  },
  {
   "cell_type": "markdown",
   "metadata": {},
   "source": [
    "Agregar un indice\n",
    "----\n",
    "\n",
    "\n",
    "![data_pivot_and_unpivot_02.png](assets/data_pivot_and_unpivot_02.png)"
   ]
  },
  {
   "cell_type": "markdown",
   "metadata": {},
   "source": [
    "Data Pivot\n",
    "----\n",
    "\n",
    "![data_pivot_and_unpivot_03.png](assets/data_pivot_and_unpivot_03.png)\n",
    "\n",
    "![data_pivot_and_unpivot_04.png](assets/data_pivot_and_unpivot_04.png)"
   ]
  },
  {
   "cell_type": "markdown",
   "metadata": {},
   "source": [
    "Data Unpivot\n",
    "----\n",
    "\n",
    "![data_pivot_and_unpivot_05.png](assets/data_pivot_and_unpivot_05.png)\n",
    "\n",
    "![data_pivot_and_unpivot_06.png](assets/data_pivot_and_unpivot_06.png)"
   ]
  }
 ],
 "metadata": {
  "kernelspec": {
   "display_name": "Python 3.9.6 ('.venv': venv)",
   "language": "python",
   "name": "python3"
  },
  "language_info": {
   "codemirror_mode": {
    "name": "ipython",
    "version": 3
   },
   "file_extension": ".py",
   "mimetype": "text/x-python",
   "name": "python",
   "nbconvert_exporter": "python",
   "pygments_lexer": "ipython3",
   "version": "3.9.6"
  },
  "orig_nbformat": 4,
  "vscode": {
   "interpreter": {
    "hash": "2482a4565599eda3cd2db35331af39775c1f78a505a9deef48c721423040da5b"
   }
  }
 },
 "nbformat": 4,
 "nbformat_minor": 2
}
