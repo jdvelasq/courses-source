{
 "cells": [
  {
   "cell_type": "markdown",
   "id": "fac51b83-20ca-4080-a512-0b8600ad1add",
   "metadata": {
    "tags": []
   },
   "source": [
    "Caso práctico: Renombramiento de consultas\n",
    "===\n",
    "\n",
    "*  Última modificación: 9 de noviembre de 2022"
   ]
  },
  {
   "cell_type": "markdown",
   "metadata": {},
   "source": [
    "* Una vez tenga una tabla creada, cargue el **Power Query Editor**"
   ]
  },
  {
   "cell_type": "markdown",
   "metadata": {},
   "source": [
    "* Método 1: Cambie el nombre de la consulta en **Propiedades**\n",
    "\n",
    "![rename_queries_01.png](assets/rename_queries_01.png)"
   ]
  },
  {
   "cell_type": "markdown",
   "metadata": {},
   "source": [
    "* Método 2: Haga click en el nombre de la consulta (lado izquierdo), y seleccione **Cambiar nombre**. \n",
    "\n",
    "![rename_queries_02.png](assets/rename_queries_02.png)"
   ]
  }
 ],
 "metadata": {
  "kernelspec": {
   "display_name": "Python 3.9.6 ('.venv': venv)",
   "language": "python",
   "name": "python3"
  },
  "language_info": {
   "codemirror_mode": {
    "name": "ipython",
    "version": 3
   },
   "file_extension": ".py",
   "mimetype": "text/x-python",
   "name": "python",
   "nbconvert_exporter": "python",
   "pygments_lexer": "ipython3",
   "version": "3.9.6"
  },
  "orig_nbformat": 4,
  "vscode": {
   "interpreter": {
    "hash": "2482a4565599eda3cd2db35331af39775c1f78a505a9deef48c721423040da5b"
   }
  }
 },
 "nbformat": 4,
 "nbformat_minor": 2
}
