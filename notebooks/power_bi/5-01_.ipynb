{
 "cells": [
  {
   "cell_type": "markdown",
   "metadata": {},
   "source": [
    "Caso práctico: Conexión a una fuente de datos\n",
    "===\n",
    "\n",
    "*  Última modificación: 27 de octubre de 2022"
   ]
  },
  {
   "cell_type": "code",
   "execution_count": 1,
   "metadata": {},
   "outputs": [],
   "source": [
    "import pandas as pd\n",
    "\n",
    "pd.read_csv(\"https://raw.githubusercontent.com/jdvelasq/datalabs/master/datasets/drivers/drivers.csv\").to_csv(\n",
    "    \"../../data/drivers.csv\", index=False\n",
    ")"
   ]
  },
  {
   "cell_type": "markdown",
   "metadata": {},
   "source": [
    "* Seleccione **Obtener Datos**.\n",
    "\n",
    "![server_conexion_fuente_de_datos_01.png](assets/server_conexion_fuente_de_datos_01.png)"
   ]
  },
  {
   "cell_type": "markdown",
   "metadata": {},
   "source": [
    "* Seleccione **Crear Contenido/Archivos**.\n",
    "\n",
    "![server_conexion_fuente_de_datos_02.png](assets/server_conexion_fuente_de_datos_02.png)"
   ]
  },
  {
   "cell_type": "markdown",
   "metadata": {},
   "source": [
    "* Seleccione **Archivo Local**.\n",
    "\n",
    "![server_conexion_fuente_de_datos_03.png](assets/server_conexion_fuente_de_datos_03.png)"
   ]
  },
  {
   "cell_type": "markdown",
   "metadata": {},
   "source": [
    "* Seleccione el archvio **drivers.csv**.\n",
    "\n",
    "![server_conexion_fuente_de_datos_04.png](assets/server_conexion_fuente_de_datos_04.png)"
   ]
  },
  {
   "cell_type": "markdown",
   "metadata": {},
   "source": [
    "* El archivo ya se encuentra importado.\n",
    "\n",
    "![server_conexion_fuente_de_datos_05.png](assets/server_conexion_fuente_de_datos_05.png)"
   ]
  }
 ],
 "metadata": {
  "kernelspec": {
   "display_name": "Python 3.9.6 ('.venv': venv)",
   "language": "python",
   "name": "python3"
  },
  "language_info": {
   "codemirror_mode": {
    "name": "ipython",
    "version": 3
   },
   "file_extension": ".py",
   "mimetype": "text/x-python",
   "name": "python",
   "nbconvert_exporter": "python",
   "pygments_lexer": "ipython3",
   "version": "3.9.6"
  },
  "orig_nbformat": 4,
  "vscode": {
   "interpreter": {
    "hash": "2482a4565599eda3cd2db35331af39775c1f78a505a9deef48c721423040da5b"
   }
  }
 },
 "nbformat": 4,
 "nbformat_minor": 2
}
