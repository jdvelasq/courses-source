{
 "cells": [
  {
   "cell_type": "markdown",
   "id": "fac51b83-20ca-4080-a512-0b8600ad1add",
   "metadata": {
    "tags": []
   },
   "source": [
    "Caso práctico: Creación de un reporte\n",
    "===\n",
    "\n",
    "*  Última modificación: 30 de septiembre de 2022"
   ]
  },
  {
   "cell_type": "markdown",
   "metadata": {},
   "source": [
    "Controles para visualización de datos\n",
    "----\n",
    "\n",
    "* Bar chart\n",
    "\n",
    "* Line chart\n",
    "\n",
    "* Pie chart\n",
    "\n",
    "* Scatter chart\n",
    "\n",
    "* Maps\n",
    "\n",
    "* Slicers: Filtros"
   ]
  },
  {
   "cell_type": "markdown",
   "metadata": {},
   "source": [
    "Reportes, páginas y visuales\n",
    "---\n",
    "\n",
    "* Visual.\n",
    "\n",
    "* Página (combinación de visuales).\n",
    "\n",
    "* Reporte (combinación de páginas)."
   ]
  },
  {
   "cell_type": "markdown",
   "metadata": {},
   "source": [
    "Datos de ejemplo\n",
    "---"
   ]
  },
  {
   "cell_type": "code",
   "execution_count": null,
   "metadata": {},
   "outputs": [],
   "source": [
    "import pandas as pd\n",
    "\n",
    "files = [\n",
    "    \"truck_event_text_partition.csv\",\n",
    "    \"drivers.csv\",\n",
    "    \"timesheet.csv\",\n",
    "]\n",
    "\n",
    "for file in files:\n",
    "\n",
    "    pd.read_csv(\n",
    "        f\"https://raw.githubusercontent.com/jdvelasq/datalabs/master/datasets/drivers/{file}\",\n",
    "        sep=\",\",\n",
    "        thousands=None,\n",
    "        decimal=\".\",\n",
    "    ).to_csv(f\"../../data/{file}\", index=False, header=True)"
   ]
  },
  {
   "cell_type": "markdown",
   "metadata": {},
   "source": [
    "Creación de un reporte\n",
    "---\n",
    "\n",
    "\n",
    "![visuals_pages_reports_1.png](assets/visuals_pages_reports_1.png)\n",
    "\n",
    "![visuals_pages_reports_2.png](assets/visuals_pages_reports_2.png)\n",
    "\n",
    "![visuals_pages_reports_3.png](assets/visuals_pages_reports_3.png)\n"
   ]
  }
 ],
 "metadata": {
  "kernelspec": {
   "display_name": "Python 3.9.6 ('.venv': venv)",
   "language": "python",
   "name": "python3"
  },
  "language_info": {
   "name": "python",
   "version": "3.9.6"
  },
  "orig_nbformat": 4,
  "vscode": {
   "interpreter": {
    "hash": "2482a4565599eda3cd2db35331af39775c1f78a505a9deef48c721423040da5b"
   }
  }
 },
 "nbformat": 4,
 "nbformat_minor": 2
}
