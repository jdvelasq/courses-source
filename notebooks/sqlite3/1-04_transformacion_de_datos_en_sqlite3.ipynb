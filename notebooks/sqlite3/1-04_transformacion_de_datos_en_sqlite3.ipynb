{
 "cells": [
  {
   "cell_type": "markdown",
   "metadata": {},
   "source": [
    "Transformación de datos en SQLite3 --- 7:44 min\n",
    "===\n",
    "\n",
    "* 7:44 min | Última modificación: Octubre 14, 2021 | [YouTube](https://youtu.be/mSfw15-rm64)"
   ]
  },
  {
   "cell_type": "markdown",
   "metadata": {},
   "source": [
    "**Preparación**"
   ]
  },
  {
   "cell_type": "markdown",
   "metadata": {},
   "source": [
    "Se crean dos cellmagics. La cellmagic `%%sqlite3` permite ejecutar el contenido de la celda en el motor de búsqueda cuando la celda contiene una sola sentencia; el cellmagic retorna el resultado de la ejecución del comando SQL. \n",
    "\n",
    "La cellmagic `%%sqlite3script` permite ejecutar scripts conformados por varios comandos SQL. No retorna resultados"
   ]
  },
  {
   "cell_type": "code",
   "execution_count": 1,
   "metadata": {},
   "outputs": [],
   "source": [
    "import sqlite3\n",
    "\n",
    "conn = sqlite3.connect(\":memory:\")\n",
    "cur = conn.cursor()"
   ]
  },
  {
   "cell_type": "code",
   "execution_count": 2,
   "metadata": {},
   "outputs": [],
   "source": [
    "from IPython.core.magic import register_cell_magic, register_line_magic\n",
    "\n",
    "\n",
    "@register_cell_magic\n",
    "def sqlite3(line, cell):\n",
    "    cell = [\n",
    "        l for l in cell.split(\"\\n\") if l[0:2] != \"--\" and l[0:2] not in [\"--\", \"##\"]\n",
    "    ]\n",
    "    cell = \"\\n\".join(cell)\n",
    "    return cur.execute(cell).fetchall()\n",
    "\n",
    "\n",
    "@register_cell_magic\n",
    "def sqlite3script(line, cell):\n",
    "    cell = [l for l in cell.split(\"\\n\") if len(l) >= 2 and l[0:2] not in [\"--\", \"##\"]]\n",
    "    cell = \"\\n\".join(cell)\n",
    "    conn.executescript(cell)\n",
    "    conn.commit()\n",
    "\n",
    "\n",
    "@register_line_magic\n",
    "def sql(line):\n",
    "    line = [\n",
    "        l for l in line.split(\"\\n\") if l[0:2] != \"--\" and l[0:2] not in [\"--\", \"##\"]\n",
    "    ]\n",
    "    line = \"\\n\".join(line)\n",
    "    return cur.execute(line).fetchall()"
   ]
  },
  {
   "cell_type": "code",
   "execution_count": 3,
   "metadata": {},
   "outputs": [],
   "source": [
    "%%sqlite3script\n",
    "\n",
    "DROP TABLE IF EXISTS persons;\n",
    "\n",
    "CREATE TABLE persons (\n",
    "    id INT,\n",
    "    firstname VARCHAR(10),\n",
    "    surname VARCHAR(10),\n",
    "    birthday DATE,\n",
    "    color VARCHAR(10),\n",
    "    quantity INT\n",
    ");\n",
    "\n",
    "INSERT INTO persons VALUES\n",
    "    (1,\"Vivian\",\"Hamilton\",\"1971-07-08\",\"green\",1),\n",
    "    (2,\"Karen\",\"Holcomb\",\"1974-05-23\",\"green\",4),\n",
    "    (3,\"Cody\",\"Garrett\",\"1973-04-22\",\"orange\",1),\n",
    "    (4,\"Roth\",\"Fry\",\"1975-01-29\",\"black\",1),\n",
    "    (5,\"Zoe\",\"Conway\",\"1974-07-03\",\"blue\",2),\n",
    "    (6,\"Gretchen\",\"Kinney\",\"1974-10-18\",\"viole\",1),\n",
    "    (7,\"Driscoll\",\"Klein\",\"1970-10-05\",\"blue\",5),\n",
    "    (8,\"Karyn\",\"Diaz\",\"1969-02-24\",\"red\",1),\n",
    "    (9,\"Merritt\",\"Guy\",\"1974-10-17\",\"indigo\",4),\n",
    "    (10,\"Kylan\",\"Sexton\",\"1975-02-28\",\"black\",4),\n",
    "    (11,\"Jordan\",\"Estes\",\"1969-12-07\",\"indigo\",4),\n",
    "    (12,\"Hope\",\"Coffey\",\"1973-12-24\",\"green\",5),\n",
    "    (13,\"Vivian\",\"Crane\",\"1970-08-27\",\"gray\",5),\n",
    "    (14,\"Clio\",\"Noel\",\"1972-12-12\",\"red\",5),\n",
    "    (15,\"Hope\",\"Silva\",\"1970-07-01\",\"blue\",5),\n",
    "    (16,\"Ayanna\",\"Jarvis\",\"1974-02-11\",\"orange\",5),\n",
    "    (17,\"Chanda\",\"Boyer\",\"1973-04-01\",\"green\",4),\n",
    "    (18,\"Chadwick\",\"Knight\",\"1973-04-29\",\"yellow\",1);"
   ]
  },
  {
   "cell_type": "markdown",
   "metadata": {},
   "source": [
    "Strings\n",
    "---"
   ]
  },
  {
   "cell_type": "markdown",
   "metadata": {},
   "source": [
    "**LENGTH()**"
   ]
  },
  {
   "cell_type": "code",
   "execution_count": 4,
   "metadata": {},
   "outputs": [
    {
     "data": {
      "text/plain": [
       "[('Hamilton', 8), ('Holcomb', 7), ('Garrett', 7), ('Fry', 3), ('Conway', 6)]"
      ]
     },
     "execution_count": 4,
     "metadata": {},
     "output_type": "execute_result"
    }
   ],
   "source": [
    "%sql SELECT surname, LENGTH(surname) FROM persons LIMIT 5;"
   ]
  },
  {
   "cell_type": "markdown",
   "metadata": {},
   "source": [
    "**UPPER(), LOWER()**"
   ]
  },
  {
   "cell_type": "code",
   "execution_count": 5,
   "metadata": {},
   "outputs": [
    {
     "data": {
      "text/plain": [
       "[('Hamilton', 'HAMILTON', 'hamilton'),\n",
       " ('Holcomb', 'HOLCOMB', 'holcomb'),\n",
       " ('Garrett', 'GARRETT', 'garrett'),\n",
       " ('Fry', 'FRY', 'fry'),\n",
       " ('Conway', 'CONWAY', 'conway')]"
      ]
     },
     "execution_count": 5,
     "metadata": {},
     "output_type": "execute_result"
    }
   ],
   "source": [
    "%sql SELECT surname, UPPER(surname), LOWER(surname) FROM persons LIMIT 5;"
   ]
  },
  {
   "cell_type": "code",
   "execution_count": 6,
   "metadata": {},
   "outputs": [
    {
     "data": {
      "text/plain": [
       "[('Hamilton', 0), ('Holcomb', 0), ('Garrett', 0), ('Fry', 0), ('Conway', 0)]"
      ]
     },
     "execution_count": 6,
     "metadata": {},
     "output_type": "execute_result"
    }
   ],
   "source": [
    "#\n",
    "# Condicional para strings\n",
    "#\n",
    "%sql SELECT surname, surname BETWEEN 'c' AND 'k' FROM persons LIMIT 5;"
   ]
  },
  {
   "cell_type": "markdown",
   "metadata": {},
   "source": [
    "**LIKE**"
   ]
  },
  {
   "cell_type": "markdown",
   "metadata": {},
   "source": [
    "La función LIKE permite buscar patrones específicos dentro de cadenas de caracteres.\n",
    "\n",
    "    > LIKE 'a%'   : Encuentra los valores que inician con 'a'\n",
    "    > LIKE '%a'   : Encuentra los valores que terminan con 'a'\n",
    "    > LIKE '%a%'  : Encuentra los valores que contengan 'a' en cualquier posición\n",
    "    > LIKE '_a%'  : Encuentra los valores que contengan 'a' en la segunda posición\n",
    "    > LIKE 'a_%_%': Encuentra los valores que inician con 'a' y tienen al menos 3 caracteres\n",
    "    > LIKE 'a%o'  : Encuentra los valores que inician con 'a' y terminan con 'o'"
   ]
  },
  {
   "cell_type": "code",
   "execution_count": 7,
   "metadata": {},
   "outputs": [
    {
     "data": {
      "text/plain": [
       "[(4, 'Roth', 'Fry', '1975-01-29', 'black', 1),\n",
       " (5, 'Zoe', 'Conway', '1974-07-03', 'blue', 2),\n",
       " (7, 'Driscoll', 'Klein', '1970-10-05', 'blue', 5),\n",
       " (10, 'Kylan', 'Sexton', '1975-02-28', 'black', 4),\n",
       " (15, 'Hope', 'Silva', '1970-07-01', 'blue', 5)]"
      ]
     },
     "execution_count": 7,
     "metadata": {},
     "output_type": "execute_result"
    }
   ],
   "source": [
    "%sql SELECT * FROM persons WHERE color LIKE 'b%';"
   ]
  },
  {
   "cell_type": "code",
   "execution_count": 8,
   "metadata": {},
   "outputs": [
    {
     "data": {
      "text/plain": [
       "[(1, 'Vivian', 'Hamilton', '1971-07-08', 'green', 1),\n",
       " (2, 'Karen', 'Holcomb', '1974-05-23', 'green', 4),\n",
       " (3, 'Cody', 'Garrett', '1973-04-22', 'orange', 1),\n",
       " (6, 'Gretchen', 'Kinney', '1974-10-18', 'viole', 1),\n",
       " (8, 'Karyn', 'Diaz', '1969-02-24', 'red', 1),\n",
       " (9, 'Merritt', 'Guy', '1974-10-17', 'indigo', 4),\n",
       " (11, 'Jordan', 'Estes', '1969-12-07', 'indigo', 4),\n",
       " (12, 'Hope', 'Coffey', '1973-12-24', 'green', 5),\n",
       " (13, 'Vivian', 'Crane', '1970-08-27', 'gray', 5),\n",
       " (14, 'Clio', 'Noel', '1972-12-12', 'red', 5),\n",
       " (16, 'Ayanna', 'Jarvis', '1974-02-11', 'orange', 5),\n",
       " (17, 'Chanda', 'Boyer', '1973-04-01', 'green', 4),\n",
       " (18, 'Chadwick', 'Knight', '1973-04-29', 'yellow', 1)]"
      ]
     },
     "execution_count": 8,
     "metadata": {},
     "output_type": "execute_result"
    }
   ],
   "source": [
    "%sql SELECT * FROM persons WHERE color NOT LIKE 'b%';"
   ]
  },
  {
   "cell_type": "code",
   "execution_count": 9,
   "metadata": {},
   "outputs": [
    {
     "data": {
      "text/plain": [
       "[(5, 'Zoe', 'Conway', '1974-07-03', 'blue', 2)]"
      ]
     },
     "execution_count": 9,
     "metadata": {},
     "output_type": "execute_result"
    }
   ],
   "source": [
    "#\n",
    "# Conectores lógicos (AND).\n",
    "#\n",
    "%sql SELECT * FROM persons WHERE color = 'blue' AND firstname LIKE 'Z%';"
   ]
  },
  {
   "cell_type": "code",
   "execution_count": 10,
   "metadata": {},
   "outputs": [
    {
     "data": {
      "text/plain": [
       "[(2, 'Karen', 'Holcomb', '1974-05-23', 'green', 4),\n",
       " (5, 'Zoe', 'Conway', '1974-07-03', 'blue', 2),\n",
       " (7, 'Driscoll', 'Klein', '1970-10-05', 'blue', 5),\n",
       " (8, 'Karyn', 'Diaz', '1969-02-24', 'red', 1),\n",
       " (10, 'Kylan', 'Sexton', '1975-02-28', 'black', 4),\n",
       " (15, 'Hope', 'Silva', '1970-07-01', 'blue', 5)]"
      ]
     },
     "execution_count": 10,
     "metadata": {},
     "output_type": "execute_result"
    }
   ],
   "source": [
    "#\n",
    "# Conectores lógicos (OR).\n",
    "#\n",
    "%sql SELECT * FROM persons WHERE color = 'blue' OR firstname LIKE 'K%';"
   ]
  },
  {
   "cell_type": "code",
   "execution_count": 11,
   "metadata": {},
   "outputs": [
    {
     "data": {
      "text/plain": [
       "[(4, 'Roth', 'Fry', '1975-01-29', 'black', 1),\n",
       " (5, 'Zoe', 'Conway', '1974-07-03', 'blue', 2),\n",
       " (7, 'Driscoll', 'Klein', '1970-10-05', 'blue', 5),\n",
       " (10, 'Kylan', 'Sexton', '1975-02-28', 'black', 4),\n",
       " (15, 'Hope', 'Silva', '1970-07-01', 'blue', 5)]"
      ]
     },
     "execution_count": 11,
     "metadata": {},
     "output_type": "execute_result"
    }
   ],
   "source": [
    "#\n",
    "# Condicional para campos string\n",
    "#\n",
    "%sql SELECT * FROM persons WHERE color IN ('blue','black');"
   ]
  },
  {
   "cell_type": "code",
   "execution_count": 12,
   "metadata": {},
   "outputs": [
    {
     "data": {
      "text/plain": [
       "[(1, 'Vivian', 'Hamilton', '1971-07-08', 'green', 1),\n",
       " (2, 'Karen', 'Holcomb', '1974-05-23', 'green', 4),\n",
       " (3, 'Cody', 'Garrett', '1973-04-22', 'orange', 1),\n",
       " (6, 'Gretchen', 'Kinney', '1974-10-18', 'viole', 1),\n",
       " (8, 'Karyn', 'Diaz', '1969-02-24', 'red', 1),\n",
       " (9, 'Merritt', 'Guy', '1974-10-17', 'indigo', 4),\n",
       " (11, 'Jordan', 'Estes', '1969-12-07', 'indigo', 4),\n",
       " (12, 'Hope', 'Coffey', '1973-12-24', 'green', 5),\n",
       " (13, 'Vivian', 'Crane', '1970-08-27', 'gray', 5),\n",
       " (14, 'Clio', 'Noel', '1972-12-12', 'red', 5),\n",
       " (16, 'Ayanna', 'Jarvis', '1974-02-11', 'orange', 5),\n",
       " (17, 'Chanda', 'Boyer', '1973-04-01', 'green', 4),\n",
       " (18, 'Chadwick', 'Knight', '1973-04-29', 'yellow', 1)]"
      ]
     },
     "execution_count": 12,
     "metadata": {},
     "output_type": "execute_result"
    }
   ],
   "source": [
    "#\n",
    "# Condicional para campos string\n",
    "#\n",
    "%sql SELECT * FROM persons WHERE color NOT IN ('blue','black');"
   ]
  },
  {
   "cell_type": "markdown",
   "metadata": {},
   "source": [
    "ORDER BY\n",
    "---"
   ]
  },
  {
   "cell_type": "code",
   "execution_count": 13,
   "metadata": {},
   "outputs": [
    {
     "data": {
      "text/plain": [
       "[(4, 'Roth', 'Fry', '1975-01-29', 'black', 1),\n",
       " (10, 'Kylan', 'Sexton', '1975-02-28', 'black', 4),\n",
       " (5, 'Zoe', 'Conway', '1974-07-03', 'blue', 2),\n",
       " (7, 'Driscoll', 'Klein', '1970-10-05', 'blue', 5),\n",
       " (15, 'Hope', 'Silva', '1970-07-01', 'blue', 5),\n",
       " (13, 'Vivian', 'Crane', '1970-08-27', 'gray', 5),\n",
       " (1, 'Vivian', 'Hamilton', '1971-07-08', 'green', 1),\n",
       " (2, 'Karen', 'Holcomb', '1974-05-23', 'green', 4),\n",
       " (12, 'Hope', 'Coffey', '1973-12-24', 'green', 5),\n",
       " (17, 'Chanda', 'Boyer', '1973-04-01', 'green', 4),\n",
       " (9, 'Merritt', 'Guy', '1974-10-17', 'indigo', 4),\n",
       " (11, 'Jordan', 'Estes', '1969-12-07', 'indigo', 4),\n",
       " (3, 'Cody', 'Garrett', '1973-04-22', 'orange', 1),\n",
       " (16, 'Ayanna', 'Jarvis', '1974-02-11', 'orange', 5),\n",
       " (8, 'Karyn', 'Diaz', '1969-02-24', 'red', 1),\n",
       " (14, 'Clio', 'Noel', '1972-12-12', 'red', 5),\n",
       " (6, 'Gretchen', 'Kinney', '1974-10-18', 'viole', 1),\n",
       " (18, 'Chadwick', 'Knight', '1973-04-29', 'yellow', 1)]"
      ]
     },
     "execution_count": 13,
     "metadata": {},
     "output_type": "execute_result"
    }
   ],
   "source": [
    "%sql SELECT * FROM persons ORDER BY color;"
   ]
  },
  {
   "cell_type": "markdown",
   "metadata": {},
   "source": [
    "GROUP BY\n",
    "---"
   ]
  },
  {
   "cell_type": "markdown",
   "metadata": {},
   "source": [
    "**COUNT()**"
   ]
  },
  {
   "cell_type": "code",
   "execution_count": 14,
   "metadata": {},
   "outputs": [
    {
     "data": {
      "text/plain": [
       "[(18,)]"
      ]
     },
     "execution_count": 14,
     "metadata": {},
     "output_type": "execute_result"
    }
   ],
   "source": [
    "#\n",
    "# Cuenta cuantos registros hay en la tabla.\n",
    "#\n",
    "%sql SELECT COUNT(*) FROM persons;"
   ]
  },
  {
   "cell_type": "markdown",
   "metadata": {},
   "source": [
    "**MAX(), MIN(), SUM(), AVG()**"
   ]
  },
  {
   "cell_type": "code",
   "execution_count": 15,
   "metadata": {},
   "outputs": [
    {
     "data": {
      "text/plain": [
       "[('black', 4, 1, 5, 2.5),\n",
       " ('blue', 5, 2, 12, 4.0),\n",
       " ('gray', 5, 5, 5, 5.0),\n",
       " ('green', 5, 1, 14, 3.5),\n",
       " ('indigo', 4, 4, 8, 4.0),\n",
       " ('orange', 5, 1, 6, 3.0),\n",
       " ('red', 5, 1, 6, 3.0),\n",
       " ('viole', 1, 1, 1, 1.0),\n",
       " ('yellow', 1, 1, 1, 1.0)]"
      ]
     },
     "execution_count": 15,
     "metadata": {},
     "output_type": "execute_result"
    }
   ],
   "source": [
    "%%sqlite3\n",
    "SELECT \n",
    "    color,\n",
    "    MAX(quantity),\n",
    "    MIN(quantity),\n",
    "    SUM(quantity),\n",
    "    AVG(quantity)\n",
    "FROM\n",
    "    persons\n",
    "GROUP BY\n",
    "    color;"
   ]
  },
  {
   "cell_type": "code",
   "execution_count": 16,
   "metadata": {},
   "outputs": [
    {
     "data": {
      "text/plain": [
       "[('green', 1),\n",
       " ('orange', 1),\n",
       " ('black', 1),\n",
       " ('viole', 1),\n",
       " ('red', 1),\n",
       " ('yellow', 1)]"
      ]
     },
     "execution_count": 16,
     "metadata": {},
     "output_type": "execute_result"
    }
   ],
   "source": [
    "%%sqlite3\n",
    "SELECT \n",
    "    color,\n",
    "    quantity\n",
    "FROM\n",
    "    persons\n",
    "WHERE\n",
    "    quantity = (SELECT MIN(quantity) FROM persons);"
   ]
  },
  {
   "cell_type": "markdown",
   "metadata": {},
   "source": [
    "---"
   ]
  },
  {
   "cell_type": "code",
   "execution_count": 17,
   "metadata": {},
   "outputs": [],
   "source": [
    "## Cierre de la conexión\n",
    "conn.close()"
   ]
  }
 ],
 "metadata": {
  "kernel_info": {
   "name": "python3"
  },
  "kernelspec": {
   "display_name": "Python 3",
   "language": "python",
   "name": "python3"
  },
  "language_info": {
   "codemirror_mode": {
    "name": "ipython",
    "version": 3
   },
   "file_extension": ".py",
   "mimetype": "text/x-python",
   "name": "python",
   "nbconvert_exporter": "python",
   "pygments_lexer": "ipython3",
   "version": "3.6.9"
  },
  "nteract": {
   "version": "0.12.3"
  }
 },
 "nbformat": 4,
 "nbformat_minor": 4
}
