{
 "cells": [
  {
   "cell_type": "markdown",
   "id": "b0676d9d-2978-49e1-a73b-c5c2d0830644",
   "metadata": {
    "tags": []
   },
   "source": [
    "Capas convolucionales --- 0:00 min\n",
    "===\n",
    "\n",
    "* Última modificación: Marzo 7, 2022 | YouTube\n",
    "\n",
    "* Adaptado de: https://keras.io/api/layers/"
   ]
  },
  {
   "cell_type": "markdown",
   "id": "bb898c42-5bf3-49a8-98af-5e40b81ab904",
   "metadata": {
    "tags": []
   },
   "source": [
    "Importación de librerías\n",
    "---"
   ]
  },
  {
   "cell_type": "code",
   "execution_count": 1,
   "id": "3dba61fd-281d-4638-aa5d-5958fb840608",
   "metadata": {},
   "outputs": [
    {
     "data": {
      "text/plain": [
       "'2.8.0'"
      ]
     },
     "execution_count": 1,
     "metadata": {},
     "output_type": "execute_result"
    }
   ],
   "source": [
    "import os\n",
    "\n",
    "os.environ[\"TF_CPP_MIN_LOG_LEVEL\"] = \"2\"\n",
    "\n",
    "import tensorflow as tf\n",
    "\n",
    "tf.__version__"
   ]
  },
  {
   "cell_type": "markdown",
   "id": "5cd5522f-930a-45e6-a517-fa4783a1790f",
   "metadata": {},
   "source": [
    "Capa Conv1D\n",
    "--"
   ]
  },
  {
   "cell_type": "code",
   "execution_count": 2,
   "id": "6eee23a4-15a1-4c20-bbdb-cb0ee63344c3",
   "metadata": {},
   "outputs": [
    {
     "data": {
      "text/plain": [
       "TensorShape([4, 8, 32])"
      ]
     },
     "execution_count": 2,
     "metadata": {},
     "output_type": "execute_result"
    }
   ],
   "source": [
    "#\n",
    "# Las entradas son vectores de 128 dimensiones con 10 timesteps y un\n",
    "# batch_size de 4.\n",
    "#\n",
    "input_shape = (4, 10, 128)\n",
    "x = tf.random.normal(input_shape)\n",
    "y = tf.keras.layers.Conv1D(\n",
    "    32,\n",
    "    3,\n",
    "    activation=\"relu\",\n",
    "    input_shape=input_shape[1:],\n",
    ")(x)\n",
    "y.shape"
   ]
  },
  {
   "cell_type": "code",
   "execution_count": 3,
   "id": "5b5da510-4cda-4431-9ff0-948efa0dd351",
   "metadata": {},
   "outputs": [
    {
     "data": {
      "text/plain": [
       "TensorShape([4, 7, 8, 32])"
      ]
     },
     "execution_count": 3,
     "metadata": {},
     "output_type": "execute_result"
    }
   ],
   "source": [
    "#\n",
    "# Este es un ejemplo con batch_shape [4, 7], por ejemplo, datos de clima donde\n",
    "# cada dimension batch corresponde a la localización espacial y la tercera\n",
    "# dimension corresponde al tiempo.\n",
    "#\n",
    "input_shape = (4, 7, 10, 128)\n",
    "x = tf.random.normal(input_shape)\n",
    "y = tf.keras.layers.Conv1D(\n",
    "    32,\n",
    "    3,\n",
    "    activation=\"relu\",\n",
    "    input_shape=input_shape[2:],\n",
    ")(x)\n",
    "y.shape"
   ]
  },
  {
   "cell_type": "markdown",
   "id": "0742ed78-32c7-4560-b3a1-92af17bd6afe",
   "metadata": {},
   "source": [
    "Capa Conv2D\n",
    "---"
   ]
  },
  {
   "cell_type": "code",
   "execution_count": 4,
   "id": "5bf2a687-e563-416d-a635-bcdd961a3fe4",
   "metadata": {},
   "outputs": [
    {
     "data": {
      "text/plain": [
       "TensorShape([4, 26, 26, 2])"
      ]
     },
     "execution_count": 4,
     "metadata": {},
     "output_type": "execute_result"
    }
   ],
   "source": [
    "#\n",
    "# Las entradas son imágenes RGB de 28x28 con `channels_last` y un tamaño de\n",
    "# batch de 4.\n",
    "#\n",
    "input_shape = (4, 28, 28, 3)\n",
    "x = tf.random.normal(input_shape)\n",
    "y = tf.keras.layers.Conv2D(\n",
    "    2,\n",
    "    3,\n",
    "    activation=\"relu\",\n",
    "    input_shape=input_shape[1:],\n",
    ")(x)\n",
    "y.shape"
   ]
  },
  {
   "cell_type": "code",
   "execution_count": 5,
   "id": "23403ec3-0c43-406e-9acd-6d612af68392",
   "metadata": {},
   "outputs": [
    {
     "name": "stdout",
     "output_type": "stream",
     "text": [
      "(4, 24, 24, 2)\n"
     ]
    }
   ],
   "source": [
    "#\n",
    "# Con `dilation_rate` igual a 2.\n",
    "#\n",
    "input_shape = (4, 28, 28, 3)\n",
    "x = tf.random.normal(input_shape)\n",
    "y = tf.keras.layers.Conv2D(\n",
    "    2,\n",
    "    3,\n",
    "    activation=\"relu\",\n",
    "    dilation_rate=2,\n",
    "    input_shape=input_shape[1:],\n",
    ")(x)\n",
    "print(y.shape)"
   ]
  },
  {
   "cell_type": "code",
   "execution_count": 6,
   "id": "419d0706-17d5-4fbc-88da-0d7e07ac7126",
   "metadata": {},
   "outputs": [
    {
     "data": {
      "text/plain": [
       "TensorShape([4, 28, 28, 2])"
      ]
     },
     "execution_count": 6,
     "metadata": {},
     "output_type": "execute_result"
    }
   ],
   "source": [
    "#\n",
    "# Con `padding` igua a \"same\".\n",
    "#\n",
    "input_shape = (4, 28, 28, 3)\n",
    "x = tf.random.normal(input_shape)\n",
    "y = tf.keras.layers.Conv2D(\n",
    "    2,\n",
    "    3,\n",
    "    activation=\"relu\",\n",
    "    padding=\"same\",\n",
    "    input_shape=input_shape[1:],\n",
    ")(x)\n",
    "y.shape"
   ]
  },
  {
   "cell_type": "code",
   "execution_count": 7,
   "id": "51439366-6b85-493b-a362-ffb8854a9871",
   "metadata": {},
   "outputs": [
    {
     "data": {
      "text/plain": [
       "TensorShape([4, 7, 26, 26, 2])"
      ]
     },
     "execution_count": 7,
     "metadata": {},
     "output_type": "execute_result"
    }
   ],
   "source": [
    "#\n",
    "# Con extended batch shape [4, 7]\n",
    "#\n",
    "input_shape = (4, 7, 28, 28, 3)\n",
    "x = tf.random.normal(input_shape)\n",
    "y = tf.keras.layers.Conv2D(\n",
    "    2,\n",
    "    3,\n",
    "    activation=\"relu\",\n",
    "    input_shape=input_shape[2:],\n",
    ")(x)\n",
    "y.shape"
   ]
  },
  {
   "cell_type": "markdown",
   "id": "b30a82e3-1e78-4ca2-9323-0a69ccc6d5a3",
   "metadata": {},
   "source": [
    "Capa Conv3D\n",
    "--"
   ]
  },
  {
   "cell_type": "code",
   "execution_count": 8,
   "id": "d8a26a00-2f10-4623-8f8e-9007c4ae938a",
   "metadata": {},
   "outputs": [
    {
     "data": {
      "text/plain": [
       "TensorShape([4, 26, 26, 26, 2])"
      ]
     },
     "execution_count": 8,
     "metadata": {},
     "output_type": "execute_result"
    }
   ],
   "source": [
    "#\n",
    "# Las entradas son volúmenes de 28x28x28 con un único canal y un\n",
    "# tamaño de batch de 4.\n",
    "#\n",
    "input_shape = (4, 28, 28, 28, 1)\n",
    "x = tf.random.normal(input_shape)\n",
    "y = tf.keras.layers.Conv3D(\n",
    "    2,\n",
    "    3,\n",
    "    activation=\"relu\",\n",
    "    input_shape=input_shape[1:],\n",
    ")(x)\n",
    "y.shape"
   ]
  },
  {
   "cell_type": "code",
   "execution_count": 9,
   "id": "a6184c76-d76b-4399-a5e5-9784bb52b5fb",
   "metadata": {},
   "outputs": [
    {
     "data": {
      "text/plain": [
       "TensorShape([4, 7, 26, 26, 26, 2])"
      ]
     },
     "execution_count": 9,
     "metadata": {},
     "output_type": "execute_result"
    }
   ],
   "source": [
    "#\n",
    "# Con un tamaño de batch extendido, por ejemplo, 4 videos de 3D frames,\n",
    "# con 7 frames por video\n",
    "#\n",
    "input_shape = (4, 7, 28, 28, 28, 1)\n",
    "x = tf.random.normal(input_shape)\n",
    "y = tf.keras.layers.Conv3D(\n",
    "    2,\n",
    "    3,\n",
    "    activation=\"relu\",\n",
    "    input_shape=input_shape[2:],\n",
    ")(x)\n",
    "y.shape"
   ]
  }
 ],
 "metadata": {
  "kernelspec": {
   "display_name": "Python 3 (ipykernel)",
   "language": "python",
   "name": "python3"
  },
  "language_info": {
   "codemirror_mode": {
    "name": "ipython",
    "version": 3
   },
   "file_extension": ".py",
   "mimetype": "text/x-python",
   "name": "python",
   "nbconvert_exporter": "python",
   "pygments_lexer": "ipython3",
   "version": "3.9.10"
  }
 },
 "nbformat": 4,
 "nbformat_minor": 5
}
