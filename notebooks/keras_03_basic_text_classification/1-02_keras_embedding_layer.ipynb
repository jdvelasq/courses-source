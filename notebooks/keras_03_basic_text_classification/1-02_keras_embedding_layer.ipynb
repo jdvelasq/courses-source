{
 "cells": [
  {
   "cell_type": "markdown",
   "id": "3fffe64a-0cbe-4e25-8266-da6916644778",
   "metadata": {
    "tags": []
   },
   "source": [
    "Capa Embedding --- 0:00 min\n",
    "===\n",
    "\n",
    "* Última modificación: Marzo 7, 2022 | YouTube\n",
    "\n",
    "* Adaptado de: https://keras.io/api/layers/core_layers/embedding/"
   ]
  },
  {
   "cell_type": "markdown",
   "id": "4333309b-3729-4f40-8569-372eb0789bb5",
   "metadata": {
    "tags": []
   },
   "source": [
    "Importación de librerías\n",
    "---"
   ]
  },
  {
   "cell_type": "code",
   "execution_count": 1,
   "id": "afc5d725-817c-4fb0-b5d1-83f830b44e51",
   "metadata": {},
   "outputs": [
    {
     "data": {
      "text/plain": [
       "'2.8.0'"
      ]
     },
     "execution_count": 1,
     "metadata": {},
     "output_type": "execute_result"
    }
   ],
   "source": [
    "import os\n",
    "\n",
    "os.environ[\"TF_CPP_MIN_LOG_LEVEL\"] = \"2\"\n",
    "\n",
    "import tensorflow as tf\n",
    "\n",
    "tf.__version__"
   ]
  },
  {
   "cell_type": "markdown",
   "id": "6594bfe7-1593-4f56-bae2-c0c688122d09",
   "metadata": {},
   "source": [
    "Convierte enteros positivos en vectors densos de tamaño fijo.\n",
    "\n",
    "```[[4], [20]] -> [[0.25, 0.1], [0.6, -0.2]]```"
   ]
  },
  {
   "cell_type": "markdown",
   "id": "c5729a3b-6b2b-4ea8-8f81-0349cbd0f052",
   "metadata": {},
   "source": [
    "Usos\n",
    "---"
   ]
  },
  {
   "cell_type": "code",
   "execution_count": 2,
   "id": "bd2edc48-d12a-4ef4-8996-3d14c2dbdebd",
   "metadata": {},
   "outputs": [
    {
     "data": {
      "text/plain": [
       "(32, 10, 64)"
      ]
     },
     "execution_count": 2,
     "metadata": {},
     "output_type": "execute_result"
    }
   ],
   "source": [
    "import numpy as np\n",
    "\n",
    "model = tf.keras.Sequential()\n",
    "model.add(\n",
    "    tf.keras.layers.Embedding(\n",
    "        input_dim=1000,\n",
    "        output_dim=64,\n",
    "        embeddings_initializer=\"uniform\",\n",
    "        embeddings_regularizer=None,\n",
    "        embeddings_constraint=None,\n",
    "        input_length=10,\n",
    "    ),\n",
    ")\n",
    "input_array = np.random.randint(\n",
    "    1000,\n",
    "    size=(32, 10),\n",
    ")\n",
    "model.compile(\n",
    "    \"rmsprop\",\n",
    "    \"mse\",\n",
    ")\n",
    "output_array = model.predict(input_array)\n",
    "output_array.shape"
   ]
  }
 ],
 "metadata": {
  "kernelspec": {
   "display_name": "Python 3 (ipykernel)",
   "language": "python",
   "name": "python3"
  },
  "language_info": {
   "codemirror_mode": {
    "name": "ipython",
    "version": 3
   },
   "file_extension": ".py",
   "mimetype": "text/x-python",
   "name": "python",
   "nbconvert_exporter": "python",
   "pygments_lexer": "ipython3",
   "version": "3.9.10"
  }
 },
 "nbformat": 4,
 "nbformat_minor": 5
}
