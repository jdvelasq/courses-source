{
 "cells": [
  {
   "cell_type": "markdown",
   "metadata": {},
   "source": [
    "Identificación de créditos riesgosos usando árboles de decisión --- 10:54 min\n",
    "===\n",
    "\n",
    "* 10:54 min | Ultima modificación: Abril 14, 2021 | [YouTube](https://youtu.be/1dLQmi6CyzA)"
   ]
  },
  {
   "cell_type": "markdown",
   "metadata": {},
   "source": [
    "En el tutorial anterior se discutieron los fundamentos del uso de árboles de clasificación. En este tutorial, se presenta la identificación de créditos potencialmente riesgosos en una identidad crediticia."
   ]
  },
  {
   "cell_type": "markdown",
   "metadata": {},
   "source": [
    "## Descripción del problema"
   ]
  },
  {
   "cell_type": "markdown",
   "metadata": {},
   "source": [
    "Las entidades financieras desean mejorar sus procedimientos de aprobación de créditos con el fin de disminuir los riesgos de no pago de la deuda, lo que acarrea pérdidas a la entidad. El problema real consiste en poder decidir si se aprueba o no un crédito particular con base en información que puede ser fácilmente recolectada por teléfono o en la web."
   ]
  },
  {
   "cell_type": "markdown",
   "metadata": {},
   "source": [
    "Se tiene una muestra de 1000 observaciones. Cada registro contiene 20 atributos que recopilan información tanto sobre el crédito como sobre la salud financiera del solicitante. La información fue recolectada por una firma alemana y se puede descargar de https://archive.ics.uci.edu/ml/datasets/statlog+(german+credit+data).\n",
    "\n",
    "Los atributos y sus valores son los siguientes:\n",
    "\n",
    "     Attribute 1:  (qualitative)\n",
    "     \t      Status of existing checking account\n",
    "     \t      A11 :      ... <    0 DM\n",
    "     \t      A12 : 0 <= ... <  200 DM\n",
    "     \t      A13 :      ... >= 200 DM /\n",
    "     \t            salary assignments for at least 1 year\n",
    "     \t      A14 : no checking account\n",
    "\n",
    "     Attribute 2:  (numerical)\n",
    "     \t      Duration in month\n",
    "\n",
    "     Attribute 3:  (qualitative)\n",
    "     \t      Credit history\n",
    "     \t      A30 : no credits taken/\n",
    "     \t            all credits paid back duly\n",
    "     \t      A31 : all credits at this bank paid back duly\n",
    "     \t      A32 : existing credits paid back duly till now\n",
    "     \t      A33 : delay in paying off in the past\n",
    "     \t      A34 : critical account/\n",
    "     \t            other credits existing (not at this bank)\n",
    "\n",
    "     Attribute 4:  (qualitative)\n",
    "     \t      Purpose\n",
    "     \t      A40 : car (new)\n",
    "     \t      A41 : car (used)\n",
    "     \t      A42 : furniture/equipment\n",
    "     \t      A43 : radio/television\n",
    "     \t      A44 : domestic appliances\n",
    "     \t      A45 : repairs\n",
    "     \t      A46 : education\n",
    "     \t      A47 : (vacation - does not exist?)\n",
    "     \t      A48 : retraining\n",
    "     \t      A49 : business\n",
    "     \t      A410 : others\n",
    "\n",
    "     Attribute 5:  (numerical)\n",
    "     \t      Credit amount\n",
    "\n",
    "     Attribute 6:  (qualitative)\n",
    "     \t      Savings account/bonds\n",
    "     \t      A61 :          ... <  100 DM\n",
    "     \t      A62 :   100 <= ... <  500 DM\n",
    "     \t      A63 :   500 <= ... < 1000 DM\n",
    "     \t      A64 :          .. >= 1000 DM\n",
    "     \t      A65 :   unknown/ no savings account\n",
    "\n",
    "     Attribute 7:  (qualitative)\n",
    "     \t      Present employment since\n",
    "     \t      A71 : unemployed\n",
    "     \t      A72 :       ... < 1 year\n",
    "     \t      A73 : 1  <= ... < 4 years  \n",
    "     \t      A74 : 4  <= ... < 7 years\n",
    "     \t      A75 :       .. >= 7 years\n",
    "\n",
    "     Attribute 8:  (numerical)\n",
    "     \t      Installment rate in percentage of disposable income\n",
    "\n",
    "     Attribute 9:  (qualitative)\n",
    "     \t      Personal status and sex\n",
    "     \t      A91 : male   : divorced/separated\n",
    "     \t      A92 : female : divorced/separated/married\n",
    "     \t      A93 : male   : single\n",
    "     \t      A94 : male   : married/widowed\n",
    "     \t      A95 : female : single\n",
    "\n",
    "     Attribute 10: (qualitative)\n",
    "     \t      Other debtors / guarantors\n",
    "     \t      A101 : none\n",
    "     \t      A102 : co-applicant\n",
    "     \t      A103 : guarantor\n",
    "\n",
    "     Attribute 11: (numerical)\n",
    "     \t      Present residence since\n",
    "\n",
    "     Attribute 12: (qualitative)\n",
    "     \t      Property\n",
    "     \t      A121 : real estate\n",
    "     \t      A122 : if not A121 : building society savings agreement/\n",
    "     \t\t\t\t   life insurance\n",
    "     \t      A123 : if not A121/A122 : car or other, not in attribute 6\n",
    "     \t      A124 : unknown / no property\n",
    "\n",
    "     Attribute 13: (numerical)\n",
    "     \t      Age in years\n",
    "\n",
    "     Attribute 14: (qualitative)\n",
    "     \t      Other installment plans \n",
    "     \t      A141 : bank\n",
    "     \t      A142 : stores\n",
    "     \t      A143 : none\n",
    "\n",
    "     Attribute 15: (qualitative)\n",
    "     \t      Housing\n",
    "     \t      A151 : rent\n",
    "     \t      A152 : own\n",
    "     \t      A153 : for free\n",
    "\n",
    "     Attribute 16: (numerical)\n",
    "              Number of existing credits at this bank\n",
    "\n",
    "     Attribute 17: (qualitative)\n",
    "     \t      Job\n",
    "     \t      A171 : unemployed/ unskilled  - non-resident\n",
    "     \t      A172 : unskilled - resident\n",
    "     \t      A173 : skilled employee / official\n",
    "     \t      A174 : management/ self-employed/\n",
    "     \t\t         highly qualified employee/ officer\n",
    "\n",
    "     Attribute 18: (numerical)\n",
    "     \t      Number of people being liable to provide maintenance for\n",
    "\n",
    "     Attribute 19: (qualitative)\n",
    "     \t      Telephone\n",
    "     \t      A191 : none\n",
    "     \t      A192 : yes, registered under the customers name\n",
    "\n",
    "     Attribute 20: (qualitative)\n",
    "     \t      foreign worker\n",
    "     \t      A201 : yes\n",
    "     \t      A202 : no\n"
   ]
  },
  {
   "cell_type": "markdown",
   "metadata": {},
   "source": [
    "## Carga de datos"
   ]
  },
  {
   "cell_type": "code",
   "execution_count": 1,
   "metadata": {},
   "outputs": [
    {
     "name": "stdout",
     "output_type": "stream",
     "text": [
      "<class 'pandas.core.frame.DataFrame'>\n",
      "RangeIndex: 1000 entries, 0 to 999\n",
      "Data columns (total 21 columns):\n",
      " #   Column                Non-Null Count  Dtype \n",
      "---  ------                --------------  ----- \n",
      " 0   checking_balance      1000 non-null   object\n",
      " 1   months_loan_duration  1000 non-null   int64 \n",
      " 2   credit_history        1000 non-null   object\n",
      " 3   purpose               1000 non-null   object\n",
      " 4   amount                1000 non-null   int64 \n",
      " 5   savings_balance       1000 non-null   object\n",
      " 6   employment_length     1000 non-null   object\n",
      " 7   installment_rate      1000 non-null   int64 \n",
      " 8   personal_status       1000 non-null   object\n",
      " 9   other_debtors         1000 non-null   object\n",
      " 10  residence_history     1000 non-null   int64 \n",
      " 11  property              1000 non-null   object\n",
      " 12  age                   1000 non-null   int64 \n",
      " 13  installment_plan      1000 non-null   object\n",
      " 14  housing               1000 non-null   object\n",
      " 15  existing_credits      1000 non-null   int64 \n",
      " 16  default               1000 non-null   int64 \n",
      " 17  dependents            1000 non-null   int64 \n",
      " 18  telephone             1000 non-null   object\n",
      " 19  foreign_worker        1000 non-null   object\n",
      " 20  job                   1000 non-null   object\n",
      "dtypes: int64(8), object(13)\n",
      "memory usage: 164.2+ KB\n"
     ]
    }
   ],
   "source": [
    "import pandas as pd\n",
    "\n",
    "df = pd.read_csv(\n",
    "    \"https://raw.githubusercontent.com/jdvelasq/datalabs/master/datasets/credit.csv\",\n",
    "    sep=\",\",         # separador de campos\n",
    "    thousands=None,  # separador de miles para números\n",
    "    decimal=\".\",     # separador de los decimales para números\n",
    "    encoding=\"latin-1\",\n",
    ")  # idioma\n",
    "\n",
    "#\n",
    "# Verifica la lectura de los datos\n",
    "#\n",
    "df.info()"
   ]
  },
  {
   "cell_type": "code",
   "execution_count": 2,
   "metadata": {},
   "outputs": [
    {
     "data": {
      "text/html": [
       "<div>\n",
       "<style scoped>\n",
       "    .dataframe tbody tr th:only-of-type {\n",
       "        vertical-align: middle;\n",
       "    }\n",
       "\n",
       "    .dataframe tbody tr th {\n",
       "        vertical-align: top;\n",
       "    }\n",
       "\n",
       "    .dataframe thead th {\n",
       "        text-align: right;\n",
       "    }\n",
       "</style>\n",
       "<table border=\"1\" class=\"dataframe\">\n",
       "  <thead>\n",
       "    <tr style=\"text-align: right;\">\n",
       "      <th></th>\n",
       "      <th>checking_balance</th>\n",
       "      <th>months_loan_duration</th>\n",
       "      <th>credit_history</th>\n",
       "      <th>purpose</th>\n",
       "      <th>amount</th>\n",
       "      <th>savings_balance</th>\n",
       "      <th>employment_length</th>\n",
       "      <th>installment_rate</th>\n",
       "      <th>personal_status</th>\n",
       "      <th>other_debtors</th>\n",
       "      <th>...</th>\n",
       "      <th>property</th>\n",
       "      <th>age</th>\n",
       "      <th>installment_plan</th>\n",
       "      <th>housing</th>\n",
       "      <th>existing_credits</th>\n",
       "      <th>default</th>\n",
       "      <th>dependents</th>\n",
       "      <th>telephone</th>\n",
       "      <th>foreign_worker</th>\n",
       "      <th>job</th>\n",
       "    </tr>\n",
       "  </thead>\n",
       "  <tbody>\n",
       "    <tr>\n",
       "      <th>0</th>\n",
       "      <td>&lt; 0 DM</td>\n",
       "      <td>6</td>\n",
       "      <td>critical</td>\n",
       "      <td>radio/tv</td>\n",
       "      <td>1169</td>\n",
       "      <td>unknown</td>\n",
       "      <td>&gt; 7 yrs</td>\n",
       "      <td>4</td>\n",
       "      <td>single male</td>\n",
       "      <td>none</td>\n",
       "      <td>...</td>\n",
       "      <td>real estate</td>\n",
       "      <td>67</td>\n",
       "      <td>none</td>\n",
       "      <td>own</td>\n",
       "      <td>2</td>\n",
       "      <td>1</td>\n",
       "      <td>1</td>\n",
       "      <td>yes</td>\n",
       "      <td>yes</td>\n",
       "      <td>skilled employee</td>\n",
       "    </tr>\n",
       "    <tr>\n",
       "      <th>1</th>\n",
       "      <td>1 - 200 DM</td>\n",
       "      <td>48</td>\n",
       "      <td>repaid</td>\n",
       "      <td>radio/tv</td>\n",
       "      <td>5951</td>\n",
       "      <td>&lt; 100 DM</td>\n",
       "      <td>1 - 4 yrs</td>\n",
       "      <td>2</td>\n",
       "      <td>female</td>\n",
       "      <td>none</td>\n",
       "      <td>...</td>\n",
       "      <td>real estate</td>\n",
       "      <td>22</td>\n",
       "      <td>none</td>\n",
       "      <td>own</td>\n",
       "      <td>1</td>\n",
       "      <td>2</td>\n",
       "      <td>1</td>\n",
       "      <td>none</td>\n",
       "      <td>yes</td>\n",
       "      <td>skilled employee</td>\n",
       "    </tr>\n",
       "    <tr>\n",
       "      <th>2</th>\n",
       "      <td>unknown</td>\n",
       "      <td>12</td>\n",
       "      <td>critical</td>\n",
       "      <td>education</td>\n",
       "      <td>2096</td>\n",
       "      <td>&lt; 100 DM</td>\n",
       "      <td>4 - 7 yrs</td>\n",
       "      <td>2</td>\n",
       "      <td>single male</td>\n",
       "      <td>none</td>\n",
       "      <td>...</td>\n",
       "      <td>real estate</td>\n",
       "      <td>49</td>\n",
       "      <td>none</td>\n",
       "      <td>own</td>\n",
       "      <td>1</td>\n",
       "      <td>1</td>\n",
       "      <td>2</td>\n",
       "      <td>none</td>\n",
       "      <td>yes</td>\n",
       "      <td>unskilled resident</td>\n",
       "    </tr>\n",
       "    <tr>\n",
       "      <th>3</th>\n",
       "      <td>&lt; 0 DM</td>\n",
       "      <td>42</td>\n",
       "      <td>repaid</td>\n",
       "      <td>furniture</td>\n",
       "      <td>7882</td>\n",
       "      <td>&lt; 100 DM</td>\n",
       "      <td>4 - 7 yrs</td>\n",
       "      <td>2</td>\n",
       "      <td>single male</td>\n",
       "      <td>guarantor</td>\n",
       "      <td>...</td>\n",
       "      <td>building society savings</td>\n",
       "      <td>45</td>\n",
       "      <td>none</td>\n",
       "      <td>for free</td>\n",
       "      <td>1</td>\n",
       "      <td>1</td>\n",
       "      <td>2</td>\n",
       "      <td>none</td>\n",
       "      <td>yes</td>\n",
       "      <td>skilled employee</td>\n",
       "    </tr>\n",
       "    <tr>\n",
       "      <th>4</th>\n",
       "      <td>&lt; 0 DM</td>\n",
       "      <td>24</td>\n",
       "      <td>delayed</td>\n",
       "      <td>car (new)</td>\n",
       "      <td>4870</td>\n",
       "      <td>&lt; 100 DM</td>\n",
       "      <td>1 - 4 yrs</td>\n",
       "      <td>3</td>\n",
       "      <td>single male</td>\n",
       "      <td>none</td>\n",
       "      <td>...</td>\n",
       "      <td>unknown/none</td>\n",
       "      <td>53</td>\n",
       "      <td>none</td>\n",
       "      <td>for free</td>\n",
       "      <td>2</td>\n",
       "      <td>2</td>\n",
       "      <td>2</td>\n",
       "      <td>none</td>\n",
       "      <td>yes</td>\n",
       "      <td>skilled employee</td>\n",
       "    </tr>\n",
       "  </tbody>\n",
       "</table>\n",
       "<p>5 rows × 21 columns</p>\n",
       "</div>"
      ],
      "text/plain": [
       "  checking_balance  months_loan_duration credit_history    purpose  amount  \\\n",
       "0           < 0 DM                     6       critical   radio/tv    1169   \n",
       "1       1 - 200 DM                    48         repaid   radio/tv    5951   \n",
       "2          unknown                    12       critical  education    2096   \n",
       "3           < 0 DM                    42         repaid  furniture    7882   \n",
       "4           < 0 DM                    24        delayed  car (new)    4870   \n",
       "\n",
       "  savings_balance employment_length  installment_rate personal_status  \\\n",
       "0         unknown           > 7 yrs                 4     single male   \n",
       "1        < 100 DM         1 - 4 yrs                 2          female   \n",
       "2        < 100 DM         4 - 7 yrs                 2     single male   \n",
       "3        < 100 DM         4 - 7 yrs                 2     single male   \n",
       "4        < 100 DM         1 - 4 yrs                 3     single male   \n",
       "\n",
       "  other_debtors  ...                  property age  installment_plan  \\\n",
       "0          none  ...               real estate  67              none   \n",
       "1          none  ...               real estate  22              none   \n",
       "2          none  ...               real estate  49              none   \n",
       "3     guarantor  ...  building society savings  45              none   \n",
       "4          none  ...              unknown/none  53              none   \n",
       "\n",
       "    housing existing_credits  default  dependents  telephone foreign_worker  \\\n",
       "0       own                2        1           1        yes            yes   \n",
       "1       own                1        2           1       none            yes   \n",
       "2       own                1        1           2       none            yes   \n",
       "3  for free                1        1           2       none            yes   \n",
       "4  for free                2        2           2       none            yes   \n",
       "\n",
       "                  job  \n",
       "0    skilled employee  \n",
       "1    skilled employee  \n",
       "2  unskilled resident  \n",
       "3    skilled employee  \n",
       "4    skilled employee  \n",
       "\n",
       "[5 rows x 21 columns]"
      ]
     },
     "execution_count": 2,
     "metadata": {},
     "output_type": "execute_result"
    }
   ],
   "source": [
    "#\n",
    "# Contenido del archivo\n",
    "#\n",
    "df.head()"
   ]
  },
  {
   "cell_type": "code",
   "execution_count": 3,
   "metadata": {},
   "outputs": [
    {
     "data": {
      "text/plain": [
       "checking_balance        object\n",
       "months_loan_duration     int64\n",
       "credit_history          object\n",
       "purpose                 object\n",
       "amount                   int64\n",
       "savings_balance         object\n",
       "employment_length       object\n",
       "installment_rate         int64\n",
       "personal_status         object\n",
       "other_debtors           object\n",
       "residence_history        int64\n",
       "property                object\n",
       "age                      int64\n",
       "installment_plan        object\n",
       "housing                 object\n",
       "existing_credits         int64\n",
       "default                  int64\n",
       "dependents               int64\n",
       "telephone               object\n",
       "foreign_worker          object\n",
       "job                     object\n",
       "dtype: object"
      ]
     },
     "execution_count": 3,
     "metadata": {},
     "output_type": "execute_result"
    }
   ],
   "source": [
    "#\n",
    "# Se verifican los tipos de datos de las columnas \n",
    "#\n",
    "df.dtypes"
   ]
  },
  {
   "cell_type": "markdown",
   "metadata": {},
   "source": [
    "### Análisis Exploratorio"
   ]
  },
  {
   "cell_type": "code",
   "execution_count": 4,
   "metadata": {},
   "outputs": [
    {
     "data": {
      "text/plain": [
       "unknown       394\n",
       "< 0 DM        274\n",
       "1 - 200 DM    269\n",
       "> 200 DM       63\n",
       "Name: checking_balance, dtype: int64"
      ]
     },
     "execution_count": 4,
     "metadata": {},
     "output_type": "execute_result"
    }
   ],
   "source": [
    "#\n",
    "# Algunas de las columnas son numéricas y \n",
    "# las otras son factores.\n",
    "# DM corresponde a Deutsche Marks\n",
    "# se verifican algunos valores versus el code book.\n",
    "#\n",
    "df.checking_balance.value_counts()"
   ]
  },
  {
   "cell_type": "code",
   "execution_count": 5,
   "metadata": {},
   "outputs": [
    {
     "data": {
      "text/plain": [
       "< 100 DM         603\n",
       "unknown          183\n",
       "101 - 500 DM     103\n",
       "501 - 1000 DM     63\n",
       "> 1000 DM         48\n",
       "Name: savings_balance, dtype: int64"
      ]
     },
     "execution_count": 5,
     "metadata": {},
     "output_type": "execute_result"
    }
   ],
   "source": [
    "df.savings_balance.value_counts()"
   ]
  },
  {
   "cell_type": "code",
   "execution_count": 6,
   "metadata": {},
   "outputs": [
    {
     "data": {
      "text/plain": [
       "count     1000.000000\n",
       "mean      3271.258000\n",
       "std       2822.736876\n",
       "min        250.000000\n",
       "25%       1365.500000\n",
       "50%       2319.500000\n",
       "75%       3972.250000\n",
       "max      18424.000000\n",
       "Name: amount, dtype: float64"
      ]
     },
     "execution_count": 6,
     "metadata": {},
     "output_type": "execute_result"
    }
   ],
   "source": [
    "#\n",
    "# El monto del préstamo va desde 250 DM hasta 18.424 DM\n",
    "#\n",
    "df.amount.describe()"
   ]
  },
  {
   "cell_type": "code",
   "execution_count": 7,
   "metadata": {},
   "outputs": [
    {
     "data": {
      "text/plain": [
       "count    1000.000000\n",
       "mean       20.903000\n",
       "std        12.058814\n",
       "min         4.000000\n",
       "25%        12.000000\n",
       "50%        18.000000\n",
       "75%        24.000000\n",
       "max        72.000000\n",
       "Name: months_loan_duration, dtype: float64"
      ]
     },
     "execution_count": 7,
     "metadata": {},
     "output_type": "execute_result"
    }
   ],
   "source": [
    "#\n",
    "# La duración del préstamo va desde 4 hasta 72 meses\n",
    "#\n",
    "df.months_loan_duration.describe()"
   ]
  },
  {
   "cell_type": "code",
   "execution_count": 8,
   "metadata": {},
   "outputs": [
    {
     "data": {
      "text/plain": [
       "1    700\n",
       "2    300\n",
       "Name: default, dtype: int64"
      ]
     },
     "execution_count": 8,
     "metadata": {},
     "output_type": "execute_result"
    }
   ],
   "source": [
    "#\n",
    "# La columna default indica si hubo problemas \n",
    "# en el pago del préstamo (1- pago, 2- no pago)\n",
    "# esta es la columna que se desea pronosticar\n",
    "# 1-si, 2-no\n",
    "#\n",
    "df.default.value_counts()"
   ]
  },
  {
   "cell_type": "markdown",
   "metadata": {},
   "source": [
    "### Preprocesamiento"
   ]
  },
  {
   "cell_type": "code",
   "execution_count": 9,
   "metadata": {},
   "outputs": [],
   "source": [
    "from sklearn.preprocessing import LabelEncoder\n",
    "\n",
    "#\n",
    "# Se construye un codificador para transformar\n",
    "# los strings a enteros (similar a factores en R)\n",
    "#\n",
    "enc = LabelEncoder()\n",
    "\n",
    "#\n",
    "# Se aplica el codificador a las columnas\n",
    "# del dataset\n",
    "#\n",
    "columns = [\n",
    "    \"checking_balance\",\n",
    "    \"credit_history\",\n",
    "    \"purpose\",\n",
    "    \"savings_balance\",\n",
    "    \"employment_length\",\n",
    "    \"personal_status\",\n",
    "    \"other_debtors\",\n",
    "    \"property\",\n",
    "    \"installment_plan\",\n",
    "    \"housing\",\n",
    "    \"telephone\",\n",
    "    \"foreign_worker\",\n",
    "    \"job\",\n",
    "]\n",
    "\n",
    "for column in columns:\n",
    "    df[column] = enc.fit_transform(df[column])"
   ]
  },
  {
   "cell_type": "markdown",
   "metadata": {},
   "source": [
    "### Entrenamiento del modelo"
   ]
  },
  {
   "cell_type": "code",
   "execution_count": 10,
   "metadata": {},
   "outputs": [
    {
     "data": {
      "text/plain": [
       "array([[49, 19],\n",
       "       [19, 13]])"
      ]
     },
     "execution_count": 10,
     "metadata": {},
     "output_type": "execute_result"
    }
   ],
   "source": [
    "#\n",
    "#  Se usa el 90% de los datos para entrenamiento\n",
    "#  y el 10% restante para prueba\n",
    "#\n",
    "train_sample = list(range(900))\n",
    "test_sample = list(range(900, 1000))\n",
    "\n",
    "#\n",
    "# Genera los conjuntos de entrenamiento y prueba\n",
    "#\n",
    "X_train = df.iloc[train_sample, :].copy()\n",
    "X_test = df.iloc[test_sample, :].copy()\n",
    "\n",
    "#\n",
    "# Se elimina la columna default que\n",
    "# corresponde a la variable de salida\n",
    "#\n",
    "X_train.drop(\"default\", axis=1, inplace=True)\n",
    "X_test.drop(\"default\", axis=1, inplace=True)\n",
    "\n",
    "#\n",
    "# Se genera la variable dependiente\n",
    "#\n",
    "y_train_true = df.default[train_sample]\n",
    "y_test_true = df.default[test_sample]\n",
    "\n",
    "#\n",
    "# Construcción del arbol de clasificación\n",
    "#\n",
    "from sklearn.tree import DecisionTreeClassifier\n",
    "\n",
    "#\n",
    "# Se construye el arbol\n",
    "#\n",
    "clf = DecisionTreeClassifier()\n",
    "\n",
    "#\n",
    "# Se entrena para los datos de prueba\n",
    "#\n",
    "clf.fit(X_train, y_train_true)\n",
    "\n",
    "#\n",
    "# Se pronostica para la muestra de prueba\n",
    "#\n",
    "y_test_pred = clf.predict(X_test)\n",
    "\n",
    "#\n",
    "# Métricas de desempeño\n",
    "#\n",
    "from sklearn.metrics import confusion_matrix\n",
    "\n",
    "confusion_matrix(y_test_true, y_test_pred)"
   ]
  }
 ],
 "metadata": {
  "kernel_info": {
   "name": "python3"
  },
  "kernelspec": {
   "display_name": "Python 3",
   "language": "python",
   "name": "python3"
  },
  "language_info": {
   "codemirror_mode": {
    "name": "ipython",
    "version": 3
   },
   "file_extension": ".py",
   "mimetype": "text/x-python",
   "name": "python",
   "nbconvert_exporter": "python",
   "pygments_lexer": "ipython3",
   "version": "3.6.9"
  },
  "nteract": {
   "version": "0.7.1"
  },
  "varInspector": {
   "cols": {
    "lenName": 16,
    "lenType": 16,
    "lenVar": 40
   },
   "kernels_config": {
    "python": {
     "delete_cmd_postfix": "",
     "delete_cmd_prefix": "del ",
     "library": "var_list.py",
     "varRefreshCmd": "print(var_dic_list())"
    },
    "r": {
     "delete_cmd_postfix": ") ",
     "delete_cmd_prefix": "rm(",
     "library": "var_list.r",
     "varRefreshCmd": "cat(var_dic_list()) "
    }
   },
   "types_to_exclude": [
    "module",
    "function",
    "builtin_function_or_method",
    "instance",
    "_Feature"
   ],
   "window_display": false
  }
 },
 "nbformat": 4,
 "nbformat_minor": 4
}
