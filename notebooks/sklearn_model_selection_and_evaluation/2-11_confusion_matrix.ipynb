{
 "cells": [
  {
   "cell_type": "markdown",
   "id": "dc43ef6e-1650-49bd-8f9f-c8e18cfacceb",
   "metadata": {
    "tags": []
   },
   "source": [
    "La matriz de confusión --- 10:24 min\n",
    "===\n",
    "\n",
    "* 10:24 min | Ultima modificación: Septiembre 29, 2021 | [YouTube](https://youtu.be/QBdRZx69ApM)"
   ]
  },
  {
   "cell_type": "markdown",
   "id": "04327768-472d-4487-a2e9-f423f7aa080e",
   "metadata": {},
   "source": [
    "Definición\n",
    "---"
   ]
  },
  {
   "cell_type": "markdown",
   "id": "cce00799-9a95-405f-986a-c169aebb9fb1",
   "metadata": {},
   "source": [
    "Es una matriz que permite visualizar el desempeño de un clasificador. La organización típica es la presentada a continuación:"
   ]
  },
  {
   "cell_type": "markdown",
   "id": "1788e372-5b28-4fd5-b3c7-ecc6f2fd7e3d",
   "metadata": {},
   "source": [
    "             | Pronóstico\n",
    "             |  PP    PN\n",
    "    ---------|------------\n",
    "          P  |  TP    FN \n",
    "    Real     |\n",
    "          N  |  FP    TN                        \n",
    "    \n",
    "    \n",
    "     P - Positive                 TP - Verdadero positivo (correcto)\n",
    "     N - Negative                 TN - Verdadero negativo (correcto)\n",
    "    PP - Predicted Positive       FN - Falso negativo (mal clasificado)\n",
    "    PN - Predicted Negative       FP - Falso positivo (mal clasificado)    "
   ]
  },
  {
   "cell_type": "markdown",
   "id": "e8cd4f8a-1a19-475d-9968-396ebc18d7bd",
   "metadata": {},
   "source": [
    "Cómputo\n",
    "---"
   ]
  },
  {
   "cell_type": "code",
   "execution_count": 1,
   "id": "fc9d1305-81d3-4e51-b524-0fa0d2249da3",
   "metadata": {
    "tags": []
   },
   "outputs": [
    {
     "data": {
      "text/plain": [
       "array([[10,  1],\n",
       "       [ 3,  1]])"
      ]
     },
     "execution_count": 1,
     "metadata": {},
     "output_type": "execute_result"
    }
   ],
   "source": [
    "#\n",
    "# Cálculo a partir de los valores reales y los pronósticos\n",
    "#\n",
    "from sklearn.metrics import confusion_matrix\n",
    "\n",
    "y_true = [0, 1, 0, 0, 1, 0, 0, 0, 0, 1, 0, 1, 0, 0, 0]\n",
    "y_pred = [0, 1, 0, 0, 0, 1, 0, 0, 0, 0, 0, 0, 0, 0, 0]\n",
    "\n",
    "\n",
    "confusion_matrix(\n",
    "    # -------------------------------------------------------------------------\n",
    "    # Ground truth (correct) target values.\n",
    "    y_true=y_true,\n",
    "    # -------------------------------------------------------------------------\n",
    "    # Estimated targets as returned by a classifier.\n",
    "    y_pred=y_pred,\n",
    "    # -------------------------------------------------------------------------\n",
    "    # List of labels to index the matrix.\n",
    "    labels=None,\n",
    "    # -------------------------------------------------------------------------\n",
    "    # Normalizes confusion matrix over the true (rows), predicted (columns)\n",
    "    # conditions or all the population.\n",
    "    # 'true', 'pred', 'all'\n",
    "    normalize=None,\n",
    ")"
   ]
  },
  {
   "cell_type": "code",
   "execution_count": 2,
   "id": "4549c9d0-5cfd-4c7b-8bab-adc358fb825f",
   "metadata": {},
   "outputs": [
    {
     "data": {
      "text/plain": [
       "array([[ 1,  3],\n",
       "       [ 1, 10]])"
      ]
     },
     "execution_count": 2,
     "metadata": {},
     "output_type": "execute_result"
    }
   ],
   "source": [
    "confusion_matrix(\n",
    "    y_true=y_true,\n",
    "    y_pred=y_pred,\n",
    "    labels=[1, 0],\n",
    "    normalize=None,\n",
    ")"
   ]
  },
  {
   "cell_type": "code",
   "execution_count": 3,
   "id": "c6c0d52b-924f-4524-8e4f-92a958f453e5",
   "metadata": {},
   "outputs": [
    {
     "data": {
      "text/html": [
       "<div>\n",
       "<style scoped>\n",
       "    .dataframe tbody tr th:only-of-type {\n",
       "        vertical-align: middle;\n",
       "    }\n",
       "\n",
       "    .dataframe tbody tr th {\n",
       "        vertical-align: top;\n",
       "    }\n",
       "\n",
       "    .dataframe thead th {\n",
       "        text-align: right;\n",
       "    }\n",
       "</style>\n",
       "<table border=\"1\" class=\"dataframe\">\n",
       "  <thead>\n",
       "    <tr style=\"text-align: right;\">\n",
       "      <th></th>\n",
       "      <th>PP</th>\n",
       "      <th>PF</th>\n",
       "    </tr>\n",
       "  </thead>\n",
       "  <tbody>\n",
       "    <tr>\n",
       "      <th>P</th>\n",
       "      <td>1</td>\n",
       "      <td>3</td>\n",
       "    </tr>\n",
       "    <tr>\n",
       "      <th>F</th>\n",
       "      <td>1</td>\n",
       "      <td>10</td>\n",
       "    </tr>\n",
       "  </tbody>\n",
       "</table>\n",
       "</div>"
      ],
      "text/plain": [
       "   PP  PF\n",
       "P   1   3\n",
       "F   1  10"
      ]
     },
     "execution_count": 3,
     "metadata": {},
     "output_type": "execute_result"
    }
   ],
   "source": [
    "import pandas as pd\n",
    "\n",
    "pd.DataFrame(\n",
    "    confusion_matrix(\n",
    "        y_true=y_true,\n",
    "        y_pred=y_pred,\n",
    "        labels=[1, 0],\n",
    "        normalize=None,\n",
    "    ),\n",
    "    columns=[\"PP\", \"PF\"],\n",
    "    index=[\"P\", \"F\"],\n",
    ")\n",
    "\n",
    "#\n",
    "#          | Pronóstico\n",
    "#          |  PP    PN\n",
    "# ---------|------------\n",
    "#       P  |  TP    FN\n",
    "# Real     |\n",
    "#       N  |  FP    TN\n",
    "#"
   ]
  },
  {
   "cell_type": "code",
   "execution_count": 4,
   "id": "4362e11a-26ac-4180-8d69-b3510349b881",
   "metadata": {},
   "outputs": [
    {
     "data": {
      "text/plain": [
       "10"
      ]
     },
     "metadata": {},
     "output_type": "display_data"
    },
    {
     "data": {
      "text/plain": [
       "1"
      ]
     },
     "metadata": {},
     "output_type": "display_data"
    },
    {
     "data": {
      "text/plain": [
       "3"
      ]
     },
     "metadata": {},
     "output_type": "display_data"
    },
    {
     "data": {
      "text/plain": [
       "1"
      ]
     },
     "metadata": {},
     "output_type": "display_data"
    }
   ],
   "source": [
    "#\n",
    "# Extracción de los elementos de la matriz de confusión\n",
    "#\n",
    "tn, fp, fn, tp = confusion_matrix(\n",
    "    y_true=y_true,\n",
    "    y_pred=y_pred,\n",
    ").ravel()\n",
    "\n",
    "display(\n",
    "    tn,\n",
    "    fp,\n",
    "    fn,\n",
    "    tp,\n",
    ")"
   ]
  },
  {
   "cell_type": "markdown",
   "id": "421a22fc-ee82-4665-9cd1-58bebd21b67e",
   "metadata": {},
   "source": [
    "Matriz de confusión para más de dos clases\n",
    "---"
   ]
  },
  {
   "cell_type": "code",
   "execution_count": 5,
   "id": "b2a9b0cb-0c17-405e-be56-6d5c1dc9c662",
   "metadata": {},
   "outputs": [
    {
     "data": {
      "text/plain": [
       "array([[37,  0,  0],\n",
       "       [ 0, 24, 10],\n",
       "       [ 0,  1, 40]])"
      ]
     },
     "execution_count": 5,
     "metadata": {},
     "output_type": "execute_result"
    }
   ],
   "source": [
    "from sklearn.datasets import load_iris\n",
    "from sklearn.metrics import plot_confusion_matrix\n",
    "from sklearn.model_selection import train_test_split\n",
    "from sklearn.svm import SVC\n",
    "\n",
    "iris = load_iris()\n",
    "X = iris.data\n",
    "y = iris.target\n",
    "class_names = iris.target_names\n",
    "\n",
    "X_train, X_test, y_train, y_test = train_test_split(\n",
    "    X,\n",
    "    y,\n",
    "    random_state=0,\n",
    ")\n",
    "\n",
    "clf = SVC(kernel=\"linear\", C=0.01).fit(X_train, y_train)\n",
    "\n",
    "y_pred = clf.predict(X_train)\n",
    "\n",
    "cm = confusion_matrix(\n",
    "    y_true=y_train,\n",
    "    y_pred=y_pred,\n",
    "    labels=None,\n",
    "    normalize=None,\n",
    ")\n",
    "\n",
    "cm"
   ]
  },
  {
   "cell_type": "markdown",
   "id": "c90727b4-2d96-4f6a-bd4e-89ab26676b18",
   "metadata": {},
   "source": [
    "## Visualización de la matriz de confusión"
   ]
  },
  {
   "cell_type": "code",
   "execution_count": 6,
   "id": "e46bad5a-44a7-4c9b-b9ce-f63def773417",
   "metadata": {},
   "outputs": [
    {
     "data": {
      "image/png": "[encoded data removed]",
      "text/plain": [
       "<Figure size 432x288 with 1 Axes>"
      ]
     },
     "metadata": {
      "needs_background": "light"
     },
     "output_type": "display_data"
    }
   ],
   "source": [
    "import matplotlib.pyplot as plt\n",
    "\n",
    "import seaborn as sns\n",
    "\n",
    "sns.heatmap(\n",
    "    cm,\n",
    "    cbar=False,\n",
    "    cmap=\"Blues\",\n",
    "    annot=True,\n",
    "    fmt=\"d\",\n",
    ")\n",
    "plt.show()"
   ]
  },
  {
   "cell_type": "code",
   "execution_count": 7,
   "id": "3c1d168b-7a6d-4ef9-9813-c236908e4f22",
   "metadata": {},
   "outputs": [
    {
     "data": {
      "image/png": "[encoded data removed]",
      "text/plain": [
       "<Figure size 432x288 with 2 Axes>"
      ]
     },
     "metadata": {
      "needs_background": "light"
     },
     "output_type": "display_data"
    }
   ],
   "source": [
    "from sklearn.metrics import ConfusionMatrixDisplay\n",
    "\n",
    "confusionMatrixDisplay = ConfusionMatrixDisplay(\n",
    "    # -------------------------------------------------------------------------\n",
    "    # Confusion matrix.\n",
    "    confusion_matrix=cm,\n",
    "    # -------------------------------------------------------------------------\n",
    "    # Display labels for plot. If None, display labels are set from 0 to\n",
    "    # n_classes - 1.\n",
    "    display_labels=clf.classes_,\n",
    ")\n",
    "\n",
    "confusionMatrixDisplay.plot(cmap=\"Blues\")\n",
    "plt.show()"
   ]
  },
  {
   "cell_type": "markdown",
   "id": "6c69fbce-c102-4229-a700-6d88617ad945",
   "metadata": {},
   "source": [
    "Normalización\n",
    "---"
   ]
  },
  {
   "cell_type": "code",
   "execution_count": 8,
   "id": "32914d45-f5fe-4835-8d56-6ee5b977a299",
   "metadata": {},
   "outputs": [
    {
     "data": {
      "image/png": "[encoded data removed]",
      "text/plain": [
       "<Figure size 432x288 with 2 Axes>"
      ]
     },
     "metadata": {
      "needs_background": "light"
     },
     "output_type": "display_data"
    }
   ],
   "source": [
    "#\n",
    "# Normalización sobre las filas (true)\n",
    "#\n",
    "ConfusionMatrixDisplay(\n",
    "    confusion_matrix=confusion_matrix(\n",
    "        y_true=y_train,\n",
    "        y_pred=y_pred,\n",
    "        normalize=\"true\",\n",
    "    ),\n",
    "    display_labels=clf.classes_,\n",
    ").plot(cmap=\"Blues\")\n",
    "plt.show()"
   ]
  },
  {
   "cell_type": "code",
   "execution_count": 9,
   "id": "6273d009-f3aa-48aa-a5f7-125d4281b708",
   "metadata": {},
   "outputs": [
    {
     "data": {
      "image/png": "[encoded data removed]",
      "text/plain": [
       "<Figure size 432x288 with 2 Axes>"
      ]
     },
     "metadata": {
      "needs_background": "light"
     },
     "output_type": "display_data"
    }
   ],
   "source": [
    "#\n",
    "# Normalización sobre las columnas (pred)\n",
    "#\n",
    "ConfusionMatrixDisplay(\n",
    "    confusion_matrix=confusion_matrix(\n",
    "        y_true=y_train,\n",
    "        y_pred=y_pred,\n",
    "        normalize=\"pred\",\n",
    "    ),\n",
    "    display_labels=clf.classes_,\n",
    ").plot(cmap=\"Blues\")\n",
    "plt.show()"
   ]
  },
  {
   "cell_type": "code",
   "execution_count": 10,
   "id": "36a036fd-ab4a-461b-abb5-6694fe8d19b5",
   "metadata": {},
   "outputs": [
    {
     "data": {
      "image/png": "[encoded data removed]",
      "text/plain": [
       "<Figure size 432x288 with 2 Axes>"
      ]
     },
     "metadata": {
      "needs_background": "light"
     },
     "output_type": "display_data"
    }
   ],
   "source": [
    "#\n",
    "# Normalización sobre todos los datos\n",
    "#\n",
    "ConfusionMatrixDisplay(\n",
    "    confusion_matrix=confusion_matrix(\n",
    "        y_true=y_train,\n",
    "        y_pred=y_pred,\n",
    "        normalize=\"all\",\n",
    "    ),\n",
    "    display_labels=clf.classes_,\n",
    ").plot(cmap=\"Blues\")\n",
    "plt.show()"
   ]
  }
 ],
 "metadata": {
  "kernelspec": {
   "display_name": "Python 3",
   "language": "python",
   "name": "python3"
  },
  "language_info": {
   "codemirror_mode": {
    "name": "ipython",
    "version": 3
   },
   "file_extension": ".py",
   "mimetype": "text/x-python",
   "name": "python",
   "nbconvert_exporter": "python",
   "pygments_lexer": "ipython3",
   "version": "3.6.9"
  }
 },
 "nbformat": 4,
 "nbformat_minor": 5
}
