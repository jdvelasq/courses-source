{
 "cells": [
  {
   "cell_type": "markdown",
   "id": "dc43ef6e-1650-49bd-8f9f-c8e18cfacceb",
   "metadata": {
    "tags": []
   },
   "source": [
    "Matriz de confusión\n",
    "===\n",
    "\n",
    "* 5:00 min | Ultima modificación: Junio 22, 2019 | [YouTube]"
   ]
  },
  {
   "cell_type": "markdown",
   "id": "a2ceba69-a250-4b99-98eb-5b4214494851",
   "metadata": {},
   "source": [
    "Es una matriz donde las filas corresponden a la clase verdader y las columnas a la clase pronósticada, de tal forma, que permite evaluar la precisión para cada clase."
   ]
  },
  {
   "cell_type": "markdown",
   "id": "6a0642cc-72f1-404d-bcf8-7fb224a68ea7",
   "metadata": {},
   "source": [
    "https://scikit-learn.org/stable/auto_examples/model_selection/plot_confusion_matrix.html#sphx-glr-auto-examples-model-selection-plot-confusion-matrix-py"
   ]
  },
  {
   "cell_type": "markdown",
   "id": "7cb6cfa8-77f8-4c50-b9b8-8b3924150529",
   "metadata": {},
   "source": [
    "             | Pronostico\n",
    "             |  N     P\n",
    "    ---------|------------\n",
    "          N  |  TN    FP \n",
    "    Real     |\n",
    "          P  |  FN    TP                        \n",
    "    \n",
    "    TP - Verdadero positivo (correcto)\n",
    "    TN - Verdadero negativo (correcto)\n",
    "    FN - Falso negativo (mal clasificado)\n",
    "    FP - Falso positivo (mal clasificado)\n",
    "    "
   ]
  },
  {
   "cell_type": "code",
   "execution_count": 1,
   "id": "e095d7ae-8edf-4c10-b7b6-d2f1c76e44f2",
   "metadata": {},
   "outputs": [
    {
     "data": {
      "text/plain": [
       "array([[10,  3],\n",
       "       [ 1,  1]])"
      ]
     },
     "execution_count": 1,
     "metadata": {},
     "output_type": "execute_result"
    }
   ],
   "source": [
    "#\n",
    "# Cómputo de la matriz de confusión a partir\n",
    "# de los valores reales y los pronósticos\n",
    "#\n",
    "from sklearn.metrics import confusion_matrix\n",
    "\n",
    "y_true = [0, 1, 0, 0, 1, 0, 0, 0, 0, 1, 0, 1, 0, 0, 0]\n",
    "y_pred = [0, 1, 0, 0, 0, 1, 0, 0, 0, 0, 0, 0, 0, 0, 0]\n",
    "\n",
    "confusion_matrix(\n",
    "    y_true=y_true,\n",
    "    y_pred=y_pred,\n",
    "    #\n",
    "    # Lista de labels para las filas de la matriz\n",
    "    labels=None,\n",
    "    #\n",
    "    # Normaliza la matriz de confusión sobre las filas ('true'),\n",
    "    # las columnas ('pred') o toda la matriz ('all')\n",
    "    normalize=None,\n",
    ").transpose()"
   ]
  },
  {
   "cell_type": "code",
   "execution_count": 2,
   "id": "76b0dde0-dc49-4d55-9da0-9cfd34a3c599",
   "metadata": {},
   "outputs": [
    {
     "data": {
      "text/plain": [
       "10"
      ]
     },
     "metadata": {},
     "output_type": "display_data"
    },
    {
     "data": {
      "text/plain": [
       "1"
      ]
     },
     "metadata": {},
     "output_type": "display_data"
    },
    {
     "data": {
      "text/plain": [
       "3"
      ]
     },
     "metadata": {},
     "output_type": "display_data"
    },
    {
     "data": {
      "text/plain": [
       "1"
      ]
     },
     "metadata": {},
     "output_type": "display_data"
    }
   ],
   "source": [
    "tn, fp, fn, tp = confusion_matrix(\n",
    "    y_true=y_true,\n",
    "    y_pred=y_pred,\n",
    ").ravel()\n",
    "\n",
    "display(\n",
    "    tn,\n",
    "    fp,\n",
    "    fn,\n",
    "    tp,\n",
    ")"
   ]
  },
  {
   "cell_type": "markdown",
   "id": "421a22fc-ee82-4665-9cd1-58bebd21b67e",
   "metadata": {},
   "source": [
    "Construcción a partir de un clasificador\n",
    "---"
   ]
  },
  {
   "cell_type": "code",
   "execution_count": 3,
   "id": "b2a9b0cb-0c17-405e-be56-6d5c1dc9c662",
   "metadata": {},
   "outputs": [
    {
     "data": {
      "text/plain": [
       "array([[37,  0,  0],\n",
       "       [ 0, 24, 10],\n",
       "       [ 0,  1, 40]])"
      ]
     },
     "execution_count": 3,
     "metadata": {},
     "output_type": "execute_result"
    }
   ],
   "source": [
    "from sklearn.datasets import load_iris\n",
    "from sklearn.metrics import plot_confusion_matrix\n",
    "from sklearn.model_selection import train_test_split\n",
    "from sklearn.svm import SVC\n",
    "\n",
    "iris = load_iris()\n",
    "X = iris.data\n",
    "y = iris.target\n",
    "class_names = iris.target_names\n",
    "\n",
    "X_train, X_test, y_train, y_test = train_test_split(\n",
    "    X,\n",
    "    y,\n",
    "    random_state=0,\n",
    ")\n",
    "\n",
    "clf = SVC(kernel=\"linear\", C=0.01).fit(X_train, y_train)\n",
    "\n",
    "cm = confusion_matrix(\n",
    "    y_true=y_train,\n",
    "    y_pred=clf.predict(X_train),\n",
    "    #\n",
    "    # Lista de labels para las filas de la matriz\n",
    "    labels=None,\n",
    "    #\n",
    "    # Normaliza la matriz de confusión sobre las filas ('true'),\n",
    "    # las columnas ('pred') o toda la matriz ('all')\n",
    "    normalize=None,\n",
    ")\n",
    "\n",
    "cm"
   ]
  },
  {
   "cell_type": "code",
   "execution_count": 4,
   "id": "a2648d41-a5bb-4b4d-b217-e34826a06141",
   "metadata": {},
   "outputs": [
    {
     "data": {
      "image/png": "[encoded data removed]",
      "text/plain": [
       "<Figure size 432x288 with 2 Axes>"
      ]
     },
     "metadata": {
      "needs_background": "light"
     },
     "output_type": "display_data"
    }
   ],
   "source": [
    "import matplotlib.pyplot as plt\n",
    "from sklearn.metrics import plot_confusion_matrix\n",
    "\n",
    "plot_confusion_matrix(\n",
    "    clf,\n",
    "    X_test,\n",
    "    y_test,\n",
    "    cmap=plt.cm.Blues,\n",
    "    normalize=None,\n",
    ")\n",
    "plt.show()"
   ]
  },
  {
   "cell_type": "code",
   "execution_count": 5,
   "id": "c35b97df-d9f6-4b4f-9ec3-57dde674e1fa",
   "metadata": {},
   "outputs": [
    {
     "data": {
      "image/png": "[encoded data removed]",
      "text/plain": [
       "<Figure size 1080x864 with 8 Axes>"
      ]
     },
     "metadata": {
      "needs_background": "light"
     },
     "output_type": "display_data"
    }
   ],
   "source": [
    "#\n",
    "# Efectos de la normalización\n",
    "#\n",
    "from sklearn.metrics import ConfusionMatrixDisplay\n",
    "\n",
    "plt.figure(figsize=(15, 12))\n",
    "\n",
    "for i_normalize, normalize in enumerate([None, \"true\", \"pred\", \"all\"]):\n",
    "\n",
    "    cm = confusion_matrix(\n",
    "        y_true=y_train,\n",
    "        y_pred=clf.predict(X_train),\n",
    "        labels=None,\n",
    "        normalize=normalize,\n",
    "    )\n",
    "\n",
    "    ax = plt.subplot(2, 2, i_normalize + 1)\n",
    "\n",
    "    disp = ConfusionMatrixDisplay(\n",
    "        confusion_matrix=cm,\n",
    "        display_labels=clf.classes_,\n",
    "    )\n",
    "    disp.plot(ax=ax, cmap=plt.cm.Blues)\n",
    "    plt.gca().set_title(\"nomalize = \" + repr(normalize))"
   ]
  }
 ],
 "metadata": {
  "kernelspec": {
   "display_name": "Python 3",
   "language": "python",
   "name": "python3"
  },
  "language_info": {
   "codemirror_mode": {
    "name": "ipython",
    "version": 3
   },
   "file_extension": ".py",
   "mimetype": "text/x-python",
   "name": "python",
   "nbconvert_exporter": "python",
   "pygments_lexer": "ipython3",
   "version": "3.6.9"
  }
 },
 "nbformat": 4,
 "nbformat_minor": 5
}
