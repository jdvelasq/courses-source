{
 "cells": [
  {
   "cell_type": "markdown",
   "metadata": {},
   "source": [
    "Apéndice --- Análisis del desempeño del modelo en R\n",
    "===\n",
    "\n",
    "* *30 min* | Ultima modificación: Junio 22, 2019"
   ]
  },
  {
   "cell_type": "markdown",
   "metadata": {},
   "source": [
    "---"
   ]
  },
  {
   "cell_type": "markdown",
   "metadata": {},
   "source": [
    "## Partición de los datos"
   ]
  },
  {
   "cell_type": "markdown",
   "metadata": {},
   "source": [
    "Los resultados de la evaluación de los modelos es dependiente de los datos usados. En la práctica, los datos se suelen partir en tres conjuntos, tal como muestra la gráfica de abajo:\n",
    "\n",
    "\n",
    "* Conjunto de calibración de parámetros del modelo.\n",
    "\n",
    "\n",
    "* Conjunto de prueba, usado comunmente para determinar la complejidad del modelo o el valor óptimo de alguno de sus parámetros.\n",
    "\n",
    "\n",
    "* Conjunto de pronóstico, en el que se intenta reproducir el comportamiento del modelo en productivo."
   ]
  },
  {
   "cell_type": "markdown",
   "metadata": {},
   "source": [
    "![assets/data-partition.jpg](assets/data-partition.jpg)"
   ]
  },
  {
   "cell_type": "markdown",
   "metadata": {},
   "source": [
    "En la figura anterior, los datos se dividen secuencialmente, pero podría construirse cada conjunto aletaoriamente. "
   ]
  },
  {
   "cell_type": "markdown",
   "metadata": {},
   "source": [
    "Si se tiene en cuenta que hay muchas particiones aleatorias posibles, una mejor estimación de la matriz de confusión (o cualquier otro estadístico que se calcule para un conjunto de datos) podría ser tomando los valores esperados de cada métrica. Es decir, si se repite el experimento $N$ veces, se tendrían $N$ valores posibles para cada uno de los elementos de la matriz de confusión y por lo tanto se podría tener su valor medio. Esta sería una métrica mucho más apropiada."
   ]
  },
  {
   "cell_type": "markdown",
   "metadata": {},
   "source": [
    "A continuación se describen varios mecanismos para gestionar la forma en que los datos son particionados."
   ]
  },
  {
   "cell_type": "code",
   "execution_count": 1,
   "metadata": {},
   "outputs": [
    {
     "name": "stderr",
     "output_type": "stream",
     "text": [
      "Loading required package: lattice\n",
      "Loading required package: ggplot2\n"
     ]
    }
   ],
   "source": [
    "## \n",
    "## El paquete caret contiene las funciones para \n",
    "## partir los datos y entrenar los modelos\n",
    "## \n",
    "library(caret)"
   ]
  },
  {
   "cell_type": "code",
   "execution_count": 2,
   "metadata": {},
   "outputs": [],
   "source": [
    "##\n",
    "## Se crea una muetra de números enteros\n",
    "##\n",
    "data <- 1:20"
   ]
  },
  {
   "cell_type": "code",
   "execution_count": 3,
   "metadata": {},
   "outputs": [
    {
     "name": "stdout",
     "output_type": "stream",
     "text": [
      "List of 7\n",
      " $ Resample1: int [1:8] 3 4 6 9 11 12 16 19\n",
      " $ Resample2: int [1:8] 3 5 7 10 12 14 16 18\n",
      " $ Resample3: int [1:8] 1 5 6 9 11 12 16 17\n",
      " $ Resample4: int [1:8] 1 5 9 10 11 12 18 20\n",
      " $ Resample5: int [1:8] 1 5 6 7 12 15 17 20\n",
      " $ Resample6: int [1:8] 4 5 8 9 14 15 17 20\n",
      " $ Resample7: int [1:8] 1 5 6 7 12 15 17 18\n"
     ]
    }
   ],
   "source": [
    "##\n",
    "## Crea muestras sin repetir elementos en cada grupo \n",
    "##\n",
    "folds = createDataPartition(y = data,    # datos \n",
    "                            times = 7,   # número de particiones \n",
    "                            p = 0.4)     # porcentaje de los datos a usar en el entrenamiento\n",
    "str(folds)"
   ]
  },
  {
   "cell_type": "markdown",
   "metadata": {},
   "source": [
    "## K-fold crossvalidation"
   ]
  },
  {
   "cell_type": "markdown",
   "metadata": {},
   "source": [
    "En este método, el conjunto de datos para entrenamiento (ajuste + prueba) es dividido en $K$ grupos. Este es un proceso iterativo que opera de la siguiente forma (véase la figura de abajo). \n",
    "\n",
    "\n",
    "* Se toma el grupo 1 como conjunto de datos de prueba (grupo rojo) y se entrena el modelo con los grupos restantes {2, ..., K} (grupo negro).\n",
    "\n",
    "\n",
    "* Se toma el grupo 2 como conjunto de datos de prueba (grupo rojo) y se entrena el modelo con los grupos restantes {1, 3, ..., K} (grupo negro).\n",
    "\n",
    "\n",
    "* Se continua de esta forma hasta que se usa el grupo K para prueba, mientras que se usan los grupos 1 hasta K-1 para entrenamiento.\n",
    "\n"
   ]
  },
  {
   "cell_type": "markdown",
   "metadata": {},
   "source": [
    "![assets/k-fold-crossval.jpg](assets/k-fold-crossval.jpg)"
   ]
  },
  {
   "cell_type": "markdown",
   "metadata": {},
   "source": [
    "De esta forma, se tienen K valores posibles para el estadístico de interés. Usualmente se reporta su valor promedio.\n",
    "\n",
    "Note que una mejor opción sería distribuir los datos en cada grupo de forma aleatoria."
   ]
  },
  {
   "cell_type": "code",
   "execution_count": 4,
   "metadata": {},
   "outputs": [
    {
     "name": "stdout",
     "output_type": "stream",
     "text": [
      "List of 7\n",
      " $ Fold1: int [1:3] 4 7 12\n",
      " $ Fold2: int [1:3] 9 14 18\n",
      " $ Fold3: int [1:2] 10 15\n",
      " $ Fold4: int [1:3] 2 11 17\n",
      " $ Fold5: int [1:3] 5 13 20\n",
      " $ Fold6: int [1:3] 3 6 8\n",
      " $ Fold7: int [1:3] 1 16 19\n"
     ]
    }
   ],
   "source": [
    "##\n",
    "## Crea k grupos sin repetir elementos\n",
    "##\n",
    "folds <- createFolds(data,   # datos \n",
    "                     k = 7)  # cantidad de grupos\n",
    "str(folds)"
   ]
  },
  {
   "cell_type": "markdown",
   "metadata": {},
   "source": [
    "## Bootstrap"
   ]
  },
  {
   "cell_type": "markdown",
   "metadata": {},
   "source": [
    "El bootstrap se basa en el remuestreo de los datos para poder obtener una muestra del estadístico que se está calculado (por ejemplo, la cantidad de falsos positivos FP). \n",
    "\n",
    "Supoga que tiene una muestra de ocho ejemplos:\n",
    "\n",
    "\n",
    "$$\\{x_1, x_2, x_3, x_4, x_5, x_6, x_7, x_8\\}$$\n",
    "\n",
    "Una muestra bootstap se obtiene de la muestra original, seleccionando ocho elementos de forma aleatoria. Por ejemplo, una muestra bootstrap podría ser:\n",
    "\n",
    "$$\\{x_1, x_2, x_2, x_2, x_4, x_1, x_7, x_7\\}$$\n",
    "\n",
    "Nóte que los elementos pueden repetirse. Sobre cada muestra bootstrap obtenida, se realiza el proceso de cómputo y se obtiene el estadístico de interés. Si este procedimiento se repite 500 veces para calcular la cantidad de FP, se tenddrían 500 valores posibles de FP. Una estimación mucho mejor del valor de FP, sería calcular su valor promedio a partir de la muestra de 500 valores. Más aún, podría calcularse el histograma o la distribución de probabilidades de FP, lo cual es mucho más informativo sobre el desempeño del modelo."
   ]
  },
  {
   "cell_type": "code",
   "execution_count": 5,
   "metadata": {},
   "outputs": [
    {
     "name": "stdout",
     "output_type": "stream",
     "text": [
      "List of 7\n",
      " $ Resample1: int [1:20] 2 2 3 5 5 6 6 6 6 7 ...\n",
      " $ Resample2: int [1:20] 1 1 3 3 4 5 7 11 11 11 ...\n",
      " $ Resample3: int [1:20] 1 2 2 4 4 6 6 8 8 9 ...\n",
      " $ Resample4: int [1:20] 1 1 3 3 4 5 5 7 8 9 ...\n",
      " $ Resample5: int [1:20] 1 1 1 3 3 4 5 7 9 9 ...\n",
      " $ Resample6: int [1:20] 1 2 3 3 4 4 5 5 6 6 ...\n",
      " $ Resample7: int [1:20] 1 3 5 6 7 9 9 10 10 11 ...\n"
     ]
    }
   ],
   "source": [
    "##\n",
    "## Bootstrap del mismo tamaño de \n",
    "## la muestra original\n",
    "##\n",
    "folds <- createResample(data,   # datos \n",
    "                        times = 7)  # cantidad de grupos\n",
    "str(folds)"
   ]
  },
  {
   "cell_type": "markdown",
   "metadata": {},
   "source": [
    "## Leave-one-out"
   ]
  },
  {
   "cell_type": "markdown",
   "metadata": {},
   "source": [
    "Este es el K-fold con K=1."
   ]
  },
  {
   "cell_type": "markdown",
   "metadata": {},
   "source": [
    "![assets/leave-one-out.jpg](assets/leave-one-out.jpg)"
   ]
  },
  {
   "cell_type": "markdown",
   "metadata": {},
   "source": [
    "## Uso en el entrenamiento de un modelo"
   ]
  },
  {
   "cell_type": "code",
   "execution_count": 6,
   "metadata": {},
   "outputs": [
    {
     "name": "stdout",
     "output_type": "stream",
     "text": [
      "List of 10\n",
      " $ Fold01: int [1:100] 5 11 21 25 27 29 38 45 67 118 ...\n",
      " $ Fold02: int [1:100] 2 4 12 39 55 59 61 77 104 107 ...\n",
      " $ Fold03: int [1:100] 8 15 35 43 56 70 76 79 84 94 ...\n",
      " $ Fold04: int [1:100] 1 20 24 31 34 36 42 64 68 83 ...\n",
      " $ Fold05: int [1:100] 10 14 16 22 26 40 63 69 78 82 ...\n",
      " $ Fold06: int [1:100] 9 13 37 49 51 52 62 65 71 72 ...\n",
      " $ Fold07: int [1:100] 17 19 44 93 95 97 99 102 117 134 ...\n",
      " $ Fold08: int [1:100] 7 18 28 41 50 60 75 80 81 86 ...\n",
      " $ Fold09: int [1:100] 3 23 32 47 48 53 57 66 74 101 ...\n",
      " $ Fold10: int [1:100] 6 30 33 46 54 58 87 89 90 106 ...\n"
     ]
    }
   ],
   "source": [
    "##\n",
    "## Se carga la librería\n",
    "##\n",
    "library(C50)\n",
    "\n",
    "##\n",
    "## Lectura de los datos\n",
    "##\n",
    "data <- read.csv(\"data/credit.csv\")\n",
    "data$default <- factor(data$default, labels=c(\"No\", \"Yes\"))\n",
    "\n",
    "##\n",
    "## se crean 10 grupos\n",
    "##\n",
    "folds <- createFolds(data$default, k = 10)\n",
    "str(folds)"
   ]
  },
  {
   "cell_type": "code",
   "execution_count": 7,
   "metadata": {},
   "outputs": [
    {
     "name": "stderr",
     "output_type": "stream",
     "text": [
      "Loading required package: lpSolve\n"
     ]
    },
    {
     "name": "stdout",
     "output_type": "stream",
     "text": [
      "List of 10\n",
      " $ Fold01: num 0.194\n",
      " $ Fold02: num 0.495\n",
      " $ Fold03: num 0.206\n",
      " $ Fold04: num 0.417\n",
      " $ Fold05: num 0.351\n",
      " $ Fold06: num 0.297\n",
      " $ Fold07: num 0.175\n",
      " $ Fold08: num 0.193\n",
      " $ Fold09: num 0.175\n",
      " $ Fold10: num 0.459\n"
     ]
    }
   ],
   "source": [
    "##\n",
    "## Se crea una función que aplica el método \n",
    "## a los datos\n",
    "##\n",
    "library(irr)\n",
    "\n",
    "f <- function(fold) {\n",
    "    \n",
    "    ## elimina el grupo del patron de entrenamiento\n",
    "    X_train <- data[-fold, ]\n",
    "    y_train <- data$default[-fold]\n",
    "    \n",
    "    ## usa el grupo como conjunto de prueba\n",
    "    X_test      <- data[fold, ]\n",
    "    y_test_true <- data$default[fold]\n",
    "    \n",
    "    ## entrena el modelo y pronostica\n",
    "    clf <- C5.0(default ~ ., data = X_train)\n",
    "    y_test_pred <- predict(clf, X_test)\n",
    "\n",
    "    \n",
    "    ## calcula una métrica de error\n",
    "    kappa <- kappa2(data.frame(y_test_true, y_test_pred))$value\n",
    "    \n",
    "    ## retorna el valor calculado\n",
    "    return(kappa)\n",
    "  }\n",
    "\n",
    "\n",
    "##\n",
    "## Esta variable guarda los resultados para cada uno \n",
    "## de los 10 grupos.\n",
    "##\n",
    "cv_results <- lapply(folds, f)\n",
    "\n",
    "# Se calcula kappa para cada uno de los grupos\n",
    "str(cv_results)"
   ]
  },
  {
   "cell_type": "code",
   "execution_count": 8,
   "metadata": {},
   "outputs": [
    {
     "data": {
      "text/html": [
       "0.296210088200898"
      ],
      "text/latex": [
       "0.296210088200898"
      ],
      "text/markdown": [
       "0.296210088200898"
      ],
      "text/plain": [
       "[1] 0.2962101"
      ]
     },
     "metadata": {},
     "output_type": "display_data"
    }
   ],
   "source": [
    "##\n",
    "## Se reporta el promedio de kappa \n",
    "##\n",
    "mean(unlist(cv_results))"
   ]
  },
  {
   "cell_type": "markdown",
   "metadata": {},
   "source": [
    "## Afinación de los parámetros de modelos"
   ]
  },
  {
   "cell_type": "markdown",
   "metadata": {},
   "source": [
    "Se procede a computar el modelo óptimo para el problema del riesgo de crédito."
   ]
  },
  {
   "cell_type": "code",
   "execution_count": 9,
   "metadata": {},
   "outputs": [
    {
     "data": {
      "text/html": [
       "<table>\n",
       "<thead><tr><th scope=col>model</th><th scope=col>parameter</th><th scope=col>label</th><th scope=col>forReg</th><th scope=col>forClass</th><th scope=col>probModel</th></tr></thead>\n",
       "<tbody>\n",
       "\t<tr><td>C5.0                 </td><td>trials               </td><td># Boosting Iterations</td><td>FALSE                </td><td>TRUE                 </td><td>TRUE                 </td></tr>\n",
       "\t<tr><td>C5.0                 </td><td>model                </td><td>Model Type           </td><td>FALSE                </td><td>TRUE                 </td><td>TRUE                 </td></tr>\n",
       "\t<tr><td>C5.0                 </td><td>winnow               </td><td>Winnow               </td><td>FALSE                </td><td>TRUE                 </td><td>TRUE                 </td></tr>\n",
       "</tbody>\n",
       "</table>\n"
      ],
      "text/latex": [
       "\\begin{tabular}{r|llllll}\n",
       " model & parameter & label & forReg & forClass & probModel\\\\\n",
       "\\hline\n",
       "\t C5.0                    & trials                  & \\# Boosting Iterations & FALSE                   & TRUE                    & TRUE                   \\\\\n",
       "\t C5.0                  & model                 & Model Type            & FALSE                 & TRUE                  & TRUE                 \\\\\n",
       "\t C5.0                  & winnow                & Winnow                & FALSE                 & TRUE                  & TRUE                 \\\\\n",
       "\\end{tabular}\n"
      ],
      "text/markdown": [
       "\n",
       "model | parameter | label | forReg | forClass | probModel | \n",
       "|---|---|---|\n",
       "| C5.0                  | trials                | # Boosting Iterations | FALSE                 | TRUE                  | TRUE                  | \n",
       "| C5.0                  | model                 | Model Type            | FALSE                 | TRUE                  | TRUE                  | \n",
       "| C5.0                  | winnow                | Winnow                | FALSE                 | TRUE                  | TRUE                  | \n",
       "\n",
       "\n"
      ],
      "text/plain": [
       "  model parameter label                 forReg forClass probModel\n",
       "1 C5.0  trials    # Boosting Iterations FALSE  TRUE     TRUE     \n",
       "2 C5.0  model     Model Type            FALSE  TRUE     TRUE     \n",
       "3 C5.0  winnow    Winnow                FALSE  TRUE     TRUE     "
      ]
     },
     "metadata": {},
     "output_type": "display_data"
    }
   ],
   "source": [
    "##\n",
    "## Se obtienen los parámetros ajustables del modelo\n",
    "## considerado\n",
    "##\n",
    "modelLookup(\"C5.0\")"
   ]
  },
  {
   "cell_type": "code",
   "execution_count": 10,
   "metadata": {},
   "outputs": [
    {
     "data": {
      "text/plain": [
       "C5.0 \n",
       "\n",
       "1000 samples\n",
       "  20 predictor\n",
       "   2 classes: 'No', 'Yes' \n",
       "\n",
       "No pre-processing\n",
       "Resampling: Bootstrapped (25 reps) \n",
       "Summary of sample sizes: 1000, 1000, 1000, 1000, 1000, 1000, ... \n",
       "Resampling results across tuning parameters:\n",
       "\n",
       "  model  winnow  trials  Accuracy   Kappa    \n",
       "  rules  FALSE    1      0.6923931  0.2736692\n",
       "  rules  FALSE   10      0.7221394  0.3408652\n",
       "  rules  FALSE   20      0.7347490  0.3622943\n",
       "  rules   TRUE    1      0.6913853  0.2693031\n",
       "  rules   TRUE   10      0.7156087  0.3252182\n",
       "  rules   TRUE   20      0.7264898  0.3438105\n",
       "  tree   FALSE    1      0.6922255  0.2564458\n",
       "  tree   FALSE   10      0.7308796  0.3120268\n",
       "  tree   FALSE   20      0.7327493  0.3166876\n",
       "  tree    TRUE    1      0.6871812  0.2478289\n",
       "  tree    TRUE   10      0.7338952  0.3250631\n",
       "  tree    TRUE   20      0.7353105  0.3266443\n",
       "\n",
       "Accuracy was used to select the optimal model using the largest value.\n",
       "The final values used for the model were trials = 20, model = tree and winnow\n",
       " = TRUE."
      ]
     },
     "metadata": {},
     "output_type": "display_data"
    }
   ],
   "source": [
    "##\n",
    "## La función `train` permite construir muchos modelos\n",
    "## que difieren en el conjunto de parámetros ajustables\n",
    "## requeridos para su estimación. Se usan los valores\n",
    "## por defecto que tiene `train`.\n",
    "## Note que este paso requiere mucho tiempo de cómputo.\n",
    "##\n",
    "set.seed(300)\n",
    "m <- train(default ~ ., data = data, method = \"C5.0\")\n",
    "m"
   ]
  },
  {
   "cell_type": "markdown",
   "metadata": {},
   "source": [
    "Note que en la tabla anterior, el valor del estadístico de ajuste para cada corrida es obtenido sobre 25 réplicas bootstrap para cada conjunto posible de parámetros. Los valores posibles que puede tomar cada parámetro son:\n",
    "\n",
    "\n",
    "* `model` = {rules, tree}\n",
    "\n",
    "\n",
    "* `winnow` = {TRUE, FALSE}\n",
    "\n",
    "\n",
    "* `trials` = {1, 10, 20}\n",
    "\n",
    "Entonces, 2 x 2 x 3 = 12.\n",
    "\n",
    "Este proceso es equivalente a realizar un diseño de experimentos para obtener la mejor combinación de parámetros."
   ]
  },
  {
   "cell_type": "code",
   "execution_count": 11,
   "metadata": {},
   "outputs": [
    {
     "data": {
      "text/plain": [
       "\n",
       "Call:\n",
       "(function (x, y, trials = 1, rules = FALSE, weights = NULL, control\n",
       " \"winnow\", \"noGlobalPruning\", \"CF\", \"minCases\", \"fuzzyThreshold\",\n",
       " \"sample\", \"earlyStopping\", \"label\", \"seed\")))\n",
       "\n",
       "Classification Tree\n",
       "Number of samples: 1000 \n",
       "Number of predictors: 48 \n",
       "\n",
       "Number of boosting iterations: 20 \n",
       "Average tree size: 45.1 \n",
       "\n",
       "Non-standard options: attempt to group attributes, winnowing\n"
      ]
     },
     "metadata": {},
     "output_type": "display_data"
    }
   ],
   "source": [
    "##\n",
    "## Después de identificar el mejor modelo, `train()` \n",
    "## usa el mejor conjunto de parámetros para construir \n",
    "## un modelo estimado sobre todo el conjunto de datos.\n",
    "##\n",
    "## Mejor modelo:\n",
    "##\n",
    "m$finalModel"
   ]
  },
  {
   "cell_type": "code",
   "execution_count": 13,
   "metadata": {},
   "outputs": [
    {
     "data": {
      "text/plain": [
       "     \n",
       "p      No Yes\n",
       "  No  676  79\n",
       "  Yes  24 221"
      ]
     },
     "metadata": {},
     "output_type": "display_data"
    }
   ],
   "source": [
    "##\n",
    "## Pronóstico\n",
    "##\n",
    "p <- predict(m, data)\n",
    "table(p, data$default)"
   ]
  },
  {
   "cell_type": "code",
   "execution_count": 14,
   "metadata": {},
   "outputs": [
    {
     "data": {
      "text/html": [
       "<table>\n",
       "<thead><tr><th scope=col>No</th><th scope=col>Yes</th></tr></thead>\n",
       "<tbody>\n",
       "\t<tr><td>0.8720819 </td><td>0.12791809</td></tr>\n",
       "\t<tr><td>0.3284062 </td><td>0.67159380</td></tr>\n",
       "\t<tr><td>1.0000000 </td><td>0.00000000</td></tr>\n",
       "\t<tr><td>0.7563177 </td><td>0.24368229</td></tr>\n",
       "\t<tr><td>0.4531721 </td><td>0.54682785</td></tr>\n",
       "\t<tr><td>0.9085110 </td><td>0.09148904</td></tr>\n",
       "</tbody>\n",
       "</table>\n"
      ],
      "text/latex": [
       "\\begin{tabular}{r|ll}\n",
       " No & Yes\\\\\n",
       "\\hline\n",
       "\t 0.8720819  & 0.12791809\\\\\n",
       "\t 0.3284062  & 0.67159380\\\\\n",
       "\t 1.0000000  & 0.00000000\\\\\n",
       "\t 0.7563177  & 0.24368229\\\\\n",
       "\t 0.4531721  & 0.54682785\\\\\n",
       "\t 0.9085110  & 0.09148904\\\\\n",
       "\\end{tabular}\n"
      ],
      "text/markdown": [
       "\n",
       "No | Yes | \n",
       "|---|---|---|---|---|---|\n",
       "| 0.8720819  | 0.12791809 | \n",
       "| 0.3284062  | 0.67159380 | \n",
       "| 1.0000000  | 0.00000000 | \n",
       "| 0.7563177  | 0.24368229 | \n",
       "| 0.4531721  | 0.54682785 | \n",
       "| 0.9085110  | 0.09148904 | \n",
       "\n",
       "\n"
      ],
      "text/plain": [
       "  No        Yes       \n",
       "1 0.8720819 0.12791809\n",
       "2 0.3284062 0.67159380\n",
       "3 1.0000000 0.00000000\n",
       "4 0.7563177 0.24368229\n",
       "5 0.4531721 0.54682785\n",
       "6 0.9085110 0.09148904"
      ]
     },
     "metadata": {},
     "output_type": "display_data"
    }
   ],
   "source": [
    "##\n",
    "## Probabilidades del pronóstico para la muestra de entrenamiento\n",
    "##\n",
    "head(predict(m, data, type = \"prob\"))"
   ]
  },
  {
   "cell_type": "code",
   "execution_count": 15,
   "metadata": {
    "collapsed": true
   },
   "outputs": [],
   "source": [
    "##\n",
    "## A continuación se ejemplifica como parametrizar\n",
    "## la búsqueda realizada por train.\n",
    "##\n",
    "ctrl <- trainControl(method = \"cv\",               # cross validation\n",
    "                     number = 10,                 # número de grupos\n",
    "                     selectionFunction = \"oneSE\") # "
   ]
  },
  {
   "cell_type": "code",
   "execution_count": 16,
   "metadata": {},
   "outputs": [
    {
     "data": {
      "text/html": [
       "<table>\n",
       "<thead><tr><th scope=col>.model</th><th scope=col>.trials</th><th scope=col>.winnow</th></tr></thead>\n",
       "<tbody>\n",
       "\t<tr><td>tree </td><td> 1   </td><td>FALSE</td></tr>\n",
       "\t<tr><td>tree </td><td> 5   </td><td>FALSE</td></tr>\n",
       "\t<tr><td>tree </td><td>10   </td><td>FALSE</td></tr>\n",
       "\t<tr><td>tree </td><td>15   </td><td>FALSE</td></tr>\n",
       "\t<tr><td>tree </td><td>20   </td><td>FALSE</td></tr>\n",
       "\t<tr><td>tree </td><td>25   </td><td>FALSE</td></tr>\n",
       "\t<tr><td>tree </td><td>30   </td><td>FALSE</td></tr>\n",
       "\t<tr><td>tree </td><td>35   </td><td>FALSE</td></tr>\n",
       "</tbody>\n",
       "</table>\n"
      ],
      "text/latex": [
       "\\begin{tabular}{r|lll}\n",
       " .model & .trials & .winnow\\\\\n",
       "\\hline\n",
       "\t tree  &  1    & FALSE\\\\\n",
       "\t tree  &  5    & FALSE\\\\\n",
       "\t tree  & 10    & FALSE\\\\\n",
       "\t tree  & 15    & FALSE\\\\\n",
       "\t tree  & 20    & FALSE\\\\\n",
       "\t tree  & 25    & FALSE\\\\\n",
       "\t tree  & 30    & FALSE\\\\\n",
       "\t tree  & 35    & FALSE\\\\\n",
       "\\end{tabular}\n"
      ],
      "text/markdown": [
       "\n",
       ".model | .trials | .winnow | \n",
       "|---|---|---|---|---|---|---|---|\n",
       "| tree  |  1    | FALSE | \n",
       "| tree  |  5    | FALSE | \n",
       "| tree  | 10    | FALSE | \n",
       "| tree  | 15    | FALSE | \n",
       "| tree  | 20    | FALSE | \n",
       "| tree  | 25    | FALSE | \n",
       "| tree  | 30    | FALSE | \n",
       "| tree  | 35    | FALSE | \n",
       "\n",
       "\n"
      ],
      "text/plain": [
       "  .model .trials .winnow\n",
       "1 tree    1      FALSE  \n",
       "2 tree    5      FALSE  \n",
       "3 tree   10      FALSE  \n",
       "4 tree   15      FALSE  \n",
       "5 tree   20      FALSE  \n",
       "6 tree   25      FALSE  \n",
       "7 tree   30      FALSE  \n",
       "8 tree   35      FALSE  "
      ]
     },
     "metadata": {},
     "output_type": "display_data"
    }
   ],
   "source": [
    "##\n",
    "## Se crea una malla de valores posibles\n",
    "## para los parámetros a optimizar\n",
    "##\n",
    "grid <- expand.grid(.model = \"tree\",\n",
    "                    .trials = c(1, 5, 10, 15, 20, 25, 30, 35),\n",
    "                    .winnow = \"FALSE\")\n",
    "grid"
   ]
  },
  {
   "cell_type": "code",
   "execution_count": 18,
   "metadata": {},
   "outputs": [
    {
     "name": "stderr",
     "output_type": "stream",
     "text": [
      "Warning message in Ops.factor(x$winnow):\n",
      "“‘!’ not meaningful for factors”"
     ]
    },
    {
     "data": {
      "text/plain": [
       "C5.0 \n",
       "\n",
       "1000 samples\n",
       "  20 predictor\n",
       "   2 classes: 'No', 'Yes' \n",
       "\n",
       "No pre-processing\n",
       "Resampling: Cross-Validated (10 fold) \n",
       "Summary of sample sizes: 900, 900, 900, 900, 900, 900, ... \n",
       "Resampling results across tuning parameters:\n",
       "\n",
       "  trials  Accuracy  Kappa    \n",
       "   1      0.714     0.2918834\n",
       "   5      0.735     0.3401066\n",
       "  10      0.747     0.3504832\n",
       "  15      0.749     0.3642719\n",
       "  20      0.755     0.3641425\n",
       "  25      0.749     0.3521465\n",
       "  30      0.744     0.3445306\n",
       "  35      0.745     0.3517542\n",
       "\n",
       "Tuning parameter 'model' was held constant at a value of tree\n",
       "Tuning\n",
       " parameter 'winnow' was held constant at a value of FALSE\n",
       "Kappa was used to select the optimal model using  the one SE rule.\n",
       "The final values used for the model were trials = 5, model = tree and winnow\n",
       " = FALSE."
      ]
     },
     "metadata": {},
     "output_type": "display_data"
    }
   ],
   "source": [
    "##\n",
    "## Se llama a train() con los valores \n",
    "## suministrados para la búsqueda.\n",
    "##\n",
    "set.seed(300)\n",
    "m <- train(default ~ .,         # todas las variables\n",
    "           data      = data,    # dataset\n",
    "           method    = \"C5.0\",  #\n",
    "           metric    = \"Kappa\", #\n",
    "           trControl = ctrl,    #\n",
    "           tuneGrid  = grid)    #\n",
    "m"
   ]
  },
  {
   "cell_type": "markdown",
   "metadata": {},
   "source": [
    "**Ejercicio.--** Para el clasificador kNN usando en la predicción del tumor de cancer de mama, compute y grafique el error de validación cruzada para distintos valores de K. Según los resultados obtenidos, cuál es el valor recomendado de K?"
   ]
  }
 ],
 "metadata": {
  "kernel_info": {
   "name": "python3"
  },
  "kernelspec": {
   "display_name": "R",
   "language": "R",
   "name": "ir"
  },
  "language_info": {
   "codemirror_mode": "r",
   "file_extension": ".r",
   "mimetype": "text/x-r-source",
   "name": "R",
   "pygments_lexer": "r",
   "version": "3.4.4"
  },
  "nteract": {
   "version": "0.7.1"
  },
  "varInspector": {
   "cols": {
    "lenName": 16,
    "lenType": 16,
    "lenVar": 40
   },
   "kernels_config": {
    "python": {
     "delete_cmd_postfix": "",
     "delete_cmd_prefix": "del ",
     "library": "var_list.py",
     "varRefreshCmd": "print(var_dic_list())"
    },
    "r": {
     "delete_cmd_postfix": ") ",
     "delete_cmd_prefix": "rm(",
     "library": "var_list.r",
     "varRefreshCmd": "cat(var_dic_list()) "
    }
   },
   "types_to_exclude": [
    "module",
    "function",
    "builtin_function_or_method",
    "instance",
    "_Feature"
   ],
   "window_display": false
  }
 },
 "nbformat": 4,
 "nbformat_minor": 2
}
