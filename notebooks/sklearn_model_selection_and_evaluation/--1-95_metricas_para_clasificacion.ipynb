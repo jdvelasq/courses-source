{
 "cells": [
  {
   "cell_type": "markdown",
   "id": "a6db5efb-ba1f-4023-95b5-175ad5fe5233",
   "metadata": {
    "tags": []
   },
   "source": [
    "Métricas de evaluación para modelos de clasificación\n",
    "===\n",
    "\n",
    "* 5:00 min | Ultima modificación: Junio 22, 2019 | [YouTube]"
   ]
  },
  {
   "cell_type": "markdown",
   "id": "8180cc23-1a38-4b39-a1ba-c530e45ce4d9",
   "metadata": {},
   "source": [
    "Accuracy Classification Score\n",
    "---"
   ]
  },
  {
   "cell_type": "markdown",
   "id": "83f04c9f-4015-48ec-adff-ebbb176c79d4",
   "metadata": {},
   "source": [
    "Cómputa la cantidad o porcentaje de predicciones correctas."
   ]
  },
  {
   "cell_type": "markdown",
   "id": "66e786d9-f244-43e8-a4a3-87f643ee373e",
   "metadata": {},
   "source": [
    "$$\n",
    "\\text{accuracy}(y, \\hat{y}) = \\frac{1}{n} \\sum_{i=0}^{n-1} 1(\\hat{y}_i=y_i)\n",
    "$$"
   ]
  },
  {
   "cell_type": "markdown",
   "id": "c3c90f86-9f15-47c5-80ad-fd9bf339465b",
   "metadata": {},
   "source": [
    "con"
   ]
  },
  {
   "cell_type": "markdown",
   "id": "b89160ed-fad1-4638-80b4-c26e05f2e63c",
   "metadata": {},
   "source": [
    "$$\n",
    "1_A(x)=\n",
    "\\begin{cases}\n",
    "    1 & \\text{si } x \\in A \\\\\n",
    "    0 & \\text{si } x \\notin A \n",
    "\\end{cases}\n",
    "$$"
   ]
  },
  {
   "cell_type": "code",
   "execution_count": 1,
   "id": "2891995f-2f1c-4157-8278-96dba099a449",
   "metadata": {},
   "outputs": [
    {
     "data": {
      "text/plain": [
       "0.6"
      ]
     },
     "execution_count": 1,
     "metadata": {},
     "output_type": "execute_result"
    }
   ],
   "source": [
    "import numpy as np\n",
    "from sklearn.metrics import accuracy_score\n",
    "\n",
    "y_true = [0, 0, 1, 1, 2]\n",
    "y_pred = [0, 1, 0, 1, 2]\n",
    "\n",
    "accuracy_score(\n",
    "    y_true=y_true, \n",
    "    y_pred=y_pred,\n",
    "    normalize=True,\n",
    ")"
   ]
  },
  {
   "cell_type": "code",
   "execution_count": 2,
   "id": "9155e4ee-7056-40c1-8e12-e129b75f64c1",
   "metadata": {},
   "outputs": [
    {
     "data": {
      "text/plain": [
       "3"
      ]
     },
     "execution_count": 2,
     "metadata": {},
     "output_type": "execute_result"
    }
   ],
   "source": [
    "accuracy_score(\n",
    "    y_true=y_true, \n",
    "    y_pred=y_pred,\n",
    "    normalize=False,\n",
    ")"
   ]
  },
  {
   "cell_type": "markdown",
   "id": "5d1f5c16-3e10-43a7-bff3-2848ed8cbc1b",
   "metadata": {},
   "source": [
    "## Clasificación binario"
   ]
  },
  {
   "cell_type": "markdown",
   "id": "7b626751-4402-4fe4-8e22-a065e17a58d0",
   "metadata": {},
   "source": [
    "Para evaluar el desempeño en problemas de clasificación dicotómicos (dos clases mutuamente excluyentes) se usa la matriz de confusión:\n",
    "\n",
    "\n",
    "             | Pronostico\n",
    "             |  P     N\n",
    "    ---------|------------  \n",
    "          P  |  TP    FN          \n",
    "    Real     |\n",
    "          N  |  FP    TN\n",
    "    \n",
    "    TP - Verdadero positivo (correcto)\n",
    "    TN - Verdadero negativo (correcto)\n",
    "    FN - Falso negativo (mal clasificado)\n",
    "    FP - Falso positivo (mal clasificado)\n",
    "    \n",
    "Esta tabla permite analizar el comportamiento del modelo.\n",
    "\n",
    "La medición de la precisión del modelo permite estimar el desempeño del modelo ante nuevos datos."
   ]
  },
  {
   "cell_type": "code",
   "execution_count": null,
   "id": "c72d8841-5bf2-4914-ad97-bec6f71bc905",
   "metadata": {},
   "outputs": [],
   "source": []
  },
  {
   "cell_type": "code",
   "execution_count": null,
   "id": "eb940703-49f3-403e-b3e3-d82283e6669a",
   "metadata": {},
   "outputs": [],
   "source": []
  },
  {
   "cell_type": "code",
   "execution_count": null,
   "id": "06db21ac-91ad-4eca-9ff2-6526476cea6c",
   "metadata": {},
   "outputs": [],
   "source": []
  },
  {
   "cell_type": "markdown",
   "id": "25c48990-9802-409b-bf6a-73ae7e725ba4",
   "metadata": {
    "tags": []
   },
   "source": [
    "Matriz de confusión\n",
    "---"
   ]
  },
  {
   "cell_type": "markdown",
   "id": "cd7d988d-2f3b-4d17-bd32-d053f9221632",
   "metadata": {},
   "source": [
    "Es una matriz donde las filas corresponden a la clase verdader y las columnas a la clase pronósticada, de tal forma, que permite evaluar la precisión para cada clase."
   ]
  },
  {
   "cell_type": "markdown",
   "id": "28da16a7-3a85-49b3-b90a-3ca1cfca2ea5",
   "metadata": {},
   "source": [
    "https://scikit-learn.org/stable/auto_examples/model_selection/plot_confusion_matrix.html#sphx-glr-auto-examples-model-selection-plot-confusion-matrix-py"
   ]
  },
  {
   "cell_type": "code",
   "execution_count": 5,
   "id": "6dfd0434-ce1e-4adb-9ff0-ce87961555b5",
   "metadata": {},
   "outputs": [
    {
     "data": {
      "text/plain": [
       "array([[37,  0,  0],\n",
       "       [ 0, 24, 10],\n",
       "       [ 0,  1, 40]])"
      ]
     },
     "execution_count": 5,
     "metadata": {},
     "output_type": "execute_result"
    }
   ],
   "source": [
    "import matplotlib.pyplot as plt\n",
    "import numpy as np\n",
    "from sklearn.datasets import load_iris\n",
    "from sklearn.metrics import confusion_matrix, plot_confusion_matrix\n",
    "from sklearn.model_selection import train_test_split\n",
    "from sklearn.svm import SVC\n",
    "\n",
    "iris = load_iris()\n",
    "X = iris.data\n",
    "y = iris.target\n",
    "class_names = iris.target_names\n",
    "\n",
    "X_train, X_test, y_train, y_test = train_test_split(\n",
    "    X,\n",
    "    y,\n",
    "    random_state=0,\n",
    ")\n",
    "\n",
    "clf = SVC(kernel=\"linear\", C=0.01).fit(X_train, y_train)\n",
    "\n",
    "cm = confusion_matrix(\n",
    "    y_true=y_train,\n",
    "    y_pred=clf.predict(X_train),\n",
    "    #\n",
    "    # Lista de labels para las filas de la matriz\n",
    "    labels=None,\n",
    "    #\n",
    "    # Normaliza la matriz de confusión sobre las filas ('true'), \n",
    "    # las columnas ('pred') o toda la matriz ('all')\n",
    "    normalize=None,\n",
    ")\n",
    "\n",
    "cm"
   ]
  },
  {
   "cell_type": "code",
   "execution_count": 6,
   "id": "0f39ace2-78b8-4f7f-b95c-498f8287c655",
   "metadata": {},
   "outputs": [
    {
     "data": {
      "image/png": "[encoded data removed]",
      "text/plain": [
       "<Figure size 432x288 with 2 Axes>"
      ]
     },
     "metadata": {
      "needs_background": "light"
     },
     "output_type": "display_data"
    }
   ],
   "source": [
    "#\n",
    "# Visualización directa de la matriz de confusión\n",
    "#\n",
    "plot_confusion_matrix(\n",
    "    clf,\n",
    "    X_test,\n",
    "    y_test,\n",
    "    cmap=plt.cm.Blues,\n",
    "    normalize='true',\n",
    ")\n",
    "plt.show()"
   ]
  },
  {
   "cell_type": "code",
   "execution_count": 7,
   "id": "09096ef9-3090-447d-97da-b70e45a58dbe",
   "metadata": {},
   "outputs": [
    {
     "data": {
      "image/png": "[encoded data removed]",
      "text/plain": [
       "<Figure size 1080x864 with 8 Axes>"
      ]
     },
     "metadata": {
      "needs_background": "light"
     },
     "output_type": "display_data"
    }
   ],
   "source": [
    "#\n",
    "# Efectos de la normalización\n",
    "#\n",
    "from sklearn.metrics import ConfusionMatrixDisplay\n",
    "\n",
    "plt.figure(figsize=(15, 12))\n",
    "\n",
    "for i_normalize, normalize in enumerate([None, \"true\", \"pred\", \"all\"]):\n",
    "\n",
    "    cm = confusion_matrix(\n",
    "        y_true=y_train,\n",
    "        y_pred=clf.predict(X_train),\n",
    "        labels=None,\n",
    "        normalize=normalize,\n",
    "    )\n",
    "    \n",
    "    ax = plt.subplot(2, 2, i_normalize + 1)\n",
    "    \n",
    "    disp = ConfusionMatrixDisplay(\n",
    "        confusion_matrix=cm,\n",
    "        display_labels=clf.classes_,\n",
    "    )\n",
    "    disp.plot(ax=ax, cmap=plt.cm.Blues)\n",
    "    plt.gca().set_title('nomalize = ' + repr(normalize))\n",
    "\n"
   ]
  },
  {
   "cell_type": "code",
   "execution_count": null,
   "id": "2c3c0a5d-bd29-40d6-a6f6-3e119a46d2d6",
   "metadata": {},
   "outputs": [],
   "source": []
  }
 ],
 "metadata": {
  "kernelspec": {
   "display_name": "Python 3",
   "language": "python",
   "name": "python3"
  },
  "language_info": {
   "codemirror_mode": {
    "name": "ipython",
    "version": 3
   },
   "file_extension": ".py",
   "mimetype": "text/x-python",
   "name": "python",
   "nbconvert_exporter": "python",
   "pygments_lexer": "ipython3",
   "version": "3.6.9"
  }
 },
 "nbformat": 4,
 "nbformat_minor": 5
}
