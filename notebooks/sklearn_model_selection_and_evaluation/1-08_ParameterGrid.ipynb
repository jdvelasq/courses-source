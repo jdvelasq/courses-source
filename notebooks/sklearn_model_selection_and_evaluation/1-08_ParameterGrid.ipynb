{
 "cells": [
  {
   "cell_type": "markdown",
   "metadata": {},
   "source": [
    "# Generación de combinaciones de hiperparámetros con ParameterGrid --- 2:41 min\n",
    "\n",
    "* 2:41 min | Ultima modificación: Octubre 1, 2021 | [YouTube](https://youtu.be/kMwsrqMClVk)"
   ]
  },
  {
   "cell_type": "markdown",
   "metadata": {},
   "source": [
    "Parametrización de la búsqueda\n",
    "---"
   ]
  },
  {
   "cell_type": "code",
   "execution_count": 1,
   "metadata": {},
   "outputs": [
    {
     "data": {
      "text/plain": [
       "[{'C': 1, 'gamma': 0.001, 'kernel': 'rbf'},\n",
       " {'C': 1, 'gamma': 0.0001, 'kernel': 'rbf'},\n",
       " {'C': 10, 'gamma': 0.001, 'kernel': 'rbf'},\n",
       " {'C': 10, 'gamma': 0.0001, 'kernel': 'rbf'},\n",
       " {'C': 100, 'gamma': 0.001, 'kernel': 'rbf'},\n",
       " {'C': 100, 'gamma': 0.0001, 'kernel': 'rbf'},\n",
       " {'C': 1000, 'gamma': 0.001, 'kernel': 'rbf'},\n",
       " {'C': 1000, 'gamma': 0.0001, 'kernel': 'rbf'},\n",
       " {'C': 1, 'kernel': 'linear'},\n",
       " {'C': 10, 'kernel': 'linear'},\n",
       " {'C': 100, 'kernel': 'linear'},\n",
       " {'C': 1000, 'kernel': 'linear'}]"
      ]
     },
     "execution_count": 1,
     "metadata": {},
     "output_type": "execute_result"
    }
   ],
   "source": [
    "from sklearn.model_selection import ParameterGrid\n",
    "from sklearn.svm import SVC\n",
    "\n",
    "param_grid = [\n",
    "    # -------------------------------------------------------------------------\n",
    "    # Primera malla de parámetros\n",
    "    {\n",
    "        \"kernel\": [\"rbf\"],\n",
    "        \"gamma\": [1e-3, 1e-4],\n",
    "        \"C\": [1, 10, 100, 1000],\n",
    "    },\n",
    "    # -------------------------------------------------------------------------\n",
    "    # Segunda malla de parámetros\n",
    "    {\n",
    "        \"kernel\": [\"linear\"],\n",
    "        \"C\": [1, 10, 100, 1000],\n",
    "    },\n",
    "]\n",
    "\n",
    "parameterGrid = ParameterGrid(param_grid)\n",
    "\n",
    "list(parameterGrid)"
   ]
  }
 ],
 "metadata": {
  "kernel_info": {
   "name": "python3"
  },
  "kernelspec": {
   "display_name": "Python 3",
   "language": "python",
   "name": "python3"
  },
  "language_info": {
   "codemirror_mode": {
    "name": "ipython",
    "version": 3
   },
   "file_extension": ".py",
   "mimetype": "text/x-python",
   "name": "python",
   "nbconvert_exporter": "python",
   "pygments_lexer": "ipython3",
   "version": "3.6.9"
  },
  "nteract": {
   "version": "0.7.1"
  }
 },
 "nbformat": 4,
 "nbformat_minor": 4
}
