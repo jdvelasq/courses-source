{
 "cells": [
  {
   "cell_type": "markdown",
   "metadata": {},
   "source": [
    "# Búsqueda aleatoria de hiperparámetros usando RandomizedSearchCV --- 5:20\n",
    "\n",
    "* 5:20 min | Ultima modificación: Octubre 1, 2021 | [YouTube](https://youtu.be/-jQRG96OVZw)"
   ]
  },
  {
   "cell_type": "markdown",
   "metadata": {},
   "source": [
    "Parametrización de la búsqueda\n",
    "---"
   ]
  },
  {
   "cell_type": "code",
   "execution_count": 1,
   "metadata": {},
   "outputs": [],
   "source": [
    "#\n",
    "# Aca se usara una SVM. Dependiendo del tipo de kernel cambian los parámetros\n",
    "# que pueden ajustarse.\n",
    "#\n",
    "# La variable tuned_parameters es una lista de diccionarios que contiene los\n",
    "# valores que pueden ajustarse.\n",
    "#\n",
    "import scipy\n",
    "from sklearn.model_selection import RandomizedSearchCV\n",
    "from sklearn.svm import SVC\n",
    "\n",
    "param_distributions = [\n",
    "    # -------------------------------------------------------------------------\n",
    "    # Selección aleatoria de valores para el primer modelo\n",
    "    {\n",
    "        \"kernel\": [\"rbf\"],\n",
    "        \"gamma\": scipy.stats.expon(scale=0.1),\n",
    "        \"C\": scipy.stats.expon(scale=100),\n",
    "    },\n",
    "    # -------------------------------------------------------------------------\n",
    "    # Selección aleatoria de valores para el segundo modelo\n",
    "    {\n",
    "        \"kernel\": [\"linear\"],\n",
    "        \"C\": [1, 10, 100],\n",
    "    },\n",
    "]\n",
    "\n",
    "randomizedSearchCV = RandomizedSearchCV(\n",
    "    # --------------------------------------------------------------------------\n",
    "    # This is assumed to implement the scikit-learn estimator interface.\n",
    "    estimator=SVC(),\n",
    "    # --------------------------------------------------------------------------\n",
    "    # Dictionary with parameters names (str) as keys and distributions or lists\n",
    "    # of parameters to try.\n",
    "    param_distributions=param_distributions,\n",
    "    # --------------------------------------------------------------------------\n",
    "    # Number of parameter settings that are sampled.\n",
    "    n_iter=10,\n",
    "    # --------------------------------------------------------------------------\n",
    "    # Determines the cross-validation splitting strategy.\n",
    "    cv=5,\n",
    "    # --------------------------------------------------------------------------\n",
    "    # Strategy to evaluate the performance of the cross-validated model on the\n",
    "    # test set.\n",
    "    scoring=\"accuracy\",\n",
    "    # --------------------------------------------------------------------------\n",
    "    # Refit an estimator using the best found parameters on the whole dataset.\n",
    "    refit=True,\n",
    "    # --------------------------------------------------------------------------\n",
    "    random_state=12345,\n",
    ")"
   ]
  },
  {
   "cell_type": "markdown",
   "metadata": {},
   "source": [
    "Preparación de los datos\n",
    "---"
   ]
  },
  {
   "cell_type": "code",
   "execution_count": 2,
   "metadata": {},
   "outputs": [],
   "source": [
    "from sklearn.datasets import load_digits\n",
    "from sklearn.model_selection import train_test_split\n",
    "\n",
    "digits = load_digits()\n",
    "\n",
    "n_samples = len(digits.images)\n",
    "X = digits.images.reshape((n_samples, -1))\n",
    "y = digits.target\n",
    "\n",
    "X_train, X_test, y_train, y_test = train_test_split(\n",
    "    X,\n",
    "    y,\n",
    "    test_size=0.5,\n",
    "    random_state=0,\n",
    ")"
   ]
  },
  {
   "cell_type": "markdown",
   "metadata": {},
   "source": [
    "Realización de la búsqueda\n",
    "---"
   ]
  },
  {
   "cell_type": "code",
   "execution_count": 3,
   "metadata": {},
   "outputs": [
    {
     "data": {
      "text/plain": [
       "RandomizedSearchCV(cv=5, error_score=nan,\n",
       "                   estimator=SVC(C=1.0, break_ties=False, cache_size=200,\n",
       "                                 class_weight=None, coef0=0.0,\n",
       "                                 decision_function_shape='ovr', degree=3,\n",
       "                                 gamma='scale', kernel='rbf', max_iter=-1,\n",
       "                                 probability=False, random_state=None,\n",
       "                                 shrinking=True, tol=0.001, verbose=False),\n",
       "                   iid='deprecated', n_iter=10, n_jobs=None,\n",
       "                   param_distributions=[{'C': <scipy.stats._distn_infrastructure.rv_frozen object at 0x7f4e591aa278>,\n",
       "                                         'gamma': <scipy.stats._distn_infrastructure.rv_frozen object at 0x7f4f101f35f8>,\n",
       "                                         'kernel': ['rbf']},\n",
       "                                        {'C': [1, 10, 100],\n",
       "                                         'kernel': ['linear']}],\n",
       "                   pre_dispatch='2*n_jobs', random_state=12345, refit=True,\n",
       "                   return_train_score=False, scoring='accuracy', verbose=0)"
      ]
     },
     "execution_count": 3,
     "metadata": {},
     "output_type": "execute_result"
    }
   ],
   "source": [
    "randomizedSearchCV.fit(X_train, y_train)"
   ]
  },
  {
   "cell_type": "markdown",
   "metadata": {
    "tags": []
   },
   "source": [
    "Resultados obtenidos\n",
    "---"
   ]
  },
  {
   "cell_type": "code",
   "execution_count": 4,
   "metadata": {
    "tags": []
   },
   "outputs": [
    {
     "data": {
      "text/plain": [
       "{'mean_fit_time': array([0.09400272, 0.01161842, 0.09656277, 0.09981108, 0.01153669,\n",
       "        0.08415127, 0.09433875, 0.01126084, 0.09612718, 0.01124258]),\n",
       " 'std_fit_time': array([0.00318345, 0.00032452, 0.00247854, 0.00039773, 0.00025525,\n",
       "        0.0026375 , 0.00243283, 0.00025605, 0.00201804, 0.00020961]),\n",
       " 'mean_score_time': array([0.01103702, 0.00323648, 0.01092877, 0.01511359, 0.00299354,\n",
       "        0.00935946, 0.0109076 , 0.00302997, 0.01164641, 0.00296645]),\n",
       " 'std_score_time': array([2.90191459e-04, 1.44374795e-04, 2.06796453e-04, 5.36444219e-04,\n",
       "        5.66797538e-05, 4.84272132e-04, 2.01792246e-04, 1.47225864e-04,\n",
       "        2.61531710e-04, 1.14831496e-04]),\n",
       " 'param_C': masked_array(data=[220.8682396496381, 100, 83.86933864671792,\n",
       "                    61.97597554687909, 100, 222.88118074128667,\n",
       "                    11.254669304411362, 10, 81.28259452454746, 1],\n",
       "              mask=[False, False, False, False, False, False, False, False,\n",
       "                    False, False],\n",
       "        fill_value='?',\n",
       "             dtype=object),\n",
       " 'param_gamma': masked_array(data=[0.014007538087890578, --, 0.09052140627545172,\n",
       "                    0.2573582562354472, --, 0.0027155110061623483,\n",
       "                    0.03548248190035313, --, 0.18320769168351672, --],\n",
       "              mask=[False,  True, False, False,  True, False, False,  True,\n",
       "                    False,  True],\n",
       "        fill_value='?',\n",
       "             dtype=object),\n",
       " 'param_kernel': masked_array(data=['rbf', 'linear', 'rbf', 'rbf', 'linear', 'rbf', 'rbf',\n",
       "                    'linear', 'rbf', 'linear'],\n",
       "              mask=[False, False, False, False, False, False, False, False,\n",
       "                    False, False],\n",
       "        fill_value='?',\n",
       "             dtype=object),\n",
       " 'params': [{'C': 220.8682396496381,\n",
       "   'gamma': 0.014007538087890578,\n",
       "   'kernel': 'rbf'},\n",
       "  {'C': 100, 'kernel': 'linear'},\n",
       "  {'C': 83.86933864671792, 'gamma': 0.09052140627545172, 'kernel': 'rbf'},\n",
       "  {'C': 61.97597554687909, 'gamma': 0.2573582562354472, 'kernel': 'rbf'},\n",
       "  {'C': 100, 'kernel': 'linear'},\n",
       "  {'C': 222.88118074128667, 'gamma': 0.0027155110061623483, 'kernel': 'rbf'},\n",
       "  {'C': 11.254669304411362, 'gamma': 0.03548248190035313, 'kernel': 'rbf'},\n",
       "  {'C': 10, 'kernel': 'linear'},\n",
       "  {'C': 81.28259452454746, 'gamma': 0.18320769168351672, 'kernel': 'rbf'},\n",
       "  {'C': 1, 'kernel': 'linear'}],\n",
       " 'split0_test_score': array([0.30555556, 0.97222222, 0.11666667, 0.11666667, 0.97222222,\n",
       "        0.99444444, 0.11666667, 0.97222222, 0.11666667, 0.97222222]),\n",
       " 'split1_test_score': array([0.37777778, 0.97777778, 0.11666667, 0.11666667, 0.97777778,\n",
       "        0.98888889, 0.11666667, 0.97777778, 0.11666667, 0.97777778]),\n",
       " 'split2_test_score': array([0.34444444, 0.96111111, 0.11666667, 0.11666667, 0.96111111,\n",
       "        0.96111111, 0.13333333, 0.96111111, 0.11666667, 0.96111111]),\n",
       " 'split3_test_score': array([0.36871508, 0.97206704, 0.11731844, 0.11731844, 0.97206704,\n",
       "        0.97765363, 0.12290503, 0.97206704, 0.11731844, 0.97206704]),\n",
       " 'split4_test_score': array([0.33519553, 0.97765363, 0.11731844, 0.11731844, 0.97765363,\n",
       "        0.99441341, 0.12290503, 0.97765363, 0.11731844, 0.97765363]),\n",
       " 'mean_test_score': array([0.34633768, 0.97216636, 0.11692737, 0.11692737, 0.97216636,\n",
       "        0.9833023 , 0.12249534, 0.97216636, 0.11692737, 0.97216636]),\n",
       " 'std_test_score': array([0.02561305, 0.00606349, 0.0003193 , 0.0003193 , 0.00606349,\n",
       "        0.01267415, 0.00609499, 0.00606349, 0.0003193 , 0.00606349]),\n",
       " 'rank_test_score': array([6, 2, 8, 8, 2, 1, 7, 2, 8, 2], dtype=int32)}"
      ]
     },
     "execution_count": 4,
     "metadata": {},
     "output_type": "execute_result"
    }
   ],
   "source": [
    "randomizedSearchCV.cv_results_"
   ]
  },
  {
   "cell_type": "code",
   "execution_count": 5,
   "metadata": {},
   "outputs": [
    {
     "data": {
      "text/plain": [
       "SVC(C=222.88118074128667, break_ties=False, cache_size=200, class_weight=None,\n",
       "    coef0=0.0, decision_function_shape='ovr', degree=3,\n",
       "    gamma=0.0027155110061623483, kernel='rbf', max_iter=-1, probability=False,\n",
       "    random_state=None, shrinking=True, tol=0.001, verbose=False)"
      ]
     },
     "execution_count": 5,
     "metadata": {},
     "output_type": "execute_result"
    }
   ],
   "source": [
    "#\n",
    "# Estimator that was chosen by the search, i.e. estimator which gave highest\n",
    "# score (or smallest loss if specified) on the left out data.\n",
    "#\n",
    "randomizedSearchCV.best_estimator_"
   ]
  },
  {
   "cell_type": "code",
   "execution_count": 6,
   "metadata": {},
   "outputs": [
    {
     "data": {
      "text/plain": [
       "0.9833022967101179"
      ]
     },
     "execution_count": 6,
     "metadata": {},
     "output_type": "execute_result"
    }
   ],
   "source": [
    "randomizedSearchCV.best_score_"
   ]
  },
  {
   "cell_type": "code",
   "execution_count": 7,
   "metadata": {},
   "outputs": [
    {
     "data": {
      "text/plain": [
       "{'C': 222.88118074128667, 'gamma': 0.0027155110061623483, 'kernel': 'rbf'}"
      ]
     },
     "execution_count": 7,
     "metadata": {},
     "output_type": "execute_result"
    }
   ],
   "source": [
    "randomizedSearchCV.best_params_"
   ]
  },
  {
   "cell_type": "markdown",
   "metadata": {},
   "source": [
    "Pronóstico con el mejor modelo\n",
    "---"
   ]
  },
  {
   "cell_type": "code",
   "execution_count": 8,
   "metadata": {},
   "outputs": [
    {
     "data": {
      "text/plain": [
       "array([1, 4, 9, 0, 4, 1, 1, 5, 9, 1, 4, 2, 6, 3, 9, 7, 6, 4, 8, 6, 8, 7,\n",
       "       6, 0, 5, 9, 4, 7, 3, 4, 9, 4, 9, 7, 9, 1, 5, 6, 0, 0, 4, 3, 6, 1,\n",
       "       0, 9, 4, 8, 7, 5, 9, 8, 4, 5, 0, 1, 6, 0, 5, 5, 0, 4, 3, 2, 8, 7,\n",
       "       6, 3, 4, 2, 5, 8, 0, 6, 9, 4, 5, 4, 9, 7, 3, 3, 1, 4, 4, 2, 6, 8,\n",
       "       1, 1, 0, 3, 7, 4, 6, 7, 4, 0, 5, 2, 9, 2, 1, 9, 2, 3, 1, 7, 7, 4,\n",
       "       5, 6, 5, 6, 7, 8, 1, 4, 3, 4, 4, 3, 5, 3, 3, 4, 7, 9, 8, 0, 6, 1,\n",
       "       9, 0, 8, 4, 1, 2, 3, 9, 7, 8, 8, 8, 3, 7, 5, 7, 0, 1, 7, 8, 3, 8,\n",
       "       0, 4, 8, 6, 2, 3, 6, 7, 3, 7, 7, 1, 3, 5, 0, 9, 8, 5, 3, 1, 2, 0,\n",
       "       3, 6, 0, 3, 4, 1, 2, 3, 1, 0, 5, 8, 9, 3, 9, 6, 6, 8, 9, 0, 7, 8,\n",
       "       2, 0, 0, 7, 7, 4, 5, 3, 1, 8, 5, 9, 6, 2, 9, 7, 7, 9, 5, 4, 2, 6,\n",
       "       6, 1, 3, 4, 7, 2, 8, 0, 6, 1, 6, 6, 5, 8, 4, 3, 0, 5, 2, 9, 9, 7,\n",
       "       8, 0, 5, 0, 6, 3, 3, 5, 1, 5, 1, 7, 9, 6, 4, 5, 0, 1, 8, 7, 8, 8,\n",
       "       8, 9, 8, 7, 7, 2, 2, 2, 8, 0, 7, 8, 6, 8, 0, 4, 2, 2, 3, 7, 9, 0,\n",
       "       2, 0, 0, 2, 7, 1, 5, 6, 4, 0, 0, 5, 5, 3, 9, 6, 1, 6, 0, 6, 4, 0,\n",
       "       1, 8, 2, 2, 3, 7, 6, 1, 1, 2, 4, 7, 4, 9, 4, 3, 0, 4, 3, 1, 3, 0,\n",
       "       9, 4, 6, 0, 3, 2, 6, 2, 5, 6, 7, 8, 8, 4, 4, 6, 9, 4, 5, 4, 5, 7,\n",
       "       1, 9, 6, 8, 0, 4, 1, 9, 9, 7, 1, 8, 5, 0, 8, 7, 7, 2, 1, 3, 7, 4,\n",
       "       0, 6, 3, 1, 2, 9, 9, 2, 5, 7, 3, 0, 6, 1, 6, 1, 1, 2, 5, 5, 3, 2,\n",
       "       8, 5, 0, 9, 6, 9, 8, 4, 5, 8, 1, 6, 3, 0, 4, 6, 1, 8, 3, 4, 7, 1,\n",
       "       0, 7, 9, 2, 7, 2, 1, 6, 9, 3, 1, 3, 2, 4, 3, 4, 3, 3, 5, 4, 7, 3,\n",
       "       6, 7, 0, 0, 1, 1, 0, 2, 0, 7, 7, 4, 7, 2, 0, 1, 2, 4, 8, 1, 6, 0,\n",
       "       3, 4, 0, 6, 8, 4, 4, 9, 0, 8, 4, 6, 8, 7, 8, 2, 8, 1, 6, 6, 9, 5,\n",
       "       3, 8, 5, 1, 3, 3, 1, 8, 8, 3, 0, 4, 1, 7, 2, 7, 4, 0, 4, 2, 7, 7,\n",
       "       9, 1, 9, 0, 9, 3, 8, 6, 2, 5, 3, 3, 7, 2, 1, 0, 8, 7, 7, 3, 1, 2,\n",
       "       4, 5, 7, 7, 9, 1, 5, 5, 2, 8, 7, 9, 4, 7, 0, 2, 6, 1, 3, 1, 3, 7,\n",
       "       3, 6, 7, 1, 6, 6, 1, 0, 6, 9, 7, 7, 4, 4, 9, 1, 5, 1, 1, 7, 2, 6,\n",
       "       6, 4, 3, 1, 0, 5, 3, 9, 5, 8, 1, 7, 9, 9, 8, 2, 1, 0, 6, 6, 4, 4,\n",
       "       7, 8, 6, 5, 8, 8, 2, 2, 2, 9, 8, 8, 3, 6, 0, 4, 4, 7, 6, 6, 9, 0,\n",
       "       4, 6, 8, 5, 1, 9, 9, 3, 1, 6, 5, 9, 7, 3, 4, 4, 2, 4, 4, 9, 2, 9,\n",
       "       9, 7, 2, 3, 3, 3, 7, 2, 7, 8, 1, 0, 5, 6, 6, 8, 0, 7, 0, 4, 2, 6,\n",
       "       6, 8, 6, 4, 7, 7, 0, 3, 0, 7, 4, 0, 0, 2, 1, 8, 4, 2, 2, 9, 9, 3,\n",
       "       3, 4, 4, 2, 6, 3, 7, 2, 8, 4, 2, 9, 5, 1, 9, 0, 9, 7, 2, 6, 2, 1,\n",
       "       6, 9, 9, 3, 8, 3, 6, 2, 2, 4, 9, 3, 4, 6, 8, 6, 1, 7, 4, 1, 4, 7,\n",
       "       0, 1, 5, 6, 2, 7, 8, 4, 9, 0, 9, 0, 5, 2, 2, 4, 1, 8, 8, 7, 2, 9,\n",
       "       7, 0, 0, 6, 0, 5, 0, 5, 1, 0, 8, 6, 6, 0, 3, 4, 0, 3, 5, 6, 9, 8,\n",
       "       4, 8, 5, 2, 7, 5, 5, 1, 1, 8, 9, 0, 3, 4, 9, 2, 9, 3, 1, 7, 5, 4,\n",
       "       9, 5, 7, 7, 7, 0, 1, 9, 1, 9, 7, 1, 3, 9, 4, 9, 2, 5, 3, 5, 6, 2,\n",
       "       3, 0, 7, 3, 2, 5, 2, 6, 1, 7, 0, 2, 9, 4, 2, 0, 7, 4, 4, 9, 0, 4,\n",
       "       9, 6, 8, 2, 6, 4, 4, 9, 1, 2, 4, 7, 8, 8, 2, 2, 5, 9, 5, 4, 3, 1,\n",
       "       4, 7, 1, 5, 3, 8, 6, 5, 5, 2, 1, 0, 9, 1, 6, 9, 3, 7, 4, 5, 6, 3,\n",
       "       6, 5, 2, 7, 6, 3, 4, 1, 1, 4, 8, 4, 5, 3, 3, 7, 7, 8])"
      ]
     },
     "execution_count": 8,
     "metadata": {},
     "output_type": "execute_result"
    }
   ],
   "source": [
    "randomizedSearchCV.predict(X_train)"
   ]
  }
 ],
 "metadata": {
  "kernel_info": {
   "name": "python3"
  },
  "kernelspec": {
   "display_name": "Python 3",
   "language": "python",
   "name": "python3"
  },
  "language_info": {
   "codemirror_mode": {
    "name": "ipython",
    "version": 3
   },
   "file_extension": ".py",
   "mimetype": "text/x-python",
   "name": "python",
   "nbconvert_exporter": "python",
   "pygments_lexer": "ipython3",
   "version": "3.6.9"
  },
  "nteract": {
   "version": "0.7.1"
  }
 },
 "nbformat": 4,
 "nbformat_minor": 4
}
