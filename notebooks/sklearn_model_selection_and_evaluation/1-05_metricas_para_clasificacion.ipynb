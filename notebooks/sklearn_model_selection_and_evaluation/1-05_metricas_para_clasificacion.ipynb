{
 "cells": [
  {
   "cell_type": "markdown",
   "id": "a6db5efb-ba1f-4023-95b5-175ad5fe5233",
   "metadata": {
    "tags": []
   },
   "source": [
    "Métricas de evaluación para modelos de regresión\n",
    "===\n",
    "\n",
    "* 5:00 min | Ultima modificación: Junio 22, 2019 | [YouTube]"
   ]
  },
  {
   "cell_type": "code",
   "execution_count": null,
   "id": "aa2355d1-0b85-436c-9235-e16d66902bf7",
   "metadata": {},
   "outputs": [],
   "source": []
  }
 ],
 "metadata": {
  "kernelspec": {
   "display_name": "Python 3",
   "language": "python",
   "name": "python3"
  },
  "language_info": {
   "codemirror_mode": {
    "name": "ipython",
    "version": 3
   },
   "file_extension": ".py",
   "mimetype": "text/x-python",
   "name": "python",
   "nbconvert_exporter": "python",
   "pygments_lexer": "ipython3",
   "version": "3.6.9"
  }
 },
 "nbformat": 4,
 "nbformat_minor": 5
}
