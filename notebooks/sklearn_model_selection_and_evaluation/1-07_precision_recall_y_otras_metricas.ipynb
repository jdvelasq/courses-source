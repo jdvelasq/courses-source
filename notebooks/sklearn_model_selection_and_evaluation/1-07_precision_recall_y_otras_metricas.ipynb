{
 "cells": [
  {
   "cell_type": "markdown",
   "id": "f1b8a711-aa8d-4a6e-be24-5b5bb0348e64",
   "metadata": {
    "tags": []
   },
   "source": [
    "Precision, racall y otras métricas\n",
    "===\n",
    "\n",
    "* 5:00 min | Ultima modificación: Junio 22, 2019 | [YouTube]"
   ]
  },
  {
   "cell_type": "markdown",
   "id": "6aff319b-d6e7-4175-9efe-2f397c337a00",
   "metadata": {},
   "source": [
    "             | Pronostico\n",
    "             |  P     N\n",
    "    ---------|------------  \n",
    "          P  |  TP    FN          \n",
    "    Real     |\n",
    "          N  |  FP    TN\n",
    "    \n",
    "    TP - Verdadero positivo (correcto)\n",
    "    TN - Verdadero negativo (correcto)\n",
    "    FN - Falso negativo (mal clasificado)\n",
    "    FP - Falso positivo (mal clasificado)\n",
    "    "
   ]
  },
  {
   "cell_type": "markdown",
   "id": "9f0fb50c-0ce5-4d7c-ae03-cb4083e68f15",
   "metadata": {},
   "source": [
    "* Tasa de éxito (porcentaje de patrones clasificados correctamente):\n",
    "\n",
    "\n",
    "$$\\text{success rate} = \\frac{\\text{TP} + \\text{TN}}{\\text{TP} + \\text{TN} + \\text{FP} + \\text{FN}}$$"
   ]
  },
  {
   "cell_type": "markdown",
   "id": "0ec160a4-f2c8-4598-a7df-1c8ceaf027e7",
   "metadata": {},
   "source": [
    "* Tasa de error (porcentaje total de patrones clasificados incorrectamente):\n",
    "\n",
    "$$\\text{error rate} = \\frac{\\text{FP} + \\text{FN}}{\\text{TP} + \\text{TN} + \\text{FP} + \\text{FN}} = 1 - \\text{accuracy}$$"
   ]
  },
  {
   "cell_type": "markdown",
   "id": "bcebb98a-028d-4161-87ed-c673ecc3b9b2",
   "metadata": {},
   "source": [
    "* Precisión o valor predictivo positivo: Proporción de casos positivos que fueron verdaderamente positivos. Es decir, la hbilidad que tiene el clasificador de no etiquetar como positiva una muestra que es realmente negativa.\n",
    "\n",
    "\n",
    "$$\\text{precision} = \\frac{\\text{TP}}{\\text{TP}  + \\text{FP}}$$"
   ]
  },
  {
   "cell_type": "code",
   "execution_count": 5,
   "id": "5f449a1a-a35f-426a-8689-a83d0c2f2d8b",
   "metadata": {},
   "outputs": [
    {
     "data": {
      "text/plain": [
       "0.6666666666666666"
      ]
     },
     "execution_count": 5,
     "metadata": {},
     "output_type": "execute_result"
    }
   ],
   "source": [
    "from sklearn.metrics import precision_score\n",
    "\n",
    "y_true = [0, 1, 1, 0, 1, 1]\n",
    "y_pred = [1, 0, 1, 0, 0, 1]\n",
    "\n",
    "precision_score(y_true, y_pred)"
   ]
  },
  {
   "cell_type": "markdown",
   "id": "0d3a7c08-c694-4190-90ce-17b52d0e3411",
   "metadata": {},
   "source": [
    "* Valor predictivo negativo: Proporción de casos negativos que fueron verdaderamente negativos.\n",
    "\n",
    "\n",
    "$$\\text{negative predictive value} = \\frac{\\text{TN}}{\\text{TN}  + \\text{FN}}$$"
   ]
  },
  {
   "cell_type": "markdown",
   "id": "101e54f1-f2a1-4e4d-918a-52b81cd677fe",
   "metadata": {},
   "source": [
    "* Sensibilidad, tasa verdadera positiva, recall: mide la proporción de ejemplos positivos que fueron correctamente clasificados. En otras palabras, la habilidad que tiene un clasificador de encontrar todas las muestras positivas.\n",
    "\n",
    "\n",
    "$$\\text{sensitibity (recall)} = \\frac{\\text{TP}}{\\text{TP}  + \\text{FN}}$$"
   ]
  },
  {
   "cell_type": "code",
   "execution_count": 6,
   "id": "5176c8ed-cbc6-46d4-9134-9542bd8a1de5",
   "metadata": {},
   "outputs": [
    {
     "data": {
      "text/plain": [
       "0.5"
      ]
     },
     "execution_count": 6,
     "metadata": {},
     "output_type": "execute_result"
    }
   ],
   "source": [
    "from sklearn.metrics import recall_score\n",
    "\n",
    "y_true = [0, 1, 1, 0, 1, 1]\n",
    "y_pred = [0, 0, 1, 0, 0, 1]\n",
    "recall_score(y_true, y_pred)"
   ]
  },
  {
   "cell_type": "markdown",
   "id": "b8052d28-ca12-4ea0-b70c-5bcfeef7ef74",
   "metadata": {},
   "source": [
    "* Especifidad o tasa verdadera negativa: mide la proporción de ejemplos negativos correctamente clasificados.\n",
    "\n",
    "\n",
    "$$\\text{specifity} = \\frac{\\text{TN}}{\\text{TN}  + \\text{FP}}$$"
   ]
  },
  {
   "cell_type": "markdown",
   "id": "f5ae19d4-d9e7-43cd-a915-7518bcee384b",
   "metadata": {},
   "source": [
    "* $F_1$-Score (o balanced-F-score o $F$-measure: Métrica entre 0 (peor) y 1 (mejor)from sklearn.metrics import f1_score\n",
    "y_true = [0, 1, 2, 0, 1, 2]\n",
    "y_pred = [0, 2, 1, 0, 0, 1]\n",
    "f1_score(y_true, y_pred, average='macro') que puede ser interpretada como un promedio ponderado entre la precisión y la sensibilidad:\n",
    "\n",
    "$$\n",
    "F_1 = 2 * \\frac{\\text{precision} \\times \\text{recall}}\n",
    "{\\text{precision} + \\text{recall}}\n",
    "$$"
   ]
  },
  {
   "cell_type": "code",
   "execution_count": 2,
   "id": "921b2ef6-0656-4ac5-beec-390c26f9aa48",
   "metadata": {},
   "outputs": [
    {
     "data": {
      "text/plain": [
       "0.6666666666666666"
      ]
     },
     "execution_count": 2,
     "metadata": {},
     "output_type": "execute_result"
    }
   ],
   "source": [
    "from sklearn.metrics import f1_score\n",
    "\n",
    "y_true = [0, 1, 1, 0, 1, 1]\n",
    "y_pred = [0, 0, 1, 0, 0, 1]\n",
    "f1_score(y_true, y_pred)"
   ]
  },
  {
   "cell_type": "markdown",
   "id": "d9fc17a2-46e6-453a-8467-cc16c85feb2c",
   "metadata": {},
   "source": [
    "* $F_\\beta$-Score: es la media armónica ponderad entre la precisión y la sensibilidad, la cual toma valores entre 0 (peor) y 1 (mejor). Para $\\beta$ < 1 favorece la precisión, mientras que para $\\beta$ > 1 favorece la sensibilidad.\n",
    "\n",
    "$$\n",
    "F_\\beta = (1 + \\beta^2) \n",
    "\\frac{\\text{precision} \\times \\text{recall}}\n",
    "{\\beta^2 \\text{precision} + \\text{recall}}\n",
    "$$"
   ]
  },
  {
   "cell_type": "code",
   "execution_count": 3,
   "id": "e68ba2fb-bb2d-489d-a7c3-09268b61abf1",
   "metadata": {},
   "outputs": [
    {
     "data": {
      "text/plain": [
       "0.8333333333333334"
      ]
     },
     "metadata": {},
     "output_type": "display_data"
    },
    {
     "data": {
      "text/plain": [
       "0.6288659793814433"
      ]
     },
     "metadata": {},
     "output_type": "display_data"
    }
   ],
   "source": [
    "from sklearn.metrics import fbeta_score\n",
    "\n",
    "y_true = [0, 1, 1, 0, 1, 1]\n",
    "y_pred = [0, 0, 1, 0, 0, 1]\n",
    "\n",
    "display(\n",
    "    fbeta_score(y_true, y_pred, beta=0.5),\n",
    "    fbeta_score(y_true, y_pred, beta=1.2),\n",
    ")"
   ]
  }
 ],
 "metadata": {
  "kernelspec": {
   "display_name": "Python 3",
   "language": "python",
   "name": "python3"
  },
  "language_info": {
   "codemirror_mode": {
    "name": "ipython",
    "version": 3
   },
   "file_extension": ".py",
   "mimetype": "text/x-python",
   "name": "python",
   "nbconvert_exporter": "python",
   "pygments_lexer": "ipython3",
   "version": "3.6.9"
  }
 },
 "nbformat": 4,
 "nbformat_minor": 5
}
