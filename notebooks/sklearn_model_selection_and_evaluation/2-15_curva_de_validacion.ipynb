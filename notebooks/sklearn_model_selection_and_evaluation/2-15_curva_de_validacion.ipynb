{
 "cells": [
  {
   "cell_type": "markdown",
   "id": "fc22146a-d333-4f62-a046-b73791ff7003",
   "metadata": {
    "tags": []
   },
   "source": [
    "Curva de validación --- 6:37 min\n",
    "===\n",
    "\n",
    "* 6:37 min | Ultima modificación: Septiembre 30, 2021 | [YouTube](https://youtu.be/xyuNYhwT4Pk)"
   ]
  },
  {
   "cell_type": "markdown",
   "id": "a3e98165-a6bb-41a2-9df1-d67f27e58f19",
   "metadata": {},
   "source": [
    "Esta curva que permite evaluar la variación en el desempeño de un modelo (dilema bias-variance) al variar un único hiperparámetro."
   ]
  },
  {
   "cell_type": "code",
   "execution_count": 1,
   "id": "8eabc3ff-761a-46b6-93b4-ea32736741fb",
   "metadata": {},
   "outputs": [],
   "source": [
    "import matplotlib.pyplot as plt\n",
    "import numpy as np\n",
    "from sklearn.datasets import load_digits\n",
    "from sklearn.model_selection import validation_curve\n",
    "from sklearn.svm import SVC\n",
    "\n",
    "#\n",
    "# Carga de datos\n",
    "#\n",
    "X, y = load_digits(return_X_y=True)\n",
    "\n",
    "#\n",
    "# Variación del parámetro. Toma 5 valores del parámetro.\n",
    "#\n",
    "param_range = np.logspace(-6, 1, 5)\n",
    "\n",
    "#\n",
    "# train_scores: Scores on training sets.\n",
    "# test_scores: Scores on test set.\n",
    "#\n",
    "train_scores, test_scores = validation_curve(\n",
    "    # -------------------------------------------------------------------------\n",
    "    # An object of that type which is cloned for each validation.\n",
    "    estimator=SVC(),\n",
    "    # -------------------------------------------------------------------------\n",
    "    # Training vector\n",
    "    X=X,\n",
    "    # -------------------------------------------------------------------------\n",
    "    # Target relative to X for classification or regression.\n",
    "    y=y,\n",
    "    # -------------------------------------------------------------------------\n",
    "    # Name of the parameter that will be varied.\n",
    "    # -------------------------------------------------------------------------\n",
    "    param_name=\"gamma\",\n",
    "    # -------------------------------------------------------------------------\n",
    "    # The values of the parameter that will be evaluated.\n",
    "    param_range=param_range,\n",
    "    # -------------------------------------------------------------------------\n",
    "    # Determines the cross-validation splitting strategy.\n",
    "    cv=5,\n",
    "    # -------------------------------------------------------------------------\n",
    "    # A str (see model evaluation documentation) or a scorer callable object\n",
    "    scoring=\"accuracy\",\n",
    ")"
   ]
  },
  {
   "cell_type": "code",
   "execution_count": 2,
   "id": "a5bb7d3e-994d-4a5a-bbf5-887bb1aa9b58",
   "metadata": {},
   "outputs": [
    {
     "data": {
      "text/plain": [
       "array([[0.10229645, 0.10229645, 0.1961057 , 0.19332406, 0.18984701],\n",
       "       [0.96798887, 0.97703549, 0.97079277, 0.96801113, 0.98052851],\n",
       "       [1.        , 1.        , 1.        , 1.        , 1.        ],\n",
       "       [1.        , 1.        , 1.        , 1.        , 1.        ],\n",
       "       [1.        , 1.        , 1.        , 1.        , 1.        ]])"
      ]
     },
     "execution_count": 2,
     "metadata": {},
     "output_type": "execute_result"
    }
   ],
   "source": [
    "#\n",
    "# Resultados de aplicar CV=5 por cada valor del training set\n",
    "#\n",
    "train_scores"
   ]
  },
  {
   "cell_type": "code",
   "execution_count": 3,
   "id": "1fa6241d-cbc9-46c7-82b2-9e8eb22f1f8e",
   "metadata": {},
   "outputs": [
    {
     "data": {
      "text/plain": [
       "array([[0.1       , 0.1       , 0.20334262, 0.19777159, 0.18662953],\n",
       "       [0.925     , 0.91944444, 0.96100279, 0.97214485, 0.89415042],\n",
       "       [0.95555556, 0.925     , 0.9637883 , 0.98328691, 0.94150418],\n",
       "       [0.1       , 0.1       , 0.10306407, 0.10306407, 0.10306407],\n",
       "       [0.1       , 0.1       , 0.10584958, 0.10027855, 0.10027855]])"
      ]
     },
     "execution_count": 3,
     "metadata": {},
     "output_type": "execute_result"
    }
   ],
   "source": [
    "#\n",
    "# Resultados de aplicar CV=5 por cada valor del test set\n",
    "#\n",
    "test_scores"
   ]
  },
  {
   "cell_type": "code",
   "execution_count": 4,
   "id": "524f956d-f1a0-43d1-a9dd-8b465200d603",
   "metadata": {},
   "outputs": [],
   "source": [
    "#\n",
    "# Medias y desviaciones estándar para los scores\n",
    "#\n",
    "train_scores_mean = np.mean(train_scores, axis=1)\n",
    "train_scores_std = np.std(train_scores, axis=1)\n",
    "test_scores_mean = np.mean(test_scores, axis=1)\n",
    "test_scores_std = np.std(test_scores, axis=1)"
   ]
  },
  {
   "cell_type": "code",
   "execution_count": 5,
   "id": "ae11058f-5019-4883-b89c-a1b885d71f4e",
   "metadata": {},
   "outputs": [
    {
     "data": {
      "image/png": "[encoded data removed]",
      "text/plain": [
       "<Figure size 504x504 with 1 Axes>"
      ]
     },
     "metadata": {
      "needs_background": "light"
     },
     "output_type": "display_data"
    }
   ],
   "source": [
    "plt.figure(figsize=(7, 7))\n",
    "\n",
    "plt.semilogx(\n",
    "    param_range, train_scores_mean, label=\"train_score\", color=\"tab:orange\", lw=2\n",
    ")\n",
    "plt.fill_between(\n",
    "    param_range,\n",
    "    train_scores_mean - train_scores_std,\n",
    "    train_scores_mean + train_scores_std,\n",
    "    alpha=0.2,\n",
    "    color=\"tab:orange\",\n",
    "    lw=2,\n",
    ")\n",
    "\n",
    "plt.semilogx(param_range, test_scores_mean, label=\"test_score\", color=\"tab:blue\", lw=2)\n",
    "\n",
    "plt.fill_between(\n",
    "    param_range,\n",
    "    test_scores_mean - test_scores_std,\n",
    "    test_scores_mean + test_scores_std,\n",
    "    alpha=0.2,\n",
    "    color=\"tab:blue\",\n",
    "    lw=2,\n",
    ")\n",
    "\n",
    "plt.ylim(0.0, 1.1)\n",
    "plt.legend(loc=\"best\")\n",
    "\n",
    "plt.xlabel(\"gamma\")\n",
    "plt.ylabel(\"Score\")\n",
    "plt.show()\n",
    "\n",
    "#\n",
    "# Si los scores de entrenamiento y valiación son bajos, el modelo puede\n",
    "# esta sub-ajustado.\n",
    "#\n",
    "# Si el score de entrenamiento es alto y el de validación es bajo, el\n",
    "# modelo se encuentra sobre-entrenado\n",
    "#"
   ]
  }
 ],
 "metadata": {
  "kernelspec": {
   "display_name": "Python 3",
   "language": "python",
   "name": "python3"
  },
  "language_info": {
   "codemirror_mode": {
    "name": "ipython",
    "version": 3
   },
   "file_extension": ".py",
   "mimetype": "text/x-python",
   "name": "python",
   "nbconvert_exporter": "python",
   "pygments_lexer": "ipython3",
   "version": "3.6.9"
  }
 },
 "nbformat": 4,
 "nbformat_minor": 5
}
