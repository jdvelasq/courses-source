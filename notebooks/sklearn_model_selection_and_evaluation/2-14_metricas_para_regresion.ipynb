{
 "cells": [
  {
   "cell_type": "markdown",
   "id": "8493fef1-d4a6-40e3-83b0-8add974f2b07",
   "metadata": {
    "tags": []
   },
   "source": [
    "Métricas básicas de evaluación para modelos de regresión --- 8:21 min\n",
    "===\n",
    "\n",
    "* 8:21 min | Ultima modificación: Septiembre 30, 2021 | [YouTube](https://youtu.be/vv8a1E_DrRw)"
   ]
  },
  {
   "cell_type": "code",
   "execution_count": 1,
   "id": "8f94be70-9082-48d7-873d-e7c260f09ccc",
   "metadata": {},
   "outputs": [],
   "source": [
    "y_true = [3, 0.5, 2, 7]\n",
    "y_pred = [2.5, 1.1, 2, 8]"
   ]
  },
  {
   "cell_type": "markdown",
   "id": "3f38dfab-7bb1-4953-b382-fdcf4d592fe4",
   "metadata": {},
   "source": [
    "Varianza explicada\n",
    "---"
   ]
  },
  {
   "cell_type": "markdown",
   "id": "518daa17-f5a8-4d4b-9dde-e221102ca3b9",
   "metadata": {},
   "source": [
    "Representa el porcentaje de la varianza de la variable de salida que es explicado por el modelo."
   ]
  },
  {
   "cell_type": "markdown",
   "id": "4c6dc038-4383-4d1e-8a66-47aa82b47280",
   "metadata": {},
   "source": [
    "$$\n",
    "\\text{explained_variance}(y, \\hat{y}) = 1 - \n",
    "\\frac{Var\\{y - \\hat{y}\\}}{Var\\{y\\}}\n",
    "= 1 - \n",
    "\\frac{Var\\{\\hat{e}\\}}{Var\\{y\\}}\n",
    "$$"
   ]
  },
  {
   "cell_type": "code",
   "execution_count": 2,
   "id": "86a03c26-439c-4f94-800a-1537050b9fcb",
   "metadata": {},
   "outputs": [
    {
     "data": {
      "text/plain": [
       "0.9436118598382749"
      ]
     },
     "execution_count": 2,
     "metadata": {},
     "output_type": "execute_result"
    }
   ],
   "source": [
    "from sklearn.metrics import explained_variance_score\n",
    "\n",
    "explained_variance_score(y_true, y_pred)"
   ]
  },
  {
   "cell_type": "markdown",
   "id": "28d9f8b1-142a-4cf9-a81a-711ebfd10feb",
   "metadata": {},
   "source": [
    "Error máximo\n",
    "---"
   ]
  },
  {
   "cell_type": "markdown",
   "id": "63be4dd9-ae8d-4238-931c-793976333a46",
   "metadata": {},
   "source": [
    "$$\n",
    "\\text{max_error}(y, \\hat{y}) = \\max(|y_i - \\hat{y}_i|) = \\max(|\\hat{e}|)\n",
    "$$"
   ]
  },
  {
   "cell_type": "code",
   "execution_count": 3,
   "id": "535091ef-1518-4a17-9658-6c0ab653dcb6",
   "metadata": {},
   "outputs": [
    {
     "data": {
      "text/plain": [
       "1.0"
      ]
     },
     "execution_count": 3,
     "metadata": {},
     "output_type": "execute_result"
    }
   ],
   "source": [
    "from sklearn.metrics import max_error\n",
    "\n",
    "max_error(y_true, y_pred)"
   ]
  },
  {
   "cell_type": "markdown",
   "id": "0ce30442-68fc-4e5f-86c4-a40b21f9aa98",
   "metadata": {},
   "source": [
    "Error medio absoluto\n",
    "---"
   ]
  },
  {
   "cell_type": "markdown",
   "id": "2e9bad6c-805b-4397-a99a-d2969ea05584",
   "metadata": {},
   "source": [
    "Esta métrica no es sensitiva hacia los outliers. Una desventaja de su uso como métrica en optimización es que el gradiente depende del signo del error y no de su magnitud."
   ]
  },
  {
   "cell_type": "markdown",
   "id": "98712045-8c82-40e0-96cf-430fec15efdc",
   "metadata": {},
   "source": [
    "$$\n",
    "\\text{MAE}(y, \\hat{y}) = \n",
    "\\frac{1}{n_{\\text{samples}}}\n",
    "\\sum_{i=0}^{n_{\\text{samples}} - 1} |y_i - \\hat{y}_i| =\n",
    "\\frac{1}{n_{\\text{samples}}}\n",
    "\\sum_{i=0}^{n_{\\text{samples}} - 1} |\\hat{e}_i| \n",
    "$$"
   ]
  },
  {
   "cell_type": "code",
   "execution_count": 4,
   "id": "25063bd4-376c-4022-bbff-9d4bf6b24be6",
   "metadata": {},
   "outputs": [
    {
     "data": {
      "text/plain": [
       "0.525"
      ]
     },
     "execution_count": 4,
     "metadata": {},
     "output_type": "execute_result"
    }
   ],
   "source": [
    "from sklearn.metrics import mean_absolute_error\n",
    "\n",
    "mean_absolute_error(y_true, y_pred)"
   ]
  },
  {
   "cell_type": "markdown",
   "id": "da035879-c409-4abb-a3b7-92e05cef9a20",
   "metadata": {},
   "source": [
    "Error cuadrático medio\n",
    "---"
   ]
  },
  {
   "cell_type": "markdown",
   "id": "2ec2136c-dbe0-44c1-a595-4d63af738616",
   "metadata": {},
   "source": [
    "$$\n",
    "\\text{MSE}(y, \\hat{y}) = \n",
    "\\frac{1}{n_{\\text{samples}}}\n",
    "\\sum_{i=0}^{n_{\\text{samples}} - 1} (y_i - \\hat{y}_i)^2 =\n",
    "\\frac{1}{n_{\\text{samples}}}\n",
    "\\sum_{i=0}^{n_{\\text{samples}} - 1} \\hat{e}_i^2\n",
    "$$"
   ]
  },
  {
   "cell_type": "code",
   "execution_count": 5,
   "id": "1c14fbf6-cd22-4095-a4b9-7a593d195d7e",
   "metadata": {},
   "outputs": [
    {
     "data": {
      "text/plain": [
       "0.4025"
      ]
     },
     "execution_count": 5,
     "metadata": {},
     "output_type": "execute_result"
    }
   ],
   "source": [
    "from sklearn.metrics import mean_squared_error\n",
    "\n",
    "mean_squared_error(y_true, y_pred)"
   ]
  },
  {
   "cell_type": "markdown",
   "id": "ae367ecd-17cd-49db-9275-0aeea6d26642",
   "metadata": {},
   "source": [
    "Error logarítmico cuadrático medio\n",
    "---"
   ]
  },
  {
   "cell_type": "markdown",
   "id": "1bcc931d-69fb-4da0-aa5b-0e493a020be3",
   "metadata": {},
   "source": [
    "Esta métrica se usa para variables que tienen un comportamiento exponencial como poblaciones. La métrica penaliza más los estimados por debajo que por encima del valor real. Se puede interpretar como el radio entre los valores verdaderos y los valores pronósticados. Se usa esta métrica cuando se desea que los errores grandes sean más penalizados que los errores pequeños."
   ]
  },
  {
   "cell_type": "markdown",
   "id": "de3535c7-fe21-4330-af77-b5a5656dead0",
   "metadata": {},
   "source": [
    "$$\n",
    "\\text{MSLE}(y, \\hat{y}) = \n",
    "\\frac{1}{n_{\\text{samples}}}\n",
    "\\sum_{i=0}^{n_{\\text{samples}} - 1} \n",
    "(\n",
    "    \\log_e(1 +y_i) - \\log_e(1 + \\hat{y}_i)\n",
    ")^2\n",
    "$$"
   ]
  },
  {
   "cell_type": "code",
   "execution_count": 6,
   "id": "75a5f1a6-ec2b-466f-88dc-d48f31145411",
   "metadata": {},
   "outputs": [
    {
     "data": {
      "text/plain": [
       "0.03622926058038972"
      ]
     },
     "execution_count": 6,
     "metadata": {},
     "output_type": "execute_result"
    }
   ],
   "source": [
    "from sklearn.metrics import mean_squared_log_error\n",
    "\n",
    "mean_squared_log_error(y_true, y_pred)"
   ]
  },
  {
   "cell_type": "markdown",
   "id": "c1b4d026-d98f-42f4-88fe-b6ca1c55b121",
   "metadata": {},
   "source": [
    "Error porcentual absoluto medio\n",
    "---"
   ]
  },
  {
   "cell_type": "markdown",
   "id": "0f4a3edf-fa24-4409-a12a-f6cb75141f4c",
   "metadata": {},
   "source": [
    "Esta métrica es sensible a errores relativos."
   ]
  },
  {
   "cell_type": "markdown",
   "id": "fd85497d-72e9-4f83-8dfb-8b29e23bd0ef",
   "metadata": {},
   "source": [
    "$$\n",
    "\\text{MAPE}(y, \\hat{y}) = \n",
    "\\frac{1}{n_{\\text{samples}}}\n",
    "\\sum_{i=0}^{n_{\\text{samples}} - 1} \n",
    "\\frac\n",
    "{|y_i - \\hat{y}_i|}\n",
    "{\\max(\\epsilon, |y_i|)} =\n",
    "\\frac{1}{n_{\\text{samples}}}\n",
    "\\sum_{i=0}^{n_{\\text{samples}} - 1} \n",
    "\\frac\n",
    "{|\\hat{e}_i|}\n",
    "{\\max(\\epsilon, |y_i|)}\n",
    "$$"
   ]
  },
  {
   "cell_type": "code",
   "execution_count": 7,
   "id": "bf3693f5-4ec7-45c1-ae23-d5a6a6207fe0",
   "metadata": {},
   "outputs": [],
   "source": [
    "# Nuevo en la versión 0.24\n",
    "# from sklearn.metrics import mean_absolute_percentage_error\n",
    "\n",
    "\n",
    "# mean_absolute_percentage_error(y_true, y_pred)"
   ]
  },
  {
   "cell_type": "markdown",
   "id": "f2a5aac8-751c-41b7-a0d4-b9517cb5a94d",
   "metadata": {},
   "source": [
    "Mediana del error absoluto\n",
    "---"
   ]
  },
  {
   "cell_type": "markdown",
   "id": "8ed9f6ee-41d3-439c-8d1e-af4ac4c0d241",
   "metadata": {},
   "source": [
    "$$\n",
    "\\text{MedAE}(y_i, \\hat{y}_i) =\n",
    "\\text{median}(|y_1 - \\hat{y}_1|, \\dots, |y_n - \\hat{y}_n| = \n",
    "\\text{median}(|\\hat{e}_1|, \\dots, |\\hat{e}_n| = \n",
    "$$"
   ]
  },
  {
   "cell_type": "code",
   "execution_count": 8,
   "id": "399a081a-6bdc-41e2-96f5-791c2d3f426f",
   "metadata": {},
   "outputs": [
    {
     "data": {
      "text/plain": [
       "0.55"
      ]
     },
     "execution_count": 8,
     "metadata": {},
     "output_type": "execute_result"
    }
   ],
   "source": [
    "from sklearn.metrics import median_absolute_error\n",
    "\n",
    "median_absolute_error(y_true, y_pred)"
   ]
  },
  {
   "cell_type": "markdown",
   "id": "b154d4a6-6b83-4967-a01e-8fb829046823",
   "metadata": {},
   "source": [
    "R2\n",
    "--"
   ]
  },
  {
   "cell_type": "markdown",
   "id": "76242285-7fa5-4b95-958b-0b45abde6b91",
   "metadata": {},
   "source": [
    "Esta métrica es el coeficiente de determinación y representa la proporción de la varianza de $y$ que es explicada por las variables independientes del modelo. Esta métrica es dependiente de los datos y no puede ser utilizada para compara modelos usados sobre diferentes datasets."
   ]
  },
  {
   "cell_type": "markdown",
   "id": "296c1a7f-2499-4c73-bf06-e36e8a44ed06",
   "metadata": {},
   "source": [
    "\n",
    "$$\n",
    "R^2(y_i, \\hat{y}_i) \n",
    "= 1 - \\frac{\\sum (y_i - \\hat{y}_i)^2}\n",
    "{\\sum (y_i - \\bar{y})^2}\n",
    "$$\n"
   ]
  },
  {
   "cell_type": "code",
   "execution_count": 9,
   "id": "25c3d42d-54f2-47f3-a106-06b5507772a8",
   "metadata": {},
   "outputs": [
    {
     "data": {
      "text/plain": [
       "0.930566037735849"
      ]
     },
     "execution_count": 9,
     "metadata": {},
     "output_type": "execute_result"
    }
   ],
   "source": [
    "from sklearn.metrics import r2_score\n",
    "\n",
    "r2_score(y_true, y_pred)"
   ]
  }
 ],
 "metadata": {
  "kernelspec": {
   "display_name": "Python 3",
   "language": "python",
   "name": "python3"
  },
  "language_info": {
   "codemirror_mode": {
    "name": "ipython",
    "version": 3
   },
   "file_extension": ".py",
   "mimetype": "text/x-python",
   "name": "python",
   "nbconvert_exporter": "python",
   "pygments_lexer": "ipython3",
   "version": "3.6.9"
  }
 },
 "nbformat": 4,
 "nbformat_minor": 5
}
