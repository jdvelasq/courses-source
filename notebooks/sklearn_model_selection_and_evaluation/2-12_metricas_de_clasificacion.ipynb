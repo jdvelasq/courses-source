{
 "cells": [
  {
   "cell_type": "markdown",
   "id": "dc43ef6e-1650-49bd-8f9f-c8e18cfacceb",
   "metadata": {
    "tags": []
   },
   "source": [
    "Métricas básicas de clasificación --- 13:54 min\n",
    "===\n",
    "\n",
    "* 13:54 min | Ultima modificación: Septiembre 30, 2021 | [YouTube](https://youtu.be/VFL9OKif3-c)"
   ]
  },
  {
   "cell_type": "markdown",
   "id": "1f2e6ec7-6198-44f6-a7ba-8e54b64dfdcb",
   "metadata": {},
   "source": [
    "Componentes de la matriz de confusión\n",
    "---"
   ]
  },
  {
   "cell_type": "markdown",
   "id": "58cec503-97d2-433e-9bee-0ccc38cf05fd",
   "metadata": {},
   "source": [
    "             | Pronóstico\n",
    "             |  PP    PN\n",
    "    ---------|------------\n",
    "          P  |  TP    FN \n",
    "    Real     |\n",
    "          N  |  FP    TN                        \n",
    "    \n",
    "    \n",
    "     P - Positive                 TP - Verdadero positivo (correcto)\n",
    "     N - Negative                 TN - Verdadero negativo (correcto)\n",
    "    PP - Predicted Positive       FN - Falso negativo (mal clasificado)\n",
    "    PN - Predicted Negative       FP - Falso positivo (mal clasificado)    "
   ]
  },
  {
   "cell_type": "code",
   "execution_count": 1,
   "id": "c7131fe6-9ebc-4d77-9ae2-f9cfcfe805b9",
   "metadata": {},
   "outputs": [
    {
     "data": {
      "text/plain": [
       "      PP=2  PN=13\n",
       "P=4      1      3\n",
       "N=11     1     10"
      ]
     },
     "execution_count": 1,
     "metadata": {},
     "output_type": "execute_result"
    }
   ],
   "source": [
    "import pandas as pd\n",
    "from sklearn.metrics import confusion_matrix\n",
    "\n",
    "pd.set_option(\"display.notebook_repr_html\", False)\n",
    "\n",
    "\n",
    "y_true = [0, 1, 0, 0, 1, 0, 0, 0, 0, 1, 0, 1, 0, 0, 0]\n",
    "y_pred = [0, 1, 0, 0, 0, 1, 0, 0, 0, 0, 0, 0, 0, 0, 0]\n",
    "\n",
    "pd.DataFrame(\n",
    "    confusion_matrix(\n",
    "        y_true=y_true,\n",
    "        y_pred=y_pred,\n",
    "        labels=[1, 0],\n",
    "        normalize=None,\n",
    "    ),\n",
    "    columns=[\n",
    "        \"PP={}\".format(sum(y_pred)),\n",
    "        \"PN={}\".format(len(y_pred) - sum(y_pred)),\n",
    "    ],\n",
    "    index=[\n",
    "        \"P={}\".format(sum(y_true)),\n",
    "        \"N={}\".format(len(y_true) - sum(y_true)),\n",
    "    ],\n",
    ")"
   ]
  },
  {
   "cell_type": "markdown",
   "id": "b5381ee5-26b9-43dd-b453-077f3dda12ec",
   "metadata": {},
   "source": [
    "Accuracy Classification Score\n",
    "---"
   ]
  },
  {
   "cell_type": "markdown",
   "id": "d174b795-cce3-4e54-a225-21ad53ae9afe",
   "metadata": {},
   "source": [
    "Cómputa la cantidad o porcentaje de predicciones correctas.\n",
    "\n",
    "             | Pronóstico\n",
    "             |  PP    PN\n",
    "    ---------|------------\n",
    "          P  |  TP    FN \n",
    "    Real     |\n",
    "          N  |  FP    TN "
   ]
  },
  {
   "cell_type": "markdown",
   "id": "bd8b4cb2-c8cb-4092-b273-bce69e7ce516",
   "metadata": {},
   "source": [
    "$$\n",
    "\\text{accuracy}\n",
    "=\\frac{\\text{TP} +\\text{TN}}{\\text{P} + \\text{N}}\n",
    "=\\frac{\\text{TP}+\\text{TN}}{\\text{TP}+\\text{TN}+\\text{FP}+\\text{FN}}\n",
    "$$"
   ]
  },
  {
   "cell_type": "code",
   "execution_count": 2,
   "id": "613760e3-b108-4935-8a26-67a5e49d72fa",
   "metadata": {},
   "outputs": [
    {
     "data": {
      "text/plain": [
       "0.7333333333333333"
      ]
     },
     "execution_count": 2,
     "metadata": {},
     "output_type": "execute_result"
    }
   ],
   "source": [
    "from sklearn.metrics import accuracy_score\n",
    "\n",
    "accuracy_score(\n",
    "    # -------------------------------------------------------------------------\n",
    "    # Ground truth (correct) labels.\n",
    "    y_true=y_true,\n",
    "    # -------------------------------------------------------------------------\n",
    "    # Predicted labels, as returned by a classifier.\n",
    "    y_pred=y_pred,\n",
    "    # -------------------------------------------------------------------------\n",
    "    # If False, return the number of correctly classified samples. Otherwise,\n",
    "    # return the fraction of correctly classified samples.\n",
    "    normalize=True,\n",
    ")"
   ]
  },
  {
   "cell_type": "code",
   "execution_count": 3,
   "id": "59a5ff27-4348-471a-8723-7e364adb1f4f",
   "metadata": {},
   "outputs": [
    {
     "data": {
      "text/plain": [
       "11"
      ]
     },
     "execution_count": 3,
     "metadata": {},
     "output_type": "execute_result"
    }
   ],
   "source": [
    "accuracy_score(\n",
    "    y_true=y_true,\n",
    "    y_pred=y_pred,\n",
    "    normalize=False,\n",
    ")"
   ]
  },
  {
   "cell_type": "markdown",
   "id": "d65c4a48-55ec-4af0-83ba-ddfd7ff0248a",
   "metadata": {},
   "source": [
    "True Positive Rate / recall_score\n",
    "---"
   ]
  },
  {
   "cell_type": "markdown",
   "id": "1bf1adcf-568c-4b84-9a2c-6e82e17b8bb9",
   "metadata": {},
   "source": [
    "Es el porcentaje de casos pronosticados como positivos del total de casos realmente positivos. También se interpreta como la habilidad del clasificador para encontrar todos los casos relevantes.\n",
    "\n",
    "\n",
    "             | Pronóstico\n",
    "             |  PP    PN\n",
    "    ---------|------------\n",
    "          P  |  TP    FN \n",
    "    Real     |\n",
    "          N  |  FP    TN "
   ]
  },
  {
   "cell_type": "markdown",
   "id": "1567d7a2-993e-4fa8-99e5-39aa654e390a",
   "metadata": {},
   "source": [
    "$$\n",
    "\\text{recall_score} =\n",
    "\\text{TPR}=\\frac{\\text{TP}}{\\text{P}}=\\frac{\\text{TP}}{\\text{TP}+\\text{FN}}\n",
    "$$"
   ]
  },
  {
   "cell_type": "code",
   "execution_count": 4,
   "id": "c4dcda50-41f0-4249-88cb-0a7f45908844",
   "metadata": {},
   "outputs": [
    {
     "data": {
      "text/plain": [
       "0.25"
      ]
     },
     "execution_count": 4,
     "metadata": {},
     "output_type": "execute_result"
    }
   ],
   "source": [
    "from sklearn.metrics import recall_score\n",
    "\n",
    "#\n",
    "#    15 | PP=2  PF=13\n",
    "# ------|-------------\n",
    "#  P=4  |    1      3\n",
    "#  N=11 |    1     10\n",
    "#\n",
    "\n",
    "recall_score(y_true, y_pred)"
   ]
  },
  {
   "cell_type": "markdown",
   "id": "2d0f6671-01b3-4b1a-a8b5-19da86ee8a93",
   "metadata": {},
   "source": [
    "## True Negative Rate"
   ]
  },
  {
   "cell_type": "markdown",
   "id": "9eba3007-fd0b-4d4e-b87b-e0a82d0eb24d",
   "metadata": {},
   "source": [
    "Es el porcentaje de casos pronósticados como negativos del total de casos realmente negativos.\n",
    "\n",
    "             | Pronóstico\n",
    "             |  PP    PN\n",
    "    ---------|------------\n",
    "          P  |  TP    FN \n",
    "    Real     |\n",
    "          N  |  FP    TN "
   ]
  },
  {
   "cell_type": "markdown",
   "id": "932b9844-f7e9-4212-8c3c-1be82c6c14b9",
   "metadata": {},
   "source": [
    "$$\n",
    "\\text{TNR}=\\frac{\\text{TN}}{\\text{N}}=\\frac{\\text{TN}}{\\text{TN}+\\text{FP}}\n",
    "$$"
   ]
  },
  {
   "cell_type": "markdown",
   "id": "c3aa535d-c0f3-4afa-855f-ab94ed670fbf",
   "metadata": {
    "tags": []
   },
   "source": [
    "Precision Score\n",
    "---"
   ]
  },
  {
   "cell_type": "markdown",
   "id": "68d8529e-fcfa-418b-820c-d8e0447f50cd",
   "metadata": {},
   "source": [
    "Es la habilidad que tiene el clasificador de no predecir como positiva una muestra que es negativa.\n",
    "\n",
    "             | Pronóstico\n",
    "             |  PP    PN\n",
    "    ---------|------------\n",
    "          P  |  TP    FN \n",
    "    Real     |\n",
    "          N  |  FP    TN "
   ]
  },
  {
   "cell_type": "markdown",
   "id": "c7a22d9c-659e-430b-af87-e61335679aff",
   "metadata": {},
   "source": [
    "$$\n",
    "\\text{precision_score}\n",
    "=\\frac{\\text{TP}}{\\text{PP}}\n",
    "=\\frac{\\text{TP}}{\\text{TP} +\\text{FP}}\n",
    "$$"
   ]
  },
  {
   "cell_type": "code",
   "execution_count": 5,
   "id": "f2ee705a-3b6b-4835-8b9a-434ba561544b",
   "metadata": {},
   "outputs": [
    {
     "data": {
      "text/plain": [
       "0.5"
      ]
     },
     "execution_count": 5,
     "metadata": {},
     "output_type": "execute_result"
    }
   ],
   "source": [
    "from sklearn.metrics import precision_score\n",
    "\n",
    "#\n",
    "#    15 | PP=2  PF=13\n",
    "# ------|-------------\n",
    "#  P=4  |    1      3\n",
    "#  N=11 |    1     10\n",
    "#\n",
    "\n",
    "precision_score(y_true, y_pred)"
   ]
  },
  {
   "cell_type": "markdown",
   "id": "926e44d1-799e-4ba4-a1fd-162bd17dca5b",
   "metadata": {},
   "source": [
    "Balanced Accuracy Score\n",
    "---"
   ]
  },
  {
   "cell_type": "markdown",
   "id": "a7addbeb-3fe8-4668-b370-ecb50a43b8d8",
   "metadata": {},
   "source": [
    "Esta medida es facilmente interpretada a partir de la matriz de confusión:\n",
    "\n",
    "             | Pronóstico\n",
    "             |  PP    PN\n",
    "    ---------|------------\n",
    "          P  |  TP    FN \n",
    "    Real     |\n",
    "          N  |  FP    TN "
   ]
  },
  {
   "cell_type": "markdown",
   "id": "76e34080-f2cb-4b2b-ac34-5d29ffbd1c76",
   "metadata": {},
   "source": [
    "$$\n",
    "\\text{balanced_accuracy} = \n",
    "\\frac{1}{2} \n",
    "\\left(\n",
    "\\frac{\\text{TP}}{\\text{P}} \n",
    "+\n",
    "\\frac{\\text{TN}}{\\text{N}}\n",
    "\\right)\n",
    "=\n",
    "\\frac{1}{2}\n",
    "\\left(\n",
    "\\frac{\\text{TP}}{\\text{TP}+\\text{FN}}\n",
    "+\n",
    "\\frac{\\text{TN}}{\\text{TN}+\\text{FP}}\n",
    "\\right)\n",
    "=\n",
    "\\frac{1}{2}\n",
    "\\left(\n",
    "\\text{TPR} + \\text{TNR}\n",
    "\\right)\n",
    "$$"
   ]
  },
  {
   "cell_type": "markdown",
   "id": "8d8fab7f-5653-4f3a-82dd-8f8fb517d61e",
   "metadata": {},
   "source": [
    "* Esta métrica permite corregir cómputos erroneos sobre la precisón de un clasifidor cuando las clases están imbalanceadas.\n",
    "\n",
    "* Cuando la muestra está balanceada equivale a la métrica `accuracy`."
   ]
  },
  {
   "cell_type": "code",
   "execution_count": 6,
   "id": "cc463f65-ca23-4b56-a458-1036765f2a2d",
   "metadata": {},
   "outputs": [
    {
     "data": {
      "text/plain": [
       "0.7333333333333333"
      ]
     },
     "metadata": {},
     "output_type": "display_data"
    },
    {
     "data": {
      "text/plain": [
       "0.5795454545454546"
      ]
     },
     "metadata": {},
     "output_type": "display_data"
    }
   ],
   "source": [
    "from sklearn.metrics import balanced_accuracy_score\n",
    "\n",
    "#\n",
    "#    15 | PP=2  PF=13\n",
    "# ------|-------------\n",
    "#  P=4  |    1      3\n",
    "#  F=11 |    1     10\n",
    "#\n",
    "\n",
    "display(\n",
    "    accuracy_score(\n",
    "        y_true=y_true,\n",
    "        y_pred=y_pred,\n",
    "        normalize=True,\n",
    "    ),\n",
    "    balanced_accuracy_score(\n",
    "        y_true,\n",
    "        y_pred,\n",
    "    ),\n",
    ")"
   ]
  },
  {
   "cell_type": "markdown",
   "id": "9ddc20bb-cd74-4a4f-9858-7efc61526113",
   "metadata": {
    "tags": []
   },
   "source": [
    "F1 Score\n",
    "---"
   ]
  },
  {
   "cell_type": "markdown",
   "id": "6f8791be-c77b-4ef8-a04b-61e83a236612",
   "metadata": {},
   "source": [
    "Es el promedio ponderado entre la precisión (precision_score) y la sensibilidad (recall):"
   ]
  },
  {
   "cell_type": "markdown",
   "id": "c54a9a3a-9fba-4161-bbed-75d2c8fda487",
   "metadata": {},
   "source": [
    "$$\n",
    "F_1 = 2 * \\frac{\\text{precision_score} \\times \\text{recall_score}}\n",
    "{\\text{precision_score} + \\text{recall_score}}\n",
    "$$"
   ]
  },
  {
   "cell_type": "markdown",
   "id": "90cf8f47-6762-4662-9a2d-e76e2c62d0cf",
   "metadata": {},
   "source": [
    "             | Pronóstico\n",
    "             |  PP    PN\n",
    "    ---------|------------\n",
    "          P  |  TP    FN \n",
    "    Real     |\n",
    "          N  |  FP    TN "
   ]
  },
  {
   "cell_type": "markdown",
   "id": "4c9d39a1-e306-43b0-ace0-96fd5bb69e3b",
   "metadata": {},
   "source": [
    "$$\n",
    "\\text{precision_score}\n",
    "=\\frac{\\text{TP}}{\\text{PP}}\n",
    "=\\frac{\\text{TP}}{\\text{TP} +\\text{FP}}\n",
    "$$"
   ]
  },
  {
   "cell_type": "markdown",
   "id": "817b322d-27ec-4061-a6a7-931ff0ff4f74",
   "metadata": {},
   "source": [
    "$$\n",
    "\\text{recall_score} =\n",
    "\\text{TPR}=\\frac{\\text{TP}}{\\text{P}}=\\frac{\\text{TP}}{\\text{TP}+\\text{FN}}\n",
    "$$"
   ]
  },
  {
   "cell_type": "markdown",
   "id": "9fc6b6be-b097-4ff2-bc2b-938156e4578a",
   "metadata": {},
   "source": [
    "\n",
    "        15 | PP=2  PF=13                    1                    1\n",
    "     ------|-------------    precision = ------- ;   recall = -------\n",
    "      P=4  |    1      3                  1 + 1                1 + 3\n",
    "      F=11 |    1     10\n",
    "\n",
    "\n",
    "                     0.5 * 0.25         0.125     0.25  \n",
    "     f1_score = 2 * ------------ = 2 * ------- = ------ \n",
    "                     0.5 + 0.25         0.75      0.75  "
   ]
  },
  {
   "cell_type": "code",
   "execution_count": 7,
   "id": "6b92952e-4d83-4289-b9ca-3562fc672902",
   "metadata": {},
   "outputs": [
    {
     "data": {
      "text/plain": [
       "0.3333333333333333"
      ]
     },
     "execution_count": 7,
     "metadata": {},
     "output_type": "execute_result"
    }
   ],
   "source": [
    "from sklearn.metrics import f1_score\n",
    "\n",
    "f1_score(y_true, y_pred, \"binary\")"
   ]
  },
  {
   "cell_type": "markdown",
   "id": "2d6275b1-cd79-4ac7-960f-5fd189da27ac",
   "metadata": {},
   "source": [
    "F-beta Score\n",
    "---"
   ]
  },
  {
   "cell_type": "markdown",
   "id": "07af397b-2cdc-4eb3-844f-00d96aa5775d",
   "metadata": {},
   "source": [
    "Es la media armónica ponderada entre la precisión y la sensibilidad, la cual toma valores entre 0 (peor) y 1 (mejor). Para $\\beta$ < 1 favorece la precisión, mientras que para $\\beta$ > 1 favorece la sensibilidad.\n",
    "\n",
    "$$\n",
    "F_\\beta = (1 + \\beta^2) \n",
    "\\frac{\\text{precision} \\times \\text{recall}}\n",
    "{\\beta^2 \\text{precision} + \\text{recall}}\n",
    "$$"
   ]
  },
  {
   "cell_type": "markdown",
   "id": "df3b8cfb-1765-413b-b79e-62e68c60e560",
   "metadata": {},
   "source": [
    "             | Pronóstico\n",
    "             |  PP    PN\n",
    "    ---------|------------\n",
    "          P  |  TP    FN \n",
    "    Real     |\n",
    "          N  |  FP    TN "
   ]
  },
  {
   "cell_type": "markdown",
   "id": "eae12836-6114-42c0-98ae-0ec84b97b110",
   "metadata": {},
   "source": [
    "$$\n",
    "\\text{precision_score}\n",
    "=\\frac{\\text{TP}}{\\text{PP}}\n",
    "=\\frac{\\text{TP}}{\\text{TP} +\\text{FP}}\n",
    "$$"
   ]
  },
  {
   "cell_type": "markdown",
   "id": "36470891-969c-456f-a4d5-7b4a25711286",
   "metadata": {},
   "source": [
    "$$\n",
    "\\text{recall_score} =\n",
    "\\text{TPR}=\\frac{\\text{TP}}{\\text{P}}=\\frac{\\text{TP}}{\\text{TP}+\\text{FN}}\n",
    "$$"
   ]
  },
  {
   "cell_type": "markdown",
   "id": "4925a981-6a9d-4f78-907b-4af583c911f2",
   "metadata": {},
   "source": [
    "\n",
    "        15 | PP=2  PF=13                    1                    1\n",
    "     ------|-------------    precision = ------- ;   recall = -------\n",
    "      P=4  |    1      3                  1 + 1                1 + 3\n",
    "      F=11 |    1     10\n",
    "      \n",
    "                                  0.5 * 0.25            (1+beta^2) * 0.125\n",
    "      f_beta = (1+beta^2) ------------------------- = ---------------------\n",
    "                           (1+beta^2) * 0.5 + 0.25       0.5 beta^2 + 0.75"
   ]
  },
  {
   "cell_type": "code",
   "execution_count": 8,
   "id": "b6b5b24d-35c9-41f4-afda-4bbbad98f9cf",
   "metadata": {},
   "outputs": [
    {
     "data": {
      "text/plain": [
       "0.4166666666666667"
      ]
     },
     "metadata": {},
     "output_type": "display_data"
    },
    {
     "data": {
      "text/plain": [
       "0.31443298969072164"
      ]
     },
     "metadata": {},
     "output_type": "display_data"
    }
   ],
   "source": [
    "from sklearn.metrics import fbeta_score\n",
    "\n",
    "display(\n",
    "    fbeta_score(y_true, y_pred, beta=0.5),\n",
    "    fbeta_score(y_true, y_pred, beta=1.2),\n",
    ")"
   ]
  },
  {
   "cell_type": "markdown",
   "id": "e0b50e42-f4db-42dc-b17e-993e94669e0e",
   "metadata": {},
   "source": [
    "Classification report\n",
    "---"
   ]
  },
  {
   "cell_type": "code",
   "execution_count": 9,
   "id": "1e8219eb-4183-4679-8775-03770287c300",
   "metadata": {},
   "outputs": [
    {
     "name": "stdout",
     "output_type": "stream",
     "text": [
      "              precision    recall  f1-score   support\n",
      "\n",
      "           0       0.77      0.91      0.83        11\n",
      "           1       0.50      0.25      0.33         4\n",
      "\n",
      "    accuracy                           0.73        15\n",
      "   macro avg       0.63      0.58      0.58        15\n",
      "weighted avg       0.70      0.73      0.70        15\n",
      "\n"
     ]
    }
   ],
   "source": [
    "from sklearn.metrics import classification_report\n",
    "\n",
    "print(classification_report(y_true, y_pred))"
   ]
  }
 ],
 "metadata": {
  "kernelspec": {
   "display_name": "Python 3",
   "language": "python",
   "name": "python3"
  },
  "language_info": {
   "codemirror_mode": {
    "name": "ipython",
    "version": 3
   },
   "file_extension": ".py",
   "mimetype": "text/x-python",
   "name": "python",
   "nbconvert_exporter": "python",
   "pygments_lexer": "ipython3",
   "version": "3.6.9"
  }
 },
 "nbformat": 4,
 "nbformat_minor": 5
}
