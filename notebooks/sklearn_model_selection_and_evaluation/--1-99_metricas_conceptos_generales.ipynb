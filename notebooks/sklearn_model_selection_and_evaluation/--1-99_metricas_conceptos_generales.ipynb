{
 "cells": [
  {
   "cell_type": "markdown",
   "id": "656a5cbf-fa0d-4493-9c5b-0380cc331e4d",
   "metadata": {
    "tags": []
   },
   "source": [
    "Conceptos generales sobre métricas\n",
    "===\n",
    "\n",
    "* 5:00 min | Ultima modificación: Junio 22, 2019 | [YouTube]"
   ]
  },
  {
   "cell_type": "markdown",
   "id": "6afcc451-5544-400e-9b28-16f1f56a5ab4",
   "metadata": {},
   "source": [
    "Tipos de métricas\n",
    "---"
   ]
  },
  {
   "cell_type": "markdown",
   "id": "e48228be-f22b-4b57-91c2-08511d5e565a",
   "metadata": {},
   "source": [
    "*  Score implementado para cada estimador: todos los estimadores tienen su propio método de  `score` implementado, el cual cual corresponde al criterio de evaluación por defecto para el tipo de problema que resuelve."
   ]
  },
  {
   "cell_type": "markdown",
   "id": "79e6286e-8622-44fc-b54b-469daeb64485",
   "metadata": {},
   "source": [
    "* Parámetro de `scoring`: Las técnicas que usan cross-validation (GridSearchCV(), cross_val_score, ....) usan una estrategia interna para evaluar el score."
   ]
  },
  {
   "cell_type": "markdown",
   "id": "8d057ec9-4dca-4070-a023-7fae7ecd9587",
   "metadata": {},
   "source": [
    "* Métricas: Se implementan funciones para calcula el error de predicción para un un objetivo específico."
   ]
  },
  {
   "cell_type": "code",
   "execution_count": null,
   "id": "222ae16b-cdc5-47ab-9ec6-8549f805f61c",
   "metadata": {},
   "outputs": [],
   "source": []
  }
 ],
 "metadata": {
  "kernelspec": {
   "display_name": "Python 3",
   "language": "python",
   "name": "python3"
  },
  "language_info": {
   "codemirror_mode": {
    "name": "ipython",
    "version": 3
   },
   "file_extension": ".py",
   "mimetype": "text/x-python",
   "name": "python",
   "nbconvert_exporter": "python",
   "pygments_lexer": "ipython3",
   "version": "3.6.9"
  }
 },
 "nbformat": 4,
 "nbformat_minor": 5
}
