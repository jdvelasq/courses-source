{
 "cells": [
  {
   "cell_type": "markdown",
   "id": "da1d2b57-7f9c-4dae-bf77-001f95a1c2cd",
   "metadata": {
    "tags": []
   },
   "source": [
    "Accuracy y Accuracy Balanced scores\n",
    "===\n",
    "\n",
    "* 5:00 min | Ultima modificación: Junio 22, 2019 | [YouTube]"
   ]
  },
  {
   "cell_type": "markdown",
   "id": "ddda0c80-e772-4672-a166-a1eb8c4654e3",
   "metadata": {},
   "source": [
    "Accuracy Classification Score\n",
    "---"
   ]
  },
  {
   "cell_type": "markdown",
   "id": "179a3e77-58d9-4760-a706-68629368ca51",
   "metadata": {},
   "source": [
    "Cómputa la cantidad o porcentaje de predicciones correctas."
   ]
  },
  {
   "cell_type": "markdown",
   "id": "3f793bf7-4416-4061-9e08-6041b46992f1",
   "metadata": {},
   "source": [
    "$$\n",
    "\\text{accuracy}(y, \\hat{y}) = \\frac{1}{n} \\sum_{i=0}^{n-1} 1(\\hat{y}_i=y_i)\n",
    "$$"
   ]
  },
  {
   "cell_type": "markdown",
   "id": "2202320f-c9df-42fb-937c-2b70d3f1c279",
   "metadata": {},
   "source": [
    "con"
   ]
  },
  {
   "cell_type": "markdown",
   "id": "9b99a38c-9787-4f33-9245-820c8228964c",
   "metadata": {},
   "source": [
    "$$\n",
    "1_A(x)=\n",
    "\\begin{cases}\n",
    "    1 & \\text{si } x \\in A \\\\\n",
    "    0 & \\text{si } x \\notin A \n",
    "\\end{cases}\n",
    "$$"
   ]
  },
  {
   "cell_type": "code",
   "execution_count": 1,
   "id": "8cfbb900-14cf-4344-8dfb-a35181d186b6",
   "metadata": {},
   "outputs": [
    {
     "data": {
      "text/plain": [
       "0.6"
      ]
     },
     "execution_count": 1,
     "metadata": {},
     "output_type": "execute_result"
    }
   ],
   "source": [
    "import numpy as np\n",
    "from sklearn.metrics import accuracy_score\n",
    "\n",
    "y_true = [0, 0, 1, 1, 2]\n",
    "y_pred = [0, 1, 0, 1, 2]\n",
    "\n",
    "accuracy_score(\n",
    "    y_true=y_true, \n",
    "    y_pred=y_pred,\n",
    "    normalize=True,\n",
    ")"
   ]
  },
  {
   "cell_type": "code",
   "execution_count": 2,
   "id": "265ecbdf-1023-4d08-8a28-65cbae9699b4",
   "metadata": {},
   "outputs": [
    {
     "data": {
      "text/plain": [
       "3"
      ]
     },
     "execution_count": 2,
     "metadata": {},
     "output_type": "execute_result"
    }
   ],
   "source": [
    "accuracy_score(\n",
    "    y_true=y_true, \n",
    "    y_pred=y_pred,\n",
    "    normalize=False,\n",
    ")"
   ]
  },
  {
   "cell_type": "markdown",
   "id": "f53efe48-6c84-4197-b924-2119cc475893",
   "metadata": {},
   "source": [
    "Balanced Accuracy Classification Score\n",
    "---"
   ]
  },
  {
   "cell_type": "markdown",
   "id": "6fd6e1e7-4cc5-41b7-96df-4127ae52d20d",
   "metadata": {},
   "source": [
    "Esta medida es facilmente interpretada a partir de la matriz de confusión:\n",
    "\n",
    "             | Pronostico\n",
    "             |  P     N\n",
    "    ---------|------------  \n",
    "          P  |  TP    FN          \n",
    "    Real     |\n",
    "          N  |  FP    TN\n",
    "    \n",
    "    TP - Verdadero positivo (correcto)\n",
    "    TN - Verdadero negativo (correcto)\n",
    "    FN - Falso negativo (mal clasificado)\n",
    "    FP - Falso positivo (mal clasificado)\n",
    "    "
   ]
  },
  {
   "cell_type": "markdown",
   "id": "84491106-7a8f-42e8-a645-46353f913e01",
   "metadata": {},
   "source": [
    "$$\n",
    "\\text{balanced_accuracy} = \n",
    "\\frac{1}{2}\n",
    "\\left(\n",
    "\\frac{TP}{TP+FN}\n",
    "+\n",
    "\\frac{TN}{TN+FP}\n",
    "\\right)\n",
    "$$"
   ]
  },
  {
   "cell_type": "markdown",
   "id": "44c8d0f4-061d-40c1-a479-730d1e5d17e5",
   "metadata": {},
   "source": [
    "* Esta métrica permite corregir cómputos erroneos sobre la precisón de un clasifidor cuando las clases están imbalanceadas.\n",
    "\n",
    "* Cuando la muestra está balanceada equivale a la métrica `accuracy`."
   ]
  },
  {
   "cell_type": "markdown",
   "id": "e97b1c72-ed38-4b53-adc3-bfde44c705ea",
   "metadata": {},
   "source": [
    "En términos de la muestra se define como:"
   ]
  },
  {
   "cell_type": "markdown",
   "id": "1b0689ea-4e6a-431c-9622-262cfaf9887a",
   "metadata": {},
   "source": [
    "$$\n",
    "\\text{balanced_accuracy} = \n",
    "\\frac{1}{\\sum \\hat{w}_i}\n",
    "\\sum_{i=0}^{n-1} 1(\\hat{y}_i=y_i) \\hat{w}_i\n",
    "$$"
   ]
  },
  {
   "cell_type": "markdown",
   "id": "d30f8156-3979-40a5-9385-6f2d7144c202",
   "metadata": {},
   "source": [
    "con:"
   ]
  },
  {
   "cell_type": "markdown",
   "id": "5c8b39a2-4939-4354-9f9e-7ffd8e8549a3",
   "metadata": {},
   "source": [
    "$$\n",
    "\\hat{w}_i =\n",
    "\\frac{w_i}\n",
    "{\\sum_j 1(y_j=y_i) w_j} \n",
    "$$"
   ]
  },
  {
   "cell_type": "code",
   "execution_count": 3,
   "id": "124d46dd-ce49-4705-b51d-5eb347f4f3a5",
   "metadata": {},
   "outputs": [
    {
     "data": {
      "text/plain": [
       "0.7333333333333333"
      ]
     },
     "metadata": {},
     "output_type": "display_data"
    },
    {
     "data": {
      "text/plain": [
       "0.5795454545454546"
      ]
     },
     "metadata": {},
     "output_type": "display_data"
    }
   ],
   "source": [
    "from sklearn.metrics import balanced_accuracy_score\n",
    "\n",
    "y_true = [0, 1, 0, 0, 1, 0, 0, 0, 0, 1, 0, 1, 0, 0, 0]\n",
    "y_pred = [0, 1, 0, 0, 0, 1, 0, 0, 0, 0, 0, 0, 0, 0, 0]\n",
    "\n",
    "display(\n",
    "    accuracy_score(\n",
    "        y_true=y_true, \n",
    "        y_pred=y_pred,\n",
    "        normalize=True,\n",
    "    ),\n",
    "    balanced_accuracy_score(\n",
    "        y_true,\n",
    "        y_pred,\n",
    "    ),\n",
    ")"
   ]
  }
 ],
 "metadata": {
  "kernelspec": {
   "display_name": "Python 3",
   "language": "python",
   "name": "python3"
  },
  "language_info": {
   "codemirror_mode": {
    "name": "ipython",
    "version": 3
   },
   "file_extension": ".py",
   "mimetype": "text/x-python",
   "name": "python",
   "nbconvert_exporter": "python",
   "pygments_lexer": "ipython3",
   "version": "3.6.9"
  }
 },
 "nbformat": 4,
 "nbformat_minor": 5
}
