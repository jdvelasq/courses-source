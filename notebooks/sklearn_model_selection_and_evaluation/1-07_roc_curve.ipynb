{
 "cells": [
  {
   "cell_type": "markdown",
   "id": "9f757b92-3b1f-48ca-ba05-543cf8166fec",
   "metadata": {
    "tags": []
   },
   "source": [
    "Curva ROC\n",
    "===\n",
    "\n",
    "* 5:00 min | Ultima modificación: Junio 22, 2019 | [YouTube]"
   ]
  },
  {
   "cell_type": "markdown",
   "id": "4d19f187-f17c-4f07-a751-75f43bae8bed",
   "metadata": {},
   "source": [
    "Es un gráfica que muestra el desempeño un clasificador binario cuando se varía la frontera de decisión. La curva se construye al graficar la tasa de verdaderos positivos vs la tasa de falsos positivos, al variar dicha frontera de decisión."
   ]
  },
  {
   "cell_type": "code",
   "execution_count": 1,
   "id": "ab1e7d00-7e11-48b0-9595-b4c78759d1b2",
   "metadata": {},
   "outputs": [
    {
     "data": {
      "text/plain": [
       "array([0. , 0. , 0.5, 0.5, 1. ])"
      ]
     },
     "execution_count": 1,
     "metadata": {},
     "output_type": "execute_result"
    }
   ],
   "source": [
    "import numpy as np\n",
    "from sklearn.metrics import roc_curve\n",
    "\n",
    "y = np.array([1, 1, 2, 2])\n",
    "scores = np.array([0.1, 0.4, 0.35, 0.8])\n",
    "\n",
    "# tpr: true positive rate\n",
    "# fpr: false positive rate\n",
    "fpr, tpr, thresholds = roc_curve(y, scores, pos_label=2)\n",
    "fpr"
   ]
  },
  {
   "cell_type": "code",
   "execution_count": 2,
   "id": "31acedd3-75f3-4121-954b-5930b1e752b9",
   "metadata": {},
   "outputs": [
    {
     "data": {
      "text/plain": [
       "array([0. , 0.5, 0.5, 1. , 1. ])"
      ]
     },
     "execution_count": 2,
     "metadata": {},
     "output_type": "execute_result"
    }
   ],
   "source": [
    "tpr"
   ]
  },
  {
   "cell_type": "code",
   "execution_count": 3,
   "id": "bfeb5ee7-97ad-4e1b-8258-9e6f95a4a2e6",
   "metadata": {},
   "outputs": [
    {
     "data": {
      "text/plain": [
       "array([1.8 , 0.8 , 0.4 , 0.35, 0.1 ])"
      ]
     },
     "execution_count": 3,
     "metadata": {},
     "output_type": "execute_result"
    }
   ],
   "source": [
    "thresholds"
   ]
  },
  {
   "cell_type": "code",
   "execution_count": 4,
   "id": "4ad31648-fac4-484e-90dd-ed4a6b33cd73",
   "metadata": {},
   "outputs": [
    {
     "data": {
      "image/png": "[encoded data removed]",
      "text/plain": [
       "<Figure size 432x288 with 1 Axes>"
      ]
     },
     "metadata": {
      "needs_background": "light"
     },
     "output_type": "display_data"
    }
   ],
   "source": [
    "import matplotlib.pyplot as plt\n",
    "\n",
    "\n",
    "plt.plot(fpr, tpr, color='tab:orange')\n",
    "plt.plot([0, 1], [0, 1], '--k')\n",
    "plt.show()"
   ]
  }
 ],
 "metadata": {
  "kernelspec": {
   "display_name": "Python 3",
   "language": "python",
   "name": "python3"
  },
  "language_info": {
   "codemirror_mode": {
    "name": "ipython",
    "version": 3
   },
   "file_extension": ".py",
   "mimetype": "text/x-python",
   "name": "python",
   "nbconvert_exporter": "python",
   "pygments_lexer": "ipython3",
   "version": "3.6.9"
  }
 },
 "nbformat": 4,
 "nbformat_minor": 5
}
