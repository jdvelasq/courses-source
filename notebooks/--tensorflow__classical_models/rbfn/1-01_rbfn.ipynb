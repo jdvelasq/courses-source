{
 "cells": [
  {
   "cell_type": "markdown",
   "id": "bdb236f3-1241-4fb6-88ca-0d8e702a1d8c",
   "metadata": {},
   "source": [
    "Radial Basis Functions Network\n",
    "===\n",
    "\n",
    "* 41:42 min | Última modificación: Mayo 31, 2021 | [YouTube]"
   ]
  },
  {
   "cell_type": "code",
   "execution_count": 1,
   "id": "1004be85-e105-40b1-a882-9d57aa4a7307",
   "metadata": {},
   "outputs": [],
   "source": [
    "import warnings\n",
    "\n",
    "warnings.filterwarnings(\"ignore\")"
   ]
  },
  {
   "cell_type": "markdown",
   "id": "e48d796b-8772-4911-b928-d242e9ad9471",
   "metadata": {},
   "source": [
    "## Definición"
   ]
  },
  {
   "cell_type": "markdown",
   "id": "60220128-7571-4f32-bd0b-1e78805fccbc",
   "metadata": {},
   "source": [
    "$$\n",
    "y = \\sum_h w_h \\exp( -\\beta || \\mathbf{x} - \\mathbf{c} || ) \n",
    "$$"
   ]
  },
  {
   "cell_type": "markdown",
   "id": "a82c30b4-cd64-4ed0-a84a-2dd0d82cb2cb",
   "metadata": {},
   "source": [
    "## Caso de aplicación"
   ]
  },
  {
   "cell_type": "code",
   "execution_count": 2,
   "id": "7c56e612-0cd2-4835-a37e-e00e36198a30",
   "metadata": {},
   "outputs": [
    {
     "data": {
      "text/html": [
       "<div>\n",
       "<style scoped>\n",
       "    .dataframe tbody tr th:only-of-type {\n",
       "        vertical-align: middle;\n",
       "    }\n",
       "\n",
       "    .dataframe tbody tr th {\n",
       "        vertical-align: top;\n",
       "    }\n",
       "\n",
       "    .dataframe thead th {\n",
       "        text-align: right;\n",
       "    }\n",
       "</style>\n",
       "<table border=\"1\" class=\"dataframe\">\n",
       "  <thead>\n",
       "    <tr style=\"text-align: right;\">\n",
       "      <th></th>\n",
       "      <th>Sepal_Length</th>\n",
       "      <th>Sepal_Width</th>\n",
       "      <th>Petal_Length</th>\n",
       "      <th>Petal_Width</th>\n",
       "      <th>Species</th>\n",
       "    </tr>\n",
       "  </thead>\n",
       "  <tbody>\n",
       "    <tr>\n",
       "      <th>0</th>\n",
       "      <td>5.1</td>\n",
       "      <td>3.5</td>\n",
       "      <td>1.4</td>\n",
       "      <td>0.2</td>\n",
       "      <td>setosa</td>\n",
       "    </tr>\n",
       "    <tr>\n",
       "      <th>1</th>\n",
       "      <td>4.9</td>\n",
       "      <td>3.0</td>\n",
       "      <td>1.4</td>\n",
       "      <td>0.2</td>\n",
       "      <td>setosa</td>\n",
       "    </tr>\n",
       "    <tr>\n",
       "      <th>2</th>\n",
       "      <td>4.7</td>\n",
       "      <td>3.2</td>\n",
       "      <td>1.3</td>\n",
       "      <td>0.2</td>\n",
       "      <td>setosa</td>\n",
       "    </tr>\n",
       "    <tr>\n",
       "      <th>3</th>\n",
       "      <td>4.6</td>\n",
       "      <td>3.1</td>\n",
       "      <td>1.5</td>\n",
       "      <td>0.2</td>\n",
       "      <td>setosa</td>\n",
       "    </tr>\n",
       "    <tr>\n",
       "      <th>4</th>\n",
       "      <td>5.0</td>\n",
       "      <td>3.6</td>\n",
       "      <td>1.4</td>\n",
       "      <td>0.2</td>\n",
       "      <td>setosa</td>\n",
       "    </tr>\n",
       "  </tbody>\n",
       "</table>\n",
       "</div>"
      ],
      "text/plain": [
       "   Sepal_Length  Sepal_Width  Petal_Length  Petal_Width Species\n",
       "0           5.1          3.5           1.4          0.2  setosa\n",
       "1           4.9          3.0           1.4          0.2  setosa\n",
       "2           4.7          3.2           1.3          0.2  setosa\n",
       "3           4.6          3.1           1.5          0.2  setosa\n",
       "4           5.0          3.6           1.4          0.2  setosa"
      ]
     },
     "execution_count": 2,
     "metadata": {},
     "output_type": "execute_result"
    }
   ],
   "source": [
    "import pandas as pd\n",
    "\n",
    "df = pd.read_csv(\n",
    "    \"https://raw.githubusercontent.com/jdvelasq/datalabs/master/datasets/iris.csv\",\n",
    "    sep=\",\",  \n",
    "    thousands=None,\n",
    "    decimal=\".\",\n",
    ")  \n",
    "\n",
    "df.head()"
   ]
  },
  {
   "cell_type": "markdown",
   "id": "ef71bf1f-8f78-4459-b00b-f3a58b7dd9d4",
   "metadata": {},
   "source": [
    "## Preparación de los datos"
   ]
  },
  {
   "cell_type": "code",
   "execution_count": 3,
   "id": "642ec1a8-be08-4c20-bcac-91831674c3f1",
   "metadata": {},
   "outputs": [
    {
     "data": {
      "image/png": "[encoded data removed]",
      "text/plain": [
       "<Figure size 720x432 with 1 Axes>"
      ]
     },
     "metadata": {
      "needs_background": "light"
     },
     "output_type": "display_data"
    }
   ],
   "source": [
    "import matplotlib.pyplot as plt\n",
    "import seaborn as sns\n",
    "\n",
    "#\n",
    "# Los rangos de las variables numéricas son\n",
    "# bastantes diferentes\n",
    "#\n",
    "plt.figure(figsize=(10, 6))\n",
    "sns.boxplot(data=df)\n",
    "plt.xticks(rotation=90);"
   ]
  },
  {
   "cell_type": "code",
   "execution_count": 4,
   "id": "a9ead6d9-52f9-481a-910f-9cdfc4710d1e",
   "metadata": {},
   "outputs": [],
   "source": [
    "X_train = df.copy()\n",
    "y_train_true = X_train.pop(\"Species\")"
   ]
  },
  {
   "cell_type": "code",
   "execution_count": 5,
   "id": "fc3852cd-e6cc-4628-84de-b09f19a99257",
   "metadata": {},
   "outputs": [
    {
     "data": {
      "image/png": "[encoded data removed]",
      "text/plain": [
       "<Figure size 720x432 with 1 Axes>"
      ]
     },
     "metadata": {
      "needs_background": "light"
     },
     "output_type": "display_data"
    }
   ],
   "source": [
    "from sklearn.preprocessing import MinMaxScaler\n",
    "\n",
    "#\n",
    "#  Se escalan todas las variables al rango [0, 1]\n",
    "#  para evitar problemas asociados a la escala\n",
    "#\n",
    "scaler = MinMaxScaler()\n",
    "X_train_norm = pd.DataFrame(scaler.fit_transform(X_train), columns=X_train.columns)\n",
    "\n",
    "plt.figure(figsize=(10, 6))\n",
    "sns.boxplot(data=X_train_norm)\n",
    "plt.xticks(rotation=90);"
   ]
  },
  {
   "cell_type": "code",
   "execution_count": 6,
   "id": "bb5faea7-c7fc-4808-9fd5-09693ad713d7",
   "metadata": {},
   "outputs": [
    {
     "data": {
      "text/plain": [
       "0    0\n",
       "1    0\n",
       "2    0\n",
       "3    0\n",
       "4    0\n",
       "Name: Species, dtype: int64"
      ]
     },
     "execution_count": 6,
     "metadata": {},
     "output_type": "execute_result"
    }
   ],
   "source": [
    "y_train_true = y_train_true.map(lambda w: {'setosa': 0, 'virginica': 1, 'versicolor': 2}[w])\n",
    "y_train_true.head()"
   ]
  },
  {
   "cell_type": "code",
   "execution_count": 7,
   "id": "7c6e0d34-d211-4d29-b261-6f4b3c4b518a",
   "metadata": {},
   "outputs": [
    {
     "data": {
      "text/plain": [
       "145    1\n",
       "146    1\n",
       "147    1\n",
       "148    1\n",
       "149    1\n",
       "Name: Species, dtype: int64"
      ]
     },
     "execution_count": 7,
     "metadata": {},
     "output_type": "execute_result"
    }
   ],
   "source": [
    "y_train_true.tail()"
   ]
  },
  {
   "cell_type": "markdown",
   "id": "1211c272-807a-4818-afef-128fdce59fa5",
   "metadata": {},
   "source": [
    "## Modelo"
   ]
  },
  {
   "cell_type": "code",
   "execution_count": 14,
   "id": "830d7845-3ea2-4f07-831d-94c6df89a470",
   "metadata": {},
   "outputs": [
    {
     "name": "stdout",
     "output_type": "stream",
     "text": [
      "Features: [[0.22222222 0.625      0.06779661 0.04166667]], Target: [0]\n",
      "Features: [[0.16666667 0.41666667 0.06779661 0.04166667]], Target: [0]\n",
      "Features: [[0.11111111 0.5        0.05084746 0.04166667]], Target: [0]\n",
      "Features: [[0.08333333 0.45833333 0.08474576 0.04166667]], Target: [0]\n",
      "Features: [[0.19444444 0.66666667 0.06779661 0.04166667]], Target: [0]\n"
     ]
    }
   ],
   "source": [
    "import tensorflow as tf\n",
    "\n",
    "dataset_train = tf.data.Dataset.from_tensor_slices(\n",
    "    (X_train_norm.values, y_train_true.values)\n",
    ").batch(1)\n",
    "\n",
    "for feat, targ in dataset_train.take(5):\n",
    "    print ('Features: {}, Target: {}'.format(feat, targ))"
   ]
  },
  {
   "cell_type": "markdown",
   "id": "911201e1-804b-47e1-a791-d1fd0c7802cb",
   "metadata": {},
   "source": [
    "## Modelo general"
   ]
  },
  {
   "cell_type": "code",
   "execution_count": 15,
   "id": "f8783d26-7ed9-4793-b316-82634eda96c5",
   "metadata": {},
   "outputs": [],
   "source": [
    "from tensorflow.keras import backend as K\n",
    "\n",
    "class RBFLayer(tf.keras.layers.Layer):\n",
    "    def __init__(self, units, gamma, name=\"rbf_layer\", **kwargs):\n",
    "        super(RBFLayer, self).__init__(name=name, **kwargs)\n",
    "        self.units = units\n",
    "        self.gamma = K.cast_to_floatx(gamma)\n",
    "\n",
    "    def build(self, input_shape):\n",
    "        self.mu = self.add_weight(\n",
    "            name=\"mu\",\n",
    "            shape=(int(input_shape[1]), self.units),\n",
    "            initializer=\"uniform\",\n",
    "            trainable=True,\n",
    "        )\n",
    "        super(RBFLayer, self).build(input_shape)\n",
    "        \n",
    "    def call(self, inputs):\n",
    "        diff = K.expand_dims(inputs) - self.mu\n",
    "        l2 = K.sum(K.pow(diff, 2), axis=1)\n",
    "        out = K.exp(-1 * self.gamma * l2)\n",
    "        return out\n",
    "    \n",
    "    def compute_output_shape(self, input_shape):\n",
    "        return (input_shape[0], self.units)"
   ]
  },
  {
   "cell_type": "code",
   "execution_count": 16,
   "id": "98b92d8b-a77b-4f27-9d07-cf621d9638a8",
   "metadata": {},
   "outputs": [],
   "source": [
    "def create_and_evaluate(h):\n",
    "    model = tf.keras.Sequential()\n",
    "    model.add(RBFLayer(units=h, gamma=0.5))\n",
    "    model.add(tf.keras.layers.Dense(1, use_bias=False))\n",
    "    model.compile(optimizer=\"adam\", loss=\"mean_squared_error\")\n",
    "    model.fit(dataset_train, epochs=20, verbose=0)\n",
    "    return model.evaluate(dataset_train, verbose=0)"
   ]
  },
  {
   "cell_type": "markdown",
   "id": "f694f30e-dbce-48b8-9721-7a64ada5c1fb",
   "metadata": {},
   "source": [
    "## Modelos"
   ]
  },
  {
   "cell_type": "code",
   "execution_count": 17,
   "id": "e0793686-47c9-4b3d-b63d-888378d1792b",
   "metadata": {},
   "outputs": [],
   "source": [
    "#\n",
    "# Diccionario para guardar los resultados para cada modelo\n",
    "#\n",
    "results = {}"
   ]
  },
  {
   "cell_type": "code",
   "execution_count": 22,
   "id": "ee73c057-030a-4e10-9dd1-dc524ffc278f",
   "metadata": {},
   "outputs": [],
   "source": [
    "for h in range(1, 10):\n",
    "    results[\"H={}\".format(h)] = create_and_evaluate(h)"
   ]
  },
  {
   "cell_type": "markdown",
   "id": "f46e356a-0756-407e-b7f6-f75c676c9cb4",
   "metadata": {},
   "source": [
    "## Resultados"
   ]
  },
  {
   "cell_type": "code",
   "execution_count": 23,
   "id": "021970c1-c9ca-44b8-ae98-fc85963ea3ff",
   "metadata": {},
   "outputs": [
    {
     "data": {
      "text/plain": [
       "{'H=1': 1.6832853555679321,\n",
       " 'H=2': 0.3467676639556885,\n",
       " 'H=3': 0.26804354786872864,\n",
       " 'H=4': 0.2315817028284073,\n",
       " 'H=5': 0.21333031356334686,\n",
       " 'H=6': 0.19825662672519684,\n",
       " 'H=7': 0.19077588617801666,\n",
       " 'H=8': 0.18663306534290314,\n",
       " 'H=9': 0.20315112173557281}"
      ]
     },
     "execution_count": 23,
     "metadata": {},
     "output_type": "execute_result"
    }
   ],
   "source": [
    "results"
   ]
  },
  {
   "cell_type": "code",
   "execution_count": 25,
   "id": "887cf410-f0aa-4fe2-bedc-7dc8b9f9e7ea",
   "metadata": {},
   "outputs": [
    {
     "data": {
      "text/plain": [
       "array([[0.36490247],\n",
       "       [0.5416397 ],\n",
       "       [0.4101744 ],\n",
       "       [0.46956468],\n",
       "       [0.31039423],\n",
       "       [0.3529658 ],\n",
       "       [0.36412373],\n",
       "       [0.40808955],\n",
       "       [0.4989843 ],\n",
       "       [0.48163965],\n",
       "       [0.34068406],\n",
       "       [0.39472446],\n",
       "       [0.4893034 ],\n",
       "       [0.3533485 ],\n",
       "       [0.22945747],\n",
       "       [0.17569327],\n",
       "       [0.29312208],\n",
       "       [0.39824784],\n",
       "       [0.398292  ],\n",
       "       [0.29319602],\n",
       "       [0.4966484 ],\n",
       "       [0.36447194],\n",
       "       [0.18689519],\n",
       "       [0.5991758 ],\n",
       "       [0.44414243],\n",
       "       [0.59248173],\n",
       "       [0.49215147],\n",
       "       [0.39530736],\n",
       "       [0.41997868],\n",
       "       [0.46185023],\n",
       "       [0.51952124],\n",
       "       [0.5302744 ],\n",
       "       [0.13490608],\n",
       "       [0.15283683],\n",
       "       [0.51784074],\n",
       "       [0.4392444 ],\n",
       "       [0.40217784],\n",
       "       [0.26273298],\n",
       "       [0.44128552],\n",
       "       [0.4225855 ],\n",
       "       [0.36739135],\n",
       "       [0.7617327 ],\n",
       "       [0.3611086 ],\n",
       "       [0.51255715],\n",
       "       [0.38537344],\n",
       "       [0.56154084],\n",
       "       [0.2770794 ],\n",
       "       [0.41130346],\n",
       "       [0.3277123 ],\n",
       "       [0.43257242]], dtype=float32)"
      ]
     },
     "execution_count": 25,
     "metadata": {},
     "output_type": "execute_result"
    }
   ],
   "source": [
    "H_OPT = 6\n",
    "\n",
    "model = tf.keras.Sequential()\n",
    "model.add(RBFLayer(units=H_OPT, gamma=0.5))\n",
    "model.add(tf.keras.layers.Dense(1, use_bias=False))\n",
    "model.compile(optimizer=\"adam\", loss=\"mean_squared_error\")\n",
    "model.fit(dataset_train, epochs=20, verbose=0)\n",
    "y = model.predict(dataset_train)\n",
    "y[0:50]"
   ]
  },
  {
   "cell_type": "code",
   "execution_count": 26,
   "id": "2134e95c-605a-4980-a138-b6e3cc1c0b23",
   "metadata": {},
   "outputs": [
    {
     "data": {
      "text/plain": [
       "array([[1.2520281],\n",
       "       [1.2770954],\n",
       "       [1.3136126],\n",
       "       [1.5642669],\n",
       "       [1.4524027],\n",
       "       [1.4282722],\n",
       "       [1.2438893],\n",
       "       [1.3350649],\n",
       "       [1.3967894],\n",
       "       [1.3887393],\n",
       "       [1.496742 ],\n",
       "       [1.3456142],\n",
       "       [1.5804024],\n",
       "       [1.4177132],\n",
       "       [1.3033996],\n",
       "       [1.3020864],\n",
       "       [1.3491755],\n",
       "       [1.4037266],\n",
       "       [1.6599728],\n",
       "       [1.4685122],\n",
       "       [1.2882893],\n",
       "       [1.4080244],\n",
       "       [1.5813233],\n",
       "       [1.4426916],\n",
       "       [1.3867936],\n",
       "       [1.3506563],\n",
       "       [1.4390348],\n",
       "       [1.3710345],\n",
       "       [1.4110588],\n",
       "       [1.3779731],\n",
       "       [1.4865236],\n",
       "       [1.4582429],\n",
       "       [1.4185795],\n",
       "       [1.515995 ],\n",
       "       [1.3334241],\n",
       "       [1.1839298],\n",
       "       [1.3203231],\n",
       "       [1.6164727],\n",
       "       [1.3049514],\n",
       "       [1.4960432],\n",
       "       [1.4772413],\n",
       "       [1.3690608],\n",
       "       [1.4672167],\n",
       "       [1.3850135],\n",
       "       [1.4427402],\n",
       "       [1.3074688],\n",
       "       [1.3646413],\n",
       "       [1.3884081],\n",
       "       [1.3088975],\n",
       "       [1.4001714]], dtype=float32)"
      ]
     },
     "execution_count": 26,
     "metadata": {},
     "output_type": "execute_result"
    }
   ],
   "source": [
    "y[50:100]"
   ]
  },
  {
   "cell_type": "code",
   "execution_count": 27,
   "id": "43225e82-1837-47bf-9ed5-c9c0926e912f",
   "metadata": {},
   "outputs": [
    {
     "data": {
      "text/plain": [
       "array([[1.1582882 ],\n",
       "       [1.495252  ],\n",
       "       [1.293475  ],\n",
       "       [1.4291296 ],\n",
       "       [1.3293347 ],\n",
       "       [1.1983786 ],\n",
       "       [1.4782385 ],\n",
       "       [1.3262295 ],\n",
       "       [1.5438913 ],\n",
       "       [0.98280066],\n",
       "       [1.2774997 ],\n",
       "       [1.4930207 ],\n",
       "       [1.3294759 ],\n",
       "       [1.5476679 ],\n",
       "       [1.3783247 ],\n",
       "       [1.2415808 ],\n",
       "       [1.3815963 ],\n",
       "       [0.87981606],\n",
       "       [1.2430836 ],\n",
       "       [1.6776216 ],\n",
       "       [1.2088957 ],\n",
       "       [1.4341707 ],\n",
       "       [1.2533792 ],\n",
       "       [1.5005128 ],\n",
       "       [1.213915  ],\n",
       "       [1.2356519 ],\n",
       "       [1.4616382 ],\n",
       "       [1.3830364 ],\n",
       "       [1.428434  ],\n",
       "       [1.32867   ],\n",
       "       [1.3437793 ],\n",
       "       [0.88483125],\n",
       "       [1.4112478 ],\n",
       "       [1.4748714 ],\n",
       "       [1.5549246 ],\n",
       "       [1.1709994 ],\n",
       "       [1.1436349 ],\n",
       "       [1.3437726 ],\n",
       "       [1.3790867 ],\n",
       "       [1.2826219 ],\n",
       "       [1.244713  ],\n",
       "       [1.249951  ],\n",
       "       [1.495252  ],\n",
       "       [1.2131146 ],\n",
       "       [1.1460897 ],\n",
       "       [1.3041041 ],\n",
       "       [1.562139  ],\n",
       "       [1.3621104 ],\n",
       "       [1.1626511 ],\n",
       "       [1.3854591 ]], dtype=float32)"
      ]
     },
     "execution_count": 27,
     "metadata": {},
     "output_type": "execute_result"
    }
   ],
   "source": [
    "y[100:]"
   ]
  },
  {
   "cell_type": "code",
   "execution_count": null,
   "id": "7480a99a-dad1-4ac8-b29c-22cd5b4d78c0",
   "metadata": {},
   "outputs": [],
   "source": []
  }
 ],
 "metadata": {
  "kernelspec": {
   "display_name": "Python 3",
   "language": "python",
   "name": "python3"
  },
  "language_info": {
   "codemirror_mode": {
    "name": "ipython",
    "version": 3
   },
   "file_extension": ".py",
   "mimetype": "text/x-python",
   "name": "python",
   "nbconvert_exporter": "python",
   "pygments_lexer": "ipython3",
   "version": "3.6.9"
  }
 },
 "nbformat": 4,
 "nbformat_minor": 5
}
