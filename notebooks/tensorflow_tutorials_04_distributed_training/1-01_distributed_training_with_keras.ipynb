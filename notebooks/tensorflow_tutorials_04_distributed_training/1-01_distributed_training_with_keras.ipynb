{
 "cells": [
  {
   "cell_type": "markdown",
   "id": "e2bdc127-ea9d-4fc9-ba7b-3b5407f2d857",
   "metadata": {
    "tags": []
   },
   "source": [
    "Entrenamiento distribuido con Keras --- 0:00 min\n",
    "===\n",
    "\n",
    "* Última modificación: Marzo 1, 2022 | YouTube"
   ]
  },
  {
   "cell_type": "markdown",
   "id": "dbeb43ab-0ec7-4638-b991-a156116bdd83",
   "metadata": {
    "tags": []
   },
   "source": [
    "Importación de librerías\n",
    "---"
   ]
  },
  {
   "cell_type": "code",
   "execution_count": 1,
   "id": "6324e454-e892-41dd-b978-7f48cb35a10d",
   "metadata": {},
   "outputs": [],
   "source": [
    "import os\n",
    "\n",
    "os.environ[\"TF_CPP_MIN_LOG_LEVEL\"] = \"2\"\n",
    "\n",
    "import tensorflow as tf\n",
    "import tensorflow_datasets as tfds\n",
    "\n",
    "%load_ext tensorboard"
   ]
  },
  {
   "cell_type": "markdown",
   "id": "27f2b37d-8ecb-45d8-bb3f-bf76d9a5898f",
   "metadata": {},
   "source": [
    "Descarga del dataset\n",
    "---"
   ]
  },
  {
   "cell_type": "code",
   "execution_count": 2,
   "id": "718c181d-89f1-4df5-82f5-f02645830c11",
   "metadata": {},
   "outputs": [],
   "source": [
    "datasets, info = tfds.load(\n",
    "    name=\"mnist\",\n",
    "    with_info=True,\n",
    "    as_supervised=True,\n",
    ")\n",
    "\n",
    "mnist_train, mnist_test = datasets[\"train\"], datasets[\"test\"]"
   ]
  },
  {
   "cell_type": "markdown",
   "id": "8041f3a8-de51-451a-8761-dc33f2ef9edb",
   "metadata": {},
   "source": [
    "Definición de la estrategia de distribución\n",
    "---"
   ]
  },
  {
   "cell_type": "code",
   "execution_count": 3,
   "id": "e9eb83e4-64d6-43e0-9761-3c6ff57faada",
   "metadata": {},
   "outputs": [
    {
     "name": "stdout",
     "output_type": "stream",
     "text": [
      "WARNING:tensorflow:There are non-GPU devices in `tf.distribute.Strategy`, not using nccl allreduce.\n"
     ]
    },
    {
     "name": "stderr",
     "output_type": "stream",
     "text": [
      "WARNING:tensorflow:There are non-GPU devices in `tf.distribute.Strategy`, not using nccl allreduce.\n"
     ]
    },
    {
     "name": "stdout",
     "output_type": "stream",
     "text": [
      "INFO:tensorflow:Using MirroredStrategy with devices ('/job:localhost/replica:0/task:0/device:CPU:0',)\n"
     ]
    },
    {
     "name": "stderr",
     "output_type": "stream",
     "text": [
      "INFO:tensorflow:Using MirroredStrategy with devices ('/job:localhost/replica:0/task:0/device:CPU:0',)\n"
     ]
    },
    {
     "name": "stdout",
     "output_type": "stream",
     "text": [
      "Number of devices: 1\n"
     ]
    }
   ],
   "source": [
    "strategy = tf.distribute.MirroredStrategy()\n",
    "\n",
    "print(\"Number of devices: {}\".format(strategy.num_replicas_in_sync))"
   ]
  },
  {
   "cell_type": "markdown",
   "id": "9aaf8c2e-3e0b-4e50-9abe-9e65d84d66df",
   "metadata": {},
   "source": [
    "Tubería de entrada\n",
    "---"
   ]
  },
  {
   "cell_type": "code",
   "execution_count": 4,
   "id": "27d7a00a-f43f-4e61-8af6-5946e65ad483",
   "metadata": {},
   "outputs": [],
   "source": [
    "num_train_examples = info.splits[\"train\"].num_examples\n",
    "num_test_examples = info.splits[\"test\"].num_examples\n",
    "\n",
    "BUFFER_SIZE = 10000\n",
    "\n",
    "BATCH_SIZE_PER_REPLICA = 64\n",
    "BATCH_SIZE = BATCH_SIZE_PER_REPLICA * strategy.num_replicas_in_sync"
   ]
  },
  {
   "cell_type": "code",
   "execution_count": 5,
   "id": "d1154b66-cc77-49a2-9e8e-4a5128b9cb1a",
   "metadata": {},
   "outputs": [],
   "source": [
    "def scale(image, label):\n",
    "    image = tf.cast(image, tf.float32)\n",
    "    image /= 255\n",
    "\n",
    "    return image, label"
   ]
  },
  {
   "cell_type": "code",
   "execution_count": 6,
   "id": "25887617-1d48-4613-b6a4-cc2139052bea",
   "metadata": {},
   "outputs": [],
   "source": [
    "train_dataset = mnist_train.map(scale).cache().shuffle(BUFFER_SIZE).batch(BATCH_SIZE)"
   ]
  },
  {
   "cell_type": "code",
   "execution_count": 7,
   "id": "95d8a4bd-bcf4-49c5-b791-de3e565e317d",
   "metadata": {},
   "outputs": [],
   "source": [
    "eval_dataset = mnist_test.map(scale).batch(BATCH_SIZE)"
   ]
  },
  {
   "cell_type": "markdown",
   "id": "83ebb9a6-4762-4f9b-bfa0-a2e352c4b62c",
   "metadata": {},
   "source": [
    "Creación del modelo\n",
    "---"
   ]
  },
  {
   "cell_type": "code",
   "execution_count": 8,
   "id": "524b7dfa-12c0-4d70-9d38-1ceb906ddb02",
   "metadata": {},
   "outputs": [],
   "source": [
    "with strategy.scope():\n",
    "    model = tf.keras.Sequential(\n",
    "        [\n",
    "            tf.keras.layers.Conv2D(32, 3, activation=\"relu\", input_shape=(28, 28, 1)),\n",
    "            tf.keras.layers.MaxPooling2D(),\n",
    "            tf.keras.layers.Flatten(),\n",
    "            tf.keras.layers.Dense(64, activation=\"relu\"),\n",
    "            tf.keras.layers.Dense(10),\n",
    "        ]\n",
    "    )\n",
    "\n",
    "    model.compile(\n",
    "        loss=tf.keras.losses.SparseCategoricalCrossentropy(from_logits=True),\n",
    "        optimizer=tf.keras.optimizers.Adam(),\n",
    "        metrics=[\"accuracy\"],\n",
    "    )"
   ]
  },
  {
   "cell_type": "markdown",
   "id": "5a374f8b-dcc0-4427-9538-c9279ee482c1",
   "metadata": {},
   "source": [
    "Definición de los callbacks\n",
    "---"
   ]
  },
  {
   "cell_type": "code",
   "execution_count": 9,
   "id": "664103e7-20f8-40c6-a42c-3ce6d1944a7f",
   "metadata": {},
   "outputs": [],
   "source": [
    "#\n",
    "# Define el directorio para almacenar los checkpoints\n",
    "#\n",
    "checkpoint_dir = \"/tmp/distributed_training/training_checkpoints\"\n",
    "\n",
    "#\n",
    "# Define el nombre de los archivos\n",
    "#\n",
    "checkpoint_prefix = os.path.join(checkpoint_dir, \"ckpt_{epoch}\")"
   ]
  },
  {
   "cell_type": "code",
   "execution_count": 10,
   "id": "93de008a-acd8-4d2c-a1b3-f5278246df68",
   "metadata": {},
   "outputs": [],
   "source": [
    "#\n",
    "# Define la función para decrementar la tasa  de aprendizaje.\n",
    "#\n",
    "def decay(epoch):\n",
    "    if epoch < 3:\n",
    "        return 1e-3\n",
    "    elif epoch >= 3 and epoch < 7:\n",
    "        return 1e-4\n",
    "    else:\n",
    "        return 1e-5"
   ]
  },
  {
   "cell_type": "code",
   "execution_count": 11,
   "id": "eb99a724-2b8c-4767-a1ec-88f142961e23",
   "metadata": {},
   "outputs": [],
   "source": [
    "#\n",
    "# Define un callback para imprimir la tasa de aprendizaje el final de cada epoch.\n",
    "#\n",
    "class PrintLR(tf.keras.callbacks.Callback):\n",
    "    #\n",
    "    def on_epoch_end(self, epoch, logs=None):\n",
    "        print(\n",
    "            \"\\nLearning rate for epoch {} is {}\".format(\n",
    "                epoch + 1, model.optimizer.lr.numpy()\n",
    "            )\n",
    "        )"
   ]
  },
  {
   "cell_type": "code",
   "execution_count": 12,
   "id": "67d1e200-cb9c-4f75-bea5-1bf6e980f493",
   "metadata": {},
   "outputs": [],
   "source": [
    "#\n",
    "# Crea la lista de callbacks que se usarán en el modelo\n",
    "#\n",
    "callbacks = [\n",
    "    #\n",
    "    tf.keras.callbacks.TensorBoard(log_dir=\"/tmp/logs\"),\n",
    "    #\n",
    "    tf.keras.callbacks.ModelCheckpoint(\n",
    "        filepath=checkpoint_prefix, save_weights_only=True\n",
    "    ),\n",
    "    #\n",
    "    tf.keras.callbacks.LearningRateScheduler(decay),\n",
    "    #\n",
    "    PrintLR(),\n",
    "]"
   ]
  },
  {
   "cell_type": "markdown",
   "id": "b0c91308-e35f-4cb3-836c-49cd1ba4bfc2",
   "metadata": {},
   "source": [
    "Entrenamiento y evaluación\n",
    "---"
   ]
  },
  {
   "cell_type": "code",
   "execution_count": 13,
   "id": "c747d77f-1d45-4508-b8a9-0e3e465051d6",
   "metadata": {},
   "outputs": [
    {
     "name": "stdout",
     "output_type": "stream",
     "text": [
      "Epoch 1/12\n",
      "936/938 [============================>.] - ETA: 0s - loss: 0.2149 - accuracy: 0.9382\n",
      "Learning rate for epoch 1 is 0.0010000000474974513\n",
      "938/938 [==============================] - 14s 13ms/step - loss: 0.2146 - accuracy: 0.9382 - lr: 0.0010\n",
      "Epoch 2/12\n",
      "935/938 [============================>.] - ETA: 0s - loss: 0.0708 - accuracy: 0.9797\n",
      "Learning rate for epoch 2 is 0.0010000000474974513\n",
      "938/938 [==============================] - 8s 9ms/step - loss: 0.0708 - accuracy: 0.9797 - lr: 0.0010\n",
      "Epoch 3/12\n",
      "937/938 [============================>.] - ETA: 0s - loss: 0.0499 - accuracy: 0.9851\n",
      "Learning rate for epoch 3 is 0.0010000000474974513\n",
      "938/938 [==============================] - 8s 9ms/step - loss: 0.0500 - accuracy: 0.9851 - lr: 0.0010\n",
      "Epoch 4/12\n",
      "932/938 [============================>.] - ETA: 0s - loss: 0.0274 - accuracy: 0.9927\n",
      "Learning rate for epoch 4 is 9.999999747378752e-05\n",
      "938/938 [==============================] - 9s 9ms/step - loss: 0.0273 - accuracy: 0.9927 - lr: 1.0000e-04\n",
      "Epoch 5/12\n",
      "938/938 [==============================] - ETA: 0s - loss: 0.0242 - accuracy: 0.9937\n",
      "Learning rate for epoch 5 is 9.999999747378752e-05\n",
      "938/938 [==============================] - 9s 9ms/step - loss: 0.0242 - accuracy: 0.9937 - lr: 1.0000e-04\n",
      "Epoch 6/12\n",
      "937/938 [============================>.] - ETA: 0s - loss: 0.0224 - accuracy: 0.9939\n",
      "Learning rate for epoch 6 is 9.999999747378752e-05\n",
      "938/938 [==============================] - 8s 9ms/step - loss: 0.0224 - accuracy: 0.9939 - lr: 1.0000e-04\n",
      "Epoch 7/12\n",
      "934/938 [============================>.] - ETA: 0s - loss: 0.0208 - accuracy: 0.9946\n",
      "Learning rate for epoch 7 is 9.999999747378752e-05\n",
      "938/938 [==============================] - 9s 9ms/step - loss: 0.0208 - accuracy: 0.9946 - lr: 1.0000e-04\n",
      "Epoch 8/12\n",
      "935/938 [============================>.] - ETA: 0s - loss: 0.0181 - accuracy: 0.9959\n",
      "Learning rate for epoch 8 is 9.999999747378752e-06\n",
      "938/938 [==============================] - 9s 9ms/step - loss: 0.0181 - accuracy: 0.9959 - lr: 1.0000e-05\n",
      "Epoch 9/12\n",
      "936/938 [============================>.] - ETA: 0s - loss: 0.0178 - accuracy: 0.9959\n",
      "Learning rate for epoch 9 is 9.999999747378752e-06\n",
      "938/938 [==============================] - 9s 9ms/step - loss: 0.0178 - accuracy: 0.9959 - lr: 1.0000e-05\n",
      "Epoch 10/12\n",
      "934/938 [============================>.] - ETA: 0s - loss: 0.0175 - accuracy: 0.9959\n",
      "Learning rate for epoch 10 is 9.999999747378752e-06\n",
      "938/938 [==============================] - 9s 9ms/step - loss: 0.0176 - accuracy: 0.9959 - lr: 1.0000e-05\n",
      "Epoch 11/12\n",
      "935/938 [============================>.] - ETA: 0s - loss: 0.0174 - accuracy: 0.9961\n",
      "Learning rate for epoch 11 is 9.999999747378752e-06\n",
      "938/938 [==============================] - 9s 9ms/step - loss: 0.0174 - accuracy: 0.9961 - lr: 1.0000e-05\n",
      "Epoch 12/12\n",
      "938/938 [==============================] - ETA: 0s - loss: 0.0172 - accuracy: 0.9961\n",
      "Learning rate for epoch 12 is 9.999999747378752e-06\n",
      "938/938 [==============================] - 9s 10ms/step - loss: 0.0172 - accuracy: 0.9961 - lr: 1.0000e-05\n"
     ]
    },
    {
     "data": {
      "text/plain": [
       "<keras.callbacks.History at 0x7f5079fb5040>"
      ]
     },
     "execution_count": 13,
     "metadata": {},
     "output_type": "execute_result"
    }
   ],
   "source": [
    "EPOCHS = 12\n",
    "\n",
    "#\n",
    "# Entrenamiento\n",
    "#\n",
    "model.fit(\n",
    "    train_dataset,\n",
    "    epochs=EPOCHS,\n",
    "    callbacks=callbacks,\n",
    ")"
   ]
  },
  {
   "cell_type": "code",
   "execution_count": 14,
   "id": "18f09cde-ee20-4fe7-b521-52dee13a5de5",
   "metadata": {},
   "outputs": [
    {
     "name": "stdout",
     "output_type": "stream",
     "text": [
      "checkpoint\t\t     ckpt_4.data-00000-of-00001\n",
      "ckpt_1.data-00000-of-00001   ckpt_4.index\n",
      "ckpt_1.index\t\t     ckpt_5.data-00000-of-00001\n",
      "ckpt_10.data-00000-of-00001  ckpt_5.index\n",
      "ckpt_10.index\t\t     ckpt_6.data-00000-of-00001\n",
      "ckpt_11.data-00000-of-00001  ckpt_6.index\n",
      "ckpt_11.index\t\t     ckpt_7.data-00000-of-00001\n",
      "ckpt_12.data-00000-of-00001  ckpt_7.index\n",
      "ckpt_12.index\t\t     ckpt_8.data-00000-of-00001\n",
      "ckpt_2.data-00000-of-00001   ckpt_8.index\n",
      "ckpt_2.index\t\t     ckpt_9.data-00000-of-00001\n",
      "ckpt_3.data-00000-of-00001   ckpt_9.index\n",
      "ckpt_3.index\n"
     ]
    }
   ],
   "source": [
    "#\n",
    "# Directorio con los checkpoints\n",
    "#\n",
    "!ls {checkpoint_dir}"
   ]
  },
  {
   "cell_type": "code",
   "execution_count": 15,
   "id": "c001570f-d933-4842-947a-3e61bb44099d",
   "metadata": {},
   "outputs": [
    {
     "name": "stdout",
     "output_type": "stream",
     "text": [
      "157/157 [==============================] - 2s 10ms/step - loss: 0.0415 - accuracy: 0.9857\n",
      "Eval loss: 0.04153656214475632, Eval accuracy: 0.9857000112533569\n"
     ]
    }
   ],
   "source": [
    "#\n",
    "# Evaluación\n",
    "#\n",
    "\n",
    "model.load_weights(tf.train.latest_checkpoint(checkpoint_dir))\n",
    "\n",
    "eval_loss, eval_acc = model.evaluate(eval_dataset)\n",
    "\n",
    "print(\"Eval loss: {}, Eval accuracy: {}\".format(eval_loss, eval_acc))"
   ]
  },
  {
   "cell_type": "markdown",
   "id": "b96f6a6a-0563-474f-89c5-412387c92d4b",
   "metadata": {},
   "source": [
    "Para lanzar TensorBoard use:\n",
    "\n",
    "```python\n",
    "%tensorboard --logdir=logs\n",
    "```"
   ]
  },
  {
   "cell_type": "markdown",
   "id": "fc84e971-7e64-4e7b-91ad-70ef0cc298f1",
   "metadata": {},
   "source": [
    "![tensorboard_distributed_training_with_keras](assets/tensorboard_distributed_training_with_keras.png)"
   ]
  },
  {
   "cell_type": "code",
   "execution_count": 16,
   "id": "c4414c70-137d-47d1-aed0-106d9e40a223",
   "metadata": {},
   "outputs": [
    {
     "data": {
      "text/html": [
       "\n",
       "      <iframe id=\"tensorboard-frame-f2372eb1335a4e99\" width=\"100%\" height=\"800\" frameborder=\"0\">\n",
       "      </iframe>\n",
       "      <script>\n",
       "        (function() {\n",
       "          const frame = document.getElementById(\"tensorboard-frame-f2372eb1335a4e99\");\n",
       "          const url = new URL(\"/\", window.location);\n",
       "          const port = 6006;\n",
       "          if (port) {\n",
       "            url.port = port;\n",
       "          }\n",
       "          frame.src = url;\n",
       "        })();\n",
       "      </script>\n",
       "    "
      ],
      "text/plain": [
       "<IPython.core.display.HTML object>"
      ]
     },
     "metadata": {},
     "output_type": "display_data"
    }
   ],
   "source": [
    "%tensorboard --logdir /tmp/logs/"
   ]
  },
  {
   "cell_type": "markdown",
   "id": "7611cd29-2e79-4cb5-b264-642f819efcd4",
   "metadata": {},
   "source": [
    "Exportación del modelo\n",
    "---"
   ]
  },
  {
   "cell_type": "code",
   "execution_count": 18,
   "id": "6703cb1c-8ffd-40e4-8888-c8c8838fccf9",
   "metadata": {},
   "outputs": [
    {
     "name": "stdout",
     "output_type": "stream",
     "text": [
      "INFO:tensorflow:Assets written to: /tmp/saved_model/assets\n"
     ]
    },
    {
     "name": "stderr",
     "output_type": "stream",
     "text": [
      "INFO:tensorflow:Assets written to: /tmp/saved_model/assets\n"
     ]
    }
   ],
   "source": [
    "path = '/tmp/saved_model/'\n",
    "\n",
    "model.save(path, save_format='tf')"
   ]
  },
  {
   "cell_type": "code",
   "execution_count": 19,
   "id": "075fc645-15fd-4977-9346-0da9e341a185",
   "metadata": {},
   "outputs": [
    {
     "name": "stdout",
     "output_type": "stream",
     "text": [
      "157/157 [==============================] - 1s 7ms/step - loss: 0.0415 - accuracy: 0.9857\n",
      "Eval loss: 0.04153656214475632, Eval Accuracy: 0.9857000112533569\n"
     ]
    }
   ],
   "source": [
    "#\n",
    "# Carga desde el directorio\n",
    "#\n",
    "unreplicated_model = tf.keras.models.load_model(path)\n",
    "\n",
    "unreplicated_model.compile(\n",
    "    loss=tf.keras.losses.SparseCategoricalCrossentropy(from_logits=True),\n",
    "    optimizer=tf.keras.optimizers.Adam(),\n",
    "    metrics=['accuracy'])\n",
    "\n",
    "eval_loss, eval_acc = unreplicated_model.evaluate(eval_dataset)\n",
    "\n",
    "print('Eval loss: {}, Eval Accuracy: {}'.format(eval_loss, eval_acc))"
   ]
  }
 ],
 "metadata": {
  "kernelspec": {
   "display_name": "Python 3 (ipykernel)",
   "language": "python",
   "name": "python3"
  },
  "language_info": {
   "codemirror_mode": {
    "name": "ipython",
    "version": 3
   },
   "file_extension": ".py",
   "mimetype": "text/x-python",
   "name": "python",
   "nbconvert_exporter": "python",
   "pygments_lexer": "ipython3",
   "version": "3.9.10"
  }
 },
 "nbformat": 4,
 "nbformat_minor": 5
}
