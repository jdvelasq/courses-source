{
 "cells": [
  {
   "cell_type": "markdown",
   "id": "7cd43e73-150d-4465-9a53-b5faf09d335a",
   "metadata": {
    "tags": []
   },
   "source": [
    "Remotos\n",
    "===\n",
    "\n",
    "* Última modificación: Mayo  14, 2022"
   ]
  },
  {
   "cell_type": "markdown",
   "id": "0b3ce6cc-df14-448c-a994-9c8c27a24e15",
   "metadata": {},
   "source": [
    "Preparación del proyecto\n",
    "--"
   ]
  },
  {
   "cell_type": "code",
   "execution_count": 1,
   "id": "41399d51-78de-4427-a116-857eef9866a6",
   "metadata": {},
   "outputs": [
    {
     "name": "stdout",
     "output_type": "stream",
     "text": [
      "/workspace/git-demo\n"
     ]
    }
   ],
   "source": [
    "!rm -rf git-demo\n",
    "!mkdir git-demo\n",
    "%cd git-demo"
   ]
  },
  {
   "cell_type": "code",
   "execution_count": 2,
   "id": "bc041e0d-945d-4292-a218-0bc0d6612ff4",
   "metadata": {},
   "outputs": [
    {
     "name": "stdout",
     "output_type": "stream",
     "text": [
      "Initialized empty Git repository in /workspace/git-demo/.git/\n"
     ]
    }
   ],
   "source": [
    "!git init"
   ]
  },
  {
   "cell_type": "markdown",
   "id": "5c91a21d-ee5b-4962-a5b0-6de04e7aeb2c",
   "metadata": {},
   "source": [
    "Remotos configurados\n",
    "--"
   ]
  },
  {
   "cell_type": "code",
   "execution_count": 3,
   "id": "efc12666-abf8-44aa-b2c4-0992a1c39914",
   "metadata": {},
   "outputs": [],
   "source": [
    "# no hay remotos\n",
    "!git remote"
   ]
  },
  {
   "cell_type": "markdown",
   "id": "db95d58d-6165-46d1-ab5c-a3b59b773c3c",
   "metadata": {},
   "source": [
    "Clonación\n",
    "---"
   ]
  },
  {
   "cell_type": "code",
   "execution_count": 4,
   "id": "04ea52ea-7d0a-40e6-b129-e1a1ed4ea4b3",
   "metadata": {},
   "outputs": [
    {
     "name": "stdout",
     "output_type": "stream",
     "text": [
      "Cloning into 'git-demo-remote-1'...\n",
      "remote: Enumerating objects: 5, done.\u001b[K\n",
      "remote: Counting objects: 100% (5/5), done.\u001b[K\n",
      "remote: Compressing objects: 100% (3/3), done.\u001b[K\n",
      "remote: Total 5 (delta 0), reused 0 (delta 0), pack-reused 0\u001b[K\n",
      "Unpacking objects: 100% (5/5), 1.20 KiB | 32.00 KiB/s, done.\n"
     ]
    }
   ],
   "source": [
    "!git clone https://github.com/jdvelasq/git-demo-remote-1"
   ]
  },
  {
   "cell_type": "code",
   "execution_count": 5,
   "id": "4f989770-8274-4c23-b7ae-4a71da7a801d",
   "metadata": {},
   "outputs": [
    {
     "name": "stdout",
     "output_type": "stream",
     "text": [
      "/workspace/git-demo/git-demo-remote-1\n"
     ]
    }
   ],
   "source": [
    "%cd git-demo-remote-1"
   ]
  },
  {
   "cell_type": "code",
   "execution_count": 6,
   "id": "905e258a-51fd-48f8-a00f-a497464242c4",
   "metadata": {},
   "outputs": [
    {
     "name": "stdout",
     "output_type": "stream",
     "text": [
      "origin\n"
     ]
    }
   ],
   "source": [
    "!git remote"
   ]
  },
  {
   "cell_type": "code",
   "execution_count": 7,
   "id": "312f16e0-f1b4-4f5f-a33c-3457798e8876",
   "metadata": {},
   "outputs": [
    {
     "name": "stdout",
     "output_type": "stream",
     "text": [
      "origin\thttps://github.com/jdvelasq/git-demo-remote-1 (fetch)\n",
      "origin\thttps://github.com/jdvelasq/git-demo-remote-1 (push)\n"
     ]
    }
   ],
   "source": [
    "!git remote -v"
   ]
  },
  {
   "cell_type": "code",
   "execution_count": 8,
   "id": "5bc95b4b-11f5-4f04-b06e-657d0b922d9a",
   "metadata": {},
   "outputs": [
    {
     "name": "stdout",
     "output_type": "stream",
     "text": [
      "/workspace/git-demo\n",
      "/workspace/git-demo\n"
     ]
    }
   ],
   "source": [
    "%cd ..\n",
    "!pwd"
   ]
  },
  {
   "cell_type": "code",
   "execution_count": 9,
   "id": "c4fd1ad4-d5a8-47fc-9bb0-4a6995f69392",
   "metadata": {},
   "outputs": [
    {
     "name": "stdout",
     "output_type": "stream",
     "text": [
      "Cloning into 'git-demo-remote-2'...\n",
      "remote: Enumerating objects: 5, done.\u001b[K\n",
      "remote: Counting objects: 100% (5/5), done.\u001b[K\n",
      "remote: Compressing objects: 100% (3/3), done.\u001b[K\n",
      "remote: Total 5 (delta 0), reused 0 (delta 0), pack-reused 0\u001b[K\n",
      "Unpacking objects: 100% (5/5), 1.20 KiB | 33.00 KiB/s, done.\n"
     ]
    }
   ],
   "source": [
    "!git clone https://github.com/jdvelasq/git-demo-remote-2"
   ]
  },
  {
   "cell_type": "code",
   "execution_count": 10,
   "id": "35ec55a0-f2d9-4642-83b2-497de97d9cef",
   "metadata": {},
   "outputs": [
    {
     "name": "stdout",
     "output_type": "stream",
     "text": [
      "/workspace/git-demo/git-demo-remote-2\n"
     ]
    }
   ],
   "source": [
    "%cd git-demo-remote-2"
   ]
  },
  {
   "cell_type": "code",
   "execution_count": 11,
   "id": "5cd676c6-f632-4f1c-bfb7-b22be1ffca1e",
   "metadata": {},
   "outputs": [
    {
     "name": "stdout",
     "output_type": "stream",
     "text": [
      "origin\thttps://github.com/jdvelasq/git-demo-remote-2 (fetch)\n",
      "origin\thttps://github.com/jdvelasq/git-demo-remote-2 (push)\n"
     ]
    }
   ],
   "source": [
    "!git remote -v"
   ]
  },
  {
   "cell_type": "markdown",
   "id": "cd903777-7829-499c-897a-2f3f50835458",
   "metadata": {},
   "source": [
    "Borrado de los folders\n",
    "---"
   ]
  },
  {
   "cell_type": "code",
   "execution_count": 12,
   "id": "23f05ce9-da58-47d3-b271-6e31fc596f39",
   "metadata": {},
   "outputs": [
    {
     "name": "stdout",
     "output_type": "stream",
     "text": [
      "/workspace/git-demo\n"
     ]
    }
   ],
   "source": [
    "%cd .."
   ]
  },
  {
   "cell_type": "code",
   "execution_count": 13,
   "id": "00e1dc95-8bb7-4bbc-b724-7904e4cda87d",
   "metadata": {},
   "outputs": [],
   "source": [
    "!rm -rf git-demo-remote-1 git-demo-remote-2"
   ]
  },
  {
   "cell_type": "markdown",
   "id": "37faad81-7b1f-41aa-903a-47f7d7c4bef3",
   "metadata": {},
   "source": [
    "Adición de un remoto\n",
    "--"
   ]
  },
  {
   "cell_type": "code",
   "execution_count": 14,
   "id": "9a5165a8-9df4-46d9-a6e3-40c62d24a4c3",
   "metadata": {},
   "outputs": [
    {
     "name": "stdout",
     "output_type": "stream",
     "text": [
      "pb\thttps://github.com/jdvelasq/git-demo-remote-1 (fetch)\n",
      "pb\thttps://github.com/jdvelasq/git-demo-remote-1 (push)\n"
     ]
    }
   ],
   "source": [
    "!git remote add pb https://github.com/jdvelasq/git-demo-remote-1\n",
    "!git remote -v"
   ]
  },
  {
   "cell_type": "markdown",
   "id": "da780e9b-5790-4f4b-a647-0961383f8fd7",
   "metadata": {},
   "source": [
    "Descarga de archivos del remoto\n",
    "--"
   ]
  },
  {
   "cell_type": "code",
   "execution_count": 15,
   "id": "c319d839-16b4-47ce-b574-0ca1999b00b8",
   "metadata": {},
   "outputs": [],
   "source": [
    "# La carpeta de trabajo esta vacia\n",
    "!ls -1"
   ]
  },
  {
   "cell_type": "code",
   "execution_count": 16,
   "id": "34416d5a-9534-4ba8-9561-05375441f28d",
   "metadata": {},
   "outputs": [
    {
     "name": "stdout",
     "output_type": "stream",
     "text": [
      "remote: Enumerating objects: 5, done.\u001b[K\n",
      "remote: Counting objects: 100% (5/5), done.\u001b[K\n",
      "remote: Compressing objects: 100% (3/3), done.\u001b[K\n",
      "remote: Total 5 (delta 0), reused 0 (delta 0), pack-reused 0\u001b[K\n",
      "Unpacking objects: 100% (5/5), 1.20 KiB | 35.00 KiB/s, done.\n",
      "From https://github.com/jdvelasq/git-demo-remote-1\n",
      " * branch            main       -> FETCH_HEAD\n",
      " * [new branch]      main       -> pb/main\n"
     ]
    }
   ],
   "source": [
    "# Se indica el remoto y la rama\n",
    "!git pull pb main"
   ]
  },
  {
   "cell_type": "code",
   "execution_count": 17,
   "id": "6d634150-bcca-4fc2-a7fd-70e65be29a2f",
   "metadata": {},
   "outputs": [
    {
     "name": "stdout",
     "output_type": "stream",
     "text": [
      "file_1.txt\n",
      "file_2.txt\n"
     ]
    }
   ],
   "source": [
    "!ls  -1"
   ]
  },
  {
   "cell_type": "markdown",
   "id": "268e070c-6647-41e4-a75f-e7726e5d5f96",
   "metadata": {},
   "source": [
    "Adición de archivos\n",
    "--"
   ]
  },
  {
   "cell_type": "code",
   "execution_count": 18,
   "id": "923da2fb-e625-4602-a0b9-a3e42593db89",
   "metadata": {},
   "outputs": [
    {
     "name": "stdout",
     "output_type": "stream",
     "text": [
      "[master a8a62d3] create new_file.txt\n",
      " 1 file changed, 0 insertions(+), 0 deletions(-)\n",
      " create mode 100644 new_file.txt\n"
     ]
    }
   ],
   "source": [
    "!touch new_file.txt\n",
    "!git add new_file.txt\n",
    "!git commit -m \"create new_file.txt\""
   ]
  },
  {
   "cell_type": "markdown",
   "id": "8bc0cbd0-26a2-438f-a2d7-1da672c87c74",
   "metadata": {},
   "source": [
    "```bash\n",
    "# Se sube\n",
    "!git push pb master\n",
    "```"
   ]
  },
  {
   "cell_type": "markdown",
   "id": "5ccc9ed5-3743-456d-bd89-fc5b6d238cc4",
   "metadata": {},
   "source": [
    "Inspección\n",
    "---"
   ]
  },
  {
   "cell_type": "code",
   "execution_count": 19,
   "id": "e2552b2d-7393-44ee-9a67-f8c90e2887fc",
   "metadata": {},
   "outputs": [
    {
     "name": "stdout",
     "output_type": "stream",
     "text": [
      "* remote pb\n",
      "  Fetch URL: https://github.com/jdvelasq/git-demo-remote-1\n",
      "  Push  URL: https://github.com/jdvelasq/git-demo-remote-1\n",
      "  HEAD branch: main\n",
      "  Remote branch:\n",
      "    main tracked\n"
     ]
    }
   ],
   "source": [
    "!git remote show pb"
   ]
  },
  {
   "cell_type": "markdown",
   "id": "db7183f5-508c-43fb-907f-47f68ce85fd6",
   "metadata": {},
   "source": [
    "Renombramiento y remoción de remotos\n",
    "---"
   ]
  },
  {
   "cell_type": "code",
   "execution_count": 20,
   "id": "a167cc55-6f8c-4e57-af06-4a30ca2c01d7",
   "metadata": {},
   "outputs": [
    {
     "name": "stdout",
     "output_type": "stream",
     "text": [
      "jdvelasq\thttps://github.com/jdvelasq/git-demo-remote-1 (fetch)\n",
      "jdvelasq\thttps://github.com/jdvelasq/git-demo-remote-1 (push)\n"
     ]
    }
   ],
   "source": [
    "!git remote rename pb jdvelasq\n",
    "!git remote -v "
   ]
  },
  {
   "cell_type": "code",
   "execution_count": 21,
   "id": "5a057468-e19c-4ace-86b0-318e68cb3830",
   "metadata": {},
   "outputs": [],
   "source": [
    "!git remote remove jdvelasq\n",
    "!git remote -v"
   ]
  },
  {
   "cell_type": "code",
   "execution_count": 22,
   "id": "50d236ec-4c6a-4c4f-86b8-ff7fad3270fd",
   "metadata": {},
   "outputs": [
    {
     "name": "stdout",
     "output_type": "stream",
     "text": [
      "/workspace\n"
     ]
    }
   ],
   "source": [
    "# --< Limpieza del área de trabajo >-------------------------------------------\n",
    "%cd ..\n",
    "!rm -rf git-demo"
   ]
  }
 ],
 "metadata": {
  "kernelspec": {
   "display_name": "Python 3 (ipykernel)",
   "language": "python",
   "name": "python3"
  },
  "language_info": {
   "codemirror_mode": {
    "name": "ipython",
    "version": 3
   },
   "file_extension": ".py",
   "mimetype": "text/x-python",
   "name": "python",
   "nbconvert_exporter": "python",
   "pygments_lexer": "ipython3",
   "version": "3.8.10"
  }
 },
 "nbformat": 4,
 "nbformat_minor": 5
}
