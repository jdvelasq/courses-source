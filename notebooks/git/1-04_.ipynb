{
 "cells": [
  {
   "cell_type": "markdown",
   "id": "108a9da7-0898-4ae2-af5a-77984a7008f7",
   "metadata": {
    "tags": []
   },
   "source": [
    "Historial de commits\n",
    "===\n",
    "\n",
    "* Última modificación: Mayo  14, 2022"
   ]
  },
  {
   "cell_type": "markdown",
   "id": "2b00ed1b-ca67-4933-9f07-311a473b5e47",
   "metadata": {},
   "source": [
    "Adaptado de: https://git-scm.com/book/en/v2/Git-Basics-Viewing-the-Commit-History"
   ]
  },
  {
   "cell_type": "markdown",
   "id": "dd24e2e1-4a8a-499d-ac99-0d2408d1a961",
   "metadata": {},
   "source": [
    "**Preparación del proyecto**"
   ]
  },
  {
   "cell_type": "code",
   "execution_count": 1,
   "id": "1be2835e-76e8-40c3-8369-9188ebf5b27c",
   "metadata": {},
   "outputs": [
    {
     "name": "stdout",
     "output_type": "stream",
     "text": [
      "/workspace/git/git-demo\n"
     ]
    }
   ],
   "source": [
    "!mkdir git-demo\n",
    "%cd git-demo"
   ]
  },
  {
   "cell_type": "code",
   "execution_count": 2,
   "id": "cc9f58ab-072e-4fe4-9bb9-9b8e2420bd14",
   "metadata": {},
   "outputs": [
    {
     "name": "stdout",
     "output_type": "stream",
     "text": [
      "Initialized empty Git repository in /workspace/git/git-demo/.git/\n",
      "[master (root-commit) fc94826] create file_1.txt file_2.txt files\n",
      " 2 files changed, 0 insertions(+), 0 deletions(-)\n",
      " create mode 100644 file_1.txt\n",
      " create mode 100644 file_2.txt\n"
     ]
    }
   ],
   "source": [
    "%%sh\n",
    "git init\n",
    "\n",
    "git config user.email \"you@example.com\"\n",
    "git config user.name \"john doe\"\n",
    "\n",
    "touch file_1.txt file_2.txt\n",
    "git add *.txt\n",
    "git commit -m 'create file_1.txt file_2.txt files'"
   ]
  },
  {
   "cell_type": "markdown",
   "id": "1772237b-6996-4ad6-9749-5b5c7fb22ce0",
   "metadata": {},
   "source": [
    "```\n",
    "Working      Staging    .git\n",
    "Tree         Area       directory\n",
    "-------------------------------------------------------------------------------------\n",
    "file_1.txt              ## create file_1.txt file_2.txt files\n",
    "  (emtpy)               file_1.txt \n",
    "file_2.txt                (empty) \n",
    "  (empty)               file_2.txt\n",
    "                          (empty)\n",
    "```"
   ]
  },
  {
   "cell_type": "code",
   "execution_count": 3,
   "id": "7a812db1-11d2-4426-8e00-6f39b296666c",
   "metadata": {},
   "outputs": [
    {
     "name": "stdout",
     "output_type": "stream",
     "text": [
      "[master 312c0b4] modify file_2.txt file\n",
      " 1 file changed, 1 insertion(+)\n"
     ]
    }
   ],
   "source": [
    "%%sh\n",
    "echo 'Hola mundo cruel!' > file_2.txt\n",
    "git add file_2.txt\n",
    "git commit -m 'modify file_2.txt file'"
   ]
  },
  {
   "cell_type": "markdown",
   "id": "f33c4b88-0b81-4d06-8064-d48c534d0a47",
   "metadata": {},
   "source": [
    "```\n",
    "Working                Staging    .git\n",
    "Tree                   Area       directory\n",
    "-------------------------------------------------------------------------------------\n",
    "file_1.txt                        ### create file_1.txt file_2.txt files\n",
    "  (emtpy)                         file_1.txt \n",
    "file_2.txt                          (empty) \n",
    "  Hola mundo cruel!               file_2.txt\n",
    "                                    (empty)\n",
    "                                  ### modify file_2.txt file\n",
    "                                  file_2.txt\n",
    "                                    Hola mundo cruel!\n",
    "```"
   ]
  },
  {
   "cell_type": "code",
   "execution_count": 4,
   "id": "132ab35c-279b-4225-8a39-19030034d6ae",
   "metadata": {},
   "outputs": [
    {
     "name": "stdout",
     "output_type": "stream",
     "text": [
      "[master e5d98b0] create .gitignore\n",
      " 1 file changed, 1 insertion(+)\n",
      " create mode 100644 .gitignore\n"
     ]
    }
   ],
   "source": [
    "%%sh\n",
    "touch file_to_ignore.txt\n",
    "echo \"file_to_ignore.txt\" > .gitignore\n",
    "git add .gitignore\n",
    "git commit -m 'create .gitignore'"
   ]
  },
  {
   "cell_type": "markdown",
   "id": "ff837fd4-822d-4b69-8e49-89e9f8c481e1",
   "metadata": {},
   "source": [
    "```\n",
    "Working                 Staging    .git\n",
    "Tree                    Area       directory\n",
    "-------------------------------------------------------------------------------------\n",
    "file_1.txt                         ### create file_1.txt file_2.txt files\n",
    "  (emtpy)                          file_1.txt \n",
    "file_2.txt                           (empty) \n",
    "  Hola mundo cruel!                file_2.txt\n",
    "file_to_ignore.txt                   (empty)\n",
    "  (empty)                          ### modify file_2.txt file\n",
    ".gitignore                         file_2.txt\n",
    "  file_to_ignore.txt                 Hola mundo cruel!\n",
    "                                   ### create .gitignore\n",
    "                                   .gitignore\n",
    "                                     file_to_ignore.txt\n",
    "```"
   ]
  },
  {
   "cell_type": "code",
   "execution_count": 5,
   "id": "d50040c6-516e-49b9-998b-778b6e6880db",
   "metadata": {},
   "outputs": [
    {
     "name": "stdout",
     "output_type": "stream",
     "text": [
      "\u001b[33mcommit e5d98b0e2eab98fe6af0380507197fb456491ea9\u001b[m\u001b[33m (\u001b[m\u001b[1;36mHEAD -> \u001b[m\u001b[1;32mmaster\u001b[m\u001b[33m)\u001b[m\n",
      "Author: john doe <you@example.com>\n",
      "Date:   Wed Jun 8 20:47:38 2022 +0000\n",
      "\n",
      "    create .gitignore\n",
      "\n",
      "\u001b[33mcommit 312c0b41dba7a8ff1f4b04949a19064b9bc73c63\u001b[m\n",
      "Author: john doe <you@example.com>\n",
      "Date:   Wed Jun 8 20:47:37 2022 +0000\n",
      "\n",
      "    modify file_2.txt file\n",
      "\n",
      "\u001b[33mcommit fc9482686d53e50f7bef2171211749bf5672d4b6\u001b[m\n",
      "Author: john doe <you@example.com>\n",
      "Date:   Wed Jun 8 20:47:37 2022 +0000\n",
      "\n",
      "    create file_1.txt file_2.txt files\n"
     ]
    }
   ],
   "source": [
    "!git log"
   ]
  },
  {
   "cell_type": "code",
   "execution_count": 6,
   "id": "e012c2d6-67b9-4d48-aaf5-44baf8666cb7",
   "metadata": {},
   "outputs": [
    {
     "name": "stdout",
     "output_type": "stream",
     "text": [
      "\u001b[33mcommit e5d98b0e2eab98fe6af0380507197fb456491ea9\u001b[m\u001b[33m (\u001b[m\u001b[1;36mHEAD -> \u001b[m\u001b[1;32mmaster\u001b[m\u001b[33m)\u001b[m\n",
      "Author: john doe <you@example.com>\n",
      "Date:   Wed Jun 8 20:47:38 2022 +0000\n",
      "\n",
      "    create .gitignore\n",
      "\n",
      "\u001b[1mdiff --git a/.gitignore b/.gitignore\u001b[m\n",
      "\u001b[1mnew file mode 100644\u001b[m\n",
      "\u001b[1mindex 0000000..7a6b6a0\u001b[m\n",
      "\u001b[1m--- /dev/null\u001b[m\n",
      "\u001b[1m+++ b/.gitignore\u001b[m\n",
      "\u001b[36m@@ -0,0 +1 @@\u001b[m\n",
      "\u001b[32m+\u001b[m\u001b[32mfile_to_ignore.txt\u001b[m\n",
      "\n",
      "\u001b[33mcommit 312c0b41dba7a8ff1f4b04949a19064b9bc73c63\u001b[m\n",
      "Author: john doe <you@example.com>\n",
      "Date:   Wed Jun 8 20:47:37 2022 +0000\n",
      "\n",
      "    modify file_2.txt file\n",
      "\n",
      "\u001b[1mdiff --git a/file_2.txt b/file_2.txt\u001b[m\n",
      "\u001b[1mindex e69de29..b9cfaf9 100644\u001b[m\n",
      "\u001b[1m--- a/file_2.txt\u001b[m\n",
      "\u001b[1m+++ b/file_2.txt\u001b[m\n",
      "\u001b[36m@@ -0,0 +1 @@\u001b[m\n",
      "\u001b[32m+\u001b[m\u001b[32mHola mundo cruel!\u001b[m\n"
     ]
    }
   ],
   "source": [
    "# -p / --patch,  -2: las últimas dos entradas.\n",
    "!git log -p -2"
   ]
  },
  {
   "cell_type": "code",
   "execution_count": 7,
   "id": "a3b58264-09ea-4706-8750-9454a17af7d5",
   "metadata": {},
   "outputs": [
    {
     "name": "stdout",
     "output_type": "stream",
     "text": [
      "\u001b[33mcommit e5d98b0e2eab98fe6af0380507197fb456491ea9\u001b[m\u001b[33m (\u001b[m\u001b[1;36mHEAD -> \u001b[m\u001b[1;32mmaster\u001b[m\u001b[33m)\u001b[m\n",
      "Author: john doe <you@example.com>\n",
      "Date:   Wed Jun 8 20:47:38 2022 +0000\n",
      "\n",
      "    create .gitignore\n",
      "\n",
      " .gitignore | 1 \u001b[32m+\u001b[m\n",
      " 1 file changed, 1 insertion(+)\n",
      "\n",
      "\u001b[33mcommit 312c0b41dba7a8ff1f4b04949a19064b9bc73c63\u001b[m\n",
      "Author: john doe <you@example.com>\n",
      "Date:   Wed Jun 8 20:47:37 2022 +0000\n",
      "\n",
      "    modify file_2.txt file\n",
      "\n",
      " file_2.txt | 1 \u001b[32m+\u001b[m\n",
      " 1 file changed, 1 insertion(+)\n",
      "\n",
      "\u001b[33mcommit fc9482686d53e50f7bef2171211749bf5672d4b6\u001b[m\n",
      "Author: john doe <you@example.com>\n",
      "Date:   Wed Jun 8 20:47:37 2022 +0000\n",
      "\n",
      "    create file_1.txt file_2.txt files\n",
      "\n",
      " file_1.txt | 0\n",
      " file_2.txt | 0\n",
      " 2 files changed, 0 insertions(+), 0 deletions(-)\n"
     ]
    }
   ],
   "source": [
    "!git log --stat"
   ]
  },
  {
   "cell_type": "code",
   "execution_count": 8,
   "id": "2e0a3476-a562-48e7-b5e8-e2768d90e68a",
   "metadata": {},
   "outputs": [
    {
     "name": "stdout",
     "output_type": "stream",
     "text": [
      "\u001b[33me5d98b0e2eab98fe6af0380507197fb456491ea9\u001b[m\u001b[33m (\u001b[m\u001b[1;36mHEAD -> \u001b[m\u001b[1;32mmaster\u001b[m\u001b[33m)\u001b[m create .gitignore\n",
      "\u001b[33m312c0b41dba7a8ff1f4b04949a19064b9bc73c63\u001b[m modify file_2.txt file\n",
      "\u001b[33mfc9482686d53e50f7bef2171211749bf5672d4b6\u001b[m create file_1.txt file_2.txt files\n"
     ]
    }
   ],
   "source": [
    "!git log --pretty=oneline"
   ]
  },
  {
   "cell_type": "code",
   "execution_count": 9,
   "id": "bde0ae0e-13bb-4177-8779-71219e5fbe60",
   "metadata": {},
   "outputs": [
    {
     "name": "stdout",
     "output_type": "stream",
     "text": [
      "e5d98b0 - john doe, 1 second ago : create .gitignore\n",
      "312c0b4 - john doe, 2 seconds ago : modify file_2.txt file\n",
      "fc94826 - john doe, 2 seconds ago : create file_1.txt file_2.txt files"
     ]
    }
   ],
   "source": [
    "!git log --pretty=format:\"%h - %an, %ar : %s\""
   ]
  },
  {
   "cell_type": "markdown",
   "id": "8a0ec5c7-68af-49a4-90ce-08987bc4b549",
   "metadata": {},
   "source": [
    "Opciones para --pretty=format\n",
    "--"
   ]
  },
  {
   "cell_type": "markdown",
   "id": "c6577d67-b1d7-4b6d-b77c-4c1fda1e9f4a",
   "metadata": {},
   "source": [
    "```\n",
    "Specifier   Description\n",
    "-------------------------------------------------------------------------------\n",
    "\n",
    "%H          Commit hash\n",
    "\n",
    "%h          Abbreviated commit hash\n",
    "\n",
    "%T          Tree hash\n",
    "\n",
    "%t          Abbreviated tree hash\n",
    "\n",
    "%P          Parent hashes\n",
    "\n",
    "%p          Abbreviated parent hashes\n",
    "\n",
    "%an         Author name\n",
    "\n",
    "%ae         Author email\n",
    "\n",
    "%ad         Author date (format respects the --date=option)\n",
    "\n",
    "%ar         Author date, relative\n",
    "\n",
    "%cn         Committer name\n",
    "\n",
    "%ce         Committer email\n",
    "\n",
    "%cd         Committer date\n",
    "\n",
    "%cr         Committer date, relative\n",
    "\n",
    "%s          Subject\n",
    "```"
   ]
  },
  {
   "cell_type": "code",
   "execution_count": 10,
   "id": "486391bf-1279-4042-a143-69f887492ec5",
   "metadata": {},
   "outputs": [
    {
     "name": "stdout",
     "output_type": "stream",
     "text": [
      "* e5d98b0 create .gitignore\n",
      "* 312c0b4 modify file_2.txt file\n",
      "* fc94826 create file_1.txt file_2.txt files"
     ]
    }
   ],
   "source": [
    "!git log --pretty=format:\"%h %s\" --graph"
   ]
  },
  {
   "cell_type": "markdown",
   "id": "dbc55f5a-aff1-4b38-b91c-6714150a760b",
   "metadata": {},
   "source": [
    "Opciones comunes\n",
    "--"
   ]
  },
  {
   "cell_type": "markdown",
   "id": "19f13266-3de9-4b57-bfe1-1c177cfa2270",
   "metadata": {},
   "source": [
    "```\n",
    "Opción     Descripción\n",
    "-------------------------------------------------------------------------------\n",
    "\n",
    "-p               Show the patch introduced with each commit.\n",
    "\n",
    "--stat           Show statistics for files modified in each commit.\n",
    "\n",
    "--shortstat      Display only the changed/insertions/deletions line from the \n",
    "                 --stat command.\n",
    "\n",
    "--name-only      Show the list of files modified after the commit information.\n",
    "\n",
    "--name-status    Show the list of files affected with added/modified/deleted \n",
    "                 information as well.\n",
    "\n",
    "--abbrev-commit  Show only the first few characters of the SHA-1 checksum \n",
    "                 instead of all 40.\n",
    "\n",
    "--relative-date  Display the date in a relative format (for example, \n",
    "                 “2 weeks ago”) instead of using the full date format.\n",
    "\n",
    "--graph          Display an ASCII graph of the branch and merge history beside \n",
    "                 the log output.\n",
    "\n",
    "--pretty         Show commits in an alternate format. Option values include \n",
    "                 oneline, short, full, fuller, and format (where you specify \n",
    "                 your own format).\n",
    "--oneline        Shorthand for --pretty=oneline --abbrev-commit used together.\n",
    "\n",
    "```"
   ]
  },
  {
   "cell_type": "markdown",
   "id": "2ce88dc8-5e40-490c-8f3d-837e16090ef0",
   "metadata": {},
   "source": [
    "Limitación de la salida\n",
    "--"
   ]
  },
  {
   "cell_type": "code",
   "execution_count": 11,
   "id": "fa8deaf6-b6c8-477b-9a94-66d4eea8a6a5",
   "metadata": {},
   "outputs": [
    {
     "name": "stdout",
     "output_type": "stream",
     "text": [
      "\u001b[33mcommit e5d98b0e2eab98fe6af0380507197fb456491ea9\u001b[m\u001b[33m (\u001b[m\u001b[1;36mHEAD -> \u001b[m\u001b[1;32mmaster\u001b[m\u001b[33m)\u001b[m\n",
      "Author: john doe <you@example.com>\n",
      "Date:   Wed Jun 8 20:47:38 2022 +0000\n",
      "\n",
      "    create .gitignore\n",
      "\n",
      "\u001b[33mcommit 312c0b41dba7a8ff1f4b04949a19064b9bc73c63\u001b[m\n",
      "Author: john doe <you@example.com>\n",
      "Date:   Wed Jun 8 20:47:37 2022 +0000\n",
      "\n",
      "    modify file_2.txt file\n",
      "\n",
      "\u001b[33mcommit fc9482686d53e50f7bef2171211749bf5672d4b6\u001b[m\n",
      "Author: john doe <you@example.com>\n",
      "Date:   Wed Jun 8 20:47:37 2022 +0000\n",
      "\n",
      "    create file_1.txt file_2.txt files\n"
     ]
    }
   ],
   "source": [
    "!git log --since=5.hours"
   ]
  },
  {
   "cell_type": "code",
   "execution_count": 12,
   "id": "1d3dea4a-2183-4a54-a069-20625083fefc",
   "metadata": {},
   "outputs": [
    {
     "name": "stdout",
     "output_type": "stream",
     "text": [
      "\u001b[33mcommit e5d98b0e2eab98fe6af0380507197fb456491ea9\u001b[m\u001b[33m (\u001b[m\u001b[1;36mHEAD -> \u001b[m\u001b[1;32mmaster\u001b[m\u001b[33m)\u001b[m\n",
      "Author: john doe <you@example.com>\n",
      "Date:   Wed Jun 8 20:47:38 2022 +0000\n",
      "\n",
      "    create .gitignore\n",
      "\n",
      "\u001b[33mcommit 312c0b41dba7a8ff1f4b04949a19064b9bc73c63\u001b[m\n",
      "Author: john doe <you@example.com>\n",
      "Date:   Wed Jun 8 20:47:37 2022 +0000\n",
      "\n",
      "    modify file_2.txt file\n",
      "\n",
      "\u001b[33mcommit fc9482686d53e50f7bef2171211749bf5672d4b6\u001b[m\n",
      "Author: john doe <you@example.com>\n",
      "Date:   Wed Jun 8 20:47:37 2022 +0000\n",
      "\n",
      "    create file_1.txt file_2.txt files\n"
     ]
    }
   ],
   "source": [
    "!git log --since=2.weeks"
   ]
  },
  {
   "cell_type": "code",
   "execution_count": 13,
   "id": "19d40a7b-a4ab-4b57-a724-8f11cae38a3b",
   "metadata": {},
   "outputs": [],
   "source": [
    "!git log --until=1.hours"
   ]
  },
  {
   "cell_type": "markdown",
   "id": "32b85bf4-de61-4ede-8530-0bd33e991230",
   "metadata": {},
   "source": [
    "**Opciones para limitar el formato**\n",
    "\n",
    "```\n",
    "Opción     Descripción\n",
    "--------------------------------------------------------------------------------\n",
    "\n",
    "-<n>               Show only the last n commits\n",
    "\n",
    "--since, --after   Limit the commits to those made after the specified date.\n",
    "\n",
    "--until, --before  Limit the commits to those made before the specified date.\n",
    "\n",
    "--author           Only show commits in which the author entry matches the \n",
    "                   specified string.\n",
    "\n",
    "--committer        Only show commits in which the committer entry matches the \n",
    "                   specified string.\n",
    "\n",
    "--grep             Only show commits with a commit message containing the string\n",
    "\n",
    "-S                 Only show commits adding or removing code matching the string\n",
    "\n",
    "\n",
    "\n",
    "```"
   ]
  },
  {
   "cell_type": "code",
   "execution_count": 14,
   "id": "9832e69a-a50a-48c8-a2ea-e9cc09a461db",
   "metadata": {},
   "outputs": [
    {
     "name": "stdout",
     "output_type": "stream",
     "text": [
      "/workspace/git\n"
     ]
    }
   ],
   "source": [
    "# --< Limpieza del área de trabajo >-------------------------------------------\n",
    "%cd ..\n",
    "!rm -rf git-demo"
   ]
  }
 ],
 "metadata": {
  "kernelspec": {
   "display_name": "Python 3 (ipykernel)",
   "language": "python",
   "name": "python3"
  },
  "language_info": {
   "codemirror_mode": {
    "name": "ipython",
    "version": 3
   },
   "file_extension": ".py",
   "mimetype": "text/x-python",
   "name": "python",
   "nbconvert_exporter": "python",
   "pygments_lexer": "ipython3",
   "version": "3.8.10"
  }
 },
 "nbformat": 4,
 "nbformat_minor": 5
}
