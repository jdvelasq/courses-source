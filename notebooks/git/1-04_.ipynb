{
 "cells": [
  {
   "cell_type": "markdown",
   "id": "7173bbcb-356a-4ae6-af8d-d1c76167678e",
   "metadata": {
    "tags": []
   },
   "source": [
    "Deshacer cambios\n",
    "===\n",
    "\n",
    "* Última modificación: Mayo  14, 2022"
   ]
  },
  {
   "cell_type": "markdown",
   "id": "5a8ce957-7021-4e22-878c-86b9376d8b8f",
   "metadata": {},
   "source": [
    "Preparación del proyecto\n",
    "--"
   ]
  },
  {
   "cell_type": "code",
   "execution_count": 1,
   "id": "2e69648e-8bdb-4fe5-9160-e46c966f4f08",
   "metadata": {},
   "outputs": [
    {
     "name": "stdout",
     "output_type": "stream",
     "text": [
      "/workspace/git-demo\n"
     ]
    }
   ],
   "source": [
    "!rm -rf git-demo\n",
    "!mkdir git-demo\n",
    "%cd git-demo"
   ]
  },
  {
   "cell_type": "markdown",
   "id": "f6dff1fa-a2c5-45f3-b441-f46800a59a15",
   "metadata": {},
   "source": [
    "Preparación commits iniciales\n",
    "--"
   ]
  },
  {
   "cell_type": "code",
   "execution_count": 2,
   "id": "bc041e0d-945d-4292-a218-0bc0d6612ff4",
   "metadata": {},
   "outputs": [
    {
     "name": "stdout",
     "output_type": "stream",
     "text": [
      "Initialized empty Git repository in /workspace/git-demo/.git/\n"
     ]
    }
   ],
   "source": [
    "!git init"
   ]
  },
  {
   "cell_type": "code",
   "execution_count": 3,
   "id": "51ae407b-cd9b-4755-8e85-c0e1a2305ec4",
   "metadata": {},
   "outputs": [],
   "source": [
    "!git config user.email \"you@example.com\"\n",
    "!git config user.name \"john doe\""
   ]
  },
  {
   "cell_type": "code",
   "execution_count": 4,
   "id": "682be1b7-4427-4364-a9d1-6aefa8010466",
   "metadata": {},
   "outputs": [
    {
     "name": "stdout",
     "output_type": "stream",
     "text": [
      "[master (root-commit) f2a67ab] create file_1.txt file_2.txt files\n",
      " 2 files changed, 0 insertions(+), 0 deletions(-)\n",
      " create mode 100644 file_1.txt\n",
      " create mode 100644 file_2.txt\n"
     ]
    }
   ],
   "source": [
    "!touch file_1.txt file_2.txt\n",
    "!git add *.txt\n",
    "!git commit -m 'create file_1.txt file_2.txt files'"
   ]
  },
  {
   "cell_type": "code",
   "execution_count": 5,
   "id": "079aed1d-3a90-41fc-858a-d1cfd91d4c39",
   "metadata": {},
   "outputs": [
    {
     "name": "stdout",
     "output_type": "stream",
     "text": [
      "[master db33f43] modify file_2.txt file\n",
      " 1 file changed, 1 insertion(+)\n"
     ]
    }
   ],
   "source": [
    "!echo 'Hola mundo cruel!' > file_2.txt\n",
    "!git add file_2.txt\n",
    "!git commit -m 'modify file_2.txt file'"
   ]
  },
  {
   "cell_type": "code",
   "execution_count": 6,
   "id": "1de7f9e4-5d37-4082-885b-4660a7e5f6b3",
   "metadata": {},
   "outputs": [
    {
     "name": "stdout",
     "output_type": "stream",
     "text": [
      "[master 7d53367] create .gitignore\n",
      " 1 file changed, 1 insertion(+)\n",
      " create mode 100644 .gitignore\n"
     ]
    }
   ],
   "source": [
    "!touch file_to_ignore.txt\n",
    "!echo \"file_to_ignore.txt\" > .gitignore\n",
    "!git add .gitignore\n",
    "!git commit -m 'create .gitignore'"
   ]
  },
  {
   "cell_type": "code",
   "execution_count": 7,
   "id": "971e64df-670f-4081-bb4f-11f3e9b3b689",
   "metadata": {},
   "outputs": [
    {
     "name": "stdout",
     "output_type": "stream",
     "text": [
      "\u001b[33mcommit 7d5336707a2836e82506eb4ae22ed4cf9dd09208\u001b[m\u001b[33m (\u001b[m\u001b[1;36mHEAD -> \u001b[m\u001b[1;32mmaster\u001b[m\u001b[33m)\u001b[m\n",
      "Author: john doe <you@example.com>\n",
      "Date:   Sat Apr 30 03:50:37 2022 +0000\n",
      "\n",
      "    create .gitignore\n",
      "\n",
      "\u001b[33mcommit db33f43f0c53d14421603943376f92fe82900c2c\u001b[m\n",
      "Author: john doe <you@example.com>\n",
      "Date:   Sat Apr 30 03:50:36 2022 +0000\n",
      "\n",
      "    modify file_2.txt file\n",
      "\n",
      "\u001b[33mcommit f2a67ab1f950041dbf6e471f42b1d77cc10a1df3\u001b[m\n",
      "Author: john doe <you@example.com>\n",
      "Date:   Sat Apr 30 03:50:35 2022 +0000\n",
      "\n",
      "    create file_1.txt file_2.txt files\n"
     ]
    }
   ],
   "source": [
    "!git log"
   ]
  },
  {
   "cell_type": "markdown",
   "id": "58145b73-c1f0-433b-8ad9-0bdf0009bc73",
   "metadata": {},
   "source": [
    "Agregar al último commit\n",
    "--"
   ]
  },
  {
   "cell_type": "code",
   "execution_count": 8,
   "id": "4187b2ff-36ff-410e-8e3c-b16dad9152fa",
   "metadata": {},
   "outputs": [
    {
     "name": "stdout",
     "output_type": "stream",
     "text": [
      "[master ecc3fb3] create a new .gitignore\n",
      " Date: Sat Apr 30 03:50:37 2022 +0000\n",
      " 1 file changed, 2 insertions(+)\n",
      " create mode 100644 .gitignore\n"
     ]
    }
   ],
   "source": [
    "!echo \"other_file_to_ignore.txt\" >> .gitignore\n",
    "!git add .gitignore\n",
    "!git commit --amend -m \"create a new .gitignore\""
   ]
  },
  {
   "cell_type": "code",
   "execution_count": 9,
   "id": "b126cdf3-69f9-4d43-a3d4-6a97beef5fd6",
   "metadata": {},
   "outputs": [
    {
     "name": "stdout",
     "output_type": "stream",
     "text": [
      "\u001b[33mcommit ecc3fb36015632d86c1f7a568c499bfeb465ce98\u001b[m\u001b[33m (\u001b[m\u001b[1;36mHEAD -> \u001b[m\u001b[1;32mmaster\u001b[m\u001b[33m)\u001b[m\n",
      "Author: john doe <you@example.com>\n",
      "Date:   Sat Apr 30 03:50:37 2022 +0000\n",
      "\n",
      "    create a new .gitignore\n",
      "\n",
      "\u001b[33mcommit db33f43f0c53d14421603943376f92fe82900c2c\u001b[m\n",
      "Author: john doe <you@example.com>\n",
      "Date:   Sat Apr 30 03:50:36 2022 +0000\n",
      "\n",
      "    modify file_2.txt file\n",
      "\n",
      "\u001b[33mcommit f2a67ab1f950041dbf6e471f42b1d77cc10a1df3\u001b[m\n",
      "Author: john doe <you@example.com>\n",
      "Date:   Sat Apr 30 03:50:35 2022 +0000\n",
      "\n",
      "    create file_1.txt file_2.txt files\n"
     ]
    }
   ],
   "source": [
    "!git log"
   ]
  },
  {
   "cell_type": "markdown",
   "id": "3ae43643-bf69-49ea-9025-c18a5c5fe48d",
   "metadata": {},
   "source": [
    "Unstaging\n",
    "--"
   ]
  },
  {
   "cell_type": "code",
   "execution_count": 10,
   "id": "bda21d72-3252-416e-aeaf-ffc4d077112a",
   "metadata": {},
   "outputs": [
    {
     "name": "stdout",
     "output_type": "stream",
     "text": [
      "On branch master\n",
      "Changes to be committed:\n",
      "  (use \"git restore --staged <file>...\" to unstage)\n",
      "\t\u001b[32mnew file:   file_3.txt\u001b[m\n",
      "\t\u001b[32mnew file:   file_4.txt\u001b[m\n",
      "\n"
     ]
    }
   ],
   "source": [
    "# Se crean los dos archivos y se hace un add con ambos\n",
    "!touch file_3.txt\n",
    "!touch file_4.txt\n",
    "!git add file_3.txt file_4.txt\n",
    "!git status"
   ]
  },
  {
   "cell_type": "code",
   "execution_count": 11,
   "id": "e0cc70e1-31ec-4697-b899-2696296f4d05",
   "metadata": {},
   "outputs": [
    {
     "name": "stdout",
     "output_type": "stream",
     "text": [
      "On branch master\n",
      "Changes to be committed:\n",
      "  (use \"git restore --staged <file>...\" to unstage)\n",
      "\t\u001b[32mnew file:   file_3.txt\u001b[m\n",
      "\n",
      "Untracked files:\n",
      "  (use \"git add <file>...\" to include in what will be committed)\n",
      "\t\u001b[31mfile_4.txt\u001b[m\n",
      "\n"
     ]
    }
   ],
   "source": [
    "# Se desea un commit individual para cada archivo.\n",
    "# Se saca file_4.txt\n",
    "!git reset HEAD file_4.txt\n",
    "!git status"
   ]
  },
  {
   "cell_type": "code",
   "execution_count": 12,
   "id": "3091ce8e-0d13-4b1c-bf56-a0a43b395eb3",
   "metadata": {},
   "outputs": [
    {
     "name": "stdout",
     "output_type": "stream",
     "text": [
      "[master 12de97a] create file_3.txt\n",
      " 1 file changed, 0 insertions(+), 0 deletions(-)\n",
      " create mode 100644 file_3.txt\n"
     ]
    }
   ],
   "source": [
    "!git commit -m \"create file_3.txt\""
   ]
  },
  {
   "cell_type": "code",
   "execution_count": 13,
   "id": "b3222c41-b5f7-41a3-8854-1434d5bf2342",
   "metadata": {},
   "outputs": [
    {
     "name": "stdout",
     "output_type": "stream",
     "text": [
      "[master ea5aa4f] create file_4.txt\n",
      " 1 file changed, 0 insertions(+), 0 deletions(-)\n",
      " create mode 100644 file_4.txt\n"
     ]
    }
   ],
   "source": [
    "!git add file_4.txt\n",
    "!git commit -m \"create file_4.txt\""
   ]
  },
  {
   "cell_type": "code",
   "execution_count": 14,
   "id": "5bb08246-0735-4a1b-97d8-42a009b818b4",
   "metadata": {},
   "outputs": [
    {
     "name": "stdout",
     "output_type": "stream",
     "text": [
      "\u001b[33mcommit ea5aa4fb65f36752bd9059f0397faca580038624\u001b[m\u001b[33m (\u001b[m\u001b[1;36mHEAD -> \u001b[m\u001b[1;32mmaster\u001b[m\u001b[33m)\u001b[m\n",
      "Author: john doe <you@example.com>\n",
      "Date:   Sat Apr 30 03:50:42 2022 +0000\n",
      "\n",
      "    create file_4.txt\n",
      "\n",
      "\u001b[33mcommit 12de97a09bb120ea25f299f26f0e2168d8dbfb43\u001b[m\n",
      "Author: john doe <you@example.com>\n",
      "Date:   Sat Apr 30 03:50:41 2022 +0000\n",
      "\n",
      "    create file_3.txt\n",
      "\n",
      "\u001b[33mcommit ecc3fb36015632d86c1f7a568c499bfeb465ce98\u001b[m\n",
      "Author: john doe <you@example.com>\n",
      "Date:   Sat Apr 30 03:50:37 2022 +0000\n",
      "\n",
      "    create a new .gitignore\n",
      "\n",
      "\u001b[33mcommit db33f43f0c53d14421603943376f92fe82900c2c\u001b[m\n",
      "Author: john doe <you@example.com>\n",
      "Date:   Sat Apr 30 03:50:36 2022 +0000\n",
      "\n",
      "    modify file_2.txt file\n",
      "\n",
      "\u001b[33mcommit f2a67ab1f950041dbf6e471f42b1d77cc10a1df3\u001b[m\n",
      "Author: john doe <you@example.com>\n",
      "Date:   Sat Apr 30 03:50:35 2022 +0000\n",
      "\n",
      "    create file_1.txt file_2.txt files\n"
     ]
    }
   ],
   "source": [
    "!git log"
   ]
  },
  {
   "cell_type": "markdown",
   "id": "f5a7b58b-12f8-488b-954d-e82e06ebaee9",
   "metadata": {},
   "source": [
    "Restaurar la última versión guardada\n",
    "--"
   ]
  },
  {
   "cell_type": "code",
   "execution_count": 15,
   "id": "94f02a70-a301-4cf4-9e57-48076e960419",
   "metadata": {},
   "outputs": [
    {
     "name": "stdout",
     "output_type": "stream",
     "text": [
      "linea 1\n",
      "linea 2\n"
     ]
    }
   ],
   "source": [
    "!echo \"linea 1\" >> file_4.txt\n",
    "!git add file_4.txt\n",
    "!echo \"linea 2\" >> file_4.txt\n",
    "!git add file_4.txt\n",
    "!cat file_4.txt"
   ]
  },
  {
   "cell_type": "code",
   "execution_count": 16,
   "id": "f4acada1-9605-4c4d-be16-65d0ad7b3093",
   "metadata": {},
   "outputs": [
    {
     "name": "stdout",
     "output_type": "stream",
     "text": [
      "linea 1\n",
      "linea 2\n",
      "linea 3\n"
     ]
    }
   ],
   "source": [
    "!echo \"linea 3\" >> file_4.txt\n",
    "!cat file_4.txt"
   ]
  },
  {
   "cell_type": "code",
   "execution_count": 17,
   "id": "91f071a0-29d5-4ee0-ba77-9d53695a6b57",
   "metadata": {},
   "outputs": [
    {
     "name": "stdout",
     "output_type": "stream",
     "text": [
      "linea 1\n",
      "linea 2\n"
     ]
    }
   ],
   "source": [
    "# Se deshace el cambio en el archivo\n",
    "!git checkout -- file_4.txt\n",
    "!cat file_4.txt"
   ]
  },
  {
   "cell_type": "code",
   "execution_count": 18,
   "id": "28165d1b-4201-4a5c-a156-cf945104e734",
   "metadata": {},
   "outputs": [
    {
     "name": "stdout",
     "output_type": "stream",
     "text": [
      "On branch master\n",
      "Changes to be committed:\n",
      "  (use \"git restore --staged <file>...\" to unstage)\n",
      "\t\u001b[32mmodified:   file_4.txt\u001b[m\n",
      "\n"
     ]
    }
   ],
   "source": [
    "!git status"
   ]
  },
  {
   "cell_type": "markdown",
   "id": "fbcf96cf-be55-4a02-881e-8ccae1997673",
   "metadata": {},
   "source": [
    "Deshacer el útimo add\n",
    "--"
   ]
  },
  {
   "cell_type": "code",
   "execution_count": 19,
   "id": "031aafd0-8745-49e7-8b57-9687aeb41aed",
   "metadata": {},
   "outputs": [
    {
     "name": "stdout",
     "output_type": "stream",
     "text": [
      "On branch master\n",
      "Changes to be committed:\n",
      "  (use \"git restore --staged <file>...\" to unstage)\n",
      "\t\u001b[32mmodified:   file_4.txt\u001b[m\n",
      "\n"
     ]
    }
   ],
   "source": [
    "!echo \"linea 3\" >> file_4.txt\n",
    "!git add file_4.txt\n",
    "!git status"
   ]
  },
  {
   "cell_type": "code",
   "execution_count": 20,
   "id": "280f3bb0-629c-454f-9862-720f4225c442",
   "metadata": {},
   "outputs": [
    {
     "name": "stdout",
     "output_type": "stream",
     "text": [
      "On branch master\n",
      "Changes not staged for commit:\n",
      "  (use \"git add <file>...\" to update what will be committed)\n",
      "  (use \"git restore <file>...\" to discard changes in working directory)\n",
      "\t\u001b[31mmodified:   file_4.txt\u001b[m\n",
      "\n",
      "no changes added to commit (use \"git add\" and/or \"git commit -a\")\n"
     ]
    }
   ],
   "source": [
    "!git restore --staged file_4.txt\n",
    "!git status"
   ]
  },
  {
   "cell_type": "markdown",
   "id": "777471e4-a9a5-4554-bdc3-514d235f7b64",
   "metadata": {},
   "source": [
    "Restaurar el archivo original desde el ultimo commit\n",
    "--"
   ]
  },
  {
   "cell_type": "code",
   "execution_count": 21,
   "id": "b4e85c7f-3bdd-4e08-8a5b-e901146dd9a6",
   "metadata": {},
   "outputs": [
    {
     "name": "stdout",
     "output_type": "stream",
     "text": [
      "On branch master\n",
      "nothing to commit, working tree clean\n"
     ]
    }
   ],
   "source": [
    "!git restore file_4.txt\n",
    "!git status"
   ]
  },
  {
   "cell_type": "code",
   "execution_count": 22,
   "id": "0201ce6e-2427-4eec-a7b5-100f2ca35d5b",
   "metadata": {},
   "outputs": [],
   "source": [
    "!cat file_4.txt"
   ]
  },
  {
   "cell_type": "code",
   "execution_count": 23,
   "id": "55f3d279-8fad-4f7a-8005-292d3d5e8e28",
   "metadata": {},
   "outputs": [
    {
     "name": "stdout",
     "output_type": "stream",
     "text": [
      "/workspace\n"
     ]
    }
   ],
   "source": [
    "# --< Limpieza del área de trabajo >-------------------------------------------\n",
    "%cd ..\n",
    "!rm -rf git-demo"
   ]
  }
 ],
 "metadata": {
  "kernelspec": {
   "display_name": "Python 3 (ipykernel)",
   "language": "python",
   "name": "python3"
  },
  "language_info": {
   "codemirror_mode": {
    "name": "ipython",
    "version": 3
   },
   "file_extension": ".py",
   "mimetype": "text/x-python",
   "name": "python",
   "nbconvert_exporter": "python",
   "pygments_lexer": "ipython3",
   "version": "3.8.10"
  }
 },
 "nbformat": 4,
 "nbformat_minor": 5
}
