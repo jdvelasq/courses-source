{
 "cells": [
  {
   "cell_type": "markdown",
   "id": "6c5a6876-0f69-40b8-9e9e-12cd6b6d8f43",
   "metadata": {
    "tags": []
   },
   "source": [
    "Ramas remotas\n",
    "===\n",
    "\n",
    "* Última modificación: Mayo  14, 2022"
   ]
  },
  {
   "cell_type": "markdown",
   "id": "7bdbb783-5ecb-41f5-b578-980b451f5343",
   "metadata": {},
   "source": [
    "Preparación del proyecto\n",
    "--"
   ]
  },
  {
   "cell_type": "code",
   "execution_count": 1,
   "id": "b75f20fe-8b4e-4b77-837d-fbd817bca80f",
   "metadata": {},
   "outputs": [
    {
     "name": "stdout",
     "output_type": "stream",
     "text": [
      "/workspace/git-demo\n"
     ]
    }
   ],
   "source": [
    "!rm -rf git-demo\n",
    "!mkdir git-demo\n",
    "%cd git-demo"
   ]
  },
  {
   "cell_type": "code",
   "execution_count": 2,
   "id": "33fbc74a-0351-4ecc-95ee-0bdee71cf05a",
   "metadata": {},
   "outputs": [
    {
     "name": "stdout",
     "output_type": "stream",
     "text": [
      "Initialized empty Git repository in /workspace/git-demo/.git/\n"
     ]
    }
   ],
   "source": [
    "!git init"
   ]
  },
  {
   "cell_type": "markdown",
   "id": "b42074e8-d32e-4716-b4f0-8b9d949a5e79",
   "metadata": {},
   "source": [
    "Simulación del desarrollador 1\n",
    "--"
   ]
  },
  {
   "cell_type": "code",
   "execution_count": 3,
   "id": "1e6573c8-9d5a-4eee-8f23-5aa66a3b7692",
   "metadata": {},
   "outputs": [
    {
     "name": "stdout",
     "output_type": "stream",
     "text": [
      "Cloning into 'git-demo-remote-1'...\n",
      "remote: Enumerating objects: 5, done.\u001b[K\n",
      "remote: Counting objects: 100% (5/5), done.\u001b[K\n",
      "remote: Compressing objects: 100% (3/3), done.\u001b[K\n",
      "remote: Total 5 (delta 0), reused 0 (delta 0), pack-reused 0\u001b[K\n",
      "Unpacking objects: 100% (5/5), 1.20 KiB | 32.00 KiB/s, done.\n"
     ]
    }
   ],
   "source": [
    "!git clone https://github.com/jdvelasq/git-demo-remote-1"
   ]
  },
  {
   "cell_type": "code",
   "execution_count": 4,
   "id": "f4dbfe64-83cf-4e51-bdca-e1619031bd45",
   "metadata": {},
   "outputs": [],
   "source": [
    "!mv git-demo-remote-1 user-1"
   ]
  },
  {
   "cell_type": "markdown",
   "id": "ca549f34-4f22-40dd-af96-b16cd2358b26",
   "metadata": {},
   "source": [
    "Simulación del desarrollador 2\n",
    "--"
   ]
  },
  {
   "cell_type": "code",
   "execution_count": 5,
   "id": "a687c0a6-e40e-40cc-9414-c9e27c2e9613",
   "metadata": {},
   "outputs": [
    {
     "name": "stdout",
     "output_type": "stream",
     "text": [
      "Cloning into 'git-demo-remote-1'...\n",
      "remote: Enumerating objects: 5, done.\u001b[K\n",
      "remote: Counting objects: 100% (5/5), done.\u001b[K\n",
      "remote: Compressing objects: 100% (3/3), done.\u001b[K\n",
      "remote: Total 5 (delta 0), reused 0 (delta 0), pack-reused 0\u001b[K\n",
      "Unpacking objects: 100% (5/5), 1.20 KiB | 36.00 KiB/s, done.\n"
     ]
    }
   ],
   "source": [
    "!git clone https://github.com/jdvelasq/git-demo-remote-1"
   ]
  },
  {
   "cell_type": "code",
   "execution_count": 6,
   "id": "5cf1a18f-df68-4280-aee1-1b816ea8d135",
   "metadata": {},
   "outputs": [],
   "source": [
    "!mv git-demo-remote-1 user-2"
   ]
  },
  {
   "cell_type": "markdown",
   "id": "2a153cab-692b-49d3-bc71-3c2e3e2fcf23",
   "metadata": {},
   "source": [
    "Cambios locales del desarrollador 1\n",
    "--"
   ]
  },
  {
   "cell_type": "code",
   "execution_count": 7,
   "id": "306c0af9-2c33-4480-b8f2-5a11d2299adb",
   "metadata": {},
   "outputs": [
    {
     "name": "stdout",
     "output_type": "stream",
     "text": [
      "/workspace/git-demo/user-1\n"
     ]
    }
   ],
   "source": [
    "%cd user-1"
   ]
  },
  {
   "cell_type": "code",
   "execution_count": 8,
   "id": "3496fc4d-1672-422b-8a7c-7fd08580315a",
   "metadata": {},
   "outputs": [],
   "source": [
    "!git config user.email \"user_one@example.com\"\n",
    "!git config user.name \"User One\""
   ]
  },
  {
   "cell_type": "code",
   "execution_count": 9,
   "id": "70f736ec-63fa-4e45-84de-85b95d0a752b",
   "metadata": {},
   "outputs": [
    {
     "name": "stdout",
     "output_type": "stream",
     "text": [
      "[main 71c8765] modify file_1.txt file by user-one\n",
      " 1 file changed, 1 insertion(+), 1 deletion(-)\n"
     ]
    }
   ],
   "source": [
    "!echo 'Hola mundo cruel!' > file_1.txt\n",
    "!git add file_1.txt\n",
    "!git commit -m 'modify file_1.txt file by user-one'"
   ]
  },
  {
   "cell_type": "markdown",
   "id": "f40a4b41-3b00-419c-8ae2-057669250dac",
   "metadata": {},
   "source": [
    "Sincronización de cambios del desarrollador 1\n",
    "--"
   ]
  },
  {
   "cell_type": "markdown",
   "id": "64ec7aa5-0b91-4a42-bdea-48833d10ab61",
   "metadata": {},
   "source": [
    "```bash\n",
    "git push origin\n",
    "````\n"
   ]
  },
  {
   "cell_type": "markdown",
   "id": "7047aff0-7435-457c-acd7-996303681de4",
   "metadata": {},
   "source": [
    "Cambios locales del desarrollador 2\n",
    "--"
   ]
  },
  {
   "cell_type": "code",
   "execution_count": null,
   "id": "dbb2869a-37b9-46e8-836d-8ade07b5fe5f",
   "metadata": {},
   "outputs": [],
   "source": [
    "%cd user-2"
   ]
  },
  {
   "cell_type": "code",
   "execution_count": null,
   "id": "064df246-6ae7-465e-aa22-d4731dea3759",
   "metadata": {},
   "outputs": [],
   "source": [
    "!git config user.email \"user_two@example.com\"\n",
    "!git config user.name \"User Two\""
   ]
  },
  {
   "cell_type": "code",
   "execution_count": null,
   "id": "214224fa-735d-4f70-b20b-9a85cbeb9b55",
   "metadata": {},
   "outputs": [],
   "source": [
    "!echo 'Hello World!!!!' > file_2.txt\n",
    "!git add file_2.txt\n",
    "!git commit -m 'modify file_2.txt file by user-2'"
   ]
  },
  {
   "cell_type": "code",
   "execution_count": null,
   "id": "64862033-69b7-414d-a1a0-6cb610effe42",
   "metadata": {},
   "outputs": [],
   "source": [
    "!git push origin"
   ]
  },
  {
   "cell_type": "markdown",
   "id": "7c820e9d-ada4-4714-88f9-8ab9cc95881b",
   "metadata": {},
   "source": [
    "Sincronización de cambios del desarrollador 2\n",
    "--"
   ]
  },
  {
   "cell_type": "code",
   "execution_count": null,
   "id": "1e85fcfa-8ab1-4d59-8122-aa00cd9a902c",
   "metadata": {},
   "outputs": [],
   "source": [
    "!git fetch origin"
   ]
  },
  {
   "cell_type": "code",
   "execution_count": null,
   "id": "1f4a415d-b0f3-4230-b8c3-f4bfe5e378eb",
   "metadata": {},
   "outputs": [],
   "source": []
  },
  {
   "cell_type": "code",
   "execution_count": null,
   "id": "f38d4978-c2c1-4d94-ba2d-ee5bd8096a55",
   "metadata": {},
   "outputs": [],
   "source": []
  },
  {
   "cell_type": "code",
   "execution_count": null,
   "id": "6735dfc8-12dc-4327-a974-a2928e253c6b",
   "metadata": {},
   "outputs": [],
   "source": [
    "%cd ../.."
   ]
  },
  {
   "cell_type": "code",
   "execution_count": null,
   "id": "812bcc81-af97-44e7-94d1-8bd87cf0581e",
   "metadata": {},
   "outputs": [],
   "source": [
    "!pwd"
   ]
  },
  {
   "cell_type": "code",
   "execution_count": null,
   "id": "95a7b422-b4a8-4042-89b8-bba2f095e7dc",
   "metadata": {},
   "outputs": [],
   "source": [
    "# --< Limpieza del área de trabajo >-------------------------------------------\n",
    "%cd ..\n",
    "!rm -rf git-demo"
   ]
  }
 ],
 "metadata": {
  "kernelspec": {
   "display_name": "Python 3 (ipykernel)",
   "language": "python",
   "name": "python3"
  },
  "language_info": {
   "codemirror_mode": {
    "name": "ipython",
    "version": 3
   },
   "file_extension": ".py",
   "mimetype": "text/x-python",
   "name": "python",
   "nbconvert_exporter": "python",
   "pygments_lexer": "ipython3",
   "version": "3.8.10"
  }
 },
 "nbformat": 4,
 "nbformat_minor": 5
}
