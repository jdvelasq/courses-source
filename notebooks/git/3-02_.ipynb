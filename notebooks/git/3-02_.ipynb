{
 "cells": [
  {
   "cell_type": "markdown",
   "id": "6c5a6876-0f69-40b8-9e9e-12cd6b6d8f43",
   "metadata": {
    "tags": []
   },
   "source": [
    "Ramas remotas\n",
    "===\n",
    "\n",
    "* Última modificación: Mayo  14, 2022"
   ]
  },
  {
   "cell_type": "markdown",
   "id": "7bdbb783-5ecb-41f5-b578-980b451f5343",
   "metadata": {},
   "source": [
    "Preparación del proyecto\n",
    "--"
   ]
  },
  {
   "cell_type": "code",
   "execution_count": null,
   "id": "b75f20fe-8b4e-4b77-837d-fbd817bca80f",
   "metadata": {},
   "outputs": [],
   "source": [
    "!rm -rf git-demo\n",
    "!mkdir git-demo\n",
    "%cd git-demo"
   ]
  },
  {
   "cell_type": "code",
   "execution_count": null,
   "id": "33fbc74a-0351-4ecc-95ee-0bdee71cf05a",
   "metadata": {},
   "outputs": [],
   "source": [
    "!git init"
   ]
  },
  {
   "cell_type": "code",
   "execution_count": null,
   "id": "2cfda3da-41f2-43a7-ac40-91bcb581c37e",
   "metadata": {},
   "outputs": [],
   "source": [
    "!git config user.email \"you@example.com\"\n",
    "!git config user.name \"john doe\""
   ]
  },
  {
   "cell_type": "code",
   "execution_count": null,
   "id": "8ac6cd94-1c4a-488f-a512-9d6cd79c3810",
   "metadata": {},
   "outputs": [],
   "source": []
  },
  {
   "cell_type": "code",
   "execution_count": null,
   "id": "1e6573c8-9d5a-4eee-8f23-5aa66a3b7692",
   "metadata": {},
   "outputs": [],
   "source": []
  },
  {
   "cell_type": "code",
   "execution_count": null,
   "id": "f4dbfe64-83cf-4e51-bdca-e1619031bd45",
   "metadata": {},
   "outputs": [],
   "source": []
  },
  {
   "cell_type": "code",
   "execution_count": null,
   "id": "f9753e77-f42a-498e-8a15-92b8f301d455",
   "metadata": {},
   "outputs": [],
   "source": []
  },
  {
   "cell_type": "code",
   "execution_count": null,
   "id": "a3e2b3a3-e763-4024-bdf7-5dda08e35729",
   "metadata": {},
   "outputs": [],
   "source": []
  },
  {
   "cell_type": "code",
   "execution_count": null,
   "id": "306c0af9-2c33-4480-b8f2-5a11d2299adb",
   "metadata": {},
   "outputs": [],
   "source": []
  },
  {
   "cell_type": "code",
   "execution_count": null,
   "id": "70f736ec-63fa-4e45-84de-85b95d0a752b",
   "metadata": {},
   "outputs": [],
   "source": []
  },
  {
   "cell_type": "code",
   "execution_count": null,
   "id": "11091f16-00a6-4ae9-97ce-fadfae7db2d1",
   "metadata": {},
   "outputs": [],
   "source": []
  },
  {
   "cell_type": "code",
   "execution_count": null,
   "id": "597c1187-6bf2-4ea9-8d61-445cba5b58f4",
   "metadata": {},
   "outputs": [],
   "source": []
  },
  {
   "cell_type": "code",
   "execution_count": null,
   "id": "fad1e3f7-e8b7-4a75-a867-2c6140ce7083",
   "metadata": {},
   "outputs": [],
   "source": []
  },
  {
   "cell_type": "code",
   "execution_count": null,
   "id": "214224fa-735d-4f70-b20b-9a85cbeb9b55",
   "metadata": {},
   "outputs": [],
   "source": []
  },
  {
   "cell_type": "code",
   "execution_count": null,
   "id": "812bcc81-af97-44e7-94d1-8bd87cf0581e",
   "metadata": {},
   "outputs": [],
   "source": []
  },
  {
   "cell_type": "code",
   "execution_count": null,
   "id": "95a7b422-b4a8-4042-89b8-bba2f095e7dc",
   "metadata": {},
   "outputs": [],
   "source": [
    "# --< Limpieza del área de trabajo >-------------------------------------------\n",
    "%cd ..\n",
    "!rm -rf git-demo"
   ]
  }
 ],
 "metadata": {
  "kernelspec": {
   "display_name": "Python 3 (ipykernel)",
   "language": "python",
   "name": "python3"
  },
  "language_info": {
   "codemirror_mode": {
    "name": "ipython",
    "version": 3
   },
   "file_extension": ".py",
   "mimetype": "text/x-python",
   "name": "python",
   "nbconvert_exporter": "python",
   "pygments_lexer": "ipython3",
   "version": "3.8.10"
  }
 },
 "nbformat": 4,
 "nbformat_minor": 5
}
