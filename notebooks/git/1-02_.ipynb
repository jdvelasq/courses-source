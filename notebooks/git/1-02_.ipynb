{
 "cells": [
  {
   "cell_type": "markdown",
   "id": "2685b7dd-9751-496f-977e-09521beff877",
   "metadata": {
    "tags": []
   },
   "source": [
    "Grabación de cambios en repositorios\n",
    "===\n",
    "\n",
    "* Última modificación: Mayo  14, 2022"
   ]
  },
  {
   "cell_type": "markdown",
   "id": "4446f69c-6296-43b1-95c6-a7cffa18c67c",
   "metadata": {},
   "source": [
    "**Creación de un proyecto nuevo**"
   ]
  },
  {
   "cell_type": "code",
   "execution_count": 1,
   "id": "1be2835e-76e8-40c3-8369-9188ebf5b27c",
   "metadata": {},
   "outputs": [
    {
     "name": "stdout",
     "output_type": "stream",
     "text": [
      "/workspace/git-demo\n"
     ]
    }
   ],
   "source": [
    "!mkdir git-demo\n",
    "%cd git-demo"
   ]
  },
  {
   "cell_type": "code",
   "execution_count": 2,
   "id": "59abf4ea-2e6f-466f-af8d-f126c2b90c0c",
   "metadata": {},
   "outputs": [
    {
     "name": "stdout",
     "output_type": "stream",
     "text": [
      "/workspace/git-demo\n"
     ]
    }
   ],
   "source": [
    "!pwd"
   ]
  },
  {
   "cell_type": "markdown",
   "id": "7157f1e6-a0ef-4cf4-913c-4c46186e782f",
   "metadata": {},
   "source": [
    "**Inicialización del repositorio**"
   ]
  },
  {
   "cell_type": "code",
   "execution_count": 3,
   "id": "8867d0d7-f26a-49d6-87da-184327e43d7e",
   "metadata": {},
   "outputs": [
    {
     "name": "stdout",
     "output_type": "stream",
     "text": [
      "Initialized empty Git repository in /workspace/git-demo/.git/\n"
     ]
    }
   ],
   "source": [
    "!git init"
   ]
  },
  {
   "cell_type": "markdown",
   "id": "edf0e0cc-1ea7-4d32-8694-f5a0379dbe75",
   "metadata": {},
   "source": [
    "**Estado del repositorio**"
   ]
  },
  {
   "cell_type": "code",
   "execution_count": 4,
   "id": "119cc381-9aab-4b47-9a6b-f35c03129ad9",
   "metadata": {},
   "outputs": [
    {
     "name": "stdout",
     "output_type": "stream",
     "text": [
      "On branch master\n",
      "\n",
      "No commits yet\n",
      "\n",
      "nothing to commit (create/copy files and use \"git add\" to track)\n"
     ]
    }
   ],
   "source": [
    "!git status"
   ]
  },
  {
   "cell_type": "markdown",
   "id": "26772623-7f23-4ed9-b2a3-c08c7283bbdb",
   "metadata": {},
   "source": [
    "**Creación de un archivo**"
   ]
  },
  {
   "cell_type": "code",
   "execution_count": 5,
   "id": "1f8a8884-0212-4171-adae-59ae3dba54a6",
   "metadata": {},
   "outputs": [
    {
     "name": "stdout",
     "output_type": "stream",
     "text": [
      "On branch master\n",
      "\n",
      "No commits yet\n",
      "\n",
      "Untracked files:\n",
      "  (use \"git add <file>...\" to include in what will be committed)\n",
      "\t\u001b[31mfile_1.txt\u001b[m\n",
      "\n",
      "nothing added to commit but untracked files present (use \"git add\" to track)\n"
     ]
    }
   ],
   "source": [
    "!touch file_1.txt\n",
    "!git status"
   ]
  },
  {
   "cell_type": "markdown",
   "id": "4f6a1c60-556c-4d72-8533-827e33c15135",
   "metadata": {},
   "source": [
    "**Tracking del nuevo archivo**"
   ]
  },
  {
   "cell_type": "code",
   "execution_count": 6,
   "id": "fc6ce23d-5c0c-4536-978a-918737f6cf5c",
   "metadata": {},
   "outputs": [],
   "source": [
    "!git add file_1.txt"
   ]
  },
  {
   "cell_type": "code",
   "execution_count": 7,
   "id": "8a5db70e-9213-40d7-9cb9-eab536fa58d7",
   "metadata": {},
   "outputs": [
    {
     "name": "stdout",
     "output_type": "stream",
     "text": [
      "On branch master\n",
      "\n",
      "No commits yet\n",
      "\n",
      "Changes to be committed:\n",
      "  (use \"git rm --cached <file>...\" to unstage)\n",
      "\t\u001b[32mnew file:   file_1.txt\u001b[m\n",
      "\n"
     ]
    }
   ],
   "source": [
    "!git status"
   ]
  },
  {
   "cell_type": "markdown",
   "id": "44c68b02-4834-418d-ada2-5a84eba298d0",
   "metadata": {},
   "source": [
    "**Creación de un nuevo archivo**"
   ]
  },
  {
   "cell_type": "code",
   "execution_count": 8,
   "id": "aa11168a-cd33-4730-914d-5b32ba6ae6b9",
   "metadata": {},
   "outputs": [],
   "source": [
    "!touch file_2.txt"
   ]
  },
  {
   "cell_type": "code",
   "execution_count": 9,
   "id": "6db8e43f-a884-4e7c-ba5c-740f4b162e24",
   "metadata": {},
   "outputs": [
    {
     "name": "stdout",
     "output_type": "stream",
     "text": [
      "On branch master\n",
      "\n",
      "No commits yet\n",
      "\n",
      "Changes to be committed:\n",
      "  (use \"git rm --cached <file>...\" to unstage)\n",
      "\t\u001b[32mnew file:   file_1.txt\u001b[m\n",
      "\n",
      "Untracked files:\n",
      "  (use \"git add <file>...\" to include in what will be committed)\n",
      "\t\u001b[31mfile_2.txt\u001b[m\n",
      "\n"
     ]
    }
   ],
   "source": [
    "!git status"
   ]
  },
  {
   "cell_type": "markdown",
   "id": "475e1aea-8c4e-453d-a957-fd5896777dc1",
   "metadata": {},
   "source": [
    "**Tracking de file_2.txt**"
   ]
  },
  {
   "cell_type": "code",
   "execution_count": 10,
   "id": "c9fdd2c2-4a3c-4391-a1cc-6e9522d5a765",
   "metadata": {},
   "outputs": [],
   "source": [
    "!git add file_2.txt"
   ]
  },
  {
   "cell_type": "code",
   "execution_count": 11,
   "id": "8bd4d00d-4986-427b-b3e5-8023a3c8ea6d",
   "metadata": {},
   "outputs": [
    {
     "name": "stdout",
     "output_type": "stream",
     "text": [
      "On branch master\n",
      "\n",
      "No commits yet\n",
      "\n",
      "Changes to be committed:\n",
      "  (use \"git rm --cached <file>...\" to unstage)\n",
      "\t\u001b[32mnew file:   file_1.txt\u001b[m\n",
      "\t\u001b[32mnew file:   file_2.txt\u001b[m\n",
      "\n"
     ]
    }
   ],
   "source": [
    "!git status"
   ]
  },
  {
   "cell_type": "markdown",
   "id": "26de1d71-ca5a-4eef-a52f-e1da77dc37f8",
   "metadata": {},
   "source": [
    "**Modificación de file_2.txt**"
   ]
  },
  {
   "cell_type": "code",
   "execution_count": 12,
   "id": "a33fa66b-1abd-4b7e-99a1-5bfe2129535b",
   "metadata": {},
   "outputs": [],
   "source": [
    "!echo 'hello world' > file_2.txt"
   ]
  },
  {
   "cell_type": "code",
   "execution_count": 13,
   "id": "cbee2dce-94de-4100-9861-b5d341dddd53",
   "metadata": {},
   "outputs": [
    {
     "name": "stdout",
     "output_type": "stream",
     "text": [
      "On branch master\n",
      "\n",
      "No commits yet\n",
      "\n",
      "Changes to be committed:\n",
      "  (use \"git rm --cached <file>...\" to unstage)\n",
      "\t\u001b[32mnew file:   file_1.txt\u001b[m\n",
      "\t\u001b[32mnew file:   file_2.txt\u001b[m\n",
      "\n",
      "Changes not staged for commit:\n",
      "  (use \"git add <file>...\" to update what will be committed)\n",
      "  (use \"git restore <file>...\" to discard changes in working directory)\n",
      "\t\u001b[31mmodified:   file_2.txt\u001b[m\n",
      "\n"
     ]
    }
   ],
   "source": [
    "!git status"
   ]
  },
  {
   "cell_type": "markdown",
   "id": "53883a27-347d-4b00-94fb-e67e79d59a5c",
   "metadata": {},
   "source": [
    "**Adición de los cambios**"
   ]
  },
  {
   "cell_type": "code",
   "execution_count": 14,
   "id": "27f99256-f3b9-44ab-a2d2-e3ab11725897",
   "metadata": {},
   "outputs": [],
   "source": [
    "!git add file_2.txt"
   ]
  },
  {
   "cell_type": "code",
   "execution_count": 15,
   "id": "8877b805-9456-438a-b889-6efc9b7fb9e9",
   "metadata": {},
   "outputs": [
    {
     "name": "stdout",
     "output_type": "stream",
     "text": [
      "On branch master\n",
      "\n",
      "No commits yet\n",
      "\n",
      "Changes to be committed:\n",
      "  (use \"git rm --cached <file>...\" to unstage)\n",
      "\t\u001b[32mnew file:   file_1.txt\u001b[m\n",
      "\t\u001b[32mnew file:   file_2.txt\u001b[m\n",
      "\n"
     ]
    }
   ],
   "source": [
    "!git status"
   ]
  },
  {
   "cell_type": "markdown",
   "id": "52e8c7b5-6001-4409-8bfb-ee37df968ae0",
   "metadata": {},
   "source": [
    "**Commit de los cambios**"
   ]
  },
  {
   "cell_type": "code",
   "execution_count": 16,
   "id": "1aa0562f-5b80-47a7-b3af-15a0b0bf11d0",
   "metadata": {},
   "outputs": [
    {
     "name": "stdout",
     "output_type": "stream",
     "text": [
      "[master (root-commit) fde9055] create file_1.txt file_2.txt files\n",
      " 2 files changed, 1 insertion(+)\n",
      " create mode 100644 file_1.txt\n",
      " create mode 100644 file_2.txt\n"
     ]
    }
   ],
   "source": [
    "!git commit -m 'create file_1.txt file_2.txt files'"
   ]
  },
  {
   "cell_type": "markdown",
   "id": "55d98f7b-7746-437b-a212-52a810179387",
   "metadata": {},
   "source": [
    "**Visualización de cambios**"
   ]
  },
  {
   "cell_type": "code",
   "execution_count": 17,
   "id": "ebdaf672-9d3e-4a7f-866a-acbe1dfa7370",
   "metadata": {},
   "outputs": [],
   "source": [
    "!echo 'Hola mundo cruel!' >> file_2.txt"
   ]
  },
  {
   "cell_type": "code",
   "execution_count": 18,
   "id": "0ff7da72-a91b-48a8-9217-ac7a97839bb1",
   "metadata": {},
   "outputs": [
    {
     "name": "stdout",
     "output_type": "stream",
     "text": [
      "\u001b[1mdiff --git a/file_2.txt b/file_2.txt\u001b[m\n",
      "\u001b[1mindex 3b18e51..2688e04 100644\u001b[m\n",
      "\u001b[1m--- a/file_2.txt\u001b[m\n",
      "\u001b[1m+++ b/file_2.txt\u001b[m\n",
      "\u001b[36m@@ -1 +1,2 @@\u001b[m\n",
      " hello world\u001b[m\n",
      "\u001b[32m+\u001b[m\u001b[32mHola mundo cruel!\u001b[m\n"
     ]
    }
   ],
   "source": [
    "!git diff"
   ]
  },
  {
   "cell_type": "markdown",
   "id": "bc6f1b90-2ec4-4242-bc70-d3464da11c74",
   "metadata": {},
   "source": [
    "**Almacenamiento de cambios**"
   ]
  },
  {
   "cell_type": "code",
   "execution_count": 19,
   "id": "3b03d5ef-88fc-4558-bb80-c180d8197803",
   "metadata": {},
   "outputs": [],
   "source": [
    "!git add file_2.txt"
   ]
  },
  {
   "cell_type": "code",
   "execution_count": 20,
   "id": "3578fecc-76ce-41b9-9d3a-9946e6e01d75",
   "metadata": {},
   "outputs": [
    {
     "name": "stdout",
     "output_type": "stream",
     "text": [
      "On branch master\n",
      "Changes to be committed:\n",
      "  (use \"git restore --staged <file>...\" to unstage)\n",
      "\t\u001b[32mmodified:   file_2.txt\u001b[m\n",
      "\n"
     ]
    }
   ],
   "source": [
    "!git status"
   ]
  },
  {
   "cell_type": "markdown",
   "id": "6dd1a733-1edb-4154-be19-f8a5992f48b2",
   "metadata": {},
   "source": [
    "**Visualización de cambios en staged**"
   ]
  },
  {
   "cell_type": "code",
   "execution_count": 21,
   "id": "2cd5388c-af9f-4fd8-8d6b-1caf75859c49",
   "metadata": {},
   "outputs": [],
   "source": [
    "# Note que el siguiente comando no devuelve nada:\n",
    "!git diff "
   ]
  },
  {
   "cell_type": "code",
   "execution_count": 22,
   "id": "65c21aea-5799-46fd-a592-342f2001b01a",
   "metadata": {},
   "outputs": [
    {
     "name": "stdout",
     "output_type": "stream",
     "text": [
      "\u001b[1mdiff --git a/file_2.txt b/file_2.txt\u001b[m\n",
      "\u001b[1mindex 3b18e51..2688e04 100644\u001b[m\n",
      "\u001b[1m--- a/file_2.txt\u001b[m\n",
      "\u001b[1m+++ b/file_2.txt\u001b[m\n",
      "\u001b[36m@@ -1 +1,2 @@\u001b[m\n",
      " hello world\u001b[m\n",
      "\u001b[32m+\u001b[m\u001b[32mHola mundo cruel!\u001b[m\n"
     ]
    }
   ],
   "source": [
    "!git diff --staged"
   ]
  },
  {
   "cell_type": "code",
   "execution_count": 23,
   "id": "58044627-32d3-4a7f-944e-ea515be24510",
   "metadata": {},
   "outputs": [
    {
     "name": "stdout",
     "output_type": "stream",
     "text": [
      "On branch master\n",
      "Changes to be committed:\n",
      "  (use \"git restore --staged <file>...\" to unstage)\n",
      "\t\u001b[32mmodified:   file_2.txt\u001b[m\n",
      "\n"
     ]
    }
   ],
   "source": [
    "!git status"
   ]
  },
  {
   "cell_type": "markdown",
   "id": "02abdb98-25ed-4a62-a595-d045b97aec08",
   "metadata": {},
   "source": [
    "**Archivos a ignorar**"
   ]
  },
  {
   "cell_type": "code",
   "execution_count": 24,
   "id": "58fdea9e-8cd7-48c1-bfa2-488f476a99ee",
   "metadata": {},
   "outputs": [],
   "source": [
    "!touch file_to_ignore.txt"
   ]
  },
  {
   "cell_type": "code",
   "execution_count": 25,
   "id": "f7d45abc-4fa0-4228-9ef0-a395dbe6e468",
   "metadata": {},
   "outputs": [
    {
     "name": "stdout",
     "output_type": "stream",
     "text": [
      "On branch master\n",
      "Changes to be committed:\n",
      "  (use \"git restore --staged <file>...\" to unstage)\n",
      "\t\u001b[32mmodified:   file_2.txt\u001b[m\n",
      "\n",
      "Untracked files:\n",
      "  (use \"git add <file>...\" to include in what will be committed)\n",
      "\t\u001b[31mfile_to_ignore.txt\u001b[m\n",
      "\n"
     ]
    }
   ],
   "source": [
    "!git status"
   ]
  },
  {
   "cell_type": "code",
   "execution_count": 26,
   "id": "d83c3720-fcf7-48ab-951e-511059ff6bf3",
   "metadata": {},
   "outputs": [],
   "source": [
    "!echo \"file_to_ignore.txt\" > .gitignore"
   ]
  },
  {
   "cell_type": "code",
   "execution_count": 27,
   "id": "9d8fbdc5-07b3-4f60-903f-c23af8c3633a",
   "metadata": {},
   "outputs": [
    {
     "name": "stdout",
     "output_type": "stream",
     "text": [
      "On branch master\n",
      "Changes to be committed:\n",
      "  (use \"git restore --staged <file>...\" to unstage)\n",
      "\t\u001b[32mmodified:   file_2.txt\u001b[m\n",
      "\n",
      "Untracked files:\n",
      "  (use \"git add <file>...\" to include in what will be committed)\n",
      "\t\u001b[31m.gitignore\u001b[m\n",
      "\n"
     ]
    }
   ],
   "source": [
    "# Note que ya no aparece file_to_ignore.txt\n",
    "!git status"
   ]
  },
  {
   "cell_type": "code",
   "execution_count": 28,
   "id": "ea64a915-69ca-45b8-b768-afd561d10291",
   "metadata": {},
   "outputs": [],
   "source": [
    "!git add .gitignore"
   ]
  },
  {
   "cell_type": "code",
   "execution_count": 29,
   "id": "0dd99ae2-42e0-4d86-843d-baf5bf40ae2c",
   "metadata": {},
   "outputs": [
    {
     "name": "stdout",
     "output_type": "stream",
     "text": [
      "On branch master\n",
      "Changes to be committed:\n",
      "  (use \"git restore --staged <file>...\" to unstage)\n",
      "\t\u001b[32mnew file:   .gitignore\u001b[m\n",
      "\t\u001b[32mmodified:   file_2.txt\u001b[m\n",
      "\n"
     ]
    }
   ],
   "source": [
    "!git status"
   ]
  },
  {
   "cell_type": "markdown",
   "id": "cf76d613-564a-40a7-991c-e63b88d2a054",
   "metadata": {},
   "source": [
    "**Reversión de cambios**"
   ]
  },
  {
   "cell_type": "code",
   "execution_count": 30,
   "id": "3e19de24-7274-4bc9-85f2-3c685e0f9953",
   "metadata": {},
   "outputs": [
    {
     "name": "stdout",
     "output_type": "stream",
     "text": [
      "hello world\n",
      "Hola mundo cruel!\n"
     ]
    }
   ],
   "source": [
    "!cat file_2.txt"
   ]
  },
  {
   "cell_type": "code",
   "execution_count": 31,
   "id": "e390fbb0-0bb6-4b01-a3ce-f741b5ce09cb",
   "metadata": {},
   "outputs": [],
   "source": [
    "!git restore file_2.txt"
   ]
  },
  {
   "cell_type": "code",
   "execution_count": 32,
   "id": "3e919cbb-4522-42f0-8d17-bf9e74cd5096",
   "metadata": {},
   "outputs": [
    {
     "name": "stdout",
     "output_type": "stream",
     "text": [
      "hello world\n",
      "Hola mundo cruel!\n"
     ]
    }
   ],
   "source": [
    "!cat file_2.txt"
   ]
  },
  {
   "cell_type": "code",
   "execution_count": 33,
   "id": "3efb3a02-bb17-403d-b087-0161655990a1",
   "metadata": {},
   "outputs": [
    {
     "name": "stdout",
     "output_type": "stream",
     "text": [
      "On branch master\n",
      "Changes to be committed:\n",
      "  (use \"git restore --staged <file>...\" to unstage)\n",
      "\t\u001b[32mnew file:   .gitignore\u001b[m\n",
      "\t\u001b[32mmodified:   file_2.txt\u001b[m\n",
      "\n"
     ]
    }
   ],
   "source": [
    "!git status"
   ]
  },
  {
   "cell_type": "markdown",
   "id": "7b01f48c-2a0d-43ba-8e4a-3a2803b0a8a0",
   "metadata": {},
   "source": [
    "**Commit**"
   ]
  },
  {
   "cell_type": "code",
   "execution_count": 34,
   "id": "9f8793c2-7d5c-4551-8d8e-495eaf0b0968",
   "metadata": {},
   "outputs": [
    {
     "name": "stdout",
     "output_type": "stream",
     "text": [
      "[master 0985ccd] create .gitignore file\n",
      " 2 files changed, 2 insertions(+)\n",
      " create mode 100644 .gitignore\n"
     ]
    }
   ],
   "source": [
    "!git commit  -m 'create .gitignore file'"
   ]
  },
  {
   "cell_type": "code",
   "execution_count": 35,
   "id": "37439336-1723-4dfa-9490-ae4d78bb36c5",
   "metadata": {},
   "outputs": [
    {
     "name": "stdout",
     "output_type": "stream",
     "text": [
      "On branch master\n",
      "nothing to commit, working tree clean\n"
     ]
    }
   ],
   "source": [
    "!git status"
   ]
  },
  {
   "cell_type": "markdown",
   "id": "fbf65067-99d5-4571-8866-060836b82335",
   "metadata": {},
   "source": [
    "**Borrado de archivos**"
   ]
  },
  {
   "cell_type": "code",
   "execution_count": 36,
   "id": "0b290b2b-7fa3-49fd-a6c7-2b983c1b3484",
   "metadata": {},
   "outputs": [
    {
     "name": "stdout",
     "output_type": "stream",
     "text": [
      "file_1.txt\n",
      "file_2.txt\n",
      "file_to_ignore.txt\n"
     ]
    }
   ],
   "source": [
    "!ls -1"
   ]
  },
  {
   "cell_type": "code",
   "execution_count": 37,
   "id": "4b03188c-c291-4bfc-ae4e-300c2d209529",
   "metadata": {},
   "outputs": [],
   "source": [
    "!rm file_2.txt"
   ]
  },
  {
   "cell_type": "code",
   "execution_count": 38,
   "id": "8b1e64f0-a1e0-4a36-aa0c-445a7a37b751",
   "metadata": {},
   "outputs": [
    {
     "name": "stdout",
     "output_type": "stream",
     "text": [
      "On branch master\n",
      "Changes not staged for commit:\n",
      "  (use \"git add/rm <file>...\" to update what will be committed)\n",
      "  (use \"git restore <file>...\" to discard changes in working directory)\n",
      "\t\u001b[31mdeleted:    file_2.txt\u001b[m\n",
      "\n",
      "no changes added to commit (use \"git add\" and/or \"git commit -a\")\n"
     ]
    }
   ],
   "source": [
    "!git status"
   ]
  },
  {
   "cell_type": "code",
   "execution_count": 39,
   "id": "8b41dfd5-8f6e-4a31-a379-0808cf74296b",
   "metadata": {},
   "outputs": [
    {
     "name": "stdout",
     "output_type": "stream",
     "text": [
      "rm 'file_2.txt'\n"
     ]
    }
   ],
   "source": [
    "!git rm file_2.txt"
   ]
  },
  {
   "cell_type": "code",
   "execution_count": 40,
   "id": "e8b8a80c-10dc-475d-8af1-3ca8c42030b5",
   "metadata": {},
   "outputs": [
    {
     "name": "stdout",
     "output_type": "stream",
     "text": [
      "On branch master\n",
      "Changes to be committed:\n",
      "  (use \"git restore --staged <file>...\" to unstage)\n",
      "\t\u001b[32mdeleted:    file_2.txt\u001b[m\n",
      "\n"
     ]
    }
   ],
   "source": [
    "!git status"
   ]
  },
  {
   "cell_type": "code",
   "execution_count": 41,
   "id": "09a8c625-3748-4715-a766-bc8cc427d842",
   "metadata": {},
   "outputs": [
    {
     "name": "stdout",
     "output_type": "stream",
     "text": [
      "[master e049c5e] dlete file_2.txt\n",
      " 1 file changed, 2 deletions(-)\n",
      " delete mode 100644 file_2.txt\n"
     ]
    }
   ],
   "source": [
    "!git commit -m \"dlete file_2.txt\""
   ]
  },
  {
   "cell_type": "markdown",
   "id": "2ad81296-865c-44e6-9eb3-a593b9937e5c",
   "metadata": {},
   "source": [
    "**Movimiento de archivos**"
   ]
  },
  {
   "cell_type": "code",
   "execution_count": 42,
   "id": "743a838e-c71f-4e80-891b-756a459aaa74",
   "metadata": {},
   "outputs": [],
   "source": [
    "!git mv file_1.txt my_new_file.txt"
   ]
  },
  {
   "cell_type": "code",
   "execution_count": 43,
   "id": "5ed5d044-f405-4f2a-a1aa-287e25a8fde7",
   "metadata": {},
   "outputs": [
    {
     "name": "stdout",
     "output_type": "stream",
     "text": [
      "On branch master\n",
      "Changes to be committed:\n",
      "  (use \"git restore --staged <file>...\" to unstage)\n",
      "\t\u001b[32mrenamed:    file_1.txt -> my_new_file.txt\u001b[m\n",
      "\n"
     ]
    }
   ],
   "source": [
    "!git status"
   ]
  },
  {
   "cell_type": "code",
   "execution_count": 44,
   "id": "4eae31e6-1b94-4d9d-b849-5b8c6c62f90f",
   "metadata": {},
   "outputs": [
    {
     "name": "stdout",
     "output_type": "stream",
     "text": [
      "[master 80a9e3a] rename file_1.txt -> my_new_file.txt\n",
      " 1 file changed, 0 insertions(+), 0 deletions(-)\n",
      " rename file_1.txt => my_new_file.txt (100%)\n"
     ]
    }
   ],
   "source": [
    "!git commit -m \"rename file_1.txt -> my_new_file.txt\""
   ]
  },
  {
   "cell_type": "code",
   "execution_count": 45,
   "id": "15930166-b8d1-48e1-b321-ba6a2c5811ff",
   "metadata": {},
   "outputs": [
    {
     "name": "stdout",
     "output_type": "stream",
     "text": [
      "On branch master\n",
      "nothing to commit, working tree clean\n"
     ]
    }
   ],
   "source": [
    "!git status"
   ]
  },
  {
   "cell_type": "code",
   "execution_count": 46,
   "id": "48b8c58d-9346-42e9-8dc6-92a9ee6c1bef",
   "metadata": {},
   "outputs": [
    {
     "name": "stdout",
     "output_type": "stream",
     "text": [
      "file_to_ignore.txt  my_new_file.txt\n"
     ]
    }
   ],
   "source": [
    "!ls"
   ]
  },
  {
   "cell_type": "code",
   "execution_count": 22,
   "id": "2343ba66-ccdf-4895-8fea-fa99303e401c",
   "metadata": {},
   "outputs": [
    {
     "name": "stdout",
     "output_type": "stream",
     "text": [
      "/workspace\n"
     ]
    }
   ],
   "source": [
    "# --< Limpieza del área de trabajo >-------------------------------------------\n",
    "%cd ..\n",
    "!rm -rf git-demo"
   ]
  }
 ],
 "metadata": {
  "kernelspec": {
   "display_name": "Python 3 (ipykernel)",
   "language": "python",
   "name": "python3"
  },
  "language_info": {
   "codemirror_mode": {
    "name": "ipython",
    "version": 3
   },
   "file_extension": ".py",
   "mimetype": "text/x-python",
   "name": "python",
   "nbconvert_exporter": "python",
   "pygments_lexer": "ipython3",
   "version": "3.8.10"
  }
 },
 "nbformat": 4,
 "nbformat_minor": 5
}
