{
 "cells": [
  {
   "cell_type": "markdown",
   "id": "b27ed967-1239-46f5-8669-cbe0560f8e2c",
   "metadata": {
    "tags": []
   },
   "source": [
    "Ramificación y fusión básicas\n",
    "===\n",
    "\n",
    "* Última modificación: Mayo  14, 2022"
   ]
  },
  {
   "cell_type": "markdown",
   "id": "ab499f4d-4ca7-412f-8078-fef050ae53f3",
   "metadata": {},
   "source": [
    "Preparación del proyecto\n",
    "--"
   ]
  },
  {
   "cell_type": "code",
   "execution_count": 1,
   "id": "ea9a554a-35e5-476f-bbae-08decfd7e4cb",
   "metadata": {},
   "outputs": [
    {
     "name": "stdout",
     "output_type": "stream",
     "text": [
      "/workspace/git/git-demo\n"
     ]
    }
   ],
   "source": [
    "!rm -rf git-demo\n",
    "!mkdir git-demo\n",
    "%cd git-demo"
   ]
  },
  {
   "cell_type": "code",
   "execution_count": 2,
   "id": "b4f88806-331d-4fe0-bc24-19c86fb88d83",
   "metadata": {},
   "outputs": [
    {
     "name": "stdout",
     "output_type": "stream",
     "text": [
      "Initialized empty Git repository in /workspace/git/git-demo/.git/\n"
     ]
    }
   ],
   "source": [
    "!git init\n",
    "\n",
    "!git config user.email \"you@example.com\"\n",
    "!git config user.name \"john doe\""
   ]
  },
  {
   "cell_type": "markdown",
   "id": "a4dbace5-c882-4edb-90ad-eed6ebb87ff7",
   "metadata": {},
   "source": [
    "Rama `master`\n",
    "---"
   ]
  },
  {
   "cell_type": "code",
   "execution_count": 3,
   "id": "cc248432-b961-4b07-a0e4-bc418e0aa1c6",
   "metadata": {},
   "outputs": [
    {
     "name": "stdout",
     "output_type": "stream",
     "text": [
      "[master (root-commit) 74c1416] create file_1.txt in master branch\n",
      " 1 file changed, 0 insertions(+), 0 deletions(-)\n",
      " create mode 100644 file_1.txt\n"
     ]
    }
   ],
   "source": [
    "!touch file_1.txt\n",
    "!git add file_1.txt\n",
    "!git commit -m 'create file_1.txt in master branch'"
   ]
  },
  {
   "cell_type": "markdown",
   "id": "49af7ca6-8bbb-49c1-b36c-59bfc10348a1",
   "metadata": {},
   "source": [
    "Creación de rama `testing` y modificación del archivo\n",
    "---"
   ]
  },
  {
   "cell_type": "code",
   "execution_count": 4,
   "id": "ab583b8b-7d84-49ff-8a33-dfafb98b914f",
   "metadata": {},
   "outputs": [
    {
     "name": "stdout",
     "output_type": "stream",
     "text": [
      "Switched to a new branch 'testing'\n",
      "[testing 0542075] add line 1 to file_1.txt in testing branch\n",
      " 1 file changed, 1 insertion(+)\n"
     ]
    }
   ],
   "source": [
    "!git checkout -b testing\n",
    "!echo \"line 1 in file_1.txt in testing branch\" >> file_1.txt\n",
    "!git add file_1.txt\n",
    "!git commit -m 'add line 1 to file_1.txt in testing branch'"
   ]
  },
  {
   "cell_type": "code",
   "execution_count": 5,
   "id": "eef3ead5-46c1-46e9-8ff0-0737311216e9",
   "metadata": {},
   "outputs": [
    {
     "name": "stdout",
     "output_type": "stream",
     "text": [
      "  master\u001b[m\n",
      "* \u001b[32mtesting\u001b[m\n"
     ]
    }
   ],
   "source": [
    "!git branch"
   ]
  },
  {
   "cell_type": "markdown",
   "id": "501b2778-67db-434e-8b8b-fc12181929a7",
   "metadata": {},
   "source": [
    "Retorno a la rama `master`\n",
    "--"
   ]
  },
  {
   "cell_type": "code",
   "execution_count": 6,
   "id": "4f1e9a02-0220-4359-a58f-f16fde11451f",
   "metadata": {},
   "outputs": [
    {
     "name": "stdout",
     "output_type": "stream",
     "text": [
      "Switched to branch 'master'\n"
     ]
    }
   ],
   "source": [
    "!git checkout master"
   ]
  },
  {
   "cell_type": "markdown",
   "id": "0ff7e4ab-86d9-4e11-bd88-066c73f77a44",
   "metadata": {},
   "source": [
    "Creación de la rama hotfix y modificación del archivo\n",
    "--"
   ]
  },
  {
   "cell_type": "code",
   "execution_count": 7,
   "id": "de9314c3-9d26-4042-b878-c96a38549686",
   "metadata": {},
   "outputs": [
    {
     "name": "stdout",
     "output_type": "stream",
     "text": [
      "Switched to a new branch 'hotfix'\n",
      "[hotfix aa12308] add line 1 to file_1.txt in hotfix branch\n",
      " 1 file changed, 1 insertion(+)\n"
     ]
    }
   ],
   "source": [
    "!git checkout -b hotfix\n",
    "!echo \"line 1 in file_1.txt in hotfix branch\" >> file_1.txt\n",
    "!git add file_1.txt\n",
    "!git commit -m 'add line 1 to file_1.txt in hotfix branch'"
   ]
  },
  {
   "cell_type": "code",
   "execution_count": 8,
   "id": "7d43965d-40a8-4798-b6a5-0a711ba861fa",
   "metadata": {},
   "outputs": [
    {
     "name": "stdout",
     "output_type": "stream",
     "text": [
      "* \u001b[32mhotfix\u001b[m\n",
      "  master\u001b[m\n",
      "  testing\u001b[m\n"
     ]
    }
   ],
   "source": [
    "!git branch"
   ]
  },
  {
   "cell_type": "markdown",
   "id": "fe6f605a-fc0f-4aca-8069-d546b3b5d3a6",
   "metadata": {},
   "source": [
    "Retorno a master y fusión de `hotfix`\n",
    "---"
   ]
  },
  {
   "cell_type": "code",
   "execution_count": 9,
   "id": "dbebaa66-515e-40a5-b2d4-67dbd12cbbbe",
   "metadata": {},
   "outputs": [
    {
     "name": "stdout",
     "output_type": "stream",
     "text": [
      "Switched to branch 'master'\n",
      "Updating 74c1416..aa12308\n",
      "Fast-forward\n",
      " file_1.txt | 1 \u001b[32m+\u001b[m\n",
      " 1 file changed, 1 insertion(+)\n"
     ]
    }
   ],
   "source": [
    "!git checkout master\n",
    "!git merge hotfix"
   ]
  },
  {
   "cell_type": "markdown",
   "id": "9f61c377-173e-4ec7-b4a1-9eeba3c9e74f",
   "metadata": {},
   "source": [
    "Borrado de la rama `hotfix`\n",
    "--"
   ]
  },
  {
   "cell_type": "code",
   "execution_count": 10,
   "id": "2a861355-3f8c-4314-8933-2a7f1a703436",
   "metadata": {},
   "outputs": [
    {
     "name": "stdout",
     "output_type": "stream",
     "text": [
      "Deleted branch hotfix (was aa12308).\n"
     ]
    }
   ],
   "source": [
    "!git branch -d hotfix"
   ]
  },
  {
   "cell_type": "code",
   "execution_count": 11,
   "id": "3a069297-31df-41ed-b2ba-bb92e7b87399",
   "metadata": {},
   "outputs": [
    {
     "name": "stdout",
     "output_type": "stream",
     "text": [
      "* \u001b[32mmaster\u001b[m\n",
      "  testing\u001b[m\n"
     ]
    }
   ],
   "source": [
    "!git branch"
   ]
  },
  {
   "cell_type": "markdown",
   "id": "c274d614-ee1a-4919-9006-71561e0a704b",
   "metadata": {},
   "source": [
    "Retorno a la rama `testing`\n",
    "--"
   ]
  },
  {
   "cell_type": "code",
   "execution_count": 12,
   "id": "dd2db3a8-cae8-40a3-b679-a8517e090555",
   "metadata": {},
   "outputs": [
    {
     "name": "stdout",
     "output_type": "stream",
     "text": [
      "Switched to branch 'testing'\n",
      "[testing a2a1ba3] add line 2 to file_1.txt in testing branch\n",
      " 1 file changed, 1 insertion(+)\n"
     ]
    }
   ],
   "source": [
    "!git checkout testing\n",
    "!echo \"line 2 in file_1.txt in testing branch\" >> file_1.txt\n",
    "!git add file_1.txt\n",
    "!git commit -m 'add line 2 to file_1.txt in testing branch'"
   ]
  },
  {
   "cell_type": "markdown",
   "id": "e9d6e377-6515-4fc6-8c2f-5cae4f93bc3a",
   "metadata": {},
   "source": [
    "Retorno a la rama `master` y fusión\n",
    "--"
   ]
  },
  {
   "cell_type": "code",
   "execution_count": 13,
   "id": "f1f82d54-a9f8-4b44-8365-06be49585fc3",
   "metadata": {},
   "outputs": [
    {
     "name": "stdout",
     "output_type": "stream",
     "text": [
      "Switched to branch 'master'\n",
      "Auto-merging file_1.txt\n",
      "CONFLICT (content): Merge conflict in file_1.txt\n",
      "Automatic merge failed; fix conflicts and then commit the result.\n"
     ]
    }
   ],
   "source": [
    "!git checkout master\n",
    "!git merge testing"
   ]
  },
  {
   "cell_type": "markdown",
   "id": "be5597b9-39ca-4f17-9cb0-68be00d258ae",
   "metadata": {},
   "source": [
    "Revisión manual del conflicto\n",
    "--"
   ]
  },
  {
   "cell_type": "code",
   "execution_count": 14,
   "id": "a2aefadd-8e7b-4596-8f21-d68e13ea541a",
   "metadata": {},
   "outputs": [
    {
     "name": "stdout",
     "output_type": "stream",
     "text": [
      "<<<<<<< HEAD\n",
      "line 1 in file_1.txt in hotfix branch\n",
      "=======\n",
      "line 1 in file_1.txt in testing branch\n",
      "line 2 in file_1.txt in testing branch\n",
      ">>>>>>> testing\n"
     ]
    }
   ],
   "source": [
    "!cat file_1.txt"
   ]
  },
  {
   "cell_type": "markdown",
   "id": "ba6a3b17-ee49-4b6c-8ca5-c67fb40eae32",
   "metadata": {},
   "source": [
    "Corrección\n",
    "---"
   ]
  },
  {
   "cell_type": "code",
   "execution_count": 15,
   "id": "5dbf31ab-73ae-4902-97c1-57cee1232b05",
   "metadata": {},
   "outputs": [
    {
     "name": "stdout",
     "output_type": "stream",
     "text": [
      "Overwriting file_1.txt\n"
     ]
    }
   ],
   "source": [
    "%%writefile file_1.txt\n",
    "line 1 in file_1.txt in hotfix branch\n",
    "line 1 in file_1.txt in testing branch\n",
    "line 2 in file_1.txt in testing branch"
   ]
  },
  {
   "cell_type": "code",
   "execution_count": 16,
   "id": "0e6bd0ca-b616-4d36-96ed-a55482107fc0",
   "metadata": {},
   "outputs": [
    {
     "name": "stdout",
     "output_type": "stream",
     "text": [
      "On branch master\n",
      "You have unmerged paths.\n",
      "  (fix conflicts and run \"git commit\")\n",
      "  (use \"git merge --abort\" to abort the merge)\n",
      "\n",
      "Unmerged paths:\n",
      "  (use \"git add <file>...\" to mark resolution)\n",
      "\t\u001b[31mboth modified:   file_1.txt\u001b[m\n",
      "\n",
      "no changes added to commit (use \"git add\" and/or \"git commit -a\")\n"
     ]
    }
   ],
   "source": [
    "!git status"
   ]
  },
  {
   "cell_type": "code",
   "execution_count": 17,
   "id": "2afe54dd-7ad9-4ca0-8aa9-627835c868c0",
   "metadata": {},
   "outputs": [
    {
     "name": "stdout",
     "output_type": "stream",
     "text": [
      "[master 6339475] merge testing branch\n"
     ]
    }
   ],
   "source": [
    "!git add file_1.txt\n",
    "!git commit -m \"merge testing branch\""
   ]
  },
  {
   "cell_type": "code",
   "execution_count": 18,
   "id": "bff0ca28-2732-4735-8958-6b3033263f8b",
   "metadata": {},
   "outputs": [
    {
     "name": "stdout",
     "output_type": "stream",
     "text": [
      "On branch master\n",
      "nothing to commit, working tree clean\n"
     ]
    }
   ],
   "source": [
    "!git status"
   ]
  },
  {
   "cell_type": "code",
   "execution_count": 19,
   "id": "40022ed5-5f99-4fcf-85de-dd1062c86fc1",
   "metadata": {},
   "outputs": [
    {
     "name": "stdout",
     "output_type": "stream",
     "text": [
      "*   \u001b[33m6339475\u001b[m\u001b[33m (\u001b[m\u001b[1;36mHEAD -> \u001b[m\u001b[1;32mmaster\u001b[m\u001b[33m)\u001b[m merge testing branch\n",
      "\u001b[31m|\u001b[m\u001b[32m\\\u001b[m  \n",
      "\u001b[31m|\u001b[m * \u001b[33ma2a1ba3\u001b[m\u001b[33m (\u001b[m\u001b[1;32mtesting\u001b[m\u001b[33m)\u001b[m add line 2 to file_1.txt in testing branch\n",
      "\u001b[31m|\u001b[m * \u001b[33m0542075\u001b[m add line 1 to file_1.txt in testing branch\n",
      "* \u001b[32m|\u001b[m \u001b[33maa12308\u001b[m add line 1 to file_1.txt in hotfix branch\n",
      "\u001b[32m|\u001b[m\u001b[32m/\u001b[m  \n",
      "* \u001b[33m74c1416\u001b[m create file_1.txt in master branch\n"
     ]
    }
   ],
   "source": [
    "!git log --oneline --decorate --graph --all"
   ]
  },
  {
   "cell_type": "code",
   "execution_count": 20,
   "id": "e0233bbf-f42f-4c5d-b3c4-ed186c02099e",
   "metadata": {},
   "outputs": [
    {
     "name": "stdout",
     "output_type": "stream",
     "text": [
      "* \u001b[32mmaster\u001b[m\n",
      "  testing\u001b[m\n"
     ]
    }
   ],
   "source": [
    "!git branch"
   ]
  },
  {
   "cell_type": "markdown",
   "id": "2a68da29-3758-4bd8-a94d-6026af1d6fb6",
   "metadata": {
    "tags": []
   },
   "source": [
    "Borrado de la rama `testing`\n",
    "--"
   ]
  },
  {
   "cell_type": "code",
   "execution_count": 21,
   "id": "ef082440-230b-4c86-9449-13c1882d0f39",
   "metadata": {},
   "outputs": [
    {
     "name": "stdout",
     "output_type": "stream",
     "text": [
      "Deleted branch testing (was a2a1ba3).\n"
     ]
    }
   ],
   "source": [
    "!git branch -d testing"
   ]
  },
  {
   "cell_type": "code",
   "execution_count": 22,
   "id": "a0a9bd9a-5c6c-4780-8639-3ba7a82a71fa",
   "metadata": {},
   "outputs": [
    {
     "name": "stdout",
     "output_type": "stream",
     "text": [
      "* \u001b[32mmaster\u001b[m\n"
     ]
    }
   ],
   "source": [
    "!git branch"
   ]
  },
  {
   "cell_type": "code",
   "execution_count": 23,
   "id": "343c6615-5fc6-49d0-ac8f-23b1321b904e",
   "metadata": {},
   "outputs": [
    {
     "name": "stdout",
     "output_type": "stream",
     "text": [
      "/workspace/git\n"
     ]
    }
   ],
   "source": [
    "# --< Limpieza del área de trabajo >-------------------------------------------\n",
    "%cd ..\n",
    "!rm -rf git-demo"
   ]
  }
 ],
 "metadata": {
  "kernelspec": {
   "display_name": "Python 3 (ipykernel)",
   "language": "python",
   "name": "python3"
  },
  "language_info": {
   "codemirror_mode": {
    "name": "ipython",
    "version": 3
   },
   "file_extension": ".py",
   "mimetype": "text/x-python",
   "name": "python",
   "nbconvert_exporter": "python",
   "pygments_lexer": "ipython3",
   "version": "3.8.10"
  }
 },
 "nbformat": 4,
 "nbformat_minor": 5
}
