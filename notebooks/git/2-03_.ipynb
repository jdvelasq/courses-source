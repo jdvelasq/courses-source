{
 "cells": [
  {
   "cell_type": "markdown",
   "id": "98db16d6-0f41-4a3b-b500-348a8e9740e2",
   "metadata": {
    "tags": []
   },
   "source": [
    "Gestión de ramas\n",
    "===\n",
    "\n",
    "* Última modificación: Mayo  14, 2022"
   ]
  },
  {
   "cell_type": "markdown",
   "id": "7715b598-1180-4c8f-b609-fe5810624838",
   "metadata": {},
   "source": [
    "Preparación del proyecto\n",
    "--"
   ]
  },
  {
   "cell_type": "code",
   "execution_count": 1,
   "id": "860c54d2-d686-43f8-9b7f-e1783824766c",
   "metadata": {},
   "outputs": [
    {
     "name": "stdout",
     "output_type": "stream",
     "text": [
      "/workspace/git/git-demo\n"
     ]
    }
   ],
   "source": [
    "!rm -rf git-demo\n",
    "!mkdir git-demo\n",
    "%cd git-demo"
   ]
  },
  {
   "cell_type": "code",
   "execution_count": 2,
   "id": "9a657a1a-09da-4e9c-8070-ed97d3be7d91",
   "metadata": {},
   "outputs": [
    {
     "name": "stdout",
     "output_type": "stream",
     "text": [
      "Initialized empty Git repository in /workspace/git/git-demo/.git/\n"
     ]
    }
   ],
   "source": [
    "!git init\n",
    "\n",
    "!git config user.email \"you@example.com\"\n",
    "!git config user.name \"john doe\""
   ]
  },
  {
   "cell_type": "markdown",
   "id": "fa761bc3-28a1-4299-a79a-806c0914d7a6",
   "metadata": {},
   "source": [
    "Creación de las ramas\n",
    "---"
   ]
  },
  {
   "cell_type": "code",
   "execution_count": 3,
   "id": "dfd8394e-0abd-43a9-8114-b7d5effa1bdc",
   "metadata": {},
   "outputs": [
    {
     "name": "stdout",
     "output_type": "stream",
     "text": [
      "[master (root-commit) d397c5e] create file_1.txt in master branch\n",
      " 1 file changed, 0 insertions(+), 0 deletions(-)\n",
      " create mode 100644 file_1.txt\n"
     ]
    }
   ],
   "source": [
    "!touch file_1.txt\n",
    "!git add file_1.txt\n",
    "!git commit -m 'create file_1.txt in master branch'"
   ]
  },
  {
   "cell_type": "code",
   "execution_count": 4,
   "id": "eb63f06b-3d4f-44b5-af94-4f7137d4f332",
   "metadata": {},
   "outputs": [
    {
     "name": "stdout",
     "output_type": "stream",
     "text": [
      "Switched to a new branch 'testing'\n",
      "[testing deb600f] create file_2.txt in testing branch\n",
      " 1 file changed, 0 insertions(+), 0 deletions(-)\n",
      " create mode 100644 file_2.txt\n"
     ]
    }
   ],
   "source": [
    "!git checkout -b testing\n",
    "!touch file_2.txt\n",
    "!git add file_2.txt\n",
    "!git commit -m 'create file_2.txt in testing branch'"
   ]
  },
  {
   "cell_type": "code",
   "execution_count": 5,
   "id": "3afbe39f-d254-4569-8c9c-c93cbce93b5e",
   "metadata": {},
   "outputs": [
    {
     "name": "stdout",
     "output_type": "stream",
     "text": [
      "Switched to a new branch 'bad-branch-name'\n",
      "[bad-branch-name a0c7529] create file_3.txt in bad-branch-name branch\n",
      " 1 file changed, 0 insertions(+), 0 deletions(-)\n",
      " create mode 100644 file_3.txt\n"
     ]
    }
   ],
   "source": [
    "!git checkout -b bad-branch-name\n",
    "!touch file_3.txt\n",
    "!git add file_3.txt\n",
    "!git commit -m 'create file_3.txt in bad-branch-name branch'"
   ]
  },
  {
   "cell_type": "code",
   "execution_count": 6,
   "id": "2a046a79-7561-4740-91fd-45362aac6fab",
   "metadata": {},
   "outputs": [
    {
     "name": "stdout",
     "output_type": "stream",
     "text": [
      "Switched to branch 'master'\n",
      "Switched to a new branch 'hotfix'\n",
      "[hotfix baf1847] create file_4.txt in hotfix branch\n",
      " 1 file changed, 0 insertions(+), 0 deletions(-)\n",
      " create mode 100644 file_4.txt\n"
     ]
    }
   ],
   "source": [
    "!git checkout master\n",
    "!git checkout -b hotfix\n",
    "!touch file_4.txt\n",
    "!git add file_4.txt\n",
    "!git commit -m 'create file_4.txt in hotfix branch'"
   ]
  },
  {
   "cell_type": "code",
   "execution_count": 7,
   "id": "e0ca3b91-79cc-43e5-bc2c-c69ba0e59506",
   "metadata": {},
   "outputs": [
    {
     "name": "stdout",
     "output_type": "stream",
     "text": [
      "Switched to branch 'master'\n"
     ]
    }
   ],
   "source": [
    "!git checkout master"
   ]
  },
  {
   "cell_type": "code",
   "execution_count": 8,
   "id": "766bc066-f457-4449-b1d2-f4dfa404a3ba",
   "metadata": {},
   "outputs": [
    {
     "name": "stdout",
     "output_type": "stream",
     "text": [
      "Updating d397c5e..baf1847\n",
      "Fast-forward\n",
      " file_4.txt | 0\n",
      " 1 file changed, 0 insertions(+), 0 deletions(-)\n",
      " create mode 100644 file_4.txt\n"
     ]
    }
   ],
   "source": [
    "!git merge hotfix"
   ]
  },
  {
   "cell_type": "markdown",
   "id": "2fd3dc35-c3fa-40f3-a0f0-fcd040ed6e6f",
   "metadata": {},
   "source": [
    "Gestión\n",
    "---"
   ]
  },
  {
   "cell_type": "code",
   "execution_count": 9,
   "id": "dfc11569-5472-4f3d-bae4-104138f12ef7",
   "metadata": {},
   "outputs": [
    {
     "name": "stdout",
     "output_type": "stream",
     "text": [
      "  bad-branch-name\u001b[m\n",
      "  hotfix\u001b[m\n",
      "* \u001b[32mmaster\u001b[m\n",
      "  testing\u001b[m\n"
     ]
    }
   ],
   "source": [
    "# Lista las ramas e indica cual está activa\n",
    "!git branch"
   ]
  },
  {
   "cell_type": "code",
   "execution_count": 10,
   "id": "dddbc918-3509-4655-a8a4-12cc56b8c26f",
   "metadata": {},
   "outputs": [
    {
     "name": "stdout",
     "output_type": "stream",
     "text": [
      "  bad-branch-name\u001b[m a0c7529 create file_3.txt in bad-branch-name branch\n",
      "  hotfix         \u001b[m baf1847 create file_4.txt in hotfix branch\n",
      "* \u001b[32mmaster         \u001b[m baf1847 create file_4.txt in hotfix branch\n",
      "  testing        \u001b[m deb600f create file_2.txt in testing branch\n"
     ]
    }
   ],
   "source": [
    "# verbose\n",
    "!git branch -v"
   ]
  },
  {
   "cell_type": "code",
   "execution_count": 11,
   "id": "1887c986-7935-420c-a0ea-2c13f3f8f011",
   "metadata": {},
   "outputs": [
    {
     "name": "stdout",
     "output_type": "stream",
     "text": [
      "  hotfix\u001b[m\n",
      "* \u001b[32mmaster\u001b[m\n"
     ]
    }
   ],
   "source": [
    "!git branch --merged"
   ]
  },
  {
   "cell_type": "code",
   "execution_count": 12,
   "id": "515e54ca-381a-4ede-9710-9785559eec3b",
   "metadata": {},
   "outputs": [
    {
     "name": "stdout",
     "output_type": "stream",
     "text": [
      "  bad-branch-name\u001b[m\n",
      "  testing\u001b[m\n"
     ]
    }
   ],
   "source": [
    "!git branch --no-merged"
   ]
  },
  {
   "cell_type": "code",
   "execution_count": 13,
   "id": "006c1a26-cc16-42ff-b168-1368a42f3042",
   "metadata": {},
   "outputs": [],
   "source": [
    "!git branch --move bad-branch-name corrected-branch-name"
   ]
  },
  {
   "cell_type": "code",
   "execution_count": 14,
   "id": "a3e65cc5-07cd-426c-9572-1d22bf6ac772",
   "metadata": {},
   "outputs": [
    {
     "name": "stdout",
     "output_type": "stream",
     "text": [
      "  corrected-branch-name\u001b[m a0c7529 create file_3.txt in bad-branch-name branch\n",
      "  hotfix               \u001b[m baf1847 create file_4.txt in hotfix branch\n",
      "* \u001b[32mmaster               \u001b[m baf1847 create file_4.txt in hotfix branch\n",
      "  testing              \u001b[m deb600f create file_2.txt in testing branch\n"
     ]
    }
   ],
   "source": [
    "!git branch -v"
   ]
  },
  {
   "cell_type": "code",
   "execution_count": 15,
   "id": "633a8d69-6d4f-4009-b43a-da60bb94d7a0",
   "metadata": {},
   "outputs": [
    {
     "name": "stdout",
     "output_type": "stream",
     "text": [
      "  corrected-branch-name\u001b[m a0c7529 create file_3.txt in bad-branch-name branch\n",
      "  hotfix               \u001b[m baf1847 create file_4.txt in hotfix branch\n",
      "* \u001b[32mmain                 \u001b[m baf1847 create file_4.txt in hotfix branch\n",
      "  testing              \u001b[m deb600f create file_2.txt in testing branch\n"
     ]
    }
   ],
   "source": [
    "!git branch --move master main\n",
    "!git branch -v"
   ]
  },
  {
   "cell_type": "code",
   "execution_count": 16,
   "id": "605fb6cd-d50e-447d-8274-53383f9c65e3",
   "metadata": {},
   "outputs": [
    {
     "name": "stdout",
     "output_type": "stream",
     "text": [
      "  corrected-branch-name\u001b[m\n",
      "  hotfix\u001b[m\n",
      "* \u001b[32mmain\u001b[m\n",
      "  testing\u001b[m\n"
     ]
    }
   ],
   "source": [
    "!git branch --all"
   ]
  },
  {
   "cell_type": "code",
   "execution_count": 17,
   "id": "343c6615-5fc6-49d0-ac8f-23b1321b904e",
   "metadata": {},
   "outputs": [
    {
     "name": "stdout",
     "output_type": "stream",
     "text": [
      "/workspace/git\n"
     ]
    }
   ],
   "source": [
    "# --< Limpieza del área de trabajo >-------------------------------------------\n",
    "%cd ..\n",
    "!rm -rf git-demo"
   ]
  }
 ],
 "metadata": {
  "kernelspec": {
   "display_name": "Python 3 (ipykernel)",
   "language": "python",
   "name": "python3"
  },
  "language_info": {
   "codemirror_mode": {
    "name": "ipython",
    "version": 3
   },
   "file_extension": ".py",
   "mimetype": "text/x-python",
   "name": "python",
   "nbconvert_exporter": "python",
   "pygments_lexer": "ipython3",
   "version": "3.8.10"
  }
 },
 "nbformat": 4,
 "nbformat_minor": 5
}
