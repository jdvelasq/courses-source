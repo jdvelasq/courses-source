{
 "cells": [
  {
   "cell_type": "markdown",
   "metadata": {},
   "source": [
    "Regresión Lineal\n",
    "===\n",
    "\n",
    "* 12:08 min | Ultima modificación: Abril 13, 2021 | [YouTube](https://youtu.be/4IrCKOJ5m-A)"
   ]
  },
  {
   "cell_type": "markdown",
   "metadata": {},
   "source": [
    "## Descripción del problema"
   ]
  },
  {
   "cell_type": "markdown",
   "metadata": {},
   "source": [
    "Se desea construir un modelo que permita pronósticar el valor de $y$ a partir del valor de $x$. Se tiene un conjunto de 30 observaciones para construir el modelo de pronóstico."
   ]
  },
  {
   "cell_type": "code",
   "execution_count": 1,
   "metadata": {},
   "outputs": [
    {
     "data": {
      "image/png": "[encoded data removed]",
      "text/plain": [
       "<Figure size 432x288 with 1 Axes>"
      ]
     },
     "metadata": {
      "needs_background": "light"
     },
     "output_type": "display_data"
    }
   ],
   "source": [
    "from sklearn.datasets import make_regression\n",
    "import matplotlib.pyplot as plt\n",
    "\n",
    "X, d = make_regression(\n",
    "    n_samples=100,         #\n",
    "    n_features=1,          #\n",
    "    n_informative=1,       #\n",
    "    bias=0.0,              # intercepto\n",
    "    effective_rank=None,   # numero de vectores singulares para explicar los datos\n",
    "    tail_strength=0.9,     # ? importancia relativa de las colas\n",
    "    noise=12.0,            #\n",
    "    shuffle=False,         # ?\n",
    "    coef=False,            # ?coeficientes de la regresion \n",
    "    random_state=12136)    #\n",
    "\n",
    "plt.scatter(X, d);"
   ]
  },
  {
   "cell_type": "markdown",
   "metadata": {},
   "source": [
    "## Modelo de regresión lineal"
   ]
  },
  {
   "cell_type": "markdown",
   "metadata": {},
   "source": [
    "En un modelo de regresión, la variable dependiente $y$ es una función lineal de las variables independientes $x_i$, tal que:\n",
    "\n",
    "\n",
    "$$y = w_0 + \\sum_{i=1}^N w_i * x_i + e$$\n",
    "\n",
    "\n",
    "Donde: \n",
    "\n",
    "\n",
    "* $y$ es la variable explicada.\n",
    "\n",
    "\n",
    "* $x_i$ es la $i$-ésima variable explicativa del comportamiento de $y$.\n",
    "\n",
    "\n",
    "* $w_0$ es el intercepto del modelo.\n",
    "\n",
    "\n",
    "* $w_i$ es el coeficiente de $x_i$.\n",
    "\n",
    "\n",
    "* $e$ es el error del modelo. Se parte del supuesto de que siguiendo una distribución normal con media cero y varianza $\\sigma^2$ constante y desconocida."
   ]
  },
  {
   "cell_type": "markdown",
   "metadata": {},
   "source": [
    "## Estimación"
   ]
  },
  {
   "cell_type": "markdown",
   "metadata": {},
   "source": [
    "En la siguiente figura se presenta de forma general la regresión de $y_p = e + w_0 + w_1 * x_p$ para $p$ = 1, ..., 5. Los puntos negros representan los datos (las observaciones), y la línea negra representa la ecuación de regresión. Las líneas rojas representan el error $e$ entre el valor observado de $y_p$ y el pronósticado por el modelo para cada valor  $x_p$. "
   ]
  },
  {
   "cell_type": "markdown",
   "metadata": {},
   "source": [
    "![assets/regxy.jpg](assets/regxy.jpg) "
   ]
  },
  {
   "cell_type": "markdown",
   "metadata": {},
   "source": [
    "La estimación de los parámetros $w_i$ del modelo se realiza por mínimos cuadrados ordinarios (OLS), o lo que es lo mismo, minimizando la suma de los errores al cuadrado (SSE)\n",
    "\n",
    "$$\\text{SSE} = \\sum_{p=1}^P e_p^2$$\n",
    "\n",
    "Esto es, se deben encontrar los valores de $w_i$ que minimicen:\n",
    "\n",
    "$$\\text{SSE} =\\sum_{p=1}^P \\left( y_p - w_0 - \\sum_i^N w_i x_{p,i} \\right)^2$$\n",
    "\n",
    "para los $P$ patrones de ejemplo."
   ]
  },
  {
   "cell_type": "markdown",
   "metadata": {},
   "source": [
    "La estimación de los parámetros del modelo minimizando el SSE supone que los errores siguen una distribución normal con media cero y varianza finita y constante. "
   ]
  },
  {
   "cell_type": "markdown",
   "metadata": {},
   "source": [
    "**Actividad.---** Estime los parámetros del modelo de regresión usando el Solver de Microsoft Excel."
   ]
  },
  {
   "cell_type": "markdown",
   "metadata": {},
   "source": [
    "## Especificación"
   ]
  },
  {
   "cell_type": "markdown",
   "metadata": {},
   "source": [
    "A continuación se realiza la estimación del modelo usando Python"
   ]
  },
  {
   "cell_type": "code",
   "execution_count": 2,
   "metadata": {},
   "outputs": [],
   "source": [
    "#\n",
    "# Se usa la función LinearRegresion() para \n",
    "# estimar el modelo de regresión lineal.\n",
    "#\n",
    "from sklearn.linear_model import LinearRegression\n",
    "\n",
    "\n",
    "# Crea el modelo\n",
    "linearRegression = LinearRegression(\n",
    "    fit_intercept=True,               # ?intercepto (w0)\n",
    "    normalize=False,                  # solo para fit_intercept == False\n",
    "    copy_X=True                       # copia X o lo sobreescribe\n",
    ")"
   ]
  },
  {
   "cell_type": "markdown",
   "metadata": {},
   "source": [
    "## Entrenamiento"
   ]
  },
  {
   "cell_type": "code",
   "execution_count": 3,
   "metadata": {},
   "outputs": [
    {
     "data": {
      "text/plain": [
       "LinearRegression(copy_X=True, fit_intercept=True, n_jobs=None, normalize=False)"
      ]
     },
     "execution_count": 3,
     "metadata": {},
     "output_type": "execute_result"
    }
   ],
   "source": [
    "# Calibra el modelo\n",
    "linearRegression.fit(X, d)"
   ]
  },
  {
   "cell_type": "code",
   "execution_count": 4,
   "metadata": {},
   "outputs": [
    {
     "name": "stdout",
     "output_type": "stream",
     "text": [
      "Coeficientes:  [59.27425921]\n",
      "Intercepto:  -0.3900321834949718\n"
     ]
    }
   ],
   "source": [
    "# Imprime los coeficientes\n",
    "print('Coeficientes: ', linearRegression.coef_)\n",
    "\n",
    "# Imprime el intercepto\n",
    "print('Intercepto: ', linearRegression.intercept_)"
   ]
  },
  {
   "cell_type": "markdown",
   "metadata": {},
   "source": [
    "## Pronóstico"
   ]
  },
  {
   "cell_type": "code",
   "execution_count": 5,
   "metadata": {},
   "outputs": [
    {
     "data": {
      "text/html": [
       "<div>\n",
       "<style scoped>\n",
       "    .dataframe tbody tr th:only-of-type {\n",
       "        vertical-align: middle;\n",
       "    }\n",
       "\n",
       "    .dataframe tbody tr th {\n",
       "        vertical-align: top;\n",
       "    }\n",
       "\n",
       "    .dataframe thead th {\n",
       "        text-align: right;\n",
       "    }\n",
       "</style>\n",
       "<table border=\"1\" class=\"dataframe\">\n",
       "  <thead>\n",
       "    <tr style=\"text-align: right;\">\n",
       "      <th></th>\n",
       "      <th>x</th>\n",
       "      <th>d</th>\n",
       "      <th>y_pred</th>\n",
       "    </tr>\n",
       "  </thead>\n",
       "  <tbody>\n",
       "    <tr>\n",
       "      <th>0</th>\n",
       "      <td>-0.075482</td>\n",
       "      <td>-10.578417</td>\n",
       "      <td>-4.864184</td>\n",
       "    </tr>\n",
       "    <tr>\n",
       "      <th>1</th>\n",
       "      <td>0.254580</td>\n",
       "      <td>3.454003</td>\n",
       "      <td>14.699995</td>\n",
       "    </tr>\n",
       "    <tr>\n",
       "      <th>2</th>\n",
       "      <td>-1.677905</td>\n",
       "      <td>-99.604299</td>\n",
       "      <td>-99.846584</td>\n",
       "    </tr>\n",
       "    <tr>\n",
       "      <th>3</th>\n",
       "      <td>0.029345</td>\n",
       "      <td>9.184315</td>\n",
       "      <td>1.349368</td>\n",
       "    </tr>\n",
       "    <tr>\n",
       "      <th>4</th>\n",
       "      <td>-1.260155</td>\n",
       "      <td>-78.670116</td>\n",
       "      <td>-75.084778</td>\n",
       "    </tr>\n",
       "    <tr>\n",
       "      <th>...</th>\n",
       "      <td>...</td>\n",
       "      <td>...</td>\n",
       "      <td>...</td>\n",
       "    </tr>\n",
       "    <tr>\n",
       "      <th>95</th>\n",
       "      <td>-1.251230</td>\n",
       "      <td>-81.934639</td>\n",
       "      <td>-74.555751</td>\n",
       "    </tr>\n",
       "    <tr>\n",
       "      <th>96</th>\n",
       "      <td>1.501635</td>\n",
       "      <td>103.842457</td>\n",
       "      <td>88.618274</td>\n",
       "    </tr>\n",
       "    <tr>\n",
       "      <th>97</th>\n",
       "      <td>0.512642</td>\n",
       "      <td>24.328431</td>\n",
       "      <td>29.996461</td>\n",
       "    </tr>\n",
       "    <tr>\n",
       "      <th>98</th>\n",
       "      <td>0.172236</td>\n",
       "      <td>19.723802</td>\n",
       "      <td>9.819109</td>\n",
       "    </tr>\n",
       "    <tr>\n",
       "      <th>99</th>\n",
       "      <td>1.735346</td>\n",
       "      <td>116.411825</td>\n",
       "      <td>102.471323</td>\n",
       "    </tr>\n",
       "  </tbody>\n",
       "</table>\n",
       "<p>100 rows × 3 columns</p>\n",
       "</div>"
      ],
      "text/plain": [
       "           x           d      y_pred\n",
       "0  -0.075482  -10.578417   -4.864184\n",
       "1   0.254580    3.454003   14.699995\n",
       "2  -1.677905  -99.604299  -99.846584\n",
       "3   0.029345    9.184315    1.349368\n",
       "4  -1.260155  -78.670116  -75.084778\n",
       "..       ...         ...         ...\n",
       "95 -1.251230  -81.934639  -74.555751\n",
       "96  1.501635  103.842457   88.618274\n",
       "97  0.512642   24.328431   29.996461\n",
       "98  0.172236   19.723802    9.819109\n",
       "99  1.735346  116.411825  102.471323\n",
       "\n",
       "[100 rows x 3 columns]"
      ]
     },
     "execution_count": 5,
     "metadata": {},
     "output_type": "execute_result"
    }
   ],
   "source": [
    "import pandas as pd\n",
    "\n",
    "\n",
    "df = pd.DataFrame(X, columns = ['x'])\n",
    "df['d'] = d\n",
    "df['y_pred'] = linearRegression.predict(X)\n",
    "df"
   ]
  },
  {
   "cell_type": "code",
   "execution_count": 6,
   "metadata": {},
   "outputs": [
    {
     "data": {
      "image/png": "[encoded data removed]",
      "text/plain": [
       "<Figure size 432x288 with 1 Axes>"
      ]
     },
     "metadata": {
      "needs_background": "light"
     },
     "output_type": "display_data"
    }
   ],
   "source": [
    "#\n",
    "# Gráfico del pronóstico\n",
    "#\n",
    "df.plot.scatter('x', 'd', color='black');\n",
    "plt.plot(df[['x']].values, df.y_pred, color='red');"
   ]
  },
  {
   "cell_type": "markdown",
   "metadata": {},
   "source": [
    "## Efecto del ruído cuando hay pocos datos"
   ]
  },
  {
   "cell_type": "markdown",
   "metadata": {},
   "source": [
    "Cuando existen pocos datos, la estimación del modelo es altamente sensible a los datos usados para su ajuste. En la figura de abajo, se tiene los datos sin ruido (puntos rojos) y la predicción de varios modelos lineales que difieren en los datos de entrenamiento; para variar los datos, se tomaron los valores de $X$ de los puntos rojos y se adicionó ruido aleatorio. Una vez se estimó el nuevo modelo se procedio a graficar su predicción (líneas grises). Como se observa, pequeñas variaciones en $X$ causan cambios muy importantes en el modelo estimado y consecuentemente cambios no despeciables en los pronósticos realizados."
   ]
  },
  {
   "cell_type": "markdown",
   "metadata": {},
   "source": [
    "![assets/lm-1.jpg](assets/lm-1.jpg)"
   ]
  },
  {
   "cell_type": "markdown",
   "metadata": {},
   "source": [
    "## Efecto de outliers"
   ]
  },
  {
   "cell_type": "markdown",
   "metadata": {},
   "source": [
    "Uno de los principales problemas de la regresión lineal es el efecto de los outliers. En la figura de abajo se presenta la recta de regresión lineal estimada para una muestra de diez puntos. En ella se observa que la recta de regresión sigue la tendencia de los puntos."
   ]
  },
  {
   "cell_type": "markdown",
   "metadata": {},
   "source": [
    "![assets/lm-2.jpg](assets/lm-2.jpg)"
   ]
  },
  {
   "cell_type": "markdown",
   "metadata": {},
   "source": [
    "En la siguiente figura se presenta el mismo caso anterior, pero se adicionó un punto en las coordenadas (0, 1), que corresponde a un outlier. En la figura que sigue se observa como la recta de regresión gira hacia el punto."
   ]
  },
  {
   "cell_type": "markdown",
   "metadata": {},
   "source": [
    "![assets/lm-3.jpg](assets/lm-3.jpg)"
   ]
  },
  {
   "cell_type": "markdown",
   "metadata": {},
   "source": [
    "Esto se debe a que en la estimación de los parámetros del modelo de regresión lineal se minimiza la suma de errores al cuadrado:\n",
    "\n",
    "$$\\text{SSE} =\\sum_{i=1}^N (y_i - w_0 - w_1 x_i)^2$$\n",
    "\n",
    "la cual se ve influenciada por valores del error muy grandes, como en el caso de los outliers."
   ]
  },
  {
   "cell_type": "markdown",
   "metadata": {},
   "source": [
    "Para resolver este problema, los parámetros del modelo pueden ser estimados minimizando otras medidas de error, como por ejemplo, la desviación media absoluta:\n",
    "\n",
    "$$\\text{MAD} = \\frac{1}{N} \\sum_{i=1}^N |y_i - w_0 - w_1 x_i|$$"
   ]
  },
  {
   "cell_type": "markdown",
   "metadata": {},
   "source": [
    "**Actividad.---** Estime nuevamente el modelo minimizando la desviación media absoluta."
   ]
  }
 ],
 "metadata": {
  "kernel_info": {
   "name": "python3"
  },
  "kernelspec": {
   "display_name": "Python 3",
   "language": "python",
   "name": "python3"
  },
  "language_info": {
   "codemirror_mode": {
    "name": "ipython",
    "version": 3
   },
   "file_extension": ".py",
   "mimetype": "text/x-python",
   "name": "python",
   "nbconvert_exporter": "python",
   "pygments_lexer": "ipython3",
   "version": "3.6.9"
  },
  "nteract": {
   "version": "0.7.1"
  },
  "varInspector": {
   "cols": {
    "lenName": 16,
    "lenType": 16,
    "lenVar": 40
   },
   "kernels_config": {
    "python": {
     "delete_cmd_postfix": "",
     "delete_cmd_prefix": "del ",
     "library": "var_list.py",
     "varRefreshCmd": "print(var_dic_list())"
    },
    "r": {
     "delete_cmd_postfix": ") ",
     "delete_cmd_prefix": "rm(",
     "library": "var_list.r",
     "varRefreshCmd": "cat(var_dic_list()) "
    }
   },
   "types_to_exclude": [
    "module",
    "function",
    "builtin_function_or_method",
    "instance",
    "_Feature"
   ],
   "window_display": false
  }
 },
 "nbformat": 4,
 "nbformat_minor": 4
}
