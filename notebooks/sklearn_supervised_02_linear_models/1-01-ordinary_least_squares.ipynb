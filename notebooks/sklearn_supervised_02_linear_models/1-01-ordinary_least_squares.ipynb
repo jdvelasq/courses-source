{
 "cells": [
  {
   "cell_type": "markdown",
   "metadata": {},
   "source": [
    "Mínimos cuadrados ordinarios (regresión lineal) --- 9:37 min\n",
    "===\n",
    "\n",
    "* 9:37 min | Ultima modificación: Octubre 17, 2021 | [YouTube](https://youtu.be/0NFoE4fGFak)"
   ]
  },
  {
   "cell_type": "markdown",
   "metadata": {},
   "source": [
    "## Modelo de regresión lineal"
   ]
  },
  {
   "cell_type": "markdown",
   "metadata": {},
   "source": [
    "En un modelo de regresión, la variable dependiente $y$ es una función lineal de las variables independientes $x_i$, tal que:\n",
    "\n",
    "\n",
    "$$y = w_0 + \\sum_{i=1}^N w_i * x_i + e$$\n",
    "\n",
    "\n",
    "Donde: \n",
    "\n",
    "\n",
    "* $y$ es la variable explicada.\n",
    "\n",
    "\n",
    "* $x_i$ es la $i$-ésima variable explicativa del comportamiento de $y$.\n",
    "\n",
    "\n",
    "* $w_0$ es el intercepto del modelo.\n",
    "\n",
    "\n",
    "* $w_i$ es el coeficiente de $x_i$.\n",
    "\n",
    "\n",
    "* $e$ es el error del modelo. Se parte del supuesto de que siguiendo una distribución normal con media cero y varianza $\\sigma^2$ constante y desconocida."
   ]
  },
  {
   "cell_type": "markdown",
   "metadata": {},
   "source": [
    "## Estimación"
   ]
  },
  {
   "cell_type": "markdown",
   "metadata": {},
   "source": [
    "En la siguiente figura se presenta de forma general la regresión de $y_p = e + w_0 + w_1 * x_p$ para $p$ = 1, ..., 5. Los puntos negros representan los datos (las observaciones), y la línea negra representa la ecuación de regresión. Las líneas rojas representan el error $e$ entre el valor observado de $y_p$ y el pronósticado por el modelo para cada valor  $x_p$. "
   ]
  },
  {
   "cell_type": "markdown",
   "metadata": {},
   "source": [
    "![assets/regxy.jpg](assets/regxy.jpg) "
   ]
  },
  {
   "cell_type": "markdown",
   "metadata": {},
   "source": [
    "La estimación de los parámetros $w_i$ del modelo se realiza por mínimos cuadrados ordinarios (OLS), o lo que es lo mismo, minimizando el promedio de los errores al cuadrado (MSE)\n",
    "\n",
    "$$\\text{MSE} = \\frac{1}{P} \\sum_{p=1}^P e_p^2$$\n",
    "\n",
    "Esto es, se deben encontrar los valores de $w_i$ que minimicen:\n",
    "\n",
    "$$\\text{MSE} = \\frac{1}{P} \\sum_{p=1}^P \\left( y_p - w_0 - \\sum_i^N w_i x_{p,i} \\right)^2$$\n",
    "\n",
    "para los $P$ patrones de ejemplo."
   ]
  },
  {
   "cell_type": "markdown",
   "metadata": {},
   "source": [
    "La estimación de los parámetros del modelo minimizando el MSE supone que los errores siguen una distribución normal con media cero y varianza finita y constante. "
   ]
  },
  {
   "cell_type": "markdown",
   "metadata": {},
   "source": [
    "Si las características están correlacionadas (dependencia lineal aproximada), los resultados son altamente sensitivos a los errores aleatorios en la variable objetivo."
   ]
  },
  {
   "cell_type": "markdown",
   "metadata": {},
   "source": [
    "## Dataset"
   ]
  },
  {
   "cell_type": "code",
   "execution_count": 1,
   "metadata": {},
   "outputs": [
    {
     "data": {
      "text/plain": [
       "[]"
      ]
     },
     "execution_count": 1,
     "metadata": {},
     "output_type": "execute_result"
    },
    {
     "data": {
      "image/png": "[encoded data removed]",
      "text/plain": [
       "<Figure size 504x504 with 1 Axes>"
      ]
     },
     "metadata": {
      "needs_background": "light"
     },
     "output_type": "display_data"
    }
   ],
   "source": [
    "import matplotlib.pyplot as plt\n",
    "from sklearn.datasets import make_regression\n",
    "\n",
    "X, y_true = make_regression(\n",
    "    n_samples=100,\n",
    "    n_features=1,\n",
    "    n_informative=1,\n",
    "    #\n",
    "    # Intecepto\n",
    "    bias=0.0,\n",
    "    #\n",
    "    # numero de vectores singulares para explicar\n",
    "    # los datos\n",
    "    effective_rank=None,\n",
    "    #\n",
    "    # importancia relativa de las colas\n",
    "    tail_strength=0.9,\n",
    "    noise=12.0,\n",
    "    shuffle=False,\n",
    "    coef=False,\n",
    "    random_state=0,\n",
    ")\n",
    "\n",
    "plt.figure(figsize=(7, 7))\n",
    "plt.scatter(X, y_true, color=\"tab:blue\", alpha=0.8, edgecolors=\"white\")\n",
    "plt.gca().spines[\"left\"].set_color(\"gray\")\n",
    "plt.gca().spines[\"bottom\"].set_color(\"gray\")\n",
    "plt.gca().spines[\"top\"].set_visible(False)\n",
    "plt.gca().spines[\"right\"].set_visible(False)\n",
    "plt.plot()"
   ]
  },
  {
   "cell_type": "markdown",
   "metadata": {},
   "source": [
    "## Modelo"
   ]
  },
  {
   "cell_type": "markdown",
   "metadata": {},
   "source": [
    "https://scikit-learn.org/stable/modules/generated/sklearn.linear_model.LinearRegression.html"
   ]
  },
  {
   "cell_type": "code",
   "execution_count": 2,
   "metadata": {},
   "outputs": [
    {
     "data": {
      "text/plain": [
       "array([42.66621538])"
      ]
     },
     "metadata": {},
     "output_type": "display_data"
    },
    {
     "data": {
      "text/plain": [
       "-0.9770181924368713"
      ]
     },
     "metadata": {},
     "output_type": "display_data"
    },
    {
     "data": {
      "text/plain": [
       "0.9183527010047458"
      ]
     },
     "metadata": {},
     "output_type": "display_data"
    }
   ],
   "source": [
    "from sklearn.linear_model import LinearRegression\n",
    "\n",
    "linearRegression = LinearRegression(\n",
    "    #\n",
    "    # Ajusta el intercepto?\n",
    "    fit_intercept=True,\n",
    "    #\n",
    "    # Normaliza los datos?\n",
    "    # Se ignora si fit_intercept=True.\n",
    "    normalize=False,\n",
    ")\n",
    "\n",
    "linearRegression.fit(X, y_true)\n",
    "\n",
    "display(\n",
    "    linearRegression.coef_,\n",
    "    linearRegression.intercept_,\n",
    "    linearRegression.score(X, y_true),\n",
    ")"
   ]
  },
  {
   "cell_type": "code",
   "execution_count": 3,
   "metadata": {},
   "outputs": [
    {
     "data": {
      "text/plain": [
       "{'copy_X': True, 'fit_intercept': True, 'n_jobs': None, 'normalize': False}"
      ]
     },
     "execution_count": 3,
     "metadata": {},
     "output_type": "execute_result"
    }
   ],
   "source": [
    "#\n",
    "# Recuperación de los parámetros con que fue\n",
    "# especificado el estimador\n",
    "#\n",
    "linearRegression.get_params()"
   ]
  },
  {
   "cell_type": "code",
   "execution_count": 4,
   "metadata": {},
   "outputs": [
    {
     "data": {
      "image/png": "[encoded data removed]",
      "text/plain": [
       "<Figure size 504x504 with 1 Axes>"
      ]
     },
     "metadata": {
      "needs_background": "light"
     },
     "output_type": "display_data"
    }
   ],
   "source": [
    "import numpy as np\n",
    "\n",
    "line_X = np.linspace(X.min(), X.max())[:, np.newaxis]\n",
    "y_pred = linearRegression.predict(line_X)\n",
    "\n",
    "plt.figure(figsize=(7, 7))\n",
    "\n",
    "plt.scatter(X, y_true, color=\"tab:blue\", alpha=0.8, edgecolors=\"white\")\n",
    "plt.plot(line_X, y_pred, \"k\", linewidth=2)\n",
    "\n",
    "plt.gca().spines[\"left\"].set_color(\"gray\")\n",
    "plt.gca().spines[\"bottom\"].set_color(\"gray\")\n",
    "plt.gca().spines[\"top\"].set_visible(False)\n",
    "plt.gca().spines[\"right\"].set_visible(False)\n",
    "\n",
    "plt.show()"
   ]
  },
  {
   "cell_type": "markdown",
   "metadata": {},
   "source": [
    "## Efecto de outliers"
   ]
  },
  {
   "cell_type": "markdown",
   "metadata": {},
   "source": [
    "https://scikit-learn.org/stable/auto_examples/linear_model/plot_ransac.html#sphx-glr-auto-examples-linear-model-plot-ransac-py"
   ]
  },
  {
   "cell_type": "code",
   "execution_count": 5,
   "metadata": {},
   "outputs": [
    {
     "data": {
      "image/png": "[encoded data removed]",
      "text/plain": [
       "<Figure size 504x504 with 1 Axes>"
      ]
     },
     "metadata": {
      "needs_background": "light"
     },
     "output_type": "display_data"
    }
   ],
   "source": [
    "import numpy as np\n",
    "\n",
    "n_outliers = 5\n",
    "\n",
    "np.random.seed(0)\n",
    "X[:n_outliers] = 3 + 0.5 * np.random.normal(size=(n_outliers, 1))\n",
    "y_true[:n_outliers] = -3 + 10 * np.random.normal(size=n_outliers)\n",
    "\n",
    "linearRegression.fit(X, y_true)\n",
    "\n",
    "line_X = np.linspace(X.min(), X.max())[:, np.newaxis]\n",
    "y_pred = linearRegression.predict(line_X)\n",
    "\n",
    "plt.figure(figsize=(7, 7))\n",
    "\n",
    "plt.scatter(X, y_true, color=\"tab:blue\", alpha=0.8, edgecolors=\"white\")\n",
    "plt.plot(line_X, y_pred, \"k\", linewidth=2)\n",
    "\n",
    "plt.gca().spines[\"left\"].set_color(\"gray\")\n",
    "plt.gca().spines[\"bottom\"].set_color(\"gray\")\n",
    "plt.gca().spines[\"top\"].set_visible(False)\n",
    "plt.gca().spines[\"right\"].set_visible(False)\n",
    "\n",
    "plt.show()"
   ]
  }
 ],
 "metadata": {
  "kernel_info": {
   "name": "python3"
  },
  "kernelspec": {
   "display_name": "Python 3",
   "language": "python",
   "name": "python3"
  },
  "language_info": {
   "codemirror_mode": {
    "name": "ipython",
    "version": 3
   },
   "file_extension": ".py",
   "mimetype": "text/x-python",
   "name": "python",
   "nbconvert_exporter": "python",
   "pygments_lexer": "ipython3",
   "version": "3.6.9"
  },
  "nteract": {
   "version": "0.7.1"
  },
  "varInspector": {
   "cols": {
    "lenName": 16,
    "lenType": 16,
    "lenVar": 40
   },
   "kernels_config": {
    "python": {
     "delete_cmd_postfix": "",
     "delete_cmd_prefix": "del ",
     "library": "var_list.py",
     "varRefreshCmd": "print(var_dic_list())"
    },
    "r": {
     "delete_cmd_postfix": ") ",
     "delete_cmd_prefix": "rm(",
     "library": "var_list.r",
     "varRefreshCmd": "cat(var_dic_list()) "
    }
   },
   "types_to_exclude": [
    "module",
    "function",
    "builtin_function_or_method",
    "instance",
    "_Feature"
   ],
   "window_display": false
  }
 },
 "nbformat": 4,
 "nbformat_minor": 4
}
