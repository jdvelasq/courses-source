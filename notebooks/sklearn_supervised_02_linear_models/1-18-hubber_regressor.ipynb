{
 "cells": [
  {
   "cell_type": "markdown",
   "metadata": {},
   "source": [
    "Regresión de Huber y outliers --- 8:24 min\n",
    "=====\n",
    "\n",
    "* 8:24 min | Ultima modificación: Abril 13, 2021 | [YouTube](https://youtu.be/vEPeHpv-pqE)"
   ]
  },
  {
   "cell_type": "markdown",
   "metadata": {},
   "source": [
    "Fuente: https://scikit-learn.org/stable/auto_examples/linear_model/plot_huber_vs_ridge.html#sphx-glr-auto-examples-linear-model-plot-huber-vs-ridge-py"
   ]
  },
  {
   "cell_type": "code",
   "execution_count": 1,
   "metadata": {},
   "outputs": [],
   "source": [
    "import numpy as np\n",
    "from sklearn.datasets import make_regression\n",
    "\n",
    "#\n",
    "# Generación de datos\n",
    "#\n",
    "rng = np.random.RandomState(0)\n",
    "X, y = make_regression(\n",
    "    n_samples=20,\n",
    "    n_features=1,\n",
    "    random_state=0,\n",
    "    noise=4.0,\n",
    "    bias=100.0,\n",
    ")"
   ]
  },
  {
   "cell_type": "code",
   "execution_count": 2,
   "metadata": {},
   "outputs": [
    {
     "data": {
      "text/plain": [
       "(array([[-0.15135721],\n",
       "        [ 0.40015721],\n",
       "        [ 0.97873798],\n",
       "        [-0.85409574],\n",
       "        [-0.97727788],\n",
       "        [ 0.3130677 ],\n",
       "        [-0.10321885],\n",
       "        [-0.20515826],\n",
       "        [ 0.33367433],\n",
       "        [ 1.49407907],\n",
       "        [ 0.95008842],\n",
       "        [ 0.12167502],\n",
       "        [ 1.45427351],\n",
       "        [ 1.86755799],\n",
       "        [ 0.14404357],\n",
       "        [ 0.4105985 ],\n",
       "        [ 0.76103773],\n",
       "        [ 2.2408932 ],\n",
       "        [ 0.44386323],\n",
       "        [ 1.76405235]]),\n",
       " array([ 98.01970393, 108.45865411, 107.77654399,  90.31520078,\n",
       "         92.04796546, 100.14472604, 104.37128562,  95.20896669,\n",
       "        102.50526212, 122.11966081, 112.28760019, 107.32614044,\n",
       "        121.44454917, 125.80345967, 104.3306721 , 112.02618102,\n",
       "        106.59661396, 129.8571502 , 113.51286154, 125.42202601]))"
      ]
     },
     "execution_count": 2,
     "metadata": {},
     "output_type": "execute_result"
    }
   ],
   "source": [
    "X, y"
   ]
  },
  {
   "cell_type": "code",
   "execution_count": 3,
   "metadata": {},
   "outputs": [
    {
     "data": {
      "image/png": "[encoded data removed]",
      "text/plain": [
       "<Figure size 864x432 with 1 Axes>"
      ]
     },
     "metadata": {
      "needs_background": "light"
     },
     "output_type": "display_data"
    }
   ],
   "source": [
    "import matplotlib.pyplot as plt\n",
    "from sklearn.linear_model import HuberRegressor, Ridge\n",
    "\n",
    "#\n",
    "# Adiciona cuatro outliers fuertes al dataset\n",
    "#\n",
    "X_outliers = rng.normal(0, 0.5, size=(4, 1))\n",
    "y_outliers = rng.normal(0, 2.0, size=4)\n",
    "\n",
    "X_outliers[:2, :] += X.max() + X.mean() / 4.0\n",
    "X_outliers[2:, :] += X.min() - X.mean() / 4.0\n",
    "\n",
    "y_outliers[:2] += y.min() - y.mean() / 4.0\n",
    "y_outliers[2:] += y.max() + y.mean() / 4.0\n",
    "\n",
    "X = np.vstack((X, X_outliers))\n",
    "y = np.concatenate((y, y_outliers))\n",
    "\n",
    "plt.figure(figsize=(12, 6))\n",
    "plt.plot(X, y, \"b.\")\n",
    "\n",
    "#\n",
    "# Colores dependiendo de los parámetros de la función de\n",
    "# error de Huber\n",
    "#\n",
    "colors = [\"r-\", \"b-\", \"y-\", \"m-\"]\n",
    "\n",
    "x = np.linspace(X.min(), X.max(), 7)\n",
    "epsilon_values = [1.35, 1.5, 1.75, 1.9]\n",
    "for k, epsilon in enumerate(epsilon_values):\n",
    "    huber = HuberRegressor(\n",
    "        fit_intercept=True,\n",
    "        alpha=0.0,\n",
    "        max_iter=100,\n",
    "        epsilon=epsilon,\n",
    "    )\n",
    "    huber.fit(X, y)\n",
    "    coef_ = huber.coef_ * x + huber.intercept_\n",
    "    plt.plot(x, coef_, colors[k], label=\"huber loss, %s\" % epsilon)\n",
    "\n",
    "#\n",
    "# Ridge regression\n",
    "#\n",
    "ridge = Ridge(\n",
    "    fit_intercept=True,\n",
    "    alpha=0.0,\n",
    "    random_state=0,\n",
    "    normalize=True,\n",
    ")\n",
    "ridge.fit(X, y)\n",
    "coef_ridge = ridge.coef_\n",
    "coef_ = ridge.coef_ * x + ridge.intercept_\n",
    "plt.plot(x, coef_, \"g-\", label=\"ridge regression\")\n",
    "\n",
    "\n",
    "plt.xlabel(\"X\")\n",
    "plt.ylabel(\"y\")\n",
    "plt.legend(loc=0)\n",
    "plt.show()"
   ]
  }
 ],
 "metadata": {
  "kernelspec": {
   "display_name": "Python 3",
   "language": "python",
   "name": "python3"
  },
  "language_info": {
   "codemirror_mode": {
    "name": "ipython",
    "version": 3
   },
   "file_extension": ".py",
   "mimetype": "text/x-python",
   "name": "python",
   "nbconvert_exporter": "python",
   "pygments_lexer": "ipython3",
   "version": "3.6.9"
  }
 },
 "nbformat": 4,
 "nbformat_minor": 4
}
