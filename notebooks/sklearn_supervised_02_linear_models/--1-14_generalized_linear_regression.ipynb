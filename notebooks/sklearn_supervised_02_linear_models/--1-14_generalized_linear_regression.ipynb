{
 "cells": [
  {
   "cell_type": "markdown",
   "id": "fd35ea72-b008-49d7-a4bb-346752346b1b",
   "metadata": {},
   "source": [
    "Regresión Lineal Generalizada\n",
    "===\n",
    "\n",
    "* 28:09 min | Ultima modificación: Abril 14, 2021 | [YouTube]"
   ]
  },
  {
   "cell_type": "code",
   "execution_count": null,
   "id": "dd0a5099-0da5-4559-a5c2-64de837f9118",
   "metadata": {},
   "outputs": [],
   "source": []
  }
 ],
 "metadata": {
  "kernelspec": {
   "display_name": "Python 3",
   "language": "python",
   "name": "python3"
  },
  "language_info": {
   "codemirror_mode": {
    "name": "ipython",
    "version": 3
   },
   "file_extension": ".py",
   "mimetype": "text/x-python",
   "name": "python",
   "nbconvert_exporter": "python",
   "pygments_lexer": "ipython3",
   "version": "3.6.9"
  }
 },
 "nbformat": 4,
 "nbformat_minor": 5
}
