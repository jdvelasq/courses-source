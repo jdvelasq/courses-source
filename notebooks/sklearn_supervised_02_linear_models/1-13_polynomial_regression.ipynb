{
 "cells": [
  {
   "cell_type": "markdown",
   "id": "79408727-c20e-4105-9ec2-d214c7b05197",
   "metadata": {},
   "source": [
    "Regresión polinomial\n",
    "=====\n",
    "\n",
    "* 8:24 min | Ultima modificación: Abril 13, 2021 | [YouTube]"
   ]
  },
  {
   "cell_type": "code",
   "execution_count": null,
   "id": "ef85a39d-ebe3-4696-bdc7-d84abad3fa30",
   "metadata": {},
   "outputs": [],
   "source": []
  }
 ],
 "metadata": {
  "kernelspec": {
   "display_name": "Python 3",
   "language": "python",
   "name": "python3"
  },
  "language_info": {
   "codemirror_mode": {
    "name": "ipython",
    "version": 3
   },
   "file_extension": ".py",
   "mimetype": "text/x-python",
   "name": "python",
   "nbconvert_exporter": "python",
   "pygments_lexer": "ipython3",
   "version": "3.6.9"
  }
 },
 "nbformat": 4,
 "nbformat_minor": 5
}
