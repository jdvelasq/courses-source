{
 "cells": [
  {
   "cell_type": "markdown",
   "metadata": {},
   "source": [
    "Diagnóstico de modelos usando StatsModels\n",
    "===\n",
    "\n",
    "* 22:03 min | Ultima modificación: Abril 13, 2021 | [YouTube](https://youtu.be/VdtgkYWbn7o)"
   ]
  },
  {
   "cell_type": "code",
   "execution_count": 1,
   "metadata": {},
   "outputs": [],
   "source": [
    "import warnings\n",
    "\n",
    "warnings.filterwarnings(\"ignore\")"
   ]
  },
  {
   "cell_type": "markdown",
   "metadata": {},
   "source": [
    "## Datos"
   ]
  },
  {
   "cell_type": "code",
   "execution_count": 2,
   "metadata": {},
   "outputs": [
    {
     "data": {
      "image/png": "[encoded data removed]",
      "text/plain": [
       "<Figure size 432x288 with 1 Axes>"
      ]
     },
     "metadata": {
      "needs_background": "light"
     },
     "output_type": "display_data"
    }
   ],
   "source": [
    "from sklearn.datasets import make_regression\n",
    "import matplotlib.pyplot as plt\n",
    "\n",
    "\n",
    "X, d = make_regression(\n",
    "    n_samples=100,         #\n",
    "    n_features=1,          #\n",
    "    n_informative=1,       #\n",
    "    bias=0.0,              # intercepto\n",
    "    effective_rank=None,   # numero de vectores singulares para explicar los datos\n",
    "    tail_strength=0.9,     # ? importancia relativa de las colas\n",
    "    noise=12.0,            #\n",
    "    shuffle=False,         # ?\n",
    "    coef=False,            # ?coeficientes de la regresion \n",
    "    random_state=12136)    #\n",
    "\n",
    "plt.scatter(X, d);"
   ]
  },
  {
   "cell_type": "markdown",
   "metadata": {},
   "source": [
    "## Estimación del modelo"
   ]
  },
  {
   "cell_type": "code",
   "execution_count": 3,
   "metadata": {},
   "outputs": [
    {
     "name": "stdout",
     "output_type": "stream",
     "text": [
      "                                 OLS Regression Results                                \n",
      "=======================================================================================\n",
      "Dep. Variable:                      y   R-squared (uncentered):                   0.962\n",
      "Model:                            OLS   Adj. R-squared (uncentered):              0.962\n",
      "Method:                 Least Squares   F-statistic:                              2532.\n",
      "Date:                Tue, 13 Apr 2021   Prob (F-statistic):                    2.53e-72\n",
      "Time:                        21:27:06   Log-Likelihood:                         -385.32\n",
      "No. Observations:                 100   AIC:                                      772.6\n",
      "Df Residuals:                      99   BIC:                                      775.2\n",
      "Df Model:                           1                                                  \n",
      "Covariance Type:            nonrobust                                                  \n",
      "==============================================================================\n",
      "                 coef    std err          t      P>|t|      [0.025      0.975]\n",
      "------------------------------------------------------------------------------\n",
      "x1            59.2925      1.178     50.315      0.000      56.954      61.631\n",
      "==============================================================================\n",
      "Omnibus:                        0.655   Durbin-Watson:                   1.760\n",
      "Prob(Omnibus):                  0.721   Jarque-Bera (JB):                0.753\n",
      "Skew:                           0.179   Prob(JB):                        0.686\n",
      "Kurtosis:                       2.772   Cond. No.                         1.00\n",
      "==============================================================================\n",
      "\n",
      "Warnings:\n",
      "[1] Standard Errors assume that the covariance matrix of the errors is correctly specified.\n"
     ]
    }
   ],
   "source": [
    "#\n",
    "# A partir de las matrices X y d\n",
    "#\n",
    "import statsmodels.api as sm\n",
    "\n",
    "model = sm.OLS(d, X)\n",
    "results = model.fit()\n",
    "print(results.summary())"
   ]
  },
  {
   "cell_type": "code",
   "execution_count": 4,
   "metadata": {},
   "outputs": [
    {
     "name": "stdout",
     "output_type": "stream",
     "text": [
      "                            OLS Regression Results                            \n",
      "==============================================================================\n",
      "Dep. Variable:                      d   R-squared:                       0.962\n",
      "Model:                            OLS   Adj. R-squared:                  0.962\n",
      "Method:                 Least Squares   F-statistic:                     2502.\n",
      "Date:                Tue, 13 Apr 2021   Prob (F-statistic):           1.41e-71\n",
      "Time:                        21:27:06   Log-Likelihood:                -385.26\n",
      "No. Observations:                 100   AIC:                             774.5\n",
      "Df Residuals:                      98   BIC:                             779.7\n",
      "Df Model:                           1                                         \n",
      "Covariance Type:            nonrobust                                         \n",
      "==============================================================================\n",
      "                 coef    std err          t      P>|t|      [0.025      0.975]\n",
      "------------------------------------------------------------------------------\n",
      "Intercept     -0.3900      1.153     -0.338      0.736      -2.678       1.898\n",
      "x             59.2743      1.185     50.022      0.000      56.923      61.626\n",
      "==============================================================================\n",
      "Omnibus:                        0.658   Durbin-Watson:                   1.762\n",
      "Prob(Omnibus):                  0.719   Jarque-Bera (JB):                0.756\n",
      "Skew:                           0.180   Prob(JB):                        0.685\n",
      "Kurtosis:                       2.772   Cond. No.                         1.05\n",
      "==============================================================================\n",
      "\n",
      "Warnings:\n",
      "[1] Standard Errors assume that the covariance matrix of the errors is correctly specified.\n"
     ]
    }
   ],
   "source": [
    "#\n",
    "# Regresión usando statsmodels con formulas como en R\n",
    "#\n",
    "import statsmodels.formula.api as smf\n",
    "\n",
    "import pandas as pd\n",
    "\n",
    "# crea un dataframe\n",
    "df = pd.DataFrame(X, columns=[\"x\"])\n",
    "df[\"d\"] = d\n",
    "\n",
    "# Estimación\n",
    "model = smf.ols(formula=\"d ~ x\", data=df)\n",
    "results = model.fit()\n",
    "print(results.summary())"
   ]
  },
  {
   "cell_type": "markdown",
   "metadata": {},
   "source": [
    "## Diagnóstico"
   ]
  },
  {
   "cell_type": "markdown",
   "metadata": {},
   "source": [
    "En la especificación de un modelo se debe verificar lo siguiente:\n",
    "\n",
    "\n",
    "* Los parámetros del modelo $w_0$ y $w_1$ deben ser estadísticamente diferentes de cero.\n",
    "\n",
    "\n",
    "* La distribución de los errores $e$ debe ser normal.\n",
    "\n",
    "\n",
    "* La varianza de los errores $ \\sigma^2 $ debe ser constante.\n",
    "\n",
    "\n",
    "El no cumplimiento de estos supuestos indica que pueden haber problemas en la especificación del modelo o en los datos."
   ]
  },
  {
   "cell_type": "markdown",
   "metadata": {},
   "source": [
    "## Estadístico F\n",
    "\n",
    "En la tabla, es de particular interés el estadístico F. La hipótesis nula es que todos los parámetros del modelo ($w_0$ y $w_1$) son diferentes de cero, versus la hipótesis alterna en que se indica que al menos uno de ellos no es significativamente de cero.     \n",
    "     "
   ]
  },
  {
   "cell_type": "markdown",
   "metadata": {},
   "source": [
    "## Coeficientes de la regresión\n",
    "    \n",
    "En esta fase se verifica los coeficientes sean significativamente diferentes de cero. Ya que el valor esperado de cada parámetro $w_i$ es desconocido, se verifica contra el supuesto de que su valor sea cero; así, se plantea la siguiente prueba de hipótesis:\n",
    "\n",
    "* $H_0$: $w_i=0$\n",
    "* $H_a$: $w_i \\ne 0$\n",
    "\n",
    "suponiendo que la distribución de $w_i$ es normal. Ya que en la práctica hay pocos datos, se reemplaza la normal por la distribución t de Student. La última columna representa la probabilidad de que el valor del parámetro sea cero; es decir, es una prueba de hipótesis usando valores-$p$."
   ]
  },
  {
   "cell_type": "code",
   "execution_count": 5,
   "metadata": {},
   "outputs": [
    {
     "data": {
      "text/plain": [
       "Intercept    -0.390032\n",
       "x            59.274259\n",
       "dtype: float64"
      ]
     },
     "execution_count": 5,
     "metadata": {},
     "output_type": "execute_result"
    }
   ],
   "source": [
    "#\n",
    "# Valores de los parámetros\n",
    "#\n",
    "results.params"
   ]
  },
  {
   "cell_type": "code",
   "execution_count": 6,
   "metadata": {},
   "outputs": [
    {
     "data": {
      "text/plain": [
       "Intercept    1.152827\n",
       "x            1.184968\n",
       "dtype: float64"
      ]
     },
     "execution_count": 6,
     "metadata": {},
     "output_type": "execute_result"
    }
   ],
   "source": [
    "#\n",
    "# Errores estándar\n",
    "#\n",
    "results.bse"
   ]
  },
  {
   "cell_type": "markdown",
   "metadata": {},
   "source": [
    "### Coeficiente de determinación\n",
    "\n",
    "El coeficiente de determinación mide cuanta de la variación de $y$ es explicada por el modelo. Se calcula como:\n",
    "\n",
    "$$R^2 = 1 - \\frac{\\sigma_e^2}{\\sigma_y^2}$$\n",
    "\n",
    "Si la varianza de los errores o residuales $\\sigma_e^2$ es cero, el modelo explica el 100% de la variable $y$. Si $\\sigma_e^2$ es igual a la varianza de $y$ el modelo no explica nada y $R^2$ vale cero."
   ]
  },
  {
   "cell_type": "markdown",
   "metadata": {},
   "source": [
    "### Coeficiente de correlación ajustado\n",
    "\n",
    "El coeficiente de correlación ajustado $\\bar{R}^2$ corrige el valor de $R^2$ por la cantidad de variables $k$ (igual a 2 para el caso analizado) y la cantidad de datos $N$:\n",
    "\n",
    "$$R^2_{\\text{Ajustado}} = 1 - \\frac{N-1}{N-k-1}(1-R^2)$$"
   ]
  },
  {
   "cell_type": "code",
   "execution_count": 7,
   "metadata": {},
   "outputs": [
    {
     "data": {
      "text/plain": [
       "0.9623103703648292"
      ]
     },
     "execution_count": 7,
     "metadata": {},
     "output_type": "execute_result"
    }
   ],
   "source": [
    "#\n",
    "# R2\n",
    "#\n",
    "results.rsquared"
   ]
  },
  {
   "cell_type": "code",
   "execution_count": 8,
   "metadata": {},
   "outputs": [
    {
     "data": {
      "text/plain": [
       "array([  -4.8641841 ,   14.69999471,  -99.84658374,    1.34936759,\n",
       "        -75.08477758,  -70.33333011,   74.36477568,  -27.04768283,\n",
       "         25.75933363,   23.08076632,   -2.48869429,  134.3668712 ,\n",
       "         30.18476404,   95.85117818,    9.63432755,   -1.10944946,\n",
       "        -18.40499472,  -69.1329408 ,   13.2609048 ,  -75.71603408,\n",
       "        -89.77536894,  -55.84721595,  -86.52962821,   34.44078592,\n",
       "         28.38266766,   49.9663123 ,   65.58177882, -103.51898067,\n",
       "        -15.29397954,  -62.66798583,  -18.62457752,   21.70539802,\n",
       "         30.81255241,  -79.63925355,  -39.54556003,  -36.81028591,\n",
       "        -87.96170806,   69.59475048,   57.12959558,  -89.69498628,\n",
       "         51.36484553,   -5.94508383,  -11.06074583,  121.60334338,\n",
       "        -45.21745806,   52.27883148,   10.86682761,  -20.27901048,\n",
       "         12.93267352,   26.08157259,   29.52630151,  -37.35218691,\n",
       "        -11.58004287,   13.55148933,  -69.27296914,  -35.87093349,\n",
       "        -18.95597667,   66.26373212,   37.85593607,  -28.28777375,\n",
       "        -50.24753188, -105.35713968,   87.3285203 ,  -15.36429219,\n",
       "         95.34701077, -103.49842593,  -12.00810102,  -24.39356511,\n",
       "         40.58351204,  -42.13346645,   38.49550015,  -72.01967573,\n",
       "         58.96630842, -118.82148343,   32.94339075,   77.71677833,\n",
       "         59.75885498,   21.63808804,   -2.12302993,   25.14690117,\n",
       "         65.27877177,   27.28819311,  -76.90131105,  -30.09430206,\n",
       "        -13.68376378,  -67.06217156,   53.73070177,  -15.09983791,\n",
       "         19.23924863,  -72.27360749,  -65.67990019,   31.67728637,\n",
       "         82.55633711,  -44.78634278,  -52.94989943,  -74.55575065,\n",
       "         88.61827358,   29.99646126,    9.81910892,  102.47132253])"
      ]
     },
     "execution_count": 8,
     "metadata": {},
     "output_type": "execute_result"
    }
   ],
   "source": [
    "#\n",
    "# Valores pronósticados\n",
    "#\n",
    "results.predict()"
   ]
  },
  {
   "cell_type": "code",
   "execution_count": 9,
   "metadata": {},
   "outputs": [
    {
     "data": {
      "image/png": "[encoded data removed]",
      "text/plain": [
       "<Figure size 432x288 with 1 Axes>"
      ]
     },
     "metadata": {
      "needs_background": "light"
     },
     "output_type": "display_data"
    }
   ],
   "source": [
    "from statsmodels.sandbox.regression.predstd import wls_prediction_std\n",
    "\n",
    "#\n",
    "# Gráfico del pronóstico\n",
    "#\n",
    "mean_pred, lower, upper = wls_prediction_std(results)\n",
    "\n",
    "plt.plot(X, d, \"o\", label=\"data\")\n",
    "plt.plot(X, results.fittedvalues, \"r--.\", label=\"OLS\")\n",
    "plt.plot(X, upper, \"g--\")\n",
    "plt.plot(X, lower, \"g--\");"
   ]
  },
  {
   "cell_type": "code",
   "execution_count": 10,
   "metadata": {},
   "outputs": [
    {
     "data": {
      "image/png": "[encoded data removed]",
      "text/plain": [
       "<Figure size 432x288 with 1 Axes>"
      ]
     },
     "metadata": {
      "needs_background": "light"
     },
     "output_type": "display_data"
    }
   ],
   "source": [
    "#\n",
    "# Gráfico de residuos\n",
    "#\n",
    "plt.stem(X, results.resid, use_line_collection=True);"
   ]
  },
  {
   "cell_type": "code",
   "execution_count": 11,
   "metadata": {},
   "outputs": [
    {
     "data": {
      "text/plain": [
       "[('Jarque-Bera', 0.7561689887942866),\n",
       " ('Chi^2 two-tail prob.', 0.6851726049737776),\n",
       " ('Skew', 0.17979614177190884),\n",
       " ('Kurtosis', 2.771583829542715)]"
      ]
     },
     "execution_count": 11,
     "metadata": {},
     "output_type": "execute_result"
    }
   ],
   "source": [
    "#\n",
    "# Normalidad de los residuos\n",
    "#\n",
    "import statsmodels.stats.api as sms\n",
    "from statsmodels.compat import lzip\n",
    "\n",
    "name = [\"Jarque-Bera\", \"Chi^2 two-tail prob.\", \"Skew\", \"Kurtosis\"]\n",
    "test = sms.jarque_bera(results.resid)\n",
    "lzip(name, test)"
   ]
  },
  {
   "cell_type": "code",
   "execution_count": 12,
   "metadata": {},
   "outputs": [
    {
     "data": {
      "text/plain": [
       "[('Lagrange multiplier statistic', 0.5025220538227959),\n",
       " ('p-value', 0.47839404487321224),\n",
       " ('f-value', 0.4949588903275937),\n",
       " ('f p-value', 0.4833917275203843)]"
      ]
     },
     "execution_count": 12,
     "metadata": {},
     "output_type": "execute_result"
    }
   ],
   "source": [
    "#\n",
    "# Prueba de Breush-Pagan\n",
    "#  Se usa para determinar la heterocedasticidad en un modelo\n",
    "#  de regresión lineal\n",
    "#  https://es.wikipedia.org/wiki/Test_de_Breusch-Pagan\n",
    "#\n",
    "name = [\n",
    "    \"Lagrange multiplier statistic\",\n",
    "    \"p-value\",\n",
    "    \"f-value\",\n",
    "    \"f p-value\",\n",
    "]\n",
    "test = sms.het_breuschpagan(results.resid, results.model.exog)\n",
    "lzip(name, test)"
   ]
  },
  {
   "cell_type": "code",
   "execution_count": 13,
   "metadata": {},
   "outputs": [
    {
     "data": {
      "text/plain": [
       "[('F statistic', 0.8929831528098182), ('p-value', 0.6517143645705812)]"
      ]
     },
     "execution_count": 13,
     "metadata": {},
     "output_type": "execute_result"
    }
   ],
   "source": [
    "#\n",
    "# Goldfeld-Quandt test\n",
    "#   Se usa para comprobar la homocedasticidad en modelos de regresión\n",
    "#   https://es.wikipedia.org/wiki/Prueba_de_Goldfeld–Quandt\n",
    "#\n",
    "name = [\"F statistic\", \"p-value\"]\n",
    "test = sms.het_goldfeldquandt(results.resid, results.model.exog)\n",
    "lzip(name, test)"
   ]
  }
 ],
 "metadata": {
  "kernel_info": {
   "name": "python3"
  },
  "kernelspec": {
   "display_name": "Python 3",
   "language": "python",
   "name": "python3"
  },
  "language_info": {
   "codemirror_mode": {
    "name": "ipython",
    "version": 3
   },
   "file_extension": ".py",
   "mimetype": "text/x-python",
   "name": "python",
   "nbconvert_exporter": "python",
   "pygments_lexer": "ipython3",
   "version": "3.6.9"
  },
  "nteract": {
   "version": "0.7.1"
  },
  "varInspector": {
   "cols": {
    "lenName": 16,
    "lenType": 16,
    "lenVar": 40
   },
   "kernels_config": {
    "python": {
     "delete_cmd_postfix": "",
     "delete_cmd_prefix": "del ",
     "library": "var_list.py",
     "varRefreshCmd": "print(var_dic_list())"
    },
    "r": {
     "delete_cmd_postfix": ") ",
     "delete_cmd_prefix": "rm(",
     "library": "var_list.r",
     "varRefreshCmd": "cat(var_dic_list()) "
    }
   },
   "types_to_exclude": [
    "module",
    "function",
    "builtin_function_or_method",
    "instance",
    "_Feature"
   ],
   "window_display": false
  }
 },
 "nbformat": 4,
 "nbformat_minor": 4
}
