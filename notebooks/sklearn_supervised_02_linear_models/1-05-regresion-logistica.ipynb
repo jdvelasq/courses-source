{
 "cells": [
  {
   "cell_type": "markdown",
   "metadata": {},
   "source": [
    "Regresión Logística --- 11:07 min\n",
    "===\n",
    "\n",
    "* 11:07 min | Ultima modificación: Octubre 17, 2021 | [YouTube](https://youtu.be/ztwo9aHdIV0)"
   ]
  },
  {
   "cell_type": "markdown",
   "metadata": {},
   "source": [
    "## Interpretación del modelo"
   ]
  },
  {
   "cell_type": "markdown",
   "metadata": {},
   "source": [
    "Para un problema binario dicotomico con clases $C_1$ y $C_2$, la probabilidad de pertenencia de un punto $\\mathbf{x}$ a la clase $C_1$ depende de los parámetros del modelo $\\mathbf{w}$, tal que:"
   ]
  },
  {
   "cell_type": "markdown",
   "metadata": {},
   "source": [
    "$$\n",
    "p(C_1|\\mathbf{w}) = \\sigma \\left( w_0 + \\sum_i w_i x_i   \\right)\n",
    "$$"
   ]
  },
  {
   "cell_type": "markdown",
   "metadata": {},
   "source": [
    "y la pertenecia a la clase $C_2$ es igual a $1 - p(C_1 | \\mathbf{w})$. En la ecuación anterior, $\\sigma(u)$ es la función logística:"
   ]
  },
  {
   "cell_type": "markdown",
   "metadata": {},
   "source": [
    "$$\n",
    "y_i = \\sigma(u) = \\frac{1}{1+\\exp(-u)}\n",
    "$$"
   ]
  },
  {
   "cell_type": "markdown",
   "metadata": {},
   "source": [
    "![assets/logreg-2.jpg](assets/logreg-2.jpg)"
   ]
  },
  {
   "cell_type": "markdown",
   "metadata": {},
   "source": [
    "En la regresión logística, los parámetros del modelo se estiman a través de la minimización de la función de entropía cruzada, definida como:\n",
    "\n",
    "$$ \n",
    "L = - \\sum_i^P d_i \\cdot \\log(y_i) + \n",
    "(1-d_i) \\cdot \\log(1 - y_i)\n",
    "$$ "
   ]
  },
  {
   "cell_type": "markdown",
   "metadata": {},
   "source": [
    "En esta función de error se debe analizar el caso para cada patrón:"
   ]
  },
  {
   "cell_type": "markdown",
   "metadata": {},
   "source": [
    "* Si $d_i = 1$, entonces se desea minimizar $-\\log(y_i)$ por lo que $y_i$ debe ser lo más cercana posible a 1.0 (recuerde que la función logística genera valores entre 0 y 1, y que el término $(1 - d_i) = 0$). "
   ]
  },
  {
   "cell_type": "markdown",
   "metadata": {},
   "source": [
    "* Si $d_i = 0$, entonces se desea minimizar $-\\log(1 - y_i)$ por lo que $y_i$ debe ser lo más cercana posible a 0.0. "
   ]
  },
  {
   "cell_type": "code",
   "execution_count": 1,
   "metadata": {},
   "outputs": [
    {
     "data": {
      "image/png": "[encoded data removed]",
      "text/plain": [
       "<Figure size 864x360 with 2 Axes>"
      ]
     },
     "metadata": {
      "needs_background": "light"
     },
     "output_type": "display_data"
    }
   ],
   "source": [
    "import matplotlib.pyplot as plt\n",
    "import numpy as np\n",
    "\n",
    "\n",
    "def plot_entropy():\n",
    "\n",
    "    x = np.linspace(0.0001, 0.9999, 100)\n",
    "\n",
    "    plt.figure(figsize=(12, 5))\n",
    "\n",
    "    plt.subplot(1, 2, 1)\n",
    "    plt.plot(x, -np.log(x))\n",
    "    plt.xlabel(\"Probabilidad pronosticada (p) con y=1\")\n",
    "    plt.ylabel(\"$-\\log(p)$\")\n",
    "\n",
    "    plt.subplot(1, 2, 2)\n",
    "    plt.plot(x, -np.log(1 - x))\n",
    "    plt.xlabel(\"Probabilidad pronosticada (p) con y=0\")\n",
    "    plt.ylabel(\"$-\\log(p)$\")\n",
    "\n",
    "    plt.show()\n",
    "\n",
    "\n",
    "plot_entropy()"
   ]
  },
  {
   "cell_type": "markdown",
   "metadata": {},
   "source": [
    "Para más de dos clases se generaliza a:\n",
    "\n",
    "$$\n",
    "- \\sum d_c \\cdot \\log (p_c)\n",
    "$$\n",
    "\n",
    "donde $d_c$ indica que el punto pertenece a la clase $c$ y $p_c$ es su probabilidad de pertenencia (resultado del clasificador)."
   ]
  },
  {
   "cell_type": "markdown",
   "metadata": {},
   "source": [
    "## Derivada de la función sigmoidea"
   ]
  },
  {
   "cell_type": "markdown",
   "metadata": {},
   "source": [
    "Para el cómputo de la función de costo (función de entropía cruzada) se requeiere, primero, computar la derivada de la función sigmoidea definida como:"
   ]
  },
  {
   "cell_type": "markdown",
   "metadata": {},
   "source": [
    "$$\n",
    "\\sigma (u) = \\frac{1}{1+\\exp(-u)}\n",
    "$$"
   ]
  },
  {
   "cell_type": "markdown",
   "metadata": {},
   "source": [
    "La derivada se computa como:"
   ]
  },
  {
   "cell_type": "markdown",
   "metadata": {},
   "source": [
    "$$\n",
    "\\begin{split}\n",
    "    \\frac{d}{du} \\sigma(u) \n",
    "    & = \\frac{d}{du} [1 + \\exp(-u)] ^ {-1}\n",
    "    \\\\ \\\\\n",
    "    & = - [1 + \\exp(-u)]^{-2} \\cdot \\frac{d}{du} [1 + \\exp(-u)] \n",
    "    \\\\ \\\\\n",
    "    & = - [1 + \\exp(-u)]^{-2} \\cdot \\frac{d}{du} [\\exp(-u)] \n",
    "    \\\\ \\\\\n",
    "    & = - [1 + \\exp(-u)]^{-2} \\cdot \\exp(-u) \\cdot \\frac{d}{du} (-u)\n",
    "    \\\\ \\\\ \n",
    "    & = - [1 + \\exp(-u)]^{-2} \\cdot \\exp(-u) \\cdot -1 \n",
    "    \\\\ \\\\\n",
    "    & = [1 + \\exp(-u)]^{-2} \\cdot \\exp(-u) \n",
    "    \\\\ \\\\\n",
    "    & = \\frac{\\exp(-u) }{[1 + \\exp(-u)]^2}\n",
    "    \\\\ \\\\\n",
    "    & = \\frac{[1 + \\exp(-u)] - 1}{[1 + \\exp(-u)]^2}\n",
    "    \\\\ \\\\\n",
    "    & = \\frac{1}{1 + \\exp(-u)}\n",
    "        \\left[\n",
    "            \\frac{[1 + \\exp(-u)] - 1}{1 + \\exp(-u)}\n",
    "        \\right]\n",
    "    \\\\ \\\\\n",
    "    & = \\sigma(u) \\cdot \n",
    "        \\left[\n",
    "            \\frac{1 + \\exp(-u)}{1 + \\exp(-u)} \n",
    "            - \\frac{1}{1 + \\exp(-u)} \n",
    "        \\right]\n",
    "    \\\\ \\\\\n",
    "    & = \\sigma(u) \\cdot [1 - \\sigma(u)]\n",
    "\\end{split}\n",
    "$$"
   ]
  },
  {
   "cell_type": "markdown",
   "metadata": {},
   "source": [
    "## Derivada de la función de costo"
   ]
  },
  {
   "cell_type": "markdown",
   "metadata": {},
   "source": [
    "Se computa como:"
   ]
  },
  {
   "cell_type": "markdown",
   "metadata": {},
   "source": [
    "$$\n",
    "\\begin{split}\n",
    "\\frac{\\partial }{\\partial w_j} L \n",
    "    & = \\frac{\\partial }{\\partial w_j} \n",
    "    \\left[ \n",
    "        - \\sum_i^P d_i \\cdot \\log(y_i) + (1-d_i) \\cdot \\log(1 - y_i) \n",
    "    \\right] \n",
    "    \\\\ \\\\\n",
    "    & = - \\sum_i^P \\frac{\\partial }{\\partial w_j} \n",
    "    \\left[     \n",
    "        d_i \\cdot \\log(y_i) + (1-d_i) \\cdot \\log(1 - y_i) \n",
    "    \\right] \n",
    "    \\\\ \\\\\n",
    "    & = - \\sum_i^P d_i \\cdot \\frac{\\partial }{\\partial w_j} \\log(y_i)\n",
    "       + (1-d_i) \\cdot \\frac{\\partial }{\\partial w_j} \\log(1 - y_i)\n",
    "    \\\\ \\\\\n",
    "    & = - \\sum_i^P d_i \\cdot \\frac{1}{y_i}   \\frac{\\partial }{\\partial w_j} y_i\n",
    "       + (1-d_i) \\cdot \\frac{1}{1-y_i} \\frac{\\partial }{\\partial w_j} (1 - y_i)\n",
    "    \\\\ \\\\\n",
    "    & = - \\sum_i^P d_i \\cdot \\frac{1}{y_i} \\cdot \\left[ y_i \\cdot (1 - y_i) \\right] \n",
    "       \\frac{\\partial }{\\partial w_j} u\n",
    "       - (1-d_i) \\cdot \\frac{1}{1-y_i} \\cdot \\left[ y_i \\cdot (1 - y_i) \\right]\n",
    "       \\cdot \\frac{\\partial }{\\partial w_j} u\n",
    "    \\\\ \\\\\n",
    "    & = - \\sum_i^P d_i \\cdot  (1 - y_i)\n",
    "       \\frac{\\partial }{\\partial w_j} u\n",
    "       - (1-d_i) \\cdot y_i \n",
    "       \\cdot \\frac{\\partial }{\\partial w_j} u\n",
    "\\end{split}\n",
    "$$"
   ]
  },
  {
   "cell_type": "markdown",
   "metadata": {},
   "source": [
    "A partir de la ecuación anterior es posible computar el gradiente para los parámetros del modelo"
   ]
  },
  {
   "cell_type": "markdown",
   "metadata": {},
   "source": [
    "$$\n",
    "\\frac{\\partial}{\\partial w_0} L = - \\sum_i^P d_i \\cdot  (1 - y_i)\n",
    "       - (1-d_i) \\cdot y_i \n",
    "$$"
   ]
  },
  {
   "cell_type": "markdown",
   "metadata": {},
   "source": [
    "$$\n",
    "\\frac{\\partial}{\\partial w_j} L = - \\sum_i^P x_j \\cdot [d_i \\cdot  (1 - y_i)\n",
    "       - (1-d_i) \\cdot y_i] \n",
    "$$"
   ]
  },
  {
   "cell_type": "markdown",
   "metadata": {},
   "source": [
    "## Implementacion en scikit-learn"
   ]
  },
  {
   "cell_type": "markdown",
   "metadata": {},
   "source": [
    "scikit-learn implementa diferentes funciones de costo, donde $y_i \\in \\{-1, +1 \\}$:"
   ]
  },
  {
   "cell_type": "markdown",
   "metadata": {},
   "source": [
    "* Penalización $l_2$:"
   ]
  },
  {
   "cell_type": "markdown",
   "metadata": {},
   "source": [
    "$$\n",
    "\\frac{1}{2} \\sum_p w^2_p  + C \\sum_i^n \\log \n",
    "\\left[\n",
    "    \\exp \\left(\n",
    "        -y_i (w_0 + \\sum_p w_p x_p)\n",
    "    \\right)\n",
    "\\right]\n",
    "$$"
   ]
  },
  {
   "cell_type": "markdown",
   "metadata": {},
   "source": [
    "* Penalización $l_1$:"
   ]
  },
  {
   "cell_type": "markdown",
   "metadata": {},
   "source": [
    "$$\n",
    "\\frac{1}{2} \\sum_p |w_p|  + C \\sum_i^n \\log \n",
    "\\left[\n",
    "    \\exp \\left(\n",
    "        -y_i (w_0 + \\sum_p w_p x_p)\n",
    "    \\right)\n",
    "\\right]\n",
    "$$"
   ]
  },
  {
   "cell_type": "markdown",
   "metadata": {},
   "source": [
    "* Elastic-Net:"
   ]
  },
  {
   "cell_type": "markdown",
   "metadata": {},
   "source": [
    "$$\n",
    "\\frac{1-\\rho}{2} \\sum_p w^2_p  \n",
    "+ \\rho \\sum_p |w_p|\n",
    "+ C \\sum_i^n \\log \n",
    "\\left[\n",
    "    \\exp \\left(\n",
    "        -y_i (w_0 + \\sum_p w_p x_p)\n",
    "    \\right)\n",
    "\\right]\n",
    "$$"
   ]
  },
  {
   "cell_type": "markdown",
   "metadata": {},
   "source": [
    "## Ejemplo numérico"
   ]
  },
  {
   "cell_type": "code",
   "execution_count": 2,
   "metadata": {},
   "outputs": [
    {
     "data": {
      "image/png": "[encoded data removed]",
      "text/plain": [
       "<Figure size 432x288 with 1 Axes>"
      ]
     },
     "metadata": {
      "needs_background": "light"
     },
     "output_type": "display_data"
    }
   ],
   "source": [
    "from sklearn.datasets import make_blobs\n",
    "\n",
    "NPOINTS = 150\n",
    "\n",
    "X, d = make_blobs(\n",
    "    n_samples=NPOINTS,\n",
    "    n_features=2,\n",
    "    centers=3,\n",
    "    cluster_std=0.8,\n",
    "    shuffle=False,\n",
    "    random_state=12345,\n",
    ")\n",
    "\n",
    "plt.scatter(X[:50, 0], X[:50, 1], color=\"red\")\n",
    "plt.scatter(X[50:100, 0], X[50:100, 1], color=\"blue\")\n",
    "plt.scatter(X[100:, 0], X[100:, 1], color=\"green\")\n",
    "plt.gca().set_aspect(\"equal\", adjustable=\"box\")"
   ]
  },
  {
   "cell_type": "code",
   "execution_count": 3,
   "metadata": {},
   "outputs": [
    {
     "data": {
      "text/plain": [
       "array([0, 0, 0, 0, 0, 0, 0, 0, 0, 0, 0, 0, 0, 0, 0, 0, 0, 0, 0, 0, 0, 0,\n",
       "       0, 0, 0, 0, 0, 0, 0, 0, 0, 0, 0, 0, 0, 0, 0, 0, 0, 0, 0, 0, 0, 0,\n",
       "       0, 0, 0, 0, 0, 0, 1, 1, 1, 1, 1, 1, 1, 1, 1, 1, 1, 1, 1, 1, 1, 1,\n",
       "       1, 1, 1, 1, 1, 1, 1, 1, 1, 1, 1, 1, 1, 1, 1, 1, 1, 1, 1, 1, 1, 1,\n",
       "       1, 1, 1, 1, 1, 1, 1, 1, 1, 1, 1, 1, 2, 2, 2, 2, 2, 2, 2, 2, 2, 2,\n",
       "       2, 2, 2, 2, 2, 2, 2, 2, 2, 2, 2, 2, 2, 2, 2, 2, 2, 2, 2, 2, 2, 2,\n",
       "       2, 2, 2, 2, 2, 2, 2, 2, 2, 2, 2, 2, 2, 2, 2, 2, 2, 2])"
      ]
     },
     "execution_count": 3,
     "metadata": {},
     "output_type": "execute_result"
    }
   ],
   "source": [
    "from sklearn.linear_model import LogisticRegression\n",
    "from sklearn.metrics import log_loss\n",
    "\n",
    "logisticRegression = LogisticRegression(\n",
    "    #\n",
    "    # ‘l1’, ‘l2’, ‘elasticnet’, ‘none’\n",
    "    penalty=\"none\",\n",
    "    tol=0.0001,\n",
    "    #\n",
    "    # factor inverso para regularizacion (SVM)\n",
    "    C=1.0,\n",
    "    fit_intercept=True,\n",
    "    random_state=None,\n",
    "    #\n",
    "    # 'newton-cg’, ‘lbfgs’, ‘liblinear’, ‘sag’, ‘saga’\n",
    "    solver=\"lbfgs\",\n",
    "    max_iter=100,\n",
    "    #\n",
    "    # ‘ovr’, ‘multinomial’, ‘auto’\n",
    "    multi_class=\"auto\",\n",
    "    verbose=0,\n",
    "    #\n",
    "    # ?re-usa la solución previa\n",
    "    warm_start=False,\n",
    "    #\n",
    "    # Elastic-Net mixing parameter, with 0 <= l1_ratio <= 1\n",
    "    l1_ratio=None,\n",
    ")\n",
    "\n",
    "logisticRegression.fit(X, d)\n",
    "\n",
    "logisticRegression.predict(X)"
   ]
  },
  {
   "cell_type": "code",
   "execution_count": 4,
   "metadata": {},
   "outputs": [
    {
     "data": {
      "text/plain": [
       "array([0])"
      ]
     },
     "execution_count": 4,
     "metadata": {},
     "output_type": "execute_result"
    }
   ],
   "source": [
    "logisticRegression.predict([[2.5, -4.0]])"
   ]
  },
  {
   "cell_type": "code",
   "execution_count": 5,
   "metadata": {},
   "outputs": [
    {
     "data": {
      "text/plain": [
       "array([-5.32731038, -2.58361454,  7.91092493])"
      ]
     },
     "execution_count": 5,
     "metadata": {},
     "output_type": "execute_result"
    }
   ],
   "source": [
    "logisticRegression.intercept_"
   ]
  },
  {
   "cell_type": "code",
   "execution_count": 6,
   "metadata": {},
   "outputs": [
    {
     "data": {
      "text/plain": [
       "array([[ 1.47085335, -1.78916427],\n",
       "       [-1.03371155, -1.63099238],\n",
       "       [-0.4371418 ,  3.42015665]])"
      ]
     },
     "execution_count": 6,
     "metadata": {},
     "output_type": "execute_result"
    }
   ],
   "source": [
    "logisticRegression.coef_"
   ]
  },
  {
   "cell_type": "code",
   "execution_count": 7,
   "metadata": {},
   "outputs": [
    {
     "data": {
      "image/png": "[encoded data removed]",
      "text/plain": [
       "<Figure size 432x288 with 1 Axes>"
      ]
     },
     "metadata": {
      "needs_background": "light"
     },
     "output_type": "display_data"
    }
   ],
   "source": [
    "import numpy as np\n",
    "\n",
    "plt.scatter(X[:50, 0], X[:50, 1], color=\"red\")\n",
    "plt.scatter(X[50:100, 0], X[50:100, 1], color=\"blue\")\n",
    "plt.scatter(X[100:, 0], X[100:, 1], color=\"green\")\n",
    "plt.gca().set_aspect(\"equal\", adjustable=\"box\")\n",
    "\n",
    "xlim = plt.gca().get_xlim()\n",
    "ylim = plt.gca().get_ylim()\n",
    "\n",
    "xplot = np.linspace(start=xlim[0], stop=xlim[1], num=20)\n",
    "\n",
    "fronteraA = (\n",
    "    -logisticRegression.intercept_[0] / logisticRegression.coef_[0][1]\n",
    "    - logisticRegression.coef_[0][0] / logisticRegression.coef_[0][1] * xplot\n",
    ")\n",
    "\n",
    "fronteraB = (\n",
    "    -logisticRegression.intercept_[1] / logisticRegression.coef_[1][1]\n",
    "    - logisticRegression.coef_[1][0] / logisticRegression.coef_[1][1] * xplot\n",
    ")\n",
    "\n",
    "fronteraC = (\n",
    "    -logisticRegression.intercept_[2] / logisticRegression.coef_[2][1]\n",
    "    - logisticRegression.coef_[2][0] / logisticRegression.coef_[2][1] * xplot\n",
    ")\n",
    "\n",
    "plt.plot(xplot, fronteraA, color=\"red\", linewidth=3)\n",
    "plt.plot(xplot, fronteraB, color=\"blue\", linewidth=3)\n",
    "plt.plot(xplot, fronteraC, color=\"green\", linewidth=3)\n",
    "\n",
    "plt.xlim(xlim)\n",
    "plt.ylim(ylim);"
   ]
  },
  {
   "cell_type": "code",
   "execution_count": 8,
   "metadata": {},
   "outputs": [
    {
     "data": {
      "text/plain": [
       "array([[9.99999996e-01, 3.37213413e-09, 5.87763928e-10],\n",
       "       [9.99999987e-01, 9.83061700e-10, 1.16679900e-08],\n",
       "       [1.00000000e+00, 4.42184492e-10, 2.02839427e-13],\n",
       "       [9.99999997e-01, 2.32571602e-09, 3.57170430e-10],\n",
       "       [9.99999999e-01, 2.91545720e-10, 1.06746679e-09],\n",
       "       [9.99999793e-01, 2.06351621e-07, 9.43530066e-10],\n",
       "       [1.00000000e+00, 1.30864625e-10, 2.63441344e-12],\n",
       "       [9.99999984e-01, 1.22786241e-08, 3.48299674e-09],\n",
       "       [1.00000000e+00, 5.12857770e-12, 2.08349752e-14],\n",
       "       [9.99999986e-01, 1.26548112e-08, 8.47345532e-10]])"
      ]
     },
     "execution_count": 8,
     "metadata": {},
     "output_type": "execute_result"
    }
   ],
   "source": [
    "logisticRegression.predict_proba(X)[0:10]"
   ]
  }
 ],
 "metadata": {
  "kernel_info": {
   "name": "python3"
  },
  "kernelspec": {
   "display_name": "Python 3",
   "language": "python",
   "name": "python3"
  },
  "language_info": {
   "codemirror_mode": {
    "name": "ipython",
    "version": 3
   },
   "file_extension": ".py",
   "mimetype": "text/x-python",
   "name": "python",
   "nbconvert_exporter": "python",
   "pygments_lexer": "ipython3",
   "version": "3.6.9"
  },
  "nteract": {
   "version": "0.7.1"
  },
  "varInspector": {
   "cols": {
    "lenName": 16,
    "lenType": 16,
    "lenVar": 40
   },
   "kernels_config": {
    "python": {
     "delete_cmd_postfix": "",
     "delete_cmd_prefix": "del ",
     "library": "var_list.py",
     "varRefreshCmd": "print(var_dic_list())"
    },
    "r": {
     "delete_cmd_postfix": ") ",
     "delete_cmd_prefix": "rm(",
     "library": "var_list.r",
     "varRefreshCmd": "cat(var_dic_list()) "
    }
   },
   "types_to_exclude": [
    "module",
    "function",
    "builtin_function_or_method",
    "instance",
    "_Feature"
   ],
   "window_display": false
  }
 },
 "nbformat": 4,
 "nbformat_minor": 4
}
