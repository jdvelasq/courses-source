{
 "cells": [
  {
   "cell_type": "markdown",
   "id": "f5b3893e-3202-461f-a0b1-fc3a70081e7b",
   "metadata": {},
   "source": [
    "Regresión de Theil Sen\n",
    "=====\n",
    "\n",
    "* 8:24 min | Ultima modificación: Abril 13, 2021 | [YouTube]"
   ]
  },
  {
   "cell_type": "code",
   "execution_count": null,
   "id": "438a235d-e12c-4b14-bafa-88a4ccba754e",
   "metadata": {},
   "outputs": [],
   "source": []
  }
 ],
 "metadata": {
  "kernelspec": {
   "display_name": "Python 3",
   "language": "python",
   "name": "python3"
  },
  "language_info": {
   "codemirror_mode": {
    "name": "ipython",
    "version": 3
   },
   "file_extension": ".py",
   "mimetype": "text/x-python",
   "name": "python",
   "nbconvert_exporter": "python",
   "pygments_lexer": "ipython3",
   "version": "3.6.9"
  }
 },
 "nbformat": 4,
 "nbformat_minor": 5
}
