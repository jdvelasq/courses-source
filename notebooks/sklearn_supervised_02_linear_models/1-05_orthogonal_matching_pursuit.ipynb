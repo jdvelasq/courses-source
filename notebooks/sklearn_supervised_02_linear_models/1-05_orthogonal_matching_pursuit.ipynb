{
 "cells": [
  {
   "cell_type": "markdown",
   "id": "6f96f78c-db82-4e95-b33e-c8223c8394f1",
   "metadata": {
    "tags": []
   },
   "source": [
    "Orthogonal Matching Pursuit (OMP)\n",
    "===\n",
    "\n",
    "* 12:08 min | Ultima modificación: Abril 13, 2021 | [YouTube]"
   ]
  },
  {
   "cell_type": "code",
   "execution_count": null,
   "id": "1e3d4d4e-2cb0-494e-8b9a-dfb484b1ddf0",
   "metadata": {
    "tags": []
   },
   "outputs": [],
   "source": []
  }
 ],
 "metadata": {
  "kernelspec": {
   "display_name": "Python 3",
   "language": "python",
   "name": "python3"
  },
  "language_info": {
   "codemirror_mode": {
    "name": "ipython",
    "version": 3
   },
   "file_extension": ".py",
   "mimetype": "text/x-python",
   "name": "python",
   "nbconvert_exporter": "python",
   "pygments_lexer": "ipython3",
   "version": "3.6.9"
  }
 },
 "nbformat": 4,
 "nbformat_minor": 5
}
