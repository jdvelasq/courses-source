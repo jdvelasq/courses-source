{
 "cells": [
  {
   "cell_type": "markdown",
   "metadata": {},
   "source": [
    "Creacion de interfases de usuario con WTforms\n",
    "==="
   ]
  },
  {
   "cell_type": "markdown",
   "metadata": {},
   "source": [
    "## checkbox"
   ]
  },
  {
   "cell_type": "markdown",
   "metadata": {},
   "source": [
    "**Paso 1.--** Se crea la estructura de directorios. "
   ]
  },
  {
   "cell_type": "code",
   "execution_count": 2,
   "metadata": {},
   "outputs": [
    {
     "name": "stderr",
     "output_type": "stream",
     "text": [
      "rm: examples-09-flask/checkbox: No such file or directory\n"
     ]
    }
   ],
   "source": [
    "%%bash\n",
    "rm -R examples-10-WTforms/checkbox\n",
    "mkdir examples-10-WTforms/checkbox"
   ]
  },
  {
   "cell_type": "markdown",
   "metadata": {},
   "source": [
    "**Paso 2.--** Crea el archivo principal. "
   ]
  },
  {
   "cell_type": "code",
   "execution_count": 5,
   "metadata": {
    "scrolled": true
   },
   "outputs": [
    {
     "name": "stdout",
     "output_type": "stream",
     "text": [
      "Overwriting examples-09-flask/checkbox/main.py\n"
     ]
    }
   ],
   "source": [
    "%%writefile examples-10-WTforms/checkbox.py\n",
    "\n",
    "# coding:utf-8\n",
    "from flask import Flask, render_template\n",
    "from flask_wtf import Form, widgets, SelectMultipleField\n",
    "\n",
    "app = Flask(__name__)\n",
    "app.config.from_object(__name__)\n",
    "\n",
    "\n",
    "class MultiCheckboxField(SelectMultipleField):\n",
    "    widget = widgets.ListWidget(prefix_label=False)\n",
    "    option_widget = widgets.CheckboxInput()\n",
    "\n",
    "class SimpleForm(Form):\n",
    "    string_of_files = ['one\\r\\ntwo\\r\\nthree\\r\\n']\n",
    "    list_of_files = string_of_files[0].split()\n",
    "    # create a list of value/description tuples\n",
    "    files = [(x, x) for x in list_of_files]\n",
    "    example = MultiCheckboxField('Label', choices=files)\n",
    "\n",
    "@app.route('/', methods=['post','get'])\n",
    "@app.route('/index', methods=['post','get'])\n",
    "def hello():\n",
    "    form = SimpleForm()\n",
    "    if form.validate_on_submit():\n",
    "        print(form.example.data)\n",
    "    else:\n",
    "        print(form.errors)\n",
    "    return render_template('example.html',form=form)\n",
    "\n",
    "if __name__ == \"__main__\":\n",
    "    app.run()"
   ]
  },
  {
   "cell_type": "markdown",
   "metadata": {},
   "source": [
    "**Paso 3.--** Se ejecuta (por fuera de jupyter!). "
   ]
  },
  {
   "cell_type": "code",
   "execution_count": 3,
   "metadata": {},
   "outputs": [],
   "source": [
    "# ejecutar por fuera de jupyter\n",
    "# python examples-08-flask/myApp-01/main.py"
   ]
  }
 ],
 "metadata": {
  "kernel_info": {
   "name": "python3"
  },
  "kernelspec": {
   "display_name": "Python 3",
   "language": "python",
   "name": "python3"
  },
  "language_info": {
   "codemirror_mode": {
    "name": "ipython",
    "version": 3
   },
   "file_extension": ".py",
   "mimetype": "text/x-python",
   "name": "python",
   "nbconvert_exporter": "python",
   "pygments_lexer": "ipython3",
   "version": "3.6.7"
  },
  "nteract": {
   "version": "0.7.1"
  }
 },
 "nbformat": 4,
 "nbformat_minor": 2
}
