{
 "cells": [
  {
   "cell_type": "markdown",
   "metadata": {},
   "source": [
    "Desarrollo de una APP para clasificar las flores IRIS usando SDG --- 43:33 min\n",
    "===\n",
    "\n",
    "* 43:33 min | Última modificación: Abril 12, 2021 | [YouTube](https://youtu.be/dnsDd6hXu18)\n"
   ]
  },
  {
   "cell_type": "markdown",
   "metadata": {},
   "source": [
    "**Bibliografia.**\n",
    "\n",
    "* Learning scikit-learn: Machine Learning in Python. R. Garreta, G. Moncecchi. Packt Publishing, 2013.\n",
    "\n",
    "* Monetizing Machine Learning. M. Amunaategui, M. Roopaei. Apress, 2018."
   ]
  },
  {
   "cell_type": "code",
   "execution_count": 1,
   "metadata": {},
   "outputs": [],
   "source": [
    "import warnings\n",
    "warnings.filterwarnings(\"ignore\")"
   ]
  },
  {
   "cell_type": "markdown",
   "metadata": {},
   "source": [
    "## Definición del problema"
   ]
  },
  {
   "cell_type": "markdown",
   "metadata": {},
   "source": [
    "Se desea desarrollar una app que permita la identificación del tipo de flor (virginica, setosa, versicolor) a partir de la medición del tamaño del sépalo y el pétalo."
   ]
  },
  {
   "cell_type": "markdown",
   "metadata": {},
   "source": [
    "![assets/iris.jpg](assets/iris.jpg)"
   ]
  },
  {
   "cell_type": "markdown",
   "metadata": {},
   "source": [
    "Para dearrollar el modelo se tienen 150 medidiciones del ancho y el largo del sépalo y el pétalo para las tres especies de la flor Iris, con 50 mediciones para cada especie. La app debe implementar un clasificador que pronostique la especie de la flor a partir de dichas mediciones."
   ]
  },
  {
   "cell_type": "code",
   "execution_count": 2,
   "metadata": {
    "scrolled": true
   },
   "outputs": [
    {
     "name": "stdout",
     "output_type": "stream",
     "text": [
      ".. _iris_dataset:\n",
      "\n",
      "Iris plants dataset\n",
      "--------------------\n",
      "\n",
      "**Data Set Characteristics:**\n",
      "\n",
      "    :Number of Instances: 150 (50 in each of three classes)\n",
      "    :Number of Attributes: 4 numeric, predictive attributes and the class\n",
      "    :Attribute Information:\n",
      "        - sepal length in cm\n",
      "        - sepal width in cm\n",
      "        - petal length in cm\n",
      "        - petal width in cm\n",
      "        - class:\n",
      "                - Iris-Setosa\n",
      "                - Iris-Versicolour\n",
      "                - Iris-Virginica\n",
      "                \n",
      "    :Summary Statistics:\n",
      "\n",
      "    ============== ==== ==== ======= ===== ====================\n",
      "                    Min  Max   Mean    SD   Class Correlation\n",
      "    ============== ==== ==== ======= ===== ====================\n",
      "    sepal length:   4.3  7.9   5.84   0.83    0.7826\n",
      "    sepal width:    2.0  4.4   3.05   0.43   -0.4194\n",
      "    petal length:   1.0  6.9   3.76   1.76    0.9490  (high!)\n",
      "    petal width:    0.1  2.5   1.20   0.76    0.9565  (high!)\n",
      "    ============== ==== ==== ======= ===== ====================\n",
      "\n",
      "    :Missing Attribute Values: None\n",
      "    :Class Distribution: 33.3% for each of 3 classes.\n",
      "    :Creator: R.A. Fisher\n",
      "    :Donor: Michael Marshall (MARSHALL%PLU@io.arc.nasa.gov)\n",
      "    :Date: July, 1988\n",
      "\n",
      "The famous Iris database, first used by Sir R.A. Fisher. The dataset is taken\n",
      "from Fisher's paper. Note that it's the same as in R, but not as in the UCI\n",
      "Machine Learning Repository, which has two wrong data points.\n",
      "\n",
      "This is perhaps the best known database to be found in the\n",
      "pattern recognition literature.  Fisher's paper is a classic in the field and\n",
      "is referenced frequently to this day.  (See Duda & Hart, for example.)  The\n",
      "data set contains 3 classes of 50 instances each, where each class refers to a\n",
      "type of iris plant.  One class is linearly separable from the other 2; the\n",
      "latter are NOT linearly separable from each other.\n",
      "\n",
      ".. topic:: References\n",
      "\n",
      "   - Fisher, R.A. \"The use of multiple measurements in taxonomic problems\"\n",
      "     Annual Eugenics, 7, Part II, 179-188 (1936); also in \"Contributions to\n",
      "     Mathematical Statistics\" (John Wiley, NY, 1950).\n",
      "   - Duda, R.O., & Hart, P.E. (1973) Pattern Classification and Scene Analysis.\n",
      "     (Q327.D83) John Wiley & Sons.  ISBN 0-471-22361-1.  See page 218.\n",
      "   - Dasarathy, B.V. (1980) \"Nosing Around the Neighborhood: A New System\n",
      "     Structure and Classification Rule for Recognition in Partially Exposed\n",
      "     Environments\".  IEEE Transactions on Pattern Analysis and Machine\n",
      "     Intelligence, Vol. PAMI-2, No. 1, 67-71.\n",
      "   - Gates, G.W. (1972) \"The Reduced Nearest Neighbor Rule\".  IEEE Transactions\n",
      "     on Information Theory, May 1972, 431-433.\n",
      "   - See also: 1988 MLC Proceedings, 54-64.  Cheeseman et al\"s AUTOCLASS II\n",
      "     conceptual clustering system finds 3 classes in the data.\n",
      "   - Many, many more ...\n"
     ]
    }
   ],
   "source": [
    "#\n",
    "# los datos se encuentran disponibles directamente en scikit-learn\n",
    "#\n",
    "from sklearn import datasets\n",
    "data = datasets.load_iris()\n",
    "print(data.DESCR)"
   ]
  },
  {
   "cell_type": "markdown",
   "metadata": {},
   "source": [
    "## Desarrollo del clasificador"
   ]
  },
  {
   "cell_type": "markdown",
   "metadata": {},
   "source": [
    "### Carga y partición de los datos"
   ]
  },
  {
   "cell_type": "code",
   "execution_count": 3,
   "metadata": {},
   "outputs": [
    {
     "data": {
      "text/plain": [
       "((150, 4), (150,))"
      ]
     },
     "execution_count": 3,
     "metadata": {},
     "output_type": "execute_result"
    }
   ],
   "source": [
    "#\n",
    "# Carga de datos.\n",
    "#   Se verifica la cantidad de datos de la muestra\n",
    "#\n",
    "X, y = data.data, data.target\n",
    "X.shape, y.shape"
   ]
  },
  {
   "cell_type": "code",
   "execution_count": 4,
   "metadata": {},
   "outputs": [
    {
     "data": {
      "text/plain": [
       "['sepal length (cm)',\n",
       " 'sepal width (cm)',\n",
       " 'petal length (cm)',\n",
       " 'petal width (cm)']"
      ]
     },
     "execution_count": 4,
     "metadata": {},
     "output_type": "execute_result"
    }
   ],
   "source": [
    "#\n",
    "# Nombres de las variables independientes\n",
    "#\n",
    "data.feature_names"
   ]
  },
  {
   "cell_type": "code",
   "execution_count": 5,
   "metadata": {},
   "outputs": [
    {
     "data": {
      "text/plain": [
       "array(['setosa', 'versicolor', 'virginica'], dtype='<U10')"
      ]
     },
     "execution_count": 5,
     "metadata": {},
     "output_type": "execute_result"
    }
   ],
   "source": [
    "#\n",
    "# Nombres de las clases de salida\n",
    "#\n",
    "data.target_names"
   ]
  },
  {
   "cell_type": "code",
   "execution_count": 6,
   "metadata": {},
   "outputs": [
    {
     "data": {
      "text/plain": [
       "array([0, 0, 0, 0, 0, 0, 0, 0, 0, 0, 0, 0, 0, 0, 0, 0, 0, 0, 0, 0, 0, 0,\n",
       "       0, 0, 0, 0, 0, 0, 0, 0, 0, 0, 0, 0, 0, 0, 0, 0, 0, 0, 0, 0, 0, 0,\n",
       "       0, 0, 0, 0, 0, 0, 1, 1, 1, 1, 1, 1, 1, 1, 1, 1, 1, 1, 1, 1, 1, 1,\n",
       "       1, 1, 1, 1, 1, 1, 1, 1, 1, 1, 1, 1, 1, 1, 1, 1, 1, 1, 1, 1, 1, 1,\n",
       "       1, 1, 1, 1, 1, 1, 1, 1, 1, 1, 1, 1, 2, 2, 2, 2, 2, 2, 2, 2, 2, 2,\n",
       "       2, 2, 2, 2, 2, 2, 2, 2, 2, 2, 2, 2, 2, 2, 2, 2, 2, 2, 2, 2, 2, 2,\n",
       "       2, 2, 2, 2, 2, 2, 2, 2, 2, 2, 2, 2, 2, 2, 2, 2, 2, 2])"
      ]
     },
     "execution_count": 6,
     "metadata": {},
     "output_type": "execute_result"
    }
   ],
   "source": [
    "#\n",
    "# Codificación de la clase a la que pertence cada instancia\n",
    "#\n",
    "data.target"
   ]
  },
  {
   "cell_type": "code",
   "execution_count": 7,
   "metadata": {},
   "outputs": [
    {
     "data": {
      "text/plain": [
       "array(['setosa', 'setosa', 'setosa', 'setosa', 'setosa', 'setosa',\n",
       "       'setosa', 'setosa', 'setosa', 'setosa', 'setosa', 'setosa',\n",
       "       'setosa', 'setosa', 'setosa', 'setosa', 'setosa', 'setosa',\n",
       "       'setosa', 'setosa', 'setosa', 'setosa', 'setosa', 'setosa',\n",
       "       'setosa', 'setosa', 'setosa', 'setosa', 'setosa', 'setosa',\n",
       "       'setosa', 'setosa', 'setosa', 'setosa', 'setosa', 'setosa',\n",
       "       'setosa', 'setosa', 'setosa', 'setosa', 'setosa', 'setosa',\n",
       "       'setosa', 'setosa', 'setosa', 'setosa', 'setosa', 'setosa',\n",
       "       'setosa', 'setosa', 'versicolor', 'versicolor', 'versicolor',\n",
       "       'versicolor', 'versicolor', 'versicolor', 'versicolor',\n",
       "       'versicolor', 'versicolor', 'versicolor', 'versicolor',\n",
       "       'versicolor', 'versicolor', 'versicolor', 'versicolor',\n",
       "       'versicolor', 'versicolor', 'versicolor', 'versicolor',\n",
       "       'versicolor', 'versicolor', 'versicolor', 'versicolor',\n",
       "       'versicolor', 'versicolor', 'versicolor', 'versicolor',\n",
       "       'versicolor', 'versicolor', 'versicolor', 'versicolor',\n",
       "       'versicolor', 'versicolor', 'versicolor', 'versicolor',\n",
       "       'versicolor', 'versicolor', 'versicolor', 'versicolor',\n",
       "       'versicolor', 'versicolor', 'versicolor', 'versicolor',\n",
       "       'versicolor', 'versicolor', 'versicolor', 'versicolor',\n",
       "       'versicolor', 'versicolor', 'versicolor', 'virginica', 'virginica',\n",
       "       'virginica', 'virginica', 'virginica', 'virginica', 'virginica',\n",
       "       'virginica', 'virginica', 'virginica', 'virginica', 'virginica',\n",
       "       'virginica', 'virginica', 'virginica', 'virginica', 'virginica',\n",
       "       'virginica', 'virginica', 'virginica', 'virginica', 'virginica',\n",
       "       'virginica', 'virginica', 'virginica', 'virginica', 'virginica',\n",
       "       'virginica', 'virginica', 'virginica', 'virginica', 'virginica',\n",
       "       'virginica', 'virginica', 'virginica', 'virginica', 'virginica',\n",
       "       'virginica', 'virginica', 'virginica', 'virginica', 'virginica',\n",
       "       'virginica', 'virginica', 'virginica', 'virginica', 'virginica',\n",
       "       'virginica', 'virginica', 'virginica'], dtype='<U10')"
      ]
     },
     "execution_count": 7,
     "metadata": {},
     "output_type": "execute_result"
    }
   ],
   "source": [
    "#\n",
    "# Nombre de la clase a la que pertenece cada instancia\n",
    "#\n",
    "data.target_names[data.target]"
   ]
  },
  {
   "cell_type": "code",
   "execution_count": 8,
   "metadata": {},
   "outputs": [],
   "source": [
    "#\n",
    "# Partición de los datos en conjuntos de entrenamiento y prueba\n",
    "#\n",
    "from sklearn.model_selection import train_test_split\n",
    "\n",
    "X_train, X_test, y_train, y_test = train_test_split(\n",
    "    X, y, test_size=0.25, random_state=33\n",
    ")"
   ]
  },
  {
   "cell_type": "code",
   "execution_count": 9,
   "metadata": {},
   "outputs": [
    {
     "data": {
      "text/plain": [
       "((112, 4), (112,))"
      ]
     },
     "execution_count": 9,
     "metadata": {},
     "output_type": "execute_result"
    }
   ],
   "source": [
    "#\n",
    "# Dimensiones de las variables del conjunto de entrenamiento\n",
    "#\n",
    "X_train.shape, y_train.shape"
   ]
  },
  {
   "cell_type": "code",
   "execution_count": 10,
   "metadata": {},
   "outputs": [
    {
     "data": {
      "text/plain": [
       "((38, 4), (38,))"
      ]
     },
     "execution_count": 10,
     "metadata": {},
     "output_type": "execute_result"
    }
   ],
   "source": [
    "#\n",
    "# Dimensiones de las variables del conjunto de prueba\n",
    "#\n",
    "X_test.shape, y_test.shape"
   ]
  },
  {
   "cell_type": "markdown",
   "metadata": {},
   "source": [
    "### Preprocesamiento"
   ]
  },
  {
   "cell_type": "code",
   "execution_count": 11,
   "metadata": {},
   "outputs": [
    {
     "data": {
      "image/png": "[encoded data removed]",
      "text/plain": [
       "<Figure size 432x288 with 1 Axes>"
      ]
     },
     "metadata": {
      "needs_background": "light"
     },
     "output_type": "display_data"
    }
   ],
   "source": [
    "#\n",
    "# Diagrama de caja y bigote que muestra la distribución \n",
    "# de las variables independientes\n",
    "#\n",
    "import seaborn as sns\n",
    "import pandas as pd\n",
    "import matplotlib.pyplot as plt\n",
    "\n",
    "sns.boxplot(data=pd.DataFrame(X_train, columns = data.feature_names))\n",
    "plt.xticks(rotation=90);"
   ]
  },
  {
   "cell_type": "code",
   "execution_count": 12,
   "metadata": {},
   "outputs": [
    {
     "data": {
      "image/png": "[encoded data removed]",
      "text/plain": [
       "<Figure size 432x288 with 1 Axes>"
      ]
     },
     "metadata": {
      "needs_background": "light"
     },
     "output_type": "display_data"
    }
   ],
   "source": [
    "#\n",
    "# Escalamiento de los datos\n",
    "#  El StandardScaler remueve la media de los datos y \n",
    "#  luego los divide por su desviación estándar\n",
    "#\n",
    "from sklearn.preprocessing import StandardScaler\n",
    "\n",
    "# Crea el preprocesador\n",
    "scaler = StandardScaler()\n",
    "\n",
    "# Entrena el preprocesador. Note que se calcula\n",
    "# unicamente para el conjunto de entrenamiento\n",
    "scaler.fit(X_train)\n",
    "\n",
    "# Escala los conjuntos de entrenamiento y prueba\n",
    "X_train = scaler.transform(X_train)\n",
    "X_test  = scaler.transform(X_test)\n",
    "\n",
    "# Efecto del StandardScaler\n",
    "sns.boxplot(data=pd.DataFrame(X_train, columns = data.feature_names))\n",
    "plt.xticks(rotation=90);"
   ]
  },
  {
   "cell_type": "markdown",
   "metadata": {},
   "source": [
    "### Creación y entrenamiento del clasificador"
   ]
  },
  {
   "cell_type": "code",
   "execution_count": 13,
   "metadata": {},
   "outputs": [
    {
     "name": "stdout",
     "output_type": "stream",
     "text": [
      "[[ -2.74180812   5.95413393  -5.76887665  -6.98842528]\n",
      " [ -8.68565645  -9.52484222  26.02081779 -12.76862443]\n",
      " [ -3.81894703  -9.33877553  26.38137258  30.86932658]]\n",
      "\n",
      "[ 9.99000999e-03 -8.27051030e-01 -5.16766800e+01]\n"
     ]
    }
   ],
   "source": [
    "from sklearn.linear_model import SGDClassifier\n",
    "\n",
    "# Crea y parametriza el clasificador\n",
    "clf = SGDClassifier(max_iter=10, tol=None)\n",
    "\n",
    "# Entrena el clasificador\n",
    "clf.fit(X_train, y_train)\n",
    "\n",
    "# Valores del intercepto de los clasificadores\n",
    "print(clf.coef_)\n",
    "print()\n",
    "\n",
    "# Valores de los coeficientes de los atributos escalados\n",
    "print(clf.intercept_)"
   ]
  },
  {
   "cell_type": "markdown",
   "metadata": {},
   "source": [
    "### Métricas de desempeño usando partición de los datos en entrenamiento y validación"
   ]
  },
  {
   "cell_type": "code",
   "execution_count": 14,
   "metadata": {},
   "outputs": [
    {
     "data": {
      "text/plain": [
       "0.8839285714285714"
      ]
     },
     "execution_count": 14,
     "metadata": {},
     "output_type": "execute_result"
    }
   ],
   "source": [
    "from sklearn import metrics\n",
    "\n",
    "# Pronóstico para el conjunto de entrenamiento\n",
    "y_train_pred = clf.predict(X_train)\n",
    "\n",
    "# Precisión para el conjunto de entrenamiento\n",
    "metrics.accuracy_score(y_train, y_train_pred)"
   ]
  },
  {
   "cell_type": "code",
   "execution_count": 15,
   "metadata": {},
   "outputs": [
    {
     "data": {
      "text/plain": [
       "0.7894736842105263"
      ]
     },
     "execution_count": 15,
     "metadata": {},
     "output_type": "execute_result"
    }
   ],
   "source": [
    "# Precisión para el conjunto de prueba\n",
    "y_pred = clf.predict(X_test)\n",
    "metrics.accuracy_score(y_test, y_pred)"
   ]
  },
  {
   "cell_type": "code",
   "execution_count": 16,
   "metadata": {},
   "outputs": [
    {
     "name": "stdout",
     "output_type": "stream",
     "text": [
      "              precision    recall  f1-score   support\n",
      "\n",
      "      setosa       1.00      1.00      1.00         8\n",
      "  versicolor       0.58      1.00      0.73        11\n",
      "   virginica       1.00      0.58      0.73        19\n",
      "\n",
      "    accuracy                           0.79        38\n",
      "   macro avg       0.86      0.86      0.82        38\n",
      "weighted avg       0.88      0.79      0.79        38\n",
      "\n"
     ]
    }
   ],
   "source": [
    "# \n",
    "# Métricas de evaluación\n",
    "#\n",
    "print(metrics.classification_report(y_test, y_pred, target_names=data.target_names))"
   ]
  },
  {
   "cell_type": "code",
   "execution_count": 17,
   "metadata": {},
   "outputs": [
    {
     "data": {
      "text/plain": [
       "array([[ 8,  0,  0],\n",
       "       [ 0, 11,  0],\n",
       "       [ 0,  8, 11]])"
      ]
     },
     "execution_count": 17,
     "metadata": {},
     "output_type": "execute_result"
    }
   ],
   "source": [
    "#\n",
    "# Matriz de confusión\n",
    "#\n",
    "metrics.confusion_matrix(y_test, y_pred)"
   ]
  },
  {
   "cell_type": "code",
   "execution_count": 18,
   "metadata": {},
   "outputs": [
    {
     "data": {
      "image/png": "[encoded data removed]",
      "text/plain": [
       "<Figure size 432x288 with 2 Axes>"
      ]
     },
     "metadata": {
      "needs_background": "light"
     },
     "output_type": "display_data"
    }
   ],
   "source": [
    "from sklearn.metrics import plot_confusion_matrix\n",
    "\n",
    "#\n",
    "# Note que la función computa internamente\n",
    "# el pronósitco del clasificador\n",
    "#\n",
    "plot_confusion_matrix(\n",
    "    clf,        # clasificador entrenado\n",
    "    X_test,     # matriz de variables de entrada\n",
    "    y_test);    # valor real "
   ]
  },
  {
   "cell_type": "markdown",
   "metadata": {},
   "source": [
    "**Pregunta.---** ¿Es posible mejorar la distribución de la matriz de confusión usando otras métricas de error?"
   ]
  },
  {
   "cell_type": "markdown",
   "metadata": {},
   "source": [
    "### Construcción de un pipeline"
   ]
  },
  {
   "cell_type": "code",
   "execution_count": 19,
   "metadata": {},
   "outputs": [],
   "source": [
    "#\n",
    "# Esta es la estrategia real para implementar modelos\n",
    "#   El pipeline empaqueta todas las operaciones requeridas\n",
    "#   por el clasificador.\n",
    "#\n",
    "from sklearn.pipeline import Pipeline\n",
    "\n",
    "clf = Pipeline([\n",
    "    ('scaler', StandardScaler()),\n",
    "    ('linear_model', SGDClassifier(max_iter=10, tol=None))\n",
    "])"
   ]
  },
  {
   "cell_type": "markdown",
   "metadata": {},
   "source": [
    "### Evaluación del desempeño (del pipeline) usando validación cruzada"
   ]
  },
  {
   "cell_type": "code",
   "execution_count": 20,
   "metadata": {},
   "outputs": [
    {
     "name": "stdout",
     "output_type": "stream",
     "text": [
      "[1.         0.8        0.8        0.93333333 0.93333333 0.73333333\n",
      " 0.86666667 0.93333333 1.         1.        ]\n",
      "Mean score: 0.900 (+/- 0.030)\n"
     ]
    }
   ],
   "source": [
    "#\n",
    "# Computa la precisión usando validación cruzada\n",
    "#\n",
    "from sklearn.model_selection import cross_val_score\n",
    "from scipy.stats import sem\n",
    "import numpy as np\n",
    "\n",
    "scores = cross_val_score(\n",
    "    clf,        # clasificador\n",
    "    X,          # \n",
    "    y,          #\n",
    "    cv=10)      # Número de particiones para realizar validación cruzada\n",
    "\n",
    "print(scores)\n",
    "print(\"Mean score: {0:.3f} (+/- {1:.3f})\".format(np.mean(scores), sem(scores)))"
   ]
  },
  {
   "cell_type": "markdown",
   "metadata": {},
   "source": [
    "### Almacenamiento y restauración del (pipeline) modelo"
   ]
  },
  {
   "cell_type": "code",
   "execution_count": 21,
   "metadata": {},
   "outputs": [],
   "source": [
    "#\n",
    "# Se entrena el modelo definitivo\n",
    "# \n",
    "clf.fit(X, y);  # este es el pipeline"
   ]
  },
  {
   "cell_type": "code",
   "execution_count": 22,
   "metadata": {},
   "outputs": [],
   "source": [
    "#\n",
    "# Almacenamiento en disco\n",
    "#\n",
    "import pickle\n",
    "\n",
    "# Abre el archivo en disco modo binario para escritura\n",
    "with open('clf.pickle', 'wb') as f:\n",
    "    pickle.dump(clf, f, pickle.HIGHEST_PROTOCOL)"
   ]
  },
  {
   "cell_type": "code",
   "execution_count": 23,
   "metadata": {},
   "outputs": [
    {
     "name": "stdout",
     "output_type": "stream",
     "text": [
      "clf.pickle\n"
     ]
    }
   ],
   "source": [
    "#\n",
    "# Se verifica que el modelo quedo \n",
    "# almacenado en disco\n",
    "#\n",
    "!ls *.pickle"
   ]
  },
  {
   "cell_type": "code",
   "execution_count": 24,
   "metadata": {},
   "outputs": [
    {
     "data": {
      "text/plain": [
       "array([0, 0, 0, 0, 0, 0, 0, 0, 0, 0, 0, 0, 0, 0, 0, 0, 0, 0, 0, 0, 0, 0,\n",
       "       0, 0, 0, 0, 0, 0, 0, 0, 0, 0, 0, 0, 0, 0, 0, 0, 0, 0, 0, 0, 0, 0,\n",
       "       0, 0, 0, 0, 0, 0, 1, 1, 1, 1, 1, 1, 2, 1, 1, 1, 1, 1, 1, 1, 0, 1,\n",
       "       2, 1, 1, 1, 2, 1, 1, 1, 1, 1, 1, 2, 1, 1, 1, 1, 1, 2, 2, 2, 1, 1,\n",
       "       1, 1, 1, 1, 1, 1, 1, 1, 1, 1, 0, 1, 2, 2, 2, 2, 2, 2, 2, 2, 2, 2,\n",
       "       2, 2, 2, 2, 2, 2, 2, 2, 2, 1, 2, 2, 2, 2, 2, 2, 2, 2, 2, 1, 2, 2,\n",
       "       2, 1, 1, 2, 2, 2, 2, 2, 2, 2, 2, 2, 2, 2, 2, 2, 2, 2])"
      ]
     },
     "execution_count": 24,
     "metadata": {},
     "output_type": "execute_result"
    }
   ],
   "source": [
    "#\n",
    "# Lectura desde el disco\n",
    "#\n",
    "with open('clf.pickle', 'rb') as f:\n",
    "    new_clf = pickle.load(f)\n",
    "    \n",
    "# verificación\n",
    "new_clf.predict(X)"
   ]
  },
  {
   "cell_type": "markdown",
   "metadata": {},
   "source": [
    "## Desarrollo de la APP con GUI usando Flask"
   ]
  },
  {
   "cell_type": "markdown",
   "metadata": {},
   "source": [
    "Se separa el desarrollo y entrenamiento del clasificador de la aplicación que lo despliega en productivo."
   ]
  },
  {
   "cell_type": "code",
   "execution_count": 25,
   "metadata": {},
   "outputs": [
    {
     "name": "stdout",
     "output_type": "stream",
     "text": [
      "Overwriting Vagrantfile\n"
     ]
    }
   ],
   "source": [
    "%%writefile Vagrantfile\n",
    "\n",
    "Vagrant.configure(\"2\") do |config|\n",
    "  \n",
    "    config.vm.box = \"ubuntu/bionic64\"\n",
    "    \n",
    "    config.vm.provision \"shell\", inline: <<-SHELL\n",
    "      sudo apt-get update\n",
    "      sudo apt-get install -yq \\\n",
    "        build-essential \\\n",
    "        tree \\\n",
    "        python-dev \\\n",
    "        python3-minimal \\\n",
    "        python3-pip \\\n",
    "        python3-dev \\       \n",
    "        python3-venv\n",
    "      sudo apt-get update\n",
    "      pip3 install --upgrade pip \n",
    "      pip3 install pandas matplotlib scikit-learn flask\n",
    "    SHELL\n",
    "\n",
    "    config.vm.network :forwarded_port, guest: 5000, host: 1234, host_ip: \"127.0.0.1\"\n",
    "    \n",
    "end"
   ]
  },
  {
   "cell_type": "markdown",
   "metadata": {},
   "source": [
    "### Funcionalidad"
   ]
  },
  {
   "cell_type": "code",
   "execution_count": 26,
   "metadata": {},
   "outputs": [],
   "source": [
    "!mkdir -p app\n",
    "!mkdir -p app/templates\n",
    "!cp clf.pickle app/"
   ]
  },
  {
   "cell_type": "code",
   "execution_count": 27,
   "metadata": {},
   "outputs": [
    {
     "name": "stdout",
     "output_type": "stream",
     "text": [
      "Overwriting app/app.py\n"
     ]
    }
   ],
   "source": [
    "%%writefile app/app.py\n",
    "\n",
    "import pickle\n",
    "\n",
    "from flask import Flask, flash, render_template, request\n",
    "\n",
    "app = Flask(__name__)\n",
    "app.config[\"SECRET_KEY\"] = \"you-will-never-guess\"\n",
    "\n",
    "# Nombres de las clases\n",
    "classnames = [\"setosa\", \"versicolor\", \"virginica\"]\n",
    "\n",
    "\n",
    "@app.route(\"/\", methods=[\"GET\", \"POST\"])\n",
    "@app.route(\"/index\", methods=(\"GET\", \"POST\"))\n",
    "def index():\n",
    "\n",
    "    if request.method == \"POST\":\n",
    "\n",
    "        # Lee los valores de las cajas de texto de la interfaz\n",
    "        sepal_length = float(request.form[\"sepal_length\"])\n",
    "        sepal_width = float(request.form[\"sepal_width\"])\n",
    "        petal_length = float(request.form[\"petal_length\"])\n",
    "        petal_width = float(request.form[\"petal_width\"])\n",
    "\n",
    "        X = [[sepal_length, sepal_width, petal_length, petal_width]]\n",
    "\n",
    "        with open(\"clf.pickle\", \"rb\") as f:\n",
    "            clf = pickle.load(f)\n",
    "\n",
    "        result = classnames[clf.predict(X)[0]]\n",
    "\n",
    "    else:\n",
    "        result = \"\"\n",
    "\n",
    "    return render_template(\"index.html\", result=result)\n",
    "\n",
    "\n",
    "if __name__ == \"__main__\":\n",
    "    app.run(host=\"0.0.0.0\", debug=True)"
   ]
  },
  {
   "cell_type": "code",
   "execution_count": 28,
   "metadata": {},
   "outputs": [
    {
     "name": "stdout",
     "output_type": "stream",
     "text": [
      "Overwriting app/templates/index.html\n"
     ]
    }
   ],
   "source": [
    "%%writefile app/templates/index.html\n",
    "\n",
    "<!DOCTYPE html>\n",
    "<html lang=\"en\">\n",
    "    <head>\n",
    "        <meta charset=\"utf-8\">\n",
    "        <title>IrisPredictor</title>\n",
    "    </head>\n",
    "    <body>\n",
    "\n",
    "\n",
    "        <nav>\n",
    "            <form id='myDialog' method=\"POST\">\n",
    "\n",
    "                <label for=\"fname\">Sepal Length (cm):</label>\n",
    "                <input type=\"text\" id=\"sepal_length\" name=\"sepal_length\"><br><br>\n",
    "                \n",
    "                <label for=\"fname\">Sepal Width (cm):</label>\n",
    "                <input type=\"text\" id=\"sepal_width\" name=\"sepal_width\"><br><br>\n",
    "\n",
    "                <label for=\"fname\">Petal Length (cm):</label>\n",
    "                <input type=\"text\" id=\"petal_length\" name=\"petal_length\"><br><br>\n",
    "                    \n",
    "                <label for=\"fname\">Petal Width (cm):</label>\n",
    "                <input type=\"text\" id=\"petal_width\" name=\"petal_width\"><br><br>\n",
    "\n",
    "                <input type=\"submit\" value=\"Submit\">\n",
    "                \n",
    "            </form>\n",
    "        </nav>\n",
    "\n",
    "        <div>\n",
    "            <p> {{ result }} </p>\n",
    "        </div>\n",
    "\n",
    "    </body>\n",
    "</html>"
   ]
  },
  {
   "cell_type": "markdown",
   "metadata": {},
   "source": [
    "Ejecute la aplicación desde el `Terminal` con:\n",
    "\n",
    "```\n",
    "python3 app.py\n",
    "```\n"
   ]
  },
  {
   "cell_type": "markdown",
   "metadata": {},
   "source": [
    "La primera vez que ejecute la aplicación, se presentará la siguiente interfaz:"
   ]
  },
  {
   "cell_type": "markdown",
   "metadata": {},
   "source": [
    "![assets/app-iris-0.png](assets/app-iris-0.png)"
   ]
  },
  {
   "cell_type": "markdown",
   "metadata": {},
   "source": [
    "Una vez se llenen los campos, el boton `Submit` hace el cálculo y refresca la pantalla con el resultado:"
   ]
  },
  {
   "cell_type": "markdown",
   "metadata": {},
   "source": [
    "![assets/app-iris-1.png](assets/app-iris-1.png)"
   ]
  },
  {
   "cell_type": "markdown",
   "metadata": {},
   "source": [
    "### Aspecto"
   ]
  },
  {
   "cell_type": "markdown",
   "metadata": {},
   "source": [
    "El aspecto de la app se puede modificar usando CSS, tal como es usual en el diseño de páginas web."
   ]
  },
  {
   "cell_type": "code",
   "execution_count": 29,
   "metadata": {},
   "outputs": [
    {
     "name": "stdout",
     "output_type": "stream",
     "text": [
      "Overwriting app/templates/index.html\n"
     ]
    }
   ],
   "source": [
    "%%writefile app/templates/index.html\n",
    "\n",
    "<!DOCTYPE html>\n",
    "<html lang=\"en\">\n",
    "  <head>\n",
    "    <meta charset=\"utf-8\">\n",
    "    <title>IrisPredictor</title>\n",
    "        \n",
    "    <style>\n",
    "\n",
    "      body {\n",
    "        font-family: Arial, Helvetica, sans-serif;\n",
    "        padding-left: 10px;\n",
    "      }\n",
    "\n",
    "      header {\n",
    "          font-size: 20px;\n",
    "      }\n",
    "\n",
    "      nav {\n",
    "        float: left;\n",
    "        width: 150px;\n",
    "        height: 250px;\n",
    "        background: #eeeeee;\n",
    "        padding: 20px;\n",
    "      }\n",
    "        \n",
    "      div {\n",
    "          padding-left: 200px;\n",
    "      }\n",
    "\n",
    "      .seltext {\n",
    "          font-size: 20px;\n",
    "      }\n",
    "\n",
    "      .resulttext {\n",
    "          font-weight: bold;\n",
    "          font-size: 80px;\n",
    "          color: #807F7F;   \n",
    "      }\n",
    "        \n",
    "    </style>\n",
    "          \n",
    "  </head>\n",
    "  <body>\n",
    "\n",
    "    <header>\n",
    "      <h2>Iris Forecast Example</h2>\n",
    "    </header>\n",
    "    \n",
    "    <nav>\n",
    "      <form id='myDialog' method=\"POST\">\n",
    "\n",
    "        <label for=\"fname\">Sepal Length (cm):</label> <br>\n",
    "        <input type=\"text\" id=\"sepal_length\" name=\"sepal_length\"><br><br>\n",
    "                \n",
    "        <label for=\"fname\">Sepal Width (cm):</label> <br>\n",
    "        <input type=\"text\" id=\"sepal_width\" name=\"sepal_width\"><br><br>\n",
    "\n",
    "        <label for=\"fname\">Petal Length (cm):</label> <br>\n",
    "        <input type=\"text\" id=\"petal_length\" name=\"petal_length\"><br><br>\n",
    "                    \n",
    "        <label for=\"fname\">Petal Width (cm):</label> <br>\n",
    "        <input type=\"text\" id=\"petal_width\" name=\"petal_width\"><br><br>\n",
    "\n",
    "        <input type=\"submit\" value=\"Submit\">\n",
    "                \n",
    "      </form>\n",
    "    </nav>\n",
    "\n",
    "    <div>\n",
    "      <p class=\"seltext\">Forecasted class:</p>\n",
    "      <p class=\"resulttext\"> {{ result }} </p>\n",
    "    </div>\n",
    "\n",
    "    </body>\n",
    "</html>"
   ]
  },
  {
   "cell_type": "markdown",
   "metadata": {},
   "source": [
    "![assets/app-iris-2.png](assets/app-iris-2.png)"
   ]
  },
  {
   "cell_type": "markdown",
   "metadata": {},
   "source": [
    "## Adición de una API"
   ]
  },
  {
   "cell_type": "code",
   "execution_count": 30,
   "metadata": {},
   "outputs": [
    {
     "name": "stdout",
     "output_type": "stream",
     "text": [
      "Overwriting app/app.py\n"
     ]
    }
   ],
   "source": [
    "%%writefile app/app.py\n",
    "\n",
    "import json\n",
    "import pickle\n",
    "\n",
    "from flask import Flask, flash, render_template, request\n",
    "\n",
    "app = Flask(__name__)\n",
    "app.config[\"SECRET_KEY\"] = \"you-will-never-guess\"\n",
    "\n",
    "# Nombres de las clases\n",
    "classnames = [\"setosa\", \"versicolor\", \"virginica\"]\n",
    "\n",
    "@app.route(\"/\", methods=[\"GET\", \"POST\"])\n",
    "@app.route(\"/index\", methods=[\"GET\", \"POST\"])\n",
    "def index():\n",
    "\n",
    "    if request.method == \"POST\":\n",
    "\n",
    "        # Lee los valores de las cajas de texto de la interfaz\n",
    "        sepal_length = float(request.form[\"sepal_length\"])\n",
    "        sepal_width = float(request.form[\"sepal_width\"])\n",
    "        petal_length = float(request.form[\"petal_length\"])\n",
    "        petal_width = float(request.form[\"petal_width\"])\n",
    "\n",
    "        X = [[sepal_length, sepal_width, petal_length, petal_width]]\n",
    "\n",
    "        with open(\"clf.pickle\", \"rb\") as f:\n",
    "            clf = pickle.load(f)\n",
    "\n",
    "        result = classnames[clf.predict(X)[0]]\n",
    "\n",
    "    else:\n",
    "        result = \"\"\n",
    "\n",
    "    return render_template(\"index.html\", result=result)\n",
    "\n",
    "\n",
    "###############################################################\n",
    "#\n",
    "# API\n",
    "#\n",
    "###############################################################\n",
    "@app.route(\"/api/classify\", methods=[\"GET\"])\n",
    "def classify():\n",
    "    if \"values\" in request.args:\n",
    "        X = request.args[\"values\"]\n",
    "        X = X.split(\",\")\n",
    "        X = [float(v) for v in X]\n",
    "        X = [X]\n",
    "        \n",
    "        with open(\"clf.pickle\", \"rb\") as f:\n",
    "            clf = pickle.load(f)\n",
    "\n",
    "        result = classnames[clf.predict(X)[0]]\n",
    "        return result\n",
    "    \n",
    "    else:\n",
    "        return \"Error: No values field provided.\"\n",
    "\n",
    "if __name__ == \"__main__\":\n",
    "    app.run(host=\"0.0.0.0\", debug=True)"
   ]
  },
  {
   "cell_type": "markdown",
   "metadata": {},
   "source": [
    "Para usar la API (desde el explorador que está en el host):\n",
    "\n",
    "     http://0.0.0.0:1234/api/classify?values=3,3,3,3\n",
    "\n"
   ]
  },
  {
   "cell_type": "markdown",
   "metadata": {},
   "source": [
    "Desde Python3 (dentro de la máquina virtual):\n",
    "\n",
    "    from urllib.request import urlopen\n",
    "    \n",
    "    urlopen('http://0.0.0.0:5000/api/classify?values=3,3,3,3').read()"
   ]
  }
 ],
 "metadata": {
  "kernel_info": {
   "name": "python3"
  },
  "kernelspec": {
   "display_name": "Python 3 (ipykernel)",
   "language": "python",
   "name": "python3"
  },
  "language_info": {
   "codemirror_mode": {
    "name": "ipython",
    "version": 3
   },
   "file_extension": ".py",
   "mimetype": "text/x-python",
   "name": "python",
   "nbconvert_exporter": "python",
   "pygments_lexer": "ipython3",
   "version": "3.8.10"
  },
  "nteract": {
   "version": "0.7.1"
  }
 },
 "nbformat": 4,
 "nbformat_minor": 4
}
