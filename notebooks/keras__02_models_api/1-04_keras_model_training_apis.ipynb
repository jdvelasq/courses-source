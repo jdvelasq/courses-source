{
 "cells": [
  {
   "cell_type": "markdown",
   "id": "a44997df-2a85-4bcd-949e-3f871fd0fa70",
   "metadata": {
    "tags": []
   },
   "source": [
    "APIs para el entrenamiento de modelos --- 0:00 min\n",
    "===\n",
    "\n",
    "* Última modificación: Marzo 7, 2022 | YouTube\n",
    "\n",
    "* Adaptado de: https://keras.io/api/models/model_training_apis/"
   ]
  },
  {
   "cell_type": "markdown",
   "id": "0a450fc4-739a-4a7d-88da-f8851f0e8f9e",
   "metadata": {
    "tags": []
   },
   "source": [
    "Importación de librerías\n",
    "---"
   ]
  },
  {
   "cell_type": "code",
   "execution_count": 1,
   "id": "0b041b85-39a4-4c73-96c2-e1d94c182b24",
   "metadata": {},
   "outputs": [
    {
     "data": {
      "text/plain": [
       "'2.8.0'"
      ]
     },
     "execution_count": 1,
     "metadata": {},
     "output_type": "execute_result"
    }
   ],
   "source": [
    "import os\n",
    "\n",
    "os.environ[\"TF_CPP_MIN_LOG_LEVEL\"] = \"2\"\n",
    "\n",
    "import tensorflow as tf\n",
    "\n",
    "tf.__version__"
   ]
  },
  {
   "cell_type": "markdown",
   "id": "f801c499-c239-41f8-844a-099376d5c4e8",
   "metadata": {},
   "source": [
    "Datos de ejemplo\n",
    "--"
   ]
  },
  {
   "cell_type": "code",
   "execution_count": 2,
   "id": "fe545559-1a7b-4f82-b0b0-592d94271a70",
   "metadata": {},
   "outputs": [],
   "source": [
    "(x_train, y_train), (x_test, y_test) = tf.keras.datasets.mnist.load_data()\n",
    "\n",
    "x_train, x_test = x_train / 255.0, x_test / 255.0"
   ]
  },
  {
   "cell_type": "markdown",
   "id": "459921ff-a0ac-46a6-97cb-3b663da5d92a",
   "metadata": {},
   "source": [
    "Creación del modelo\n",
    "---"
   ]
  },
  {
   "cell_type": "code",
   "execution_count": 3,
   "id": "9ef84d4f-54be-4983-bff8-ee9e66070cc1",
   "metadata": {},
   "outputs": [],
   "source": [
    "model = tf.keras.models.Sequential(\n",
    "    [\n",
    "        tf.keras.layers.Flatten(input_shape=(28, 28)),\n",
    "        tf.keras.layers.Dense(128, activation=\"relu\"),\n",
    "        tf.keras.layers.Dense(10),\n",
    "    ]\n",
    ")"
   ]
  },
  {
   "cell_type": "markdown",
   "id": "188e44eb-17d0-4977-8d12-3198d3cda230",
   "metadata": {
    "tags": []
   },
   "source": [
    "Método compile()\n",
    "--"
   ]
  },
  {
   "cell_type": "code",
   "execution_count": 4,
   "id": "0f7b8b12-7707-4d06-9551-8c0b23dafcf1",
   "metadata": {},
   "outputs": [],
   "source": [
    "#\n",
    "# Configura el modelo para entrenamiento\n",
    "#\n",
    "model.compile(\n",
    "    # -------------------------------------------------------------------------\n",
    "    # Optimizador a utilizar\n",
    "    optimizer=\"adam\",\n",
    "    # -------------------------------------------------------------------------\n",
    "    # Función de pérdida\n",
    "    loss=tf.keras.losses.SparseCategoricalCrossentropy(from_logits=True),\n",
    "    # -------------------------------------------------------------------------\n",
    "    # Lista de métricas a evaluar durante el entrenamiento y prueba del modelo\n",
    "    metrics=[\"accuracy\"],\n",
    ")"
   ]
  },
  {
   "cell_type": "markdown",
   "id": "cc33e9e1-ec99-410c-8906-d9165a926c7d",
   "metadata": {},
   "source": [
    "Método fit()\n",
    "---"
   ]
  },
  {
   "cell_type": "code",
   "execution_count": 5,
   "id": "60f696bb-a40c-42b0-b95b-3f14475b788c",
   "metadata": {},
   "outputs": [
    {
     "name": "stdout",
     "output_type": "stream",
     "text": [
      "Epoch 1/5\n",
      "1875/1875 [==============================] - 4s 2ms/step - loss: 0.2609 - accuracy: 0.9248\n",
      "Epoch 2/5\n",
      "1875/1875 [==============================] - 4s 2ms/step - loss: 0.1137 - accuracy: 0.9661\n",
      "Epoch 3/5\n",
      "1875/1875 [==============================] - 5s 2ms/step - loss: 0.0760 - accuracy: 0.9770\n",
      "Epoch 4/5\n",
      "1875/1875 [==============================] - 4s 2ms/step - loss: 0.0578 - accuracy: 0.9821\n",
      "Epoch 5/5\n",
      "1875/1875 [==============================] - 5s 3ms/step - loss: 0.0436 - accuracy: 0.9867\n"
     ]
    },
    {
     "data": {
      "text/plain": [
       "<keras.callbacks.History at 0x7fad6e720b50>"
      ]
     },
     "execution_count": 5,
     "metadata": {},
     "output_type": "execute_result"
    }
   ],
   "source": [
    "#\n",
    "# Entrena el modelo para un número fijo de `epochs`.\n",
    "#\n",
    "model.fit(\n",
    "    # -------------------------------------------------------------------------\n",
    "    # Los datos de entrada. Pueden ser:\n",
    "    #   * NumPy array\n",
    "    #   * tf.tensor \n",
    "    #   * dict\n",
    "    #   * tf.data dataset\n",
    "    #   * keras.utils.sequence\n",
    "    #   * tf.keras.utils.experimentalDatasetCreator\n",
    "    x=x_train,\n",
    "    # -------------------------------------------------------------------------\n",
    "    # Mismos tipos de los datos de entrada, teniendo en cuenta la\n",
    "    # compatibilidad\n",
    "    y=y_train,\n",
    "    # -------------------------------------------------------------------------\n",
    "    # Número de iteraciones completas sobre x. Se puede cambiar con \n",
    "    # steps_per_epoch\n",
    "    epochs=5,\n",
    "    # -------------------------------------------------------------------------\n",
    "    # Porcentaje del dataset de entrada a ser utilizado como conjunto de\n",
    "    # validación\n",
    "    validation_split=0.0,\n",
    "    # -------------------------------------------------------------------------\n",
    "    # Conjunto de datos a ser usado para validación del modelo\n",
    "    validation_data=None,\n",
    "    # -------------------------------------------------------------------------\n",
    "    # ? mezcla los datos antes de cada epoch\n",
    "    shuffle=True,\n",
    "    # -------------------------------------------------------------------------\n",
    "    # 0=silen, 1=progress bar, 2= one line per epoch\n",
    "    verbose='auto',\n",
    ")"
   ]
  },
  {
   "cell_type": "markdown",
   "id": "7702e3c9-449c-4b5b-84f1-1c9305fcab93",
   "metadata": {},
   "source": [
    "Método evaluate()\n",
    "--"
   ]
  },
  {
   "cell_type": "code",
   "execution_count": 6,
   "id": "4cf12a6e-4316-4dc4-8c8c-f3ffc1fc3bf6",
   "metadata": {},
   "outputs": [
    {
     "name": "stdout",
     "output_type": "stream",
     "text": [
      "313/313 [==============================] - 1s 2ms/step - loss: 0.0805 - accuracy: 0.9753\n"
     ]
    },
    {
     "data": {
      "text/plain": [
       "[0.08052679896354675, 0.9753000140190125]"
      ]
     },
     "execution_count": 6,
     "metadata": {},
     "output_type": "execute_result"
    }
   ],
   "source": [
    "#\n",
    "# Retorna el valor de la pérdida y las métricas para validación.\n",
    "#\n",
    "model.evaluate(\n",
    "    # -------------------------------------------------------------------------\n",
    "    # Datos de entrada\n",
    "    x=x_test,\n",
    "    # -------------------------------------------------------------------------\n",
    "    # Datos de salida\n",
    "    y=y_test,\n",
    "    # -------------------------------------------------------------------------\n",
    "    # 0=silen, 1=progress bar\n",
    "    verbose=1,\n",
    "    # -------------------------------------------------------------------------\n",
    "    # True: retorna las metricas como un diccionario; en caso contrario como\n",
    "    # una lista.\n",
    "    return_dict=False,\n",
    ")"
   ]
  },
  {
   "cell_type": "markdown",
   "id": "3bd2d2a5-aa01-47c3-ab3b-5a932a1f042e",
   "metadata": {},
   "source": [
    "Método predict()\n",
    "---"
   ]
  },
  {
   "cell_type": "code",
   "execution_count": 7,
   "id": "4ffaa432-f488-44e1-9b08-afd4bca8f0bf",
   "metadata": {},
   "outputs": [
    {
     "name": "stdout",
     "output_type": "stream",
     "text": [
      "313/313 [==============================] - 0s 1ms/step\n"
     ]
    },
    {
     "data": {
      "text/plain": [
       "array([[ -7.4728165 ,  -8.210816  ,  -0.24153347, ...,  12.683948  ,\n",
       "         -4.6258593 ,  -4.8154182 ],\n",
       "       [ -2.618155  ,   2.679948  ,  11.841349  , ..., -16.102798  ,\n",
       "         -1.1466278 , -16.601767  ],\n",
       "       [ -7.442678  ,   5.5237255 ,  -2.9059598 , ...,  -0.93894416,\n",
       "         -2.31812   ,  -7.958142  ],\n",
       "       ...,\n",
       "       [-14.108557  , -10.99006   , -15.277167  , ...,   1.039838  ,\n",
       "         -2.847401  ,  -0.615336  ],\n",
       "       [ -7.415119  ,  -9.08128   ,  -7.9528904 , ...,  -7.364684  ,\n",
       "          4.456891  , -10.340665  ],\n",
       "       [ -5.690511  , -11.150178  ,  -2.6973383 , ..., -13.986993  ,\n",
       "         -8.371046  , -10.583882  ]], dtype=float32)"
      ]
     },
     "execution_count": 7,
     "metadata": {},
     "output_type": "execute_result"
    }
   ],
   "source": [
    "#\n",
    "# Genera predicciones para los ejemplos de entrada\n",
    "#\n",
    "model.predict(\n",
    "    # -------------------------------------------------------------------------\n",
    "    # ejemplos de entrada.\n",
    "    x=x_test,\n",
    "    # -------------------------------------------------------------------------\n",
    "    # 0=silen, 1=progress bar.\n",
    "    verbose=1,\n",
    ")"
   ]
  },
  {
   "cell_type": "markdown",
   "id": "8d34343c-2665-4973-b20e-6af99e8265ac",
   "metadata": {},
   "source": [
    "Método train_on_batch()\n",
    "--"
   ]
  },
  {
   "cell_type": "code",
   "execution_count": 8,
   "id": "55278dc6-cef2-43cb-82a0-d0bc692a2db7",
   "metadata": {},
   "outputs": [
    {
     "data": {
      "text/plain": [
       "[0.03626921400427818, 0.9891166687011719]"
      ]
     },
     "execution_count": 8,
     "metadata": {},
     "output_type": "execute_result"
    }
   ],
   "source": [
    "#\n",
    "# Ejecuta una sola iteración sobre todos los datos\n",
    "#\n",
    "model.train_on_batch(\n",
    "    # -------------------------------------------------------------------------\n",
    "    # ejemplos de entrada.\n",
    "    x=x_train,\n",
    "    # -------------------------------------------------------------------------\n",
    "    # Mismos tipos de los datos de entrada, teniendo en cuenta la\n",
    "    # compatibilidad\n",
    "    y=y_train,\n",
    "    # -------------------------------------------------------------------------\n",
    "    # ?True: retorna las métricas unicamente para el batch evaluado. False \n",
    "    # indica que retorna las métricas acumuladas.\n",
    "    reset_metrics=True,\n",
    "    # -------------------------------------------------------------------------\n",
    "    # ?Retorna las métricas como un diccionaro o como una lista.\n",
    "    return_dict=False,\n",
    ")"
   ]
  },
  {
   "cell_type": "markdown",
   "id": "55abb71b-46b6-4117-b3cb-4744786bc9ba",
   "metadata": {},
   "source": [
    "Método test_on_batch()\n",
    "--"
   ]
  },
  {
   "cell_type": "code",
   "execution_count": 9,
   "id": "9fbcc20a-da45-4cc0-844a-f51461a8fb13",
   "metadata": {},
   "outputs": [
    {
     "data": {
      "text/plain": [
       "[0.03624013811349869, 0.9891999959945679]"
      ]
     },
     "execution_count": 9,
     "metadata": {},
     "output_type": "execute_result"
    }
   ],
   "source": [
    "#\n",
    "# Prueba el modelo en un batch de ejemplos\n",
    "#\n",
    "model.test_on_batch(\n",
    "    # -------------------------------------------------------------------------\n",
    "    # ejemplos de entrada.\n",
    "    x=x_train,\n",
    "    # -------------------------------------------------------------------------\n",
    "    # Mismos tipos de los datos de entrada, teniendo en cuenta la\n",
    "    # compatibilidad\n",
    "    y=y_train,\n",
    "    # -------------------------------------------------------------------------\n",
    "    # ?True: retorna las métricas unicamente para el batch evaluado. False \n",
    "    # indica que retorna las métricas acumuladas.\n",
    "    reset_metrics=True,\n",
    "    # -------------------------------------------------------------------------\n",
    "    # ?Retorna las métricas como un diccionaro o como una lista.\n",
    "    return_dict=False,\n",
    ")"
   ]
  },
  {
   "cell_type": "markdown",
   "id": "ba68bd78-790b-4617-adfe-74c9cedd1bd2",
   "metadata": {},
   "source": [
    "Método predict_on_batch()\n",
    "---"
   ]
  },
  {
   "cell_type": "code",
   "execution_count": 10,
   "id": "6f670ff1-38fd-436d-98f1-9ad99b81786f",
   "metadata": {},
   "outputs": [
    {
     "data": {
      "text/plain": [
       "array([[ -7.483025  ,  -8.24729   ,  -0.25756097, ...,  12.699089  ,\n",
       "         -4.637318  ,  -4.8076468 ],\n",
       "       [ -2.5953693 ,   2.6283417 ,  11.804086  , ..., -16.073269  ,\n",
       "         -1.1422725 , -16.574862  ],\n",
       "       [ -7.427736  ,   5.4771028 ,  -2.932457  , ...,  -0.9301553 ,\n",
       "         -2.3145382 ,  -7.9520535 ],\n",
       "       ...,\n",
       "       [-14.150838  , -11.088592  , -15.31163   , ...,   1.0762382 ,\n",
       "         -2.8378043 ,  -0.5221245 ],\n",
       "       [ -7.3945074 ,  -9.153601  ,  -7.9723725 , ...,  -7.3081098 ,\n",
       "          4.4706054 , -10.360218  ],\n",
       "       [ -5.6580224 , -11.174358  ,  -2.7155516 , ..., -13.855503  ,\n",
       "         -8.302011  , -10.425974  ]], dtype=float32)"
      ]
     },
     "execution_count": 10,
     "metadata": {},
     "output_type": "execute_result"
    }
   ],
   "source": [
    "#\n",
    "# Pronóstica para un solo batch\n",
    "#\n",
    "model.predict_on_batch(\n",
    "    # -------------------------------------------------------------------------\n",
    "    # ejemplos de entrada.\n",
    "    x=x_test,\n",
    ")"
   ]
  },
  {
   "cell_type": "code",
   "execution_count": null,
   "id": "6bb7a6d4-09c6-4781-b6ae-b94e29b99505",
   "metadata": {},
   "outputs": [],
   "source": []
  }
 ],
 "metadata": {
  "kernelspec": {
   "display_name": "Python 3 (ipykernel)",
   "language": "python",
   "name": "python3"
  },
  "language_info": {
   "codemirror_mode": {
    "name": "ipython",
    "version": 3
   },
   "file_extension": ".py",
   "mimetype": "text/x-python",
   "name": "python",
   "nbconvert_exporter": "python",
   "pygments_lexer": "ipython3",
   "version": "3.9.10"
  }
 },
 "nbformat": 4,
 "nbformat_minor": 5
}
