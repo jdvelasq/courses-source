{
 "cells": [
  {
   "cell_type": "markdown",
   "id": "46e573ac-1662-433a-b840-1406fc3f9e44",
   "metadata": {
    "tags": []
   },
   "source": [
    "Creación de modelos usando Sequential --- 0:00 min\n",
    "===\n",
    "\n",
    "* Última modificación: Marzo 7, 2022 | YouTube\n",
    "\n",
    "* Adaptado de: https://keras.io/api/models/sequential/"
   ]
  },
  {
   "cell_type": "markdown",
   "id": "92d8272f-52ce-41d7-b383-71ed45815885",
   "metadata": {
    "tags": []
   },
   "source": [
    "Importación de librerías\n",
    "---"
   ]
  },
  {
   "cell_type": "code",
   "execution_count": 1,
   "id": "91b50e52-2f22-447f-adde-10e5ca2fe55a",
   "metadata": {},
   "outputs": [
    {
     "data": {
      "text/plain": [
       "'2.8.0'"
      ]
     },
     "execution_count": 1,
     "metadata": {},
     "output_type": "execute_result"
    }
   ],
   "source": [
    "import os\n",
    "\n",
    "os.environ[\"TF_CPP_MIN_LOG_LEVEL\"] = \"2\"\n",
    "\n",
    "import tensorflow as tf\n",
    "\n",
    "tf.__version__"
   ]
  },
  {
   "cell_type": "markdown",
   "id": "1249125e-5d24-4f31-b33b-f0d69ba6925a",
   "metadata": {},
   "source": [
    "Sequential\n",
    "--"
   ]
  },
  {
   "cell_type": "markdown",
   "id": "61df78fc-63a3-4af6-ab42-2649e6b29cc6",
   "metadata": {},
   "source": [
    "Crea un `tf.keras.Model` como una secuencia lineal de capas."
   ]
  },
  {
   "cell_type": "code",
   "execution_count": 2,
   "id": "be7902c0-faa3-4099-8d96-5f3f2b8aa992",
   "metadata": {},
   "outputs": [
    {
     "name": "stdout",
     "output_type": "stream",
     "text": [
      "Model: \"sequential\"\n",
      "_________________________________________________________________\n",
      " Layer (type)                Output Shape              Param #   \n",
      "=================================================================\n",
      " dense (Dense)               (None, 8)                 136       \n",
      "                                                                 \n",
      " dense_1 (Dense)             (None, 4)                 36        \n",
      "                                                                 \n",
      "=================================================================\n",
      "Total params: 172\n",
      "Trainable params: 172\n",
      "Non-trainable params: 0\n",
      "_________________________________________________________________\n"
     ]
    }
   ],
   "source": [
    "#\n",
    "# Creación de capas indicando las dimensiones de la capa de entrada\n",
    "# con input_shape()\n",
    "#\n",
    "model = tf.keras.Sequential()\n",
    "model.add(tf.keras.layers.Dense(8, input_shape=(16,)))\n",
    "model.add(tf.keras.layers.Dense(4))\n",
    "model.summary()"
   ]
  },
  {
   "cell_type": "code",
   "execution_count": 3,
   "id": "2fee46cf-73db-48fa-ba17-567d6e8fda78",
   "metadata": {},
   "outputs": [
    {
     "data": {
      "image/png": "[encoded data removed]",
      "text/plain": [
       "<IPython.core.display.Image object>"
      ]
     },
     "execution_count": 3,
     "metadata": {},
     "output_type": "execute_result"
    }
   ],
   "source": [
    "tf.keras.utils.plot_model(model, show_shapes=True)"
   ]
  },
  {
   "cell_type": "code",
   "execution_count": 4,
   "id": "68673631-9634-4ee6-b839-4efa4f6e0a61",
   "metadata": {},
   "outputs": [
    {
     "data": {
      "text/plain": [
       "[<tf.Variable 'dense/kernel:0' shape=(16, 8) dtype=float32, numpy=\n",
       " array([[ 0.21297538, -0.06917584,  0.49518156,  0.16121781, -0.301906  ,\n",
       "         -0.16776037, -0.02052736,  0.24758387],\n",
       "        [-0.45558465,  0.12556005,  0.14351773, -0.46169877, -0.10797024,\n",
       "          0.10134923,  0.05321169, -0.47283244],\n",
       "        [ 0.3502996 ,  0.27313387,  0.08184409,  0.32102013, -0.4839846 ,\n",
       "          0.3878678 ,  0.0789268 ,  0.19108367],\n",
       "        [-0.32651258,  0.22070694, -0.2904836 , -0.48260987, -0.3180486 ,\n",
       "          0.48315907, -0.09891117, -0.42583823],\n",
       "        [-0.14858425, -0.07843637, -0.15283501,  0.15224314, -0.0353502 ,\n",
       "         -0.49160874,  0.14190066,  0.05476511],\n",
       "        [-0.03854203,  0.07533491, -0.28070855, -0.45603824, -0.27134466,\n",
       "          0.2718451 ,  0.44840956, -0.03171229],\n",
       "        [-0.41868627, -0.46338952, -0.07317257, -0.284297  ,  0.1455462 ,\n",
       "         -0.2148161 , -0.27619612, -0.25541437],\n",
       "        [ 0.2663293 , -0.2722702 , -0.27412713, -0.1529876 , -0.42223954,\n",
       "         -0.10641456,  0.08139181,  0.3682996 ],\n",
       "        [-0.0111388 ,  0.3218484 ,  0.16795254, -0.22280836, -0.32464254,\n",
       "         -0.05370402,  0.14374328,  0.4525242 ],\n",
       "        [-0.4282062 ,  0.2567408 ,  0.0369662 , -0.31314242,  0.35518026,\n",
       "          0.48029613,  0.42778862, -0.2740438 ],\n",
       "        [-0.3457483 ,  0.06380832, -0.41216886,  0.10807312,  0.20615745,\n",
       "         -0.21810842,  0.01687229,  0.26503134],\n",
       "        [ 0.00611365,  0.05814838, -0.16269195,  0.03690517, -0.0412401 ,\n",
       "          0.35296023, -0.22702229, -0.47742593],\n",
       "        [ 0.04266357,  0.4422468 ,  0.28150463, -0.35075927, -0.15711617,\n",
       "          0.41937745, -0.14635694,  0.4881227 ],\n",
       "        [-0.03082943,  0.3313061 , -0.29015768,  0.03098536, -0.14286733,\n",
       "         -0.0736258 , -0.4394666 , -0.0096544 ],\n",
       "        [ 0.04987383,  0.08771849,  0.4303341 , -0.19876575,  0.03140569,\n",
       "         -0.22887194,  0.10194957,  0.41488695],\n",
       "        [ 0.30606747, -0.3171153 ,  0.3803438 ,  0.04581857,  0.46335053,\n",
       "          0.24757028, -0.3398826 , -0.15584373]], dtype=float32)>,\n",
       " <tf.Variable 'dense/bias:0' shape=(8,) dtype=float32, numpy=array([0., 0., 0., 0., 0., 0., 0., 0.], dtype=float32)>,\n",
       " <tf.Variable 'dense_1/kernel:0' shape=(8, 4) dtype=float32, numpy=\n",
       " array([[ 0.45199913, -0.5480763 , -0.05654287,  0.14014417],\n",
       "        [ 0.44879705,  0.4007221 ,  0.54268366, -0.54463875],\n",
       "        [-0.14278746, -0.5550445 ,  0.607341  ,  0.5553623 ],\n",
       "        [ 0.587218  , -0.6415607 , -0.24121603, -0.12298363],\n",
       "        [ 0.6253076 , -0.149625  , -0.46702838, -0.22117436],\n",
       "        [ 0.0188604 , -0.01484126,  0.3975566 ,  0.5914939 ],\n",
       "        [ 0.13159525,  0.37202007, -0.14832675,  0.60973877],\n",
       "        [ 0.36837107, -0.6591993 , -0.60161036,  0.56869394]],\n",
       "       dtype=float32)>,\n",
       " <tf.Variable 'dense_1/bias:0' shape=(4,) dtype=float32, numpy=array([0., 0., 0., 0.], dtype=float32)>]"
      ]
     },
     "execution_count": 4,
     "metadata": {},
     "output_type": "execute_result"
    }
   ],
   "source": [
    "#\n",
    "# Pesos asociados a las capas del modelo\n",
    "#\n",
    "model.weights"
   ]
  },
  {
   "cell_type": "code",
   "execution_count": 5,
   "id": "ef4d62a5-6720-488f-95b6-f40cded22a50",
   "metadata": {},
   "outputs": [
    {
     "name": "stdout",
     "output_type": "stream",
     "text": [
      "Model: \"sequential_1\"\n",
      "_________________________________________________________________\n",
      " Layer (type)                Output Shape              Param #   \n",
      "=================================================================\n",
      " dense_2 (Dense)             (None, 8)                 136       \n",
      "                                                                 \n",
      " dense_3 (Dense)             (None, 4)                 36        \n",
      "                                                                 \n",
      "=================================================================\n",
      "Total params: 172\n",
      "Trainable params: 172\n",
      "Non-trainable params: 0\n",
      "_________________________________________________________________\n"
     ]
    }
   ],
   "source": [
    "#\n",
    "# Creación del modelo como una lista de capas indicando las dimensiones de la\n",
    "# capa de entrada con input_shape\n",
    "#\n",
    "model = tf.keras.Sequential(\n",
    "    [\n",
    "        tf.keras.layers.Dense(8, input_shape=(16,)),\n",
    "        tf.keras.layers.Dense(4),\n",
    "    ]\n",
    ")\n",
    "model.summary()"
   ]
  },
  {
   "cell_type": "code",
   "execution_count": 6,
   "id": "8ef206f3-b202-4b54-b249-726be34d9a0e",
   "metadata": {},
   "outputs": [
    {
     "name": "stdout",
     "output_type": "stream",
     "text": [
      "Model: \"sequential_2\"\n",
      "_________________________________________________________________\n",
      " Layer (type)                Output Shape              Param #   \n",
      "=================================================================\n",
      " dense_4 (Dense)             (None, 8)                 136       \n",
      "                                                                 \n",
      "=================================================================\n",
      "Total params: 136\n",
      "Trainable params: 136\n",
      "Non-trainable params: 0\n",
      "_________________________________________________________________\n"
     ]
    }
   ],
   "source": [
    "#\n",
    "# Especificación de una capa de entrada con tf.keras.Input()\n",
    "#\n",
    "model = tf.keras.Sequential()\n",
    "model.add(tf.keras.Input(shape=(16,)))\n",
    "model.add(tf.keras.layers.Dense(8))\n",
    "model.summary()"
   ]
  },
  {
   "cell_type": "code",
   "execution_count": 7,
   "id": "154af89d-0d73-4284-8b0a-971da1fe2301",
   "metadata": {},
   "outputs": [],
   "source": [
    "#\n",
    "# En el siguiente código no se especifica las dimensiones de la entrada. El\n",
    "# modelo no tiene pesos hasta que se haga una llamada a training/evaluation\n",
    "#\n",
    "model = tf.keras.Sequential()\n",
    "model.add(tf.keras.layers.Dense(8))\n",
    "model.add(tf.keras.layers.Dense(4))\n",
    "#\n",
    "# Si se llama a model.summary() se genera un error\n",
    "#"
   ]
  },
  {
   "cell_type": "markdown",
   "id": "0553edb8-8c7d-47f7-b4fb-21a9d398f777",
   "metadata": {},
   "source": [
    "![assets/error_summary.png](assets/error_summary.png)"
   ]
  },
  {
   "cell_type": "code",
   "execution_count": 8,
   "id": "e96f2c44-18aa-48b8-95c4-ea53fc45476a",
   "metadata": {},
   "outputs": [
    {
     "data": {
      "text/plain": [
       "4"
      ]
     },
     "execution_count": 8,
     "metadata": {},
     "output_type": "execute_result"
    }
   ],
   "source": [
    "#\n",
    "# Si se especifica input_shape, el modleo es construído a medida que se van\n",
    "# adicionando capas\n",
    "#\n",
    "model = tf.keras.Sequential()\n",
    "model.add(\n",
    "    tf.keras.layers.Dense(8, input_shape=(16,)),\n",
    ")\n",
    "model.add(tf.keras.layers.Dense(4))\n",
    "len(model.weights)"
   ]
  },
  {
   "cell_type": "code",
   "execution_count": 9,
   "id": "37056bc5-5628-45c9-8676-f4a1d00561b0",
   "metadata": {},
   "outputs": [
    {
     "data": {
      "text/plain": [
       "4"
      ]
     },
     "execution_count": 9,
     "metadata": {},
     "output_type": "execute_result"
    }
   ],
   "source": [
    "#\n",
    "# Cuando el modelo usa construcción pospuesta, es decir, no se especifican las\n",
    "# dimensiones de la entrada, este pueden ser construido manualmente con build.\n",
    "#\n",
    "#   `build(batch_input_shape)`\n",
    "#\n",
    "model = tf.keras.Sequential()\n",
    "model.add(tf.keras.layers.Dense(8))\n",
    "model.add(tf.keras.layers.Dense(4))\n",
    "model.build((None, 16))\n",
    "len(model.weights)"
   ]
  },
  {
   "cell_type": "code",
   "execution_count": 10,
   "id": "8ab0c2df-9303-46f8-ad6d-ac1ae7f693f4",
   "metadata": {},
   "outputs": [
    {
     "data": {
      "text/plain": [
       "array([[-0.07940249],\n",
       "       [-0.15880498]], dtype=float32)"
      ]
     },
     "execution_count": 10,
     "metadata": {},
     "output_type": "execute_result"
    }
   ],
   "source": [
    "#\n",
    "# Cuando el modelo usa construcción pospuesta, es decir, no se especifican las\n",
    "# dimensiones de la entrada, el modelo es construido internamente cuando se\n",
    "# llama por primera vez a `fit`, `eval` o `predict`.\n",
    "#\n",
    "model = tf.keras.Sequential()\n",
    "model.add(tf.keras.layers.Dense(8))\n",
    "model.add(tf.keras.layers.Dense(1))\n",
    "model.predict(\n",
    "    tf.constant(\n",
    "        [\n",
    "            [1, 1, 1],\n",
    "            [2, 2, 2],\n",
    "        ]\n",
    "    )\n",
    ")"
   ]
  },
  {
   "cell_type": "code",
   "execution_count": 11,
   "id": "ef21fb57-8577-44c5-b048-c1615976c23a",
   "metadata": {},
   "outputs": [
    {
     "name": "stdout",
     "output_type": "stream",
     "text": [
      "Model: \"sequential_6\"\n",
      "_________________________________________________________________\n",
      " Layer (type)                Output Shape              Param #   \n",
      "=================================================================\n",
      " dense_11 (Dense)            (None, 8)                 32        \n",
      "                                                                 \n",
      " dense_12 (Dense)            (None, 1)                 9         \n",
      "                                                                 \n",
      "=================================================================\n",
      "Total params: 41\n",
      "Trainable params: 41\n",
      "Non-trainable params: 0\n",
      "_________________________________________________________________\n"
     ]
    }
   ],
   "source": [
    "model.summary()"
   ]
  },
  {
   "cell_type": "code",
   "execution_count": 12,
   "id": "409cfa77-d7b2-437e-b58f-9a04cd1f42a5",
   "metadata": {},
   "outputs": [
    {
     "name": "stdout",
     "output_type": "stream",
     "text": [
      "Model: \"sequential_6\"\n",
      "_________________________________________________________________\n",
      " Layer (type)                Output Shape              Param #   \n",
      "=================================================================\n",
      " dense_11 (Dense)            (None, 8)                 32        \n",
      "                                                                 \n",
      "=================================================================\n",
      "Total params: 32\n",
      "Trainable params: 32\n",
      "Non-trainable params: 0\n",
      "_________________________________________________________________\n"
     ]
    }
   ],
   "source": [
    "#\n",
    "# Las capas también pueden ser eliminadas usando `pop()``\n",
    "#\n",
    "model.pop()\n",
    "model.summary()"
   ]
  }
 ],
 "metadata": {
  "kernelspec": {
   "display_name": "Python 3 (ipykernel)",
   "language": "python",
   "name": "python3"
  },
  "language_info": {
   "codemirror_mode": {
    "name": "ipython",
    "version": 3
   },
   "file_extension": ".py",
   "mimetype": "text/x-python",
   "name": "python",
   "nbconvert_exporter": "python",
   "pygments_lexer": "ipython3",
   "version": "3.9.10"
  }
 },
 "nbformat": 4,
 "nbformat_minor": 5
}
