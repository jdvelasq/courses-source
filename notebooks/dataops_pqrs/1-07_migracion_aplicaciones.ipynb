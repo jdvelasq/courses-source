{
 "cells": [
  {
   "cell_type": "markdown",
   "id": "7f8fcfa0-86dc-4739-959d-fe5dde256310",
   "metadata": {
    "tags": []
   },
   "source": [
    "Etapa 7 --- Migración de aplicaciones al data lake\n",
    "===\n",
    "\n",
    "* Ultima modificación: Mayo 14, 2022 | YouTube"
   ]
  },
  {
   "cell_type": "markdown",
   "id": "326621d9-1c92-4dde-b87d-fd6cf6e8bae8",
   "metadata": {},
   "source": [
    "Definición de la situación actual\n",
    "---"
   ]
  },
  {
   "cell_type": "markdown",
   "id": "e2b67e49-8ec8-486a-8483-35e6547b9ee3",
   "metadata": {},
   "source": [
    "![assets/luis-ingeniero-de-operaciones.png](assets/luis-ingeniero-de-operaciones.png)"
   ]
  },
  {
   "cell_type": "markdown",
   "id": "6ecb192c-4ba7-47c0-8926-a4a0b1b92db1",
   "metadata": {},
   "source": [
    "![assets/daniel-ingeniero-de-datos.png](assets/daniel-ingeniero-de-datos.png)"
   ]
  },
  {
   "cell_type": "markdown",
   "id": "8ecd215c-e123-4fe6-90c5-ada19c5bfe81",
   "metadata": {},
   "source": [
    "![assets/claudia-analista-de-inteligencia-de-negocios.png](assets/claudia-analista-de-inteligencia-de-negocios.png)"
   ]
  },
  {
   "cell_type": "markdown",
   "id": "93833160-9bda-491a-8a8e-53e4aa564a22",
   "metadata": {},
   "source": [
    "Una vez el data lake está operativo, se procede a modificar las fuentes de datos que consumen las aplicaciones."
   ]
  },
  {
   "cell_type": "markdown",
   "id": "49cdbcb2-7201-4ed2-8270-38842cf6858c",
   "metadata": {},
   "source": [
    "Ya hay tuberías que realizan la ingestión automática de datos desde el transaccional hacia el data lake."
   ]
  },
  {
   "cell_type": "markdown",
   "id": "58c69c86-8bbb-4e5c-b631-3d4a29594cd4",
   "metadata": {},
   "source": [
    "Problemas\n",
    "---"
   ]
  },
  {
   "cell_type": "markdown",
   "id": "2de9c525-8782-4b66-bc99-8d324a234be5",
   "metadata": {},
   "source": [
    "* El código de los aplicativos no es de calidad industrial, lo que dificulta enormemente su modificación.\n",
    "\n",
    "* La especificación de las fuentes de datos se encuentran inmersas en el código, lo que hace que este sea mucho más propenso al fallo.\n",
    "\n",
    "* No se garantiza que los aplicativos no hagan fallar el sistema cuando entren en operación en el productivo."
   ]
  },
  {
   "cell_type": "markdown",
   "id": "bddfaad5-90b4-4814-a347-df855d30e2cd",
   "metadata": {},
   "source": [
    "Tipos de pipelines\n",
    "---"
   ]
  },
  {
   "cell_type": "markdown",
   "id": "e219137b-701b-4093-9569-c3bea516726b",
   "metadata": {},
   "source": [
    "* Ingestion pipelines: ingestión de datos a landing. \n",
    "\n",
    "* Hive pipelines: tranformaciones de datos en Apache Hive.\n",
    "\n",
    "* Spark pipelines: transformaciones de datos en Apache Spark.\n",
    "\n",
    "* Hitorical data store: Combinación y estandarización de multiples fuentes en un solo archivo histórico para análisis o procesamiento posterior.\n",
    "\n",
    "* Dataset provisioning: Creación de subconjuntos de datos para análisis o procesamiento posterior\n",
    "\n",
    "* Export pipelines: Transformación del formato de una fuente de datos a otro."
   ]
  },
  {
   "cell_type": "markdown",
   "id": "eafe0b0a-5722-4fd3-a13a-1f15f54ec764",
   "metadata": {},
   "source": [
    "Migración de las apps a pipelines\n",
    "---"
   ]
  },
  {
   "cell_type": "markdown",
   "id": "1161fc7c-1f46-40aa-bb91-1c843e439b9c",
   "metadata": {},
   "source": [
    "**En vivo:** Crear una tubería para pasar los datos de landing a raw."
   ]
  },
  {
   "cell_type": "markdown",
   "id": "12c63485-ed5f-4999-888b-ce0236b4ec59",
   "metadata": {},
   "source": [
    "* Apps de análisis de datos (solo se migrará esta).\n",
    "\n",
    "* Apps de inteligencia de negocios.\n",
    "\n",
    "* Apps de control interno.\n",
    "\n",
    "* Dashboards."
   ]
  }
 ],
 "metadata": {
  "kernelspec": {
   "display_name": "Python 3 (ipykernel)",
   "language": "python",
   "name": "python3"
  },
  "language_info": {
   "codemirror_mode": {
    "name": "ipython",
    "version": 3
   },
   "file_extension": ".py",
   "mimetype": "text/x-python",
   "name": "python",
   "nbconvert_exporter": "python",
   "pygments_lexer": "ipython3",
   "version": "3.8.10"
  }
 },
 "nbformat": 4,
 "nbformat_minor": 5
}
