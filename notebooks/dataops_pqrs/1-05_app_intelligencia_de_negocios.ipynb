{
    "cells": [
        {
            "cell_type": "markdown",
            "id": "7f8fcfa0-86dc-4739-959d-fe5dde256310",
            "metadata": {
                "tags": []
            },
            "source": [
                "Etapa 5 --- Desarrollo de una app de inteligencia de negocios para usar en la intranet\n",
                "===\n",
                "\n",
                "* Ultima modificación: Mayo 14, 2022 | YouTube"
            ]
        },
        {
            "cell_type": "markdown",
            "id": "326621d9-1c92-4dde-b87d-fd6cf6e8bae8",
            "metadata": {},
            "source": [
                "Definición de la situación actual\n",
                "---"
            ]
        },
        {
            "cell_type": "markdown",
            "id": "e2b67e49-8ec8-486a-8483-35e6547b9ee3",
            "metadata": {},
            "source": [
                "![assets/luis-ingeniero-de-operaciones.png](assets/luis-ingeniero-de-operaciones.png)"
            ]
        },
        {
            "cell_type": "markdown",
            "id": "6ecb192c-4ba7-47c0-8926-a4a0b1b92db1",
            "metadata": {},
            "source": [
                "![assets/claudia-analista-de-inteligencia-de-negocios.png](assets/claudia-analista-de-inteligencia-de-negocios.png)"
            ]
        },
        {
            "cell_type": "markdown",
            "id": "39e7dc54-0522-4fd6-8950-8185df34fb45",
            "metadata": {},
            "source": [
                "* El reporte de inteligencia de negocios ha sido exitoso y debe hacerse disponible a otros equipos de la organización para consulta por demanda.\n",
                "\n",
                "* Se ha decidido automatizar el reporte y Claudia desarrolla un primer prototipo muy simple usando Flask, con la intención de ejecutar la versión final en el servidor de productivo.\n",
                "\n",
                "* La ventaja está en que se puede automatizar la automatización de los gráficos con la última información disponible cuando el usuario final entra a la página."
            ]
        },
        {
            "cell_type": "markdown",
            "id": "ebbb1c0c-daea-4815-9c7f-8f1df8546f20",
            "metadata": {},
            "source": [
                "Esta solución liberá a Clauida de responsabilidades:\n",
                "\n",
                "* No debe estar pendiente de preparar el informe y enviarlo los lunes a primera hora.\n",
                "\n",
                "* Este tiempo se libera para otras actividades."
            ]
        },
        {
            "cell_type": "markdown",
            "id": "ab6507eb-3ba2-4947-b0e7-f0ff4f677dbd",
            "metadata": {},
            "source": [
                "Problemas\n",
                "---"
            ]
        },
        {
            "cell_type": "markdown",
            "id": "aab20e9f-a405-4677-aa1d-3279409d21b1",
            "metadata": {},
            "source": [
                "Claudia lleva el aplicativo a Luis, el ingeniero de operaciones, se diagnostican los siguientes problemas (entre otros):\n",
                "\n",
                "* Se traslada la responsabilidad de la ejecución de la app a operaciones.\n",
                "\n",
                "* No hay quien monitoree los resultados publicados por la app antes de entregarlos al usuario final. En el caso anterior,  Claudia ejecutaba su programa y enviava el reporte a las personas interesadas; esto implica, que ella revisaba los resultados antes de enviarlos.\n",
                "\n",
                "* El código no es robusto y no cumple con los estándares de producción. Esta es la eterna queja de que el código no es de calidad industrial.\n",
                "\n",
                "* No es posible establecer quién hará el mantenimiento.\n",
                "\n",
                "* Cuando hayan actualizaciones o adiciones de funcionalidades a la app, no hay garantia de la caída del reporte en productivo.\n",
                "\n",
                "* Cuando haya cambios en el sistema, no se verificará si la app sigue funcionando bien.\n",
                "\n",
                "* Para Luis es todo un reto poner en productivo la app desarrollada por Clauida, ya que aunque la app corre en la máquina de desarrollo, no hay garantía de que funcione en el ambiente de productivo."
            ]
        },
        {
            "cell_type": "markdown",
            "id": "1f8bb0a9-66c2-4f59-beaf-596d69211934",
            "metadata": {},
            "source": [
                "Repositorio en GitHub\n",
                "---"
            ]
        },
        {
            "cell_type": "markdown",
            "id": "d962ad7a-cbf2-4ed4-90f9-82be76f2cc5d",
            "metadata": {},
            "source": [
                "El código completo de este documento se encuentra disponible en:\n",
                "\n",
                "https://github.com/jdvelasq/dataops-pqrs-example"
            ]
        },
        {
            "cell_type": "markdown",
            "id": "d5a064bf-7c87-433e-985f-8211db1dd93f",
            "metadata": {},
            "source": [
                "![assets/example-05-00.png](assets/example-05-00.png)"
            ]
        },
        {
            "cell_type": "markdown",
            "id": "d70a2454-df96-4313-a4b0-97147d637f8e",
            "metadata": {},
            "source": [
                "![assets/example-05-01.png](assets/example-05-01.png)"
            ]
        }
    ],
    "metadata": {
        "kernelspec": {
            "display_name": "Python 3 (ipykernel)",
            "language": "python",
            "name": "python3"
        },
        "language_info": {
            "codemirror_mode": {
                "name": "ipython",
                "version": 3
            },
            "file_extension": ".py",
            "mimetype": "text/x-python",
            "name": "python",
            "nbconvert_exporter": "python",
            "pygments_lexer": "ipython3",
            "version": "3.8.10"
        }
    },
    "nbformat": 4,
    "nbformat_minor": 5
}
