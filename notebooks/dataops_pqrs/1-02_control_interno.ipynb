{
    "cells": [
        {
            "cell_type": "markdown",
            "id": "7f8fcfa0-86dc-4739-959d-fe5dde256310",
            "metadata": {
                "tags": []
            },
            "source": [
                "Etapa 2 --- Reporte para control interno\n",
                "===\n",
                "\n",
                "* Ultima modificación: Mayo 14, 2022 | YouTube"
            ]
        },
        {
            "cell_type": "markdown",
            "id": "326621d9-1c92-4dde-b87d-fd6cf6e8bae8",
            "metadata": {},
            "source": [
                "Definición de la situación actual\n",
                "---"
            ]
        },
        {
            "cell_type": "markdown",
            "id": "9b4b5cf1-c620-4220-b1fc-31b5f2828390",
            "metadata": {},
            "source": [
                "![assets/luis-ingeniero-de-operaciones.png](assets/luis-ingeniero-de-operaciones.png)"
            ]
        },
        {
            "cell_type": "markdown",
            "id": "7a0fb52f-66de-45bc-a521-dd0bf8877f38",
            "metadata": {},
            "source": [
                "![assets/lina-control-interno.png](assets/lina-control-interno.png)"
            ]
        },
        {
            "cell_type": "markdown",
            "id": "39e7dc54-0522-4fd6-8950-8185df34fb45",
            "metadata": {},
            "source": [
                "* Se han presentado muchas quejas por la respuesta tardía a las PQRS presentadas por los usuarios.\n",
                "\n",
                "* Los equpos aún no tienen capacidad de autogestión de los datos y cualquier solicitud debe ir al departamento de TI para que desarrolle el aplicativo.\n",
                "\n",
                "* Lina (control interno) solicita a Luis (ingeniero de operaciones, responsable del sistema PQRS) la contrucción de un informe de las solicitudes respondidas en un término mayor a **10 días**.\n",
                "\n",
                "* La entrega de este informe es responsabilidad de Luis, y es una tarea secundaria que se realiza con poca frecuencia."
            ]
        },
        {
            "cell_type": "markdown",
            "id": "f44af4a2-61fd-4e13-bade-05d42cc00819",
            "metadata": {},
            "source": [
                "Desarrollo del proyecto.\n",
                "---"
            ]
        },
        {
            "cell_type": "markdown",
            "id": "a47b02b5-4e8c-4247-b9ff-1f51ed71a311",
            "metadata": {},
            "source": [
                "El reporte queda a cargo de desarrollo. Se presentan problemas por:\n",
                "\n",
                "* El retraso mientras que Luis entrega una copia de las tablas del transaccional al equipo de desarrollo.\n",
                "\n",
                "* La diferencia entre los ambientes (hardware y software) entre las máquinas de productivo y de desarrollo.\n",
                "\n",
                "* Los retrasos debidos al tiempo de espera requeridos para que TI de acceso a las tablas del transaccional.\n",
                "\n",
                "* Los bugs que son encontrados durante la puesta en productivo de la app (hardware, software). La frase \"si corre en mi máquina\" se vuelve frecuente.\n",
                "\n",
                "* Una vez que el reporte se ejecuta con éxito en el productivo, Luis es responsable de ejecutarlo y entregar los resultados a Lina."
            ]
        },
        {
            "cell_type": "markdown",
            "id": "1f8bb0a9-66c2-4f59-beaf-596d69211934",
            "metadata": {},
            "source": [
                "Repositorio en GitHub\n",
                "---"
            ]
        },
        {
            "cell_type": "markdown",
            "id": "d962ad7a-cbf2-4ed4-90f9-82be76f2cc5d",
            "metadata": {},
            "source": [
                "El código completo de este documento se encuentra disponible en:\n",
                "\n",
                "https://github.com/jdvelasq/dataops-pqrs-example"
            ]
        },
        {
            "cell_type": "markdown",
            "id": "057d8659-45ab-4609-8779-40f735d17acf",
            "metadata": {},
            "source": [
                "**internal_control/Makefile**\n",
                "\n",
                "https://github.com/jdvelasq/dataops-pqrs-example/blob/main/internal_control/Makefile"
            ]
        },
        {
            "cell_type": "markdown",
            "id": "a075136f-a196-4658-88ca-6c760572fbb8",
            "metadata": {},
            "source": [
                "**internal_control/internal_control_report.py**\n",
                "\n",
                "https://github.com/jdvelasq/dataops-pqrs-example/blob/main/internal_control/internal_control_report.py"
            ]
        },
        {
            "cell_type": "markdown",
            "id": "47f87dc6-0e48-4e1d-9c3d-88d3b663828f",
            "metadata": {},
            "source": [
                "Ejemplo\n",
                "---"
            ]
        },
        {
            "cell_type": "markdown",
            "id": "24a80734-e9f4-4573-83f6-70b10ca73f32",
            "metadata": {},
            "source": [
                "Se ejecutan en el directorio raíz del repo:"
            ]
        },
        {
            "cell_type": "markdown",
            "id": "75203bdc-37df-45ab-8e7f-80d194a8c6ce",
            "metadata": {},
            "source": [
                "```bash\n",
                "$ make -C user_simulation/ restart\n",
                "```"
            ]
        },
        {
            "cell_type": "markdown",
            "id": "83072cad-0baa-4d19-9e40-1e6c55e90217",
            "metadata": {},
            "source": [
                "![assets/example-02-00.png](assets/example-02-00.png)"
            ]
        },
        {
            "cell_type": "markdown",
            "id": "d2a8042f-8d84-413f-aea9-ca4ab5266982",
            "metadata": {},
            "source": [
                "```bash\n",
                "$ make -C internal_control/\n",
                "```"
            ]
        },
        {
            "cell_type": "markdown",
            "id": "8d196f30-4367-438c-a583-44c8e5b98d18",
            "metadata": {},
            "source": [
                "![assets/example-02-01.png](assets/example-02-01.png)"
            ]
        },
        {
            "cell_type": "markdown",
            "id": "b343ec0d-fc63-448c-b3cc-882f28ac2deb",
            "metadata": {},
            "source": [
                "```bash\n",
                "$ cat internal_control/*.csv\n",
                "```"
            ]
        },
        {
            "cell_type": "markdown",
            "id": "e03eb295-c150-4d5c-8069-15df6c24dc79",
            "metadata": {},
            "source": [
                "![assets/example-02-02.png](assets/example-02-02.png)"
            ]
        }
    ],
    "metadata": {
        "kernelspec": {
            "display_name": "Python 3 (ipykernel)",
            "language": "python",
            "name": "python3"
        },
        "language_info": {
            "codemirror_mode": {
                "name": "ipython",
                "version": 3
            },
            "file_extension": ".py",
            "mimetype": "text/x-python",
            "name": "python",
            "nbconvert_exporter": "python",
            "pygments_lexer": "ipython3",
            "version": "3.8.10"
        }
    },
    "nbformat": 4,
    "nbformat_minor": 5
}
