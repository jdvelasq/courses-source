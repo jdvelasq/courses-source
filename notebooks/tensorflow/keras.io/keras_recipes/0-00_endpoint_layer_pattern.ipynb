{
 "cells": [
  {
   "cell_type": "markdown",
   "metadata": {
    "colab_type": "text"
   },
   "source": [
    "# Endpoint layer pattern"
   ]
  },
  {
   "cell_type": "code",
   "execution_count": null,
   "metadata": {
    "colab_type": "code"
   },
   "outputs": [],
   "source": [
    "import numpy as np\n",
    "import tensorflow as tf\n",
    "from tensorflow import keras"
   ]
  },
  {
   "cell_type": "code",
   "execution_count": null,
   "metadata": {
    "colab_type": "code"
   },
   "outputs": [],
   "source": [
    "class LogisticEndpoint(keras.layers.Layer):\n",
    "    def __init__(self, name=None):\n",
    "        super(LogisticEndpoint, self).__init__(name=name)\n",
    "        self.loss_fn = keras.losses.BinaryCrossentropy(from_logits=True)\n",
    "        self.accuracy_fn = keras.metrics.BinaryAccuracy(name=\"accuracy\")\n",
    "\n",
    "    def call(self, logits, targets=None, sample_weight=None):\n",
    "        if targets is not None:\n",
    "            # Compute the training-time loss value and add it\n",
    "            # to the layer using `self.add_loss()`.\n",
    "            loss = self.loss_fn(targets, logits, sample_weight)\n",
    "            self.add_loss(loss)\n",
    "\n",
    "            # Log the accuracy as a metric (we could log arbitrary metrics,\n",
    "            # including different metrics for training and inference.\n",
    "            self.add_metric(self.accuracy_fn(targets, logits, sample_weight))\n",
    "\n",
    "        # Return the inference-time prediction tensor (for `.predict()`).\n",
    "        return tf.nn.softmax(logits)\n",
    "\n",
    "\n",
    "inputs = keras.Input((764,), name=\"inputs\")\n",
    "logits = keras.layers.Dense(1)(inputs)\n",
    "targets = keras.Input((1,), name=\"targets\")\n",
    "sample_weight = keras.Input((1,), name=\"sample_weight\")\n",
    "preds = LogisticEndpoint()(logits, targets, sample_weight)\n",
    "model = keras.Model([inputs, targets, sample_weight], preds)\n",
    "\n",
    "data = {\n",
    "    \"inputs\": np.random.random((1000, 764)),\n",
    "    \"targets\": np.random.random((1000, 1)),\n",
    "    \"sample_weight\": np.random.random((1000, 1)),\n",
    "}\n",
    "\n",
    "model.compile(keras.optimizers.Adam(1e-3))\n",
    "model.fit(data, epochs=2)"
   ]
  },
  {
   "cell_type": "code",
   "execution_count": null,
   "metadata": {
    "colab_type": "code"
   },
   "outputs": [],
   "source": [
    "inputs = keras.Input((764,), name=\"inputs\")\n",
    "logits = keras.layers.Dense(1)(inputs)\n",
    "preds = LogisticEndpoint()(logits, targets=None, sample_weight=None)\n",
    "inference_model = keras.Model(inputs, preds)\n",
    "\n",
    "inference_model.set_weights(model.get_weights())\n",
    "\n",
    "preds = inference_model.predict(np.random.random((1000, 764)))"
   ]
  },
  {
   "cell_type": "code",
   "execution_count": null,
   "metadata": {
    "colab_type": "code"
   },
   "outputs": [],
   "source": [
    "class LogReg(keras.Model):\n",
    "    def __init__(self):\n",
    "        super(LogReg, self).__init__()\n",
    "        self.dense = keras.layers.Dense(1)\n",
    "        self.logistic_endpoint = LogisticEndpoint()\n",
    "\n",
    "    def call(self, inputs):\n",
    "        # Note that all inputs should be in the first argument\n",
    "        # since we want to be able to call `model.fit(inputs)`.\n",
    "        logits = self.dense(inputs[\"inputs\"])\n",
    "        preds = self.logistic_endpoint(\n",
    "            logits=logits,\n",
    "            targets=inputs[\"targets\"],\n",
    "            sample_weight=inputs[\"sample_weight\"],\n",
    "        )\n",
    "        return preds\n",
    "\n",
    "\n",
    "model = LogReg()\n",
    "data = {\n",
    "    \"inputs\": np.random.random((1000, 764)),\n",
    "    \"targets\": np.random.random((1000, 1)),\n",
    "    \"sample_weight\": np.random.random((1000, 1)),\n",
    "}\n",
    "\n",
    "model.compile(keras.optimizers.Adam(1e-3))\n",
    "model.fit(data, epochs=2)"
   ]
  }
 ],
 "metadata": {
  "colab": {
   "collapsed_sections": [],
   "name": "endpoint_layer_pattern",
   "private_outputs": false,
   "provenance": [],
   "toc_visible": true
  },
  "kernelspec": {
   "display_name": "Python 3",
   "language": "python",
   "name": "python3"
  },
  "language_info": {
   "codemirror_mode": {
    "name": "ipython",
    "version": 3
   },
   "file_extension": ".py",
   "mimetype": "text/x-python",
   "name": "python",
   "nbconvert_exporter": "python",
   "pygments_lexer": "ipython3",
   "version": "3.6.9"
  }
 },
 "nbformat": 4,
 "nbformat_minor": 4
}
