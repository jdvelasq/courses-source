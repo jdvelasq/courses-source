{
 "cells": [
  {
   "cell_type": "markdown",
   "metadata": {},
   "source": [
    "Análisis de sentimientos de IMDB usando TF.1.3\n",
    "==="
   ]
  },
  {
   "cell_type": "markdown",
   "metadata": {},
   "source": [
    "* *30 min* | Última modificación: Julio 09, 2019"
   ]
  },
  {
   "cell_type": "markdown",
   "metadata": {},
   "source": [
    "Basado en https://www.tensorflow.org/tutorials/keras/basic_text_classification?hl=es"
   ]
  },
  {
   "cell_type": "markdown",
   "metadata": {},
   "source": [
    "## Preparación"
   ]
  },
  {
   "cell_type": "code",
   "execution_count": 1,
   "metadata": {},
   "outputs": [
    {
     "name": "stdout",
     "output_type": "stream",
     "text": [
      "2.0.0-beta1\n"
     ]
    }
   ],
   "source": [
    "from __future__ import absolute_import, division, print_function\n",
    "\n",
    "import tensorflow as tf\n",
    "from tensorflow import keras\n",
    "\n",
    "import numpy as np\n",
    "\n",
    "print(tf.__version__)"
   ]
  },
  {
   "cell_type": "markdown",
   "metadata": {},
   "source": [
    "## Descarga de datos"
   ]
  },
  {
   "cell_type": "code",
   "execution_count": 2,
   "metadata": {},
   "outputs": [],
   "source": [
    "##\n",
    "## Dataset\n",
    "##\n",
    "imdb = keras.datasets.imdb\n",
    "\n",
    "\n",
    "##\n",
    "## Se descargan las 10000 palabras mas frecuentes\n",
    "##\n",
    "(train_data, train_labels), (test_data, test_labels) = imdb.load_data(num_words=10000)"
   ]
  },
  {
   "cell_type": "markdown",
   "metadata": {},
   "source": [
    "## Exploración de los datos"
   ]
  },
  {
   "cell_type": "code",
   "execution_count": 3,
   "metadata": {},
   "outputs": [
    {
     "name": "stdout",
     "output_type": "stream",
     "text": [
      "Training entries: 25000, labels: 25000\n"
     ]
    }
   ],
   "source": [
    "##\n",
    "## Datos de entrenamiento\n",
    "##\n",
    "print(\"Training entries: {}, labels: {}\".format(len(train_data), len(train_labels)))"
   ]
  },
  {
   "cell_type": "code",
   "execution_count": 4,
   "metadata": {},
   "outputs": [
    {
     "name": "stdout",
     "output_type": "stream",
     "text": [
      "[1, 14, 22, 16, 43, 530, 973, 1622, 1385, 65, 458, 4468, 66, 3941, 4, 173, 36, 256, 5, 25, 100, 43, 838, 112, 50, 670, 2, 9, 35, 480, 284, 5, 150, 4, 172, 112, 167, 2, 336, 385, 39, 4, 172, 4536, 1111, 17, 546, 38, 13, 447, 4, 192, 50, 16, 6, 147, 2025, 19, 14, 22, 4, 1920, 4613, 469, 4, 22, 71, 87, 12, 16, 43, 530, 38, 76, 15, 13, 1247, 4, 22, 17, 515, 17, 12, 16, 626, 18, 2, 5, 62, 386, 12, 8, 316, 8, 106, 5, 4, 2223, 5244, 16, 480, 66, 3785, 33, 4, 130, 12, 16, 38, 619, 5, 25, 124, 51, 36, 135, 48, 25, 1415, 33, 6, 22, 12, 215, 28, 77, 52, 5, 14, 407, 16, 82, 2, 8, 4, 107, 117, 5952, 15, 256, 4, 2, 7, 3766, 5, 723, 36, 71, 43, 530, 476, 26, 400, 317, 46, 7, 4, 2, 1029, 13, 104, 88, 4, 381, 15, 297, 98, 32, 2071, 56, 26, 141, 6, 194, 7486, 18, 4, 226, 22, 21, 134, 476, 26, 480, 5, 144, 30, 5535, 18, 51, 36, 28, 224, 92, 25, 104, 4, 226, 65, 16, 38, 1334, 88, 12, 16, 283, 5, 16, 4472, 113, 103, 32, 15, 16, 5345, 19, 178, 32]\n"
     ]
    }
   ],
   "source": [
    "##\n",
    "## Cada entero representa una palabra en un diccionario\n",
    "##\n",
    "print(train_data[0])"
   ]
  },
  {
   "cell_type": "code",
   "execution_count": 5,
   "metadata": {},
   "outputs": [
    {
     "data": {
      "text/plain": [
       "(218, 189, 141)"
      ]
     },
     "execution_count": 5,
     "metadata": {},
     "output_type": "execute_result"
    }
   ],
   "source": [
    "##\n",
    "## Cada revisión contiene un número diferente de palabras\n",
    "##\n",
    "len(train_data[0]), len(train_data[1]), len(train_data[2])"
   ]
  },
  {
   "cell_type": "markdown",
   "metadata": {},
   "source": [
    "## Conversión de enteros a palabras"
   ]
  },
  {
   "cell_type": "code",
   "execution_count": 6,
   "metadata": {},
   "outputs": [],
   "source": [
    "##\n",
    "## Se recupera el diccionario con las palabras\n",
    "##\n",
    "word_index = imdb.get_word_index()\n",
    "\n",
    "##\n",
    "## Los primeros indices del diccionario son reservados\n",
    "##\n",
    "word_index = {k:(v+3) for k,v in word_index.items()} \n",
    "word_index[\"<PAD>\"] = 0\n",
    "word_index[\"<START>\"] = 1\n",
    "word_index[\"<UNK>\"] = 2  # unknown\n",
    "word_index[\"<UNUSED>\"] = 3\n",
    "\n",
    "reverse_word_index = dict([(value, key) for (key, value) in word_index.items()])\n",
    "\n",
    "def decode_review(text):\n",
    "    return ' '.join([reverse_word_index.get(i, '?') for i in text])"
   ]
  },
  {
   "cell_type": "code",
   "execution_count": 7,
   "metadata": {},
   "outputs": [
    {
     "data": {
      "text/plain": [
       "\"<START> this film was just brilliant casting location scenery story direction everyone's really suited the part they played and you could just imagine being there robert <UNK> is an amazing actor and now the same being director <UNK> father came from the same scottish island as myself so i loved the fact there was a real connection with this film the witty remarks throughout the film were great it was just brilliant so much that i bought the film as soon as it was released for <UNK> and would recommend it to everyone to watch and the fly fishing was amazing really cried at the end it was so sad and you know what they say if you cry at a film it must have been good and this definitely was also <UNK> to the two little boy's that played the <UNK> of norman and paul they were just brilliant children are often left out of the <UNK> list i think because the stars that play them all grown up are such a big profile for the whole film but these children are amazing and should be praised for what they have done don't you think the whole story was so lovely because it was true and was someone's life after all that was shared with us all\""
      ]
     },
     "execution_count": 7,
     "metadata": {},
     "output_type": "execute_result"
    }
   ],
   "source": [
    "##\n",
    "## Primera revisión\n",
    "##\n",
    "decode_review(train_data[0])"
   ]
  },
  {
   "cell_type": "markdown",
   "metadata": {},
   "source": [
    "## Preparación de los datos"
   ]
  },
  {
   "cell_type": "markdown",
   "metadata": {},
   "source": [
    "Ver https://keras.io/preprocessing/sequence/#pad_sequences"
   ]
  },
  {
   "cell_type": "code",
   "execution_count": 8,
   "metadata": {},
   "outputs": [],
   "source": [
    "train_data = keras.preprocessing.sequence.pad_sequences(\n",
    "    train_data,\n",
    "    value=word_index[\"<PAD>\"],\n",
    "    padding='post',\n",
    "    maxlen=256)\n",
    "\n",
    "test_data = keras.preprocessing.sequence.pad_sequences(\n",
    "    test_data,\n",
    "    value=word_index[\"<PAD>\"],\n",
    "    padding='post',\n",
    "    maxlen=256)"
   ]
  },
  {
   "cell_type": "code",
   "execution_count": 9,
   "metadata": {},
   "outputs": [
    {
     "data": {
      "text/plain": [
       "(256, 256)"
      ]
     },
     "execution_count": 9,
     "metadata": {},
     "output_type": "execute_result"
    }
   ],
   "source": [
    "##\n",
    "## Longitudes de los primeros patrones de entrenamiento\n",
    "##\n",
    "len(train_data[0]), len(train_data[1])"
   ]
  },
  {
   "cell_type": "code",
   "execution_count": 10,
   "metadata": {},
   "outputs": [
    {
     "name": "stdout",
     "output_type": "stream",
     "text": [
      "[   1   14   22   16   43  530  973 1622 1385   65  458 4468   66 3941\n",
      "    4  173   36  256    5   25  100   43  838  112   50  670    2    9\n",
      "   35  480  284    5  150    4  172  112  167    2  336  385   39    4\n",
      "  172 4536 1111   17  546   38   13  447    4  192   50   16    6  147\n",
      " 2025   19   14   22    4 1920 4613  469    4   22   71   87   12   16\n",
      "   43  530   38   76   15   13 1247    4   22   17  515   17   12   16\n",
      "  626   18    2    5   62  386   12    8  316    8  106    5    4 2223\n",
      " 5244   16  480   66 3785   33    4  130   12   16   38  619    5   25\n",
      "  124   51   36  135   48   25 1415   33    6   22   12  215   28   77\n",
      "   52    5   14  407   16   82    2    8    4  107  117 5952   15  256\n",
      "    4    2    7 3766    5  723   36   71   43  530  476   26  400  317\n",
      "   46    7    4    2 1029   13  104   88    4  381   15  297   98   32\n",
      " 2071   56   26  141    6  194 7486   18    4  226   22   21  134  476\n",
      "   26  480    5  144   30 5535   18   51   36   28  224   92   25  104\n",
      "    4  226   65   16   38 1334   88   12   16  283    5   16 4472  113\n",
      "  103   32   15   16 5345   19  178   32    0    0    0    0    0    0\n",
      "    0    0    0    0    0    0    0    0    0    0    0    0    0    0\n",
      "    0    0    0    0    0    0    0    0    0    0    0    0    0    0\n",
      "    0    0    0    0]\n"
     ]
    }
   ],
   "source": [
    "##\n",
    "## Primer patrón de entrenamiento\n",
    "##\n",
    "print(train_data[0])"
   ]
  },
  {
   "cell_type": "markdown",
   "metadata": {},
   "source": [
    "## Construcción del modelo"
   ]
  },
  {
   "cell_type": "markdown",
   "metadata": {},
   "source": [
    "### Estructura"
   ]
  },
  {
   "cell_type": "code",
   "execution_count": 11,
   "metadata": {},
   "outputs": [
    {
     "name": "stdout",
     "output_type": "stream",
     "text": [
      "Model: \"sequential\"\n",
      "_________________________________________________________________\n",
      "Layer (type)                 Output Shape              Param #   \n",
      "=================================================================\n",
      "embedding (Embedding)        (None, None, 16)          160000    \n",
      "_________________________________________________________________\n",
      "global_average_pooling1d (Gl (None, 16)                0         \n",
      "_________________________________________________________________\n",
      "dense (Dense)                (None, 16)                272       \n",
      "_________________________________________________________________\n",
      "dense_1 (Dense)              (None, 1)                 17        \n",
      "=================================================================\n",
      "Total params: 160,289\n",
      "Trainable params: 160,289\n",
      "Non-trainable params: 0\n",
      "_________________________________________________________________\n"
     ]
    }
   ],
   "source": [
    "##\n",
    "## Tamaño del vocabulario\n",
    "##\n",
    "vocab_size = 10000\n",
    "\n",
    "## Crea un modelo vacio\n",
    "model = keras.Sequential()\n",
    "\n",
    "## Adiciona las capas\n",
    "model.add(keras.layers.Embedding(vocab_size, 16))\n",
    "model.add(keras.layers.GlobalAveragePooling1D())\n",
    "model.add(keras.layers.Dense(16, activation=tf.nn.relu))\n",
    "model.add(keras.layers.Dense(1, activation=tf.nn.sigmoid))\n",
    "\n",
    "## Estructura del modelo creado\n",
    "model.summary()"
   ]
  },
  {
   "cell_type": "markdown",
   "metadata": {},
   "source": [
    "### Compilación"
   ]
  },
  {
   "cell_type": "code",
   "execution_count": 12,
   "metadata": {},
   "outputs": [],
   "source": [
    "model.compile(optimizer='adam',\n",
    "              loss='binary_crossentropy',\n",
    "              metrics=['acc'])"
   ]
  },
  {
   "cell_type": "markdown",
   "metadata": {},
   "source": [
    "## Patrones de entrenamiento y prueba"
   ]
  },
  {
   "cell_type": "code",
   "execution_count": 13,
   "metadata": {},
   "outputs": [],
   "source": [
    "x_val = train_data[:10000]\n",
    "partial_x_train = train_data[10000:]\n",
    "\n",
    "y_val = train_labels[:10000]\n",
    "partial_y_train = train_labels[10000:]"
   ]
  },
  {
   "cell_type": "markdown",
   "metadata": {},
   "source": [
    "## Entrenamiento del modelo"
   ]
  },
  {
   "cell_type": "code",
   "execution_count": 14,
   "metadata": {},
   "outputs": [
    {
     "name": "stderr",
     "output_type": "stream",
     "text": [
      "WARNING: Logging before flag parsing goes to stderr.\n",
      "W0709 14:24:13.814549 140402230138688 deprecation.py:323] From /usr/local/lib/python3.6/dist-packages/tensorflow/python/ops/math_grad.py:1250: add_dispatch_support.<locals>.wrapper (from tensorflow.python.ops.array_ops) is deprecated and will be removed in a future version.\n",
      "Instructions for updating:\n",
      "Use tf.where in 2.0, which has the same broadcast rule as np.where\n"
     ]
    },
    {
     "name": "stdout",
     "output_type": "stream",
     "text": [
      "Train on 15000 samples, validate on 10000 samples\n",
      "Epoch 1/40\n",
      "15000/15000 [==============================] - 1s 56us/sample - loss: 0.6918 - acc: 0.5652 - val_loss: 0.6898 - val_acc: 0.6209\n",
      "Epoch 2/40\n",
      "15000/15000 [==============================] - 1s 37us/sample - loss: 0.6854 - acc: 0.6983 - val_loss: 0.6805 - val_acc: 0.7298\n",
      "Epoch 3/40\n",
      "15000/15000 [==============================] - 1s 38us/sample - loss: 0.6707 - acc: 0.7491 - val_loss: 0.6618 - val_acc: 0.7545\n",
      "Epoch 4/40\n",
      "15000/15000 [==============================] - 1s 39us/sample - loss: 0.6446 - acc: 0.7624 - val_loss: 0.6322 - val_acc: 0.7614\n",
      "Epoch 5/40\n",
      "15000/15000 [==============================] - 1s 44us/sample - loss: 0.6071 - acc: 0.7929 - val_loss: 0.5936 - val_acc: 0.7888\n",
      "Epoch 6/40\n",
      "15000/15000 [==============================] - 1s 43us/sample - loss: 0.5610 - acc: 0.8147 - val_loss: 0.5501 - val_acc: 0.8053\n",
      "Epoch 7/40\n",
      "15000/15000 [==============================] - 1s 40us/sample - loss: 0.5111 - acc: 0.8318 - val_loss: 0.5041 - val_acc: 0.8228\n",
      "Epoch 8/40\n",
      "15000/15000 [==============================] - 1s 43us/sample - loss: 0.4627 - acc: 0.8501 - val_loss: 0.4630 - val_acc: 0.8378\n",
      "Epoch 9/40\n",
      "15000/15000 [==============================] - 1s 45us/sample - loss: 0.4189 - acc: 0.8654 - val_loss: 0.4272 - val_acc: 0.8479\n",
      "Epoch 10/40\n",
      "15000/15000 [==============================] - 1s 43us/sample - loss: 0.3812 - acc: 0.8767 - val_loss: 0.3984 - val_acc: 0.8533\n",
      "Epoch 11/40\n",
      "15000/15000 [==============================] - 1s 44us/sample - loss: 0.3497 - acc: 0.8847 - val_loss: 0.3749 - val_acc: 0.8608\n",
      "Epoch 12/40\n",
      "15000/15000 [==============================] - 1s 44us/sample - loss: 0.3234 - acc: 0.8918 - val_loss: 0.3571 - val_acc: 0.8642\n",
      "Epoch 13/40\n",
      "15000/15000 [==============================] - 1s 41us/sample - loss: 0.3018 - acc: 0.8993 - val_loss: 0.3415 - val_acc: 0.8707\n",
      "Epoch 14/40\n",
      "15000/15000 [==============================] - 1s 43us/sample - loss: 0.2825 - acc: 0.9039 - val_loss: 0.3301 - val_acc: 0.8738\n",
      "Epoch 15/40\n",
      "15000/15000 [==============================] - 1s 46us/sample - loss: 0.2661 - acc: 0.9089 - val_loss: 0.3208 - val_acc: 0.8757\n",
      "Epoch 16/40\n",
      "15000/15000 [==============================] - 1s 40us/sample - loss: 0.2515 - acc: 0.9144 - val_loss: 0.3130 - val_acc: 0.8764\n",
      "Epoch 17/40\n",
      "15000/15000 [==============================] - 1s 40us/sample - loss: 0.2379 - acc: 0.9185 - val_loss: 0.3066 - val_acc: 0.8798\n",
      "Epoch 18/40\n",
      "15000/15000 [==============================] - 1s 39us/sample - loss: 0.2258 - acc: 0.9230 - val_loss: 0.3012 - val_acc: 0.8818\n",
      "Epoch 19/40\n",
      "15000/15000 [==============================] - 1s 39us/sample - loss: 0.2149 - acc: 0.9249 - val_loss: 0.2966 - val_acc: 0.8825\n",
      "Epoch 20/40\n",
      "15000/15000 [==============================] - 1s 38us/sample - loss: 0.2051 - acc: 0.9289 - val_loss: 0.2936 - val_acc: 0.8833\n",
      "Epoch 21/40\n",
      "15000/15000 [==============================] - 1s 40us/sample - loss: 0.1949 - acc: 0.9343 - val_loss: 0.2909 - val_acc: 0.8841\n",
      "Epoch 22/40\n",
      "15000/15000 [==============================] - 1s 39us/sample - loss: 0.1865 - acc: 0.9381 - val_loss: 0.2889 - val_acc: 0.8842\n",
      "Epoch 23/40\n",
      "15000/15000 [==============================] - 1s 40us/sample - loss: 0.1781 - acc: 0.9421 - val_loss: 0.2882 - val_acc: 0.8841\n",
      "Epoch 24/40\n",
      "15000/15000 [==============================] - 1s 39us/sample - loss: 0.1707 - acc: 0.9459 - val_loss: 0.2869 - val_acc: 0.8846\n",
      "Epoch 25/40\n",
      "15000/15000 [==============================] - 1s 40us/sample - loss: 0.1632 - acc: 0.9482 - val_loss: 0.2858 - val_acc: 0.8854\n",
      "Epoch 26/40\n",
      "15000/15000 [==============================] - 1s 40us/sample - loss: 0.1565 - acc: 0.9510 - val_loss: 0.2867 - val_acc: 0.8839\n",
      "Epoch 27/40\n",
      "15000/15000 [==============================] - 1s 41us/sample - loss: 0.1501 - acc: 0.9532 - val_loss: 0.2865 - val_acc: 0.8841\n",
      "Epoch 28/40\n",
      "15000/15000 [==============================] - 1s 40us/sample - loss: 0.1440 - acc: 0.9561 - val_loss: 0.2873 - val_acc: 0.8853\n",
      "Epoch 29/40\n",
      "15000/15000 [==============================] - 1s 40us/sample - loss: 0.1386 - acc: 0.9587 - val_loss: 0.2892 - val_acc: 0.8837\n",
      "Epoch 30/40\n",
      "15000/15000 [==============================] - 1s 39us/sample - loss: 0.1330 - acc: 0.9606 - val_loss: 0.2889 - val_acc: 0.8862\n",
      "Epoch 31/40\n",
      "15000/15000 [==============================] - 1s 40us/sample - loss: 0.1273 - acc: 0.9625 - val_loss: 0.2902 - val_acc: 0.8866\n",
      "Epoch 32/40\n",
      "15000/15000 [==============================] - 1s 39us/sample - loss: 0.1222 - acc: 0.9661 - val_loss: 0.2920 - val_acc: 0.8863\n",
      "Epoch 33/40\n",
      "15000/15000 [==============================] - 1s 39us/sample - loss: 0.1173 - acc: 0.9675 - val_loss: 0.2945 - val_acc: 0.8851\n",
      "Epoch 34/40\n",
      "15000/15000 [==============================] - 1s 39us/sample - loss: 0.1129 - acc: 0.9683 - val_loss: 0.2970 - val_acc: 0.8848\n",
      "Epoch 35/40\n",
      "15000/15000 [==============================] - 1s 39us/sample - loss: 0.1087 - acc: 0.9695 - val_loss: 0.3000 - val_acc: 0.8842\n",
      "Epoch 36/40\n",
      "15000/15000 [==============================] - 1s 39us/sample - loss: 0.1044 - acc: 0.9717 - val_loss: 0.3018 - val_acc: 0.8837\n",
      "Epoch 37/40\n",
      "15000/15000 [==============================] - 1s 39us/sample - loss: 0.1001 - acc: 0.9729 - val_loss: 0.3047 - val_acc: 0.8830\n",
      "Epoch 38/40\n",
      "15000/15000 [==============================] - 1s 40us/sample - loss: 0.0963 - acc: 0.9745 - val_loss: 0.3086 - val_acc: 0.8817\n",
      "Epoch 39/40\n",
      "15000/15000 [==============================] - 1s 39us/sample - loss: 0.0931 - acc: 0.9757 - val_loss: 0.3126 - val_acc: 0.8805\n",
      "Epoch 40/40\n",
      "15000/15000 [==============================] - 1s 43us/sample - loss: 0.0891 - acc: 0.9771 - val_loss: 0.3156 - val_acc: 0.8821\n"
     ]
    }
   ],
   "source": [
    "history = model.fit(\n",
    "    partial_x_train,\n",
    "    partial_y_train,\n",
    "    epochs=40,\n",
    "    batch_size=512,\n",
    "    validation_data=(x_val, y_val),\n",
    "    verbose=1)"
   ]
  },
  {
   "cell_type": "markdown",
   "metadata": {},
   "source": [
    "## Evaluación del modelo"
   ]
  },
  {
   "cell_type": "code",
   "execution_count": 15,
   "metadata": {},
   "outputs": [
    {
     "name": "stdout",
     "output_type": "stream",
     "text": [
      "25000/25000 [==============================] - 1s 39us/sample - loss: 0.3373 - acc: 0.8706\n"
     ]
    },
    {
     "data": {
      "text/plain": [
       "[0.3372772836780548, 0.8706]"
      ]
     },
     "execution_count": 15,
     "metadata": {},
     "output_type": "execute_result"
    }
   ],
   "source": [
    "results = model.evaluate(test_data, test_labels)\n",
    "results"
   ]
  },
  {
   "cell_type": "markdown",
   "metadata": {},
   "source": [
    "## Gráfico de la precisión y la pérdida sobre el tiempo"
   ]
  },
  {
   "cell_type": "code",
   "execution_count": 16,
   "metadata": {},
   "outputs": [
    {
     "data": {
      "text/plain": [
       "dict_keys(['loss', 'acc', 'val_loss', 'val_acc'])"
      ]
     },
     "execution_count": 16,
     "metadata": {},
     "output_type": "execute_result"
    }
   ],
   "source": [
    "history_dict = history.history\n",
    "history_dict.keys()"
   ]
  },
  {
   "cell_type": "code",
   "execution_count": 17,
   "metadata": {},
   "outputs": [
    {
     "data": {
      "image/png": "[encoded data removed]",
      "text/plain": [
       "<Figure size 432x288 with 1 Axes>"
      ]
     },
     "metadata": {
      "needs_background": "light"
     },
     "output_type": "display_data"
    }
   ],
   "source": [
    "import matplotlib.pyplot as plt\n",
    "%matplotlib inline\n",
    "\n",
    "acc = history_dict['acc']\n",
    "val_acc = history_dict['val_acc']\n",
    "loss = history_dict['loss']\n",
    "val_loss = history_dict['val_loss']\n",
    "\n",
    "epochs = range(1, len(acc) + 1)\n",
    "\n",
    "plt.plot(epochs, loss, 'bo', label='Training loss')\n",
    "plt.plot(epochs, val_loss, 'b', label='Validation loss')\n",
    "plt.title('Training and validation loss')\n",
    "plt.xlabel('Epochs')\n",
    "plt.ylabel('Loss')\n",
    "plt.legend()\n",
    "\n",
    "plt.show();"
   ]
  },
  {
   "cell_type": "code",
   "execution_count": 18,
   "metadata": {},
   "outputs": [
    {
     "data": {
      "image/png": "[encoded data removed]",
      "text/plain": [
       "<Figure size 432x288 with 1 Axes>"
      ]
     },
     "metadata": {
      "needs_background": "light"
     },
     "output_type": "display_data"
    }
   ],
   "source": [
    "plt.plot(epochs, acc, 'bo', label='Training acc')\n",
    "plt.plot(epochs, val_acc, 'b', label='Validation acc')\n",
    "plt.title('Training and validation accuracy')\n",
    "plt.xlabel('Epochs')\n",
    "plt.ylabel('Accuracy')\n",
    "plt.legend()\n",
    "\n",
    "plt.show()"
   ]
  }
 ],
 "metadata": {
  "kernelspec": {
   "display_name": "Python 3",
   "language": "python",
   "name": "python3"
  },
  "language_info": {
   "codemirror_mode": {
    "name": "ipython",
    "version": 3
   },
   "file_extension": ".py",
   "mimetype": "text/x-python",
   "name": "python",
   "nbconvert_exporter": "python",
   "pygments_lexer": "ipython3",
   "version": "3.6.8"
  }
 },
 "nbformat": 4,
 "nbformat_minor": 2
}
