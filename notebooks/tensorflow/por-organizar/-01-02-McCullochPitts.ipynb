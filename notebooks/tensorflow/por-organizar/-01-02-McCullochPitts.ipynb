{
 "cells": [
  {
   "cell_type": "markdown",
   "metadata": {},
   "source": [
    "Ejemplo --- Modelado de redes de neuronas de McCulloch-Pitts en TensorFlow\n",
    "===\n",
    "\n",
    "* *15 min* | Última modificación: Marzo 30, 2020"
   ]
  },
  {
   "cell_type": "markdown",
   "metadata": {},
   "source": [
    "## Descripción"
   ]
  },
  {
   "cell_type": "markdown",
   "metadata": {},
   "source": [
    "En este tutorial se presenta la implementación de una red neuronal que permite reconocer el siguiente conjunto de patrones binarios."
   ]
  },
  {
   "cell_type": "markdown",
   "metadata": {},
   "source": [
    "\n",
    "    Entrada   Salida\n",
    "    ------------------\n",
    "       000       0\n",
    "       001       1\n",
    "       010       0\n",
    "       011       0\n",
    "       100       1\n",
    "       101       0\n",
    "       110       1\n",
    "       111       1\n",
    "\n",
    "       "
   ]
  },
  {
   "cell_type": "markdown",
   "metadata": {},
   "source": [
    "## Importación de las librerías"
   ]
  },
  {
   "cell_type": "code",
   "execution_count": 1,
   "metadata": {},
   "outputs": [
    {
     "name": "stdout",
     "output_type": "stream",
     "text": [
      "2.1.0\n"
     ]
    }
   ],
   "source": [
    "import warnings\n",
    "\n",
    "warnings.filterwarnings(\"ignore\")\n",
    "\n",
    "import tensorflow as tf\n",
    "\n",
    "print(tf.__version__)"
   ]
  },
  {
   "cell_type": "markdown",
   "metadata": {},
   "source": [
    "## Implementación de la red neuronal usando operaciones elementales de TF"
   ]
  },
  {
   "cell_type": "code",
   "execution_count": 2,
   "metadata": {},
   "outputs": [],
   "source": [
    "def nnet(x):\n",
    "    #\n",
    "    #  Peso de las neuronas inhibitorias\n",
    "    #\n",
    "    N = -10.0\n",
    "\n",
    "    #\n",
    "    #  Pesos asociados a las conexiones.\n",
    "    #  Se traspone la matriz para que cada\n",
    "    #  fila representa un patrón y cada columna\n",
    "    #  un dígito binario\n",
    "    #\n",
    "    weights = tf.constant(\n",
    "        [[N, N, 1], [1, N, N], [1, 1, N], [1, 1, 1]], tf.float32,  # 001, 100, 110, 111\n",
    "    )\n",
    "\n",
    "    #\n",
    "    #  Valor límite de las neuronas para\n",
    "    #  la función de activación\n",
    "    #\n",
    "    threshold = tf.constant([1, 1, 2, 3], tf.float32)\n",
    "\n",
    "    #\n",
    "    #  Cálculo de la salida de la red\n",
    "    #\n",
    "    x = [float(u) for u in x]\n",
    "    out0 = tf.matmul(weights, tf.reshape(x, [3, 1]))  # suma de las entradas\n",
    "    out1 = tf.reshape(out0, [-1])\n",
    "    out2 = tf.subtract(out1, threshold)  # resta el umbral: g() - umbral\n",
    "    out3 = tf.map_fn(\n",
    "        lambda m: tf.cond(\n",
    "            tf.greater_equal(m, 0.0),\n",
    "            true_fn=lambda: tf.constant(1.0),\n",
    "            false_fn=lambda: tf.constant(0.0),\n",
    "        ),\n",
    "        out2,\n",
    "    )\n",
    "\n",
    "    #\n",
    "    #  Se computa la función OR\n",
    "    #\n",
    "    result = tf.reduce_max(out3)  # salida de la red neuronal\n",
    "\n",
    "    return result.numpy()"
   ]
  },
  {
   "cell_type": "markdown",
   "metadata": {},
   "source": [
    "## Verificación de cómputos"
   ]
  },
  {
   "cell_type": "code",
   "execution_count": 2,
   "metadata": {},
   "outputs": [
    {
     "name": "stdout",
     "output_type": "stream",
     "text": [
      "0.0\n",
      "1.0\n",
      "0.0\n",
      "0.0\n",
      "1.0\n",
      "0.0\n",
      "1.0\n",
      "1.0\n"
     ]
    }
   ],
   "source": [
    "print(nnet([0, 0, 0]))\n",
    "print(nnet([0, 0, 1]))\n",
    "print(nnet([0, 1, 0]))\n",
    "print(nnet([0, 1, 1]))\n",
    "print(nnet([1, 0, 0]))\n",
    "print(nnet([1, 0, 1]))\n",
    "print(nnet([1, 1, 0]))\n",
    "print(nnet([1, 1, 1]))"
   ]
  }
 ],
 "metadata": {
  "kernelspec": {
   "display_name": "Python 3",
   "language": "python",
   "name": "python3"
  },
  "language_info": {
   "codemirror_mode": {
    "name": "ipython",
    "version": 3
   },
   "file_extension": ".py",
   "mimetype": "text/x-python",
   "name": "python",
   "nbconvert_exporter": "python",
   "pygments_lexer": "ipython3",
   "version": "3.6.9"
  }
 },
 "nbformat": 4,
 "nbformat_minor": 4
}
