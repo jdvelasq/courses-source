{
 "cells": [
  {
   "cell_type": "markdown",
   "metadata": {},
   "source": [
    "Afinación de parámetros con Keras Tuner\n",
    "==="
   ]
  },
  {
   "cell_type": "markdown",
   "metadata": {},
   "source": [
    "* 30:00 min | Última modificación: Mayo 10, 2021 | [YouTube]"
   ]
  },
  {
   "cell_type": "markdown",
   "metadata": {},
   "source": [
    "Adaptado de:\n",
    "\n",
    "* https://www.tensorflow.org/tutorials/keras/keras_tuner"
   ]
  },
  {
   "cell_type": "code",
   "execution_count": 1,
   "metadata": {
    "id": "IqR2PQG4ZaZ0"
   },
   "outputs": [
    {
     "name": "stdout",
     "output_type": "stream",
     "text": [
      "2.4.1\n",
      "1.0.2\n"
     ]
    }
   ],
   "source": [
    "import kerastuner as kt\n",
    "import tensorflow as tf\n",
    "from tensorflow import keras\n",
    "\n",
    "print(tf.__version__)\n",
    "print(kt.__version__)"
   ]
  },
  {
   "cell_type": "code",
   "execution_count": 2,
   "metadata": {
    "id": "_leAIdFKAxAD"
   },
   "outputs": [],
   "source": [
    "#\n",
    "#  Descarga de los datos\n",
    "#\n",
    "(\n",
    "    (train_images, train_labels),\n",
    "    (test_images, test_labels),\n",
    ") = keras.datasets.fashion_mnist.load_data()"
   ]
  },
  {
   "cell_type": "markdown",
   "metadata": {},
   "source": [
    "## Especificación del modelo"
   ]
  },
  {
   "cell_type": "code",
   "execution_count": 3,
   "metadata": {},
   "outputs": [],
   "source": [
    "def model_builder(hp):\n",
    "    \n",
    "    #\n",
    "    # Evalua distintas cantidades de neuronas en la capa\n",
    "    # oculta\n",
    "    #\n",
    "    hp_units = hp.Int(\n",
    "        \"units\",\n",
    "        min_value=32,\n",
    "        max_value=512,\n",
    "        step=32,\n",
    "    )\n",
    "        \n",
    "    model = keras.Sequential(\n",
    "        [\n",
    "            #\n",
    "            # Esta capa reduce una dimension de la matriz de entrada.\n",
    "            # El conjunto de entrada es una lista de matrices de 28x28.\n",
    "            # Flatten genera una lista de vectores de dimensión 28x28\n",
    "            #            \n",
    "            keras.layers.Flatten(input_shape=(28, 28)),\n",
    "            \n",
    "            #\n",
    "            # Preprocesamiento de la entrada [0, 255] --> [0, 1]\n",
    "            #\n",
    "            keras.layers.experimental.preprocessing.Rescaling(scale=1.0 / 255),\n",
    "            \n",
    "            #\n",
    "            # Capa de procesamiento. Aquí se modifica dinamicamente la \n",
    "            # cantidad de neuronas en la capa\n",
    "            #\n",
    "            keras.layers.Dense(\n",
    "                units=hp_units,\n",
    "                activation=\"relu\",\n",
    "            ),\n",
    "            \n",
    "            #\n",
    "            # Capa de salida\n",
    "            #\n",
    "            keras.layers.Dense(10)\n",
    "        ]\n",
    "    )\n",
    "\n",
    "    #\n",
    "    # Escoge el mejor valor para la tasa de aprendizaje\n",
    "    #\n",
    "    hp_learning_rate = hp.Choice(\n",
    "        \"learning_rate\",\n",
    "        values=[0.01, 0.001, 0.0001],\n",
    "    )\n",
    "\n",
    "    model.compile(\n",
    "        #\n",
    "        # Optimizador con distintos valores \n",
    "        # para la tasa de aprendizaje\n",
    "        #\n",
    "        optimizer=keras.optimizers.Adam(\n",
    "            learning_rate=hp_learning_rate,\n",
    "        ),\n",
    "        #\n",
    "        # Función de pérdida\n",
    "        #\n",
    "        loss=keras.losses.SparseCategoricalCrossentropy(\n",
    "            from_logits=True,\n",
    "        ),\n",
    "        #\n",
    "        # Métrica a monitoreas\n",
    "        #\n",
    "        metrics=[\"accuracy\"],\n",
    "    )\n",
    "\n",
    "    return model"
   ]
  },
  {
   "cell_type": "markdown",
   "metadata": {},
   "source": [
    "## Monitoreo del modelo con Early Stopping"
   ]
  },
  {
   "cell_type": "code",
   "execution_count": 4,
   "metadata": {},
   "outputs": [],
   "source": [
    "callbacks = [\n",
    "    tf.keras.callbacks.EarlyStopping(\n",
    "        #\n",
    "        # Metrica a monitorear\n",
    "        #\n",
    "        monitor=\"val_loss\",\n",
    "        \n",
    "        #\n",
    "        # Número de iteraciones sin mejora antes\n",
    "        # de finalizar el entrenamiento\n",
    "        #\n",
    "        patience=5,\n",
    "    )\n",
    "]"
   ]
  },
  {
   "cell_type": "markdown",
   "metadata": {},
   "source": [
    "## Estrategias de búsqueda"
   ]
  },
  {
   "cell_type": "code",
   "execution_count": 5,
   "metadata": {
    "id": "oichQFly6Y46"
   },
   "outputs": [
    {
     "name": "stdout",
     "output_type": "stream",
     "text": [
      "Search space summary\n",
      "Default search space size: 2\n",
      "units (Int)\n",
      "{'default': None, 'conditions': [], 'min_value': 32, 'max_value': 512, 'step': 32, 'sampling': None}\n",
      "learning_rate (Choice)\n",
      "{'default': 0.01, 'conditions': [], 'values': [0.01, 0.001, 0.0001], 'ordered': True}\n"
     ]
    }
   ],
   "source": [
    "!rm -rf /tmp/hyperband_kt\n",
    "\n",
    "hyperband_tuner = kt.Hyperband(\n",
    "    hypermodel=model_builder,      # construye el modelo\n",
    "    objective=\"val_accuracy\",      # criterio para seleccionar los parametros\n",
    "    max_epochs=10,                 # Número máximo de iteraciones\n",
    "    factor=3,                      # factor para reducir la cantidad de modelos\n",
    "    directory=\"/tmp/hyperband_kt\", # directorio de trabajo\n",
    "    project_name=\"hyperband_kt\",   # nombre del proyecto\n",
    "    overwrite=True,                # sobre-escribe la carpeta si existe\n",
    ")\n",
    "\n",
    "#\n",
    "# Resumen de los parametros de la búsqueda\n",
    "#\n",
    "hyperband_tuner.search_space_summary()"
   ]
  },
  {
   "cell_type": "code",
   "execution_count": 6,
   "metadata": {},
   "outputs": [
    {
     "name": "stdout",
     "output_type": "stream",
     "text": [
      "Search space summary\n",
      "Default search space size: 2\n",
      "units (Int)\n",
      "{'default': None, 'conditions': [], 'min_value': 32, 'max_value': 512, 'step': 32, 'sampling': None}\n",
      "learning_rate (Choice)\n",
      "{'default': 0.01, 'conditions': [], 'values': [0.01, 0.001, 0.0001], 'ordered': True}\n"
     ]
    }
   ],
   "source": [
    "!rm -rf /tmp/randomsearch_kt\n",
    "\n",
    "randomsearch_tuner = kt.RandomSearch(\n",
    "    hypermodel=model_builder,         # construye el modelo\n",
    "    objective=\"val_accuracy\",         # criterio para seleccionar los parametros\n",
    "    max_trials=4,                     # número máximo de ensayos\n",
    "    directory=\"/tmp/randomsearch_kt\", # directorio de trabajo\n",
    "    project_name=\"randomsearch_kt\",   # Nombre del proyecto\n",
    "    overwrite=True,                   # sobre-escribe la carpeta si existe\n",
    ")\n",
    "\n",
    "#\n",
    "# Resumen de los parametros de la búsqueda\n",
    "#\n",
    "randomsearch_tuner.search_space_summary()"
   ]
  },
  {
   "cell_type": "code",
   "execution_count": 7,
   "metadata": {},
   "outputs": [
    {
     "name": "stdout",
     "output_type": "stream",
     "text": [
      "Search space summary\n",
      "Default search space size: 2\n",
      "units (Int)\n",
      "{'default': None, 'conditions': [], 'min_value': 32, 'max_value': 512, 'step': 32, 'sampling': None}\n",
      "learning_rate (Choice)\n",
      "{'default': 0.01, 'conditions': [], 'values': [0.01, 0.001, 0.0001], 'ordered': True}\n"
     ]
    }
   ],
   "source": [
    "!rm -rf /tmp/bayesianopt_kt\n",
    "\n",
    "bayesianoptimization_tuner = kt.BayesianOptimization(\n",
    "    hypermodel=model_builder,         # construye el modelo\n",
    "    objective=\"val_accuracy\",         # criterio para seleccionar los parametros\n",
    "    max_trials=4,                     # número máximo de ensayos\n",
    "    seed=123456,                      # semilla del generador de aleatorios\n",
    "    directory=\"/tmp/bayesianopt_kt\",  # directorio de trabajo\n",
    "    project_name=\"bayesianopt_kt\",    # Nombre del proyecto\n",
    "    overwrite=True,                   # sobre-escribe la carpeta si existe\n",
    ")\n",
    "\n",
    "#\n",
    "# Resumen de los parametros de la búsqueda\n",
    "#\n",
    "bayesianoptimization_tuner.search_space_summary()"
   ]
  },
  {
   "cell_type": "markdown",
   "metadata": {},
   "source": [
    "## Búsqueda de los parámetros óptimos"
   ]
  },
  {
   "cell_type": "code",
   "execution_count": 8,
   "metadata": {
    "id": "oichQFly6Y46"
   },
   "outputs": [
    {
     "name": "stdout",
     "output_type": "stream",
     "text": [
      "Trial 30 Complete [00h 00m 36s]\n",
      "val_accuracy: 0.8668333292007446\n",
      "\n",
      "Best val_accuracy So Far: 0.8857499957084656\n",
      "Total elapsed time: 00h 07m 22s\n",
      "INFO:tensorflow:Oracle triggered exit\n",
      "Results summary\n",
      "Results in /tmp/hyperband_kt/hyperband_kt\n",
      "Showing 10 best trials\n",
      "Objective(name='val_accuracy', direction='max')\n",
      "Trial summary\n",
      "Hyperparameters:\n",
      "units: 448\n",
      "learning_rate: 0.001\n",
      "tuner/epochs: 10\n",
      "tuner/initial_epoch: 0\n",
      "tuner/bracket: 0\n",
      "tuner/round: 0\n",
      "Score: 0.8857499957084656\n",
      "Trial summary\n",
      "Hyperparameters:\n",
      "units: 384\n",
      "learning_rate: 0.001\n",
      "tuner/epochs: 10\n",
      "tuner/initial_epoch: 4\n",
      "tuner/bracket: 1\n",
      "tuner/round: 1\n",
      "tuner/trial_id: 065db2af472ef92978aaa72b7758c580\n",
      "Score: 0.8850833177566528\n",
      "Trial summary\n",
      "Hyperparameters:\n",
      "units: 384\n",
      "learning_rate: 0.001\n",
      "tuner/epochs: 4\n",
      "tuner/initial_epoch: 0\n",
      "tuner/bracket: 1\n",
      "tuner/round: 0\n",
      "Score: 0.8818333148956299\n",
      "Trial summary\n",
      "Hyperparameters:\n",
      "units: 224\n",
      "learning_rate: 0.001\n",
      "tuner/epochs: 10\n",
      "tuner/initial_epoch: 4\n",
      "tuner/bracket: 2\n",
      "tuner/round: 2\n",
      "tuner/trial_id: 192702e712f7285e9d3fa20cefe84cf4\n",
      "Score: 0.8817499876022339\n",
      "Trial summary\n",
      "Hyperparameters:\n",
      "units: 256\n",
      "learning_rate: 0.001\n",
      "tuner/epochs: 10\n",
      "tuner/initial_epoch: 4\n",
      "tuner/bracket: 2\n",
      "tuner/round: 2\n",
      "tuner/trial_id: fd43b040e8cadf3c5fe77e86c47a16a6\n",
      "Score: 0.8794166445732117\n",
      "Trial summary\n",
      "Hyperparameters:\n",
      "units: 480\n",
      "learning_rate: 0.001\n",
      "tuner/epochs: 4\n",
      "tuner/initial_epoch: 0\n",
      "tuner/bracket: 1\n",
      "tuner/round: 0\n",
      "Score: 0.8791666626930237\n",
      "Trial summary\n",
      "Hyperparameters:\n",
      "units: 352\n",
      "learning_rate: 0.001\n",
      "tuner/epochs: 4\n",
      "tuner/initial_epoch: 0\n",
      "tuner/bracket: 1\n",
      "tuner/round: 0\n",
      "Score: 0.878000020980835\n",
      "Trial summary\n",
      "Hyperparameters:\n",
      "units: 480\n",
      "learning_rate: 0.001\n",
      "tuner/epochs: 10\n",
      "tuner/initial_epoch: 4\n",
      "tuner/bracket: 1\n",
      "tuner/round: 1\n",
      "tuner/trial_id: 06434108a63151c644ce0bb9e28c5ec4\n",
      "Score: 0.8773333430290222\n",
      "Trial summary\n",
      "Hyperparameters:\n",
      "units: 512\n",
      "learning_rate: 0.001\n",
      "tuner/epochs: 4\n",
      "tuner/initial_epoch: 0\n",
      "tuner/bracket: 1\n",
      "tuner/round: 0\n",
      "Score: 0.8769166469573975\n",
      "Trial summary\n",
      "Hyperparameters:\n",
      "units: 192\n",
      "learning_rate: 0.0001\n",
      "tuner/epochs: 10\n",
      "tuner/initial_epoch: 0\n",
      "tuner/bracket: 0\n",
      "tuner/round: 0\n",
      "Score: 0.8743333220481873\n"
     ]
    }
   ],
   "source": [
    "hyperband_tuner.search(\n",
    "    train_images,\n",
    "    train_labels,\n",
    "    epochs=50,\n",
    "    validation_split=0.2,\n",
    "    callbacks=callbacks,\n",
    "    verbose=1,\n",
    ")\n",
    "\n",
    "hyperband_tuner.results_summary()"
   ]
  },
  {
   "cell_type": "code",
   "execution_count": 9,
   "metadata": {
    "id": "oichQFly6Y46"
   },
   "outputs": [
    {
     "name": "stdout",
     "output_type": "stream",
     "text": [
      "Trial 4 Complete [00h 02m 28s]\n",
      "val_accuracy: 0.8964999914169312\n",
      "\n",
      "Best val_accuracy So Far: 0.8972499966621399\n",
      "Total elapsed time: 00h 09m 44s\n",
      "INFO:tensorflow:Oracle triggered exit\n",
      "Results summary\n",
      "Results in /tmp/randomsearch_kt/randomsearch_kt\n",
      "Showing 10 best trials\n",
      "Objective(name='val_accuracy', direction='max')\n",
      "Trial summary\n",
      "Hyperparameters:\n",
      "units: 480\n",
      "learning_rate: 0.0001\n",
      "Score: 0.8972499966621399\n",
      "Trial summary\n",
      "Hyperparameters:\n",
      "units: 416\n",
      "learning_rate: 0.0001\n",
      "Score: 0.8964999914169312\n",
      "Trial summary\n",
      "Hyperparameters:\n",
      "units: 256\n",
      "learning_rate: 0.0001\n",
      "Score: 0.8943333625793457\n",
      "Trial summary\n",
      "Hyperparameters:\n",
      "units: 384\n",
      "learning_rate: 0.0001\n",
      "Score: 0.8939999938011169\n"
     ]
    }
   ],
   "source": [
    "randomsearch_tuner.search(\n",
    "    train_images,\n",
    "    train_labels,\n",
    "    epochs=50,\n",
    "    validation_split=0.2,\n",
    "    callbacks=callbacks,\n",
    "    verbose=1,\n",
    ")\n",
    "\n",
    "randomsearch_tuner.results_summary()"
   ]
  },
  {
   "cell_type": "code",
   "execution_count": 10,
   "metadata": {
    "id": "oichQFly6Y46"
   },
   "outputs": [
    {
     "name": "stdout",
     "output_type": "stream",
     "text": [
      "Trial 4 Complete [00h 02m 06s]\n",
      "val_accuracy: 0.8740000128746033\n",
      "\n",
      "Best val_accuracy So Far: 0.8923333287239075\n",
      "Total elapsed time: 00h 07m 01s\n",
      "INFO:tensorflow:Oracle triggered exit\n",
      "Results summary\n",
      "Results in /tmp/bayesianopt_kt/bayesianopt_kt\n",
      "Showing 10 best trials\n",
      "Objective(name='val_accuracy', direction='max')\n",
      "Trial summary\n",
      "Hyperparameters:\n",
      "units: 416\n",
      "learning_rate: 0.001\n",
      "Score: 0.8923333287239075\n",
      "Trial summary\n",
      "Hyperparameters:\n",
      "units: 128\n",
      "learning_rate: 0.0001\n",
      "Score: 0.89041668176651\n",
      "Trial summary\n",
      "Hyperparameters:\n",
      "units: 32\n",
      "learning_rate: 0.0001\n",
      "Score: 0.8740000128746033\n",
      "Trial summary\n",
      "Hyperparameters:\n",
      "units: 480\n",
      "learning_rate: 0.01\n",
      "Score: 0.8669999837875366\n"
     ]
    }
   ],
   "source": [
    "bayesianoptimization_tuner.search(\n",
    "    train_images,\n",
    "    train_labels,\n",
    "    epochs=50,\n",
    "    validation_split=0.2,\n",
    "    callbacks=callbacks,\n",
    "    verbose=1,\n",
    ")\n",
    "\n",
    "bayesianoptimization_tuner.results_summary()"
   ]
  },
  {
   "cell_type": "markdown",
   "metadata": {},
   "source": [
    "## Obtención del mejor modelo"
   ]
  },
  {
   "cell_type": "code",
   "execution_count": 11,
   "metadata": {
    "id": "oichQFly6Y46"
   },
   "outputs": [
    {
     "data": {
      "text/plain": [
       "(448, 0.001)"
      ]
     },
     "execution_count": 11,
     "metadata": {},
     "output_type": "execute_result"
    }
   ],
   "source": [
    "best_hyperband_hps = hyperband_tuner.get_best_hyperparameters(num_trials=1)[0]\n",
    "\n",
    "#\n",
    "# Cantidad optima de neuronas en la capa oculta \n",
    "# y tasa de aprendizaje\n",
    "#\n",
    "best_hyperband_hps.get(\"units\"), best_hyperband_hps.get('learning_rate')"
   ]
  },
  {
   "cell_type": "code",
   "execution_count": 12,
   "metadata": {
    "id": "oichQFly6Y46"
   },
   "outputs": [
    {
     "data": {
      "text/plain": [
       "(480, 0.0001)"
      ]
     },
     "execution_count": 12,
     "metadata": {},
     "output_type": "execute_result"
    }
   ],
   "source": [
    "best_randomsearch_hps = randomsearch_tuner.get_best_hyperparameters(num_trials=1)[0]\n",
    "\n",
    "#\n",
    "# Cantidad optima de neuronas en la capa oculta \n",
    "# y tasa de aprendizaje\n",
    "#\n",
    "best_randomsearch_hps.get(\"units\"), best_randomsearch_hps.get('learning_rate')"
   ]
  },
  {
   "cell_type": "code",
   "execution_count": 13,
   "metadata": {
    "id": "oichQFly6Y46"
   },
   "outputs": [
    {
     "data": {
      "text/plain": [
       "(416, 0.001)"
      ]
     },
     "execution_count": 13,
     "metadata": {},
     "output_type": "execute_result"
    }
   ],
   "source": [
    "best_bayesianopt_hps = bayesianoptimization_tuner.get_best_hyperparameters(num_trials=1)[0]\n",
    "\n",
    "#\n",
    "# Cantidad optima de neuronas en la capa oculta \n",
    "# y tasa de aprendizaje\n",
    "#\n",
    "best_bayesianopt_hps.get(\"units\"), best_bayesianopt_hps.get('learning_rate')"
   ]
  },
  {
   "cell_type": "markdown",
   "metadata": {},
   "source": [
    "## Obtención del mejor modelo"
   ]
  },
  {
   "cell_type": "code",
   "execution_count": 14,
   "metadata": {
    "id": "McO82AXOuxXh"
   },
   "outputs": [
    {
     "name": "stdout",
     "output_type": "stream",
     "text": [
      "Epoch 1/50\n",
      "1500/1500 - 4s - loss: 0.4944 - accuracy: 0.8254 - val_loss: 0.4105 - val_accuracy: 0.8524\n",
      "Epoch 2/50\n",
      "1500/1500 - 3s - loss: 0.3681 - accuracy: 0.8662 - val_loss: 0.3524 - val_accuracy: 0.8718\n",
      "Epoch 3/50\n",
      "1500/1500 - 4s - loss: 0.3290 - accuracy: 0.8785 - val_loss: 0.3371 - val_accuracy: 0.8798\n",
      "Epoch 4/50\n",
      "1500/1500 - 4s - loss: 0.3072 - accuracy: 0.8863 - val_loss: 0.3196 - val_accuracy: 0.8858\n",
      "Epoch 5/50\n",
      "1500/1500 - 4s - loss: 0.2863 - accuracy: 0.8944 - val_loss: 0.3588 - val_accuracy: 0.8755\n",
      "Epoch 6/50\n",
      "1500/1500 - 4s - loss: 0.2696 - accuracy: 0.9011 - val_loss: 0.3265 - val_accuracy: 0.8837\n",
      "Epoch 7/50\n",
      "1500/1500 - 4s - loss: 0.2556 - accuracy: 0.9032 - val_loss: 0.3185 - val_accuracy: 0.8862\n",
      "Epoch 8/50\n",
      "1500/1500 - 4s - loss: 0.2463 - accuracy: 0.9090 - val_loss: 0.3161 - val_accuracy: 0.8855\n",
      "Epoch 9/50\n",
      "1500/1500 - 4s - loss: 0.2330 - accuracy: 0.9128 - val_loss: 0.3371 - val_accuracy: 0.8847\n",
      "Epoch 10/50\n",
      "1500/1500 - 4s - loss: 0.2258 - accuracy: 0.9151 - val_loss: 0.3473 - val_accuracy: 0.8786\n",
      "Epoch 11/50\n",
      "1500/1500 - 4s - loss: 0.2158 - accuracy: 0.9201 - val_loss: 0.3542 - val_accuracy: 0.8846\n",
      "Epoch 12/50\n",
      "1500/1500 - 4s - loss: 0.2081 - accuracy: 0.9224 - val_loss: 0.3165 - val_accuracy: 0.8931\n",
      "Epoch 13/50\n",
      "1500/1500 - 4s - loss: 0.1987 - accuracy: 0.9261 - val_loss: 0.3210 - val_accuracy: 0.8925\n",
      "Epoch 14/50\n",
      "1500/1500 - 4s - loss: 0.1925 - accuracy: 0.9264 - val_loss: 0.3413 - val_accuracy: 0.8852\n",
      "Epoch 15/50\n",
      "1500/1500 - 4s - loss: 0.1868 - accuracy: 0.9295 - val_loss: 0.3245 - val_accuracy: 0.8926\n",
      "Epoch 16/50\n",
      "1500/1500 - 4s - loss: 0.1786 - accuracy: 0.9327 - val_loss: 0.3347 - val_accuracy: 0.8931\n",
      "Epoch 17/50\n",
      "1500/1500 - 4s - loss: 0.1740 - accuracy: 0.9345 - val_loss: 0.3444 - val_accuracy: 0.8913\n",
      "Epoch 18/50\n",
      "1500/1500 - 4s - loss: 0.1678 - accuracy: 0.9364 - val_loss: 0.3358 - val_accuracy: 0.8948\n",
      "Epoch 19/50\n",
      "1500/1500 - 4s - loss: 0.1621 - accuracy: 0.9389 - val_loss: 0.3297 - val_accuracy: 0.8978\n",
      "Epoch 20/50\n",
      "1500/1500 - 4s - loss: 0.1554 - accuracy: 0.9404 - val_loss: 0.3601 - val_accuracy: 0.8958\n",
      "Epoch 21/50\n",
      "1500/1500 - 4s - loss: 0.1519 - accuracy: 0.9415 - val_loss: 0.3519 - val_accuracy: 0.8938\n",
      "Epoch 22/50\n",
      "1500/1500 - 4s - loss: 0.1465 - accuracy: 0.9446 - val_loss: 0.3575 - val_accuracy: 0.8940\n",
      "Epoch 23/50\n",
      "1500/1500 - 4s - loss: 0.1438 - accuracy: 0.9457 - val_loss: 0.3553 - val_accuracy: 0.8972\n",
      "Epoch 24/50\n",
      "1500/1500 - 4s - loss: 0.1373 - accuracy: 0.9479 - val_loss: 0.3682 - val_accuracy: 0.8932\n",
      "Epoch 25/50\n",
      "1500/1500 - 4s - loss: 0.1325 - accuracy: 0.9501 - val_loss: 0.3830 - val_accuracy: 0.8945\n",
      "Epoch 26/50\n",
      "1500/1500 - 4s - loss: 0.1315 - accuracy: 0.9505 - val_loss: 0.3803 - val_accuracy: 0.8955\n",
      "Epoch 27/50\n",
      "1500/1500 - 4s - loss: 0.1277 - accuracy: 0.9523 - val_loss: 0.4017 - val_accuracy: 0.8932\n",
      "Epoch 28/50\n",
      "1500/1500 - 4s - loss: 0.1251 - accuracy: 0.9532 - val_loss: 0.4005 - val_accuracy: 0.8970\n",
      "Epoch 29/50\n",
      "1500/1500 - 4s - loss: 0.1192 - accuracy: 0.9554 - val_loss: 0.4217 - val_accuracy: 0.8913\n",
      "Epoch 30/50\n",
      "1500/1500 - 4s - loss: 0.1143 - accuracy: 0.9564 - val_loss: 0.4128 - val_accuracy: 0.8963\n",
      "Epoch 31/50\n",
      "1500/1500 - 4s - loss: 0.1131 - accuracy: 0.9576 - val_loss: 0.4001 - val_accuracy: 0.8947\n",
      "Epoch 32/50\n",
      "1500/1500 - 4s - loss: 0.1135 - accuracy: 0.9568 - val_loss: 0.4125 - val_accuracy: 0.8920\n",
      "Epoch 33/50\n",
      "1500/1500 - 4s - loss: 0.1077 - accuracy: 0.9603 - val_loss: 0.4148 - val_accuracy: 0.8957\n",
      "Epoch 34/50\n",
      "1500/1500 - 4s - loss: 0.1032 - accuracy: 0.9614 - val_loss: 0.4365 - val_accuracy: 0.8898\n",
      "Epoch 35/50\n",
      "1500/1500 - 4s - loss: 0.1021 - accuracy: 0.9620 - val_loss: 0.4208 - val_accuracy: 0.8932\n",
      "Epoch 36/50\n",
      "1500/1500 - 4s - loss: 0.1033 - accuracy: 0.9618 - val_loss: 0.4477 - val_accuracy: 0.8929\n",
      "Epoch 37/50\n",
      "1500/1500 - 4s - loss: 0.0977 - accuracy: 0.9636 - val_loss: 0.4488 - val_accuracy: 0.8896\n",
      "Epoch 38/50\n",
      "1500/1500 - 4s - loss: 0.0945 - accuracy: 0.9647 - val_loss: 0.4494 - val_accuracy: 0.8929\n",
      "Epoch 39/50\n",
      "1500/1500 - 4s - loss: 0.0935 - accuracy: 0.9643 - val_loss: 0.4449 - val_accuracy: 0.8967\n",
      "Epoch 40/50\n",
      "1500/1500 - 4s - loss: 0.0906 - accuracy: 0.9654 - val_loss: 0.4585 - val_accuracy: 0.8976\n",
      "Epoch 41/50\n",
      "1500/1500 - 4s - loss: 0.0875 - accuracy: 0.9676 - val_loss: 0.4724 - val_accuracy: 0.8945\n",
      "Epoch 42/50\n",
      "1500/1500 - 4s - loss: 0.0862 - accuracy: 0.9676 - val_loss: 0.4593 - val_accuracy: 0.8947\n",
      "Epoch 43/50\n",
      "1500/1500 - 4s - loss: 0.0889 - accuracy: 0.9664 - val_loss: 0.4659 - val_accuracy: 0.8934\n",
      "Epoch 44/50\n",
      "1500/1500 - 4s - loss: 0.0820 - accuracy: 0.9692 - val_loss: 0.5387 - val_accuracy: 0.8863\n",
      "Epoch 45/50\n",
      "1500/1500 - 4s - loss: 0.0827 - accuracy: 0.9691 - val_loss: 0.4962 - val_accuracy: 0.8924\n",
      "Epoch 46/50\n",
      "1500/1500 - 4s - loss: 0.0787 - accuracy: 0.9698 - val_loss: 0.4827 - val_accuracy: 0.8953\n",
      "Epoch 47/50\n",
      "1500/1500 - 4s - loss: 0.0788 - accuracy: 0.9704 - val_loss: 0.5195 - val_accuracy: 0.8952\n",
      "Epoch 48/50\n",
      "1500/1500 - 3s - loss: 0.0739 - accuracy: 0.9717 - val_loss: 0.5040 - val_accuracy: 0.8942\n",
      "Epoch 49/50\n",
      "1500/1500 - 4s - loss: 0.0777 - accuracy: 0.9713 - val_loss: 0.5376 - val_accuracy: 0.8945\n",
      "Epoch 50/50\n",
      "1500/1500 - 3s - loss: 0.0723 - accuracy: 0.9730 - val_loss: 0.5189 - val_accuracy: 0.8955\n"
     ]
    },
    {
     "data": {
      "text/plain": [
       "19"
      ]
     },
     "execution_count": 14,
     "metadata": {},
     "output_type": "execute_result"
    }
   ],
   "source": [
    "#\n",
    "# Construcción del modelo con los hiperparametros óptimos\n",
    "# y entrenamiento para 50 epochs.\n",
    "#\n",
    "# Se busca obtener el número óptimo de epochs para\n",
    "# entrenar el modelo\n",
    "#\n",
    "model = hyperband_tuner.hypermodel.build(best_hyperband_hps)\n",
    "\n",
    "history = model.fit(\n",
    "    train_images,\n",
    "    train_labels,\n",
    "    epochs=50,\n",
    "    validation_split=0.2,\n",
    "    verbose=2,\n",
    ")\n",
    "\n",
    "val_acc_per_epoch = history.history[\"val_accuracy\"]\n",
    "best_epoch = val_acc_per_epoch.index(max(val_acc_per_epoch)) + 1\n",
    "\n",
    "#\n",
    "# Número máximo de epochs usadas para entrenar el modelo\n",
    "#\n",
    "best_epoch"
   ]
  },
  {
   "cell_type": "code",
   "execution_count": 15,
   "metadata": {
    "id": "McO82AXOuxXh"
   },
   "outputs": [
    {
     "name": "stdout",
     "output_type": "stream",
     "text": [
      "Epoch 1/50\n",
      "1500/1500 - 4s - loss: 0.4904 - accuracy: 0.8273 - val_loss: 0.4339 - val_accuracy: 0.8448\n",
      "Epoch 2/50\n",
      "1500/1500 - 3s - loss: 0.3716 - accuracy: 0.8644 - val_loss: 0.4524 - val_accuracy: 0.8330\n",
      "Epoch 3/50\n",
      "1500/1500 - 4s - loss: 0.3330 - accuracy: 0.8777 - val_loss: 0.3273 - val_accuracy: 0.8827\n",
      "Epoch 4/50\n",
      "1500/1500 - 4s - loss: 0.3061 - accuracy: 0.8877 - val_loss: 0.3678 - val_accuracy: 0.8719\n",
      "Epoch 5/50\n",
      "1500/1500 - 4s - loss: 0.2861 - accuracy: 0.8932 - val_loss: 0.3184 - val_accuracy: 0.8880\n",
      "Epoch 6/50\n",
      "1500/1500 - 4s - loss: 0.2718 - accuracy: 0.8997 - val_loss: 0.3281 - val_accuracy: 0.8828\n",
      "Epoch 7/50\n",
      "1500/1500 - 4s - loss: 0.2574 - accuracy: 0.9033 - val_loss: 0.3343 - val_accuracy: 0.8837\n",
      "Epoch 8/50\n",
      "1500/1500 - 4s - loss: 0.2451 - accuracy: 0.9083 - val_loss: 0.3362 - val_accuracy: 0.8819\n",
      "Epoch 9/50\n",
      "1500/1500 - 4s - loss: 0.2359 - accuracy: 0.9127 - val_loss: 0.3171 - val_accuracy: 0.8897\n",
      "Epoch 10/50\n",
      "1500/1500 - 4s - loss: 0.2249 - accuracy: 0.9159 - val_loss: 0.3242 - val_accuracy: 0.8878\n",
      "Epoch 11/50\n",
      "1500/1500 - 4s - loss: 0.2174 - accuracy: 0.9179 - val_loss: 0.3090 - val_accuracy: 0.8934\n",
      "Epoch 12/50\n",
      "1500/1500 - 4s - loss: 0.2074 - accuracy: 0.9227 - val_loss: 0.3203 - val_accuracy: 0.8933\n",
      "Epoch 13/50\n",
      "1500/1500 - 4s - loss: 0.1983 - accuracy: 0.9262 - val_loss: 0.3244 - val_accuracy: 0.8908\n",
      "Epoch 14/50\n",
      "1500/1500 - 4s - loss: 0.1943 - accuracy: 0.9271 - val_loss: 0.3481 - val_accuracy: 0.8848\n",
      "Epoch 15/50\n",
      "1500/1500 - 4s - loss: 0.1871 - accuracy: 0.9301 - val_loss: 0.3307 - val_accuracy: 0.8910\n",
      "Epoch 16/50\n",
      "1500/1500 - 4s - loss: 0.1802 - accuracy: 0.9321 - val_loss: 0.3352 - val_accuracy: 0.8939\n",
      "Epoch 17/50\n",
      "1500/1500 - 4s - loss: 0.1736 - accuracy: 0.9342 - val_loss: 0.3296 - val_accuracy: 0.8927\n",
      "Epoch 18/50\n",
      "1500/1500 - 4s - loss: 0.1663 - accuracy: 0.9375 - val_loss: 0.3365 - val_accuracy: 0.8940\n",
      "Epoch 19/50\n",
      "1500/1500 - 4s - loss: 0.1629 - accuracy: 0.9387 - val_loss: 0.3786 - val_accuracy: 0.8833\n",
      "Epoch 20/50\n",
      "1500/1500 - 4s - loss: 0.1572 - accuracy: 0.9408 - val_loss: 0.3476 - val_accuracy: 0.8923\n",
      "Epoch 21/50\n",
      "1500/1500 - 3s - loss: 0.1550 - accuracy: 0.9420 - val_loss: 0.3357 - val_accuracy: 0.8977\n",
      "Epoch 22/50\n",
      "1500/1500 - 3s - loss: 0.1483 - accuracy: 0.9436 - val_loss: 0.3664 - val_accuracy: 0.8932\n",
      "Epoch 23/50\n",
      "1500/1500 - 3s - loss: 0.1435 - accuracy: 0.9461 - val_loss: 0.3767 - val_accuracy: 0.8913\n",
      "Epoch 24/50\n",
      "1500/1500 - 3s - loss: 0.1375 - accuracy: 0.9482 - val_loss: 0.3557 - val_accuracy: 0.8957\n",
      "Epoch 25/50\n",
      "1500/1500 - 3s - loss: 0.1363 - accuracy: 0.9492 - val_loss: 0.3574 - val_accuracy: 0.8975\n",
      "Epoch 26/50\n",
      "1500/1500 - 3s - loss: 0.1295 - accuracy: 0.9506 - val_loss: 0.3763 - val_accuracy: 0.8965\n",
      "Epoch 27/50\n",
      "1500/1500 - 3s - loss: 0.1275 - accuracy: 0.9509 - val_loss: 0.3826 - val_accuracy: 0.8952\n",
      "Epoch 28/50\n",
      "1500/1500 - 3s - loss: 0.1263 - accuracy: 0.9524 - val_loss: 0.3967 - val_accuracy: 0.8935\n",
      "Epoch 29/50\n",
      "1500/1500 - 3s - loss: 0.1199 - accuracy: 0.9548 - val_loss: 0.3877 - val_accuracy: 0.8941\n",
      "Epoch 30/50\n",
      "1500/1500 - 4s - loss: 0.1162 - accuracy: 0.9558 - val_loss: 0.4099 - val_accuracy: 0.8933\n",
      "Epoch 31/50\n",
      "1500/1500 - 4s - loss: 0.1160 - accuracy: 0.9562 - val_loss: 0.3794 - val_accuracy: 0.8984\n",
      "Epoch 32/50\n",
      "1500/1500 - 4s - loss: 0.1100 - accuracy: 0.9588 - val_loss: 0.4071 - val_accuracy: 0.8917\n",
      "Epoch 33/50\n",
      "1500/1500 - 4s - loss: 0.1095 - accuracy: 0.9589 - val_loss: 0.4222 - val_accuracy: 0.8941\n",
      "Epoch 34/50\n",
      "1500/1500 - 4s - loss: 0.1054 - accuracy: 0.9596 - val_loss: 0.4449 - val_accuracy: 0.8902\n",
      "Epoch 35/50\n",
      "1500/1500 - 4s - loss: 0.1039 - accuracy: 0.9614 - val_loss: 0.4469 - val_accuracy: 0.8942\n",
      "Epoch 36/50\n",
      "1500/1500 - 4s - loss: 0.1025 - accuracy: 0.9627 - val_loss: 0.4355 - val_accuracy: 0.8935\n",
      "Epoch 37/50\n",
      "1500/1500 - 4s - loss: 0.1003 - accuracy: 0.9627 - val_loss: 0.4519 - val_accuracy: 0.8937\n",
      "Epoch 38/50\n",
      "1500/1500 - 4s - loss: 0.0996 - accuracy: 0.9626 - val_loss: 0.4706 - val_accuracy: 0.8890\n",
      "Epoch 39/50\n",
      "1500/1500 - 4s - loss: 0.0921 - accuracy: 0.9651 - val_loss: 0.4455 - val_accuracy: 0.8938\n",
      "Epoch 40/50\n",
      "1500/1500 - 4s - loss: 0.0910 - accuracy: 0.9661 - val_loss: 0.4756 - val_accuracy: 0.8938\n",
      "Epoch 41/50\n",
      "1500/1500 - 3s - loss: 0.0940 - accuracy: 0.9640 - val_loss: 0.4675 - val_accuracy: 0.8957\n",
      "Epoch 42/50\n",
      "1500/1500 - 3s - loss: 0.0872 - accuracy: 0.9675 - val_loss: 0.4633 - val_accuracy: 0.8966\n",
      "Epoch 43/50\n",
      "1500/1500 - 3s - loss: 0.0879 - accuracy: 0.9669 - val_loss: 0.4805 - val_accuracy: 0.8948\n",
      "Epoch 44/50\n",
      "1500/1500 - 3s - loss: 0.0853 - accuracy: 0.9675 - val_loss: 0.4716 - val_accuracy: 0.8963\n",
      "Epoch 45/50\n",
      "1500/1500 - 3s - loss: 0.0837 - accuracy: 0.9689 - val_loss: 0.4892 - val_accuracy: 0.8967\n",
      "Epoch 46/50\n",
      "1500/1500 - 3s - loss: 0.0818 - accuracy: 0.9685 - val_loss: 0.4942 - val_accuracy: 0.8932\n",
      "Epoch 47/50\n",
      "1500/1500 - 3s - loss: 0.0758 - accuracy: 0.9714 - val_loss: 0.4931 - val_accuracy: 0.8954\n",
      "Epoch 48/50\n",
      "1500/1500 - 3s - loss: 0.0798 - accuracy: 0.9704 - val_loss: 0.5088 - val_accuracy: 0.8978\n",
      "Epoch 49/50\n",
      "1500/1500 - 3s - loss: 0.0775 - accuracy: 0.9708 - val_loss: 0.4935 - val_accuracy: 0.8964\n",
      "Epoch 50/50\n",
      "1500/1500 - 3s - loss: 0.0758 - accuracy: 0.9720 - val_loss: 0.5174 - val_accuracy: 0.8968\n"
     ]
    }
   ],
   "source": [
    "#\n",
    "# Reentrena el modelo usando el número óptimo de epochs\n",
    "#\n",
    "model = hyperband_tuner.hypermodel.build(best_hyperband_hps)\n",
    "\n",
    "history = model.fit(\n",
    "    train_images,\n",
    "    train_labels,\n",
    "    epochs=50,\n",
    "    validation_split=0.2,\n",
    "    verbose=2,\n",
    ")"
   ]
  }
 ],
 "metadata": {
  "accelerator": "GPU",
  "colab": {
   "collapsed_sections": [
    "Tce3stUlHN0L"
   ],
   "name": "keras_tuner.ipynb",
   "toc_visible": true
  },
  "kernelspec": {
   "display_name": "Python 3",
   "language": "python",
   "name": "python3"
  },
  "language_info": {
   "codemirror_mode": {
    "name": "ipython",
    "version": 3
   },
   "file_extension": ".py",
   "mimetype": "text/x-python",
   "name": "python",
   "nbconvert_exporter": "python",
   "pygments_lexer": "ipython3",
   "version": "3.6.9"
  }
 },
 "nbformat": 4,
 "nbformat_minor": 4
}
