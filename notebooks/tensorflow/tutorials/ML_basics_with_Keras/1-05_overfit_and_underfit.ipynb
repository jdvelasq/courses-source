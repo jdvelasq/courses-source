{
 "cells": [
  {
   "cell_type": "markdown",
   "metadata": {},
   "source": [
    "Subajuste y sobreajuste de modelos\n",
    "==="
   ]
  },
  {
   "cell_type": "markdown",
   "metadata": {},
   "source": [
    "* 30:00 min | Última modificación: Mayo 5, 2021 | [YouTube]"
   ]
  },
  {
   "cell_type": "markdown",
   "metadata": {},
   "source": [
    "Adaptado de:\n",
    "\n",
    "* https://www.tensorflow.org/tutorials/keras/regression"
   ]
  },
  {
   "cell_type": "markdown",
   "metadata": {
    "id": "WL8UoOTmGGsL"
   },
   "source": [
    "## Configuración"
   ]
  },
  {
   "cell_type": "code",
   "execution_count": null,
   "metadata": {
    "id": "jj6I4dvTtbUe"
   },
   "outputs": [],
   "source": [
    "import tensorflow as tf\n",
    "from tensorflow.keras import layers, regularizers\n",
    "\n",
    "print(tf.__version__)\n",
    "\n",
    "!pip install git+https://github.com/tensorflow/docs\n",
    "\n",
    "import pathlib\n",
    "import shutil\n",
    "import tempfile\n",
    "\n",
    "import numpy as np\n",
    "import tensorflow_docs as tfdocs\n",
    "import tensorflow_docs.modeling\n",
    "import tensorflow_docs.plots\n",
    "from IPython import display\n",
    "from matplotlib import pyplot as plt\n",
    "\n",
    "logdir = pathlib.Path(tempfile.mkdtemp()) / \"tensorboard_logs\"\n",
    "shutil.rmtree(logdir, ignore_errors=True)"
   ]
  },
  {
   "cell_type": "markdown",
   "metadata": {
    "id": "1cweoTiruj8O"
   },
   "source": [
    "## Higgs Dataset"
   ]
  },
  {
   "cell_type": "code",
   "execution_count": null,
   "metadata": {
    "id": "YPjAvwb-6dFd"
   },
   "outputs": [],
   "source": [
    "gz = tf.keras.utils.get_file(\n",
    "    \"HIGGS.csv.gz\",\n",
    "    \"http://mlphysics.ics.uci.edu/data/higgs/HIGGS.csv.gz\",\n",
    ")"
   ]
  },
  {
   "cell_type": "code",
   "execution_count": null,
   "metadata": {
    "id": "AkiyUdaWIrww"
   },
   "outputs": [],
   "source": [
    "FEATURES = 28"
   ]
  },
  {
   "cell_type": "code",
   "execution_count": null,
   "metadata": {
    "id": "QHz4sLVQEVIU"
   },
   "outputs": [],
   "source": [
    "ds = tf.data.experimental.CsvDataset(\n",
    "    gz,\n",
    "    [\n",
    "        float(),\n",
    "    ]\n",
    "    * (FEATURES + 1),\n",
    "    compression_type=\"GZIP\",\n",
    ")"
   ]
  },
  {
   "cell_type": "code",
   "execution_count": null,
   "metadata": {
    "id": "zPD6ICDlF6Wf"
   },
   "outputs": [],
   "source": [
    "def pack_row(*row):\n",
    "    label = row[0]\n",
    "    features = tf.stack(row[1:], 1)\n",
    "    return features, label"
   ]
  },
  {
   "cell_type": "code",
   "execution_count": null,
   "metadata": {
    "id": "-w-VHTwwGVoZ"
   },
   "outputs": [],
   "source": [
    "packed_ds = ds.batch(10000).map(pack_row).unbatch()"
   ]
  },
  {
   "cell_type": "code",
   "execution_count": null,
   "metadata": {
    "id": "TfcXuv33Fvka"
   },
   "outputs": [],
   "source": [
    "for features, label in packed_ds.batch(1000).take(1):\n",
    "    print(features[0])\n",
    "    plt.hist(features.numpy().flatten(), bins=101)"
   ]
  },
  {
   "cell_type": "code",
   "execution_count": null,
   "metadata": {
    "id": "hmk49OqZIFZP"
   },
   "outputs": [],
   "source": [
    "N_VALIDATION = int(1e3)\n",
    "N_TRAIN = int(1e4)\n",
    "BUFFER_SIZE = int(1e4)\n",
    "BATCH_SIZE = 500\n",
    "STEPS_PER_EPOCH = N_TRAIN // BATCH_SIZE"
   ]
  },
  {
   "cell_type": "code",
   "execution_count": null,
   "metadata": {
    "id": "H8H_ZzpBOOk-"
   },
   "outputs": [],
   "source": [
    "validate_ds = packed_ds.take(N_VALIDATION).cache()\n",
    "train_ds = packed_ds.skip(N_VALIDATION).take(N_TRAIN).cache()"
   ]
  },
  {
   "cell_type": "code",
   "execution_count": null,
   "metadata": {
    "id": "9zAOqk2_Px7K"
   },
   "outputs": [],
   "source": [
    "train_ds"
   ]
  },
  {
   "cell_type": "code",
   "execution_count": null,
   "metadata": {
    "id": "Y7I4J355O223"
   },
   "outputs": [],
   "source": [
    "validate_ds = validate_ds.batch(BATCH_SIZE)\n",
    "train_ds = train_ds.shuffle(BUFFER_SIZE).repeat().batch(BATCH_SIZE)"
   ]
  },
  {
   "cell_type": "code",
   "execution_count": null,
   "metadata": {
    "id": "LwQp-ERhAD6F"
   },
   "outputs": [],
   "source": [
    "lr_schedule = tf.keras.optimizers.schedules.InverseTimeDecay(\n",
    "    0.001, decay_steps=STEPS_PER_EPOCH * 1000, decay_rate=1, staircase=False\n",
    ")\n",
    "\n",
    "\n",
    "def get_optimizer():\n",
    "    return tf.keras.optimizers.Adam(lr_schedule)"
   ]
  },
  {
   "cell_type": "code",
   "execution_count": null,
   "metadata": {
    "id": "HIo_yPjEAFgn"
   },
   "outputs": [],
   "source": [
    "step = np.linspace(0, 100000)\n",
    "lr = lr_schedule(step)\n",
    "plt.figure(figsize=(8, 6))\n",
    "plt.plot(step / STEPS_PER_EPOCH, lr)\n",
    "plt.ylim([0, max(plt.ylim())])\n",
    "plt.xlabel(\"Epoch\")\n",
    "_ = plt.ylabel(\"Learning Rate\")"
   ]
  },
  {
   "cell_type": "code",
   "execution_count": null,
   "metadata": {
    "id": "vSv8rfw_T85n"
   },
   "outputs": [],
   "source": [
    "def get_callbacks(name):\n",
    "    return [\n",
    "        tfdocs.modeling.EpochDots(),\n",
    "        tf.keras.callbacks.EarlyStopping(\n",
    "            monitor=\"val_binary_crossentropy\", patience=200\n",
    "        ),\n",
    "        tf.keras.callbacks.TensorBoard(logdir / name),\n",
    "    ]"
   ]
  },
  {
   "cell_type": "code",
   "execution_count": null,
   "metadata": {
    "id": "xRCGwU3YH5sT"
   },
   "outputs": [],
   "source": [
    "def compile_and_fit(model, name, optimizer=None, max_epochs=10000):\n",
    "    if optimizer is None:\n",
    "        optimizer = get_optimizer()\n",
    "    model.compile(\n",
    "        optimizer=optimizer,\n",
    "        loss=tf.keras.losses.BinaryCrossentropy(from_logits=True),\n",
    "        metrics=[\n",
    "            tf.keras.losses.BinaryCrossentropy(\n",
    "                from_logits=True, name=\"binary_crossentropy\"\n",
    "            ),\n",
    "            \"accuracy\",\n",
    "        ],\n",
    "    )\n",
    "\n",
    "    model.summary()\n",
    "\n",
    "    history = model.fit(\n",
    "        train_ds,\n",
    "        steps_per_epoch=STEPS_PER_EPOCH,\n",
    "        epochs=max_epochs,\n",
    "        validation_data=validate_ds,\n",
    "        callbacks=get_callbacks(name),\n",
    "        verbose=0,\n",
    "    )\n",
    "    return history"
   ]
  },
  {
   "cell_type": "code",
   "execution_count": null,
   "metadata": {
    "id": "EZh-QFjKHb70"
   },
   "outputs": [],
   "source": [
    "tiny_model = tf.keras.Sequential(\n",
    "    [layers.Dense(16, activation=\"elu\", input_shape=(FEATURES,)), layers.Dense(1)]\n",
    ")"
   ]
  },
  {
   "cell_type": "code",
   "execution_count": null,
   "metadata": {
    "id": "X72IUdWYipIS"
   },
   "outputs": [],
   "source": [
    "size_histories = {}"
   ]
  },
  {
   "cell_type": "code",
   "execution_count": null,
   "metadata": {
    "id": "bdOcJtPGHhJ5"
   },
   "outputs": [],
   "source": [
    "size_histories[\"Tiny\"] = compile_and_fit(tiny_model, \"sizes/Tiny\")"
   ]
  },
  {
   "cell_type": "code",
   "execution_count": null,
   "metadata": {
    "id": "dkEvb2x5XsjE"
   },
   "outputs": [],
   "source": [
    "plotter = tfdocs.plots.HistoryPlotter(metric=\"binary_crossentropy\", smoothing_std=10)\n",
    "plotter.plot(size_histories)\n",
    "plt.ylim([0.5, 0.7])"
   ]
  },
  {
   "cell_type": "code",
   "execution_count": null,
   "metadata": {
    "id": "QKgdXPx9usBa"
   },
   "outputs": [],
   "source": [
    "small_model = tf.keras.Sequential(\n",
    "    [\n",
    "        # `input_shape` is only required here so that `.summary` works.\n",
    "        layers.Dense(16, activation=\"elu\", input_shape=(FEATURES,)),\n",
    "        layers.Dense(16, activation=\"elu\"),\n",
    "        layers.Dense(1),\n",
    "    ]\n",
    ")"
   ]
  },
  {
   "cell_type": "code",
   "execution_count": null,
   "metadata": {
    "id": "LqG3MXF5xSjR"
   },
   "outputs": [],
   "source": [
    "size_histories[\"Small\"] = compile_and_fit(small_model, \"sizes/Small\")"
   ]
  },
  {
   "cell_type": "code",
   "execution_count": null,
   "metadata": {
    "id": "jksi-XtaxDAh"
   },
   "outputs": [],
   "source": [
    "medium_model = tf.keras.Sequential(\n",
    "    [\n",
    "        layers.Dense(64, activation=\"elu\", input_shape=(FEATURES,)),\n",
    "        layers.Dense(64, activation=\"elu\"),\n",
    "        layers.Dense(64, activation=\"elu\"),\n",
    "        layers.Dense(1),\n",
    "    ]\n",
    ")"
   ]
  },
  {
   "cell_type": "code",
   "execution_count": null,
   "metadata": {
    "id": "Ofn1AwDhx-Fe"
   },
   "outputs": [],
   "source": [
    "size_histories[\"Medium\"] = compile_and_fit(medium_model, \"sizes/Medium\")"
   ]
  },
  {
   "cell_type": "code",
   "execution_count": null,
   "metadata": {
    "id": "ghQwwqwqvQM9"
   },
   "outputs": [],
   "source": [
    "large_model = tf.keras.Sequential(\n",
    "    [\n",
    "        layers.Dense(512, activation=\"elu\", input_shape=(FEATURES,)),\n",
    "        layers.Dense(512, activation=\"elu\"),\n",
    "        layers.Dense(512, activation=\"elu\"),\n",
    "        layers.Dense(512, activation=\"elu\"),\n",
    "        layers.Dense(1),\n",
    "    ]\n",
    ")"
   ]
  },
  {
   "cell_type": "code",
   "execution_count": null,
   "metadata": {
    "id": "U1A99dhqvepf"
   },
   "outputs": [],
   "source": [
    "size_histories[\"large\"] = compile_and_fit(large_model, \"sizes/large\")"
   ]
  },
  {
   "cell_type": "code",
   "execution_count": null,
   "metadata": {
    "id": "0XmKDtOWzOpk"
   },
   "outputs": [],
   "source": [
    "plotter.plot(size_histories)\n",
    "a = plt.xscale(\"log\")\n",
    "plt.xlim([5, max(plt.xlim())])\n",
    "plt.ylim([0.5, 0.7])\n",
    "plt.xlabel(\"Epochs [Log Scale]\")"
   ]
  },
  {
   "cell_type": "code",
   "execution_count": null,
   "metadata": {
    "id": "6oa1lkJddZ-m"
   },
   "outputs": [],
   "source": [
    "# docs_infra: no_execute\n",
    "\n",
    "# Load the TensorBoard notebook extension\n",
    "%load_ext tensorboard\n",
    "\n",
    "# Open an embedded TensorBoard viewer\n",
    "%tensorboard --logdir {logdir}/sizes"
   ]
  },
  {
   "cell_type": "code",
   "execution_count": null,
   "metadata": {
    "id": "dX5fcgrADwym"
   },
   "outputs": [],
   "source": [
    "display.IFrame(\n",
    "    src=\"https://tensorboard.dev/experiment/vW7jmmF9TmKmy3rbheMQpw/#scalars&_smoothingWeight=0.97\",\n",
    "    width=\"100%\",\n",
    "    height=\"800px\",\n",
    ")"
   ]
  },
  {
   "cell_type": "code",
   "execution_count": null,
   "metadata": {
    "id": "40k1eBtnQzNo"
   },
   "outputs": [],
   "source": [
    "shutil.rmtree(logdir / \"regularizers/Tiny\", ignore_errors=True)\n",
    "shutil.copytree(logdir / \"sizes/Tiny\", logdir / \"regularizers/Tiny\")"
   ]
  },
  {
   "cell_type": "code",
   "execution_count": null,
   "metadata": {
    "id": "vFWMeFo7jLpN"
   },
   "outputs": [],
   "source": [
    "regularizer_histories = {}\n",
    "regularizer_histories[\"Tiny\"] = size_histories[\"Tiny\"]"
   ]
  },
  {
   "cell_type": "code",
   "execution_count": null,
   "metadata": {
    "id": "HFGmcwduwVyQ"
   },
   "outputs": [],
   "source": [
    "l2_model = tf.keras.Sequential(\n",
    "    [\n",
    "        layers.Dense(\n",
    "            512,\n",
    "            activation=\"elu\",\n",
    "            kernel_regularizer=regularizers.l2(0.001),\n",
    "            input_shape=(FEATURES,),\n",
    "        ),\n",
    "        layers.Dense(512, activation=\"elu\", kernel_regularizer=regularizers.l2(0.001)),\n",
    "        layers.Dense(512, activation=\"elu\", kernel_regularizer=regularizers.l2(0.001)),\n",
    "        layers.Dense(512, activation=\"elu\", kernel_regularizer=regularizers.l2(0.001)),\n",
    "        layers.Dense(1),\n",
    "    ]\n",
    ")\n",
    "\n",
    "regularizer_histories[\"l2\"] = compile_and_fit(l2_model, \"regularizers/l2\")"
   ]
  },
  {
   "cell_type": "code",
   "execution_count": null,
   "metadata": {
    "id": "7wkfLyxBZdh_"
   },
   "outputs": [],
   "source": [
    "plotter.plot(regularizer_histories)\n",
    "plt.ylim([0.5, 0.7])"
   ]
  },
  {
   "cell_type": "code",
   "execution_count": null,
   "metadata": {
    "id": "apDHQNybjaML"
   },
   "outputs": [],
   "source": [
    "result = l2_model(features)\n",
    "regularization_loss = tf.add_n(l2_model.losses)"
   ]
  },
  {
   "cell_type": "code",
   "execution_count": null,
   "metadata": {
    "id": "OFEYvtrHxSWS"
   },
   "outputs": [],
   "source": [
    "dropout_model = tf.keras.Sequential(\n",
    "    [\n",
    "        layers.Dense(512, activation=\"elu\", input_shape=(FEATURES,)),\n",
    "        layers.Dropout(0.5),\n",
    "        layers.Dense(512, activation=\"elu\"),\n",
    "        layers.Dropout(0.5),\n",
    "        layers.Dense(512, activation=\"elu\"),\n",
    "        layers.Dropout(0.5),\n",
    "        layers.Dense(512, activation=\"elu\"),\n",
    "        layers.Dropout(0.5),\n",
    "        layers.Dense(1),\n",
    "    ]\n",
    ")\n",
    "\n",
    "regularizer_histories[\"dropout\"] = compile_and_fit(\n",
    "    dropout_model, \"regularizers/dropout\"\n",
    ")"
   ]
  },
  {
   "cell_type": "code",
   "execution_count": null,
   "metadata": {
    "id": "SPZqwVchx5xp"
   },
   "outputs": [],
   "source": [
    "plotter.plot(regularizer_histories)\n",
    "plt.ylim([0.5, 0.7])"
   ]
  },
  {
   "cell_type": "code",
   "execution_count": null,
   "metadata": {
    "id": "7zfs_qQIw1cz"
   },
   "outputs": [],
   "source": [
    "combined_model = tf.keras.Sequential(\n",
    "    [\n",
    "        layers.Dense(\n",
    "            512,\n",
    "            kernel_regularizer=regularizers.l2(0.0001),\n",
    "            activation=\"elu\",\n",
    "            input_shape=(FEATURES,),\n",
    "        ),\n",
    "        layers.Dropout(0.5),\n",
    "        layers.Dense(512, kernel_regularizer=regularizers.l2(0.0001), activation=\"elu\"),\n",
    "        layers.Dropout(0.5),\n",
    "        layers.Dense(512, kernel_regularizer=regularizers.l2(0.0001), activation=\"elu\"),\n",
    "        layers.Dropout(0.5),\n",
    "        layers.Dense(512, kernel_regularizer=regularizers.l2(0.0001), activation=\"elu\"),\n",
    "        layers.Dropout(0.5),\n",
    "        layers.Dense(1),\n",
    "    ]\n",
    ")\n",
    "\n",
    "regularizer_histories[\"combined\"] = compile_and_fit(\n",
    "    combined_model, \"regularizers/combined\"\n",
    ")"
   ]
  },
  {
   "cell_type": "code",
   "execution_count": null,
   "metadata": {
    "id": "qDqBBxfI0Yd8"
   },
   "outputs": [],
   "source": [
    "plotter.plot(regularizer_histories)\n",
    "plt.ylim([0.5, 0.7])"
   ]
  },
  {
   "cell_type": "code",
   "execution_count": null,
   "metadata": {
    "id": "doMtyYoqFEO5"
   },
   "outputs": [],
   "source": [
    "display.IFrame(\n",
    "    src=\"https://tensorboard.dev/experiment/fGInKDo8TXes1z7HQku9mw/#scalars&_smoothingWeight=0.97\",\n",
    "    width=\"100%\",\n",
    "    height=\"800px\",\n",
    ")"
   ]
  }
 ],
 "metadata": {
  "accelerator": "GPU",
  "colab": {
   "collapsed_sections": [],
   "name": "overfit_and_underfit.ipynb",
   "toc_visible": true
  },
  "kernelspec": {
   "display_name": "Python 3",
   "language": "python",
   "name": "python3"
  },
  "language_info": {
   "codemirror_mode": {
    "name": "ipython",
    "version": 3
   },
   "file_extension": ".py",
   "mimetype": "text/x-python",
   "name": "python",
   "nbconvert_exporter": "python",
   "pygments_lexer": "ipython3",
   "version": "3.6.9"
  }
 },
 "nbformat": 4,
 "nbformat_minor": 4
}
