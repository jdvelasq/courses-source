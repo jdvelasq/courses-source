{
 "cells": [
  {
   "cell_type": "markdown",
   "id": "2c57c77b-0bf2-4fdb-aab3-31043350ba91",
   "metadata": {},
   "source": [
    "# Introducción básica para principiantes"
   ]
  },
  {
   "cell_type": "code",
   "execution_count": 1,
   "id": "dedbd1c5-0fb2-4c34-b359-c845095e08f8",
   "metadata": {},
   "outputs": [],
   "source": [
    "import tensorflow as tf"
   ]
  },
  {
   "cell_type": "code",
   "execution_count": 2,
   "id": "3bdd9509-d064-40b1-998b-552d62269993",
   "metadata": {},
   "outputs": [
    {
     "name": "stdout",
     "output_type": "stream",
     "text": [
      "Downloading data from https://storage.googleapis.com/tensorflow/tf-keras-datasets/mnist.npz\n",
      "11493376/11490434 [==============================] - 1s 0us/step\n"
     ]
    }
   ],
   "source": [
    "mnist = tf.keras.datasets.mnist\n",
    "\n",
    "(x_train, y_train), (x_test, y_test) = mnist.load_data()\n",
    "x_train, x_test = x_train / 255.0, x_test / 255.0"
   ]
  },
  {
   "cell_type": "code",
   "execution_count": 3,
   "id": "cf0e0727-1acd-4800-a4a2-618bf06a5a05",
   "metadata": {},
   "outputs": [],
   "source": [
    "model = tf.keras.models.Sequential(\n",
    "    [\n",
    "        tf.keras.layers.Flatten(input_shape=(28, 28)),\n",
    "        tf.keras.layers.Dense(128, activation=\"relu\"),\n",
    "        tf.keras.layers.Dropout(0.2),\n",
    "        tf.keras.layers.Dense(10),\n",
    "    ]\n",
    ")"
   ]
  },
  {
   "cell_type": "code",
   "execution_count": 4,
   "id": "6e02893e-f7a5-49d1-9bf5-87bd519b110c",
   "metadata": {},
   "outputs": [
    {
     "data": {
      "text/plain": [
       "array([[-0.04711078, -0.31855887,  0.6764848 ,  0.5596447 ,  0.11928979,\n",
       "         0.01220848,  0.8269101 ,  0.3409326 ,  0.05164193,  0.05929246]],\n",
       "      dtype=float32)"
      ]
     },
     "execution_count": 4,
     "metadata": {},
     "output_type": "execute_result"
    }
   ],
   "source": [
    "predictions = model(x_train[:1]).numpy()\n",
    "predictions"
   ]
  },
  {
   "cell_type": "code",
   "execution_count": 5,
   "id": "afdaae01-fd0c-408c-bd25-71db270b6bbb",
   "metadata": {},
   "outputs": [
    {
     "data": {
      "text/plain": [
       "array([[0.07149279, 0.05449716, 0.14740624, 0.13115138, 0.08443629,\n",
       "        0.07586201, 0.17133446, 0.10538708, 0.07891327, 0.07951931]],\n",
       "      dtype=float32)"
      ]
     },
     "execution_count": 5,
     "metadata": {},
     "output_type": "execute_result"
    }
   ],
   "source": [
    "tf.nn.softmax(predictions).numpy()"
   ]
  },
  {
   "cell_type": "code",
   "execution_count": 6,
   "id": "dc1fea87-e9a8-452a-ae35-764925c8f18d",
   "metadata": {},
   "outputs": [],
   "source": [
    "loss_fn = tf.keras.losses.SparseCategoricalCrossentropy(from_logits=True)"
   ]
  },
  {
   "cell_type": "code",
   "execution_count": 7,
   "id": "9f611bf9-02b5-4595-9ec5-e42211f91dfe",
   "metadata": {},
   "outputs": [
    {
     "data": {
      "text/plain": [
       "2.5788393"
      ]
     },
     "execution_count": 7,
     "metadata": {},
     "output_type": "execute_result"
    }
   ],
   "source": [
    "loss_fn(y_train[:1], predictions).numpy()"
   ]
  },
  {
   "cell_type": "code",
   "execution_count": 8,
   "id": "a3b8294f-20c6-4c9d-b4af-bd9559f9bed8",
   "metadata": {},
   "outputs": [],
   "source": [
    "model.compile(optimizer=\"adam\", loss=loss_fn, metrics=[\"accuracy\"])"
   ]
  },
  {
   "cell_type": "code",
   "execution_count": 9,
   "id": "a5083697-2cbf-4b26-bebe-f898daf5e31b",
   "metadata": {},
   "outputs": [
    {
     "name": "stdout",
     "output_type": "stream",
     "text": [
      "Epoch 1/5\n",
      "1875/1875 [==============================] - 4s 2ms/step - loss: 0.4811 - accuracy: 0.8597\n",
      "Epoch 2/5\n",
      "1875/1875 [==============================] - 3s 2ms/step - loss: 0.1496 - accuracy: 0.9546\n",
      "Epoch 3/5\n",
      "1875/1875 [==============================] - 3s 2ms/step - loss: 0.1080 - accuracy: 0.9685\n",
      "Epoch 4/5\n",
      "1875/1875 [==============================] - 3s 2ms/step - loss: 0.0821 - accuracy: 0.9742\n",
      "Epoch 5/5\n",
      "1875/1875 [==============================] - 3s 2ms/step - loss: 0.0725 - accuracy: 0.9768\n"
     ]
    },
    {
     "data": {
      "text/plain": [
       "<tensorflow.python.keras.callbacks.History at 0x7faa28996898>"
      ]
     },
     "execution_count": 9,
     "metadata": {},
     "output_type": "execute_result"
    }
   ],
   "source": [
    "model.fit(x_train, y_train, epochs=5)"
   ]
  },
  {
   "cell_type": "code",
   "execution_count": 10,
   "id": "da69656a-a4e7-4c05-9b15-9d56affa8102",
   "metadata": {},
   "outputs": [
    {
     "name": "stdout",
     "output_type": "stream",
     "text": [
      "313/313 - 0s - loss: 0.0736 - accuracy: 0.9768\n"
     ]
    },
    {
     "data": {
      "text/plain": [
       "[0.07358972728252411, 0.9768000245094299]"
      ]
     },
     "execution_count": 10,
     "metadata": {},
     "output_type": "execute_result"
    }
   ],
   "source": [
    "model.evaluate(x_test, y_test, verbose=2)"
   ]
  },
  {
   "cell_type": "code",
   "execution_count": 11,
   "id": "95bcfa83-c480-4073-9b27-143be38f9c1e",
   "metadata": {},
   "outputs": [],
   "source": [
    "probability_model = tf.keras.Sequential([model, tf.keras.layers.Softmax()])"
   ]
  },
  {
   "cell_type": "code",
   "execution_count": 12,
   "id": "21ba6382-823e-4863-bac6-e6fb09c5a7fe",
   "metadata": {},
   "outputs": [
    {
     "data": {
      "text/plain": [
       "<tf.Tensor: shape=(5, 10), dtype=float32, numpy=\n",
       "array([[7.01144032e-09, 1.05875140e-08, 2.01496960e-06, 2.11091101e-04,\n",
       "        1.21248584e-11, 1.14470744e-07, 3.17006350e-14, 9.99786198e-01,\n",
       "        2.91890476e-08, 5.20255583e-07],\n",
       "       [4.52461579e-09, 1.87257756e-04, 9.99800265e-01, 1.18194548e-05,\n",
       "        2.74464731e-17, 7.04371587e-07, 2.63967461e-08, 3.07545906e-14,\n",
       "        2.53447201e-08, 3.11130639e-15],\n",
       "       [5.43329293e-07, 9.98939335e-01, 1.31868277e-04, 1.28227866e-05,\n",
       "        2.73440364e-05, 5.59935006e-06, 5.18590105e-06, 8.18699773e-04,\n",
       "        5.85279704e-05, 1.05038993e-07],\n",
       "       [9.99881029e-01, 2.61543875e-09, 6.51876471e-05, 4.62397111e-06,\n",
       "        1.28147292e-07, 1.72743894e-05, 5.34567425e-06, 1.86129262e-06,\n",
       "        2.23244257e-07, 2.43765735e-05],\n",
       "       [1.82653650e-06, 1.13975126e-07, 4.19508297e-06, 2.60799624e-07,\n",
       "        9.96836901e-01, 5.44951071e-08, 2.94827828e-06, 1.29267564e-05,\n",
       "        6.67753284e-07, 3.14022996e-03]], dtype=float32)>"
      ]
     },
     "execution_count": 12,
     "metadata": {},
     "output_type": "execute_result"
    }
   ],
   "source": [
    "probability_model(x_test[:5])"
   ]
  },
  {
   "cell_type": "code",
   "execution_count": null,
   "id": "8b4e8b05-25c4-4748-8d2b-75c944a41859",
   "metadata": {},
   "outputs": [],
   "source": []
  }
 ],
 "metadata": {
  "kernelspec": {
   "display_name": "Python 3",
   "language": "python",
   "name": "python3"
  },
  "language_info": {
   "codemirror_mode": {
    "name": "ipython",
    "version": 3
   },
   "file_extension": ".py",
   "mimetype": "text/x-python",
   "name": "python",
   "nbconvert_exporter": "python",
   "pygments_lexer": "ipython3",
   "version": "3.6.9"
  }
 },
 "nbformat": 4,
 "nbformat_minor": 5
}
