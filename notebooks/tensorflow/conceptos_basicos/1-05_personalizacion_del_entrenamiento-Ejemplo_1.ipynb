{
 "cells": [
  {
   "cell_type": "markdown",
   "metadata": {
    "id": "JtEZ1pCPn--z"
   },
   "source": [
    "# Personalización del entrenamiento --- Ejemplo 1"
   ]
  },
  {
   "cell_type": "markdown",
   "metadata": {},
   "source": [
    "* 30:00 min | Última modificación: Mayo 12, 2021 | [YouTube]"
   ]
  },
  {
   "cell_type": "markdown",
   "metadata": {},
   "source": [
    "Adaptado de:\n",
    "\n",
    "* https://www.tensorflow.org/tutorials/keras/keras_tuner"
   ]
  },
  {
   "cell_type": "code",
   "execution_count": 1,
   "metadata": {
    "id": "jElLULrDhQZR"
   },
   "outputs": [
    {
     "data": {
      "text/plain": [
       "'2.4.1'"
      ]
     },
     "execution_count": 1,
     "metadata": {},
     "output_type": "execute_result"
    }
   ],
   "source": [
    "import matplotlib.pyplot as plt\n",
    "import tensorflow as tf\n",
    "\n",
    "tf.__version__"
   ]
  },
  {
   "cell_type": "markdown",
   "metadata": {},
   "source": [
    "## Generación de datos artificiales"
   ]
  },
  {
   "cell_type": "code",
   "execution_count": 2,
   "metadata": {
    "id": "NzivK2ATByOz",
    "tags": []
   },
   "outputs": [
    {
     "data": {
      "image/png": "[encoded data removed]",
      "text/plain": [
       "<Figure size 432x288 with 1 Axes>"
      ]
     },
     "metadata": {
      "needs_background": "light"
     },
     "output_type": "display_data"
    }
   ],
   "source": [
    "# \n",
    "# Coeficientes reales\n",
    "#\n",
    "TRUE_W = 3.0\n",
    "TRUE_B = 2.0\n",
    "\n",
    "NUM_EXAMPLES = 1000\n",
    "\n",
    "#\n",
    "# Generación de los X alearios\n",
    "#\n",
    "x = tf.random.normal(shape=[NUM_EXAMPLES])\n",
    "\n",
    "#\n",
    "# Ruido \n",
    "#\n",
    "noise = tf.random.normal(shape=[NUM_EXAMPLES])\n",
    "\n",
    "#\n",
    "# Cálculo de Y\n",
    "#\n",
    "y = x * TRUE_W + TRUE_B + noise\n",
    "\n",
    "#\n",
    "# Gráfico de X vs Y\n",
    "#\n",
    "plt.scatter(x, y, c=\"b\")\n",
    "plt.show()"
   ]
  },
  {
   "cell_type": "markdown",
   "metadata": {},
   "source": [
    "## Creación del modelo"
   ]
  },
  {
   "cell_type": "code",
   "execution_count": 3,
   "metadata": {
    "id": "_WRu7Pze7wk8",
    "tags": []
   },
   "outputs": [
    {
     "data": {
      "text/plain": [
       "(<tf.Variable 'Variable:0' shape=() dtype=float32, numpy=0.0>,\n",
       " <tf.Variable 'Variable:0' shape=() dtype=float32, numpy=5.0>)"
      ]
     },
     "execution_count": 3,
     "metadata": {},
     "output_type": "execute_result"
    }
   ],
   "source": [
    "#\n",
    "# Se deriva el modelo de la clase Module\n",
    "#\n",
    "class MyModel(tf.Module):\n",
    "\n",
    "    def __init__(self, **kwargs):\n",
    "        #\n",
    "        # Llama al constructor de la clase base\n",
    "        #\n",
    "        super().__init__(**kwargs)\n",
    "        \n",
    "        #\n",
    "        # Crea las variables y las inicializa en 0.\n",
    "        # Se pueden utilizar varios inicializadores que\n",
    "        # estan descritos en tf.keras.initializers\n",
    "        #\n",
    "        self.w = tf.Variable(5.0)\n",
    "        self.b = tf.Variable(0.0)\n",
    "\n",
    "    def __call__(self, x):\n",
    "        #\n",
    "        # Cómputo del pronóstico\n",
    "        #\n",
    "        return self.w * x + self.b\n",
    "\n",
    "#\n",
    "# Crea uan instancia del modelo\n",
    "#\n",
    "model = MyModel()\n",
    "\n",
    "#\n",
    "# Variables del modelo\n",
    "#\n",
    "model.variables"
   ]
  },
  {
   "cell_type": "markdown",
   "metadata": {
    "id": "xa6j_yXa-j79"
   },
   "source": [
    "## Definición de la función de pérdida"
   ]
  },
  {
   "cell_type": "code",
   "execution_count": 4,
   "metadata": {
    "id": "Y0ysUFGY924U",
    "tags": []
   },
   "outputs": [],
   "source": [
    "#\n",
    "# Error cuadrático medio\n",
    "#\n",
    "def loss(target_y, predicted_y):\n",
    "    return tf.reduce_mean(\n",
    "        tf.square(target_y - predicted_y),\n",
    "    )"
   ]
  },
  {
   "cell_type": "code",
   "execution_count": 5,
   "metadata": {
    "id": "_eb83LtrB4nt",
    "tags": []
   },
   "outputs": [
    {
     "data": {
      "image/png": "[encoded data removed]",
      "text/plain": [
       "<Figure size 432x288 with 1 Axes>"
      ]
     },
     "metadata": {
      "needs_background": "light"
     },
     "output_type": "display_data"
    }
   ],
   "source": [
    "#\n",
    "# Pronóstico del modelo sin entrenar \n",
    "#\n",
    "plt.scatter(x, y, c=\"b\")\n",
    "plt.scatter(x, model(x), c=\"r\")\n",
    "plt.title('Loss: {:1.6f}'.format(loss(y, model(x)).numpy()))\n",
    "plt.show()"
   ]
  },
  {
   "cell_type": "markdown",
   "metadata": {
    "id": "sSDP-yeq_4jE"
   },
   "source": [
    "## Entrenamiento del modelo"
   ]
  },
  {
   "cell_type": "code",
   "execution_count": 6,
   "metadata": {
    "id": "MBIACgdnA55X",
    "tags": []
   },
   "outputs": [],
   "source": [
    "def train(model, x, y, learning_rate):\n",
    "\n",
    "    with tf.GradientTape() as t:\n",
    "        #\n",
    "        # Cómputo de la función de pérdida\n",
    "        #\n",
    "        current_loss = loss(y, model(x))\n",
    "\n",
    "    # \n",
    "    # Cálculo de la derivada de la pérdida respecto\n",
    "    # a los parámetros del modelo\n",
    "    #\n",
    "    dw, db = t.gradient(current_loss, [model.w, model.b])\n",
    "\n",
    "    #\n",
    "    # Mejora según la regla de gradiente descendente\n",
    "    #\n",
    "    model.w.assign_sub(learning_rate * dw)\n",
    "    model.b.assign_sub(learning_rate * db)"
   ]
  },
  {
   "cell_type": "code",
   "execution_count": 7,
   "metadata": {
    "id": "XdfkR223D9dW",
    "tags": []
   },
   "outputs": [
    {
     "name": "stdout",
     "output_type": "stream",
     "text": [
      "Starting: W=5.00 b=0.00, loss=9.48604\n",
      "Epoch  0: W=4.57 b=0.42, loss=6.28728\n",
      "Epoch  1: W=4.24 b=0.75, loss=4.30135\n",
      "Epoch  2: W=3.97 b=1.01, loss=3.06837\n",
      "Epoch  3: W=3.76 b=1.21, loss=2.30285\n",
      "Epoch  4: W=3.60 b=1.38, loss=1.82755\n",
      "Epoch  5: W=3.47 b=1.50, loss=1.53244\n",
      "Epoch  6: W=3.37 b=1.61, loss=1.34920\n",
      "Epoch  7: W=3.29 b=1.69, loss=1.23543\n",
      "Epoch  8: W=3.23 b=1.75, loss=1.16478\n",
      "Epoch  9: W=3.18 b=1.80, loss=1.12091\n",
      "Epoch 10: W=3.14 b=1.84, loss=1.09367\n",
      "Epoch 11: W=3.11 b=1.87, loss=1.07675\n",
      "Epoch 12: W=3.09 b=1.90, loss=1.06624\n",
      "Epoch 13: W=3.07 b=1.91, loss=1.05972\n",
      "Epoch 14: W=3.05 b=1.93, loss=1.05567\n"
     ]
    },
    {
     "data": {
      "image/png": "[encoded data removed]",
      "text/plain": [
       "<Figure size 432x288 with 1 Axes>"
      ]
     },
     "metadata": {
      "needs_background": "light"
     },
     "output_type": "display_data"
    }
   ],
   "source": [
    "#\n",
    "# Historia\n",
    "#\n",
    "Ws, bs = [], []\n",
    "\n",
    "EPOCHS = list(range(15))\n",
    "\n",
    "#\n",
    "# Entrenamiento\n",
    "#\n",
    "def training_loop(model, x, y):\n",
    "\n",
    "    for epoch in EPOCHS:\n",
    "        #\n",
    "        # Llama la función de mejora\n",
    "        #\n",
    "        train(model, x, y, learning_rate=0.1)\n",
    "\n",
    "        #\n",
    "        # Almacena los valores mejorados\n",
    "        #\n",
    "        Ws.append(model.w.numpy())\n",
    "        bs.append(model.b.numpy())\n",
    "\n",
    "        #\n",
    "        # Cómputa la pérdida\n",
    "        #\n",
    "        current_loss = loss(y, model(x))\n",
    "\n",
    "        #\n",
    "        #  Reporte de progreso de la optimización\n",
    "        #\n",
    "        print(\n",
    "            \"Epoch {:2d}: W={:1.2f} b={:1.2f}, loss={:2.5f}\".format(\n",
    "                epoch,\n",
    "                Ws[-1],\n",
    "                bs[-1],\n",
    "                current_loss,\n",
    "            )\n",
    "        )\n",
    "\n",
    "\n",
    "#\n",
    "# Ejecuta el entrenamiento\n",
    "#\n",
    "print(\n",
    "    \"Starting: W={:1.2f} b={:1.2f}, loss={:2.5f}\".format(\n",
    "        model.w.numpy(),\n",
    "        model.b.numpy(),\n",
    "        loss(y, model(x)).numpy(),\n",
    "    )\n",
    ")\n",
    "\n",
    "#\n",
    "# Realiza el entrenamiento\n",
    "#\n",
    "training_loop(model, x, y)\n",
    "\n",
    "#\n",
    "# Gráfico del resultado\n",
    "#\n",
    "plt.plot(EPOCHS, Ws, \"r\")\n",
    "plt.plot(EPOCHS, bs, \"b\")\n",
    "plt.plot([TRUE_W] * len(EPOCHS), \"r--\")\n",
    "plt.plot([TRUE_B] * len(EPOCHS), \"b--\")\n",
    "plt.legend([\"W\", \"b\", \"True W\", \"True b\"])\n",
    "plt.show()"
   ]
  },
  {
   "cell_type": "markdown",
   "metadata": {
    "id": "DODMMmfLIiOC"
   },
   "source": [
    "## Especificación usando Keras"
   ]
  },
  {
   "cell_type": "code",
   "execution_count": 8,
   "metadata": {
    "id": "Z86hCI0x1YX3",
    "tags": []
   },
   "outputs": [
    {
     "name": "stdout",
     "output_type": "stream",
     "text": [
      "Epoch  0: W=4.57 b=0.42, loss=6.28728\n",
      "Epoch  1: W=4.24 b=0.75, loss=4.30135\n",
      "Epoch  2: W=3.97 b=1.01, loss=3.06837\n",
      "Epoch  3: W=3.76 b=1.21, loss=2.30285\n",
      "Epoch  4: W=3.60 b=1.38, loss=1.82755\n",
      "Epoch  5: W=3.47 b=1.50, loss=1.53244\n",
      "Epoch  6: W=3.37 b=1.61, loss=1.34920\n",
      "Epoch  7: W=3.29 b=1.69, loss=1.23543\n",
      "Epoch  8: W=3.23 b=1.75, loss=1.16478\n",
      "Epoch  9: W=3.18 b=1.80, loss=1.12091\n",
      "Epoch 10: W=3.14 b=1.84, loss=1.09367\n",
      "Epoch 11: W=3.11 b=1.87, loss=1.07675\n",
      "Epoch 12: W=3.09 b=1.90, loss=1.06624\n",
      "Epoch 13: W=3.07 b=1.91, loss=1.05972\n",
      "Epoch 14: W=3.05 b=1.93, loss=1.05567\n"
     ]
    }
   ],
   "source": [
    "class MyModelKeras(tf.keras.Model):\n",
    "\n",
    "    def __init__(self, **kwargs):\n",
    "        #\n",
    "        # Llama al constructor\n",
    "        #\n",
    "        super().__init__(**kwargs)\n",
    "        #\n",
    "        # Crea las variables\n",
    "        #\n",
    "        self.w = tf.Variable(5.0)\n",
    "        self.b = tf.Variable(0.0)\n",
    "\n",
    "    def call(self, x):\n",
    "        #\n",
    "        # Cómputo del pronóstico\n",
    "        #\n",
    "        return self.w * x + self.b\n",
    "\n",
    "\n",
    "keras_model = MyModelKeras()\n",
    "\n",
    "training_loop(keras_model, x, y)\n"
   ]
  },
  {
   "cell_type": "code",
   "execution_count": 9,
   "metadata": {
    "id": "-nbLLfPE2pEl",
    "tags": []
   },
   "outputs": [
    {
     "name": "stdout",
     "output_type": "stream",
     "text": [
      "Epoch 1/10\n",
      "1/1 [==============================] - 0s 195ms/step - loss: 9.4860\n",
      "Epoch 2/10\n",
      "1/1 [==============================] - 0s 3ms/step - loss: 6.2873\n",
      "Epoch 3/10\n",
      "1/1 [==============================] - 0s 3ms/step - loss: 4.3013\n",
      "Epoch 4/10\n",
      "1/1 [==============================] - 0s 3ms/step - loss: 3.0684\n",
      "Epoch 5/10\n",
      "1/1 [==============================] - 0s 3ms/step - loss: 2.3028\n",
      "Epoch 6/10\n",
      "1/1 [==============================] - 0s 3ms/step - loss: 1.8276\n",
      "Epoch 7/10\n",
      "1/1 [==============================] - 0s 2ms/step - loss: 1.5324\n",
      "Epoch 8/10\n",
      "1/1 [==============================] - 0s 2ms/step - loss: 1.3492\n",
      "Epoch 9/10\n",
      "1/1 [==============================] - 0s 2ms/step - loss: 1.2354\n",
      "Epoch 10/10\n",
      "1/1 [==============================] - 0s 2ms/step - loss: 1.1648\n"
     ]
    }
   ],
   "source": [
    "#\n",
    "# Es posible especificar directamente\n",
    "# el optimizador en la compilación del\n",
    "# modelo\n",
    "#\n",
    "\n",
    "keras_model = MyModelKeras()\n",
    "\n",
    "keras_model.compile(\n",
    "    run_eagerly=False,\n",
    "\n",
    "    #\n",
    "    # Utiliza el SGD\n",
    "    #\n",
    "    optimizer=tf.keras.optimizers.SGD(learning_rate=0.1),\n",
    "    \n",
    "    #\n",
    "    # Función de pérdida\n",
    "    #\n",
    "    loss=tf.keras.losses.mean_squared_error,\n",
    ")\n",
    "\n",
    "_ = keras_model.fit(x, y, epochs=10, batch_size=1000)"
   ]
  }
 ],
 "metadata": {
  "colab": {
   "collapsed_sections": [
    "5rmpybwysXGV",
    "iKD__8kFCKNt",
    "vPnIVuaSJwWz"
   ],
   "name": "basic_training_loops.ipynb",
   "toc_visible": true
  },
  "kernelspec": {
   "display_name": "Python 3",
   "language": "python",
   "name": "python3"
  },
  "language_info": {
   "codemirror_mode": {
    "name": "ipython",
    "version": 3
   },
   "file_extension": ".py",
   "mimetype": "text/x-python",
   "name": "python",
   "nbconvert_exporter": "python",
   "pygments_lexer": "ipython3",
   "version": "3.6.9"
  }
 },
 "nbformat": 4,
 "nbformat_minor": 4
}
