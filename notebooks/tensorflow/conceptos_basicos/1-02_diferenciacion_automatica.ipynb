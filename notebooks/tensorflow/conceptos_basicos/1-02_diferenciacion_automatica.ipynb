{
 "cells": [
  {
   "cell_type": "markdown",
   "metadata": {
    "id": "qFdPvlXBOdUN"
   },
   "source": [
    "# Gradientes y diferenciación automática"
   ]
  },
  {
   "cell_type": "markdown",
   "metadata": {},
   "source": [
    "* 30:00 min | Última modificación: Mayo 10, 2021 | [YouTube]"
   ]
  },
  {
   "cell_type": "markdown",
   "metadata": {},
   "source": [
    "Adaptado de:\n",
    "\n",
    "* https://www.tensorflow.org/tutorials/keras/keras_tuner"
   ]
  },
  {
   "cell_type": "code",
   "execution_count": 1,
   "metadata": {
    "id": "IqR2PQG4ZaZ0",
    "tags": []
   },
   "outputs": [
    {
     "data": {
      "text/plain": [
       "'2.4.1'"
      ]
     },
     "execution_count": 1,
     "metadata": {},
     "output_type": "execute_result"
    }
   ],
   "source": [
    "import matplotlib.pyplot as plt\n",
    "import numpy as np\n",
    "import tensorflow as tf\n",
    "\n",
    "tf.__version__"
   ]
  },
  {
   "cell_type": "markdown",
   "metadata": {},
   "source": [
    "## Cálculo del gradiente respecto a una variable"
   ]
  },
  {
   "cell_type": "code",
   "execution_count": 2,
   "metadata": {
    "id": "Xq9GgTCP7a4A",
    "tags": []
   },
   "outputs": [
    {
     "data": {
      "text/plain": [
       "6.0"
      ]
     },
     "execution_count": 2,
     "metadata": {},
     "output_type": "execute_result"
    }
   ],
   "source": [
    "#\n",
    "# Define la variable\n",
    "#\n",
    "x = tf.Variable(3.0)\n",
    "\n",
    "#\n",
    "# GradienteTape permite recordar la\n",
    "#  evaluación para realizar posteriormente\n",
    "#  el cálculo del gradiente\n",
    "#\n",
    "with tf.GradientTape() as tape:\n",
    "    y = x ** 2\n",
    "\n",
    "#\n",
    "# Gradiente de y respecto a x\n",
    "#\n",
    "#    dy = 2x * dx\n",
    "#\n",
    "tape.gradient(y, x).numpy()"
   ]
  },
  {
   "cell_type": "markdown",
   "metadata": {},
   "source": [
    "## Cálculo de gradientes de alto orden"
   ]
  },
  {
   "cell_type": "code",
   "execution_count": 3,
   "metadata": {},
   "outputs": [
    {
     "data": {
      "text/plain": [
       "<tf.Tensor: shape=(2, 2), dtype=float32, numpy=\n",
       "array([[0.24225843, 0.32936358],\n",
       "       [0.17959702, 0.20424438]], dtype=float32)>"
      ]
     },
     "execution_count": 3,
     "metadata": {},
     "output_type": "execute_result"
    }
   ],
   "source": [
    "a = tf.random.normal(shape=(2, 2))\n",
    "b = tf.random.normal(shape=(2, 2))\n",
    "\n",
    "with tf.GradientTape() as outer_tape:\n",
    "    outer_tape.watch(a)\n",
    "    with tf.GradientTape() as tape:\n",
    "        tape.watch(a)\n",
    "        c = tf.sqrt(tf.square(a) + tf.square(b))\n",
    "        dc_da = tape.gradient(c, a)\n",
    "    d2c_da2 = outer_tape.gradient(dc_da, a)\n",
    "\n",
    "d2c_da2"
   ]
  },
  {
   "cell_type": "markdown",
   "metadata": {},
   "source": [
    "## Cálculo del gradiente respecto a un tensor"
   ]
  },
  {
   "cell_type": "code",
   "execution_count": 4,
   "metadata": {
    "id": "vacZ3-Ws5VdV",
    "tags": []
   },
   "outputs": [
    {
     "data": {
      "text/plain": [
       "(array([[ -5.714036,  -7.483807],\n",
       "        [-11.428072, -14.967614],\n",
       "        [-17.142109, -22.451422]], dtype=float32),\n",
       " array([-5.714036, -7.483807], dtype=float32))"
      ]
     },
     "execution_count": 4,
     "metadata": {},
     "output_type": "execute_result"
    }
   ],
   "source": [
    "#\n",
    "# Define un modelo de regresión lineal\n",
    "# y = x @ w + b\n",
    "#\n",
    "w = tf.Variable(\n",
    "    tf.random.normal(\n",
    "        (3, 2),\n",
    "    ),\n",
    "    name=\"w\",\n",
    ")\n",
    "\n",
    "b = tf.Variable(\n",
    "    tf.zeros(2, dtype=tf.float32),\n",
    "    name=\"b\",\n",
    ")\n",
    "\n",
    "x = [\n",
    "    [1.0, 2.0, 3.0],\n",
    "]\n",
    "\n",
    "with tf.GradientTape(persistent=True) as tape:\n",
    "    y = x @ w + b\n",
    "    loss = tf.reduce_mean(y ** 2)\n",
    "\n",
    "[dloss_dw, dloss_db] = tape.gradient(loss, [w, b])\n",
    "\n",
    "dloss_dw.numpy(), dloss_db.numpy()"
   ]
  },
  {
   "cell_type": "markdown",
   "metadata": {
    "id": "dI_SzxHsvao1"
   },
   "source": [
    "Here is the gradient calculation again, this time passing a dictionary of variables:"
   ]
  },
  {
   "cell_type": "code",
   "execution_count": 5,
   "metadata": {
    "id": "d73cY6NOuaMd",
    "tags": []
   },
   "outputs": [
    {
     "data": {
      "text/plain": [
       "{'w': <tf.Tensor: shape=(3, 2), dtype=float32, numpy=\n",
       " array([[ -5.714036,  -7.483807],\n",
       "        [-11.428072, -14.967614],\n",
       "        [-17.142109, -22.451422]], dtype=float32)>,\n",
       " 'b': <tf.Tensor: shape=(2,), dtype=float32, numpy=array([-5.714036, -7.483807], dtype=float32)>}"
      ]
     },
     "execution_count": 5,
     "metadata": {},
     "output_type": "execute_result"
    }
   ],
   "source": [
    "#\n",
    "# El mismo cálculo anterior se puede realizar\n",
    "# sustituyendo la lista de variables por un\n",
    "# diccionario. Note que retorna un diccionario\n",
    "#\n",
    "\n",
    "tape.gradient(loss, {\"w\": w, \"b\": b})"
   ]
  },
  {
   "cell_type": "markdown",
   "metadata": {
    "id": "HZ2LvHifEMgO"
   },
   "source": [
    "## Gradientes respecto a un modelo"
   ]
  },
  {
   "cell_type": "code",
   "execution_count": 6,
   "metadata": {
    "id": "JvesHtbQESc-",
    "tags": []
   },
   "outputs": [
    {
     "name": "stdout",
     "output_type": "stream",
     "text": [
      "dense/kernel:0, shape: (3, 2)\n",
      "dense/bias:0, shape: (2,)\n"
     ]
    }
   ],
   "source": [
    "#\n",
    "# Define una capa de 2 neuronas\n",
    "#\n",
    "layer = tf.keras.layers.Dense(\n",
    "    2,\n",
    "    activation=\"relu\",\n",
    ")\n",
    "\n",
    "#\n",
    "# Vector de entrada\n",
    "#\n",
    "x = tf.constant(\n",
    "    [\n",
    "        [1.0, 2.0, 3.0],\n",
    "    ]\n",
    ")\n",
    "\n",
    "#\n",
    "# Define el cálculo a ejecutar con x\n",
    "#\n",
    "with tf.GradientTape() as tape:\n",
    "    #\n",
    "    # Propagación hacia adelante de x\n",
    "    #\n",
    "    y = layer(x)\n",
    "    loss = tf.reduce_mean(y ** 2)\n",
    "\n",
    "#\n",
    "# Cómputo del gradiente\n",
    "#\n",
    "grad = tape.gradient(\n",
    "    loss,\n",
    "    layer.trainable_variables,\n",
    ")\n",
    "\n",
    "#\n",
    "# Imprime los tamaños de las variables que contenen\n",
    "#  los gradientes\n",
    "#\n",
    "for var, g in zip(layer.trainable_variables, grad):\n",
    "    print(\"{}, shape: {}\".format(var.name, g.shape))"
   ]
  },
  {
   "cell_type": "markdown",
   "metadata": {
    "id": "f6Gx6LS714zR"
   },
   "source": [
    "## Control del GradientTape"
   ]
  },
  {
   "cell_type": "code",
   "execution_count": 7,
   "metadata": {
    "id": "Kj9gPckdB37a",
    "tags": []
   },
   "outputs": [
    {
     "name": "stdout",
     "output_type": "stream",
     "text": [
      "tf.Tensor(6.0, shape=(), dtype=float32)\n",
      "None\n",
      "None\n",
      "None\n"
     ]
    }
   ],
   "source": [
    "#\n",
    "# Variable entrenable\n",
    "#\n",
    "x0 = tf.Variable(\n",
    "    3.0,\n",
    "    name=\"x0\",\n",
    ")\n",
    "\n",
    "#\n",
    "# Variable no entrenable\n",
    "#\n",
    "x1 = tf.Variable(\n",
    "    3.0,\n",
    "    name=\"x1\",\n",
    "    trainable=False,\n",
    ")\n",
    "\n",
    "#\n",
    "# x2 es un tensor, no una variable\n",
    "#\n",
    "x2 = tf.Variable(2.0, name=\"x2\") + 1.0\n",
    "\n",
    "#\n",
    "# Un tensor\n",
    "#\n",
    "x3 = tf.constant(3.0, name=\"x3\")\n",
    "\n",
    "#\n",
    "# Evalua y = x0^2 + x1^2 + x2^2\n",
    "#  Note que no usa x3\n",
    "#\n",
    "with tf.GradientTape() as tape:\n",
    "    y = (x0 ** 2) + (x1 ** 2) + (x2 ** 2)\n",
    "\n",
    "grad = tape.gradient(y, [x0, x1, x2, x3])\n",
    "\n",
    "for g in grad:\n",
    "    print(g)"
   ]
  },
  {
   "cell_type": "code",
   "execution_count": 8,
   "metadata": {
    "id": "hwNwjW1eAkib",
    "tags": []
   },
   "outputs": [
    {
     "data": {
      "text/plain": [
       "['x0:0']"
      ]
     },
     "execution_count": 8,
     "metadata": {},
     "output_type": "execute_result"
    }
   ],
   "source": [
    "#\n",
    "# Variables monitoreadas por GradientTape\n",
    "#\n",
    "[var.name for var in tape.watched_variables()]"
   ]
  },
  {
   "cell_type": "code",
   "execution_count": 9,
   "metadata": {
    "id": "tVN1QqFRDHBK",
    "tags": []
   },
   "outputs": [
    {
     "data": {
      "text/plain": [
       "6.0"
      ]
     },
     "execution_count": 9,
     "metadata": {},
     "output_type": "execute_result"
    }
   ],
   "source": [
    "#\n",
    "# Este es un tensor que por defecto no es\n",
    "# monitoreado por GradientTape\n",
    "#\n",
    "x = tf.constant(3.0)\n",
    "with tf.GradientTape() as tape:\n",
    "    #\n",
    "    # watch() permite adicionar elementos\n",
    "    # a ser monitoreados por GradientTape\n",
    "    #\n",
    "    tape.watch(x)\n",
    "    y = x ** 2\n",
    "\n",
    "\n",
    "#\n",
    "# Computdo de la derivada\n",
    "# dy = 2x * dx\n",
    "#\n",
    "tape.gradient(y, x).numpy()"
   ]
  },
  {
   "cell_type": "markdown",
   "metadata": {
    "id": "qxsiYnf2DN8K"
   },
   "source": [
    "Conversely, to disable the default behavior of watching all `tf.Variables`, set `watch_accessed_variables=False` when creating the gradient tape. This calculation uses two variables, but only connects the gradient for one of the variables:"
   ]
  },
  {
   "cell_type": "code",
   "execution_count": 10,
   "metadata": {
    "id": "7QPzwWvSEwIp",
    "tags": []
   },
   "outputs": [
    {
     "data": {
      "text/plain": [
       "{'x0': None, 'x1': <tf.Tensor: shape=(), dtype=float32, numpy=0.9999546>}"
      ]
     },
     "execution_count": 10,
     "metadata": {},
     "output_type": "execute_result"
    }
   ],
   "source": [
    "x0 = tf.Variable(0.0)\n",
    "x1 = tf.Variable(10.0)\n",
    "\n",
    "#\n",
    "# La opción watch_accessed_variables desactiva el\n",
    "# comportamiento por defecto y ninguna variable será\n",
    "# monitoreada por GradientTape\n",
    "#\n",
    "with tf.GradientTape(watch_accessed_variables=False) as tape:\n",
    "    tape.watch(x1)\n",
    "    y0 = tf.math.sin(x0)\n",
    "    y1 = tf.nn.softplus(x1)\n",
    "    y = y0 + y1\n",
    "    ys = tf.reduce_sum(y)\n",
    "\n",
    "#\n",
    "# Computo del gradiente. Note que no se calcula\n",
    "# el gradiente respecto a x0\n",
    "#\n",
    "# dys/dx1 = exp(x1) / (1 + exp(x1)) = sigmoid(x1)\n",
    "#\n",
    "tape.gradient(ys, {\"x0\": x0, \"x1\": x1})"
   ]
  },
  {
   "cell_type": "markdown",
   "metadata": {
    "id": "2g1nKB6P-OnA"
   },
   "source": [
    "## Gradiente respecto a resultados intermedios"
   ]
  },
  {
   "cell_type": "code",
   "execution_count": 11,
   "metadata": {
    "id": "7XaPRAwUyYms",
    "tags": []
   },
   "outputs": [
    {
     "name": "stdout",
     "output_type": "stream",
     "text": [
      "18.0\n"
     ]
    }
   ],
   "source": [
    "#\n",
    "# Crea una constante\n",
    "#\n",
    "x = tf.constant(3.0)\n",
    "\n",
    "with tf.GradientTape() as tape:\n",
    "    #\n",
    "    # Monitorea x\n",
    "    #\n",
    "    tape.watch(x)\n",
    "    y = x * x\n",
    "    z = y * y\n",
    "\n",
    "#\n",
    "# Cómputo del gradiente de z respecto a y\n",
    "# dz_dy = 2 * y, y = x ** 2 = 9\n",
    "#\n",
    "print(tape.gradient(z, y).numpy())"
   ]
  },
  {
   "cell_type": "markdown",
   "metadata": {
    "id": "ISkXuY7YzIcS"
   },
   "source": [
    "By default, the resources held by a `GradientTape` are released as soon as the `GradientTape.gradient` method is called. To compute multiple gradients over the same computation, create a gradient tape with `persistent=True`. This allows multiple calls to the `gradient` method as resources are released when the tape object is garbage collected. For example:"
   ]
  },
  {
   "cell_type": "code",
   "execution_count": 12,
   "metadata": {
    "id": "zZaCm3-9zVCi",
    "tags": []
   },
   "outputs": [
    {
     "data": {
      "text/plain": [
       "array([  4., 108.], dtype=float32)"
      ]
     },
     "execution_count": 12,
     "metadata": {},
     "output_type": "execute_result"
    }
   ],
   "source": [
    "x = tf.constant([1, 3.0])\n",
    "\n",
    "#\n",
    "# La opción persistent permite computar\n",
    "# varios gradientes en la misma operación\n",
    "#\n",
    "with tf.GradientTape(persistent=True) as tape:\n",
    "    tape.watch(x)\n",
    "    y = x * x\n",
    "    z = y * y\n",
    "\n",
    "#\n",
    "# Gradiente de z respecto a x\n",
    "# 108.0 (4 * x**3 at x = 3)\n",
    "#\n",
    "tape.gradient(z, x).numpy()"
   ]
  },
  {
   "cell_type": "code",
   "execution_count": 13,
   "metadata": {
    "id": "zZaCm3-9zVCi",
    "tags": []
   },
   "outputs": [
    {
     "data": {
      "text/plain": [
       "array([2., 6.], dtype=float32)"
      ]
     },
     "execution_count": 13,
     "metadata": {},
     "output_type": "execute_result"
    }
   ],
   "source": [
    "#\n",
    "# Gradiente de y respecto a x\n",
    "# 6.0 (2 * x)\n",
    "#\n",
    "tape.gradient(y, x).numpy()"
   ]
  },
  {
   "cell_type": "code",
   "execution_count": 14,
   "metadata": {
    "id": "j8bv_jQFg6CN",
    "tags": []
   },
   "outputs": [],
   "source": [
    "#\n",
    "# Borra la variable\n",
    "#\n",
    "del tape"
   ]
  },
  {
   "cell_type": "markdown",
   "metadata": {
    "id": "9dLBpZsJebFq"
   },
   "source": [
    "## Cómputo de gradientes de no escalares"
   ]
  },
  {
   "cell_type": "code",
   "execution_count": 15,
   "metadata": {
    "id": "qI0sDV_WeXBb",
    "tags": []
   },
   "outputs": [
    {
     "data": {
      "text/plain": [
       "(4.0, -0.25)"
      ]
     },
     "execution_count": 15,
     "metadata": {},
     "output_type": "execute_result"
    }
   ],
   "source": [
    "#\n",
    "# Gradiente de un escalar\n",
    "#\n",
    "x = tf.Variable(2.0)\n",
    "with tf.GradientTape(persistent=True) as tape:\n",
    "    y0 = x ** 2\n",
    "    y1 = 1 / x\n",
    "\n",
    "tape.gradient(y0, x).numpy(), tape.gradient(y1, x).numpy()"
   ]
  },
  {
   "cell_type": "markdown",
   "metadata": {
    "id": "COEyYp34fxj4"
   },
   "source": [
    "Thus, if you ask for the gradient of multiple targets, the result for each source is:\n",
    "\n",
    "* The gradient of the sum of the targets, or equivalently\n",
    "* The sum of the gradients of each target."
   ]
  },
  {
   "cell_type": "code",
   "execution_count": 16,
   "metadata": {
    "id": "o4a6_YOcfWKS",
    "tags": []
   },
   "outputs": [
    {
     "data": {
      "text/plain": [
       "3.75"
      ]
     },
     "execution_count": 16,
     "metadata": {},
     "output_type": "execute_result"
    }
   ],
   "source": [
    "#\n",
    "# Mismo gradiente anterior, pero con persistent=False\n",
    "x = tf.Variable(2.0)\n",
    "\n",
    "with tf.GradientTape() as tape:\n",
    "    y0 = x ** 2\n",
    "    y1 = 1 / x\n",
    "\n",
    "#\n",
    "# Acá no se puede usar la opción anterior porque\n",
    "# el gradiente no es persistente. Se cómputa\n",
    "# como la suma de los dos gradientes anteriores\n",
    "#\n",
    "tape.gradient({\"y0\": y0, \"y1\": y1}, x).numpy()"
   ]
  },
  {
   "cell_type": "markdown",
   "metadata": {
    "id": "uvP-mkBMgbym"
   },
   "source": [
    "Similarly, if the target(s) are not scalar the gradient of the sum is calculated:"
   ]
  },
  {
   "cell_type": "code",
   "execution_count": 17,
   "metadata": {
    "id": "DArPWqsSh5un"
   },
   "outputs": [
    {
     "data": {
      "text/plain": [
       "7.0"
      ]
     },
     "execution_count": 17,
     "metadata": {},
     "output_type": "execute_result"
    }
   ],
   "source": [
    "#\n",
    "# Similar al anterior pero x es multiplicado\n",
    "#  por una lista\n",
    "#\n",
    "x = tf.Variable(2.0)\n",
    "\n",
    "with tf.GradientTape() as tape:\n",
    "    y = x * [3.0, 4.0]\n",
    "\n",
    "tape.gradient(y, x).numpy()"
   ]
  },
  {
   "cell_type": "markdown",
   "metadata": {},
   "source": [
    "## Gráfico de la derivada de la función sigmoidea"
   ]
  },
  {
   "cell_type": "code",
   "execution_count": 18,
   "metadata": {
    "id": "e_f2QgDPmcPE",
    "tags": []
   },
   "outputs": [
    {
     "data": {
      "image/png": "[encoded data removed]",
      "text/plain": [
       "<Figure size 432x288 with 1 Axes>"
      ]
     },
     "metadata": {
      "needs_background": "light"
     },
     "output_type": "display_data"
    }
   ],
   "source": [
    "#\n",
    "# Valores del eje X\n",
    "#\n",
    "x = tf.linspace(-10.0, 10.0, 200 + 1)\n",
    "\n",
    "with tf.GradientTape() as tape:\n",
    "    tape.watch(x)\n",
    "    y = tf.nn.sigmoid(x)\n",
    "\n",
    "dy_dx = tape.gradient(y, x)\n",
    "\n",
    "plt.plot(x, y, label=\"y\")\n",
    "plt.plot(x, dy_dx, label=\"dy/dx\")\n",
    "plt.legend()\n",
    "plt.xlabel(\"x\")\n",
    "plt.show()"
   ]
  },
  {
   "cell_type": "markdown",
   "metadata": {
    "id": "6kADybtQzYj4"
   },
   "source": [
    "## Control de flujo"
   ]
  },
  {
   "cell_type": "code",
   "execution_count": 19,
   "metadata": {
    "id": "ciFLizhrrjy7",
    "tags": []
   },
   "outputs": [
    {
     "data": {
      "text/plain": [
       "(<tf.Tensor: shape=(), dtype=float32, numpy=1.0>, None)"
      ]
     },
     "execution_count": 19,
     "metadata": {},
     "output_type": "execute_result"
    }
   ],
   "source": [
    "x = tf.constant(1.0)\n",
    "\n",
    "v0 = tf.Variable(2.0)\n",
    "v1 = tf.Variable(2.0)\n",
    "\n",
    "with tf.GradientTape(persistent=True) as tape:\n",
    "\n",
    "    tape.watch(x)\n",
    "\n",
    "    if x > 0.0:\n",
    "        result = v0\n",
    "    else:\n",
    "        result = v1 ** 2\n",
    "\n",
    "dv0, dv1 = tape.gradient(result, [v0, v1])\n",
    "dv0, dv1"
   ]
  },
  {
   "cell_type": "code",
   "execution_count": 20,
   "metadata": {
    "id": "8k05WmuAwPm7",
    "tags": []
   },
   "outputs": [],
   "source": [
    "tape.gradient(result, x)"
   ]
  },
  {
   "cell_type": "markdown",
   "metadata": {
    "id": "egypBxISAHhx"
   },
   "source": [
    "## Causas de resultados igual a None"
   ]
  },
  {
   "cell_type": "code",
   "execution_count": 21,
   "metadata": {
    "id": "CU185WDM81Ut",
    "tags": []
   },
   "outputs": [
    {
     "name": "stdout",
     "output_type": "stream",
     "text": [
      "None\n"
     ]
    }
   ],
   "source": [
    "x = tf.Variable(2.0)\n",
    "y = tf.Variable(3.0)\n",
    "\n",
    "with tf.GradientTape() as tape:\n",
    "    #\n",
    "    # No hay causalidad de x con z\n",
    "    #\n",
    "    z = y * y\n",
    "\n",
    "print(tape.gradient(z, x))"
   ]
  },
  {
   "cell_type": "code",
   "execution_count": 22,
   "metadata": {
    "id": "QPKY4Tn9zX7_",
    "tags": []
   },
   "outputs": [
    {
     "name": "stdout",
     "output_type": "stream",
     "text": [
      "ResourceVariable : tf.Tensor(1.0, shape=(), dtype=float32)\n",
      "EagerTensor : None\n"
     ]
    }
   ],
   "source": [
    "x = tf.Variable(2.0)\n",
    "\n",
    "for epoch in range(2):\n",
    "\n",
    "    with tf.GradientTape() as tape:\n",
    "        #\n",
    "        # Se reemplaza inadvertidamente una\n",
    "        # variable con un tensor\n",
    "        #\n",
    "        y = x + 1\n",
    "\n",
    "    print(type(x).__name__, \":\", tape.gradient(y, x))\n",
    "    x = x + 1"
   ]
  },
  {
   "cell_type": "code",
   "execution_count": 23,
   "metadata": {
    "id": "jmoLCDJb_yw1",
    "tags": []
   },
   "outputs": [
    {
     "name": "stdout",
     "output_type": "stream",
     "text": [
      "None\n"
     ]
    }
   ],
   "source": [
    "x = tf.Variable(\n",
    "    [\n",
    "        [1.0, 2.0],\n",
    "        [3.0, 4.0],\n",
    "    ],\n",
    "    dtype=tf.float32,\n",
    ")\n",
    "\n",
    "with tf.GradientTape() as tape:\n",
    "    x2 = x ** 2\n",
    "    #\n",
    "    # Cálculo fuera de TensorFlow\n",
    "    #\n",
    "    y = np.mean(x2, axis=0)\n",
    "    y = tf.reduce_mean(y, axis=0)\n",
    "\n",
    "print(tape.gradient(y, x))"
   ]
  },
  {
   "cell_type": "markdown",
   "metadata": {
    "id": "p3YVfP3R-tp7"
   },
   "source": [
    "### 3. Took gradients through an integer or string\n",
    "\n",
    "Integers and strings are not differentiable. If a calculation path uses these data types there will be no gradient.\n",
    "\n",
    "Nobody expects strings to be differentiable, but it's easy to accidentally create an `int` constant or variable if you don't specify the `dtype`."
   ]
  },
  {
   "cell_type": "code",
   "execution_count": 24,
   "metadata": {
    "id": "9jlHXHqfASU3",
    "tags": []
   },
   "outputs": [
    {
     "name": "stdout",
     "output_type": "stream",
     "text": [
      "WARNING:tensorflow:The dtype of the watched tensor must be floating (e.g. tf.float32), got tf.int32\n",
      "WARNING:tensorflow:The dtype of the target tensor must be floating (e.g. tf.float32) when calling GradientTape.gradient, got tf.int32\n",
      "WARNING:tensorflow:The dtype of the source tensor must be floating (e.g. tf.float32) when calling GradientTape.gradient, got tf.int32\n",
      "None\n"
     ]
    }
   ],
   "source": [
    "x = tf.constant(10)\n",
    "\n",
    "with tf.GradientTape() as tape:\n",
    "    #\n",
    "    # Cálculo del gradiente respecto a\n",
    "    # un entero o un string\n",
    "    #\n",
    "    tape.watch(x)\n",
    "    y = x * x\n",
    "\n",
    "print(tape.gradient(y, x))"
   ]
  },
  {
   "cell_type": "code",
   "execution_count": 25,
   "metadata": {
    "id": "C1tLeeRFE479",
    "tags": []
   },
   "outputs": [
    {
     "name": "stdout",
     "output_type": "stream",
     "text": [
      "None\n"
     ]
    }
   ],
   "source": [
    "x0 = tf.Variable(3.0)\n",
    "x1 = tf.Variable(0.0)\n",
    "\n",
    "with tf.GradientTape() as tape:\n",
    "    #\n",
    "    # La siguiente función no recuerda\n",
    "    # x0 en el GradientTape\n",
    "    #\n",
    "    x1.assign_add(x0)\n",
    "    y = x1 ** 2\n",
    "\n",
    "print(tape.gradient(y, x0))"
   ]
  },
  {
   "cell_type": "code",
   "execution_count": 26,
   "metadata": {
    "id": "C1tLeeRFE479",
    "tags": []
   },
   "outputs": [
    {
     "name": "stdout",
     "output_type": "stream",
     "text": [
      "tf.Tensor(6.0, shape=(), dtype=float32)\n"
     ]
    }
   ],
   "source": [
    "x0 = tf.Variable(3.0)\n",
    "x1 = tf.Variable(0.0)\n",
    "\n",
    "with tf.GradientTape() as tape:\n",
    "    x1 = x1 + x0\n",
    "    y = x1 ** 2\n",
    "\n",
    "print(tape.gradient(y, x0))"
   ]
  },
  {
   "cell_type": "markdown",
   "metadata": {
    "id": "GCTwc_dQXp2W"
   },
   "source": [
    "## Reemplazo de None por Zero"
   ]
  },
  {
   "cell_type": "code",
   "execution_count": 27,
   "metadata": {
    "id": "U6zxk1sf9Ixx",
    "tags": []
   },
   "outputs": [
    {
     "data": {
      "text/plain": [
       "<tf.Tensor: shape=(2,), dtype=float32, numpy=array([0., 0.], dtype=float32)>"
      ]
     },
     "execution_count": 27,
     "metadata": {},
     "output_type": "execute_result"
    }
   ],
   "source": [
    "x = tf.Variable([2.0, 2.0])\n",
    "y = tf.Variable(3.0)\n",
    "\n",
    "with tf.GradientTape() as tape:\n",
    "    z = y ** 2\n",
    "\n",
    "#\n",
    "# Se usa en casos en los que es más conveniente\n",
    "#  obtener 0 en vez de None\n",
    "#\n",
    "tape.gradient(z, x, unconnected_gradients=tf.UnconnectedGradients.ZERO)"
   ]
  }
 ],
 "metadata": {
  "colab": {
   "collapsed_sections": [
    "Tce3stUlHN0L"
   ],
   "name": "autodiff.ipynb",
   "toc_visible": true
  },
  "kernelspec": {
   "display_name": "Python 3",
   "language": "python",
   "name": "python3"
  },
  "language_info": {
   "codemirror_mode": {
    "name": "ipython",
    "version": 3
   },
   "file_extension": ".py",
   "mimetype": "text/x-python",
   "name": "python",
   "nbconvert_exporter": "python",
   "pygments_lexer": "ipython3",
   "version": "3.6.9"
  }
 },
 "nbformat": 4,
 "nbformat_minor": 4
}
