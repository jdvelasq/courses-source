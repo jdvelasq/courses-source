{
 "cells": [
  {
   "cell_type": "markdown",
   "metadata": {},
   "source": [
    "# Capas personalizadas"
   ]
  },
  {
   "cell_type": "markdown",
   "metadata": {},
   "source": [
    "* 30:00 min | Última modificación: Mayo 12, 2021 | [YouTube]"
   ]
  },
  {
   "cell_type": "markdown",
   "metadata": {},
   "source": [
    "Adaptado de:\n",
    "\n",
    "* https://www.tensorflow.org/tutorials/keras/keras_tuner"
   ]
  },
  {
   "cell_type": "code",
   "execution_count": 1,
   "metadata": {
    "id": "Py0m-N6VgQFJ",
    "tags": []
   },
   "outputs": [
    {
     "data": {
      "text/plain": [
       "'2.4.1'"
      ]
     },
     "execution_count": 1,
     "metadata": {},
     "output_type": "execute_result"
    }
   ],
   "source": [
    "import tensorflow as tf\n",
    "from tensorflow import keras\n",
    "\n",
    "tf.__version__"
   ]
  },
  {
   "cell_type": "markdown",
   "metadata": {
    "id": "zSFfVVjkrrsI"
   },
   "source": [
    "## Operaciones con capas"
   ]
  },
  {
   "cell_type": "code",
   "execution_count": 2,
   "metadata": {
    "id": "8PyXlPl-4TzQ",
    "tags": []
   },
   "outputs": [
    {
     "data": {
      "text/plain": [
       "<tf.Tensor: shape=(8, 10), dtype=float32, numpy=\n",
       "array([[0., 0., 0., 0., 0., 0., 0., 0., 0., 0.],\n",
       "       [0., 0., 0., 0., 0., 0., 0., 0., 0., 0.],\n",
       "       [0., 0., 0., 0., 0., 0., 0., 0., 0., 0.],\n",
       "       [0., 0., 0., 0., 0., 0., 0., 0., 0., 0.],\n",
       "       [0., 0., 0., 0., 0., 0., 0., 0., 0., 0.],\n",
       "       [0., 0., 0., 0., 0., 0., 0., 0., 0., 0.],\n",
       "       [0., 0., 0., 0., 0., 0., 0., 0., 0., 0.],\n",
       "       [0., 0., 0., 0., 0., 0., 0., 0., 0., 0.]], dtype=float32)>"
      ]
     },
     "execution_count": 2,
     "metadata": {},
     "output_type": "execute_result"
    }
   ],
   "source": [
    "#\n",
    "# El número de entradas puede ser inferido directamente\n",
    "# cuando se usa por primera vez la capa. La capa tiene\n",
    "# 5 unidades de entrada y 10 unidades de salida.\n",
    "#\n",
    "# Recibe una matriz de None filas x 5 columnas\n",
    "# \n",
    "layer = tf.keras.layers.Dense(10, input_shape=(None, 5))\n",
    "\n",
    "#\n",
    "# Aplica la capa a una matriz de 8x5. La salida es\n",
    "# de 8x10\n",
    "#\n",
    "layer(tf.zeros([8, 5]))"
   ]
  },
  {
   "cell_type": "markdown",
   "metadata": {},
   "source": [
    "La lista completa de tipos de capas está disponible en https://www.tensorflow.org/api_docs/python/tf/keras/layers"
   ]
  },
  {
   "cell_type": "code",
   "execution_count": 3,
   "metadata": {},
   "outputs": [
    {
     "data": {
      "text/plain": [
       "[<tf.Variable 'dense/kernel:0' shape=(5, 10) dtype=float32, numpy=\n",
       " array([[ 0.10445589,  0.43483704, -0.07599306, -0.4555408 ,  0.5816476 ,\n",
       "          0.3638779 , -0.40204322,  0.24748045, -0.00265223,  0.62305385],\n",
       "        [ 0.28914303,  0.5701955 , -0.51536745, -0.00251502, -0.48061943,\n",
       "         -0.40967798, -0.5864101 ,  0.24136549, -0.10516667,  0.23432636],\n",
       "        [-0.2600371 ,  0.17597276,  0.2455126 ,  0.16605353, -0.61815315,\n",
       "          0.21817577, -0.29389817,  0.37089318, -0.29720345, -0.03506857],\n",
       "        [ 0.43874317, -0.32900006, -0.33695206, -0.3713902 ,  0.6106716 ,\n",
       "          0.5247267 , -0.05227906,  0.23766029,  0.1578471 , -0.3147019 ],\n",
       "        [ 0.3225062 , -0.02345377,  0.21536112,  0.07351696,  0.04885584,\n",
       "          0.56058365, -0.58907694,  0.00586361, -0.32151142, -0.5568799 ]],\n",
       "       dtype=float32)>,\n",
       " <tf.Variable 'dense/bias:0' shape=(10,) dtype=float32, numpy=array([0., 0., 0., 0., 0., 0., 0., 0., 0., 0.], dtype=float32)>]"
      ]
     },
     "execution_count": 3,
     "metadata": {},
     "output_type": "execute_result"
    }
   ],
   "source": [
    "#\n",
    "# Variables presentes en la capa (pesos)\n",
    "#\n",
    "layer.variables"
   ]
  },
  {
   "cell_type": "code",
   "execution_count": 4,
   "metadata": {},
   "outputs": [
    {
     "data": {
      "text/plain": [
       "[<tf.Variable 'dense/kernel:0' shape=(5, 10) dtype=float32, numpy=\n",
       " array([[ 0.10445589,  0.43483704, -0.07599306, -0.4555408 ,  0.5816476 ,\n",
       "          0.3638779 , -0.40204322,  0.24748045, -0.00265223,  0.62305385],\n",
       "        [ 0.28914303,  0.5701955 , -0.51536745, -0.00251502, -0.48061943,\n",
       "         -0.40967798, -0.5864101 ,  0.24136549, -0.10516667,  0.23432636],\n",
       "        [-0.2600371 ,  0.17597276,  0.2455126 ,  0.16605353, -0.61815315,\n",
       "          0.21817577, -0.29389817,  0.37089318, -0.29720345, -0.03506857],\n",
       "        [ 0.43874317, -0.32900006, -0.33695206, -0.3713902 ,  0.6106716 ,\n",
       "          0.5247267 , -0.05227906,  0.23766029,  0.1578471 , -0.3147019 ],\n",
       "        [ 0.3225062 , -0.02345377,  0.21536112,  0.07351696,  0.04885584,\n",
       "          0.56058365, -0.58907694,  0.00586361, -0.32151142, -0.5568799 ]],\n",
       "       dtype=float32)>,\n",
       " <tf.Variable 'dense/bias:0' shape=(10,) dtype=float32, numpy=array([0., 0., 0., 0., 0., 0., 0., 0., 0., 0.], dtype=float32)>]"
      ]
     },
     "execution_count": 4,
     "metadata": {},
     "output_type": "execute_result"
    }
   ],
   "source": [
    "#\n",
    "# Variables entrenables en la capa\n",
    "#\n",
    "layer.trainable_variables"
   ]
  },
  {
   "cell_type": "code",
   "execution_count": 5,
   "metadata": {},
   "outputs": [
    {
     "data": {
      "text/plain": [
       "(<tf.Variable 'dense/kernel:0' shape=(5, 10) dtype=float32, numpy=\n",
       " array([[ 0.10445589,  0.43483704, -0.07599306, -0.4555408 ,  0.5816476 ,\n",
       "          0.3638779 , -0.40204322,  0.24748045, -0.00265223,  0.62305385],\n",
       "        [ 0.28914303,  0.5701955 , -0.51536745, -0.00251502, -0.48061943,\n",
       "         -0.40967798, -0.5864101 ,  0.24136549, -0.10516667,  0.23432636],\n",
       "        [-0.2600371 ,  0.17597276,  0.2455126 ,  0.16605353, -0.61815315,\n",
       "          0.21817577, -0.29389817,  0.37089318, -0.29720345, -0.03506857],\n",
       "        [ 0.43874317, -0.32900006, -0.33695206, -0.3713902 ,  0.6106716 ,\n",
       "          0.5247267 , -0.05227906,  0.23766029,  0.1578471 , -0.3147019 ],\n",
       "        [ 0.3225062 , -0.02345377,  0.21536112,  0.07351696,  0.04885584,\n",
       "          0.56058365, -0.58907694,  0.00586361, -0.32151142, -0.5568799 ]],\n",
       "       dtype=float32)>,\n",
       " <tf.Variable 'dense/bias:0' shape=(10,) dtype=float32, numpy=array([0., 0., 0., 0., 0., 0., 0., 0., 0., 0.], dtype=float32)>)"
      ]
     },
     "execution_count": 5,
     "metadata": {},
     "output_type": "execute_result"
    }
   ],
   "source": [
    "#\n",
    "# Las variables tambien son accesibls a traves \n",
    "# de nombres personalizados\n",
    "#\n",
    "layer.kernel, layer.bias"
   ]
  },
  {
   "cell_type": "markdown",
   "metadata": {},
   "source": [
    "## Creación de capas personalizadas"
   ]
  },
  {
   "cell_type": "code",
   "execution_count": 6,
   "metadata": {},
   "outputs": [
    {
     "data": {
      "text/plain": [
       "<tf.Tensor: shape=(8, 10), dtype=float32, numpy=\n",
       "array([[0., 0., 0., 0., 0., 0., 0., 0., 0., 0.],\n",
       "       [0., 0., 0., 0., 0., 0., 0., 0., 0., 0.],\n",
       "       [0., 0., 0., 0., 0., 0., 0., 0., 0., 0.],\n",
       "       [0., 0., 0., 0., 0., 0., 0., 0., 0., 0.],\n",
       "       [0., 0., 0., 0., 0., 0., 0., 0., 0., 0.],\n",
       "       [0., 0., 0., 0., 0., 0., 0., 0., 0., 0.],\n",
       "       [0., 0., 0., 0., 0., 0., 0., 0., 0., 0.],\n",
       "       [0., 0., 0., 0., 0., 0., 0., 0., 0., 0.]], dtype=float32)>"
      ]
     },
     "execution_count": 6,
     "metadata": {},
     "output_type": "execute_result"
    }
   ],
   "source": [
    "#\n",
    "# Es obligatorio implementar el constructor\n",
    "#  y las funciones build y call. La capa\n",
    "# personalizada se deriva de Layer\n",
    "#\n",
    "class MyDenseLayer(tf.keras.layers.Layer):\n",
    "    def __init__(self, num_outputs):\n",
    "        #\n",
    "        # Invoca al constructor de la clase base\n",
    "        #\n",
    "        super(MyDenseLayer, self).__init__()\n",
    "        self.num_outputs = num_outputs\n",
    "\n",
    "    def build(self, input_shape):\n",
    "        #\n",
    "        # Construye el kernel. Note que se da el\n",
    "        # tamaño de los tensores\n",
    "        #\n",
    "        self.kernel = self.add_weight(\n",
    "            \"kernel\",\n",
    "            shape=[int(input_shape[-1]), self.num_outputs],\n",
    "        )\n",
    "\n",
    "    def call(self, inputs):\n",
    "        #\n",
    "        # Define las operaciones que hace la capa\n",
    "        # y retorna el resultado\n",
    "        #\n",
    "        return tf.matmul(inputs, self.kernel)\n",
    "\n",
    "\n",
    "#\n",
    "# Crea una instancia\n",
    "#\n",
    "layer = MyDenseLayer(10)\n",
    "\n",
    "#\n",
    "# Propaga una señal a traves de la capa\n",
    "#\n",
    "layer(tf.zeros([8, 5]))"
   ]
  },
  {
   "cell_type": "code",
   "execution_count": 7,
   "metadata": {},
   "outputs": [
    {
     "data": {
      "text/plain": [
       "[<tf.Variable 'my_dense_layer/kernel:0' shape=(5, 10) dtype=float32, numpy=\n",
       " array([[ 0.1266169 , -0.31146327,  0.5958269 ,  0.33439076,  0.04097557,\n",
       "         -0.22773308, -0.49107215, -0.46055695,  0.26469314,  0.13532424],\n",
       "        [ 0.31628776,  0.26867867,  0.5036008 , -0.38130006, -0.32128704,\n",
       "          0.407731  ,  0.04055959,  0.15667021,  0.5610222 ,  0.3581983 ],\n",
       "        [ 0.54583436, -0.15183699,  0.2905072 , -0.38425088, -0.43466374,\n",
       "          0.4075337 , -0.46342754,  0.01312637,  0.44806713,  0.32547373],\n",
       "        [ 0.06714386,  0.09785599, -0.02567923,  0.52111465,  0.15716058,\n",
       "         -0.54808116, -0.02707583, -0.12527728, -0.6230929 , -0.45852402],\n",
       "        [-0.32650933, -0.3440449 , -0.5501607 ,  0.06667912,  0.63072985,\n",
       "          0.5818098 ,  0.5094772 ,  0.47427052, -0.48623377, -0.603985  ]],\n",
       "       dtype=float32)>]"
      ]
     },
     "execution_count": 7,
     "metadata": {},
     "output_type": "execute_result"
    }
   ],
   "source": [
    "#\n",
    "# Solo despues de propagar la señal es posible\n",
    "# ver las variables entrenables. Note que no hay un\n",
    "# bias como en la capa tipo Dense\n",
    "#\n",
    "layer.trainable_variables"
   ]
  },
  {
   "cell_type": "code",
   "execution_count": 8,
   "metadata": {},
   "outputs": [
    {
     "data": {
      "text/plain": [
       "<tf.Variable 'my_dense_layer/kernel:0' shape=(5, 10) dtype=float32, numpy=\n",
       "array([[ 0.1266169 , -0.31146327,  0.5958269 ,  0.33439076,  0.04097557,\n",
       "        -0.22773308, -0.49107215, -0.46055695,  0.26469314,  0.13532424],\n",
       "       [ 0.31628776,  0.26867867,  0.5036008 , -0.38130006, -0.32128704,\n",
       "         0.407731  ,  0.04055959,  0.15667021,  0.5610222 ,  0.3581983 ],\n",
       "       [ 0.54583436, -0.15183699,  0.2905072 , -0.38425088, -0.43466374,\n",
       "         0.4075337 , -0.46342754,  0.01312637,  0.44806713,  0.32547373],\n",
       "       [ 0.06714386,  0.09785599, -0.02567923,  0.52111465,  0.15716058,\n",
       "        -0.54808116, -0.02707583, -0.12527728, -0.6230929 , -0.45852402],\n",
       "       [-0.32650933, -0.3440449 , -0.5501607 ,  0.06667912,  0.63072985,\n",
       "         0.5818098 ,  0.5094772 ,  0.47427052, -0.48623377, -0.603985  ]],\n",
       "      dtype=float32)>"
      ]
     },
     "execution_count": 8,
     "metadata": {},
     "output_type": "execute_result"
    }
   ],
   "source": [
    "#\n",
    "# Continua siendo posible accesar a las variables\n",
    "# de la capa por su nombre\n",
    "#\n",
    "layer.kernel"
   ]
  },
  {
   "cell_type": "markdown",
   "metadata": {},
   "source": [
    "## Capas compuestas"
   ]
  },
  {
   "cell_type": "code",
   "execution_count": 9,
   "metadata": {
    "id": "N30DTXiRASlb",
    "tags": []
   },
   "outputs": [
    {
     "data": {
      "text/plain": [
       "<tf.Tensor: shape=(1, 2, 3, 3), dtype=float32, numpy=\n",
       "array([[[[0., 0., 0.],\n",
       "         [0., 0., 0.],\n",
       "         [0., 0., 0.]],\n",
       "\n",
       "        [[0., 0., 0.],\n",
       "         [0., 0., 0.],\n",
       "         [0., 0., 0.]]]], dtype=float32)>"
      ]
     },
     "execution_count": 9,
     "metadata": {},
     "output_type": "execute_result"
    }
   ],
   "source": [
    "#\n",
    "# Se deriva de la clase Model cuando se requiere fit, evaluate, save, ...\n",
    "#\n",
    "class ResnetIdentityBlock(tf.keras.Model):\n",
    "    \n",
    "    def __init__(self, kernel_size, filters):\n",
    "        #\n",
    "        # Llama al constructor de la clase base\n",
    "        # \n",
    "        super(ResnetIdentityBlock, self).__init__(name=\"\")\n",
    "        \n",
    "        #\n",
    "        # Parametros recibidos a traves del constructor\n",
    "        #\n",
    "        filters1, filters2, filters3 = filters\n",
    "\n",
    "        #\n",
    "        # Crea el modelo como una secuencia de capas\n",
    "        #\n",
    "        self.conv2a = tf.keras.layers.Conv2D(filters1, (1, 1))\n",
    "        self.bn2a = tf.keras.layers.BatchNormalization()\n",
    "        self.conv2b = tf.keras.layers.Conv2D(filters2, kernel_size, padding=\"same\")\n",
    "        self.bn2b = tf.keras.layers.BatchNormalization()\n",
    "        self.conv2c = tf.keras.layers.Conv2D(filters3, (1, 1))\n",
    "        self.bn2c = tf.keras.layers.BatchNormalization()\n",
    "\n",
    "    def call(self, input_tensor, training=False):\n",
    "        #\n",
    "        # Propaga la señal de entrada cuando se recibe \n",
    "        # un input_tensor como entrada al modelo. La \n",
    "        # señal se propaga de una capa a otra mediante\n",
    "        # la variable x\n",
    "        #\n",
    "        x = self.conv2a(input_tensor)\n",
    "        x = self.bn2a(x, training=training)\n",
    "        x = tf.nn.relu(x)\n",
    "        x = self.conv2b(x)\n",
    "        x = self.bn2b(x, training=training)\n",
    "        x = tf.nn.relu(x)\n",
    "        x = self.conv2c(x)\n",
    "        x = self.bn2c(x, training=training)\n",
    "        \n",
    "        #\n",
    "        # Note que este modelo no es secuencial\n",
    "        #\n",
    "        x += input_tensor\n",
    "        return tf.nn.relu(x)\n",
    "\n",
    "\n",
    "#\n",
    "# Ejemplo de la propagación de una señal\n",
    "#\n",
    "block = ResnetIdentityBlock(1, [1, 2, 3])\n",
    "block(tf.zeros([1, 2, 3, 3]))"
   ]
  },
  {
   "cell_type": "code",
   "execution_count": 10,
   "metadata": {},
   "outputs": [
    {
     "data": {
      "text/plain": [
       "[<tensorflow.python.keras.layers.convolutional.Conv2D at 0x7fd798147898>,\n",
       " <tensorflow.python.keras.layers.normalization_v2.BatchNormalization at 0x7fd798147eb8>,\n",
       " <tensorflow.python.keras.layers.convolutional.Conv2D at 0x7fd79813f2e8>,\n",
       " <tensorflow.python.keras.layers.normalization_v2.BatchNormalization at 0x7fd79813f860>,\n",
       " <tensorflow.python.keras.layers.convolutional.Conv2D at 0x7fd79813fc50>,\n",
       " <tensorflow.python.keras.layers.normalization_v2.BatchNormalization at 0x7fd798159240>]"
      ]
     },
     "execution_count": 10,
     "metadata": {},
     "output_type": "execute_result"
    }
   ],
   "source": [
    "#\n",
    "# Capas\n",
    "#\n",
    "block.layers"
   ]
  },
  {
   "cell_type": "code",
   "execution_count": 11,
   "metadata": {},
   "outputs": [
    {
     "data": {
      "text/plain": [
       "18"
      ]
     },
     "execution_count": 11,
     "metadata": {},
     "output_type": "execute_result"
    }
   ],
   "source": [
    "#\n",
    "# Número de variables\n",
    "#\n",
    "len(block.variables)"
   ]
  },
  {
   "cell_type": "code",
   "execution_count": 12,
   "metadata": {},
   "outputs": [
    {
     "name": "stdout",
     "output_type": "stream",
     "text": [
      "Model: \"resnet_identity_block\"\n",
      "_________________________________________________________________\n",
      "Layer (type)                 Output Shape              Param #   \n",
      "=================================================================\n",
      "conv2d (Conv2D)              multiple                  4         \n",
      "_________________________________________________________________\n",
      "batch_normalization (BatchNo multiple                  4         \n",
      "_________________________________________________________________\n",
      "conv2d_1 (Conv2D)            multiple                  4         \n",
      "_________________________________________________________________\n",
      "batch_normalization_1 (Batch multiple                  8         \n",
      "_________________________________________________________________\n",
      "conv2d_2 (Conv2D)            multiple                  9         \n",
      "_________________________________________________________________\n",
      "batch_normalization_2 (Batch multiple                  12        \n",
      "=================================================================\n",
      "Total params: 41\n",
      "Trainable params: 29\n",
      "Non-trainable params: 12\n",
      "_________________________________________________________________\n"
     ]
    }
   ],
   "source": [
    "#\n",
    "# Resumen del modelo\n",
    "#\n",
    "block.summary()"
   ]
  },
  {
   "cell_type": "code",
   "execution_count": 13,
   "metadata": {
    "id": "dewldLuDvQRM"
   },
   "outputs": [
    {
     "data": {
      "text/plain": [
       "18"
      ]
     },
     "execution_count": 13,
     "metadata": {},
     "output_type": "execute_result"
    }
   ],
   "source": [
    "len(block.variables)"
   ]
  },
  {
   "cell_type": "code",
   "execution_count": 14,
   "metadata": {
    "id": "FrqIXeSetaYi"
   },
   "outputs": [
    {
     "name": "stdout",
     "output_type": "stream",
     "text": [
      "Model: \"resnet_identity_block\"\n",
      "_________________________________________________________________\n",
      "Layer (type)                 Output Shape              Param #   \n",
      "=================================================================\n",
      "conv2d (Conv2D)              multiple                  4         \n",
      "_________________________________________________________________\n",
      "batch_normalization (BatchNo multiple                  4         \n",
      "_________________________________________________________________\n",
      "conv2d_1 (Conv2D)            multiple                  4         \n",
      "_________________________________________________________________\n",
      "batch_normalization_1 (Batch multiple                  8         \n",
      "_________________________________________________________________\n",
      "conv2d_2 (Conv2D)            multiple                  9         \n",
      "_________________________________________________________________\n",
      "batch_normalization_2 (Batch multiple                  12        \n",
      "=================================================================\n",
      "Total params: 41\n",
      "Trainable params: 29\n",
      "Non-trainable params: 12\n",
      "_________________________________________________________________\n"
     ]
    }
   ],
   "source": [
    "block.summary()"
   ]
  },
  {
   "cell_type": "markdown",
   "metadata": {},
   "source": [
    "## Creación de modelos con capas secuenciales"
   ]
  },
  {
   "cell_type": "code",
   "execution_count": 15,
   "metadata": {
    "id": "L9frk7Ur4uvJ"
   },
   "outputs": [
    {
     "data": {
      "text/plain": [
       "<tf.Tensor: shape=(1, 2, 3, 3), dtype=float32, numpy=\n",
       "array([[[[0., 0., 0.],\n",
       "         [0., 0., 0.],\n",
       "         [0., 0., 0.]],\n",
       "\n",
       "        [[0., 0., 0.],\n",
       "         [0., 0., 0.],\n",
       "         [0., 0., 0.]]]], dtype=float32)>"
      ]
     },
     "execution_count": 15,
     "metadata": {},
     "output_type": "execute_result"
    }
   ],
   "source": [
    "#\n",
    "# Cuando el modelo es secuencial, se puede crear\n",
    "# directamente a traves de Sequential\n",
    "#\n",
    "my_seq = tf.keras.Sequential(\n",
    "    [\n",
    "        tf.keras.layers.Conv2D(1, (1, 1), input_shape=(None, None, 3)),\n",
    "        tf.keras.layers.BatchNormalization(),\n",
    "        tf.keras.layers.Conv2D(2, 1, padding=\"same\"),\n",
    "        tf.keras.layers.BatchNormalization(),\n",
    "        tf.keras.layers.Conv2D(3, (1, 1)),\n",
    "        tf.keras.layers.BatchNormalization(),\n",
    "    ]\n",
    ")\n",
    "\n",
    "\n",
    "my_seq(tf.zeros([1, 2, 3, 3]))"
   ]
  },
  {
   "cell_type": "code",
   "execution_count": 16,
   "metadata": {
    "id": "tVAsbFITuScB",
    "tags": []
   },
   "outputs": [
    {
     "name": "stdout",
     "output_type": "stream",
     "text": [
      "Model: \"sequential\"\n",
      "_________________________________________________________________\n",
      "Layer (type)                 Output Shape              Param #   \n",
      "=================================================================\n",
      "conv2d_3 (Conv2D)            (None, None, None, 1)     4         \n",
      "_________________________________________________________________\n",
      "batch_normalization_3 (Batch (None, None, None, 1)     4         \n",
      "_________________________________________________________________\n",
      "conv2d_4 (Conv2D)            (None, None, None, 2)     4         \n",
      "_________________________________________________________________\n",
      "batch_normalization_4 (Batch (None, None, None, 2)     8         \n",
      "_________________________________________________________________\n",
      "conv2d_5 (Conv2D)            (None, None, None, 3)     9         \n",
      "_________________________________________________________________\n",
      "batch_normalization_5 (Batch (None, None, None, 3)     12        \n",
      "=================================================================\n",
      "Total params: 41\n",
      "Trainable params: 29\n",
      "Non-trainable params: 12\n",
      "_________________________________________________________________\n"
     ]
    }
   ],
   "source": [
    "my_seq.summary()"
   ]
  }
 ],
 "metadata": {
  "colab": {
   "collapsed_sections": [],
   "name": "custom_layers.ipynb",
   "toc_visible": true
  },
  "kernelspec": {
   "display_name": "Python 3",
   "language": "python",
   "name": "python3"
  },
  "language_info": {
   "codemirror_mode": {
    "name": "ipython",
    "version": 3
   },
   "file_extension": ".py",
   "mimetype": "text/x-python",
   "name": "python",
   "nbconvert_exporter": "python",
   "pygments_lexer": "ipython3",
   "version": "3.6.9"
  }
 },
 "nbformat": 4,
 "nbformat_minor": 4
}
