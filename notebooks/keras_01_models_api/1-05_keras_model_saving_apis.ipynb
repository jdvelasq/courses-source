{
 "cells": [
  {
   "cell_type": "markdown",
   "id": "c2872ef0-df55-4084-b2f2-445175980d39",
   "metadata": {
    "tags": []
   },
   "source": [
    "Almacenamiento y recuperación de modelos --- 0:00 min\n",
    "===\n",
    "\n",
    "* Última modificación: Marzo 7, 2022 | YouTube\n",
    "\n",
    "* Adaptado de: https://keras.io/api/models/model_saving_apis/"
   ]
  },
  {
   "cell_type": "markdown",
   "id": "ecb2fe0f-e07d-4a54-aac7-495ebbb88722",
   "metadata": {
    "tags": []
   },
   "source": [
    "Importación de librerías\n",
    "---"
   ]
  },
  {
   "cell_type": "code",
   "execution_count": 1,
   "id": "55c97407-4b4e-401f-ab46-d48facc72fbc",
   "metadata": {},
   "outputs": [
    {
     "data": {
      "text/plain": [
       "'2.8.0'"
      ]
     },
     "execution_count": 1,
     "metadata": {},
     "output_type": "execute_result"
    }
   ],
   "source": [
    "import os\n",
    "\n",
    "os.environ[\"TF_CPP_MIN_LOG_LEVEL\"] = \"2\"\n",
    "\n",
    "import tensorflow as tf\n",
    "\n",
    "tf.__version__"
   ]
  },
  {
   "cell_type": "markdown",
   "id": "c9c9287d-7574-43a3-9e04-53ba7e047177",
   "metadata": {},
   "source": [
    "Método save()\n",
    "--"
   ]
  },
  {
   "cell_type": "code",
   "execution_count": 2,
   "id": "889c4f29-6633-4caf-93d2-29803b6e2a61",
   "metadata": {},
   "outputs": [
    {
     "name": "stdout",
     "output_type": "stream",
     "text": [
      "Model: \"sequential\"\n",
      "_________________________________________________________________\n",
      " Layer (type)                Output Shape              Param #   \n",
      "=================================================================\n",
      " flatten (Flatten)           (None, 784)               0         \n",
      "                                                                 \n",
      " dense (Dense)               (None, 128)               100480    \n",
      "                                                                 \n",
      " dense_1 (Dense)             (None, 10)                1290      \n",
      "                                                                 \n",
      "=================================================================\n",
      "Total params: 101,770\n",
      "Trainable params: 101,770\n",
      "Non-trainable params: 0\n",
      "_________________________________________________________________\n"
     ]
    }
   ],
   "source": [
    "model = tf.keras.models.Sequential(\n",
    "    [\n",
    "        tf.keras.layers.Flatten(input_shape=(28, 28)),\n",
    "        tf.keras.layers.Dense(128, activation=\"relu\"),\n",
    "        tf.keras.layers.Dense(10),\n",
    "    ]\n",
    ")\n",
    "\n",
    "model.compile(\n",
    "    optimizer=\"adam\",\n",
    "    loss=tf.keras.losses.SparseCategoricalCrossentropy(from_logits=True),\n",
    "    metrics=[\"accuracy\"],\n",
    ")\n",
    "\n",
    "#\n",
    "# Crea un archivo HDF5\n",
    "#\n",
    "model.save(\n",
    "    # -------------------------------------------------------------------------\n",
    "    # ubicación\n",
    "    filepath=\"/tmp/my_model.h5\",\n",
    "    # -------------------------------------------------------------------------\n",
    "    # ?sobrescribe el archivo\n",
    "    overwrite=True,\n",
    "    # -------------------------------------------------------------------------\n",
    "    # True: savla el estado del optimizador\n",
    "    include_optimizer=True,\n",
    "    # -------------------------------------------------------------------------\n",
    "    # 'tf' o 'h5'\n",
    "    save_format=None,\n",
    ")\n",
    "\n",
    "\n",
    "#\n",
    "# Borra el modelo existente\n",
    "#\n",
    "del model\n",
    "\n",
    "#\n",
    "# Retorna un modelo compilado idéntico al anterior\n",
    "#\n",
    "loaded_model = tf.keras.models.load_model(\n",
    "    # -------------------------------------------------------------------------\n",
    "    # ubicación\n",
    "    filepath=\"/tmp/my_model.h5\",\n",
    "    # -------------------------------------------------------------------------\n",
    "    # compila el modelo?\n",
    "    compile=True,\n",
    ")\n",
    "loaded_model.summary()"
   ]
  },
  {
   "cell_type": "markdown",
   "id": "0b7bc517-b93c-47eb-bdb5-0e8937ae070d",
   "metadata": {},
   "source": [
    "Método save_model()\n",
    "--"
   ]
  },
  {
   "cell_type": "code",
   "execution_count": 3,
   "id": "0c318de4-4e12-42dc-926b-372eba684a55",
   "metadata": {},
   "outputs": [
    {
     "name": "stdout",
     "output_type": "stream",
     "text": [
      "INFO:tensorflow:Assets written to: /tmp/my_model/assets\n",
      "Model: \"sequential_1\"\n",
      "_________________________________________________________________\n",
      " Layer (type)                Output Shape              Param #   \n",
      "=================================================================\n",
      " flatten_1 (Flatten)         (None, 784)               0         \n",
      "                                                                 \n",
      " dense_2 (Dense)             (None, 128)               100480    \n",
      "                                                                 \n",
      " dense_3 (Dense)             (None, 10)                1290      \n",
      "                                                                 \n",
      "=================================================================\n",
      "Total params: 101,770\n",
      "Trainable params: 101,770\n",
      "Non-trainable params: 0\n",
      "_________________________________________________________________\n"
     ]
    }
   ],
   "source": [
    "model = tf.keras.models.Sequential(\n",
    "    [\n",
    "        tf.keras.layers.Flatten(input_shape=(28, 28)),\n",
    "        tf.keras.layers.Dense(128, activation=\"relu\"),\n",
    "        tf.keras.layers.Dense(10),\n",
    "    ]\n",
    ")\n",
    "\n",
    "model.compile(\n",
    "    optimizer=\"adam\",\n",
    "    loss=tf.keras.losses.SparseCategoricalCrossentropy(from_logits=True),\n",
    "    metrics=[\"accuracy\"],\n",
    ")\n",
    "\n",
    "#\n",
    "# Salva:\n",
    "#   * la topología\n",
    "#   * los pesos del modelo\n",
    "#   * el estado final del optimizador\n",
    "#\n",
    "tf.keras.models.save_model(\n",
    "    # -------------------------------------------------------------------------\n",
    "    # Modelo\n",
    "    model=model,\n",
    "    # -------------------------------------------------------------------------\n",
    "    # ubicación\n",
    "    filepath=\"/tmp/my_model\",\n",
    "    # -------------------------------------------------------------------------\n",
    "    # ?sobrescribe el archivo\n",
    "    overwrite=True,\n",
    "    # -------------------------------------------------------------------------\n",
    "    # True: savla el estado del optimizador\n",
    "    include_optimizer=True,\n",
    "    # -------------------------------------------------------------------------\n",
    "    # 'tf' o 'h5'\n",
    "    save_format=None,\n",
    ")\n",
    "\n",
    "\n",
    "#\n",
    "# Borra el modelo existente\n",
    "#\n",
    "del model\n",
    "\n",
    "#\n",
    "# Retorna un modelo compilado idéntico al anterior\n",
    "#\n",
    "loaded_model = tf.keras.models.load_model(\n",
    "    # -------------------------------------------------------------------------\n",
    "    # ubicación\n",
    "    \"/tmp/my_model\",\n",
    "    # -------------------------------------------------------------------------\n",
    "    # compila el modelo?\n",
    "    compile=True,\n",
    ")\n",
    "loaded_model.summary()\n",
    "\n",
    "#\n",
    "# Salva:\n",
    "#   * la topología\n",
    "#   * los pesos del modelo\n",
    "#   * el estado final del optimizador\n",
    "#"
   ]
  },
  {
   "cell_type": "markdown",
   "id": "441d6aad-5c09-4bcf-9380-95eb02a91e89",
   "metadata": {},
   "source": [
    "Método get_weights()\n",
    "---"
   ]
  },
  {
   "cell_type": "code",
   "execution_count": 4,
   "id": "b8a96697-692c-4a74-8c0b-95d152db3583",
   "metadata": {},
   "outputs": [
    {
     "data": {
      "text/plain": [
       "[array([[-0.06984155,  0.02507234,  0.01924217, ...,  0.0227337 ,\n",
       "         -0.06960434, -0.01747138],\n",
       "        [-0.05716262,  0.06497694, -0.03669458, ..., -0.00330807,\n",
       "          0.00108925,  0.03844815],\n",
       "        [ 0.07452831,  0.06880001,  0.043356  , ..., -0.04278558,\n",
       "         -0.0315415 , -0.07392622],\n",
       "        ...,\n",
       "        [-0.07179873, -0.02161216, -0.07854554, ...,  0.03208162,\n",
       "         -0.0772898 , -0.03342146],\n",
       "        [ 0.07065513, -0.04715319,  0.05597118, ..., -0.01063549,\n",
       "          0.03065869, -0.03979395],\n",
       "        [ 0.00348944, -0.05249625, -0.05439438, ..., -0.01206149,\n",
       "          0.0014285 , -0.06020719]], dtype=float32),\n",
       " array([0., 0., 0., 0., 0., 0., 0., 0., 0., 0., 0., 0., 0., 0., 0., 0., 0.,\n",
       "        0., 0., 0., 0., 0., 0., 0., 0., 0., 0., 0., 0., 0., 0., 0., 0., 0.,\n",
       "        0., 0., 0., 0., 0., 0., 0., 0., 0., 0., 0., 0., 0., 0., 0., 0., 0.,\n",
       "        0., 0., 0., 0., 0., 0., 0., 0., 0., 0., 0., 0., 0., 0., 0., 0., 0.,\n",
       "        0., 0., 0., 0., 0., 0., 0., 0., 0., 0., 0., 0., 0., 0., 0., 0., 0.,\n",
       "        0., 0., 0., 0., 0., 0., 0., 0., 0., 0., 0., 0., 0., 0., 0., 0., 0.,\n",
       "        0., 0., 0., 0., 0., 0., 0., 0., 0., 0., 0., 0., 0., 0., 0., 0., 0.,\n",
       "        0., 0., 0., 0., 0., 0., 0., 0., 0.], dtype=float32),\n",
       " array([[ 0.05482428,  0.18053062, -0.2017944 , ..., -0.1141637 ,\n",
       "          0.13709424, -0.12575474],\n",
       "        [-0.16042495,  0.19728069,  0.1487294 , ...,  0.15190957,\n",
       "         -0.15112878, -0.04905038],\n",
       "        [-0.06656387,  0.18049438,  0.02970718, ...,  0.06264146,\n",
       "          0.10522349, -0.17422014],\n",
       "        ...,\n",
       "        [ 0.017773  , -0.16375084,  0.06140916, ..., -0.00142166,\n",
       "         -0.03859633,  0.06388937],\n",
       "        [ 0.13632683, -0.07994954, -0.08841345, ..., -0.02348953,\n",
       "         -0.06176291,  0.17503501],\n",
       "        [-0.0679148 , -0.13591936, -0.0148807 , ...,  0.20342933,\n",
       "         -0.02867019, -0.09614885]], dtype=float32),\n",
       " array([0., 0., 0., 0., 0., 0., 0., 0., 0., 0.], dtype=float32)]"
      ]
     },
     "execution_count": 4,
     "metadata": {},
     "output_type": "execute_result"
    }
   ],
   "source": [
    "#\n",
    "# Retorna los pesos del modelo como una lissta de arrays de NumPy\n",
    "#\n",
    "loaded_model.get_weights()"
   ]
  },
  {
   "cell_type": "markdown",
   "id": "dea0533c-5c00-4b5a-b978-6df33eb05c98",
   "metadata": {},
   "source": [
    "Método set_weights()\n",
    "--"
   ]
  },
  {
   "cell_type": "code",
   "execution_count": 5,
   "id": "a1240de2-9bf2-4e3f-b9ed-3334208edfe5",
   "metadata": {},
   "outputs": [
    {
     "data": {
      "text/plain": [
       "[array([[1.],\n",
       "        [1.],\n",
       "        [1.]], dtype=float32),\n",
       " array([0.], dtype=float32)]"
      ]
     },
     "execution_count": 5,
     "metadata": {},
     "output_type": "execute_result"
    }
   ],
   "source": [
    "#\n",
    "# Fija los pesos de las capas a partir de arrays de NumPy\n",
    "#\n",
    "layer_a = tf.keras.layers.Dense(\n",
    "    1,\n",
    "    kernel_initializer=tf.constant_initializer(1.0),\n",
    ")\n",
    "\n",
    "a_out = layer_a(\n",
    "    tf.convert_to_tensor([[1.0, 2.0, 3.0]]),\n",
    ")\n",
    "\n",
    "layer_a.get_weights()"
   ]
  },
  {
   "cell_type": "code",
   "execution_count": 6,
   "id": "9ffed026-c57d-41e4-a3f8-31d27c698ba9",
   "metadata": {},
   "outputs": [
    {
     "data": {
      "text/plain": [
       "[array([[2.],\n",
       "        [2.],\n",
       "        [2.]], dtype=float32),\n",
       " array([0.], dtype=float32)]"
      ]
     },
     "execution_count": 6,
     "metadata": {},
     "output_type": "execute_result"
    }
   ],
   "source": [
    "layer_b = tf.keras.layers.Dense(\n",
    "    1,\n",
    "    kernel_initializer=tf.constant_initializer(2.0),\n",
    ")\n",
    "\n",
    "b_out = layer_b(tf.convert_to_tensor([[10.0, 20.0, 30.0]]))\n",
    "\n",
    "layer_b.get_weights()"
   ]
  },
  {
   "cell_type": "code",
   "execution_count": 7,
   "id": "45399371-20f3-4c48-a2f9-9b917aa93220",
   "metadata": {},
   "outputs": [
    {
     "data": {
      "text/plain": [
       "[array([[1.],\n",
       "        [1.],\n",
       "        [1.]], dtype=float32),\n",
       " array([0.], dtype=float32)]"
      ]
     },
     "execution_count": 7,
     "metadata": {},
     "output_type": "execute_result"
    }
   ],
   "source": [
    "layer_b.set_weights(\n",
    "    layer_a.get_weights(),\n",
    ")\n",
    "\n",
    "layer_b.get_weights()"
   ]
  },
  {
   "cell_type": "markdown",
   "id": "f748fcb1-af88-47f3-8ee4-1e79a44293f5",
   "metadata": {},
   "source": [
    "Método save_weights()\n",
    "---"
   ]
  },
  {
   "cell_type": "code",
   "execution_count": 8,
   "id": "deb9b4d1-ebe1-4316-a4ad-b72b08fbbad0",
   "metadata": {},
   "outputs": [
    {
     "data": {
      "text/plain": [
       "<tf.Variable 'dense_6/kernel:0' shape=(784, 128) dtype=float32, numpy=\n",
       "array([[-0.06439099,  0.06659981,  0.07653946, ..., -0.02746918,\n",
       "         0.04222253, -0.0055224 ],\n",
       "       [ 0.06719723,  0.05394477, -0.07517509, ...,  0.074471  ,\n",
       "         0.07586847, -0.00518446],\n",
       "       [-0.00146814,  0.02562246,  0.01847823, ...,  0.00901797,\n",
       "         0.00421318,  0.06471889],\n",
       "       ...,\n",
       "       [-0.06790721,  0.02154292, -0.04572994, ...,  0.00327417,\n",
       "        -0.05293693, -0.07382432],\n",
       "       [ 0.01967525, -0.06634507, -0.06201679, ...,  0.0518998 ,\n",
       "         0.07687452,  0.06091479],\n",
       "       [ 0.03840828,  0.00026451, -0.04334846, ..., -0.03370124,\n",
       "         0.03859642,  0.07586288]], dtype=float32)>"
      ]
     },
     "execution_count": 8,
     "metadata": {},
     "output_type": "execute_result"
    }
   ],
   "source": [
    "model = tf.keras.models.Sequential(\n",
    "    [\n",
    "        tf.keras.layers.Flatten(input_shape=(28, 28)),\n",
    "        tf.keras.layers.Dense(128, activation=\"relu\"),\n",
    "        tf.keras.layers.Dense(10),\n",
    "    ]\n",
    ")\n",
    "\n",
    "model.compile(\n",
    "    optimizer=\"adam\",\n",
    "    loss=tf.keras.losses.SparseCategoricalCrossentropy(from_logits=True),\n",
    "    metrics=[\"accuracy\"],\n",
    ")\n",
    "\n",
    "#\n",
    "# Salva los pesos de todas las capas\n",
    "#\n",
    "model.save_weights(\n",
    "    filepath='/tmp/weights_example',\n",
    "    overwrite=True,\n",
    "    save_format=None, # por defecto en formato tf\n",
    ")\n",
    "\n",
    "model.weights[0]"
   ]
  },
  {
   "cell_type": "markdown",
   "id": "b179c062-45fd-4546-8042-3aee0ae5c324",
   "metadata": {},
   "source": [
    "Método load_weights()\n",
    "--"
   ]
  },
  {
   "cell_type": "code",
   "execution_count": 9,
   "id": "32ff4ef2-e7a6-48d8-85cd-a3c7410fbb24",
   "metadata": {},
   "outputs": [
    {
     "data": {
      "text/plain": [
       "<tf.Variable 'dense_8/kernel:0' shape=(784, 128) dtype=float32, numpy=\n",
       "array([[-0.06439099,  0.06659981,  0.07653946, ..., -0.02746918,\n",
       "         0.04222253, -0.0055224 ],\n",
       "       [ 0.06719723,  0.05394477, -0.07517509, ...,  0.074471  ,\n",
       "         0.07586847, -0.00518446],\n",
       "       [-0.00146814,  0.02562246,  0.01847823, ...,  0.00901797,\n",
       "         0.00421318,  0.06471889],\n",
       "       ...,\n",
       "       [-0.06790721,  0.02154292, -0.04572994, ...,  0.00327417,\n",
       "        -0.05293693, -0.07382432],\n",
       "       [ 0.01967525, -0.06634507, -0.06201679, ...,  0.0518998 ,\n",
       "         0.07687452,  0.06091479],\n",
       "       [ 0.03840828,  0.00026451, -0.04334846, ..., -0.03370124,\n",
       "         0.03859642,  0.07586288]], dtype=float32)>"
      ]
     },
     "execution_count": 9,
     "metadata": {},
     "output_type": "execute_result"
    }
   ],
   "source": [
    "# \n",
    "# Crea un nuevo modelo con pesos aleatorios diferentes\n",
    "\n",
    "model = tf.keras.models.Sequential(\n",
    "    [\n",
    "        tf.keras.layers.Flatten(input_shape=(28, 28)),\n",
    "        tf.keras.layers.Dense(128, activation=\"relu\"),\n",
    "        tf.keras.layers.Dense(10),\n",
    "    ]\n",
    ")\n",
    "\n",
    "model.load_weights(\n",
    "    # -------------------------------------------------------------------------\n",
    "    # directorio o archivo\n",
    "    filepath='/tmp/weights_example',\n",
    "    # -------------------------------------------------------------------------\n",
    "    # ?se cargan los pesos a partir de la topologia o por los nombres de las \n",
    "    # capas\n",
    "    by_name=False,\n",
    ")\n",
    "\n",
    "model.weights[0]"
   ]
  },
  {
   "cell_type": "markdown",
   "id": "547f7251-3c05-415a-a6a6-a23b7470a589",
   "metadata": {},
   "source": [
    "Método get_config()\n",
    "---"
   ]
  },
  {
   "cell_type": "code",
   "execution_count": 10,
   "id": "b12ac87f-1d3c-4671-bcb7-d27cba885743",
   "metadata": {},
   "outputs": [
    {
     "data": {
      "text/plain": [
       "{'name': 'sequential_3',\n",
       " 'layers': [{'class_name': 'InputLayer',\n",
       "   'config': {'batch_input_shape': (None, 28, 28),\n",
       "    'dtype': 'float32',\n",
       "    'sparse': False,\n",
       "    'ragged': False,\n",
       "    'name': 'flatten_3_input'}},\n",
       "  {'class_name': 'Flatten',\n",
       "   'config': {'name': 'flatten_3',\n",
       "    'trainable': True,\n",
       "    'batch_input_shape': (None, 28, 28),\n",
       "    'dtype': 'float32',\n",
       "    'data_format': 'channels_last'}},\n",
       "  {'class_name': 'Dense',\n",
       "   'config': {'name': 'dense_8',\n",
       "    'trainable': True,\n",
       "    'dtype': 'float32',\n",
       "    'units': 128,\n",
       "    'activation': 'relu',\n",
       "    'use_bias': True,\n",
       "    'kernel_initializer': {'class_name': 'GlorotUniform',\n",
       "     'config': {'seed': None}},\n",
       "    'bias_initializer': {'class_name': 'Zeros', 'config': {}},\n",
       "    'kernel_regularizer': None,\n",
       "    'bias_regularizer': None,\n",
       "    'activity_regularizer': None,\n",
       "    'kernel_constraint': None,\n",
       "    'bias_constraint': None}},\n",
       "  {'class_name': 'Dense',\n",
       "   'config': {'name': 'dense_9',\n",
       "    'trainable': True,\n",
       "    'dtype': 'float32',\n",
       "    'units': 10,\n",
       "    'activation': 'linear',\n",
       "    'use_bias': True,\n",
       "    'kernel_initializer': {'class_name': 'GlorotUniform',\n",
       "     'config': {'seed': None}},\n",
       "    'bias_initializer': {'class_name': 'Zeros', 'config': {}},\n",
       "    'kernel_regularizer': None,\n",
       "    'bias_regularizer': None,\n",
       "    'activity_regularizer': None,\n",
       "    'kernel_constraint': None,\n",
       "    'bias_constraint': None}}]}"
      ]
     },
     "execution_count": 10,
     "metadata": {},
     "output_type": "execute_result"
    }
   ],
   "source": [
    "#\n",
    "# Retorna la configuración del modelo o la capa.\n",
    "#\n",
    "model.get_config()"
   ]
  },
  {
   "cell_type": "markdown",
   "id": "e4cb386f-6666-42ff-8e64-d45985728ad3",
   "metadata": {},
   "source": [
    "Método from_config()\n",
    "---"
   ]
  },
  {
   "cell_type": "code",
   "execution_count": 11,
   "id": "a49a9fc5-0c96-4a2d-9d7c-245e870daaa1",
   "metadata": {},
   "outputs": [
    {
     "name": "stdout",
     "output_type": "stream",
     "text": [
      "Model: \"sequential_3\"\n",
      "_________________________________________________________________\n",
      " Layer (type)                Output Shape              Param #   \n",
      "=================================================================\n",
      " flatten_3 (Flatten)         (None, 784)               0         \n",
      "                                                                 \n",
      " dense_8 (Dense)             (None, 128)               100480    \n",
      "                                                                 \n",
      " dense_9 (Dense)             (None, 10)                1290      \n",
      "                                                                 \n",
      "=================================================================\n",
      "Total params: 101,770\n",
      "Trainable params: 101,770\n",
      "Non-trainable params: 0\n",
      "_________________________________________________________________\n"
     ]
    }
   ],
   "source": [
    "#\n",
    "# Crea un modelo una capa a paratir de la configuración obtenida con el método\n",
    "# get_config()\n",
    "#\n",
    "\n",
    "model.from_config(\n",
    "   model.get_config()\n",
    ")\n",
    "model.summary()"
   ]
  },
  {
   "cell_type": "markdown",
   "id": "885dc1ce-bf3e-45c9-a498-aebc44602922",
   "metadata": {},
   "source": [
    "Método to_json()\n",
    "---"
   ]
  },
  {
   "cell_type": "code",
   "execution_count": 12,
   "id": "a5e95052-6d54-4c0f-b4b5-b9800db72ede",
   "metadata": {},
   "outputs": [
    {
     "data": {
      "text/plain": [
       "'{\"class_name\": \"Sequential\", \"config\": {\"name\": \"sequential_3\", \"layers\": [{\"class_name\": \"InputLayer\", \"config\": {\"batch_input_shape\": [null, 28, 28], \"dtype\": \"float32\", \"sparse\": false, \"ragged\": false, \"name\": \"flatten_3_input\"}}, {\"class_name\": \"Flatten\", \"config\": {\"name\": \"flatten_3\", \"trainable\": true, \"batch_input_shape\": [null, 28, 28], \"dtype\": \"float32\", \"data_format\": \"channels_last\"}}, {\"class_name\": \"Dense\", \"config\": {\"name\": \"dense_8\", \"trainable\": true, \"dtype\": \"float32\", \"units\": 128, \"activation\": \"relu\", \"use_bias\": true, \"kernel_initializer\": {\"class_name\": \"GlorotUniform\", \"config\": {\"seed\": null}}, \"bias_initializer\": {\"class_name\": \"Zeros\", \"config\": {}}, \"kernel_regularizer\": null, \"bias_regularizer\": null, \"activity_regularizer\": null, \"kernel_constraint\": null, \"bias_constraint\": null}}, {\"class_name\": \"Dense\", \"config\": {\"name\": \"dense_9\", \"trainable\": true, \"dtype\": \"float32\", \"units\": 10, \"activation\": \"linear\", \"use_bias\": true, \"kernel_initializer\": {\"class_name\": \"GlorotUniform\", \"config\": {\"seed\": null}}, \"bias_initializer\": {\"class_name\": \"Zeros\", \"config\": {}}, \"kernel_regularizer\": null, \"bias_regularizer\": null, \"activity_regularizer\": null, \"kernel_constraint\": null, \"bias_constraint\": null}}]}, \"keras_version\": \"2.8.0\", \"backend\": \"tensorflow\"}'"
      ]
     },
     "execution_count": 12,
     "metadata": {},
     "output_type": "execute_result"
    }
   ],
   "source": [
    "#\n",
    "# Retorna un string json que contiene la configuración del modelo\n",
    "#\n",
    "model.to_json()"
   ]
  },
  {
   "cell_type": "markdown",
   "id": "412338d7-9eca-4207-a0f7-7cdddf32ffa2",
   "metadata": {},
   "source": [
    "Método from_json()\n",
    "--"
   ]
  },
  {
   "cell_type": "code",
   "execution_count": 13,
   "id": "62019ace-91b9-4642-8baa-3d4bb3fe4d40",
   "metadata": {},
   "outputs": [
    {
     "name": "stdout",
     "output_type": "stream",
     "text": [
      "Model: \"sequential_3\"\n",
      "_________________________________________________________________\n",
      " Layer (type)                Output Shape              Param #   \n",
      "=================================================================\n",
      " flatten_3 (Flatten)         (None, 784)               0         \n",
      "                                                                 \n",
      " dense_8 (Dense)             (None, 128)               100480    \n",
      "                                                                 \n",
      " dense_9 (Dense)             (None, 10)                1290      \n",
      "                                                                 \n",
      "=================================================================\n",
      "Total params: 101,770\n",
      "Trainable params: 101,770\n",
      "Non-trainable params: 0\n",
      "_________________________________________________________________\n"
     ]
    }
   ],
   "source": [
    "#\n",
    "# Retorna un modelo a partir de su configuración json\n",
    "#\n",
    "tf.keras.models.model_from_json(\n",
    "    model.to_json()\n",
    ").summary()"
   ]
  },
  {
   "cell_type": "markdown",
   "id": "d364571d-b834-4c8c-8e0a-a2ed58a248e7",
   "metadata": {},
   "source": [
    "Método clone()\n",
    "--"
   ]
  },
  {
   "cell_type": "code",
   "execution_count": 14,
   "id": "1f541e18-c0b8-4cc1-9ad3-dfa775086b37",
   "metadata": {},
   "outputs": [
    {
     "name": "stdout",
     "output_type": "stream",
     "text": [
      "Model: \"sequential_3\"\n",
      "_________________________________________________________________\n",
      " Layer (type)                Output Shape              Param #   \n",
      "=================================================================\n",
      " flatten_3 (Flatten)         (None, 784)               0         \n",
      "                                                                 \n",
      " dense_8 (Dense)             (None, 128)               100480    \n",
      "                                                                 \n",
      " dense_9 (Dense)             (None, 10)                1290      \n",
      "                                                                 \n",
      "=================================================================\n",
      "Total params: 101,770\n",
      "Trainable params: 101,770\n",
      "Non-trainable params: 0\n",
      "_________________________________________________________________\n"
     ]
    }
   ],
   "source": [
    "#\n",
    "# Clona una instancia de un modelo\n",
    "#\n",
    "tf.keras.models.clone_model(\n",
    "    model=model,\n",
    ").summary()"
   ]
  }
 ],
 "metadata": {
  "kernelspec": {
   "display_name": "Python 3 (ipykernel)",
   "language": "python",
   "name": "python3"
  },
  "language_info": {
   "codemirror_mode": {
    "name": "ipython",
    "version": 3
   },
   "file_extension": ".py",
   "mimetype": "text/x-python",
   "name": "python",
   "nbconvert_exporter": "python",
   "pygments_lexer": "ipython3",
   "version": "3.9.10"
  }
 },
 "nbformat": 4,
 "nbformat_minor": 5
}
