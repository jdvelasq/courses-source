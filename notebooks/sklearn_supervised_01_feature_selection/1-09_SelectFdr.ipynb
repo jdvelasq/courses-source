{
 "cells": [
  {
   "cell_type": "markdown",
   "id": "29814a53-91fc-42cc-8374-12dbc6593a78",
   "metadata": {
    "slideshow": {
     "slide_type": "slide"
    },
    "tags": []
   },
   "source": [
    "Selección de características basadas en la tasa de descubrimientos falsos (SelectFdr)  --- 1:45 min\n",
    "===\n",
    "\n",
    "* 1:45 min | Última modificación: Octubre 11, 2021 | [YouTube](https://youtu.be/upfd2JupPHE)"
   ]
  },
  {
   "cell_type": "markdown",
   "id": "5eb1fff9-4a9f-4d6f-b55d-e28144516227",
   "metadata": {},
   "source": [
    "Este metodología selecciona las características para una tasa de descubrimientos falsos."
   ]
  },
  {
   "cell_type": "markdown",
   "id": "c079b6c6-93b9-4b8e-b7e9-df630b7be5b7",
   "metadata": {},
   "source": [
    "FDR: False Discovery Rate."
   ]
  },
  {
   "cell_type": "markdown",
   "id": "6fc85e40-747e-440c-9d56-4ff4a979c382",
   "metadata": {},
   "source": [
    "* Ordena los valores críticos de menor a mayor.\n",
    "\n",
    "* Selecciona las variables para las cuales:\n",
    "\n",
    "$$\n",
    "\\text{p-value}_i < (i +1) * \\frac{\\alpha}{n}\n",
    "$$\n",
    "\n",
    "con $i=0,...$. $n$ es el número de características."
   ]
  },
  {
   "cell_type": "code",
   "execution_count": 1,
   "id": "2185dd35-0b5c-4de1-935b-94585a3eefc5",
   "metadata": {},
   "outputs": [
    {
     "data": {
      "text/plain": [
       "(569, 30)"
      ]
     },
     "execution_count": 1,
     "metadata": {},
     "output_type": "execute_result"
    }
   ],
   "source": [
    "from sklearn.datasets import load_breast_cancer\n",
    "\n",
    "X, y = load_breast_cancer(return_X_y=True)\n",
    "X.shape"
   ]
  },
  {
   "cell_type": "code",
   "execution_count": 2,
   "id": "32c46d75-c468-4d55-a7cd-4fbc55436f2d",
   "metadata": {},
   "outputs": [
    {
     "data": {
      "text/plain": [
       "(569, 16)"
      ]
     },
     "execution_count": 2,
     "metadata": {},
     "output_type": "execute_result"
    }
   ],
   "source": [
    "from sklearn.feature_selection import SelectFdr, chi2\n",
    "\n",
    "selectFdr = SelectFdr(\n",
    "    # -------------------------------------------------------------------------\n",
    "    # Function taking two arrays X and y, and returning a pair of arrays\n",
    "    # (scores, pvalues).\n",
    "    score_func=chi2,\n",
    "    # -------------------------------------------------------------------------\n",
    "    # The highest p-value for features to be kept.\n",
    "    alpha=0.01,\n",
    ")\n",
    "\n",
    "selectFdr.fit(X, y)\n",
    "\n",
    "X_new = selectFdr.transform(X)\n",
    "X_new.shape"
   ]
  },
  {
   "cell_type": "code",
   "execution_count": 3,
   "id": "1b9772e7-0cce-434e-aeaf-66bcee6091f9",
   "metadata": {},
   "outputs": [
    {
     "data": {
      "text/plain": [
       "array([2.66104917e+02, 9.38975081e+01, 2.01110286e+03, 5.39916559e+04,\n",
       "       1.49899264e-01, 5.40307549e+00, 1.97123536e+01, 1.05440354e+01,\n",
       "       2.57379775e-01, 7.43065536e-05, 3.46752472e+01, 9.79353970e-03,\n",
       "       2.50571896e+02, 8.75850471e+03, 3.26620664e-03, 6.13785332e-01,\n",
       "       1.04471761e+00, 3.05231563e-01, 8.03633831e-05, 6.37136566e-03,\n",
       "       4.91689157e+02, 1.74449400e+02, 3.66503542e+03, 1.12598432e+05,\n",
       "       3.97365694e-01, 1.93149220e+01, 3.95169151e+01, 1.34854195e+01,\n",
       "       1.29886140e+00, 2.31522407e-01])"
      ]
     },
     "execution_count": 3,
     "metadata": {},
     "output_type": "execute_result"
    }
   ],
   "source": [
    "selectFdr.scores_"
   ]
  },
  {
   "cell_type": "code",
   "execution_count": 4,
   "id": "f35dbb1e-2fcc-4b62-bbb4-54c306cb0dc9",
   "metadata": {},
   "outputs": [
    {
     "data": {
      "text/plain": [
       "array([8.01397628e-060, 3.32292194e-022, 0.00000000e+000, 0.00000000e+000,\n",
       "       6.98631644e-001, 2.01012999e-002, 9.00175712e-006, 1.16563638e-003,\n",
       "       6.11926026e-001, 9.93122221e-001, 3.89553429e-009, 9.21168192e-001,\n",
       "       1.94877489e-056, 0.00000000e+000, 9.54425121e-001, 4.33366115e-001,\n",
       "       3.06726812e-001, 5.80621137e-001, 9.92847410e-001, 9.36379753e-001,\n",
       "       6.11324751e-109, 7.89668299e-040, 0.00000000e+000, 0.00000000e+000,\n",
       "       5.28452867e-001, 1.10836762e-005, 3.25230064e-010, 2.40424384e-004,\n",
       "       2.54421307e-001, 6.30397277e-001])"
      ]
     },
     "execution_count": 4,
     "metadata": {},
     "output_type": "execute_result"
    }
   ],
   "source": [
    "selectFdr.pvalues_"
   ]
  }
 ],
 "metadata": {
  "kernelspec": {
   "display_name": "Python 3",
   "language": "python",
   "name": "python3"
  },
  "language_info": {
   "codemirror_mode": {
    "name": "ipython",
    "version": 3
   },
   "file_extension": ".py",
   "mimetype": "text/x-python",
   "name": "python",
   "nbconvert_exporter": "python",
   "pygments_lexer": "ipython3",
   "version": "3.6.9"
  }
 },
 "nbformat": 4,
 "nbformat_minor": 5
}
