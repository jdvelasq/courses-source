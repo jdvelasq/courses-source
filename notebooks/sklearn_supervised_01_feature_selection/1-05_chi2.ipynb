{
 "cells": [
  {
   "cell_type": "markdown",
   "id": "4392dfc0-6909-4364-854f-31f00c469b8c",
   "metadata": {
    "slideshow": {
     "slide_type": "slide"
    },
    "tags": []
   },
   "source": [
    "Selección de variables usando una prueba chi2  --- 7:11 min\n",
    "===\n",
    "\n",
    "* 7:11 min | Última modificación: Octubre 11, 2021 | [YouTube](https://youtu.be/nW7cj_Ywu0k)"
   ]
  },
  {
   "cell_type": "markdown",
   "id": "0bf4e9c8-b55f-440b-a82c-12212555da77",
   "metadata": {},
   "source": [
    "En esta prueba, la hipótesis nula es que no hay una diferencia estadísticamente significativa entre la frecuencia observada y la frecuencia esperada en una o más categorías."
   ]
  },
  {
   "cell_type": "markdown",
   "id": "f68599d3-25f2-4a69-8590-e5658ff3ed08",
   "metadata": {},
   "source": [
    "* Se tienen $n$ observaciones en una muestra aleatoria, que están clasificadas en $k$ clases mutuamente exclusivas, cada una con una probabilidad $p_i$.\n",
    "\n",
    "$$\n",
    "\\sum_{i=1}^k p_i = 1\n",
    "$$\n",
    "\n",
    "* Cada clase tiene un número observado $z_i$, con $i=1,...,k$. Este es asimilable a la cantidad de observaciones de la clase y se usa para determinar la frecuencia observada de cada clase.\n",
    " \n",
    "* El número esperado para cada clase es $m_i = n * p_i$ (la cantidad de observaciones por la probabilidad de cada clase).\n",
    "\n",
    "* El estadístico\n",
    "\n",
    "$$\n",
    "\\sum_{i=1}^k \\frac{(z_i - m_i)^2}{m_i} =\n",
    "\\sum_{i=1}^2 \\frac{z_i^2}{m_i} - n\n",
    "$$\n",
    "\n",
    "sigue una distribución $\\chi^2$"
   ]
  },
  {
   "cell_type": "code",
   "execution_count": 1,
   "id": "557cca6c-df19-4ee0-9249-ba5e90e3a6fc",
   "metadata": {},
   "outputs": [
    {
     "data": {
      "text/plain": [
       "(150, 4)"
      ]
     },
     "execution_count": 1,
     "metadata": {},
     "output_type": "execute_result"
    }
   ],
   "source": [
    "#\n",
    "# Datos de ejemplo\n",
    "#\n",
    "import numpy as np\n",
    "from sklearn.datasets import make_blobs\n",
    "\n",
    "X, y = make_blobs(\n",
    "    n_samples=150,\n",
    "    n_features=2,\n",
    "    centers=3,\n",
    "    cluster_std=0.8,\n",
    "    shuffle=False,\n",
    "    random_state=12345,\n",
    ")\n",
    "\n",
    "#\n",
    "# Note que x0 y x1 son significativas, mientras que x2 es una variable\n",
    "# aleatoria no explicativa\n",
    "#\n",
    "X = np.hstack((X, 2 * np.random.random((X.shape[0], 2))))\n",
    "\n",
    "#\n",
    "# Esta parte garantiza que todos los valores de X son positivos\n",
    "#\n",
    "x_min = np.where(X < 0, X, 0).min()\n",
    "X = X - x_min + 1\n",
    "X.shape"
   ]
  },
  {
   "cell_type": "code",
   "execution_count": 2,
   "id": "be64e66d-5b50-460b-9cf4-bc34f6962bd0",
   "metadata": {},
   "outputs": [
    {
     "data": {
      "text/plain": [
       "array([[1, 0, 0],\n",
       "       [1, 0, 0],\n",
       "       [1, 0, 0],\n",
       "       [1, 0, 0],\n",
       "       [1, 0, 0]])"
      ]
     },
     "execution_count": 2,
     "metadata": {},
     "output_type": "execute_result"
    }
   ],
   "source": [
    "from sklearn.preprocessing import LabelBinarizer\n",
    "\n",
    "#\n",
    "# Transformación tipo one-hot-encoder para las clases de y. Cada columna\n",
    "# representa pertenece/no pertenece a la clase.\n",
    "#\n",
    "Y = LabelBinarizer().fit_transform(y)\n",
    "\n",
    "Y[:5, :]"
   ]
  },
  {
   "cell_type": "code",
   "execution_count": 3,
   "id": "b9522e42-a8ec-4791-ab1b-7bc7e98d3594",
   "metadata": {},
   "outputs": [
    {
     "data": {
      "text/plain": [
       "array([[881.83302613, 274.30036282, 499.36797973, 506.66606303],\n",
       "       [140.43480966, 159.1087139 , 509.71081364, 506.39554259],\n",
       "       [514.41956328, 549.23014322, 508.93651274, 507.86272991]])"
      ]
     },
     "execution_count": 3,
     "metadata": {},
     "output_type": "execute_result"
    }
   ],
   "source": [
    "#\n",
    "# Computa la frecuencia observada en características continuas como\n",
    "# la sumatoria de X para los x que pertenecen a la misma clase\n",
    "#\n",
    "observed = np.dot(Y.T, X)\n",
    "observed"
   ]
  },
  {
   "cell_type": "code",
   "execution_count": 4,
   "id": "1d1dc168-f652-4119-b43c-a7b8c968d6b4",
   "metadata": {},
   "outputs": [
    {
     "data": {
      "text/plain": [
       "array([[1536.68739907,  982.63921993, 1518.01530612, 1520.92433553]])"
      ]
     },
     "execution_count": 4,
     "metadata": {},
     "output_type": "execute_result"
    }
   ],
   "source": [
    "#\n",
    "# Calcula la suma de cada feature para aproximar la frecuencia experada\n",
    "#\n",
    "sum_x = X.sum(axis=0).reshape(1, -1)\n",
    "sum_x"
   ]
  },
  {
   "cell_type": "code",
   "execution_count": 5,
   "id": "4333d095-8d96-4116-b640-cdd2d146808f",
   "metadata": {},
   "outputs": [
    {
     "data": {
      "text/plain": [
       "array([[0.33333333, 0.33333333, 0.33333333]])"
      ]
     },
     "execution_count": 5,
     "metadata": {},
     "output_type": "execute_result"
    }
   ],
   "source": [
    "#\n",
    "# Probabilidad para cada una de las clases\n",
    "#\n",
    "class_prob = Y.mean(axis=0).reshape(1, -1)\n",
    "class_prob"
   ]
  },
  {
   "cell_type": "code",
   "execution_count": 6,
   "id": "11ab0ba5-8e24-44ca-8322-718d5ab56157",
   "metadata": {},
   "outputs": [
    {
     "data": {
      "text/plain": [
       "array([[512.22913302, 327.54640664, 506.00510204, 506.97477851],\n",
       "       [512.22913302, 327.54640664, 506.00510204, 506.97477851],\n",
       "       [512.22913302, 327.54640664, 506.00510204, 506.97477851]])"
      ]
     },
     "execution_count": 6,
     "metadata": {},
     "output_type": "execute_result"
    }
   ],
   "source": [
    "#\n",
    "# La probabilidad esperada para cada clase es computada como la suma sobre cada\n",
    "# feature para una clase\n",
    "#\n",
    "expected = np.dot(class_prob.T, sum_x)\n",
    "expected"
   ]
  },
  {
   "cell_type": "code",
   "execution_count": 7,
   "id": "d36115a9-06fd-4236-94ac-7c675e2ce30e",
   "metadata": {},
   "outputs": [
    {
     "data": {
      "text/plain": [
       "array([5.36562325e+02, 2.45308985e+02, 1.31178242e-01, 2.40500563e-03])"
      ]
     },
     "metadata": {},
     "output_type": "display_data"
    },
    {
     "data": {
      "text/plain": [
       "array([3.06882045e-117, 5.39300358e-054, 9.36515580e-001, 9.98798220e-001])"
      ]
     },
     "metadata": {},
     "output_type": "display_data"
    }
   ],
   "source": [
    "from scipy.stats import chisquare\n",
    "\n",
    "chisq, p = chisquare(\n",
    "    # -------------------------------------------------------------------------\n",
    "    # Observed frequencies in each category.\n",
    "    f_obs=observed,\n",
    "    # -------------------------------------------------------------------------\n",
    "    # Expected frequencies in each category.\n",
    "    f_exp=expected,\n",
    "    # -------------------------------------------------------------------------\n",
    "    # “Delta degrees of freedom”: adjustment to the degrees of freedom for the\n",
    "    # p-value.\n",
    "    ddof=0,\n",
    "    # -------------------------------------------------------------------------\n",
    "    # The axis of the broadcast result of f_obs and f_exp along which to apply\n",
    "    # the test. If axis is None, all values in f_obs are treated as a single\n",
    "    # data set.\n",
    "    axis=0,\n",
    ")\n",
    "\n",
    "display(\n",
    "    chisq,\n",
    "    p,\n",
    ")"
   ]
  },
  {
   "cell_type": "code",
   "execution_count": 8,
   "id": "a79653ed-a67e-437a-835a-b31dfebc5c90",
   "metadata": {},
   "outputs": [
    {
     "data": {
      "text/plain": [
       "array([5.36562325e+02, 2.45308985e+02, 1.31178242e-01, 2.40500563e-03])"
      ]
     },
     "metadata": {},
     "output_type": "display_data"
    },
    {
     "data": {
      "text/plain": [
       "array([3.06882045e-117, 5.39300358e-054, 9.36515580e-001, 9.98798220e-001])"
      ]
     },
     "metadata": {},
     "output_type": "display_data"
    }
   ],
   "source": [
    "#\n",
    "# --- Verificación ------------------------------------------------------------\n",
    "#\n",
    "from sklearn.feature_selection import chi2\n",
    "\n",
    "chi2_statistics, p_values = chi2(\n",
    "    # -------------------------------------------------------------------------\n",
    "    # Sample vectors\n",
    "    X,\n",
    "    # -------------------------------------------------------------------------\n",
    "    # Target vector (class labels).\n",
    "    y,\n",
    ")\n",
    "\n",
    "display(\n",
    "    chi2_statistics,\n",
    "    p_values,\n",
    ")"
   ]
  }
 ],
 "metadata": {
  "kernelspec": {
   "display_name": "Python 3",
   "language": "python",
   "name": "python3"
  },
  "language_info": {
   "codemirror_mode": {
    "name": "ipython",
    "version": 3
   },
   "file_extension": ".py",
   "mimetype": "text/x-python",
   "name": "python",
   "nbconvert_exporter": "python",
   "pygments_lexer": "ipython3",
   "version": "3.6.9"
  }
 },
 "nbformat": 4,
 "nbformat_minor": 5
}
