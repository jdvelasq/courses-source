{
 "cells": [
  {
   "cell_type": "markdown",
   "id": "c97c8c4d-4c54-4575-9e08-402072173735",
   "metadata": {
    "slideshow": {
     "slide_type": "slide"
    },
    "tags": []
   },
   "source": [
    "Selección de características en modelos de regresión usando un test ANOVA de una vía (f_regression)  --- 5:37 min\n",
    "===\n",
    "\n",
    "* 5:37 min | Última modificación: Octubre 11, 2021 | [YouTube](https://youtu.be/MsqXF2BAe30)"
   ]
  },
  {
   "cell_type": "markdown",
   "id": "d1b985c1-e0c4-4d7d-a2f1-30b15a834ec0",
   "metadata": {},
   "source": [
    "La capacidad explicativa de las variables independientes en modelos de regresión puede realizarse a trabes del uso del estadístico F y su respectivos valores críticos."
   ]
  },
  {
   "cell_type": "markdown",
   "id": "d6b9601c-4504-4e0f-b774-4a1bc9b5c884",
   "metadata": {},
   "source": [
    "El cómputo de la correlación cruzada entre cada regresor y la variable explicada.\n",
    "\n",
    "$$\n",
    "\\text{cross-corr}(x_i, y) = \\frac{\\sum_i (x_i - \\bar{x}) * (y - \\bar{y})}{\\text{std}(x_i) * \\text{std}(y)}\n",
    "$$"
   ]
  },
  {
   "cell_type": "markdown",
   "id": "fcd764cd-60d3-46de-bd13-1013a0f46780",
   "metadata": {},
   "source": [
    "El estadístico F se calcula en este caso como:\n",
    "\n",
    "$$\n",
    "F_\\text{statistic} = \\frac{\\text{cross-corr}(x_i, y)^2}{1 - \\text{cross-corr}(x_i, y)^2} * (n - 2)\n",
    "$$\n",
    "\n",
    "donde $n$ es la cantidad de patrones del dataset. "
   ]
  },
  {
   "cell_type": "markdown",
   "id": "955e1da4-7d09-4a1d-b1d0-1296feec8269",
   "metadata": {},
   "source": [
    "El estadístico sigue una distribución $F(1, n-2)$."
   ]
  },
  {
   "cell_type": "code",
   "execution_count": 1,
   "id": "b6761f66-82c4-4ccd-9baa-0604c5a2aa57",
   "metadata": {},
   "outputs": [],
   "source": [
    "import numpy as np\n",
    "from sklearn.datasets import make_regression\n",
    "\n",
    "X, y = make_regression(\n",
    "    n_samples=30,\n",
    "    n_features=2,\n",
    "    n_informative=1,\n",
    "    noise=12,\n",
    "    random_state=123,\n",
    ")"
   ]
  },
  {
   "cell_type": "code",
   "execution_count": 2,
   "id": "c1a6bdcb-2f1f-4e89-b398-eda0798db89d",
   "metadata": {},
   "outputs": [],
   "source": [
    "#\n",
    "# Cómputo de las medias y las desviaciones estándar\n",
    "#\n",
    "y_mean = np.mean(y)\n",
    "y_std = np.std(y)\n",
    "\n",
    "x0 = X[:, 0].reshape(-1)\n",
    "x0_mean = np.mean(x0)\n",
    "x0_std = np.std(x0)\n",
    "\n",
    "x1 = X[:, 1].reshape(-1)\n",
    "x1_mean = np.mean(x1)\n",
    "x1_std = np.std(x1)"
   ]
  },
  {
   "cell_type": "code",
   "execution_count": 3,
   "id": "3f5a718a-77ff-4754-ab2e-1477ca70a9bc",
   "metadata": {},
   "outputs": [],
   "source": [
    "#\n",
    "# Coeficientes de correlación\n",
    "#\n",
    "corr_coeff_x0 = np.mean((x0 - x0_mean) * (y - y_mean)) / (x0_std * y_std)\n",
    "corr_coeff_x1 = np.mean((x1 - x1_mean) * (y - y_mean)) / (x1_std * y_std)\n",
    "\n",
    "squared_corr_coeff_x0 = corr_coeff_x0 ** 2\n",
    "squared_corr_coeff_x1 = corr_coeff_x1 ** 2"
   ]
  },
  {
   "cell_type": "code",
   "execution_count": 4,
   "id": "175735b6-9c1a-405d-80aa-ac61fba66518",
   "metadata": {},
   "outputs": [
    {
     "data": {
      "text/plain": [
       "2325.283260155656"
      ]
     },
     "metadata": {},
     "output_type": "display_data"
    },
    {
     "data": {
      "text/plain": [
       "1.4326568685428067"
      ]
     },
     "metadata": {},
     "output_type": "display_data"
    }
   ],
   "source": [
    "#\n",
    "# Cálculo de los estadísticos F\n",
    "#\n",
    "f_statistic_x0 = squared_corr_coeff_x0 / (1 - squared_corr_coeff_x0) * (len(X) - 2)\n",
    "f_statistic_x1 = squared_corr_coeff_x1 / (1 - squared_corr_coeff_x1) * (len(X) - 2)\n",
    "\n",
    "display(\n",
    "    f_statistic_x0,\n",
    "    f_statistic_x1,\n",
    ")"
   ]
  },
  {
   "cell_type": "code",
   "execution_count": 5,
   "id": "8a3e65e1-fee0-4f1d-845a-3266b6d0c821",
   "metadata": {},
   "outputs": [
    {
     "data": {
      "text/plain": [
       "1.1102230246251565e-16"
      ]
     },
     "metadata": {},
     "output_type": "display_data"
    },
    {
     "data": {
      "text/plain": [
       "0.2413675068071277"
      ]
     },
     "metadata": {},
     "output_type": "display_data"
    }
   ],
   "source": [
    "#\n",
    "# Cálculo de los valores críticos\n",
    "#\n",
    "from scipy.stats import f\n",
    "\n",
    "display(\n",
    "    1 - f.cdf(f_statistic_x0, 1, len(X) - 2),\n",
    "    1 - f.cdf(f_statistic_x1, 1, len(X) - 2),\n",
    ")"
   ]
  },
  {
   "cell_type": "markdown",
   "id": "0c30497a-b262-4a01-bb72-e1cadc75b329",
   "metadata": {},
   "source": [
    "https://scikit-learn.org/stable/modules/generated/sklearn.feature_selection.f_regression.html#sklearn.feature_selection.f_regression"
   ]
  },
  {
   "cell_type": "code",
   "execution_count": 6,
   "id": "6dd09736-ac9c-4757-8c26-c047092143e9",
   "metadata": {},
   "outputs": [
    {
     "data": {
      "text/plain": [
       "2325.2832601555683"
      ]
     },
     "metadata": {},
     "output_type": "display_data"
    },
    {
     "data": {
      "text/plain": [
       "1.4326568685428058"
      ]
     },
     "metadata": {},
     "output_type": "display_data"
    },
    {
     "data": {
      "text/plain": [
       "1.7127059787182625e-28"
      ]
     },
     "metadata": {},
     "output_type": "display_data"
    },
    {
     "data": {
      "text/plain": [
       "0.24136750680712935"
      ]
     },
     "metadata": {},
     "output_type": "display_data"
    }
   ],
   "source": [
    "#\n",
    "# --- Verificación ------------------------------------------------------------\n",
    "#\n",
    "from sklearn.feature_selection import f_regression\n",
    "\n",
    "f_statistic, p_values = f_regression(X, y)\n",
    "\n",
    "display(\n",
    "    f_statistic[0],\n",
    "    f_statistic[1],\n",
    "    p_values[0],\n",
    "    p_values[1],\n",
    ")"
   ]
  }
 ],
 "metadata": {
  "kernelspec": {
   "display_name": "Python 3",
   "language": "python",
   "name": "python3"
  },
  "language_info": {
   "codemirror_mode": {
    "name": "ipython",
    "version": 3
   },
   "file_extension": ".py",
   "mimetype": "text/x-python",
   "name": "python",
   "nbconvert_exporter": "python",
   "pygments_lexer": "ipython3",
   "version": "3.6.9"
  }
 },
 "nbformat": 4,
 "nbformat_minor": 5
}
