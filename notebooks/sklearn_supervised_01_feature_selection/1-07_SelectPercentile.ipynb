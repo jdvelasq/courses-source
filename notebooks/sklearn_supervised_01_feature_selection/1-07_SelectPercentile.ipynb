{
 "cells": [
  {
   "cell_type": "markdown",
   "id": "199779ce-73e5-47f8-9fe7-68d20bc91c5a",
   "metadata": {
    "slideshow": {
     "slide_type": "slide"
    },
    "tags": []
   },
   "source": [
    "Selección de características con scores más altos usando percentiles (SelectPercentil) --- 3:17 min\n",
    "===\n",
    "\n",
    "* 3:17 min | Última modificación: Octubre 11, 2021 | [YouTube](https://youtu.be/eqNZAO3uBJk)"
   ]
  },
  {
   "cell_type": "markdown",
   "id": "a1892b4f-3a60-4171-94aa-55e94fdba008",
   "metadata": {},
   "source": [
    "Esta metodología permite seleccionar las variables independientes que están en el percentil de scores más altos."
   ]
  },
  {
   "cell_type": "markdown",
   "id": "ebfb703b-f5ed-4e27-8bb2-1e28df98d01a",
   "metadata": {},
   "source": [
    "Esta es una metodología que permite realizar la selección independiente de cada característica. Es decir, no se tienen en cuenta interacciones entre características."
   ]
  },
  {
   "cell_type": "markdown",
   "id": "0ce11204-4d03-4536-9884-28a3b299a0e0",
   "metadata": {},
   "source": [
    "Para seleccionar las características se debe especificar una función que tome `X` y `y`, y retorne los scores y los valores críticos asociados."
   ]
  },
  {
   "cell_type": "markdown",
   "id": "14a0c978-c4a5-4858-bbed-e8b211c5e48d",
   "metadata": {},
   "source": [
    "Las disponibles funciones para computar la importancia de cada variable independiente son:\n",
    "\n",
    "* f_classif()\n",
    "\n",
    "* f_regression()\n",
    "\n",
    "* mutual_info_classif()\n",
    "\n",
    "* mutual_info_regression()\n",
    "\n",
    "* chi2() (únicamente para clasificación)"
   ]
  },
  {
   "cell_type": "code",
   "execution_count": 1,
   "id": "7eeb85f9-9e77-4cf9-84dc-581d4bf29490",
   "metadata": {},
   "outputs": [
    {
     "data": {
      "text/plain": [
       "(1797, 100)"
      ]
     },
     "execution_count": 1,
     "metadata": {},
     "output_type": "execute_result"
    }
   ],
   "source": [
    "#\n",
    "# Carga el dataset de prueba\n",
    "#\n",
    "import numpy as np\n",
    "from sklearn.datasets import load_digits\n",
    "\n",
    "X, y = load_digits(return_X_y=True)\n",
    "\n",
    "X = np.hstack((X, 2 * np.random.random((X.shape[0], 36))))\n",
    "\n",
    "X.shape"
   ]
  },
  {
   "cell_type": "code",
   "execution_count": 2,
   "id": "dd9cf10f-7fac-4a53-9250-96f6ec76b4ea",
   "metadata": {},
   "outputs": [
    {
     "data": {
      "text/plain": [
       "(1797, 10)"
      ]
     },
     "execution_count": 2,
     "metadata": {},
     "output_type": "execute_result"
    }
   ],
   "source": [
    "from sklearn.feature_selection import SelectPercentile, chi2\n",
    "\n",
    "selectPercentile = SelectPercentile(\n",
    "    # -------------------------------------------------------------------------\n",
    "    # Function taking two arrays X and y, and returning a pair of arrays\n",
    "    # (scores, pvalues) or a single array with scores.\n",
    "    score_func=chi2,\n",
    "    # -------------------------------------------------------------------------\n",
    "    # Percent of features to keep.\n",
    "    percentile=10,\n",
    ")\n",
    "\n",
    "selectPercentile.fit(X, y)\n",
    "X_new = selectPercentile.transform(X)\n",
    "\n",
    "X_new.shape"
   ]
  },
  {
   "cell_type": "code",
   "execution_count": 3,
   "id": "ee6348e7-d628-494c-aecc-1eeef85acb41",
   "metadata": {},
   "outputs": [
    {
     "data": {
      "text/plain": [
       "array([           nan, 8.11907004e+02, 3.50128250e+03, 6.98925257e+02,\n",
       "       4.38529699e+02, 3.87981926e+03, 3.96945823e+03, 1.19356082e+03,\n",
       "       2.47952140e+01, 2.95383109e+03, 2.58365199e+03, 3.88242059e+02,\n",
       "       8.24690949e+02, 3.67648925e+03, 1.98357961e+03, 5.97241982e+02,\n",
       "       8.95886124e+00, 1.92421690e+03, 2.40927141e+03, 3.55631595e+03,\n",
       "       4.87194195e+03, 4.78219922e+03, 2.15517379e+03, 3.76765833e+02,\n",
       "       7.90090158e+00, 2.47182418e+03, 4.51548150e+03, 2.98664315e+03,\n",
       "       3.72409568e+03, 3.20864687e+03, 5.13807412e+03, 3.57127072e+01,\n",
       "                  nan, 5.68825080e+03, 5.26246647e+03, 3.16506059e+03,\n",
       "       3.23163943e+03, 2.53299696e+03, 3.28881404e+03,            nan,\n",
       "       1.42850829e+02, 3.86385788e+03, 6.41608672e+03, 5.44825154e+03,\n",
       "       4.07973153e+03, 2.13402540e+03, 4.48634098e+03, 3.13538981e+02,\n",
       "       7.03992739e+01, 4.49723273e+02, 2.80197224e+03, 1.52754520e+03,\n",
       "       1.65315892e+03, 3.07399804e+03, 5.25121749e+03, 6.83882273e+02,\n",
       "       9.15254237e+00, 8.51067915e+02, 3.80024731e+03, 7.30929757e+02,\n",
       "       1.85953966e+03, 4.37922504e+03, 5.05900552e+03, 2.28132864e+03,\n",
       "       3.60008703e+00, 2.19217170e+00, 2.03066569e+00, 2.94171731e+00,\n",
       "       3.27709832e+00, 1.71971160e+00, 7.34252314e-01, 4.64692864e+00,\n",
       "       2.98543828e+00, 7.35578295e+00, 4.02951205e+00, 4.13465963e+00,\n",
       "       4.19643601e+00, 2.92327956e+00, 2.53590121e+00, 2.34154316e+00,\n",
       "       2.36389578e+00, 2.44285487e+00, 2.45927501e+00, 6.05639073e+00,\n",
       "       2.85872832e+00, 2.74251548e+00, 3.12697422e+00, 5.57462076e+00,\n",
       "       5.18707468e+00, 2.93059604e+00, 9.43106988e-01, 3.35913263e+00,\n",
       "       4.63530197e+00, 1.17495076e+00, 7.74837679e-01, 3.07863232e+00,\n",
       "       3.36366910e+00, 3.64506330e+00, 4.72851387e+00, 1.27804265e+00])"
      ]
     },
     "execution_count": 3,
     "metadata": {},
     "output_type": "execute_result"
    }
   ],
   "source": [
    "selectPercentile.scores_"
   ]
  },
  {
   "cell_type": "code",
   "execution_count": 4,
   "id": "6c5beb84-87ac-48bb-8f9c-0714d3051917",
   "metadata": {},
   "outputs": [
    {
     "data": {
      "text/plain": [
       "array([            nan, 5.81310493e-169, 0.00000000e+000, 1.17740541e-144,\n",
       "       8.11314242e-089, 0.00000000e+000, 0.00000000e+000, 2.97727113e-251,\n",
       "       3.20626273e-003, 0.00000000e+000, 0.00000000e+000, 4.41344943e-078,\n",
       "       1.02825052e-171, 0.00000000e+000, 0.00000000e+000, 8.18335060e-123,\n",
       "       4.41080315e-001, 0.00000000e+000, 0.00000000e+000, 0.00000000e+000,\n",
       "       0.00000000e+000, 0.00000000e+000, 0.00000000e+000, 1.23435651e-075,\n",
       "       5.44163062e-001, 0.00000000e+000, 0.00000000e+000, 0.00000000e+000,\n",
       "       0.00000000e+000, 0.00000000e+000, 0.00000000e+000, 4.45801029e-005,\n",
       "                   nan, 0.00000000e+000, 0.00000000e+000, 0.00000000e+000,\n",
       "       0.00000000e+000, 0.00000000e+000, 0.00000000e+000,             nan,\n",
       "       2.65875300e-026, 0.00000000e+000, 0.00000000e+000, 0.00000000e+000,\n",
       "       0.00000000e+000, 0.00000000e+000, 0.00000000e+000, 3.49452723e-062,\n",
       "       1.27145348e-011, 3.28604761e-091, 0.00000000e+000, 0.00000000e+000,\n",
       "       0.00000000e+000, 0.00000000e+000, 0.00000000e+000, 2.01600539e-141,\n",
       "       4.23314114e-001, 2.14859356e-177, 0.00000000e+000, 1.54562173e-151,\n",
       "       0.00000000e+000, 0.00000000e+000, 0.00000000e+000, 0.00000000e+000,\n",
       "       9.35711572e-001, 9.88051240e-001, 9.90973325e-001, 9.66560856e-001,\n",
       "       9.52288627e-001, 9.95165159e-001, 9.99844029e-001, 8.63937029e-001,\n",
       "       9.64869491e-001, 6.00129741e-001, 9.09459390e-001, 9.02327947e-001,\n",
       "       8.98014222e-001, 9.67259052e-001, 9.79902343e-001, 9.84845736e-001,\n",
       "       9.84322544e-001, 9.82381001e-001, 9.81958723e-001, 7.34261464e-001,\n",
       "       9.69633314e-001, 9.73635033e-001, 9.59047184e-001, 7.81620699e-001,\n",
       "       8.17705007e-001, 9.66983061e-001, 9.99557809e-001, 9.48341186e-001,\n",
       "       8.64871463e-001, 9.98917018e-001, 9.99804541e-001, 9.61095610e-001,\n",
       "       9.48117653e-001, 9.33184421e-001, 8.57303250e-001, 9.98482943e-001])"
      ]
     },
     "execution_count": 4,
     "metadata": {},
     "output_type": "execute_result"
    }
   ],
   "source": [
    "selectPercentile.pvalues_"
   ]
  }
 ],
 "metadata": {
  "kernelspec": {
   "display_name": "Python 3",
   "language": "python",
   "name": "python3"
  },
  "language_info": {
   "codemirror_mode": {
    "name": "ipython",
    "version": 3
   },
   "file_extension": ".py",
   "mimetype": "text/x-python",
   "name": "python",
   "nbconvert_exporter": "python",
   "pygments_lexer": "ipython3",
   "version": "3.6.9"
  }
 },
 "nbformat": 4,
 "nbformat_minor": 5
}
