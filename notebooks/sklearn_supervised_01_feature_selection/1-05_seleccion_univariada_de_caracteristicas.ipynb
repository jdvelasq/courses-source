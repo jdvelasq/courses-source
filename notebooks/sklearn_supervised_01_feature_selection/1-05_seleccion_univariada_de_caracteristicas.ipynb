{
 "cells": [
  {
   "cell_type": "markdown",
   "id": "199779ce-73e5-47f8-9fe7-68d20bc91c5a",
   "metadata": {
    "slideshow": {
     "slide_type": "slide"
    },
    "tags": []
   },
   "source": [
    "Técnicas para la selección univariada de características\n",
    "===\n",
    "\n",
    "* 0:00 min | Última modificación: Octubre 7, 2021 | [YouTube]"
   ]
  },
  {
   "cell_type": "markdown",
   "id": "a1892b4f-3a60-4171-94aa-55e94fdba008",
   "metadata": {},
   "source": [
    "Las metodologías usadas permita la selección individual de las características más relevantes usando pruebas estadísticas, y usualemnte se utilizan como parte del preprocesamiento de un estimador."
   ]
  },
  {
   "cell_type": "code",
   "execution_count": null,
   "id": "8803cf32-befa-4884-b68b-7a15f6d89a84",
   "metadata": {},
   "outputs": [],
   "source": [
    "from sklearn.datasets import load_iris\n",
    "\n",
    "X, y = load_iris(return_X_y=True)\n",
    "X.shape"
   ]
  },
  {
   "cell_type": "code",
   "execution_count": null,
   "id": "3fe2fd58-04a1-4d03-bceb-8c506ca7442a",
   "metadata": {},
   "outputs": [],
   "source": []
  },
  {
   "cell_type": "code",
   "execution_count": null,
   "id": "f5e53c56-4ac9-4d44-92b6-1e2937382315",
   "metadata": {},
   "outputs": [],
   "source": []
  },
  {
   "cell_type": "code",
   "execution_count": null,
   "id": "d6ce827c-1420-4ca7-a901-bb1a01af6536",
   "metadata": {},
   "outputs": [],
   "source": []
  },
  {
   "cell_type": "code",
   "execution_count": null,
   "id": "7dd9325a-87a8-4b37-9049-2267fa55307a",
   "metadata": {},
   "outputs": [],
   "source": []
  },
  {
   "cell_type": "code",
   "execution_count": 2,
   "id": "6e6d732d-cec5-4493-83c2-e9fd4f203cd0",
   "metadata": {},
   "outputs": [],
   "source": [
    "import numpy as np\n",
    "from sklearn.datasets import make_regression\n",
    "\n",
    "X, y = make_regression(\n",
    "    n_samples=30,\n",
    "    n_features=2,\n",
    "    n_informative=1,\n",
    "    noise=12,\n",
    "    random_state=123,\n",
    ")"
   ]
  },
  {
   "cell_type": "markdown",
   "id": "9465d7ec-69ed-457e-a5eb-ca192010754e",
   "metadata": {},
   "source": [
    "Cómputo de la correlación cruzada entre cada regresor y la variable explicada.\n",
    "\n",
    "$$\n",
    "\\frac{\\sum_i (x_i - \\bar{x}) * (y - \\bar{y})}{\\text{std}(x_i) * \\text{std}(y)}\n",
    "$$"
   ]
  },
  {
   "cell_type": "code",
   "execution_count": 3,
   "id": "5c91fba4-5c2c-4596-a91f-048748138319",
   "metadata": {},
   "outputs": [],
   "source": [
    "y_mean = np.mean(y)\n",
    "y_std = np.std(y)"
   ]
  },
  {
   "cell_type": "code",
   "execution_count": 4,
   "id": "80e63f82-5104-48c2-b2d5-2503f69a264b",
   "metadata": {},
   "outputs": [],
   "source": [
    "x0 = X[:, 0].reshape(-1)\n",
    "x0_mean = np.mean(x0)\n",
    "x0_std = np.std(x0)"
   ]
  },
  {
   "cell_type": "code",
   "execution_count": 5,
   "id": "000296e6-d934-4dc5-b66c-e5e81a765542",
   "metadata": {},
   "outputs": [],
   "source": [
    "x1 = X[:, 1].reshape(-1)\n",
    "x1_mean = np.mean(x1)\n",
    "x1_std = np.std(x1)"
   ]
  },
  {
   "cell_type": "code",
   "execution_count": 6,
   "id": "62beb061-75ba-48b8-917d-271d7480cb01",
   "metadata": {},
   "outputs": [
    {
     "data": {
      "text/plain": [
       "0.9940330627482891"
      ]
     },
     "execution_count": 6,
     "metadata": {},
     "output_type": "execute_result"
    }
   ],
   "source": [
    "corr_coeff_x0 = np.mean((x0 - x0_mean) * (y - y_mean)) / (x0_std * y_std)\n",
    "corr_coeff_x0"
   ]
  },
  {
   "cell_type": "code",
   "execution_count": 18,
   "id": "0d0eff6d-e114-41ee-9e53-badbdcc1c757",
   "metadata": {},
   "outputs": [
    {
     "data": {
      "text/plain": [
       "2325.2832601556124"
      ]
     },
     "execution_count": 18,
     "metadata": {},
     "output_type": "execute_result"
    }
   ],
   "source": [
    "squared_corr_coeff_x0 = corr_coeff_x0 ** 2\n",
    "f_statistic_x0 = squared_corr_coeff_x0 / (1 - squared_corr_coeff_x0) * (len(X)- 2)\n",
    "f_statistic_x0"
   ]
  },
  {
   "cell_type": "markdown",
   "id": "d3bd367d-bfc5-4067-a398-dfd026948619",
   "metadata": {},
   "source": [
    "---"
   ]
  },
  {
   "cell_type": "code",
   "execution_count": 11,
   "id": "f242fd62-135b-4aa2-a77c-4855fbb8cac4",
   "metadata": {},
   "outputs": [],
   "source": [
    "from sklearn.linear_model import LinearRegression\n",
    "\n",
    "linearRegression = LinearRegression()"
   ]
  },
  {
   "cell_type": "code",
   "execution_count": 12,
   "id": "a24a732a-e3ae-400a-b46a-e88cbbbf3057",
   "metadata": {},
   "outputs": [
    {
     "data": {
      "text/plain": [
       "0.994033062748289"
      ]
     },
     "execution_count": 12,
     "metadata": {},
     "output_type": "execute_result"
    }
   ],
   "source": [
    "x0 = X[:, 0].reshape(-1, 1)\n",
    "\n",
    "linearRegression.fit(x0, y)\n",
    "\n",
    "y_pred = linearRegression.predict(x0)\n",
    "\n",
    "y_pred_mean = np.mean(y_pred)\n",
    "y_pred_std = np.std(y_pred)\n",
    "\n",
    "corr_coeff_x0 = np.mean((y_pred - y_pred_mean) * (y - y_mean)) / (y_pred_std * y_std)\n",
    "corr_coeff_x0"
   ]
  },
  {
   "cell_type": "code",
   "execution_count": null,
   "id": "b78fea2f-69d2-4a2f-a9d7-96a60a42cd4b",
   "metadata": {},
   "outputs": [],
   "source": []
  },
  {
   "cell_type": "code",
   "execution_count": 13,
   "id": "b2d6d704-9326-4c18-a75c-47ab78c43095",
   "metadata": {},
   "outputs": [
    {
     "data": {
      "text/plain": [
       "293552.8074651189"
      ]
     },
     "execution_count": 13,
     "metadata": {},
     "output_type": "execute_result"
    }
   ],
   "source": [
    "rss_y = np.sum(np.power(y - y_mean, 2))\n",
    "rss_y"
   ]
  },
  {
   "cell_type": "code",
   "execution_count": null,
   "id": "0e94c8ee-24b6-4ccd-8ad1-488bb03e6091",
   "metadata": {},
   "outputs": [],
   "source": []
  },
  {
   "cell_type": "code",
   "execution_count": 16,
   "id": "16271a46-b4c7-47a2-9cd7-9aaf34150df6",
   "metadata": {},
   "outputs": [
    {
     "data": {
      "text/plain": [
       "2408.329090875408"
      ]
     },
     "execution_count": 16,
     "metadata": {},
     "output_type": "execute_result"
    }
   ],
   "source": [
    "x0 = X[:, 0].reshape(-1, 1)\n",
    "\n",
    "linearRegression.fit(x0, y)\n",
    "rss_x0 = y - linearRegression.predict(x0)\n",
    "rss_x0 = np.sum(np.power(rss_x0, 2))\n",
    "f_x0 = ((rss_y - rss_x0) / 1) / (rss_x0 / (len(X) - 1))\n",
    "f_x0"
   ]
  },
  {
   "cell_type": "code",
   "execution_count": 17,
   "id": "908f769a-f5b7-436c-8a08-fe58f38f628d",
   "metadata": {},
   "outputs": [
    {
     "data": {
      "text/plain": [
       "1.4838231852764898"
      ]
     },
     "execution_count": 17,
     "metadata": {},
     "output_type": "execute_result"
    }
   ],
   "source": [
    "x1 = X[:, 1].reshape(-1, 1)\n",
    "\n",
    "linearRegression.fit(x1, y)\n",
    "rss_x1 = y - linearRegression.predict(x1)\n",
    "rss_x1 = np.sum(np.power(rss_x1, 2))\n",
    "f_x1 = ((rss_y - rss_x1) / 1) / (rss_x1 / (len(X) - 1))\n",
    "f_x1"
   ]
  },
  {
   "cell_type": "code",
   "execution_count": null,
   "id": "9e9ee5e4-532d-453c-9ca0-016ecf3e5f46",
   "metadata": {},
   "outputs": [],
   "source": []
  },
  {
   "cell_type": "code",
   "execution_count": null,
   "id": "dfded1eb-e8d5-40cd-9f44-89642b2e27d6",
   "metadata": {},
   "outputs": [],
   "source": []
  },
  {
   "cell_type": "code",
   "execution_count": null,
   "id": "5001ec25-c9cb-4b0d-a6a3-584e985fe87c",
   "metadata": {},
   "outputs": [],
   "source": []
  },
  {
   "cell_type": "code",
   "execution_count": null,
   "id": "3a57698a-0da9-4767-b777-30503e5abba4",
   "metadata": {},
   "outputs": [],
   "source": []
  },
  {
   "cell_type": "code",
   "execution_count": null,
   "id": "bfb4497b-4188-4ccc-a163-bf50d1645568",
   "metadata": {},
   "outputs": [],
   "source": []
  },
  {
   "cell_type": "markdown",
   "id": "a727c70b-7582-460a-a359-618da7e1c4d7",
   "metadata": {},
   "source": [
    "SelectKBest()\n",
    "---"
   ]
  },
  {
   "cell_type": "markdown",
   "id": "b1a10a18-7f47-4929-b0aa-a1edac720f6b",
   "metadata": {},
   "source": [
    "Selecciona las $K$ características con el score más alto."
   ]
  },
  {
   "cell_type": "code",
   "execution_count": null,
   "id": "33682a58-814c-4b01-83cb-fd98c0b4333c",
   "metadata": {},
   "outputs": [],
   "source": []
  },
  {
   "cell_type": "code",
   "execution_count": 8,
   "id": "4f458bee-9269-44b4-85aa-51ebc12a398a",
   "metadata": {},
   "outputs": [],
   "source": [
    "from sklearn.feature_selection import f_regression\n",
    "\n",
    "f_statistic, p_values = f_regression(X, y)"
   ]
  },
  {
   "cell_type": "code",
   "execution_count": 9,
   "id": "c0b3750a-f7ee-4ba3-81b7-0cf29f00abc3",
   "metadata": {},
   "outputs": [
    {
     "data": {
      "text/plain": [
       "2325.2832601555683"
      ]
     },
     "execution_count": 9,
     "metadata": {},
     "output_type": "execute_result"
    }
   ],
   "source": [
    "f_statistic[0]"
   ]
  },
  {
   "cell_type": "code",
   "execution_count": 10,
   "id": "e8050bc6-c651-4af5-a115-7ac0b2fddf8d",
   "metadata": {},
   "outputs": [
    {
     "data": {
      "text/plain": [
       "1.4326568685428058"
      ]
     },
     "execution_count": 10,
     "metadata": {},
     "output_type": "execute_result"
    }
   ],
   "source": [
    "f_statistic[1]"
   ]
  },
  {
   "cell_type": "code",
   "execution_count": null,
   "id": "357df624-9b8f-4af3-90ca-eabdb437f7c0",
   "metadata": {},
   "outputs": [],
   "source": [
    "p_values"
   ]
  },
  {
   "cell_type": "code",
   "execution_count": null,
   "id": "3ce4e597-82e5-4444-a30b-3a1a268a343d",
   "metadata": {},
   "outputs": [],
   "source": []
  },
  {
   "cell_type": "code",
   "execution_count": null,
   "id": "ee6348e7-d628-494c-aecc-1eeef85acb41",
   "metadata": {},
   "outputs": [],
   "source": []
  },
  {
   "cell_type": "code",
   "execution_count": null,
   "id": "6c5beb84-87ac-48bb-8f9c-0714d3051917",
   "metadata": {},
   "outputs": [],
   "source": []
  },
  {
   "cell_type": "code",
   "execution_count": null,
   "id": "6973e9e6-2c3c-4d66-9a19-5f1aac8a544d",
   "metadata": {},
   "outputs": [],
   "source": []
  }
 ],
 "metadata": {
  "kernelspec": {
   "display_name": "Python 3",
   "language": "python",
   "name": "python3"
  },
  "language_info": {
   "codemirror_mode": {
    "name": "ipython",
    "version": 3
   },
   "file_extension": ".py",
   "mimetype": "text/x-python",
   "name": "python",
   "nbconvert_exporter": "python",
   "pygments_lexer": "ipython3",
   "version": "3.6.9"
  }
 },
 "nbformat": 4,
 "nbformat_minor": 5
}
