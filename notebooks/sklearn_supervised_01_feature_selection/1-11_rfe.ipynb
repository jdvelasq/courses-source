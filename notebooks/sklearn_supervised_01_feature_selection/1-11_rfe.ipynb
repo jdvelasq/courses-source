{
 "cells": [
  {
   "cell_type": "markdown",
   "id": "29814a53-91fc-42cc-8374-12dbc6593a78",
   "metadata": {
    "slideshow": {
     "slide_type": "slide"
    },
    "tags": []
   },
   "source": [
    "Eliminación recursiva de características (RFE) --- 4:35\n",
    "===\n",
    "\n",
    "* 4:35 min | Última modificación: Octubre 11, 2021 | [YouTube](https://youtu.be/ms-OTPUW7N8)"
   ]
  },
  {
   "cell_type": "markdown",
   "id": "5eb1fff9-4a9f-4d6f-b55d-e28144516227",
   "metadata": {},
   "source": [
    "En esta metodología se usa un estimador que  asigna pesos a las características, por ejemplo, los pesos en un modelo de regresión lineal. \n",
    "\n",
    "* Se inicia con un conjunto que contiene todas las características.\n",
    "\n",
    "* Se estima un modelo y se hace un ranking de las características.\n",
    "\n",
    "* Se elimina la menos importante.\n",
    "\n",
    "* Se repite el proceso hasta que se alcance el número de características deseado."
   ]
  },
  {
   "cell_type": "code",
   "execution_count": 1,
   "id": "c129f53c-1a45-4fa5-a4bc-e80d9cd0c11d",
   "metadata": {},
   "outputs": [],
   "source": [
    "from sklearn.datasets import make_friedman1\n",
    "\n",
    "X, y = make_friedman1(\n",
    "    n_samples=50,\n",
    "    n_features=10,\n",
    "    random_state=0,\n",
    ")"
   ]
  },
  {
   "cell_type": "code",
   "execution_count": 2,
   "id": "23ed370b-6623-4f0e-ba81-1f434f5ef69d",
   "metadata": {},
   "outputs": [
    {
     "data": {
      "text/plain": [
       "array([ True,  True,  True,  True,  True, False, False, False, False,\n",
       "       False])"
      ]
     },
     "execution_count": 2,
     "metadata": {},
     "output_type": "execute_result"
    }
   ],
   "source": [
    "from sklearn.feature_selection import RFE\n",
    "from sklearn.svm import SVR\n",
    "\n",
    "estimator = SVR(kernel=\"linear\")\n",
    "\n",
    "selector = RFE(\n",
    "    # -------------------------------------------------------------------------\n",
    "    # A supervised learning estimator with a fit method that provides\n",
    "    # information about feature importance\n",
    "    estimator=estimator,\n",
    "    # -------------------------------------------------------------------------\n",
    "    # The number of features to select. If None, half of the features are\n",
    "    # selected. If integer, the parameter is the absolute number of features to\n",
    "    # select. If float between 0 and 1, it is the fraction of features to\n",
    "    # select.\n",
    "    n_features_to_select=5,\n",
    "    # -------------------------------------------------------------------------\n",
    "    # If greater than or equal to 1, then step corresponds to the (integer)\n",
    "    # number of features to remove at each iteration. If within (0.0, 1.0),\n",
    "    # then step corresponds to the percentage (rounded down) of features to\n",
    "    # remove at each iteration.\n",
    "    step=1,\n",
    "    # -------------------------------------------------------------------------\n",
    "    # Controls verbosity of output.\n",
    "    verbose=0,\n",
    ")\n",
    "\n",
    "selector = selector.fit(X, y)\n",
    "\n",
    "#\n",
    "# The mask of selected features.\n",
    "#\n",
    "selector.support_"
   ]
  },
  {
   "cell_type": "code",
   "execution_count": 3,
   "id": "5caa9b03-451b-4cc4-955b-ddba02f271fe",
   "metadata": {},
   "outputs": [
    {
     "data": {
      "text/plain": [
       "array([1, 1, 1, 1, 1, 6, 4, 3, 2, 5])"
      ]
     },
     "execution_count": 3,
     "metadata": {},
     "output_type": "execute_result"
    }
   ],
   "source": [
    "#\n",
    "# The feature ranking, such that ranking_[i] corresponds to the ranking\n",
    "# position of the i-th feature. Selected (i.e., estimated best) features are\n",
    "# assigned rank 1.\n",
    "#\n",
    "selector.ranking_"
   ]
  },
  {
   "cell_type": "code",
   "execution_count": 4,
   "id": "1c04c6b8-f01d-48f0-bd63-11f721ad7bde",
   "metadata": {},
   "outputs": [
    {
     "data": {
      "text/plain": [
       "SVR(C=1.0, cache_size=200, coef0=0.0, degree=3, epsilon=0.1, gamma='scale',\n",
       "    kernel='linear', max_iter=-1, shrinking=True, tol=0.001, verbose=False)"
      ]
     },
     "execution_count": 4,
     "metadata": {},
     "output_type": "execute_result"
    }
   ],
   "source": [
    "#\n",
    "# The fitted estimator used to select features.\n",
    "#\n",
    "selector.estimator_"
   ]
  }
 ],
 "metadata": {
  "kernelspec": {
   "display_name": "Python 3",
   "language": "python",
   "name": "python3"
  },
  "language_info": {
   "codemirror_mode": {
    "name": "ipython",
    "version": 3
   },
   "file_extension": ".py",
   "mimetype": "text/x-python",
   "name": "python",
   "nbconvert_exporter": "python",
   "pygments_lexer": "ipython3",
   "version": "3.6.9"
  }
 },
 "nbformat": 4,
 "nbformat_minor": 5
}
