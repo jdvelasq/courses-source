{
 "cells": [
  {
   "cell_type": "markdown",
   "id": "eac4d237-1318-4cc0-894e-483417714524",
   "metadata": {
    "slideshow": {
     "slide_type": "slide"
    },
    "tags": []
   },
   "source": [
    "Selección de variables usando Información mutua (mutual_info_classif) --- 6:23 min\n",
    "===\n",
    "\n",
    "* 6:23 min | Última modificación: Octubre 11, 2021 | [YouTube](https://youtu.be/pQzFwLV9NbY)"
   ]
  },
  {
   "cell_type": "markdown",
   "id": "14c1aec5-ae0f-45d1-a0c2-0cb2eedbf151",
   "metadata": {},
   "source": [
    "Las funciones `mutual_info_classif()` y `mutual_info_regression` estiman la información mutua entre cada una de las variables explicativas y la variable dependiente."
   ]
  },
  {
   "cell_type": "markdown",
   "id": "ae63ead1-986c-40ab-af4a-750d3e6cee9f",
   "metadata": {},
   "source": [
    "La información mutua es una medida de la dependencia mutua entre dos variables aleatorias."
   ]
  },
  {
   "cell_type": "markdown",
   "id": "fb82c602-9c4c-45c7-b885-d80aa835a2fa",
   "metadata": {},
   "source": [
    "En el caso de variables discretas, la información mutua se calcula como:\n",
    "\n",
    "$$\n",
    "I(x y) = \\sum_x \\sum_y \\text{Prob}(x,y) \n",
    "\\log\n",
    "\\left(\n",
    "\\frac{\\text{Prob}(x,y)}{\\text{Prob(x)}\\cdot \\text{Prob}(y)}\n",
    "\\right)\n",
    "$$"
   ]
  },
  {
   "cell_type": "markdown",
   "id": "07128870-49af-4364-b0b5-96e65c610d79",
   "metadata": {},
   "source": [
    "donde:\n",
    "\n",
    "* $\\text{Prob}(x,y)$ es la probabilidad conjunta de $x$ y $y$.\n",
    "\n",
    "* $\\text{Prob}(x)$ y $\\text{Prob}(y)$ son las probabilidades marginales."
   ]
  },
  {
   "cell_type": "markdown",
   "id": "5e7cd887-07d8-482a-ad99-45ce739865f8",
   "metadata": {},
   "source": [
    "Esta métrica se basa en la divergencia de Kullback-Leibler, la cual es una medida entre la diferencia entre dos distribuciones de probabilidad."
   ]
  },
  {
   "cell_type": "markdown",
   "id": "923c8f02-ccf1-4cc8-92db-1d50992dbf9c",
   "metadata": {},
   "source": [
    "En este caso se parte del supuesto de que si no hay relación entre $x$ y $y$, ambas variables son independientes, y por tanto, $\\text{Prob}(x,y)=\\text{Prob}(x)\\times \\text{Prob}(y)$, tal que $I(x,y)=0$."
   ]
  },
  {
   "cell_type": "markdown",
   "id": "78b1c9fa-9973-4406-abea-e3d2cff4e522",
   "metadata": {},
   "source": [
    "Clasificación\n",
    "---"
   ]
  },
  {
   "cell_type": "code",
   "execution_count": 1,
   "id": "d46483a8-59cc-4b99-a229-c964d9ec9e76",
   "metadata": {},
   "outputs": [
    {
     "data": {
      "text/plain": [
       "(150, 3)"
      ]
     },
     "execution_count": 1,
     "metadata": {},
     "output_type": "execute_result"
    }
   ],
   "source": [
    "import numpy as np\n",
    "from sklearn.datasets import make_blobs\n",
    "\n",
    "X, y = make_blobs(\n",
    "    n_samples=150,\n",
    "    n_features=2,\n",
    "    centers=3,\n",
    "    cluster_std=0.8,\n",
    "    shuffle=False,\n",
    "    random_state=12345,\n",
    ")\n",
    "\n",
    "#\n",
    "# Note que x0 y x1 son significativas, mientras que x2 es una variable\n",
    "# aleatoria no explicativa\n",
    "#\n",
    "X = np.hstack((X, 2 * np.random.random((X.shape[0], 1))))\n",
    "X.shape"
   ]
  },
  {
   "cell_type": "markdown",
   "id": "a3560d20-82dd-436b-bdbd-ad52ecaf896d",
   "metadata": {},
   "source": [
    "https://scikit-learn.org/stable/modules/generated/sklearn.feature_selection.mutual_info_classif.html#sklearn.feature_selection.mutual_info_classif"
   ]
  },
  {
   "cell_type": "code",
   "execution_count": 2,
   "id": "8a92c275-5d39-44ac-a687-04b48ce80507",
   "metadata": {},
   "outputs": [
    {
     "data": {
      "text/plain": [
       "array([1.10530858, 0.9911345 , 0.        ])"
      ]
     },
     "execution_count": 2,
     "metadata": {},
     "output_type": "execute_result"
    }
   ],
   "source": [
    "from sklearn.feature_selection import mutual_info_classif\n",
    "\n",
    "mutual_info = mutual_info_classif(\n",
    "    # -------------------------------------------------------------------------\n",
    "    # Feature matrix.\n",
    "    X=X,\n",
    "    # -------------------------------------------------------------------------\n",
    "    # Target vector.\n",
    "    y=y,\n",
    "    # -------------------------------------------------------------------------\n",
    "    # Number of neighbors to use for MI estimation for continuous variables.\n",
    "    n_neighbors=3,\n",
    "    # -------------------------------------------------------------------------\n",
    "    # If bool, then determines whether to consider all features discrete or\n",
    "    # continuous.\n",
    "    discrete_features=\"auto\",\n",
    "    # -------------------------------------------------------------------------\n",
    "    # Determines random number generation for adding small noise to continuous\n",
    "    # variables in order to remove repeated values.\n",
    "    random_state=None,\n",
    ")\n",
    "\n",
    "mutual_info"
   ]
  },
  {
   "cell_type": "markdown",
   "id": "32938f3d-4c8f-4469-875f-9099d6cf8ed6",
   "metadata": {},
   "source": [
    "Regresión\n",
    "---"
   ]
  },
  {
   "cell_type": "code",
   "execution_count": 3,
   "id": "d552e931-3f3e-4734-9231-b710b61eac01",
   "metadata": {},
   "outputs": [],
   "source": [
    "from sklearn.datasets import make_regression\n",
    "\n",
    "X, y = make_regression(\n",
    "    n_samples=300,\n",
    "    n_features=4,\n",
    "    n_informative=2,\n",
    "    bias=0.0,\n",
    "    tail_strength=0.9,\n",
    "    noise=12.0,\n",
    "    shuffle=False,\n",
    "    coef=False,\n",
    "    random_state=0,\n",
    ")"
   ]
  },
  {
   "cell_type": "code",
   "execution_count": 4,
   "id": "48d89c88-f7f3-411a-bd4f-7fbc432c0cda",
   "metadata": {},
   "outputs": [
    {
     "data": {
      "text/plain": [
       "array([0.07191495, 0.63637812, 0.        , 0.09702994])"
      ]
     },
     "execution_count": 4,
     "metadata": {},
     "output_type": "execute_result"
    }
   ],
   "source": [
    "from sklearn.feature_selection import mutual_info_regression\n",
    "\n",
    "mutual_info = mutual_info_regression(\n",
    "    # -------------------------------------------------------------------------\n",
    "    # Feature matrix.\n",
    "    X=X,\n",
    "    # -------------------------------------------------------------------------\n",
    "    # Target vector.\n",
    "    y=y,\n",
    "    # -------------------------------------------------------------------------\n",
    "    # If bool, then determines whether to consider all features discrete or\n",
    "    # continuous.\n",
    "    discrete_features=\"auto\",\n",
    "    # -------------------------------------------------------------------------\n",
    "    # Number of neighbors to use for MI estimation for continuous variables.\n",
    "    n_neighbors=3,\n",
    "    # -------------------------------------------------------------------------\n",
    "    # Determines random number generation for adding small noise to continuous\n",
    "    # variables in order to remove repeated values.\n",
    "    random_state=None,\n",
    ")\n",
    "\n",
    "mutual_info"
   ]
  }
 ],
 "metadata": {
  "kernelspec": {
   "display_name": "Python 3",
   "language": "python",
   "name": "python3"
  },
  "language_info": {
   "codemirror_mode": {
    "name": "ipython",
    "version": 3
   },
   "file_extension": ".py",
   "mimetype": "text/x-python",
   "name": "python",
   "nbconvert_exporter": "python",
   "pygments_lexer": "ipython3",
   "version": "3.6.9"
  }
 },
 "nbformat": 4,
 "nbformat_minor": 5
}
