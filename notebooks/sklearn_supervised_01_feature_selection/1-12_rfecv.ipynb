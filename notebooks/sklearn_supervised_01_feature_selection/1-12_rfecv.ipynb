{
 "cells": [
  {
   "cell_type": "markdown",
   "id": "29814a53-91fc-42cc-8374-12dbc6593a78",
   "metadata": {
    "slideshow": {
     "slide_type": "slide"
    },
    "tags": []
   },
   "source": [
    "Eliminación recursiva de características usando cross-validation (RFECV) --- 3:35 min\n",
    "===\n",
    "\n",
    "* 3:35 min | Última modificación: Octubre 11, 2021 | [YouTube](https://youtu.be/DVK8GlZc1i4)"
   ]
  },
  {
   "cell_type": "code",
   "execution_count": 1,
   "id": "c129f53c-1a45-4fa5-a4bc-e80d9cd0c11d",
   "metadata": {},
   "outputs": [
    {
     "data": {
      "text/plain": [
       "(50, 10)"
      ]
     },
     "execution_count": 1,
     "metadata": {},
     "output_type": "execute_result"
    }
   ],
   "source": [
    "from sklearn.datasets import make_friedman1\n",
    "\n",
    "X, y = make_friedman1(\n",
    "    n_samples=50,\n",
    "    n_features=10,\n",
    "    random_state=0,\n",
    ")\n",
    "\n",
    "X.shape"
   ]
  },
  {
   "cell_type": "code",
   "execution_count": 2,
   "id": "378aded1-f495-4f4c-9128-4db93b970ffa",
   "metadata": {},
   "outputs": [
    {
     "data": {
      "text/plain": [
       "(50, 5)"
      ]
     },
     "execution_count": 2,
     "metadata": {},
     "output_type": "execute_result"
    }
   ],
   "source": [
    "from sklearn.feature_selection import RFECV\n",
    "from sklearn.svm import SVR\n",
    "\n",
    "estimator = SVR(kernel=\"linear\")\n",
    "\n",
    "selector = RFECV(\n",
    "    # -------------------------------------------------------------------------\n",
    "    # A supervised learning estimator with a fit method that provides\n",
    "    # information about feature importance\n",
    "    estimator=estimator,\n",
    "    # -------------------------------------------------------------------------\n",
    "    # If greater than or equal to 1, then step corresponds to the (integer)\n",
    "    # number of features to remove at each iteration. If within (0.0, 1.0),\n",
    "    # then step corresponds to the percentage (rounded down) of features to\n",
    "    # remove at each iteration.\n",
    "    step=1,\n",
    "    # -------------------------------------------------------------------------\n",
    "    # The minimum number of features to be selected. This number of features\n",
    "    # will always be scored, even if the difference between the original feature\n",
    "    # count and min_features_to_select isn’t divisible by step.\n",
    "    min_features_to_select=1,\n",
    "    # -------------------------------------------------------------------------\n",
    "    # Determines the cross-validation splitting strategy.\n",
    "    cv=5,\n",
    "    # -------------------------------------------------------------------------\n",
    "    # A string or a scorer callable object / function\n",
    "    scoring=None,\n",
    "    # -------------------------------------------------------------------------\n",
    "    # Controls verbosity of output.\n",
    "    verbose=0,\n",
    "    # -------------------------------------------------------------------------\n",
    "    # Number of cores to run in parallel while fitting across folds.\n",
    "    n_jobs=None,\n",
    ")\n",
    "\n",
    "selector = selector.fit(X, y)\n",
    "\n",
    "X_new = selector.transform(X)\n",
    "X_new.shape"
   ]
  },
  {
   "cell_type": "code",
   "execution_count": 3,
   "id": "d7288a69-16ac-4f5d-9b75-22a968b615d6",
   "metadata": {},
   "outputs": [
    {
     "data": {
      "text/plain": [
       "array([ True,  True,  True,  True,  True, False, False, False, False,\n",
       "       False])"
      ]
     },
     "execution_count": 3,
     "metadata": {},
     "output_type": "execute_result"
    }
   ],
   "source": [
    "#\n",
    "# The mask of selected features.\n",
    "#\n",
    "selector.support_"
   ]
  },
  {
   "cell_type": "code",
   "execution_count": 4,
   "id": "5caa9b03-451b-4cc4-955b-ddba02f271fe",
   "metadata": {},
   "outputs": [
    {
     "data": {
      "text/plain": [
       "array([1, 1, 1, 1, 1, 6, 4, 3, 2, 5])"
      ]
     },
     "execution_count": 4,
     "metadata": {},
     "output_type": "execute_result"
    }
   ],
   "source": [
    "#\n",
    "# The feature ranking, such that ranking_[i] corresponds to the ranking\n",
    "# position of the i-th feature. Selected (i.e., estimated best) features are\n",
    "# assigned rank 1.\n",
    "#\n",
    "selector.ranking_"
   ]
  },
  {
   "cell_type": "code",
   "execution_count": 5,
   "id": "1c04c6b8-f01d-48f0-bd63-11f721ad7bde",
   "metadata": {},
   "outputs": [
    {
     "data": {
      "text/plain": [
       "SVR(C=1.0, cache_size=200, coef0=0.0, degree=3, epsilon=0.1, gamma='scale',\n",
       "    kernel='linear', max_iter=-1, shrinking=True, tol=0.001, verbose=False)"
      ]
     },
     "execution_count": 5,
     "metadata": {},
     "output_type": "execute_result"
    }
   ],
   "source": [
    "#\n",
    "# The fitted estimator used to select features.\n",
    "#\n",
    "selector.estimator_"
   ]
  }
 ],
 "metadata": {
  "kernelspec": {
   "display_name": "Python 3",
   "language": "python",
   "name": "python3"
  },
  "language_info": {
   "codemirror_mode": {
    "name": "ipython",
    "version": 3
   },
   "file_extension": ".py",
   "mimetype": "text/x-python",
   "name": "python",
   "nbconvert_exporter": "python",
   "pygments_lexer": "ipython3",
   "version": "3.6.9"
  }
 },
 "nbformat": 4,
 "nbformat_minor": 5
}
