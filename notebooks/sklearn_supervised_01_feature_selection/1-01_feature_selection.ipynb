{
 "cells": [
  {
   "cell_type": "markdown",
   "id": "72121ff8-9589-4ab4-967e-5fea22b4a047",
   "metadata": {
    "slideshow": {
     "slide_type": "slide"
    },
    "tags": []
   },
   "source": [
    "Selección de características\n",
    "===\n",
    "\n",
    "* 60:00 min | Última modificación: Abril 5, 2021 | [YouTube]"
   ]
  },
  {
   "cell_type": "markdown",
   "id": "2a189f91-9eb5-48c6-b4d4-03e23f592e49",
   "metadata": {
    "tags": []
   },
   "source": [
    "* Idenfiticar las características más importantes\n",
    "\n",
    "* Remover irrelevantes o redundates\n",
    "\n",
    "* Mejora la interpretavilidad y capacidad predictiva del modelo"
   ]
  },
  {
   "cell_type": "markdown",
   "id": "079941b2-1f1d-45b8-b48f-bdb21cbfa40b",
   "metadata": {},
   "source": [
    "## Técnicas\n",
    "\n",
    "* Métodos de filtrado\n",
    "    - Selección de las mejores características.\n",
    "    - Desarrollo del modelo.\n",
    "    - Análisis del desempeño.\n",
    "\n",
    "* Basados en modelos\n",
    "    - Desarrollo del modelo.\n",
    "    - Selección de características basadas en el desempeño del modelo.\n",
    "    - Selección backward, forward, mixtos.\n",
    "\n",
    "* Métodos embebidos\n",
    "    - Selección de un subconjunto de características.\n",
    "    - Desarrollo del modelo.\n",
    "    - Desempeño.\n",
    "    - Retorno al paso 1."
   ]
  },
  {
   "cell_type": "code",
   "execution_count": 2,
   "id": "a83b0c3f-9371-4ce9-9771-50c7f16d830f",
   "metadata": {},
   "outputs": [],
   "source": [
    "from sklearn.datasets import load_iris\n",
    "\n",
    "iris = load_iris()\n",
    "X, y = iris.data, iris.target"
   ]
  },
  {
   "cell_type": "markdown",
   "id": "8460817a-6cc6-4c15-b67a-9e4ff1055e5b",
   "metadata": {},
   "source": [
    "## VarianceThreshold()"
   ]
  },
  {
   "cell_type": "code",
   "execution_count": 4,
   "id": "3241da7c-2a36-456d-99fd-b9ee4e95d2c2",
   "metadata": {},
   "outputs": [
    {
     "data": {
      "text/plain": [
       "array([[5.1, 1.4, 0.2],\n",
       "       [4.9, 1.4, 0.2],\n",
       "       [4.7, 1.3, 0.2],\n",
       "       [4.6, 1.5, 0.2],\n",
       "       [5. , 1.4, 0.2],\n",
       "       [5.4, 1.7, 0.4],\n",
       "       [4.6, 1.4, 0.3],\n",
       "       [5. , 1.5, 0.2],\n",
       "       [4.4, 1.4, 0.2],\n",
       "       [4.9, 1.5, 0.1]])"
      ]
     },
     "execution_count": 4,
     "metadata": {},
     "output_type": "execute_result"
    }
   ],
   "source": [
    "from sklearn.feature_selection import VarianceThreshold\n",
    "\n",
    "sel = VarianceThreshold(threshold=0.3)\n",
    "sel.fit_transform(X)[:10]"
   ]
  },
  {
   "cell_type": "markdown",
   "id": "b260101a-c925-4bbd-bcdd-5331b843f533",
   "metadata": {},
   "source": [
    "SelectKBest()\n",
    "--"
   ]
  },
  {
   "cell_type": "code",
   "execution_count": 1,
   "id": "2c21f336-6d0a-4e4d-9cb8-41e3f43573cb",
   "metadata": {},
   "outputs": [
    {
     "data": {
      "text/plain": [
       "(150, 4)"
      ]
     },
     "execution_count": 1,
     "metadata": {},
     "output_type": "execute_result"
    }
   ],
   "source": [
    "from sklearn.datasets import load_iris\n",
    "from sklearn.feature_selection import SelectKBest, chi2\n",
    "\n",
    "X, y = load_iris(return_X_y=True)\n",
    "X.shape"
   ]
  },
  {
   "cell_type": "code",
   "execution_count": 2,
   "id": "c807d7e3-0622-47f2-b84e-ac4235b153f1",
   "metadata": {},
   "outputs": [
    {
     "data": {
      "text/plain": [
       "(150, 2)"
      ]
     },
     "execution_count": 2,
     "metadata": {},
     "output_type": "execute_result"
    }
   ],
   "source": [
    "X_new = SelectKBest(chi2, k=2).fit_transform(X, y)\n",
    "X_new.shape"
   ]
  },
  {
   "cell_type": "markdown",
   "id": "63a6de3e-cef3-4f1d-8869-3fac8033bec6",
   "metadata": {},
   "source": [
    "Recursive Feature Elimination (RFE)\n",
    "---"
   ]
  },
  {
   "cell_type": "code",
   "execution_count": 3,
   "id": "1010d023-8efc-4b7d-a290-6f37a66fb2b3",
   "metadata": {},
   "outputs": [
    {
     "data": {
      "image/png": "[encoded data removed]",
      "text/plain": [
       "<Figure size 288x288 with 2 Axes>"
      ]
     },
     "metadata": {
      "needs_background": "light"
     },
     "output_type": "display_data"
    }
   ],
   "source": [
    "import matplotlib.pyplot as plt\n",
    "from sklearn.datasets import load_digits\n",
    "from sklearn.feature_selection import RFE\n",
    "from sklearn.svm import SVC\n",
    "\n",
    "# Load the digits dataset\n",
    "digits = load_digits()\n",
    "X = digits.images.reshape((len(digits.images), -1))\n",
    "y = digits.target\n",
    "\n",
    "# Create the RFE object and rank each pixel\n",
    "svc = SVC(kernel=\"linear\", C=1)\n",
    "rfe = RFE(estimator=svc, n_features_to_select=1, step=1)\n",
    "rfe.fit(X, y)\n",
    "ranking = rfe.ranking_.reshape(digits.images[0].shape)\n",
    "\n",
    "# Plot pixel ranking\n",
    "plt.matshow(ranking, cmap=plt.cm.Blues)\n",
    "plt.colorbar()\n",
    "plt.title(\"Ranking of pixels with RFE\")\n",
    "plt.show()"
   ]
  },
  {
   "cell_type": "code",
   "execution_count": 4,
   "id": "186eda7d-5b3b-4684-905e-10ca63d239bd",
   "metadata": {},
   "outputs": [
    {
     "name": "stdout",
     "output_type": "stream",
     "text": [
      "Optimal number of features : 3\n"
     ]
    },
    {
     "data": {
      "image/png": "[encoded data removed]",
      "text/plain": [
       "<Figure size 432x288 with 1 Axes>"
      ]
     },
     "metadata": {
      "needs_background": "light"
     },
     "output_type": "display_data"
    }
   ],
   "source": [
    "import matplotlib.pyplot as plt\n",
    "from sklearn.datasets import make_classification\n",
    "from sklearn.feature_selection import RFECV\n",
    "from sklearn.model_selection import StratifiedKFold\n",
    "from sklearn.svm import SVC\n",
    "\n",
    "# Build a classification task using 3 informative features\n",
    "X, y = make_classification(\n",
    "    n_samples=1000,\n",
    "    n_features=25,\n",
    "    n_informative=3,\n",
    "    n_redundant=2,\n",
    "    n_repeated=0,\n",
    "    n_classes=8,\n",
    "    n_clusters_per_class=1,\n",
    "    random_state=0,\n",
    ")\n",
    "\n",
    "# Create the RFE object and compute a cross-validated score.\n",
    "svc = SVC(kernel=\"linear\")\n",
    "# The \"accuracy\" scoring is proportional to the number of correct\n",
    "# classifications\n",
    "\n",
    "min_features_to_select = 1  # Minimum number of features to consider\n",
    "rfecv = RFECV(\n",
    "    estimator=svc,\n",
    "    step=1,\n",
    "    cv=StratifiedKFold(2),\n",
    "    scoring=\"accuracy\",\n",
    "    min_features_to_select=min_features_to_select,\n",
    ")\n",
    "rfecv.fit(X, y)\n",
    "\n",
    "print(\"Optimal number of features : %d\" % rfecv.n_features_)\n",
    "\n",
    "# Plot number of features VS. cross-validation scores\n",
    "plt.figure()\n",
    "plt.xlabel(\"Number of features selected\")\n",
    "plt.ylabel(\"Cross validation score (nb of correct classifications)\")\n",
    "plt.plot(\n",
    "    range(min_features_to_select, len(rfecv.grid_scores_) + min_features_to_select),\n",
    "    rfecv.grid_scores_,\n",
    ")\n",
    "plt.show()"
   ]
  },
  {
   "cell_type": "code",
   "execution_count": null,
   "id": "ec69117f-6e89-472c-b314-78b80890bc59",
   "metadata": {},
   "outputs": [],
   "source": []
  },
  {
   "cell_type": "code",
   "execution_count": null,
   "id": "7542e24a-1cc1-4f08-bd78-33de321d3843",
   "metadata": {},
   "outputs": [],
   "source": []
  },
  {
   "cell_type": "code",
   "execution_count": null,
   "id": "92731d16-482e-4fcc-a39e-aea746c2be1c",
   "metadata": {},
   "outputs": [],
   "source": []
  },
  {
   "cell_type": "code",
   "execution_count": null,
   "id": "cbaa90b4-ef5d-44e4-9042-bc95b55a5a78",
   "metadata": {},
   "outputs": [],
   "source": []
  },
  {
   "cell_type": "code",
   "execution_count": null,
   "id": "bd82527b-a9ba-4298-b9b1-0f217288df3e",
   "metadata": {},
   "outputs": [],
   "source": []
  },
  {
   "cell_type": "markdown",
   "id": "424fccd7-daa5-475b-8905-319362bcf7d5",
   "metadata": {},
   "source": [
    "## Características correlacionadas"
   ]
  },
  {
   "cell_type": "code",
   "execution_count": 7,
   "id": "0f5d620d-7f50-404b-b688-457eed079248",
   "metadata": {},
   "outputs": [
    {
     "data": {
      "text/plain": [
       "<matplotlib.collections.PathCollection at 0x7f91000ff438>"
      ]
     },
     "execution_count": 7,
     "metadata": {},
     "output_type": "execute_result"
    },
    {
     "data": {
      "image/png": "[encoded data removed]",
      "text/plain": [
       "<Figure size 432x288 with 1 Axes>"
      ]
     },
     "metadata": {
      "needs_background": "light"
     },
     "output_type": "display_data"
    }
   ],
   "source": [
    "import matplotlib.pyplot as plt\n",
    "import numpy as np\n",
    "from scipy.stats import pearsonr\n",
    "\n",
    "np.random.seed(42)\n",
    "x1 = np.random.normal(0, 1, 500)\n",
    "x2 = x1 + np.random.normal(0, 1, 500)\n",
    "x3 = x1 + np.random.normal(0, 10, 500)\n",
    "\n",
    "plt.scatter(x1, x2)\n",
    "plt.scatter(x1, x3)"
   ]
  },
  {
   "cell_type": "code",
   "execution_count": 8,
   "id": "14d2ba35-8a35-4722-8724-7d9d805720bf",
   "metadata": {},
   "outputs": [
    {
     "data": {
      "text/plain": [
       "(0.6811405918134971, 1.9520324398684079e-69)"
      ]
     },
     "metadata": {},
     "output_type": "display_data"
    },
    {
     "data": {
      "text/plain": [
       "(0.03937486620402585, 0.37962586391466446)"
      ]
     },
     "metadata": {},
     "output_type": "display_data"
    }
   ],
   "source": [
    "display(pearsonr(x1, x2), pearsonr(x1, x3))"
   ]
  },
  {
   "cell_type": "code",
   "execution_count": 10,
   "id": "f1aeef6c-3608-4351-8905-43e55b67c9cd",
   "metadata": {},
   "outputs": [
    {
     "data": {
      "text/plain": [
       "(-0.11756978413300206, 0.15189826071144766)"
      ]
     },
     "metadata": {},
     "output_type": "display_data"
    },
    {
     "data": {
      "text/plain": [
       "(0.8717537758865831, 1.0386674194498099e-47)"
      ]
     },
     "metadata": {},
     "output_type": "display_data"
    },
    {
     "data": {
      "text/plain": [
       "(0.8179411262715756, 2.325498079793272e-37)"
      ]
     },
     "metadata": {},
     "output_type": "display_data"
    }
   ],
   "source": [
    "display(\n",
    "    pearsonr(X[:, 0], X[:, 1]), pearsonr(X[:, 0], X[:, 2]), pearsonr(X[:, 0], X[:, 3])\n",
    ")"
   ]
  },
  {
   "cell_type": "markdown",
   "id": "c41deab2-0069-42f2-ba27-0fee4925ed6a",
   "metadata": {},
   "source": [
    "## Información mutua"
   ]
  },
  {
   "cell_type": "code",
   "execution_count": 11,
   "id": "c629704b-7605-402b-886c-fedc68a5b766",
   "metadata": {},
   "outputs": [
    {
     "data": {
      "text/plain": [
       "array([0.48451775, 0.20941727, 0.99280814, 0.98327118])"
      ]
     },
     "execution_count": 11,
     "metadata": {},
     "output_type": "execute_result"
    }
   ],
   "source": [
    "from sklearn.feature_selection import mutual_info_classif\n",
    "\n",
    "mutual_info_classif(X, y)"
   ]
  },
  {
   "cell_type": "markdown",
   "id": "2c8cce8d-c880-4eca-961f-8caa31adae6f",
   "metadata": {},
   "source": [
    "## Chi-squared"
   ]
  },
  {
   "cell_type": "code",
   "execution_count": 12,
   "id": "b786431f-e3e5-4221-a30a-6bca0aad7327",
   "metadata": {},
   "outputs": [
    {
     "data": {
      "text/plain": [
       "array([[5.1, 1.4, 0.2],\n",
       "       [4.9, 1.4, 0.2],\n",
       "       [4.7, 1.3, 0.2],\n",
       "       [4.6, 1.5, 0.2],\n",
       "       [5. , 1.4, 0.2],\n",
       "       [5.4, 1.7, 0.4],\n",
       "       [4.6, 1.4, 0.3],\n",
       "       [5. , 1.5, 0.2],\n",
       "       [4.4, 1.4, 0.2],\n",
       "       [4.9, 1.5, 0.1]])"
      ]
     },
     "execution_count": 12,
     "metadata": {},
     "output_type": "execute_result"
    }
   ],
   "source": [
    "from sklearn.feature_selection import SelectKBest, chi2\n",
    "\n",
    "X_new = SelectKBest(chi2, k=3).fit_transform(X, y)\n",
    "X_new[:10]"
   ]
  },
  {
   "cell_type": "code",
   "execution_count": null,
   "id": "42308f75-d8e6-4c34-817e-09857a8d1d3d",
   "metadata": {},
   "outputs": [],
   "source": []
  },
  {
   "cell_type": "code",
   "execution_count": null,
   "id": "11c54198-d207-4ba3-b2e4-f7a4b68ff2a3",
   "metadata": {},
   "outputs": [],
   "source": []
  },
  {
   "cell_type": "code",
   "execution_count": null,
   "id": "b688dd85-2a2a-47ca-831b-1f6b6c99f0d3",
   "metadata": {},
   "outputs": [],
   "source": []
  }
 ],
 "metadata": {
  "kernelspec": {
   "display_name": "Python 3",
   "language": "python",
   "name": "python3"
  },
  "language_info": {
   "codemirror_mode": {
    "name": "ipython",
    "version": 3
   },
   "file_extension": ".py",
   "mimetype": "text/x-python",
   "name": "python",
   "nbconvert_exporter": "python",
   "pygments_lexer": "ipython3",
   "version": "3.6.9"
  }
 },
 "nbformat": 4,
 "nbformat_minor": 5
}
