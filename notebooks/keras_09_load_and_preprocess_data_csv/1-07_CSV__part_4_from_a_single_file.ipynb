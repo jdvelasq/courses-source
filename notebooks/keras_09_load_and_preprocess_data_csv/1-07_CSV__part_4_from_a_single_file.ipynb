{
 "cells": [
  {
   "cell_type": "markdown",
   "id": "6bdfc23e-9f15-42b3-9bb4-b6a902a601a9",
   "metadata": {
    "tags": []
   },
   "source": [
    "Carga de un solo archivos CSV con tf.data --- 0:00 min (pendiente modelo)\n",
    "===\n",
    "\n",
    "* Última modificación: Marzo 1, 2022 | YouTube"
   ]
  },
  {
   "cell_type": "markdown",
   "id": "f798a6ea-a6fe-4da2-a6a2-7a84e6688095",
   "metadata": {
    "tags": []
   },
   "source": [
    "Importación de librerías\n",
    "---"
   ]
  },
  {
   "cell_type": "code",
   "execution_count": 1,
   "id": "0062e83c-0868-484b-8fca-bc8af19fc049",
   "metadata": {},
   "outputs": [],
   "source": [
    "import os\n",
    "\n",
    "os.environ[\"TF_CPP_MIN_LOG_LEVEL\"] = \"2\"\n",
    "\n",
    "import tensorflow as tf"
   ]
  },
  {
   "cell_type": "markdown",
   "id": "00b82f14-4032-4d60-8ae9-2d2347084150",
   "metadata": {},
   "source": [
    "Descarga del archivo\n",
    "---"
   ]
  },
  {
   "cell_type": "code",
   "execution_count": 2,
   "id": "da0ba1d1-88cf-42a1-8d77-0915084a9010",
   "metadata": {},
   "outputs": [
    {
     "name": "stdout",
     "output_type": "stream",
     "text": [
      "Downloading data from https://storage.googleapis.com/tf-datasets/titanic/train.csv\n",
      "32768/30874 [===============================] - 0s 1us/step\n",
      "40960/30874 [=======================================] - 0s 1us/step\n"
     ]
    }
   ],
   "source": [
    "titanic_file_path = tf.keras.utils.get_file(\n",
    "    \"train.csv\",\n",
    "    \"https://storage.googleapis.com/tf-datasets/titanic/train.csv\",\n",
    ")"
   ]
  },
  {
   "cell_type": "markdown",
   "id": "0211135d-186f-4ba7-bea5-43fad1db336a",
   "metadata": {},
   "source": [
    "Creación del CSV\n",
    "---"
   ]
  },
  {
   "cell_type": "code",
   "execution_count": 3,
   "id": "02476bf2-4e86-4215-b22d-ec969841b7ec",
   "metadata": {},
   "outputs": [],
   "source": [
    "titanic_csv_ds = tf.data.experimental.make_csv_dataset(\n",
    "    titanic_file_path,\n",
    "    batch_size=5,\n",
    "    label_name=\"survived\",\n",
    "    num_epochs=1,\n",
    "    ignore_errors=True,\n",
    ")"
   ]
  },
  {
   "cell_type": "markdown",
   "id": "0e3085e6-0f9d-4b0c-99b0-beaa586c7e91",
   "metadata": {},
   "source": [
    "Recorrido del archivo\n",
    "---"
   ]
  },
  {
   "cell_type": "code",
   "execution_count": 4,
   "id": "d1a8977a-b5cc-4c95-83ae-45bb6447ce02",
   "metadata": {},
   "outputs": [
    {
     "name": "stdout",
     "output_type": "stream",
     "text": [
      "sex                 : [b'female' b'female' b'female' b'female' b'male']\n",
      "age                 : [32. 49. 24. 24. 28.]\n",
      "n_siblings_spouses  : [1 1 0 0 1]\n",
      "parch               : [1 0 0 0 0]\n",
      "fare                : [15.5    76.7292 13.     69.3    15.5   ]\n",
      "class               : [b'Third' b'First' b'Second' b'First' b'Third']\n",
      "deck                : [b'unknown' b'D' b'unknown' b'B' b'unknown']\n",
      "embark_town         : [b'Queenstown' b'Cherbourg' b'Southampton' b'Cherbourg' b'Queenstown']\n",
      "alone               : [b'n' b'n' b'y' b'y' b'n']\n",
      "\n",
      "label               : [0 1 0 1 0]\n"
     ]
    }
   ],
   "source": [
    "for batch, label in titanic_csv_ds.take(1):\n",
    "    for key, value in batch.items():\n",
    "        print(f\"{key:20s}: {value}\")\n",
    "    print()\n",
    "    print(f\"{'label':20s}: {label}\")"
   ]
  }
 ],
 "metadata": {
  "kernelspec": {
   "display_name": "Python 3 (ipykernel)",
   "language": "python",
   "name": "python3"
  },
  "language_info": {
   "codemirror_mode": {
    "name": "ipython",
    "version": 3
   },
   "file_extension": ".py",
   "mimetype": "text/x-python",
   "name": "python",
   "nbconvert_exporter": "python",
   "pygments_lexer": "ipython3",
   "version": "3.9.10"
  }
 },
 "nbformat": 4,
 "nbformat_minor": 5
}
