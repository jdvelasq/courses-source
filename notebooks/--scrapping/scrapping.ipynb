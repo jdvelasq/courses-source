{
 "cells": [
  {
   "cell_type": "markdown",
   "metadata": {},
   "source": [
    "Scrapping y captura de información\n",
    "==="
   ]
  },
  {
   "cell_type": "markdown",
   "metadata": {},
   "source": [
    "En este tutorial se presenta un ejemplo para descargar enlaces de páginas web"
   ]
  },
  {
   "cell_type": "code",
   "execution_count": 10,
   "metadata": {},
   "outputs": [],
   "source": [
    "## Se cargan las librarias requeridas\n",
    "import requests\n",
    "import os\n",
    "import urllib.request\n",
    "from bs4 import BeautifulSoup"
   ]
  },
  {
   "cell_type": "code",
   "execution_count": 2,
   "metadata": {},
   "outputs": [
    {
     "data": {
      "text/plain": [
       "<Response [200]>"
      ]
     },
     "execution_count": 2,
     "metadata": {},
     "output_type": "execute_result"
    }
   ],
   "source": [
    "## Pagina web\n",
    "url = 'http://www.allitebooks.org/page/1/'\n",
    "\n",
    "## Se obtiene el código html de la página\n",
    "response = requests.get(url)\n",
    "\n",
    "## Se imprime la respuesta. Un valor de \n",
    "## <Response [200]> indica que fue correcta \n",
    "## la apertura\n",
    "response"
   ]
  },
  {
   "cell_type": "code",
   "execution_count": 3,
   "metadata": {},
   "outputs": [
    {
     "name": "stdout",
     "output_type": "stream",
     "text": [
      "'http://www.allitebooks.org/deep-learning-for-dummies/'\n",
      "'http://www.allitebooks.org/practical-monitoring/'\n",
      "'http://www.allitebooks.org/oracle-high-availability-disaster-recovery-and-cloud-services/'\n",
      "'http://www.allitebooks.org/automate-the-boring-stuff-with-python/'\n",
      "'http://www.allitebooks.org/blender-game-engine-beginners-guide/'\n",
      "'http://www.allitebooks.org/serverless-applications-with-node-js-2/'\n",
      "'http://www.allitebooks.org/effective-awk-programming-4th-edition/'\n",
      "'http://www.allitebooks.org/python-all-in-one-for-dummies/'\n",
      "'http://www.allitebooks.org/programmers-guide-to-apache-thrift/'\n",
      "'http://www.allitebooks.org/node-js-in-action-2nd-edition/'\n"
     ]
    },
    {
     "data": {
      "text/plain": [
       "10"
      ]
     },
     "execution_count": 3,
     "metadata": {},
     "output_type": "execute_result"
    }
   ],
   "source": [
    "## Se procesa el código html\n",
    "x = BeautifulSoup(response.text, \"html.parser\")\n",
    "\n",
    "## Se buscan todas las componentes con tag a,\n",
    "## es decir, aquellas que tienen\n",
    "## <a href = .... >\n",
    "x = x.findAll('a')\n",
    "\n",
    "## En los tags que tienen libros aparece el atributo rel\n",
    "## <a href=\"http://www.allitebooks.org/ ... \"... rel='bookmark'>\n",
    "x = [e  for e in x if 'rel' in e.attrs.keys()]\n",
    "\n",
    "## el atributo href tiene la dirección de la página web\n",
    "x = set(e['href']  for e in x if 'bookmark' in e['rel'] )\n",
    "\n",
    "## Se imprimen las direcciones obtenidas y la cantidad\n",
    "for a in x:\n",
    "    print(repr(a))\n",
    "len(x)"
   ]
  },
  {
   "cell_type": "code",
   "execution_count": 11,
   "metadata": {},
   "outputs": [],
   "source": [
    "## Para cada dirección web se abre la págia y se extrae \n",
    "## la dirección html del documento\n",
    "for a in x:\n",
    "    \n",
    "    ## carga el contenido de la página\n",
    "    response = requests.get(a)\n",
    "    \n",
    "    ## Se procesa el código html\n",
    "    y = BeautifulSoup(response.text, \"html.parser\")\n",
    "    \n",
    "    ## Se obtienen los tags que tiene 'a'\n",
    "    y = y.findAll('a')\n",
    "    \n",
    "    ## se filtran por los tag con attributo 'target'\n",
    "    y = [e for e in y if 'target' in e.attrs.keys()]\n",
    "    \n",
    "    ## Si '_blank' aparece en target, el href tiene la \n",
    "    ## dirección de descarga del libro\n",
    "    y = set(e ['href'] for e in y if '_blank' in e['target'])\n",
    "    \n",
    "    ## Se descarga cada archivo r\n",
    "    for b in y: \n",
    "        cmd = 'wget ' + b\n",
    "        os.system(cmd)"
   ]
  }
 ],
 "metadata": {
  "anaconda-cloud": {},
  "kernel_info": {
   "name": "python3"
  },
  "kernelspec": {
   "display_name": "Python 3",
   "language": "python",
   "name": "python3"
  },
  "language_info": {
   "codemirror_mode": {
    "name": "ipython",
    "version": 3
   },
   "file_extension": ".py",
   "mimetype": "text/x-python",
   "name": "python",
   "nbconvert_exporter": "python",
   "pygments_lexer": "ipython3",
   "version": "3.6.7"
  },
  "nteract": {
   "version": "0.7.1"
  },
  "toc-autonumbering": false
 },
 "nbformat": 4,
 "nbformat_minor": 2
}
