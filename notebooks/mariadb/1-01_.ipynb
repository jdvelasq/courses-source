{
 "cells": [
  {
   "cell_type": "markdown",
   "id": "a3c01113-9aaf-4095-8ba8-02988673a4c6",
   "metadata": {
    "tags": []
   },
   "source": [
    "Ingestión de datos y consultas en MariaDB\n",
    "===\n",
    "\n",
    "* Última modificación: Mayo 26, 2022"
   ]
  },
  {
   "cell_type": "markdown",
   "id": "0400a969-5f9e-4167-ae71-f1040537fa2a",
   "metadata": {},
   "source": [
    "Introducción\n",
    "---"
   ]
  },
  {
   "cell_type": "markdown",
   "id": "205b7116-4acd-4e14-b078-f855efce78df",
   "metadata": {},
   "source": [
    "* MariaDB es un clon de MySQL.\n",
    "\n",
    "\n",
    "* Es desarrollada por el mismo equipo de MySQL con el fin de garantizar que siempre será open source.\n",
    "\n",
    "\n",
    "* Se fundamenta en los valores de desempeño, estabilidad y apertura."
   ]
  },
  {
   "cell_type": "markdown",
   "id": "462f663e-c139-4e29-aa9b-e7d8723a6411",
   "metadata": {},
   "source": [
    "Accesso al prompt de MariaDB desde la línea de comandos\n",
    "---"
   ]
  },
  {
   "cell_type": "markdown",
   "id": "c2d1694a-298f-43ce-bdb0-6d357aab4355",
   "metadata": {},
   "source": [
    "```bash\n",
    "$ mysql -u //user_name// -p -h //ip_address// //db_name//\n",
    "```"
   ]
  },
  {
   "cell_type": "markdown",
   "id": "0bd498aa-0e68-4b64-b91a-3e00e2777019",
   "metadata": {},
   "source": [
    "![assets/mariadb-00001.png](assets/mariadb-00001.png)"
   ]
  },
  {
   "cell_type": "markdown",
   "id": "1f281acb-bb79-442a-87d3-0541c25c4d06",
   "metadata": {},
   "source": [
    "Creación de una tabla e insersión de valores\n",
    "--"
   ]
  },
  {
   "cell_type": "markdown",
   "id": "cb74a668-1958-4e03-806b-bc697996ccfb",
   "metadata": {},
   "source": [
    "Copie y pegue el código en el prompt de comandos."
   ]
  },
  {
   "cell_type": "markdown",
   "id": "80b4dd5b-83b4-4389-9f34-7ab5dad64afc",
   "metadata": {},
   "source": [
    "```sql\n",
    "CREATE DATABASE IF NOT EXISTS test;\n",
    "\n",
    "USE test;\n",
    "\n",
    "CREATE TABLE IF NOT EXISTS books (\n",
    "  BookID INT NOT NULL PRIMARY KEY AUTO_INCREMENT, \n",
    "  Title VARCHAR(100) NOT NULL, \n",
    "  SeriesID INT, AuthorID INT);\n",
    "\n",
    "CREATE TABLE IF NOT EXISTS authors \n",
    "(id INT NOT NULL PRIMARY KEY AUTO_INCREMENT);\n",
    "\n",
    "CREATE TABLE IF NOT EXISTS series \n",
    "(id INT NOT NULL PRIMARY KEY AUTO_INCREMENT);\n",
    "\n",
    "INSERT INTO books (Title,SeriesID,AuthorID) \n",
    "VALUES('The Fellowship of the Ring',1,1), \n",
    "      ('The Two Towers',1,1), ('The Return of the King',1,1),  \n",
    "      ('The Sum of All Men',2,2), ('Brotherhood of the Wolf',2,2), \n",
    "      ('Wizardborn',2,2), ('The Hobbbit',0,1);\n",
    "```"
   ]
  },
  {
   "cell_type": "markdown",
   "id": "e79b4c8d-248f-4a26-b397-0a88487889a8",
   "metadata": {},
   "source": [
    "![assets/mariadb-00002.png](assets/mariadb-00002.png)"
   ]
  },
  {
   "cell_type": "markdown",
   "id": "1f88eda6-deb8-41b4-9e20-f93f9198686c",
   "metadata": {},
   "source": [
    "![assets/mariadb-00003.png](assets/mariadb-00003.png)"
   ]
  },
  {
   "cell_type": "markdown",
   "id": "0ea79ced-20dd-478b-a1b9-89b8ad711c8f",
   "metadata": {},
   "source": [
    "Show\n",
    "---"
   ]
  },
  {
   "cell_type": "markdown",
   "id": "e7e0b292-3fc2-4a9c-b292-dbc49ebcf023",
   "metadata": {},
   "source": [
    "```sql\n",
    "MariaDB [test]> SHOW TABLES;\n",
    "+----------------+\n",
    "| Tables_in_test |\n",
    "+----------------+\n",
    "| authors        |\n",
    "| books          |\n",
    "| series         |\n",
    "+----------------+\n",
    "3 rows in set (0.001 sec)\n",
    "```"
   ]
  },
  {
   "cell_type": "markdown",
   "id": "79cda2a3-0df1-420a-9ab3-1886339a3e3d",
   "metadata": {},
   "source": [
    "Describe\n",
    "---"
   ]
  },
  {
   "cell_type": "markdown",
   "id": "0279aad6-a3dd-4ba1-b3a3-d364b79baac0",
   "metadata": {},
   "source": [
    "```sql\n",
    "MariaDB [test]> DESCRIBE books;\n",
    "+----------+--------------+------+-----+---------+----------------+\n",
    "| Field    | Type         | Null | Key | Default | Extra          |\n",
    "+----------+--------------+------+-----+---------+----------------+\n",
    "| BookID   | int(11)      | NO   | PRI | NULL    | auto_increment |\n",
    "| Title    | varchar(100) | NO   |     | NULL    |                |\n",
    "| SeriesID | int(11)      | YES  |     | NULL    |                |\n",
    "| AuthorID | int(11)      | YES  |     | NULL    |                |\n",
    "+----------+--------------+------+-----+---------+----------------+\n",
    "4 rows in set (0.007 sec)\n",
    "\n",
    "``` "
   ]
  },
  {
   "cell_type": "markdown",
   "id": "936cffe2-7df2-41ec-a13d-53024b34a27b",
   "metadata": {},
   "source": [
    "Select\n",
    "---"
   ]
  },
  {
   "cell_type": "markdown",
   "id": "60797c97-84f3-4764-b2da-36b8a7ae84fb",
   "metadata": {},
   "source": [
    "```sql\n",
    "MariaDB [test]> SELECT * FROM books;\n",
    "+--------+----------------------------+----------+----------+\n",
    "| BookID | Title                      | SeriesID | AuthorID |\n",
    "+--------+----------------------------+----------+----------+\n",
    "|      1 | The Fellowship of the Ring |        1 |        1 |\n",
    "|      2 | The Two Towers             |        1 |        1 |\n",
    "|      3 | The Return of the King     |        1 |        1 |\n",
    "|      4 | The Sum of All Men         |        2 |        2 |\n",
    "|      5 | Brotherhood of the Wolf    |        2 |        2 |\n",
    "|      6 | Wizardborn                 |        2 |        2 |\n",
    "|      7 | The Hobbbit                |        0 |        1 |\n",
    "+--------+----------------------------+----------+----------+\n",
    "7 rows in set (0.001 sec)\n",
    "```"
   ]
  },
  {
   "cell_type": "markdown",
   "id": "b5ec7c97-a9f5-4829-a824-419a1237b2ab",
   "metadata": {},
   "source": [
    "Insersión de datos\n",
    "--"
   ]
  },
  {
   "cell_type": "markdown",
   "id": "5a51d7b1-0c94-484d-aaea-8c770f3bc9ba",
   "metadata": {},
   "source": [
    "```sql\n",
    "MariaDB [test]> INSERT INTO books (Title, SeriesID, AuthorID)\n",
    "    -> VALUES (\"Lair of Bones\", 2, 2);\n",
    "Query OK, 1 row affected (0.004 sec)\n",
    "\n",
    "MariaDB [test]> SELECT * FROM books;\n",
    "+--------+----------------------------+----------+----------+\n",
    "| BookID | Title                      | SeriesID | AuthorID |\n",
    "+--------+----------------------------+----------+----------+\n",
    "|      1 | The Fellowship of the Ring |        1 |        1 |\n",
    "|      2 | The Two Towers             |        1 |        1 |\n",
    "|      3 | The Return of the King     |        1 |        1 |\n",
    "|      4 | The Sum of All Men         |        2 |        2 |\n",
    "|      5 | Brotherhood of the Wolf    |        2 |        2 |\n",
    "|      6 | Wizardborn                 |        2 |        2 |\n",
    "|      7 | The Hobbbit                |        0 |        1 |\n",
    "|      8 | Lair of Bones              |        2 |        2 |\n",
    "+--------+----------------------------+----------+----------+\n",
    "8 rows in set (0.001 sec)\n",
    "```"
   ]
  },
  {
   "cell_type": "markdown",
   "id": "bd853302-d7d7-429e-bb3e-c7804708df3d",
   "metadata": {},
   "source": [
    "Modificación de datos\n",
    "---"
   ]
  },
  {
   "cell_type": "markdown",
   "id": "c42c1562-86f8-4106-97a6-e9d0b807f524",
   "metadata": {},
   "source": [
    "```sql\n",
    "MariaDB [test]> UPDATE books \n",
    "    -> SET Title = \"The Hobbit\" \n",
    "    -> WHERE BookID = 7;\n",
    "Query OK, 1 row affected (0.003 sec)\n",
    "Rows matched: 1  Changed: 1  Warnings: 0\n",
    "\n",
    "MariaDB [test]> SELECT * FROM books;\n",
    "+--------+----------------------------+----------+----------+\n",
    "| BookID | Title                      | SeriesID | AuthorID |\n",
    "+--------+----------------------------+----------+----------+\n",
    "|      1 | The Fellowship of the Ring |        1 |        1 |\n",
    "|      2 | The Two Towers             |        1 |        1 |\n",
    "|      3 | The Return of the King     |        1 |        1 |\n",
    "|      4 | The Sum of All Men         |        2 |        2 |\n",
    "|      5 | Brotherhood of the Wolf    |        2 |        2 |\n",
    "|      6 | Wizardborn                 |        2 |        2 |\n",
    "|      7 | The Hobbit                 |        0 |        1 |\n",
    "|      8 | Lair of Bones              |        2 |        2 |\n",
    "+--------+----------------------------+----------+----------+\n",
    "8 rows in set (0.001 sec)\n",
    "```"
   ]
  },
  {
   "cell_type": "markdown",
   "id": "044aeb0f-4812-4599-8eee-8b6f69e42330",
   "metadata": {},
   "source": [
    "Salida del terminal\n",
    "---"
   ]
  },
  {
   "cell_type": "markdown",
   "id": "5152b6d2-9a2c-40d4-a3f3-8f3fd031c502",
   "metadata": {},
   "source": [
    "```sql\n",
    "MariaDB [test]> exit\n",
    "Bye\n",
    "root@5f54c55f7926:/workspace# \n",
    "```"
   ]
  },
  {
   "cell_type": "markdown",
   "id": "c61d4cb6-1755-40ff-bb15-a332a0977099",
   "metadata": {},
   "source": [
    "Envio de comandos desde el terminal\n",
    "---"
   ]
  },
  {
   "cell_type": "code",
   "execution_count": 1,
   "id": "3c399555-d0fe-4c7a-a38e-ed3792603cb2",
   "metadata": {},
   "outputs": [
    {
     "name": "stdout",
     "output_type": "stream",
     "text": [
      "+--------+----------------------------+----------+----------+\n",
      "| BookID | Title                      | SeriesID | AuthorID |\n",
      "+--------+----------------------------+----------+----------+\n",
      "|      1 | The Fellowship of the Ring |        1 |        1 |\n",
      "|      2 | The Two Towers             |        1 |        1 |\n",
      "|      3 | The Return of the King     |        1 |        1 |\n",
      "|      4 | The Sum of All Men         |        2 |        2 |\n",
      "|      5 | Brotherhood of the Wolf    |        2 |        2 |\n",
      "|      6 | Wizardborn                 |        2 |        2 |\n",
      "|      7 | The Hobbit                 |        0 |        1 |\n",
      "|      8 | Lair of Bones              |        2 |        2 |\n",
      "+--------+----------------------------+----------+----------+\n"
     ]
    }
   ],
   "source": [
    "!mariadb -u root -e \"USE test; SELECT * FROM books;\""
   ]
  },
  {
   "cell_type": "markdown",
   "id": "b9e96aad-4bd2-41bc-9e4e-fabe6a25cd09",
   "metadata": {},
   "source": [
    "Uso de un archivo de comandos\n",
    "---"
   ]
  },
  {
   "cell_type": "code",
   "execution_count": 2,
   "id": "0ee0d22b-de08-4ea8-a8cc-1b32aa21a728",
   "metadata": {},
   "outputs": [
    {
     "name": "stdout",
     "output_type": "stream",
     "text": [
      "Overwriting /tmp/myquery.sql\n"
     ]
    }
   ],
   "source": [
    "%%writefile /tmp/myquery.sql\n",
    "USE test; \n",
    "SELECT * FROM books;"
   ]
  },
  {
   "cell_type": "code",
   "execution_count": 3,
   "id": "234bdbb2-a08f-4269-bf6c-24f531681a17",
   "metadata": {},
   "outputs": [
    {
     "name": "stdout",
     "output_type": "stream",
     "text": [
      "BookID\tTitle\tSeriesID\tAuthorID\n",
      "1\tThe Fellowship of the Ring\t1\t1\n",
      "2\tThe Two Towers\t1\t1\n",
      "3\tThe Return of the King\t1\t1\n",
      "4\tThe Sum of All Men\t2\t2\n",
      "5\tBrotherhood of the Wolf\t2\t2\n",
      "6\tWizardborn\t2\t2\n",
      "7\tThe Hobbit\t0\t1\n",
      "8\tLair of Bones\t2\t2\n"
     ]
    }
   ],
   "source": [
    "!mariadb -u root < /tmp/myquery.sql"
   ]
  },
  {
   "cell_type": "code",
   "execution_count": 4,
   "id": "ca102023-bcec-4b4f-b7dc-7ff142b40e7d",
   "metadata": {},
   "outputs": [
    {
     "name": "stdout",
     "output_type": "stream",
     "text": [
      "BookID\tTitle\tSeriesID\tAuthorID\n",
      "1\tThe Fellowship of the Ring\t1\t1\n",
      "2\tThe Two Towers\t1\t1\n",
      "3\tThe Return of the King\t1\t1\n",
      "4\tThe Sum of All Men\t2\t2\n",
      "5\tBrotherhood of the Wolf\t2\t2\n",
      "6\tWizardborn\t2\t2\n",
      "7\tThe Hobbit\t0\t1\n",
      "8\tLair of Bones\t2\t2\n"
     ]
    }
   ],
   "source": [
    "!mariadb -u root < /tmp/myquery.sql > /tmp/results.csv\n",
    "!cat /tmp/results.csv"
   ]
  }
 ],
 "metadata": {
  "kernelspec": {
   "display_name": "Python 3 (ipykernel)",
   "language": "python",
   "name": "python3"
  },
  "language_info": {
   "codemirror_mode": {
    "name": "ipython",
    "version": 3
   },
   "file_extension": ".py",
   "mimetype": "text/x-python",
   "name": "python",
   "nbconvert_exporter": "python",
   "pygments_lexer": "ipython3",
   "version": "3.8.10"
  }
 },
 "nbformat": 4,
 "nbformat_minor": 5
}
