{
 "cells": [
  {
   "cell_type": "markdown",
   "id": "a386caab-c133-42ba-a6d2-8e963f653781",
   "metadata": {
    "tags": []
   },
   "source": [
    "Paso 3: Métricas, parametros y gráficas --- 0:00 min\n",
    "===\n",
    "\n",
    "* Ultima modificación: Mayo 17, 2022 | YouTube"
   ]
  },
  {
   "cell_type": "markdown",
   "id": "5e4f9940-a773-42f5-99a5-78474bf5fc2e",
   "metadata": {},
   "source": [
    "**Esta es la continuación del ejemplo anterior**"
   ]
  },
  {
   "cell_type": "code",
   "execution_count": 1,
   "id": "68c7dc69-ea06-4bba-b9e0-47665c415655",
   "metadata": {},
   "outputs": [
    {
     "name": "stdout",
     "output_type": "stream",
     "text": [
      "/workspace/dvc/dvcdemo\n"
     ]
    }
   ],
   "source": [
    "%cd dvcdemo"
   ]
  },
  {
   "cell_type": "markdown",
   "id": "9360d513-aff3-4f59-86a8-3e7d9e640d74",
   "metadata": {},
   "source": [
    "Recolección de métricas\n",
    "---"
   ]
  },
  {
   "cell_type": "code",
   "execution_count": 2,
   "id": "326d5eba-96b0-48a4-88d0-267e4ad3a9cb",
   "metadata": {},
   "outputs": [
    {
     "name": "stdout",
     "output_type": "stream",
     "text": [
      "\u001b[31mERROR\u001b[39m: unexpected error - [Errno 2] No such file or directory: '/workspace/dvc/dvcdemo/model.pkl'\n",
      "\n",
      "\u001b[33mHaving any troubles?\u001b[39m Hit us up at \u001b[34mhttps://dvc.org/support\u001b[39m, we are always happy to help!\n",
      "\u001b[0m"
     ]
    }
   ],
   "source": [
    "cmd = \"\"\"\n",
    "dvc run -n evaluate \\\n",
    "          -d src/evaluate.py -d model.pkl -d data/features \\\n",
    "          -M scores.json \\\n",
    "          --plots-no-cache prc.json \\\n",
    "          --plots-no-cache roc.json \\\n",
    "          python3 src/evaluate.py model.pkl \\\n",
    "                  data/features scores.json prc.json roc.json\n",
    "\"\"\"\n",
    "!{cmd}"
   ]
  },
  {
   "cell_type": "code",
   "execution_count": null,
   "id": "bacc9626-15d2-47a7-a7f0-b3b55597190e",
   "metadata": {},
   "outputs": [],
   "source": [
    "!cat dvc.yaml"
   ]
  },
  {
   "cell_type": "code",
   "execution_count": null,
   "id": "26772aaf-70c5-4cb5-89fd-c104a999febc",
   "metadata": {},
   "outputs": [],
   "source": [
    "!dvc metrics show"
   ]
  },
  {
   "cell_type": "code",
   "execution_count": null,
   "id": "fb256c01-0740-485e-89bd-a3731744f111",
   "metadata": {},
   "outputs": [],
   "source": [
    "!dvc plots modify prc.json -x recall -y precision"
   ]
  },
  {
   "cell_type": "code",
   "execution_count": null,
   "id": "9e11485e-f7f7-4663-b0d8-65cf755febd9",
   "metadata": {},
   "outputs": [],
   "source": [
    "!dvc plots modify roc.json -x fpr -y tpr"
   ]
  },
  {
   "cell_type": "code",
   "execution_count": null,
   "id": "d5b8cc17-0459-485b-96f0-40a773338767",
   "metadata": {},
   "outputs": [],
   "source": [
    "!dvc plots show"
   ]
  },
  {
   "cell_type": "code",
   "execution_count": null,
   "id": "c33beff6-f71f-430c-af94-78caa34e8392",
   "metadata": {},
   "outputs": [],
   "source": [
    "!git add scores.json prc.json roc.json"
   ]
  },
  {
   "cell_type": "code",
   "execution_count": null,
   "id": "4ad64c60-c400-4190-976c-589859908c7b",
   "metadata": {},
   "outputs": [],
   "source": [
    "!git commit -a -m \"Create evaluation stage\""
   ]
  },
  {
   "cell_type": "code",
   "execution_count": null,
   "id": "4c5251e9-5f11-4526-9eff-ff28502cdb50",
   "metadata": {},
   "outputs": [],
   "source": [
    "!cat dvc.yaml"
   ]
  },
  {
   "cell_type": "code",
   "execution_count": null,
   "id": "d5aa891a-86d7-4ce3-b96e-3cc9d9d04d37",
   "metadata": {},
   "outputs": [],
   "source": [
    "!cat params.yaml"
   ]
  },
  {
   "cell_type": "markdown",
   "id": "494bafcf-3797-4285-b525-581d1279d0a3",
   "metadata": {},
   "source": [
    "Actualización de los parámetros\n",
    "--"
   ]
  },
  {
   "cell_type": "code",
   "execution_count": null,
   "id": "b3f20e28-18b7-437f-8eaa-4ff34a8903d0",
   "metadata": {},
   "outputs": [],
   "source": [
    "%%writefile params.yaml\n",
    "prepare:\n",
    "  split: 0.20\n",
    "  seed: 20170428\n",
    "\n",
    "featurize:\n",
    "  max_features: 1500\n",
    "  ngrams: 2\n",
    "\n",
    "train:\n",
    "  seed: 20170428\n",
    "  n_est: 50\n",
    "  min_split: 2"
   ]
  },
  {
   "cell_type": "code",
   "execution_count": null,
   "id": "63c3c188-9bae-4da0-86f5-3679aebd6a6a",
   "metadata": {},
   "outputs": [],
   "source": [
    "!dvc repro --quiet"
   ]
  },
  {
   "cell_type": "markdown",
   "id": "8e249d56-137a-4d71-ba63-3a8a3dfc30c8",
   "metadata": {},
   "source": [
    "Comparación\n",
    "--"
   ]
  },
  {
   "cell_type": "code",
   "execution_count": null,
   "id": "7ee59dfd-2915-48b6-92f2-d4a031166d27",
   "metadata": {},
   "outputs": [],
   "source": [
    "!dvc params diff"
   ]
  },
  {
   "cell_type": "code",
   "execution_count": null,
   "id": "39e81d69-bf1e-456f-a826-d0ec1e31a838",
   "metadata": {},
   "outputs": [],
   "source": [
    "!dvc metrics diff"
   ]
  },
  {
   "cell_type": "code",
   "execution_count": null,
   "id": "506b8298-2a90-4ec0-9458-51545c39d12b",
   "metadata": {},
   "outputs": [],
   "source": [
    "!dvc plots diff"
   ]
  }
 ],
 "metadata": {
  "kernelspec": {
   "display_name": "Python 3 (ipykernel)",
   "language": "python",
   "name": "python3"
  },
  "language_info": {
   "codemirror_mode": {
    "name": "ipython",
    "version": 3
   },
   "file_extension": ".py",
   "mimetype": "text/x-python",
   "name": "python",
   "nbconvert_exporter": "python",
   "pygments_lexer": "ipython3",
   "version": "3.8.10"
  }
 },
 "nbformat": 4,
 "nbformat_minor": 5
}
