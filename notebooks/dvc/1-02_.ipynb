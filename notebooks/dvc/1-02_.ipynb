{
 "cells": [
  {
   "cell_type": "markdown",
   "id": "de78ef42-2bb8-4a1d-9fc1-0263dd5e2fe4",
   "metadata": {
    "tags": []
   },
   "source": [
    "Paso 2: Data Pipelines en DVC\n",
    "===\n",
    "\n",
    "* Ultima modificación: Abril 4, 2022"
   ]
  },
  {
   "cell_type": "markdown",
   "id": "50d4669d-583d-4d8a-824b-cd1810161a20",
   "metadata": {},
   "source": [
    "**Este es un proyecto que desarrolla en varios pasos**"
   ]
  },
  {
   "cell_type": "markdown",
   "id": "889ca005-9303-493a-bc76-2187b92c2f3d",
   "metadata": {},
   "source": [
    "**No funciona a gran escala, pero este es un buen ejemplo de pipelines**"
   ]
  },
  {
   "cell_type": "code",
   "execution_count": 2,
   "id": "ce08dafd-5023-49bc-989d-ccf94936ac88",
   "metadata": {},
   "outputs": [
    {
     "name": "stdout",
     "output_type": "stream",
     "text": [
      "/workspace/dvc/dvcdemo\n"
     ]
    }
   ],
   "source": [
    "%cd dvcdemo"
   ]
  },
  {
   "cell_type": "markdown",
   "id": "fd96d147-6a3d-4b0e-b4b0-41825226fa3e",
   "metadata": {},
   "source": [
    "Descarga del proyecto\n",
    "---"
   ]
  },
  {
   "cell_type": "code",
   "execution_count": 7,
   "id": "b7043d12-d050-4fe8-821b-8f70f2bdbc2e",
   "metadata": {},
   "outputs": [
    {
     "name": "stdout",
     "output_type": "stream",
     "text": [
      "--2022-04-23 14:59:49--  https://code.dvc.org/get-started/code.zip\n",
      "Resolving code.dvc.org (code.dvc.org)... 172.67.164.76, 104.21.81.205, 2606:4700:3036::6815:51cd, ...\n",
      "Connecting to code.dvc.org (code.dvc.org)|172.67.164.76|:443... connected.\n",
      "HTTP request sent, awaiting response... 303 See Other\n",
      "Location: https://s3-us-east-2.amazonaws.com/dvc-public/code/get-started/code.zip [following]\n",
      "--2022-04-23 14:59:50--  https://s3-us-east-2.amazonaws.com/dvc-public/code/get-started/code.zip\n",
      "Resolving s3-us-east-2.amazonaws.com (s3-us-east-2.amazonaws.com)... 52.219.103.65\n",
      "Connecting to s3-us-east-2.amazonaws.com (s3-us-east-2.amazonaws.com)|52.219.103.65|:443... connected.\n",
      "HTTP request sent, awaiting response... 200 OK\n",
      "Length: 5405 (5.3K) [application/zip]\n",
      "code.zip: Operation not permitted\n",
      "\n",
      "Cannot write to ‘code.zip’ (Success).\n",
      "unzip:  cannot find or open code.zip, code.zip.zip or code.zip.ZIP.\n"
     ]
    }
   ],
   "source": [
    "!wget https://code.dvc.org/get-started/code.zip\n",
    "!unzip code.zip\n",
    "!rm -f code.zip"
   ]
  },
  {
   "cell_type": "code",
   "execution_count": null,
   "id": "fcd1d4c7-463b-4785-85ad-9da98db4e729",
   "metadata": {},
   "outputs": [],
   "source": [
    "!pip3 install -r src/requirements.txt"
   ]
  },
  {
   "cell_type": "markdown",
   "id": "912cf99a-e3f3-4746-a993-50d199802033",
   "metadata": {
    "tags": []
   },
   "source": [
    "Stage prepare\n",
    "---"
   ]
  },
  {
   "cell_type": "code",
   "execution_count": null,
   "id": "ea86c284-4489-4627-be13-32969e14c045",
   "metadata": {},
   "outputs": [],
   "source": [
    "cmd = \"\"\"\n",
    "dvc stage add -n prepare \\\n",
    "              -p prepare.seed,prepare.split \\\n",
    "              -d src/prepare.py \\\n",
    "              -d data/data.xml \\\n",
    "              -o data/prepared \\\n",
    "               python3 src/prepare.py data/data.xml\n",
    "\"\"\"\n",
    "!{cmd}"
   ]
  },
  {
   "cell_type": "code",
   "execution_count": null,
   "id": "9447d25d-169f-4fab-9e17-69a9fd1d83e4",
   "metadata": {},
   "outputs": [],
   "source": [
    "!cat dvc.yaml"
   ]
  },
  {
   "cell_type": "markdown",
   "id": "0c22e380-3b76-441e-b701-3e4cd824ce08",
   "metadata": {},
   "source": [
    "src/prepare.py\n",
    "---"
   ]
  },
  {
   "cell_type": "code",
   "execution_count": null,
   "id": "60758b76-b61a-496e-8f91-53c99c7fba81",
   "metadata": {},
   "outputs": [],
   "source": [
    "!pygmentize src/prepare.py"
   ]
  },
  {
   "cell_type": "markdown",
   "id": "ac40e0be-aad8-41d1-9a08-a435ed28a043",
   "metadata": {},
   "source": [
    "Stage featurize\n",
    "---"
   ]
  },
  {
   "cell_type": "code",
   "execution_count": null,
   "id": "f567ecf7-9dbb-4990-abfa-55441b00a730",
   "metadata": {},
   "outputs": [],
   "source": [
    "cmd = \"\"\"\n",
    "dvc stage add -n featurize \\\n",
    "              -p featurize.max_features,featurize.ngrams \\\n",
    "              -d src/featurization.py \\\n",
    "              -d data/prepared \\\n",
    "              -o data/features \\\n",
    "              python3 src/featurization.py data/prepared data/features\n",
    "\"\"\"\n",
    "!{cmd}"
   ]
  },
  {
   "cell_type": "code",
   "execution_count": null,
   "id": "a8d0e57b-a197-4a5d-aa90-6e322a4f4abb",
   "metadata": {},
   "outputs": [],
   "source": [
    "!cat dvc.yaml"
   ]
  },
  {
   "cell_type": "markdown",
   "id": "2d8ff022-7a6b-40b0-ab8a-1003bbdfbf65",
   "metadata": {},
   "source": [
    "src/featurization.py\n",
    "---"
   ]
  },
  {
   "cell_type": "code",
   "execution_count": null,
   "id": "bd25d158-b898-437d-b093-124bd0ac06c4",
   "metadata": {},
   "outputs": [],
   "source": [
    "!pygmentize src/featurization.py"
   ]
  },
  {
   "cell_type": "markdown",
   "id": "31158c1b-da18-48c3-87f5-c81c3e962ca1",
   "metadata": {
    "tags": []
   },
   "source": [
    "Stage train\n",
    "---"
   ]
  },
  {
   "cell_type": "code",
   "execution_count": null,
   "id": "8e26e428-fb58-46ad-b7be-2ed55d83b5bc",
   "metadata": {},
   "outputs": [],
   "source": [
    "cmd = \"\"\"\n",
    "dvc stage add -n train \\\n",
    "              -p train.seed,train.n_est,train.min_split \\\n",
    "              -d src/train.py \\\n",
    "              -d data/features \\\n",
    "              -o model.pkl \\\n",
    "              python3 src/train.py data/features model.pkl\n",
    "\"\"\"\n",
    "!{cmd}"
   ]
  },
  {
   "cell_type": "code",
   "execution_count": null,
   "id": "bacc9626-15d2-47a7-a7f0-b3b55597190e",
   "metadata": {},
   "outputs": [],
   "source": [
    "!cat dvc.yaml"
   ]
  },
  {
   "cell_type": "markdown",
   "id": "1db3294a-8dd7-4bb8-85ed-0dd4092f1717",
   "metadata": {},
   "source": [
    "src/train.py\n",
    "---"
   ]
  },
  {
   "cell_type": "code",
   "execution_count": null,
   "id": "b1febdaf-2a81-4c80-bcfc-916222b933d2",
   "metadata": {},
   "outputs": [],
   "source": [
    "!pygmentize src/train.py"
   ]
  },
  {
   "cell_type": "markdown",
   "id": "c240c691-cad1-4f75-a4d5-72beb551b8bf",
   "metadata": {},
   "source": [
    "Data\n",
    "---"
   ]
  },
  {
   "cell_type": "code",
   "execution_count": null,
   "id": "3c50c702-fa95-478b-a395-597cb9d4cb96",
   "metadata": {},
   "outputs": [],
   "source": [
    "#\n",
    "# Descarga los datos desde el repositorio de ejemplo de dvc\n",
    "#\n",
    "repo = \"https://github.com/iterative/dataset-registry\"\n",
    "src = \"get-started/data.xml\"\n",
    "dst = \"data/data.xml\"\n",
    "\n",
    "!dvc get {repo} {src} -o {dst}"
   ]
  },
  {
   "cell_type": "markdown",
   "id": "0a3a209f-21e3-44e3-995c-52a35bdc359f",
   "metadata": {},
   "source": [
    "Reproducción\n",
    "---"
   ]
  },
  {
   "cell_type": "code",
   "execution_count": null,
   "id": "9f472b0f-f551-4bf3-8827-bb8d0e29867f",
   "metadata": {},
   "outputs": [],
   "source": [
    "pwd"
   ]
  },
  {
   "cell_type": "code",
   "execution_count": null,
   "id": "574366c1-f557-446f-b988-ee85ca868814",
   "metadata": {},
   "outputs": [],
   "source": [
    "!dvc repro"
   ]
  },
  {
   "cell_type": "code",
   "execution_count": null,
   "id": "a55d167c-c08a-49e5-b811-c2083c7daf54",
   "metadata": {},
   "outputs": [],
   "source": [
    "!cat dvc.lock"
   ]
  },
  {
   "cell_type": "markdown",
   "id": "3efb6944-7db1-407c-bdee-067d9c4b52ba",
   "metadata": {},
   "source": [
    "Visualización\n",
    "---"
   ]
  },
  {
   "cell_type": "code",
   "execution_count": null,
   "id": "d7c991e3-126b-4fd3-a7e4-5f6128c29e25",
   "metadata": {},
   "outputs": [],
   "source": [
    "!dvc dag"
   ]
  }
 ],
 "metadata": {
  "kernelspec": {
   "display_name": "Python 3 (ipykernel)",
   "language": "python",
   "name": "python3"
  },
  "language_info": {
   "codemirror_mode": {
    "name": "ipython",
    "version": 3
   },
   "file_extension": ".py",
   "mimetype": "text/x-python",
   "name": "python",
   "nbconvert_exporter": "python",
   "pygments_lexer": "ipython3",
   "version": "3.8.10"
  }
 },
 "nbformat": 4,
 "nbformat_minor": 5
}
