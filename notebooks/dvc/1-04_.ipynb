{
 "cells": [
  {
   "cell_type": "markdown",
   "id": "8b2cd53e-0fd4-4aed-a5af-1cd16dbeed1c",
   "metadata": {
    "tags": []
   },
   "source": [
    "Paso 4: Experimentos --- 0:00 min\n",
    "===\n",
    "\n",
    "* Ultima modificación: Mayo 17, 2022 | YouTube"
   ]
  },
  {
   "cell_type": "code",
   "execution_count": null,
   "id": "ddbfe654-bfe2-485b-9830-f936ab137dd5",
   "metadata": {},
   "outputs": [],
   "source": [
    "%cd dvcdemo"
   ]
  },
  {
   "cell_type": "code",
   "execution_count": null,
   "id": "3dd9852c-4bb3-4b36-bc6c-52d2c42711dd",
   "metadata": {
    "tags": []
   },
   "outputs": [],
   "source": [
    "!dvc exp run"
   ]
  },
  {
   "cell_type": "code",
   "execution_count": null,
   "id": "61a65e87-0bf8-4c8f-8c6e-c1dea36637ea",
   "metadata": {},
   "outputs": [],
   "source": [
    "!dvc exp show"
   ]
  },
  {
   "cell_type": "code",
   "execution_count": null,
   "id": "8b117a5b-8262-439c-bfc8-a502a1f4bfd5",
   "metadata": {},
   "outputs": [],
   "source": [
    "!dvc exp run --set-param model.conv_units=24"
   ]
  },
  {
   "cell_type": "code",
   "execution_count": null,
   "id": "72a69045-983b-4838-94e9-9805d4e93a06",
   "metadata": {},
   "outputs": [],
   "source": [
    "!dvc exp show"
   ]
  },
  {
   "cell_type": "code",
   "execution_count": null,
   "id": "91d01d84-c18a-439a-bcbe-8a7ac642cc6a",
   "metadata": {},
   "outputs": [],
   "source": [
    "!dvc exp show --drop 'Created|train|loss'"
   ]
  }
 ],
 "metadata": {
  "kernelspec": {
   "display_name": "Python 3 (ipykernel)",
   "language": "python",
   "name": "python3"
  },
  "language_info": {
   "codemirror_mode": {
    "name": "ipython",
    "version": 3
   },
   "file_extension": ".py",
   "mimetype": "text/x-python",
   "name": "python",
   "nbconvert_exporter": "python",
   "pygments_lexer": "ipython3",
   "version": "3.8.10"
  }
 },
 "nbformat": 4,
 "nbformat_minor": 5
}
