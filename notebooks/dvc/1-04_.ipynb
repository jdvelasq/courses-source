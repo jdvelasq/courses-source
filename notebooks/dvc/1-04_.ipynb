{
 "cells": [
  {
   "cell_type": "markdown",
   "id": "8b2cd53e-0fd4-4aed-a5af-1cd16dbeed1c",
   "metadata": {
    "tags": []
   },
   "source": [
    "(Opcional) Paso 4: Experimentos\n",
    "===\n",
    "\n",
    "* Ultima modificación: Mayo 14, 2022"
   ]
  },
  {
   "cell_type": "code",
   "execution_count": 1,
   "id": "ddbfe654-bfe2-485b-9830-f936ab137dd5",
   "metadata": {},
   "outputs": [
    {
     "name": "stdout",
     "output_type": "stream",
     "text": [
      "/workspace/dvcdemo\n"
     ]
    }
   ],
   "source": [
    "%cd dvcdemo"
   ]
  },
  {
   "cell_type": "code",
   "execution_count": 2,
   "id": "3dd9852c-4bb3-4b36-bc6c-52d2c42711dd",
   "metadata": {
    "tags": []
   },
   "outputs": [
    {
     "name": "stdout",
     "output_type": "stream",
     "text": [
      "'data/data.xml.dvc' didn't change, skipping                           core\u001b[39m>\n",
      "Stage 'prepare' didn't change, skipping\n",
      "Stage 'featurize' didn't change, skipping\n",
      "Stage 'train' didn't change, skipping\n",
      "\u001b[0m                                                                  core\u001b[39m>"
     ]
    }
   ],
   "source": [
    "!dvc exp run"
   ]
  },
  {
   "cell_type": "code",
   "execution_count": 3,
   "id": "61a65e87-0bf8-4c8f-8c6e-c1dea36637ea",
   "metadata": {},
   "outputs": [
    {
     "name": "stdout",
     "output_type": "stream",
     "text": [
      " ────────────────────────────────────────────────────────────────────────────────────────────────────────────────────────────────────────────────────────────────────────────────────────────────────────────────────────────────────────────────────── \n",
      " \u001b[1;30;107m \u001b[0m\u001b[1;30;107mExperiment\u001b[0m\u001b[1;30;107m \u001b[0m \u001b[1;30;107m \u001b[0m\u001b[1;30;107mCreated \u001b[0m\u001b[1;30;107m \u001b[0m \u001b[1;30;107m \u001b[0m\u001b[1;30;107mprepare.split\u001b[0m\u001b[1;30;107m \u001b[0m \u001b[1;30;107m \u001b[0m\u001b[1;30;107mprepare.seed\u001b[0m\u001b[1;30;107m \u001b[0m \u001b[1;30;107m \u001b[0m\u001b[1;30;107mfeaturize.max_features\u001b[0m\u001b[1;30;107m \u001b[0m \u001b[1;30;107m \u001b[0m\u001b[1;30;107mfeaturize.ngrams\u001b[0m\u001b[1;30;107m \u001b[0m \u001b[1;30;107m \u001b[0m\u001b[1;30;107mtrain.seed\u001b[0m\u001b[1;30;107m \u001b[0m \u001b[1;30;107m \u001b[0m\u001b[1;30;107mtrain.n_est\u001b[0m\u001b[1;30;107m \u001b[0m \u001b[1;30;107m \u001b[0m\u001b[1;30;107mtrain.min_split\u001b[0m\u001b[1;30;107m \u001b[0m \u001b[1;30;47m \u001b[0m\u001b[1;30;47mdata/data.xml\u001b[0m\u001b[1;30;47m \u001b[0m \u001b[1;30;47m \u001b[0m\u001b[1;30;47mdata/features\u001b[0m\u001b[1;30;47m \u001b[0m \u001b[1;30;47m \u001b[0m\u001b[1;30;47mdata/prepared\u001b[0m\u001b[1;30;47m \u001b[0m \u001b[1;30;47m \u001b[0m\u001b[1;30;47msrc/featurization.py\u001b[0m\u001b[1;30;47m \u001b[0m \u001b[1;30;47m \u001b[0m\u001b[1;30;47msrc/prepare.py\u001b[0m\u001b[1;30;47m \u001b[0m \u001b[1;30;47m \u001b[0m\u001b[1;30;47msrc/train.py\u001b[0m\u001b[1;30;47m \u001b[0m \n",
      " ────────────────────────────────────────────────────────────────────────────────────────────────────────────────────────────────────────────────────────────────────────────────────────────────────────────────────────────────────────────────────── \n",
      " \u001b[1m \u001b[0m\u001b[1mworkspace\u001b[0m\u001b[1m \u001b[0m\u001b[1m \u001b[0m \u001b[1m \u001b[0m\u001b[1m-       \u001b[0m\u001b[1m \u001b[0m \u001b[1m \u001b[0m\u001b[1m0.2          \u001b[0m\u001b[1m \u001b[0m \u001b[1m \u001b[0m\u001b[1m20170428    \u001b[0m\u001b[1m \u001b[0m \u001b[1m \u001b[0m\u001b[1m1500                  \u001b[0m\u001b[1m \u001b[0m \u001b[1m \u001b[0m\u001b[1m2               \u001b[0m\u001b[1m \u001b[0m \u001b[1m \u001b[0m\u001b[1m20170428  \u001b[0m\u001b[1m \u001b[0m \u001b[1m \u001b[0m\u001b[1m50         \u001b[0m\u001b[1m \u001b[0m \u001b[1m \u001b[0m\u001b[1m2              \u001b[0m\u001b[1m \u001b[0m \u001b[1m \u001b[0m\u001b[1m079fbd1      \u001b[0m\u001b[1m \u001b[0m \u001b[1m \u001b[0m\u001b[1m18598d3      \u001b[0m\u001b[1m \u001b[0m \u001b[1m \u001b[0m\u001b[1m2fe72f3      \u001b[0m\u001b[1m \u001b[0m \u001b[1m \u001b[0m\u001b[1me0265fc             \u001b[0m\u001b[1m \u001b[0m \u001b[1m \u001b[0m\u001b[1mf09ea0c       \u001b[0m\u001b[1m \u001b[0m \u001b[1m \u001b[0m\u001b[1mc3961d7     \u001b[0m\u001b[1m \u001b[0m \n",
      " \u001b[1m \u001b[0m\u001b[1mmaster\u001b[0m\u001b[1m    \u001b[0m\u001b[1m \u001b[0m \u001b[1m \u001b[0m\u001b[1m04:44 PM\u001b[0m\u001b[1m \u001b[0m \u001b[1m \u001b[0m\u001b[1m-            \u001b[0m\u001b[1m \u001b[0m \u001b[1m \u001b[0m\u001b[1m-           \u001b[0m\u001b[1m \u001b[0m \u001b[1m \u001b[0m\u001b[1m-                     \u001b[0m\u001b[1m \u001b[0m \u001b[1m \u001b[0m\u001b[1m-               \u001b[0m\u001b[1m \u001b[0m \u001b[1m \u001b[0m\u001b[1m-         \u001b[0m\u001b[1m \u001b[0m \u001b[1m \u001b[0m\u001b[1m-          \u001b[0m\u001b[1m \u001b[0m \u001b[1m \u001b[0m\u001b[1m-              \u001b[0m\u001b[1m \u001b[0m \u001b[1m \u001b[0m\u001b[1m-            \u001b[0m\u001b[1m \u001b[0m \u001b[1m \u001b[0m\u001b[1m-            \u001b[0m\u001b[1m \u001b[0m \u001b[1m \u001b[0m\u001b[1m-            \u001b[0m\u001b[1m \u001b[0m \u001b[1m \u001b[0m\u001b[1m-                   \u001b[0m\u001b[1m \u001b[0m \u001b[1m \u001b[0m\u001b[1m-             \u001b[0m\u001b[1m \u001b[0m \u001b[1m \u001b[0m\u001b[1m-           \u001b[0m\u001b[1m \u001b[0m \n",
      " ────────────────────────────────────────────────────────────────────────────────────────────────────────────────────────────────────────────────────────────────────────────────────────────────────────────────────────────────────────────────────── \n",
      "\u001b[0m"
     ]
    }
   ],
   "source": [
    "!dvc exp show"
   ]
  },
  {
   "cell_type": "code",
   "execution_count": 4,
   "id": "8b117a5b-8262-439c-bfc8-a502a1f4bfd5",
   "metadata": {},
   "outputs": [
    {
     "name": "stdout",
     "output_type": "stream",
     "text": [
      "\u001b[31mERROR\u001b[39m: 1 parameter is missing from 'params.yaml': model.conv_units39m>\n",
      "\u001b[0m"
     ]
    }
   ],
   "source": [
    "!dvc exp run --set-param model.conv_units=24"
   ]
  },
  {
   "cell_type": "code",
   "execution_count": 5,
   "id": "72a69045-983b-4838-94e9-9805d4e93a06",
   "metadata": {},
   "outputs": [
    {
     "name": "stdout",
     "output_type": "stream",
     "text": [
      " ────────────────────────────────────────────────────────────────────────────────────────────────────────────────────────────────────────────────────────────────────────────────────────────────────────────────────────────────────────────────────── \n",
      " \u001b[1;30;107m \u001b[0m\u001b[1;30;107mExperiment\u001b[0m\u001b[1;30;107m \u001b[0m \u001b[1;30;107m \u001b[0m\u001b[1;30;107mCreated \u001b[0m\u001b[1;30;107m \u001b[0m \u001b[1;30;107m \u001b[0m\u001b[1;30;107mprepare.split\u001b[0m\u001b[1;30;107m \u001b[0m \u001b[1;30;107m \u001b[0m\u001b[1;30;107mprepare.seed\u001b[0m\u001b[1;30;107m \u001b[0m \u001b[1;30;107m \u001b[0m\u001b[1;30;107mfeaturize.max_features\u001b[0m\u001b[1;30;107m \u001b[0m \u001b[1;30;107m \u001b[0m\u001b[1;30;107mfeaturize.ngrams\u001b[0m\u001b[1;30;107m \u001b[0m \u001b[1;30;107m \u001b[0m\u001b[1;30;107mtrain.seed\u001b[0m\u001b[1;30;107m \u001b[0m \u001b[1;30;107m \u001b[0m\u001b[1;30;107mtrain.n_est\u001b[0m\u001b[1;30;107m \u001b[0m \u001b[1;30;107m \u001b[0m\u001b[1;30;107mtrain.min_split\u001b[0m\u001b[1;30;107m \u001b[0m \u001b[1;30;47m \u001b[0m\u001b[1;30;47mdata/data.xml\u001b[0m\u001b[1;30;47m \u001b[0m \u001b[1;30;47m \u001b[0m\u001b[1;30;47mdata/features\u001b[0m\u001b[1;30;47m \u001b[0m \u001b[1;30;47m \u001b[0m\u001b[1;30;47mdata/prepared\u001b[0m\u001b[1;30;47m \u001b[0m \u001b[1;30;47m \u001b[0m\u001b[1;30;47msrc/featurization.py\u001b[0m\u001b[1;30;47m \u001b[0m \u001b[1;30;47m \u001b[0m\u001b[1;30;47msrc/prepare.py\u001b[0m\u001b[1;30;47m \u001b[0m \u001b[1;30;47m \u001b[0m\u001b[1;30;47msrc/train.py\u001b[0m\u001b[1;30;47m \u001b[0m \n",
      " ────────────────────────────────────────────────────────────────────────────────────────────────────────────────────────────────────────────────────────────────────────────────────────────────────────────────────────────────────────────────────── \n",
      " \u001b[1m \u001b[0m\u001b[1mworkspace\u001b[0m\u001b[1m \u001b[0m\u001b[1m \u001b[0m \u001b[1m \u001b[0m\u001b[1m-       \u001b[0m\u001b[1m \u001b[0m \u001b[1m \u001b[0m\u001b[1m0.2          \u001b[0m\u001b[1m \u001b[0m \u001b[1m \u001b[0m\u001b[1m20170428    \u001b[0m\u001b[1m \u001b[0m \u001b[1m \u001b[0m\u001b[1m1500                  \u001b[0m\u001b[1m \u001b[0m \u001b[1m \u001b[0m\u001b[1m2               \u001b[0m\u001b[1m \u001b[0m \u001b[1m \u001b[0m\u001b[1m20170428  \u001b[0m\u001b[1m \u001b[0m \u001b[1m \u001b[0m\u001b[1m50         \u001b[0m\u001b[1m \u001b[0m \u001b[1m \u001b[0m\u001b[1m2              \u001b[0m\u001b[1m \u001b[0m \u001b[1m \u001b[0m\u001b[1m079fbd1      \u001b[0m\u001b[1m \u001b[0m \u001b[1m \u001b[0m\u001b[1m18598d3      \u001b[0m\u001b[1m \u001b[0m \u001b[1m \u001b[0m\u001b[1m2fe72f3      \u001b[0m\u001b[1m \u001b[0m \u001b[1m \u001b[0m\u001b[1me0265fc             \u001b[0m\u001b[1m \u001b[0m \u001b[1m \u001b[0m\u001b[1mf09ea0c       \u001b[0m\u001b[1m \u001b[0m \u001b[1m \u001b[0m\u001b[1mc3961d7     \u001b[0m\u001b[1m \u001b[0m \n",
      " \u001b[1m \u001b[0m\u001b[1mmaster\u001b[0m\u001b[1m    \u001b[0m\u001b[1m \u001b[0m \u001b[1m \u001b[0m\u001b[1m04:44 PM\u001b[0m\u001b[1m \u001b[0m \u001b[1m \u001b[0m\u001b[1m-            \u001b[0m\u001b[1m \u001b[0m \u001b[1m \u001b[0m\u001b[1m-           \u001b[0m\u001b[1m \u001b[0m \u001b[1m \u001b[0m\u001b[1m-                     \u001b[0m\u001b[1m \u001b[0m \u001b[1m \u001b[0m\u001b[1m-               \u001b[0m\u001b[1m \u001b[0m \u001b[1m \u001b[0m\u001b[1m-         \u001b[0m\u001b[1m \u001b[0m \u001b[1m \u001b[0m\u001b[1m-          \u001b[0m\u001b[1m \u001b[0m \u001b[1m \u001b[0m\u001b[1m-              \u001b[0m\u001b[1m \u001b[0m \u001b[1m \u001b[0m\u001b[1m-            \u001b[0m\u001b[1m \u001b[0m \u001b[1m \u001b[0m\u001b[1m-            \u001b[0m\u001b[1m \u001b[0m \u001b[1m \u001b[0m\u001b[1m-            \u001b[0m\u001b[1m \u001b[0m \u001b[1m \u001b[0m\u001b[1m-                   \u001b[0m\u001b[1m \u001b[0m \u001b[1m \u001b[0m\u001b[1m-             \u001b[0m\u001b[1m \u001b[0m \u001b[1m \u001b[0m\u001b[1m-           \u001b[0m\u001b[1m \u001b[0m \n",
      " ────────────────────────────────────────────────────────────────────────────────────────────────────────────────────────────────────────────────────────────────────────────────────────────────────────────────────────────────────────────────────── \n",
      "\u001b[0m"
     ]
    }
   ],
   "source": [
    "!dvc exp show"
   ]
  },
  {
   "cell_type": "code",
   "execution_count": 6,
   "id": "91d01d84-c18a-439a-bcbe-8a7ac642cc6a",
   "metadata": {},
   "outputs": [
    {
     "name": "stdout",
     "output_type": "stream",
     "text": [
      " ────────────────────────────────────────────────────────────────────────────────────────────────────────────────────────────────────────────────────────────────────────────────────────────── \n",
      " \u001b[1;30;107m \u001b[0m\u001b[1;30;107mExperiment\u001b[0m\u001b[1;30;107m \u001b[0m \u001b[1;30;107m \u001b[0m\u001b[1;30;107mprepare.split\u001b[0m\u001b[1;30;107m \u001b[0m \u001b[1;30;107m \u001b[0m\u001b[1;30;107mprepare.seed\u001b[0m\u001b[1;30;107m \u001b[0m \u001b[1;30;107m \u001b[0m\u001b[1;30;107mfeaturize.max_features\u001b[0m\u001b[1;30;107m \u001b[0m \u001b[1;30;107m \u001b[0m\u001b[1;30;107mfeaturize.ngrams\u001b[0m\u001b[1;30;107m \u001b[0m \u001b[1;30;47m \u001b[0m\u001b[1;30;47mdata/data.xml\u001b[0m\u001b[1;30;47m \u001b[0m \u001b[1;30;47m \u001b[0m\u001b[1;30;47mdata/features\u001b[0m\u001b[1;30;47m \u001b[0m \u001b[1;30;47m \u001b[0m\u001b[1;30;47mdata/prepared\u001b[0m\u001b[1;30;47m \u001b[0m \u001b[1;30;47m \u001b[0m\u001b[1;30;47msrc/featurization.py\u001b[0m\u001b[1;30;47m \u001b[0m \u001b[1;30;47m \u001b[0m\u001b[1;30;47msrc/prepare.py\u001b[0m\u001b[1;30;47m \u001b[0m \u001b[1;30;47m \u001b[0m\u001b[1;30;47msrc/train.py\u001b[0m\u001b[1;30;47m \u001b[0m \n",
      " ────────────────────────────────────────────────────────────────────────────────────────────────────────────────────────────────────────────────────────────────────────────────────────────── \n",
      " \u001b[1m \u001b[0m\u001b[1mworkspace\u001b[0m\u001b[1m \u001b[0m\u001b[1m \u001b[0m \u001b[1m \u001b[0m\u001b[1m0.2          \u001b[0m\u001b[1m \u001b[0m \u001b[1m \u001b[0m\u001b[1m20170428    \u001b[0m\u001b[1m \u001b[0m \u001b[1m \u001b[0m\u001b[1m1500                  \u001b[0m\u001b[1m \u001b[0m \u001b[1m \u001b[0m\u001b[1m2               \u001b[0m\u001b[1m \u001b[0m \u001b[1m \u001b[0m\u001b[1m079fbd1      \u001b[0m\u001b[1m \u001b[0m \u001b[1m \u001b[0m\u001b[1m18598d3      \u001b[0m\u001b[1m \u001b[0m \u001b[1m \u001b[0m\u001b[1m2fe72f3      \u001b[0m\u001b[1m \u001b[0m \u001b[1m \u001b[0m\u001b[1me0265fc             \u001b[0m\u001b[1m \u001b[0m \u001b[1m \u001b[0m\u001b[1mf09ea0c       \u001b[0m\u001b[1m \u001b[0m \u001b[1m \u001b[0m\u001b[1mc3961d7     \u001b[0m\u001b[1m \u001b[0m \n",
      " \u001b[1m \u001b[0m\u001b[1mmaster\u001b[0m\u001b[1m    \u001b[0m\u001b[1m \u001b[0m \u001b[1m \u001b[0m\u001b[1m-            \u001b[0m\u001b[1m \u001b[0m \u001b[1m \u001b[0m\u001b[1m-           \u001b[0m\u001b[1m \u001b[0m \u001b[1m \u001b[0m\u001b[1m-                     \u001b[0m\u001b[1m \u001b[0m \u001b[1m \u001b[0m\u001b[1m-               \u001b[0m\u001b[1m \u001b[0m \u001b[1m \u001b[0m\u001b[1m-            \u001b[0m\u001b[1m \u001b[0m \u001b[1m \u001b[0m\u001b[1m-            \u001b[0m\u001b[1m \u001b[0m \u001b[1m \u001b[0m\u001b[1m-            \u001b[0m\u001b[1m \u001b[0m \u001b[1m \u001b[0m\u001b[1m-                   \u001b[0m\u001b[1m \u001b[0m \u001b[1m \u001b[0m\u001b[1m-             \u001b[0m\u001b[1m \u001b[0m \u001b[1m \u001b[0m\u001b[1m-           \u001b[0m\u001b[1m \u001b[0m \n",
      " ────────────────────────────────────────────────────────────────────────────────────────────────────────────────────────────────────────────────────────────────────────────────────────────── \n",
      "\u001b[0m"
     ]
    }
   ],
   "source": [
    "!dvc exp show --drop 'Created|train|loss'"
   ]
  }
 ],
 "metadata": {
  "kernelspec": {
   "display_name": "Python 3 (ipykernel)",
   "language": "python",
   "name": "python3"
  },
  "language_info": {
   "codemirror_mode": {
    "name": "ipython",
    "version": 3
   },
   "file_extension": ".py",
   "mimetype": "text/x-python",
   "name": "python",
   "nbconvert_exporter": "python",
   "pygments_lexer": "ipython3",
   "version": "3.8.10"
  }
 },
 "nbformat": 4,
 "nbformat_minor": 5
}
