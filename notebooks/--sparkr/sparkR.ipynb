{
 "cells": [
  {
   "cell_type": "markdown",
   "metadata": {},
   "source": [
    "Consultas en Spark usando SparkR\n",
    "===\n",
    "\n",
    "* *30 min* | Última modificación: Junio 22, 2019"
   ]
  },
  {
   "cell_type": "markdown",
   "metadata": {},
   "source": [
    "Spark SQL es una interfaz para el procesamiento de datos estructurados usando el lenguaje SQL, desarrollada directamente en el proyecto Apache Spark. En adición, Spark SQL también puede ser usado para leer datos de Apache Hive. Spark SQL opera sobre DataFrames, los cuales son Datasets (RDD) organizado por columnas identificadas por nombres, los cuales equivalen a tablas en los sistemas de bases de datos relacionales.\n",
    "\n",
    "Al finalizar este tutorial, el lector estará en capacidad de:\n",
    "\n",
    "* Leer distintos tipos de archivos en Spark usando R.\n",
    "\n",
    "* Realizar operaciones sobre DataFrames en Spark desde R.\n",
    "\n",
    "* Realizar consultas SQL en Spark.\n",
    "\n",
    "* Realizar consultas en SQL directamente sobre archivos.\n"
   ]
  },
  {
   "cell_type": "markdown",
   "metadata": {},
   "source": [
    "## Preparación"
   ]
  },
  {
   "cell_type": "code",
   "execution_count": 1,
   "metadata": {},
   "outputs": [],
   "source": [
    "%load_ext rpy2.ipython"
   ]
  },
  {
   "cell_type": "code",
   "execution_count": 2,
   "metadata": {},
   "outputs": [
    {
     "data": {
      "text/plain": [
       "NULL\n"
      ]
     },
     "metadata": {},
     "output_type": "display_data"
    }
   ],
   "source": [
    "%%R\n",
    "## Instalación\n",
    "#\n",
    "#install.packages('SparkR')\n",
    "#"
   ]
  },
  {
   "cell_type": "code",
   "execution_count": 3,
   "metadata": {},
   "outputs": [],
   "source": [
    "##\n",
    "## Esta función se usará para ejecutar comandos en el \n",
    "## sistema operativo y capturar la salida.\n",
    "##\n",
    "# systemp <- function(command) cat(system(command, intern = TRUE), sep = '\\n')"
   ]
  },
  {
   "cell_type": "code",
   "execution_count": 4,
   "metadata": {},
   "outputs": [
    {
     "name": "stderr",
     "output_type": "stream",
     "text": [
      "/opt/conda/lib/python3.7/site-packages/rpy2/rinterface/__init__.py:146: RRuntimeWarning: \n",
      "Attaching package: ‘SparkR’\n",
      "\n",
      "\n",
      "  warnings.warn(x, RRuntimeWarning)\n",
      "/opt/conda/lib/python3.7/site-packages/rpy2/rinterface/__init__.py:146: RRuntimeWarning: The following objects are masked from ‘package:stats’:\n",
      "\n",
      "    cov, filter, lag, na.omit, predict, sd, var, window\n",
      "\n",
      "\n",
      "  warnings.warn(x, RRuntimeWarning)\n",
      "/opt/conda/lib/python3.7/site-packages/rpy2/rinterface/__init__.py:146: RRuntimeWarning: The following objects are masked from ‘package:base’:\n",
      "\n",
      "    as.data.frame, colnames, colnames<-, drop, endsWith, intersect,\n",
      "    rank, rbind, sample, startsWith, subset, summary, transform, union\n",
      "\n",
      "\n",
      "  warnings.warn(x, RRuntimeWarning)\n",
      "/opt/conda/lib/python3.7/site-packages/rpy2/rinterface/__init__.py:146: RRuntimeWarning: Spark package found in SPARK_HOME: /usr/local/spark\n",
      "\n",
      "  warnings.warn(x, RRuntimeWarning)\n"
     ]
    },
    {
     "data": {
      "text/plain": [
       "Launching java with spark-submit command /usr/local/spark/bin/spark-submit   sparkr-shell /tmp/RtmpLZLidu/backend_port93b30b95e46 \n"
      ]
     },
     "metadata": {},
     "output_type": "display_data"
    }
   ],
   "source": [
    "%%R\n",
    "library(SparkR)\n",
    "sparkR.session(enableHiveSupport = FALSE)\n",
    "setLogLevel(\"ERROR\")"
   ]
  },
  {
   "cell_type": "markdown",
   "metadata": {},
   "source": [
    "## Creación de DataFrames"
   ]
  },
  {
   "cell_type": "markdown",
   "metadata": {},
   "source": [
    "A continuación se presenta la carga de DataFrames desde diferentes formatos."
   ]
  },
  {
   "cell_type": "markdown",
   "metadata": {},
   "source": [
    "### Formato JSON"
   ]
  },
  {
   "cell_type": "markdown",
   "metadata": {},
   "source": [
    "Se crea un archivo en formato JSON en la máquina local."
   ]
  },
  {
   "cell_type": "code",
   "execution_count": 5,
   "metadata": {},
   "outputs": [
    {
     "name": "stdout",
     "output_type": "stream",
     "text": [
      "Writing people.json\n"
     ]
    }
   ],
   "source": [
    "%%writefile people.json\n",
    "{\"id\": 1,  \"firstname\": \"Vivian\",   \"surname\": \"Hamilton\", \"birthdate\": \"1971-07-08\",  \"color\": \"green\",  \"quantity\": 1 }\n",
    "{\"id\": 2,  \"firstname\": \"Karen\",    \"surname\": \"Holcomb\",  \"birthdate\": \"1974-05-23\",  \"color\": \"green\",  \"quantity\": 4 }\n",
    "{\"id\": 3,  \"firstname\": \"Cody\",     \"surname\": \"Garrett\",  \"birthdate\": \"1973-04-22\",  \"color\": \"orange\", \"quantity\": 1 }\n",
    "{\"id\": 4,  \"firstname\": \"Roth\",     \"surname\": \"Fry\",      \"birthdate\": \"1975-01-29\",  \"color\": \"black\",  \"quantity\": 1 }\n",
    "{\"id\": 5,  \"firstname\": \"Zoe\",      \"surname\": \"Conway\",   \"birthdate\": \"1974-07-03\",  \"color\": \"blue\",   \"quantity\": 2 }\n",
    "{\"id\": 6,  \"firstname\": \"Gretchen\", \"surname\": \"Kinney\",   \"birthdate\": \"1974-10-18\",  \"color\": \"violet\", \"quantity\": 1 }\n",
    "{\"id\": 7,  \"firstname\": \"Driscoll\", \"surname\": \"Klein\",    \"birthdate\": \"1970-10-05\",  \"color\": \"blue\",   \"quantity\": 5 }\n",
    "{\"id\": 8,  \"firstname\": \"Karyn\",    \"surname\": \"Diaz\",     \"birthdate\": \"1969-02-24\",  \"color\": \"red\",    \"quantity\": 1 }\n",
    "{\"id\": 9,  \"firstname\": \"Merritt\",  \"surname\": \"Guy\",      \"birthdate\": \"1974-10-17\",  \"color\": \"indigo\", \"quantity\": 4 }\n",
    "{\"id\": 10, \"firstname\": \"Kylan\",    \"surname\": \"Sexton\",   \"birthdate\": \"1975-02-28\",  \"color\": \"black\",  \"quantity\": 4 }\n",
    "{\"id\": 11, \"firstname\": \"Jordan\",   \"surname\": \"Estes\",    \"birthdate\": \"1969-12-07\",  \"color\": \"indigo\", \"quantity\": 4 }\n",
    "{\"id\": 12, \"firstname\": \"Hope\",     \"surname\": \"Coffey\",   \"birthdate\": \"1973-12-24\",  \"color\": \"green\",  \"quantity\": 5 }\n",
    "{\"id\": 13, \"firstname\": \"Vivian\",   \"surname\": \"Crane\",    \"birthdate\": \"1970-08-27\",  \"color\": \"gray\",   \"quantity\": 5 }\n",
    "{\"id\": 14, \"firstname\": \"Clio\",     \"surname\": \"Noel\",     \"birthdate\": \"1972-12-12\",  \"color\": \"red\",    \"quantity\": 5 }\n",
    "{\"id\": 15, \"firstname\": \"Hope\",     \"surname\": \"Silva\",    \"birthdate\": \"1970-07-01\",  \"color\": \"blue\",   \"quantity\": 5 }\n",
    "{\"id\": 16, \"firstname\": \"Ayanna\",   \"surname\": \"Jarvis\",   \"birthdate\": \"1974-02-11\",  \"color\": \"orange\", \"quantity\": 5 }\n",
    "{\"id\": 17, \"firstname\": \"Chanda\",   \"surname\": \"Boyer\",    \"birthdate\": \"1973-04-01\",  \"color\": \"green\",  \"quantity\": 4 }\n",
    "{\"id\": 18, \"firstname\": \"Chadwick\", \"surname\": \"Knight\",   \"birthdate\": \"1973-04-29\",  \"color\": \"yellow\", \"quantity\": 1 }"
   ]
  },
  {
   "cell_type": "code",
   "execution_count": 6,
   "metadata": {},
   "outputs": [],
   "source": [
    "## Copia el archivo people.json al archivo /tmp/people.json en el HDFS\n",
    "!hdfs dfs -copyFromLocal people.json /tmp/people.json"
   ]
  },
  {
   "cell_type": "code",
   "execution_count": 7,
   "metadata": {},
   "outputs": [
    {
     "data": {
      "text/plain": [
       "    birthdate  color firstname id quantity  surname\n",
       "1  1971-07-08  green    Vivian  1        1 Hamilton\n",
       "2  1974-05-23  green     Karen  2        4  Holcomb\n",
       "3  1973-04-22 orange      Cody  3        1  Garrett\n",
       "4  1975-01-29  black      Roth  4        1      Fry\n",
       "5  1974-07-03   blue       Zoe  5        2   Conway\n",
       "6  1974-10-18 violet  Gretchen  6        1   Kinney\n",
       "7  1970-10-05   blue  Driscoll  7        5    Klein\n",
       "8  1969-02-24    red     Karyn  8        1     Diaz\n",
       "9  1974-10-17 indigo   Merritt  9        4      Guy\n",
       "10 1975-02-28  black     Kylan 10        4   Sexton\n",
       "11 1969-12-07 indigo    Jordan 11        4    Estes\n",
       "12 1973-12-24  green      Hope 12        5   Coffey\n",
       "13 1970-08-27   gray    Vivian 13        5    Crane\n",
       "14 1972-12-12    red      Clio 14        5     Noel\n",
       "15 1970-07-01   blue      Hope 15        5    Silva\n",
       "16 1974-02-11 orange    Ayanna 16        5   Jarvis\n",
       "17 1973-04-01  green    Chanda 17        4    Boyer\n",
       "18 1973-04-29 yellow  Chadwick 18        1   Knight\n"
      ]
     },
     "metadata": {},
     "output_type": "display_data"
    }
   ],
   "source": [
    "%%R\n",
    "##\n",
    "## La función spark.read.json() carga directamente\n",
    "## el archivo en JSON con un DataFrame.\n",
    "##\n",
    "df <- read.df('/tmp/people.json', # archivo\n",
    "              'json')             # formato\n",
    "\n",
    "##\n",
    "## La función show() permite cargar \n",
    "## los datos del DataFrame a R\n",
    "##\n",
    "collect(df)"
   ]
  },
  {
   "cell_type": "markdown",
   "metadata": {},
   "source": [
    "### Formato CSV"
   ]
  },
  {
   "cell_type": "markdown",
   "metadata": {},
   "source": [
    "A continuación se ejemplifica como procesar un archivo de texto para convertirlo en un DataFrame. "
   ]
  },
  {
   "cell_type": "code",
   "execution_count": 8,
   "metadata": {},
   "outputs": [
    {
     "name": "stdout",
     "output_type": "stream",
     "text": [
      "Writing people.csv\n"
     ]
    }
   ],
   "source": [
    "%%writefile people.csv\n",
    "id,firstname,surname,birthdate,color,quantity\n",
    "1,Vivian,Hamilton,1971-07-08,green,1\n",
    "2,Karen,Holcomb,1974-05-23,green,4\n",
    "3,Cody,Garrett,1973-04-22,orange,1\n",
    "4,Roth,Fry,1975-01-29,black,1\n",
    "5,Zoe,Conway,1974-07-03,blue,2\n",
    "6,Gretchen,Kinney,1974-10-18,violet,1\n",
    "7,Driscoll,Klein,1970-10-05,blue,5\n",
    "8,Karyn,Diaz,1969-02-24,red,1\n",
    "9,Merritt,Guy,1974-10-17,indigo,4\n",
    "10,Kylan,Sexton,1975-02-28,black,4\n",
    "11,Jordan,Estes,1969-12-07,indigo,4\n",
    "12,Hope,Coffey,1973-12-24,green,5\n",
    "13,Vivian,Crane,1970-08-27,gray,5\n",
    "14,Clio,Noel,1972-12-12,red,5\n",
    "15,Hope,Silva,1970-07-01,blue,5\n",
    "16,Ayanna,Jarvis,1974-02-11,orange,5\n",
    "17,Chanda,Boyer,1973-04-01,green,4\n",
    "18,Chadwick,Knight,1973-04-29,yellow,1"
   ]
  },
  {
   "cell_type": "code",
   "execution_count": 9,
   "metadata": {},
   "outputs": [],
   "source": [
    "## copia el archivo al HDFS\n",
    "!hdfs dfs -copyFromLocal people.csv /tmp/people.csv"
   ]
  },
  {
   "cell_type": "code",
   "execution_count": 10,
   "metadata": {},
   "outputs": [
    {
     "data": {
      "text/plain": [
       "  id firstname  surname  birthdate  color quantity\n",
       "1  1    Vivian Hamilton 1971-07-08  green        1\n",
       "2  2     Karen  Holcomb 1974-05-23  green        4\n",
       "3  3      Cody  Garrett 1973-04-22 orange        1\n",
       "4  4      Roth      Fry 1975-01-29  black        1\n",
       "5  5       Zoe   Conway 1974-07-03   blue        2\n",
       "6  6  Gretchen   Kinney 1974-10-18 violet        1\n"
      ]
     },
     "metadata": {},
     "output_type": "display_data"
    }
   ],
   "source": [
    "%%R\n",
    "head(read.df('/tmp/people.csv',  # ubicación y nombre del archivo\n",
    "             'csv',              # formato\n",
    "             header = TRUE))     # encabeamiento"
   ]
  },
  {
   "cell_type": "code",
   "execution_count": 11,
   "metadata": {},
   "outputs": [
    {
     "data": {
      "text/plain": [
       "'SparkDataFrame': 6 variables:\n",
       " $ id       : chr \"1\" \"2\" \"3\" \"4\" \"5\" \"6\"\n",
       " $ firstname: chr \"Vivian\" \"Karen\" \"Cody\" \"Roth\" \"Zoe\" \"Gretchen\"\n",
       " $ surname  : chr \"Hamilton\" \"Holcomb\" \"Garrett\" \"Fry\" \"Conway\" \"Kinney\"\n",
       " $ birthdate: chr \"1971-07-08\" \"1974-05-23\" \"1973-04-22\" \"1975-01-29\" \"1974-07-03\" \"1974-10-18\"\n",
       " $ color    : chr \"green\" \"green\" \"orange\" \"black\" \"blue\" \"violet\"\n",
       " $ quantity : chr \"1\" \"4\" \"1\" \"1\" \"2\" \"1\"\n"
      ]
     },
     "metadata": {},
     "output_type": "display_data"
    }
   ],
   "source": [
    "%%R\n",
    "str(read.df('/tmp/people.csv', 'csv', header = TRUE))"
   ]
  },
  {
   "cell_type": "code",
   "execution_count": 12,
   "metadata": {},
   "outputs": [
    {
     "data": {
      "text/plain": [
       "                                          value\n",
       "1 id,firstname,surname,birthdate,color,quantity\n",
       "2          1,Vivian,Hamilton,1971-07-08,green,1\n",
       "3            2,Karen,Holcomb,1974-05-23,green,4\n",
       "4            3,Cody,Garrett,1973-04-22,orange,1\n",
       "5                 4,Roth,Fry,1975-01-29,black,1\n",
       "6                5,Zoe,Conway,1974-07-03,blue,2\n"
      ]
     },
     "metadata": {},
     "output_type": "display_data"
    }
   ],
   "source": [
    "%%R\n",
    "##\n",
    "## Lectura del archivo como lineas de texto\n",
    "##\n",
    "df <- read.text('/tmp/people.csv')\n",
    "head(df)"
   ]
  },
  {
   "cell_type": "markdown",
   "metadata": {},
   "source": [
    "## Operaciones sobre DataFrames"
   ]
  },
  {
   "cell_type": "code",
   "execution_count": 13,
   "metadata": {},
   "outputs": [
    {
     "data": {
      "text/plain": [
       "  id firstname  surname  birthdate  color quantity\n",
       "1  1    Vivian Hamilton 1971-07-08  green        1\n",
       "2  2     Karen  Holcomb 1974-05-23  green        4\n",
       "3  3      Cody  Garrett 1973-04-22 orange        1\n",
       "4  4      Roth      Fry 1975-01-29  black        1\n",
       "5  5       Zoe   Conway 1974-07-03   blue        2\n",
       "6  6  Gretchen   Kinney 1974-10-18 violet        1\n"
      ]
     },
     "metadata": {},
     "output_type": "display_data"
    }
   ],
   "source": [
    "%%R\n",
    "df <- read.df('/tmp/people.csv', 'csv', header = TRUE)\n",
    "head(df)"
   ]
  },
  {
   "cell_type": "code",
   "execution_count": 14,
   "metadata": {},
   "outputs": [
    {
     "data": {
      "text/plain": [
       "root\n",
       " |-- id: string (nullable = true)\n",
       " |-- firstname: string (nullable = true)\n",
       " |-- surname: string (nullable = true)\n",
       " |-- birthdate: string (nullable = true)\n",
       " |-- color: string (nullable = true)\n",
       " |-- quantity: string (nullable = true)\n"
      ]
     },
     "metadata": {},
     "output_type": "display_data"
    }
   ],
   "source": [
    "%%R\n",
    "##\n",
    "## Imprime el esquema en formato de arbol\n",
    "##\n",
    "printSchema(df)"
   ]
  },
  {
   "cell_type": "code",
   "execution_count": 15,
   "metadata": {},
   "outputs": [
    {
     "data": {
      "text/plain": [
       "  firstname\n",
       "1    Vivian\n",
       "2     Karen\n",
       "3      Cody\n",
       "4      Roth\n",
       "5       Zoe\n",
       "6  Gretchen\n"
      ]
     },
     "metadata": {},
     "output_type": "display_data"
    }
   ],
   "source": [
    "%%R\n",
    "##\n",
    "## Selección de una columna en particular\n",
    "##\n",
    "head(collect(select(df, 'firstname')))"
   ]
  },
  {
   "cell_type": "code",
   "execution_count": 16,
   "metadata": {},
   "outputs": [
    {
     "data": {
      "text/plain": [
       "  firstname  surname\n",
       "1    Vivian Hamilton\n",
       "2     Karen  Holcomb\n",
       "3      Cody  Garrett\n",
       "4      Roth      Fry\n",
       "5       Zoe   Conway\n",
       "6  Gretchen   Kinney\n"
      ]
     },
     "metadata": {},
     "output_type": "display_data"
    }
   ],
   "source": [
    "%%R\n",
    "##\n",
    "## Selección de varias columnas\n",
    "##\n",
    "head(select(df, c('firstname', 'surname')))"
   ]
  },
  {
   "cell_type": "code",
   "execution_count": 17,
   "metadata": {},
   "outputs": [
    {
     "data": {
      "text/plain": [
       "  id firstname surname  birthdate color quantity\n",
       "1  5       Zoe  Conway 1974-07-03  blue        2\n",
       "2  7  Driscoll   Klein 1970-10-05  blue        5\n",
       "3 15      Hope   Silva 1970-07-01  blue        5\n"
      ]
     },
     "metadata": {},
     "output_type": "display_data"
    }
   ],
   "source": [
    "%%R\n",
    "##\n",
    "## Filtrado de registros usando condicionales\n",
    "##\n",
    "head(filter(df, df$color == 'blue'))"
   ]
  },
  {
   "cell_type": "code",
   "execution_count": 18,
   "metadata": {},
   "outputs": [
    {
     "data": {
      "text/plain": [
       "  id firstname  surname  birthdate  color quantity\n",
       "1  1    Vivian Hamilton 1971-07-08  green        1\n",
       "2  2     Karen  Holcomb 1974-05-23  green        4\n",
       "3  3      Cody  Garrett 1973-04-22 orange        1\n",
       "4  4      Roth      Fry 1975-01-29  black        1\n",
       "5  5       Zoe   Conway 1974-07-03   blue        2\n",
       "6  6  Gretchen   Kinney 1974-10-18 violet        1\n"
      ]
     },
     "metadata": {},
     "output_type": "display_data"
    }
   ],
   "source": [
    "%%R\n",
    "##\n",
    "## Consultas\n",
    "##   Se crea una vista temporal\n",
    "##   que desaparece cuando se cierra la\n",
    "##   sesión actual de SparkR\n",
    "##\n",
    "createOrReplaceTempView(df, 'peopleview') ## este es el nombre de la tabla\n",
    "\n",
    "## Se realiza la consulta usando directamente SQL\n",
    "sqlDF <- sql('SELECT * FROM peopleview')\n",
    "head(sqlDF)"
   ]
  },
  {
   "cell_type": "code",
   "execution_count": 19,
   "metadata": {},
   "outputs": [
    {
     "data": {
      "text/plain": [
       "  quantity count\n",
       "1        5     6\n",
       "2        1     6\n",
       "3        4     5\n",
       "4        2     1\n"
      ]
     },
     "metadata": {},
     "output_type": "display_data"
    }
   ],
   "source": [
    "%%R\n",
    "head(summarize(groupBy(df,            ## DataFrame\n",
    "                       df$quantity),  ## Columna para realizar la agregación\n",
    "               count=n(df$quantity))) ## Cuenta la cantidad de registros por valor en quantity"
   ]
  },
  {
   "cell_type": "markdown",
   "metadata": {},
   "source": [
    "## Ejecución de SQL directamente sobre archivos"
   ]
  },
  {
   "cell_type": "markdown",
   "metadata": {},
   "source": [
    "Spark SQL permite ejecutar directamente SQL sobre archivos indicando el tipo de archivo."
   ]
  },
  {
   "cell_type": "code",
   "execution_count": 20,
   "metadata": {},
   "outputs": [
    {
     "data": {
      "text/plain": [
       "   birthdate  color firstname id quantity  surname\n",
       "1 1971-07-08  green    Vivian  1        1 Hamilton\n",
       "2 1974-05-23  green     Karen  2        4  Holcomb\n",
       "3 1973-04-22 orange      Cody  3        1  Garrett\n",
       "4 1975-01-29  black      Roth  4        1      Fry\n",
       "5 1974-07-03   blue       Zoe  5        2   Conway\n",
       "6 1974-10-18 violet  Gretchen  6        1   Kinney\n"
      ]
     },
     "metadata": {},
     "output_type": "display_data"
    }
   ],
   "source": [
    "%%R\n",
    "## SQL sobre un archivo en formato JSON\n",
    "head(sql('SELECT * FROM json.`/tmp/people.json`'))"
   ]
  },
  {
   "cell_type": "code",
   "execution_count": 21,
   "metadata": {},
   "outputs": [
    {
     "data": {
      "text/plain": [
       "  _c0       _c1      _c2        _c3    _c4      _c5\n",
       "1  id firstname  surname  birthdate  color quantity\n",
       "2   1    Vivian Hamilton 1971-07-08  green        1\n",
       "3   2     Karen  Holcomb 1974-05-23  green        4\n",
       "4   3      Cody  Garrett 1973-04-22 orange        1\n",
       "5   4      Roth      Fry 1975-01-29  black        1\n",
       "6   5       Zoe   Conway 1974-07-03   blue        2\n"
      ]
     },
     "metadata": {},
     "output_type": "display_data"
    }
   ],
   "source": [
    "%%R\n",
    "## SQL sobre un archivo en formato CSV\n",
    "head(sql('SELECT * FROM csv.`/tmp/people.csv`'))"
   ]
  },
  {
   "cell_type": "code",
   "execution_count": 22,
   "metadata": {},
   "outputs": [
    {
     "data": {
      "text/plain": [
       "     _c4\n",
       "1 violet\n",
       "2 orange\n",
       "3  green\n",
       "4 yellow\n",
       "5 indigo\n",
       "6   gray\n"
      ]
     },
     "metadata": {},
     "output_type": "display_data"
    }
   ],
   "source": [
    "%%R\n",
    "## SQL sobre un archivo en formato CSV\n",
    "head(sql('SELECT DISTINCT(_c4)  FROM csv.`/tmp/people.csv`'))"
   ]
  },
  {
   "cell_type": "markdown",
   "metadata": {},
   "source": [
    "## Ejemplos"
   ]
  },
  {
   "cell_type": "markdown",
   "metadata": {},
   "source": [
    "Los siguientes ejemplos son realizados usando el archivo `people.json` creado al principio de este tutorial."
   ]
  },
  {
   "cell_type": "code",
   "execution_count": 23,
   "metadata": {},
   "outputs": [],
   "source": [
    "%%R\n",
    "df <- read.df('/tmp/people.json', 'json')"
   ]
  },
  {
   "cell_type": "markdown",
   "metadata": {},
   "source": [
    "### Ejemplo 1\n",
    "\n",
    "Seleccione las personas cuya fecha de nacimiento sea del año 1974 en adelante."
   ]
  },
  {
   "cell_type": "code",
   "execution_count": 24,
   "metadata": {},
   "outputs": [
    {
     "data": {
      "text/plain": [
       "   birthdate  color firstname id quantity surname\n",
       "1 1974-05-23  green     Karen  2        4 Holcomb\n",
       "2 1975-01-29  black      Roth  4        1     Fry\n",
       "3 1974-07-03   blue       Zoe  5        2  Conway\n",
       "4 1974-10-18 violet  Gretchen  6        1  Kinney\n",
       "5 1974-10-17 indigo   Merritt  9        4     Guy\n",
       "6 1975-02-28  black     Kylan 10        4  Sexton\n"
      ]
     },
     "metadata": {},
     "output_type": "display_data"
    }
   ],
   "source": [
    "%%R\n",
    "##\n",
    "## Se usa la función filter() del DataFrame\n",
    "##\n",
    "head(filter(df, df$birthdate >= '1974'))"
   ]
  },
  {
   "cell_type": "code",
   "execution_count": 25,
   "metadata": {},
   "outputs": [
    {
     "data": {
      "text/plain": [
       "   birthdate  color firstname id quantity surname\n",
       "1 1974-05-23  green     Karen  2        4 Holcomb\n",
       "2 1975-01-29  black      Roth  4        1     Fry\n",
       "3 1974-07-03   blue       Zoe  5        2  Conway\n",
       "4 1974-10-18 violet  Gretchen  6        1  Kinney\n",
       "5 1974-10-17 indigo   Merritt  9        4     Guy\n",
       "6 1975-02-28  black     Kylan 10        4  Sexton\n"
      ]
     },
     "metadata": {},
     "output_type": "display_data"
    }
   ],
   "source": [
    "%%R\n",
    "##\n",
    "## Se crea una vista temporal para ejecutar\n",
    "## una consulta SQL sobre ella\n",
    "##\n",
    "createOrReplaceTempView(df, 'peopleview')\n",
    "head(sql('SELECT * FROM peopleview WHERE YEAR(birthdate) >= 1974'))"
   ]
  },
  {
   "cell_type": "markdown",
   "metadata": {},
   "source": [
    "### Ejemplo 2\n",
    "\n",
    "Obtenga una lista de colores únicos."
   ]
  },
  {
   "cell_type": "code",
   "execution_count": 26,
   "metadata": {},
   "outputs": [
    {
     "data": {
      "text/plain": [
       "   color\n",
       "1 violet\n",
       "2 orange\n",
       "3  green\n",
       "4 yellow\n",
       "5 indigo\n",
       "6   gray\n"
      ]
     },
     "metadata": {},
     "output_type": "display_data"
    }
   ],
   "source": [
    "%%R\n",
    "##\n",
    "## Se usa la función distinct() del DataFrame\n",
    "##\n",
    "head(distinct(select(df, 'color')))"
   ]
  },
  {
   "cell_type": "code",
   "execution_count": 27,
   "metadata": {},
   "outputs": [
    {
     "data": {
      "text/plain": [
       "   color\n",
       "1 violet\n",
       "2 orange\n",
       "3  green\n",
       "4 yellow\n",
       "5 indigo\n",
       "6   gray\n"
      ]
     },
     "metadata": {},
     "output_type": "display_data"
    }
   ],
   "source": [
    "%%R\n",
    "##\n",
    "## Como una consulta \n",
    "##\n",
    "head(sql('SELECT DISTINCT(color) FROM peopleview'))"
   ]
  },
  {
   "cell_type": "markdown",
   "metadata": {},
   "source": [
    "### Ejemplo 3\n",
    "\n",
    "Ordene la tabla por cantidad y luego por color."
   ]
  },
  {
   "cell_type": "code",
   "execution_count": 28,
   "metadata": {},
   "outputs": [
    {
     "data": {
      "text/plain": [
       "   birthdate color firstname id quantity surname\n",
       "1 1975-01-29 black      Roth  4        1     Fry\n",
       "2 1975-02-28 black     Kylan 10        4  Sexton\n",
       "3 1974-07-03  blue       Zoe  5        2  Conway\n",
       "4 1970-07-01  blue      Hope 15        5   Silva\n",
       "5 1970-10-05  blue  Driscoll  7        5   Klein\n",
       "6 1970-08-27  gray    Vivian 13        5   Crane\n"
      ]
     },
     "metadata": {},
     "output_type": "display_data"
    }
   ],
   "source": [
    "%%R\n",
    "##\n",
    "## Note que las funciones se aplican de derecha \n",
    "## a izquierda -- este ejemplo no corre en sparkR\n",
    "##\n",
    "head(orderBy(df, 'color', 'quantity'))"
   ]
  },
  {
   "cell_type": "code",
   "execution_count": 29,
   "metadata": {},
   "outputs": [
    {
     "data": {
      "text/plain": [
       "   birthdate  color firstname id quantity  surname\n",
       "1 1975-01-29  black      Roth  4        1      Fry\n",
       "2 1971-07-08  green    Vivian  1        1 Hamilton\n",
       "3 1973-04-22 orange      Cody  3        1  Garrett\n",
       "4 1969-02-24    red     Karyn  8        1     Diaz\n",
       "5 1974-10-18 violet  Gretchen  6        1   Kinney\n",
       "6 1973-04-29 yellow  Chadwick 18        1   Knight\n"
      ]
     },
     "metadata": {},
     "output_type": "display_data"
    }
   ],
   "source": [
    "%%R\n",
    "##\n",
    "## Como una consulta de SQL\n",
    "##\n",
    "head(sql('SELECT * FROM peopleview ORDER BY quantity, color'))"
   ]
  },
  {
   "cell_type": "code",
   "execution_count": 30,
   "metadata": {},
   "outputs": [],
   "source": [
    "%%R\n",
    "sparkR.stop()"
   ]
  },
  {
   "cell_type": "markdown",
   "metadata": {},
   "source": [
    "**Limpieza del directorio de trabajo**"
   ]
  },
  {
   "cell_type": "code",
   "execution_count": 31,
   "metadata": {},
   "outputs": [],
   "source": [
    "!rm people.*\n",
    "!rm -rf spark-warehouse"
   ]
  },
  {
   "cell_type": "code",
   "execution_count": 32,
   "metadata": {},
   "outputs": [
    {
     "name": "stdout",
     "output_type": "stream",
     "text": [
      "Deleted /tmp/people.csv\n",
      "Deleted /tmp/people.json\n"
     ]
    }
   ],
   "source": [
    "!hdfs dfs -rm /tmp/people*"
   ]
  },
  {
   "cell_type": "code",
   "execution_count": 33,
   "metadata": {},
   "outputs": [],
   "source": [
    "!hdfs dfs -ls /tmp"
   ]
  }
 ],
 "metadata": {
  "kernelspec": {
   "display_name": "Python 3",
   "language": "python",
   "name": "python3"
  },
  "language_info": {
   "codemirror_mode": {
    "name": "ipython",
    "version": 3
   },
   "file_extension": ".py",
   "mimetype": "text/x-python",
   "name": "python",
   "nbconvert_exporter": "python",
   "pygments_lexer": "ipython3",
   "version": "3.7.3"
  },
  "toc-autonumbering": false
 },
 "nbformat": 4,
 "nbformat_minor": 4
}
