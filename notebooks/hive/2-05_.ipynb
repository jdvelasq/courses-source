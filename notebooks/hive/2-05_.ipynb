{
 "cells": [
  {
   "cell_type": "markdown",
   "metadata": {},
   "source": [
    "Transacciones ACID (Insert/ Update / Delete) en Hive\n",
    "===\n",
    "\n",
    "* Última modificación: Mayo 17, 2022 | YouTube"
   ]
  },
  {
   "cell_type": "markdown",
   "metadata": {},
   "source": [
    "El lenguaje SQL estándar provee directivas para la insertar, actualizar y borrar registros en una tabla. En este tutorial se presentan ejemplos representativos de estas instrucciones en Hive. "
   ]
  },
  {
   "cell_type": "markdown",
   "metadata": {},
   "source": [
    "Cell magic `%%hive`\n",
    "---"
   ]
  },
  {
   "cell_type": "code",
   "execution_count": 1,
   "metadata": {},
   "outputs": [],
   "source": [
    "from IPython.core.magic import Magics, cell_magic, line_magic, magics_class\n",
    "from pexpect import spawn\n",
    "\n",
    "TIMEOUT = 60\n",
    "PROG = \"hive\"\n",
    "PROMPT = [\"\\r\\n    > \", \"\\r\\nhive> \"]\n",
    "QUIT = \"quit;\"\n",
    "\n",
    "\n",
    "@magics_class\n",
    "class Magic(Magics):\n",
    "    def __init__(self, shell):\n",
    "        super().__init__(shell)\n",
    "        self.app = spawn(PROG, timeout=60)\n",
    "        self.app.expect(PROMPT)\n",
    "\n",
    "    @cell_magic\n",
    "    def hive(self, line, cell):\n",
    "        cell_lines = [cell_line.strip() for cell_line in cell.split(\"\\n\")]\n",
    "        cell_lines = [cell_line for cell_line in cell_lines if cell_line != \"\"]\n",
    "        for cell_line in cell_lines:\n",
    "            self.app.sendline(cell_line)\n",
    "            self.app.expect(PROMPT, timeout=TIMEOUT)\n",
    "            output = self.app.before.decode()\n",
    "            output = output.replace(\"\\r\\n\", \"\\n\")\n",
    "            output = output.split(\"\\n\")\n",
    "            output = [output_line.strip() for output_line in output]\n",
    "            for output_line in output:\n",
    "                if output_line not in cell_lines:\n",
    "                    print(output_line)\n",
    "        return None\n",
    "\n",
    "    @line_magic\n",
    "    def quit(self, line):\n",
    "        self.app.sendline(QUIT)\n",
    "\n",
    "\n",
    "def load_ipython_extension(ip):\n",
    "    ip.register_magics(Magic(ip))\n",
    "\n",
    "\n",
    "load_ipython_extension(ip=get_ipython())"
   ]
  },
  {
   "cell_type": "markdown",
   "metadata": {},
   "source": [
    "Creación de la tabla\n",
    "--"
   ]
  },
  {
   "cell_type": "code",
   "execution_count": 2,
   "metadata": {},
   "outputs": [
    {
     "name": "stdout",
     "output_type": "stream",
     "text": [
      "OK\n",
      "Time taken: 5.841 seconds\n",
      "OK\n",
      "Time taken: 0.334 seconds\n",
      "OK\n",
      "Time taken: 0.023 seconds\n",
      "OK\n",
      "Time taken: 0.25 seconds\n"
     ]
    }
   ],
   "source": [
    "%%hive\n",
    "DROP DATABASE IF EXISTS demo CASCADE;\n",
    "CREATE DATABASE demo;\n",
    "USE demo;\n",
    "\n",
    "CREATE TABLE persons (\n",
    "    id        INT,\n",
    "    firstname STRING,\n",
    "    surname   STRING,\n",
    "    birthday  TIMESTAMP,\n",
    "    quantity  INT\n",
    ")\n",
    "PARTITIONED BY (color STRING)\n",
    "CLUSTERED BY(id) INTO 3 BUCKETS\n",
    "STORED AS ORC \n",
    "LOCATION '/tmp/hive-partitioned'\n",
    "TBLPROPERTIES ('transactional'='true');"
   ]
  },
  {
   "cell_type": "markdown",
   "metadata": {},
   "source": [
    "Preparación\n",
    "--"
   ]
  },
  {
   "cell_type": "markdown",
   "metadata": {},
   "source": [
    "Se deben habilitar las características de Hive para manejo de transacciones ACID."
   ]
  },
  {
   "cell_type": "code",
   "execution_count": 3,
   "metadata": {},
   "outputs": [],
   "source": [
    "%%hive\n",
    "SET hive.txn.manager=org.apache.hadoop.hive.ql.lockmgr.DbTxnManager;\n",
    "SET hive.support.concurrency=true;\n",
    "SET hive.enforce.bucketing=true;\n",
    "SET hive.exec.dynamic.partition.mode=nonstrict;\n",
    "SET hive.compactor.initiator.on=true;\n",
    "SET hive.compactor.worker.threads=1;"
   ]
  },
  {
   "cell_type": "markdown",
   "metadata": {},
   "source": [
    "---"
   ]
  },
  {
   "cell_type": "markdown",
   "metadata": {},
   "source": [
    "INSERT\n",
    "--"
   ]
  },
  {
   "cell_type": "markdown",
   "metadata": {},
   "source": [
    "    INSERT INTO TABLE tablename VALUES PARTITION () values_row [, values_row ...]\n",
    "    \n",
    "    values_row: \n",
    "       (value [, value ...])\n",
    "       \n",
    "Note que a diferencia de SQL, aca no es posible indicar para que columnas se van a insertar los valores, de tal manera que siempre se deben dar valores para todas las columnas.       "
   ]
  },
  {
   "cell_type": "code",
   "execution_count": 4,
   "metadata": {},
   "outputs": [
    {
     "name": "stdout",
     "output_type": "stream",
     "text": [
      "WARNING: Hive-on-MR is deprecated in Hive 2 and may not be available in the future versions. Consider using a different execution engine (i.e. spark, tez) or using Hive 1.X releases.\n",
      "Query ID = root_20220517144650_1350f9e4-7c80-4a1f-b79b-94852ac5f89f\n",
      "Total jobs = 1\n",
      "Launching Job 1 out of 1\n",
      "Number of reduce tasks determined at compile time: 3\n",
      "In order to change the average load for a reducer (in bytes):\n",
      "set hive.exec.reducers.bytes.per.reducer=<number>\n",
      "In order to limit the maximum number of reducers:\n",
      "set hive.exec.reducers.max=<number>\n",
      "In order to set a constant number of reducers:\n",
      "set mapreduce.job.reduces=<number>\n",
      "Starting Job = job_1652793922537_0014, Tracking URL = http://4feb4ed7d52d:8088/proxy/application_1652793922537_0014/\n",
      "Kill Command = /opt/hadoop/bin/hadoop job  -kill job_1652793922537_0014\n",
      "Hadoop job information for Stage-1: number of mappers: 1; number of reducers: 3\n",
      "2022-05-17 14:46:58,056 Stage-1 map = 0%,  reduce = 0%\n",
      "2022-05-17 14:47:01,178 Stage-1 map = 100%,  reduce = 0%, Cumulative CPU 1.77 sec\n",
      "2022-05-17 14:47:07,402 Stage-1 map = 100%,  reduce = 33%, Cumulative CPU 4.71 sec\n",
      "2022-05-17 14:47:08,427 Stage-1 map = 100%,  reduce = 67%, Cumulative CPU 7.99 sec\n",
      "2022-05-17 14:47:09,453 Stage-1 map = 100%,  reduce = 100%, Cumulative CPU 10.5 sec\n",
      "MapReduce Total cumulative CPU time: 10 seconds 500 msec\n",
      "Ended Job = job_1652793922537_0014\n",
      "Loading data to table demo.persons partition (color=green)\n",
      "MapReduce Jobs Launched:\n",
      "Stage-Stage-1: Map: 1  Reduce: 3   Cumulative CPU: 10.5 sec   HDFS Read: 20555 HDFS Write: 2996 SUCCESS\n",
      "Total MapReduce CPU Time Spent: 10 seconds 500 msec\n",
      "OK\n",
      "Time taken: 20.393 seconds\n",
      "WARNING: Hive-on-MR is deprecated in Hive 2 and may not be available in the future versions. Consider using a different execution engine (i.e. spark, tez) or using Hive 1.X releases.\n",
      "Query ID = root_20220517144711_74e414ca-7765-4970-9306-a584392f1c7e\n",
      "Total jobs = 1\n",
      "Launching Job 1 out of 1\n",
      "Number of reduce tasks determined at compile time: 3\n",
      "In order to change the average load for a reducer (in bytes):\n",
      "set hive.exec.reducers.bytes.per.reducer=<number>\n",
      "In order to limit the maximum number of reducers:\n",
      "set hive.exec.reducers.max=<number>\n",
      "In order to set a constant number of reducers:\n",
      "set mapreduce.job.reduces=<number>\n",
      "Starting Job = job_1652793922537_0015, Tracking URL = http://4feb4ed7d52d:8088/proxy/application_1652793922537_0015/\n",
      "Kill Command = /opt/hadoop/bin/hadoop job  -kill job_1652793922537_0015\n",
      "Hadoop job information for Stage-1: number of mappers: 1; number of reducers: 3\n",
      "2022-05-17 14:47:19,919 Stage-1 map = 0%,  reduce = 0%\n",
      "2022-05-17 14:47:24,026 Stage-1 map = 100%,  reduce = 0%, Cumulative CPU 1.92 sec\n",
      "2022-05-17 14:47:29,169 Stage-1 map = 100%,  reduce = 33%, Cumulative CPU 4.49 sec\n",
      "2022-05-17 14:47:30,192 Stage-1 map = 100%,  reduce = 67%, Cumulative CPU 7.17 sec\n",
      "2022-05-17 14:47:31,216 Stage-1 map = 100%,  reduce = 100%, Cumulative CPU 9.6 sec\n",
      "MapReduce Total cumulative CPU time: 9 seconds 600 msec\n",
      "Ended Job = job_1652793922537_0015\n",
      "Loading data to table demo.persons partition (color=black)\n",
      "MapReduce Jobs Launched:\n",
      "Stage-Stage-1: Map: 1  Reduce: 3   Cumulative CPU: 9.6 sec   HDFS Read: 20491 HDFS Write: 1574 SUCCESS\n",
      "Total MapReduce CPU Time Spent: 9 seconds 600 msec\n",
      "OK\n",
      "Time taken: 21.193 seconds\n",
      "WARNING: Hive-on-MR is deprecated in Hive 2 and may not be available in the future versions. Consider using a different execution engine (i.e. spark, tez) or using Hive 1.X releases.\n",
      "Query ID = root_20220517144732_1995c38c-7790-49b6-8534-99d31b09d868\n",
      "Total jobs = 1\n",
      "Launching Job 1 out of 1\n",
      "Number of reduce tasks determined at compile time: 3\n",
      "In order to change the average load for a reducer (in bytes):\n",
      "set hive.exec.reducers.bytes.per.reducer=<number>\n",
      "In order to limit the maximum number of reducers:\n",
      "set hive.exec.reducers.max=<number>\n",
      "In order to set a constant number of reducers:\n",
      "set mapreduce.job.reduces=<number>\n",
      "Starting Job = job_1652793922537_0016, Tracking URL = http://4feb4ed7d52d:8088/proxy/application_1652793922537_0016/\n",
      "Kill Command = /opt/hadoop/bin/hadoop job  -kill job_1652793922537_0016\n",
      "Hadoop job information for Stage-1: number of mappers: 1; number of reducers: 3\n",
      "2022-05-17 14:47:41,805 Stage-1 map = 0%,  reduce = 0%\n",
      "2022-05-17 14:47:45,926 Stage-1 map = 100%,  reduce = 0%, Cumulative CPU 1.72 sec\n",
      "2022-05-17 14:47:51,043 Stage-1 map = 100%,  reduce = 33%, Cumulative CPU 4.53 sec\n",
      "2022-05-17 14:47:52,065 Stage-1 map = 100%,  reduce = 67%, Cumulative CPU 7.2 sec\n",
      "2022-05-17 14:47:53,089 Stage-1 map = 100%,  reduce = 100%, Cumulative CPU 9.7 sec\n",
      "MapReduce Total cumulative CPU time: 9 seconds 700 msec\n",
      "Ended Job = job_1652793922537_0016\n",
      "Loading data to table demo.persons partition (color=blue)\n",
      "MapReduce Jobs Launched:\n",
      "Stage-Stage-1: Map: 1  Reduce: 3   Cumulative CPU: 9.7 sec   HDFS Read: 20581 HDFS Write: 2912 SUCCESS\n",
      "Total MapReduce CPU Time Spent: 9 seconds 700 msec\n",
      "OK\n",
      "Time taken: 21.718 seconds\n",
      "WARNING: Hive-on-MR is deprecated in Hive 2 and may not be available in the future versions. Consider using a different execution engine (i.e. spark, tez) or using Hive 1.X releases.\n",
      "Query ID = root_20220517144754_d4929f45-b1d3-4145-93f0-601b0d1fb2e7\n",
      "Total jobs = 1\n",
      "Launching Job 1 out of 1\n",
      "Number of reduce tasks determined at compile time: 3\n",
      "In order to change the average load for a reducer (in bytes):\n",
      "set hive.exec.reducers.bytes.per.reducer=<number>\n",
      "In order to limit the maximum number of reducers:\n",
      "set hive.exec.reducers.max=<number>\n",
      "In order to set a constant number of reducers:\n",
      "set mapreduce.job.reduces=<number>\n",
      "Starting Job = job_1652793922537_0017, Tracking URL = http://4feb4ed7d52d:8088/proxy/application_1652793922537_0017/\n",
      "Kill Command = /opt/hadoop/bin/hadoop job  -kill job_1652793922537_0017\n",
      "Hadoop job information for Stage-1: number of mappers: 1; number of reducers: 3\n",
      "2022-05-17 14:48:04,101 Stage-1 map = 0%,  reduce = 0%\n",
      "2022-05-17 14:48:08,213 Stage-1 map = 100%,  reduce = 0%, Cumulative CPU 1.85 sec\n",
      "2022-05-17 14:48:13,354 Stage-1 map = 100%,  reduce = 33%, Cumulative CPU 4.67 sec\n",
      "2022-05-17 14:48:14,377 Stage-1 map = 100%,  reduce = 67%, Cumulative CPU 7.5 sec\n",
      "2022-05-17 14:48:15,403 Stage-1 map = 100%,  reduce = 100%, Cumulative CPU 9.94 sec\n",
      "MapReduce Total cumulative CPU time: 9 seconds 940 msec\n",
      "Ended Job = job_1652793922537_0017\n",
      "Loading data to table demo.persons partition (color=orange)\n",
      "MapReduce Jobs Launched:\n",
      "Stage-Stage-1: Map: 1  Reduce: 3   Cumulative CPU: 9.94 sec   HDFS Read: 20586 HDFS Write: 2220 SUCCESS\n",
      "Total MapReduce CPU Time Spent: 9 seconds 940 msec\n",
      "OK\n",
      "Time taken: 21.955 seconds\n",
      "WARNING: Hive-on-MR is deprecated in Hive 2 and may not be available in the future versions. Consider using a different execution engine (i.e. spark, tez) or using Hive 1.X releases.\n",
      "Query ID = root_20220517144816_75278cf6-d2e7-418a-89ff-c9903503ce09\n",
      "Total jobs = 1\n",
      "Launching Job 1 out of 1\n",
      "Number of reduce tasks determined at compile time: 3\n",
      "In order to change the average load for a reducer (in bytes):\n",
      "set hive.exec.reducers.bytes.per.reducer=<number>\n",
      "In order to limit the maximum number of reducers:\n",
      "set hive.exec.reducers.max=<number>\n",
      "In order to set a constant number of reducers:\n",
      "set mapreduce.job.reduces=<number>\n",
      "Starting Job = job_1652793922537_0018, Tracking URL = http://4feb4ed7d52d:8088/proxy/application_1652793922537_0018/\n",
      "Kill Command = /opt/hadoop/bin/hadoop job  -kill job_1652793922537_0018\n",
      "Hadoop job information for Stage-1: number of mappers: 1; number of reducers: 3\n",
      "2022-05-17 14:48:25,381 Stage-1 map = 0%,  reduce = 0%\n",
      "2022-05-17 14:48:29,492 Stage-1 map = 100%,  reduce = 0%, Cumulative CPU 1.73 sec\n",
      "2022-05-17 14:48:35,674 Stage-1 map = 100%,  reduce = 33%, Cumulative CPU 4.63 sec\n",
      "2022-05-17 14:48:36,699 Stage-1 map = 100%,  reduce = 67%, Cumulative CPU 7.36 sec\n",
      "2022-05-17 14:48:37,724 Stage-1 map = 100%,  reduce = 100%, Cumulative CPU 9.79 sec\n",
      "MapReduce Total cumulative CPU time: 9 seconds 790 msec\n",
      "Ended Job = job_1652793922537_0018\n",
      "Loading data to table demo.persons partition (color=violet)\n",
      "MapReduce Jobs Launched:\n",
      "Stage-Stage-1: Map: 1  Reduce: 3   Cumulative CPU: 9.79 sec   HDFS Read: 20559 HDFS Write: 1538 SUCCESS\n",
      "Total MapReduce CPU Time Spent: 9 seconds 790 msec\n",
      "OK\n",
      "Time taken: 22.258 seconds\n",
      "WARNING: Hive-on-MR is deprecated in Hive 2 and may not be available in the future versions. Consider using a different execution engine (i.e. spark, tez) or using Hive 1.X releases.\n",
      "Query ID = root_20220517144839_295ad16e-eb7c-44cd-8a8c-17096df9c480\n",
      "Total jobs = 1\n",
      "Launching Job 1 out of 1\n",
      "Number of reduce tasks determined at compile time: 3\n",
      "In order to change the average load for a reducer (in bytes):\n",
      "set hive.exec.reducers.bytes.per.reducer=<number>\n",
      "In order to limit the maximum number of reducers:\n",
      "set hive.exec.reducers.max=<number>\n",
      "In order to set a constant number of reducers:\n",
      "set mapreduce.job.reduces=<number>\n",
      "Starting Job = job_1652793922537_0019, Tracking URL = http://4feb4ed7d52d:8088/proxy/application_1652793922537_0019/\n",
      "Kill Command = /opt/hadoop/bin/hadoop job  -kill job_1652793922537_0019\n",
      "Hadoop job information for Stage-1: number of mappers: 1; number of reducers: 3\n",
      "2022-05-17 14:48:47,750 Stage-1 map = 0%,  reduce = 0%\n",
      "2022-05-17 14:48:51,842 Stage-1 map = 100%,  reduce = 0%, Cumulative CPU 1.68 sec\n",
      "2022-05-17 14:48:56,975 Stage-1 map = 100%,  reduce = 33%, Cumulative CPU 4.5 sec\n",
      "2022-05-17 14:48:59,021 Stage-1 map = 100%,  reduce = 100%, Cumulative CPU 9.79 sec\n",
      "MapReduce Total cumulative CPU time: 9 seconds 790 msec\n",
      "Ended Job = job_1652793922537_0019\n",
      "Loading data to table demo.persons partition (color=red)\n",
      "MapReduce Jobs Launched:\n",
      "Stage-Stage-1: Map: 1  Reduce: 3   Cumulative CPU: 9.79 sec   HDFS Read: 20526 HDFS Write: 1579 SUCCESS\n",
      "Total MapReduce CPU Time Spent: 9 seconds 790 msec\n",
      "OK\n",
      "Time taken: 22.078 seconds\n",
      "WARNING: Hive-on-MR is deprecated in Hive 2 and may not be available in the future versions. Consider using a different execution engine (i.e. spark, tez) or using Hive 1.X releases.\n",
      "Query ID = root_20220517144901_ebf6a1d4-e8cd-4d93-b1ab-63d762d4c433\n",
      "Total jobs = 1\n",
      "Launching Job 1 out of 1\n",
      "Number of reduce tasks determined at compile time: 3\n",
      "In order to change the average load for a reducer (in bytes):\n",
      "set hive.exec.reducers.bytes.per.reducer=<number>\n",
      "In order to limit the maximum number of reducers:\n",
      "set hive.exec.reducers.max=<number>\n",
      "In order to set a constant number of reducers:\n",
      "set mapreduce.job.reduces=<number>\n",
      "Starting Job = job_1652793922537_0020, Tracking URL = http://4feb4ed7d52d:8088/proxy/application_1652793922537_0020/\n",
      "Kill Command = /opt/hadoop/bin/hadoop job  -kill job_1652793922537_0020\n",
      "Hadoop job information for Stage-1: number of mappers: 1; number of reducers: 3\n",
      "2022-05-17 14:49:09,651 Stage-1 map = 0%,  reduce = 0%\n",
      "2022-05-17 14:49:13,773 Stage-1 map = 100%,  reduce = 0%, Cumulative CPU 1.8 sec\n",
      "2022-05-17 14:49:18,974 Stage-1 map = 100%,  reduce = 33%, Cumulative CPU 4.65 sec\n",
      "2022-05-17 14:49:21,022 Stage-1 map = 100%,  reduce = 67%, Cumulative CPU 7.39 sec\n",
      "2022-05-17 14:49:22,048 Stage-1 map = 100%,  reduce = 100%, Cumulative CPU 9.75 sec\n",
      "MapReduce Total cumulative CPU time: 9 seconds 750 msec\n",
      "Ended Job = job_1652793922537_0020\n",
      "Loading data to table demo.persons partition (color=indigo)\n",
      "MapReduce Jobs Launched:\n",
      "Stage-Stage-1: Map: 1  Reduce: 3   Cumulative CPU: 9.75 sec   HDFS Read: 20584 HDFS Write: 2226 SUCCESS\n",
      "Total MapReduce CPU Time Spent: 9 seconds 750 msec\n",
      "OK\n",
      "Time taken: 21.801 seconds\n",
      "WARNING: Hive-on-MR is deprecated in Hive 2 and may not be available in the future versions. Consider using a different execution engine (i.e. spark, tez) or using Hive 1.X releases.\n",
      "Query ID = root_20220517144923_d95da8ef-8248-4d0a-8a41-8d78367a7e08\n",
      "Total jobs = 1\n",
      "Launching Job 1 out of 1\n",
      "Number of reduce tasks determined at compile time: 3\n",
      "In order to change the average load for a reducer (in bytes):\n",
      "set hive.exec.reducers.bytes.per.reducer=<number>\n",
      "In order to limit the maximum number of reducers:\n",
      "set hive.exec.reducers.max=<number>\n",
      "In order to set a constant number of reducers:\n",
      "set mapreduce.job.reduces=<number>\n",
      "Starting Job = job_1652793922537_0021, Tracking URL = http://4feb4ed7d52d:8088/proxy/application_1652793922537_0021/\n",
      "Kill Command = /opt/hadoop/bin/hadoop job  -kill job_1652793922537_0021\n",
      "Hadoop job information for Stage-1: number of mappers: 1; number of reducers: 3\n",
      "2022-05-17 14:49:31,764 Stage-1 map = 0%,  reduce = 0%\n",
      "2022-05-17 14:49:35,871 Stage-1 map = 100%,  reduce = 0%, Cumulative CPU 1.73 sec\n",
      "2022-05-17 14:49:41,019 Stage-1 map = 100%,  reduce = 33%, Cumulative CPU 4.37 sec\n",
      "2022-05-17 14:49:43,072 Stage-1 map = 100%,  reduce = 100%, Cumulative CPU 9.33 sec\n",
      "MapReduce Total cumulative CPU time: 9 seconds 330 msec\n",
      "Ended Job = job_1652793922537_0021\n",
      "Loading data to table demo.persons partition (color=gray)\n",
      "MapReduce Jobs Launched:\n",
      "Stage-Stage-1: Map: 1  Reduce: 3   Cumulative CPU: 9.33 sec   HDFS Read: 20527 HDFS Write: 1531 SUCCESS\n",
      "Total MapReduce CPU Time Spent: 9 seconds 330 msec\n",
      "OK\n",
      "Time taken: 20.871 seconds\n",
      "WARNING: Hive-on-MR is deprecated in Hive 2 and may not be available in the future versions. Consider using a different execution engine (i.e. spark, tez) or using Hive 1.X releases.\n",
      "Query ID = root_20220517144944_3244cc24-4ca7-4412-ade3-5b94faa22883\n",
      "Total jobs = 1\n",
      "Launching Job 1 out of 1\n",
      "Number of reduce tasks determined at compile time: 3\n",
      "In order to change the average load for a reducer (in bytes):\n",
      "set hive.exec.reducers.bytes.per.reducer=<number>\n",
      "In order to limit the maximum number of reducers:\n",
      "set hive.exec.reducers.max=<number>\n",
      "In order to set a constant number of reducers:\n",
      "set mapreduce.job.reduces=<number>\n",
      "Starting Job = job_1652793922537_0022, Tracking URL = http://4feb4ed7d52d:8088/proxy/application_1652793922537_0022/\n",
      "Kill Command = /opt/hadoop/bin/hadoop job  -kill job_1652793922537_0022\n",
      "Hadoop job information for Stage-1: number of mappers: 1; number of reducers: 3\n",
      "2022-05-17 14:49:53,950 Stage-1 map = 0%,  reduce = 0%\n",
      "2022-05-17 14:49:58,052 Stage-1 map = 100%,  reduce = 0%, Cumulative CPU 1.8 sec\n",
      "2022-05-17 14:50:03,175 Stage-1 map = 100%,  reduce = 33%, Cumulative CPU 4.6 sec\n",
      "2022-05-17 14:50:04,200 Stage-1 map = 100%,  reduce = 67%, Cumulative CPU 7.29 sec\n",
      "2022-05-17 14:50:05,301 Stage-1 map = 100%,  reduce = 100%, Cumulative CPU 9.74 sec\n",
      "MapReduce Total cumulative CPU time: 9 seconds 740 msec\n",
      "Ended Job = job_1652793922537_0022\n",
      "Loading data to table demo.persons partition (color=yellow)\n",
      "MapReduce Jobs Launched:\n",
      "Stage-Stage-1: Map: 1  Reduce: 3   Cumulative CPU: 9.74 sec   HDFS Read: 20551 HDFS Write: 1546 SUCCESS\n",
      "Total MapReduce CPU Time Spent: 9 seconds 740 msec\n",
      "OK\n",
      "Time taken: 22.103 seconds\n"
     ]
    }
   ],
   "source": [
    "%%hive\n",
    "--\n",
    "-- Inserta el registro en la tabla.\n",
    "-- Los valores están en el mismo orden de los campos.\n",
    "--\n",
    "INSERT INTO persons PARTITION (color='green') VALUES\n",
    "    (1,\"Vivian\",\"Hamilton\",\"1971-07-08\",1),\n",
    "    (2,\"Karen\",\"Holcomb\",\"1974-05-23\",4),\n",
    "    (12,\"Hope\",\"Coffey\",\"1973-12-24\",5),\n",
    "    (17,\"Chanda\",\"Boyer\",\"1973-04-01\",4);\n",
    "    \n",
    "INSERT INTO persons PARTITION (color='black') VALUES    \n",
    "    (4,\"Roth\",\"Fry\",\"1975-01-29\",1),\n",
    "    (10,\"Kylan\",\"Sexton\",\"1975-02-28\",4);\n",
    "\n",
    "INSERT INTO persons PARTITION (color='blue') VALUES\n",
    "    (5,\"Zoe\",\"Conway\",\"1974-07-03\",2),\n",
    "    (7,\"Driscoll\",\"Klein\",\"1970-10-05\",5),\n",
    "    (15,\"Hope\",\"Silva\",\"1970-07-01\",5);\n",
    "\n",
    "INSERT INTO persons PARTITION (color='orange') VALUES    \n",
    "    (3,\"Cody\",\"Garrett\",\"1973-04-22\",1),\n",
    "    (16,\"Ayanna\",\"Jarvis\",\"1974-02-11\",5);\n",
    "    \n",
    "INSERT INTO persons PARTITION (color='violet') VALUES    \n",
    "    (6,\"Gretchen\",\"Kinney\",\"1974-10-18\",1);\n",
    "\n",
    "INSERT INTO persons PARTITION (color='red') VALUES    \n",
    "    (8,\"Karyn\",\"Diaz\",\"1969-02-24\",1),\n",
    "    (14,\"Clio\",\"Noel\",\"1972-12-12\",5);\n",
    "    \n",
    "INSERT INTO persons PARTITION (color='indigo') VALUES    \n",
    "    (9,\"Merritt\",\"Guy\",\"1974-10-17\",4),\n",
    "    (11,\"Jordan\",\"Estes\",\"1969-12-07\",4);\n",
    "\n",
    "INSERT INTO persons PARTITION (color='gray') VALUES    \n",
    "    (13,\"Vivian\",\"Crane\",\"1970-08-27\",5);\n",
    "\n",
    "INSERT INTO persons PARTITION (color='yellow') VALUES\n",
    "    (18,\"Chadwick\",\"Knight\",\"1973-04-29\",1);    \n"
   ]
  },
  {
   "cell_type": "code",
   "execution_count": 5,
   "metadata": {},
   "outputs": [
    {
     "name": "stdout",
     "output_type": "stream",
     "text": [
      "OK\n",
      "10\tKylan\tSexton\t1975-02-28 00:00:00\t4\tblack\n",
      "4\tRoth\tFry\t1975-01-29 00:00:00\t1\tblack\n",
      "15\tHope\tSilva\t1970-07-01 00:00:00\t5\tblue\n",
      "7\tDriscoll\tKlein\t1970-10-05 00:00:00\t5\tblue\n",
      "5\tZoe\tConway\t1974-07-03 00:00:00\t2\tblue\n",
      "13\tVivian\tCrane\t1970-08-27 00:00:00\t5\tgray\n",
      "12\tHope\tCoffey\t1973-12-24 00:00:00\t5\tgreen\n",
      "1\tVivian\tHamilton\t1971-07-08 00:00:00\t1\tgreen\n",
      "17\tChanda\tBoyer\t1973-04-01 00:00:00\t4\tgreen\n",
      "2\tKaren\tHolcomb\t1974-05-23 00:00:00\t4\tgreen\n",
      "9\tMerritt\tGuy\t1974-10-17 00:00:00\t4\tindigo\n",
      "11\tJordan\tEstes\t1969-12-07 00:00:00\t4\tindigo\n",
      "3\tCody\tGarrett\t1973-04-22 00:00:00\t1\torange\n",
      "16\tAyanna\tJarvis\t1974-02-11 00:00:00\t5\torange\n",
      "14\tClio\tNoel\t1972-12-12 00:00:00\t5\tred\n",
      "8\tKaryn\tDiaz\t1969-02-24 00:00:00\t1\tred\n",
      "6\tGretchen\tKinney\t1974-10-18 00:00:00\t1\tviolet\n",
      "18\tChadwick\tKnight\t1973-04-29 00:00:00\t1\tyellow\n",
      "Time taken: 0.207 seconds, Fetched: 18 row(s)\n"
     ]
    }
   ],
   "source": [
    "%%hive\n",
    "SELECT * FROM persons;"
   ]
  },
  {
   "cell_type": "code",
   "execution_count": 6,
   "metadata": {},
   "outputs": [
    {
     "name": "stdout",
     "output_type": "stream",
     "text": [
      "Found 9 items\n",
      "drwxrwxrwx   - root supergroup          0 2022-05-17 14:47 /tmp/hive-partitioned/color=black\n",
      "drwxrwxrwx   - root supergroup          0 2022-05-17 14:47 /tmp/hive-partitioned/color=blue\n",
      "drwxrwxrwx   - root supergroup          0 2022-05-17 14:49 /tmp/hive-partitioned/color=gray\n",
      "drwxrwxrwx   - root supergroup          0 2022-05-17 14:47 /tmp/hive-partitioned/color=green\n",
      "drwxrwxrwx   - root supergroup          0 2022-05-17 14:49 /tmp/hive-partitioned/color=indigo\n",
      "drwxrwxrwx   - root supergroup          0 2022-05-17 14:48 /tmp/hive-partitioned/color=orange\n",
      "drwxrwxrwx   - root supergroup          0 2022-05-17 14:49 /tmp/hive-partitioned/color=red\n",
      "drwxrwxrwx   - root supergroup          0 2022-05-17 14:48 /tmp/hive-partitioned/color=violet\n",
      "drwxrwxrwx   - root supergroup          0 2022-05-17 14:50 /tmp/hive-partitioned/color=yellow\n"
     ]
    }
   ],
   "source": [
    "!hdfs dfs -ls /tmp/hive-partitioned"
   ]
  },
  {
   "cell_type": "code",
   "execution_count": 7,
   "metadata": {},
   "outputs": [
    {
     "name": "stdout",
     "output_type": "stream",
     "text": [
      "Found 1 items\n",
      "drwxr-xr-x   - root supergroup          0 2022-05-17 14:47 /tmp/hive-partitioned/color=black/delta_0000002_0000002_0000\n"
     ]
    }
   ],
   "source": [
    "!hdfs dfs -ls /tmp/hive-partitioned/color=black"
   ]
  },
  {
   "cell_type": "code",
   "execution_count": 8,
   "metadata": {},
   "outputs": [
    {
     "name": "stdout",
     "output_type": "stream",
     "text": [
      "Found 3 items\n",
      "-rw-r--r--   1 root supergroup        223 2022-05-17 14:47 /tmp/hive-partitioned/color=black/delta_0000002_0000002_0000/bucket_00000\n",
      "-rw-r--r--   1 root supergroup        936 2022-05-17 14:47 /tmp/hive-partitioned/color=black/delta_0000002_0000002_0000/bucket_00001\n",
      "-rw-r--r--   1 root supergroup        223 2022-05-17 14:47 /tmp/hive-partitioned/color=black/delta_0000002_0000002_0000/bucket_00002\n"
     ]
    }
   ],
   "source": [
    "!hdfs dfs -ls /tmp/hive-partitioned/color=black/delta_0000002_0000002_0000"
   ]
  },
  {
   "cell_type": "markdown",
   "metadata": {},
   "source": [
    "UPDATE\n",
    "--"
   ]
  },
  {
   "cell_type": "markdown",
   "metadata": {},
   "source": [
    "    UPDATE tablename SET column = value [, column = value ...] [WHERE expression]\n",
    "\n",
    "Véase https://cwiki.apache.org/confluence/display/Hive/Hive+Transactions"
   ]
  },
  {
   "cell_type": "code",
   "execution_count": 9,
   "metadata": {},
   "outputs": [
    {
     "name": "stdout",
     "output_type": "stream",
     "text": [
      "WARNING: Hive-on-MR is deprecated in Hive 2 and may not be available in the future versions. Consider using a different execution engine (i.e. spark, tez) or using Hive 1.X releases.\n",
      "Query ID = root_20220517145011_7cabef7b-52ff-4671-a383-b636bd0cb2a6\n",
      "Total jobs = 1\n",
      "Launching Job 1 out of 1\n",
      "Number of reduce tasks determined at compile time: 3\n",
      "In order to change the average load for a reducer (in bytes):\n",
      "set hive.exec.reducers.bytes.per.reducer=<number>\n",
      "In order to limit the maximum number of reducers:\n",
      "set hive.exec.reducers.max=<number>\n",
      "In order to set a constant number of reducers:\n",
      "set mapreduce.job.reduces=<number>\n",
      "Starting Job = job_1652793922537_0023, Tracking URL = http://4feb4ed7d52d:8088/proxy/application_1652793922537_0023/\n",
      "Kill Command = /opt/hadoop/bin/hadoop job  -kill job_1652793922537_0023\n",
      "Hadoop job information for Stage-1: number of mappers: 3; number of reducers: 3\n",
      "2022-05-17 14:50:15,598 Stage-1 map = 0%,  reduce = 0%\n",
      "2022-05-17 14:50:19,686 Stage-1 map = 33%,  reduce = 0%, Cumulative CPU 1.61 sec\n",
      "2022-05-17 14:50:20,730 Stage-1 map = 67%,  reduce = 0%, Cumulative CPU 3.48 sec\n",
      "2022-05-17 14:50:22,782 Stage-1 map = 100%,  reduce = 0%, Cumulative CPU 5.85 sec\n",
      "2022-05-17 14:50:24,843 Stage-1 map = 100%,  reduce = 33%, Cumulative CPU 7.21 sec\n",
      "2022-05-17 14:50:25,877 Stage-1 map = 100%,  reduce = 67%, Cumulative CPU 8.7 sec\n",
      "2022-05-17 14:50:26,901 Stage-1 map = 100%,  reduce = 100%, Cumulative CPU 10.69 sec\n",
      "MapReduce Total cumulative CPU time: 10 seconds 690 msec\n",
      "Ended Job = job_1652793922537_0023\n",
      "Loading data to table demo.persons partition (color=null)\n",
      "\n",
      "\n",
      "Time taken to load dynamic partitions: 0.116 seconds\n",
      "Time taken for adding to write entity : 0.0 seconds\n",
      "MapReduce Jobs Launched:\n",
      "Stage-Stage-1: Map: 3  Reduce: 3   Cumulative CPU: 10.69 sec   HDFS Read: 33100 HDFS Write: 1067 SUCCESS\n",
      "Total MapReduce CPU Time Spent: 10 seconds 690 msec\n",
      "OK\n",
      "Time taken: 16.249 seconds\n"
     ]
    }
   ],
   "source": [
    "%%hive\n",
    "UPDATE persons SET quantity = 100 WHERE color = 'red';"
   ]
  },
  {
   "cell_type": "code",
   "execution_count": 10,
   "metadata": {},
   "outputs": [
    {
     "name": "stdout",
     "output_type": "stream",
     "text": [
      "OK\n",
      "10\tKylan\tSexton\t1975-02-28 00:00:00\t4\tblack\n",
      "4\tRoth\tFry\t1975-01-29 00:00:00\t1\tblack\n",
      "15\tHope\tSilva\t1970-07-01 00:00:00\t5\tblue\n",
      "7\tDriscoll\tKlein\t1970-10-05 00:00:00\t5\tblue\n",
      "5\tZoe\tConway\t1974-07-03 00:00:00\t2\tblue\n",
      "13\tVivian\tCrane\t1970-08-27 00:00:00\t5\tgray\n",
      "12\tHope\tCoffey\t1973-12-24 00:00:00\t5\tgreen\n",
      "1\tVivian\tHamilton\t1971-07-08 00:00:00\t1\tgreen\n",
      "17\tChanda\tBoyer\t1973-04-01 00:00:00\t4\tgreen\n",
      "2\tKaren\tHolcomb\t1974-05-23 00:00:00\t4\tgreen\n",
      "9\tMerritt\tGuy\t1974-10-17 00:00:00\t4\tindigo\n",
      "11\tJordan\tEstes\t1969-12-07 00:00:00\t4\tindigo\n",
      "3\tCody\tGarrett\t1973-04-22 00:00:00\t1\torange\n",
      "16\tAyanna\tJarvis\t1974-02-11 00:00:00\t5\torange\n",
      "14\tClio\tNoel\t1972-12-12 00:00:00\t100\tred\n",
      "8\tKaryn\tDiaz\t1969-02-24 00:00:00\t100\tred\n",
      "6\tGretchen\tKinney\t1974-10-18 00:00:00\t1\tviolet\n",
      "18\tChadwick\tKnight\t1973-04-29 00:00:00\t1\tyellow\n",
      "Time taken: 0.127 seconds, Fetched: 18 row(s)\n"
     ]
    }
   ],
   "source": [
    "%%hive\n",
    "SELECT * FROM persons;"
   ]
  },
  {
   "cell_type": "markdown",
   "metadata": {},
   "source": [
    "DELETE\n",
    "--"
   ]
  },
  {
   "cell_type": "markdown",
   "metadata": {},
   "source": [
    "    DELETE FROM tablename [WHERE expression]\n",
    "    \n",
    "Véase https://cwiki.apache.org/confluence/display/Hive/Hive+Transactions    "
   ]
  },
  {
   "cell_type": "code",
   "execution_count": 11,
   "metadata": {},
   "outputs": [
    {
     "name": "stdout",
     "output_type": "stream",
     "text": [
      "WARNING: Hive-on-MR is deprecated in Hive 2 and may not be available in the future versions. Consider using a different execution engine (i.e. spark, tez) or using Hive 1.X releases.\n",
      "Query ID = root_20220517145028_7b530327-329d-4010-a61a-86454a1a66be\n",
      "Total jobs = 1\n",
      "Launching Job 1 out of 1\n",
      "Number of reduce tasks determined at compile time: 3\n",
      "In order to change the average load for a reducer (in bytes):\n",
      "set hive.exec.reducers.bytes.per.reducer=<number>\n",
      "In order to limit the maximum number of reducers:\n",
      "set hive.exec.reducers.max=<number>\n",
      "In order to set a constant number of reducers:\n",
      "set mapreduce.job.reduces=<number>\n",
      "Starting Job = job_1652793922537_0024, Tracking URL = http://4feb4ed7d52d:8088/proxy/application_1652793922537_0024/\n",
      "Kill Command = /opt/hadoop/bin/hadoop job  -kill job_1652793922537_0024\n",
      "Hadoop job information for Stage-1: number of mappers: 27; number of reducers: 3\n",
      "2022-05-17 14:50:37,402 Stage-1 map = 0%,  reduce = 0%\n",
      "2022-05-17 14:50:42,561 Stage-1 map = 4%,  reduce = 0%, Cumulative CPU 2.71 sec\n",
      "2022-05-17 14:50:43,607 Stage-1 map = 7%,  reduce = 0%, Cumulative CPU 5.56 sec\n",
      "2022-05-17 14:50:44,639 Stage-1 map = 11%,  reduce = 0%, Cumulative CPU 9.09 sec\n",
      "2022-05-17 14:50:47,999 Stage-1 map = 15%,  reduce = 0%, Cumulative CPU 15.2 sec\n",
      "2022-05-17 14:50:49,018 Stage-1 map = 22%,  reduce = 0%, Cumulative CPU 27.3 sec\n",
      "2022-05-17 14:50:50,093 Stage-1 map = 26%,  reduce = 0%, Cumulative CPU 31.3 sec\n",
      "2022-05-17 14:50:51,125 Stage-1 map = 33%,  reduce = 0%, Cumulative CPU 40.71 sec\n",
      "2022-05-17 14:50:53,204 Stage-1 map = 37%,  reduce = 0%, Cumulative CPU 44.28 sec\n",
      "2022-05-17 14:50:54,238 Stage-1 map = 41%,  reduce = 0%, Cumulative CPU 48.05 sec\n",
      "2022-05-17 14:50:55,280 Stage-1 map = 44%,  reduce = 0%, Cumulative CPU 51.66 sec\n",
      "2022-05-17 14:50:56,305 Stage-1 map = 52%,  reduce = 0%, Cumulative CPU 59.47 sec\n",
      "2022-05-17 14:50:58,362 Stage-1 map = 56%,  reduce = 0%, Cumulative CPU 62.34 sec\n",
      "2022-05-17 14:50:59,394 Stage-1 map = 59%,  reduce = 0%, Cumulative CPU 65.29 sec\n",
      "2022-05-17 14:51:01,470 Stage-1 map = 67%,  reduce = 0%, Cumulative CPU 73.18 sec\n",
      "2022-05-17 14:51:02,509 Stage-1 map = 70%,  reduce = 0%, Cumulative CPU 76.32 sec\n",
      "2022-05-17 14:51:04,590 Stage-1 map = 78%,  reduce = 0%, Cumulative CPU 83.16 sec\n",
      "2022-05-17 14:51:05,619 Stage-1 map = 81%,  reduce = 8%, Cumulative CPU 85.91 sec\n",
      "2022-05-17 14:51:07,690 Stage-1 map = 81%,  reduce = 17%, Cumulative CPU 86.2 sec\n",
      "2022-05-17 14:51:08,714 Stage-1 map = 89%,  reduce = 17%, Cumulative CPU 93.14 sec\n",
      "2022-05-17 14:51:09,747 Stage-1 map = 93%,  reduce = 17%, Cumulative CPU 95.85 sec\n",
      "2022-05-17 14:51:11,796 Stage-1 map = 93%,  reduce = 19%, Cumulative CPU 95.9 sec\n",
      "2022-05-17 14:51:12,816 Stage-1 map = 100%,  reduce = 42%, Cumulative CPU 103.73 sec\n",
      "2022-05-17 14:51:13,842 Stage-1 map = 100%,  reduce = 100%, Cumulative CPU 107.47 sec\n",
      "MapReduce Total cumulative CPU time: 1 minutes 47 seconds 470 msec\n",
      "Ended Job = job_1652793922537_0024\n",
      "Loading data to table demo.persons partition (color=null)\n",
      "\n",
      "\n",
      "Time taken to load dynamic partitions: 0.08 seconds\n",
      "Time taken for adding to write entity : 0.0 seconds\n",
      "MapReduce Jobs Launched:\n",
      "Stage-Stage-1: Map: 27  Reduce: 3   Cumulative CPU: 107.47 sec   HDFS Read: 215812 HDFS Write: 602 SUCCESS\n",
      "Total MapReduce CPU Time Spent: 1 minutes 47 seconds 470 msec\n",
      "OK\n",
      "Time taken: 46.458 seconds\n"
     ]
    }
   ],
   "source": [
    "%%hive\n",
    "DELETE FROM persons WHERE id = 10;"
   ]
  },
  {
   "cell_type": "code",
   "execution_count": 12,
   "metadata": {},
   "outputs": [
    {
     "name": "stdout",
     "output_type": "stream",
     "text": [
      "WARNING: Hive-on-MR is deprecated in Hive 2 and may not be available in the future versions. Consider using a different execution engine (i.e. spark, tez) or using Hive 1.X releases.\n",
      "Query ID = root_20220517145115_135ba0fe-fdea-45fc-960f-cbe253040dd8\n",
      "Total jobs = 1\n",
      "Launching Job 1 out of 1\n",
      "Number of reduce tasks determined at compile time: 1\n",
      "In order to change the average load for a reducer (in bytes):\n",
      "set hive.exec.reducers.bytes.per.reducer=<number>\n",
      "In order to limit the maximum number of reducers:\n",
      "set hive.exec.reducers.max=<number>\n",
      "In order to set a constant number of reducers:\n",
      "set mapreduce.job.reduces=<number>\n",
      "Starting Job = job_1652793922537_0025, Tracking URL = http://4feb4ed7d52d:8088/proxy/application_1652793922537_0025/\n",
      "Kill Command = /opt/hadoop/bin/hadoop job  -kill job_1652793922537_0025\n",
      "Hadoop job information for Stage-1: number of mappers: 27; number of reducers: 1\n",
      "2022-05-17 14:51:24,736 Stage-1 map = 0%,  reduce = 0%\n",
      "2022-05-17 14:51:28,845 Stage-1 map = 4%,  reduce = 0%, Cumulative CPU 1.81 sec\n",
      "2022-05-17 14:51:29,883 Stage-1 map = 7%,  reduce = 0%, Cumulative CPU 4.03 sec\n",
      "2022-05-17 14:51:31,967 Stage-1 map = 11%,  reduce = 0%, Cumulative CPU 6.33 sec\n",
      "2022-05-17 14:51:32,997 Stage-1 map = 19%,  reduce = 0%, Cumulative CPU 11.12 sec\n",
      "2022-05-17 14:51:34,044 Stage-1 map = 22%,  reduce = 0%, Cumulative CPU 13.19 sec\n",
      "2022-05-17 14:51:35,100 Stage-1 map = 26%,  reduce = 0%, Cumulative CPU 15.72 sec\n",
      "2022-05-17 14:51:36,151 Stage-1 map = 33%,  reduce = 0%, Cumulative CPU 20.93 sec\n",
      "2022-05-17 14:51:37,194 Stage-1 map = 41%,  reduce = 0%, Cumulative CPU 25.54 sec\n",
      "2022-05-17 14:51:38,227 Stage-1 map = 44%,  reduce = 0%, Cumulative CPU 27.83 sec\n",
      "2022-05-17 14:51:40,326 Stage-1 map = 48%,  reduce = 0%, Cumulative CPU 30.42 sec\n",
      "2022-05-17 14:51:41,390 Stage-1 map = 52%,  reduce = 0%, Cumulative CPU 33.17 sec\n",
      "2022-05-17 14:51:42,432 Stage-1 map = 63%,  reduce = 0%, Cumulative CPU 40.69 sec\n",
      "2022-05-17 14:51:45,564 Stage-1 map = 70%,  reduce = 0%, Cumulative CPU 46.69 sec\n",
      "2022-05-17 14:51:46,592 Stage-1 map = 81%,  reduce = 0%, Cumulative CPU 54.02 sec\n",
      "2022-05-17 14:51:49,680 Stage-1 map = 81%,  reduce = 27%, Cumulative CPU 54.36 sec\n",
      "2022-05-17 14:51:50,711 Stage-1 map = 89%,  reduce = 27%, Cumulative CPU 60.48 sec\n",
      "2022-05-17 14:51:51,756 Stage-1 map = 100%,  reduce = 27%, Cumulative CPU 68.54 sec\n",
      "2022-05-17 14:51:52,783 Stage-1 map = 100%,  reduce = 100%, Cumulative CPU 70.51 sec\n",
      "MapReduce Total cumulative CPU time: 1 minutes 10 seconds 510 msec\n",
      "Ended Job = job_1652793922537_0025\n",
      "MapReduce Jobs Launched:\n",
      "Stage-Stage-1: Map: 27  Reduce: 1   Cumulative CPU: 70.51 sec   HDFS Read: 201369 HDFS Write: 1030 SUCCESS\n",
      "Total MapReduce CPU Time Spent: 1 minutes 10 seconds 510 msec\n",
      "OK\n",
      "1\tVivian\tHamilton\t1971-07-08 00:00:00\t1\tgreen\n",
      "2\tKaren\tHolcomb\t1974-05-23 00:00:00\t4\tgreen\n",
      "3\tCody\tGarrett\t1973-04-22 00:00:00\t1\torange\n",
      "4\tRoth\tFry\t1975-01-29 00:00:00\t1\tblack\n",
      "5\tZoe\tConway\t1974-07-03 00:00:00\t2\tblue\n",
      "6\tGretchen\tKinney\t1974-10-18 00:00:00\t1\tviolet\n",
      "7\tDriscoll\tKlein\t1970-10-05 00:00:00\t5\tblue\n",
      "8\tKaryn\tDiaz\t1969-02-24 00:00:00\t100\tred\n",
      "9\tMerritt\tGuy\t1974-10-17 00:00:00\t4\tindigo\n",
      "11\tJordan\tEstes\t1969-12-07 00:00:00\t4\tindigo\n",
      "12\tHope\tCoffey\t1973-12-24 00:00:00\t5\tgreen\n",
      "13\tVivian\tCrane\t1970-08-27 00:00:00\t5\tgray\n",
      "14\tClio\tNoel\t1972-12-12 00:00:00\t100\tred\n",
      "15\tHope\tSilva\t1970-07-01 00:00:00\t5\tblue\n",
      "16\tAyanna\tJarvis\t1974-02-11 00:00:00\t5\torange\n",
      "17\tChanda\tBoyer\t1973-04-01 00:00:00\t4\tgreen\n",
      "18\tChadwick\tKnight\t1973-04-29 00:00:00\t1\tyellow\n",
      "Time taken: 38.642 seconds, Fetched: 17 row(s)\n"
     ]
    }
   ],
   "source": [
    "%%hive\n",
    "SELECT * FROM persons ORDER BY id;"
   ]
  },
  {
   "cell_type": "markdown",
   "metadata": {},
   "source": [
    "MERGE\n",
    "--"
   ]
  },
  {
   "cell_type": "markdown",
   "metadata": {},
   "source": [
    "    MERGE INTO <target table> AS T USING <source expression/table> AS S\n",
    "    ON <boolean expression1>\n",
    "    WHEN MATCHED [AND <boolean expression2>] THEN UPDATE SET <set clause list>\n",
    "    WHEN MATCHED [AND <boolean expression3>] THEN DELETE\n",
    "    WHEN NOT MATCHED [AND <boolean expression4>] THEN INSERT VALUES<value list>\n",
    "    \n",
    "Véase https://community.hortonworks.com/articles/97113/hive-acid-merge-by-example.html    "
   ]
  },
  {
   "cell_type": "markdown",
   "metadata": {},
   "source": [
    "---"
   ]
  },
  {
   "cell_type": "code",
   "execution_count": 13,
   "metadata": {},
   "outputs": [
    {
     "name": "stdout",
     "output_type": "stream",
     "text": [
      "OK\n",
      "Time taken: 0.55 seconds\n"
     ]
    }
   ],
   "source": [
    "%%hive\n",
    "-- limpia la base de datos\n",
    "DROP DATABASE IF EXISTS demo CASCADE;"
   ]
  },
  {
   "cell_type": "code",
   "execution_count": 14,
   "metadata": {},
   "outputs": [],
   "source": [
    "%quit"
   ]
  },
  {
   "cell_type": "code",
   "execution_count": 15,
   "metadata": {},
   "outputs": [],
   "source": [
    "!rm *.log"
   ]
  }
 ],
 "metadata": {
  "kernelspec": {
   "display_name": "Python 3 (ipykernel)",
   "language": "python",
   "name": "python3"
  },
  "language_info": {
   "codemirror_mode": {
    "name": "ipython",
    "version": 3
   },
   "file_extension": ".py",
   "mimetype": "text/x-python",
   "name": "python",
   "nbconvert_exporter": "python",
   "pygments_lexer": "ipython3",
   "version": "3.8.10"
  },
  "toc": {
   "base_numbering": 1,
   "nav_menu": {},
   "number_sections": false,
   "sideBar": true,
   "skip_h1_title": true,
   "title_cell": "Table of Contents",
   "title_sidebar": "Contents",
   "toc_cell": false,
   "toc_position": {},
   "toc_section_display": true,
   "toc_window_display": true
  },
  "toc-autonumbering": false
 },
 "nbformat": 4,
 "nbformat_minor": 4
}
