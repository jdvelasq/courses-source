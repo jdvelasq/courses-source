{
 "cells": [
  {
   "cell_type": "markdown",
   "id": "33e9f1e1-8871-4a16-bd4b-406e9ee29420",
   "metadata": {
    "tags": []
   },
   "source": [
    "TruncatedSVD y Latent Semantic Analysis --- 13:55 min\n",
    "===\n",
    "\n",
    "* *13:55 min* | Última modificación: Septiembre 24, 2021 | [YouTube](https://youtu.be/NBHKjkbmh5Q)"
   ]
  },
  {
   "cell_type": "markdown",
   "id": "3044a60b-adf1-46e4-87c7-a43d89311ceb",
   "metadata": {},
   "source": [
    "El objeto `TruncatedSVD`  implementa una variación de la descomposición en valores singulares (SVD) que computa únicamente los $k$ valores singulares más grandes."
   ]
  },
  {
   "cell_type": "markdown",
   "id": "77a9055a-1344-4da6-8f91-c59ff2c7df07",
   "metadata": {},
   "source": [
    "Cuando esta metodología (TruncatedSVD) es aplicada a la matriz término-documento, es conocida como análisis semantico latente, ya que transforma la matriz a un espacio semántico de baja dimensionalidad. "
   ]
  },
  {
   "cell_type": "markdown",
   "id": "dd0b9809-8865-4b92-b420-35cbbb1291c2",
   "metadata": {},
   "source": [
    "Esta metodología es muy similar a PCA pero difiere en que la matriz de termino-documento no necesita ser centrada."
   ]
  },
  {
   "cell_type": "markdown",
   "id": "4fe93729-5e14-4371-b117-29282200a83f",
   "metadata": {},
   "source": [
    "![lsa.png](assets/lsa.png)"
   ]
  },
  {
   "cell_type": "code",
   "execution_count": 1,
   "id": "9bcd5d44-cfcd-4cdc-b917-034875bb1bf0",
   "metadata": {},
   "outputs": [
    {
     "name": "stdout",
     "output_type": "stream",
     "text": [
      " documents: 18846\n",
      "categories: 20\n",
      "\n",
      "['alt.atheism',\n",
      " 'comp.graphics',\n",
      " 'comp.os.ms-windows.misc',\n",
      " 'comp.sys.ibm.pc.hardware',\n",
      " 'comp.sys.mac.hardware',\n",
      " 'comp.windows.x',\n",
      " 'misc.forsale',\n",
      " 'rec.autos',\n",
      " 'rec.motorcycles',\n",
      " 'rec.sport.baseball',\n",
      " 'rec.sport.hockey',\n",
      " 'sci.crypt',\n",
      " 'sci.electronics',\n",
      " 'sci.med',\n",
      " 'sci.space',\n",
      " 'soc.religion.christian',\n",
      " 'talk.politics.guns',\n",
      " 'talk.politics.mideast',\n",
      " 'talk.politics.misc',\n",
      " 'talk.religion.misc']\n"
     ]
    }
   ],
   "source": [
    "#\n",
    "# Carga de datos\n",
    "#\n",
    "\n",
    "from pprint import pprint\n",
    "\n",
    "import numpy as np\n",
    "from sklearn.datasets import fetch_20newsgroups\n",
    "\n",
    "newsgroups = fetch_20newsgroups(\n",
    "    subset=\"all\", categories=None, shuffle=True, random_state=12345\n",
    ")\n",
    "\n",
    "documents = newsgroups.data\n",
    "target = newsgroups.target\n",
    "n_groups = np.unique(target).shape[0]\n",
    "\n",
    "print(\" documents: {:d}\".format(len(newsgroups.data)))\n",
    "print(\"categories: {:d}\".format(len(newsgroups.target_names)))\n",
    "print()\n",
    "pprint(list(newsgroups.target_names))"
   ]
  },
  {
   "cell_type": "code",
   "execution_count": 2,
   "id": "98e23c07-f58a-433e-b0e0-f78d6612b6a5",
   "metadata": {},
   "outputs": [
    {
     "name": "stdout",
     "output_type": "stream",
     "text": [
      "From: grady@netcom.com (1016/2EF221)\n",
      "Subject: Re: freely distributable public key cryptography c++ code:  where?\n",
      "Organization: capriccioso\n",
      "X-Newsreader: TIN [version 1.1 PL6]\n",
      "Lines: 20\n",
      "\n",
      "Victor Iseli (victori@xetron.com) wrote:\n",
      ": \n",
      ": \n",
      ": \"Numerical Recipes in C\"..Fortran..Pascal  has a nice section on\n",
      ": encryption and decryption based on the DES algorithm.  There is\n",
      ": also source code provided (I think some versions of this book are \n",
      ": distributed with the source code on disk; the source code can\n",
      ": also be ordered from the publisher).\n",
      ": \n",
      ": --Victor Iseli\n",
      ": victori@xetron.com\n",
      "\n",
      "Yes I benchmarked the DES implementation in the Recipes in C\n",
      "book.. it is about 1 1/2 orders of magnitude SLOWER than the\n",
      "Outerbridge/Karn/Gillogly/et al implementation.\n",
      "\n",
      "It may be instructional, but it isn't very fast.\n",
      "-- \n",
      "grady@netcom.com  2EF221 / 15 E2 AD D3 D1 C6 F3 FC  58 AC F7 3D 4F 01 1E 2F\n",
      "\n",
      "\n"
     ]
    }
   ],
   "source": [
    "#\n",
    "# Ejemplo del primer documento\n",
    "#\n",
    "print(documents[0])"
   ]
  },
  {
   "cell_type": "code",
   "execution_count": 3,
   "id": "b4f4a156-555e-4cf5-9212-a01e446c51a4",
   "metadata": {},
   "outputs": [
    {
     "data": {
      "text/plain": [
       "(18846, 1000)"
      ]
     },
     "execution_count": 3,
     "metadata": {},
     "output_type": "execute_result"
    }
   ],
   "source": [
    "from sklearn.feature_extraction.text import TfidfVectorizer\n",
    "\n",
    "vectorizer = TfidfVectorizer(\n",
    "    max_df=0.5,\n",
    "    max_features=1000,\n",
    "    min_df=2,\n",
    "    stop_words=\"english\",\n",
    "    use_idf=False,\n",
    "    token_pattern=r\"(?u)\\b[a-zA-Z][a-zA-Z]+\\b\",\n",
    ")\n",
    "\n",
    "dt_matrix = vectorizer.fit_transform(documents)\n",
    "dt_matrix.shape"
   ]
  },
  {
   "cell_type": "code",
   "execution_count": 4,
   "id": "c7153ba3-0c51-4227-9e7e-0492a916372b",
   "metadata": {},
   "outputs": [
    {
     "data": {
      "text/plain": [
       "['able',\n",
       " 'ac',\n",
       " 'accept',\n",
       " 'access',\n",
       " 'according',\n",
       " 'acs',\n",
       " 'act',\n",
       " 'action',\n",
       " 'actions',\n",
       " 'actually']"
      ]
     },
     "execution_count": 4,
     "metadata": {},
     "output_type": "execute_result"
    }
   ],
   "source": [
    "vectorizer.get_feature_names()[:10]"
   ]
  },
  {
   "cell_type": "code",
   "execution_count": 5,
   "id": "b5e8dd46-c921-45bb-910b-a0890303132e",
   "metadata": {},
   "outputs": [
    {
     "data": {
      "text/plain": [
       "(18846, 600)"
      ]
     },
     "execution_count": 5,
     "metadata": {},
     "output_type": "execute_result"
    }
   ],
   "source": [
    "from sklearn.decomposition import TruncatedSVD\n",
    "from sklearn.pipeline import make_pipeline\n",
    "from sklearn.preprocessing import Normalizer\n",
    "\n",
    "truncatedSVD = TruncatedSVD(600)\n",
    "normalizer = Normalizer(copy=False)\n",
    "pipeline = make_pipeline(truncatedSVD, normalizer)\n",
    "\n",
    "dt_svd = pipeline.fit_transform(dt_matrix)\n",
    "dt_svd.shape"
   ]
  },
  {
   "cell_type": "code",
   "execution_count": 6,
   "id": "3d7432cf-74b0-4828-8d49-81f2677a584c",
   "metadata": {},
   "outputs": [
    {
     "name": "stdout",
     "output_type": "stream",
     "text": [
      "Explained variance of the SVD step: 87%\n"
     ]
    }
   ],
   "source": [
    "explained_variance = truncatedSVD.explained_variance_ratio_.sum()\n",
    "print(\"Explained variance of the SVD step: {}%\".format(int(explained_variance * 100)))"
   ]
  },
  {
   "cell_type": "code",
   "execution_count": 7,
   "id": "1c4e9e5e-964e-41e3-b43b-f05755310116",
   "metadata": {},
   "outputs": [
    {
     "data": {
      "text/plain": [
       "KMeans(algorithm='auto', copy_x=True, init='k-means++', max_iter=100,\n",
       "       n_clusters=20, n_init=1, n_jobs=None, precompute_distances='auto',\n",
       "       random_state=None, tol=0.0001, verbose=0)"
      ]
     },
     "execution_count": 7,
     "metadata": {},
     "output_type": "execute_result"
    }
   ],
   "source": [
    "from sklearn.cluster import KMeans\n",
    "\n",
    "kmeans = KMeans(\n",
    "    n_clusters=n_groups,\n",
    "    init=\"k-means++\",\n",
    "    max_iter=100,\n",
    "    n_init=1,\n",
    ")\n",
    "\n",
    "kmeans.fit(dt_svd)"
   ]
  },
  {
   "cell_type": "code",
   "execution_count": 8,
   "id": "fbd761c0-c669-4dc3-96f7-7ee41bba7698",
   "metadata": {},
   "outputs": [
    {
     "name": "stdout",
     "output_type": "stream",
     "text": [
      "Cluster 0: com article just netcom like don know does distribution new\n",
      "Cluster 1: university state article thanks virginia uiuc know new does computer\n",
      "Cluster 2: cc columbia university posting host nntp article buffalo utexas rochester\n",
      "Cluster 3: ohio state cleveland university cwru host posting nntp acs freenet\n",
      "Cluster 4: posting host nntp university article distribution thanks know world like\n",
      "Cluster 5: game team games year hockey university article think players play\n",
      "Cluster 6: key clipper chip encryption com keys government escrow use public\n",
      "Cluster 7: nasa gov article new drive space use know does org\n",
      "Cluster 8: like just article good car know com think time don\n",
      "Cluster 9: andrew cmu pittsburgh posting host nntp pa reply know com\n",
      "Cluster 10: ca article university posting canada host nntp com bnr like\n",
      "Cluster 11: cs article university computer science posting host nntp com dept\n",
      "Cluster 12: ibm com austin posting article reply just like don nntp\n",
      "Cluster 13: god jesus people believe com don does say bible think\n",
      "Cluster 14: uk ac university article com posting host nntp just know\n",
      "Cluster 15: windows dos com file university use ms know files does\n",
      "Cluster 16: don know think just article com people like say time\n",
      "Cluster 17: people article government just com right think israel don said\n",
      "Cluster 18: com posting article host nntp distribution sun reply like know\n",
      "Cluster 19: card video drivers university com cards know windows does posting\n"
     ]
    }
   ],
   "source": [
    "original_space_centroids = truncatedSVD.inverse_transform(kmeans.cluster_centers_)\n",
    "\n",
    "order_centroids = original_space_centroids.argsort()[:, ::-1]\n",
    "\n",
    "terms = vectorizer.get_feature_names()\n",
    "for i in range(n_groups):\n",
    "    print(\"Cluster %d:\" % i, end=\"\")\n",
    "    for ind in order_centroids[i, :10]:\n",
    "        print(\" %s\" % terms[ind], end=\"\")\n",
    "    print()"
   ]
  }
 ],
 "metadata": {
  "kernelspec": {
   "display_name": "Python 3",
   "language": "python",
   "name": "python3"
  },
  "language_info": {
   "codemirror_mode": {
    "name": "ipython",
    "version": 3
   },
   "file_extension": ".py",
   "mimetype": "text/x-python",
   "name": "python",
   "nbconvert_exporter": "python",
   "pygments_lexer": "ipython3",
   "version": "3.6.9"
  }
 },
 "nbformat": 4,
 "nbformat_minor": 5
}
