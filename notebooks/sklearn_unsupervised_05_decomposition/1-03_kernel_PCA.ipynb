{
 "cells": [
  {
   "cell_type": "markdown",
   "id": "33e9f1e1-8871-4a16-bd4b-406e9ee29420",
   "metadata": {
    "tags": []
   },
   "source": [
    "Kernel PCA --- 6:39 min\n",
    "===\n",
    "\n",
    "* *6:39 min* | Última modificación: Septiembre 24, 2021 | [YouTube](https://youtu.be/u6hRVZQCLF8)"
   ]
  },
  {
   "cell_type": "markdown",
   "id": "fe81bfe5-4dcd-4447-a895-04e5d9e01a9d",
   "metadata": {},
   "source": [
    "El análisis de componentes principales realiza la extracción de las componentes ortogonales sucesivas de los datos mediante transformaciones lineales, con el fin de explicar la máxima cantidad de varianza. Sin embargo, este método no es exitoso cuando los datos contienen relaciones no lineales como se puede ver en el siguiente ejemplo."
   ]
  },
  {
   "cell_type": "markdown",
   "id": "67e580be-148a-44a1-b105-8719b93f4a9c",
   "metadata": {},
   "source": [
    "![assets/circles_pca.png](assets/circles_pca.png)"
   ]
  },
  {
   "cell_type": "markdown",
   "id": "dd06c3b9-bea1-48c9-bb95-e9658d5b5adc",
   "metadata": {},
   "source": [
    "Como ya se explicó anteriormente, las transformaciones de kernel permiten aumentar la dimensionalidad de los datos, de tal forma que ciertos problemas complejos pueden hacerse lineales."
   ]
  },
  {
   "cell_type": "markdown",
   "id": "20a0ff2a-e0f3-490f-b441-8891e04411f0",
   "metadata": {},
   "source": [
    "![circlese_kernel.png](assets/circles_kernel.png)"
   ]
  },
  {
   "cell_type": "markdown",
   "id": "3e8bc9ed-2bd2-459b-b375-1dd2266c468c",
   "metadata": {},
   "source": [
    "KernelPCA() es una extensión de la metodología de PCA que permite la reducción de dimensionalidad no lineal a través del uso de funciones kernel."
   ]
  },
  {
   "cell_type": "code",
   "execution_count": 1,
   "id": "849dc894-0da5-4e4f-9e9b-670de5f9b0e3",
   "metadata": {},
   "outputs": [
    {
     "data": {
      "image/png": "[encoded data removed]",
      "text/plain": [
       "<Figure size 864x288 with 2 Axes>"
      ]
     },
     "metadata": {
      "needs_background": "light"
     },
     "output_type": "display_data"
    }
   ],
   "source": [
    "import matplotlib.pyplot as plt\n",
    "import numpy as np\n",
    "from sklearn.datasets import make_circles\n",
    "from sklearn.decomposition import PCA, KernelPCA\n",
    "\n",
    "#\n",
    "# Geenración del dataset\n",
    "#\n",
    "np.random.seed(0)\n",
    "X, y = make_circles(n_samples=200, factor=0.3, noise=0.05)\n",
    "\n",
    "\n",
    "kernelPCA = KernelPCA(\n",
    "    # -----------------------------------------------------\n",
    "    # Number of components.\n",
    "    n_components=None,\n",
    "    # -----------------------------------------------------\n",
    "    # Kernel used for PCA.\n",
    "    #   'linear', 'poly', 'rbf', 'sigmoid', 'cosine'\n",
    "    kernel=\"rbf\",\n",
    "    # -----------------------------------------------------\n",
    "    # Kernel coefficient for rbf, poly and sigmoid kernels.\n",
    "    gamma=10,\n",
    "    # -----------------------------------------------------\n",
    "    # Degree for poly kernels. Ignored by other kernels.\n",
    "    degree=3,\n",
    "    # -----------------------------------------------------\n",
    "    # Independent term in poly and sigmoid kernels.\n",
    "    coef0=1,\n",
    "    # -----------------------------------------------------\n",
    "    # Learn the inverse transform for non-precomputed\n",
    "    # kernels\n",
    "    fit_inverse_transform=True,\n",
    ")\n",
    "\n",
    "X_kernelPCA = kernelPCA.fit_transform(X)\n",
    "X_back = kernelPCA.inverse_transform(X_kernelPCA)\n",
    "\n",
    "reds = y == 0\n",
    "blues = y == 1\n",
    "\n",
    "plt.figure(figsize=(12, 4))\n",
    "\n",
    "plt.subplot(1, 2, 1, aspect=\"equal\")\n",
    "plt.scatter(X_kernelPCA[reds, 0], X_kernelPCA[reds, 1], c=\"red\", s=30, edgecolor=\"k\")\n",
    "plt.scatter(X_kernelPCA[blues, 0], X_kernelPCA[blues, 1], c=\"blue\", s=30, edgecolor=\"k\")\n",
    "\n",
    "plt.subplot(1, 2, 2, aspect=\"equal\")\n",
    "plt.scatter(X_back[reds, 0], X_back[reds, 1], c=\"red\", s=30, edgecolor=\"k\")\n",
    "plt.scatter(X_back[blues, 0], X_back[blues, 1], c=\"blue\", s=30, edgecolor=\"k\")\n",
    "\n",
    "plt.show()"
   ]
  },
  {
   "cell_type": "markdown",
   "id": "38601ca6-989c-4f94-94e4-83795bbe04a3",
   "metadata": {},
   "source": [
    "---"
   ]
  },
  {
   "cell_type": "code",
   "execution_count": 2,
   "id": "c1c510f8-18ab-46ef-8522-68a71d8d2cf5",
   "metadata": {},
   "outputs": [],
   "source": [
    "def fig1():\n",
    "    import matplotlib.pyplot as plt\n",
    "    import numpy as np\n",
    "    from sklearn.datasets import make_circles\n",
    "    from sklearn.decomposition import PCA\n",
    "\n",
    "    np.random.seed(0)\n",
    "\n",
    "    X, y = make_circles(n_samples=200, factor=0.3, noise=0.05)\n",
    "\n",
    "    plt.figure(figsize=(12, 4))\n",
    "\n",
    "    plt.subplot(1, 2, 1, aspect=\"equal\")\n",
    "\n",
    "    reds = y == 0\n",
    "    blues = y == 1\n",
    "\n",
    "    plt.scatter(X[reds, 0], X[reds, 1], c=\"red\", s=30, edgecolor=\"k\")\n",
    "    plt.scatter(X[blues, 0], X[blues, 1], c=\"blue\", s=30, edgecolor=\"k\")\n",
    "\n",
    "    plt.xlabel(\"$x_1$\")\n",
    "    plt.ylabel(\"$x_2$\")\n",
    "\n",
    "    #\n",
    "    # Descomposición usando PCA\n",
    "    #\n",
    "    pca = PCA()\n",
    "    X_pca = pca.fit_transform(X)\n",
    "\n",
    "    plt.subplot(1, 2, 2, aspect=\"equal\")\n",
    "    plt.scatter(X_pca[reds, 0], X_pca[reds, 1], c=\"red\", s=30, edgecolor=\"k\")\n",
    "    plt.scatter(X_pca[blues, 0], X_pca[blues, 1], c=\"blue\", s=30, edgecolor=\"k\")\n",
    "\n",
    "    plt.xlabel(\"Componente Principal 1\")\n",
    "    plt.ylabel(\"Componente Principal 2\")\n",
    "\n",
    "    plt.savefig(\"assets/circles_pca.png\")\n",
    "    plt.close()\n",
    "\n",
    "\n",
    "## fig1()"
   ]
  },
  {
   "cell_type": "code",
   "execution_count": 3,
   "id": "80065878-35bc-461d-9556-109d984c564e",
   "metadata": {},
   "outputs": [],
   "source": [
    "def fig2():\n",
    "    import matplotlib.pyplot as plt\n",
    "    import numpy as np\n",
    "    from sklearn.datasets import make_circles\n",
    "\n",
    "    np.random.seed(0)\n",
    "\n",
    "    X, y = make_circles(n_samples=200, factor=0.3, noise=0.05)\n",
    "\n",
    "    plt.figure(figsize=(12, 4))\n",
    "\n",
    "    plt.subplot(1, 2, 1, aspect=\"equal\")\n",
    "\n",
    "    reds = y == 0\n",
    "    blues = y == 1\n",
    "\n",
    "    plt.scatter(X[reds, 0], X[reds, 1], c=\"red\", s=30, edgecolor=\"k\")\n",
    "    plt.scatter(X[blues, 0], X[blues, 1], c=\"blue\", s=30, edgecolor=\"k\")\n",
    "\n",
    "    plt.xlabel(\"$x_1$\")\n",
    "    plt.ylabel(\"$x_2$\")\n",
    "\n",
    "    X_transf = np.c_[X, X[:, 0] ** 2 + X[:, 1] ** 2]\n",
    "\n",
    "    plt.gca().spines[\"left\"].set_color(\"gray\")\n",
    "    plt.gca().spines[\"bottom\"].set_color(\"gray\")\n",
    "    plt.gca().spines[\"top\"].set_visible(False)\n",
    "    plt.gca().spines[\"right\"].set_visible(False)\n",
    "\n",
    "    ax = plt.subplot(1, 2, 2, projection=\"3d\")\n",
    "    ax.scatter(\n",
    "        X_transf[reds, 0],\n",
    "        X_transf[reds, 1],\n",
    "        X_transf[reds, 2],\n",
    "        marker=\"o\",\n",
    "        c=\"red\",\n",
    "        edgecolor=\"k\",\n",
    "    )\n",
    "    ax.scatter(\n",
    "        X_transf[blues, 0],\n",
    "        X_transf[blues, 1],\n",
    "        X_transf[blues, 2],\n",
    "        marker=\"o\",\n",
    "        c=\"blue\",\n",
    "        edgecolor=\"k\",\n",
    "    )\n",
    "\n",
    "    plt.savefig(\"assets/circles_kernel.png\")\n",
    "    plt.close()\n",
    "\n",
    "\n",
    "## fig2()"
   ]
  }
 ],
 "metadata": {
  "kernelspec": {
   "display_name": "Python 3",
   "language": "python",
   "name": "python3"
  },
  "language_info": {
   "codemirror_mode": {
    "name": "ipython",
    "version": 3
   },
   "file_extension": ".py",
   "mimetype": "text/x-python",
   "name": "python",
   "nbconvert_exporter": "python",
   "pygments_lexer": "ipython3",
   "version": "3.6.9"
  }
 },
 "nbformat": 4,
 "nbformat_minor": 5
}
