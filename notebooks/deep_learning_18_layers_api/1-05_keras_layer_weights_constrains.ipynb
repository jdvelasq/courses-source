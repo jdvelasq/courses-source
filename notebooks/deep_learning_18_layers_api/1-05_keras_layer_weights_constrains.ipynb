{
 "cells": [
  {
   "cell_type": "markdown",
   "id": "7da14e35-1c81-426a-8a97-316ee97e1727",
   "metadata": {
    "tags": []
   },
   "source": [
    "Restricciones de pesos --- 0:00 min\n",
    "===\n",
    "\n",
    "* Última modificación: Marzo 7, 2022 | YouTube\n",
    "\n",
    "* Adaptado de: https://keras.io/api/layers/constraints/"
   ]
  },
  {
   "cell_type": "markdown",
   "id": "7be64ea4-373d-4372-93fe-f23303ec2bf4",
   "metadata": {
    "tags": []
   },
   "source": [
    "Importación de librerías\n",
    "---"
   ]
  },
  {
   "cell_type": "code",
   "execution_count": 1,
   "id": "3dba61fd-281d-4638-aa5d-5958fb840608",
   "metadata": {},
   "outputs": [
    {
     "data": {
      "text/plain": [
       "'2.8.0'"
      ]
     },
     "execution_count": 1,
     "metadata": {},
     "output_type": "execute_result"
    }
   ],
   "source": [
    "import os\n",
    "\n",
    "os.environ[\"TF_CPP_MIN_LOG_LEVEL\"] = \"2\"\n",
    "\n",
    "import tensorflow as tf\n",
    "\n",
    "tf.__version__"
   ]
  },
  {
   "cell_type": "markdown",
   "id": "b69fe88f-6c9f-4411-8eca-976d28929fae",
   "metadata": {},
   "source": [
    "Uso de restricciones\n",
    "--"
   ]
  },
  {
   "cell_type": "code",
   "execution_count": 2,
   "id": "47f630d8-0efd-4b2a-8ce3-5d8a72c900fb",
   "metadata": {},
   "outputs": [],
   "source": [
    "model = tf.keras.Sequential()\n",
    "model.add(\n",
    "    tf.keras.layers.Dense(\n",
    "        64,\n",
    "        kernel_constraint=tf.keras.constraints.max_norm(2.0),\n",
    "    ),\n",
    ")"
   ]
  },
  {
   "cell_type": "markdown",
   "id": "6db09911-a66e-4ecc-af68-a964d7738e39",
   "metadata": {},
   "source": [
    "Restricciones disponibles\n",
    "---"
   ]
  },
  {
   "cell_type": "markdown",
   "id": "9598e658-21a3-4c38-aeb9-a221bc08aa67",
   "metadata": {},
   "source": [
    "**MaxMin**"
   ]
  },
  {
   "cell_type": "code",
   "execution_count": 3,
   "id": "ee4aedbe-6ee3-42d6-a489-fedbadc64ad6",
   "metadata": {},
   "outputs": [
    {
     "data": {
      "text/plain": [
       "<keras.constraints.MaxNorm at 0x7fbcb06b2a90>"
      ]
     },
     "execution_count": 3,
     "metadata": {},
     "output_type": "execute_result"
    }
   ],
   "source": [
    "tf.keras.constraints.MaxNorm(\n",
    "    max_value=2,\n",
    "    axis=0,\n",
    ")"
   ]
  },
  {
   "cell_type": "markdown",
   "id": "d06a29fc-5111-490b-ab00-df224cfe5f44",
   "metadata": {},
   "source": [
    "**MaxMinNorm**"
   ]
  },
  {
   "cell_type": "code",
   "execution_count": 4,
   "id": "064eda64-0212-4e5d-8d67-656ec02a1433",
   "metadata": {},
   "outputs": [
    {
     "data": {
      "text/plain": [
       "<keras.constraints.MinMaxNorm at 0x7fbbf75ac9d0>"
      ]
     },
     "execution_count": 4,
     "metadata": {},
     "output_type": "execute_result"
    }
   ],
   "source": [
    "tf.keras.constraints.MinMaxNorm(\n",
    "    min_value=0.0,\n",
    "    max_value=1.0,\n",
    "    rate=1.0,\n",
    "    axis=0,\n",
    ")"
   ]
  },
  {
   "cell_type": "markdown",
   "id": "ad8b3fc7-ad93-4a10-aca7-f7d3c9c5830c",
   "metadata": {},
   "source": [
    "**NonNeg**"
   ]
  },
  {
   "cell_type": "code",
   "execution_count": 5,
   "id": "6512726e-89a5-4e46-a6fa-28d2dae9e840",
   "metadata": {},
   "outputs": [
    {
     "data": {
      "text/plain": [
       "<keras.constraints.NonNeg at 0x7fbbf75acd60>"
      ]
     },
     "execution_count": 5,
     "metadata": {},
     "output_type": "execute_result"
    }
   ],
   "source": [
    "tf.keras.constraints.NonNeg()"
   ]
  },
  {
   "cell_type": "markdown",
   "id": "fc4ff2af-13bb-4bc1-b9fc-4f6e72827de8",
   "metadata": {},
   "source": [
    "**UnitNorm**"
   ]
  },
  {
   "cell_type": "code",
   "execution_count": 6,
   "id": "4a2edf5f-3721-4a6e-858e-70b3dddcfca9",
   "metadata": {},
   "outputs": [
    {
     "data": {
      "text/plain": [
       "<keras.constraints.UnitNorm at 0x7fbbf75aca30>"
      ]
     },
     "execution_count": 6,
     "metadata": {},
     "output_type": "execute_result"
    }
   ],
   "source": [
    "tf.keras.constraints.UnitNorm(axis=0)"
   ]
  },
  {
   "cell_type": "markdown",
   "id": "467372e2-c69f-40ad-b86d-fd9cb7370bb4",
   "metadata": {},
   "source": [
    "**RadialConstraint**"
   ]
  },
  {
   "cell_type": "code",
   "execution_count": 7,
   "id": "f6592aa6-7c9a-4cd6-8f12-729499992755",
   "metadata": {},
   "outputs": [
    {
     "data": {
      "text/plain": [
       "<keras.constraints.RadialConstraint at 0x7fbbf4544190>"
      ]
     },
     "execution_count": 7,
     "metadata": {},
     "output_type": "execute_result"
    }
   ],
   "source": [
    "#\n",
    "# Restringe a que los pesos del kernel de una capa Conv2D sean los mismos para\n",
    "# cada radio\n",
    "#\n",
    "tf.keras.constraints.RadialConstraint()"
   ]
  },
  {
   "cell_type": "markdown",
   "id": "aaa84d0c-0d82-454c-bd46-1950cf66e19e",
   "metadata": {},
   "source": [
    "Por ejemplo, a salida deseada para el siguiente kernel 4x4:\n",
    "\n",
    "```\n",
    "kernel = [\n",
    "    [v_00, v_01, v_02, v_03],\n",
    "    [v_10, v_11, v_12, v_13],\n",
    "    [v_20, v_21, v_22, v_23],\n",
    "    [v_30, v_31, v_32, v_33],\n",
    "]    \n",
    "```\n",
    "\n",
    "es:\n",
    "\n",
    "```\n",
    "kernel = [\n",
    "    [v_11, v_11, v_11, v_11],\n",
    "    [v_11, v_33, v_33, v_11],\n",
    "    [v_11, v_33, v_33, v_11],\n",
    "    [v_11, v_11, v_11, v_11],\n",
    "]    \n",
    "\n",
    "```\n"
   ]
  },
  {
   "cell_type": "markdown",
   "id": "4000a71f-df47-4283-8d2c-6f7b33dabbea",
   "metadata": {},
   "source": [
    "Creación de restricciones de pesos personalizadas\n",
    "--"
   ]
  },
  {
   "cell_type": "code",
   "execution_count": 8,
   "id": "7e20b383-38e1-4f6f-82c3-a904aeec6d13",
   "metadata": {},
   "outputs": [],
   "source": [
    "class CenterAround(tf.keras.constraints.Constraint):\n",
    "    \"\"\"Constrains weight tensors to be centered around `ref_value`.\"\"\"\n",
    "\n",
    "    def __init__(self, ref_value):\n",
    "        self.ref_value = ref_value\n",
    "\n",
    "    def __call__(self, w):\n",
    "        mean = tf.reduce_mean(w)\n",
    "        return w - mean + self.ref_value\n",
    "\n",
    "    def get_config(self):\n",
    "        return {\"ref_value\": self.ref_value}"
   ]
  }
 ],
 "metadata": {
  "kernelspec": {
   "display_name": "Python 3 (ipykernel)",
   "language": "python",
   "name": "python3"
  },
  "language_info": {
   "codemirror_mode": {
    "name": "ipython",
    "version": 3
   },
   "file_extension": ".py",
   "mimetype": "text/x-python",
   "name": "python",
   "nbconvert_exporter": "python",
   "pygments_lexer": "ipython3",
   "version": "3.9.10"
  }
 },
 "nbformat": 4,
 "nbformat_minor": 5
}
