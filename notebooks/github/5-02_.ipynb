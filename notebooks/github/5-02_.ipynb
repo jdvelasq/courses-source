{
 "cells": [
  {
   "cell_type": "markdown",
   "metadata": {},
   "source": [
    "GitHub Actions con Docker\n",
    "===\n",
    "\n",
    "* Última modificación: Junio 9, 2022"
   ]
  },
  {
   "cell_type": "markdown",
   "metadata": {},
   "source": [
    "%%writefile Dockerfile\n",
    "\n",
    "FROM debian:9.5-slim\n",
    "\n",
    "ADD entrypoint.sh /entrypoint.sh\n",
    "RUN chmod +x /entrypoint.sh\n",
    "ENTRYPOINT [\"/entrypoint.sh\"]"
   ]
  },
  {
   "cell_type": "code",
   "execution_count": null,
   "metadata": {},
   "outputs": [],
   "source": [
    "%%writefile actions.yml\n",
    "\n",
    "name: \"Hello Actions\"\n",
    "description: \"Greet someone\"\n",
    "author: \"octocat@github.com\"\n",
    "\n",
    "inputs:\n",
    "  MY_NAME:\n",
    "    description: \"Who to greet\"\n",
    "    required: true\n",
    "    default: \"World\"\n",
    "\n",
    "runs:\n",
    "  using: \"docker\"\n",
    "  image: \"Dockerfile\"\n",
    "\n",
    "branding:\n",
    "  icon: \"mic\"\n",
    "  color: \"purple\"\n"
   ]
  },
  {
   "cell_type": "code",
   "execution_count": null,
   "metadata": {},
   "outputs": [],
   "source": [
    "%%writefile enetrypoint.sh\n",
    "#!/bin/sh -l\n",
    "\n",
    "sh -c \"echo Hello world my name is $INPUT_MY_NAME\""
   ]
  },
  {
   "cell_type": "code",
   "execution_count": null,
   "metadata": {},
   "outputs": [],
   "source": [
    "%%writefile .github/workflows/main.yml\n",
    "\n",
    "name: A workflow for my Hello World file\n",
    "on: push\n",
    "\n",
    "jobs:\n",
    "  build:\n",
    "    name: Hello world action\n",
    "    runs-on: ubuntu-latest\n",
    "    steps:\n",
    "      - uses: actions/checkout@v1\n",
    "      - uses: ./action-a\n",
    "        with:\n",
    "          MY_NAME: \"Mona\""
   ]
  }
 ],
 "metadata": {
  "interpreter": {
   "hash": "31f2aee4e71d21fbe5cf8b01ff0e069b9275f58929596ceb00d14d90e3e16cd6"
  },
  "kernelspec": {
   "display_name": "Python 3.8.9 64-bit",
   "language": "python",
   "name": "python3"
  },
  "language_info": {
   "codemirror_mode": {
    "name": "ipython",
    "version": 3
   },
   "file_extension": ".py",
   "mimetype": "text/x-python",
   "name": "python",
   "nbconvert_exporter": "python",
   "pygments_lexer": "ipython3",
   "version": "3.8.9"
  },
  "orig_nbformat": 4
 },
 "nbformat": 4,
 "nbformat_minor": 2
}
