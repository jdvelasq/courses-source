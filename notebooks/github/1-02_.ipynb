{
 "cells": [
  {
   "cell_type": "markdown",
   "id": "6c5a6876-0f69-40b8-9e9e-12cd6b6d8f43",
   "metadata": {
    "tags": []
   },
   "source": [
    "Ramas remotas\n",
    "===\n",
    "\n",
    "* Última modificación: Mayo  14, 2022"
   ]
  },
  {
   "cell_type": "markdown",
   "id": "7bdbb783-5ecb-41f5-b578-980b451f5343",
   "metadata": {},
   "source": [
    "Preparación del proyecto\n",
    "--"
   ]
  },
  {
   "cell_type": "code",
   "execution_count": 1,
   "id": "b75f20fe-8b4e-4b77-837d-fbd817bca80f",
   "metadata": {},
   "outputs": [
    {
     "name": "stdout",
     "output_type": "stream",
     "text": [
      "/workspace/git-demo\n"
     ]
    }
   ],
   "source": [
    "!rm -rf git-demo\n",
    "!mkdir git-demo\n",
    "%cd git-demo"
   ]
  },
  {
   "cell_type": "code",
   "execution_count": 2,
   "id": "87d87057-8c68-45b1-a7e7-31a5bd20500a",
   "metadata": {},
   "outputs": [],
   "source": [
    "!mkdir user-one"
   ]
  },
  {
   "cell_type": "code",
   "execution_count": 3,
   "id": "8cf6bbbe-e106-4141-bb84-4c6c14182ca7",
   "metadata": {},
   "outputs": [
    {
     "name": "stdout",
     "output_type": "stream",
     "text": [
      "/workspace/git-demo/user-one\n"
     ]
    }
   ],
   "source": [
    "%cd user-one"
   ]
  },
  {
   "cell_type": "code",
   "execution_count": 4,
   "id": "208d99b5-8d2a-4808-a721-15ecc363217c",
   "metadata": {},
   "outputs": [
    {
     "name": "stdout",
     "output_type": "stream",
     "text": [
      "Initialized empty Git repository in /workspace/git-demo/user-one/.git/\n"
     ]
    }
   ],
   "source": [
    "!git init"
   ]
  },
  {
   "cell_type": "code",
   "execution_count": 6,
   "id": "907cdab2-0854-4930-bda4-499b22f2fe21",
   "metadata": {},
   "outputs": [],
   "source": [
    "!git branch -v"
   ]
  },
  {
   "cell_type": "code",
   "execution_count": 7,
   "id": "5d9a615e-a790-4dd9-acfe-b0c9dfa66c90",
   "metadata": {},
   "outputs": [],
   "source": [
    "!git remote add origin https://github.com/jdvelasq/git-demo-remote-1"
   ]
  },
  {
   "cell_type": "code",
   "execution_count": 14,
   "id": "33fa1d29-aef9-49eb-a873-62fb383b1dd0",
   "metadata": {},
   "outputs": [],
   "source": [
    "!git fetch origin"
   ]
  },
  {
   "cell_type": "code",
   "execution_count": 8,
   "id": "0c71ff3e-4c52-42cf-9673-d1b6c64366d2",
   "metadata": {},
   "outputs": [
    {
     "name": "stdout",
     "output_type": "stream",
     "text": [
      "remote: Enumerating objects: 5, done.\u001b[K\n",
      "remote: Counting objects: 100% (5/5), done.\u001b[K\n",
      "remote: Compressing objects: 100% (3/3), done.\u001b[K\n",
      "remote: Total 5 (delta 0), reused 0 (delta 0), pack-reused 0\u001b[K\n",
      "Unpacking objects: 100% (5/5), 1.20 KiB | 32.00 KiB/s, done.\n",
      "From https://github.com/jdvelasq/git-demo-remote-1\n",
      " * branch            main       -> FETCH_HEAD\n",
      " * [new branch]      main       -> origin/main\n"
     ]
    }
   ],
   "source": [
    "!git pull origin main"
   ]
  },
  {
   "cell_type": "code",
   "execution_count": 9,
   "id": "d9f0d072-43bf-495c-924c-56b9e2495e63",
   "metadata": {},
   "outputs": [],
   "source": [
    "!git config user.email \"user_one@example.com\"\n",
    "!git config user.name \"User One\""
   ]
  },
  {
   "cell_type": "code",
   "execution_count": 10,
   "id": "6cfed912-064e-4fcf-8719-d13717902aa4",
   "metadata": {},
   "outputs": [
    {
     "name": "stdout",
     "output_type": "stream",
     "text": [
      "* \u001b[32mmaster\u001b[m\n"
     ]
    }
   ],
   "source": [
    "!git branch"
   ]
  },
  {
   "cell_type": "code",
   "execution_count": 11,
   "id": "6c8d877e-1e61-4f66-af4d-7f097a319392",
   "metadata": {},
   "outputs": [],
   "source": [
    "!git branch --move master main"
   ]
  },
  {
   "cell_type": "code",
   "execution_count": 12,
   "id": "d788900d-b46e-41dc-acec-03562e3152e0",
   "metadata": {},
   "outputs": [
    {
     "name": "stdout",
     "output_type": "stream",
     "text": [
      "* \u001b[32mmain\u001b[m\n"
     ]
    }
   ],
   "source": [
    "!git branch"
   ]
  },
  {
   "cell_type": "code",
   "execution_count": 13,
   "id": "70f736ec-63fa-4e45-84de-85b95d0a752b",
   "metadata": {},
   "outputs": [
    {
     "name": "stdout",
     "output_type": "stream",
     "text": [
      "[main e185db8] modify file_1.txt file by user-one\n",
      " 1 file changed, 1 insertion(+), 1 deletion(-)\n"
     ]
    }
   ],
   "source": [
    "!echo 'Hola mundo cruel!' > file_1.txt\n",
    "!git add file_1.txt\n",
    "!git commit -m 'modify file_1.txt file by user-one'"
   ]
  },
  {
   "cell_type": "code",
   "execution_count": null,
   "id": "2a8a126c-40dc-411f-b0c9-d65d9cce7995",
   "metadata": {},
   "outputs": [],
   "source": []
  },
  {
   "cell_type": "code",
   "execution_count": null,
   "id": "6ca9c2ec-00dc-4a88-9060-e22bb46cc1ef",
   "metadata": {},
   "outputs": [],
   "source": []
  },
  {
   "cell_type": "code",
   "execution_count": null,
   "id": "b94c6de6-18d5-4ca5-93c6-bfca5ff2d49d",
   "metadata": {},
   "outputs": [],
   "source": []
  },
  {
   "cell_type": "code",
   "execution_count": null,
   "id": "e2a88020-63cf-4665-82cc-916eb272e381",
   "metadata": {},
   "outputs": [],
   "source": []
  },
  {
   "cell_type": "code",
   "execution_count": null,
   "id": "b3061302-356c-4b99-b119-49d36b243b5f",
   "metadata": {},
   "outputs": [],
   "source": []
  },
  {
   "cell_type": "code",
   "execution_count": null,
   "id": "d30282c9-6071-4c71-a1d8-67edc6c86f79",
   "metadata": {},
   "outputs": [],
   "source": []
  },
  {
   "cell_type": "code",
   "execution_count": null,
   "id": "33fbc74a-0351-4ecc-95ee-0bdee71cf05a",
   "metadata": {},
   "outputs": [],
   "source": [
    "!git init"
   ]
  },
  {
   "cell_type": "markdown",
   "id": "b42074e8-d32e-4716-b4f0-8b9d949a5e79",
   "metadata": {},
   "source": [
    "Simulación del desarrollador 1\n",
    "--"
   ]
  },
  {
   "cell_type": "code",
   "execution_count": null,
   "id": "1e6573c8-9d5a-4eee-8f23-5aa66a3b7692",
   "metadata": {},
   "outputs": [],
   "source": [
    "!git clone https://github.com/jdvelasq/git-demo-remote-1"
   ]
  },
  {
   "cell_type": "code",
   "execution_count": null,
   "id": "f4dbfe64-83cf-4e51-bdca-e1619031bd45",
   "metadata": {},
   "outputs": [],
   "source": [
    "!mv git-demo-remote-1 user-1"
   ]
  },
  {
   "cell_type": "markdown",
   "id": "ca549f34-4f22-40dd-af96-b16cd2358b26",
   "metadata": {},
   "source": [
    "Simulación del desarrollador 2\n",
    "--"
   ]
  },
  {
   "cell_type": "code",
   "execution_count": null,
   "id": "a687c0a6-e40e-40cc-9414-c9e27c2e9613",
   "metadata": {},
   "outputs": [],
   "source": [
    "!git clone https://github.com/jdvelasq/git-demo-remote-1"
   ]
  },
  {
   "cell_type": "code",
   "execution_count": null,
   "id": "5cf1a18f-df68-4280-aee1-1b816ea8d135",
   "metadata": {},
   "outputs": [],
   "source": [
    "!mv git-demo-remote-1 user-2"
   ]
  },
  {
   "cell_type": "markdown",
   "id": "2a153cab-692b-49d3-bc71-3c2e3e2fcf23",
   "metadata": {},
   "source": [
    "Cambios locales del desarrollador 1\n",
    "--"
   ]
  },
  {
   "cell_type": "code",
   "execution_count": null,
   "id": "306c0af9-2c33-4480-b8f2-5a11d2299adb",
   "metadata": {},
   "outputs": [],
   "source": [
    "%cd user-1"
   ]
  },
  {
   "cell_type": "code",
   "execution_count": null,
   "id": "3496fc4d-1672-422b-8a7c-7fd08580315a",
   "metadata": {},
   "outputs": [],
   "source": [
    "!git config user.email \"user_one@example.com\"\n",
    "!git config user.name \"User One\""
   ]
  },
  {
   "cell_type": "code",
   "execution_count": null,
   "id": "965d739d-3b5e-43a8-94bf-4b7728dcb52c",
   "metadata": {},
   "outputs": [],
   "source": [
    "!git remote -v"
   ]
  },
  {
   "cell_type": "markdown",
   "id": "f40a4b41-3b00-419c-8ae2-057669250dac",
   "metadata": {},
   "source": [
    "Sincronización de cambios del desarrollador 1\n",
    "--"
   ]
  },
  {
   "cell_type": "code",
   "execution_count": null,
   "id": "fac41d7a-0106-41b2-9a6d-8ffe037ed2c9",
   "metadata": {},
   "outputs": [],
   "source": [
    "# en el terminal\n",
    "# !git push"
   ]
  },
  {
   "cell_type": "markdown",
   "id": "7047aff0-7435-457c-acd7-996303681de4",
   "metadata": {},
   "source": [
    "Cambios locales del desarrollador 2\n",
    "--"
   ]
  },
  {
   "cell_type": "code",
   "execution_count": null,
   "id": "dbb2869a-37b9-46e8-836d-8ade07b5fe5f",
   "metadata": {},
   "outputs": [],
   "source": [
    "%cd user-2"
   ]
  },
  {
   "cell_type": "code",
   "execution_count": null,
   "id": "064df246-6ae7-465e-aa22-d4731dea3759",
   "metadata": {},
   "outputs": [],
   "source": [
    "!git config user.email \"user_two@example.com\"\n",
    "!git config user.name \"User Two\""
   ]
  },
  {
   "cell_type": "code",
   "execution_count": null,
   "id": "214224fa-735d-4f70-b20b-9a85cbeb9b55",
   "metadata": {},
   "outputs": [],
   "source": [
    "!echo 'Hello World!!!!' > file_2.txt\n",
    "!git add file_2.txt\n",
    "!git commit -m 'modify file_2.txt file by user-2'"
   ]
  },
  {
   "cell_type": "code",
   "execution_count": null,
   "id": "64862033-69b7-414d-a1a0-6cb610effe42",
   "metadata": {},
   "outputs": [],
   "source": [
    "!git push origin"
   ]
  },
  {
   "cell_type": "markdown",
   "id": "7c820e9d-ada4-4714-88f9-8ab9cc95881b",
   "metadata": {},
   "source": [
    "Sincronización de cambios del desarrollador 2\n",
    "--"
   ]
  },
  {
   "cell_type": "code",
   "execution_count": null,
   "id": "1e85fcfa-8ab1-4d59-8122-aa00cd9a902c",
   "metadata": {},
   "outputs": [],
   "source": [
    "!git fetch origin"
   ]
  },
  {
   "cell_type": "code",
   "execution_count": null,
   "id": "1f4a415d-b0f3-4230-b8c3-f4bfe5e378eb",
   "metadata": {},
   "outputs": [],
   "source": []
  },
  {
   "cell_type": "code",
   "execution_count": null,
   "id": "f38d4978-c2c1-4d94-ba2d-ee5bd8096a55",
   "metadata": {},
   "outputs": [],
   "source": []
  },
  {
   "cell_type": "code",
   "execution_count": null,
   "id": "6735dfc8-12dc-4327-a974-a2928e253c6b",
   "metadata": {},
   "outputs": [],
   "source": [
    "%cd ../.."
   ]
  },
  {
   "cell_type": "code",
   "execution_count": null,
   "id": "812bcc81-af97-44e7-94d1-8bd87cf0581e",
   "metadata": {},
   "outputs": [],
   "source": [
    "!pwd"
   ]
  },
  {
   "cell_type": "code",
   "execution_count": null,
   "id": "95a7b422-b4a8-4042-89b8-bba2f095e7dc",
   "metadata": {},
   "outputs": [],
   "source": [
    "# --< Limpieza del área de trabajo >-------------------------------------------\n",
    "%cd ..\n",
    "!rm -rf git-demo"
   ]
  },
  {
   "cell_type": "code",
   "execution_count": null,
   "id": "f4bd9052-ab52-4f48-84dc-983d5591a2e3",
   "metadata": {},
   "outputs": [],
   "source": []
  }
 ],
 "metadata": {
  "kernelspec": {
   "display_name": "Python 3 (ipykernel)",
   "language": "python",
   "name": "python3"
  },
  "language_info": {
   "codemirror_mode": {
    "name": "ipython",
    "version": 3
   },
   "file_extension": ".py",
   "mimetype": "text/x-python",
   "name": "python",
   "nbconvert_exporter": "python",
   "pygments_lexer": "ipython3",
   "version": "3.8.10"
  }
 },
 "nbformat": 4,
 "nbformat_minor": 5
}
