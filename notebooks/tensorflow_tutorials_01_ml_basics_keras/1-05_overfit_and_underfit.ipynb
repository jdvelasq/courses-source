{
 "cells": [
  {
   "cell_type": "markdown",
   "id": "ab99d784-4c33-44e1-9ef4-215a344d8478",
   "metadata": {
    "tags": []
   },
   "source": [
    "Subajuste y sobreajuste --- 0:00 min\n",
    "===\n",
    "\n",
    "* Última modificación: Marzo 7, 2022 | YouTube"
   ]
  },
  {
   "cell_type": "markdown",
   "id": "68da8a24-0b7a-456d-9033-0fc31846802c",
   "metadata": {
    "tags": []
   },
   "source": [
    "Importación de librerías\n",
    "---"
   ]
  },
  {
   "cell_type": "code",
   "execution_count": 1,
   "id": "037033ad-e0e9-43a3-94fc-23b3fdcee95d",
   "metadata": {},
   "outputs": [],
   "source": [
    "import os\n",
    "\n",
    "os.environ[\"TF_CPP_MIN_LOG_LEVEL\"] = \"2\"\n",
    "\n",
    "import tensorflow as tf"
   ]
  },
  {
   "cell_type": "markdown",
   "id": "448722d1-7926-480e-a305-81593365554f",
   "metadata": {},
   "source": [
    "Dataset\n",
    "--"
   ]
  },
  {
   "cell_type": "code",
   "execution_count": 2,
   "id": "7e52c2b0-9659-40d5-a4c6-7ee3b0de3e9d",
   "metadata": {},
   "outputs": [],
   "source": [
    "#\n",
    "# Descarga el archivo en formato csv.gz (comprimido)\n",
    "#\n",
    "# El dataset original contiene 11.000.000 de ejemplos\n",
    "# y 28 variables independientes. La variable dependiente\n",
    "# es binaria.\n",
    "#\n",
    "# Para este ejemplo, y tal como se hace en el tutorial\n",
    "# original de TensorFlow se usaran 11.000 ejemplos. Ya\n",
    "# que el tiempo de descarga es largo debido al tamaño\n",
    "# del archivo original, se creo un archivo que contiene\n",
    "# unicamente los ejemplos usados en esta lección.\n",
    "#\n",
    "!wget -O /tmp/HIGGS-tiny.csv.gz https://raw.githubusercontent.com/jdvelasq/datalabs/master/datasets/HIGGS-tiny.csv.gz"
   ]
  },
  {
   "cell_type": "code",
   "execution_count": 4,
   "id": "448b3a85-3b6d-4987-b4e5-9fd00c27319a",
   "metadata": {},
   "outputs": [],
   "source": [
    "FEATURES = 28"
   ]
  },
  {
   "cell_type": "code",
   "execution_count": 6,
   "id": "2a7c1a73-8624-4ad4-943b-9f9bbefb9d80",
   "metadata": {},
   "outputs": [],
   "source": [
    "ds = tf.data.experimental.CsvDataset(\n",
    "    \"/tmp/HIGGS-tiny.csv.gz\",\n",
    "    [\n",
    "        float(),\n",
    "    ]\n",
    "    * (FEATURES + 1),\n",
    "    compression_type=\"GZIP\",\n",
    ")"
   ]
  },
  {
   "cell_type": "code",
   "execution_count": 7,
   "id": "5846d4ca-5eed-4a2c-b314-1d40f060b3c7",
   "metadata": {},
   "outputs": [],
   "source": [
    "def pack_row(*row):\n",
    "    label = row[0]\n",
    "    features = tf.stack(\n",
    "        row[1:],\n",
    "        1,\n",
    "    )\n",
    "    return features, label"
   ]
  },
  {
   "cell_type": "code",
   "execution_count": 8,
   "id": "dccfcd11-e239-4510-9114-4cf2305a6688",
   "metadata": {},
   "outputs": [],
   "source": [
    "packed_ds = ds.batch(10000).map(pack_row).unbatch()"
   ]
  },
  {
   "cell_type": "code",
   "execution_count": 10,
   "id": "28bc8fb4-4f6f-48f5-92b8-c7a82956dd74",
   "metadata": {},
   "outputs": [
    {
     "name": "stdout",
     "output_type": "stream",
     "text": [
      "tf.Tensor(\n",
      "[ 0.8692932  -0.6350818   0.22569026  0.32747006 -0.6899932   0.75420225\n",
      " -0.24857314 -1.0920639   0.          1.3749921  -0.6536742   0.9303491\n",
      "  1.1074361   1.1389043  -1.5781983  -1.0469854   0.          0.65792954\n",
      " -0.01045457 -0.04576717  3.1019614   1.35376     0.9795631   0.97807616\n",
      "  0.92000484  0.72165745  0.98875093  0.87667835], shape=(28,), dtype=float32)\n"
     ]
    },
    {
     "data": {
      "image/png": "[encoded data removed]",
      "text/plain": [
       "<Figure size 432x288 with 1 Axes>"
      ]
     },
     "metadata": {
      "needs_background": "light"
     },
     "output_type": "display_data"
    }
   ],
   "source": [
    "import matplotlib.pyplot as plt\n",
    "\n",
    "for features, label in packed_ds.batch(1000).take(1):\n",
    "    print(features[0])\n",
    "    plt.hist(\n",
    "        features.numpy().flatten(),\n",
    "        bins=101,\n",
    "    )"
   ]
  },
  {
   "cell_type": "code",
   "execution_count": 11,
   "id": "03ac4f64-392f-47b5-9eaf-d7c794ebcb63",
   "metadata": {},
   "outputs": [],
   "source": [
    "N_VALIDATION = int(1e3)\n",
    "N_TRAIN = int(1e4)\n",
    "BUFFER_SIZE = int(1e4)\n",
    "BATCH_SIZE = 500\n",
    "STEPS_PER_EPOCH = N_TRAIN // BATCH_SIZE"
   ]
  },
  {
   "cell_type": "code",
   "execution_count": 12,
   "id": "53d526e9-1445-4b67-977c-b99963be9b24",
   "metadata": {},
   "outputs": [],
   "source": [
    "validate_ds = packed_ds.take(N_VALIDATION).cache()\n",
    "train_ds = packed_ds.skip(N_VALIDATION).take(N_TRAIN).cache()"
   ]
  },
  {
   "cell_type": "code",
   "execution_count": 13,
   "id": "c5d4e5b3-2286-4bb3-a90f-741a10327359",
   "metadata": {},
   "outputs": [
    {
     "data": {
      "text/plain": [
       "<CacheDataset element_spec=(TensorSpec(shape=(28,), dtype=tf.float32, name=None), TensorSpec(shape=(), dtype=tf.float32, name=None))>"
      ]
     },
     "execution_count": 13,
     "metadata": {},
     "output_type": "execute_result"
    }
   ],
   "source": [
    "train_ds"
   ]
  },
  {
   "cell_type": "code",
   "execution_count": 14,
   "id": "07401ff5-a91c-4f9d-acbf-f5283fdb5f0e",
   "metadata": {},
   "outputs": [],
   "source": [
    "validate_ds = validate_ds.batch(BATCH_SIZE)\n",
    "train_ds = train_ds.shuffle(BUFFER_SIZE).repeat().batch(BATCH_SIZE)"
   ]
  },
  {
   "cell_type": "markdown",
   "id": "78ffe51b-d77e-41b9-9bbc-7ebc78229608",
   "metadata": {},
   "source": [
    "Demostración del sobreajuste\n",
    "--"
   ]
  },
  {
   "cell_type": "markdown",
   "id": "5e050f34-0e88-4357-a92d-1e2fef586eb4",
   "metadata": {},
   "source": [
    "**Entrenamiento**"
   ]
  },
  {
   "cell_type": "code",
   "execution_count": 17,
   "id": "0bedf1cc-9431-4106-a4cb-d61bc2f6c610",
   "metadata": {},
   "outputs": [],
   "source": [
    "lr_schedule = tf.keras.optimizers.schedules.InverseTimeDecay(\n",
    "    0.001,\n",
    "    decay_steps=STEPS_PER_EPOCH * 1000,\n",
    "    decay_rate=1,\n",
    "    staircase=False,\n",
    ")\n",
    "\n",
    "\n",
    "def get_optimizer():\n",
    "    return tf.keras.optimizers.Adam(lr_schedule)"
   ]
  },
  {
   "cell_type": "code",
   "execution_count": 18,
   "id": "950993cd-bdc5-4223-9ca4-8f606560a46a",
   "metadata": {},
   "outputs": [
    {
     "data": {
      "image/png": "[encoded data removed]",
      "text/plain": [
       "<Figure size 576x432 with 1 Axes>"
      ]
     },
     "metadata": {
      "needs_background": "light"
     },
     "output_type": "display_data"
    }
   ],
   "source": [
    "import numpy as np\n",
    "\n",
    "step = np.linspace(0, 100000)\n",
    "lr = lr_schedule(step)\n",
    "plt.figure(figsize=(8, 6))\n",
    "plt.plot(step / STEPS_PER_EPOCH, lr)\n",
    "plt.ylim([0, max(plt.ylim())])\n",
    "plt.xlabel(\"Epoch\")\n",
    "_ = plt.ylabel(\"Learning Rate\")"
   ]
  },
  {
   "cell_type": "code",
   "execution_count": 20,
   "id": "ab1c1ee9-d01e-44dc-83d3-bb790fe00bf4",
   "metadata": {},
   "outputs": [
    {
     "data": {
      "text/plain": [
       "PosixPath('/tmp/tmpobkdjnq7/tensorboard_logs')"
      ]
     },
     "execution_count": 20,
     "metadata": {},
     "output_type": "execute_result"
    }
   ],
   "source": [
    "import pathlib\n",
    "import shutil\n",
    "import tempfile\n",
    "\n",
    "logdir = pathlib.Path(tempfile.mkdtemp()) / \"tensorboard_logs\"\n",
    "shutil.rmtree(logdir, ignore_errors=True)\n",
    "logdir"
   ]
  },
  {
   "cell_type": "code",
   "execution_count": 37,
   "id": "83fb9764-9e0e-4c9e-9c72-ba290c8e66be",
   "metadata": {},
   "outputs": [],
   "source": [
    "import tensorflow_docs as tfdocs\n",
    "import tensorflow_docs.modeling\n",
    "\n",
    "\n",
    "def get_callbacks(name):\n",
    "    return [\n",
    "        tfdocs.modeling.EpochDots(),\n",
    "        tf.keras.callbacks.EarlyStopping(\n",
    "            monitor=\"val_binary_crossentropy\",\n",
    "            patience=200,\n",
    "        ),\n",
    "        tf.keras.callbacks.TensorBoard(logdir / name),\n",
    "    ]"
   ]
  },
  {
   "cell_type": "code",
   "execution_count": 38,
   "id": "cf769dc2-7e04-4c00-b737-445b521edc05",
   "metadata": {},
   "outputs": [],
   "source": [
    "def compile_and_fit(\n",
    "    model,\n",
    "    name,\n",
    "    optimizer=None,\n",
    "    max_epochs=10000,\n",
    "):\n",
    "\n",
    "    if optimizer is None:\n",
    "        optimizer = get_optimizer()\n",
    "\n",
    "    model.compile(\n",
    "        optimizer=optimizer,\n",
    "        loss=tf.keras.losses.BinaryCrossentropy(from_logits=True),\n",
    "        metrics=[\n",
    "            tf.keras.losses.BinaryCrossentropy(\n",
    "                from_logits=True, name=\"binary_crossentropy\"\n",
    "            ),\n",
    "            \"accuracy\",\n",
    "        ],\n",
    "    )\n",
    "\n",
    "    model.summary()\n",
    "\n",
    "    history = model.fit(\n",
    "        train_ds,\n",
    "        steps_per_epoch=STEPS_PER_EPOCH,\n",
    "        epochs=max_epochs,\n",
    "        validation_data=validate_ds,\n",
    "        callbacks=get_callbacks(name),\n",
    "        verbose=0,\n",
    "    )\n",
    "    return history"
   ]
  },
  {
   "cell_type": "markdown",
   "id": "c498f573-a623-41cd-b4d6-b8e663facbe4",
   "metadata": {},
   "source": [
    "**Modelo diminuto**"
   ]
  },
  {
   "cell_type": "code",
   "execution_count": 39,
   "id": "b12fe56f-056f-4524-b504-281dadd4d17e",
   "metadata": {},
   "outputs": [],
   "source": [
    "tiny_model = tf.keras.Sequential(\n",
    "    [\n",
    "        tf.keras.layers.Dense(\n",
    "            16,\n",
    "            activation=\"elu\",\n",
    "            input_shape=(FEATURES,),\n",
    "        ),\n",
    "        tf.keras.layers.Dense(1),\n",
    "    ]\n",
    ")"
   ]
  },
  {
   "cell_type": "code",
   "execution_count": 40,
   "id": "68c841ca-a844-427d-9c26-2a146bb5c21d",
   "metadata": {},
   "outputs": [],
   "source": [
    "size_histories = {}"
   ]
  },
  {
   "cell_type": "code",
   "execution_count": 41,
   "id": "3c234571-322f-4338-8e9d-a3be2d03be3c",
   "metadata": {},
   "outputs": [
    {
     "name": "stdout",
     "output_type": "stream",
     "text": [
      "Model: \"sequential_3\"\n",
      "_________________________________________________________________\n",
      " Layer (type)                Output Shape              Param #   \n",
      "=================================================================\n",
      " dense_7 (Dense)             (None, 16)                464       \n",
      "                                                                 \n",
      " dense_8 (Dense)             (None, 1)                 17        \n",
      "                                                                 \n",
      "=================================================================\n",
      "Total params: 481\n",
      "Trainable params: 481\n",
      "Non-trainable params: 0\n",
      "_________________________________________________________________\n",
      "\n",
      "Epoch: 0, accuracy:0.4919,  binary_crossentropy:0.7917,  loss:0.7917,  val_accuracy:0.4920,  val_binary_crossentropy:0.7699,  val_loss:0.7699,  \n",
      "....................................................................................................\n",
      "Epoch: 100, accuracy:0.5918,  binary_crossentropy:0.6294,  loss:0.6294,  val_accuracy:0.5720,  val_binary_crossentropy:0.6282,  val_loss:0.6282,  \n",
      "....................................................................................................\n",
      "Epoch: 200, accuracy:0.6072,  binary_crossentropy:0.6202,  loss:0.6202,  val_accuracy:0.5950,  val_binary_crossentropy:0.6218,  val_loss:0.6218,  \n",
      "....................................................................................................\n",
      "Epoch: 300, accuracy:0.6256,  binary_crossentropy:0.6134,  loss:0.6134,  val_accuracy:0.6140,  val_binary_crossentropy:0.6185,  val_loss:0.6185,  \n",
      "....................................................................................................\n",
      "Epoch: 400, accuracy:0.6324,  binary_crossentropy:0.6093,  loss:0.6093,  val_accuracy:0.6130,  val_binary_crossentropy:0.6173,  val_loss:0.6173,  \n",
      "....................................................................................................\n",
      "Epoch: 500, accuracy:0.6417,  binary_crossentropy:0.6042,  loss:0.6042,  val_accuracy:0.6310,  val_binary_crossentropy:0.6141,  val_loss:0.6141,  \n",
      "....................................................................................................\n",
      "Epoch: 600, accuracy:0.6523,  binary_crossentropy:0.5994,  loss:0.5994,  val_accuracy:0.6100,  val_binary_crossentropy:0.6128,  val_loss:0.6128,  \n",
      "....................................................................................................\n",
      "Epoch: 700, accuracy:0.6532,  binary_crossentropy:0.5956,  loss:0.5956,  val_accuracy:0.6200,  val_binary_crossentropy:0.6072,  val_loss:0.6072,  \n",
      "....................................................................................................\n",
      "Epoch: 800, accuracy:0.6596,  binary_crossentropy:0.5915,  loss:0.5915,  val_accuracy:0.6280,  val_binary_crossentropy:0.6005,  val_loss:0.6005,  \n",
      "....................................................................................................\n",
      "Epoch: 900, accuracy:0.6632,  binary_crossentropy:0.5875,  loss:0.5875,  val_accuracy:0.6710,  val_binary_crossentropy:0.5935,  val_loss:0.5935,  \n",
      "....................................................................................................\n",
      "Epoch: 1000, accuracy:0.6705,  binary_crossentropy:0.5846,  loss:0.5846,  val_accuracy:0.6710,  val_binary_crossentropy:0.5897,  val_loss:0.5897,  \n",
      "....................................................................................................\n",
      "Epoch: 1100, accuracy:0.6709,  binary_crossentropy:0.5828,  loss:0.5828,  val_accuracy:0.6580,  val_binary_crossentropy:0.5885,  val_loss:0.5885,  \n",
      "....................................................................................................\n",
      "Epoch: 1200, accuracy:0.6739,  binary_crossentropy:0.5807,  loss:0.5807,  val_accuracy:0.6720,  val_binary_crossentropy:0.5865,  val_loss:0.5865,  \n",
      "....................................................................................................\n",
      "Epoch: 1300, accuracy:0.6749,  binary_crossentropy:0.5796,  loss:0.5796,  val_accuracy:0.6690,  val_binary_crossentropy:0.5855,  val_loss:0.5855,  \n",
      "....................................................................................................\n",
      "Epoch: 1400, accuracy:0.6770,  binary_crossentropy:0.5782,  loss:0.5782,  val_accuracy:0.6610,  val_binary_crossentropy:0.5852,  val_loss:0.5852,  \n",
      "....................................................................................................\n",
      "Epoch: 1500, accuracy:0.6771,  binary_crossentropy:0.5775,  loss:0.5775,  val_accuracy:0.6730,  val_binary_crossentropy:0.5846,  val_loss:0.5846,  \n",
      "....................................................................................................\n",
      "Epoch: 1600, accuracy:0.6747,  binary_crossentropy:0.5762,  loss:0.5762,  val_accuracy:0.6620,  val_binary_crossentropy:0.5854,  val_loss:0.5854,  \n",
      "....................................................................................................\n",
      "Epoch: 1700, accuracy:0.6773,  binary_crossentropy:0.5751,  loss:0.5751,  val_accuracy:0.6720,  val_binary_crossentropy:0.5847,  val_loss:0.5847,  \n",
      "....................................................................................................\n",
      "Epoch: 1800, accuracy:0.6791,  binary_crossentropy:0.5744,  loss:0.5744,  val_accuracy:0.6740,  val_binary_crossentropy:0.5839,  val_loss:0.5839,  \n",
      "....................................................................................................\n",
      "Epoch: 1900, accuracy:0.6804,  binary_crossentropy:0.5739,  loss:0.5739,  val_accuracy:0.6750,  val_binary_crossentropy:0.5843,  val_loss:0.5843,  \n",
      "....................."
     ]
    }
   ],
   "source": [
    "size_histories[\"Tiny\"] = compile_and_fit(tiny_model, \"sizes/Tiny\")"
   ]
  },
  {
   "cell_type": "code",
   "execution_count": 45,
   "id": "2f6f28f7-c321-4c0e-9edd-4a6937f59de7",
   "metadata": {},
   "outputs": [
    {
     "data": {
      "text/plain": [
       "(0.5, 0.7)"
      ]
     },
     "execution_count": 45,
     "metadata": {},
     "output_type": "execute_result"
    },
    {
     "data": {
      "image/png": "[encoded data removed]",
      "text/plain": [
       "<Figure size 432x288 with 1 Axes>"
      ]
     },
     "metadata": {
      "needs_background": "light"
     },
     "output_type": "display_data"
    }
   ],
   "source": [
    "import tensorflow_docs.plots\n",
    "\n",
    "plotter = tfdocs.plots.HistoryPlotter(\n",
    "    metric=\"binary_crossentropy\",\n",
    "    smoothing_std=10,\n",
    ")\n",
    "plotter.plot(size_histories)\n",
    "plt.ylim([0.5, 0.7])"
   ]
  },
  {
   "cell_type": "markdown",
   "id": "e47dc34d-306a-460b-9b04-d034133a310d",
   "metadata": {},
   "source": [
    "**Modelo pequeño**"
   ]
  },
  {
   "cell_type": "code",
   "execution_count": 46,
   "id": "f8baebcb-fecc-4438-b2fa-14d1ae63c7b4",
   "metadata": {},
   "outputs": [],
   "source": [
    "small_model = tf.keras.Sequential(\n",
    "    [\n",
    "        tf.keras.layers.Dense(16, activation=\"elu\", input_shape=(FEATURES,)),\n",
    "        tf.keras.layers.Dense(16, activation=\"elu\"),\n",
    "        tf.keras.layers.Dense(1),\n",
    "    ]\n",
    ")"
   ]
  },
  {
   "cell_type": "code",
   "execution_count": 47,
   "id": "e78d639f-0fdc-4d2e-a24e-6cff8900671b",
   "metadata": {},
   "outputs": [
    {
     "name": "stdout",
     "output_type": "stream",
     "text": [
      "Model: \"sequential_4\"\n",
      "_________________________________________________________________\n",
      " Layer (type)                Output Shape              Param #   \n",
      "=================================================================\n",
      " dense_9 (Dense)             (None, 16)                464       \n",
      "                                                                 \n",
      " dense_10 (Dense)            (None, 16)                272       \n",
      "                                                                 \n",
      " dense_11 (Dense)            (None, 1)                 17        \n",
      "                                                                 \n",
      "=================================================================\n",
      "Total params: 753\n",
      "Trainable params: 753\n",
      "Non-trainable params: 0\n",
      "_________________________________________________________________\n",
      "\n",
      "Epoch: 0, accuracy:0.4834,  binary_crossentropy:0.7778,  loss:0.7778,  val_accuracy:0.4330,  val_binary_crossentropy:0.7669,  val_loss:0.7669,  \n",
      "....................................................................................................\n",
      "Epoch: 100, accuracy:0.6182,  binary_crossentropy:0.6155,  loss:0.6155,  val_accuracy:0.5910,  val_binary_crossentropy:0.6261,  val_loss:0.6261,  \n",
      "....................................................................................................\n",
      "Epoch: 200, accuracy:0.6650,  binary_crossentropy:0.5875,  loss:0.5875,  val_accuracy:0.6210,  val_binary_crossentropy:0.6025,  val_loss:0.6025,  \n",
      "............."
     ]
    },
    {
     "ename": "KeyboardInterrupt",
     "evalue": "",
     "output_type": "error",
     "traceback": [
      "\u001b[0;31m---------------------------------------------------------------------------\u001b[0m",
      "\u001b[0;31mKeyboardInterrupt\u001b[0m                         Traceback (most recent call last)",
      "Input \u001b[0;32mIn [47]\u001b[0m, in \u001b[0;36m<cell line: 1>\u001b[0;34m()\u001b[0m\n\u001b[0;32m----> 1\u001b[0m size_histories[\u001b[38;5;124m\"\u001b[39m\u001b[38;5;124mSmall\u001b[39m\u001b[38;5;124m\"\u001b[39m] \u001b[38;5;241m=\u001b[39m \u001b[43mcompile_and_fit\u001b[49m\u001b[43m(\u001b[49m\u001b[43msmall_model\u001b[49m\u001b[43m,\u001b[49m\u001b[43m \u001b[49m\u001b[38;5;124;43m\"\u001b[39;49m\u001b[38;5;124;43msizes/Small\u001b[39;49m\u001b[38;5;124;43m\"\u001b[39;49m\u001b[43m)\u001b[49m\n",
      "Input \u001b[0;32mIn [38]\u001b[0m, in \u001b[0;36mcompile_and_fit\u001b[0;34m(model, name, optimizer, max_epochs)\u001b[0m\n\u001b[1;32m     11\u001b[0m model\u001b[38;5;241m.\u001b[39mcompile(\n\u001b[1;32m     12\u001b[0m     optimizer\u001b[38;5;241m=\u001b[39moptimizer,\n\u001b[1;32m     13\u001b[0m     loss\u001b[38;5;241m=\u001b[39mtf\u001b[38;5;241m.\u001b[39mkeras\u001b[38;5;241m.\u001b[39mlosses\u001b[38;5;241m.\u001b[39mBinaryCrossentropy(from_logits\u001b[38;5;241m=\u001b[39m\u001b[38;5;28;01mTrue\u001b[39;00m),\n\u001b[0;32m   (...)\u001b[0m\n\u001b[1;32m     19\u001b[0m     ],\n\u001b[1;32m     20\u001b[0m )\n\u001b[1;32m     22\u001b[0m model\u001b[38;5;241m.\u001b[39msummary()\n\u001b[0;32m---> 24\u001b[0m history \u001b[38;5;241m=\u001b[39m \u001b[43mmodel\u001b[49m\u001b[38;5;241;43m.\u001b[39;49m\u001b[43mfit\u001b[49m\u001b[43m(\u001b[49m\n\u001b[1;32m     25\u001b[0m \u001b[43m    \u001b[49m\u001b[43mtrain_ds\u001b[49m\u001b[43m,\u001b[49m\n\u001b[1;32m     26\u001b[0m \u001b[43m    \u001b[49m\u001b[43msteps_per_epoch\u001b[49m\u001b[38;5;241;43m=\u001b[39;49m\u001b[43mSTEPS_PER_EPOCH\u001b[49m\u001b[43m,\u001b[49m\n\u001b[1;32m     27\u001b[0m \u001b[43m    \u001b[49m\u001b[43mepochs\u001b[49m\u001b[38;5;241;43m=\u001b[39;49m\u001b[43mmax_epochs\u001b[49m\u001b[43m,\u001b[49m\n\u001b[1;32m     28\u001b[0m \u001b[43m    \u001b[49m\u001b[43mvalidation_data\u001b[49m\u001b[38;5;241;43m=\u001b[39;49m\u001b[43mvalidate_ds\u001b[49m\u001b[43m,\u001b[49m\n\u001b[1;32m     29\u001b[0m \u001b[43m    \u001b[49m\u001b[43mcallbacks\u001b[49m\u001b[38;5;241;43m=\u001b[39;49m\u001b[43mget_callbacks\u001b[49m\u001b[43m(\u001b[49m\u001b[43mname\u001b[49m\u001b[43m)\u001b[49m\u001b[43m,\u001b[49m\n\u001b[1;32m     30\u001b[0m \u001b[43m    \u001b[49m\u001b[43mverbose\u001b[49m\u001b[38;5;241;43m=\u001b[39;49m\u001b[38;5;241;43m0\u001b[39;49m\u001b[43m,\u001b[49m\n\u001b[1;32m     31\u001b[0m \u001b[43m\u001b[49m\u001b[43m)\u001b[49m\n\u001b[1;32m     32\u001b[0m \u001b[38;5;28;01mreturn\u001b[39;00m history\n",
      "File \u001b[0;32m/usr/local/lib/python3.9/site-packages/keras/utils/traceback_utils.py:64\u001b[0m, in \u001b[0;36mfilter_traceback.<locals>.error_handler\u001b[0;34m(*args, **kwargs)\u001b[0m\n\u001b[1;32m     62\u001b[0m filtered_tb \u001b[38;5;241m=\u001b[39m \u001b[38;5;28;01mNone\u001b[39;00m\n\u001b[1;32m     63\u001b[0m \u001b[38;5;28;01mtry\u001b[39;00m:\n\u001b[0;32m---> 64\u001b[0m   \u001b[38;5;28;01mreturn\u001b[39;00m \u001b[43mfn\u001b[49m\u001b[43m(\u001b[49m\u001b[38;5;241;43m*\u001b[39;49m\u001b[43margs\u001b[49m\u001b[43m,\u001b[49m\u001b[43m \u001b[49m\u001b[38;5;241;43m*\u001b[39;49m\u001b[38;5;241;43m*\u001b[39;49m\u001b[43mkwargs\u001b[49m\u001b[43m)\u001b[49m\n\u001b[1;32m     65\u001b[0m \u001b[38;5;28;01mexcept\u001b[39;00m \u001b[38;5;167;01mException\u001b[39;00m \u001b[38;5;28;01mas\u001b[39;00m e:  \u001b[38;5;66;03m# pylint: disable=broad-except\u001b[39;00m\n\u001b[1;32m     66\u001b[0m   filtered_tb \u001b[38;5;241m=\u001b[39m _process_traceback_frames(e\u001b[38;5;241m.\u001b[39m__traceback__)\n",
      "File \u001b[0;32m/usr/local/lib/python3.9/site-packages/keras/engine/training.py:1384\u001b[0m, in \u001b[0;36mModel.fit\u001b[0;34m(self, x, y, batch_size, epochs, verbose, callbacks, validation_split, validation_data, shuffle, class_weight, sample_weight, initial_epoch, steps_per_epoch, validation_steps, validation_batch_size, validation_freq, max_queue_size, workers, use_multiprocessing)\u001b[0m\n\u001b[1;32m   1377\u001b[0m \u001b[38;5;28;01mwith\u001b[39;00m tf\u001b[38;5;241m.\u001b[39mprofiler\u001b[38;5;241m.\u001b[39mexperimental\u001b[38;5;241m.\u001b[39mTrace(\n\u001b[1;32m   1378\u001b[0m     \u001b[38;5;124m'\u001b[39m\u001b[38;5;124mtrain\u001b[39m\u001b[38;5;124m'\u001b[39m,\n\u001b[1;32m   1379\u001b[0m     epoch_num\u001b[38;5;241m=\u001b[39mepoch,\n\u001b[1;32m   1380\u001b[0m     step_num\u001b[38;5;241m=\u001b[39mstep,\n\u001b[1;32m   1381\u001b[0m     batch_size\u001b[38;5;241m=\u001b[39mbatch_size,\n\u001b[1;32m   1382\u001b[0m     _r\u001b[38;5;241m=\u001b[39m\u001b[38;5;241m1\u001b[39m):\n\u001b[1;32m   1383\u001b[0m   callbacks\u001b[38;5;241m.\u001b[39mon_train_batch_begin(step)\n\u001b[0;32m-> 1384\u001b[0m   tmp_logs \u001b[38;5;241m=\u001b[39m \u001b[38;5;28;43mself\u001b[39;49m\u001b[38;5;241;43m.\u001b[39;49m\u001b[43mtrain_function\u001b[49m\u001b[43m(\u001b[49m\u001b[43miterator\u001b[49m\u001b[43m)\u001b[49m\n\u001b[1;32m   1385\u001b[0m   \u001b[38;5;28;01mif\u001b[39;00m data_handler\u001b[38;5;241m.\u001b[39mshould_sync:\n\u001b[1;32m   1386\u001b[0m     context\u001b[38;5;241m.\u001b[39masync_wait()\n",
      "File \u001b[0;32m/usr/local/lib/python3.9/site-packages/tensorflow/python/util/traceback_utils.py:150\u001b[0m, in \u001b[0;36mfilter_traceback.<locals>.error_handler\u001b[0;34m(*args, **kwargs)\u001b[0m\n\u001b[1;32m    148\u001b[0m filtered_tb \u001b[38;5;241m=\u001b[39m \u001b[38;5;28;01mNone\u001b[39;00m\n\u001b[1;32m    149\u001b[0m \u001b[38;5;28;01mtry\u001b[39;00m:\n\u001b[0;32m--> 150\u001b[0m   \u001b[38;5;28;01mreturn\u001b[39;00m \u001b[43mfn\u001b[49m\u001b[43m(\u001b[49m\u001b[38;5;241;43m*\u001b[39;49m\u001b[43margs\u001b[49m\u001b[43m,\u001b[49m\u001b[43m \u001b[49m\u001b[38;5;241;43m*\u001b[39;49m\u001b[38;5;241;43m*\u001b[39;49m\u001b[43mkwargs\u001b[49m\u001b[43m)\u001b[49m\n\u001b[1;32m    151\u001b[0m \u001b[38;5;28;01mexcept\u001b[39;00m \u001b[38;5;167;01mException\u001b[39;00m \u001b[38;5;28;01mas\u001b[39;00m e:\n\u001b[1;32m    152\u001b[0m   filtered_tb \u001b[38;5;241m=\u001b[39m _process_traceback_frames(e\u001b[38;5;241m.\u001b[39m__traceback__)\n",
      "File \u001b[0;32m/usr/local/lib/python3.9/site-packages/tensorflow/python/eager/def_function.py:915\u001b[0m, in \u001b[0;36mFunction.__call__\u001b[0;34m(self, *args, **kwds)\u001b[0m\n\u001b[1;32m    912\u001b[0m compiler \u001b[38;5;241m=\u001b[39m \u001b[38;5;124m\"\u001b[39m\u001b[38;5;124mxla\u001b[39m\u001b[38;5;124m\"\u001b[39m \u001b[38;5;28;01mif\u001b[39;00m \u001b[38;5;28mself\u001b[39m\u001b[38;5;241m.\u001b[39m_jit_compile \u001b[38;5;28;01melse\u001b[39;00m \u001b[38;5;124m\"\u001b[39m\u001b[38;5;124mnonXla\u001b[39m\u001b[38;5;124m\"\u001b[39m\n\u001b[1;32m    914\u001b[0m \u001b[38;5;28;01mwith\u001b[39;00m OptionalXlaContext(\u001b[38;5;28mself\u001b[39m\u001b[38;5;241m.\u001b[39m_jit_compile):\n\u001b[0;32m--> 915\u001b[0m   result \u001b[38;5;241m=\u001b[39m \u001b[38;5;28;43mself\u001b[39;49m\u001b[38;5;241;43m.\u001b[39;49m\u001b[43m_call\u001b[49m\u001b[43m(\u001b[49m\u001b[38;5;241;43m*\u001b[39;49m\u001b[43margs\u001b[49m\u001b[43m,\u001b[49m\u001b[43m \u001b[49m\u001b[38;5;241;43m*\u001b[39;49m\u001b[38;5;241;43m*\u001b[39;49m\u001b[43mkwds\u001b[49m\u001b[43m)\u001b[49m\n\u001b[1;32m    917\u001b[0m new_tracing_count \u001b[38;5;241m=\u001b[39m \u001b[38;5;28mself\u001b[39m\u001b[38;5;241m.\u001b[39mexperimental_get_tracing_count()\n\u001b[1;32m    918\u001b[0m without_tracing \u001b[38;5;241m=\u001b[39m (tracing_count \u001b[38;5;241m==\u001b[39m new_tracing_count)\n",
      "File \u001b[0;32m/usr/local/lib/python3.9/site-packages/tensorflow/python/eager/def_function.py:947\u001b[0m, in \u001b[0;36mFunction._call\u001b[0;34m(self, *args, **kwds)\u001b[0m\n\u001b[1;32m    944\u001b[0m   \u001b[38;5;28mself\u001b[39m\u001b[38;5;241m.\u001b[39m_lock\u001b[38;5;241m.\u001b[39mrelease()\n\u001b[1;32m    945\u001b[0m   \u001b[38;5;66;03m# In this case we have created variables on the first call, so we run the\u001b[39;00m\n\u001b[1;32m    946\u001b[0m   \u001b[38;5;66;03m# defunned version which is guaranteed to never create variables.\u001b[39;00m\n\u001b[0;32m--> 947\u001b[0m   \u001b[38;5;28;01mreturn\u001b[39;00m \u001b[38;5;28;43mself\u001b[39;49m\u001b[38;5;241;43m.\u001b[39;49m\u001b[43m_stateless_fn\u001b[49m\u001b[43m(\u001b[49m\u001b[38;5;241;43m*\u001b[39;49m\u001b[43margs\u001b[49m\u001b[43m,\u001b[49m\u001b[43m \u001b[49m\u001b[38;5;241;43m*\u001b[39;49m\u001b[38;5;241;43m*\u001b[39;49m\u001b[43mkwds\u001b[49m\u001b[43m)\u001b[49m  \u001b[38;5;66;03m# pylint: disable=not-callable\u001b[39;00m\n\u001b[1;32m    948\u001b[0m \u001b[38;5;28;01melif\u001b[39;00m \u001b[38;5;28mself\u001b[39m\u001b[38;5;241m.\u001b[39m_stateful_fn \u001b[38;5;129;01mis\u001b[39;00m \u001b[38;5;129;01mnot\u001b[39;00m \u001b[38;5;28;01mNone\u001b[39;00m:\n\u001b[1;32m    949\u001b[0m   \u001b[38;5;66;03m# Release the lock early so that multiple threads can perform the call\u001b[39;00m\n\u001b[1;32m    950\u001b[0m   \u001b[38;5;66;03m# in parallel.\u001b[39;00m\n\u001b[1;32m    951\u001b[0m   \u001b[38;5;28mself\u001b[39m\u001b[38;5;241m.\u001b[39m_lock\u001b[38;5;241m.\u001b[39mrelease()\n",
      "File \u001b[0;32m/usr/local/lib/python3.9/site-packages/tensorflow/python/eager/function.py:2956\u001b[0m, in \u001b[0;36mFunction.__call__\u001b[0;34m(self, *args, **kwargs)\u001b[0m\n\u001b[1;32m   2953\u001b[0m \u001b[38;5;28;01mwith\u001b[39;00m \u001b[38;5;28mself\u001b[39m\u001b[38;5;241m.\u001b[39m_lock:\n\u001b[1;32m   2954\u001b[0m   (graph_function,\n\u001b[1;32m   2955\u001b[0m    filtered_flat_args) \u001b[38;5;241m=\u001b[39m \u001b[38;5;28mself\u001b[39m\u001b[38;5;241m.\u001b[39m_maybe_define_function(args, kwargs)\n\u001b[0;32m-> 2956\u001b[0m \u001b[38;5;28;01mreturn\u001b[39;00m \u001b[43mgraph_function\u001b[49m\u001b[38;5;241;43m.\u001b[39;49m\u001b[43m_call_flat\u001b[49m\u001b[43m(\u001b[49m\n\u001b[1;32m   2957\u001b[0m \u001b[43m    \u001b[49m\u001b[43mfiltered_flat_args\u001b[49m\u001b[43m,\u001b[49m\u001b[43m \u001b[49m\u001b[43mcaptured_inputs\u001b[49m\u001b[38;5;241;43m=\u001b[39;49m\u001b[43mgraph_function\u001b[49m\u001b[38;5;241;43m.\u001b[39;49m\u001b[43mcaptured_inputs\u001b[49m\u001b[43m)\u001b[49m\n",
      "File \u001b[0;32m/usr/local/lib/python3.9/site-packages/tensorflow/python/eager/function.py:1853\u001b[0m, in \u001b[0;36mConcreteFunction._call_flat\u001b[0;34m(self, args, captured_inputs, cancellation_manager)\u001b[0m\n\u001b[1;32m   1849\u001b[0m possible_gradient_type \u001b[38;5;241m=\u001b[39m gradients_util\u001b[38;5;241m.\u001b[39mPossibleTapeGradientTypes(args)\n\u001b[1;32m   1850\u001b[0m \u001b[38;5;28;01mif\u001b[39;00m (possible_gradient_type \u001b[38;5;241m==\u001b[39m gradients_util\u001b[38;5;241m.\u001b[39mPOSSIBLE_GRADIENT_TYPES_NONE\n\u001b[1;32m   1851\u001b[0m     \u001b[38;5;129;01mand\u001b[39;00m executing_eagerly):\n\u001b[1;32m   1852\u001b[0m   \u001b[38;5;66;03m# No tape is watching; skip to running the function.\u001b[39;00m\n\u001b[0;32m-> 1853\u001b[0m   \u001b[38;5;28;01mreturn\u001b[39;00m \u001b[38;5;28mself\u001b[39m\u001b[38;5;241m.\u001b[39m_build_call_outputs(\u001b[38;5;28;43mself\u001b[39;49m\u001b[38;5;241;43m.\u001b[39;49m\u001b[43m_inference_function\u001b[49m\u001b[38;5;241;43m.\u001b[39;49m\u001b[43mcall\u001b[49m\u001b[43m(\u001b[49m\n\u001b[1;32m   1854\u001b[0m \u001b[43m      \u001b[49m\u001b[43mctx\u001b[49m\u001b[43m,\u001b[49m\u001b[43m \u001b[49m\u001b[43margs\u001b[49m\u001b[43m,\u001b[49m\u001b[43m \u001b[49m\u001b[43mcancellation_manager\u001b[49m\u001b[38;5;241;43m=\u001b[39;49m\u001b[43mcancellation_manager\u001b[49m\u001b[43m)\u001b[49m)\n\u001b[1;32m   1855\u001b[0m forward_backward \u001b[38;5;241m=\u001b[39m \u001b[38;5;28mself\u001b[39m\u001b[38;5;241m.\u001b[39m_select_forward_and_backward_functions(\n\u001b[1;32m   1856\u001b[0m     args,\n\u001b[1;32m   1857\u001b[0m     possible_gradient_type,\n\u001b[1;32m   1858\u001b[0m     executing_eagerly)\n\u001b[1;32m   1859\u001b[0m forward_function, args_with_tangents \u001b[38;5;241m=\u001b[39m forward_backward\u001b[38;5;241m.\u001b[39mforward()\n",
      "File \u001b[0;32m/usr/local/lib/python3.9/site-packages/tensorflow/python/eager/function.py:499\u001b[0m, in \u001b[0;36m_EagerDefinedFunction.call\u001b[0;34m(self, ctx, args, cancellation_manager)\u001b[0m\n\u001b[1;32m    497\u001b[0m \u001b[38;5;28;01mwith\u001b[39;00m _InterpolateFunctionError(\u001b[38;5;28mself\u001b[39m):\n\u001b[1;32m    498\u001b[0m   \u001b[38;5;28;01mif\u001b[39;00m cancellation_manager \u001b[38;5;129;01mis\u001b[39;00m \u001b[38;5;28;01mNone\u001b[39;00m:\n\u001b[0;32m--> 499\u001b[0m     outputs \u001b[38;5;241m=\u001b[39m \u001b[43mexecute\u001b[49m\u001b[38;5;241;43m.\u001b[39;49m\u001b[43mexecute\u001b[49m\u001b[43m(\u001b[49m\n\u001b[1;32m    500\u001b[0m \u001b[43m        \u001b[49m\u001b[38;5;28;43mstr\u001b[39;49m\u001b[43m(\u001b[49m\u001b[38;5;28;43mself\u001b[39;49m\u001b[38;5;241;43m.\u001b[39;49m\u001b[43msignature\u001b[49m\u001b[38;5;241;43m.\u001b[39;49m\u001b[43mname\u001b[49m\u001b[43m)\u001b[49m\u001b[43m,\u001b[49m\n\u001b[1;32m    501\u001b[0m \u001b[43m        \u001b[49m\u001b[43mnum_outputs\u001b[49m\u001b[38;5;241;43m=\u001b[39;49m\u001b[38;5;28;43mself\u001b[39;49m\u001b[38;5;241;43m.\u001b[39;49m\u001b[43m_num_outputs\u001b[49m\u001b[43m,\u001b[49m\n\u001b[1;32m    502\u001b[0m \u001b[43m        \u001b[49m\u001b[43minputs\u001b[49m\u001b[38;5;241;43m=\u001b[39;49m\u001b[43margs\u001b[49m\u001b[43m,\u001b[49m\n\u001b[1;32m    503\u001b[0m \u001b[43m        \u001b[49m\u001b[43mattrs\u001b[49m\u001b[38;5;241;43m=\u001b[39;49m\u001b[43mattrs\u001b[49m\u001b[43m,\u001b[49m\n\u001b[1;32m    504\u001b[0m \u001b[43m        \u001b[49m\u001b[43mctx\u001b[49m\u001b[38;5;241;43m=\u001b[39;49m\u001b[43mctx\u001b[49m\u001b[43m)\u001b[49m\n\u001b[1;32m    505\u001b[0m   \u001b[38;5;28;01melse\u001b[39;00m:\n\u001b[1;32m    506\u001b[0m     outputs \u001b[38;5;241m=\u001b[39m execute\u001b[38;5;241m.\u001b[39mexecute_with_cancellation(\n\u001b[1;32m    507\u001b[0m         \u001b[38;5;28mstr\u001b[39m(\u001b[38;5;28mself\u001b[39m\u001b[38;5;241m.\u001b[39msignature\u001b[38;5;241m.\u001b[39mname),\n\u001b[1;32m    508\u001b[0m         num_outputs\u001b[38;5;241m=\u001b[39m\u001b[38;5;28mself\u001b[39m\u001b[38;5;241m.\u001b[39m_num_outputs,\n\u001b[0;32m   (...)\u001b[0m\n\u001b[1;32m    511\u001b[0m         ctx\u001b[38;5;241m=\u001b[39mctx,\n\u001b[1;32m    512\u001b[0m         cancellation_manager\u001b[38;5;241m=\u001b[39mcancellation_manager)\n",
      "File \u001b[0;32m/usr/local/lib/python3.9/site-packages/tensorflow/python/eager/execute.py:54\u001b[0m, in \u001b[0;36mquick_execute\u001b[0;34m(op_name, num_outputs, inputs, attrs, ctx, name)\u001b[0m\n\u001b[1;32m     52\u001b[0m \u001b[38;5;28;01mtry\u001b[39;00m:\n\u001b[1;32m     53\u001b[0m   ctx\u001b[38;5;241m.\u001b[39mensure_initialized()\n\u001b[0;32m---> 54\u001b[0m   tensors \u001b[38;5;241m=\u001b[39m \u001b[43mpywrap_tfe\u001b[49m\u001b[38;5;241;43m.\u001b[39;49m\u001b[43mTFE_Py_Execute\u001b[49m\u001b[43m(\u001b[49m\u001b[43mctx\u001b[49m\u001b[38;5;241;43m.\u001b[39;49m\u001b[43m_handle\u001b[49m\u001b[43m,\u001b[49m\u001b[43m \u001b[49m\u001b[43mdevice_name\u001b[49m\u001b[43m,\u001b[49m\u001b[43m \u001b[49m\u001b[43mop_name\u001b[49m\u001b[43m,\u001b[49m\n\u001b[1;32m     55\u001b[0m \u001b[43m                                      \u001b[49m\u001b[43minputs\u001b[49m\u001b[43m,\u001b[49m\u001b[43m \u001b[49m\u001b[43mattrs\u001b[49m\u001b[43m,\u001b[49m\u001b[43m \u001b[49m\u001b[43mnum_outputs\u001b[49m\u001b[43m)\u001b[49m\n\u001b[1;32m     56\u001b[0m \u001b[38;5;28;01mexcept\u001b[39;00m core\u001b[38;5;241m.\u001b[39m_NotOkStatusException \u001b[38;5;28;01mas\u001b[39;00m e:\n\u001b[1;32m     57\u001b[0m   \u001b[38;5;28;01mif\u001b[39;00m name \u001b[38;5;129;01mis\u001b[39;00m \u001b[38;5;129;01mnot\u001b[39;00m \u001b[38;5;28;01mNone\u001b[39;00m:\n",
      "\u001b[0;31mKeyboardInterrupt\u001b[0m: "
     ]
    }
   ],
   "source": [
    "size_histories[\"Small\"] = compile_and_fit(small_model, \"sizes/Small\")"
   ]
  },
  {
   "cell_type": "markdown",
   "id": "e757af0f-1121-45e2-85ba-0d7321017d51",
   "metadata": {},
   "source": [
    "**Modelo medio**"
   ]
  },
  {
   "cell_type": "code",
   "execution_count": null,
   "id": "8f368a95-05b5-45df-9429-00e3aa5c09ab",
   "metadata": {},
   "outputs": [],
   "source": [
    "medium_model = tf.keras.Sequential(\n",
    "    [\n",
    "        tf.keras.layers.Dense(64, activation=\"elu\", input_shape=(FEATURES,)),\n",
    "        tf.keras.layers.Dense(64, activation=\"elu\"),\n",
    "        tf.keras.layers.Dense(64, activation=\"elu\"),\n",
    "        tf.keras.layers.Dense(1),\n",
    "    ]\n",
    ")"
   ]
  },
  {
   "cell_type": "code",
   "execution_count": null,
   "id": "32908ef4-ab2d-4f4e-a50a-bdbfe39ecacc",
   "metadata": {},
   "outputs": [],
   "source": [
    "size_histories[\"Medium\"] = compile_and_fit(medium_model, \"sizes/Medium\")"
   ]
  },
  {
   "cell_type": "markdown",
   "id": "3ba96d2d-89fd-43a7-99b1-a7b050e7d95c",
   "metadata": {},
   "source": [
    "**Modelo grande**"
   ]
  },
  {
   "cell_type": "code",
   "execution_count": null,
   "id": "27f39ae9-2d0a-40b9-a737-fae7aa6f2187",
   "metadata": {},
   "outputs": [],
   "source": [
    "large_model = tf.keras.Sequential(\n",
    "    [\n",
    "        tf.keras.layers.Dense(512, activation=\"elu\", input_shape=(FEATURES,)),\n",
    "        tf.keras.layers.Dense(512, activation=\"elu\"),\n",
    "        tf.keras.layers.Dense(512, activation=\"elu\"),\n",
    "        tf.keras.layers.Dense(512, activation=\"elu\"),\n",
    "        tf.keras.layers.Dense(1),\n",
    "    ]\n",
    ")"
   ]
  },
  {
   "cell_type": "code",
   "execution_count": null,
   "id": "86be385b-bf19-4715-a031-b95afad9ef51",
   "metadata": {},
   "outputs": [],
   "source": [
    "size_histories['large'] = compile_and_fit(large_model, \"sizes/large\")"
   ]
  },
  {
   "cell_type": "markdown",
   "id": "6bb45e44-009f-4af8-8974-632a1ba833d5",
   "metadata": {},
   "source": [
    "**Graficación de las pérdidas para los datasets de entrenamiento y validación**"
   ]
  },
  {
   "cell_type": "code",
   "execution_count": null,
   "id": "7735887c-f0d4-450e-9825-6602473da58b",
   "metadata": {},
   "outputs": [],
   "source": [
    "plotter.plot(size_histories)\n",
    "a = plt.xscale(\"log\")\n",
    "plt.xlim([5, max(plt.xlim())])\n",
    "plt.ylim([0.5, 0.7])\n",
    "plt.xlabel(\"Epochs [Log Scale]\")"
   ]
  },
  {
   "cell_type": "markdown",
   "id": "94492371-506d-452f-802a-ef56e49f8713",
   "metadata": {},
   "source": [
    "**Visualización en TensorBoard**"
   ]
  },
  {
   "cell_type": "markdown",
   "id": "0e482ace-b305-4597-a51c-e650b7f00818",
   "metadata": {},
   "source": [
    "```python\n",
    "#\n",
    "# Carga la extensión de TensorBoard\n",
    "#\n",
    "%load_ext tensorboard\n",
    "```"
   ]
  },
  {
   "cell_type": "markdown",
   "id": "1159a7f9-680c-4e5a-8d6c-abfdeeabc5d9",
   "metadata": {},
   "source": [
    "```python\n",
    "#\n",
    "# Carga TensorBoard al notebook\n",
    "#\n",
    "%tensorboard --host=0.0.0.0 --logdir {LOGDIR}\n",
    "```"
   ]
  },
  {
   "cell_type": "markdown",
   "id": "3412d33b-a11d-4536-ac0a-220d6bed90cb",
   "metadata": {},
   "source": [
    "![assets/tensorboard-gui.png](assets/tensorboard-gui.png)"
   ]
  },
  {
   "cell_type": "markdown",
   "id": "13f16e2c-040e-4ccd-957b-9aa867409845",
   "metadata": {},
   "source": [
    "```shell\n",
    "$ tensorboard dev upload --logdir  {logdir}/sizes\n",
    "````\n"
   ]
  },
  {
   "cell_type": "markdown",
   "id": "cca232ca-faba-4b11-8f36-5a1834438919",
   "metadata": {},
   "source": [
    "Estrategias para prevenir sobreajuste\n",
    "--"
   ]
  },
  {
   "cell_type": "code",
   "execution_count": null,
   "id": "acc5bfe1-0a60-41cb-a9b2-9c552898c260",
   "metadata": {},
   "outputs": [],
   "source": [
    "shutil.rmtree(logdir / \"regularizers/Tiny\", ignore_errors=True)\n",
    "shutil.copytree(logdir / \"sizes/Tiny\", logdir / \"regularizers/Tiny\")"
   ]
  },
  {
   "cell_type": "code",
   "execution_count": null,
   "id": "9bf2764b-b8c6-493c-af05-cd74a778fe76",
   "metadata": {},
   "outputs": [],
   "source": [
    "regularizer_histories = {}\n",
    "regularizer_histories[\"Tiny\"] = size_histories[\"Tiny\"]"
   ]
  },
  {
   "cell_type": "markdown",
   "id": "34056fef-f382-4214-8f5c-33e0fea4189d",
   "metadata": {},
   "source": [
    "**Adición de un término de regularización**"
   ]
  },
  {
   "cell_type": "code",
   "execution_count": null,
   "id": "172c6c2f-f905-459d-aaae-c05336e2ae2b",
   "metadata": {},
   "outputs": [],
   "source": [
    "l2_model = tf.keras.Sequential(\n",
    "    [\n",
    "        layers.Dense(\n",
    "            512,\n",
    "            activation=\"elu\",\n",
    "            kernel_regularizer=regularizers.l2(0.001),\n",
    "            input_shape=(FEATURES,),\n",
    "        ),\n",
    "        layers.Dense(\n",
    "            512,\n",
    "            activation=\"elu\",\n",
    "            kernel_regularizer=regularizers.l2(0.001),\n",
    "        ),\n",
    "        layers.Dense(\n",
    "            512,\n",
    "            activation=\"elu\",\n",
    "            kernel_regularizer=regularizers.l2(0.001),\n",
    "        ),\n",
    "        layers.Dense(\n",
    "            512,\n",
    "            activation=\"elu\",\n",
    "            kernel_regularizer=regularizers.l2(0.001),\n",
    "        ),\n",
    "        layers.Dense(1),\n",
    "    ]\n",
    ")\n",
    "\n",
    "regularizer_histories[\"l2\"] = compile_and_fit(\n",
    "    l2_model,\n",
    "    \"regularizers/l2\",\n",
    ")"
   ]
  },
  {
   "cell_type": "code",
   "execution_count": null,
   "id": "612bbb23-0ab9-4cd3-aa0f-4787200dd7ff",
   "metadata": {},
   "outputs": [],
   "source": [
    "plotter.plot(regularizer_histories)\n",
    "plt.ylim([0.5, 0.7])"
   ]
  },
  {
   "cell_type": "markdown",
   "id": "24222051-7aa3-4d12-8717-b4e778a8a248",
   "metadata": {},
   "source": [
    "**Dropout**"
   ]
  },
  {
   "cell_type": "code",
   "execution_count": null,
   "id": "2be0d11f-9b2e-40d0-9e85-5dbc9d58b51c",
   "metadata": {},
   "outputs": [],
   "source": [
    "dropout_model = tf.keras.Sequential(\n",
    "    [\n",
    "        layers.Dense(512, activation=\"elu\", input_shape=(FEATURES,)),\n",
    "        layers.Dropout(0.5),\n",
    "        layers.Dense(512, activation=\"elu\"),\n",
    "        layers.Dropout(0.5),\n",
    "        layers.Dense(512, activation=\"elu\"),\n",
    "        layers.Dropout(0.5),\n",
    "        layers.Dense(512, activation=\"elu\"),\n",
    "        layers.Dropout(0.5),\n",
    "        layers.Dense(1),\n",
    "    ]\n",
    ")\n",
    "\n",
    "regularizer_histories[\"dropout\"] = compile_and_fit(\n",
    "    dropout_model, \"regularizers/dropout\"\n",
    ")"
   ]
  },
  {
   "cell_type": "code",
   "execution_count": null,
   "id": "ab2b0dc6-380e-4a7e-bb95-6c213e304a26",
   "metadata": {},
   "outputs": [],
   "source": [
    "plotter.plot(regularizer_histories)\n",
    "plt.ylim([0.5, 0.7])"
   ]
  },
  {
   "cell_type": "markdown",
   "id": "70ede830-c1f5-4188-abce-ea74d11288e7",
   "metadata": {},
   "source": [
    "**Combinación de regularización + Dropout**"
   ]
  },
  {
   "cell_type": "code",
   "execution_count": null,
   "id": "8a1f1d7e-45ea-42b6-80e0-ab3241d4e3bd",
   "metadata": {},
   "outputs": [],
   "source": [
    "combined_model = tf.keras.Sequential(\n",
    "    [\n",
    "        layers.Dense(\n",
    "            512,\n",
    "            kernel_regularizer=regularizers.l2(0.0001),\n",
    "            activation=\"elu\",\n",
    "            input_shape=(FEATURES,),\n",
    "        ),\n",
    "        layers.Dropout(0.5),\n",
    "        layers.Dense(\n",
    "            512,\n",
    "            kernel_regularizer=regularizers.l2(0.0001),\n",
    "            activation=\"elu\",\n",
    "        ),\n",
    "        layers.Dropout(0.5),\n",
    "        layers.Dense(\n",
    "            512,\n",
    "            kernel_regularizer=regularizers.l2(0.0001),\n",
    "            activation=\"elu\",\n",
    "        ),\n",
    "        layers.Dropout(0.5),\n",
    "        layers.Dense(\n",
    "            512,\n",
    "            kernel_regularizer=regularizers.l2(0.0001),\n",
    "            activation=\"elu\",\n",
    "        ),\n",
    "        layers.Dropout(0.5),\n",
    "        layers.Dense(1),\n",
    "    ]\n",
    ")\n",
    "\n",
    "regularizer_histories[\"combined\"] = compile_and_fit(\n",
    "    combined_model, \"regularizers/combined\"\n",
    ")"
   ]
  },
  {
   "cell_type": "code",
   "execution_count": null,
   "id": "d89ceecc-8d79-4c6b-a3a4-6b5027d7365c",
   "metadata": {},
   "outputs": [],
   "source": [
    "plotter.plot(regularizer_histories)\n",
    "plt.ylim([0.5, 0.7])"
   ]
  },
  {
   "cell_type": "markdown",
   "id": "eeb61430-1729-4c12-a653-90b743199921",
   "metadata": {},
   "source": [
    "**Visualización en TensorBoard**"
   ]
  },
  {
   "cell_type": "markdown",
   "id": "ed9e1614-f270-44d8-adbc-27987ce98f6b",
   "metadata": {},
   "source": [
    "```python\n",
    "%tensorboard --logdir {logdir}/regularizers\n",
    "````\n"
   ]
  },
  {
   "cell_type": "markdown",
   "id": "91447033-d0f3-4709-bfce-e033530c05b5",
   "metadata": {},
   "source": [
    "```shell\n",
    "$ tensorboard dev upload --logdir  {logdir}/regularizers\n",
    "```"
   ]
  },
  {
   "cell_type": "code",
   "execution_count": null,
   "id": "c24c7fb2-114f-432d-a03b-a5dd0a0a6c4e",
   "metadata": {},
   "outputs": [],
   "source": [
    "display.IFrame(\n",
    "    src=\"https://tensorboard.dev/experiment/fGInKDo8TXes1z7HQku9mw/#scalars&_smoothingWeight=0.97\",\n",
    "    width=\"100%\",\n",
    "    height=\"800px\",\n",
    ")"
   ]
  },
  {
   "cell_type": "markdown",
   "id": "ddc11c86-a45e-48a9-9481-62dad64dd2de",
   "metadata": {},
   "source": [
    "![assets/overfit-underfit.png](assets/overfit-underfit.png)"
   ]
  }
 ],
 "metadata": {
  "kernelspec": {
   "display_name": "Python 3 (ipykernel)",
   "language": "python",
   "name": "python3"
  },
  "language_info": {
   "codemirror_mode": {
    "name": "ipython",
    "version": 3
   },
   "file_extension": ".py",
   "mimetype": "text/x-python",
   "name": "python",
   "nbconvert_exporter": "python",
   "pygments_lexer": "ipython3",
   "version": "3.9.10"
  }
 },
 "nbformat": 4,
 "nbformat_minor": 5
}
