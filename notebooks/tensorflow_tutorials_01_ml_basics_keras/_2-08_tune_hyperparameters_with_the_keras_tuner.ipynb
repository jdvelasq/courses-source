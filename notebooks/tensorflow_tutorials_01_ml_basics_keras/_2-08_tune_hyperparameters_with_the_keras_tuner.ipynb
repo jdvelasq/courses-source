{
 "cells": [
  {
   "cell_type": "markdown",
   "metadata": {},
   "source": [
    "Afinación de parámetros con Keras Tuner --- 21:03 min\n",
    "==="
   ]
  },
  {
   "cell_type": "markdown",
   "metadata": {},
   "source": [
    "* Última modificación: Mayo 10, 2021 | [YouTube](https://youtu.be/5IL3etLzVGk)"
   ]
  },
  {
   "cell_type": "markdown",
   "metadata": {},
   "source": [
    "Adaptado de:\n",
    "\n",
    "* https://www.tensorflow.org/tutorials/keras/keras_tuner"
   ]
  },
  {
   "cell_type": "markdown",
   "metadata": {},
   "source": [
    "En la construcción de modelos de redes neuronales siempre se busca encontrar el mejor modelo en términos de la precisión del pronóstico. Sin embargo, el desempeño de un modelo de redes neuronales depende de su arquitectura (cantidad de capas y cantidad de neuronas por capa, funciones de activación) y del proceso de entrenamiento (algoritmo usado, número de iteraciones, tasa de aprendizaje, etc.). Keras Tuner es una librería que implementa varios algoritmos de búsqueda para encontrar la mejor combinación de parámetros relacionados con la arquitectura y el entrenamiento de una red neuronal. En esta lección se explican los fundamentos de Keras Tuner y como aplicarlo para la obtención del mejor modelo."
   ]
  },
  {
   "cell_type": "code",
   "execution_count": 1,
   "metadata": {
    "id": "IqR2PQG4ZaZ0"
   },
   "outputs": [
    {
     "name": "stdout",
     "output_type": "stream",
     "text": [
      "2.5.0\n"
     ]
    }
   ],
   "source": [
    "import keras_tuner as kt\n",
    "import tensorflow as tf\n",
    "from tensorflow import keras\n",
    "\n",
    "print(tf.__version__)"
   ]
  },
  {
   "cell_type": "code",
   "execution_count": 2,
   "metadata": {
    "id": "_leAIdFKAxAD"
   },
   "outputs": [],
   "source": [
    "#\n",
    "#  Descarga de los datos\n",
    "#\n",
    "(\n",
    "    (train_images, train_labels),\n",
    "    (test_images, test_labels),\n",
    ") = keras.datasets.fashion_mnist.load_data()"
   ]
  },
  {
   "cell_type": "markdown",
   "metadata": {},
   "source": [
    "## Especificación del modelo"
   ]
  },
  {
   "cell_type": "code",
   "execution_count": 3,
   "metadata": {},
   "outputs": [],
   "source": [
    "def model_builder(hp):\n",
    "    \n",
    "    #\n",
    "    # Evalua distintas cantidades de neuronas en la capa\n",
    "    # oculta\n",
    "    #\n",
    "    hp_units = hp.Int(\n",
    "        \"units\",\n",
    "        min_value=32,\n",
    "        max_value=512,\n",
    "        step=32,\n",
    "    )\n",
    "        \n",
    "    model = keras.Sequential(\n",
    "        [\n",
    "            #\n",
    "            # Esta capa reduce una dimension de la matriz de entrada.\n",
    "            # El conjunto de entrada es una lista de matrices de 28x28.\n",
    "            # Flatten genera una lista de vectores de dimensión 28x28\n",
    "            #            \n",
    "            keras.layers.Flatten(input_shape=(28, 28)),\n",
    "            \n",
    "            #\n",
    "            # Preprocesamiento de la entrada [0, 255] --> [0, 1]\n",
    "            #\n",
    "            keras.layers.experimental.preprocessing.Rescaling(scale=1.0 / 255),\n",
    "            \n",
    "            #\n",
    "            # Capa de procesamiento. Aquí se modifica dinamicamente la \n",
    "            # cantidad de neuronas en la capa\n",
    "            #\n",
    "            keras.layers.Dense(\n",
    "                units=hp_units,\n",
    "                activation=\"relu\",\n",
    "            ),\n",
    "            \n",
    "            #\n",
    "            # Capa de salida\n",
    "            #\n",
    "            keras.layers.Dense(10)\n",
    "        ]\n",
    "    )\n",
    "\n",
    "    #\n",
    "    # Escoge el mejor valor para la tasa de aprendizaje\n",
    "    #\n",
    "    hp_learning_rate = hp.Choice(\n",
    "        \"learning_rate\",\n",
    "        values=[0.01, 0.001, 0.0001],\n",
    "    )\n",
    "\n",
    "    model.compile(\n",
    "        #\n",
    "        # Optimizador con distintos valores \n",
    "        # para la tasa de aprendizaje\n",
    "        #\n",
    "        optimizer=keras.optimizers.Adam(\n",
    "            learning_rate=hp_learning_rate,\n",
    "        ),\n",
    "        #\n",
    "        # Función de pérdida\n",
    "        #\n",
    "        loss=keras.losses.SparseCategoricalCrossentropy(\n",
    "            from_logits=True,\n",
    "        ),\n",
    "        #\n",
    "        # Métrica a monitoreas\n",
    "        #\n",
    "        metrics=[\"accuracy\"],\n",
    "    )\n",
    "\n",
    "    return model"
   ]
  },
  {
   "cell_type": "markdown",
   "metadata": {},
   "source": [
    "## Monitoreo del modelo con Early Stopping"
   ]
  },
  {
   "cell_type": "code",
   "execution_count": 4,
   "metadata": {},
   "outputs": [],
   "source": [
    "callbacks = [\n",
    "    tf.keras.callbacks.EarlyStopping(\n",
    "        #\n",
    "        # Metrica a monitorear\n",
    "        #\n",
    "        monitor=\"val_loss\",\n",
    "        \n",
    "        #\n",
    "        # Número de iteraciones sin mejora antes\n",
    "        # de finalizar el entrenamiento\n",
    "        #\n",
    "        patience=5,\n",
    "    )\n",
    "]"
   ]
  },
  {
   "cell_type": "markdown",
   "metadata": {},
   "source": [
    "## Búsqueda usando HyperBand"
   ]
  },
  {
   "cell_type": "code",
   "execution_count": 5,
   "metadata": {
    "id": "oichQFly6Y46"
   },
   "outputs": [
    {
     "name": "stdout",
     "output_type": "stream",
     "text": [
      "Search space summary\n",
      "Default search space size: 2\n",
      "units (Int)\n",
      "{'default': None, 'conditions': [], 'min_value': 32, 'max_value': 512, 'step': 32, 'sampling': None}\n",
      "learning_rate (Choice)\n",
      "{'default': 0.01, 'conditions': [], 'values': [0.01, 0.001, 0.0001], 'ordered': True}\n"
     ]
    }
   ],
   "source": [
    "!rm -rf /tmp/hyperband_kt\n",
    "\n",
    "hyperband_tuner = kt.Hyperband(\n",
    "    hypermodel=model_builder,      # construye el modelo\n",
    "    objective=\"val_accuracy\",      # criterio para seleccionar los parametros\n",
    "    max_epochs=10,                 # Número máximo de iteraciones\n",
    "    factor=3,                      # factor para reducir la cantidad de modelos\n",
    "    directory=\"/tmp/hyperband_kt\", # directorio de trabajo\n",
    "    project_name=\"hyperband_kt\",   # nombre del proyecto\n",
    "    overwrite=True,                # sobre-escribe la carpeta si existe\n",
    ")\n",
    "\n",
    "#\n",
    "# Resumen de los parametros de la búsqueda\n",
    "#\n",
    "hyperband_tuner.search_space_summary()"
   ]
  },
  {
   "cell_type": "code",
   "execution_count": 6,
   "metadata": {
    "id": "oichQFly6Y46"
   },
   "outputs": [
    {
     "name": "stdout",
     "output_type": "stream",
     "text": [
      "Trial 30 Complete [00h 00m 55s]\n",
      "val_accuracy: 0.8912500143051147\n",
      "\n",
      "Best val_accuracy So Far: 0.8912500143051147\n",
      "Total elapsed time: 00h 09m 20s\n",
      "INFO:tensorflow:Oracle triggered exit\n",
      "Results summary\n",
      "Results in /tmp/hyperband_kt/hyperband_kt\n",
      "Showing 10 best trials\n",
      "Objective(name='val_accuracy', direction='max')\n",
      "Trial summary\n",
      "Hyperparameters:\n",
      "units: 352\n",
      "learning_rate: 0.001\n",
      "tuner/epochs: 10\n",
      "tuner/initial_epoch: 0\n",
      "tuner/bracket: 0\n",
      "tuner/round: 0\n",
      "Score: 0.8912500143051147\n",
      "Trial summary\n",
      "Hyperparameters:\n",
      "units: 224\n",
      "learning_rate: 0.001\n",
      "tuner/epochs: 10\n",
      "tuner/initial_epoch: 0\n",
      "tuner/bracket: 0\n",
      "tuner/round: 0\n",
      "Score: 0.8896666765213013\n",
      "Trial summary\n",
      "Hyperparameters:\n",
      "units: 192\n",
      "learning_rate: 0.001\n",
      "tuner/epochs: 10\n",
      "tuner/initial_epoch: 0\n",
      "tuner/bracket: 0\n",
      "tuner/round: 0\n",
      "Score: 0.8864166736602783\n",
      "Trial summary\n",
      "Hyperparameters:\n",
      "units: 160\n",
      "learning_rate: 0.001\n",
      "tuner/epochs: 10\n",
      "tuner/initial_epoch: 4\n",
      "tuner/bracket: 1\n",
      "tuner/round: 1\n",
      "tuner/trial_id: 422bccbb6eb9a85556e5cac0b0191ae0\n",
      "Score: 0.8857499957084656\n",
      "Trial summary\n",
      "Hyperparameters:\n",
      "units: 384\n",
      "learning_rate: 0.001\n",
      "tuner/epochs: 10\n",
      "tuner/initial_epoch: 4\n",
      "tuner/bracket: 1\n",
      "tuner/round: 1\n",
      "tuner/trial_id: dc9054df59a684274b3100927053c4df\n",
      "Score: 0.8856666684150696\n",
      "Trial summary\n",
      "Hyperparameters:\n",
      "units: 320\n",
      "learning_rate: 0.001\n",
      "tuner/epochs: 10\n",
      "tuner/initial_epoch: 4\n",
      "tuner/bracket: 2\n",
      "tuner/round: 2\n",
      "tuner/trial_id: 869c98f85e280944338bf8995e02354f\n",
      "Score: 0.8854166865348816\n",
      "Trial summary\n",
      "Hyperparameters:\n",
      "units: 384\n",
      "learning_rate: 0.001\n",
      "tuner/epochs: 4\n",
      "tuner/initial_epoch: 0\n",
      "tuner/bracket: 1\n",
      "tuner/round: 0\n",
      "Score: 0.8794166445732117\n",
      "Trial summary\n",
      "Hyperparameters:\n",
      "units: 384\n",
      "learning_rate: 0.0001\n",
      "tuner/epochs: 10\n",
      "tuner/initial_epoch: 4\n",
      "tuner/bracket: 2\n",
      "tuner/round: 2\n",
      "tuner/trial_id: 323abbff79597539712beb0f24778232\n",
      "Score: 0.8711666464805603\n",
      "Trial summary\n",
      "Hyperparameters:\n",
      "units: 320\n",
      "learning_rate: 0.001\n",
      "tuner/epochs: 2\n",
      "tuner/initial_epoch: 0\n",
      "tuner/bracket: 2\n",
      "tuner/round: 0\n",
      "Score: 0.8705833554267883\n",
      "Trial summary\n",
      "Hyperparameters:\n",
      "units: 160\n",
      "learning_rate: 0.001\n",
      "tuner/epochs: 4\n",
      "tuner/initial_epoch: 0\n",
      "tuner/bracket: 1\n",
      "tuner/round: 0\n",
      "Score: 0.8700833320617676\n"
     ]
    }
   ],
   "source": [
    "hyperband_tuner.search(\n",
    "    train_images,\n",
    "    train_labels,\n",
    "    epochs=50,\n",
    "    validation_split=0.2,\n",
    "    callbacks=callbacks,\n",
    "    verbose=1,\n",
    ")\n",
    "\n",
    "hyperband_tuner.results_summary()"
   ]
  },
  {
   "cell_type": "markdown",
   "metadata": {},
   "source": [
    "## Búsqueda usando random search"
   ]
  },
  {
   "cell_type": "code",
   "execution_count": 7,
   "metadata": {},
   "outputs": [
    {
     "name": "stdout",
     "output_type": "stream",
     "text": [
      "Search space summary\n",
      "Default search space size: 2\n",
      "units (Int)\n",
      "{'default': None, 'conditions': [], 'min_value': 32, 'max_value': 512, 'step': 32, 'sampling': None}\n",
      "learning_rate (Choice)\n",
      "{'default': 0.01, 'conditions': [], 'values': [0.01, 0.001, 0.0001], 'ordered': True}\n"
     ]
    }
   ],
   "source": [
    "!rm -rf /tmp/randomsearch_kt\n",
    "\n",
    "randomsearch_tuner = kt.RandomSearch(\n",
    "    hypermodel=model_builder,         # construye el modelo\n",
    "    objective=\"val_accuracy\",         # criterio para seleccionar los parametros\n",
    "    max_trials=4,                     # número máximo de ensayos\n",
    "    directory=\"/tmp/randomsearch_kt\", # directorio de trabajo\n",
    "    project_name=\"randomsearch_kt\",   # Nombre del proyecto\n",
    "    overwrite=True,                   # sobre-escribe la carpeta si existe\n",
    ")\n",
    "\n",
    "#\n",
    "# Resumen de los parametros de la búsqueda\n",
    "#\n",
    "randomsearch_tuner.search_space_summary()"
   ]
  },
  {
   "cell_type": "code",
   "execution_count": 8,
   "metadata": {
    "id": "oichQFly6Y46"
   },
   "outputs": [
    {
     "name": "stdout",
     "output_type": "stream",
     "text": [
      "Trial 4 Complete [00h 01m 39s]\n",
      "val_accuracy: 0.8943333625793457\n",
      "\n",
      "Best val_accuracy So Far: 0.8955833315849304\n",
      "Total elapsed time: 00h 10m 52s\n",
      "INFO:tensorflow:Oracle triggered exit\n",
      "Results summary\n",
      "Results in /tmp/randomsearch_kt/randomsearch_kt\n",
      "Showing 10 best trials\n",
      "Objective(name='val_accuracy', direction='max')\n",
      "Trial summary\n",
      "Hyperparameters:\n",
      "units: 352\n",
      "learning_rate: 0.0001\n",
      "Score: 0.8955833315849304\n",
      "Trial summary\n",
      "Hyperparameters:\n",
      "units: 416\n",
      "learning_rate: 0.0001\n",
      "Score: 0.8945833444595337\n",
      "Trial summary\n",
      "Hyperparameters:\n",
      "units: 256\n",
      "learning_rate: 0.001\n",
      "Score: 0.8943333625793457\n",
      "Trial summary\n",
      "Hyperparameters:\n",
      "units: 256\n",
      "learning_rate: 0.01\n",
      "Score: 0.8689166903495789\n"
     ]
    }
   ],
   "source": [
    "randomsearch_tuner.search(\n",
    "    train_images,\n",
    "    train_labels,\n",
    "    epochs=50,\n",
    "    validation_split=0.2,\n",
    "    callbacks=callbacks,\n",
    "    verbose=1,\n",
    ")\n",
    "\n",
    "randomsearch_tuner.results_summary()"
   ]
  },
  {
   "cell_type": "markdown",
   "metadata": {},
   "source": [
    "## Búsqueda usando Bayesian Optimization"
   ]
  },
  {
   "cell_type": "code",
   "execution_count": 9,
   "metadata": {},
   "outputs": [
    {
     "name": "stdout",
     "output_type": "stream",
     "text": [
      "Search space summary\n",
      "Default search space size: 2\n",
      "units (Int)\n",
      "{'default': None, 'conditions': [], 'min_value': 32, 'max_value': 512, 'step': 32, 'sampling': None}\n",
      "learning_rate (Choice)\n",
      "{'default': 0.01, 'conditions': [], 'values': [0.01, 0.001, 0.0001], 'ordered': True}\n"
     ]
    }
   ],
   "source": [
    "!rm -rf /tmp/bayesianopt_kt\n",
    "\n",
    "bayesianoptimization_tuner = kt.BayesianOptimization(\n",
    "    hypermodel=model_builder,         # construye el modelo\n",
    "    objective=\"val_accuracy\",         # criterio para seleccionar los parametros\n",
    "    max_trials=4,                     # número máximo de ensayos\n",
    "    seed=123456,                      # semilla del generador de aleatorios\n",
    "    directory=\"/tmp/bayesianopt_kt\",  # directorio de trabajo\n",
    "    project_name=\"bayesianopt_kt\",    # Nombre del proyecto\n",
    "    overwrite=True,                   # sobre-escribe la carpeta si existe\n",
    ")\n",
    "\n",
    "#\n",
    "# Resumen de los parametros de la búsqueda\n",
    "#\n",
    "bayesianoptimization_tuner.search_space_summary()"
   ]
  },
  {
   "cell_type": "code",
   "execution_count": 10,
   "metadata": {
    "id": "oichQFly6Y46"
   },
   "outputs": [
    {
     "name": "stdout",
     "output_type": "stream",
     "text": [
      "Trial 4 Complete [00h 05m 27s]\n",
      "val_accuracy: 0.8993333578109741\n",
      "\n",
      "Best val_accuracy So Far: 0.8993333578109741\n",
      "Total elapsed time: 00h 11m 06s\n",
      "INFO:tensorflow:Oracle triggered exit\n",
      "Results summary\n",
      "Results in /tmp/bayesianopt_kt/bayesianopt_kt\n",
      "Showing 10 best trials\n",
      "Objective(name='val_accuracy', direction='max')\n",
      "Trial summary\n",
      "Hyperparameters:\n",
      "units: 512\n",
      "learning_rate: 0.0001\n",
      "Score: 0.8993333578109741\n",
      "Trial summary\n",
      "Hyperparameters:\n",
      "units: 416\n",
      "learning_rate: 0.001\n",
      "Score: 0.8896666765213013\n",
      "Trial summary\n",
      "Hyperparameters:\n",
      "units: 128\n",
      "learning_rate: 0.0001\n",
      "Score: 0.8810833096504211\n",
      "Trial summary\n",
      "Hyperparameters:\n",
      "units: 512\n",
      "learning_rate: 0.01\n",
      "Score: 0.8696666955947876\n"
     ]
    }
   ],
   "source": [
    "bayesianoptimization_tuner.search(\n",
    "    train_images,\n",
    "    train_labels,\n",
    "    epochs=50,\n",
    "    validation_split=0.2,\n",
    "    callbacks=callbacks,\n",
    "    verbose=1,\n",
    ")\n",
    "\n",
    "bayesianoptimization_tuner.results_summary()"
   ]
  },
  {
   "cell_type": "markdown",
   "metadata": {},
   "source": [
    "## Obtención de los mejores hiperparámetros"
   ]
  },
  {
   "cell_type": "code",
   "execution_count": 11,
   "metadata": {
    "id": "oichQFly6Y46"
   },
   "outputs": [
    {
     "data": {
      "text/plain": [
       "(352, 0.001)"
      ]
     },
     "execution_count": 11,
     "metadata": {},
     "output_type": "execute_result"
    }
   ],
   "source": [
    "best_hyperband_hps = hyperband_tuner.get_best_hyperparameters(num_trials=1)[0]\n",
    "\n",
    "#\n",
    "# Cantidad optima de neuronas en la capa oculta \n",
    "# y tasa de aprendizaje\n",
    "#\n",
    "best_hyperband_hps.get(\"units\"), best_hyperband_hps.get('learning_rate')"
   ]
  },
  {
   "cell_type": "code",
   "execution_count": 12,
   "metadata": {
    "id": "oichQFly6Y46"
   },
   "outputs": [
    {
     "data": {
      "text/plain": [
       "(352, 0.0001)"
      ]
     },
     "execution_count": 12,
     "metadata": {},
     "output_type": "execute_result"
    }
   ],
   "source": [
    "best_randomsearch_hps = randomsearch_tuner.get_best_hyperparameters(num_trials=1)[0]\n",
    "\n",
    "#\n",
    "# Cantidad optima de neuronas en la capa oculta \n",
    "# y tasa de aprendizaje\n",
    "#\n",
    "best_randomsearch_hps.get(\"units\"), best_randomsearch_hps.get('learning_rate')"
   ]
  },
  {
   "cell_type": "code",
   "execution_count": 13,
   "metadata": {
    "id": "oichQFly6Y46"
   },
   "outputs": [
    {
     "data": {
      "text/plain": [
       "(512, 0.0001)"
      ]
     },
     "execution_count": 13,
     "metadata": {},
     "output_type": "execute_result"
    }
   ],
   "source": [
    "best_bayesianopt_hps = bayesianoptimization_tuner.get_best_hyperparameters(num_trials=1)[0]\n",
    "\n",
    "#\n",
    "# Cantidad optima de neuronas en la capa oculta \n",
    "# y tasa de aprendizaje\n",
    "#\n",
    "best_bayesianopt_hps.get(\"units\"), best_bayesianopt_hps.get('learning_rate')"
   ]
  },
  {
   "cell_type": "markdown",
   "metadata": {},
   "source": [
    "## Obtención del mejor modelo"
   ]
  },
  {
   "cell_type": "code",
   "execution_count": 14,
   "metadata": {
    "id": "McO82AXOuxXh"
   },
   "outputs": [
    {
     "name": "stdout",
     "output_type": "stream",
     "text": [
      "Epoch 1/50\n",
      "1500/1500 - 7s - loss: 0.5013 - accuracy: 0.8223 - val_loss: 0.4512 - val_accuracy: 0.8363\n",
      "Epoch 2/50\n",
      "1500/1500 - 6s - loss: 0.3725 - accuracy: 0.8647 - val_loss: 0.3723 - val_accuracy: 0.8633\n",
      "Epoch 3/50\n",
      "1500/1500 - 6s - loss: 0.3345 - accuracy: 0.8758 - val_loss: 0.3505 - val_accuracy: 0.8692\n",
      "Epoch 4/50\n",
      "1500/1500 - 6s - loss: 0.3068 - accuracy: 0.8862 - val_loss: 0.3516 - val_accuracy: 0.8733\n",
      "Epoch 5/50\n",
      "1500/1500 - 7s - loss: 0.2877 - accuracy: 0.8939 - val_loss: 0.3228 - val_accuracy: 0.8867\n",
      "Epoch 6/50\n",
      "1500/1500 - 7s - loss: 0.2733 - accuracy: 0.8983 - val_loss: 0.3235 - val_accuracy: 0.8851\n",
      "Epoch 7/50\n",
      "1500/1500 - 7s - loss: 0.2585 - accuracy: 0.9038 - val_loss: 0.3313 - val_accuracy: 0.8869\n",
      "Epoch 8/50\n",
      "1500/1500 - 7s - loss: 0.2444 - accuracy: 0.9088 - val_loss: 0.3223 - val_accuracy: 0.8842\n",
      "Epoch 9/50\n",
      "1500/1500 - 7s - loss: 0.2348 - accuracy: 0.9120 - val_loss: 0.3110 - val_accuracy: 0.8869\n",
      "Epoch 10/50\n",
      "1500/1500 - 7s - loss: 0.2263 - accuracy: 0.9141 - val_loss: 0.3177 - val_accuracy: 0.8886\n",
      "Epoch 11/50\n",
      "1500/1500 - 7s - loss: 0.2184 - accuracy: 0.9176 - val_loss: 0.3489 - val_accuracy: 0.8802\n",
      "Epoch 12/50\n",
      "1500/1500 - 7s - loss: 0.2093 - accuracy: 0.9222 - val_loss: 0.3253 - val_accuracy: 0.8900\n",
      "Epoch 13/50\n",
      "1500/1500 - 8s - loss: 0.2005 - accuracy: 0.9235 - val_loss: 0.3338 - val_accuracy: 0.8871\n",
      "Epoch 14/50\n",
      "1500/1500 - 7s - loss: 0.1943 - accuracy: 0.9274 - val_loss: 0.3297 - val_accuracy: 0.8899\n",
      "Epoch 15/50\n",
      "1500/1500 - 7s - loss: 0.1867 - accuracy: 0.9295 - val_loss: 0.3208 - val_accuracy: 0.8896\n",
      "Epoch 16/50\n",
      "1500/1500 - 7s - loss: 0.1817 - accuracy: 0.9309 - val_loss: 0.3461 - val_accuracy: 0.8895\n",
      "Epoch 17/50\n",
      "1500/1500 - 7s - loss: 0.1750 - accuracy: 0.9334 - val_loss: 0.3318 - val_accuracy: 0.8933\n",
      "Epoch 18/50\n",
      "1500/1500 - 7s - loss: 0.1673 - accuracy: 0.9372 - val_loss: 0.3477 - val_accuracy: 0.8892\n",
      "Epoch 19/50\n",
      "1500/1500 - 7s - loss: 0.1629 - accuracy: 0.9381 - val_loss: 0.3733 - val_accuracy: 0.8856\n",
      "Epoch 20/50\n",
      "1500/1500 - 7s - loss: 0.1587 - accuracy: 0.9404 - val_loss: 0.3753 - val_accuracy: 0.8873\n",
      "Epoch 21/50\n",
      "1500/1500 - 7s - loss: 0.1508 - accuracy: 0.9426 - val_loss: 0.3427 - val_accuracy: 0.8919\n",
      "Epoch 22/50\n",
      "1500/1500 - 7s - loss: 0.1479 - accuracy: 0.9448 - val_loss: 0.3756 - val_accuracy: 0.8868\n",
      "Epoch 23/50\n",
      "1500/1500 - 7s - loss: 0.1468 - accuracy: 0.9453 - val_loss: 0.3600 - val_accuracy: 0.8926\n",
      "Epoch 24/50\n",
      "1500/1500 - 8s - loss: 0.1391 - accuracy: 0.9479 - val_loss: 0.3690 - val_accuracy: 0.8901\n",
      "Epoch 25/50\n",
      "1500/1500 - 8s - loss: 0.1360 - accuracy: 0.9480 - val_loss: 0.3780 - val_accuracy: 0.8876\n",
      "Epoch 26/50\n",
      "1500/1500 - 7s - loss: 0.1317 - accuracy: 0.9499 - val_loss: 0.4010 - val_accuracy: 0.8902\n",
      "Epoch 27/50\n",
      "1500/1500 - 8s - loss: 0.1284 - accuracy: 0.9525 - val_loss: 0.3885 - val_accuracy: 0.8924\n",
      "Epoch 28/50\n",
      "1500/1500 - 7s - loss: 0.1276 - accuracy: 0.9516 - val_loss: 0.3884 - val_accuracy: 0.8907\n",
      "Epoch 29/50\n",
      "1500/1500 - 7s - loss: 0.1204 - accuracy: 0.9545 - val_loss: 0.3947 - val_accuracy: 0.8911\n",
      "Epoch 30/50\n",
      "1500/1500 - 6s - loss: 0.1177 - accuracy: 0.9560 - val_loss: 0.3880 - val_accuracy: 0.8915\n",
      "Epoch 31/50\n",
      "1500/1500 - 6s - loss: 0.1166 - accuracy: 0.9555 - val_loss: 0.4103 - val_accuracy: 0.8926\n",
      "Epoch 32/50\n",
      "1500/1500 - 6s - loss: 0.1139 - accuracy: 0.9560 - val_loss: 0.4244 - val_accuracy: 0.8903\n",
      "Epoch 33/50\n",
      "1500/1500 - 6s - loss: 0.1094 - accuracy: 0.9588 - val_loss: 0.4141 - val_accuracy: 0.8941\n",
      "Epoch 34/50\n",
      "1500/1500 - 6s - loss: 0.1065 - accuracy: 0.9606 - val_loss: 0.4398 - val_accuracy: 0.8928\n",
      "Epoch 35/50\n",
      "1500/1500 - 6s - loss: 0.1030 - accuracy: 0.9610 - val_loss: 0.4373 - val_accuracy: 0.8895\n",
      "Epoch 36/50\n",
      "1500/1500 - 5s - loss: 0.0994 - accuracy: 0.9624 - val_loss: 0.4385 - val_accuracy: 0.8943\n",
      "Epoch 37/50\n",
      "1500/1500 - 5s - loss: 0.0993 - accuracy: 0.9624 - val_loss: 0.4329 - val_accuracy: 0.8927\n",
      "Epoch 38/50\n",
      "1500/1500 - 6s - loss: 0.0974 - accuracy: 0.9631 - val_loss: 0.4696 - val_accuracy: 0.8892\n",
      "Epoch 39/50\n",
      "1500/1500 - 5s - loss: 0.0962 - accuracy: 0.9635 - val_loss: 0.4622 - val_accuracy: 0.8912\n",
      "Epoch 40/50\n",
      "1500/1500 - 5s - loss: 0.0923 - accuracy: 0.9650 - val_loss: 0.4654 - val_accuracy: 0.8920\n",
      "Epoch 41/50\n",
      "1500/1500 - 5s - loss: 0.0921 - accuracy: 0.9651 - val_loss: 0.4961 - val_accuracy: 0.8918\n",
      "Epoch 42/50\n",
      "1500/1500 - 5s - loss: 0.0888 - accuracy: 0.9661 - val_loss: 0.4946 - val_accuracy: 0.8887\n",
      "Epoch 43/50\n",
      "1500/1500 - 5s - loss: 0.0875 - accuracy: 0.9666 - val_loss: 0.4752 - val_accuracy: 0.8912\n",
      "Epoch 44/50\n",
      "1500/1500 - 5s - loss: 0.0846 - accuracy: 0.9679 - val_loss: 0.4740 - val_accuracy: 0.8948\n",
      "Epoch 45/50\n",
      "1500/1500 - 5s - loss: 0.0842 - accuracy: 0.9681 - val_loss: 0.4794 - val_accuracy: 0.8950\n",
      "Epoch 46/50\n",
      "1500/1500 - 5s - loss: 0.0832 - accuracy: 0.9686 - val_loss: 0.5057 - val_accuracy: 0.8922\n",
      "Epoch 47/50\n",
      "1500/1500 - 5s - loss: 0.0832 - accuracy: 0.9693 - val_loss: 0.5279 - val_accuracy: 0.8875\n",
      "Epoch 48/50\n",
      "1500/1500 - 5s - loss: 0.0767 - accuracy: 0.9713 - val_loss: 0.5340 - val_accuracy: 0.8913\n",
      "Epoch 49/50\n",
      "1500/1500 - 5s - loss: 0.0787 - accuracy: 0.9705 - val_loss: 0.5354 - val_accuracy: 0.8913\n",
      "Epoch 50/50\n",
      "1500/1500 - 5s - loss: 0.0740 - accuracy: 0.9723 - val_loss: 0.5612 - val_accuracy: 0.8889\n"
     ]
    },
    {
     "data": {
      "text/plain": [
       "45"
      ]
     },
     "execution_count": 14,
     "metadata": {},
     "output_type": "execute_result"
    }
   ],
   "source": [
    "#\n",
    "# Construcción del modelo con los hiperparametros óptimos\n",
    "# y entrenamiento para 50 epochs.\n",
    "#\n",
    "# Se busca obtener el número óptimo de epochs para\n",
    "# entrenar el modelo\n",
    "#\n",
    "model = hyperband_tuner.hypermodel.build(best_hyperband_hps)\n",
    "\n",
    "history = model.fit(\n",
    "    train_images,\n",
    "    train_labels,\n",
    "    epochs=50,\n",
    "    validation_split=0.2,\n",
    "    verbose=2,\n",
    ")\n",
    "\n",
    "val_acc_per_epoch = history.history[\"val_accuracy\"]\n",
    "best_epoch = val_acc_per_epoch.index(max(val_acc_per_epoch)) + 1\n",
    "\n",
    "#\n",
    "# Número máximo de epochs usadas para entrenar el modelo\n",
    "#\n",
    "best_epoch"
   ]
  },
  {
   "cell_type": "code",
   "execution_count": 15,
   "metadata": {
    "id": "McO82AXOuxXh"
   },
   "outputs": [
    {
     "name": "stdout",
     "output_type": "stream",
     "text": [
      "Epoch 1/45\n",
      "1500/1500 - 6s - loss: 0.5012 - accuracy: 0.8226 - val_loss: 0.4090 - val_accuracy: 0.8553\n",
      "Epoch 2/45\n",
      "1500/1500 - 5s - loss: 0.3721 - accuracy: 0.8645 - val_loss: 0.3534 - val_accuracy: 0.8719\n",
      "Epoch 3/45\n",
      "1500/1500 - 5s - loss: 0.3324 - accuracy: 0.8790 - val_loss: 0.3757 - val_accuracy: 0.8610\n",
      "Epoch 4/45\n",
      "1500/1500 - 5s - loss: 0.3071 - accuracy: 0.8873 - val_loss: 0.3847 - val_accuracy: 0.8598\n",
      "Epoch 5/45\n",
      "1500/1500 - 6s - loss: 0.2904 - accuracy: 0.8929 - val_loss: 0.3215 - val_accuracy: 0.8844\n",
      "Epoch 6/45\n",
      "1500/1500 - 5s - loss: 0.2705 - accuracy: 0.8994 - val_loss: 0.3312 - val_accuracy: 0.8784\n",
      "Epoch 7/45\n",
      "1500/1500 - 5s - loss: 0.2562 - accuracy: 0.9048 - val_loss: 0.3255 - val_accuracy: 0.8844\n",
      "Epoch 8/45\n",
      "1500/1500 - 5s - loss: 0.2463 - accuracy: 0.9075 - val_loss: 0.3328 - val_accuracy: 0.8824\n",
      "Epoch 9/45\n",
      "1500/1500 - 5s - loss: 0.2356 - accuracy: 0.9107 - val_loss: 0.3169 - val_accuracy: 0.8860\n",
      "Epoch 10/45\n",
      "1500/1500 - 5s - loss: 0.2242 - accuracy: 0.9156 - val_loss: 0.3410 - val_accuracy: 0.8790\n",
      "Epoch 11/45\n",
      "1500/1500 - 6s - loss: 0.2169 - accuracy: 0.9179 - val_loss: 0.3099 - val_accuracy: 0.8921\n",
      "Epoch 12/45\n",
      "1500/1500 - 5s - loss: 0.2077 - accuracy: 0.9220 - val_loss: 0.3262 - val_accuracy: 0.8931\n",
      "Epoch 13/45\n",
      "1500/1500 - 5s - loss: 0.1980 - accuracy: 0.9271 - val_loss: 0.3350 - val_accuracy: 0.8876\n",
      "Epoch 14/45\n",
      "1500/1500 - 5s - loss: 0.1933 - accuracy: 0.9271 - val_loss: 0.3401 - val_accuracy: 0.8897\n",
      "Epoch 15/45\n",
      "1500/1500 - 5s - loss: 0.1855 - accuracy: 0.9301 - val_loss: 0.3243 - val_accuracy: 0.8943\n",
      "Epoch 16/45\n",
      "1500/1500 - 5s - loss: 0.1799 - accuracy: 0.9329 - val_loss: 0.3399 - val_accuracy: 0.8903\n",
      "Epoch 17/45\n",
      "1500/1500 - 5s - loss: 0.1740 - accuracy: 0.9350 - val_loss: 0.3316 - val_accuracy: 0.8931\n",
      "Epoch 18/45\n",
      "1500/1500 - 5s - loss: 0.1669 - accuracy: 0.9365 - val_loss: 0.3327 - val_accuracy: 0.8955\n",
      "Epoch 19/45\n",
      "1500/1500 - 5s - loss: 0.1620 - accuracy: 0.9388 - val_loss: 0.3559 - val_accuracy: 0.8917\n",
      "Epoch 20/45\n",
      "1500/1500 - 5s - loss: 0.1577 - accuracy: 0.9407 - val_loss: 0.3551 - val_accuracy: 0.8875\n",
      "Epoch 21/45\n",
      "1500/1500 - 5s - loss: 0.1544 - accuracy: 0.9430 - val_loss: 0.3531 - val_accuracy: 0.8910\n",
      "Epoch 22/45\n",
      "1500/1500 - 5s - loss: 0.1473 - accuracy: 0.9454 - val_loss: 0.3562 - val_accuracy: 0.8970\n",
      "Epoch 23/45\n",
      "1500/1500 - 5s - loss: 0.1453 - accuracy: 0.9462 - val_loss: 0.3824 - val_accuracy: 0.8943\n",
      "Epoch 24/45\n",
      "1500/1500 - 5s - loss: 0.1400 - accuracy: 0.9472 - val_loss: 0.3584 - val_accuracy: 0.8964\n",
      "Epoch 25/45\n",
      "1500/1500 - 5s - loss: 0.1368 - accuracy: 0.9489 - val_loss: 0.3850 - val_accuracy: 0.8914\n",
      "Epoch 26/45\n",
      "1500/1500 - 5s - loss: 0.1335 - accuracy: 0.9502 - val_loss: 0.4495 - val_accuracy: 0.8855\n",
      "Epoch 27/45\n",
      "1500/1500 - 5s - loss: 0.1286 - accuracy: 0.9522 - val_loss: 0.4037 - val_accuracy: 0.8879\n",
      "Epoch 28/45\n",
      "1500/1500 - 5s - loss: 0.1228 - accuracy: 0.9546 - val_loss: 0.4066 - val_accuracy: 0.8840\n",
      "Epoch 29/45\n",
      "1500/1500 - 5s - loss: 0.1247 - accuracy: 0.9525 - val_loss: 0.4352 - val_accuracy: 0.8862\n",
      "Epoch 30/45\n",
      "1500/1500 - 5s - loss: 0.1189 - accuracy: 0.9561 - val_loss: 0.4178 - val_accuracy: 0.8907\n",
      "Epoch 31/45\n",
      "1500/1500 - 5s - loss: 0.1145 - accuracy: 0.9564 - val_loss: 0.4136 - val_accuracy: 0.8920\n",
      "Epoch 32/45\n",
      "1500/1500 - 5s - loss: 0.1130 - accuracy: 0.9571 - val_loss: 0.4139 - val_accuracy: 0.8959\n",
      "Epoch 33/45\n",
      "1500/1500 - 5s - loss: 0.1111 - accuracy: 0.9578 - val_loss: 0.4503 - val_accuracy: 0.8894\n",
      "Epoch 34/45\n",
      "1500/1500 - 5s - loss: 0.1082 - accuracy: 0.9597 - val_loss: 0.4272 - val_accuracy: 0.8911\n",
      "Epoch 35/45\n",
      "1500/1500 - 6s - loss: 0.1043 - accuracy: 0.9605 - val_loss: 0.4593 - val_accuracy: 0.8913\n",
      "Epoch 36/45\n",
      "1500/1500 - 5s - loss: 0.1030 - accuracy: 0.9614 - val_loss: 0.4433 - val_accuracy: 0.8928\n",
      "Epoch 37/45\n",
      "1500/1500 - 5s - loss: 0.0982 - accuracy: 0.9626 - val_loss: 0.4290 - val_accuracy: 0.8958\n",
      "Epoch 38/45\n",
      "1500/1500 - 5s - loss: 0.0992 - accuracy: 0.9625 - val_loss: 0.4270 - val_accuracy: 0.8946\n",
      "Epoch 39/45\n",
      "1500/1500 - 5s - loss: 0.0948 - accuracy: 0.9652 - val_loss: 0.4466 - val_accuracy: 0.8935\n",
      "Epoch 40/45\n",
      "1500/1500 - 6s - loss: 0.0944 - accuracy: 0.9655 - val_loss: 0.4682 - val_accuracy: 0.8924\n",
      "Epoch 41/45\n",
      "1500/1500 - 5s - loss: 0.0886 - accuracy: 0.9676 - val_loss: 0.4716 - val_accuracy: 0.8962\n",
      "Epoch 42/45\n",
      "1500/1500 - 5s - loss: 0.0908 - accuracy: 0.9667 - val_loss: 0.4626 - val_accuracy: 0.8972\n",
      "Epoch 43/45\n",
      "1500/1500 - 5s - loss: 0.0884 - accuracy: 0.9669 - val_loss: 0.4663 - val_accuracy: 0.8947\n",
      "Epoch 44/45\n",
      "1500/1500 - 5s - loss: 0.0841 - accuracy: 0.9689 - val_loss: 0.5069 - val_accuracy: 0.8932\n",
      "Epoch 45/45\n",
      "1500/1500 - 5s - loss: 0.0821 - accuracy: 0.9686 - val_loss: 0.4835 - val_accuracy: 0.8935\n"
     ]
    }
   ],
   "source": [
    "#\n",
    "# Reentrena el modelo usando el número óptimo de epochs\n",
    "#\n",
    "model = hyperband_tuner.hypermodel.build(best_hyperband_hps)\n",
    "\n",
    "history = model.fit(\n",
    "    train_images,\n",
    "    train_labels,\n",
    "    epochs=best_epoch,\n",
    "    validation_split=0.2,\n",
    "    verbose=2,\n",
    ")"
   ]
  }
 ],
 "metadata": {
  "accelerator": "GPU",
  "colab": {
   "collapsed_sections": [
    "Tce3stUlHN0L"
   ],
   "name": "keras_tuner.ipynb",
   "toc_visible": true
  },
  "kernelspec": {
   "display_name": "Python 3 (ipykernel)",
   "language": "python",
   "name": "python3"
  },
  "language_info": {
   "codemirror_mode": {
    "name": "ipython",
    "version": 3
   },
   "file_extension": ".py",
   "mimetype": "text/x-python",
   "name": "python",
   "nbconvert_exporter": "python",
   "pygments_lexer": "ipython3",
   "version": "3.9.10"
  }
 },
 "nbformat": 4,
 "nbformat_minor": 4
}
