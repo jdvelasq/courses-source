{
 "cells": [
  {
   "cell_type": "markdown",
   "metadata": {},
   "source": [
    "Clasificación de texto con TensorFlow Hub: Movie Reviews --- 11:18 min\n",
    "==="
   ]
  },
  {
   "cell_type": "markdown",
   "metadata": {},
   "source": [
    "Última modificación: Mayo 5, 2021 | [YouTube](https://youtu.be/0JUyJBsiAKY)"
   ]
  },
  {
   "cell_type": "markdown",
   "metadata": {},
   "source": [
    "Basado en https://www.tensorflow.org/tutorials/keras/text_classification_with_hub"
   ]
  },
  {
   "cell_type": "markdown",
   "metadata": {},
   "source": [
    "En la construcción de modelos predictivos para texto, es posible utilizar capas pre-entrenadas (embeddings), las cuales se encuentran disponibles a través de Google. En esta lección, se discute como usar este tipo de capas para pronosticar si una reseña de una película será *positiva* o *negativa*."
   ]
  },
  {
   "cell_type": "markdown",
   "metadata": {},
   "source": [
    "## Importación de librerías"
   ]
  },
  {
   "cell_type": "code",
   "execution_count": 1,
   "metadata": {},
   "outputs": [
    {
     "name": "stdout",
     "output_type": "stream",
     "text": [
      "2.4.1\n",
      "0.12.0\n"
     ]
    }
   ],
   "source": [
    "import numpy as np\n",
    "import matplotlib.pyplot as plt\n",
    "\n",
    "import tensorflow as tf\n",
    "import tensorflow_hub as hub\n",
    "import tensorflow_datasets as tfds\n",
    "\n",
    "tfds.disable_progress_bar()\n",
    "\n",
    "print(tf.__version__)\n",
    "print(hub.__version__)"
   ]
  },
  {
   "cell_type": "markdown",
   "metadata": {},
   "source": [
    "## Carga de datos"
   ]
  },
  {
   "cell_type": "code",
   "execution_count": 2,
   "metadata": {},
   "outputs": [],
   "source": [
    "train_data, validation_data, test_data = tfds.load(\n",
    "    name=\"imdb_reviews\",\n",
    "    split=(\"train[:60%]\", \"train[60%:]\", \"test\"),\n",
    "    as_supervised=True,\n",
    ")"
   ]
  },
  {
   "cell_type": "markdown",
   "metadata": {},
   "source": [
    "## Exploración de datos"
   ]
  },
  {
   "cell_type": "code",
   "execution_count": 3,
   "metadata": {},
   "outputs": [
    {
     "name": "stdout",
     "output_type": "stream",
     "text": [
      "tf.Tensor(b\"This was an absolutely terrible movie. Don't be lured in by Christopher Walken or Michael Ironside. Both are great actors, but this must simply be their worst role in history. Even their great acting could not redeem this movie's ridiculous storyline. This movie is an early nineties US propaganda piece. The most pathetic scenes were those when the Columbian rebels were making their cases for revolutions. Maria Conchita Alonso appeared phony, and her pseudo-love affair with Walken was nothing but a pathetic emotional plug in a movie that was devoid of any real meaning. I am disappointed that there are movies like this, ruining actor's like Christopher Walken's good name. I could barely sit through it.\", shape=(), dtype=string)\n",
      "\n",
      "Review: tf.Tensor(0, shape=(), dtype=int64)\n",
      "------\n",
      "tf.Tensor(b'I have been known to fall asleep during films, but this is usually due to a combination of things including, really tired, being warm and comfortable on the sette and having just eaten a lot. However on this occasion I fell asleep because the film was rubbish. The plot development was constant. Constantly slow and boring. Things seemed to happen, but with no explanation of what was causing them or why. I admit, I may have missed part of the film, but i watched the majority of it and everything just seemed to happen of its own accord without any real concern for anything else. I cant recommend this film at all.', shape=(), dtype=string)\n",
      "\n",
      "Review: tf.Tensor(0, shape=(), dtype=int64)\n",
      "------\n",
      "tf.Tensor(b'Mann photographs the Alberta Rocky Mountains in a superb fashion, and Jimmy Stewart and Walter Brennan give enjoyable performances as they always seem to do. <br /><br />But come on Hollywood - a Mountie telling the people of Dawson City, Yukon to elect themselves a marshal (yes a marshal!) and to enforce the law themselves, then gunfighters battling it out on the streets for control of the town? <br /><br />Nothing even remotely resembling that happened on the Canadian side of the border during the Klondike gold rush. Mr. Mann and company appear to have mistaken Dawson City for Deadwood, the Canadian North for the American Wild West.<br /><br />Canadian viewers be prepared for a Reefer Madness type of enjoyable howl with this ludicrous plot, or, to shake your head in disgust.', shape=(), dtype=string)\n",
      "\n",
      "Review: tf.Tensor(0, shape=(), dtype=int64)\n",
      "------\n",
      "tf.Tensor(b'This is the kind of film for a snowy Sunday afternoon when the rest of the world can go ahead with its own business as you descend into a big arm-chair and mellow for a couple of hours. Wonderful performances from Cher and Nicolas Cage (as always) gently row the plot along. There are no rapids to cross, no dangerous waters, just a warm and witty paddle through New York life at its best. A family film in every sense and one that deserves the praise it received.', shape=(), dtype=string)\n",
      "\n",
      "Review: tf.Tensor(1, shape=(), dtype=int64)\n",
      "------\n",
      "tf.Tensor(b'As others have mentioned, all the women that go nude in this film are mostly absolutely gorgeous. The plot very ably shows the hypocrisy of the female libido. When men are around they want to be pursued, but when no \"men\" are around, they become the pursuers of a 14 year old boy. And the boy becomes a man really fast (we should all be so lucky at this age!). He then gets up the courage to pursue his true love.', shape=(), dtype=string)\n",
      "\n",
      "Review: tf.Tensor(1, shape=(), dtype=int64)\n",
      "------\n"
     ]
    }
   ],
   "source": [
    "#\n",
    "# Se mostran los primeros 5 datos del dataframe\n",
    "#\n",
    "train_examples_batch, train_labels_batch = next(iter(train_data.batch(5)))\n",
    "\n",
    "for txt, rev in zip(train_examples_batch, train_labels_batch):\n",
    "    print(txt)\n",
    "    print()\n",
    "    print('Review:', rev)\n",
    "    print('------')"
   ]
  },
  {
   "cell_type": "markdown",
   "metadata": {},
   "source": [
    "## Representación del texto con un embedding pre-entrenado"
   ]
  },
  {
   "cell_type": "code",
   "execution_count": 4,
   "metadata": {},
   "outputs": [
    {
     "data": {
      "text/plain": [
       "<tf.Tensor: shape=(3, 20), dtype=float32, numpy=\n",
       "array([[ 1.765786  , -3.882232  ,  3.9134233 , -1.5557289 , -3.3362343 ,\n",
       "        -1.7357955 , -1.9954445 ,  1.2989551 ,  5.081598  , -1.1041286 ,\n",
       "        -2.0503852 , -0.72675157, -0.65675956,  0.24436149, -3.7208383 ,\n",
       "         2.0954835 ,  2.2969332 , -2.0689783 , -2.9489717 , -1.1315987 ],\n",
       "       [ 1.8804485 , -2.5852382 ,  3.4066997 ,  1.0982676 , -4.056685  ,\n",
       "        -4.891284  , -2.785554  ,  1.3874227 ,  3.8476458 , -0.9256538 ,\n",
       "        -1.896706  ,  1.2113281 ,  0.11474707,  0.76209456, -4.8791065 ,\n",
       "         2.906149  ,  4.7087674 , -2.3652055 , -3.5015898 , -1.6390051 ],\n",
       "       [ 0.71152234, -0.6353217 ,  1.7385626 , -1.1168286 , -0.5451594 ,\n",
       "        -1.1808156 ,  0.09504455,  1.4653089 ,  0.66059524,  0.79308075,\n",
       "        -2.2268345 ,  0.07446612, -1.4075904 , -0.70645386, -1.907037  ,\n",
       "         1.4419787 ,  1.9551861 , -0.42660055, -2.8022065 ,  0.43727064]],\n",
       "      dtype=float32)>"
      ]
     },
     "execution_count": 4,
     "metadata": {},
     "output_type": "execute_result"
    }
   ],
   "source": [
    "# \n",
    "#  En este modelo se usa un modelo pre-entrenado de embedding llamado\n",
    "#  google/tf2-preview/gnews-swivel-20dim/1\n",
    "# \n",
    "#  https://tfhub.dev/google/tf2-preview/gnews-swivel-20dim/1\n",
    "#\n",
    "embedding_url = \"https://tfhub.dev/google/tf2-preview/gnews-swivel-20dim/1\"\n",
    "\n",
    "#\n",
    "#  La capa inicial de la red neuronal es el modelo de embedding para \n",
    "#  transfomar el texto en un vector numérico\n",
    "#\n",
    "hub_layer = hub.KerasLayer(embedding_url, input_shape=[], dtype=tf.string, trainable=True)\n",
    "\n",
    "#\n",
    "# Aplicación del embedding a los primeros tres ejemplos del dataset\n",
    "# \n",
    "hub_layer(train_examples_batch[:3])"
   ]
  },
  {
   "cell_type": "markdown",
   "metadata": {},
   "source": [
    "## Creación del modelo como una secuencia de capas"
   ]
  },
  {
   "cell_type": "code",
   "execution_count": 5,
   "metadata": {},
   "outputs": [
    {
     "name": "stdout",
     "output_type": "stream",
     "text": [
      "Model: \"sequential\"\n",
      "_________________________________________________________________\n",
      "Layer (type)                 Output Shape              Param #   \n",
      "=================================================================\n",
      "keras_layer (KerasLayer)     (None, 20)                400020    \n",
      "_________________________________________________________________\n",
      "dense (Dense)                (None, 16)                336       \n",
      "_________________________________________________________________\n",
      "dense_1 (Dense)              (None, 1)                 17        \n",
      "=================================================================\n",
      "Total params: 400,373\n",
      "Trainable params: 400,373\n",
      "Non-trainable params: 0\n",
      "_________________________________________________________________\n"
     ]
    }
   ],
   "source": [
    "#\n",
    "#  Note que se adicionan las capas una a una.\n",
    "#\n",
    "model = tf.keras.Sequential()\n",
    "model.add(hub_layer)\n",
    "model.add(tf.keras.layers.Dense(16, activation=\"relu\"))\n",
    "model.add(tf.keras.layers.Dense(1))\n",
    "\n",
    "#\n",
    "#  Las capas también podrían haberse adicionado como una lista:\n",
    "#\n",
    "#  model = keras.Sequential(\n",
    "#     [\n",
    "#         hub_layer\n",
    "#         tf.keras.layers.Dense(16, activation=\"relu\")\n",
    "#         tf.keras.layers.Dense(1)\n",
    "#     ]\n",
    "#  )\n",
    "#\n",
    "\n",
    "model.summary()"
   ]
  },
  {
   "cell_type": "markdown",
   "metadata": {},
   "source": [
    "## Compilación del modelo"
   ]
  },
  {
   "cell_type": "code",
   "execution_count": 6,
   "metadata": {},
   "outputs": [],
   "source": [
    "model.compile(\n",
    "    optimizer=\"adam\",\n",
    "    loss=tf.keras.losses.BinaryCrossentropy(from_logits=True),\n",
    "    metrics=[\"accuracy\"],\n",
    ")"
   ]
  },
  {
   "cell_type": "markdown",
   "metadata": {},
   "source": [
    "## Entrenamiento"
   ]
  },
  {
   "cell_type": "code",
   "execution_count": 7,
   "metadata": {},
   "outputs": [
    {
     "name": "stdout",
     "output_type": "stream",
     "text": [
      "Epoch 1/20\n",
      "30/30 [==============================] - 4s 103ms/step - loss: 1.4392 - accuracy: 0.4886 - val_loss: 0.8333 - val_accuracy: 0.4221\n",
      "Epoch 2/20\n",
      "30/30 [==============================] - 2s 48ms/step - loss: 0.7810 - accuracy: 0.4771 - val_loss: 0.7133 - val_accuracy: 0.5458\n",
      "Epoch 3/20\n",
      "30/30 [==============================] - 2s 47ms/step - loss: 0.6878 - accuracy: 0.5746 - val_loss: 0.6657 - val_accuracy: 0.5912\n",
      "Epoch 4/20\n",
      "30/30 [==============================] - 2s 49ms/step - loss: 0.6417 - accuracy: 0.6146 - val_loss: 0.6290 - val_accuracy: 0.6296\n",
      "Epoch 5/20\n",
      "30/30 [==============================] - 2s 47ms/step - loss: 0.6096 - accuracy: 0.6446 - val_loss: 0.5957 - val_accuracy: 0.6607\n",
      "Epoch 6/20\n",
      "30/30 [==============================] - 2s 49ms/step - loss: 0.5706 - accuracy: 0.6815 - val_loss: 0.5633 - val_accuracy: 0.6855\n",
      "Epoch 7/20\n",
      "30/30 [==============================] - 2s 48ms/step - loss: 0.5361 - accuracy: 0.7102 - val_loss: 0.5315 - val_accuracy: 0.7104\n",
      "Epoch 8/20\n",
      "30/30 [==============================] - 2s 50ms/step - loss: 0.5014 - accuracy: 0.7423 - val_loss: 0.5003 - val_accuracy: 0.7452\n",
      "Epoch 9/20\n",
      "30/30 [==============================] - 2s 50ms/step - loss: 0.4674 - accuracy: 0.7736 - val_loss: 0.4710 - val_accuracy: 0.7737\n",
      "Epoch 10/20\n",
      "30/30 [==============================] - 2s 51ms/step - loss: 0.4305 - accuracy: 0.8051 - val_loss: 0.4435 - val_accuracy: 0.7879\n",
      "Epoch 11/20\n",
      "30/30 [==============================] - 2s 50ms/step - loss: 0.3938 - accuracy: 0.8235 - val_loss: 0.4174 - val_accuracy: 0.8047\n",
      "Epoch 12/20\n",
      "30/30 [==============================] - 2s 48ms/step - loss: 0.3595 - accuracy: 0.8417 - val_loss: 0.3875 - val_accuracy: 0.8221\n",
      "Epoch 13/20\n",
      "30/30 [==============================] - 2s 47ms/step - loss: 0.3216 - accuracy: 0.8648 - val_loss: 0.3649 - val_accuracy: 0.8306\n",
      "Epoch 14/20\n",
      "30/30 [==============================] - 2s 48ms/step - loss: 0.2900 - accuracy: 0.8768 - val_loss: 0.3481 - val_accuracy: 0.8446\n",
      "Epoch 15/20\n",
      "30/30 [==============================] - 2s 49ms/step - loss: 0.2718 - accuracy: 0.8886 - val_loss: 0.3363 - val_accuracy: 0.8530\n",
      "Epoch 16/20\n",
      "30/30 [==============================] - 2s 47ms/step - loss: 0.2401 - accuracy: 0.9080 - val_loss: 0.3273 - val_accuracy: 0.8529\n",
      "Epoch 17/20\n",
      "30/30 [==============================] - 2s 47ms/step - loss: 0.2269 - accuracy: 0.9097 - val_loss: 0.3201 - val_accuracy: 0.8603\n",
      "Epoch 18/20\n",
      "30/30 [==============================] - 2s 49ms/step - loss: 0.2130 - accuracy: 0.9181 - val_loss: 0.3153 - val_accuracy: 0.8595\n",
      "Epoch 19/20\n",
      "30/30 [==============================] - 2s 48ms/step - loss: 0.1967 - accuracy: 0.9244 - val_loss: 0.3116 - val_accuracy: 0.8646\n",
      "Epoch 20/20\n",
      "30/30 [==============================] - 2s 48ms/step - loss: 0.1851 - accuracy: 0.9297 - val_loss: 0.3089 - val_accuracy: 0.8640\n"
     ]
    }
   ],
   "source": [
    "#\n",
    "#  history almacena la información relacionada con el entrenamiento\n",
    "#\n",
    "history = model.fit(\n",
    "    train_data.shuffle(10000).batch(512),\n",
    "    epochs=20,\n",
    "    validation_data=validation_data.batch(512),\n",
    "    verbose=1,\n",
    ")"
   ]
  },
  {
   "cell_type": "code",
   "execution_count": 8,
   "metadata": {},
   "outputs": [
    {
     "data": {
      "image/png": "[encoded data removed]",
      "text/plain": [
       "<Figure size 792x360 with 2 Axes>"
      ]
     },
     "metadata": {
      "needs_background": "light"
     },
     "output_type": "display_data"
    }
   ],
   "source": [
    "def plot_history(history):\n",
    "    \n",
    "    plt.figure(figsize=(11, 5))\n",
    "    \n",
    "    history_dict = history.history\n",
    "\n",
    "    acc = history_dict['accuracy']\n",
    "    val_acc = history_dict['val_accuracy']\n",
    "    loss = history_dict['loss']\n",
    "    val_loss = history_dict['val_loss']\n",
    "\n",
    "    #\n",
    "    # loss\n",
    "    #\n",
    "    plt.subplot(1, 2, 1)\n",
    "    epochs = range(1, len(acc) + 1)\n",
    "\n",
    "    plt.plot(epochs, loss, 'ko', label='Training loss')\n",
    "    plt.plot(epochs, val_loss, 'k', label='Validation loss')\n",
    "    plt.title('Training and validation loss')\n",
    "    plt.xlabel('Epochs')\n",
    "    plt.ylabel('Loss')\n",
    "    plt.legend()\n",
    "\n",
    "    #\n",
    "    # accuracy\n",
    "    #\n",
    "    plt.subplot(1, 2, 2)\n",
    "    plt.plot(epochs, acc, 'ko', label='Training acc')\n",
    "    plt.plot(epochs, val_acc, 'k', label='Validation acc')\n",
    "    plt.title('Training and validation accuracy')\n",
    "    plt.xlabel('Epochs')\n",
    "    plt.ylabel('Accuracy')\n",
    "    plt.legend(loc='lower right')\n",
    "\n",
    "    \n",
    "plot_history(history)"
   ]
  },
  {
   "cell_type": "markdown",
   "metadata": {},
   "source": [
    "## Evaluación"
   ]
  },
  {
   "cell_type": "code",
   "execution_count": 9,
   "metadata": {},
   "outputs": [
    {
     "name": "stdout",
     "output_type": "stream",
     "text": [
      "49/49 [==============================] - 3s 61ms/step - loss: 0.3216 - accuracy: 0.8553\n",
      "loss: 0.322\n",
      "accuracy: 0.855\n"
     ]
    }
   ],
   "source": [
    "results = model.evaluate(test_data.batch(512), verbose=1)\n",
    "\n",
    "for name, value in zip(model.metrics_names, results):\n",
    "    print(\"%s: %.3f\" % (name, value))"
   ]
  },
  {
   "cell_type": "markdown",
   "metadata": {},
   "source": [
    "**Ejercicio.---** Cambie la capa de embedding por:\n",
    "\n",
    "* google/tf2-preview/gnews-swivel-20dim-with-oov/1\n",
    "\n",
    "* google/tf2-preview/nnlm-en-dim50/1\n",
    "\n",
    "* google/tf2-preview/nnlm-en-dim128/1\n",
    "\n",
    "y compare los resultados"
   ]
  },
  {
   "cell_type": "markdown",
   "metadata": {},
   "source": [
    "**Ejercicio.---** ¿Cómo varía la precisión del modelo con la cantidad de neuronas de la capa oculta?"
   ]
  }
 ],
 "metadata": {
  "kernelspec": {
   "display_name": "Python 3 (ipykernel)",
   "language": "python",
   "name": "python3"
  },
  "language_info": {
   "codemirror_mode": {
    "name": "ipython",
    "version": 3
   },
   "file_extension": ".py",
   "mimetype": "text/x-python",
   "name": "python",
   "nbconvert_exporter": "python",
   "pygments_lexer": "ipython3",
   "version": "3.9.10"
  }
 },
 "nbformat": 4,
 "nbformat_minor": 4
}
