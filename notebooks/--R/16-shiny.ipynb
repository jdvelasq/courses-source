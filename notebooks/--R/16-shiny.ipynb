{
 "cells": [
  {
   "cell_type": "markdown",
   "metadata": {},
   "source": [
    "Shiny\n",
    "===\n"
   ]
  },
  {
   "cell_type": "markdown",
   "metadata": {},
   "source": [
    "**Bibliografía**.\n",
    "\n",
    "> Haga click [aquí](http://shiny.rstudio.com/tutorial/lesson1/) para acceder al tutorial escrito de RStudio.  \n",
    "Haga click [aquí](http://shiny.rstudio.com/tutorial/) para acceder a los videos del tutorial de RStudio.  \n",
    "Haga click [aquí](https://www.rstudio.com/resources/webinars/) para acceder a los webminars de RStudio.  \n",
    "\n"
   ]
  },
  {
   "cell_type": "markdown",
   "metadata": {},
   "source": [
    "`shiny`  es una librería para crear interfases de usuario en R, las cuales corren en una ventana del navegador de internet. `shiny` es desarrollado y mantenido por RStudio. A la fecha no hay reportes de como embeber una aplicación de `shiny` en un libro de Jupyter, por lo que se recomienda usar esta librería únicamente en RStudio.\n"
   ]
  }
 ],
 "metadata": {
  "kernelspec": {
   "display_name": "R",
   "language": "R",
   "name": "ir"
  },
  "language_info": {
   "codemirror_mode": "r",
   "file_extension": ".r",
   "mimetype": "text/x-r-source",
   "name": "R",
   "pygments_lexer": "r",
   "version": "3.4.4"
  }
 },
 "nbformat": 4,
 "nbformat_minor": 2
}
