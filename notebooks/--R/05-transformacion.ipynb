{
 "cells": [
  {
   "cell_type": "markdown",
   "metadata": {},
   "source": [
    "Transformación de Datos\n",
    "===\n",
    "\n",
    "* *30 min* | Última modificación: Junio 22, 2019"
   ]
  },
  {
   "cell_type": "markdown",
   "metadata": {},
   "source": [
    "**Bibliografía**.\n",
    "\n",
    "> [An introduction to R](https://cran.r-project.org/doc/manuals/R-intro.pdf) by W. N. Venables, D. M. Smith and the R Core Team  \n",
    "[Data wrangling with R and RStudio - dplyr](https://www.rstudio.com/resources/webinars/data-wrangling-with-r-and-rstudio/) "
   ]
  },
  {
   "cell_type": "markdown",
   "metadata": {},
   "source": [
    "**Datos de ejemplo.**"
   ]
  },
  {
   "cell_type": "code",
   "execution_count": 1,
   "metadata": {
    "scrolled": true
   },
   "outputs": [
    {
     "name": "stdout",
     "output_type": "stream",
     "text": [
      "'data.frame':\t150 obs. of  5 variables:\n",
      " $ Sepal.Length: num  5.1 4.9 4.7 4.6 5 5.4 4.6 5 4.4 4.9 ...\n",
      " $ Sepal.Width : num  3.5 3 3.2 3.1 3.6 3.9 3.4 3.4 2.9 3.1 ...\n",
      " $ Petal.Length: num  1.4 1.4 1.3 1.5 1.4 1.7 1.4 1.5 1.4 1.5 ...\n",
      " $ Petal.Width : num  0.2 0.2 0.2 0.2 0.2 0.4 0.3 0.2 0.2 0.1 ...\n",
      " $ Species     : Factor w/ 3 levels \"setosa\",\"versicolor\",..: 1 1 1 1 1 1 1 1 1 1 ...\n"
     ]
    }
   ],
   "source": [
    "x <- iris # copia del dataframe `iris`.\n",
    "str(x)    # información basica del dataframe."
   ]
  },
  {
   "cell_type": "markdown",
   "metadata": {},
   "source": [
    "## Tamaño del `data.frame` "
   ]
  },
  {
   "cell_type": "code",
   "execution_count": 2,
   "metadata": {},
   "outputs": [
    {
     "data": {
      "text/html": [
       "150"
      ],
      "text/latex": [
       "150"
      ],
      "text/markdown": [
       "150"
      ],
      "text/plain": [
       "[1] 150"
      ]
     },
     "metadata": {},
     "output_type": "display_data"
    }
   ],
   "source": [
    "## número de filas del dataframe\n",
    "nrow(x) "
   ]
  },
  {
   "cell_type": "code",
   "execution_count": 3,
   "metadata": {},
   "outputs": [
    {
     "data": {
      "text/html": [
       "5"
      ],
      "text/latex": [
       "5"
      ],
      "text/markdown": [
       "5"
      ],
      "text/plain": [
       "[1] 5"
      ]
     },
     "metadata": {},
     "output_type": "display_data"
    }
   ],
   "source": [
    "## número de columnas del dataframe\n",
    "ncol(x) "
   ]
  },
  {
   "cell_type": "code",
   "execution_count": 4,
   "metadata": {},
   "outputs": [
    {
     "data": {
      "text/html": [
       "5"
      ],
      "text/latex": [
       "5"
      ],
      "text/markdown": [
       "5"
      ],
      "text/plain": [
       "[1] 5"
      ]
     },
     "metadata": {},
     "output_type": "display_data"
    }
   ],
   "source": [
    "## número de columnas del dataframe\n",
    "length(x) "
   ]
  },
  {
   "cell_type": "markdown",
   "metadata": {},
   "source": [
    "## Indexación por nombres de filas y columnas"
   ]
  },
  {
   "cell_type": "code",
   "execution_count": 5,
   "metadata": {
    "scrolled": true
   },
   "outputs": [
    {
     "data": {
      "text/html": [
       "<table>\n",
       "<thead><tr><th scope=col>Sepal.Length</th><th scope=col>Sepal.Width</th><th scope=col>Petal.Length</th><th scope=col>Petal.Width</th><th scope=col>Species</th></tr></thead>\n",
       "<tbody>\n",
       "\t<tr><td>5.1   </td><td>3.5   </td><td>1.4   </td><td>0.2   </td><td>setosa</td></tr>\n",
       "\t<tr><td>4.9   </td><td>3.0   </td><td>1.4   </td><td>0.2   </td><td>setosa</td></tr>\n",
       "\t<tr><td>4.7   </td><td>3.2   </td><td>1.3   </td><td>0.2   </td><td>setosa</td></tr>\n",
       "\t<tr><td>4.6   </td><td>3.1   </td><td>1.5   </td><td>0.2   </td><td>setosa</td></tr>\n",
       "\t<tr><td>5.0   </td><td>3.6   </td><td>1.4   </td><td>0.2   </td><td>setosa</td></tr>\n",
       "\t<tr><td>5.4   </td><td>3.9   </td><td>1.7   </td><td>0.4   </td><td>setosa</td></tr>\n",
       "</tbody>\n",
       "</table>\n"
      ],
      "text/latex": [
       "\\begin{tabular}{r|lllll}\n",
       " Sepal.Length & Sepal.Width & Petal.Length & Petal.Width & Species\\\\\n",
       "\\hline\n",
       "\t 5.1    & 3.5    & 1.4    & 0.2    & setosa\\\\\n",
       "\t 4.9    & 3.0    & 1.4    & 0.2    & setosa\\\\\n",
       "\t 4.7    & 3.2    & 1.3    & 0.2    & setosa\\\\\n",
       "\t 4.6    & 3.1    & 1.5    & 0.2    & setosa\\\\\n",
       "\t 5.0    & 3.6    & 1.4    & 0.2    & setosa\\\\\n",
       "\t 5.4    & 3.9    & 1.7    & 0.4    & setosa\\\\\n",
       "\\end{tabular}\n"
      ],
      "text/markdown": [
       "\n",
       "Sepal.Length | Sepal.Width | Petal.Length | Petal.Width | Species | \n",
       "|---|---|---|---|---|---|\n",
       "| 5.1    | 3.5    | 1.4    | 0.2    | setosa | \n",
       "| 4.9    | 3.0    | 1.4    | 0.2    | setosa | \n",
       "| 4.7    | 3.2    | 1.3    | 0.2    | setosa | \n",
       "| 4.6    | 3.1    | 1.5    | 0.2    | setosa | \n",
       "| 5.0    | 3.6    | 1.4    | 0.2    | setosa | \n",
       "| 5.4    | 3.9    | 1.7    | 0.4    | setosa | \n",
       "\n",
       "\n"
      ],
      "text/plain": [
       "  Sepal.Length Sepal.Width Petal.Length Petal.Width Species\n",
       "1 5.1          3.5         1.4          0.2         setosa \n",
       "2 4.9          3.0         1.4          0.2         setosa \n",
       "3 4.7          3.2         1.3          0.2         setosa \n",
       "4 4.6          3.1         1.5          0.2         setosa \n",
       "5 5.0          3.6         1.4          0.2         setosa \n",
       "6 5.4          3.9         1.7          0.4         setosa "
      ]
     },
     "metadata": {},
     "output_type": "display_data"
    }
   ],
   "source": [
    "## parte inicial del dataframe\n",
    "head(x)"
   ]
  },
  {
   "cell_type": "code",
   "execution_count": 6,
   "metadata": {},
   "outputs": [
    {
     "data": {
      "text/html": [
       "<table>\n",
       "<thead><tr><th scope=col>Sepal.Length</th><th scope=col>Sepal.Width</th><th scope=col>Petal.Length</th><th scope=col>Petal.Width</th><th scope=col>Species</th></tr></thead>\n",
       "<tbody>\n",
       "\t<tr><td>5.1   </td><td>3.5   </td><td>1.4   </td><td>0.2   </td><td>setosa</td></tr>\n",
       "\t<tr><td>4.9   </td><td>3.0   </td><td>1.4   </td><td>0.2   </td><td>setosa</td></tr>\n",
       "\t<tr><td>4.7   </td><td>3.2   </td><td>1.3   </td><td>0.2   </td><td>setosa</td></tr>\n",
       "</tbody>\n",
       "</table>\n"
      ],
      "text/latex": [
       "\\begin{tabular}{r|lllll}\n",
       " Sepal.Length & Sepal.Width & Petal.Length & Petal.Width & Species\\\\\n",
       "\\hline\n",
       "\t 5.1    & 3.5    & 1.4    & 0.2    & setosa\\\\\n",
       "\t 4.9    & 3.0    & 1.4    & 0.2    & setosa\\\\\n",
       "\t 4.7    & 3.2    & 1.3    & 0.2    & setosa\\\\\n",
       "\\end{tabular}\n"
      ],
      "text/markdown": [
       "\n",
       "Sepal.Length | Sepal.Width | Petal.Length | Petal.Width | Species | \n",
       "|---|---|---|\n",
       "| 5.1    | 3.5    | 1.4    | 0.2    | setosa | \n",
       "| 4.9    | 3.0    | 1.4    | 0.2    | setosa | \n",
       "| 4.7    | 3.2    | 1.3    | 0.2    | setosa | \n",
       "\n",
       "\n"
      ],
      "text/plain": [
       "  Sepal.Length Sepal.Width Petal.Length Petal.Width Species\n",
       "1 5.1          3.5         1.4          0.2         setosa \n",
       "2 4.9          3.0         1.4          0.2         setosa \n",
       "3 4.7          3.2         1.3          0.2         setosa "
      ]
     },
     "metadata": {},
     "output_type": "display_data"
    }
   ],
   "source": [
    "## parte inicial del dataframe\n",
    "head(x, n = 3)"
   ]
  },
  {
   "cell_type": "code",
   "execution_count": 7,
   "metadata": {},
   "outputs": [
    {
     "data": {
      "text/html": [
       "<table>\n",
       "<thead><tr><th></th><th scope=col>Sepal.Length</th><th scope=col>Sepal.Width</th><th scope=col>Petal.Length</th><th scope=col>Petal.Width</th><th scope=col>Species</th></tr></thead>\n",
       "<tbody>\n",
       "\t<tr><th scope=row>145</th><td>6.7      </td><td>3.3      </td><td>5.7      </td><td>2.5      </td><td>virginica</td></tr>\n",
       "\t<tr><th scope=row>146</th><td>6.7      </td><td>3.0      </td><td>5.2      </td><td>2.3      </td><td>virginica</td></tr>\n",
       "\t<tr><th scope=row>147</th><td>6.3      </td><td>2.5      </td><td>5.0      </td><td>1.9      </td><td>virginica</td></tr>\n",
       "\t<tr><th scope=row>148</th><td>6.5      </td><td>3.0      </td><td>5.2      </td><td>2.0      </td><td>virginica</td></tr>\n",
       "\t<tr><th scope=row>149</th><td>6.2      </td><td>3.4      </td><td>5.4      </td><td>2.3      </td><td>virginica</td></tr>\n",
       "\t<tr><th scope=row>150</th><td>5.9      </td><td>3.0      </td><td>5.1      </td><td>1.8      </td><td>virginica</td></tr>\n",
       "</tbody>\n",
       "</table>\n"
      ],
      "text/latex": [
       "\\begin{tabular}{r|lllll}\n",
       "  & Sepal.Length & Sepal.Width & Petal.Length & Petal.Width & Species\\\\\n",
       "\\hline\n",
       "\t145 & 6.7       & 3.3       & 5.7       & 2.5       & virginica\\\\\n",
       "\t146 & 6.7       & 3.0       & 5.2       & 2.3       & virginica\\\\\n",
       "\t147 & 6.3       & 2.5       & 5.0       & 1.9       & virginica\\\\\n",
       "\t148 & 6.5       & 3.0       & 5.2       & 2.0       & virginica\\\\\n",
       "\t149 & 6.2       & 3.4       & 5.4       & 2.3       & virginica\\\\\n",
       "\t150 & 5.9       & 3.0       & 5.1       & 1.8       & virginica\\\\\n",
       "\\end{tabular}\n"
      ],
      "text/markdown": [
       "\n",
       "| <!--/--> | Sepal.Length | Sepal.Width | Petal.Length | Petal.Width | Species | \n",
       "|---|---|---|---|---|---|\n",
       "| 145 | 6.7       | 3.3       | 5.7       | 2.5       | virginica | \n",
       "| 146 | 6.7       | 3.0       | 5.2       | 2.3       | virginica | \n",
       "| 147 | 6.3       | 2.5       | 5.0       | 1.9       | virginica | \n",
       "| 148 | 6.5       | 3.0       | 5.2       | 2.0       | virginica | \n",
       "| 149 | 6.2       | 3.4       | 5.4       | 2.3       | virginica | \n",
       "| 150 | 5.9       | 3.0       | 5.1       | 1.8       | virginica | \n",
       "\n",
       "\n"
      ],
      "text/plain": [
       "    Sepal.Length Sepal.Width Petal.Length Petal.Width Species  \n",
       "145 6.7          3.3         5.7          2.5         virginica\n",
       "146 6.7          3.0         5.2          2.3         virginica\n",
       "147 6.3          2.5         5.0          1.9         virginica\n",
       "148 6.5          3.0         5.2          2.0         virginica\n",
       "149 6.2          3.4         5.4          2.3         virginica\n",
       "150 5.9          3.0         5.1          1.8         virginica"
      ]
     },
     "metadata": {},
     "output_type": "display_data"
    }
   ],
   "source": [
    "## parte final del dataframe\n",
    "tail(x)"
   ]
  },
  {
   "cell_type": "code",
   "execution_count": 8,
   "metadata": {},
   "outputs": [
    {
     "data": {
      "text/html": [
       "<table>\n",
       "<thead><tr><th></th><th scope=col>Sepal.Length</th><th scope=col>Sepal.Width</th><th scope=col>Petal.Length</th><th scope=col>Petal.Width</th><th scope=col>Species</th></tr></thead>\n",
       "<tbody>\n",
       "\t<tr><th scope=row>148</th><td>6.5      </td><td>3.0      </td><td>5.2      </td><td>2.0      </td><td>virginica</td></tr>\n",
       "\t<tr><th scope=row>149</th><td>6.2      </td><td>3.4      </td><td>5.4      </td><td>2.3      </td><td>virginica</td></tr>\n",
       "\t<tr><th scope=row>150</th><td>5.9      </td><td>3.0      </td><td>5.1      </td><td>1.8      </td><td>virginica</td></tr>\n",
       "</tbody>\n",
       "</table>\n"
      ],
      "text/latex": [
       "\\begin{tabular}{r|lllll}\n",
       "  & Sepal.Length & Sepal.Width & Petal.Length & Petal.Width & Species\\\\\n",
       "\\hline\n",
       "\t148 & 6.5       & 3.0       & 5.2       & 2.0       & virginica\\\\\n",
       "\t149 & 6.2       & 3.4       & 5.4       & 2.3       & virginica\\\\\n",
       "\t150 & 5.9       & 3.0       & 5.1       & 1.8       & virginica\\\\\n",
       "\\end{tabular}\n"
      ],
      "text/markdown": [
       "\n",
       "| <!--/--> | Sepal.Length | Sepal.Width | Petal.Length | Petal.Width | Species | \n",
       "|---|---|---|\n",
       "| 148 | 6.5       | 3.0       | 5.2       | 2.0       | virginica | \n",
       "| 149 | 6.2       | 3.4       | 5.4       | 2.3       | virginica | \n",
       "| 150 | 5.9       | 3.0       | 5.1       | 1.8       | virginica | \n",
       "\n",
       "\n"
      ],
      "text/plain": [
       "    Sepal.Length Sepal.Width Petal.Length Petal.Width Species  \n",
       "148 6.5          3.0         5.2          2.0         virginica\n",
       "149 6.2          3.4         5.4          2.3         virginica\n",
       "150 5.9          3.0         5.1          1.8         virginica"
      ]
     },
     "metadata": {},
     "output_type": "display_data"
    }
   ],
   "source": [
    "## parte final del dataframe\n",
    "tail(x, n = 3)"
   ]
  },
  {
   "cell_type": "code",
   "execution_count": 9,
   "metadata": {},
   "outputs": [
    {
     "data": {
      "text/html": [
       "<ol class=list-inline>\n",
       "\t<li>'Sepal.Length'</li>\n",
       "\t<li>'Sepal.Width'</li>\n",
       "\t<li>'Petal.Length'</li>\n",
       "\t<li>'Petal.Width'</li>\n",
       "\t<li>'Species'</li>\n",
       "</ol>\n"
      ],
      "text/latex": [
       "\\begin{enumerate*}\n",
       "\\item 'Sepal.Length'\n",
       "\\item 'Sepal.Width'\n",
       "\\item 'Petal.Length'\n",
       "\\item 'Petal.Width'\n",
       "\\item 'Species'\n",
       "\\end{enumerate*}\n"
      ],
      "text/markdown": [
       "1. 'Sepal.Length'\n",
       "2. 'Sepal.Width'\n",
       "3. 'Petal.Length'\n",
       "4. 'Petal.Width'\n",
       "5. 'Species'\n",
       "\n",
       "\n"
      ],
      "text/plain": [
       "[1] \"Sepal.Length\" \"Sepal.Width\"  \"Petal.Length\" \"Petal.Width\"  \"Species\"     "
      ]
     },
     "metadata": {},
     "output_type": "display_data"
    }
   ],
   "source": [
    "## nombres de las columnas \n",
    "names(x)"
   ]
  },
  {
   "cell_type": "code",
   "execution_count": 10,
   "metadata": {
    "scrolled": true
   },
   "outputs": [
    {
     "data": {
      "text/html": [
       "<ol class=list-inline>\n",
       "\t<li>'1'</li>\n",
       "\t<li>'2'</li>\n",
       "\t<li>'3'</li>\n",
       "\t<li>'4'</li>\n",
       "\t<li>'5'</li>\n",
       "\t<li>'6'</li>\n",
       "\t<li>'7'</li>\n",
       "\t<li>'8'</li>\n",
       "\t<li>'9'</li>\n",
       "\t<li>'10'</li>\n",
       "\t<li>'11'</li>\n",
       "\t<li>'12'</li>\n",
       "\t<li>'13'</li>\n",
       "\t<li>'14'</li>\n",
       "\t<li>'15'</li>\n",
       "\t<li>'16'</li>\n",
       "\t<li>'17'</li>\n",
       "\t<li>'18'</li>\n",
       "\t<li>'19'</li>\n",
       "\t<li>'20'</li>\n",
       "\t<li>'21'</li>\n",
       "\t<li>'22'</li>\n",
       "\t<li>'23'</li>\n",
       "\t<li>'24'</li>\n",
       "\t<li>'25'</li>\n",
       "\t<li>'26'</li>\n",
       "\t<li>'27'</li>\n",
       "\t<li>'28'</li>\n",
       "\t<li>'29'</li>\n",
       "\t<li>'30'</li>\n",
       "\t<li>'31'</li>\n",
       "\t<li>'32'</li>\n",
       "\t<li>'33'</li>\n",
       "\t<li>'34'</li>\n",
       "\t<li>'35'</li>\n",
       "\t<li>'36'</li>\n",
       "\t<li>'37'</li>\n",
       "\t<li>'38'</li>\n",
       "\t<li>'39'</li>\n",
       "\t<li>'40'</li>\n",
       "\t<li>'41'</li>\n",
       "\t<li>'42'</li>\n",
       "\t<li>'43'</li>\n",
       "\t<li>'44'</li>\n",
       "\t<li>'45'</li>\n",
       "\t<li>'46'</li>\n",
       "\t<li>'47'</li>\n",
       "\t<li>'48'</li>\n",
       "\t<li>'49'</li>\n",
       "\t<li>'50'</li>\n",
       "\t<li>'51'</li>\n",
       "\t<li>'52'</li>\n",
       "\t<li>'53'</li>\n",
       "\t<li>'54'</li>\n",
       "\t<li>'55'</li>\n",
       "\t<li>'56'</li>\n",
       "\t<li>'57'</li>\n",
       "\t<li>'58'</li>\n",
       "\t<li>'59'</li>\n",
       "\t<li>'60'</li>\n",
       "\t<li>'61'</li>\n",
       "\t<li>'62'</li>\n",
       "\t<li>'63'</li>\n",
       "\t<li>'64'</li>\n",
       "\t<li>'65'</li>\n",
       "\t<li>'66'</li>\n",
       "\t<li>'67'</li>\n",
       "\t<li>'68'</li>\n",
       "\t<li>'69'</li>\n",
       "\t<li>'70'</li>\n",
       "\t<li>'71'</li>\n",
       "\t<li>'72'</li>\n",
       "\t<li>'73'</li>\n",
       "\t<li>'74'</li>\n",
       "\t<li>'75'</li>\n",
       "\t<li>'76'</li>\n",
       "\t<li>'77'</li>\n",
       "\t<li>'78'</li>\n",
       "\t<li>'79'</li>\n",
       "\t<li>'80'</li>\n",
       "\t<li>'81'</li>\n",
       "\t<li>'82'</li>\n",
       "\t<li>'83'</li>\n",
       "\t<li>'84'</li>\n",
       "\t<li>'85'</li>\n",
       "\t<li>'86'</li>\n",
       "\t<li>'87'</li>\n",
       "\t<li>'88'</li>\n",
       "\t<li>'89'</li>\n",
       "\t<li>'90'</li>\n",
       "\t<li>'91'</li>\n",
       "\t<li>'92'</li>\n",
       "\t<li>'93'</li>\n",
       "\t<li>'94'</li>\n",
       "\t<li>'95'</li>\n",
       "\t<li>'96'</li>\n",
       "\t<li>'97'</li>\n",
       "\t<li>'98'</li>\n",
       "\t<li>'99'</li>\n",
       "\t<li>'100'</li>\n",
       "\t<li>'101'</li>\n",
       "\t<li>'102'</li>\n",
       "\t<li>'103'</li>\n",
       "\t<li>'104'</li>\n",
       "\t<li>'105'</li>\n",
       "\t<li>'106'</li>\n",
       "\t<li>'107'</li>\n",
       "\t<li>'108'</li>\n",
       "\t<li>'109'</li>\n",
       "\t<li>'110'</li>\n",
       "\t<li>'111'</li>\n",
       "\t<li>'112'</li>\n",
       "\t<li>'113'</li>\n",
       "\t<li>'114'</li>\n",
       "\t<li>'115'</li>\n",
       "\t<li>'116'</li>\n",
       "\t<li>'117'</li>\n",
       "\t<li>'118'</li>\n",
       "\t<li>'119'</li>\n",
       "\t<li>'120'</li>\n",
       "\t<li>'121'</li>\n",
       "\t<li>'122'</li>\n",
       "\t<li>'123'</li>\n",
       "\t<li>'124'</li>\n",
       "\t<li>'125'</li>\n",
       "\t<li>'126'</li>\n",
       "\t<li>'127'</li>\n",
       "\t<li>'128'</li>\n",
       "\t<li>'129'</li>\n",
       "\t<li>'130'</li>\n",
       "\t<li>'131'</li>\n",
       "\t<li>'132'</li>\n",
       "\t<li>'133'</li>\n",
       "\t<li>'134'</li>\n",
       "\t<li>'135'</li>\n",
       "\t<li>'136'</li>\n",
       "\t<li>'137'</li>\n",
       "\t<li>'138'</li>\n",
       "\t<li>'139'</li>\n",
       "\t<li>'140'</li>\n",
       "\t<li>'141'</li>\n",
       "\t<li>'142'</li>\n",
       "\t<li>'143'</li>\n",
       "\t<li>'144'</li>\n",
       "\t<li>'145'</li>\n",
       "\t<li>'146'</li>\n",
       "\t<li>'147'</li>\n",
       "\t<li>'148'</li>\n",
       "\t<li>'149'</li>\n",
       "\t<li>'150'</li>\n",
       "</ol>\n"
      ],
      "text/latex": [
       "\\begin{enumerate*}\n",
       "\\item '1'\n",
       "\\item '2'\n",
       "\\item '3'\n",
       "\\item '4'\n",
       "\\item '5'\n",
       "\\item '6'\n",
       "\\item '7'\n",
       "\\item '8'\n",
       "\\item '9'\n",
       "\\item '10'\n",
       "\\item '11'\n",
       "\\item '12'\n",
       "\\item '13'\n",
       "\\item '14'\n",
       "\\item '15'\n",
       "\\item '16'\n",
       "\\item '17'\n",
       "\\item '18'\n",
       "\\item '19'\n",
       "\\item '20'\n",
       "\\item '21'\n",
       "\\item '22'\n",
       "\\item '23'\n",
       "\\item '24'\n",
       "\\item '25'\n",
       "\\item '26'\n",
       "\\item '27'\n",
       "\\item '28'\n",
       "\\item '29'\n",
       "\\item '30'\n",
       "\\item '31'\n",
       "\\item '32'\n",
       "\\item '33'\n",
       "\\item '34'\n",
       "\\item '35'\n",
       "\\item '36'\n",
       "\\item '37'\n",
       "\\item '38'\n",
       "\\item '39'\n",
       "\\item '40'\n",
       "\\item '41'\n",
       "\\item '42'\n",
       "\\item '43'\n",
       "\\item '44'\n",
       "\\item '45'\n",
       "\\item '46'\n",
       "\\item '47'\n",
       "\\item '48'\n",
       "\\item '49'\n",
       "\\item '50'\n",
       "\\item '51'\n",
       "\\item '52'\n",
       "\\item '53'\n",
       "\\item '54'\n",
       "\\item '55'\n",
       "\\item '56'\n",
       "\\item '57'\n",
       "\\item '58'\n",
       "\\item '59'\n",
       "\\item '60'\n",
       "\\item '61'\n",
       "\\item '62'\n",
       "\\item '63'\n",
       "\\item '64'\n",
       "\\item '65'\n",
       "\\item '66'\n",
       "\\item '67'\n",
       "\\item '68'\n",
       "\\item '69'\n",
       "\\item '70'\n",
       "\\item '71'\n",
       "\\item '72'\n",
       "\\item '73'\n",
       "\\item '74'\n",
       "\\item '75'\n",
       "\\item '76'\n",
       "\\item '77'\n",
       "\\item '78'\n",
       "\\item '79'\n",
       "\\item '80'\n",
       "\\item '81'\n",
       "\\item '82'\n",
       "\\item '83'\n",
       "\\item '84'\n",
       "\\item '85'\n",
       "\\item '86'\n",
       "\\item '87'\n",
       "\\item '88'\n",
       "\\item '89'\n",
       "\\item '90'\n",
       "\\item '91'\n",
       "\\item '92'\n",
       "\\item '93'\n",
       "\\item '94'\n",
       "\\item '95'\n",
       "\\item '96'\n",
       "\\item '97'\n",
       "\\item '98'\n",
       "\\item '99'\n",
       "\\item '100'\n",
       "\\item '101'\n",
       "\\item '102'\n",
       "\\item '103'\n",
       "\\item '104'\n",
       "\\item '105'\n",
       "\\item '106'\n",
       "\\item '107'\n",
       "\\item '108'\n",
       "\\item '109'\n",
       "\\item '110'\n",
       "\\item '111'\n",
       "\\item '112'\n",
       "\\item '113'\n",
       "\\item '114'\n",
       "\\item '115'\n",
       "\\item '116'\n",
       "\\item '117'\n",
       "\\item '118'\n",
       "\\item '119'\n",
       "\\item '120'\n",
       "\\item '121'\n",
       "\\item '122'\n",
       "\\item '123'\n",
       "\\item '124'\n",
       "\\item '125'\n",
       "\\item '126'\n",
       "\\item '127'\n",
       "\\item '128'\n",
       "\\item '129'\n",
       "\\item '130'\n",
       "\\item '131'\n",
       "\\item '132'\n",
       "\\item '133'\n",
       "\\item '134'\n",
       "\\item '135'\n",
       "\\item '136'\n",
       "\\item '137'\n",
       "\\item '138'\n",
       "\\item '139'\n",
       "\\item '140'\n",
       "\\item '141'\n",
       "\\item '142'\n",
       "\\item '143'\n",
       "\\item '144'\n",
       "\\item '145'\n",
       "\\item '146'\n",
       "\\item '147'\n",
       "\\item '148'\n",
       "\\item '149'\n",
       "\\item '150'\n",
       "\\end{enumerate*}\n"
      ],
      "text/markdown": [
       "1. '1'\n",
       "2. '2'\n",
       "3. '3'\n",
       "4. '4'\n",
       "5. '5'\n",
       "6. '6'\n",
       "7. '7'\n",
       "8. '8'\n",
       "9. '9'\n",
       "10. '10'\n",
       "11. '11'\n",
       "12. '12'\n",
       "13. '13'\n",
       "14. '14'\n",
       "15. '15'\n",
       "16. '16'\n",
       "17. '17'\n",
       "18. '18'\n",
       "19. '19'\n",
       "20. '20'\n",
       "21. '21'\n",
       "22. '22'\n",
       "23. '23'\n",
       "24. '24'\n",
       "25. '25'\n",
       "26. '26'\n",
       "27. '27'\n",
       "28. '28'\n",
       "29. '29'\n",
       "30. '30'\n",
       "31. '31'\n",
       "32. '32'\n",
       "33. '33'\n",
       "34. '34'\n",
       "35. '35'\n",
       "36. '36'\n",
       "37. '37'\n",
       "38. '38'\n",
       "39. '39'\n",
       "40. '40'\n",
       "41. '41'\n",
       "42. '42'\n",
       "43. '43'\n",
       "44. '44'\n",
       "45. '45'\n",
       "46. '46'\n",
       "47. '47'\n",
       "48. '48'\n",
       "49. '49'\n",
       "50. '50'\n",
       "51. '51'\n",
       "52. '52'\n",
       "53. '53'\n",
       "54. '54'\n",
       "55. '55'\n",
       "56. '56'\n",
       "57. '57'\n",
       "58. '58'\n",
       "59. '59'\n",
       "60. '60'\n",
       "61. '61'\n",
       "62. '62'\n",
       "63. '63'\n",
       "64. '64'\n",
       "65. '65'\n",
       "66. '66'\n",
       "67. '67'\n",
       "68. '68'\n",
       "69. '69'\n",
       "70. '70'\n",
       "71. '71'\n",
       "72. '72'\n",
       "73. '73'\n",
       "74. '74'\n",
       "75. '75'\n",
       "76. '76'\n",
       "77. '77'\n",
       "78. '78'\n",
       "79. '79'\n",
       "80. '80'\n",
       "81. '81'\n",
       "82. '82'\n",
       "83. '83'\n",
       "84. '84'\n",
       "85. '85'\n",
       "86. '86'\n",
       "87. '87'\n",
       "88. '88'\n",
       "89. '89'\n",
       "90. '90'\n",
       "91. '91'\n",
       "92. '92'\n",
       "93. '93'\n",
       "94. '94'\n",
       "95. '95'\n",
       "96. '96'\n",
       "97. '97'\n",
       "98. '98'\n",
       "99. '99'\n",
       "100. '100'\n",
       "101. '101'\n",
       "102. '102'\n",
       "103. '103'\n",
       "104. '104'\n",
       "105. '105'\n",
       "106. '106'\n",
       "107. '107'\n",
       "108. '108'\n",
       "109. '109'\n",
       "110. '110'\n",
       "111. '111'\n",
       "112. '112'\n",
       "113. '113'\n",
       "114. '114'\n",
       "115. '115'\n",
       "116. '116'\n",
       "117. '117'\n",
       "118. '118'\n",
       "119. '119'\n",
       "120. '120'\n",
       "121. '121'\n",
       "122. '122'\n",
       "123. '123'\n",
       "124. '124'\n",
       "125. '125'\n",
       "126. '126'\n",
       "127. '127'\n",
       "128. '128'\n",
       "129. '129'\n",
       "130. '130'\n",
       "131. '131'\n",
       "132. '132'\n",
       "133. '133'\n",
       "134. '134'\n",
       "135. '135'\n",
       "136. '136'\n",
       "137. '137'\n",
       "138. '138'\n",
       "139. '139'\n",
       "140. '140'\n",
       "141. '141'\n",
       "142. '142'\n",
       "143. '143'\n",
       "144. '144'\n",
       "145. '145'\n",
       "146. '146'\n",
       "147. '147'\n",
       "148. '148'\n",
       "149. '149'\n",
       "150. '150'\n",
       "\n",
       "\n"
      ],
      "text/plain": [
       "  [1] \"1\"   \"2\"   \"3\"   \"4\"   \"5\"   \"6\"   \"7\"   \"8\"   \"9\"   \"10\"  \"11\"  \"12\" \n",
       " [13] \"13\"  \"14\"  \"15\"  \"16\"  \"17\"  \"18\"  \"19\"  \"20\"  \"21\"  \"22\"  \"23\"  \"24\" \n",
       " [25] \"25\"  \"26\"  \"27\"  \"28\"  \"29\"  \"30\"  \"31\"  \"32\"  \"33\"  \"34\"  \"35\"  \"36\" \n",
       " [37] \"37\"  \"38\"  \"39\"  \"40\"  \"41\"  \"42\"  \"43\"  \"44\"  \"45\"  \"46\"  \"47\"  \"48\" \n",
       " [49] \"49\"  \"50\"  \"51\"  \"52\"  \"53\"  \"54\"  \"55\"  \"56\"  \"57\"  \"58\"  \"59\"  \"60\" \n",
       " [61] \"61\"  \"62\"  \"63\"  \"64\"  \"65\"  \"66\"  \"67\"  \"68\"  \"69\"  \"70\"  \"71\"  \"72\" \n",
       " [73] \"73\"  \"74\"  \"75\"  \"76\"  \"77\"  \"78\"  \"79\"  \"80\"  \"81\"  \"82\"  \"83\"  \"84\" \n",
       " [85] \"85\"  \"86\"  \"87\"  \"88\"  \"89\"  \"90\"  \"91\"  \"92\"  \"93\"  \"94\"  \"95\"  \"96\" \n",
       " [97] \"97\"  \"98\"  \"99\"  \"100\" \"101\" \"102\" \"103\" \"104\" \"105\" \"106\" \"107\" \"108\"\n",
       "[109] \"109\" \"110\" \"111\" \"112\" \"113\" \"114\" \"115\" \"116\" \"117\" \"118\" \"119\" \"120\"\n",
       "[121] \"121\" \"122\" \"123\" \"124\" \"125\" \"126\" \"127\" \"128\" \"129\" \"130\" \"131\" \"132\"\n",
       "[133] \"133\" \"134\" \"135\" \"136\" \"137\" \"138\" \"139\" \"140\" \"141\" \"142\" \"143\" \"144\"\n",
       "[145] \"145\" \"146\" \"147\" \"148\" \"149\" \"150\""
      ]
     },
     "metadata": {},
     "output_type": "display_data"
    }
   ],
   "source": [
    "## nombres de las filas\n",
    "row.names(x)"
   ]
  },
  {
   "cell_type": "code",
   "execution_count": 11,
   "metadata": {
    "scrolled": true
   },
   "outputs": [
    {
     "data": {
      "text/html": [
       "<table>\n",
       "<thead><tr><th scope=col>Sepal.Length</th><th scope=col>Sepal.Width</th><th scope=col>Petal.Length</th><th scope=col>Petal.Width</th><th scope=col>Species</th><th scope=col>n</th></tr></thead>\n",
       "<tbody>\n",
       "\t<tr><td>5.1   </td><td>3.5   </td><td>1.4   </td><td>0.2   </td><td>setosa</td><td>1     </td></tr>\n",
       "\t<tr><td>4.9   </td><td>3.0   </td><td>1.4   </td><td>0.2   </td><td>setosa</td><td>1     </td></tr>\n",
       "\t<tr><td>4.7   </td><td>3.2   </td><td>1.3   </td><td>0.2   </td><td>setosa</td><td>1     </td></tr>\n",
       "\t<tr><td>4.6   </td><td>3.1   </td><td>1.5   </td><td>0.2   </td><td>setosa</td><td>1     </td></tr>\n",
       "\t<tr><td>5.0   </td><td>3.6   </td><td>1.4   </td><td>0.2   </td><td>setosa</td><td>1     </td></tr>\n",
       "\t<tr><td>5.4   </td><td>3.9   </td><td>1.7   </td><td>0.4   </td><td>setosa</td><td>1     </td></tr>\n",
       "</tbody>\n",
       "</table>\n"
      ],
      "text/latex": [
       "\\begin{tabular}{r|llllll}\n",
       " Sepal.Length & Sepal.Width & Petal.Length & Petal.Width & Species & n\\\\\n",
       "\\hline\n",
       "\t 5.1    & 3.5    & 1.4    & 0.2    & setosa & 1     \\\\\n",
       "\t 4.9    & 3.0    & 1.4    & 0.2    & setosa & 1     \\\\\n",
       "\t 4.7    & 3.2    & 1.3    & 0.2    & setosa & 1     \\\\\n",
       "\t 4.6    & 3.1    & 1.5    & 0.2    & setosa & 1     \\\\\n",
       "\t 5.0    & 3.6    & 1.4    & 0.2    & setosa & 1     \\\\\n",
       "\t 5.4    & 3.9    & 1.7    & 0.4    & setosa & 1     \\\\\n",
       "\\end{tabular}\n"
      ],
      "text/markdown": [
       "\n",
       "Sepal.Length | Sepal.Width | Petal.Length | Petal.Width | Species | n | \n",
       "|---|---|---|---|---|---|\n",
       "| 5.1    | 3.5    | 1.4    | 0.2    | setosa | 1      | \n",
       "| 4.9    | 3.0    | 1.4    | 0.2    | setosa | 1      | \n",
       "| 4.7    | 3.2    | 1.3    | 0.2    | setosa | 1      | \n",
       "| 4.6    | 3.1    | 1.5    | 0.2    | setosa | 1      | \n",
       "| 5.0    | 3.6    | 1.4    | 0.2    | setosa | 1      | \n",
       "| 5.4    | 3.9    | 1.7    | 0.4    | setosa | 1      | \n",
       "\n",
       "\n"
      ],
      "text/plain": [
       "  Sepal.Length Sepal.Width Petal.Length Petal.Width Species n\n",
       "1 5.1          3.5         1.4          0.2         setosa  1\n",
       "2 4.9          3.0         1.4          0.2         setosa  1\n",
       "3 4.7          3.2         1.3          0.2         setosa  1\n",
       "4 4.6          3.1         1.5          0.2         setosa  1\n",
       "5 5.0          3.6         1.4          0.2         setosa  1\n",
       "6 5.4          3.9         1.7          0.4         setosa  1"
      ]
     },
     "metadata": {},
     "output_type": "display_data"
    }
   ],
   "source": [
    "## creación de una nueva columna\n",
    "x$n <- 1  \n",
    "head(x)"
   ]
  },
  {
   "cell_type": "code",
   "execution_count": 12,
   "metadata": {},
   "outputs": [
    {
     "data": {
      "text/html": [
       "<table>\n",
       "<thead><tr><th scope=col>Sepal.Length</th><th scope=col>Sepal.Width</th><th scope=col>Petal.Length</th><th scope=col>Petal.Width</th><th scope=col>Species</th><th scope=col>n</th><th scope=col>m</th></tr></thead>\n",
       "<tbody>\n",
       "\t<tr><td>5.1   </td><td>3.5   </td><td>1.4   </td><td>0.2   </td><td>setosa</td><td>1     </td><td>1     </td></tr>\n",
       "\t<tr><td>4.9   </td><td>3.0   </td><td>1.4   </td><td>0.2   </td><td>setosa</td><td>1     </td><td>1     </td></tr>\n",
       "\t<tr><td>4.7   </td><td>3.2   </td><td>1.3   </td><td>0.2   </td><td>setosa</td><td>1     </td><td>1     </td></tr>\n",
       "\t<tr><td>4.6   </td><td>3.1   </td><td>1.5   </td><td>0.2   </td><td>setosa</td><td>1     </td><td>1     </td></tr>\n",
       "\t<tr><td>5.0   </td><td>3.6   </td><td>1.4   </td><td>0.2   </td><td>setosa</td><td>1     </td><td>1     </td></tr>\n",
       "\t<tr><td>5.4   </td><td>3.9   </td><td>1.7   </td><td>0.4   </td><td>setosa</td><td>1     </td><td>1     </td></tr>\n",
       "</tbody>\n",
       "</table>\n"
      ],
      "text/latex": [
       "\\begin{tabular}{r|lllllll}\n",
       " Sepal.Length & Sepal.Width & Petal.Length & Petal.Width & Species & n & m\\\\\n",
       "\\hline\n",
       "\t 5.1    & 3.5    & 1.4    & 0.2    & setosa & 1      & 1     \\\\\n",
       "\t 4.9    & 3.0    & 1.4    & 0.2    & setosa & 1      & 1     \\\\\n",
       "\t 4.7    & 3.2    & 1.3    & 0.2    & setosa & 1      & 1     \\\\\n",
       "\t 4.6    & 3.1    & 1.5    & 0.2    & setosa & 1      & 1     \\\\\n",
       "\t 5.0    & 3.6    & 1.4    & 0.2    & setosa & 1      & 1     \\\\\n",
       "\t 5.4    & 3.9    & 1.7    & 0.4    & setosa & 1      & 1     \\\\\n",
       "\\end{tabular}\n"
      ],
      "text/markdown": [
       "\n",
       "Sepal.Length | Sepal.Width | Petal.Length | Petal.Width | Species | n | m | \n",
       "|---|---|---|---|---|---|\n",
       "| 5.1    | 3.5    | 1.4    | 0.2    | setosa | 1      | 1      | \n",
       "| 4.9    | 3.0    | 1.4    | 0.2    | setosa | 1      | 1      | \n",
       "| 4.7    | 3.2    | 1.3    | 0.2    | setosa | 1      | 1      | \n",
       "| 4.6    | 3.1    | 1.5    | 0.2    | setosa | 1      | 1      | \n",
       "| 5.0    | 3.6    | 1.4    | 0.2    | setosa | 1      | 1      | \n",
       "| 5.4    | 3.9    | 1.7    | 0.4    | setosa | 1      | 1      | \n",
       "\n",
       "\n"
      ],
      "text/plain": [
       "  Sepal.Length Sepal.Width Petal.Length Petal.Width Species n m\n",
       "1 5.1          3.5         1.4          0.2         setosa  1 1\n",
       "2 4.9          3.0         1.4          0.2         setosa  1 1\n",
       "3 4.7          3.2         1.3          0.2         setosa  1 1\n",
       "4 4.6          3.1         1.5          0.2         setosa  1 1\n",
       "5 5.0          3.6         1.4          0.2         setosa  1 1\n",
       "6 5.4          3.9         1.7          0.4         setosa  1 1"
      ]
     },
     "metadata": {},
     "output_type": "display_data"
    }
   ],
   "source": [
    "## creación de una nueva columna\n",
    "x <- cbind(x, m = 1)\n",
    "head(x)"
   ]
  },
  {
   "cell_type": "code",
   "execution_count": 13,
   "metadata": {
    "scrolled": true
   },
   "outputs": [
    {
     "data": {
      "text/html": [
       "<table>\n",
       "<thead><tr><th scope=col>Sepal.Length</th><th scope=col>Sepal.Width</th><th scope=col>Petal.Length</th><th scope=col>Petal.Width</th><th scope=col>Species</th><th scope=col>n</th><th scope=col>m</th></tr></thead>\n",
       "<tbody>\n",
       "\t<tr><td>5.1   </td><td>3.5   </td><td>1.4   </td><td>0.2   </td><td>setosa</td><td>1     </td><td>1     </td></tr>\n",
       "\t<tr><td>4.9   </td><td>3.0   </td><td>1.4   </td><td>0.2   </td><td>setosa</td><td>2     </td><td>1     </td></tr>\n",
       "\t<tr><td>4.7   </td><td>3.2   </td><td>1.3   </td><td>0.2   </td><td>setosa</td><td>3     </td><td>1     </td></tr>\n",
       "\t<tr><td>4.6   </td><td>3.1   </td><td>1.5   </td><td>0.2   </td><td>setosa</td><td>4     </td><td>1     </td></tr>\n",
       "\t<tr><td>5.0   </td><td>3.6   </td><td>1.4   </td><td>0.2   </td><td>setosa</td><td>5     </td><td>1     </td></tr>\n",
       "\t<tr><td>5.4   </td><td>3.9   </td><td>1.7   </td><td>0.4   </td><td>setosa</td><td>6     </td><td>1     </td></tr>\n",
       "</tbody>\n",
       "</table>\n"
      ],
      "text/latex": [
       "\\begin{tabular}{r|lllllll}\n",
       " Sepal.Length & Sepal.Width & Petal.Length & Petal.Width & Species & n & m\\\\\n",
       "\\hline\n",
       "\t 5.1    & 3.5    & 1.4    & 0.2    & setosa & 1      & 1     \\\\\n",
       "\t 4.9    & 3.0    & 1.4    & 0.2    & setosa & 2      & 1     \\\\\n",
       "\t 4.7    & 3.2    & 1.3    & 0.2    & setosa & 3      & 1     \\\\\n",
       "\t 4.6    & 3.1    & 1.5    & 0.2    & setosa & 4      & 1     \\\\\n",
       "\t 5.0    & 3.6    & 1.4    & 0.2    & setosa & 5      & 1     \\\\\n",
       "\t 5.4    & 3.9    & 1.7    & 0.4    & setosa & 6      & 1     \\\\\n",
       "\\end{tabular}\n"
      ],
      "text/markdown": [
       "\n",
       "Sepal.Length | Sepal.Width | Petal.Length | Petal.Width | Species | n | m | \n",
       "|---|---|---|---|---|---|\n",
       "| 5.1    | 3.5    | 1.4    | 0.2    | setosa | 1      | 1      | \n",
       "| 4.9    | 3.0    | 1.4    | 0.2    | setosa | 2      | 1      | \n",
       "| 4.7    | 3.2    | 1.3    | 0.2    | setosa | 3      | 1      | \n",
       "| 4.6    | 3.1    | 1.5    | 0.2    | setosa | 4      | 1      | \n",
       "| 5.0    | 3.6    | 1.4    | 0.2    | setosa | 5      | 1      | \n",
       "| 5.4    | 3.9    | 1.7    | 0.4    | setosa | 6      | 1      | \n",
       "\n",
       "\n"
      ],
      "text/plain": [
       "  Sepal.Length Sepal.Width Petal.Length Petal.Width Species n m\n",
       "1 5.1          3.5         1.4          0.2         setosa  1 1\n",
       "2 4.9          3.0         1.4          0.2         setosa  2 1\n",
       "3 4.7          3.2         1.3          0.2         setosa  3 1\n",
       "4 4.6          3.1         1.5          0.2         setosa  4 1\n",
       "5 5.0          3.6         1.4          0.2         setosa  5 1\n",
       "6 5.4          3.9         1.7          0.4         setosa  6 1"
      ]
     },
     "metadata": {},
     "output_type": "display_data"
    }
   ],
   "source": [
    "## modificación de una columna\n",
    "x$n <- 1:150\n",
    "head(x)"
   ]
  },
  {
   "cell_type": "code",
   "execution_count": 14,
   "metadata": {
    "scrolled": true
   },
   "outputs": [
    {
     "data": {
      "text/html": [
       "<table>\n",
       "<thead><tr><th scope=col>Sepal.Length</th><th scope=col>Sepal.Width</th><th scope=col>Petal.Length</th><th scope=col>Petal.Width</th><th scope=col>Species</th></tr></thead>\n",
       "<tbody>\n",
       "\t<tr><td>5.1   </td><td>3.5   </td><td>1.4   </td><td>0.2   </td><td>setosa</td></tr>\n",
       "\t<tr><td>4.9   </td><td>3.0   </td><td>1.4   </td><td>0.2   </td><td>setosa</td></tr>\n",
       "\t<tr><td>4.7   </td><td>3.2   </td><td>1.3   </td><td>0.2   </td><td>setosa</td></tr>\n",
       "\t<tr><td>4.6   </td><td>3.1   </td><td>1.5   </td><td>0.2   </td><td>setosa</td></tr>\n",
       "\t<tr><td>5.0   </td><td>3.6   </td><td>1.4   </td><td>0.2   </td><td>setosa</td></tr>\n",
       "\t<tr><td>5.4   </td><td>3.9   </td><td>1.7   </td><td>0.4   </td><td>setosa</td></tr>\n",
       "</tbody>\n",
       "</table>\n"
      ],
      "text/latex": [
       "\\begin{tabular}{r|lllll}\n",
       " Sepal.Length & Sepal.Width & Petal.Length & Petal.Width & Species\\\\\n",
       "\\hline\n",
       "\t 5.1    & 3.5    & 1.4    & 0.2    & setosa\\\\\n",
       "\t 4.9    & 3.0    & 1.4    & 0.2    & setosa\\\\\n",
       "\t 4.7    & 3.2    & 1.3    & 0.2    & setosa\\\\\n",
       "\t 4.6    & 3.1    & 1.5    & 0.2    & setosa\\\\\n",
       "\t 5.0    & 3.6    & 1.4    & 0.2    & setosa\\\\\n",
       "\t 5.4    & 3.9    & 1.7    & 0.4    & setosa\\\\\n",
       "\\end{tabular}\n"
      ],
      "text/markdown": [
       "\n",
       "Sepal.Length | Sepal.Width | Petal.Length | Petal.Width | Species | \n",
       "|---|---|---|---|---|---|\n",
       "| 5.1    | 3.5    | 1.4    | 0.2    | setosa | \n",
       "| 4.9    | 3.0    | 1.4    | 0.2    | setosa | \n",
       "| 4.7    | 3.2    | 1.3    | 0.2    | setosa | \n",
       "| 4.6    | 3.1    | 1.5    | 0.2    | setosa | \n",
       "| 5.0    | 3.6    | 1.4    | 0.2    | setosa | \n",
       "| 5.4    | 3.9    | 1.7    | 0.4    | setosa | \n",
       "\n",
       "\n"
      ],
      "text/plain": [
       "  Sepal.Length Sepal.Width Petal.Length Petal.Width Species\n",
       "1 5.1          3.5         1.4          0.2         setosa \n",
       "2 4.9          3.0         1.4          0.2         setosa \n",
       "3 4.7          3.2         1.3          0.2         setosa \n",
       "4 4.6          3.1         1.5          0.2         setosa \n",
       "5 5.0          3.6         1.4          0.2         setosa \n",
       "6 5.4          3.9         1.7          0.4         setosa "
      ]
     },
     "metadata": {},
     "output_type": "display_data"
    }
   ],
   "source": [
    "## borrado de la columna\n",
    "x <- x[,-c(6,7)]\n",
    "head(x)"
   ]
  },
  {
   "cell_type": "code",
   "execution_count": 15,
   "metadata": {
    "scrolled": false
   },
   "outputs": [
    {
     "data": {
      "text/html": [
       "<ol class=list-inline>\n",
       "\t<li>'case_1'</li>\n",
       "\t<li>'case_2'</li>\n",
       "\t<li>'case_3'</li>\n",
       "\t<li>'case_4'</li>\n",
       "\t<li>'case_5'</li>\n",
       "\t<li>'case_6'</li>\n",
       "</ol>\n"
      ],
      "text/latex": [
       "\\begin{enumerate*}\n",
       "\\item 'case\\_1'\n",
       "\\item 'case\\_2'\n",
       "\\item 'case\\_3'\n",
       "\\item 'case\\_4'\n",
       "\\item 'case\\_5'\n",
       "\\item 'case\\_6'\n",
       "\\end{enumerate*}\n"
      ],
      "text/markdown": [
       "1. 'case_1'\n",
       "2. 'case_2'\n",
       "3. 'case_3'\n",
       "4. 'case_4'\n",
       "5. 'case_5'\n",
       "6. 'case_6'\n",
       "\n",
       "\n"
      ],
      "text/plain": [
       "[1] \"case_1\" \"case_2\" \"case_3\" \"case_4\" \"case_5\" \"case_6\""
      ]
     },
     "metadata": {},
     "output_type": "display_data"
    }
   ],
   "source": [
    "## nombres de las filas. los nombres deben ser únicos\n",
    "u <- paste('case_', 1:150, sep = '')\n",
    "head(u)"
   ]
  },
  {
   "cell_type": "code",
   "execution_count": 16,
   "metadata": {
    "scrolled": true
   },
   "outputs": [
    {
     "data": {
      "text/html": [
       "<table>\n",
       "<thead><tr><th></th><th scope=col>Sepal.Length</th><th scope=col>Sepal.Width</th><th scope=col>Petal.Length</th><th scope=col>Petal.Width</th><th scope=col>Species</th></tr></thead>\n",
       "<tbody>\n",
       "\t<tr><th scope=row>case_1</th><td>5.1   </td><td>3.5   </td><td>1.4   </td><td>0.2   </td><td>setosa</td></tr>\n",
       "\t<tr><th scope=row>case_2</th><td>4.9   </td><td>3.0   </td><td>1.4   </td><td>0.2   </td><td>setosa</td></tr>\n",
       "\t<tr><th scope=row>case_3</th><td>4.7   </td><td>3.2   </td><td>1.3   </td><td>0.2   </td><td>setosa</td></tr>\n",
       "\t<tr><th scope=row>case_4</th><td>4.6   </td><td>3.1   </td><td>1.5   </td><td>0.2   </td><td>setosa</td></tr>\n",
       "\t<tr><th scope=row>case_5</th><td>5.0   </td><td>3.6   </td><td>1.4   </td><td>0.2   </td><td>setosa</td></tr>\n",
       "\t<tr><th scope=row>case_6</th><td>5.4   </td><td>3.9   </td><td>1.7   </td><td>0.4   </td><td>setosa</td></tr>\n",
       "</tbody>\n",
       "</table>\n"
      ],
      "text/latex": [
       "\\begin{tabular}{r|lllll}\n",
       "  & Sepal.Length & Sepal.Width & Petal.Length & Petal.Width & Species\\\\\n",
       "\\hline\n",
       "\tcase\\_1 & 5.1    & 3.5    & 1.4    & 0.2    & setosa\\\\\n",
       "\tcase\\_2 & 4.9    & 3.0    & 1.4    & 0.2    & setosa\\\\\n",
       "\tcase\\_3 & 4.7    & 3.2    & 1.3    & 0.2    & setosa\\\\\n",
       "\tcase\\_4 & 4.6    & 3.1    & 1.5    & 0.2    & setosa\\\\\n",
       "\tcase\\_5 & 5.0    & 3.6    & 1.4    & 0.2    & setosa\\\\\n",
       "\tcase\\_6 & 5.4    & 3.9    & 1.7    & 0.4    & setosa\\\\\n",
       "\\end{tabular}\n"
      ],
      "text/markdown": [
       "\n",
       "| <!--/--> | Sepal.Length | Sepal.Width | Petal.Length | Petal.Width | Species | \n",
       "|---|---|---|---|---|---|\n",
       "| case_1 | 5.1    | 3.5    | 1.4    | 0.2    | setosa | \n",
       "| case_2 | 4.9    | 3.0    | 1.4    | 0.2    | setosa | \n",
       "| case_3 | 4.7    | 3.2    | 1.3    | 0.2    | setosa | \n",
       "| case_4 | 4.6    | 3.1    | 1.5    | 0.2    | setosa | \n",
       "| case_5 | 5.0    | 3.6    | 1.4    | 0.2    | setosa | \n",
       "| case_6 | 5.4    | 3.9    | 1.7    | 0.4    | setosa | \n",
       "\n",
       "\n"
      ],
      "text/plain": [
       "       Sepal.Length Sepal.Width Petal.Length Petal.Width Species\n",
       "case_1 5.1          3.5         1.4          0.2         setosa \n",
       "case_2 4.9          3.0         1.4          0.2         setosa \n",
       "case_3 4.7          3.2         1.3          0.2         setosa \n",
       "case_4 4.6          3.1         1.5          0.2         setosa \n",
       "case_5 5.0          3.6         1.4          0.2         setosa \n",
       "case_6 5.4          3.9         1.7          0.4         setosa "
      ]
     },
     "metadata": {},
     "output_type": "display_data"
    }
   ],
   "source": [
    "## cambia los nombres de las filas \n",
    "row.names(x) <- u\n",
    "head(x)"
   ]
  },
  {
   "cell_type": "code",
   "execution_count": 17,
   "metadata": {},
   "outputs": [
    {
     "data": {
      "text/html": [
       "<ol class=list-inline>\n",
       "\t<li>setosa</li>\n",
       "\t<li>setosa</li>\n",
       "\t<li>setosa</li>\n",
       "\t<li>setosa</li>\n",
       "\t<li>setosa</li>\n",
       "\t<li>setosa</li>\n",
       "\t<li>setosa</li>\n",
       "\t<li>setosa</li>\n",
       "\t<li>setosa</li>\n",
       "\t<li>setosa</li>\n",
       "</ol>\n"
      ],
      "text/latex": [
       "\\begin{enumerate*}\n",
       "\\item setosa\n",
       "\\item setosa\n",
       "\\item setosa\n",
       "\\item setosa\n",
       "\\item setosa\n",
       "\\item setosa\n",
       "\\item setosa\n",
       "\\item setosa\n",
       "\\item setosa\n",
       "\\item setosa\n",
       "\\end{enumerate*}\n"
      ],
      "text/markdown": [
       "1. setosa\n",
       "2. setosa\n",
       "3. setosa\n",
       "4. setosa\n",
       "5. setosa\n",
       "6. setosa\n",
       "7. setosa\n",
       "8. setosa\n",
       "9. setosa\n",
       "10. setosa\n",
       "\n",
       "\n"
      ],
      "text/plain": [
       " [1] setosa setosa setosa setosa setosa setosa setosa setosa setosa setosa\n",
       "Levels: setosa versicolor virginica"
      ]
     },
     "metadata": {},
     "output_type": "display_data"
    }
   ],
   "source": [
    "## todas las filas y la columna Species\n",
    "head(x[,'Species'], 10)"
   ]
  },
  {
   "cell_type": "code",
   "execution_count": 18,
   "metadata": {},
   "outputs": [
    {
     "data": {
      "text/html": [
       "4.7"
      ],
      "text/latex": [
       "4.7"
      ],
      "text/markdown": [
       "4.7"
      ],
      "text/plain": [
       "[1] 4.7"
      ]
     },
     "metadata": {},
     "output_type": "display_data"
    }
   ],
   "source": [
    "## valor para una fila y columna particular\n",
    "x[3, 'Sepal.Length']"
   ]
  },
  {
   "cell_type": "code",
   "execution_count": 19,
   "metadata": {
    "scrolled": true
   },
   "outputs": [
    {
     "data": {
      "text/html": [
       "<table>\n",
       "<thead><tr><th></th><th scope=col>Species</th><th scope=col>Sepal.Length</th></tr></thead>\n",
       "<tbody>\n",
       "\t<tr><th scope=row>case_3</th><td>setosa</td><td>4.7   </td></tr>\n",
       "</tbody>\n",
       "</table>\n"
      ],
      "text/latex": [
       "\\begin{tabular}{r|ll}\n",
       "  & Species & Sepal.Length\\\\\n",
       "\\hline\n",
       "\tcase\\_3 & setosa & 4.7   \\\\\n",
       "\\end{tabular}\n"
      ],
      "text/markdown": [
       "\n",
       "| <!--/--> | Species | Sepal.Length | \n",
       "|---|\n",
       "| case_3 | setosa | 4.7    | \n",
       "\n",
       "\n"
      ],
      "text/plain": [
       "       Species Sepal.Length\n",
       "case_3 setosa  4.7         "
      ]
     },
     "metadata": {},
     "output_type": "display_data"
    }
   ],
   "source": [
    "## valor para una fila y columna particular\n",
    "x[3, c('Species', 'Sepal.Length')]"
   ]
  },
  {
   "cell_type": "code",
   "execution_count": 20,
   "metadata": {},
   "outputs": [
    {
     "data": {
      "text/html": [
       "<table>\n",
       "<thead><tr><th></th><th scope=col>Sepal.Length</th><th scope=col>Sepal.Width</th><th scope=col>Petal.Length</th><th scope=col>Petal.Width</th><th scope=col>Species</th></tr></thead>\n",
       "<tbody>\n",
       "\t<tr><th scope=row>case_3</th><td>4.7   </td><td>3.2   </td><td>1.3   </td><td>0.2   </td><td>setosa</td></tr>\n",
       "</tbody>\n",
       "</table>\n"
      ],
      "text/latex": [
       "\\begin{tabular}{r|lllll}\n",
       "  & Sepal.Length & Sepal.Width & Petal.Length & Petal.Width & Species\\\\\n",
       "\\hline\n",
       "\tcase\\_3 & 4.7    & 3.2    & 1.3    & 0.2    & setosa\\\\\n",
       "\\end{tabular}\n"
      ],
      "text/markdown": [
       "\n",
       "| <!--/--> | Sepal.Length | Sepal.Width | Petal.Length | Petal.Width | Species | \n",
       "|---|\n",
       "| case_3 | 4.7    | 3.2    | 1.3    | 0.2    | setosa | \n",
       "\n",
       "\n"
      ],
      "text/plain": [
       "       Sepal.Length Sepal.Width Petal.Length Petal.Width Species\n",
       "case_3 4.7          3.2         1.3          0.2         setosa "
      ]
     },
     "metadata": {},
     "output_type": "display_data"
    }
   ],
   "source": [
    "## selección por nombre de la fila\n",
    "x['case_3',]"
   ]
  },
  {
   "cell_type": "code",
   "execution_count": 21,
   "metadata": {},
   "outputs": [
    {
     "data": {
      "text/html": [
       "<table>\n",
       "<thead><tr><th></th><th scope=col>Sepal.Length</th><th scope=col>Sepal.Width</th><th scope=col>Petal.Length</th><th scope=col>Petal.Width</th><th scope=col>Species</th></tr></thead>\n",
       "<tbody>\n",
       "\t<tr><th scope=row>case_3</th><td>4.7   </td><td>3.2   </td><td>1.3   </td><td>0.2   </td><td>setosa</td></tr>\n",
       "\t<tr><th scope=row>case_5</th><td>5.0   </td><td>3.6   </td><td>1.4   </td><td>0.2   </td><td>setosa</td></tr>\n",
       "</tbody>\n",
       "</table>\n"
      ],
      "text/latex": [
       "\\begin{tabular}{r|lllll}\n",
       "  & Sepal.Length & Sepal.Width & Petal.Length & Petal.Width & Species\\\\\n",
       "\\hline\n",
       "\tcase\\_3 & 4.7    & 3.2    & 1.3    & 0.2    & setosa\\\\\n",
       "\tcase\\_5 & 5.0    & 3.6    & 1.4    & 0.2    & setosa\\\\\n",
       "\\end{tabular}\n"
      ],
      "text/markdown": [
       "\n",
       "| <!--/--> | Sepal.Length | Sepal.Width | Petal.Length | Petal.Width | Species | \n",
       "|---|---|\n",
       "| case_3 | 4.7    | 3.2    | 1.3    | 0.2    | setosa | \n",
       "| case_5 | 5.0    | 3.6    | 1.4    | 0.2    | setosa | \n",
       "\n",
       "\n"
      ],
      "text/plain": [
       "       Sepal.Length Sepal.Width Petal.Length Petal.Width Species\n",
       "case_3 4.7          3.2         1.3          0.2         setosa \n",
       "case_5 5.0          3.6         1.4          0.2         setosa "
      ]
     },
     "metadata": {},
     "output_type": "display_data"
    }
   ],
   "source": [
    "## selección por nombre de la fila\n",
    "x[c('case_3', 'case_5'),]"
   ]
  },
  {
   "cell_type": "code",
   "execution_count": 22,
   "metadata": {},
   "outputs": [
    {
     "data": {
      "text/html": [
       "4.7"
      ],
      "text/latex": [
       "4.7"
      ],
      "text/markdown": [
       "4.7"
      ],
      "text/plain": [
       "[1] 4.7"
      ]
     },
     "metadata": {},
     "output_type": "display_data"
    }
   ],
   "source": [
    "## selección por nombres de fila y columna\n",
    "x['case_3', 'Sepal.Length']"
   ]
  },
  {
   "cell_type": "code",
   "execution_count": 23,
   "metadata": {},
   "outputs": [
    {
     "data": {
      "text/html": [
       "<table>\n",
       "<thead><tr><th></th><th scope=col>Sepal.Length</th><th scope=col>Sepal.Width</th></tr></thead>\n",
       "<tbody>\n",
       "\t<tr><th scope=row>case_3</th><td>4.7</td><td>3.2</td></tr>\n",
       "\t<tr><th scope=row>case_5</th><td>5.0</td><td>3.6</td></tr>\n",
       "</tbody>\n",
       "</table>\n"
      ],
      "text/latex": [
       "\\begin{tabular}{r|ll}\n",
       "  & Sepal.Length & Sepal.Width\\\\\n",
       "\\hline\n",
       "\tcase\\_3 & 4.7 & 3.2\\\\\n",
       "\tcase\\_5 & 5.0 & 3.6\\\\\n",
       "\\end{tabular}\n"
      ],
      "text/markdown": [
       "\n",
       "| <!--/--> | Sepal.Length | Sepal.Width | \n",
       "|---|---|\n",
       "| case_3 | 4.7 | 3.2 | \n",
       "| case_5 | 5.0 | 3.6 | \n",
       "\n",
       "\n"
      ],
      "text/plain": [
       "       Sepal.Length Sepal.Width\n",
       "case_3 4.7          3.2        \n",
       "case_5 5.0          3.6        "
      ]
     },
     "metadata": {},
     "output_type": "display_data"
    }
   ],
   "source": [
    "## selección por nombres de fila y columna\n",
    "x[c('case_3', 'case_5'), c('Sepal.Length', 'Sepal.Width')]"
   ]
  },
  {
   "cell_type": "code",
   "execution_count": 24,
   "metadata": {},
   "outputs": [
    {
     "data": {
      "text/html": [
       "<table>\n",
       "<thead><tr><th></th><th scope=col>Petal.Length</th><th scope=col>Petal.Width</th><th scope=col>Species</th></tr></thead>\n",
       "<tbody>\n",
       "\t<tr><th scope=row>case_3</th><td>1.3   </td><td>0.2   </td><td>setosa</td></tr>\n",
       "\t<tr><th scope=row>case_5</th><td>1.4   </td><td>0.2   </td><td>setosa</td></tr>\n",
       "</tbody>\n",
       "</table>\n"
      ],
      "text/latex": [
       "\\begin{tabular}{r|lll}\n",
       "  & Petal.Length & Petal.Width & Species\\\\\n",
       "\\hline\n",
       "\tcase\\_3 & 1.3    & 0.2    & setosa\\\\\n",
       "\tcase\\_5 & 1.4    & 0.2    & setosa\\\\\n",
       "\\end{tabular}\n"
      ],
      "text/markdown": [
       "\n",
       "| <!--/--> | Petal.Length | Petal.Width | Species | \n",
       "|---|---|\n",
       "| case_3 | 1.3    | 0.2    | setosa | \n",
       "| case_5 | 1.4    | 0.2    | setosa | \n",
       "\n",
       "\n"
      ],
      "text/plain": [
       "       Petal.Length Petal.Width Species\n",
       "case_3 1.3          0.2         setosa \n",
       "case_5 1.4          0.2         setosa "
      ]
     },
     "metadata": {},
     "output_type": "display_data"
    }
   ],
   "source": [
    "## selección por nombre de la fila y número de las columnas\n",
    "x[c('case_3', 'case_5'), 3:5]"
   ]
  },
  {
   "cell_type": "code",
   "execution_count": 25,
   "metadata": {},
   "outputs": [
    {
     "data": {
      "text/html": [
       "<table>\n",
       "<thead><tr><th></th><th scope=col>Sepal.Length</th><th scope=col>Sepal.Width</th></tr></thead>\n",
       "<tbody>\n",
       "\t<tr><th scope=row>case_1</th><td>5.1</td><td>3.5</td></tr>\n",
       "\t<tr><th scope=row>case_2</th><td>4.9</td><td>3.0</td></tr>\n",
       "\t<tr><th scope=row>case_3</th><td>4.7</td><td>3.2</td></tr>\n",
       "</tbody>\n",
       "</table>\n"
      ],
      "text/latex": [
       "\\begin{tabular}{r|ll}\n",
       "  & Sepal.Length & Sepal.Width\\\\\n",
       "\\hline\n",
       "\tcase\\_1 & 5.1 & 3.5\\\\\n",
       "\tcase\\_2 & 4.9 & 3.0\\\\\n",
       "\tcase\\_3 & 4.7 & 3.2\\\\\n",
       "\\end{tabular}\n"
      ],
      "text/markdown": [
       "\n",
       "| <!--/--> | Sepal.Length | Sepal.Width | \n",
       "|---|---|---|\n",
       "| case_1 | 5.1 | 3.5 | \n",
       "| case_2 | 4.9 | 3.0 | \n",
       "| case_3 | 4.7 | 3.2 | \n",
       "\n",
       "\n"
      ],
      "text/plain": [
       "       Sepal.Length Sepal.Width\n",
       "case_1 5.1          3.5        \n",
       "case_2 4.9          3.0        \n",
       "case_3 4.7          3.2        "
      ]
     },
     "metadata": {},
     "output_type": "display_data"
    }
   ],
   "source": [
    "## selección por nombres de fila y columna\n",
    "x[1:3, c('Sepal.Length', 'Sepal.Width')]"
   ]
  },
  {
   "cell_type": "markdown",
   "metadata": {},
   "source": [
    "## Indexación numérica"
   ]
  },
  {
   "cell_type": "code",
   "execution_count": 26,
   "metadata": {
    "scrolled": true
   },
   "outputs": [
    {
     "data": {
      "text/html": [
       "<table>\n",
       "<thead><tr><th></th><th scope=col>Sepal.Length</th><th scope=col>Sepal.Width</th><th scope=col>Petal.Length</th></tr></thead>\n",
       "<tbody>\n",
       "\t<tr><th scope=row>case_1</th><td>5.1</td><td>3.5</td><td>1.4</td></tr>\n",
       "\t<tr><th scope=row>case_2</th><td>4.9</td><td>3.0</td><td>1.4</td></tr>\n",
       "\t<tr><th scope=row>case_3</th><td>4.7</td><td>3.2</td><td>1.3</td></tr>\n",
       "\t<tr><th scope=row>case_4</th><td>4.6</td><td>3.1</td><td>1.5</td></tr>\n",
       "\t<tr><th scope=row>case_5</th><td>5.0</td><td>3.6</td><td>1.4</td></tr>\n",
       "\t<tr><th scope=row>case_6</th><td>5.4</td><td>3.9</td><td>1.7</td></tr>\n",
       "</tbody>\n",
       "</table>\n"
      ],
      "text/latex": [
       "\\begin{tabular}{r|lll}\n",
       "  & Sepal.Length & Sepal.Width & Petal.Length\\\\\n",
       "\\hline\n",
       "\tcase\\_1 & 5.1 & 3.5 & 1.4\\\\\n",
       "\tcase\\_2 & 4.9 & 3.0 & 1.4\\\\\n",
       "\tcase\\_3 & 4.7 & 3.2 & 1.3\\\\\n",
       "\tcase\\_4 & 4.6 & 3.1 & 1.5\\\\\n",
       "\tcase\\_5 & 5.0 & 3.6 & 1.4\\\\\n",
       "\tcase\\_6 & 5.4 & 3.9 & 1.7\\\\\n",
       "\\end{tabular}\n"
      ],
      "text/markdown": [
       "\n",
       "| <!--/--> | Sepal.Length | Sepal.Width | Petal.Length | \n",
       "|---|---|---|---|---|---|\n",
       "| case_1 | 5.1 | 3.5 | 1.4 | \n",
       "| case_2 | 4.9 | 3.0 | 1.4 | \n",
       "| case_3 | 4.7 | 3.2 | 1.3 | \n",
       "| case_4 | 4.6 | 3.1 | 1.5 | \n",
       "| case_5 | 5.0 | 3.6 | 1.4 | \n",
       "| case_6 | 5.4 | 3.9 | 1.7 | \n",
       "\n",
       "\n"
      ],
      "text/plain": [
       "       Sepal.Length Sepal.Width Petal.Length\n",
       "case_1 5.1          3.5         1.4         \n",
       "case_2 4.9          3.0         1.4         \n",
       "case_3 4.7          3.2         1.3         \n",
       "case_4 4.6          3.1         1.5         \n",
       "case_5 5.0          3.6         1.4         \n",
       "case_6 5.4          3.9         1.7         "
      ]
     },
     "metadata": {},
     "output_type": "display_data"
    }
   ],
   "source": [
    "## selección de las primeras tres columnas\n",
    "head(x[,1:3])"
   ]
  },
  {
   "cell_type": "code",
   "execution_count": 27,
   "metadata": {},
   "outputs": [
    {
     "data": {
      "text/html": [
       "<table>\n",
       "<thead><tr><th></th><th scope=col>Petal.Length</th><th scope=col>Petal.Width</th><th scope=col>Species</th></tr></thead>\n",
       "<tbody>\n",
       "\t<tr><th scope=row>case_1</th><td>1.4   </td><td>0.2   </td><td>setosa</td></tr>\n",
       "\t<tr><th scope=row>case_2</th><td>1.4   </td><td>0.2   </td><td>setosa</td></tr>\n",
       "\t<tr><th scope=row>case_3</th><td>1.3   </td><td>0.2   </td><td>setosa</td></tr>\n",
       "\t<tr><th scope=row>case_4</th><td>1.5   </td><td>0.2   </td><td>setosa</td></tr>\n",
       "\t<tr><th scope=row>case_5</th><td>1.4   </td><td>0.2   </td><td>setosa</td></tr>\n",
       "\t<tr><th scope=row>case_6</th><td>1.7   </td><td>0.4   </td><td>setosa</td></tr>\n",
       "</tbody>\n",
       "</table>\n"
      ],
      "text/latex": [
       "\\begin{tabular}{r|lll}\n",
       "  & Petal.Length & Petal.Width & Species\\\\\n",
       "\\hline\n",
       "\tcase\\_1 & 1.4    & 0.2    & setosa\\\\\n",
       "\tcase\\_2 & 1.4    & 0.2    & setosa\\\\\n",
       "\tcase\\_3 & 1.3    & 0.2    & setosa\\\\\n",
       "\tcase\\_4 & 1.5    & 0.2    & setosa\\\\\n",
       "\tcase\\_5 & 1.4    & 0.2    & setosa\\\\\n",
       "\tcase\\_6 & 1.7    & 0.4    & setosa\\\\\n",
       "\\end{tabular}\n"
      ],
      "text/markdown": [
       "\n",
       "| <!--/--> | Petal.Length | Petal.Width | Species | \n",
       "|---|---|---|---|---|---|\n",
       "| case_1 | 1.4    | 0.2    | setosa | \n",
       "| case_2 | 1.4    | 0.2    | setosa | \n",
       "| case_3 | 1.3    | 0.2    | setosa | \n",
       "| case_4 | 1.5    | 0.2    | setosa | \n",
       "| case_5 | 1.4    | 0.2    | setosa | \n",
       "| case_6 | 1.7    | 0.4    | setosa | \n",
       "\n",
       "\n"
      ],
      "text/plain": [
       "       Petal.Length Petal.Width Species\n",
       "case_1 1.4          0.2         setosa \n",
       "case_2 1.4          0.2         setosa \n",
       "case_3 1.3          0.2         setosa \n",
       "case_4 1.5          0.2         setosa \n",
       "case_5 1.4          0.2         setosa \n",
       "case_6 1.7          0.4         setosa "
      ]
     },
     "metadata": {},
     "output_type": "display_data"
    }
   ],
   "source": [
    "## selección de las últimas tres columnas\n",
    "head(x[,-(1:(ncol(x)-3))])"
   ]
  },
  {
   "cell_type": "code",
   "execution_count": 28,
   "metadata": {},
   "outputs": [
    {
     "data": {
      "text/html": [
       "<table>\n",
       "<thead><tr><th></th><th scope=col>Sepal.Length</th><th scope=col>Species</th></tr></thead>\n",
       "<tbody>\n",
       "\t<tr><th scope=row>case_1</th><td>5.1   </td><td>setosa</td></tr>\n",
       "\t<tr><th scope=row>case_2</th><td>4.9   </td><td>setosa</td></tr>\n",
       "\t<tr><th scope=row>case_3</th><td>4.7   </td><td>setosa</td></tr>\n",
       "\t<tr><th scope=row>case_4</th><td>4.6   </td><td>setosa</td></tr>\n",
       "\t<tr><th scope=row>case_5</th><td>5.0   </td><td>setosa</td></tr>\n",
       "\t<tr><th scope=row>case_6</th><td>5.4   </td><td>setosa</td></tr>\n",
       "</tbody>\n",
       "</table>\n"
      ],
      "text/latex": [
       "\\begin{tabular}{r|ll}\n",
       "  & Sepal.Length & Species\\\\\n",
       "\\hline\n",
       "\tcase\\_1 & 5.1    & setosa\\\\\n",
       "\tcase\\_2 & 4.9    & setosa\\\\\n",
       "\tcase\\_3 & 4.7    & setosa\\\\\n",
       "\tcase\\_4 & 4.6    & setosa\\\\\n",
       "\tcase\\_5 & 5.0    & setosa\\\\\n",
       "\tcase\\_6 & 5.4    & setosa\\\\\n",
       "\\end{tabular}\n"
      ],
      "text/markdown": [
       "\n",
       "| <!--/--> | Sepal.Length | Species | \n",
       "|---|---|---|---|---|---|\n",
       "| case_1 | 5.1    | setosa | \n",
       "| case_2 | 4.9    | setosa | \n",
       "| case_3 | 4.7    | setosa | \n",
       "| case_4 | 4.6    | setosa | \n",
       "| case_5 | 5.0    | setosa | \n",
       "| case_6 | 5.4    | setosa | \n",
       "\n",
       "\n"
      ],
      "text/plain": [
       "       Sepal.Length Species\n",
       "case_1 5.1          setosa \n",
       "case_2 4.9          setosa \n",
       "case_3 4.7          setosa \n",
       "case_4 4.6          setosa \n",
       "case_5 5.0          setosa \n",
       "case_6 5.4          setosa "
      ]
     },
     "metadata": {},
     "output_type": "display_data"
    }
   ],
   "source": [
    "## selección de algunas columnas\n",
    "head(x[,c(1,5)])"
   ]
  },
  {
   "cell_type": "code",
   "execution_count": 29,
   "metadata": {
    "scrolled": true
   },
   "outputs": [
    {
     "data": {
      "text/html": [
       "<table>\n",
       "<thead><tr><th></th><th scope=col>Sepal.Length</th><th scope=col>Sepal.Width</th><th scope=col>Petal.Length</th><th scope=col>Petal.Width</th><th scope=col>Species</th></tr></thead>\n",
       "<tbody>\n",
       "\t<tr><th scope=row>case_1</th><td>5.1   </td><td>3.5   </td><td>1.4   </td><td>0.2   </td><td>setosa</td></tr>\n",
       "\t<tr><th scope=row>case_2</th><td>4.9   </td><td>3.0   </td><td>1.4   </td><td>0.2   </td><td>setosa</td></tr>\n",
       "\t<tr><th scope=row>case_3</th><td>4.7   </td><td>3.2   </td><td>1.3   </td><td>0.2   </td><td>setosa</td></tr>\n",
       "</tbody>\n",
       "</table>\n"
      ],
      "text/latex": [
       "\\begin{tabular}{r|lllll}\n",
       "  & Sepal.Length & Sepal.Width & Petal.Length & Petal.Width & Species\\\\\n",
       "\\hline\n",
       "\tcase\\_1 & 5.1    & 3.5    & 1.4    & 0.2    & setosa\\\\\n",
       "\tcase\\_2 & 4.9    & 3.0    & 1.4    & 0.2    & setosa\\\\\n",
       "\tcase\\_3 & 4.7    & 3.2    & 1.3    & 0.2    & setosa\\\\\n",
       "\\end{tabular}\n"
      ],
      "text/markdown": [
       "\n",
       "| <!--/--> | Sepal.Length | Sepal.Width | Petal.Length | Petal.Width | Species | \n",
       "|---|---|---|\n",
       "| case_1 | 5.1    | 3.5    | 1.4    | 0.2    | setosa | \n",
       "| case_2 | 4.9    | 3.0    | 1.4    | 0.2    | setosa | \n",
       "| case_3 | 4.7    | 3.2    | 1.3    | 0.2    | setosa | \n",
       "\n",
       "\n"
      ],
      "text/plain": [
       "       Sepal.Length Sepal.Width Petal.Length Petal.Width Species\n",
       "case_1 5.1          3.5         1.4          0.2         setosa \n",
       "case_2 4.9          3.0         1.4          0.2         setosa \n",
       "case_3 4.7          3.2         1.3          0.2         setosa "
      ]
     },
     "metadata": {},
     "output_type": "display_data"
    }
   ],
   "source": [
    "## selección de las primeras 3 filas\n",
    "x[1:3,]"
   ]
  },
  {
   "cell_type": "code",
   "execution_count": 30,
   "metadata": {},
   "outputs": [
    {
     "data": {
      "text/html": [
       "<table>\n",
       "<thead><tr><th></th><th scope=col>Sepal.Length</th><th scope=col>Sepal.Width</th><th scope=col>Petal.Length</th><th scope=col>Petal.Width</th><th scope=col>Species</th></tr></thead>\n",
       "<tbody>\n",
       "\t<tr><th scope=row>case_3</th><td>4.7   </td><td>3.2   </td><td>1.3   </td><td>0.2   </td><td>setosa</td></tr>\n",
       "\t<tr><th scope=row>case_4</th><td>4.6   </td><td>3.1   </td><td>1.5   </td><td>0.2   </td><td>setosa</td></tr>\n",
       "\t<tr><th scope=row>case_5</th><td>5.0   </td><td>3.6   </td><td>1.4   </td><td>0.2   </td><td>setosa</td></tr>\n",
       "\t<tr><th scope=row>case_6</th><td>5.4   </td><td>3.9   </td><td>1.7   </td><td>0.4   </td><td>setosa</td></tr>\n",
       "\t<tr><th scope=row>case_7</th><td>4.6   </td><td>3.4   </td><td>1.4   </td><td>0.3   </td><td>setosa</td></tr>\n",
       "\t<tr><th scope=row>case_8</th><td>5.0   </td><td>3.4   </td><td>1.5   </td><td>0.2   </td><td>setosa</td></tr>\n",
       "</tbody>\n",
       "</table>\n"
      ],
      "text/latex": [
       "\\begin{tabular}{r|lllll}\n",
       "  & Sepal.Length & Sepal.Width & Petal.Length & Petal.Width & Species\\\\\n",
       "\\hline\n",
       "\tcase\\_3 & 4.7    & 3.2    & 1.3    & 0.2    & setosa\\\\\n",
       "\tcase\\_4 & 4.6    & 3.1    & 1.5    & 0.2    & setosa\\\\\n",
       "\tcase\\_5 & 5.0    & 3.6    & 1.4    & 0.2    & setosa\\\\\n",
       "\tcase\\_6 & 5.4    & 3.9    & 1.7    & 0.4    & setosa\\\\\n",
       "\tcase\\_7 & 4.6    & 3.4    & 1.4    & 0.3    & setosa\\\\\n",
       "\tcase\\_8 & 5.0    & 3.4    & 1.5    & 0.2    & setosa\\\\\n",
       "\\end{tabular}\n"
      ],
      "text/markdown": [
       "\n",
       "| <!--/--> | Sepal.Length | Sepal.Width | Petal.Length | Petal.Width | Species | \n",
       "|---|---|---|---|---|---|\n",
       "| case_3 | 4.7    | 3.2    | 1.3    | 0.2    | setosa | \n",
       "| case_4 | 4.6    | 3.1    | 1.5    | 0.2    | setosa | \n",
       "| case_5 | 5.0    | 3.6    | 1.4    | 0.2    | setosa | \n",
       "| case_6 | 5.4    | 3.9    | 1.7    | 0.4    | setosa | \n",
       "| case_7 | 4.6    | 3.4    | 1.4    | 0.3    | setosa | \n",
       "| case_8 | 5.0    | 3.4    | 1.5    | 0.2    | setosa | \n",
       "\n",
       "\n"
      ],
      "text/plain": [
       "       Sepal.Length Sepal.Width Petal.Length Petal.Width Species\n",
       "case_3 4.7          3.2         1.3          0.2         setosa \n",
       "case_4 4.6          3.1         1.5          0.2         setosa \n",
       "case_5 5.0          3.6         1.4          0.2         setosa \n",
       "case_6 5.4          3.9         1.7          0.4         setosa \n",
       "case_7 4.6          3.4         1.4          0.3         setosa \n",
       "case_8 5.0          3.4         1.5          0.2         setosa "
      ]
     },
     "metadata": {},
     "output_type": "display_data"
    }
   ],
   "source": [
    "## desde la tercera hasta la última fila\n",
    "head(x[-(1:2),])"
   ]
  },
  {
   "cell_type": "code",
   "execution_count": 31,
   "metadata": {
    "scrolled": true
   },
   "outputs": [
    {
     "data": {
      "text/html": [
       "<table>\n",
       "<thead><tr><th></th><th scope=col>Sepal.Length</th><th scope=col>Sepal.Width</th><th scope=col>Petal.Length</th><th scope=col>Petal.Width</th><th scope=col>Species</th></tr></thead>\n",
       "<tbody>\n",
       "\t<tr><th scope=row>case_1</th><td>5.1       </td><td>3.5       </td><td>1.4       </td><td>0.2       </td><td>setosa    </td></tr>\n",
       "\t<tr><th scope=row>case_16</th><td>5.7       </td><td>4.4       </td><td>1.5       </td><td>0.4       </td><td>setosa    </td></tr>\n",
       "\t<tr><th scope=row>case_31</th><td>4.8       </td><td>3.1       </td><td>1.6       </td><td>0.2       </td><td>setosa    </td></tr>\n",
       "\t<tr><th scope=row>case_46</th><td>4.8       </td><td>3.0       </td><td>1.4       </td><td>0.3       </td><td>setosa    </td></tr>\n",
       "\t<tr><th scope=row>case_61</th><td>5.0       </td><td>2.0       </td><td>3.5       </td><td>1.0       </td><td>versicolor</td></tr>\n",
       "\t<tr><th scope=row>case_76</th><td>6.6       </td><td>3.0       </td><td>4.4       </td><td>1.4       </td><td>versicolor</td></tr>\n",
       "\t<tr><th scope=row>case_91</th><td>5.5       </td><td>2.6       </td><td>4.4       </td><td>1.2       </td><td>versicolor</td></tr>\n",
       "\t<tr><th scope=row>case_106</th><td>7.6       </td><td>3.0       </td><td>6.6       </td><td>2.1       </td><td>virginica </td></tr>\n",
       "\t<tr><th scope=row>case_121</th><td>6.9       </td><td>3.2       </td><td>5.7       </td><td>2.3       </td><td>virginica </td></tr>\n",
       "\t<tr><th scope=row>case_136</th><td>7.7       </td><td>3.0       </td><td>6.1       </td><td>2.3       </td><td>virginica </td></tr>\n",
       "</tbody>\n",
       "</table>\n"
      ],
      "text/latex": [
       "\\begin{tabular}{r|lllll}\n",
       "  & Sepal.Length & Sepal.Width & Petal.Length & Petal.Width & Species\\\\\n",
       "\\hline\n",
       "\tcase\\_1 & 5.1        & 3.5        & 1.4        & 0.2        & setosa    \\\\\n",
       "\tcase\\_16 & 5.7        & 4.4        & 1.5        & 0.4        & setosa    \\\\\n",
       "\tcase\\_31 & 4.8        & 3.1        & 1.6        & 0.2        & setosa    \\\\\n",
       "\tcase\\_46 & 4.8        & 3.0        & 1.4        & 0.3        & setosa    \\\\\n",
       "\tcase\\_61 & 5.0        & 2.0        & 3.5        & 1.0        & versicolor\\\\\n",
       "\tcase\\_76 & 6.6        & 3.0        & 4.4        & 1.4        & versicolor\\\\\n",
       "\tcase\\_91 & 5.5        & 2.6        & 4.4        & 1.2        & versicolor\\\\\n",
       "\tcase\\_106 & 7.6        & 3.0        & 6.6        & 2.1        & virginica \\\\\n",
       "\tcase\\_121 & 6.9        & 3.2        & 5.7        & 2.3        & virginica \\\\\n",
       "\tcase\\_136 & 7.7        & 3.0        & 6.1        & 2.3        & virginica \\\\\n",
       "\\end{tabular}\n"
      ],
      "text/markdown": [
       "\n",
       "| <!--/--> | Sepal.Length | Sepal.Width | Petal.Length | Petal.Width | Species | \n",
       "|---|---|---|---|---|---|---|---|---|---|\n",
       "| case_1 | 5.1        | 3.5        | 1.4        | 0.2        | setosa     | \n",
       "| case_16 | 5.7        | 4.4        | 1.5        | 0.4        | setosa     | \n",
       "| case_31 | 4.8        | 3.1        | 1.6        | 0.2        | setosa     | \n",
       "| case_46 | 4.8        | 3.0        | 1.4        | 0.3        | setosa     | \n",
       "| case_61 | 5.0        | 2.0        | 3.5        | 1.0        | versicolor | \n",
       "| case_76 | 6.6        | 3.0        | 4.4        | 1.4        | versicolor | \n",
       "| case_91 | 5.5        | 2.6        | 4.4        | 1.2        | versicolor | \n",
       "| case_106 | 7.6        | 3.0        | 6.6        | 2.1        | virginica  | \n",
       "| case_121 | 6.9        | 3.2        | 5.7        | 2.3        | virginica  | \n",
       "| case_136 | 7.7        | 3.0        | 6.1        | 2.3        | virginica  | \n",
       "\n",
       "\n"
      ],
      "text/plain": [
       "         Sepal.Length Sepal.Width Petal.Length Petal.Width Species   \n",
       "case_1   5.1          3.5         1.4          0.2         setosa    \n",
       "case_16  5.7          4.4         1.5          0.4         setosa    \n",
       "case_31  4.8          3.1         1.6          0.2         setosa    \n",
       "case_46  4.8          3.0         1.4          0.3         setosa    \n",
       "case_61  5.0          2.0         3.5          1.0         versicolor\n",
       "case_76  6.6          3.0         4.4          1.4         versicolor\n",
       "case_91  5.5          2.6         4.4          1.2         versicolor\n",
       "case_106 7.6          3.0         6.6          2.1         virginica \n",
       "case_121 6.9          3.2         5.7          2.3         virginica \n",
       "case_136 7.7          3.0         6.1          2.3         virginica "
      ]
     },
     "metadata": {},
     "output_type": "display_data"
    }
   ],
   "source": [
    "## selección por intervalos\n",
    "u <- seq(from = 1, to = nrow(x), by = 15)\n",
    "x[u,]"
   ]
  },
  {
   "cell_type": "code",
   "execution_count": 32,
   "metadata": {},
   "outputs": [
    {
     "data": {
      "text/html": [
       "<table>\n",
       "<thead><tr><th></th><th scope=col>Sepal.Length</th><th scope=col>Sepal.Width</th><th scope=col>Petal.Length</th><th scope=col>Petal.Width</th><th scope=col>Species</th></tr></thead>\n",
       "<tbody>\n",
       "\t<tr><th scope=row>case_150</th><td>5.9      </td><td>3.0      </td><td>5.1      </td><td>1.8      </td><td>virginica</td></tr>\n",
       "\t<tr><th scope=row>case_149</th><td>6.2      </td><td>3.4      </td><td>5.4      </td><td>2.3      </td><td>virginica</td></tr>\n",
       "\t<tr><th scope=row>case_148</th><td>6.5      </td><td>3.0      </td><td>5.2      </td><td>2.0      </td><td>virginica</td></tr>\n",
       "\t<tr><th scope=row>case_147</th><td>6.3      </td><td>2.5      </td><td>5.0      </td><td>1.9      </td><td>virginica</td></tr>\n",
       "\t<tr><th scope=row>case_146</th><td>6.7      </td><td>3.0      </td><td>5.2      </td><td>2.3      </td><td>virginica</td></tr>\n",
       "\t<tr><th scope=row>case_145</th><td>6.7      </td><td>3.3      </td><td>5.7      </td><td>2.5      </td><td>virginica</td></tr>\n",
       "</tbody>\n",
       "</table>\n"
      ],
      "text/latex": [
       "\\begin{tabular}{r|lllll}\n",
       "  & Sepal.Length & Sepal.Width & Petal.Length & Petal.Width & Species\\\\\n",
       "\\hline\n",
       "\tcase\\_150 & 5.9       & 3.0       & 5.1       & 1.8       & virginica\\\\\n",
       "\tcase\\_149 & 6.2       & 3.4       & 5.4       & 2.3       & virginica\\\\\n",
       "\tcase\\_148 & 6.5       & 3.0       & 5.2       & 2.0       & virginica\\\\\n",
       "\tcase\\_147 & 6.3       & 2.5       & 5.0       & 1.9       & virginica\\\\\n",
       "\tcase\\_146 & 6.7       & 3.0       & 5.2       & 2.3       & virginica\\\\\n",
       "\tcase\\_145 & 6.7       & 3.3       & 5.7       & 2.5       & virginica\\\\\n",
       "\\end{tabular}\n"
      ],
      "text/markdown": [
       "\n",
       "| <!--/--> | Sepal.Length | Sepal.Width | Petal.Length | Petal.Width | Species | \n",
       "|---|---|---|---|---|---|\n",
       "| case_150 | 5.9       | 3.0       | 5.1       | 1.8       | virginica | \n",
       "| case_149 | 6.2       | 3.4       | 5.4       | 2.3       | virginica | \n",
       "| case_148 | 6.5       | 3.0       | 5.2       | 2.0       | virginica | \n",
       "| case_147 | 6.3       | 2.5       | 5.0       | 1.9       | virginica | \n",
       "| case_146 | 6.7       | 3.0       | 5.2       | 2.3       | virginica | \n",
       "| case_145 | 6.7       | 3.3       | 5.7       | 2.5       | virginica | \n",
       "\n",
       "\n"
      ],
      "text/plain": [
       "         Sepal.Length Sepal.Width Petal.Length Petal.Width Species  \n",
       "case_150 5.9          3.0         5.1          1.8         virginica\n",
       "case_149 6.2          3.4         5.4          2.3         virginica\n",
       "case_148 6.5          3.0         5.2          2.0         virginica\n",
       "case_147 6.3          2.5         5.0          1.9         virginica\n",
       "case_146 6.7          3.0         5.2          2.3         virginica\n",
       "case_145 6.7          3.3         5.7          2.5         virginica"
      ]
     },
     "metadata": {},
     "output_type": "display_data"
    }
   ],
   "source": [
    "## orden inverso\n",
    "head(x[nrow(x):1,])"
   ]
  },
  {
   "cell_type": "code",
   "execution_count": 33,
   "metadata": {
    "scrolled": true
   },
   "outputs": [
    {
     "data": {
      "text/html": [
       "<table>\n",
       "<thead><tr><th></th><th scope=col>Sepal.Length</th><th scope=col>Sepal.Width</th><th scope=col>Petal.Length</th><th scope=col>Petal.Width</th><th scope=col>Species</th></tr></thead>\n",
       "<tbody>\n",
       "\t<tr><th scope=row>case_144</th><td>6.8      </td><td>3.2      </td><td>5.9      </td><td>2.3      </td><td>virginica</td></tr>\n",
       "\t<tr><th scope=row>case_145</th><td>6.7      </td><td>3.3      </td><td>5.7      </td><td>2.5      </td><td>virginica</td></tr>\n",
       "\t<tr><th scope=row>case_146</th><td>6.7      </td><td>3.0      </td><td>5.2      </td><td>2.3      </td><td>virginica</td></tr>\n",
       "\t<tr><th scope=row>case_147</th><td>6.3      </td><td>2.5      </td><td>5.0      </td><td>1.9      </td><td>virginica</td></tr>\n",
       "\t<tr><th scope=row>case_148</th><td>6.5      </td><td>3.0      </td><td>5.2      </td><td>2.0      </td><td>virginica</td></tr>\n",
       "\t<tr><th scope=row>case_149</th><td>6.2      </td><td>3.4      </td><td>5.4      </td><td>2.3      </td><td>virginica</td></tr>\n",
       "</tbody>\n",
       "</table>\n"
      ],
      "text/latex": [
       "\\begin{tabular}{r|lllll}\n",
       "  & Sepal.Length & Sepal.Width & Petal.Length & Petal.Width & Species\\\\\n",
       "\\hline\n",
       "\tcase\\_144 & 6.8       & 3.2       & 5.9       & 2.3       & virginica\\\\\n",
       "\tcase\\_145 & 6.7       & 3.3       & 5.7       & 2.5       & virginica\\\\\n",
       "\tcase\\_146 & 6.7       & 3.0       & 5.2       & 2.3       & virginica\\\\\n",
       "\tcase\\_147 & 6.3       & 2.5       & 5.0       & 1.9       & virginica\\\\\n",
       "\tcase\\_148 & 6.5       & 3.0       & 5.2       & 2.0       & virginica\\\\\n",
       "\tcase\\_149 & 6.2       & 3.4       & 5.4       & 2.3       & virginica\\\\\n",
       "\\end{tabular}\n"
      ],
      "text/markdown": [
       "\n",
       "| <!--/--> | Sepal.Length | Sepal.Width | Petal.Length | Petal.Width | Species | \n",
       "|---|---|---|---|---|---|\n",
       "| case_144 | 6.8       | 3.2       | 5.9       | 2.3       | virginica | \n",
       "| case_145 | 6.7       | 3.3       | 5.7       | 2.5       | virginica | \n",
       "| case_146 | 6.7       | 3.0       | 5.2       | 2.3       | virginica | \n",
       "| case_147 | 6.3       | 2.5       | 5.0       | 1.9       | virginica | \n",
       "| case_148 | 6.5       | 3.0       | 5.2       | 2.0       | virginica | \n",
       "| case_149 | 6.2       | 3.4       | 5.4       | 2.3       | virginica | \n",
       "\n",
       "\n"
      ],
      "text/plain": [
       "         Sepal.Length Sepal.Width Petal.Length Petal.Width Species  \n",
       "case_144 6.8          3.2         5.9          2.3         virginica\n",
       "case_145 6.7          3.3         5.7          2.5         virginica\n",
       "case_146 6.7          3.0         5.2          2.3         virginica\n",
       "case_147 6.3          2.5         5.0          1.9         virginica\n",
       "case_148 6.5          3.0         5.2          2.0         virginica\n",
       "case_149 6.2          3.4         5.4          2.3         virginica"
      ]
     },
     "metadata": {},
     "output_type": "display_data"
    }
   ],
   "source": [
    "## todas las filas excepto la última\n",
    "tail(x[-nrow(x),])"
   ]
  },
  {
   "cell_type": "code",
   "execution_count": 34,
   "metadata": {},
   "outputs": [
    {
     "data": {
      "text/html": [
       "<table>\n",
       "<thead><tr><th></th><th scope=col>Sepal.Length</th><th scope=col>Sepal.Width</th><th scope=col>Petal.Length</th><th scope=col>Petal.Width</th><th scope=col>Species</th></tr></thead>\n",
       "<tbody>\n",
       "\t<tr><th scope=row>case_2</th><td>4.9   </td><td>3     </td><td>1.4   </td><td>0.2   </td><td>setosa</td></tr>\n",
       "</tbody>\n",
       "</table>\n"
      ],
      "text/latex": [
       "\\begin{tabular}{r|lllll}\n",
       "  & Sepal.Length & Sepal.Width & Petal.Length & Petal.Width & Species\\\\\n",
       "\\hline\n",
       "\tcase\\_2 & 4.9    & 3      & 1.4    & 0.2    & setosa\\\\\n",
       "\\end{tabular}\n"
      ],
      "text/markdown": [
       "\n",
       "| <!--/--> | Sepal.Length | Sepal.Width | Petal.Length | Petal.Width | Species | \n",
       "|---|\n",
       "| case_2 | 4.9    | 3      | 1.4    | 0.2    | setosa | \n",
       "\n",
       "\n"
      ],
      "text/plain": [
       "       Sepal.Length Sepal.Width Petal.Length Petal.Width Species\n",
       "case_2 4.9          3           1.4          0.2         setosa "
      ]
     },
     "metadata": {},
     "output_type": "display_data"
    }
   ],
   "source": [
    "## valores para una fila particular\n",
    "x[2,]"
   ]
  },
  {
   "cell_type": "code",
   "execution_count": 35,
   "metadata": {
    "scrolled": true
   },
   "outputs": [
    {
     "data": {
      "text/html": [
       "<table>\n",
       "<thead><tr><th></th><th scope=col>Sepal.Length</th><th scope=col>Sepal.Width</th><th scope=col>Petal.Length</th><th scope=col>Petal.Width</th><th scope=col>Species</th></tr></thead>\n",
       "<tbody>\n",
       "\t<tr><th scope=row>case_2</th><td>4.9   </td><td>3.0   </td><td>1.4   </td><td>0.2   </td><td>setosa</td></tr>\n",
       "\t<tr><th scope=row>case_4</th><td>4.6   </td><td>3.1   </td><td>1.5   </td><td>0.2   </td><td>setosa</td></tr>\n",
       "\t<tr><th scope=row>case_6</th><td>5.4   </td><td>3.9   </td><td>1.7   </td><td>0.4   </td><td>setosa</td></tr>\n",
       "</tbody>\n",
       "</table>\n"
      ],
      "text/latex": [
       "\\begin{tabular}{r|lllll}\n",
       "  & Sepal.Length & Sepal.Width & Petal.Length & Petal.Width & Species\\\\\n",
       "\\hline\n",
       "\tcase\\_2 & 4.9    & 3.0    & 1.4    & 0.2    & setosa\\\\\n",
       "\tcase\\_4 & 4.6    & 3.1    & 1.5    & 0.2    & setosa\\\\\n",
       "\tcase\\_6 & 5.4    & 3.9    & 1.7    & 0.4    & setosa\\\\\n",
       "\\end{tabular}\n"
      ],
      "text/markdown": [
       "\n",
       "| <!--/--> | Sepal.Length | Sepal.Width | Petal.Length | Petal.Width | Species | \n",
       "|---|---|---|\n",
       "| case_2 | 4.9    | 3.0    | 1.4    | 0.2    | setosa | \n",
       "| case_4 | 4.6    | 3.1    | 1.5    | 0.2    | setosa | \n",
       "| case_6 | 5.4    | 3.9    | 1.7    | 0.4    | setosa | \n",
       "\n",
       "\n"
      ],
      "text/plain": [
       "       Sepal.Length Sepal.Width Petal.Length Petal.Width Species\n",
       "case_2 4.9          3.0         1.4          0.2         setosa \n",
       "case_4 4.6          3.1         1.5          0.2         setosa \n",
       "case_6 5.4          3.9         1.7          0.4         setosa "
      ]
     },
     "metadata": {},
     "output_type": "display_data"
    }
   ],
   "source": [
    "## indices como vector\n",
    "x[c(2,4,6),]"
   ]
  },
  {
   "cell_type": "code",
   "execution_count": 36,
   "metadata": {},
   "outputs": [
    {
     "data": {
      "text/html": [
       "<table>\n",
       "<thead><tr><th></th><th scope=col>Sepal.Length</th><th scope=col>Species</th></tr></thead>\n",
       "<tbody>\n",
       "\t<tr><th scope=row>case_2</th><td>4.9   </td><td>setosa</td></tr>\n",
       "\t<tr><th scope=row>case_4</th><td>4.6   </td><td>setosa</td></tr>\n",
       "\t<tr><th scope=row>case_6</th><td>5.4   </td><td>setosa</td></tr>\n",
       "</tbody>\n",
       "</table>\n"
      ],
      "text/latex": [
       "\\begin{tabular}{r|ll}\n",
       "  & Sepal.Length & Species\\\\\n",
       "\\hline\n",
       "\tcase\\_2 & 4.9    & setosa\\\\\n",
       "\tcase\\_4 & 4.6    & setosa\\\\\n",
       "\tcase\\_6 & 5.4    & setosa\\\\\n",
       "\\end{tabular}\n"
      ],
      "text/markdown": [
       "\n",
       "| <!--/--> | Sepal.Length | Species | \n",
       "|---|---|---|\n",
       "| case_2 | 4.9    | setosa | \n",
       "| case_4 | 4.6    | setosa | \n",
       "| case_6 | 5.4    | setosa | \n",
       "\n",
       "\n"
      ],
      "text/plain": [
       "       Sepal.Length Species\n",
       "case_2 4.9          setosa \n",
       "case_4 4.6          setosa \n",
       "case_6 5.4          setosa "
      ]
     },
     "metadata": {},
     "output_type": "display_data"
    }
   ],
   "source": [
    "## indices como vector\n",
    "x[c(2,4,6), c(1, 5)]"
   ]
  },
  {
   "cell_type": "markdown",
   "metadata": {},
   "source": [
    "## Indexación booleana"
   ]
  },
  {
   "cell_type": "code",
   "execution_count": 37,
   "metadata": {},
   "outputs": [
    {
     "data": {
      "text/html": [
       "<ol class=list-inline>\n",
       "\t<li>FALSE</li>\n",
       "\t<li>FALSE</li>\n",
       "\t<li>FALSE</li>\n",
       "\t<li>FALSE</li>\n",
       "\t<li>FALSE</li>\n",
       "\t<li>FALSE</li>\n",
       "\t<li>FALSE</li>\n",
       "\t<li>FALSE</li>\n",
       "\t<li>FALSE</li>\n",
       "\t<li>FALSE</li>\n",
       "\t<li>FALSE</li>\n",
       "\t<li>FALSE</li>\n",
       "\t<li>FALSE</li>\n",
       "\t<li>FALSE</li>\n",
       "\t<li>FALSE</li>\n",
       "\t<li>FALSE</li>\n",
       "\t<li>FALSE</li>\n",
       "\t<li>FALSE</li>\n",
       "\t<li>FALSE</li>\n",
       "\t<li>FALSE</li>\n",
       "\t<li>FALSE</li>\n",
       "\t<li>FALSE</li>\n",
       "\t<li>FALSE</li>\n",
       "\t<li>FALSE</li>\n",
       "\t<li>FALSE</li>\n",
       "\t<li>FALSE</li>\n",
       "\t<li>FALSE</li>\n",
       "\t<li>FALSE</li>\n",
       "\t<li>FALSE</li>\n",
       "\t<li>FALSE</li>\n",
       "</ol>\n"
      ],
      "text/latex": [
       "\\begin{enumerate*}\n",
       "\\item FALSE\n",
       "\\item FALSE\n",
       "\\item FALSE\n",
       "\\item FALSE\n",
       "\\item FALSE\n",
       "\\item FALSE\n",
       "\\item FALSE\n",
       "\\item FALSE\n",
       "\\item FALSE\n",
       "\\item FALSE\n",
       "\\item FALSE\n",
       "\\item FALSE\n",
       "\\item FALSE\n",
       "\\item FALSE\n",
       "\\item FALSE\n",
       "\\item FALSE\n",
       "\\item FALSE\n",
       "\\item FALSE\n",
       "\\item FALSE\n",
       "\\item FALSE\n",
       "\\item FALSE\n",
       "\\item FALSE\n",
       "\\item FALSE\n",
       "\\item FALSE\n",
       "\\item FALSE\n",
       "\\item FALSE\n",
       "\\item FALSE\n",
       "\\item FALSE\n",
       "\\item FALSE\n",
       "\\item FALSE\n",
       "\\end{enumerate*}\n"
      ],
      "text/markdown": [
       "1. FALSE\n",
       "2. FALSE\n",
       "3. FALSE\n",
       "4. FALSE\n",
       "5. FALSE\n",
       "6. FALSE\n",
       "7. FALSE\n",
       "8. FALSE\n",
       "9. FALSE\n",
       "10. FALSE\n",
       "11. FALSE\n",
       "12. FALSE\n",
       "13. FALSE\n",
       "14. FALSE\n",
       "15. FALSE\n",
       "16. FALSE\n",
       "17. FALSE\n",
       "18. FALSE\n",
       "19. FALSE\n",
       "20. FALSE\n",
       "21. FALSE\n",
       "22. FALSE\n",
       "23. FALSE\n",
       "24. FALSE\n",
       "25. FALSE\n",
       "26. FALSE\n",
       "27. FALSE\n",
       "28. FALSE\n",
       "29. FALSE\n",
       "30. FALSE\n",
       "\n",
       "\n"
      ],
      "text/plain": [
       " [1] FALSE FALSE FALSE FALSE FALSE FALSE FALSE FALSE FALSE FALSE FALSE FALSE\n",
       "[13] FALSE FALSE FALSE FALSE FALSE FALSE FALSE FALSE FALSE FALSE FALSE FALSE\n",
       "[25] FALSE FALSE FALSE FALSE FALSE FALSE"
      ]
     },
     "metadata": {},
     "output_type": "display_data"
    }
   ],
   "source": [
    "## selección condicional\n",
    "head(x$Species == 'virginica', 30)"
   ]
  },
  {
   "cell_type": "code",
   "execution_count": 38,
   "metadata": {},
   "outputs": [
    {
     "data": {
      "text/html": [
       "<table>\n",
       "<thead><tr><th></th><th scope=col>Sepal.Length</th><th scope=col>Sepal.Width</th><th scope=col>Petal.Length</th><th scope=col>Petal.Width</th><th scope=col>Species</th></tr></thead>\n",
       "<tbody>\n",
       "\t<tr><th scope=row>case_101</th><td>6.3      </td><td>3.3      </td><td>6.0      </td><td>2.5      </td><td>virginica</td></tr>\n",
       "\t<tr><th scope=row>case_102</th><td>5.8      </td><td>2.7      </td><td>5.1      </td><td>1.9      </td><td>virginica</td></tr>\n",
       "\t<tr><th scope=row>case_103</th><td>7.1      </td><td>3.0      </td><td>5.9      </td><td>2.1      </td><td>virginica</td></tr>\n",
       "\t<tr><th scope=row>case_104</th><td>6.3      </td><td>2.9      </td><td>5.6      </td><td>1.8      </td><td>virginica</td></tr>\n",
       "\t<tr><th scope=row>case_105</th><td>6.5      </td><td>3.0      </td><td>5.8      </td><td>2.2      </td><td>virginica</td></tr>\n",
       "\t<tr><th scope=row>case_106</th><td>7.6      </td><td>3.0      </td><td>6.6      </td><td>2.1      </td><td>virginica</td></tr>\n",
       "</tbody>\n",
       "</table>\n"
      ],
      "text/latex": [
       "\\begin{tabular}{r|lllll}\n",
       "  & Sepal.Length & Sepal.Width & Petal.Length & Petal.Width & Species\\\\\n",
       "\\hline\n",
       "\tcase\\_101 & 6.3       & 3.3       & 6.0       & 2.5       & virginica\\\\\n",
       "\tcase\\_102 & 5.8       & 2.7       & 5.1       & 1.9       & virginica\\\\\n",
       "\tcase\\_103 & 7.1       & 3.0       & 5.9       & 2.1       & virginica\\\\\n",
       "\tcase\\_104 & 6.3       & 2.9       & 5.6       & 1.8       & virginica\\\\\n",
       "\tcase\\_105 & 6.5       & 3.0       & 5.8       & 2.2       & virginica\\\\\n",
       "\tcase\\_106 & 7.6       & 3.0       & 6.6       & 2.1       & virginica\\\\\n",
       "\\end{tabular}\n"
      ],
      "text/markdown": [
       "\n",
       "| <!--/--> | Sepal.Length | Sepal.Width | Petal.Length | Petal.Width | Species | \n",
       "|---|---|---|---|---|---|\n",
       "| case_101 | 6.3       | 3.3       | 6.0       | 2.5       | virginica | \n",
       "| case_102 | 5.8       | 2.7       | 5.1       | 1.9       | virginica | \n",
       "| case_103 | 7.1       | 3.0       | 5.9       | 2.1       | virginica | \n",
       "| case_104 | 6.3       | 2.9       | 5.6       | 1.8       | virginica | \n",
       "| case_105 | 6.5       | 3.0       | 5.8       | 2.2       | virginica | \n",
       "| case_106 | 7.6       | 3.0       | 6.6       | 2.1       | virginica | \n",
       "\n",
       "\n"
      ],
      "text/plain": [
       "         Sepal.Length Sepal.Width Petal.Length Petal.Width Species  \n",
       "case_101 6.3          3.3         6.0          2.5         virginica\n",
       "case_102 5.8          2.7         5.1          1.9         virginica\n",
       "case_103 7.1          3.0         5.9          2.1         virginica\n",
       "case_104 6.3          2.9         5.6          1.8         virginica\n",
       "case_105 6.5          3.0         5.8          2.2         virginica\n",
       "case_106 7.6          3.0         6.6          2.1         virginica"
      ]
     },
     "metadata": {},
     "output_type": "display_data"
    }
   ],
   "source": [
    "## selección condicional\n",
    "z <- x[x$Species == 'virginica',] \n",
    "head(z)"
   ]
  },
  {
   "cell_type": "code",
   "execution_count": 39,
   "metadata": {},
   "outputs": [
    {
     "data": {
      "text/html": [
       "<table>\n",
       "<thead><tr><th></th><th scope=col>Sepal.Length</th><th scope=col>Sepal.Width</th><th scope=col>Petal.Length</th><th scope=col>Petal.Width</th><th scope=col>Species</th></tr></thead>\n",
       "<tbody>\n",
       "\t<tr><th scope=row>case_51</th><td>7.0       </td><td>3.2       </td><td>4.7       </td><td>1.4       </td><td>versicolor</td></tr>\n",
       "\t<tr><th scope=row>case_52</th><td>6.4       </td><td>3.2       </td><td>4.5       </td><td>1.5       </td><td>versicolor</td></tr>\n",
       "\t<tr><th scope=row>case_53</th><td>6.9       </td><td>3.1       </td><td>4.9       </td><td>1.5       </td><td>versicolor</td></tr>\n",
       "\t<tr><th scope=row>case_54</th><td>5.5       </td><td>2.3       </td><td>4.0       </td><td>1.3       </td><td>versicolor</td></tr>\n",
       "\t<tr><th scope=row>case_55</th><td>6.5       </td><td>2.8       </td><td>4.6       </td><td>1.5       </td><td>versicolor</td></tr>\n",
       "\t<tr><th scope=row>case_56</th><td>5.7       </td><td>2.8       </td><td>4.5       </td><td>1.3       </td><td>versicolor</td></tr>\n",
       "</tbody>\n",
       "</table>\n"
      ],
      "text/latex": [
       "\\begin{tabular}{r|lllll}\n",
       "  & Sepal.Length & Sepal.Width & Petal.Length & Petal.Width & Species\\\\\n",
       "\\hline\n",
       "\tcase\\_51 & 7.0        & 3.2        & 4.7        & 1.4        & versicolor\\\\\n",
       "\tcase\\_52 & 6.4        & 3.2        & 4.5        & 1.5        & versicolor\\\\\n",
       "\tcase\\_53 & 6.9        & 3.1        & 4.9        & 1.5        & versicolor\\\\\n",
       "\tcase\\_54 & 5.5        & 2.3        & 4.0        & 1.3        & versicolor\\\\\n",
       "\tcase\\_55 & 6.5        & 2.8        & 4.6        & 1.5        & versicolor\\\\\n",
       "\tcase\\_56 & 5.7        & 2.8        & 4.5        & 1.3        & versicolor\\\\\n",
       "\\end{tabular}\n"
      ],
      "text/markdown": [
       "\n",
       "| <!--/--> | Sepal.Length | Sepal.Width | Petal.Length | Petal.Width | Species | \n",
       "|---|---|---|---|---|---|\n",
       "| case_51 | 7.0        | 3.2        | 4.7        | 1.4        | versicolor | \n",
       "| case_52 | 6.4        | 3.2        | 4.5        | 1.5        | versicolor | \n",
       "| case_53 | 6.9        | 3.1        | 4.9        | 1.5        | versicolor | \n",
       "| case_54 | 5.5        | 2.3        | 4.0        | 1.3        | versicolor | \n",
       "| case_55 | 6.5        | 2.8        | 4.6        | 1.5        | versicolor | \n",
       "| case_56 | 5.7        | 2.8        | 4.5        | 1.3        | versicolor | \n",
       "\n",
       "\n"
      ],
      "text/plain": [
       "        Sepal.Length Sepal.Width Petal.Length Petal.Width Species   \n",
       "case_51 7.0          3.2         4.7          1.4         versicolor\n",
       "case_52 6.4          3.2         4.5          1.5         versicolor\n",
       "case_53 6.9          3.1         4.9          1.5         versicolor\n",
       "case_54 5.5          2.3         4.0          1.3         versicolor\n",
       "case_55 6.5          2.8         4.6          1.5         versicolor\n",
       "case_56 5.7          2.8         4.5          1.3         versicolor"
      ]
     },
     "metadata": {},
     "output_type": "display_data"
    }
   ],
   "source": [
    "## selección condicional\n",
    "z <- x[x$Petal.Length > 3.2,] \n",
    "head(z)"
   ]
  },
  {
   "cell_type": "code",
   "execution_count": 40,
   "metadata": {},
   "outputs": [
    {
     "data": {
      "text/plain": [
       "\n",
       "    setosa versicolor  virginica \n",
       "         0         49         50 "
      ]
     },
     "metadata": {},
     "output_type": "display_data"
    }
   ],
   "source": [
    "## conteo de casos\n",
    "table(z$Species)"
   ]
  },
  {
   "cell_type": "markdown",
   "metadata": {},
   "source": [
    "## Adición de filas"
   ]
  },
  {
   "cell_type": "code",
   "execution_count": 41,
   "metadata": {},
   "outputs": [
    {
     "data": {
      "text/html": [
       "<table>\n",
       "<thead><tr><th></th><th scope=col>Sepal.Length</th><th scope=col>Sepal.Width</th><th scope=col>Petal.Length</th><th scope=col>Petal.Width</th><th scope=col>Species</th></tr></thead>\n",
       "<tbody>\n",
       "\t<tr><th scope=row>case_146</th><td>6.7      </td><td>3        </td><td>5.2      </td><td>2.3      </td><td>virginica</td></tr>\n",
       "\t<tr><th scope=row>case_147</th><td>6.3      </td><td>2.5      </td><td>5        </td><td>1.9      </td><td>virginica</td></tr>\n",
       "\t<tr><th scope=row>case_148</th><td>6.5      </td><td>3        </td><td>5.2      </td><td>2        </td><td>virginica</td></tr>\n",
       "\t<tr><th scope=row>case_149</th><td>6.2      </td><td>3.4      </td><td>5.4      </td><td>2.3      </td><td>virginica</td></tr>\n",
       "\t<tr><th scope=row>case_150</th><td>5.9      </td><td>3        </td><td>5.1      </td><td>1.8      </td><td>virginica</td></tr>\n",
       "\t<tr><th scope=row>151</th><td>1        </td><td>1        </td><td>1        </td><td>1        </td><td>setosa   </td></tr>\n",
       "</tbody>\n",
       "</table>\n"
      ],
      "text/latex": [
       "\\begin{tabular}{r|lllll}\n",
       "  & Sepal.Length & Sepal.Width & Petal.Length & Petal.Width & Species\\\\\n",
       "\\hline\n",
       "\tcase\\_146 & 6.7       & 3         & 5.2       & 2.3       & virginica\\\\\n",
       "\tcase\\_147 & 6.3       & 2.5       & 5         & 1.9       & virginica\\\\\n",
       "\tcase\\_148 & 6.5       & 3         & 5.2       & 2         & virginica\\\\\n",
       "\tcase\\_149 & 6.2       & 3.4       & 5.4       & 2.3       & virginica\\\\\n",
       "\tcase\\_150 & 5.9       & 3         & 5.1       & 1.8       & virginica\\\\\n",
       "\t151 & 1         & 1         & 1         & 1         & setosa   \\\\\n",
       "\\end{tabular}\n"
      ],
      "text/markdown": [
       "\n",
       "| <!--/--> | Sepal.Length | Sepal.Width | Petal.Length | Petal.Width | Species | \n",
       "|---|---|---|---|---|---|\n",
       "| case_146 | 6.7       | 3         | 5.2       | 2.3       | virginica | \n",
       "| case_147 | 6.3       | 2.5       | 5         | 1.9       | virginica | \n",
       "| case_148 | 6.5       | 3         | 5.2       | 2         | virginica | \n",
       "| case_149 | 6.2       | 3.4       | 5.4       | 2.3       | virginica | \n",
       "| case_150 | 5.9       | 3         | 5.1       | 1.8       | virginica | \n",
       "| 151 | 1         | 1         | 1         | 1         | setosa    | \n",
       "\n",
       "\n"
      ],
      "text/plain": [
       "         Sepal.Length Sepal.Width Petal.Length Petal.Width Species  \n",
       "case_146 6.7          3           5.2          2.3         virginica\n",
       "case_147 6.3          2.5         5            1.9         virginica\n",
       "case_148 6.5          3           5.2          2           virginica\n",
       "case_149 6.2          3.4         5.4          2.3         virginica\n",
       "case_150 5.9          3           5.1          1.8         virginica\n",
       "151      1            1           1            1           setosa   "
      ]
     },
     "metadata": {},
     "output_type": "display_data"
    }
   ],
   "source": [
    "## adición de una fila (al final)\n",
    "u <- rbind(x, \n",
    "           c(1, 1, 1, 1, 'setosa'))\n",
    "tail(u)"
   ]
  },
  {
   "cell_type": "markdown",
   "metadata": {},
   "source": [
    "## Inserción de filas"
   ]
  },
  {
   "cell_type": "code",
   "execution_count": 42,
   "metadata": {},
   "outputs": [
    {
     "data": {
      "text/html": [
       "<table>\n",
       "<thead><tr><th></th><th scope=col>Sepal.Length</th><th scope=col>Sepal.Width</th><th scope=col>Petal.Length</th><th scope=col>Petal.Width</th><th scope=col>Species</th></tr></thead>\n",
       "<tbody>\n",
       "\t<tr><th scope=row>case_147</th><td>6.3      </td><td>2.5      </td><td>5        </td><td>1.9      </td><td>virginica</td></tr>\n",
       "\t<tr><th scope=row>case_148</th><td>6.5      </td><td>3        </td><td>5.2      </td><td>2        </td><td>virginica</td></tr>\n",
       "\t<tr><th scope=row>case_149</th><td>6.2      </td><td>3.4      </td><td>5.4      </td><td>2.3      </td><td>virginica</td></tr>\n",
       "\t<tr><th scope=row>case_150</th><td>5.9      </td><td>3        </td><td>5.1      </td><td>1.8      </td><td>virginica</td></tr>\n",
       "\t<tr><th scope=row>151</th><td>2        </td><td>2        </td><td>2        </td><td>2        </td><td>setosa   </td></tr>\n",
       "\t<tr><th scope=row>1511</th><td>1        </td><td>1        </td><td>1        </td><td>1        </td><td>setosa   </td></tr>\n",
       "</tbody>\n",
       "</table>\n"
      ],
      "text/latex": [
       "\\begin{tabular}{r|lllll}\n",
       "  & Sepal.Length & Sepal.Width & Petal.Length & Petal.Width & Species\\\\\n",
       "\\hline\n",
       "\tcase\\_147 & 6.3       & 2.5       & 5         & 1.9       & virginica\\\\\n",
       "\tcase\\_148 & 6.5       & 3         & 5.2       & 2         & virginica\\\\\n",
       "\tcase\\_149 & 6.2       & 3.4       & 5.4       & 2.3       & virginica\\\\\n",
       "\tcase\\_150 & 5.9       & 3         & 5.1       & 1.8       & virginica\\\\\n",
       "\t151 & 2         & 2         & 2         & 2         & setosa   \\\\\n",
       "\t1511 & 1         & 1         & 1         & 1         & setosa   \\\\\n",
       "\\end{tabular}\n"
      ],
      "text/markdown": [
       "\n",
       "| <!--/--> | Sepal.Length | Sepal.Width | Petal.Length | Petal.Width | Species | \n",
       "|---|---|---|---|---|---|\n",
       "| case_147 | 6.3       | 2.5       | 5         | 1.9       | virginica | \n",
       "| case_148 | 6.5       | 3         | 5.2       | 2         | virginica | \n",
       "| case_149 | 6.2       | 3.4       | 5.4       | 2.3       | virginica | \n",
       "| case_150 | 5.9       | 3         | 5.1       | 1.8       | virginica | \n",
       "| 151 | 2         | 2         | 2         | 2         | setosa    | \n",
       "| 1511 | 1         | 1         | 1         | 1         | setosa    | \n",
       "\n",
       "\n"
      ],
      "text/plain": [
       "         Sepal.Length Sepal.Width Petal.Length Petal.Width Species  \n",
       "case_147 6.3          2.5         5            1.9         virginica\n",
       "case_148 6.5          3           5.2          2           virginica\n",
       "case_149 6.2          3.4         5.4          2.3         virginica\n",
       "case_150 5.9          3           5.1          1.8         virginica\n",
       "151      2            2           2            2           setosa   \n",
       "1511     1            1           1            1           setosa   "
      ]
     },
     "metadata": {},
     "output_type": "display_data"
    }
   ],
   "source": [
    "## inserción en medio del data.frame\n",
    "u <- rbind(u[1:150,], \n",
    "           c(2, 2, 2, 2, 'setosa'),\n",
    "           u[151,])\n",
    "\n",
    "tail(u)"
   ]
  },
  {
   "cell_type": "markdown",
   "metadata": {},
   "source": [
    "## Borrado de filas"
   ]
  },
  {
   "cell_type": "code",
   "execution_count": 43,
   "metadata": {},
   "outputs": [
    {
     "data": {
      "text/html": [
       "<table>\n",
       "<thead><tr><th></th><th scope=col>Sepal.Length</th><th scope=col>Sepal.Width</th><th scope=col>Petal.Length</th><th scope=col>Petal.Width</th><th scope=col>Species</th></tr></thead>\n",
       "<tbody>\n",
       "\t<tr><th scope=row>case_145</th><td>6.7      </td><td>3.3      </td><td>5.7      </td><td>2.5      </td><td>virginica</td></tr>\n",
       "\t<tr><th scope=row>case_146</th><td>6.7      </td><td>3        </td><td>5.2      </td><td>2.3      </td><td>virginica</td></tr>\n",
       "\t<tr><th scope=row>case_147</th><td>6.3      </td><td>2.5      </td><td>5        </td><td>1.9      </td><td>virginica</td></tr>\n",
       "\t<tr><th scope=row>case_148</th><td>6.5      </td><td>3        </td><td>5.2      </td><td>2        </td><td>virginica</td></tr>\n",
       "\t<tr><th scope=row>case_149</th><td>6.2      </td><td>3.4      </td><td>5.4      </td><td>2.3      </td><td>virginica</td></tr>\n",
       "\t<tr><th scope=row>case_150</th><td>5.9      </td><td>3        </td><td>5.1      </td><td>1.8      </td><td>virginica</td></tr>\n",
       "</tbody>\n",
       "</table>\n"
      ],
      "text/latex": [
       "\\begin{tabular}{r|lllll}\n",
       "  & Sepal.Length & Sepal.Width & Petal.Length & Petal.Width & Species\\\\\n",
       "\\hline\n",
       "\tcase\\_145 & 6.7       & 3.3       & 5.7       & 2.5       & virginica\\\\\n",
       "\tcase\\_146 & 6.7       & 3         & 5.2       & 2.3       & virginica\\\\\n",
       "\tcase\\_147 & 6.3       & 2.5       & 5         & 1.9       & virginica\\\\\n",
       "\tcase\\_148 & 6.5       & 3         & 5.2       & 2         & virginica\\\\\n",
       "\tcase\\_149 & 6.2       & 3.4       & 5.4       & 2.3       & virginica\\\\\n",
       "\tcase\\_150 & 5.9       & 3         & 5.1       & 1.8       & virginica\\\\\n",
       "\\end{tabular}\n"
      ],
      "text/markdown": [
       "\n",
       "| <!--/--> | Sepal.Length | Sepal.Width | Petal.Length | Petal.Width | Species | \n",
       "|---|---|---|---|---|---|\n",
       "| case_145 | 6.7       | 3.3       | 5.7       | 2.5       | virginica | \n",
       "| case_146 | 6.7       | 3         | 5.2       | 2.3       | virginica | \n",
       "| case_147 | 6.3       | 2.5       | 5         | 1.9       | virginica | \n",
       "| case_148 | 6.5       | 3         | 5.2       | 2         | virginica | \n",
       "| case_149 | 6.2       | 3.4       | 5.4       | 2.3       | virginica | \n",
       "| case_150 | 5.9       | 3         | 5.1       | 1.8       | virginica | \n",
       "\n",
       "\n"
      ],
      "text/plain": [
       "         Sepal.Length Sepal.Width Petal.Length Petal.Width Species  \n",
       "case_145 6.7          3.3         5.7          2.5         virginica\n",
       "case_146 6.7          3           5.2          2.3         virginica\n",
       "case_147 6.3          2.5         5            1.9         virginica\n",
       "case_148 6.5          3           5.2          2           virginica\n",
       "case_149 6.2          3.4         5.4          2.3         virginica\n",
       "case_150 5.9          3           5.1          1.8         virginica"
      ]
     },
     "metadata": {},
     "output_type": "display_data"
    }
   ],
   "source": [
    "## borrado de las dos últimas filas\n",
    "u <- u[-c(151, 152),]\n",
    "tail(u)"
   ]
  },
  {
   "cell_type": "markdown",
   "metadata": {},
   "source": [
    "## Ordenación"
   ]
  },
  {
   "cell_type": "code",
   "execution_count": 44,
   "metadata": {},
   "outputs": [
    {
     "data": {
      "text/html": [
       "<ol class=list-inline>\n",
       "\t<li>61</li>\n",
       "\t<li>63</li>\n",
       "\t<li>120</li>\n",
       "\t<li>69</li>\n",
       "\t<li>42</li>\n",
       "\t<li>94</li>\n",
       "</ol>\n"
      ],
      "text/latex": [
       "\\begin{enumerate*}\n",
       "\\item 61\n",
       "\\item 63\n",
       "\\item 120\n",
       "\\item 69\n",
       "\\item 42\n",
       "\\item 94\n",
       "\\end{enumerate*}\n"
      ],
      "text/markdown": [
       "1. 61\n",
       "2. 63\n",
       "3. 120\n",
       "4. 69\n",
       "5. 42\n",
       "6. 94\n",
       "\n",
       "\n"
      ],
      "text/plain": [
       "[1]  61  63 120  69  42  94"
      ]
     },
     "metadata": {},
     "output_type": "display_data"
    }
   ],
   "source": [
    "## ordena por varias columnas\n",
    "## devuelve los indices de las filas\n",
    "## ordena primero por Sepal.Width y luego por Sepal.Length\n",
    "u <- order(x$Sepal.Width, x$Sepal.Length)  \n",
    "head(u)                                   "
   ]
  },
  {
   "cell_type": "code",
   "execution_count": 45,
   "metadata": {},
   "outputs": [
    {
     "data": {
      "text/html": [
       "<table>\n",
       "<thead><tr><th></th><th scope=col>Sepal.Length</th><th scope=col>Sepal.Width</th><th scope=col>Petal.Length</th><th scope=col>Petal.Width</th><th scope=col>Species</th></tr></thead>\n",
       "<tbody>\n",
       "\t<tr><th scope=row>case_61</th><td>5.0       </td><td>2.0       </td><td>3.5       </td><td>1.0       </td><td>versicolor</td></tr>\n",
       "\t<tr><th scope=row>case_63</th><td>6.0       </td><td>2.2       </td><td>4.0       </td><td>1.0       </td><td>versicolor</td></tr>\n",
       "\t<tr><th scope=row>case_120</th><td>6.0       </td><td>2.2       </td><td>5.0       </td><td>1.5       </td><td>virginica </td></tr>\n",
       "\t<tr><th scope=row>case_69</th><td>6.2       </td><td>2.2       </td><td>4.5       </td><td>1.5       </td><td>versicolor</td></tr>\n",
       "\t<tr><th scope=row>case_42</th><td>4.5       </td><td>2.3       </td><td>1.3       </td><td>0.3       </td><td>setosa    </td></tr>\n",
       "\t<tr><th scope=row>case_94</th><td>5.0       </td><td>2.3       </td><td>3.3       </td><td>1.0       </td><td>versicolor</td></tr>\n",
       "\t<tr><th scope=row>case_54</th><td>5.5       </td><td>2.3       </td><td>4.0       </td><td>1.3       </td><td>versicolor</td></tr>\n",
       "\t<tr><th scope=row>case_88</th><td>6.3       </td><td>2.3       </td><td>4.4       </td><td>1.3       </td><td>versicolor</td></tr>\n",
       "\t<tr><th scope=row>case_58</th><td>4.9       </td><td>2.4       </td><td>3.3       </td><td>1.0       </td><td>versicolor</td></tr>\n",
       "\t<tr><th scope=row>case_81</th><td>5.5       </td><td>2.4       </td><td>3.8       </td><td>1.1       </td><td>versicolor</td></tr>\n",
       "</tbody>\n",
       "</table>\n"
      ],
      "text/latex": [
       "\\begin{tabular}{r|lllll}\n",
       "  & Sepal.Length & Sepal.Width & Petal.Length & Petal.Width & Species\\\\\n",
       "\\hline\n",
       "\tcase\\_61 & 5.0        & 2.0        & 3.5        & 1.0        & versicolor\\\\\n",
       "\tcase\\_63 & 6.0        & 2.2        & 4.0        & 1.0        & versicolor\\\\\n",
       "\tcase\\_120 & 6.0        & 2.2        & 5.0        & 1.5        & virginica \\\\\n",
       "\tcase\\_69 & 6.2        & 2.2        & 4.5        & 1.5        & versicolor\\\\\n",
       "\tcase\\_42 & 4.5        & 2.3        & 1.3        & 0.3        & setosa    \\\\\n",
       "\tcase\\_94 & 5.0        & 2.3        & 3.3        & 1.0        & versicolor\\\\\n",
       "\tcase\\_54 & 5.5        & 2.3        & 4.0        & 1.3        & versicolor\\\\\n",
       "\tcase\\_88 & 6.3        & 2.3        & 4.4        & 1.3        & versicolor\\\\\n",
       "\tcase\\_58 & 4.9        & 2.4        & 3.3        & 1.0        & versicolor\\\\\n",
       "\tcase\\_81 & 5.5        & 2.4        & 3.8        & 1.1        & versicolor\\\\\n",
       "\\end{tabular}\n"
      ],
      "text/markdown": [
       "\n",
       "| <!--/--> | Sepal.Length | Sepal.Width | Petal.Length | Petal.Width | Species | \n",
       "|---|---|---|---|---|---|---|---|---|---|\n",
       "| case_61 | 5.0        | 2.0        | 3.5        | 1.0        | versicolor | \n",
       "| case_63 | 6.0        | 2.2        | 4.0        | 1.0        | versicolor | \n",
       "| case_120 | 6.0        | 2.2        | 5.0        | 1.5        | virginica  | \n",
       "| case_69 | 6.2        | 2.2        | 4.5        | 1.5        | versicolor | \n",
       "| case_42 | 4.5        | 2.3        | 1.3        | 0.3        | setosa     | \n",
       "| case_94 | 5.0        | 2.3        | 3.3        | 1.0        | versicolor | \n",
       "| case_54 | 5.5        | 2.3        | 4.0        | 1.3        | versicolor | \n",
       "| case_88 | 6.3        | 2.3        | 4.4        | 1.3        | versicolor | \n",
       "| case_58 | 4.9        | 2.4        | 3.3        | 1.0        | versicolor | \n",
       "| case_81 | 5.5        | 2.4        | 3.8        | 1.1        | versicolor | \n",
       "\n",
       "\n"
      ],
      "text/plain": [
       "         Sepal.Length Sepal.Width Petal.Length Petal.Width Species   \n",
       "case_61  5.0          2.0         3.5          1.0         versicolor\n",
       "case_63  6.0          2.2         4.0          1.0         versicolor\n",
       "case_120 6.0          2.2         5.0          1.5         virginica \n",
       "case_69  6.2          2.2         4.5          1.5         versicolor\n",
       "case_42  4.5          2.3         1.3          0.3         setosa    \n",
       "case_94  5.0          2.3         3.3          1.0         versicolor\n",
       "case_54  5.5          2.3         4.0          1.3         versicolor\n",
       "case_88  6.3          2.3         4.4          1.3         versicolor\n",
       "case_58  4.9          2.4         3.3          1.0         versicolor\n",
       "case_81  5.5          2.4         3.8          1.1         versicolor"
      ]
     },
     "metadata": {},
     "output_type": "display_data"
    }
   ],
   "source": [
    "head(x[u,], n = 10)"
   ]
  },
  {
   "cell_type": "markdown",
   "metadata": {},
   "source": [
    "## Subconjuntos y particionamiento"
   ]
  },
  {
   "cell_type": "code",
   "execution_count": 46,
   "metadata": {},
   "outputs": [
    {
     "data": {
      "text/html": [
       "<table>\n",
       "<thead><tr><th></th><th scope=col>Sepal.Length</th><th scope=col>Sepal.Width</th><th scope=col>Petal.Length</th><th scope=col>Petal.Width</th><th scope=col>Species</th></tr></thead>\n",
       "<tbody>\n",
       "\t<tr><th scope=row>case_101</th><td>6.3      </td><td>3.3      </td><td>6.0      </td><td>2.5      </td><td>virginica</td></tr>\n",
       "\t<tr><th scope=row>case_102</th><td>5.8      </td><td>2.7      </td><td>5.1      </td><td>1.9      </td><td>virginica</td></tr>\n",
       "\t<tr><th scope=row>case_103</th><td>7.1      </td><td>3.0      </td><td>5.9      </td><td>2.1      </td><td>virginica</td></tr>\n",
       "\t<tr><th scope=row>case_104</th><td>6.3      </td><td>2.9      </td><td>5.6      </td><td>1.8      </td><td>virginica</td></tr>\n",
       "\t<tr><th scope=row>case_105</th><td>6.5      </td><td>3.0      </td><td>5.8      </td><td>2.2      </td><td>virginica</td></tr>\n",
       "\t<tr><th scope=row>case_106</th><td>7.6      </td><td>3.0      </td><td>6.6      </td><td>2.1      </td><td>virginica</td></tr>\n",
       "</tbody>\n",
       "</table>\n"
      ],
      "text/latex": [
       "\\begin{tabular}{r|lllll}\n",
       "  & Sepal.Length & Sepal.Width & Petal.Length & Petal.Width & Species\\\\\n",
       "\\hline\n",
       "\tcase\\_101 & 6.3       & 3.3       & 6.0       & 2.5       & virginica\\\\\n",
       "\tcase\\_102 & 5.8       & 2.7       & 5.1       & 1.9       & virginica\\\\\n",
       "\tcase\\_103 & 7.1       & 3.0       & 5.9       & 2.1       & virginica\\\\\n",
       "\tcase\\_104 & 6.3       & 2.9       & 5.6       & 1.8       & virginica\\\\\n",
       "\tcase\\_105 & 6.5       & 3.0       & 5.8       & 2.2       & virginica\\\\\n",
       "\tcase\\_106 & 7.6       & 3.0       & 6.6       & 2.1       & virginica\\\\\n",
       "\\end{tabular}\n"
      ],
      "text/markdown": [
       "\n",
       "| <!--/--> | Sepal.Length | Sepal.Width | Petal.Length | Petal.Width | Species | \n",
       "|---|---|---|---|---|---|\n",
       "| case_101 | 6.3       | 3.3       | 6.0       | 2.5       | virginica | \n",
       "| case_102 | 5.8       | 2.7       | 5.1       | 1.9       | virginica | \n",
       "| case_103 | 7.1       | 3.0       | 5.9       | 2.1       | virginica | \n",
       "| case_104 | 6.3       | 2.9       | 5.6       | 1.8       | virginica | \n",
       "| case_105 | 6.5       | 3.0       | 5.8       | 2.2       | virginica | \n",
       "| case_106 | 7.6       | 3.0       | 6.6       | 2.1       | virginica | \n",
       "\n",
       "\n"
      ],
      "text/plain": [
       "         Sepal.Length Sepal.Width Petal.Length Petal.Width Species  \n",
       "case_101 6.3          3.3         6.0          2.5         virginica\n",
       "case_102 5.8          2.7         5.1          1.9         virginica\n",
       "case_103 7.1          3.0         5.9          2.1         virginica\n",
       "case_104 6.3          2.9         5.6          1.8         virginica\n",
       "case_105 6.5          3.0         5.8          2.2         virginica\n",
       "case_106 7.6          3.0         6.6          2.1         virginica"
      ]
     },
     "metadata": {},
     "output_type": "display_data"
    }
   ],
   "source": [
    "## selecciona un subconjunto de los datos.\n",
    "y <- subset(x, Species == 'virginica')\n",
    "head(y)"
   ]
  },
  {
   "cell_type": "code",
   "execution_count": 47,
   "metadata": {},
   "outputs": [
    {
     "data": {
      "text/html": [
       "<ol class=list-inline>\n",
       "\t<li>'setosa'</li>\n",
       "\t<li>'versicolor'</li>\n",
       "\t<li>'virginica'</li>\n",
       "</ol>\n"
      ],
      "text/latex": [
       "\\begin{enumerate*}\n",
       "\\item 'setosa'\n",
       "\\item 'versicolor'\n",
       "\\item 'virginica'\n",
       "\\end{enumerate*}\n"
      ],
      "text/markdown": [
       "1. 'setosa'\n",
       "2. 'versicolor'\n",
       "3. 'virginica'\n",
       "\n",
       "\n"
      ],
      "text/plain": [
       "[1] \"setosa\"     \"versicolor\" \"virginica\" "
      ]
     },
     "metadata": {},
     "output_type": "display_data"
    }
   ],
   "source": [
    "## partición por los valores de la columna `Species`\n",
    "y <- split(x, x$Species)\n",
    "names(y)"
   ]
  },
  {
   "cell_type": "code",
   "execution_count": 48,
   "metadata": {},
   "outputs": [
    {
     "data": {
      "text/html": [
       "3"
      ],
      "text/latex": [
       "3"
      ],
      "text/markdown": [
       "3"
      ],
      "text/plain": [
       "[1] 3"
      ]
     },
     "metadata": {},
     "output_type": "display_data"
    }
   ],
   "source": [
    "## cantidad de grupos\n",
    "length(names(y))"
   ]
  },
  {
   "cell_type": "code",
   "execution_count": 49,
   "metadata": {},
   "outputs": [
    {
     "data": {
      "text/html": [
       "<table>\n",
       "<thead><tr><th></th><th scope=col>Sepal.Length</th><th scope=col>Sepal.Width</th><th scope=col>Petal.Length</th><th scope=col>Petal.Width</th><th scope=col>Species</th></tr></thead>\n",
       "<tbody>\n",
       "\t<tr><th scope=row>case_1</th><td>5.1   </td><td>3.5   </td><td>1.4   </td><td>0.2   </td><td>setosa</td></tr>\n",
       "\t<tr><th scope=row>case_2</th><td>4.9   </td><td>3.0   </td><td>1.4   </td><td>0.2   </td><td>setosa</td></tr>\n",
       "\t<tr><th scope=row>case_3</th><td>4.7   </td><td>3.2   </td><td>1.3   </td><td>0.2   </td><td>setosa</td></tr>\n",
       "\t<tr><th scope=row>case_4</th><td>4.6   </td><td>3.1   </td><td>1.5   </td><td>0.2   </td><td>setosa</td></tr>\n",
       "\t<tr><th scope=row>case_5</th><td>5.0   </td><td>3.6   </td><td>1.4   </td><td>0.2   </td><td>setosa</td></tr>\n",
       "\t<tr><th scope=row>case_6</th><td>5.4   </td><td>3.9   </td><td>1.7   </td><td>0.4   </td><td>setosa</td></tr>\n",
       "</tbody>\n",
       "</table>\n"
      ],
      "text/latex": [
       "\\begin{tabular}{r|lllll}\n",
       "  & Sepal.Length & Sepal.Width & Petal.Length & Petal.Width & Species\\\\\n",
       "\\hline\n",
       "\tcase\\_1 & 5.1    & 3.5    & 1.4    & 0.2    & setosa\\\\\n",
       "\tcase\\_2 & 4.9    & 3.0    & 1.4    & 0.2    & setosa\\\\\n",
       "\tcase\\_3 & 4.7    & 3.2    & 1.3    & 0.2    & setosa\\\\\n",
       "\tcase\\_4 & 4.6    & 3.1    & 1.5    & 0.2    & setosa\\\\\n",
       "\tcase\\_5 & 5.0    & 3.6    & 1.4    & 0.2    & setosa\\\\\n",
       "\tcase\\_6 & 5.4    & 3.9    & 1.7    & 0.4    & setosa\\\\\n",
       "\\end{tabular}\n"
      ],
      "text/markdown": [
       "\n",
       "| <!--/--> | Sepal.Length | Sepal.Width | Petal.Length | Petal.Width | Species | \n",
       "|---|---|---|---|---|---|\n",
       "| case_1 | 5.1    | 3.5    | 1.4    | 0.2    | setosa | \n",
       "| case_2 | 4.9    | 3.0    | 1.4    | 0.2    | setosa | \n",
       "| case_3 | 4.7    | 3.2    | 1.3    | 0.2    | setosa | \n",
       "| case_4 | 4.6    | 3.1    | 1.5    | 0.2    | setosa | \n",
       "| case_5 | 5.0    | 3.6    | 1.4    | 0.2    | setosa | \n",
       "| case_6 | 5.4    | 3.9    | 1.7    | 0.4    | setosa | \n",
       "\n",
       "\n"
      ],
      "text/plain": [
       "       Sepal.Length Sepal.Width Petal.Length Petal.Width Species\n",
       "case_1 5.1          3.5         1.4          0.2         setosa \n",
       "case_2 4.9          3.0         1.4          0.2         setosa \n",
       "case_3 4.7          3.2         1.3          0.2         setosa \n",
       "case_4 4.6          3.1         1.5          0.2         setosa \n",
       "case_5 5.0          3.6         1.4          0.2         setosa \n",
       "case_6 5.4          3.9         1.7          0.4         setosa "
      ]
     },
     "metadata": {},
     "output_type": "display_data"
    }
   ],
   "source": [
    "## acceso a la información de cada subgrupo\n",
    "head(y$setosa)"
   ]
  },
  {
   "cell_type": "code",
   "execution_count": 50,
   "metadata": {},
   "outputs": [
    {
     "data": {
      "text/html": [
       "<table>\n",
       "<thead><tr><th></th><th scope=col>Sepal.Length</th><th scope=col>Sepal.Width</th><th scope=col>Petal.Length</th><th scope=col>Petal.Width</th><th scope=col>Species</th></tr></thead>\n",
       "<tbody>\n",
       "\t<tr><th scope=row>case_101</th><td>6.3      </td><td>3.3      </td><td>6.0      </td><td>2.5      </td><td>virginica</td></tr>\n",
       "\t<tr><th scope=row>case_102</th><td>5.8      </td><td>2.7      </td><td>5.1      </td><td>1.9      </td><td>virginica</td></tr>\n",
       "\t<tr><th scope=row>case_103</th><td>7.1      </td><td>3.0      </td><td>5.9      </td><td>2.1      </td><td>virginica</td></tr>\n",
       "\t<tr><th scope=row>case_104</th><td>6.3      </td><td>2.9      </td><td>5.6      </td><td>1.8      </td><td>virginica</td></tr>\n",
       "\t<tr><th scope=row>case_105</th><td>6.5      </td><td>3.0      </td><td>5.8      </td><td>2.2      </td><td>virginica</td></tr>\n",
       "\t<tr><th scope=row>case_106</th><td>7.6      </td><td>3.0      </td><td>6.6      </td><td>2.1      </td><td>virginica</td></tr>\n",
       "</tbody>\n",
       "</table>\n"
      ],
      "text/latex": [
       "\\begin{tabular}{r|lllll}\n",
       "  & Sepal.Length & Sepal.Width & Petal.Length & Petal.Width & Species\\\\\n",
       "\\hline\n",
       "\tcase\\_101 & 6.3       & 3.3       & 6.0       & 2.5       & virginica\\\\\n",
       "\tcase\\_102 & 5.8       & 2.7       & 5.1       & 1.9       & virginica\\\\\n",
       "\tcase\\_103 & 7.1       & 3.0       & 5.9       & 2.1       & virginica\\\\\n",
       "\tcase\\_104 & 6.3       & 2.9       & 5.6       & 1.8       & virginica\\\\\n",
       "\tcase\\_105 & 6.5       & 3.0       & 5.8       & 2.2       & virginica\\\\\n",
       "\tcase\\_106 & 7.6       & 3.0       & 6.6       & 2.1       & virginica\\\\\n",
       "\\end{tabular}\n"
      ],
      "text/markdown": [
       "\n",
       "| <!--/--> | Sepal.Length | Sepal.Width | Petal.Length | Petal.Width | Species | \n",
       "|---|---|---|---|---|---|\n",
       "| case_101 | 6.3       | 3.3       | 6.0       | 2.5       | virginica | \n",
       "| case_102 | 5.8       | 2.7       | 5.1       | 1.9       | virginica | \n",
       "| case_103 | 7.1       | 3.0       | 5.9       | 2.1       | virginica | \n",
       "| case_104 | 6.3       | 2.9       | 5.6       | 1.8       | virginica | \n",
       "| case_105 | 6.5       | 3.0       | 5.8       | 2.2       | virginica | \n",
       "| case_106 | 7.6       | 3.0       | 6.6       | 2.1       | virginica | \n",
       "\n",
       "\n"
      ],
      "text/plain": [
       "         Sepal.Length Sepal.Width Petal.Length Petal.Width Species  \n",
       "case_101 6.3          3.3         6.0          2.5         virginica\n",
       "case_102 5.8          2.7         5.1          1.9         virginica\n",
       "case_103 7.1          3.0         5.9          2.1         virginica\n",
       "case_104 6.3          2.9         5.6          1.8         virginica\n",
       "case_105 6.5          3.0         5.8          2.2         virginica\n",
       "case_106 7.6          3.0         6.6          2.1         virginica"
      ]
     },
     "metadata": {},
     "output_type": "display_data"
    }
   ],
   "source": [
    "## acceso a la información de cada subgrupo\n",
    "head(y$virginica)"
   ]
  },
  {
   "cell_type": "markdown",
   "metadata": {},
   "source": [
    "## Apilado"
   ]
  },
  {
   "cell_type": "code",
   "execution_count": 51,
   "metadata": {
    "scrolled": true
   },
   "outputs": [
    {
     "data": {
      "text/html": [
       "<table>\n",
       "<thead><tr><th></th><th scope=col>Sepal.Length</th><th scope=col>Sepal.Width</th><th scope=col>Petal.Length</th><th scope=col>Petal.Width</th><th scope=col>Species</th></tr></thead>\n",
       "<tbody>\n",
       "\t<tr><th scope=row>case_101</th><td>6.3      </td><td>3.3      </td><td>6.0      </td><td>2.5      </td><td>virginica</td></tr>\n",
       "\t<tr><th scope=row>case_102</th><td>5.8      </td><td>2.7      </td><td>5.1      </td><td>1.9      </td><td>virginica</td></tr>\n",
       "\t<tr><th scope=row>case_103</th><td>7.1      </td><td>3.0      </td><td>5.9      </td><td>2.1      </td><td>virginica</td></tr>\n",
       "\t<tr><th scope=row>case_104</th><td>6.3      </td><td>2.9      </td><td>5.6      </td><td>1.8      </td><td>virginica</td></tr>\n",
       "\t<tr><th scope=row>case_105</th><td>6.5      </td><td>3.0      </td><td>5.8      </td><td>2.2      </td><td>virginica</td></tr>\n",
       "\t<tr><th scope=row>case_106</th><td>7.6      </td><td>3.0      </td><td>6.6      </td><td>2.1      </td><td>virginica</td></tr>\n",
       "</tbody>\n",
       "</table>\n"
      ],
      "text/latex": [
       "\\begin{tabular}{r|lllll}\n",
       "  & Sepal.Length & Sepal.Width & Petal.Length & Petal.Width & Species\\\\\n",
       "\\hline\n",
       "\tcase\\_101 & 6.3       & 3.3       & 6.0       & 2.5       & virginica\\\\\n",
       "\tcase\\_102 & 5.8       & 2.7       & 5.1       & 1.9       & virginica\\\\\n",
       "\tcase\\_103 & 7.1       & 3.0       & 5.9       & 2.1       & virginica\\\\\n",
       "\tcase\\_104 & 6.3       & 2.9       & 5.6       & 1.8       & virginica\\\\\n",
       "\tcase\\_105 & 6.5       & 3.0       & 5.8       & 2.2       & virginica\\\\\n",
       "\tcase\\_106 & 7.6       & 3.0       & 6.6       & 2.1       & virginica\\\\\n",
       "\\end{tabular}\n"
      ],
      "text/markdown": [
       "\n",
       "| <!--/--> | Sepal.Length | Sepal.Width | Petal.Length | Petal.Width | Species | \n",
       "|---|---|---|---|---|---|\n",
       "| case_101 | 6.3       | 3.3       | 6.0       | 2.5       | virginica | \n",
       "| case_102 | 5.8       | 2.7       | 5.1       | 1.9       | virginica | \n",
       "| case_103 | 7.1       | 3.0       | 5.9       | 2.1       | virginica | \n",
       "| case_104 | 6.3       | 2.9       | 5.6       | 1.8       | virginica | \n",
       "| case_105 | 6.5       | 3.0       | 5.8       | 2.2       | virginica | \n",
       "| case_106 | 7.6       | 3.0       | 6.6       | 2.1       | virginica | \n",
       "\n",
       "\n"
      ],
      "text/plain": [
       "         Sepal.Length Sepal.Width Petal.Length Petal.Width Species  \n",
       "case_101 6.3          3.3         6.0          2.5         virginica\n",
       "case_102 5.8          2.7         5.1          1.9         virginica\n",
       "case_103 7.1          3.0         5.9          2.1         virginica\n",
       "case_104 6.3          2.9         5.6          1.8         virginica\n",
       "case_105 6.5          3.0         5.8          2.2         virginica\n",
       "case_106 7.6          3.0         6.6          2.1         virginica"
      ]
     },
     "metadata": {},
     "output_type": "display_data"
    },
    {
     "data": {
      "text/plain": [
       "\n",
       "    setosa versicolor  virginica \n",
       "        50         50         50 "
      ]
     },
     "metadata": {},
     "output_type": "display_data"
    }
   ],
   "source": [
    "## se crea un nuevo data.frame a partir de \n",
    "## los grupos obtenidos con split.\n",
    "## no es posible apilar data.frames con diferentes\n",
    "## columnas\n",
    "z <- rbind(y$virginica, \n",
    "           y$setosa, \n",
    "           y$versicolor)\n",
    "head(z)\n",
    "table(z$Species)"
   ]
  },
  {
   "cell_type": "markdown",
   "metadata": {},
   "source": [
    "## Agregación"
   ]
  },
  {
   "cell_type": "markdown",
   "metadata": {},
   "source": [
    "> [`table {base}`](https://stat.ethz.ch/R-manual/R-devel/library/base/html/table.html) "
   ]
  },
  {
   "cell_type": "code",
   "execution_count": 52,
   "metadata": {},
   "outputs": [
    {
     "data": {
      "text/plain": [
       "\n",
       "    setosa versicolor  virginica \n",
       "        50         50         50 "
      ]
     },
     "metadata": {},
     "output_type": "display_data"
    }
   ],
   "source": [
    "## conteo de casos.\n",
    "## número de casos por `Species`\n",
    "table(x$Species)"
   ]
  },
  {
   "cell_type": "code",
   "execution_count": 53,
   "metadata": {},
   "outputs": [
    {
     "data": {
      "text/plain": [
       "\n",
       "4.3 4.4 4.5 4.6 4.7 4.8 4.9   5 5.1 5.2 5.3 5.4 5.5 5.6 5.7 5.8 5.9   6 6.1 6.2 \n",
       "  1   3   1   4   2   5   6  10   9   4   1   6   7   6   8   7   3   6   6   4 \n",
       "6.3 6.4 6.5 6.6 6.7 6.8 6.9   7 7.1 7.2 7.3 7.4 7.6 7.7 7.9 \n",
       "  9   7   5   2   8   3   4   1   1   3   1   1   1   4   1 "
      ]
     },
     "metadata": {},
     "output_type": "display_data"
    }
   ],
   "source": [
    "## conteo de casos por `Sepal.Length`\n",
    "table(x$Sepal.Length)"
   ]
  },
  {
   "cell_type": "markdown",
   "metadata": {},
   "source": [
    "> [`lapply {base}`](https://stat.ethz.ch/R-manual/R-devel/library/base/html/lapply.html)"
   ]
  },
  {
   "cell_type": "code",
   "execution_count": 54,
   "metadata": {},
   "outputs": [
    {
     "data": {
      "text/html": [
       "<dl>\n",
       "\t<dt>$Sepal.Length</dt>\n",
       "\t\t<dd>5.84333333333333</dd>\n",
       "\t<dt>$Sepal.Width</dt>\n",
       "\t\t<dd>3.05733333333333</dd>\n",
       "</dl>\n"
      ],
      "text/latex": [
       "\\begin{description}\n",
       "\\item[\\$Sepal.Length] 5.84333333333333\n",
       "\\item[\\$Sepal.Width] 3.05733333333333\n",
       "\\end{description}\n"
      ],
      "text/markdown": [
       "$Sepal.Length\n",
       ":   5.84333333333333\n",
       "$Sepal.Width\n",
       ":   3.05733333333333\n",
       "\n",
       "\n"
      ],
      "text/plain": [
       "$Sepal.Length\n",
       "[1] 5.843333\n",
       "\n",
       "$Sepal.Width\n",
       "[1] 3.057333\n"
      ]
     },
     "metadata": {},
     "output_type": "display_data"
    }
   ],
   "source": [
    "## aplicación de una funcion a columnas especificas \n",
    "## de un data.frame\n",
    "u <- lapply(X = x[, c('Sepal.Length', 'Sepal.Width')], \n",
    "            FUN = mean)\n",
    "\n",
    "u"
   ]
  },
  {
   "cell_type": "code",
   "execution_count": 55,
   "metadata": {},
   "outputs": [
    {
     "data": {
      "text/html": [
       "<dl class=dl-horizontal>\n",
       "\t<dt>Sepal.Length</dt>\n",
       "\t\t<dd>5.84333333333333</dd>\n",
       "\t<dt>Sepal.Width</dt>\n",
       "\t\t<dd>3.05733333333333</dd>\n",
       "</dl>\n"
      ],
      "text/latex": [
       "\\begin{description*}\n",
       "\\item[Sepal.Length] 5.84333333333333\n",
       "\\item[Sepal.Width] 3.05733333333333\n",
       "\\end{description*}\n"
      ],
      "text/markdown": [
       "Sepal.Length\n",
       ":   5.84333333333333Sepal.Width\n",
       ":   3.05733333333333\n",
       "\n"
      ],
      "text/plain": [
       "Sepal.Length  Sepal.Width \n",
       "    5.843333     3.057333 "
      ]
     },
     "metadata": {},
     "output_type": "display_data"
    }
   ],
   "source": [
    "## aplicación de una funcion a columnas especificas \n",
    "## de un data.frame\n",
    "u <- sapply(X = x[, c('Sepal.Length', 'Sepal.Width')], \n",
    "            FUN = mean)\n",
    "\n",
    "u"
   ]
  },
  {
   "cell_type": "code",
   "execution_count": 56,
   "metadata": {},
   "outputs": [
    {
     "data": {
      "text/html": [
       "<dl class=dl-horizontal>\n",
       "\t<dt>setosa</dt>\n",
       "\t\t<dd>5.006</dd>\n",
       "\t<dt>versicolor</dt>\n",
       "\t\t<dd>5.936</dd>\n",
       "\t<dt>virginica</dt>\n",
       "\t\t<dd>6.588</dd>\n",
       "</dl>\n"
      ],
      "text/latex": [
       "\\begin{description*}\n",
       "\\item[setosa] 5.006\n",
       "\\item[versicolor] 5.936\n",
       "\\item[virginica] 6.588\n",
       "\\end{description*}\n"
      ],
      "text/markdown": [
       "setosa\n",
       ":   5.006versicolor\n",
       ":   5.936virginica\n",
       ":   6.588\n",
       "\n"
      ],
      "text/plain": [
       "    setosa versicolor  virginica \n",
       "     5.006      5.936      6.588 "
      ]
     },
     "metadata": {},
     "output_type": "display_data"
    }
   ],
   "source": [
    "## aplica la función a la columna especificada por grupos\n",
    "y <- split(x, x$Species)\n",
    "u <- sapply(y, \n",
    "            function(x) mean(x$Sepal.Length))\n",
    "u"
   ]
  },
  {
   "cell_type": "code",
   "execution_count": 57,
   "metadata": {},
   "outputs": [
    {
     "data": {
      "text/html": [
       "<table>\n",
       "<thead><tr><th scope=col>setosa</th><th scope=col>versicolor</th><th scope=col>virginica</th></tr></thead>\n",
       "<tbody>\n",
       "\t<tr><td>5.006</td><td>5.936</td><td>6.588</td></tr>\n",
       "\t<tr><td>3.428</td><td>2.770</td><td>2.974</td></tr>\n",
       "\t<tr><td>1.462</td><td>4.260</td><td>5.552</td></tr>\n",
       "\t<tr><td>0.246</td><td>1.326</td><td>2.026</td></tr>\n",
       "</tbody>\n",
       "</table>\n"
      ],
      "text/latex": [
       "\\begin{tabular}{lll}\n",
       " setosa & versicolor & virginica\\\\\n",
       "\\hline\n",
       "\t 5.006 & 5.936 & 6.588\\\\\n",
       "\t 3.428 & 2.770 & 2.974\\\\\n",
       "\t 1.462 & 4.260 & 5.552\\\\\n",
       "\t 0.246 & 1.326 & 2.026\\\\\n",
       "\\end{tabular}\n"
      ],
      "text/markdown": [
       "\n",
       "setosa | versicolor | virginica | \n",
       "|---|---|---|---|\n",
       "| 5.006 | 5.936 | 6.588 | \n",
       "| 3.428 | 2.770 | 2.974 | \n",
       "| 1.462 | 4.260 | 5.552 | \n",
       "| 0.246 | 1.326 | 2.026 | \n",
       "\n",
       "\n"
      ],
      "text/plain": [
       "     setosa versicolor virginica\n",
       "[1,] 5.006  5.936      6.588    \n",
       "[2,] 3.428  2.770      2.974    \n",
       "[3,] 1.462  4.260      5.552    \n",
       "[4,] 0.246  1.326      2.026    "
      ]
     },
     "metadata": {},
     "output_type": "display_data"
    }
   ],
   "source": [
    "## aplica la función a la columna especificada por grupos\n",
    "y <- split(x, x$Species)\n",
    "u <- sapply(y, \n",
    "            function(x) c(mean(x$Sepal.Length),\n",
    "                          mean(x$Sepal.Width),\n",
    "                          mean(x$Petal.Length),\n",
    "                          mean(x$Petal.Width)))\n",
    "u"
   ]
  },
  {
   "cell_type": "code",
   "execution_count": 58,
   "metadata": {},
   "outputs": [
    {
     "data": {
      "text/html": [
       "<table>\n",
       "<thead><tr><th scope=col>Species</th><th scope=col>Sepal.Length</th><th scope=col>Sepal.Width</th><th scope=col>Petal.Length</th><th scope=col>Petal.Width</th></tr></thead>\n",
       "<tbody>\n",
       "\t<tr><td>setosa    </td><td>5.006     </td><td>3.428     </td><td>1.462     </td><td>0.246     </td></tr>\n",
       "\t<tr><td>versicolor</td><td>5.936     </td><td>2.770     </td><td>4.260     </td><td>1.326     </td></tr>\n",
       "\t<tr><td>virginica </td><td>6.588     </td><td>2.974     </td><td>5.552     </td><td>2.026     </td></tr>\n",
       "</tbody>\n",
       "</table>\n"
      ],
      "text/latex": [
       "\\begin{tabular}{r|lllll}\n",
       " Species & Sepal.Length & Sepal.Width & Petal.Length & Petal.Width\\\\\n",
       "\\hline\n",
       "\t setosa     & 5.006      & 3.428      & 1.462      & 0.246     \\\\\n",
       "\t versicolor & 5.936      & 2.770      & 4.260      & 1.326     \\\\\n",
       "\t virginica  & 6.588      & 2.974      & 5.552      & 2.026     \\\\\n",
       "\\end{tabular}\n"
      ],
      "text/markdown": [
       "\n",
       "Species | Sepal.Length | Sepal.Width | Petal.Length | Petal.Width | \n",
       "|---|---|---|\n",
       "| setosa     | 5.006      | 3.428      | 1.462      | 0.246      | \n",
       "| versicolor | 5.936      | 2.770      | 4.260      | 1.326      | \n",
       "| virginica  | 6.588      | 2.974      | 5.552      | 2.026      | \n",
       "\n",
       "\n"
      ],
      "text/plain": [
       "  Species    Sepal.Length Sepal.Width Petal.Length Petal.Width\n",
       "1 setosa     5.006        3.428       1.462        0.246      \n",
       "2 versicolor 5.936        2.770       4.260        1.326      \n",
       "3 virginica  6.588        2.974       5.552        2.026      "
      ]
     },
     "metadata": {},
     "output_type": "display_data"
    }
   ],
   "source": [
    "## agregación usando una fórmula\n",
    "aggregate(. ~ Species, \n",
    "          data = x, \n",
    "          mean)"
   ]
  },
  {
   "cell_type": "markdown",
   "metadata": {},
   "source": [
    "## Unión"
   ]
  },
  {
   "cell_type": "code",
   "execution_count": 59,
   "metadata": {
    "scrolled": true
   },
   "outputs": [
    {
     "data": {
      "text/html": [
       "<table>\n",
       "<thead><tr><th scope=col>x</th><th scope=col>y</th><th scope=col>z</th><th scope=col>w</th></tr></thead>\n",
       "<tbody>\n",
       "\t<tr><td>1        </td><td>0.4841273</td><td> 1       </td><td>0.3173697</td></tr>\n",
       "\t<tr><td>2        </td><td>0.6963084</td><td> 2       </td><td>0.7154739</td></tr>\n",
       "\t<tr><td>3        </td><td>0.9415711</td><td> 3       </td><td>0.1185380</td></tr>\n",
       "\t<tr><td>4        </td><td>0.7621488</td><td> 4       </td><td>0.6878867</td></tr>\n",
       "\t<tr><td>5        </td><td>0.9907074</td><td> 5       </td><td>0.6428192</td></tr>\n",
       "\t<tr><td>1        </td><td>0.4841273</td><td> 6       </td><td>0.6320456</td></tr>\n",
       "\t<tr><td>2        </td><td>0.6963084</td><td> 7       </td><td>0.0825287</td></tr>\n",
       "\t<tr><td>3        </td><td>0.9415711</td><td> 8       </td><td>0.1832091</td></tr>\n",
       "\t<tr><td>4        </td><td>0.7621488</td><td> 9       </td><td>0.2026116</td></tr>\n",
       "\t<tr><td>5        </td><td>0.9907074</td><td>10       </td><td>0.8278350</td></tr>\n",
       "</tbody>\n",
       "</table>\n"
      ],
      "text/latex": [
       "\\begin{tabular}{r|llll}\n",
       " x & y & z & w\\\\\n",
       "\\hline\n",
       "\t 1         & 0.4841273 &  1        & 0.3173697\\\\\n",
       "\t 2         & 0.6963084 &  2        & 0.7154739\\\\\n",
       "\t 3         & 0.9415711 &  3        & 0.1185380\\\\\n",
       "\t 4         & 0.7621488 &  4        & 0.6878867\\\\\n",
       "\t 5         & 0.9907074 &  5        & 0.6428192\\\\\n",
       "\t 1         & 0.4841273 &  6        & 0.6320456\\\\\n",
       "\t 2         & 0.6963084 &  7        & 0.0825287\\\\\n",
       "\t 3         & 0.9415711 &  8        & 0.1832091\\\\\n",
       "\t 4         & 0.7621488 &  9        & 0.2026116\\\\\n",
       "\t 5         & 0.9907074 & 10        & 0.8278350\\\\\n",
       "\\end{tabular}\n"
      ],
      "text/markdown": [
       "\n",
       "x | y | z | w | \n",
       "|---|---|---|---|---|---|---|---|---|---|\n",
       "| 1         | 0.4841273 |  1        | 0.3173697 | \n",
       "| 2         | 0.6963084 |  2        | 0.7154739 | \n",
       "| 3         | 0.9415711 |  3        | 0.1185380 | \n",
       "| 4         | 0.7621488 |  4        | 0.6878867 | \n",
       "| 5         | 0.9907074 |  5        | 0.6428192 | \n",
       "| 1         | 0.4841273 |  6        | 0.6320456 | \n",
       "| 2         | 0.6963084 |  7        | 0.0825287 | \n",
       "| 3         | 0.9415711 |  8        | 0.1832091 | \n",
       "| 4         | 0.7621488 |  9        | 0.2026116 | \n",
       "| 5         | 0.9907074 | 10        | 0.8278350 | \n",
       "\n",
       "\n"
      ],
      "text/plain": [
       "   x y         z  w        \n",
       "1  1 0.4841273  1 0.3173697\n",
       "2  2 0.6963084  2 0.7154739\n",
       "3  3 0.9415711  3 0.1185380\n",
       "4  4 0.7621488  4 0.6878867\n",
       "5  5 0.9907074  5 0.6428192\n",
       "6  1 0.4841273  6 0.6320456\n",
       "7  2 0.6963084  7 0.0825287\n",
       "8  3 0.9415711  8 0.1832091\n",
       "9  4 0.7621488  9 0.2026116\n",
       "10 5 0.9907074 10 0.8278350"
      ]
     },
     "metadata": {},
     "output_type": "display_data"
    }
   ],
   "source": [
    "## no es una unión estrictamente.\n",
    "## solo funciona cuando un dataframe tiene un número de\n",
    "## filas múltiplo del otro.\n",
    "d1 <- data.frame(x = 1:5, y = runif(5))\n",
    "d2 <- data.frame(z = 1:10, w = runif(10))\n",
    "cbind(d1, d2)"
   ]
  },
  {
   "cell_type": "markdown",
   "metadata": {},
   "source": [
    "## Casos duplicados y casos faltantes"
   ]
  },
  {
   "cell_type": "code",
   "execution_count": 60,
   "metadata": {},
   "outputs": [
    {
     "name": "stdout",
     "output_type": "stream",
     "text": [
      " [1]   2   3  19  20  21  23  28  30  34  41  43  64  67  67  79  80  84  98 112\n",
      "[20] 145\n"
     ]
    }
   ],
   "source": [
    "## se crea un vector aleatorio de indices\n",
    "u <- sample(1:150,            # población\n",
    "            size = 20,        # tamaño de la muestra\n",
    "            replace = TRUE)   # se puede repetir elementos?\n",
    "\n",
    "print(sort(u))"
   ]
  },
  {
   "cell_type": "code",
   "execution_count": 61,
   "metadata": {},
   "outputs": [
    {
     "name": "stdout",
     "output_type": "stream",
     "text": [
      "'data.frame':\t20 obs. of  5 variables:\n",
      " $ Sepal.Length: num  4.6 6.4 6.7 4.4 5 4.7 5.7 5.7 5.6 5.4 ...\n",
      " $ Sepal.Width : num  3.6 2.7 3.3 3.2 3.5 3.2 3.8 2.6 3 3.4 ...\n",
      " $ Petal.Length: num  1 5.3 5.7 1.3 1.3 1.6 1.7 3.5 4.5 1.7 ...\n",
      " $ Petal.Width : num  0.2 1.9 2.5 0.2 0.3 0.2 0.3 1 1.5 0.2 ...\n",
      " $ Species     : Factor w/ 3 levels \"setosa\",\"versicolor\",..: 1 3 3 1 1 1 1 2 2 1 ...\n"
     ]
    }
   ],
   "source": [
    "## submuestra del data.frame original `x`\n",
    "y <- x[u,]  \n",
    "str(y)"
   ]
  },
  {
   "cell_type": "code",
   "execution_count": 62,
   "metadata": {},
   "outputs": [
    {
     "data": {
      "text/html": [
       "<table>\n",
       "<thead><tr><th></th><th scope=col>Sepal.Length</th><th scope=col>Sepal.Width</th><th scope=col>Petal.Length</th><th scope=col>Petal.Width</th><th scope=col>Species</th></tr></thead>\n",
       "<tbody>\n",
       "\t<tr><th scope=row>151</th><td>4.6      </td><td>3.6      </td><td>1.0      </td><td>0.2      </td><td>setosa   </td></tr>\n",
       "\t<tr><th scope=row>152</th><td>6.4      </td><td>2.7      </td><td>5.3      </td><td>1.9      </td><td>virginica</td></tr>\n",
       "\t<tr><th scope=row>153</th><td>6.7      </td><td>3.3      </td><td>5.7      </td><td>2.5      </td><td>virginica</td></tr>\n",
       "\t<tr><th scope=row>154</th><td>4.4      </td><td>3.2      </td><td>1.3      </td><td>0.2      </td><td>setosa   </td></tr>\n",
       "\t<tr><th scope=row>155</th><td>5.0      </td><td>3.5      </td><td>1.3      </td><td>0.3      </td><td>setosa   </td></tr>\n",
       "\t<tr><th scope=row>156</th><td>4.7      </td><td>3.2      </td><td>1.6      </td><td>0.2      </td><td>setosa   </td></tr>\n",
       "</tbody>\n",
       "</table>\n"
      ],
      "text/latex": [
       "\\begin{tabular}{r|lllll}\n",
       "  & Sepal.Length & Sepal.Width & Petal.Length & Petal.Width & Species\\\\\n",
       "\\hline\n",
       "\t151 & 4.6       & 3.6       & 1.0       & 0.2       & setosa   \\\\\n",
       "\t152 & 6.4       & 2.7       & 5.3       & 1.9       & virginica\\\\\n",
       "\t153 & 6.7       & 3.3       & 5.7       & 2.5       & virginica\\\\\n",
       "\t154 & 4.4       & 3.2       & 1.3       & 0.2       & setosa   \\\\\n",
       "\t155 & 5.0       & 3.5       & 1.3       & 0.3       & setosa   \\\\\n",
       "\t156 & 4.7       & 3.2       & 1.6       & 0.2       & setosa   \\\\\n",
       "\\end{tabular}\n"
      ],
      "text/markdown": [
       "\n",
       "| <!--/--> | Sepal.Length | Sepal.Width | Petal.Length | Petal.Width | Species | \n",
       "|---|---|---|---|---|---|\n",
       "| 151 | 4.6       | 3.6       | 1.0       | 0.2       | setosa    | \n",
       "| 152 | 6.4       | 2.7       | 5.3       | 1.9       | virginica | \n",
       "| 153 | 6.7       | 3.3       | 5.7       | 2.5       | virginica | \n",
       "| 154 | 4.4       | 3.2       | 1.3       | 0.2       | setosa    | \n",
       "| 155 | 5.0       | 3.5       | 1.3       | 0.3       | setosa    | \n",
       "| 156 | 4.7       | 3.2       | 1.6       | 0.2       | setosa    | \n",
       "\n",
       "\n"
      ],
      "text/plain": [
       "    Sepal.Length Sepal.Width Petal.Length Petal.Width Species  \n",
       "151 4.6          3.6         1.0          0.2         setosa   \n",
       "152 6.4          2.7         5.3          1.9         virginica\n",
       "153 6.7          3.3         5.7          2.5         virginica\n",
       "154 4.4          3.2         1.3          0.2         setosa   \n",
       "155 5.0          3.5         1.3          0.3         setosa   \n",
       "156 4.7          3.2         1.6          0.2         setosa   "
      ]
     },
     "metadata": {},
     "output_type": "display_data"
    }
   ],
   "source": [
    "## cambia los nombres de las filas \n",
    "row.names(y) <- 151:170\n",
    "head(y)"
   ]
  },
  {
   "cell_type": "code",
   "execution_count": 63,
   "metadata": {},
   "outputs": [
    {
     "name": "stdout",
     "output_type": "stream",
     "text": [
      "'data.frame':\t20 obs. of  5 variables:\n",
      " $ Sepal.Length: num  NA NA 6.7 NA 5 4.7 5.7 5.7 5.6 5.4 ...\n",
      " $ Sepal.Width : num  3.6 2.7 3.3 3.2 3.5 3.2 3.8 2.6 3 3.4 ...\n",
      " $ Petal.Length: num  1 5.3 5.7 1.3 1.3 1.6 1.7 3.5 4.5 1.7 ...\n",
      " $ Petal.Width : num  0.2 1.9 2.5 0.2 0.3 0.2 0.3 1 1.5 0.2 ...\n",
      " $ Species     : Factor w/ 3 levels \"setosa\",\"versicolor\",..: 1 3 3 1 1 1 1 2 2 1 ...\n"
     ]
    }
   ],
   "source": [
    "## de la submuestra `y` se hacen varios registros incompletos\n",
    "## cambiando varios valores en la columna `Sepal.Length` por NA\n",
    "y$Sepal.Length[sample(1:20, 10, replace = FALSE)] <- NA\n",
    "str(y)"
   ]
  },
  {
   "cell_type": "code",
   "execution_count": 64,
   "metadata": {},
   "outputs": [
    {
     "data": {
      "text/html": [
       "<table>\n",
       "<thead><tr><th></th><th scope=col>Sepal.Length</th><th scope=col>Sepal.Width</th><th scope=col>Petal.Length</th><th scope=col>Petal.Width</th><th scope=col>Species</th></tr></thead>\n",
       "<tbody>\n",
       "\t<tr><th scope=row>151</th><td> NA       </td><td>3.6       </td><td>1.0       </td><td>0.2       </td><td>setosa    </td></tr>\n",
       "\t<tr><th scope=row>152</th><td> NA       </td><td>2.7       </td><td>5.3       </td><td>1.9       </td><td>virginica </td></tr>\n",
       "\t<tr><th scope=row>153</th><td>6.7       </td><td>3.3       </td><td>5.7       </td><td>2.5       </td><td>virginica </td></tr>\n",
       "\t<tr><th scope=row>154</th><td> NA       </td><td>3.2       </td><td>1.3       </td><td>0.2       </td><td>setosa    </td></tr>\n",
       "\t<tr><th scope=row>155</th><td>5.0       </td><td>3.5       </td><td>1.3       </td><td>0.3       </td><td>setosa    </td></tr>\n",
       "\t<tr><th scope=row>156</th><td>4.7       </td><td>3.2       </td><td>1.6       </td><td>0.2       </td><td>setosa    </td></tr>\n",
       "\t<tr><th scope=row>157</th><td>5.7       </td><td>3.8       </td><td>1.7       </td><td>0.3       </td><td>setosa    </td></tr>\n",
       "\t<tr><th scope=row>158</th><td>5.7       </td><td>2.6       </td><td>3.5       </td><td>1.0       </td><td>versicolor</td></tr>\n",
       "\t<tr><th scope=row>159</th><td>5.6       </td><td>3.0       </td><td>4.5       </td><td>1.5       </td><td>versicolor</td></tr>\n",
       "\t<tr><th scope=row>160</th><td>5.4       </td><td>3.4       </td><td>1.7       </td><td>0.2       </td><td>setosa    </td></tr>\n",
       "\t<tr><th scope=row>161</th><td>4.7       </td><td>3.2       </td><td>1.3       </td><td>0.2       </td><td>setosa    </td></tr>\n",
       "\t<tr><th scope=row>162</th><td> NA       </td><td>2.7       </td><td>5.1       </td><td>1.6       </td><td>versicolor</td></tr>\n",
       "\t<tr><th scope=row>163</th><td> NA       </td><td>3.0       </td><td>4.5       </td><td>1.5       </td><td>versicolor</td></tr>\n",
       "\t<tr><th scope=row>164</th><td> NA       </td><td>2.9       </td><td>4.3       </td><td>1.3       </td><td>versicolor</td></tr>\n",
       "\t<tr><th scope=row>165</th><td>6.0       </td><td>2.9       </td><td>4.5       </td><td>1.5       </td><td>versicolor</td></tr>\n",
       "\t<tr><th scope=row>166</th><td> NA       </td><td>2.9       </td><td>4.7       </td><td>1.4       </td><td>versicolor</td></tr>\n",
       "\t<tr><th scope=row>167</th><td> NA       </td><td>3.8       </td><td>1.5       </td><td>0.3       </td><td>setosa    </td></tr>\n",
       "\t<tr><th scope=row>168</th><td>4.9       </td><td>3.0       </td><td>1.4       </td><td>0.2       </td><td>setosa    </td></tr>\n",
       "\t<tr><th scope=row>169</th><td> NA       </td><td>3.5       </td><td>1.5       </td><td>0.2       </td><td>setosa    </td></tr>\n",
       "\t<tr><th scope=row>170</th><td> NA       </td><td>4.2       </td><td>1.4       </td><td>0.2       </td><td>setosa    </td></tr>\n",
       "</tbody>\n",
       "</table>\n"
      ],
      "text/latex": [
       "\\begin{tabular}{r|lllll}\n",
       "  & Sepal.Length & Sepal.Width & Petal.Length & Petal.Width & Species\\\\\n",
       "\\hline\n",
       "\t151 &  NA        & 3.6        & 1.0        & 0.2        & setosa    \\\\\n",
       "\t152 &  NA        & 2.7        & 5.3        & 1.9        & virginica \\\\\n",
       "\t153 & 6.7        & 3.3        & 5.7        & 2.5        & virginica \\\\\n",
       "\t154 &  NA        & 3.2        & 1.3        & 0.2        & setosa    \\\\\n",
       "\t155 & 5.0        & 3.5        & 1.3        & 0.3        & setosa    \\\\\n",
       "\t156 & 4.7        & 3.2        & 1.6        & 0.2        & setosa    \\\\\n",
       "\t157 & 5.7        & 3.8        & 1.7        & 0.3        & setosa    \\\\\n",
       "\t158 & 5.7        & 2.6        & 3.5        & 1.0        & versicolor\\\\\n",
       "\t159 & 5.6        & 3.0        & 4.5        & 1.5        & versicolor\\\\\n",
       "\t160 & 5.4        & 3.4        & 1.7        & 0.2        & setosa    \\\\\n",
       "\t161 & 4.7        & 3.2        & 1.3        & 0.2        & setosa    \\\\\n",
       "\t162 &  NA        & 2.7        & 5.1        & 1.6        & versicolor\\\\\n",
       "\t163 &  NA        & 3.0        & 4.5        & 1.5        & versicolor\\\\\n",
       "\t164 &  NA        & 2.9        & 4.3        & 1.3        & versicolor\\\\\n",
       "\t165 & 6.0        & 2.9        & 4.5        & 1.5        & versicolor\\\\\n",
       "\t166 &  NA        & 2.9        & 4.7        & 1.4        & versicolor\\\\\n",
       "\t167 &  NA        & 3.8        & 1.5        & 0.3        & setosa    \\\\\n",
       "\t168 & 4.9        & 3.0        & 1.4        & 0.2        & setosa    \\\\\n",
       "\t169 &  NA        & 3.5        & 1.5        & 0.2        & setosa    \\\\\n",
       "\t170 &  NA        & 4.2        & 1.4        & 0.2        & setosa    \\\\\n",
       "\\end{tabular}\n"
      ],
      "text/markdown": [
       "\n",
       "| <!--/--> | Sepal.Length | Sepal.Width | Petal.Length | Petal.Width | Species | \n",
       "|---|---|---|---|---|---|---|---|---|---|---|---|---|---|---|---|---|---|---|---|\n",
       "| 151 |  NA        | 3.6        | 1.0        | 0.2        | setosa     | \n",
       "| 152 |  NA        | 2.7        | 5.3        | 1.9        | virginica  | \n",
       "| 153 | 6.7        | 3.3        | 5.7        | 2.5        | virginica  | \n",
       "| 154 |  NA        | 3.2        | 1.3        | 0.2        | setosa     | \n",
       "| 155 | 5.0        | 3.5        | 1.3        | 0.3        | setosa     | \n",
       "| 156 | 4.7        | 3.2        | 1.6        | 0.2        | setosa     | \n",
       "| 157 | 5.7        | 3.8        | 1.7        | 0.3        | setosa     | \n",
       "| 158 | 5.7        | 2.6        | 3.5        | 1.0        | versicolor | \n",
       "| 159 | 5.6        | 3.0        | 4.5        | 1.5        | versicolor | \n",
       "| 160 | 5.4        | 3.4        | 1.7        | 0.2        | setosa     | \n",
       "| 161 | 4.7        | 3.2        | 1.3        | 0.2        | setosa     | \n",
       "| 162 |  NA        | 2.7        | 5.1        | 1.6        | versicolor | \n",
       "| 163 |  NA        | 3.0        | 4.5        | 1.5        | versicolor | \n",
       "| 164 |  NA        | 2.9        | 4.3        | 1.3        | versicolor | \n",
       "| 165 | 6.0        | 2.9        | 4.5        | 1.5        | versicolor | \n",
       "| 166 |  NA        | 2.9        | 4.7        | 1.4        | versicolor | \n",
       "| 167 |  NA        | 3.8        | 1.5        | 0.3        | setosa     | \n",
       "| 168 | 4.9        | 3.0        | 1.4        | 0.2        | setosa     | \n",
       "| 169 |  NA        | 3.5        | 1.5        | 0.2        | setosa     | \n",
       "| 170 |  NA        | 4.2        | 1.4        | 0.2        | setosa     | \n",
       "\n",
       "\n"
      ],
      "text/plain": [
       "    Sepal.Length Sepal.Width Petal.Length Petal.Width Species   \n",
       "151  NA          3.6         1.0          0.2         setosa    \n",
       "152  NA          2.7         5.3          1.9         virginica \n",
       "153 6.7          3.3         5.7          2.5         virginica \n",
       "154  NA          3.2         1.3          0.2         setosa    \n",
       "155 5.0          3.5         1.3          0.3         setosa    \n",
       "156 4.7          3.2         1.6          0.2         setosa    \n",
       "157 5.7          3.8         1.7          0.3         setosa    \n",
       "158 5.7          2.6         3.5          1.0         versicolor\n",
       "159 5.6          3.0         4.5          1.5         versicolor\n",
       "160 5.4          3.4         1.7          0.2         setosa    \n",
       "161 4.7          3.2         1.3          0.2         setosa    \n",
       "162  NA          2.7         5.1          1.6         versicolor\n",
       "163  NA          3.0         4.5          1.5         versicolor\n",
       "164  NA          2.9         4.3          1.3         versicolor\n",
       "165 6.0          2.9         4.5          1.5         versicolor\n",
       "166  NA          2.9         4.7          1.4         versicolor\n",
       "167  NA          3.8         1.5          0.3         setosa    \n",
       "168 4.9          3.0         1.4          0.2         setosa    \n",
       "169  NA          3.5         1.5          0.2         setosa    \n",
       "170  NA          4.2         1.4          0.2         setosa    "
      ]
     },
     "metadata": {},
     "output_type": "display_data"
    }
   ],
   "source": [
    "## casos con datos faltantes \n",
    "head(y, n = 20)"
   ]
  },
  {
   "cell_type": "code",
   "execution_count": 65,
   "metadata": {},
   "outputs": [
    {
     "name": "stdout",
     "output_type": "stream",
     "text": [
      "'data.frame':\t170 obs. of  5 variables:\n",
      " $ Sepal.Length: num  5.1 4.9 4.7 4.6 5 5.4 4.6 5 4.4 4.9 ...\n",
      " $ Sepal.Width : num  3.5 3 3.2 3.1 3.6 3.9 3.4 3.4 2.9 3.1 ...\n",
      " $ Petal.Length: num  1.4 1.4 1.3 1.5 1.4 1.7 1.4 1.5 1.4 1.5 ...\n",
      " $ Petal.Width : num  0.2 0.2 0.2 0.2 0.2 0.4 0.3 0.2 0.2 0.1 ...\n",
      " $ Species     : Factor w/ 3 levels \"setosa\",\"versicolor\",..: 1 1 1 1 1 1 1 1 1 1 ...\n"
     ]
    }
   ],
   "source": [
    "## apilado de dataframes \n",
    "## los casos 151 a 170 contienen casos duplicados o\n",
    "## casos con datos faltantes\n",
    "x <- rbind(x, y)  \n",
    "str(x)"
   ]
  },
  {
   "cell_type": "code",
   "execution_count": 66,
   "metadata": {},
   "outputs": [
    {
     "data": {
      "text/html": [
       "<table>\n",
       "<thead><tr><th></th><th scope=col>Sepal.Length</th><th scope=col>Sepal.Width</th><th scope=col>Petal.Length</th><th scope=col>Petal.Width</th><th scope=col>Species</th></tr></thead>\n",
       "<tbody>\n",
       "\t<tr><th scope=row>161</th><td>4.7       </td><td>3.2       </td><td>1.3       </td><td>0.2       </td><td>setosa    </td></tr>\n",
       "\t<tr><th scope=row>162</th><td> NA       </td><td>2.7       </td><td>5.1       </td><td>1.6       </td><td>versicolor</td></tr>\n",
       "\t<tr><th scope=row>163</th><td> NA       </td><td>3.0       </td><td>4.5       </td><td>1.5       </td><td>versicolor</td></tr>\n",
       "\t<tr><th scope=row>164</th><td> NA       </td><td>2.9       </td><td>4.3       </td><td>1.3       </td><td>versicolor</td></tr>\n",
       "\t<tr><th scope=row>165</th><td>6.0       </td><td>2.9       </td><td>4.5       </td><td>1.5       </td><td>versicolor</td></tr>\n",
       "\t<tr><th scope=row>166</th><td> NA       </td><td>2.9       </td><td>4.7       </td><td>1.4       </td><td>versicolor</td></tr>\n",
       "\t<tr><th scope=row>167</th><td> NA       </td><td>3.8       </td><td>1.5       </td><td>0.3       </td><td>setosa    </td></tr>\n",
       "\t<tr><th scope=row>168</th><td>4.9       </td><td>3.0       </td><td>1.4       </td><td>0.2       </td><td>setosa    </td></tr>\n",
       "\t<tr><th scope=row>169</th><td> NA       </td><td>3.5       </td><td>1.5       </td><td>0.2       </td><td>setosa    </td></tr>\n",
       "\t<tr><th scope=row>170</th><td> NA       </td><td>4.2       </td><td>1.4       </td><td>0.2       </td><td>setosa    </td></tr>\n",
       "</tbody>\n",
       "</table>\n"
      ],
      "text/latex": [
       "\\begin{tabular}{r|lllll}\n",
       "  & Sepal.Length & Sepal.Width & Petal.Length & Petal.Width & Species\\\\\n",
       "\\hline\n",
       "\t161 & 4.7        & 3.2        & 1.3        & 0.2        & setosa    \\\\\n",
       "\t162 &  NA        & 2.7        & 5.1        & 1.6        & versicolor\\\\\n",
       "\t163 &  NA        & 3.0        & 4.5        & 1.5        & versicolor\\\\\n",
       "\t164 &  NA        & 2.9        & 4.3        & 1.3        & versicolor\\\\\n",
       "\t165 & 6.0        & 2.9        & 4.5        & 1.5        & versicolor\\\\\n",
       "\t166 &  NA        & 2.9        & 4.7        & 1.4        & versicolor\\\\\n",
       "\t167 &  NA        & 3.8        & 1.5        & 0.3        & setosa    \\\\\n",
       "\t168 & 4.9        & 3.0        & 1.4        & 0.2        & setosa    \\\\\n",
       "\t169 &  NA        & 3.5        & 1.5        & 0.2        & setosa    \\\\\n",
       "\t170 &  NA        & 4.2        & 1.4        & 0.2        & setosa    \\\\\n",
       "\\end{tabular}\n"
      ],
      "text/markdown": [
       "\n",
       "| <!--/--> | Sepal.Length | Sepal.Width | Petal.Length | Petal.Width | Species | \n",
       "|---|---|---|---|---|---|---|---|---|---|\n",
       "| 161 | 4.7        | 3.2        | 1.3        | 0.2        | setosa     | \n",
       "| 162 |  NA        | 2.7        | 5.1        | 1.6        | versicolor | \n",
       "| 163 |  NA        | 3.0        | 4.5        | 1.5        | versicolor | \n",
       "| 164 |  NA        | 2.9        | 4.3        | 1.3        | versicolor | \n",
       "| 165 | 6.0        | 2.9        | 4.5        | 1.5        | versicolor | \n",
       "| 166 |  NA        | 2.9        | 4.7        | 1.4        | versicolor | \n",
       "| 167 |  NA        | 3.8        | 1.5        | 0.3        | setosa     | \n",
       "| 168 | 4.9        | 3.0        | 1.4        | 0.2        | setosa     | \n",
       "| 169 |  NA        | 3.5        | 1.5        | 0.2        | setosa     | \n",
       "| 170 |  NA        | 4.2        | 1.4        | 0.2        | setosa     | \n",
       "\n",
       "\n"
      ],
      "text/plain": [
       "    Sepal.Length Sepal.Width Petal.Length Petal.Width Species   \n",
       "161 4.7          3.2         1.3          0.2         setosa    \n",
       "162  NA          2.7         5.1          1.6         versicolor\n",
       "163  NA          3.0         4.5          1.5         versicolor\n",
       "164  NA          2.9         4.3          1.3         versicolor\n",
       "165 6.0          2.9         4.5          1.5         versicolor\n",
       "166  NA          2.9         4.7          1.4         versicolor\n",
       "167  NA          3.8         1.5          0.3         setosa    \n",
       "168 4.9          3.0         1.4          0.2         setosa    \n",
       "169  NA          3.5         1.5          0.2         setosa    \n",
       "170  NA          4.2         1.4          0.2         setosa    "
      ]
     },
     "metadata": {},
     "output_type": "display_data"
    }
   ],
   "source": [
    "## parte final del nuevo data.frame\n",
    "tail(x, n = 10)"
   ]
  },
  {
   "cell_type": "code",
   "execution_count": 67,
   "metadata": {},
   "outputs": [
    {
     "data": {
      "text/html": [
       "<table>\n",
       "<thead><tr><th></th><th scope=col>Sepal.Length</th><th scope=col>Sepal.Width</th><th scope=col>Petal.Length</th><th scope=col>Petal.Width</th><th scope=col>Species</th></tr></thead>\n",
       "<tbody>\n",
       "\t<tr><th scope=row>case_140</th><td>6.9       </td><td>3.1       </td><td>5.4       </td><td>2.1       </td><td>virginica </td></tr>\n",
       "\t<tr><th scope=row>case_141</th><td>6.7       </td><td>3.1       </td><td>5.6       </td><td>2.4       </td><td>virginica </td></tr>\n",
       "\t<tr><th scope=row>case_142</th><td>6.9       </td><td>3.1       </td><td>5.1       </td><td>2.3       </td><td>virginica </td></tr>\n",
       "\t<tr><th scope=row>case_144</th><td>6.8       </td><td>3.2       </td><td>5.9       </td><td>2.3       </td><td>virginica </td></tr>\n",
       "\t<tr><th scope=row>case_145</th><td>6.7       </td><td>3.3       </td><td>5.7       </td><td>2.5       </td><td>virginica </td></tr>\n",
       "\t<tr><th scope=row>case_146</th><td>6.7       </td><td>3.0       </td><td>5.2       </td><td>2.3       </td><td>virginica </td></tr>\n",
       "\t<tr><th scope=row>case_147</th><td>6.3       </td><td>2.5       </td><td>5.0       </td><td>1.9       </td><td>virginica </td></tr>\n",
       "\t<tr><th scope=row>case_148</th><td>6.5       </td><td>3.0       </td><td>5.2       </td><td>2.0       </td><td>virginica </td></tr>\n",
       "\t<tr><th scope=row>case_149</th><td>6.2       </td><td>3.4       </td><td>5.4       </td><td>2.3       </td><td>virginica </td></tr>\n",
       "\t<tr><th scope=row>case_150</th><td>5.9       </td><td>3.0       </td><td>5.1       </td><td>1.8       </td><td>virginica </td></tr>\n",
       "\t<tr><th scope=row>151</th><td> NA       </td><td>3.6       </td><td>1.0       </td><td>0.2       </td><td>setosa    </td></tr>\n",
       "\t<tr><th scope=row>152</th><td> NA       </td><td>2.7       </td><td>5.3       </td><td>1.9       </td><td>virginica </td></tr>\n",
       "\t<tr><th scope=row>154</th><td> NA       </td><td>3.2       </td><td>1.3       </td><td>0.2       </td><td>setosa    </td></tr>\n",
       "\t<tr><th scope=row>162</th><td> NA       </td><td>2.7       </td><td>5.1       </td><td>1.6       </td><td>versicolor</td></tr>\n",
       "\t<tr><th scope=row>163</th><td> NA       </td><td>3.0       </td><td>4.5       </td><td>1.5       </td><td>versicolor</td></tr>\n",
       "\t<tr><th scope=row>164</th><td> NA       </td><td>2.9       </td><td>4.3       </td><td>1.3       </td><td>versicolor</td></tr>\n",
       "\t<tr><th scope=row>166</th><td> NA       </td><td>2.9       </td><td>4.7       </td><td>1.4       </td><td>versicolor</td></tr>\n",
       "\t<tr><th scope=row>167</th><td> NA       </td><td>3.8       </td><td>1.5       </td><td>0.3       </td><td>setosa    </td></tr>\n",
       "\t<tr><th scope=row>169</th><td> NA       </td><td>3.5       </td><td>1.5       </td><td>0.2       </td><td>setosa    </td></tr>\n",
       "\t<tr><th scope=row>170</th><td> NA       </td><td>4.2       </td><td>1.4       </td><td>0.2       </td><td>setosa    </td></tr>\n",
       "</tbody>\n",
       "</table>\n"
      ],
      "text/latex": [
       "\\begin{tabular}{r|lllll}\n",
       "  & Sepal.Length & Sepal.Width & Petal.Length & Petal.Width & Species\\\\\n",
       "\\hline\n",
       "\tcase\\_140 & 6.9        & 3.1        & 5.4        & 2.1        & virginica \\\\\n",
       "\tcase\\_141 & 6.7        & 3.1        & 5.6        & 2.4        & virginica \\\\\n",
       "\tcase\\_142 & 6.9        & 3.1        & 5.1        & 2.3        & virginica \\\\\n",
       "\tcase\\_144 & 6.8        & 3.2        & 5.9        & 2.3        & virginica \\\\\n",
       "\tcase\\_145 & 6.7        & 3.3        & 5.7        & 2.5        & virginica \\\\\n",
       "\tcase\\_146 & 6.7        & 3.0        & 5.2        & 2.3        & virginica \\\\\n",
       "\tcase\\_147 & 6.3        & 2.5        & 5.0        & 1.9        & virginica \\\\\n",
       "\tcase\\_148 & 6.5        & 3.0        & 5.2        & 2.0        & virginica \\\\\n",
       "\tcase\\_149 & 6.2        & 3.4        & 5.4        & 2.3        & virginica \\\\\n",
       "\tcase\\_150 & 5.9        & 3.0        & 5.1        & 1.8        & virginica \\\\\n",
       "\t151 &  NA        & 3.6        & 1.0        & 0.2        & setosa    \\\\\n",
       "\t152 &  NA        & 2.7        & 5.3        & 1.9        & virginica \\\\\n",
       "\t154 &  NA        & 3.2        & 1.3        & 0.2        & setosa    \\\\\n",
       "\t162 &  NA        & 2.7        & 5.1        & 1.6        & versicolor\\\\\n",
       "\t163 &  NA        & 3.0        & 4.5        & 1.5        & versicolor\\\\\n",
       "\t164 &  NA        & 2.9        & 4.3        & 1.3        & versicolor\\\\\n",
       "\t166 &  NA        & 2.9        & 4.7        & 1.4        & versicolor\\\\\n",
       "\t167 &  NA        & 3.8        & 1.5        & 0.3        & setosa    \\\\\n",
       "\t169 &  NA        & 3.5        & 1.5        & 0.2        & setosa    \\\\\n",
       "\t170 &  NA        & 4.2        & 1.4        & 0.2        & setosa    \\\\\n",
       "\\end{tabular}\n"
      ],
      "text/markdown": [
       "\n",
       "| <!--/--> | Sepal.Length | Sepal.Width | Petal.Length | Petal.Width | Species | \n",
       "|---|---|---|---|---|---|---|---|---|---|---|---|---|---|---|---|---|---|---|---|\n",
       "| case_140 | 6.9        | 3.1        | 5.4        | 2.1        | virginica  | \n",
       "| case_141 | 6.7        | 3.1        | 5.6        | 2.4        | virginica  | \n",
       "| case_142 | 6.9        | 3.1        | 5.1        | 2.3        | virginica  | \n",
       "| case_144 | 6.8        | 3.2        | 5.9        | 2.3        | virginica  | \n",
       "| case_145 | 6.7        | 3.3        | 5.7        | 2.5        | virginica  | \n",
       "| case_146 | 6.7        | 3.0        | 5.2        | 2.3        | virginica  | \n",
       "| case_147 | 6.3        | 2.5        | 5.0        | 1.9        | virginica  | \n",
       "| case_148 | 6.5        | 3.0        | 5.2        | 2.0        | virginica  | \n",
       "| case_149 | 6.2        | 3.4        | 5.4        | 2.3        | virginica  | \n",
       "| case_150 | 5.9        | 3.0        | 5.1        | 1.8        | virginica  | \n",
       "| 151 |  NA        | 3.6        | 1.0        | 0.2        | setosa     | \n",
       "| 152 |  NA        | 2.7        | 5.3        | 1.9        | virginica  | \n",
       "| 154 |  NA        | 3.2        | 1.3        | 0.2        | setosa     | \n",
       "| 162 |  NA        | 2.7        | 5.1        | 1.6        | versicolor | \n",
       "| 163 |  NA        | 3.0        | 4.5        | 1.5        | versicolor | \n",
       "| 164 |  NA        | 2.9        | 4.3        | 1.3        | versicolor | \n",
       "| 166 |  NA        | 2.9        | 4.7        | 1.4        | versicolor | \n",
       "| 167 |  NA        | 3.8        | 1.5        | 0.3        | setosa     | \n",
       "| 169 |  NA        | 3.5        | 1.5        | 0.2        | setosa     | \n",
       "| 170 |  NA        | 4.2        | 1.4        | 0.2        | setosa     | \n",
       "\n",
       "\n"
      ],
      "text/plain": [
       "         Sepal.Length Sepal.Width Petal.Length Petal.Width Species   \n",
       "case_140 6.9          3.1         5.4          2.1         virginica \n",
       "case_141 6.7          3.1         5.6          2.4         virginica \n",
       "case_142 6.9          3.1         5.1          2.3         virginica \n",
       "case_144 6.8          3.2         5.9          2.3         virginica \n",
       "case_145 6.7          3.3         5.7          2.5         virginica \n",
       "case_146 6.7          3.0         5.2          2.3         virginica \n",
       "case_147 6.3          2.5         5.0          1.9         virginica \n",
       "case_148 6.5          3.0         5.2          2.0         virginica \n",
       "case_149 6.2          3.4         5.4          2.3         virginica \n",
       "case_150 5.9          3.0         5.1          1.8         virginica \n",
       "151       NA          3.6         1.0          0.2         setosa    \n",
       "152       NA          2.7         5.3          1.9         virginica \n",
       "154       NA          3.2         1.3          0.2         setosa    \n",
       "162       NA          2.7         5.1          1.6         versicolor\n",
       "163       NA          3.0         4.5          1.5         versicolor\n",
       "164       NA          2.9         4.3          1.3         versicolor\n",
       "166       NA          2.9         4.7          1.4         versicolor\n",
       "167       NA          3.8         1.5          0.3         setosa    \n",
       "169       NA          3.5         1.5          0.2         setosa    \n",
       "170       NA          4.2         1.4          0.2         setosa    "
      ]
     },
     "metadata": {},
     "output_type": "display_data"
    }
   ],
   "source": [
    "## casos únicos o no duplicados \n",
    "## incluye los casos con valores NA como únicos\n",
    "## note que se eliminaron varios casos entre el 151 y el 170\n",
    "tail(unique(x), n = 20)"
   ]
  },
  {
   "cell_type": "code",
   "execution_count": 68,
   "metadata": {},
   "outputs": [
    {
     "data": {
      "text/plain": [
       "\n",
       "FALSE  TRUE \n",
       "   10   160 "
      ]
     },
     "metadata": {},
     "output_type": "display_data"
    }
   ],
   "source": [
    "## casos completos (sin faltantes)\n",
    "table(complete.cases(x))  "
   ]
  },
  {
   "cell_type": "code",
   "execution_count": 69,
   "metadata": {},
   "outputs": [
    {
     "data": {
      "text/html": [
       "<table>\n",
       "<thead><tr><th></th><th scope=col>Sepal.Length</th><th scope=col>Sepal.Width</th><th scope=col>Petal.Length</th><th scope=col>Petal.Width</th><th scope=col>Species</th></tr></thead>\n",
       "<tbody>\n",
       "\t<tr><th scope=row>151</th><td>NA        </td><td>3.6       </td><td>1.0       </td><td>0.2       </td><td>setosa    </td></tr>\n",
       "\t<tr><th scope=row>152</th><td>NA        </td><td>2.7       </td><td>5.3       </td><td>1.9       </td><td>virginica </td></tr>\n",
       "\t<tr><th scope=row>154</th><td>NA        </td><td>3.2       </td><td>1.3       </td><td>0.2       </td><td>setosa    </td></tr>\n",
       "\t<tr><th scope=row>162</th><td>NA        </td><td>2.7       </td><td>5.1       </td><td>1.6       </td><td>versicolor</td></tr>\n",
       "\t<tr><th scope=row>163</th><td>NA        </td><td>3.0       </td><td>4.5       </td><td>1.5       </td><td>versicolor</td></tr>\n",
       "\t<tr><th scope=row>164</th><td>NA        </td><td>2.9       </td><td>4.3       </td><td>1.3       </td><td>versicolor</td></tr>\n",
       "\t<tr><th scope=row>166</th><td>NA        </td><td>2.9       </td><td>4.7       </td><td>1.4       </td><td>versicolor</td></tr>\n",
       "\t<tr><th scope=row>167</th><td>NA        </td><td>3.8       </td><td>1.5       </td><td>0.3       </td><td>setosa    </td></tr>\n",
       "\t<tr><th scope=row>169</th><td>NA        </td><td>3.5       </td><td>1.5       </td><td>0.2       </td><td>setosa    </td></tr>\n",
       "\t<tr><th scope=row>170</th><td>NA        </td><td>4.2       </td><td>1.4       </td><td>0.2       </td><td>setosa    </td></tr>\n",
       "</tbody>\n",
       "</table>\n"
      ],
      "text/latex": [
       "\\begin{tabular}{r|lllll}\n",
       "  & Sepal.Length & Sepal.Width & Petal.Length & Petal.Width & Species\\\\\n",
       "\\hline\n",
       "\t151 & NA         & 3.6        & 1.0        & 0.2        & setosa    \\\\\n",
       "\t152 & NA         & 2.7        & 5.3        & 1.9        & virginica \\\\\n",
       "\t154 & NA         & 3.2        & 1.3        & 0.2        & setosa    \\\\\n",
       "\t162 & NA         & 2.7        & 5.1        & 1.6        & versicolor\\\\\n",
       "\t163 & NA         & 3.0        & 4.5        & 1.5        & versicolor\\\\\n",
       "\t164 & NA         & 2.9        & 4.3        & 1.3        & versicolor\\\\\n",
       "\t166 & NA         & 2.9        & 4.7        & 1.4        & versicolor\\\\\n",
       "\t167 & NA         & 3.8        & 1.5        & 0.3        & setosa    \\\\\n",
       "\t169 & NA         & 3.5        & 1.5        & 0.2        & setosa    \\\\\n",
       "\t170 & NA         & 4.2        & 1.4        & 0.2        & setosa    \\\\\n",
       "\\end{tabular}\n"
      ],
      "text/markdown": [
       "\n",
       "| <!--/--> | Sepal.Length | Sepal.Width | Petal.Length | Petal.Width | Species | \n",
       "|---|---|---|---|---|---|---|---|---|---|\n",
       "| 151 | NA         | 3.6        | 1.0        | 0.2        | setosa     | \n",
       "| 152 | NA         | 2.7        | 5.3        | 1.9        | virginica  | \n",
       "| 154 | NA         | 3.2        | 1.3        | 0.2        | setosa     | \n",
       "| 162 | NA         | 2.7        | 5.1        | 1.6        | versicolor | \n",
       "| 163 | NA         | 3.0        | 4.5        | 1.5        | versicolor | \n",
       "| 164 | NA         | 2.9        | 4.3        | 1.3        | versicolor | \n",
       "| 166 | NA         | 2.9        | 4.7        | 1.4        | versicolor | \n",
       "| 167 | NA         | 3.8        | 1.5        | 0.3        | setosa     | \n",
       "| 169 | NA         | 3.5        | 1.5        | 0.2        | setosa     | \n",
       "| 170 | NA         | 4.2        | 1.4        | 0.2        | setosa     | \n",
       "\n",
       "\n"
      ],
      "text/plain": [
       "    Sepal.Length Sepal.Width Petal.Length Petal.Width Species   \n",
       "151 NA           3.6         1.0          0.2         setosa    \n",
       "152 NA           2.7         5.3          1.9         virginica \n",
       "154 NA           3.2         1.3          0.2         setosa    \n",
       "162 NA           2.7         5.1          1.6         versicolor\n",
       "163 NA           3.0         4.5          1.5         versicolor\n",
       "164 NA           2.9         4.3          1.3         versicolor\n",
       "166 NA           2.9         4.7          1.4         versicolor\n",
       "167 NA           3.8         1.5          0.3         setosa    \n",
       "169 NA           3.5         1.5          0.2         setosa    \n",
       "170 NA           4.2         1.4          0.2         setosa    "
      ]
     },
     "metadata": {},
     "output_type": "display_data"
    }
   ],
   "source": [
    "## selección de casos incompletos\n",
    "x[!complete.cases(x),]  "
   ]
  },
  {
   "cell_type": "code",
   "execution_count": 70,
   "metadata": {},
   "outputs": [
    {
     "data": {
      "text/html": [
       "<table>\n",
       "<thead><tr><th></th><th scope=col>Sepal.Length</th><th scope=col>Sepal.Width</th><th scope=col>Petal.Length</th><th scope=col>Petal.Width</th><th scope=col>Species</th></tr></thead>\n",
       "<tbody>\n",
       "\t<tr><th scope=row>case_143</th><td>5.8       </td><td>2.7       </td><td>5.1       </td><td>1.9       </td><td>virginica </td></tr>\n",
       "\t<tr><th scope=row>153</th><td>6.7       </td><td>3.3       </td><td>5.7       </td><td>2.5       </td><td>virginica </td></tr>\n",
       "\t<tr><th scope=row>155</th><td>5.0       </td><td>3.5       </td><td>1.3       </td><td>0.3       </td><td>setosa    </td></tr>\n",
       "\t<tr><th scope=row>156</th><td>4.7       </td><td>3.2       </td><td>1.6       </td><td>0.2       </td><td>setosa    </td></tr>\n",
       "\t<tr><th scope=row>157</th><td>5.7       </td><td>3.8       </td><td>1.7       </td><td>0.3       </td><td>setosa    </td></tr>\n",
       "\t<tr><th scope=row>158</th><td>5.7       </td><td>2.6       </td><td>3.5       </td><td>1.0       </td><td>versicolor</td></tr>\n",
       "\t<tr><th scope=row>159</th><td>5.6       </td><td>3.0       </td><td>4.5       </td><td>1.5       </td><td>versicolor</td></tr>\n",
       "\t<tr><th scope=row>160</th><td>5.4       </td><td>3.4       </td><td>1.7       </td><td>0.2       </td><td>setosa    </td></tr>\n",
       "\t<tr><th scope=row>161</th><td>4.7       </td><td>3.2       </td><td>1.3       </td><td>0.2       </td><td>setosa    </td></tr>\n",
       "\t<tr><th scope=row>165</th><td>6.0       </td><td>2.9       </td><td>4.5       </td><td>1.5       </td><td>versicolor</td></tr>\n",
       "\t<tr><th scope=row>168</th><td>4.9       </td><td>3.0       </td><td>1.4       </td><td>0.2       </td><td>setosa    </td></tr>\n",
       "</tbody>\n",
       "</table>\n"
      ],
      "text/latex": [
       "\\begin{tabular}{r|lllll}\n",
       "  & Sepal.Length & Sepal.Width & Petal.Length & Petal.Width & Species\\\\\n",
       "\\hline\n",
       "\tcase\\_143 & 5.8        & 2.7        & 5.1        & 1.9        & virginica \\\\\n",
       "\t153 & 6.7        & 3.3        & 5.7        & 2.5        & virginica \\\\\n",
       "\t155 & 5.0        & 3.5        & 1.3        & 0.3        & setosa    \\\\\n",
       "\t156 & 4.7        & 3.2        & 1.6        & 0.2        & setosa    \\\\\n",
       "\t157 & 5.7        & 3.8        & 1.7        & 0.3        & setosa    \\\\\n",
       "\t158 & 5.7        & 2.6        & 3.5        & 1.0        & versicolor\\\\\n",
       "\t159 & 5.6        & 3.0        & 4.5        & 1.5        & versicolor\\\\\n",
       "\t160 & 5.4        & 3.4        & 1.7        & 0.2        & setosa    \\\\\n",
       "\t161 & 4.7        & 3.2        & 1.3        & 0.2        & setosa    \\\\\n",
       "\t165 & 6.0        & 2.9        & 4.5        & 1.5        & versicolor\\\\\n",
       "\t168 & 4.9        & 3.0        & 1.4        & 0.2        & setosa    \\\\\n",
       "\\end{tabular}\n"
      ],
      "text/markdown": [
       "\n",
       "| <!--/--> | Sepal.Length | Sepal.Width | Petal.Length | Petal.Width | Species | \n",
       "|---|---|---|---|---|---|---|---|---|---|---|\n",
       "| case_143 | 5.8        | 2.7        | 5.1        | 1.9        | virginica  | \n",
       "| 153 | 6.7        | 3.3        | 5.7        | 2.5        | virginica  | \n",
       "| 155 | 5.0        | 3.5        | 1.3        | 0.3        | setosa     | \n",
       "| 156 | 4.7        | 3.2        | 1.6        | 0.2        | setosa     | \n",
       "| 157 | 5.7        | 3.8        | 1.7        | 0.3        | setosa     | \n",
       "| 158 | 5.7        | 2.6        | 3.5        | 1.0        | versicolor | \n",
       "| 159 | 5.6        | 3.0        | 4.5        | 1.5        | versicolor | \n",
       "| 160 | 5.4        | 3.4        | 1.7        | 0.2        | setosa     | \n",
       "| 161 | 4.7        | 3.2        | 1.3        | 0.2        | setosa     | \n",
       "| 165 | 6.0        | 2.9        | 4.5        | 1.5        | versicolor | \n",
       "| 168 | 4.9        | 3.0        | 1.4        | 0.2        | setosa     | \n",
       "\n",
       "\n"
      ],
      "text/plain": [
       "         Sepal.Length Sepal.Width Petal.Length Petal.Width Species   \n",
       "case_143 5.8          2.7         5.1          1.9         virginica \n",
       "153      6.7          3.3         5.7          2.5         virginica \n",
       "155      5.0          3.5         1.3          0.3         setosa    \n",
       "156      4.7          3.2         1.6          0.2         setosa    \n",
       "157      5.7          3.8         1.7          0.3         setosa    \n",
       "158      5.7          2.6         3.5          1.0         versicolor\n",
       "159      5.6          3.0         4.5          1.5         versicolor\n",
       "160      5.4          3.4         1.7          0.2         setosa    \n",
       "161      4.7          3.2         1.3          0.2         setosa    \n",
       "165      6.0          2.9         4.5          1.5         versicolor\n",
       "168      4.9          3.0         1.4          0.2         setosa    "
      ]
     },
     "metadata": {},
     "output_type": "display_data"
    }
   ],
   "source": [
    "## selección de casos duplicados\n",
    "x[duplicated(x),]"
   ]
  },
  {
   "cell_type": "code",
   "execution_count": 71,
   "metadata": {},
   "outputs": [
    {
     "data": {
      "text/html": [
       "<table>\n",
       "<thead><tr><th></th><th scope=col>Sepal.Length</th><th scope=col>Sepal.Width</th><th scope=col>Petal.Length</th><th scope=col>Petal.Width</th><th scope=col>Species</th></tr></thead>\n",
       "<tbody>\n",
       "\t<tr><th scope=row>143</th><td>5.8      </td><td>2.7      </td><td>5.1      </td><td>1.9      </td><td>virginica</td></tr>\n",
       "</tbody>\n",
       "</table>\n"
      ],
      "text/latex": [
       "\\begin{tabular}{r|lllll}\n",
       "  & Sepal.Length & Sepal.Width & Petal.Length & Petal.Width & Species\\\\\n",
       "\\hline\n",
       "\t143 & 5.8       & 2.7       & 5.1       & 1.9       & virginica\\\\\n",
       "\\end{tabular}\n"
      ],
      "text/markdown": [
       "\n",
       "| <!--/--> | Sepal.Length | Sepal.Width | Petal.Length | Petal.Width | Species | \n",
       "|---|\n",
       "| 143 | 5.8       | 2.7       | 5.1       | 1.9       | virginica | \n",
       "\n",
       "\n"
      ],
      "text/plain": [
       "    Sepal.Length Sepal.Width Petal.Length Petal.Width Species  \n",
       "143 5.8          2.7         5.1          1.9         virginica"
      ]
     },
     "metadata": {},
     "output_type": "display_data"
    }
   ],
   "source": [
    "## ops! el registro 143 aparece duplicado?\n",
    "## se verifica en el data.frame original\n",
    "iris[duplicated(iris),]"
   ]
  },
  {
   "cell_type": "code",
   "execution_count": 72,
   "metadata": {},
   "outputs": [
    {
     "name": "stdout",
     "output_type": "stream",
     "text": [
      "'data.frame':\t149 obs. of  5 variables:\n",
      " $ Sepal.Length: num  5.1 4.9 4.7 4.6 5 5.4 4.6 5 4.4 4.9 ...\n",
      " $ Sepal.Width : num  3.5 3 3.2 3.1 3.6 3.9 3.4 3.4 2.9 3.1 ...\n",
      " $ Petal.Length: num  1.4 1.4 1.3 1.5 1.4 1.7 1.4 1.5 1.4 1.5 ...\n",
      " $ Petal.Width : num  0.2 0.2 0.2 0.2 0.2 0.4 0.3 0.2 0.2 0.1 ...\n",
      " $ Species     : Factor w/ 3 levels \"setosa\",\"versicolor\",..: 1 1 1 1 1 1 1 1 1 1 ...\n"
     ]
    }
   ],
   "source": [
    "u <- x[!duplicated(x),]      ## selecciona los casos no duplicados\n",
    "u <- u[complete.cases(u),]   ## y que estén completos\n",
    "str(u)"
   ]
  },
  {
   "cell_type": "code",
   "execution_count": 73,
   "metadata": {},
   "outputs": [
    {
     "data": {
      "text/plain": [
       "\n",
       "TRUE \n",
       " 149 "
      ]
     },
     "metadata": {},
     "output_type": "display_data"
    }
   ],
   "source": [
    "## número de casos completos (sin datos faltantes)\n",
    "table(complete.cases(u))  "
   ]
  },
  {
   "cell_type": "markdown",
   "metadata": {},
   "source": [
    "## Estadísticos descriptivos"
   ]
  },
  {
   "cell_type": "code",
   "execution_count": 74,
   "metadata": {},
   "outputs": [
    {
     "data": {
      "text/plain": [
       "  Sepal.Length    Sepal.Width     Petal.Length    Petal.Width   \n",
       " Min.   :4.300   Min.   :2.000   Min.   :1.000   Min.   :0.100  \n",
       " 1st Qu.:5.100   1st Qu.:2.800   1st Qu.:1.600   1st Qu.:0.300  \n",
       " Median :5.800   Median :3.000   Median :4.350   Median :1.300  \n",
       " Mean   :5.843   Mean   :3.057   Mean   :3.758   Mean   :1.199  \n",
       " 3rd Qu.:6.400   3rd Qu.:3.300   3rd Qu.:5.100   3rd Qu.:1.800  \n",
       " Max.   :7.900   Max.   :4.400   Max.   :6.900   Max.   :2.500  \n",
       "       Species  \n",
       " setosa    :50  \n",
       " versicolor:50  \n",
       " virginica :50  \n",
       "                \n",
       "                \n",
       "                "
      ]
     },
     "metadata": {},
     "output_type": "display_data"
    }
   ],
   "source": [
    "## resumen de estadísticos descriptivos\n",
    "summary(iris)"
   ]
  },
  {
   "cell_type": "markdown",
   "metadata": {},
   "source": [
    "## R dummy"
   ]
  },
  {
   "cell_type": "markdown",
   "metadata": {},
   "source": [
    "> [`R dummy`](https://cran.r-project.org/web/packages/dummies/)  \n",
    "`Create dummy/indicator variables flexibly and efficiently`"
   ]
  },
  {
   "cell_type": "code",
   "execution_count": 75,
   "metadata": {},
   "outputs": [
    {
     "name": "stderr",
     "output_type": "stream",
     "text": [
      "dummy 0.1.3\n",
      "dummyNews()\n"
     ]
    }
   ],
   "source": [
    "library(dummy)"
   ]
  },
  {
   "cell_type": "code",
   "execution_count": 76,
   "metadata": {
    "scrolled": true
   },
   "outputs": [
    {
     "name": "stdout",
     "output_type": "stream",
     "text": [
      "  [1] 1 1 1 1 1 1 1 1 1 1 1 1 1 1 1 1 1 1 1 1 1 1 1 1 1 1 1 1 1 1 1 1 1 1 1 1 1\n",
      " [38] 1 1 1 1 1 1 1 1 1 1 1 1 1 0 0 0 0 0 0 0 0 0 0 0 0 0 0 0 0 0 0 0 0 0 0 0 0\n",
      " [75] 0 0 0 0 0 0 0 0 0 0 0 0 0 0 0 0 0 0 0 0 0 0 0 0 0 0 0 0 0 0 0 0 0 0 0 0 0\n",
      "[112] 0 0 0 0 0 0 0 0 0 0 0 0 0 0 0 0 0 0 0 0 0 0 0 0 0 0 0 0 0 0 0 0 0 0 0 0 0\n",
      "[149] 0 0\n",
      "Levels: 0 1\n",
      "  [1] 0 0 0 0 0 0 0 0 0 0 0 0 0 0 0 0 0 0 0 0 0 0 0 0 0 0 0 0 0 0 0 0 0 0 0 0 0\n",
      " [38] 0 0 0 0 0 0 0 0 0 0 0 0 0 0 0 0 0 0 0 0 0 0 0 0 0 0 0 0 0 0 0 0 0 0 0 0 0\n",
      " [75] 0 0 0 0 0 0 0 0 0 0 0 0 0 0 0 0 0 0 0 0 0 0 0 0 0 0 1 1 1 1 1 1 1 1 1 1 1\n",
      "[112] 1 1 1 1 1 1 1 1 1 1 1 1 1 1 1 1 1 1 1 1 1 1 1 1 1 1 1 1 1 1 1 1 1 1 1 1 1\n",
      "[149] 1 1\n",
      "Levels: 0 1\n"
     ]
    }
   ],
   "source": [
    "## crea una variable dummy por cada valor de una variable categórica\n",
    "y <- dummy(iris)\n",
    "print(y$Species_setosa)\n",
    "print(y$Species_virginica)"
   ]
  },
  {
   "cell_type": "markdown",
   "metadata": {},
   "source": [
    "## R reshape"
   ]
  },
  {
   "cell_type": "markdown",
   "metadata": {},
   "source": [
    "> [`R reshape`](https://cran.r-project.org/web/packages/reshape/index.html)  \n",
    "`Flexibly reshape data`  "
   ]
  },
  {
   "cell_type": "code",
   "execution_count": 77,
   "metadata": {},
   "outputs": [],
   "source": [
    "library(reshape)"
   ]
  },
  {
   "cell_type": "code",
   "execution_count": 78,
   "metadata": {},
   "outputs": [
    {
     "data": {
      "text/html": [
       "<table>\n",
       "<thead><tr><th scope=col>key1</th><th scope=col>key2</th><th scope=col>values1</th><th scope=col>values2</th></tr></thead>\n",
       "<tbody>\n",
       "\t<tr><td>a </td><td>A </td><td>1 </td><td> 7</td></tr>\n",
       "\t<tr><td>a </td><td>B </td><td>2 </td><td> 8</td></tr>\n",
       "\t<tr><td>b </td><td>A </td><td>3 </td><td> 9</td></tr>\n",
       "\t<tr><td>b </td><td>B </td><td>4 </td><td>10</td></tr>\n",
       "\t<tr><td>c </td><td>A </td><td>5 </td><td>11</td></tr>\n",
       "\t<tr><td>c </td><td>B </td><td>6 </td><td>12</td></tr>\n",
       "</tbody>\n",
       "</table>\n"
      ],
      "text/latex": [
       "\\begin{tabular}{r|llll}\n",
       " key1 & key2 & values1 & values2\\\\\n",
       "\\hline\n",
       "\t a  & A  & 1  &  7\\\\\n",
       "\t a  & B  & 2  &  8\\\\\n",
       "\t b  & A  & 3  &  9\\\\\n",
       "\t b  & B  & 4  & 10\\\\\n",
       "\t c  & A  & 5  & 11\\\\\n",
       "\t c  & B  & 6  & 12\\\\\n",
       "\\end{tabular}\n"
      ],
      "text/markdown": [
       "\n",
       "key1 | key2 | values1 | values2 | \n",
       "|---|---|---|---|---|---|\n",
       "| a  | A  | 1  |  7 | \n",
       "| a  | B  | 2  |  8 | \n",
       "| b  | A  | 3  |  9 | \n",
       "| b  | B  | 4  | 10 | \n",
       "| c  | A  | 5  | 11 | \n",
       "| c  | B  | 6  | 12 | \n",
       "\n",
       "\n"
      ],
      "text/plain": [
       "  key1 key2 values1 values2\n",
       "1 a    A    1        7     \n",
       "2 a    B    2        8     \n",
       "3 b    A    3        9     \n",
       "4 b    B    4       10     \n",
       "5 c    A    5       11     \n",
       "6 c    B    6       12     "
      ]
     },
     "metadata": {},
     "output_type": "display_data"
    }
   ],
   "source": [
    "## Tablas dinámicas\n",
    "m <- data.frame(key1    = rep(letters[1:3], each = 2),\n",
    "                key2    = rep(LETTERS[1:2], 3),\n",
    "                values1 = 1:6,\n",
    "                values2 = 7:12,\n",
    "                stringsAsFactors = FALSE)\n",
    "\n",
    "m"
   ]
  },
  {
   "cell_type": "code",
   "execution_count": 79,
   "metadata": {},
   "outputs": [
    {
     "data": {
      "text/html": [
       "<table>\n",
       "<thead><tr><th scope=col>key2</th><th scope=col>a</th><th scope=col>b</th><th scope=col>c</th></tr></thead>\n",
       "<tbody>\n",
       "\t<tr><td>A </td><td>7 </td><td> 9</td><td>11</td></tr>\n",
       "\t<tr><td>B </td><td>8 </td><td>10</td><td>12</td></tr>\n",
       "</tbody>\n",
       "</table>\n"
      ],
      "text/latex": [
       "\\begin{tabular}{r|llll}\n",
       " key2 & a & b & c\\\\\n",
       "\\hline\n",
       "\t A  & 7  &  9 & 11\\\\\n",
       "\t B  & 8  & 10 & 12\\\\\n",
       "\\end{tabular}\n"
      ],
      "text/markdown": [
       "\n",
       "key2 | a | b | c | \n",
       "|---|---|\n",
       "| A  | 7  |  9 | 11 | \n",
       "| B  | 8  | 10 | 12 | \n",
       "\n",
       "\n"
      ],
      "text/plain": [
       "  key2 a b  c \n",
       "1 A    7  9 11\n",
       "2 B    8 10 12"
      ]
     },
     "metadata": {},
     "output_type": "display_data"
    }
   ],
   "source": [
    "cast(data = m, \n",
    "     formula = key2~key1, \n",
    "     value = 'values2')"
   ]
  },
  {
   "cell_type": "code",
   "execution_count": 80,
   "metadata": {
    "scrolled": true
   },
   "outputs": [
    {
     "data": {
      "text/html": [
       "<table>\n",
       "<thead><tr><th scope=col>key1</th><th scope=col>A</th><th scope=col>B</th></tr></thead>\n",
       "<tbody>\n",
       "\t<tr><td>a </td><td> 7</td><td> 8</td></tr>\n",
       "\t<tr><td>b </td><td> 9</td><td>10</td></tr>\n",
       "\t<tr><td>c </td><td>11</td><td>12</td></tr>\n",
       "</tbody>\n",
       "</table>\n"
      ],
      "text/latex": [
       "\\begin{tabular}{r|lll}\n",
       " key1 & A & B\\\\\n",
       "\\hline\n",
       "\t a  &  7 &  8\\\\\n",
       "\t b  &  9 & 10\\\\\n",
       "\t c  & 11 & 12\\\\\n",
       "\\end{tabular}\n"
      ],
      "text/markdown": [
       "\n",
       "key1 | A | B | \n",
       "|---|---|---|\n",
       "| a  |  7 |  8 | \n",
       "| b  |  9 | 10 | \n",
       "| c  | 11 | 12 | \n",
       "\n",
       "\n"
      ],
      "text/plain": [
       "  key1 A  B \n",
       "1 a     7  8\n",
       "2 b     9 10\n",
       "3 c    11 12"
      ]
     },
     "metadata": {},
     "output_type": "display_data"
    }
   ],
   "source": [
    "cast(data = m, \n",
    "     formula = key1~key2, \n",
    "     value = 'values2')"
   ]
  },
  {
   "cell_type": "markdown",
   "metadata": {},
   "source": [
    "## R reshape2"
   ]
  },
  {
   "cell_type": "markdown",
   "metadata": {},
   "source": [
    "> [`R reshape2`](https://cran.r-project.org/web/packages/reshape2/index.html)  \n",
    "`Flexibly Reshape Data: A Reboot of the Reshape Package`"
   ]
  },
  {
   "cell_type": "code",
   "execution_count": 81,
   "metadata": {},
   "outputs": [
    {
     "name": "stderr",
     "output_type": "stream",
     "text": [
      "\n",
      "Attaching package: ‘reshape2’\n",
      "\n",
      "The following objects are masked from ‘package:reshape’:\n",
      "\n",
      "    colsplit, melt, recast\n",
      "\n"
     ]
    }
   ],
   "source": [
    "library(reshape2)"
   ]
  },
  {
   "cell_type": "code",
   "execution_count": 82,
   "metadata": {},
   "outputs": [
    {
     "data": {
      "text/html": [
       "<table>\n",
       "<thead><tr><th scope=col>Species</th><th scope=col>n</th><th scope=col>variable</th><th scope=col>value</th></tr></thead>\n",
       "<tbody>\n",
       "\t<tr><td>setosa      </td><td> 1          </td><td>Sepal.Length</td><td>5.1         </td></tr>\n",
       "\t<tr><td>setosa      </td><td> 2          </td><td>Sepal.Length</td><td>4.9         </td></tr>\n",
       "\t<tr><td>setosa      </td><td> 3          </td><td>Sepal.Length</td><td>4.7         </td></tr>\n",
       "\t<tr><td>setosa      </td><td> 4          </td><td>Sepal.Length</td><td>4.6         </td></tr>\n",
       "\t<tr><td>setosa      </td><td> 5          </td><td>Sepal.Length</td><td>5.0         </td></tr>\n",
       "\t<tr><td>setosa      </td><td> 6          </td><td>Sepal.Length</td><td>5.4         </td></tr>\n",
       "\t<tr><td>setosa      </td><td> 7          </td><td>Sepal.Length</td><td>4.6         </td></tr>\n",
       "\t<tr><td>setosa      </td><td> 8          </td><td>Sepal.Length</td><td>5.0         </td></tr>\n",
       "\t<tr><td>setosa      </td><td> 9          </td><td>Sepal.Length</td><td>4.4         </td></tr>\n",
       "\t<tr><td>setosa      </td><td>10          </td><td>Sepal.Length</td><td>4.9         </td></tr>\n",
       "</tbody>\n",
       "</table>\n"
      ],
      "text/latex": [
       "\\begin{tabular}{r|llll}\n",
       " Species & n & variable & value\\\\\n",
       "\\hline\n",
       "\t setosa       &  1           & Sepal.Length & 5.1         \\\\\n",
       "\t setosa       &  2           & Sepal.Length & 4.9         \\\\\n",
       "\t setosa       &  3           & Sepal.Length & 4.7         \\\\\n",
       "\t setosa       &  4           & Sepal.Length & 4.6         \\\\\n",
       "\t setosa       &  5           & Sepal.Length & 5.0         \\\\\n",
       "\t setosa       &  6           & Sepal.Length & 5.4         \\\\\n",
       "\t setosa       &  7           & Sepal.Length & 4.6         \\\\\n",
       "\t setosa       &  8           & Sepal.Length & 5.0         \\\\\n",
       "\t setosa       &  9           & Sepal.Length & 4.4         \\\\\n",
       "\t setosa       & 10           & Sepal.Length & 4.9         \\\\\n",
       "\\end{tabular}\n"
      ],
      "text/markdown": [
       "\n",
       "Species | n | variable | value | \n",
       "|---|---|---|---|---|---|---|---|---|---|\n",
       "| setosa       |  1           | Sepal.Length | 5.1          | \n",
       "| setosa       |  2           | Sepal.Length | 4.9          | \n",
       "| setosa       |  3           | Sepal.Length | 4.7          | \n",
       "| setosa       |  4           | Sepal.Length | 4.6          | \n",
       "| setosa       |  5           | Sepal.Length | 5.0          | \n",
       "| setosa       |  6           | Sepal.Length | 5.4          | \n",
       "| setosa       |  7           | Sepal.Length | 4.6          | \n",
       "| setosa       |  8           | Sepal.Length | 5.0          | \n",
       "| setosa       |  9           | Sepal.Length | 4.4          | \n",
       "| setosa       | 10           | Sepal.Length | 4.9          | \n",
       "\n",
       "\n"
      ],
      "text/plain": [
       "   Species n  variable     value\n",
       "1  setosa   1 Sepal.Length 5.1  \n",
       "2  setosa   2 Sepal.Length 4.9  \n",
       "3  setosa   3 Sepal.Length 4.7  \n",
       "4  setosa   4 Sepal.Length 4.6  \n",
       "5  setosa   5 Sepal.Length 5.0  \n",
       "6  setosa   6 Sepal.Length 5.4  \n",
       "7  setosa   7 Sepal.Length 4.6  \n",
       "8  setosa   8 Sepal.Length 5.0  \n",
       "9  setosa   9 Sepal.Length 4.4  \n",
       "10 setosa  10 Sepal.Length 4.9  "
      ]
     },
     "metadata": {},
     "output_type": "display_data"
    },
    {
     "name": "stdout",
     "output_type": "stream",
     "text": [
      "\n"
     ]
    },
    {
     "data": {
      "text/html": [
       "<table>\n",
       "<thead><tr><th></th><th scope=col>Species</th><th scope=col>n</th><th scope=col>variable</th><th scope=col>value</th></tr></thead>\n",
       "<tbody>\n",
       "\t<tr><th scope=row>591</th><td>virginica  </td><td>141        </td><td>Petal.Width</td><td>2.4        </td></tr>\n",
       "\t<tr><th scope=row>592</th><td>virginica  </td><td>142        </td><td>Petal.Width</td><td>2.3        </td></tr>\n",
       "\t<tr><th scope=row>593</th><td>virginica  </td><td>143        </td><td>Petal.Width</td><td>1.9        </td></tr>\n",
       "\t<tr><th scope=row>594</th><td>virginica  </td><td>144        </td><td>Petal.Width</td><td>2.3        </td></tr>\n",
       "\t<tr><th scope=row>595</th><td>virginica  </td><td>145        </td><td>Petal.Width</td><td>2.5        </td></tr>\n",
       "\t<tr><th scope=row>596</th><td>virginica  </td><td>146        </td><td>Petal.Width</td><td>2.3        </td></tr>\n",
       "\t<tr><th scope=row>597</th><td>virginica  </td><td>147        </td><td>Petal.Width</td><td>1.9        </td></tr>\n",
       "\t<tr><th scope=row>598</th><td>virginica  </td><td>148        </td><td>Petal.Width</td><td>2.0        </td></tr>\n",
       "\t<tr><th scope=row>599</th><td>virginica  </td><td>149        </td><td>Petal.Width</td><td>2.3        </td></tr>\n",
       "\t<tr><th scope=row>600</th><td>virginica  </td><td>150        </td><td>Petal.Width</td><td>1.8        </td></tr>\n",
       "</tbody>\n",
       "</table>\n"
      ],
      "text/latex": [
       "\\begin{tabular}{r|llll}\n",
       "  & Species & n & variable & value\\\\\n",
       "\\hline\n",
       "\t591 & virginica   & 141         & Petal.Width & 2.4        \\\\\n",
       "\t592 & virginica   & 142         & Petal.Width & 2.3        \\\\\n",
       "\t593 & virginica   & 143         & Petal.Width & 1.9        \\\\\n",
       "\t594 & virginica   & 144         & Petal.Width & 2.3        \\\\\n",
       "\t595 & virginica   & 145         & Petal.Width & 2.5        \\\\\n",
       "\t596 & virginica   & 146         & Petal.Width & 2.3        \\\\\n",
       "\t597 & virginica   & 147         & Petal.Width & 1.9        \\\\\n",
       "\t598 & virginica   & 148         & Petal.Width & 2.0        \\\\\n",
       "\t599 & virginica   & 149         & Petal.Width & 2.3        \\\\\n",
       "\t600 & virginica   & 150         & Petal.Width & 1.8        \\\\\n",
       "\\end{tabular}\n"
      ],
      "text/markdown": [
       "\n",
       "| <!--/--> | Species | n | variable | value | \n",
       "|---|---|---|---|---|---|---|---|---|---|\n",
       "| 591 | virginica   | 141         | Petal.Width | 2.4         | \n",
       "| 592 | virginica   | 142         | Petal.Width | 2.3         | \n",
       "| 593 | virginica   | 143         | Petal.Width | 1.9         | \n",
       "| 594 | virginica   | 144         | Petal.Width | 2.3         | \n",
       "| 595 | virginica   | 145         | Petal.Width | 2.5         | \n",
       "| 596 | virginica   | 146         | Petal.Width | 2.3         | \n",
       "| 597 | virginica   | 147         | Petal.Width | 1.9         | \n",
       "| 598 | virginica   | 148         | Petal.Width | 2.0         | \n",
       "| 599 | virginica   | 149         | Petal.Width | 2.3         | \n",
       "| 600 | virginica   | 150         | Petal.Width | 1.8         | \n",
       "\n",
       "\n"
      ],
      "text/plain": [
       "    Species   n   variable    value\n",
       "591 virginica 141 Petal.Width 2.4  \n",
       "592 virginica 142 Petal.Width 2.3  \n",
       "593 virginica 143 Petal.Width 1.9  \n",
       "594 virginica 144 Petal.Width 2.3  \n",
       "595 virginica 145 Petal.Width 2.5  \n",
       "596 virginica 146 Petal.Width 2.3  \n",
       "597 virginica 147 Petal.Width 1.9  \n",
       "598 virginica 148 Petal.Width 2.0  \n",
       "599 virginica 149 Petal.Width 2.3  \n",
       "600 virginica 150 Petal.Width 1.8  "
      ]
     },
     "metadata": {},
     "output_type": "display_data"
    }
   ],
   "source": [
    "# reshape2 convierte los nombres de las columnas a campos \n",
    "# de la columna `variable` y los correspondientes valores \n",
    "# de las columnas los apila en la columna `value` y \n",
    "# viceversa.\n",
    "\n",
    "x <- iris # copia del dataframe `iris`.\n",
    "\n",
    "# agrega una columna de indices.\n",
    "x$n = 1:nrow(x)  \n",
    "\n",
    "# los campos `Species` y `n` conforman una clave para la tabla.\n",
    "g <- melt(x, id.vars = c('Species', 'n'))\n",
    "head(g, n = 10)\n",
    "cat('\\n')\n",
    "tail(g, n = 10)"
   ]
  },
  {
   "cell_type": "code",
   "execution_count": 83,
   "metadata": {
    "scrolled": true
   },
   "outputs": [
    {
     "data": {
      "text/html": [
       "<table>\n",
       "<thead><tr><th scope=col>Species</th><th scope=col>n</th><th scope=col>Sepal.Length</th><th scope=col>Sepal.Width</th><th scope=col>Petal.Length</th><th scope=col>Petal.Width</th></tr></thead>\n",
       "<tbody>\n",
       "\t<tr><td>setosa</td><td> 1    </td><td>5.1   </td><td>3.5   </td><td>1.4   </td><td>0.2   </td></tr>\n",
       "\t<tr><td>setosa</td><td> 2    </td><td>4.9   </td><td>3.0   </td><td>1.4   </td><td>0.2   </td></tr>\n",
       "\t<tr><td>setosa</td><td> 3    </td><td>4.7   </td><td>3.2   </td><td>1.3   </td><td>0.2   </td></tr>\n",
       "\t<tr><td>setosa</td><td> 4    </td><td>4.6   </td><td>3.1   </td><td>1.5   </td><td>0.2   </td></tr>\n",
       "\t<tr><td>setosa</td><td> 5    </td><td>5.0   </td><td>3.6   </td><td>1.4   </td><td>0.2   </td></tr>\n",
       "\t<tr><td>setosa</td><td> 6    </td><td>5.4   </td><td>3.9   </td><td>1.7   </td><td>0.4   </td></tr>\n",
       "\t<tr><td>setosa</td><td> 7    </td><td>4.6   </td><td>3.4   </td><td>1.4   </td><td>0.3   </td></tr>\n",
       "\t<tr><td>setosa</td><td> 8    </td><td>5.0   </td><td>3.4   </td><td>1.5   </td><td>0.2   </td></tr>\n",
       "\t<tr><td>setosa</td><td> 9    </td><td>4.4   </td><td>2.9   </td><td>1.4   </td><td>0.2   </td></tr>\n",
       "\t<tr><td>setosa</td><td>10    </td><td>4.9   </td><td>3.1   </td><td>1.5   </td><td>0.1   </td></tr>\n",
       "</tbody>\n",
       "</table>\n"
      ],
      "text/latex": [
       "\\begin{tabular}{r|llllll}\n",
       " Species & n & Sepal.Length & Sepal.Width & Petal.Length & Petal.Width\\\\\n",
       "\\hline\n",
       "\t setosa &  1     & 5.1    & 3.5    & 1.4    & 0.2   \\\\\n",
       "\t setosa &  2     & 4.9    & 3.0    & 1.4    & 0.2   \\\\\n",
       "\t setosa &  3     & 4.7    & 3.2    & 1.3    & 0.2   \\\\\n",
       "\t setosa &  4     & 4.6    & 3.1    & 1.5    & 0.2   \\\\\n",
       "\t setosa &  5     & 5.0    & 3.6    & 1.4    & 0.2   \\\\\n",
       "\t setosa &  6     & 5.4    & 3.9    & 1.7    & 0.4   \\\\\n",
       "\t setosa &  7     & 4.6    & 3.4    & 1.4    & 0.3   \\\\\n",
       "\t setosa &  8     & 5.0    & 3.4    & 1.5    & 0.2   \\\\\n",
       "\t setosa &  9     & 4.4    & 2.9    & 1.4    & 0.2   \\\\\n",
       "\t setosa & 10     & 4.9    & 3.1    & 1.5    & 0.1   \\\\\n",
       "\\end{tabular}\n"
      ],
      "text/markdown": [
       "\n",
       "Species | n | Sepal.Length | Sepal.Width | Petal.Length | Petal.Width | \n",
       "|---|---|---|---|---|---|---|---|---|---|\n",
       "| setosa |  1     | 5.1    | 3.5    | 1.4    | 0.2    | \n",
       "| setosa |  2     | 4.9    | 3.0    | 1.4    | 0.2    | \n",
       "| setosa |  3     | 4.7    | 3.2    | 1.3    | 0.2    | \n",
       "| setosa |  4     | 4.6    | 3.1    | 1.5    | 0.2    | \n",
       "| setosa |  5     | 5.0    | 3.6    | 1.4    | 0.2    | \n",
       "| setosa |  6     | 5.4    | 3.9    | 1.7    | 0.4    | \n",
       "| setosa |  7     | 4.6    | 3.4    | 1.4    | 0.3    | \n",
       "| setosa |  8     | 5.0    | 3.4    | 1.5    | 0.2    | \n",
       "| setosa |  9     | 4.4    | 2.9    | 1.4    | 0.2    | \n",
       "| setosa | 10     | 4.9    | 3.1    | 1.5    | 0.1    | \n",
       "\n",
       "\n"
      ],
      "text/plain": [
       "   Species n  Sepal.Length Sepal.Width Petal.Length Petal.Width\n",
       "1  setosa   1 5.1          3.5         1.4          0.2        \n",
       "2  setosa   2 4.9          3.0         1.4          0.2        \n",
       "3  setosa   3 4.7          3.2         1.3          0.2        \n",
       "4  setosa   4 4.6          3.1         1.5          0.2        \n",
       "5  setosa   5 5.0          3.6         1.4          0.2        \n",
       "6  setosa   6 5.4          3.9         1.7          0.4        \n",
       "7  setosa   7 4.6          3.4         1.4          0.3        \n",
       "8  setosa   8 5.0          3.4         1.5          0.2        \n",
       "9  setosa   9 4.4          2.9         1.4          0.2        \n",
       "10 setosa  10 4.9          3.1         1.5          0.1        "
      ]
     },
     "metadata": {},
     "output_type": "display_data"
    }
   ],
   "source": [
    "## hace el proceso inverso de `melt`\n",
    "## note que se cambio el orden de las columnas\n",
    "head(dcast(g, Species + n ~ variable ), 10)"
   ]
  },
  {
   "cell_type": "markdown",
   "metadata": {},
   "source": [
    "##  R plyr"
   ]
  },
  {
   "cell_type": "markdown",
   "metadata": {},
   "source": [
    "> [`R plyr`](https://cran.r-project.org/web/packages/plyr/index.html)  \n",
    "`Tools for Splitting, Applying and Combining Data`"
   ]
  },
  {
   "cell_type": "code",
   "execution_count": 84,
   "metadata": {},
   "outputs": [
    {
     "name": "stderr",
     "output_type": "stream",
     "text": [
      "\n",
      "Attaching package: ‘plyr’\n",
      "\n",
      "The following objects are masked from ‘package:reshape’:\n",
      "\n",
      "    rename, round_any\n",
      "\n"
     ]
    }
   ],
   "source": [
    "library(plyr)  "
   ]
  },
  {
   "cell_type": "code",
   "execution_count": 85,
   "metadata": {
    "scrolled": true
   },
   "outputs": [
    {
     "name": "stdout",
     "output_type": "stream",
     "text": [
      "     Species sum.Sepal.Length\n",
      "1     setosa            250.3\n",
      "2 versicolor            296.8\n",
      "3  virginica            329.4\n"
     ]
    }
   ],
   "source": [
    "## suma la columna `Sepal.Length` por cada valor diferente en `Species` \n",
    "print(ddply(iris, ~Species, summarise, sum.Sepal.Length = sum(Sepal.Length)))"
   ]
  },
  {
   "cell_type": "code",
   "execution_count": 86,
   "metadata": {
    "scrolled": false
   },
   "outputs": [
    {
     "name": "stdout",
     "output_type": "stream",
     "text": [
      "   Sepal.Length Sepal.Width Petal.Length Petal.Width Species\n",
      "1           4.3         3.0          1.1         0.1  setosa\n",
      "2           4.4         2.9          1.4         0.2  setosa\n",
      "3           4.4         3.0          1.3         0.2  setosa\n",
      "4           4.4         3.2          1.3         0.2  setosa\n",
      "5           4.5         2.3          1.3         0.3  setosa\n",
      "6           4.6         3.1          1.5         0.2  setosa\n",
      "7           4.6         3.4          1.4         0.3  setosa\n",
      "8           4.6         3.6          1.0         0.2  setosa\n",
      "9           4.6         3.2          1.4         0.2  setosa\n",
      "10          4.7         3.2          1.3         0.2  setosa\n"
     ]
    }
   ],
   "source": [
    "## ordena por las `Species` y luego `Sepal.Length`\n",
    "print(head(arrange(iris, Species, Sepal.Length), n = 10))"
   ]
  },
  {
   "cell_type": "code",
   "execution_count": 87,
   "metadata": {},
   "outputs": [
    {
     "name": "stdout",
     "output_type": "stream",
     "text": [
      "-- data.frame x --\n",
      "  keys x.values\n",
      "1    A      x.1\n",
      "2    B      x.2\n",
      "3    A      x.3\n",
      "4    B      x.4\n",
      "\n",
      "-- data.frame y --\n",
      "  keys y.values\n",
      "1    B      y.1\n",
      "2    B      y.2\n",
      "3    C      y.3\n",
      "4    C      y.4\n"
     ]
    }
   ],
   "source": [
    "## hace un `join` a dos dataframes.\n",
    "\n",
    "keys <- rep(x = LETTERS[1:2], times = 2)\n",
    "x.values <- paste('x', 1:4, sep = '.')\n",
    "x <- data.frame(keys, \n",
    "                x.values,\n",
    "                stringsAsFactors = FALSE)\n",
    "\n",
    "keys <- rep(x = LETTERS[2:3], each = 2)\n",
    "y.values <- paste('y', 1:4, sep = '.')\n",
    "y <- data.frame(keys, \n",
    "                y.values, \n",
    "                stringsAsFactors = FALSE)\n",
    "\n",
    "cat('-- data.frame x --\\n')\n",
    "print(x)\n",
    "cat('\\n')\n",
    "cat('-- data.frame y --\\n')\n",
    "print(y)"
   ]
  },
  {
   "cell_type": "code",
   "execution_count": 88,
   "metadata": {},
   "outputs": [
    {
     "name": "stdout",
     "output_type": "stream",
     "text": [
      "  keys x.values y.values\n",
      "1    A      x.1     <NA>\n",
      "2    B      x.2      y.1\n",
      "3    B      x.2      y.2\n",
      "4    A      x.3     <NA>\n",
      "5    B      x.4      y.1\n",
      "6    B      x.4      y.2\n"
     ]
    }
   ],
   "source": [
    "## operacion left_join\n",
    "w <- join(x = x, \n",
    "          y = y, \n",
    "          by = 'keys')\n",
    "\n",
    "print(w)"
   ]
  },
  {
   "cell_type": "code",
   "execution_count": 89,
   "metadata": {},
   "outputs": [
    {
     "name": "stdout",
     "output_type": "stream",
     "text": [
      "  keys y.values x.values\n",
      "1    B      y.1      x.2\n",
      "2    B      y.1      x.4\n",
      "3    B      y.2      x.2\n",
      "4    B      y.2      x.4\n",
      "5    C      y.3     <NA>\n",
      "6    C      y.4     <NA>\n"
     ]
    }
   ],
   "source": [
    "## operacion left_join\n",
    "w <- join(x = y, \n",
    "          y = x, \n",
    "          by = 'keys')\n",
    "\n",
    "print(w)"
   ]
  },
  {
   "cell_type": "markdown",
   "metadata": {},
   "source": [
    "##  R dplyr"
   ]
  },
  {
   "cell_type": "markdown",
   "metadata": {},
   "source": [
    "> [`R dplyr`](https://cran.r-project.org/web/packages/dplyr/index.html)  \n",
    "`A Grammar of Data Manipulation`"
   ]
  },
  {
   "cell_type": "code",
   "execution_count": 90,
   "metadata": {},
   "outputs": [
    {
     "name": "stderr",
     "output_type": "stream",
     "text": [
      "\n",
      "Attaching package: ‘dplyr’\n",
      "\n",
      "The following objects are masked from ‘package:plyr’:\n",
      "\n",
      "    arrange, count, desc, failwith, id, mutate, rename, summarise,\n",
      "    summarize\n",
      "\n",
      "The following object is masked from ‘package:reshape’:\n",
      "\n",
      "    rename\n",
      "\n",
      "The following objects are masked from ‘package:stats’:\n",
      "\n",
      "    filter, lag\n",
      "\n",
      "The following objects are masked from ‘package:base’:\n",
      "\n",
      "    intersect, setdiff, setequal, union\n",
      "\n"
     ]
    }
   ],
   "source": [
    "library(dplyr)"
   ]
  },
  {
   "cell_type": "code",
   "execution_count": 91,
   "metadata": {},
   "outputs": [
    {
     "name": "stdout",
     "output_type": "stream",
     "text": [
      "[1] \"1\" \"2\" \"3\" \"4\"\n"
     ]
    }
   ],
   "source": [
    "## nombres de las filas del data.frame `x`\n",
    "print(row.names(x))"
   ]
  },
  {
   "cell_type": "code",
   "execution_count": 92,
   "metadata": {
    "scrolled": true
   },
   "outputs": [
    {
     "name": "stderr",
     "output_type": "stream",
     "text": [
      "Warning message:\n",
      "“Deprecated, use tibble::rownames_to_column() instead.”"
     ]
    },
    {
     "name": "stdout",
     "output_type": "stream",
     "text": [
      "# A tibble: 4 x 3\n",
      "  nombre_ keys  x.values\n",
      "  <chr>   <chr> <chr>   \n",
      "1 1       A     x.1     \n",
      "2 2       B     x.2     \n",
      "3 3       A     x.3     \n",
      "4 4       B     x.4     \n"
     ]
    }
   ],
   "source": [
    "## convierte los nombres de las filas en una\n",
    "## variable del data.frame\n",
    "y <- add_rownames(x, var = 'nombre_')\n",
    "print(head(y, 10))"
   ]
  },
  {
   "cell_type": "code",
   "execution_count": 93,
   "metadata": {},
   "outputs": [
    {
     "name": "stdout",
     "output_type": "stream",
     "text": [
      "  Sepal.Length Sepal.Width Petal.Length Petal.Width Species\n",
      "1          4.3         3.0          1.1         0.1  setosa\n",
      "2          4.4         2.9          1.4         0.2  setosa\n",
      "3          4.4         3.0          1.3         0.2  setosa\n",
      "4          4.4         3.2          1.3         0.2  setosa\n",
      "5          4.5         2.3          1.3         0.3  setosa\n",
      "6          4.6         3.1          1.5         0.2  setosa\n"
     ]
    }
   ],
   "source": [
    "## ordenación del data.frame\n",
    "print(head( arrange(iris, Sepal.Length, Sepal.Width) ))"
   ]
  },
  {
   "cell_type": "code",
   "execution_count": 94,
   "metadata": {},
   "outputs": [
    {
     "name": "stdout",
     "output_type": "stream",
     "text": [
      "-- data.frame x --\n",
      "  keys groups x.values\n",
      "1    A      1  x.row_1\n",
      "2    C      1  x.row_2\n",
      "3    A      1  x.row_3\n",
      "4    C      2  x.row_4\n",
      "\n",
      "-- data.frame y --\n",
      "  keys y.values\n",
      "1    C  y.row_1\n",
      "2    C  y.row_2\n",
      "3    D  y.row_3\n",
      "4    D  y.row_4\n"
     ]
    }
   ],
   "source": [
    "## Operaciones join.\n",
    "## se crean dos dataframes\n",
    "\n",
    "keys <- rep(x = LETTERS[c(1,3)], times = 2)\n",
    "x.values <- paste('x.row', 1:4, sep = '_')\n",
    "groups <- c(rep(1,3), 2)\n",
    "x <- data.frame(keys, \n",
    "                groups,\n",
    "                x.values,\n",
    "                stringsAsFactors = FALSE)\n",
    "\n",
    "keys <- rep(x = LETTERS[3:4], each = 2)\n",
    "y.values <- paste('y.row', 1:4, sep = '_')\n",
    "y <- data.frame(keys, \n",
    "                y.values, \n",
    "                stringsAsFactors = FALSE)\n",
    "\n",
    "cat('-- data.frame x --\\n')\n",
    "print(x)\n",
    "cat('\\n')\n",
    "cat('-- data.frame y --\\n')\n",
    "print(y)"
   ]
  },
  {
   "cell_type": "code",
   "execution_count": 95,
   "metadata": {},
   "outputs": [
    {
     "name": "stdout",
     "output_type": "stream",
     "text": [
      "  keys groups x.values y.values\n",
      "1    C      1  x.row_2  y.row_1\n",
      "2    C      1  x.row_2  y.row_2\n",
      "3    C      2  x.row_4  y.row_1\n",
      "4    C      2  x.row_4  y.row_2\n"
     ]
    }
   ],
   "source": [
    "## intersección de los registros en `x` y en `y`\n",
    "print( inner_join(x, y, by = 'keys') )"
   ]
  },
  {
   "cell_type": "code",
   "execution_count": 96,
   "metadata": {},
   "outputs": [
    {
     "name": "stdout",
     "output_type": "stream",
     "text": [
      "  keys groups x.values y.values\n",
      "1    A      1  x.row_1     <NA>\n",
      "2    C      1  x.row_2  y.row_1\n",
      "3    C      1  x.row_2  y.row_2\n",
      "4    A      1  x.row_3     <NA>\n",
      "5    C      2  x.row_4  y.row_1\n",
      "6    C      2  x.row_4  y.row_2\n"
     ]
    }
   ],
   "source": [
    "## todos los registros en `x`, y los \n",
    "## correspondientes valores en `y`\n",
    "print( left_join(x, y, by = 'keys') )"
   ]
  },
  {
   "cell_type": "code",
   "execution_count": 97,
   "metadata": {},
   "outputs": [
    {
     "name": "stdout",
     "output_type": "stream",
     "text": [
      "  keys groups x.values y.values\n",
      "1    C      1  x.row_2  y.row_1\n",
      "2    C      2  x.row_4  y.row_1\n",
      "3    C      1  x.row_2  y.row_2\n",
      "4    C      2  x.row_4  y.row_2\n",
      "5    D     NA     <NA>  y.row_3\n",
      "6    D     NA     <NA>  y.row_4\n"
     ]
    }
   ],
   "source": [
    "## todos los registros en `y` y \n",
    "## los valores correspondientes en `x`\n",
    "print( right_join(x, y, by = 'keys') )"
   ]
  },
  {
   "cell_type": "code",
   "execution_count": 98,
   "metadata": {},
   "outputs": [
    {
     "name": "stdout",
     "output_type": "stream",
     "text": [
      "  keys groups x.values\n",
      "1    C      1  x.row_2\n",
      "2    C      2  x.row_4\n"
     ]
    }
   ],
   "source": [
    "## claves en `x`  para las que hay claves en `y`\n",
    "print( semi_join(x, y, by = 'keys') )"
   ]
  },
  {
   "cell_type": "code",
   "execution_count": 99,
   "metadata": {},
   "outputs": [
    {
     "name": "stdout",
     "output_type": "stream",
     "text": [
      "  keys groups x.values\n",
      "1    A      1  x.row_1\n",
      "2    A      1  x.row_3\n"
     ]
    }
   ],
   "source": [
    "## registros que no están en `y`\n",
    "print( anti_join(x, y, by = 'keys') )"
   ]
  },
  {
   "cell_type": "code",
   "execution_count": 100,
   "metadata": {
    "scrolled": true
   },
   "outputs": [
    {
     "name": "stdout",
     "output_type": "stream",
     "text": [
      "  keys groups x.values y.values\n",
      "1    A      1  x.row_1     <NA>\n",
      "2    C      1  x.row_2  y.row_1\n",
      "3    C      1  x.row_2  y.row_2\n",
      "4    A      1  x.row_3     <NA>\n",
      "5    C      2  x.row_4  y.row_1\n",
      "6    C      2  x.row_4  y.row_2\n",
      "7    D     NA     <NA>  y.row_3\n",
      "8    D     NA     <NA>  y.row_4\n"
     ]
    }
   ],
   "source": [
    "## todos los registros en `x` y en `y` \n",
    "print( full_join(x, y, by = 'keys') )"
   ]
  },
  {
   "cell_type": "code",
   "execution_count": 101,
   "metadata": {},
   "outputs": [
    {
     "name": "stdout",
     "output_type": "stream",
     "text": [
      "  keys groups x.values y.values\n",
      "1    C      1  x.row_2  y.row_1\n",
      "2    C      1  x.row_2  y.row_2\n",
      "3    C      2  x.row_4  y.row_1\n",
      "4    C      2  x.row_4  y.row_2\n"
     ]
    }
   ],
   "source": [
    "## filtrado\n",
    "w <- full_join(x, y, by = 'keys')\n",
    "print(filter(w, keys == 'C'))"
   ]
  },
  {
   "cell_type": "code",
   "execution_count": 102,
   "metadata": {},
   "outputs": [
    {
     "name": "stdout",
     "output_type": "stream",
     "text": [
      "  keys groups\n",
      "1    A      1\n",
      "2    C      1\n",
      "3    C      1\n",
      "4    A      1\n",
      "5    C      2\n",
      "6    C      2\n",
      "7    D     NA\n",
      "8    D     NA\n"
     ]
    }
   ],
   "source": [
    "## select\n",
    "print(select(w, keys, groups))"
   ]
  },
  {
   "cell_type": "code",
   "execution_count": 103,
   "metadata": {},
   "outputs": [
    {
     "name": "stdout",
     "output_type": "stream",
     "text": [
      "  keys groups x.values y.values\n",
      "4    A      1  x.row_3     <NA>\n",
      "3    C      1  x.row_2  y.row_2\n"
     ]
    }
   ],
   "source": [
    "## muestreo aleatorio de filas\n",
    "print(sample_n(w, 2))"
   ]
  },
  {
   "cell_type": "code",
   "execution_count": 104,
   "metadata": {},
   "outputs": [
    {
     "name": "stdout",
     "output_type": "stream",
     "text": [
      "# A tibble: 3 x 2\n",
      "  keys  count\n",
      "  <chr> <int>\n",
      "1 A         2\n",
      "2 C         4\n",
      "3 D         2\n"
     ]
    }
   ],
   "source": [
    "## agregación\n",
    "by_keys <- group_by(w, keys)\n",
    "print(summarise(by_keys, count = n()))"
   ]
  },
  {
   "cell_type": "markdown",
   "metadata": {},
   "source": [
    "##  R tidyr"
   ]
  },
  {
   "cell_type": "markdown",
   "metadata": {},
   "source": [
    "> [`R tidyr`](https://cran.r-project.org/web/packages/tidyr/index.html)  \n",
    "`Easily Tidy Data with 'spread()' and 'gather()' Functions`"
   ]
  },
  {
   "cell_type": "code",
   "execution_count": 105,
   "metadata": {},
   "outputs": [
    {
     "name": "stderr",
     "output_type": "stream",
     "text": [
      "\n",
      "Attaching package: ‘tidyr’\n",
      "\n",
      "The following object is masked from ‘package:reshape2’:\n",
      "\n",
      "    smiths\n",
      "\n",
      "The following objects are masked from ‘package:reshape’:\n",
      "\n",
      "    expand, smiths\n",
      "\n"
     ]
    }
   ],
   "source": [
    "library(tidyr)"
   ]
  },
  {
   "cell_type": "code",
   "execution_count": 106,
   "metadata": {
    "scrolled": true
   },
   "outputs": [
    {
     "name": "stdout",
     "output_type": "stream",
     "text": [
      "# A tibble: 4 x 3\n",
      "  keys  groups x.values\n",
      "  <chr>  <dbl> <chr>   \n",
      "1 A         1. x.row_1 \n",
      "2 C         1. x.row_2 \n",
      "3 A         1. x.row_3 \n",
      "4 C         2. x.row_4 \n"
     ]
    }
   ],
   "source": [
    "z <- as_data_frame(x)\n",
    "print(z)"
   ]
  },
  {
   "cell_type": "code",
   "execution_count": 107,
   "metadata": {},
   "outputs": [
    {
     "name": "stdout",
     "output_type": "stream",
     "text": [
      "# A tibble: 4 x 2\n",
      "  keys  groups\n",
      "  <chr>  <dbl>\n",
      "1 A         1.\n",
      "2 A         2.\n",
      "3 C         1.\n",
      "4 C         2.\n"
     ]
    }
   ],
   "source": [
    "## completa la secuencia (con valores unicos)\n",
    "## para cada cada una de las columnas\n",
    "w <- z %>% expand(keys, groups)\n",
    "print(w)"
   ]
  },
  {
   "cell_type": "code",
   "execution_count": 108,
   "metadata": {},
   "outputs": [
    {
     "name": "stdout",
     "output_type": "stream",
     "text": [
      "# A tibble: 4 x 3\n",
      "  keys  groups x.values\n",
      "  <chr>  <dbl> <chr>   \n",
      "1 A         1. x.row_1 \n",
      "2 C         1. x.row_2 \n",
      "3 A         1. x.row_3 \n",
      "4 C         2. x.row_4 \n",
      "\n",
      "\n",
      "# A tibble: 5 x 3\n",
      "  keys  groups x.values\n",
      "  <chr>  <dbl> <chr>   \n",
      "1 A         1. x.row_1 \n",
      "2 A         1. x.row_3 \n",
      "3 A         2. <NA>    \n",
      "4 C         1. x.row_2 \n",
      "5 C         2. x.row_4 \n"
     ]
    }
   ],
   "source": [
    "## hace explicita la secuencia llenando con NAs \n",
    "## las combinaciones faltantes\n",
    "print(z)\n",
    "cat('\\n\\n')\n",
    "w <- z %>% complete(keys, groups)\n",
    "print(w)"
   ]
  },
  {
   "cell_type": "code",
   "execution_count": 109,
   "metadata": {
    "scrolled": true
   },
   "outputs": [
    {
     "name": "stdout",
     "output_type": "stream",
     "text": [
      "# A tibble: 4 x 2\n",
      "  keys  groups\n",
      "  <chr>  <dbl>\n",
      "1 A         1.\n",
      "2 A         2.\n",
      "3 C         1.\n",
      "4 C         2.\n"
     ]
    }
   ],
   "source": [
    "## completa las secuencias\n",
    "w <- z %>% expand(keys, groups)\n",
    "print(w)"
   ]
  },
  {
   "cell_type": "code",
   "execution_count": 110,
   "metadata": {},
   "outputs": [
    {
     "name": "stdout",
     "output_type": "stream",
     "text": [
      "# A tibble: 12 x 2\n",
      "   keys  groups\n",
      "   <chr>  <int>\n",
      " 1 A          1\n",
      " 2 A          2\n",
      " 3 A          3\n",
      " 4 B          1\n",
      " 5 B          2\n",
      " 6 B          3\n",
      " 7 C          1\n",
      " 8 C          2\n",
      " 9 C          3\n",
      "10 D          1\n",
      "11 D          2\n",
      "12 D          3\n"
     ]
    }
   ],
   "source": [
    "## completa las secuencias\n",
    "w <- z %>% expand(keys = LETTERS[1:4], groups = 1:3)\n",
    "print(w)"
   ]
  },
  {
   "cell_type": "code",
   "execution_count": 111,
   "metadata": {},
   "outputs": [
    {
     "name": "stdout",
     "output_type": "stream",
     "text": [
      "# A tibble: 4 x 3\n",
      "  keys  groups x.values\n",
      "  <chr>  <dbl> <chr>   \n",
      "1 A         1. x.row_1 \n",
      "2 C         1. x.row_2 \n",
      "3 A         1. x.row_3 \n",
      "4 C         2. x.row_4 \n",
      "\n",
      "\n",
      "# A tibble: 8 x 3\n",
      "  x.values keys   groups\n",
      "  <chr>    <chr>  <chr> \n",
      "1 x.row_1  keys   A     \n",
      "2 x.row_2  keys   C     \n",
      "3 x.row_3  keys   A     \n",
      "4 x.row_4  keys   C     \n",
      "5 x.row_1  groups 1     \n",
      "6 x.row_2  groups 1     \n",
      "7 x.row_3  groups 1     \n",
      "8 x.row_4  groups 2     \n"
     ]
    }
   ],
   "source": [
    "## reescribe el dataset\n",
    "print(z)\n",
    "cat('\\n\\n')\n",
    "w <- z %>% gather(keys, groups, -x.values)\n",
    "print(w)"
   ]
  },
  {
   "cell_type": "code",
   "execution_count": 112,
   "metadata": {},
   "outputs": [
    {
     "name": "stdout",
     "output_type": "stream",
     "text": [
      "# A tibble: 4 x 3\n",
      "  keys  groups x.values\n",
      "  <chr>  <dbl> <chr>   \n",
      "1 A         1. x.row_1 \n",
      "2 C         1. x.row_2 \n",
      "3 A         1. x.row_3 \n",
      "4 C         2. x.row_4 \n",
      "\n",
      "\n",
      "# A tibble: 4 x 3\n",
      "  x.values `1`   `2`  \n",
      "  <chr>    <chr> <chr>\n",
      "1 x.row_1  A     <NA> \n",
      "2 x.row_2  C     <NA> \n",
      "3 x.row_3  A     <NA> \n",
      "4 x.row_4  <NA>  C    \n"
     ]
    }
   ],
   "source": [
    "## convierte valores en columnas y viceversa.\n",
    "print(z)\n",
    "cat('\\n\\n')\n",
    "print(z %>% spread(groups, keys))"
   ]
  },
  {
   "cell_type": "code",
   "execution_count": 113,
   "metadata": {},
   "outputs": [
    {
     "name": "stdout",
     "output_type": "stream",
     "text": [
      "# A tibble: 4 x 3\n",
      "  x.values     A     C\n",
      "  <chr>    <dbl> <dbl>\n",
      "1 x.row_1     1.   NA \n",
      "2 x.row_2    NA     1.\n",
      "3 x.row_3     1.   NA \n",
      "4 x.row_4    NA     2.\n"
     ]
    }
   ],
   "source": [
    "## convierte valores en columnas y viceversa.\n",
    "print(z %>% spread(keys, groups))"
   ]
  },
  {
   "cell_type": "markdown",
   "metadata": {},
   "source": [
    "## data.table"
   ]
  },
  {
   "cell_type": "markdown",
   "metadata": {},
   "source": [
    "> [`R data.table`](https://cran.r-project.org/web/packages/data.table/index.html)  \n",
    "`Extension of Data.frame`"
   ]
  },
  {
   "cell_type": "markdown",
   "metadata": {},
   "source": [
    "Este paquete presenta una funcionalidad similar a los data.frame y esta optimizada para el manejo de grandes cantidades de datos."
   ]
  },
  {
   "cell_type": "code",
   "execution_count": 114,
   "metadata": {},
   "outputs": [
    {
     "name": "stderr",
     "output_type": "stream",
     "text": [
      "\n",
      "Attaching package: ‘data.table’\n",
      "\n",
      "The following objects are masked from ‘package:dplyr’:\n",
      "\n",
      "    between, first, last\n",
      "\n",
      "The following objects are masked from ‘package:reshape2’:\n",
      "\n",
      "    dcast, melt\n",
      "\n",
      "The following object is masked from ‘package:reshape’:\n",
      "\n",
      "    melt\n",
      "\n"
     ]
    }
   ],
   "source": [
    "library(data.table)"
   ]
  },
  {
   "cell_type": "code",
   "execution_count": 115,
   "metadata": {},
   "outputs": [
    {
     "name": "stdout",
     "output_type": "stream",
     "text": [
      "    A B C\n",
      " 1: 1 1 1\n",
      " 2: 1 1 2\n",
      " 3: 1 1 1\n",
      " 4: 1 2 2\n",
      " 5: 2 2 1\n",
      " 6: 2 2 2\n",
      " 7: 2 3 1\n",
      " 8: 2 3 2\n",
      " 9: 3 3 1\n",
      "10: 3 4 2\n",
      "11: 3 4 1\n",
      "12: 3 4 2\n"
     ]
    }
   ],
   "source": [
    "DT <- data.table(A = rep(1:3, each=4), \n",
    "                 B = rep(1:4, each=3), \n",
    "                 C = rep(1:2, 6), \n",
    "                 key = \"A,B\") \n",
    "print(DT)"
   ]
  },
  {
   "cell_type": "code",
   "execution_count": 116,
   "metadata": {},
   "outputs": [
    {
     "name": "stdout",
     "output_type": "stream",
     "text": [
      "   A B C\n",
      "1: 1 1 1\n",
      "2: 3 4 2\n"
     ]
    }
   ],
   "source": [
    "## casos duplicados\n",
    "w <- DT[duplicated(DT),]\n",
    "print(w)"
   ]
  },
  {
   "cell_type": "code",
   "execution_count": 117,
   "metadata": {},
   "outputs": [
    {
     "name": "stdout",
     "output_type": "stream",
     "text": [
      "   A B C\n",
      "1: 1 1 2\n",
      "2: 1 1 1\n",
      "3: 2 2 1\n",
      "4: 2 2 2\n",
      "5: 2 3 2\n",
      "6: 3 3 1\n",
      "7: 3 4 1\n",
      "8: 3 4 2\n"
     ]
    }
   ],
   "source": [
    "w <- DT[duplicated(DT, by=\"B\"),]\n",
    "print(w)"
   ]
  },
  {
   "cell_type": "code",
   "execution_count": 118,
   "metadata": {},
   "outputs": [
    {
     "name": "stdout",
     "output_type": "stream",
     "text": [
      "    A B C\n",
      " 1: 1 1 1\n",
      " 2: 1 1 2\n",
      " 3: 1 2 2\n",
      " 4: 2 2 1\n",
      " 5: 2 2 2\n",
      " 6: 2 3 1\n",
      " 7: 2 3 2\n",
      " 8: 3 3 1\n",
      " 9: 3 4 2\n",
      "10: 3 4 1\n"
     ]
    }
   ],
   "source": [
    "## casos únicos\n",
    "print(unique(DT))"
   ]
  },
  {
   "cell_type": "code",
   "execution_count": 119,
   "metadata": {},
   "outputs": [
    {
     "name": "stdout",
     "output_type": "stream",
     "text": [
      "   A B C\n",
      "1: 1 1 1\n",
      "2: 1 1 2\n",
      "3: 2 2 1\n",
      "4: 2 2 2\n",
      "5: 3 3 1\n",
      "6: 3 4 2\n"
     ]
    }
   ],
   "source": [
    "print( unique(DT, by=c(\"A\", \"C\")) )"
   ]
  },
  {
   "cell_type": "markdown",
   "metadata": {},
   "source": [
    "## sqldf"
   ]
  },
  {
   "cell_type": "markdown",
   "metadata": {},
   "source": [
    "> [`R sqldf`](https://github.com/ggrothendieck/sqldf)  \n",
    "`Perform SQL Selects on R Data Frames`"
   ]
  },
  {
   "cell_type": "markdown",
   "metadata": {},
   "source": [
    "  \n",
    "Los ejemplos presentados son adaptados de la página web del paquete.  "
   ]
  },
  {
   "cell_type": "code",
   "execution_count": 120,
   "metadata": {},
   "outputs": [
    {
     "name": "stderr",
     "output_type": "stream",
     "text": [
      "Loading required package: gsubfn\n",
      "Loading required package: proto\n",
      "Loading required package: RSQLite\n"
     ]
    }
   ],
   "source": [
    "## carga la librería\n",
    "library(sqldf)"
   ]
  },
  {
   "cell_type": "code",
   "execution_count": 121,
   "metadata": {
    "scrolled": false
   },
   "outputs": [
    {
     "data": {
      "text/html": [
       "<table>\n",
       "<thead><tr><th scope=col>Sepal.Length</th><th scope=col>Sepal.Width</th><th scope=col>Petal.Length</th><th scope=col>Petal.Width</th><th scope=col>Species</th></tr></thead>\n",
       "<tbody>\n",
       "\t<tr><td>7.9      </td><td>3.8      </td><td>6.4      </td><td>2.0      </td><td>virginica</td></tr>\n",
       "\t<tr><td>7.7      </td><td>3.8      </td><td>6.7      </td><td>2.2      </td><td>virginica</td></tr>\n",
       "\t<tr><td>7.7      </td><td>2.6      </td><td>6.9      </td><td>2.3      </td><td>virginica</td></tr>\n",
       "</tbody>\n",
       "</table>\n"
      ],
      "text/latex": [
       "\\begin{tabular}{r|lllll}\n",
       " Sepal.Length & Sepal.Width & Petal.Length & Petal.Width & Species\\\\\n",
       "\\hline\n",
       "\t 7.9       & 3.8       & 6.4       & 2.0       & virginica\\\\\n",
       "\t 7.7       & 3.8       & 6.7       & 2.2       & virginica\\\\\n",
       "\t 7.7       & 2.6       & 6.9       & 2.3       & virginica\\\\\n",
       "\\end{tabular}\n"
      ],
      "text/markdown": [
       "\n",
       "Sepal.Length | Sepal.Width | Petal.Length | Petal.Width | Species | \n",
       "|---|---|---|\n",
       "| 7.9       | 3.8       | 6.4       | 2.0       | virginica | \n",
       "| 7.7       | 3.8       | 6.7       | 2.2       | virginica | \n",
       "| 7.7       | 2.6       | 6.9       | 2.3       | virginica | \n",
       "\n",
       "\n"
      ],
      "text/plain": [
       "  Sepal.Length Sepal.Width Petal.Length Petal.Width Species  \n",
       "1 7.9          3.8         6.4          2.0         virginica\n",
       "2 7.7          3.8         6.7          2.2         virginica\n",
       "3 7.7          2.6         6.9          2.3         virginica"
      ]
     },
     "metadata": {},
     "output_type": "display_data"
    }
   ],
   "source": [
    "## selección de un conjunto de registros ordenados\n",
    "sqldf('select * from iris order by \"Sepal.Length\" desc limit 3')"
   ]
  },
  {
   "cell_type": "code",
   "execution_count": 122,
   "metadata": {},
   "outputs": [
    {
     "data": {
      "text/html": [
       "<table>\n",
       "<thead><tr><th scope=col>Species</th><th scope=col>avg(\"Sepal.Length\")</th></tr></thead>\n",
       "<tbody>\n",
       "\t<tr><td>setosa    </td><td>5.006     </td></tr>\n",
       "\t<tr><td>versicolor</td><td>5.936     </td></tr>\n",
       "\t<tr><td>virginica </td><td>6.588     </td></tr>\n",
       "</tbody>\n",
       "</table>\n"
      ],
      "text/latex": [
       "\\begin{tabular}{r|ll}\n",
       " Species & avg(\"Sepal.Length\")\\\\\n",
       "\\hline\n",
       "\t setosa     & 5.006     \\\\\n",
       "\t versicolor & 5.936     \\\\\n",
       "\t virginica  & 6.588     \\\\\n",
       "\\end{tabular}\n"
      ],
      "text/markdown": [
       "\n",
       "Species | avg(\"Sepal.Length\") | \n",
       "|---|---|---|\n",
       "| setosa     | 5.006      | \n",
       "| versicolor | 5.936      | \n",
       "| virginica  | 6.588      | \n",
       "\n",
       "\n"
      ],
      "text/plain": [
       "  Species    avg(\"Sepal.Length\")\n",
       "1 setosa     5.006              \n",
       "2 versicolor 5.936              \n",
       "3 virginica  6.588              "
      ]
     },
     "metadata": {},
     "output_type": "display_data"
    }
   ],
   "source": [
    "## agrupamiento\n",
    "sqldf('select Species, avg(\"Sepal.Length\") from iris group by Species')"
   ]
  },
  {
   "cell_type": "code",
   "execution_count": 123,
   "metadata": {
    "scrolled": true
   },
   "outputs": [
    {
     "data": {
      "text/html": [
       "<table>\n",
       "<thead><tr><th scope=col>Sepal.Length</th><th scope=col>Sepal.Width</th><th scope=col>Petal.Length</th><th scope=col>Petal.Width</th><th scope=col>Species</th></tr></thead>\n",
       "<tbody>\n",
       "\t<tr><td>5.4   </td><td>3.9   </td><td>1.7   </td><td>0.4   </td><td>setosa</td></tr>\n",
       "\t<tr><td>5.4   </td><td>3.7   </td><td>1.5   </td><td>0.2   </td><td>setosa</td></tr>\n",
       "\t<tr><td>5.8   </td><td>4.0   </td><td>1.2   </td><td>0.2   </td><td>setosa</td></tr>\n",
       "\t<tr><td>5.7   </td><td>4.4   </td><td>1.5   </td><td>0.4   </td><td>setosa</td></tr>\n",
       "\t<tr><td>5.4   </td><td>3.9   </td><td>1.3   </td><td>0.4   </td><td>setosa</td></tr>\n",
       "\t<tr><td>5.7   </td><td>3.8   </td><td>1.7   </td><td>0.3   </td><td>setosa</td></tr>\n",
       "\t<tr><td>5.4   </td><td>3.4   </td><td>1.7   </td><td>0.2   </td><td>setosa</td></tr>\n",
       "\t<tr><td>5.4   </td><td>3.4   </td><td>1.5   </td><td>0.4   </td><td>setosa</td></tr>\n",
       "\t<tr><td>5.5   </td><td>4.2   </td><td>1.4   </td><td>0.2   </td><td>setosa</td></tr>\n",
       "\t<tr><td>5.5   </td><td>3.5   </td><td>1.3   </td><td>0.2   </td><td>setosa</td></tr>\n",
       "\t<tr><td>5.3   </td><td>3.7   </td><td>1.5   </td><td>0.2   </td><td>setosa</td></tr>\n",
       "</tbody>\n",
       "</table>\n"
      ],
      "text/latex": [
       "\\begin{tabular}{r|lllll}\n",
       " Sepal.Length & Sepal.Width & Petal.Length & Petal.Width & Species\\\\\n",
       "\\hline\n",
       "\t 5.4    & 3.9    & 1.7    & 0.4    & setosa\\\\\n",
       "\t 5.4    & 3.7    & 1.5    & 0.2    & setosa\\\\\n",
       "\t 5.8    & 4.0    & 1.2    & 0.2    & setosa\\\\\n",
       "\t 5.7    & 4.4    & 1.5    & 0.4    & setosa\\\\\n",
       "\t 5.4    & 3.9    & 1.3    & 0.4    & setosa\\\\\n",
       "\t 5.7    & 3.8    & 1.7    & 0.3    & setosa\\\\\n",
       "\t 5.4    & 3.4    & 1.7    & 0.2    & setosa\\\\\n",
       "\t 5.4    & 3.4    & 1.5    & 0.4    & setosa\\\\\n",
       "\t 5.5    & 4.2    & 1.4    & 0.2    & setosa\\\\\n",
       "\t 5.5    & 3.5    & 1.3    & 0.2    & setosa\\\\\n",
       "\t 5.3    & 3.7    & 1.5    & 0.2    & setosa\\\\\n",
       "\\end{tabular}\n"
      ],
      "text/markdown": [
       "\n",
       "Sepal.Length | Sepal.Width | Petal.Length | Petal.Width | Species | \n",
       "|---|---|---|---|---|---|---|---|---|---|---|\n",
       "| 5.4    | 3.9    | 1.7    | 0.4    | setosa | \n",
       "| 5.4    | 3.7    | 1.5    | 0.2    | setosa | \n",
       "| 5.8    | 4.0    | 1.2    | 0.2    | setosa | \n",
       "| 5.7    | 4.4    | 1.5    | 0.4    | setosa | \n",
       "| 5.4    | 3.9    | 1.3    | 0.4    | setosa | \n",
       "| 5.7    | 3.8    | 1.7    | 0.3    | setosa | \n",
       "| 5.4    | 3.4    | 1.7    | 0.2    | setosa | \n",
       "| 5.4    | 3.4    | 1.5    | 0.4    | setosa | \n",
       "| 5.5    | 4.2    | 1.4    | 0.2    | setosa | \n",
       "| 5.5    | 3.5    | 1.3    | 0.2    | setosa | \n",
       "| 5.3    | 3.7    | 1.5    | 0.2    | setosa | \n",
       "\n",
       "\n"
      ],
      "text/plain": [
       "   Sepal.Length Sepal.Width Petal.Length Petal.Width Species\n",
       "1  5.4          3.9         1.7          0.4         setosa \n",
       "2  5.4          3.7         1.5          0.2         setosa \n",
       "3  5.8          4.0         1.2          0.2         setosa \n",
       "4  5.7          4.4         1.5          0.4         setosa \n",
       "5  5.4          3.9         1.3          0.4         setosa \n",
       "6  5.7          3.8         1.7          0.3         setosa \n",
       "7  5.4          3.4         1.7          0.2         setosa \n",
       "8  5.4          3.4         1.5          0.4         setosa \n",
       "9  5.5          4.2         1.4          0.2         setosa \n",
       "10 5.5          3.5         1.3          0.2         setosa \n",
       "11 5.3          3.7         1.5          0.2         setosa "
      ]
     },
     "metadata": {},
     "output_type": "display_data"
    }
   ],
   "source": [
    "## selección condicional\n",
    "sqlquery = 'select * from iris where species = \"setosa\" and \"Sepal.Length\" > 5.2' \n",
    "sqldf(sqlquery, stringsAsFactors = FALSE)"
   ]
  },
  {
   "cell_type": "code",
   "execution_count": 124,
   "metadata": {
    "scrolled": false
   },
   "outputs": [
    {
     "data": {
      "text/html": [
       "<table>\n",
       "<thead><tr><th scope=col>Sepal.Length</th><th scope=col>Sepal.Width</th><th scope=col>Petal.Length</th><th scope=col>Petal.Width</th><th scope=col>Species</th></tr></thead>\n",
       "<tbody>\n",
       "\t<tr><td>5.4   </td><td>3.9   </td><td>1.7   </td><td>0.4   </td><td>setosa</td></tr>\n",
       "\t<tr><td>5.4   </td><td>3.7   </td><td>1.5   </td><td>0.2   </td><td>setosa</td></tr>\n",
       "\t<tr><td>5.8   </td><td>4.0   </td><td>1.2   </td><td>0.2   </td><td>setosa</td></tr>\n",
       "\t<tr><td>5.7   </td><td>4.4   </td><td>1.5   </td><td>0.4   </td><td>setosa</td></tr>\n",
       "\t<tr><td>5.4   </td><td>3.9   </td><td>1.3   </td><td>0.4   </td><td>setosa</td></tr>\n",
       "\t<tr><td>5.7   </td><td>3.8   </td><td>1.7   </td><td>0.3   </td><td>setosa</td></tr>\n",
       "\t<tr><td>5.4   </td><td>3.4   </td><td>1.7   </td><td>0.2   </td><td>setosa</td></tr>\n",
       "\t<tr><td>5.4   </td><td>3.4   </td><td>1.5   </td><td>0.4   </td><td>setosa</td></tr>\n",
       "\t<tr><td>5.5   </td><td>4.2   </td><td>1.4   </td><td>0.2   </td><td>setosa</td></tr>\n",
       "\t<tr><td>5.5   </td><td>3.5   </td><td>1.3   </td><td>0.2   </td><td>setosa</td></tr>\n",
       "\t<tr><td>5.3   </td><td>3.7   </td><td>1.5   </td><td>0.2   </td><td>setosa</td></tr>\n",
       "</tbody>\n",
       "</table>\n"
      ],
      "text/latex": [
       "\\begin{tabular}{r|lllll}\n",
       " Sepal.Length & Sepal.Width & Petal.Length & Petal.Width & Species\\\\\n",
       "\\hline\n",
       "\t 5.4    & 3.9    & 1.7    & 0.4    & setosa\\\\\n",
       "\t 5.4    & 3.7    & 1.5    & 0.2    & setosa\\\\\n",
       "\t 5.8    & 4.0    & 1.2    & 0.2    & setosa\\\\\n",
       "\t 5.7    & 4.4    & 1.5    & 0.4    & setosa\\\\\n",
       "\t 5.4    & 3.9    & 1.3    & 0.4    & setosa\\\\\n",
       "\t 5.7    & 3.8    & 1.7    & 0.3    & setosa\\\\\n",
       "\t 5.4    & 3.4    & 1.7    & 0.2    & setosa\\\\\n",
       "\t 5.4    & 3.4    & 1.5    & 0.4    & setosa\\\\\n",
       "\t 5.5    & 4.2    & 1.4    & 0.2    & setosa\\\\\n",
       "\t 5.5    & 3.5    & 1.3    & 0.2    & setosa\\\\\n",
       "\t 5.3    & 3.7    & 1.5    & 0.2    & setosa\\\\\n",
       "\\end{tabular}\n"
      ],
      "text/markdown": [
       "\n",
       "Sepal.Length | Sepal.Width | Petal.Length | Petal.Width | Species | \n",
       "|---|---|---|---|---|---|---|---|---|---|---|\n",
       "| 5.4    | 3.9    | 1.7    | 0.4    | setosa | \n",
       "| 5.4    | 3.7    | 1.5    | 0.2    | setosa | \n",
       "| 5.8    | 4.0    | 1.2    | 0.2    | setosa | \n",
       "| 5.7    | 4.4    | 1.5    | 0.4    | setosa | \n",
       "| 5.4    | 3.9    | 1.3    | 0.4    | setosa | \n",
       "| 5.7    | 3.8    | 1.7    | 0.3    | setosa | \n",
       "| 5.4    | 3.4    | 1.7    | 0.2    | setosa | \n",
       "| 5.4    | 3.4    | 1.5    | 0.4    | setosa | \n",
       "| 5.5    | 4.2    | 1.4    | 0.2    | setosa | \n",
       "| 5.5    | 3.5    | 1.3    | 0.2    | setosa | \n",
       "| 5.3    | 3.7    | 1.5    | 0.2    | setosa | \n",
       "\n",
       "\n"
      ],
      "text/plain": [
       "   Sepal.Length Sepal.Width Petal.Length Petal.Width Species\n",
       "1  5.4          3.9         1.7          0.4         setosa \n",
       "2  5.4          3.7         1.5          0.2         setosa \n",
       "3  5.8          4.0         1.2          0.2         setosa \n",
       "4  5.7          4.4         1.5          0.4         setosa \n",
       "5  5.4          3.9         1.3          0.4         setosa \n",
       "6  5.7          3.8         1.7          0.3         setosa \n",
       "7  5.4          3.4         1.7          0.2         setosa \n",
       "8  5.4          3.4         1.5          0.4         setosa \n",
       "9  5.5          4.2         1.4          0.2         setosa \n",
       "10 5.5          3.5         1.3          0.2         setosa \n",
       "11 5.3          3.7         1.5          0.2         setosa "
      ]
     },
     "metadata": {},
     "output_type": "display_data"
    }
   ],
   "source": [
    "## lectura desde un archivo csv\n",
    "sqlquery = 'select * from iris where species = \"setosa\" and \"Sepal.Length\" > 5.2' \n",
    "read.csv.sql(file='files/iris.csv', \n",
    "             sql = sqlquery)"
   ]
  }
 ],
 "metadata": {
  "kernelspec": {
   "display_name": "R",
   "language": "R",
   "name": "ir"
  },
  "language_info": {
   "codemirror_mode": "r",
   "file_extension": ".r",
   "mimetype": "text/x-r-source",
   "name": "R",
   "pygments_lexer": "r",
   "version": "3.4.4"
  }
 },
 "nbformat": 4,
 "nbformat_minor": 2
}
