{
 "cells": [
  {
   "cell_type": "markdown",
   "id": "2593f7a3-17e8-49d2-9135-34e8cabae640",
   "metadata": {
    "slideshow": {
     "slide_type": "slide"
    },
    "tags": []
   },
   "source": [
    "Librería circlify\n",
    "===\n",
    "\n",
    "* 3:00 min | Última modificación: Abril 5, 2021 | [YouTube]"
   ]
  },
  {
   "cell_type": "code",
   "execution_count": 1,
   "id": "62479e10-8459-4b5f-b56a-11ac9a155ef5",
   "metadata": {},
   "outputs": [
    {
     "name": "stdout",
     "output_type": "stream",
     "text": [
      "\u001b[33mWARNING: Running pip as the 'root' user can result in broken permissions and conflicting behaviour with the system package manager. It is recommended to use a virtual environment instead: https://pip.pypa.io/warnings/venv\u001b[0m\n"
     ]
    }
   ],
   "source": [
    "!pip3 install --quiet circlify"
   ]
  },
  {
   "cell_type": "code",
   "execution_count": 2,
   "id": "98032e5b-6e8e-48e0-b596-8c8ca6cd852d",
   "metadata": {},
   "outputs": [
    {
     "data": {
      "image/png": "[encoded data removed]",
      "text/plain": [
       "<Figure size 432x288 with 1 Axes>"
      ]
     },
     "metadata": {
      "needs_background": "light"
     },
     "output_type": "display_data"
    }
   ],
   "source": [
    "import pandas as pd\n",
    "import circlify\n",
    "import matplotlib.pyplot as plt\n",
    "\n",
    "df = pd.DataFrame({\n",
    "    'Name': ['A', 'B', 'C', 'D', 'E', 'F'],\n",
    "    'Value': [10, 2, 23, 87, 12, 65]\n",
    "})\n",
    "\n",
    "circles = circlify.circlify(\n",
    "    df['Value'].tolist(), \n",
    "    show_enclosure=False, \n",
    "    target_enclosure=circlify.Circle(x=0, y=0, r=1)\n",
    ")\n",
    "\n",
    "plt.gca().axis('off')\n",
    "\n",
    "lim = max(\n",
    "    max(\n",
    "        abs(circle.x) + circle.r,\n",
    "        abs(circle.y) + circle.r,\n",
    "    )\n",
    "    for circle in circles\n",
    ")\n",
    "plt.xlim(-lim, lim)\n",
    "plt.ylim(-lim, lim)\n",
    "\n",
    "\n",
    "\n",
    "\n",
    "for circle, label in zip(circles, df.Name):\n",
    "    x, y, r = circle\n",
    "    plt.gca().add_patch(plt.Circle((x, y), r, alpha=0.2, linewidth=2))\n",
    "    plt.annotate(\n",
    "          label, \n",
    "          (x,y ) ,\n",
    "          va='center',\n",
    "          ha='center'\n",
    "     )\n",
    "    \n",
    "plt.axis('equal')\n",
    "\n",
    "plt.show()"
   ]
  }
 ],
 "metadata": {
  "kernelspec": {
   "display_name": "Python 3",
   "language": "python",
   "name": "python3"
  },
  "language_info": {
   "codemirror_mode": {
    "name": "ipython",
    "version": 3
   },
   "file_extension": ".py",
   "mimetype": "text/x-python",
   "name": "python",
   "nbconvert_exporter": "python",
   "pygments_lexer": "ipython3",
   "version": "3.6.9"
  }
 },
 "nbformat": 4,
 "nbformat_minor": 5
}
