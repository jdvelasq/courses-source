{
 "cells": [
  {
   "cell_type": "markdown",
   "id": "7043444b-b664-4162-a9d3-896404ab10bd",
   "metadata": {
    "tags": []
   },
   "source": [
    "Treemap --- muy corto revizar\n",
    "===\n",
    "\n",
    "* *3:00 min* | Última modificación: Septiembre 1, 2021 | [YouTube]"
   ]
  },
  {
   "cell_type": "markdown",
   "id": "621bee6e-480b-4bf4-aa72-19c7bd1147ea",
   "metadata": {
    "tags": []
   },
   "source": [
    "En este tutorial se presentan varios ejemplos de visualización de relaciones con diagramas de dispersión."
   ]
  },
  {
   "cell_type": "code",
   "execution_count": 8,
   "id": "4cf2d56c-9f02-482c-9157-0e8a08f88f3e",
   "metadata": {},
   "outputs": [
    {
     "name": "stdout",
     "output_type": "stream",
     "text": [
      "\u001b[33mWARNING: Running pip as the 'root' user can result in broken permissions and conflicting behaviour with the system package manager. It is recommended to use a virtual environment instead: https://pip.pypa.io/warnings/venv\u001b[0m\n"
     ]
    }
   ],
   "source": [
    "!pip3 install --quiet squarify"
   ]
  },
  {
   "cell_type": "code",
   "execution_count": 11,
   "id": "950f387c-c96c-4a56-aca1-ab63e2df911c",
   "metadata": {},
   "outputs": [
    {
     "data": {
      "text/plain": [
       "(0.0, 100.0, 0.0, 100.0)"
      ]
     },
     "execution_count": 11,
     "metadata": {},
     "output_type": "execute_result"
    },
    {
     "data": {
      "image/png": "[encoded data removed]",
      "text/plain": [
       "<Figure size 432x288 with 1 Axes>"
      ]
     },
     "metadata": {
      "needs_background": "light"
     },
     "output_type": "display_data"
    }
   ],
   "source": [
    "import squarify\n",
    "\n",
    "data = [10, 12, 23, 54, 36]\n",
    "labels = list(\"ABCDE\")\n",
    "\n",
    "squarify.plot(\n",
    "    sizes=data,\n",
    "    label=labels,\n",
    "    color='green,grey,blue,red,purple'.split(','),\n",
    "    alpha=0.5,\n",
    ")\n",
    "plt.axis(\"off\")"
   ]
  }
 ],
 "metadata": {
  "kernelspec": {
   "display_name": "Python 3",
   "language": "python",
   "name": "python3"
  },
  "language_info": {
   "codemirror_mode": {
    "name": "ipython",
    "version": 3
   },
   "file_extension": ".py",
   "mimetype": "text/x-python",
   "name": "python",
   "nbconvert_exporter": "python",
   "pygments_lexer": "ipython3",
   "version": "3.6.9"
  }
 },
 "nbformat": 4,
 "nbformat_minor": 5
}
