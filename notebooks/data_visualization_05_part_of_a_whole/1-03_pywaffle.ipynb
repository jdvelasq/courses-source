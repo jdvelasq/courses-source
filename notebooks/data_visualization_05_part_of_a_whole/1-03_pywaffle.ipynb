{
 "cells": [
  {
   "cell_type": "markdown",
   "id": "582d4fda-2978-45b6-b788-76d4deb49442",
   "metadata": {
    "slideshow": {
     "slide_type": "slide"
    },
    "tags": []
   },
   "source": [
    "Librería pywaffle\n",
    "===\n",
    "\n",
    "* 3:00 min | Última modificación: Abril 5, 2021 | [YouTube]"
   ]
  },
  {
   "cell_type": "code",
   "execution_count": 5,
   "id": "799163f7-05ff-40e7-bc82-6faace0a9c18",
   "metadata": {},
   "outputs": [
    {
     "name": "stdout",
     "output_type": "stream",
     "text": [
      "\u001b[33mWARNING: Running pip as the 'root' user can result in broken permissions and conflicting behaviour with the system package manager. It is recommended to use a virtual environment instead: https://pip.pypa.io/warnings/venv\u001b[0m\n"
     ]
    }
   ],
   "source": [
    "!pip3 install --quiet pywaffle"
   ]
  },
  {
   "cell_type": "code",
   "execution_count": 7,
   "id": "8e3c88c4-bfa7-4646-96f0-056d8434a138",
   "metadata": {},
   "outputs": [
    {
     "data": {
      "image/png": "[encoded data removed]",
      "text/plain": [
       "<Waffle size 432x288 with 1 Axes>"
      ]
     },
     "metadata": {
      "needs_background": "light"
     },
     "output_type": "display_data"
    }
   ],
   "source": [
    "from pywaffle import Waffle\n",
    "\n",
    "data = {'A': 17, 'B': 16, 'C': 6, 'D': 7, 'E': 5}\n",
    "\n",
    "fig = plt.figure(\n",
    "    FigureClass=Waffle,\n",
    "    rows=6,\n",
    "    values=data,\n",
    "    colors=('blue', 'red', 'green', 'gray', 'yellow'), \n",
    "    title=dict(label='Titulo', loc='left'),\n",
    "    labels=[\"{} ({})\".format(k, v) for k, v in data.items()],\n",
    "    legend=dict(loc='lower left', bbox_to_anchor=(0, -0.4), ncol=len(data), framealpha=0)\n",
    ")"
   ]
  }
 ],
 "metadata": {
  "kernelspec": {
   "display_name": "Python 3",
   "language": "python",
   "name": "python3"
  },
  "language_info": {
   "codemirror_mode": {
    "name": "ipython",
    "version": 3
   },
   "file_extension": ".py",
   "mimetype": "text/x-python",
   "name": "python",
   "nbconvert_exporter": "python",
   "pygments_lexer": "ipython3",
   "version": "3.6.9"
  }
 },
 "nbformat": 4,
 "nbformat_minor": 5
}
