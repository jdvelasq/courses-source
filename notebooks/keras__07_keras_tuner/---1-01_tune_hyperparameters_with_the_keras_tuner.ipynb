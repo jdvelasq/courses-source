{
 "cells": [
  {
   "cell_type": "markdown",
   "id": "62b638fd-9523-49dc-934d-ae3d55ac1d15",
   "metadata": {
    "tags": []
   },
   "source": [
    "Afinamiento de parámetros con Keras Tuner --- 0:00 min\n",
    "===\n",
    "\n",
    "* Última modificación: Marzo 7, 2022 | YouTube"
   ]
  },
  {
   "cell_type": "markdown",
   "id": "9ed463ff-61ed-4d6e-a762-f92cbe352614",
   "metadata": {
    "tags": []
   },
   "source": [
    "Importación de librerías\n",
    "---"
   ]
  },
  {
   "cell_type": "code",
   "execution_count": 1,
   "id": "7db2d9b9-6454-4086-8276-1db3e82481eb",
   "metadata": {},
   "outputs": [],
   "source": [
    "import os\n",
    "\n",
    "os.environ[\"TF_CPP_MIN_LOG_LEVEL\"] = \"2\"\n",
    "\n",
    "import tensorflow as tf"
   ]
  },
  {
   "cell_type": "markdown",
   "id": "bc6b2d39-8515-4c78-80ac-44741fcc6b8e",
   "metadata": {},
   "source": [
    "Preparación del dataset\n",
    "--"
   ]
  },
  {
   "cell_type": "code",
   "execution_count": 4,
   "id": "034e8e15-a5d0-4659-b878-cd404af66457",
   "metadata": {},
   "outputs": [],
   "source": [
    "(img_train, label_train), (\n",
    "    img_test,\n",
    "    label_test,\n",
    ") = tf.keras.datasets.fashion_mnist.load_data()"
   ]
  },
  {
   "cell_type": "code",
   "execution_count": 5,
   "id": "2c53ab48-5ba7-47c5-b304-4d26339bdca5",
   "metadata": {},
   "outputs": [],
   "source": [
    "img_train = img_train.astype(\"float32\") / 255.0\n",
    "img_test = img_test.astype(\"float32\") / 255.0"
   ]
  },
  {
   "cell_type": "markdown",
   "id": "9eadef7b-cbef-4e14-9825-a06d8dc00573",
   "metadata": {},
   "source": [
    "Definición del modelo\n",
    "---"
   ]
  },
  {
   "cell_type": "code",
   "execution_count": 12,
   "id": "2cd5348f-809a-411c-8e1a-885add62842d",
   "metadata": {},
   "outputs": [],
   "source": [
    "def model_builder(hp):\n",
    "\n",
    "    model = tf.keras.Sequential()\n",
    "    model.add(tf.keras.layers.Flatten(input_shape=(28, 28)))\n",
    "\n",
    "    hp_units = hp.Int(\n",
    "        \"units\",\n",
    "        min_value=32,\n",
    "        max_value=512,\n",
    "        step=32,\n",
    "    )\n",
    "\n",
    "    model.add(tf.keras.layers.Dense(units=hp_units, activation=\"relu\"))\n",
    "    model.add(tf.keras.layers.Dense(10))\n",
    "\n",
    "    hp_learning_rate = hp.Choice(\n",
    "        \"learning_rate\",\n",
    "        values=[\n",
    "            1e-2,\n",
    "            1e-3,\n",
    "            1e-4,\n",
    "        ],\n",
    "    )\n",
    "\n",
    "    model.compile(\n",
    "        optimizer=tf.keras.optimizers.Adam(\n",
    "            learning_rate=hp_learning_rate,\n",
    "        ),\n",
    "        loss=tf.keras.losses.SparseCategoricalCrossentropy(\n",
    "            from_logits=True,\n",
    "        ),\n",
    "        metrics=[\"accuracy\"],\n",
    "    )\n",
    "\n",
    "    return model"
   ]
  },
  {
   "cell_type": "markdown",
   "id": "58dfe41a-b975-4338-8edc-d9046175ad33",
   "metadata": {},
   "source": [
    "Uso\n",
    "--"
   ]
  },
  {
   "cell_type": "code",
   "execution_count": 13,
   "id": "be3d4448-236e-4d5c-80e5-a60c8d1dbe56",
   "metadata": {},
   "outputs": [],
   "source": [
    "import keras_tuner as kt\n",
    "\n",
    "tuner = kt.Hyperband(\n",
    "    model_builder,\n",
    "    objective=\"val_accuracy\",\n",
    "    max_epochs=10,\n",
    "    factor=3,\n",
    "    directory=\"/tmp/my_dir\",\n",
    "    project_name=\"intro_to_kt\",\n",
    ")"
   ]
  },
  {
   "cell_type": "code",
   "execution_count": 14,
   "id": "7517a025-c7dc-4628-bbff-1058231c319a",
   "metadata": {},
   "outputs": [],
   "source": [
    "stop_early = tf.keras.callbacks.EarlyStopping(\n",
    "    monitor=\"val_loss\",\n",
    "    patience=5,\n",
    ")"
   ]
  },
  {
   "cell_type": "code",
   "execution_count": 15,
   "id": "4f38791a-1e34-460d-b211-b437c1da1a72",
   "metadata": {},
   "outputs": [
    {
     "name": "stdout",
     "output_type": "stream",
     "text": [
      "Trial 30 Complete [00h 00m 51s]\n",
      "val_accuracy: 0.8809166550636292\n",
      "\n",
      "Best val_accuracy So Far: 0.8892499804496765\n",
      "Total elapsed time: 00h 09m 01s\n",
      "INFO:tensorflow:Oracle triggered exit\n",
      "\n",
      "The hyperparameter search is complete. The optimal number of units in the first densely-connected\n",
      "layer is 320 and the optimal learning rate for the optimizer\n",
      "is 0.001.\n",
      "\n"
     ]
    }
   ],
   "source": [
    "tuner.search(\n",
    "    img_train,\n",
    "    label_train,\n",
    "    epochs=50,\n",
    "    validation_split=0.2,\n",
    "    callbacks=[\n",
    "        stop_early,\n",
    "    ],\n",
    ")\n",
    "\n",
    "best_hps = tuner.get_best_hyperparameters(num_trials=1)[0]\n",
    "\n",
    "print(\n",
    "    f\"\"\"\n",
    "The hyperparameter search is complete. The optimal number of units in the first densely-connected\n",
    "layer is {best_hps.get('units')} and the optimal learning rate for the optimizer\n",
    "is {best_hps.get('learning_rate')}.\n",
    "\"\"\"\n",
    ")"
   ]
  },
  {
   "cell_type": "markdown",
   "id": "70ccb8e9-d2f8-4033-a596-5c777d737092",
   "metadata": {},
   "source": [
    "Entrenamiento del modelo\n",
    "---"
   ]
  },
  {
   "cell_type": "code",
   "execution_count": 16,
   "id": "eaf490d3-3e7f-4da7-8d62-5fb56ac3c630",
   "metadata": {},
   "outputs": [
    {
     "name": "stdout",
     "output_type": "stream",
     "text": [
      "Epoch 1/50\n",
      "1500/1500 [==============================] - 6s 3ms/step - loss: 0.4979 - accuracy: 0.8216 - val_loss: 0.4029 - val_accuracy: 0.8551\n",
      "Epoch 2/50\n",
      "1500/1500 [==============================] - 5s 3ms/step - loss: 0.3743 - accuracy: 0.8642 - val_loss: 0.3566 - val_accuracy: 0.8702\n",
      "Epoch 3/50\n",
      "1500/1500 [==============================] - 5s 3ms/step - loss: 0.3334 - accuracy: 0.8772 - val_loss: 0.3902 - val_accuracy: 0.8612\n",
      "Epoch 4/50\n",
      "1500/1500 [==============================] - 5s 3ms/step - loss: 0.3082 - accuracy: 0.8868 - val_loss: 0.3343 - val_accuracy: 0.8817\n",
      "Epoch 5/50\n",
      "1500/1500 [==============================] - 5s 3ms/step - loss: 0.2867 - accuracy: 0.8939 - val_loss: 0.3279 - val_accuracy: 0.8799\n",
      "Epoch 6/50\n",
      "1500/1500 [==============================] - 5s 3ms/step - loss: 0.2730 - accuracy: 0.8966 - val_loss: 0.3187 - val_accuracy: 0.8862\n",
      "Epoch 7/50\n",
      "1500/1500 [==============================] - 5s 3ms/step - loss: 0.2602 - accuracy: 0.9019 - val_loss: 0.3247 - val_accuracy: 0.8854\n",
      "Epoch 8/50\n",
      "1500/1500 [==============================] - 5s 3ms/step - loss: 0.2464 - accuracy: 0.9069 - val_loss: 0.3063 - val_accuracy: 0.8912\n",
      "Epoch 9/50\n",
      "1500/1500 [==============================] - 5s 3ms/step - loss: 0.2379 - accuracy: 0.9111 - val_loss: 0.3128 - val_accuracy: 0.8887\n",
      "Epoch 10/50\n",
      "1500/1500 [==============================] - 5s 3ms/step - loss: 0.2270 - accuracy: 0.9154 - val_loss: 0.3261 - val_accuracy: 0.8877\n",
      "Epoch 11/50\n",
      "1500/1500 [==============================] - 5s 3ms/step - loss: 0.2193 - accuracy: 0.9174 - val_loss: 0.3322 - val_accuracy: 0.8838\n",
      "Epoch 12/50\n",
      "1500/1500 [==============================] - 5s 3ms/step - loss: 0.2078 - accuracy: 0.9219 - val_loss: 0.3179 - val_accuracy: 0.8911\n",
      "Epoch 13/50\n",
      "1500/1500 [==============================] - 5s 3ms/step - loss: 0.2026 - accuracy: 0.9238 - val_loss: 0.3201 - val_accuracy: 0.8889\n",
      "Epoch 14/50\n",
      "1500/1500 [==============================] - 5s 3ms/step - loss: 0.1962 - accuracy: 0.9256 - val_loss: 0.3255 - val_accuracy: 0.8873\n",
      "Epoch 15/50\n",
      "1500/1500 [==============================] - 5s 3ms/step - loss: 0.1859 - accuracy: 0.9302 - val_loss: 0.3263 - val_accuracy: 0.8930\n",
      "Epoch 16/50\n",
      "1500/1500 [==============================] - 5s 3ms/step - loss: 0.1814 - accuracy: 0.9311 - val_loss: 0.3269 - val_accuracy: 0.8903\n",
      "Epoch 17/50\n",
      "1500/1500 [==============================] - 5s 3ms/step - loss: 0.1747 - accuracy: 0.9348 - val_loss: 0.3435 - val_accuracy: 0.8907\n",
      "Epoch 18/50\n",
      "1500/1500 [==============================] - 5s 3ms/step - loss: 0.1688 - accuracy: 0.9355 - val_loss: 0.3430 - val_accuracy: 0.8928\n",
      "Epoch 19/50\n",
      "1500/1500 [==============================] - 5s 3ms/step - loss: 0.1642 - accuracy: 0.9388 - val_loss: 0.3529 - val_accuracy: 0.8886\n",
      "Epoch 20/50\n",
      "1500/1500 [==============================] - 5s 3ms/step - loss: 0.1607 - accuracy: 0.9392 - val_loss: 0.3424 - val_accuracy: 0.8955\n",
      "Epoch 21/50\n",
      "1500/1500 [==============================] - 5s 3ms/step - loss: 0.1521 - accuracy: 0.9434 - val_loss: 0.3685 - val_accuracy: 0.8881\n",
      "Epoch 22/50\n",
      "1500/1500 [==============================] - 5s 3ms/step - loss: 0.1501 - accuracy: 0.9431 - val_loss: 0.3867 - val_accuracy: 0.8916\n",
      "Epoch 23/50\n",
      "1500/1500 [==============================] - 5s 3ms/step - loss: 0.1460 - accuracy: 0.9440 - val_loss: 0.3721 - val_accuracy: 0.8919\n",
      "Epoch 24/50\n",
      "1500/1500 [==============================] - 5s 3ms/step - loss: 0.1409 - accuracy: 0.9468 - val_loss: 0.3650 - val_accuracy: 0.8946\n",
      "Epoch 25/50\n",
      "1500/1500 [==============================] - 5s 3ms/step - loss: 0.1360 - accuracy: 0.9486 - val_loss: 0.3973 - val_accuracy: 0.8871\n",
      "Epoch 26/50\n",
      "1500/1500 [==============================] - 5s 3ms/step - loss: 0.1344 - accuracy: 0.9500 - val_loss: 0.3832 - val_accuracy: 0.8916\n",
      "Epoch 27/50\n",
      "1500/1500 [==============================] - 5s 3ms/step - loss: 0.1304 - accuracy: 0.9514 - val_loss: 0.4131 - val_accuracy: 0.8838\n",
      "Epoch 28/50\n",
      "1500/1500 [==============================] - 5s 4ms/step - loss: 0.1290 - accuracy: 0.9510 - val_loss: 0.3928 - val_accuracy: 0.8963\n",
      "Epoch 29/50\n",
      "1500/1500 [==============================] - 5s 3ms/step - loss: 0.1237 - accuracy: 0.9540 - val_loss: 0.3970 - val_accuracy: 0.8942\n",
      "Epoch 30/50\n",
      "1500/1500 [==============================] - 6s 4ms/step - loss: 0.1210 - accuracy: 0.9562 - val_loss: 0.4118 - val_accuracy: 0.8914\n",
      "Epoch 31/50\n",
      "1500/1500 [==============================] - 10s 6ms/step - loss: 0.1196 - accuracy: 0.9550 - val_loss: 0.4039 - val_accuracy: 0.8935\n",
      "Epoch 32/50\n",
      "1500/1500 [==============================] - 7s 5ms/step - loss: 0.1137 - accuracy: 0.9566 - val_loss: 0.4275 - val_accuracy: 0.8943\n",
      "Epoch 33/50\n",
      "1500/1500 [==============================] - 6s 4ms/step - loss: 0.1111 - accuracy: 0.9587 - val_loss: 0.4097 - val_accuracy: 0.8946\n",
      "Epoch 34/50\n",
      "1500/1500 [==============================] - 6s 4ms/step - loss: 0.1090 - accuracy: 0.9587 - val_loss: 0.4175 - val_accuracy: 0.8963\n",
      "Epoch 35/50\n",
      "1500/1500 [==============================] - 6s 4ms/step - loss: 0.1057 - accuracy: 0.9606 - val_loss: 0.4377 - val_accuracy: 0.8957\n",
      "Epoch 36/50\n",
      "1500/1500 [==============================] - 6s 4ms/step - loss: 0.1068 - accuracy: 0.9603 - val_loss: 0.4488 - val_accuracy: 0.8915\n",
      "Epoch 37/50\n",
      "1500/1500 [==============================] - 5s 3ms/step - loss: 0.1000 - accuracy: 0.9626 - val_loss: 0.4602 - val_accuracy: 0.8923\n",
      "Epoch 38/50\n",
      "1500/1500 [==============================] - 5s 3ms/step - loss: 0.0997 - accuracy: 0.9623 - val_loss: 0.4492 - val_accuracy: 0.8958\n",
      "Epoch 39/50\n",
      "1500/1500 [==============================] - 5s 3ms/step - loss: 0.0980 - accuracy: 0.9632 - val_loss: 0.4777 - val_accuracy: 0.8947\n",
      "Epoch 40/50\n",
      "1500/1500 [==============================] - 5s 4ms/step - loss: 0.0939 - accuracy: 0.9651 - val_loss: 0.4682 - val_accuracy: 0.8958\n",
      "Epoch 41/50\n",
      "1500/1500 [==============================] - 6s 4ms/step - loss: 0.0931 - accuracy: 0.9652 - val_loss: 0.4720 - val_accuracy: 0.8939\n",
      "Epoch 42/50\n",
      "1500/1500 [==============================] - 5s 3ms/step - loss: 0.0912 - accuracy: 0.9657 - val_loss: 0.4782 - val_accuracy: 0.8947\n",
      "Epoch 43/50\n",
      "1500/1500 [==============================] - 5s 4ms/step - loss: 0.0901 - accuracy: 0.9654 - val_loss: 0.4829 - val_accuracy: 0.8911\n",
      "Epoch 44/50\n",
      "1500/1500 [==============================] - 5s 3ms/step - loss: 0.0865 - accuracy: 0.9680 - val_loss: 0.4896 - val_accuracy: 0.8936\n",
      "Epoch 45/50\n",
      "1500/1500 [==============================] - 6s 4ms/step - loss: 0.0876 - accuracy: 0.9676 - val_loss: 0.5062 - val_accuracy: 0.8927\n",
      "Epoch 46/50\n",
      "1500/1500 [==============================] - 5s 4ms/step - loss: 0.0846 - accuracy: 0.9687 - val_loss: 0.5229 - val_accuracy: 0.8895\n",
      "Epoch 47/50\n",
      "1500/1500 [==============================] - 5s 4ms/step - loss: 0.0810 - accuracy: 0.9706 - val_loss: 0.5840 - val_accuracy: 0.8753\n",
      "Epoch 48/50\n",
      "1500/1500 [==============================] - 5s 4ms/step - loss: 0.0816 - accuracy: 0.9695 - val_loss: 0.4995 - val_accuracy: 0.8963\n",
      "Epoch 49/50\n",
      "1500/1500 [==============================] - 5s 4ms/step - loss: 0.0768 - accuracy: 0.9711 - val_loss: 0.5423 - val_accuracy: 0.8927\n",
      "Epoch 50/50\n",
      "1500/1500 [==============================] - 5s 4ms/step - loss: 0.0791 - accuracy: 0.9704 - val_loss: 0.5545 - val_accuracy: 0.8898\n",
      "Best epoch: 48\n"
     ]
    }
   ],
   "source": [
    "model = tuner.hypermodel.build(best_hps)\n",
    "\n",
    "history = model.fit(\n",
    "    img_train,\n",
    "    label_train,\n",
    "    epochs=50,\n",
    "    validation_split=0.2,\n",
    ")\n",
    "\n",
    "val_acc_per_epoch = history.history[\"val_accuracy\"]\n",
    "best_epoch = val_acc_per_epoch.index(max(val_acc_per_epoch)) + 1\n",
    "print(\"Best epoch: %d\" % (best_epoch,))"
   ]
  },
  {
   "cell_type": "code",
   "execution_count": 17,
   "id": "4b88c234-6738-4570-8a90-350d99930c23",
   "metadata": {},
   "outputs": [
    {
     "name": "stdout",
     "output_type": "stream",
     "text": [
      "Epoch 1/48\n",
      "1500/1500 [==============================] - 6s 3ms/step - loss: 0.5022 - accuracy: 0.8236 - val_loss: 0.4057 - val_accuracy: 0.8521\n",
      "Epoch 2/48\n",
      "1500/1500 [==============================] - 5s 4ms/step - loss: 0.3715 - accuracy: 0.8640 - val_loss: 0.3625 - val_accuracy: 0.8698\n",
      "Epoch 3/48\n",
      "1500/1500 [==============================] - 5s 3ms/step - loss: 0.3353 - accuracy: 0.8764 - val_loss: 0.3375 - val_accuracy: 0.8752\n",
      "Epoch 4/48\n",
      "1500/1500 [==============================] - 5s 4ms/step - loss: 0.3066 - accuracy: 0.8873 - val_loss: 0.3449 - val_accuracy: 0.8766\n",
      "Epoch 5/48\n",
      "1500/1500 [==============================] - 5s 4ms/step - loss: 0.2885 - accuracy: 0.8919 - val_loss: 0.3469 - val_accuracy: 0.8770\n",
      "Epoch 6/48\n",
      "1500/1500 [==============================] - 5s 4ms/step - loss: 0.2720 - accuracy: 0.8980 - val_loss: 0.3300 - val_accuracy: 0.8823\n",
      "Epoch 7/48\n",
      "1500/1500 [==============================] - 5s 4ms/step - loss: 0.2621 - accuracy: 0.9020 - val_loss: 0.3190 - val_accuracy: 0.8856\n",
      "Epoch 8/48\n",
      "1500/1500 [==============================] - 5s 4ms/step - loss: 0.2466 - accuracy: 0.9080 - val_loss: 0.3120 - val_accuracy: 0.8900\n",
      "Epoch 9/48\n",
      "1500/1500 [==============================] - 5s 4ms/step - loss: 0.2363 - accuracy: 0.9114 - val_loss: 0.3174 - val_accuracy: 0.8877\n",
      "Epoch 10/48\n",
      "1500/1500 [==============================] - 5s 4ms/step - loss: 0.2285 - accuracy: 0.9131 - val_loss: 0.3318 - val_accuracy: 0.8848\n",
      "Epoch 11/48\n",
      "1500/1500 [==============================] - 5s 3ms/step - loss: 0.2165 - accuracy: 0.9176 - val_loss: 0.3207 - val_accuracy: 0.8866\n",
      "Epoch 12/48\n",
      "1500/1500 [==============================] - 5s 4ms/step - loss: 0.2120 - accuracy: 0.9212 - val_loss: 0.3189 - val_accuracy: 0.8914\n",
      "Epoch 13/48\n",
      "1500/1500 [==============================] - 5s 4ms/step - loss: 0.2015 - accuracy: 0.9238 - val_loss: 0.3265 - val_accuracy: 0.8909\n",
      "Epoch 14/48\n",
      "1500/1500 [==============================] - 5s 3ms/step - loss: 0.1967 - accuracy: 0.9257 - val_loss: 0.3182 - val_accuracy: 0.8936\n",
      "Epoch 15/48\n",
      "1500/1500 [==============================] - 5s 3ms/step - loss: 0.1882 - accuracy: 0.9293 - val_loss: 0.3594 - val_accuracy: 0.8844\n",
      "Epoch 16/48\n",
      "1500/1500 [==============================] - 5s 3ms/step - loss: 0.1823 - accuracy: 0.9318 - val_loss: 0.3393 - val_accuracy: 0.8882\n",
      "Epoch 17/48\n",
      "1500/1500 [==============================] - 5s 3ms/step - loss: 0.1759 - accuracy: 0.9333 - val_loss: 0.3676 - val_accuracy: 0.8804\n",
      "Epoch 18/48\n",
      "1500/1500 [==============================] - 5s 3ms/step - loss: 0.1711 - accuracy: 0.9360 - val_loss: 0.3422 - val_accuracy: 0.8940\n",
      "Epoch 19/48\n",
      "1500/1500 [==============================] - 5s 3ms/step - loss: 0.1630 - accuracy: 0.9391 - val_loss: 0.3463 - val_accuracy: 0.8928\n",
      "Epoch 20/48\n",
      "1500/1500 [==============================] - 5s 3ms/step - loss: 0.1589 - accuracy: 0.9402 - val_loss: 0.3466 - val_accuracy: 0.8907\n",
      "Epoch 21/48\n",
      "1500/1500 [==============================] - 6s 4ms/step - loss: 0.1548 - accuracy: 0.9405 - val_loss: 0.3526 - val_accuracy: 0.8957\n",
      "Epoch 22/48\n",
      "1500/1500 [==============================] - 5s 3ms/step - loss: 0.1501 - accuracy: 0.9427 - val_loss: 0.3614 - val_accuracy: 0.8894\n",
      "Epoch 23/48\n",
      "1500/1500 [==============================] - 5s 3ms/step - loss: 0.1445 - accuracy: 0.9467 - val_loss: 0.3629 - val_accuracy: 0.8917\n",
      "Epoch 24/48\n",
      "1500/1500 [==============================] - 5s 3ms/step - loss: 0.1411 - accuracy: 0.9476 - val_loss: 0.3779 - val_accuracy: 0.8917\n",
      "Epoch 25/48\n",
      "1500/1500 [==============================] - 5s 3ms/step - loss: 0.1361 - accuracy: 0.9482 - val_loss: 0.3739 - val_accuracy: 0.8940\n",
      "Epoch 26/48\n",
      "1500/1500 [==============================] - 5s 3ms/step - loss: 0.1342 - accuracy: 0.9487 - val_loss: 0.3732 - val_accuracy: 0.8948\n",
      "Epoch 27/48\n",
      "1500/1500 [==============================] - 7s 5ms/step - loss: 0.1310 - accuracy: 0.9512 - val_loss: 0.4001 - val_accuracy: 0.8910\n",
      "Epoch 28/48\n",
      "1500/1500 [==============================] - 7s 4ms/step - loss: 0.1257 - accuracy: 0.9535 - val_loss: 0.3891 - val_accuracy: 0.8945\n",
      "Epoch 29/48\n",
      "1500/1500 [==============================] - 7s 5ms/step - loss: 0.1199 - accuracy: 0.9561 - val_loss: 0.3839 - val_accuracy: 0.8942\n",
      "Epoch 30/48\n",
      "1500/1500 [==============================] - 7s 5ms/step - loss: 0.1172 - accuracy: 0.9558 - val_loss: 0.4007 - val_accuracy: 0.8941\n",
      "Epoch 31/48\n",
      "1500/1500 [==============================] - 6s 4ms/step - loss: 0.1175 - accuracy: 0.9558 - val_loss: 0.4268 - val_accuracy: 0.8891\n",
      "Epoch 32/48\n",
      "1500/1500 [==============================] - 6s 4ms/step - loss: 0.1116 - accuracy: 0.9580 - val_loss: 0.4094 - val_accuracy: 0.8913\n",
      "Epoch 33/48\n",
      "1500/1500 [==============================] - 7s 5ms/step - loss: 0.1100 - accuracy: 0.9585 - val_loss: 0.4145 - val_accuracy: 0.8953\n",
      "Epoch 34/48\n",
      "1500/1500 [==============================] - 6s 4ms/step - loss: 0.1040 - accuracy: 0.9605 - val_loss: 0.4566 - val_accuracy: 0.8863\n",
      "Epoch 35/48\n",
      "1500/1500 [==============================] - 6s 4ms/step - loss: 0.1072 - accuracy: 0.9592 - val_loss: 0.4438 - val_accuracy: 0.8908\n",
      "Epoch 36/48\n",
      "1500/1500 [==============================] - 6s 4ms/step - loss: 0.0990 - accuracy: 0.9631 - val_loss: 0.4647 - val_accuracy: 0.8882\n",
      "Epoch 37/48\n",
      "1500/1500 [==============================] - 5s 4ms/step - loss: 0.1007 - accuracy: 0.9629 - val_loss: 0.4486 - val_accuracy: 0.8932\n",
      "Epoch 38/48\n",
      "1500/1500 [==============================] - 5s 4ms/step - loss: 0.0959 - accuracy: 0.9634 - val_loss: 0.4618 - val_accuracy: 0.8932\n",
      "Epoch 39/48\n",
      "1500/1500 [==============================] - 5s 4ms/step - loss: 0.0938 - accuracy: 0.9645 - val_loss: 0.4439 - val_accuracy: 0.8952\n",
      "Epoch 40/48\n",
      "1500/1500 [==============================] - 5s 4ms/step - loss: 0.0930 - accuracy: 0.9654 - val_loss: 0.4425 - val_accuracy: 0.8978\n",
      "Epoch 41/48\n",
      "1500/1500 [==============================] - 5s 4ms/step - loss: 0.0900 - accuracy: 0.9665 - val_loss: 0.4703 - val_accuracy: 0.8948\n",
      "Epoch 42/48\n",
      "1500/1500 [==============================] - 5s 4ms/step - loss: 0.0890 - accuracy: 0.9670 - val_loss: 0.5293 - val_accuracy: 0.8844\n",
      "Epoch 43/48\n",
      "1500/1500 [==============================] - 5s 4ms/step - loss: 0.0881 - accuracy: 0.9669 - val_loss: 0.4678 - val_accuracy: 0.8943\n",
      "Epoch 44/48\n",
      "1500/1500 [==============================] - 5s 3ms/step - loss: 0.0818 - accuracy: 0.9683 - val_loss: 0.4859 - val_accuracy: 0.8924\n",
      "Epoch 45/48\n",
      "1500/1500 [==============================] - 6s 4ms/step - loss: 0.0858 - accuracy: 0.9677 - val_loss: 0.4978 - val_accuracy: 0.8872\n",
      "Epoch 46/48\n",
      "1500/1500 [==============================] - 6s 4ms/step - loss: 0.0788 - accuracy: 0.9698 - val_loss: 0.5196 - val_accuracy: 0.8953\n",
      "Epoch 47/48\n",
      "1500/1500 [==============================] - 5s 4ms/step - loss: 0.0798 - accuracy: 0.9697 - val_loss: 0.5005 - val_accuracy: 0.8960\n",
      "Epoch 48/48\n",
      "1500/1500 [==============================] - 5s 4ms/step - loss: 0.0761 - accuracy: 0.9717 - val_loss: 0.5244 - val_accuracy: 0.8873\n"
     ]
    },
    {
     "data": {
      "text/plain": [
       "<keras.callbacks.History at 0x7fc57eec9dc0>"
      ]
     },
     "execution_count": 17,
     "metadata": {},
     "output_type": "execute_result"
    }
   ],
   "source": [
    "hypermodel = tuner.hypermodel.build(best_hps)\n",
    "\n",
    "hypermodel.fit(\n",
    "    img_train,\n",
    "    label_train,\n",
    "    epochs=best_epoch,\n",
    "    validation_split=0.2,\n",
    ")"
   ]
  },
  {
   "cell_type": "code",
   "execution_count": 18,
   "id": "1ee6286e-ef80-4cc3-886a-7ccc67d29c46",
   "metadata": {},
   "outputs": [
    {
     "name": "stdout",
     "output_type": "stream",
     "text": [
      "313/313 [==============================] - 1s 3ms/step - loss: 0.5936 - accuracy: 0.8819\n",
      "[test loss, test accuracy]: [0.5936309099197388, 0.8819000124931335]\n"
     ]
    }
   ],
   "source": [
    "eval_result = hypermodel.evaluate(\n",
    "    img_test,\n",
    "    label_test,\n",
    ")\n",
    "print(\"[test loss, test accuracy]:\", eval_result)"
   ]
  }
 ],
 "metadata": {
  "kernelspec": {
   "display_name": "Python 3 (ipykernel)",
   "language": "python",
   "name": "python3"
  },
  "language_info": {
   "codemirror_mode": {
    "name": "ipython",
    "version": 3
   },
   "file_extension": ".py",
   "mimetype": "text/x-python",
   "name": "python",
   "nbconvert_exporter": "python",
   "pygments_lexer": "ipython3",
   "version": "3.9.10"
  }
 },
 "nbformat": 4,
 "nbformat_minor": 5
}
