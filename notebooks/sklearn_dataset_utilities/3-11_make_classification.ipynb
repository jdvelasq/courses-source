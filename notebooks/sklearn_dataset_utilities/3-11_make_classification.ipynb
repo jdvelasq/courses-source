{
 "cells": [
  {
   "cell_type": "markdown",
   "id": "fcb528d3-f5d7-416e-b4f6-6dc69b9f7637",
   "metadata": {
    "tags": []
   },
   "source": [
    "make_classification ---\n",
    "===\n",
    "\n",
    "* 0:00 min | Ultima modificación: Septiembre 27, 2021 | [YouTube]"
   ]
  },
  {
   "cell_type": "markdown",
   "id": "87568e42-4b5b-4135-b305-b3fb5af4b2c0",
   "metadata": {},
   "source": [
    "https://scikit-learn.org/stable/modules/generated/sklearn.datasets.make_classification.html#sklearn.datasets.make_classification"
   ]
  },
  {
   "cell_type": "markdown",
   "id": "b5118611-37ba-45dd-b7fa-0ab34f56e1ae",
   "metadata": {},
   "source": [
    "Generate a random n-class classification problem."
   ]
  },
  {
   "cell_type": "code",
   "execution_count": 14,
   "id": "0b143722-97bd-420c-bff0-1185f77ffd9b",
   "metadata": {},
   "outputs": [
    {
     "data": {
      "image/png": "[encoded data removed]",
      "text/plain": [
       "<Figure size 576x576 with 1 Axes>"
      ]
     },
     "metadata": {
      "needs_background": "light"
     },
     "output_type": "display_data"
    }
   ],
   "source": [
    "import matplotlib.pyplot as plt\n",
    "from sklearn.datasets import make_classification\n",
    "\n",
    "X, y = make_classification(\n",
    "    # -------------------------------------------------------------------------\n",
    "    # The number of samples.\n",
    "    n_samples=100,\n",
    "    # ---------------------------------------------------------------\n",
    "    # The total number of features. These comprise n_informative\n",
    "    # informative features, n_redundant redundant features,\n",
    "    # n_repeated duplicated features and\n",
    "    # n_features-n_informative-n_redundant-n_repeated useless\n",
    "    # features drawn at random.\n",
    "    n_features=2,\n",
    "    # ---------------------------------------------------------------\n",
    "    # The number of informative features.\n",
    "    n_informative=2,\n",
    "    # ---------------------------------------------------------------\n",
    "    # The number of redundant features.\n",
    "    n_redundant=0,\n",
    "    # ---------------------------------------------------------------\n",
    "    # The number of duplicated features, drawn randomly from the\n",
    "    # informative and the redundant features.\n",
    "    n_repeated=0,\n",
    "    # ---------------------------------------------------------------\n",
    "    # The number of classes (or labels) of the classification problem\n",
    "    n_classes=2,\n",
    "    # ---------------------------------------------------------------\n",
    "    # The number of clusters per class.\n",
    "    n_clusters_per_class=1,\n",
    "    # ---------------------------------------------------------------\n",
    "    # The factor multiplying the hypercube size. Larger values spread\n",
    "    # out the clusters/classes and make the classification task\n",
    "    # easier.\n",
    "    class_sep=1.5,\n",
    "    # -----------------------------------------------------\n",
    "    # Shuffle the samples.\n",
    "    shuffle=False,\n",
    "    # -----------------------------------------------------\n",
    "    # Determines random number generation for dataset\n",
    "    # creation.\n",
    "    random_state=12346,\n",
    ")\n",
    "\n",
    "\n",
    "plt.figure(figsize=(8, 8))\n",
    "plt.scatter(\n",
    "    X[y == 0, 0],\n",
    "    X[y == 0, 1],\n",
    "    color=\"tab:red\",\n",
    "    edgecolors=\"k\",\n",
    "    s=120,\n",
    "    alpha=0.9,\n",
    ")\n",
    "plt.scatter(\n",
    "    X[y == 1, 0],\n",
    "    X[y == 1, 1],\n",
    "    color=\"tab:blue\",\n",
    "    edgecolors=\"k\",\n",
    "    s=120,\n",
    "    alpha=0.9,\n",
    ")\n",
    "\n",
    "\n",
    "plt.gca().spines[\"left\"].set_color(\"gray\")\n",
    "plt.gca().spines[\"bottom\"].set_color(\"gray\")\n",
    "plt.gca().spines[\"top\"].set_visible(False)\n",
    "plt.gca().spines[\"right\"].set_visible(False)"
   ]
  }
 ],
 "metadata": {
  "kernelspec": {
   "display_name": "Python 3",
   "language": "python",
   "name": "python3"
  },
  "language_info": {
   "codemirror_mode": {
    "name": "ipython",
    "version": 3
   },
   "file_extension": ".py",
   "mimetype": "text/x-python",
   "name": "python",
   "nbconvert_exporter": "python",
   "pygments_lexer": "ipython3",
   "version": "3.6.9"
  }
 },
 "nbformat": 4,
 "nbformat_minor": 5
}
