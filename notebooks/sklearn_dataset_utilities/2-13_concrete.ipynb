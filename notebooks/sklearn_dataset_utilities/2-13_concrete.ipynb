{
 "cells": [
  {
   "cell_type": "markdown",
   "id": "fcb528d3-f5d7-416e-b4f6-6dc69b9f7637",
   "metadata": {
    "tags": []
   },
   "source": [
    "Conjunto de datos de la resistencia del concreto --- 2:58\n",
    "===\n",
    "\n",
    "* 2:58 min | Ultima modificación: Septiembre 28, 2021 | [YouTube](https://youtu.be/70xTI6i5cAE)"
   ]
  },
  {
   "cell_type": "markdown",
   "id": "c34dfa8b-2cfc-4f2f-b0e7-19a28ad399c1",
   "metadata": {},
   "source": [
    "El concreto es uno de los materiales más usados en construcción. Es fabricado por la mezcla de varios elementos, la cual, al secarse, forma una masa dura muy resistente a la compresión. Uno de los principales problemas es que la mezcla puede demorarse varios meses en secar, y resulta particularmente importante el poder realizar pronósticos de la resistencia que alcanzará, tanto para fines de control como para verificar las restricciones de diseño."
   ]
  },
  {
   "cell_type": "markdown",
   "id": "fb3d1353-1538-4714-861a-c7eb1ca35de3",
   "metadata": {},
   "source": [
    "La muestra contiene 1030 mediciones de concretos con ocho características que decriben los componentes usados en la mezcla. "
   ]
  },
  {
   "cell_type": "markdown",
   "id": "6f598b39-3678-4388-a7b7-8b311a5211eb",
   "metadata": {},
   "source": [
    "Los atributos del conjunto de datos son los siguientes:"
   ]
  },
  {
   "cell_type": "markdown",
   "id": "c8e49435-9491-422f-9e6b-0ee8d5dbbda0",
   "metadata": {},
   "source": [
    "    Cement (component 1) [Cemento] – quantitative – kg in a m3 mixture\n",
    "\n",
    "    Bla st Furnace Slag [Ceniza] (component 2) – quantitative – kg in a m3 mixture\n",
    "\n",
    "    Fly Ash (component 3) [Ceniza] – quantitative – kg in a m3 mixture\n",
    "\n",
    "    Water (component 4) [Agua] – quantitative – kg in a m3 mixture\n",
    "\n",
    "    Superplasticizer (component 5) [Plastificador] – quantitative – kg in a m3 mixture\n",
    "\n",
    "    Coarse Aggregate (component 6) [Agregado grueso] – quantitative – kg in a m3 mixture\n",
    "\n",
    "    Fine Aggregate (component 7) [Agregado fino] – quantitative – kg in a m3 mixture\n",
    "\n",
    "    Age – quantitative – Day (1~365) [Edad]\n",
    "    \n",
    "  \n",
    "    Concrete compressive strength [Resistencia a la compresión] – quantitative – MPa"
   ]
  },
  {
   "cell_type": "code",
   "execution_count": 1,
   "id": "473e0444-404d-4804-8565-f9e455822a2a",
   "metadata": {},
   "outputs": [
    {
     "name": "stdout",
     "output_type": "stream",
     "text": [
      "<class 'pandas.core.frame.DataFrame'>\n",
      "RangeIndex: 1030 entries, 0 to 1029\n",
      "Data columns (total 9 columns):\n",
      " #   Column        Non-Null Count  Dtype  \n",
      "---  ------        --------------  -----  \n",
      " 0   cement        1030 non-null   float64\n",
      " 1   slag          1030 non-null   float64\n",
      " 2   ash           1030 non-null   float64\n",
      " 3   water         1030 non-null   float64\n",
      " 4   superplastic  1030 non-null   float64\n",
      " 5   coarseagg     1030 non-null   float64\n",
      " 6   fineagg       1030 non-null   float64\n",
      " 7   age           1030 non-null   int64  \n",
      " 8   strength      1030 non-null   float64\n",
      "dtypes: float64(8), int64(1)\n",
      "memory usage: 72.5 KB\n"
     ]
    }
   ],
   "source": [
    "import pandas as pd\n",
    "\n",
    "df = pd.read_csv(\n",
    "    \"https://raw.githubusercontent.com/jdvelasq/datalabs/master/datasets/concrete.csv\",\n",
    ")\n",
    "\n",
    "df.info()"
   ]
  },
  {
   "cell_type": "code",
   "execution_count": 2,
   "id": "a4da86eb-1f80-4e48-95cd-4f778fee1b15",
   "metadata": {},
   "outputs": [
    {
     "data": {
      "text/html": [
       "<div>\n",
       "<style scoped>\n",
       "    .dataframe tbody tr th:only-of-type {\n",
       "        vertical-align: middle;\n",
       "    }\n",
       "\n",
       "    .dataframe tbody tr th {\n",
       "        vertical-align: top;\n",
       "    }\n",
       "\n",
       "    .dataframe thead th {\n",
       "        text-align: right;\n",
       "    }\n",
       "</style>\n",
       "<table border=\"1\" class=\"dataframe\">\n",
       "  <thead>\n",
       "    <tr style=\"text-align: right;\">\n",
       "      <th></th>\n",
       "      <th>cement</th>\n",
       "      <th>slag</th>\n",
       "      <th>ash</th>\n",
       "      <th>water</th>\n",
       "      <th>superplastic</th>\n",
       "      <th>coarseagg</th>\n",
       "      <th>fineagg</th>\n",
       "      <th>age</th>\n",
       "      <th>strength</th>\n",
       "    </tr>\n",
       "  </thead>\n",
       "  <tbody>\n",
       "    <tr>\n",
       "      <th>0</th>\n",
       "      <td>540.0</td>\n",
       "      <td>0.0</td>\n",
       "      <td>0.0</td>\n",
       "      <td>162.0</td>\n",
       "      <td>2.5</td>\n",
       "      <td>1040.0</td>\n",
       "      <td>676.0</td>\n",
       "      <td>28</td>\n",
       "      <td>79.99</td>\n",
       "    </tr>\n",
       "    <tr>\n",
       "      <th>1</th>\n",
       "      <td>540.0</td>\n",
       "      <td>0.0</td>\n",
       "      <td>0.0</td>\n",
       "      <td>162.0</td>\n",
       "      <td>2.5</td>\n",
       "      <td>1055.0</td>\n",
       "      <td>676.0</td>\n",
       "      <td>28</td>\n",
       "      <td>61.89</td>\n",
       "    </tr>\n",
       "    <tr>\n",
       "      <th>2</th>\n",
       "      <td>332.5</td>\n",
       "      <td>142.5</td>\n",
       "      <td>0.0</td>\n",
       "      <td>228.0</td>\n",
       "      <td>0.0</td>\n",
       "      <td>932.0</td>\n",
       "      <td>594.0</td>\n",
       "      <td>270</td>\n",
       "      <td>40.27</td>\n",
       "    </tr>\n",
       "    <tr>\n",
       "      <th>3</th>\n",
       "      <td>332.5</td>\n",
       "      <td>142.5</td>\n",
       "      <td>0.0</td>\n",
       "      <td>228.0</td>\n",
       "      <td>0.0</td>\n",
       "      <td>932.0</td>\n",
       "      <td>594.0</td>\n",
       "      <td>365</td>\n",
       "      <td>41.05</td>\n",
       "    </tr>\n",
       "    <tr>\n",
       "      <th>4</th>\n",
       "      <td>198.6</td>\n",
       "      <td>132.4</td>\n",
       "      <td>0.0</td>\n",
       "      <td>192.0</td>\n",
       "      <td>0.0</td>\n",
       "      <td>978.4</td>\n",
       "      <td>825.5</td>\n",
       "      <td>360</td>\n",
       "      <td>44.30</td>\n",
       "    </tr>\n",
       "  </tbody>\n",
       "</table>\n",
       "</div>"
      ],
      "text/plain": [
       "   cement   slag  ash  water  superplastic  coarseagg  fineagg  age  strength\n",
       "0   540.0    0.0  0.0  162.0           2.5     1040.0    676.0   28     79.99\n",
       "1   540.0    0.0  0.0  162.0           2.5     1055.0    676.0   28     61.89\n",
       "2   332.5  142.5  0.0  228.0           0.0      932.0    594.0  270     40.27\n",
       "3   332.5  142.5  0.0  228.0           0.0      932.0    594.0  365     41.05\n",
       "4   198.6  132.4  0.0  192.0           0.0      978.4    825.5  360     44.30"
      ]
     },
     "execution_count": 2,
     "metadata": {},
     "output_type": "execute_result"
    }
   ],
   "source": [
    "df.head()"
   ]
  }
 ],
 "metadata": {
  "kernelspec": {
   "display_name": "Python 3",
   "language": "python",
   "name": "python3"
  },
  "language_info": {
   "codemirror_mode": {
    "name": "ipython",
    "version": 3
   },
   "file_extension": ".py",
   "mimetype": "text/x-python",
   "name": "python",
   "nbconvert_exporter": "python",
   "pygments_lexer": "ipython3",
   "version": "3.6.9"
  }
 },
 "nbformat": 4,
 "nbformat_minor": 5
}
