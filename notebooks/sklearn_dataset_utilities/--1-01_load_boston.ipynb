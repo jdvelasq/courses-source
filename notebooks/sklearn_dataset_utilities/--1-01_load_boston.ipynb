{
 "cells": [
  {
   "cell_type": "markdown",
   "id": "fcb528d3-f5d7-416e-b4f6-6dc69b9f7637",
   "metadata": {
    "tags": []
   },
   "source": [
    "Boston House Price\n",
    "===\n",
    "\n",
    "* 0:00 min | Ultima modificación: Septiembre 27, 2021 | [YouTube]"
   ]
  },
  {
   "cell_type": "markdown",
   "id": "33a3ca75-1426-43d8-b8f3-ffcc536a4003",
   "metadata": {},
   "source": [
    "https://archive.ics.uci.edu/ml/machine-learning-databases/housing/"
   ]
  },
  {
   "cell_type": "markdown",
   "id": "87568e42-4b5b-4135-b305-b3fb5af4b2c0",
   "metadata": {},
   "source": [
    "https://scikit-learn.org/stable/datasets/toy_dataset.html"
   ]
  },
  {
   "cell_type": "markdown",
   "id": "491e8ed3-8dfc-450e-ad22-1f19c088a081",
   "metadata": {},
   "source": [
    "    Number of Instances:\n",
    "      506\n",
    "        \n",
    "    Number of Attributes:\n",
    "      13 numeric/categorical predictive. Median Value (attribute 14) is usually the target.\n",
    "         \n",
    "    Codebook:\n",
    "    \n",
    "      CRIM\n",
    "      per capita crime rate by town\n",
    "            \n",
    "      ZN \n",
    "      proportion of residential land zoned for lots over 25,000 sq.ft.\n",
    "\n",
    "      INDUS \n",
    "      proportion of non-retail business acres per town\n",
    "\n",
    "      CHAS \n",
    "      Charles River dummy variable (= 1 if tract bounds river; 0 otherwise)\n",
    "        \n",
    "      NOX \n",
    "      nitric oxides concentration (parts per 10 million)\n",
    "        \n",
    "      RM \n",
    "      average number of rooms per dwelling\n",
    "\n",
    "      AGE \n",
    "      proportion of owner-occupied units built prior to 1940\n",
    "        \n",
    "      DIS \n",
    "      weighted distances to five Boston employment centres\n",
    "        \n",
    "      RAD \n",
    "      index of accessibility to radial highways\n",
    "        \n",
    "      TAX full-value property-tax rate per $10,000\n",
    "\n",
    "      PTRATIO\n",
    "      pupil-teacher ratio by town\n",
    "      \n",
    "      B \n",
    "      1000(Bk - 0.63)^2 where Bk is the proportion of black people by town\n",
    "\n",
    "      LSTAT \n",
    "      % lower status of the population\n",
    "\n",
    "      MEDV\n",
    "      Median value of owner-occupied homes in $1000’s "
   ]
  },
  {
   "cell_type": "code",
   "execution_count": null,
   "id": "8e4df90a-835d-4003-a890-a9b5981c4378",
   "metadata": {},
   "outputs": [],
   "source": [
    "from sklearn.datasets import load_boston"
   ]
  }
 ],
 "metadata": {
  "kernelspec": {
   "display_name": "Python 3",
   "language": "python",
   "name": "python3"
  },
  "language_info": {
   "codemirror_mode": {
    "name": "ipython",
    "version": 3
   },
   "file_extension": ".py",
   "mimetype": "text/x-python",
   "name": "python",
   "nbconvert_exporter": "python",
   "pygments_lexer": "ipython3",
   "version": "3.6.9"
  }
 },
 "nbformat": 4,
 "nbformat_minor": 5
}
