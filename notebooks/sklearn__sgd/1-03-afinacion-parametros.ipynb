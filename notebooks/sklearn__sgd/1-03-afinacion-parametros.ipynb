{
 "cells": [
  {
   "cell_type": "markdown",
   "metadata": {},
   "source": [
    "# Afinación de parámetros de modelos en sklearn"
   ]
  },
  {
   "cell_type": "markdown",
   "metadata": {},
   "source": [
    "* 13:55 min | Ultima modificación: Abril 13, 2021 | [YouTube](https://youtu.be/foFXzXz3GrM)"
   ]
  },
  {
   "cell_type": "markdown",
   "metadata": {},
   "source": [
    "Este tutorial demuestra como obtener la mejor combinación de hiperparámetros posibles de un modelo usando cross-validation."
   ]
  },
  {
   "cell_type": "markdown",
   "metadata": {},
   "source": [
    "## Carga de datos"
   ]
  },
  {
   "cell_type": "code",
   "execution_count": 1,
   "metadata": {},
   "outputs": [
    {
     "name": "stdout",
     "output_type": "stream",
     "text": [
      "(150, 4) (150,)\n"
     ]
    }
   ],
   "source": [
    "#\n",
    "# Carga de datos del dataset del iris\n",
    "#\n",
    "from sklearn import datasets\n",
    "\n",
    "data = datasets.load_iris()\n",
    "\n",
    "#\n",
    "# Carga de datos.\n",
    "#   Se verifica la cantidad de datos de la muestra\n",
    "#\n",
    "X, y = data.data, data.target\n",
    "print(X.shape, y.shape)"
   ]
  },
  {
   "cell_type": "markdown",
   "metadata": {},
   "source": [
    "## Partición de los datos"
   ]
  },
  {
   "cell_type": "code",
   "execution_count": 2,
   "metadata": {},
   "outputs": [],
   "source": [
    "from sklearn.model_selection import train_test_split\n",
    "\n",
    "X_train, X_test, y_train, y_test = train_test_split(\n",
    "    X,\n",
    "    y,\n",
    "    test_size=0.25,\n",
    "    random_state=33,\n",
    ")"
   ]
  },
  {
   "cell_type": "markdown",
   "metadata": {},
   "source": [
    "## Preprocesamiento"
   ]
  },
  {
   "cell_type": "code",
   "execution_count": 3,
   "metadata": {},
   "outputs": [],
   "source": [
    "from sklearn.preprocessing import StandardScaler\n",
    "\n",
    "scaler = StandardScaler()\n",
    "scaler.fit(X_train)\n",
    "X_train = scaler.transform(X_train)\n",
    "X_test = scaler.transform(X_test)"
   ]
  },
  {
   "cell_type": "markdown",
   "metadata": {},
   "source": [
    "## Creación de la malla de datos"
   ]
  },
  {
   "cell_type": "code",
   "execution_count": 4,
   "metadata": {},
   "outputs": [
    {
     "data": {
      "text/plain": [
       "GridSearchCV(cv=5, error_score=nan,\n",
       "             estimator=SGDClassifier(alpha=0.0001, average=False,\n",
       "                                     class_weight=None, early_stopping=False,\n",
       "                                     epsilon=0.1, eta0=0.0, fit_intercept=True,\n",
       "                                     l1_ratio=0.15, learning_rate='optimal',\n",
       "                                     loss='hinge', max_iter=1000,\n",
       "                                     n_iter_no_change=5, n_jobs=None,\n",
       "                                     penalty='l2', power_t=0.5,\n",
       "                                     random_state=None, shuffle=True, tol=0.001,\n",
       "                                     validation_fraction=0.1, verbose=0,\n",
       "                                     warm_start=False),\n",
       "             iid='deprecated', n_jobs=None,\n",
       "             param_grid=[{'penalty': ['none']},\n",
       "                         {'alpha': [1e-05, 2e-05, 3e-05], 'penalty': ['l2']},\n",
       "                         {'alpha': [1e-05, 2e-05, 3e-05],\n",
       "                          'l1_ratio': [0.1, 0.15, 0.2], 'penalty': ['l1']}],\n",
       "             pre_dispatch='2*n_jobs', refit=True, return_train_score=False,\n",
       "             scoring=None, verbose=0)"
      ]
     },
     "execution_count": 4,
     "metadata": {},
     "output_type": "execute_result"
    }
   ],
   "source": [
    "from sklearn.linear_model import SGDClassifier\n",
    "from sklearn.model_selection import GridSearchCV\n",
    "\n",
    "#\n",
    "# La variable tuned_parameters es una lista de diccionarios\n",
    "# que contiene los valores que pueden ajustarse\n",
    "#\n",
    "parameters = [\n",
    "    {\n",
    "        \"penalty\": [\"none\"],\n",
    "    },\n",
    "    {\n",
    "        \"penalty\": [\"l2\"],\n",
    "        \"alpha\": [0.00001, 0.00002, 0.00003],\n",
    "    },\n",
    "    {\n",
    "        \"penalty\": [\"l1\"],\n",
    "        \"alpha\": [\n",
    "            0.00001,\n",
    "            0.00002,\n",
    "            0.00003,\n",
    "        ],\n",
    "        \"l1_ratio\": [\n",
    "            0.10,\n",
    "            0.15,\n",
    "            0.20,\n",
    "        ],\n",
    "    },\n",
    "]\n",
    "\n",
    "#\n",
    "# Construye la malla de hiperparámetros\n",
    "#\n",
    "clf = GridSearchCV(\n",
    "    SGDClassifier(),\n",
    "    parameters,\n",
    "    cv=5,\n",
    ")\n",
    "\n",
    "#\n",
    "# Entrenamiento de todos los modelos y selección\n",
    "# de la combinación óptima de parámetros\n",
    "#\n",
    "clf.fit(X_train, y_train)"
   ]
  },
  {
   "cell_type": "code",
   "execution_count": 5,
   "metadata": {},
   "outputs": [
    {
     "data": {
      "text/plain": [
       "{'mean_fit_time': array([0.0018321 , 0.00170088, 0.00162401, 0.0016674 , 0.00169454,\n",
       "        0.00172825, 0.00167127, 0.0021934 , 0.0017415 , 0.00169277,\n",
       "        0.00167446, 0.00170364, 0.00171952]),\n",
       " 'std_fit_time': array([1.65729047e-04, 1.03737017e-04, 1.48077709e-05, 4.35040677e-05,\n",
       "        4.63601479e-05, 6.73538858e-05, 5.07237754e-05, 6.63819245e-04,\n",
       "        6.01385239e-05, 5.61071410e-05, 3.95434015e-05, 4.15509891e-05,\n",
       "        9.21261730e-05]),\n",
       " 'mean_score_time': array([0.00028291, 0.00024338, 0.00024557, 0.00025244, 0.000245  ,\n",
       "        0.00024853, 0.00025454, 0.00032063, 0.00023899, 0.00023942,\n",
       "        0.0002573 , 0.00024095, 0.0002521 ]),\n",
       " 'std_score_time': array([6.53669832e-05, 1.26189889e-05, 2.32425712e-05, 2.88860221e-05,\n",
       "        2.48507655e-05, 2.32130088e-05, 2.30009559e-05, 8.86982997e-05,\n",
       "        2.32095803e-05, 2.44284937e-05, 2.69315499e-05, 1.89722474e-05,\n",
       "        2.74347587e-05]),\n",
       " 'param_penalty': masked_array(data=['none', 'l2', 'l2', 'l2', 'l1', 'l1', 'l1', 'l1', 'l1',\n",
       "                    'l1', 'l1', 'l1', 'l1'],\n",
       "              mask=[False, False, False, False, False, False, False, False,\n",
       "                    False, False, False, False, False],\n",
       "        fill_value='?',\n",
       "             dtype=object),\n",
       " 'param_alpha': masked_array(data=[--, 1e-05, 2e-05, 3e-05, 1e-05, 1e-05, 1e-05, 2e-05,\n",
       "                    2e-05, 2e-05, 3e-05, 3e-05, 3e-05],\n",
       "              mask=[ True, False, False, False, False, False, False, False,\n",
       "                    False, False, False, False, False],\n",
       "        fill_value='?',\n",
       "             dtype=object),\n",
       " 'param_l1_ratio': masked_array(data=[--, --, --, --, 0.1, 0.15, 0.2, 0.1, 0.15, 0.2, 0.1,\n",
       "                    0.15, 0.2],\n",
       "              mask=[ True,  True,  True,  True, False, False, False, False,\n",
       "                    False, False, False, False, False],\n",
       "        fill_value='?',\n",
       "             dtype=object),\n",
       " 'params': [{'penalty': 'none'},\n",
       "  {'alpha': 1e-05, 'penalty': 'l2'},\n",
       "  {'alpha': 2e-05, 'penalty': 'l2'},\n",
       "  {'alpha': 3e-05, 'penalty': 'l2'},\n",
       "  {'alpha': 1e-05, 'l1_ratio': 0.1, 'penalty': 'l1'},\n",
       "  {'alpha': 1e-05, 'l1_ratio': 0.15, 'penalty': 'l1'},\n",
       "  {'alpha': 1e-05, 'l1_ratio': 0.2, 'penalty': 'l1'},\n",
       "  {'alpha': 2e-05, 'l1_ratio': 0.1, 'penalty': 'l1'},\n",
       "  {'alpha': 2e-05, 'l1_ratio': 0.15, 'penalty': 'l1'},\n",
       "  {'alpha': 2e-05, 'l1_ratio': 0.2, 'penalty': 'l1'},\n",
       "  {'alpha': 3e-05, 'l1_ratio': 0.1, 'penalty': 'l1'},\n",
       "  {'alpha': 3e-05, 'l1_ratio': 0.15, 'penalty': 'l1'},\n",
       "  {'alpha': 3e-05, 'l1_ratio': 0.2, 'penalty': 'l1'}],\n",
       " 'split0_test_score': array([0.91304348, 0.91304348, 0.82608696, 0.7826087 , 0.86956522,\n",
       "        0.86956522, 0.7826087 , 0.91304348, 0.82608696, 0.82608696,\n",
       "        0.82608696, 0.82608696, 0.86956522]),\n",
       " 'split1_test_score': array([0.95652174, 0.91304348, 0.86956522, 0.86956522, 0.7826087 ,\n",
       "        0.73913043, 0.91304348, 0.82608696, 0.95652174, 0.95652174,\n",
       "        0.91304348, 0.95652174, 0.91304348]),\n",
       " 'split2_test_score': array([1.        , 0.90909091, 1.        , 1.        , 0.95454545,\n",
       "        1.        , 1.        , 1.        , 1.        , 0.90909091,\n",
       "        0.86363636, 0.95454545, 1.        ]),\n",
       " 'split3_test_score': array([0.86363636, 0.86363636, 0.90909091, 0.90909091, 0.95454545,\n",
       "        0.63636364, 0.95454545, 0.90909091, 0.86363636, 0.90909091,\n",
       "        0.86363636, 0.86363636, 0.86363636]),\n",
       " 'split4_test_score': array([0.95454545, 0.86363636, 0.81818182, 0.81818182, 0.81818182,\n",
       "        0.95454545, 0.90909091, 0.95454545, 0.81818182, 0.95454545,\n",
       "        0.77272727, 0.68181818, 1.        ]),\n",
       " 'mean_test_score': array([0.93754941, 0.89249012, 0.88458498, 0.87588933, 0.87588933,\n",
       "        0.83992095, 0.91185771, 0.92055336, 0.89288538, 0.91106719,\n",
       "        0.84782609, 0.85652174, 0.92924901]),\n",
       " 'std_test_score': array([0.04607075, 0.02360316, 0.06629956, 0.07560057, 0.06992138,\n",
       "        0.13508306, 0.07253368, 0.05758284, 0.07269289, 0.04729889,\n",
       "        0.04661686, 0.10110082, 0.06023487]),\n",
       " 'rank_test_score': array([ 1,  7,  8,  9, 10, 13,  4,  3,  6,  5, 12, 11,  2], dtype=int32)}"
      ]
     },
     "execution_count": 5,
     "metadata": {},
     "output_type": "execute_result"
    }
   ],
   "source": [
    "#\n",
    "# Combinaciones usadas de hiperparámetros\n",
    "#\n",
    "clf.cv_results_"
   ]
  },
  {
   "cell_type": "code",
   "execution_count": 6,
   "metadata": {},
   "outputs": [
    {
     "data": {
      "text/plain": [
       "SGDClassifier(alpha=0.0001, average=False, class_weight=None,\n",
       "              early_stopping=False, epsilon=0.1, eta0=0.0, fit_intercept=True,\n",
       "              l1_ratio=0.15, learning_rate='optimal', loss='hinge',\n",
       "              max_iter=1000, n_iter_no_change=5, n_jobs=None, penalty='none',\n",
       "              power_t=0.5, random_state=None, shuffle=True, tol=0.001,\n",
       "              validation_fraction=0.1, verbose=0, warm_start=False)"
      ]
     },
     "execution_count": 6,
     "metadata": {},
     "output_type": "execute_result"
    }
   ],
   "source": [
    "#\n",
    "# Mejor modelo\n",
    "#\n",
    "clf.best_estimator_"
   ]
  },
  {
   "cell_type": "code",
   "execution_count": 7,
   "metadata": {},
   "outputs": [
    {
     "data": {
      "text/plain": [
       "array([[-18.66517354,  20.01738105, -17.2089447 , -14.52934805],\n",
       "       [ -5.0385267 ,  -5.6111228 ,  24.11005925, -11.94619494],\n",
       "       [ -4.8744768 ,  -5.31106858,  39.20509965,  38.72057005]])"
      ]
     },
     "execution_count": 7,
     "metadata": {},
     "output_type": "execute_result"
    }
   ],
   "source": [
    "#\n",
    "# Coeficientes del mejor modelo\n",
    "#\n",
    "clf.best_estimator_.coef_"
   ]
  },
  {
   "cell_type": "code",
   "execution_count": 8,
   "metadata": {},
   "outputs": [
    {
     "data": {
      "text/plain": [
       "array([-10.05881828,  -0.47915639, -58.09332929])"
      ]
     },
     "execution_count": 8,
     "metadata": {},
     "output_type": "execute_result"
    }
   ],
   "source": [
    "#\n",
    "# Interceptos del mejor modelo\n",
    "#\n",
    "clf.best_estimator_.intercept_"
   ]
  },
  {
   "cell_type": "markdown",
   "metadata": {},
   "source": [
    "## Precisión del modelo"
   ]
  },
  {
   "cell_type": "code",
   "execution_count": 9,
   "metadata": {},
   "outputs": [
    {
     "data": {
      "text/plain": [
       "0.9732142857142857"
      ]
     },
     "execution_count": 9,
     "metadata": {},
     "output_type": "execute_result"
    }
   ],
   "source": [
    "from sklearn import metrics\n",
    "\n",
    "#\n",
    "# Pronóstico para el conjunto de entrenamiento\n",
    "#\n",
    "y_train_pred = clf.predict(X_train)\n",
    "\n",
    "#  Precisión para el conjunto de entrenamiento\n",
    "metrics.accuracy_score(y_train, y_train_pred)"
   ]
  },
  {
   "cell_type": "code",
   "execution_count": 10,
   "metadata": {},
   "outputs": [
    {
     "data": {
      "text/plain": [
       "0.8947368421052632"
      ]
     },
     "execution_count": 10,
     "metadata": {},
     "output_type": "execute_result"
    }
   ],
   "source": [
    "# Precisión para el conjunto de prueba\n",
    "y_pred = clf.predict(X_test)\n",
    "metrics.accuracy_score(y_test, y_pred)"
   ]
  },
  {
   "cell_type": "markdown",
   "metadata": {},
   "source": [
    "## Reporte de clasificación"
   ]
  },
  {
   "cell_type": "code",
   "execution_count": 11,
   "metadata": {},
   "outputs": [
    {
     "name": "stdout",
     "output_type": "stream",
     "text": [
      "              precision    recall  f1-score   support\n",
      "\n",
      "      setosa       1.00      1.00      1.00         8\n",
      "  versicolor       0.73      1.00      0.85        11\n",
      "   virginica       1.00      0.79      0.88        19\n",
      "\n",
      "    accuracy                           0.89        38\n",
      "   macro avg       0.91      0.93      0.91        38\n",
      "weighted avg       0.92      0.89      0.90        38\n",
      "\n"
     ]
    }
   ],
   "source": [
    "#\n",
    "# Métricas de evaluación\n",
    "#\n",
    "print(\n",
    "    metrics.classification_report(\n",
    "        y_test,\n",
    "        y_pred,\n",
    "        target_names=data.target_names,\n",
    "    )\n",
    ")"
   ]
  },
  {
   "cell_type": "markdown",
   "metadata": {},
   "source": [
    "## Matriz de confusión"
   ]
  },
  {
   "cell_type": "code",
   "execution_count": 12,
   "metadata": {},
   "outputs": [
    {
     "data": {
      "text/plain": [
       "array([[ 8,  0,  0],\n",
       "       [ 0, 11,  0],\n",
       "       [ 0,  4, 15]])"
      ]
     },
     "execution_count": 12,
     "metadata": {},
     "output_type": "execute_result"
    }
   ],
   "source": [
    "metrics.confusion_matrix(y_test, y_pred)\n",
    "\n",
    "#\n",
    "# Note que en el ejemplo del tutorial anterior.\n",
    "#\n",
    "# array([[ 8,  0,  0],\n",
    "#        [ 5,  1,  5],\n",
    "#        [ 0,  0, 19]])\n",
    "#"
   ]
  },
  {
   "cell_type": "code",
   "execution_count": 13,
   "metadata": {},
   "outputs": [
    {
     "data": {
      "text/plain": [
       "<sklearn.metrics._plot.confusion_matrix.ConfusionMatrixDisplay at 0x7f284864ef28>"
      ]
     },
     "execution_count": 13,
     "metadata": {},
     "output_type": "execute_result"
    },
    {
     "data": {
      "image/png": "[encoded data removed]",
      "text/plain": [
       "<Figure size 432x288 with 2 Axes>"
      ]
     },
     "metadata": {
      "needs_background": "light"
     },
     "output_type": "display_data"
    }
   ],
   "source": [
    "from sklearn.metrics import plot_confusion_matrix\n",
    "\n",
    "#\n",
    "# Note que la función computa internamente\n",
    "# el pronósitco del clasificador\n",
    "#\n",
    "plot_confusion_matrix(\n",
    "    clf,     #  clasificador entrenado\n",
    "    X_test,  # matriz de variables de entrada\n",
    "    y_test,  #  valor real\n",
    ")  "
   ]
  }
 ],
 "metadata": {
  "kernel_info": {
   "name": "python3"
  },
  "kernelspec": {
   "display_name": "Python 3",
   "language": "python",
   "name": "python3"
  },
  "language_info": {
   "codemirror_mode": {
    "name": "ipython",
    "version": 3
   },
   "file_extension": ".py",
   "mimetype": "text/x-python",
   "name": "python",
   "nbconvert_exporter": "python",
   "pygments_lexer": "ipython3",
   "version": "3.6.9"
  },
  "nteract": {
   "version": "0.7.1"
  }
 },
 "nbformat": 4,
 "nbformat_minor": 4
}
