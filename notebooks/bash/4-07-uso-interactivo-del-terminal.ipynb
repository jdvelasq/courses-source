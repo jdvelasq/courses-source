{
 "cells": [
  {
   "cell_type": "markdown",
   "metadata": {},
   "source": [
    "Uso Interactivo del Terminal\n",
    "============================\n",
    "\n",
    "* *120 min* | Última modificación: Diciembre 17, 2019."
   ]
  },
  {
   "cell_type": "markdown",
   "metadata": {},
   "source": [
    "Impresión usando echo\n",
    "__"
   ]
  },
  {
   "cell_type": "markdown",
   "metadata": {
    "slideshow": {
     "slide_type": "subslide"
    }
   },
   "source": [
    "El comando `echo` permite imprimir cadenas de texto sin delimitador o delimitadas por comillas simples o dobles. Note que las comillas obligan a que se respete el espacio entre palabras."
   ]
  },
  {
   "cell_type": "code",
   "execution_count": 1,
   "metadata": {
    "slideshow": {
     "slide_type": "subslide"
    }
   },
   "outputs": [
    {
     "name": "stdout",
     "output_type": "stream",
     "text": [
      "hola mundo cruel\n"
     ]
    }
   ],
   "source": [
    "!echo hola     mundo    cruel # elimina los espacios en blanco entre las palabras"
   ]
  },
  {
   "cell_type": "code",
   "execution_count": 2,
   "metadata": {},
   "outputs": [
    {
     "name": "stdout",
     "output_type": "stream",
     "text": [
      "hola     mundo    cruel\n"
     ]
    }
   ],
   "source": [
    "!echo 'hola     mundo    cruel'"
   ]
  },
  {
   "cell_type": "code",
   "execution_count": 3,
   "metadata": {
    "scrolled": true
   },
   "outputs": [
    {
     "name": "stdout",
     "output_type": "stream",
     "text": [
      "hola     mundo    cruel\n"
     ]
    }
   ],
   "source": [
    "!echo \"hola     mundo    cruel\""
   ]
  },
  {
   "cell_type": "markdown",
   "metadata": {},
   "source": [
    "Para imprimir varias líneas de texto se puede usar un `echo` por línea:"
   ]
  },
  {
   "cell_type": "code",
   "execution_count": 4,
   "metadata": {
    "scrolled": true
   },
   "outputs": [
    {
     "name": "stdout",
     "output_type": "stream",
     "text": [
      "linea 1\n",
      "linea 2\n",
      "linea 3\n"
     ]
    }
   ],
   "source": [
    "%%sh\n",
    "echo linea 1\n",
    "echo linea 2\n",
    "echo linea 3"
   ]
  },
  {
   "cell_type": "markdown",
   "metadata": {},
   "source": [
    "pero en este caso es posible usar las comillas"
   ]
  },
  {
   "cell_type": "code",
   "execution_count": 5,
   "metadata": {
    "scrolled": true
   },
   "outputs": [
    {
     "name": "stdout",
     "output_type": "stream",
     "text": [
      "linea 1\n",
      "linea 2\n",
      "linea 3\n"
     ]
    }
   ],
   "source": [
    "%%sh\n",
    "echo 'linea 1\n",
    "linea 2\n",
    "linea 3' "
   ]
  },
  {
   "cell_type": "markdown",
   "metadata": {},
   "source": [
    "El operador `\\` se usa para indicar que la línea lógica continua en el siguiente renglón físico; en el siguiente ejemplo todos los textos se imprimen en la misma línea."
   ]
  },
  {
   "cell_type": "code",
   "execution_count": 6,
   "metadata": {
    "scrolled": true
   },
   "outputs": [
    {
     "name": "stdout",
     "output_type": "stream",
     "text": [
      "linea 1 linea 2 linea 3\n"
     ]
    }
   ],
   "source": [
    "%%sh\n",
    "echo linea 1 \\\n",
    "linea 2 \\\n",
    "linea 3"
   ]
  },
  {
   "cell_type": "markdown",
   "metadata": {},
   "source": [
    "`echo` también admite el uso de caracteres de escape (precedidos por `'\\'`); en el siguiente ejemplo se usa el carácter de retorno de carro `'\\n'` en la cadena de texto para indicar el inicio de una nueva línea. Se debe usar la opción '-e' del comando `echo` para convertir los caracteres `\\n` en retornos de carro."
   ]
  },
  {
   "cell_type": "code",
   "execution_count": 7,
   "metadata": {
    "scrolled": true
   },
   "outputs": [
    {
     "name": "stdout",
     "output_type": "stream",
     "text": [
      "-e linea 1\n",
      "linea 2\n",
      "linea 3\n"
     ]
    }
   ],
   "source": [
    "%%sh\n",
    "echo -e \"linea 1\\nlinea 2\\nlinea 3\""
   ]
  },
  {
   "cell_type": "markdown",
   "metadata": {},
   "source": [
    "Impresión de texto con formato usando printf\n",
    "--"
   ]
  },
  {
   "cell_type": "markdown",
   "metadata": {},
   "source": [
    "Bash también tiene el comando `printf`, el cual usa una sintaxis similar a la del lenguaje C: \n",
    "\n",
    "* `%s` indica cadena de caracteres.\n",
    "* `%f` indica un número en punto flotante.\n",
    "* `%g` indica un número entero.\n",
    "\n",
    "En los siguientes ejemplos se ilustra como se puede indicar el tamaño del campo. Note la alineación de la impresión. "
   ]
  },
  {
   "cell_type": "code",
   "execution_count": 8,
   "metadata": {
    "scrolled": true
   },
   "outputs": [
    {
     "name": "stdout",
     "output_type": "stream",
     "text": [
      "hola mundo ---- 1.234568"
     ]
    }
   ],
   "source": [
    "%%sh\n",
    "printf '%s ---- %f' 'hola mundo'  1.23456789"
   ]
  },
  {
   "cell_type": "code",
   "execution_count": 9,
   "metadata": {
    "scrolled": true
   },
   "outputs": [
    {
     "name": "stdout",
     "output_type": "stream",
     "text": [
      "           hola ---     1.23"
     ]
    }
   ],
   "source": [
    "%%sh\n",
    "printf '%15s --- %8.2f'  hola   1.23456789"
   ]
  },
  {
   "cell_type": "code",
   "execution_count": 10,
   "metadata": {
    "scrolled": true
   },
   "outputs": [
    {
     "name": "stdout",
     "output_type": "stream",
     "text": [
      "     hola mundo ---   123.46"
     ]
    }
   ],
   "source": [
    "%%sh\n",
    "printf '%15s --- %8.2f'  'hola mundo'   123.456789"
   ]
  },
  {
   "cell_type": "markdown",
   "metadata": {},
   "source": [
    "Impresión de secuencias usando seq\n",
    "--"
   ]
  },
  {
   "cell_type": "markdown",
   "metadata": {},
   "source": [
    "En vez de `echo` se puede usar `seq` para imprimir secuencias."
   ]
  },
  {
   "cell_type": "code",
   "execution_count": 11,
   "metadata": {
    "scrolled": true
   },
   "outputs": [
    {
     "name": "stdout",
     "output_type": "stream",
     "text": [
      "1\n",
      "2\n",
      "3\n",
      "4\n",
      "5\n"
     ]
    }
   ],
   "source": [
    "%%sh\n",
    "seq 5"
   ]
  },
  {
   "cell_type": "markdown",
   "metadata": {},
   "source": [
    "La opción `-f` permite especificar  formato para la secuencia, por ejemplo:"
   ]
  },
  {
   "cell_type": "code",
   "execution_count": 12,
   "metadata": {
    "scrolled": true
   },
   "outputs": [
    {
     "name": "stdout",
     "output_type": "stream",
     "text": [
      "linea 1\n",
      "linea 2\n",
      "linea 3\n",
      "linea 4\n",
      "linea 5\n"
     ]
    }
   ],
   "source": [
    "%%sh\n",
    "seq -f\"linea %g\" 5"
   ]
  },
  {
   "cell_type": "markdown",
   "metadata": {},
   "source": [
    "La opción `-s` permite indicar el separador."
   ]
  },
  {
   "cell_type": "code",
   "execution_count": 13,
   "metadata": {
    "scrolled": true
   },
   "outputs": [
    {
     "name": "stdout",
     "output_type": "stream",
     "text": [
      "2,4,6,8,10\n"
     ]
    }
   ],
   "source": [
    "%%sh\n",
    "seq -s, 2 2 10 # el separador es la coma"
   ]
  },
  {
   "cell_type": "markdown",
   "metadata": {},
   "source": [
    "La opción `-w` permite especificar formato."
   ]
  },
  {
   "cell_type": "code",
   "execution_count": 14,
   "metadata": {
    "scrolled": true
   },
   "outputs": [
    {
     "name": "stdout",
     "output_type": "stream",
     "text": [
      "0.00\n",
      "0.05\n",
      "0.10\n"
     ]
    }
   ],
   "source": [
    "%%sh\n",
    "seq 0 .05 .1 # valor inicial, incremento y valor final"
   ]
  },
  {
   "cell_type": "code",
   "execution_count": 15,
   "metadata": {
    "scrolled": true
   },
   "outputs": [
    {
     "name": "stdout",
     "output_type": "stream",
     "text": [
      "0.00\n",
      "0.05\n",
      "0.10\n"
     ]
    }
   ],
   "source": [
    "%%sh\n",
    "seq -w 0 .05 .1"
   ]
  },
  {
   "cell_type": "markdown",
   "metadata": {},
   "source": [
    "Redireccionamiento de la entrada, la salida y pipes \n",
    "--"
   ]
  },
  {
   "cell_type": "markdown",
   "metadata": {},
   "source": [
    "Entre las características más importantes para la transformación de datos sobresalen la posibilidad de redireccionar tanto la entrada como la salida, y el uso de tuberías para usar la salida de un comando como la entrada del siguiente. El direccionamiento de la salida por pantalla a un archivo se realiza usando el operador `>`. Si el archivo al que se direcciona no existe, lo crea; y si existe, lo sobrescribe. Para que la salida se agregue al contenido de un archivo existente se utiliza el operador `>>`."
   ]
  },
  {
   "cell_type": "markdown",
   "metadata": {},
   "source": [
    "En el siguiente ejemplo se imprime `hola mundo feliz` en el archivo `out.1`."
   ]
  },
  {
   "cell_type": "code",
   "execution_count": 16,
   "metadata": {},
   "outputs": [
    {
     "name": "stdout",
     "output_type": "stream",
     "text": [
      "hola mundo feliz\n"
     ]
    }
   ],
   "source": [
    "%%sh\n",
    "echo hola mundo feliz > out.1\n",
    "cat out.1"
   ]
  },
  {
   "cell_type": "markdown",
   "metadata": {},
   "source": [
    "Por otra parte, el operador `<` indica que la entrada al comando se hace desde un archivo. Más adelante se presentan muchos ejemplos sobre este operador."
   ]
  },
  {
   "cell_type": "markdown",
   "metadata": {},
   "source": [
    "Finalmente, es posible víncular dos o más comandos con `|`, tal que la salida del primero es la entrada del segundo. "
   ]
  },
  {
   "cell_type": "markdown",
   "metadata": {},
   "source": [
    "Visualización del contenido de un archivo con cat\n",
    "--"
   ]
  },
  {
   "cell_type": "markdown",
   "metadata": {},
   "source": [
    "El comando `cat`  *`nombrearchivo`* imprime en pantalla el contenido del archivo."
   ]
  },
  {
   "cell_type": "code",
   "execution_count": 17,
   "metadata": {
    "scrolled": true
   },
   "outputs": [
    {
     "name": "stdout",
     "output_type": "stream",
     "text": [
      "hola mundo feliz\n"
     ]
    }
   ],
   "source": [
    "%%sh\n",
    "echo hola mundo feliz > out.1\n",
    "cat out.1  # imprime el contenido de out.1"
   ]
  },
  {
   "cell_type": "code",
   "execution_count": 18,
   "metadata": {
    "scrolled": true
   },
   "outputs": [
    {
     "name": "stdout",
     "output_type": "stream",
     "text": [
      "hola mundo feliz\n",
      "otra vez hola mundo feliz\n"
     ]
    }
   ],
   "source": [
    "%%sh\n",
    "echo \"otra vez hola mundo feliz\" >> out.1 # agrega la nueva impresión al final de out.1\n",
    "cat out.1"
   ]
  },
  {
   "cell_type": "markdown",
   "metadata": {},
   "source": [
    "El comando `echo` sin argumentos permite crear un archivo vacío."
   ]
  },
  {
   "cell_type": "code",
   "execution_count": 19,
   "metadata": {
    "scrolled": true
   },
   "outputs": [
    {
     "name": "stdout",
     "output_type": "stream",
     "text": [
      "\n"
     ]
    }
   ],
   "source": [
    "%%sh\n",
    "echo > out.1\n",
    "cat out.1"
   ]
  },
  {
   "cell_type": "markdown",
   "metadata": {},
   "source": [
    "Suponga que se desea almacenar en un archivo el siguiente texto:\n",
    "\n",
    "     CustomerID, Customer\n",
    "        1, Customer A\n",
    "        2, Customer B\n",
    "\n",
    "Para ello, existen varias alternativas. La primera opción es:"
   ]
  },
  {
   "cell_type": "code",
   "execution_count": 20,
   "metadata": {},
   "outputs": [],
   "source": [
    "%%sh\n",
    "echo CustomerID, Customer > out.1\n",
    "echo    1, Customer A >> out.1\n",
    "echo    2, Customer B >> out.1"
   ]
  },
  {
   "cell_type": "markdown",
   "metadata": {},
   "source": [
    "La segunda opción es:"
   ]
  },
  {
   "cell_type": "code",
   "execution_count": 21,
   "metadata": {},
   "outputs": [],
   "source": [
    "%%sh\n",
    "echo \"CustomerID, Customer\n",
    "   1, Customer A\n",
    "   2, Customer B\" > out.1"
   ]
  },
  {
   "cell_type": "markdown",
   "metadata": {},
   "source": [
    "Pero existe una tercera opción, de uso muy generalizado, que es la siguiente:"
   ]
  },
  {
   "cell_type": "code",
   "execution_count": 22,
   "metadata": {
    "scrolled": true
   },
   "outputs": [],
   "source": [
    "%%sh\n",
    "cat > out.1 <<EOF\n",
    "CustomerID, Customer\n",
    "   1, Customer A\n",
    "   2, Customer B\n",
    "EOF"
   ]
  },
  {
   "cell_type": "code",
   "execution_count": 23,
   "metadata": {
    "scrolled": true
   },
   "outputs": [
    {
     "name": "stdout",
     "output_type": "stream",
     "text": [
      "CustomerID, Customer\n",
      "   1, Customer A\n",
      "   2, Customer B\n"
     ]
    }
   ],
   "source": [
    "!cat out.1"
   ]
  },
  {
   "cell_type": "markdown",
   "metadata": {},
   "source": [
    "El contenido del archivo se escribe directamente entre <<EOF y EOF.\n",
    "\n",
    "El principal uso de `cat` es la concatenación de archivos. En la siguiente porción de código se generan los archivos `out.1`, `out.2` y `out.3`, y luego se imprimen sus contenidos de forma concatenada."
   ]
  },
  {
   "cell_type": "code",
   "execution_count": 24,
   "metadata": {
    "scrolled": true
   },
   "outputs": [
    {
     "name": "stdout",
     "output_type": "stream",
     "text": [
      "linea 1\n",
      "linea 2\n",
      "linea 3\n",
      "linea 4\n",
      "linea 5\n",
      "linea 6\n",
      "linea 7\n",
      "linea 8\n",
      "linea 9\n"
     ]
    }
   ],
   "source": [
    "%%sh\n",
    "seq -f\"linea %g\" 1 1 3 > out.1\n",
    "seq -f\"linea %g\" 4 1 6 > out.2\n",
    "seq -f\"linea %g\" 7 1 9 > out.3\n",
    "cat out.1 out.2 out.3"
   ]
  },
  {
   "cell_type": "markdown",
   "metadata": {},
   "source": [
    "Una forma más compacta es usar la expresión `out.*`, la cual representa todos los archivos cuyos nombres empiezan por `out.`. De esta forma, el comando anterior se convierte en: "
   ]
  },
  {
   "cell_type": "code",
   "execution_count": 25,
   "metadata": {
    "scrolled": true
   },
   "outputs": [
    {
     "name": "stdout",
     "output_type": "stream",
     "text": [
      "linea 1\n",
      "linea 2\n",
      "linea 3\n",
      "linea 4\n",
      "linea 5\n",
      "linea 6\n",
      "linea 7\n",
      "linea 8\n",
      "linea 9\n"
     ]
    }
   ],
   "source": [
    "%%sh\n",
    "cat out.*"
   ]
  },
  {
   "cell_type": "markdown",
   "metadata": {},
   "source": [
    "Algunos sistemas incorporan el comando `tac` que imprime el contenido de un archivo empezando por la última línea."
   ]
  },
  {
   "cell_type": "markdown",
   "metadata": {},
   "source": [
    "Visualización del inicio de un archivo con head\n",
    "--"
   ]
  },
  {
   "cell_type": "markdown",
   "metadata": {},
   "source": [
    "El comando `head` se usa para visualizar la porción inicial del contenido de un archivo. `head` imprime por defecto las primeras 10 líneas. La cantidad de líneas visualizadas se puede modificar mediante la opción `-n`."
   ]
  },
  {
   "cell_type": "code",
   "execution_count": 26,
   "metadata": {},
   "outputs": [
    {
     "name": "stdout",
     "output_type": "stream",
     "text": [
      "linea 1\n",
      "linea 2\n",
      "linea 3\n"
     ]
    }
   ],
   "source": [
    "%%sh\n",
    "seq -f\"linea %g\" 100 > out.1 # se generan 100 líneas\n",
    "head -n 3 out.1"
   ]
  },
  {
   "cell_type": "markdown",
   "metadata": {},
   "source": [
    "Visualización del final de un archivo con tail\n",
    "--"
   ]
  },
  {
   "cell_type": "markdown",
   "metadata": {},
   "source": [
    "De forma similar al comando `head`, el comando `tail` permite visualizar las últimas líneas de un archivo."
   ]
  },
  {
   "cell_type": "code",
   "execution_count": 27,
   "metadata": {
    "scrolled": true
   },
   "outputs": [
    {
     "name": "stdout",
     "output_type": "stream",
     "text": [
      "linea 98\n",
      "linea 99\n",
      "linea 100\n"
     ]
    }
   ],
   "source": [
    "%%sh\n",
    "tail -n 3 out.1"
   ]
  },
  {
   "cell_type": "markdown",
   "metadata": {},
   "source": [
    "En el siguiente ejemplo, el argumento `+5` indica que se imprime desde la línea 5 hasta el final."
   ]
  },
  {
   "cell_type": "code",
   "execution_count": 28,
   "metadata": {
    "scrolled": true
   },
   "outputs": [
    {
     "name": "stdout",
     "output_type": "stream",
     "text": [
      "linea 5\n",
      "linea 6\n"
     ]
    }
   ],
   "source": [
    "%%sh\n",
    "seq -f'linea %g' 6 > out.1\n",
    "tail +5 out.1"
   ]
  },
  {
   "cell_type": "markdown",
   "metadata": {},
   "source": [
    "Se pueden escribir varios comandos en la misma línea separándolos por `;`."
   ]
  },
  {
   "cell_type": "code",
   "execution_count": 29,
   "metadata": {
    "scrolled": true
   },
   "outputs": [
    {
     "name": "stdout",
     "output_type": "stream",
     "text": [
      "1\n",
      "2\n",
      "3\n"
     ]
    }
   ],
   "source": [
    "%%sh\n",
    "echo 1; echo 2; echo 3"
   ]
  },
  {
   "cell_type": "markdown",
   "metadata": {},
   "source": [
    "Visualización del contenido de un archivo con more y less\n",
    "--"
   ]
  },
  {
   "cell_type": "markdown",
   "metadata": {},
   "source": [
    "Unix también proporciona los comandos `more` (versión más antigua) y `less` para la visualización del contenido de archivos. Simplemente digite `less` *`nombrearchivo`* para iniciar la visualización."
   ]
  },
  {
   "cell_type": "markdown",
   "metadata": {},
   "source": [
    "* Use la tecla `Space` para avanzar una página.\n",
    "* Use `Ctrl-F` (Forward) y `Ctrl-B`  (Backward) para avanzar o retroceder una página.\n",
    "* Use las teclas arriba y abajo para moverse una línea a la vez.\n",
    "* Digite el número de línea y `G` (go to) para ir a una línea determinada.\n",
    "* Digite `q` para salir de `less`"
   ]
  },
  {
   "cell_type": "markdown",
   "metadata": {},
   "source": [
    "Ordenación de un archivo con sort \n",
    "--"
   ]
  },
  {
   "cell_type": "markdown",
   "metadata": {},
   "source": [
    "El comando `sort` permite ordenar el contenido de un archivo. El ordanamiento se realiza con base en el contenido total de cada línea. En el siguiente ejemplo, el operador `'|'` pasa la salida de `cat` como entrada a `sort`. "
   ]
  },
  {
   "cell_type": "code",
   "execution_count": 30,
   "metadata": {
    "scrolled": true
   },
   "outputs": [
    {
     "name": "stdout",
     "output_type": "stream",
     "text": [
      "linea 1\n",
      "linea 1\n",
      "linea 1\n",
      "linea 2\n",
      "linea 2\n",
      "linea 2\n",
      "linea 3\n",
      "linea 3\n",
      "linea 3\n"
     ]
    }
   ],
   "source": [
    "%%sh\n",
    "seq -f'linea %g' 3 > out.1\n",
    "cat out.1 out.1 out.1 | sort"
   ]
  },
  {
   "cell_type": "markdown",
   "metadata": {},
   "source": [
    "Obtención de las líneas únicas de un archivo con uniq\n",
    "--"
   ]
  },
  {
   "cell_type": "markdown",
   "metadata": {},
   "source": [
    "El comando `uniq` permite obtener el contenido de un archivo eliminando las líneas repetidas. Observe que en los siguientes ejemplos solo se eliminan las líneas repetidas que son consecutivas."
   ]
  },
  {
   "cell_type": "code",
   "execution_count": 31,
   "metadata": {
    "scrolled": true
   },
   "outputs": [
    {
     "name": "stdout",
     "output_type": "stream",
     "text": [
      "linea 1\n",
      "linea 2\n",
      "linea 3\n",
      "linea 1\n",
      "linea 2\n",
      "linea 3\n",
      "linea 1\n",
      "linea 2\n",
      "linea 3\n",
      "linea 1\n",
      "linea 2\n",
      "linea 3\n"
     ]
    }
   ],
   "source": [
    "%%sh\n",
    "seq -f'linea %g' 3 > out.1 # genera el primer archivo de datos\n",
    "seq -f'linea %g' 3 > out.2 # genera el segundo archivo de datos\n",
    "cat out.1 out.2 out.1 out.2"
   ]
  },
  {
   "cell_type": "code",
   "execution_count": 32,
   "metadata": {
    "scrolled": true
   },
   "outputs": [
    {
     "name": "stdout",
     "output_type": "stream",
     "text": [
      "linea 1\n",
      "linea 2\n",
      "linea 3\n",
      "linea 1\n",
      "linea 2\n",
      "linea 3\n",
      "linea 1\n",
      "linea 2\n",
      "linea 3\n",
      "linea 1\n",
      "linea 2\n",
      "linea 3\n"
     ]
    }
   ],
   "source": [
    "%%sh\n",
    "cat out.1 out.2 out.1 out.2 |  uniq"
   ]
  },
  {
   "cell_type": "code",
   "execution_count": 33,
   "metadata": {
    "scrolled": true
   },
   "outputs": [
    {
     "name": "stdout",
     "output_type": "stream",
     "text": [
      "linea 1\n",
      "linea 2\n",
      "linea 3\n"
     ]
    }
   ],
   "source": [
    "%%sh\n",
    "cat out.1 out.2 out.1 out.2 | sort | uniq"
   ]
  },
  {
   "cell_type": "markdown",
   "metadata": {},
   "source": [
    "Conteo de la cantidad de líneas, palabras y caracteres de archivo usando wc\n",
    "--"
   ]
  },
  {
   "cell_type": "markdown",
   "metadata": {},
   "source": [
    "El comando `wc` permite contar líneas, palabras, caracteres y bytes de un archivo. La opción `-l` cuenta líneas,  `-m` caracteres y `-w` palabras."
   ]
  },
  {
   "cell_type": "code",
   "execution_count": 34,
   "metadata": {
    "scrolled": true
   },
   "outputs": [
    {
     "name": "stdout",
     "output_type": "stream",
     "text": [
      " 3 out.1\n",
      " 3 out.2\n",
      " 6 total\n"
     ]
    }
   ],
   "source": [
    "%%sh\n",
    "wc -l out.1 out.2 # número de líneas"
   ]
  },
  {
   "cell_type": "code",
   "execution_count": 35,
   "metadata": {
    "scrolled": true
   },
   "outputs": [
    {
     "name": "stdout",
     "output_type": "stream",
     "text": [
      "24 out.1\n",
      "24 out.2\n",
      "48 total\n"
     ]
    }
   ],
   "source": [
    "%%sh\n",
    "wc -m out.1 out.2 # número de caracteres"
   ]
  },
  {
   "cell_type": "code",
   "execution_count": 36,
   "metadata": {
    "scrolled": true
   },
   "outputs": [
    {
     "name": "stdout",
     "output_type": "stream",
     "text": [
      " 6 out.1\n",
      " 6 out.2\n",
      "12 total\n"
     ]
    }
   ],
   "source": [
    "%%sh\n",
    "wc -w out.1 out.2 # número de palabras"
   ]
  },
  {
   "cell_type": "code",
   "execution_count": 37,
   "metadata": {},
   "outputs": [
    {
     "name": "stdout",
     "output_type": "stream",
     "text": [
      " 3  6 24 out.1\n",
      " 3  6 24 out.2\n",
      " 6 12 48 total\n"
     ]
    }
   ],
   "source": [
    "%%sh\n",
    "wc out.1 out.2 "
   ]
  },
  {
   "cell_type": "markdown",
   "metadata": {},
   "source": [
    "Búsqueda de patrones con grep\n",
    "--"
   ]
  },
  {
   "cell_type": "markdown",
   "metadata": {},
   "source": [
    "El comando `grep` permite imprime las líneas del archivo que contiene una cadena de texto especificada. En los siguentes ejemplos se imprimen los números del 1 al 20 que contienen un `'1'`."
   ]
  },
  {
   "cell_type": "code",
   "execution_count": 38,
   "metadata": {
    "scrolled": true
   },
   "outputs": [
    {
     "name": "stdout",
     "output_type": "stream",
     "text": [
      "1\n",
      "10\n",
      "11\n",
      "12\n",
      "13\n",
      "14\n",
      "15\n",
      "16\n",
      "17\n",
      "18\n",
      "19\n"
     ]
    }
   ],
   "source": [
    "%%sh\n",
    "seq 20 | grep 1"
   ]
  },
  {
   "cell_type": "code",
   "execution_count": 39,
   "metadata": {
    "scrolled": true
   },
   "outputs": [
    {
     "name": "stdout",
     "output_type": "stream",
     "text": [
      "linea 1\n",
      "linea 10\n",
      "linea 11\n",
      "linea 12\n",
      "linea 13\n",
      "linea 14\n",
      "linea 15\n",
      "linea 16\n",
      "linea 17\n",
      "linea 18\n",
      "linea 19\n"
     ]
    }
   ],
   "source": [
    "%%sh\n",
    "seq -f'linea %g' 20 > out.1\n",
    "grep 1 out.1"
   ]
  },
  {
   "cell_type": "markdown",
   "metadata": {},
   "source": [
    "El símbolo `$` indica que la cadena de texto debe aparecer al final de la línea. El símbolo `^` indica que la cadena de texto debe aparecer al principio de la línea."
   ]
  },
  {
   "cell_type": "code",
   "execution_count": 40,
   "metadata": {
    "scrolled": true
   },
   "outputs": [
    {
     "name": "stdout",
     "output_type": "stream",
     "text": [
      "1\n",
      "11\n",
      "21\n",
      "31\n",
      "41\n",
      "51\n",
      "61\n",
      "71\n",
      "81\n",
      "91\n"
     ]
    }
   ],
   "source": [
    "%%sh\n",
    "seq 100 | grep 1$  # imprime los números del 1 al 100 que finalizan con 1."
   ]
  },
  {
   "cell_type": "code",
   "execution_count": 41,
   "metadata": {
    "scrolled": true
   },
   "outputs": [
    {
     "name": "stdout",
     "output_type": "stream",
     "text": [
      "1\n",
      "10\n",
      "11\n",
      "12\n",
      "13\n",
      "14\n",
      "15\n",
      "16\n",
      "17\n",
      "18\n",
      "19\n",
      "100\n"
     ]
    }
   ],
   "source": [
    "%%sh\n",
    "seq 100 | grep ^1  # imprime los números del 1 al 100 que empiezan con 1."
   ]
  },
  {
   "cell_type": "markdown",
   "metadata": {},
   "source": [
    "La combinación de los comandos anteriores permiten realizar operaciones complejas. En el siguiente ejemplo se obtiene la cantidad de números del 1 al 20 que contienen un `'1'`."
   ]
  },
  {
   "cell_type": "code",
   "execution_count": 42,
   "metadata": {},
   "outputs": [
    {
     "name": "stdout",
     "output_type": "stream",
     "text": [
      "11\n"
     ]
    }
   ],
   "source": [
    "%%sh\n",
    "seq 20 | grep 1 | wc -l"
   ]
  },
  {
   "cell_type": "markdown",
   "metadata": {},
   "source": [
    "Reemplazo de caracteres con tr\n",
    "--"
   ]
  },
  {
   "cell_type": "markdown",
   "metadata": {},
   "source": [
    "También existen comandos para manipular textos. El comando `tr` permite cambiar una cadena de texto por otra. "
   ]
  },
  {
   "cell_type": "code",
   "execution_count": 43,
   "metadata": {
    "scrolled": true
   },
   "outputs": [
    {
     "name": "stdout",
     "output_type": "stream",
     "text": [
      "hola mundo\n"
     ]
    }
   ],
   "source": [
    "%%sh\n",
    "echo 'h-o-l-a- -m-u-n-d-o' > out.1\n",
    "tr -d '-'  < out.1 # borra los caracteres '-'."
   ]
  },
  {
   "cell_type": "code",
   "execution_count": 44,
   "metadata": {
    "scrolled": true
   },
   "outputs": [
    {
     "name": "stdout",
     "output_type": "stream",
     "text": [
      "h=o=l=a= =m=u=n=d=o\n"
     ]
    }
   ],
   "source": [
    "%%sh\n",
    "echo 'h-o-l-a- -m-u-n-d-o' > out.1\n",
    "tr '-'  '=' < out.1  #  '-' por '='."
   ]
  },
  {
   "cell_type": "code",
   "execution_count": 45,
   "metadata": {
    "scrolled": true
   },
   "outputs": [
    {
     "name": "stdout",
     "output_type": "stream",
     "text": [
      "H-O-L-A- -M-U-N-D-O\n"
     ]
    }
   ],
   "source": [
    "%%sh\n",
    "echo 'h-o-l-a- -m-u-n-d-o' > out.1\n",
    "tr '[:lower:]'  '[:upper:]' < out.1  # minúsculas a mayúsculas."
   ]
  },
  {
   "cell_type": "markdown",
   "metadata": {},
   "source": [
    "**Ejercicio.--** Para el siguiente archivo, convierta únicamente la primera fila a minúsculas."
   ]
  },
  {
   "cell_type": "code",
   "execution_count": 46,
   "metadata": {},
   "outputs": [],
   "source": [
    "%%sh\n",
    "cat > out.1 <<EOF\n",
    "Date, Year, CustomerID, Value\n",
    "2013-01-12, 2013, 1, 100\n",
    "2014-05-12, 2014, 1, 100\n",
    "2013-02-25, 2013, 2, 200\n",
    "2013-04-04, 2013, 1, 100\n",
    "2013-06-21, 2013, 2, 200\n",
    "2014-05-12, 2014, 1, 100\n",
    "2014-05-12, 2014, 2, 200\n",
    "2013-02-28, 2013, 1, 100\n",
    "2013-08-02, 2013, 1, 100\n",
    "EOF"
   ]
  },
  {
   "cell_type": "markdown",
   "metadata": {},
   "source": [
    "Extracción de campos con cut\n",
    "--"
   ]
  },
  {
   "cell_type": "markdown",
   "metadata": {},
   "source": [
    "El comando `cut` permite extraer porciones de texto de un archivo. En la última línea del código presentada a continuación, se extraen las posiciones 3, 4, y 5 de cada línea de texto de un archivo, indicándolas como un rango (`3-5`). "
   ]
  },
  {
   "cell_type": "code",
   "execution_count": 47,
   "metadata": {
    "scrolled": true
   },
   "outputs": [
    {
     "name": "stdout",
     "output_type": "stream",
     "text": [
      "345\n",
      "cde\n",
      "lmn\n"
     ]
    }
   ],
   "source": [
    "%%sh\n",
    "echo \"123456790\n",
    "abcdefghi\n",
    "jklmnopqr\" > out.1\n",
    "cut -c3-5 out.1  "
   ]
  },
  {
   "cell_type": "markdown",
   "metadata": {},
   "source": [
    "Las columnas también pueden indicarse por posición:"
   ]
  },
  {
   "cell_type": "code",
   "execution_count": 48,
   "metadata": {},
   "outputs": [
    {
     "name": "stdout",
     "output_type": "stream",
     "text": [
      "345\n",
      "cde\n",
      "lmn\n"
     ]
    }
   ],
   "source": [
    "%%sh\n",
    "cut -c3,4,5 out.1 "
   ]
  },
  {
   "cell_type": "code",
   "execution_count": 49,
   "metadata": {
    "scrolled": true
   },
   "outputs": [
    {
     "name": "stdout",
     "output_type": "stream",
     "text": [
      "2567\n",
      "befg\n",
      "knop\n"
     ]
    }
   ],
   "source": [
    "%%sh\n",
    "# caracteres en las posiciones 2 y 5 a 7 de cada línea de un archivo.\n",
    "cut -c2,5-7 out.1 "
   ]
  },
  {
   "cell_type": "markdown",
   "metadata": {},
   "source": [
    "`cut` también permite manipular archivos delimitados. "
   ]
  },
  {
   "cell_type": "code",
   "execution_count": 50,
   "metadata": {
    "scrolled": true
   },
   "outputs": [],
   "source": [
    "%%sh\n",
    "cat > out.1 <<EOF\n",
    "FieldA, FieldD, FieldE\n",
    "   2, X, 2X\n",
    "   3, Y, 3Y\n",
    "   4, Z, 4Z \n",
    "EOF"
   ]
  },
  {
   "cell_type": "markdown",
   "metadata": {},
   "source": [
    "En el siguiente ejemplo se extrae la segunda columna (`-f2`); se indica que el archivo está delimitado por comas (`-d,`)."
   ]
  },
  {
   "cell_type": "code",
   "execution_count": 51,
   "metadata": {
    "scrolled": true
   },
   "outputs": [
    {
     "name": "stdout",
     "output_type": "stream",
     "text": [
      " FieldD\n",
      " X\n",
      " Y\n",
      " Z\n"
     ]
    }
   ],
   "source": [
    "%%sh\n",
    "cut -d, -f2 out.1   "
   ]
  },
  {
   "cell_type": "code",
   "execution_count": 52,
   "metadata": {
    "scrolled": true
   },
   "outputs": [
    {
     "name": "stdout",
     "output_type": "stream",
     "text": [
      "FieldA, FieldE\n",
      "   2, 2X\n",
      "   3, 3Y\n",
      "   4, 4Z \n"
     ]
    }
   ],
   "source": [
    "%%sh\n",
    "# este código extrae las columnas 1 y 3\n",
    "cut -d, -f1,3 out.1  "
   ]
  },
  {
   "cell_type": "markdown",
   "metadata": {},
   "source": [
    "Se puede usar cualquier caracter como delimitador. En el siguiente ejemplo se desean extraer los caracteres entre `'['` y `']'`."
   ]
  },
  {
   "cell_type": "code",
   "execution_count": 53,
   "metadata": {
    "scrolled": true
   },
   "outputs": [
    {
     "name": "stdout",
     "output_type": "stream",
     "text": [
      "--> [1] <--\n",
      "--> [2] <--\n",
      "--> [3] <--\n",
      "------> [1] <------\n",
      "------> [2] <------\n",
      "------> [3] <------\n"
     ]
    }
   ],
   "source": [
    "%%sh\n",
    "seq -f\"--> [%g] <--\" 3 > out.1\n",
    "seq -f\"------> [%g] <------\" 3 >> out.1\n",
    "cat out.1"
   ]
  },
  {
   "cell_type": "code",
   "execution_count": 54,
   "metadata": {
    "scrolled": true
   },
   "outputs": [
    {
     "name": "stdout",
     "output_type": "stream",
     "text": [
      "1] <--\n",
      "2] <--\n",
      "3] <--\n",
      "1] <------\n",
      "2] <------\n",
      "3] <------\n"
     ]
    }
   ],
   "source": [
    "%%sh\n",
    "# extrae la porción de texto después de '[' \n",
    "cut -d'[' -f2 out.1 "
   ]
  },
  {
   "cell_type": "markdown",
   "metadata": {},
   "source": [
    "Extrae la porción de texto antes de ']' "
   ]
  },
  {
   "cell_type": "code",
   "execution_count": 55,
   "metadata": {
    "scrolled": true
   },
   "outputs": [
    {
     "name": "stdout",
     "output_type": "stream",
     "text": [
      "--> [1\n",
      "--> [2\n",
      "--> [3\n",
      "------> [1\n",
      "------> [2\n",
      "------> [3\n"
     ]
    }
   ],
   "source": [
    "%%sh\n",
    "cut -d']' -f1 out.1  "
   ]
  },
  {
   "cell_type": "markdown",
   "metadata": {},
   "source": [
    "Se combinan los dos comandos anteriores"
   ]
  },
  {
   "cell_type": "code",
   "execution_count": 56,
   "metadata": {
    "scrolled": true
   },
   "outputs": [
    {
     "name": "stdout",
     "output_type": "stream",
     "text": [
      "1\n",
      "2\n",
      "3\n",
      "1\n",
      "2\n",
      "3\n"
     ]
    }
   ],
   "source": [
    "%%sh\n",
    "cut -d'[' -f2 out.1 | cut -d']' -f1 "
   ]
  },
  {
   "cell_type": "markdown",
   "metadata": {},
   "source": [
    "A continuación se extrae la segunda palabra de cada línea."
   ]
  },
  {
   "cell_type": "code",
   "execution_count": 57,
   "metadata": {
    "scrolled": true
   },
   "outputs": [
    {
     "name": "stdout",
     "output_type": "stream",
     "text": [
      "Bash is a Unix shell and command language \n",
      "written by Brian Fox for the \n",
      "GNU Project as a free software \n",
      "replacement for the Bourne shell.\n"
     ]
    }
   ],
   "source": [
    "%%sh\n",
    "echo \"Bash is a Unix shell and command language \n",
    "written by Brian Fox for the \n",
    "GNU Project as a free software \n",
    "replacement for the Bourne shell.\" > out.1\n",
    "cat out.1"
   ]
  },
  {
   "cell_type": "code",
   "execution_count": 58,
   "metadata": {
    "scrolled": true
   },
   "outputs": [
    {
     "name": "stdout",
     "output_type": "stream",
     "text": [
      "is\n",
      "by\n",
      "Project\n",
      "for\n"
     ]
    }
   ],
   "source": [
    "%%sh\n",
    "# el delimitador es el espacio en blanco\n",
    "cut -d' ' -f2 out.1 "
   ]
  },
  {
   "cell_type": "markdown",
   "metadata": {},
   "source": [
    "Borrado de columnas con colrm\n",
    "--"
   ]
  },
  {
   "cell_type": "markdown",
   "metadata": {},
   "source": [
    "Este comando remueve los caracteres comprendidos entre las columnas especificadas."
   ]
  },
  {
   "cell_type": "code",
   "execution_count": 59,
   "metadata": {},
   "outputs": [
    {
     "name": "stdout",
     "output_type": "stream",
     "text": [
      "126790\n",
      "abfghi\n",
      "jkopqr\n"
     ]
    }
   ],
   "source": [
    "%%sh\n",
    "echo \"123456790\n",
    "abcdefghi\n",
    "jklmnopqr\" > out.1\n",
    "colrm 3 5 < out.1  "
   ]
  },
  {
   "cell_type": "markdown",
   "metadata": {},
   "source": [
    "Si no se especifica la columna final, `colrm` borra hasta el final de la línea."
   ]
  },
  {
   "cell_type": "code",
   "execution_count": 60,
   "metadata": {},
   "outputs": [
    {
     "name": "stdout",
     "output_type": "stream",
     "text": [
      "12\n",
      "ab\n",
      "jk\n"
     ]
    }
   ],
   "source": [
    "%%sh\n",
    "colrm 3 < out.1"
   ]
  },
  {
   "cell_type": "markdown",
   "metadata": {},
   "source": [
    "Unión de archivos con join\n",
    "--"
   ]
  },
  {
   "cell_type": "markdown",
   "metadata": {},
   "source": [
    "Un problema típico en transformación de datos es tener que combinar dos archivos usando un campo clave. Tal como ya se ha ejemplificado en este documento, en muchos casos los archivos de texto son equivalentes a las tablas en los sistemas de bases de datos relacionales. El problema en cuestión es el siguiente: existe un archivo `out.1`:"
   ]
  },
  {
   "cell_type": "code",
   "execution_count": 61,
   "metadata": {},
   "outputs": [],
   "source": [
    "%%sh\n",
    "cat > out.1 <<EOF\n",
    "key, F1, F2\n",
    "  1, 11, 12\n",
    "  2, 21, 22\n",
    "  4, 41, 42\n",
    "EOF"
   ]
  },
  {
   "cell_type": "markdown",
   "metadata": {},
   "source": [
    "y un archivo `out.2`:"
   ]
  },
  {
   "cell_type": "code",
   "execution_count": 62,
   "metadata": {},
   "outputs": [],
   "source": [
    "%%sh\n",
    "cat > out.2 <<EOF\n",
    "key, F3, F4\n",
    "  1, 13, 14\n",
    "  2, 23, 24\n",
    "  3, 33, 34 \n",
    "EOF"
   ]
  },
  {
   "cell_type": "markdown",
   "metadata": {},
   "source": [
    "La primera columna es la clave; los valores de los campos corresponden a la posición del elemento, es decir, el valor `13` corresponde al registro `1` y al campo `3`."
   ]
  },
  {
   "cell_type": "markdown",
   "metadata": {},
   "source": [
    "El comando `join` permite unir las líneas de ambos archivos usando el campo designado como clave. `join` no agrega el último registro de `out.1`, ya que no existe este registro en el archivo `out.2`"
   ]
  },
  {
   "cell_type": "code",
   "execution_count": 63,
   "metadata": {
    "scrolled": true
   },
   "outputs": [
    {
     "name": "stdout",
     "output_type": "stream",
     "text": [
      "key, F1, F2, F3, F4\n",
      "  1, 11, 12, 13, 14\n",
      "  2, 21, 22, 23, 24\n"
     ]
    }
   ],
   "source": [
    "%%sh\n",
    "# agrega out.2 a out.1 usando como clave el primer campo (por defecto)\n",
    "join -t, out.1 out.2 "
   ]
  },
  {
   "cell_type": "markdown",
   "metadata": {},
   "source": [
    "Se puede especificar el campo de unión con las opciones `-1` para indicar el campo clave del primer archivo y `-2` para indicar el campo clave del segundo archivo."
   ]
  },
  {
   "cell_type": "code",
   "execution_count": 64,
   "metadata": {},
   "outputs": [
    {
     "name": "stdout",
     "output_type": "stream",
     "text": [
      "key, F3, F4, F1, F2\n",
      "  1, 13, 14, 11, 12\n",
      "  2, 23, 24, 21, 22\n"
     ]
    }
   ],
   "source": [
    "%%sh\n",
    "join -1 1 -2 1 -t, out.2 out.1 "
   ]
  },
  {
   "cell_type": "markdown",
   "metadata": {},
   "source": [
    "Adicionalmente, se pueden indicar los campos de salida con la opción `-o`. En el siguiente ejemplo, `1.2` representa el campo 2 del archivo 1."
   ]
  },
  {
   "cell_type": "code",
   "execution_count": 65,
   "metadata": {
    "scrolled": true
   },
   "outputs": [
    {
     "name": "stdout",
     "output_type": "stream",
     "text": [
      " F1, F4\n",
      " 11, 14\n",
      " 21, 24\n"
     ]
    }
   ],
   "source": [
    "%%sh\n",
    "join -t, -o1.2,2.3 out.1 out.2 "
   ]
  },
  {
   "cell_type": "code",
   "execution_count": 66,
   "metadata": {
    "scrolled": true
   },
   "outputs": [
    {
     "name": "stdout",
     "output_type": "stream",
     "text": [
      "key, F1, F4\n",
      "  1, 11, 14\n",
      "  2, 21, 24\n"
     ]
    }
   ],
   "source": [
    "%%sh\n",
    "join -t, -o'0,1.2,2.3' out.1 out.2 "
   ]
  },
  {
   "cell_type": "markdown",
   "metadata": {},
   "source": [
    "La opción `-v` se usa para que `join` imprima los registros que solo aparecen en uno solo de los archivos."
   ]
  },
  {
   "cell_type": "markdown",
   "metadata": {},
   "source": [
    "El siguiente comando imprime los registros de `out.1` cuya clave no aparece en `out.2`:"
   ]
  },
  {
   "cell_type": "code",
   "execution_count": 67,
   "metadata": {
    "scrolled": true
   },
   "outputs": [
    {
     "name": "stdout",
     "output_type": "stream",
     "text": [
      "  4, 41, 42\n"
     ]
    }
   ],
   "source": [
    "%%sh\n",
    "join -t, -v 1 out.1 out.2"
   ]
  },
  {
   "cell_type": "markdown",
   "metadata": {},
   "source": [
    "De forma equivalente, los registros de `out.2` que no están en `out.1` se obtienen con"
   ]
  },
  {
   "cell_type": "code",
   "execution_count": 68,
   "metadata": {},
   "outputs": [
    {
     "name": "stdout",
     "output_type": "stream",
     "text": [
      "  3, 33, 34 \n"
     ]
    }
   ],
   "source": [
    "%%sh\n",
    "join -t, -v 2 out.1 out.2"
   ]
  },
  {
   "cell_type": "markdown",
   "metadata": {},
   "source": [
    "Los comandos anteriores se pueden combinar en uno solo:"
   ]
  },
  {
   "cell_type": "code",
   "execution_count": 69,
   "metadata": {},
   "outputs": [
    {
     "name": "stdout",
     "output_type": "stream",
     "text": [
      "  3, 33, 34 \n",
      "  4, 41, 42\n"
     ]
    }
   ],
   "source": [
    "%%sh\n",
    "join -t, -v 1 -v 2 out.1 out.2"
   ]
  },
  {
   "cell_type": "markdown",
   "metadata": {},
   "source": [
    "Para que en la combinación se incluyan los registros sin clave en alguno de los archivo se usa la opción `-a`. Por ejemplo,"
   ]
  },
  {
   "cell_type": "code",
   "execution_count": 70,
   "metadata": {},
   "outputs": [
    {
     "name": "stdout",
     "output_type": "stream",
     "text": [
      "key, F1, F2, F3, F4\n",
      "  1, 11, 12, 13, 14\n",
      "  2, 21, 22, 23, 24\n",
      "  4, 41, 42\n"
     ]
    }
   ],
   "source": [
    "%%sh\n",
    "join -a 1 -t, out.1 out.2 "
   ]
  },
  {
   "cell_type": "code",
   "execution_count": 71,
   "metadata": {},
   "outputs": [
    {
     "name": "stdout",
     "output_type": "stream",
     "text": [
      "key, F1, F2, F3, F4\n",
      "  1, 11, 12, 13, 14\n",
      "  2, 21, 22, 23, 24\n",
      "  3, 33, 34 \n"
     ]
    }
   ],
   "source": [
    "%%sh\n",
    "join -a 2 -t, out.1 out.2 "
   ]
  },
  {
   "cell_type": "markdown",
   "metadata": {},
   "source": [
    "La opción `-e` se usa para indicar la cadena de texto que se agrega a los campos de los registros para los cuales no hay valores."
   ]
  },
  {
   "cell_type": "code",
   "execution_count": 72,
   "metadata": {},
   "outputs": [
    {
     "name": "stdout",
     "output_type": "stream",
     "text": [
      "key, F1, F2, F3, F4\n",
      "  1, 11, 12, 13, 14\n",
      "  2, 21, 22, 23, 24\n",
      "  3, 33, 34 \n",
      "  4, 41, 42\n"
     ]
    }
   ],
   "source": [
    "%%sh\n",
    "join -a 1 -a 2 -e NA -t,   out.1 out.2 "
   ]
  },
  {
   "cell_type": "markdown",
   "metadata": {},
   "source": [
    "Pegado de archivos con paste\n",
    "--"
   ]
  },
  {
   "cell_type": "markdown",
   "metadata": {},
   "source": [
    "El comando `paste` permite pegar un archivo con otro, uniendo la primera linea de ambos archivos, luego la segunda y así sucesivamente."
   ]
  },
  {
   "cell_type": "code",
   "execution_count": 73,
   "metadata": {
    "scrolled": true
   },
   "outputs": [
    {
     "name": "stdout",
     "output_type": "stream",
     "text": [
      "linea 1\n",
      "linea 2\n",
      "linea 3\n",
      "linea 4\n",
      "linea 5\n"
     ]
    }
   ],
   "source": [
    "%%sh\n",
    "seq -f'linea %g' 5 > out.1; cat out.1"
   ]
  },
  {
   "cell_type": "code",
   "execution_count": 74,
   "metadata": {
    "scrolled": true
   },
   "outputs": [
    {
     "name": "stdout",
     "output_type": "stream",
     "text": [
      "linea 6\n",
      "linea 7\n",
      "linea 8\n",
      "linea 9\n",
      "linea 10\n"
     ]
    }
   ],
   "source": [
    "%%sh\n",
    "seq -f'linea %g' 6 1 10 > out.2; cat out.2"
   ]
  },
  {
   "cell_type": "code",
   "execution_count": 75,
   "metadata": {},
   "outputs": [
    {
     "name": "stdout",
     "output_type": "stream",
     "text": [
      "linea 1-linea 6\n",
      "linea 2-linea 7\n",
      "linea 3-linea 8\n",
      "linea 4-linea 9\n",
      "linea 5-linea 10\n"
     ]
    }
   ],
   "source": [
    "%%sh\n",
    "paste -d'-' out.1 out.2"
   ]
  },
  {
   "cell_type": "markdown",
   "metadata": {},
   "source": [
    "**Borrado de los archivos temporales generados**"
   ]
  },
  {
   "cell_type": "code",
   "execution_count": 76,
   "metadata": {},
   "outputs": [],
   "source": [
    "!rm out*"
   ]
  }
 ],
 "metadata": {
  "kernelspec": {
   "display_name": "Python 3 (ipykernel)",
   "language": "python",
   "name": "python3"
  },
  "language_info": {
   "codemirror_mode": {
    "name": "ipython",
    "version": 3
   },
   "file_extension": ".py",
   "mimetype": "text/x-python",
   "name": "python",
   "nbconvert_exporter": "python",
   "pygments_lexer": "ipython3",
   "version": "3.8.10"
  },
  "nbpresent": {
   "slides": {
    "940b5fc9-9cdd-41d7-8372-719403fc2bd2": {
     "id": "940b5fc9-9cdd-41d7-8372-719403fc2bd2",
     "prev": null,
     "regions": {
      "395f31a1-eb6e-4371-acb3-490ee879b8b8": {
       "attrs": {
        "height": 0.2,
        "width": 0.4,
        "x": 0.5,
        "y": 0.7
       },
       "id": "395f31a1-eb6e-4371-acb3-490ee879b8b8"
      },
      "92e1a1f9-4ebc-41a2-bfe8-899c8e794d14": {
       "attrs": {
        "height": 0.8,
        "width": 0.8,
        "x": 0.1,
        "y": 0.1
       },
       "id": "92e1a1f9-4ebc-41a2-bfe8-899c8e794d14"
      },
      "ad53a586-a210-4ed7-adb4-961b08e598b8": {
       "attrs": {
        "height": 0.2,
        "width": 0.4,
        "x": 0.1,
        "y": 0.7
       },
       "id": "ad53a586-a210-4ed7-adb4-961b08e598b8"
      },
      "bd4aba0d-fa0b-42e7-81a3-0beac29f2241": {
       "attrs": {
        "height": 0.8,
        "width": 0.8,
        "x": 0.1,
        "y": 0.1
       },
       "id": "bd4aba0d-fa0b-42e7-81a3-0beac29f2241"
      },
      "cefb04b2-32f0-4965-923e-1a6b36c37fd8": {
       "attrs": {
        "height": 0.6,
        "width": 0.8,
        "x": 0.1,
        "y": 0.1
       },
       "content": {
        "cell": "a4b09f9a-453a-4787-83c4-61a43f75d860",
        "part": "source"
       },
       "id": "cefb04b2-32f0-4965-923e-1a6b36c37fd8"
      }
     }
    }
   }
  }
 },
 "nbformat": 4,
 "nbformat_minor": 4
}
