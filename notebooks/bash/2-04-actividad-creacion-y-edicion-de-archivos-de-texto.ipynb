{
 "cells": [
  {
   "cell_type": "markdown",
   "metadata": {},
   "source": [
    "# Actividad: Creación y edición de archivos de texto\n",
    "\n",
    "* *30 min* | Última modificación: Diciembre 12, 2019"
   ]
  },
  {
   "cell_type": "markdown",
   "metadata": {},
   "source": [
    "En esta actividad, usted aprenderá a:\n",
    "\n",
    "* Crear archivos vacíos.\n",
    "\n",
    "* Usar editores de texto directamente en el `Terminal`. \n",
    "\n",
    "* Imprimir en pantalla el inicio, el final o la totalidad de un archivo de texto en pantalla.\n",
    "\n",
    "Cada actividad presenta una forma diferente de crear un archivo."
   ]
  },
  {
   "cell_type": "markdown",
   "metadata": {},
   "source": [
    "## Actividad 1 --- Crear un archivo vacio con touch"
   ]
  },
  {
   "cell_type": "markdown",
   "metadata": {},
   "source": [
    "El comando `touch` permite la creación de un archivo vacío. Cree un archivo vacío en el directorio actual, llamado `demo.txt`. Para ello, use el comando: `touch demo.txt`."
   ]
  },
  {
   "cell_type": "markdown",
   "metadata": {},
   "source": [
    "Verifique que el archivo fue creado usando `ls`.\n",
    "\n",
    "Note que `touch` no permite agregar contenido al archivo."
   ]
  },
  {
   "cell_type": "markdown",
   "metadata": {},
   "source": [
    "## Actividad 2 --- Editar un archivo de texto\n",
    "\n",
    "La edición en el Terminal se realiza usualmente con uno de los siguiente editores editores:\n",
    "\n",
    "* [Nano](https://es.wikipedia.org/wiki/GNU_Nano)\n",
    "* [Vim](https://es.wikipedia.org/wiki/Vim)\n",
    "* [Emacs](https://es.wikipedia.org/wiki/Emacs)\n",
    "\n",
    "Usualmente `nano` se encuentra disponible en todos los sistemas operativos Linux. Edite el archivo `demo.txt` en línea con:\n",
    "```bash\n",
    "nano demo.txt\n",
    "```\n",
    "\n",
    "Agregue algún texto; use cortar, copiar y pegar texto. Para salir de `nano` use `Ctl+X`."
   ]
  },
  {
   "cell_type": "markdown",
   "metadata": {},
   "source": [
    "## Actividad 3 --- Crear un archivo y agregar contenido usando echo\n",
    "\n",
    "El comando `echo` permite la impresión de textos en el Terminal. La salida de `echo` puede redireccionarse hacia un archivo. Cree el archivo `demo1.txt` y agregue contenido con:\n",
    "\n",
    "```bash \n",
    "echo \"linea 1\n",
    "linea 2\n",
    "linea 3\" > demo1.txt\n",
    "```\n",
    "\n",
    "Visualice el contenido del archivo con \n",
    "\n",
    "```bash\n",
    "cat demo1.txt\n",
    "```\n",
    "\n",
    "Los siguientes comandos agregan contenido al archivo:\n",
    "\n",
    "```bash\n",
    "echo \"linea 4\" >> demo1.txt\n",
    "echo \"linea 5\" >> demo1.txt\n",
    "```\n",
    "\n",
    "Visualice nuevamente el contenido del archivo con \n",
    "\n",
    "```bash\n",
    "cat demo1.txt\n",
    "```"
   ]
  },
  {
   "cell_type": "markdown",
   "metadata": {},
   "source": [
    "## Actividad 4 --- Crear un archivo y agregar contenido con cat\n",
    "\n",
    "El comando `cat` permite visualizar el contenido de un archivo. Sin embargo, es posible usar `cat` para crear un archivo, editando directamente su contenido en el Terminal con:\n",
    "\n",
    "```bash\n",
    "cat > demo2.txt <<-SHELL\n",
    "linea 1\n",
    "linea 2\n",
    "linea 3\n",
    "SHELL\n",
    "```\n",
    "\n",
    "Aca `SHELL` es una texto cualquiera que no aparece en el archivo, y se usa para indicar que finalizó el texto que se agregará al archivo.\n",
    "\n",
    "Visualice el contenido del archivo con \n",
    "\n",
    "```bash\n",
    "cat demo2.txt\n",
    "```"
   ]
  }
 ],
 "metadata": {
  "kernel_info": {
   "name": "bash"
  },
  "kernelspec": {
   "display_name": "Python 3 (ipykernel)",
   "language": "python",
   "name": "python3"
  },
  "language_info": {
   "codemirror_mode": {
    "name": "ipython",
    "version": 3
   },
   "file_extension": ".py",
   "mimetype": "text/x-python",
   "name": "python",
   "nbconvert_exporter": "python",
   "pygments_lexer": "ipython3",
   "version": "3.8.10"
  },
  "nbpresent": {
   "slides": {
    "940b5fc9-9cdd-41d7-8372-719403fc2bd2": {
     "id": "940b5fc9-9cdd-41d7-8372-719403fc2bd2",
     "prev": null,
     "regions": {
      "395f31a1-eb6e-4371-acb3-490ee879b8b8": {
       "attrs": {
        "height": 0.2,
        "width": 0.4,
        "x": 0.5,
        "y": 0.7
       },
       "id": "395f31a1-eb6e-4371-acb3-490ee879b8b8"
      },
      "92e1a1f9-4ebc-41a2-bfe8-899c8e794d14": {
       "attrs": {
        "height": 0.8,
        "width": 0.8,
        "x": 0.1,
        "y": 0.1
       },
       "id": "92e1a1f9-4ebc-41a2-bfe8-899c8e794d14"
      },
      "ad53a586-a210-4ed7-adb4-961b08e598b8": {
       "attrs": {
        "height": 0.2,
        "width": 0.4,
        "x": 0.1,
        "y": 0.7
       },
       "id": "ad53a586-a210-4ed7-adb4-961b08e598b8"
      },
      "bd4aba0d-fa0b-42e7-81a3-0beac29f2241": {
       "attrs": {
        "height": 0.8,
        "width": 0.8,
        "x": 0.1,
        "y": 0.1
       },
       "id": "bd4aba0d-fa0b-42e7-81a3-0beac29f2241"
      },
      "cefb04b2-32f0-4965-923e-1a6b36c37fd8": {
       "attrs": {
        "height": 0.6,
        "width": 0.8,
        "x": 0.1,
        "y": 0.1
       },
       "content": {
        "cell": "a4b09f9a-453a-4787-83c4-61a43f75d860",
        "part": "source"
       },
       "id": "cefb04b2-32f0-4965-923e-1a6b36c37fd8"
      }
     }
    }
   }
  },
  "nteract": {
   "version": "0.12.3"
  }
 },
 "nbformat": 4,
 "nbformat_minor": 4
}
