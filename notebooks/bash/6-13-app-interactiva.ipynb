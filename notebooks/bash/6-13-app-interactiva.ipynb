{
 "cells": [
  {
   "cell_type": "markdown",
   "metadata": {},
   "source": [
    "Apps interactivas en el terminal\n",
    "=======================================\n",
    "\n",
    "* *150 min* | Última modificación: Febrero 4, 2020."
   ]
  },
  {
   "cell_type": "markdown",
   "metadata": {},
   "source": [
    "## Datos de prueba"
   ]
  },
  {
   "cell_type": "code",
   "execution_count": 1,
   "metadata": {},
   "outputs": [
    {
     "name": "stdout",
     "output_type": "stream",
     "text": [
      "Writing persons.csv\n"
     ]
    }
   ],
   "source": [
    "%%writefile persons.csv\n",
    "id,firstname,surname,birthday,color,quantity\n",
    "1,Vivian,Hamilton,1971-07-08,green,1\n",
    "2,Karen,Holcomb,1974-05-23,green,4\n",
    "3,Cody,Garrett,1973-04-22,orange,1\n",
    "4,Roth,Fry,1975-01-29,black,1\n",
    "5,Zoe,Conway,1974-07-03,blue,2\n",
    "6,Gretchen,Kinney,1974-10-18,viole,1\n",
    "7,Driscoll,Klein,1970-10-05,blue,5\n",
    "8,Karyn,Diaz,1969-02-24,red,1\n",
    "9,Merritt,Guy,1974-10-17,indigo,4\n",
    "10,Kylan,Sexton,1975-02-28,black,4\n",
    "11,Jordan,Estes,1969-12-07,indigo,4\n",
    "12,Hope,Coffey,1973-12-24,green,5\n",
    "13,Vivian,Crane,1970-08-27,gray,5\n",
    "14,Clio,Noel,1972-12-12,red,5\n",
    "15,Hope,Silva,1970-07-01,blue,5\n",
    "16,Ayanna,Jarvis,1974-02-11,orange,5\n",
    "17,Chanda,Boyer,1973-04-01,green,4\n",
    "18,Chadwick,Knight,1973-04-29,yellow,1"
   ]
  },
  {
   "cell_type": "markdown",
   "metadata": {},
   "source": [
    "## Paso 1"
   ]
  },
  {
   "cell_type": "code",
   "execution_count": 2,
   "metadata": {},
   "outputs": [
    {
     "name": "stdout",
     "output_type": "stream",
     "text": [
      "Writing demo.sh\n"
     ]
    }
   ],
   "source": [
    "%%writefile demo.sh\n",
    "\n",
    "filename=$1\n",
    "if [ ! -f $filename ]; then\n",
    "    echo \"File '\" $filename \"' not found!\"\n",
    "    exit \n",
    "fi\n",
    "\n",
    "echo $filename"
   ]
  },
  {
   "cell_type": "markdown",
   "metadata": {},
   "source": [
    "## Paso 2"
   ]
  },
  {
   "cell_type": "code",
   "execution_count": 3,
   "metadata": {},
   "outputs": [
    {
     "name": "stdout",
     "output_type": "stream",
     "text": [
      "Overwriting demo.sh\n"
     ]
    }
   ],
   "source": [
    "%%writefile demo.sh\n",
    "\n",
    "# ---->>>\n",
    "if [ \"$#\" -ne 1 ]; then\n",
    "    echo \"You must indicate a filename!\"\n",
    "    exit \n",
    "fi\n",
    "# <<<-----\n",
    "\n",
    "filename=$1\n",
    "\n",
    "if [ ! -f $filename ]; then\n",
    "    echo \"File '\" $filename \"' not found!\"\n",
    "    exit \n",
    "fi\n",
    "\n",
    "echo $filename"
   ]
  },
  {
   "cell_type": "markdown",
   "metadata": {},
   "source": [
    "## Paso 3"
   ]
  },
  {
   "cell_type": "code",
   "execution_count": 4,
   "metadata": {},
   "outputs": [
    {
     "name": "stdout",
     "output_type": "stream",
     "text": [
      "Overwriting demo.sh\n"
     ]
    }
   ],
   "source": [
    "%%writefile demo.sh\n",
    "\n",
    "if [ \"$#\" -ne 1 ]; then\n",
    "    echo \"You must indicate a filename!\"\n",
    "    exit \n",
    "fi\n",
    "\n",
    "filename=$1\n",
    "\n",
    "if [ ! -f $filename ]; then\n",
    "    echo \"File '\" $filename \"' not found!\"\n",
    "    exit \n",
    "fi\n",
    "\n",
    "# --->>>\n",
    "show_menu(){\n",
    "    echo\n",
    "    echo \"Options:\"\n",
    "    echo \" 1) Delete duplicates\"\n",
    "    echo \" 2) Record count\"\n",
    "    echo \" 3) Column names\"\n",
    "    echo \" x) exit\"\n",
    "    echo \"Select an option: \"\n",
    "    read opt\n",
    "}\n",
    "\n",
    "\n",
    "show_menu\n",
    "while [ $opt != '' ]\n",
    "    do\n",
    "    if [ $opt = '' ]; then\n",
    "      exit;\n",
    "    else\n",
    "      case $opt in\n",
    "        1) echo \"Option 1 Picked\";\n",
    "            show_menu;\n",
    "        ;;\n",
    "        2) echo \"Option 2 Picked\";\n",
    "            show_menu;\n",
    "        ;;\n",
    "        3) echo \"Option 3 Picked\";\n",
    "            show_menu;\n",
    "        ;;\n",
    "        x) exit;\n",
    "        ;;\n",
    "        \\n) exit;\n",
    "        ;;\n",
    "        *)echo \"Pick an option from the menu\";\n",
    "            show_menu;\n",
    "        ;;\n",
    "      esac\n",
    "    fi\n",
    "done\n",
    "\n",
    "# <<<----\n"
   ]
  },
  {
   "cell_type": "markdown",
   "metadata": {},
   "source": [
    "## Paso 4"
   ]
  },
  {
   "cell_type": "code",
   "execution_count": 5,
   "metadata": {},
   "outputs": [
    {
     "name": "stdout",
     "output_type": "stream",
     "text": [
      "Overwriting demo.sh\n"
     ]
    }
   ],
   "source": [
    "%%writefile demo.sh\n",
    "\n",
    "if [ \"$#\" -ne 1 ]; then\n",
    "    echo \"You must indicate a filename!\"\n",
    "    exit \n",
    "fi\n",
    "\n",
    "filename=$1\n",
    "\n",
    "if [ ! -f $filename ]; then\n",
    "    echo \"File '\" $filename \"' not found!\"\n",
    "    exit \n",
    "fi\n",
    "\n",
    "show_menu(){\n",
    "    echo\n",
    "    echo \"Options:\"\n",
    "    echo \" 1) Delete duplicates\"\n",
    "    echo \" 2) Record count\"\n",
    "    echo \" 3) Column names\"\n",
    "    echo \" x) exit\"\n",
    "    echo \"Select an option: \"\n",
    "    read opt\n",
    "}\n",
    "\n",
    "show_menu\n",
    "while [ $opt != '' ]\n",
    "    do\n",
    "    if [ $opt = '' ]; then\n",
    "      exit;\n",
    "    else\n",
    "      case $opt in\n",
    "        1) echo \"Option 1 Picked\";\n",
    "            show_menu;\n",
    "        ;;\n",
    "        2) echo \"Option 2 Picked\";\n",
    "            show_menu;\n",
    "        ;;\n",
    "# --->>>\n",
    "        3) echo \"Columns names:\"\n",
    "            head -n 1 $filename | tr ','  '\\n';\n",
    "            echo \"\"\n",
    "            show_menu;\n",
    "# <<<---            \n",
    "        ;;\n",
    "        x) exit;\n",
    "        ;;\n",
    "        \\n) exit;\n",
    "        ;;\n",
    "        *)echo \"Pick an option from the menu\";\n",
    "            show_menu;\n",
    "        ;;\n",
    "      esac\n",
    "    fi\n",
    "done\n"
   ]
  },
  {
   "cell_type": "markdown",
   "metadata": {},
   "source": [
    "**Ejercicio.--** Complete las opciones del menú."
   ]
  },
  {
   "cell_type": "code",
   "execution_count": 6,
   "metadata": {},
   "outputs": [],
   "source": [
    "!rm demo.sh persons.csv"
   ]
  }
 ],
 "metadata": {
  "kernel_info": {
   "name": "bash"
  },
  "kernelspec": {
   "display_name": "Python 3 (ipykernel)",
   "language": "python",
   "name": "python3"
  },
  "language_info": {
   "codemirror_mode": {
    "name": "ipython",
    "version": 3
   },
   "file_extension": ".py",
   "mimetype": "text/x-python",
   "name": "python",
   "nbconvert_exporter": "python",
   "pygments_lexer": "ipython3",
   "version": "3.8.10"
  },
  "nbpresent": {
   "slides": {
    "940b5fc9-9cdd-41d7-8372-719403fc2bd2": {
     "id": "940b5fc9-9cdd-41d7-8372-719403fc2bd2",
     "prev": null,
     "regions": {
      "395f31a1-eb6e-4371-acb3-490ee879b8b8": {
       "attrs": {
        "height": 0.2,
        "width": 0.4,
        "x": 0.5,
        "y": 0.7
       },
       "id": "395f31a1-eb6e-4371-acb3-490ee879b8b8"
      },
      "92e1a1f9-4ebc-41a2-bfe8-899c8e794d14": {
       "attrs": {
        "height": 0.8,
        "width": 0.8,
        "x": 0.1,
        "y": 0.1
       },
       "id": "92e1a1f9-4ebc-41a2-bfe8-899c8e794d14"
      },
      "ad53a586-a210-4ed7-adb4-961b08e598b8": {
       "attrs": {
        "height": 0.2,
        "width": 0.4,
        "x": 0.1,
        "y": 0.7
       },
       "id": "ad53a586-a210-4ed7-adb4-961b08e598b8"
      },
      "bd4aba0d-fa0b-42e7-81a3-0beac29f2241": {
       "attrs": {
        "height": 0.8,
        "width": 0.8,
        "x": 0.1,
        "y": 0.1
       },
       "id": "bd4aba0d-fa0b-42e7-81a3-0beac29f2241"
      },
      "cefb04b2-32f0-4965-923e-1a6b36c37fd8": {
       "attrs": {
        "height": 0.6,
        "width": 0.8,
        "x": 0.1,
        "y": 0.1
       },
       "content": {
        "cell": "a4b09f9a-453a-4787-83c4-61a43f75d860",
        "part": "source"
       },
       "id": "cefb04b2-32f0-4965-923e-1a6b36c37fd8"
      }
     }
    }
   }
  },
  "nteract": {
   "version": "0.12.3"
  }
 },
 "nbformat": 4,
 "nbformat_minor": 4
}
