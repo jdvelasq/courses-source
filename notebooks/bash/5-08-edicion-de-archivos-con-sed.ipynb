{
 "cells": [
  {
   "cell_type": "markdown",
   "metadata": {},
   "source": [
    "Edición de archivos con sed\n",
    "===========================\n",
    "\n",
    "* *60 min* | Última modificación: Diciembre 16, 2019."
   ]
  },
  {
   "cell_type": "markdown",
   "metadata": {},
   "source": [
    "`sed` es un editor de flujos que puede ser usado para extraer, adicionar o reemplazar textos en un archivo. En Ciencia de los datos, resulta particularmente interesante para realizar impresión, sustitución y borrado de textos en archivos planos, que es una tarea común en procesos ETL y data pipe lines. Cada comando es representado por una letra y el carácter `/` es usado como un delimitador.\n",
    "\n",
    "En este tutorial usted aprenderá a:\n",
    "\n",
    "* Imprimir las líneas de un archivo que esten en una posición específica.\n",
    "\n",
    "* Imprimir las líneas de un archivo que cumplan con un criterio específico.\n",
    "\n",
    "* Borrar líneas.\n",
    "\n",
    "* Substituir texto.\n",
    "\n",
    "* Agregar contenido a un archivo."
   ]
  },
  {
   "cell_type": "markdown",
   "metadata": {},
   "source": [
    "Manual y ayuda en línea\n",
    "--"
   ]
  },
  {
   "cell_type": "markdown",
   "metadata": {},
   "source": [
    "* Manual: https://www.gnu.org/software/sed/manual/sed.html\n",
    "\n",
    "* Ayuda:\n",
    "```bash\n",
    "man sed\n",
    "```"
   ]
  },
  {
   "cell_type": "markdown",
   "metadata": {},
   "source": [
    "Impresión de líneas específicias\n",
    "--"
   ]
  },
  {
   "cell_type": "code",
   "execution_count": null,
   "metadata": {},
   "outputs": [],
   "source": [
    "%%sh\n",
    "## se imprimen los primeros 30 números a un archivo\n",
    "seq 30 > out.1"
   ]
  },
  {
   "cell_type": "code",
   "execution_count": 2,
   "metadata": {},
   "outputs": [],
   "source": [
    "%%sh\n",
    "## imprime la línea 3\n",
    "sed -n '3p' out.1"
   ]
  },
  {
   "cell_type": "code",
   "execution_count": 3,
   "metadata": {},
   "outputs": [
    {
     "name": "stdout",
     "output_type": "stream",
     "text": [
      "3\n",
      "4\n",
      "5\n",
      "6\n"
     ]
    }
   ],
   "source": [
    "%%sh\n",
    "## imprime las líneas 3 a 6\n",
    "sed -n '3,6p' out.1"
   ]
  },
  {
   "cell_type": "code",
   "execution_count": 4,
   "metadata": {},
   "outputs": [
    {
     "name": "stdout",
     "output_type": "stream",
     "text": [
      "3\n",
      "4\n",
      "5\n",
      "6\n",
      "11\n",
      "12\n",
      "13\n"
     ]
    }
   ],
   "source": [
    "%%sh\n",
    "## imprime las líneas 3 a 6 y 11 a 13\n",
    "sed -n '3,6p; 11,13p' out.1"
   ]
  },
  {
   "cell_type": "code",
   "execution_count": 5,
   "metadata": {},
   "outputs": [
    {
     "name": "stdout",
     "output_type": "stream",
     "text": [
      "25\n",
      "26\n",
      "27\n",
      "28\n",
      "29\n",
      "30\n"
     ]
    }
   ],
   "source": [
    "%%sh\n",
    "## de la linea 25 al final\n",
    "sed -n '25,$ p' out.1"
   ]
  },
  {
   "cell_type": "markdown",
   "metadata": {},
   "source": [
    "Filtrado\n",
    "--"
   ]
  },
  {
   "cell_type": "code",
   "execution_count": 6,
   "metadata": {},
   "outputs": [
    {
     "name": "stdout",
     "output_type": "stream",
     "text": [
      "1\n",
      "10\n",
      "11\n",
      "12\n",
      "13\n",
      "14\n",
      "15\n",
      "16\n",
      "17\n",
      "18\n",
      "19\n",
      "21\n"
     ]
    }
   ],
   "source": [
    "%%sh\n",
    "## Imprime las lineas que contengan un 1\n",
    "sed -n '/1/p'  out.1"
   ]
  },
  {
   "cell_type": "markdown",
   "metadata": {},
   "source": [
    "* La opción `-n` indica que no debe imprimirse en pantalla cada línea leída del archivo `out.1`. \n",
    "\n",
    "* La cadena `/1/` indica la expresión regular (en este caso que la línea contenga un `1` y los `/`  son delimitadores). La `p`  al final indica que se imprima la línea. "
   ]
  },
  {
   "cell_type": "code",
   "execution_count": 7,
   "metadata": {},
   "outputs": [
    {
     "name": "stdout",
     "output_type": "stream",
     "text": [
      "1\n",
      "11\n",
      "21\n"
     ]
    }
   ],
   "source": [
    "%%sh\n",
    "## Imprime las líneas que tengaun un 1 al final\n",
    "sed -n '/1$/p'  out.1"
   ]
  },
  {
   "cell_type": "code",
   "execution_count": 8,
   "metadata": {},
   "outputs": [
    {
     "name": "stdout",
     "output_type": "stream",
     "text": [
      "1\n",
      "10\n",
      "11\n",
      "12\n",
      "13\n",
      "14\n",
      "15\n",
      "16\n",
      "17\n",
      "18\n",
      "19\n"
     ]
    }
   ],
   "source": [
    "%%sh\n",
    "## Imprime las líneas que tengan un 1 al inicio\n",
    "sed -n '/^1/p' out.1"
   ]
  },
  {
   "cell_type": "markdown",
   "metadata": {},
   "source": [
    "Borrado\n",
    "--"
   ]
  },
  {
   "cell_type": "code",
   "execution_count": 9,
   "metadata": {},
   "outputs": [
    {
     "name": "stdout",
     "output_type": "stream",
     "text": [
      "1\n",
      "2\n",
      "27\n",
      "28\n",
      "29\n",
      "30\n"
     ]
    }
   ],
   "source": [
    "%%sh\n",
    "# Borra las líneas 3 a la 26\n",
    "sed \"3,26 d\" out.1 "
   ]
  },
  {
   "cell_type": "markdown",
   "metadata": {},
   "source": [
    "Encadenado de expresiones\n",
    "--"
   ]
  },
  {
   "cell_type": "markdown",
   "metadata": {},
   "source": [
    "La opción `-e` con `sed`  indica expresión (comando) y permite realizar comandos simultaneos; por ejemplo, imprimir todo excepto la posición 1 y 2."
   ]
  },
  {
   "cell_type": "code",
   "execution_count": 10,
   "metadata": {},
   "outputs": [
    {
     "name": "stdout",
     "output_type": "stream",
     "text": [
      "3\n",
      "4\n",
      "5\n",
      "6\n",
      "7\n",
      "8\n",
      "9\n",
      "10\n",
      "11\n",
      "12\n",
      "13\n",
      "14\n",
      "15\n",
      "16\n",
      "17\n",
      "18\n",
      "19\n",
      "20\n",
      "21\n",
      "22\n",
      "23\n",
      "24\n",
      "25\n",
      "26\n",
      "27\n",
      "28\n",
      "29\n",
      "30\n"
     ]
    }
   ],
   "source": [
    "%%sh\n",
    "sed -e 1d -e 2d out.1"
   ]
  },
  {
   "cell_type": "markdown",
   "metadata": {},
   "source": [
    "Substitución\n",
    "--"
   ]
  },
  {
   "cell_type": "markdown",
   "metadata": {},
   "source": [
    "En el archivo generado mediante las siguientes instrucciones:"
   ]
  },
  {
   "cell_type": "code",
   "execution_count": 11,
   "metadata": {},
   "outputs": [],
   "source": [
    "%%sh\n",
    "cat > out.1 <<EOF\n",
    "FieldA, FieldD, FieldE, FieldG\n",
    "   2, X, 2X, 2XG\n",
    "   2, Y, 2Y, 2YG \n",
    "   3, Y, 3Y, 3YG\n",
    "   3, X, 3X, 3XG\n",
    "   4, Z, 4Z, 3XG\n",
    "EOF"
   ]
  },
  {
   "cell_type": "markdown",
   "metadata": {},
   "source": [
    "se desean cambiar las `X` por `x`."
   ]
  },
  {
   "cell_type": "markdown",
   "metadata": {},
   "source": [
    "Para ello, se emplea la opción `s` para indicar que se realizarán sustituciones de texto:"
   ]
  },
  {
   "cell_type": "code",
   "execution_count": 12,
   "metadata": {},
   "outputs": [
    {
     "name": "stdout",
     "output_type": "stream",
     "text": [
      "FieldA, FieldD, FieldE, FieldG\n",
      "   2, x, 2X, 2XG\n",
      "   2, Y, 2Y, 2YG \n",
      "   3, Y, 3Y, 3YG\n",
      "   3, x, 3X, 3XG\n",
      "   4, Z, 4Z, 3xG\n"
     ]
    }
   ],
   "source": [
    "%%sh\n",
    "## Cambia la primera ocurrencia de X por x en cada linea\n",
    "sed 's/X/x/' out.1"
   ]
  },
  {
   "cell_type": "markdown",
   "metadata": {},
   "source": [
    "Note que solo se sustituyeron la primera ocurrencia de cada línea. Si se requieren cambiar todas las ocurrencias en cada línea se usa `g` para indicar sustitución global:"
   ]
  },
  {
   "cell_type": "code",
   "execution_count": 13,
   "metadata": {
    "scrolled": true
   },
   "outputs": [
    {
     "name": "stdout",
     "output_type": "stream",
     "text": [
      "FieldA, FieldD, FieldE, FieldG\n",
      "   2, x, 2x, 2xG\n",
      "   2, Y, 2Y, 2YG \n",
      "   3, Y, 3Y, 3YG\n",
      "   3, x, 3x, 3xG\n",
      "   4, Z, 4Z, 3xG\n"
     ]
    }
   ],
   "source": [
    "%%sh\n",
    "## Cambia todas las ocurrencias de X por x\n",
    "sed 's/X/x/g' out.1"
   ]
  },
  {
   "cell_type": "markdown",
   "metadata": {},
   "source": [
    "La opción `y` es útil para transformar el registro en el orden en el que se indique en la expresión regular; por ejemplo, se requiere cambiar sistemáticamente las `X` por `x` y las `Y` por `y`."
   ]
  },
  {
   "cell_type": "code",
   "execution_count": 14,
   "metadata": {},
   "outputs": [
    {
     "name": "stdout",
     "output_type": "stream",
     "text": [
      "FieldA, FieldD, FieldE, FieldG\n",
      "   2, x, 2x, 2xG\n",
      "   2, y, 2y, 2yG \n",
      "   3, y, 3y, 3yG\n",
      "   3, x, 3x, 3xG\n",
      "   4, Z, 4Z, 3xG\n"
     ]
    }
   ],
   "source": [
    "%%sh\n",
    "sed 'y/XY/xy/' out.1 "
   ]
  },
  {
   "cell_type": "markdown",
   "metadata": {},
   "source": [
    "Se pueden realizar sustituciones de acuerdo con las veces que se encuentre el patrón en la linea; por ejemplo, se requiere sustituir las `X` por el simbolo `#` en el archivo pero solo para la segunda columna en donde se encuentren letras `X`."
   ]
  },
  {
   "cell_type": "code",
   "execution_count": 15,
   "metadata": {},
   "outputs": [
    {
     "name": "stdout",
     "output_type": "stream",
     "text": [
      "FieldA, FieldD, FieldE, FieldG\n",
      "   2, X, 2#, 2XG\n",
      "   2, Y, 2Y, 2YG \n",
      "   3, Y, 3Y, 3YG\n",
      "   3, X, 3#, 3XG\n",
      "   4, Z, 4Z, 3XG\n"
     ]
    }
   ],
   "source": [
    "%%sh\n",
    "sed 's/X/#/2' out.1"
   ]
  },
  {
   "cell_type": "markdown",
   "metadata": {},
   "source": [
    "La opción `2g` indica que se reemplace cuando encuentre el patrón por segunda vez y en adelante."
   ]
  },
  {
   "cell_type": "code",
   "execution_count": 16,
   "metadata": {
    "scrolled": true
   },
   "outputs": [
    {
     "name": "stdout",
     "output_type": "stream",
     "text": [
      "FieldA, FieldD, FieldE, FieldG\n",
      "   2, X, 2xx, 2xxG\n",
      "   2, Y, 2Y, 2YG \n",
      "   3, Y, 3Y, 3YG\n",
      "   3, X, 3xx, 3xxG\n",
      "   4, Z, 4Z, 3XG\n"
     ]
    }
   ],
   "source": [
    "%%sh\n",
    "sed 's/X/xx/2g' out.1"
   ]
  },
  {
   "cell_type": "markdown",
   "metadata": {},
   "source": [
    "El simbolo `&` se usa en una expresión regular para indicar la cadena de texto reconocida. Es decir, el símbolo `&` es reemplazado por la cadena de texto reconocida; por ejemplo, se requiere tener las letras `X` entre llaves para la linea 5."
   ]
  },
  {
   "cell_type": "code",
   "execution_count": 17,
   "metadata": {},
   "outputs": [
    {
     "name": "stdout",
     "output_type": "stream",
     "text": [
      "FieldA, FieldD, FieldE, FieldG\n",
      "   2, X, 2X, 2XG\n",
      "   2, Y, 2Y, 2YG \n",
      "   3, Y, 3Y, 3YG\n",
      "   3, {X}, 3{X}, 3{X}G\n",
      "   4, Z, 4Z, 3XG\n"
     ]
    }
   ],
   "source": [
    "%%sh\n",
    "sed '5 s/X/{&}/g' out.1"
   ]
  },
  {
   "cell_type": "markdown",
   "metadata": {},
   "source": [
    "Sea el siguiente archivo:"
   ]
  },
  {
   "cell_type": "code",
   "execution_count": 18,
   "metadata": {},
   "outputs": [],
   "source": [
    "%%sh\n",
    "cat > out.1 <<EOF\n",
    "1980-JAN-1+1:0:1.134\n",
    "1980-JAN-5+1:0:1.12\n",
    "1982-JAN-13+10:12:42.33\n",
    "EOF"
   ]
  },
  {
   "cell_type": "markdown",
   "metadata": {},
   "source": [
    "Se desea formatear la fecha y la hora, es decir, la primera línea:\n",
    "\n",
    "```\n",
    "1980-JAN-1+1:0:1.134\n",
    "```\n",
    "\n",
    "debe cambiarse por:\n",
    "\n",
    "```\n",
    "1980-JAN-01 01:00:01\n",
    "```\n"
   ]
  },
  {
   "cell_type": "markdown",
   "metadata": {},
   "source": [
    "El primer paso consiste en agregar el cero a los números de día con un solo dígito."
   ]
  },
  {
   "cell_type": "code",
   "execution_count": 19,
   "metadata": {},
   "outputs": [
    {
     "name": "stdout",
     "output_type": "stream",
     "text": [
      "1980-JAN-01+1:0:1.134\n",
      "1980-JAN-05+1:0:1.12\n",
      "1982-JAN-13+10:12:42.33\n"
     ]
    }
   ],
   "source": [
    "%%sh\n",
    "sed 's/-\\([0-9]\\)+/-0\\1+/' out.1 > out.2\n",
    "cat out.2"
   ]
  },
  {
   "cell_type": "markdown",
   "metadata": {},
   "source": [
    "La explicación del comando anterior es la siguiente. El patrón de entrada está conformado por los siguientes elementos:\n",
    "\n",
    "* El caracter `-`.\n",
    "* Un dígito entre 0 y 9 (patrón `[0-9]`). Las secuencias `\\(` y `\\)` especifican que el dígito reconocido debe recordarse. Pueden existir varias cadenas a recordar; la primera cadena es `\\1`, la segunda cadena es `\\2` y así sucesivamente.\n",
    "* El caracter `+`.\n",
    "\n",
    "El patrón de salida indica que:\n",
    "\n",
    "* Se imprime el caracter `-`.\n",
    "* Luego el caracter `0`.\n",
    "* A continuación el dígito reconocido `\\1`.\n"
   ]
  },
  {
   "cell_type": "markdown",
   "metadata": {},
   "source": [
    "Se reemplaza el `+` por un espacio en blanco."
   ]
  },
  {
   "cell_type": "code",
   "execution_count": 20,
   "metadata": {},
   "outputs": [
    {
     "name": "stdout",
     "output_type": "stream",
     "text": [
      "1980-JAN-01 1:0:1.134\n",
      "1980-JAN-05 1:0:1.12\n",
      "1982-JAN-13 10:12:42.33\n"
     ]
    }
   ],
   "source": [
    "%%sh\n",
    "sed 's/+/ /' out.2 > out.3\n",
    "cat out.3"
   ]
  },
  {
   "cell_type": "markdown",
   "metadata": {},
   "source": [
    "Se agrega el `0` a las horas. La expresión regular indica que es un espacio en blanco seguido de un dígito, seguido de `:`."
   ]
  },
  {
   "cell_type": "code",
   "execution_count": 21,
   "metadata": {},
   "outputs": [
    {
     "name": "stdout",
     "output_type": "stream",
     "text": [
      "1980-JAN-01 01:0:1.134\n",
      "1980-JAN-05 01:0:1.12\n",
      "1982-JAN-13 10:12:42.33\n"
     ]
    }
   ],
   "source": [
    "%%sh\n",
    "sed 's/ \\([0-9]\\):/ 0\\1:/' out.3 > out.4\n",
    "cat out.4"
   ]
  },
  {
   "cell_type": "markdown",
   "metadata": {},
   "source": [
    "Se agrega el `0` a los minutos."
   ]
  },
  {
   "cell_type": "code",
   "execution_count": 22,
   "metadata": {},
   "outputs": [
    {
     "name": "stdout",
     "output_type": "stream",
     "text": [
      "1980-JAN-01 01:00:1.134\n",
      "1980-JAN-05 01:00:1.12\n",
      "1982-JAN-13 10:12:42.33\n"
     ]
    }
   ],
   "source": [
    "%%sh\n",
    "sed 's/:\\([0-9]\\):/:0\\1:/' out.4 > out.5\n",
    "cat out.5"
   ]
  },
  {
   "cell_type": "markdown",
   "metadata": {},
   "source": [
    "Se agrega el `0` a los segundos."
   ]
  },
  {
   "cell_type": "code",
   "execution_count": 23,
   "metadata": {},
   "outputs": [
    {
     "name": "stdout",
     "output_type": "stream",
     "text": [
      "1980-JAN-01 01:00:01.134\n",
      "1980-JAN-05 01:00:01.12\n",
      "1982-JAN-13 10:12:42.33\n"
     ]
    }
   ],
   "source": [
    "%%sh\n",
    "sed 's/:\\([0-9]\\)\\./:0\\1./' out.5 > out.6\n",
    "cat out.6"
   ]
  },
  {
   "cell_type": "markdown",
   "metadata": {},
   "source": [
    "Se elimina la parte decimal de los segundos"
   ]
  },
  {
   "cell_type": "code",
   "execution_count": 24,
   "metadata": {
    "scrolled": true
   },
   "outputs": [
    {
     "name": "stdout",
     "output_type": "stream",
     "text": [
      "1980-JAN-01 01:00:01\n",
      "1980-JAN-05 01:00:01\n",
      "1982-JAN-13 10:12:42\n"
     ]
    }
   ],
   "source": [
    "%%sh\n",
    "sed 's/\\.[0-9][0-9]*//' out.6 > out.7\n",
    "cat out.7"
   ]
  },
  {
   "cell_type": "markdown",
   "metadata": {},
   "source": [
    "La notación `\\.[0-9][0-9]*` indica que el patrón es un punto (`\\.`) seguido de un dígito (`[0-9]`), seguido de cero, uno o más dígitos (`[0-9]*`)."
   ]
  },
  {
   "cell_type": "markdown",
   "metadata": {},
   "source": [
    "Adición de contenido\n",
    "--"
   ]
  },
  {
   "cell_type": "markdown",
   "metadata": {},
   "source": [
    "Sea el siguiente archivo:"
   ]
  },
  {
   "cell_type": "code",
   "execution_count": 25,
   "metadata": {},
   "outputs": [],
   "source": [
    "%%sh\n",
    "cat > out.1 <<EOF\n",
    "AAAA 1234 SI\n",
    "BBBB 5678 SI\n",
    "CCCC 9012 NO\n",
    "EOF"
   ]
  },
  {
   "cell_type": "markdown",
   "metadata": {},
   "source": [
    "\n",
    "* La función `sed` junto con la opción `i`, permiten agregar lineas **antes** de un texto que es reconocido mediante expresión regular. De la misma forma, la opción `a` permite agregar lineas **después** del texto reconocido.\n",
    "\n",
    "\n",
    "* La función `sed` junto con la opción `c`, permiten cambiar la información de un registro que cumpla un patrón específico. "
   ]
  },
  {
   "cell_type": "markdown",
   "metadata": {},
   "source": [
    "Se requiere incluir antes del registro `BBBB`, la siguiente información:\n",
    "\n",
    "`EEEE 0000 SI`"
   ]
  },
  {
   "cell_type": "code",
   "execution_count": 26,
   "metadata": {
    "scrolled": true
   },
   "outputs": [
    {
     "name": "stdout",
     "output_type": "stream",
     "text": [
      "EEEE 0000 SI/\n",
      "AAAA 1234 SI\n",
      "BBBB 5678 SI\n",
      "CCCC 9012 NO\n"
     ]
    }
   ],
   "source": [
    "%%sh\n",
    "sed '/AAAA/ i\\EEEE 0000 SI/' out.1"
   ]
  },
  {
   "cell_type": "markdown",
   "metadata": {},
   "source": [
    "Se requiere cambiar el registro `BBBB` por la siguiente información:\n",
    "\n",
    "`XXXX 1111 SI`"
   ]
  },
  {
   "cell_type": "code",
   "execution_count": 27,
   "metadata": {},
   "outputs": [
    {
     "name": "stdout",
     "output_type": "stream",
     "text": [
      "AAAA 1234 SI\n",
      "XXXX 1111 SI\n",
      "CCCC 9012 NO\n"
     ]
    }
   ],
   "source": [
    "%%sh\n",
    "sed '/BBBB/ c XXXX 1111 SI' out.1"
   ]
  },
  {
   "cell_type": "markdown",
   "metadata": {},
   "source": [
    "Creación de nuevos campos\n",
    "--"
   ]
  },
  {
   "cell_type": "markdown",
   "metadata": {},
   "source": [
    "Sea el siguiente archivo:"
   ]
  },
  {
   "cell_type": "code",
   "execution_count": 28,
   "metadata": {},
   "outputs": [],
   "source": [
    "%%sh\n",
    "cat > out.1 <<EOF\n",
    "Date, Year, CustomerID, Value\n",
    "2013-01-12, 2013, 1, 100\n",
    "2014-05-12, 2014, 1, 100\n",
    "2013-02-25, 2013, 2, 200\n",
    "2013-04-04, 2013, 1, 100\n",
    "2013-06-21, 2013, 2, 200\n",
    "2014-05-12, 2014, 12, 100\n",
    "2014-05-12, 2014, 2, 200\n",
    "2013-02-28, 2013, 11, 100\n",
    "2013-08-02, 2013, 1, 100\n",
    "EOF"
   ]
  },
  {
   "cell_type": "markdown",
   "metadata": {},
   "source": [
    "Se desea agregar un nuevo campo llamado `Year-CoustomerID` que contiene una clave compuesta conformada por la concatenación de estos dos campos; por ejemplo, el valor para el primer registro sería `2013-1`. El siguiente comando hace el cambio del reglón dos en adelante:"
   ]
  },
  {
   "cell_type": "code",
   "execution_count": 29,
   "metadata": {},
   "outputs": [
    {
     "name": "stdout",
     "output_type": "stream",
     "text": [
      "Date, Year, CustomerID, Value\n",
      "2013-01-12, 2013, 1, 2013-1, 100\n",
      "2014-05-12, 2014, 1, 2014-1, 100\n",
      "2013-02-25, 2013, 2, 2013-2, 200\n",
      "2013-04-04, 2013, 1, 2013-1, 100\n",
      "2013-06-21, 2013, 2, 2013-2, 200\n",
      "2014-05-12, 2014, 12, 2014-12, 100\n",
      "2014-05-12, 2014, 2, 2014-2, 200\n",
      "2013-02-28, 2013, 11, 2013-11, 100\n",
      "2013-08-02, 2013, 1, 2013-1, 100\n"
     ]
    }
   ],
   "source": [
    "%%sh\n",
    "sed 's/ \\([0-9][0-9][0-9][0-9]\\), \\([0-9]*\\)/ \\1, \\2, \\1-\\2/' out.1 > out.2\n",
    "cat out.2"
   ]
  },
  {
   "cell_type": "markdown",
   "metadata": {},
   "source": [
    "Para realizar el cambio en la primera línea (el encabezado) se usaría el siguiente comando:"
   ]
  },
  {
   "cell_type": "code",
   "execution_count": 30,
   "metadata": {},
   "outputs": [
    {
     "name": "stdout",
     "output_type": "stream",
     "text": [
      "Date, Year, CustomerID, Year-CustomerID, Value\n",
      "2013-01-12, 2013, 1, 2013-1, 100\n",
      "2014-05-12, 2014, 1, 2014-1, 100\n",
      "2013-02-25, 2013, 2, 2013-2, 200\n",
      "2013-04-04, 2013, 1, 2013-1, 100\n",
      "2013-06-21, 2013, 2, 2013-2, 200\n",
      "2014-05-12, 2014, 12, 2014-12, 100\n",
      "2014-05-12, 2014, 2, 2014-2, 200\n",
      "2013-02-28, 2013, 11, 2013-11, 100\n",
      "2013-08-02, 2013, 1, 2013-1, 100\n"
     ]
    }
   ],
   "source": [
    "%%sh\n",
    "sed 's/\\([a-zA-Z]*\\), \\([a-zA-Z]*\\), \\([a-zA-Z]*\\), \\([a-zA-Z]*\\)/\\1, \\2, \\3, \\2-\\3, \\4/' out.2"
   ]
  },
  {
   "cell_type": "markdown",
   "metadata": {},
   "source": [
    "Resumen\n",
    "--"
   ]
  },
  {
   "cell_type": "markdown",
   "metadata": {},
   "source": [
    "```bash\n",
    "## imprime las líneas 3 a 6\n",
    "sed -n '3,6p' out.1\n",
    "\n",
    "## de la linea 25 al final\n",
    "sed -n '25,$ p' out.1\n",
    "\n",
    "## Imprime las lineas que contengan un 1\n",
    "sed -n '/1/p'  out.1\n",
    "\n",
    "## Imprime las líneas que tengan un 1 al inicio\n",
    "sed -n '/^1/p' out.1\n",
    "\n",
    "## Imprime las líneas que tengaun un 1 al final\n",
    "sed -n '/1$/p'  out.1\n",
    "\n",
    "# Imprime todas las lineas menos de la 3 a la 26\n",
    "sed \"3,26 d\" out.1 \n",
    "\n",
    "## Reemplaza la primera ocurrencia de X por x en cada linea\n",
    "sed 's/X/x/' out.1\n",
    "\n",
    "## Reemplaza todas las ocurrencias de X por x\n",
    "sed 's/X/x/g' out.1\n",
    "\n",
    "## Reemplaza la segunda ocurrencias de X por x\n",
    "sed 's/X/#/2' out.1\n",
    "\n",
    "## Reemplaza de la segunda ocurrencias de X por x en adelante\n",
    "sed 's/X/#/2' out.1\n",
    "\n",
    "## Reemplaza X por {X} solo en la 5a linea\n",
    "sed '5 s/X/{&}/g' out.1\n",
    "\n",
    "```"
   ]
  },
  {
   "cell_type": "markdown",
   "metadata": {},
   "source": [
    "---"
   ]
  },
  {
   "cell_type": "markdown",
   "metadata": {},
   "source": [
    "**Borrado de los archivos temporales creados**"
   ]
  },
  {
   "cell_type": "code",
   "execution_count": 31,
   "metadata": {},
   "outputs": [],
   "source": [
    "!rm out.*"
   ]
  }
 ],
 "metadata": {
  "kernel_info": {
   "name": "bash"
  },
  "kernelspec": {
   "display_name": "Python 3 (ipykernel)",
   "language": "python",
   "name": "python3"
  },
  "language_info": {
   "codemirror_mode": {
    "name": "ipython",
    "version": 3
   },
   "file_extension": ".py",
   "mimetype": "text/x-python",
   "name": "python",
   "nbconvert_exporter": "python",
   "pygments_lexer": "ipython3",
   "version": "3.8.10"
  },
  "nteract": {
   "version": "0.12.3"
  }
 },
 "nbformat": 4,
 "nbformat_minor": 4
}
