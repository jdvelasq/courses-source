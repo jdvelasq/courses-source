{
 "cells": [
  {
   "cell_type": "markdown",
   "metadata": {},
   "source": [
    "Ejecución de consultas SQL en Bash usando csvkit\n",
    "===========================================================\n",
    "\n",
    "* *30 min* | Última modificación: Diciembre 17, 2019."
   ]
  },
  {
   "cell_type": "markdown",
   "metadata": {},
   "source": [
    "## Instalación de csvkit"
   ]
  },
  {
   "cell_type": "markdown",
   "metadata": {},
   "source": [
    "`csvkit` es una libreria de Python que permite ejecutar consultas SQL sobre archivos en formato CSV. Este lenguaje es utilizado en los motores de bases de datos para acceder a la información de manera práctica y resumida. Se abordará unicamente con efectos de consulta, no para administración de sistemas gestores de bases de datos."
   ]
  },
  {
   "cell_type": "markdown",
   "metadata": {},
   "source": [
    "Esta herramienta se instala a través del siguiente comando en Bash para los sistemas operativos basados en Linux:\n",
    "```bash\n",
    "sudo apt-get install -y csvkit\n",
    "```    "
   ]
  },
  {
   "cell_type": "markdown",
   "metadata": {},
   "source": [
    "## Documentación oficial\n",
    "\n",
    "La documentación oficial del paquete está disponible en https://csvkit.readthedocs.io/en/1.0.3/index.html"
   ]
  },
  {
   "cell_type": "markdown",
   "metadata": {},
   "source": [
    "## Tutorial corto\n",
    "\n",
    "A continuación se presenta un tutorial corto de las principales funcionalidades de `csvkit`."
   ]
  },
  {
   "cell_type": "markdown",
   "metadata": {},
   "source": [
    "La función [in2csv](https://csvkit.readthedocs.io/en/1.0.3/tutorial/1_getting_started.html#in2csv-the-excel-killer) permite convertir diferentes formatos a CSV."
   ]
  },
  {
   "cell_type": "markdown",
   "metadata": {},
   "source": [
    "Para los siguientes ejemplos se usará el archivo `persons.csv`:"
   ]
  },
  {
   "cell_type": "code",
   "execution_count": 1,
   "metadata": {},
   "outputs": [],
   "source": [
    "%%sh\n",
    "cat > persons.csv <<- FILE\n",
    "id,firstname,surname,birthday,color,quantity\n",
    "1,Vivian,Hamilton,1971-07-08,green,1\n",
    "2,Karen,Holcomb,1974-05-23,green,4\n",
    "3,Cody,Garrett,1973-04-22,orange,1\n",
    "4,Roth,Fry,1975-01-29,black,1\n",
    "5,Zoe,Conway,1974-07-03,blue,2\n",
    "6,Gretchen,Kinney,1974-10-18,viole,1\n",
    "7,Driscoll,Klein,1970-10-05,blue,5\n",
    "8,Karyn,Diaz,1969-02-24,red,1\n",
    "9,Merritt,Guy,1974-10-17,indigo,4\n",
    "10,Kylan,Sexton,1975-02-28,black,4\n",
    "11,Jordan,Estes,1969-12-07,indigo,4\n",
    "12,Hope,Coffey,1973-12-24,green,5\n",
    "13,Vivian,Crane,1970-08-27,gray,5\n",
    "14,Clio,Noel,1972-12-12,red,5\n",
    "15,Hope,Silva,1970-07-01,blue,5\n",
    "16,Ayanna,Jarvis,1974-02-11,orange,5\n",
    "17,Chanda,Boyer,1973-04-01,green,4\n",
    "18,Chadwick,Knight,1973-04-29,yellow,1\n",
    "FILE"
   ]
  },
  {
   "cell_type": "markdown",
   "metadata": {},
   "source": [
    "### Obtención de los nombres de las columnas"
   ]
  },
  {
   "cell_type": "markdown",
   "metadata": {},
   "source": [
    "`csvcut` es una función que permite gestionar por columnas y filtrar y editar los campos. La opción `-n` imprime los nombres de las columnas y sus respectivos indices."
   ]
  },
  {
   "cell_type": "code",
   "execution_count": 2,
   "metadata": {},
   "outputs": [
    {
     "name": "stdout",
     "output_type": "stream",
     "text": [
      "  1: id\n",
      "  2: firstname\n",
      "  3: surname\n",
      "  4: birthday\n",
      "  5: color\n",
      "  6: quantity\n"
     ]
    }
   ],
   "source": [
    "%%sh\n",
    "csvcut -n persons.csv"
   ]
  },
  {
   "cell_type": "markdown",
   "metadata": {},
   "source": [
    "### Selección de columnas específicas"
   ]
  },
  {
   "cell_type": "markdown",
   "metadata": {},
   "source": [
    "La opción `-c` permite obtener todos los registros para ciertas columnas de interés."
   ]
  },
  {
   "cell_type": "code",
   "execution_count": 3,
   "metadata": {
    "scrolled": true
   },
   "outputs": [
    {
     "name": "stdout",
     "output_type": "stream",
     "text": [
      "firstname,color\n",
      "Vivian,green\n",
      "Karen,green\n",
      "Cody,orange\n",
      "Roth,black\n",
      "Zoe,blue\n",
      "Gretchen,viole\n",
      "Driscoll,blue\n",
      "Karyn,red\n",
      "Merritt,indigo\n",
      "Kylan,black\n",
      "Jordan,indigo\n",
      "Hope,green\n",
      "Vivian,gray\n",
      "Clio,red\n",
      "Hope,blue\n",
      "Ayanna,orange\n",
      "Chanda,green\n",
      "Chadwick,yellow\n"
     ]
    }
   ],
   "source": [
    "%%sh\n",
    "csvcut -c firstname,color persons.csv"
   ]
  },
  {
   "cell_type": "markdown",
   "metadata": {},
   "source": [
    "### Realización de consultas"
   ]
  },
  {
   "cell_type": "markdown",
   "metadata": {},
   "source": [
    "`csvsql` es la función que permite ejercutar comandos SQL sobre archivos CSV. El parámetro `--query` del comando `csvsql` permite ejecutar cualquier consulta del tipo DML (se usan para consultar, filtrar y ordenar datos) sobre un archivo usando el lenguaje SQL. Los elementos escenciales para este tipo de consulta son:\n",
    "\n",
    "    SELECT             <campos o columnas en la tabla a visualizar> \n",
    "    SELECT DISTINCT    <valores únicos en los campos>\n",
    "    FROM               <tabla o consulta> \n",
    "    WHERE              <condiciones sobre las columnas de la tabla> \n",
    "    AND/OR             <comando para indicar unión o intersección de condiciones>\n",
    "    AS                 <renombrar una columna o nuevo campo>\n",
    "    GROUP BY           <campos por los cuales se formaran conjuntos> \n",
    "    ORDER BY           <ordernar por un conjunto de columnas>\n",
    "    LIMIT              <límite de filas que se mostratrán>\n",
    "\n",
    "A continuación se presentan varios ejemplos."
   ]
  },
  {
   "cell_type": "code",
   "execution_count": 4,
   "metadata": {},
   "outputs": [
    {
     "name": "stdout",
     "output_type": "stream",
     "text": [
      "id,firstname\n",
      "1,Vivian\n",
      "2,Karen\n",
      "3,Cody\n",
      "4,Roth\n",
      "5,Zoe\n",
      "6,Gretchen\n",
      "7,Driscoll\n",
      "8,Karyn\n",
      "9,Merritt\n",
      "10,Kylan\n",
      "11,Jordan\n",
      "12,Hope\n",
      "13,Vivian\n",
      "14,Clio\n",
      "15,Hope\n",
      "16,Ayanna\n",
      "17,Chanda\n",
      "18,Chadwick\n"
     ]
    }
   ],
   "source": [
    "%%sh\n",
    "csvsql --query 'select id,firstname from persons' persons.csv "
   ]
  },
  {
   "cell_type": "code",
   "execution_count": 5,
   "metadata": {},
   "outputs": [
    {
     "name": "stdout",
     "output_type": "stream",
     "text": [
      "color\n",
      "green\n",
      "orange\n",
      "black\n",
      "blue\n",
      "viole\n",
      "red\n",
      "indigo\n",
      "gray\n",
      "yellow\n"
     ]
    }
   ],
   "source": [
    "%%sh\n",
    "csvsql --query 'select distinct color from persons' persons.csv "
   ]
  },
  {
   "cell_type": "code",
   "execution_count": 6,
   "metadata": {},
   "outputs": [
    {
     "name": "stdout",
     "output_type": "stream",
     "text": [
      "color\n",
      "green\n",
      "orange\n",
      "black\n",
      "blue\n",
      "viole\n"
     ]
    }
   ],
   "source": [
    "%%sh\n",
    "csvsql --query 'select distinct color from persons limit 5' persons.csv"
   ]
  },
  {
   "cell_type": "markdown",
   "metadata": {},
   "source": [
    "## Actividad\n",
    "\n",
    "Para el archivo `persons.csv` ejecute las siguientes tareas:\n",
    "\n",
    "1. Ordene el archivo por el campo `surname`.\n",
    "2. Obtenga los registros con `color` igual a `blue`.\n",
    "3. Obtenga los registros donde el `color` empieza por `o`."
   ]
  },
  {
   "cell_type": "code",
   "execution_count": 1,
   "metadata": {},
   "outputs": [],
   "source": [
    "!rm *.csv"
   ]
  }
 ],
 "metadata": {
  "kernel_info": {
   "name": "bash"
  },
  "kernelspec": {
   "display_name": "Python 3",
   "language": "python",
   "name": "python3"
  },
  "language_info": {
   "codemirror_mode": {
    "name": "ipython",
    "version": 3
   },
   "file_extension": ".py",
   "mimetype": "text/x-python",
   "name": "python",
   "nbconvert_exporter": "python",
   "pygments_lexer": "ipython3",
   "version": "3.6.9"
  },
  "nteract": {
   "version": "0.12.3"
  }
 },
 "nbformat": 4,
 "nbformat_minor": 4
}
