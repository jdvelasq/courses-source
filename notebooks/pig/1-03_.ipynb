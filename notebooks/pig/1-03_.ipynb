{
 "cells": [
  {
   "cell_type": "markdown",
   "metadata": {},
   "source": [
    "Programación Basica\n",
    "===\n",
    "\n",
    "* 60 min | Última modificación: Noviembre 07, 2019"
   ]
  },
  {
   "cell_type": "markdown",
   "metadata": {},
   "source": [
    "Cell magic `%%pig`\n",
    "---"
   ]
  },
  {
   "cell_type": "code",
   "execution_count": 1,
   "metadata": {},
   "outputs": [],
   "source": [
    "from IPython.core.magic import Magics, cell_magic, line_magic, magics_class\n",
    "from pexpect import spawn\n",
    "\n",
    "TIMEOUT = 60\n",
    "PROG = \"pig\"\n",
    "PROMPT = [\"\\r\\n>> \", \"\\r\\ngrunt> \"]\n",
    "DISCARD = [\"INFO  org.apache\", \"WARN  org.apache\"]\n",
    "QUIT = \"quit\"\n",
    "\n",
    "\n",
    "@magics_class\n",
    "class Magic(Magics):\n",
    "    def __init__(self, shell):\n",
    "        super().__init__(shell)\n",
    "        self.app = spawn(PROG, timeout=60)\n",
    "        self.app.expect(PROMPT)\n",
    "\n",
    "    @cell_magic\n",
    "    def pig(self, line, cell):\n",
    "        cell_lines = [cell_line.strip() for cell_line in cell.split(\"\\n\")]\n",
    "        cell_lines = [cell_line for cell_line in cell_lines if cell_line != \"\"]\n",
    "        for cell_line in cell_lines:\n",
    "            self.app.sendline(cell_line)\n",
    "            self.app.expect(PROMPT, timeout=TIMEOUT)\n",
    "            output = self.app.before.decode()\n",
    "            output = output.replace(\"\\r\\n\", \"\\n\")\n",
    "            output = output.split(\"\\n\")\n",
    "            output = [output_line.strip() for output_line in output]\n",
    "            for output_line in output:\n",
    "                if output_line not in cell_lines:\n",
    "                    if not any(word in output_line for word in DISCARD):\n",
    "                        print(output_line)\n",
    "        return None\n",
    "\n",
    "    @line_magic\n",
    "    def quit(self, line):\n",
    "        self.app.sendline(QUIT)\n",
    "\n",
    "\n",
    "def load_ipython_extension(ip):\n",
    "    ip.register_magics(Magic(ip))\n",
    "\n",
    "\n",
    "load_ipython_extension(ip=get_ipython())"
   ]
  },
  {
   "cell_type": "markdown",
   "metadata": {},
   "source": [
    "### LOAD\n",
    "\n",
    "El nombre de archivo soporta wilcards; por ejemplo:\n",
    "\n",
    "    x = LOAD 'files/*.txt';\n",
    "    \n",
    "leerá todos los archivos terminados en `.txt`. Por defecto, se espera que los campos en los archivos estén separados por comas."
   ]
  },
  {
   "cell_type": "code",
   "execution_count": 2,
   "metadata": {},
   "outputs": [
    {
     "name": "stdout",
     "output_type": "stream",
     "text": [
      "Writing /tmp/persons.csv\n"
     ]
    }
   ],
   "source": [
    "%%writefile /tmp/persons.csv\n",
    "1,Vivian,Hamilton,1971-07-08,green,1\n",
    "2,Karen,Holcomb,1974-05-23,green,4\n",
    "3,Cody,Garrett,1973-04-22,orange,1\n",
    "4,Roth,Fry,1975-01-29,black,1\n",
    "5,Zoe,Conway,1974-07-03,blue,2\n",
    "6,Gretchen,Kinney,1974-10-18,viole,1\n",
    "7,Driscoll,Klein,1970-10-05,blue,5\n",
    "8,Karyn,Diaz,1969-02-24,red,1\n",
    "9,Merritt,Guy,1974-10-17,indigo,4\n",
    "10,Kylan,Sexton,1975-02-28,black,4\n",
    "11,Jordan,Estes,1969-12-07,indigo,4\n",
    "12,Hope,Coffey,1973-12-24,green,5\n",
    "13,Vivian,Crane,1970-08-27,gray,5\n",
    "14,Clio,Noel,1972-12-12,red,5\n",
    "15,Hope,Silva,1970-07-01,blue,5\n",
    "16,Ayanna,Jarvis,1974-02-11,orange,5\n",
    "17,Chanda,Boyer,1973-04-01,green,4\n",
    "18,Chadwick,Knight,1973-04-29,yellow,1"
   ]
  },
  {
   "cell_type": "code",
   "execution_count": 3,
   "metadata": {},
   "outputs": [],
   "source": [
    "%%pig\n",
    "fs -put /tmp/persons.csv "
   ]
  },
  {
   "cell_type": "code",
   "execution_count": 4,
   "metadata": {
    "scrolled": true
   },
   "outputs": [
    {
     "name": "stdout",
     "output_type": "stream",
     "text": [
      "(1,Vivian,Hamilton,1971-07-08,green,1)\n",
      "(2,Karen,Holcomb,1974-05-23,green,4)\n",
      "(3,Cody,Garrett,1973-04-22,orange,1)\n",
      "(4,Roth,Fry,1975-01-29,black,1)\n",
      "(5,Zoe,Conway,1974-07-03,blue,2)\n",
      "(6,Gretchen,Kinney,1974-10-18,viole,1)\n",
      "(7,Driscoll,Klein,1970-10-05,blue,5)\n",
      "(8,Karyn,Diaz,1969-02-24,red,1)\n",
      "(9,Merritt,Guy,1974-10-17,indigo,4)\n",
      "(10,Kylan,Sexton,1975-02-28,black,4)\n",
      "(11,Jordan,Estes,1969-12-07,indigo,4)\n",
      "(12,Hope,Coffey,1973-12-24,green,5)\n",
      "(13,Vivian,Crane,1970-08-27,gray,5)\n",
      "(14,Clio,Noel,1972-12-12,red,5)\n",
      "(15,Hope,Silva,1970-07-01,blue,5)\n",
      "(16,Ayanna,Jarvis,1974-02-11,orange,5)\n",
      "(17,Chanda,Boyer,1973-04-01,green,4)\n",
      "(18,Chadwick,Knight,1973-04-29,yellow,1)\n"
     ]
    }
   ],
   "source": [
    "%%pig\n",
    "-- \n",
    "-- Carga el archivo desde el disco duro\n",
    "--\n",
    "u = LOAD 'persons.csv' USING PigStorage(',') \n",
    "    AS (id:INT, \n",
    "        firstname:CHARARRAY, \n",
    "        surname:CHARARRAY, \n",
    "        birtday:CHARARRAY, \n",
    "        color:CHARARRAY, \n",
    "        quantity:INT);\n",
    "DUMP u;"
   ]
  },
  {
   "cell_type": "markdown",
   "metadata": {},
   "source": [
    "### STORE"
   ]
  },
  {
   "cell_type": "code",
   "execution_count": 5,
   "metadata": {},
   "outputs": [],
   "source": [
    "%%pig\n",
    "STORE u INTO 'output';"
   ]
  },
  {
   "cell_type": "code",
   "execution_count": 6,
   "metadata": {},
   "outputs": [
    {
     "name": "stdout",
     "output_type": "stream",
     "text": [
      "-rw-r--r--   1 root supergroup          0 2022-05-17 02:08 output/_SUCCESS\n",
      "-rw-r--r--   1 root supergroup        616 2022-05-17 02:08 output/part-m-00000\n"
     ]
    }
   ],
   "source": [
    "!hadoop fs -ls output/*"
   ]
  },
  {
   "cell_type": "code",
   "execution_count": 7,
   "metadata": {},
   "outputs": [
    {
     "name": "stdout",
     "output_type": "stream",
     "text": [
      "1\tVivian\tHamilton\t1971-07-08\tgreen\t1\n",
      "2\tKaren\tHolcomb\t1974-05-23\tgreen\t4\n",
      "3\tCody\tGarrett\t1973-04-22\torange\t1\n",
      "4\tRoth\tFry\t1975-01-29\tblack\t1\n",
      "5\tZoe\tConway\t1974-07-03\tblue\t2\n",
      "6\tGretchen\tKinney\t1974-10-18\tviole\t1\n",
      "7\tDriscoll\tKlein\t1970-10-05\tblue\t5\n",
      "8\tKaryn\tDiaz\t1969-02-24\tred\t1\n",
      "9\tMerritt\tGuy\t1974-10-17\tindigo\t4\n",
      "10\tKylan\tSexton\t1975-02-28\tblack\t4\n"
     ]
    }
   ],
   "source": [
    "!hadoop fs -cat output/part-m-00000 | head"
   ]
  },
  {
   "cell_type": "code",
   "execution_count": 8,
   "metadata": {},
   "outputs": [
    {
     "name": "stdout",
     "output_type": "stream",
     "text": [
      "Deleted output/_SUCCESS\n",
      "Deleted output/part-m-00000\n"
     ]
    }
   ],
   "source": [
    "!hadoop fs -rm output/*  \n",
    "!hadoop fs -rmdir  output"
   ]
  },
  {
   "cell_type": "code",
   "execution_count": 9,
   "metadata": {},
   "outputs": [],
   "source": [
    "%%pig\n",
    "STORE u INTO 'output' USING PigStorage(';');"
   ]
  },
  {
   "cell_type": "code",
   "execution_count": 10,
   "metadata": {},
   "outputs": [
    {
     "name": "stdout",
     "output_type": "stream",
     "text": [
      "-rw-r--r--   1 root supergroup          0 2022-05-17 02:09 output/_SUCCESS\n",
      "-rw-r--r--   1 root supergroup        616 2022-05-17 02:09 output/part-m-00000\n"
     ]
    }
   ],
   "source": [
    "!hadoop fs -ls output/*"
   ]
  },
  {
   "cell_type": "code",
   "execution_count": 11,
   "metadata": {},
   "outputs": [
    {
     "name": "stdout",
     "output_type": "stream",
     "text": [
      "1;Vivian;Hamilton;1971-07-08;green;1\n",
      "2;Karen;Holcomb;1974-05-23;green;4\n",
      "3;Cody;Garrett;1973-04-22;orange;1\n",
      "4;Roth;Fry;1975-01-29;black;1\n",
      "5;Zoe;Conway;1974-07-03;blue;2\n",
      "6;Gretchen;Kinney;1974-10-18;viole;1\n",
      "7;Driscoll;Klein;1970-10-05;blue;5\n",
      "8;Karyn;Diaz;1969-02-24;red;1\n",
      "9;Merritt;Guy;1974-10-17;indigo;4\n",
      "10;Kylan;Sexton;1975-02-28;black;4\n"
     ]
    }
   ],
   "source": [
    "!hadoop fs -cat output/part-m-00000 | head"
   ]
  },
  {
   "cell_type": "code",
   "execution_count": 12,
   "metadata": {},
   "outputs": [
    {
     "name": "stdout",
     "output_type": "stream",
     "text": [
      "Deleted output/_SUCCESS\n",
      "Deleted output/part-m-00000\n"
     ]
    }
   ],
   "source": [
    "!hadoop fs -rm output/*  \n",
    "!hadoop fs -rmdir  output"
   ]
  },
  {
   "cell_type": "markdown",
   "metadata": {},
   "source": [
    "### FOREACH"
   ]
  },
  {
   "cell_type": "code",
   "execution_count": 13,
   "metadata": {},
   "outputs": [
    {
     "name": "stdout",
     "output_type": "stream",
     "text": [
      "(Vivian,Hamilton,1971-07-08,green,1)\n",
      "(Karen,Holcomb,1974-05-23,green,4)\n",
      "(Cody,Garrett,1973-04-22,orange,1)\n",
      "(Roth,Fry,1975-01-29,black,1)\n",
      "(Zoe,Conway,1974-07-03,blue,2)\n",
      "(Gretchen,Kinney,1974-10-18,viole,1)\n",
      "(Driscoll,Klein,1970-10-05,blue,5)\n",
      "(Karyn,Diaz,1969-02-24,red,1)\n",
      "(Merritt,Guy,1974-10-17,indigo,4)\n",
      "(Kylan,Sexton,1975-02-28,black,4)\n",
      "(Jordan,Estes,1969-12-07,indigo,4)\n",
      "(Hope,Coffey,1973-12-24,green,5)\n",
      "(Vivian,Crane,1970-08-27,gray,5)\n",
      "(Clio,Noel,1972-12-12,red,5)\n",
      "(Hope,Silva,1970-07-01,blue,5)\n",
      "(Ayanna,Jarvis,1974-02-11,orange,5)\n",
      "(Chanda,Boyer,1973-04-01,green,4)\n",
      "(Chadwick,Knight,1973-04-29,yellow,1)\n"
     ]
    }
   ],
   "source": [
    "%%pig\n",
    "--\n",
    "-- Los campos del archivo puden ser indicados por nombre \n",
    "-- o por posición iniciando en 0\n",
    "--\n",
    "v = FOREACH u GENERATE firstname, $2, $3..$5;\n",
    "DUMP v;"
   ]
  },
  {
   "cell_type": "code",
   "execution_count": 14,
   "metadata": {},
   "outputs": [
    {
     "name": "stdout",
     "output_type": "stream",
     "text": [
      "(20)\n",
      "(20)\n",
      "(10)\n",
      "(10)\n",
      "(10)\n",
      "(10)\n",
      "(10)\n",
      "(10)\n",
      "(10)\n",
      "(10)\n",
      "(10)\n",
      "(10)\n",
      "(10)\n",
      "(10)\n",
      "(10)\n",
      "(10)\n",
      "(10)\n",
      "(10)\n"
     ]
    }
   ],
   "source": [
    "%%pig\n",
    "--\n",
    "-- uso de condicionales \n",
    "--\n",
    "v = FOREACH u GENERATE ($0 > $5 ? 10 : 20) ;\n",
    "DUMP v;"
   ]
  },
  {
   "cell_type": "code",
   "execution_count": 15,
   "metadata": {},
   "outputs": [
    {
     "name": "stdout",
     "output_type": "stream",
     "text": [
      "(Vivian,1971-07-08)\n",
      "(Karen,1974-05-23)\n",
      "(Cody,1973-04-22)\n",
      "(Roth,1975-01-29)\n",
      "(Zoe,1974-07-03)\n",
      "(Gretchen,1974-10-18)\n",
      "(Driscoll,1970-10-05)\n",
      "(Karyn,1969-02-24)\n",
      "(Merritt,1974-10-17)\n",
      "(Kylan,1975-02-28)\n",
      "(Jordan,1969-12-07)\n",
      "(Hope,1973-12-24)\n",
      "(Vivian,1970-08-27)\n",
      "(Clio,1972-12-12)\n",
      "(Hope,1970-07-01)\n",
      "(Ayanna,1974-02-11)\n",
      "(Chanda,1973-04-01)\n",
      "(Chadwick,1973-04-29)\n"
     ]
    }
   ],
   "source": [
    "%%pig\n",
    "y = FOREACH u GENERATE $1, $3;\n",
    "DUMP y;"
   ]
  },
  {
   "cell_type": "code",
   "execution_count": 16,
   "metadata": {},
   "outputs": [
    {
     "name": "stdout",
     "output_type": "stream",
     "text": [
      "(VIVIAN)\n",
      "(KAREN)\n",
      "(CODY)\n",
      "(ROTH)\n",
      "(ZOE)\n",
      "(GRETCHEN)\n",
      "(DRISCOLL)\n",
      "(KARYN)\n",
      "(MERRITT)\n",
      "(KYLAN)\n",
      "(JORDAN)\n",
      "(HOPE)\n",
      "(VIVIAN)\n",
      "(CLIO)\n",
      "(HOPE)\n",
      "(AYANNA)\n",
      "(CHANDA)\n",
      "(CHADWICK)\n"
     ]
    }
   ],
   "source": [
    "%%pig\n",
    "y = FOREACH u GENERATE UPPER($1);\n",
    "DUMP y;"
   ]
  },
  {
   "cell_type": "code",
   "execution_count": 17,
   "metadata": {},
   "outputs": [
    {
     "name": "stdout",
     "output_type": "stream",
     "text": [
      "([Vivian#1971-07-08])\n",
      "([Karen#1974-05-23])\n",
      "([Cody#1973-04-22])\n",
      "([Roth#1975-01-29])\n",
      "([Zoe#1974-07-03])\n",
      "([Gretchen#1974-10-18])\n",
      "([Driscoll#1970-10-05])\n",
      "([Karyn#1969-02-24])\n",
      "([Merritt#1974-10-17])\n",
      "([Kylan#1975-02-28])\n",
      "([Jordan#1969-12-07])\n",
      "([Hope#1973-12-24])\n",
      "([Vivian#1970-08-27])\n",
      "([Clio#1972-12-12])\n",
      "([Hope#1970-07-01])\n",
      "([Ayanna#1974-02-11])\n",
      "([Chanda#1973-04-01])\n",
      "([Chadwick#1973-04-29])\n"
     ]
    }
   ],
   "source": [
    "%%pig\n",
    "y = FOREACH u GENERATE [$1, $3];\n",
    "DUMP y;"
   ]
  },
  {
   "cell_type": "markdown",
   "metadata": {},
   "source": [
    "### FILTER"
   ]
  },
  {
   "cell_type": "code",
   "execution_count": 18,
   "metadata": {},
   "outputs": [
    {
     "name": "stdout",
     "output_type": "stream",
     "text": [
      "(5,Zoe,Conway,1974-07-03,blue,2)\n",
      "(7,Driscoll,Klein,1970-10-05,blue,5)\n",
      "(15,Hope,Silva,1970-07-01,blue,5)\n"
     ]
    }
   ],
   "source": [
    "%%pig\n",
    "y = FILTER u BY $4 MATCHES 'blue';\n",
    "DUMP y;"
   ]
  },
  {
   "cell_type": "markdown",
   "metadata": {},
   "source": [
    "### GROUP"
   ]
  },
  {
   "cell_type": "code",
   "execution_count": 19,
   "metadata": {},
   "outputs": [
    {
     "name": "stdout",
     "output_type": "stream",
     "text": [
      "(red,{(8,Karyn,Diaz,1969-02-24,red,1),(14,Clio,Noel,1972-12-12,red,5)})\n",
      "(blue,{(15,Hope,Silva,1970-07-01,blue,5),(7,Driscoll,Klein,1970-10-05,blue,5),(5,Zoe,Conway,1974-07-03,blue,2)})\n",
      "(gray,{(13,Vivian,Crane,1970-08-27,gray,5)})\n",
      "(black,{(10,Kylan,Sexton,1975-02-28,black,4),(4,Roth,Fry,1975-01-29,black,1)})\n",
      "(green,{(12,Hope,Coffey,1973-12-24,green,5),(2,Karen,Holcomb,1974-05-23,green,4),(17,Chanda,Boyer,1973-04-01,green,4),(1,Vivian,Hamilton,1971-07-08,green,1)})\n",
      "(viole,{(6,Gretchen,Kinney,1974-10-18,viole,1)})\n",
      "(indigo,{(9,Merritt,Guy,1974-10-17,indigo,4),(11,Jordan,Estes,1969-12-07,indigo,4)})\n",
      "(orange,{(3,Cody,Garrett,1973-04-22,orange,1),(16,Ayanna,Jarvis,1974-02-11,orange,5)})\n",
      "(yellow,{(18,Chadwick,Knight,1973-04-29,yellow,1)})\n"
     ]
    }
   ],
   "source": [
    "%%pig\n",
    "y = GROUP u BY $4;\n",
    "DUMP y;"
   ]
  },
  {
   "cell_type": "code",
   "execution_count": 20,
   "metadata": {},
   "outputs": [
    {
     "name": "stdout",
     "output_type": "stream",
     "text": [
      "({(8,Karyn,Diaz,1969-02-24,red,1),(14,Clio,Noel,1972-12-12,red,5)},2)\n",
      "({(15,Hope,Silva,1970-07-01,blue,5),(7,Driscoll,Klein,1970-10-05,blue,5),(5,Zoe,Conway,1974-07-03,blue,2)},3)\n",
      "({(13,Vivian,Crane,1970-08-27,gray,5)},1)\n",
      "({(10,Kylan,Sexton,1975-02-28,black,4),(4,Roth,Fry,1975-01-29,black,1)},2)\n",
      "({(12,Hope,Coffey,1973-12-24,green,5),(2,Karen,Holcomb,1974-05-23,green,4),(17,Chanda,Boyer,1973-04-01,green,4),(1,Vivian,Hamilton,1971-07-08,green,1)},4)\n",
      "({(6,Gretchen,Kinney,1974-10-18,viole,1)},1)\n",
      "({(9,Merritt,Guy,1974-10-17,indigo,4),(11,Jordan,Estes,1969-12-07,indigo,4)},2)\n",
      "({(3,Cody,Garrett,1973-04-22,orange,1),(16,Ayanna,Jarvis,1974-02-11,orange,5)},2)\n",
      "({(18,Chadwick,Knight,1973-04-29,yellow,1)},1)\n"
     ]
    }
   ],
   "source": [
    "%%pig\n",
    "z = FOREACH y GENERATE u, COUNT(u);\n",
    "DUMP z;"
   ]
  },
  {
   "cell_type": "markdown",
   "metadata": {},
   "source": [
    "### DESCRIBE\n"
   ]
  },
  {
   "cell_type": "code",
   "execution_count": 21,
   "metadata": {},
   "outputs": [
    {
     "name": "stdout",
     "output_type": "stream",
     "text": [
      "u: {\n",
      "id: int,\n",
      "firstname: chararray,\n",
      "surname: chararray,\n",
      "birtday: chararray,\n",
      "color: chararray,\n",
      "quantity: int\n",
      "}\n"
     ]
    }
   ],
   "source": [
    "%%pig\n",
    "DESCRIBE u;"
   ]
  },
  {
   "cell_type": "markdown",
   "metadata": {},
   "source": [
    "### ORDER .. BY .."
   ]
  },
  {
   "cell_type": "code",
   "execution_count": 22,
   "metadata": {},
   "outputs": [
    {
     "name": "stdout",
     "output_type": "stream",
     "text": [
      "(4,Roth,Fry,1975-01-29,black,1)\n",
      "(10,Kylan,Sexton,1975-02-28,black,4)\n",
      "(5,Zoe,Conway,1974-07-03,blue,2)\n",
      "(7,Driscoll,Klein,1970-10-05,blue,5)\n",
      "(15,Hope,Silva,1970-07-01,blue,5)\n",
      "(13,Vivian,Crane,1970-08-27,gray,5)\n",
      "(2,Karen,Holcomb,1974-05-23,green,4)\n",
      "(12,Hope,Coffey,1973-12-24,green,5)\n",
      "(17,Chanda,Boyer,1973-04-01,green,4)\n",
      "(1,Vivian,Hamilton,1971-07-08,green,1)\n",
      "(9,Merritt,Guy,1974-10-17,indigo,4)\n",
      "(11,Jordan,Estes,1969-12-07,indigo,4)\n",
      "(3,Cody,Garrett,1973-04-22,orange,1)\n",
      "(16,Ayanna,Jarvis,1974-02-11,orange,5)\n",
      "(8,Karyn,Diaz,1969-02-24,red,1)\n",
      "(14,Clio,Noel,1972-12-12,red,5)\n",
      "(6,Gretchen,Kinney,1974-10-18,viole,1)\n",
      "(18,Chadwick,Knight,1973-04-29,yellow,1)\n"
     ]
    }
   ],
   "source": [
    "%%pig\n",
    "y = ORDER u BY $4;\n",
    "DUMP y;"
   ]
  },
  {
   "cell_type": "markdown",
   "metadata": {},
   "source": [
    "### DISCTINCT"
   ]
  },
  {
   "cell_type": "code",
   "execution_count": 23,
   "metadata": {},
   "outputs": [
    {
     "name": "stdout",
     "output_type": "stream",
     "text": [
      "2022-05-17 02:12:01,202 [main] ERROR org.apache.pig.tools.grunt.Grunt - ERROR 1200: <line 20, column 0>  Syntax error, unexpected symbol at or near 'z'\n",
      "Details at logfile: /workspace/pig/pig_1652753296015.log\n",
      "({(8,Karyn,Diaz,1969-02-24,red,1),(14,Clio,Noel,1972-12-12,red,5)},2)\n",
      "({(15,Hope,Silva,1970-07-01,blue,5),(7,Driscoll,Klein,1970-10-05,blue,5),(5,Zoe,Conway,1974-07-03,blue,2)},3)\n",
      "({(13,Vivian,Crane,1970-08-27,gray,5)},1)\n",
      "({(10,Kylan,Sexton,1975-02-28,black,4),(4,Roth,Fry,1975-01-29,black,1)},2)\n",
      "({(12,Hope,Coffey,1973-12-24,green,5),(2,Karen,Holcomb,1974-05-23,green,4),(17,Chanda,Boyer,1973-04-01,green,4),(1,Vivian,Hamilton,1971-07-08,green,1)},4)\n",
      "({(6,Gretchen,Kinney,1974-10-18,viole,1)},1)\n",
      "({(9,Merritt,Guy,1974-10-17,indigo,4),(11,Jordan,Estes,1969-12-07,indigo,4)},2)\n",
      "({(3,Cody,Garrett,1973-04-22,orange,1),(16,Ayanna,Jarvis,1974-02-11,orange,5)},2)\n",
      "({(18,Chadwick,Knight,1973-04-29,yellow,1)},1)\n"
     ]
    }
   ],
   "source": [
    "%%pig\n",
    "-- \n",
    "-- opera únicamente sobre registros completos\n",
    "--\n",
    "y = FOREACH u GENERATE $4;\n",
    "z = DISCTINCT y;\n",
    "DUMP z;"
   ]
  },
  {
   "cell_type": "markdown",
   "metadata": {},
   "source": [
    "### JOIN"
   ]
  },
  {
   "cell_type": "code",
   "execution_count": 24,
   "metadata": {},
   "outputs": [
    {
     "name": "stdout",
     "output_type": "stream",
     "text": [
      "Writing /tmp/jointable.csv\n"
     ]
    }
   ],
   "source": [
    "%%writefile /tmp/jointable.csv\n",
    "1,A\n",
    "2,B\n",
    "3,C\n",
    "24,X\n",
    "25,Y\n",
    "26,Z"
   ]
  },
  {
   "cell_type": "code",
   "execution_count": 25,
   "metadata": {},
   "outputs": [],
   "source": [
    "!hadoop fs -put /tmp/jointable.csv"
   ]
  },
  {
   "cell_type": "code",
   "execution_count": 26,
   "metadata": {},
   "outputs": [
    {
     "name": "stdout",
     "output_type": "stream",
     "text": [
      "(1,A)\n",
      "(2,B)\n",
      "(3,C)\n",
      "(24,X)\n",
      "(25,Y)\n",
      "(26,Z)\n"
     ]
    }
   ],
   "source": [
    "%%pig\n",
    "w = LOAD 'jointable.csv' USING PigStorage(',') \n",
    "    AS (id:INT, \n",
    "        letter:CHARARRAY);\n",
    "DUMP w;"
   ]
  },
  {
   "cell_type": "code",
   "execution_count": 27,
   "metadata": {},
   "outputs": [
    {
     "name": "stdout",
     "output_type": "stream",
     "text": [
      "(1,Vivian,Hamilton,1971-07-08,green,1,1,A)\n",
      "(2,Karen,Holcomb,1974-05-23,green,4,2,B)\n",
      "(3,Cody,Garrett,1973-04-22,orange,1,3,C)\n"
     ]
    }
   ],
   "source": [
    "%%pig\n",
    "w = JOIN u BY id, w BY id;\n",
    "DUMP w;"
   ]
  },
  {
   "cell_type": "markdown",
   "metadata": {},
   "source": [
    "### LIMIT"
   ]
  },
  {
   "cell_type": "code",
   "execution_count": 28,
   "metadata": {},
   "outputs": [
    {
     "name": "stdout",
     "output_type": "stream",
     "text": [
      "(1,Vivian,Hamilton,1971-07-08,green,1)\n",
      "(2,Karen,Holcomb,1974-05-23,green,4)\n",
      "(3,Cody,Garrett,1973-04-22,orange,1)\n",
      "(4,Roth,Fry,1975-01-29,black,1)\n",
      "(5,Zoe,Conway,1974-07-03,blue,2)\n",
      "(6,Gretchen,Kinney,1974-10-18,viole,1)\n",
      "(7,Driscoll,Klein,1970-10-05,blue,5)\n",
      "(8,Karyn,Diaz,1969-02-24,red,1)\n",
      "(9,Merritt,Guy,1974-10-17,indigo,4)\n",
      "(10,Kylan,Sexton,1975-02-28,black,4)\n"
     ]
    }
   ],
   "source": [
    "%%pig\n",
    "z = LIMIT u 10;\n",
    "DUMP z;"
   ]
  },
  {
   "cell_type": "markdown",
   "metadata": {},
   "source": [
    "### SAMPLE"
   ]
  },
  {
   "cell_type": "code",
   "execution_count": 29,
   "metadata": {},
   "outputs": [
    {
     "name": "stdout",
     "output_type": "stream",
     "text": [
      "(2,Karen,Holcomb,1974-05-23,green,4)\n",
      "(6,Gretchen,Kinney,1974-10-18,viole,1)\n"
     ]
    }
   ],
   "source": [
    "%%pig\n",
    "w = SAMPLE u 0.2;\n",
    "DUMP w;"
   ]
  },
  {
   "cell_type": "markdown",
   "metadata": {},
   "source": [
    "### CASE"
   ]
  },
  {
   "cell_type": "code",
   "execution_count": 30,
   "metadata": {},
   "outputs": [
    {
     "name": "stdout",
     "output_type": "stream",
     "text": [
      "(10)\n",
      "(20)\n",
      "(3)\n",
      "(3)\n",
      "(3)\n",
      "(3)\n",
      "(3)\n",
      "(3)\n",
      "(3)\n",
      "(3)\n",
      "(3)\n",
      "(3)\n",
      "(3)\n",
      "(3)\n",
      "(3)\n",
      "(3)\n",
      "(3)\n",
      "(3)\n"
     ]
    }
   ],
   "source": [
    "%%pig\n",
    "r = FOREACH u GENERATE (\n",
    "  CASE $0\n",
    "    WHEN 1 THEN 10\n",
    "    WHEN 2 THEN 20\n",
    "    ELSE 3\n",
    "  END\n",
    ");\n",
    "DUMP r;"
   ]
  },
  {
   "cell_type": "code",
   "execution_count": 31,
   "metadata": {},
   "outputs": [],
   "source": [
    "%quit"
   ]
  }
 ],
 "metadata": {
  "kernelspec": {
   "display_name": "Python 3 (ipykernel)",
   "language": "python",
   "name": "python3"
  },
  "language_info": {
   "codemirror_mode": {
    "name": "ipython",
    "version": 3
   },
   "file_extension": ".py",
   "mimetype": "text/x-python",
   "name": "python",
   "nbconvert_exporter": "python",
   "pygments_lexer": "ipython3",
   "version": "3.8.10"
  },
  "toc-autonumbering": false
 },
 "nbformat": 4,
 "nbformat_minor": 4
}
