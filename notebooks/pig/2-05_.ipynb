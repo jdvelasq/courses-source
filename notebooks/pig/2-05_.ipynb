{
 "cells": [
  {
   "cell_type": "markdown",
   "metadata": {},
   "source": [
    "Tipos de datos complejos\n",
    "===\n",
    "\n",
    "* 60 min | Última modificación: Noviembre 07, 2019"
   ]
  },
  {
   "cell_type": "markdown",
   "metadata": {},
   "source": [
    "Cell magic `%%pig`\n",
    "---"
   ]
  },
  {
   "cell_type": "code",
   "execution_count": 1,
   "metadata": {},
   "outputs": [],
   "source": [
    "from IPython.core.magic import Magics, cell_magic, line_magic, magics_class\n",
    "from pexpect import spawn\n",
    "\n",
    "TIMEOUT = 60\n",
    "PROG = \"pig\"\n",
    "PROMPT = [\"\\r\\n>> \", \"\\r\\ngrunt> \"]\n",
    "DISCARD = [\"INFO  org.apache\", \"WARN  org.apache\"]\n",
    "QUIT = \"quit\"\n",
    "\n",
    "\n",
    "@magics_class\n",
    "class Magic(Magics):\n",
    "    def __init__(self, shell):\n",
    "        super().__init__(shell)\n",
    "        self.app = spawn(PROG, timeout=60)\n",
    "        self.app.expect(PROMPT)\n",
    "\n",
    "    @cell_magic\n",
    "    def pig(self, line, cell):\n",
    "        cell_lines = [cell_line.strip() for cell_line in cell.split(\"\\n\")]\n",
    "        cell_lines = [cell_line for cell_line in cell_lines if cell_line != \"\"]\n",
    "        for cell_line in cell_lines:\n",
    "            self.app.sendline(cell_line)\n",
    "            self.app.expect(PROMPT, timeout=TIMEOUT)\n",
    "            output = self.app.before.decode()\n",
    "            output = output.replace(\"\\r\\n\", \"\\n\")\n",
    "            output = output.split(\"\\n\")\n",
    "            output = [output_line.strip() for output_line in output]\n",
    "            for output_line in output:\n",
    "                if output_line not in cell_lines:\n",
    "                    if not any(word in output_line for word in DISCARD):\n",
    "                        print(output_line)\n",
    "        return None\n",
    "\n",
    "    @line_magic\n",
    "    def quit(self, line):\n",
    "        self.app.sendline(QUIT)\n",
    "\n",
    "\n",
    "def load_ipython_extension(ip):\n",
    "    ip.register_magics(Magic(ip))\n",
    "\n",
    "\n",
    "load_ipython_extension(ip=get_ipython())"
   ]
  },
  {
   "cell_type": "markdown",
   "metadata": {},
   "source": [
    "## Datos simples"
   ]
  },
  {
   "cell_type": "markdown",
   "metadata": {},
   "source": [
    "Los siguientes son los tipos de datos soportados por Pig:\n",
    "\n",
    "     int      long      float       double      chararray  \n",
    "     boolean  datetime  biginteger  bigdecimal  bytearray\n"
   ]
  },
  {
   "cell_type": "markdown",
   "metadata": {},
   "source": [
    "## Datos complejos"
   ]
  },
  {
   "cell_type": "markdown",
   "metadata": {},
   "source": [
    "Apache Pig trabaja con la siguiente jerarquía de relaciones (http://pig.apache.org/docs/r0.17.0/basic.html#relations):\n",
    "\n",
    "* Una *tuple* es un ser de campos ordenados: (field1, field2, ....).\n",
    "* Una *bag* es un conjunto de tuplas: {(...), (...), ...}\n",
    "* Un *map* es un conjunto de parejas [key#value, ....]\n",
    "\n"
   ]
  },
  {
   "cell_type": "markdown",
   "metadata": {},
   "source": [
    "### TUPLE"
   ]
  },
  {
   "cell_type": "code",
   "execution_count": 2,
   "metadata": {},
   "outputs": [
    {
     "name": "stdout",
     "output_type": "stream",
     "text": [
      "Overwriting /tmp/data.tsv\n"
     ]
    }
   ],
   "source": [
    "%%writefile /tmp/data.tsv\n",
    "A\t10\t(1, 2)\n",
    "B\t20\t(3, 4)\n",
    "C\t30\t(5, 6)\n",
    "D\t40\t(7, 8)"
   ]
  },
  {
   "cell_type": "code",
   "execution_count": 3,
   "metadata": {},
   "outputs": [
    {
     "name": "stdout",
     "output_type": "stream",
     "text": [
      "Deleted data.tsv\n"
     ]
    }
   ],
   "source": [
    "!hadoop fs -rm data.tsv\n",
    "!hadoop fs -put /tmp/data.tsv"
   ]
  },
  {
   "cell_type": "code",
   "execution_count": 4,
   "metadata": {},
   "outputs": [
    {
     "name": "stdout",
     "output_type": "stream",
     "text": [
      "(A,10,(1,2))\n",
      "(B,20,(3,4))\n",
      "(C,30,(5,6))\n",
      "(D,40,(7,8))\n"
     ]
    }
   ],
   "source": [
    "%%pig\n",
    "--\n",
    "-- Los campos del archivo están separados por \n",
    "-- tabuladores.\n",
    "--\n",
    "u = LOAD 'data.tsv'\n",
    "    AS (f1:CHARARRAY, f2:INT, f3:TUPLE(p:INT, q:INT));\n",
    "DUMP u;"
   ]
  },
  {
   "cell_type": "code",
   "execution_count": 5,
   "metadata": {},
   "outputs": [
    {
     "name": "stdout",
     "output_type": "stream",
     "text": [
      "(1,2)\n",
      "(3,4)\n",
      "(5,6)\n",
      "(7,8)\n"
     ]
    }
   ],
   "source": [
    "%%pig\n",
    "--\n",
    "-- Los campos de la tupla pueden ser accesados\n",
    "-- por nombre o por posición.\n",
    "--\n",
    "r = FOREACH u GENERATE f3.p, f3.$1 ;   \n",
    "DUMP r;"
   ]
  },
  {
   "cell_type": "code",
   "execution_count": 6,
   "metadata": {},
   "outputs": [
    {
     "name": "stdout",
     "output_type": "stream",
     "text": [
      "(1,2)\n",
      "(3,4)\n",
      "(5,6)\n",
      "(7,8)\n"
     ]
    }
   ],
   "source": [
    "%%pig\n",
    "--\n",
    "-- Aqui se accesan los campos de la tupla por \n",
    "-- posicion ya que no tienen nombre.\n",
    "--\n",
    "u = LOAD 'data.tsv' AS (f1:CHARARRAY, f2:INT, f3:TUPLE(INT, INT));\n",
    "r = FOREACH u GENERATE $2.$0, $2.$1;\n",
    "DUMP r;"
   ]
  },
  {
   "cell_type": "code",
   "execution_count": 7,
   "metadata": {},
   "outputs": [
    {
     "name": "stdout",
     "output_type": "stream",
     "text": [
      "Overwriting /tmp/data.tsv\n"
     ]
    }
   ],
   "source": [
    "%%writefile /tmp/data.tsv\n",
    "A\t(1,  2)\t(3,  4)\n",
    "B\t(5,  6)\t(7,  8)\n",
    "C\t(9, 10)\t(11, 12)"
   ]
  },
  {
   "cell_type": "code",
   "execution_count": 8,
   "metadata": {},
   "outputs": [
    {
     "name": "stdout",
     "output_type": "stream",
     "text": [
      "Deleted data.tsv\n"
     ]
    }
   ],
   "source": [
    "!hadoop fs -rm data.tsv\n",
    "!hadoop fs -put /tmp/data.tsv"
   ]
  },
  {
   "cell_type": "code",
   "execution_count": 9,
   "metadata": {},
   "outputs": [
    {
     "name": "stdout",
     "output_type": "stream",
     "text": [
      "(A,(1,2),(3,4))\n",
      "(B,(5,6),(7,8))\n",
      "(C,(9,10),(11,12))\n"
     ]
    }
   ],
   "source": [
    "%%pig\n",
    "--\n",
    "-- Se seleccionan los campos por nombre\n",
    "--\n",
    "u = LOAD 'data.tsv'\n",
    "    AS (f1: CHARARRAY, \n",
    "        t1: TUPLE(t1a: INT, t1b: INT), \n",
    "        t2: TUPLE(t2a: INT, t2b: INT)); \n",
    "    \n",
    "DUMP u;"
   ]
  },
  {
   "cell_type": "code",
   "execution_count": 10,
   "metadata": {},
   "outputs": [
    {
     "name": "stdout",
     "output_type": "stream",
     "text": [
      "(A,4)\n",
      "(B,8)\n",
      "(C,12)\n"
     ]
    }
   ],
   "source": [
    "%%pig\n",
    "r = FOREACH u GENERATE f1, t2.t2b;\n",
    "DUMP r;"
   ]
  },
  {
   "cell_type": "markdown",
   "metadata": {},
   "source": [
    "### BAG"
   ]
  },
  {
   "cell_type": "code",
   "execution_count": 11,
   "metadata": {},
   "outputs": [
    {
     "name": "stdout",
     "output_type": "stream",
     "text": [
      "Overwriting /tmp/data.tsv\n"
     ]
    }
   ],
   "source": [
    "%%writefile /tmp/data.tsv\n",
    "A\t10\t{(1,2),(3,4)}\n",
    "B\t20\t{(5,6),(7,8)}\n",
    "C\t30\t{(9,10),(11,12)}\n",
    "D\t40\t{(13,14),(15,16)}"
   ]
  },
  {
   "cell_type": "code",
   "execution_count": 12,
   "metadata": {},
   "outputs": [
    {
     "name": "stdout",
     "output_type": "stream",
     "text": [
      "Deleted data.tsv\n"
     ]
    }
   ],
   "source": [
    "!hadoop fs -rm data.tsv\n",
    "!hadoop fs -put /tmp/data.tsv"
   ]
  },
  {
   "cell_type": "code",
   "execution_count": 13,
   "metadata": {},
   "outputs": [
    {
     "name": "stdout",
     "output_type": "stream",
     "text": [
      "(A,10,{(1,2),(3,4)})\n",
      "(B,20,{(5,6),(7,8)})\n",
      "(C,30,{(9,10),(11,12)})\n",
      "(D,40,{(13,14),(15,16)})\n"
     ]
    }
   ],
   "source": [
    "%%pig\n",
    "--\n",
    "-- Se selecciona el `bag` por nombre\n",
    "--\n",
    "u = LOAD 'data.tsv' AS (\n",
    "        f1:CHARARRAY, \n",
    "        f2:INT, \n",
    "        f3:BAG{t:TUPLE(p:INT, q:INT)}\n",
    "    );\n",
    "DUMP u;"
   ]
  },
  {
   "cell_type": "code",
   "execution_count": 14,
   "metadata": {},
   "outputs": [
    {
     "name": "stdout",
     "output_type": "stream",
     "text": [
      "({(1,2),(3,4)})\n",
      "({(5,6),(7,8)})\n",
      "({(9,10),(11,12)})\n",
      "({(13,14),(15,16)})\n"
     ]
    }
   ],
   "source": [
    "%%pig\n",
    "r = FOREACH u GENERATE f3;\n",
    "DUMP r;"
   ]
  },
  {
   "cell_type": "code",
   "execution_count": 15,
   "metadata": {},
   "outputs": [
    {
     "name": "stdout",
     "output_type": "stream",
     "text": [
      "({(1),(3)})\n",
      "({(5),(7)})\n",
      "({(9),(11)})\n",
      "({(13),(15)})\n"
     ]
    }
   ],
   "source": [
    "%%pig\n",
    "r = FOREACH u GENERATE f3.p;\n",
    "DUMP r;"
   ]
  },
  {
   "cell_type": "markdown",
   "metadata": {},
   "source": [
    "### MAP"
   ]
  },
  {
   "cell_type": "code",
   "execution_count": 16,
   "metadata": {},
   "outputs": [
    {
     "name": "stdout",
     "output_type": "stream",
     "text": [
      "Overwriting /tmp/data.tsv\n"
     ]
    }
   ],
   "source": [
    "%%writefile /tmp/data.tsv\n",
    "A\t10\t[a#1,b#2]\n",
    "B\t20\t[a#3,c#4]\n",
    "C\t30\t[b#5,c#6]\n",
    "D\t40\t[b#7,c#8]"
   ]
  },
  {
   "cell_type": "code",
   "execution_count": 17,
   "metadata": {},
   "outputs": [
    {
     "name": "stdout",
     "output_type": "stream",
     "text": [
      "Deleted data.tsv\n"
     ]
    }
   ],
   "source": [
    "!hadoop fs -rm data.tsv\n",
    "!hadoop fs -put /tmp/data.tsv"
   ]
  },
  {
   "cell_type": "code",
   "execution_count": 18,
   "metadata": {},
   "outputs": [
    {
     "name": "stdout",
     "output_type": "stream",
     "text": [
      "(1,)\n",
      "(3,4)\n",
      "(,6)\n",
      "(,8)\n"
     ]
    }
   ],
   "source": [
    "%%pig\n",
    "u = LOAD 'data.tsv'\n",
    "    AS (f1:CHARARRAY, f2:INT, f3:MAP[]);\n",
    "r = FOREACH u GENERATE f3#'a', f3#'c';\n",
    "DUMP r"
   ]
  },
  {
   "cell_type": "markdown",
   "metadata": {},
   "source": [
    "## Manipulación de datos complejos: FLATTEN"
   ]
  },
  {
   "cell_type": "code",
   "execution_count": 19,
   "metadata": {},
   "outputs": [
    {
     "name": "stdout",
     "output_type": "stream",
     "text": [
      "Overwriting /tmp/data.tsv\n"
     ]
    }
   ],
   "source": [
    "%%writefile /tmp/data.tsv\n",
    "A\t10\t(1, 2)\n",
    "B\t20\t(3, 4)\n",
    "C\t30\t(5, 6)\n",
    "D\t40\t(7, 8)"
   ]
  },
  {
   "cell_type": "code",
   "execution_count": 20,
   "metadata": {},
   "outputs": [
    {
     "name": "stdout",
     "output_type": "stream",
     "text": [
      "Deleted data.tsv\n"
     ]
    }
   ],
   "source": [
    "!hadoop fs -rm data.tsv\n",
    "!hadoop fs -put /tmp/data.tsv"
   ]
  },
  {
   "cell_type": "code",
   "execution_count": 21,
   "metadata": {},
   "outputs": [
    {
     "name": "stdout",
     "output_type": "stream",
     "text": [
      "(A,10,(1,2))\n",
      "(B,20,(3,4))\n",
      "(C,30,(5,6))\n",
      "(D,40,(7,8))\n"
     ]
    }
   ],
   "source": [
    "%%pig\n",
    "u = LOAD 'data.tsv'\n",
    "    AS (f1:CHARARRAY, f2:INT, f3:TUPLE(p:INT, q:INT));\n",
    "DUMP u;"
   ]
  },
  {
   "cell_type": "code",
   "execution_count": 22,
   "metadata": {
    "scrolled": true
   },
   "outputs": [
    {
     "name": "stdout",
     "output_type": "stream",
     "text": [
      "(A,1,2)\n",
      "(B,3,4)\n",
      "(C,5,6)\n",
      "(D,7,8)\n"
     ]
    }
   ],
   "source": [
    "%%pig\n",
    "r = FOREACH u GENERATE f1, FLATTEN(f3);\n",
    "DUMP r;"
   ]
  },
  {
   "cell_type": "code",
   "execution_count": 23,
   "metadata": {},
   "outputs": [
    {
     "name": "stdout",
     "output_type": "stream",
     "text": [
      "Overwriting /tmp/data.tsv\n"
     ]
    }
   ],
   "source": [
    "%%writefile /tmp/data.tsv\n",
    "A\t10\t{(1),(2)}\n",
    "B\t20\t{(3),(4)}\n",
    "C\t30\t{(5),(6)}\n",
    "D\t40\t{(7),(8)}"
   ]
  },
  {
   "cell_type": "code",
   "execution_count": 24,
   "metadata": {},
   "outputs": [
    {
     "name": "stdout",
     "output_type": "stream",
     "text": [
      "Deleted data.tsv\n"
     ]
    }
   ],
   "source": [
    "!hadoop fs -rm data.tsv\n",
    "!hadoop fs -put /tmp/data.tsv"
   ]
  },
  {
   "cell_type": "code",
   "execution_count": 25,
   "metadata": {},
   "outputs": [
    {
     "name": "stdout",
     "output_type": "stream",
     "text": [
      "(A,10,{(1),(2)})\n",
      "(B,20,{(3),(4)})\n",
      "(C,30,{(5),(6)})\n",
      "(D,40,{(7),(8)})\n"
     ]
    }
   ],
   "source": [
    "%%pig\n",
    "u = LOAD 'data.tsv' AS (\n",
    "        f1:CHARARRAY, \n",
    "        f2:INT,\n",
    "        f3:BAG{t: TUPLE(p:INT)}\n",
    "    );\n",
    "DUMP u;"
   ]
  },
  {
   "cell_type": "code",
   "execution_count": 26,
   "metadata": {},
   "outputs": [
    {
     "name": "stdout",
     "output_type": "stream",
     "text": [
      "(A,1)\n",
      "(A,2)\n",
      "(B,3)\n",
      "(B,4)\n",
      "(C,5)\n",
      "(C,6)\n",
      "(D,7)\n",
      "(D,8)\n"
     ]
    }
   ],
   "source": [
    "%%pig\n",
    "r = FOREACH u GENERATE f1, FLATTEN(f3);\n",
    "DUMP r;"
   ]
  },
  {
   "cell_type": "code",
   "execution_count": 27,
   "metadata": {},
   "outputs": [
    {
     "name": "stdout",
     "output_type": "stream",
     "text": [
      "(1)\n",
      "(2)\n",
      "(3)\n",
      "(4)\n",
      "(5)\n",
      "(6)\n",
      "(7)\n",
      "(8)\n"
     ]
    }
   ],
   "source": [
    "%%pig\n",
    "r = FOREACH u GENERATE FLATTEN(f3);\n",
    "DUMP r;"
   ]
  },
  {
   "cell_type": "code",
   "execution_count": 28,
   "metadata": {},
   "outputs": [
    {
     "name": "stdout",
     "output_type": "stream",
     "text": [
      "(1)\n",
      "(2)\n",
      "(3)\n",
      "(4)\n",
      "(5)\n",
      "(6)\n",
      "(7)\n",
      "(8)\n"
     ]
    }
   ],
   "source": [
    "%%pig\n",
    "--\n",
    "-- se pueden colocar varios comandos dentro de\n",
    "-- un FOREACH\n",
    "--\n",
    "r1 = FOREACH u {\n",
    "        GENERATE FLATTEN(f3);\n",
    "};\n",
    "DUMP r1;"
   ]
  },
  {
   "cell_type": "code",
   "execution_count": 29,
   "metadata": {},
   "outputs": [
    {
     "name": "stdout",
     "output_type": "stream",
     "text": [
      "(10.0)\n",
      "(20.0)\n",
      "(30.0)\n",
      "(40.0)\n"
     ]
    }
   ],
   "source": [
    "%%pig\n",
    "r1 = FOREACH u GENERATE (DOUBLE) $1;\n",
    "DUMP r1;"
   ]
  },
  {
   "cell_type": "code",
   "execution_count": 30,
   "metadata": {},
   "outputs": [],
   "source": [
    "%quit"
   ]
  }
 ],
 "metadata": {
  "kernelspec": {
   "display_name": "Python 3 (ipykernel)",
   "language": "python",
   "name": "python3"
  },
  "language_info": {
   "codemirror_mode": {
    "name": "ipython",
    "version": 3
   },
   "file_extension": ".py",
   "mimetype": "text/x-python",
   "name": "python",
   "nbconvert_exporter": "python",
   "pygments_lexer": "ipython3",
   "version": "3.8.10"
  },
  "toc-autonumbering": false
 },
 "nbformat": 4,
 "nbformat_minor": 4
}
