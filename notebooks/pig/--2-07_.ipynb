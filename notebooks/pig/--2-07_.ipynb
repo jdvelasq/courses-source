{
 "cells": [
  {
   "cell_type": "markdown",
   "metadata": {},
   "source": [
    "# Funciones de Usuario (udfs)\n",
    "\n",
    "* 30 min | Última modificación: Noviembre 07, 2019"
   ]
  },
  {
   "cell_type": "markdown",
   "metadata": {},
   "source": [
    "Apache Pig permite la ejecución de funciones escritas en Java, Jython (http://www.jython.org/index.html), JavaScript, Ruby, Groovy y Python. Información detallada de la ejecución de udfs en estos lenguajes puede ser obtenida en https://pig.apache.org/docs/latest/udf.html#python-udfs.\n",
    "\n",
    "\n",
    "Véase http://www.jython.org/index.html. Para su uso, el script de Python debe estar ubicado en el directorio de trabajo. Para poder usar Jython, hay dos opciones; en la primera se debe indicar la ubicación del inteprete en la variable `PIG_CLASSPATH`. En algunos casos es necesario establacer la variable `PYTHONPATH` para que Pig pueda compilar las udfs. Para mayor información revise https://pig.apache.org/docs/latest/udf.html#jython-udfs.\n",
    "\n",
    "(deprecated) En la segunda se puede usar `org.apache.pig.scripting.jython.JythonScriptEngin` como intérprete."
   ]
  },
  {
   "cell_type": "markdown",
   "metadata": {},
   "source": [
    "Cell magic `%%pig`\n",
    "---"
   ]
  },
  {
   "cell_type": "code",
   "execution_count": 1,
   "metadata": {},
   "outputs": [],
   "source": [
    "from IPython.core.magic import Magics, cell_magic, magics_class\n",
    "from pexpect import spawn\n",
    "\n",
    "TIMEOUT = 60\n",
    "PROG = 'pig'\n",
    "PROMPT = [\"\\r\\n>> \", \"\\r\\ngrunt> \"]\n",
    "DISCARD = ['INFO  org.apache', 'WARN  org.apache']\n",
    "\n",
    "@magics_class\n",
    "class Magic(Magics):\n",
    "    def __init__(self, shell):\n",
    "        super().__init__(shell)\n",
    "        self.app = spawn(PROG, timeout=60)\n",
    "        self.app.expect(PROMPT)\n",
    "\n",
    "    @cell_magic\n",
    "    def pig(self, line, cell):\n",
    "        cell_lines = [cell_line.strip() for cell_line in cell.split(\"\\n\")]\n",
    "        cell_lines = [cell_line for cell_line in cell_lines if cell_line != \"\"]\n",
    "        for cell_line in cell_lines:\n",
    "            self.app.sendline(cell_line)\n",
    "            self.app.expect(PROMPT, timeout=TIMEOUT)\n",
    "            output = self.app.before.decode()\n",
    "            output = output.replace('\\r\\n', '\\n')\n",
    "            output = output.split('\\n')\n",
    "            output = [output_line.strip() for output_line in output]\n",
    "            for output_line in output:\n",
    "                if output_line not in cell_lines:\n",
    "                    if not any(word in output_line for word in DISCARD):\n",
    "                        print(output_line)\n",
    "        return None\n",
    "\n",
    "\n",
    "def load_ipython_extension(ip):\n",
    "    ip.register_magics(Magic(ip))\n",
    "\n",
    "\n",
    "load_ipython_extension(ip=get_ipython())"
   ]
  },
  {
   "cell_type": "code",
   "execution_count": 1,
   "metadata": {},
   "outputs": [],
   "source": [
    "%load_ext bigdata"
   ]
  },
  {
   "cell_type": "code",
   "execution_count": 2,
   "metadata": {},
   "outputs": [],
   "source": [
    "%pig_start"
   ]
  },
  {
   "cell_type": "code",
   "execution_count": 3,
   "metadata": {},
   "outputs": [],
   "source": [
    "%timeout 300"
   ]
  },
  {
   "cell_type": "code",
   "execution_count": 2,
   "metadata": {},
   "outputs": [
    {
     "name": "stdout",
     "output_type": "stream",
     "text": [
      "Writing udf.tsv\n"
     ]
    }
   ],
   "source": [
    "%%writefile udf.tsv\n",
    "A\tB\t1\n",
    "C\tD\t2\n",
    "E\tF\t3\n",
    "G\tH\t4\n",
    "I\tJ\t5"
   ]
  },
  {
   "cell_type": "code",
   "execution_count": 5,
   "metadata": {},
   "outputs": [],
   "source": [
    "!hadoop fs -put udf.tsv"
   ]
  },
  {
   "cell_type": "code",
   "execution_count": 3,
   "metadata": {},
   "outputs": [
    {
     "name": "stdout",
     "output_type": "stream",
     "text": [
      "Writing pigudf.py\n"
     ]
    }
   ],
   "source": [
    "%%writefile pigudf.py\n",
    "\n",
    "#from pig_util import outputSchema\n",
    "\n",
    "@outputSchema(\"as:int\")\n",
    "def square(num):\n",
    "    if num == None:\n",
    "        return None\n",
    "    return ((num) * (num))\n",
    "\n",
    "@outputSchema(\"word:chararray\")\n",
    "def concatenar(word1, word2):\n",
    "    return (word1 + word2)"
   ]
  },
  {
   "cell_type": "code",
   "execution_count": 4,
   "metadata": {},
   "outputs": [
    {
     "name": "stdout",
     "output_type": "stream",
     "text": [
      "(AB,1)\n",
      "(CD,4)\n",
      "(EF,9)\n",
      "(GH,16)\n",
      "(IJ,25)\n"
     ]
    }
   ],
   "source": [
    "%%pig \n",
    "--\n",
    "-- registra las funciones en el script `pigudf.py`.\n",
    "--\n",
    "REGISTER /Users/jdvelasq/jython2.7.0/jython.jar\n",
    "REGISTER 'pigudf.py' using jython as myudf;\n",
    "\n",
    "u = LOAD 'udf.tsv' USING PigStorage() \n",
    "    AS (c1:CHARARRAY, \n",
    "        c2:CHARARRAY, \n",
    "        c3:INT);\n",
    "\n",
    "b = FOREACH u GENERATE myudf.concatenar(c1, c2), myudf.square(c3);\n",
    "DUMP b;"
   ]
  },
  {
   "cell_type": "markdown",
   "metadata": {},
   "source": [
    "**Piggy Bank**\n",
    "\n",
    "Son funciones de usuario escritas en Java por la comunidad. "
   ]
  },
  {
   "cell_type": "markdown",
   "metadata": {},
   "source": [
    "---"
   ]
  },
  {
   "cell_type": "code",
   "execution_count": 5,
   "metadata": {},
   "outputs": [],
   "source": [
    "!rm pigudf.py pig_*  udf.tsv"
   ]
  }
 ],
 "metadata": {
  "kernelspec": {
   "display_name": "Python 3 (ipykernel)",
   "language": "python",
   "name": "python3"
  },
  "language_info": {
   "codemirror_mode": {
    "name": "ipython",
    "version": 3
   },
   "file_extension": ".py",
   "mimetype": "text/x-python",
   "name": "python",
   "nbconvert_exporter": "python",
   "pygments_lexer": "ipython3",
   "version": "3.8.10"
  },
  "toc-autonumbering": false
 },
 "nbformat": 4,
 "nbformat_minor": 4
}
