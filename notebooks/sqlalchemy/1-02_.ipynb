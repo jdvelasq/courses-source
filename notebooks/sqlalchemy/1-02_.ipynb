{
 "cells": [
  {
   "cell_type": "markdown",
   "metadata": {},
   "source": [
    "Conectividad con la Base de Datos usando Engine\n",
    "====\n",
    "\n",
    "* Ùltima modificación: 12 de septiembre de 2022."
   ]
  },
  {
   "cell_type": "code",
   "execution_count": 1,
   "metadata": {},
   "outputs": [],
   "source": [
    "from sqlalchemy import create_engine\n",
    "\n",
    "#\n",
    "# \"sqlite+pysqlite:///:memory:\"\n",
    "#\n",
    "#  sqlite:  indica el dialecto o motor de base de datos\n",
    "#  pysqlite: indica el driver de base de datos\n",
    "#  :memory: indica que la base de datos se almacenará en memoria\n",
    "#           o la ubicación fisica de la base de datos\n",
    "#\n",
    "engine = create_engine(\n",
    "    \"sqlite+pysqlite:///:memory:\",  \n",
    "    echo=True, \n",
    "    future=True,\n",
    ")"
   ]
  }
 ],
 "metadata": {
  "kernelspec": {
   "display_name": "Python 3.8.9 ('.venv': venv)",
   "language": "python",
   "name": "python3"
  },
  "language_info": {
   "name": "python",
   "version": "3.9.6"
  },
  "orig_nbformat": 4,
  "vscode": {
   "interpreter": {
    "hash": "2482a4565599eda3cd2db35331af39775c1f78a505a9deef48c721423040da5b"
   }
  }
 },
 "nbformat": 4,
 "nbformat_minor": 2
}
