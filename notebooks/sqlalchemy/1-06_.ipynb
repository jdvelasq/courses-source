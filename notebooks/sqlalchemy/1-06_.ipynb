{
 "cells": [
  {
   "cell_type": "markdown",
   "metadata": {},
   "source": [
    "Trabajo con la Metadata de la Base de Datos\n",
    "====\n",
    "\n",
    "* Última modificación: 12 de septiembre de 2022."
   ]
  },
  {
   "cell_type": "markdown",
   "metadata": {},
   "source": [
    "Preparación\n",
    "----"
   ]
  },
  {
   "cell_type": "code",
   "execution_count": 1,
   "metadata": {},
   "outputs": [],
   "source": [
    "from sqlalchemy import create_engine\n",
    "\n",
    "engine = create_engine(\n",
    "    \"sqlite+pysqlite:///:memory:\",\n",
    "    echo=True,\n",
    "    future=True,\n",
    ")"
   ]
  },
  {
   "cell_type": "markdown",
   "metadata": {},
   "source": [
    "Creación del objecto Metadata\n",
    "---"
   ]
  },
  {
   "cell_type": "code",
   "execution_count": 2,
   "metadata": {},
   "outputs": [],
   "source": [
    "#\n",
    "# Metadata son los objetos de Python que represetan la estructura de la base de datos\n",
    "#\n",
    "from sqlalchemy import MetaData\n",
    "\n",
    "metadata_obj = MetaData()"
   ]
  },
  {
   "cell_type": "markdown",
   "metadata": {},
   "source": [
    "Creación de una tabla\n",
    "---"
   ]
  },
  {
   "cell_type": "code",
   "execution_count": 3,
   "metadata": {},
   "outputs": [],
   "source": [
    "from sqlalchemy import Column, Integer, String, Table\n",
    "\n",
    "user_table = Table(\n",
    "    \"user_account\",\n",
    "    metadata_obj,\n",
    "    Column(\"id\", Integer, primary_key=True),\n",
    "    Column(\"name\", String(30)),\n",
    "    Column(\"fullname\", String),\n",
    ")"
   ]
  },
  {
   "cell_type": "markdown",
   "metadata": {},
   "source": [
    "Acceso a las columnas de la tabla\n",
    "----"
   ]
  },
  {
   "cell_type": "code",
   "execution_count": 4,
   "metadata": {},
   "outputs": [
    {
     "data": {
      "text/plain": [
       "Column('name', String(length=30), table=<user_account>)"
      ]
     },
     "execution_count": 4,
     "metadata": {},
     "output_type": "execute_result"
    }
   ],
   "source": [
    "#\n",
    "# Extracción del nombre de un elemento.\n",
    "# Table.c es un objeto de Python que representa la colección de columnas de la tabla\n",
    "#\n",
    "user_table.c.name"
   ]
  },
  {
   "cell_type": "code",
   "execution_count": 5,
   "metadata": {},
   "outputs": [
    {
     "data": {
      "text/plain": [
       "['id', 'name', 'fullname']"
      ]
     },
     "execution_count": 5,
     "metadata": {},
     "output_type": "execute_result"
    }
   ],
   "source": [
    "#\n",
    "# Claves de la colección de columnas de la tabla\n",
    "#\n",
    "user_table.c.keys()"
   ]
  },
  {
   "cell_type": "markdown",
   "metadata": {},
   "source": [
    "Declaración de restricciones simples\n",
    "----"
   ]
  },
  {
   "cell_type": "code",
   "execution_count": 6,
   "metadata": {},
   "outputs": [
    {
     "data": {
      "text/plain": [
       "PrimaryKeyConstraint(Column('id', Integer(), table=<user_account>, primary_key=True, nullable=False))"
      ]
     },
     "execution_count": 6,
     "metadata": {},
     "output_type": "execute_result"
    }
   ],
   "source": [
    "#\n",
    "# Información sobre la clave primaria\n",
    "#\n",
    "user_table.primary_key"
   ]
  },
  {
   "cell_type": "code",
   "execution_count": 7,
   "metadata": {},
   "outputs": [],
   "source": [
    "#\n",
    "# Creación de una tabla con una clave foranea\n",
    "#\n",
    "from sqlalchemy import ForeignKey\n",
    "\n",
    "address_table = Table(\n",
    "    \"address\",\n",
    "    metadata_obj,\n",
    "    Column(\"id\", Integer, primary_key=True),\n",
    "    Column(\"user_id\", ForeignKey(\"user_account.id\"), nullable=False),  # Clave foranea\n",
    "    Column(\"email_address\", String, nullable=False),\n",
    ")"
   ]
  },
  {
   "cell_type": "markdown",
   "metadata": {},
   "source": [
    "Emisión del DDL a la Base de Datos\n",
    "----"
   ]
  },
  {
   "cell_type": "code",
   "execution_count": 8,
   "metadata": {},
   "outputs": [
    {
     "name": "stdout",
     "output_type": "stream",
     "text": [
      "2022-09-13 11:55:55,715 INFO sqlalchemy.engine.Engine BEGIN (implicit)\n",
      "2022-09-13 11:55:55,716 INFO sqlalchemy.engine.Engine PRAGMA main.table_info(\"user_account\")\n",
      "2022-09-13 11:55:55,717 INFO sqlalchemy.engine.Engine [raw sql] ()\n",
      "2022-09-13 11:55:55,718 INFO sqlalchemy.engine.Engine PRAGMA temp.table_info(\"user_account\")\n",
      "2022-09-13 11:55:55,718 INFO sqlalchemy.engine.Engine [raw sql] ()\n",
      "2022-09-13 11:55:55,719 INFO sqlalchemy.engine.Engine PRAGMA main.table_info(\"address\")\n",
      "2022-09-13 11:55:55,720 INFO sqlalchemy.engine.Engine [raw sql] ()\n",
      "2022-09-13 11:55:55,720 INFO sqlalchemy.engine.Engine PRAGMA temp.table_info(\"address\")\n",
      "2022-09-13 11:55:55,721 INFO sqlalchemy.engine.Engine [raw sql] ()\n",
      "2022-09-13 11:55:55,722 INFO sqlalchemy.engine.Engine \n",
      "CREATE TABLE user_account (\n",
      "\tid INTEGER NOT NULL, \n",
      "\tname VARCHAR(30), \n",
      "\tfullname VARCHAR, \n",
      "\tPRIMARY KEY (id)\n",
      ")\n",
      "\n",
      "\n",
      "2022-09-13 11:55:55,723 INFO sqlalchemy.engine.Engine [no key 0.00058s] ()\n",
      "2022-09-13 11:55:55,724 INFO sqlalchemy.engine.Engine \n",
      "CREATE TABLE address (\n",
      "\tid INTEGER NOT NULL, \n",
      "\tuser_id INTEGER NOT NULL, \n",
      "\temail_address VARCHAR NOT NULL, \n",
      "\tPRIMARY KEY (id), \n",
      "\tFOREIGN KEY(user_id) REFERENCES user_account (id)\n",
      ")\n",
      "\n",
      "\n",
      "2022-09-13 11:55:55,724 INFO sqlalchemy.engine.Engine [no key 0.00055s] ()\n",
      "2022-09-13 11:55:55,725 INFO sqlalchemy.engine.Engine COMMIT\n"
     ]
    }
   ],
   "source": [
    "metadata_obj.create_all(engine)"
   ]
  },
  {
   "cell_type": "code",
   "execution_count": 9,
   "metadata": {},
   "outputs": [
    {
     "name": "stdout",
     "output_type": "stream",
     "text": [
      "2022-09-13 11:55:55,801 INFO sqlalchemy.engine.Engine BEGIN (implicit)\n",
      "2022-09-13 11:55:55,802 INFO sqlalchemy.engine.Engine SELECT name FROM sqlite_master WHERE type='table';\n",
      "2022-09-13 11:55:55,803 INFO sqlalchemy.engine.Engine [generated in 0.00161s] ()\n",
      "[('user_account',), ('address',)]\n",
      "2022-09-13 11:55:55,804 INFO sqlalchemy.engine.Engine ROLLBACK\n"
     ]
    }
   ],
   "source": [
    "from sqlalchemy import text\n",
    "\n",
    "with engine.connect() as conn:\n",
    "    result = conn.execute(text(\"SELECT name FROM sqlite_master WHERE type='table';\"))\n",
    "    print(result.all())"
   ]
  },
  {
   "cell_type": "markdown",
   "metadata": {},
   "source": [
    "Definición de la Metadata de Tablas con el ORM\n",
    "----"
   ]
  },
  {
   "cell_type": "code",
   "execution_count": 10,
   "metadata": {},
   "outputs": [
    {
     "data": {
      "text/plain": [
       "MetaData()"
      ]
     },
     "execution_count": 10,
     "metadata": {},
     "output_type": "execute_result"
    }
   ],
   "source": [
    "#\n",
    "# En el modelo ORM la metadata es guardada en el objetto registry\n",
    "#\n",
    "from sqlalchemy.orm import registry\n",
    "\n",
    "mapper_registry = registry()\n",
    "mapper_registry.metadata"
   ]
  },
  {
   "cell_type": "code",
   "execution_count": 11,
   "metadata": {},
   "outputs": [],
   "source": [
    "#\n",
    "# Los objetos de la base de datos son manipualdos a traves de una base indirecta\n",
    "#\n",
    "Base = mapper_registry.generate_base()"
   ]
  },
  {
   "cell_type": "markdown",
   "metadata": {},
   "source": [
    "**Nota**"
   ]
  },
  {
   "cell_type": "code",
   "execution_count": 12,
   "metadata": {},
   "outputs": [],
   "source": [
    "#\n",
    "# Los dos pasos anteriores se combinan en una sola línea\n",
    "#\n",
    "from sqlalchemy.orm import declarative_base\n",
    "\n",
    "Base = declarative_base()"
   ]
  },
  {
   "cell_type": "markdown",
   "metadata": {},
   "source": [
    "Declaración de clases mapeadas\n",
    "---"
   ]
  },
  {
   "cell_type": "code",
   "execution_count": 13,
   "metadata": {},
   "outputs": [],
   "source": [
    "from sqlalchemy.orm import relationship\n",
    "\n",
    "\n",
    "class User(Base):\n",
    "    __tablename__ = \"user_account\"\n",
    "    id = Column(Integer, primary_key=True)\n",
    "    name = Column(String(30))\n",
    "    fullname = Column(String)\n",
    "    addresses = relationship(\"Address\", back_populates=\"user\")\n",
    "\n",
    "    def __repr__(self):\n",
    "        return f\"User(id={self.id!r}, name={self.name!r}, fullname={self.fullname!r})\"\n",
    "\n",
    "\n",
    "class Address(Base):\n",
    "    __tablename__ = \"address\"\n",
    "    id = Column(Integer, primary_key=True)\n",
    "    email_address = Column(String, nullable=False)\n",
    "    user_id = Column(Integer, ForeignKey(\"user_account.id\"))\n",
    "    user = relationship(\"User\", back_populates=\"addresses\")\n",
    "\n",
    "    def __repr__(self):\n",
    "        return f\"Address(id={self.id!r}, email_address={self.email_address!r})\""
   ]
  },
  {
   "cell_type": "code",
   "execution_count": 14,
   "metadata": {},
   "outputs": [
    {
     "data": {
      "text/plain": [
       "Table('user_account', MetaData(), Column('id', Integer(), table=<user_account>, primary_key=True, nullable=False), Column('name', String(length=30), table=<user_account>), Column('fullname', String(), table=<user_account>), schema=None)"
      ]
     },
     "execution_count": 14,
     "metadata": {},
     "output_type": "execute_result"
    }
   ],
   "source": [
    "User.__table__"
   ]
  },
  {
   "cell_type": "markdown",
   "metadata": {},
   "source": [
    "Detalles\n",
    "----"
   ]
  },
  {
   "cell_type": "code",
   "execution_count": 15,
   "metadata": {},
   "outputs": [],
   "source": [
    "#\n",
    "# Las clases tienen un método __init__() generado automáticamente\n",
    "#\n",
    "sandy = User(name=\"sandy\", fullname=\"Sandy Cheeks\")"
   ]
  },
  {
   "cell_type": "code",
   "execution_count": 16,
   "metadata": {},
   "outputs": [
    {
     "data": {
      "text/plain": [
       "User(id=None, name='sandy', fullname='Sandy Cheeks')"
      ]
     },
     "execution_count": 16,
     "metadata": {},
     "output_type": "execute_result"
    }
   ],
   "source": [
    "#\n",
    "# El método __repr__() es generado automáticamente y es completamente opcional\n",
    "#\n",
    "sandy"
   ]
  },
  {
   "cell_type": "markdown",
   "metadata": {},
   "source": [
    "Envio del DDL a la base de datos\n",
    "----"
   ]
  },
  {
   "cell_type": "code",
   "execution_count": 17,
   "metadata": {},
   "outputs": [
    {
     "name": "stdout",
     "output_type": "stream",
     "text": [
      "2022-09-13 11:55:56,272 INFO sqlalchemy.engine.Engine BEGIN (implicit)\n",
      "2022-09-13 11:55:56,273 INFO sqlalchemy.engine.Engine COMMIT\n",
      "2022-09-13 11:55:56,274 INFO sqlalchemy.engine.Engine BEGIN (implicit)\n",
      "2022-09-13 11:55:56,275 INFO sqlalchemy.engine.Engine PRAGMA main.table_info(\"user_account\")\n",
      "2022-09-13 11:55:56,275 INFO sqlalchemy.engine.Engine [raw sql] ()\n",
      "2022-09-13 11:55:56,276 INFO sqlalchemy.engine.Engine PRAGMA main.table_info(\"address\")\n",
      "2022-09-13 11:55:56,276 INFO sqlalchemy.engine.Engine [raw sql] ()\n",
      "2022-09-13 11:55:56,277 INFO sqlalchemy.engine.Engine COMMIT\n"
     ]
    }
   ],
   "source": [
    "#\n",
    "# Emite la declaración CREATE dado el registro ORM\n",
    "#\n",
    "mapper_registry.metadata.create_all(engine)\n",
    "\n",
    "#\n",
    "# El objeto Metadata tambien está presente en la base declarativa\n",
    "#\n",
    "Base.metadata.create_all(engine)"
   ]
  },
  {
   "cell_type": "markdown",
   "metadata": {},
   "source": [
    "Forma alternativa de combinación de las declaraciones y el ORM\n",
    "---"
   ]
  },
  {
   "cell_type": "code",
   "execution_count": 18,
   "metadata": {},
   "outputs": [],
   "source": [
    "mapper_registry = registry()\n",
    "Base = mapper_registry.generate_base()\n",
    "\n",
    "\n",
    "class User(Base):\n",
    "    __table__ = user_table\n",
    "    addresses = relationship(\"Address\", back_populates=\"user\")\n",
    "\n",
    "    def __repr__(self):\n",
    "        return f\"User({self.name!r}, {self.fullname!r})\"\n",
    "\n",
    "\n",
    "class Address(Base):\n",
    "    __table__ = address_table\n",
    "    user = relationship(\"User\", back_populates=\"addresses\")\n",
    "\n",
    "    def __repr__(self):\n",
    "        return f\"Address({self.email_address!r})\""
   ]
  },
  {
   "cell_type": "markdown",
   "metadata": {},
   "source": [
    "Table reflection\n",
    "-----"
   ]
  },
  {
   "cell_type": "code",
   "execution_count": 19,
   "metadata": {},
   "outputs": [
    {
     "name": "stdout",
     "output_type": "stream",
     "text": [
      "2022-09-13 11:55:56,394 INFO sqlalchemy.engine.Engine BEGIN (implicit)\n",
      "2022-09-13 11:55:56,395 INFO sqlalchemy.engine.Engine CREATE TABLE some_table (x int, y int)\n",
      "2022-09-13 11:55:56,396 INFO sqlalchemy.engine.Engine [generated in 0.00139s] ()\n",
      "2022-09-13 11:55:56,397 INFO sqlalchemy.engine.Engine COMMIT\n"
     ]
    }
   ],
   "source": [
    "#\n",
    "# Generación una tabla leyendo el estado de la base de datos\n",
    "#\n",
    "# Proceso normal:\n",
    "#     1. Se declara la tabla\n",
    "#     2. Se emite el DDL\n",
    "#\n",
    "with engine.connect() as conn:\n",
    "    conn.execute(text(\"CREATE TABLE some_table (x int, y int)\"))\n",
    "    conn.commit()  # confirmar los cambios hasta aca"
   ]
  },
  {
   "cell_type": "code",
   "execution_count": 20,
   "metadata": {},
   "outputs": [
    {
     "name": "stdout",
     "output_type": "stream",
     "text": [
      "2022-09-13 11:55:56,452 INFO sqlalchemy.engine.Engine BEGIN (implicit)\n",
      "2022-09-13 11:55:56,453 INFO sqlalchemy.engine.Engine PRAGMA main.table_xinfo(\"some_table\")\n",
      "2022-09-13 11:55:56,454 INFO sqlalchemy.engine.Engine [raw sql] ()\n",
      "2022-09-13 11:55:56,455 INFO sqlalchemy.engine.Engine SELECT sql FROM  (SELECT * FROM sqlite_master UNION ALL   SELECT * FROM sqlite_temp_master) WHERE name = ? AND type = 'table'\n",
      "2022-09-13 11:55:56,456 INFO sqlalchemy.engine.Engine [raw sql] ('some_table',)\n",
      "2022-09-13 11:55:56,457 INFO sqlalchemy.engine.Engine PRAGMA main.foreign_key_list(\"some_table\")\n",
      "2022-09-13 11:55:56,457 INFO sqlalchemy.engine.Engine [raw sql] ()\n",
      "2022-09-13 11:55:56,458 INFO sqlalchemy.engine.Engine PRAGMA temp.foreign_key_list(\"some_table\")\n",
      "2022-09-13 11:55:56,459 INFO sqlalchemy.engine.Engine [raw sql] ()\n",
      "2022-09-13 11:55:56,459 INFO sqlalchemy.engine.Engine SELECT sql FROM  (SELECT * FROM sqlite_master UNION ALL   SELECT * FROM sqlite_temp_master) WHERE name = ? AND type = 'table'\n",
      "2022-09-13 11:55:56,460 INFO sqlalchemy.engine.Engine [raw sql] ('some_table',)\n",
      "2022-09-13 11:55:56,462 INFO sqlalchemy.engine.Engine PRAGMA main.index_list(\"some_table\")\n",
      "2022-09-13 11:55:56,463 INFO sqlalchemy.engine.Engine [raw sql] ()\n",
      "2022-09-13 11:55:56,463 INFO sqlalchemy.engine.Engine PRAGMA temp.index_list(\"some_table\")\n",
      "2022-09-13 11:55:56,464 INFO sqlalchemy.engine.Engine [raw sql] ()\n",
      "2022-09-13 11:55:56,465 INFO sqlalchemy.engine.Engine PRAGMA main.index_list(\"some_table\")\n",
      "2022-09-13 11:55:56,465 INFO sqlalchemy.engine.Engine [raw sql] ()\n",
      "2022-09-13 11:55:56,466 INFO sqlalchemy.engine.Engine PRAGMA temp.index_list(\"some_table\")\n",
      "2022-09-13 11:55:56,466 INFO sqlalchemy.engine.Engine [raw sql] ()\n",
      "2022-09-13 11:55:56,467 INFO sqlalchemy.engine.Engine SELECT sql FROM  (SELECT * FROM sqlite_master UNION ALL   SELECT * FROM sqlite_temp_master) WHERE name = ? AND type = 'table'\n",
      "2022-09-13 11:55:56,467 INFO sqlalchemy.engine.Engine [raw sql] ('some_table',)\n",
      "2022-09-13 11:55:56,469 INFO sqlalchemy.engine.Engine ROLLBACK\n"
     ]
    }
   ],
   "source": [
    "#\n",
    "# En este caso se hace de forma inversa\n",
    "#\n",
    "some_table = Table(\n",
    "    \"some_table\",\n",
    "    metadata_obj,\n",
    "    autoload_with=engine,\n",
    ")"
   ]
  },
  {
   "cell_type": "code",
   "execution_count": 21,
   "metadata": {},
   "outputs": [
    {
     "data": {
      "text/plain": [
       "Table('some_table', MetaData(), Column('x', INTEGER(), table=<some_table>), Column('y', INTEGER(), table=<some_table>), schema=None)"
      ]
     },
     "execution_count": 21,
     "metadata": {},
     "output_type": "execute_result"
    }
   ],
   "source": [
    "some_table"
   ]
  }
 ],
 "metadata": {
  "kernelspec": {
   "display_name": "Python 3 (ipykernel)",
   "language": "python",
   "name": "python3"
  },
  "language_info": {
   "codemirror_mode": {
    "name": "ipython",
    "version": 3
   },
   "file_extension": ".py",
   "mimetype": "text/x-python",
   "name": "python",
   "nbconvert_exporter": "python",
   "pygments_lexer": "ipython3",
   "version": "3.9.6"
  },
  "vscode": {
   "interpreter": {
    "hash": "2482a4565599eda3cd2db35331af39775c1f78a505a9deef48c721423040da5b"
   }
  }
 },
 "nbformat": 4,
 "nbformat_minor": 4
}
