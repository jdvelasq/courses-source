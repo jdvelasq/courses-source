{
 "cells": [
  {
   "cell_type": "markdown",
   "metadata": {},
   "source": [
    "Trabajo con Transacciones y el DBAPI\n",
    "====\n",
    "\n",
    "* Última modificación: 12 de septiembre de 2022"
   ]
  },
  {
   "cell_type": "markdown",
   "metadata": {},
   "source": [
    "Preparación (ver tutoriales anteriores)\n",
    "---"
   ]
  },
  {
   "cell_type": "code",
   "execution_count": 1,
   "metadata": {},
   "outputs": [],
   "source": [
    "from sqlalchemy import create_engine\n",
    "\n",
    "engine = create_engine(\n",
    "    \"sqlite+pysqlite:///:memory:\",\n",
    "    echo=True,\n",
    "    future=True,\n",
    ")"
   ]
  },
  {
   "cell_type": "markdown",
   "metadata": {},
   "source": [
    "Envio de comandos SQL al motor de la base de datos\n",
    "---"
   ]
  },
  {
   "cell_type": "code",
   "execution_count": 2,
   "metadata": {},
   "outputs": [
    {
     "name": "stdout",
     "output_type": "stream",
     "text": [
      "2022-09-13 11:24:50,037 INFO sqlalchemy.engine.Engine BEGIN (implicit)\n",
      "2022-09-13 11:24:50,048 INFO sqlalchemy.engine.Engine select 'hello world'\n",
      "2022-09-13 11:24:50,049 INFO sqlalchemy.engine.Engine [generated in 0.01197s] ()\n",
      "[('hello world',)]\n",
      "2022-09-13 11:24:50,050 INFO sqlalchemy.engine.Engine ROLLBACK\n"
     ]
    }
   ],
   "source": [
    "#\n",
    "# El paquete text permite crear consultas en el lenguaje SQL\n",
    "#\n",
    "from sqlalchemy import text\n",
    "\n",
    "with engine.connect() as conn:\n",
    "    result = conn.execute(text(\"select 'hello world'\"))\n",
    "    print(result.all())"
   ]
  },
  {
   "cell_type": "markdown",
   "metadata": {},
   "source": [
    "Estilo \"commit as you go\"\n",
    "---"
   ]
  },
  {
   "cell_type": "code",
   "execution_count": 3,
   "metadata": {},
   "outputs": [
    {
     "name": "stdout",
     "output_type": "stream",
     "text": [
      "2022-09-13 11:24:50,191 INFO sqlalchemy.engine.Engine BEGIN (implicit)\n",
      "2022-09-13 11:24:50,192 INFO sqlalchemy.engine.Engine CREATE TABLE some_table (x int, y int)\n",
      "2022-09-13 11:24:50,193 INFO sqlalchemy.engine.Engine [generated in 0.00186s] ()\n",
      "2022-09-13 11:24:50,194 INFO sqlalchemy.engine.Engine INSERT INTO some_table (x, y) VALUES (?, ?)\n",
      "2022-09-13 11:24:50,194 INFO sqlalchemy.engine.Engine [generated in 0.00051s] ((1, 1), (2, 4))\n",
      "2022-09-13 11:24:50,195 INFO sqlalchemy.engine.Engine COMMIT\n"
     ]
    }
   ],
   "source": [
    "with engine.connect() as conn:\n",
    "\n",
    "    conn.execute(text(\"CREATE TABLE some_table (x int, y int)\"))\n",
    "\n",
    "    conn.execute(\n",
    "        text(\"INSERT INTO some_table (x, y) VALUES (:x, :y)\"),\n",
    "        [\n",
    "            {\"x\": 1, \"y\": 1},\n",
    "            {\"x\": 2, \"y\": 4},\n",
    "        ],\n",
    "    )\n",
    "\n",
    "    conn.commit()  # confirmar los cambios hasta aca"
   ]
  },
  {
   "cell_type": "markdown",
   "metadata": {},
   "source": [
    "Estilo \"begin once\" (modo preferido en la práctica)\n",
    "---"
   ]
  },
  {
   "cell_type": "code",
   "execution_count": 4,
   "metadata": {},
   "outputs": [
    {
     "name": "stdout",
     "output_type": "stream",
     "text": [
      "2022-09-13 11:24:50,311 INFO sqlalchemy.engine.Engine BEGIN (implicit)\n",
      "2022-09-13 11:24:50,312 INFO sqlalchemy.engine.Engine INSERT INTO some_table (x, y) VALUES (?, ?)\n",
      "2022-09-13 11:24:50,313 INFO sqlalchemy.engine.Engine [cached since 0.1189s ago] ((6, 8), (9, 10))\n",
      "2022-09-13 11:24:50,314 INFO sqlalchemy.engine.Engine COMMIT\n"
     ]
    }
   ],
   "source": [
    "#\n",
    "# El commit es automático cuando se termina el bloque with.\n",
    "# Hay un rollback automático en caso de falla del bloque with.\n",
    "#\n",
    "with engine.begin() as conn:\n",
    "    conn.execute(\n",
    "        text(\"INSERT INTO some_table (x, y) VALUES (:x, :y)\"),\n",
    "        [\n",
    "            {\"x\": 6, \"y\": 8},\n",
    "            {\"x\": 9, \"y\": 10},\n",
    "        ],\n",
    "    )"
   ]
  },
  {
   "cell_type": "markdown",
   "metadata": {},
   "source": [
    "Extracción de filas\n",
    "---"
   ]
  },
  {
   "cell_type": "code",
   "execution_count": 5,
   "metadata": {},
   "outputs": [
    {
     "name": "stdout",
     "output_type": "stream",
     "text": [
      "2022-09-13 11:24:50,371 INFO sqlalchemy.engine.Engine BEGIN (implicit)\n",
      "2022-09-13 11:24:50,373 INFO sqlalchemy.engine.Engine SELECT x, y FROM some_table\n",
      "2022-09-13 11:24:50,373 INFO sqlalchemy.engine.Engine [generated in 0.00182s] ()\n",
      "x: 1  y: 1\n",
      "x: 2  y: 4\n",
      "x: 6  y: 8\n",
      "x: 9  y: 10\n",
      "2022-09-13 11:24:50,374 INFO sqlalchemy.engine.Engine ROLLBACK\n"
     ]
    }
   ],
   "source": [
    "with engine.connect() as conn:\n",
    "\n",
    "    # Result es un objeto interactivo de tipo ResultProxy\n",
    "    result = conn.execute(text(\"SELECT x, y FROM some_table\"))\n",
    "\n",
    "    # Iteracion sobre los nombres de los atributos del objeto\n",
    "    for row in result:\n",
    "        print(f\"x: {row.x}  y: {row.y}\")"
   ]
  },
  {
   "cell_type": "code",
   "execution_count": 6,
   "metadata": {},
   "outputs": [
    {
     "name": "stdout",
     "output_type": "stream",
     "text": [
      "2022-09-13 11:24:50,424 INFO sqlalchemy.engine.Engine BEGIN (implicit)\n",
      "2022-09-13 11:24:50,425 INFO sqlalchemy.engine.Engine SELECT x, y FROM some_table\n",
      "2022-09-13 11:24:50,425 INFO sqlalchemy.engine.Engine [cached since 0.05422s ago] ()\n",
      "x: 1  y: 1\n",
      "x: 2  y: 4\n",
      "x: 6  y: 8\n",
      "x: 9  y: 10\n",
      "2022-09-13 11:24:50,426 INFO sqlalchemy.engine.Engine ROLLBACK\n"
     ]
    }
   ],
   "source": [
    "with engine.connect() as conn:\n",
    "\n",
    "    result = conn.execute(text(\"SELECT x, y FROM some_table\"))\n",
    "\n",
    "    # Iteracion sobre la tupla\n",
    "    for x, y in result:\n",
    "        print(f\"x: {x}  y: {y}\")"
   ]
  },
  {
   "cell_type": "code",
   "execution_count": 7,
   "metadata": {},
   "outputs": [
    {
     "name": "stdout",
     "output_type": "stream",
     "text": [
      "2022-09-13 11:24:50,470 INFO sqlalchemy.engine.Engine BEGIN (implicit)\n",
      "2022-09-13 11:24:50,471 INFO sqlalchemy.engine.Engine SELECT x, y FROM some_table\n",
      "2022-09-13 11:24:50,472 INFO sqlalchemy.engine.Engine [cached since 0.1004s ago] ()\n",
      "x: 1  y: 1\n",
      "x: 2  y: 4\n",
      "x: 6  y: 8\n",
      "x: 9  y: 10\n",
      "2022-09-13 11:24:50,473 INFO sqlalchemy.engine.Engine ROLLBACK\n"
     ]
    }
   ],
   "source": [
    "with engine.connect() as conn:\n",
    "\n",
    "    result = conn.execute(text(\"SELECT x, y FROM some_table\"))\n",
    "\n",
    "    # Iteracion sobre los indices de los elementos en el objeto\n",
    "    for row in result:\n",
    "        print(f\"x: {row[0]}  y: {row[1]}\")"
   ]
  },
  {
   "cell_type": "code",
   "execution_count": 8,
   "metadata": {},
   "outputs": [
    {
     "name": "stdout",
     "output_type": "stream",
     "text": [
      "2022-09-13 11:24:50,515 INFO sqlalchemy.engine.Engine BEGIN (implicit)\n",
      "2022-09-13 11:24:50,516 INFO sqlalchemy.engine.Engine SELECT x, y FROM some_table\n",
      "2022-09-13 11:24:50,517 INFO sqlalchemy.engine.Engine [cached since 0.1456s ago] ()\n",
      "x: 1  y: 1\n",
      "x: 2  y: 4\n",
      "x: 6  y: 8\n",
      "x: 9  y: 10\n",
      "2022-09-13 11:24:50,518 INFO sqlalchemy.engine.Engine ROLLBACK\n"
     ]
    }
   ],
   "source": [
    "with engine.connect() as conn:\n",
    "\n",
    "    result = conn.execute(text(\"SELECT x, y FROM some_table\"))\n",
    "\n",
    "    # Iteracion como mapping\n",
    "    for dict_row in result.mappings():\n",
    "        x = dict_row[\"x\"]\n",
    "        y = dict_row[\"y\"]\n",
    "        print(f\"x: {x}  y: {y}\")"
   ]
  },
  {
   "cell_type": "markdown",
   "metadata": {},
   "source": [
    "Envio de un grupo de parámetros\n",
    "---"
   ]
  },
  {
   "cell_type": "code",
   "execution_count": 9,
   "metadata": {},
   "outputs": [
    {
     "name": "stdout",
     "output_type": "stream",
     "text": [
      "2022-09-13 11:24:50,557 INFO sqlalchemy.engine.Engine BEGIN (implicit)\n",
      "2022-09-13 11:24:50,558 INFO sqlalchemy.engine.Engine SELECT x, y FROM some_table WHERE y > ?\n",
      "2022-09-13 11:24:50,558 INFO sqlalchemy.engine.Engine [generated in 0.00153s] (2,)\n",
      "x: 2  y: 4\n",
      "x: 6  y: 8\n",
      "x: 9  y: 10\n",
      "2022-09-13 11:24:50,560 INFO sqlalchemy.engine.Engine ROLLBACK\n"
     ]
    }
   ],
   "source": [
    "with engine.connect() as conn:\n",
    "\n",
    "    result = conn.execute(\n",
    "        text(\n",
    "            \"SELECT x, y FROM some_table WHERE y > :z\"\n",
    "        ),  # note el uso de :z al final del string\n",
    "        {\"z\": 2},  # diccionario con los valores de los parametros\n",
    "    )\n",
    "\n",
    "    for row in result:\n",
    "        print(f\"x: {row.x}  y: {row.y}\")"
   ]
  },
  {
   "cell_type": "markdown",
   "metadata": {},
   "source": [
    "Envio de múltiples grupos de parámetros\n",
    "---"
   ]
  },
  {
   "cell_type": "code",
   "execution_count": 10,
   "metadata": {},
   "outputs": [
    {
     "name": "stdout",
     "output_type": "stream",
     "text": [
      "2022-09-13 11:24:50,636 INFO sqlalchemy.engine.Engine BEGIN (implicit)\n",
      "2022-09-13 11:24:50,637 INFO sqlalchemy.engine.Engine INSERT INTO some_table (x, y) VALUES (?, ?)\n",
      "2022-09-13 11:24:50,637 INFO sqlalchemy.engine.Engine [cached since 0.4433s ago] ((11, 12), (13, 14))\n",
      "2022-09-13 11:24:50,638 INFO sqlalchemy.engine.Engine COMMIT\n"
     ]
    }
   ],
   "source": [
    "with engine.connect() as conn:\n",
    "    conn.execute(\n",
    "        text(\"INSERT INTO some_table (x, y) VALUES (:x, :y)\"),\n",
    "        [\n",
    "            {\"x\": 11, \"y\": 12},\n",
    "            {\"x\": 13, \"y\": 14},\n",
    "        ],\n",
    "    )\n",
    "    conn.commit()"
   ]
  },
  {
   "cell_type": "markdown",
   "metadata": {},
   "source": [
    "Empaquetado\n",
    "----"
   ]
  },
  {
   "cell_type": "code",
   "execution_count": 11,
   "metadata": {},
   "outputs": [
    {
     "name": "stdout",
     "output_type": "stream",
     "text": [
      "2022-09-13 11:24:50,714 INFO sqlalchemy.engine.Engine BEGIN (implicit)\n",
      "2022-09-13 11:24:50,715 INFO sqlalchemy.engine.Engine SELECT x, y FROM some_table WHERE y > ? ORDER BY x, y\n",
      "2022-09-13 11:24:50,715 INFO sqlalchemy.engine.Engine [generated in 0.00158s] (6,)\n",
      "x: 6  y: 8\n",
      "x: 9  y: 10\n",
      "x: 11  y: 12\n",
      "x: 13  y: 14\n",
      "2022-09-13 11:24:50,716 INFO sqlalchemy.engine.Engine ROLLBACK\n"
     ]
    }
   ],
   "source": [
    "stmt = text(\"SELECT x, y FROM some_table WHERE y > :z ORDER BY x, y\").bindparams(z=6)\n",
    "\n",
    "with engine.connect() as conn:\n",
    "    result = conn.execute(stmt)\n",
    "    for row in result:\n",
    "        print(f\"x: {row.x}  y: {row.y}\")"
   ]
  },
  {
   "cell_type": "markdown",
   "metadata": {},
   "source": [
    "Ejecución con una sesión ORM\n",
    "----"
   ]
  },
  {
   "cell_type": "code",
   "execution_count": 12,
   "metadata": {},
   "outputs": [
    {
     "name": "stdout",
     "output_type": "stream",
     "text": [
      "2022-09-13 11:24:50,814 INFO sqlalchemy.engine.Engine BEGIN (implicit)\n",
      "2022-09-13 11:24:50,815 INFO sqlalchemy.engine.Engine SELECT x, y FROM some_table WHERE y > ? ORDER BY x, y\n",
      "2022-09-13 11:24:50,815 INFO sqlalchemy.engine.Engine [cached since 0.1014s ago] (6,)\n",
      "x: 6  y: 8\n",
      "x: 9  y: 10\n",
      "x: 11  y: 12\n",
      "x: 13  y: 14\n",
      "2022-09-13 11:24:50,816 INFO sqlalchemy.engine.Engine ROLLBACK\n"
     ]
    }
   ],
   "source": [
    "from sqlalchemy.orm import Session\n",
    "\n",
    "stmt = text(\"SELECT x, y FROM some_table WHERE y > :z ORDER BY x, y\").bindparams(z=6)\n",
    "\n",
    "with Session(engine) as session:\n",
    "    result = session.execute(stmt)\n",
    "    for row in result:\n",
    "        print(f\"x: {row.x}  y: {row.y}\")"
   ]
  },
  {
   "cell_type": "code",
   "execution_count": 13,
   "metadata": {},
   "outputs": [
    {
     "name": "stdout",
     "output_type": "stream",
     "text": [
      "2022-09-13 11:24:50,853 INFO sqlalchemy.engine.Engine BEGIN (implicit)\n",
      "2022-09-13 11:24:50,854 INFO sqlalchemy.engine.Engine UPDATE some_table SET y=? WHERE x=?\n",
      "2022-09-13 11:24:50,855 INFO sqlalchemy.engine.Engine [generated in 0.00063s] ((11, 9), (15, 13))\n",
      "2022-09-13 11:24:50,856 INFO sqlalchemy.engine.Engine COMMIT\n"
     ]
    }
   ],
   "source": [
    "#\n",
    "# Sesion usa \"commit as you go\" por defecto\n",
    "#\n",
    "with Session(engine) as session:\n",
    "    result = session.execute(\n",
    "        text(\"UPDATE some_table SET y=:y WHERE x=:x\"),\n",
    "        [\n",
    "            {\"x\": 9, \"y\": 11},\n",
    "            {\"x\": 13, \"y\": 15},\n",
    "        ],\n",
    "    )\n",
    "    session.commit()"
   ]
  }
 ],
 "metadata": {
  "kernelspec": {
   "display_name": "Python 3 (ipykernel)",
   "language": "python",
   "name": "python3"
  },
  "language_info": {
   "codemirror_mode": {
    "name": "ipython",
    "version": 3
   },
   "file_extension": ".py",
   "mimetype": "text/x-python",
   "name": "python",
   "nbconvert_exporter": "python",
   "pygments_lexer": "ipython3",
   "version": "3.9.6"
  },
  "vscode": {
   "interpreter": {
    "hash": "2482a4565599eda3cd2db35331af39775c1f78a505a9deef48c721423040da5b"
   }
  }
 },
 "nbformat": 4,
 "nbformat_minor": 4
}
