{
 "cells": [
  {
   "cell_type": "markdown",
   "metadata": {},
   "source": [
    "Taller: SQLAlchemy\n",
    "==="
   ]
  },
  {
   "cell_type": "markdown",
   "metadata": {},
   "source": [
    "Los archivos 'https://raw.githubusercontent.com/jdvelasq/datalabs/master/datasets/generacion/consumo_de_combustible_mbtu_2020.csv' y 'https://raw.githubusercontent.com/jdvelasq/datalabs/master/datasets/generacion/generacion_kWh_2020.csv' contienen información sobre la generación total del sistema para el año 2020. Use dichos archivos para resolver los problemas presentados a continuación.\n",
    "\n",
    "Resuelva cada problema usando el ORM, el CORE y la conexión con Pandas."
   ]
  },
  {
   "cell_type": "markdown",
   "metadata": {},
   "source": [
    "Problema 1\n",
    "---\n",
    "\n",
    "Cree una base de datos en SQLite3 e importe las dos tablas."
   ]
  },
  {
   "cell_type": "markdown",
   "metadata": {},
   "source": [
    "Problema 2\n",
    "---\n",
    "\n",
    "Seleccione todos los registos de la tabla 'consumo_de_combustible'."
   ]
  },
  {
   "cell_type": "markdown",
   "metadata": {},
   "source": [
    "Problema 3\n",
    "---\n",
    "\n",
    "Seleccione todos los registros para la planta 'FLORES 1' en la tabla generacion."
   ]
  },
  {
   "cell_type": "markdown",
   "metadata": {},
   "source": [
    "Problema 4\n",
    "---\n",
    "\n",
    "Seleccione todos los registros donde la planta sea diferente de 'FLORES 1' en la tabla generacion."
   ]
  },
  {
   "cell_type": "markdown",
   "metadata": {},
   "source": [
    "Problema 5\n",
    "---\n",
    "\n",
    "Cuente los registros de la tabla 'generacion' cuyo combustible sea 'GAS'."
   ]
  },
  {
   "cell_type": "markdown",
   "metadata": {},
   "source": [
    "Problema 6\n",
    "---\n",
    "\n",
    "Cuente los registros de la tabla 'generacion' cuyo combustible NO sea 'GAS'."
   ]
  },
  {
   "cell_type": "markdown",
   "metadata": {},
   "source": [
    "Problema 7\n",
    "---\n",
    "\n",
    "Determine la cantidad de plantas por agente."
   ]
  },
  {
   "cell_type": "markdown",
   "metadata": {},
   "source": [
    "Problema 8\n",
    "---\n",
    "\n",
    "Determine la cantidad de tablas por tipo de combustible."
   ]
  },
  {
   "cell_type": "markdown",
   "metadata": {},
   "source": [
    "Problema 9\n",
    "---\n",
    "\n",
    "Liste las plantas a gas que tiene el agente 'TBSG'."
   ]
  },
  {
   "cell_type": "markdown",
   "metadata": {},
   "source": [
    "Problema 10\n",
    "----\n",
    "\n",
    "¿Cuáles agentes tienen plantas solares?"
   ]
  },
  {
   "cell_type": "markdown",
   "metadata": {},
   "source": [
    "Problema 11\n",
    "---\n",
    "\n",
    "Qué valores puede tomar el campo 'clasificación'."
   ]
  },
  {
   "cell_type": "markdown",
   "metadata": {},
   "source": [
    "Problema 12\n",
    "---\n",
    "\n",
    "Haga una tabla con los tipos de combustibles ordenados alfabeticamente."
   ]
  },
  {
   "cell_type": "markdown",
   "metadata": {},
   "source": [
    "Problema 13\n",
    "---\n",
    "\n",
    "Haga una tabla con el nombre de las plantas ordenadas por la longitud del nombre, de mayor a menor."
   ]
  },
  {
   "cell_type": "markdown",
   "metadata": {},
   "source": [
    "Problema 14\n",
    "---\n",
    "\n",
    "Haga una tabla con el nombre de las plantas ordenadas por la longitud del nombre, de menor a mayor."
   ]
  },
  {
   "cell_type": "markdown",
   "metadata": {},
   "source": [
    "Problema 15\n",
    "---\n",
    "\n",
    "Haga una tabla de las plabtas por agente, ordenada por agente y luego por nombre de la planta."
   ]
  },
  {
   "cell_type": "markdown",
   "metadata": {},
   "source": [
    "Problema 16\n",
    "---\n",
    "\n",
    "Seleccione el registro con el menor costo de combustible (y que sea mayor que cero)."
   ]
  },
  {
   "cell_type": "markdown",
   "metadata": {},
   "source": [
    "Problema 17\n",
    "---\n",
    "\n",
    "Cálcule el número de registros por tipo de generación.\n"
   ]
  },
  {
   "cell_type": "markdown",
   "metadata": {},
   "source": [
    "Problema 18\n",
    "---\n",
    "\n",
    "Calcule el costo promedio del consumo de combustible sin tener en cuenta los ceros."
   ]
  },
  {
   "cell_type": "markdown",
   "metadata": {},
   "source": [
    "Problema 19\n",
    "----\n",
    "\n",
    "Liste todos los nombres (unicos) de los recursos que empiecen por la letra A."
   ]
  },
  {
   "cell_type": "markdown",
   "metadata": {},
   "source": [
    "Problema 20\n",
    "----\n",
    "\n",
    "Liste todos los nombres de los recursos que finalicen con la letra O."
   ]
  },
  {
   "cell_type": "markdown",
   "metadata": {},
   "source": [
    "Problema 21\n",
    "----\n",
    "\n",
    "Liste los codigos de agente que contenga la letra E."
   ]
  },
  {
   "cell_type": "markdown",
   "metadata": {},
   "source": [
    "Problema 22\n",
    "---\n",
    "\n",
    "Liste todos los recursos que empiecen por la letra T y terminen con la letra B."
   ]
  },
  {
   "cell_type": "markdown",
   "metadata": {},
   "source": [
    "Problema 23\n",
    "---\n",
    "\n",
    "Liste todos los recursos que empiecen por la letra T y terminen en un número."
   ]
  },
  {
   "cell_type": "markdown",
   "metadata": {},
   "source": [
    "Problema 24\n",
    "---\n",
    "\n",
    "Liste todos los recursos que no empiecen por la letra T."
   ]
  },
  {
   "cell_type": "markdown",
   "metadata": {},
   "source": [
    "Problema 25\n",
    "---\n",
    "\n",
    "Liste todos los recursos que empiecen por F, T o B."
   ]
  },
  {
   "cell_type": "markdown",
   "metadata": {},
   "source": [
    "Problema 26\n",
    "----\n",
    "\n",
    "Seleccione todos los registros cuyo combustible sea 'GAS' o 'COMBUSTOLEO'."
   ]
  },
  {
   "cell_type": "markdown",
   "metadata": {},
   "source": [
    "Problema 27\n",
    "---\n",
    "\n",
    "Seleccione los registros cuyo combustible no sea 'CARBON' o 'ACPM'."
   ]
  },
  {
   "cell_type": "markdown",
   "metadata": {},
   "source": [
    "Problema 28\n",
    "----\n",
    "\n",
    "Seleccione todos los registros cuyo costo de combustible este entre 1.000 y 30.000."
   ]
  },
  {
   "cell_type": "markdown",
   "metadata": {},
   "source": [
    "Problema 29\n",
    "----\n",
    "\n",
    "Seleccione todos los registros cuyo costo de combustible NO este entre 1.000 y 30.000."
   ]
  },
  {
   "cell_type": "markdown",
   "metadata": {},
   "source": [
    "Problema 30\n",
    "----\n",
    "\n",
    "Calcule la generacion total diaria por recurso."
   ]
  },
  {
   "cell_type": "markdown",
   "metadata": {},
   "source": [
    "Problema 31\n",
    "----\n",
    "\n",
    "Agrege a la tabla 'consumo_de_combustible' la generación total diaria.\n"
   ]
  },
  {
   "cell_type": "markdown",
   "metadata": {},
   "source": [
    "Problema 32\n",
    "---\n",
    "\n",
    "Compute la cantidad de recursos por tipo de combustible."
   ]
  },
  {
   "cell_type": "markdown",
   "metadata": {},
   "source": [
    "Problema 33\n",
    "----\n",
    "\n",
    "Calcule la generación promedio por agente."
   ]
  },
  {
   "cell_type": "markdown",
   "metadata": {},
   "source": [
    "Problema 34\n",
    "----\n",
    "\n",
    "Calcule la generación máxima horaria por recurso durante el dia para cada agente."
   ]
  },
  {
   "cell_type": "markdown",
   "metadata": {},
   "source": [
    "Problema 35\n",
    "----\n",
    "\n",
    "Compute la generación total por dia."
   ]
  },
  {
   "cell_type": "markdown",
   "metadata": {},
   "source": [
    "Problema 36\n",
    "---\n",
    "\n",
    "Calcule la generación total agente."
   ]
  },
  {
   "cell_type": "markdown",
   "metadata": {},
   "source": [
    "Problema 37\n",
    "----\n",
    "\n",
    "¿Cuáles son los tipos de  generación para los recursos no despachados centralmente?"
   ]
  }
 ],
 "metadata": {
  "kernelspec": {
   "display_name": "Python 3 (ipykernel)",
   "language": "python",
   "name": "python3"
  },
  "language_info": {
   "codemirror_mode": {
    "name": "ipython",
    "version": 3
   },
   "file_extension": ".py",
   "mimetype": "text/x-python",
   "name": "python",
   "nbconvert_exporter": "python",
   "pygments_lexer": "ipython3",
   "version": "3.8.10"
  },
  "vscode": {
   "interpreter": {
    "hash": "31f2aee4e71d21fbe5cf8b01ff0e069b9275f58929596ceb00d14d90e3e16cd6"
   }
  }
 },
 "nbformat": 4,
 "nbformat_minor": 4
}
