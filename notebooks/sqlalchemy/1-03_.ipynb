{
 "cells": [
  {
   "cell_type": "markdown",
   "metadata": {},
   "source": [
    "Operaciones básicas en SQLAlquemy usando el ORM\n",
    "===\n",
    "\n",
    "* Última modificación: 20 de septiembre de 2022"
   ]
  },
  {
   "cell_type": "markdown",
   "metadata": {},
   "source": [
    "Este tutorial esta basado en https://es.hortonworks.com/tutorial/beginners-guide-to-apache-pig/"
   ]
  },
  {
   "cell_type": "markdown",
   "metadata": {},
   "source": [
    "Fuentes de datos\n",
    "---"
   ]
  },
  {
   "cell_type": "code",
   "execution_count": 1,
   "metadata": {},
   "outputs": [
    {
     "name": "stdout",
     "output_type": "stream",
     "text": [
      "/tmp/drivers.csv\n",
      "/tmp/timesheet.csv\n",
      "/tmp/truck_event_text_partition.csv\n"
     ]
    }
   ],
   "source": [
    "filename = \"truck_event_text_partition.csv\"\n",
    "url = \"https://raw.githubusercontent.com/jdvelasq/datalabs/master/datasets/drivers/\"\n",
    "\n",
    "!curl --silent -o /tmp/{filename} {url + filename}\n",
    "\n",
    "!ls -1 /tmp/*.csv"
   ]
  },
  {
   "cell_type": "markdown",
   "metadata": {},
   "source": [
    "Inspección de los datos\n",
    "---"
   ]
  },
  {
   "cell_type": "code",
   "execution_count": 2,
   "metadata": {},
   "outputs": [
    {
     "name": "stdout",
     "output_type": "stream",
     "text": [
      "driverId,truckId,eventTime,eventType,longitude,latitude,eventKey,CorrelationId,driverName,routeId,routeName,eventDate\n",
      "14,25,59:21.4,Normal,-94.58,37.03,14|25|9223370572464814373,3.66E+18,Adis Cesir,160405074,Joplin to Kansas City Route 2,2016-05-27-22\n",
      "18,16,59:21.7,Normal,-89.66,39.78,18|16|9223370572464814089,3.66E+18,Grant Liu,1565885487,Springfield to KC Via Hanibal,2016-05-27-22\n",
      "27,105,59:21.7,Normal,-90.21,38.65,27|105|9223370572464814070,3.66E+18,Mark Lochbihler,1325562373,Springfield to KC Via Columbia Route 2,2016-05-27-22\n",
      "11,74,59:21.7,Normal,-90.2,38.65,11|74|9223370572464814123,3.66E+18,Jamie Engesser,1567254452,Saint Louis to Memphis Route2,2016-05-27-22\n",
      "22,87,59:21.7,Normal,-90.04,35.19,22|87|9223370572464814101,3.66E+18,Nadeem Asghar,1198242881, Saint Louis to Chicago Route2,2016-05-27-22\n",
      "22,87,59:22.3,Normal,-90.37,35.21,22|87|9223370572464813486,3.66E+18,Nadeem Asghar,1198242881, Saint Louis to Chicago Route2,2016-05-27-22\n",
      "23,68,59:22.4,Normal,-89.91,40.86,23|68|9223370572464813450,3.66E+18,Adam Diaz,160405074,Joplin to Kansas City Route 2,2016-05-27-22\n",
      "11,74,59:22.5,Normal,-89.74,39.1,11|74|9223370572464813355,3.66E+18,Jamie Engesser,1567254452,Saint Louis to Memphis Route2,2016-05-27-22\n",
      "20,41,59:22.5,Normal,-93.36,41.69,20|41|9223370572464813344,3.66E+18,Chris Harris,160779139,Des Moines to Chicago Route 2,2016-05-27-22\n"
     ]
    }
   ],
   "source": [
    "!head /tmp/{filename}"
   ]
  },
  {
   "cell_type": "markdown",
   "metadata": {},
   "source": [
    "Creación de la máquina\n",
    "---"
   ]
  },
  {
   "cell_type": "code",
   "execution_count": 3,
   "metadata": {},
   "outputs": [],
   "source": [
    "from sqlalchemy import create_engine\n",
    "\n",
    "engine = create_engine(\n",
    "    \"sqlite+pysqlite:///:memory:\",\n",
    "    echo=False,\n",
    "    future=True,\n",
    ")"
   ]
  },
  {
   "cell_type": "markdown",
   "metadata": {},
   "source": [
    "Creación de la tabla usando el ORM\n",
    "----"
   ]
  },
  {
   "cell_type": "code",
   "execution_count": 4,
   "metadata": {},
   "outputs": [],
   "source": [
    "from sqlalchemy import Column, Float, Integer, String\n",
    "from sqlalchemy.orm import declarative_base\n",
    "\n",
    "Base = declarative_base()\n",
    "\n",
    "\n",
    "class Events(Base):\n",
    "    __abstract__ = True\n",
    "    id = Column(Integer, primary_key=True)\n",
    "    driverId = Column(Integer)\n",
    "    truckId = Column(Integer)\n",
    "    eventTime = Column(String)\n",
    "    eventType = Column(String)\n",
    "    longitude = Column(Float)\n",
    "    latitude = Column(Float)\n",
    "    eventKey = Column(String)\n",
    "    correlationId = Column(String)\n",
    "    driverName = Column(String)\n",
    "    routeId = Column(String)\n",
    "    routeName = Column(String)\n",
    "    eventDate = Column(String)\n",
    "\n",
    "    def __repr__(self):\n",
    "        return f\"TruckEvent(driverId={self.driverId!r}, truckId={self.truckId!r}, eventTime={self.eventTime!r}, eventType={self.eventType!r}, routeId={self.routeId!r}\"\n",
    "\n",
    "\n",
    "class TruckEvents(Events):\n",
    "    __tablename__ = \"truck_eventts\"\n",
    "\n",
    "\n",
    "Base.metadata.create_all(engine)"
   ]
  },
  {
   "cell_type": "markdown",
   "metadata": {},
   "source": [
    "Carga de datos a la BD\n",
    "---"
   ]
  },
  {
   "cell_type": "code",
   "execution_count": 5,
   "metadata": {},
   "outputs": [],
   "source": [
    "import csv\n",
    "\n",
    "from sqlalchemy.orm import Session\n",
    "\n",
    "with Session(engine) as session:\n",
    "\n",
    "    with open(\"/tmp/truck_event_text_partition.csv\") as csvfile:\n",
    "        spamreader = csv.reader(csvfile, delimiter=\",\")\n",
    "        next(csvfile)\n",
    "        for row in spamreader:\n",
    "            record = TruckEvents(\n",
    "                driverId=row[0],\n",
    "                truckId=row[1],\n",
    "                eventTime=row[2],\n",
    "                eventType=row[3],\n",
    "                longitude=row[4],\n",
    "                latitude=row[5],\n",
    "                eventKey=row[6],\n",
    "                correlationId=row[7],\n",
    "                driverName=row[8],\n",
    "                routeId=row[9],\n",
    "                routeName=row[10],\n",
    "                eventDate=row[11],\n",
    "            )\n",
    "\n",
    "            session.add(record)\n",
    "\n",
    "    session.commit()"
   ]
  },
  {
   "cell_type": "markdown",
   "metadata": {},
   "source": [
    "## Consulta de datos"
   ]
  },
  {
   "cell_type": "code",
   "execution_count": 6,
   "metadata": {},
   "outputs": [
    {
     "name": "stdout",
     "output_type": "stream",
     "text": [
      "TruckEvent(driverId=14, truckId=25, eventTime='59:21.4', eventType='Normal', routeId='160405074'\n",
      "TruckEvent(driverId=18, truckId=16, eventTime='59:21.7', eventType='Normal', routeId='1565885487'\n",
      "TruckEvent(driverId=27, truckId=105, eventTime='59:21.7', eventType='Normal', routeId='1325562373'\n"
     ]
    }
   ],
   "source": [
    "from sqlalchemy import select\n",
    "\n",
    "session = Session(engine)\n",
    "\n",
    "stmt = select(TruckEvents).limit(3)\n",
    "\n",
    "for truckevent in session.scalars(stmt):\n",
    "    print(truckevent)"
   ]
  },
  {
   "cell_type": "markdown",
   "metadata": {},
   "source": [
    "## Obtención de un subconjunto de registros "
   ]
  },
  {
   "cell_type": "code",
   "execution_count": 7,
   "metadata": {},
   "outputs": [
    {
     "name": "stdout",
     "output_type": "stream",
     "text": [
      "TruckEvent(driverId=14, truckId=25, eventTime='59:21.4', eventType='Normal', routeId='160405074'\n",
      "TruckEvent(driverId=18, truckId=16, eventTime='59:21.7', eventType='Normal', routeId='1565885487'\n",
      "TruckEvent(driverId=27, truckId=105, eventTime='59:21.7', eventType='Normal', routeId='1325562373'\n"
     ]
    }
   ],
   "source": [
    "class TruckEventsSubset(Events):\n",
    "    __tablename__ = \"truck_eventts_subset\"\n",
    "    __table_args__ = {\"extend_existing\": True}\n",
    "\n",
    "\n",
    "with Session(engine) as session:\n",
    "    session.execute(\n",
    "        \"\"\"\n",
    "        CREATE TABLE truck_eventts_subset AS\n",
    "        SELECT * FROM truck_eventts\n",
    "        LIMIT 100\n",
    "       \"\"\"\n",
    "    )\n",
    "\n",
    "    session.commit()\n",
    "\n",
    "    #\n",
    "    # Chequeo\n",
    "    #\n",
    "    stmt = select(TruckEventsSubset).limit(3)\n",
    "    for truckevent in session.scalars(stmt):\n",
    "        print(truckevent)"
   ]
  },
  {
   "cell_type": "markdown",
   "metadata": {},
   "source": [
    "Obtención de un subconjunto de campos\n",
    "---"
   ]
  },
  {
   "cell_type": "code",
   "execution_count": 8,
   "metadata": {},
   "outputs": [
    {
     "name": "stdout",
     "output_type": "stream",
     "text": [
      "SpecificColumns(driverId=14, eventTime='59:21.4', eventType='Normal')\n",
      "SpecificColumns(driverId=18, eventTime='59:21.7', eventType='Normal')\n",
      "SpecificColumns(driverId=27, eventTime='59:21.7', eventType='Normal')\n"
     ]
    }
   ],
   "source": [
    "# cree una tabla llamada specific_columns con las columnas driverId, eventTime y eventType de la tabla truck_events_subset\n",
    "\n",
    "\n",
    "class SpecificColumns(Base):\n",
    "    __tablename__ = \"specific_columns\"\n",
    "    id = Column(Integer, primary_key=True)\n",
    "    driverId = Column(Integer)\n",
    "    eventTime = Column(String)\n",
    "    eventType = Column(String)\n",
    "\n",
    "    def __repr__(self):\n",
    "        return f\"SpecificColumns(driverId={self.driverId!r}, eventTime={self.eventTime!r}, eventType={self.eventType!r})\"\n",
    "\n",
    "\n",
    "with Session(engine) as session:\n",
    "    session.execute(\n",
    "        \"\"\"\n",
    "        CREATE TABLE specific_columns AS\n",
    "        SELECT id, driverId, eventTime, eventType FROM truck_eventts_subset\n",
    "       \"\"\"\n",
    "    )\n",
    "\n",
    "    session.commit()\n",
    "\n",
    "    #\n",
    "    # Chequeo\n",
    "    #\n",
    "    stmt = select(SpecificColumns).limit(3)\n",
    "    for record in session.scalars(stmt):\n",
    "        print(record)"
   ]
  },
  {
   "cell_type": "code",
   "execution_count": 9,
   "metadata": {},
   "outputs": [
    {
     "name": "stdout",
     "output_type": "stream",
     "text": [
      "SpecificColumns(driverId=27, eventTime='59:21.7', eventType='Normal')\n",
      "SpecificColumns(driverId=11, eventTime='59:21.7', eventType='Normal')\n",
      "SpecificColumns(driverId=22, eventTime='59:21.7', eventType='Normal')\n"
     ]
    }
   ],
   "source": [
    "#\n",
    "# SELECT * FROM specific_columns LIMIT 2,3;\n",
    "#\n",
    "stmt = select(SpecificColumns).limit(3).offset(2)\n",
    "\n",
    "with Session(engine) as session:\n",
    "    for record in session.scalars(stmt):\n",
    "        print(record)"
   ]
  },
  {
   "cell_type": "code",
   "execution_count": 10,
   "metadata": {},
   "outputs": [
    {
     "name": "stdout",
     "output_type": "stream",
     "text": [
      "SpecificColumns(driverId=11, eventTime='59:21.7', eventType='Normal')\n",
      "SpecificColumns(driverId=11, eventTime='59:22.5', eventType='Normal')\n",
      "SpecificColumns(driverId=11, eventTime='59:28.3', eventType='Normal')\n",
      "SpecificColumns(driverId=11, eventTime='59:30.0', eventType='Normal')\n",
      "SpecificColumns(driverId=11, eventTime='59:31.8', eventType='Normal')\n"
     ]
    }
   ],
   "source": [
    "#\n",
    "# SELECT * FROM specific_columns WHERE driverId = 11;\n",
    "#\n",
    "stmt = select(SpecificColumns).where(SpecificColumns.driverId == 11)\n",
    "\n",
    "with Session(engine) as session:\n",
    "    for record in session.scalars(stmt):\n",
    "        print(record)"
   ]
  },
  {
   "cell_type": "markdown",
   "metadata": {},
   "source": [
    "Escritura de la tabla en el disco\n",
    "---"
   ]
  },
  {
   "cell_type": "code",
   "execution_count": 11,
   "metadata": {},
   "outputs": [],
   "source": [
    "#\n",
    "# Escriba el contenido de la tabla truck_eevents_subset en un archivo llamado truck_events_subset.csv\n",
    "#\n",
    "\n",
    "import csv\n",
    "\n",
    "with Session(engine) as session:\n",
    "    stmt = select(TruckEventsSubset)\n",
    "    with open(\"/tmp/truck_events_subset.csv\", \"w\") as csvfile:\n",
    "        spamwriter = csv.writer(csvfile, delimiter=\",\")\n",
    "        spamwriter.writerow(TruckEventsSubset.__table__.columns.keys())\n",
    "        for record in session.scalars(stmt):\n",
    "            spamwriter.writerow(\n",
    "                [\n",
    "                    getattr(record, column.name)\n",
    "                    for column in TruckEventsSubset.__table__.columns\n",
    "                ]\n",
    "            )"
   ]
  },
  {
   "cell_type": "code",
   "execution_count": 12,
   "metadata": {},
   "outputs": [
    {
     "name": "stdout",
     "output_type": "stream",
     "text": [
      "id,driverId,truckId,eventTime,eventType,longitude,latitude,eventKey,correlationId,driverName,routeId,routeName,eventDate\n",
      "1,14,25,59:21.4,Normal,-94.58,37.03,14|25|9223370572464814373,3.66E+18,Adis Cesir,160405074,Joplin to Kansas City Route 2,2016-05-27-22\n",
      "2,18,16,59:21.7,Normal,-89.66,39.78,18|16|9223370572464814089,3.66E+18,Grant Liu,1565885487,Springfield to KC Via Hanibal,2016-05-27-22\n",
      "3,27,105,59:21.7,Normal,-90.21,38.65,27|105|9223370572464814070,3.66E+18,Mark Lochbihler,1325562373,Springfield to KC Via Columbia Route 2,2016-05-27-22\n",
      "4,11,74,59:21.7,Normal,-90.2,38.65,11|74|9223370572464814123,3.66E+18,Jamie Engesser,1567254452,Saint Louis to Memphis Route2,2016-05-27-22\n",
      "5,22,87,59:21.7,Normal,-90.04,35.19,22|87|9223370572464814101,3.66E+18,Nadeem Asghar,1198242881, Saint Louis to Chicago Route2,2016-05-27-22\n",
      "6,22,87,59:22.3,Normal,-90.37,35.21,22|87|9223370572464813486,3.66E+18,Nadeem Asghar,1198242881, Saint Louis to Chicago Route2,2016-05-27-22\n",
      "7,23,68,59:22.4,Normal,-89.91,40.86,23|68|9223370572464813450,3.66E+18,Adam Diaz,160405074,Joplin to Kansas City Route 2,2016-05-27-22\n",
      "8,11,74,59:22.5,Normal,-89.74,39.1,11|74|9223370572464813355,3.66E+18,Jamie Engesser,1567254452,Saint Louis to Memphis Route2,2016-05-27-22\n",
      "9,20,41,59:22.5,Normal,-93.36,41.69,20|41|9223370572464813344,3.66E+18,Chris Harris,160779139,Des Moines to Chicago Route 2,2016-05-27-22\n"
     ]
    }
   ],
   "source": [
    "!head /tmp/truck_events_subset.csv"
   ]
  }
 ],
 "metadata": {
  "kernelspec": {
   "display_name": "Python 3 (ipykernel)",
   "language": "python",
   "name": "python3"
  },
  "language_info": {
   "codemirror_mode": {
    "name": "ipython",
    "version": 3
   },
   "file_extension": ".py",
   "mimetype": "text/x-python",
   "name": "python",
   "nbconvert_exporter": "python",
   "pygments_lexer": "ipython3",
   "version": "3.9.6"
  },
  "vscode": {
   "interpreter": {
    "hash": "2482a4565599eda3cd2db35331af39775c1f78a505a9deef48c721423040da5b"
   }
  }
 },
 "nbformat": 4,
 "nbformat_minor": 4
}
