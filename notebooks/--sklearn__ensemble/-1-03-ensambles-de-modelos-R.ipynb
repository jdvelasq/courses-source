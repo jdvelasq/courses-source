{
 "cells": [
  {
   "cell_type": "markdown",
   "metadata": {},
   "source": [
    "Opcional --- Ensambles de modelos en el Lenguaje R\n",
    "===\n",
    "\n",
    "* 30:00 min | Ultima modificación: Junio 22, 2019"
   ]
  },
  {
   "cell_type": "markdown",
   "metadata": {},
   "source": [
    "## Descripción del problema"
   ]
  },
  {
   "cell_type": "markdown",
   "metadata": {},
   "source": [
    "Se desea construir un esquema de pronóstico que permita aprovechar la información capturada por muchos modelos diferentes construidos sobre los mismos datos."
   ]
  },
  {
   "cell_type": "markdown",
   "metadata": {},
   "source": [
    "Si se tienen múltiples pronósticos obtenidos por diferentes modelos para los mismos datos, es mejor simplemente seleccionar el mejor modelo y descartar la demás información, o se pueden aprovechar dichos pronósticos?"
   ]
  },
  {
   "cell_type": "markdown",
   "metadata": {},
   "source": [
    "## Metodología\n",
    "El problema se abordará desde las técnicas de ensamble de modelos que se abordaron en la sección teórica."
   ]
  },
  {
   "cell_type": "markdown",
   "metadata": {},
   "source": [
    "## Solución"
   ]
  },
  {
   "cell_type": "code",
   "execution_count": 1,
   "metadata": {},
   "outputs": [],
   "source": [
    "import pandas as pd\n",
    "import numpy as np\n",
    "import seaborn as sns\n",
    "import matplotlib.pyplot as plt\n",
    "%matplotlib inline\n",
    "%load_ext rpy2.ipython"
   ]
  },
  {
   "cell_type": "markdown",
   "metadata": {},
   "source": [
    "### Bagging (Bootstrap aggregation)"
   ]
  },
  {
   "cell_type": "code",
   "execution_count": 1,
   "metadata": {
    "collapsed": true,
    "jupyter": {
     "outputs_hidden": true
    }
   },
   "outputs": [
    {
     "name": "stderr",
     "output_type": "stream",
     "text": [
      "Loading required package: lattice\n",
      "Loading required package: ggplot2\n"
     ]
    }
   ],
   "source": [
    "%%R\n",
    "## \n",
    "## se carga la librería necesaria\n",
    "##\n",
    "library(ipred)\n",
    "library(caret)"
   ]
  },
  {
   "cell_type": "code",
   "execution_count": 2,
   "metadata": {},
   "outputs": [],
   "source": [
    "%%R\n",
    "##\n",
    "## Se cargan los datos\n",
    "##\n",
    "data <- read.csv(\"data/credit.csv\")\n",
    "data$default <- factor(data$default, labels=c(\"No\", \"Yes\")) # se cambia la variable de decisión como factor"
   ]
  },
  {
   "cell_type": "code",
   "execution_count": 3,
   "metadata": {},
   "outputs": [
    {
     "data": {
      "text/plain": [
       "\n",
       "Bagging classification trees with 25 bootstrap replications \n",
       "\n",
       "Call: bagging.data.frame(formula = default ~ ., data = data, nbagg = 25)\n",
       "\n"
      ]
     },
     "metadata": {},
     "output_type": "display_data"
    }
   ],
   "source": [
    "%%R\n",
    "##\n",
    "## Se entrena el modelo con 25 arboles\n",
    "##\n",
    "mybag <- bagging(default ~ ., data = data, nbagg = 25)\n",
    "mybag  ## se muestra la salida del modelo"
   ]
  },
  {
   "cell_type": "code",
   "execution_count": 4,
   "metadata": {},
   "outputs": [
    {
     "data": {
      "text/html": [
       "<ol class=list-inline>\n",
       "\t<li>No</li>\n",
       "\t<li>Yes</li>\n",
       "\t<li>No</li>\n",
       "\t<li>No</li>\n",
       "\t<li>Yes</li>\n",
       "\t<li>No</li>\n",
       "</ol>\n",
       "\n",
       "<details>\n",
       "\t<summary style=display:list-item;cursor:pointer>\n",
       "\t\t<strong>Levels</strong>:\n",
       "\t</summary>\n",
       "\t<ol class=list-inline>\n",
       "\t\t<li>'No'</li>\n",
       "\t\t<li>'Yes'</li>\n",
       "\t</ol>\n",
       "</details>"
      ],
      "text/latex": [
       "\\begin{enumerate*}\n",
       "\\item No\n",
       "\\item Yes\n",
       "\\item No\n",
       "\\item No\n",
       "\\item Yes\n",
       "\\item No\n",
       "\\end{enumerate*}\n",
       "\n",
       "\\emph{Levels}: \\begin{enumerate*}\n",
       "\\item 'No'\n",
       "\\item 'Yes'\n",
       "\\end{enumerate*}\n"
      ],
      "text/markdown": [
       "1. No\n",
       "2. Yes\n",
       "3. No\n",
       "4. No\n",
       "5. Yes\n",
       "6. No\n",
       "\n",
       "\n",
       "\n",
       "**Levels**: 1. 'No'\n",
       "2. 'Yes'\n",
       "\n",
       "\n"
      ],
      "text/plain": [
       "[1] No  Yes No  No  Yes No \n",
       "Levels: No Yes"
      ]
     },
     "metadata": {},
     "output_type": "display_data"
    }
   ],
   "source": [
    "%%R\n",
    "##\n",
    "## se predicen de acuerdo con el modelo construido\n",
    "##\n",
    "data_pred <- predict(mybag, data)\n",
    "head(data_pred)"
   ]
  },
  {
   "cell_type": "code",
   "execution_count": 7,
   "metadata": {},
   "outputs": [
    {
     "data": {
      "text/plain": [
       "         \n",
       "data_pred  No Yes\n",
       "      No  700   2\n",
       "      Yes   0 298"
      ]
     },
     "metadata": {},
     "output_type": "display_data"
    }
   ],
   "source": [
    "%%R\n",
    "## \n",
    "## Se crea la matriz de confusión\n",
    "## note que se clasificaron incorrectamente solo 2 observaciones\n",
    "##\n",
    "table(data_pred, data$default)"
   ]
  },
  {
   "cell_type": "code",
   "execution_count": 6,
   "metadata": {},
   "outputs": [
    {
     "data": {
      "text/plain": [
       "Bagged CART \n",
       "\n",
       "1000 samples\n",
       "  20 predictor\n",
       "   2 classes: 'No', 'Yes' \n",
       "\n",
       "No pre-processing\n",
       "Resampling: Cross-Validated (10 fold) \n",
       "Summary of sample sizes: 900, 900, 900, 900, 900, 900, ... \n",
       "Resampling results:\n",
       "\n",
       "  Accuracy  Kappa  \n",
       "  0.746     0.36038\n"
      ]
     },
     "metadata": {},
     "output_type": "display_data"
    }
   ],
   "source": [
    "%%R\n",
    "##\n",
    "## Para evaluar realmente la precisión del modelo\n",
    "## se usa crossvalidation\n",
    "##\n",
    "\n",
    "set.seed(300)                                                        ## se establece la semilla aleatoria\n",
    "ctrl <- trainControl(method = \"cv\", number = 10)                     ## se generan los parámetros\n",
    "train(default ~ ., data = data, method = \"treebag\", trControl = ctrl)## se entrena el modelo\n",
    "\n",
    "##\n",
    "## note que tiene un desempeño muy similar al metodo C5.0\n",
    "##"
   ]
  },
  {
   "cell_type": "markdown",
   "metadata": {},
   "source": [
    "### AdaBoosting (Adaptive Boosting)"
   ]
  },
  {
   "cell_type": "code",
   "execution_count": 8,
   "metadata": {},
   "outputs": [
    {
     "name": "stderr",
     "output_type": "stream",
     "text": [
      "Loading required package: rpart\n",
      "Loading required package: foreach\n",
      "Loading required package: doParallel\n",
      "Loading required package: iterators\n",
      "Loading required package: parallel\n",
      "\n",
      "Attaching package: 'adabag'\n",
      "\n",
      "The following object is masked from 'package:ipred':\n",
      "\n",
      "    bagging\n",
      "\n"
     ]
    }
   ],
   "source": [
    "%%R\n",
    "##\n",
    "## se carga la librería necesaria\n",
    "##\n",
    "library(adabag)"
   ]
  },
  {
   "cell_type": "code",
   "execution_count": 9,
   "metadata": {},
   "outputs": [
    {
     "data": {
      "text/plain": [
       "           Length Class   Mode     \n",
       "formula       3   formula call     \n",
       "trees       100   -none-  list     \n",
       "weights     100   -none-  numeric  \n",
       "votes      2000   -none-  numeric  \n",
       "prob       2000   -none-  numeric  \n",
       "class      1000   -none-  character\n",
       "importance   20   -none-  numeric  \n",
       "terms         3   terms   call     \n",
       "call          3   -none-  call     "
      ]
     },
     "metadata": {},
     "output_type": "display_data"
    }
   ],
   "source": [
    "%%R\n",
    "##\n",
    "## se entrena el modelo\n",
    "##\n",
    "set.seed(300)                                    ## se establece la semilla aleatoria\n",
    "m_adaboost <- boosting(default ~ ., data = data) ## se entrena el modelo con los parámetros por defecto\n",
    "summary(m_adaboost)"
   ]
  },
  {
   "cell_type": "code",
   "execution_count": 10,
   "metadata": {},
   "outputs": [
    {
     "data": {
      "text/plain": [
       "               Observed Class\n",
       "Predicted Class  No Yes\n",
       "            No  700   0\n",
       "            Yes   0 300"
      ]
     },
     "metadata": {},
     "output_type": "display_data"
    }
   ],
   "source": [
    "%%R\n",
    "##\n",
    "## se realiza la predicción\n",
    "##\n",
    "p_adaboost <- predict(m_adaboost, data)\n",
    "\n",
    "## se genera la matriz de confusión\n",
    "p_adaboost$confusion"
   ]
  },
  {
   "cell_type": "markdown",
   "metadata": {},
   "source": [
    "Es posible utilizar el módulo de crossvalidation de la técnica para verificar los resultados."
   ]
  },
  {
   "cell_type": "code",
   "execution_count": 11,
   "metadata": {},
   "outputs": [
    {
     "name": "stdout",
     "output_type": "stream",
     "text": [
      "i:  1 Tue Mar 26 10:54:00 2019 \n",
      "i:  2 Tue Mar 26 10:54:36 2019 \n",
      "i:  3 Tue Mar 26 10:55:12 2019 \n",
      "i:  4 Tue Mar 26 10:55:48 2019 \n",
      "i:  5 Tue Mar 26 10:56:24 2019 \n",
      "i:  6 Tue Mar 26 10:56:59 2019 \n",
      "i:  7 Tue Mar 26 10:57:35 2019 \n",
      "i:  8 Tue Mar 26 10:58:13 2019 \n",
      "i:  9 Tue Mar 26 10:58:50 2019 \n",
      "i:  10 Tue Mar 26 10:59:25 2019 \n"
     ]
    },
    {
     "data": {
      "text/plain": [
       "               Observed Class\n",
       "Predicted Class  No Yes\n",
       "            No  594 153\n",
       "            Yes 106 147"
      ]
     },
     "metadata": {},
     "output_type": "display_data"
    }
   ],
   "source": [
    "%%R\n",
    "##\n",
    "## verificación usando CV\n",
    "##\n",
    "set.seed(300)\n",
    "adaboost_cv <- boosting.cv(default ~ ., data = data) ## se entrena el modelo\n",
    "adaboost_cv$confusion                                ## se realiza la matriz de confusión"
   ]
  },
  {
   "cell_type": "code",
   "execution_count": 13,
   "metadata": {},
   "outputs": [],
   "source": [
    "%%R\n",
    "##\n",
    "## se carga la librería necesaria\n",
    "##\n",
    "library(vcd)"
   ]
  },
  {
   "cell_type": "code",
   "execution_count": 14,
   "metadata": {},
   "outputs": [
    {
     "data": {
      "text/plain": [
       "            value     ASE     z Pr(>|z|)\n",
       "Unweighted 0.3544 0.03237 10.95 6.68e-28\n",
       "Weighted   0.3544 0.03237 10.95 6.68e-28"
      ]
     },
     "metadata": {},
     "output_type": "display_data"
    }
   ],
   "source": [
    "%%R\n",
    "##\n",
    "## se realiza el análisis mediante Kappa de los resultados de la matriz\n",
    "##\n",
    "Kappa(adaboost_cv$confusion)"
   ]
  },
  {
   "cell_type": "markdown",
   "metadata": {},
   "source": [
    "### Random forest"
   ]
  },
  {
   "cell_type": "code",
   "execution_count": 15,
   "metadata": {},
   "outputs": [
    {
     "name": "stderr",
     "output_type": "stream",
     "text": [
      "randomForest 4.6-14\n",
      "Type rfNews() to see new features/changes/bug fixes.\n",
      "\n",
      "Attaching package: 'randomForest'\n",
      "\n",
      "The following object is masked from 'package:ggplot2':\n",
      "\n",
      "    margin\n",
      "\n"
     ]
    }
   ],
   "source": [
    "%%R\n",
    "##\n",
    "## se carga la librería necesaria\n",
    "##\n",
    "library(randomForest)"
   ]
  },
  {
   "cell_type": "code",
   "execution_count": 16,
   "metadata": {},
   "outputs": [
    {
     "data": {
      "text/plain": [
       "\n",
       "Call:\n",
       " randomForest(formula = default ~ ., data = data) \n",
       "               Type of random forest: classification\n",
       "                     Number of trees: 500\n",
       "No. of variables tried at each split: 4\n",
       "\n",
       "        OOB estimate of  error rate: 23.2%\n",
       "Confusion matrix:\n",
       "     No Yes class.error\n",
       "No  648  52  0.07428571\n",
       "Yes 180 120  0.60000000"
      ]
     },
     "metadata": {},
     "output_type": "display_data"
    }
   ],
   "source": [
    "%%R\n",
    "set.seed(300) ## se genera la semilla aleatoria\n",
    "\n",
    "##\n",
    "## por defecto crea un ensamble de 500 arboles\n",
    "## que usan la raíz cuadrada de la cantidad\n",
    "## de atributos presentes en el conjunto de entrenamiento\n",
    "##\n",
    "rf <- randomForest(default ~ ., data = data)\n",
    "rf\n",
    "## en la salida OOB se refiere a out-of-bag error rate"
   ]
  },
  {
   "cell_type": "code",
   "execution_count": 17,
   "metadata": {},
   "outputs": [
    {
     "data": {
      "text/plain": [
       "Random Forest \n",
       "\n",
       "1000 samples\n",
       "  20 predictor\n",
       "   2 classes: 'No', 'Yes' \n",
       "\n",
       "No pre-processing\n",
       "Resampling: Cross-Validated (10 fold, repeated 10 times) \n",
       "Summary of sample sizes: 900, 900, 900, 900, 900, 900, ... \n",
       "Resampling results across tuning parameters:\n",
       "\n",
       "  mtry  Accuracy  Kappa     \n",
       "   2    0.7187    0.09466457\n",
       "   4    0.7487    0.27624883\n",
       "   8    0.7528    0.32307579\n",
       "  16    0.7570    0.35357757\n",
       "\n",
       "Kappa was used to select the optimal model using the largest value.\n",
       "The final value used for the model was mtry = 16."
      ]
     },
     "metadata": {},
     "output_type": "display_data"
    }
   ],
   "source": [
    "%%R\n",
    "##\n",
    "## A continuación se comparan los resultados de \n",
    "## random forest (rf) con C5.0 \n",
    "##\n",
    "library(caret)\n",
    "\n",
    "##\n",
    "## parametros de control\n",
    "##\n",
    "ctrl <- trainControl(method = \"repeatedcv\",\n",
    "                     number = 10, \n",
    "                     repeats = 10)\n",
    "\n",
    "##\n",
    "## malla de parametros a considerar\n",
    "##\n",
    "grid_rf <- expand.grid(.mtry = c(2, 4, 8, 16))\n",
    "\n",
    "set.seed(300)\n",
    "m_rf <- train(default ~ ., \n",
    "              data = data, \n",
    "              method = \"rf\",\n",
    "              metric = \"Kappa\", \n",
    "              trControl = ctrl,\n",
    "              tuneGrid = grid_rf)\n",
    "m_rf "
   ]
  },
  {
   "cell_type": "code",
   "execution_count": 18,
   "metadata": {},
   "outputs": [
    {
     "name": "stderr",
     "output_type": "stream",
     "text": [
      "Warning message in Ops.factor(x$winnow):\n",
      "\"'!' not meaningful for factors\""
     ]
    },
    {
     "data": {
      "text/plain": [
       "C5.0 \n",
       "\n",
       "1000 samples\n",
       "  20 predictor\n",
       "   2 classes: 'No', 'Yes' \n",
       "\n",
       "No pre-processing\n",
       "Resampling: Cross-Validated (10 fold, repeated 10 times) \n",
       "Summary of sample sizes: 900, 900, 900, 900, 900, 900, ... \n",
       "Resampling results across tuning parameters:\n",
       "\n",
       "  trials  Accuracy  Kappa    \n",
       "  10      0.7404    0.3389905\n",
       "  20      0.7476    0.3557574\n",
       "  30      0.7502    0.3623037\n",
       "  40      0.7509    0.3645426\n",
       "\n",
       "Tuning parameter 'model' was held constant at a value of tree\n",
       "Tuning\n",
       " parameter 'winnow' was held constant at a value of FALSE\n",
       "Kappa was used to select the optimal model using the largest value.\n",
       "The final values used for the model were trials = 40, model = tree and winnow\n",
       " = FALSE."
      ]
     },
     "metadata": {},
     "output_type": "display_data"
    }
   ],
   "source": [
    "%%R\n",
    "##\n",
    "## comparación con un boosted tree\n",
    "##\n",
    "grid_c50 <- expand.grid(.model = \"tree\",\n",
    "                        .trials = c(10, 20, 30, 40),\n",
    "                        .winnow = \"FALSE\")\n",
    "set.seed(300)\n",
    "m_c50 <- train(default ~ ., \n",
    "               data = data, \n",
    "               method = \"C5.0\",\n",
    "               metric = \"Kappa\", \n",
    "               trControl = ctrl,\n",
    "               tuneGrid = grid_c50)\n",
    "m_c50"
   ]
  }
 ],
 "metadata": {
  "kernel_info": {
   "name": "python3"
  },
  "kernelspec": {
   "display_name": "Python 3",
   "language": "python",
   "name": "python3"
  },
  "language_info": {
   "codemirror_mode": {
    "name": "ipython",
    "version": 3
   },
   "file_extension": ".py",
   "mimetype": "text/x-python",
   "name": "python",
   "nbconvert_exporter": "python",
   "pygments_lexer": "ipython3",
   "version": "3.6.9"
  },
  "nteract": {
   "version": "0.7.1"
  },
  "varInspector": {
   "cols": {
    "lenName": 16,
    "lenType": 16,
    "lenVar": 40
   },
   "kernels_config": {
    "python": {
     "delete_cmd_postfix": "",
     "delete_cmd_prefix": "del ",
     "library": "var_list.py",
     "varRefreshCmd": "print(var_dic_list())"
    },
    "r": {
     "delete_cmd_postfix": ") ",
     "delete_cmd_prefix": "rm(",
     "library": "var_list.r",
     "varRefreshCmd": "cat(var_dic_list()) "
    }
   },
   "types_to_exclude": [
    "module",
    "function",
    "builtin_function_or_method",
    "instance",
    "_Feature"
   ],
   "window_display": false
  }
 },
 "nbformat": 4,
 "nbformat_minor": 4
}
