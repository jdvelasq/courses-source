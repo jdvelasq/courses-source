{
 "cells": [
  {
   "cell_type": "markdown",
   "id": "437bd073-8a5a-4f77-93e9-f641917f552e",
   "metadata": {
    "tags": []
   },
   "source": [
    "MiniBatchKMeans --- 4:00 min\n",
    "===\n",
    "\n",
    "* 4:00 min | Ultima modificación: Octubre 13, 2021 | [YouTube](https://youtu.be/SmI8CmKrFzA)"
   ]
  },
  {
   "cell_type": "markdown",
   "id": "56891554-639d-492c-94be-02c469d046c8",
   "metadata": {},
   "source": [
    "Esta es una variación del algoritmo KMeans el cual usa batches de datos para reducir el tiempo de cómputo del algoritmo."
   ]
  },
  {
   "cell_type": "markdown",
   "id": "1d157a1d-b694-42ea-983c-8ae59ab777fb",
   "metadata": {},
   "source": [
    "*  Se generan los centros de los clusters.\n",
    "\n",
    "* Se extraen $b$ muestras del dataset para formar un mini batch.\n",
    "\n",
    "* Se actualizan los centros de los clusters a medida que se asignan las muestras (mecanismo online)."
   ]
  },
  {
   "cell_type": "code",
   "execution_count": 1,
   "id": "1f512ffd-84c1-4fb7-bc50-5fa338a0ddd4",
   "metadata": {},
   "outputs": [],
   "source": [
    "from sklearn.datasets import make_blobs\n",
    "\n",
    "X, y = make_blobs(\n",
    "    n_samples=90,\n",
    "    n_features=2,\n",
    "    centers=[\n",
    "        [8, -8],\n",
    "        [7, 8],\n",
    "        [-6, -1],\n",
    "    ],\n",
    "    cluster_std=2.0,\n",
    "    shuffle=False,\n",
    "    random_state=5,\n",
    ")"
   ]
  },
  {
   "cell_type": "code",
   "execution_count": 2,
   "id": "98ff64cf-0523-4a2c-8bfb-e596b17f4362",
   "metadata": {},
   "outputs": [
    {
     "data": {
      "text/plain": [
       "array([[ 6.61952762,  8.43531948],\n",
       "       [ 7.96411572, -7.41700257],\n",
       "       [-5.72806242, -1.15554271]])"
      ]
     },
     "execution_count": 2,
     "metadata": {},
     "output_type": "execute_result"
    }
   ],
   "source": [
    "from sklearn.cluster import MiniBatchKMeans\n",
    "\n",
    "batchKMeans = MiniBatchKMeans(\n",
    "    # -------------------------------------------------------------------------\n",
    "    # The number of clusters\n",
    "    n_clusters=3,\n",
    "    # -------------------------------------------------------------------------\n",
    "    # Method for initialization\n",
    "    init='k-means++',\n",
    "    # -------------------------------------------------------------------------\n",
    "    # Maximum number of iterations over the complete dataset before stopping\n",
    "    # independently of any early stopping criterion heuristics.\n",
    "    max_iter=100,\n",
    "    # -------------------------------------------------------------------------\n",
    "    # Size of the mini batches. \n",
    "    batch_size=1024,\n",
    "    # -------------------------------------------------------------------------\n",
    "    # Verbosity mode.\n",
    "    verbose=0,\n",
    "    # -------------------------------------------------------------------------\n",
    "    # Compute label assignment and inertia for the complete dataset once the\n",
    "    # minibatch optimization has converged in fit.\n",
    "    compute_labels=True,\n",
    "    # -------------------------------------------------------------------------\n",
    "    # Determines random number generation for centroid initialization and\n",
    "    # random reassignment.\n",
    "    random_state=None,\n",
    "    # -------------------------------------------------------------------------\n",
    "    # Control early stopping based on the consecutive number of mini batches\n",
    "    # that does not yield an improvement on the smoothed inertia.\n",
    "    max_no_improvement=10,\n",
    "    # -------------------------------------------------------------------------\n",
    "    # Number of samples to randomly sample for speeding up the initialization\n",
    "    init_size=None,\n",
    "    # -------------------------------------------------------------------------\n",
    "    # Number of random initializations that are tried.\n",
    "    n_init=3,\n",
    ")\n",
    "\n",
    "\n",
    "batchKMeans.fit(X)\n",
    "\n",
    "batchKMeans.cluster_centers_"
   ]
  },
  {
   "cell_type": "code",
   "execution_count": 3,
   "id": "5fa28278-62dd-4021-a528-f5be7c3903bf",
   "metadata": {},
   "outputs": [
    {
     "data": {
      "text/plain": [
       "array([1, 1, 1, 1, 1, 1, 1, 1, 1, 1, 1, 1, 1, 1, 1, 1, 1, 1, 1, 1, 1, 1,\n",
       "       1, 1, 1, 1, 1, 1, 1, 1, 0, 0, 0, 0, 0, 0, 0, 0, 0, 0, 0, 0, 0, 0,\n",
       "       0, 0, 0, 0, 0, 0, 0, 0, 0, 0, 0, 0, 0, 0, 0, 0, 2, 2, 2, 2, 2, 2,\n",
       "       2, 2, 2, 2, 2, 2, 2, 2, 2, 2, 2, 2, 2, 2, 2, 2, 2, 2, 2, 2, 2, 2,\n",
       "       2, 2], dtype=int32)"
      ]
     },
     "execution_count": 3,
     "metadata": {},
     "output_type": "execute_result"
    }
   ],
   "source": [
    "batchKMeans.labels_"
   ]
  }
 ],
 "metadata": {
  "kernelspec": {
   "display_name": "Python 3",
   "language": "python",
   "name": "python3"
  },
  "language_info": {
   "codemirror_mode": {
    "name": "ipython",
    "version": 3
   },
   "file_extension": ".py",
   "mimetype": "text/x-python",
   "name": "python",
   "nbconvert_exporter": "python",
   "pygments_lexer": "ipython3",
   "version": "3.6.9"
  }
 },
 "nbformat": 4,
 "nbformat_minor": 5
}
