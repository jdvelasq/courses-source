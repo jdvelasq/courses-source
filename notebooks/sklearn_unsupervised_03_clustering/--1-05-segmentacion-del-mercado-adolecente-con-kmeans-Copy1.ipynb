{
 "cells": [
  {
   "cell_type": "markdown",
   "metadata": {},
   "source": [
    "Segmentación un mercado de adolescentes --- 0:00 min\n",
    "===\n",
    "\n",
    "* 0:00 min | Ultima modificación: Octubre 13, 2021 | [YouTube]"
   ]
  },
  {
   "cell_type": "markdown",
   "metadata": {},
   "source": [
    "En este tutorial se aplica el algoritmo K-means para clasificar un grupo de adolecentes con base en sus intéreses, con el fin de diseñar estrategias publicitarias y servicios encaminados a cada grupo de interés."
   ]
  },
  {
   "cell_type": "markdown",
   "metadata": {},
   "source": [
    "Descripción del problema\n",
    "---"
   ]
  },
  {
   "cell_type": "markdown",
   "metadata": {},
   "source": [
    "Un vendedor desea enviar publicidad electrónica a una población de adolecentes y adultos jóvenes con el fin de maximizar sus ventas. Para ello, desea poder clasificar a sus clientes potenciales por grupos de interés de acuerdo con sus intereses y consecuentemente enviar publicidad específica a cada uno de ellos.   "
   ]
  },
  {
   "cell_type": "markdown",
   "metadata": {},
   "source": [
    "En este problema se desea determina que grupos de interés existen en una población de clientes a partir de los mensajes enviados por un servicio de redes sociales. La información disponible consiste en 30000 observaciones de 40 variables que podrían caracterizar los intereses de la población analizada. Estas variables corresponden a palabras que pueden asociarse a un interés de la poblaión analizada. Cada variable mide la frecuencia con que una determinada palabra aparece en los mensajes de texto; adicionalmente, dentro de estas variables se incluye  información como el sexo, la edad y la cantidad de contactos de la persona. "
   ]
  },
  {
   "cell_type": "markdown",
   "metadata": {},
   "source": [
    "Carga de los datos\n",
    "---"
   ]
  },
  {
   "cell_type": "code",
   "execution_count": 1,
   "metadata": {},
   "outputs": [
    {
     "data": {
      "text/html": [
       "<div>\n",
       "<style scoped>\n",
       "    .dataframe tbody tr th:only-of-type {\n",
       "        vertical-align: middle;\n",
       "    }\n",
       "\n",
       "    .dataframe tbody tr th {\n",
       "        vertical-align: top;\n",
       "    }\n",
       "\n",
       "    .dataframe thead th {\n",
       "        text-align: right;\n",
       "    }\n",
       "</style>\n",
       "<table border=\"1\" class=\"dataframe\">\n",
       "  <thead>\n",
       "    <tr style=\"text-align: right;\">\n",
       "      <th></th>\n",
       "      <th>gradyear</th>\n",
       "      <th>gender</th>\n",
       "      <th>age</th>\n",
       "      <th>friends</th>\n",
       "      <th>basketball</th>\n",
       "      <th>football</th>\n",
       "      <th>soccer</th>\n",
       "      <th>softball</th>\n",
       "      <th>volleyball</th>\n",
       "      <th>swimming</th>\n",
       "      <th>...</th>\n",
       "      <th>blonde</th>\n",
       "      <th>mall</th>\n",
       "      <th>shopping</th>\n",
       "      <th>clothes</th>\n",
       "      <th>hollister</th>\n",
       "      <th>abercrombie</th>\n",
       "      <th>die</th>\n",
       "      <th>death</th>\n",
       "      <th>drunk</th>\n",
       "      <th>drugs</th>\n",
       "    </tr>\n",
       "  </thead>\n",
       "  <tbody>\n",
       "    <tr>\n",
       "      <th>0</th>\n",
       "      <td>2006</td>\n",
       "      <td>M</td>\n",
       "      <td>18.982</td>\n",
       "      <td>7</td>\n",
       "      <td>0</td>\n",
       "      <td>0</td>\n",
       "      <td>0</td>\n",
       "      <td>0</td>\n",
       "      <td>0</td>\n",
       "      <td>0</td>\n",
       "      <td>...</td>\n",
       "      <td>0</td>\n",
       "      <td>0</td>\n",
       "      <td>0</td>\n",
       "      <td>0</td>\n",
       "      <td>0</td>\n",
       "      <td>0</td>\n",
       "      <td>0</td>\n",
       "      <td>0</td>\n",
       "      <td>0</td>\n",
       "      <td>0</td>\n",
       "    </tr>\n",
       "    <tr>\n",
       "      <th>1</th>\n",
       "      <td>2006</td>\n",
       "      <td>F</td>\n",
       "      <td>18.801</td>\n",
       "      <td>0</td>\n",
       "      <td>0</td>\n",
       "      <td>1</td>\n",
       "      <td>0</td>\n",
       "      <td>0</td>\n",
       "      <td>0</td>\n",
       "      <td>0</td>\n",
       "      <td>...</td>\n",
       "      <td>0</td>\n",
       "      <td>1</td>\n",
       "      <td>0</td>\n",
       "      <td>0</td>\n",
       "      <td>0</td>\n",
       "      <td>0</td>\n",
       "      <td>0</td>\n",
       "      <td>0</td>\n",
       "      <td>0</td>\n",
       "      <td>0</td>\n",
       "    </tr>\n",
       "    <tr>\n",
       "      <th>2</th>\n",
       "      <td>2006</td>\n",
       "      <td>M</td>\n",
       "      <td>18.335</td>\n",
       "      <td>69</td>\n",
       "      <td>0</td>\n",
       "      <td>1</td>\n",
       "      <td>0</td>\n",
       "      <td>0</td>\n",
       "      <td>0</td>\n",
       "      <td>0</td>\n",
       "      <td>...</td>\n",
       "      <td>0</td>\n",
       "      <td>0</td>\n",
       "      <td>0</td>\n",
       "      <td>0</td>\n",
       "      <td>0</td>\n",
       "      <td>0</td>\n",
       "      <td>0</td>\n",
       "      <td>1</td>\n",
       "      <td>0</td>\n",
       "      <td>0</td>\n",
       "    </tr>\n",
       "    <tr>\n",
       "      <th>3</th>\n",
       "      <td>2006</td>\n",
       "      <td>F</td>\n",
       "      <td>18.875</td>\n",
       "      <td>0</td>\n",
       "      <td>0</td>\n",
       "      <td>0</td>\n",
       "      <td>0</td>\n",
       "      <td>0</td>\n",
       "      <td>0</td>\n",
       "      <td>0</td>\n",
       "      <td>...</td>\n",
       "      <td>0</td>\n",
       "      <td>0</td>\n",
       "      <td>0</td>\n",
       "      <td>0</td>\n",
       "      <td>0</td>\n",
       "      <td>0</td>\n",
       "      <td>0</td>\n",
       "      <td>0</td>\n",
       "      <td>0</td>\n",
       "      <td>0</td>\n",
       "    </tr>\n",
       "    <tr>\n",
       "      <th>4</th>\n",
       "      <td>2006</td>\n",
       "      <td>NaN</td>\n",
       "      <td>18.995</td>\n",
       "      <td>10</td>\n",
       "      <td>0</td>\n",
       "      <td>0</td>\n",
       "      <td>0</td>\n",
       "      <td>0</td>\n",
       "      <td>0</td>\n",
       "      <td>0</td>\n",
       "      <td>...</td>\n",
       "      <td>0</td>\n",
       "      <td>0</td>\n",
       "      <td>2</td>\n",
       "      <td>0</td>\n",
       "      <td>0</td>\n",
       "      <td>0</td>\n",
       "      <td>0</td>\n",
       "      <td>0</td>\n",
       "      <td>1</td>\n",
       "      <td>1</td>\n",
       "    </tr>\n",
       "    <tr>\n",
       "      <th>5</th>\n",
       "      <td>2006</td>\n",
       "      <td>F</td>\n",
       "      <td>NaN</td>\n",
       "      <td>142</td>\n",
       "      <td>0</td>\n",
       "      <td>0</td>\n",
       "      <td>0</td>\n",
       "      <td>0</td>\n",
       "      <td>0</td>\n",
       "      <td>0</td>\n",
       "      <td>...</td>\n",
       "      <td>0</td>\n",
       "      <td>0</td>\n",
       "      <td>1</td>\n",
       "      <td>0</td>\n",
       "      <td>0</td>\n",
       "      <td>0</td>\n",
       "      <td>0</td>\n",
       "      <td>0</td>\n",
       "      <td>1</td>\n",
       "      <td>0</td>\n",
       "    </tr>\n",
       "    <tr>\n",
       "      <th>6</th>\n",
       "      <td>2006</td>\n",
       "      <td>F</td>\n",
       "      <td>18.930</td>\n",
       "      <td>72</td>\n",
       "      <td>0</td>\n",
       "      <td>0</td>\n",
       "      <td>0</td>\n",
       "      <td>0</td>\n",
       "      <td>0</td>\n",
       "      <td>0</td>\n",
       "      <td>...</td>\n",
       "      <td>0</td>\n",
       "      <td>2</td>\n",
       "      <td>0</td>\n",
       "      <td>0</td>\n",
       "      <td>2</td>\n",
       "      <td>0</td>\n",
       "      <td>0</td>\n",
       "      <td>0</td>\n",
       "      <td>0</td>\n",
       "      <td>0</td>\n",
       "    </tr>\n",
       "    <tr>\n",
       "      <th>7</th>\n",
       "      <td>2006</td>\n",
       "      <td>M</td>\n",
       "      <td>18.322</td>\n",
       "      <td>17</td>\n",
       "      <td>0</td>\n",
       "      <td>0</td>\n",
       "      <td>0</td>\n",
       "      <td>1</td>\n",
       "      <td>0</td>\n",
       "      <td>0</td>\n",
       "      <td>...</td>\n",
       "      <td>0</td>\n",
       "      <td>0</td>\n",
       "      <td>0</td>\n",
       "      <td>0</td>\n",
       "      <td>0</td>\n",
       "      <td>0</td>\n",
       "      <td>0</td>\n",
       "      <td>0</td>\n",
       "      <td>0</td>\n",
       "      <td>0</td>\n",
       "    </tr>\n",
       "    <tr>\n",
       "      <th>8</th>\n",
       "      <td>2006</td>\n",
       "      <td>F</td>\n",
       "      <td>19.055</td>\n",
       "      <td>52</td>\n",
       "      <td>0</td>\n",
       "      <td>0</td>\n",
       "      <td>0</td>\n",
       "      <td>0</td>\n",
       "      <td>0</td>\n",
       "      <td>0</td>\n",
       "      <td>...</td>\n",
       "      <td>0</td>\n",
       "      <td>0</td>\n",
       "      <td>0</td>\n",
       "      <td>0</td>\n",
       "      <td>0</td>\n",
       "      <td>0</td>\n",
       "      <td>0</td>\n",
       "      <td>0</td>\n",
       "      <td>0</td>\n",
       "      <td>0</td>\n",
       "    </tr>\n",
       "    <tr>\n",
       "      <th>9</th>\n",
       "      <td>2006</td>\n",
       "      <td>F</td>\n",
       "      <td>18.708</td>\n",
       "      <td>39</td>\n",
       "      <td>0</td>\n",
       "      <td>0</td>\n",
       "      <td>0</td>\n",
       "      <td>0</td>\n",
       "      <td>0</td>\n",
       "      <td>0</td>\n",
       "      <td>...</td>\n",
       "      <td>0</td>\n",
       "      <td>0</td>\n",
       "      <td>1</td>\n",
       "      <td>0</td>\n",
       "      <td>0</td>\n",
       "      <td>0</td>\n",
       "      <td>0</td>\n",
       "      <td>0</td>\n",
       "      <td>0</td>\n",
       "      <td>0</td>\n",
       "    </tr>\n",
       "  </tbody>\n",
       "</table>\n",
       "<p>10 rows × 40 columns</p>\n",
       "</div>"
      ],
      "text/plain": [
       "   gradyear gender     age  friends  basketball  football  soccer  softball  \\\n",
       "0      2006      M  18.982        7           0         0       0         0   \n",
       "1      2006      F  18.801        0           0         1       0         0   \n",
       "2      2006      M  18.335       69           0         1       0         0   \n",
       "3      2006      F  18.875        0           0         0       0         0   \n",
       "4      2006    NaN  18.995       10           0         0       0         0   \n",
       "5      2006      F     NaN      142           0         0       0         0   \n",
       "6      2006      F  18.930       72           0         0       0         0   \n",
       "7      2006      M  18.322       17           0         0       0         1   \n",
       "8      2006      F  19.055       52           0         0       0         0   \n",
       "9      2006      F  18.708       39           0         0       0         0   \n",
       "\n",
       "   volleyball  swimming  ...  blonde  mall  shopping  clothes  hollister  \\\n",
       "0           0         0  ...       0     0         0        0          0   \n",
       "1           0         0  ...       0     1         0        0          0   \n",
       "2           0         0  ...       0     0         0        0          0   \n",
       "3           0         0  ...       0     0         0        0          0   \n",
       "4           0         0  ...       0     0         2        0          0   \n",
       "5           0         0  ...       0     0         1        0          0   \n",
       "6           0         0  ...       0     2         0        0          2   \n",
       "7           0         0  ...       0     0         0        0          0   \n",
       "8           0         0  ...       0     0         0        0          0   \n",
       "9           0         0  ...       0     0         1        0          0   \n",
       "\n",
       "   abercrombie  die  death  drunk  drugs  \n",
       "0            0    0      0      0      0  \n",
       "1            0    0      0      0      0  \n",
       "2            0    0      1      0      0  \n",
       "3            0    0      0      0      0  \n",
       "4            0    0      0      1      1  \n",
       "5            0    0      0      1      0  \n",
       "6            0    0      0      0      0  \n",
       "7            0    0      0      0      0  \n",
       "8            0    0      0      0      0  \n",
       "9            0    0      0      0      0  \n",
       "\n",
       "[10 rows x 40 columns]"
      ]
     },
     "execution_count": 1,
     "metadata": {},
     "output_type": "execute_result"
    }
   ],
   "source": [
    "import pandas as pd\n",
    "\n",
    "df = pd.read_csv(\n",
    "    \"https://raw.githubusercontent.com/jdvelasq/datalabs/master/datasets/snsdata.csv\",\n",
    "    sep=\",\",\n",
    "    thousands=None,\n",
    "    decimal=\".\",\n",
    "    encoding=\"latin-1\",\n",
    ")\n",
    "\n",
    "df.head(10)"
   ]
  },
  {
   "cell_type": "markdown",
   "metadata": {},
   "source": [
    "Verificación inicial\n",
    "---"
   ]
  },
  {
   "cell_type": "code",
   "execution_count": 2,
   "metadata": {},
   "outputs": [
    {
     "name": "stdout",
     "output_type": "stream",
     "text": [
      "<class 'pandas.core.frame.DataFrame'>\n",
      "RangeIndex: 30000 entries, 0 to 29999\n",
      "Data columns (total 40 columns):\n",
      " #   Column        Non-Null Count  Dtype  \n",
      "---  ------        --------------  -----  \n",
      " 0   gradyear      30000 non-null  int64  \n",
      " 1   gender        27276 non-null  object \n",
      " 2   age           24914 non-null  float64\n",
      " 3   friends       30000 non-null  int64  \n",
      " 4   basketball    30000 non-null  int64  \n",
      " 5   football      30000 non-null  int64  \n",
      " 6   soccer        30000 non-null  int64  \n",
      " 7   softball      30000 non-null  int64  \n",
      " 8   volleyball    30000 non-null  int64  \n",
      " 9   swimming      30000 non-null  int64  \n",
      " 10  cheerleading  30000 non-null  int64  \n",
      " 11  baseball      30000 non-null  int64  \n",
      " 12  tennis        30000 non-null  int64  \n",
      " 13  sports        30000 non-null  int64  \n",
      " 14  cute          30000 non-null  int64  \n",
      " 15  sex           30000 non-null  int64  \n",
      " 16  sexy          30000 non-null  int64  \n",
      " 17  hot           30000 non-null  int64  \n",
      " 18  kissed        30000 non-null  int64  \n",
      " 19  dance         30000 non-null  int64  \n",
      " 20  band          30000 non-null  int64  \n",
      " 21  marching      30000 non-null  int64  \n",
      " 22  music         30000 non-null  int64  \n",
      " 23  rock          30000 non-null  int64  \n",
      " 24  god           30000 non-null  int64  \n",
      " 25  church        30000 non-null  int64  \n",
      " 26  jesus         30000 non-null  int64  \n",
      " 27  bible         30000 non-null  int64  \n",
      " 28  hair          30000 non-null  int64  \n",
      " 29  dress         30000 non-null  int64  \n",
      " 30  blonde        30000 non-null  int64  \n",
      " 31  mall          30000 non-null  int64  \n",
      " 32  shopping      30000 non-null  int64  \n",
      " 33  clothes       30000 non-null  int64  \n",
      " 34  hollister     30000 non-null  int64  \n",
      " 35  abercrombie   30000 non-null  int64  \n",
      " 36  die           30000 non-null  int64  \n",
      " 37  death         30000 non-null  int64  \n",
      " 38  drunk         30000 non-null  int64  \n",
      " 39  drugs         30000 non-null  int64  \n",
      "dtypes: float64(1), int64(38), object(1)\n",
      "memory usage: 9.2+ MB\n"
     ]
    }
   ],
   "source": [
    "#\n",
    "# Hay valores nulos en todas las columnas\n",
    "#\n",
    "df.info()"
   ]
  },
  {
   "cell_type": "markdown",
   "metadata": {},
   "source": [
    "Imputación de la columna age\n",
    "---"
   ]
  },
  {
   "cell_type": "code",
   "execution_count": 3,
   "metadata": {
    "scrolled": true
   },
   "outputs": [
    {
     "data": {
      "text/plain": [
       "count    24914.000000\n",
       "mean        17.993950\n",
       "std          7.858054\n",
       "min          3.086000\n",
       "25%         16.312000\n",
       "50%         17.287000\n",
       "75%         18.259000\n",
       "max        106.927000\n",
       "Name: age, dtype: float64"
      ]
     },
     "execution_count": 3,
     "metadata": {},
     "output_type": "execute_result"
    }
   ],
   "source": [
    "#\n",
    "# La muestra contiene un rango de edades por fuera de la población de interés.\n",
    "# El total de datos no coincide con el total de la muestra.\n",
    "#\n",
    "df.age.describe()"
   ]
  },
  {
   "cell_type": "code",
   "execution_count": 4,
   "metadata": {},
   "outputs": [
    {
     "data": {
      "text/plain": [
       "5086"
      ]
     },
     "execution_count": 4,
     "metadata": {},
     "output_type": "execute_result"
    }
   ],
   "source": [
    "#\n",
    "# Número de registros con NA\n",
    "#\n",
    "df.age.isna().sum()"
   ]
  },
  {
   "cell_type": "code",
   "execution_count": 5,
   "metadata": {},
   "outputs": [
    {
     "data": {
      "text/plain": [
       "gradyear\n",
       "2006    19.137241\n",
       "2007    18.391459\n",
       "2008    17.523867\n",
       "2009    16.876025\n",
       "Name: age, dtype: float64"
      ]
     },
     "execution_count": 5,
     "metadata": {},
     "output_type": "execute_result"
    }
   ],
   "source": [
    "#\n",
    "# Se calcula una tabla para determinar la edad promedio por año de graduación\n",
    "#\n",
    "df.groupby(\"gradyear\")[\"age\"].mean()"
   ]
  },
  {
   "cell_type": "code",
   "execution_count": 6,
   "metadata": {},
   "outputs": [
    {
     "data": {
      "text/plain": [
       "0"
      ]
     },
     "execution_count": 6,
     "metadata": {},
     "output_type": "execute_result"
    }
   ],
   "source": [
    "#\n",
    "# Los valores faltantes se llenan con el promedio\n",
    "# de acuerdo con el año de graduación\n",
    "#\n",
    "import numpy as np\n",
    "\n",
    "mean_age_by_gradyear = df.groupby(\"gradyear\")[\"age\"].mean()\n",
    "df.age = np.where(np.isnan(df.age), mean_age_by_gradyear[df.gradyear], df.age)\n",
    "\n",
    "#\n",
    "# Verificación\n",
    "#\n",
    "df.age.isna().sum()"
   ]
  },
  {
   "cell_type": "markdown",
   "metadata": {
    "tags": []
   },
   "source": [
    "Selección de la muestra de interes\n",
    "---"
   ]
  },
  {
   "cell_type": "code",
   "execution_count": 7,
   "metadata": {},
   "outputs": [
    {
     "data": {
      "text/plain": [
       "29639"
      ]
     },
     "execution_count": 7,
     "metadata": {},
     "output_type": "execute_result"
    }
   ],
   "source": [
    "#\n",
    "# Se selecciona la muestra de interes ( 13 < age < 21)\n",
    "#\n",
    "df = df[(df.age > 13) & (df.age < 21)]\n",
    "len(df)"
   ]
  },
  {
   "cell_type": "markdown",
   "metadata": {},
   "source": [
    "Frecuencia de las palabras\n",
    "----"
   ]
  },
  {
   "cell_type": "code",
   "execution_count": 8,
   "metadata": {},
   "outputs": [
    {
     "data": {
      "text/plain": [
       "Index(['gradyear', 'gender', 'age', 'friends', 'basketball', 'football',\n",
       "       'soccer', 'softball', 'volleyball', 'swimming', 'cheerleading',\n",
       "       'baseball', 'tennis', 'sports', 'cute', 'sex', 'sexy', 'hot', 'kissed',\n",
       "       'dance', 'band', 'marching', 'music', 'rock', 'god', 'church', 'jesus',\n",
       "       'bible', 'hair', 'dress', 'blonde', 'mall', 'shopping', 'clothes',\n",
       "       'hollister', 'abercrombie', 'die', 'death', 'drunk', 'drugs'],\n",
       "      dtype='object')"
      ]
     },
     "execution_count": 8,
     "metadata": {},
     "output_type": "execute_result"
    }
   ],
   "source": [
    "#\n",
    "# Columnas en el dataframe\n",
    "#\n",
    "df.columns"
   ]
  },
  {
   "cell_type": "code",
   "execution_count": 9,
   "metadata": {},
   "outputs": [
    {
     "data": {
      "text/plain": [
       "Index(['friends', 'basketball', 'football', 'soccer', 'softball', 'volleyball',\n",
       "       'swimming', 'cheerleading', 'baseball', 'tennis', 'sports', 'cute',\n",
       "       'sex', 'sexy', 'hot', 'kissed', 'dance', 'band', 'marching', 'music',\n",
       "       'rock', 'god', 'church', 'jesus', 'bible', 'hair', 'dress', 'blonde',\n",
       "       'mall', 'shopping', 'clothes', 'hollister', 'abercrombie', 'die',\n",
       "       'death', 'drunk', 'drugs'],\n",
       "      dtype='object')"
      ]
     },
     "execution_count": 9,
     "metadata": {},
     "output_type": "execute_result"
    }
   ],
   "source": [
    "#\n",
    "# Se eliminan las columnas que no se incluiran en el clustering\n",
    "#\n",
    "words = df[[col for col in df.columns if col not in [\"gradyear\", \"gender\", \"age\"]]]\n",
    "words.columns"
   ]
  },
  {
   "cell_type": "code",
   "execution_count": 11,
   "metadata": {},
   "outputs": [
    {
     "data": {
      "image/png": "[encoded data removed]",
      "text/plain": [
       "<Figure size 576x504 with 1 Axes>"
      ]
     },
     "metadata": {
      "needs_background": "light"
     },
     "output_type": "display_data"
    }
   ],
   "source": [
    "import matplotlib.pyplot as plt\n",
    "\n",
    "words.max(axis=0).sort_values(ascending=True).plot.barh(figsize=(8, 7))\n",
    "plt.show()"
   ]
  },
  {
   "cell_type": "markdown",
   "metadata": {},
   "source": [
    "Preparación de la matriz de documento-termino\n",
    "---"
   ]
  },
  {
   "cell_type": "code",
   "execution_count": 15,
   "metadata": {},
   "outputs": [],
   "source": [
    "from sklearn.feature_extraction.text import TfidfTransformer\n",
    "\n",
    "transformer = TfidfTransformer(\n",
    "    norm=\"l1\",\n",
    "    use_idf=True,\n",
    "    smooth_idf=True,\n",
    "    sublinear_tf=True,\n",
    ")\n",
    "\n",
    "words_tfidf = transformer.fit_transform(words)"
   ]
  },
  {
   "cell_type": "code",
   "execution_count": 19,
   "metadata": {},
   "outputs": [],
   "source": [
    "words_tfidf = words.applymap(lambda x: 1 if x > 0 else 0)"
   ]
  },
  {
   "cell_type": "markdown",
   "metadata": {},
   "source": [
    "Clustering\n",
    "---"
   ]
  },
  {
   "cell_type": "code",
   "execution_count": 20,
   "metadata": {},
   "outputs": [
    {
     "data": {
      "image/png": "[encoded data removed]",
      "text/plain": [
       "<Figure size 432x432 with 1 Axes>"
      ]
     },
     "metadata": {
      "needs_background": "light"
     },
     "output_type": "display_data"
    }
   ],
   "source": [
    "import matplotlib.pyplot as plt\n",
    "from sklearn.cluster import KMeans\n",
    "from sklearn.metrics import silhouette_score\n",
    "\n",
    "n_clusters = 10\n",
    "scores = []\n",
    "\n",
    "for n in range(2, n_clusters):\n",
    "\n",
    "    kmeans = KMeans(n_clusters=n)\n",
    "    kmeans.fit(words_tfidf)\n",
    "    labels = kmeans.labels_\n",
    "    scores.append(silhouette_score(words_tfidf, labels, metric=\"euclidean\"))\n",
    "\n",
    "\n",
    "plt.figure(figsize=(6, 6))\n",
    "plt.plot(range(2, n_clusters), scores, marker=\"o\", color=\"tab:blue\", alpha=0.9)\n",
    "plt.xlabel(\"número de clusters\")\n",
    "plt.gca().spines[\"left\"].set_color(\"gray\")\n",
    "plt.gca().spines[\"bottom\"].set_color(\"gray\")\n",
    "plt.gca().spines[\"top\"].set_visible(False)\n",
    "plt.gca().spines[\"right\"].set_visible(False)\n",
    "plt.grid()\n",
    "plt.show()"
   ]
  },
  {
   "cell_type": "markdown",
   "metadata": {},
   "source": [
    "Interpretabilidad\n",
    "---"
   ]
  },
  {
   "cell_type": "code",
   "execution_count": 21,
   "metadata": {},
   "outputs": [],
   "source": [
    "kmeans = KMeans(n_clusters=5)\n",
    "kmeans.fit(words_tfidf)"
   ]
  },
  {
   "cell_type": "code",
   "execution_count": 26,
   "metadata": {},
   "outputs": [
    {
     "data": {
      "text/plain": [
       "<matplotlib.axes._subplots.AxesSubplot at 0x7f285b7869e8>"
      ]
     },
     "execution_count": 26,
     "metadata": {},
     "output_type": "execute_result"
    },
    {
     "data": {
      "image/png": "[encoded data removed]",
      "text/plain": [
       "<Figure size 432x720 with 2 Axes>"
      ]
     },
     "metadata": {
      "needs_background": "light"
     },
     "output_type": "display_data"
    }
   ],
   "source": [
    "import pandas as pd\n",
    "import seaborn as sns\n",
    "\n",
    "clusters_df = pd.DataFrame(\n",
    "    kmeans.cluster_centers_.T,\n",
    "    columns=[\"cluster{}\".format(i) for i in range(5)],\n",
    "    index=df.columns[3:],\n",
    ")\n",
    "\n",
    "plt.figure(figsize=(6, 10))\n",
    "sns.heatmap(clusters_df, cmap=\"Greys\")\n",
    "plt.show()"
   ]
  },
  {
   "cell_type": "code",
   "execution_count": null,
   "metadata": {},
   "outputs": [],
   "source": []
  },
  {
   "cell_type": "code",
   "execution_count": null,
   "metadata": {},
   "outputs": [],
   "source": []
  },
  {
   "cell_type": "code",
   "execution_count": null,
   "metadata": {},
   "outputs": [],
   "source": []
  },
  {
   "cell_type": "code",
   "execution_count": null,
   "metadata": {},
   "outputs": [],
   "source": []
  },
  {
   "cell_type": "code",
   "execution_count": null,
   "metadata": {},
   "outputs": [],
   "source": []
  },
  {
   "cell_type": "markdown",
   "metadata": {},
   "source": [
    "Preparación de los datos\n",
    "---"
   ]
  },
  {
   "cell_type": "code",
   "execution_count": null,
   "metadata": {},
   "outputs": [],
   "source": [
    "#\n",
    "# Número de registros\n",
    "#\n",
    "len(df)"
   ]
  },
  {
   "cell_type": "code",
   "execution_count": null,
   "metadata": {},
   "outputs": [],
   "source": []
  },
  {
   "cell_type": "markdown",
   "metadata": {
    "tags": []
   },
   "source": [
    "Clustering\n",
    "---"
   ]
  },
  {
   "cell_type": "code",
   "execution_count": null,
   "metadata": {},
   "outputs": [],
   "source": [
    "#\n",
    "# Se escala para eliminar problemas asociados a la medida de los datos.\n",
    "#\n",
    "import matplotlib.pyplot as plt\n",
    "from sklearn.cluster import KMeans\n",
    "from sklearn.metrics import silhouette_score\n",
    "from sklearn.preprocessing import MinMaxScaler\n",
    "\n",
    "minMaxScaler = MinMaxScaler()\n",
    "interests_z = minMaxScaler.fit_transform(interests)\n",
    "\n",
    "\n",
    "from sklearn.cluster import KMeans\n",
    "\n",
    "n_clusters = 10\n",
    "scores = []\n",
    "\n",
    "for n in range(2, n_clusters):\n",
    "\n",
    "    kmeans = KMeans(n_clusters=n)\n",
    "    kmeans.fit(interests_z)\n",
    "    labels = kmeans.labels_\n",
    "    scores.append(silhouette_score(interests_z, labels, metric=\"euclidean\"))\n",
    "\n",
    "\n",
    "plt.figure(figsize=(6, 6))\n",
    "plt.plot(range(2, n_clusters), scores, marker=\"o\", color=\"tab:blue\", alpha=0.9)\n",
    "plt.xlabel(\"número de clusters\")\n",
    "plt.gca().spines[\"left\"].set_color(\"gray\")\n",
    "plt.gca().spines[\"bottom\"].set_color(\"gray\")\n",
    "plt.gca().spines[\"top\"].set_visible(False)\n",
    "plt.gca().spines[\"right\"].set_visible(False)\n",
    "plt.grid()\n",
    "plt.show()"
   ]
  },
  {
   "cell_type": "code",
   "execution_count": null,
   "metadata": {},
   "outputs": [],
   "source": []
  },
  {
   "cell_type": "code",
   "execution_count": null,
   "metadata": {},
   "outputs": [],
   "source": []
  },
  {
   "cell_type": "code",
   "execution_count": null,
   "metadata": {},
   "outputs": [],
   "source": []
  },
  {
   "cell_type": "code",
   "execution_count": null,
   "metadata": {},
   "outputs": [],
   "source": []
  },
  {
   "cell_type": "code",
   "execution_count": null,
   "metadata": {},
   "outputs": [],
   "source": []
  },
  {
   "cell_type": "code",
   "execution_count": null,
   "metadata": {},
   "outputs": [],
   "source": []
  },
  {
   "cell_type": "code",
   "execution_count": null,
   "metadata": {
    "tags": []
   },
   "outputs": [],
   "source": [
    "#\n",
    "# Se separa la información de las palabras relacionadas\n",
    "# con los intereses del resto de la información\n",
    "##\n",
    "interests = df.iloc[:, 4:].copy()\n",
    "interests.head()"
   ]
  },
  {
   "cell_type": "code",
   "execution_count": null,
   "metadata": {},
   "outputs": [],
   "source": []
  },
  {
   "cell_type": "code",
   "execution_count": null,
   "metadata": {},
   "outputs": [],
   "source": [
    "#\n",
    "# Se usa el algoritmo para determinar los centros de 5 grupos\n",
    "#"
   ]
  },
  {
   "cell_type": "code",
   "execution_count": null,
   "metadata": {},
   "outputs": [],
   "source": []
  },
  {
   "cell_type": "code",
   "execution_count": null,
   "metadata": {},
   "outputs": [],
   "source": []
  },
  {
   "cell_type": "code",
   "execution_count": null,
   "metadata": {},
   "outputs": [],
   "source": []
  },
  {
   "cell_type": "markdown",
   "metadata": {},
   "source": [
    "## Evaluación del modelo"
   ]
  },
  {
   "cell_type": "code",
   "execution_count": null,
   "metadata": {},
   "outputs": [],
   "source": [
    "#\n",
    "# Número de patrones asignados a cada cluster\n",
    "#\n",
    "(pd.DataFrame(df_clusters.predict(interests_z)))[0].value_counts()"
   ]
  },
  {
   "cell_type": "code",
   "execution_count": null,
   "metadata": {},
   "outputs": [],
   "source": [
    "#\n",
    "# Frecuencia de las palabras en cada cluster\n",
    "#\n",
    "df_clusters.cluster_centers_"
   ]
  },
  {
   "cell_type": "markdown",
   "metadata": {},
   "source": [
    "**Actividad.---** Haga un heatmap para la interpretación de los grupos."
   ]
  },
  {
   "cell_type": "markdown",
   "metadata": {},
   "source": [
    "**Actividad.---** Cuál de los clusters anteriores tiene más interés en los deportes?"
   ]
  },
  {
   "cell_type": "markdown",
   "metadata": {},
   "source": [
    "**Actividad.---** Cuál es el cluster de las princesas?"
   ]
  },
  {
   "cell_type": "markdown",
   "metadata": {},
   "source": [
    "**Actividad.---** Cuál cluster representa las personas que no hablan o no han posteado sobre sus intereses?"
   ]
  },
  {
   "cell_type": "markdown",
   "metadata": {},
   "source": [
    "## Análisis del modelo"
   ]
  },
  {
   "cell_type": "code",
   "execution_count": null,
   "metadata": {
    "tags": []
   },
   "outputs": [],
   "source": [
    "#\n",
    "# Se asigna a cada ejemplo de los datos\n",
    "# el cluster al que pertenece\n",
    "#\n",
    "df[\"cluster\"] = df_clusters.predict(interests_z).tolist()\n",
    "\n",
    "#\n",
    "# clusters a los que pertenecen los primeros cinco patrones\n",
    "#\n",
    "df[[\"cluster\", \"gender\", \"age\", \"friends\"]].head(5)"
   ]
  },
  {
   "cell_type": "code",
   "execution_count": null,
   "metadata": {},
   "outputs": [],
   "source": [
    "#\n",
    "# Características demográficas de los clusters.\n",
    "# Edad por cluster.\n",
    "#\n",
    "df.groupby(\"cluster\")[\"age\"].mean()"
   ]
  },
  {
   "cell_type": "code",
   "execution_count": null,
   "metadata": {},
   "outputs": [],
   "source": [
    "#\n",
    "# Promedio de mujeres por cluster\n",
    "#\n",
    "\n",
    "#\n",
    "# cluster\tfemale\n",
    "#       1 0.8381171\n",
    "#       2 0.7250000\n",
    "#       3 0.8378198\n",
    "#       4 0.8027079\n",
    "#       5 0.6994515\n",
    "#\n",
    "df.groupby(\"cluster\")[\"female\"].mean()"
   ]
  },
  {
   "cell_type": "code",
   "execution_count": null,
   "metadata": {},
   "outputs": [],
   "source": [
    "for a, b in df.groupby(\"cluster\"):\n",
    "    print(b[\"female\"].sum())"
   ]
  },
  {
   "cell_type": "code",
   "execution_count": null,
   "metadata": {
    "scrolled": true
   },
   "outputs": [],
   "source": [
    "#\n",
    "# Cantidad promedio de amigos por cluster\n",
    "#\n",
    "df.groupby(\"cluster\")[\"friends\"].mean()"
   ]
  },
  {
   "cell_type": "markdown",
   "metadata": {},
   "source": [
    "**Actividad.---** Al analizar las distintas variables presentadas, qué puede inferir de cada cluster?"
   ]
  },
  {
   "cell_type": "markdown",
   "metadata": {},
   "source": [
    "**Actividad.---** Repita este ejercicio usando clustering jerárquico."
   ]
  }
 ],
 "metadata": {
  "kernel_info": {
   "name": "python3"
  },
  "kernelspec": {
   "display_name": "Python 3",
   "language": "python",
   "name": "python3"
  },
  "language_info": {
   "codemirror_mode": {
    "name": "ipython",
    "version": 3
   },
   "file_extension": ".py",
   "mimetype": "text/x-python",
   "name": "python",
   "nbconvert_exporter": "python",
   "pygments_lexer": "ipython3",
   "version": "3.6.9"
  },
  "nteract": {
   "version": "0.7.1"
  }
 },
 "nbformat": 4,
 "nbformat_minor": 4
}
