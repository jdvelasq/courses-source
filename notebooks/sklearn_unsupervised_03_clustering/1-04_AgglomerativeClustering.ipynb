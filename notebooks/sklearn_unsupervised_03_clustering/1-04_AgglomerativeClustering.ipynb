{
 "cells": [
  {
   "cell_type": "markdown",
   "id": "c8caa4a8-d12b-403e-9c2a-d252d8074713",
   "metadata": {
    "tags": []
   },
   "source": [
    "Agrupamiento aglomerativo --- 7:10 min\n",
    "===\n",
    "\n",
    "* 7:10 min | Ultima modificación: Octubre 13, 2021 | [YouTube](https://youtu.be/2cm7ZxhbiUs)"
   ]
  },
  {
   "cell_type": "markdown",
   "id": "12fec88a-3c8d-472d-956c-46bebcca3ed0",
   "metadata": {},
   "source": [
    "Los métodos de agrupamiento jerárquico son una familia de algoritmos que construyen clusters anidados ya sea por unión o partición de clusters, formando un árbol. La raíz del árbol corresponde a un único cluster que contiene todos los datos, mientras que los nodos terminales contienen un único dato."
   ]
  },
  {
   "cell_type": "markdown",
   "id": "b44620b9-f7fd-4db5-b4f1-601950b824de",
   "metadata": {},
   "source": [
    "En sklearn se implementa el algoritmo de clustering aglomerativo en donde se inicia asignando un cluster a cada muestra de datos. El algoritmo une los dos clusters más cercanos en cada iteración. Existen diferentes criterios de enlace (linkage) entre los clusters:"
   ]
  },
  {
   "cell_type": "markdown",
   "id": "1f8d5045-4eeb-4ffc-958e-8ccfc9b2380d",
   "metadata": {},
   "source": [
    "* 'maximum': Se minimiza la máxima distancia entre observaciones de pares de clusters. La distancia entre dos clusters es calculada como:\n",
    "\n",
    "$$\n",
    "\\text{dist}(A, B) = \\max\\{\n",
    "d(a,b) \\; : \\; a \\in A, b \\in B\n",
    "\\}\n",
    "$$"
   ]
  },
  {
   "cell_type": "markdown",
   "id": "c8dd23ff-ca7a-46b3-90ad-8a15eebff0be",
   "metadata": {},
   "source": [
    "* 'single': minimiza la distancia entre las observaciones más cercanas de pares de clusters. La distancia entre dos clusters es calculada como:\n",
    "\n",
    "$$\n",
    "\\text{dist}(A, B) = \\min\\{\n",
    "d(a,b) \\; : \\; a \\in A, b \\in B\n",
    "\\}\n",
    "$$"
   ]
  },
  {
   "cell_type": "markdown",
   "id": "9b6c9029-cf7d-4ec2-9a36-b5ec3ac13779",
   "metadata": {},
   "source": [
    "* 'ward': Este es un criterio de mínima varianza. En cada iteración se busca el par de clusters que llevan al mínimo incremento de la varianza entre elementos del cluster. Es decir, si se tienen cuatro clusters A, B, C y D, se evaluan las parejas (A, B), (A, C), ..., (C, D) y se selecciona aquella con la mínima varianza."
   ]
  },
  {
   "cell_type": "markdown",
   "id": "2336ecf1-84b6-4d20-b94e-30f2def7551c",
   "metadata": {},
   "source": [
    "* 'average': minimiza el promedio de las distancias entre todas las observaciones de pares de clusters.\n",
    "\n",
    "$$\n",
    "\\text{dist}(A, B) = \\text{mean}\\{\n",
    "d(a,b) \\; : \\; a \\in A, b \\in B\n",
    "\\}\n",
    "$$"
   ]
  },
  {
   "cell_type": "markdown",
   "id": "57ba7e7a-033a-4ae7-80a0-50d4b8d6e547",
   "metadata": {},
   "source": [
    "En este algoritmo tambien tiene que definirse el parámetro 'affinity' que indica la forma en como se computa la métrica $d(a,b)$."
   ]
  },
  {
   "cell_type": "markdown",
   "id": "c1dbc8b6-d690-4eb4-a688-ba25f690bb96",
   "metadata": {},
   "source": [
    "* 'euclidian'\n",
    "\n",
    "$$\n",
    "\\text{d}(x, y) = \\sqrt{ \n",
    "\\sum_i (x_i - y_i) ^2\n",
    "}\n",
    "$$"
   ]
  },
  {
   "cell_type": "markdown",
   "id": "ebe70446-1d52-4517-ac62-73fcfc8ea282",
   "metadata": {},
   "source": [
    "* 'l1': Correspnde a la distancia de Manhattan.\n",
    "\n",
    "$$\n",
    "\\text{d}(x, y) = ||x - y|| = \\sum_i |x_i - y_i|\n",
    "$$\n",
    "\n"
   ]
  },
  {
   "cell_type": "markdown",
   "id": "c9d1df3e-6938-4442-8ceb-b35e914e1d28",
   "metadata": {},
   "source": [
    "* 'l2'\n",
    "\n",
    "* 'cosine'"
   ]
  },
  {
   "cell_type": "code",
   "execution_count": 1,
   "id": "76dab5db-e954-451c-ab9b-4f39007f8c60",
   "metadata": {},
   "outputs": [
    {
     "data": {
      "image/png": "[encoded data removed]",
      "text/plain": [
       "<Figure size 432x432 with 1 Axes>"
      ]
     },
     "metadata": {
      "needs_background": "light"
     },
     "output_type": "display_data"
    }
   ],
   "source": [
    "import matplotlib.pyplot as plt\n",
    "from sklearn.datasets import make_blobs\n",
    "\n",
    "X, y = make_blobs(\n",
    "    n_samples=120,\n",
    "    n_features=2,\n",
    "    centers=[\n",
    "        [7, 7],\n",
    "        [-7, 7],\n",
    "        [-7, -7],\n",
    "        [7, -7],\n",
    "    ],\n",
    "    cluster_std=2.0,\n",
    "    shuffle=False,\n",
    "    random_state=5,\n",
    ")\n",
    "\n",
    "plt.figure(figsize=(6, 6))\n",
    "\n",
    "plt.scatter(\n",
    "    X[:, 0],\n",
    "    X[:, 1],\n",
    "    color=\"tab:gray\",\n",
    "    edgecolors=\"k\",\n",
    "    s=50,\n",
    "    alpha=0.9,\n",
    ")\n",
    "\n",
    "plt.gca().spines[\"left\"].set_color(\"gray\")\n",
    "plt.gca().spines[\"bottom\"].set_color(\"gray\")\n",
    "plt.gca().spines[\"top\"].set_visible(False)\n",
    "plt.gca().spines[\"right\"].set_visible(False)\n",
    "plt.axis(\"equal\")\n",
    "plt.show()"
   ]
  },
  {
   "cell_type": "code",
   "execution_count": 2,
   "id": "460ccf57-77f8-434a-ba00-9c80c016da84",
   "metadata": {},
   "outputs": [
    {
     "data": {
      "text/plain": [
       "AgglomerativeClustering(affinity='euclidean', compute_full_tree='auto',\n",
       "                        connectivity=None, distance_threshold=0, linkage='ward',\n",
       "                        memory=None, n_clusters=None)"
      ]
     },
     "execution_count": 2,
     "metadata": {},
     "output_type": "execute_result"
    }
   ],
   "source": [
    "from sklearn.cluster import AgglomerativeClustering\n",
    "\n",
    "agglomerativeClustering = AgglomerativeClustering(\n",
    "    # -------------------------------------------------------------------------\n",
    "    # The number of clusters to find. \n",
    "    n_clusters = None,\n",
    "    # -------------------------------------------------------------------------\n",
    "    # \"l1\", \"l2\", \"manhattan\", \"cosine\", or \"precomputed\". If linkage is \n",
    "    # \"ward\", only \"euclidean\" is accepted.\n",
    "    affinity='euclidean',\n",
    "    # -------------------------------------------------------------------------\n",
    "    # {'ward', 'complete', 'average', 'single'}\n",
    "    linkage='ward',\n",
    "    # -------------------------------------------------------------------------\n",
    "    # The linkage distance threshold above which, clusters will not be merged.\n",
    "    distance_threshold=0,\n",
    ")\n",
    "\n",
    "agglomerativeClustering.fit(X)"
   ]
  },
  {
   "cell_type": "code",
   "execution_count": 3,
   "id": "b7736653-2d34-4260-8ac0-750f559e36ee",
   "metadata": {},
   "outputs": [
    {
     "data": {
      "text/plain": [
       "120"
      ]
     },
     "execution_count": 3,
     "metadata": {},
     "output_type": "execute_result"
    }
   ],
   "source": [
    "agglomerativeClustering.n_clusters_"
   ]
  },
  {
   "cell_type": "code",
   "execution_count": 4,
   "id": "33724982-26cc-4e29-b944-8cd44d77d19e",
   "metadata": {},
   "outputs": [
    {
     "data": {
      "text/plain": [
       "array([ 89, 103, 101, 106, 109,  62,  65,  90, 119, 107,  82,  76,  95,\n",
       "        72,  59, 111, 110, 102, 116,  80,  87,  92, 108,  74, 105,  63,\n",
       "        81,  44,  83,  73,  98,  99,  94,  40,  75, 100,  50,  77, 115,\n",
       "       114,  57,  91,  60,  71,  67,  54,  79, 113,  86,  37,  93,  68,\n",
       "        78,  69, 117,  85,  39,  66,  33, 104,  51,  46,  64,  45,  31,\n",
       "       118,  35,  96,  58,  70,  88,  52,  43,  29,  61,  28,  84,  49,\n",
       "        47,  42,  53,  30,  56,  97,  14,  24,  41,  19,  48,  21,  34,\n",
       "        25,  38,  16,  32,  36, 112,  15,  55,  26,  27,  22,  20,  13,\n",
       "        17,  18,   9,  10,  23,   8,  11,   7,  12,   6,   3,   5,   2,\n",
       "         4,   1,   0])"
      ]
     },
     "execution_count": 4,
     "metadata": {},
     "output_type": "execute_result"
    }
   ],
   "source": [
    "agglomerativeClustering.labels_"
   ]
  },
  {
   "cell_type": "code",
   "execution_count": 5,
   "id": "5ea11864-3fd2-4c15-976f-e052d0b32298",
   "metadata": {},
   "outputs": [
    {
     "data": {
      "text/plain": [
       "120"
      ]
     },
     "execution_count": 5,
     "metadata": {},
     "output_type": "execute_result"
    }
   ],
   "source": [
    "agglomerativeClustering.n_leaves_"
   ]
  },
  {
   "cell_type": "code",
   "execution_count": 6,
   "id": "542c465d-786a-4db1-ba1d-e539711f9235",
   "metadata": {},
   "outputs": [
    {
     "data": {
      "image/png": "[encoded data removed]",
      "text/plain": [
       "<Figure size 576x432 with 1 Axes>"
      ]
     },
     "metadata": {
      "needs_background": "light"
     },
     "output_type": "display_data"
    }
   ],
   "source": [
    "import numpy as np\n",
    "from matplotlib import pyplot as plt\n",
    "from scipy.cluster.hierarchy import dendrogram\n",
    "\n",
    "\n",
    "def plot_dendrogram(model, **kwargs):\n",
    "    counts = np.zeros(model.children_.shape[0])\n",
    "    n_samples = len(model.labels_)\n",
    "    for i, merge in enumerate(model.children_):\n",
    "        current_count = 0\n",
    "        for child_idx in merge:\n",
    "            if child_idx < n_samples:\n",
    "                current_count += 1  # leaf node\n",
    "            else:\n",
    "                current_count += counts[child_idx - n_samples]\n",
    "        counts[i] = current_count\n",
    "\n",
    "    linkage_matrix = np.column_stack(\n",
    "        [model.children_, model.distances_, counts]\n",
    "    ).astype(float)\n",
    "    dendrogram(linkage_matrix, **kwargs)\n",
    "\n",
    "\n",
    "plt.figure(figsize=(8,6))\n",
    "plot_dendrogram(\n",
    "    agglomerativeClustering,\n",
    "    truncate_mode=\"level\",\n",
    "    p=4,\n",
    ")"
   ]
  }
 ],
 "metadata": {
  "kernelspec": {
   "display_name": "Python 3",
   "language": "python",
   "name": "python3"
  },
  "language_info": {
   "codemirror_mode": {
    "name": "ipython",
    "version": 3
   },
   "file_extension": ".py",
   "mimetype": "text/x-python",
   "name": "python",
   "nbconvert_exporter": "python",
   "pygments_lexer": "ipython3",
   "version": "3.6.9"
  }
 },
 "nbformat": 4,
 "nbformat_minor": 5
}
