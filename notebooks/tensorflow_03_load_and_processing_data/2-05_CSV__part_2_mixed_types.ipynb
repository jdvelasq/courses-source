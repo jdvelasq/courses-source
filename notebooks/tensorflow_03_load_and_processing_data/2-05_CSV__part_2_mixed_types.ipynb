{
 "cells": [
  {
   "cell_type": "markdown",
   "id": "c7ca9506-c2e6-4606-9337-708d40a43160",
   "metadata": {
    "tags": []
   },
   "source": [
    "Procesamiento de archivos CSV con datos mixtos usando Keras--- 23:23 min\n",
    "===\n",
    "\n",
    "* Última modificación: Mayo 6, 2022 | [YouTube](https://youtu.be/q_Lv_wpt9Ug)"
   ]
  },
  {
   "cell_type": "markdown",
   "id": "eb8e6462-397d-4537-9a3c-3a35820a61e6",
   "metadata": {
    "tags": []
   },
   "source": [
    "Importación de librerías\n",
    "---"
   ]
  },
  {
   "cell_type": "code",
   "execution_count": 1,
   "id": "263d798c-a015-4188-89ce-74d6d167848b",
   "metadata": {},
   "outputs": [],
   "source": [
    "import os\n",
    "\n",
    "os.environ[\"TF_CPP_MIN_LOG_LEVEL\"] = \"2\"\n",
    "\n",
    "import tensorflow as tf"
   ]
  },
  {
   "cell_type": "markdown",
   "id": "e84f2bff-86c7-4c0c-aba6-ae157e12dbd7",
   "metadata": {},
   "source": [
    "Entradas simbólicas\n",
    "---"
   ]
  },
  {
   "cell_type": "code",
   "execution_count": 2,
   "id": "24afd204-ef22-48af-8e46-f72136eafbca",
   "metadata": {},
   "outputs": [
    {
     "data": {
      "text/plain": [
       "<KerasTensor: shape=(None,) dtype=float32 (created by layer 'tf.__operators__.add')>"
      ]
     },
     "execution_count": 2,
     "metadata": {},
     "output_type": "execute_result"
    }
   ],
   "source": [
    "#\n",
    "# Se crea una entrada simbolica (funciona como si fuese una capa de entrada)\n",
    "#\n",
    "input = tf.keras.Input(shape=(), dtype=tf.float32)\n",
    "\n",
    "#\n",
    "# Cálculo sobre la entrada\n",
    "#\n",
    "result = 2 * input + 1\n",
    "\n",
    "#\n",
    "# El resultado contiene el calculo sin ejecutar\n",
    "#\n",
    "result"
   ]
  },
  {
   "cell_type": "code",
   "execution_count": 3,
   "id": "7193aa81-0435-4c40-90b9-5f3b5a982091",
   "metadata": {},
   "outputs": [
    {
     "name": "stdout",
     "output_type": "stream",
     "text": [
      "3.0\n",
      "5.0\n"
     ]
    }
   ],
   "source": [
    "#\n",
    "# Se crea un modelo que usa la entrada anterio\n",
    "#\n",
    "calc = tf.keras.Model(\n",
    "    inputs=input,\n",
    "    outputs=result,\n",
    ")\n",
    "\n",
    "#\n",
    "# Se ejecuta el grafico computacional\n",
    "#\n",
    "print(calc(1).numpy())\n",
    "print(calc(2).numpy())"
   ]
  },
  {
   "cell_type": "markdown",
   "id": "2847ec91-c415-4186-a1e3-c068b426a77b",
   "metadata": {},
   "source": [
    "Manejo de datos mixtos en un modelo\n",
    "---"
   ]
  },
  {
   "cell_type": "code",
   "execution_count": 4,
   "id": "fd4ea88b-92a2-4d8e-863d-b4d7d9b9220a",
   "metadata": {},
   "outputs": [
    {
     "data": {
      "text/html": [
       "<div>\n",
       "<style scoped>\n",
       "    .dataframe tbody tr th:only-of-type {\n",
       "        vertical-align: middle;\n",
       "    }\n",
       "\n",
       "    .dataframe tbody tr th {\n",
       "        vertical-align: top;\n",
       "    }\n",
       "\n",
       "    .dataframe thead th {\n",
       "        text-align: right;\n",
       "    }\n",
       "</style>\n",
       "<table border=\"1\" class=\"dataframe\">\n",
       "  <thead>\n",
       "    <tr style=\"text-align: right;\">\n",
       "      <th></th>\n",
       "      <th>survived</th>\n",
       "      <th>sex</th>\n",
       "      <th>age</th>\n",
       "      <th>n_siblings_spouses</th>\n",
       "      <th>parch</th>\n",
       "      <th>fare</th>\n",
       "      <th>class</th>\n",
       "      <th>deck</th>\n",
       "      <th>embark_town</th>\n",
       "      <th>alone</th>\n",
       "    </tr>\n",
       "  </thead>\n",
       "  <tbody>\n",
       "    <tr>\n",
       "      <th>0</th>\n",
       "      <td>0</td>\n",
       "      <td>male</td>\n",
       "      <td>22.0</td>\n",
       "      <td>1</td>\n",
       "      <td>0</td>\n",
       "      <td>7.2500</td>\n",
       "      <td>Third</td>\n",
       "      <td>unknown</td>\n",
       "      <td>Southampton</td>\n",
       "      <td>n</td>\n",
       "    </tr>\n",
       "    <tr>\n",
       "      <th>1</th>\n",
       "      <td>1</td>\n",
       "      <td>female</td>\n",
       "      <td>38.0</td>\n",
       "      <td>1</td>\n",
       "      <td>0</td>\n",
       "      <td>71.2833</td>\n",
       "      <td>First</td>\n",
       "      <td>C</td>\n",
       "      <td>Cherbourg</td>\n",
       "      <td>n</td>\n",
       "    </tr>\n",
       "    <tr>\n",
       "      <th>2</th>\n",
       "      <td>1</td>\n",
       "      <td>female</td>\n",
       "      <td>26.0</td>\n",
       "      <td>0</td>\n",
       "      <td>0</td>\n",
       "      <td>7.9250</td>\n",
       "      <td>Third</td>\n",
       "      <td>unknown</td>\n",
       "      <td>Southampton</td>\n",
       "      <td>y</td>\n",
       "    </tr>\n",
       "    <tr>\n",
       "      <th>3</th>\n",
       "      <td>1</td>\n",
       "      <td>female</td>\n",
       "      <td>35.0</td>\n",
       "      <td>1</td>\n",
       "      <td>0</td>\n",
       "      <td>53.1000</td>\n",
       "      <td>First</td>\n",
       "      <td>C</td>\n",
       "      <td>Southampton</td>\n",
       "      <td>n</td>\n",
       "    </tr>\n",
       "    <tr>\n",
       "      <th>4</th>\n",
       "      <td>0</td>\n",
       "      <td>male</td>\n",
       "      <td>28.0</td>\n",
       "      <td>0</td>\n",
       "      <td>0</td>\n",
       "      <td>8.4583</td>\n",
       "      <td>Third</td>\n",
       "      <td>unknown</td>\n",
       "      <td>Queenstown</td>\n",
       "      <td>y</td>\n",
       "    </tr>\n",
       "  </tbody>\n",
       "</table>\n",
       "</div>"
      ],
      "text/plain": [
       "   survived     sex   age  n_siblings_spouses  parch     fare  class     deck  \\\n",
       "0         0    male  22.0                   1      0   7.2500  Third  unknown   \n",
       "1         1  female  38.0                   1      0  71.2833  First        C   \n",
       "2         1  female  26.0                   0      0   7.9250  Third  unknown   \n",
       "3         1  female  35.0                   1      0  53.1000  First        C   \n",
       "4         0    male  28.0                   0      0   8.4583  Third  unknown   \n",
       "\n",
       "   embark_town alone  \n",
       "0  Southampton     n  \n",
       "1    Cherbourg     n  \n",
       "2  Southampton     y  \n",
       "3  Southampton     n  \n",
       "4   Queenstown     y  "
      ]
     },
     "execution_count": 4,
     "metadata": {},
     "output_type": "execute_result"
    }
   ],
   "source": [
    "import pandas as pd\n",
    "\n",
    "titanic = pd.read_csv(\"https://storage.googleapis.com/tf-datasets/titanic/train.csv\")\n",
    "titanic.head()"
   ]
  },
  {
   "cell_type": "code",
   "execution_count": 5,
   "id": "1037cf13-0df4-498c-9cc8-e509dc4874b5",
   "metadata": {},
   "outputs": [],
   "source": [
    "titanic_features = titanic.copy()\n",
    "titanic_labels = titanic_features.pop(\"survived\")"
   ]
  },
  {
   "cell_type": "code",
   "execution_count": 6,
   "id": "29c7965c-5f62-4f49-8aac-cc643a84ca29",
   "metadata": {},
   "outputs": [
    {
     "data": {
      "text/plain": [
       "{'sex': <KerasTensor: shape=(None, 1) dtype=string (created by layer 'sex')>,\n",
       " 'age': <KerasTensor: shape=(None, 1) dtype=float32 (created by layer 'age')>,\n",
       " 'n_siblings_spouses': <KerasTensor: shape=(None, 1) dtype=float32 (created by layer 'n_siblings_spouses')>,\n",
       " 'parch': <KerasTensor: shape=(None, 1) dtype=float32 (created by layer 'parch')>,\n",
       " 'fare': <KerasTensor: shape=(None, 1) dtype=float32 (created by layer 'fare')>,\n",
       " 'class': <KerasTensor: shape=(None, 1) dtype=string (created by layer 'class')>,\n",
       " 'deck': <KerasTensor: shape=(None, 1) dtype=string (created by layer 'deck')>,\n",
       " 'embark_town': <KerasTensor: shape=(None, 1) dtype=string (created by layer 'embark_town')>,\n",
       " 'alone': <KerasTensor: shape=(None, 1) dtype=string (created by layer 'alone')>}"
      ]
     },
     "execution_count": 6,
     "metadata": {},
     "output_type": "execute_result"
    }
   ],
   "source": [
    "inputs = {}\n",
    "\n",
    "for name, column in titanic_features.items():\n",
    "    dtype = column.dtype\n",
    "    if dtype == object:\n",
    "        dtype = tf.string\n",
    "    else:\n",
    "        dtype = tf.float32\n",
    "\n",
    "    inputs[name] = tf.keras.Input(shape=(1,), name=name, dtype=dtype)\n",
    "\n",
    "inputs"
   ]
  },
  {
   "cell_type": "markdown",
   "id": "ec3a5fca-46a1-4ea5-9257-f15f189ed803",
   "metadata": {},
   "source": [
    "Procesamiento de las entradas numéricas concatenadas\n",
    "---"
   ]
  },
  {
   "cell_type": "code",
   "execution_count": 7,
   "id": "8469eab8-cf9b-4ebe-9f84-27398dbe453c",
   "metadata": {},
   "outputs": [
    {
     "data": {
      "text/plain": [
       "{'age': <KerasTensor: shape=(None, 1) dtype=float32 (created by layer 'age')>,\n",
       " 'n_siblings_spouses': <KerasTensor: shape=(None, 1) dtype=float32 (created by layer 'n_siblings_spouses')>,\n",
       " 'parch': <KerasTensor: shape=(None, 1) dtype=float32 (created by layer 'parch')>,\n",
       " 'fare': <KerasTensor: shape=(None, 1) dtype=float32 (created by layer 'fare')>}"
      ]
     },
     "execution_count": 7,
     "metadata": {},
     "output_type": "execute_result"
    }
   ],
   "source": [
    "import numpy as np\n",
    "\n",
    "#\n",
    "# Crea un diccionario con las entradas numéricas\n",
    "#\n",
    "numeric_inputs = {\n",
    "    name: input for name, input in inputs.items() if input.dtype == tf.float32\n",
    "}\n",
    "\n",
    "numeric_inputs"
   ]
  },
  {
   "cell_type": "code",
   "execution_count": 8,
   "id": "63129316-3aa1-4a6e-b043-7655dd61c91e",
   "metadata": {},
   "outputs": [
    {
     "data": {
      "text/plain": [
       "<KerasTensor: shape=(None, 4) dtype=float32 (created by layer 'concatenate')>"
      ]
     },
     "execution_count": 8,
     "metadata": {},
     "output_type": "execute_result"
    }
   ],
   "source": [
    "#\n",
    "# Capa de concatenación\n",
    "#\n",
    "concatenate_layer = tf.keras.layers.Concatenate()\n",
    "x = concatenate_layer(list(numeric_inputs.values()))\n",
    "x"
   ]
  },
  {
   "cell_type": "code",
   "execution_count": 9,
   "id": "0c9965cc-bd3b-4546-9060-651ad30ec721",
   "metadata": {},
   "outputs": [
    {
     "data": {
      "text/plain": [
       "<KerasTensor: shape=(None, 4) dtype=float32 (created by layer 'normalization')>"
      ]
     },
     "execution_count": 9,
     "metadata": {},
     "output_type": "execute_result"
    }
   ],
   "source": [
    "#\n",
    "# Capa de normalizacion\n",
    "#\n",
    "norm = tf.keras.layers.Normalization()\n",
    "norm.adapt(np.array(titanic[numeric_inputs.keys()]))\n",
    "\n",
    "#\n",
    "# Aplica la normalización a las entradas numéricas\n",
    "#\n",
    "all_numeric_inputs = norm(x)\n",
    "\n",
    "all_numeric_inputs"
   ]
  },
  {
   "cell_type": "code",
   "execution_count": 10,
   "id": "e70d7cf5-65f4-40ff-9308-c9970bb8a0bf",
   "metadata": {},
   "outputs": [],
   "source": [
    "preprocessed_inputs = [all_numeric_inputs]"
   ]
  },
  {
   "cell_type": "markdown",
   "id": "437b01e8-212a-491d-86de-4053b23dad15",
   "metadata": {},
   "source": [
    "Capa StringLookup con vocabulario conocido\n",
    "---"
   ]
  },
  {
   "cell_type": "code",
   "execution_count": 11,
   "id": "e51685df-2dcc-4e00-b39f-1f0d96db3e5c",
   "metadata": {},
   "outputs": [
    {
     "data": {
      "text/plain": [
       "<tf.Tensor: shape=(2, 3), dtype=int64, numpy=\n",
       "array([[1, 3, 4],\n",
       "       [4, 0, 2]])>"
      ]
     },
     "execution_count": 11,
     "metadata": {},
     "output_type": "execute_result"
    }
   ],
   "source": [
    "vocab = [\"a\", \"b\", \"c\", \"d\"]\n",
    "data = tf.constant(\n",
    "    [\n",
    "        [\"a\", \"c\", \"d\"],\n",
    "        [\"d\", \"z\", \"b\"],\n",
    "    ]\n",
    ")\n",
    "layer = tf.keras.layers.StringLookup(vocabulary=vocab)\n",
    "layer(data)"
   ]
  },
  {
   "cell_type": "markdown",
   "id": "b6a662d3-9206-4b8a-8012-275f52e86bd9",
   "metadata": {},
   "source": [
    "Capa StringLookup con vocabulario desconocido\n",
    "---"
   ]
  },
  {
   "cell_type": "code",
   "execution_count": 12,
   "id": "195a1027-12cf-4c89-a228-ad50c201f826",
   "metadata": {},
   "outputs": [
    {
     "data": {
      "text/plain": [
       "['[UNK]', 'd', 'z', 'c', 'b', 'a']"
      ]
     },
     "execution_count": 12,
     "metadata": {},
     "output_type": "execute_result"
    }
   ],
   "source": [
    "data = tf.constant(\n",
    "    [\n",
    "        [\"a\", \"c\", \"d\"],\n",
    "        [\"d\", \"z\", \"b\"],\n",
    "    ]\n",
    ")\n",
    "layer = tf.keras.layers.StringLookup()\n",
    "layer.adapt(data)\n",
    "layer.get_vocabulary()"
   ]
  },
  {
   "cell_type": "markdown",
   "id": "b20965dc-0f5c-462a-b6cd-1a2a2d216da8",
   "metadata": {},
   "source": [
    "Capa CategoryEncoding con codificación one_hot\n",
    "---"
   ]
  },
  {
   "cell_type": "code",
   "execution_count": 13,
   "id": "dbff884d-b5e8-4447-bc3a-1e1fe43e2855",
   "metadata": {},
   "outputs": [
    {
     "data": {
      "text/plain": [
       "<tf.Tensor: shape=(4, 4), dtype=float32, numpy=\n",
       "array([[0., 0., 0., 1.],\n",
       "       [0., 0., 1., 0.],\n",
       "       [1., 0., 0., 0.],\n",
       "       [0., 1., 0., 0.]], dtype=float32)>"
      ]
     },
     "execution_count": 13,
     "metadata": {},
     "output_type": "execute_result"
    }
   ],
   "source": [
    "layer = tf.keras.layers.CategoryEncoding(\n",
    "    num_tokens=4,\n",
    "    output_mode=\"one_hot\",\n",
    ")\n",
    "\n",
    "layer([3, 2, 0, 1])"
   ]
  },
  {
   "cell_type": "markdown",
   "id": "ba63e679-47c4-4126-96da-d3acfef10f20",
   "metadata": {},
   "source": [
    "Capa CategoryEncoding con codificación multi_hot\n",
    "---"
   ]
  },
  {
   "cell_type": "code",
   "execution_count": 14,
   "id": "c67f3772-5243-4100-8a48-3732ae086d45",
   "metadata": {},
   "outputs": [
    {
     "data": {
      "text/plain": [
       "<tf.Tensor: shape=(5, 4), dtype=float32, numpy=\n",
       "array([[1., 1., 0., 0.],\n",
       "       [1., 1., 0., 0.],\n",
       "       [1., 0., 0., 0.],\n",
       "       [0., 1., 1., 0.],\n",
       "       [0., 1., 0., 1.]], dtype=float32)>"
      ]
     },
     "execution_count": 14,
     "metadata": {},
     "output_type": "execute_result"
    }
   ],
   "source": [
    "layer = tf.keras.layers.CategoryEncoding(\n",
    "    num_tokens=4,\n",
    "    output_mode=\"multi_hot\",\n",
    ")\n",
    "\n",
    "layer(\n",
    "    [\n",
    "        [0, 1],\n",
    "        [0, 1],\n",
    "        [0, 0],\n",
    "        [1, 2],\n",
    "        [3, 1],\n",
    "    ]\n",
    ")"
   ]
  },
  {
   "cell_type": "markdown",
   "id": "f980613d-4ba4-4b43-a4ee-220cd8ab72a3",
   "metadata": {},
   "source": [
    "Procesamiento de las entradas categóricas\n",
    "---"
   ]
  },
  {
   "cell_type": "code",
   "execution_count": 15,
   "id": "aae13cb0-85ae-4ee9-8321-4918ac2d562a",
   "metadata": {},
   "outputs": [
    {
     "data": {
      "text/plain": [
       "[<KerasTensor: shape=(None, 4) dtype=float32 (created by layer 'normalization')>,\n",
       " <KerasTensor: shape=(None, 3) dtype=float32 (created by layer 'category_encoding_2')>,\n",
       " <KerasTensor: shape=(None, 4) dtype=float32 (created by layer 'category_encoding_3')>,\n",
       " <KerasTensor: shape=(None, 9) dtype=float32 (created by layer 'category_encoding_4')>,\n",
       " <KerasTensor: shape=(None, 5) dtype=float32 (created by layer 'category_encoding_5')>,\n",
       " <KerasTensor: shape=(None, 3) dtype=float32 (created by layer 'category_encoding_6')>]"
      ]
     },
     "execution_count": 15,
     "metadata": {},
     "output_type": "execute_result"
    }
   ],
   "source": [
    "for name, input in inputs.items():\n",
    "\n",
    "    if input.dtype == tf.float32:\n",
    "        continue\n",
    "\n",
    "    #\n",
    "    # Una capa StringLockup mapea strings a indices enteros\n",
    "    #\n",
    "    lookup = tf.keras.layers.StringLookup(\n",
    "        vocabulary=np.unique(\n",
    "            titanic_features[name],\n",
    "        )\n",
    "    )\n",
    "\n",
    "    one_hot = tf.keras.layers.CategoryEncoding(\n",
    "        num_tokens=lookup.vocabulary_size(),\n",
    "        output_mode=\"multi_hot\",\n",
    "    )\n",
    "\n",
    "    x = lookup(input)\n",
    "    x = one_hot(x)\n",
    "    preprocessed_inputs.append(x)\n",
    "    \n",
    "preprocessed_inputs"
   ]
  },
  {
   "cell_type": "markdown",
   "id": "f549ecdb-7554-4563-b37c-01ca83d96098",
   "metadata": {},
   "source": [
    "Preprocesamiento de todas las entradas\n",
    "---"
   ]
  },
  {
   "cell_type": "code",
   "execution_count": 16,
   "id": "a532aa5e-ef8b-4e4a-8a0f-df21a0e06bb7",
   "metadata": {},
   "outputs": [
    {
     "data": {
      "image/png": "[encoded data removed]",
      "text/plain": [
       "<IPython.core.display.Image object>"
      ]
     },
     "execution_count": 16,
     "metadata": {},
     "output_type": "execute_result"
    }
   ],
   "source": [
    "concatenate_layer = tf.keras.layers.Concatenate()\n",
    "\n",
    "preprocessed_inputs_cat = concatenate_layer(preprocessed_inputs)\n",
    "\n",
    "titanic_preprocessing = tf.keras.Model(inputs, preprocessed_inputs_cat)\n",
    "\n",
    "tf.keras.utils.plot_model(\n",
    "    model=titanic_preprocessing,\n",
    "    rankdir=\"LR\",\n",
    "    dpi=72,\n",
    "    show_shapes=True,\n",
    ")"
   ]
  },
  {
   "cell_type": "markdown",
   "id": "fa7df70d-0fc6-42e2-a590-df961ffe2e7e",
   "metadata": {},
   "source": [
    "Preparación del archivo CSV\n",
    "---"
   ]
  },
  {
   "cell_type": "code",
   "execution_count": 17,
   "id": "eb8169e5-8975-4fc9-bd13-5c35b9cbd05b",
   "metadata": {},
   "outputs": [
    {
     "data": {
      "text/plain": [
       "<tf.Tensor: shape=(1, 28), dtype=float32, numpy=\n",
       "array([[-0.610415 ,  0.395198 , -0.4790527, -0.4974028,  0.       ,\n",
       "         0.       ,  1.       ,  0.       ,  0.       ,  0.       ,\n",
       "         1.       ,  0.       ,  0.       ,  0.       ,  0.       ,\n",
       "         0.       ,  0.       ,  0.       ,  0.       ,  1.       ,\n",
       "         0.       ,  0.       ,  0.       ,  1.       ,  0.       ,\n",
       "         0.       ,  1.       ,  0.       ]], dtype=float32)>"
      ]
     },
     "execution_count": 17,
     "metadata": {},
     "output_type": "execute_result"
    }
   ],
   "source": [
    "#\n",
    "# Cada columna es un diccionario\n",
    "#\n",
    "titanic_features_dict = {\n",
    "    name: np.array(value) for name, value in titanic_features.items()\n",
    "}\n",
    "#\n",
    "# {\n",
    "#     'sex': ['male', ...],\n",
    "#     'age': array([22., ...],\n",
    "#     'n_siblings_spouses': array([1, ...],\n",
    "#     'parch': array([0, ...],\n",
    "#     'fare': array([7.25, ...],\n",
    "#     'class': array(['Third', ...],\n",
    "#     'deck': array(['unknown', ...],\n",
    "#     'embark_town': array(['Southampton', ...],\n",
    "#     'alone': array(['n', ...]\n",
    "# }\n",
    "#\n",
    "\n",
    "\n",
    "#\n",
    "# Toma la primera fila de datos y aplica el preprocesador\n",
    "#\n",
    "features_dict = {name: values[:1] for name, values in titanic_features_dict.items()}\n",
    "titanic_preprocessing(features_dict)"
   ]
  },
  {
   "cell_type": "markdown",
   "id": "d1c0929b-8d02-46f5-93ef-64c7a0b0968d",
   "metadata": {},
   "source": [
    "Especificación y entrenamiento del modelo\n",
    "---"
   ]
  },
  {
   "cell_type": "code",
   "execution_count": 18,
   "id": "de35be8a-0ad3-4ef8-bed2-affe5028fa2f",
   "metadata": {},
   "outputs": [
    {
     "name": "stdout",
     "output_type": "stream",
     "text": [
      "Epoch 1/10\n",
      "20/20 [==============================] - 1s 3ms/step - loss: 0.6721\n",
      "Epoch 2/10\n",
      "20/20 [==============================] - 0s 3ms/step - loss: 0.5422\n",
      "Epoch 3/10\n",
      "20/20 [==============================] - 0s 3ms/step - loss: 0.5006\n",
      "Epoch 4/10\n",
      "20/20 [==============================] - 0s 13ms/step - loss: 0.4728\n",
      "Epoch 5/10\n",
      "20/20 [==============================] - 0s 3ms/step - loss: 0.4538\n",
      "Epoch 6/10\n",
      "20/20 [==============================] - 0s 3ms/step - loss: 0.4409\n",
      "Epoch 7/10\n",
      "20/20 [==============================] - 0s 3ms/step - loss: 0.4332\n",
      "Epoch 8/10\n",
      "20/20 [==============================] - 0s 3ms/step - loss: 0.4279\n",
      "Epoch 9/10\n",
      "20/20 [==============================] - 0s 3ms/step - loss: 0.4255\n",
      "Epoch 10/10\n",
      "20/20 [==============================] - 0s 3ms/step - loss: 0.4232\n"
     ]
    }
   ],
   "source": [
    "def titanic_model(preprocessing_head, inputs):\n",
    "\n",
    "    body = tf.keras.Sequential(\n",
    "        [\n",
    "            tf.keras.layers.Dense(64),\n",
    "            tf.keras.layers.Dense(1),\n",
    "        ],\n",
    "    )\n",
    "\n",
    "    preprocessed_inputs = preprocessing_head(inputs)\n",
    "    result = body(preprocessed_inputs)\n",
    "\n",
    "    model = tf.keras.Model(\n",
    "        inputs,\n",
    "        result,\n",
    "    )\n",
    "\n",
    "    model.compile(\n",
    "        loss=tf.losses.BinaryCrossentropy(from_logits=True),\n",
    "        optimizer=tf.optimizers.Adam(),\n",
    "    )\n",
    "    return model\n",
    "\n",
    "\n",
    "titanic_model = titanic_model(\n",
    "    titanic_preprocessing,\n",
    "    inputs,\n",
    ")\n",
    "\n",
    "history = titanic_model.fit(\n",
    "    x=titanic_features_dict,\n",
    "    y=titanic_labels,\n",
    "    epochs=10,\n",
    ")"
   ]
  }
 ],
 "metadata": {
  "kernelspec": {
   "display_name": "Python 3 (ipykernel)",
   "language": "python",
   "name": "python3"
  },
  "language_info": {
   "codemirror_mode": {
    "name": "ipython",
    "version": 3
   },
   "file_extension": ".py",
   "mimetype": "text/x-python",
   "name": "python",
   "nbconvert_exporter": "python",
   "pygments_lexer": "ipython3",
   "version": "3.8.10"
  }
 },
 "nbformat": 4,
 "nbformat_minor": 5
}
