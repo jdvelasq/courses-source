{
 "cells": [
  {
   "cell_type": "markdown",
   "id": "d5879847-68cc-4e8b-b348-66f3e5f10808",
   "metadata": {
    "tags": []
   },
   "source": [
    "Carga de DataFrames de Pandas --- 0:00 min\n",
    "===\n",
    "\n",
    "* Última modificación: Marzo 1, 2022 | YouTube"
   ]
  },
  {
   "cell_type": "code",
   "execution_count": 1,
   "id": "a36516d0-946b-49f0-ba99-c30e1d4defd4",
   "metadata": {},
   "outputs": [],
   "source": [
    "import os\n",
    "\n",
    "os.environ[\"TF_CPP_MIN_LOG_LEVEL\"] = \"2\"\n",
    "\n",
    "import pandas as pd\n",
    "import tensorflow as tf"
   ]
  },
  {
   "cell_type": "markdown",
   "id": "a3f30a79-9cc6-4bc3-ac8c-2598b72cec6c",
   "metadata": {},
   "source": [
    "Lectura de datos usando Pandas\n",
    "---"
   ]
  },
  {
   "cell_type": "code",
   "execution_count": 2,
   "id": "098aaaeb-2995-4456-be18-fb31c2e9fb34",
   "metadata": {},
   "outputs": [],
   "source": [
    "SHUFFLE_BUFFER = 500\n",
    "BATCH_SIZE = 2"
   ]
  },
  {
   "cell_type": "code",
   "execution_count": 3,
   "id": "ede6cb59-fc0b-4749-a7b4-7c9daf0aa5d0",
   "metadata": {},
   "outputs": [],
   "source": [
    "csv_file = tf.keras.utils.get_file(\n",
    "    \"heart.csv\",\n",
    "    \"https://storage.googleapis.com/download.tensorflow.org/data/heart.csv\",\n",
    ")"
   ]
  },
  {
   "cell_type": "code",
   "execution_count": 4,
   "id": "946528f1-0ab3-4c07-9e59-9f684bfe883a",
   "metadata": {},
   "outputs": [
    {
     "data": {
      "text/html": [
       "<div>\n",
       "<style scoped>\n",
       "    .dataframe tbody tr th:only-of-type {\n",
       "        vertical-align: middle;\n",
       "    }\n",
       "\n",
       "    .dataframe tbody tr th {\n",
       "        vertical-align: top;\n",
       "    }\n",
       "\n",
       "    .dataframe thead th {\n",
       "        text-align: right;\n",
       "    }\n",
       "</style>\n",
       "<table border=\"1\" class=\"dataframe\">\n",
       "  <thead>\n",
       "    <tr style=\"text-align: right;\">\n",
       "      <th></th>\n",
       "      <th>age</th>\n",
       "      <th>sex</th>\n",
       "      <th>cp</th>\n",
       "      <th>trestbps</th>\n",
       "      <th>chol</th>\n",
       "      <th>fbs</th>\n",
       "      <th>restecg</th>\n",
       "      <th>thalach</th>\n",
       "      <th>exang</th>\n",
       "      <th>oldpeak</th>\n",
       "      <th>slope</th>\n",
       "      <th>ca</th>\n",
       "      <th>thal</th>\n",
       "      <th>target</th>\n",
       "    </tr>\n",
       "  </thead>\n",
       "  <tbody>\n",
       "    <tr>\n",
       "      <th>0</th>\n",
       "      <td>63</td>\n",
       "      <td>1</td>\n",
       "      <td>1</td>\n",
       "      <td>145</td>\n",
       "      <td>233</td>\n",
       "      <td>1</td>\n",
       "      <td>2</td>\n",
       "      <td>150</td>\n",
       "      <td>0</td>\n",
       "      <td>2.3</td>\n",
       "      <td>3</td>\n",
       "      <td>0</td>\n",
       "      <td>fixed</td>\n",
       "      <td>0</td>\n",
       "    </tr>\n",
       "    <tr>\n",
       "      <th>1</th>\n",
       "      <td>67</td>\n",
       "      <td>1</td>\n",
       "      <td>4</td>\n",
       "      <td>160</td>\n",
       "      <td>286</td>\n",
       "      <td>0</td>\n",
       "      <td>2</td>\n",
       "      <td>108</td>\n",
       "      <td>1</td>\n",
       "      <td>1.5</td>\n",
       "      <td>2</td>\n",
       "      <td>3</td>\n",
       "      <td>normal</td>\n",
       "      <td>1</td>\n",
       "    </tr>\n",
       "    <tr>\n",
       "      <th>2</th>\n",
       "      <td>67</td>\n",
       "      <td>1</td>\n",
       "      <td>4</td>\n",
       "      <td>120</td>\n",
       "      <td>229</td>\n",
       "      <td>0</td>\n",
       "      <td>2</td>\n",
       "      <td>129</td>\n",
       "      <td>1</td>\n",
       "      <td>2.6</td>\n",
       "      <td>2</td>\n",
       "      <td>2</td>\n",
       "      <td>reversible</td>\n",
       "      <td>0</td>\n",
       "    </tr>\n",
       "    <tr>\n",
       "      <th>3</th>\n",
       "      <td>37</td>\n",
       "      <td>1</td>\n",
       "      <td>3</td>\n",
       "      <td>130</td>\n",
       "      <td>250</td>\n",
       "      <td>0</td>\n",
       "      <td>0</td>\n",
       "      <td>187</td>\n",
       "      <td>0</td>\n",
       "      <td>3.5</td>\n",
       "      <td>3</td>\n",
       "      <td>0</td>\n",
       "      <td>normal</td>\n",
       "      <td>0</td>\n",
       "    </tr>\n",
       "    <tr>\n",
       "      <th>4</th>\n",
       "      <td>41</td>\n",
       "      <td>0</td>\n",
       "      <td>2</td>\n",
       "      <td>130</td>\n",
       "      <td>204</td>\n",
       "      <td>0</td>\n",
       "      <td>2</td>\n",
       "      <td>172</td>\n",
       "      <td>0</td>\n",
       "      <td>1.4</td>\n",
       "      <td>1</td>\n",
       "      <td>0</td>\n",
       "      <td>normal</td>\n",
       "      <td>0</td>\n",
       "    </tr>\n",
       "  </tbody>\n",
       "</table>\n",
       "</div>"
      ],
      "text/plain": [
       "   age  sex  cp  trestbps  chol  fbs  restecg  thalach  exang  oldpeak  slope  \\\n",
       "0   63    1   1       145   233    1        2      150      0      2.3      3   \n",
       "1   67    1   4       160   286    0        2      108      1      1.5      2   \n",
       "2   67    1   4       120   229    0        2      129      1      2.6      2   \n",
       "3   37    1   3       130   250    0        0      187      0      3.5      3   \n",
       "4   41    0   2       130   204    0        2      172      0      1.4      1   \n",
       "\n",
       "   ca        thal  target  \n",
       "0   0       fixed       0  \n",
       "1   3      normal       1  \n",
       "2   2  reversible       0  \n",
       "3   0      normal       0  \n",
       "4   0      normal       0  "
      ]
     },
     "execution_count": 4,
     "metadata": {},
     "output_type": "execute_result"
    }
   ],
   "source": [
    "#\n",
    "# Lecura\n",
    "#\n",
    "df = pd.read_csv(csv_file)\n",
    "df.head()"
   ]
  },
  {
   "cell_type": "code",
   "execution_count": 5,
   "id": "3a5e3e58-35c8-4d1f-a942-ac166f3dfebf",
   "metadata": {},
   "outputs": [
    {
     "data": {
      "text/plain": [
       "age           int64\n",
       "sex           int64\n",
       "cp            int64\n",
       "trestbps      int64\n",
       "chol          int64\n",
       "fbs           int64\n",
       "restecg       int64\n",
       "thalach       int64\n",
       "exang         int64\n",
       "oldpeak     float64\n",
       "slope         int64\n",
       "ca            int64\n",
       "thal         object\n",
       "target        int64\n",
       "dtype: object"
      ]
     },
     "execution_count": 5,
     "metadata": {},
     "output_type": "execute_result"
    }
   ],
   "source": [
    "df.dtypes"
   ]
  },
  {
   "cell_type": "code",
   "execution_count": 6,
   "id": "f33c9caf-6bfd-4317-bc51-3f5bf2383bce",
   "metadata": {},
   "outputs": [],
   "source": [
    "#\n",
    "# Extracción de la variable respuesta\n",
    "#\n",
    "target = df.pop(\"target\")"
   ]
  },
  {
   "cell_type": "markdown",
   "id": "18ba3f47-0529-45b2-af8d-d2a5a7770e79",
   "metadata": {},
   "source": [
    "Extracción de características numéricas\n",
    "---"
   ]
  },
  {
   "cell_type": "code",
   "execution_count": 7,
   "id": "c34c44d1-a079-4f8a-8c70-0d8010edef9a",
   "metadata": {},
   "outputs": [
    {
     "data": {
      "text/html": [
       "<div>\n",
       "<style scoped>\n",
       "    .dataframe tbody tr th:only-of-type {\n",
       "        vertical-align: middle;\n",
       "    }\n",
       "\n",
       "    .dataframe tbody tr th {\n",
       "        vertical-align: top;\n",
       "    }\n",
       "\n",
       "    .dataframe thead th {\n",
       "        text-align: right;\n",
       "    }\n",
       "</style>\n",
       "<table border=\"1\" class=\"dataframe\">\n",
       "  <thead>\n",
       "    <tr style=\"text-align: right;\">\n",
       "      <th></th>\n",
       "      <th>age</th>\n",
       "      <th>thalach</th>\n",
       "      <th>trestbps</th>\n",
       "      <th>chol</th>\n",
       "      <th>oldpeak</th>\n",
       "    </tr>\n",
       "  </thead>\n",
       "  <tbody>\n",
       "    <tr>\n",
       "      <th>0</th>\n",
       "      <td>63</td>\n",
       "      <td>150</td>\n",
       "      <td>145</td>\n",
       "      <td>233</td>\n",
       "      <td>2.3</td>\n",
       "    </tr>\n",
       "    <tr>\n",
       "      <th>1</th>\n",
       "      <td>67</td>\n",
       "      <td>108</td>\n",
       "      <td>160</td>\n",
       "      <td>286</td>\n",
       "      <td>1.5</td>\n",
       "    </tr>\n",
       "    <tr>\n",
       "      <th>2</th>\n",
       "      <td>67</td>\n",
       "      <td>129</td>\n",
       "      <td>120</td>\n",
       "      <td>229</td>\n",
       "      <td>2.6</td>\n",
       "    </tr>\n",
       "    <tr>\n",
       "      <th>3</th>\n",
       "      <td>37</td>\n",
       "      <td>187</td>\n",
       "      <td>130</td>\n",
       "      <td>250</td>\n",
       "      <td>3.5</td>\n",
       "    </tr>\n",
       "    <tr>\n",
       "      <th>4</th>\n",
       "      <td>41</td>\n",
       "      <td>172</td>\n",
       "      <td>130</td>\n",
       "      <td>204</td>\n",
       "      <td>1.4</td>\n",
       "    </tr>\n",
       "  </tbody>\n",
       "</table>\n",
       "</div>"
      ],
      "text/plain": [
       "   age  thalach  trestbps  chol  oldpeak\n",
       "0   63      150       145   233      2.3\n",
       "1   67      108       160   286      1.5\n",
       "2   67      129       120   229      2.6\n",
       "3   37      187       130   250      3.5\n",
       "4   41      172       130   204      1.4"
      ]
     },
     "execution_count": 7,
     "metadata": {},
     "output_type": "execute_result"
    }
   ],
   "source": [
    "numeric_feature_names = [\n",
    "    \"age\",\n",
    "    \"thalach\",\n",
    "    \"trestbps\",\n",
    "    \"chol\",\n",
    "    \"oldpeak\",\n",
    "]\n",
    "numeric_features = df[numeric_feature_names]\n",
    "numeric_features.head()"
   ]
  },
  {
   "cell_type": "code",
   "execution_count": 8,
   "id": "eb9d6e31-a772-4d9a-848e-6985a937a25d",
   "metadata": {},
   "outputs": [
    {
     "data": {
      "text/plain": [
       "<tf.Tensor: shape=(303, 5), dtype=float64, numpy=\n",
       "array([[ 63. , 150. , 145. , 233. ,   2.3],\n",
       "       [ 67. , 108. , 160. , 286. ,   1.5],\n",
       "       [ 67. , 129. , 120. , 229. ,   2.6],\n",
       "       ...,\n",
       "       [ 65. , 127. , 135. , 254. ,   2.8],\n",
       "       [ 48. , 150. , 130. , 256. ,   0. ],\n",
       "       [ 63. , 154. , 150. , 407. ,   4. ]])>"
      ]
     },
     "execution_count": 8,
     "metadata": {},
     "output_type": "execute_result"
    }
   ],
   "source": [
    "tf.convert_to_tensor(numeric_features)"
   ]
  },
  {
   "cell_type": "markdown",
   "id": "b3cddc08-6f22-4661-920f-5b9cede1c6e4",
   "metadata": {},
   "source": [
    "Manejo de un DataFrame como un array con Model.fit()\n",
    "---"
   ]
  },
  {
   "cell_type": "code",
   "execution_count": 9,
   "id": "03b3dcf7-9a02-4fd9-b6ea-3b4f4a9d5b25",
   "metadata": {},
   "outputs": [
    {
     "data": {
      "text/plain": [
       "<tf.Tensor: shape=(3, 5), dtype=float32, numpy=\n",
       "array([[ 0.93383914,  0.03480718,  0.74578077, -0.2600867 ,  1.0680453 ],\n",
       "       [ 1.3782105 , -1.7806165 ,  1.5923285 ,  0.7573879 ,  0.38022864],\n",
       "       [ 1.3782105 , -0.87290466, -0.6651321 , -0.3368772 ,  1.3259765 ]],\n",
       "      dtype=float32)>"
      ]
     },
     "execution_count": 9,
     "metadata": {},
     "output_type": "execute_result"
    }
   ],
   "source": [
    "normalizer = tf.keras.layers.Normalization(axis=-1)\n",
    "normalizer.adapt(numeric_features)\n",
    "\n",
    "#\n",
    "# Ejemplo\n",
    "#\n",
    "normalizer(numeric_features.iloc[:3])"
   ]
  },
  {
   "cell_type": "code",
   "execution_count": 10,
   "id": "a90c6f16-689e-4b89-bdb4-920b34d6c788",
   "metadata": {},
   "outputs": [],
   "source": [
    "def get_basic_model():\n",
    "    model = tf.keras.Sequential(\n",
    "        [\n",
    "            normalizer,\n",
    "            tf.keras.layers.Dense(10, activation=\"relu\"),\n",
    "            tf.keras.layers.Dense(10, activation=\"relu\"),\n",
    "            tf.keras.layers.Dense(1),\n",
    "        ]\n",
    "    )\n",
    "\n",
    "    model.compile(\n",
    "        optimizer=\"adam\",\n",
    "        loss=tf.keras.losses.BinaryCrossentropy(from_logits=True),\n",
    "        metrics=[\"accuracy\"],\n",
    "    )\n",
    "    return model"
   ]
  },
  {
   "cell_type": "code",
   "execution_count": 11,
   "id": "c085bb84-6acb-4f4e-8221-f49cafb82262",
   "metadata": {},
   "outputs": [
    {
     "name": "stdout",
     "output_type": "stream",
     "text": [
      "Epoch 1/5\n",
      "152/152 [==============================] - 1s 2ms/step - loss: 0.6544 - accuracy: 0.7393\n",
      "Epoch 2/5\n",
      "152/152 [==============================] - 0s 2ms/step - loss: 0.5654 - accuracy: 0.7261\n",
      "Epoch 3/5\n",
      "152/152 [==============================] - 0s 2ms/step - loss: 0.5058 - accuracy: 0.7261\n",
      "Epoch 4/5\n",
      "152/152 [==============================] - 1s 9ms/step - loss: 0.4779 - accuracy: 0.7228\n",
      "Epoch 5/5\n",
      "152/152 [==============================] - 0s 3ms/step - loss: 0.4588 - accuracy: 0.7393\n"
     ]
    },
    {
     "data": {
      "text/plain": [
       "<keras.callbacks.History at 0x7f6588034ee0>"
      ]
     },
     "execution_count": 11,
     "metadata": {},
     "output_type": "execute_result"
    }
   ],
   "source": [
    "model = get_basic_model()\n",
    "\n",
    "model.fit(\n",
    "    numeric_features,\n",
    "    target,\n",
    "    epochs=5,\n",
    "    batch_size=BATCH_SIZE,\n",
    ")"
   ]
  },
  {
   "cell_type": "markdown",
   "id": "50454574-9614-4eab-9f4b-fcd21b716a88",
   "metadata": {},
   "source": [
    "Manejo de un DataFrame con tf.data\n",
    "---"
   ]
  },
  {
   "cell_type": "code",
   "execution_count": 12,
   "id": "c7206e4c-90ae-4cee-ad16-2eb3d4abc110",
   "metadata": {},
   "outputs": [
    {
     "name": "stdout",
     "output_type": "stream",
     "text": [
      "(<tf.Tensor: shape=(5,), dtype=float64, numpy=array([ 63. , 150. , 145. , 233. ,   2.3])>, <tf.Tensor: shape=(), dtype=int64, numpy=0>)\n",
      "(<tf.Tensor: shape=(5,), dtype=float64, numpy=array([ 67. , 108. , 160. , 286. ,   1.5])>, <tf.Tensor: shape=(), dtype=int64, numpy=1>)\n",
      "(<tf.Tensor: shape=(5,), dtype=float64, numpy=array([ 67. , 129. , 120. , 229. ,   2.6])>, <tf.Tensor: shape=(), dtype=int64, numpy=0>)\n"
     ]
    }
   ],
   "source": [
    "numeric_dataset = tf.data.Dataset.from_tensor_slices(\n",
    "    (numeric_features, target),\n",
    ")\n",
    "\n",
    "for row in numeric_dataset.take(3):\n",
    "    print(row)"
   ]
  },
  {
   "cell_type": "code",
   "execution_count": 13,
   "id": "5bfd58ab-0f2a-40fc-a932-820ea5f93ab6",
   "metadata": {},
   "outputs": [
    {
     "name": "stdout",
     "output_type": "stream",
     "text": [
      "Epoch 1/5\n",
      "152/152 [==============================] - 1s 3ms/step - loss: 0.6342 - accuracy: 0.7261\n",
      "Epoch 2/5\n",
      "152/152 [==============================] - 0s 2ms/step - loss: 0.5535 - accuracy: 0.7261\n",
      "Epoch 3/5\n",
      "152/152 [==============================] - 0s 3ms/step - loss: 0.5009 - accuracy: 0.7261\n",
      "Epoch 4/5\n",
      "152/152 [==============================] - 0s 3ms/step - loss: 0.4766 - accuracy: 0.7426\n",
      "Epoch 5/5\n",
      "152/152 [==============================] - 0s 3ms/step - loss: 0.4642 - accuracy: 0.7459\n"
     ]
    },
    {
     "data": {
      "text/plain": [
       "<keras.callbacks.History at 0x7f656411b2b0>"
      ]
     },
     "execution_count": 13,
     "metadata": {},
     "output_type": "execute_result"
    }
   ],
   "source": [
    "numeric_batches = numeric_dataset.shuffle(1000)\n",
    "numeric_batches = numeric_batches.batch(BATCH_SIZE)\n",
    "\n",
    "model = get_basic_model()\n",
    "model.fit(numeric_batches, epochs=5)"
   ]
  },
  {
   "cell_type": "markdown",
   "id": "06f6bf0f-e62f-4313-a0c3-e88f86d91d9e",
   "metadata": {},
   "source": [
    "Manejo de un DataFrame como un diccionario y Model-subclass\n",
    "---"
   ]
  },
  {
   "cell_type": "code",
   "execution_count": 15,
   "id": "1cf6960a-262e-4dc3-8531-a0aae3e3eb1e",
   "metadata": {},
   "outputs": [
    {
     "name": "stdout",
     "output_type": "stream",
     "text": [
      "({'age': <tf.Tensor: shape=(), dtype=int64, numpy=63>, 'thalach': <tf.Tensor: shape=(), dtype=int64, numpy=150>, 'trestbps': <tf.Tensor: shape=(), dtype=int64, numpy=145>, 'chol': <tf.Tensor: shape=(), dtype=int64, numpy=233>, 'oldpeak': <tf.Tensor: shape=(), dtype=float64, numpy=2.3>}, <tf.Tensor: shape=(), dtype=int64, numpy=0>)\n",
      "({'age': <tf.Tensor: shape=(), dtype=int64, numpy=67>, 'thalach': <tf.Tensor: shape=(), dtype=int64, numpy=108>, 'trestbps': <tf.Tensor: shape=(), dtype=int64, numpy=160>, 'chol': <tf.Tensor: shape=(), dtype=int64, numpy=286>, 'oldpeak': <tf.Tensor: shape=(), dtype=float64, numpy=1.5>}, <tf.Tensor: shape=(), dtype=int64, numpy=1>)\n",
      "({'age': <tf.Tensor: shape=(), dtype=int64, numpy=67>, 'thalach': <tf.Tensor: shape=(), dtype=int64, numpy=129>, 'trestbps': <tf.Tensor: shape=(), dtype=int64, numpy=120>, 'chol': <tf.Tensor: shape=(), dtype=int64, numpy=229>, 'oldpeak': <tf.Tensor: shape=(), dtype=float64, numpy=2.6>}, <tf.Tensor: shape=(), dtype=int64, numpy=0>)\n"
     ]
    }
   ],
   "source": [
    "numeric_dict_ds = tf.data.Dataset.from_tensor_slices(\n",
    "    (dict(numeric_features), target),\n",
    ")\n",
    "\n",
    "for row in numeric_dict_ds.take(3):\n",
    "    print(row)"
   ]
  },
  {
   "cell_type": "code",
   "execution_count": 16,
   "id": "3c752cc8-f051-4f9b-a48a-108ffff01e1a",
   "metadata": {},
   "outputs": [],
   "source": [
    "def stack_dict(inputs, fun=tf.stack):\n",
    "    values = []\n",
    "    for key in sorted(inputs.keys()):\n",
    "        values.append(tf.cast(inputs[key], tf.float32))\n",
    "\n",
    "    return fun(values, axis=-1)"
   ]
  },
  {
   "cell_type": "code",
   "execution_count": 17,
   "id": "936e3604-885f-46fd-8a92-565ce1f7f6bb",
   "metadata": {},
   "outputs": [
    {
     "name": "stdout",
     "output_type": "stream",
     "text": [
      "Epoch 1/5\n",
      "152/152 [==============================] - 4s 27ms/step - loss: 0.5713 - accuracy: 0.7261\n",
      "Epoch 2/5\n",
      "152/152 [==============================] - 4s 26ms/step - loss: 0.5063 - accuracy: 0.7261\n",
      "Epoch 3/5\n",
      "152/152 [==============================] - 4s 25ms/step - loss: 0.4741 - accuracy: 0.7261\n",
      "Epoch 4/5\n",
      "152/152 [==============================] - 4s 25ms/step - loss: 0.4578 - accuracy: 0.7393\n",
      "Epoch 5/5\n",
      "152/152 [==============================] - 4s 25ms/step - loss: 0.4493 - accuracy: 0.7591\n"
     ]
    },
    {
     "data": {
      "text/plain": [
       "<keras.callbacks.History at 0x7f65640fbb50>"
      ]
     },
     "execution_count": 17,
     "metadata": {},
     "output_type": "execute_result"
    }
   ],
   "source": [
    "class MyModel(tf.keras.Model):\n",
    "    def __init__(self):\n",
    "        super().__init__(self)\n",
    "\n",
    "        self.normalizer = tf.keras.layers.Normalization(axis=-1)\n",
    "\n",
    "        self.sequential = tf.keras.Sequential(\n",
    "            [\n",
    "                self.normalizer,\n",
    "                tf.keras.layers.Dense(10, activation=\"relu\"),\n",
    "                tf.keras.layers.Dense(10, activation=\"relu\"),\n",
    "                tf.keras.layers.Dense(1),\n",
    "            ]\n",
    "        )\n",
    "\n",
    "    def adapt(self, inputs):\n",
    "        inputs = stack_dict(inputs)\n",
    "        self.normalizer.adapt(inputs)\n",
    "\n",
    "    def call(self, inputs):\n",
    "        inputs = stack_dict(inputs)\n",
    "        result = self.sequential(inputs)\n",
    "        return result\n",
    "\n",
    "\n",
    "model = MyModel()\n",
    "\n",
    "model.adapt(dict(numeric_features))\n",
    "\n",
    "model.compile(\n",
    "    optimizer=\"adam\",\n",
    "    loss=tf.keras.losses.BinaryCrossentropy(from_logits=True),\n",
    "    metrics=[\"accuracy\"],\n",
    "    run_eagerly=True,\n",
    ")\n",
    "\n",
    "model.fit(\n",
    "    dict(numeric_features),\n",
    "    target,\n",
    "    epochs=5,\n",
    "    batch_size=BATCH_SIZE,\n",
    ")"
   ]
  },
  {
   "cell_type": "code",
   "execution_count": 18,
   "id": "40859c01-0751-4c7c-811d-ea1c7a8c69bb",
   "metadata": {},
   "outputs": [
    {
     "name": "stdout",
     "output_type": "stream",
     "text": [
      "Epoch 1/5\n",
      "152/152 [==============================] - 3s 22ms/step - loss: 0.4433 - accuracy: 0.7723\n",
      "Epoch 2/5\n",
      "152/152 [==============================] - 3s 22ms/step - loss: 0.4396 - accuracy: 0.7789\n",
      "Epoch 3/5\n",
      "152/152 [==============================] - 3s 22ms/step - loss: 0.4358 - accuracy: 0.7888\n",
      "Epoch 4/5\n",
      "152/152 [==============================] - 3s 22ms/step - loss: 0.4326 - accuracy: 0.7855\n",
      "Epoch 5/5\n",
      "152/152 [==============================] - 3s 23ms/step - loss: 0.4323 - accuracy: 0.7855\n"
     ]
    },
    {
     "data": {
      "text/plain": [
       "<keras.callbacks.History at 0x7f654e7de3d0>"
      ]
     },
     "execution_count": 18,
     "metadata": {},
     "output_type": "execute_result"
    }
   ],
   "source": [
    "#\n",
    "# Ejemplo con batches\n",
    "#\n",
    "numeric_dict_batches = numeric_dict_ds.shuffle(SHUFFLE_BUFFER).batch(BATCH_SIZE)\n",
    "\n",
    "model.fit(\n",
    "    numeric_dict_batches,\n",
    "    epochs=5,\n",
    ")"
   ]
  },
  {
   "cell_type": "code",
   "execution_count": 19,
   "id": "88e99b19-c672-404f-bb75-72cac25b377f",
   "metadata": {},
   "outputs": [
    {
     "data": {
      "text/plain": [
       "array([[[0.26080817]],\n",
       "\n",
       "       [[0.69308937]],\n",
       "\n",
       "       [[0.42168024]]], dtype=float32)"
      ]
     },
     "execution_count": 19,
     "metadata": {},
     "output_type": "execute_result"
    }
   ],
   "source": [
    "model.predict(dict(numeric_features.iloc[:3]))"
   ]
  },
  {
   "cell_type": "markdown",
   "id": "3ce72c6d-a81a-4597-9162-e8aecf79494e",
   "metadata": {},
   "source": [
    "Manejo de un DataFrame como un diccionario y API funcional\n",
    "---"
   ]
  },
  {
   "cell_type": "code",
   "execution_count": 20,
   "id": "c868c887-d4c6-40a2-ba8a-43402e02e217",
   "metadata": {},
   "outputs": [
    {
     "data": {
      "text/plain": [
       "{'age': <KerasTensor: shape=(None, 1) dtype=float32 (created by layer 'age')>,\n",
       " 'thalach': <KerasTensor: shape=(None, 1) dtype=float32 (created by layer 'thalach')>,\n",
       " 'trestbps': <KerasTensor: shape=(None, 1) dtype=float32 (created by layer 'trestbps')>,\n",
       " 'chol': <KerasTensor: shape=(None, 1) dtype=float32 (created by layer 'chol')>,\n",
       " 'oldpeak': <KerasTensor: shape=(None, 1) dtype=float32 (created by layer 'oldpeak')>}"
      ]
     },
     "execution_count": 20,
     "metadata": {},
     "output_type": "execute_result"
    }
   ],
   "source": [
    "inputs = {}\n",
    "for name, column in numeric_features.items():\n",
    "    inputs[name] = tf.keras.Input(shape=(1,), name=name, dtype=tf.float32)\n",
    "\n",
    "inputs"
   ]
  },
  {
   "cell_type": "code",
   "execution_count": 21,
   "id": "b8c1f57a-090c-4b33-b72c-174a1b9e64a5",
   "metadata": {},
   "outputs": [],
   "source": [
    "x = stack_dict(inputs, fun=tf.concat)\n",
    "\n",
    "normalizer = tf.keras.layers.Normalization(axis=-1)\n",
    "normalizer.adapt(stack_dict(dict(numeric_features)))\n",
    "\n",
    "x = normalizer(x)\n",
    "x = tf.keras.layers.Dense(10, activation=\"relu\")(x)\n",
    "x = tf.keras.layers.Dense(10, activation=\"relu\")(x)\n",
    "x = tf.keras.layers.Dense(1)(x)\n",
    "\n",
    "model = tf.keras.Model(inputs, x)\n",
    "\n",
    "model.compile(\n",
    "    optimizer=\"adam\",\n",
    "    loss=tf.keras.losses.BinaryCrossentropy(from_logits=True),\n",
    "    metrics=[\"accuracy\"],\n",
    "    run_eagerly=True,\n",
    ")"
   ]
  },
  {
   "cell_type": "code",
   "execution_count": 22,
   "id": "81f2a381-ab83-4c3e-9a3a-587f9d4be937",
   "metadata": {},
   "outputs": [
    {
     "data": {
      "image/png": "[encoded data removed]",
      "text/plain": [
       "<IPython.core.display.Image object>"
      ]
     },
     "execution_count": 22,
     "metadata": {},
     "output_type": "execute_result"
    }
   ],
   "source": [
    "tf.keras.utils.plot_model(model, rankdir=\"LR\", show_shapes=True)"
   ]
  },
  {
   "cell_type": "code",
   "execution_count": 23,
   "id": "0e623ffd-2e91-4578-8897-fa5057ea0f6b",
   "metadata": {},
   "outputs": [
    {
     "name": "stdout",
     "output_type": "stream",
     "text": [
      "Epoch 1/5\n",
      "152/152 [==============================] - 4s 25ms/step - loss: 0.6575 - accuracy: 0.7129\n",
      "Epoch 2/5\n",
      "152/152 [==============================] - 4s 25ms/step - loss: 0.5586 - accuracy: 0.7261\n",
      "Epoch 3/5\n",
      "152/152 [==============================] - 4s 25ms/step - loss: 0.5116 - accuracy: 0.7261\n",
      "Epoch 4/5\n",
      "152/152 [==============================] - 4s 24ms/step - loss: 0.4858 - accuracy: 0.7261\n",
      "Epoch 5/5\n",
      "152/152 [==============================] - 4s 24ms/step - loss: 0.4684 - accuracy: 0.7261\n"
     ]
    },
    {
     "data": {
      "text/plain": [
       "<keras.callbacks.History at 0x7f6601226e20>"
      ]
     },
     "execution_count": 23,
     "metadata": {},
     "output_type": "execute_result"
    }
   ],
   "source": [
    "model.fit(dict(numeric_features), target, epochs=5, batch_size=BATCH_SIZE)"
   ]
  }
 ],
 "metadata": {
  "kernelspec": {
   "display_name": "Python 3 (ipykernel)",
   "language": "python",
   "name": "python3"
  },
  "language_info": {
   "codemirror_mode": {
    "name": "ipython",
    "version": 3
   },
   "file_extension": ".py",
   "mimetype": "text/x-python",
   "name": "python",
   "nbconvert_exporter": "python",
   "pygments_lexer": "ipython3",
   "version": "3.8.10"
  }
 },
 "nbformat": 4,
 "nbformat_minor": 5
}
