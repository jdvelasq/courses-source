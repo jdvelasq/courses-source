{
 "cells": [
  {
   "cell_type": "markdown",
   "id": "d2839468-9a8d-4266-8356-630d26d28322",
   "metadata": {},
   "source": [
    "Principio de resposabilidad única\n",
    "===\n",
    "\n",
    "* Última modificación: Mayo  14, 2022"
   ]
  },
  {
   "cell_type": "markdown",
   "id": "3d6d93dd-ea4d-4bf1-ab91-a73bad8100b1",
   "metadata": {},
   "source": [
    "Objetivos\n",
    "---\n",
    "\n",
    "* Bajo acoplamiento.\n",
    "\n",
    "* Alta cohesión\n",
    "\n",
    "* Cambios locales.\n",
    "\n",
    "* Facilidad para remover.\n",
    "\n",
    "* Componentes manejables mentalmente."
   ]
  },
  {
   "cell_type": "markdown",
   "id": "298a33e0-04fb-47da-b2de-de777c7e5de9",
   "metadata": {},
   "source": [
    "Principio de responsabilidad única (SRP)\n",
    "---"
   ]
  },
  {
   "cell_type": "markdown",
   "id": "b9e4b0db-a367-454b-ae12-354f4a7c9be0",
   "metadata": {},
   "source": [
    "Un componente deberia tener una y solo una razón para cambiar."
   ]
  },
  {
   "cell_type": "markdown",
   "id": "bbde1520-4cb0-45e7-82ca-19b9b1fb873d",
   "metadata": {},
   "source": [
    "A cuántos actores/roles se responde?"
   ]
  },
  {
   "cell_type": "code",
   "execution_count": null,
   "id": "f8cc40c8-a0b5-48c5-8a73-45cbf48dbb64",
   "metadata": {},
   "outputs": [],
   "source": [
    "class MLModel:\n",
    "    def fit():\n",
    "        pass\n",
    "    \n",
    "    def fit_partial():\n",
    "        pass\n",
    "    \n",
    "    def transform_features():\n",
    "        # \n",
    "        # Violación\n",
    "        #\n",
    "        pass\n",
    "    \n",
    "    def publish_metrics():\n",
    "        #\n",
    "        # Violación\n",
    "        #\n",
    "        pass"
   ]
  }
 ],
 "metadata": {
  "kernelspec": {
   "display_name": "Python 3 (ipykernel)",
   "language": "python",
   "name": "python3"
  },
  "language_info": {
   "codemirror_mode": {
    "name": "ipython",
    "version": 3
   },
   "file_extension": ".py",
   "mimetype": "text/x-python",
   "name": "python",
   "nbconvert_exporter": "python",
   "pygments_lexer": "ipython3",
   "version": "3.8.10"
  }
 },
 "nbformat": 4,
 "nbformat_minor": 5
}
