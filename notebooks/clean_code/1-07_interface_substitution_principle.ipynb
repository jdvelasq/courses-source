{
 "cells": [
  {
   "cell_type": "markdown",
   "id": "07625c4a-00cb-458d-b5d1-61746aefa22f",
   "metadata": {
    "tags": []
   },
   "source": [
    "Principio de sustitución de la interfase\n",
    "===\n",
    "\n",
    "* Última modificación: Mayo  14, 2022"
   ]
  },
  {
   "cell_type": "markdown",
   "id": "72a45b0c-3eff-43d7-9c96-7b511f6b1def",
   "metadata": {},
   "source": [
    "Caso 1\n",
    "--"
   ]
  },
  {
   "cell_type": "markdown",
   "id": "a07dfc8e-a503-45d5-a5c9-e7254153c2d7",
   "metadata": {},
   "source": [
    "**Código inicial**"
   ]
  },
  {
   "cell_type": "markdown",
   "id": "83bd304a-756f-4f5c-b805-30434a72d29d",
   "metadata": {},
   "source": [
    "![assets/isp-0.png](assets/isp-0.png)"
   ]
  },
  {
   "cell_type": "code",
   "execution_count": 1,
   "id": "29406b38-4405-44a2-b9ed-8fc96586e53d",
   "metadata": {},
   "outputs": [],
   "source": [
    "class DataGenerator:\n",
    "    #\n",
    "    # Funciones no relacionadas con posibles acoplamientos\n",
    "    # colaterales indeseados\n",
    "    #\n",
    "    def gen_images(self):\n",
    "        print(\"Running DataGenerator.gen_images()\")\n",
    "        return \"generated images\"\n",
    "\n",
    "    def gen_text(self):\n",
    "        print(\"Running DataGenerator.gen_text()\")\n",
    "        return \"generated text\"\n",
    "\n",
    "    def gen_rows(self):\n",
    "        print(\"Running DataGenerator.gen_rows()\")\n",
    "        return \"generated rows\"\n",
    "\n",
    "\n",
    "def image_featurizer():\n",
    "    images = DataGenerator().gen_images()\n",
    "    print(\"Running image_featurizer()\")\n",
    "    return \"featurized images\"\n",
    "\n",
    "\n",
    "def text_featurizer():\n",
    "    text = DataGenerator().gen_text()\n",
    "    print(\"Running text_featurizer()\")\n",
    "    return \"featurized text\"\n",
    "\n",
    "\n",
    "def row_featurizer():\n",
    "    rows = DataGenerator().gen_rows()\n",
    "    print(\"Running row_featurizer()\")\n",
    "    return \"featurized rows\""
   ]
  },
  {
   "cell_type": "code",
   "execution_count": 2,
   "id": "724df518-6e6b-4ef8-8509-385900d63323",
   "metadata": {},
   "outputs": [
    {
     "name": "stdout",
     "output_type": "stream",
     "text": [
      "Running DataGenerator.gen_images()\n",
      "Running image_featurizer()\n"
     ]
    },
    {
     "data": {
      "text/plain": [
       "'featurized images'"
      ]
     },
     "execution_count": 2,
     "metadata": {},
     "output_type": "execute_result"
    }
   ],
   "source": [
    "image_featurizer()"
   ]
  },
  {
   "cell_type": "code",
   "execution_count": 3,
   "id": "b7c38efa-f5e7-42d4-9dc0-760b6617b692",
   "metadata": {},
   "outputs": [
    {
     "name": "stdout",
     "output_type": "stream",
     "text": [
      "Running DataGenerator.gen_text()\n",
      "Running text_featurizer()\n"
     ]
    },
    {
     "data": {
      "text/plain": [
       "'featurized text'"
      ]
     },
     "execution_count": 3,
     "metadata": {},
     "output_type": "execute_result"
    }
   ],
   "source": [
    "text_featurizer()"
   ]
  },
  {
   "cell_type": "code",
   "execution_count": 4,
   "id": "92450a05-6fb2-4ade-8874-cf33dffcf7a6",
   "metadata": {},
   "outputs": [
    {
     "name": "stdout",
     "output_type": "stream",
     "text": [
      "Running DataGenerator.gen_rows()\n",
      "Running row_featurizer()\n"
     ]
    },
    {
     "data": {
      "text/plain": [
       "'featurized rows'"
      ]
     },
     "execution_count": 4,
     "metadata": {},
     "output_type": "execute_result"
    }
   ],
   "source": [
    "row_featurizer()"
   ]
  },
  {
   "cell_type": "markdown",
   "id": "6f3498b3-fa7a-4d7a-9fef-576449324f55",
   "metadata": {},
   "source": [
    "**Separación inicial**"
   ]
  },
  {
   "cell_type": "markdown",
   "id": "fc6f29af-9ecb-4893-9d54-8d577407805a",
   "metadata": {},
   "source": [
    "![assets/isp-1.png](assets/isp-1.png)"
   ]
  },
  {
   "cell_type": "code",
   "execution_count": 5,
   "id": "4555288d-2eec-4cb5-8514-e3a516cd1c2b",
   "metadata": {},
   "outputs": [],
   "source": [
    "class DataGenerator:\n",
    "    def gen_images(self):\n",
    "        print(\"Running DataGenerator.gen_images()\")\n",
    "        return \"generated images\"\n",
    "\n",
    "    def gen_text(self):\n",
    "        print(\"Running DataGenerator.gen_text()\")\n",
    "        return \"generated text\"\n",
    "\n",
    "    def gen_rows(self):\n",
    "        print(\"Running DataGenerator.gen_rows()\")\n",
    "        return \"generated rows\"\n",
    "\n",
    "\n",
    "class ImageGenerator(DataGenerator):\n",
    "    def gen_images(self):\n",
    "        print(\"Running ImageGenerator.gen_images()\")\n",
    "        return super().gen_images()\n",
    "\n",
    "\n",
    "class TextGenerator(DataGenerator):\n",
    "    def gen_text(self):\n",
    "        print(\"Running TextGenerator.gen_text()\")\n",
    "        return super().gen_text()\n",
    "\n",
    "\n",
    "class RowGenerator(DataGenerator):\n",
    "    def gen_rows(self):\n",
    "        print(\"Running RowsGenerator.gen_rows()\")\n",
    "        return super().gen_rows()\n",
    "\n",
    "\n",
    "def image_featurizer():\n",
    "    images = ImageGenerator().gen_images()\n",
    "    print(\"Running image_featurizer()\")\n",
    "    return \"featurized images\"\n",
    "\n",
    "\n",
    "def text_featurizer():\n",
    "    texts = TextGenerator().gen_text()\n",
    "    print(\"Running text_featurizer\")\n",
    "    return \"featurized text\"\n",
    "\n",
    "\n",
    "def row_featurizer():\n",
    "    rows = RowGenerator().gen_rows()\n",
    "    print(\"Running row_featurizer\")\n",
    "    return \"featurized rows\""
   ]
  },
  {
   "cell_type": "code",
   "execution_count": 6,
   "id": "30f2ddb6-5096-4deb-9c21-274501b92c6c",
   "metadata": {},
   "outputs": [
    {
     "name": "stdout",
     "output_type": "stream",
     "text": [
      "Running ImageGenerator.gen_images()\n",
      "Running DataGenerator.gen_images()\n",
      "Running image_featurizer()\n"
     ]
    },
    {
     "data": {
      "text/plain": [
       "'featurized images'"
      ]
     },
     "execution_count": 6,
     "metadata": {},
     "output_type": "execute_result"
    }
   ],
   "source": [
    "image_featurizer()"
   ]
  },
  {
   "cell_type": "code",
   "execution_count": 7,
   "id": "67f3ce0b-a969-4778-bb16-ba057fe53531",
   "metadata": {},
   "outputs": [
    {
     "name": "stdout",
     "output_type": "stream",
     "text": [
      "Running TextGenerator.gen_text()\n",
      "Running DataGenerator.gen_text()\n",
      "Running text_featurizer\n"
     ]
    },
    {
     "data": {
      "text/plain": [
       "'featurized text'"
      ]
     },
     "execution_count": 7,
     "metadata": {},
     "output_type": "execute_result"
    }
   ],
   "source": [
    "text_featurizer()"
   ]
  },
  {
   "cell_type": "code",
   "execution_count": 8,
   "id": "c556d740-f0e2-4ff8-9026-a6db55caaddf",
   "metadata": {},
   "outputs": [
    {
     "name": "stdout",
     "output_type": "stream",
     "text": [
      "Running RowsGenerator.gen_rows()\n",
      "Running DataGenerator.gen_rows()\n",
      "Running row_featurizer\n"
     ]
    },
    {
     "data": {
      "text/plain": [
       "'featurized rows'"
      ]
     },
     "execution_count": 8,
     "metadata": {},
     "output_type": "execute_result"
    }
   ],
   "source": [
    "row_featurizer()"
   ]
  },
  {
   "cell_type": "markdown",
   "id": "64fdaf5f-906c-4875-90dd-2d8eebaa92a5",
   "metadata": {},
   "source": [
    "**Separación completa**"
   ]
  },
  {
   "cell_type": "markdown",
   "id": "f6782cbd-1c14-415d-9f7c-3b5b9ba8c523",
   "metadata": {},
   "source": [
    "![assets/isp-2.png](assets/isp-2.png)"
   ]
  },
  {
   "cell_type": "code",
   "execution_count": 9,
   "id": "9aebd784-1c31-44b6-9876-dd14e2b5a18f",
   "metadata": {},
   "outputs": [],
   "source": [
    "class TextDataGenerator:\n",
    "    def gen_text(self):\n",
    "        print(\"Running TextDataGenerator.gen_text()\")\n",
    "        return \"generated text\"\n",
    "\n",
    "    def gen_rows(self):\n",
    "        print(\"Running TextDataGenerator.gen_rows()\")\n",
    "        return \"generated rows\"\n",
    "\n",
    "\n",
    "class TextGenerator(TextDataGenerator):\n",
    "    def gen_text(self):\n",
    "        print(\"Running TextGenerator.gen_text()\")\n",
    "        return super().gen_text()\n",
    "\n",
    "\n",
    "class RowGenerator(TextDataGenerator):\n",
    "    def gen_rows(self):\n",
    "        print(\"Running RowsGenerator.gen_rows()\")\n",
    "        return super().gen_rows()\n",
    "\n",
    "\n",
    "class ImageDataGenerator:\n",
    "    def gen_images(self):\n",
    "        print(\"Running ImageDataGenerator.gen_images()\")\n",
    "        return \"generated images\"\n",
    "\n",
    "\n",
    "class ImageGenerator(ImageDataGenerator):\n",
    "    def gen_images(self):\n",
    "        print(\"Running ImageGenerator.gen_images()\")\n",
    "        return super().gen_images()\n",
    "\n",
    "\n",
    "def image_featurizer():\n",
    "    images = ImageGenerator().gen_images()\n",
    "    print(\"Running image_featurizer()\")\n",
    "    return \"featurized images\"\n",
    "\n",
    "\n",
    "def text_featurizer():\n",
    "    texts = TextGenerator().gen_text()\n",
    "    print(\"Running text_featurizer\")\n",
    "    return \"featurized text\"\n",
    "\n",
    "\n",
    "def row_featurizer():\n",
    "    rows = RowGenerator().gen_rows()\n",
    "    print(\"Running row_featurizer\")\n",
    "    return \"featurized rows\""
   ]
  },
  {
   "cell_type": "code",
   "execution_count": 10,
   "id": "ad53d7cb-b80f-472c-958a-605f618f65e0",
   "metadata": {},
   "outputs": [
    {
     "name": "stdout",
     "output_type": "stream",
     "text": [
      "Running ImageGenerator.gen_images()\n",
      "Running ImageDataGenerator.gen_images()\n",
      "Running image_featurizer()\n"
     ]
    },
    {
     "data": {
      "text/plain": [
       "'featurized images'"
      ]
     },
     "execution_count": 10,
     "metadata": {},
     "output_type": "execute_result"
    }
   ],
   "source": [
    "image_featurizer()"
   ]
  },
  {
   "cell_type": "code",
   "execution_count": 11,
   "id": "21fe8966-cc1c-4ca3-b514-47da17cd47a9",
   "metadata": {},
   "outputs": [
    {
     "name": "stdout",
     "output_type": "stream",
     "text": [
      "Running TextGenerator.gen_text()\n",
      "Running TextDataGenerator.gen_text()\n",
      "Running text_featurizer\n"
     ]
    },
    {
     "data": {
      "text/plain": [
       "'featurized text'"
      ]
     },
     "execution_count": 11,
     "metadata": {},
     "output_type": "execute_result"
    }
   ],
   "source": [
    "text_featurizer()"
   ]
  },
  {
   "cell_type": "code",
   "execution_count": 12,
   "id": "e0c692a5-0286-4404-9f6f-2c7f69978f45",
   "metadata": {},
   "outputs": [
    {
     "name": "stdout",
     "output_type": "stream",
     "text": [
      "Running RowsGenerator.gen_rows()\n",
      "Running TextDataGenerator.gen_rows()\n",
      "Running row_featurizer\n"
     ]
    },
    {
     "data": {
      "text/plain": [
       "'featurized rows'"
      ]
     },
     "execution_count": 12,
     "metadata": {},
     "output_type": "execute_result"
    }
   ],
   "source": [
    "row_featurizer()"
   ]
  }
 ],
 "metadata": {
  "kernelspec": {
   "display_name": "Python 3 (ipykernel)",
   "language": "python",
   "name": "python3"
  },
  "language_info": {
   "codemirror_mode": {
    "name": "ipython",
    "version": 3
   },
   "file_extension": ".py",
   "mimetype": "text/x-python",
   "name": "python",
   "nbconvert_exporter": "python",
   "pygments_lexer": "ipython3",
   "version": "3.8.10"
  }
 },
 "nbformat": 4,
 "nbformat_minor": 5
}
