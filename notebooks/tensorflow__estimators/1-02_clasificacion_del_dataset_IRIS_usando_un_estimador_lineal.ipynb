{
 "cells": [
  {
   "cell_type": "markdown",
   "metadata": {},
   "source": [
    "Clasificación del dataset IRIS usando un estimador lineal --- 15:38 min\n",
    "==="
   ]
  },
  {
   "cell_type": "markdown",
   "metadata": {},
   "source": [
    "* Última modificación: Agosto 6, 2021 | [YouTube](https://youtu.be/uj7rdUMv8fc)"
   ]
  },
  {
   "cell_type": "markdown",
   "metadata": {},
   "source": [
    "En esta lección se demuestra como construir un clasificador lineal para el dataset del Iris usando estimadores. "
   ]
  },
  {
   "cell_type": "markdown",
   "metadata": {},
   "source": [
    "## Importación de librerías"
   ]
  },
  {
   "cell_type": "code",
   "execution_count": 1,
   "metadata": {},
   "outputs": [
    {
     "name": "stdout",
     "output_type": "stream",
     "text": [
      "2.5.0\n"
     ]
    }
   ],
   "source": [
    "import warnings\n",
    "\n",
    "warnings.filterwarnings(\"ignore\")\n",
    "\n",
    "import os\n",
    "import sys\n",
    "\n",
    "import pandas as pd\n",
    "import numpy as np\n",
    "import seaborn as sb\n",
    "import matplotlib.pyplot as plt\n",
    "\n",
    "%matplotlib inline\n",
    "\n",
    "import tensorflow as tf\n",
    "\n",
    "print(tf.__version__)\n",
    "\n",
    "#\n",
    "# Establece el nivel de reporte en\n",
    "# pantalla de TensorFlow\n",
    "#\n",
    "import logging\n",
    "\n",
    "logger = tf.get_logger().setLevel(logging.ERROR)"
   ]
  },
  {
   "cell_type": "markdown",
   "metadata": {},
   "source": [
    "## Carga y configuración del dataset"
   ]
  },
  {
   "cell_type": "code",
   "execution_count": 2,
   "metadata": {},
   "outputs": [
    {
     "data": {
      "text/html": [
       "<div>\n",
       "<style scoped>\n",
       "    .dataframe tbody tr th:only-of-type {\n",
       "        vertical-align: middle;\n",
       "    }\n",
       "\n",
       "    .dataframe tbody tr th {\n",
       "        vertical-align: top;\n",
       "    }\n",
       "\n",
       "    .dataframe thead th {\n",
       "        text-align: right;\n",
       "    }\n",
       "</style>\n",
       "<table border=\"1\" class=\"dataframe\">\n",
       "  <thead>\n",
       "    <tr style=\"text-align: right;\">\n",
       "      <th></th>\n",
       "      <th>SepalLength</th>\n",
       "      <th>SepalWidth</th>\n",
       "      <th>PetalLength</th>\n",
       "      <th>PetalWidth</th>\n",
       "      <th>Species</th>\n",
       "    </tr>\n",
       "  </thead>\n",
       "  <tbody>\n",
       "    <tr>\n",
       "      <th>0</th>\n",
       "      <td>6.4</td>\n",
       "      <td>2.8</td>\n",
       "      <td>5.6</td>\n",
       "      <td>2.2</td>\n",
       "      <td>2</td>\n",
       "    </tr>\n",
       "    <tr>\n",
       "      <th>1</th>\n",
       "      <td>5.0</td>\n",
       "      <td>2.3</td>\n",
       "      <td>3.3</td>\n",
       "      <td>1.0</td>\n",
       "      <td>1</td>\n",
       "    </tr>\n",
       "    <tr>\n",
       "      <th>2</th>\n",
       "      <td>4.9</td>\n",
       "      <td>2.5</td>\n",
       "      <td>4.5</td>\n",
       "      <td>1.7</td>\n",
       "      <td>2</td>\n",
       "    </tr>\n",
       "    <tr>\n",
       "      <th>3</th>\n",
       "      <td>4.9</td>\n",
       "      <td>3.1</td>\n",
       "      <td>1.5</td>\n",
       "      <td>0.1</td>\n",
       "      <td>0</td>\n",
       "    </tr>\n",
       "    <tr>\n",
       "      <th>4</th>\n",
       "      <td>5.7</td>\n",
       "      <td>3.8</td>\n",
       "      <td>1.7</td>\n",
       "      <td>0.3</td>\n",
       "      <td>0</td>\n",
       "    </tr>\n",
       "  </tbody>\n",
       "</table>\n",
       "</div>"
      ],
      "text/plain": [
       "   SepalLength  SepalWidth  PetalLength  PetalWidth  Species\n",
       "0          6.4         2.8          5.6         2.2        2\n",
       "1          5.0         2.3          3.3         1.0        1\n",
       "2          4.9         2.5          4.5         1.7        2\n",
       "3          4.9         3.1          1.5         0.1        0\n",
       "4          5.7         3.8          1.7         0.3        0"
      ]
     },
     "execution_count": 2,
     "metadata": {},
     "output_type": "execute_result"
    }
   ],
   "source": [
    "col_names = [\n",
    "    \"SepalLength\", \n",
    "    \"SepalWidth\", \n",
    "    \"PetalLength\", \n",
    "    \"PetalWidth\", \n",
    "    \"Species\",\n",
    "]\n",
    "\n",
    "target_dimensions = [\n",
    "    \"Setosa\", \n",
    "    \"Versicolor\", \n",
    "    \"Virginica\",\n",
    "]\n",
    "\n",
    "training_data_path = tf.keras.utils.get_file(\n",
    "    \"iris_ training.csv\",\n",
    "    \"https://storage.googleapis.com/download.tensorflow.org/data/iris_training.csv\",\n",
    ")\n",
    "\n",
    "test_data_path = tf.keras.utils.get_file(\n",
    "    \"iris_test.csv\",\n",
    "    \"https://storage.googleapis.com/download.tensorflow.org/data/iris_test.csv\",\n",
    ")\n",
    "\n",
    "training = pd.read_csv(\n",
    "    training_data_path, \n",
    "    names=col_names, \n",
    "    header=0)\n",
    "\n",
    "training.head()"
   ]
  },
  {
   "cell_type": "code",
   "execution_count": 3,
   "metadata": {},
   "outputs": [
    {
     "data": {
      "text/html": [
       "<div>\n",
       "<style scoped>\n",
       "    .dataframe tbody tr th:only-of-type {\n",
       "        vertical-align: middle;\n",
       "    }\n",
       "\n",
       "    .dataframe tbody tr th {\n",
       "        vertical-align: top;\n",
       "    }\n",
       "\n",
       "    .dataframe thead th {\n",
       "        text-align: right;\n",
       "    }\n",
       "</style>\n",
       "<table border=\"1\" class=\"dataframe\">\n",
       "  <thead>\n",
       "    <tr style=\"text-align: right;\">\n",
       "      <th></th>\n",
       "      <th>SepalLength</th>\n",
       "      <th>SepalWidth</th>\n",
       "      <th>PetalLength</th>\n",
       "      <th>PetalWidth</th>\n",
       "      <th>Species</th>\n",
       "    </tr>\n",
       "  </thead>\n",
       "  <tbody>\n",
       "    <tr>\n",
       "      <th>count</th>\n",
       "      <td>100.000000</td>\n",
       "      <td>100.000000</td>\n",
       "      <td>100.000000</td>\n",
       "      <td>100.000000</td>\n",
       "      <td>100.000000</td>\n",
       "    </tr>\n",
       "    <tr>\n",
       "      <th>mean</th>\n",
       "      <td>6.262000</td>\n",
       "      <td>2.872000</td>\n",
       "      <td>4.906000</td>\n",
       "      <td>1.676000</td>\n",
       "      <td>0.500000</td>\n",
       "    </tr>\n",
       "    <tr>\n",
       "      <th>std</th>\n",
       "      <td>0.662834</td>\n",
       "      <td>0.332751</td>\n",
       "      <td>0.825578</td>\n",
       "      <td>0.424769</td>\n",
       "      <td>0.502519</td>\n",
       "    </tr>\n",
       "    <tr>\n",
       "      <th>min</th>\n",
       "      <td>4.900000</td>\n",
       "      <td>2.000000</td>\n",
       "      <td>3.000000</td>\n",
       "      <td>1.000000</td>\n",
       "      <td>0.000000</td>\n",
       "    </tr>\n",
       "    <tr>\n",
       "      <th>25%</th>\n",
       "      <td>5.800000</td>\n",
       "      <td>2.700000</td>\n",
       "      <td>4.375000</td>\n",
       "      <td>1.300000</td>\n",
       "      <td>0.000000</td>\n",
       "    </tr>\n",
       "    <tr>\n",
       "      <th>50%</th>\n",
       "      <td>6.300000</td>\n",
       "      <td>2.900000</td>\n",
       "      <td>4.900000</td>\n",
       "      <td>1.600000</td>\n",
       "      <td>0.500000</td>\n",
       "    </tr>\n",
       "    <tr>\n",
       "      <th>75%</th>\n",
       "      <td>6.700000</td>\n",
       "      <td>3.025000</td>\n",
       "      <td>5.525000</td>\n",
       "      <td>2.000000</td>\n",
       "      <td>1.000000</td>\n",
       "    </tr>\n",
       "    <tr>\n",
       "      <th>max</th>\n",
       "      <td>7.900000</td>\n",
       "      <td>3.800000</td>\n",
       "      <td>6.900000</td>\n",
       "      <td>2.500000</td>\n",
       "      <td>1.000000</td>\n",
       "    </tr>\n",
       "  </tbody>\n",
       "</table>\n",
       "</div>"
      ],
      "text/plain": [
       "       SepalLength  SepalWidth  PetalLength  PetalWidth     Species\n",
       "count   100.000000  100.000000   100.000000  100.000000  100.000000\n",
       "mean      6.262000    2.872000     4.906000    1.676000    0.500000\n",
       "std       0.662834    0.332751     0.825578    0.424769    0.502519\n",
       "min       4.900000    2.000000     3.000000    1.000000    0.000000\n",
       "25%       5.800000    2.700000     4.375000    1.300000    0.000000\n",
       "50%       6.300000    2.900000     4.900000    1.600000    0.500000\n",
       "75%       6.700000    3.025000     5.525000    2.000000    1.000000\n",
       "max       7.900000    3.800000     6.900000    2.500000    1.000000"
      ]
     },
     "execution_count": 3,
     "metadata": {},
     "output_type": "execute_result"
    }
   ],
   "source": [
    "#\n",
    "# Se va a construir un clasificador binario que pronostique\n",
    "# a cual de las dos clases pertenece un ejemplo.\n",
    "#\n",
    "# A continuación se elimina Species == 0 del dataframe.\n",
    "#\n",
    "training = training[training[\"Species\"] >= 1]\n",
    "training[\"Species\"] = training[\"Species\"].replace([1, 2], [0, 1])\n",
    "training.reset_index(drop=True, inplace=True)\n",
    "\n",
    "test = pd.read_csv(test_data_path, names=col_names, header=0)\n",
    "test = test[test[\"Species\"] >= 1]\n",
    "test[\"Species\"] = test[\"Species\"].replace([1, 2], [0, 1])\n",
    "test.reset_index(drop=True, inplace=True)\n",
    "\n",
    "df = pd.concat([training, test], axis=0)\n",
    "df.describe()"
   ]
  },
  {
   "cell_type": "markdown",
   "metadata": {},
   "source": [
    "## Exploración del dataset"
   ]
  },
  {
   "cell_type": "code",
   "execution_count": 4,
   "metadata": {},
   "outputs": [
    {
     "data": {
      "text/plain": [
       "<seaborn.axisgrid.PairGrid at 0x7f752981b438>"
      ]
     },
     "execution_count": 4,
     "metadata": {},
     "output_type": "execute_result"
    },
    {
     "data": {
      "image/png": "[encoded data removed]",
      "text/plain": [
       "<Figure size 900x900 with 30 Axes>"
      ]
     },
     "metadata": {
      "needs_background": "light"
     },
     "output_type": "display_data"
    }
   ],
   "source": [
    "sb.pairplot(df, diag_kind=\"auto\")"
   ]
  },
  {
   "cell_type": "code",
   "execution_count": 5,
   "metadata": {},
   "outputs": [
    {
     "data": {
      "text/html": [
       "<style  type=\"text/css\" >\n",
       "#T_746e20ce_f71c_11eb_b4c8_0242ac110002row0_col0,#T_746e20ce_f71c_11eb_b4c8_0242ac110002row1_col1,#T_746e20ce_f71c_11eb_b4c8_0242ac110002row2_col2,#T_746e20ce_f71c_11eb_b4c8_0242ac110002row3_col3,#T_746e20ce_f71c_11eb_b4c8_0242ac110002row4_col4{\n",
       "            background-color:  #b40426;\n",
       "            color:  #f1f1f1;\n",
       "        }#T_746e20ce_f71c_11eb_b4c8_0242ac110002row0_col1,#T_746e20ce_f71c_11eb_b4c8_0242ac110002row1_col0{\n",
       "            background-color:  #b1cbfc;\n",
       "            color:  #000000;\n",
       "        }#T_746e20ce_f71c_11eb_b4c8_0242ac110002row0_col2,#T_746e20ce_f71c_11eb_b4c8_0242ac110002row2_col0,#T_746e20ce_f71c_11eb_b4c8_0242ac110002row3_col4,#T_746e20ce_f71c_11eb_b4c8_0242ac110002row4_col3{\n",
       "            background-color:  #f4987a;\n",
       "            color:  #000000;\n",
       "        }#T_746e20ce_f71c_11eb_b4c8_0242ac110002row0_col3,#T_746e20ce_f71c_11eb_b4c8_0242ac110002row3_col0{\n",
       "            background-color:  #c4d5f3;\n",
       "            color:  #000000;\n",
       "        }#T_746e20ce_f71c_11eb_b4c8_0242ac110002row0_col4,#T_746e20ce_f71c_11eb_b4c8_0242ac110002row4_col0{\n",
       "            background-color:  #93b5fe;\n",
       "            color:  #000000;\n",
       "        }#T_746e20ce_f71c_11eb_b4c8_0242ac110002row1_col2,#T_746e20ce_f71c_11eb_b4c8_0242ac110002row2_col1{\n",
       "            background-color:  #a1c0ff;\n",
       "            color:  #000000;\n",
       "        }#T_746e20ce_f71c_11eb_b4c8_0242ac110002row1_col3,#T_746e20ce_f71c_11eb_b4c8_0242ac110002row3_col1{\n",
       "            background-color:  #b7cff9;\n",
       "            color:  #000000;\n",
       "        }#T_746e20ce_f71c_11eb_b4c8_0242ac110002row1_col4,#T_746e20ce_f71c_11eb_b4c8_0242ac110002row4_col1{\n",
       "            background-color:  #3b4cc0;\n",
       "            color:  #f1f1f1;\n",
       "        }#T_746e20ce_f71c_11eb_b4c8_0242ac110002row2_col3,#T_746e20ce_f71c_11eb_b4c8_0242ac110002row3_col2{\n",
       "            background-color:  #f59c7d;\n",
       "            color:  #000000;\n",
       "        }#T_746e20ce_f71c_11eb_b4c8_0242ac110002row2_col4,#T_746e20ce_f71c_11eb_b4c8_0242ac110002row4_col2{\n",
       "            background-color:  #f7b093;\n",
       "            color:  #000000;\n",
       "        }</style><table id=\"T_746e20ce_f71c_11eb_b4c8_0242ac110002\" ><thead>    <tr>        <th class=\"blank level0\" ></th>        <th class=\"col_heading level0 col0\" >SepalLength</th>        <th class=\"col_heading level0 col1\" >SepalWidth</th>        <th class=\"col_heading level0 col2\" >PetalLength</th>        <th class=\"col_heading level0 col3\" >PetalWidth</th>        <th class=\"col_heading level0 col4\" >Species</th>    </tr></thead><tbody>\n",
       "                <tr>\n",
       "                        <th id=\"T_746e20ce_f71c_11eb_b4c8_0242ac110002level0_row0\" class=\"row_heading level0 row0\" >SepalLength</th>\n",
       "                        <td id=\"T_746e20ce_f71c_11eb_b4c8_0242ac110002row0_col0\" class=\"data row0 col0\" >1.000000</td>\n",
       "                        <td id=\"T_746e20ce_f71c_11eb_b4c8_0242ac110002row0_col1\" class=\"data row0 col1\" >0.553855</td>\n",
       "                        <td id=\"T_746e20ce_f71c_11eb_b4c8_0242ac110002row0_col2\" class=\"data row0 col2\" >0.828479</td>\n",
       "                        <td id=\"T_746e20ce_f71c_11eb_b4c8_0242ac110002row0_col3\" class=\"data row0 col3\" >0.593709</td>\n",
       "                        <td id=\"T_746e20ce_f71c_11eb_b4c8_0242ac110002row0_col4\" class=\"data row0 col4\" >0.494305</td>\n",
       "            </tr>\n",
       "            <tr>\n",
       "                        <th id=\"T_746e20ce_f71c_11eb_b4c8_0242ac110002level0_row1\" class=\"row_heading level0 row1\" >SepalWidth</th>\n",
       "                        <td id=\"T_746e20ce_f71c_11eb_b4c8_0242ac110002row1_col0\" class=\"data row1 col0\" >0.553855</td>\n",
       "                        <td id=\"T_746e20ce_f71c_11eb_b4c8_0242ac110002row1_col1\" class=\"data row1 col1\" >1.000000</td>\n",
       "                        <td id=\"T_746e20ce_f71c_11eb_b4c8_0242ac110002row1_col2\" class=\"data row1 col2\" >0.519802</td>\n",
       "                        <td id=\"T_746e20ce_f71c_11eb_b4c8_0242ac110002row1_col3\" class=\"data row1 col3\" >0.566203</td>\n",
       "                        <td id=\"T_746e20ce_f71c_11eb_b4c8_0242ac110002row1_col4\" class=\"data row1 col4\" >0.308080</td>\n",
       "            </tr>\n",
       "            <tr>\n",
       "                        <th id=\"T_746e20ce_f71c_11eb_b4c8_0242ac110002level0_row2\" class=\"row_heading level0 row2\" >PetalLength</th>\n",
       "                        <td id=\"T_746e20ce_f71c_11eb_b4c8_0242ac110002row2_col0\" class=\"data row2 col0\" >0.828479</td>\n",
       "                        <td id=\"T_746e20ce_f71c_11eb_b4c8_0242ac110002row2_col1\" class=\"data row2 col1\" >0.519802</td>\n",
       "                        <td id=\"T_746e20ce_f71c_11eb_b4c8_0242ac110002row2_col2\" class=\"data row2 col2\" >1.000000</td>\n",
       "                        <td id=\"T_746e20ce_f71c_11eb_b4c8_0242ac110002row2_col3\" class=\"data row2 col3\" >0.823348</td>\n",
       "                        <td id=\"T_746e20ce_f71c_11eb_b4c8_0242ac110002row2_col4\" class=\"data row2 col4\" >0.786424</td>\n",
       "            </tr>\n",
       "            <tr>\n",
       "                        <th id=\"T_746e20ce_f71c_11eb_b4c8_0242ac110002level0_row3\" class=\"row_heading level0 row3\" >PetalWidth</th>\n",
       "                        <td id=\"T_746e20ce_f71c_11eb_b4c8_0242ac110002row3_col0\" class=\"data row3 col0\" >0.593709</td>\n",
       "                        <td id=\"T_746e20ce_f71c_11eb_b4c8_0242ac110002row3_col1\" class=\"data row3 col1\" >0.566203</td>\n",
       "                        <td id=\"T_746e20ce_f71c_11eb_b4c8_0242ac110002row3_col2\" class=\"data row3 col2\" >0.823348</td>\n",
       "                        <td id=\"T_746e20ce_f71c_11eb_b4c8_0242ac110002row3_col3\" class=\"data row3 col3\" >1.000000</td>\n",
       "                        <td id=\"T_746e20ce_f71c_11eb_b4c8_0242ac110002row3_col4\" class=\"data row3 col4\" >0.828129</td>\n",
       "            </tr>\n",
       "            <tr>\n",
       "                        <th id=\"T_746e20ce_f71c_11eb_b4c8_0242ac110002level0_row4\" class=\"row_heading level0 row4\" >Species</th>\n",
       "                        <td id=\"T_746e20ce_f71c_11eb_b4c8_0242ac110002row4_col0\" class=\"data row4 col0\" >0.494305</td>\n",
       "                        <td id=\"T_746e20ce_f71c_11eb_b4c8_0242ac110002row4_col1\" class=\"data row4 col1\" >0.308080</td>\n",
       "                        <td id=\"T_746e20ce_f71c_11eb_b4c8_0242ac110002row4_col2\" class=\"data row4 col2\" >0.786424</td>\n",
       "                        <td id=\"T_746e20ce_f71c_11eb_b4c8_0242ac110002row4_col3\" class=\"data row4 col3\" >0.828129</td>\n",
       "                        <td id=\"T_746e20ce_f71c_11eb_b4c8_0242ac110002row4_col4\" class=\"data row4 col4\" >1.000000</td>\n",
       "            </tr>\n",
       "    </tbody></table>"
      ],
      "text/plain": [
       "<pandas.io.formats.style.Styler at 0x7f74e2b3f4e0>"
      ]
     },
     "execution_count": 5,
     "metadata": {},
     "output_type": "execute_result"
    }
   ],
   "source": [
    "df.corr().style.background_gradient(\n",
    "    cmap=\"coolwarm\", \n",
    "    axis=None,\n",
    ")"
   ]
  },
  {
   "cell_type": "code",
   "execution_count": 6,
   "metadata": {},
   "outputs": [
    {
     "data": {
      "text/html": [
       "<div>\n",
       "<style scoped>\n",
       "    .dataframe tbody tr th:only-of-type {\n",
       "        vertical-align: middle;\n",
       "    }\n",
       "\n",
       "    .dataframe tbody tr th {\n",
       "        vertical-align: top;\n",
       "    }\n",
       "\n",
       "    .dataframe thead th {\n",
       "        text-align: right;\n",
       "    }\n",
       "</style>\n",
       "<table border=\"1\" class=\"dataframe\">\n",
       "  <thead>\n",
       "    <tr style=\"text-align: right;\">\n",
       "      <th></th>\n",
       "      <th>count</th>\n",
       "      <th>mean</th>\n",
       "      <th>std</th>\n",
       "      <th>min</th>\n",
       "      <th>25%</th>\n",
       "      <th>50%</th>\n",
       "      <th>75%</th>\n",
       "      <th>max</th>\n",
       "    </tr>\n",
       "  </thead>\n",
       "  <tbody>\n",
       "    <tr>\n",
       "      <th>SepalLength</th>\n",
       "      <td>100.0</td>\n",
       "      <td>6.262</td>\n",
       "      <td>0.662834</td>\n",
       "      <td>4.9</td>\n",
       "      <td>5.800</td>\n",
       "      <td>6.3</td>\n",
       "      <td>6.700</td>\n",
       "      <td>7.9</td>\n",
       "    </tr>\n",
       "    <tr>\n",
       "      <th>SepalWidth</th>\n",
       "      <td>100.0</td>\n",
       "      <td>2.872</td>\n",
       "      <td>0.332751</td>\n",
       "      <td>2.0</td>\n",
       "      <td>2.700</td>\n",
       "      <td>2.9</td>\n",
       "      <td>3.025</td>\n",
       "      <td>3.8</td>\n",
       "    </tr>\n",
       "    <tr>\n",
       "      <th>PetalLength</th>\n",
       "      <td>100.0</td>\n",
       "      <td>4.906</td>\n",
       "      <td>0.825578</td>\n",
       "      <td>3.0</td>\n",
       "      <td>4.375</td>\n",
       "      <td>4.9</td>\n",
       "      <td>5.525</td>\n",
       "      <td>6.9</td>\n",
       "    </tr>\n",
       "    <tr>\n",
       "      <th>PetalWidth</th>\n",
       "      <td>100.0</td>\n",
       "      <td>1.676</td>\n",
       "      <td>0.424769</td>\n",
       "      <td>1.0</td>\n",
       "      <td>1.300</td>\n",
       "      <td>1.6</td>\n",
       "      <td>2.000</td>\n",
       "      <td>2.5</td>\n",
       "    </tr>\n",
       "    <tr>\n",
       "      <th>Species</th>\n",
       "      <td>100.0</td>\n",
       "      <td>0.500</td>\n",
       "      <td>0.502519</td>\n",
       "      <td>0.0</td>\n",
       "      <td>0.000</td>\n",
       "      <td>0.5</td>\n",
       "      <td>1.000</td>\n",
       "      <td>1.0</td>\n",
       "    </tr>\n",
       "  </tbody>\n",
       "</table>\n",
       "</div>"
      ],
      "text/plain": [
       "             count   mean       std  min    25%  50%    75%  max\n",
       "SepalLength  100.0  6.262  0.662834  4.9  5.800  6.3  6.700  7.9\n",
       "SepalWidth   100.0  2.872  0.332751  2.0  2.700  2.9  3.025  3.8\n",
       "PetalLength  100.0  4.906  0.825578  3.0  4.375  4.9  5.525  6.9\n",
       "PetalWidth   100.0  1.676  0.424769  1.0  1.300  1.6  2.000  2.5\n",
       "Species      100.0  0.500  0.502519  0.0  0.000  0.5  1.000  1.0"
      ]
     },
     "execution_count": 6,
     "metadata": {},
     "output_type": "execute_result"
    }
   ],
   "source": [
    "df.describe().transpose()"
   ]
  },
  {
   "cell_type": "markdown",
   "metadata": {},
   "source": [
    "## Conjuntos de entrenamiento y validación"
   ]
  },
  {
   "cell_type": "code",
   "execution_count": 7,
   "metadata": {},
   "outputs": [],
   "source": [
    "from sklearn.model_selection import train_test_split\n",
    "\n",
    "#\n",
    "#  Partición de los datos. La función retorno un objeto\n",
    "#  pandas.DataFrame para X y un objeto pandas.Series para\n",
    "#  y\n",
    "#\n",
    "X_train, X_test, y_train, y_test = train_test_split(\n",
    "    df[[c for c in df.columns if c != \"Species\"]], \n",
    "    df[\"Species\"], \n",
    "    test_size=0.2\n",
    ")"
   ]
  },
  {
   "cell_type": "markdown",
   "metadata": {},
   "source": [
    "## Escalamiento de los datos"
   ]
  },
  {
   "cell_type": "code",
   "execution_count": 8,
   "metadata": {},
   "outputs": [],
   "source": [
    "from sklearn import preprocessing\n",
    "\n",
    "#\n",
    "#  El preprocesador retorna una numpy.ndarray y debe\n",
    "#  transformarse nuevamente en un pandas.DataFrame\n",
    "#\n",
    "scaler = preprocessing.StandardScaler().fit(X_train)\n",
    "\n",
    "X_train = pd.DataFrame(\n",
    "    scaler.transform(X_train), \n",
    "    columns=X_train.columns\n",
    ").astype(\n",
    "    np.float32\n",
    ")\n",
    "\n",
    "X_test = pd.DataFrame(\n",
    "    scaler.transform(X_test), \n",
    "    columns=X_test.columns\n",
    ").astype(\n",
    "    np.float32\n",
    ")"
   ]
  },
  {
   "cell_type": "markdown",
   "metadata": {},
   "source": [
    "## Especificación de los parámetros del estimador"
   ]
  },
  {
   "cell_type": "code",
   "execution_count": 9,
   "metadata": {},
   "outputs": [],
   "source": [
    "def make_input_fn(\n",
    "    data_df, \n",
    "    label_df, \n",
    "    num_epochs=10, \n",
    "    shuffle=True, \n",
    "    batch_size=32,\n",
    "):\n",
    "    def input_function():\n",
    "        ds = tf.data.Dataset.from_tensor_slices((dict(data_df), label_df))\n",
    "        if shuffle:\n",
    "            ds = ds.shuffle(1000)\n",
    "        ds = ds.batch(batch_size).repeat(num_epochs)\n",
    "        return ds\n",
    "\n",
    "    return input_function\n",
    "\n",
    "\n",
    "train_input_fn = make_input_fn(\n",
    "    X_train, \n",
    "    y_train, \n",
    "    num_epochs=1, \n",
    "    shuffle=False,\n",
    ")\n",
    "\n",
    "test_input_fn = make_input_fn(\n",
    "    X_test, \n",
    "    y_test, \n",
    "    num_epochs=1, \n",
    "    shuffle=False,\n",
    ")"
   ]
  },
  {
   "cell_type": "code",
   "execution_count": 10,
   "metadata": {},
   "outputs": [],
   "source": [
    "#\n",
    "#  Crea una lista con los tipos de las columnas\n",
    "#  del dataframe de entrada\n",
    "#\n",
    "feature_columns = [\n",
    "    tf.feature_column.numeric_column(m) for m in X_train.columns\n",
    "]"
   ]
  },
  {
   "cell_type": "markdown",
   "metadata": {},
   "source": [
    "## Entrenamiento y pronóstico"
   ]
  },
  {
   "cell_type": "code",
   "execution_count": 11,
   "metadata": {},
   "outputs": [],
   "source": [
    "logistic_model = tf.estimator.LinearClassifier(\n",
    "    feature_columns=feature_columns\n",
    ")\n",
    "\n",
    "logistic_model.train(train_input_fn)\n",
    "\n",
    "train_predictions = logistic_model.predict(train_input_fn)\n",
    "\n",
    "train_predictions = pd.Series(\n",
    "    [p[\"classes\"][0].decode(\"utf-8\") for p in train_predictions]\n",
    ")\n",
    "\n",
    "test_predictions = logistic_model.predict(test_input_fn)\n",
    "\n",
    "test_predictions = pd.Series(\n",
    "    [p[\"classes\"][0].decode(\"utf-8\") for p in test_predictions]\n",
    ")"
   ]
  },
  {
   "cell_type": "markdown",
   "metadata": {},
   "source": [
    "## Métricas de error"
   ]
  },
  {
   "cell_type": "code",
   "execution_count": 12,
   "metadata": {},
   "outputs": [
    {
     "name": "stdout",
     "output_type": "stream",
     "text": [
      "Training Data Accuracy =  0.875\n",
      "Training Data Score =  0.8536585365853658\n",
      "Training Data Recall =  0.8974358974358975\n",
      "\n",
      "Testing Data Accuracy =  0.95\n",
      "Testing Data Score =  1.0\n",
      "Testing Data Recall =  0.9090909090909091\n"
     ]
    }
   ],
   "source": [
    "from sklearn.metrics import accuracy_score, precision_score, recall_score\n",
    "\n",
    "\n",
    "def calculate_errors_and_r2(y_true, y_pred):\n",
    "    accuracy = accuracy_score(y_true, y_pred.astype(\"int64\"))\n",
    "    precision = precision_score(y_true, y_pred.astype(\"int64\"))\n",
    "    recall = recall_score(y_true, y_pred.astype(\"int64\"))\n",
    "    return accuracy, precision, recall\n",
    "\n",
    "\n",
    "(\n",
    "    train_accuracy_score,\n",
    "    train_precision_score,\n",
    "    train_recall_score,\n",
    ") = calculate_errors_and_r2(y_train, train_predictions)\n",
    "\n",
    "(\n",
    "    test_accuracy_score,\n",
    "    test_precision_score,\n",
    "    test_recall_score,\n",
    ") = calculate_errors_and_r2(y_test, test_predictions)\n",
    "\n",
    "print(\"Training Data Accuracy = \", train_accuracy_score)\n",
    "print(\"Training Data Score = \", train_precision_score)\n",
    "print(\"Training Data Recall = \", train_recall_score)\n",
    "print()\n",
    "print(\"Testing Data Accuracy = \", test_accuracy_score)\n",
    "print(\"Testing Data Score = \", test_precision_score)\n",
    "print(\"Testing Data Recall = \", test_recall_score)"
   ]
  }
 ],
 "metadata": {
  "kernelspec": {
   "display_name": "Python 3",
   "language": "python",
   "name": "python3"
  },
  "language_info": {
   "codemirror_mode": {
    "name": "ipython",
    "version": 3
   },
   "file_extension": ".py",
   "mimetype": "text/x-python",
   "name": "python",
   "nbconvert_exporter": "python",
   "pygments_lexer": "ipython3",
   "version": "3.6.9"
  }
 },
 "nbformat": 4,
 "nbformat_minor": 4
}
