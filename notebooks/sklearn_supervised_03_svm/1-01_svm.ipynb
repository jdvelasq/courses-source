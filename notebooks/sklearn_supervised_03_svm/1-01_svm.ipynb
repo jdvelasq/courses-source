{
 "cells": [
  {
   "cell_type": "markdown",
   "metadata": {},
   "source": [
    "Clasificación usando máquinas de soporte vectorial (SVM) --- 14:44 min\n",
    "===\n",
    "\n",
    "* 14:44 min | Última modificación: Octubre 17, 2021 | [YouTube](https://youtu.be/54nK9n7sGK0)"
   ]
  },
  {
   "cell_type": "markdown",
   "metadata": {},
   "source": [
    "Las máquinas de soporte vectorial son modelos de redes neuronales artificiales comunmente usados para la solución de problemas de regresión y clasficación. En esta lección se discute su fundamentación teórica y se ejemplifica su uso en un problema artificial de tres clases linealmente separables."
   ]
  },
  {
   "cell_type": "markdown",
   "metadata": {},
   "source": [
    "## Definición del problema"
   ]
  },
  {
   "cell_type": "markdown",
   "metadata": {},
   "source": [
    "Se tiene una muestra de 150 ejemplos, con dos variables independientes y tres clases; cada clase tiene 50 ejemplos. Se desea construir un sistema clasificador que permita discriminar a que clase pertenece un nuevo patrón. Los ejemplos son generados artificialmente a continuación."
   ]
  },
  {
   "cell_type": "code",
   "execution_count": 1,
   "metadata": {},
   "outputs": [],
   "source": [
    "from sklearn.datasets import make_blobs\n",
    "\n",
    "NPOINTS = 150\n",
    "\n",
    "X, d = make_blobs(\n",
    "    n_samples=NPOINTS,\n",
    "    n_features=2,\n",
    "    centers=3,\n",
    "    cluster_std=0.8,\n",
    "    shuffle=False,\n",
    "    random_state=12345,\n",
    ")"
   ]
  },
  {
   "cell_type": "markdown",
   "metadata": {},
   "source": [
    "En la siguiente gráfica cada color representa una clase diferente."
   ]
  },
  {
   "cell_type": "code",
   "execution_count": 8,
   "metadata": {},
   "outputs": [
    {
     "data": {
      "image/png": "[encoded data removed]",
      "text/plain": [
       "<Figure size 432x432 with 1 Axes>"
      ]
     },
     "metadata": {
      "needs_background": "light"
     },
     "output_type": "display_data"
    }
   ],
   "source": [
    "import matplotlib.pyplot as plt\n",
    "\n",
    "plt.figure(figsize=(6, 6))\n",
    "plt.scatter(X[:50, 0], X[:50, 1], color=\"red\", edgecolors=\"black\", alpha=0.9, s=100)\n",
    "plt.scatter(\n",
    "    X[50:100, 0], X[50:100, 1], color=\"blue\", edgecolors=\"black\", alpha=0.9, s=100\n",
    ")\n",
    "plt.scatter(X[100:, 0], X[100:, 1], color=\"green\", edgecolors=\"black\", alpha=0.9, s=100)\n",
    "\n",
    "plt.gca().spines[\"left\"].set_color(\"gray\")\n",
    "plt.gca().spines[\"bottom\"].set_color(\"gray\")\n",
    "plt.gca().spines[\"top\"].set_visible(False)\n",
    "plt.gca().spines[\"right\"].set_visible(False)\n",
    "plt.axis(\"equal\")\n",
    "plt.show()"
   ]
  },
  {
   "cell_type": "markdown",
   "metadata": {},
   "source": [
    "## Modelo matemático"
   ]
  },
  {
   "cell_type": "markdown",
   "metadata": {},
   "source": [
    "Una máquina de soporte vectorial es un modelo matemático de la siguiente forma:"
   ]
  },
  {
   "cell_type": "markdown",
   "metadata": {},
   "source": [
    "$$\n",
    "y = w_0 + \\sum_d w_d \\times k(\\mathbf{x}, \\mathbf{x}_d)\n",
    "$$"
   ]
  },
  {
   "cell_type": "markdown",
   "metadata": {},
   "source": [
    "donde:\n",
    "\n",
    "* $w_0$ es una constante.\n",
    "\n",
    "* $\\mathbf{x}$ es el vector de variables independientes (valor para el cual se desea calcular la salida $y$.\n",
    "\n",
    "* $w_d$ son los coeficientes del modelo.\n",
    "\n",
    "* $\\mathbf{x}_d$ son los vectores de soporte.\n",
    "\n",
    "* $k()$ es una función de núcleo (kernel function).\n",
    "\n",
    "* $d=1,...,D$ es un índice que itera sobre el conjunto de vectores de soporte."
   ]
  },
  {
   "cell_type": "markdown",
   "metadata": {},
   "source": [
    "Los funciones kernel $k()$ son las siguientes:\n",
    "\n",
    "* Lineal:\n",
    "$$\n",
    "k(\\mathbf{x}, \\mathbf{z}) = \\sum_i x_i \\cdot z_i\n",
    "$$\n",
    "\n",
    "* Polinomial:\n",
    "$$\n",
    "k(\\mathbf{x}, \\mathbf{z}) = 1 + \\left( \\sum_i x_i \\cdot z_i \\right)^d\n",
    "$$\n",
    "donde el grado $d$ del polinomio debe ser especificado por el modelador.\n",
    "\n",
    "* RBF:\n",
    "$$\n",
    "k(\\mathbf{x}, \\mathbf{z}) = \\exp( -\\gamma \\cdot ||\\mathbf{x} - \\mathbf{z}||^2)\n",
    "$$\n",
    "con $\\gamma > 0$.\n",
    "\n",
    "* Sigmoid:\n",
    "$$\n",
    "k(\\mathbf{x}, \\mathbf{z}) = \\tanh \\left(r + \\gamma \\sum_i x_i \\cdot y_i \\right)\n",
    "$$"
   ]
  },
  {
   "cell_type": "markdown",
   "metadata": {},
   "source": [
    "La estimación de los parámetros del modelo y la correspondiente selección de los vectores de soporte se realiza mediante la minimización de la función de riesgo regularizado de la forma:\n",
    "\n",
    "\n",
    "$$\n",
    "R(C, \\epsilon) = C \\sum_i \\text{loss}(d_i, y_i) + \\sum_d w_d^2\n",
    "$$"
   ]
  },
  {
   "cell_type": "markdown",
   "metadata": {},
   "source": [
    "La función de pérdida utilizada depende del tipo de implementación."
   ]
  },
  {
   "cell_type": "markdown",
   "metadata": {},
   "source": [
    "El término\n",
    "\n",
    "$$\n",
    "K(x_i, x_j) = \\phi(x_i)^T \\phi(x_j)\n",
    "$$\n",
    "\n",
    "donde $\\phi(\\cdot)$ es una función kernel, y el término anterior corresponde al Kernel Trick."
   ]
  },
  {
   "cell_type": "markdown",
   "metadata": {},
   "source": [
    "Sea un conjunto de patrones de entrenamiento $\\mathbf{x}_i \\in \\mathbb{R}^p$, $i=1, \\dots, n$, y $y_i$ la variable dependiente con $y \\in \\{-1, +1 \\}$, el objetivo es encontrar $w \\in \\mathbb{R}^p$ y $b \\in \\mathbb{R}$, tal que la ecuación anterior sea correcta para la mayor cantidad de patrones."
   ]
  },
  {
   "cell_type": "markdown",
   "metadata": {},
   "source": [
    "Para la clasificación, esto equivale a resolver el problema primal:\n",
    "\n",
    "$$\n",
    "\\min_{w,b, \\zeta} \\;\\;\\;\n",
    "\\frac{1}{2} w^T w \\; + \\; C \\sum_{i=1}^n \\zeta_i\n",
    "$$\n",
    "\n",
    "sujeto a:\n",
    "\n",
    "\n",
    "\n",
    "$$\n",
    "\\begin{split}\n",
    "y_i \\left( w^T \\phi(x_i)+ b \\right) \\ge \\; & 1 - \\zeta_i \\\\\n",
    "\\\\\n",
    "\\zeta_i \\ge & \\; 0 \\\\\n",
    "\\\\\n",
    "i= & 1, ..., n \\\\\n",
    "\\end{split}\n",
    "$$"
   ]
  },
  {
   "cell_type": "markdown",
   "metadata": {},
   "source": [
    "Una explicación intuitiva es la siguiente:"
   ]
  },
  {
   "cell_type": "markdown",
   "metadata": {},
   "source": [
    "* Para llegar al óptimo se debe minimizar $0.5 w^Tw$."
   ]
  },
  {
   "cell_type": "markdown",
   "metadata": {},
   "source": [
    "*  $w^T \\phi(x_i)+ b$ es la frontera de decisión entre las clases"
   ]
  },
  {
   "cell_type": "markdown",
   "metadata": {},
   "source": [
    "* Si un patrón es correctamente clasificado, entonces $\\zeta$ = 0. "
   ]
  },
  {
   "cell_type": "markdown",
   "metadata": {},
   "source": [
    "* Si un patrón es mal clasificado, $\\zeta$ > 0 haciendo crecer el segundo término de la función objetivo.\n"
   ]
  },
  {
   "cell_type": "markdown",
   "metadata": {},
   "source": [
    "![optimizacion_svm.png](assets/optimizacion_svm.png)"
   ]
  },
  {
   "cell_type": "markdown",
   "metadata": {},
   "source": [
    "## Solución numérica"
   ]
  },
  {
   "cell_type": "code",
   "execution_count": 3,
   "metadata": {},
   "outputs": [
    {
     "data": {
      "text/plain": [
       "array([0, 0, 0, 0, 0, 0, 0, 0, 0, 0, 0, 0, 0, 0, 0, 0, 0, 0, 0, 0, 0, 0,\n",
       "       0, 0, 0, 0, 0, 0, 0, 0, 0, 0, 0, 0, 0, 0, 0, 0, 0, 0, 0, 0, 0, 0,\n",
       "       0, 0, 0, 0, 0, 0, 1, 1, 1, 1, 1, 1, 1, 1, 1, 1, 1, 1, 1, 1, 1, 1,\n",
       "       1, 1, 1, 1, 1, 1, 1, 1, 1, 1, 1, 1, 1, 1, 1, 1, 1, 1, 1, 1, 1, 1,\n",
       "       1, 1, 1, 1, 1, 1, 1, 1, 1, 1, 1, 1, 2, 2, 2, 2, 2, 2, 2, 2, 2, 2,\n",
       "       2, 2, 2, 2, 2, 2, 2, 2, 2, 2, 2, 2, 2, 2, 2, 2, 2, 2, 2, 2, 2, 2,\n",
       "       2, 2, 2, 2, 2, 2, 2, 2, 2, 2, 2, 2, 2, 2, 2, 2, 2, 2])"
      ]
     },
     "execution_count": 3,
     "metadata": {},
     "output_type": "execute_result"
    }
   ],
   "source": [
    "from sklearn import svm\n",
    "\n",
    "clf = svm.SVC(kernel=\"linear\", C=1)  # tipo de kernel  # factor de regularización\n",
    "\n",
    "clf.fit(X, d)\n",
    "clf.predict(X)"
   ]
  },
  {
   "cell_type": "markdown",
   "metadata": {},
   "source": [
    "## Fronteras de decisión"
   ]
  },
  {
   "cell_type": "code",
   "execution_count": 13,
   "metadata": {},
   "outputs": [
    {
     "data": {
      "image/png": "[encoded data removed]",
      "text/plain": [
       "<Figure size 648x576 with 1 Axes>"
      ]
     },
     "metadata": {
      "needs_background": "light"
     },
     "output_type": "display_data"
    }
   ],
   "source": [
    "import numpy as np\n",
    "\n",
    "plt.figure(figsize=(9, 8))\n",
    "\n",
    "xx, yy = np.meshgrid(\n",
    "    np.arange(X[:, 0].min() - 1, X[:, 0].max() + 1, 1),\n",
    "    np.arange(X[:, 1].min() - 1, X[:, 1].max() + 1, 1),\n",
    ")\n",
    "\n",
    "zz = clf.predict(np.c_[xx.ravel(), yy.ravel()])\n",
    "zz = zz.reshape(xx.shape)\n",
    "plt.contourf(xx, yy, zz, cmap=plt.cm.coolwarm, alpha=0.7)\n",
    "\n",
    "plt.scatter(X[:50, 0], X[:50, 1], color=\"red\", edgecolors=\"black\", alpha=1.0, s=100)\n",
    "plt.scatter(\n",
    "    X[50:100, 0], X[50:100, 1], color=\"blue\", edgecolors=\"black\", alpha=1.0, s=100\n",
    ")\n",
    "plt.scatter(X[100:, 0], X[100:, 1], color=\"green\", edgecolors=\"black\", alpha=1.0, s=100)\n",
    "\n",
    "plt.gca().set_aspect(\"equal\", adjustable=\"box\")\n",
    "plt.gca().set_xlim(xx.min(), xx.max())\n",
    "plt.gca().set_ylim(yy.min(), yy.max())\n",
    "\n",
    "\n",
    "plt.show()"
   ]
  },
  {
   "cell_type": "markdown",
   "metadata": {},
   "source": [
    "**Ejercicio.---** Experimente con otras funciones de nucleo."
   ]
  }
 ],
 "metadata": {
  "kernelspec": {
   "display_name": "Python 3",
   "language": "python",
   "name": "python3"
  },
  "language_info": {
   "codemirror_mode": {
    "name": "ipython",
    "version": 3
   },
   "file_extension": ".py",
   "mimetype": "text/x-python",
   "name": "python",
   "nbconvert_exporter": "python",
   "pygments_lexer": "ipython3",
   "version": "3.6.9"
  }
 },
 "nbformat": 4,
 "nbformat_minor": 4
}
