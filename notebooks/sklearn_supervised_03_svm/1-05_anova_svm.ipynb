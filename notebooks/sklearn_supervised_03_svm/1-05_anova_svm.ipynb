{
 "cells": [
  {
   "cell_type": "markdown",
   "id": "8bc24aba-84c9-40ba-9241-3b4c9895ff41",
   "metadata": {
    "slideshow": {
     "slide_type": "slide"
    },
    "tags": []
   },
   "source": [
    "Creación de un pipeline ANOVA-SVM --- 5:52 min\n",
    "===\n",
    "\n",
    "* 5:52 min | Última modificación: Octubre 1, 2021 | [YouTube](https://youtu.be/8HY4KOneF9s)"
   ]
  },
  {
   "cell_type": "markdown",
   "id": "c1d90027-f0a5-41d0-95d7-9b02ddac15f8",
   "metadata": {},
   "source": [
    "https://scikit-learn.org/stable/auto_examples/feature_selection/plot_feature_selection_pipeline.html#sphx-glr-auto-examples-feature-selection-plot-feature-selection-pipeline-py"
   ]
  },
  {
   "cell_type": "markdown",
   "id": "bc5f22b3-4a04-4a24-b303-5c1964bc2903",
   "metadata": {},
   "source": [
    "Construcción del pipeline\n",
    "---"
   ]
  },
  {
   "cell_type": "code",
   "execution_count": 1,
   "id": "80eb9080-bed2-43de-804f-71b8c030eba8",
   "metadata": {},
   "outputs": [],
   "source": [
    "from sklearn.feature_selection import SelectKBest, f_classif\n",
    "from sklearn.pipeline import make_pipeline\n",
    "from sklearn.svm import LinearSVC\n",
    "\n",
    "anova_svm = make_pipeline(\n",
    "    # -------------------------------------------------------------------------\n",
    "    # Select features according to the k highest scores.\n",
    "    SelectKBest(\n",
    "        # ---------------------------------------------------------------------\n",
    "        # Function taking two arrays X and y, and returning a pair of arrays\n",
    "        # (scores, pvalues) or a single array with scores. Default is f_classif\n",
    "        # f_classif: ANOVA F-value between label/feature for classification\n",
    "        # tasks.\n",
    "        score_func=f_classif,\n",
    "        # ---------------------------------------------------------------------\n",
    "        # Number of top features to select.\n",
    "        k=3,\n",
    "    ),\n",
    "    # -------------------------------------------------------------------------\n",
    "    # Linear Support Vector Classification\n",
    "    LinearSVC(\n",
    "        # ---------------------------------------------------------------------\n",
    "        # Specifies the norm used in the penalization.\n",
    "        penalty=\"l2\",\n",
    "        # ---------------------------------------------------------------------\n",
    "        # Specifies the loss function.\n",
    "        loss=\"squared_hinge\",\n",
    "        # ---------------------------------------------------------------------\n",
    "        # Select the algorithm to either solve the dual or primal optimization\n",
    "        # problem.\n",
    "        dual=True,\n",
    "        # ---------------------------------------------------------------------\n",
    "        # Regularization parameter.\n",
    "        C=1.0,\n",
    "        # ---------------------------------------------------------------------\n",
    "        # Whether to calculate the intercept for this model.\n",
    "        fit_intercept=True,\n",
    "        # ---------------------------------------------------------------------\n",
    "        # The maximum number of iterations to be run.\n",
    "        max_iter=1000,\n",
    "        # ---------------------------------------------------------------------\n",
    "        random_state=None,\n",
    "    ),\n",
    ")"
   ]
  },
  {
   "cell_type": "markdown",
   "id": "d490cc31-fbc2-4299-8326-cb668ab32d8d",
   "metadata": {},
   "source": [
    "Preparación de los datos\n",
    "---"
   ]
  },
  {
   "cell_type": "code",
   "execution_count": 2,
   "id": "8e0e7fce-427e-42ee-ba4e-1236c9f3b1d2",
   "metadata": {},
   "outputs": [],
   "source": [
    "from sklearn.datasets import make_classification\n",
    "from sklearn.model_selection import train_test_split\n",
    "\n",
    "X, y = make_classification(\n",
    "    n_features=20,\n",
    "    n_informative=3,\n",
    "    n_redundant=0,\n",
    "    n_classes=2,\n",
    "    n_clusters_per_class=2,\n",
    "    random_state=42,\n",
    ")\n",
    "\n",
    "X_train, X_test, y_train, y_test = train_test_split(\n",
    "    X,\n",
    "    y,\n",
    "    # -------------------------------------------------------------------------\n",
    "    # If float, should be between 0.0 and 1.0 and represent the proportion of\n",
    "    # the dataset to include in the test split. If int, represents the absolute\n",
    "    # number of test samples. If None, the value is set to the complement of\n",
    "    # the train size. If train_size is also None, it will be set to 0.25.\n",
    "    test_size=None,\n",
    "    # -------------------------------------------------------------------------\n",
    "    # If float, should be between 0.0 and 1.0 and represent the proportion of\n",
    "    # the dataset to include in the train split. If int, represents the\n",
    "    # absolute number of train samples. If None, the value is automatically\n",
    "    # set to the complement of the test size.\n",
    "    train_size=None,\n",
    "    # -------------------------------------------------------------------------\n",
    "    # Whether or not to shuffle the data before splitting. If shuffle=False\n",
    "    # then stratify must be None\n",
    "    shuffle=True,\n",
    "    # -------------------------------------------------------------------------\n",
    "    # If not None, data is split in a stratified fashion, using this as the\n",
    "    # class labels.\n",
    "    stratify=None,\n",
    "    # -------------------------------------------------------------------------\n",
    "    random_state=42,\n",
    ")"
   ]
  },
  {
   "cell_type": "markdown",
   "id": "4e3a85da-88bb-47e7-8566-ec61b0aebc6b",
   "metadata": {},
   "source": [
    "Entrenamiento del pipeline\n",
    "---"
   ]
  },
  {
   "cell_type": "code",
   "execution_count": 3,
   "id": "eb2e2efd-090e-495d-82cd-7f524ad8dd6e",
   "metadata": {},
   "outputs": [
    {
     "data": {
      "text/plain": [
       "Pipeline(memory=None,\n",
       "         steps=[('selectkbest',\n",
       "                 SelectKBest(k=3,\n",
       "                             score_func=<function f_classif at 0x7f409c77a048>)),\n",
       "                ('linearsvc',\n",
       "                 LinearSVC(C=1.0, class_weight=None, dual=True,\n",
       "                           fit_intercept=True, intercept_scaling=1,\n",
       "                           loss='squared_hinge', max_iter=1000,\n",
       "                           multi_class='ovr', penalty='l2', random_state=None,\n",
       "                           tol=0.0001, verbose=0))],\n",
       "         verbose=False)"
      ]
     },
     "execution_count": 3,
     "metadata": {},
     "output_type": "execute_result"
    }
   ],
   "source": [
    "anova_svm.fit(X_train, y_train)"
   ]
  },
  {
   "cell_type": "markdown",
   "id": "54d75077-79e9-4dcf-9c72-96f24d96540f",
   "metadata": {},
   "source": [
    "Variables independientes seleccionadas\n",
    "---"
   ]
  },
  {
   "cell_type": "code",
   "execution_count": 4,
   "id": "d6d95c3f-89cb-41b0-a03a-de1e6bd54640",
   "metadata": {},
   "outputs": [
    {
     "data": {
      "text/plain": [
       "array([False, False,  True, False, False, False, False, False, False,\n",
       "        True, False, False, False, False, False, False, False, False,\n",
       "       False,  True])"
      ]
     },
     "execution_count": 4,
     "metadata": {},
     "output_type": "execute_result"
    }
   ],
   "source": [
    "#\n",
    "# Get a mask, or integer index, of the features selected.\n",
    "#\n",
    "anova_svm[0].get_support()"
   ]
  }
 ],
 "metadata": {
  "kernelspec": {
   "display_name": "Python 3",
   "language": "python",
   "name": "python3"
  },
  "language_info": {
   "codemirror_mode": {
    "name": "ipython",
    "version": 3
   },
   "file_extension": ".py",
   "mimetype": "text/x-python",
   "name": "python",
   "nbconvert_exporter": "python",
   "pygments_lexer": "ipython3",
   "version": "3.6.9"
  }
 },
 "nbformat": 4,
 "nbformat_minor": 5
}
