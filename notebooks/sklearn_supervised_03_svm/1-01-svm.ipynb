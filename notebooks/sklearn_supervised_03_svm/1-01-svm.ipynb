{
 "cells": [
  {
   "cell_type": "markdown",
   "metadata": {
    "tags": []
   },
   "source": [
    "Máquinas de soporte vectorial (SVMs) ---\n",
    "===\n",
    "\n",
    "* 0:00 min | Última modificación: Septiembre 27, 2021 | [YouTube]"
   ]
  },
  {
   "cell_type": "markdown",
   "metadata": {},
   "source": [
    "La definición matemática de una máquina de soporte vectorial es la siguiente:"
   ]
  },
  {
   "cell_type": "markdown",
   "metadata": {},
   "source": [
    "Sea un conjunto de patrones de entrenamiento $x_i \\in \\mathbb{R}^p$, $i=1, \\dots, n$, y $y_i$ la variable dependiente con $y \\in \\{-1, +1 \\}$, el objetivo es encontrar $w \\in \\mathbb{R}^p$ y $b \\in \\mathbb{R}$, tal que la predicción dada por:\n",
    "\n",
    "$$\n",
    "\\text{sign}( w^T\\phi(x) + b\n",
    "$$\n",
    "\n",
    "sea correcta para la mayor cantidad de patrones."
   ]
  },
  {
   "cell_type": "markdown",
   "metadata": {},
   "source": [
    "Para la clasificación, esto equivale a resolver el problema primal:\n",
    "\n",
    "$$\n",
    "\\min_{w,b, \\zeta} \\;\\;\\;\n",
    "\\frac{1}{2} w^T w \\; + \\; C \\sum_{i=1}^n \\zeta_i\n",
    "$$\n",
    "\n",
    "sujeto a:\n",
    "\n",
    "\n",
    "\n",
    "$$\n",
    "\\begin{split}\n",
    "y_i \\left( w^T \\phi(x_i)+ b \\right) \\ge \\; & 1 - \\zeta_i \\\\\n",
    "\\\\\n",
    "\\zeta_i \\ge & \\; 0 \\\\\n",
    "\\\\\n",
    "i= & 1, ..., n \\\\\n",
    "\\end{split}\n",
    "$$"
   ]
  },
  {
   "cell_type": "markdown",
   "metadata": {},
   "source": [
    "Una explicación intuitiva es la siguiente:"
   ]
  },
  {
   "cell_type": "markdown",
   "metadata": {},
   "source": [
    "* Para llegar al óptimo se debe minimizar $0.5 w^Tw$."
   ]
  },
  {
   "cell_type": "markdown",
   "metadata": {},
   "source": [
    "*  $w^T \\phi(x_i)+ b$ es la frontera de decisión entre las clases"
   ]
  },
  {
   "cell_type": "markdown",
   "metadata": {},
   "source": [
    "* Si un patrón es correctamente clasificado, entonces $\\zeta$ = 0. "
   ]
  },
  {
   "cell_type": "markdown",
   "metadata": {},
   "source": [
    "* Si un patrón es mal clasificado, $zeta$ > 0 haciendo crecer el segundo término de la función objetivo.\n"
   ]
  },
  {
   "cell_type": "markdown",
   "metadata": {},
   "source": [
    "![optimizacion_svm.png](assets/optimizacion_svm.png)"
   ]
  },
  {
   "cell_type": "markdown",
   "metadata": {},
   "source": [
    "El problema dual del primal anterior es:"
   ]
  },
  {
   "cell_type": "markdown",
   "metadata": {},
   "source": [
    "$$\n",
    "\\min_\\alpha \\; \\frac{1}{2} \\alpha^T Q \\alpha - e^T \\alpha\n",
    "$$"
   ]
  },
  {
   "cell_type": "markdown",
   "metadata": {},
   "source": [
    "sujeto a:"
   ]
  },
  {
   "cell_type": "markdown",
   "metadata": {},
   "source": [
    "$$\n",
    "y^T \\alpha =  0 \n",
    "$$\n",
    "\n",
    "$$\n",
    "0 \\le \\alpha_i \\le C \n",
    "$$\n",
    "\n",
    "$$\n",
    "i= 1, ..., n\n",
    "$$"
   ]
  },
  {
   "cell_type": "markdown",
   "metadata": {},
   "source": [
    "Donde $e$ es un vector de unos, y $Q$ es una matriz semidefinida positiva de orden $n \\times n$."
   ]
  },
  {
   "cell_type": "markdown",
   "metadata": {},
   "source": [
    "El término \n",
    "\n",
    "$$Q_{ij} = y_i y_j K(x_i, x_j)$$\n",
    "\n",
    "donde \n",
    "\n",
    "$$\n",
    "K(x_i, x_j) = \\phi(x_i)^T \\phi(x_j)\n",
    "$$\n",
    "\n",
    "es un kernel. \n",
    "\n",
    "La representación dual del problema hace explicito que los vectores de entrenamiento son mapeados a un espacio dimensional superior por la función $\\phi()$, o Kernel Trick."
   ]
  },
  {
   "cell_type": "markdown",
   "metadata": {},
   "source": [
    "Una vez el problema ha sido resuelto, la función de decisión es:\n",
    "\n",
    "\n",
    "$$\n",
    "\\sum_{i \\in SV} y_i \\alpha_i K(x_i, x) + b\n",
    "$$\n",
    "\n",
    "La clase pronosticada se obtiene al aplicar la función signo a la ecuación anterior.\n",
    "\n",
    "Los vectores $x_i$ son los vectors de soporte."
   ]
  },
  {
   "cell_type": "markdown",
   "metadata": {},
   "source": [
    "El modelo anterior se suele re-escribir como:\n",
    "\n",
    "\n",
    "$$\n",
    "\\sum_{i \\in SV} w_i K(x_i, x) + b\n",
    "$$"
   ]
  },
  {
   "cell_type": "markdown",
   "metadata": {},
   "source": [
    "La función kernel puede ser una de las siguientes:"
   ]
  },
  {
   "cell_type": "markdown",
   "metadata": {},
   "source": [
    "**Kernel Lineal**\n",
    "\n",
    "$$\n",
    "k(x, y) = x^Ty\n",
    "$$"
   ]
  },
  {
   "cell_type": "markdown",
   "metadata": {},
   "source": [
    "**Kernel polinomial**\n",
    "\n",
    "$$\n",
    "k(x, y) = (\\gamma x^T y + c_0)^2\n",
    "$$"
   ]
  },
  {
   "cell_type": "markdown",
   "metadata": {},
   "source": [
    "**Kernel RBF**\n",
    "\n",
    "$$\n",
    "k(x, y) = \\exp \\left(-\\gamma ||x - y||^2  \\right) \n",
    "$$"
   ]
  },
  {
   "cell_type": "markdown",
   "metadata": {},
   "source": [
    "**Kernel sigmoidal** \n",
    "\n",
    "$$\n",
    "k(x, y) = \\tanh(\\gamma x^T y + c_0)\n",
    "$$"
   ]
  }
 ],
 "metadata": {
  "kernelspec": {
   "display_name": "Python 3",
   "language": "python",
   "name": "python3"
  },
  "language_info": {
   "codemirror_mode": {
    "name": "ipython",
    "version": 3
   },
   "file_extension": ".py",
   "mimetype": "text/x-python",
   "name": "python",
   "nbconvert_exporter": "python",
   "pygments_lexer": "ipython3",
   "version": "3.6.9"
  }
 },
 "nbformat": 4,
 "nbformat_minor": 4
}
