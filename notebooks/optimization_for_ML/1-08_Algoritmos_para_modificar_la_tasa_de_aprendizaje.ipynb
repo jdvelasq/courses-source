{
 "cells": [
  {
   "cell_type": "markdown",
   "metadata": {
    "toc-hr-collapsed": false
   },
   "source": [
    "Algoritmos para modificar la tasa de aprendizaje\n",
    "===\n",
    "\n",
    "* 16:51 min | Ultima modificación: Marzo 29, 2021 | [YouTube](https://youtu.be/DEaBmI1EbNU)"
   ]
  },
  {
   "cell_type": "code",
   "execution_count": 1,
   "metadata": {},
   "outputs": [],
   "source": [
    "import numpy as np\n",
    "\n",
    "import matplotlib.pyplot as plt"
   ]
  },
  {
   "cell_type": "markdown",
   "metadata": {},
   "source": [
    "## Definición del problema de optimización"
   ]
  },
  {
   "cell_type": "markdown",
   "metadata": {},
   "source": [
    "Para demostrar diferentes estrategias de modificación de la tasa de aprendizaje se utilizará la siguiente función, la cual tiene un mínimo de aguja, tal como ilustra la gráfica presentada."
   ]
  },
  {
   "cell_type": "markdown",
   "metadata": {},
   "source": [
    "$$\n",
    "f(x) =\n",
    "\\begin{cases}\n",
    "    10\\cdot (x-3)^2, & \\text{si } |x-3| \\le 0.67\\\\\n",
    "    (x-3)^2+4,        & \\text{de lo contrario}\n",
    "\\end{cases}\n",
    "$$"
   ]
  },
  {
   "cell_type": "code",
   "execution_count": 2,
   "metadata": {},
   "outputs": [],
   "source": [
    "def f(x):\n",
    "    return np.where(\n",
    "        abs(x - 3) <= 0.67, 10 * np.power( (x - 3), 2), np.power(x - 3, 2) + 4\n",
    "    )"
   ]
  },
  {
   "cell_type": "code",
   "execution_count": 3,
   "metadata": {},
   "outputs": [
    {
     "data": {
      "image/png": "[encoded data removed]",
      "text/plain": [
       "<Figure size 432x288 with 1 Axes>"
      ]
     },
     "metadata": {
      "needs_background": "light"
     },
     "output_type": "display_data"
    }
   ],
   "source": [
    "def plot_f():\n",
    "    x_data = np.arange(0, 6.01, 0.005)\n",
    "    y_data = f(x_data)\n",
    "    plt.plot(x_data, y_data, \"-k\")\n",
    "\n",
    "\n",
    "plot_f()"
   ]
  },
  {
   "cell_type": "markdown",
   "metadata": {},
   "source": [
    "El gradiente de la función a optimizar es:"
   ]
  },
  {
   "cell_type": "markdown",
   "metadata": {},
   "source": [
    "$$\n",
    "\\frac{d}{dx} f(x) =\n",
    "\\begin{cases}\n",
    "    20 \\cdot (x - 3), & \\text{si } |x-3| \\le 0.67\\\\\n",
    "    2 \\cdot (x - 3),  & \\text{de lo contrario}\n",
    "\\end{cases}\n",
    "$$"
   ]
  },
  {
   "cell_type": "code",
   "execution_count": 4,
   "metadata": {},
   "outputs": [],
   "source": [
    "def grd(x):\n",
    "    return np.where(abs(x - 3) <= 0.67, 20 * (x - 3), 2 * (x - 3))"
   ]
  },
  {
   "cell_type": "markdown",
   "metadata": {},
   "source": [
    "## Tasa de aprendizaje constante"
   ]
  },
  {
   "cell_type": "markdown",
   "metadata": {},
   "source": [
    "En esta estrategia, la tasa de aprendizaje ($\\mu$) es constante durante todo el proceso."
   ]
  },
  {
   "cell_type": "code",
   "execution_count": 18,
   "metadata": {},
   "outputs": [
    {
     "name": "stdout",
     "output_type": "stream",
     "text": [
      "\n",
      "Solución encontrada:\n",
      " x = 3.5119999999999996\n",
      " y = 2.6214399999999953\n",
      "\n",
      "\n"
     ]
    },
    {
     "data": {
      "image/png": "[encoded data removed]",
      "text/plain": [
       "<Figure size 432x288 with 1 Axes>"
      ]
     },
     "metadata": {
      "needs_background": "light"
     },
     "output_type": "display_data"
    }
   ],
   "source": [
    "def learning_rate_constant(x, mu, t):\n",
    "    def improve(x, mu):\n",
    "        return x - mu * grd(x)\n",
    "\n",
    "    history_x = [x]\n",
    "    history_f = [f(x)]\n",
    "    history_g = [mu * abs(grd(x))]\n",
    "\n",
    "    for i in range(t):\n",
    "        x = improve(x, mu)\n",
    "        history_x.append(x)\n",
    "        history_f.append(f(x))\n",
    "        history_g.append(mu * abs(grd(x)))\n",
    "\n",
    "    print(\"\\nSolución encontrada:\\n x = {}\\n y = {}\\n\\n\".format(x, f(x)))\n",
    "\n",
    "    # plot_f()\n",
    "    # plt.plot(history_x, history_f, \"-or\", linewidth=2)\n",
    "    # plt.plot(\n",
    "    #     history_x[0], history_f[0], \"o\", color=\"black\", fillstyle=\"none\", markersize=12\n",
    "    # )\n",
    "    # plt.plot(\n",
    "    #     history_x[-1], history_f[-1], \"o\", color=\"red\", fillstyle=\"none\", markersize=12\n",
    "    # )\n",
    "    \n",
    "    plt.plot(\n",
    "        history_g,  color=\"black\", fillstyle=\"none\", markersize=12\n",
    "    )\n",
    "    \n",
    "\n",
    "learning_rate_constant(x=0.5, mu=0.3, t=10)"
   ]
  },
  {
   "cell_type": "code",
   "execution_count": null,
   "metadata": {},
   "outputs": [],
   "source": []
  },
  {
   "cell_type": "code",
   "execution_count": null,
   "metadata": {},
   "outputs": [],
   "source": []
  },
  {
   "cell_type": "code",
   "execution_count": null,
   "metadata": {},
   "outputs": [],
   "source": []
  },
  {
   "cell_type": "code",
   "execution_count": null,
   "metadata": {},
   "outputs": [],
   "source": []
  },
  {
   "cell_type": "code",
   "execution_count": 19,
   "metadata": {},
   "outputs": [
    {
     "name": "stdout",
     "output_type": "stream",
     "text": [
      "\n",
      "Solución encontrada:\n",
      " x = 1.6560000000000015\n",
      " y = 5.806335999999996\n",
      "\n",
      "\n"
     ]
    },
    {
     "data": {
      "image/png": "[encoded data removed]",
      "text/plain": [
       "<Figure size 432x288 with 1 Axes>"
      ]
     },
     "metadata": {
      "needs_background": "light"
     },
     "output_type": "display_data"
    }
   ],
   "source": [
    "learning_rate_constant(x=0.9, mu=0.3, t=6)"
   ]
  },
  {
   "cell_type": "markdown",
   "metadata": {},
   "source": [
    "## Escalado inverso de la tasa de aprendizaje"
   ]
  },
  {
   "cell_type": "markdown",
   "metadata": {},
   "source": [
    "La tasa de aprendizaje disminuye a medida que se avanza hacia el mínimo, con el fin de poder entrar en la región de influencia del mínimo de aguja y encontra el punto óptimo."
   ]
  },
  {
   "cell_type": "markdown",
   "metadata": {},
   "source": [
    "$$\\mu = \\frac{\\mu_0}{t^n}$$"
   ]
  },
  {
   "cell_type": "code",
   "execution_count": 33,
   "metadata": {},
   "outputs": [
    {
     "name": "stdout",
     "output_type": "stream",
     "text": [
      "\n",
      "Solución encontrada:\n",
      " x = 3.3610866482865327\n",
      " y = 1.3038356757080216\n",
      "\n",
      "\n"
     ]
    },
    {
     "data": {
      "image/png": "[encoded data removed]",
      "text/plain": [
       "<Figure size 432x288 with 1 Axes>"
      ]
     },
     "metadata": {
      "needs_background": "light"
     },
     "output_type": "display_data"
    }
   ],
   "source": [
    "def learning_rate_invscaling(x, mu0, t, n):\n",
    "    def improve(x, mu):\n",
    "        return x - mu * grd(x)\n",
    "\n",
    "    history_x = [x]\n",
    "    history_f = [f(x)]\n",
    "    history_g = [mu0 * abs(grd(x))]\n",
    "\n",
    "    for i in range(t):\n",
    "        mu = mu0 / (i + 1) ** n\n",
    "        x = improve(x, mu)\n",
    "        history_x.append(x)\n",
    "        history_f.append(f(x))\n",
    "        history_g.append(mu * abs(grd(x)))\n",
    "\n",
    "    print(\"\\nSolución encontrada:\\n x = {}\\n y = {}\\n\\n\".format(x, f(x)))\n",
    "\n",
    "    # plot_f()\n",
    "    # plt.plot(history_x, history_f, \"-or\", linewidth=2)\n",
    "    # plt.plot(\n",
    "    #     history_x[0], history_f[0], \"o\", color=\"black\", fillstyle=\"none\", markersize=12\n",
    "    # )\n",
    "    # plt.plot(\n",
    "    #     history_x[-1], history_f[-1], \"o\", color=\"red\", fillstyle=\"none\", markersize=12\n",
    "    # )\n",
    "    \n",
    "    plt.plot(\n",
    "        history_g,  color=\"black\", fillstyle=\"none\", markersize=12\n",
    "    )    \n",
    "    plt.show()\n",
    "\n",
    "\n",
    "learning_rate_invscaling(x=0.5, mu0=0.3, t=8, n=0.6)"
   ]
  },
  {
   "cell_type": "markdown",
   "metadata": {},
   "source": [
    "## Estrategia adaptativa"
   ]
  },
  {
   "cell_type": "markdown",
   "metadata": {},
   "source": [
    "En esta estrategia la tasa se mantiene constante durante cierto número de iteraciones. Cuando no se puede mejorar el punto actual, la tasa de aprendizaje es dividida por una constante $k$ y se continua con el proceso de optimización."
   ]
  },
  {
   "cell_type": "code",
   "execution_count": 34,
   "metadata": {},
   "outputs": [
    {
     "data": {
      "image/png": "[encoded data removed]",
      "text/plain": [
       "<Figure size 432x288 with 1 Axes>"
      ]
     },
     "metadata": {
      "needs_background": "light"
     },
     "output_type": "display_data"
    }
   ],
   "source": [
    "def learning_rate_adaptive(x, mu, t, k=5):\n",
    "    def improve(x, mu):\n",
    "        return x - mu * grd(x)\n",
    "\n",
    "    history_x = [x]\n",
    "    history_f = [f(x)]\n",
    "    history_g = [mu * abs(grd(x))]\n",
    "\n",
    "    for i in range(t):\n",
    "        x = improve(x, mu)\n",
    "        if f(x) > history_f[-1]:\n",
    "            mu = mu / k\n",
    "        history_x.append(x)\n",
    "        history_f.append(f(x))\n",
    "        history_g.append(mu * abs(grd(x)))\n",
    "\n",
    "    # print(\"\\nSolución encontrada:\\n x = {}\\n y = {}\\n\\n\".format(x, f(x)))\n",
    "\n",
    "    # plot_f()\n",
    "    # plt.plot(history_x, history_f, \"-or\", linewidth=2)\n",
    "    # plt.plot(\n",
    "    #     history_x[0], history_f[0], \"o\", color=\"black\", fillstyle=\"none\", markersize=12\n",
    "    # )\n",
    "    # plt.plot(\n",
    "    #     history_x[-1], history_f[-1], \"o\", color=\"red\", fillstyle=\"none\", markersize=12\n",
    "    # )\n",
    "    # plt.show()\n",
    "    \n",
    "    plt.plot(\n",
    "        history_g,  color=\"black\", fillstyle=\"none\", markersize=12\n",
    "    )  \n",
    "\n",
    "\n",
    "learning_rate_adaptive(x=0.5, mu=0.8, t=30, k=5)"
   ]
  },
  {
   "cell_type": "markdown",
   "metadata": {},
   "source": [
    "## Estrategia óptima"
   ]
  },
  {
   "cell_type": "markdown",
   "metadata": {},
   "source": [
    "Esta es otra estrategia para disminuir el valor de la tasa de aprendizaje en cada iteración del algoritmo."
   ]
  },
  {
   "cell_type": "markdown",
   "metadata": {},
   "source": [
    "$$\\mu = \\frac{1}{\\alpha(t + t_0)}$$"
   ]
  },
  {
   "cell_type": "markdown",
   "metadata": {},
   "source": [
    "$$t_0 = \\frac{1}{\\alpha \\times \\mu_0}$$"
   ]
  },
  {
   "cell_type": "code",
   "execution_count": 36,
   "metadata": {},
   "outputs": [
    {
     "name": "stdout",
     "output_type": "stream",
     "text": [
      "0.7407407407407408\n",
      "0.6896551724137931\n",
      "0.6451612903225807\n",
      "0.606060606060606\n",
      "0.5714285714285714\n",
      "0.5405405405405405\n",
      "0.5128205128205128\n",
      "0.4878048780487804\n",
      "0.46511627906976744\n",
      "\n",
      "Solución encontrada:\n",
      " x = 6.011727419273252\n",
      " y = 13.070502048002323\n",
      "\n",
      "\n"
     ]
    },
    {
     "data": {
      "image/png": "[encoded data removed]",
      "text/plain": [
       "<Figure size 432x288 with 1 Axes>"
      ]
     },
     "metadata": {
      "needs_background": "light"
     },
     "output_type": "display_data"
    }
   ],
   "source": [
    "def learning_rate_optimal(x, mu0, t, alpha=0.001):\n",
    "    def improve(x, mu):\n",
    "        return x - mu * grd(x)\n",
    "\n",
    "    history_x = [x]\n",
    "    history_f = [f(x)]\n",
    "    history_g = [mu0 * abs(grd(x))]\n",
    "\n",
    "    t0 = 1 / (alpha * mu0)\n",
    "\n",
    "    for i in range(t):\n",
    "        mu = 1 / (alpha * ((i + 1) + t0))\n",
    "        x = improve(x, mu)\n",
    "        print(mu)\n",
    "        history_x.append(x)\n",
    "        history_f.append(f(x))\n",
    "        history_g.append(mu * abs(grd(x)))\n",
    "\n",
    "    print(\"\\nSolución encontrada:\\n x = {}\\n y = {}\\n\\n\".format(x, f(x)))\n",
    "\n",
    "    # plot_f()\n",
    "    # plt.plot(history_x, history_f, \"-or\", linewidth=2)\n",
    "    # plt.plot(\n",
    "    #     history_x[0], history_f[0], \"o\", color=\"black\", fillstyle=\"none\", markersize=12\n",
    "    # )\n",
    "    # plt.plot(\n",
    "    #     history_x[-1], history_f[-1], \"o\", color=\"red\", fillstyle=\"none\", markersize=12\n",
    "    # )\n",
    "    # plt.show()\n",
    "\n",
    "    plt.plot(\n",
    "        history_g,  color=\"black\", fillstyle=\"none\", markersize=12\n",
    "    )\n",
    "    \n",
    "    \n",
    "learning_rate_optimal(x=0.5, mu0=0.8, t=9, alpha=0.1)"
   ]
  },
  {
   "cell_type": "code",
   "execution_count": null,
   "metadata": {},
   "outputs": [],
   "source": []
  },
  {
   "cell_type": "code",
   "execution_count": null,
   "metadata": {},
   "outputs": [],
   "source": []
  },
  {
   "cell_type": "code",
   "execution_count": null,
   "metadata": {},
   "outputs": [],
   "source": []
  },
  {
   "cell_type": "code",
   "execution_count": 10,
   "metadata": {},
   "outputs": [],
   "source": [
    "import numpy as np\n",
    "import pandas as pd\n",
    "\n",
    "X_train = np.random.random((1000, 3))\n",
    "y_train = pd.get_dummies(np.argmax(X_train[:, :3], axis=1)).values\n",
    "X_test = np.random.random((100, 3))\n",
    "y_test = pd.get_dummies(np.argmax(X_test[:, :3], axis=1)).values"
   ]
  },
  {
   "cell_type": "code",
   "execution_count": 11,
   "metadata": {},
   "outputs": [
    {
     "data": {
      "text/plain": [
       "array([[0, 1, 0],\n",
       "       [0, 1, 0],\n",
       "       [0, 1, 0],\n",
       "       ...,\n",
       "       [0, 1, 0],\n",
       "       [0, 0, 1],\n",
       "       [0, 1, 0]], dtype=uint8)"
      ]
     },
     "execution_count": 11,
     "metadata": {},
     "output_type": "execute_result"
    }
   ],
   "source": [
    "y_train"
   ]
  },
  {
   "cell_type": "code",
   "execution_count": null,
   "metadata": {},
   "outputs": [],
   "source": []
  }
 ],
 "metadata": {
  "kernelspec": {
   "display_name": "Python 3",
   "language": "python",
   "name": "python3"
  },
  "language_info": {
   "codemirror_mode": {
    "name": "ipython",
    "version": 3
   },
   "file_extension": ".py",
   "mimetype": "text/x-python",
   "name": "python",
   "nbconvert_exporter": "python",
   "pygments_lexer": "ipython3",
   "version": "3.6.9"
  }
 },
 "nbformat": 4,
 "nbformat_minor": 4
}
