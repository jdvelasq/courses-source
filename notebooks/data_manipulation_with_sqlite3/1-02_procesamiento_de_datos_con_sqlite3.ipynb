{
 "cells": [
  {
   "cell_type": "markdown",
   "metadata": {},
   "source": [
    "Procesamiento de datos con SQLite3 --- 12:13 min\n",
    "===\n",
    "\n",
    "* 12:13 min | Última modificación: Octubre 14, 2021 | [YouTube](https://youtu.be/8LvpTsN_h1U)"
   ]
  },
  {
   "cell_type": "markdown",
   "metadata": {},
   "source": [
    "Este tutorial esta basado en https://es.hortonworks.com/tutorial/how-to-process-data-with-apache-hive/\n",
    "\n",
    "El objetivo de este tutorial es implemetar consultas en SQLite3 para analizar, procesar y filtrar datos usando lenguaje SQL estándar.\n"
   ]
  },
  {
   "cell_type": "markdown",
   "metadata": {},
   "source": [
    "Fuentes de datos\n",
    "---"
   ]
  },
  {
   "cell_type": "markdown",
   "metadata": {},
   "source": [
    "Los archivos usados en este tutorial se encuentran almacenados en la carpeta actual"
   ]
  },
  {
   "cell_type": "code",
   "execution_count": 1,
   "metadata": {},
   "outputs": [
    {
     "name": "stdout",
     "output_type": "stream",
     "text": [
      "/tmp/bonus.csv\n",
      "/tmp/clients.csv\n",
      "/tmp/clients_a.csv\n",
      "/tmp/clients_b.csv\n",
      "/tmp/data.csv\n",
      "/tmp/data_1.csv\n",
      "/tmp/data_2.csv\n",
      "/tmp/dataset_1.csv\n",
      "/tmp/dataset_2.csv\n",
      "/tmp/drivers.csv\n",
      "/tmp/lines.csv\n",
      "/tmp/sales.csv\n",
      "/tmp/specific-columns.csv\n",
      "/tmp/summary.csv\n",
      "/tmp/timesheet.csv\n",
      "/tmp/truck_event_text_partition.csv\n"
     ]
    }
   ],
   "source": [
    "filenames = [\n",
    "    \"drivers.csv\",\n",
    "    \"timesheet.csv\",\n",
    "    \"truck_event_text_partition.csv\",\n",
    "]\n",
    "\n",
    "url = \"https://raw.githubusercontent.com/jdvelasq/datalabs/master/datasets/drivers/\"\n",
    "\n",
    "for filename in filenames:\n",
    "    !wget --quiet {url + filename} -P /tmp/\n",
    "\n",
    "!ls -1 /tmp/*.csv"
   ]
  },
  {
   "cell_type": "markdown",
   "metadata": {},
   "source": [
    "Preparación\n",
    "---"
   ]
  },
  {
   "cell_type": "code",
   "execution_count": 2,
   "metadata": {},
   "outputs": [],
   "source": [
    "#\n",
    "# Apertura de la conexión\n",
    "#\n",
    "import sqlite3\n",
    "\n",
    "conn = sqlite3.connect(\":memory:\")  ## aca se indica el nombre de la db.\n",
    "cur = conn.cursor()"
   ]
  },
  {
   "cell_type": "markdown",
   "metadata": {},
   "source": [
    "El contenido de un archivo puede ser visualizado parcialmente usando el comando `tail`. Se usa para realizar una inspección rápida del contenido de los archivos."
   ]
  },
  {
   "cell_type": "code",
   "execution_count": 3,
   "metadata": {},
   "outputs": [
    {
     "name": "stdout",
     "output_type": "stream",
     "text": [
      "39,David Kaiser,967706052,9185 At Street,Y,hours\n",
      "40,Nicolas Maillard,208510217,1027 Quis Rd.,Y,hours\n",
      "41,Greg Phillips,308103116,P.O. Box 847- 5961 Arcu. Road,Y,hours\n",
      "42,Randy Gelhausen,853302254,145-4200 In- Avenue,Y,hours\n",
      "43,Dave Patton,977706052,3028 A- St.,Y,hours"
     ]
    }
   ],
   "source": [
    "#\n",
    "# Se imprime el final del archivo drivers\n",
    "#\n",
    "!tail -n 5 /tmp/drivers.csv"
   ]
  },
  {
   "cell_type": "code",
   "execution_count": 4,
   "metadata": {},
   "outputs": [
    {
     "name": "stdout",
     "output_type": "stream",
     "text": [
      "43,48,52,2517\n",
      "43,49,56,2743\n",
      "43,50,59,2665\n",
      "43,51,58,2593\n",
      "43,52,48,2764"
     ]
    }
   ],
   "source": [
    "!tail -n 5 /tmp/timesheet.csv"
   ]
  },
  {
   "cell_type": "markdown",
   "metadata": {},
   "source": [
    "Creación y carga de datos de datos para la tabla `drivers` usando pandas\n",
    "---"
   ]
  },
  {
   "cell_type": "markdown",
   "metadata": {},
   "source": [
    "En el siguiente código, los datos son cargados con pandas, para luego crear la tabla de la base de datos a partir del DataFrame. Note que no hay que crear la tabla primero en la base de datos, sino que pandas la crea directamente."
   ]
  },
  {
   "cell_type": "code",
   "execution_count": 5,
   "metadata": {},
   "outputs": [],
   "source": [
    "import pandas as pd\n",
    "\n",
    "drivers = pd.read_csv(\n",
    "    \"/tmp/drivers.csv\",\n",
    "    sep=\",\",\n",
    "    thousands=None,\n",
    "    decimal=\".\",\n",
    "    encoding=\"latin-1\",\n",
    ")\n",
    "\n",
    "drivers.columns = [col.replace('-', '_') for col in drivers.columns]\n",
    "\n",
    "drivers.to_sql(\n",
    "    name=\"drivers\",\n",
    "    con=conn,\n",
    "    if_exists=\"replace\",  # {‘fail’, ‘replace’, ‘append’}\n",
    ")"
   ]
  },
  {
   "cell_type": "markdown",
   "metadata": {},
   "source": [
    "Se obtiene el primer registro de la tabla para realizar una inspección rápida de los datos y verificar que los datos fueron cargados correctamente."
   ]
  },
  {
   "cell_type": "code",
   "execution_count": 6,
   "metadata": {},
   "outputs": [
    {
     "data": {
      "text/html": [
       "<div>\n",
       "<style scoped>\n",
       "    .dataframe tbody tr th:only-of-type {\n",
       "        vertical-align: middle;\n",
       "    }\n",
       "\n",
       "    .dataframe tbody tr th {\n",
       "        vertical-align: top;\n",
       "    }\n",
       "\n",
       "    .dataframe thead th {\n",
       "        text-align: right;\n",
       "    }\n",
       "</style>\n",
       "<table border=\"1\" class=\"dataframe\">\n",
       "  <thead>\n",
       "    <tr style=\"text-align: right;\">\n",
       "      <th></th>\n",
       "      <th>driverId</th>\n",
       "      <th>name</th>\n",
       "      <th>ssn</th>\n",
       "      <th>location</th>\n",
       "      <th>certified</th>\n",
       "      <th>wage_plan</th>\n",
       "    </tr>\n",
       "  </thead>\n",
       "  <tbody>\n",
       "    <tr>\n",
       "      <th>0</th>\n",
       "      <td>10</td>\n",
       "      <td>George Vetticaden</td>\n",
       "      <td>621011971</td>\n",
       "      <td>244-4532 Nulla Rd.</td>\n",
       "      <td>N</td>\n",
       "      <td>miles</td>\n",
       "    </tr>\n",
       "  </tbody>\n",
       "</table>\n",
       "</div>"
      ],
      "text/plain": [
       "   driverId               name        ssn            location certified  \\\n",
       "0        10  George Vetticaden  621011971  244-4532 Nulla Rd.         N   \n",
       "\n",
       "  wage_plan  \n",
       "0     miles  "
      ]
     },
     "execution_count": 6,
     "metadata": {},
     "output_type": "execute_result"
    }
   ],
   "source": [
    "drivers[0:1]"
   ]
  },
  {
   "cell_type": "code",
   "execution_count": 7,
   "metadata": {},
   "outputs": [
    {
     "data": {
      "text/plain": [
       "[(0, 10, 'George Vetticaden', 621011971, '244-4532 Nulla Rd.', 'N', 'miles')]"
      ]
     },
     "execution_count": 7,
     "metadata": {},
     "output_type": "execute_result"
    }
   ],
   "source": [
    "cur.execute(\"SELECT * FROM drivers LIMIT 1;\").fetchall()"
   ]
  },
  {
   "cell_type": "markdown",
   "metadata": {},
   "source": [
    "Creación y carga de datos de la tabla `timesheet`\n",
    "---"
   ]
  },
  {
   "cell_type": "markdown",
   "metadata": {},
   "source": [
    "Se procede a cargar los datos para el archivo `time_sheet`."
   ]
  },
  {
   "cell_type": "code",
   "execution_count": 8,
   "metadata": {},
   "outputs": [],
   "source": [
    "timesheet = pd.read_csv(\n",
    "    \"/tmp/timesheet.csv\", sep=\",\", thousands=None, decimal=\".\", encoding=\"latin-1\"\n",
    ")\n",
    "\n",
    "timesheet.columns = [col.replace('-', '_') for col in timesheet.columns]\n",
    "\n",
    "timesheet.to_sql(name=\"timesheet\", con=conn, if_exists=\"replace\")"
   ]
  },
  {
   "cell_type": "code",
   "execution_count": 9,
   "metadata": {},
   "outputs": [
    {
     "data": {
      "text/html": [
       "<div>\n",
       "<style scoped>\n",
       "    .dataframe tbody tr th:only-of-type {\n",
       "        vertical-align: middle;\n",
       "    }\n",
       "\n",
       "    .dataframe tbody tr th {\n",
       "        vertical-align: top;\n",
       "    }\n",
       "\n",
       "    .dataframe thead th {\n",
       "        text-align: right;\n",
       "    }\n",
       "</style>\n",
       "<table border=\"1\" class=\"dataframe\">\n",
       "  <thead>\n",
       "    <tr style=\"text-align: right;\">\n",
       "      <th></th>\n",
       "      <th>driverId</th>\n",
       "      <th>week</th>\n",
       "      <th>hours_logged</th>\n",
       "      <th>miles_logged</th>\n",
       "    </tr>\n",
       "  </thead>\n",
       "  <tbody>\n",
       "    <tr>\n",
       "      <th>0</th>\n",
       "      <td>10</td>\n",
       "      <td>1</td>\n",
       "      <td>70</td>\n",
       "      <td>3300</td>\n",
       "    </tr>\n",
       "  </tbody>\n",
       "</table>\n",
       "</div>"
      ],
      "text/plain": [
       "   driverId  week  hours_logged  miles_logged\n",
       "0        10     1            70          3300"
      ]
     },
     "execution_count": 9,
     "metadata": {},
     "output_type": "execute_result"
    }
   ],
   "source": [
    "timesheet[0:1]"
   ]
  },
  {
   "cell_type": "code",
   "execution_count": 10,
   "metadata": {},
   "outputs": [
    {
     "data": {
      "text/plain": [
       "[(10, 1, 70, 3300)]"
      ]
     },
     "execution_count": 10,
     "metadata": {},
     "output_type": "execute_result"
    }
   ],
   "source": [
    "cur.execute(\n",
    "    \"SELECT driverId, week, hours_logged, miles_logged  FROM timesheet LIMIT 1;\"\n",
    ").fetchall()"
   ]
  },
  {
   "cell_type": "markdown",
   "metadata": {},
   "source": [
    "Cantidad de horas y millas de cada conductor por año.\n",
    "----\n",
    "\n",
    "En la siguiente consulta se desea obtener para cada conductor la cantidad de horas y millas por año."
   ]
  },
  {
   "cell_type": "code",
   "execution_count": 11,
   "metadata": {},
   "outputs": [
    {
     "data": {
      "text/plain": [
       "[(10, 3232, 147150),\n",
       " (11, 3642, 179300),\n",
       " (12, 2639, 135962),\n",
       " (13, 2727, 134126),\n",
       " (14, 2781, 136624),\n",
       " (15, 2734, 138750),\n",
       " (16, 2746, 137205),\n",
       " (17, 2701, 135992),\n",
       " (18, 2654, 137834),\n",
       " (19, 2738, 137968),\n",
       " (20, 2644, 134564),\n",
       " (21, 2751, 138719),\n",
       " (22, 2733, 137550),\n",
       " (23, 2750, 137980),\n",
       " (24, 2647, 134461),\n",
       " (25, 2723, 139180),\n",
       " (26, 2730, 137530),\n",
       " (27, 2771, 137922),\n",
       " (28, 2723, 137469),\n",
       " (29, 2760, 138255),\n",
       " (30, 2773, 137473),\n",
       " (31, 2704, 137057),\n",
       " (32, 2736, 137422),\n",
       " (33, 2759, 139285),\n",
       " (34, 2811, 137728),\n",
       " (35, 2728, 138727),\n",
       " (36, 2795, 138025),\n",
       " (37, 2694, 137223),\n",
       " (38, 2760, 137464),\n",
       " (39, 2745, 138788),\n",
       " (40, 2700, 136931),\n",
       " (41, 2723, 138407),\n",
       " (42, 2697, 136673),\n",
       " (43, 2750, 136993)]"
      ]
     },
     "execution_count": 11,
     "metadata": {},
     "output_type": "execute_result"
    }
   ],
   "source": [
    "cur.execute(\n",
    "    \"\"\"\n",
    "SELECT \n",
    "    driverId, \n",
    "    sum(hours_logged), \n",
    "    sum(miles_logged) \n",
    "FROM \n",
    "    timesheet \n",
    "GROUP BY \n",
    "    driverId;\n",
    "\"\"\"\n",
    ").fetchall()"
   ]
  },
  {
   "cell_type": "markdown",
   "metadata": {},
   "source": [
    "Subconsultas\n",
    "---"
   ]
  },
  {
   "cell_type": "code",
   "execution_count": 12,
   "metadata": {},
   "outputs": [
    {
     "data": {
      "text/plain": [
       "[(0, 10, 1, 70, 3300),\n",
       " (1, 10, 2, 70, 3300),\n",
       " (2, 10, 3, 60, 2800),\n",
       " (3, 10, 4, 70, 3100),\n",
       " (4, 10, 5, 70, 3200),\n",
       " (5, 10, 6, 70, 3300),\n",
       " (6, 10, 7, 70, 3000),\n",
       " (7, 10, 8, 70, 3300),\n",
       " (8, 10, 9, 70, 3200),\n",
       " (9, 10, 10, 50, 2500),\n",
       " (10, 10, 11, 70, 2900),\n",
       " (11, 10, 12, 70, 3100),\n",
       " (12, 10, 13, 70, 3300),\n",
       " (13, 10, 14, 70, 3300),\n",
       " (14, 10, 15, 70, 3300),\n",
       " (15, 10, 16, 70, 3400),\n",
       " (16, 10, 17, 70, 3300),\n",
       " (17, 10, 18, 70, 3300),\n",
       " (18, 10, 19, 70, 3300),\n",
       " (19, 10, 20, 30, 1200),\n",
       " (20, 10, 21, 50, 2500),\n",
       " (21, 10, 22, 70, 3300),\n",
       " (22, 10, 23, 70, 3300),\n",
       " (23, 10, 24, 70, 3300),\n",
       " (24, 10, 25, 70, 3300),\n",
       " (25, 10, 26, 60, 2600),\n",
       " (26, 10, 27, 66, 2700),\n",
       " (27, 10, 28, 33, 1200),\n",
       " (28, 10, 29, 70, 3300),\n",
       " (29, 10, 30, 70, 3300),\n",
       " (30, 10, 31, 72, 3100),\n",
       " (31, 10, 32, 70, 3200),\n",
       " (32, 10, 33, 70, 3300),\n",
       " (33, 10, 34, 70, 3300),\n",
       " (34, 10, 35, 0, 0),\n",
       " (35, 10, 36, 19, 1000),\n",
       " (36, 10, 37, 65, 2700),\n",
       " (37, 10, 38, 70, 3300),\n",
       " (38, 10, 39, 70, 3300),\n",
       " (39, 10, 40, 70, 3100),\n",
       " (40, 10, 41, 70, 3300),\n",
       " (41, 10, 42, 70, 3100),\n",
       " (42, 10, 43, 70, 3300),\n",
       " (43, 10, 44, 70, 3300),\n",
       " (44, 10, 45, 65, 2700),\n",
       " (45, 10, 46, 57, 2300),\n",
       " (46, 10, 47, 74, 3400),\n",
       " (47, 10, 48, 76, 3400),\n",
       " (48, 10, 49, 68, 2800),\n",
       " (49, 10, 50, 72, 2900),\n",
       " (50, 10, 51, 5, 150),\n",
       " (51, 10, 52, 0, 0)]"
      ]
     },
     "execution_count": 12,
     "metadata": {},
     "output_type": "execute_result"
    }
   ],
   "source": [
    "#\n",
    "# Selecciona todos los registros de la tabla timesheet\n",
    "# que tienen el driverId igual al menor driverId de la\n",
    "# tabla drivers.\n",
    "#\n",
    "cur.execute(\n",
    "    \"\"\"\n",
    "SELECT \n",
    "    *\n",
    "FROM\n",
    "    timesheet\n",
    "WHERE\n",
    "    driverId = (SELECT min(driverId) FROM drivers);\n",
    "\"\"\"\n",
    ").fetchall()"
   ]
  },
  {
   "cell_type": "markdown",
   "metadata": {},
   "source": [
    "Consulta para unir las tablas\n",
    "---"
   ]
  },
  {
   "cell_type": "markdown",
   "metadata": {},
   "source": [
    "El paso final consiste en crear una consulta que agregue el nombre del conductor de la tabla `drivers` con la cantidad de horas y millas por año."
   ]
  },
  {
   "cell_type": "code",
   "execution_count": 13,
   "metadata": {},
   "outputs": [
    {
     "data": {
      "text/plain": [
       "[(10, 'George Vetticaden', 3232, 147150),\n",
       " (11, 'Jamie Engesser', 3642, 179300),\n",
       " (12, 'Paul Coddin', 2639, 135962),\n",
       " (13, 'Joe Niemiec', 2727, 134126),\n",
       " (14, 'Adis Cesir', 2781, 136624),\n",
       " (15, 'Rohit Bakshi', 2734, 138750),\n",
       " (16, 'Tom McCuch', 2746, 137205),\n",
       " (17, 'Eric Mizell', 2701, 135992),\n",
       " (18, 'Grant Liu', 2654, 137834),\n",
       " (19, 'Ajay Singh', 2738, 137968),\n",
       " (20, 'Chris Harris', 2644, 134564),\n",
       " (21, 'Jeff Markham', 2751, 138719),\n",
       " (22, 'Nadeem Asghar', 2733, 137550),\n",
       " (23, 'Adam Diaz', 2750, 137980),\n",
       " (24, 'Don Hilborn', 2647, 134461),\n",
       " (25, 'Jean-Philippe Playe', 2723, 139180),\n",
       " (26, 'Michael Aube', 2730, 137530),\n",
       " (27, 'Mark Lochbihler', 2771, 137922),\n",
       " (28, 'Olivier Renault', 2723, 137469),\n",
       " (29, 'Teddy Choi', 2760, 138255),\n",
       " (30, 'Dan Rice', 2773, 137473),\n",
       " (31, 'Rommel Garcia', 2704, 137057),\n",
       " (32, 'Ryan Templeton', 2736, 137422),\n",
       " (33, 'Sridhara Sabbella', 2759, 139285),\n",
       " (34, 'Frank Romano', 2811, 137728),\n",
       " (35, 'Emil Siemes', 2728, 138727),\n",
       " (36, 'Andrew Grande', 2795, 138025),\n",
       " (37, 'Wes Floyd', 2694, 137223),\n",
       " (38, 'Scott Shaw', 2760, 137464),\n",
       " (39, 'David Kaiser', 2745, 138788),\n",
       " (40, 'Nicolas Maillard', 2700, 136931),\n",
       " (41, 'Greg Phillips', 2723, 138407),\n",
       " (42, 'Randy Gelhausen', 2697, 136673),\n",
       " (43, 'Dave Patton', 2750, 136993)]"
      ]
     },
     "execution_count": 13,
     "metadata": {},
     "output_type": "execute_result"
    }
   ],
   "source": [
    "cur.execute(\n",
    "    \"\"\"\n",
    "SELECT \n",
    "    d.driverId, \n",
    "    d.name, \n",
    "    t.total_hours, \n",
    "    t.total_miles \n",
    "FROM \n",
    "    drivers d\n",
    "JOIN (\n",
    "    SELECT \n",
    "        driverId, \n",
    "        sum(hours_logged)total_hours, \n",
    "        sum(miles_logged)total_miles \n",
    "    FROM \n",
    "        timesheet \n",
    "    GROUP BY \n",
    "        driverId \n",
    "    ) t\n",
    "ON \n",
    "    (d.driverId = t.driverId);\n",
    "\"\"\"\n",
    ").fetchall()"
   ]
  },
  {
   "cell_type": "code",
   "execution_count": 14,
   "metadata": {},
   "outputs": [
    {
     "data": {
      "text/plain": [
       "[(11, 'Jamie Engesser', 3642, 179300)]"
      ]
     },
     "execution_count": 14,
     "metadata": {},
     "output_type": "execute_result"
    }
   ],
   "source": [
    "#\n",
    "# Conductor con más horas registradas\n",
    "#\n",
    "cur.execute(\n",
    "    \"\"\"\n",
    "SELECT \n",
    "    d.driverId, \n",
    "    d.name, \n",
    "    t.total_hours, \n",
    "    t.total_miles \n",
    "FROM \n",
    "    drivers d\n",
    "JOIN (\n",
    "    SELECT \n",
    "        driverId, \n",
    "        sum(hours_logged)total_hours, \n",
    "        sum(miles_logged)total_miles \n",
    "    FROM \n",
    "        timesheet \n",
    "    GROUP BY \n",
    "        driverId \n",
    "    ) t\n",
    "ON \n",
    "    (d.driverId = t.driverId)\n",
    "ORDER BY\n",
    "    t.total_hours DESC\n",
    "LIMIT 1;\n",
    "\"\"\"\n",
    ").fetchall()"
   ]
  },
  {
   "cell_type": "markdown",
   "metadata": {},
   "source": [
    "Creación de un DataFrame usando una consulta\n",
    "---"
   ]
  },
  {
   "cell_type": "code",
   "execution_count": 15,
   "metadata": {},
   "outputs": [
    {
     "data": {
      "image/png": "[encoded data removed]",
      "text/plain": [
       "<Figure size 432x288 with 1 Axes>"
      ]
     },
     "metadata": {
      "needs_background": "light"
     },
     "output_type": "display_data"
    }
   ],
   "source": [
    "df = pd.read_sql(\n",
    "    \"\"\"\n",
    "SELECT \n",
    "    d.driverId, \n",
    "    d.name, \n",
    "    t.total_hours, \n",
    "    t.total_miles \n",
    "FROM \n",
    "    drivers d\n",
    "JOIN (\n",
    "    SELECT \n",
    "        driverId, \n",
    "        sum(hours_logged) total_hours, \n",
    "        sum(miles_logged) total_miles \n",
    "    FROM \n",
    "        timesheet \n",
    "    GROUP BY \n",
    "        driverId \n",
    "    ) t\n",
    "ON \n",
    "    (d.driverId = t.driverId);\n",
    "\"\"\",\n",
    "    con=conn,\n",
    ")\n",
    "\n",
    "import matplotlib as mpl\n",
    "import matplotlib.pyplot as plt\n",
    "\n",
    "df.plot.bar(x=\"name\", y=\"total_hours\");"
   ]
  },
  {
   "cell_type": "markdown",
   "metadata": {},
   "source": [
    "Almacenamiento de los resultados\n",
    "---"
   ]
  },
  {
   "cell_type": "markdown",
   "metadata": {},
   "source": [
    "Los resultados de la consulta son cargados directamente a variable `summary` c como una lista de tuplas. El contenido de la variable es transformado para escribir un archivo de texto en formato CSV que pueda ser consultado por otras aplicaciones."
   ]
  },
  {
   "cell_type": "code",
   "execution_count": 16,
   "metadata": {},
   "outputs": [
    {
     "data": {
      "text/plain": [
       "960"
      ]
     },
     "execution_count": 16,
     "metadata": {},
     "output_type": "execute_result"
    }
   ],
   "source": [
    "summary = cur.execute(\n",
    "    \"\"\"\n",
    "SELECT \n",
    "    d.driverId, \n",
    "    d.name, \n",
    "    t.total_hours, \n",
    "    t.total_miles \n",
    "FROM \n",
    "    drivers d\n",
    "JOIN (\n",
    "    SELECT \n",
    "        driverId, \n",
    "        sum(hours_logged) total_hours, \n",
    "        sum(miles_logged) total_miles \n",
    "    FROM \n",
    "        timesheet \n",
    "    GROUP BY \n",
    "        driverId \n",
    "    ) t\n",
    "ON \n",
    "    (d.driverId = t.driverId)\n",
    "ORDER BY\n",
    "    d.name;\n",
    "\"\"\"\n",
    ").fetchall()\n",
    "\n",
    "text = [[str(e) for e in row] for row in summary]\n",
    "text = [\",\".join(row) for row in text]\n",
    "text = \"\\n\".join(text)\n",
    "open(\"/tmp/summary.csv\", \"wt\").write(text)"
   ]
  },
  {
   "cell_type": "code",
   "execution_count": 17,
   "metadata": {},
   "outputs": [
    {
     "name": "stdout",
     "output_type": "stream",
     "text": [
      "23,Adam Diaz,2750,137980\n",
      "14,Adis Cesir,2781,136624\n",
      "19,Ajay Singh,2738,137968\n",
      "36,Andrew Grande,2795,138025\n",
      "20,Chris Harris,2644,134564\n",
      "30,Dan Rice,2773,137473\n",
      "43,Dave Patton,2750,136993\n",
      "39,David Kaiser,2745,138788\n",
      "24,Don Hilborn,2647,134461\n",
      "35,Emil Siemes,2728,138727\n"
     ]
    }
   ],
   "source": [
    "!head /tmp/summary.csv"
   ]
  }
 ],
 "metadata": {
  "kernelspec": {
   "display_name": "Python 3",
   "language": "python",
   "name": "python3"
  },
  "language_info": {
   "codemirror_mode": {
    "name": "ipython",
    "version": 3
   },
   "file_extension": ".py",
   "mimetype": "text/x-python",
   "name": "python",
   "nbconvert_exporter": "python",
   "pygments_lexer": "ipython3",
   "version": "3.6.9"
  }
 },
 "nbformat": 4,
 "nbformat_minor": 4
}
