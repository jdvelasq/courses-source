{
 "cells": [
  {
   "cell_type": "markdown",
   "id": "8e095802-b317-43c4-afd3-84d9de80fbc6",
   "metadata": {
    "tags": []
   },
   "source": [
    "Archivos .ini\n",
    "===\n",
    "\n",
    "* Ultima modificación: Mayo 14, 2022"
   ]
  },
  {
   "cell_type": "markdown",
   "id": "c4eadef9-b0df-47e7-acfc-7fef847e42ea",
   "metadata": {},
   "source": [
    "Escritura\n",
    "---"
   ]
  },
  {
   "cell_type": "code",
   "execution_count": 1,
   "id": "596f33ea-3b06-4c80-9c45-5c983b1f94e7",
   "metadata": {},
   "outputs": [],
   "source": [
    "import configparser\n",
    "\n",
    "config = configparser.ConfigParser()\n",
    "\n",
    "config[\"as_dict\"] = {\n",
    "    \"host\": \"localhost\",\n",
    "    \"port\": \"8082\",\n",
    "}\n",
    "\n",
    "config['as_list'] = {}\n",
    "config[\"as_list\"][\"0\"] = \"value 0\"\n",
    "config[\"as_list\"][\"1\"] = \"value 1\"\n",
    "config[\"as_list\"][\"2\"] = \"value 2\"\n",
    "\n",
    "config[\"DEFAULT\"] = {\n",
    "    \"as_integer\": 100,\n",
    "    \"as_float\": 1.0,\n",
    "}\n",
    "\n",
    "with open('config.ini', 'w') as out_file:\n",
    "    config.write(out_file)\n"
   ]
  },
  {
   "cell_type": "code",
   "execution_count": 2,
   "id": "59e2f1de-c068-497c-9fb5-2b13488d7d1f",
   "metadata": {},
   "outputs": [
    {
     "name": "stdout",
     "output_type": "stream",
     "text": [
      "[DEFAULT]\n",
      "as_integer = 100\n",
      "as_float = 1.0\n",
      "\n",
      "[as_dict]\n",
      "host = localhost\n",
      "port = 8082\n",
      "\n",
      "[as_list]\n",
      "0 = value 0\n",
      "1 = value 1\n",
      "2 = value 2\n",
      "\n"
     ]
    }
   ],
   "source": [
    "!cat config.ini"
   ]
  },
  {
   "cell_type": "markdown",
   "id": "55f62546-1422-4c5b-a3b2-b7a0545d226d",
   "metadata": {},
   "source": [
    "Lectura\n",
    "--"
   ]
  },
  {
   "cell_type": "code",
   "execution_count": 3,
   "id": "4b48a93b-aea6-40e0-ad85-c1a5689c559c",
   "metadata": {},
   "outputs": [
    {
     "data": {
      "text/plain": [
       "['as_dict', 'as_list']"
      ]
     },
     "execution_count": 3,
     "metadata": {},
     "output_type": "execute_result"
    }
   ],
   "source": [
    "new_config = configparser.ConfigParser()\n",
    "new_config.read('config.ini')\n",
    "\n",
    "config.sections()"
   ]
  },
  {
   "cell_type": "code",
   "execution_count": 4,
   "id": "22038c25-49c9-42a4-a3c0-5e7ed7c0b768",
   "metadata": {},
   "outputs": [
    {
     "name": "stdout",
     "output_type": "stream",
     "text": [
      "as_integer 100\n",
      "as_float 1.0\n"
     ]
    }
   ],
   "source": [
    "for key in config['DEFAULT']:\n",
    "    print(key, config['DEFAULT'][key])"
   ]
  },
  {
   "cell_type": "code",
   "execution_count": 5,
   "id": "3c2fc0c6-7900-40ea-9d68-bde64465e586",
   "metadata": {},
   "outputs": [
    {
     "name": "stdout",
     "output_type": "stream",
     "text": [
      "host localhost\n",
      "port 8082\n",
      "as_integer 100\n",
      "as_float 1.0\n",
      "\n",
      "0 value 0\n",
      "1 value 1\n",
      "2 value 2\n",
      "as_integer 100\n",
      "as_float 1.0\n",
      "\n"
     ]
    }
   ],
   "source": [
    "for section in config.sections():\n",
    "    for key in config[section]:\n",
    "        print(key, config[section][key])\n",
    "    print()"
   ]
  },
  {
   "cell_type": "code",
   "execution_count": 6,
   "id": "9c82615a-2a59-4967-b032-6e113324f5eb",
   "metadata": {},
   "outputs": [],
   "source": [
    "!rm config.ini"
   ]
  }
 ],
 "metadata": {
  "kernelspec": {
   "display_name": "Python 3 (ipykernel)",
   "language": "python",
   "name": "python3"
  },
  "language_info": {
   "codemirror_mode": {
    "name": "ipython",
    "version": 3
   },
   "file_extension": ".py",
   "mimetype": "text/x-python",
   "name": "python",
   "nbconvert_exporter": "python",
   "pygments_lexer": "ipython3",
   "version": "3.8.10"
  }
 },
 "nbformat": 4,
 "nbformat_minor": 5
}
