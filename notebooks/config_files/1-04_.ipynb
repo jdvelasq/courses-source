{
 "cells": [
  {
   "cell_type": "markdown",
   "id": "994a10ff-af40-4b5a-aba9-c3fb46124498",
   "metadata": {
    "tags": []
   },
   "source": [
    "Archivos .yaml o .yml\n",
    "===\n",
    "\n",
    "* Ultima modificación: Mayo 14, 2022"
   ]
  },
  {
   "cell_type": "markdown",
   "id": "f58c50a9-48ca-46ac-9aa1-287f246294f9",
   "metadata": {},
   "source": [
    "Parámetros\n",
    "--"
   ]
  },
  {
   "cell_type": "code",
   "execution_count": 1,
   "id": "8331c3e1-bd8b-43a4-b596-4e7116cc6304",
   "metadata": {},
   "outputs": [
    {
     "data": {
      "text/plain": [
       "{'as_dict': {'host': 'localhost', 'port': 8082},\n",
       " 'as_list': ['value 0', 'value 1', 'value 2'],\n",
       " 'as_integer': 100,\n",
       " 'as_float': 1.0}"
      ]
     },
     "execution_count": 1,
     "metadata": {},
     "output_type": "execute_result"
    }
   ],
   "source": [
    "#\n",
    "# Se almacenan como diccionarios\n",
    "#\n",
    "params = {\n",
    "    \"as_dict\": {\n",
    "        \"host\": \"localhost\",\n",
    "        \"port\": 8082,\n",
    "    },\n",
    "    \"as_list\": [\n",
    "        \"value 0\",\n",
    "        \"value 1\",\n",
    "        \"value 2\",\n",
    "    ],\n",
    "    \"as_integer\": 100,\n",
    "    \"as_float\": 1.0,\n",
    "}\n",
    "\n",
    "params"
   ]
  },
  {
   "cell_type": "markdown",
   "id": "60602455-bdf0-466a-bbd7-6b1d2ec945e0",
   "metadata": {},
   "source": [
    "Escritura\n",
    "---"
   ]
  },
  {
   "cell_type": "code",
   "execution_count": 2,
   "id": "cddccf99-91b5-4c1b-97e2-fd7ba31f47a4",
   "metadata": {},
   "outputs": [],
   "source": [
    "import yaml\n",
    "\n",
    "with open(\"config.yaml\", \"w\") as out_file:\n",
    "    yaml.dump(\n",
    "        params,\n",
    "        stream=out_file,\n",
    "        indent=4,\n",
    "    )"
   ]
  },
  {
   "cell_type": "code",
   "execution_count": 3,
   "id": "82890431-052a-458a-a849-ec3f6a599684",
   "metadata": {},
   "outputs": [
    {
     "name": "stdout",
     "output_type": "stream",
     "text": [
      "as_dict:\n",
      "    host: localhost\n",
      "    port: 8082\n",
      "as_float: 1.0\n",
      "as_integer: 100\n",
      "as_list:\n",
      "- value 0\n",
      "- value 1\n",
      "- value 2\n"
     ]
    }
   ],
   "source": [
    "!cat config.yaml"
   ]
  },
  {
   "cell_type": "markdown",
   "id": "39100740-c0ef-4163-b376-103db44a5e25",
   "metadata": {},
   "source": [
    "Lectura\n",
    "---"
   ]
  },
  {
   "cell_type": "code",
   "execution_count": 4,
   "id": "2116a5f2-612c-468f-b831-b47052d379f1",
   "metadata": {},
   "outputs": [
    {
     "data": {
      "text/plain": [
       "{'as_dict': {'host': 'localhost', 'port': 8082},\n",
       " 'as_float': 1.0,\n",
       " 'as_integer': 100,\n",
       " 'as_list': ['value 0', 'value 1', 'value 2']}"
      ]
     },
     "execution_count": 4,
     "metadata": {},
     "output_type": "execute_result"
    }
   ],
   "source": [
    "with open(\"config.yaml\", \"r\") as in_file:\n",
    "    params = yaml.load(\n",
    "        in_file,\n",
    "        Loader=yaml.Loader,\n",
    "    )\n",
    "\n",
    "params"
   ]
  },
  {
   "cell_type": "markdown",
   "id": "657f75b7-c331-4e65-9202-3369feed634b",
   "metadata": {
    "tags": []
   },
   "source": [
    "Ejemplo\n",
    "---"
   ]
  },
  {
   "cell_type": "markdown",
   "id": "b27bd6a2-40af-442a-9344-478de27410fa",
   "metadata": {},
   "source": [
    "```yaml\n",
    "\n",
    "name: GitHub Actions Demo\n",
    "on: [push]\n",
    "jobs:\n",
    "  Explore-GitHub-Actions:\n",
    "    runs-on: ubuntu-latest\n",
    "    steps:\n",
    "      - run: echo \"🎉 The job was automatically triggered by a ${{ github.event_name }} event.\"\n",
    "      - run: echo \"🐧 This job is now running on a ${{ runner.os }} server hosted by GitHub!\"\n",
    "      - run: echo \"🔎 The name of your branch is ${{ github.ref }} and your repository is ${{ github.repository }}.\"\n",
    "      - name: Check out repository code\n",
    "        uses: actions/checkout@v3\n",
    "      - run: echo \"💡 The ${{ github.repository }} repository has been cloned to the runner.\"\n",
    "      - run: echo \"🖥️ The workflow is now ready to test your code on the runner.\"\n",
    "      - name: List files in the repository\n",
    "        run: |\n",
    "          ls ${{ github.workspace }}\n",
    "      - run: echo \"🍏 This job's status is ${{ job.status }}.\"\n",
    "\n",
    "```\n"
   ]
  },
  {
   "cell_type": "code",
   "execution_count": 5,
   "id": "629aaa99-3579-4151-8347-019acf21a9e2",
   "metadata": {},
   "outputs": [],
   "source": [
    "!rm config.yaml"
   ]
  }
 ],
 "metadata": {
  "kernelspec": {
   "display_name": "Python 3 (ipykernel)",
   "language": "python",
   "name": "python3"
  },
  "language_info": {
   "codemirror_mode": {
    "name": "ipython",
    "version": 3
   },
   "file_extension": ".py",
   "mimetype": "text/x-python",
   "name": "python",
   "nbconvert_exporter": "python",
   "pygments_lexer": "ipython3",
   "version": "3.8.10"
  }
 },
 "nbformat": 4,
 "nbformat_minor": 5
}
