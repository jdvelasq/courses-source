{
 "cells": [
  {
   "cell_type": "markdown",
   "id": "5bb3568e-6174-4642-bba5-9f5292f988f7",
   "metadata": {
    "tags": []
   },
   "source": [
    "Archivos .py\n",
    "===\n",
    "\n",
    "* Ultima modificación: Mayo 14, 2022"
   ]
  },
  {
   "cell_type": "markdown",
   "id": "01f80785-0c83-4930-9781-f948d717a839",
   "metadata": {},
   "source": [
    "En este caso, se usa un modulo con la configuración como variables globales al módulo."
   ]
  },
  {
   "cell_type": "markdown",
   "id": "7e1e0540-5396-493f-b48c-81af3a7316f7",
   "metadata": {},
   "source": [
    "Escritura el archivo de configuración\n",
    "--"
   ]
  },
  {
   "cell_type": "code",
   "execution_count": 1,
   "id": "6ad65509-e891-4de8-92b8-b71080ce99ee",
   "metadata": {},
   "outputs": [
    {
     "name": "stdout",
     "output_type": "stream",
     "text": [
      "Writing config.py\n"
     ]
    }
   ],
   "source": [
    "%%writefile config.py\n",
    "\n",
    "as_dict = {\n",
    "    \"host\": \"localhost\",\n",
    "    \"port\": 8082,\n",
    "    \n",
    "}\n",
    "\n",
    "as_list = [\n",
    "    'value 0',\n",
    "    'value 1',\n",
    "    'value 2',\n",
    "]\n",
    "\n",
    "as_variable = 100"
   ]
  },
  {
   "cell_type": "markdown",
   "id": "dc084101-9643-4cc8-9da0-17fdb38036e7",
   "metadata": {},
   "source": [
    "Lectura del archivo de configuración\n",
    "--"
   ]
  },
  {
   "cell_type": "code",
   "execution_count": 2,
   "id": "ba87e292-89a0-4054-8f84-6e3139610908",
   "metadata": {},
   "outputs": [
    {
     "data": {
      "text/plain": [
       "('localhost', 8082)"
      ]
     },
     "execution_count": 2,
     "metadata": {},
     "output_type": "execute_result"
    }
   ],
   "source": [
    "import config\n",
    "\n",
    "config.as_dict['host'], config.as_dict['port']"
   ]
  },
  {
   "cell_type": "code",
   "execution_count": 3,
   "id": "bc1a8122-155b-4e3a-8391-caa028f60638",
   "metadata": {},
   "outputs": [
    {
     "data": {
      "text/plain": [
       "['value 0', 'value 1', 'value 2']"
      ]
     },
     "execution_count": 3,
     "metadata": {},
     "output_type": "execute_result"
    }
   ],
   "source": [
    "config.as_list"
   ]
  },
  {
   "cell_type": "code",
   "execution_count": 4,
   "id": "81bb6b84-c5be-4bb4-8e27-d234a213796a",
   "metadata": {},
   "outputs": [
    {
     "data": {
      "text/plain": [
       "100"
      ]
     },
     "execution_count": 4,
     "metadata": {},
     "output_type": "execute_result"
    }
   ],
   "source": [
    "config.as_variable"
   ]
  },
  {
   "cell_type": "code",
   "execution_count": 5,
   "id": "8c34e756-9dcd-44a4-b763-a2fbc8bdbb5a",
   "metadata": {},
   "outputs": [
    {
     "data": {
      "text/plain": [
       "{'host': 'localhost', 'port': 8082}"
      ]
     },
     "execution_count": 5,
     "metadata": {},
     "output_type": "execute_result"
    }
   ],
   "source": [
    "from config import as_dict as params\n",
    "\n",
    "params"
   ]
  },
  {
   "cell_type": "code",
   "execution_count": 6,
   "id": "4645bdb4-0241-4963-9420-fa29b94b13de",
   "metadata": {},
   "outputs": [],
   "source": [
    "!rm config.py"
   ]
  }
 ],
 "metadata": {
  "kernelspec": {
   "display_name": "Python 3 (ipykernel)",
   "language": "python",
   "name": "python3"
  },
  "language_info": {
   "codemirror_mode": {
    "name": "ipython",
    "version": 3
   },
   "file_extension": ".py",
   "mimetype": "text/x-python",
   "name": "python",
   "nbconvert_exporter": "python",
   "pygments_lexer": "ipython3",
   "version": "3.8.10"
  }
 },
 "nbformat": 4,
 "nbformat_minor": 5
}
