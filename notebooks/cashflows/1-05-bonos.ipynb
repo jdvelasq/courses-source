{
 "cells": [
  {
   "cell_type": "markdown",
   "source": [
    "Bonos\n",
    "===\n",
    "\n",
    "* 60:00 min | Última modificación: Juno 22, 2019 | YouTube"
   ],
   "metadata": {
    "slideshow": {
     "slide_type": "slide"
    }
   }
  },
  {
   "cell_type": "markdown",
   "source": [
    "**Preparación**"
   ],
   "metadata": {
    "slideshow": {
     "slide_type": "slide"
    }
   }
  },
  {
   "cell_type": "code",
   "execution_count": 1,
   "source": [
    "# Importa la librería financiera.\n",
    "# Solo es necesario ejecutar la importación una sola vez.\n",
    "import cashflows as cf"
   ],
   "outputs": [],
   "metadata": {
    "collapsed": true,
    "slideshow": {
     "slide_type": "-"
    }
   }
  },
  {
   "cell_type": "markdown",
   "source": [
    "`bond(face_value=None, coupon_rate=None, coupon_value=None, \n",
    "   num_coupons=None, value=None, ytm=None)`\n",
    "      \n",
    "Con:\n",
    "\n",
    "* `face_value` -- es el valor pagado por el bono a la fecha de expiración.\n",
    "* `coupon_rate` -- es la tasa de interés pagada por el bono como un porcentaje del `face_value`. Se usa para calcular el `coupon_value` cuando dicho parámetro no es suministrado.\n",
    "* `coupon_value` -- es el interés pagado por el bono. Si este valor no es suministrado es calculado como `coupon_rate * face_value`.\n",
    "* `num_coupons` -- número de pagos de interés antes de la fecha de expiración.\n",
    "* `value` -- es el valor presente del bono. \n",
    "* `ytm`-- (yield-to-maturity) es la tasa de interés del bono (períodica).\n",
    "\n",
    "Esta función retorna `value` cuando `ytm` es especificado; y `ytm` cuando `value` es especificado.\n"
   ],
   "metadata": {
    "slideshow": {
     "slide_type": "slide"
    }
   }
  },
  {
   "cell_type": "markdown",
   "source": [
    "***Ejemplo.--*** Se tiene un bono que pagará `$` 1000 en 14 años y cupones semestrales a una tasa del 2%. ¿Cuál es el valor actual del bono si la tasa atractiva mínima es del 4%?"
   ],
   "metadata": {
    "slideshow": {
     "slide_type": "slide"
    }
   }
  },
  {
   "cell_type": "code",
   "execution_count": 2,
   "source": [
    "cf.bond(face_value=1000, coupon_value=20, num_coupons=28, ytm=4)"
   ],
   "outputs": [
    {
     "output_type": "execute_result",
     "data": {
      "text/plain": [
       "666.7387356400258"
      ]
     },
     "metadata": {},
     "execution_count": 2
    }
   ],
   "metadata": {
    "slideshow": {
     "slide_type": "fragment"
    }
   }
  },
  {
   "cell_type": "markdown",
   "source": [
    "***Ejemplo.--*** ¿Cuál es el valor del bono anterior si se considerán valores entre el 3% y el 5% para la tasa de interés?"
   ],
   "metadata": {
    "slideshow": {
     "slide_type": "slide"
    }
   }
  },
  {
   "cell_type": "code",
   "execution_count": 3,
   "source": [
    "cf.bond(face_value=1000, coupon_value=20, num_coupons=28, ytm=[3, 4, 5])"
   ],
   "outputs": [
    {
     "output_type": "execute_result",
     "data": {
      "text/plain": [
       "   Coupon_Rate  Coupon_Value  Face_Value  Num_Coupons       Value  YTM\n",
       "0          2.0            20        1000           28  812.358918    3\n",
       "1          2.0            20        1000           28  666.738736    4\n",
       "2          2.0            20        1000           28  553.056182    5"
      ],
      "text/html": [
       "<div>\n",
       "<style>\n",
       "    .dataframe thead tr:only-child th {\n",
       "        text-align: right;\n",
       "    }\n",
       "\n",
       "    .dataframe thead th {\n",
       "        text-align: left;\n",
       "    }\n",
       "\n",
       "    .dataframe tbody tr th {\n",
       "        vertical-align: top;\n",
       "    }\n",
       "</style>\n",
       "<table border=\"1\" class=\"dataframe\">\n",
       "  <thead>\n",
       "    <tr style=\"text-align: right;\">\n",
       "      <th></th>\n",
       "      <th>Coupon_Rate</th>\n",
       "      <th>Coupon_Value</th>\n",
       "      <th>Face_Value</th>\n",
       "      <th>Num_Coupons</th>\n",
       "      <th>Value</th>\n",
       "      <th>YTM</th>\n",
       "    </tr>\n",
       "  </thead>\n",
       "  <tbody>\n",
       "    <tr>\n",
       "      <th>0</th>\n",
       "      <td>2.0</td>\n",
       "      <td>20</td>\n",
       "      <td>1000</td>\n",
       "      <td>28</td>\n",
       "      <td>812.358918</td>\n",
       "      <td>3</td>\n",
       "    </tr>\n",
       "    <tr>\n",
       "      <th>1</th>\n",
       "      <td>2.0</td>\n",
       "      <td>20</td>\n",
       "      <td>1000</td>\n",
       "      <td>28</td>\n",
       "      <td>666.738736</td>\n",
       "      <td>4</td>\n",
       "    </tr>\n",
       "    <tr>\n",
       "      <th>2</th>\n",
       "      <td>2.0</td>\n",
       "      <td>20</td>\n",
       "      <td>1000</td>\n",
       "      <td>28</td>\n",
       "      <td>553.056182</td>\n",
       "      <td>5</td>\n",
       "    </tr>\n",
       "  </tbody>\n",
       "</table>\n",
       "</div>"
      ]
     },
     "metadata": {},
     "execution_count": 3
    }
   ],
   "metadata": {
    "scrolled": true,
    "slideshow": {
     "slide_type": "fragment"
    }
   }
  },
  {
   "cell_type": "markdown",
   "source": [
    "***Ejemplo.--*** Realice un análisis de sensibilidad si el valor del bono es 666.7 y se condieran tasas del 3, 4 y 5%?"
   ],
   "metadata": {
    "slideshow": {
     "slide_type": "slide"
    }
   }
  },
  {
   "cell_type": "code",
   "execution_count": 4,
   "source": [
    "cf.bond(face_value=1000, coupon_value=20, num_coupons=28, value=666.7, ytm=[3, 4, 5])"
   ],
   "outputs": [
    {
     "output_type": "execute_result",
     "data": {
      "text/plain": [
       "   Basis_Value     Change  Coupon_Rate  Coupon_Value  Face_Value  Num_Coupons  \\\n",
       "0        666.7  21.847745          2.0            20        1000           28   \n",
       "1        666.7   0.005810          2.0            20        1000           28   \n",
       "2        666.7 -17.045720          2.0            20        1000           28   \n",
       "\n",
       "        Value  YTM  \n",
       "0  812.358918    3  \n",
       "1  666.738736    4  \n",
       "2  553.056182    5  "
      ],
      "text/html": [
       "<div>\n",
       "<style>\n",
       "    .dataframe thead tr:only-child th {\n",
       "        text-align: right;\n",
       "    }\n",
       "\n",
       "    .dataframe thead th {\n",
       "        text-align: left;\n",
       "    }\n",
       "\n",
       "    .dataframe tbody tr th {\n",
       "        vertical-align: top;\n",
       "    }\n",
       "</style>\n",
       "<table border=\"1\" class=\"dataframe\">\n",
       "  <thead>\n",
       "    <tr style=\"text-align: right;\">\n",
       "      <th></th>\n",
       "      <th>Basis_Value</th>\n",
       "      <th>Change</th>\n",
       "      <th>Coupon_Rate</th>\n",
       "      <th>Coupon_Value</th>\n",
       "      <th>Face_Value</th>\n",
       "      <th>Num_Coupons</th>\n",
       "      <th>Value</th>\n",
       "      <th>YTM</th>\n",
       "    </tr>\n",
       "  </thead>\n",
       "  <tbody>\n",
       "    <tr>\n",
       "      <th>0</th>\n",
       "      <td>666.7</td>\n",
       "      <td>21.847745</td>\n",
       "      <td>2.0</td>\n",
       "      <td>20</td>\n",
       "      <td>1000</td>\n",
       "      <td>28</td>\n",
       "      <td>812.358918</td>\n",
       "      <td>3</td>\n",
       "    </tr>\n",
       "    <tr>\n",
       "      <th>1</th>\n",
       "      <td>666.7</td>\n",
       "      <td>0.005810</td>\n",
       "      <td>2.0</td>\n",
       "      <td>20</td>\n",
       "      <td>1000</td>\n",
       "      <td>28</td>\n",
       "      <td>666.738736</td>\n",
       "      <td>4</td>\n",
       "    </tr>\n",
       "    <tr>\n",
       "      <th>2</th>\n",
       "      <td>666.7</td>\n",
       "      <td>-17.045720</td>\n",
       "      <td>2.0</td>\n",
       "      <td>20</td>\n",
       "      <td>1000</td>\n",
       "      <td>28</td>\n",
       "      <td>553.056182</td>\n",
       "      <td>5</td>\n",
       "    </tr>\n",
       "  </tbody>\n",
       "</table>\n",
       "</div>"
      ]
     },
     "metadata": {},
     "execution_count": 4
    }
   ],
   "metadata": {
    "scrolled": true
   }
  },
  {
   "cell_type": "markdown",
   "source": [
    "**Ejercicio.--** La fecha actual es junio del 2018.  Se le pide, en su cargo de analista financiero,  que recomiende una de las siguientes inversiones para los excedentes actuales de tesorería. La tesorería espera una utilidad mínima del 8% en sus inversiones.\n",
    "\n",
    "* Un cupón que expira el 2025-06, el cual paga cupones mensuales por $150 y un valor final de `$` 1300.\n",
    "\n",
    "\n",
    "* Un cupón que expira el 2024Q1, con cupones trimestrales de 180 y un valor final de `$` 1200.\n"
   ],
   "metadata": {}
  },
  {
   "cell_type": "markdown",
   "source": [
    "**Bibliografía**\n",
    "\n",
    "> * [1] SAS/ETS 14.1 User's Guide, 2015.   \n",
    "* [2] **hp** 12c platinum financial calculator. User's guide. \n",
    "* [3] HP Business Consultant II Owner's manual.\n",
    "* [4] C.S. Park and G.P. Sharp-Bette. Advanced Engineering Economics. John Wiley & Sons, Inc., 1990."
   ],
   "metadata": {
    "slideshow": {
     "slide_type": "slide"
    }
   }
  }
 ],
 "metadata": {
  "anaconda-cloud": {},
  "celltoolbar": "Slideshow",
  "kernelspec": {
   "display_name": "Python 3",
   "language": "python",
   "name": "python3"
  },
  "language_info": {
   "codemirror_mode": {
    "name": "ipython",
    "version": 3
   },
   "file_extension": ".py",
   "mimetype": "text/x-python",
   "name": "python",
   "nbconvert_exporter": "python",
   "pygments_lexer": "ipython3",
   "version": "3.6.8"
  }
 },
 "nbformat": 4,
 "nbformat_minor": 2
}