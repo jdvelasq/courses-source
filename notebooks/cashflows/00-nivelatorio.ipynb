{
 "cells": [
  {
   "cell_type": "markdown",
   "metadata": {
    "slideshow": {
     "slide_type": "slide"
    }
   },
   "source": [
    "Nivelatorio\n",
    "===\n",
    "\n",
    "* *60 min* | Junio 22, 2019"
   ]
  },
  {
   "cell_type": "markdown",
   "metadata": {
    "slideshow": {
     "slide_type": "slide"
    }
   },
   "source": [
    "### Introducción\n",
    "\n",
    "El objetivo es realizar el análisis del valor del dinero en el tiempo para los siguientes tipos de inversiones:\n",
    "\n",
    "* Créditos\n",
    "\n",
    "* Ahorros\n",
    "\n",
    "* Depreciaciones\n",
    "\n",
    "* Bonos\n",
    "\n",
    "* Flujos genéricos de efectivo\n",
    "\n",
    "\n",
    "Este análisis permite responder diferentes preguntas:\n",
    "\n",
    "* ¿Cuáles son los indicadores financieros de un proyecto de generación?\n",
    "\n",
    "* ¿Cuáles es la mejor alternativa de crédito para financiar la compra de un equipo?\n",
    "\n",
    "* ¿Cuál es el incentivo mínimo que debe darse a una nueva tecnología para incentivar su adopción?\n",
    "\n",
    "* ¿Cuál es el riesgo en el que se incurre en una inversión (transmisión, generación, distribución, etc.)?"
   ]
  },
  {
   "cell_type": "markdown",
   "metadata": {
    "slideshow": {
     "slide_type": "slide"
    }
   },
   "source": [
    "### Diagrama de flujo de dinero\n",
    "\n",
    "Para la realización de cálculos financieros, el flujo de dinero en el tiempo es representado mediante el diagrama de flujo de dinero. En este, las flechas hacia arriba representan dinero recibido, mientras que las flechas hacia abajo representan dinero pagado.\n",
    "\n",
    "<img src=\"images/cash-flow.png\" width=\"450\">"
   ]
  },
  {
   "cell_type": "markdown",
   "metadata": {
    "slideshow": {
     "slide_type": "slide"
    }
   },
   "source": [
    "### Valor del dinero en el tiempo\n",
    "\n",
    "Un peso hoy vale más que un peso mañana debido a que un peso hoy se puede invertir (hoy) para obtener intereses.\n",
    "\n",
    "\n",
    "![assets/cashflow-1-period.png](assets/cashflow-1-period.png)"
   ]
  },
  {
   "cell_type": "markdown",
   "metadata": {
    "slideshow": {
     "slide_type": "slide"
    }
   },
   "source": [
    "De forma general:\n",
    "\n",
    "* $P$ -- Valor actual\n",
    "* $F$ -- valor futuro (FV) \n",
    "* $r$ -- tasa de interés  \n",
    "\n",
    "$$F = P \\times (1 + r)$$\n",
    "\n",
    "$$P= \\left( \\displaystyle\\frac{1}{1+r}\\right) \\times F $$\n",
    "\n",
    "Componentes de la tasa de interés:\n",
    "\n",
    " $$1+r = \\left( \\displaystyle\\ 1 + r_\\alpha\\right) \\left( \\displaystyle\\ 1 + f\\right) \\left( \\displaystyle\\ 1 + r_\\pi\\right)$$\n",
    " \n",
    "\n",
    "* $r_{\\alpha}$ -- Interés real\n",
    "* $f$ -- Inflación\n",
    "* $r_{\\pi}$ -- Componente de riesgo"
   ]
  },
  {
   "cell_type": "markdown",
   "metadata": {
    "slideshow": {
     "slide_type": "slide"
    }
   },
   "source": [
    "### Interés simple\n",
    "\n",
    "En el interés simple se reciben directamente los intereses del capital sin reinvertirlos. Es típico en algunos tipos de préstamos.\n",
    "\n",
    "***Ejemplo.--*** [2, pag. 43] Un amigo necesita un préstamo de `$` 450 por 60 días. Usted le presta a un interés simple del 7`%`, calculado sobre una base anual de 360 días. ¿Cuál es la cantidad total que usted debe recibir al final de periodo?\n",
    "\n",
    "<img src=\"images/simple-interest.png\" width=\"300\">"
   ]
  },
  {
   "cell_type": "code",
   "execution_count": 1,
   "metadata": {},
   "outputs": [
    {
     "data": {
      "text/plain": [
       "-455.25"
      ]
     },
     "execution_count": 1,
     "metadata": {},
     "output_type": "execute_result"
    }
   ],
   "source": [
    "## cálculo manual\n",
    "-450 * (1 + 0.07 * 60 / 360)"
   ]
  },
  {
   "cell_type": "markdown",
   "metadata": {
    "slideshow": {
     "slide_type": "slide"
    }
   },
   "source": [
    "***Ejemplo.--*** [2, pag. 43] Realice el mismo ejemplo anterior sobre una base de 365 días."
   ]
  },
  {
   "cell_type": "code",
   "execution_count": 2,
   "metadata": {
    "scrolled": true,
    "slideshow": {
     "slide_type": "fragment"
    }
   },
   "outputs": [
    {
     "data": {
      "text/plain": [
       "-455.17808219178085"
      ]
     },
     "execution_count": 2,
     "metadata": {},
     "output_type": "execute_result"
    }
   ],
   "source": [
    "## cálculo manual\n",
    "-450 * (1 + 0.07 * 60 / 365)"
   ]
  },
  {
   "cell_type": "markdown",
   "metadata": {
    "slideshow": {
     "slide_type": "slide"
    }
   },
   "source": [
    "***Ejemplo.--*** ¿Qué cantidad de dinero se poseerá después de prestar `$`  2300 al 25`%` de interés simple anual durante 3 años? "
   ]
  },
  {
   "cell_type": "code",
   "execution_count": 3,
   "metadata": {
    "slideshow": {
     "slide_type": "fragment"
    }
   },
   "outputs": [
    {
     "data": {
      "text/plain": [
       "4025.0"
      ]
     },
     "execution_count": 3,
     "metadata": {},
     "output_type": "execute_result"
    }
   ],
   "source": [
    "## cálculo manual\n",
    "2300 * (1 + 0.25 * 3)"
   ]
  },
  {
   "cell_type": "markdown",
   "metadata": {
    "slideshow": {
     "slide_type": "slide"
    }
   },
   "source": [
    "***Ejercicio.--*** ¿Qué cantidad de dinero se poseerá después de prestar `$` 10000 al 30`%` de interés simple anual durante 2 años? (R/ `$` 16000)"
   ]
  },
  {
   "cell_type": "markdown",
   "metadata": {
    "slideshow": {
     "slide_type": "slide"
    }
   },
   "source": [
    "### Interés compuesto\n",
    "\n",
    "En el interés simple se reciben directamente los pagos del interés cada período. En el interés compuesto, los intereses por período se suman al capital $(P)$, tal que se reciben intereses sobre los intereses de períodos pasados.\n",
    "\n",
    "![assets/interes-simple-y-compuesto.png](assets/interes-simple-y-compuesto.png)\n",
    "\n",
    "Diferencia:\n",
    "$$P[(1+i)^N-1]-iNP = P[(1+i)^N-(1+iN)]$$"
   ]
  },
  {
   "cell_type": "markdown",
   "metadata": {
    "slideshow": {
     "slide_type": "slide"
    }
   },
   "source": [
    "### Concepto de equivalencia financiera\n",
    "\n",
    "Dos flujos de fondos son equivalentes a la tasa de interés $r$ si el uno puede ser convertido en el otro usando las tranformaciones apropiadas de interés compuesto.\n",
    "\n",
    "![assets/equivalencia.png](assets/equivalencia.png)"
   ]
  },
  {
   "cell_type": "markdown",
   "metadata": {
    "slideshow": {
     "slide_type": "slide"
    }
   },
   "source": [
    "### Equivalencia entre un pago actual y un pago futuro\n",
    "\n",
    "![assets/equiv-pago-actual-futuro-disc.png](assets/equiv-pago-actual-futuro-disc.png)\n",
    "\n",
    "\n",
    "$$F = - P * (1+r)^n$$\n",
    "\n",
    "$$P = - F * (1 + r)^{-n} = -\\frac{F}{(1+r)^n}$$\n",
    "\n",
    "Para resolver este tipo de problemas se requieren tres de las cuatro variables de la formula."
   ]
  },
  {
   "cell_type": "markdown",
   "metadata": {
    "slideshow": {
     "slide_type": "slide"
    }
   },
   "source": [
    "***Ejemplo.--*** ¿Cuánto dinero se deberá invertir hoy si se quiere obtener al final de 5 años un total de `$` 7800 a un interés trimestral del 2%?\n",
    "\n",
    "![assets/sesion-1-ejemplo-1.png](assets/sesion-1-ejemplo-1.png)\n"
   ]
  },
  {
   "cell_type": "code",
   "execution_count": 4,
   "metadata": {
    "slideshow": {
     "slide_type": "fragment"
    }
   },
   "outputs": [
    {
     "data": {
      "text/plain": [
       "-5249.176398242848"
      ]
     },
     "execution_count": 4,
     "metadata": {},
     "output_type": "execute_result"
    }
   ],
   "source": [
    "-7800 / ((1 + 0.02) ** 20)"
   ]
  },
  {
   "cell_type": "markdown",
   "metadata": {
    "slideshow": {
     "slide_type": "slide"
    }
   },
   "source": [
    "***Ejemplo.--*** ¿Cuál es el valor futuro de `$` 730 dentro de un año con un interés mensual del 2.3%?\n",
    "\n",
    "![assets/sesion-1-ejemplo-6.png](assets/sesion-1-ejemplo-6.png)\n"
   ]
  },
  {
   "cell_type": "code",
   "execution_count": 5,
   "metadata": {
    "slideshow": {
     "slide_type": "fragment"
    }
   },
   "outputs": [
    {
     "data": {
      "text/plain": [
       "959.0261838317085"
      ]
     },
     "execution_count": 5,
     "metadata": {},
     "output_type": "execute_result"
    }
   ],
   "source": [
    "730 * (1 + 0.023)**12"
   ]
  },
  {
   "cell_type": "markdown",
   "metadata": {
    "slideshow": {
     "slide_type": "slide"
    }
   },
   "source": [
    "***Ejercicio.--*** Si un banco promete una tasa anual del 8%, ¿Cuál será el valor que se obtendrá al final de 3 años de una inversion de `$` 4500? (R/ `$` 5668.70)"
   ]
  },
  {
   "cell_type": "markdown",
   "metadata": {
    "slideshow": {
     "slide_type": "slide"
    }
   },
   "source": [
    "***Ejercicio.--*** ¿Cuál es el valor presente de un pago único de `$` 1500 recibido dentro de 2 años si la tasa de interés es de 2.7% mensual? (R/ `$` -791.41)"
   ]
  },
  {
   "cell_type": "markdown",
   "metadata": {
    "slideshow": {
     "slide_type": "slide"
    }
   },
   "source": [
    "### Equivalencia entre un pago actual y una serie de pagos iguales perpetuos\n",
    "\n",
    "![assets/equiv-pmt-inf.png](assets/equiv-pmt-inf.png)\n",
    "\n",
    "Se calcula $P$ como el valor presente de los pagos iguales $A$:\n",
    "\n",
    "$$ P=\\frac{A}{(1+r)} + \\frac{A}{(1+r)^2} + ... $$\n",
    "\n",
    "Sumando $A$ a ambos lados de la ecuación:\n",
    "\n",
    "$$P+A~=~A \\left [  1 + \\left(\\frac{1}{1+r}\\right) + \\left(\\frac{1}{1+r}\\right) ^2 + ... \\right ]~=~A\\left [ \\frac{1}{1-\\left(\\frac{1}{1+r}\\right)}\\right] ~=~ A + \\frac{A}{r}$$\n",
    "\n",
    "Al despejar $P$ se obtiene:\n",
    "\n",
    "$$P=\\frac{A}{r}$$"
   ]
  },
  {
   "cell_type": "markdown",
   "metadata": {
    "slideshow": {
     "slide_type": "slide"
    }
   },
   "source": [
    "### Equivalencia entre un pago actual y una serie de pagos iguales finitos\n",
    "\n",
    "![assets/equiv-pmt-finitos.png](assets/equiv-pmt-finitos.png)\n",
    "\n",
    "Las formulas financieras para anualidades se obtienen al considerar la resta de dos anualidades infinitas; la primera se inicia en el instánte 0 y la segunda en el instánte $n$:   \n",
    "\n",
    "$$F~=~ P\\times(1+r)^n - P^* ~=~\\frac{A}{r} \\times (1+r)^n - \\frac{A}{r} ~=~ A \\left [ \\frac{(1 + r)^n -1}{r} \\right ]$$"
   ]
  },
  {
   "cell_type": "markdown",
   "metadata": {
    "slideshow": {
     "slide_type": "slide"
    }
   },
   "source": [
    "***Ejercicio.--*** Deduzca la ecuación para calcular el valor presente ($P$) en función de $A$, $r$ y $n$."
   ]
  },
  {
   "cell_type": "markdown",
   "metadata": {
    "slideshow": {
     "slide_type": "slide"
    }
   },
   "source": [
    "***Ejercicio.--*** ¿Cuál tasa de interés hace que los siguientes flujos sean equivalentes?\n",
    "\n",
    "* Recibir `$`  1000 hoy.\n",
    "\n",
    "* Recibir `$` 600 al final del período 1 y otros `$` 600 al final del período 2.\n",
    "\n",
    "![assets/sesion-1-ejemplo-2.png](assets/sesion-1-ejemplo-2.png)\n"
   ]
  },
  {
   "cell_type": "markdown",
   "metadata": {
    "slideshow": {
     "slide_type": "slide"
    }
   },
   "source": [
    "***Ejercicio.--***  Calcule el pago mensual para una hipoteca por `$`  250000 con un interés mensual del 0.91%."
   ]
  },
  {
   "cell_type": "markdown",
   "metadata": {
    "slideshow": {
     "slide_type": "slide"
    }
   },
   "source": [
    "***Ejercicio.--*** Se va a realizar un préstamo por `$` 35000 a un interés de 0.91% (mensual) y con pagos mensuales de 325 al final de cada mes. ¿Cuántos meses se requieren para pagar el préstamo?"
   ]
  },
  {
   "cell_type": "markdown",
   "metadata": {
    "slideshow": {
     "slide_type": "slide"
    }
   },
   "source": [
    "### Modo de pago de anualidades finitas\n",
    " \n",
    "En el caso de pagos iguales periodicos es posible establecer el pago al principio o al final del período. \n",
    "\n",
    "![assets/payment-mode.png](assets/payment-mode.png)\n"
   ]
  },
  {
   "cell_type": "markdown",
   "metadata": {
    "slideshow": {
     "slide_type": "slide"
    }
   },
   "source": [
    "***Ejercicio.--*** Deduzca las ecuaciones de equivalencia entre una anualidad finita anticipada y su valor futuro equivalente y despeje $A$, $F$, $r$ y $n$.\n",
    "\n",
    "![assets/eqiv-pmt-ant-finita.png](assets/eqiv-pmt-ant-finita.png)\n"
   ]
  },
  {
   "cell_type": "markdown",
   "metadata": {
    "slideshow": {
     "slide_type": "slide"
    }
   },
   "source": [
    "***Ejercicio.--*** ¿Cuánto dinero se deberá abonar mensualmente (al principio del mes) si se desea reunir `$`  28700 al final de 5 años y los ahorros rentan al 4% mensual? (R/ `$`  120.59)"
   ]
  },
  {
   "cell_type": "markdown",
   "metadata": {
    "slideshow": {
     "slide_type": "slide"
    }
   },
   "source": [
    "***Ejercicio.--*** Se decide ahorrar mensualmente `$`  900 los cuales se depositarán al principio de cada mes en una entidad financiera que paga un interés del 2.5% mensual. ¿Cuánto se habrá acumulado al cabo de 2 años? (R/ `$`  29114.13)  "
   ]
  },
  {
   "cell_type": "markdown",
   "metadata": {
    "slideshow": {
     "slide_type": "slide"
    }
   },
   "source": [
    "### Modelo general de equivalencia\n",
    "\n",
    "Los modelos de valor de dinero en el tiempo (TVM -- time value of money) se basan en los siguientes esquemas.\n",
    "\n",
    "![assets/tvm.png](assets/tvm.png)\n"
   ]
  },
  {
   "cell_type": "markdown",
   "metadata": {
    "slideshow": {
     "slide_type": "slide"
    }
   },
   "source": [
    "***Ejercicio.--*** ¿Cuál es el valor de $A$ para que los dos flujos sean equivalentes usando una tasa ($r$) del 8%?\n",
    "\n",
    "![assets/ejercicio-A.png](assets/ejercicio-A.png)\n"
   ]
  },
  {
   "cell_type": "markdown",
   "metadata": {
    "slideshow": {
     "slide_type": "slide"
    }
   },
   "source": [
    "### Flujos típicos\n",
    "\n",
    "Para resolver un problema, primero se debe identificar el flujo de efectivo típico [2, pag. 48]\n",
    "\n",
    "![assets/flujos-tipicos.png](assets/flujos-tipicos.png)\n"
   ]
  },
  {
   "cell_type": "markdown",
   "metadata": {
    "slideshow": {
     "slide_type": "slide"
    }
   },
   "source": [
    "***Ejercicio.--*** ¿Cuál es el saldo inicial que debe tener una cuenta si durante 5 años se abonan `$` 100 al principio de cada mes, la tasa de interés es del 4% mensual, y al final de último año se desea tener un saldo de `$` 29000?"
   ]
  },
  {
   "cell_type": "markdown",
   "metadata": {
    "slideshow": {
     "slide_type": "slide"
    }
   },
   "source": [
    "### Bibliografía utilizada\n",
    "\n",
    "* [1] SAS/ETS 14.1 User's Guide, 2015.   \n",
    "* [2] **hp** 12c platinum financial calculator. User's guide. \n",
    "* [3] HP Business Consultant II Owner's manual.\n",
    "* [4] C.S. Park and G.P. Sharp-Bette. Advanced Engineering Economics. John Wiley & Sons, Inc., 1990."
   ]
  }
 ],
 "metadata": {
  "anaconda-cloud": {},
  "celltoolbar": "Slideshow",
  "kernelspec": {
   "display_name": "Python 3",
   "language": "python",
   "name": "python3"
  },
  "language_info": {
   "codemirror_mode": {
    "name": "ipython",
    "version": 3
   },
   "file_extension": ".py",
   "mimetype": "text/x-python",
   "name": "python",
   "nbconvert_exporter": "python",
   "pygments_lexer": "ipython3",
   "version": "3.6.8"
  }
 },
 "nbformat": 4,
 "nbformat_minor": 2
}
