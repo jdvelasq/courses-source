{
 "cells": [
  {
   "cell_type": "markdown",
   "source": [
    "Caso Práctico\n",
    "===\n",
    "\n",
    "* 60:00 min | Última modificación: Juno 22, 2019 | YouTube"
   ],
   "metadata": {}
  },
  {
   "cell_type": "markdown",
   "source": [
    "Realice la evaluación financiera de un proyecto de generación térmica bajo los parámetros indicados a continuación.\n",
    "\n",
    "* Información macroeconómica:\n",
    "    \n",
    "    * Tasa de cambio: 2 `$`/USD. \n",
    "    * Devaluación: 1.5% anual. \n",
    "    * Inflación: 1.1% para los dos primeros años y el 1.5% para el resto \n",
    "\n",
    "\n",
    "* Impuestos y costos de ley:\n",
    "\n",
    "    * Impuesto a la renta: 30% durante los primeros 5 años de operación y 35% durante el resto de la vida del proyecto.\n",
    "    * Impuesto predial y sobretasa: el avalúo comercial es el 70% del costo real de los terrenos. La tasa de impuestos es del 0.35% sobre el avalúo comercial.\n",
    "    * Transferencias del sector eléctrico: 4% de las ventas brutas.\n",
    "    * Transferencias regulación: 0.1% de los costos de administración.\n",
    "    * Costos CND, ASIC, FAZNI y otros: 0.05 por la capacidad instalada, ajustado por inflación.\n",
    "\n",
    "\n",
    "* Costos de inversión:\n",
    "\n",
    "    * Terrenos: `$` 100 causados en el año 0.\n",
    "    * Obras civiles: `$` 300 en el año 0 y `$` 200 en el año 1.\n",
    "    * Equipos: `USD$` 210 en el año 1.\n",
    "    * Valor de salvamento: 30% del valor histórico.\n",
    "    \n",
    "    \n",
    "* Fuentes de financiación:\n",
    "\n",
    "    * Costo de capital: 2.7%\n",
    "    * Patrimonio de `$` 450 que ingresa en el año 0.\n",
    "    * Crédito 1: crédito en moneda extranjera por el 80% del valor de los equipos, tasa del 2% anual, a 10 años, cuotas iguales durante la vigencia del crédito. Tasa de cambio 2 $/USD y una devaluación del 1.5% anual\n",
    "    * Crédito 2: crédito en moneda local (`$`) por el valor faltante para terminar las obras, con las siguientes condiciones: 12 años de plazo, al 2.5% anual, cuotas iguales durante toda la vigencia del crédito.\n",
    "    \n",
    "    \n",
    "* Parámetros técnicos:\n",
    "    \n",
    "    * Años de operación: 15\n",
    "    * Años de construcción: 2\n",
    "    * Producción: 1200 unidades por año.\n",
    "    * Precio de venta: `$` 12 del año 0 por unidad y crece a la inflación\n",
    "    * Costos operativos y mantenimiento: `$` 210 por año y crecen con la inflación.\n",
    "    * Costos de administración: `$` 12` por año y crecen con la inflación.\n",
    "\n"
   ],
   "metadata": {}
  },
  {
   "cell_type": "markdown",
   "source": [
    "Gráfique sensibilidades a la inversión en moneda local, a la moneda extranjera, al precio de venta, a la producción y a los costos operativos.\n",
    "\n",
    "Si los datos suministrados constituyen el escenario base, construya un escenario optimista en que la inversión se reduce al 90% y el precio de venta sube el 20%; y un escenario pesimista en que la inversión se incrementa al 10%, las tasas de interés aumentan un putno y la producción cae a 1100 unidades por año.\n",
    "\n",
    "Si al inversionista se le entregan los excedentes de cada año, ¿cuáles son sus indicadores financieros?"
   ],
   "metadata": {}
  }
 ],
 "metadata": {
  "kernelspec": {
   "display_name": "Python 3",
   "language": "python",
   "name": "python3"
  },
  "language_info": {
   "codemirror_mode": {
    "name": "ipython",
    "version": 3
   },
   "file_extension": ".py",
   "mimetype": "text/x-python",
   "name": "python",
   "nbconvert_exporter": "python",
   "pygments_lexer": "ipython3",
   "version": "3.6.8"
  }
 },
 "nbformat": 4,
 "nbformat_minor": 2
}