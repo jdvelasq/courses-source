{
 "cells": [
  {
   "cell_type": "markdown",
   "metadata": {
    "slideshow": {
     "slide_type": "slide"
    }
   },
   "source": [
    "Librería Cashflows\n",
    "===\n",
    "\n",
    "* *60 min* | Junio 22, 2019"
   ]
  },
  {
   "cell_type": "markdown",
   "metadata": {},
   "source": [
    "### Cashflows\n",
    "\n",
    "**`cashflows`** es una librería para el cálculo interactivo del valor del dinero en IPython. Las funciones implementadas son similares a las usadas en Microsoft Excel, las calculadoras financieras y otros softwares similares. **`cashflows`** permite el análisis de diferentes tipos de inversiones:\n",
    "ara los siguientes tipos de inversiones:\n",
    "\n",
    "* Créditos\n",
    "\n",
    "* Ahorros\n",
    "\n",
    "* Depreciaciones\n",
    "\n",
    "* Bonos\n",
    "\n",
    "* Flujos genéricos de efectivo\n",
    "\n",
    "\n",
    "Este análisis ayuda a responder diferentes preguntas:\n",
    "\n",
    "* ¿Cuáles son los indicadores financieros de un proyecto de generación?\n",
    "\n",
    "* ¿Cuáles es la mejor alternativa de crédito para financiar la compra de un equipo?\n",
    "\n",
    "* ¿Cuál es el incentivo mínimo que debe darse a una nueva tecnología para incentivar su adopción?\n",
    "\n",
    "* ¿Cuál es el riesgo en el que se incurre en una inversión (transmisión, generación, distribución, etc.)?"
   ]
  },
  {
   "cell_type": "markdown",
   "metadata": {
    "slideshow": {
     "slide_type": "slide"
    }
   },
   "source": [
    "### Instalación de la librería\n",
    "\n",
    "La instalación de la librería puede realizarse usando `pip`: \n",
    "\n",
    "    pip install cashflows\n",
    "    \n",
    "\n",
    "### Ayuda \n",
    "\n",
    "Las funciones de la librería se encuentran documentadas y su ayuda puede obtenerse a través de la función `help`.  Por ejemplo, para obtener la ayuda de la función `cashflow` se digita el siguiente comando en el prompt interactivo:\n",
    "\n",
    "    >>> help(cashflow)\n",
    "    \n",
    "como resultado se abrirá la ayuda de dicha función.\n",
    "\n",
    "### Documentación\n",
    "\n",
    "La documentación de la libraría puede consultarse en: \n",
    "\n",
    "     http://cashflows.readthedocs.io/en/latest/\n",
    "\n",
    "\n",
    "### Carga de la librería\n",
    "\n",
    "Para cargar la librería use:\n",
    "\n",
    "    import cashflows as cf\n",
    "    \n",
    "### Lenguaje de desarrollo\n",
    "\n",
    "La librería está desarrollada en Python 3.6. No hay compatibilidad para Python 2.x."
   ]
  },
  {
   "cell_type": "code",
   "execution_count": 1,
   "metadata": {
    "collapsed": true,
    "slideshow": {
     "slide_type": "-"
    }
   },
   "outputs": [],
   "source": [
    "import cashflows as cf"
   ]
  },
  {
   "cell_type": "markdown",
   "metadata": {
    "slideshow": {
     "slide_type": "slide"
    }
   },
   "source": [
    "### Tipos de interés\n",
    "\n",
    "**Interés nominal** (`nrate`): expresado sobre una base anual para un número `pyr` de períodos de pago en el año. \n",
    "\n",
    "**Interés efectivo por período de pago (o períodico) **(`prate`): representa el interés real para cada período de pago en el año.  \n",
    "\n",
    "**Interés efectivo anual** (`erate`): interés real para un período único de pago de un año.  \n",
    "\n",
    "$$ prate= \\frac{nrate}{pyr}, \\qquad erate = \\left( \\displaystyle 1 +  prate\\right)^{nper} - 1 = \\left( \\displaystyle 1 + \\frac{nrate}{pyr}\\right)^{nper} - 1 $$"
   ]
  },
  {
   "cell_type": "markdown",
   "metadata": {
    "slideshow": {
     "slide_type": "slide"
    }
   },
   "source": [
    "***Ejemplo.--*** Se está considerando abrir una cuenta de ahorros en uno de tres bancos. ¿Cuál banco tienen la tasa de interés más favorable?\n",
    "\n",
    "* Banco #1: 6.72% anual, compuesto semestralmente.\n",
    "\n",
    "* Banco #2: 6.70% anual, compuesto trimestralmente.\n",
    "\n",
    "* Banco #3: 6.65% anual, compuesto mensualmente."
   ]
  },
  {
   "cell_type": "markdown",
   "metadata": {
    "slideshow": {
     "slide_type": "slide"
    }
   },
   "source": [
    "**Solución manual**"
   ]
  },
  {
   "cell_type": "code",
   "execution_count": 3,
   "metadata": {
    "slideshow": {
     "slide_type": "fragment"
    }
   },
   "outputs": [
    {
     "data": {
      "text/plain": [
       "0.0683289600000001"
      ]
     },
     "execution_count": 3,
     "metadata": {},
     "output_type": "execute_result"
    }
   ],
   "source": [
    "pow(1+0.0672/2, 2) - 1 ## tasa efectiva anual para el Banco #1"
   ]
  },
  {
   "cell_type": "code",
   "execution_count": 4,
   "metadata": {
    "slideshow": {
     "slide_type": "fragment"
    }
   },
   "outputs": [
    {
     "data": {
      "text/plain": [
       "0.0687022514028166"
      ]
     },
     "execution_count": 4,
     "metadata": {},
     "output_type": "execute_result"
    }
   ],
   "source": [
    "pow(1+0.0670/4, 4) - 1 ## tasa efectiva anual para el Banco #2 \n",
    "                       ## tasa mas favorable"
   ]
  },
  {
   "cell_type": "code",
   "execution_count": 5,
   "metadata": {
    "slideshow": {
     "slide_type": "fragment"
    }
   },
   "outputs": [
    {
     "data": {
      "text/plain": [
       "0.0685647762811652"
      ]
     },
     "execution_count": 5,
     "metadata": {},
     "output_type": "execute_result"
    }
   ],
   "source": [
    "pow(1+0.0665/12, 12) - 1 ## tasa efectiva anual para el Banco #3"
   ]
  },
  {
   "cell_type": "markdown",
   "metadata": {
    "slideshow": {
     "slide_type": "slide"
    }
   },
   "source": [
    "### Función `iconv`\n",
    "\n",
    "`iconv(nrate=None, erate=None, prate=None, pyr=1)`      \n",
    "\n",
    "donde:\n",
    "\n",
    "* `nrate` -- tasa nominal.\n",
    "* `prate` -- tasa períodica o tasa efectiva por período de capitalización.\n",
    "* `erate` -- tasa efectiva por año.\n",
    "* `pyr` -- número de períodos de capitalización por año.\n",
    "\n",
    "La función recibe una de las tasa de interés y retorna las otras dos así:\n",
    "\n",
    "* Al especificar `nrate` retorna `(erate, prate)`.\n",
    "* Al especificar `erate` retorna `(nrate, prate)`.\n",
    "* Al especificar `prate` retorna `(nrate, erate)`.\n",
    "\n",
    "Los cálculos son ejecutados usando las siguientes ecuaciones:\n",
    "\n",
    "$$ prate= \\frac{nrate}{pyr}, \\qquad erate = \\left( \\displaystyle 1 +  prate\\right)^{nper} - 1 = \\left( \\displaystyle 1 + \\frac{nrate}{pyr}\\right)^{nper} - 1 $$"
   ]
  },
  {
   "cell_type": "markdown",
   "metadata": {
    "slideshow": {
     "slide_type": "slide"
    }
   },
   "source": [
    "Los cálculos usando `iconv` se realizan de la siguiente manera:"
   ]
  },
  {
   "cell_type": "code",
   "execution_count": 2,
   "metadata": {
    "slideshow": {
     "slide_type": "fragment"
    }
   },
   "outputs": [
    {
     "data": {
      "text/plain": [
       "(6.8328960000000105, 3.36)"
      ]
     },
     "execution_count": 2,
     "metadata": {},
     "output_type": "execute_result"
    }
   ],
   "source": [
    "cf.iconv(nrate = 6.72, pyr =  2)  ## Banco 1: 6.72% comp semestralmente"
   ]
  },
  {
   "cell_type": "code",
   "execution_count": 3,
   "metadata": {
    "slideshow": {
     "slide_type": "fragment"
    }
   },
   "outputs": [
    {
     "data": {
      "text/plain": [
       "(6.8702251402816605, 1.675)"
      ]
     },
     "execution_count": 3,
     "metadata": {},
     "output_type": "execute_result"
    }
   ],
   "source": [
    "cf.iconv(nrate = 6.70, pyr =  4)  ## Banco 2 6.70% comp trimestralmente"
   ]
  },
  {
   "cell_type": "code",
   "execution_count": 4,
   "metadata": {
    "slideshow": {
     "slide_type": "fragment"
    }
   },
   "outputs": [
    {
     "data": {
      "text/plain": [
       "(6.85647762811652, 0.5541666666666667)"
      ]
     },
     "execution_count": 4,
     "metadata": {},
     "output_type": "execute_result"
    }
   ],
   "source": [
    "cf.iconv(nrate = 6.65, pyr = 12)  ## Banco 3: 6.65% comp mensualmente"
   ]
  },
  {
   "cell_type": "markdown",
   "metadata": {
    "slideshow": {
     "slide_type": "fragment"
    }
   },
   "source": [
    "Los cálculos pueden ejecutarse con una sola llamada a la función."
   ]
  },
  {
   "cell_type": "code",
   "execution_count": 5,
   "metadata": {},
   "outputs": [
    {
     "data": {
      "text/plain": [
       "([6.8328960000000105, 6.964855220821997, 6.85647762811652],\n",
       " [3.36, 1.6975, 0.5541666666666667])"
      ]
     },
     "execution_count": 5,
     "metadata": {},
     "output_type": "execute_result"
    }
   ],
   "source": [
    "## Otra forma\n",
    "cf.iconv(nrate = [6.72, 6.79, 6.65], pyr = [2, 4, 12])"
   ]
  },
  {
   "cell_type": "markdown",
   "metadata": {
    "slideshow": {
     "slide_type": "slide"
    }
   },
   "source": [
    "### Función `pvfv`\n",
    "\n",
    "`pvfv(pval=None, fval=None, nrate=None, nper=None, pyr=1, \n",
    "  noprint=True)` \n",
    "\n",
    "![assets/pvfv.png](assets/pvfv.png)\n",
    "\n",
    "La función `pvfv` returna el valor faltante en la siguiente ecuación:\n",
    "\n",
    "$$fval = - pval * \\left(1 + \\frac{nrate}{pyr}\\right) ^ {nper}$$\n",
    "\n",
    "donde:\n",
    "* `pval` -- valor presente.\n",
    "* `fval` -- valor futuro.\n",
    "* `nper` -- cantidad de períodos.\n",
    "* `nrate` -- tasa de interés nominal.\n",
    "* `pyr` -- número de períodos de capitalización por año."
   ]
  },
  {
   "cell_type": "markdown",
   "metadata": {
    "slideshow": {
     "slide_type": "slide"
    }
   },
   "source": [
    "***Ejemplo.--*** [3, pág. 88] Se depositan `$` 2000 en una cuenta de ahorros que paga un interés anual del 7.2% (capitalizado anualmente). Si no se hacen otros depósitos en la cuenta, ¿cuánto tiempo se requiere para que la cuenta tenga `$` 3000? R/ 5.83\n",
    "\n",
    "![assets/sesion-2-ejemplo-1.png](assets/sesion-2-ejemplo-1.png)\n"
   ]
  },
  {
   "cell_type": "code",
   "execution_count": 10,
   "metadata": {
    "slideshow": {
     "slide_type": "fragment"
    }
   },
   "outputs": [
    {
     "data": {
      "text/plain": [
       "5.8318433820838607"
      ]
     },
     "execution_count": 10,
     "metadata": {},
     "output_type": "execute_result"
    }
   ],
   "source": [
    "cf.pvfv(nrate =     7.2,   # tasa de interes\n",
    "        pval  = -2000,     # valor presente\n",
    "        fval  = +3000)     # valor futuro"
   ]
  },
  {
   "cell_type": "code",
   "execution_count": 11,
   "metadata": {
    "scrolled": true,
    "slideshow": {
     "slide_type": "fragment"
    }
   },
   "outputs": [
    {
     "data": {
      "text/plain": [
       "3035.2796326007801"
      ]
     },
     "execution_count": 11,
     "metadata": {},
     "output_type": "execute_result"
    }
   ],
   "source": [
    "# Ya que nper es un valor entre 5 y 6, se requieren 6 años \n",
    "# para tener un balance de al menos $ 3000.\n",
    "# El balance al final de los seis años es (R/ 3035.28):\n",
    "cf.pvfv(nrate =     7.2, # tasa de interes\n",
    "        pval  = -2000,   # valor presente\n",
    "        nper  =     6)   # numero de periodos"
   ]
  },
  {
   "cell_type": "markdown",
   "metadata": {
    "slideshow": {
     "slide_type": "slide"
    }
   },
   "source": [
    "***Ejemplo.--*** ¿Cuál será el valor futuro de `$` 100, `$` 200, `$` 300 y `$` 400 en 5 años a una tasa de interés del 3% anual? "
   ]
  },
  {
   "cell_type": "code",
   "execution_count": 12,
   "metadata": {
    "scrolled": false,
    "slideshow": {
     "slide_type": "fragment"
    }
   },
   "outputs": [
    {
     "data": {
      "text/plain": [
       "0   -115.927408\n",
       "1   -231.854815\n",
       "2   -347.782223\n",
       "3   -463.709630\n",
       "dtype: float64"
      ]
     },
     "execution_count": 12,
     "metadata": {},
     "output_type": "execute_result"
    }
   ],
   "source": [
    "# uno de los parámetros puede ser un vector\n",
    "cf.pvfv(pval  =  [100, 200, 300, 400], \n",
    "        nper  =  5,\n",
    "        nrate =  3.0)"
   ]
  },
  {
   "cell_type": "markdown",
   "metadata": {
    "slideshow": {
     "slide_type": "slide"
    }
   },
   "source": [
    "***Ejemplo.--*** ¿Cuál será el valor futuro de `$` 100 en 1, 2, 3 y 4 años a una tasa de interés de 3% anual? "
   ]
  },
  {
   "cell_type": "code",
   "execution_count": 13,
   "metadata": {
    "slideshow": {
     "slide_type": "fragment"
    }
   },
   "outputs": [
    {
     "data": {
      "text/plain": [
       "0   -103.000000\n",
       "1   -106.090000\n",
       "2   -109.272700\n",
       "3   -112.550881\n",
       "dtype: float64"
      ]
     },
     "execution_count": 13,
     "metadata": {},
     "output_type": "execute_result"
    }
   ],
   "source": [
    "cf.pvfv(pval  =  100, \n",
    "        nper  =    [1, 2, 3, 4],\n",
    "        nrate =    3.0)"
   ]
  },
  {
   "cell_type": "markdown",
   "metadata": {
    "slideshow": {
     "slide_type": "slide"
    }
   },
   "source": [
    "***Ejercicio.--*** Se compra un propiedad por `$` 32000. Si se presenta una depreciación del 2% por año, ¿cuál será el valor de la propiedad al final de 6 años?"
   ]
  },
  {
   "cell_type": "markdown",
   "metadata": {
    "slideshow": {
     "slide_type": "slide"
    }
   },
   "source": [
    "### Función `pvpmt`\n",
    "\n",
    "`pvpmt(pmt=None, pval=None, nrate=None, nper=None, pyr=1, \n",
    "  noprint=True)`\n",
    "\n",
    "Calcula el parámetro faltante en el siguiente flujo de efectivo.\n",
    "\n",
    "![assets/pvpmt.png](assets/pvpmt.png)\n",
    "\n",
    "\n",
    "Nomenclatura para los parámetros:\n",
    "* `pval` -- valor presente.\n",
    "* `pmt` -- pago períodico o anualidad.\n",
    "* `nper` -- cantidad de períodos.\n",
    "* `nrate` -- tasa nominal de interés por año.\n",
    "* `pyr` -- número de períodos por año."
   ]
  },
  {
   "cell_type": "markdown",
   "metadata": {
    "slideshow": {
     "slide_type": "slide"
    }
   },
   "source": [
    "***Ejemplo.--*** [2, pág. 57] Si se va a realizar un leasing a una tasa nominal de 5.9% y se deben realizar 48 pagos mensuales de `$` 450 y un pago inicial de `$` 1500 al constituirse el crédito, ¿cuál es el monto del préstamo?"
   ]
  },
  {
   "cell_type": "code",
   "execution_count": 14,
   "metadata": {
    "slideshow": {
     "slide_type": "fragment"
    }
   },
   "outputs": [
    {
     "data": {
      "text/plain": [
       "19198.600408593771"
      ]
     },
     "execution_count": 14,
     "metadata": {},
     "output_type": "execute_result"
    }
   ],
   "source": [
    "cf.pvpmt(pmt   =  -450,   # pago mensual\n",
    "         nrate =     5.9, # tasa de interés\n",
    "         nper  =    48,   # numero de periodos\n",
    "         pyr   =    12)   # periodos de capitalización por año"
   ]
  },
  {
   "cell_type": "code",
   "execution_count": 15,
   "metadata": {
    "slideshow": {
     "slide_type": "fragment"
    }
   },
   "outputs": [
    {
     "data": {
      "text/plain": [
       "20698.600408593771"
      ]
     },
     "execution_count": 15,
     "metadata": {},
     "output_type": "execute_result"
    }
   ],
   "source": [
    "_ + 1500"
   ]
  },
  {
   "cell_type": "markdown",
   "metadata": {
    "slideshow": {
     "slide_type": "slide"
    }
   },
   "source": [
    "***Ejemplo.--*** [2, pág. 59] Calcule el pago mensual de una hipoteca por `$` 243400 pagada en 348 meses a una tasa nominal de 5.25%."
   ]
  },
  {
   "cell_type": "code",
   "execution_count": 16,
   "metadata": {},
   "outputs": [
    {
     "data": {
      "text/plain": [
       "-1363.286877407623"
      ]
     },
     "execution_count": 16,
     "metadata": {},
     "output_type": "execute_result"
    }
   ],
   "source": [
    "cf.pvpmt(pval  = 243400,    # monto\n",
    "         nrate =      5.25, # tasa de interés\n",
    "         nper  =    348,    # número de períodos\n",
    "         pyr   =     12)    # períodos de capitalización por año"
   ]
  },
  {
   "cell_type": "markdown",
   "metadata": {
    "slideshow": {
     "slide_type": "slide"
    }
   },
   "source": [
    "***Ejemplo.--*** [3, pág. 81] Se está financiando la compra de un carro nuevo con un leasing a tres años a una tasa nominal del 10.5%. El precio del carro es de `$` 7250. Se debe realizar un pago inicial de `$` 1500. ¿Cuánto es el pago mensual si los pagos se hacen al final del mes? "
   ]
  },
  {
   "cell_type": "code",
   "execution_count": 17,
   "metadata": {
    "slideshow": {
     "slide_type": "fragment"
    }
   },
   "outputs": [
    {
     "data": {
      "text/plain": [
       "-186.88905015194922"
      ]
     },
     "execution_count": 17,
     "metadata": {},
     "output_type": "execute_result"
    }
   ],
   "source": [
    "cf.pvpmt(pval  = 5750,  # = 7250 - 1500\n",
    "         nrate =   10.5,   \n",
    "         nper  =   36,\n",
    "         pyr   =   12)"
   ]
  },
  {
   "cell_type": "markdown",
   "metadata": {
    "slideshow": {
     "slide_type": "slide"
    }
   },
   "source": [
    "***Ejemplo.--*** Para el caso del ejemplo anterior, se desea reducir la cuota mensual en `$` 10, ¿cuál tasa de interés debería obtenerse?"
   ]
  },
  {
   "cell_type": "code",
   "execution_count": 18,
   "metadata": {
    "slideshow": {
     "slide_type": "fragment"
    }
   },
   "outputs": [
    {
     "data": {
      "text/plain": [
       "6.7512207241012856"
      ]
     },
     "execution_count": 18,
     "metadata": {},
     "output_type": "execute_result"
    }
   ],
   "source": [
    "cf.pvpmt(pval = 5750,\n",
    "         pmt  = -176.89,   \n",
    "         nper =   36,\n",
    "         pyr  =   12)"
   ]
  },
  {
   "cell_type": "markdown",
   "metadata": {
    "slideshow": {
     "slide_type": "slide"
    }
   },
   "source": [
    "***Ejercicio.--*** Se hará un préstamo de `$` 35000 para la compra de una turbina de generación a gas. Si la tasa nominal es del 10.5% con pagos pagos mensuales de `$` 550 al final de cada mes, ¿cuánto tiempo se requiere para cancelar la deuda?  "
   ]
  },
  {
   "cell_type": "markdown",
   "metadata": {
    "slideshow": {
     "slide_type": "slide"
    }
   },
   "source": [
    "### Función `pmtfv`\n",
    "\n",
    "`pmtfv(pmt=None, fval=None, nrate=None, nper=None, pyr=1, \n",
    "  noprint=True)`\n",
    "\n",
    "Calcula el parámetro faltante para el siguiente flujo de efectivo.\n",
    "\n",
    "![assets/pmtfv.png](assets/pmtfv.png)\n",
    "\n",
    "Nomenclatura para los parámetros:\n",
    "\n",
    "* `pmt` -- pago períodico.\n",
    "* `fval` -- valor futuro.\n",
    "* `nper` -- cantidad de períodos.\n",
    "* `nrate` -- tasa nominal.\n",
    "* `pyr` -- número de períodos de capitalización por año."
   ]
  },
  {
   "cell_type": "markdown",
   "metadata": {
    "slideshow": {
     "slide_type": "slide"
    }
   },
   "source": [
    "***Ejemplo.--*** Si al principio de cada mes se ahorran `$` 1000, a una tasa nominal del 12% con capitalización mensual, ¿Cuánto se tendrá ahorrado al final del mes 12?"
   ]
  },
  {
   "cell_type": "code",
   "execution_count": 19,
   "metadata": {
    "slideshow": {
     "slide_type": "fragment"
    }
   },
   "outputs": [
    {
     "data": {
      "text/plain": [
       "12809.328043328947"
      ]
     },
     "execution_count": 19,
     "metadata": {},
     "output_type": "execute_result"
    }
   ],
   "source": [
    "cf.pmtfv(pmt=-1000, nrate=12, nper=12, pyr=12)"
   ]
  },
  {
   "cell_type": "markdown",
   "metadata": {
    "slideshow": {
     "slide_type": "slide"
    }
   },
   "source": [
    "### Función `tvmm`\n",
    "\n",
    "`tvmm(pval=None, fval=None, pmt=None, nrate=None, nper=None, \n",
    "  due=0, pyr=1, noprint=True)`\n",
    "\n",
    "Esta función calcula el parámetro faltante en el flujo de efectivo especificado por el parámetro `due`.\n",
    "\n",
    "![assets/tvmm.png](assets/tvmm.png)\n",
    "\n",
    "Nomenclatura para los parámetros:\n",
    "\n",
    "* `pval` -- valor presente.\n",
    "* `fval` -- valor futuro.\n",
    "* `pmt` -- pago períodico.\n",
    "* `nper` -- cantidad de períodos.\n",
    "* `nrate` -- tasa de interés por período.\n",
    "* `pyr` -- número de períodos por año.\n",
    "* `due` -- momento del período en que se paga la anualidad: `'end'` (o 0) indica el pago al final del período; `'begin'` (o 1) indica el pago al principio del período."
   ]
  },
  {
   "cell_type": "markdown",
   "metadata": {
    "slideshow": {
     "slide_type": "slide"
    }
   },
   "source": [
    "***Ejemplo.--*** [2, pág. 55] ¿Qué tasa de interés debe obtenerse para acumular `$` 10000 en 32 meses si se hace una inversión de `$` 6000? R/ 1.61%"
   ]
  },
  {
   "cell_type": "code",
   "execution_count": 20,
   "metadata": {
    "slideshow": {
     "slide_type": "fragment"
    }
   },
   "outputs": [
    {
     "data": {
      "text/plain": [
       "19.309673922518478"
      ]
     },
     "execution_count": 20,
     "metadata": {},
     "output_type": "execute_result"
    }
   ],
   "source": [
    "cf.tvmm(pval = -6000,     # depósito inicial\n",
    "        nper =    32,     # número de períodos\n",
    "        pmt  =     0,     # pago períodico\n",
    "        fval = 10000,     # saldo final\n",
    "        pyr  =    12)     # capitalización mensual"
   ]
  },
  {
   "cell_type": "markdown",
   "metadata": {
    "slideshow": {
     "slide_type": "slide"
    }
   },
   "source": [
    "***Ejemplo.--*** [2, pág. 58] ¿Cuánto se puede pagar por una propiedad que generará un flujo neto anual de `$` 17500 durante 5 años, si al final la propiedad se puede vender en `$` 540.000? (la tasa nominal de interés es del 12%)  "
   ]
  },
  {
   "cell_type": "code",
   "execution_count": 21,
   "metadata": {
    "slideshow": {
     "slide_type": "fragment"
    }
   },
   "outputs": [
    {
     "data": {
      "text/plain": [
       "-369494.08562908118"
      ]
     },
     "execution_count": 21,
     "metadata": {},
     "output_type": "execute_result"
    }
   ],
   "source": [
    "cf.tvmm(pmt   =  17500,   # pago períodico anual\n",
    "        fval  = 540000,   # valor de venta\n",
    "        nrate =     12.0, # tasa de interés\n",
    "        nper  =      5)   # numero de periodos"
   ]
  },
  {
   "cell_type": "markdown",
   "metadata": {
    "slideshow": {
     "slide_type": "slide"
    }
   },
   "source": [
    "***Ejemplo.--*** ¿Cuál es la amortización para los siguientes préstamos (`fval` es el pago final residual)? \n",
    "\n",
    "`\n",
    "plazo      5,        5,       6,       7\n",
    "pval     100,      110,     110,     105\n",
    "fval     -20,      -10,     -20,       0\n",
    "tasa       0.020,    0.017,   0.016,   0.017     \n",
    "`"
   ]
  },
  {
   "cell_type": "code",
   "execution_count": 22,
   "metadata": {
    "slideshow": {
     "slide_type": "fragment"
    }
   },
   "outputs": [
    {
     "data": {
      "text/plain": [
       "0   -17.372672\n",
       "1   -21.201461\n",
       "2   -16.171110\n",
       "3   -16.037190\n",
       "dtype: float64"
      ]
     },
     "execution_count": 22,
     "metadata": {},
     "output_type": "execute_result"
    }
   ],
   "source": [
    "cf.tvmm(pval  = [ 100,   110,   110,   105   ],\n",
    "        fval  = [ -20,   -10,   -20,     0   ],         \n",
    "        nper  = [   5,     5,     6,     7   ], \n",
    "        nrate = [   2.0,   1.7,   1.6,   1.7 ])"
   ]
  },
  {
   "cell_type": "markdown",
   "metadata": {
    "slideshow": {
     "slide_type": "slide"
    }
   },
   "source": [
    "***Ejercicio.--*** Se abre una cuenta hoy con un depósito de `$` 775. La tasa nominal es 6.25% con capitalización mensual. ¿Si se desea tener un capital de `$` 4000 en 60 meses, ¿Cuánto se debe depositar mensualmente (al final del mes)?"
   ]
  },
  {
   "cell_type": "markdown",
   "metadata": {
    "slideshow": {
     "slide_type": "slide"
    }
   },
   "source": [
    "### Función `amortize`\n",
    "\n",
    "`amortize(pval=None, fval=None, pmt=None, nrate=None,\n",
    "  nper=None, due=0, pyr=1)`\n",
    "\n",
    "Imprime la tabla de amortizaciones. La llamada a la función retorna un pandas.DataFrame. Esta función usa los mismos parámetros de la función `tvmm`."
   ]
  },
  {
   "cell_type": "markdown",
   "metadata": {
    "slideshow": {
     "slide_type": "slide"
    }
   },
   "source": [
    "***Ejemplo.--*** Construya la tabla de amortización (balance) para un préstamo de  `$` 1000 a 6 meses con pagos mensuales iguales a una tasa de interés del 1% mensual. "
   ]
  },
  {
   "cell_type": "code",
   "execution_count": 23,
   "metadata": {
    "scrolled": false
   },
   "outputs": [
    {
     "data": {
      "text/html": [
       "<div>\n",
       "<style>\n",
       "    .dataframe thead tr:only-child th {\n",
       "        text-align: right;\n",
       "    }\n",
       "\n",
       "    .dataframe thead th {\n",
       "        text-align: left;\n",
       "    }\n",
       "\n",
       "    .dataframe tbody tr th {\n",
       "        vertical-align: top;\n",
       "    }\n",
       "</style>\n",
       "<table border=\"1\" class=\"dataframe\">\n",
       "  <thead>\n",
       "    <tr style=\"text-align: right;\">\n",
       "      <th></th>\n",
       "      <th>Beg_Balance</th>\n",
       "      <th>Payment</th>\n",
       "      <th>Interest</th>\n",
       "      <th>Principal</th>\n",
       "      <th>Final_Balance</th>\n",
       "    </tr>\n",
       "  </thead>\n",
       "  <tbody>\n",
       "    <tr>\n",
       "      <th>0</th>\n",
       "      <td>1000.00</td>\n",
       "      <td>0.00</td>\n",
       "      <td>0.00</td>\n",
       "      <td>0.00</td>\n",
       "      <td>1000.00</td>\n",
       "    </tr>\n",
       "    <tr>\n",
       "      <th>1</th>\n",
       "      <td>1000.00</td>\n",
       "      <td>-172.55</td>\n",
       "      <td>10.00</td>\n",
       "      <td>-162.55</td>\n",
       "      <td>837.45</td>\n",
       "    </tr>\n",
       "    <tr>\n",
       "      <th>2</th>\n",
       "      <td>837.45</td>\n",
       "      <td>-172.55</td>\n",
       "      <td>8.37</td>\n",
       "      <td>-164.17</td>\n",
       "      <td>673.28</td>\n",
       "    </tr>\n",
       "    <tr>\n",
       "      <th>3</th>\n",
       "      <td>673.28</td>\n",
       "      <td>-172.55</td>\n",
       "      <td>6.73</td>\n",
       "      <td>-165.82</td>\n",
       "      <td>507.46</td>\n",
       "    </tr>\n",
       "    <tr>\n",
       "      <th>4</th>\n",
       "      <td>507.46</td>\n",
       "      <td>-172.55</td>\n",
       "      <td>5.07</td>\n",
       "      <td>-167.47</td>\n",
       "      <td>339.99</td>\n",
       "    </tr>\n",
       "    <tr>\n",
       "      <th>5</th>\n",
       "      <td>339.99</td>\n",
       "      <td>-172.55</td>\n",
       "      <td>3.40</td>\n",
       "      <td>-169.15</td>\n",
       "      <td>170.84</td>\n",
       "    </tr>\n",
       "    <tr>\n",
       "      <th>6</th>\n",
       "      <td>170.84</td>\n",
       "      <td>-172.55</td>\n",
       "      <td>1.71</td>\n",
       "      <td>-170.84</td>\n",
       "      <td>0.00</td>\n",
       "    </tr>\n",
       "  </tbody>\n",
       "</table>\n",
       "</div>"
      ],
      "text/plain": [
       "   Beg_Balance  Payment  Interest  Principal  Final_Balance\n",
       "0      1000.00     0.00      0.00       0.00        1000.00\n",
       "1      1000.00  -172.55     10.00    -162.55         837.45\n",
       "2       837.45  -172.55      8.37    -164.17         673.28\n",
       "3       673.28  -172.55      6.73    -165.82         507.46\n",
       "4       507.46  -172.55      5.07    -167.47         339.99\n",
       "5       339.99  -172.55      3.40    -169.15         170.84\n",
       "6       170.84  -172.55      1.71    -170.84           0.00"
      ]
     },
     "execution_count": 23,
     "metadata": {},
     "output_type": "execute_result"
    }
   ],
   "source": [
    "cf.amortize(pval=1000, fval=0, pmt=None, nrate=1.0, \n",
    "            nper=6, due=0)"
   ]
  },
  {
   "cell_type": "code",
   "execution_count": 24,
   "metadata": {
    "collapsed": true,
    "slideshow": {
     "slide_type": "slide"
    }
   },
   "outputs": [],
   "source": [
    "table = cf.amortize(pval=1000, fval=0, pmt=None, nrate=1.0, \n",
    "                    nper=6, due=0)"
   ]
  },
  {
   "cell_type": "code",
   "execution_count": 25,
   "metadata": {
    "scrolled": false,
    "slideshow": {
     "slide_type": "fragment"
    }
   },
   "outputs": [
    {
     "data": {
      "text/plain": [
       "0      0.00\n",
       "1   -162.55\n",
       "2   -164.17\n",
       "3   -165.82\n",
       "4   -167.47\n",
       "5   -169.15\n",
       "6   -170.84\n",
       "Name: Principal, dtype: float64"
      ]
     },
     "execution_count": 25,
     "metadata": {},
     "output_type": "execute_result"
    }
   ],
   "source": [
    "table['Principal']"
   ]
  },
  {
   "cell_type": "code",
   "execution_count": 26,
   "metadata": {
    "slideshow": {
     "slide_type": "fragment"
    }
   },
   "outputs": [
    {
     "data": {
      "text/plain": [
       "-1000.0"
      ]
     },
     "execution_count": 26,
     "metadata": {},
     "output_type": "execute_result"
    }
   ],
   "source": [
    "sum(table['Principal'])"
   ]
  },
  {
   "cell_type": "code",
   "execution_count": 27,
   "metadata": {
    "scrolled": true,
    "slideshow": {
     "slide_type": "fragment"
    }
   },
   "outputs": [
    {
     "data": {
      "text/plain": [
       "0     0.00\n",
       "1    10.00\n",
       "2     8.37\n",
       "3     6.73\n",
       "4     5.07\n",
       "5     3.40\n",
       "6     1.71\n",
       "Name: Interest, dtype: float64"
      ]
     },
     "execution_count": 27,
     "metadata": {},
     "output_type": "execute_result"
    }
   ],
   "source": [
    "table['Interest']"
   ]
  },
  {
   "cell_type": "code",
   "execution_count": 28,
   "metadata": {
    "slideshow": {
     "slide_type": "fragment"
    }
   },
   "outputs": [
    {
     "data": {
      "text/plain": [
       "[0.0, 10.0, 8.37, 6.73, 5.07, 3.4, 1.71]"
      ]
     },
     "execution_count": 28,
     "metadata": {},
     "output_type": "execute_result"
    }
   ],
   "source": [
    "table['Interest'].tolist()"
   ]
  },
  {
   "cell_type": "code",
   "execution_count": 29,
   "metadata": {
    "slideshow": {
     "slide_type": "fragment"
    }
   },
   "outputs": [
    {
     "data": {
      "text/plain": [
       "35.280000000000001"
      ]
     },
     "execution_count": 29,
     "metadata": {},
     "output_type": "execute_result"
    }
   ],
   "source": [
    "sum(table['Interest'])"
   ]
  },
  {
   "cell_type": "code",
   "execution_count": 30,
   "metadata": {
    "slideshow": {
     "slide_type": "fragment"
    }
   },
   "outputs": [
    {
     "data": {
      "text/plain": [
       "0      0.00\n",
       "1   -172.55\n",
       "2   -172.55\n",
       "3   -172.55\n",
       "4   -172.55\n",
       "5   -172.55\n",
       "6   -172.55\n",
       "Name: Payment, dtype: float64"
      ]
     },
     "execution_count": 30,
     "metadata": {},
     "output_type": "execute_result"
    }
   ],
   "source": [
    "table['Payment']"
   ]
  },
  {
   "cell_type": "code",
   "execution_count": 31,
   "metadata": {
    "slideshow": {
     "slide_type": "fragment"
    }
   },
   "outputs": [
    {
     "data": {
      "text/plain": [
       "-1035.3"
      ]
     },
     "execution_count": 31,
     "metadata": {},
     "output_type": "execute_result"
    }
   ],
   "source": [
    "sum(table['Payment'])"
   ]
  },
  {
   "cell_type": "markdown",
   "metadata": {
    "slideshow": {
     "slide_type": "slide"
    }
   },
   "source": [
    "### Bibliografía utilizada\n",
    "\n",
    "* [1] SAS/ETS 14.1 User's Guide, 2015.   \n",
    "* [2] **hp** 12c platinum financial calculator. User's guide. \n",
    "* [3] HP Business Consultant II Owner's manual.\n",
    "* [4] C.S. Park and G.P. Sharp-Bette. Advanced Engineering Economics. John Wiley & Sons, Inc., 1990."
   ]
  }
 ],
 "metadata": {
  "anaconda-cloud": {},
  "celltoolbar": "Slideshow",
  "kernelspec": {
   "display_name": "Python 3",
   "language": "python",
   "name": "python3"
  },
  "language_info": {
   "codemirror_mode": {
    "name": "ipython",
    "version": 3
   },
   "file_extension": ".py",
   "mimetype": "text/x-python",
   "name": "python",
   "nbconvert_exporter": "python",
   "pygments_lexer": "ipython3",
   "version": "3.6.8"
  }
 },
 "nbformat": 4,
 "nbformat_minor": 2
}
