{
 "cells": [
  {
   "cell_type": "markdown",
   "source": [
    "Análisis de Flujos de Fondos\n",
    "===\n",
    "\n",
    "* 60:00 min | Última modificación: Juno 22, 2019 | YouTube"
   ],
   "metadata": {
    "slideshow": {
     "slide_type": "slide"
    }
   }
  },
  {
   "cell_type": "markdown",
   "source": [
    "### Criterio del valor presente neto \n",
    "\n",
    "![assets/analysis.png](assets/analysis.png)\n"
   ],
   "metadata": {
    "slideshow": {
     "slide_type": "slide"
    }
   }
  },
  {
   "cell_type": "markdown",
   "source": [
    "**Criterio del valor presente.**\n",
    "\n",
    "$$PV(r) = \\sum_{t=0}^N \\frac{F_t}{(1+r)^t}$$\n",
    "\n",
    "* Si $PV(r) > 0$, acepte.\n",
    "* Si $PV(r) = 0$, indiferencia.\n",
    "* Si $PV(r) < 0$, rechace."
   ],
   "metadata": {
    "slideshow": {
     "slide_type": "slide"
    }
   }
  },
  {
   "cell_type": "markdown",
   "source": [
    "**Criterio del valor futuro.**\n",
    "\n",
    "$$FV(r) = \\sum_{t=0}^N \\frac{F_t}{(1+r)^{N-t}}$$\n",
    "\n",
    "* Si $FV(r) > 0$, acepte.\n",
    "* Si $FV(r) = 0$, indiferencia.\n",
    "* Si $FV(r) < 0$, rechace."
   ],
   "metadata": {
    "slideshow": {
     "slide_type": "fragment"
    }
   }
  },
  {
   "cell_type": "markdown",
   "source": [
    "**Criterio del equivalente uniforme períodico.**\n",
    "\n",
    "$$UPE(r) = PV(r) * \\frac{r * (1+r)^N}{(1+r)^N-1}$$\n",
    "\n",
    "* Si $UPE(r) > 0$, acepte.\n",
    "* Si $UPE(r) = 0$, indiferencia.\n",
    "* Si $UPE(r) < 0$, rechace."
   ],
   "metadata": {
    "slideshow": {
     "slide_type": "fragment"
    }
   }
  },
  {
   "cell_type": "markdown",
   "source": [
    "**Nota 1.** $r$ es la MARR y puede variar de período a período.\n",
    "\n",
    "**Nota 2.** El $PV(r)$ representa el excedente que se gana sobre la alternativa de invertir a una tasa de $r$."
   ],
   "metadata": {
    "slideshow": {
     "slide_type": "fragment"
    }
   }
  },
  {
   "cell_type": "markdown",
   "source": [
    "`timevalue(cflo, marr, base_date=0)`\n",
    "\n",
    "donde:\n",
    "\n",
    "* `cflo` -- flujo neto de efectivo.\n",
    "* `marr` -- tasa mínima atractiva de retorno.\n",
    "* `base_date` -- período base para calcular el valor equivalente.\n",
    "\n",
    "La función retorna el valor único equivalente. Para `base_date=0` corresponde al valor presente neto; para `base_date = nper` corresponde al valor futuro neto.\n"
   ],
   "metadata": {
    "slideshow": {
     "slide_type": "slide"
    }
   }
  },
  {
   "cell_type": "markdown",
   "source": [
    "**Ejemplo.--** Calcule los indicadores para el siguiente flujo de efectivo, si la tasa de descuento es del 10%.\n",
    "\n",
    "![assets/diagrama-vpn.png](assets/diagrama-vpn.png)\n"
   ],
   "metadata": {
    "slideshow": {
     "slide_type": "slide"
    }
   }
  },
  {
   "cell_type": "code",
   "execution_count": 1,
   "source": [
    "import cashflows as cf\n",
    "\n",
    "cflo = cf.cashflow(const_value=[-1000, 400, 360, 320, 280, 240], start=2000)\n",
    "cflo"
   ],
   "outputs": [
    {
     "output_type": "execute_result",
     "data": {
      "text/plain": [
       "2000   -1000.0\n",
       "2001     400.0\n",
       "2002     360.0\n",
       "2003     320.0\n",
       "2004     280.0\n",
       "2005     240.0\n",
       "Freq: A-DEC, dtype: float64"
      ]
     },
     "metadata": {},
     "execution_count": 1
    }
   ],
   "metadata": {
    "slideshow": {
     "slide_type": "fragment"
    }
   }
  },
  {
   "cell_type": "code",
   "execution_count": 2,
   "source": [
    "## valor presente neto\n",
    "cf.timevalue(cflo  = cflo,\n",
    "             prate = cf.interest_rate([10]*6, start=2000))"
   ],
   "outputs": [
    {
     "output_type": "execute_result",
     "data": {
      "text/plain": [
       "241.84264611831009"
      ]
     },
     "metadata": {},
     "execution_count": 2
    }
   ],
   "metadata": {
    "slideshow": {
     "slide_type": "fragment"
    }
   }
  },
  {
   "cell_type": "code",
   "execution_count": 3,
   "source": [
    "## valor futuro neto\n",
    "cf.timevalue(cflo  = cflo,\n",
    "             prate = cf.interest_rate([10]*6, start=2000),\n",
    "             base_date = 5  )"
   ],
   "outputs": [
    {
     "output_type": "execute_result",
     "data": {
      "text/plain": [
       "389.49000000000012"
      ]
     },
     "metadata": {},
     "execution_count": 3
    }
   ],
   "metadata": {
    "slideshow": {
     "slide_type": "fragment"
    }
   }
  },
  {
   "cell_type": "code",
   "execution_count": 4,
   "source": [
    "## la función puede recibir simultaneamente varios flujos de efectivo\n",
    "cf.timevalue(cflo  = [cflo, cflo, cflo],\n",
    "              prate = cf.interest_rate([10]*6, start=2000))"
   ],
   "outputs": [
    {
     "output_type": "execute_result",
     "data": {
      "text/plain": [
       "0    241.842646\n",
       "1    241.842646\n",
       "2    241.842646\n",
       "dtype: float64"
      ]
     },
     "metadata": {},
     "execution_count": 4
    }
   ],
   "metadata": {
    "slideshow": {
     "slide_type": "slide"
    }
   }
  },
  {
   "cell_type": "markdown",
   "source": [
    "### Tasa interna de retorno (IRR)\n",
    "\n",
    "$r^*$ -- tasa interna de retorno (irr). Es la tasa que hace el valor presente igual a cero.\n",
    "\n",
    "$$PV(r^*) = \\sum_{t=0}^N \\frac{F_t}{(1+r^*)^t} ~=~0$$"
   ],
   "metadata": {
    "slideshow": {
     "slide_type": "slide"
    }
   }
  },
  {
   "cell_type": "markdown",
   "source": [
    "**Ejemplo.--** Calcule la irr para el ejemplo anterior."
   ],
   "metadata": {
    "slideshow": {
     "slide_type": "fragment"
    }
   }
  },
  {
   "cell_type": "code",
   "execution_count": 6,
   "source": [
    "import cashflows as cf\n",
    "cflo = cf.cashflow(const_value=[-1000, 400, 360, 320, 280, 240], start=2000)\n",
    "cf.irr(cflo)"
   ],
   "outputs": [
    {
     "output_type": "execute_result",
     "data": {
      "text/plain": [
       "20.000000000000018"
      ]
     },
     "metadata": {},
     "execution_count": 6
    }
   ],
   "metadata": {}
  },
  {
   "cell_type": "code",
   "execution_count": 7,
   "source": [
    "cf.irr([cflo, cflo, cflo])"
   ],
   "outputs": [
    {
     "output_type": "execute_result",
     "data": {
      "text/plain": [
       "0    20.0\n",
       "1    20.0\n",
       "2    20.0\n",
       "dtype: float64"
      ]
     },
     "metadata": {},
     "execution_count": 7
    }
   ],
   "metadata": {}
  },
  {
   "cell_type": "markdown",
   "source": [
    "### Tasa Interna de Retorno Modificada\n",
    "\n",
    "![assets/mirr.png](assets/mirr.png)\n",
    "\n",
    "$$(1+MIRR)^N = \\frac{\\sum_{t=0}^N \\max(F_t,0) * (1+r_1)^{N-t} }{ \\sum_{t=0}^N \\min(F_t,0) * (1+r_2)^{-t} }$$\n",
    "\n",
    "$r_1$ -- tasa de reinversión.   \n",
    "$r_2$ -- tasa de financiamiento."
   ],
   "metadata": {
    "slideshow": {
     "slide_type": "slide"
    }
   }
  },
  {
   "cell_type": "code",
   "execution_count": 8,
   "source": [
    "cf.mirr(cflo=cflo, finance_rate=0, reinvest_rate=0)"
   ],
   "outputs": [
    {
     "output_type": "execute_result",
     "data": {
      "text/plain": [
       "9.8560543306117854"
      ]
     },
     "metadata": {},
     "execution_count": 8
    }
   ],
   "metadata": {
    "scrolled": true,
    "slideshow": {
     "slide_type": "fragment"
    }
   }
  },
  {
   "cell_type": "markdown",
   "source": [
    "### Análisis de sensibilidad\n",
    "\n",
    "Se realiza variando una de las variables del problema para determinar el efecto en el indicador utilizado.\n",
    "\n",
    "**Ejemplo.--** Se tiene un proyecto con la siguiente información:\n",
    "\n",
    "* Años de operación: 10\n",
    "* Años de construcción: 1\n",
    "* Producción: 1000 unidades por año\n",
    "* Precio de venta: `$` 10 por unidad\n",
    "* Costos operativos: `$` 220 por año\n",
    "* Costos de inversión: `$` 2000 depreciables a 10 años.\n",
    "* MARR = 10%\n",
    "* Impuesto de renta: 30%\n",
    "\n",
    "Construya la gráfica de sensibilidad del npv a la producción, el precio de venta y la inversión."
   ],
   "metadata": {
    "slideshow": {
     "slide_type": "slide"
    }
   }
  },
  {
   "cell_type": "code",
   "execution_count": 10,
   "source": [
    "## se construye una función que recibe la información \n",
    "## relevante y retorn el npv\n",
    "\n",
    "def project(marr,\n",
    "            produccion, \n",
    "            precio, \n",
    "            costo,\n",
    "            inversion):\n",
    "    \n",
    "    # ingresos operativos\n",
    "    ingre = cf.cashflow(const_value=[0] + [precio*produccion]*10, start=2018) \n",
    "    \n",
    "    # costos operativos\n",
    "    opera = cf.cashflow(const_value=[0] + [costo]*10, start=2018)\n",
    "    \n",
    "    # inversión\n",
    "    inver = cf.cashflow(const_value=[inversion] + [0]*10, start=2018)\n",
    "    \n",
    "    # vida útil de la inversión\n",
    "    life = cf.cashflow(const_value=[10] + [0]*10, start = 2018)\n",
    "    \n",
    "    # depreciación\n",
    "    dep = cf.depreciation_sl(costs=inver, life=life)['Depr']\n",
    "                        \n",
    "        \n",
    "        \n",
    "    # utilidad antes de impuestos\n",
    "    antes = ingre - opera - inver - dep\n",
    "    \n",
    "    tax_rate = cf.interest_rate(const_value=[30]*11, start=2018)\n",
    "    \n",
    "    impue = cf.after_tax_cashflow(antes, tax_rate=tax_rate)\n",
    "    \n",
    "    neto = antes + impue\n",
    "\n",
    "    npv = cf.timevalue(cflo=neto, prate=cf.interest_rate([marr]*11, start=2018))\n",
    "    \n",
    "    return npv"
   ],
   "outputs": [],
   "metadata": {
    "collapsed": true,
    "slideshow": {
     "slide_type": "slide"
    }
   }
  },
  {
   "cell_type": "code",
   "execution_count": 11,
   "source": [
    "project(marr=10, produccion=100, precio=10, costo=220, inversion=2000)"
   ],
   "outputs": [
    {
     "output_type": "execute_result",
     "data": {
      "text/plain": [
       "2633.0035977013285"
      ]
     },
     "metadata": {},
     "execution_count": 11
    }
   ],
   "metadata": {
    "slideshow": {
     "slide_type": "slide"
    }
   }
  },
  {
   "cell_type": "code",
   "execution_count": 12,
   "source": [
    "## resultados para diferentes valores de la MARR\n",
    "x=[]\n",
    "for i in [8, 10, 12]:\n",
    "    x.append(project( i, 100, 10, 220, 2000))\n",
    "x"
   ],
   "outputs": [
    {
     "output_type": "execute_result",
     "data": {
      "text/plain": [
       "[3059.4013748018465, 2633.0035977013285, 2260.2681634217906]"
      ]
     },
     "metadata": {},
     "execution_count": 12
    }
   ],
   "metadata": {
    "slideshow": {
     "slide_type": "fragment"
    }
   }
  },
  {
   "cell_type": "code",
   "execution_count": 13,
   "source": [
    "## resultados para diferentes valores de la inversión\n",
    "[project(10, 100, 10, 220, x) for x in [1600, 1800, 2000, 2200, 2400]]"
   ],
   "outputs": [
    {
     "output_type": "execute_result",
     "data": {
      "text/plain": [
       "[3352.5210871979721,\n",
       " 2992.7623424496505,\n",
       " 2633.0035977013285,\n",
       " 2273.244852953007,\n",
       " 1913.486108204685]"
      ]
     },
     "metadata": {},
     "execution_count": 13
    }
   ],
   "metadata": {
    "slideshow": {
     "slide_type": "fragment"
    }
   }
  },
  {
   "cell_type": "code",
   "execution_count": 14,
   "source": [
    "## resultados para diferentes valores del precio\n",
    "[project(10, 100, x, 220, 2000) for x in [8, 9, 10, 11, 12]]"
   ],
   "outputs": [
    {
     "output_type": "execute_result",
     "data": {
      "text/plain": [
       "[1035.4161502181119,\n",
       " 1834.2098739597204,\n",
       " 2633.0035977013285,\n",
       " 3431.7973214429371,\n",
       " 4230.5910451845448]"
      ]
     },
     "metadata": {},
     "execution_count": 14
    }
   ],
   "metadata": {
    "slideshow": {
     "slide_type": "fragment"
    }
   }
  },
  {
   "cell_type": "code",
   "execution_count": 15,
   "source": [
    "import matplotlib.pyplot as plt\n",
    "%matplotlib inline"
   ],
   "outputs": [],
   "metadata": {
    "collapsed": true,
    "slideshow": {
     "slide_type": "slide"
    }
   }
  },
  {
   "cell_type": "code",
   "execution_count": 16,
   "source": [
    "precio = [8, 9, 10, 11, 12]\n",
    "y = [project(0.10, 100, x, 220, 2000) for x in precio]"
   ],
   "outputs": [],
   "metadata": {
    "collapsed": true,
    "slideshow": {
     "slide_type": "fragment"
    }
   }
  },
  {
   "cell_type": "code",
   "execution_count": 17,
   "source": [
    "plt.plot(precio, y)"
   ],
   "outputs": [
    {
     "output_type": "execute_result",
     "data": {
      "text/plain": [
       "[<matplotlib.lines.Line2D at 0x11285d208>]"
      ]
     },
     "metadata": {},
     "execution_count": 17
    },
    {
     "output_type": "display_data",
     "data": {
      "text/plain": [
       "<matplotlib.figure.Figure at 0x109db9c18>"
      ],
      "image/png": "[encoded data removed]"
     },
     "metadata": {}
    }
   ],
   "metadata": {
    "scrolled": true,
    "slideshow": {
     "slide_type": "fragment"
    }
   }
  },
  {
   "cell_type": "markdown",
   "source": [
    "**Ejercicio.--** Grafique las sensibilidades al costo y a la producción."
   ],
   "metadata": {
    "slideshow": {
     "slide_type": "slide"
    }
   }
  }
 ],
 "metadata": {
  "anaconda-cloud": {},
  "celltoolbar": "Slideshow",
  "kernelspec": {
   "display_name": "Python 3",
   "language": "python",
   "name": "python3"
  },
  "language_info": {
   "codemirror_mode": {
    "name": "ipython",
    "version": 3
   },
   "file_extension": ".py",
   "mimetype": "text/x-python",
   "name": "python",
   "nbconvert_exporter": "python",
   "pygments_lexer": "ipython3",
   "version": "3.6.8"
  }
 },
 "nbformat": 4,
 "nbformat_minor": 2
}