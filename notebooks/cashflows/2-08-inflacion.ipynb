{
 "cells": [
  {
   "cell_type": "markdown",
   "source": [
    "Inflación\n",
    "===\n",
    "\n",
    "* 60:00 min | Última modificación: Juno 22, 2019 | YouTube"
   ],
   "metadata": {
    "slideshow": {
     "slide_type": "slide"
    }
   }
  },
  {
   "cell_type": "markdown",
   "source": [
    "**Preparación**"
   ],
   "metadata": {
    "slideshow": {
     "slide_type": "slide"
    }
   }
  },
  {
   "cell_type": "code",
   "execution_count": 1,
   "source": [
    "# Importa la librería financiera.\n",
    "# Solo es necesario ejecutar la importación una sola vez.\n",
    "import cashflows as cf"
   ],
   "outputs": [],
   "metadata": {
    "collapsed": true
   }
  },
  {
   "cell_type": "markdown",
   "source": [
    "### Inflación\n",
    "\n",
    "Se define como la pérdida de poder adquisitivo de la moneda. Existen diferentes medidas:\n",
    "\n",
    "* Indice de precios del consumidos (IPC).\n",
    "* Indice de precios del productor (IPP).\n",
    "* Medidas derivadas a partir del producto interno bruto.\n",
    "\n",
    "Tasa promedio de inflación: tasa porcentual anual que representa el incremento de los precios sobre un período de un año respecto al año anterior."
   ],
   "metadata": {
    "slideshow": {
     "slide_type": "slide"
    }
   }
  },
  {
   "cell_type": "markdown",
   "source": [
    "### Tratamiento de la inflación\n",
    "\n",
    "* Precios constantes.\n",
    "* Precios corrientes.\n",
    "* Tasa de interés del mercado $(i)$. Incluye una componente de utilidad económica y una de inflación.\n",
    "* Tasa de interés libre de inflación $(i')$. Representa únicamente la componente de utilidad económica.\n",
    "* Tasa de inflación general $(f)$. Incremento promedio anual en los precios de los bienes y servicios."
   ],
   "metadata": {
    "slideshow": {
     "slide_type": "slide"
    }
   }
  },
  {
   "cell_type": "markdown",
   "source": [
    "### Relaciones de equivalencia\n",
    "\n",
    "* $F_n'$: valor en moneda **constante** (en precios del período 0) que ocurren en el flujo de caja al final del período $n$.  \n",
    "\n",
    "* $F_n$: valor en moneda **corriente** que ocurren en el flujo de caja al final del período $n$.  \n",
    "\n",
    "Conversión entre moneda constante y corriente: \n",
    "\n",
    "$$F_n=F_n^{'}~(1+f)^n$$   \n",
    "\n",
    "Valor presente:\n",
    "\n",
    "$$P=F_n^{'}~(1+i^{'})^{-n} = F_n^{'}~(1+i)^{-n}$$ \n",
    "\n",
    "Relación entre tasas:\n",
    "\n",
    "$$i^{'}=\\frac{i-f}{1+f}$$ \n",
    "\n",
    "$$(1+i^{'})(1+f)=1+i$$"
   ],
   "metadata": {
    "slideshow": {
     "slide_type": "slide"
    }
   }
  },
  {
   "cell_type": "markdown",
   "source": [
    "`const2curr(cflo, inflation, base_date=0)`\n",
    "\n",
    "`curr2const(cflo, inflation, base_date=0)`\n",
    "\n",
    "Convierte un flujo de efectivo en corrientes a constante y viceversa.\n",
    "\n",
    "* `cflo` -- flujo de efectivo.\n",
    "* `inflation` -- tasa de inflación por período.\n",
    "* `base_date` -- período base para realizar los cálculos."
   ],
   "metadata": {
    "slideshow": {
     "slide_type": "slide"
    }
   }
  },
  {
   "cell_type": "markdown",
   "source": [
    "***Ejemplo.--*** Considere un flujo de caja constante de `$` 1000. Conviértalo a dinero del período 0 usando una inflación del 5% por período. "
   ],
   "metadata": {
    "slideshow": {
     "slide_type": "slide"
    }
   }
  },
  {
   "cell_type": "code",
   "execution_count": 2,
   "source": [
    "x = cf.cashflow(const_value=[1000]*10, start='2016')\n",
    "x"
   ],
   "outputs": [
    {
     "output_type": "execute_result",
     "data": {
      "text/plain": [
       "2016    1000.0\n",
       "2017    1000.0\n",
       "2018    1000.0\n",
       "2019    1000.0\n",
       "2020    1000.0\n",
       "2021    1000.0\n",
       "2022    1000.0\n",
       "2023    1000.0\n",
       "2024    1000.0\n",
       "2025    1000.0\n",
       "Freq: A-DEC, dtype: float64"
      ]
     },
     "metadata": {},
     "execution_count": 2
    }
   ],
   "metadata": {
    "slideshow": {
     "slide_type": "fragment"
    }
   }
  },
  {
   "cell_type": "code",
   "execution_count": 3,
   "source": [
    "cf.const2curr(cflo=x, \n",
    "              inflation=cf.interest_rate(const_value=[5]*10, start='2016'))"
   ],
   "outputs": [
    {
     "output_type": "execute_result",
     "data": {
      "text/plain": [
       "2016    1000.000000\n",
       "2017    1050.000000\n",
       "2018    1102.500000\n",
       "2019    1157.625000\n",
       "2020    1215.506250\n",
       "2021    1276.281563\n",
       "2022    1340.095641\n",
       "2023    1407.100423\n",
       "2024    1477.455444\n",
       "2025    1551.328216\n",
       "Freq: A-DEC, dtype: float64"
      ]
     },
     "metadata": {},
     "execution_count": 3
    }
   ],
   "metadata": {
    "scrolled": false,
    "slideshow": {
     "slide_type": "fragment"
    }
   }
  },
  {
   "cell_type": "markdown",
   "source": [
    "***Ejemplo.--*** Considere el mismo ejemplo anterior. Conviertalo a dinero del período 10."
   ],
   "metadata": {
    "slideshow": {
     "slide_type": "slide"
    }
   }
  },
  {
   "cell_type": "code",
   "execution_count": 4,
   "source": [
    "cf.const2curr(cflo=x, \n",
    "              inflation=cf.interest_rate(const_value=[5]*10, start='2016'),\n",
    "              base_date=9)"
   ],
   "outputs": [
    {
     "output_type": "execute_result",
     "data": {
      "text/plain": [
       "2016     644.608916\n",
       "2017     676.839362\n",
       "2018     710.681330\n",
       "2019     746.215397\n",
       "2020     783.526166\n",
       "2021     822.702475\n",
       "2022     863.837599\n",
       "2023     907.029478\n",
       "2024     952.380952\n",
       "2025    1000.000000\n",
       "Freq: A-DEC, dtype: float64"
      ]
     },
     "metadata": {},
     "execution_count": 4
    }
   ],
   "metadata": {
    "slideshow": {
     "slide_type": "fragment"
    }
   }
  },
  {
   "cell_type": "markdown",
   "source": [
    "**Ejemplo.--** Considere un flujo de caja constante de `$` 1000. Conviértalo a dinero del período 0 usando una inflación inicial del 5% por período. La inflación cambia al 10% a partir del período 5."
   ],
   "metadata": {
    "slideshow": {
     "slide_type": "slide"
    }
   }
  },
  {
   "cell_type": "code",
   "execution_count": 5,
   "source": [
    "## flujo de caja\n",
    "x = cf.cashflow(const_value=[1000]*10, start='2016')\n",
    "cf.textplot(x)"
   ],
   "outputs": [
    {
     "output_type": "stream",
     "name": "stdout",
     "text": [
      "time     value +------------------+------------------+\n",
      "2016   1000.00                    ********************\n",
      "2017   1000.00                    ********************\n",
      "2018   1000.00                    ********************\n",
      "2019   1000.00                    ********************\n",
      "2020   1000.00                    ********************\n",
      "2021   1000.00                    ********************\n",
      "2022   1000.00                    ********************\n",
      "2023   1000.00                    ********************\n",
      "2024   1000.00                    ********************\n",
      "2025   1000.00                    ********************\n"
     ]
    }
   ],
   "metadata": {
    "slideshow": {
     "slide_type": "fragment"
    }
   }
  },
  {
   "cell_type": "code",
   "execution_count": 6,
   "source": [
    "## inflación\n",
    "inflation = cf.interest_rate(const_value=[5]*10, start='2016', chgpts={5:10})\n",
    "cf.textplot(inflation)"
   ],
   "outputs": [
    {
     "output_type": "stream",
     "name": "stdout",
     "text": [
      "time   value +------------------+------------------+\n",
      "2016    5.00                    **********\n",
      "2017    5.00                    **********\n",
      "2018    5.00                    **********\n",
      "2019    5.00                    **********\n",
      "2020    5.00                    **********\n",
      "2021   10.00                    ********************\n",
      "2022   10.00                    ********************\n",
      "2023   10.00                    ********************\n",
      "2024   10.00                    ********************\n",
      "2025   10.00                    ********************\n"
     ]
    }
   ],
   "metadata": {
    "slideshow": {
     "slide_type": "fragment"
    }
   }
  },
  {
   "cell_type": "code",
   "execution_count": 7,
   "source": [
    "cf.const2curr(cflo=x, inflation=inflation)"
   ],
   "outputs": [
    {
     "output_type": "execute_result",
     "data": {
      "text/plain": [
       "2016    1000.000000\n",
       "2017    1050.000000\n",
       "2018    1102.500000\n",
       "2019    1157.625000\n",
       "2020    1215.506250\n",
       "2021    1337.056875\n",
       "2022    1470.762563\n",
       "2023    1617.838819\n",
       "2024    1779.622701\n",
       "2025    1957.584971\n",
       "Freq: A-DEC, dtype: float64"
      ]
     },
     "metadata": {},
     "execution_count": 7
    }
   ],
   "metadata": {
    "scrolled": true,
    "slideshow": {
     "slide_type": "fragment"
    }
   }
  }
 ],
 "metadata": {
  "anaconda-cloud": {},
  "celltoolbar": "Slideshow",
  "kernelspec": {
   "display_name": "Python 3",
   "language": "python",
   "name": "python3"
  },
  "language_info": {
   "codemirror_mode": {
    "name": "ipython",
    "version": 3
   },
   "file_extension": ".py",
   "mimetype": "text/x-python",
   "name": "python",
   "nbconvert_exporter": "python",
   "pygments_lexer": "ipython3",
   "version": "3.6.8"
  }
 },
 "nbformat": 4,
 "nbformat_minor": 2
}