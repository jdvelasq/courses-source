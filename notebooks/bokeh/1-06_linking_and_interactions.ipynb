{
 "cells": [
  {
   "cell_type": "markdown",
   "id": "f15febfa-a859-431e-9172-b6094353462b",
   "metadata": {
    "tags": []
   },
   "source": [
    "Encadenado y acciones\n",
    "==========================================\n",
    "\n",
    "* 17:13 min | Última modificación: Diciembre 13, 2021 | [YouTube](https://youtu.be/oTOaNpHBB7U)"
   ]
  },
  {
   "cell_type": "code",
   "execution_count": 1,
   "id": "014b88be-1db7-4c2e-872b-70a8636cd86e",
   "metadata": {},
   "outputs": [
    {
     "name": "stdout",
     "output_type": "stream",
     "text": [
      "\u001b[33mWARNING: Running pip as the 'root' user can result in broken permissions and conflicting behaviour with the system package manager. It is recommended to use a virtual environment instead: https://pip.pypa.io/warnings/venv\u001b[0m\n"
     ]
    }
   ],
   "source": [
    "!pip3 install -q bokeh==2.3.3"
   ]
  },
  {
   "cell_type": "code",
   "execution_count": 2,
   "id": "3249bba3-25d5-49ea-8bee-49b2cdf3e6da",
   "metadata": {},
   "outputs": [
    {
     "data": {
      "text/html": [
       "\n",
       "    <div class=\"bk-root\">\n",
       "        <a href=\"https://bokeh.org\" target=\"_blank\" class=\"bk-logo bk-logo-small bk-logo-notebook\"></a>\n",
       "        <span id=\"1001\">Loading BokehJS ...</span>\n",
       "    </div>"
      ]
     },
     "metadata": {},
     "output_type": "display_data"
    },
    {
     "data": {
      "application/javascript": [
       "\n",
       "(function(root) {\n",
       "  function now() {\n",
       "    return new Date();\n",
       "  }\n",
       "\n",
       "  var force = true;\n",
       "\n",
       "  if (typeof root._bokeh_onload_callbacks === \"undefined\" || force === true) {\n",
       "    root._bokeh_onload_callbacks = [];\n",
       "    root._bokeh_is_loading = undefined;\n",
       "  }\n",
       "\n",
       "  var JS_MIME_TYPE = 'application/javascript';\n",
       "  var HTML_MIME_TYPE = 'text/html';\n",
       "  var EXEC_MIME_TYPE = 'application/vnd.bokehjs_exec.v0+json';\n",
       "  var CLASS_NAME = 'output_bokeh rendered_html';\n",
       "\n",
       "  /**\n",
       "   * Render data to the DOM node\n",
       "   */\n",
       "  function render(props, node) {\n",
       "    var script = document.createElement(\"script\");\n",
       "    node.appendChild(script);\n",
       "  }\n",
       "\n",
       "  /**\n",
       "   * Handle when an output is cleared or removed\n",
       "   */\n",
       "  function handleClearOutput(event, handle) {\n",
       "    var cell = handle.cell;\n",
       "\n",
       "    var id = cell.output_area._bokeh_element_id;\n",
       "    var server_id = cell.output_area._bokeh_server_id;\n",
       "    // Clean up Bokeh references\n",
       "    if (id != null && id in Bokeh.index) {\n",
       "      Bokeh.index[id].model.document.clear();\n",
       "      delete Bokeh.index[id];\n",
       "    }\n",
       "\n",
       "    if (server_id !== undefined) {\n",
       "      // Clean up Bokeh references\n",
       "      var cmd = \"from bokeh.io.state import curstate; print(curstate().uuid_to_server['\" + server_id + \"'].get_sessions()[0].document.roots[0]._id)\";\n",
       "      cell.notebook.kernel.execute(cmd, {\n",
       "        iopub: {\n",
       "          output: function(msg) {\n",
       "            var id = msg.content.text.trim();\n",
       "            if (id in Bokeh.index) {\n",
       "              Bokeh.index[id].model.document.clear();\n",
       "              delete Bokeh.index[id];\n",
       "            }\n",
       "          }\n",
       "        }\n",
       "      });\n",
       "      // Destroy server and session\n",
       "      var cmd = \"import bokeh.io.notebook as ion; ion.destroy_server('\" + server_id + \"')\";\n",
       "      cell.notebook.kernel.execute(cmd);\n",
       "    }\n",
       "  }\n",
       "\n",
       "  /**\n",
       "   * Handle when a new output is added\n",
       "   */\n",
       "  function handleAddOutput(event, handle) {\n",
       "    var output_area = handle.output_area;\n",
       "    var output = handle.output;\n",
       "\n",
       "    // limit handleAddOutput to display_data with EXEC_MIME_TYPE content only\n",
       "    if ((output.output_type != \"display_data\") || (!Object.prototype.hasOwnProperty.call(output.data, EXEC_MIME_TYPE))) {\n",
       "      return\n",
       "    }\n",
       "\n",
       "    var toinsert = output_area.element.find(\".\" + CLASS_NAME.split(' ')[0]);\n",
       "\n",
       "    if (output.metadata[EXEC_MIME_TYPE][\"id\"] !== undefined) {\n",
       "      toinsert[toinsert.length - 1].firstChild.textContent = output.data[JS_MIME_TYPE];\n",
       "      // store reference to embed id on output_area\n",
       "      output_area._bokeh_element_id = output.metadata[EXEC_MIME_TYPE][\"id\"];\n",
       "    }\n",
       "    if (output.metadata[EXEC_MIME_TYPE][\"server_id\"] !== undefined) {\n",
       "      var bk_div = document.createElement(\"div\");\n",
       "      bk_div.innerHTML = output.data[HTML_MIME_TYPE];\n",
       "      var script_attrs = bk_div.children[0].attributes;\n",
       "      for (var i = 0; i < script_attrs.length; i++) {\n",
       "        toinsert[toinsert.length - 1].firstChild.setAttribute(script_attrs[i].name, script_attrs[i].value);\n",
       "        toinsert[toinsert.length - 1].firstChild.textContent = bk_div.children[0].textContent\n",
       "      }\n",
       "      // store reference to server id on output_area\n",
       "      output_area._bokeh_server_id = output.metadata[EXEC_MIME_TYPE][\"server_id\"];\n",
       "    }\n",
       "  }\n",
       "\n",
       "  function register_renderer(events, OutputArea) {\n",
       "\n",
       "    function append_mime(data, metadata, element) {\n",
       "      // create a DOM node to render to\n",
       "      var toinsert = this.create_output_subarea(\n",
       "        metadata,\n",
       "        CLASS_NAME,\n",
       "        EXEC_MIME_TYPE\n",
       "      );\n",
       "      this.keyboard_manager.register_events(toinsert);\n",
       "      // Render to node\n",
       "      var props = {data: data, metadata: metadata[EXEC_MIME_TYPE]};\n",
       "      render(props, toinsert[toinsert.length - 1]);\n",
       "      element.append(toinsert);\n",
       "      return toinsert\n",
       "    }\n",
       "\n",
       "    /* Handle when an output is cleared or removed */\n",
       "    events.on('clear_output.CodeCell', handleClearOutput);\n",
       "    events.on('delete.Cell', handleClearOutput);\n",
       "\n",
       "    /* Handle when a new output is added */\n",
       "    events.on('output_added.OutputArea', handleAddOutput);\n",
       "\n",
       "    /**\n",
       "     * Register the mime type and append_mime function with output_area\n",
       "     */\n",
       "    OutputArea.prototype.register_mime_type(EXEC_MIME_TYPE, append_mime, {\n",
       "      /* Is output safe? */\n",
       "      safe: true,\n",
       "      /* Index of renderer in `output_area.display_order` */\n",
       "      index: 0\n",
       "    });\n",
       "  }\n",
       "\n",
       "  // register the mime type if in Jupyter Notebook environment and previously unregistered\n",
       "  if (root.Jupyter !== undefined) {\n",
       "    var events = require('base/js/events');\n",
       "    var OutputArea = require('notebook/js/outputarea').OutputArea;\n",
       "\n",
       "    if (OutputArea.prototype.mime_types().indexOf(EXEC_MIME_TYPE) == -1) {\n",
       "      register_renderer(events, OutputArea);\n",
       "    }\n",
       "  }\n",
       "\n",
       "  \n",
       "  if (typeof (root._bokeh_timeout) === \"undefined\" || force === true) {\n",
       "    root._bokeh_timeout = Date.now() + 5000;\n",
       "    root._bokeh_failed_load = false;\n",
       "  }\n",
       "\n",
       "  var NB_LOAD_WARNING = {'data': {'text/html':\n",
       "     \"<div style='background-color: #fdd'>\\n\"+\n",
       "     \"<p>\\n\"+\n",
       "     \"BokehJS does not appear to have successfully loaded. If loading BokehJS from CDN, this \\n\"+\n",
       "     \"may be due to a slow or bad network connection. Possible fixes:\\n\"+\n",
       "     \"</p>\\n\"+\n",
       "     \"<ul>\\n\"+\n",
       "     \"<li>re-rerun `output_notebook()` to attempt to load from CDN again, or</li>\\n\"+\n",
       "     \"<li>use INLINE resources instead, as so:</li>\\n\"+\n",
       "     \"</ul>\\n\"+\n",
       "     \"<code>\\n\"+\n",
       "     \"from bokeh.resources import INLINE\\n\"+\n",
       "     \"output_notebook(resources=INLINE)\\n\"+\n",
       "     \"</code>\\n\"+\n",
       "     \"</div>\"}};\n",
       "\n",
       "  function display_loaded() {\n",
       "    var el = document.getElementById(\"1001\");\n",
       "    if (el != null) {\n",
       "      el.textContent = \"BokehJS is loading...\";\n",
       "    }\n",
       "    if (root.Bokeh !== undefined) {\n",
       "      if (el != null) {\n",
       "        el.textContent = \"BokehJS \" + root.Bokeh.version + \" successfully loaded.\";\n",
       "      }\n",
       "    } else if (Date.now() < root._bokeh_timeout) {\n",
       "      setTimeout(display_loaded, 100)\n",
       "    }\n",
       "  }\n",
       "\n",
       "\n",
       "  function run_callbacks() {\n",
       "    try {\n",
       "      root._bokeh_onload_callbacks.forEach(function(callback) {\n",
       "        if (callback != null)\n",
       "          callback();\n",
       "      });\n",
       "    } finally {\n",
       "      delete root._bokeh_onload_callbacks\n",
       "    }\n",
       "    console.debug(\"Bokeh: all callbacks have finished\");\n",
       "  }\n",
       "\n",
       "  function load_libs(css_urls, js_urls, callback) {\n",
       "    if (css_urls == null) css_urls = [];\n",
       "    if (js_urls == null) js_urls = [];\n",
       "\n",
       "    root._bokeh_onload_callbacks.push(callback);\n",
       "    if (root._bokeh_is_loading > 0) {\n",
       "      console.debug(\"Bokeh: BokehJS is being loaded, scheduling callback at\", now());\n",
       "      return null;\n",
       "    }\n",
       "    if (js_urls == null || js_urls.length === 0) {\n",
       "      run_callbacks();\n",
       "      return null;\n",
       "    }\n",
       "    console.debug(\"Bokeh: BokehJS not loaded, scheduling load and callback at\", now());\n",
       "    root._bokeh_is_loading = css_urls.length + js_urls.length;\n",
       "\n",
       "    function on_load() {\n",
       "      root._bokeh_is_loading--;\n",
       "      if (root._bokeh_is_loading === 0) {\n",
       "        console.debug(\"Bokeh: all BokehJS libraries/stylesheets loaded\");\n",
       "        run_callbacks()\n",
       "      }\n",
       "    }\n",
       "\n",
       "    function on_error(url) {\n",
       "      console.error(\"failed to load \" + url);\n",
       "    }\n",
       "\n",
       "    for (let i = 0; i < css_urls.length; i++) {\n",
       "      const url = css_urls[i];\n",
       "      const element = document.createElement(\"link\");\n",
       "      element.onload = on_load;\n",
       "      element.onerror = on_error.bind(null, url);\n",
       "      element.rel = \"stylesheet\";\n",
       "      element.type = \"text/css\";\n",
       "      element.href = url;\n",
       "      console.debug(\"Bokeh: injecting link tag for BokehJS stylesheet: \", url);\n",
       "      document.body.appendChild(element);\n",
       "    }\n",
       "\n",
       "    const hashes = {\"https://cdn.bokeh.org/bokeh/release/bokeh-2.3.3.min.js\": \"dM3QQsP+wXdHg42wTqW85BjZQdLNNIXqlPw/BgKoExPmTG7ZLML4EGqLMfqHT6ON\", \"https://cdn.bokeh.org/bokeh/release/bokeh-tables-2.3.3.min.js\": \"8x57I4YuIfu8XyZfFo0XVr2WAT8EK4rh/uDe3wF7YuW2FNUSNEpJbsPaB1nJ2fz2\", \"https://cdn.bokeh.org/bokeh/release/bokeh-widgets-2.3.3.min.js\": \"3QTqdz9LyAm2i0sG5XTePsHec3UHWwVsrOL68SYRoAXsafvfAyqtQ+h440+qIBhS\"};\n",
       "\n",
       "    for (let i = 0; i < js_urls.length; i++) {\n",
       "      const url = js_urls[i];\n",
       "      const element = document.createElement('script');\n",
       "      element.onload = on_load;\n",
       "      element.onerror = on_error.bind(null, url);\n",
       "      element.async = false;\n",
       "      element.src = url;\n",
       "      if (url in hashes) {\n",
       "        element.crossOrigin = \"anonymous\";\n",
       "        element.integrity = \"sha384-\" + hashes[url];\n",
       "      }\n",
       "      console.debug(\"Bokeh: injecting script tag for BokehJS library: \", url);\n",
       "      document.head.appendChild(element);\n",
       "    }\n",
       "  };\n",
       "\n",
       "  function inject_raw_css(css) {\n",
       "    const element = document.createElement(\"style\");\n",
       "    element.appendChild(document.createTextNode(css));\n",
       "    document.body.appendChild(element);\n",
       "  }\n",
       "\n",
       "  \n",
       "  var js_urls = [\"https://cdn.bokeh.org/bokeh/release/bokeh-2.3.3.min.js\", \"https://cdn.bokeh.org/bokeh/release/bokeh-widgets-2.3.3.min.js\", \"https://cdn.bokeh.org/bokeh/release/bokeh-tables-2.3.3.min.js\"];\n",
       "  var css_urls = [];\n",
       "  \n",
       "\n",
       "  var inline_js = [\n",
       "    function(Bokeh) {\n",
       "      Bokeh.set_log_level(\"info\");\n",
       "    },\n",
       "    function(Bokeh) {\n",
       "    \n",
       "    \n",
       "    }\n",
       "  ];\n",
       "\n",
       "  function run_inline_js() {\n",
       "    \n",
       "    if (root.Bokeh !== undefined || force === true) {\n",
       "      \n",
       "    for (var i = 0; i < inline_js.length; i++) {\n",
       "      inline_js[i].call(root, root.Bokeh);\n",
       "    }\n",
       "    if (force === true) {\n",
       "        display_loaded();\n",
       "      }} else if (Date.now() < root._bokeh_timeout) {\n",
       "      setTimeout(run_inline_js, 100);\n",
       "    } else if (!root._bokeh_failed_load) {\n",
       "      console.log(\"Bokeh: BokehJS failed to load within specified timeout.\");\n",
       "      root._bokeh_failed_load = true;\n",
       "    } else if (force !== true) {\n",
       "      var cell = $(document.getElementById(\"1001\")).parents('.cell').data().cell;\n",
       "      cell.output_area.append_execute_result(NB_LOAD_WARNING)\n",
       "    }\n",
       "\n",
       "  }\n",
       "\n",
       "  if (root._bokeh_is_loading === 0) {\n",
       "    console.debug(\"Bokeh: BokehJS loaded, going straight to plotting\");\n",
       "    run_inline_js();\n",
       "  } else {\n",
       "    load_libs(css_urls, js_urls, function() {\n",
       "      console.debug(\"Bokeh: BokehJS plotting callback run at\", now());\n",
       "      run_inline_js();\n",
       "    });\n",
       "  }\n",
       "}(window));"
      ],
      "application/vnd.bokehjs_load.v0+json": "\n(function(root) {\n  function now() {\n    return new Date();\n  }\n\n  var force = true;\n\n  if (typeof root._bokeh_onload_callbacks === \"undefined\" || force === true) {\n    root._bokeh_onload_callbacks = [];\n    root._bokeh_is_loading = undefined;\n  }\n\n  \n\n  \n  if (typeof (root._bokeh_timeout) === \"undefined\" || force === true) {\n    root._bokeh_timeout = Date.now() + 5000;\n    root._bokeh_failed_load = false;\n  }\n\n  var NB_LOAD_WARNING = {'data': {'text/html':\n     \"<div style='background-color: #fdd'>\\n\"+\n     \"<p>\\n\"+\n     \"BokehJS does not appear to have successfully loaded. If loading BokehJS from CDN, this \\n\"+\n     \"may be due to a slow or bad network connection. Possible fixes:\\n\"+\n     \"</p>\\n\"+\n     \"<ul>\\n\"+\n     \"<li>re-rerun `output_notebook()` to attempt to load from CDN again, or</li>\\n\"+\n     \"<li>use INLINE resources instead, as so:</li>\\n\"+\n     \"</ul>\\n\"+\n     \"<code>\\n\"+\n     \"from bokeh.resources import INLINE\\n\"+\n     \"output_notebook(resources=INLINE)\\n\"+\n     \"</code>\\n\"+\n     \"</div>\"}};\n\n  function display_loaded() {\n    var el = document.getElementById(\"1001\");\n    if (el != null) {\n      el.textContent = \"BokehJS is loading...\";\n    }\n    if (root.Bokeh !== undefined) {\n      if (el != null) {\n        el.textContent = \"BokehJS \" + root.Bokeh.version + \" successfully loaded.\";\n      }\n    } else if (Date.now() < root._bokeh_timeout) {\n      setTimeout(display_loaded, 100)\n    }\n  }\n\n\n  function run_callbacks() {\n    try {\n      root._bokeh_onload_callbacks.forEach(function(callback) {\n        if (callback != null)\n          callback();\n      });\n    } finally {\n      delete root._bokeh_onload_callbacks\n    }\n    console.debug(\"Bokeh: all callbacks have finished\");\n  }\n\n  function load_libs(css_urls, js_urls, callback) {\n    if (css_urls == null) css_urls = [];\n    if (js_urls == null) js_urls = [];\n\n    root._bokeh_onload_callbacks.push(callback);\n    if (root._bokeh_is_loading > 0) {\n      console.debug(\"Bokeh: BokehJS is being loaded, scheduling callback at\", now());\n      return null;\n    }\n    if (js_urls == null || js_urls.length === 0) {\n      run_callbacks();\n      return null;\n    }\n    console.debug(\"Bokeh: BokehJS not loaded, scheduling load and callback at\", now());\n    root._bokeh_is_loading = css_urls.length + js_urls.length;\n\n    function on_load() {\n      root._bokeh_is_loading--;\n      if (root._bokeh_is_loading === 0) {\n        console.debug(\"Bokeh: all BokehJS libraries/stylesheets loaded\");\n        run_callbacks()\n      }\n    }\n\n    function on_error(url) {\n      console.error(\"failed to load \" + url);\n    }\n\n    for (let i = 0; i < css_urls.length; i++) {\n      const url = css_urls[i];\n      const element = document.createElement(\"link\");\n      element.onload = on_load;\n      element.onerror = on_error.bind(null, url);\n      element.rel = \"stylesheet\";\n      element.type = \"text/css\";\n      element.href = url;\n      console.debug(\"Bokeh: injecting link tag for BokehJS stylesheet: \", url);\n      document.body.appendChild(element);\n    }\n\n    const hashes = {\"https://cdn.bokeh.org/bokeh/release/bokeh-2.3.3.min.js\": \"dM3QQsP+wXdHg42wTqW85BjZQdLNNIXqlPw/BgKoExPmTG7ZLML4EGqLMfqHT6ON\", \"https://cdn.bokeh.org/bokeh/release/bokeh-tables-2.3.3.min.js\": \"8x57I4YuIfu8XyZfFo0XVr2WAT8EK4rh/uDe3wF7YuW2FNUSNEpJbsPaB1nJ2fz2\", \"https://cdn.bokeh.org/bokeh/release/bokeh-widgets-2.3.3.min.js\": \"3QTqdz9LyAm2i0sG5XTePsHec3UHWwVsrOL68SYRoAXsafvfAyqtQ+h440+qIBhS\"};\n\n    for (let i = 0; i < js_urls.length; i++) {\n      const url = js_urls[i];\n      const element = document.createElement('script');\n      element.onload = on_load;\n      element.onerror = on_error.bind(null, url);\n      element.async = false;\n      element.src = url;\n      if (url in hashes) {\n        element.crossOrigin = \"anonymous\";\n        element.integrity = \"sha384-\" + hashes[url];\n      }\n      console.debug(\"Bokeh: injecting script tag for BokehJS library: \", url);\n      document.head.appendChild(element);\n    }\n  };\n\n  function inject_raw_css(css) {\n    const element = document.createElement(\"style\");\n    element.appendChild(document.createTextNode(css));\n    document.body.appendChild(element);\n  }\n\n  \n  var js_urls = [\"https://cdn.bokeh.org/bokeh/release/bokeh-2.3.3.min.js\", \"https://cdn.bokeh.org/bokeh/release/bokeh-widgets-2.3.3.min.js\", \"https://cdn.bokeh.org/bokeh/release/bokeh-tables-2.3.3.min.js\"];\n  var css_urls = [];\n  \n\n  var inline_js = [\n    function(Bokeh) {\n      Bokeh.set_log_level(\"info\");\n    },\n    function(Bokeh) {\n    \n    \n    }\n  ];\n\n  function run_inline_js() {\n    \n    if (root.Bokeh !== undefined || force === true) {\n      \n    for (var i = 0; i < inline_js.length; i++) {\n      inline_js[i].call(root, root.Bokeh);\n    }\n    if (force === true) {\n        display_loaded();\n      }} else if (Date.now() < root._bokeh_timeout) {\n      setTimeout(run_inline_js, 100);\n    } else if (!root._bokeh_failed_load) {\n      console.log(\"Bokeh: BokehJS failed to load within specified timeout.\");\n      root._bokeh_failed_load = true;\n    } else if (force !== true) {\n      var cell = $(document.getElementById(\"1001\")).parents('.cell').data().cell;\n      cell.output_area.append_execute_result(NB_LOAD_WARNING)\n    }\n\n  }\n\n  if (root._bokeh_is_loading === 0) {\n    console.debug(\"Bokeh: BokehJS loaded, going straight to plotting\");\n    run_inline_js();\n  } else {\n    load_libs(css_urls, js_urls, function() {\n      console.debug(\"Bokeh: BokehJS plotting callback run at\", now());\n      run_inline_js();\n    });\n  }\n}(window));"
     },
     "metadata": {},
     "output_type": "display_data"
    }
   ],
   "source": [
    "#\n",
    "# Esta celda habilita la salida de los gráficos en jupyter lab.\n",
    "#\n",
    "from bokeh.io import output_notebook\n",
    "\n",
    "output_notebook()"
   ]
  },
  {
   "cell_type": "code",
   "execution_count": 3,
   "id": "f018af6b-bfe6-4db5-898f-7ec119b04fa1",
   "metadata": {},
   "outputs": [],
   "source": [
    "from bokeh.io import show\n",
    "from bokeh.plotting import figure"
   ]
  },
  {
   "cell_type": "code",
   "execution_count": 4,
   "id": "0c01e972-dbec-4115-ba60-9be92396e3d8",
   "metadata": {},
   "outputs": [
    {
     "data": {
      "text/html": [
       "\n",
       "\n",
       "\n",
       "\n",
       "\n",
       "\n",
       "  <div class=\"bk-root\" id=\"4f6f39f1-b1eb-4cef-99b3-b62368f58a13\" data-root-id=\"1117\"></div>\n"
      ]
     },
     "metadata": {},
     "output_type": "display_data"
    },
    {
     "data": {
      "application/javascript": [
       "(function(root) {\n",
       "  function embed_document(root) {\n",
       "    \n",
       "  var docs_json = {\"efdbbf90-237e-45c2-a76e-24e11d99f945\":{\"defs\":[],\"roots\":{\"references\":[{\"attributes\":{\"children\":[{\"id\":\"1116\"},{\"id\":\"1114\"}]},\"id\":\"1117\",\"type\":\"Column\"},{\"attributes\":{\"data\":{\"x\":[0,1,2,3,4,5,6,7,8,9,10],\"y\":[10,9,8,7,6,5,4,3,2,1,0]},\"selected\":{\"id\":\"1101\"},\"selection_policy\":{\"id\":\"1100\"}},\"id\":\"1050\",\"type\":\"ColumnDataSource\"},{\"attributes\":{},\"id\":\"1106\",\"type\":\"BasicTickFormatter\"},{\"attributes\":{},\"id\":\"1013\",\"type\":\"BasicTicker\"},{\"attributes\":{},\"id\":\"1071\",\"type\":\"PanTool\"},{\"attributes\":{},\"id\":\"1101\",\"type\":\"Selection\"},{\"attributes\":{\"axis\":{\"id\":\"1012\"},\"ticker\":null},\"id\":\"1015\",\"type\":\"Grid\"},{\"attributes\":{},\"id\":\"1103\",\"type\":\"Title\"},{\"attributes\":{\"fill_alpha\":{\"value\":0.1},\"fill_color\":{\"value\":\"olive\"},\"line_alpha\":{\"value\":0.1},\"line_color\":{\"value\":\"olive\"},\"marker\":{\"value\":\"square\"},\"size\":{\"value\":10},\"x\":{\"field\":\"x\"},\"y\":{\"field\":\"y\"}},\"id\":\"1078\",\"type\":\"Scatter\"},{\"attributes\":{\"data_source\":{\"id\":\"1076\"},\"glyph\":{\"id\":\"1077\"},\"hover_glyph\":null,\"muted_glyph\":null,\"nonselection_glyph\":{\"id\":\"1078\"},\"view\":{\"id\":\"1080\"}},\"id\":\"1079\",\"type\":\"GlyphRenderer\"},{\"attributes\":{\"source\":{\"id\":\"1025\"}},\"id\":\"1029\",\"type\":\"CDSView\"},{\"attributes\":{\"formatter\":{\"id\":\"1087\"},\"major_label_policy\":{\"id\":\"1088\"},\"ticker\":{\"id\":\"1017\"}},\"id\":\"1016\",\"type\":\"LinearAxis\"},{\"attributes\":{},\"id\":\"1033\",\"type\":\"LinearScale\"},{\"attributes\":{\"fill_color\":{\"value\":\"olive\"},\"line_color\":{\"value\":\"olive\"},\"marker\":{\"value\":\"square\"},\"size\":{\"value\":10},\"x\":{\"field\":\"x\"},\"y\":{\"field\":\"y\"}},\"id\":\"1077\",\"type\":\"Scatter\"},{\"attributes\":{},\"id\":\"1111\",\"type\":\"UnionRenderers\"},{\"attributes\":{},\"id\":\"1017\",\"type\":\"BasicTicker\"},{\"attributes\":{},\"id\":\"1081\",\"type\":\"Title\"},{\"attributes\":{},\"id\":\"1035\",\"type\":\"LinearScale\"},{\"attributes\":{},\"id\":\"1112\",\"type\":\"Selection\"},{\"attributes\":{\"formatter\":{\"id\":\"1095\"},\"major_label_policy\":{\"id\":\"1096\"},\"ticker\":{\"id\":\"1038\"}},\"id\":\"1037\",\"type\":\"LinearAxis\"},{\"attributes\":{\"source\":{\"id\":\"1076\"}},\"id\":\"1080\",\"type\":\"CDSView\"},{\"attributes\":{\"toolbars\":[{\"id\":\"1022\"},{\"id\":\"1047\"},{\"id\":\"1073\"}],\"tools\":[{\"id\":\"1020\"},{\"id\":\"1021\"},{\"id\":\"1045\"},{\"id\":\"1046\"},{\"id\":\"1071\"},{\"id\":\"1072\"}]},\"id\":\"1115\",\"type\":\"ProxyToolbar\"},{\"attributes\":{},\"id\":\"1020\",\"type\":\"PanTool\"},{\"attributes\":{\"source\":{\"id\":\"1050\"}},\"id\":\"1054\",\"type\":\"CDSView\"},{\"attributes\":{},\"id\":\"1038\",\"type\":\"BasicTicker\"},{\"attributes\":{\"toolbar\":{\"id\":\"1115\"},\"toolbar_location\":\"above\"},\"id\":\"1116\",\"type\":\"ToolbarBox\"},{\"attributes\":{\"data_source\":{\"id\":\"1050\"},\"glyph\":{\"id\":\"1051\"},\"hover_glyph\":null,\"muted_glyph\":null,\"nonselection_glyph\":{\"id\":\"1052\"},\"view\":{\"id\":\"1054\"}},\"id\":\"1053\",\"type\":\"GlyphRenderer\"},{\"attributes\":{},\"id\":\"1084\",\"type\":\"BasicTickFormatter\"},{\"attributes\":{},\"id\":\"1021\",\"type\":\"WheelZoomTool\"},{\"attributes\":{\"axis\":{\"id\":\"1037\"},\"ticker\":null},\"id\":\"1040\",\"type\":\"Grid\"},{\"attributes\":{\"data\":{\"x\":[0,1,2,3,4,5,6,7,8,9,10],\"y\":[5,4,3,2,1,0,1,2,3,4,5]},\"selected\":{\"id\":\"1112\"},\"selection_policy\":{\"id\":\"1111\"}},\"id\":\"1076\",\"type\":\"ColumnDataSource\"},{\"attributes\":{},\"id\":\"1085\",\"type\":\"AllLabels\"},{\"attributes\":{\"formatter\":{\"id\":\"1098\"},\"major_label_policy\":{\"id\":\"1099\"},\"ticker\":{\"id\":\"1042\"}},\"id\":\"1041\",\"type\":\"LinearAxis\"},{\"attributes\":{\"fill_alpha\":{\"value\":0.1},\"fill_color\":{\"value\":\"navy\"},\"line_alpha\":{\"value\":0.1},\"line_color\":{\"value\":\"navy\"},\"size\":{\"value\":10},\"x\":{\"field\":\"x\"},\"y\":{\"field\":\"y\"}},\"id\":\"1027\",\"type\":\"Circle\"},{\"attributes\":{\"active_multi\":null,\"tools\":[{\"id\":\"1020\"},{\"id\":\"1021\"}]},\"id\":\"1022\",\"type\":\"Toolbar\"},{\"attributes\":{},\"id\":\"1087\",\"type\":\"BasicTickFormatter\"},{\"attributes\":{\"fill_alpha\":{\"value\":0.1},\"fill_color\":{\"value\":\"firebrick\"},\"line_alpha\":{\"value\":0.1},\"line_color\":{\"value\":\"firebrick\"},\"marker\":{\"value\":\"triangle\"},\"size\":{\"value\":10},\"x\":{\"field\":\"x\"},\"y\":{\"field\":\"y\"}},\"id\":\"1052\",\"type\":\"Scatter\"},{\"attributes\":{},\"id\":\"1042\",\"type\":\"BasicTicker\"},{\"attributes\":{},\"id\":\"1057\",\"type\":\"DataRange1d\"},{\"attributes\":{},\"id\":\"1109\",\"type\":\"BasicTickFormatter\"},{\"attributes\":{},\"id\":\"1088\",\"type\":\"AllLabels\"},{\"attributes\":{\"active_multi\":null,\"tools\":[{\"id\":\"1071\"},{\"id\":\"1072\"}]},\"id\":\"1073\",\"type\":\"Toolbar\"},{\"attributes\":{\"axis\":{\"id\":\"1041\"},\"dimension\":1,\"ticker\":null},\"id\":\"1044\",\"type\":\"Grid\"},{\"attributes\":{},\"id\":\"1100\",\"type\":\"UnionRenderers\"},{\"attributes\":{},\"id\":\"1059\",\"type\":\"LinearScale\"},{\"attributes\":{\"data\":{\"x\":[0,1,2,3,4,5,6,7,8,9,10],\"y\":[0,1,2,3,4,5,6,7,8,9,10]},\"selected\":{\"id\":\"1090\"},\"selection_policy\":{\"id\":\"1089\"}},\"id\":\"1025\",\"type\":\"ColumnDataSource\"},{\"attributes\":{},\"id\":\"1089\",\"type\":\"UnionRenderers\"},{\"attributes\":{\"below\":[{\"id\":\"1012\"}],\"center\":[{\"id\":\"1015\"},{\"id\":\"1019\"}],\"height\":250,\"left\":[{\"id\":\"1016\"}],\"renderers\":[{\"id\":\"1028\"}],\"title\":{\"id\":\"1081\"},\"toolbar\":{\"id\":\"1022\"},\"toolbar_location\":null,\"width\":250,\"x_range\":{\"id\":\"1004\"},\"x_scale\":{\"id\":\"1008\"},\"y_range\":{\"id\":\"1006\"},\"y_scale\":{\"id\":\"1010\"}},\"id\":\"1003\",\"subtype\":\"Figure\",\"type\":\"Plot\"},{\"attributes\":{\"below\":[{\"id\":\"1063\"}],\"center\":[{\"id\":\"1066\"},{\"id\":\"1070\"}],\"height\":250,\"left\":[{\"id\":\"1067\"}],\"renderers\":[{\"id\":\"1079\"}],\"title\":{\"id\":\"1103\"},\"toolbar\":{\"id\":\"1073\"},\"toolbar_location\":null,\"width\":250,\"x_range\":{\"id\":\"1004\"},\"x_scale\":{\"id\":\"1059\"},\"y_range\":{\"id\":\"1057\"},\"y_scale\":{\"id\":\"1061\"}},\"id\":\"1055\",\"subtype\":\"Figure\",\"type\":\"Plot\"},{\"attributes\":{},\"id\":\"1061\",\"type\":\"LinearScale\"},{\"attributes\":{},\"id\":\"1090\",\"type\":\"Selection\"},{\"attributes\":{},\"id\":\"1045\",\"type\":\"PanTool\"},{\"attributes\":{\"axis\":{\"id\":\"1016\"},\"dimension\":1,\"ticker\":null},\"id\":\"1019\",\"type\":\"Grid\"},{\"attributes\":{\"formatter\":{\"id\":\"1106\"},\"major_label_policy\":{\"id\":\"1107\"},\"ticker\":{\"id\":\"1064\"}},\"id\":\"1063\",\"type\":\"LinearAxis\"},{\"attributes\":{},\"id\":\"1004\",\"type\":\"DataRange1d\"},{\"attributes\":{},\"id\":\"1092\",\"type\":\"Title\"},{\"attributes\":{},\"id\":\"1046\",\"type\":\"WheelZoomTool\"},{\"attributes\":{},\"id\":\"1064\",\"type\":\"BasicTicker\"},{\"attributes\":{},\"id\":\"1006\",\"type\":\"DataRange1d\"},{\"attributes\":{},\"id\":\"1095\",\"type\":\"BasicTickFormatter\"},{\"attributes\":{\"below\":[{\"id\":\"1037\"}],\"center\":[{\"id\":\"1040\"},{\"id\":\"1044\"}],\"height\":250,\"left\":[{\"id\":\"1041\"}],\"renderers\":[{\"id\":\"1053\"}],\"title\":{\"id\":\"1092\"},\"toolbar\":{\"id\":\"1047\"},\"toolbar_location\":null,\"width\":250,\"x_range\":{\"id\":\"1004\"},\"x_scale\":{\"id\":\"1033\"},\"y_range\":{\"id\":\"1006\"},\"y_scale\":{\"id\":\"1035\"}},\"id\":\"1030\",\"subtype\":\"Figure\",\"type\":\"Plot\"},{\"attributes\":{\"children\":[[{\"id\":\"1003\"},0,0],[{\"id\":\"1030\"},0,1],[{\"id\":\"1055\"},0,2]]},\"id\":\"1114\",\"type\":\"GridBox\"},{\"attributes\":{\"axis\":{\"id\":\"1063\"},\"ticker\":null},\"id\":\"1066\",\"type\":\"Grid\"},{\"attributes\":{\"fill_color\":{\"value\":\"firebrick\"},\"line_color\":{\"value\":\"firebrick\"},\"marker\":{\"value\":\"triangle\"},\"size\":{\"value\":10},\"x\":{\"field\":\"x\"},\"y\":{\"field\":\"y\"}},\"id\":\"1051\",\"type\":\"Scatter\"},{\"attributes\":{},\"id\":\"1096\",\"type\":\"AllLabels\"},{\"attributes\":{},\"id\":\"1110\",\"type\":\"AllLabels\"},{\"attributes\":{\"active_multi\":null,\"tools\":[{\"id\":\"1045\"},{\"id\":\"1046\"}]},\"id\":\"1047\",\"type\":\"Toolbar\"},{\"attributes\":{\"formatter\":{\"id\":\"1109\"},\"major_label_policy\":{\"id\":\"1110\"},\"ticker\":{\"id\":\"1068\"}},\"id\":\"1067\",\"type\":\"LinearAxis\"},{\"attributes\":{},\"id\":\"1107\",\"type\":\"AllLabels\"},{\"attributes\":{},\"id\":\"1008\",\"type\":\"LinearScale\"},{\"attributes\":{},\"id\":\"1098\",\"type\":\"BasicTickFormatter\"},{\"attributes\":{},\"id\":\"1072\",\"type\":\"WheelZoomTool\"},{\"attributes\":{},\"id\":\"1068\",\"type\":\"BasicTicker\"},{\"attributes\":{},\"id\":\"1010\",\"type\":\"LinearScale\"},{\"attributes\":{},\"id\":\"1099\",\"type\":\"AllLabels\"},{\"attributes\":{\"data_source\":{\"id\":\"1025\"},\"glyph\":{\"id\":\"1026\"},\"hover_glyph\":null,\"muted_glyph\":null,\"nonselection_glyph\":{\"id\":\"1027\"},\"view\":{\"id\":\"1029\"}},\"id\":\"1028\",\"type\":\"GlyphRenderer\"},{\"attributes\":{\"axis\":{\"id\":\"1067\"},\"dimension\":1,\"ticker\":null},\"id\":\"1070\",\"type\":\"Grid\"},{\"attributes\":{\"formatter\":{\"id\":\"1084\"},\"major_label_policy\":{\"id\":\"1085\"},\"ticker\":{\"id\":\"1013\"}},\"id\":\"1012\",\"type\":\"LinearAxis\"},{\"attributes\":{\"fill_color\":{\"value\":\"navy\"},\"line_color\":{\"value\":\"navy\"},\"size\":{\"value\":10},\"x\":{\"field\":\"x\"},\"y\":{\"field\":\"y\"}},\"id\":\"1026\",\"type\":\"Circle\"}],\"root_ids\":[\"1117\"]},\"title\":\"Bokeh Application\",\"version\":\"2.3.3\"}};\n",
       "  var render_items = [{\"docid\":\"efdbbf90-237e-45c2-a76e-24e11d99f945\",\"root_ids\":[\"1117\"],\"roots\":{\"1117\":\"4f6f39f1-b1eb-4cef-99b3-b62368f58a13\"}}];\n",
       "  root.Bokeh.embed.embed_items_notebook(docs_json, render_items);\n",
       "\n",
       "  }\n",
       "  if (root.Bokeh !== undefined) {\n",
       "    embed_document(root);\n",
       "  } else {\n",
       "    var attempts = 0;\n",
       "    var timer = setInterval(function(root) {\n",
       "      if (root.Bokeh !== undefined) {\n",
       "        clearInterval(timer);\n",
       "        embed_document(root);\n",
       "      } else {\n",
       "        attempts++;\n",
       "        if (attempts > 100) {\n",
       "          clearInterval(timer);\n",
       "          console.log(\"Bokeh: ERROR: Unable to run BokehJS code because BokehJS library is missing\");\n",
       "        }\n",
       "      }\n",
       "    }, 10, root)\n",
       "  }\n",
       "})(window);"
      ],
      "application/vnd.bokehjs_exec.v0+json": ""
     },
     "metadata": {
      "application/vnd.bokehjs_exec.v0+json": {
       "id": "1117"
      }
     },
     "output_type": "display_data"
    }
   ],
   "source": [
    "from bokeh.layouts import gridplot\n",
    "\n",
    "x = list(range(11))\n",
    "y0, y1, y2 = x, [10 - i for i in x], [abs(i - 5) for i in x]\n",
    "\n",
    "plot_options = dict(\n",
    "    width=250,\n",
    "    plot_height=250,\n",
    "    tools=\"pan,wheel_zoom\",\n",
    ")\n",
    "\n",
    "s1 = figure(**plot_options)\n",
    "s1.circle(x, y0, size=10, color=\"navy\")\n",
    "\n",
    "s2 = figure(\n",
    "    x_range=s1.x_range,\n",
    "    y_range=s1.y_range,\n",
    "    **plot_options,\n",
    ")\n",
    "s2.triangle(x, y1, size=10, color=\"firebrick\")\n",
    "\n",
    "s3 = figure(\n",
    "    x_range=s1.x_range,\n",
    "    **plot_options,\n",
    ")\n",
    "s3.square(x, y2, size=10, color=\"olive\")\n",
    "\n",
    "p = gridplot([[s1, s2, s3]])\n",
    "\n",
    "show(p)"
   ]
  },
  {
   "cell_type": "code",
   "execution_count": 12,
   "id": "b193ce8c-3b6a-4e06-a151-91e2bb412814",
   "metadata": {},
   "outputs": [
    {
     "data": {
      "text/html": [
       "\n",
       "\n",
       "\n",
       "\n",
       "\n",
       "\n",
       "  <div class=\"bk-root\" id=\"67e4ec91-bf06-492a-97da-37cc1124cd4b\" data-root-id=\"2549\"></div>\n"
      ]
     },
     "metadata": {},
     "output_type": "display_data"
    },
    {
     "data": {
      "application/javascript": [
       "(function(root) {\n",
       "  function embed_document(root) {\n",
       "    \n",
       "  var docs_json = {\"3653140f-20bd-4118-86b0-e91baa741a0f\":{\"defs\":[],\"roots\":{\"references\":[{\"attributes\":{\"children\":[{\"id\":\"2548\"},{\"id\":\"2546\"}]},\"id\":\"2549\",\"type\":\"Column\"},{\"attributes\":{},\"id\":\"2503\",\"type\":\"BasicTicker\"},{\"attributes\":{\"fill_alpha\":0.5,\"fill_color\":\"lightgrey\",\"level\":\"overlay\",\"line_alpha\":1.0,\"line_color\":\"black\",\"line_dash\":[4,4],\"line_width\":2,\"syncable\":false,\"xs_units\":\"screen\",\"ys_units\":\"screen\"},\"id\":\"2510\",\"type\":\"PolyAnnotation\"},{\"attributes\":{},\"id\":\"2533\",\"type\":\"Title\"},{\"attributes\":{\"axis\":{\"id\":\"2502\"},\"dimension\":1,\"ticker\":null},\"id\":\"2505\",\"type\":\"Grid\"},{\"attributes\":{\"below\":[{\"id\":\"2467\"}],\"center\":[{\"id\":\"2470\"},{\"id\":\"2474\"}],\"height\":300,\"left\":[{\"id\":\"2471\"}],\"renderers\":[{\"id\":\"2487\"}],\"title\":{\"id\":\"2520\"},\"toolbar\":{\"id\":\"2480\"},\"toolbar_location\":null,\"width\":300,\"x_range\":{\"id\":\"2459\"},\"x_scale\":{\"id\":\"2463\"},\"y_range\":{\"id\":\"2461\"},\"y_scale\":{\"id\":\"2465\"}},\"id\":\"2458\",\"subtype\":\"Figure\",\"type\":\"Plot\"},{\"attributes\":{\"bottom_units\":\"screen\",\"fill_alpha\":0.5,\"fill_color\":\"lightgrey\",\"left_units\":\"screen\",\"level\":\"overlay\",\"line_alpha\":1.0,\"line_color\":\"black\",\"line_dash\":[4,4],\"line_width\":2,\"right_units\":\"screen\",\"syncable\":false,\"top_units\":\"screen\"},\"id\":\"2509\",\"type\":\"BoxAnnotation\"},{\"attributes\":{},\"id\":\"2536\",\"type\":\"BasicTickFormatter\"},{\"attributes\":{\"children\":[[{\"id\":\"2458\"},0,0],[{\"id\":\"2489\"},0,1]]},\"id\":\"2546\",\"type\":\"GridBox\"},{\"attributes\":{\"bottom_units\":\"screen\",\"fill_alpha\":0.5,\"fill_color\":\"lightgrey\",\"left_units\":\"screen\",\"level\":\"overlay\",\"line_alpha\":1.0,\"line_color\":\"black\",\"line_dash\":[4,4],\"line_width\":2,\"right_units\":\"screen\",\"syncable\":false,\"top_units\":\"screen\"},\"id\":\"2478\",\"type\":\"BoxAnnotation\"},{\"attributes\":{\"overlay\":{\"id\":\"2509\"}},\"id\":\"2506\",\"type\":\"BoxSelectTool\"},{\"attributes\":{\"axis\":{\"id\":\"2471\"},\"dimension\":1,\"ticker\":null},\"id\":\"2474\",\"type\":\"Grid\"},{\"attributes\":{},\"id\":\"2537\",\"type\":\"AllLabels\"},{\"attributes\":{\"fill_alpha\":0.5,\"fill_color\":\"lightgrey\",\"level\":\"overlay\",\"line_alpha\":1.0,\"line_color\":\"black\",\"line_dash\":[4,4],\"line_width\":2,\"syncable\":false,\"xs_units\":\"screen\",\"ys_units\":\"screen\"},\"id\":\"2479\",\"type\":\"PolyAnnotation\"},{\"attributes\":{\"overlay\":{\"id\":\"2510\"}},\"id\":\"2507\",\"type\":\"LassoSelectTool\"},{\"attributes\":{},\"id\":\"2539\",\"type\":\"BasicTickFormatter\"},{\"attributes\":{\"below\":[{\"id\":\"2498\"}],\"center\":[{\"id\":\"2501\"},{\"id\":\"2505\"}],\"height\":300,\"left\":[{\"id\":\"2502\"}],\"renderers\":[{\"id\":\"2518\"}],\"title\":{\"id\":\"2533\"},\"toolbar\":{\"id\":\"2511\"},\"toolbar_location\":null,\"width\":300,\"x_range\":{\"id\":\"2490\"},\"x_scale\":{\"id\":\"2494\"},\"y_range\":{\"id\":\"2492\"},\"y_scale\":{\"id\":\"2496\"}},\"id\":\"2489\",\"subtype\":\"Figure\",\"type\":\"Plot\"},{\"attributes\":{},\"id\":\"2461\",\"type\":\"DataRange1d\"},{\"attributes\":{},\"id\":\"2508\",\"type\":\"HelpTool\"},{\"attributes\":{},\"id\":\"2540\",\"type\":\"AllLabels\"},{\"attributes\":{\"toolbar\":{\"id\":\"2547\"},\"toolbar_location\":\"above\"},\"id\":\"2548\",\"type\":\"ToolbarBox\"},{\"attributes\":{\"data\":{\"x\":[-20,-19,-18,-17,-16,-15,-14,-13,-12,-11,-10,-9,-8,-7,-6,-5,-4,-3,-2,-1,0,1,2,3,4,5,6,7,8,9,10,11,12,13,14,15,16,17,18,19,20],\"y0\":[20,19,18,17,16,15,14,13,12,11,10,9,8,7,6,5,4,3,2,1,0,1,2,3,4,5,6,7,8,9,10,11,12,13,14,15,16,17,18,19,20],\"y1\":[400,361,324,289,256,225,196,169,144,121,100,81,64,49,36,25,16,9,4,1,0,1,4,9,16,25,36,49,64,81,100,121,144,169,196,225,256,289,324,361,400]},\"selected\":{\"id\":\"2529\"},\"selection_policy\":{\"id\":\"2528\"}},\"id\":\"2457\",\"type\":\"ColumnDataSource\"},{\"attributes\":{\"source\":{\"id\":\"2457\"}},\"id\":\"2488\",\"type\":\"CDSView\"},{\"attributes\":{\"fill_color\":{\"value\":\"#1f77b4\"},\"line_color\":{\"value\":\"#1f77b4\"},\"x\":{\"field\":\"x\"},\"y\":{\"field\":\"y0\"}},\"id\":\"2485\",\"type\":\"Circle\"},{\"attributes\":{\"active_multi\":null,\"tools\":[{\"id\":\"2506\"},{\"id\":\"2507\"},{\"id\":\"2508\"}]},\"id\":\"2511\",\"type\":\"Toolbar\"},{\"attributes\":{\"data_source\":{\"id\":\"2457\"},\"glyph\":{\"id\":\"2516\"},\"hover_glyph\":null,\"muted_glyph\":null,\"nonselection_glyph\":{\"id\":\"2517\"},\"view\":{\"id\":\"2519\"}},\"id\":\"2518\",\"type\":\"GlyphRenderer\"},{\"attributes\":{\"data_source\":{\"id\":\"2457\"},\"glyph\":{\"id\":\"2485\"},\"hover_glyph\":null,\"muted_glyph\":null,\"nonselection_glyph\":{\"id\":\"2486\"},\"view\":{\"id\":\"2488\"}},\"id\":\"2487\",\"type\":\"GlyphRenderer\"},{\"attributes\":{\"overlay\":{\"id\":\"2479\"}},\"id\":\"2476\",\"type\":\"LassoSelectTool\"},{\"attributes\":{\"fill_alpha\":{\"value\":0.1},\"fill_color\":{\"value\":\"#1f77b4\"},\"line_alpha\":{\"value\":0.1},\"line_color\":{\"value\":\"#1f77b4\"},\"x\":{\"field\":\"x\"},\"y\":{\"field\":\"y1\"}},\"id\":\"2517\",\"type\":\"Circle\"},{\"attributes\":{\"fill_alpha\":{\"value\":0.1},\"fill_color\":{\"value\":\"#1f77b4\"},\"line_alpha\":{\"value\":0.1},\"line_color\":{\"value\":\"#1f77b4\"},\"x\":{\"field\":\"x\"},\"y\":{\"field\":\"y0\"}},\"id\":\"2486\",\"type\":\"Circle\"},{\"attributes\":{\"overlay\":{\"id\":\"2478\"}},\"id\":\"2475\",\"type\":\"BoxSelectTool\"},{\"attributes\":{\"fill_color\":{\"value\":\"#1f77b4\"},\"line_color\":{\"value\":\"#1f77b4\"},\"x\":{\"field\":\"x\"},\"y\":{\"field\":\"y1\"}},\"id\":\"2516\",\"type\":\"Circle\"},{\"attributes\":{},\"id\":\"2477\",\"type\":\"HelpTool\"},{\"attributes\":{\"toolbars\":[{\"id\":\"2480\"},{\"id\":\"2511\"}],\"tools\":[{\"id\":\"2475\"},{\"id\":\"2476\"},{\"id\":\"2477\"},{\"id\":\"2506\"},{\"id\":\"2507\"},{\"id\":\"2508\"}]},\"id\":\"2547\",\"type\":\"ProxyToolbar\"},{\"attributes\":{},\"id\":\"2459\",\"type\":\"DataRange1d\"},{\"attributes\":{},\"id\":\"2520\",\"type\":\"Title\"},{\"attributes\":{\"active_multi\":null,\"tools\":[{\"id\":\"2475\"},{\"id\":\"2476\"},{\"id\":\"2477\"}]},\"id\":\"2480\",\"type\":\"Toolbar\"},{\"attributes\":{},\"id\":\"2468\",\"type\":\"BasicTicker\"},{\"attributes\":{},\"id\":\"2472\",\"type\":\"BasicTicker\"},{\"attributes\":{},\"id\":\"2465\",\"type\":\"LinearScale\"},{\"attributes\":{},\"id\":\"2490\",\"type\":\"DataRange1d\"},{\"attributes\":{\"formatter\":{\"id\":\"2526\"},\"major_label_policy\":{\"id\":\"2527\"},\"ticker\":{\"id\":\"2472\"}},\"id\":\"2471\",\"type\":\"LinearAxis\"},{\"attributes\":{},\"id\":\"2463\",\"type\":\"LinearScale\"},{\"attributes\":{\"axis\":{\"id\":\"2467\"},\"ticker\":null},\"id\":\"2470\",\"type\":\"Grid\"},{\"attributes\":{\"source\":{\"id\":\"2457\"}},\"id\":\"2519\",\"type\":\"CDSView\"},{\"attributes\":{},\"id\":\"2492\",\"type\":\"DataRange1d\"},{\"attributes\":{},\"id\":\"2494\",\"type\":\"LinearScale\"},{\"attributes\":{},\"id\":\"2523\",\"type\":\"BasicTickFormatter\"},{\"attributes\":{},\"id\":\"2496\",\"type\":\"LinearScale\"},{\"attributes\":{},\"id\":\"2524\",\"type\":\"AllLabels\"},{\"attributes\":{\"formatter\":{\"id\":\"2536\"},\"major_label_policy\":{\"id\":\"2537\"},\"ticker\":{\"id\":\"2499\"}},\"id\":\"2498\",\"type\":\"LinearAxis\"},{\"attributes\":{},\"id\":\"2526\",\"type\":\"BasicTickFormatter\"},{\"attributes\":{},\"id\":\"2499\",\"type\":\"BasicTicker\"},{\"attributes\":{},\"id\":\"2527\",\"type\":\"AllLabels\"},{\"attributes\":{\"formatter\":{\"id\":\"2523\"},\"major_label_policy\":{\"id\":\"2524\"},\"ticker\":{\"id\":\"2468\"}},\"id\":\"2467\",\"type\":\"LinearAxis\"},{\"attributes\":{\"axis\":{\"id\":\"2498\"},\"ticker\":null},\"id\":\"2501\",\"type\":\"Grid\"},{\"attributes\":{},\"id\":\"2528\",\"type\":\"UnionRenderers\"},{\"attributes\":{\"formatter\":{\"id\":\"2539\"},\"major_label_policy\":{\"id\":\"2540\"},\"ticker\":{\"id\":\"2503\"}},\"id\":\"2502\",\"type\":\"LinearAxis\"},{\"attributes\":{},\"id\":\"2529\",\"type\":\"Selection\"}],\"root_ids\":[\"2549\"]},\"title\":\"Bokeh Application\",\"version\":\"2.3.3\"}};\n",
       "  var render_items = [{\"docid\":\"3653140f-20bd-4118-86b0-e91baa741a0f\",\"root_ids\":[\"2549\"],\"roots\":{\"2549\":\"67e4ec91-bf06-492a-97da-37cc1124cd4b\"}}];\n",
       "  root.Bokeh.embed.embed_items_notebook(docs_json, render_items);\n",
       "\n",
       "  }\n",
       "  if (root.Bokeh !== undefined) {\n",
       "    embed_document(root);\n",
       "  } else {\n",
       "    var attempts = 0;\n",
       "    var timer = setInterval(function(root) {\n",
       "      if (root.Bokeh !== undefined) {\n",
       "        clearInterval(timer);\n",
       "        embed_document(root);\n",
       "      } else {\n",
       "        attempts++;\n",
       "        if (attempts > 100) {\n",
       "          clearInterval(timer);\n",
       "          console.log(\"Bokeh: ERROR: Unable to run BokehJS code because BokehJS library is missing\");\n",
       "        }\n",
       "      }\n",
       "    }, 10, root)\n",
       "  }\n",
       "})(window);"
      ],
      "application/vnd.bokehjs_exec.v0+json": ""
     },
     "metadata": {
      "application/vnd.bokehjs_exec.v0+json": {
       "id": "2549"
      }
     },
     "output_type": "display_data"
    }
   ],
   "source": [
    "from bokeh.models import ColumnDataSource\n",
    "\n",
    "x = list(range(-20, 21))\n",
    "y0, y1 = [abs(xx) for xx in x], [xx ** 2 for xx in x]\n",
    "\n",
    "source = ColumnDataSource(data=dict(x=x, y0=y0, y1=y1))\n",
    "\n",
    "TOOLS = \"box_select,lasso_select,help\"\n",
    "\n",
    "left = figure(tools=TOOLS, width=300, height=300)\n",
    "left.circle(\"x\", \"y0\", source=source)\n",
    "\n",
    "right = figure(tools=TOOLS, width=300, height=300)\n",
    "right.circle(\"x\", \"y1\", source=source)\n",
    "\n",
    "p = gridplot([[left, right]])\n",
    "\n",
    "show(p)"
   ]
  },
  {
   "cell_type": "code",
   "execution_count": 6,
   "id": "648b255f-17ef-4c2f-a06b-72824087915a",
   "metadata": {},
   "outputs": [
    {
     "data": {
      "text/html": [
       "\n",
       "\n",
       "\n",
       "\n",
       "\n",
       "\n",
       "  <div class=\"bk-root\" id=\"aa5f3ddc-44e7-47b1-b2f2-29707fe81c0c\" data-root-id=\"1555\"></div>\n"
      ]
     },
     "metadata": {},
     "output_type": "display_data"
    },
    {
     "data": {
      "application/javascript": [
       "(function(root) {\n",
       "  function embed_document(root) {\n",
       "    \n",
       "  var docs_json = {\"a24ec557-be86-405b-ab6f-e96b1cce5b34\":{\"defs\":[],\"roots\":{\"references\":[{\"attributes\":{\"below\":[{\"id\":\"1566\"}],\"center\":[{\"id\":\"1569\"},{\"id\":\"1573\"}],\"height\":300,\"left\":[{\"id\":\"1570\"}],\"renderers\":[{\"id\":\"1579\"}],\"title\":{\"id\":\"1556\"},\"toolbar\":{\"id\":\"1574\"},\"width\":300,\"x_range\":{\"id\":\"1558\"},\"x_scale\":{\"id\":\"1562\"},\"y_range\":{\"id\":\"1560\"},\"y_scale\":{\"id\":\"1564\"}},\"id\":\"1555\",\"subtype\":\"Figure\",\"type\":\"Plot\"},{\"attributes\":{},\"id\":\"1635\",\"type\":\"BasicTickFormatter\"},{\"attributes\":{},\"id\":\"1560\",\"type\":\"DataRange1d\"},{\"attributes\":{},\"id\":\"1562\",\"type\":\"LinearScale\"},{\"attributes\":{\"text\":\"Mouse over the dots\"},\"id\":\"1556\",\"type\":\"Title\"},{\"attributes\":{\"fill_color\":{\"value\":\"#1f77b4\"},\"line_color\":{\"value\":\"#1f77b4\"},\"size\":{\"value\":20},\"x\":{\"field\":\"x\"},\"y\":{\"field\":\"y\"}},\"id\":\"1577\",\"type\":\"Circle\"},{\"attributes\":{\"formatter\":{\"id\":\"1635\"},\"major_label_policy\":{\"id\":\"1636\"},\"ticker\":{\"id\":\"1567\"}},\"id\":\"1566\",\"type\":\"LinearAxis\"},{\"attributes\":{},\"id\":\"1564\",\"type\":\"LinearScale\"},{\"attributes\":{},\"id\":\"1638\",\"type\":\"BasicTickFormatter\"},{\"attributes\":{\"fill_alpha\":{\"value\":0.1},\"fill_color\":{\"value\":\"#1f77b4\"},\"line_alpha\":{\"value\":0.1},\"line_color\":{\"value\":\"#1f77b4\"},\"size\":{\"value\":20},\"x\":{\"field\":\"x\"},\"y\":{\"field\":\"y\"}},\"id\":\"1578\",\"type\":\"Circle\"},{\"attributes\":{},\"id\":\"1640\",\"type\":\"UnionRenderers\"},{\"attributes\":{\"axis\":{\"id\":\"1566\"},\"ticker\":null},\"id\":\"1569\",\"type\":\"Grid\"},{\"attributes\":{},\"id\":\"1567\",\"type\":\"BasicTicker\"},{\"attributes\":{\"active_multi\":null,\"tools\":[{\"id\":\"1554\"}]},\"id\":\"1574\",\"type\":\"Toolbar\"},{\"attributes\":{\"data\":{\"desc\":[\"A\",\"b\",\"C\",\"d\",\"E\"],\"x\":[1,2,3,4,5],\"y\":[2,5,8,2,7]},\"selected\":{\"id\":\"1641\"},\"selection_policy\":{\"id\":\"1640\"}},\"id\":\"1553\",\"type\":\"ColumnDataSource\"},{\"attributes\":{},\"id\":\"1558\",\"type\":\"DataRange1d\"},{\"attributes\":{\"formatter\":{\"id\":\"1638\"},\"major_label_policy\":{\"id\":\"1639\"},\"ticker\":{\"id\":\"1571\"}},\"id\":\"1570\",\"type\":\"LinearAxis\"},{\"attributes\":{},\"id\":\"1571\",\"type\":\"BasicTicker\"},{\"attributes\":{\"source\":{\"id\":\"1553\"}},\"id\":\"1580\",\"type\":\"CDSView\"},{\"attributes\":{\"data_source\":{\"id\":\"1553\"},\"glyph\":{\"id\":\"1577\"},\"hover_glyph\":null,\"muted_glyph\":null,\"nonselection_glyph\":{\"id\":\"1578\"},\"view\":{\"id\":\"1580\"}},\"id\":\"1579\",\"type\":\"GlyphRenderer\"},{\"attributes\":{},\"id\":\"1639\",\"type\":\"AllLabels\"},{\"attributes\":{},\"id\":\"1636\",\"type\":\"AllLabels\"},{\"attributes\":{},\"id\":\"1641\",\"type\":\"Selection\"},{\"attributes\":{\"callback\":null,\"tooltips\":[[\"index\",\"$index\"],[\"(x,y)\",\"($x, $y)\"],[\"desc\",\"@desc\"]]},\"id\":\"1554\",\"type\":\"HoverTool\"},{\"attributes\":{\"axis\":{\"id\":\"1570\"},\"dimension\":1,\"ticker\":null},\"id\":\"1573\",\"type\":\"Grid\"}],\"root_ids\":[\"1555\"]},\"title\":\"Bokeh Application\",\"version\":\"2.3.3\"}};\n",
       "  var render_items = [{\"docid\":\"a24ec557-be86-405b-ab6f-e96b1cce5b34\",\"root_ids\":[\"1555\"],\"roots\":{\"1555\":\"aa5f3ddc-44e7-47b1-b2f2-29707fe81c0c\"}}];\n",
       "  root.Bokeh.embed.embed_items_notebook(docs_json, render_items);\n",
       "\n",
       "  }\n",
       "  if (root.Bokeh !== undefined) {\n",
       "    embed_document(root);\n",
       "  } else {\n",
       "    var attempts = 0;\n",
       "    var timer = setInterval(function(root) {\n",
       "      if (root.Bokeh !== undefined) {\n",
       "        clearInterval(timer);\n",
       "        embed_document(root);\n",
       "      } else {\n",
       "        attempts++;\n",
       "        if (attempts > 100) {\n",
       "          clearInterval(timer);\n",
       "          console.log(\"Bokeh: ERROR: Unable to run BokehJS code because BokehJS library is missing\");\n",
       "        }\n",
       "      }\n",
       "    }, 10, root)\n",
       "  }\n",
       "})(window);"
      ],
      "application/vnd.bokehjs_exec.v0+json": ""
     },
     "metadata": {
      "application/vnd.bokehjs_exec.v0+json": {
       "id": "1555"
      }
     },
     "output_type": "display_data"
    }
   ],
   "source": [
    "from bokeh.models import HoverTool\n",
    "\n",
    "source = ColumnDataSource(\n",
    "    data=dict(\n",
    "        x=[1, 2, 3, 4, 5],\n",
    "        y=[2, 5, 8, 2, 7],\n",
    "        desc=[\"A\", \"b\", \"C\", \"d\", \"E\"],\n",
    "    )\n",
    ")\n",
    "\n",
    "hover = HoverTool(\n",
    "    tooltips=[\n",
    "        (\"index\", \"$index\"),\n",
    "        (\"(x,y)\", \"($x, $y)\"),\n",
    "        (\"desc\", \"@desc\"),\n",
    "    ]\n",
    ")\n",
    "\n",
    "p = figure(\n",
    "    plot_width=300,\n",
    "    plot_height=300,\n",
    "    tools=[hover],\n",
    "    title=\"Mouse over the dots\",\n",
    ")\n",
    "\n",
    "p.circle(\"x\", \"y\", size=20, source=source)\n",
    "\n",
    "show(p)"
   ]
  },
  {
   "cell_type": "code",
   "execution_count": 7,
   "id": "92f5d0cd-2add-4dda-b33d-6ebf0d49663f",
   "metadata": {},
   "outputs": [
    {
     "data": {
      "text/html": [
       "\n",
       "\n",
       "\n",
       "\n",
       "\n",
       "\n",
       "  <div class=\"bk-root\" id=\"2dcc53c2-7669-402e-95bc-512fdfceddb6\" data-root-id=\"1687\"></div>\n"
      ]
     },
     "metadata": {},
     "output_type": "display_data"
    },
    {
     "data": {
      "application/javascript": [
       "(function(root) {\n",
       "  function embed_document(root) {\n",
       "    \n",
       "  var docs_json = {\"d2551fe2-5902-465d-8cb1-b0eebd684a3c\":{\"defs\":[],\"roots\":{\"references\":[{\"attributes\":{\"end\":10,\"start\":0,\"step\":0.1,\"title\":\"foo\",\"value\":1},\"id\":\"1687\",\"type\":\"Slider\"}],\"root_ids\":[\"1687\"]},\"title\":\"Bokeh Application\",\"version\":\"2.3.3\"}};\n",
       "  var render_items = [{\"docid\":\"d2551fe2-5902-465d-8cb1-b0eebd684a3c\",\"root_ids\":[\"1687\"],\"roots\":{\"1687\":\"2dcc53c2-7669-402e-95bc-512fdfceddb6\"}}];\n",
       "  root.Bokeh.embed.embed_items_notebook(docs_json, render_items);\n",
       "\n",
       "  }\n",
       "  if (root.Bokeh !== undefined) {\n",
       "    embed_document(root);\n",
       "  } else {\n",
       "    var attempts = 0;\n",
       "    var timer = setInterval(function(root) {\n",
       "      if (root.Bokeh !== undefined) {\n",
       "        clearInterval(timer);\n",
       "        embed_document(root);\n",
       "      } else {\n",
       "        attempts++;\n",
       "        if (attempts > 100) {\n",
       "          clearInterval(timer);\n",
       "          console.log(\"Bokeh: ERROR: Unable to run BokehJS code because BokehJS library is missing\");\n",
       "        }\n",
       "      }\n",
       "    }, 10, root)\n",
       "  }\n",
       "})(window);"
      ],
      "application/vnd.bokehjs_exec.v0+json": ""
     },
     "metadata": {
      "application/vnd.bokehjs_exec.v0+json": {
       "id": "1687"
      }
     },
     "output_type": "display_data"
    }
   ],
   "source": [
    "from bokeh.models.widgets import Slider\n",
    "\n",
    "slider = Slider(\n",
    "    start=0,\n",
    "    end=10,\n",
    "    value=1,\n",
    "    step=0.1,\n",
    "    title=\"foo\",\n",
    ")\n",
    "\n",
    "show(slider)"
   ]
  },
  {
   "cell_type": "code",
   "execution_count": 8,
   "id": "e997e055-9bab-4d10-8fad-379576309dd6",
   "metadata": {},
   "outputs": [
    {
     "data": {
      "text/html": [
       "\n",
       "\n",
       "\n",
       "\n",
       "\n",
       "\n",
       "  <div class=\"bk-root\" id=\"2e0bf1d5-0d10-4a79-b432-e56e0ee2e9bf\" data-root-id=\"1751\"></div>\n"
      ]
     },
     "metadata": {},
     "output_type": "display_data"
    },
    {
     "data": {
      "application/javascript": [
       "(function(root) {\n",
       "  function embed_document(root) {\n",
       "    \n",
       "  var docs_json = {\"7303a82d-bb44-496d-99da-938f0088b56c\":{\"defs\":[],\"roots\":{\"references\":[{\"attributes\":{\"below\":[{\"id\":\"1760\"}],\"center\":[{\"id\":\"1763\"},{\"id\":\"1767\"}],\"height\":300,\"left\":[{\"id\":\"1764\"}],\"renderers\":[{\"id\":\"1773\"}],\"title\":{\"id\":\"1836\"},\"toolbar\":{\"id\":\"1768\"},\"x_range\":{\"id\":\"1752\"},\"x_scale\":{\"id\":\"1756\"},\"y_range\":{\"id\":\"1754\"},\"y_scale\":{\"id\":\"1758\"}},\"id\":\"1751\",\"subtype\":\"Figure\",\"type\":\"Plot\"},{\"attributes\":{},\"id\":\"1754\",\"type\":\"DataRange1d\"},{\"attributes\":{},\"id\":\"1836\",\"type\":\"Title\"},{\"attributes\":{\"active_multi\":null,\"tools\":[{\"id\":\"1750\"}]},\"id\":\"1768\",\"type\":\"Toolbar\"},{\"attributes\":{},\"id\":\"1761\",\"type\":\"BasicTicker\"},{\"attributes\":{},\"id\":\"1765\",\"type\":\"BasicTicker\"},{\"attributes\":{\"axis\":{\"id\":\"1764\"},\"dimension\":1,\"ticker\":null},\"id\":\"1767\",\"type\":\"Grid\"},{\"attributes\":{},\"id\":\"1842\",\"type\":\"BasicTickFormatter\"},{\"attributes\":{\"formatter\":{\"id\":\"1842\"},\"major_label_policy\":{\"id\":\"1843\"},\"ticker\":{\"id\":\"1765\"}},\"id\":\"1764\",\"type\":\"LinearAxis\"},{\"attributes\":{},\"id\":\"1758\",\"type\":\"LinearScale\"},{\"attributes\":{},\"id\":\"1843\",\"type\":\"AllLabels\"},{\"attributes\":{\"axis\":{\"id\":\"1760\"},\"ticker\":null},\"id\":\"1763\",\"type\":\"Grid\"},{\"attributes\":{},\"id\":\"1752\",\"type\":\"DataRange1d\"},{\"attributes\":{\"formatter\":{\"id\":\"1839\"},\"major_label_policy\":{\"id\":\"1840\"},\"ticker\":{\"id\":\"1761\"}},\"id\":\"1760\",\"type\":\"LinearAxis\"},{\"attributes\":{\"code\":\"alert('you tapped a circle!')\"},\"id\":\"1749\",\"type\":\"CustomJS\"},{\"attributes\":{},\"id\":\"1756\",\"type\":\"LinearScale\"},{\"attributes\":{\"callback\":{\"id\":\"1749\"}},\"id\":\"1750\",\"type\":\"TapTool\"},{\"attributes\":{\"fill_color\":{\"value\":\"#1f77b4\"},\"line_color\":{\"value\":\"#1f77b4\"},\"size\":{\"value\":20},\"x\":{\"field\":\"x\"},\"y\":{\"field\":\"y\"}},\"id\":\"1771\",\"type\":\"Circle\"},{\"attributes\":{\"fill_alpha\":{\"value\":0.1},\"fill_color\":{\"value\":\"#1f77b4\"},\"line_alpha\":{\"value\":0.1},\"line_color\":{\"value\":\"#1f77b4\"},\"size\":{\"value\":20},\"x\":{\"field\":\"x\"},\"y\":{\"field\":\"y\"}},\"id\":\"1772\",\"type\":\"Circle\"},{\"attributes\":{\"data_source\":{\"id\":\"1770\"},\"glyph\":{\"id\":\"1771\"},\"hover_glyph\":null,\"muted_glyph\":null,\"nonselection_glyph\":{\"id\":\"1772\"},\"view\":{\"id\":\"1774\"}},\"id\":\"1773\",\"type\":\"GlyphRenderer\"},{\"attributes\":{\"data\":{\"x\":[1,2,3,4,5],\"y\":[2,5,8,2,7]},\"selected\":{\"id\":\"1845\"},\"selection_policy\":{\"id\":\"1844\"}},\"id\":\"1770\",\"type\":\"ColumnDataSource\"},{\"attributes\":{},\"id\":\"1840\",\"type\":\"AllLabels\"},{\"attributes\":{},\"id\":\"1839\",\"type\":\"BasicTickFormatter\"},{\"attributes\":{},\"id\":\"1845\",\"type\":\"Selection\"},{\"attributes\":{},\"id\":\"1844\",\"type\":\"UnionRenderers\"},{\"attributes\":{\"source\":{\"id\":\"1770\"}},\"id\":\"1774\",\"type\":\"CDSView\"}],\"root_ids\":[\"1751\"]},\"title\":\"Bokeh Application\",\"version\":\"2.3.3\"}};\n",
       "  var render_items = [{\"docid\":\"7303a82d-bb44-496d-99da-938f0088b56c\",\"root_ids\":[\"1751\"],\"roots\":{\"1751\":\"2e0bf1d5-0d10-4a79-b432-e56e0ee2e9bf\"}}];\n",
       "  root.Bokeh.embed.embed_items_notebook(docs_json, render_items);\n",
       "\n",
       "  }\n",
       "  if (root.Bokeh !== undefined) {\n",
       "    embed_document(root);\n",
       "  } else {\n",
       "    var attempts = 0;\n",
       "    var timer = setInterval(function(root) {\n",
       "      if (root.Bokeh !== undefined) {\n",
       "        clearInterval(timer);\n",
       "        embed_document(root);\n",
       "      } else {\n",
       "        attempts++;\n",
       "        if (attempts > 100) {\n",
       "          clearInterval(timer);\n",
       "          console.log(\"Bokeh: ERROR: Unable to run BokehJS code because BokehJS library is missing\");\n",
       "        }\n",
       "      }\n",
       "    }, 10, root)\n",
       "  }\n",
       "})(window);"
      ],
      "application/vnd.bokehjs_exec.v0+json": ""
     },
     "metadata": {
      "application/vnd.bokehjs_exec.v0+json": {
       "id": "1751"
      }
     },
     "output_type": "display_data"
    }
   ],
   "source": [
    "from bokeh.models import ColumnDataSource, CustomJS, TapTool\n",
    "\n",
    "callback = CustomJS(code=\"alert('you tapped a circle!')\")\n",
    "\n",
    "tap = TapTool(callback=callback)\n",
    "\n",
    "p = figure(plot_width=600, plot_height=300, tools=[tap])\n",
    "\n",
    "p.circle(x=[1, 2, 3, 4, 5], y=[2, 5, 8, 2, 7], size=20)\n",
    "\n",
    "show(p)"
   ]
  },
  {
   "cell_type": "code",
   "execution_count": 9,
   "id": "b1b36af0-d6ec-4901-a5f4-0e184894194a",
   "metadata": {},
   "outputs": [
    {
     "data": {
      "text/html": [
       "\n",
       "\n",
       "\n",
       "\n",
       "\n",
       "\n",
       "  <div class=\"bk-root\" id=\"d2894940-227d-499a-839b-ceef7fdfba14\" data-root-id=\"1935\"></div>\n"
      ]
     },
     "metadata": {},
     "output_type": "display_data"
    },
    {
     "data": {
      "application/javascript": [
       "(function(root) {\n",
       "  function embed_document(root) {\n",
       "    \n",
       "  var docs_json = {\"9aaf6b0a-7519-4a7b-91e5-312773f5d985\":{\"defs\":[],\"roots\":{\"references\":[{\"attributes\":{\"children\":[{\"id\":\"1933\"},{\"id\":\"1897\"}]},\"id\":\"1935\",\"type\":\"Column\"},{\"attributes\":{},\"id\":\"2013\",\"type\":\"BasicTickFormatter\"},{\"attributes\":{},\"id\":\"1914\",\"type\":\"PanTool\"},{\"attributes\":{\"data\":{\"x\":[0.0,0.005,0.01,0.015,0.02,0.025,0.03,0.035,0.04,0.045,0.05,0.055,0.06,0.065,0.07,0.075,0.08,0.085,0.09,0.095,0.1,0.105,0.11,0.115,0.12,0.125,0.13,0.135,0.14,0.145,0.15,0.155,0.16,0.165,0.17,0.17500000000000002,0.18,0.185,0.19,0.195,0.2,0.20500000000000002,0.21,0.215,0.22,0.225,0.23,0.23500000000000001,0.24,0.245,0.25,0.255,0.26,0.265,0.27,0.275,0.28,0.28500000000000003,0.29,0.295,0.3,0.305,0.31,0.315,0.32,0.325,0.33,0.335,0.34,0.34500000000000003,0.35000000000000003,0.355,0.36,0.365,0.37,0.375,0.38,0.385,0.39,0.395,0.4,0.405,0.41000000000000003,0.41500000000000004,0.42,0.425,0.43,0.435,0.44,0.445,0.45,0.455,0.46,0.465,0.47000000000000003,0.47500000000000003,0.48,0.485,0.49,0.495,0.5,0.505,0.51,0.515,0.52,0.525,0.53,0.535,0.54,0.545,0.55,0.555,0.56,0.5650000000000001,0.5700000000000001,0.5750000000000001,0.58,0.585,0.59,0.595,0.6,0.605,0.61,0.615,0.62,0.625,0.63,0.635,0.64,0.645,0.65,0.655,0.66,0.665,0.67,0.675,0.68,0.685,0.6900000000000001,0.6950000000000001,0.7000000000000001,0.705,0.71,0.715,0.72,0.725,0.73,0.735,0.74,0.745,0.75,0.755,0.76,0.765,0.77,0.775,0.78,0.785,0.79,0.795,0.8,0.805,0.81,0.8150000000000001,0.8200000000000001,0.8250000000000001,0.8300000000000001,0.835,0.84,0.845,0.85,0.855,0.86,0.865,0.87,0.875,0.88,0.885,0.89,0.895,0.9,0.905,0.91,0.915,0.92,0.925,0.93,0.935,0.9400000000000001,0.9450000000000001,0.9500000000000001,0.9550000000000001,0.96,0.965,0.97,0.975,0.98,0.985,0.99,0.995,1.0],\"y\":[0.0,0.005,0.01,0.015,0.02,0.025,0.03,0.035,0.04,0.045,0.05,0.055,0.06,0.065,0.07,0.075,0.08,0.085,0.09,0.095,0.1,0.105,0.11,0.115,0.12,0.125,0.13,0.135,0.14,0.145,0.15,0.155,0.16,0.165,0.17,0.17500000000000002,0.18,0.185,0.19,0.195,0.2,0.20500000000000002,0.21,0.215,0.22,0.225,0.23,0.23500000000000001,0.24,0.245,0.25,0.255,0.26,0.265,0.27,0.275,0.28,0.28500000000000003,0.29,0.295,0.3,0.305,0.31,0.315,0.32,0.325,0.33,0.335,0.34,0.34500000000000003,0.35000000000000003,0.355,0.36,0.365,0.37,0.375,0.38,0.385,0.39,0.395,0.4,0.405,0.41000000000000003,0.41500000000000004,0.42,0.425,0.43,0.435,0.44,0.445,0.45,0.455,0.46,0.465,0.47000000000000003,0.47500000000000003,0.48,0.485,0.49,0.495,0.5,0.505,0.51,0.515,0.52,0.525,0.53,0.535,0.54,0.545,0.55,0.555,0.56,0.5650000000000001,0.5700000000000001,0.5750000000000001,0.58,0.585,0.59,0.595,0.6,0.605,0.61,0.615,0.62,0.625,0.63,0.635,0.64,0.645,0.65,0.655,0.66,0.665,0.67,0.675,0.68,0.685,0.6900000000000001,0.6950000000000001,0.7000000000000001,0.705,0.71,0.715,0.72,0.725,0.73,0.735,0.74,0.745,0.75,0.755,0.76,0.765,0.77,0.775,0.78,0.785,0.79,0.795,0.8,0.805,0.81,0.8150000000000001,0.8200000000000001,0.8250000000000001,0.8300000000000001,0.835,0.84,0.845,0.85,0.855,0.86,0.865,0.87,0.875,0.88,0.885,0.89,0.895,0.9,0.905,0.91,0.915,0.92,0.925,0.93,0.935,0.9400000000000001,0.9450000000000001,0.9500000000000001,0.9550000000000001,0.96,0.965,0.97,0.975,0.98,0.985,0.99,0.995,1.0]},\"selected\":{\"id\":\"2016\"},\"selection_policy\":{\"id\":\"2015\"}},\"id\":\"1896\",\"type\":\"ColumnDataSource\"},{\"attributes\":{},\"id\":\"2014\",\"type\":\"AllLabels\"},{\"attributes\":{\"below\":[{\"id\":\"1906\"}],\"center\":[{\"id\":\"1909\"},{\"id\":\"1913\"}],\"height\":400,\"left\":[{\"id\":\"1910\"}],\"renderers\":[{\"id\":\"1931\"}],\"title\":{\"id\":\"2007\"},\"toolbar\":{\"id\":\"1921\"},\"width\":400,\"x_range\":{\"id\":\"1898\"},\"x_scale\":{\"id\":\"1902\"},\"y_range\":{\"id\":\"1900\"},\"y_scale\":{\"id\":\"1904\"}},\"id\":\"1897\",\"subtype\":\"Figure\",\"type\":\"Plot\"},{\"attributes\":{},\"id\":\"1915\",\"type\":\"WheelZoomTool\"},{\"attributes\":{},\"id\":\"2015\",\"type\":\"UnionRenderers\"},{\"attributes\":{\"line_alpha\":0.6,\"line_color\":\"#1f77b4\",\"line_width\":3,\"x\":{\"field\":\"x\"},\"y\":{\"field\":\"y\"}},\"id\":\"1929\",\"type\":\"Line\"},{\"attributes\":{\"overlay\":{\"id\":\"1920\"}},\"id\":\"1916\",\"type\":\"BoxZoomTool\"},{\"attributes\":{},\"id\":\"2016\",\"type\":\"Selection\"},{\"attributes\":{},\"id\":\"1917\",\"type\":\"SaveTool\"},{\"attributes\":{},\"id\":\"1918\",\"type\":\"ResetTool\"},{\"attributes\":{},\"id\":\"1898\",\"type\":\"DataRange1d\"},{\"attributes\":{},\"id\":\"1919\",\"type\":\"HelpTool\"},{\"attributes\":{},\"id\":\"1900\",\"type\":\"DataRange1d\"},{\"attributes\":{\"args\":{\"slider\":{\"id\":\"1933\"},\"source\":{\"id\":\"1896\"}},\"code\":\"\\n    var data = source.data;\\n    var f = slider.value;\\n    var x = data['x']\\n    var y = data['y']\\n    for (var i = 0; i < x.length; i++) {\\n        y[i] = Math.pow(x[i], f)\\n    }\\n    \\n    // necessary becasue we mutated source.data in-place\\n    source.change.emit();\\n\"},\"id\":\"1934\",\"type\":\"CustomJS\"},{\"attributes\":{},\"id\":\"1902\",\"type\":\"LinearScale\"},{\"attributes\":{},\"id\":\"1904\",\"type\":\"LinearScale\"},{\"attributes\":{\"formatter\":{\"id\":\"2010\"},\"major_label_policy\":{\"id\":\"2011\"},\"ticker\":{\"id\":\"1907\"}},\"id\":\"1906\",\"type\":\"LinearAxis\"},{\"attributes\":{\"bottom_units\":\"screen\",\"fill_alpha\":0.5,\"fill_color\":\"lightgrey\",\"left_units\":\"screen\",\"level\":\"overlay\",\"line_alpha\":1.0,\"line_color\":\"black\",\"line_dash\":[4,4],\"line_width\":2,\"right_units\":\"screen\",\"syncable\":false,\"top_units\":\"screen\"},\"id\":\"1920\",\"type\":\"BoxAnnotation\"},{\"attributes\":{\"line_alpha\":0.1,\"line_color\":\"#1f77b4\",\"line_width\":3,\"x\":{\"field\":\"x\"},\"y\":{\"field\":\"y\"}},\"id\":\"1930\",\"type\":\"Line\"},{\"attributes\":{},\"id\":\"1907\",\"type\":\"BasicTicker\"},{\"attributes\":{\"active_multi\":null,\"tools\":[{\"id\":\"1914\"},{\"id\":\"1915\"},{\"id\":\"1916\"},{\"id\":\"1917\"},{\"id\":\"1918\"},{\"id\":\"1919\"}]},\"id\":\"1921\",\"type\":\"Toolbar\"},{\"attributes\":{\"source\":{\"id\":\"1896\"}},\"id\":\"1932\",\"type\":\"CDSView\"},{\"attributes\":{\"axis\":{\"id\":\"1906\"},\"ticker\":null},\"id\":\"1909\",\"type\":\"Grid\"},{\"attributes\":{\"formatter\":{\"id\":\"2013\"},\"major_label_policy\":{\"id\":\"2014\"},\"ticker\":{\"id\":\"1911\"}},\"id\":\"1910\",\"type\":\"LinearAxis\"},{\"attributes\":{},\"id\":\"1911\",\"type\":\"BasicTicker\"},{\"attributes\":{\"axis\":{\"id\":\"1910\"},\"dimension\":1,\"ticker\":null},\"id\":\"1913\",\"type\":\"Grid\"},{\"attributes\":{},\"id\":\"2007\",\"type\":\"Title\"},{\"attributes\":{},\"id\":\"2010\",\"type\":\"BasicTickFormatter\"},{\"attributes\":{\"data_source\":{\"id\":\"1896\"},\"glyph\":{\"id\":\"1929\"},\"hover_glyph\":null,\"muted_glyph\":null,\"nonselection_glyph\":{\"id\":\"1930\"},\"view\":{\"id\":\"1932\"}},\"id\":\"1931\",\"type\":\"GlyphRenderer\"},{\"attributes\":{},\"id\":\"2011\",\"type\":\"AllLabels\"},{\"attributes\":{\"end\":6,\"js_property_callbacks\":{\"change:value\":[{\"id\":\"1934\"}]},\"start\":0.1,\"step\":0.1,\"title\":\"power\",\"value\":1},\"id\":\"1933\",\"type\":\"Slider\"}],\"root_ids\":[\"1935\"]},\"title\":\"Bokeh Application\",\"version\":\"2.3.3\"}};\n",
       "  var render_items = [{\"docid\":\"9aaf6b0a-7519-4a7b-91e5-312773f5d985\",\"root_ids\":[\"1935\"],\"roots\":{\"1935\":\"d2894940-227d-499a-839b-ceef7fdfba14\"}}];\n",
       "  root.Bokeh.embed.embed_items_notebook(docs_json, render_items);\n",
       "\n",
       "  }\n",
       "  if (root.Bokeh !== undefined) {\n",
       "    embed_document(root);\n",
       "  } else {\n",
       "    var attempts = 0;\n",
       "    var timer = setInterval(function(root) {\n",
       "      if (root.Bokeh !== undefined) {\n",
       "        clearInterval(timer);\n",
       "        embed_document(root);\n",
       "      } else {\n",
       "        attempts++;\n",
       "        if (attempts > 100) {\n",
       "          clearInterval(timer);\n",
       "          console.log(\"Bokeh: ERROR: Unable to run BokehJS code because BokehJS library is missing\");\n",
       "        }\n",
       "      }\n",
       "    }, 10, root)\n",
       "  }\n",
       "})(window);"
      ],
      "application/vnd.bokehjs_exec.v0+json": ""
     },
     "metadata": {
      "application/vnd.bokehjs_exec.v0+json": {
       "id": "1935"
      }
     },
     "output_type": "display_data"
    }
   ],
   "source": [
    "from bokeh.layouts import column\n",
    "from bokeh.models import ColumnDataSource, CustomJS, Slider\n",
    "\n",
    "x = [x * 0.005 for x in range(0, 201)]\n",
    "\n",
    "source = ColumnDataSource(data=dict(x=x, y=x))\n",
    "\n",
    "plot = figure(plot_width=400, plot_height=400)\n",
    "plot.line(\"x\", \"y\", source=source, line_width=3, line_alpha=0.6)\n",
    "\n",
    "slider = Slider(start=0.1, end=6, value=1, step=0.1, title=\"power\")\n",
    "\n",
    "update_curve = CustomJS(\n",
    "    args=dict(source=source, slider=slider),\n",
    "    code=\"\"\"\n",
    "    var data = source.data;\n",
    "    var f = slider.value;\n",
    "    var x = data['x']\n",
    "    var y = data['y']\n",
    "    for (var i = 0; i < x.length; i++) {\n",
    "        y[i] = Math.pow(x[i], f)\n",
    "    }\n",
    "    \n",
    "    // necessary becasue we mutated source.data in-place\n",
    "    source.change.emit();\n",
    "\"\"\",\n",
    ")\n",
    "slider.js_on_change(\"value\", update_curve)\n",
    "\n",
    "\n",
    "show(column(slider, plot))"
   ]
  },
  {
   "cell_type": "code",
   "execution_count": 13,
   "id": "59124059-180d-4474-9c5e-d32c926ad100",
   "metadata": {},
   "outputs": [
    {
     "data": {
      "text/html": [
       "\n",
       "\n",
       "\n",
       "\n",
       "\n",
       "\n",
       "  <div class=\"bk-root\" id=\"976fc1a5-6013-48a9-a0e5-3a1457e2c0ea\" data-root-id=\"2788\"></div>\n"
      ]
     },
     "metadata": {},
     "output_type": "display_data"
    },
    {
     "data": {
      "application/javascript": [
       "(function(root) {\n",
       "  function embed_document(root) {\n",
       "    \n",
       "  var docs_json = {\"ffc37c93-6b0f-44b5-a719-6a26d74d7c5e\":{\"defs\":[],\"roots\":{\"references\":[{\"attributes\":{\"below\":[{\"id\":\"2799\"}],\"center\":[{\"id\":\"2802\"},{\"id\":\"2806\"}],\"height\":400,\"left\":[{\"id\":\"2803\"}],\"renderers\":[{\"id\":\"2815\"},{\"id\":\"2821\"}],\"title\":{\"id\":\"2789\"},\"toolbar\":{\"id\":\"2809\"},\"width\":400,\"x_range\":{\"id\":\"2791\"},\"x_scale\":{\"id\":\"2795\"},\"y_range\":{\"id\":\"2793\"},\"y_scale\":{\"id\":\"2797\"}},\"id\":\"2788\",\"subtype\":\"Figure\",\"type\":\"Plot\"},{\"attributes\":{\"data_source\":{\"id\":\"2787\"},\"glyph\":{\"id\":\"2812\"},\"hover_glyph\":null,\"muted_glyph\":null,\"nonselection_glyph\":{\"id\":\"2813\"},\"selection_glyph\":{\"id\":\"2814\"},\"view\":{\"id\":\"2816\"}},\"id\":\"2815\",\"type\":\"GlyphRenderer\"},{\"attributes\":{},\"id\":\"2797\",\"type\":\"LinearScale\"},{\"attributes\":{\"formatter\":{\"id\":\"2954\"},\"major_label_policy\":{\"id\":\"2955\"},\"ticker\":{\"id\":\"2800\"}},\"id\":\"2799\",\"type\":\"LinearAxis\"},{\"attributes\":{\"args\":{\"s1\":{\"id\":\"2787\"},\"s2\":{\"id\":\"2817\"}},\"code\":\"\\n    var inds = s1.selected.indices;\\n    if (inds.length == 0)\\n        return;\\n\\n    var ym = 0\\n    for (var i = 0; i < inds.length; i++) {\\n        ym += s1.data.y[inds[i]]\\n    }\\n    \\n    ym /= inds.length\\n    s2.data.ym = [ym, ym]\\n\\n    // necessary becasue we mutated source.data in-place\\n    s2.change.emit();  \\n\"},\"id\":\"2823\",\"type\":\"CustomJS\"},{\"attributes\":{},\"id\":\"2800\",\"type\":\"BasicTicker\"},{\"attributes\":{\"js_property_callbacks\":{\"change:indices\":[{\"id\":\"2823\"}]}},\"id\":\"2824\",\"type\":\"Selection\"},{\"attributes\":{\"line_alpha\":0.1,\"line_color\":\"orange\",\"line_width\":5,\"x\":{\"field\":\"xm\"},\"y\":{\"field\":\"ym\"}},\"id\":\"2820\",\"type\":\"Line\"},{\"attributes\":{\"text\":\"Select Here\"},\"id\":\"2789\",\"type\":\"Title\"},{\"attributes\":{\"axis\":{\"id\":\"2799\"},\"ticker\":null},\"id\":\"2802\",\"type\":\"Grid\"},{\"attributes\":{\"data\":{\"color\":[\"navy\",\"navy\",\"navy\",\"navy\",\"navy\",\"navy\",\"navy\",\"navy\",\"navy\",\"navy\",\"navy\",\"navy\",\"navy\",\"navy\",\"navy\",\"navy\",\"navy\",\"navy\",\"navy\",\"navy\",\"navy\",\"navy\",\"navy\",\"navy\",\"navy\",\"navy\",\"navy\",\"navy\",\"navy\",\"navy\",\"navy\",\"navy\",\"navy\",\"navy\",\"navy\",\"navy\",\"navy\",\"navy\",\"navy\",\"navy\",\"navy\",\"navy\",\"navy\",\"navy\",\"navy\",\"navy\",\"navy\",\"navy\",\"navy\",\"navy\",\"navy\",\"navy\",\"navy\",\"navy\",\"navy\",\"navy\",\"navy\",\"navy\",\"navy\",\"navy\",\"navy\",\"navy\",\"navy\",\"navy\",\"navy\",\"navy\",\"navy\",\"navy\",\"navy\",\"navy\",\"navy\",\"navy\",\"navy\",\"navy\",\"navy\",\"navy\",\"navy\",\"navy\",\"navy\",\"navy\",\"navy\",\"navy\",\"navy\",\"navy\",\"navy\",\"navy\",\"navy\",\"navy\",\"navy\",\"navy\",\"navy\",\"navy\",\"navy\",\"navy\",\"navy\",\"navy\",\"navy\",\"navy\",\"navy\",\"navy\",\"navy\",\"navy\",\"navy\",\"navy\",\"navy\",\"navy\",\"navy\",\"navy\",\"navy\",\"navy\",\"navy\",\"navy\",\"navy\",\"navy\",\"navy\",\"navy\",\"navy\",\"navy\",\"navy\",\"navy\",\"navy\",\"navy\",\"navy\",\"navy\",\"navy\",\"navy\",\"navy\",\"navy\",\"navy\",\"navy\",\"navy\",\"navy\",\"navy\",\"navy\",\"navy\",\"navy\",\"navy\",\"navy\",\"navy\",\"navy\",\"navy\",\"navy\",\"navy\",\"navy\",\"navy\",\"navy\",\"navy\",\"navy\",\"navy\",\"navy\",\"navy\",\"navy\",\"navy\",\"navy\",\"navy\",\"navy\",\"navy\",\"navy\",\"navy\",\"navy\",\"navy\",\"navy\",\"navy\",\"navy\",\"navy\",\"navy\",\"navy\",\"navy\",\"navy\",\"navy\",\"navy\",\"navy\",\"navy\",\"navy\",\"navy\",\"navy\",\"navy\",\"navy\",\"navy\",\"navy\",\"navy\",\"navy\",\"navy\",\"navy\",\"navy\",\"navy\",\"navy\",\"navy\",\"navy\",\"navy\",\"navy\",\"navy\",\"navy\",\"navy\",\"navy\",\"navy\",\"navy\",\"navy\",\"navy\",\"navy\",\"navy\",\"navy\",\"navy\",\"navy\",\"navy\",\"navy\",\"navy\",\"navy\",\"navy\",\"navy\",\"navy\",\"navy\",\"navy\",\"navy\",\"navy\",\"navy\",\"navy\",\"navy\",\"navy\",\"navy\",\"navy\",\"navy\",\"navy\",\"navy\",\"navy\",\"navy\",\"navy\",\"navy\",\"navy\",\"navy\",\"navy\",\"navy\",\"navy\",\"navy\",\"navy\",\"navy\",\"navy\",\"navy\",\"navy\",\"navy\",\"navy\",\"navy\",\"navy\",\"navy\",\"navy\",\"navy\",\"navy\",\"navy\",\"navy\",\"navy\",\"navy\",\"navy\",\"navy\",\"navy\",\"navy\",\"navy\",\"navy\",\"navy\",\"navy\",\"navy\",\"navy\",\"navy\",\"navy\",\"navy\",\"navy\",\"navy\",\"navy\",\"navy\",\"navy\",\"navy\",\"navy\",\"navy\",\"navy\",\"navy\",\"navy\",\"navy\",\"navy\",\"navy\",\"navy\",\"navy\",\"navy\",\"navy\",\"navy\",\"navy\",\"navy\",\"navy\",\"navy\",\"navy\",\"navy\",\"navy\",\"navy\",\"navy\",\"navy\",\"navy\",\"navy\",\"navy\",\"navy\",\"navy\",\"navy\",\"navy\",\"navy\",\"navy\",\"navy\",\"navy\",\"navy\",\"navy\",\"navy\",\"navy\",\"navy\",\"navy\",\"navy\",\"navy\",\"navy\",\"navy\",\"navy\",\"navy\",\"navy\",\"navy\",\"navy\",\"navy\",\"navy\",\"navy\",\"navy\",\"navy\",\"navy\",\"navy\",\"navy\",\"navy\",\"navy\",\"navy\",\"navy\",\"navy\",\"navy\",\"navy\",\"navy\",\"navy\",\"navy\",\"navy\",\"navy\",\"navy\",\"navy\",\"navy\",\"navy\",\"navy\",\"navy\",\"navy\",\"navy\",\"navy\",\"navy\",\"navy\",\"navy\",\"navy\",\"navy\",\"navy\",\"navy\",\"navy\",\"navy\",\"navy\",\"navy\",\"navy\",\"navy\",\"navy\",\"navy\",\"navy\",\"navy\",\"navy\",\"navy\",\"navy\",\"navy\",\"navy\",\"navy\",\"navy\",\"navy\",\"navy\",\"navy\",\"navy\",\"navy\",\"navy\",\"navy\",\"navy\",\"navy\",\"navy\",\"navy\",\"navy\",\"navy\",\"navy\",\"navy\",\"navy\",\"navy\",\"navy\",\"navy\",\"navy\",\"navy\",\"navy\",\"navy\",\"navy\",\"navy\",\"navy\",\"navy\",\"navy\",\"navy\",\"navy\",\"navy\",\"navy\",\"navy\",\"navy\",\"navy\",\"navy\",\"navy\",\"navy\",\"navy\",\"navy\",\"navy\",\"navy\",\"navy\",\"navy\",\"navy\",\"navy\",\"navy\",\"navy\",\"navy\",\"navy\",\"navy\",\"navy\",\"navy\",\"navy\",\"navy\",\"navy\",\"navy\",\"navy\",\"navy\",\"navy\",\"navy\",\"navy\",\"navy\",\"navy\",\"navy\",\"navy\",\"navy\",\"navy\",\"navy\",\"navy\",\"navy\",\"navy\",\"navy\",\"navy\",\"navy\",\"navy\",\"navy\",\"navy\",\"navy\",\"navy\",\"navy\",\"navy\",\"navy\",\"navy\",\"navy\",\"navy\",\"navy\",\"navy\",\"navy\",\"navy\",\"navy\",\"navy\",\"navy\",\"navy\",\"navy\",\"navy\",\"navy\",\"navy\",\"navy\",\"navy\",\"navy\",\"navy\",\"navy\",\"navy\",\"navy\",\"navy\",\"navy\",\"navy\",\"navy\",\"navy\",\"navy\",\"navy\",\"navy\",\"navy\",\"navy\",\"navy\",\"navy\",\"navy\",\"navy\",\"navy\",\"navy\",\"navy\",\"navy\",\"navy\",\"navy\",\"navy\",\"navy\",\"navy\"],\"x\":[0.7526333316643736,0.42928345396018097,0.4938443512377363,0.9188404636351646,0.6914844134711918,0.9131844887915613,0.5602810801004495,0.32286899789026047,0.6082811947324107,0.9166538937691611,0.7187695542015731,0.35297854050237665,0.4009627253443273,0.21033513664276537,0.8602136907199941,0.7950862126004083,0.22239785855412408,0.7708976735636843,0.6432062803812061,0.35785353556604027,0.5155148288299543,0.26518371673027474,0.22595934553365082,0.1989857805850559,0.8639137523482421,0.30614300579627407,0.20092491612316976,0.5062881428076484,0.9868684514176717,0.8534200043287584,0.9944561476509428,0.5692670525587354,0.8817104342625472,0.15074155258893684,0.5318105868909047,0.7516737363874484,0.49018593924473375,0.48233123628107355,0.123489788277519,0.5950138505372764,0.2618456604964531,0.8613505643253204,0.8186931265032991,0.8874680222896932,0.7064073998377557,0.14369983843492984,0.9872957219686448,0.3071102076311385,0.06855620730743484,0.7140036887714856,0.7578834558322313,0.5326339926455458,0.5839027596412001,0.3946257266859625,0.38802316289716465,0.7457434406481576,0.6418355099055936,0.8134621791275513,0.5213839282071918,0.44543218030778164,0.19037056807869823,0.10994182840030653,0.7351160364333995,0.6197946144744537,0.3962502486728816,0.48713189015782365,0.8282308916810569,0.7392003552394936,0.5606936002929064,0.21891023362959283,0.43225421400775277,0.475103089458071,0.18827090597795848,0.37604955712761334,0.06980858416285396,0.49468436926411385,0.5642888093025948,0.07880076594978291,0.07716626180151664,0.21216180384387195,0.6109025138588873,0.8611960548365547,0.02137714286381187,0.8076597806342064,0.737871277521722,0.3655618432419391,0.8537550757109313,0.2717130937488852,0.362720485028701,0.39465094907547904,0.26354314444171323,0.48698984805836365,0.28747492563253185,0.20071676343188605,0.5456850363193453,0.4805005876296121,0.5545732663002509,0.5186326707192457,0.7481658596105669,0.9816411510933514,0.06455885922667204,0.7159512412185504,0.31007149629411357,0.836957471864019,0.5110137287664634,0.8213721837569143,0.011939133734438112,0.11522715993110222,0.6919963086471107,0.219928300177049,0.8594765632478268,0.8750698144501269,0.13493156769032655,0.8260397499314835,0.5036033778193076,0.8888692748728145,0.3670224566577911,0.74746255789589,0.23493359437094574,0.5093042372407727,0.38584433172313093,0.986557646563662,0.31560356052438754,0.5412693025327124,0.2653289991914024,0.5817309165478198,0.01838436137912136,0.5116680476968194,0.006046057073902711,0.7108613139088843,0.502424217128932,0.44776019222672037,0.32008843725983327,0.19837369867729004,0.01427784292813794,0.7897471336978802,0.42867648353932475,0.9595263213424401,0.3724969323297992,0.385717963262622,0.23778565241077698,0.19415680376144018,0.41928551996817176,0.6629704247330903,0.3633497331600455,0.6737139456010691,0.4918195136944181,0.25652949145544246,0.3629324818130928,0.7296117746660262,0.3478538182971488,0.2263256420819989,0.4821711337241532,0.9693549729873923,0.7175481106976779,0.29979210301775017,0.49814991047128987,0.9881044103983256,0.4990444018310679,0.4287047998220933,0.8944482797911056,0.8116817146156148,0.06857243600559215,0.5319830824652694,0.9549448984544411,0.5170196395040988,0.24000718310829916,0.2825163042007911,0.8648097425770401,0.4869058437968877,0.5762919020057718,0.7812963359800582,0.06357806919774645,0.18061287323461528,0.05991612900666232,0.32288280711333994,0.9964112226552145,0.10042441438386485,0.14041416500897996,0.5897273559021912,0.7394506818316174,0.40139420369109824,0.1991966637761965,0.5004950763138267,0.6514601928589243,0.4138655491360511,0.15523866386961116,0.2606940031771531,0.8550663391856841,0.11678226826415061,0.7855412617722987,0.6605796409972668,0.46283487679353996,0.5997806026244727,0.563843324724689,0.6192022410451216,0.9318021402027395,0.16042916339606783,0.5313464059149776,0.3890856271298979,0.2614343920609369,0.6509423389976691,0.9969656931283561,0.12626733131719614,0.38197886210920495,0.17974747628005838,0.612399022916323,0.42279433685298784,0.4647123756746596,0.03950631692254025,0.2156349311302943,0.8080851350336163,0.3258341900319607,0.546721424546463,0.650761279641778,0.1639603432816542,0.9982400499170703,0.9873737269319424,0.22787590993571516,0.30932693215984786,0.6022325748979254,0.7502446627126635,0.5085340730190931,0.5241769882237838,0.3560079648602381,0.62778590575099,0.3088067181705557,0.17938620722572862,0.18555455669124754,0.2757246634749255,0.8550761728507574,0.16929228522746698,0.35473852742485,0.8529958773273716,0.7670861731277164,0.31654479813596725,0.19136045840337423,0.5490434159293437,0.9844070734095538,0.4481165369303981,0.7308502288102163,0.32082049637910315,0.9309192642008485,0.6561171239779349,0.6873079427844465,0.7222014488783282,0.556528360129043,0.5913231848962011,0.7143675503495962,0.7192815783418637,0.8538679358908574,0.13816605456640652,0.8774108938600408,0.485461481035093,0.9954622162249772,0.4256622127123779,0.5027445227720954,0.2865208160620756,0.0474037834093195,0.21793232761068082,0.5811814566222945,0.9431544390548099,0.33736349156780276,0.3121824477068197,0.4821669705541939,0.073260108684995,0.4154855847014598,0.8687508143262328,0.19623818804555104,0.828087614319529,0.0383398503544401,0.03201862368976227,0.299507710937003,0.015342663668941325,0.5453163942181137,0.12889576449821805,0.5641018806371009,0.7918629625457917,0.40748206893301575,0.0005209262900593981,0.39805021066527746,0.6174116676570625,0.9636242265933802,0.1097363756669717,0.9863826200433522,0.7035422421473766,0.08265921939259913,0.8194096428918455,0.7126984297490931,0.9676037349066524,0.9845580110772767,0.4697560976162779,0.06857515176921514,0.16149530323867933,0.5988282181561915,0.2470213338869176,0.4468713995856447,0.14660480638596995,0.9513378011182311,0.6070494279262308,0.8111213176843434,0.18729040196881896,0.666327255524455,0.11095769280152579,0.33774271239017284,0.9643980472874081,0.8040573273656674,0.0322151624464051,0.6806998090019164,0.9122991462607261,0.6501705065353026,0.4825301368139969,0.10341162577290053,0.48428424974158524,0.06965168257551302,0.6823635068712858,0.08943620734245317,0.34056764047280264,0.7598854212822242,0.7248801779731008,0.5703650516555837,0.22965870833743696,0.4236089240125841,0.6967790601083675,0.3868784928012451,0.2320963858199806,0.9891205153800176,0.4370400294073129,0.9990572882702777,0.4292034178784496,0.4881824358575698,0.6125632852496156,0.9541397174460027,0.2576659960803772,0.9057482779607994,0.8342063828826886,0.6237229484963994,0.5375639388856347,0.995192185605885,0.3806502342421939,0.32457114216052096,0.7168333654822255,0.7818729347205523,0.4131150315979042,0.4187409812123194,0.6011829843187104,0.33065453539099854,0.10471842825385091,0.09383781475531616,0.23582682490006046,0.18147865828748322,0.9314670391831263,0.5880775554683247,0.06428041188286149,0.6371964951243927,0.3135329055598096,0.041045581019436894,0.12518865194841122,0.9017141235363036,0.4110390514477835,0.3015177900477791,0.780380317538548,0.6688226711289369,0.7912935502533867,0.9212164240743853,0.6884977839756296,0.060765818974374275,0.08369497324846875,0.9697377785517389,0.44966455399842953,0.15376657966989804,0.8087473072059275,0.09315738691601894,0.2295383881295735,0.4407511079021649,0.564840545363788,0.13007154855483172,0.12138111916175631,0.9507499906574537,0.7755614830134323,0.7455683428511519,0.6952119279988929,0.5791630992377881,0.32133277225709134,0.12975111906689873,0.06188251426256974,0.26448254157037054,0.5681111268327285,0.5914668295918891,0.5674235038353636,0.6973096284906601,0.15524338414743988,0.34729199842832836,0.6040521832928143,0.4634847572261416,0.29009317118906497,0.40099852325586416,0.2874057139052901,0.929198723590848,0.28190810957842094,0.9043864819903361,0.292652103463667,0.8512594383237608,0.5636181396425612,0.1533703512616552,0.5101705505684803,0.726575794052323,0.21864728428934765,0.7760321773128992,0.056176624950508014,0.0002726317575487691,0.4918137501741857,0.20697881319703215,0.3649077050299323,0.8936335756734919,0.17398048733743654,0.5676362796447157,0.030099481395593042,0.9477170568138301,0.060045553895557324,0.8018989031299733,0.670363401216827,0.6235316114891113,0.259158564635391,0.8780031217566882,0.9474434882496211,0.849459035403465,0.6865047304136448,0.38905641604413055,0.711047795643689,0.04356553465413915,0.7386900146240216,0.13872330057202487,0.020234443826043336,0.3657061145723238,0.2466253768549871,0.06445313273671294,0.510350930676363,0.01731891132220187,0.8812957592641394,0.6917869058731436,0.36361706684729667,0.8835070763175488,0.4266336076076661,0.49290983223654694,0.19328335928224905,0.17070908527670936,0.6802998430223285,0.365732681178106,0.44017108577216635,0.25838955857278123,0.771376803714701,0.5281002859119992,0.7837611998103833,0.28629636772672173,0.6941782287920423,0.2640909287761207,0.23439672993037974,0.8540379610630063,0.42915049498421565,0.5435200973440808,0.014116048401270787,0.9825132592998486,0.5642082148420718,0.8504167633499112,0.10870668124207539,0.729470401917128,0.01611661821371768,0.6701020845996781,0.8683139608372774,0.5328614945961407,0.954317991337099,0.6469620794711219,0.761364173098212,0.8428860281934967,0.049081382479370106,0.8501401568055579,0.8923531006424661,0.5176208037975834,0.947814083783943,0.9949635195198029,0.6969250981683355,0.1558287642773034,0.5459167615307783,0.7488261759653327,0.28407476796061315,0.34809317848817956,0.41019372527147735,0.3118330691724839,0.3548636163948842,0.23170736272332582,0.3412087312536911,0.9262717503151185,0.3602510630354857,0.8488828344557579,0.44714456912587053,0.7095727936780216,0.7754615513420006,0.42562003330983433,0.9283898584603822],\"y\":[0.5389042949196927,0.8719186738730368,0.8979949641704662,0.9687008834144613,0.4269392617430413,0.1799427462693437,0.5674673162122806,0.44707194920517135,0.062116903188376704,0.47799120790868743,1.0304760468593521e-05,0.5946640561180487,0.9029521127766328,0.6135205087931346,0.046491699172335865,0.2990798010112292,0.5530108859190889,0.0667453442590481,0.1253364428529784,0.5572850668877998,0.988202472075054,0.35481538293276416,0.09586425550169575,0.6241496663676727,0.9696604439387644,0.8014287213271811,0.7205545788553944,0.3585843051372667,0.7354993492774774,0.09548870177538826,0.8612590413972337,0.2062852421698933,0.4713086856973171,0.6311484612849726,0.14255151244624997,0.2579925278135332,0.2537422950589392,0.6329258437786862,0.8627830824093882,0.8110961285788,0.09979411299396435,0.486563111660236,0.763368781873064,0.8441020376448145,0.492084953939412,0.2840690716127261,0.17159999655765623,0.6936548781649354,0.8582386667498887,0.8854107634703413,0.868902158140232,0.4401056594245393,0.9841641882611802,0.5631141545757522,0.12860057566776362,0.057709688578578056,0.8184033452614216,0.9448513615988563,0.306685433661417,0.3575487556632113,0.4540479528330238,0.8070997833619058,0.6727433404930532,0.6543146464375676,0.0345510635342966,0.7712421585942612,0.5399442714333378,0.780840249863076,0.48155319963297605,0.4669765058949803,0.45887607044763845,0.22081064701973496,0.005748469059171701,0.6000444471401571,0.7370928932598486,0.9217851146638366,0.16372812529954817,0.09206158166219303,0.6797467488083322,0.21118754370844128,0.054912735219453834,0.04847566407809534,0.3228279099876571,0.5993618069380637,0.18700756506710436,0.5872075372233703,0.9041378876505997,0.2877880075032714,0.09682154442655244,0.5318181189022264,0.4275804504446812,0.5945293268685163,0.4684325338619377,0.7787539362458571,0.15091353437309885,0.6434422582132115,0.5544878872190101,0.39283921485270157,0.6558163038450444,0.39006492594694,0.13047752976100713,0.630540758790278,0.3345408131060499,0.541015797915768,0.5827753131859267,0.43802146855791313,0.4247806992350125,0.928356387928238,0.3098789603165545,0.6950767632974616,0.8500895769518572,0.7599904519741556,0.9144000285102811,0.761162639887091,0.21334040563394896,0.5977174784474694,0.9337296802713241,0.21665312448378538,0.9804949792444431,0.4691195695481468,0.7356342028955196,0.4676475604238969,0.14139349637685195,0.5549600656990478,0.8973565493720049,0.6557391075242736,0.5684025280138395,0.769013230485356,0.10971648506785336,0.7185754637085082,0.26572924232399375,0.6726522210974296,0.7893898687373424,0.6848228162527273,0.2582691379420625,0.17244956320706373,0.15532990661145663,0.7202798300083503,0.20104122053407025,0.5801803085002305,0.805713963183559,0.392456556112042,0.2423955324727396,0.4404040809376564,0.25913727711226786,0.8308080212177251,0.4539001473758769,0.4460641005110849,0.6406782725797516,0.6842841878773558,0.6749842130222707,0.1933172599131926,0.03998832214036818,0.13080059917897646,0.5235074160091745,0.8480627269849443,0.2737382291110684,0.4510369322507707,0.8670416426603231,0.8638017763691366,0.052895777985091486,0.34515300669860005,0.6430566250392059,0.6122123263575096,0.06951409150343624,0.23707171302591556,0.12988545972537746,0.05786231714934642,0.2228276443453766,0.012126031073186216,0.87396737954624,0.6263550516244982,0.9469541869075282,0.15544757157995504,0.8097323972926997,0.004234830402495837,0.6572291648326745,0.47473554163893705,0.6383663072748302,0.6271371088334642,0.32509806392235485,0.3521418492196745,0.9106382776703471,0.011375169642907856,0.9288194756890211,0.004981465418957276,0.29823567180377875,0.8989921030765674,0.3495969220572992,0.46984672721240495,0.03825859041860036,0.10342353406779503,0.8783748220813283,0.7177171181068293,0.8706827767846138,0.8410033393090094,0.698272526039355,0.6245444867541019,0.6415102024557495,0.47951868902875017,0.6157003831333523,0.0526472220742793,0.05296470859696045,0.4622109625181776,0.2979952506635578,0.7367813501129448,0.8621449052912095,0.47862630643326176,0.24012141939802323,0.8370046124257593,0.6051261474864298,0.39232225252529496,0.29452480384310176,0.3800964819030901,0.8281993358550672,0.7880801765963825,0.9628704405476062,0.5050411178213788,0.12612774795763448,0.1482146933448929,0.5845382279599385,0.44184487423503005,0.6324885467269794,0.1983416212984378,0.5150262265454859,0.5021353746855618,0.35955250754866275,0.34230353021414595,0.1014615525964836,0.8651917431773805,0.0754740476950525,0.6965139920037234,0.3540420296466389,0.7515022996134317,0.060866847456806705,0.0550745121038152,0.7258612916293858,0.44252650696404583,0.8188187617200381,0.9355097208203963,0.7750407819687755,0.38594553280516974,0.5718419990641787,0.6587700171400748,0.6392228600177442,0.47613177002491547,0.024354970309697244,0.8286284335143975,0.7628983175002141,0.5583384543618718,0.6980154076097195,0.8248577581794225,0.29824495639447135,0.6373706403687961,0.44067279200209897,0.8968238472758018,0.9573735229535196,0.9561847816031857,0.25656824630344477,0.46635917742536803,0.662061528133273,0.8581015648680895,0.5983274017197279,0.5156636364328897,0.43883248422019305,0.8659217988964604,0.4275557886658281,0.9289390467338279,0.4897397223076757,0.7447136821132503,0.13240099704340103,0.9606613499938008,0.38571105167514097,0.5067888301656711,0.37768118485879787,0.6414981680580087,0.5411180724513892,0.020377009364897725,0.46549995119294896,0.5693207598123271,0.5683281364716096,0.7199677316631306,0.08858028917672711,0.06213721750947532,0.1589531095565856,0.9001561216428509,0.8329875609591203,0.369894710827275,0.33075307901507456,0.7747570096888972,0.8734182265538846,0.24251359896257096,0.3839603243905887,0.26672464919395367,0.7721660119263789,0.9447601655514883,0.776767927455292,0.7814595659633138,0.9762669332390413,0.06315395820063585,0.03649886627739385,0.9570241883675943,0.7608734608195616,0.19680708428555793,0.06139295327777372,0.6667794503990537,0.6613467964024525,0.3656815354191576,0.9565469659115189,0.6967065151468902,0.018410117964818284,0.3169570918574166,0.675936267864294,0.6104817143513821,0.3964966589981145,0.6442510344746489,0.17940538627163427,0.5739064151972545,0.043733909876791155,0.9112586883467731,0.6638201568286107,0.9218009083597479,0.2531631376955833,0.4744089070893379,0.6208713091870646,0.3137343689844525,0.8715272866765799,0.22125174989516982,0.26345994058316713,0.9105465724893093,0.2710945963269119,0.17456667871024634,0.6364298460320162,0.28635440239551135,0.9985879793378527,0.22442627548242622,0.855005978089821,0.4117929407245502,0.1961563947560222,0.13034491885201738,0.8970213124882624,0.5414168000715631,0.26254874806943385,0.5528795601278754,0.17447468988142056,0.06221047495448839,0.9354787685993676,0.5623223186096521,0.1426945799118312,0.43130761368000925,0.22270551224075907,0.623471148292024,0.4495470106185726,0.4212675413952951,0.784090217204714,0.4381289223716154,0.07349516361269659,0.5195815627472739,0.38491114603199217,0.33384255638308413,0.08464335202569095,0.9626101865809785,0.13500713117531715,0.364393948714713,0.4240665948395397,0.8000753605584342,0.6721140744054366,0.3911238663958887,0.5566285361816942,0.7817712483729486,0.849755130697108,0.9247255188241673,0.06725011226960442,0.9195091891923809,0.7086390699852623,0.5634142547102299,0.340927417656663,0.052135675814852345,0.7017670133146199,0.6382440339646388,0.6231475542426621,0.6352764590902216,0.30089220132648153,0.5291484680117126,0.9231971869157909,0.9935222698564438,0.3071733213310681,0.36116202967494726,0.49501018121614737,0.5859959907034017,0.5210367137509261,0.8444629029580504,0.3450967031107145,0.8124305714025246,0.4926568866315826,0.36573143743059133,0.7418874005760107,0.9924887467687467,0.8203434617978484,0.37752587267883964,0.8887013174526879,0.7755045336049543,0.026158740021523408,0.5340629035818176,0.12028315497945596,0.9646326438110295,0.2995646018551331,0.3828784857806864,0.25051772719224874,0.6422966045219517,0.8403499244923852,0.9024481223194384,0.9587891101728863,0.08920345824547171,0.3884594312473084,0.678060244125186,0.5589519303574708,0.2886843182385118,0.379720087109658,0.5020428681169234,0.9690772783787976,0.58743261955918,0.9450112990424895,0.3547661402247274,0.8170459253680186,0.30642918965056176,0.1079692267603648,0.7555330961393145,0.6035173117147012,0.6846293430033472,0.872681494297893,0.05595625504366886,0.19231864417287392,0.011129218428781673,0.8886900219103235,0.03410517208844366,0.6856684491122177,0.8948958085640581,0.7553331801449336,0.5301705241232177,0.9789416288743257,0.7914495148992179,0.32954212632806046,0.48500918459002096,0.07173549061616302,0.933817010967626,0.1243426667794687,0.8940021163944802,0.9970276962664144,0.6292697179338259,0.4214167218610245,0.3922344349321105,0.968154621586462,0.4014208613222622,0.7409962410542054,0.9686999994473551,0.8223138754479626,0.6175633818384784,0.8913313035224304,0.512547004554002,0.627610649327949,0.8731106530596284,0.7182145711357231,0.4019162845471117,0.6865859822878954,0.014103778303205639,0.7198964375662907,0.006649777219864816,0.5670387761176119,0.4841982577508851,0.09018180013345045,0.12002296713181904,0.9320029382457384,0.16061387037469932,0.8293503429813611,0.3302672643384087,0.7906023357702092,0.01666349095418529,0.0612945332519339,0.06838537194964323,0.6201840515461406,0.9612796508219013,0.11803285915108508,0.003189536090483558,0.04039975179232036,0.17012477309831486,0.03254468703926694,0.723711214748598,0.8591499636191718,0.3625344936063337,0.3310849889158014,0.6964876223422531,0.25647292488515716,0.4056934568423143,0.4751745217154695,0.600009047683029,0.06303396551277307,0.44127709801927184,0.7535012938919945,0.8637047646353473]},\"selected\":{\"id\":\"2824\"},\"selection_policy\":{\"id\":\"2959\"}},\"id\":\"2787\",\"type\":\"ColumnDataSource\"},{\"attributes\":{\"formatter\":{\"id\":\"2957\"},\"major_label_policy\":{\"id\":\"2958\"},\"ticker\":{\"id\":\"2804\"}},\"id\":\"2803\",\"type\":\"LinearAxis\"},{\"attributes\":{\"data_source\":{\"id\":\"2817\"},\"glyph\":{\"id\":\"2819\"},\"hover_glyph\":null,\"muted_glyph\":null,\"nonselection_glyph\":{\"id\":\"2820\"},\"view\":{\"id\":\"2822\"}},\"id\":\"2821\",\"type\":\"GlyphRenderer\"},{\"attributes\":{},\"id\":\"2804\",\"type\":\"BasicTicker\"},{\"attributes\":{\"line_alpha\":0.6,\"line_color\":\"orange\",\"line_width\":5,\"x\":{\"field\":\"xm\"},\"y\":{\"field\":\"ym\"}},\"id\":\"2819\",\"type\":\"Line\"},{\"attributes\":{\"axis\":{\"id\":\"2803\"},\"dimension\":1,\"ticker\":null},\"id\":\"2806\",\"type\":\"Grid\"},{\"attributes\":{\"source\":{\"id\":\"2817\"}},\"id\":\"2822\",\"type\":\"CDSView\"},{\"attributes\":{\"overlay\":{\"id\":\"2808\"}},\"id\":\"2807\",\"type\":\"LassoSelectTool\"},{\"attributes\":{},\"id\":\"2954\",\"type\":\"BasicTickFormatter\"},{\"attributes\":{},\"id\":\"2795\",\"type\":\"LinearScale\"},{\"attributes\":{\"active_multi\":null,\"tools\":[{\"id\":\"2807\"}]},\"id\":\"2809\",\"type\":\"Toolbar\"},{\"attributes\":{},\"id\":\"2955\",\"type\":\"AllLabels\"},{\"attributes\":{\"data\":{\"xm\":[0,1],\"ym\":[0.5,0.5]},\"selected\":{\"id\":\"2962\"},\"selection_policy\":{\"id\":\"2961\"}},\"id\":\"2817\",\"type\":\"ColumnDataSource\"},{\"attributes\":{},\"id\":\"2957\",\"type\":\"BasicTickFormatter\"},{\"attributes\":{},\"id\":\"2958\",\"type\":\"AllLabels\"},{\"attributes\":{\"fill_alpha\":0.5,\"fill_color\":\"lightgrey\",\"level\":\"overlay\",\"line_alpha\":1.0,\"line_color\":\"black\",\"line_dash\":[4,4],\"line_width\":2,\"syncable\":false,\"xs_units\":\"screen\",\"ys_units\":\"screen\"},\"id\":\"2808\",\"type\":\"PolyAnnotation\"},{\"attributes\":{},\"id\":\"2959\",\"type\":\"UnionRenderers\"},{\"attributes\":{},\"id\":\"2961\",\"type\":\"UnionRenderers\"},{\"attributes\":{\"fill_alpha\":{\"value\":0.4},\"fill_color\":{\"field\":\"color\"},\"line_alpha\":{\"value\":0.4},\"line_color\":{\"field\":\"color\"},\"size\":{\"value\":8},\"x\":{\"field\":\"x\"},\"y\":{\"field\":\"y\"}},\"id\":\"2812\",\"type\":\"Circle\"},{\"attributes\":{},\"id\":\"2962\",\"type\":\"Selection\"},{\"attributes\":{\"fill_alpha\":{\"value\":0.1},\"fill_color\":{\"field\":\"color\"},\"line_alpha\":{\"value\":0.1},\"line_color\":{\"field\":\"color\"},\"size\":{\"value\":8},\"x\":{\"field\":\"x\"},\"y\":{\"field\":\"y\"}},\"id\":\"2813\",\"type\":\"Circle\"},{\"attributes\":{\"source\":{\"id\":\"2787\"}},\"id\":\"2816\",\"type\":\"CDSView\"},{\"attributes\":{},\"id\":\"2791\",\"type\":\"DataRange1d\"},{\"attributes\":{\"fill_alpha\":{\"value\":0.4},\"fill_color\":{\"value\":\"firebrick\"},\"line_alpha\":{\"value\":0.4},\"line_color\":{\"value\":\"firebrick\"},\"size\":{\"value\":8},\"x\":{\"field\":\"x\"},\"y\":{\"field\":\"y\"}},\"id\":\"2814\",\"type\":\"Circle\"},{\"attributes\":{},\"id\":\"2793\",\"type\":\"DataRange1d\"}],\"root_ids\":[\"2788\"]},\"title\":\"Bokeh Application\",\"version\":\"2.3.3\"}};\n",
       "  var render_items = [{\"docid\":\"ffc37c93-6b0f-44b5-a719-6a26d74d7c5e\",\"root_ids\":[\"2788\"],\"roots\":{\"2788\":\"976fc1a5-6013-48a9-a0e5-3a1457e2c0ea\"}}];\n",
       "  root.Bokeh.embed.embed_items_notebook(docs_json, render_items);\n",
       "\n",
       "  }\n",
       "  if (root.Bokeh !== undefined) {\n",
       "    embed_document(root);\n",
       "  } else {\n",
       "    var attempts = 0;\n",
       "    var timer = setInterval(function(root) {\n",
       "      if (root.Bokeh !== undefined) {\n",
       "        clearInterval(timer);\n",
       "        embed_document(root);\n",
       "      } else {\n",
       "        attempts++;\n",
       "        if (attempts > 100) {\n",
       "          clearInterval(timer);\n",
       "          console.log(\"Bokeh: ERROR: Unable to run BokehJS code because BokehJS library is missing\");\n",
       "        }\n",
       "      }\n",
       "    }, 10, root)\n",
       "  }\n",
       "})(window);"
      ],
      "application/vnd.bokehjs_exec.v0+json": ""
     },
     "metadata": {
      "application/vnd.bokehjs_exec.v0+json": {
       "id": "2788"
      }
     },
     "output_type": "display_data"
    }
   ],
   "source": [
    "from random import random\n",
    "\n",
    "x = [random() for x in range(500)]\n",
    "y = [random() for y in range(500)]\n",
    "color = [\"navy\"] * len(x)\n",
    "\n",
    "s1 = ColumnDataSource(data=dict(x=x, y=y, color=color))\n",
    "\n",
    "p = figure(plot_width=400, plot_height=400, tools=\"lasso_select\", title=\"Select Here\")\n",
    "\n",
    "p.circle(\n",
    "    \"x\",\n",
    "    \"y\",\n",
    "    color=\"color\",\n",
    "    size=8,\n",
    "    alpha=0.4,\n",
    "    source=s1,\n",
    "    selection_color=\"firebrick\",\n",
    "    selection_alpha=0.4,\n",
    ")\n",
    "\n",
    "s2 = ColumnDataSource(data=dict(xm=[0, 1], ym=[0.5, 0.5]))\n",
    "\n",
    "p.line(x=\"xm\", y=\"ym\", color=\"orange\", line_width=5, alpha=0.6, source=s2)\n",
    "\n",
    "callback = CustomJS(\n",
    "    args=dict(s1=s1, s2=s2),\n",
    "    code=\"\"\"\n",
    "    var inds = s1.selected.indices;\n",
    "    if (inds.length == 0)\n",
    "        return;\n",
    "\n",
    "    var ym = 0\n",
    "    for (var i = 0; i < inds.length; i++) {\n",
    "        ym += s1.data.y[inds[i]]\n",
    "    }\n",
    "    \n",
    "    ym /= inds.length\n",
    "    s2.data.ym = [ym, ym]\n",
    "\n",
    "    // necessary becasue we mutated source.data in-place\n",
    "    s2.change.emit();  \n",
    "\"\"\",\n",
    ")\n",
    "\n",
    "s1.selected.js_on_change(\"indices\", callback)\n",
    "\n",
    "show(p)"
   ]
  },
  {
   "cell_type": "code",
   "execution_count": 11,
   "id": "f74da766-f37d-459b-a79e-9c4caad030db",
   "metadata": {},
   "outputs": [
    {
     "data": {
      "text/html": [
       "\n",
       "\n",
       "\n",
       "\n",
       "\n",
       "\n",
       "  <div class=\"bk-root\" id=\"f006bb96-d1ed-4cbd-bf27-c9b2ecb4913e\" data-root-id=\"2294\"></div>\n"
      ]
     },
     "metadata": {},
     "output_type": "display_data"
    },
    {
     "data": {
      "application/javascript": [
       "(function(root) {\n",
       "  function embed_document(root) {\n",
       "    \n",
       "  var docs_json = {\"4afd73f0-7461-46df-b4af-30547f3b1791\":{\"defs\":[],\"roots\":{\"references\":[{\"attributes\":{\"children\":[{\"id\":\"2292\"},{\"id\":\"2293\"}]},\"id\":\"2294\",\"type\":\"Column\"},{\"attributes\":{\"formatter\":{\"id\":\"2394\"},\"major_label_policy\":{\"id\":\"2395\"},\"ticker\":{\"id\":\"2275\"}},\"id\":\"2274\",\"type\":\"LinearAxis\"},{\"attributes\":{},\"id\":\"2272\",\"type\":\"LinearScale\"},{\"attributes\":{},\"id\":\"2270\",\"type\":\"LinearScale\"},{\"attributes\":{},\"id\":\"2399\",\"type\":\"UnionRenderers\"},{\"attributes\":{\"data\":{\"x\":{\"__ndarray__\":\"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\",\"dtype\":\"float64\",\"order\":\"little\",\"shape\":[2000]},\"y\":{\"__ndarray__\":\"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\",\"dtype\":\"float64\",\"order\":\"little\",\"shape\":[2000]}},\"selected\":{\"id\":\"2400\"},\"selection_policy\":{\"id\":\"2399\"}},\"id\":\"2286\",\"type\":\"ColumnDataSource\"},{\"attributes\":{\"width\":400},\"id\":\"2291\",\"type\":\"Div\"},{\"attributes\":{},\"id\":\"2394\",\"type\":\"BasicTickFormatter\"},{\"attributes\":{},\"id\":\"2266\",\"type\":\"DataRange1d\"},{\"attributes\":{\"below\":[{\"id\":\"2274\"}],\"center\":[{\"id\":\"2277\"},{\"id\":\"2281\"}],\"js_event_callbacks\":{\"selectiongeometry\":[{\"id\":\"2296\"}]},\"left\":[{\"id\":\"2278\"}],\"renderers\":[{\"id\":\"2289\"}],\"title\":{\"id\":\"2391\"},\"toolbar\":{\"id\":\"2284\"},\"x_range\":{\"id\":\"2266\"},\"x_scale\":{\"id\":\"2270\"},\"y_range\":{\"id\":\"2268\"},\"y_scale\":{\"id\":\"2272\"}},\"id\":\"2265\",\"subtype\":\"Figure\",\"type\":\"Plot\"},{\"attributes\":{},\"id\":\"2400\",\"type\":\"Selection\"},{\"attributes\":{\"data_source\":{\"id\":\"2286\"},\"glyph\":{\"id\":\"2287\"},\"hover_glyph\":null,\"muted_glyph\":null,\"nonselection_glyph\":{\"id\":\"2288\"},\"view\":{\"id\":\"2290\"}},\"id\":\"2289\",\"type\":\"GlyphRenderer\"},{\"attributes\":{\"args\":{\"div\":{\"id\":\"2291\"}},\"code\":\"\\ndiv.text = \\\"Selection! <p> <p>\\\" + JSON.stringify(cb_obj.geometry, undefined, 2);\\n\"},\"id\":\"2296\",\"type\":\"CustomJS\"},{\"attributes\":{\"icon\":null,\"js_event_callbacks\":{\"button_click\":[{\"id\":\"2295\"}]},\"width\":300},\"id\":\"2292\",\"type\":\"Button\"},{\"attributes\":{\"fill_alpha\":{\"value\":0.6},\"fill_color\":{\"value\":\"#1f77b4\"},\"line_color\":{\"value\":null},\"radius\":{\"value\":1},\"x\":{\"field\":\"x\"},\"y\":{\"field\":\"y\"}},\"id\":\"2287\",\"type\":\"Circle\"},{\"attributes\":{\"fill_alpha\":{\"value\":0.1},\"fill_color\":{\"value\":\"#1f77b4\"},\"line_alpha\":{\"value\":0.1},\"line_color\":{\"value\":null},\"radius\":{\"value\":1},\"x\":{\"field\":\"x\"},\"y\":{\"field\":\"y\"}},\"id\":\"2288\",\"type\":\"Circle\"},{\"attributes\":{\"source\":{\"id\":\"2286\"}},\"id\":\"2290\",\"type\":\"CDSView\"},{\"attributes\":{\"axis\":{\"id\":\"2274\"},\"ticker\":null},\"id\":\"2277\",\"type\":\"Grid\"},{\"attributes\":{},\"id\":\"2279\",\"type\":\"BasicTicker\"},{\"attributes\":{\"bottom_units\":\"screen\",\"fill_alpha\":0.5,\"fill_color\":\"lightgrey\",\"left_units\":\"screen\",\"level\":\"overlay\",\"line_alpha\":1.0,\"line_color\":\"black\",\"line_dash\":[4,4],\"line_width\":2,\"right_units\":\"screen\",\"syncable\":false,\"top_units\":\"screen\"},\"id\":\"2283\",\"type\":\"BoxAnnotation\"},{\"attributes\":{\"children\":[{\"id\":\"2265\"},{\"id\":\"2291\"}]},\"id\":\"2293\",\"type\":\"Row\"},{\"attributes\":{\"active_multi\":null,\"tools\":[{\"id\":\"2282\"}]},\"id\":\"2284\",\"type\":\"Toolbar\"},{\"attributes\":{},\"id\":\"2398\",\"type\":\"AllLabels\"},{\"attributes\":{\"args\":{\"div\":{\"id\":\"2291\"}},\"code\":\"\\ndiv.text = \\\"Button!\\\";\\n\"},\"id\":\"2295\",\"type\":\"CustomJS\"},{\"attributes\":{},\"id\":\"2397\",\"type\":\"BasicTickFormatter\"},{\"attributes\":{\"overlay\":{\"id\":\"2283\"}},\"id\":\"2282\",\"type\":\"BoxSelectTool\"},{\"attributes\":{\"formatter\":{\"id\":\"2397\"},\"major_label_policy\":{\"id\":\"2398\"},\"ticker\":{\"id\":\"2279\"}},\"id\":\"2278\",\"type\":\"LinearAxis\"},{\"attributes\":{\"axis\":{\"id\":\"2278\"},\"dimension\":1,\"ticker\":null},\"id\":\"2281\",\"type\":\"Grid\"},{\"attributes\":{},\"id\":\"2275\",\"type\":\"BasicTicker\"},{\"attributes\":{},\"id\":\"2391\",\"type\":\"Title\"},{\"attributes\":{},\"id\":\"2268\",\"type\":\"DataRange1d\"},{\"attributes\":{},\"id\":\"2395\",\"type\":\"AllLabels\"}],\"root_ids\":[\"2294\"]},\"title\":\"Bokeh Application\",\"version\":\"2.3.3\"}};\n",
       "  var render_items = [{\"docid\":\"4afd73f0-7461-46df-b4af-30547f3b1791\",\"root_ids\":[\"2294\"],\"roots\":{\"2294\":\"f006bb96-d1ed-4cbd-bf27-c9b2ecb4913e\"}}];\n",
       "  root.Bokeh.embed.embed_items_notebook(docs_json, render_items);\n",
       "\n",
       "  }\n",
       "  if (root.Bokeh !== undefined) {\n",
       "    embed_document(root);\n",
       "  } else {\n",
       "    var attempts = 0;\n",
       "    var timer = setInterval(function(root) {\n",
       "      if (root.Bokeh !== undefined) {\n",
       "        clearInterval(timer);\n",
       "        embed_document(root);\n",
       "      } else {\n",
       "        attempts++;\n",
       "        if (attempts > 100) {\n",
       "          clearInterval(timer);\n",
       "          console.log(\"Bokeh: ERROR: Unable to run BokehJS code because BokehJS library is missing\");\n",
       "        }\n",
       "      }\n",
       "    }, 10, root)\n",
       "  }\n",
       "})(window);"
      ],
      "application/vnd.bokehjs_exec.v0+json": ""
     },
     "metadata": {
      "application/vnd.bokehjs_exec.v0+json": {
       "id": "2294"
      }
     },
     "output_type": "display_data"
    }
   ],
   "source": [
    "import numpy as np\n",
    "from bokeh import events\n",
    "from bokeh.layouts import column, row\n",
    "from bokeh.models import Button, CustomJS, Div\n",
    "\n",
    "x = np.random.random(size=2000) * 100\n",
    "y = np.random.random(size=2000) * 100\n",
    "\n",
    "p = figure(tools=\"box_select\")\n",
    "p.scatter(x, y, radius=1, fill_alpha=0.6, line_color=None)\n",
    "\n",
    "div = Div(width=400)\n",
    "button = Button(label=\"Button\", width=300)\n",
    "layout = column(button, row(p, div))\n",
    "\n",
    "# Events with no attributes\n",
    "button.js_on_event(\n",
    "    events.ButtonClick,\n",
    "    CustomJS(\n",
    "        args=dict(div=div),\n",
    "        code=\"\"\"\n",
    "div.text = \"Button!\";\n",
    "\"\"\",\n",
    "    ),\n",
    ")\n",
    "\n",
    "p.js_on_event(\n",
    "    events.SelectionGeometry,\n",
    "    CustomJS(\n",
    "        args=dict(div=div),\n",
    "        code=\"\"\"\n",
    "div.text = \"Selection! <p> <p>\" + JSON.stringify(cb_obj.geometry, undefined, 2);\n",
    "\"\"\",\n",
    "    ),\n",
    ")\n",
    "\n",
    "show(layout)"
   ]
  }
 ],
 "metadata": {
  "kernelspec": {
   "display_name": "Python 3",
   "language": "python",
   "name": "python3"
  },
  "language_info": {
   "codemirror_mode": {
    "name": "ipython",
    "version": 3
   },
   "file_extension": ".py",
   "mimetype": "text/x-python",
   "name": "python",
   "nbconvert_exporter": "python",
   "pygments_lexer": "ipython3",
   "version": "3.6.9"
  }
 },
 "nbformat": 4,
 "nbformat_minor": 5
}
