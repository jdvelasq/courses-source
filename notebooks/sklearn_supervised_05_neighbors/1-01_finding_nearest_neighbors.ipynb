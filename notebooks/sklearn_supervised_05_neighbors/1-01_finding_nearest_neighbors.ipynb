{
 "cells": [
  {
   "cell_type": "markdown",
   "id": "985c5c75-fc28-464c-be47-f66c7ab33d6c",
   "metadata": {
    "tags": []
   },
   "source": [
    "Búsqueda de los vecinos más cercanos  ---\n",
    "===\n",
    "\n",
    "* 0:00 min | Ultima modificación: Septiembre 25, 2021 | [YouTube]"
   ]
  },
  {
   "cell_type": "markdown",
   "id": "50487226-1f12-4c2b-951a-0fe98a4160b0",
   "metadata": {},
   "source": [
    "Las metodologías basadas en vecinos más cercanos, requieeren de la computación eficiente de las distancias entre puntos."
   ]
  },
  {
   "cell_type": "markdown",
   "id": "c8a087ef-cd60-4fd8-b1c0-8c56d03eea9e",
   "metadata": {},
   "source": [
    "Nearest Neighbors\n",
    "---"
   ]
  },
  {
   "cell_type": "code",
   "execution_count": 1,
   "id": "7ba0d4e5-e18e-4c09-b344-5a5a3a944a3e",
   "metadata": {},
   "outputs": [],
   "source": [
    "#\n",
    "# Matriz de datos para todos los ejemplos\n",
    "#\n",
    "import numpy as np\n",
    "\n",
    "X = np.array(\n",
    "    [\n",
    "        [-1, -1],\n",
    "        [-2, -1],\n",
    "        [-3, -2],\n",
    "        [1, 1],\n",
    "        [2, 1],\n",
    "        [3, 2],\n",
    "    ]\n",
    ")"
   ]
  },
  {
   "cell_type": "code",
   "execution_count": 2,
   "id": "e3b33634-7128-4f9a-9f64-ef9431398c28",
   "metadata": {},
   "outputs": [
    {
     "data": {
      "image/png": "[encoded data removed]",
      "text/plain": [
       "<Figure size 576x576 with 1 Axes>"
      ]
     },
     "metadata": {
      "needs_background": "light"
     },
     "output_type": "display_data"
    }
   ],
   "source": [
    "from matplotlib import pyplot as plt\n",
    "from sklearn.neighbors import NearestNeighbors\n",
    "\n",
    "plt.figure(figsize=(8, 8))\n",
    "plt.xlim(-3, 3)\n",
    "plt.ylim(-3, 3)\n",
    "\n",
    "plt.scatter(\n",
    "    X[:, 0],\n",
    "    X[:, 1],\n",
    "    marker=\"o\",\n",
    "    s=130,\n",
    "    edgecolors=\"white\",\n",
    "    c=\"tab:blue\",\n",
    ")\n",
    "\n",
    "for i in range(X.shape[0]):\n",
    "\n",
    "    plt.text(\n",
    "        X[i, 0],\n",
    "        X[i, 1],\n",
    "        str(i),\n",
    "        color=\"k\",\n",
    "        fontdict={\"weight\": \"bold\", \"size\": 16},\n",
    "    )\n",
    "\n",
    "\n",
    "plt.gca().spines[\"left\"].set_color(\"gray\")\n",
    "plt.gca().spines[\"bottom\"].set_color(\"gray\")\n",
    "plt.gca().spines[\"top\"].set_visible(False)\n",
    "plt.gca().spines[\"right\"].set_visible(False)\n",
    "plt.grid()\n",
    "plt.axis(\"equal\")\n",
    "plt.show()"
   ]
  },
  {
   "cell_type": "code",
   "execution_count": 3,
   "id": "e450f102-e391-4d90-8fa4-3495f1bc7bf8",
   "metadata": {},
   "outputs": [
    {
     "data": {
      "text/plain": [
       "array([[0, 1, 2],\n",
       "       [1, 0, 2],\n",
       "       [2, 1, 0],\n",
       "       [3, 4, 5],\n",
       "       [4, 3, 5],\n",
       "       [5, 4, 3]])"
      ]
     },
     "execution_count": 3,
     "metadata": {},
     "output_type": "execute_result"
    }
   ],
   "source": [
    "nearestNeighbors = NearestNeighbors(\n",
    "    # -----------------------------------------------------\n",
    "    # Number of neighbors to use by default for kneighbors\n",
    "    # queries\n",
    "    n_neighbors=3,\n",
    "    # -----------------------------------------------------\n",
    "    # Range of parameter space to use by default for\n",
    "    # radius_neighbors queries.\n",
    "    radius=1.0,\n",
    "    # -----------------------------------------------------\n",
    "    # Algorithm used to compute the nearest neighbors:\n",
    "    # 'ball_tree', 'kd_tree', 'brute', 'auto'\n",
    "    algorithm=\"ball_tree\",\n",
    "    # -----------------------------------------------------\n",
    "    # The distance metric to use for the tree.\n",
    "    metric=\"minkowski\",\n",
    ").fit(X)\n",
    "\n",
    "\n",
    "#\n",
    "# Encuentra los k-vecinos de un punto\n",
    "#\n",
    "distances, indices = nearestNeighbors.kneighbors(X)\n",
    "indices"
   ]
  },
  {
   "cell_type": "code",
   "execution_count": 4,
   "id": "22615c60-a8b4-49f9-a732-11063811b288",
   "metadata": {},
   "outputs": [
    {
     "data": {
      "text/plain": [
       "array([[0.        , 1.        , 2.23606798],\n",
       "       [0.        , 1.        , 1.41421356],\n",
       "       [0.        , 1.41421356, 2.23606798],\n",
       "       [0.        , 1.        , 2.23606798],\n",
       "       [0.        , 1.        , 1.41421356],\n",
       "       [0.        , 1.41421356, 2.23606798]])"
      ]
     },
     "execution_count": 4,
     "metadata": {},
     "output_type": "execute_result"
    }
   ],
   "source": [
    "distances"
   ]
  },
  {
   "cell_type": "code",
   "execution_count": 5,
   "id": "97991d29-a661-48cc-9d73-c3adc167bb50",
   "metadata": {},
   "outputs": [
    {
     "data": {
      "text/plain": [
       "array([[1., 1., 1., 0., 0., 0.],\n",
       "       [1., 1., 1., 0., 0., 0.],\n",
       "       [1., 1., 1., 0., 0., 0.],\n",
       "       [0., 0., 0., 1., 1., 1.],\n",
       "       [0., 0., 0., 1., 1., 1.],\n",
       "       [0., 0., 0., 1., 1., 1.]])"
      ]
     },
     "execution_count": 5,
     "metadata": {},
     "output_type": "execute_result"
    }
   ],
   "source": [
    "#\n",
    "# Matriz indicando las conexiones entre puntos\n",
    "#\n",
    "nearestNeighbors.kneighbors_graph(X).toarray()"
   ]
  },
  {
   "cell_type": "markdown",
   "id": "ea8cda83-cb8e-40c9-9ec6-a619e04b62d3",
   "metadata": {},
   "source": [
    "Algoritmo Ball Tree\n",
    "---"
   ]
  },
  {
   "cell_type": "markdown",
   "id": "46b2978a-30b6-4fdb-9120-b4cdb1ce3fcb",
   "metadata": {},
   "source": [
    "Este algoritmo se basa en el particionamiento del espacio de entrada en esferas anidadas conocidas como \"balls\". Este modelo es interpretado como un arbol binario donde cada nodo define una esfera D-dimensional, la cual contiene un subconjunto de datos.\n",
    "\n",
    "* Cada nodo interno del arbol parte el subconjunto de datos en dos esferas independientes. \n",
    "\n",
    "* Aunque las esferas pueden intersectarse, cada punto es asignado a una y solo una esfera.\n",
    "\n",
    "* Siguiendo los principios del particioamiento recursivo, cada nodo define una esfera que contiene todos los nodos que pertenecen a dicho subarbol.\n",
    "\n",
    "* En el caso del algoritmo de Nearest Neighbors, el algoritmo BallTree genera esferas que contienen todos los puntos cercanos.\n",
    "\n"
   ]
  },
  {
   "cell_type": "markdown",
   "id": "f5103b15-560f-4655-9e81-6811bf0e62f6",
   "metadata": {},
   "source": [
    "![balltree.png](assets/balltree.png)"
   ]
  },
  {
   "cell_type": "code",
   "execution_count": 6,
   "id": "ca63b93b-1a71-4569-a13b-812fdf3a0540",
   "metadata": {},
   "outputs": [
    {
     "data": {
      "text/plain": [
       "array([[0, 1, 2]])"
      ]
     },
     "metadata": {},
     "output_type": "display_data"
    },
    {
     "data": {
      "text/plain": [
       "array([[0.        , 1.        , 2.23606798]])"
      ]
     },
     "metadata": {},
     "output_type": "display_data"
    }
   ],
   "source": [
    "import numpy as np\n",
    "from sklearn.neighbors import BallTree\n",
    "\n",
    "ballTree = BallTree(X, leaf_size=2)\n",
    "\n",
    "dist, ind = ballTree.query(\n",
    "    # -----------------------------------------------------\n",
    "    # array([[0.09762701, 0.05256891]])\n",
    "    X=X[:1],\n",
    "    # -----------------------------------------------------\n",
    "    # The number of nearest neighbors to return\n",
    "    k=3,\n",
    "    # -----------------------------------------------------\n",
    "    # f True, return a tuple (d, i) of distances and\n",
    "    # indices if False, return array i\n",
    "    return_distance=True,\n",
    "    # -----------------------------------------------------\n",
    "    # if True, then distances and indices of each point are\n",
    "    # sorted\n",
    "    sort_results=True,\n",
    ")\n",
    "\n",
    "display(\n",
    "    ind,\n",
    "    dist,\n",
    ")"
   ]
  },
  {
   "cell_type": "code",
   "execution_count": 7,
   "id": "ab2fca1c-328e-44b3-9890-5bf7dff43628",
   "metadata": {},
   "outputs": [
    {
     "data": {
      "text/plain": [
       "array([2])"
      ]
     },
     "execution_count": 7,
     "metadata": {},
     "output_type": "execute_result"
    }
   ],
   "source": [
    "#\n",
    "# Query the tree for neighbors within a radius r\n",
    "#\n",
    "ballTree.query_radius(\n",
    "    # -----------------------------------------------------\n",
    "    # An array of points to query\n",
    "    X[:1],\n",
    "    # -----------------------------------------------------\n",
    "    # distance within which neighbors are returned\n",
    "    r=1.0,\n",
    "    # -----------------------------------------------------\n",
    "    # if True, return only the count of points within\n",
    "    # distance r\n",
    "    count_only=True,\n",
    "    # -----------------------------------------------------\n",
    "    # if True, the distances and indices will be sorted\n",
    "    # before being returned\n",
    "    sort_results=False,\n",
    ")"
   ]
  },
  {
   "cell_type": "code",
   "execution_count": 8,
   "id": "a10a3a68-0afb-4c21-9967-802563acc68e",
   "metadata": {},
   "outputs": [
    {
     "data": {
      "text/plain": [
       "array([15.91549431, 15.91549431, 15.91549431])"
      ]
     },
     "execution_count": 8,
     "metadata": {},
     "output_type": "execute_result"
    }
   ],
   "source": [
    "#\n",
    "# Compute a gaussian kernel density estimate\n",
    "#\n",
    "ballTree.kernel_density(\n",
    "    # -----------------------------------------------------\n",
    "    # An array of points to query\n",
    "    X=X[:3],\n",
    "    # -----------------------------------------------------\n",
    "    # the bandwidth of the kernel\n",
    "    h=0.1,\n",
    "    # -----------------------------------------------------\n",
    "    # 'gaussian', 'tophat', 'epanechnikov', 'exponential',\n",
    "    # 'linear', 'cosine'\n",
    "    kernel=\"gaussian\",\n",
    ")"
   ]
  },
  {
   "cell_type": "markdown",
   "id": "87d48ac8-8bb8-4866-84af-6f265fe4fb79",
   "metadata": {},
   "source": [
    "Algoritmo KDTree\n",
    "---"
   ]
  },
  {
   "cell_type": "markdown",
   "id": "d1ac1481-4365-4c34-906e-9c947e9e7d7f",
   "metadata": {},
   "source": [
    "Hace una partición similar al algoritmo BallTree pero parte el espacio con planos.\n",
    "\n",
    "Su operación es similar a la del algoritmo anterior."
   ]
  },
  {
   "cell_type": "code",
   "execution_count": 9,
   "id": "38f180cb-cfc7-4d96-9ec3-384c3afe9614",
   "metadata": {},
   "outputs": [
    {
     "data": {
      "text/plain": [
       "array([[0, 1, 2]])"
      ]
     },
     "metadata": {},
     "output_type": "display_data"
    },
    {
     "data": {
      "text/plain": [
       "array([[0.        , 1.        , 2.23606798]])"
      ]
     },
     "metadata": {},
     "output_type": "display_data"
    }
   ],
   "source": [
    "from sklearn.neighbors import KDTree\n",
    "\n",
    "kdTree = KDTree(X, leaf_size=2)\n",
    "\n",
    "dist, ind = kdTree.query(X[:1], k=3)\n",
    "\n",
    "display(\n",
    "    ind,\n",
    "    dist,\n",
    ")"
   ]
  },
  {
   "cell_type": "markdown",
   "id": "ac5a854d-beca-4c77-bcc8-4096a96bcd3e",
   "metadata": {},
   "source": [
    "---"
   ]
  },
  {
   "cell_type": "code",
   "execution_count": 10,
   "id": "cd8f2a77-2ee4-4d0a-bfda-2886e3dcd379",
   "metadata": {},
   "outputs": [],
   "source": [
    "def fig1():\n",
    "\n",
    "    import numpy as np\n",
    "    from matplotlib import pyplot as plt\n",
    "    from matplotlib.patches import Circle\n",
    "    from sklearn.neighbors import BallTree\n",
    "\n",
    "    #\n",
    "    # Generación de la muestra de datos\n",
    "    #\n",
    "    np.random.seed(0)\n",
    "    X = np.random.random((30, 2)) * 2 - 1\n",
    "    X[:, 1] *= 0.1\n",
    "    X[:, 1] += X[:, 0] ** 2\n",
    "\n",
    "    #\n",
    "    # Generación del arbol\n",
    "    #\n",
    "    tree = BallTree(X, leaf_size=2)\n",
    "    _, tree_index, node_data, node_bounds = tree.get_arrays()\n",
    "\n",
    "    balls = [[0], [1, 2], [3, 4, 5, 6], [7, 8, 9, 10, 11, 12, 13, 14]]\n",
    "\n",
    "    plt.figure(figsize=(12, 12))\n",
    "\n",
    "    for i_plot, ball_indices in enumerate(balls):\n",
    "\n",
    "        plt.subplot(2, 2, i_plot + 1)\n",
    "        plt.scatter(\n",
    "            X[:, 0], X[:, 1], marker=\"o\", s=130, edgecolors=\"white\", c=\"tab:blue\"\n",
    "        )\n",
    "\n",
    "        for index in ball_indices:\n",
    "            center = node_bounds[0][index]\n",
    "            radius = node_data[index][3]\n",
    "            plt.gca().add_patch(\n",
    "                Circle(center, radius, ec=\"tab:orange\", lw=2, fc=\"none\")\n",
    "            )\n",
    "\n",
    "        plt.gca().spines[\"left\"].set_color(\"gray\")\n",
    "        plt.gca().spines[\"bottom\"].set_color(\"gray\")\n",
    "        plt.gca().spines[\"top\"].set_visible(False)\n",
    "        plt.gca().spines[\"right\"].set_visible(False)\n",
    "        plt.axis(\"equal\")\n",
    "\n",
    "    plt.savefig(\"assets/balltree.png\")\n",
    "    plt.close()\n",
    "\n",
    "\n",
    "# fig1()"
   ]
  }
 ],
 "metadata": {
  "kernelspec": {
   "display_name": "Python 3",
   "language": "python",
   "name": "python3"
  },
  "language_info": {
   "codemirror_mode": {
    "name": "ipython",
    "version": 3
   },
   "file_extension": ".py",
   "mimetype": "text/x-python",
   "name": "python",
   "nbconvert_exporter": "python",
   "pygments_lexer": "ipython3",
   "version": "3.6.9"
  }
 },
 "nbformat": 4,
 "nbformat_minor": 5
}
