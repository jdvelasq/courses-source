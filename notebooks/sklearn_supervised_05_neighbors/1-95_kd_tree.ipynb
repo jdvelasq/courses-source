{
 "cells": [
  {
   "cell_type": "markdown",
   "id": "985c5c75-fc28-464c-be47-f66c7ab33d6c",
   "metadata": {
    "tags": []
   },
   "source": [
    "Algoritmo KD Tree  ---\n",
    "===\n",
    "\n",
    "* 0:00 min | Ultima modificación: Septiembre 25, 2021 | [YouTube]"
   ]
  },
  {
   "cell_type": "markdown",
   "id": "ac5a854d-beca-4c77-bcc8-4096a96bcd3e",
   "metadata": {},
   "source": [
    "---"
   ]
  },
  {
   "cell_type": "code",
   "execution_count": 32,
   "id": "cd8f2a77-2ee4-4d0a-bfda-2886e3dcd379",
   "metadata": {},
   "outputs": [
    {
     "data": {
      "image/png": "[encoded data removed]",
      "text/plain": [
       "<Figure size 864x864 with 1 Axes>"
      ]
     },
     "metadata": {
      "needs_background": "light"
     },
     "output_type": "display_data"
    }
   ],
   "source": [
    "# def fig1():\n",
    "\n",
    "import numpy as np\n",
    "from matplotlib import pyplot as plt\n",
    "from matplotlib.patches import Rectangle\n",
    "from sklearn.neighbors import KDTree\n",
    "\n",
    "#\n",
    "# Generación de la muestra de datos\n",
    "#\n",
    "np.random.seed(0)\n",
    "X = np.random.random((20, 2)) * 2 - 1\n",
    "X[:, 1] *= 0.1\n",
    "X[:, 1] += X[:, 0] ** 2\n",
    "\n",
    "#\n",
    "# Generación del arbol\n",
    "#\n",
    "tree = KDTree(X, leaf_size=4)\n",
    "tree_data, tree_index, node_data, node_bounds = tree.get_arrays()\n",
    "\n",
    "tree_data = tree_data[tree_index,:]\n",
    "\n",
    "plt.figure(figsize=(12, 12))\n",
    "plt.scatter(\n",
    "    X[:, 0], X[:, 1], marker=\"o\", s=130, edgecolors=\"white\", c=\"tab:blue\"\n",
    ")\n",
    "\n",
    "for p0, p1 in zip(node_bounds[0], node_bounds[1]):\n",
    "    width = p1[0] - p0[0]\n",
    "    height = p1[1] - p0[1]\n",
    "    plt.gca().add_patch(Rectangle(p0, width, height, fill=False))\n",
    "    \n",
    "\n",
    "    \n",
    "#     balls = [[0], [1, 2], [3, 4, 5, 6], [7, 8, 9, 10, 11, 12, 13, 14]]\n",
    "\n",
    "#     plt.figure(figsize=(12, 12))\n",
    "\n",
    "#     for i_plot, ball_indices in enumerate(balls):\n",
    "\n",
    "#         plt.subplot(2, 2, i_plot + 1)\n",
    "#         plt.scatter(\n",
    "#             X[:, 0], X[:, 1], marker=\"o\", s=130, edgecolors=\"white\", c=\"tab:blue\"\n",
    "#         )\n",
    "\n",
    "#         for index in ball_indices:\n",
    "#             center = node_bounds[0][index]\n",
    "#             radius = node_data[index][3]\n",
    "#             plt.gca().add_patch(\n",
    "#                 Circle(center, radius, ec=\"tab:orange\", lw=2, fc=\"none\")\n",
    "#             )\n",
    "\n",
    "#         plt.gca().spines[\"left\"].set_color(\"gray\")\n",
    "#         plt.gca().spines[\"bottom\"].set_color(\"gray\")\n",
    "#         plt.gca().spines[\"top\"].set_visible(False)\n",
    "#         plt.gca().spines[\"right\"].set_visible(False)\n",
    "#         plt.axis(\"equal\")\n",
    "\n",
    "    # plt.savefig(\"assets/kd_tree.png\")\n",
    "    # plt.close()\n",
    "\n",
    "\n",
    "# fig1()"
   ]
  },
  {
   "cell_type": "code",
   "execution_count": 25,
   "id": "c9b81a65-26d6-4c18-b749-4170501ccef1",
   "metadata": {},
   "outputs": [
    {
     "data": {
      "text/plain": [
       "array([ 2, 16, 11,  3, 15, 13, 12,  7, 17,  8, 14,  0,  6,  1, 18,  5,  9,\n",
       "       19,  4, 10])"
      ]
     },
     "execution_count": 25,
     "metadata": {},
     "output_type": "execute_result"
    }
   ],
   "source": [
    "tree_index"
   ]
  },
  {
   "cell_type": "code",
   "execution_count": 26,
   "id": "e7ca9c81-b334-43af-afeb-67c313bfc986",
   "metadata": {},
   "outputs": [
    {
     "name": "stdout",
     "output_type": "stream",
     "text": [
      "(0, 20, 0, 1.08281771)\n",
      "(0, 10, 0, 0.65514761)\n",
      "(10, 20, 0, 0.67402063)\n",
      "(0, 5, 1, 0.23465158)\n",
      "(5, 10, 1, 0.23120582)\n",
      "(10, 15, 1, 0.10804084)\n",
      "(15, 20, 1, 0.37335132)\n"
     ]
    }
   ],
   "source": [
    "for m in node_data:\n",
    "    print(m)"
   ]
  },
  {
   "cell_type": "code",
   "execution_count": 27,
   "id": "b15a9c07-de2a-483a-a755-c8c14207208d",
   "metadata": {},
   "outputs": [
    {
     "data": {
      "text/plain": [
       "array([[[-0.9624204 , -0.01515822],\n",
       "        [-0.9624204 ,  0.02137796],\n",
       "        [ 0.04369664, -0.01515822],\n",
       "        [-0.47088878,  0.02137796],\n",
       "        [-0.9624204 ,  0.59772129],\n",
       "        [ 0.04369664, -0.01515822],\n",
       "        [ 0.5563135 ,  0.34619298]],\n",
       "\n",
       "       [[ 0.95723668,  0.98728551],\n",
       "        [-0.07704128,  0.98728551],\n",
       "        [ 0.95723668,  0.97613378],\n",
       "        [-0.07704128,  0.27658298],\n",
       "        [-0.71329343,  0.98728551],\n",
       "        [ 0.22419145,  0.10363958],\n",
       "        [ 0.95723668,  0.97613378]]])"
      ]
     },
     "execution_count": 27,
     "metadata": {},
     "output_type": "execute_result"
    }
   ],
   "source": [
    "node_bounds"
   ]
  },
  {
   "cell_type": "code",
   "execution_count": 28,
   "id": "f866dc59-9760-4853-827d-9b1aa8e66253",
   "metadata": {},
   "outputs": [
    {
     "data": {
      "text/plain": [
       "array([[-0.1526904 ,  0.05249318],\n",
       "       [-0.08769934,  0.02137796],\n",
       "       [-0.07704128,  0.06204119],\n",
       "       [-0.12482558,  0.09393602],\n",
       "       [-0.47088878,  0.27658298],\n",
       "       [-0.71329343,  0.59772129],\n",
       "       [-0.76345115,  0.61084186],\n",
       "       [-0.85792788,  0.65346611],\n",
       "       [-0.9624204 ,  0.94978012],\n",
       "       [-0.95956321,  0.98728551],\n",
       "       [ 0.04369664, -0.01515822],\n",
       "       [ 0.09762701,  0.05256891],\n",
       "       [ 0.13608912,  0.10363958],\n",
       "       [ 0.20552675,  0.05121788],\n",
       "       [ 0.22419145,  0.0736486 ],\n",
       "       [ 0.58345008,  0.34619298],\n",
       "       [ 0.5563135 ,  0.38348714],\n",
       "       [ 0.88749616,  0.82401349],\n",
       "       [ 0.92732552,  0.83662093],\n",
       "       [ 0.95723668,  0.97613378]])"
      ]
     },
     "execution_count": 28,
     "metadata": {},
     "output_type": "execute_result"
    }
   ],
   "source": [
    "tree_data"
   ]
  },
  {
   "cell_type": "code",
   "execution_count": 29,
   "id": "2296dfaf-6ef0-46a7-8edb-83d159c5271d",
   "metadata": {},
   "outputs": [
    {
     "data": {
      "text/plain": [
       "array([[ 0.09762701,  0.05256891],\n",
       "       [ 0.20552675,  0.05121788],\n",
       "       [-0.1526904 ,  0.05249318],\n",
       "       [-0.12482558,  0.09393602],\n",
       "       [ 0.92732552,  0.83662093],\n",
       "       [ 0.58345008,  0.34619298],\n",
       "       [ 0.13608912,  0.10363958],\n",
       "       [-0.85792788,  0.65346611],\n",
       "       [-0.95956321,  0.98728551],\n",
       "       [ 0.5563135 ,  0.38348714],\n",
       "       [ 0.95723668,  0.97613378],\n",
       "       [-0.07704128,  0.06204119],\n",
       "       [-0.76345115,  0.61084186],\n",
       "       [-0.71329343,  0.59772129],\n",
       "       [ 0.04369664, -0.01515822],\n",
       "       [-0.47088878,  0.27658298],\n",
       "       [-0.08769934,  0.02137796],\n",
       "       [-0.9624204 ,  0.94978012],\n",
       "       [ 0.22419145,  0.0736486 ],\n",
       "       [ 0.88749616,  0.82401349]])"
      ]
     },
     "execution_count": 29,
     "metadata": {},
     "output_type": "execute_result"
    }
   ],
   "source": [
    "X\n"
   ]
  },
  {
   "cell_type": "code",
   "execution_count": null,
   "id": "5a4f1608-36b4-4968-80aa-47b0daff4900",
   "metadata": {},
   "outputs": [],
   "source": []
  }
 ],
 "metadata": {
  "kernelspec": {
   "display_name": "Python 3",
   "language": "python",
   "name": "python3"
  },
  "language_info": {
   "codemirror_mode": {
    "name": "ipython",
    "version": 3
   },
   "file_extension": ".py",
   "mimetype": "text/x-python",
   "name": "python",
   "nbconvert_exporter": "python",
   "pygments_lexer": "ipython3",
   "version": "3.6.9"
  }
 },
 "nbformat": 4,
 "nbformat_minor": 5
}
