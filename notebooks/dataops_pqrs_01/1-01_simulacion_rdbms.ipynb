{
 "cells": [
  {
   "cell_type": "markdown",
   "id": "7f8fcfa0-86dc-4739-959d-fe5dde256310",
   "metadata": {
    "tags": []
   },
   "source": [
    "Simulación de la base de datos transaccional --- 0:00 min\n",
    "===\n",
    "\n",
    "* 0:00 min | Ultima modificación: Abril 14, 2022 | YouTube"
   ]
  },
  {
   "cell_type": "markdown",
   "id": "326621d9-1c92-4dde-b87d-fd6cf6e8bae8",
   "metadata": {},
   "source": [
    "Definición del problema\n",
    "---"
   ]
  },
  {
   "cell_type": "markdown",
   "id": "39e7dc54-0522-4fd6-8950-8185df34fb45",
   "metadata": {},
   "source": [
    "Una empresa de servicios tiene dos canales de atención de PQRS: \n",
    "\n",
    "* Un canal físico donde las personas entregan su petición por escrito.\n",
    "\n",
    "* Un canal web donde se hacen las peticiones electrónicas. "
   ]
  },
  {
   "cell_type": "markdown",
   "id": "686596ca-3333-4672-8a79-a265c7273fcd",
   "metadata": {},
   "source": [
    "Flujo de trabajo\n",
    "---"
   ]
  },
  {
   "cell_type": "markdown",
   "id": "32478ea5-6b34-4a81-ad9b-942f9e7692a5",
   "metadata": {},
   "source": [
    "![assets/flujo-sistema-pqrs.png](assets/flujo-sistema-pqrs.png)"
   ]
  },
  {
   "cell_type": "markdown",
   "id": "853d1c7f-6b3d-4f72-b199-4a767159a14b",
   "metadata": {},
   "source": [
    "* Los clientes presentan documentos durante el día usando uno de los canales.\n",
    "\n",
    "* Los documentos son ingresados el mismo día al sistema y quedan en estado `'open'`.\n",
    "\n",
    "* Una persona es encargada de asignar los documentos a los equipos especializados y los documentos quedan en estado `'assigned'`. La persona tiene una capacidad limitada de asignación, por lo que los documentos puede asignarse uno o más dias después de recibidos (`'open'`).\n",
    "\n",
    "* Cuando un documento `'in progress'` es completamente gestionado, la persona encargada lo cierra (estado `'closed'`), y toma el siguiente documento en estado `'assigned'` de la pila de documentos asignados (el documenot pasa a estado `'in progress'`). Una persona puede tener varios documentos `'in progress'` simultaneamente, y el tiempo de gestión es variable y depende de cada caso puntual."
   ]
  },
  {
   "cell_type": "markdown",
   "id": "eb322a29-851f-421c-9469-c9b1c428bb7c",
   "metadata": {},
   "source": [
    "Tabla del sistema transaccional\n",
    "---"
   ]
  },
  {
   "cell_type": "markdown",
   "id": "f1e4c697-0a82-4ffa-8d30-50375ddc7b05",
   "metadata": {},
   "source": [
    "La tabla del sistema transaccional para registrar los documentos contiene los siguientes campos:\n",
    "\n",
    "* `record_id`: campo único que identifica cada documento.\n",
    "\n",
    "* `open_date`: fecha de presentación del documento por parte del usuario.\n",
    "\n",
    "* `channel`: canal (`letter` o `web`) por donde se presenta el documento.\n",
    "\n",
    "* `open_day_name`: nombre del día de la semana en que se presenta el documento.\n",
    "\n",
    "* `business_days`: número de días hábiles que el documento pasa en esado `'in_progress'`.\n",
    "\n",
    "* `age`: contador regresivo para determinar los días faltantes para cerrar el documento.\n",
    "\n",
    "* `status`: `{'open', 'assigned', 'in progress', 'closed'}`.\n",
    "\n",
    "* `assigned_date`: fecha en que el documento pasó de `'open'` a `'assigned'`. \n",
    "\n",
    "* `in_progress_date`: fecha en que el documento pasó de `'assigned'` a `'in progress'`.\n",
    "\n",
    "* `closed_date`: fecha en que el documento pasó de `'in progress'` a `'closed'`.\n",
    "\n",
    "* `last modified`: campo de control que indica la fecha y hora en que el registro se inscribio a la base de datos transaccional."
   ]
  },
  {
   "cell_type": "markdown",
   "id": "5d0b5359-27c9-40ba-9160-9cb6f1759c2c",
   "metadata": {},
   "source": [
    "Equipo de trabajo\n",
    "---"
   ]
  },
  {
   "cell_type": "markdown",
   "id": "af7481ed-83e4-4565-9025-020c78f7557a",
   "metadata": {},
   "source": [
    "![assets/luis-ingeniero-de-operaciones.png](assets/luis-ingeniero-de-operaciones.png)"
   ]
  },
  {
   "cell_type": "markdown",
   "id": "252a0204-f856-4e73-93a0-a6fef51ed069",
   "metadata": {},
   "source": [
    "Simulador\n",
    "---"
   ]
  },
  {
   "cell_type": "markdown",
   "id": "9237ea91-d894-48c7-8dee-b8b7b4d050f4",
   "metadata": {},
   "source": [
    "El sistema de simulación contiene dos carpetas:\n",
    "\n",
    "* operational_rdbms: contiene la tabla del transaccional.\n",
    "\n",
    "* user_simulation: contiene el código que simula la operación del sistema."
   ]
  },
  {
   "cell_type": "markdown",
   "id": "1f8bb0a9-66c2-4f59-beaf-596d69211934",
   "metadata": {},
   "source": [
    "Repositorio en GitHub\n",
    "---"
   ]
  },
  {
   "cell_type": "markdown",
   "id": "d962ad7a-cbf2-4ed4-90f9-82be76f2cc5d",
   "metadata": {},
   "source": [
    "El código completo de este documento se encuentra disponible en:\n",
    "\n",
    "https://github.com/jdvelasq/dataops-pqrs-01"
   ]
  },
  {
   "cell_type": "markdown",
   "id": "057d8659-45ab-4609-8779-40f735d17acf",
   "metadata": {},
   "source": [
    "**Makefile**\n",
    "\n",
    "https://github.com/jdvelasq/dataops-pqrs-01/blob/main/user_simulation/Makefile"
   ]
  },
  {
   "cell_type": "markdown",
   "id": "a075136f-a196-4658-88ca-6c760572fbb8",
   "metadata": {},
   "source": [
    "**restart.py**\n",
    "\n",
    "https://github.com/jdvelasq/dataops-pqrs-01/blob/main/user_simulation/restart.py"
   ]
  },
  {
   "cell_type": "markdown",
   "id": "0f37269d-3104-4f69-9a59-9ab0bfb4cd2c",
   "metadata": {},
   "source": [
    "**advance.py**\n",
    "\n",
    "https://github.com/jdvelasq/dataops-pqrs-01/blob/main/user_simulation/advance.py"
   ]
  },
  {
   "cell_type": "markdown",
   "id": "f6f83bbb-640f-48e3-9829-b29e625168f5",
   "metadata": {},
   "source": [
    "**simulator.py**\n",
    "\n",
    "https://github.com/jdvelasq/dataops-pqrs-01/blob/main/user_simulation/simulator.py"
   ]
  },
  {
   "cell_type": "markdown",
   "id": "47f87dc6-0e48-4e1d-9c3d-88d3b663828f",
   "metadata": {},
   "source": [
    "Ejemplos\n",
    "---"
   ]
  },
  {
   "cell_type": "markdown",
   "id": "24a80734-e9f4-4573-83f6-70b10ca73f32",
   "metadata": {},
   "source": [
    "Se ejecutan en el directorio raíz del repo:"
   ]
  },
  {
   "cell_type": "markdown",
   "id": "d2a8042f-8d84-413f-aea9-ca4ab5266982",
   "metadata": {},
   "source": [
    "```bash\n",
    "$ make -C user_simulation/ restart\n",
    "```"
   ]
  },
  {
   "cell_type": "markdown",
   "id": "57e35821-502d-4149-9d4f-8dbbdb790ff5",
   "metadata": {},
   "source": [
    "![assets/example-00.png](assets/example-00.png)"
   ]
  },
  {
   "cell_type": "markdown",
   "id": "239bf62d-d47e-42cd-882d-1003fbcb0e86",
   "metadata": {},
   "source": [
    "```bash\n",
    "$ make -C user_simulation/ advance n_weeks=4\n",
    "```"
   ]
  },
  {
   "cell_type": "markdown",
   "id": "582a7034-05bf-4708-99aa-d305bcad38ea",
   "metadata": {},
   "source": [
    "![assets/example-00.png](assets/example-01.png)"
   ]
  },
  {
   "cell_type": "markdown",
   "id": "778f1b7b-7475-419b-be94-172581f762a8",
   "metadata": {},
   "source": [
    "```bash\n",
    "$ make -C user_simulation/ restart==2020-09-04\n",
    "```"
   ]
  },
  {
   "cell_type": "markdown",
   "id": "2f99265a-b7b6-428e-bd7a-f2f7bfa9ba23",
   "metadata": {},
   "source": [
    "![assets/example-00.png](assets/example-02.png)"
   ]
  },
  {
   "cell_type": "markdown",
   "id": "7454dfce-d267-4d9c-9c5e-6343810e2adc",
   "metadata": {},
   "source": [
    "```bash\n",
    "$ make -C user_simulation/ advance\n",
    "```"
   ]
  },
  {
   "cell_type": "markdown",
   "id": "788b159e-83c9-4555-9053-44904bffc81d",
   "metadata": {},
   "source": [
    "![assets/example-00.png](assets/example-03.png)"
   ]
  }
 ],
 "metadata": {
  "kernelspec": {
   "display_name": "Python 3 (ipykernel)",
   "language": "python",
   "name": "python3"
  },
  "language_info": {
   "codemirror_mode": {
    "name": "ipython",
    "version": 3
   },
   "file_extension": ".py",
   "mimetype": "text/x-python",
   "name": "python",
   "nbconvert_exporter": "python",
   "pygments_lexer": "ipython3",
   "version": "3.8.10"
  }
 },
 "nbformat": 4,
 "nbformat_minor": 5
}
