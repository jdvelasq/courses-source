{
 "cells": [
  {
   "cell_type": "markdown",
   "metadata": {},
   "source": [
    "Regresión isotónica --- 7:20  min\n",
    "===\n",
    "\n",
    "\n",
    "* 7:20 min | Ultima modificación: Septiembre 20, 2021 | [YouTube](https://youtu.be/fNV-hH_XJro)"
   ]
  },
  {
   "cell_type": "markdown",
   "metadata": {},
   "source": [
    "Esta es una técnica para construir modelos de regresión unidimensionales, la cual resuelve el siguiente problema:\n",
    "\n",
    "$$\n",
    "\\begin{split} \n",
    "\\text{min  }  & \\sum_i w_i \\; (y_i - \\hat{y}_i)^2 \\\\\n",
    "\\text{s/to:  } \\\\\n",
    "             & \\hat{y}_i \\le \\hat{y}_j \\\\\n",
    "             & x_i \\le x_j \n",
    "\\end{split}\n",
    "$$"
   ]
  },
  {
   "cell_type": "markdown",
   "metadata": {},
   "source": [
    "![isotonic_regression.png](assets/isotonic_regression.png)"
   ]
  },
  {
   "cell_type": "markdown",
   "metadata": {},
   "source": [
    "con $w_i$ > 0.\n",
    "\n",
    "* El modelo produce las predicciones puntuales $\\hat{y}_i$ para el conjunto de entrenamiento suministrado.\n",
    "\n",
    "* El modelo realiza la interpolación para valores de $x$ que no han sido vistos antes.\n",
    "\n",
    "* Las predicciones del modelo generan una función lineal por tramos."
   ]
  },
  {
   "cell_type": "markdown",
   "metadata": {},
   "source": [
    "https://scikit-learn.org/stable/auto_examples/miscellaneous/plot_isotonic_regression.html"
   ]
  },
  {
   "cell_type": "code",
   "execution_count": 20,
   "metadata": {
    "tags": []
   },
   "outputs": [
    {
     "data": {
      "image/png": "[encoded data removed]",
      "text/plain": [
       "<Figure size 576x432 with 1 Axes>"
      ]
     },
     "metadata": {
      "needs_background": "light"
     },
     "output_type": "display_data"
    }
   ],
   "source": [
    "import matplotlib.pyplot as plt\n",
    "import numpy as np\n",
    "from sklearn.isotonic import IsotonicRegression\n",
    "\n",
    "n_points = 100\n",
    "x_values = np.arange(n_points)\n",
    "\n",
    "seed = 12345\n",
    "rng = np.random.default_rng(seed)\n",
    "y_values = rng.integers(-50, 50, size=(n_points,)) + 50.0 * np.log1p(\n",
    "    np.arange(n_points)\n",
    ")\n",
    "\n",
    "isotonicRegression = IsotonicRegression(\n",
    "    # -----------------------------------------------------\n",
    "    # Indica si las predicciones están restringidas a\n",
    "    # a crecer o decrecer con x.\n",
    "    #   - bool\n",
    "    #   - auto\n",
    "    #\n",
    "    increasing=True,\n",
    "    # -----------------------------------------------------\n",
    "    # Controla el valor retornado para x por fuera del\n",
    "    # dominio de entrenamiento.\n",
    "    #\n",
    "    #    - 'clip': retorna el valor más cercano del punto\n",
    "    #              de entrenamiento\n",
    "    #    - 'nan':  retorna NaN\n",
    "    #    - 'raise' retorna 'ValueError'.\n",
    "    #\n",
    "    out_of_bounds=\"clip\",\n",
    ")\n",
    "\n",
    "isotonicRegression.fit(x_values, y_values)\n",
    "\n",
    "y_pred = isotonicRegression.transform(x_values)\n",
    "\n",
    "plt.figure(figsize=(8, 6))\n",
    "\n",
    "plt.plot(\n",
    "    x_values,\n",
    "    y_values,\n",
    "    marker=\".\",\n",
    "    color=\"tab:blue\",\n",
    "    linestyle=\"\",\n",
    "    markersize=12,\n",
    ")\n",
    "\n",
    "plt.plot(\n",
    "    x_values,\n",
    "    y_pred,\n",
    "    marker=\".\",\n",
    "    color=\"tab:orange\",\n",
    "    linestyle=\"-\",\n",
    "    markersize=12,\n",
    ")\n",
    "\n",
    "plt.gca().spines[\"left\"].set_color(\"gray\")\n",
    "plt.gca().spines[\"bottom\"].set_color(\"gray\")\n",
    "plt.gca().spines[\"top\"].set_visible(False)\n",
    "plt.gca().spines[\"right\"].set_visible(False)\n",
    "\n",
    "plt.show()"
   ]
  }
 ],
 "metadata": {
  "kernelspec": {
   "display_name": "Python 3",
   "language": "python",
   "name": "python3"
  },
  "language_info": {
   "codemirror_mode": {
    "name": "ipython",
    "version": 3
   },
   "file_extension": ".py",
   "mimetype": "text/x-python",
   "name": "python",
   "nbconvert_exporter": "python",
   "pygments_lexer": "ipython3",
   "version": "3.6.9"
  }
 },
 "nbformat": 4,
 "nbformat_minor": 4
}
