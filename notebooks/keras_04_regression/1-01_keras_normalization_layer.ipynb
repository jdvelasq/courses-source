{
 "cells": [
  {
   "cell_type": "markdown",
   "id": "c8b13d26-f2f9-4261-af8e-507fb120c257",
   "metadata": {
    "tags": []
   },
   "source": [
    "Capa Normalization --- 0:00 min\n",
    "===\n",
    "\n",
    "* Última modificación: Marzo 7, 2022 | YouTube\n",
    "\n",
    "* Adaptado de: https://keras.io/api/layers/preprocessing_layers/numerical/normalization/"
   ]
  },
  {
   "cell_type": "markdown",
   "id": "97bd1a65-6cc8-4203-ab49-cc4ea92aedc5",
   "metadata": {
    "tags": []
   },
   "source": [
    "Importación de librerías\n",
    "---"
   ]
  },
  {
   "cell_type": "code",
   "execution_count": 1,
   "id": "25798cfd-fae1-452c-9aad-71ab35340fe0",
   "metadata": {},
   "outputs": [
    {
     "data": {
      "text/plain": [
       "'2.8.0'"
      ]
     },
     "execution_count": 1,
     "metadata": {},
     "output_type": "execute_result"
    }
   ],
   "source": [
    "import os\n",
    "\n",
    "os.environ[\"TF_CPP_MIN_LOG_LEVEL\"] = \"2\"\n",
    "\n",
    "import tensorflow as tf\n",
    "\n",
    "tf.__version__"
   ]
  },
  {
   "cell_type": "markdown",
   "id": "29f43fed-6b1d-4ab3-9d7f-29fde8857c29",
   "metadata": {},
   "source": [
    "Capa Normalization\n",
    "--"
   ]
  },
  {
   "cell_type": "markdown",
   "id": "8c02b445-f235-4a25-83f2-11bbfd1ec3a5",
   "metadata": {},
   "source": [
    "```(input - mean) / sqrt(var)```"
   ]
  },
  {
   "cell_type": "code",
   "execution_count": 2,
   "id": "eea68b77-db54-40a4-8e1d-df2396f83356",
   "metadata": {},
   "outputs": [
    {
     "data": {
      "text/plain": [
       "<tf.Tensor: shape=(3,), dtype=float32, numpy=array([-1.4142135 , -0.70710677,  0.        ], dtype=float32)>"
      ]
     },
     "execution_count": 2,
     "metadata": {},
     "output_type": "execute_result"
    }
   ],
   "source": [
    "import numpy as np\n",
    "\n",
    "#\n",
    "# Cálculo de la media y varianza globales llamando adapt()\n",
    "#\n",
    "adapt_data = np.array(\n",
    "    [1.0, 2.0, 3.0, 4.0, 5.0],\n",
    "    dtype=\"float32\",\n",
    ")\n",
    "input_data = np.array(\n",
    "    [1.0, 2.0, 3.0],\n",
    "    dtype=\"float32\",\n",
    ")\n",
    "layer = tf.keras.layers.Normalization(\n",
    "    axis=None,\n",
    ")\n",
    "layer.adapt(adapt_data)\n",
    "layer(input_data)"
   ]
  },
  {
   "cell_type": "code",
   "execution_count": 3,
   "id": "454cc11d-d5d7-4d3d-b2dd-152086471566",
   "metadata": {},
   "outputs": [
    {
     "data": {
      "text/plain": [
       "<tf.Tensor: shape=(1, 3), dtype=float32, numpy=array([[-1., -1., -1.]], dtype=float32)>"
      ]
     },
     "execution_count": 3,
     "metadata": {},
     "output_type": "execute_result"
    }
   ],
   "source": [
    "#\n",
    "# Cálculo de la media y la varianza para cada índice en el último eje.\n",
    "#\n",
    "adapt_data = np.array(\n",
    "    [\n",
    "        [0.0, 7.0, 4.0],\n",
    "        [2.0, 9.0, 6.0],\n",
    "        [0.0, 7.0, 4.0],\n",
    "        [2.0, 9.0, 6.0],\n",
    "    ],\n",
    "    dtype=\"float32\",\n",
    ")\n",
    "input_data = np.array(\n",
    "    [[0.0, 7.0, 4.0]],\n",
    "    dtype=\"float32\",\n",
    ")\n",
    "layer = tf.keras.layers.Normalization(\n",
    "    axis=-1,\n",
    ")\n",
    "layer.adapt(adapt_data)\n",
    "layer(input_data)"
   ]
  },
  {
   "cell_type": "code",
   "execution_count": 4,
   "id": "090ac089-d74b-44ab-8717-3325ab6f897e",
   "metadata": {},
   "outputs": [
    {
     "data": {
      "text/plain": [
       "<tf.Tensor: shape=(3, 1), dtype=float32, numpy=\n",
       "array([[-1.4142135 ],\n",
       "       [-0.70710677],\n",
       "       [ 0.        ]], dtype=float32)>"
      ]
     },
     "execution_count": 4,
     "metadata": {},
     "output_type": "execute_result"
    }
   ],
   "source": [
    "#\n",
    "# Especificación de la media y la varianza\n",
    "#\n",
    "input_data = np.array(\n",
    "    [\n",
    "        [1.0],\n",
    "        [2.0],\n",
    "        [3.0],\n",
    "    ],\n",
    "    dtype=\"float32\",\n",
    ")\n",
    "layer = tf.keras.layers.Normalization(\n",
    "    mean=3.0,\n",
    "    variance=2.0,\n",
    ")\n",
    "layer(input_data)"
   ]
  }
 ],
 "metadata": {
  "kernelspec": {
   "display_name": "Python 3 (ipykernel)",
   "language": "python",
   "name": "python3"
  },
  "language_info": {
   "codemirror_mode": {
    "name": "ipython",
    "version": 3
   },
   "file_extension": ".py",
   "mimetype": "text/x-python",
   "name": "python",
   "nbconvert_exporter": "python",
   "pygments_lexer": "ipython3",
   "version": "3.9.10"
  }
 },
 "nbformat": 4,
 "nbformat_minor": 5
}
