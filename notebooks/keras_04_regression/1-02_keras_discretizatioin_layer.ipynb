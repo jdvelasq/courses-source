{
 "cells": [
  {
   "cell_type": "markdown",
   "id": "8e3da6b8-e995-4d06-b291-f49566446ade",
   "metadata": {
    "tags": []
   },
   "source": [
    "Capa Discretization --- 0:00 min\n",
    "===\n",
    "\n",
    "* Última modificación: Marzo 7, 2022 | YouTube\n",
    "\n",
    "* Adaptado de: https://keras.io/api/layers/preprocessing_layers/numerical/discretization/"
   ]
  },
  {
   "cell_type": "markdown",
   "id": "7c7cc049-808c-4c93-aad4-1d7998888424",
   "metadata": {
    "tags": []
   },
   "source": [
    "Importación de librerías\n",
    "---"
   ]
  },
  {
   "cell_type": "code",
   "execution_count": 1,
   "id": "95746764-2b16-43b7-88f9-bd507af1bad4",
   "metadata": {},
   "outputs": [
    {
     "data": {
      "text/plain": [
       "'2.8.0'"
      ]
     },
     "execution_count": 1,
     "metadata": {},
     "output_type": "execute_result"
    }
   ],
   "source": [
    "import os\n",
    "\n",
    "os.environ[\"TF_CPP_MIN_LOG_LEVEL\"] = \"2\"\n",
    "\n",
    "import tensorflow as tf\n",
    "\n",
    "tf.__version__"
   ]
  },
  {
   "cell_type": "markdown",
   "id": "420ce50d-1d70-4817-ae30-10e031740668",
   "metadata": {},
   "source": [
    "Ejemplos\n",
    "--"
   ]
  },
  {
   "cell_type": "code",
   "execution_count": 5,
   "id": "7774373f-0acf-4d54-a155-6532d4bc2d52",
   "metadata": {},
   "outputs": [
    {
     "data": {
      "text/plain": [
       "<tf.Tensor: shape=(2, 4), dtype=int64, numpy=\n",
       "array([[0, 2, 3, 1],\n",
       "       [1, 3, 2, 1]])>"
      ]
     },
     "execution_count": 5,
     "metadata": {},
     "output_type": "execute_result"
    }
   ],
   "source": [
    "#\n",
    "# Discretización usando límites definidos\n",
    "#\n",
    "input = np.array(\n",
    "    [\n",
    "        [-1.5, 1.0, 3.4, 0.5],\n",
    "        [0.0, 3.0, 1.3, 0.0],\n",
    "    ]\n",
    ")\n",
    "layer = tf.keras.layers.Discretization(bin_boundaries=[0.0, 1.0, 2.0])\n",
    "layer(input)"
   ]
  },
  {
   "cell_type": "code",
   "execution_count": 6,
   "id": "41207a25-7f64-4db7-88fa-a26d69f84bee",
   "metadata": {},
   "outputs": [
    {
     "data": {
      "text/plain": [
       "<tf.Tensor: shape=(2, 4), dtype=int64, numpy=\n",
       "array([[0, 2, 3, 2],\n",
       "       [1, 3, 3, 1]])>"
      ]
     },
     "execution_count": 6,
     "metadata": {},
     "output_type": "execute_result"
    }
   ],
   "source": [
    "#\n",
    "# Discretización usando un número definido de bins\n",
    "#\n",
    "input = np.array(\n",
    "    [\n",
    "        [-1.5, 1.0, 3.4, 0.5],\n",
    "        [0.0, 3.0, 1.3, 0.0],\n",
    "    ]\n",
    ")\n",
    "layer = tf.keras.layers.Discretization(\n",
    "    num_bins=4,\n",
    "    epsilon=0.01,\n",
    ")\n",
    "layer.adapt(input)\n",
    "layer(input)"
   ]
  }
 ],
 "metadata": {
  "kernelspec": {
   "display_name": "Python 3 (ipykernel)",
   "language": "python",
   "name": "python3"
  },
  "language_info": {
   "codemirror_mode": {
    "name": "ipython",
    "version": 3
   },
   "file_extension": ".py",
   "mimetype": "text/x-python",
   "name": "python",
   "nbconvert_exporter": "python",
   "pygments_lexer": "ipython3",
   "version": "3.9.10"
  }
 },
 "nbformat": 4,
 "nbformat_minor": 5
}
