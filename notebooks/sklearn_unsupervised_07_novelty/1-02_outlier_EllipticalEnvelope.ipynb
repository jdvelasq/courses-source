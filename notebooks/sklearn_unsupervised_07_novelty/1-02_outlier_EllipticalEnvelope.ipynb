{
 "cells": [
  {
   "cell_type": "markdown",
   "id": "90691024-dd67-43ff-8154-5cb4a9cda555",
   "metadata": {
    "slideshow": {
     "slide_type": "slide"
    },
    "tags": []
   },
   "source": [
    "Detección de outliers usando EllipticEnvelope\n",
    "===\n",
    "\n",
    "* 0:00 min | Última modificación: Septiembre 22, 2021 | [YouTube]"
   ]
  },
  {
   "cell_type": "markdown",
   "id": "5ce98ff4-3d18-46fb-84ba-606e6cae0f11",
   "metadata": {},
   "source": [
    "En esta lección se aborda el problema de la detección de outliers en la muestra de entrenamiento suponiendo que los datos provienen de una distribución normal multivarida."
   ]
  },
  {
   "cell_type": "markdown",
   "id": "cba72afb-d4bc-4aeb-acfe-41a75a1001c2",
   "metadata": {},
   "source": [
    "Esta metodología se basa en la computación de la probabilidad de ocurrencia (o la lejanía de un punto respecto al centro de los datos) si los datos siguen una disttribución normal multivariada. Ya que de antemano se supone la presencia de outliers, el vector de centros  y la matriz de covarianzas se deben estimar usando métodos robustos (es decir, que no sean influenciados por las observaciones atípicas).\n",
    "\n",
    "En esta metodología se usa la distancia de Mahalanobis para derivar una medida que indica que tan lejano es un punto."
   ]
  },
  {
   "cell_type": "markdown",
   "id": "43094a6b-b82e-4b3a-bd68-c99050c1fdef",
   "metadata": {},
   "source": [
    "![ellipsoide.png](assets/ellipsoide.png)"
   ]
  },
  {
   "cell_type": "code",
   "execution_count": 1,
   "id": "2bcf8fc5-feaa-4a1d-8fc6-70815d0040c7",
   "metadata": {},
   "outputs": [
    {
     "data": {
      "text/plain": [
       "array([ 1, -1])"
      ]
     },
     "execution_count": 1,
     "metadata": {},
     "output_type": "execute_result"
    }
   ],
   "source": [
    "import numpy as np\n",
    "from sklearn.covariance import EllipticEnvelope\n",
    "\n",
    "true_cov = np.array(\n",
    "    [\n",
    "        [0.8, 0.3],\n",
    "        [0.3, 0.4],\n",
    "    ]\n",
    ")\n",
    "\n",
    "\n",
    "X = np.random.RandomState(0).multivariate_normal(\n",
    "    mean=[0, 0],\n",
    "    cov=true_cov,\n",
    "    size=500,\n",
    ")\n",
    "\n",
    "cov = EllipticEnvelope(\n",
    "    # -----------------------------------------------------\n",
    "    # The data is centered?\n",
    "    assume_centered=False,\n",
    "    # -----------------------------------------------------\n",
    "    # The amount of contamination of the data set\n",
    "    contamination=0.1,\n",
    "    # -----------------------------------------------------\n",
    "    # The proportion of points to be included in the\n",
    "    # support of the raw MCD estimate.\n",
    "    support_fraction=None,\n",
    "    # -----------------------------------------------------\n",
    "    # Determines the pseudo random number generator for\n",
    "    # shuffling the data.\n",
    "    random_state=0,\n",
    ")\n",
    "\n",
    "cov.fit(X)\n",
    "\n",
    "#\n",
    "# El objeto entrenado contiene los siguientes atributos:\n",
    "#   location_\n",
    "#   covariance_\n",
    "#   support_\n",
    "#\n",
    "\n",
    "\n",
    "#\n",
    "# Un valor de +1 indica que el punto es un inlier\n",
    "# y un -1 indica que es un outlier\n",
    "#\n",
    "cov.predict([[0, 0], [3, 3]])"
   ]
  },
  {
   "cell_type": "code",
   "execution_count": 2,
   "id": "05f57641-e95a-4814-b771-e336e53348ab",
   "metadata": {},
   "outputs": [
    {
     "data": {
      "text/plain": [
       "array([[0.74118335, 0.25357049],\n",
       "       [0.25357049, 0.30531502]])"
      ]
     },
     "execution_count": 2,
     "metadata": {},
     "output_type": "execute_result"
    }
   ],
   "source": [
    "cov.covariance_"
   ]
  },
  {
   "cell_type": "code",
   "execution_count": 3,
   "id": "b9142df2-a00e-4ae8-b7b2-a65cd01cc8b9",
   "metadata": {},
   "outputs": [
    {
     "data": {
      "text/plain": [
       "array([0.0813539 , 0.04279722])"
      ]
     },
     "execution_count": 3,
     "metadata": {},
     "output_type": "execute_result"
    }
   ],
   "source": [
    "cov.location_"
   ]
  }
 ],
 "metadata": {
  "kernelspec": {
   "display_name": "Python 3",
   "language": "python",
   "name": "python3"
  },
  "language_info": {
   "codemirror_mode": {
    "name": "ipython",
    "version": 3
   },
   "file_extension": ".py",
   "mimetype": "text/x-python",
   "name": "python",
   "nbconvert_exporter": "python",
   "pygments_lexer": "ipython3",
   "version": "3.6.9"
  }
 },
 "nbformat": 4,
 "nbformat_minor": 5
}
