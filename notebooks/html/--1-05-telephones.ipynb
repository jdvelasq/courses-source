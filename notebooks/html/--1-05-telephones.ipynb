{
 "cells": [
  {
   "cell_type": "markdown",
   "metadata": {},
   "source": [
    "Reporte básico en HTML\n",
    "===\n",
    "\n",
    "* *60 min* | Última modificación: Febrero 19, 2020."
   ]
  },
  {
   "cell_type": "markdown",
   "metadata": {},
   "source": [
    "En este tutorial se presenta el desarrollo de un reporte estático en HTML similar al ejemplo disponible para R Shiny en https://shiny.rstudio.com/gallery/telephones-by-region.html"
   ]
  },
  {
   "cell_type": "markdown",
   "metadata": {},
   "source": [
    "![html-18](../../assets/html-18.png)"
   ]
  },
  {
   "cell_type": "markdown",
   "metadata": {},
   "source": [
    "## Data"
   ]
  },
  {
   "cell_type": "code",
   "execution_count": 1,
   "metadata": {},
   "outputs": [
    {
     "data": {
      "text/html": [
       "<div>\n",
       "<style scoped>\n",
       "    .dataframe tbody tr th:only-of-type {\n",
       "        vertical-align: middle;\n",
       "    }\n",
       "\n",
       "    .dataframe tbody tr th {\n",
       "        vertical-align: top;\n",
       "    }\n",
       "\n",
       "    .dataframe thead th {\n",
       "        text-align: right;\n",
       "    }\n",
       "</style>\n",
       "<table border=\"1\" class=\"dataframe\">\n",
       "  <thead>\n",
       "    <tr style=\"text-align: right;\">\n",
       "      <th></th>\n",
       "      <th>N.Amer</th>\n",
       "      <th>Europe</th>\n",
       "      <th>Asia</th>\n",
       "      <th>S.Amer</th>\n",
       "      <th>Oceania</th>\n",
       "      <th>Africa</th>\n",
       "      <th>Mid.Amer</th>\n",
       "    </tr>\n",
       "  </thead>\n",
       "  <tbody>\n",
       "    <tr>\n",
       "      <th>1951</th>\n",
       "      <td>45939</td>\n",
       "      <td>21574</td>\n",
       "      <td>2876</td>\n",
       "      <td>1815</td>\n",
       "      <td>1646</td>\n",
       "      <td>89</td>\n",
       "      <td>555</td>\n",
       "    </tr>\n",
       "    <tr>\n",
       "      <th>1956</th>\n",
       "      <td>60423</td>\n",
       "      <td>29990</td>\n",
       "      <td>4708</td>\n",
       "      <td>2568</td>\n",
       "      <td>2366</td>\n",
       "      <td>1411</td>\n",
       "      <td>733</td>\n",
       "    </tr>\n",
       "    <tr>\n",
       "      <th>1957</th>\n",
       "      <td>64721</td>\n",
       "      <td>32510</td>\n",
       "      <td>5230</td>\n",
       "      <td>2695</td>\n",
       "      <td>2526</td>\n",
       "      <td>1546</td>\n",
       "      <td>773</td>\n",
       "    </tr>\n",
       "    <tr>\n",
       "      <th>1958</th>\n",
       "      <td>68484</td>\n",
       "      <td>35218</td>\n",
       "      <td>6662</td>\n",
       "      <td>2845</td>\n",
       "      <td>2691</td>\n",
       "      <td>1663</td>\n",
       "      <td>836</td>\n",
       "    </tr>\n",
       "    <tr>\n",
       "      <th>1959</th>\n",
       "      <td>71799</td>\n",
       "      <td>37598</td>\n",
       "      <td>6856</td>\n",
       "      <td>3000</td>\n",
       "      <td>2868</td>\n",
       "      <td>1769</td>\n",
       "      <td>911</td>\n",
       "    </tr>\n",
       "    <tr>\n",
       "      <th>1960</th>\n",
       "      <td>76036</td>\n",
       "      <td>40341</td>\n",
       "      <td>8220</td>\n",
       "      <td>3145</td>\n",
       "      <td>3054</td>\n",
       "      <td>1905</td>\n",
       "      <td>1008</td>\n",
       "    </tr>\n",
       "    <tr>\n",
       "      <th>1961</th>\n",
       "      <td>79831</td>\n",
       "      <td>43173</td>\n",
       "      <td>9053</td>\n",
       "      <td>3338</td>\n",
       "      <td>3224</td>\n",
       "      <td>2005</td>\n",
       "      <td>1076</td>\n",
       "    </tr>\n",
       "  </tbody>\n",
       "</table>\n",
       "</div>"
      ],
      "text/plain": [
       "      N.Amer  Europe  Asia  S.Amer  Oceania  Africa  Mid.Amer\n",
       "1951   45939   21574  2876    1815     1646      89       555\n",
       "1956   60423   29990  4708    2568     2366    1411       733\n",
       "1957   64721   32510  5230    2695     2526    1546       773\n",
       "1958   68484   35218  6662    2845     2691    1663       836\n",
       "1959   71799   37598  6856    3000     2868    1769       911\n",
       "1960   76036   40341  8220    3145     3054    1905      1008\n",
       "1961   79831   43173  9053    3338     3224    2005      1076"
      ]
     },
     "execution_count": 1,
     "metadata": {},
     "output_type": "execute_result"
    }
   ],
   "source": [
    "import pandas as pd\n",
    "\n",
    "data = [[45939, 21574, 2876, 1815, 1646,   89,  555],\n",
    "        [60423, 29990, 4708, 2568, 2366, 1411,  733],\n",
    "        [64721, 32510, 5230, 2695, 2526, 1546,  773],\n",
    "        [68484, 35218, 6662, 2845, 2691, 1663,  836],\n",
    "        [71799, 37598, 6856, 3000, 2868, 1769,  911],\n",
    "        [76036, 40341, 8220, 3145, 3054, 1905, 1008],\n",
    "        [79831, 43173, 9053, 3338, 3224, 2005, 1076]]\n",
    "\n",
    "\n",
    "\n",
    "data = pd.DataFrame(\n",
    "    data = data,\n",
    "    index = [1951, 1956, 1957, 1958, 1959, 1960, 1961],\n",
    "    columns = ['N.Amer', 'Europe', 'Asia', 'S.Amer', 'Oceania', 'Africa', 'Mid.Amer']\n",
    ")\n",
    "\n",
    "data"
   ]
  },
  {
   "cell_type": "markdown",
   "metadata": {},
   "source": [
    "## Generación de las figuras"
   ]
  },
  {
   "cell_type": "code",
   "execution_count": 2,
   "metadata": {},
   "outputs": [
    {
     "data": {
      "image/png": "[encoded data removed]",
      "text/plain": [
       "<Figure size 432x288 with 1 Axes>"
      ]
     },
     "metadata": {
      "needs_background": "light"
     },
     "output_type": "display_data"
    },
    {
     "data": {
      "image/png": "[encoded data removed]",
      "text/plain": [
       "<Figure size 432x288 with 1 Axes>"
      ]
     },
     "metadata": {
      "needs_background": "light"
     },
     "output_type": "display_data"
    },
    {
     "data": {
      "image/png": "[encoded data removed]",
      "text/plain": [
       "<Figure size 432x288 with 1 Axes>"
      ]
     },
     "metadata": {
      "needs_background": "light"
     },
     "output_type": "display_data"
    },
    {
     "data": {
      "image/png": "[encoded data removed]",
      "text/plain": [
       "<Figure size 432x288 with 1 Axes>"
      ]
     },
     "metadata": {
      "needs_background": "light"
     },
     "output_type": "display_data"
    },
    {
     "data": {
      "image/png": "[encoded data removed]",
      "text/plain": [
       "<Figure size 432x288 with 1 Axes>"
      ]
     },
     "metadata": {
      "needs_background": "light"
     },
     "output_type": "display_data"
    },
    {
     "data": {
      "image/png": "[encoded data removed]",
      "text/plain": [
       "<Figure size 432x288 with 1 Axes>"
      ]
     },
     "metadata": {
      "needs_background": "light"
     },
     "output_type": "display_data"
    },
    {
     "data": {
      "image/png": "[encoded data removed]",
      "text/plain": [
       "<Figure size 432x288 with 1 Axes>"
      ]
     },
     "metadata": {
      "needs_background": "light"
     },
     "output_type": "display_data"
    }
   ],
   "source": [
    "for col in data.columns:\n",
    "    fig = data.plot.bar(y=col).get_figure().savefig('figs/' + col + '.png')"
   ]
  },
  {
   "cell_type": "markdown",
   "metadata": {},
   "source": [
    "**Actividad.---** Modifique el código para que las gráficas generadas en Python sean similares a las realizadas en R Shiny."
   ]
  },
  {
   "cell_type": "markdown",
   "metadata": {},
   "source": [
    "## Version 1 --- Menu "
   ]
  },
  {
   "cell_type": "code",
   "execution_count": 3,
   "metadata": {},
   "outputs": [
    {
     "name": "stdout",
     "output_type": "stream",
     "text": [
      "Overwriting index.html\n"
     ]
    }
   ],
   "source": [
    "%%writefile index.html\n",
    "\n",
    "<!DOCTYPE html>\n",
    "<html lang=\"en\">\n",
    "    <head>\n",
    "        <meta charset=\"utf-8\">\n",
    "        <title>Telephones</title>    \n",
    "    </head>\n",
    "    <body>\n",
    "        <!--- Menu de seleccion al lado izquierdo --->\n",
    "        <nav>\n",
    "            <p>Region:</p>\n",
    "                \n",
    "            <!--- onchange llama la función cuando el elemento cambia --->\n",
    "            <select id=\"region\" name=\"region\"  onchange=\"selectPlot()\">\n",
    "            \n",
    "                <option value=\"N.Amer\">N.Amer</option>\n",
    "                <option value=\"Europe\">Europe</option>\n",
    "                <option value=\"Asia\">Asia</option>\n",
    "                <option value=\"S.Amer\">S.Amer</option>\n",
    "                <option value=\"Oceania\">Oceania</option>\n",
    "                <option value=\"Africa\">Africa</option>\n",
    "                <option value=\"Mid.Amer\">Mid.Amer</option>\n",
    "                \n",
    "            </select>\n",
    "        </nav>\n",
    "        <script>\n",
    "            function selectPlot() {\n",
    "                \n",
    "                <!--- obtiene el elemento seleccionado en el menu --->\n",
    "                var region = document.getElementById(\"region\").value;\n",
    "                \n",
    "                <!--- imprime un mensaje para depurar el código --->\n",
    "                window.alert(\"Region seleccionada: \" + region);\n",
    "            }\n",
    "        </script>\n",
    "    </body>\n",
    "</html>"
   ]
  },
  {
   "cell_type": "markdown",
   "metadata": {},
   "source": [
    "![html-1](../../assets/html-16.png)"
   ]
  },
  {
   "cell_type": "markdown",
   "metadata": {},
   "source": [
    "## Versión 2 --- Gráficos"
   ]
  },
  {
   "cell_type": "code",
   "execution_count": 4,
   "metadata": {},
   "outputs": [
    {
     "name": "stdout",
     "output_type": "stream",
     "text": [
      "Overwriting index.html\n"
     ]
    }
   ],
   "source": [
    "%%writefile index.html\n",
    "\n",
    "<!DOCTYPE html>\n",
    "<html lang=\"en\">\n",
    "  <head>\n",
    "    <meta charset=\"utf-8\">\n",
    "    <title>Telephones</title>    \n",
    "  </head>\n",
    "  <body>\n",
    "    <nav>\n",
    "      <p>Region:</p>\n",
    "      <select id=\"region\" name=\"region\"  onchange=\"selectPlot()\">\n",
    "        <option value=\"N.Amer\">N.Amer</option>\n",
    "        <option value=\"Europe\">Europe</option>\n",
    "        <option value=\"Asia\">Asia</option>\n",
    "        <option value=\"S.Amer\">S.Amer</option>\n",
    "        <option value=\"Oceania\">Oceania</option>\n",
    "        <option value=\"Africa\">Africa</option>\n",
    "        <option value=\"Mid.Amer\">Mid.Amer</option>\n",
    "      </select>\n",
    "    </nav>\n",
    "       \n",
    "    <div>        \n",
    "      <div class=\"myImage\" id=\"N.Amer\"   style=\"display:block\"> <img src=\"figs/N.Amer.png\"   alt=\"N.Amer\">   </div>\n",
    "      <div class=\"myImage\" id=\"Europe\"   style=\"display:none\">  <img src=\"figs/Europe.png\"   alt=\"Europe\">   </div>\n",
    "      <div class=\"myImage\" id=\"Asia\"     style=\"display:none\">  <img src=\"figs/Asia.png\"     alt=\"Asia\">     </div>\n",
    "      <div class=\"myImage\" id=\"S.Amer\"   style=\"display:none\">  <img src=\"figs/S.Amer.png\"   alt=\"S.Amer\">   </div>\n",
    "      <div class=\"myImage\" id=\"Oceania\"  style=\"display:none\">  <img src=\"figs/Oceania.png\"  alt=\"Oceania\">  </div>\n",
    "      <div class=\"myImage\" id=\"Africa\"   style=\"display:none\">  <img src=\"figs/Africa.png\"   alt=\"Africa\">   </div>\n",
    "      <div class=\"myImage\" id=\"Mid.Amer\" style=\"display:none\">  <img src=\"figs/Mid.Amer.png\" alt=\"Mid.Amer\"> </div>\n",
    "    </div>\n",
    "        \n",
    "    <script>\n",
    "      function selectPlot() {\n",
    "        var region = document.getElementById(\"region\").value;\n",
    "        var images = document.getElementsByClassName(\"myImage\");\n",
    "        for (var i = 0; i < images.length; i++) {\n",
    "          if (images[i].id == region) {\n",
    "            images[i].style.display = \"block\"\n",
    "          }else{\n",
    "            images[i].style.display = \"none\"\n",
    "          }\n",
    "        }\n",
    "      }\n",
    "    </script>\n",
    "  </body>\n",
    "</html>"
   ]
  },
  {
   "cell_type": "markdown",
   "metadata": {},
   "source": [
    "## Version 3 --- Estilo"
   ]
  },
  {
   "cell_type": "code",
   "execution_count": 5,
   "metadata": {},
   "outputs": [
    {
     "name": "stdout",
     "output_type": "stream",
     "text": [
      "Overwriting index.html\n"
     ]
    }
   ],
   "source": [
    "%%writefile index.html\n",
    "\n",
    "<!DOCTYPE html>\n",
    "<html lang=\"en\">\n",
    "  <head>\n",
    "    <meta charset=\"utf-8\">\n",
    "    <title>Telephones</title>    \n",
    "  </head>\n",
    "  <body>\n",
    "    \n",
    "    <!--- Se resaltan los bordes de los bloques para realizar el diseño --->\n",
    "    \n",
    "    <header  style=\"border:1px solid black; border-width:2px;\">\n",
    "      <h2>Telephones by region</h2>\n",
    "    </header>\n",
    "    \n",
    "    <nav style=\"border:1px solid red; border-width:2px;\">\n",
    "      <p>Region:</p>\n",
    "      <select id=\"region\" name=\"region\"  onchange=\"selectPlot()\">\n",
    "        <option value=\"N.Amer\">N.Amer</option>\n",
    "        <option value=\"Europe\">Europe</option>\n",
    "        <option value=\"Asia\">Asia</option>\n",
    "        <option value=\"S.Amer\">S.Amer</option>\n",
    "        <option value=\"Oceania\">Oceania</option>\n",
    "        <option value=\"Africa\">Africa</option>\n",
    "        <option value=\"Mid.Amer\">Mid.Amer</option>\n",
    "      </select>\n",
    "    </nav>\n",
    "       \n",
    "    <div style=\"border:1px solid blue; border-width:2px;\">        \n",
    "      <div class=\"myImage\" id=\"N.Amer\"   style=\"display:block\"> <img src=\"figs/N.Amer.png\"   alt=\"N.Amer\">   </div>\n",
    "      <div class=\"myImage\" id=\"Europe\"   style=\"display:none\">  <img src=\"figs/Europe.png\"   alt=\"Europe\">   </div>\n",
    "      <div class=\"myImage\" id=\"Asia\"     style=\"display:none\">  <img src=\"figs/Asia.png\"     alt=\"Asia\">     </div>\n",
    "      <div class=\"myImage\" id=\"S.Amer\"   style=\"display:none\">  <img src=\"figs/S.Amer.png\"   alt=\"S.Amer\">   </div>\n",
    "      <div class=\"myImage\" id=\"Oceania\"  style=\"display:none\">  <img src=\"figs/Oceania.png\"  alt=\"Oceania\">  </div>\n",
    "      <div class=\"myImage\" id=\"Africa\"   style=\"display:none\">  <img src=\"figs/Africa.png\"   alt=\"Africa\">   </div>\n",
    "      <div class=\"myImage\" id=\"Mid.Amer\" style=\"display:none\">  <img src=\"figs/Mid.Amer.png\" alt=\"Mid.Amer\"> </div>\n",
    "    </div>\n",
    "        \n",
    "    <script>\n",
    "      function selectPlot() {\n",
    "        var region = document.getElementById(\"region\").value;\n",
    "        var images = document.getElementsByClassName(\"myImage\");\n",
    "        for (var i = 0; i < images.length; i++) {\n",
    "          if (images[i].id == region) {\n",
    "            images[i].style.display = \"block\"\n",
    "          }else{\n",
    "            images[i].style.display = \"none\"\n",
    "          }\n",
    "        }\n",
    "      }\n",
    "    </script>\n",
    "  </body>\n",
    "</html>"
   ]
  },
  {
   "cell_type": "markdown",
   "metadata": {},
   "source": [
    "![html-17](../../assets/html-17.png)"
   ]
  },
  {
   "cell_type": "code",
   "execution_count": 6,
   "metadata": {},
   "outputs": [
    {
     "name": "stdout",
     "output_type": "stream",
     "text": [
      "Overwriting index.html\n"
     ]
    }
   ],
   "source": [
    "%%writefile index.html\n",
    "\n",
    "<!DOCTYPE html>\n",
    "<html lang=\"en\">\n",
    "  <head>\n",
    "    <meta charset=\"utf-8\">\n",
    "    <title>Telephones</title>    \n",
    "    \n",
    "    <!--- se adiciona el estilo usando CSS --->\n",
    "    <style>\n",
    "    \n",
    "        body {\n",
    "          font-family: Arial, Helvetica, sans-serif;\n",
    "        }\n",
    "        \n",
    "        header {\n",
    "            font-size: 20px;\n",
    "        }\n",
    "        \n",
    "        nav {\n",
    "          float: left;\n",
    "          width: 20%;\n",
    "          height: 150px;\n",
    "          background: #eeeeee;\n",
    "          padding: 20px;\n",
    "        }\n",
    "    \n",
    "    </style>\n",
    "    <!-- fin de la definición de estilo --->\n",
    "    \n",
    "  </head>\n",
    "  <body>\n",
    "    \n",
    "    <header  style=\"border:1px solid black; border-width:2px;\">\n",
    "      <h2>Telephones by region</h2>\n",
    "    </header>\n",
    "    \n",
    "    <nav style=\"border:1px solid red; border-width:2px;\">\n",
    "      <p>Region:</p>\n",
    "      <select id=\"region\" name=\"region\"  onchange=\"selectPlot()\">\n",
    "        <option value=\"N.Amer\">N.Amer</option>\n",
    "        <option value=\"Europe\">Europe</option>\n",
    "        <option value=\"Asia\">Asia</option>\n",
    "        <option value=\"S.Amer\">S.Amer</option>\n",
    "        <option value=\"Oceania\">Oceania</option>\n",
    "        <option value=\"Africa\">Africa</option>\n",
    "        <option value=\"Mid.Amer\">Mid.Amer</option>\n",
    "      </select>\n",
    "      <br>\n",
    "      <hr>\n",
    "      <p> Data from AT&T (1961) The World's Telephones. </p>\n",
    "    </nav>\n",
    "       \n",
    "    <div style=\"border:1px solid blue; border-width:2px;\">        \n",
    "      <div class=\"myImage\" id=\"N.Amer\"   style=\"display:block\"> <img src=\"figs/N.Amer.png\"   alt=\"N.Amer\">   </div>\n",
    "      <div class=\"myImage\" id=\"Europe\"   style=\"display:none\">  <img src=\"figs/Europe.png\"   alt=\"Europe\">   </div>\n",
    "      <div class=\"myImage\" id=\"Asia\"     style=\"display:none\">  <img src=\"figs/Asia.png\"     alt=\"Asia\">     </div>\n",
    "      <div class=\"myImage\" id=\"S.Amer\"   style=\"display:none\">  <img src=\"figs/S.Amer.png\"   alt=\"S.Amer\">   </div>\n",
    "      <div class=\"myImage\" id=\"Oceania\"  style=\"display:none\">  <img src=\"figs/Oceania.png\"  alt=\"Oceania\">  </div>\n",
    "      <div class=\"myImage\" id=\"Africa\"   style=\"display:none\">  <img src=\"figs/Africa.png\"   alt=\"Africa\">   </div>\n",
    "      <div class=\"myImage\" id=\"Mid.Amer\" style=\"display:none\">  <img src=\"figs/Mid.Amer.png\" alt=\"Mid.Amer\"> </div>\n",
    "    </div>\n",
    "        \n",
    "    <script>\n",
    "      function selectPlot() {\n",
    "        var region = document.getElementById(\"region\").value;\n",
    "        var images = document.getElementsByClassName(\"myImage\");\n",
    "        for (var i = 0; i < images.length; i++) {\n",
    "          if (images[i].id == region) {\n",
    "            images[i].style.display = \"block\"\n",
    "          }else{\n",
    "            images[i].style.display = \"none\"\n",
    "          }\n",
    "        }\n",
    "      }\n",
    "    </script>\n",
    "  </body>\n",
    "</html>"
   ]
  },
  {
   "cell_type": "markdown",
   "metadata": {},
   "source": [
    "![html-17](../../assets/html-19.png)"
   ]
  },
  {
   "cell_type": "markdown",
   "metadata": {},
   "source": [
    "## Version 4 --- Detalles del estilo "
   ]
  },
  {
   "cell_type": "code",
   "execution_count": 7,
   "metadata": {},
   "outputs": [
    {
     "name": "stdout",
     "output_type": "stream",
     "text": [
      "Overwriting index.html\n"
     ]
    }
   ],
   "source": [
    "%%writefile index.html\n",
    "\n",
    "<!DOCTYPE html>\n",
    "<html lang=\"en\">\n",
    "  <head>\n",
    "    <meta charset=\"utf-8\">\n",
    "    <title>Telephones</title>    \n",
    "    \n",
    "    <style>\n",
    "    \n",
    "        body {\n",
    "          font-family: Arial, Helvetica, sans-serif;\n",
    "          padding-left: 10px;\n",
    "        }\n",
    "        \n",
    "        header {\n",
    "            font-size: 20px;\n",
    "        }\n",
    "        \n",
    "        nav {\n",
    "          float: left;\n",
    "          width: 20%;\n",
    "          height: 150px;\n",
    "          background: #eeeeee;\n",
    "          padding: 20px;\n",
    "        }\n",
    "        \n",
    "        .seltext {\n",
    "            font-weight: bold;\n",
    "        }\n",
    "        \n",
    "        .auxtext {\n",
    "            font-size: 14px;\n",
    "            color: #807F7F;\n",
    "        }\n",
    "    \n",
    "    </style>\n",
    "    \n",
    "  </head>\n",
    "  <body>\n",
    "    \n",
    "    <header>\n",
    "      <h2>Telephones by region</h2>\n",
    "    </header>\n",
    "    \n",
    "    <nav style=\"border:1px solid #BEBDBD; border-width:2px;\">\n",
    "      <p class=\"seltext\">Region:</p>\n",
    "      <select id=\"region\" name=\"region\"  onchange=\"selectPlot()\">\n",
    "        <option value=\"N.Amer\">N.Amer</option>\n",
    "        <option value=\"Europe\">Europe</option>\n",
    "        <option value=\"Asia\">Asia</option>\n",
    "        <option value=\"S.Amer\">S.Amer</option>\n",
    "        <option value=\"Oceania\">Oceania</option>\n",
    "        <option value=\"Africa\">Africa</option>\n",
    "        <option value=\"Mid.Amer\">Mid.Amer</option>\n",
    "      </select>\n",
    "      <br>\n",
    "      <hr>\n",
    "      <p class=\"auxtext\"> Data from AT&T (1961) The World's Telephones. </p>\n",
    "    </nav>\n",
    "       \n",
    "    <div>\n",
    "      <div class=\"myImage\" id=\"N.Amer\"   style=\"display:block\"> <img src=\"figs/N.Amer.png\"   alt=\"N.Amer\">   </div>\n",
    "      <div class=\"myImage\" id=\"Europe\"   style=\"display:none\">  <img src=\"figs/Europe.png\"   alt=\"Europe\">   </div>\n",
    "      <div class=\"myImage\" id=\"Asia\"     style=\"display:none\">  <img src=\"figs/Asia.png\"     alt=\"Asia\">     </div>\n",
    "      <div class=\"myImage\" id=\"S.Amer\"   style=\"display:none\">  <img src=\"figs/S.Amer.png\"   alt=\"S.Amer\">   </div>\n",
    "      <div class=\"myImage\" id=\"Oceania\"  style=\"display:none\">  <img src=\"figs/Oceania.png\"  alt=\"Oceania\">  </div>\n",
    "      <div class=\"myImage\" id=\"Africa\"   style=\"display:none\">  <img src=\"figs/Africa.png\"   alt=\"Africa\">   </div>\n",
    "      <div class=\"myImage\" id=\"Mid.Amer\" style=\"display:none\">  <img src=\"figs/Mid.Amer.png\" alt=\"Mid.Amer\"> </div>\n",
    "    </div>\n",
    "        \n",
    "    <script>\n",
    "      function selectPlot() {\n",
    "        var region = document.getElementById(\"region\").value;\n",
    "        var images = document.getElementsByClassName(\"myImage\");\n",
    "        for (var i = 0; i < images.length; i++) {\n",
    "          if (images[i].id == region) {\n",
    "            images[i].style.display = \"block\"\n",
    "          }else{\n",
    "            images[i].style.display = \"none\"\n",
    "          }\n",
    "        }\n",
    "      }\n",
    "    </script>\n",
    "  </body>\n",
    "</html>"
   ]
  },
  {
   "cell_type": "markdown",
   "metadata": {},
   "source": [
    "![html-20](../../assets/html-20.png)"
   ]
  },
  {
   "cell_type": "markdown",
   "metadata": {},
   "source": [
    "**Actividad.---** Construya una página web que mimifique la funcionalidad de la siguiente app de Shiny:\n",
    "\n",
    "https://shiny.rstudio.com/gallery/button-styler.html"
   ]
  }
 ],
 "metadata": {
  "kernel_info": {
   "name": "python3"
  },
  "kernelspec": {
   "display_name": "Python 3 (ipykernel)",
   "language": "python",
   "name": "python3"
  },
  "language_info": {
   "codemirror_mode": {
    "name": "ipython",
    "version": 3
   },
   "file_extension": ".py",
   "mimetype": "text/x-python",
   "name": "python",
   "nbconvert_exporter": "python",
   "pygments_lexer": "ipython3",
   "version": "3.8.10"
  },
  "nteract": {
   "version": "0.7.1"
  }
 },
 "nbformat": 4,
 "nbformat_minor": 4
}
