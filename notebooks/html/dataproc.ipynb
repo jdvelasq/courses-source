{
 "cells": [
  {
   "cell_type": "markdown",
   "metadata": {},
   "source": [
    "# Análisis de datos bibliográficos de la revista Dyna-Colombia"
   ]
  },
  {
   "cell_type": "markdown",
   "metadata": {},
   "source": [
    "Este notebook contiene el código necesario para la generación de la página estática con información sobre las publicaciones sobre la revista Dyna que aparecen en Scopus. En este notebook se obtendrán los 10 artículos más citados y la cantidad de publicaciones por año. Los archivos usados para la generación del sitio web están en la carpeta `docs`."
   ]
  },
  {
   "cell_type": "code",
   "execution_count": 1,
   "metadata": {},
   "outputs": [],
   "source": [
    "##\n",
    "## Preparación\n",
    "##\n",
    "import pandas as pd\n",
    "import numpy as np\n",
    "import matplotlib \n",
    "import matplotlib.pyplot as plt\n",
    "%matplotlib inline"
   ]
  },
  {
   "cell_type": "markdown",
   "metadata": {},
   "source": [
    "## Adquisición de datos"
   ]
  },
  {
   "cell_type": "markdown",
   "metadata": {},
   "source": [
    "La adquisición de la información debería realizarse directamente consultado Scopus via API, pero no se disponen de las credenciales de seguridad para ello. Por esto, se asume que la descarga se realiza manualmente y se guarda en el archivo `data/scopus.csv`."
   ]
  },
  {
   "cell_type": "markdown",
   "metadata": {},
   "source": [
    "## Lectura de datos"
   ]
  },
  {
   "cell_type": "code",
   "execution_count": 2,
   "metadata": {},
   "outputs": [
    {
     "data": {
      "text/plain": [
       "Index(['Authors', 'Author(s) ID', 'Title', 'Year', 'Source title', 'Volume',\n",
       "       'Issue', 'Art. No.', 'Page start', 'Page end', 'Page count', 'Cited by',\n",
       "       'DOI', 'Link', 'Document Type', 'Publication Stage', 'Access Type',\n",
       "       'Source', 'EID'],\n",
       "      dtype='object')"
      ]
     },
     "execution_count": 2,
     "metadata": {},
     "output_type": "execute_result"
    }
   ],
   "source": [
    "## Se lee el archivo de datos\n",
    "df = pd.read_csv('data/scopus.csv')\n",
    "\n",
    "## se imprimen los nombres de las columnas para verificar\n",
    "df.columns"
   ]
  },
  {
   "cell_type": "markdown",
   "metadata": {},
   "source": [
    "## Articulos más citados"
   ]
  },
  {
   "cell_type": "code",
   "execution_count": 3,
   "metadata": {},
   "outputs": [],
   "source": [
    "##\n",
    "## La columna 'Cited by' tiene registros con NaN. Estos valores se \n",
    "## convierten a 0\n",
    "##\n",
    "df['Cited by'] = df['Cited by'].map(lambda x: 0 if np.isnan(x) else x)"
   ]
  },
  {
   "cell_type": "code",
   "execution_count": 4,
   "metadata": {},
   "outputs": [
    {
     "data": {
      "text/plain": [
       "['Ayala, G., Agudelo, A., Vargas, R.Effect of glycerol on the electrical properties and phase behavior of cassava starch biopolymers [Efecto del glicerol sobre las propiedades eléctricas y comportamiento de fase en biopolímeros de almidón de yuca];2012,27',\n",
       " 'Cabral, P., Zamyatin, A.Markov processes in modeling land use and land cover changes in Sintra-Cascais, Portugal [Procesos de markov en la modelización de alteraciones del uso e ocupación del suelo en Sintra-Cascais, Portugal];2009,24',\n",
       " 'Rojas, D., Cipriano, A.Model based predictive control of a rougher flotation circuit considering grade estimation in intermediate cells [Control predictivo de un circuito de flotación rougher considerando estimación de leyes en celdas intermedias];2011,22',\n",
       " 'Alcocer, W., Vela, L., Blanco, A., Gonzalez, J., Oliver, M.Major trends in the development of ankle rehabilitation devices [Principales tendencias en el desarrollo de dispositivos de rehabilitacion para tobillo];2012,21',\n",
       " 'Parra, E.R., Arango, P.J.A., Palacio, V.J.B.XPS structure analysis of TiN/TiC bilayers produced by pulsed vacuum arc discharge [Análisis estructural de bicapas de TiN/TiC producidas por descargas pulsadas por arco en vacío];2010,17',\n",
       " 'Montoya, F.G., Manzano-Agugliaro, F., López, J.G., Alguacil, P.S.Power quality research techniques: Advantages and disadvantages [Técnicas de Investigación en Calidad Eléctrica: Ventajas e Inconvenientes];2012,17',\n",
       " 'González-Feliu, J., Cedillo-Campo, M.G., García-Alcaraz, J.L.An emission model as an alternative to O-D matrix in urban goods transport modeling [Un modelo de emisión como una alternativa a la generación de matrices O-D para modelar el transporte urbano de carga];2014,17',\n",
       " 'Jiménez, A.R., Diazgranados, J.A., AMorantes, M.T.A.Electricity generation and wind potential assessment in regions of Colombia [Generación eléctrica y evaluación del potencial de energía eólica en regiones de Colombia];2012,17',\n",
       " 'Pozo-Antonio, S., Puente-Luna, I., Lagüela-López, S., Veiga-Ríos, M.Techniques to correct and prevent acid mine drainage: A review [Técnicas correctoras y preventivas de las aguas ácidas de mina: Una revision];2014,16',\n",
       " 'Avelar-Sosa, L., García-Alcaraz, J.L., Cedillo-Campos, M.G., Adarme-Jaimes, W.Effects of regional infrastructure and offered services in the supply chains performance: Case ciudad Juarez [Efectos de la infraestructura regional y los servicios en el desempeño de la cadena de suministro: Caso ciudad juárez];2014,16']"
      ]
     },
     "execution_count": 4,
     "metadata": {},
     "output_type": "execute_result"
    }
   ],
   "source": [
    "##\n",
    "## Se ordena por las citas y luego se extraen los campos de interés.\n",
    "##\n",
    "most_cited = (df.sort_values(by=['Cited by'], ascending=False))[['Authors', 'Title', 'Year', 'Cited by']]\n",
    "\n",
    "##\n",
    "## Se limita el DataFrame a los 10 primeros registros.\n",
    "##\n",
    "most_cited = most_cited[0:10]\n",
    "\n",
    "##\n",
    "## Se construye una lista de strings con la información\n",
    "## bibliográfica de interés\n",
    "##\n",
    "table = []\n",
    "for a,b,c,d in most_cited.values.tolist():\n",
    "    table += [a + b + ';' + str(c) + ',' + str(int(d))]\n",
    "most_cited = table\n",
    "\n",
    "##\n",
    "## Se imprimen para verificar\n",
    "##\n",
    "most_cited"
   ]
  },
  {
   "cell_type": "markdown",
   "metadata": {},
   "source": [
    "## Artículos por año"
   ]
  },
  {
   "cell_type": "code",
   "execution_count": 5,
   "metadata": {},
   "outputs": [
    {
     "data": {
      "text/html": [
       "<div>\n",
       "<style scoped>\n",
       "    .dataframe tbody tr th:only-of-type {\n",
       "        vertical-align: middle;\n",
       "    }\n",
       "\n",
       "    .dataframe tbody tr th {\n",
       "        vertical-align: top;\n",
       "    }\n",
       "\n",
       "    .dataframe thead th {\n",
       "        text-align: right;\n",
       "    }\n",
       "</style>\n",
       "<table border=\"1\" class=\"dataframe\">\n",
       "  <thead>\n",
       "    <tr style=\"text-align: right;\">\n",
       "      <th></th>\n",
       "      <th>count</th>\n",
       "    </tr>\n",
       "    <tr>\n",
       "      <th>Year</th>\n",
       "      <th></th>\n",
       "    </tr>\n",
       "  </thead>\n",
       "  <tbody>\n",
       "    <tr>\n",
       "      <th>2008</th>\n",
       "      <td>67</td>\n",
       "    </tr>\n",
       "    <tr>\n",
       "      <th>2009</th>\n",
       "      <td>106</td>\n",
       "    </tr>\n",
       "    <tr>\n",
       "      <th>2010</th>\n",
       "      <td>112</td>\n",
       "    </tr>\n",
       "    <tr>\n",
       "      <th>2011</th>\n",
       "      <td>143</td>\n",
       "    </tr>\n",
       "    <tr>\n",
       "      <th>2012</th>\n",
       "      <td>164</td>\n",
       "    </tr>\n",
       "    <tr>\n",
       "      <th>2013</th>\n",
       "      <td>131</td>\n",
       "    </tr>\n",
       "    <tr>\n",
       "      <th>2014</th>\n",
       "      <td>197</td>\n",
       "    </tr>\n",
       "    <tr>\n",
       "      <th>2015</th>\n",
       "      <td>184</td>\n",
       "    </tr>\n",
       "    <tr>\n",
       "      <th>2016</th>\n",
       "      <td>151</td>\n",
       "    </tr>\n",
       "    <tr>\n",
       "      <th>2017</th>\n",
       "      <td>159</td>\n",
       "    </tr>\n",
       "    <tr>\n",
       "      <th>2018</th>\n",
       "      <td>176</td>\n",
       "    </tr>\n",
       "  </tbody>\n",
       "</table>\n",
       "</div>"
      ],
      "text/plain": [
       "      count\n",
       "Year       \n",
       "2008     67\n",
       "2009    106\n",
       "2010    112\n",
       "2011    143\n",
       "2012    164\n",
       "2013    131\n",
       "2014    197\n",
       "2015    184\n",
       "2016    151\n",
       "2017    159\n",
       "2018    176"
      ]
     },
     "execution_count": 5,
     "metadata": {},
     "output_type": "execute_result"
    }
   ],
   "source": [
    "##\n",
    "## Se cuenta la cantidad de artículos realizando una\n",
    "## agregación por el año\n",
    "##\n",
    "count = df.groupby('Year')['Authors'].agg(['count'])\n",
    "count"
   ]
  },
  {
   "cell_type": "code",
   "execution_count": 6,
   "metadata": {},
   "outputs": [
    {
     "data": {
      "image/png": "[encoded data removed]",
      "text/plain": [
       "<Figure size 432x288 with 1 Axes>"
      ]
     },
     "metadata": {
      "needs_background": "light"
     },
     "output_type": "display_data"
    }
   ],
   "source": [
    "##\n",
    "## Se genera el gráfico y se salva en la carpeta docs\n",
    "##\n",
    "count.plot.bar();\n",
    "plt.savefig('docs/numbyyear.png')"
   ]
  },
  {
   "cell_type": "markdown",
   "metadata": {},
   "source": [
    "## Generación de la página web"
   ]
  },
  {
   "cell_type": "markdown",
   "metadata": {},
   "source": [
    "Para genera la página web, se usa el módulo `jinja2`, usando el archivo `templates/index.html` como plantilla."
   ]
  },
  {
   "cell_type": "code",
   "execution_count": 7,
   "metadata": {},
   "outputs": [
    {
     "name": "stdout",
     "output_type": "stream",
     "text": [
      "<!DOCTYPE html>\n",
      "<html>\n",
      "<head>\n",
      "   <title>Ejemplo de un Dashboard</title>\n",
      "</head>\n",
      "<body>\n",
      "\n",
      "    <h1>Analisis de las publicaciones de la revista Dyna-Colombia</h1>\n",
      "\n",
      "    <p>Esta es una demostaacion de la creacion de un Dashboard estatico en GitHub Pages</p>\n",
      "\n",
      "    <h2>Cantidad de articulos publicados por ano</h2>\n",
      "  \n",
      "    <img src=\"numbyyear.png\">\n",
      "    \n",
      "\n",
      "    <h2>Articulos mas citados</h2>\n",
      "\n",
      "    <ul>\n",
      "        {% for i in articles %}\n",
      "        <li> {{ i }} </li>\n",
      "        {% endfor %}\n",
      "    </ul>\n",
      "\n",
      "\n",
      "\n",
      "</body>\n",
      "</html>"
     ]
    }
   ],
   "source": [
    "!cat templates/index.html"
   ]
  },
  {
   "cell_type": "markdown",
   "metadata": {},
   "source": [
    "En la plantilla, el código:\n",
    "\n",
    "\n",
    "     <ul>\n",
    "         {% for i in articles %}\n",
    "         <li> {{ i }} </li>\n",
    "         {% endfor %}\n",
    "     </ul>\n",
    "    \n",
    "genera una lista de viñetas mediante un ciclo `for` donde cada elemento es uno de los 10 artículos más citados. La generación de la página (`docs/index.html`) se genera con el siguiente código "
   ]
  },
  {
   "cell_type": "code",
   "execution_count": 9,
   "metadata": {},
   "outputs": [
    {
     "data": {
      "text/plain": [
       "3223"
      ]
     },
     "execution_count": 9,
     "metadata": {},
     "output_type": "execute_result"
    }
   ],
   "source": [
    "from jinja2 import Template\n",
    "\n",
    "##\n",
    "## Carga el template almacenado como una cadena de texto\n",
    "##\n",
    "template = Template(open('templates/index.html', 'rt').read())\n",
    "\n",
    "##\n",
    "## Genera el archivo index.html pasando en la variable articles \n",
    "## de la plantilla, el conteido de la variable most_cited\n",
    "##\n",
    "open(\"docs/index.html\",\"w\").write( template.render(articles = most_cited))"
   ]
  },
  {
   "cell_type": "markdown",
   "metadata": {},
   "source": [
    "## Publicación de la página web"
   ]
  },
  {
   "cell_type": "markdown",
   "metadata": {},
   "source": [
    "Al actualizar el repo en GitHub se actualiza el sitio web automáticamente."
   ]
  },
  {
   "cell_type": "markdown",
   "metadata": {},
   "source": [
    "---"
   ]
  }
 ],
 "metadata": {
  "kernelspec": {
   "display_name": "Python 3",
   "language": "python",
   "name": "python3"
  },
  "language_info": {
   "codemirror_mode": {
    "name": "ipython",
    "version": 3
   },
   "file_extension": ".py",
   "mimetype": "text/x-python",
   "name": "python",
   "nbconvert_exporter": "python",
   "pygments_lexer": "ipython3",
   "version": "3.6.9"
  }
 },
 "nbformat": 4,
 "nbformat_minor": 4
}
