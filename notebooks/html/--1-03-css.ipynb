{
 "cells": [
  {
   "cell_type": "markdown",
   "metadata": {},
   "source": [
    "Formato de una página web usando CSS\n",
    "===\n",
    "\n",
    "* *60 min* | Última modificación: Febrero 06, 2020."
   ]
  },
  {
   "cell_type": "markdown",
   "metadata": {},
   "source": [
    "## Página web sin formato"
   ]
  },
  {
   "cell_type": "code",
   "execution_count": 1,
   "metadata": {},
   "outputs": [
    {
     "name": "stdout",
     "output_type": "stream",
     "text": [
      "Overwriting index.html\n"
     ]
    }
   ],
   "source": [
    "%%writefile index.html\n",
    "\n",
    "<!DOCTYPE html>\n",
    "<html lang=\"en\">\n",
    "  <head>\n",
    "    <meta charset=\"utf-8\">\n",
    "    <title>Estructura semantica</title>\n",
    "  </head>\n",
    "  <body>\n",
    "    <header>\n",
    "        Encabezamiento\n",
    "    </header>\n",
    "    <section>\n",
    "        <h2>Titulo 1</h1>\n",
    "        \n",
    "        <p>Lorem ipsum dolor sit amet, consectetur adipiscing elit. Fusce nibh velit, gravida \n",
    "        sed diam a, consectetur cursus felis. Duis scelerisque congue efficitur. Duis nec lacus \n",
    "        id nulla tempus commodo. Curabitur ut tincidunt mauris. Vivamus tincidunt risus augue, \n",
    "        a egestas tellus sodales vitae. Fusce vitae felis eu tortor sodales gravida. </p>\n",
    "        \n",
    "        <p>Nulla eget condimentum nulla. Fusce pretium ornare lectus eu bibendum. Donec eros mauris, \n",
    "        laoreet quis viverra id, lobortis vel dui.</p>\n",
    "    \n",
    "    </section>\n",
    "    <section>\n",
    "    \n",
    "        <h2>Listas sin numeración</h2>\n",
    "\n",
    "        <ul>     \n",
    "            <li>Uno</li>  \n",
    "            <li>Dos</li>   \n",
    "            <li>Tres</li> \n",
    "        </ul>\n",
    "    \n",
    "    </section>\n",
    "    <section>\n",
    "        \n",
    "        <h2>Listas enumeradas</h2>\n",
    "    \n",
    "        <ol> \n",
    "            <li>Uno</li>  \n",
    "            <li>Dos</li>   \n",
    "            <li>Tres</li> \n",
    "        </ol>\n",
    "    \n",
    "    </section>\n",
    "    \n",
    "    <footer>\n",
    "        Pie de página\n",
    "    </footer>\n",
    "    \n",
    "\n",
    "  </body>\n",
    "</html>\n"
   ]
  },
  {
   "cell_type": "markdown",
   "metadata": {},
   "source": [
    "![html-04](../../assets/css-01.png)"
   ]
  },
  {
   "cell_type": "markdown",
   "metadata": {},
   "source": [
    "## Referencia al archivo de formato"
   ]
  },
  {
   "cell_type": "code",
   "execution_count": 6,
   "metadata": {},
   "outputs": [
    {
     "name": "stdout",
     "output_type": "stream",
     "text": [
      "Overwriting index.html\n"
     ]
    }
   ],
   "source": [
    "%%writefile index.html\n",
    "\n",
    "<!DOCTYPE html>\n",
    "<html lang=\"en\">\n",
    "  <head>\n",
    "    <meta charset=\"utf-8\">\n",
    "    \n",
    "    <!--- vínculo al arhcivo ---->\n",
    "    <link rel=\"stylesheet\" href=\"style.css\">\n",
    "    <!--------------------------->\n",
    "    \n",
    "    <title>Estructura semantica</title>\n",
    "  </head>\n",
    "  <body>\n",
    "    <header>\n",
    "        Encabezamiento\n",
    "    </header>\n",
    "    <section>\n",
    "        <h2>Titulo 1</h1>\n",
    "        \n",
    "        <p>Lorem ipsum dolor sit amet, consectetur adipiscing elit. Fusce nibh velit, gravida \n",
    "        sed diam a, consectetur cursus felis. Duis scelerisque congue efficitur. Duis nec lacus \n",
    "        id nulla tempus commodo. Curabitur ut tincidunt mauris. Vivamus tincidunt risus augue, \n",
    "        a egestas tellus sodales vitae. Fusce vitae felis eu tortor sodales gravida. </p>\n",
    "        \n",
    "        <p>Nulla eget condimentum nulla. Fusce pretium ornare lectus eu bibendum. Donec eros mauris, \n",
    "        laoreet quis viverra id, lobortis vel dui.</p>\n",
    "    \n",
    "    </section>\n",
    "    <section>\n",
    "    \n",
    "        <h2>Listas sin numeración</h2>\n",
    "\n",
    "        <ul>     \n",
    "            <li>Uno</li>  \n",
    "            <li>Dos</li>   \n",
    "            <li>Tres</li> \n",
    "        </ul>\n",
    "    \n",
    "    </section>\n",
    "    <section>\n",
    "        \n",
    "        <h2>Listas enumeradas</h2>\n",
    "    \n",
    "        <ol> \n",
    "            <li>Uno</li>  \n",
    "            <li>Dos</li>   \n",
    "            <li>Tres</li> \n",
    "        </ol>\n",
    "    \n",
    "    </section>\n",
    "    \n",
    "    <footer>\n",
    "        Pie de página\n",
    "    </footer>\n",
    "    \n",
    "\n",
    "  </body>\n",
    "</html>"
   ]
  },
  {
   "cell_type": "markdown",
   "metadata": {},
   "source": [
    "## Cambio del estilo de los títulos y los párrafos"
   ]
  },
  {
   "cell_type": "code",
   "execution_count": 13,
   "metadata": {},
   "outputs": [
    {
     "name": "stdout",
     "output_type": "stream",
     "text": [
      "Overwriting style.css\n"
     ]
    }
   ],
   "source": [
    "%%writefile style.css\n",
    "\n",
    "/* Selecciona todos los encabezamientos <h2> */\n",
    "h2 {\n",
    "    color: darkblue;\n",
    "    font-size: 20px;\n",
    "    font-family: arial;\n",
    "}\n",
    "\n",
    "/* Selecciona todos los párrafos */\n",
    "p {\n",
    "    color: darkgray;\n",
    "}"
   ]
  },
  {
   "cell_type": "markdown",
   "metadata": {},
   "source": [
    "![css-02](../../assets/css-02.png)"
   ]
  },
  {
   "cell_type": "markdown",
   "metadata": {},
   "source": [
    "## Uso de identificadores"
   ]
  },
  {
   "cell_type": "code",
   "execution_count": 14,
   "metadata": {},
   "outputs": [
    {
     "name": "stdout",
     "output_type": "stream",
     "text": [
      "Overwriting index.html\n"
     ]
    }
   ],
   "source": [
    "%%writefile index.html\n",
    "\n",
    "<!DOCTYPE html>\n",
    "<html lang=\"en\">\n",
    "  <head>\n",
    "    <meta charset=\"utf-8\">\n",
    "    <link rel=\"stylesheet\" href=\"style.css\">\n",
    "    <title>Estructura semantica</title>\n",
    "  </head>\n",
    "  <body>\n",
    "    <header>\n",
    "        Encabezamiento\n",
    "    </header>\n",
    "    <section>\n",
    "        <!--- se agrega un identificador --->\n",
    "        <h2 id='tituloinicial'>Titulo 1</h1>\n",
    "        <!---------------------------------->\n",
    "        \n",
    "        <p>Lorem ipsum dolor sit amet, consectetur adipiscing elit. Fusce nibh velit, gravida \n",
    "        sed diam a, consectetur cursus felis. Duis scelerisque congue efficitur. Duis nec lacus \n",
    "        id nulla tempus commodo. Curabitur ut tincidunt mauris. Vivamus tincidunt risus augue, \n",
    "        a egestas tellus sodales vitae. Fusce vitae felis eu tortor sodales gravida. </p>\n",
    "        \n",
    "        <p>Nulla eget condimentum nulla. Fusce pretium ornare lectus eu bibendum. Donec eros mauris, \n",
    "        laoreet quis viverra id, lobortis vel dui.</p>\n",
    "    \n",
    "    </section>\n",
    "    <section>\n",
    "    \n",
    "        <h2>Listas sin numeración</h2>\n",
    "\n",
    "        <ul>     \n",
    "            <li>Uno</li>  \n",
    "            <li>Dos</li>   \n",
    "            <li>Tres</li> \n",
    "        </ul>\n",
    "    \n",
    "    </section>\n",
    "    <section>\n",
    "        \n",
    "        <h2>Listas enumeradas</h2>\n",
    "    \n",
    "        <ol> \n",
    "            <li>Uno</li>  \n",
    "            <li>Dos</li>   \n",
    "            <li>Tres</li> \n",
    "        </ol>\n",
    "    \n",
    "    </section>\n",
    "    \n",
    "    <footer>\n",
    "        Pie de página\n",
    "    </footer>\n",
    "    \n",
    "\n",
    "  </body>\n",
    "</html>"
   ]
  },
  {
   "cell_type": "code",
   "execution_count": 15,
   "metadata": {},
   "outputs": [
    {
     "name": "stdout",
     "output_type": "stream",
     "text": [
      "Overwriting style.css\n"
     ]
    }
   ],
   "source": [
    "%%writefile style.css\n",
    "\n",
    "/* Selecciona todos los encabezamientos <h2> */\n",
    "h2 {\n",
    "    color: darkblue;\n",
    "    font-size: 20px;\n",
    "    font-family: arial;\n",
    "}\n",
    "\n",
    "/* Selecciona todos los párrafos */\n",
    "p {\n",
    "    color: darkgray;\n",
    "}\n",
    "\n",
    "#tituloinicial {\n",
    "    background: gray;\n",
    "}"
   ]
  },
  {
   "cell_type": "markdown",
   "metadata": {},
   "source": [
    "![css-02](../../assets/css-03.png)"
   ]
  },
  {
   "cell_type": "markdown",
   "metadata": {},
   "source": [
    "**Ejercicio.---** Describa el significado de las propiedades que aparecen en el siguiente archivo y presente ejemplos."
   ]
  },
  {
   "cell_type": "code",
   "execution_count": null,
   "metadata": {},
   "outputs": [],
   "source": [
    "%%writefile style.css\n",
    "\n",
    "/* http://meyerweb.com/eric/tools/css/reset/ 2. v2.0 | 20110126\n",
    "  License: none (public domain)\n",
    "*/\n",
    "\n",
    "html, body, div, span, applet, object, iframe,\n",
    "h1, h2, h3, h4, h5, h6, p, blockquote, pre,\n",
    "a, abbr, acronym, address, big, cite, code,\n",
    "del, dfn, em, img, ins, kbd, q, s, samp,\n",
    "small, strike, strong, sub, sup, tt, var,\n",
    "b, u, i, center,\n",
    "dl, dt, dd, ol, ul, li,\n",
    "fieldset, form, label, legend,\n",
    "table, caption, tbody, tfoot, thead, tr, th, td,\n",
    "article, aside, canvas, details, embed,\n",
    "figure, figcaption, footer, header, hgroup,\n",
    "menu, nav, output, ruby, section, summary,\n",
    "time, mark, audio, video {\n",
    "  margin: 0;\n",
    "  padding: 0;\n",
    "  border: 0;\n",
    "  font-size: 100%;\n",
    "  font: inherit;\n",
    "  vertical-align: baseline;\n",
    "}\n",
    "/* HTML5 display-role reset for older browsers */\n",
    "article, aside, details, figcaption, figure,\n",
    "footer, header, hgroup, menu, nav, section {\n",
    "  display: block;\n",
    "}\n",
    "body {\n",
    "  line-height: 1;\n",
    "}\n",
    "ol, ul {\n",
    "  list-style: none;\n",
    "}\n",
    "blockquote, q {\n",
    "  quotes: none;\n",
    "}\n",
    "blockquote:before, blockquote:after,\n",
    "q:before, q:after {\n",
    "  content: '';\n",
    "  content: none;\n",
    "}\n",
    "table {\n",
    "  border-collapse: collapse;\n",
    "  border-spacing: 0;"
   ]
  }
 ],
 "metadata": {
  "kernel_info": {
   "name": "python3"
  },
  "kernelspec": {
   "display_name": "Python 3",
   "language": "python",
   "name": "python3"
  },
  "language_info": {
   "codemirror_mode": {
    "name": "ipython",
    "version": 3
   },
   "file_extension": ".py",
   "mimetype": "text/x-python",
   "name": "python",
   "nbconvert_exporter": "python",
   "pygments_lexer": "ipython3",
   "version": "3.6.9"
  },
  "nteract": {
   "version": "0.7.1"
  }
 },
 "nbformat": 4,
 "nbformat_minor": 4
}
