{
 "cells": [
  {
   "cell_type": "markdown",
   "metadata": {},
   "source": [
    "Formato de una página web usando CSS\n",
    "===\n",
    "\n",
    "* *60 min* | Última modificación: Mayo 14, 2022."
   ]
  },
  {
   "cell_type": "markdown",
   "metadata": {},
   "source": [
    "Página web sin formato\n",
    "---"
   ]
  },
  {
   "cell_type": "markdown",
   "metadata": {},
   "source": [
    "**index.html**"
   ]
  },
  {
   "cell_type": "markdown",
   "metadata": {},
   "source": [
    "```html\n",
    "<!DOCTYPE html>\n",
    "<html lang=\"en\">\n",
    "  <head>\n",
    "    <meta charset=\"utf-8\">\n",
    "    <title>Estructura semantica</title>\n",
    "  </head>\n",
    "  <body>\n",
    "    <header>\n",
    "        Encabezamiento\n",
    "    </header>\n",
    "    <section>\n",
    "        <h2>Titulo 1</h1>\n",
    "        \n",
    "        <p>Lorem ipsum dolor sit amet, consectetur adipiscing elit. Fusce nibh velit, gravida \n",
    "        sed diam a, consectetur cursus felis. Duis scelerisque congue efficitur. Duis nec lacus \n",
    "        id nulla tempus commodo. Curabitur ut tincidunt mauris. Vivamus tincidunt risus augue, \n",
    "        a egestas tellus sodales vitae. Fusce vitae felis eu tortor sodales gravida. </p>\n",
    "        \n",
    "        <p>Nulla eget condimentum nulla. Fusce pretium ornare lectus eu bibendum. Donec eros mauris, \n",
    "        laoreet quis viverra id, lobortis vel dui.</p>\n",
    "    \n",
    "    </section>\n",
    "    <section>\n",
    "    \n",
    "        <h2>Listas sin numeración</h2>\n",
    "\n",
    "        <ul>     \n",
    "            <li>Uno</li>  \n",
    "            <li>Dos</li>   \n",
    "            <li>Tres</li> \n",
    "        </ul>\n",
    "    \n",
    "    </section>\n",
    "    <section>\n",
    "        \n",
    "        <h2>Listas enumeradas</h2>\n",
    "    \n",
    "        <ol> \n",
    "            <li>Uno</li>  \n",
    "            <li>Dos</li>   \n",
    "            <li>Tres</li> \n",
    "        </ol>\n",
    "    \n",
    "    </section>\n",
    "    \n",
    "    <footer>\n",
    "        Pie de página\n",
    "    </footer>\n",
    "    \n",
    "\n",
    "  </body>\n",
    "</html>\n",
    "```"
   ]
  },
  {
   "cell_type": "markdown",
   "metadata": {},
   "source": [
    "![html-04](../../assets/css-01.png)"
   ]
  },
  {
   "cell_type": "markdown",
   "metadata": {},
   "source": [
    "Referencia al archivo de formato\n",
    "---"
   ]
  },
  {
   "cell_type": "markdown",
   "metadata": {},
   "source": [
    "**index.html**"
   ]
  },
  {
   "cell_type": "markdown",
   "metadata": {},
   "source": [
    "```html\n",
    "<!DOCTYPE html>\n",
    "<html lang=\"en\">\n",
    "  <head>\n",
    "    <meta charset=\"utf-8\">\n",
    "    \n",
    "    <!--- vínculo al arhcivo ---->\n",
    "    <link rel=\"stylesheet\" href=\"style.css\">\n",
    "    <!--------------------------->\n",
    "    \n",
    "    <title>Estructura semantica</title>\n",
    "  </head>\n",
    "  <body>\n",
    "    <header>\n",
    "        Encabezamiento\n",
    "    </header>\n",
    "    <section>\n",
    "        <h2>Titulo 1</h1>\n",
    "        \n",
    "        <p>Lorem ipsum dolor sit amet, consectetur adipiscing elit. Fusce nibh velit, gravida \n",
    "        sed diam a, consectetur cursus felis. Duis scelerisque congue efficitur. Duis nec lacus \n",
    "        id nulla tempus commodo. Curabitur ut tincidunt mauris. Vivamus tincidunt risus augue, \n",
    "        a egestas tellus sodales vitae. Fusce vitae felis eu tortor sodales gravida. </p>\n",
    "        \n",
    "        <p>Nulla eget condimentum nulla. Fusce pretium ornare lectus eu bibendum. Donec eros mauris, \n",
    "        laoreet quis viverra id, lobortis vel dui.</p>\n",
    "    \n",
    "    </section>\n",
    "    <section>\n",
    "    \n",
    "        <h2>Listas sin numeración</h2>\n",
    "\n",
    "        <ul>     \n",
    "            <li>Uno</li>  \n",
    "            <li>Dos</li>   \n",
    "            <li>Tres</li> \n",
    "        </ul>\n",
    "    \n",
    "    </section>\n",
    "    <section>\n",
    "        \n",
    "        <h2>Listas enumeradas</h2>\n",
    "    \n",
    "        <ol> \n",
    "            <li>Uno</li>  \n",
    "            <li>Dos</li>   \n",
    "            <li>Tres</li> \n",
    "        </ol>\n",
    "    \n",
    "    </section>\n",
    "    \n",
    "    <footer>\n",
    "        Pie de página\n",
    "    </footer>\n",
    "    \n",
    "  </body>\n",
    "</html>\n",
    "```"
   ]
  },
  {
   "cell_type": "markdown",
   "metadata": {},
   "source": [
    "Cambio del estilo de los títulos y los párrafos\n",
    "---"
   ]
  },
  {
   "cell_type": "markdown",
   "metadata": {},
   "source": [
    "**style.css**"
   ]
  },
  {
   "cell_type": "markdown",
   "metadata": {},
   "source": [
    "```css\n",
    "/* Selecciona todos los encabezamientos <h2> */\n",
    "h2 {\n",
    "    color: darkblue;\n",
    "    font-size: 20px;\n",
    "    font-family: arial;\n",
    "}\n",
    "\n",
    "/* Selecciona todos los párrafos */\n",
    "p {\n",
    "    color: darkgray;\n",
    "}\n",
    "```"
   ]
  },
  {
   "cell_type": "markdown",
   "metadata": {},
   "source": [
    "![css-02](../../assets/css-02.png)"
   ]
  },
  {
   "cell_type": "markdown",
   "metadata": {},
   "source": [
    "Uso de identificadores\n",
    "--"
   ]
  },
  {
   "cell_type": "markdown",
   "metadata": {},
   "source": [
    "**index.html**"
   ]
  },
  {
   "cell_type": "markdown",
   "metadata": {},
   "source": [
    "```html\n",
    "<!DOCTYPE html>\n",
    "<html lang=\"en\">\n",
    "  <head>\n",
    "    <meta charset=\"utf-8\">\n",
    "    <link rel=\"stylesheet\" href=\"style.css\">\n",
    "    <title>Estructura semantica</title>\n",
    "  </head>\n",
    "  <body>\n",
    "    <header>\n",
    "        Encabezamiento\n",
    "    </header>\n",
    "    <section>\n",
    "        <!--- se agrega un identificador --->\n",
    "        <h2 id='tituloinicial'>Titulo 1</h1>\n",
    "        <!---------------------------------->\n",
    "        \n",
    "        <p>Lorem ipsum dolor sit amet, consectetur adipiscing elit. Fusce nibh velit, gravida \n",
    "        sed diam a, consectetur cursus felis. Duis scelerisque congue efficitur. Duis nec lacus \n",
    "        id nulla tempus commodo. Curabitur ut tincidunt mauris. Vivamus tincidunt risus augue, \n",
    "        a egestas tellus sodales vitae. Fusce vitae felis eu tortor sodales gravida. </p>\n",
    "        \n",
    "        <p>Nulla eget condimentum nulla. Fusce pretium ornare lectus eu bibendum. Donec eros mauris, \n",
    "        laoreet quis viverra id, lobortis vel dui.</p>\n",
    "    \n",
    "    </section>\n",
    "    <section>\n",
    "    \n",
    "        <h2>Listas sin numeración</h2>\n",
    "\n",
    "        <ul>     \n",
    "            <li>Uno</li>  \n",
    "            <li>Dos</li>   \n",
    "            <li>Tres</li> \n",
    "        </ul>\n",
    "    \n",
    "    </section>\n",
    "    <section>\n",
    "        \n",
    "        <h2>Listas enumeradas</h2>\n",
    "    \n",
    "        <ol> \n",
    "            <li>Uno</li>  \n",
    "            <li>Dos</li>   \n",
    "            <li>Tres</li> \n",
    "        </ol>\n",
    "    \n",
    "    </section>\n",
    "    \n",
    "    <footer>\n",
    "        Pie de página\n",
    "    </footer>\n",
    "    \n",
    "\n",
    "  </body>\n",
    "</html>\n",
    "```"
   ]
  },
  {
   "cell_type": "markdown",
   "metadata": {},
   "source": [
    "**style.css**"
   ]
  },
  {
   "cell_type": "markdown",
   "metadata": {},
   "source": [
    "```css\n",
    "/* Selecciona todos los encabezamientos <h2> */\n",
    "h2 {\n",
    "    color: darkblue;\n",
    "    font-size: 20px;\n",
    "    font-family: arial;\n",
    "}\n",
    "\n",
    "/* Selecciona todos los párrafos */\n",
    "p {\n",
    "    color: darkgray;\n",
    "}\n",
    "\n",
    "#tituloinicial {\n",
    "    background: gray;\n",
    "}\n",
    "```"
   ]
  },
  {
   "cell_type": "markdown",
   "metadata": {},
   "source": [
    "![css-02](../../assets/css-03.png)"
   ]
  }
 ],
 "metadata": {
  "kernel_info": {
   "name": "python3"
  },
  "kernelspec": {
   "display_name": "Python 3",
   "language": "python",
   "name": "python3"
  },
  "language_info": {
   "codemirror_mode": {
    "name": "ipython",
    "version": 3
   },
   "file_extension": ".py",
   "mimetype": "text/x-python",
   "name": "python",
   "nbconvert_exporter": "python",
   "pygments_lexer": "ipython3",
   "version": "3.6.9"
  },
  "nteract": {
   "version": "0.7.1"
  }
 },
 "nbformat": 4,
 "nbformat_minor": 4
}
