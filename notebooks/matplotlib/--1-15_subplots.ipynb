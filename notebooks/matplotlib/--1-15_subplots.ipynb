{
 "cells": [
  {
   "cell_type": "markdown",
   "id": "4a4275e2-c930-4c46-8cf6-666ef7d06e87",
   "metadata": {
    "tags": []
   },
   "source": [
    "Subgráficas\n",
    "===\n",
    "\n",
    "* 0:00 min | Última modificación: Octubre 6, 2021 | [YouTube]"
   ]
  },
  {
   "cell_type": "markdown",
   "id": "cfcf060a-0914-4d1c-8056-5337cdc4c951",
   "metadata": {},
   "source": [
    "https://matplotlib.org/stable/gallery/axes_grid1/scatter_hist_locatable_axes.html#sphx-glr-gallery-axes-grid1-scatter-hist-locatable-axes-py"
   ]
  },
  {
   "cell_type": "code",
   "execution_count": 1,
   "id": "8f83f607-3cf3-4ba1-8f72-bca7582ec0af",
   "metadata": {},
   "outputs": [
    {
     "data": {
      "image/png": "[encoded data removed]",
      "text/plain": [
       "<Figure size 396x396 with 3 Axes>"
      ]
     },
     "metadata": {
      "needs_background": "light"
     },
     "output_type": "display_data"
    }
   ],
   "source": [
    "import matplotlib.pyplot as plt\n",
    "import numpy as np\n",
    "from mpl_toolkits.axes_grid1 import make_axes_locatable\n",
    "\n",
    "np.random.seed(19680801)\n",
    "\n",
    "# the random data\n",
    "x = np.random.randn(1000)\n",
    "y = np.random.randn(1000)\n",
    "\n",
    "\n",
    "fig, ax = plt.subplots(figsize=(5.5, 5.5))\n",
    "\n",
    "\n",
    "ax.scatter(x, y)\n",
    "\n",
    "\n",
    "ax.set_aspect(1.0)\n",
    "\n",
    "divider = make_axes_locatable(ax)\n",
    "\n",
    "ax_histx = divider.append_axes(\"top\", 1.2, pad=0.1, sharex=ax)\n",
    "ax_histy = divider.append_axes(\"right\", 1.2, pad=0.1, sharey=ax)\n",
    "\n",
    "ax_histx.xaxis.set_tick_params(labelbottom=False)\n",
    "ax_histy.yaxis.set_tick_params(labelleft=False)\n",
    "\n",
    "binwidth = 0.25\n",
    "xymax = max(np.max(np.abs(x)), np.max(np.abs(y)))\n",
    "lim = (int(xymax / binwidth) + 1) * binwidth\n",
    "\n",
    "bins = np.arange(-lim, lim + binwidth, binwidth)\n",
    "ax_histx.hist(x, bins=bins)\n",
    "ax_histy.hist(y, bins=bins, orientation=\"horizontal\")\n",
    "\n",
    "\n",
    "ax_histx.set_yticks([0, 50, 100])\n",
    "ax_histy.set_xticks([0, 50, 100])\n",
    "\n",
    "plt.show()"
   ]
  }
 ],
 "metadata": {
  "kernelspec": {
   "display_name": "Python 3",
   "language": "python",
   "name": "python3"
  },
  "language_info": {
   "codemirror_mode": {
    "name": "ipython",
    "version": 3
   },
   "file_extension": ".py",
   "mimetype": "text/x-python",
   "name": "python",
   "nbconvert_exporter": "python",
   "pygments_lexer": "ipython3",
   "version": "3.6.9"
  }
 },
 "nbformat": 4,
 "nbformat_minor": 5
}
