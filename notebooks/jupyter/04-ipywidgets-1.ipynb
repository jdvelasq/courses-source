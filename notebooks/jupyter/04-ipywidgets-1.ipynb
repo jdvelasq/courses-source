{
 "cells": [
  {
   "cell_type": "markdown",
   "metadata": {},
   "source": [
    "Controles interactivos en Jupyter Lab\n",
    "===\n",
    "\n",
    "* *60 min* | Última modificación: Julio 31, 2020."
   ]
  },
  {
   "cell_type": "code",
   "execution_count": 1,
   "metadata": {},
   "outputs": [],
   "source": [
    "# !pip3 install -U -q ipywidgets"
   ]
  },
  {
   "cell_type": "code",
   "execution_count": 2,
   "metadata": {},
   "outputs": [],
   "source": [
    "# from __future__ import print_function\n",
    "from ipywidgets import interact, interactive\n",
    "import ipywidgets as widgets\n",
    "\n",
    "import numpy as np\n",
    "import matplotlib.pyplot as plt\n",
    "import matplotlib as mpl\n",
    "%matplotlib inline"
   ]
  },
  {
   "cell_type": "markdown",
   "metadata": {},
   "source": [
    "# interact "
   ]
  },
  {
   "cell_type": "code",
   "execution_count": 3,
   "metadata": {},
   "outputs": [
    {
     "data": {
      "application/vnd.jupyter.widget-view+json": {
       "model_id": "2577af346d0842f3b07c6ac2ddf37bba",
       "version_major": 2,
       "version_minor": 0
      },
      "text/plain": [
       "interactive(children=(IntSlider(value=5, description='n', max=15, min=5), RadioButtons(description='Color:', o…"
      ]
     },
     "metadata": {},
     "output_type": "display_data"
    }
   ],
   "source": [
    "##\n",
    "## Ejemplo 1\n",
    "##\n",
    "\n",
    "#\n",
    "# Define la función \n",
    "#\n",
    "def f(n, color):\n",
    "    x = np.random.uniform(0, 1, n)\n",
    "    plt.bar(range(n), x, color=color)\n",
    "    plt.show()\n",
    "\n",
    "#\n",
    "# interact recibe la función f y sus \n",
    "# argumentos n y color\n",
    "#\n",
    "interact(\n",
    "    f,\n",
    "    n=widgets.IntSlider(min=5, max=15, step=1, value=5),\n",
    "    color=widgets.RadioButtons(description=\"Color:\", options=[\"blue\", \"gray\", \"red\"]),\n",
    ");"
   ]
  },
  {
   "cell_type": "code",
   "execution_count": 4,
   "metadata": {},
   "outputs": [
    {
     "data": {
      "application/vnd.jupyter.widget-view+json": {
       "model_id": "3db8fc0c3d2f4ac6ac89e6d1731457ca",
       "version_major": 2,
       "version_minor": 0
      },
      "text/plain": [
       "interactive(children=(IntSlider(value=10, description='n', max=30, min=-10), Dropdown(description='color', opt…"
      ]
     },
     "metadata": {},
     "output_type": "display_data"
    }
   ],
   "source": [
    "##\n",
    "## Ejemplo 2\n",
    "##\n",
    "\n",
    "#\n",
    "# interact genera automaticamente los controles \n",
    "# a partir del tipo de dato que se pase en el\n",
    "# decorador.\n",
    "#\n",
    "# Note que explicitamente no se llama a la \n",
    "# función f\n",
    "#\n",
    "@interact(n=10, color=[\"blue\", \"gray\", \"red\"])\n",
    "def f(n, color):\n",
    "    x = np.random.uniform(0, 1, n)\n",
    "    plt.bar(range(n), x, color=color)\n",
    "    plt.show()\n"
   ]
  },
  {
   "cell_type": "code",
   "execution_count": 5,
   "metadata": {},
   "outputs": [
    {
     "data": {
      "application/vnd.jupyter.widget-view+json": {
       "model_id": "a58ba560c7f644babe29729af22b5baa",
       "version_major": 2,
       "version_minor": 0
      },
      "text/plain": [
       "interactive(children=(IntSlider(value=50, description='n', max=500, min=1, step=10), Output()), _dom_classes=(…"
      ]
     },
     "metadata": {},
     "output_type": "display_data"
    },
    {
     "data": {
      "text/plain": [
       "<function __main__.f(n)>"
      ]
     },
     "execution_count": 5,
     "metadata": {},
     "output_type": "execute_result"
    }
   ],
   "source": [
    "##\n",
    "## Ejemplo 3\n",
    "##\n",
    "def f(n):\n",
    "    x = np.random.uniform(0, 1, n)\n",
    "    y = np.random.uniform(0, 1, n)\n",
    "    plt.scatter(x, y, color=\"0\")\n",
    "    plt.show()\n",
    "\n",
    "\n",
    "interact(f, n=widgets.IntSlider(min=1, max=500, step=10, value=50));"
   ]
  },
  {
   "cell_type": "markdown",
   "metadata": {},
   "source": [
    "## interactive"
   ]
  },
  {
   "cell_type": "markdown",
   "metadata": {},
   "source": [
    "Esta función devuelve un control que puede ser almacenado en una variable y reutilizado en el programa. Para usarlos controles es necesario importar la función `display`."
   ]
  },
  {
   "cell_type": "code",
   "execution_count": 6,
   "metadata": {},
   "outputs": [
    {
     "data": {
      "application/vnd.jupyter.widget-view+json": {
       "model_id": "70c76782be614aea995145952cbd002d",
       "version_major": 2,
       "version_minor": 0
      },
      "text/plain": [
       "interactive(children=(IntSlider(value=10, description='n', max=30, min=-10), Output()), _dom_classes=('widget-…"
      ]
     },
     "metadata": {},
     "output_type": "display_data"
    }
   ],
   "source": [
    "##\n",
    "## Ejemplo 4\n",
    "##\n",
    "\n",
    "#\n",
    "# El objecto se almacena en la variable\n",
    "#\n",
    "w = interactive(f, n=10) \n",
    "\n",
    "#\n",
    "# Se visualiza el control\n",
    "#\n",
    "display(w)"
   ]
  },
  {
   "cell_type": "code",
   "execution_count": 7,
   "metadata": {},
   "outputs": [
    {
     "data": {
      "text/plain": [
       "{'n': 10}"
      ]
     },
     "execution_count": 7,
     "metadata": {},
     "output_type": "execute_result"
    }
   ],
   "source": [
    "#\n",
    "# Se recuperan los valores del control como un diccionario\n",
    "#\n",
    "w.kwargs"
   ]
  },
  {
   "cell_type": "markdown",
   "metadata": {},
   "source": [
    "## Listado completo de widgets"
   ]
  },
  {
   "cell_type": "markdown",
   "metadata": {},
   "source": [
    "La documentación está disponible en https://ipywidgets.readthedocs.io/en/latest/#"
   ]
  },
  {
   "cell_type": "code",
   "execution_count": 8,
   "metadata": {},
   "outputs": [
    {
     "data": {
      "application/vnd.jupyter.widget-view+json": {
       "model_id": "7839c1bfd05f40fd8e713b794aeb66f0",
       "version_major": 2,
       "version_minor": 0
      },
      "text/plain": [
       "RadioButtons(description='Pizza topping:', options=('pepperoni', 'pineapple', 'anchovies'), value='pepperoni')"
      ]
     },
     "metadata": {},
     "output_type": "display_data"
    }
   ],
   "source": [
    "#\n",
    "# algunos ejemplos del manual\n",
    "#\n",
    "widgets.RadioButtons(\n",
    "    description='Pizza topping:',\n",
    "    options=['pepperoni', 'pineapple', 'anchovies'],\n",
    ")"
   ]
  },
  {
   "cell_type": "code",
   "execution_count": 9,
   "metadata": {},
   "outputs": [
    {
     "data": {
      "application/vnd.jupyter.widget-view+json": {
       "model_id": "672a028192d5401fa3f1fafed2494976",
       "version_major": 2,
       "version_minor": 0
      },
      "text/plain": [
       "Select(description='OS:', options=('Linux', 'Windows', 'OSX'), value='Linux')"
      ]
     },
     "metadata": {},
     "output_type": "display_data"
    }
   ],
   "source": [
    "widgets.Select(\n",
    "    description='OS:',\n",
    "    options=['Linux', 'Windows', 'OSX'],\n",
    ")"
   ]
  },
  {
   "cell_type": "code",
   "execution_count": 10,
   "metadata": {},
   "outputs": [
    {
     "data": {
      "application/vnd.jupyter.widget-view+json": {
       "model_id": "08a75a04b6584e22be6bc85f77254c67",
       "version_major": 2,
       "version_minor": 0
      },
      "text/plain": [
       "ToggleButtons(description='Speed:', options=('Slow', 'Regular', 'Fast'), value='Slow')"
      ]
     },
     "metadata": {},
     "output_type": "display_data"
    }
   ],
   "source": [
    "widgets.ToggleButtons(\n",
    "    description='Speed:',\n",
    "    options=['Slow', 'Regular', 'Fast'],\n",
    ")"
   ]
  },
  {
   "cell_type": "code",
   "execution_count": 11,
   "metadata": {},
   "outputs": [
    {
     "data": {
      "application/vnd.jupyter.widget-view+json": {
       "model_id": "273445e118a7418da8ef2755edab0ce7",
       "version_major": 2,
       "version_minor": 0
      },
      "text/plain": [
       "Button(description='Click me', style=ButtonStyle())"
      ]
     },
     "metadata": {},
     "output_type": "display_data"
    }
   ],
   "source": [
    "widgets.Button(description='Click me')"
   ]
  },
  {
   "cell_type": "markdown",
   "metadata": {},
   "source": [
    "## Ejemplo"
   ]
  },
  {
   "cell_type": "code",
   "execution_count": 13,
   "metadata": {
    "extensions": {
     "jupyter_dashboards": {
      "version": 1,
      "views": {
       "grid_default": {
        "hidden": true
       },
       "report_default": {}
      }
     }
    }
   },
   "outputs": [
    {
     "data": {
      "application/vnd.jupyter.widget-view+json": {
       "model_id": "105830551ea9406c94b883b721851dbd",
       "version_major": 2,
       "version_minor": 0
      },
      "text/plain": [
       "interactive(children=(Dropdown(description='Color F1:', options=('black', 'red', 'blue'), value='black'), Outp…"
      ]
     },
     "metadata": {},
     "output_type": "display_data"
    },
    {
     "data": {
      "application/vnd.jupyter.widget-view+json": {
       "model_id": "5d31f1225517494d9f0be745b50eacd7",
       "version_major": 2,
       "version_minor": 0
      },
      "text/plain": [
       "interactive(children=(Dropdown(description='Color F2:', options=('black', 'red', 'blue'), value='black'), Outp…"
      ]
     },
     "metadata": {},
     "output_type": "display_data"
    }
   ],
   "source": [
    "#\n",
    "# Puntos de datos\n",
    "#\n",
    "x = np.linspace(0, 2 * 3.1416, 50, endpoint=True)\n",
    "y1 = np.sin(x)\n",
    "y2 = np.cos(x)\n",
    "\n",
    "#\n",
    "# Define las funciones\n",
    "# Note que solo reciben como parámetro el color\n",
    "#\n",
    "def f1(color):\n",
    "    plt.plot(x, y1, color=color)\n",
    "    plt.show()\n",
    "\n",
    "\n",
    "def f2(color):\n",
    "    plt.plot(x, y2, color=color)\n",
    "    plt.show()\n",
    "\n",
    "\n",
    "#\n",
    "# Widgets interactivos\n",
    "#\n",
    "\n",
    "interact(\n",
    "    f1,\n",
    "    color=widgets.Dropdown(\n",
    "        options=[\"black\", \"red\", \"blue\"], value=\"black\", description=\"Color F1:\",\n",
    "    ),\n",
    ")\n",
    "\n",
    "interact(\n",
    "    f2,\n",
    "    color=widgets.Dropdown(\n",
    "        options=[\"black\", \"red\", \"blue\"], value=\"black\", description=\"Color F2:\",\n",
    "    ),\n",
    ");"
   ]
  }
 ],
 "metadata": {
  "kernel_info": {
   "name": "python3"
  },
  "kernelspec": {
   "display_name": "Python 3",
   "language": "python",
   "name": "python3"
  },
  "language_info": {
   "codemirror_mode": {
    "name": "ipython",
    "version": 3
   },
   "file_extension": ".py",
   "mimetype": "text/x-python",
   "name": "python",
   "nbconvert_exporter": "python",
   "pygments_lexer": "ipython3",
   "version": "3.6.9"
  },
  "nteract": {
   "version": "0.7.1"
  },
  "widgets": {
   "state": {
    "174626e1476c4d70a3ea0373da43e31a": {
     "views": [
      {
       "cell_index": 16
      }
     ]
    },
    "384014b3b2094544b08bbc2949e5511b": {
     "views": [
      {
       "cell_index": 23
      }
     ]
    },
    "7e09d994dac54c658ee98298ee66afc8": {
     "views": [
      {
       "cell_index": 39
      }
     ]
    },
    "8cda8ebc67934821b9bd745e49f37440": {
     "views": [
      {
       "cell_index": 19
      }
     ]
    },
    "8d4a696388184002add2a60002a72aaf": {
     "views": [
      {
       "cell_index": 17
      }
     ]
    },
    "993485d54eac4648a2bd652365dfba0d": {
     "views": [
      {
       "cell_index": 38
      }
     ]
    },
    "a81c4473af954eca8ffce8ca8c5a7941": {
     "views": [
      {
       "cell_index": 20
      }
     ]
    },
    "af57280b2d404a259367327f41f4c3ad": {
     "views": [
      {
       "cell_index": 15
      }
     ]
    },
    "c640c841033c4792aae0ff5188726bbd": {
     "views": [
      {
       "cell_index": 30
      }
     ]
    },
    "d2260f3adcfe48c8a3ec7516904770ef": {
     "views": [
      {
       "cell_index": 37
      }
     ]
    },
    "e0b1cb40bcce45378524b2469f57f885": {
     "views": [
      {
       "cell_index": 36
      }
     ]
    },
    "e4d84df2ae77424099ed83c69a0ff50a": {
     "views": [
      {
       "cell_index": 18
      }
     ]
    }
   },
   "version": "1.2.0"
  }
 },
 "nbformat": 4,
 "nbformat_minor": 4
}
