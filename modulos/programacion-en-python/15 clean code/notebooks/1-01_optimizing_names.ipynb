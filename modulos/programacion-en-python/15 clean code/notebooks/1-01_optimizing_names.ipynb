{
 "cells": [
  {
   "cell_type": "markdown",
   "metadata": {},
   "source": [
    "Asignación de nombres\n",
    "===\n",
    "\n",
    "* Última modificación: Mayo  14, 2022 | YouTube"
   ]
  },
  {
   "cell_type": "markdown",
   "metadata": {},
   "source": [
    "Nombres de funciones\n",
    "---"
   ]
  },
  {
   "cell_type": "markdown",
   "metadata": {},
   "source": [
    "* Los nombres de las funciones deben revelar una intención.\n",
    "\n",
    "* Deben ser nombres abreviados, pero deben entenderse claramente.\n",
    "\n",
    "* Un nombre debe revelar tres conceptos clave:\n",
    "\n",
    "    * Por qué existe?\n",
    "    \n",
    "    * Qué hace?\n",
    "    \n",
    "    * Cómo debe ser usada?"
   ]
  },
  {
   "cell_type": "code",
   "execution_count": null,
   "metadata": {},
   "outputs": [],
   "source": [
    "# ---< Mal >-------------------------------------------------------------------\n",
    "df = pd.read_csv(\"data.csv\")\n",
    "\n",
    "# ---< Bien >------------------------------------------------------------------\n",
    "request_types = pd.read.csv(\"data.csv\")"
   ]
  },
  {
   "cell_type": "code",
   "execution_count": null,
   "metadata": {},
   "outputs": [],
   "source": [
    "# ---< Mal >-------------------------------------------------------------------\n",
    "#\n",
    "#  * Qué datos contiene el dataframe?\n",
    "#  * Qué es la 6a columna?\n",
    "#  * Por qué es usada la 6a columna?\n",
    "#  * Por qué se sobre escribe el dataframe?\n",
    "#\n",
    "def get_data(path):\n",
    "    df = pd.read_csv(path)\n",
    "    df = df.groupby(df.columns[6]).sum()[df.columns[-1]]\n",
    "    return df\n",
    "\n",
    "\n",
    "res = get_data(\"house_prices.csv\")\n",
    "\n",
    "\n",
    "# ---< Bien >------------------------------------------------------------------\n",
    "def get_house_prices_by_age(filepath=None):\n",
    "    house_prices_dataframe = pd.read_csv(filepath)\n",
    "    house_prices_sum_by_age = house_prices_dataframe.groupby(\"AGE\").sum()\n",
    "    house_median_value_sum_by_age = house_prices_sum_by_age[\"MEDV\"]\n",
    "    return house_median_value_sum_by_age\n",
    "\n",
    "\n",
    "house_median_value_sum_by_age = get_house_prices_by_age(filepath=\"house_prices.csv\")\n",
    "house_median_value_sum_by_age.shape"
   ]
  },
  {
   "cell_type": "markdown",
   "metadata": {},
   "source": [
    "Malas etiquetas\n",
    "---"
   ]
  },
  {
   "cell_type": "code",
   "execution_count": null,
   "metadata": {},
   "outputs": [],
   "source": [
    "#\n",
    "# No deben ser nombres excesivamente largos.\n",
    "# No deben ser nombres parecidos con otros ya usados en el código\n",
    "#\n",
    "evaluated_data_with_map_global_metrics = None\n",
    "evaluated_data_with_mrr_global_metrics = None\n",
    "\n",
    "#\n",
    "# Las diferencias entre nombres deben estar lo más cerca posible\n",
    "# del inicio de la palabra\n",
    "#\n",
    "map_evaluated_data_metrics = None\n",
    "mrr_evaluated_data_metrics = None\n",
    "\n",
    "#\n",
    "# Se deben usar fuentes que permitan diferenciar correctamente\n",
    "# los caracteres\n",
    "#\n",
    "ml_pipeline = None\n",
    "m1_pipeline = None\n",
    "\n",
    "features_01\n",
    "features_O1"
   ]
  },
  {
   "cell_type": "markdown",
   "metadata": {},
   "source": [
    "Nombres ruidosos\n",
    "---"
   ]
  },
  {
   "cell_type": "code",
   "execution_count": null,
   "metadata": {},
   "outputs": [],
   "source": [
    "# ---< Mal >-------------------------------------------------------------------\n",
    "def lower_case_column_names(columns1):\n",
    "    columns2 = [str.lower(column) for column in columns1]\n",
    "    return columns2\n",
    "\n",
    "\n",
    "lower_case_column_names([\"AA\", \"BB\", \"CC\"])\n",
    "\n",
    "# ---< Bien >------------------------------------------------------------------\n",
    "def lower_case_column_names(input_columns):\n",
    "    output_columns = [str.lower(column) for column in input_columns]\n",
    "    return output_columns\n",
    "\n",
    "\n",
    "lower_case_column_names([\"AA\", \"BB\", \"CC\"])"
   ]
  },
  {
   "cell_type": "markdown",
   "metadata": {
    "jp-MarkdownHeadingCollapsed": true,
    "tags": []
   },
   "source": [
    "* No use `table` en las BD ni en las variables que se refieran a tablas.\n",
    "\n",
    "    . `customers_table` vs `customers`.\n",
    "    \n",
    "* No use `dataframe` en las variables que se refieren a dataframes:\n",
    "\n",
    "    . `invoice_dataframe` vs `invoices`.\n",
    "    \n",
    "* No use prefijos como a, the, an en los nombres:\n",
    "\n",
    "    . `aModel` vs `Model`\n",
    "    \n",
    "* No use `object` en variables:\n",
    "\n",
    "    . `feature_object` vs `feature` "
   ]
  },
  {
   "cell_type": "code",
   "execution_count": null,
   "metadata": {},
   "outputs": [],
   "source": [
    "# ---< Ok >--------------------------------------------------------------------\n",
    "def transform_features(raw_features_dataframe):\n",
    "    pass\n",
    "\n",
    "\n",
    "# ---< Mejor >-----------------------------------------------------------------\n",
    "def transform_features(raw_features: DataFrame):\n",
    "    pass"
   ]
  },
  {
   "cell_type": "code",
   "execution_count": null,
   "metadata": {},
   "outputs": [],
   "source": [
    "#\n",
    "# Cuál es la diferencia entre las siguientes funciones:\n",
    "#\n",
    "def get_model_info():\n",
    "    pass\n",
    "\n",
    "\n",
    "def get_model_details():\n",
    "    pass\n",
    "\n",
    "\n",
    "def get_model_information():\n",
    "    pass"
   ]
  },
  {
   "cell_type": "markdown",
   "metadata": {},
   "source": [
    "Verbalice los nombres\n",
    "---"
   ]
  },
  {
   "cell_type": "code",
   "execution_count": null,
   "metadata": {},
   "outputs": [],
   "source": [
    "# ---< Mal >-------------------------------------------------------------------\n",
    "class FTran6:\n",
    "    def __init__(self, i_fs, fs_s, t_strt):\n",
    "        self.i_fs = i_fs\n",
    "        self.fs_s = fs_s\n",
    "        self.t_strt = t_strt\n",
    "\n",
    "\n",
    "# ---< Bien >------------------------------------------------------------------\n",
    "class FeatureTransformer:\n",
    "    def __init__(\n",
    "        self,\n",
    "        input_features,\n",
    "        features_schema,\n",
    "        transformer_strategy,\n",
    "    ):\n",
    "        self.input_features = input_features\n",
    "        self.features_schema = features_schema\n",
    "        self.transformer_strategy = transformer_strategy"
   ]
  },
  {
   "cell_type": "markdown",
   "metadata": {},
   "source": [
    "Números mágicos\n",
    "---"
   ]
  },
  {
   "cell_type": "code",
   "execution_count": null,
   "metadata": {},
   "outputs": [],
   "source": [
    "# ---< Mal >-------------------------------------------------------------------\n",
    "generate_embeddings(input_features, 30)\n",
    "\n",
    "for i in range(30):\n",
    "    pass\n",
    "\n",
    "query = \"SELECT .... GROUP BY 1, 5 ORDER BY 7\"\n",
    "\n",
    "# ---< Bien >------------------------------------------------------------------\n",
    "embedding_max_size = 30\n",
    "generate_embeddings(input_features, embedding_max_size)\n",
    "\n",
    "num_days_in_year = 365\n",
    "for i in range(num_weeks_in_year):\n",
    "    pass\n",
    "\n",
    "query = \"SELECT .... GROUP BY age, income ORDER BY prediction_accuracy\""
   ]
  },
  {
   "cell_type": "markdown",
   "metadata": {},
   "source": [
    "Evite nombres no significativos\n",
    "---"
   ]
  },
  {
   "cell_type": "code",
   "execution_count": null,
   "metadata": {},
   "outputs": [],
   "source": [
    "# ---< Mal >-------------------------------------------------------------------\n",
    "f_list=('city','county','loan_amount')\n",
    "\n",
    "# 20 líneas de código después:\n",
    "for d in f_list:\n",
    "    k = transform(f)\n",
    "    store(k)\n",
    "\n",
    "# ---< Bien >------------------------------------------------------------------\n",
    "feature_names=('city','county','loan_amount')\n",
    "\n",
    "# 20 líneas de código después\n",
    "for feature in feature_names:\n",
    "    transformed_feature_name = transform(feature)\n",
    "    store(transformed_feature_name)"
   ]
  },
  {
   "cell_type": "markdown",
   "metadata": {},
   "source": [
    "Part-of-Speech Tagging (POS tagging)\n",
    "---"
   ]
  },
  {
   "cell_type": "markdown",
   "metadata": {},
   "source": [
    "* Clases: use sustantivos que representen objetos.\n",
    "\n",
    "```python\n",
    "DataLoader\n",
    "DataValidator\n",
    "FeatureTransformer\n",
    "ModelBuilder\n",
    "ModelValidator\n",
    "ModelPusher\n",
    "```\n",
    "\n",
    "* Enumeraciones: son adjetivos.\n",
    "\n",
    "```python\n",
    "CATEGORICAL\n",
    "ORDINAL\n",
    "NUMERICAL\n",
    "RED\n",
    "SUCCESS\n",
    "```\n",
    "\n",
    "* Funciones: use verbos que representan acciones.\n",
    "\n",
    "```\n",
    "get_features\n",
    "train_model\n",
    "fit\n",
    "predict\n",
    "publish_metrics\n",
    "save_to_db\n",
    "```\n",
    "\n",
    "* Funciones booleanas: se representan con `is` para indicar pregunta.\n",
    "\n",
    "```\n",
    "is_trainable\n",
    "is_validated\n",
    "is_completed\n",
    "evaluation_is_ready\n",
    "metrics_are_published\n",
    "```\n",
    "\n",
    "\n",
    "* Tablas SQL: use sustantivos en plural para indicar las entidades que están almacendas en un registro.\n",
    "\n",
    "```\n",
    "accounts\n",
    "currencies\n",
    "requests\n",
    "users\n",
    "loans\n",
    "adjusted_quartery_returns\n",
    "trained_models\n",
    "artifacts\n",
    "```"
   ]
  },
  {
   "cell_type": "markdown",
   "metadata": {},
   "source": [
    "Consistencia en los nombres\n",
    "---"
   ]
  },
  {
   "cell_type": "code",
   "execution_count": null,
   "metadata": {},
   "outputs": [],
   "source": [
    "# ---< Mal >-------------------------------------------------------------------\n",
    "model.train()\n",
    "mode.optimize()\n",
    "model.fit()\n",
    "\n",
    "data.fetch()\n",
    "data.retrieve()\n",
    "data.get()\n",
    "\n",
    "# ---< Bien >------------------------------------------------------------------\n",
    "model.fit()\n",
    "model.get()"
   ]
  },
  {
   "cell_type": "markdown",
   "metadata": {},
   "source": [
    "Use nombres técnicos\n",
    "---"
   ]
  },
  {
   "cell_type": "code",
   "execution_count": null,
   "metadata": {},
   "outputs": [],
   "source": [
    "#\n",
    "# Use nombres comunes en ML y estadística que nombres especificos\n",
    "# del dominio\n",
    "#\n",
    "model.entrenar() \n",
    "model.optimizar_el_modelo()\n",
    "model.train()\n",
    "\n"
   ]
  },
  {
   "cell_type": "markdown",
   "metadata": {},
   "source": [
    "Aplique agrupamiento a los nombres\n",
    "---"
   ]
  },
  {
   "cell_type": "code",
   "execution_count": null,
   "metadata": {},
   "outputs": [],
   "source": [
    "# ---< Mal >-------------------------------------------------------------------\n",
    "class DataGenerator:\n",
    "    data_generator_name: str\n",
    "    data_generator_source: str\n",
    "    data_generator_format: str\n",
    "\n",
    "\n",
    "data_generator=DataGenerator()\n",
    "data_generator.data_generator_name\n",
    "data_generator.data_generator_source\n",
    "data_generator.data_generator_format\n",
    "\n",
    "\n",
    "# ---< Bien >------------------------------------------------------------------\n",
    "class DataGenerator:\n",
    "    name: str\n",
    "    source: str\n",
    "    format: str\n",
    "    \n",
    "    \n",
    "data_gen=DataGenerator()    \n",
    "data_gen.name\n",
    "data_gen.source\n",
    "data_gen.format"
   ]
  },
  {
   "cell_type": "markdown",
   "metadata": {},
   "source": [
    "Longitud de los nombres de acuerdo al ámbito\n",
    "---"
   ]
  },
  {
   "cell_type": "markdown",
   "metadata": {},
   "source": [
    "![assets/ambito-nombres.png](assets/ambito-nombres.png)"
   ]
  },
  {
   "cell_type": "markdown",
   "metadata": {},
   "source": [
    "Variables\n",
    "---"
   ]
  },
  {
   "cell_type": "markdown",
   "metadata": {},
   "source": [
    "La facilidad de lectura depende de la longitud del código. Mientras más pequeño el ámbito, más corto el nombre."
   ]
  },
  {
   "cell_type": "code",
   "execution_count": null,
   "metadata": {},
   "outputs": [],
   "source": [
    "#\n",
    "# Función facil de leer\n",
    "#\n",
    "def mat_mul(X, Y):\n",
    "    for i in range(len(X)):\n",
    "        for j in range(len(Y[0])):\n",
    "            for k in range(len(Y)):\n",
    "                result[i][j] += X[i][k] * Y[k][j]\n",
    "    return result"
   ]
  },
  {
   "cell_type": "code",
   "execution_count": null,
   "metadata": {},
   "outputs": [],
   "source": [
    "#\n",
    "# Función dificil de leer\n",
    "#\n",
    "def mat_mul_with_many_other_responsibilities():\n",
    "    for i in range(len(X)):\n",
    "        for j in range(len(Y[0])):\n",
    "            for k in range(len(Y)):\n",
    "                result[i][j] += X[i][k] * Y[k][j]\n",
    "    \n",
    "    # Más codigo\n",
    "    # ...\n",
    "    # Más codigo\n",
    "    # ...\n",
    "    # Más codigo\n",
    "    # ...\n",
    "    return result"
   ]
  },
  {
   "cell_type": "markdown",
   "metadata": {},
   "source": [
    "Funciones\n",
    "---"
   ]
  },
  {
   "cell_type": "markdown",
   "metadata": {},
   "source": [
    "Se tiende a aplicar reglas contrarias a las reglas usadas para los nombres de las variables. Mientras más es usada una función tiende a tener un nombre más corto. Y para funciones de ámbito muy pequeño se usan nombres largos que las auto-documenten."
   ]
  },
  {
   "cell_type": "markdown",
   "metadata": {},
   "source": [
    "Clases\n",
    "---"
   ]
  },
  {
   "cell_type": "markdown",
   "metadata": {},
   "source": [
    "* Las clases públicas que se usan a lo largo de todo el código tienen nombres cortos significativos.\n",
    "\n",
    "* Las clases privadas suelen tener nomnbres más largos y expresivos\n",
    "\n",
    "```\n",
    ".\n",
    "|___ sklearn.ensemble.forest.RandomForestClassifier\n",
    "  |\n",
    "  |___ sklearn.ensemble.forest.ForestClassifier\n",
    "    |\n",
    "    |___ sklearn.base.ClassifierMixin\n",
    "    |\n",
    "    |___ sklearn.ensemble.forest.BaseForest\n",
    "      |\n",
    "      |___ sklearn.base.MultiOutputMixin\n",
    "      |\n",
    "      |___ sklearn.ensemble.base.BaseEnsemble\n",
    "        |___ typing.Sized\n",
    "        |___ typying.Iterable\n",
    "        |___ sklearn.base.BaseEstimator\n",
    "        |___ typing.Iterator\n",
    "        |___ sklearn.base.MetaEstimatorMixin\n",
    "        \n",
    "```"
   ]
  },
  {
   "cell_type": "markdown",
   "metadata": {},
   "source": [
    "Módulos\n",
    "---"
   ]
  },
  {
   "cell_type": "markdown",
   "metadata": {},
   "source": [
    "* Agrupan clases y funciones y tienen ámbitos muy grandes.\n",
    "\n",
    "* Solo se usan con `import`.\n",
    "\n",
    "* Tienen nombres largos balanceados con los alias.\n",
    "\n",
    "\n",
    "```python\n",
    "import matplotlib.pyplot as plt\n",
    "import tensorflow as tf\n",
    "``` "
   ]
  },
  {
   "cell_type": "markdown",
   "metadata": {},
   "source": [
    "```python\n",
    "import quarterly_budget_calculator as qbc\n",
    "\n",
    "def main():\n",
    "    pbc.get_quarterly_ebitda()\n"
   ]
  },
  {
   "cell_type": "markdown",
   "metadata": {},
   "source": [
    "```python\n",
    "from numerical_feature_extraction import NumericalFeatureHasher\n",
    "\n",
    "\n",
    "def transform_numerical_feature(input_feature):\n",
    "    nfh = NumericalFeatureHasher()\n",
    "    result = nfh.transform_feature(input_feature)\n",
    "    return result\n",
    "``` "
   ]
  },
  {
   "cell_type": "code",
   "execution_count": null,
   "metadata": {},
   "outputs": [],
   "source": [
    "# ---< Mal >-------------------------------------------------------------------\n",
    "\n",
    "\n",
    "# ---< Bien >------------------------------------------------------------------"
   ]
  },
  {
   "cell_type": "code",
   "execution_count": null,
   "metadata": {},
   "outputs": [],
   "source": [
    "# ---< Mal >-------------------------------------------------------------------\n",
    "\n",
    "\n",
    "# ---< Bien >------------------------------------------------------------------"
   ]
  },
  {
   "cell_type": "code",
   "execution_count": null,
   "metadata": {},
   "outputs": [],
   "source": [
    "# ---< Mal >-------------------------------------------------------------------\n",
    "\n",
    "\n",
    "# ---< Bien >------------------------------------------------------------------"
   ]
  }
 ],
 "metadata": {
  "kernelspec": {
   "display_name": "Python 3 (ipykernel)",
   "language": "python",
   "name": "python3"
  },
  "language_info": {
   "codemirror_mode": {
    "name": "ipython",
    "version": 3
   },
   "file_extension": ".py",
   "mimetype": "text/x-python",
   "name": "python",
   "nbconvert_exporter": "python",
   "pygments_lexer": "ipython3",
   "version": "3.8.10"
  }
 },
 "nbformat": 4,
 "nbformat_minor": 4
}
