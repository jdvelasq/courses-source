{
 "cells": [
  {
   "cell_type": "markdown",
   "id": "1ad8c27f-6d79-46d0-bb82-ea84fac74f2c",
   "metadata": {},
   "source": [
    "Escritura de funciones\n",
    "===\n",
    "\n",
    "* Última modificación: Mayo  14, 2022 | YouTube"
   ]
  },
  {
   "cell_type": "markdown",
   "id": "d843de98-fa5f-4224-828c-b920affbbaf7",
   "metadata": {},
   "source": [
    "El código debe ser corto\n",
    "----"
   ]
  },
  {
   "cell_type": "code",
   "execution_count": null,
   "id": "0af42755-7d93-4714-a79d-afaacb9f6e72",
   "metadata": {},
   "outputs": [],
   "source": [
    "#\n",
    "# Cuánto tiempo requiere para entender el siguiente código que\n",
    "# extrae los conjuntos train y test de un dataset para entrenar\n",
    "# un modelo de ML?\n",
    "#\n",
    "def get_datasets(\n",
    "    use_cut_points=True,\n",
    "    use_quantiles=True,\n",
    "    extract_titles=True,\n",
    "    generate_dummies=True,\n",
    "    dummies_columns=None,\n",
    "):\n",
    "\n",
    "    application_path = pathlib.Path(__file__).parent.parent.parent.absolute()\n",
    "    train = pd.read_csv(application_path / \"katas/data/titanic/train.csv\")\n",
    "\n",
    "    test = pd.read_csv(application_path / \"katas/data/titanic/test.csv\")\n",
    "\n",
    "    if use_cut_points and not use_quantiles:\n",
    "        cut_points = [-1, 0, 5, 12, 18, 35, 60, 100]\n",
    "        label_names = [\n",
    "            \"Missing\",\n",
    "            \"Infant\",\n",
    "            \"Child\",\n",
    "            \"Teenager\",\n",
    "            \"Young Adult\",\n",
    "            \"Adult\",\n",
    "            \"Senior\",\n",
    "        ]\n",
    "\n",
    "        train[\"Age\"] = train[\"Age\"].fillna(-0.5)\n",
    "        train[\"Age_categories\"] = pd.cut(train[\"Age\"], cut_points, labels=label_names)\n",
    "        test[\"Age\"] = test[\"Age\"].fillna(-0.5)\n",
    "        test[\"Age_categories\"] = pd.cut(test[\"Age\"], cut_points, labels=label_names)\n",
    "\n",
    "    elif use_quantiles and not use_cut_points:\n",
    "        train[\"Age\"] = train.Age.fillna(train.Age.median())\n",
    "        test[\"Age\"] = test.Age.fillna(test.Age.median())\n",
    "        train[\"Age_categories\"] = pd.qcut(train.Age, q=4, labels=False)\n",
    "        test[\"Age_categories\"] = pd.qcut(test.Age, q=4, labels=False)\n",
    "\n",
    "    if extract_titles:\n",
    "        train[\"Title\"] = train.Name.apply(\n",
    "            lambda x: re.search(\" ([A-Z][a-z]+)\\.\", x).group(1)\n",
    "        )\n",
    "        test[\"Title\"] = test.Name.apply(\n",
    "            lambda x: re.search(\" ([A-Z][a-z]+)\\.\", x).group(1)\n",
    "        )\n",
    "        train[\"Title\"] = train[\"Title\"].replace(\n",
    "            {\"Mlle\": \"Miss\", \"Mme\": \"Mrs\", \"Ms\": \"Miss\"}\n",
    "        )\n",
    "\n",
    "        train[\"Title\"] = train[\"Title\"].replace(\n",
    "            [\n",
    "                \"Don\",\n",
    "                \"Dona\",\n",
    "                \"Rev\",\n",
    "                \"Dr\",\n",
    "                \"Major\",\n",
    "                \"Lady\",\n",
    "                \"Sir\",\n",
    "                \"Col\",\n",
    "                \"Capt\",\n",
    "                \"Countess\",\n",
    "                \"Jonkheer\",\n",
    "            ]\n",
    "        )\n",
    "\n",
    "        test[\"Title\"] = test[\"Title\"].replace(\n",
    "            {\"Mlle\": \"Miss\", \"Mme\": \"Mrs\", \"Ms\": \"Miss\"}\n",
    "        )\n",
    "\n",
    "    if generate_dummies and dummies_columns:\n",
    "        for column_name in dummies_columns:\n",
    "            if (\n",
    "                column_name == \"Age_categories\"\n",
    "                and not use_cut_points\n",
    "                and not use_quantiles\n",
    "            ):\n",
    "                continue\n",
    "\n",
    "            if column_name == \"Title\" and not extract_titles:\n",
    "                continue\n",
    "\n",
    "            else:\n",
    "                dummies = pd.get_dummies(train[column_name], prefix=column_name)\n",
    "                train = pd.concat([train, dummies], axis=1)\n",
    "                dummies = pd.get_dummies(test[column_name], prefix=column_name)\n",
    "                test = pd.concat([test, dummies], axis=1)\n",
    "\n",
    "    return train, test"
   ]
  },
  {
   "cell_type": "code",
   "execution_count": null,
   "id": "3dc8e67c-b855-4e20-8f28-c0505ce1b488",
   "metadata": {},
   "outputs": [],
   "source": [
    "#\n",
    "# Existen multiples variables booleanas en el código que generan\n",
    "# multiples trayectorias. Se puede refactorizar para mejorar la\n",
    "# legibilidad\n",
    "#\n",
    "def transform_df(\n",
    "    input_df,\n",
    "    use_cut_points,\n",
    "    use_quantiles,\n",
    "    extract_titles,\n",
    "    generate_dummies,\n",
    "    dummies_columns,\n",
    "):\n",
    "    df = input_df.copy()\n",
    "    df = fill_age_column(df, use_cut_points, use_quantiles)\n",
    "    df = append_age_categories(df, use_cut_points, use_quantiles)\n",
    "    df = append_titles(df, extract_titles)\n",
    "    df = append_one_hot_encoded_columns(\n",
    "        df,\n",
    "        use_cut_points,\n",
    "        use_quantiles,\n",
    "        extract_titles,\n",
    "        generate_dummies,\n",
    "        dummies_columns,\n",
    "    )\n",
    "    return df"
   ]
  },
  {
   "cell_type": "markdown",
   "id": "3e844eee-0747-455b-aa09-7d6e7bb22ea4",
   "metadata": {},
   "source": [
    "Las funciones deben tener un solo objetivo\n",
    "---"
   ]
  },
  {
   "cell_type": "markdown",
   "id": "aa94d965-93e2-447c-b5ed-6d60a8adeec5",
   "metadata": {},
   "source": [
    "```\n",
    "Functions should do one thing.\n",
    "They should do it well.\n",
    "They should do it only.\n",
    "````\n"
   ]
  },
  {
   "cell_type": "markdown",
   "id": "4017066f-aa7c-491b-b2e6-86e9f3987c3f",
   "metadata": {},
   "source": [
    "Ejemplos de una cosa (thing):\n",
    "\n",
    "* Interactuar con los archivos del sistema para leer datos.\n",
    "\n",
    "* Aplicar una transformación a una columna.\n",
    "\n",
    "* Aplicar la misma transformación en varios datasets.\n",
    "\n",
    "* Aplicar un mismo transformador a varias columnas.\n",
    "\n",
    "* Llamar funciones (como el ejemplo de arriba)."
   ]
  },
  {
   "cell_type": "markdown",
   "id": "fdbe4a5b-c775-4380-9a83-26d329ae2266",
   "metadata": {},
   "source": [
    "Nivel simple de abstracción\n",
    "----"
   ]
  },
  {
   "cell_type": "markdown",
   "id": "082c7be5-6ae7-42cf-be6e-656e6b9a084e",
   "metadata": {},
   "source": [
    "Se puede verificar al hacer la analogía a los capítulos y secciones de un libro."
   ]
  },
  {
   "cell_type": "markdown",
   "id": "1bd9bd9c-6693-49dc-a3fd-ebbe264848ad",
   "metadata": {},
   "source": [
    "Cantidad de argumentos en las funciones\n",
    "---"
   ]
  },
  {
   "cell_type": "markdown",
   "id": "c5b7e473-160d-4f1f-b6b3-0895ed78c3ab",
   "metadata": {},
   "source": [
    "Cero es ideal. Tenga un máximo de seis."
   ]
  },
  {
   "cell_type": "markdown",
   "id": "1172c207-821f-4444-aa4d-b0d9db0d7047",
   "metadata": {},
   "source": [
    "Nunca use argumentos de salida\n",
    "---"
   ]
  },
  {
   "cell_type": "code",
   "execution_count": null,
   "id": "f35990a5-03e2-4f9b-8b40-0f4e55d24372",
   "metadata": {},
   "outputs": [],
   "source": [
    "def push_model(model, serving_endpoint):\n",
    "    model_json = model.to_json()\n",
    "    serving_endpoint.post(model_json)\n",
    "    model.uploaded = True\n",
    "    return model"
   ]
  },
  {
   "cell_type": "markdown",
   "id": "b0e78917-3f48-4998-a3c2-ff8246918160",
   "metadata": {},
   "source": [
    "Argumentos binarios\n",
    "---"
   ]
  },
  {
   "cell_type": "markdown",
   "id": "d70d10cd-2c59-4e4f-9c9a-af5ec548e70c",
   "metadata": {},
   "source": [
    "* Preferiblemente no use argumentos binarios.\n",
    "\n",
    "* Nunca use argumentos binarios que modifican el código de forma anidada.\n",
    "\n",
    "* Un argumento binario con if/else es una indicación de que la función está haciendo más de una cosa."
   ]
  },
  {
   "cell_type": "code",
   "execution_count": null,
   "id": "6543ed79-6392-488e-9d1d-e146fb8b8d7a",
   "metadata": {},
   "outputs": [],
   "source": [
    "# ---< Mal >-------------------------------------------------------------------\n",
    "def feature_transform_complex(input_df, with_mean=True, with_std=False):\n",
    "    if with_mean and with_std:\n",
    "        df = scale_with_mean_and_std(df)\n",
    "    elif with_mean:\n",
    "        df = scale_with_mean(df)\n",
    "    elif with_std:\n",
    "        df = scale_with_std(df)\n",
    "    else:\n",
    "        continue\n",
    "    return df"
   ]
  },
  {
   "cell_type": "code",
   "execution_count": null,
   "id": "101e30ed-e6c5-4329-a9bd-e4f5c1c6f6cf",
   "metadata": {},
   "outputs": [],
   "source": [
    "# ---< Ok >--------------------------------------------------------------------\n",
    "# Note que esta función actua como un orquestador.\n",
    "def feature_transform_simple(\n",
    "    input_df,\n",
    "    with_one_hot_encoding=True,\n",
    "    with_remove_stop_words=False,\n",
    "):\n",
    "    if with_one_hot_encoding:\n",
    "        df = gen_one_hot_encoding(df, column=\"city\")\n",
    "    if with_remove_stop_word:\n",
    "        df = remove_stop_words(df, column=\"text_comment\")\n",
    "    return df"
   ]
  },
  {
   "cell_type": "markdown",
   "id": "067a858e-458c-4ac1-a1d6-1c951a6e58bc",
   "metadata": {},
   "source": [
    "Funciones con muchos argumentos\n",
    "----"
   ]
  },
  {
   "cell_type": "code",
   "execution_count": null,
   "id": "7f802900-15f7-4ce6-be5b-286b6eab9e3c",
   "metadata": {},
   "outputs": [],
   "source": [
    "# ---< Mal >-------------------------------------------------------------------\n",
    "def feature_transform(\n",
    "    df,\n",
    "    with_mean=True,\n",
    "    with_std=False,\n",
    "    copy=True,\n",
    "    with_max_clipping=True,\n",
    "    with_min_clipping=True,\n",
    "    with_one_hot_encoding=True,\n",
    "    with_generate_embeddings=True,\n",
    "):\n",
    "    pass"
   ]
  },
  {
   "cell_type": "code",
   "execution_count": null,
   "id": "0a72bcc5-de80-41b7-8a14-efb94eee9eda",
   "metadata": {},
   "outputs": [],
   "source": [
    "# ---< Mejor >-----------------------------------------------------------------\n",
    "class FeatureConfig:\n",
    "    with_mean: bool = True\n",
    "    with_std: bool = False\n",
    "    copy: bool = True\n",
    "    with_max_clipping: bool = True\n",
    "    with_min_clipping: bool = True\n",
    "    with_one_hot_encoding: bool = True\n",
    "    with_generate_embeddings: bool = True\n",
    "    \n",
    "def feature_transform(df, config:FeatureConfig):\n",
    "    pass"
   ]
  },
  {
   "cell_type": "markdown",
   "id": "87f5afd4-eb32-4e5f-b666-1c7e899b80a9",
   "metadata": {},
   "source": [
    "Llamada de funciones\n",
    "---"
   ]
  },
  {
   "cell_type": "markdown",
   "id": "eb3da50c-5940-4d0a-a14c-0bda08f40e2b",
   "metadata": {},
   "source": [
    "Las funciones en Python tienen argumentos posicionales, keywords, *args y **kwargs."
   ]
  },
  {
   "cell_type": "markdown",
   "id": "98da0633-61c5-444a-9c31-036d702fad4e",
   "metadata": {},
   "source": [
    "Siembre use keywords\n",
    "\n",
    "```python\n",
    "build_model(size, \"high\")\n",
    "\n",
    "build_model(model_capacity=size, model_threshold=\"high\")\n",
    "```\n"
   ]
  },
  {
   "cell_type": "markdown",
   "id": "7c2e8471-48df-4a00-b921-06157cd541b3",
   "metadata": {},
   "source": [
    "Efectos colaterales en tuberías de ingeniería de características\n",
    "---"
   ]
  },
  {
   "cell_type": "markdown",
   "id": "92d99d24-d311-479c-b331-f2e1c32b0daa",
   "metadata": {},
   "source": [
    "**Opción 1: Copie todo**"
   ]
  },
  {
   "cell_type": "code",
   "execution_count": null,
   "id": "4a23dd18-fbbc-4769-93ec-a1eb434c7526",
   "metadata": {},
   "outputs": [],
   "source": [
    "def fill_age_nan(input_df):\n",
    "    df = input_df.copy()\n",
    "    df[\"Age\"] = df[\"Age\"].fillna(df[\"Age\"].median())\n",
    "    return df\n",
    "\n",
    "\n",
    "def append_is_adult_column(input_df):\n",
    "    df = input_df.copy()\n",
    "    df[\"is_adult\"] = df[\"Age\"].apply(lambda x: 0 if x <= 21 else 1)\n",
    "    return df\n",
    "\n",
    "\n",
    "df = fill_age_nan(df)\n",
    "df = append_is_adult_column(df)"
   ]
  },
  {
   "cell_type": "markdown",
   "id": "fbfa97a0-4b9e-4772-9978-acc4acc9e1b7",
   "metadata": {},
   "source": [
    "**Opción 2: Retorne una nueva columna**"
   ]
  },
  {
   "cell_type": "code",
   "execution_count": null,
   "id": "0e6b8278-f37d-44c9-939d-3bedaa4160df",
   "metadata": {},
   "outputs": [],
   "source": [
    "def get_median_age(input_df):\n",
    "    median_age = input_df[\"Age\"].median()\n",
    "    return median_age\n",
    "\n",
    "\n",
    "def get_is_adult_column(input_df):\n",
    "    is_adult = df[\"Age\"].apply(lambda x: 0 if x < 21 else 1)\n",
    "    return is_adult\n",
    "\n",
    "\n",
    "median_age = get_median_age(df)\n",
    "df[\"Age\"] = df[\"Age\"].fillna(median_age)\n",
    "df[\"is_adult\"] = get_is_adult_column(df)"
   ]
  },
  {
   "cell_type": "markdown",
   "id": "3662fa50-0bf9-45aa-8870-96feab5a48a1",
   "metadata": {},
   "source": [
    "**Opción 3: Append solo dentro de las funciones**"
   ]
  },
  {
   "cell_type": "code",
   "execution_count": null,
   "id": "a1ed0665-dd7f-48f9-94c8-1dbcd858a256",
   "metadata": {},
   "outputs": [],
   "source": [
    "def fill_age_nan(df):\n",
    "    df[\"Age_no_nan\"] = df[\"Age\"].fillna(df[\"Age\"].median())\n",
    "\n",
    "\n",
    "def append_is_adult_column(df):\n",
    "    df[\"is_adult\"] = df[\"Age_no_nan\"].apply(lambda x: 0 if x <= 21 else 1)\n",
    "\n",
    "\n",
    "fill_age_nan(df)\n",
    "append_is_adult_column(df)"
   ]
  },
  {
   "cell_type": "markdown",
   "id": "f8a9efaf-3c72-4a1d-be69-2c12f3013b4d",
   "metadata": {},
   "source": [
    "Haga el acoplamiento temporal explicito\n",
    "---"
   ]
  },
  {
   "cell_type": "code",
   "execution_count": null,
   "id": "4a21e5cf-b609-458d-aa8f-5f21b24bc681",
   "metadata": {},
   "outputs": [],
   "source": [
    "def append_age_based_features(df):\n",
    "    original_age = df[\"Age\"].copy() # <<<-----\n",
    "    fill_age_nan(df)\n",
    "    append_is_adult_column(df)\n",
    "    append_is_senior_column(df)\n",
    "    append_is_millenial_column(df)\n",
    "    df[\"Age\"] = original_age # <<<-----"
   ]
  },
  {
   "cell_type": "markdown",
   "id": "e97dae20-0861-484a-b063-e76b250f493e",
   "metadata": {},
   "source": [
    "Evite mezclar comandos y consultas\n",
    "---"
   ]
  },
  {
   "cell_type": "code",
   "execution_count": null,
   "id": "64531ebd-7da3-4b7a-8ea3-ae85ec925770",
   "metadata": {},
   "outputs": [],
   "source": [
    "# Mezcla de comandos y consultas\n",
    "def fill_age_nan(df):\n",
    "    df[\"Age\"] = df[\"Age\"].fillna(df[\"Age\"].median())\n",
    "    return df\n",
    "\n",
    "\n",
    "# Query version\n",
    "def get_age_with_no_nan(df):\n",
    "    return df[\"Age\"].fillna(df[\"Age\"].median())\n",
    "\n",
    "\n",
    "# Command version\n",
    "def fill_age_nan_inplace(df):\n",
    "    df[\"Age\"] = df[\"Age\"].fillna(df[\"Age\"].median())"
   ]
  },
  {
   "cell_type": "markdown",
   "id": "e3539482-aafd-493d-b121-16cfd0553d1e",
   "metadata": {},
   "source": [
    "Use excepciones\n",
    "----"
   ]
  },
  {
   "cell_type": "code",
   "execution_count": null,
   "id": "9f96826e-6a2e-44a7-9e46-efaaab9c3305",
   "metadata": {},
   "outputs": [],
   "source": [
    "# ---< Mal >-------------------------------------------------------------------\n",
    "def reset_experiment_components():\n",
    "    success = 1\n",
    "    if reset_accuracy_metrics() == success:\n",
    "        if model.reset_trainable_layers() == success:\n",
    "            if model.reset_gradients() == success:\n",
    "                print(\"metrics and model reset successfully\")\n",
    "            else:\n",
    "                print(\"model gradients reset failed\")\n",
    "        else:\n",
    "            print(\"model layers reset failed\")\n",
    "    else:\n",
    "        print(\"Unable to reset accuracy metrics\")\n",
    "    "
   ]
  },
  {
   "cell_type": "code",
   "execution_count": null,
   "id": "3304cd27-d049-49d4-835b-da6e85aab673",
   "metadata": {},
   "outputs": [],
   "source": [
    "# ---< Mejor >-----------------------------------------------------------------\n",
    "def reset_experiment_components():\n",
    "    try:\n",
    "        reset_accuracy_metrics()\n",
    "        model.reset_trainable_layers()\n",
    "        model.reset_gradients()\n",
    "        print(\"metrics and model reset successfully\")\n",
    "    except MetricsException:\n",
    "        print(\"Unable to reset accuracy metrics\")\n",
    "    except ModelLayerResetException:\n",
    "        print(\"model layers reset failed\")\n",
    "    except ModelGradientResetException:\n",
    "        print(\"model gradients reset failed\")"
   ]
  },
  {
   "cell_type": "markdown",
   "id": "dd194c79-740b-4402-81b8-4e92ad0a7dcb",
   "metadata": {},
   "source": [
    "Separe el flujo normal de los casos excepcionales\n",
    "---"
   ]
  },
  {
   "cell_type": "code",
   "execution_count": null,
   "id": "b7654e7f-ff8d-42d3-8ee7-0f737cd5a91f",
   "metadata": {},
   "outputs": [],
   "source": [
    "# ---< Bien >------------------------------------------------------------------\n",
    "def reset_experiment_components():\n",
    "    try:\n",
    "        reset_components()\n",
    "    except MetricsException:\n",
    "        print(\"Unable to reset accuracy metrics\")\n",
    "    except ModelLayerResetException:\n",
    "        print(\"model layers reset failed\")\n",
    "    except ModelGradientResetException:\n",
    "        print(\"model gradients reset failed\")\n",
    "        \n",
    "        \n",
    "def reset_components():\n",
    "    reset_accuracy_metrics()\n",
    "    model.reset_trainable_layers()\n",
    "    model.reset_gradients()\n",
    "    print(\"metrics and model reset successfully\")"
   ]
  },
  {
   "cell_type": "markdown",
   "id": "58c02e37-7467-4454-aaf8-2bd4072d2753",
   "metadata": {},
   "source": [
    "Derive clases personalizadas para sus excepciones\n",
    "---"
   ]
  },
  {
   "cell_type": "code",
   "execution_count": null,
   "id": "eeae5ba8-103f-4859-b287-9d291769d18a",
   "metadata": {},
   "outputs": [],
   "source": [
    "class Error(Exception):\n",
    "    \"\"\"Base class for other exceptions\"\"\"\n",
    "\n",
    "    pass\n",
    "\n",
    "\n",
    "class ImportError(Error):\n",
    "    \"\"\"Raised when the import fails to find target package\"\"\"\n",
    "\n",
    "    pass\n",
    "\n",
    "\n",
    "class NotFittedError(Error):\n",
    "    \"\"\"Raised when calling an estimator that was not fit yet\"\"\"\n",
    "\n",
    "    pass\n",
    "\n",
    "\n",
    "class ConvergenceError(Error):\n",
    "    \"\"\"Raised when training reached last iteration without loss convergence\"\"\"\n",
    "\n",
    "    pass"
   ]
  }
 ],
 "metadata": {
  "kernelspec": {
   "display_name": "Python 3 (ipykernel)",
   "language": "python",
   "name": "python3"
  },
  "language_info": {
   "codemirror_mode": {
    "name": "ipython",
    "version": 3
   },
   "file_extension": ".py",
   "mimetype": "text/x-python",
   "name": "python",
   "nbconvert_exporter": "python",
   "pygments_lexer": "ipython3",
   "version": "3.8.10"
  }
 },
 "nbformat": 4,
 "nbformat_minor": 5
}
