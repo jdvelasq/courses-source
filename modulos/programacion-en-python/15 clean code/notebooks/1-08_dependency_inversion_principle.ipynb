{
 "cells": [
  {
   "cell_type": "markdown",
   "id": "e5efda84-2187-4d9a-b391-f3dc8e8b26cd",
   "metadata": {
    "tags": []
   },
   "source": [
    "Principio de inversión de dependencias\n",
    "===\n",
    "\n",
    "* Última modificación: Mayo  14, 2022"
   ]
  },
  {
   "cell_type": "markdown",
   "id": "5998e07c-1ac8-4517-ade1-999eff949aa0",
   "metadata": {},
   "source": [
    "**Se debe depender de abstracciones y no de concreciones**"
   ]
  },
  {
   "cell_type": "markdown",
   "id": "75a0ebf9-0846-44d8-8077-3cfa6475af77",
   "metadata": {},
   "source": [
    "Implementación que viola el principio\n",
    "---"
   ]
  },
  {
   "cell_type": "code",
   "execution_count": null,
   "id": "aa952914-5d02-4363-9288-2f1ac05acb91",
   "metadata": {},
   "outputs": [],
   "source": [
    "class ScikitLearnModel:\n",
    "    def fit(self):\n",
    "        pass\n",
    "\n",
    "    \n",
    "class TensorFlowModel:\n",
    "    def fit(self):\n",
    "        pass\n",
    "    \n",
    "class PyTorchModel:\n",
    "    def fit(self):\n",
    "        pass\n",
    "    \n",
    "    \n",
    "    \n",
    "class ModelTrainer:\n",
    "    #\n",
    "    # Este modelo es una abstracción pero depende de la implementación concreta\n",
    "    #\n",
    "    def __init__(self, model_type):\n",
    "        if model_type == 'scikitlearnmodel':\n",
    "            self.model = ScikitLearModel()\n",
    "        elif model_type == 'pytorchmodel':\n",
    "            self.model = PyTorchModel()\n",
    "        else:\n",
    "            self.model == TensorFlowModel()\n",
    "            \n",
    "    def fit(self):\n",
    "        self.model.fit()\n",
    "                "
   ]
  },
  {
   "cell_type": "markdown",
   "id": "1ad614e7-5262-471e-b581-e3b563884c32",
   "metadata": {},
   "source": [
    "Solución\n",
    "---"
   ]
  },
  {
   "cell_type": "code",
   "execution_count": null,
   "id": "06eb58ca-4223-443f-bbe4-5524e290cb80",
   "metadata": {},
   "outputs": [],
   "source": [
    "from abc import ABC, abstractmethod\n",
    "\n",
    "\n",
    "class Model(ABC):\n",
    "    @abstractmethod\n",
    "    def train(self):\n",
    "        raise NotImplementedError\n",
    "\n",
    "\n",
    "class ModelTrainer:\n",
    "    def __init__(self, model: Model):\n",
    "        self.model = model\n",
    "\n",
    "    def fit(self):\n",
    "        self.model.train()\n",
    "\n",
    "\n",
    "class ScikitLearnModel(Model):\n",
    "    def fit(self):\n",
    "        pass\n",
    "\n",
    "\n",
    "class TensorFlowModel(Model):\n",
    "    def fit(self):\n",
    "        pass\n",
    "\n",
    "\n",
    "class PytorchModel(Model):\n",
    "    def fit(self):\n",
    "        pass\n",
    "\n",
    "\n",
    "model_of_the_day = PytorchModel()\n",
    "model_trainer_of_day = ModelTrainer(model_of_the_day)"
   ]
  },
  {
   "cell_type": "markdown",
   "id": "eb37ccc7-0763-420a-b985-d5a54f24781c",
   "metadata": {},
   "source": [
    "Generalización de la solución\n",
    "---"
   ]
  },
  {
   "cell_type": "code",
   "execution_count": null,
   "id": "21d896a9-de4c-4ecf-b2a3-9874b259f577",
   "metadata": {},
   "outputs": [],
   "source": [
    "import os\n",
    "\n",
    "\n",
    "def main():\n",
    "    model_type = os.environ[\"MODEL_TYPE\"]\n",
    "    if model_type == \"scikitlearnmodel\":\n",
    "        self.model = ScikitLearModel()\n",
    "    elif model_type == \"pytorchmodel\":\n",
    "        self.model = PyTorchModel()\n",
    "    elif model_type == \"tensorflowmodel\":\n",
    "        self.model == TensorFlowModel()\n",
    "    else:\n",
    "        raise Exception"
   ]
  }
 ],
 "metadata": {
  "kernelspec": {
   "display_name": "Python 3 (ipykernel)",
   "language": "python",
   "name": "python3"
  },
  "language_info": {
   "codemirror_mode": {
    "name": "ipython",
    "version": 3
   },
   "file_extension": ".py",
   "mimetype": "text/x-python",
   "name": "python",
   "nbconvert_exporter": "python",
   "pygments_lexer": "ipython3",
   "version": "3.8.10"
  }
 },
 "nbformat": 4,
 "nbformat_minor": 5
}
