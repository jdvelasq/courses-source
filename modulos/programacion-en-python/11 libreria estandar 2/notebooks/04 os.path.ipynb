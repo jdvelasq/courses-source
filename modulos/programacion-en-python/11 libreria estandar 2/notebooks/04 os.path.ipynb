{
 "cells": [
  {
   "cell_type": "markdown",
   "id": "515cb6fa-a618-4286-bf44-82bb204e5962",
   "metadata": {},
   "source": [
    "Librería os.path (manipulaciones comunes del pathname)\n",
    "===\n",
    "\n",
    "* Última modificación: Mayo 13, 2022"
   ]
  },
  {
   "cell_type": "code",
   "execution_count": 1,
   "id": "6ee5b8bc-f707-4c6a-bf20-c9858fd5259b",
   "metadata": {},
   "outputs": [],
   "source": [
    "import os.path"
   ]
  },
  {
   "cell_type": "code",
   "execution_count": 2,
   "id": "82c11a84-e8f3-4e70-89be-47b0a05b42d1",
   "metadata": {},
   "outputs": [
    {
     "data": {
      "text/plain": [
       "'text.txt'"
      ]
     },
     "execution_count": 2,
     "metadata": {},
     "output_type": "execute_result"
    }
   ],
   "source": [
    "# -----------------------------------------------------------------------------\n",
    "# Return the base name of pathname path.\n",
    "#\n",
    "os.path.basename('/tmp/user/text.txt')"
   ]
  },
  {
   "cell_type": "code",
   "execution_count": 3,
   "id": "bc19f9c6-3e4a-4313-b26d-bf4192aa62a9",
   "metadata": {},
   "outputs": [
    {
     "data": {
      "text/plain": [
       "'/tmp/user'"
      ]
     },
     "execution_count": 3,
     "metadata": {},
     "output_type": "execute_result"
    }
   ],
   "source": [
    "# -----------------------------------------------------------------------------\n",
    "# Return the longest common sub-path of each pathname in the sequence paths.\n",
    "#\n",
    "os.path.commonpath(\n",
    "    [\n",
    "        '/tmp/user/text0.txt',\n",
    "        '/tmp/user/text1.txt',\n",
    "    ]\n",
    ")"
   ]
  },
  {
   "cell_type": "code",
   "execution_count": 4,
   "id": "ed1f2a89-3742-47f9-a8e7-e65315d6fe70",
   "metadata": {},
   "outputs": [
    {
     "data": {
      "text/plain": [
       "'/tmp/user/text'"
      ]
     },
     "execution_count": 4,
     "metadata": {},
     "output_type": "execute_result"
    }
   ],
   "source": [
    "# -----------------------------------------------------------------------------\n",
    "# Return the longest path prefix (taken character-by-character) that is a\n",
    "# prefix of all paths in list.\n",
    "os.path.commonprefix(\n",
    "    [\n",
    "        '/tmp/user/text0.txt',\n",
    "        '/tmp/user/text1.txt',\n",
    "    ]\n",
    ")"
   ]
  },
  {
   "cell_type": "code",
   "execution_count": 5,
   "id": "221a2e2a-314f-4c1f-b33d-6ef41035c83b",
   "metadata": {},
   "outputs": [
    {
     "data": {
      "text/plain": [
       "'/tmp/user'"
      ]
     },
     "execution_count": 5,
     "metadata": {},
     "output_type": "execute_result"
    }
   ],
   "source": [
    "# -----------------------------------------------------------------------------\n",
    "# Return the directory name of pathname path. \n",
    "#\n",
    "os.path.dirname('/tmp/user/text.txt')"
   ]
  },
  {
   "cell_type": "code",
   "execution_count": 6,
   "id": "951aae1f-fbfd-47c9-abdd-e5745e6c9cc7",
   "metadata": {},
   "outputs": [
    {
     "data": {
      "text/plain": [
       "False"
      ]
     },
     "execution_count": 6,
     "metadata": {},
     "output_type": "execute_result"
    }
   ],
   "source": [
    "# -----------------------------------------------------------------------------\n",
    "# Return True if path refers to an existing path or an open file descriptor.\n",
    "#\n",
    "os.path.exists('/tmp/user/text.txt')"
   ]
  },
  {
   "cell_type": "code",
   "execution_count": 7,
   "id": "7437b223-229d-4339-a25b-36d6c52e319f",
   "metadata": {},
   "outputs": [
    {
     "data": {
      "text/plain": [
       "'/root'"
      ]
     },
     "execution_count": 7,
     "metadata": {},
     "output_type": "execute_result"
    }
   ],
   "source": [
    "# -----------------------------------------------------------------------------\n",
    "# On Unix and Windows, return the argument with an initial component of ~ or \n",
    "# ~user replaced by that user’s home directory.\n",
    "#\n",
    "os.path.expanduser('~')"
   ]
  },
  {
   "cell_type": "code",
   "execution_count": 8,
   "id": "8fbf5209-8fca-4823-920a-60774e58017d",
   "metadata": {},
   "outputs": [
    {
     "data": {
      "text/plain": [
       "'/usr/local/sbin:/usr/local/bin:/usr/sbin:/usr/bin:/sbin:/bin'"
      ]
     },
     "execution_count": 8,
     "metadata": {},
     "output_type": "execute_result"
    }
   ],
   "source": [
    "# -----------------------------------------------------------------------------\n",
    "# Return the argument with environment variables expanded.\n",
    "#\n",
    "os.path.expandvars('$PATH')"
   ]
  },
  {
   "cell_type": "code",
   "execution_count": 9,
   "id": "4d02bda9-224c-419f-87d7-40b342e66839",
   "metadata": {},
   "outputs": [
    {
     "data": {
      "text/plain": [
       "1650556566.2562885"
      ]
     },
     "execution_count": 9,
     "metadata": {},
     "output_type": "execute_result"
    }
   ],
   "source": [
    "# -----------------------------------------------------------------------------\n",
    "# Return the time of last access of path. \n",
    "#\n",
    "!touch '/tmp/demo.txt'\n",
    "os.path.getatime('/tmp/demo.txt')"
   ]
  },
  {
   "cell_type": "code",
   "execution_count": 10,
   "id": "b13c61ec-e8ab-49fe-81f3-417dd06694fb",
   "metadata": {},
   "outputs": [
    {
     "data": {
      "text/plain": [
       "False"
      ]
     },
     "metadata": {},
     "output_type": "display_data"
    },
    {
     "data": {
      "text/plain": [
       "True"
      ]
     },
     "metadata": {},
     "output_type": "display_data"
    }
   ],
   "source": [
    "# -----------------------------------------------------------------------------\n",
    "# Return True if path is an absolute pathname.\n",
    "#\n",
    "display(\n",
    "    os.path.isabs('./demo.txt'),\n",
    "    os.path.isabs('/tmp/demo.txt'),\n",
    "    \n",
    ")"
   ]
  },
  {
   "cell_type": "code",
   "execution_count": 11,
   "id": "b1219ba2-e75e-47a6-a429-a4b676cc25de",
   "metadata": {},
   "outputs": [
    {
     "data": {
      "text/plain": [
       "True"
      ]
     },
     "execution_count": 11,
     "metadata": {},
     "output_type": "execute_result"
    }
   ],
   "source": [
    "# -----------------------------------------------------------------------------\n",
    "# Return True if path is an existing regular file. \n",
    "#\n",
    "os.path.isfile('/tmp/demo.txt')"
   ]
  },
  {
   "cell_type": "code",
   "execution_count": 12,
   "id": "034154ba-a75c-4597-9c18-27c06b791af4",
   "metadata": {},
   "outputs": [
    {
     "data": {
      "text/plain": [
       "False"
      ]
     },
     "execution_count": 12,
     "metadata": {},
     "output_type": "execute_result"
    }
   ],
   "source": [
    "# -----------------------------------------------------------------------------\n",
    "# Return True if path is an existing directory.\n",
    "#\n",
    "os.path.isdir('/tmp/demo.txt')"
   ]
  },
  {
   "cell_type": "code",
   "execution_count": 13,
   "id": "c869b087-7151-49d2-ba5b-e8731dc76867",
   "metadata": {},
   "outputs": [
    {
     "data": {
      "text/plain": [
       "'/tmp/demo/a.txt'"
      ]
     },
     "execution_count": 13,
     "metadata": {},
     "output_type": "execute_result"
    }
   ],
   "source": [
    "# -----------------------------------------------------------------------------\n",
    "# Join one or more path components intelligently. \n",
    "#\n",
    "os.path.join('/tmp', 'demo', 'a.txt')"
   ]
  },
  {
   "cell_type": "code",
   "execution_count": 14,
   "id": "49b68fa1-7232-423f-9180-f70c79ae0796",
   "metadata": {},
   "outputs": [
    {
     "data": {
      "text/plain": [
       "'/tmp/demo/a.txt'"
      ]
     },
     "execution_count": 14,
     "metadata": {},
     "output_type": "execute_result"
    }
   ],
   "source": [
    "os.path.join('/tmp', 'demo/', 'a.txt')"
   ]
  },
  {
   "cell_type": "code",
   "execution_count": 15,
   "id": "37f9b17b-deaa-4113-8e59-8df43a7166a3",
   "metadata": {},
   "outputs": [
    {
     "data": {
      "text/plain": [
       "'/demo/a.txt'"
      ]
     },
     "execution_count": 15,
     "metadata": {},
     "output_type": "execute_result"
    }
   ],
   "source": [
    "os.path.join('/tmp', '/demo/', 'a.txt')"
   ]
  },
  {
   "cell_type": "code",
   "execution_count": 16,
   "id": "1184b529-ae7d-48ae-a909-30b70f3ed5ea",
   "metadata": {},
   "outputs": [
    {
     "data": {
      "text/plain": [
       "'/tmp/FILE.txt'"
      ]
     },
     "execution_count": 16,
     "metadata": {},
     "output_type": "execute_result"
    }
   ],
   "source": [
    "# -----------------------------------------------------------------------------\n",
    "# solo cambia los caracteres en windows\n",
    "#\n",
    "os.path.normcase('/tmp/FILE.txt')"
   ]
  },
  {
   "cell_type": "code",
   "execution_count": 17,
   "id": "d97f3525-6cc0-4c48-bc35-d9b02629680a",
   "metadata": {},
   "outputs": [
    {
     "data": {
      "text/plain": [
       "'/tmp/FILE.txt'"
      ]
     },
     "execution_count": 17,
     "metadata": {},
     "output_type": "execute_result"
    }
   ],
   "source": [
    "# -----------------------------------------------------------------------------\n",
    "# Normalize a pathname by collapsing redundant separators and up-level \n",
    "# references so that A//B, A/B/, A/./B and A/foo/../B all become A/B. \n",
    "#\n",
    "os.path.normpath('/tmp//./FILE.txt')"
   ]
  },
  {
   "cell_type": "code",
   "execution_count": 18,
   "id": "da3abda0-036a-4aa9-ae8e-6c1bb88c7665",
   "metadata": {},
   "outputs": [
    {
     "data": {
      "text/plain": [
       "'/workspace/the_python_tutorial_10_brief_tour_of_the_standard_library/FILE.txt'"
      ]
     },
     "execution_count": 18,
     "metadata": {},
     "output_type": "execute_result"
    }
   ],
   "source": [
    "# -----------------------------------------------------------------------------\n",
    "# Return the canonical path of the specified filename, eliminating any symbolic\n",
    "# links encountered in the path\n",
    "#\n",
    "os.path.realpath('FILE.txt')"
   ]
  },
  {
   "cell_type": "code",
   "execution_count": 19,
   "id": "5463679a-82d3-4651-9504-a0c2ae1fdda1",
   "metadata": {},
   "outputs": [
    {
     "data": {
      "text/plain": [
       "'/workspace/the_python_tutorial_10_brief_tour_of_the_standard_library/FILE.txt'"
      ]
     },
     "execution_count": 19,
     "metadata": {},
     "output_type": "execute_result"
    }
   ],
   "source": [
    "os.path.realpath('./FILE.txt')"
   ]
  },
  {
   "cell_type": "code",
   "execution_count": 20,
   "id": "cc8b0c81-4801-4f55-8784-cf0bad08c2c5",
   "metadata": {},
   "outputs": [
    {
     "data": {
      "text/plain": [
       "('/tmp/system', 'demo.txt')"
      ]
     },
     "execution_count": 20,
     "metadata": {},
     "output_type": "execute_result"
    }
   ],
   "source": [
    "# -----------------------------------------------------------------------------\n",
    "# Split the pathname path into a pair, (head, tail) where tail is the last \n",
    "# pathname component and head is everything leading up to that.\n",
    "#\n",
    "os.path.split('/tmp/system/demo.txt')"
   ]
  }
 ],
 "metadata": {
  "kernelspec": {
   "display_name": "Python 3 (ipykernel)",
   "language": "python",
   "name": "python3"
  },
  "language_info": {
   "codemirror_mode": {
    "name": "ipython",
    "version": 3
   },
   "file_extension": ".py",
   "mimetype": "text/x-python",
   "name": "python",
   "nbconvert_exporter": "python",
   "pygments_lexer": "ipython3",
   "version": "3.8.10"
  }
 },
 "nbformat": 4,
 "nbformat_minor": 5
}
