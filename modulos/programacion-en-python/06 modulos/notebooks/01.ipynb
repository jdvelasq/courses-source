{
 "cells": [
  {
   "cell_type": "markdown",
   "id": "9b8463bd-cab4-4bbb-8025-bb1fe78fbd90",
   "metadata": {
    "tags": []
   },
   "source": [
    "Módulos\n",
    "===\n",
    "\n",
    "* Última modificación: Mayo 14, 2022"
   ]
  },
  {
   "cell_type": "markdown",
   "id": "705cc4ec-d5d3-491c-9931-82027780f7b1",
   "metadata": {},
   "source": [
    "Introducción\n",
    "--"
   ]
  },
  {
   "cell_type": "code",
   "execution_count": 1,
   "id": "160279ea-f818-4fee-8f0e-a0f44b026a21",
   "metadata": {},
   "outputs": [
    {
     "name": "stdout",
     "output_type": "stream",
     "text": [
      "Overwriting fibo.py\n"
     ]
    }
   ],
   "source": [
    "%%writefile fibo.py\n",
    "\n",
    "def fib(n):    # write Fibonacci series up to n\n",
    "    a, b = 0, 1\n",
    "    while a < n:\n",
    "        print(a, end=' ')\n",
    "        a, b = b, a+b\n",
    "    print()\n",
    "\n",
    "def fib2(n):   # return Fibonacci series up to n\n",
    "    result = []\n",
    "    a, b = 0, 1\n",
    "    while a < n:\n",
    "        result.append(a)\n",
    "        a, b = b, a+b\n",
    "    return result"
   ]
  },
  {
   "cell_type": "code",
   "execution_count": 2,
   "id": "94844f3a-2d59-42c2-b0a4-005b61809b84",
   "metadata": {},
   "outputs": [
    {
     "name": "stdout",
     "output_type": "stream",
     "text": [
      "0 1 1 2 3 5 8 13 21 34 55 89 144 233 377 610 987 \n"
     ]
    }
   ],
   "source": [
    "import fibo\n",
    "\n",
    "fibo.fib(1000)"
   ]
  },
  {
   "cell_type": "code",
   "execution_count": 3,
   "id": "d95b3080-a345-4729-b8ad-bdb3047ece3a",
   "metadata": {},
   "outputs": [
    {
     "data": {
      "text/plain": [
       "[0, 1, 1, 2, 3, 5, 8, 13, 21, 34, 55, 89]"
      ]
     },
     "execution_count": 3,
     "metadata": {},
     "output_type": "execute_result"
    }
   ],
   "source": [
    "fibo.fib2(100)"
   ]
  },
  {
   "cell_type": "code",
   "execution_count": 4,
   "id": "4ad6b414-be34-474e-b907-cfbe731e0d00",
   "metadata": {},
   "outputs": [
    {
     "name": "stdout",
     "output_type": "stream",
     "text": [
      "0 1 1 2 3 5 8 13 21 34 55 89 144 233 377 \n"
     ]
    }
   ],
   "source": [
    "fib = fibo.fib\n",
    "fib(500)"
   ]
  },
  {
   "cell_type": "markdown",
   "id": "059723e6-f070-4afc-af7c-05c72fec0993",
   "metadata": {},
   "source": [
    "Importación\n",
    "---"
   ]
  },
  {
   "cell_type": "code",
   "execution_count": 5,
   "id": "56680d2f-04d3-4b44-af93-cf1a64625783",
   "metadata": {},
   "outputs": [
    {
     "name": "stdout",
     "output_type": "stream",
     "text": [
      "0 1 1 2 3 5 8 13 21 34 55 89 144 233 377 \n"
     ]
    }
   ],
   "source": [
    "from fibo import fib, fib2\n",
    "\n",
    "fib(500)"
   ]
  },
  {
   "cell_type": "code",
   "execution_count": 6,
   "id": "fc9690a6-fedd-42db-84e7-c7e02eb22928",
   "metadata": {},
   "outputs": [
    {
     "name": "stdout",
     "output_type": "stream",
     "text": [
      "0 1 1 2 3 5 8 13 21 34 55 89 144 233 377 \n"
     ]
    }
   ],
   "source": [
    "from fibo import *\n",
    "\n",
    "fib(500)"
   ]
  },
  {
   "cell_type": "code",
   "execution_count": 7,
   "id": "1068743e-ff40-4133-be39-3b2d1ece4d6d",
   "metadata": {},
   "outputs": [
    {
     "name": "stdout",
     "output_type": "stream",
     "text": [
      "0 1 1 2 3 5 8 13 21 34 55 89 144 233 377 \n"
     ]
    }
   ],
   "source": [
    "import fibo as fib\n",
    "\n",
    "fib.fib(500)"
   ]
  },
  {
   "cell_type": "markdown",
   "id": "983de65c-56d3-4d71-b76f-1e82ce6d5251",
   "metadata": {},
   "source": [
    "Ejecución de módulos como scripts\n",
    "---"
   ]
  },
  {
   "cell_type": "code",
   "execution_count": 8,
   "id": "f8e5fd82-75a7-4d79-a47c-4a687647a44c",
   "metadata": {},
   "outputs": [
    {
     "name": "stdout",
     "output_type": "stream",
     "text": [
      "Overwriting fibo.py\n"
     ]
    }
   ],
   "source": [
    "%%writefile fibo.py\n",
    "\n",
    "def fib(n):    # write Fibonacci series up to n\n",
    "    a, b = 0, 1\n",
    "    while a < n:\n",
    "        print(a, end=' ')\n",
    "        a, b = b, a+b\n",
    "    print()\n",
    "\n",
    "def fib2(n):   # return Fibonacci series up to n\n",
    "    result = []\n",
    "    a, b = 0, 1\n",
    "    while a < n:\n",
    "        result.append(a)\n",
    "        a, b = b, a+b\n",
    "    return result\n",
    "\n",
    "if __name__ == \"__main__\":\n",
    "    import sys\n",
    "    fib(int(sys.argv[1]))"
   ]
  },
  {
   "cell_type": "code",
   "execution_count": 9,
   "id": "71caead5-7896-4900-8e88-4d48b10d20cc",
   "metadata": {},
   "outputs": [
    {
     "name": "stdout",
     "output_type": "stream",
     "text": [
      "0 1 1 2 3 5 8 13 21 34 \n"
     ]
    }
   ],
   "source": [
    "!python3 fibo.py 50"
   ]
  },
  {
   "cell_type": "markdown",
   "id": "29e4ea30-c637-4806-ab34-4bdc18692427",
   "metadata": {},
   "source": [
    "Módulos estándar\n",
    "---"
   ]
  },
  {
   "cell_type": "code",
   "execution_count": 10,
   "id": "26aa9cdf-eb26-47d3-9f73-40551ac8ccc5",
   "metadata": {},
   "outputs": [
    {
     "data": {
      "text/plain": [
       "'In : '"
      ]
     },
     "execution_count": 10,
     "metadata": {},
     "output_type": "execute_result"
    }
   ],
   "source": [
    "import sys\n",
    "\n",
    "sys.ps1"
   ]
  },
  {
   "cell_type": "code",
   "execution_count": 11,
   "id": "4c118383-2852-4875-87ab-e0f9263d0fb0",
   "metadata": {},
   "outputs": [
    {
     "data": {
      "text/plain": [
       "'...: '"
      ]
     },
     "execution_count": 11,
     "metadata": {},
     "output_type": "execute_result"
    }
   ],
   "source": [
    "sys.ps2"
   ]
  },
  {
   "cell_type": "markdown",
   "id": "99c04dd0-47ac-4dc7-9c3d-278fbd13d2c6",
   "metadata": {},
   "source": [
    "Función dir()\n",
    "---"
   ]
  },
  {
   "cell_type": "code",
   "execution_count": 12,
   "id": "8ab3e825-b96c-43fa-bb42-a44aac97d988",
   "metadata": {},
   "outputs": [
    {
     "data": {
      "text/plain": [
       "['__builtins__',\n",
       " '__cached__',\n",
       " '__doc__',\n",
       " '__file__',\n",
       " '__loader__',\n",
       " '__name__',\n",
       " '__package__',\n",
       " '__spec__',\n",
       " 'fib',\n",
       " 'fib2']"
      ]
     },
     "execution_count": 12,
     "metadata": {},
     "output_type": "execute_result"
    }
   ],
   "source": [
    "import fibo\n",
    "\n",
    "\n",
    "dir(fibo)"
   ]
  },
  {
   "cell_type": "markdown",
   "id": "1ad3d4d2-d6d0-445f-89f9-b19dcc547606",
   "metadata": {},
   "source": [
    "Paquetes\n",
    "---"
   ]
  },
  {
   "cell_type": "markdown",
   "id": "71553a74-aed5-41d6-9be5-e13b8c601d4e",
   "metadata": {},
   "source": [
    "```\n",
    "sound/                          Top-level package\n",
    "      __init__.py               Initialize the sound package\n",
    "      formats/                  Subpackage for file format conversions\n",
    "              __init__.py\n",
    "              wavread.py\n",
    "              wavwrite.py\n",
    "              aiffread.py\n",
    "              aiffwrite.py\n",
    "              auread.py\n",
    "              auwrite.py\n",
    "              ...\n",
    "      effects/                  Subpackage for sound effects\n",
    "              __init__.py\n",
    "              echo.py\n",
    "              surround.py\n",
    "              reverse.py\n",
    "              ...\n",
    "      filters/                  Subpackage for filters\n",
    "              __init__.py\n",
    "              equalizer.py\n",
    "              vocoder.py\n",
    "              karaoke.py\n",
    "              ...\n",
    "\n",
    "``` "
   ]
  },
  {
   "cell_type": "markdown",
   "id": "56544ec2-c7bb-4578-a41c-c55548b8eedf",
   "metadata": {},
   "source": [
    "```python\n",
    "import sound.effects.echo\n",
    "\n",
    "sound.effects.echo.echofilter(input, output, delay=0.7, atten=4)\n",
    "```"
   ]
  },
  {
   "cell_type": "markdown",
   "id": "183c2144-05d3-489c-8939-8245cbf8272c",
   "metadata": {},
   "source": [
    "```python\n",
    "from sound.effects import echo\n",
    "\n",
    "echo.echofilter(input, output, delay=0.7, atten=4)\n",
    "```"
   ]
  },
  {
   "cell_type": "markdown",
   "id": "cdffe28d-bce1-4d91-ac16-65ccdf413f81",
   "metadata": {},
   "source": [
    "```python\n",
    "from sound.effects.echo import echofilter\n",
    "\n",
    "echofilter(input, output, delay=0.7, atten=4)\n",
    "``` "
   ]
  },
  {
   "cell_type": "markdown",
   "id": "8e9683fa-f370-4a75-a7bb-363a4d9a6806",
   "metadata": {},
   "source": [
    "```python\n",
    "from sound.effects import *\n",
    "````\n"
   ]
  },
  {
   "cell_type": "markdown",
   "id": "a1c81f13-4f45-4f48-a7a9-b9890d19bc6b",
   "metadata": {},
   "source": [
    "Referencias entre paquetues\n",
    "---"
   ]
  },
  {
   "cell_type": "markdown",
   "id": "eb8b394b-bb76-402c-8cb9-3fb1adbd9e13",
   "metadata": {},
   "source": [
    "```python\n",
    "from . import echo\n",
    "from .. import formats\n",
    "from ..filters import equalizer\n",
    "```"
   ]
  }
 ],
 "metadata": {
  "kernelspec": {
   "display_name": "Python 3 (ipykernel)",
   "language": "python",
   "name": "python3"
  },
  "language_info": {
   "codemirror_mode": {
    "name": "ipython",
    "version": 3
   },
   "file_extension": ".py",
   "mimetype": "text/x-python",
   "name": "python",
   "nbconvert_exporter": "python",
   "pygments_lexer": "ipython3",
   "version": "3.8.10"
  }
 },
 "nbformat": 4,
 "nbformat_minor": 5
}
