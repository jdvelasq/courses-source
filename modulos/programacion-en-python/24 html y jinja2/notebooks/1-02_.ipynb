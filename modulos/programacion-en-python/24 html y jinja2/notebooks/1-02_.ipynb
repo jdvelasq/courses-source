{
 "cells": [
  {
   "cell_type": "markdown",
   "metadata": {},
   "source": [
    "Elementos en una página HTML\n",
    "===\n",
    "\n",
    "* Última modificación: Mayo 14, 2022."
   ]
  },
  {
   "cell_type": "markdown",
   "metadata": {},
   "source": [
    "## Elementos semánticos"
   ]
  },
  {
   "cell_type": "markdown",
   "metadata": {},
   "source": [
    "![html-04](../../assets/html-04.png)"
   ]
  },
  {
   "cell_type": "markdown",
   "metadata": {},
   "source": [
    "```html\n",
    "\n",
    "<!DOCTYPE html>\n",
    "<html lang=\"en\">\n",
    "  <head>\n",
    "    <meta charset=\"utf-8\">\n",
    "    <title>Estructura semantica</title>\n",
    "  </head>\n",
    "  <body>\n",
    "    <header>\n",
    "        Encabezamiento\n",
    "    </header>\n",
    "    <section>\n",
    "        <h2>Titulo 1</h1>\n",
    "        \n",
    "        <p>Lorem ipsum dolor sit amet, consectetur adipiscing elit. Fusce nibh velit, gravida \n",
    "        sed diam a, consectetur cursus felis. Duis scelerisque congue efficitur. Duis nec lacus \n",
    "        id nulla tempus commodo. Curabitur ut tincidunt mauris. Vivamus tincidunt risus augue, \n",
    "        a egestas tellus sodales vitae. Fusce vitae felis eu tortor sodales gravida. </p>\n",
    "        \n",
    "        <p>Nulla eget condimentum nulla. Fusce pretium ornare lectus eu bibendum. Donec eros mauris, \n",
    "        laoreet quis viverra id, lobortis vel dui.</p>\n",
    "        \n",
    "    </section>\n",
    "    \n",
    "    <section>\n",
    "        <h2>Titulo 2</h2>\n",
    "        \n",
    "        <p> Nullam luctus nibh ac sem tincidunt, ut euismod dui mollis. Integer vitae ante eu \n",
    "        tortor luctus imperdiet pulvinar eget neque. Nulla finibus vitae quam quis euismod. \n",
    "        Phasellus porttitor nibh et tellus malesuada lacinia. </p>\n",
    "    </section>\n",
    "    \n",
    "    <footer>\n",
    "        Pie de página\n",
    "    </footer>\n",
    "    \n",
    "\n",
    "  </body>\n",
    "</html>\n",
    "```"
   ]
  },
  {
   "cell_type": "markdown",
   "metadata": {},
   "source": [
    "![html-05](../../assets/html-05.png)"
   ]
  },
  {
   "cell_type": "markdown",
   "metadata": {},
   "source": [
    "## Elementos de una página HTML"
   ]
  },
  {
   "cell_type": "markdown",
   "metadata": {},
   "source": [
    "### Parágrafos, encabezados y citas"
   ]
  },
  {
   "cell_type": "markdown",
   "metadata": {},
   "source": [
    "```html\n",
    "\n",
    "<!DOCTYPE html>\n",
    "<html lang=\"en\">\n",
    "  <head>\n",
    "    <meta charset=\"utf-8\">\n",
    "    <title>Hello World</title>\n",
    "  </head>\n",
    "  <body>\n",
    "    <h1>Nivel 1</h1>\n",
    "    \n",
    "    <h2>Nivel 2</h2>\n",
    "    \n",
    "    <p>\n",
    "        Markdown es un lenguaje de marcado ligero creado por John Gruber que \n",
    "        trata de conseguir la máxima legibilidad y facilidad de publicación \n",
    "        tanto en sus forma de entrada como de salida, inspirándose en \n",
    "        muchas convenciones existentes para marcar mensajes de correo \n",
    "        electrónico usando texto plano. \n",
    "    </p>\n",
    "    \n",
    "    <blockquote>\n",
    "        Markdown es un lenguaje de marcado ligero creado por John Gruber que \n",
    "        trata de conseguir la máxima legibilidad y facilidad de publicación \n",
    "        tanto en sus forma de entrada como de salida, inspirándose en \n",
    "        muchas convenciones existentes para marcar mensajes de correo \n",
    "        electrónico usando texto plano.\n",
    "    </blockquote>\n",
    "    \n",
    "    <p title=\"--> tooltip <--\">\n",
    "        Parrafo con tooltip.\n",
    "    </p>\n",
    "    \n",
    "    \n",
    "  </body>\n",
    "</html>\n",
    "```"
   ]
  },
  {
   "cell_type": "markdown",
   "metadata": {},
   "source": [
    "![html-06](../../assets/html-06.png)"
   ]
  },
  {
   "cell_type": "markdown",
   "metadata": {},
   "source": [
    "### Enfasis"
   ]
  },
  {
   "cell_type": "markdown",
   "metadata": {},
   "source": [
    "```html\n",
    "\n",
    "<!DOCTYPE html>\n",
    "<html lang=\"en\">\n",
    "  <head>\n",
    "    <meta charset=\"utf-8\">\n",
    "    <title>Hello World</title>\n",
    "  </head>\n",
    "  <body>\n",
    "    \n",
    "    <p>Algunas de estas palabras son <em>enfatizadas</em>.</p>\n",
    "\n",
    "    <p>Algunas de estas palabras son <i>enfatizadas</i>.</p>\n",
    "\n",
    "    <p>Algunas de estas palabras también son <em>enfatizadas</em>.</p>\n",
    "\n",
    "    <p>Use dos asteriscos para <strong>énfasis fuerte</strong>.</p>\n",
    "\n",
    "    <p>O si lo prefiere dos <strong>guiones bajos</strong>.</p>\n",
    "    \n",
    "  </body>\n",
    "</html>\n",
    "\n",
    "```"
   ]
  },
  {
   "cell_type": "markdown",
   "metadata": {},
   "source": [
    "![html-07](../../assets/html-07.png)"
   ]
  },
  {
   "cell_type": "markdown",
   "metadata": {},
   "source": [
    "### Listas sin numeración"
   ]
  },
  {
   "cell_type": "markdown",
   "metadata": {},
   "source": [
    "```html\n",
    "<ul>     \n",
    "  <li>Uno</li>  \n",
    "  <li>Dos</li>   \n",
    "  <li>Tres</li> \n",
    "</ul>\n",
    "```"
   ]
  },
  {
   "cell_type": "markdown",
   "metadata": {},
   "source": [
    "<ul>   \n",
    "  <li>Uno</li>   \n",
    "  <li>Dos</li>    \n",
    "  <li>Tres</li> \n",
    " </ul>"
   ]
  },
  {
   "cell_type": "markdown",
   "metadata": {},
   "source": [
    "### Listas enumeradas"
   ]
  },
  {
   "cell_type": "markdown",
   "metadata": {},
   "source": [
    "```html\n",
    "<ol> \n",
    "  <li>Uno</li>  \n",
    "  <li>Dos</li>   \n",
    "  <li>Tres</li>\n",
    " </ol>\n",
    "```"
   ]
  },
  {
   "cell_type": "markdown",
   "metadata": {},
   "source": [
    "```html\n",
    "<!DOCTYPE html>\n",
    "<html lang=\"en\">\n",
    "  <head>\n",
    "    <meta charset=\"utf-8\">\n",
    "    <title>Hello World</title>\n",
    "  </head>\n",
    "  <body>\n",
    "    \n",
    "    <h1>Listas sin numeración</h1>\n",
    "\n",
    "    <ul>     \n",
    "      <li>Uno</li>  \n",
    "      <li>Dos</li>   \n",
    "      <li>Tres</li> \n",
    "    </ul>\n",
    "    \n",
    "    <h1>Listas enumeradas</h1>\n",
    "    \n",
    "    <ol> \n",
    "      <li>Uno</li>  \n",
    "      <li>Dos</li>   \n",
    "      <li>Tres</li> \n",
    "    </ol>\n",
    "    \n",
    "    <h1>Listas tipo diccionario</h1>\n",
    "    <ol>\n",
    "        <li> <p>Uno </p>  <p>texto texto texto</p>  </li>\n",
    "        <li> <p>Dos </p>  <p>texto texto texto</p>  </li>\n",
    "        <li> <p>Tres</p>  <p>texto texto texto</p>  </li>\n",
    "    </ol>\n",
    "    \n",
    "  </body>\n",
    "</html>\n",
    "```"
   ]
  },
  {
   "cell_type": "markdown",
   "metadata": {},
   "source": [
    "![html-08](../../assets/html-08.png)"
   ]
  },
  {
   "cell_type": "markdown",
   "metadata": {},
   "source": [
    "### Listas tipo diccionario"
   ]
  },
  {
   "cell_type": "markdown",
   "metadata": {},
   "source": [
    "```html\n",
    "<!DOCTYPE html>\n",
    "<html lang=\"en\">\n",
    "    <head>\n",
    "        <meta charset=\"utf-8\">\n",
    "        <title>Hello World</title>\n",
    "      </head>\n",
    "    <body>\n",
    "    \n",
    "        <dl>\n",
    "            <dt>Coffee</dt>\n",
    "            <dd>Black hot drink</dd>\n",
    "            <dt>Milk</dt>\n",
    "            <dd>White cold drink</dd>\n",
    "        </dl>\n",
    "\n",
    "    </body>\n",
    "</html>\n",
    "```"
   ]
  },
  {
   "cell_type": "markdown",
   "metadata": {},
   "source": [
    "![html-09](../../assets/html-09.png)"
   ]
  },
  {
   "cell_type": "markdown",
   "metadata": {},
   "source": [
    "### Vínculos"
   ]
  },
  {
   "cell_type": "markdown",
   "metadata": {},
   "source": [
    "```html\n",
    "<!DOCTYPE html>\n",
    "<html lang=\"en\">\n",
    "    <head>\n",
    "        <meta charset=\"utf-8\">\n",
    "        <title>Hello World</title>\n",
    "      </head>\n",
    "    <body>\n",
    "    \n",
    "        <p>Este es un vínculo a <a href=\"http://www.google.com\">GOOGLE</a>.</p>\n",
    "        \n",
    "        <footer>\n",
    "            <p>Autor: Juan David Velasquez</p>\n",
    "            <p>\n",
    "                Correo: <a href=\"mailto:jdvelasq@unal.edu.co\">\n",
    "                jdvelasq@unal.edu.co</a>.\n",
    "            </p>\n",
    "        </footer>\n",
    "\n",
    "        <nav>\n",
    "            <a href=\"/html/\">HTML</a> |\n",
    "            <a href=\"/css/\">CSS</a> |\n",
    "            <a href=\"/js/\">JavaScript</a> |\n",
    "            <a href=\"/jquery/\">jQuery</a>\n",
    "        </nav>\n",
    "        \n",
    "    </body>\n",
    "</html>\n",
    "```"
   ]
  },
  {
   "cell_type": "markdown",
   "metadata": {},
   "source": [
    "![html-10](../../assets/html-10.png)"
   ]
  },
  {
   "cell_type": "markdown",
   "metadata": {},
   "source": [
    "### Vínculos tipo referencia "
   ]
  },
  {
   "cell_type": "markdown",
   "metadata": {},
   "source": [
    "```html\n",
    "<!DOCTYPE html>\n",
    "<html lang=\"en\">\n",
    "    <head>\n",
    "        <meta charset=\"utf-8\">\n",
    "        <title>Hello World</title>\n",
    "      </head>\n",
    "    <body>\n",
    "    \n",
    "        <p>\n",
    "            Estos son vinculos referenciados a \n",
    "            <a href=\"https://www.continuum.io\" title=\"Anaconda\">Continuum Analytics</a> \n",
    "            y <a href=\"https://www.python.org \" title=\"Python\"> Python Software Fundation</a>.\n",
    "        <p>\n",
    "        \n",
    "        <br>\n",
    "        \n",
    "        <p>\n",
    "            Written by <a href=\"mailto:webmaster@example.com\">Jon Doe</a>.\n",
    "        </p>\n",
    "        \n",
    "    </body>\n",
    "</html>\n",
    "```"
   ]
  },
  {
   "cell_type": "markdown",
   "metadata": {},
   "source": [
    "![html-11](../../assets/html-11.png)"
   ]
  },
  {
   "cell_type": "markdown",
   "metadata": {},
   "source": [
    "### Imágenes"
   ]
  },
  {
   "cell_type": "markdown",
   "metadata": {},
   "source": [
    "```html\n",
    "<!DOCTYPE html>\n",
    "<html lang=\"en\">\n",
    "    <head>\n",
    "        <meta charset=\"utf-8\">\n",
    "        <title>Hello World</title>\n",
    "      </head>\n",
    "    <body>\n",
    "    \n",
    "        <img src=\"../../assets/img_avatar1.png\" alt=\"assets/img_avatar1.png\" title=\"Titulo\" />  \n",
    "        \n",
    "    </body>\n",
    "</html>\n",
    "```"
   ]
  },
  {
   "cell_type": "markdown",
   "metadata": {},
   "source": [
    "![html-12](../../assets/html-12.png)"
   ]
  },
  {
   "cell_type": "markdown",
   "metadata": {},
   "source": [
    "### Código fuente y salida de programas"
   ]
  },
  {
   "cell_type": "markdown",
   "metadata": {},
   "source": [
    "```html\n",
    "<!DOCTYPE html>\n",
    "<html lang=\"en\">\n",
    "    <head>\n",
    "        <meta charset=\"utf-8\">\n",
    "        <title>Hello World</title>\n",
    "      </head>\n",
    "    <body>\n",
    "    \n",
    "        <p>Se pueden crear bloques de código:</p>\n",
    "\n",
    "        <code>\n",
    "            <p>for (i = 1; i < 5; i++)</p>\n",
    "            <p>{</p>\n",
    "            <p>    printf('%d', i)</p>\n",
    "            <p>}</p>\n",
    "        </code>\n",
    "\n",
    "        <p>\n",
    "            O se puede colocar código en linea <code>cat out.1 out.2</code>.\n",
    "        </p>\n",
    "\n",
    "        <samp>Sample output from a computer program</samp>\n",
    "\n",
    "    </body>\n",
    "</html>\n",
    "```"
   ]
  },
  {
   "cell_type": "markdown",
   "metadata": {},
   "source": [
    "![html-13](../../assets/html-13.png)"
   ]
  },
  {
   "cell_type": "markdown",
   "metadata": {},
   "source": [
    "### Tablas"
   ]
  },
  {
   "cell_type": "markdown",
   "metadata": {},
   "source": [
    "```html\n",
    "<!DOCTYPE html>\n",
    "<html lang=\"en\">\n",
    "    <head>\n",
    "        <meta charset=\"utf-8\">\n",
    "        <title>Hello World</title>\n",
    "      </head>\n",
    "    <body>\n",
    "    \n",
    "    <table>\n",
    "        <tr>\n",
    "            <th>January</th>\n",
    "            <th>February</th>\n",
    "            <th>March</th>\n",
    "        </tr>\n",
    "        <tr>\n",
    "            <td>31</td>\n",
    "            <td>28</td>\n",
    "            <td>31</td>\n",
    "        </tr>\n",
    "    </table>\n",
    "\n",
    "    </body>\n",
    "</html>\n",
    "```"
   ]
  },
  {
   "cell_type": "markdown",
   "metadata": {},
   "source": [
    "![html-14](../../assets/html-14.png)"
   ]
  },
  {
   "cell_type": "markdown",
   "metadata": {},
   "source": [
    "### Comentarios"
   ]
  },
  {
   "cell_type": "markdown",
   "metadata": {},
   "source": [
    "```html\n",
    "<!-- comentario -->\n",
    "```"
   ]
  }
 ],
 "metadata": {
  "kernel_info": {
   "name": "python3"
  },
  "kernelspec": {
   "display_name": "Python 3",
   "language": "python",
   "name": "python3"
  },
  "language_info": {
   "codemirror_mode": {
    "name": "ipython",
    "version": 3
   },
   "file_extension": ".py",
   "mimetype": "text/x-python",
   "name": "python",
   "nbconvert_exporter": "python",
   "pygments_lexer": "ipython3",
   "version": "3.6.9"
  },
  "nteract": {
   "version": "0.7.1"
  }
 },
 "nbformat": 4,
 "nbformat_minor": 4
}
