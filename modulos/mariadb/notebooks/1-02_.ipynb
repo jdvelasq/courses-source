{
 "cells": [
  {
   "cell_type": "markdown",
   "id": "a1ee22c9-9647-4427-9a09-4b9255fadef7",
   "metadata": {
    "tags": []
   },
   "source": [
    "Conexión a MariaDB usando Python\n",
    "===\n",
    "\n",
    "* Última modificación: Mayo 26, 2022"
   ]
  },
  {
   "cell_type": "markdown",
   "id": "da91b7b5-4853-4ee8-a45a-47046a4ac5fe",
   "metadata": {},
   "source": [
    "Descarga de datos\n",
    "---"
   ]
  },
  {
   "cell_type": "code",
   "execution_count": 1,
   "id": "1d3c355b-7424-411f-af7e-89df9b8631d9",
   "metadata": {},
   "outputs": [],
   "source": [
    "url = \"https://raw.githubusercontent.com/jdvelasq/datalabs/master/datasets/drivers/drivers.csv\"\n",
    "!wget --quiet {url} -P /tmp/"
   ]
  },
  {
   "cell_type": "markdown",
   "id": "4184841f-de02-4bd8-813e-1485c95afd84",
   "metadata": {},
   "source": [
    "Instalación del conector\n",
    "---"
   ]
  },
  {
   "cell_type": "markdown",
   "id": "80bc6074-4217-4630-977b-9c3cf71ffc76",
   "metadata": {},
   "source": [
    "**Ya está incluido en el contenedor**\n",
    "\n",
    "```bash\n",
    "pip3 install mariadb\n",
    "```"
   ]
  },
  {
   "cell_type": "markdown",
   "id": "b7b56140-dc07-4170-943f-11fa22306948",
   "metadata": {},
   "source": [
    "Conexión a MariaDB\n",
    "---"
   ]
  },
  {
   "cell_type": "code",
   "execution_count": 2,
   "id": "90a09042-6ad4-4d15-b3f6-ea448cef42a6",
   "metadata": {},
   "outputs": [],
   "source": [
    "import mariadb\n",
    "\n",
    "conn = mariadb.connect(\n",
    "    user=\"root\",\n",
    "    password=\"\",\n",
    ")\n",
    "\n",
    "cur = conn.cursor()"
   ]
  },
  {
   "cell_type": "markdown",
   "id": "ae61cf78-afe4-44a2-b2fe-52c56a5e1970",
   "metadata": {},
   "source": [
    "Creación de la base de datos y la tabla\n",
    "--"
   ]
  },
  {
   "cell_type": "code",
   "execution_count": 3,
   "id": "97520c7c-92da-434b-8c6f-21595c5778f8",
   "metadata": {},
   "outputs": [],
   "source": [
    "cur.execute(\"DROP DATABASE IF EXISTS demo_db;\")\n",
    "cur.execute(\"CREATE DATABASE demo_db;\")\n",
    "cur.execute(\"USE demo_db;\")\n",
    "cur.execute(\"DROP TABLE IF EXISTS drivers;\")\n",
    "\n",
    "cur.execute(\n",
    "    \"\"\"\n",
    "    CREATE TABLE drivers (\n",
    "        driverId       INT,\n",
    "        name           VARCHAR(20),\n",
    "        ssn            VARCHAR(20),\n",
    "        location       VARCHAR(40),\n",
    "        certified      VARCHAR(20),\n",
    "        wage_plan      VARCHAR(20)\n",
    "    );\n",
    "    \"\"\"\n",
    ")\n",
    "\n",
    "conn.commit()"
   ]
  },
  {
   "cell_type": "markdown",
   "id": "a8231e10-99db-4f0d-a7a4-62c18cdc1f5a",
   "metadata": {},
   "source": [
    "Importación de datos y cierre de la conexión\n",
    "---"
   ]
  },
  {
   "cell_type": "code",
   "execution_count": 4,
   "id": "20ef33f4-1ea7-46cd-93e1-7ee71729dc7d",
   "metadata": {},
   "outputs": [],
   "source": [
    "import pandas as pd\n",
    "\n",
    "drivers = pd.read_csv(\"/tmp/drivers.csv\")\n",
    "\n",
    "for i, row in drivers.iterrows():\n",
    "    sql = \"INSERT INTO drivers VALUES (%s,%s,%s,%s,%s,%s)\"\n",
    "    cur.execute(sql, tuple(row))\n",
    "    conn.commit()\n",
    "\n",
    "conn.close()\n"
   ]
  },
  {
   "cell_type": "markdown",
   "id": "9327d279-0cbf-49b9-8de4-470368319897",
   "metadata": {},
   "source": [
    "Verificación\n",
    "---"
   ]
  },
  {
   "cell_type": "code",
   "execution_count": 5,
   "id": "9bed67c5-8d22-432e-8ea0-61a28e89334b",
   "metadata": {},
   "outputs": [
    {
     "name": "stdout",
     "output_type": "stream",
     "text": [
      "+----------+-------------------+-----------+---------------------------+-----------+-----------+\n",
      "| driverId | name              | ssn       | location                  | certified | wage_plan |\n",
      "+----------+-------------------+-----------+---------------------------+-----------+-----------+\n",
      "|       10 | George Vetticaden | 621011971 | 244-4532 Nulla Rd.        | N         | miles     |\n",
      "|       11 | Jamie Engesser    | 262112338 | 366-4125 Ac Street        | N         | miles     |\n",
      "|       12 | Paul Coddin       | 198041975 | Ap #622-957 Risus. Street | Y         | hours     |\n",
      "|       13 | Joe Niemiec       | 139907145 | 2071 Hendrerit. Ave       | Y         | hours     |\n",
      "|       14 | Adis Cesir        | 820812209 | Ap #810-1228 In St.       | Y         | hours     |\n",
      "+----------+-------------------+-----------+---------------------------+-----------+-----------+\n"
     ]
    }
   ],
   "source": [
    "!mariadb -u root -e \"USE demo_db; SELECT * FROM drivers LIMIT 5;\""
   ]
  }
 ],
 "metadata": {
  "kernelspec": {
   "display_name": "Python 3 (ipykernel)",
   "language": "python",
   "name": "python3"
  },
  "language_info": {
   "codemirror_mode": {
    "name": "ipython",
    "version": 3
   },
   "file_extension": ".py",
   "mimetype": "text/x-python",
   "name": "python",
   "nbconvert_exporter": "python",
   "pygments_lexer": "ipython3",
   "version": "3.8.10"
  }
 },
 "nbformat": 4,
 "nbformat_minor": 5
}
