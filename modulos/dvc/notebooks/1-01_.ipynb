{
 "cells": [
  {
   "cell_type": "markdown",
   "id": "6c43a62a-ae82-480b-9b52-d819277d3b06",
   "metadata": {
    "tags": []
   },
   "source": [
    "Paso 1: Versionamiento de datos\n",
    "===\n",
    "\n",
    "* Ultima modificación: Mayo 14, 2022"
   ]
  },
  {
   "cell_type": "markdown",
   "id": "9f3cebfc-af94-4f8e-8e58-317f6710d0e5",
   "metadata": {},
   "source": [
    "**Este es un proyecto que desarrolla en varios pasos**"
   ]
  },
  {
   "cell_type": "markdown",
   "id": "8a2a1a30-e3c3-4a1c-9935-7655e75214f6",
   "metadata": {},
   "source": [
    "Limpieza del área de trabajo\n",
    "---"
   ]
  },
  {
   "cell_type": "code",
   "execution_count": 1,
   "id": "77be5a02-268c-415b-a31b-88d92b4be9de",
   "metadata": {},
   "outputs": [],
   "source": [
    "!rm -rf dvcdemo dvcstore"
   ]
  },
  {
   "cell_type": "markdown",
   "id": "081743be-1d1b-45ef-94e4-2a6f6e668395",
   "metadata": {},
   "source": [
    "Instalación\n",
    "---"
   ]
  },
  {
   "cell_type": "markdown",
   "id": "b9c128fd-839d-4cd6-a6a1-56e8f576fed7",
   "metadata": {},
   "source": [
    "La instalación se realiza usando `pip`:\n",
    "\n",
    "```bash\n",
    "pip install dvc\n",
    "```"
   ]
  },
  {
   "cell_type": "markdown",
   "id": "635b1d07-d52f-466f-8938-963850e459d5",
   "metadata": {},
   "source": [
    "Creación de una carpeta temporal para el demo\n",
    "---"
   ]
  },
  {
   "cell_type": "code",
   "execution_count": 2,
   "id": "25db84e6-1ef9-410b-a824-fcb33df7ab1f",
   "metadata": {},
   "outputs": [
    {
     "name": "stdout",
     "output_type": "stream",
     "text": [
      "/workspace/dvcdemo\n"
     ]
    }
   ],
   "source": [
    "!mkdir dvcdemo\n",
    "%cd dvcdemo"
   ]
  },
  {
   "cell_type": "markdown",
   "id": "d7445106-15d7-4110-9ed9-ae0e92b91d69",
   "metadata": {
    "tags": []
   },
   "source": [
    "Inicializacion de git\n",
    "---"
   ]
  },
  {
   "cell_type": "code",
   "execution_count": 3,
   "id": "e0a75070-acd1-4aef-9bc3-e412fb1d2ab1",
   "metadata": {},
   "outputs": [
    {
     "name": "stdout",
     "output_type": "stream",
     "text": [
      "Initialized empty Git repository in /workspace/dvcdemo/.git/\n"
     ]
    }
   ],
   "source": [
    "!git init\n",
    "!git config user.email jdvelasq@unal.edu.co\n",
    "!git config user.name jdvelasq"
   ]
  },
  {
   "cell_type": "markdown",
   "id": "a2c99207-44bc-4ef0-838a-7f55ad89a1a0",
   "metadata": {},
   "source": [
    "Inicialización de DVC\n",
    "--"
   ]
  },
  {
   "cell_type": "code",
   "execution_count": 4,
   "id": "b7d32fda-f8fd-4726-b49d-7691c0b53aaf",
   "metadata": {},
   "outputs": [
    {
     "name": "stdout",
     "output_type": "stream",
     "text": [
      "Initialized DVC repository.\n",
      "\n",
      "You can now commit the changes to git.\n",
      "\n",
      "\u001b[31m+---------------------------------------------------------------------+\n",
      "\u001b[0m\u001b[31m|\u001b[0m                                                                     \u001b[31m|\u001b[0m\n",
      "\u001b[31m|\u001b[0m        DVC has enabled anonymous aggregate usage analytics.         \u001b[31m|\u001b[0m\n",
      "\u001b[31m|\u001b[0m     Read the analytics documentation (and how to opt-out) here:     \u001b[31m|\u001b[0m\n",
      "\u001b[31m|\u001b[0m             <\u001b[36mhttps://dvc.org/doc/user-guide/analytics\u001b[39m>              \u001b[31m|\u001b[0m\n",
      "\u001b[31m|\u001b[0m                                                                     \u001b[31m|\u001b[0m\n",
      "\u001b[31m+---------------------------------------------------------------------+\n",
      "\u001b[0m\n",
      "\u001b[33mWhat's next?\u001b[39m\n",
      "\u001b[33m------------\u001b[39m\n",
      "- Check out the documentation: <\u001b[36mhttps://dvc.org/doc\u001b[39m>\n",
      "- Get help and share ideas: <\u001b[36mhttps://dvc.org/chat\u001b[39m>\n",
      "- Star us on GitHub: <\u001b[36mhttps://github.com/iterative/dvc\u001b[39m>\n",
      "\u001b[0m"
     ]
    }
   ],
   "source": [
    "!dvc init"
   ]
  },
  {
   "cell_type": "markdown",
   "id": "bc4e2c49-c4b9-4149-bf4b-4f1e3b029cb3",
   "metadata": {},
   "source": [
    "Chequeo de la inicialización\n",
    "--"
   ]
  },
  {
   "cell_type": "code",
   "execution_count": 5,
   "id": "3e7bbd24-727e-4e16-a6d1-7905bc93612a",
   "metadata": {},
   "outputs": [
    {
     "name": "stdout",
     "output_type": "stream",
     "text": [
      "On branch master\n",
      "\n",
      "No commits yet\n",
      "\n",
      "Changes to be committed:\n",
      "  (use \"git rm --cached <file>...\" to unstage)\n",
      "\t\u001b[32mnew file:   .dvc/.gitignore\u001b[m\n",
      "\t\u001b[32mnew file:   .dvc/config\u001b[m\n",
      "\t\u001b[32mnew file:   .dvcignore\u001b[m\n",
      "\n"
     ]
    }
   ],
   "source": [
    "!git status"
   ]
  },
  {
   "cell_type": "code",
   "execution_count": 6,
   "id": "4b0ead2a-0df8-4a1c-aea8-e010799b0300",
   "metadata": {},
   "outputs": [
    {
     "name": "stdout",
     "output_type": "stream",
     "text": [
      "total 4\n",
      "drwxr-xr-x  5 root root 160 Jun  7 16:36 .\n",
      "drwxr-xr-x  8 root root 256 Jun  7 16:36 ..\n",
      "drwxr-xr-x  5 root root 160 Jun  7 16:36 .dvc\n",
      "-rw-r--r--  1 root root 139 Jun  7 16:36 .dvcignore\n",
      "drwxr-xr-x 11 root root 352 Jun  7 16:36 .git\n"
     ]
    }
   ],
   "source": [
    "#\n",
    "# Note que en la inicialización se agregaron los archivos\n",
    "#\n",
    "#  .dvc/.gitignore\n",
    "#  .dvc/config\n",
    "#  .dvcignore\n",
    "#\n",
    "# pero seran ignorados por ahora.\n",
    "#\n",
    "!ls -al"
   ]
  },
  {
   "cell_type": "markdown",
   "id": "ff5766ba-0d84-45f0-8480-5efb6e5caac7",
   "metadata": {},
   "source": [
    "Configuración del remoto para almacenar las versiones de los datos\n",
    "--"
   ]
  },
  {
   "cell_type": "code",
   "execution_count": 7,
   "id": "65e84d02-a9f6-4b4b-b25e-45de33aed5a9",
   "metadata": {},
   "outputs": [
    {
     "name": "stdout",
     "output_type": "stream",
     "text": [
      "usage: dvc remote [-h] [-q | -v] {add,default,modify,list,remove,rename} ...\n",
      "\n",
      "Set up and manage data remotes.\n",
      "Documentation: <\u001b[36mhttps://man.dvc.org/remote\u001b[39m>\n",
      "\n",
      "positional arguments:\n",
      "  {add,default,modify,list,remove,rename}\n",
      "                        Use `dvc remote CMD --help` for command-specific help.\n",
      "    add                 Add a new data remote.\n",
      "    default             Set/unset the default data remote.\n",
      "    modify              Modify the configuration of a data remote.\n",
      "    list                List all available data remotes.\n",
      "    remove              Remove a data remote.\n",
      "    rename              Rename a DVC remote\n",
      "\n",
      "optional arguments:\n",
      "  -h, --help            show this help message and exit\n",
      "  -q, --quiet           Be quiet.\n",
      "  -v, --verbose         Be verbose.\n",
      "\u001b[0m"
     ]
    }
   ],
   "source": [
    "#\n",
    "# Opciones del comando remote\n",
    "#\n",
    "!dvc remote --help"
   ]
  },
  {
   "cell_type": "code",
   "execution_count": 8,
   "id": "aa86012c-1440-4d43-bb50-f09e6aa05bfe",
   "metadata": {},
   "outputs": [
    {
     "name": "stdout",
     "output_type": "stream",
     "text": [
      "Setting 'myremote' as a default remote.\n",
      "\u001b[0m"
     ]
    }
   ],
   "source": [
    "#\n",
    "# Almacenamiento en una carpeta local\n",
    "#\n",
    "!dvc remote add --default myremote dvcstore"
   ]
  },
  {
   "cell_type": "code",
   "execution_count": 9,
   "id": "f4d4142d-7c8d-4869-ad13-7f81078c5cc6",
   "metadata": {},
   "outputs": [
    {
     "name": "stdout",
     "output_type": "stream",
     "text": [
      "myremote\t/workspace/dvcdemo/.dvc/../dvcstore\n",
      "\u001b[0m"
     ]
    }
   ],
   "source": [
    "#\n",
    "# Listado de los remotos existentes\n",
    "#\n",
    "!dvc remote list"
   ]
  },
  {
   "cell_type": "code",
   "execution_count": 10,
   "id": "321a2cee-60a3-40bd-ba43-15eab5acf072",
   "metadata": {},
   "outputs": [
    {
     "name": "stdout",
     "output_type": "stream",
     "text": [
      "[master (root-commit) 855072c] Initialize DVC\n",
      " 1 file changed, 4 insertions(+)\n",
      " create mode 100644 .dvc/config\n"
     ]
    }
   ],
   "source": [
    "#\n",
    "# Se almacena la nueva configuración\n",
    "#\n",
    "!git commit .dvc/config -m \"Initialize DVC\"\n",
    "!git tag -a \"initialize\" -m \"Initialize\""
   ]
  },
  {
   "cell_type": "markdown",
   "id": "13b54026-31a5-4df8-a4b1-79ca383bc30e",
   "metadata": {},
   "source": [
    "Creación de la carpeta local de datos\n",
    "---"
   ]
  },
  {
   "cell_type": "code",
   "execution_count": 11,
   "id": "8c682205-60b5-485a-b3e6-ed91e7d02e0f",
   "metadata": {},
   "outputs": [
    {
     "name": "stdout",
     "output_type": "stream",
     "text": [
      "total 0\n",
      "drwxr-xr-x 2 root root 64 Jun  7 16:36 data\n"
     ]
    }
   ],
   "source": [
    "!mkdir -p data\n",
    "!ls -l "
   ]
  },
  {
   "cell_type": "markdown",
   "id": "6b7b0c50-d6f7-4ed6-b650-067b5ce2b4d8",
   "metadata": {},
   "source": [
    "Búsqueda de archivos o directorios\n",
    "--"
   ]
  },
  {
   "cell_type": "code",
   "execution_count": 12,
   "id": "d82d4161-cf9c-4afc-b7cc-13bcf078e16c",
   "metadata": {},
   "outputs": [
    {
     "name": "stdout",
     "output_type": "stream",
     "text": [
      "data.xml                                                                        \n",
      "\u001b[0m"
     ]
    }
   ],
   "source": [
    "repo = \"https://github.com/iterative/dataset-registry\"\n",
    "src = \"get-started/data.xml\"\n",
    "\n",
    "!dvc list {repo} {src}"
   ]
  },
  {
   "cell_type": "markdown",
   "id": "55985bb3-b01b-499e-89c8-fa23677e0f1b",
   "metadata": {},
   "source": [
    "Descarga los datos desde el repositorio de ejemplo de dvc\n",
    "--"
   ]
  },
  {
   "cell_type": "code",
   "execution_count": 13,
   "id": "3c50c702-fa95-478b-a395-597cb9d4cb96",
   "metadata": {},
   "outputs": [
    {
     "name": "stdout",
     "output_type": "stream",
     "text": [
      "\u001b[0m                                                                            "
     ]
    }
   ],
   "source": [
    "dst = \"data/data.xml\"\n",
    "\n",
    "!dvc get {repo} {src} -o {dst}"
   ]
  },
  {
   "cell_type": "code",
   "execution_count": 14,
   "id": "3603e6f2-64ef-40b5-bd51-4be267b47b5b",
   "metadata": {},
   "outputs": [
    {
     "name": "stdout",
     "output_type": "stream",
     "text": [
      "total 15M\n",
      "-rw-r--r-- 1 root root 14M Jun  7 16:37 data.xml\n"
     ]
    }
   ],
   "source": [
    "#\n",
    "# Contenido de la carpeta de datos\n",
    "#\n",
    "!ls -lh data"
   ]
  },
  {
   "cell_type": "markdown",
   "id": "34bd8700-9fcb-4104-89de-b0229844c246",
   "metadata": {},
   "source": [
    "Seguimiento de cambios en los datos\n",
    "---"
   ]
  },
  {
   "cell_type": "code",
   "execution_count": 15,
   "id": "0b0c3574-360c-4977-89cd-845dc3474ac0",
   "metadata": {},
   "outputs": [
    {
     "name": "stdout",
     "output_type": "stream",
     "text": [
      "usage: dvc add [-h] [-q | -v] [-R] [--no-commit] [--external] [--glob]\n",
      "               [--file <filename>] [-o <path>] [--to-remote] [-r <name>]\n",
      "               [-j <number>] [--desc <text>]\n",
      "               targets [targets ...]\n",
      "\n",
      "Track data files or directories with DVC.\n",
      "Documentation: <\u001b[36mhttps://man.dvc.org/add\u001b[39m>\n",
      "\n",
      "positional arguments:\n",
      "  targets               Input files/directories to add.\n",
      "\n",
      "optional arguments:\n",
      "  -h, --help            show this help message and exit\n",
      "  -q, --quiet           Be quiet.\n",
      "  -v, --verbose         Be verbose.\n",
      "  -R, --recursive       Recursively add files under directory targets.\n",
      "  --no-commit           Don't put files/directories into cache.\n",
      "  --external            Allow targets that are outside of the DVC repository.\n",
      "  --glob                Allows targets containing shell-style wildcards.\n",
      "  --file <filename>     Specify name of the .dvc file this command will\n",
      "                        generate.\n",
      "  -o <path>, --out <path>\n",
      "                        Destination path to put files to.\n",
      "  --to-remote           Download it directly to the remote\n",
      "  -r <name>, --remote <name>\n",
      "                        Remote storage to download to\n",
      "  -j <number>, --jobs <number>\n",
      "                        Only used along with '--to-remote'. Number of jobs to\n",
      "                        run simultaneously when pushing data to remote.The\n",
      "                        default value is 4 * cpu_count().\n",
      "  --desc <text>         User description of the data (optional). This doesn't\n",
      "                        affect any DVC operations.\n",
      "\u001b[0m"
     ]
    }
   ],
   "source": [
    "!dvc add --help"
   ]
  },
  {
   "cell_type": "code",
   "execution_count": 16,
   "id": "1b22d774-a6c7-4b94-a6f1-d1f9726f3b4b",
   "metadata": {},
   "outputs": [
    {
     "name": "stdout",
     "output_type": "stream",
     "text": [
      "\u001b[2K\u001b[32m⠙\u001b[0m Checking graphph\n",
      "\u001b[1A\u001b[2K\u001b[0m"
     ]
    }
   ],
   "source": [
    "#\n",
    "# Se inicia el tracking del archivo\n",
    "#\n",
    "!dvc add --quiet data/data.xml"
   ]
  },
  {
   "cell_type": "code",
   "execution_count": 17,
   "id": "bf2acd91-a2e4-495e-b452-179a0dd45704",
   "metadata": {},
   "outputs": [
    {
     "name": "stdout",
     "output_type": "stream",
     "text": [
      "total 14M\n",
      "-rw-r--r-- 1 root root 14M Jun  7 16:38 data.xml\n",
      "-rw-r--r-- 1 root root  80 Jun  7 16:38 data.xml.dvc\n"
     ]
    }
   ],
   "source": [
    "#\n",
    "# Contenido de la carpeta\n",
    "#\n",
    "!ls -lh data/"
   ]
  },
  {
   "cell_type": "code",
   "execution_count": 18,
   "id": "3c2faf95-f55a-48b1-a4c0-e2379f40e5e0",
   "metadata": {},
   "outputs": [
    {
     "name": "stdout",
     "output_type": "stream",
     "text": [
      "outs:\n",
      "- md5: 22a1a2931c8370d3aeedd7183606fd7f\n",
      "  size: 14445097\n",
      "  path: data.xml\n"
     ]
    }
   ],
   "source": [
    "#\n",
    "# Archivo de tracking\n",
    "#\n",
    "!cat data/data.xml.dvc"
   ]
  },
  {
   "cell_type": "code",
   "execution_count": 19,
   "id": "b26a2ab2-69bb-42b1-a282-726c764a70c9",
   "metadata": {},
   "outputs": [
    {
     "name": "stdout",
     "output_type": "stream",
     "text": [
      "[master eacfb96] Add raw data\n",
      " 4 files changed, 11 insertions(+)\n",
      " create mode 100644 .dvc/.gitignore\n",
      " create mode 100644 .dvcignore\n",
      " create mode 100644 data/.gitignore\n",
      " create mode 100644 data/data.xml.dvc\n"
     ]
    }
   ],
   "source": [
    "#\n",
    "# Se adiciona el tracking de los cambios como tal.\n",
    "#\n",
    "!git add data/data.xml.dvc data/.gitignore\n",
    "!git commit -m \"Add raw data\"\n",
    "!git tag -a \"v0\" -m \"raw data\""
   ]
  },
  {
   "cell_type": "markdown",
   "id": "d82c8f28-5f97-4553-81ff-5ac1455e98cf",
   "metadata": {},
   "source": [
    "Almacenamiento de datos en el remoto\n",
    "---"
   ]
  },
  {
   "cell_type": "code",
   "execution_count": 20,
   "id": "20b4aafd-1fe7-43a5-a18d-6b8366d32de5",
   "metadata": {},
   "outputs": [
    {
     "name": "stdout",
     "output_type": "stream",
     "text": [
      "\u001b[0m"
     ]
    }
   ],
   "source": [
    "#\n",
    "# Se almacenan la versión actual de los datos en el remoto\n",
    "#\n",
    "!dvc push --quiet"
   ]
  },
  {
   "cell_type": "markdown",
   "id": "06b65836-5b9e-48f4-8180-caf4a58856ad",
   "metadata": {},
   "source": [
    "Recuperación\n",
    "---"
   ]
  },
  {
   "cell_type": "code",
   "execution_count": 21,
   "id": "34b950f2-9f7b-4137-8878-5cab7068936c",
   "metadata": {},
   "outputs": [
    {
     "name": "stdout",
     "output_type": "stream",
     "text": [
      "\u001b[0m"
     ]
    }
   ],
   "source": [
    "#\n",
    "# Se borran los datos existentes\n",
    "#\n",
    "!rm -rf .dvc/cache\n",
    "!rm -f data/data.xml\n",
    "\n",
    "#\n",
    "# Se recuperan los datos\n",
    "# \n",
    "!dvc pull --quiet"
   ]
  },
  {
   "cell_type": "code",
   "execution_count": 22,
   "id": "4506b705-8e35-4845-9043-d8420383b28e",
   "metadata": {},
   "outputs": [
    {
     "name": "stdout",
     "output_type": "stream",
     "text": [
      "total 14M\n",
      "-rw-r--r-- 1 root root 14M Jun  7 16:38 data.xml\n",
      "-rw-r--r-- 1 root root  80 Jun  7 16:38 data.xml.dvc\n"
     ]
    }
   ],
   "source": [
    "!ls -lh data/"
   ]
  },
  {
   "cell_type": "markdown",
   "id": "65a9fad6-1556-4283-b1c6-88d6e83d16e5",
   "metadata": {},
   "source": [
    "Cambios en los datos\n",
    "---"
   ]
  },
  {
   "cell_type": "code",
   "execution_count": 23,
   "id": "44a12840-78cb-4bbe-93c5-7a3b0eeefc10",
   "metadata": {},
   "outputs": [],
   "source": [
    "#\n",
    "# Simulación de más datos.\n",
    "# Se duplican los datos originales.\n",
    "#\n",
    "!cp data/data.xml /tmp/data.xml\n",
    "!cat /tmp/data.xml >> data/data.xml"
   ]
  },
  {
   "cell_type": "code",
   "execution_count": 24,
   "id": "0dab99a9-9a9b-4c98-846d-82be6df3e433",
   "metadata": {},
   "outputs": [
    {
     "name": "stdout",
     "output_type": "stream",
     "text": [
      "total 28M\n",
      "-rw-r--r-- 1 root root 28M Jun  7 16:38 data.xml\n",
      "-rw-r--r-- 1 root root  80 Jun  7 16:38 data.xml.dvc\n"
     ]
    }
   ],
   "source": [
    "!ls -lh data/"
   ]
  },
  {
   "cell_type": "code",
   "execution_count": 25,
   "id": "2f84e844-df4f-47d7-843d-deae06e756dc",
   "metadata": {},
   "outputs": [
    {
     "name": "stdout",
     "output_type": "stream",
     "text": [
      "\u001b[?25l\u001b[32m⠋\u001b[0m Checking graph\n",
      "\u001b[1A\u001b[2K\u001b[0m"
     ]
    }
   ],
   "source": [
    "#\n",
    "# Se adicionan los datos al tracking\n",
    "#\n",
    "!dvc add --quiet data/data.xml"
   ]
  },
  {
   "cell_type": "code",
   "execution_count": 26,
   "id": "d42c39ed-b004-41cf-8c66-7e6018aca773",
   "metadata": {},
   "outputs": [
    {
     "name": "stdout",
     "output_type": "stream",
     "text": [
      "[master 96d12d8] augmented data\n",
      " 1 file changed, 2 insertions(+), 2 deletions(-)\n"
     ]
    }
   ],
   "source": [
    "!git commit data/data.xml.dvc -m \"augmented data\"\n",
    "!git tag -a \"v1\" -m \"augmented data\""
   ]
  },
  {
   "cell_type": "code",
   "execution_count": 27,
   "id": "ef2bb7e4-10d4-44ec-9531-efcb9038b842",
   "metadata": {},
   "outputs": [
    {
     "name": "stdout",
     "output_type": "stream",
     "text": [
      "\u001b[0m"
     ]
    }
   ],
   "source": [
    "!dvc push --quiet"
   ]
  },
  {
   "cell_type": "markdown",
   "id": "9cccf89c-dfed-4880-aaa0-a3fae360a5e5",
   "metadata": {},
   "source": [
    "Cambios entre versiones de los datos\n",
    "---"
   ]
  },
  {
   "cell_type": "code",
   "execution_count": 28,
   "id": "ed14a874-9431-49b9-b005-355498c1b6d3",
   "metadata": {},
   "outputs": [
    {
     "name": "stdout",
     "output_type": "stream",
     "text": [
      "Updated 1 path from f93a129\n"
     ]
    }
   ],
   "source": [
    "#\n",
    "# Versión anterior de los datos\n",
    "#\n",
    "!git checkout v0 data/data.xml.dvc"
   ]
  },
  {
   "cell_type": "code",
   "execution_count": 29,
   "id": "6118d69a-f071-438d-95d2-3aec55c0b15e",
   "metadata": {},
   "outputs": [
    {
     "name": "stdout",
     "output_type": "stream",
     "text": [
      "total 28M\n",
      "-rw-r--r-- 1 root root 28M Jun  7 16:38 data.xml\n",
      "-rw-r--r-- 1 root root  80 Jun  7 16:39 data.xml.dvc\n"
     ]
    }
   ],
   "source": [
    "!ls -lh data/"
   ]
  },
  {
   "cell_type": "code",
   "execution_count": 30,
   "id": "91397f8d-907d-4414-aa12-25de4c9be798",
   "metadata": {},
   "outputs": [
    {
     "name": "stdout",
     "output_type": "stream",
     "text": [
      "[master 2cd42eb] Revert dataset updates\n",
      " 1 file changed, 2 insertions(+), 2 deletions(-)\n"
     ]
    }
   ],
   "source": [
    "!git commit data/data.xml.dvc -m \"Revert dataset updates\""
   ]
  }
 ],
 "metadata": {
  "kernelspec": {
   "display_name": "Python 3 (ipykernel)",
   "language": "python",
   "name": "python3"
  },
  "language_info": {
   "codemirror_mode": {
    "name": "ipython",
    "version": 3
   },
   "file_extension": ".py",
   "mimetype": "text/x-python",
   "name": "python",
   "nbconvert_exporter": "python",
   "pygments_lexer": "ipython3",
   "version": "3.8.10"
  }
 },
 "nbformat": 4,
 "nbformat_minor": 5
}
