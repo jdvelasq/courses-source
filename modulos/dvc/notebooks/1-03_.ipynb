{
 "cells": [
  {
   "cell_type": "markdown",
   "id": "a386caab-c133-42ba-a6d2-8e963f653781",
   "metadata": {
    "tags": []
   },
   "source": [
    "(Opcional) Paso 3: Métricas, parametros y gráficas\n",
    "===\n",
    "\n",
    "* Ultima modificación: Mayo 14, 2022"
   ]
  },
  {
   "cell_type": "markdown",
   "id": "5e4f9940-a773-42f5-99a5-78474bf5fc2e",
   "metadata": {},
   "source": [
    "**Esta es la continuación del ejemplo anterior**"
   ]
  },
  {
   "cell_type": "code",
   "execution_count": 1,
   "id": "68c7dc69-ea06-4bba-b9e0-47665c415655",
   "metadata": {},
   "outputs": [
    {
     "name": "stdout",
     "output_type": "stream",
     "text": [
      "/workspace/dvcdemo\n"
     ]
    }
   ],
   "source": [
    "%cd dvcdemo"
   ]
  },
  {
   "cell_type": "markdown",
   "id": "9360d513-aff3-4f59-86a8-3e7d9e640d74",
   "metadata": {},
   "source": [
    "Recolección de métricas\n",
    "---"
   ]
  },
  {
   "cell_type": "code",
   "execution_count": 2,
   "id": "326d5eba-96b0-48a4-88d0-267e4ad3a9cb",
   "metadata": {},
   "outputs": [
    {
     "name": "stdout",
     "output_type": "stream",
     "text": [
      "Running stage 'evaluate':                                             core\u001b[39m>\n",
      "> python3 src/evaluate.py model.pkl data/features scores.json prc.json roc.json\n",
      "INFO:dvclive:Report path (if generated): /workspace/dvcdemo/evaluation/report.html\n",
      "Arguments error. Usage:\n",
      "\tpython evaluate.py model features\n",
      "\u001b[31mERROR\u001b[39m: failed to run: python3 src/evaluate.py model.pkl data/features scores.json prc.json roc.json, exited with 1\n",
      "\u001b[0m"
     ]
    }
   ],
   "source": [
    "cmd = \"\"\"\n",
    "dvc run -n evaluate \\\n",
    "          -d src/evaluate.py -d model.pkl -d data/features \\\n",
    "          -M scores.json \\\n",
    "          --plots-no-cache prc.json \\\n",
    "          --plots-no-cache roc.json \\\n",
    "          python3 src/evaluate.py model.pkl \\\n",
    "                  data/features scores.json prc.json roc.json\n",
    "\"\"\"\n",
    "!{cmd}"
   ]
  },
  {
   "cell_type": "code",
   "execution_count": 3,
   "id": "bacc9626-15d2-47a7-a7f0-b3b55597190e",
   "metadata": {},
   "outputs": [
    {
     "name": "stdout",
     "output_type": "stream",
     "text": [
      "stages:\n",
      "  prepare:\n",
      "    cmd: python3 src/prepare.py data/data.xml\n",
      "    deps:\n",
      "    - data/data.xml\n",
      "    - src/prepare.py\n",
      "    params:\n",
      "    - prepare.seed\n",
      "    - prepare.split\n",
      "    outs:\n",
      "    - data/prepared\n",
      "  featurize:\n",
      "    cmd: python3 src/featurization.py data/prepared data/features\n",
      "    deps:\n",
      "    - data/prepared\n",
      "    - src/featurization.py\n",
      "    params:\n",
      "    - featurize.max_features\n",
      "    - featurize.ngrams\n",
      "    outs:\n",
      "    - data/features\n",
      "  train:\n",
      "    cmd: python3 src/train.py data/features model.pkl\n",
      "    deps:\n",
      "    - data/features\n",
      "    - src/train.py\n",
      "    params:\n",
      "    - train.min_split\n",
      "    - train.n_est\n",
      "    - train.seed\n",
      "    outs:\n",
      "    - model.pkl\n"
     ]
    }
   ],
   "source": [
    "!cat dvc.yaml"
   ]
  },
  {
   "cell_type": "code",
   "execution_count": 4,
   "id": "26772aaf-70c5-4cb5-89fd-c104a999febc",
   "metadata": {},
   "outputs": [
    {
     "name": "stdout",
     "output_type": "stream",
     "text": [
      "\u001b[0m                                                                  core\u001b[39m>"
     ]
    }
   ],
   "source": [
    "!dvc metrics show"
   ]
  },
  {
   "cell_type": "code",
   "execution_count": 5,
   "id": "fb256c01-0740-485e-89bd-a3731744f111",
   "metadata": {},
   "outputs": [
    {
     "name": "stdout",
     "output_type": "stream",
     "text": [
      "\u001b[31mERROR\u001b[39m: Unable to find DVC file with output 'prc.json'\n",
      "\u001b[0m"
     ]
    }
   ],
   "source": [
    "!dvc plots modify prc.json -x recall -y precision"
   ]
  },
  {
   "cell_type": "code",
   "execution_count": 6,
   "id": "9e11485e-f7f7-4663-b0d8-65cf755febd9",
   "metadata": {},
   "outputs": [
    {
     "name": "stdout",
     "output_type": "stream",
     "text": [
      "\u001b[31mERROR\u001b[39m: Unable to find DVC file with output 'roc.json'\n",
      "\u001b[0m"
     ]
    }
   ],
   "source": [
    "!dvc plots modify roc.json -x fpr -y tpr"
   ]
  },
  {
   "cell_type": "code",
   "execution_count": 7,
   "id": "d5b8cc17-0459-485b-96f0-40a773338767",
   "metadata": {},
   "outputs": [
    {
     "name": "stdout",
     "output_type": "stream",
     "text": [
      "file:///workspace/dvcdemo/dvc_plots/index.html\n",
      "\u001b[0m"
     ]
    }
   ],
   "source": [
    "!dvc plots show"
   ]
  },
  {
   "cell_type": "code",
   "execution_count": 8,
   "id": "c33beff6-f71f-430c-af94-78caa34e8392",
   "metadata": {},
   "outputs": [
    {
     "name": "stdout",
     "output_type": "stream",
     "text": [
      "fatal: pathspec 'scores.json' did not match any files\n"
     ]
    }
   ],
   "source": [
    "!git add scores.json prc.json roc.json"
   ]
  },
  {
   "cell_type": "code",
   "execution_count": 9,
   "id": "4ad64c60-c400-4190-976c-589859908c7b",
   "metadata": {},
   "outputs": [
    {
     "name": "stdout",
     "output_type": "stream",
     "text": [
      "[master 0a78163] Create evaluation stage\n",
      " 2 files changed, 4 insertions(+), 2 deletions(-)\n"
     ]
    }
   ],
   "source": [
    "!git commit -a -m \"Create evaluation stage\""
   ]
  },
  {
   "cell_type": "code",
   "execution_count": 10,
   "id": "4c5251e9-5f11-4526-9eff-ff28502cdb50",
   "metadata": {},
   "outputs": [
    {
     "name": "stdout",
     "output_type": "stream",
     "text": [
      "stages:\n",
      "  prepare:\n",
      "    cmd: python3 src/prepare.py data/data.xml\n",
      "    deps:\n",
      "    - data/data.xml\n",
      "    - src/prepare.py\n",
      "    params:\n",
      "    - prepare.seed\n",
      "    - prepare.split\n",
      "    outs:\n",
      "    - data/prepared\n",
      "  featurize:\n",
      "    cmd: python3 src/featurization.py data/prepared data/features\n",
      "    deps:\n",
      "    - data/prepared\n",
      "    - src/featurization.py\n",
      "    params:\n",
      "    - featurize.max_features\n",
      "    - featurize.ngrams\n",
      "    outs:\n",
      "    - data/features\n",
      "  train:\n",
      "    cmd: python3 src/train.py data/features model.pkl\n",
      "    deps:\n",
      "    - data/features\n",
      "    - src/train.py\n",
      "    params:\n",
      "    - train.min_split\n",
      "    - train.n_est\n",
      "    - train.seed\n",
      "    outs:\n",
      "    - model.pkl\n"
     ]
    }
   ],
   "source": [
    "!cat dvc.yaml"
   ]
  },
  {
   "cell_type": "code",
   "execution_count": 11,
   "id": "d5aa891a-86d7-4ce3-b96e-3cc9d9d04d37",
   "metadata": {},
   "outputs": [
    {
     "name": "stdout",
     "output_type": "stream",
     "text": [
      "prepare:\n",
      "  split: 0.20\n",
      "  seed: 20170428\n",
      "\n",
      "featurize:\n",
      "  max_features: 100\n",
      "  ngrams: 1\n",
      "\n",
      "train:\n",
      "  seed: 20170428\n",
      "  n_est: 50\n",
      "  min_split: 0.01\n",
      "\n"
     ]
    }
   ],
   "source": [
    "!cat params.yaml"
   ]
  },
  {
   "cell_type": "markdown",
   "id": "494bafcf-3797-4285-b525-581d1279d0a3",
   "metadata": {},
   "source": [
    "Actualización de los parámetros\n",
    "--"
   ]
  },
  {
   "cell_type": "code",
   "execution_count": 12,
   "id": "b3f20e28-18b7-437f-8eaa-4ff34a8903d0",
   "metadata": {},
   "outputs": [
    {
     "name": "stdout",
     "output_type": "stream",
     "text": [
      "Overwriting params.yaml\n"
     ]
    }
   ],
   "source": [
    "%%writefile params.yaml\n",
    "prepare:\n",
    "  split: 0.20\n",
    "  seed: 20170428\n",
    "\n",
    "featurize:\n",
    "  max_features: 1500\n",
    "  ngrams: 2\n",
    "\n",
    "train:\n",
    "  seed: 20170428\n",
    "  n_est: 50\n",
    "  min_split: 2"
   ]
  },
  {
   "cell_type": "code",
   "execution_count": 13,
   "id": "63c3c188-9bae-4da0-86f5-3679aebd6a6a",
   "metadata": {},
   "outputs": [
    {
     "name": "stdout",
     "output_type": "stream",
     "text": [
      "The input data frame data/prepared/train.tsv size is (16011, 3)\n",
      "The output matrix data/features/train.pkl size is (16011, 1502) and data type is float64\n",
      "The input data frame data/prepared/test.tsv size is (3989, 3)\n",
      "The output matrix data/features/test.pkl size is (3989, 1502) and data type is float64\n",
      "Input matrix size (16011, 1502)\n",
      "X matrix size (16011, 1500)\n",
      "Y matrix size (16011,)\n",
      "\u001b[0m"
     ]
    }
   ],
   "source": [
    "!dvc repro --quiet"
   ]
  },
  {
   "cell_type": "markdown",
   "id": "8e249d56-137a-4d71-ba63-3a8a3dfc30c8",
   "metadata": {},
   "source": [
    "Comparación\n",
    "--"
   ]
  },
  {
   "cell_type": "code",
   "execution_count": 14,
   "id": "7ee59dfd-2915-48b6-92f2-d4a031166d27",
   "metadata": {},
   "outputs": [
    {
     "name": "stdout",
     "output_type": "stream",
     "text": [
      "Path         Param                   HEAD    workspace                core\u001b[39m>\n",
      "params.yaml  featurize.max_features  -       1500\n",
      "params.yaml  featurize.ngrams        -       2\n",
      "params.yaml  prepare.seed            -       20170428\n",
      "params.yaml  prepare.split           -       0.2\n",
      "params.yaml  train.min_split         -       2\n",
      "params.yaml  train.n_est             -       50\n",
      "params.yaml  train.seed              -       20170428\n",
      "\u001b[0m"
     ]
    }
   ],
   "source": [
    "!dvc params diff"
   ]
  },
  {
   "cell_type": "code",
   "execution_count": 15,
   "id": "39e81d69-bf1e-456f-a826-d0ec1e31a838",
   "metadata": {},
   "outputs": [
    {
     "name": "stdout",
     "output_type": "stream",
     "text": [
      "\u001b[0m                                                                  core\u001b[39m>"
     ]
    }
   ],
   "source": [
    "!dvc metrics diff"
   ]
  },
  {
   "cell_type": "code",
   "execution_count": 16,
   "id": "506b8298-2a90-4ec0-9458-51545c39d12b",
   "metadata": {},
   "outputs": [
    {
     "name": "stdout",
     "output_type": "stream",
     "text": [
      "file:///workspace/dvcdemo/dvc_plots/index.html\n",
      "\u001b[0m"
     ]
    }
   ],
   "source": [
    "!dvc plots diff"
   ]
  }
 ],
 "metadata": {
  "kernelspec": {
   "display_name": "Python 3 (ipykernel)",
   "language": "python",
   "name": "python3"
  },
  "language_info": {
   "codemirror_mode": {
    "name": "ipython",
    "version": 3
   },
   "file_extension": ".py",
   "mimetype": "text/x-python",
   "name": "python",
   "nbconvert_exporter": "python",
   "pygments_lexer": "ipython3",
   "version": "3.8.10"
  }
 },
 "nbformat": 4,
 "nbformat_minor": 5
}
