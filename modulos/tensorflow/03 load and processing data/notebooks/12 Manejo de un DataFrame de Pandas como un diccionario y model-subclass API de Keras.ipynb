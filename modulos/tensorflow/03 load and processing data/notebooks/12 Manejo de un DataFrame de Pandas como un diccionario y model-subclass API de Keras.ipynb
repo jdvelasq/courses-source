{
 "cells": [
  {
   "cell_type": "markdown",
   "id": "d5879847-68cc-4e8b-b348-66f3e5f10808",
   "metadata": {
    "tags": []
   },
   "source": [
    "Manejo de un DataFrame de Pandas como un diccionario y model-subclass --- 6:10 min\n",
    "===\n",
    "\n",
    "* Última modificación: Mayo 6, 2022 | [YouTube](https://youtu.be/bol6NQiEHN0)"
   ]
  },
  {
   "cell_type": "code",
   "execution_count": 1,
   "id": "a36516d0-946b-49f0-ba99-c30e1d4defd4",
   "metadata": {},
   "outputs": [],
   "source": [
    "import os\n",
    "\n",
    "os.environ[\"TF_CPP_MIN_LOG_LEVEL\"] = \"2\"\n",
    "\n",
    "import pandas as pd\n",
    "import tensorflow as tf"
   ]
  },
  {
   "cell_type": "markdown",
   "id": "a3f30a79-9cc6-4bc3-ac8c-2598b72cec6c",
   "metadata": {},
   "source": [
    "Lectura de datos usando Pandas\n",
    "---"
   ]
  },
  {
   "cell_type": "code",
   "execution_count": 2,
   "id": "098aaaeb-2995-4456-be18-fb31c2e9fb34",
   "metadata": {},
   "outputs": [],
   "source": [
    "SHUFFLE_BUFFER = 500\n",
    "BATCH_SIZE = 2"
   ]
  },
  {
   "cell_type": "code",
   "execution_count": 3,
   "id": "ede6cb59-fc0b-4749-a7b4-7c9daf0aa5d0",
   "metadata": {},
   "outputs": [],
   "source": [
    "csv_file = tf.keras.utils.get_file(\n",
    "    \"heart.csv\",\n",
    "    \"https://storage.googleapis.com/download.tensorflow.org/data/heart.csv\",\n",
    ")"
   ]
  },
  {
   "cell_type": "code",
   "execution_count": 4,
   "id": "946528f1-0ab3-4c07-9e59-9f684bfe883a",
   "metadata": {},
   "outputs": [],
   "source": [
    "#\n",
    "# Lecura\n",
    "#\n",
    "df = pd.read_csv(csv_file)\n",
    "target = df.pop(\"target\")"
   ]
  },
  {
   "cell_type": "markdown",
   "id": "18ba3f47-0529-45b2-af8d-d2a5a7770e79",
   "metadata": {},
   "source": [
    "Extracción de características numéricas\n",
    "---"
   ]
  },
  {
   "cell_type": "code",
   "execution_count": 5,
   "id": "c34c44d1-a079-4f8a-8c70-0d8010edef9a",
   "metadata": {},
   "outputs": [
    {
     "data": {
      "text/html": [
       "<div>\n",
       "<style scoped>\n",
       "    .dataframe tbody tr th:only-of-type {\n",
       "        vertical-align: middle;\n",
       "    }\n",
       "\n",
       "    .dataframe tbody tr th {\n",
       "        vertical-align: top;\n",
       "    }\n",
       "\n",
       "    .dataframe thead th {\n",
       "        text-align: right;\n",
       "    }\n",
       "</style>\n",
       "<table border=\"1\" class=\"dataframe\">\n",
       "  <thead>\n",
       "    <tr style=\"text-align: right;\">\n",
       "      <th></th>\n",
       "      <th>age</th>\n",
       "      <th>thalach</th>\n",
       "      <th>trestbps</th>\n",
       "      <th>chol</th>\n",
       "      <th>oldpeak</th>\n",
       "    </tr>\n",
       "  </thead>\n",
       "  <tbody>\n",
       "    <tr>\n",
       "      <th>0</th>\n",
       "      <td>63</td>\n",
       "      <td>150</td>\n",
       "      <td>145</td>\n",
       "      <td>233</td>\n",
       "      <td>2.3</td>\n",
       "    </tr>\n",
       "    <tr>\n",
       "      <th>1</th>\n",
       "      <td>67</td>\n",
       "      <td>108</td>\n",
       "      <td>160</td>\n",
       "      <td>286</td>\n",
       "      <td>1.5</td>\n",
       "    </tr>\n",
       "    <tr>\n",
       "      <th>2</th>\n",
       "      <td>67</td>\n",
       "      <td>129</td>\n",
       "      <td>120</td>\n",
       "      <td>229</td>\n",
       "      <td>2.6</td>\n",
       "    </tr>\n",
       "    <tr>\n",
       "      <th>3</th>\n",
       "      <td>37</td>\n",
       "      <td>187</td>\n",
       "      <td>130</td>\n",
       "      <td>250</td>\n",
       "      <td>3.5</td>\n",
       "    </tr>\n",
       "    <tr>\n",
       "      <th>4</th>\n",
       "      <td>41</td>\n",
       "      <td>172</td>\n",
       "      <td>130</td>\n",
       "      <td>204</td>\n",
       "      <td>1.4</td>\n",
       "    </tr>\n",
       "  </tbody>\n",
       "</table>\n",
       "</div>"
      ],
      "text/plain": [
       "   age  thalach  trestbps  chol  oldpeak\n",
       "0   63      150       145   233      2.3\n",
       "1   67      108       160   286      1.5\n",
       "2   67      129       120   229      2.6\n",
       "3   37      187       130   250      3.5\n",
       "4   41      172       130   204      1.4"
      ]
     },
     "execution_count": 5,
     "metadata": {},
     "output_type": "execute_result"
    }
   ],
   "source": [
    "numeric_feature_names = [\n",
    "    \"age\",\n",
    "    \"thalach\",\n",
    "    \"trestbps\",\n",
    "    \"chol\",\n",
    "    \"oldpeak\",\n",
    "]\n",
    "numeric_features = df[numeric_feature_names]\n",
    "numeric_features.head()"
   ]
  },
  {
   "cell_type": "markdown",
   "id": "06f6bf0f-e62f-4313-a0c3-e88f86d91d9e",
   "metadata": {},
   "source": [
    "Manejo como un diccionario\n",
    "---"
   ]
  },
  {
   "cell_type": "markdown",
   "id": "731b7344-3f3a-4a8d-8942-52fb504c1c67",
   "metadata": {},
   "source": [
    "**Este modelo puede aceptar un diccionario de columnas o un dataset de elementos tipo diccionario para entrenamiento**"
   ]
  },
  {
   "cell_type": "code",
   "execution_count": 6,
   "id": "936e3604-885f-46fd-8a92-565ce1f7f6bb",
   "metadata": {},
   "outputs": [
    {
     "name": "stdout",
     "output_type": "stream",
     "text": [
      "Epoch 1/5\n",
      "152/152 [==============================] - 3s 22ms/step - loss: 0.7125 - accuracy: 0.6865\n",
      "Epoch 2/5\n",
      "152/152 [==============================] - 3s 22ms/step - loss: 0.5787 - accuracy: 0.7327\n",
      "Epoch 3/5\n",
      "152/152 [==============================] - 3s 21ms/step - loss: 0.5072 - accuracy: 0.7294\n",
      "Epoch 4/5\n",
      "152/152 [==============================] - 3s 23ms/step - loss: 0.4793 - accuracy: 0.7393\n",
      "Epoch 5/5\n",
      "152/152 [==============================] - 3s 22ms/step - loss: 0.4676 - accuracy: 0.7591\n"
     ]
    },
    {
     "data": {
      "text/plain": [
       "<keras.callbacks.History at 0x7fca40591bb0>"
      ]
     },
     "execution_count": 6,
     "metadata": {},
     "output_type": "execute_result"
    }
   ],
   "source": [
    "#\n",
    "# Caso 1: Diccionario de columnas\n",
    "#\n",
    "def stack_dict(inputs, fun=tf.stack):\n",
    "    values = []\n",
    "    for key in sorted(inputs.keys()):\n",
    "        values.append(tf.cast(inputs[key], tf.float32))\n",
    "\n",
    "    return fun(values, axis=-1)\n",
    "\n",
    "\n",
    "class MyModel(tf.keras.Model):\n",
    "    def __init__(self):\n",
    "        super().__init__(self)\n",
    "\n",
    "        self.normalizer = tf.keras.layers.Normalization(axis=-1)\n",
    "\n",
    "        self.sequential = tf.keras.Sequential(\n",
    "            [\n",
    "                self.normalizer,\n",
    "                tf.keras.layers.Dense(10, activation=\"relu\"),\n",
    "                tf.keras.layers.Dense(10, activation=\"relu\"),\n",
    "                tf.keras.layers.Dense(1),\n",
    "            ]\n",
    "        )\n",
    "\n",
    "    def adapt(self, inputs):\n",
    "        inputs = stack_dict(inputs)\n",
    "        self.normalizer.adapt(inputs)\n",
    "\n",
    "    def call(self, inputs):\n",
    "        inputs = stack_dict(inputs)\n",
    "        result = self.sequential(inputs)\n",
    "        return result\n",
    "\n",
    "\n",
    "model = MyModel()\n",
    "\n",
    "model.adapt(\n",
    "    #\n",
    "    # Diccionario de columnas\n",
    "    #\n",
    "    dict(numeric_features),\n",
    ")\n",
    "\n",
    "model.compile(\n",
    "    optimizer=\"adam\",\n",
    "    loss=tf.keras.losses.BinaryCrossentropy(from_logits=True),\n",
    "    metrics=[\"accuracy\"],\n",
    "    run_eagerly=True,\n",
    ")\n",
    "\n",
    "model.fit(\n",
    "    #\n",
    "    # Diccionario de columnas\n",
    "    #\n",
    "    dict(numeric_features),\n",
    "    target,\n",
    "    epochs=5,\n",
    "    batch_size=BATCH_SIZE,\n",
    ")"
   ]
  },
  {
   "cell_type": "code",
   "execution_count": 7,
   "id": "40859c01-0751-4c7c-811d-ea1c7a8c69bb",
   "metadata": {},
   "outputs": [
    {
     "name": "stdout",
     "output_type": "stream",
     "text": [
      "Epoch 1/5\n",
      "152/152 [==============================] - 3s 21ms/step - loss: 0.4581 - accuracy: 0.7624\n",
      "Epoch 2/5\n",
      "152/152 [==============================] - 3s 20ms/step - loss: 0.4521 - accuracy: 0.7690\n",
      "Epoch 3/5\n",
      "152/152 [==============================] - 3s 20ms/step - loss: 0.4461 - accuracy: 0.7756\n",
      "Epoch 4/5\n",
      "152/152 [==============================] - 3s 20ms/step - loss: 0.4405 - accuracy: 0.7789\n",
      "Epoch 5/5\n",
      "152/152 [==============================] - 3s 20ms/step - loss: 0.4356 - accuracy: 0.7789\n"
     ]
    },
    {
     "data": {
      "text/plain": [
       "<keras.callbacks.History at 0x7fcad44f13d0>"
      ]
     },
     "execution_count": 7,
     "metadata": {},
     "output_type": "execute_result"
    }
   ],
   "source": [
    "#\n",
    "# Opción 2: Dataset de TF\n",
    "#\n",
    "numeric_dict_ds = tf.data.Dataset.from_tensor_slices(\n",
    "    (dict(numeric_features), target),\n",
    ")\n",
    "\n",
    "numeric_dict_batches = numeric_dict_ds.shuffle(SHUFFLE_BUFFER)\n",
    "numeric_dict_batches = numeric_dict_batches.batch(BATCH_SIZE)\n",
    "\n",
    "model.fit(\n",
    "    numeric_dict_batches,\n",
    "    epochs=5,\n",
    ")"
   ]
  },
  {
   "cell_type": "code",
   "execution_count": 8,
   "id": "88e99b19-c672-404f-bb75-72cac25b377f",
   "metadata": {},
   "outputs": [
    {
     "data": {
      "text/plain": [
       "array([[[0.2139862 ]],\n",
       "\n",
       "       [[0.38692302]],\n",
       "\n",
       "       [[0.62569433]]], dtype=float32)"
      ]
     },
     "execution_count": 8,
     "metadata": {},
     "output_type": "execute_result"
    }
   ],
   "source": [
    "#\n",
    "# Pronóstico\n",
    "#\n",
    "model.predict(dict(numeric_features.iloc[:3]))"
   ]
  }
 ],
 "metadata": {
  "kernelspec": {
   "display_name": "Python 3 (ipykernel)",
   "language": "python",
   "name": "python3"
  },
  "language_info": {
   "codemirror_mode": {
    "name": "ipython",
    "version": 3
   },
   "file_extension": ".py",
   "mimetype": "text/x-python",
   "name": "python",
   "nbconvert_exporter": "python",
   "pygments_lexer": "ipython3",
   "version": "3.8.10"
  }
 },
 "nbformat": 4,
 "nbformat_minor": 5
}
