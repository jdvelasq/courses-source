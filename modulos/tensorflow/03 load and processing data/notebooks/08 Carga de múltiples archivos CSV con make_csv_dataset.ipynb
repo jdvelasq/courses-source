{
 "cells": [
  {
   "cell_type": "markdown",
   "id": "b5fddc30-2711-47b6-a1f3-1eb69f7546ac",
   "metadata": {
    "tags": []
   },
   "source": [
    "Carga de múltiples archivos CSV con make_csv_dataset --- 6:59 min\n",
    "===\n",
    "\n",
    "* Última modificación: Mayo 6, 2022 | [YouTube](https://youtu.be/WQ5XM4ubK4w)"
   ]
  },
  {
   "cell_type": "markdown",
   "id": "2557137a-4cc0-4dd2-b1cd-7c089618636a",
   "metadata": {
    "tags": []
   },
   "source": [
    "Importación de librerías\n",
    "---"
   ]
  },
  {
   "cell_type": "code",
   "execution_count": 1,
   "id": "b812628e-8a9b-4e62-a616-9f0cf0f7e4d7",
   "metadata": {},
   "outputs": [],
   "source": [
    "import os\n",
    "\n",
    "os.environ[\"TF_CPP_MIN_LOG_LEVEL\"] = \"2\"\n",
    "\n",
    "import tensorflow as tf"
   ]
  },
  {
   "cell_type": "markdown",
   "id": "e4ae3f17-f579-481e-8fa8-fba6fcc97591",
   "metadata": {},
   "source": [
    "Descarga de los archivos\n",
    "---"
   ]
  },
  {
   "cell_type": "code",
   "execution_count": 9,
   "id": "ae6dadf6-637c-4a55-a381-20e95447d8ac",
   "metadata": {},
   "outputs": [
    {
     "name": "stdout",
     "output_type": "stream",
     "text": [
      "Downloading data from https://archive.ics.uci.edu/ml/machine-learning-databases/00417/fonts.zip\n",
      "160317440/160313983 [==============================] - 7s 0us/step\n",
      "160325632/160313983 [==============================] - 7s 0us/step\n"
     ]
    }
   ],
   "source": [
    "fonts_zip = tf.keras.utils.get_file(\n",
    "    \"fonts.zip\",\n",
    "    \"https://archive.ics.uci.edu/ml/machine-learning-databases/00417/fonts.zip\",\n",
    "    cache_dir=\".\",\n",
    "    cache_subdir=\"/tmp/fonts\",\n",
    "    extract=True,\n",
    ")"
   ]
  },
  {
   "cell_type": "code",
   "execution_count": 10,
   "id": "6bca3590-3f2e-4caf-87ba-289c4d642d6c",
   "metadata": {},
   "outputs": [
    {
     "data": {
      "text/plain": [
       "['/tmp/fonts/AGENCY.csv',\n",
       " '/tmp/fonts/ARIAL.csv',\n",
       " '/tmp/fonts/BAITI.csv',\n",
       " '/tmp/fonts/BANKGOTHIC.csv',\n",
       " '/tmp/fonts/BASKERVILLE.csv',\n",
       " '/tmp/fonts/BAUHAUS.csv',\n",
       " '/tmp/fonts/BELL.csv',\n",
       " '/tmp/fonts/BERLIN.csv',\n",
       " '/tmp/fonts/BERNARD.csv',\n",
       " '/tmp/fonts/BITSTREAMVERA.csv']"
      ]
     },
     "execution_count": 10,
     "metadata": {},
     "output_type": "execute_result"
    }
   ],
   "source": [
    "import pathlib\n",
    "\n",
    "font_csvs = sorted(str(p) for p in pathlib.Path(\"/tmp/fonts\").glob(\"*.csv\"))\n",
    "\n",
    "font_csvs[:10]"
   ]
  },
  {
   "cell_type": "code",
   "execution_count": 12,
   "id": "61d62817-1688-4527-bc19-ebc1a7101a4e",
   "metadata": {},
   "outputs": [
    {
     "data": {
      "text/plain": [
       "153"
      ]
     },
     "execution_count": 12,
     "metadata": {},
     "output_type": "execute_result"
    }
   ],
   "source": [
    "len(font_csvs)"
   ]
  },
  {
   "cell_type": "markdown",
   "id": "439bb8bf-2778-4061-ac72-6dd279645afa",
   "metadata": {},
   "source": [
    "Creación del CSV\n",
    "---"
   ]
  },
  {
   "cell_type": "code",
   "execution_count": 11,
   "id": "0b9f1d12-7ed3-471b-b6f2-b2b8fd4995a8",
   "metadata": {},
   "outputs": [],
   "source": [
    "fonts_ds = tf.data.experimental.make_csv_dataset(\n",
    "    file_pattern=\"/tmp/fonts/*.csv\",\n",
    "    batch_size=10,\n",
    "    num_epochs=1,\n",
    "    num_parallel_reads=20,\n",
    "    shuffle_buffer_size=10000,\n",
    ")"
   ]
  },
  {
   "cell_type": "markdown",
   "id": "da64e351-a2a9-44b1-98b4-3f13c6ed5f69",
   "metadata": {},
   "source": [
    "Recorrido del archivo\n",
    "---"
   ]
  },
  {
   "cell_type": "code",
   "execution_count": 13,
   "id": "311a6db5-51bb-45f4-937b-906783ee1131",
   "metadata": {},
   "outputs": [
    {
     "name": "stdout",
     "output_type": "stream",
     "text": [
      "font                : [b'MONOTXT' b'VIN' b'SITKA' b'GOUDY' b'MONOTXT' b'RAVIE' b'MONOTYPE'\n",
      " b'SITKA' b'GUNPLAY' b'VINETA']\n",
      "fontVariant         : [b'MONOTXT' b'scanned' b'SITKA TEXT' b'GOUDY STOUT' b'MONOTXT' b'RAVIE'\n",
      " b'MONOTYPE CORSIVA' b'SITKA TEXT' b'GUNPLAY' b'VINETA BT']\n",
      "m_label             : [227  49 416  88 243 221 944 323  89  51]\n",
      "strength            : [0.4 0.4 0.4 0.4 0.4 0.4 0.4 0.4 0.4 0.4]\n",
      "italic              : [0 0 0 1 0 1 0 0 1 0]\n",
      "orientation         : [0. 0. 0. 0. 0. 0. 0. 0. 0. 0.]\n",
      "m_top               : [33  0 53 38 29 21 38 37 32 36]\n",
      "m_left              : [28  0 23 25 28 32 25 23 35 23]\n",
      "originalH           : [45 61 45 51 49 71 44 60 47 54]\n",
      "originalW           : [33  6 50 90 33 65 28 45 40 55]\n",
      "h                   : [20 20 20 20 20 20 20 20 20 20]\n",
      "w                   : [20 20 20 20 20 20 20 20 20 20]\n",
      "r0c0                : [ 1 37  1  1  1  1  1  1  1  1]\n",
      "r0c1                : [  1  37   1   1   1   1   1   1 182   1]\n",
      "r0c2                : [  1  37   1   1   1   1   1   1 255   7]\n",
      "r0c3                : [ 15  86   1   1   1   1   1   1 255 101]\n",
      "...\n",
      "[total: 412 features]\n"
     ]
    }
   ],
   "source": [
    "for features in fonts_ds.take(1):\n",
    "    for i, (name, value) in enumerate(features.items()):\n",
    "        if i > 15:\n",
    "            break\n",
    "        print(f\"{name:20s}: {value}\")\n",
    "print(\"...\")\n",
    "print(f\"[total: {len(features)} features]\")"
   ]
  },
  {
   "cell_type": "markdown",
   "id": "84f6434f-417f-4092-b1ee-a103f452ff45",
   "metadata": {},
   "source": [
    "Empaquetamiento de pixels\n",
    "---"
   ]
  },
  {
   "cell_type": "code",
   "execution_count": 14,
   "id": "8aa4acb0-dd59-4306-9c17-aec97435144f",
   "metadata": {},
   "outputs": [],
   "source": [
    "import re\n",
    "\n",
    "\n",
    "def make_images(features):\n",
    "    image = [None] * 400\n",
    "    new_feats = {}\n",
    "\n",
    "    for name, value in features.items():\n",
    "        match = re.match(\"r(\\d+)c(\\d+)\", name)\n",
    "        if match:\n",
    "            image[int(match.group(1)) * 20 + int(match.group(2))] = value\n",
    "        else:\n",
    "            new_feats[name] = value\n",
    "\n",
    "    image = tf.stack(image, axis=0)\n",
    "    image = tf.reshape(image, [20, 20, -1])\n",
    "    new_feats[\"image\"] = image\n",
    "\n",
    "    return new_feats"
   ]
  },
  {
   "cell_type": "markdown",
   "id": "c0e702ce-b7a0-432d-897c-8eeed2513cb0",
   "metadata": {},
   "source": [
    "Aplicación de la función a cada batch\n",
    "---"
   ]
  },
  {
   "cell_type": "code",
   "execution_count": 15,
   "id": "d9b54806-177a-4395-bb9f-82ae7714e6b9",
   "metadata": {},
   "outputs": [],
   "source": [
    "fonts_image_ds = fonts_ds.map(make_images)\n",
    "\n",
    "for features in fonts_image_ds.take(1):\n",
    "    break"
   ]
  },
  {
   "cell_type": "markdown",
   "id": "8c51b3c5-07e9-4cdb-a2a4-2f5073f6ef14",
   "metadata": {},
   "source": [
    "Gráficos\n",
    "---"
   ]
  },
  {
   "cell_type": "code",
   "execution_count": 16,
   "id": "5a043e90-5cf0-469f-bb48-ccc04ce5426c",
   "metadata": {},
   "outputs": [
    {
     "data": {
      "image/png": "[encoded data removed]",
      "text/plain": [
       "<Figure size 720x720 with 9 Axes>"
      ]
     },
     "metadata": {
      "needs_background": "light"
     },
     "output_type": "display_data"
    }
   ],
   "source": [
    "from matplotlib import pyplot as plt\n",
    "\n",
    "plt.figure(figsize=(6, 6), dpi=120)\n",
    "\n",
    "for n in range(9):\n",
    "    plt.subplot(3, 3, n + 1)\n",
    "    plt.imshow(features[\"image\"][..., n])\n",
    "    plt.title(chr(features[\"m_label\"][n]))\n",
    "    plt.axis(\"off\")"
   ]
  }
 ],
 "metadata": {
  "kernelspec": {
   "display_name": "Python 3 (ipykernel)",
   "language": "python",
   "name": "python3"
  },
  "language_info": {
   "codemirror_mode": {
    "name": "ipython",
    "version": 3
   },
   "file_extension": ".py",
   "mimetype": "text/x-python",
   "name": "python",
   "nbconvert_exporter": "python",
   "pygments_lexer": "ipython3",
   "version": "3.8.10"
  }
 },
 "nbformat": 4,
 "nbformat_minor": 5
}
