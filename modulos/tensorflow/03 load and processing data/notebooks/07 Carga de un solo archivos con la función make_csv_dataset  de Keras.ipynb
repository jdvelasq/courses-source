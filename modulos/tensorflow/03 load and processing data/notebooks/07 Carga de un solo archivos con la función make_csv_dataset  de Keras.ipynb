{
 "cells": [
  {
   "cell_type": "markdown",
   "id": "6bdfc23e-9f15-42b3-9bb4-b6a902a601a9",
   "metadata": {
    "tags": []
   },
   "source": [
    "Carga de un solo archivos con make_csv_dataset --- 2:46 min\n",
    "===\n",
    "\n",
    "* Última modificación: Mayo 6, 2022 | [YouTube](https://youtu.be/i7JXfV2Eidg)"
   ]
  },
  {
   "cell_type": "markdown",
   "id": "f798a6ea-a6fe-4da2-a6a2-7a84e6688095",
   "metadata": {
    "tags": []
   },
   "source": [
    "Importación de librerías\n",
    "---"
   ]
  },
  {
   "cell_type": "code",
   "execution_count": 1,
   "id": "0062e83c-0868-484b-8fca-bc8af19fc049",
   "metadata": {},
   "outputs": [],
   "source": [
    "import os\n",
    "\n",
    "os.environ[\"TF_CPP_MIN_LOG_LEVEL\"] = \"2\"\n",
    "\n",
    "import tensorflow as tf"
   ]
  },
  {
   "cell_type": "markdown",
   "id": "00b82f14-4032-4d60-8ae9-2d2347084150",
   "metadata": {},
   "source": [
    "Descarga del archivo\n",
    "---"
   ]
  },
  {
   "cell_type": "code",
   "execution_count": 2,
   "id": "da0ba1d1-88cf-42a1-8d77-0915084a9010",
   "metadata": {},
   "outputs": [],
   "source": [
    "titanic_file_path = tf.keras.utils.get_file(\n",
    "    \"train.csv\",\n",
    "    \"https://storage.googleapis.com/tf-datasets/titanic/train.csv\",\n",
    ")"
   ]
  },
  {
   "cell_type": "markdown",
   "id": "0211135d-186f-4ba7-bea5-43fad1db336a",
   "metadata": {},
   "source": [
    "Creación del CSV\n",
    "---"
   ]
  },
  {
   "cell_type": "code",
   "execution_count": 3,
   "id": "02476bf2-4e86-4215-b22d-ec969841b7ec",
   "metadata": {},
   "outputs": [],
   "source": [
    "titanic_csv_ds = tf.data.experimental.make_csv_dataset(\n",
    "    titanic_file_path,\n",
    "    batch_size=5,\n",
    "    label_name=\"survived\",\n",
    "    num_epochs=1,\n",
    "    ignore_errors=True,\n",
    ")"
   ]
  },
  {
   "cell_type": "markdown",
   "id": "0e3085e6-0f9d-4b0c-99b0-beaa586c7e91",
   "metadata": {},
   "source": [
    "Recorrido del archivo\n",
    "---"
   ]
  },
  {
   "cell_type": "code",
   "execution_count": 4,
   "id": "d1a8977a-b5cc-4c95-83ae-45bb6447ce02",
   "metadata": {},
   "outputs": [
    {
     "name": "stdout",
     "output_type": "stream",
     "text": [
      "sex                 : [b'male' b'male' b'male' b'female' b'male']\n",
      "age                 : [28. 22. 36. 58. 43.]\n",
      "n_siblings_spouses  : [0 0 0 0 1]\n",
      "parch               : [0 0 0 0 1]\n",
      "fare                : [  7.75     7.25    26.3875 146.5208  26.25  ]\n",
      "class               : [b'Third' b'Third' b'First' b'First' b'Second']\n",
      "deck                : [b'unknown' b'unknown' b'E' b'B' b'unknown']\n",
      "embark_town         : [b'Queenstown' b'Southampton' b'Southampton' b'Cherbourg' b'Southampton']\n",
      "alone               : [b'y' b'y' b'y' b'y' b'n']\n",
      "label               : [0 0 1 1 0]\n"
     ]
    }
   ],
   "source": [
    "for features, label in titanic_csv_ds.take(1):\n",
    "    for key, value in features.items():\n",
    "        print(f\"{key:20s}: {value}\")\n",
    "    print(f\"{'label':20s}: {label}\")"
   ]
  }
 ],
 "metadata": {
  "kernelspec": {
   "display_name": "Python 3 (ipykernel)",
   "language": "python",
   "name": "python3"
  },
  "language_info": {
   "codemirror_mode": {
    "name": "ipython",
    "version": 3
   },
   "file_extension": ".py",
   "mimetype": "text/x-python",
   "name": "python",
   "nbconvert_exporter": "python",
   "pygments_lexer": "ipython3",
   "version": "3.8.10"
  }
 },
 "nbformat": 4,
 "nbformat_minor": 5
}
