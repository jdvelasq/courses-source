{
 "cells": [
  {
   "cell_type": "markdown",
   "id": "35ea20ce-fb1a-4649-bff3-795cf7cf3abf",
   "metadata": {
    "tags": []
   },
   "source": [
    "Entrenamiento personalizado --- 0:00 min\n",
    "===\n",
    "\n",
    "* Última modificación: Marzo 1, 2022 | YouTube"
   ]
  },
  {
   "cell_type": "markdown",
   "id": "4391aae8-d933-429f-a99a-0b4d966839dd",
   "metadata": {
    "tags": []
   },
   "source": [
    "Importación de librerías\n",
    "---"
   ]
  },
  {
   "cell_type": "code",
   "execution_count": 1,
   "id": "a193d875-36dd-4cb9-a106-e92d277375a5",
   "metadata": {},
   "outputs": [],
   "source": [
    "import os\n",
    "\n",
    "os.environ[\"TF_CPP_MIN_LOG_LEVEL\"] = \"2\"\n",
    "\n",
    "import matplotlib.pyplot as plt\n",
    "import tensorflow as tf\n",
    "import tensorflow_datasets as tfds"
   ]
  },
  {
   "cell_type": "markdown",
   "id": "9b857048-5772-4572-b68c-8a9ac3d1e53e",
   "metadata": {},
   "source": [
    "Importación de datos sin preprocesar para inspección\n",
    "---"
   ]
  },
  {
   "cell_type": "code",
   "execution_count": 2,
   "id": "1d6ec204-b142-417f-997c-1cfde6bf6836",
   "metadata": {},
   "outputs": [],
   "source": [
    "ds_preview, info = tfds.load(\n",
    "    \"penguins/simple\",\n",
    "    split=\"train\",\n",
    "    with_info=True,\n",
    ")\n",
    "\n",
    "df = tfds.as_dataframe(ds_preview.take(5), info)"
   ]
  },
  {
   "cell_type": "code",
   "execution_count": 3,
   "id": "ccdb3fe2-4bc0-4e53-9f76-fba0f070382c",
   "metadata": {},
   "outputs": [
    {
     "data": {
      "text/html": [
       "<style type=\"text/css\">\n",
       "</style>\n",
       "<table id=\"T_d22dd\">\n",
       "  <thead>\n",
       "    <tr>\n",
       "      <th class=\"blank level0\" >&nbsp;</th>\n",
       "      <th id=\"T_d22dd_level0_col0\" class=\"col_heading level0 col0\" >body_mass_g</th>\n",
       "      <th id=\"T_d22dd_level0_col1\" class=\"col_heading level0 col1\" >culmen_depth_mm</th>\n",
       "      <th id=\"T_d22dd_level0_col2\" class=\"col_heading level0 col2\" >culmen_length_mm</th>\n",
       "      <th id=\"T_d22dd_level0_col3\" class=\"col_heading level0 col3\" >flipper_length_mm</th>\n",
       "      <th id=\"T_d22dd_level0_col4\" class=\"col_heading level0 col4\" >island</th>\n",
       "      <th id=\"T_d22dd_level0_col5\" class=\"col_heading level0 col5\" >sex</th>\n",
       "      <th id=\"T_d22dd_level0_col6\" class=\"col_heading level0 col6\" >species</th>\n",
       "    </tr>\n",
       "  </thead>\n",
       "  <tbody>\n",
       "    <tr>\n",
       "      <th id=\"T_d22dd_level0_row0\" class=\"row_heading level0 row0\" >0</th>\n",
       "      <td id=\"T_d22dd_row0_col0\" class=\"data row0 col0\" >4200.0</td>\n",
       "      <td id=\"T_d22dd_row0_col1\" class=\"data row0 col1\" >13.899999618530273</td>\n",
       "      <td id=\"T_d22dd_row0_col2\" class=\"data row0 col2\" >45.5</td>\n",
       "      <td id=\"T_d22dd_row0_col3\" class=\"data row0 col3\" >210.0</td>\n",
       "      <td id=\"T_d22dd_row0_col4\" class=\"data row0 col4\" >0 (Biscoe)</td>\n",
       "      <td id=\"T_d22dd_row0_col5\" class=\"data row0 col5\" >0 (FEMALE)</td>\n",
       "      <td id=\"T_d22dd_row0_col6\" class=\"data row0 col6\" >2 (Gentoo)</td>\n",
       "    </tr>\n",
       "    <tr>\n",
       "      <th id=\"T_d22dd_level0_row1\" class=\"row_heading level0 row1\" >1</th>\n",
       "      <td id=\"T_d22dd_row1_col0\" class=\"data row1 col0\" >4650.0</td>\n",
       "      <td id=\"T_d22dd_row1_col1\" class=\"data row1 col1\" >13.699999809265137</td>\n",
       "      <td id=\"T_d22dd_row1_col2\" class=\"data row1 col2\" >40.900001525878906</td>\n",
       "      <td id=\"T_d22dd_row1_col3\" class=\"data row1 col3\" >214.0</td>\n",
       "      <td id=\"T_d22dd_row1_col4\" class=\"data row1 col4\" >0 (Biscoe)</td>\n",
       "      <td id=\"T_d22dd_row1_col5\" class=\"data row1 col5\" >0 (FEMALE)</td>\n",
       "      <td id=\"T_d22dd_row1_col6\" class=\"data row1 col6\" >2 (Gentoo)</td>\n",
       "    </tr>\n",
       "    <tr>\n",
       "      <th id=\"T_d22dd_level0_row2\" class=\"row_heading level0 row2\" >2</th>\n",
       "      <td id=\"T_d22dd_row2_col0\" class=\"data row2 col0\" >5300.0</td>\n",
       "      <td id=\"T_d22dd_row2_col1\" class=\"data row2 col1\" >14.199999809265137</td>\n",
       "      <td id=\"T_d22dd_row2_col2\" class=\"data row2 col2\" >51.29999923706055</td>\n",
       "      <td id=\"T_d22dd_row2_col3\" class=\"data row2 col3\" >218.0</td>\n",
       "      <td id=\"T_d22dd_row2_col4\" class=\"data row2 col4\" >0 (Biscoe)</td>\n",
       "      <td id=\"T_d22dd_row2_col5\" class=\"data row2 col5\" >1 (MALE)</td>\n",
       "      <td id=\"T_d22dd_row2_col6\" class=\"data row2 col6\" >2 (Gentoo)</td>\n",
       "    </tr>\n",
       "    <tr>\n",
       "      <th id=\"T_d22dd_level0_row3\" class=\"row_heading level0 row3\" >3</th>\n",
       "      <td id=\"T_d22dd_row3_col0\" class=\"data row3 col0\" >5650.0</td>\n",
       "      <td id=\"T_d22dd_row3_col1\" class=\"data row3 col1\" >15.0</td>\n",
       "      <td id=\"T_d22dd_row3_col2\" class=\"data row3 col2\" >47.79999923706055</td>\n",
       "      <td id=\"T_d22dd_row3_col3\" class=\"data row3 col3\" >215.0</td>\n",
       "      <td id=\"T_d22dd_row3_col4\" class=\"data row3 col4\" >0 (Biscoe)</td>\n",
       "      <td id=\"T_d22dd_row3_col5\" class=\"data row3 col5\" >1 (MALE)</td>\n",
       "      <td id=\"T_d22dd_row3_col6\" class=\"data row3 col6\" >2 (Gentoo)</td>\n",
       "    </tr>\n",
       "    <tr>\n",
       "      <th id=\"T_d22dd_level0_row4\" class=\"row_heading level0 row4\" >4</th>\n",
       "      <td id=\"T_d22dd_row4_col0\" class=\"data row4 col0\" >5050.0</td>\n",
       "      <td id=\"T_d22dd_row4_col1\" class=\"data row4 col1\" >15.800000190734863</td>\n",
       "      <td id=\"T_d22dd_row4_col2\" class=\"data row4 col2\" >46.29999923706055</td>\n",
       "      <td id=\"T_d22dd_row4_col3\" class=\"data row4 col3\" >215.0</td>\n",
       "      <td id=\"T_d22dd_row4_col4\" class=\"data row4 col4\" >0 (Biscoe)</td>\n",
       "      <td id=\"T_d22dd_row4_col5\" class=\"data row4 col5\" >1 (MALE)</td>\n",
       "      <td id=\"T_d22dd_row4_col6\" class=\"data row4 col6\" >2 (Gentoo)</td>\n",
       "    </tr>\n",
       "  </tbody>\n",
       "</table>\n"
      ],
      "text/plain": [
       "   body_mass_g  culmen_depth_mm  culmen_length_mm  flipper_length_mm  island  \\\n",
       "0       4200.0             13.9         45.500000              210.0       0   \n",
       "1       4650.0             13.7         40.900002              214.0       0   \n",
       "2       5300.0             14.2         51.299999              218.0       0   \n",
       "3       5650.0             15.0         47.799999              215.0       0   \n",
       "4       5050.0             15.8         46.299999              215.0       0   \n",
       "\n",
       "   sex  species  \n",
       "0    0        2  \n",
       "1    0        2  \n",
       "2    1        2  \n",
       "3    1        2  \n",
       "4    1        2  "
      ]
     },
     "execution_count": 3,
     "metadata": {},
     "output_type": "execute_result"
    }
   ],
   "source": [
    "df"
   ]
  },
  {
   "cell_type": "code",
   "execution_count": 4,
   "id": "d2a10813-662f-47a2-ae8c-78c1aa4866b1",
   "metadata": {},
   "outputs": [
    {
     "data": {
      "text/plain": [
       "FeaturesDict({\n",
       "    'body_mass_g': tf.float32,\n",
       "    'culmen_depth_mm': tf.float32,\n",
       "    'culmen_length_mm': tf.float32,\n",
       "    'flipper_length_mm': tf.float32,\n",
       "    'island': ClassLabel(shape=(), dtype=tf.int64, num_classes=3),\n",
       "    'sex': ClassLabel(shape=(), dtype=tf.int64, num_classes=3),\n",
       "    'species': ClassLabel(shape=(), dtype=tf.int64, num_classes=3),\n",
       "})"
      ]
     },
     "execution_count": 4,
     "metadata": {},
     "output_type": "execute_result"
    }
   ],
   "source": [
    "info.features"
   ]
  },
  {
   "cell_type": "code",
   "execution_count": 5,
   "id": "cedabfb3-d94d-43d3-8d4b-08c8aa9db0be",
   "metadata": {},
   "outputs": [],
   "source": [
    "# 0: Adélie penguin\n",
    "# 1: Chinstrap penguin\n",
    "# 2: Gentoo penguin\n",
    "\n",
    "class_names = [\"Adélie\", \"Chinstrap\", \"Gentoo\"]"
   ]
  },
  {
   "cell_type": "markdown",
   "id": "68f4168e-4f43-445b-9814-5bf07bd41358",
   "metadata": {},
   "source": [
    "Descarga del dataset preprocesado\n",
    "---"
   ]
  },
  {
   "cell_type": "code",
   "execution_count": 6,
   "id": "b12ca3b3-d85c-4fb1-8857-a20190c9f49b",
   "metadata": {},
   "outputs": [
    {
     "name": "stdout",
     "output_type": "stream",
     "text": [
      "FeaturesDict({\n",
      "    'features': Tensor(shape=(4,), dtype=tf.float32),\n",
      "    'species': ClassLabel(shape=(), dtype=tf.int64, num_classes=3),\n",
      "})\n",
      "Test dataset sample: \n",
      "                                         features  species\n",
      "0  [0.6545454, 0.22619048, 0.89830506, 0.6388889]        2\n",
      "1        [0.36, 0.04761905, 0.6440678, 0.4027778]        2\n",
      "2       [0.68, 0.30952382, 0.91525424, 0.6944444]        2\n",
      "3   [0.6181818, 0.20238096, 0.8135593, 0.6805556]        2\n",
      "4  [0.5527273, 0.26190478, 0.84745765, 0.7083333]        2\n",
      "\n",
      "\n",
      "Train dataset sample: \n",
      "                                         features  species\n",
      "0  [0.49818182, 0.6904762, 0.42372882, 0.4027778]        0\n",
      "1      [0.48, 0.071428575, 0.6440678, 0.44444445]        2\n",
      "2    [0.7236364, 0.9047619, 0.6440678, 0.5833333]        1\n",
      "3  [0.34545454, 0.5833333, 0.33898306, 0.3472222]        0\n",
      "4       [0.10909091, 0.75, 0.3559322, 0.41666666]        0\n"
     ]
    }
   ],
   "source": [
    "ds_split, info = tfds.load(\n",
    "    \"penguins/processed\",\n",
    "    split=[\"train[:20%]\", \"train[20%:]\"],\n",
    "    as_supervised=True,\n",
    "    with_info=True,\n",
    ")\n",
    "\n",
    "ds_test = ds_split[0]\n",
    "ds_train = ds_split[1]\n",
    "assert isinstance(ds_test, tf.data.Dataset)\n",
    "\n",
    "print(info.features)\n",
    "df_test = tfds.as_dataframe(ds_test.take(5), info)\n",
    "print(\"Test dataset sample: \")\n",
    "print(df_test)\n",
    "print()\n",
    "print()\n",
    "\n",
    "df_train = tfds.as_dataframe(ds_train.take(5), info)\n",
    "print(\"Train dataset sample: \")\n",
    "print(df_train)\n",
    "\n",
    "ds_train_batch = ds_train.batch(32)"
   ]
  },
  {
   "cell_type": "code",
   "execution_count": 7,
   "id": "7b0405f9-e88c-4802-9310-5a80dbba0395",
   "metadata": {},
   "outputs": [
    {
     "name": "stdout",
     "output_type": "stream",
     "text": [
      "tf.Tensor(\n",
      "[[0.49818182 0.6904762  0.42372882 0.4027778 ]\n",
      " [0.48       0.07142857 0.6440678  0.44444445]\n",
      " [0.7236364  0.9047619  0.6440678  0.5833333 ]\n",
      " [0.34545454 0.5833333  0.33898306 0.3472222 ]\n",
      " [0.10909091 0.75       0.3559322  0.41666666]\n",
      " [0.6690909  0.63095236 0.47457626 0.19444445]\n",
      " [0.8036364  0.9166667  0.4915254  0.44444445]\n",
      " [0.4909091  0.75       0.37288135 0.22916667]\n",
      " [0.33454546 0.85714287 0.37288135 0.2361111 ]\n",
      " [0.32       0.41666666 0.2542373  0.1388889 ]\n",
      " [0.41454545 0.5952381  0.5084746  0.19444445]\n",
      " [0.14909092 0.48809522 0.2542373  0.125     ]\n",
      " [0.23636363 0.4642857  0.27118644 0.05555556]\n",
      " [0.22181818 0.5952381  0.22033899 0.3472222 ]\n",
      " [0.24727273 0.5595238  0.15254237 0.25694445]\n",
      " [0.63272727 0.35714287 0.88135594 0.8194444 ]\n",
      " [0.47272727 0.15476191 0.6440678  0.4722222 ]\n",
      " [0.6036364  0.23809524 0.84745765 0.7361111 ]\n",
      " [0.26909092 0.5595238  0.27118644 0.16666667]\n",
      " [0.28       0.71428573 0.20338982 0.5416667 ]\n",
      " [0.10545454 0.5714286  0.33898306 0.2847222 ]\n",
      " [0.18545455 0.5952381  0.10169491 0.33333334]\n",
      " [0.47272727 0.16666667 0.7288136  0.6388889 ]\n",
      " [0.45090908 0.1904762  0.7118644  0.5972222 ]\n",
      " [0.49454546 0.5        0.3559322  0.25      ]\n",
      " [0.6363636  0.22619048 0.7457627  0.5694444 ]\n",
      " [0.08727273 0.5952381  0.2542373  0.05555556]\n",
      " [0.52       0.22619048 0.7457627  0.5555556 ]\n",
      " [0.5090909  0.23809524 0.7288136  0.6666667 ]\n",
      " [0.56       0.22619048 0.779661   0.625     ]\n",
      " [0.6363636  0.3452381  0.89830506 0.8333333 ]\n",
      " [0.15636364 0.47619048 0.20338982 0.04166667]], shape=(32, 4), dtype=float32)\n",
      "tf.Tensor([0 2 1 0 0 1 1 1 0 1 1 0 0 0 0 2 2 2 0 0 0 0 2 2 1 2 0 2 2 2 2 0], shape=(32,), dtype=int64)\n"
     ]
    }
   ],
   "source": [
    "features, labels = next(iter(ds_train_batch))\n",
    "\n",
    "print(features)\n",
    "print(labels)"
   ]
  },
  {
   "cell_type": "code",
   "execution_count": 8,
   "id": "72f155f6-21a8-466f-9393-f8b9f7c32ecf",
   "metadata": {},
   "outputs": [
    {
     "data": {
      "image/png": "[encoded data removed]",
      "text/plain": [
       "<Figure size 432x288 with 1 Axes>"
      ]
     },
     "metadata": {
      "needs_background": "light"
     },
     "output_type": "display_data"
    }
   ],
   "source": [
    "plt.scatter(features[:, 0], features[:, 2], c=labels, cmap=\"viridis\")\n",
    "\n",
    "plt.xlabel(\"Body Mass\")\n",
    "plt.ylabel(\"Culmen Length\")\n",
    "plt.show()"
   ]
  },
  {
   "cell_type": "markdown",
   "id": "0ce7f5c8-8e66-4768-88be-003a7bd0bc6a",
   "metadata": {},
   "source": [
    "Construcción de un modelo usando Keras\n",
    "---"
   ]
  },
  {
   "cell_type": "code",
   "execution_count": 9,
   "id": "a2a9706f-707d-4a60-87ce-d665e77fb5f6",
   "metadata": {},
   "outputs": [],
   "source": [
    "model = tf.keras.Sequential(\n",
    "    [\n",
    "        tf.keras.layers.Dense(10, activation=tf.nn.relu, input_shape=(4,)),\n",
    "        tf.keras.layers.Dense(10, activation=tf.nn.relu),\n",
    "        tf.keras.layers.Dense(3),\n",
    "    ]\n",
    ")"
   ]
  },
  {
   "cell_type": "markdown",
   "id": "6e327d4e-3099-43a9-9304-88fdad85fa8f",
   "metadata": {},
   "source": [
    "Uso del modelo\n",
    "---"
   ]
  },
  {
   "cell_type": "code",
   "execution_count": 10,
   "id": "d3e2abfa-60c6-41fb-b711-3e2dbdfbc295",
   "metadata": {},
   "outputs": [
    {
     "data": {
      "text/plain": [
       "<tf.Tensor: shape=(5, 3), dtype=float32, numpy=\n",
       "array([[-0.4678175 , -0.18254259,  0.28926557],\n",
       "       [-0.2955722 , -0.12463523,  0.16737409],\n",
       "       [-0.6495056 , -0.25587952,  0.40303886],\n",
       "       [-0.3737625 , -0.13161825,  0.2184594 ],\n",
       "       [-0.4069265 , -0.07425484,  0.17582989]], dtype=float32)>"
      ]
     },
     "execution_count": 10,
     "metadata": {},
     "output_type": "execute_result"
    }
   ],
   "source": [
    "predictions = model(features)\n",
    "predictions[:5]"
   ]
  },
  {
   "cell_type": "code",
   "execution_count": 11,
   "id": "3604d46d-c732-4e8d-a386-d19754b5676a",
   "metadata": {},
   "outputs": [
    {
     "data": {
      "text/plain": [
       "<tf.Tensor: shape=(5, 3), dtype=float32, numpy=\n",
       "array([[0.22410592, 0.29808947, 0.4778046 ],\n",
       "       [0.26488915, 0.3142687 , 0.4208421 ],\n",
       "       [0.18701105, 0.27721512, 0.5357739 ],\n",
       "       [0.24497919, 0.3120981 , 0.44292265],\n",
       "       [0.23891109, 0.33320674, 0.4278822 ]], dtype=float32)>"
      ]
     },
     "execution_count": 11,
     "metadata": {},
     "output_type": "execute_result"
    }
   ],
   "source": [
    "#\n",
    "# uso de la función softmax\n",
    "#\n",
    "tf.nn.softmax(predictions[:5])"
   ]
  },
  {
   "cell_type": "code",
   "execution_count": 12,
   "id": "5e46820c-be9e-48e7-998f-973a2ef96817",
   "metadata": {},
   "outputs": [
    {
     "name": "stdout",
     "output_type": "stream",
     "text": [
      "Prediction: [2 2 2 2 2 2 2 2 2 2 2 2 2 2 2 2 2 2 2 2 2 2 2 2 2 2 2 2 2 2 2 2]\n",
      "    Labels: [0 2 1 0 0 1 1 1 0 1 1 0 0 0 0 2 2 2 0 0 0 0 2 2 1 2 0 2 2 2 2 0]\n"
     ]
    }
   ],
   "source": [
    "print(\"Prediction: {}\".format(tf.argmax(predictions, axis=1)))\n",
    "print(\"    Labels: {}\".format(labels))"
   ]
  },
  {
   "cell_type": "markdown",
   "id": "9624a06d-8383-4322-b239-827fe7708450",
   "metadata": {},
   "source": [
    "Entrenamiento del modelo\n",
    "---"
   ]
  },
  {
   "cell_type": "markdown",
   "id": "95c3816c-1a62-4c63-bbbc-607ac1ecb8ee",
   "metadata": {},
   "source": [
    "**Definición de la función de pérdida y el gradiente**"
   ]
  },
  {
   "cell_type": "code",
   "execution_count": 13,
   "id": "213bd1d1-d9ea-4f0d-b2d9-73f80253ba34",
   "metadata": {},
   "outputs": [],
   "source": [
    "loss_object = tf.keras.losses.SparseCategoricalCrossentropy(from_logits=True)"
   ]
  },
  {
   "cell_type": "code",
   "execution_count": 14,
   "id": "fa2400f1-a883-4771-b7a5-fdf40b31e43d",
   "metadata": {},
   "outputs": [
    {
     "name": "stdout",
     "output_type": "stream",
     "text": [
      "Loss test: 1.1693785190582275\n"
     ]
    }
   ],
   "source": [
    "def loss(model, x, y, training):\n",
    "    #\n",
    "    # training=training es necesario para capas que tienen comportamiento\n",
    "    # diferente durante el entrenamiento y la inferencia.\n",
    "    #\n",
    "    y_ = model(x, training=training)\n",
    "\n",
    "    return loss_object(y_true=y, y_pred=y_)\n",
    "\n",
    "\n",
    "l = loss(model, features, labels, training=False)\n",
    "print(\"Loss test: {}\".format(l))"
   ]
  },
  {
   "cell_type": "code",
   "execution_count": 15,
   "id": "29bdab39-c47d-4b0e-9f7f-d0205dee311b",
   "metadata": {},
   "outputs": [],
   "source": [
    "def grad(model, inputs, targets):\n",
    "    with tf.GradientTape() as tape:\n",
    "        loss_value = loss(model, inputs, targets, training=True)\n",
    "    return loss_value, tape.gradient(loss_value, model.trainable_variables)"
   ]
  },
  {
   "cell_type": "markdown",
   "id": "ae59c776-4708-46b0-b359-9a28562b5253",
   "metadata": {},
   "source": [
    "**Creación del optimizador**"
   ]
  },
  {
   "cell_type": "code",
   "execution_count": 16,
   "id": "07dc7a05-3181-42e3-8e97-de24146b2222",
   "metadata": {},
   "outputs": [],
   "source": [
    "optimizer = tf.keras.optimizers.SGD(\n",
    "    learning_rate=0.01,\n",
    ")"
   ]
  },
  {
   "cell_type": "code",
   "execution_count": 17,
   "id": "ec6611b3-3935-4520-8666-77a2351c4db9",
   "metadata": {},
   "outputs": [
    {
     "name": "stdout",
     "output_type": "stream",
     "text": [
      "Step: 0, Initial Loss: 1.1693785190582275\n",
      "Step: 1,         Loss: 1.164750576019287\n"
     ]
    }
   ],
   "source": [
    "loss_value, grads = grad(model, features, labels)\n",
    "\n",
    "print(\n",
    "    \"Step: {}, Initial Loss: {}\".format(\n",
    "        optimizer.iterations.numpy(), loss_value.numpy()\n",
    "    )\n",
    ")\n",
    "\n",
    "optimizer.apply_gradients(zip(grads, model.trainable_variables))\n",
    "\n",
    "print(\n",
    "    \"Step: {},         Loss: {}\".format(\n",
    "        optimizer.iterations.numpy(),\n",
    "        loss(model, features, labels, training=True).numpy(),\n",
    "    )\n",
    ")"
   ]
  },
  {
   "cell_type": "markdown",
   "id": "8bf680da-42fd-46bf-9719-92f1216a12b3",
   "metadata": {},
   "source": [
    "**Ciclo de entrenamiento**"
   ]
  },
  {
   "cell_type": "code",
   "execution_count": 18,
   "id": "4ab2537a-6298-4161-be44-f7bb756148b3",
   "metadata": {},
   "outputs": [
    {
     "name": "stdout",
     "output_type": "stream",
     "text": [
      "Epoch 000: Loss: 1.155, Accuracy: 35.581%\n",
      "Epoch 050: Loss: 0.598, Accuracy: 80.524%\n",
      "Epoch 100: Loss: 0.347, Accuracy: 86.517%\n",
      "Epoch 150: Loss: 0.208, Accuracy: 96.255%\n",
      "Epoch 200: Loss: 0.140, Accuracy: 97.004%\n"
     ]
    }
   ],
   "source": [
    "train_loss_results = []\n",
    "train_accuracy_results = []\n",
    "\n",
    "num_epochs = 201\n",
    "\n",
    "for epoch in range(num_epochs):\n",
    "    epoch_loss_avg = tf.keras.metrics.Mean()\n",
    "    epoch_accuracy = tf.keras.metrics.SparseCategoricalAccuracy()\n",
    "\n",
    "    for x, y in ds_train_batch:\n",
    "\n",
    "        loss_value, grads = grad(model, x, y)\n",
    "        optimizer.apply_gradients(zip(grads, model.trainable_variables))\n",
    "\n",
    "        epoch_loss_avg.update_state(loss_value)  # Add current batch loss\n",
    "        epoch_accuracy.update_state(y, model(x, training=True))\n",
    "\n",
    "    train_loss_results.append(epoch_loss_avg.result())\n",
    "    train_accuracy_results.append(epoch_accuracy.result())\n",
    "\n",
    "    if epoch % 50 == 0:\n",
    "        print(\n",
    "            \"Epoch {:03d}: Loss: {:.3f}, Accuracy: {:.3%}\".format(\n",
    "                epoch, epoch_loss_avg.result(), epoch_accuracy.result()\n",
    "            )\n",
    "        )"
   ]
  },
  {
   "cell_type": "markdown",
   "id": "57a539a3-f280-44a2-94e4-482defbd4cac",
   "metadata": {},
   "source": [
    "**Visualización de los resultados por iteración**"
   ]
  },
  {
   "cell_type": "code",
   "execution_count": 19,
   "id": "dc4e217d-88a4-4248-952a-b47245b86419",
   "metadata": {},
   "outputs": [
    {
     "data": {
      "image/png": "[encoded data removed]",
      "text/plain": [
       "<Figure size 864x576 with 2 Axes>"
      ]
     },
     "metadata": {
      "needs_background": "light"
     },
     "output_type": "display_data"
    }
   ],
   "source": [
    "fig, axes = plt.subplots(2, sharex=True, figsize=(12, 8))\n",
    "fig.suptitle(\"Training Metrics\")\n",
    "\n",
    "axes[0].set_ylabel(\"Loss\", fontsize=14)\n",
    "axes[0].plot(train_loss_results)\n",
    "\n",
    "axes[1].set_ylabel(\"Accuracy\", fontsize=14)\n",
    "axes[1].set_xlabel(\"Epoch\", fontsize=14)\n",
    "axes[1].plot(train_accuracy_results)\n",
    "plt.show()"
   ]
  },
  {
   "cell_type": "markdown",
   "id": "8dfc5408-3d58-4aaa-b36d-b7f3003ace8f",
   "metadata": {},
   "source": [
    "Evaluación del modelo\n",
    "---"
   ]
  },
  {
   "cell_type": "code",
   "execution_count": 20,
   "id": "7df6685c-fd49-4bb3-b2ba-14ca392e6cd9",
   "metadata": {},
   "outputs": [
    {
     "name": "stdout",
     "output_type": "stream",
     "text": [
      "Test set accuracy: 97.015%\n"
     ]
    }
   ],
   "source": [
    "test_accuracy = tf.keras.metrics.Accuracy()\n",
    "ds_test_batch = ds_test.batch(10)\n",
    "\n",
    "for (x, y) in ds_test_batch:\n",
    "    # training=False is needed only if there are layers with different\n",
    "    # behavior during training versus inference (e.g. Dropout).\n",
    "    logits = model(x, training=False)\n",
    "    prediction = tf.argmax(logits, axis=1, output_type=tf.int64)\n",
    "    test_accuracy(prediction, y)\n",
    "\n",
    "print(\"Test set accuracy: {:.3%}\".format(test_accuracy.result()))"
   ]
  },
  {
   "cell_type": "code",
   "execution_count": 21,
   "id": "3a0d59b9-7398-4d75-81e0-0e2c0cda2d91",
   "metadata": {},
   "outputs": [
    {
     "data": {
      "text/plain": [
       "<tf.Tensor: shape=(7, 2), dtype=int64, numpy=\n",
       "array([[1, 1],\n",
       "       [0, 0],\n",
       "       [2, 2],\n",
       "       [0, 0],\n",
       "       [1, 1],\n",
       "       [2, 2],\n",
       "       [0, 0]])>"
      ]
     },
     "execution_count": 21,
     "metadata": {},
     "output_type": "execute_result"
    }
   ],
   "source": [
    "tf.stack([y, prediction], axis=1)"
   ]
  },
  {
   "cell_type": "markdown",
   "id": "260f1fb9-8889-4516-8e7f-df010c208093",
   "metadata": {},
   "source": [
    "Uso del modelo\n",
    "---"
   ]
  },
  {
   "cell_type": "code",
   "execution_count": 22,
   "id": "2b9e3a05-d376-4531-924f-64d0cc0615db",
   "metadata": {},
   "outputs": [
    {
     "name": "stdout",
     "output_type": "stream",
     "text": [
      "Example 0 prediction: Adélie (93.8%)\n",
      "Example 1 prediction: Gentoo (98.1%)\n",
      "Example 2 prediction: Chinstrap (88.1%)\n"
     ]
    }
   ],
   "source": [
    "predict_dataset = tf.convert_to_tensor(\n",
    "    [\n",
    "        [\n",
    "            0.3,\n",
    "            0.8,\n",
    "            0.4,\n",
    "            0.5,\n",
    "        ],\n",
    "        [\n",
    "            0.4,\n",
    "            0.1,\n",
    "            0.8,\n",
    "            0.5,\n",
    "        ],\n",
    "        [0.7, 0.9, 0.8, 0.4],\n",
    "    ]\n",
    ")\n",
    "\n",
    "# training=False is needed only if there are layers with different\n",
    "# behavior during training versus inference (e.g. Dropout).\n",
    "predictions = model(predict_dataset, training=False)\n",
    "\n",
    "for i, logits in enumerate(predictions):\n",
    "    class_idx = tf.argmax(logits).numpy()\n",
    "    p = tf.nn.softmax(logits)[class_idx]\n",
    "    name = class_names[class_idx]\n",
    "    print(\"Example {} prediction: {} ({:4.1f}%)\".format(i, name, 100 * p))"
   ]
  }
 ],
 "metadata": {
  "kernelspec": {
   "display_name": "Python 3 (ipykernel)",
   "language": "python",
   "name": "python3"
  },
  "language_info": {
   "codemirror_mode": {
    "name": "ipython",
    "version": 3
   },
   "file_extension": ".py",
   "mimetype": "text/x-python",
   "name": "python",
   "nbconvert_exporter": "python",
   "pygments_lexer": "ipython3",
   "version": "3.9.10"
  }
 },
 "nbformat": 4,
 "nbformat_minor": 5
}
