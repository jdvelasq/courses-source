{
 "cells": [
  {
   "cell_type": "markdown",
   "metadata": {
    "tags": []
   },
   "source": [
    "Pronostico de series de tiempo --- 0:00 min\n",
    "===\n",
    "\n",
    "* Última modificación: Marzo 7, 2022 | YouTube"
   ]
  },
  {
   "cell_type": "markdown",
   "metadata": {
    "tags": []
   },
   "source": [
    "Importación de librerías\n",
    "---"
   ]
  },
  {
   "cell_type": "code",
   "execution_count": 12,
   "metadata": {},
   "outputs": [
    {
     "data": {
      "text/plain": [
       "'2.8.0'"
      ]
     },
     "execution_count": 12,
     "metadata": {},
     "output_type": "execute_result"
    }
   ],
   "source": [
    "import os\n",
    "\n",
    "os.environ[\"TF_CPP_MIN_LOG_LEVEL\"] = \"2\"\n",
    "\n",
    "import tensorflow as tf\n",
    "\n",
    "tf.__version__"
   ]
  },
  {
   "cell_type": "code",
   "execution_count": null,
   "metadata": {
    "id": "7rZnJaGTWQw0"
   },
   "outputs": [],
   "source": [
    "mpl.rcParams[\"figure.figsize\"] = (8, 6)\n",
    "mpl.rcParams[\"axes.grid\"] = False"
   ]
  },
  {
   "cell_type": "markdown",
   "metadata": {},
   "source": [
    "Dataset\n",
    "--"
   ]
  },
  {
   "cell_type": "code",
   "execution_count": null,
   "metadata": {
    "id": "xyv_i85IWInT"
   },
   "outputs": [],
   "source": [
    "zip_path = tf.keras.utils.get_file(\n",
    "    origin=\"https://storage.googleapis.com/tensorflow/tf-keras-datasets/jena_climate_2009_2016.csv.zip\",\n",
    "    fname=\"jena_climate_2009_2016.csv.zip\",\n",
    "    extract=True,\n",
    ")\n",
    "csv_path, _ = os.path.splitext(zip_path)"
   ]
  },
  {
   "cell_type": "code",
   "execution_count": null,
   "metadata": {
    "id": "TX6uGeeeWIkG"
   },
   "outputs": [],
   "source": [
    "df = pd.read_csv(csv_path)\n",
    "df = df[5::6]\n",
    "\n",
    "date_time = pd.to_datetime(df.pop(\"Date Time\"), format=\"%d.%m.%Y %H:%M:%S\")"
   ]
  },
  {
   "cell_type": "code",
   "execution_count": null,
   "metadata": {
    "id": "ojHE-iCCWIhz"
   },
   "outputs": [],
   "source": [
    "df.head()"
   ]
  },
  {
   "cell_type": "code",
   "execution_count": null,
   "metadata": {
    "id": "Vg5XIc5tfNlG"
   },
   "outputs": [],
   "source": [
    "plot_cols = [\"T (degC)\", \"p (mbar)\", \"rho (g/m**3)\"]\n",
    "plot_features = df[plot_cols]\n",
    "plot_features.index = date_time\n",
    "_ = plot_features.plot(subplots=True)\n",
    "\n",
    "plot_features = df[plot_cols][:480]\n",
    "plot_features.index = date_time[:480]\n",
    "_ = plot_features.plot(subplots=True)"
   ]
  },
  {
   "cell_type": "markdown",
   "metadata": {
    "id": "wXWLG0_WBhZS"
   },
   "source": [
    "**Inspección y limpieza**"
   ]
  },
  {
   "cell_type": "code",
   "execution_count": null,
   "metadata": {
    "id": "h510pgKVrrai"
   },
   "outputs": [],
   "source": [
    "df.describe().transpose()"
   ]
  },
  {
   "cell_type": "markdown",
   "metadata": {
    "id": "TzOTnWOoWMGK"
   },
   "source": [
    "* **Velocidad del viento**"
   ]
  },
  {
   "cell_type": "code",
   "execution_count": null,
   "metadata": {
    "id": "qFOq0_80vF4d"
   },
   "outputs": [],
   "source": [
    "#\n",
    "# Velocidad del viento\n",
    "#\n",
    "wv = df[\"wv (m/s)\"]\n",
    "bad_wv = wv == -9999.0\n",
    "wv[bad_wv] = 0.0\n",
    "\n",
    "max_wv = df[\"max. wv (m/s)\"]\n",
    "bad_max_wv = max_wv == -9999.0\n",
    "max_wv[bad_max_wv] = 0.0\n",
    "\n",
    "df[\"wv (m/s)\"].min()"
   ]
  },
  {
   "cell_type": "markdown",
   "metadata": {
    "id": "vtmu2IBPgPG8"
   },
   "source": [
    "**Ingeniería de características**"
   ]
  },
  {
   "cell_type": "markdown",
   "metadata": {
    "id": "FYyEaqiD6j4s"
   },
   "source": [
    "* **Viento**"
   ]
  },
  {
   "cell_type": "code",
   "execution_count": null,
   "metadata": {
    "id": "YO7JGTcWQG2z"
   },
   "outputs": [],
   "source": [
    "plt.hist2d(df[\"wd (deg)\"], df[\"wv (m/s)\"], bins=(50, 50), vmax=400)\n",
    "plt.colorbar()\n",
    "plt.xlabel(\"Wind Direction [deg]\")\n",
    "plt.ylabel(\"Wind Velocity [m/s]\")"
   ]
  },
  {
   "cell_type": "code",
   "execution_count": null,
   "metadata": {
    "id": "6GmSTHXw6lI1"
   },
   "outputs": [],
   "source": [
    "wv = df.pop(\"wv (m/s)\")\n",
    "max_wv = df.pop(\"max. wv (m/s)\")\n",
    "\n",
    "wd_rad = df.pop(\"wd (deg)\") * np.pi / 180\n",
    "\n",
    "df[\"Wx\"] = wv * np.cos(wd_rad)\n",
    "df[\"Wy\"] = wv * np.sin(wd_rad)\n",
    "\n",
    "df[\"max Wx\"] = max_wv * np.cos(wd_rad)\n",
    "df[\"max Wy\"] = max_wv * np.sin(wd_rad)"
   ]
  },
  {
   "cell_type": "code",
   "execution_count": null,
   "metadata": {
    "id": "bMgCG5o2SYKD"
   },
   "outputs": [],
   "source": [
    "plt.hist2d(df[\"Wx\"], df[\"Wy\"], bins=(50, 50), vmax=400)\n",
    "plt.colorbar()\n",
    "plt.xlabel(\"Wind X [m/s]\")\n",
    "plt.ylabel(\"Wind Y [m/s]\")\n",
    "ax = plt.gca()\n",
    "ax.axis(\"tight\")"
   ]
  },
  {
   "cell_type": "markdown",
   "metadata": {
    "id": "_8im1ttOWlRB"
   },
   "source": [
    "* **Time**"
   ]
  },
  {
   "cell_type": "code",
   "execution_count": null,
   "metadata": {
    "id": "LIFf-VjMfnh3"
   },
   "outputs": [],
   "source": [
    "timestamp_s = date_time.map(pd.Timestamp.timestamp)"
   ]
  },
  {
   "cell_type": "code",
   "execution_count": null,
   "metadata": {
    "id": "MBfX6CDwax73"
   },
   "outputs": [],
   "source": [
    "day = 24 * 60 * 60\n",
    "year = (365.2425) * day\n",
    "\n",
    "df[\"Day sin\"] = np.sin(timestamp_s * (2 * np.pi / day))\n",
    "df[\"Day cos\"] = np.cos(timestamp_s * (2 * np.pi / day))\n",
    "df[\"Year sin\"] = np.sin(timestamp_s * (2 * np.pi / year))\n",
    "df[\"Year cos\"] = np.cos(timestamp_s * (2 * np.pi / year))"
   ]
  },
  {
   "cell_type": "code",
   "execution_count": null,
   "metadata": {
    "id": "mXBbTJZfuuTC"
   },
   "outputs": [],
   "source": [
    "plt.plot(np.array(df[\"Day sin\"])[:25])\n",
    "plt.plot(np.array(df[\"Day cos\"])[:25])\n",
    "plt.xlabel(\"Time [h]\")\n",
    "plt.title(\"Time of day signal\")"
   ]
  },
  {
   "cell_type": "code",
   "execution_count": null,
   "metadata": {
    "id": "EN4U1fcMiTYs"
   },
   "outputs": [],
   "source": [
    "fft = tf.signal.rfft(df[\"T (degC)\"])\n",
    "f_per_dataset = np.arange(0, len(fft))\n",
    "\n",
    "n_samples_h = len(df[\"T (degC)\"])\n",
    "hours_per_year = 24 * 365.2524\n",
    "years_per_dataset = n_samples_h / (hours_per_year)\n",
    "\n",
    "f_per_year = f_per_dataset / years_per_dataset\n",
    "plt.step(f_per_year, np.abs(fft))\n",
    "plt.xscale(\"log\")\n",
    "plt.ylim(0, 400000)\n",
    "plt.xlim([0.1, max(plt.xlim())])\n",
    "plt.xticks([1, 365.2524], labels=[\"1/Year\", \"1/day\"])\n",
    "_ = plt.xlabel(\"Frequency (log scale)\")"
   ]
  },
  {
   "cell_type": "markdown",
   "metadata": {
    "id": "2rbL8bSGDHy3"
   },
   "source": [
    "**Particionamiento de los datos**"
   ]
  },
  {
   "cell_type": "code",
   "execution_count": null,
   "metadata": {
    "id": "ia-MPAHxbInX"
   },
   "outputs": [],
   "source": [
    "column_indices = {name: i for i, name in enumerate(df.columns)}\n",
    "\n",
    "n = len(df)\n",
    "train_df = df[0 : int(n * 0.7)]\n",
    "val_df = df[int(n * 0.7) : int(n * 0.9)]\n",
    "test_df = df[int(n * 0.9) :]\n",
    "\n",
    "num_features = df.shape[1]"
   ]
  },
  {
   "cell_type": "markdown",
   "metadata": {
    "id": "-eFckdUUHWmT"
   },
   "source": [
    "**Normalización de los datos**"
   ]
  },
  {
   "cell_type": "code",
   "execution_count": null,
   "metadata": {
    "id": "Eji6njXvHusN"
   },
   "outputs": [],
   "source": [
    "train_mean = train_df.mean()\n",
    "train_std = train_df.std()\n",
    "\n",
    "train_df = (train_df - train_mean) / train_std\n",
    "val_df = (val_df - train_mean) / train_std\n",
    "test_df = (test_df - train_mean) / train_std"
   ]
  },
  {
   "cell_type": "markdown",
   "metadata": {
    "id": "G6ufs8kk9JQw"
   },
   "source": [
    "Now, peek at the distribution of the features. Some features do have long tails, but there are no obvious errors like the `-9999` wind velocity value."
   ]
  },
  {
   "cell_type": "code",
   "execution_count": null,
   "metadata": {
    "id": "T0UYEnkwm8Fe"
   },
   "outputs": [],
   "source": [
    "df_std = (df - train_mean) / train_std\n",
    "df_std = df_std.melt(var_name=\"Column\", value_name=\"Normalized\")\n",
    "plt.figure(figsize=(12, 6))\n",
    "ax = sns.violinplot(x=\"Column\", y=\"Normalized\", data=df_std)\n",
    "_ = ax.set_xticklabels(df.keys(), rotation=90)"
   ]
  },
  {
   "cell_type": "markdown",
   "metadata": {
    "id": "ZBBmdxZ2HgfJ"
   },
   "source": [
    "Data windowing\n",
    "--"
   ]
  },
  {
   "cell_type": "markdown",
   "metadata": {
    "id": "YAhGUVx1jtOy"
   },
   "source": [
    "* Predicción simpre 24 horas en el futuro, usando 24 horas de historia.\n",
    "\n",
    "![assets/raw_window_24h.png](assets/raw_window_24h.png)"
   ]
  },
  {
   "cell_type": "markdown",
   "metadata": {
    "id": "YAhGUVx1jtOy"
   },
   "source": [
    "* Predicción de una hora en el futuro usando 6 horas de historia\n",
    "\n",
    "![assets/raw_window_1h.png](assets/raw_window_1h.png)"
   ]
  },
  {
   "cell_type": "markdown",
   "metadata": {
    "id": "rfx3jGjyziUF"
   },
   "source": [
    "**1. Indces y offsets**"
   ]
  },
  {
   "cell_type": "code",
   "execution_count": null,
   "metadata": {
    "id": "Kem30j8QHxyW"
   },
   "outputs": [],
   "source": [
    "class WindowGenerator:\n",
    "    def __init__(\n",
    "        self,\n",
    "        input_width,\n",
    "        label_width,\n",
    "        shift,\n",
    "        train_df=train_df,\n",
    "        val_df=val_df,\n",
    "        test_df=test_df,\n",
    "        label_columns=None,\n",
    "    ):\n",
    "\n",
    "        self.train_df = train_df\n",
    "        self.val_df = val_df\n",
    "        self.test_df = test_df\n",
    "\n",
    "        self.label_columns = label_columns\n",
    "        if label_columns is not None:\n",
    "            self.label_columns_indices = {\n",
    "                name: i for i, name in enumerate(label_columns)\n",
    "            }\n",
    "        self.column_indices = {name: i for i, name in enumerate(train_df.columns)}\n",
    "\n",
    "        self.input_width = input_width\n",
    "        self.label_width = label_width\n",
    "        self.shift = shift\n",
    "\n",
    "        self.total_window_size = input_width + shift\n",
    "\n",
    "        self.input_slice = slice(0, input_width)\n",
    "        self.input_indices = np.arange(self.total_window_size)[self.input_slice]\n",
    "\n",
    "        self.label_start = self.total_window_size - self.label_width\n",
    "        self.labels_slice = slice(self.label_start, None)\n",
    "        self.label_indices = np.arange(self.total_window_size)[self.labels_slice]\n",
    "\n",
    "    def __repr__(self):\n",
    "        return \"\\n\".join(\n",
    "            [\n",
    "                f\"Total window size: {self.total_window_size}\",\n",
    "                f\"Input indices: {self.input_indices}\",\n",
    "                f\"Label indices: {self.label_indices}\",\n",
    "                f\"Label column name(s): {self.label_columns}\",\n",
    "            ]\n",
    "        )"
   ]
  },
  {
   "cell_type": "code",
   "execution_count": null,
   "metadata": {
    "id": "IsM5kRkz0UwK"
   },
   "outputs": [],
   "source": [
    "w1 = WindowGenerator(\n",
    "    input_width=24,\n",
    "    label_width=1,\n",
    "    shift=24,\n",
    "    label_columns=[\"T (degC)\"],\n",
    ")\n",
    "w1"
   ]
  },
  {
   "cell_type": "code",
   "execution_count": null,
   "metadata": {
    "id": "viwKsYeAKFUn"
   },
   "outputs": [],
   "source": [
    "w2 = WindowGenerator(\n",
    "    input_width=6,\n",
    "    label_width=1,\n",
    "    shift=1,\n",
    "    label_columns=[\"T (degC)\"],\n",
    ")\n",
    "w2"
   ]
  },
  {
   "cell_type": "markdown",
   "metadata": {
    "id": "kJaUyTWQJd-L"
   },
   "source": [
    "**2. Split**"
   ]
  },
  {
   "cell_type": "markdown",
   "metadata": {
    "id": "kJaUyTWQJd-L"
   },
   "source": [
    "![assets/split_window.png](assets/split_window.png)"
   ]
  },
  {
   "cell_type": "code",
   "execution_count": null,
   "metadata": {
    "id": "W4KbxfzqkXPW"
   },
   "outputs": [],
   "source": [
    "def split_window(self, features):\n",
    "\n",
    "    inputs = features[:, self.input_slice, :]\n",
    "\n",
    "    labels = features[:, self.labels_slice, :]\n",
    "\n",
    "    if self.label_columns is not None:\n",
    "        labels = tf.stack(\n",
    "            [labels[:, :, self.column_indices[name]] for name in self.label_columns],\n",
    "            axis=-1,\n",
    "        )\n",
    "\n",
    "    inputs.set_shape([None, self.input_width, None])\n",
    "    labels.set_shape([None, self.label_width, None])\n",
    "\n",
    "    return inputs, labels\n",
    "\n",
    "\n",
    "WindowGenerator.split_window = split_window"
   ]
  },
  {
   "cell_type": "code",
   "execution_count": null,
   "metadata": {
    "id": "YeCWbq6KLmL7"
   },
   "outputs": [],
   "source": [
    "example_window = tf.stack(\n",
    "    [\n",
    "        np.array(train_df[: w2.total_window_size]),\n",
    "        np.array(train_df[100 : 100 + w2.total_window_size]),\n",
    "        np.array(train_df[200 : 200 + w2.total_window_size]),\n",
    "    ]\n",
    ")\n",
    "\n",
    "example_inputs, example_labels = w2.split_window(example_window)\n",
    "\n",
    "print(\"All shapes are: (batch, time, features)\")\n",
    "print(f\"Window shape: {example_window.shape}\")\n",
    "print(f\"Inputs shape: {example_inputs.shape}\")\n",
    "print(f\"Labels shape: {example_labels.shape}\")"
   ]
  },
  {
   "cell_type": "markdown",
   "metadata": {
    "id": "tFZukGXrJoGo"
   },
   "source": [
    "**3. Plot**"
   ]
  },
  {
   "cell_type": "code",
   "execution_count": null,
   "metadata": {
    "id": "fmgd1qkYUWT7"
   },
   "outputs": [],
   "source": [
    "w2.example = example_inputs, example_labels"
   ]
  },
  {
   "cell_type": "code",
   "execution_count": null,
   "metadata": {
    "id": "jIrYccI-Hm3B"
   },
   "outputs": [],
   "source": [
    "def plot(\n",
    "    self,\n",
    "    model=None,\n",
    "    plot_col=\"T (degC)\",\n",
    "    max_subplots=3,\n",
    "):\n",
    "\n",
    "    inputs, labels = self.example\n",
    "    plt.figure(figsize=(12, 8))\n",
    "    plot_col_index = self.column_indices[plot_col]\n",
    "    max_n = min(max_subplots, len(inputs))\n",
    "    for n in range(max_n):\n",
    "        plt.subplot(max_n, 1, n + 1)\n",
    "        plt.ylabel(f\"{plot_col} [normed]\")\n",
    "        plt.plot(\n",
    "            self.input_indices,\n",
    "            inputs[n, :, plot_col_index],\n",
    "            label=\"Inputs\",\n",
    "            marker=\".\",\n",
    "            zorder=-10,\n",
    "        )\n",
    "\n",
    "        if self.label_columns:\n",
    "            label_col_index = self.label_columns_indices.get(plot_col, None)\n",
    "        else:\n",
    "            label_col_index = plot_col_index\n",
    "\n",
    "        if label_col_index is None:\n",
    "            continue\n",
    "\n",
    "        plt.scatter(\n",
    "            self.label_indices,\n",
    "            labels[n, :, label_col_index],\n",
    "            edgecolors=\"k\",\n",
    "            label=\"Labels\",\n",
    "            c=\"#2ca02c\",\n",
    "            s=64,\n",
    "        )\n",
    "        if model is not None:\n",
    "            predictions = model(inputs)\n",
    "            plt.scatter(\n",
    "                self.label_indices,\n",
    "                predictions[n, :, label_col_index],\n",
    "                marker=\"X\",\n",
    "                edgecolors=\"k\",\n",
    "                label=\"Predictions\",\n",
    "                c=\"#ff7f0e\",\n",
    "                s=64,\n",
    "            )\n",
    "\n",
    "        if n == 0:\n",
    "            plt.legend()\n",
    "\n",
    "    plt.xlabel(\"Time [h]\")\n",
    "\n",
    "\n",
    "WindowGenerator.plot = plot"
   ]
  },
  {
   "cell_type": "code",
   "execution_count": null,
   "metadata": {
    "id": "XjTqUnglOOni"
   },
   "outputs": [],
   "source": [
    "w2.plot()"
   ]
  },
  {
   "cell_type": "code",
   "execution_count": null,
   "metadata": {
    "id": "EBRe4wnlfCH8"
   },
   "outputs": [],
   "source": [
    "w2.plot(plot_col=\"p (mbar)\")"
   ]
  },
  {
   "cell_type": "markdown",
   "metadata": {
    "id": "xCvD-UaUzYMw"
   },
   "source": [
    "**4. Creación de tf.Dataset**"
   ]
  },
  {
   "cell_type": "code",
   "execution_count": null,
   "metadata": {
    "id": "35qoSQeRVfJg"
   },
   "outputs": [],
   "source": [
    "def make_dataset(self, data):\n",
    "\n",
    "    data = np.array(data, dtype=np.float32)\n",
    "\n",
    "    ds = tf.keras.utils.timeseries_dataset_from_array(\n",
    "        data=data,\n",
    "        targets=None,\n",
    "        sequence_length=self.total_window_size,\n",
    "        sequence_stride=1,\n",
    "        shuffle=True,\n",
    "        batch_size=32,\n",
    "    )\n",
    "\n",
    "    ds = ds.map(self.split_window)\n",
    "\n",
    "    return ds\n",
    "\n",
    "\n",
    "WindowGenerator.make_dataset = make_dataset"
   ]
  },
  {
   "cell_type": "code",
   "execution_count": null,
   "metadata": {
    "id": "2jZ2KkqGCfzu"
   },
   "outputs": [],
   "source": [
    "@property\n",
    "def train(self):\n",
    "    return self.make_dataset(self.train_df)\n",
    "\n",
    "\n",
    "@property\n",
    "def val(self):\n",
    "    return self.make_dataset(self.val_df)\n",
    "\n",
    "\n",
    "@property\n",
    "def test(self):\n",
    "    return self.make_dataset(self.test_df)\n",
    "\n",
    "\n",
    "@property\n",
    "def example(self):\n",
    "    \"\"\"Get and cache an example batch of `inputs, labels` for plotting.\"\"\"\n",
    "    result = getattr(self, \"_example\", None)\n",
    "    if result is None:\n",
    "        # No example batch was found, so get one from the `.train` dataset\n",
    "        result = next(iter(self.train))\n",
    "        # And cache it for next time\n",
    "        self._example = result\n",
    "    return result\n",
    "\n",
    "\n",
    "WindowGenerator.train = train\n",
    "WindowGenerator.val = val\n",
    "WindowGenerator.test = test\n",
    "WindowGenerator.example = example"
   ]
  },
  {
   "cell_type": "code",
   "execution_count": null,
   "metadata": {
    "id": "daJ0-U383YVs"
   },
   "outputs": [],
   "source": [
    "w2.train.element_spec"
   ]
  },
  {
   "cell_type": "code",
   "execution_count": null,
   "metadata": {
    "id": "6gtKXEgf4Iml"
   },
   "outputs": [],
   "source": [
    "for example_inputs, example_labels in w2.train.take(1):\n",
    "    print(f\"Inputs shape (batch, time, features): {example_inputs.shape}\")\n",
    "    print(f\"Labels shape (batch, time, features): {example_labels.shape}\")"
   ]
  },
  {
   "cell_type": "markdown",
   "metadata": {
    "id": "LyuGuJUgjUK3"
   },
   "source": [
    "Modelos de un paso adelante\n",
    "--"
   ]
  },
  {
   "cell_type": "markdown",
   "metadata": {
    "id": "LyuGuJUgjUK3"
   },
   "source": [
    "![assets/narrow_window.png](assets/narrow_window.png)"
   ]
  },
  {
   "cell_type": "code",
   "execution_count": null,
   "metadata": {
    "id": "G5QX1G1JTPCr"
   },
   "outputs": [],
   "source": [
    "single_step_window = WindowGenerator(\n",
    "    input_width=1,\n",
    "    label_width=1,\n",
    "    shift=1,\n",
    "    label_columns=[\"T (degC)\"],\n",
    ")\n",
    "single_step_window"
   ]
  },
  {
   "cell_type": "code",
   "execution_count": null,
   "metadata": {
    "id": "Do4ILUaBF8oc"
   },
   "outputs": [],
   "source": [
    "for example_inputs, example_labels in single_step_window.train.take(1):\n",
    "    print(f\"Inputs shape (batch, time, features): {example_inputs.shape}\")\n",
    "    print(f\"Labels shape (batch, time, features): {example_labels.shape}\")"
   ]
  },
  {
   "cell_type": "markdown",
   "metadata": {
    "id": "D1bbPiR3VAm_"
   },
   "source": [
    "**Baseline**"
   ]
  },
  {
   "cell_type": "markdown",
   "metadata": {
    "id": "D1bbPiR3VAm_"
   },
   "source": [
    "![assets/baseline.png](assets/baseline.png)"
   ]
  },
  {
   "cell_type": "code",
   "execution_count": null,
   "metadata": {
    "id": "9TybQaIsi3yg"
   },
   "outputs": [],
   "source": [
    "class Baseline(tf.keras.Model):\n",
    "    def __init__(self, label_index=None):\n",
    "        super().__init__()\n",
    "        self.label_index = label_index\n",
    "\n",
    "    def call(self, inputs):\n",
    "        if self.label_index is None:\n",
    "            return inputs\n",
    "        result = inputs[:, :, self.label_index]\n",
    "        return result[:, :, tf.newaxis]"
   ]
  },
  {
   "cell_type": "code",
   "execution_count": null,
   "metadata": {
    "id": "IS3-QKc4sX0D"
   },
   "outputs": [],
   "source": [
    "baseline = Baseline(\n",
    "    label_index=column_indices[\"T (degC)\"],\n",
    ")\n",
    "\n",
    "baseline.compile(\n",
    "    loss=tf.losses.MeanSquaredError(),\n",
    "    metrics=[\n",
    "        tf.metrics.MeanAbsoluteError(),\n",
    "    ],\n",
    ")\n",
    "\n",
    "val_performance = {}\n",
    "\n",
    "performance = {}\n",
    "\n",
    "val_performance[\"Baseline\"] = baseline.evaluate(single_step_window.val)\n",
    "\n",
    "performance[\"Baseline\"] = baseline.evaluate(\n",
    "    single_step_window.test,\n",
    "    verbose=0,\n",
    ")"
   ]
  },
  {
   "cell_type": "code",
   "execution_count": null,
   "metadata": {
    "id": "C8jNR5uuJ5Zp"
   },
   "outputs": [],
   "source": [
    "wide_window = WindowGenerator(\n",
    "    input_width=24,\n",
    "    label_width=24,\n",
    "    shift=1,\n",
    "    label_columns=[\"T (degC)\"],\n",
    ")\n",
    "\n",
    "wide_window"
   ]
  },
  {
   "cell_type": "markdown",
   "metadata": {
    "id": "ZAnj7CFZkuYv"
   },
   "source": [
    "![assets/last_window.png](assets/last_window.png)"
   ]
  },
  {
   "cell_type": "code",
   "execution_count": null,
   "metadata": {
    "id": "sGKdvdg087qs"
   },
   "outputs": [],
   "source": [
    "print(\"Input shape:\", wide_window.example[0].shape)\n",
    "print(\"Output shape:\", baseline(wide_window.example[0]).shape)"
   ]
  },
  {
   "cell_type": "code",
   "execution_count": null,
   "metadata": {
    "id": "jQyAPVLgWTOZ"
   },
   "outputs": [],
   "source": [
    "wide_window.plot(baseline)"
   ]
  },
  {
   "cell_type": "markdown",
   "metadata": {
    "id": "E4aOJScj52Yu"
   },
   "source": [
    "**Modelo lineal**"
   ]
  },
  {
   "cell_type": "markdown",
   "metadata": {
    "id": "E4aOJScj52Yu"
   },
   "source": [
    "![assets/narrow_window.png](assets/narrow_window.png)"
   ]
  },
  {
   "cell_type": "code",
   "execution_count": 1,
   "metadata": {
    "id": "6341OXuQ5xA9"
   },
   "outputs": [
    {
     "ename": "NameError",
     "evalue": "name 'tf' is not defined",
     "output_type": "error",
     "traceback": [
      "\u001b[0;31m---------------------------------------------------------------------------\u001b[0m",
      "\u001b[0;31mNameError\u001b[0m                                 Traceback (most recent call last)",
      "Input \u001b[0;32mIn [1]\u001b[0m, in \u001b[0;36m<cell line: 1>\u001b[0;34m()\u001b[0m\n\u001b[0;32m----> 1\u001b[0m linear \u001b[38;5;241m=\u001b[39m \u001b[43mtf\u001b[49m\u001b[38;5;241m.\u001b[39mkeras\u001b[38;5;241m.\u001b[39mSequential([tf\u001b[38;5;241m.\u001b[39mkeras\u001b[38;5;241m.\u001b[39mlayers\u001b[38;5;241m.\u001b[39mDense(units\u001b[38;5;241m=\u001b[39m\u001b[38;5;241m1\u001b[39m),])\n",
      "\u001b[0;31mNameError\u001b[0m: name 'tf' is not defined"
     ]
    }
   ],
   "source": [
    "linear = tf.keras.Sequential(\n",
    "    [\n",
    "        tf.keras.layers.Dense(units=1),\n",
    "    ]\n",
    ")"
   ]
  },
  {
   "cell_type": "code",
   "execution_count": null,
   "metadata": {
    "id": "KwaOM8RucUSn"
   },
   "outputs": [],
   "source": [
    "print(\n",
    "    \"Input shape:\",\n",
    "    single_step_window.example[0].shape,\n",
    ")\n",
    "\n",
    "print(\n",
    "    \"Output shape:\",\n",
    "    linear(single_step_window.example[0]).shape,\n",
    ")"
   ]
  },
  {
   "cell_type": "code",
   "execution_count": null,
   "metadata": {
    "id": "CbCL6VIrk-Gt"
   },
   "outputs": [],
   "source": [
    "MAX_EPOCHS = 20\n",
    "\n",
    "\n",
    "def compile_and_fit(model, window, patience=2):\n",
    "\n",
    "    early_stopping = tf.keras.callbacks.EarlyStopping(\n",
    "        monitor=\"val_loss\",\n",
    "        patience=patience,\n",
    "        mode=\"min\",\n",
    "    )\n",
    "\n",
    "    model.compile(\n",
    "        loss=tf.losses.MeanSquaredError(),\n",
    "        optimizer=tf.optimizers.Adam(),\n",
    "        metrics=[tf.metrics.MeanAbsoluteError()],\n",
    "    )\n",
    "\n",
    "    history = model.fit(\n",
    "        window.train,\n",
    "        epochs=MAX_EPOCHS,\n",
    "        validation_data=window.val,\n",
    "        callbacks=[early_stopping],\n",
    "    )\n",
    "    return history"
   ]
  },
  {
   "cell_type": "code",
   "execution_count": null,
   "metadata": {
    "id": "9agbz2qB9bLS"
   },
   "outputs": [],
   "source": [
    "history = compile_and_fit(\n",
    "    linear,\n",
    "    single_step_window,\n",
    ")\n",
    "\n",
    "val_performance[\"Linear\"] = linear.evaluate(\n",
    "    single_step_window.val,\n",
    ")\n",
    "\n",
    "performance[\"Linear\"] = linear.evaluate(\n",
    "    single_step_window.test,\n",
    "    verbose=0,\n",
    ")"
   ]
  },
  {
   "cell_type": "markdown",
   "metadata": {
    "id": "7U9XukYh8beN"
   },
   "source": [
    "![assets/wide_window.png](assets/wide_window.png)"
   ]
  },
  {
   "cell_type": "code",
   "execution_count": null,
   "metadata": {
    "id": "K9UVM5Sw9KQN"
   },
   "outputs": [],
   "source": [
    "print(\"Input shape:\", wide_window.example[0].shape)\n",
    "print(\"Output shape:\", baseline(wide_window.example[0]).shape)"
   ]
  },
  {
   "cell_type": "code",
   "execution_count": null,
   "metadata": {
    "id": "bCC8VVo-OvwV"
   },
   "outputs": [],
   "source": [
    "wide_window.plot(linear)"
   ]
  },
  {
   "cell_type": "code",
   "execution_count": null,
   "metadata": {
    "id": "d4uCTbsmK8VI"
   },
   "outputs": [],
   "source": [
    "plt.bar(x=range(len(train_df.columns)), height=linear.layers[0].kernel[:, 0].numpy())\n",
    "axis = plt.gca()\n",
    "axis.set_xticks(range(len(train_df.columns)))\n",
    "_ = axis.set_xticklabels(train_df.columns, rotation=90)"
   ]
  },
  {
   "cell_type": "markdown",
   "metadata": {
    "id": "Ylng7215boIY"
   },
   "source": [
    "Sometimes the model doesn't even place the most weight on the input `T (degC)`. This is one of the risks of random initialization. "
   ]
  },
  {
   "cell_type": "markdown",
   "metadata": {
    "id": "W18e6da1cNbw"
   },
   "source": [
    "**Modelo Denso**"
   ]
  },
  {
   "cell_type": "code",
   "execution_count": null,
   "metadata": {
    "id": "Z86WkYp7cNAD"
   },
   "outputs": [],
   "source": [
    "dense = tf.keras.Sequential(\n",
    "    [\n",
    "        tf.keras.layers.Dense(\n",
    "            units=64,\n",
    "            activation=\"relu\",\n",
    "        ),\n",
    "        tf.keras.layers.Dense(\n",
    "            units=64,\n",
    "            activation=\"relu\",\n",
    "        ),\n",
    "        tf.keras.layers.Dense(\n",
    "            units=1,\n",
    "        ),\n",
    "    ]\n",
    ")\n",
    "\n",
    "history = compile_and_fit(\n",
    "    dense,\n",
    "    single_step_window,\n",
    ")\n",
    "\n",
    "val_performance[\"Dense\"] = dense.evaluate(\n",
    "    single_step_window.val,\n",
    ")\n",
    "\n",
    "performance[\"Dense\"] = dense.evaluate(\n",
    "    single_step_window.test,\n",
    "    verbose=0,\n",
    ")"
   ]
  },
  {
   "cell_type": "markdown",
   "metadata": {
    "id": "j5dv_whJdswH"
   },
   "source": [
    "**Modelo denso multipaso**"
   ]
  },
  {
   "cell_type": "markdown",
   "metadata": {
    "id": "j5dv_whJdswH"
   },
   "source": [
    "![assets/conv_window.png](assets/conv_window.png)"
   ]
  },
  {
   "cell_type": "code",
   "execution_count": null,
   "metadata": {
    "id": "lBh0j5djUKY2"
   },
   "outputs": [],
   "source": [
    "CONV_WIDTH = 3\n",
    "\n",
    "conv_window = WindowGenerator(\n",
    "    input_width=CONV_WIDTH,\n",
    "    label_width=1,\n",
    "    shift=1,\n",
    "    label_columns=[\n",
    "        \"T (degC)\",\n",
    "    ],\n",
    ")\n",
    "\n",
    "conv_window"
   ]
  },
  {
   "cell_type": "code",
   "execution_count": null,
   "metadata": {
    "id": "dCQ5gvs68Xkd"
   },
   "outputs": [],
   "source": [
    "conv_window.plot()\n",
    "plt.title(\"Given 3 hours of inputs, predict 1 hour into the future.\")"
   ]
  },
  {
   "cell_type": "code",
   "execution_count": null,
   "metadata": {
    "id": "oNQnUOkOnC1G"
   },
   "outputs": [],
   "source": [
    "multi_step_dense = tf.keras.Sequential(\n",
    "    [\n",
    "        tf.keras.layers.Flatten(),\n",
    "        tf.keras.layers.Dense(\n",
    "            units=32,\n",
    "            activation=\"relu\",\n",
    "        ),\n",
    "        tf.keras.layers.Dense(\n",
    "            units=32,\n",
    "            activation=\"relu\",\n",
    "        ),\n",
    "        tf.keras.layers.Dense(\n",
    "            units=1,\n",
    "        ),\n",
    "        tf.keras.layers.Reshape([1, -1]),\n",
    "    ]\n",
    ")"
   ]
  },
  {
   "cell_type": "code",
   "execution_count": null,
   "metadata": {
    "id": "cayD74luo4Vq"
   },
   "outputs": [],
   "source": [
    "print(\"Input shape:\", conv_window.example[0].shape)\n",
    "print(\"Output shape:\", multi_step_dense(conv_window.example[0]).shape)"
   ]
  },
  {
   "cell_type": "code",
   "execution_count": null,
   "metadata": {
    "id": "fu91yEbRo9-J"
   },
   "outputs": [],
   "source": [
    "from IPython.display import clear_output\n",
    "\n",
    "history = compile_and_fit(\n",
    "    multi_step_dense,\n",
    "    conv_window,\n",
    ")\n",
    "\n",
    "clear_output()\n",
    "\n",
    "val_performance[\"Multi step dense\"] = multi_step_dense.evaluate(\n",
    "    conv_window.val,\n",
    ")\n",
    "\n",
    "performance[\"Multi step dense\"] = multi_step_dense.evaluate(\n",
    "    conv_window.test,\n",
    "    verbose=0,\n",
    ")"
   ]
  },
  {
   "cell_type": "code",
   "execution_count": null,
   "metadata": {
    "id": "tnqdXYT6pkEh"
   },
   "outputs": [],
   "source": [
    "conv_window.plot(multi_step_dense)"
   ]
  },
  {
   "cell_type": "code",
   "execution_count": null,
   "metadata": {
    "id": "j-q6tz5Yq8Jk"
   },
   "outputs": [],
   "source": [
    "print(\"Input shape:\", wide_window.example[0].shape)\n",
    "try:\n",
    "    print(\"Output shape:\", multi_step_dense(wide_window.example[0]).shape)\n",
    "except Exception as e:\n",
    "    print(f\"\\n{type(e).__name__}:{e}\")"
   ]
  },
  {
   "cell_type": "markdown",
   "metadata": {
    "id": "CrpU6gwSJome"
   },
   "source": [
    "**Red neuronal convolucional**"
   ]
  },
  {
   "cell_type": "code",
   "execution_count": null,
   "metadata": {
    "id": "5azaMBj4ac9t"
   },
   "outputs": [],
   "source": [
    "conv_model = tf.keras.Sequential(\n",
    "    [\n",
    "        tf.keras.layers.Conv1D(\n",
    "            filters=32,\n",
    "            kernel_size=(CONV_WIDTH,),\n",
    "            activation=\"relu\",\n",
    "        ),\n",
    "        tf.keras.layers.Dense(\n",
    "            units=32,\n",
    "            activation=\"relu\",\n",
    "        ),\n",
    "        tf.keras.layers.Dense(\n",
    "            units=1,\n",
    "        ),\n",
    "    ]\n",
    ")"
   ]
  },
  {
   "cell_type": "code",
   "execution_count": null,
   "metadata": {
    "id": "5YNgt1-e98lH"
   },
   "outputs": [],
   "source": [
    "print(\"Conv model on `conv_window`\")\n",
    "print(\"Input shape:\", conv_window.example[0].shape)\n",
    "print(\"Output shape:\", conv_model(conv_window.example[0]).shape)"
   ]
  },
  {
   "cell_type": "code",
   "execution_count": null,
   "metadata": {
    "id": "QDVWdm4paUW7"
   },
   "outputs": [],
   "source": [
    "history = compile_and_fit(conv_model, conv_window)\n",
    "\n",
    "IPython.display.clear_output()\n",
    "val_performance[\"Conv\"] = conv_model.evaluate(conv_window.val)\n",
    "performance[\"Conv\"] = conv_model.evaluate(conv_window.test, verbose=0)"
   ]
  },
  {
   "cell_type": "markdown",
   "metadata": {
    "id": "sYRipDeXs0Kr"
   },
   "source": [
    "![assets/wide_conv_window.png](assets/wide_conv_window.png)"
   ]
  },
  {
   "cell_type": "code",
   "execution_count": null,
   "metadata": {
    "id": "hoqccxx9r5jF"
   },
   "outputs": [],
   "source": [
    "print(\"Wide window\")\n",
    "print(\"Input shape:\", wide_window.example[0].shape)\n",
    "print(\"Labels shape:\", wide_window.example[1].shape)\n",
    "print(\"Output shape:\", conv_model(wide_window.example[0]).shape)"
   ]
  },
  {
   "cell_type": "code",
   "execution_count": null,
   "metadata": {
    "id": "_VPvJ_VwTc0f"
   },
   "outputs": [],
   "source": [
    "LABEL_WIDTH = 24\n",
    "INPUT_WIDTH = LABEL_WIDTH + (CONV_WIDTH - 1)\n",
    "\n",
    "wide_conv_window = WindowGenerator(\n",
    "    input_width=INPUT_WIDTH,\n",
    "    label_width=LABEL_WIDTH,\n",
    "    shift=1,\n",
    "    label_columns=[\"T (degC)\"],\n",
    ")\n",
    "\n",
    "wide_conv_window"
   ]
  },
  {
   "cell_type": "code",
   "execution_count": null,
   "metadata": {
    "id": "gtqlWYXeKXej"
   },
   "outputs": [],
   "source": [
    "print(\"Wide conv window\")\n",
    "print(\"Input shape:\", wide_conv_window.example[0].shape)\n",
    "print(\"Labels shape:\", wide_conv_window.example[1].shape)\n",
    "print(\"Output shape:\", conv_model(wide_conv_window.example[0]).shape)"
   ]
  },
  {
   "cell_type": "code",
   "execution_count": null,
   "metadata": {
    "id": "gR7VyL45UuEe"
   },
   "outputs": [],
   "source": [
    "wide_conv_window.plot(conv_model)"
   ]
  },
  {
   "cell_type": "markdown",
   "metadata": {
    "id": "H4crpOcoMlSe"
   },
   "source": [
    "**Red neuronal recurrente LSTM**"
   ]
  },
  {
   "cell_type": "markdown",
   "metadata": {
    "id": "vfQbHSMb1ATa"
   },
   "source": [
    "```python\n",
    "return_sequences==False\n",
    "````"
   ]
  },
  {
   "cell_type": "markdown",
   "metadata": {
    "id": "vfQbHSMb1ATa"
   },
   "source": [
    "![assets/lstm_1_window.png](assets/lstm_1_window.png)"
   ]
  },
  {
   "cell_type": "markdown",
   "metadata": {
    "id": "vfQbHSMb1ATa"
   },
   "source": [
    "```python\n",
    "return_sequences==True\n",
    "````"
   ]
  },
  {
   "cell_type": "markdown",
   "metadata": {
    "id": "vfQbHSMb1ATa"
   },
   "source": [
    "![asets/lstm_many_window.png](assets/lstm_many_window.png)"
   ]
  },
  {
   "cell_type": "code",
   "execution_count": null,
   "metadata": {
    "id": "DXKLCJy8nWNU"
   },
   "outputs": [],
   "source": [
    "lstm_model = tf.keras.models.Sequential(\n",
    "    [\n",
    "        # Shape [batch, time, features] => [batch, time, lstm_units]\n",
    "        tf.keras.layers.LSTM(32, return_sequences=True),\n",
    "        # Shape => [batch, time, features]\n",
    "        tf.keras.layers.Dense(units=1),\n",
    "    ]\n",
    ")"
   ]
  },
  {
   "cell_type": "code",
   "execution_count": null,
   "metadata": {
    "id": "eZEROCQVYV6q"
   },
   "outputs": [],
   "source": [
    "print(\"Input shape:\", wide_window.example[0].shape)\n",
    "print(\"Output shape:\", lstm_model(wide_window.example[0]).shape)"
   ]
  },
  {
   "cell_type": "code",
   "execution_count": null,
   "metadata": {
    "id": "uvdWRl1e9WJl"
   },
   "outputs": [],
   "source": [
    "history = compile_and_fit(lstm_model, wide_window)\n",
    "\n",
    "clear_output()\n",
    "\n",
    "val_performance[\"LSTM\"] = lstm_model.evaluate(wide_window.val)\n",
    "\n",
    "performance[\"LSTM\"] = lstm_model.evaluate(wide_window.test, verbose=0)"
   ]
  },
  {
   "cell_type": "code",
   "execution_count": null,
   "metadata": {
    "id": "NwAOWCVgB26e"
   },
   "outputs": [],
   "source": [
    "wide_window.plot(lstm_model)"
   ]
  },
  {
   "cell_type": "markdown",
   "metadata": {
    "id": "pYglOCKehi8F"
   },
   "source": [
    "**Desempeño**"
   ]
  },
  {
   "cell_type": "code",
   "execution_count": null,
   "metadata": {
    "id": "JjEkt488hi8I"
   },
   "outputs": [],
   "source": [
    "x = np.arange(len(performance))\n",
    "width = 0.3\n",
    "metric_name = \"mean_absolute_error\"\n",
    "metric_index = lstm_model.metrics_names.index(\"mean_absolute_error\")\n",
    "val_mae = [v[metric_index] for v in val_performance.values()]\n",
    "test_mae = [v[metric_index] for v in performance.values()]\n",
    "\n",
    "plt.ylabel(\"mean_absolute_error [T (degC), normalized]\")\n",
    "plt.bar(x - 0.17, val_mae, width, label=\"Validation\")\n",
    "plt.bar(x + 0.17, test_mae, width, label=\"Test\")\n",
    "plt.xticks(ticks=x, labels=performance.keys(), rotation=45)\n",
    "_ = plt.legend()"
   ]
  },
  {
   "cell_type": "code",
   "execution_count": null,
   "metadata": {
    "id": "cBMCpsdphi8L"
   },
   "outputs": [],
   "source": [
    "for name, value in performance.items():\n",
    "    print(f\"{name:12s}: {value[1]:0.4f}\")"
   ]
  },
  {
   "cell_type": "markdown",
   "metadata": {
    "id": "b5rUJ_2YMWzG"
   },
   "source": [
    "Modelos de múltiples salidas\n",
    "--"
   ]
  },
  {
   "cell_type": "code",
   "execution_count": null,
   "metadata": {
    "id": "9Gk0Z91xjOwv"
   },
   "outputs": [],
   "source": [
    "single_step_window = WindowGenerator(\n",
    "    input_width=1,\n",
    "    label_width=1,\n",
    "    shift=1,\n",
    ")\n",
    "\n",
    "wide_window = WindowGenerator(\n",
    "    input_width=24,\n",
    "    label_width=24,\n",
    "    shift=1,\n",
    ")\n",
    "\n",
    "for example_inputs, example_labels in wide_window.train.take(1):\n",
    "    print(f\"Inputs shape (batch, time, features): {example_inputs.shape}\")\n",
    "    print(f\"Labels shape (batch, time, features): {example_labels.shape}\")"
   ]
  },
  {
   "cell_type": "markdown",
   "metadata": {
    "id": "XmcjHfDskX1N"
   },
   "source": [
    "Note above that the `features` axis of the labels now has the same depth as the inputs, instead of `1`."
   ]
  },
  {
   "cell_type": "markdown",
   "metadata": {
    "id": "9k7S5IHNhSNF"
   },
   "source": [
    "**Modelo base**"
   ]
  },
  {
   "cell_type": "code",
   "execution_count": null,
   "metadata": {
    "id": "sqqB9W-pjr5i"
   },
   "outputs": [],
   "source": [
    "baseline = Baseline()\n",
    "baseline.compile(\n",
    "    loss=tf.losses.MeanSquaredError(),\n",
    "    metrics=[\n",
    "        tf.metrics.MeanAbsoluteError(),\n",
    "    ],\n",
    ")"
   ]
  },
  {
   "cell_type": "code",
   "execution_count": null,
   "metadata": {
    "id": "ltQdgaqQjQWu"
   },
   "outputs": [],
   "source": [
    "val_performance = {}\n",
    "performance = {}\n",
    "val_performance[\"Baseline\"] = baseline.evaluate(wide_window.val)\n",
    "performance[\"Baseline\"] = baseline.evaluate(wide_window.test, verbose=0)"
   ]
  },
  {
   "cell_type": "markdown",
   "metadata": {
    "id": "dfbCrf5q3P6n"
   },
   "source": [
    "**Modelo denso**"
   ]
  },
  {
   "cell_type": "code",
   "execution_count": null,
   "metadata": {
    "id": "NdpzH1dYjdIN"
   },
   "outputs": [],
   "source": [
    "dense = tf.keras.Sequential(\n",
    "    [\n",
    "        tf.keras.layers.Dense(units=64, activation=\"relu\"),\n",
    "        tf.keras.layers.Dense(units=64, activation=\"relu\"),\n",
    "        tf.keras.layers.Dense(units=num_features),\n",
    "    ]\n",
    ")"
   ]
  },
  {
   "cell_type": "code",
   "execution_count": null,
   "metadata": {
    "id": "6uHuU9Cd3PTo"
   },
   "outputs": [],
   "source": [
    "history = compile_and_fit(dense, single_step_window)\n",
    "\n",
    "IPython.display.clear_output()\n",
    "val_performance[\"Dense\"] = dense.evaluate(single_step_window.val)\n",
    "performance[\"Dense\"] = dense.evaluate(single_step_window.test, verbose=0)"
   ]
  },
  {
   "cell_type": "markdown",
   "metadata": {
    "id": "dsc9pur_mHsx"
   },
   "source": [
    "**RNN**\n"
   ]
  },
  {
   "cell_type": "code",
   "execution_count": null,
   "metadata": {
    "id": "4QbGLMyomXaz"
   },
   "outputs": [],
   "source": [
    "%%time\n",
    "wide_window = WindowGenerator(input_width=24, label_width=24, shift=1)\n",
    "\n",
    "lstm_model = tf.keras.models.Sequential(\n",
    "    [\n",
    "        # Shape [batch, time, features] => [batch, time, lstm_units]\n",
    "        tf.keras.layers.LSTM(32, return_sequences=True),\n",
    "        # Shape => [batch, time, features]\n",
    "        tf.keras.layers.Dense(units=num_features),\n",
    "    ]\n",
    ")\n",
    "\n",
    "history = compile_and_fit(lstm_model, wide_window)\n",
    "\n",
    "IPython.display.clear_output()\n",
    "val_performance[\"LSTM\"] = lstm_model.evaluate(wide_window.val)\n",
    "performance[\"LSTM\"] = lstm_model.evaluate(wide_window.test, verbose=0)\n",
    "\n",
    "print()"
   ]
  },
  {
   "cell_type": "markdown",
   "metadata": {
    "id": "UwhY2f_Nn0_K"
   },
   "source": [
    "**Conexiones de residuales**"
   ]
  },
  {
   "cell_type": "markdown",
   "metadata": {
    "id": "UwhY2f_Nn0_K"
   },
   "source": [
    "![assets/residual.png](assets/residual.png)"
   ]
  },
  {
   "cell_type": "code",
   "execution_count": null,
   "metadata": {
    "id": "7YlfnDQC22TQ"
   },
   "outputs": [],
   "source": [
    "class ResidualWrapper(tf.keras.Model):\n",
    "    def __init__(self, model):\n",
    "        super().__init__()\n",
    "        self.model = model\n",
    "\n",
    "    def call(self, inputs, *args, **kwargs):\n",
    "        delta = self.model(inputs, *args, **kwargs)\n",
    "        return inputs + delta"
   ]
  },
  {
   "cell_type": "code",
   "execution_count": null,
   "metadata": {
    "id": "NNeH02pspc9B"
   },
   "outputs": [],
   "source": [
    "%%time\n",
    "residual_lstm = ResidualWrapper(\n",
    "    tf.keras.Sequential(\n",
    "        [\n",
    "            tf.keras.layers.LSTM(\n",
    "                32,\n",
    "                return_sequences=True,\n",
    "            ),\n",
    "            tf.keras.layers.Dense(\n",
    "                num_features,\n",
    "                kernel_initializer=tf.initializers.zeros(),\n",
    "            ),\n",
    "        ]\n",
    "    )\n",
    ")\n",
    "\n",
    "history = compile_and_fit(residual_lstm, wide_window)\n",
    "\n",
    "clear_output()\n",
    "val_performance[\"Residual LSTM\"] = residual_lstm.evaluate(\n",
    "    wide_window.val,\n",
    ")\n",
    "performance[\"Residual LSTM\"] = residual_lstm.evaluate(\n",
    "    wide_window.test,\n",
    "    verbose=0,\n",
    ")\n",
    "print()"
   ]
  },
  {
   "cell_type": "markdown",
   "metadata": {
    "id": "I42Er9Du6co1"
   },
   "source": [
    "**Desempeño**"
   ]
  },
  {
   "cell_type": "code",
   "execution_count": null,
   "metadata": {
    "id": "6XgTK9tnr7rc"
   },
   "outputs": [],
   "source": [
    "x = np.arange(len(performance))\n",
    "width = 0.3\n",
    "\n",
    "metric_name = \"mean_absolute_error\"\n",
    "metric_index = lstm_model.metrics_names.index(\"mean_absolute_error\")\n",
    "val_mae = [v[metric_index] for v in val_performance.values()]\n",
    "test_mae = [v[metric_index] for v in performance.values()]\n",
    "\n",
    "plt.bar(x - 0.17, val_mae, width, label=\"Validation\")\n",
    "plt.bar(x + 0.17, test_mae, width, label=\"Test\")\n",
    "plt.xticks(ticks=x, labels=performance.keys(), rotation=45)\n",
    "plt.ylabel(\"MAE (average over all outputs)\")\n",
    "_ = plt.legend()"
   ]
  },
  {
   "cell_type": "code",
   "execution_count": null,
   "metadata": {
    "id": "URz3ajCc6kBj"
   },
   "outputs": [],
   "source": [
    "for name, value in performance.items():\n",
    "    print(f\"{name:15s}: {value[1]:0.4f}\")"
   ]
  },
  {
   "cell_type": "markdown",
   "metadata": {
    "id": "eYokb7Om2YbK"
   },
   "source": [
    "Modelos multipaso\n",
    "--"
   ]
  },
  {
   "cell_type": "code",
   "execution_count": null,
   "metadata": {
    "id": "1cFYtsz6XiGw"
   },
   "outputs": [],
   "source": [
    "OUT_STEPS = 24\n",
    "multi_window = WindowGenerator(input_width=24, label_width=OUT_STEPS, shift=OUT_STEPS)\n",
    "\n",
    "multi_window.plot()\n",
    "multi_window"
   ]
  },
  {
   "cell_type": "markdown",
   "metadata": {
    "id": "5lg8SInh9Jzd"
   },
   "source": [
    "**Modelos base**"
   ]
  },
  {
   "cell_type": "markdown",
   "metadata": {
    "id": "axwpoWYOApJL"
   },
   "source": [
    "![assets/multistep_last.png](assets/multistep_last.png)"
   ]
  },
  {
   "cell_type": "code",
   "execution_count": null,
   "metadata": {
    "id": "_5iaHSaJ9Rxv"
   },
   "outputs": [],
   "source": [
    "class MultiStepLastBaseline(tf.keras.Model):\n",
    "    def call(self, inputs):\n",
    "        return tf.tile(inputs[:, -1:, :], [1, OUT_STEPS, 1])\n",
    "\n",
    "\n",
    "last_baseline = MultiStepLastBaseline()\n",
    "last_baseline.compile(\n",
    "    loss=tf.losses.MeanSquaredError(),\n",
    "    metrics=[\n",
    "        tf.metrics.MeanAbsoluteError(),\n",
    "    ],\n",
    ")\n",
    "\n",
    "multi_val_performance = {}\n",
    "multi_performance = {}\n",
    "\n",
    "multi_val_performance[\"Last\"] = (\n",
    "    last_baseline.evaluate(\n",
    "        multi_window.val,\n",
    "    ),\n",
    ")\n",
    "multi_performance[\"Last\"] = last_baseline.evaluate(\n",
    "    multi_window.test,\n",
    "    verbose=0,\n",
    ")\n",
    "multi_window.plot(last_baseline)"
   ]
  },
  {
   "cell_type": "markdown",
   "metadata": {
    "id": "AvHZ93ObAfMA"
   },
   "source": [
    "![assets/multistep_repeat.png](assets/multistep_repeat.png)"
   ]
  },
  {
   "cell_type": "code",
   "execution_count": null,
   "metadata": {
    "id": "L8Y1uMhGwIRs"
   },
   "outputs": [],
   "source": [
    "class RepeatBaseline(tf.keras.Model):\n",
    "    def call(self, inputs):\n",
    "        return inputs\n",
    "\n",
    "\n",
    "repeat_baseline = RepeatBaseline()\n",
    "repeat_baseline.compile(\n",
    "    loss=tf.losses.MeanSquaredError(),\n",
    "    metrics=[\n",
    "        tf.metrics.MeanAbsoluteError(),\n",
    "    ],\n",
    ")\n",
    "\n",
    "multi_val_performance[\"Repeat\"] = repeat_baseline.evaluate(\n",
    "    multi_window.val,\n",
    ")\n",
    "multi_performance[\"Repeat\"] = repeat_baseline.evaluate(\n",
    "    multi_window.test,\n",
    "    verbose=0,\n",
    ")\n",
    "multi_window.plot(repeat_baseline)"
   ]
  },
  {
   "cell_type": "markdown",
   "metadata": {
    "id": "tbndS-ct9C2Q"
   },
   "source": [
    "**Single-shot models**"
   ]
  },
  {
   "cell_type": "markdown",
   "metadata": {
    "id": "NCKS4m1VKrDQ"
   },
   "source": [
    "* **Linear**"
   ]
  },
  {
   "cell_type": "markdown",
   "metadata": {
    "id": "NCKS4m1VKrDQ"
   },
   "source": [
    "![assets/multistep_dense.png](assets/multistep_dense.png)"
   ]
  },
  {
   "cell_type": "code",
   "execution_count": null,
   "metadata": {
    "id": "kfRz_WVhIQcd"
   },
   "outputs": [],
   "source": [
    "multi_linear_model = tf.keras.Sequential(\n",
    "    [\n",
    "        tf.keras.layers.Lambda(lambda x: x[:, -1:, :]),\n",
    "        tf.keras.layers.Dense(\n",
    "            OUT_STEPS * num_features,\n",
    "            kernel_initializer=tf.initializers.zeros(),\n",
    "        ),\n",
    "        tf.keras.layers.Reshape([OUT_STEPS, num_features]),\n",
    "    ]\n",
    ")\n",
    "\n",
    "history = compile_and_fit(multi_linear_model, multi_window)\n",
    "\n",
    "IPython.display.clear_output()\n",
    "multi_val_performance[\"Linear\"] = multi_linear_model.evaluate(\n",
    "    multi_window.val,\n",
    ")\n",
    "multi_performance[\"Linear\"] = multi_linear_model.evaluate(\n",
    "    multi_window.test,\n",
    "    verbose=0,\n",
    ")\n",
    "multi_window.plot(\n",
    "    multi_linear_model,\n",
    ")"
   ]
  },
  {
   "cell_type": "markdown",
   "metadata": {
    "id": "zi2TMHk2IRrh"
   },
   "source": [
    "* **Dense**"
   ]
  },
  {
   "cell_type": "code",
   "execution_count": null,
   "metadata": {
    "id": "jezm-BKaGj91"
   },
   "outputs": [],
   "source": [
    "multi_dense_model = tf.keras.Sequential(\n",
    "    [\n",
    "        tf.keras.layers.Lambda(lambda x: x[:, -1:, :]),\n",
    "        tf.keras.layers.Dense(\n",
    "            512,\n",
    "            activation=\"relu\",\n",
    "        ),\n",
    "        tf.keras.layers.Dense(\n",
    "            OUT_STEPS * num_features,\n",
    "            kernel_initializer=tf.initializers.zeros(),\n",
    "        ),\n",
    "        tf.keras.layers.Reshape(\n",
    "            [\n",
    "                OUT_STEPS,\n",
    "                num_features,\n",
    "            ]\n",
    "        ),\n",
    "    ]\n",
    ")\n",
    "\n",
    "history = compile_and_fit(\n",
    "    multi_dense_model,\n",
    "    multi_window,\n",
    ")\n",
    "\n",
    "clear_output()\n",
    "multi_val_performance[\"Dense\"] = multi_dense_model.evaluate(\n",
    "    multi_window.val,\n",
    ")\n",
    "multi_performance[\"Dense\"] = multi_dense_model.evaluate(\n",
    "    multi_window.test,\n",
    "    verbose=0,\n",
    ")\n",
    "multi_window.plot(\n",
    "    multi_dense_model,\n",
    ")"
   ]
  },
  {
   "cell_type": "markdown",
   "metadata": {
    "id": "icsBAjCzMaMl"
   },
   "source": [
    "* **CNN**"
   ]
  },
  {
   "cell_type": "markdown",
   "metadata": {
    "id": "34lCZrWYNBwd"
   },
   "source": [
    "![assets/multistep_conv.png](assets/multistep_conv.png)"
   ]
  },
  {
   "cell_type": "code",
   "execution_count": null,
   "metadata": {
    "id": "0xJoIP6PMWMI"
   },
   "outputs": [],
   "source": [
    "CONV_WIDTH = 3\n",
    "multi_conv_model = tf.keras.Sequential(\n",
    "    [\n",
    "        tf.keras.layers.Lambda(lambda x: x[:, -CONV_WIDTH:, :]),\n",
    "        tf.keras.layers.Conv1D(\n",
    "            256,\n",
    "            activation=\"relu\",\n",
    "            kernel_size=(CONV_WIDTH),\n",
    "        ),\n",
    "        tf.keras.layers.Dense(\n",
    "            OUT_STEPS * num_features,\n",
    "            kernel_initializer=tf.initializers.zeros(),\n",
    "        ),\n",
    "        tf.keras.layers.Reshape(\n",
    "            [\n",
    "                OUT_STEPS,\n",
    "                num_features,\n",
    "            ]\n",
    "        ),\n",
    "    ]\n",
    ")\n",
    "\n",
    "history = compile_and_fit(\n",
    "    multi_conv_model,\n",
    "    multi_window,\n",
    ")\n",
    "\n",
    "clear_output()\n",
    "\n",
    "multi_val_performance[\"Conv\"] = multi_conv_model.evaluate(\n",
    "    multi_window.val,\n",
    ")\n",
    "multi_performance[\"Conv\"] = multi_conv_model.evaluate(\n",
    "    multi_window.test,\n",
    "    verbose=0,\n",
    ")\n",
    "multi_window.plot(\n",
    "    multi_conv_model,\n",
    ")"
   ]
  },
  {
   "cell_type": "markdown",
   "metadata": {
    "id": "weBjeZAFJOP4"
   },
   "source": [
    "* **RNN**"
   ]
  },
  {
   "cell_type": "markdown",
   "metadata": {
    "id": "8022xOKxOO92"
   },
   "source": [
    "![assets/multistep_lstm.png](assets/multistep_lstm.png)"
   ]
  },
  {
   "cell_type": "code",
   "execution_count": null,
   "metadata": {
    "id": "Bf1ks6RTzF64"
   },
   "outputs": [],
   "source": [
    "multi_lstm_model = tf.keras.Sequential(\n",
    "    [\n",
    "        tf.keras.layers.LSTM(\n",
    "            32,\n",
    "            return_sequences=False,\n",
    "        ),\n",
    "        tf.keras.layers.Dense(\n",
    "            OUT_STEPS * num_features,\n",
    "            kernel_initializer=tf.initializers.zeros(),\n",
    "        ),\n",
    "        tf.keras.layers.Reshape(\n",
    "            [\n",
    "                OUT_STEPS,\n",
    "                num_features,\n",
    "            ]\n",
    "        ),\n",
    "    ]\n",
    ")\n",
    "\n",
    "history = compile_and_fit(\n",
    "    multi_lstm_model,\n",
    "    multi_window,\n",
    ")\n",
    "\n",
    "clear_output()\n",
    "\n",
    "multi_val_performance[\"LSTM\"] = multi_lstm_model.evaluate(\n",
    "    multi_window.val,\n",
    ")\n",
    "multi_performance[\"LSTM\"] = multi_lstm_model.evaluate(\n",
    "    multi_window.test,\n",
    "    verbose=0,\n",
    ")\n",
    "multi_window.plot(\n",
    "    multi_lstm_model,\n",
    ")"
   ]
  },
  {
   "cell_type": "markdown",
   "metadata": {
    "id": "d5n-1cDW12Vo"
   },
   "source": [
    "**Modelo autoregresivo**"
   ]
  },
  {
   "cell_type": "markdown",
   "metadata": {
    "id": "d5n-1cDW12Vo"
   },
   "source": [
    "![assets/multistep_autoregressive.png](assets/multistep_autoregressive.png)"
   ]
  },
  {
   "cell_type": "markdown",
   "metadata": {
    "id": "PKRreBbULRXY"
   },
   "source": [
    "* **RNN**"
   ]
  },
  {
   "cell_type": "code",
   "execution_count": null,
   "metadata": {
    "id": "s5tz3Nu0R5JG"
   },
   "outputs": [],
   "source": [
    "class FeedBack(tf.keras.Model):\n",
    "    def __init__(self, units, out_steps):\n",
    "        super().__init__()\n",
    "        self.out_steps = out_steps\n",
    "        self.units = units\n",
    "        self.lstm_cell = tf.keras.layers.LSTMCell(units)\n",
    "        self.lstm_rnn = tf.keras.layers.RNN(self.lstm_cell, return_state=True)\n",
    "        self.dense = tf.keras.layers.Dense(num_features)"
   ]
  },
  {
   "cell_type": "code",
   "execution_count": null,
   "metadata": {
    "id": "2OXVM9G1U7xR"
   },
   "outputs": [],
   "source": [
    "feedback_model = FeedBack(units=32, out_steps=OUT_STEPS)"
   ]
  },
  {
   "cell_type": "code",
   "execution_count": null,
   "metadata": {
    "id": "vM2K_LLdRjDZ"
   },
   "outputs": [],
   "source": [
    "def warmup(self, inputs):\n",
    "    x, *state = self.lstm_rnn(inputs)\n",
    "    prediction = self.dense(x)\n",
    "    return prediction, state\n",
    "\n",
    "\n",
    "FeedBack.warmup = warmup"
   ]
  },
  {
   "cell_type": "code",
   "execution_count": null,
   "metadata": {
    "id": "w9Fz6NTKXXwU"
   },
   "outputs": [],
   "source": [
    "prediction, state = feedback_model.warmup(multi_window.example[0])\n",
    "prediction.shape"
   ]
  },
  {
   "cell_type": "code",
   "execution_count": null,
   "metadata": {
    "id": "g1GRDu3mZtr9"
   },
   "outputs": [],
   "source": [
    "def call(self, inputs, training=None):\n",
    "\n",
    "    predictions = []\n",
    "\n",
    "    prediction, state = self.warmup(inputs)\n",
    "\n",
    "    predictions.append(prediction)\n",
    "\n",
    "    for n in range(1, self.out_steps):\n",
    "        x = prediction\n",
    "        x, state = self.lstm_cell(\n",
    "            x,\n",
    "            states=state,\n",
    "            training=training,\n",
    "        )\n",
    "        prediction = self.dense(x)\n",
    "        predictions.append(prediction)\n",
    "\n",
    "    predictions = tf.stack(predictions)\n",
    "    predictions = tf.transpose(predictions, [1, 0, 2])\n",
    "    return predictions\n",
    "\n",
    "\n",
    "FeedBack.call = call"
   ]
  },
  {
   "cell_type": "code",
   "execution_count": null,
   "metadata": {
    "id": "Xja83zEYaM2D"
   },
   "outputs": [],
   "source": [
    "print(\n",
    "    \"Output shape (batch, time, features): \",\n",
    "    feedback_model(multi_window.example[0]).shape,\n",
    ")"
   ]
  },
  {
   "cell_type": "code",
   "execution_count": null,
   "metadata": {
    "id": "VBRVG2hnNyrO"
   },
   "outputs": [],
   "source": [
    "history = compile_and_fit(feedback_model, multi_window)\n",
    "\n",
    "IPython.display.clear_output()\n",
    "\n",
    "multi_val_performance[\"AR LSTM\"] = feedback_model.evaluate(multi_window.val)\n",
    "multi_performance[\"AR LSTM\"] = feedback_model.evaluate(multi_window.test, verbose=0)\n",
    "multi_window.plot(feedback_model)"
   ]
  },
  {
   "cell_type": "markdown",
   "metadata": {
    "id": "hGjcJsAQJUkI"
   },
   "source": [
    "**Desempeño**"
   ]
  },
  {
   "cell_type": "code",
   "execution_count": null,
   "metadata": {
    "id": "WZwWBA8S6B3L"
   },
   "outputs": [],
   "source": [
    "x = np.arange(len(multi_performance))\n",
    "width = 0.3\n",
    "\n",
    "metric_name = \"mean_absolute_error\"\n",
    "metric_index = lstm_model.metrics_names.index(\"mean_absolute_error\")\n",
    "val_mae = [v[metric_index] for v in multi_val_performance.values()]\n",
    "test_mae = [v[metric_index] for v in multi_performance.values()]\n",
    "\n",
    "plt.bar(x - 0.17, val_mae, width, label=\"Validation\")\n",
    "plt.bar(x + 0.17, test_mae, width, label=\"Test\")\n",
    "plt.xticks(ticks=x, labels=multi_performance.keys(), rotation=45)\n",
    "plt.ylabel(f\"MAE (average over all times and outputs)\")\n",
    "_ = plt.legend()"
   ]
  },
  {
   "cell_type": "code",
   "execution_count": null,
   "metadata": {
    "id": "jKq3eAIvH4Db"
   },
   "outputs": [],
   "source": [
    "for name, value in multi_performance.items():\n",
    "    print(f\"{name:8s}: {value[1]:0.4f}\")"
   ]
  }
 ],
 "metadata": {
  "accelerator": "GPU",
  "colab": {
   "collapsed_sections": [],
   "name": "time_series.ipynb",
   "toc_visible": true
  },
  "kernelspec": {
   "display_name": "Python 3 (ipykernel)",
   "language": "python",
   "name": "python3"
  },
  "language_info": {
   "codemirror_mode": {
    "name": "ipython",
    "version": 3
   },
   "file_extension": ".py",
   "mimetype": "text/x-python",
   "name": "python",
   "nbconvert_exporter": "python",
   "pygments_lexer": "ipython3",
   "version": "3.9.10"
  }
 },
 "nbformat": 4,
 "nbformat_minor": 4
}
