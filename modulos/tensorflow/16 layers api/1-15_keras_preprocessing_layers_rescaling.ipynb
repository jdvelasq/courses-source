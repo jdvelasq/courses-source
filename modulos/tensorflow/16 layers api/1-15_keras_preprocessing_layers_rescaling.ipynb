{
 "cells": [
  {
   "cell_type": "markdown",
   "id": "74c38c1f-bf7d-46f6-8423-8718f14874a3",
   "metadata": {
    "tags": []
   },
   "source": [
    "Capa Rescaling --- 0:00 min\n",
    "===\n",
    "\n",
    "* Última modificación: Marzo 7, 2022 | YouTube\n",
    "\n",
    "* Adaptado de: https://keras.io/api/layers/preprocessing_layers/image_preprocessing/rescaling/"
   ]
  },
  {
   "cell_type": "markdown",
   "id": "3412d79a-3692-4e81-86ca-f32fc55f6bd5",
   "metadata": {
    "tags": []
   },
   "source": [
    "Importación de librerías\n",
    "---"
   ]
  },
  {
   "cell_type": "code",
   "execution_count": 1,
   "id": "5e55b57b-094e-4ea2-8053-c11c4dd7e548",
   "metadata": {},
   "outputs": [
    {
     "data": {
      "text/plain": [
       "'2.8.0'"
      ]
     },
     "execution_count": 1,
     "metadata": {},
     "output_type": "execute_result"
    }
   ],
   "source": [
    "import os\n",
    "\n",
    "os.environ[\"TF_CPP_MIN_LOG_LEVEL\"] = \"2\"\n",
    "\n",
    "import tensorflow as tf\n",
    "\n",
    "tf.__version__"
   ]
  },
  {
   "cell_type": "markdown",
   "id": "9e92655c-5887-4e44-96d1-df2c696d7621",
   "metadata": {},
   "source": [
    "Ejemplos de uso\n",
    "---"
   ]
  },
  {
   "cell_type": "markdown",
   "id": "e155d568-3d34-4e66-88a6-e003eaf97ba8",
   "metadata": {},
   "source": [
    "Cambia la escala de los valores de entrada a un nuevo rango."
   ]
  },
  {
   "cell_type": "code",
   "execution_count": null,
   "id": "e1c0525c-35de-4415-accb-922d02a4e116",
   "metadata": {},
   "outputs": [],
   "source": []
  }
 ],
 "metadata": {
  "kernelspec": {
   "display_name": "Python 3 (ipykernel)",
   "language": "python",
   "name": "python3"
  },
  "language_info": {
   "codemirror_mode": {
    "name": "ipython",
    "version": 3
   },
   "file_extension": ".py",
   "mimetype": "text/x-python",
   "name": "python",
   "nbconvert_exporter": "python",
   "pygments_lexer": "ipython3",
   "version": "3.9.10"
  }
 },
 "nbformat": 4,
 "nbformat_minor": 5
}
