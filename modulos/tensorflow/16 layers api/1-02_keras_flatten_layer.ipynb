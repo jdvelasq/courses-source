{
 "cells": [
  {
   "cell_type": "markdown",
   "id": "e6e624ce-f570-4bb8-930e-448e203ced63",
   "metadata": {
    "tags": []
   },
   "source": [
    "Capa Flatten --- 0:00 min\n",
    "===\n",
    "\n",
    "* Última modificación: Marzo 7, 2022 | YouTube\n",
    "\n",
    "* Adaptado de: https://keras.io/api/layers/reshaping_layers/flatten/"
   ]
  },
  {
   "cell_type": "markdown",
   "id": "b242cb63-b269-47ff-a99c-3f7ab0a92899",
   "metadata": {},
   "source": [
    "Aplana la entrada sin afectar el tamaño del batch."
   ]
  },
  {
   "cell_type": "markdown",
   "id": "fabb7a61-2c4b-4b4c-83c5-a8998b818620",
   "metadata": {
    "tags": []
   },
   "source": [
    "Importación de librerías\n",
    "---"
   ]
  },
  {
   "cell_type": "code",
   "execution_count": 1,
   "id": "c7394b54-57df-4b6b-b02f-29da80a2052d",
   "metadata": {},
   "outputs": [
    {
     "data": {
      "text/plain": [
       "'2.8.0'"
      ]
     },
     "execution_count": 1,
     "metadata": {},
     "output_type": "execute_result"
    }
   ],
   "source": [
    "import os\n",
    "\n",
    "os.environ[\"TF_CPP_MIN_LOG_LEVEL\"] = \"2\"\n",
    "\n",
    "import tensorflow as tf\n",
    "\n",
    "tf.__version__"
   ]
  },
  {
   "cell_type": "markdown",
   "id": "87c94d6d-7f5f-4d22-9c82-079a65c6394f",
   "metadata": {},
   "source": [
    "Ejemplos de uso\n",
    "---"
   ]
  },
  {
   "cell_type": "code",
   "execution_count": 2,
   "id": "d1da5745-a9d2-4cfa-bc83-27c4d2025032",
   "metadata": {},
   "outputs": [
    {
     "data": {
      "text/plain": [
       "(None, 1, 10, 64)"
      ]
     },
     "execution_count": 2,
     "metadata": {},
     "output_type": "execute_result"
    }
   ],
   "source": [
    "model = tf.keras.Sequential()\n",
    "model.add(tf.keras.layers.Conv2D(64, 3, 3, input_shape=(3, 32, 32),),)\n",
    "model.output_shape"
   ]
  },
  {
   "cell_type": "code",
   "execution_count": 3,
   "id": "bb699d15-ae2d-472c-aaa5-8fa0a02dd92e",
   "metadata": {},
   "outputs": [
    {
     "data": {
      "text/plain": [
       "(None, 640)"
      ]
     },
     "execution_count": 3,
     "metadata": {},
     "output_type": "execute_result"
    }
   ],
   "source": [
    "model.add(tf.keras.layers.Flatten(),)\n",
    "model.output_shape"
   ]
  }
 ],
 "metadata": {
  "kernelspec": {
   "display_name": "Python 3 (ipykernel)",
   "language": "python",
   "name": "python3"
  },
  "language_info": {
   "codemirror_mode": {
    "name": "ipython",
    "version": 3
   },
   "file_extension": ".py",
   "mimetype": "text/x-python",
   "name": "python",
   "nbconvert_exporter": "python",
   "pygments_lexer": "ipython3",
   "version": "3.9.10"
  }
 },
 "nbformat": 4,
 "nbformat_minor": 5
}
