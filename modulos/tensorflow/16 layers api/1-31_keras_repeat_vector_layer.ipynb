{
 "cells": [
  {
   "cell_type": "markdown",
   "id": "23f35cdc-14fc-47b2-a346-9cbade31263d",
   "metadata": {
    "tags": []
   },
   "source": [
    "Capa RepeatVector --- 0:00 min\n",
    "===\n",
    "\n",
    "* Última modificación: Marzo 7, 2022 | YouTube\n",
    "\n",
    "* Adaptado de: https://keras.io/api/layers/reshaping_layers/repeat_vector/"
   ]
  },
  {
   "cell_type": "markdown",
   "id": "4fa531d5-e7fd-4934-88f3-ea601141237d",
   "metadata": {},
   "source": [
    "Repite la entrada `n` veces."
   ]
  },
  {
   "cell_type": "markdown",
   "id": "e3b91939-f07f-4612-b80e-d7f59034c91a",
   "metadata": {
    "tags": []
   },
   "source": [
    "Importación de librerías\n",
    "---"
   ]
  },
  {
   "cell_type": "code",
   "execution_count": 1,
   "id": "2256316c-a839-4461-af75-4c4055c45d3e",
   "metadata": {},
   "outputs": [
    {
     "data": {
      "text/plain": [
       "'2.8.0'"
      ]
     },
     "execution_count": 1,
     "metadata": {},
     "output_type": "execute_result"
    }
   ],
   "source": [
    "import os\n",
    "\n",
    "os.environ[\"TF_CPP_MIN_LOG_LEVEL\"] = \"2\"\n",
    "\n",
    "import tensorflow as tf\n",
    "\n",
    "tf.__version__"
   ]
  },
  {
   "cell_type": "markdown",
   "id": "aa25be09-ac8d-4a9f-b222-9752e940e6ce",
   "metadata": {},
   "source": [
    "Ejemplos de uso\n",
    "---"
   ]
  },
  {
   "cell_type": "code",
   "execution_count": 2,
   "id": "d0ad6079-70fc-458f-ada9-aa8b287ffbc3",
   "metadata": {},
   "outputs": [
    {
     "data": {
      "text/plain": [
       "(None, 32)"
      ]
     },
     "execution_count": 2,
     "metadata": {},
     "output_type": "execute_result"
    }
   ],
   "source": [
    "model = tf.keras.models.Sequential()\n",
    "model.add(tf.keras.layers.Dense(32, input_dim=32))\n",
    "model.output_shape"
   ]
  },
  {
   "cell_type": "code",
   "execution_count": 3,
   "id": "1182ea9a-2997-4b55-b280-56042eb3a81c",
   "metadata": {},
   "outputs": [
    {
     "data": {
      "text/plain": [
       "(None, 3, 32)"
      ]
     },
     "execution_count": 3,
     "metadata": {},
     "output_type": "execute_result"
    }
   ],
   "source": [
    "model.add(tf.keras.layers.RepeatVector(3))\n",
    "model.output_shape"
   ]
  }
 ],
 "metadata": {
  "kernelspec": {
   "display_name": "Python 3 (ipykernel)",
   "language": "python",
   "name": "python3"
  },
  "language_info": {
   "codemirror_mode": {
    "name": "ipython",
    "version": 3
   },
   "file_extension": ".py",
   "mimetype": "text/x-python",
   "name": "python",
   "nbconvert_exporter": "python",
   "pygments_lexer": "ipython3",
   "version": "3.9.10"
  }
 },
 "nbformat": 4,
 "nbformat_minor": 5
}
