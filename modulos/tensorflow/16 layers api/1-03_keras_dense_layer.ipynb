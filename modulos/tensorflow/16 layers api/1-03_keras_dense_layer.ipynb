{
 "cells": [
  {
   "cell_type": "markdown",
   "id": "3ba5dedb-d3c7-481e-a23c-379a7322f5ca",
   "metadata": {
    "tags": []
   },
   "source": [
    "Capa Dense --- 0:00 min\n",
    "===\n",
    "\n",
    "* Última modificación: Marzo 7, 2022 | YouTube\n",
    "\n",
    "* Adaptado de: https://keras.io/api/layers/constraints/"
   ]
  },
  {
   "cell_type": "markdown",
   "id": "c7faa860-28f8-4292-84e8-58c52fcb459b",
   "metadata": {
    "tags": []
   },
   "source": [
    "Importación de librerías\n",
    "---"
   ]
  },
  {
   "cell_type": "code",
   "execution_count": 1,
   "id": "959b515f-582f-4d35-bf98-e99f52556b37",
   "metadata": {},
   "outputs": [
    {
     "data": {
      "text/plain": [
       "'2.8.0'"
      ]
     },
     "execution_count": 1,
     "metadata": {},
     "output_type": "execute_result"
    }
   ],
   "source": [
    "import os\n",
    "\n",
    "os.environ[\"TF_CPP_MIN_LOG_LEVEL\"] = \"2\"\n",
    "\n",
    "import tensorflow as tf\n",
    "\n",
    "tf.__version__"
   ]
  },
  {
   "cell_type": "markdown",
   "id": "c624a7be-6274-4f34-bdd7-4eb77f2b2f58",
   "metadata": {
    "tags": []
   },
   "source": [
    "Capa Dense\n",
    "--"
   ]
  },
  {
   "cell_type": "markdown",
   "id": "4ddae1a6-008b-41fc-9fe7-bfbb6ab016fc",
   "metadata": {},
   "source": [
    "```output = activation(dot(input, kernel) + bias)```"
   ]
  },
  {
   "cell_type": "code",
   "execution_count": 4,
   "id": "c824b2fa-a210-42ed-8cf5-2837476fcb99",
   "metadata": {},
   "outputs": [
    {
     "data": {
      "text/plain": [
       "(None, 32)"
      ]
     },
     "execution_count": 4,
     "metadata": {},
     "output_type": "execute_result"
    }
   ],
   "source": [
    "model = tf.keras.models.Sequential()\n",
    "model.add(\n",
    "    tf.keras.Input(shape=(16,)),\n",
    ")\n",
    "model.add(\n",
    "    tf.keras.layers.Dense(32, activation=\"relu\"),\n",
    ")\n",
    "model.add(\n",
    "    #\n",
    "    # Por defecto la activación es `linear`\n",
    "    #\n",
    "    tf.keras.layers.Dense(32),\n",
    ")\n",
    "model.output_shape"
   ]
  }
 ],
 "metadata": {
  "kernelspec": {
   "display_name": "Python 3 (ipykernel)",
   "language": "python",
   "name": "python3"
  },
  "language_info": {
   "codemirror_mode": {
    "name": "ipython",
    "version": 3
   },
   "file_extension": ".py",
   "mimetype": "text/x-python",
   "name": "python",
   "nbconvert_exporter": "python",
   "pygments_lexer": "ipython3",
   "version": "3.9.10"
  }
 },
 "nbformat": 4,
 "nbformat_minor": 5
}
