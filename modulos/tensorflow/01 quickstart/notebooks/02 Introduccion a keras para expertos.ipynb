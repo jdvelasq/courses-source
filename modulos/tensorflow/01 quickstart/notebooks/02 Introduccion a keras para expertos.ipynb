{
 "cells": [
  {
   "cell_type": "markdown",
   "metadata": {
    "tags": []
   },
   "source": [
    "Introducción rápida a Keras para expertos --- 21:43 min\n",
    "===\n",
    "\n",
    "* Última modificación: Mayo 5, 2022 | [YouTube](https://youtu.be/L6LjhCsdYy8)"
   ]
  },
  {
   "cell_type": "markdown",
   "metadata": {
    "tags": []
   },
   "source": [
    "Importación de librerías\n",
    "---"
   ]
  },
  {
   "cell_type": "code",
   "execution_count": 1,
   "metadata": {},
   "outputs": [
    {
     "data": {
      "text/plain": [
       "'2.8.0'"
      ]
     },
     "execution_count": 1,
     "metadata": {},
     "output_type": "execute_result"
    }
   ],
   "source": [
    "import os\n",
    "\n",
    "os.environ[\"TF_CPP_MIN_LOG_LEVEL\"] = \"2\"\n",
    "\n",
    "import tensorflow as tf\n",
    "\n",
    "tf.__version__"
   ]
  },
  {
   "cell_type": "markdown",
   "metadata": {},
   "source": [
    "Descarga de datos\n",
    "---"
   ]
  },
  {
   "cell_type": "code",
   "execution_count": 2,
   "metadata": {
    "id": "JqFRS6K07jJs"
   },
   "outputs": [
    {
     "data": {
      "text/plain": [
       "(60000, 28, 28)"
      ]
     },
     "execution_count": 2,
     "metadata": {},
     "output_type": "execute_result"
    }
   ],
   "source": [
    "(x_train, y_train), (x_test, y_test) = tf.keras.datasets.mnist.load_data()\n",
    "\n",
    "#\n",
    "# Dimensiones de x_train\n",
    "#\n",
    "x_train.shape"
   ]
  },
  {
   "cell_type": "code",
   "execution_count": 3,
   "metadata": {
    "tags": []
   },
   "outputs": [],
   "source": [
    "#\n",
    "# x_train[0]:\n",
    "#\n",
    "# [[  0,   0,   0,   0,   0,   0,   0,   0,   0,   0,   0,   0,   0,    0,   0,   0,   0,   0,   0,   0,   0,   0,   0,   0,   0,   0,    0,   0],\n",
    "#  [  0,   0,   0,   0,   0,   0,   0,   0,   0,   0,   0,   0,   0,    0,   0,   0,   0,   0,   0,   0,   0,   0,   0,   0,   0,   0,    0,   0],\n",
    "#  [  0,   0,   0,   0,   0,   0,   0,   0,   0,   0,   0,   0,   0,    0,   0,   0,   0,   0,   0,   0,   0,   0,   0,   0,   0,   0,    0,   0],\n",
    "#  [  0,   0,   0,   0,   0,   0,   0,   0,   0,   0,   0,   0,   0,    0,   0,   0,   0,   0,   0,   0,   0,   0,   0,   0,   0,   0,    0,   0],\n",
    "#  [  0,   0,   0,   0,   0,   0,   0,   0,   0,   0,   0,   0,   0,    0,   0,   0,   0,   0,   0,   0,   0,   0,   0,   0,   0,   0,    0,   0],\n",
    "#  [  0,   0,   0,   0,   0,   0,   0,   0,   0,   0,   0,   0,   3,   18,  18,  18, 126, 136, 175,  26, 166, 255, 247, 127,   0,   0,    0,   0],\n",
    "#  [  0,   0,   0,   0,   0,   0,   0,   0,  30,  36,  94, 154, 170,  253, 253, 253, 253, 253, 225, 172, 253, 242, 195,  64,   0,   0,    0,   0],\n",
    "#  [  0,   0,   0,   0,   0,   0,   0,  49, 238, 253, 253, 253, 253,  253, 253, 253, 253, 251,  93,  82,  82,  56,  39,   0,   0,   0,    0,   0],\n",
    "#  [  0,   0,   0,   0,   0,   0,   0,  18, 219, 253, 253, 253, 253,  253, 198, 182, 247, 241,   0,   0,   0,   0,   0,   0,   0,   0,    0,   0],\n",
    "#  [  0,   0,   0,   0,   0,   0,   0,   0,  80, 156, 107, 253, 253,  205,  11,   0,  43, 154,   0,   0,   0,   0,   0,   0,   0,   0,    0,   0],\n",
    "#  [  0,   0,   0,   0,   0,   0,   0,   0,   0,  14,   1, 154, 253,   90,   0,   0,   0,   0,   0,   0,   0,   0,   0,   0,   0,   0,    0,   0],\n",
    "#  [  0,   0,   0,   0,   0,   0,   0,   0,   0,   0,   0, 139, 253,  190,   2,   0,   0,   0,   0,   0,   0,   0,   0,   0,   0,   0,    0,   0],\n",
    "#  [  0,   0,   0,   0,   0,   0,   0,   0,   0,   0,   0,  11, 190,  253,  70,   0,   0,   0,   0,   0,   0,   0,   0,   0,   0,   0,    0,   0],\n",
    "#  [  0,   0,   0,   0,   0,   0,   0,   0,   0,   0,   0,   0,  35,  241, 225, 160, 108,   1,   0,   0,   0,   0,   0,   0,   0,   0,    0,   0],\n",
    "#  [  0,   0,   0,   0,   0,   0,   0,   0,   0,   0,   0,   0,   0,   81, 240, 253, 253, 119,  25,   0,   0,   0,   0,   0,   0,   0,    0,   0],\n",
    "#  [  0,   0,   0,   0,   0,   0,   0,   0,   0,   0,   0,   0,   0,    0,  45, 186, 253, 253, 150,  27,   0,   0,   0,   0,   0,   0,    0,   0],\n",
    "#  [  0,   0,   0,   0,   0,   0,   0,   0,   0,   0,   0,   0,   0,    0,   0,  16,  93, 252, 253, 187,   0,   0,   0,   0,   0,   0,    0,   0],\n",
    "#  [  0,   0,   0,   0,   0,   0,   0,   0,   0,   0,   0,   0,   0,    0,   0,   0,   0, 249, 253, 249,  64,   0,   0,   0,   0,   0,    0,   0],\n",
    "#  [  0,   0,   0,   0,   0,   0,   0,   0,   0,   0,   0,   0,   0,    0,  46, 130, 183, 253, 253, 207,   2,   0,   0,   0,   0,   0,    0,   0],\n",
    "#  [  0,   0,   0,   0,   0,   0,   0,   0,   0,   0,   0,   0,  39,  148, 229, 253, 253, 253, 250, 182,   0,   0,   0,   0,   0,   0,    0,   0],\n",
    "#  [  0,   0,   0,   0,   0,   0,   0,   0,   0,   0,  24, 114, 221,  253, 253, 253, 253, 201,  78,   0,   0,   0,   0,   0,   0,   0,    0,   0],\n",
    "#  [  0,   0,   0,   0,   0,   0,   0,   0,  23,  66, 213, 253, 253,  253, 253, 198,  81,   2,   0,   0,   0,   0,   0,   0,   0,   0,    0,   0],\n",
    "#  [  0,   0,   0,   0,   0,   0,  18, 171, 219, 253, 253, 253, 253,  195,  80,   9,   0,   0,   0,   0,   0,   0,   0,   0,   0,   0,    0,   0],\n",
    "#  [  0,   0,   0,   0,  55, 172, 226, 253, 253, 253, 253, 244, 133,   11,   0,   0,   0,   0,   0,   0,   0,   0,   0,   0,   0,   0,    0,   0],\n",
    "#  [  0,   0,   0,   0, 136, 253, 253, 253, 212, 135, 132,  16,   0,    0,   0,   0,   0,   0,   0,   0,   0,   0,   0,   0,   0,   0,    0,   0],\n",
    "#  [  0,   0,   0,   0,   0,   0,   0,   0,   0,   0,   0,   0,   0,    0,   0,   0,   0,   0,   0,   0,   0,   0,   0,   0,   0,   0,    0,   0],\n",
    "#  [  0,   0,   0,   0,   0,   0,   0,   0,   0,   0,   0,   0,   0,    0,   0,   0,   0,   0,   0,   0,   0,   0,   0,   0,   0,   0,    0,   0],\n",
    "#  [  0,   0,   0,   0,   0,   0,   0,   0,   0,   0,   0,   0,   0,    0,   0,   0,   0,   0,   0,   0,   0,   0,   0,   0,   0,   0,    0,   0]]\n",
    "#"
   ]
  },
  {
   "cell_type": "code",
   "execution_count": 4,
   "metadata": {
    "id": "JqFRS6K07jJs"
   },
   "outputs": [],
   "source": [
    "#\n",
    "# Adición de una dimensión al tensor\n",
    "#\n",
    "x_train = x_train[..., tf.newaxis].astype(\"int\")\n",
    "x_test = x_test[..., tf.newaxis].astype(\"int\")"
   ]
  },
  {
   "cell_type": "code",
   "execution_count": 5,
   "metadata": {},
   "outputs": [
    {
     "data": {
      "text/plain": [
       "((60000, 28, 28, 1), (10000, 28, 28, 1))"
      ]
     },
     "execution_count": 5,
     "metadata": {},
     "output_type": "execute_result"
    }
   ],
   "source": [
    "x_train.shape, x_test.shape"
   ]
  },
  {
   "cell_type": "code",
   "execution_count": 6,
   "metadata": {
    "tags": []
   },
   "outputs": [],
   "source": [
    "#\n",
    "# x_train[0]:\n",
    "#\n",
    "# [[[  0], [  0], [  0], [  0], [  0], [  0], [  0], [  0], [  0], [  0], [  0], [  0], [  0],  [  0], [  0], [  0], [  0], [  0], [  0], [  0], [  0], [  0], [  0], [  0], [  0], [  0], [   0], [  0]],\n",
    "#  [[  0], [  0], [  0], [  0], [  0], [  0], [  0], [  0], [  0], [  0], [  0], [  0], [  0],  [  0], [  0], [  0], [  0], [  0], [  0], [  0], [  0], [  0], [  0], [  0], [  0], [  0], [   0], [  0]],\n",
    "#  [[  0], [  0], [  0], [  0], [  0], [  0], [  0], [  0], [  0], [  0], [  0], [  0], [  0],  [  0], [  0], [  0], [  0], [  0], [  0], [  0], [  0], [  0], [  0], [  0], [  0], [  0], [   0], [  0]],\n",
    "#  [[  0], [  0], [  0], [  0], [  0], [  0], [  0], [  0], [  0], [  0], [  0], [  0], [  0],  [  0], [  0], [  0], [  0], [  0], [  0], [  0], [  0], [  0], [  0], [  0], [  0], [  0], [   0], [  0]],\n",
    "#  [[  0], [  0], [  0], [  0], [  0], [  0], [  0], [  0], [  0], [  0], [  0], [  0], [  0],  [  0], [  0], [  0], [  0], [  0], [  0], [  0], [  0], [  0], [  0], [  0], [  0], [  0], [   0], [  0]],\n",
    "#  [[  0], [  0], [  0], [  0], [  0], [  0], [  0], [  0], [  0], [  0], [  0], [  0], [  3],  [ 18], [ 18], [ 18], [126], [136], [175], [ 26], [166], [255], [247], [127], [  0], [  0], [   0], [  0]],\n",
    "#  [[  0], [  0], [  0], [  0], [  0], [  0], [  0], [  0], [ 30], [ 36], [ 94], [154], [170],  [253], [253], [253], [253], [253], [225], [172], [253], [242], [195], [ 64], [  0], [  0], [   0], [  0]],\n",
    "#  [[  0], [  0], [  0], [  0], [  0], [  0], [  0], [ 49], [238], [253], [253], [253], [253],  [253], [253], [253], [253], [251], [ 93], [ 82], [ 82], [ 56], [ 39], [  0], [  0], [  0], [   0], [  0]],\n",
    "#  [[  0], [  0], [  0], [  0], [  0], [  0], [  0], [ 18], [219], [253], [253], [253], [253],  [253], [198], [182], [247], [241], [  0], [  0], [  0], [  0], [  0], [  0], [  0], [  0], [   0], [  0]],\n",
    "#  [[  0], [  0], [  0], [  0], [  0], [  0], [  0], [  0], [ 80], [156], [107], [253], [253],  [205], [ 11], [  0], [ 43], [154], [  0], [  0], [  0], [  0], [  0], [  0], [  0], [  0], [   0], [  0]],\n",
    "#  [[  0], [  0], [  0], [  0], [  0], [  0], [  0], [  0], [  0], [ 14], [  1], [154], [253],  [ 90], [  0], [  0], [  0], [  0], [  0], [  0], [  0], [  0], [  0], [  0], [  0], [  0], [   0], [  0]],\n",
    "#  [[  0], [  0], [  0], [  0], [  0], [  0], [  0], [  0], [  0], [  0], [  0], [139], [253],  [190], [  2], [  0], [  0], [  0], [  0], [  0], [  0], [  0], [  0], [  0], [  0], [  0], [   0], [  0]],\n",
    "#  [[  0], [  0], [  0], [  0], [  0], [  0], [  0], [  0], [  0], [  0], [  0], [ 11], [190],  [253], [ 70], [  0], [  0], [  0], [  0], [  0], [  0], [  0], [  0], [  0], [  0], [  0], [   0], [  0]],\n",
    "#  [[  0], [  0], [  0], [  0], [  0], [  0], [  0], [  0], [  0], [  0], [  0], [  0], [ 35],  [241], [225], [160], [108], [  1], [  0], [  0], [  0], [  0], [  0], [  0], [  0], [  0], [   0], [  0]],\n",
    "#  [[  0], [  0], [  0], [  0], [  0], [  0], [  0], [  0], [  0], [  0], [  0], [  0], [  0],  [ 81], [240], [253], [253], [119], [ 25], [  0], [  0], [  0], [  0], [  0], [  0], [  0], [   0], [  0]],\n",
    "#  [[  0], [  0], [  0], [  0], [  0], [  0], [  0], [  0], [  0], [  0], [  0], [  0], [  0],  [  0], [ 45], [186], [253], [253], [150], [ 27], [  0], [  0], [  0], [  0], [  0], [  0], [   0], [  0]],\n",
    "#  [[  0], [  0], [  0], [  0], [  0], [  0], [  0], [  0], [  0], [  0], [  0], [  0], [  0],  [  0], [  0], [ 16], [ 93], [252], [253], [187], [  0], [  0], [  0], [  0], [  0], [  0], [   0], [  0]],\n",
    "#  [[  0], [  0], [  0], [  0], [  0], [  0], [  0], [  0], [  0], [  0], [  0], [  0], [  0],  [  0], [  0], [  0], [  0], [249], [253], [249], [ 64], [  0], [  0], [  0], [  0], [  0], [   0], [  0]],\n",
    "#  [[  0], [  0], [  0], [  0], [  0], [  0], [  0], [  0], [  0], [  0], [  0], [  0], [  0],  [  0], [ 46], [130], [183], [253], [253], [207], [  2], [  0], [  0], [  0], [  0], [  0], [   0], [  0]],\n",
    "#  [[  0], [  0], [  0], [  0], [  0], [  0], [  0], [  0], [  0], [  0], [  0], [  0], [ 39],  [148], [229], [253], [253], [253], [250], [182], [  0], [  0], [  0], [  0], [  0], [  0], [   0], [  0]],\n",
    "#  [[  0], [  0], [  0], [  0], [  0], [  0], [  0], [  0], [  0], [  0], [ 24], [114], [221],  [253], [253], [253], [253], [201], [ 78], [  0], [  0], [  0], [  0], [  0], [  0], [  0], [   0], [  0]],\n",
    "#  [[  0], [  0], [  0], [  0], [  0], [  0], [  0], [  0], [ 23], [ 66], [213], [253], [253],  [253], [253], [198], [ 81], [  2], [  0], [  0], [  0], [  0], [  0], [  0], [  0], [  0], [   0], [  0]],\n",
    "#  [[  0], [  0], [  0], [  0], [  0], [  0], [ 18], [171], [219], [253], [253], [253], [253],  [195], [ 80], [  9], [  0], [  0], [  0], [  0], [  0], [  0], [  0], [  0], [  0], [  0], [   0], [  0]],\n",
    "#  [[  0], [  0], [  0], [  0], [ 55], [172], [226], [253], [253], [253], [253], [244], [133],  [ 11], [  0], [  0], [  0], [  0], [  0], [  0], [  0], [  0], [  0], [  0], [  0], [  0], [   0], [  0]],\n",
    "#  [[  0], [  0], [  0], [  0], [136], [253], [253], [253], [212], [135], [132], [ 16], [  0],  [  0], [  0], [  0], [  0], [  0], [  0], [  0], [  0], [  0], [  0], [  0], [  0], [  0], [   0], [  0]],\n",
    "#  [[  0], [  0], [  0], [  0], [  0], [  0], [  0], [  0], [  0], [  0], [  0], [  0], [  0],  [  0], [  0], [  0], [  0], [  0], [  0], [  0], [  0], [  0], [  0], [  0], [  0], [  0], [   0], [  0]],\n",
    "#  [[  0], [  0], [  0], [  0], [  0], [  0], [  0], [  0], [  0], [  0], [  0], [  0], [  0],  [  0], [  0], [  0], [  0], [  0], [  0], [  0], [  0], [  0], [  0], [  0], [  0], [  0], [   0], [  0]],\n",
    "#  [[  0], [  0], [  0], [  0], [  0], [  0], [  0], [  0], [  0], [  0], [  0], [  0], [  0],  [  0], [  0], [  0], [  0], [  0], [  0], [  0], [  0], [  0], [  0], [  0], [  0], [  0], [   0], [  0]]]\n",
    "#"
   ]
  },
  {
   "cell_type": "code",
   "execution_count": 7,
   "metadata": {
    "id": "JqFRS6K07jJs"
   },
   "outputs": [],
   "source": [
    "#\n",
    "# Escalamiento del dataset\n",
    "#\n",
    "x_train, x_test = x_train / 255.0, x_test / 255.0"
   ]
  },
  {
   "cell_type": "markdown",
   "metadata": {},
   "source": [
    "Uso de tf.data.Dataset\n",
    "---"
   ]
  },
  {
   "cell_type": "code",
   "execution_count": 8,
   "metadata": {
    "id": "8Iu_quO024c2"
   },
   "outputs": [],
   "source": [
    "train_ds = (\n",
    "    tf.data.Dataset.from_tensor_slices((x_train, y_train))\n",
    "    .shuffle(buffer_size=10000)\n",
    "    .batch(batch_size=32)\n",
    ")\n",
    "\n",
    "test_ds = tf.data.Dataset.from_tensor_slices((x_test, y_test)).batch(batch_size=32)"
   ]
  },
  {
   "cell_type": "markdown",
   "metadata": {},
   "source": [
    "Especificación del modelo\n",
    "--"
   ]
  },
  {
   "cell_type": "code",
   "execution_count": 9,
   "metadata": {
    "id": "h3IKyzTCDNGo"
   },
   "outputs": [],
   "source": [
    "class MyModel(tf.keras.Model):\n",
    "    #\n",
    "    def __init__(self):\n",
    "        super(MyModel, self).__init__()\n",
    "        self.conv1 = tf.keras.layers.Conv2D(\n",
    "            filters=32, kernel_size=3, activation=\"relu\"\n",
    "        )\n",
    "        self.flatten = tf.keras.layers.Flatten()\n",
    "        self.d1 = tf.keras.layers.Dense(units=128, activation=\"relu\")\n",
    "        self.d2 = tf.keras.layers.Dense(units=10)\n",
    "\n",
    "    def call(self, x):\n",
    "        x = self.conv1(x)\n",
    "        x = self.flatten(x)\n",
    "        x = self.d1(x)\n",
    "        return self.d2(x)\n",
    "\n",
    "\n",
    "#\n",
    "# Creación de una instancia del modelo\n",
    "#\n",
    "model = MyModel()"
   ]
  },
  {
   "cell_type": "markdown",
   "metadata": {},
   "source": [
    "![assets/Conv2D.png](assets/Conv2D.png)"
   ]
  },
  {
   "cell_type": "code",
   "execution_count": 10,
   "metadata": {
    "id": "u48C9WQ774n4"
   },
   "outputs": [],
   "source": [
    "#\n",
    "# Función de pérdida\n",
    "#\n",
    "loss_fn = tf.keras.losses.SparseCategoricalCrossentropy(from_logits=True)"
   ]
  },
  {
   "cell_type": "code",
   "execution_count": 11,
   "metadata": {
    "id": "u48C9WQ774n4"
   },
   "outputs": [],
   "source": [
    "#\n",
    "# Optimizador\n",
    "#\n",
    "optimizer = tf.optimizers.SGD(\n",
    "    learning_rate=0.01,\n",
    "    momentum=0.0,\n",
    ")"
   ]
  },
  {
   "cell_type": "code",
   "execution_count": 12,
   "metadata": {
    "id": "N0MqHFb4F_qn"
   },
   "outputs": [],
   "source": [
    "#\n",
    "# Métricas\n",
    "#\n",
    "train_loss = tf.keras.metrics.Mean(name=\"train_loss\")\n",
    "train_accuracy = tf.keras.metrics.SparseCategoricalAccuracy(name=\"train_accuracy\")\n",
    "\n",
    "test_loss = tf.keras.metrics.Mean(name=\"test_loss\")\n",
    "test_accuracy = tf.keras.metrics.SparseCategoricalAccuracy(name=\"test_accuracy\")"
   ]
  },
  {
   "cell_type": "code",
   "execution_count": 13,
   "metadata": {
    "id": "OZACiVqA8KQV"
   },
   "outputs": [],
   "source": [
    "#\n",
    "# Uso de gradient tape\n",
    "#\n",
    "@tf.function\n",
    "def train_step(images, labels):\n",
    "\n",
    "    with tf.GradientTape() as tape:\n",
    "        #\n",
    "        # trainig=true cuando el compotamiento de las capas es diferente\n",
    "        # durante la optimización y el pronóstico\n",
    "        #\n",
    "        predictions = model(images, training=True)\n",
    "        loss = loss_fn(labels, predictions)\n",
    "\n",
    "    gradients = tape.gradient(loss, model.trainable_variables)\n",
    "    optimizer.apply_gradients(zip(gradients, model.trainable_variables))\n",
    "\n",
    "    train_loss(loss)\n",
    "    train_accuracy(labels, predictions)"
   ]
  },
  {
   "cell_type": "code",
   "execution_count": 14,
   "metadata": {
    "id": "xIKdEzHAJGt7"
   },
   "outputs": [],
   "source": [
    "@tf.function\n",
    "def test_step(images, labels):\n",
    "    #\n",
    "    # trainig=true cuando el compotamiento de las capas es diferente\n",
    "    # durante la optimización y el pronóstico\n",
    "    #\n",
    "    predictions = model(images, training=False)\n",
    "    t_loss = loss_fn(labels, predictions)\n",
    "\n",
    "    test_loss(t_loss)\n",
    "    test_accuracy(labels, predictions)"
   ]
  },
  {
   "cell_type": "code",
   "execution_count": 15,
   "metadata": {
    "id": "i-2pkctU_Ci7"
   },
   "outputs": [
    {
     "name": "stdout",
     "output_type": "stream",
     "text": [
      "Epoch 1, Loss: 0.3825593888759613, Accuracy: 89.28499603271484, Test Loss: 0.2060219943523407, Test Accuracy: 94.29000091552734\n",
      "Epoch 2, Loss: 0.18116262555122375, Accuracy: 94.71666717529297, Test Loss: 0.1426265984773636, Test Accuracy: 95.70999908447266\n",
      "Epoch 3, Loss: 0.13406573235988617, Accuracy: 96.02666473388672, Test Loss: 0.11405584216117859, Test Accuracy: 96.62000274658203\n",
      "Epoch 4, Loss: 0.10831490904092789, Accuracy: 96.8316650390625, Test Loss: 0.10184676945209503, Test Accuracy: 96.98999786376953\n",
      "Epoch 5, Loss: 0.09131139516830444, Accuracy: 97.30999755859375, Test Loss: 0.08994652330875397, Test Accuracy: 97.3699951171875\n"
     ]
    }
   ],
   "source": [
    "EPOCHS = 5\n",
    "\n",
    "for epoch in range(EPOCHS):\n",
    "    #\n",
    "    # Reinicio de las métricas durante cada iteración\n",
    "    #\n",
    "    train_loss.reset_states()\n",
    "    train_accuracy.reset_states()\n",
    "    test_loss.reset_states()\n",
    "    test_accuracy.reset_states()\n",
    "\n",
    "    for images, labels in train_ds:\n",
    "        train_step(images, labels)\n",
    "\n",
    "    for test_images, test_labels in test_ds:\n",
    "        test_step(test_images, test_labels)\n",
    "\n",
    "    print(\n",
    "        f\"Epoch {epoch + 1}, \"\n",
    "        f\"Loss: {train_loss.result()}, \"\n",
    "        f\"Accuracy: {train_accuracy.result() * 100}, \"\n",
    "        f\"Test Loss: {test_loss.result()}, \"\n",
    "        f\"Test Accuracy: {test_accuracy.result() * 100}\"\n",
    "    )"
   ]
  }
 ],
 "metadata": {
  "accelerator": "GPU",
  "colab": {
   "collapsed_sections": [],
   "name": "advanced.ipynb",
   "toc_visible": true
  },
  "kernelspec": {
   "display_name": "Python 3 (ipykernel)",
   "language": "python",
   "name": "python3"
  },
  "language_info": {
   "codemirror_mode": {
    "name": "ipython",
    "version": 3
   },
   "file_extension": ".py",
   "mimetype": "text/x-python",
   "name": "python",
   "nbconvert_exporter": "python",
   "pygments_lexer": "ipython3",
   "version": "3.8.10"
  }
 },
 "nbformat": 4,
 "nbformat_minor": 4
}
