{
 "cells": [
  {
   "cell_type": "markdown",
   "metadata": {},
   "source": [
    "Clasificación básica de texto --- 39:49 min\n",
    "==="
   ]
  },
  {
   "cell_type": "markdown",
   "metadata": {},
   "source": [
    "* 39:49 min | Última modificación: Mayo 3, 2021 | [YouTube](https://youtu.be/WTA5hUTznxs)"
   ]
  },
  {
   "cell_type": "markdown",
   "metadata": {},
   "source": [
    "Basado en:\n",
    "\n",
    "* https://www.tensorflow.org/tutorials/keras/text_classification_with_hub\n",
    "\n",
    "* https://www.tensorflow.org/tutorials/text/word_embeddings\n"
   ]
  },
  {
   "cell_type": "markdown",
   "metadata": {
    "tags": []
   },
   "source": [
    "TensorFlow tiene funcionalidades que facilitan la construcción de modelos predictivos a partir del procesamiento de texto. En esta lección se aborda el proceso de construcción de un clasificador que permite determinar si una crítica de una pelicula en IMDB es positiva o negativa usando TensorFlow. Este es un problema de análisis de sentimientos.  "
   ]
  },
  {
   "cell_type": "code",
   "execution_count": 1,
   "metadata": {
    "id": "8RZOuS9LWQvv"
   },
   "outputs": [
    {
     "name": "stdout",
     "output_type": "stream",
     "text": [
      "2.4.1\n"
     ]
    }
   ],
   "source": [
    "import os\n",
    "import re\n",
    "import shutil\n",
    "import string\n",
    "\n",
    "import matplotlib.pyplot as plt\n",
    "import tensorflow as tf\n",
    "from tensorflow.keras import layers, losses, preprocessing\n",
    "from tensorflow.keras.layers.experimental.preprocessing import TextVectorization\n",
    "\n",
    "print(tf.__version__)"
   ]
  },
  {
   "cell_type": "markdown",
   "metadata": {},
   "source": [
    "## Descarga de datos"
   ]
  },
  {
   "cell_type": "markdown",
   "metadata": {},
   "source": [
    "**Descarga de datos en Google Colab***\n",
    "\n",
    "```python\n",
    "url = \"https://ai.stanford.edu/~amaas/data/sentiment/aclImdb_v1.tar.gz\"\n",
    "\n",
    "dataset = tf.keras.utils.get_file(\n",
    "    \"aclImdb_v1\",\n",
    "    url,\n",
    "    untar=True\n",
    "    cache_dir=\".\",\n",
    "    cache_subdir=\"\",\n",
    ")\n",
    "\n",
    "```\n",
    "\n"
   ]
  },
  {
   "cell_type": "markdown",
   "metadata": {},
   "source": [
    "**Descarga de datos en Terminal**\n",
    "\n",
    "```bash\n",
    "$ wget https://ai.stanford.edu/~amaas/data/sentiment/aclImdb_v1.tar.gz\n",
    "$ tar -zxf aclImdb_v1.tar.gz\n",
    "```"
   ]
  },
  {
   "cell_type": "code",
   "execution_count": 2,
   "metadata": {},
   "outputs": [
    {
     "name": "stdout",
     "output_type": "stream",
     "text": [
      "README\n",
      "imdb.vocab\n",
      "imdbEr.txt\n",
      "test\n",
      "train\n"
     ]
    }
   ],
   "source": [
    "#\n",
    "# Este es el valor devuelto por\n",
    "# dataset_dir = os.path.join(os.path.dirname(dataset), \"aclImdb\")\n",
    "#\n",
    "dataset_dir = \"./aclImdb\"\n",
    "\n",
    "#\n",
    "# Contenido del directorio ./aclImdb\n",
    "# Note que los mensajes ya estan divididos en conjuntos\n",
    "# de entrenamiento y prueba\n",
    "#\n",
    "!ls -1 {dataset_dir}"
   ]
  },
  {
   "cell_type": "markdown",
   "metadata": {},
   "source": [
    "## Organización de los datos"
   ]
  },
  {
   "cell_type": "code",
   "execution_count": 3,
   "metadata": {
    "id": "7ASND15oXpF1"
   },
   "outputs": [
    {
     "name": "stdout",
     "output_type": "stream",
     "text": [
      "labeledBow.feat\n",
      "neg\n",
      "pos\n",
      "unsupBow.feat\n",
      "urls_neg.txt\n",
      "urls_pos.txt\n",
      "urls_unsup.txt\n"
     ]
    }
   ],
   "source": [
    "#\n",
    "# Contenido del directorio de entrenamiento\n",
    "#\n",
    "train_dir = dataset_dir +  \"/train\"\n",
    "!ls -1 {train_dir} "
   ]
  },
  {
   "cell_type": "code",
   "execution_count": 4,
   "metadata": {},
   "outputs": [
    {
     "name": "stdout",
     "output_type": "stream",
     "text": [
      "Rachel Griffiths writes and directs this award winning short film. A heartwarming story about coping with grief and cherishing the memory of those we've loved and lost. Although, only 15 minutes long, Griffiths manages to capture so much emotion and truth onto film in the short space of time. Bud Tingwell gives a touching performance as Will, a widower struggling to cope with his wife's death. Will is confronted by the harsh reality of loneliness and helplessness as he proceeds to take care of Ruth's pet cow, Tulip. The film displays the grief and responsibility one feels for those they have loved and lost. Good cinematography, great direction, and superbly acted. It will bring tears to all those who have lost a loved one, and survived."
     ]
    }
   ],
   "source": [
    "#\n",
    "# Ejemplo de un mensaje positivo\n",
    "#\n",
    "!cat {train_dir + \"/pos/1181_9.txt\"}  "
   ]
  },
  {
   "cell_type": "code",
   "execution_count": 5,
   "metadata": {
    "id": "VhejsClzaWfl"
   },
   "outputs": [],
   "source": [
    "#\n",
    "# Remueve el directorio unsup\n",
    "#\n",
    "!rm -rf {train_dir + \"/unsup\"}"
   ]
  },
  {
   "cell_type": "code",
   "execution_count": 6,
   "metadata": {
    "id": "nOrK-MTYaw3C"
   },
   "outputs": [
    {
     "name": "stdout",
     "output_type": "stream",
     "text": [
      "Found 25000 files belonging to 2 classes.\n",
      "Using 20000 files for training.\n",
      "Found 25000 files belonging to 2 classes.\n",
      "Using 5000 files for validation.\n",
      "\n",
      "Review b'\"Pandemonium\" is a horror movie spoof that comes off more stupid than funny. Believe me when I tell you, I love comedies. Especially comedy spoofs. \"Airplane\", \"The Naked Gun\" trilogy, \"Blazing Saddles\", \"High Anxiety\", and \"Spaceballs\" are some of my favorite comedies that spoof a particular genre. \"Pandemonium\" is not up there with those films. Most of the scenes in this movie had me sitting there in stunned silence because the movie wasn\\'t all that funny. There are a few laughs in the film, but when you watch a comedy, you expect to laugh a lot more than a few times and that\\'s all this film has going for it. Geez, \"Scream\" had more laughs than this film and that was more of a horror film. How bizarre is that?<br /><br />*1/2 (out of four)'\n",
      "\n",
      "Label 0\n",
      "\n",
      "Review b\"David Mamet is a very interesting and a very un-equal director. His first movie 'House of Games' was the one I liked best, and it set a series of films with characters whose perspective of life changes as they get into complicated situations, and so does the perspective of the viewer.<br /><br />So is 'Homicide' which from the title tries to set the mind of the viewer to the usual crime drama. The principal characters are two cops, one Jewish and one Irish who deal with a racially charged area. The murder of an old Jewish shop owner who proves to be an ancient veteran of the Israeli Independence war triggers the Jewish identity in the mind and heart of the Jewish detective.<br /><br />This is were the flaws of the film are the more obvious. The process of awakening is theatrical and hard to believe, the group of Jewish militants is operatic, and the way the detective eventually walks to the final violent confrontation is pathetic. The end of the film itself is Mamet-like smart, but disappoints from a human emotional perspective.<br /><br />Joe Mantegna and William Macy give strong performances, but the flaws of the story are too evident to be easily compensated.\"\n",
      "\n",
      "Label 0\n",
      "\n",
      "Review b'Great documentary about the lives of NY firefighters during the worst terrorist attack of all time.. That reason alone is why this should be a must see collectors item.. What shocked me was not only the attacks, but the\"High Fat Diet\" and physical appearance of some of these firefighters. I think a lot of Doctors would agree with me that,in the physical shape they were in, some of these firefighters would NOT of made it to the 79th floor carrying over 60 lbs of gear. Having said that i now have a greater respect for firefighters and i realize becoming a firefighter is a life altering job. The French have a history of making great documentary\\'s and that is what this is, a Great Documentary.....'\n",
      "\n",
      "Label 1\n",
      "\n"
     ]
    }
   ],
   "source": [
    "BATCH_SIZE = 32\n",
    "SEED = 42\n",
    "\n",
    "#\n",
    "# La función text_dataset_from_directory permite leer los\n",
    "# archivos de un directorio. Usa el 80% de los datos de train\n",
    "# para entrenamiento y el 20% restante para validación.\n",
    "# Note que la función debe llamarse dos veces.\n",
    "#\n",
    "# Cada mensaje es almacenado como un archivo individual y\n",
    "# cada directorio representa una categoria (pos/neg)\n",
    "#\n",
    "# Quedan tres conjuntos de datos train, test y validation\n",
    "#\n",
    "\n",
    "raw_train_ds = tf.keras.preprocessing.text_dataset_from_directory(\n",
    "    \"aclImdb/train\",\n",
    "    batch_size=BATCH_SIZE,\n",
    "    validation_split=0.2,\n",
    "    subset=\"training\",\n",
    "    seed=SEED,\n",
    ")\n",
    "\n",
    "raw_val_ds = tf.keras.preprocessing.text_dataset_from_directory(\n",
    "    \"aclImdb/train\",\n",
    "    batch_size=BATCH_SIZE,\n",
    "    validation_split=0.2,\n",
    "    subset=\"validation\",\n",
    "    seed=SEED,\n",
    ")\n",
    "\n",
    "#\n",
    "# raw_train_ds es una tupla conformada por la lista de\n",
    "# mensajes que conforman el batch y la lista de enteros \n",
    "# que codifican la clase.\n",
    "#\n",
    "#  (\n",
    "#    [msg1, msg2, ...]\n",
    "#    [lbl1, lbl2, ...]\n",
    "#  )\n",
    "#\n",
    "# text_batch es una lista de strings (primer batch), donde\n",
    "# cada string es una de las revisiones. \n",
    "#\n",
    "# label batch es una lista de enteros {0,1} que corresponden\n",
    "# a la categoría del mensaje.\n",
    "#\n",
    "# Imprime los primeros tres mensajes y su etiqueta\n",
    "# del primer batch\n",
    "#\n",
    "print()\n",
    "for text_batch, label_batch in raw_train_ds.take(1):\n",
    "    for i in range(3):\n",
    "        print(\"Review\", text_batch.numpy()[i])\n",
    "        print()\n",
    "        print(\"Label\", label_batch.numpy()[i])\n",
    "        print()"
   ]
  },
  {
   "cell_type": "code",
   "execution_count": 7,
   "metadata": {},
   "outputs": [
    {
     "name": "stdout",
     "output_type": "stream",
     "text": [
      "0 neg\n",
      "1 pos\n"
     ]
    }
   ],
   "source": [
    "#\n",
    "# Categorias\n",
    "#\n",
    "for i, name in enumerate(raw_train_ds.class_names):\n",
    "    print(i, name)"
   ]
  },
  {
   "cell_type": "code",
   "execution_count": 8,
   "metadata": {
    "id": "rdSr0Nt3q_ns"
   },
   "outputs": [
    {
     "name": "stdout",
     "output_type": "stream",
     "text": [
      "Found 25000 files belonging to 2 classes.\n"
     ]
    }
   ],
   "source": [
    "#\n",
    "# Lee los mensajes del grupo de testing\n",
    "#\n",
    "raw_test_ds = tf.keras.preprocessing.text_dataset_from_directory(\n",
    "    \"aclImdb/test\",\n",
    "    batch_size=BATCH_SIZE,\n",
    ")"
   ]
  },
  {
   "cell_type": "markdown",
   "metadata": {},
   "source": [
    "## Representación de texto usando Document-Term-Matrix"
   ]
  },
  {
   "cell_type": "markdown",
   "metadata": {},
   "source": [
    "Considere la siguientes frases: \"Hola mundo cruel\", \"El mundo es cruel\".\n",
    "\n",
    "Es ineficiente porque genera una matriz que tiene la mayor parte de sus términos iguales a cero.\n",
    "\n",
    "            Hola  mundo  cruel    El   es\n",
    "            \n",
    "    msg 1      1      1      1     0    0  \n",
    "    \n",
    "    msg 2      0      1      1     1    1\n",
    " \n",
    " "
   ]
  },
  {
   "cell_type": "markdown",
   "metadata": {},
   "source": [
    "## Codificación de cada palabra como un entero único\n",
    "\n",
    "La codificación como enteros es arbitraria y no captura las relaciones entre palabras.\n",
    "\n",
    "Es muy dificil interpretar el modelo resultante.\n",
    "\n",
    "    Hola:  1\n",
    "    mundo: 2\n",
    "    cruel: 3\n",
    "    El:    4\n",
    "    es:    5\n",
    "    \n",
    "    \n",
    "    msg1: [1, 2, 3]\n",
    "    msg2: [4, 2, 5, 3]"
   ]
  },
  {
   "cell_type": "code",
   "execution_count": 9,
   "metadata": {},
   "outputs": [
    {
     "data": {
      "text/plain": [
       "['', '[UNK]', 'mundo', 'cruel', 'hola', 'es', 'el']"
      ]
     },
     "execution_count": 9,
     "metadata": {},
     "output_type": "execute_result"
    }
   ],
   "source": [
    "tv = TextVectorization(\n",
    "    max_tokens=7,             # tamaño del vocabulario (palabras + '' + [UKNOWN])\n",
    "    output_mode=\"int\",        # enteros\n",
    "    output_sequence_length=4, # numero de palabras por frase\n",
    ")\n",
    "\n",
    "tv.adapt(\n",
    "    [\"Hola mundo cruel\", \"El mundo es cruel\"]\n",
    ")\n",
    "\n",
    "tv.get_vocabulary()"
   ]
  },
  {
   "cell_type": "code",
   "execution_count": 10,
   "metadata": {},
   "outputs": [
    {
     "data": {
      "text/plain": [
       "array([[4, 2, 3, 0],\n",
       "       [6, 2, 5, 3]])"
      ]
     },
     "execution_count": 10,
     "metadata": {},
     "output_type": "execute_result"
    }
   ],
   "source": [
    "tv([\"Hola mundo cruel\", \"El mundo es cruel\"]).numpy()"
   ]
  },
  {
   "cell_type": "markdown",
   "metadata": {},
   "source": [
    "## Representación de palabras usando Embedding\n",
    "\n",
    "Cada palabra es representada por un vector de números reales de n dimensiones, en el que palabras similares tienen una representación similar, y los cuales pueden capturar relaciones entre palabras. Esta es una matriz de la forma\n",
    "\n",
    "              dim_0  dim_1  dim_2\n",
    "     word_0      .       .      . \n",
    "     word_1      .       .      .\n",
    "     word_2      .       .      .\n",
    "     ...         .       .      ."
   ]
  },
  {
   "cell_type": "code",
   "execution_count": 11,
   "metadata": {},
   "outputs": [
    {
     "data": {
      "text/plain": [
       "array([[ 0.01094563,  0.0473342 ,  0.00087859, -0.02028556, -0.04986701],\n",
       "       [ 0.01094563,  0.0473342 ,  0.00087859, -0.02028556, -0.04986701],\n",
       "       [-0.02175917,  0.03644494,  0.04551655,  0.0337589 ,  0.01326085],\n",
       "       [-0.02706339,  0.0217892 ,  0.04538036, -0.00362183,  0.03315837],\n",
       "       [-0.00910066,  0.02574174, -0.00987263,  0.00827517,  0.00640567],\n",
       "       [-0.00885882,  0.03003721,  0.04184267, -0.02155001,  0.01038473]],\n",
       "      dtype=float32)"
      ]
     },
     "execution_count": 11,
     "metadata": {},
     "output_type": "execute_result"
    }
   ],
   "source": [
    "#\n",
    "# El siguiente codigo crea una capa con un \n",
    "# vocabulario de 1000 palabras y 5 dimenciones\n",
    "#\n",
    "embedding_layer = layers.Embedding(1000, 5)\n",
    "\n",
    "#\n",
    "# Representación un vector de palabras (frase) \n",
    "# como un embeding\n",
    "#\n",
    "embedding_layer(tf.constant([0, 0, 1, 2, 3, 8])).numpy()"
   ]
  },
  {
   "cell_type": "markdown",
   "metadata": {},
   "source": [
    "Si una frase (vector de enteros) se representa como una matriz de dos dimensiones, entonces una lista de frases se representa como una lista de matrices de dos dimensiones\n",
    "\n",
    "    [ \n",
    "      msg_0\n",
    "      msg_1\n",
    "      ...\n",
    "    ]\n",
    "    \n",
    "    [\n",
    "      embedding_0\n",
    "      embedding_1\n",
    "      ...\n",
    "    ]"
   ]
  },
  {
   "cell_type": "markdown",
   "metadata": {},
   "source": [
    "## Capa GlobalAveragePooling1D"
   ]
  },
  {
   "cell_type": "code",
   "execution_count": 12,
   "metadata": {},
   "outputs": [
    {
     "data": {
      "text/plain": [
       "array([[[-0.711405  ,  0.82804507, -0.6800134 ,  0.61349636],\n",
       "        [ 0.63947314, -0.8410555 , -0.89209867,  1.5784249 ],\n",
       "        [-0.44384128, -0.28291616, -0.32439324, -1.6501985 ]],\n",
       "\n",
       "       [[ 0.2521129 , -1.6494555 , -0.80866116, -1.7723985 ],\n",
       "        [-0.10332082, -0.6485718 , -0.5244544 , -2.1529558 ],\n",
       "        [-0.74567974, -0.13720043, -1.336586  ,  0.25070038]]],\n",
       "      dtype=float32)"
      ]
     },
     "execution_count": 12,
     "metadata": {},
     "output_type": "execute_result"
    }
   ],
   "source": [
    "#\n",
    "# Se tienen dos (2) frases, cada una con tres (3)\n",
    "# palabras, las cuales son representadas por \n",
    "# embeddings de cuatro (4) dimensiones.\n",
    "#\n",
    "# Se genera un tensor aleatorio para representar\n",
    "# el embedding\n",
    "#\n",
    "emb = tf.random.normal((2, 3, 4))\n",
    "emb.numpy()"
   ]
  },
  {
   "cell_type": "code",
   "execution_count": 13,
   "metadata": {},
   "outputs": [
    {
     "data": {
      "text/plain": [
       "<tf.Tensor: shape=(2, 4), dtype=float32, numpy=\n",
       "array([[-0.17192437, -0.0986422 , -0.6321685 ,  0.18057425],\n",
       "       [-0.19896255, -0.81174254, -0.8899005 , -1.2248846 ]],\n",
       "      dtype=float32)>"
      ]
     },
     "execution_count": 13,
     "metadata": {},
     "output_type": "execute_result"
    }
   ],
   "source": [
    "#\n",
    "# La capa GlobalAveragePooling1D computa el promedio \n",
    "# de cada dimension sobre las palabras. De esta forma\n",
    "# cada frase es representada por un vector que tiene\n",
    "# las mismas dimensiones del embedding\n",
    "#\n",
    "layers.GlobalAveragePooling1D()(emb)"
   ]
  },
  {
   "cell_type": "markdown",
   "metadata": {},
   "source": [
    "## Preprocesamiento de texto"
   ]
  },
  {
   "cell_type": "code",
   "execution_count": 16,
   "metadata": {
    "id": "SDRI_s_tX1Hk"
   },
   "outputs": [],
   "source": [
    "#\n",
    "# De los mensajes de ejemplo impresos anteriormente, se\n",
    "# observa la presencia de la cadena HTML <br /> en\n",
    "# algunos de ellos.\n",
    "#\n",
    "# Se crea una preprocesador personalizado para\n",
    "# transformar a minusculas, eliminar <br />,\n",
    "# y eliminar signos de puntuación\n",
    "#\n",
    "def custom_standardization(input_data):\n",
    "\n",
    "    lowercase = tf.strings.lower(input_data)\n",
    "\n",
    "    stripped_html = tf.strings.regex_replace(\n",
    "        lowercase,\n",
    "        \"<br />\",\n",
    "        \" \",\n",
    "    )\n",
    "\n",
    "    return tf.strings.regex_replace(\n",
    "        stripped_html,\n",
    "        \"[%s]\" % re.escape(string.punctuation),\n",
    "        \"\",\n",
    "    )"
   ]
  },
  {
   "cell_type": "code",
   "execution_count": 17,
   "metadata": {
    "id": "GH4_2ZGJsa_X"
   },
   "outputs": [],
   "source": [
    "MAX_FEATURES = 10000\n",
    "SEQUENCE_LENGTH = 250\n",
    "\n",
    "vectorize_layer = TextVectorization(\n",
    "    standardize=custom_standardization,\n",
    "    max_tokens=MAX_FEATURES,\n",
    "    output_mode=\"int\",\n",
    "    output_sequence_length=SEQUENCE_LENGTH,\n",
    ")\n",
    "\n",
    "#\n",
    "# Recuerde que raw_train_ds y raw_val_ds son tuplas \n",
    "# conformada por la lista de mensajes que conforman\n",
    "# el batch y la lista de enteros que codifican la clase.\n",
    "#\n",
    "#  (\n",
    "#    [msg1, msg2, ...]\n",
    "#    [lbl1, lbl2, ...]\n",
    "#  )\n",
    "#\n",
    "# La llamada a map extrae unicamente la componente del \n",
    "# mensaje\n",
    "#\n",
    "train_text = raw_train_ds.map(lambda x, y: x)\n",
    "\n",
    "#\n",
    "# Llama al objeto construido con TextVectorization\n",
    "# y lo adapta. Genera la representación de las \n",
    "# palabras como un entero único. Cada frase es\n",
    "# una secuencia de enteros.\n",
    "#\n",
    "vectorize_layer.adapt(train_text)"
   ]
  },
  {
   "cell_type": "code",
   "execution_count": 18,
   "metadata": {
    "id": "kRq9hTQzhVhW"
   },
   "outputs": [
    {
     "name": "stdout",
     "output_type": "stream",
     "text": [
      "Review tf.Tensor(b'Silent Night, Deadly Night 5 is the very last of the series, and like part 4, it\\'s unrelated to the first three except by title and the fact that it\\'s a Christmas-themed horror flick.<br /><br />Except to the oblivious, there\\'s some obvious things going on here...Mickey Rooney plays a toymaker named Joe Petto and his creepy son\\'s name is Pino. Ring a bell, anyone? Now, a little boy named Derek heard a knock at the door one evening, and opened it to find a present on the doorstep for him. Even though it said \"don\\'t open till Christmas\", he begins to open it anyway but is stopped by his dad, who scolds him and sends him to bed, and opens the gift himself. Inside is a little red ball that sprouts Santa arms and a head, and proceeds to kill dad. Oops, maybe he should have left well-enough alone. Of course Derek is then traumatized by the incident since he watched it from the stairs, but he doesn\\'t grow up to be some killer Santa, he just stops talking.<br /><br />There\\'s a mysterious stranger lurking around, who seems very interested in the toys that Joe Petto makes. We even see him buying a bunch when Derek\\'s mom takes him to the store to find a gift for him to bring him out of his trauma. And what exactly is this guy doing? Well, we\\'re not sure but he does seem to be taking these toys apart to see what makes them tick. He does keep his landlord from evicting him by promising him to pay him in cash the next day and presents him with a \"Larry the Larvae\" toy for his kid, but of course \"Larry\" is not a good toy and gets out of the box in the car and of course, well, things aren\\'t pretty.<br /><br />Anyway, eventually what\\'s going on with Joe Petto and Pino is of course revealed, and as with the old story, Pino is not a \"real boy\". Pino is probably even more agitated and naughty because he suffers from \"Kenitalia\" (a smooth plastic crotch) so that could account for his evil ways. And the identity of the lurking stranger is revealed too, and there\\'s even kind of a happy ending of sorts. Whee.<br /><br />A step up from part 4, but not much of one. Again, Brian Yuzna is involved, and Screaming Mad George, so some decent special effects, but not enough to make this great. A few leftovers from part 4 are hanging around too, like Clint Howard and Neith Hunter, but that doesn\\'t really make any difference. Anyway, I now have seeing the whole series out of my system. Now if I could get some of it out of my brain. 4 out of 5.', shape=(), dtype=string)\n",
      "\n",
      "Review tf.Tensor([b'Silent Night, Deadly Night 5 is the very last of the series, and like part 4, it\\'s unrelated to the first three except by title and the fact that it\\'s a Christmas-themed horror flick.<br /><br />Except to the oblivious, there\\'s some obvious things going on here...Mickey Rooney plays a toymaker named Joe Petto and his creepy son\\'s name is Pino. Ring a bell, anyone? Now, a little boy named Derek heard a knock at the door one evening, and opened it to find a present on the doorstep for him. Even though it said \"don\\'t open till Christmas\", he begins to open it anyway but is stopped by his dad, who scolds him and sends him to bed, and opens the gift himself. Inside is a little red ball that sprouts Santa arms and a head, and proceeds to kill dad. Oops, maybe he should have left well-enough alone. Of course Derek is then traumatized by the incident since he watched it from the stairs, but he doesn\\'t grow up to be some killer Santa, he just stops talking.<br /><br />There\\'s a mysterious stranger lurking around, who seems very interested in the toys that Joe Petto makes. We even see him buying a bunch when Derek\\'s mom takes him to the store to find a gift for him to bring him out of his trauma. And what exactly is this guy doing? Well, we\\'re not sure but he does seem to be taking these toys apart to see what makes them tick. He does keep his landlord from evicting him by promising him to pay him in cash the next day and presents him with a \"Larry the Larvae\" toy for his kid, but of course \"Larry\" is not a good toy and gets out of the box in the car and of course, well, things aren\\'t pretty.<br /><br />Anyway, eventually what\\'s going on with Joe Petto and Pino is of course revealed, and as with the old story, Pino is not a \"real boy\". Pino is probably even more agitated and naughty because he suffers from \"Kenitalia\" (a smooth plastic crotch) so that could account for his evil ways. And the identity of the lurking stranger is revealed too, and there\\'s even kind of a happy ending of sorts. Whee.<br /><br />A step up from part 4, but not much of one. Again, Brian Yuzna is involved, and Screaming Mad George, so some decent special effects, but not enough to make this great. A few leftovers from part 4 are hanging around too, like Clint Howard and Neith Hunter, but that doesn\\'t really make any difference. Anyway, I now have seeing the whole series out of my system. Now if I could get some of it out of my brain. 4 out of 5.'], shape=(1,), dtype=string)\n",
      "\n",
      "Label neg\n",
      "\n"
     ]
    }
   ],
   "source": [
    "# \n",
    "# Se cambia la propiedad shape del Tensor\n",
    "# para poder procesarlo. La función retorna\n",
    "# una tupla \n",
    "#\n",
    "def vectorize_text(text, label):\n",
    "    text = tf.expand_dims(text, -1)\n",
    "    return vectorize_layer(text), label\n",
    "\n",
    "# \n",
    "# Obtiene el primer batch del dataset de entrenamiento\n",
    "#\n",
    "text_batch, label_batch = next(iter(raw_train_ds))\n",
    "\n",
    "#\n",
    "# Extrae la primera revision.\n",
    "#\n",
    "first_review, first_label = text_batch[0], label_batch[0]\n",
    "print(\"Review\", first_review)\n",
    "print()\n",
    "print(\"Review\", tf.expand_dims(first_review, -1))\n",
    "print()\n",
    "print(\"Label\", raw_train_ds.class_names[first_label])\n",
    "print()"
   ]
  },
  {
   "cell_type": "code",
   "execution_count": 19,
   "metadata": {
    "id": "kRq9hTQzhVhW"
   },
   "outputs": [
    {
     "name": "stdout",
     "output_type": "stream",
     "text": [
      "Vectorized review (<tf.Tensor: shape=(1, 250), dtype=int64, numpy=\n",
      "array([[1287,  313, 2380,  313,  661,    7,    2,   52,  229,    5,    2,\n",
      "         200,    3,   38,  170,  669,   29, 5492,    6,    2,   83,  297,\n",
      "         549,   32,  410,    3,    2,  186,   12,   29,    4,    1,  191,\n",
      "         510,  549,    6,    2, 8229,  212,   46,  576,  175,  168,   20,\n",
      "           1, 5361,  290,    4,    1,  761,  969,    1,    3,   24,  935,\n",
      "        2271,  393,    7,    1, 1675,    4, 3747,  250,  148,    4,  112,\n",
      "         436,  761, 3529,  548,    4, 3633,   31,    2, 1331,   28, 2096,\n",
      "           3, 2912,    9,    6,  163,    4, 1006,   20,    2,    1,   15,\n",
      "          85,   53,  147,    9,  292,   89,  959, 2314,  984,   27,  762,\n",
      "           6,  959,    9,  564,   18,    7, 2140,   32,   24, 1254,   36,\n",
      "           1,   85,    3, 3298,   85,    6, 1410,    3, 1936,    2, 3408,\n",
      "         301,  965,    7,    4,  112,  740, 1977,   12,    1, 2014, 2772,\n",
      "           3,    4,  428,    3, 5177,    6,  512, 1254,    1,  278,   27,\n",
      "         139,   25,  308,    1,  579,    5,  259, 3529,    7,   92, 8981,\n",
      "          32,    2, 3842,  230,   27,  289,    9,   35,    2, 5712,   18,\n",
      "          27,  144, 2166,   56,    6,   26,   46,  466, 2014,   27,   40,\n",
      "        2745,  657,  212,    4, 1376, 3002, 7080,  183,   36,  180,   52,\n",
      "         920,    8,    2, 4028,   12,  969,    1,  158,   71,   53,   67,\n",
      "          85, 2754,    4,  734,   51,    1, 1611,  294,   85,    6,    2,\n",
      "        1164,    6,  163,    4, 3408,   15,   85,    6,  717,   85,   44,\n",
      "           5,   24, 7158,    3,   48,  604,    7,   11,  225,  384,   73,\n",
      "          65,   21,  242,   18,   27,  120,  295,    6,   26,  667,  129,\n",
      "        4028,  948,    6,   67,   48,  158,   93,    1]])>, <tf.Tensor: shape=(), dtype=int32, numpy=0>)\n",
      "\n",
      "1287 --->  silent\n",
      " 313 --->  night\n",
      "\n",
      "Vocabulary size: 10000\n"
     ]
    }
   ],
   "source": [
    "#\n",
    "# Note que el vector tiene SEQUENCE_LENGTH=250 posiciones\n",
    "#\n",
    "print(\"Vectorized review\", vectorize_text(first_review, first_label))\n",
    "print()\n",
    "print(\"1287 ---> \", vectorize_layer.get_vocabulary()[1287])\n",
    "print(\" 313 ---> \", vectorize_layer.get_vocabulary()[313])\n",
    "print()\n",
    "\n",
    "#\n",
    "# Note que el vocabulario tiene un tamaño MAX_FEATURES = 10000\n",
    "#\n",
    "print(\"Vocabulary size: {}\".format(len(vectorize_layer.get_vocabulary())))"
   ]
  },
  {
   "cell_type": "code",
   "execution_count": 20,
   "metadata": {},
   "outputs": [
    {
     "data": {
      "text/plain": [
       "' [UNK] the and a of to is in it i this that was as for with movie but film on not you are his have be he one its all at by an they from who so like her just or about has out if some there what good more when very even my she up no time would which only really story their were had see can me than we much well been get will also other people bad into do first because him great how most dont made movies then them films way make any could too characters after think watch two seen character many being acting never plot little best where love life did know show does ever better your end still over off here these man say while why scene such scenes go something should through im back those doesnt real watching though now years thing actors didnt before another nothing new actually makes work funny old look find same every few us going again part lot director cast cant things quite thats want pretty seems young world around got down fact enough between however take horror both give may ive own thought original big'"
      ]
     },
     "execution_count": 20,
     "metadata": {},
     "output_type": "execute_result"
    }
   ],
   "source": [
    "#\n",
    "# Primeras 200 palabras del vocabulario\n",
    "# \n",
    "\" \".join(vectorize_layer.get_vocabulary()[:200])"
   ]
  },
  {
   "cell_type": "code",
   "execution_count": 21,
   "metadata": {},
   "outputs": [
    {
     "data": {
      "text/plain": [
       "'irs interpreted interpret intends integral insignificant insecure inducing illustrates illiterate ideology identified housing honorable hmmm historian hesitation heritage hector harp hardships hardest happier hamiltons hagen habits grams gossip goo gamut fulfill foxes fosters flipping flea finnish figuring feinstone featurette expressive evolve eustache ethics epps eponymous enhances empathize emerged elliot elegance eggs dripped downward documents distributors disservice directorwriter digress differ desolate dense dench demonstration december danced cynicism cues crowe crop crook cousins costuming coping convicts consisting conroy connects conduct complains commando coen cloud closes climatic cleaner chat chamberlains catalog casted canvas cages bury bureau bucket broderick brock brit brink boyish boxes bloodshed bloke blinded blending blaine binoche billion bigfoot bets bens benny beetle bathtub bathing barbarian balcony babysitter atwill attributed astonished associates ashraf aptly approximately apologies aplomb answering allegory alienation alba alamo actorsactresses abbott 64 500 43 1938 zoo zhang yea wyoming wray worm woeful witherspoon weisz weirdo wee waving warnings virtue vh1 vault uneducated undeveloped unbearably turgid travelling transvestite transported tragically townspeople toes todesking sweetheart suspicions surrounds superpowers suite subtleties subconscious struggled strips streisands stir staple stalwart spoton sparse sorvino sophomoric soooo smoothly smarmy slut skimpy skeleton singin shudder shoestring sherry sheila shawshank shamelessly seinfeld segal scenic sarne sabu rushes'"
      ]
     },
     "execution_count": 21,
     "metadata": {},
     "output_type": "execute_result"
    }
   ],
   "source": [
    "#\n",
    "# Ultimas 200 palabras del vocabulario. Note que hay \n",
    "# incluidas STOPWORDS y numeros\n",
    "# \n",
    "\" \".join(vectorize_layer.get_vocabulary()[-200:])"
   ]
  },
  {
   "cell_type": "code",
   "execution_count": 22,
   "metadata": {
    "id": "2zhmpeViI1iG"
   },
   "outputs": [],
   "source": [
    "#\n",
    "# Aplica TextVectorize a los tres conjuntos \n",
    "# de datos\n",
    "#\n",
    "train_ds = raw_train_ds.map(vectorize_text)\n",
    "val_ds = raw_val_ds.map(vectorize_text)\n",
    "test_ds = raw_test_ds.map(vectorize_text)"
   ]
  },
  {
   "cell_type": "code",
   "execution_count": 23,
   "metadata": {
    "id": "wMcs_H7izm5m"
   },
   "outputs": [],
   "source": [
    "#\n",
    "# Optimiza el desempeño \n",
    "#\n",
    "AUTOTUNE = tf.data.AUTOTUNE\n",
    "\n",
    "train_ds = train_ds.cache().prefetch(buffer_size=AUTOTUNE)\n",
    "val_ds = val_ds.cache().prefetch(buffer_size=AUTOTUNE)\n",
    "test_ds = test_ds.cache().prefetch(buffer_size=AUTOTUNE)"
   ]
  },
  {
   "cell_type": "markdown",
   "metadata": {
    "id": "dkQP6in8yUBR"
   },
   "source": [
    "## Modelo inicial"
   ]
  },
  {
   "cell_type": "code",
   "execution_count": 24,
   "metadata": {
    "id": "xpKOoWgu-llD"
   },
   "outputs": [
    {
     "name": "stdout",
     "output_type": "stream",
     "text": [
      "Model: \"sequential\"\n",
      "_________________________________________________________________\n",
      "Layer (type)                 Output Shape              Param #   \n",
      "=================================================================\n",
      "embedding_1 (Embedding)      (None, None, 16)          160016    \n",
      "_________________________________________________________________\n",
      "global_average_pooling1d_1 ( (None, 16)                0         \n",
      "_________________________________________________________________\n",
      "dense (Dense)                (None, 1)                 17        \n",
      "=================================================================\n",
      "Total params: 160,033\n",
      "Trainable params: 160,033\n",
      "Non-trainable params: 0\n",
      "_________________________________________________________________\n"
     ]
    }
   ],
   "source": [
    "#\n",
    "# Define un embedding de 16 dimensiones\n",
    "#\n",
    "EMBEDDING_DIM = 16\n",
    "\n",
    "model_0 = tf.keras.Sequential(\n",
    "    [\n",
    "        #\n",
    "        # Embedding es una capa que contiene el vocabulario\n",
    "        # en las filas y la cantidad de dimensiones del embedding\n",
    "        # en las columnas. Convierte cada palabra a un vector\n",
    "        # de reales de EMBEDDING_DIM dimensiones.\n",
    "        #\n",
    "        # Esta capa es inicializada aleatoriamente, y sus valores\n",
    "        # son ajustados usando backpropagation\n",
    "        #\n",
    "        layers.Embedding(MAX_FEATURES + 1, EMBEDDING_DIM),\n",
    "                \n",
    "        #\n",
    "        # Esta capa promedia cada dimension a lo larga de \n",
    "        # las palabras que la componen. La salida es un\n",
    "        # vector de EMBEDDING_DIM posiciones\n",
    "        #\n",
    "        layers.GlobalAveragePooling1D(),\n",
    "        \n",
    "        #\n",
    "        # Especifica una capa densa de una sola neurona con\n",
    "        # activación lineal a(x) = x\n",
    "        #\n",
    "        layers.Dense(1),\n",
    "    ]\n",
    ")\n",
    "\n",
    "model_0.summary()"
   ]
  },
  {
   "cell_type": "code",
   "execution_count": 25,
   "metadata": {
    "id": "Mr0GP-cQ-llN"
   },
   "outputs": [],
   "source": [
    "model_0.compile(\n",
    "    \n",
    "    #\n",
    "    # Entropia cruzada binaria\n",
    "    #\n",
    "    loss=losses.BinaryCrossentropy(from_logits=True),\n",
    "    \n",
    "    #\n",
    "    # Algoritmo de Adam (gradiente)\n",
    "    #\n",
    "    optimizer=\"adam\",\n",
    "    \n",
    "    #\n",
    "    # Retorna el porcentaje de veces que y_pred es True\n",
    "    # threshold representa el limite para decidir si un \n",
    "    # valor pronosticado es 0 o 1\n",
    "    #\n",
    "    metrics=tf.metrics.BinaryAccuracy(threshold=0.0),\n",
    ")"
   ]
  },
  {
   "cell_type": "code",
   "execution_count": 26,
   "metadata": {
    "id": "tXSGrjWZ-llW"
   },
   "outputs": [
    {
     "name": "stdout",
     "output_type": "stream",
     "text": [
      "Epoch 1/20\n",
      "625/625 [==============================] - 21s 32ms/step - loss: 0.6795 - binary_accuracy: 0.6223 - val_loss: 0.5986 - val_binary_accuracy: 0.7796\n",
      "Epoch 2/20\n",
      "625/625 [==============================] - 2s 3ms/step - loss: 0.5595 - binary_accuracy: 0.7955 - val_loss: 0.4750 - val_binary_accuracy: 0.8294\n",
      "Epoch 3/20\n",
      "625/625 [==============================] - 2s 3ms/step - loss: 0.4397 - binary_accuracy: 0.8460 - val_loss: 0.3994 - val_binary_accuracy: 0.8546\n",
      "Epoch 4/20\n",
      "625/625 [==============================] - 2s 3ms/step - loss: 0.3665 - binary_accuracy: 0.8686 - val_loss: 0.3571 - val_binary_accuracy: 0.8652\n",
      "Epoch 5/20\n",
      "625/625 [==============================] - 2s 3ms/step - loss: 0.3211 - binary_accuracy: 0.8826 - val_loss: 0.3315 - val_binary_accuracy: 0.8722\n",
      "Epoch 6/20\n",
      "625/625 [==============================] - 2s 3ms/step - loss: 0.2894 - binary_accuracy: 0.8939 - val_loss: 0.3148 - val_binary_accuracy: 0.8742\n",
      "Epoch 7/20\n",
      "625/625 [==============================] - 2s 3ms/step - loss: 0.2650 - binary_accuracy: 0.9032 - val_loss: 0.3035 - val_binary_accuracy: 0.8754\n",
      "Epoch 8/20\n",
      "625/625 [==============================] - 2s 3ms/step - loss: 0.2452 - binary_accuracy: 0.9111 - val_loss: 0.2959 - val_binary_accuracy: 0.8778\n",
      "Epoch 9/20\n",
      "625/625 [==============================] - 2s 3ms/step - loss: 0.2283 - binary_accuracy: 0.9185 - val_loss: 0.2908 - val_binary_accuracy: 0.8778\n",
      "Epoch 10/20\n",
      "625/625 [==============================] - 2s 3ms/step - loss: 0.2137 - binary_accuracy: 0.9232 - val_loss: 0.2878 - val_binary_accuracy: 0.8812\n",
      "Epoch 11/20\n",
      "625/625 [==============================] - 2s 3ms/step - loss: 0.2006 - binary_accuracy: 0.9279 - val_loss: 0.2863 - val_binary_accuracy: 0.8806\n",
      "Epoch 12/20\n",
      "625/625 [==============================] - 2s 3ms/step - loss: 0.1887 - binary_accuracy: 0.9343 - val_loss: 0.2861 - val_binary_accuracy: 0.8812\n",
      "Epoch 13/20\n",
      "625/625 [==============================] - 2s 3ms/step - loss: 0.1778 - binary_accuracy: 0.9384 - val_loss: 0.2870 - val_binary_accuracy: 0.8816\n",
      "Epoch 14/20\n",
      "625/625 [==============================] - 2s 3ms/step - loss: 0.1677 - binary_accuracy: 0.9423 - val_loss: 0.2888 - val_binary_accuracy: 0.8846\n",
      "Epoch 15/20\n",
      "625/625 [==============================] - 2s 3ms/step - loss: 0.1584 - binary_accuracy: 0.9460 - val_loss: 0.2914 - val_binary_accuracy: 0.8836\n",
      "Epoch 16/20\n",
      "625/625 [==============================] - 2s 3ms/step - loss: 0.1497 - binary_accuracy: 0.9492 - val_loss: 0.2948 - val_binary_accuracy: 0.8826\n",
      "Epoch 17/20\n",
      "625/625 [==============================] - 2s 3ms/step - loss: 0.1415 - binary_accuracy: 0.9537 - val_loss: 0.2989 - val_binary_accuracy: 0.8814\n",
      "Epoch 18/20\n",
      "625/625 [==============================] - 2s 3ms/step - loss: 0.1338 - binary_accuracy: 0.9563 - val_loss: 0.3035 - val_binary_accuracy: 0.8804\n",
      "Epoch 19/20\n",
      "625/625 [==============================] - 2s 3ms/step - loss: 0.1265 - binary_accuracy: 0.9587 - val_loss: 0.3087 - val_binary_accuracy: 0.8798\n",
      "Epoch 20/20\n",
      "625/625 [==============================] - 2s 3ms/step - loss: 0.1196 - binary_accuracy: 0.9616 - val_loss: 0.3145 - val_binary_accuracy: 0.8806\n"
     ]
    }
   ],
   "source": [
    "EPOCHS = 20\n",
    "\n",
    "history_0 = model_0.fit(\n",
    "    train_ds,\n",
    "    validation_data=val_ds,\n",
    "    epochs=EPOCHS,\n",
    "    verbose=1,\n",
    ")"
   ]
  },
  {
   "cell_type": "code",
   "execution_count": 27,
   "metadata": {},
   "outputs": [
    {
     "name": "stdout",
     "output_type": "stream",
     "text": [
      "625/625 [==============================] - 1s 1ms/step - loss: 0.1099 - binary_accuracy: 0.9669\n"
     ]
    },
    {
     "data": {
      "text/plain": [
       "(0.10985327512025833, 0.966949999332428)"
      ]
     },
     "execution_count": 27,
     "metadata": {},
     "output_type": "execute_result"
    }
   ],
   "source": [
    "loss, accuracy = model_0.evaluate(train_ds)\n",
    "loss, accuracy"
   ]
  },
  {
   "cell_type": "code",
   "execution_count": 28,
   "metadata": {
    "id": "zOMKywn4zReN"
   },
   "outputs": [
    {
     "name": "stdout",
     "output_type": "stream",
     "text": [
      "782/782 [==============================] - 19s 23ms/step - loss: 0.3562 - binary_accuracy: 0.8643\n"
     ]
    },
    {
     "data": {
      "text/plain": [
       "(0.35619601607322693, 0.8643199801445007)"
      ]
     },
     "execution_count": 28,
     "metadata": {},
     "output_type": "execute_result"
    }
   ],
   "source": [
    "loss, accuracy = model_0.evaluate(test_ds)\n",
    "loss, accuracy"
   ]
  },
  {
   "cell_type": "code",
   "execution_count": 29,
   "metadata": {
    "id": "-YcvZsdvWfDf"
   },
   "outputs": [
    {
     "data": {
      "text/plain": [
       "dict_keys(['loss', 'binary_accuracy', 'val_loss', 'val_binary_accuracy'])"
      ]
     },
     "execution_count": 29,
     "metadata": {},
     "output_type": "execute_result"
    }
   ],
   "source": [
    "history_dict_0 = history_0.history\n",
    "history_dict_0.keys()"
   ]
  },
  {
   "cell_type": "code",
   "execution_count": 30,
   "metadata": {},
   "outputs": [
    {
     "data": {
      "image/png": "[encoded data removed]",
      "text/plain": [
       "<Figure size 864x360 with 2 Axes>"
      ]
     },
     "metadata": {
      "needs_background": "light"
     },
     "output_type": "display_data"
    }
   ],
   "source": [
    "def plot_history(history_dict):\n",
    "    acc = history_dict[\"binary_accuracy\"]\n",
    "    val_acc = history_dict[\"val_binary_accuracy\"]\n",
    "    loss = history_dict[\"loss\"]\n",
    "    val_loss = history_dict[\"val_loss\"]\n",
    "\n",
    "    epochs = range(1, len(acc) + 1)\n",
    "    \n",
    "    plt.figure(figsize=(12,5))\n",
    "    \n",
    "    plt.subplot(1, 2, 1)\n",
    "    plt.plot(epochs, loss, \"ko\", label=\"Training loss\")\n",
    "    plt.plot(epochs, val_loss, \"k\", label=\"Validation loss\")\n",
    "    plt.title(\"Training and validation loss\")\n",
    "    plt.xlabel(\"Epochs\")\n",
    "    plt.ylabel(\"Loss\")\n",
    "    plt.legend()\n",
    "    \n",
    "    plt.subplot(1, 2, 2)\n",
    "    plt.plot(epochs, acc, \"ko\", label=\"Training acc\")\n",
    "    plt.plot(epochs, val_acc, \"k\", label=\"Validation acc\")\n",
    "    plt.title(\"Training and validation accuracy\")\n",
    "    plt.xlabel(\"Epochs\")\n",
    "    plt.ylabel(\"Accuracy\")\n",
    "    plt.legend(loc=\"lower right\") \n",
    "    \n",
    "    plt.show()\n",
    "    \n",
    "    \n",
    "plot_history(history_dict_0)"
   ]
  },
  {
   "cell_type": "markdown",
   "metadata": {
    "jp-MarkdownHeadingCollapsed": true,
    "tags": []
   },
   "source": [
    "## Modelo con regularización"
   ]
  },
  {
   "cell_type": "code",
   "execution_count": 31,
   "metadata": {
    "id": "xpKOoWgu-llD"
   },
   "outputs": [
    {
     "name": "stdout",
     "output_type": "stream",
     "text": [
      "Model: \"sequential_1\"\n",
      "_________________________________________________________________\n",
      "Layer (type)                 Output Shape              Param #   \n",
      "=================================================================\n",
      "embedding_2 (Embedding)      (None, None, 16)          160016    \n",
      "_________________________________________________________________\n",
      "dropout (Dropout)            (None, None, 16)          0         \n",
      "_________________________________________________________________\n",
      "global_average_pooling1d_2 ( (None, 16)                0         \n",
      "_________________________________________________________________\n",
      "dropout_1 (Dropout)          (None, 16)                0         \n",
      "_________________________________________________________________\n",
      "dense_1 (Dense)              (None, 1)                 17        \n",
      "=================================================================\n",
      "Total params: 160,033\n",
      "Trainable params: 160,033\n",
      "Non-trainable params: 0\n",
      "_________________________________________________________________\n"
     ]
    }
   ],
   "source": [
    "model_1 = tf.keras.Sequential(\n",
    "    [\n",
    "        #\n",
    "        # Dropout aleatoriamente fija las entradas en cero con\n",
    "        # una frecuencia dada por rate, con el fin de prevenir\n",
    "        # el sobre-entrenamiento. Las entradas que no son fijas\n",
    "        # en 0 se multiplican por 1 / (1 - rate) para que la \n",
    "        # suma sobre todas las entradas permanezca igual\n",
    "        #\n",
    "        layers.Embedding(MAX_FEATURES + 1, EMBEDDING_DIM),        \n",
    "        layers.Dropout(rate=0.2),\n",
    "        layers.GlobalAveragePooling1D(),\n",
    "        layers.Dropout(rate=0.2),\n",
    "        layers.Dense(1),\n",
    "    ]\n",
    ")\n",
    "\n",
    "model_1.summary()"
   ]
  },
  {
   "cell_type": "markdown",
   "metadata": {},
   "source": [
    "## Ejemplo Dropout"
   ]
  },
  {
   "cell_type": "code",
   "execution_count": 32,
   "metadata": {},
   "outputs": [
    {
     "data": {
      "text/plain": [
       "array([[0., 1.],\n",
       "       [2., 3.],\n",
       "       [4., 5.],\n",
       "       [6., 7.],\n",
       "       [8., 9.]], dtype=float32)"
      ]
     },
     "execution_count": 32,
     "metadata": {},
     "output_type": "execute_result"
    }
   ],
   "source": [
    "import numpy as np\n",
    "\n",
    "#\n",
    "# Semilla del generador de aleatorios\n",
    "#\n",
    "tf.random.set_seed(0)\n",
    "\n",
    "#\n",
    "# Crea una capa con dropout y salida g(x) = x\n",
    "#\n",
    "layer = tf.keras.layers.Dropout(.2, input_shape=(2,))\n",
    "\n",
    "#\n",
    "# Datos de entrada\n",
    "#\n",
    "data = np.arange(10).reshape(5, 2).astype(np.float32)\n",
    "data"
   ]
  },
  {
   "cell_type": "code",
   "execution_count": 33,
   "metadata": {},
   "outputs": [
    {
     "data": {
      "text/plain": [
       "<tf.Tensor: shape=(5, 2), dtype=float32, numpy=\n",
       "array([[0., 1.],\n",
       "       [2., 3.],\n",
       "       [4., 5.],\n",
       "       [6., 7.],\n",
       "       [8., 9.]], dtype=float32)>"
      ]
     },
     "execution_count": 33,
     "metadata": {},
     "output_type": "execute_result"
    }
   ],
   "source": [
    "#\n",
    "# Salida de la capa sin dropout\n",
    "#\n",
    "layer(data, training=False)"
   ]
  },
  {
   "cell_type": "code",
   "execution_count": 34,
   "metadata": {},
   "outputs": [
    {
     "data": {
      "text/plain": [
       "<tf.Tensor: shape=(5, 2), dtype=float32, numpy=\n",
       "array([[ 0.  ,  1.25],\n",
       "       [ 2.5 ,  3.75],\n",
       "       [ 5.  ,  6.25],\n",
       "       [ 7.5 ,  8.75],\n",
       "       [10.  ,  0.  ]], dtype=float32)>"
      ]
     },
     "execution_count": 34,
     "metadata": {},
     "output_type": "execute_result"
    }
   ],
   "source": [
    "#\n",
    "# Salida de la capa con dropout.\n",
    "# Los pesos son multiplicados por\n",
    "#\n",
    "# 1 / (1 - rate) = 1 / 0.8 = 1.25\n",
    "#\n",
    "layer(data, training=True)"
   ]
  },
  {
   "cell_type": "code",
   "execution_count": 35,
   "metadata": {},
   "outputs": [
    {
     "data": {
      "text/plain": [
       "<tf.Tensor: shape=(5, 2), dtype=float32, numpy=\n",
       "array([[ 0.  ,  1.25],\n",
       "       [ 2.5 ,  3.75],\n",
       "       [ 5.  ,  6.25],\n",
       "       [ 0.  ,  8.75],\n",
       "       [10.  , 11.25]], dtype=float32)>"
      ]
     },
     "execution_count": 35,
     "metadata": {},
     "output_type": "execute_result"
    }
   ],
   "source": [
    "#\n",
    "# Una nueva llamada cambia las entradas\n",
    "# llevadas a cero\n",
    "#\n",
    "layer(data, training=True)"
   ]
  },
  {
   "cell_type": "markdown",
   "metadata": {},
   "source": [
    "## Compilación del modelo"
   ]
  },
  {
   "cell_type": "code",
   "execution_count": 36,
   "metadata": {
    "id": "Mr0GP-cQ-llN"
   },
   "outputs": [],
   "source": [
    "model_1.compile(\n",
    "    loss=losses.BinaryCrossentropy(from_logits=True),\n",
    "    optimizer=\"adam\",\n",
    "    metrics=tf.metrics.BinaryAccuracy(threshold=0.0),\n",
    ")"
   ]
  },
  {
   "cell_type": "code",
   "execution_count": 37,
   "metadata": {
    "id": "tXSGrjWZ-llW"
   },
   "outputs": [
    {
     "name": "stdout",
     "output_type": "stream",
     "text": [
      "Epoch 1/20\n",
      "625/625 [==============================] - 3s 4ms/step - loss: 0.6824 - binary_accuracy: 0.6090 - val_loss: 0.6156 - val_binary_accuracy: 0.7720\n",
      "Epoch 2/20\n",
      "625/625 [==============================] - 3s 4ms/step - loss: 0.5803 - binary_accuracy: 0.7827 - val_loss: 0.4989 - val_binary_accuracy: 0.8222\n",
      "Epoch 3/20\n",
      "625/625 [==============================] - 3s 4ms/step - loss: 0.4665 - binary_accuracy: 0.8349 - val_loss: 0.4203 - val_binary_accuracy: 0.8476\n",
      "Epoch 4/20\n",
      "625/625 [==============================] - 3s 4ms/step - loss: 0.3920 - binary_accuracy: 0.8582 - val_loss: 0.3737 - val_binary_accuracy: 0.8610\n",
      "Epoch 5/20\n",
      "625/625 [==============================] - 3s 4ms/step - loss: 0.3443 - binary_accuracy: 0.8757 - val_loss: 0.3448 - val_binary_accuracy: 0.8686\n",
      "Epoch 6/20\n",
      "625/625 [==============================] - 3s 4ms/step - loss: 0.3107 - binary_accuracy: 0.8876 - val_loss: 0.3259 - val_binary_accuracy: 0.8718\n",
      "Epoch 7/20\n",
      "625/625 [==============================] - 3s 4ms/step - loss: 0.2866 - binary_accuracy: 0.8981 - val_loss: 0.3127 - val_binary_accuracy: 0.8726\n",
      "Epoch 8/20\n",
      "625/625 [==============================] - 3s 4ms/step - loss: 0.2651 - binary_accuracy: 0.9028 - val_loss: 0.3031 - val_binary_accuracy: 0.8752\n",
      "Epoch 9/20\n",
      "625/625 [==============================] - 3s 4ms/step - loss: 0.2492 - binary_accuracy: 0.9112 - val_loss: 0.2962 - val_binary_accuracy: 0.8778\n",
      "Epoch 10/20\n",
      "625/625 [==============================] - 3s 4ms/step - loss: 0.2336 - binary_accuracy: 0.9156 - val_loss: 0.2916 - val_binary_accuracy: 0.8790\n",
      "Epoch 11/20\n",
      "625/625 [==============================] - 3s 4ms/step - loss: 0.2208 - binary_accuracy: 0.9216 - val_loss: 0.2886 - val_binary_accuracy: 0.8802\n",
      "Epoch 12/20\n",
      "625/625 [==============================] - 3s 4ms/step - loss: 0.2091 - binary_accuracy: 0.9246 - val_loss: 0.2865 - val_binary_accuracy: 0.8816\n",
      "Epoch 13/20\n",
      "625/625 [==============================] - 3s 4ms/step - loss: 0.1992 - binary_accuracy: 0.9286 - val_loss: 0.2862 - val_binary_accuracy: 0.8820\n",
      "Epoch 14/20\n",
      "625/625 [==============================] - 3s 4ms/step - loss: 0.1901 - binary_accuracy: 0.9350 - val_loss: 0.2857 - val_binary_accuracy: 0.8822\n",
      "Epoch 15/20\n",
      "625/625 [==============================] - 3s 4ms/step - loss: 0.1808 - binary_accuracy: 0.9380 - val_loss: 0.2868 - val_binary_accuracy: 0.8824\n",
      "Epoch 16/20\n",
      "625/625 [==============================] - 3s 4ms/step - loss: 0.1719 - binary_accuracy: 0.9431 - val_loss: 0.2880 - val_binary_accuracy: 0.8828\n",
      "Epoch 17/20\n",
      "625/625 [==============================] - 3s 4ms/step - loss: 0.1640 - binary_accuracy: 0.9444 - val_loss: 0.2902 - val_binary_accuracy: 0.8824\n",
      "Epoch 18/20\n",
      "625/625 [==============================] - 3s 4ms/step - loss: 0.1581 - binary_accuracy: 0.9458 - val_loss: 0.2930 - val_binary_accuracy: 0.8838\n",
      "Epoch 19/20\n",
      "625/625 [==============================] - 3s 4ms/step - loss: 0.1497 - binary_accuracy: 0.9498 - val_loss: 0.2962 - val_binary_accuracy: 0.8820\n",
      "Epoch 20/20\n",
      "625/625 [==============================] - 3s 4ms/step - loss: 0.1421 - binary_accuracy: 0.9545 - val_loss: 0.2997 - val_binary_accuracy: 0.8810\n"
     ]
    }
   ],
   "source": [
    "history_1 = model_1.fit(\n",
    "    train_ds,\n",
    "    validation_data=val_ds,\n",
    "    epochs=EPOCHS,\n",
    "    verbose=1,\n",
    ")"
   ]
  },
  {
   "cell_type": "code",
   "execution_count": 38,
   "metadata": {},
   "outputs": [
    {
     "name": "stdout",
     "output_type": "stream",
     "text": [
      "625/625 [==============================] - 1s 1ms/step - loss: 0.1292 - binary_accuracy: 0.9584\n"
     ]
    },
    {
     "data": {
      "text/plain": [
       "[0.1292424201965332, 0.9584000110626221]"
      ]
     },
     "execution_count": 38,
     "metadata": {},
     "output_type": "execute_result"
    }
   ],
   "source": [
    "# loss, accuracy\n",
    "model_1.evaluate(train_ds)"
   ]
  },
  {
   "cell_type": "code",
   "execution_count": 39,
   "metadata": {
    "id": "zOMKywn4zReN"
   },
   "outputs": [
    {
     "name": "stdout",
     "output_type": "stream",
     "text": [
      "782/782 [==============================] - 1s 1ms/step - loss: 0.3335 - binary_accuracy: 0.8683\n"
     ]
    },
    {
     "data": {
      "text/plain": [
       "[0.33350175619125366, 0.8682799935340881]"
      ]
     },
     "execution_count": 39,
     "metadata": {},
     "output_type": "execute_result"
    }
   ],
   "source": [
    "# loss, accuracy\n",
    "model_1.evaluate(test_ds)"
   ]
  },
  {
   "cell_type": "code",
   "execution_count": 40,
   "metadata": {},
   "outputs": [
    {
     "data": {
      "image/png": "[encoded data removed]",
      "text/plain": [
       "<Figure size 864x360 with 2 Axes>"
      ]
     },
     "metadata": {
      "needs_background": "light"
     },
     "output_type": "display_data"
    }
   ],
   "source": [
    "def plot_history(history_dict_0, history_dict_1):\n",
    "\n",
    "    acc_0 = history_dict_0[\"binary_accuracy\"]\n",
    "    val_acc_0 = history_dict_0[\"val_binary_accuracy\"]\n",
    "    loss_0 = history_dict_0[\"loss\"]\n",
    "    val_loss_0 = history_dict_0[\"val_loss\"]\n",
    "\n",
    "    acc_1 = history_dict_1[\"binary_accuracy\"]\n",
    "    val_acc_1 = history_dict_1[\"val_binary_accuracy\"]\n",
    "    loss_1 = history_dict_1[\"loss\"]\n",
    "    val_loss_1 = history_dict_1[\"val_loss\"]\n",
    "\n",
    "    epochs = range(1, len(acc_0) + 1)\n",
    "    \n",
    "    plt.figure(figsize=(12,5))\n",
    "    \n",
    "    plt.subplot(1, 2, 1)\n",
    "    plt.plot(epochs, loss_0, \"ko\", label=\"Training loss 0\")\n",
    "    plt.plot(epochs, val_loss_0, \"k\", label=\"Validation loss 0\")\n",
    "    plt.plot(epochs, loss_1, \"ro\", label=\"Training loss 1\")\n",
    "    plt.plot(epochs, val_loss_1, \"r\", label=\"Validation loss 1\")    \n",
    "    plt.title(\"Training and validation loss\")\n",
    "    plt.xlabel(\"Epochs\")\n",
    "    plt.ylabel(\"Loss\")\n",
    "    plt.legend()\n",
    "    \n",
    "    plt.subplot(1, 2, 2)\n",
    "    plt.plot(epochs, acc_0, \"ko\", label=\"Training acc 0\")\n",
    "    plt.plot(epochs, val_acc_0, \"k\", label=\"Validation acc 0\")\n",
    "    plt.plot(epochs, acc_1, \"ro\", label=\"Training acc 1\")\n",
    "    plt.plot(epochs, val_acc_1, \"r\", label=\"Validation acc 1\")    \n",
    "    plt.title(\"Training and validation accuracy\")\n",
    "    plt.xlabel(\"Epochs\")\n",
    "    plt.ylabel(\"Accuracy\")\n",
    "    plt.legend(loc=\"lower right\") \n",
    "    \n",
    "    plt.show()\n",
    "    \n",
    "    \n",
    "plot_history(history_0.history, history_1.history)"
   ]
  },
  {
   "cell_type": "markdown",
   "metadata": {},
   "source": [
    "## Modelo en productivo"
   ]
  },
  {
   "cell_type": "code",
   "execution_count": 41,
   "metadata": {
    "id": "FWXsMvryuZuq"
   },
   "outputs": [
    {
     "name": "stdout",
     "output_type": "stream",
     "text": [
      "782/782 [==============================] - 21s 26ms/step - loss: 0.3491 - accuracy: 0.8648\n"
     ]
    },
    {
     "data": {
      "text/plain": [
       "[0.35619601607322693, 0.8643199801445007]"
      ]
     },
     "execution_count": 41,
     "metadata": {},
     "output_type": "execute_result"
    }
   ],
   "source": [
    "#\n",
    "# Es posibles crear un modleo que combine los\n",
    "# pasos anteriores.\n",
    "#\n",
    "export_model = tf.keras.Sequential(\n",
    "    [\n",
    "                vectorize_layer,\n",
    "                model_0,\n",
    "        layers.Activation(\"sigmoid\"),\n",
    "    ]\n",
    ")\n",
    "\n",
    "export_model.compile(\n",
    "    loss=losses.BinaryCrossentropy(from_logits=False),\n",
    "    optimizer=\"adam\",\n",
    "    metrics=[\"accuracy\"],\n",
    ")\n",
    "\n",
    "# \n",
    "# Se ejecuta el modelo empaquetado sobre los \n",
    "# datos de prueba originales (sin preprocesar).\n",
    "# La funcion evaluate retorna la perdida y \n",
    "# precision\n",
    "#\n",
    "export_model.evaluate(raw_test_ds)"
   ]
  },
  {
   "cell_type": "code",
   "execution_count": 42,
   "metadata": {
    "id": "QW355HH5L49K"
   },
   "outputs": [
    {
     "data": {
      "text/plain": [
       "array([[0.687941  ],\n",
       "       [0.41689426],\n",
       "       [0.3150716 ]], dtype=float32)"
      ]
     },
     "execution_count": 42,
     "metadata": {},
     "output_type": "execute_result"
    }
   ],
   "source": [
    "examples = [\n",
    "    \"The movie was great!\",\n",
    "    \"The movie was okay.\",\n",
    "    \"The movie was terrible...\",\n",
    "]\n",
    "\n",
    "export_model.predict(examples)"
   ]
  }
 ],
 "metadata": {
  "accelerator": "GPU",
  "colab": {
   "collapsed_sections": [],
   "name": "text_classification.ipynb",
   "toc_visible": true
  },
  "kernelspec": {
   "display_name": "Python 3 (ipykernel)",
   "language": "python",
   "name": "python3"
  },
  "language_info": {
   "codemirror_mode": {
    "name": "ipython",
    "version": 3
   },
   "file_extension": ".py",
   "mimetype": "text/x-python",
   "name": "python",
   "nbconvert_exporter": "python",
   "pygments_lexer": "ipython3",
   "version": "3.8.10"
  }
 },
 "nbformat": 4,
 "nbformat_minor": 4
}
