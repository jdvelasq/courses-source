{
 "cells": [
  {
   "cell_type": "markdown",
   "metadata": {},
   "source": [
    "Regularización\n",
    "==="
   ]
  },
  {
   "cell_type": "markdown",
   "metadata": {},
   "source": [
    "* *30 min* | Última modificación: Julio 13, 2019."
   ]
  },
  {
   "cell_type": "markdown",
   "metadata": {},
   "source": [
    "## Definición del problema real"
   ]
  },
  {
   "cell_type": "markdown",
   "metadata": {},
   "source": [
    "Se desea construir un modelo de regresión no lineal para la siguiente muestra de datos de $(x, y)$. "
   ]
  },
  {
   "cell_type": "code",
   "execution_count": 3,
   "metadata": {},
   "outputs": [
    {
     "data": {
      "image/png": "[encoded data removed]",
      "text/plain": [
       "<Figure size 432x288 with 1 Axes>"
      ]
     },
     "metadata": {
      "needs_background": "light"
     },
     "output_type": "display_data"
    }
   ],
   "source": [
    "import matplotlib.pyplot as plt\n",
    "%matplotlib inline\n",
    "\n",
    "x = [1.8131, 0.0318, 1.5181, 0.2522, 0.2440, 1.4175, \n",
    "     1.9538, 1.1506, 1.5042, 1.0798, 1.0915, 0.3173, \n",
    "     1.8157, 1.3352, 1.1399, 0.1276, 0.6909, 0.6331, \n",
    "     0.8671, 0.5867, 1.9373, 1.5842, 0.5707, 0.5285, \n",
    "     1.8708, 1.5870, 1.3027, 1.2181, 0.2318, 0.3471, \n",
    "     0.4763]\n",
    "\n",
    "d = [7.1568, 0.4351, 5.8980, 0.9654, 0.7383, 2.4500, \n",
    "     7.4851, 2.4401, 5.8941, 2.1366, 2.4431, 0.8058, \n",
    "     6.2531, 2.3671, 1.6199, 0.8230, 1.7403, 1.2172, \n",
    "     1.9868, 1.2564, 7.4922, 6.0645, 1.2978, 1.2245, \n",
    "     7.2532, 6.1206, 2.1076, 2.7601, 5.2678, 5.5783, \n",
    "     5.8991]\n",
    "\n",
    "plt.plot(x, d, 'o')\n",
    "plt.grid()"
   ]
  },
  {
   "cell_type": "markdown",
   "metadata": {},
   "source": [
    "## Definición del problema en términos de los datos"
   ]
  },
  {
   "cell_type": "markdown",
   "metadata": {},
   "source": [
    "Se desea construir un modelo no lineal que relacione las variables $x$ y $y$."
   ]
  },
  {
   "cell_type": "markdown",
   "metadata": {},
   "source": [
    "## Metodología "
   ]
  },
  {
   "cell_type": "markdown",
   "metadata": {},
   "source": [
    "### Modelo matemático"
   ]
  },
  {
   "cell_type": "markdown",
   "metadata": {},
   "source": [
    "El modelo regresión + MLP se definio como:\n",
    "\n",
    "$$y_t = \\phi^* + \\sum_i \\phi_i x_i +  \\sum_{h} \\beta_h \\cdot \\sigma \\left(w_h + \\sum_{i} w_{i,h} x_i \\right)  + e_i$$\n",
    "\n",
    "donde todos los parámetros serían estimados simultáneamente mediante la minimización del error."
   ]
  },
  {
   "cell_type": "markdown",
   "metadata": {},
   "source": [
    "### Solución numérica inicial"
   ]
  },
  {
   "cell_type": "code",
   "execution_count": 2,
   "metadata": {},
   "outputs": [
    {
     "ename": "NameError",
     "evalue": "name 'tf' is not defined",
     "output_type": "error",
     "traceback": [
      "\u001b[0;31m---------------------------------------------------------------------------\u001b[0m",
      "\u001b[0;31mNameError\u001b[0m                                 Traceback (most recent call last)",
      "\u001b[0;32m<ipython-input-2-7371fe3e5c7f>\u001b[0m in \u001b[0;36m<module>\u001b[0;34m\u001b[0m\n\u001b[1;32m     13\u001b[0m \u001b[0mP\u001b[0m \u001b[0;34m=\u001b[0m \u001b[0mlen\u001b[0m\u001b[0;34m(\u001b[0m\u001b[0mX\u001b[0m\u001b[0;34m)\u001b[0m\u001b[0;34m\u001b[0m\u001b[0;34m\u001b[0m\u001b[0m\n\u001b[1;32m     14\u001b[0m \u001b[0;34m\u001b[0m\u001b[0m\n\u001b[0;32m---> 15\u001b[0;31m \u001b[0mX_\u001b[0m \u001b[0;34m=\u001b[0m \u001b[0mtf\u001b[0m\u001b[0;34m.\u001b[0m\u001b[0mconstant\u001b[0m\u001b[0;34m(\u001b[0m\u001b[0mX\u001b[0m\u001b[0;34m,\u001b[0m \u001b[0mdtype\u001b[0m\u001b[0;34m=\u001b[0m\u001b[0mnp\u001b[0m\u001b[0;34m.\u001b[0m\u001b[0mfloat32\u001b[0m\u001b[0;34m)\u001b[0m\u001b[0;34m\u001b[0m\u001b[0;34m\u001b[0m\u001b[0m\n\u001b[0m\u001b[1;32m     16\u001b[0m \u001b[0md_\u001b[0m \u001b[0;34m=\u001b[0m \u001b[0mtf\u001b[0m\u001b[0;34m.\u001b[0m\u001b[0mconstant\u001b[0m\u001b[0;34m(\u001b[0m\u001b[0md\u001b[0m\u001b[0;34m,\u001b[0m \u001b[0mdtype\u001b[0m\u001b[0;34m=\u001b[0m\u001b[0mnp\u001b[0m\u001b[0;34m.\u001b[0m\u001b[0mfloat32\u001b[0m\u001b[0;34m,\u001b[0m \u001b[0mshape\u001b[0m\u001b[0;34m=\u001b[0m\u001b[0;34m[\u001b[0m\u001b[0mlen\u001b[0m\u001b[0;34m(\u001b[0m\u001b[0md\u001b[0m\u001b[0;34m)\u001b[0m\u001b[0;34m,\u001b[0m \u001b[0;36m1\u001b[0m\u001b[0;34m]\u001b[0m\u001b[0;34m)\u001b[0m\u001b[0;34m\u001b[0m\u001b[0;34m\u001b[0m\u001b[0m\n\u001b[1;32m     17\u001b[0m \u001b[0;34m\u001b[0m\u001b[0m\n",
      "\u001b[0;31mNameError\u001b[0m: name 'tf' is not defined"
     ]
    }
   ],
   "source": [
    "##\n",
    "## Parametros\n",
    "##\n",
    "H = 3\n",
    "learning_rate=0.01\n",
    "max_iter=10000\n",
    "\n",
    "##\n",
    "## Datos\n",
    "##\n",
    "X = [[u] for u in x]\n",
    "N = len(X[0])\n",
    "P = len(X)\n",
    "\n",
    "X_ = tf.constant(X, dtype=np.float32)\n",
    "d_ = tf.constant(d, dtype=np.float32, shape=[len(d), 1])\n",
    "    \n",
    "##\n",
    "## Info pronostico\n",
    "##\n",
    "Xpred = np.linspace(np.min(x), np.max(x), 50, dtype=np.float32)\n",
    "Xpred = [[u] for u in Xpred]\n",
    "Xpred_ = tf.constant(Xpred)\n",
    "\n",
    "##\n",
    "## Parámetros\n",
    "##\n",
    "intercept = tf.Variable(0.1 * np.mean(d),            dtype=np.float32)\n",
    "LRparams  = tf.Variable(0.1 * np.random.randn(N, 1), dtype=np.float32)\n",
    "WHOparams = tf.Variable(0.1 * np.random.randn(H, 1), dtype=np.float32)\n",
    "WIHparams = tf.Variable(0.1 * np.random.randn(N, H), dtype=np.float32)\n",
    "BHparams  = tf.Variable(0.1 * np.random.randn(H, 1), dtype=np.float32)\n",
    "\n",
    "##\n",
    "## Propagación de la señal\n",
    "##\n",
    "LR_output = tf.matmul(X_, LRparams)\n",
    "LR_output = tf.add(intercept, LR_output)\n",
    "In_hidden = tf.add(tf.matmul(X_, WIHparams),\n",
    "                   tf.tile(tf.transpose(BHparams), [P, 1]))\n",
    "Out_hidden = tf.sigmoid(In_hidden)        \n",
    "MLP_output = tf.matmul(Out_hidden, WHOparams)\n",
    "model_output = tf.add(LR_output, MLP_output)\n",
    "\n",
    "##\n",
    "## Función de error\n",
    "##\n",
    "\n",
    "# SSE = tf.reduce_sum(tf.square(d_ - model_output)) # sum of the squared errors\n",
    "SSE = tf.reduce_sum(tf.abs(d_ - model_output)) # sum of the squared errors\n",
    "\n",
    "##\n",
    "## Optimizador\n",
    "##\n",
    "optimizer = tf.train.GradientDescentOptimizer(learning_rate=learning_rate).minimize(SSE)\n",
    "\n",
    "##\n",
    "## Pronostico\n",
    "##\n",
    "LR_output = tf.matmul(Xpred_, LRparams)\n",
    "LR_output = tf.add(intercept, LR_output)\n",
    "In_hidden = tf.add(tf.matmul(Xpred_, WIHparams),\n",
    "                   tf.tile(tf.transpose(BHparams), [len(Xpred), 1]))\n",
    "Out_hidden = tf.sigmoid(In_hidden)        \n",
    "MLP_output = tf.matmul(Out_hidden, WHOparams)\n",
    "ypred = tf.add(LR_output, MLP_output)\n",
    "\n",
    "\n",
    "\n",
    "##\n",
    "## Ejecución \n",
    "##\n",
    "with tf.Session() as sess:\n",
    "    sess.run(tf.global_variables_initializer())\n",
    "    for i in range(max_iter):\n",
    "        sess.run(optimizer)\n",
    "    p = sess.run(ypred)\n",
    "    e = sess.run(SSE) \n",
    "\n",
    "print('SSE = ', e)\n",
    "plt.plot(x, d, 'o')\n",
    "plt.plot(Xpred, p, '-')\n",
    "plt.grid()"
   ]
  },
  {
   "cell_type": "markdown",
   "metadata": {},
   "source": [
    "### Penalización\n",
    "\n",
    "Se puede modificar la función de error, usando en vez del error cuadrático, el error absoluto.\n",
    "\n",
    "Se puede adicionar penalizaciones para mejorar el comportamiento del modelo asi:\n",
    "\n",
    "* Ridge Regression\n",
    "\n",
    "* Lasso\n",
    "\n",
    "* Elastic net\n"
   ]
  },
  {
   "cell_type": "markdown",
   "metadata": {},
   "source": [
    "**Actividad.--** Experimente con los parámetros del modelo para analizar si es posible conseguir un ajuste mejor."
   ]
  },
  {
   "cell_type": "code",
   "execution_count": 167,
   "metadata": {},
   "outputs": [
    {
     "ename": "KeyboardInterrupt",
     "evalue": "",
     "output_type": "error",
     "traceback": [
      "\u001b[0;31m---------------------------------------------------------------------------\u001b[0m",
      "\u001b[0;31mKeyboardInterrupt\u001b[0m                         Traceback (most recent call last)",
      "\u001b[0;32m<ipython-input-167-c5f12653b375>\u001b[0m in \u001b[0;36m<module>\u001b[0;34m\u001b[0m\n\u001b[1;32m     89\u001b[0m     \u001b[0msess\u001b[0m\u001b[0;34m.\u001b[0m\u001b[0mrun\u001b[0m\u001b[0;34m(\u001b[0m\u001b[0mtf\u001b[0m\u001b[0;34m.\u001b[0m\u001b[0mglobal_variables_initializer\u001b[0m\u001b[0;34m(\u001b[0m\u001b[0;34m)\u001b[0m\u001b[0;34m)\u001b[0m\u001b[0;34m\u001b[0m\u001b[0;34m\u001b[0m\u001b[0m\n\u001b[1;32m     90\u001b[0m     \u001b[0;32mfor\u001b[0m \u001b[0mi\u001b[0m \u001b[0;32min\u001b[0m \u001b[0mrange\u001b[0m\u001b[0;34m(\u001b[0m\u001b[0mmax_iter\u001b[0m\u001b[0;34m)\u001b[0m\u001b[0;34m:\u001b[0m\u001b[0;34m\u001b[0m\u001b[0;34m\u001b[0m\u001b[0m\n\u001b[0;32m---> 91\u001b[0;31m         \u001b[0msess\u001b[0m\u001b[0;34m.\u001b[0m\u001b[0mrun\u001b[0m\u001b[0;34m(\u001b[0m\u001b[0moptimizer\u001b[0m\u001b[0;34m)\u001b[0m\u001b[0;34m\u001b[0m\u001b[0;34m\u001b[0m\u001b[0m\n\u001b[0m\u001b[1;32m     92\u001b[0m     \u001b[0mp\u001b[0m \u001b[0;34m=\u001b[0m \u001b[0msess\u001b[0m\u001b[0;34m.\u001b[0m\u001b[0mrun\u001b[0m\u001b[0;34m(\u001b[0m\u001b[0mypred\u001b[0m\u001b[0;34m)\u001b[0m\u001b[0;34m\u001b[0m\u001b[0;34m\u001b[0m\u001b[0m\n\u001b[1;32m     93\u001b[0m     \u001b[0me\u001b[0m \u001b[0;34m=\u001b[0m \u001b[0msess\u001b[0m\u001b[0;34m.\u001b[0m\u001b[0mrun\u001b[0m\u001b[0;34m(\u001b[0m\u001b[0mSSE\u001b[0m\u001b[0;34m)\u001b[0m\u001b[0;34m\u001b[0m\u001b[0;34m\u001b[0m\u001b[0m\n",
      "\u001b[0;32m/usr/local/lib/python3.6/dist-packages/tensorflow/python/client/session.py\u001b[0m in \u001b[0;36mrun\u001b[0;34m(self, fetches, feed_dict, options, run_metadata)\u001b[0m\n\u001b[1;32m    927\u001b[0m     \u001b[0;32mtry\u001b[0m\u001b[0;34m:\u001b[0m\u001b[0;34m\u001b[0m\u001b[0;34m\u001b[0m\u001b[0m\n\u001b[1;32m    928\u001b[0m       result = self._run(None, fetches, feed_dict, options_ptr,\n\u001b[0;32m--> 929\u001b[0;31m                          run_metadata_ptr)\n\u001b[0m\u001b[1;32m    930\u001b[0m       \u001b[0;32mif\u001b[0m \u001b[0mrun_metadata\u001b[0m\u001b[0;34m:\u001b[0m\u001b[0;34m\u001b[0m\u001b[0;34m\u001b[0m\u001b[0m\n\u001b[1;32m    931\u001b[0m         \u001b[0mproto_data\u001b[0m \u001b[0;34m=\u001b[0m \u001b[0mtf_session\u001b[0m\u001b[0;34m.\u001b[0m\u001b[0mTF_GetBuffer\u001b[0m\u001b[0;34m(\u001b[0m\u001b[0mrun_metadata_ptr\u001b[0m\u001b[0;34m)\u001b[0m\u001b[0;34m\u001b[0m\u001b[0;34m\u001b[0m\u001b[0m\n",
      "\u001b[0;32m/usr/local/lib/python3.6/dist-packages/tensorflow/python/client/session.py\u001b[0m in \u001b[0;36m_run\u001b[0;34m(self, handle, fetches, feed_dict, options, run_metadata)\u001b[0m\n\u001b[1;32m   1150\u001b[0m     \u001b[0;32mif\u001b[0m \u001b[0mfinal_fetches\u001b[0m \u001b[0;32mor\u001b[0m \u001b[0mfinal_targets\u001b[0m \u001b[0;32mor\u001b[0m \u001b[0;34m(\u001b[0m\u001b[0mhandle\u001b[0m \u001b[0;32mand\u001b[0m \u001b[0mfeed_dict_tensor\u001b[0m\u001b[0;34m)\u001b[0m\u001b[0;34m:\u001b[0m\u001b[0;34m\u001b[0m\u001b[0;34m\u001b[0m\u001b[0m\n\u001b[1;32m   1151\u001b[0m       results = self._do_run(handle, final_targets, final_fetches,\n\u001b[0;32m-> 1152\u001b[0;31m                              feed_dict_tensor, options, run_metadata)\n\u001b[0m\u001b[1;32m   1153\u001b[0m     \u001b[0;32melse\u001b[0m\u001b[0;34m:\u001b[0m\u001b[0;34m\u001b[0m\u001b[0;34m\u001b[0m\u001b[0m\n\u001b[1;32m   1154\u001b[0m       \u001b[0mresults\u001b[0m \u001b[0;34m=\u001b[0m \u001b[0;34m[\u001b[0m\u001b[0;34m]\u001b[0m\u001b[0;34m\u001b[0m\u001b[0;34m\u001b[0m\u001b[0m\n",
      "\u001b[0;32m/usr/local/lib/python3.6/dist-packages/tensorflow/python/client/session.py\u001b[0m in \u001b[0;36m_do_run\u001b[0;34m(self, handle, target_list, fetch_list, feed_dict, options, run_metadata)\u001b[0m\n\u001b[1;32m   1326\u001b[0m     \u001b[0;32mif\u001b[0m \u001b[0mhandle\u001b[0m \u001b[0;32mis\u001b[0m \u001b[0;32mNone\u001b[0m\u001b[0;34m:\u001b[0m\u001b[0;34m\u001b[0m\u001b[0;34m\u001b[0m\u001b[0m\n\u001b[1;32m   1327\u001b[0m       return self._do_call(_run_fn, feeds, fetches, targets, options,\n\u001b[0;32m-> 1328\u001b[0;31m                            run_metadata)\n\u001b[0m\u001b[1;32m   1329\u001b[0m     \u001b[0;32melse\u001b[0m\u001b[0;34m:\u001b[0m\u001b[0;34m\u001b[0m\u001b[0;34m\u001b[0m\u001b[0m\n\u001b[1;32m   1330\u001b[0m       \u001b[0;32mreturn\u001b[0m \u001b[0mself\u001b[0m\u001b[0;34m.\u001b[0m\u001b[0m_do_call\u001b[0m\u001b[0;34m(\u001b[0m\u001b[0m_prun_fn\u001b[0m\u001b[0;34m,\u001b[0m \u001b[0mhandle\u001b[0m\u001b[0;34m,\u001b[0m \u001b[0mfeeds\u001b[0m\u001b[0;34m,\u001b[0m \u001b[0mfetches\u001b[0m\u001b[0;34m)\u001b[0m\u001b[0;34m\u001b[0m\u001b[0;34m\u001b[0m\u001b[0m\n",
      "\u001b[0;32m/usr/local/lib/python3.6/dist-packages/tensorflow/python/client/session.py\u001b[0m in \u001b[0;36m_do_call\u001b[0;34m(self, fn, *args)\u001b[0m\n\u001b[1;32m   1332\u001b[0m   \u001b[0;32mdef\u001b[0m \u001b[0m_do_call\u001b[0m\u001b[0;34m(\u001b[0m\u001b[0mself\u001b[0m\u001b[0;34m,\u001b[0m \u001b[0mfn\u001b[0m\u001b[0;34m,\u001b[0m \u001b[0;34m*\u001b[0m\u001b[0margs\u001b[0m\u001b[0;34m)\u001b[0m\u001b[0;34m:\u001b[0m\u001b[0;34m\u001b[0m\u001b[0;34m\u001b[0m\u001b[0m\n\u001b[1;32m   1333\u001b[0m     \u001b[0;32mtry\u001b[0m\u001b[0;34m:\u001b[0m\u001b[0;34m\u001b[0m\u001b[0;34m\u001b[0m\u001b[0m\n\u001b[0;32m-> 1334\u001b[0;31m       \u001b[0;32mreturn\u001b[0m \u001b[0mfn\u001b[0m\u001b[0;34m(\u001b[0m\u001b[0;34m*\u001b[0m\u001b[0margs\u001b[0m\u001b[0;34m)\u001b[0m\u001b[0;34m\u001b[0m\u001b[0;34m\u001b[0m\u001b[0m\n\u001b[0m\u001b[1;32m   1335\u001b[0m     \u001b[0;32mexcept\u001b[0m \u001b[0merrors\u001b[0m\u001b[0;34m.\u001b[0m\u001b[0mOpError\u001b[0m \u001b[0;32mas\u001b[0m \u001b[0me\u001b[0m\u001b[0;34m:\u001b[0m\u001b[0;34m\u001b[0m\u001b[0;34m\u001b[0m\u001b[0m\n\u001b[1;32m   1336\u001b[0m       \u001b[0mmessage\u001b[0m \u001b[0;34m=\u001b[0m \u001b[0mcompat\u001b[0m\u001b[0;34m.\u001b[0m\u001b[0mas_text\u001b[0m\u001b[0;34m(\u001b[0m\u001b[0me\u001b[0m\u001b[0;34m.\u001b[0m\u001b[0mmessage\u001b[0m\u001b[0;34m)\u001b[0m\u001b[0;34m\u001b[0m\u001b[0;34m\u001b[0m\u001b[0m\n",
      "\u001b[0;32m/usr/local/lib/python3.6/dist-packages/tensorflow/python/client/session.py\u001b[0m in \u001b[0;36m_run_fn\u001b[0;34m(feed_dict, fetch_list, target_list, options, run_metadata)\u001b[0m\n\u001b[1;32m   1317\u001b[0m       \u001b[0mself\u001b[0m\u001b[0;34m.\u001b[0m\u001b[0m_extend_graph\u001b[0m\u001b[0;34m(\u001b[0m\u001b[0;34m)\u001b[0m\u001b[0;34m\u001b[0m\u001b[0;34m\u001b[0m\u001b[0m\n\u001b[1;32m   1318\u001b[0m       return self._call_tf_sessionrun(\n\u001b[0;32m-> 1319\u001b[0;31m           options, feed_dict, fetch_list, target_list, run_metadata)\n\u001b[0m\u001b[1;32m   1320\u001b[0m \u001b[0;34m\u001b[0m\u001b[0m\n\u001b[1;32m   1321\u001b[0m     \u001b[0;32mdef\u001b[0m \u001b[0m_prun_fn\u001b[0m\u001b[0;34m(\u001b[0m\u001b[0mhandle\u001b[0m\u001b[0;34m,\u001b[0m \u001b[0mfeed_dict\u001b[0m\u001b[0;34m,\u001b[0m \u001b[0mfetch_list\u001b[0m\u001b[0;34m)\u001b[0m\u001b[0;34m:\u001b[0m\u001b[0;34m\u001b[0m\u001b[0;34m\u001b[0m\u001b[0m\n",
      "\u001b[0;32m/usr/local/lib/python3.6/dist-packages/tensorflow/python/client/session.py\u001b[0m in \u001b[0;36m_call_tf_sessionrun\u001b[0;34m(self, options, feed_dict, fetch_list, target_list, run_metadata)\u001b[0m\n\u001b[1;32m   1405\u001b[0m     return tf_session.TF_SessionRun_wrapper(\n\u001b[1;32m   1406\u001b[0m         \u001b[0mself\u001b[0m\u001b[0;34m.\u001b[0m\u001b[0m_session\u001b[0m\u001b[0;34m,\u001b[0m \u001b[0moptions\u001b[0m\u001b[0;34m,\u001b[0m \u001b[0mfeed_dict\u001b[0m\u001b[0;34m,\u001b[0m \u001b[0mfetch_list\u001b[0m\u001b[0;34m,\u001b[0m \u001b[0mtarget_list\u001b[0m\u001b[0;34m,\u001b[0m\u001b[0;34m\u001b[0m\u001b[0;34m\u001b[0m\u001b[0m\n\u001b[0;32m-> 1407\u001b[0;31m         run_metadata)\n\u001b[0m\u001b[1;32m   1408\u001b[0m \u001b[0;34m\u001b[0m\u001b[0m\n\u001b[1;32m   1409\u001b[0m   \u001b[0;32mdef\u001b[0m \u001b[0m_call_tf_sessionprun\u001b[0m\u001b[0;34m(\u001b[0m\u001b[0mself\u001b[0m\u001b[0;34m,\u001b[0m \u001b[0mhandle\u001b[0m\u001b[0;34m,\u001b[0m \u001b[0mfeed_dict\u001b[0m\u001b[0;34m,\u001b[0m \u001b[0mfetch_list\u001b[0m\u001b[0;34m)\u001b[0m\u001b[0;34m:\u001b[0m\u001b[0;34m\u001b[0m\u001b[0;34m\u001b[0m\u001b[0m\n",
      "\u001b[0;31mKeyboardInterrupt\u001b[0m: "
     ]
    }
   ],
   "source": [
    "##\n",
    "## Parametros\n",
    "##\n",
    "H = 8\n",
    "learning_rate=0.001\n",
    "max_iter=10000\n",
    "\n",
    "##\n",
    "## Datos\n",
    "##\n",
    "X = [[u] for u in x]\n",
    "N = len(X[0])\n",
    "P = len(X)\n",
    "\n",
    "X_ = tf.constant(X, dtype=np.float32)\n",
    "d_ = tf.constant(d, dtype=np.float32, shape=[len(d), 1])\n",
    "    \n",
    "##\n",
    "## Info pronostico\n",
    "##\n",
    "Xpred = np.linspace(np.min(x), np.max(x), 50, dtype=np.float32)\n",
    "Xpred = [[u] for u in Xpred]\n",
    "Xpred_ = tf.constant(Xpred)\n",
    "\n",
    "##\n",
    "## Parámetros\n",
    "##\n",
    "intercept = tf.Variable(0.1 * np.mean(d),            dtype=np.float32)\n",
    "LRparams  = tf.Variable(0.1 * np.random.randn(N, 1), dtype=np.float32)\n",
    "WHOparams = tf.Variable(0.1 * np.random.randn(H, 1), dtype=np.float32)\n",
    "WIHparams = tf.Variable(0.1 * np.random.randn(N, H), dtype=np.float32)\n",
    "BHparams  = tf.Variable(0.1 * np.random.randn(H, 1), dtype=np.float32)\n",
    "\n",
    "##\n",
    "## Propagación de la señal\n",
    "##\n",
    "LR_output = tf.matmul(X_, LRparams)\n",
    "LR_output = tf.add(intercept, LR_output)\n",
    "In_hidden = tf.add(tf.matmul(X_, WIHparams),\n",
    "                   tf.tile(tf.transpose(BHparams), [P, 1]))\n",
    "Out_hidden = tf.sigmoid(In_hidden)        \n",
    "MLP_output = tf.matmul(Out_hidden, WHOparams)\n",
    "model_output = tf.add(LR_output, MLP_output)\n",
    "\n",
    "##\n",
    "## Función de error\n",
    "##\n",
    "\n",
    "SSE = tf.reduce_sum(tf.square(d_ - model_output)) # sum of the squared errors\n",
    "#SSE = tf.reduce_sum(tf.abs(d_ - model_output)) # sum of the squared errors\n",
    "PENS0 = tf.square(intercept)\n",
    "PENS1 = tf.reduce_sum(tf.square(LRparams))\n",
    "PENS2 = tf.reduce_sum(tf.square(WHOparams))\n",
    "PENS3 = tf.reduce_sum(tf.square(WIHparams))\n",
    "PENS4 = tf.reduce_sum(tf.square(BHparams))\n",
    "\n",
    "PENA0 = tf.abs(intercept)\n",
    "PENA1 = tf.reduce_sum(tf.abs(LRparams))\n",
    "PENA2 = tf.reduce_sum(tf.abs(WHOparams))\n",
    "PENA3 = tf.reduce_sum(tf.abs(WIHparams))\n",
    "PENA4 = tf.reduce_sum(tf.abs(BHparams))\n",
    "\n",
    "PENS = tf.add_n([PENS0, PENS1, PENS2, PENS3, PENS4])\n",
    "PENA = tf.add_n([PENA0, PENA1, PENA2, PENA3, PENA4])\n",
    "\n",
    "SSE = tf.add(SSE, tf.multiply(0.0000, PENS))\n",
    "SSE = tf.add(SSE, tf.multiply(0.9000, PENA))\n",
    "\n",
    "##\n",
    "## Optimizador\n",
    "##\n",
    "optimizer = tf.train.AdamOptimizer(learning_rate=learning_rate).minimize(SSE)\n",
    "\n",
    "##\n",
    "## Pronostico\n",
    "##\n",
    "LR_output = tf.matmul(Xpred_, LRparams)\n",
    "LR_output = tf.add(intercept, LR_output)\n",
    "In_hidden = tf.add(tf.matmul(Xpred_, WIHparams),\n",
    "                   tf.tile(tf.transpose(BHparams), [len(Xpred), 1]))\n",
    "Out_hidden = tf.sigmoid(In_hidden)        \n",
    "MLP_output = tf.matmul(Out_hidden, WHOparams)\n",
    "ypred = tf.add(LR_output, MLP_output)\n",
    "\n",
    "##\n",
    "## Ejecución \n",
    "##\n",
    "with tf.Session() as sess:\n",
    "    sess.run(tf.global_variables_initializer())\n",
    "    for i in range(max_iter):\n",
    "        sess.run(optimizer)\n",
    "    p = sess.run(ypred)\n",
    "    e = sess.run(SSE) \n",
    "\n",
    "print('SSE = ', e)\n",
    "plt.plot(x, d, 'o')\n",
    "plt.plot(Xpred, p, '-')\n",
    "plt.grid()"
   ]
  },
  {
   "cell_type": "markdown",
   "metadata": {},
   "source": [
    "---"
   ]
  }
 ],
 "metadata": {
  "kernelspec": {
   "display_name": "Python 3",
   "language": "python",
   "name": "python3"
  },
  "language_info": {
   "codemirror_mode": {
    "name": "ipython",
    "version": 3
   },
   "file_extension": ".py",
   "mimetype": "text/x-python",
   "name": "python",
   "nbconvert_exporter": "python",
   "pygments_lexer": "ipython3",
   "version": "3.6.9"
  }
 },
 "nbformat": 4,
 "nbformat_minor": 4
}
