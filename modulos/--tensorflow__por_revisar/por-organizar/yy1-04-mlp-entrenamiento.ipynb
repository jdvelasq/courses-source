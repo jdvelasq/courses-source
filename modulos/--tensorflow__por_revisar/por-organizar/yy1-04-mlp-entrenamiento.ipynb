{
 "cells": [
  {
   "cell_type": "markdown",
   "metadata": {},
   "source": [
    "Ejemplo --- Aproximación y entrenamiento de modelos de redes neuronales\n",
    "===\n",
    "\n",
    "* *60 min* | Última modificación: Junio 22, 2019."
   ]
  },
  {
   "cell_type": "markdown",
   "metadata": {},
   "source": [
    "## Definición del problema"
   ]
  },
  {
   "cell_type": "markdown",
   "metadata": {},
   "source": [
    "Se desea construir un modelo de regresión no lineal para la siguiente muestra de 31 observaciones de $(x, y)$. Se requiere que el modelo aproxime con error **cero** los datos."
   ]
  },
  {
   "cell_type": "code",
   "execution_count": 10,
   "metadata": {},
   "outputs": [
    {
     "data": {
      "image/png": "[encoded data removed]",
      "text/plain": [
       "<Figure size 432x288 with 1 Axes>"
      ]
     },
     "metadata": {
      "needs_background": "light"
     },
     "output_type": "display_data"
    }
   ],
   "source": [
    "import matplotlib.pyplot as plt\n",
    "%matplotlib inline\n",
    "\n",
    "x = [1.8131, 0.0318, 1.5181, 0.2522, 0.2440, 1.4175, \n",
    "     1.9538, 1.1506, 1.5042, 1.0798, 1.0915, 0.3173, \n",
    "     1.8157, 1.3352, 1.1399, 0.1276, 0.6909, 0.6331, \n",
    "     0.8671, 0.5867, 1.9373, 1.5842, 0.5707, 0.5285, \n",
    "     1.8708, 1.5870, 1.3027, 1.2181, 0.2318, 0.3471, \n",
    "     0.4763]\n",
    "\n",
    "d = [5.1568, 0.4351, 3.8980, 0.9654, 0.7383, 3.4500, \n",
    "     5.4851, 2.4401, 3.8941, 2.1366, 2.4431, 0.8058, \n",
    "     5.2531, 3.3671, 2.6199, 0.8230, 1.7403, 1.2172, \n",
    "     1.9868, 1.2564, 5.4922, 4.0645, 1.2978, 1.2245, \n",
    "     5.2532, 4.1206, 3.1076, 2.7601, 5.2678, 5.5783, \n",
    "     5.8991]\n",
    "\n",
    "d = [u / 6.0 for u in d]\n",
    "\n",
    "plt.plot(x, d, 'o')\n",
    "plt.grid()"
   ]
  },
  {
   "cell_type": "markdown",
   "metadata": {},
   "source": [
    "## Definición del problema en términos de los datos"
   ]
  },
  {
   "cell_type": "markdown",
   "metadata": {},
   "source": [
    "Se desea construir un modelo no lineal que relacione las variables $x$ y $y$. De acuerdo con la teoría matemática, una combinación de funciones sigmoidales puede aproximar con precisión arbitraria cualquier conjunto de datos definido en un dominio compacto. Esto es, un perceptrón multicapa puede memorizar cualquier conjunto de datos si tiene un número suficiente de neuronas en la capa oculta."
   ]
  },
  {
   "cell_type": "markdown",
   "metadata": {},
   "source": [
    "## Metodología "
   ]
  },
  {
   "cell_type": "markdown",
   "metadata": {},
   "source": [
    "### Teoría Matemática"
   ]
  },
  {
   "cell_type": "markdown",
   "metadata": {},
   "source": [
    "Se tiene un modelo $m$ con $n$ entradas y $H$ neuronas en la capa oculta. El modelo $m$ tiene un error de entrenamiento $E$. \n",
    "\n",
    "* Es posible construir de forma trivial un modelo $m^*$ con las mismas $n$ entradas y $H+1$ neuronas en la capa oculta, el cual tiene el mismo error de entrenamiento $E$. Para ello, solo es necesario mantener los mismos pesos del modelo $m$ y asignar el valor de cero a los pesos de entrada y salida de la neurona oculta $H+1$.\n",
    "\n",
    "* Es posible construir de forma trivial un modelo $m^{**}$ con $n+1$ entradas y las mismas $H$ neuronas en la capa oculta, el cual tiene el mismo error de entrenamiento $E$ del modelo $m$. Para ello, solo es necesario agregar la entrada $n+1$ al modelo $m$, manteniendo los valores de los pesos actuales y asignando cero a las conexiones que salen de la entrada $n+1$.\n",
    "\n",
    "Esto quiere decir que si el error de los modelos $m^*$ o $m^{**}$ es mayor que el error $E$, el modelo fue mal entrenado"
   ]
  },
  {
   "cell_type": "markdown",
   "metadata": {},
   "source": [
    "### Simulación numerica"
   ]
  },
  {
   "cell_type": "markdown",
   "metadata": {},
   "source": [
    "Analice el gráfico de la cantidad de neuronas en la capa oculta versus el error de entrenamiento."
   ]
  },
  {
   "cell_type": "code",
   "execution_count": 18,
   "metadata": {},
   "outputs": [
    {
     "data": {
      "text/plain": [
       "[<matplotlib.lines.Line2D at 0x7f20afd975f8>]"
      ]
     },
     "execution_count": 18,
     "metadata": {},
     "output_type": "execute_result"
    },
    {
     "data": {
      "image/png": "[encoded data removed]",
      "text/plain": [
       "<Figure size 432x288 with 1 Axes>"
      ]
     },
     "metadata": {
      "needs_background": "light"
     },
     "output_type": "display_data"
    }
   ],
   "source": [
    "import tensorflow as tf\n",
    "import matplotlib.pyplot as plt\n",
    "import numpy as np\n",
    "\n",
    "history_sse = []\n",
    "\n",
    "for h in range(1, 5):\n",
    "\n",
    "    ## crea el modelo vacio\n",
    "    model = tf.keras.Sequential()\n",
    "\n",
    "    ## capa oculta\n",
    "    model.add(tf.keras.layers.Dense(h,                         # neuronas en la capa oculta   \n",
    "                                    activation=tf.nn.sigmoid,  # función de activación\n",
    "                                    input_shape = (1,)))       # una neurona de entrada\n",
    "\n",
    "    ## capa de salida\n",
    "    model.add(tf.keras.layers.Dense(1,                         # una neurona de salida\n",
    "                                    activation=tf.nn.sigmoid)) # capa de salida\n",
    "\n",
    "    ## optimizacion usando gradiente\n",
    "    optimizer = tf.train.GradientDescentOptimizer(learning_rate=0.01)\n",
    "\n",
    "    ## crea el modelo\n",
    "    model.compile(optimizer=optimizer,     # optimizador\n",
    "                  loss='mse',              # función a minimizar\n",
    "                  metrics=['mse'])  # metricas a reportar\n",
    "\n",
    "    ## entrena el modelo y guarda \n",
    "    ## el reporte de entrenamiento\n",
    "    model.fit(x, d, epochs=10000, verbose=0)\n",
    "\n",
    "    ## error de entrenamiento\n",
    "    y = [u[0] for u in model.predict(x).tolist()]\n",
    "    sse = np.sum(np.square(np.array(y) - np.array(d)))\n",
    "    history_sse.append(sse)\n",
    "\n",
    "plt.plot(history_sse, '-r');"
   ]
  },
  {
   "cell_type": "markdown",
   "metadata": {},
   "source": [
    "¿Por qué la disminución del SSE no es continua?"
   ]
  },
  {
   "cell_type": "markdown",
   "metadata": {},
   "source": [
    "**Actividad.--** Es posible modificar el código anterior para obtener mejores puntos de óptima?"
   ]
  },
  {
   "cell_type": "markdown",
   "metadata": {},
   "source": [
    "### Razones por las cuales es dificil entrenar una red neuronal tipo perceptrón multicapa"
   ]
  },
  {
   "cell_type": "markdown",
   "metadata": {},
   "source": [
    "* **Regiones planas en la función de error**. Para las funciones de activación tipo sigmoideas, en las cuales hay valores de salida constante, el gradiente es cero, generando supereficies planas en la función de error (el error no cambia con variaciones en los pesos de las conexiones de entrada a la neurona).\n",
    "\n",
    "* **Multiplicidad de puntos de óptima**. Una nueva red neuoronal puede obtenerse al intercambiar dos neuronas en la capa oculta con sus respectivos pesos. Es decir, es la misma red con las conexiones ordenadas de forma diferente."
   ]
  }
 ],
 "metadata": {
  "kernelspec": {
   "display_name": "Python 3",
   "language": "python",
   "name": "python3"
  },
  "language_info": {
   "codemirror_mode": {
    "name": "ipython",
    "version": 3
   },
   "file_extension": ".py",
   "mimetype": "text/x-python",
   "name": "python",
   "nbconvert_exporter": "python",
   "pygments_lexer": "ipython3",
   "version": "3.6.9"
  }
 },
 "nbformat": 4,
 "nbformat_minor": 4
}
