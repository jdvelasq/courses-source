{
 "cells": [
  {
   "cell_type": "markdown",
   "metadata": {},
   "source": [
    "Taller: Ingestión de texto\n",
    "====\n",
    "\n",
    "*Diplomado en Analítica para Mercados de Energía*"
   ]
  },
  {
   "cell_type": "markdown",
   "metadata": {},
   "source": [
    "Problema 1\n",
    "----\n",
    "\n",
    "El archivo 'https://raw.githubusercontent.com/jdvelasq/datalabs/master/datasets/most_cited_documents.txt' contiene información sobre un conjunto de artículos en energía. Importelo a un dataframe de Pandas."
   ]
  },
  {
   "cell_type": "markdown",
   "metadata": {},
   "source": [
    "Problema 2\n",
    "---\n",
    "\n",
    "El archivo 'https://raw.githubusercontent.com/jdvelasq/datalabs/master/datasets/clusters_report.txt' contiene información sobre un conjunto de clusters de areas temáticas dominantes en energía. Carge el archivo como un dataframe de Pandas."
   ]
  }
 ],
 "metadata": {
  "kernelspec": {
   "display_name": "Python 3.8.9 64-bit",
   "language": "python",
   "name": "python3"
  },
  "language_info": {
   "name": "python",
   "version": "3.9.6"
  },
  "orig_nbformat": 4,
  "vscode": {
   "interpreter": {
    "hash": "31f2aee4e71d21fbe5cf8b01ff0e069b9275f58929596ceb00d14d90e3e16cd6"
   }
  }
 },
 "nbformat": 4,
 "nbformat_minor": 2
}
