{
 "cells": [
  {
   "cell_type": "markdown",
   "id": "3cf0c465-4356-44c9-976c-09af34008c72",
   "metadata": {},
   "source": [
    "Graficación de Precios de Bolsa con ChatGPT\n",
    "==="
   ]
  },
  {
   "cell_type": "markdown",
   "id": "bcc0b1f4-e894-4735-ac0e-2c8a7aa3d08e",
   "metadata": {},
   "source": [
    "La url 'https://raw.githubusercontent.com/jdvelasq/datalabs/master/datasets/precio_bolsa_nacional/csv/*.csv' contiene los archivos de los precios horarios de bolsa para el mercado electrico colombiano. Construya una gráfica que contenga los precios promedios diarios y los precios promedios mensuales. "
   ]
  },
  {
   "cell_type": "markdown",
   "id": "36f960fb-66da-49da-94bc-daeee6b7115d",
   "metadata": {},
   "source": [
    "![assets/repo_precios_bolsa.png](assets/repo_precios_bolsa.png)"
   ]
  },
  {
   "cell_type": "markdown",
   "id": "6074787d-2e19-426b-a4c8-a2a0af7316c0",
   "metadata": {},
   "source": [
    "Paso 1\n",
    "---"
   ]
  },
  {
   "cell_type": "markdown",
   "id": "b54a864f-821a-48a9-ba30-8031f8ad2125",
   "metadata": {},
   "source": [
    "**Prompt:** I want you to act as a python programmer assistant. \n",
    "\n",
    "Write the code to obtain the filenames in a github repo with owner=\"jdvelasq\", repo=\"datalabs\", \n",
    "and folder=\"datasets/precio_bolsa_nacional/csv/\". \n",
    "\n",
    "Do not explain the code."
   ]
  },
  {
   "cell_type": "markdown",
   "id": "019255c0-5ae7-4c1c-b948-1b222c5369c8",
   "metadata": {},
   "source": [
    "![assets/chatgpt-01.png](assets/chatgpt-01.png)"
   ]
  },
  {
   "cell_type": "code",
   "execution_count": 1,
   "id": "2d6a615e-d7a7-4315-b736-cc05dc002acb",
   "metadata": {
    "tags": []
   },
   "outputs": [
    {
     "name": "stdout",
     "output_type": "stream",
     "text": [
      "['199507.csv', '199508.csv', '199509.csv', '199510.csv', '199511.csv', '199512.csv', '199601.csv', '199602.csv', '199603.csv', '199604.csv', '199605.csv', '199606.csv', '199607.csv', '199608.csv', '199609.csv', '199610.csv', '199611.csv', '199612.csv', '199701.csv', '199702.csv', '199703.csv', '199704.csv', '199705.csv', '199706.csv', '199707.csv', '199708.csv', '199709.csv', '199710.csv', '199711.csv', '199712.csv', '199801.csv', '199802.csv', '199803.csv', '199804.csv', '199805.csv', '199806.csv', '199807.csv', '199808.csv', '199809.csv', '199810.csv', '199811.csv', '199812.csv', '199901.csv', '199902.csv', '199903.csv', '199904.csv', '199905.csv', '199906.csv', '199907.csv', '199908.csv', '199909.csv', '199910.csv', '199911.csv', '199912.csv', '200001.csv', '200002.csv', '200003.csv', '200004.csv', '200005.csv', '200006.csv', '200007.csv', '200008.csv', '200009.csv', '200010.csv', '200011.csv', '200012.csv', '200101.csv', '200102.csv', '200103.csv', '200104.csv', '200105.csv', '200106.csv', '200107.csv', '200108.csv', '200109.csv', '200110.csv', '200111.csv', '200112.csv', '200201.csv', '200202.csv', '200203.csv', '200204.csv', '200205.csv', '200206.csv', '200207.csv', '200208.csv', '200209.csv', '200210.csv', '200211.csv', '200212.csv', '200301.csv', '200302.csv', '200303.csv', '200304.csv', '200305.csv', '200306.csv', '200307.csv', '200308.csv', '200309.csv', '200310.csv', '200311.csv', '200312.csv', '200401.csv', '200402.csv', '200403.csv', '200404.csv', '200405.csv', '200406.csv', '200407.csv', '200408.csv', '200409.csv', '200410.csv', '200411.csv', '200412.csv', '200501.csv', '200502.csv', '200503.csv', '200504.csv', '200505.csv', '200506.csv', '200507.csv', '200508.csv', '200509.csv', '200510.csv', '200511.csv', '200512.csv', '200601.csv', '200602.csv', '200603.csv', '200604.csv', '200605.csv', '200606.csv', '200607.csv', '200608.csv', '200609.csv', '200610.csv', '200611.csv', '200612.csv', '200701.csv', '200702.csv', '200703.csv', '200704.csv', '200705.csv', '200706.csv', '200707.csv', '200708.csv', '200709.csv', '200710.csv', '200711.csv', '200712.csv', '200801.csv', '200802.csv', '200803.csv', '200804.csv', '200805.csv', '200806.csv', '200807.csv', '200808.csv', '200809.csv', '200810.csv', '200811.csv', '200812.csv', '200901.csv', '200902.csv', '200903.csv', '200904.csv', '200905.csv', '200906.csv', '200907.csv', '200908.csv', '200909.csv', '200910.csv', '200911.csv', '200912.csv', '201001.csv', '201002.csv', '201003.csv', '201004.csv', '201005.csv', '201006.csv', '201007.csv', '201008.csv', '201009.csv', '201010.csv', '201011.csv', '201012.csv', '201101.csv', '201102.csv', '201103.csv', '201104.csv', '201105.csv', '201106.csv', '201107.csv', '201108.csv', '201109.csv', '201110.csv', '201111.csv', '201112.csv', '201201.csv', '201202.csv', '201203.csv', '201204.csv', '201205.csv', '201206.csv', '201207.csv', '201208.csv', '201209.csv', '201210.csv', '201211.csv', '201212.csv', '201301.csv', '201302.csv', '201303.csv', '201304.csv', '201305.csv', '201306.csv', '201307.csv', '201308.csv', '201309.csv', '201310.csv', '201311.csv', '201312.csv', '201401.csv', '201402.csv', '201403.csv', '201404.csv', '201405.csv', '201406.csv', '201407.csv', '201408.csv', '201409.csv', '201410.csv', '201411.csv', '201412.csv', '201501.csv', '201502.csv', '201503.csv', '201504.csv', '201505.csv', '201506.csv', '201507.csv', '201508.csv', '201509.csv', '201510.csv', '201511.csv', '201512.csv', '201601.csv', '201602.csv', '201603.csv', '201604.csv', '201605.csv', '201606.csv', '201607.csv', '201608.csv', '201609.csv', '201610.csv', '201611.csv', '201612.csv', '201701.csv', '201702.csv', '201703.csv', '201704.csv', '201705.csv', '201706.csv', '201707.csv', '201708.csv', '201709.csv', '201710.csv', '201711.csv', '201712.csv', '201801.csv', '201802.csv', '201803.csv', '201804.csv', '201805.csv', '201806.csv', '201807.csv', '201808.csv', '201809.csv', '201810.csv', '201811.csv', '201812.csv', '201901.csv', '201902.csv', '201903.csv', '201904.csv', '201905.csv', '201906.csv', '201907.csv', '201908.csv', '201909.csv', '201910.csv', '201911.csv', '201912.csv', '202001.csv', '202002.csv', '202003.csv', '202004.csv', '202005.csv', '202006.csv', '202007.csv', '202008.csv', '202009.csv', '202010.csv', '202011.csv', '202012.csv', '202101.csv', '202102.csv', '202103.csv', '202104.csv']\n"
     ]
    }
   ],
   "source": [
    "import requests\n",
    "\n",
    "owner = \"jdvelasq\"\n",
    "repo = \"datalabs\"\n",
    "folder = \"datasets/precio_bolsa_nacional/csv/\"\n",
    "\n",
    "url = f\"https://api.github.com/repos/{owner}/{repo}/contents/{folder}\"\n",
    "response = requests.get(url)\n",
    "\n",
    "filenames = [file[\"name\"] for file in response.json()]\n",
    "print(filenames)"
   ]
  },
  {
   "cell_type": "markdown",
   "id": "67bbf411-1ee6-4f6a-bd5c-9e3e50474914",
   "metadata": {},
   "source": [
    "Paso 2\n",
    "---"
   ]
  },
  {
   "cell_type": "markdown",
   "id": "3cb13e93-8c6d-4822-8ed9-e685c922dda2",
   "metadata": {},
   "source": [
    "**Prompt:** I want you to act as a python programmer assistant. \n",
    "\n",
    "Write the code to read with pandas the CSV filenames in the master branch of the github repo with owner=\"jdvelasq\", repo=\"datalabs\", \n",
    "and folder=\"datasets/precio_bolsa_nacional/csv\". Next, concatenate the dataframes. \n",
    "\n",
    "Do not explain the code."
   ]
  },
  {
   "cell_type": "markdown",
   "id": "b2170c66-55a3-4b05-b447-93b0925c4dcd",
   "metadata": {},
   "source": [
    "![assets/chatgpt-02.png](assets/chatgpt-02.png)"
   ]
  },
  {
   "cell_type": "code",
   "execution_count": 2,
   "id": "74fa09eb-9135-4eef-92e5-87b026a83de1",
   "metadata": {
    "tags": []
   },
   "outputs": [
    {
     "name": "stdout",
     "output_type": "stream",
     "text": [
      "        Fecha      0      1      2     3     4      5      6      7      8   \n",
      "0  1995-07-21  1.073    1.0    1.0   1.0   1.0    1.0    5.0    6.0    6.0  \\\n",
      "1  1995-07-22  1.073  1.073    1.0   1.0   1.0  1.073  1.303  1.303  1.303   \n",
      "2  1995-07-23  1.073    1.0    1.0   1.0   1.0    1.0    0.1    1.0    1.0   \n",
      "3  1995-07-24    1.0    1.0   0.99   1.0   1.0  1.073    3.0    3.0    3.0   \n",
      "4  1995-07-25   0.99   0.99  0.989  0.99  0.99  1.073  1.263  1.263  1.263   \n",
      "\n",
      "   ...     14     15     16     17     18     19      20     21     22     23  \n",
      "0  ...    5.0    1.0    1.0    5.0   12.0  16.67  11.929    5.0    1.0    1.0  \n",
      "1  ...  1.073    1.0    1.0    1.0  1.303    2.5     2.5  1.303  1.073  1.073  \n",
      "2  ...    1.0    0.1    0.1    1.0  1.238  1.238   1.238  1.238  1.073    1.0  \n",
      "3  ...  1.073  1.073    3.0    2.0  18.63   22.5   9.256    3.0  1.073    1.0  \n",
      "4  ...  1.073  1.073  1.073  1.073  1.263    1.5   1.263  1.263  1.073   0.99  \n",
      "\n",
      "[5 rows x 25 columns]\n"
     ]
    }
   ],
   "source": [
    "import pandas as pd\n",
    "\n",
    "owner = \"jdvelasq\"\n",
    "repo = \"datalabs\"\n",
    "folder = \"datasets/precio_bolsa_nacional/csv/\"\n",
    "\n",
    "url = f\"https://api.github.com/repos/{owner}/{repo}/contents/{folder}\"\n",
    "response = requests.get(url)\n",
    "\n",
    "base_url = f\"https://raw.githubusercontent.com/{owner}/{repo}/master/{folder}\"\n",
    "\n",
    "dfs = []\n",
    "for file in response.json():\n",
    "    file_url = base_url + file[\"name\"]\n",
    "    df = pd.read_csv(file_url)\n",
    "    dfs.append(df)\n",
    "\n",
    "df_concat = pd.concat(dfs, ignore_index=True)\n",
    "print(df_concat.head())"
   ]
  },
  {
   "cell_type": "markdown",
   "id": "8447ac16-d333-4d38-8d20-d42cf5caa5c9",
   "metadata": {},
   "source": [
    "Paso 3\n",
    "---"
   ]
  },
  {
   "cell_type": "markdown",
   "id": "d66acd5e-1437-4f4f-8858-a23be90eec58",
   "metadata": {},
   "source": [
    "**Prompt:** I want you to act as a python programmer assistant. \n",
    "\n",
    "The previous dataframe called \"df_concat\" contains the column \"Fecha\" represent a date with format \"YYYY-MM-DD\", and the columns \"0\" to \"23\" representing the hours of a day.\n",
    "Write a code to generate a dataframe with columns \"Fecha\", hour, and value. \n",
    "\n",
    "Do not explain the code."
   ]
  },
  {
   "cell_type": "markdown",
   "id": "52b16bf6-01e4-4c47-9cc5-b11fdd88f0fe",
   "metadata": {},
   "source": [
    "![assets/chatgpt-03.png](assets/chatgpt-03.png)"
   ]
  },
  {
   "cell_type": "code",
   "execution_count": 3,
   "id": "6cab4b77-98ed-458a-9486-c554f7d8e046",
   "metadata": {
    "tags": []
   },
   "outputs": [
    {
     "name": "stdout",
     "output_type": "stream",
     "text": [
      "        Fecha  hour  value\n",
      "0  1995-07-21     0  1.073\n",
      "1  1995-07-22     0  1.073\n",
      "2  1995-07-23     0  1.073\n",
      "3  1995-07-24     0    1.0\n",
      "4  1995-07-25     0   0.99\n"
     ]
    }
   ],
   "source": [
    "import pandas as pd\n",
    "\n",
    "melted = pd.melt(\n",
    "    df_concat, id_vars=[\"Fecha\"], var_name=\"hour\", value_name=\"value\"\n",
    ")\n",
    "melted[\"hour\"] = melted[\"hour\"].astype(int)\n",
    "print(melted.head())"
   ]
  },
  {
   "cell_type": "markdown",
   "id": "77b74b0b-a04d-4b2c-bda6-436b5e2fa435",
   "metadata": {},
   "source": [
    "Paso 4\n",
    "----"
   ]
  },
  {
   "cell_type": "markdown",
   "id": "c38a465d-ad9b-4754-849e-1e4ff8bc7624",
   "metadata": {},
   "source": [
    "**Prompt:** I want you to act as a python programmer assistant.\n",
    "\n",
    "Write a code that transform the elements in column \"value\" of the previous dataframe, when they are of type str. Take into account that the values of type str use \".\" to represent thousands and \",\" to represent decimals.\n",
    "\n",
    "\n",
    "Do not explain the code."
   ]
  },
  {
   "cell_type": "markdown",
   "id": "581e5dc2-c19a-41ba-a7df-ed8706228153",
   "metadata": {},
   "source": [
    "![assets/chatgpt-04.png](assets/chatgpt-04.png)"
   ]
  },
  {
   "cell_type": "code",
   "execution_count": 4,
   "id": "db5b9fac-3588-4a72-8a93-c01d65650129",
   "metadata": {
    "tags": []
   },
   "outputs": [
    {
     "name": "stdout",
     "output_type": "stream",
     "text": [
      "        Fecha  hour  value\n",
      "0  1995-07-21     0  1.073\n",
      "1  1995-07-22     0  1.073\n",
      "2  1995-07-23     0  1.073\n",
      "3  1995-07-24     0  1.000\n",
      "4  1995-07-25     0  0.990\n"
     ]
    }
   ],
   "source": [
    "def str_to_float(x):\n",
    "    if isinstance(x, str):\n",
    "        x = x.replace(\".\", \"\").replace(\",\", \".\")\n",
    "        x = float(x)\n",
    "    return x\n",
    "\n",
    "melted[\"value\"] = melted[\"value\"].apply(str_to_float)\n",
    "print(melted.head())"
   ]
  },
  {
   "cell_type": "markdown",
   "id": "ddb416a1-f6a8-46c5-bf98-50efac228160",
   "metadata": {},
   "source": [
    "Paso 5\n",
    "---"
   ]
  },
  {
   "cell_type": "markdown",
   "id": "95d30efb-f27e-4788-ac70-caef6fa7aefd",
   "metadata": {},
   "source": [
    "**Prompt:** I want you to act as a python programmer assistant.\n",
    "\n",
    "Remove NA values from previous dataframe.\n",
    "\n",
    "Do not explain the code."
   ]
  },
  {
   "cell_type": "markdown",
   "id": "bee5c04c-dcc2-4d47-92d3-d3d97ae980b9",
   "metadata": {},
   "source": [
    "![assets/chatgpt-05.png](assets/chatgpt-05.png)"
   ]
  },
  {
   "cell_type": "code",
   "execution_count": 5,
   "id": "c37346a9-30ae-4991-9ecc-acf1cb4b8d25",
   "metadata": {
    "tags": []
   },
   "outputs": [
    {
     "name": "stdout",
     "output_type": "stream",
     "text": [
      "        Fecha  hour  value\n",
      "0  1995-07-21     0  1.073\n",
      "1  1995-07-22     0  1.073\n",
      "2  1995-07-23     0  1.073\n",
      "3  1995-07-24     0  1.000\n",
      "4  1995-07-25     0  0.990\n"
     ]
    }
   ],
   "source": [
    "melted.dropna(inplace=True)\n",
    "print(melted.head())"
   ]
  },
  {
   "cell_type": "markdown",
   "id": "e29dc0ce-91ce-4ac6-b7c7-62341258ad9c",
   "metadata": {},
   "source": [
    "Paso 6\n",
    "---"
   ]
  },
  {
   "cell_type": "markdown",
   "id": "460e38d1-2abe-4916-b7d3-c973b977229d",
   "metadata": {},
   "source": [
    "**Prompt:** I want you to act as a python programmer assistant.\n",
    "\n",
    "Create a dataframe called \"precios_diarios\" as the mean values of the column \"value\" of the previous dataframe grouped by \"Fecha\" column.\n",
    "\n",
    "Do not explain the code."
   ]
  },
  {
   "cell_type": "markdown",
   "id": "0845f330-6a14-42b3-8dec-e7f7b8d14a14",
   "metadata": {},
   "source": [
    "![assets/chatgpt-06.png](assets/chatgpt-06.png)"
   ]
  },
  {
   "cell_type": "code",
   "execution_count": 6,
   "id": "651e80bf-a27b-473f-b443-1f4617823291",
   "metadata": {
    "tags": []
   },
   "outputs": [
    {
     "name": "stdout",
     "output_type": "stream",
     "text": [
      "        Fecha     value\n",
      "0  1995-07-21  4.924333\n",
      "1  1995-07-22  1.269500\n",
      "2  1995-07-23  0.953083\n",
      "3  1995-07-24  4.305917\n",
      "4  1995-07-25  1.149167\n"
     ]
    }
   ],
   "source": [
    "precios_diarios = melted.groupby(\"Fecha\")[\"value\"].mean().reset_index()\n",
    "print(precios_diarios.head())"
   ]
  },
  {
   "cell_type": "markdown",
   "id": "182c761e-dd8d-4ae7-bb38-e205a5858f18",
   "metadata": {},
   "source": [
    "Paso 7\n",
    "---"
   ]
  },
  {
   "cell_type": "markdown",
   "id": "034cbcb9-19bb-4b15-9fb0-ff2e2b1d970b",
   "metadata": {},
   "source": [
    "**Prompt:** I want you to act as a python programmer assistant.\n",
    "\n",
    "The column \"Fecha\" of the \"melted\" dataframe contains dates in the format \"YYYY-MM-DD\". Create a dataframe called \"precios_mensuales\" as the mean values of the column \"value\" of the \"melted\" dataframe grouped by year and month, using the transform method. The new dataframe conservs the \"Fecha\" column.\n",
    "\n",
    "Do not explain the code."
   ]
  },
  {
   "cell_type": "markdown",
   "id": "480f0389-f00c-43ed-b661-006ab1b0206e",
   "metadata": {},
   "source": [
    "![assets/chatgpt-07.png](assets/chatgpt-07.png)"
   ]
  },
  {
   "cell_type": "code",
   "execution_count": 7,
   "id": "a9b09d56-7973-4a45-8b85-f746f0668e43",
   "metadata": {
    "tags": []
   },
   "outputs": [
    {
     "name": "stdout",
     "output_type": "stream",
     "text": [
      "        Fecha     value\n",
      "0  1995-07-21  1.552087\n",
      "1  1995-07-22  1.552087\n",
      "2  1995-07-23  1.552087\n",
      "3  1995-07-24  1.552087\n",
      "4  1995-07-25  1.552087\n"
     ]
    }
   ],
   "source": [
    "melted[\"year_month\"] = melted[\"Fecha\"].apply(lambda x: x[:-3])\n",
    "precios_mensuales = melted.groupby(\"year_month\")[\"value\"].transform(\"mean\")\n",
    "precios_mensuales = pd.concat([melted[\"Fecha\"], precios_mensuales], axis=1)\n",
    "print(precios_mensuales.head())"
   ]
  },
  {
   "cell_type": "markdown",
   "id": "385bbe9b-a208-4b9c-818d-73448de34b68",
   "metadata": {},
   "source": [
    "Paso 8\n",
    "----"
   ]
  },
  {
   "cell_type": "markdown",
   "id": "23da4eee-5c5f-4142-8cb4-81ddcadd2dd8",
   "metadata": {},
   "source": [
    "**Prompt:** I want you to act as a python programmer assistant.\n",
    "\n",
    "Rename the column \"value\" in \"precios_diarios\" dataframe as \"precio diario\". Rename the column \"value\" in \"precios_mensuales\" dataframe as \"precio mensual\".\n",
    "\n",
    "Do not explain the code."
   ]
  },
  {
   "cell_type": "markdown",
   "id": "a43d8644-7365-4da5-b457-c2c059b1f1cc",
   "metadata": {},
   "source": [
    "![assets/chatgpt-08.png](assets/chatgpt-08.png)"
   ]
  },
  {
   "cell_type": "code",
   "execution_count": 8,
   "id": "3992eb2e-4627-45e8-8133-d0635d789dad",
   "metadata": {
    "tags": []
   },
   "outputs": [
    {
     "name": "stdout",
     "output_type": "stream",
     "text": [
      "        Fecha  precio diario\n",
      "0  1995-07-21       4.924333\n",
      "1  1995-07-22       1.269500\n",
      "2  1995-07-23       0.953083\n",
      "3  1995-07-24       4.305917\n",
      "4  1995-07-25       1.149167\n",
      "        Fecha  precio mensual\n",
      "0  1995-07-21        1.552087\n",
      "1  1995-07-22        1.552087\n",
      "2  1995-07-23        1.552087\n",
      "3  1995-07-24        1.552087\n",
      "4  1995-07-25        1.552087\n"
     ]
    }
   ],
   "source": [
    "precios_diarios = precios_diarios.rename(columns={\"value\": \"precio diario\"})\n",
    "precios_mensuales = precios_mensuales.rename(columns={\"value\": \"precio mensual\"})\n",
    "\n",
    "print(precios_diarios.head())\n",
    "print(precios_mensuales.head())"
   ]
  },
  {
   "cell_type": "markdown",
   "id": "bba1582d-c47c-42bc-bc96-4ffc1454dbd4",
   "metadata": {},
   "source": [
    "Paso 9\n",
    "----"
   ]
  },
  {
   "cell_type": "markdown",
   "id": "d86dad1b-c8b4-41bc-b130-e304dedc4ac8",
   "metadata": {},
   "source": [
    "**Prompt:** I want you to act as a python programmer assistant.\n",
    "\n",
    "Create a time plot using matplotlib with the column \"precio diario\" of \"precios_diarios\" dataframe, and the column \"precio mensual\" of \"precios_mensuales\" dataframe.  FixedFormatter should only used with FixedLocator.\n",
    "\n",
    "Do not explain the code."
   ]
  },
  {
   "cell_type": "markdown",
   "id": "90c8038f-e86f-4399-af7c-d095adf6dc0c",
   "metadata": {},
   "source": [
    "![assets/chatgpt-09.png](assets/chatgpt-09.png)"
   ]
  },
  {
   "cell_type": "code",
   "execution_count": 9,
   "id": "2b7e9867-4a2d-4ef0-b8fd-e5ea58fd3468",
   "metadata": {
    "tags": []
   },
   "outputs": [
    {
     "data": {
      "image/png": "[encoded data removed]",
      "text/plain": [
       "<Figure size 1000x400 with 1 Axes>"
      ]
     },
     "metadata": {},
     "output_type": "display_data"
    }
   ],
   "source": [
    "import matplotlib.pyplot as plt\n",
    "\n",
    "precios_diarios[\"Fecha\"] = pd.to_datetime(precios_diarios[\"Fecha\"])\n",
    "precios_mensuales[\"Fecha\"] = pd.to_datetime(precios_mensuales[\"Fecha\"])\n",
    "\n",
    "precios_diarios = precios_diarios.set_index(\"Fecha\")\n",
    "precios_mensuales = precios_mensuales.set_index(\"Fecha\")\n",
    "\n",
    "fig, ax = plt.subplots(figsize=(10, 4))\n",
    "ax.plot(precios_diarios[\"precio diario\"], label=\"Precio diario\")\n",
    "ax.plot(precios_mensuales[\"precio mensual\"], label=\"Precio mensual\")\n",
    "\n",
    "years = pd.date_range(start=precios_diarios.index.min(), end=precios_diarios.index.max(), freq='YS')\n",
    "ax.set_xticks(years)\n",
    "ax.set_xticklabels(years.strftime('%Y'), rotation=45, ha='right')\n",
    "\n",
    "ax.set_ylabel(\"Precio ($/kWh)\")\n",
    "ax.legend()\n",
    "\n",
    "plt.show()"
   ]
  }
 ],
 "metadata": {
  "kernelspec": {
   "display_name": "Python 3 (ipykernel)",
   "language": "python",
   "name": "python3"
  },
  "language_info": {
   "codemirror_mode": {
    "name": "ipython",
    "version": 3
   },
   "file_extension": ".py",
   "mimetype": "text/x-python",
   "name": "python",
   "nbconvert_exporter": "python",
   "pygments_lexer": "ipython3",
   "version": "3.9.6"
  }
 },
 "nbformat": 4,
 "nbformat_minor": 5
}
