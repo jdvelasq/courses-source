{
 "cells": [
  {
   "cell_type": "markdown",
   "id": "001edf1c-409e-492e-aa19-70bba270c314",
   "metadata": {},
   "source": [
    "Gráficos estadísticos\n",
    "==="
   ]
  },
  {
   "cell_type": "code",
   "execution_count": null,
   "id": "8f8cdffb-57ec-42d0-8a2e-8574bc3aea3c",
   "metadata": {},
   "outputs": [],
   "source": [
    "import matplotlib.pyplot as plt\n",
    "import numpy as np"
   ]
  },
  {
   "cell_type": "code",
   "execution_count": null,
   "id": "7a73124d-671c-4610-93c9-cb1aa4f00769",
   "metadata": {},
   "outputs": [],
   "source": [
    "#\n",
    "# hist(x)\n",
    "#\n",
    "np.random.seed(1)\n",
    "x = 4 + np.random.normal(0, 1.5, 200)\n",
    "\n",
    "# plot:\n",
    "fig, ax = plt.subplots()\n",
    "\n",
    "ax.hist(x, bins=8, linewidth=0.5, edgecolor=\"white\")\n",
    "\n",
    "ax.set(xlim=(0, 8), xticks=np.arange(1, 8),\n",
    "       ylim=(0, 56), yticks=np.linspace(0, 56, 9))\n",
    "\n",
    "plt.show()"
   ]
  },
  {
   "cell_type": "code",
   "execution_count": null,
   "id": "cd6f794e-8e46-4d22-88d9-dd2e03616f06",
   "metadata": {},
   "outputs": [],
   "source": [
    "#\n",
    "# boxplot(X)\n",
    "#\n",
    "np.random.seed(10)\n",
    "D = np.random.normal((3, 5, 4), (1.25, 1.00, 1.25), (100, 3))\n",
    "\n",
    "# plot\n",
    "fig, ax = plt.subplots()\n",
    "VP = ax.boxplot(D, positions=[2, 4, 6], widths=1.5, patch_artist=True,\n",
    "                showmeans=False, showfliers=False,\n",
    "                medianprops={\"color\": \"white\", \"linewidth\": 0.5},\n",
    "                boxprops={\"facecolor\": \"C0\", \"edgecolor\": \"white\",\n",
    "                          \"linewidth\": 0.5},\n",
    "                whiskerprops={\"color\": \"C0\", \"linewidth\": 1.5},\n",
    "                capprops={\"color\": \"C0\", \"linewidth\": 1.5})\n",
    "\n",
    "ax.set(xlim=(0, 8), xticks=np.arange(1, 8),\n",
    "       ylim=(0, 8), yticks=np.arange(1, 8))\n",
    "\n",
    "plt.show()"
   ]
  },
  {
   "cell_type": "code",
   "execution_count": null,
   "id": "0c60e6e1-d43a-464b-9fef-38da4e4b6d35",
   "metadata": {},
   "outputs": [],
   "source": [
    "#\n",
    "# errorbar(x, y, yerr, xerr)\n",
    "#\n",
    "np.random.seed(1)\n",
    "x = [2, 4, 6]\n",
    "y = [3.6, 5, 4.2]\n",
    "yerr = [0.9, 1.2, 0.5]\n",
    "\n",
    "# plot:\n",
    "fig, ax = plt.subplots()\n",
    "\n",
    "ax.errorbar(x, y, yerr, fmt='o', linewidth=2, capsize=6)\n",
    "\n",
    "ax.set(xlim=(0, 8), xticks=np.arange(1, 8),\n",
    "       ylim=(0, 8), yticks=np.arange(1, 8))\n",
    "\n",
    "plt.show()"
   ]
  },
  {
   "cell_type": "code",
   "execution_count": null,
   "id": "e30d4ade-a34f-4421-b75c-fb26fb2f44e8",
   "metadata": {},
   "outputs": [],
   "source": [
    "#\n",
    "# violinplot(D)\n",
    "#\n",
    "np.random.seed(10)\n",
    "D = np.random.normal((3, 5, 4), (0.75, 1.00, 0.75), (200, 3))\n",
    "\n",
    "# plot:\n",
    "fig, ax = plt.subplots()\n",
    "\n",
    "vp = ax.violinplot(D, [2, 4, 6], widths=2,\n",
    "                   showmeans=False, showmedians=False, showextrema=False)\n",
    "# styling:\n",
    "for body in vp['bodies']:\n",
    "    body.set_alpha(0.9)\n",
    "ax.set(xlim=(0, 8), xticks=np.arange(1, 8),\n",
    "       ylim=(0, 8), yticks=np.arange(1, 8))\n",
    "\n",
    "plt.show()"
   ]
  },
  {
   "cell_type": "code",
   "execution_count": null,
   "id": "97fe705b-4ac0-42f4-a2ac-5aa565e6dd2e",
   "metadata": {},
   "outputs": [],
   "source": [
    "#\n",
    "# eventplot(D)\n",
    "#\n",
    "np.random.seed(1)\n",
    "x = [2, 4, 6]\n",
    "D = np.random.gamma(4, size=(3, 50))\n",
    "\n",
    "# plot:\n",
    "fig, ax = plt.subplots()\n",
    "\n",
    "ax.eventplot(D, orientation=\"vertical\", lineoffsets=x, linewidth=0.75)\n",
    "\n",
    "ax.set(xlim=(0, 8), xticks=np.arange(1, 8),\n",
    "       ylim=(0, 8), yticks=np.arange(1, 8))\n",
    "\n",
    "plt.show()"
   ]
  },
  {
   "cell_type": "code",
   "execution_count": null,
   "id": "3136cb45-5733-4a3f-85e6-8ed5cb5641a2",
   "metadata": {},
   "outputs": [],
   "source": [
    "#\n",
    "# hist2d(x, y)\n",
    "#\n",
    "np.random.seed(1)\n",
    "x = np.random.randn(5000)\n",
    "y = 1.2 * x + np.random.randn(5000) / 3\n",
    "\n",
    "fig, ax = plt.subplots()\n",
    "\n",
    "ax.hist2d(x, y, bins=(np.arange(-3, 3, 0.1), np.arange(-3, 3, 0.1)))\n",
    "\n",
    "ax.set(xlim=(-2, 2), ylim=(-3, 3))\n",
    "\n",
    "plt.show()"
   ]
  },
  {
   "cell_type": "code",
   "execution_count": null,
   "id": "2c77ebe6-10cd-4fb3-b949-df895d2580ca",
   "metadata": {},
   "outputs": [],
   "source": [
    "#\n",
    "# hexbin(x, y, C)\n",
    "#\n",
    "np.random.seed(1)\n",
    "x = np.random.randn(5000)\n",
    "y = 1.2 * x + np.random.randn(5000) / 3\n",
    "\n",
    "# plot:\n",
    "fig, ax = plt.subplots()\n",
    "\n",
    "ax.hexbin(x, y, gridsize=20)\n",
    "\n",
    "ax.set(xlim=(-2, 2), ylim=(-3, 3))\n",
    "\n",
    "plt.show()"
   ]
  },
  {
   "cell_type": "code",
   "execution_count": null,
   "id": "f17a9189-be0e-4270-82c4-306336bfbd79",
   "metadata": {},
   "outputs": [],
   "source": [
    "#\n",
    "# pie(x)\n",
    "#\n",
    "x = [1, 2, 3, 4]\n",
    "colors = plt.get_cmap('Blues')(np.linspace(0.2, 0.7, len(x)))\n",
    "\n",
    "# plot\n",
    "fig, ax = plt.subplots()\n",
    "ax.pie(x, colors=colors, radius=3, center=(4, 4),\n",
    "       wedgeprops={\"linewidth\": 1, \"edgecolor\": \"white\"}, frame=True)\n",
    "\n",
    "ax.set(xlim=(0, 8), xticks=np.arange(1, 8),\n",
    "       ylim=(0, 8), yticks=np.arange(1, 8))\n",
    "\n",
    "plt.show()"
   ]
  }
 ],
 "metadata": {
  "kernelspec": {
   "display_name": "Python 3 (ipykernel)",
   "language": "python",
   "name": "python3"
  },
  "language_info": {
   "codemirror_mode": {
    "name": "ipython",
    "version": 3
   },
   "file_extension": ".py",
   "mimetype": "text/x-python",
   "name": "python",
   "nbconvert_exporter": "python",
   "pygments_lexer": "ipython3",
   "version": "3.9.6"
  }
 },
 "nbformat": 4,
 "nbformat_minor": 5
}
