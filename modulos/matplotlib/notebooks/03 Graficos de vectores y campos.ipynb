{
 "cells": [
  {
   "cell_type": "markdown",
   "id": "f2dc3e23-f175-4459-822f-8b20ab7f3dfb",
   "metadata": {},
   "source": [
    "Gráficos de vectores y campos\n",
    "===="
   ]
  },
  {
   "cell_type": "code",
   "execution_count": null,
   "id": "09599ae6-5e68-4a17-8fa8-86ab01d92929",
   "metadata": {},
   "outputs": [],
   "source": []
  }
 ],
 "metadata": {
  "kernelspec": {
   "display_name": "Python 3 (ipykernel)",
   "language": "python",
   "name": "python3"
  },
  "language_info": {
   "codemirror_mode": {
    "name": "ipython",
    "version": 3
   },
   "file_extension": ".py",
   "mimetype": "text/x-python",
   "name": "python",
   "nbconvert_exporter": "python",
   "pygments_lexer": "ipython3",
   "version": "3.9.6"
  }
 },
 "nbformat": 4,
 "nbformat_minor": 5
}
