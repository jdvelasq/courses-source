{
 "cells": [
  {
   "cell_type": "markdown",
   "id": "50e91862-4324-49f5-b3b9-b8b3db8f561f",
   "metadata": {
    "tags": []
   },
   "source": [
    "Archivos .xml\n",
    "===\n",
    "\n",
    "* Ultima modificación: Mayo 14, 2022"
   ]
  },
  {
   "cell_type": "markdown",
   "id": "6f2c6722-6ce0-49f8-9c6e-fc5e27def539",
   "metadata": {},
   "source": [
    "Escritura\n",
    "---"
   ]
  },
  {
   "cell_type": "code",
   "execution_count": 1,
   "id": "5986695c-6056-4c21-92d6-c96fe38df654",
   "metadata": {},
   "outputs": [],
   "source": [
    "import xml.etree.ElementTree as ET\n",
    "from xml.dom import minidom\n",
    "\n",
    "\n",
    "config = ET.Element('config')\n",
    "\n",
    "as_dict = ET.SubElement(config, 'as_dict')\n",
    "\n",
    "as_dict_host = ET.SubElement(as_dict, 'host')\n",
    "as_dict_host.text = 'localhost'\n",
    "\n",
    "as_dict_port = ET.SubElement(as_dict, 'port')\n",
    "as_dict_port.text = '8082'\n",
    "\n",
    "\n",
    "as_list = ET.SubElement(config, 'as_list')\n",
    "as_list_values = ET.SubElement(as_list, 'value', {'value': 'value 0'})\n",
    "as_list_values = ET.SubElement(as_list, 'value', {'value': 'value 1'})\n",
    "as_list_values = ET.SubElement(as_list, 'value', {'value': 'value 2'})\n",
    "\n",
    "as_integer = ET.SubElement(config, 'as_integer')\n",
    "as_integer.text = '100'\n",
    "\n",
    "as_float = ET.SubElement(config, 'as_float')\n",
    "as_float.text = '1.0'\n",
    "\n",
    "\n",
    "\n",
    "with open('config.xml', 'w') as out_file:\n",
    "    text = ET.tostring(config)\n",
    "    text = minidom.parseString(text)\n",
    "    text = text.toprettyxml(indent=\"    \")\n",
    "    print(text, file=out_file)"
   ]
  },
  {
   "cell_type": "code",
   "execution_count": 2,
   "id": "7ed72dea-2c74-43f3-97f8-30fb2c3fd203",
   "metadata": {},
   "outputs": [
    {
     "name": "stdout",
     "output_type": "stream",
     "text": [
      "<?xml version=\"1.0\" ?>\n",
      "<config>\n",
      "    <as_dict>\n",
      "        <host>localhost</host>\n",
      "        <port>8082</port>\n",
      "    </as_dict>\n",
      "    <as_list>\n",
      "        <value value=\"value 0\"/>\n",
      "        <value value=\"value 1\"/>\n",
      "        <value value=\"value 2\"/>\n",
      "    </as_list>\n",
      "    <as_integer>100</as_integer>\n",
      "    <as_float>1.0</as_float>\n",
      "</config>\n",
      "\n"
     ]
    }
   ],
   "source": [
    "!cat config.xml"
   ]
  },
  {
   "cell_type": "markdown",
   "id": "f4b5c6d4-d2bb-4748-b52b-220ed0a697a4",
   "metadata": {},
   "source": [
    "Lectura\n",
    "---"
   ]
  },
  {
   "cell_type": "code",
   "execution_count": 3,
   "id": "6f15d6e1-81ab-4d78-ad0e-668a46c9fd72",
   "metadata": {},
   "outputs": [
    {
     "data": {
      "text/plain": [
       "'as_dict'"
      ]
     },
     "execution_count": 3,
     "metadata": {},
     "output_type": "execute_result"
    }
   ],
   "source": [
    "tree = ET.parse('config.xml')\n",
    "root = tree.getroot()\n",
    "\n",
    "value = root.findall('as_dict')[0]\n",
    "\n",
    "value.tag"
   ]
  },
  {
   "cell_type": "code",
   "execution_count": 4,
   "id": "9e40a056-f72a-417e-bc6c-6af5a7bd00b2",
   "metadata": {},
   "outputs": [
    {
     "data": {
      "text/plain": [
       "('host', 'localhost')"
      ]
     },
     "execution_count": 4,
     "metadata": {},
     "output_type": "execute_result"
    }
   ],
   "source": [
    "value[0].tag, value[0].text"
   ]
  },
  {
   "cell_type": "code",
   "execution_count": 5,
   "id": "c50fbcd5-a33d-4af3-b66a-c661e3d7bc22",
   "metadata": {},
   "outputs": [
    {
     "data": {
      "text/plain": [
       "('port', '8082')"
      ]
     },
     "execution_count": 5,
     "metadata": {},
     "output_type": "execute_result"
    }
   ],
   "source": [
    "value[1].tag, value[1].text"
   ]
  },
  {
   "cell_type": "code",
   "execution_count": 6,
   "id": "e6425788-9571-472e-a0ed-4ef110e10bf0",
   "metadata": {},
   "outputs": [],
   "source": [
    "!rm config.xml"
   ]
  }
 ],
 "metadata": {
  "kernelspec": {
   "display_name": "Python 3 (ipykernel)",
   "language": "python",
   "name": "python3"
  },
  "language_info": {
   "codemirror_mode": {
    "name": "ipython",
    "version": 3
   },
   "file_extension": ".py",
   "mimetype": "text/x-python",
   "name": "python",
   "nbconvert_exporter": "python",
   "pygments_lexer": "ipython3",
   "version": "3.8.10"
  }
 },
 "nbformat": 4,
 "nbformat_minor": 5
}
