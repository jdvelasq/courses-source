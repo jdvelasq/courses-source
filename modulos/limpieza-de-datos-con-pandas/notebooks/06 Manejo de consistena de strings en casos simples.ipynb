{
 "cells": [
  {
   "attachments": {},
   "cell_type": "markdown",
   "id": "3d9777c7-9c14-4e91-802c-973783763d74",
   "metadata": {
    "tags": []
   },
   "source": [
    "Consistencia en strings para casos simples\n",
    "===\n",
    "\n",
    "* Ultima actualización: Marzo 6, 2023 | [YouTube](https://www.youtube.com/watch?v=4DzusT3Nl-Q&list=PLEFpZ3YehTnDX6z1fx4rT0wkt80ythBhc&index=6)"
   ]
  },
  {
   "cell_type": "code",
   "execution_count": 1,
   "id": "a728bf92-a9da-46ca-b0d4-e37ceddd0c2c",
   "metadata": {},
   "outputs": [
    {
     "name": "stdout",
     "output_type": "stream",
     "text": [
      "1.23.5\n",
      "1.5.2\n"
     ]
    }
   ],
   "source": [
    "import numpy as np\n",
    "import pandas as pd\n",
    "\n",
    "print(np.__version__)\n",
    "print(pd.__version__)"
   ]
  },
  {
   "cell_type": "code",
   "execution_count": 2,
   "id": "8f9b5bcd-e776-4dac-8f76-ae8bd02350f7",
   "metadata": {},
   "outputs": [
    {
     "name": "stdout",
     "output_type": "stream",
     "text": [
      "Overwriting /tmp/data.csv\n"
     ]
    }
   ],
   "source": [
    "%%writefile /tmp/data.csv\n",
    "personId,status\n",
    "1,divorced_male\n",
    "2,single_male\n",
    "3,SINGLE_MALE\n",
    "4,single_female\n",
    "5,divorced_female\n",
    "6,MARRIED_MALE\n",
    "7,single female\n",
    "8,single_male\n",
    "9,divorced male"
   ]
  },
  {
   "cell_type": "code",
   "execution_count": 3,
   "id": "43ccae1a-642d-478f-8417-f81b837486b4",
   "metadata": {},
   "outputs": [
    {
     "data": {
      "text/plain": [
       "single_male        2\n",
       "divorced_male      1\n",
       "SINGLE_MALE        1\n",
       "single_female      1\n",
       "divorced_female    1\n",
       "MARRIED_MALE       1\n",
       "single female      1\n",
       "divorced male      1\n",
       "Name: status, dtype: int64"
      ]
     },
     "execution_count": 3,
     "metadata": {},
     "output_type": "execute_result"
    }
   ],
   "source": [
    "df = pd.read_csv('/tmp/data.csv')\n",
    "\n",
    "#\n",
    "# Búsqueda de valores inconsistentes. Para \n",
    "# columnas con muchos valores diferentes no\n",
    "# funciona bien\n",
    "#\n",
    "df.status.value_counts()"
   ]
  },
  {
   "cell_type": "code",
   "execution_count": 4,
   "id": "42608eb6-32bf-42b4-bc8c-6144527a92d2",
   "metadata": {},
   "outputs": [
    {
     "data": {
      "text/plain": [
       "single_male        3\n",
       "divorced_male      1\n",
       "single_female      1\n",
       "divorced_female    1\n",
       "married_male       1\n",
       "single female      1\n",
       "divorced male      1\n",
       "Name: status, dtype: int64"
      ]
     },
     "execution_count": 4,
     "metadata": {},
     "output_type": "execute_result"
    }
   ],
   "source": [
    "##\n",
    "## Transformación a minúsculas\n",
    "##\n",
    "df.status = df.status.str.lower()\n",
    "df.status.value_counts()"
   ]
  },
  {
   "cell_type": "code",
   "execution_count": 5,
   "id": "f957d870-136c-4b6a-b3b3-10a7305d7bce",
   "metadata": {},
   "outputs": [
    {
     "data": {
      "text/plain": [
       "divorced male      1\n",
       "divorced_female    1\n",
       "divorced_male      1\n",
       "married_male       1\n",
       "single female      1\n",
       "single_female      1\n",
       "single_male        3\n",
       "Name: status, dtype: int64"
      ]
     },
     "execution_count": 5,
     "metadata": {},
     "output_type": "execute_result"
    }
   ],
   "source": [
    "##\n",
    "## Ordenamiento alfabético\n",
    "##\n",
    "df.status.value_counts().sort_index()"
   ]
  },
  {
   "cell_type": "code",
   "execution_count": 6,
   "id": "e669e051-9def-4b95-9493-e035e36458f9",
   "metadata": {},
   "outputs": [
    {
     "data": {
      "text/plain": [
       "divorced_female    1\n",
       "divorced_male      2\n",
       "married_male       1\n",
       "single_female      2\n",
       "single_male        3\n",
       "Name: status, dtype: int64"
      ]
     },
     "execution_count": 6,
     "metadata": {},
     "output_type": "execute_result"
    }
   ],
   "source": [
    "##\n",
    "## Corrección del guión bajo\n",
    "##\n",
    "df.status = df.status.str.replace(' ', '_', regex=False)\n",
    "df.status.value_counts().sort_index()"
   ]
  }
 ],
 "metadata": {
  "kernelspec": {
   "display_name": "Python 3 (ipykernel)",
   "language": "python",
   "name": "python3"
  },
  "language_info": {
   "codemirror_mode": {
    "name": "ipython",
    "version": 3
   },
   "file_extension": ".py",
   "mimetype": "text/x-python",
   "name": "python",
   "nbconvert_exporter": "python",
   "pygments_lexer": "ipython3",
   "version": "3.8.10"
  }
 },
 "nbformat": 4,
 "nbformat_minor": 5
}
