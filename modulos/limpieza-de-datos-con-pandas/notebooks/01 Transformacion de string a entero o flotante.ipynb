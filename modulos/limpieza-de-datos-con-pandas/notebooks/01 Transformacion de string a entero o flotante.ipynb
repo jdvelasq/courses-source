{
 "cells": [
  {
   "attachments": {},
   "cell_type": "markdown",
   "id": "fac51b83-20ca-4080-a512-0b8600ad1add",
   "metadata": {
    "tags": []
   },
   "source": [
    "Transformación de strings a número entero o flotante\n",
    "===\n",
    "\n",
    "* Ultima actualización: Marzo 6, 2023 | [YouTube](https://www.youtube.com/watch?v=4DzusT3Nl-Q&list=PLEFpZ3YehTnDX6z1fx4rT0wkt80ythBhc&index=1)"
   ]
  },
  {
   "cell_type": "markdown",
   "id": "35bc8c73-2e35-4702-80a5-64a5c0e98a63",
   "metadata": {},
   "source": [
    "Se refiere a la correción del tipo de los datos en las tablas"
   ]
  },
  {
   "cell_type": "code",
   "execution_count": 1,
   "id": "3beccf6b-ff48-484b-9bd7-27e3aa0fb29d",
   "metadata": {},
   "outputs": [
    {
     "data": {
      "text/plain": [
       "'1.5.2'"
      ]
     },
     "execution_count": 1,
     "metadata": {},
     "output_type": "execute_result"
    }
   ],
   "source": [
    "import pandas as pd\n",
    "\n",
    "pd.__version__"
   ]
  },
  {
   "cell_type": "markdown",
   "id": "69fe8976-1ce9-4660-bb93-e7d4f8f1c7b7",
   "metadata": {},
   "source": [
    "String a entero o flotante\n",
    "--"
   ]
  },
  {
   "cell_type": "code",
   "execution_count": 2,
   "id": "4bfe9a5c-f227-45b7-9c80-ef1f23a0f677",
   "metadata": {},
   "outputs": [
    {
     "name": "stdout",
     "output_type": "stream",
     "text": [
      "Overwriting /tmp/data.csv\n"
     ]
    }
   ],
   "source": [
    "%%writefile /tmp/data.csv\n",
    "orderId,price,percentage\n",
    "1,100$,15.3%\n",
    "2,120$,22.1%\n",
    "3,128$,54.2%\n",
    "4,155$,10.0%\n",
    "5,234$,6%"
   ]
  },
  {
   "cell_type": "code",
   "execution_count": 3,
   "id": "6294fdf7-b756-4ac1-87c0-4628dab39dad",
   "metadata": {},
   "outputs": [
    {
     "data": {
      "text/html": [
       "<div>\n",
       "<style scoped>\n",
       "    .dataframe tbody tr th:only-of-type {\n",
       "        vertical-align: middle;\n",
       "    }\n",
       "\n",
       "    .dataframe tbody tr th {\n",
       "        vertical-align: top;\n",
       "    }\n",
       "\n",
       "    .dataframe thead th {\n",
       "        text-align: right;\n",
       "    }\n",
       "</style>\n",
       "<table border=\"1\" class=\"dataframe\">\n",
       "  <thead>\n",
       "    <tr style=\"text-align: right;\">\n",
       "      <th></th>\n",
       "      <th>orderId</th>\n",
       "      <th>price</th>\n",
       "      <th>percentage</th>\n",
       "    </tr>\n",
       "  </thead>\n",
       "  <tbody>\n",
       "    <tr>\n",
       "      <th>0</th>\n",
       "      <td>1</td>\n",
       "      <td>100$</td>\n",
       "      <td>15.3%</td>\n",
       "    </tr>\n",
       "    <tr>\n",
       "      <th>1</th>\n",
       "      <td>2</td>\n",
       "      <td>120$</td>\n",
       "      <td>22.1%</td>\n",
       "    </tr>\n",
       "    <tr>\n",
       "      <th>2</th>\n",
       "      <td>3</td>\n",
       "      <td>128$</td>\n",
       "      <td>54.2%</td>\n",
       "    </tr>\n",
       "    <tr>\n",
       "      <th>3</th>\n",
       "      <td>4</td>\n",
       "      <td>155$</td>\n",
       "      <td>10.0%</td>\n",
       "    </tr>\n",
       "    <tr>\n",
       "      <th>4</th>\n",
       "      <td>5</td>\n",
       "      <td>234$</td>\n",
       "      <td>6%</td>\n",
       "    </tr>\n",
       "  </tbody>\n",
       "</table>\n",
       "</div>"
      ],
      "text/plain": [
       "   orderId price percentage\n",
       "0        1  100$      15.3%\n",
       "1        2  120$      22.1%\n",
       "2        3  128$      54.2%\n",
       "3        4  155$      10.0%\n",
       "4        5  234$         6%"
      ]
     },
     "metadata": {},
     "output_type": "display_data"
    },
    {
     "data": {
      "text/plain": [
       "orderId        int64\n",
       "price         object\n",
       "percentage    object\n",
       "dtype: object"
      ]
     },
     "metadata": {},
     "output_type": "display_data"
    }
   ],
   "source": [
    "df = pd.read_csv(\"/tmp/data.csv\")\n",
    "\n",
    "##\n",
    "##  Note que los tipos de las columnas price y \n",
    "##  percentage son object. Se debe a los caracteres\n",
    "##  $ y % en el archivo.\n",
    "## \n",
    "display(\n",
    "    df,\n",
    "    df.dtypes\n",
    ")"
   ]
  },
  {
   "cell_type": "code",
   "execution_count": 4,
   "id": "fe9066d7-57e8-4555-8f71-7d9c647da3ec",
   "metadata": {},
   "outputs": [
    {
     "data": {
      "text/html": [
       "<div>\n",
       "<style scoped>\n",
       "    .dataframe tbody tr th:only-of-type {\n",
       "        vertical-align: middle;\n",
       "    }\n",
       "\n",
       "    .dataframe tbody tr th {\n",
       "        vertical-align: top;\n",
       "    }\n",
       "\n",
       "    .dataframe thead th {\n",
       "        text-align: right;\n",
       "    }\n",
       "</style>\n",
       "<table border=\"1\" class=\"dataframe\">\n",
       "  <thead>\n",
       "    <tr style=\"text-align: right;\">\n",
       "      <th></th>\n",
       "      <th>orderId</th>\n",
       "      <th>price</th>\n",
       "      <th>percentage</th>\n",
       "    </tr>\n",
       "  </thead>\n",
       "  <tbody>\n",
       "    <tr>\n",
       "      <th>0</th>\n",
       "      <td>1</td>\n",
       "      <td>100</td>\n",
       "      <td>15.3</td>\n",
       "    </tr>\n",
       "    <tr>\n",
       "      <th>1</th>\n",
       "      <td>2</td>\n",
       "      <td>120</td>\n",
       "      <td>22.1</td>\n",
       "    </tr>\n",
       "    <tr>\n",
       "      <th>2</th>\n",
       "      <td>3</td>\n",
       "      <td>128</td>\n",
       "      <td>54.2</td>\n",
       "    </tr>\n",
       "    <tr>\n",
       "      <th>3</th>\n",
       "      <td>4</td>\n",
       "      <td>155</td>\n",
       "      <td>10.0</td>\n",
       "    </tr>\n",
       "    <tr>\n",
       "      <th>4</th>\n",
       "      <td>5</td>\n",
       "      <td>234</td>\n",
       "      <td>6.0</td>\n",
       "    </tr>\n",
       "  </tbody>\n",
       "</table>\n",
       "</div>"
      ],
      "text/plain": [
       "   orderId  price  percentage\n",
       "0        1    100        15.3\n",
       "1        2    120        22.1\n",
       "2        3    128        54.2\n",
       "3        4    155        10.0\n",
       "4        5    234         6.0"
      ]
     },
     "metadata": {},
     "output_type": "display_data"
    },
    {
     "data": {
      "text/plain": [
       "orderId         int64\n",
       "price           int64\n",
       "percentage    float64\n",
       "dtype: object"
      ]
     },
     "metadata": {},
     "output_type": "display_data"
    }
   ],
   "source": [
    "##\n",
    "## Corrección\n",
    "##\n",
    "df.price = df.price.str.strip('$')\n",
    "df.price = df.price.astype(int)\n",
    "\n",
    "df.percentage = df.percentage.str.strip('%')\n",
    "df.percentage = df.percentage.astype(float)\n",
    "\n",
    "display(\n",
    "    df,\n",
    "    df.dtypes\n",
    ")"
   ]
  }
 ],
 "metadata": {
  "kernelspec": {
   "display_name": "Python 3 (ipykernel)",
   "language": "python",
   "name": "python3"
  },
  "language_info": {
   "codemirror_mode": {
    "name": "ipython",
    "version": 3
   },
   "file_extension": ".py",
   "mimetype": "text/x-python",
   "name": "python",
   "nbconvert_exporter": "python",
   "pygments_lexer": "ipython3",
   "version": "3.8.10"
  },
  "vscode": {
   "interpreter": {
    "hash": "2482a4565599eda3cd2db35331af39775c1f78a505a9deef48c721423040da5b"
   }
  }
 },
 "nbformat": 4,
 "nbformat_minor": 5
}
