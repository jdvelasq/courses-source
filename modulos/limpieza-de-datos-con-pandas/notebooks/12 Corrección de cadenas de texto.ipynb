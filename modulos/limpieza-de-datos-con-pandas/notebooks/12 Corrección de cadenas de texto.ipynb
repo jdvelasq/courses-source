{
 "cells": [
  {
   "attachments": {},
   "cell_type": "markdown",
   "id": "024c2a6f-c81f-4f67-a0ef-411d508c22c3",
   "metadata": {
    "tags": []
   },
   "source": [
    "Corrección de cadenas de texto\n",
    "===\n",
    "\n",
    "* Ultima actualización: Marzo 6, 2023 | [YouTube](https://www.youtube.com/watch?v=4DzusT3Nl-Q&list=PLEFpZ3YehTnDX6z1fx4rT0wkt80ythBhc&index=12)"
   ]
  },
  {
   "cell_type": "code",
   "execution_count": 1,
   "id": "9c1e3856-f524-4e66-8db7-beef6f9aa931",
   "metadata": {},
   "outputs": [
    {
     "name": "stdout",
     "output_type": "stream",
     "text": [
      "\u001b[33mWARNING: Running pip as the 'root' user can result in broken permissions and conflicting behaviour with the system package manager. It is recommended to use a virtual environment instead: https://pip.pypa.io/warnings/venv\u001b[0m\u001b[33m\n",
      "\u001b[0m\u001b[33mWARNING: Running pip as the 'root' user can result in broken permissions and conflicting behaviour with the system package manager. It is recommended to use a virtual environment instead: https://pip.pypa.io/warnings/venv\u001b[0m\u001b[33m\n",
      "\u001b[0m"
     ]
    }
   ],
   "source": [
    "!pip3 install --quiet fuzzywuzzy\n",
    "!pip3 install --quiet fuzzywuzzy python-Levenshtein"
   ]
  },
  {
   "cell_type": "code",
   "execution_count": 2,
   "id": "b839d6cd-baaa-4209-87f1-7da540970d40",
   "metadata": {},
   "outputs": [
    {
     "data": {
      "text/plain": [
       "'1.5.2'"
      ]
     },
     "execution_count": 2,
     "metadata": {},
     "output_type": "execute_result"
    }
   ],
   "source": [
    "import pandas as pd\n",
    "\n",
    "pd.__version__"
   ]
  },
  {
   "cell_type": "markdown",
   "id": "7561eefd-6cb3-4fce-a40a-db715f5278c3",
   "metadata": {},
   "source": [
    "Comparación de cadenas de texto\n",
    "---"
   ]
  },
  {
   "cell_type": "code",
   "execution_count": 3,
   "id": "d03592a5-6607-4f5e-8bec-5ef2ff7b9b72",
   "metadata": {},
   "outputs": [
    {
     "data": {
      "text/plain": [
       "100"
      ]
     },
     "metadata": {},
     "output_type": "display_data"
    },
    {
     "data": {
      "text/plain": [
       "100"
      ]
     },
     "metadata": {},
     "output_type": "display_data"
    },
    {
     "data": {
      "text/plain": [
       "100"
      ]
     },
     "metadata": {},
     "output_type": "display_data"
    },
    {
     "data": {
      "text/plain": [
       "100"
      ]
     },
     "metadata": {},
     "output_type": "display_data"
    }
   ],
   "source": [
    "from fuzzywuzzy import fuzz, process\n",
    "\n",
    "#\n",
    "# Comparación de strings\n",
    "#\n",
    "display(\n",
    "    fuzz.WRatio(\"hola mundo\", \"hola mundo\"),\n",
    "    fuzz.WRatio(\"hola mundo\", \"Hola mundo\"),\n",
    "    fuzz.WRatio(\"hola mundo\", \"Hola Mundo\"),\n",
    "    fuzz.WRatio(\"hola mundo\", \"hola mundo!\"),\n",
    ")"
   ]
  },
  {
   "cell_type": "code",
   "execution_count": 4,
   "id": "0967bc95-b9f4-4761-84d8-e808b8ea19ab",
   "metadata": {},
   "outputs": [
    {
     "data": {
      "text/plain": [
       "100"
      ]
     },
     "metadata": {},
     "output_type": "display_data"
    },
    {
     "data": {
      "text/plain": [
       "100"
      ]
     },
     "metadata": {},
     "output_type": "display_data"
    },
    {
     "data": {
      "text/plain": [
       "95"
      ]
     },
     "metadata": {},
     "output_type": "display_data"
    },
    {
     "data": {
      "text/plain": [
       "91"
      ]
     },
     "metadata": {},
     "output_type": "display_data"
    },
    {
     "data": {
      "text/plain": [
       "87"
      ]
     },
     "metadata": {},
     "output_type": "display_data"
    },
    {
     "data": {
      "text/plain": [
       "90"
      ]
     },
     "metadata": {},
     "output_type": "display_data"
    },
    {
     "data": {
      "text/plain": [
       "90"
      ]
     },
     "metadata": {},
     "output_type": "display_data"
    }
   ],
   "source": [
    "#\n",
    "# Comparación de strings\n",
    "#\n",
    "display(\n",
    "    fuzz.WRatio(\"hola mundo!\", \"hola mundo\"),\n",
    "    fuzz.WRatio(\"hola mundo\", \"Hola mundo!\"),\n",
    "    fuzz.WRatio(\"hola mundo\", \"Hola mundoo\"),\n",
    "    fuzz.WRatio(\"hola mundo\", \"hola mundooo\"),\n",
    "    fuzz.WRatio(\"hola mundo\", \"hola mundoooo\"),\n",
    "    fuzz.WRatio(\"hola mundo\", \"hola\"),\n",
    "    fuzz.WRatio(\"hola\", \"hola mundo\"),\n",
    ")"
   ]
  },
  {
   "cell_type": "code",
   "execution_count": 5,
   "id": "a48fb0f2-c84b-4c4f-a963-9011855c308b",
   "metadata": {},
   "outputs": [
    {
     "data": {
      "text/plain": [
       "[('Hola mundo', 100, 0),\n",
       " ('mundo', 90, 1),\n",
       " ('Hola', 90, 2),\n",
       " ('Hola mundo cruel!', 90, 3)]"
      ]
     },
     "execution_count": 5,
     "metadata": {},
     "output_type": "execute_result"
    }
   ],
   "source": [
    "#\n",
    "# Comparación con arrays\n",
    "#\n",
    "base_string = \"hola mundo\"\n",
    "array = pd.Series(\n",
    "    [\n",
    "        \"Hola mundo\",\n",
    "        \"mundo\",\n",
    "        \"Hola\",\n",
    "        \"Hola mundo cruel!\",\n",
    "    ]\n",
    ")\n",
    "\n",
    "\n",
    "process.extract(\n",
    "    base_string,\n",
    "    array,\n",
    ")"
   ]
  },
  {
   "cell_type": "markdown",
   "id": "d158958c-be9a-4990-b2eb-1e629cdd9677",
   "metadata": {},
   "source": [
    "Corrección y unificación básica cuando se conoce la clave\n",
    "----"
   ]
  },
  {
   "cell_type": "code",
   "execution_count": 6,
   "id": "f781e877-7ed0-46bf-b888-2627bb439783",
   "metadata": {},
   "outputs": [
    {
     "name": "stdout",
     "output_type": "stream",
     "text": [
      "Overwriting /tmp/data.csv\n"
     ]
    }
   ],
   "source": [
    "%%writefile /tmp/data.csv\n",
    "ciudad\n",
    "Medellin\n",
    "Bogota\n",
    "bogota\n",
    "bogote\n",
    "Mdellin\n",
    "medellin\n",
    "Cali\n",
    "cali\n",
    "CALI"
   ]
  },
  {
   "cell_type": "code",
   "execution_count": 7,
   "id": "cb38473d-8053-41bb-b12a-cdba8ac36ecf",
   "metadata": {},
   "outputs": [
    {
     "data": {
      "text/html": [
       "<div>\n",
       "<style scoped>\n",
       "    .dataframe tbody tr th:only-of-type {\n",
       "        vertical-align: middle;\n",
       "    }\n",
       "\n",
       "    .dataframe tbody tr th {\n",
       "        vertical-align: top;\n",
       "    }\n",
       "\n",
       "    .dataframe thead th {\n",
       "        text-align: right;\n",
       "    }\n",
       "</style>\n",
       "<table border=\"1\" class=\"dataframe\">\n",
       "  <thead>\n",
       "    <tr style=\"text-align: right;\">\n",
       "      <th></th>\n",
       "      <th>ciudad</th>\n",
       "    </tr>\n",
       "  </thead>\n",
       "  <tbody>\n",
       "    <tr>\n",
       "      <th>0</th>\n",
       "      <td>Medellin</td>\n",
       "    </tr>\n",
       "    <tr>\n",
       "      <th>1</th>\n",
       "      <td>Bogota</td>\n",
       "    </tr>\n",
       "    <tr>\n",
       "      <th>2</th>\n",
       "      <td>bogota</td>\n",
       "    </tr>\n",
       "    <tr>\n",
       "      <th>3</th>\n",
       "      <td>bogote</td>\n",
       "    </tr>\n",
       "    <tr>\n",
       "      <th>4</th>\n",
       "      <td>Mdellin</td>\n",
       "    </tr>\n",
       "    <tr>\n",
       "      <th>5</th>\n",
       "      <td>medellin</td>\n",
       "    </tr>\n",
       "    <tr>\n",
       "      <th>6</th>\n",
       "      <td>Cali</td>\n",
       "    </tr>\n",
       "    <tr>\n",
       "      <th>7</th>\n",
       "      <td>cali</td>\n",
       "    </tr>\n",
       "    <tr>\n",
       "      <th>8</th>\n",
       "      <td>CALI</td>\n",
       "    </tr>\n",
       "  </tbody>\n",
       "</table>\n",
       "</div>"
      ],
      "text/plain": [
       "     ciudad\n",
       "0  Medellin\n",
       "1    Bogota\n",
       "2    bogota\n",
       "3    bogote\n",
       "4   Mdellin\n",
       "5  medellin\n",
       "6      Cali\n",
       "7      cali\n",
       "8      CALI"
      ]
     },
     "execution_count": 7,
     "metadata": {},
     "output_type": "execute_result"
    }
   ],
   "source": [
    "df = pd.read_csv(\"/tmp/data.csv\")\n",
    "df"
   ]
  },
  {
   "cell_type": "code",
   "execution_count": 8,
   "id": "3fc1c4af-5bfc-4880-9d86-6bcecf7b6c2f",
   "metadata": {},
   "outputs": [
    {
     "data": {
      "text/html": [
       "<div>\n",
       "<style scoped>\n",
       "    .dataframe tbody tr th:only-of-type {\n",
       "        vertical-align: middle;\n",
       "    }\n",
       "\n",
       "    .dataframe tbody tr th {\n",
       "        vertical-align: top;\n",
       "    }\n",
       "\n",
       "    .dataframe thead th {\n",
       "        text-align: right;\n",
       "    }\n",
       "</style>\n",
       "<table border=\"1\" class=\"dataframe\">\n",
       "  <thead>\n",
       "    <tr style=\"text-align: right;\">\n",
       "      <th></th>\n",
       "      <th>ciudad</th>\n",
       "      <th>ciudad_</th>\n",
       "    </tr>\n",
       "  </thead>\n",
       "  <tbody>\n",
       "    <tr>\n",
       "      <th>0</th>\n",
       "      <td>Medellin</td>\n",
       "      <td>Medellin</td>\n",
       "    </tr>\n",
       "    <tr>\n",
       "      <th>1</th>\n",
       "      <td>Bogota</td>\n",
       "      <td>Bogota</td>\n",
       "    </tr>\n",
       "    <tr>\n",
       "      <th>2</th>\n",
       "      <td>bogota</td>\n",
       "      <td>Bogota</td>\n",
       "    </tr>\n",
       "    <tr>\n",
       "      <th>3</th>\n",
       "      <td>bogote</td>\n",
       "      <td>Bogota</td>\n",
       "    </tr>\n",
       "    <tr>\n",
       "      <th>4</th>\n",
       "      <td>Mdellin</td>\n",
       "      <td>Medellin</td>\n",
       "    </tr>\n",
       "    <tr>\n",
       "      <th>5</th>\n",
       "      <td>medellin</td>\n",
       "      <td>Medellin</td>\n",
       "    </tr>\n",
       "    <tr>\n",
       "      <th>6</th>\n",
       "      <td>Cali</td>\n",
       "      <td>Cali</td>\n",
       "    </tr>\n",
       "    <tr>\n",
       "      <th>7</th>\n",
       "      <td>cali</td>\n",
       "      <td>Cali</td>\n",
       "    </tr>\n",
       "    <tr>\n",
       "      <th>8</th>\n",
       "      <td>CALI</td>\n",
       "      <td>Cali</td>\n",
       "    </tr>\n",
       "  </tbody>\n",
       "</table>\n",
       "</div>"
      ],
      "text/plain": [
       "     ciudad   ciudad_\n",
       "0  Medellin  Medellin\n",
       "1    Bogota    Bogota\n",
       "2    bogota    Bogota\n",
       "3    bogote    Bogota\n",
       "4   Mdellin  Medellin\n",
       "5  medellin  Medellin\n",
       "6      Cali      Cali\n",
       "7      cali      Cali\n",
       "8      CALI      Cali"
      ]
     },
     "execution_count": 8,
     "metadata": {},
     "output_type": "execute_result"
    }
   ],
   "source": [
    "#\n",
    "# Nombres validos\n",
    "#\n",
    "valid_names = [\"Medellin\", \"Bogota\", \"Cali\"]\n",
    "df[\"ciudad_\"] = df.ciudad.copy()\n",
    "\n",
    "#\n",
    "# Valor mínimo de similitud para hacer el cambio\n",
    "#\n",
    "min_threshold = 80\n",
    "\n",
    "#\n",
    "# Estructuta básica\n",
    "#\n",
    "for valid_name in valid_names:\n",
    "\n",
    "    potential_matches = process.extract(\n",
    "        valid_name,\n",
    "        df.ciudad,\n",
    "        limit=df.shape[0],\n",
    "    )\n",
    "\n",
    "    for potential_match in potential_matches:\n",
    "\n",
    "        if potential_match[1] >= min_threshold:\n",
    "\n",
    "            df.loc[df.ciudad == potential_match[0], \"ciudad_\"] = valid_name\n",
    "\n",
    "df"
   ]
  }
 ],
 "metadata": {
  "kernelspec": {
   "display_name": "Python 3 (ipykernel)",
   "language": "python",
   "name": "python3"
  },
  "language_info": {
   "codemirror_mode": {
    "name": "ipython",
    "version": 3
   },
   "file_extension": ".py",
   "mimetype": "text/x-python",
   "name": "python",
   "nbconvert_exporter": "python",
   "pygments_lexer": "ipython3",
   "version": "3.8.10"
  }
 },
 "nbformat": 4,
 "nbformat_minor": 5
}
