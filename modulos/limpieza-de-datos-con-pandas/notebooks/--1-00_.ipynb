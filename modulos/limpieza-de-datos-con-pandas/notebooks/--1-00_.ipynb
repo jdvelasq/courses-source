{
 "cells": [
  {
   "cell_type": "markdown",
   "id": "8256827b-3446-483b-bf98-e5ffeae170c9",
   "metadata": {},
   "source": [
    "Limpieza de datos con Pandas\n",
    "==="
   ]
  },
  {
   "cell_type": "markdown",
   "id": "536da07c-5e06-4a55-a476-54b6b156351a",
   "metadata": {},
   "source": [
    "Contenido\n",
    "---"
   ]
  },
  {
   "cell_type": "markdown",
   "id": "f4ab51ea-5c3b-4c80-8ba7-d28a62186c21",
   "metadata": {},
   "source": [
    "* Transformación de strings a enteros, flotantes y categorías.\n",
    "\n",
    "* Transformación de datos a categorías.\n",
    "\n",
    "* Verificación de rangos de numéricos y de fecha.\n",
    "\n",
    "* Manejo de categorías inconsistentes.\n",
    "\n",
    "* Corrección y formateo de cadenas de caracteres y fechas.\n",
    "\n",
    "* Manejo de registros duplicados.\n",
    "\n",
    "* Organización del código."
   ]
  }
 ],
 "metadata": {
  "kernelspec": {
   "display_name": "Python 3 (ipykernel)",
   "language": "python",
   "name": "python3"
  },
  "language_info": {
   "codemirror_mode": {
    "name": "ipython",
    "version": 3
   },
   "file_extension": ".py",
   "mimetype": "text/x-python",
   "name": "python",
   "nbconvert_exporter": "python",
   "pygments_lexer": "ipython3",
   "version": "3.8.10"
  }
 },
 "nbformat": 4,
 "nbformat_minor": 5
}
