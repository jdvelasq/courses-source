{
 "cells": [
  {
   "cell_type": "markdown",
   "id": "816db6f4-6121-45c5-aace-71dfb313994d",
   "metadata": {},
   "source": [
    "Movimiento de datos entre MySQL (Maria DB) y el HDFS\n",
    "===\n",
    "\n",
    "* Última modificación: Mayo 19, 2022"
   ]
  },
  {
   "cell_type": "markdown",
   "id": "e049cf86-fb2f-4f4e-a442-ad2a4a65a088",
   "metadata": {},
   "source": [
    "Descarga de datos\n",
    "---"
   ]
  },
  {
   "cell_type": "code",
   "execution_count": 1,
   "id": "1d3c355b-7424-411f-af7e-89df9b8631d9",
   "metadata": {},
   "outputs": [],
   "source": [
    "filenames = [\n",
    "    \"drivers.csv\",\n",
    "    \"timesheet.csv\",\n",
    "    \"truck_event_text_partition.csv\",\n",
    "]\n",
    "\n",
    "url = \"https://raw.githubusercontent.com/jdvelasq/datalabs/master/datasets/drivers/\"\n",
    "\n",
    "for filename in filenames:\n",
    "    !wget --quiet {url + filename} -P /tmp/"
   ]
  },
  {
   "cell_type": "markdown",
   "id": "714bc82b-0fc8-436d-9424-fe3286e23dee",
   "metadata": {},
   "source": [
    "Preparación de la base de datos\n",
    "---"
   ]
  },
  {
   "cell_type": "code",
   "execution_count": 2,
   "id": "e00ea431-196a-467c-8887-567c37946dd1",
   "metadata": {},
   "outputs": [
    {
     "data": {
      "text/plain": [
       "[(10, 'George Vetticaden', '621011971', '244-4532 Nulla Rd.', 'N', 'miles'),\n",
       " (11, 'Jamie Engesser', '262112338', '366-4125 Ac Street', 'N', 'miles'),\n",
       " (12, 'Paul Coddin', '198041975', 'Ap #622-957 Risus. Street', 'Y', 'hours'),\n",
       " (13, 'Joe Niemiec', '139907145', '2071 Hendrerit. Ave', 'Y', 'hours'),\n",
       " (14, 'Adis Cesir', '820812209', 'Ap #810-1228 In St.', 'Y', 'hours')]"
      ]
     },
     "execution_count": 2,
     "metadata": {},
     "output_type": "execute_result"
    }
   ],
   "source": [
    "import mariadb\n",
    "\n",
    "conn = mariadb.connect(\n",
    "    user=\"root\",\n",
    "    password=\"\",\n",
    ")\n",
    "\n",
    "cur = conn.cursor()\n",
    "\n",
    "#\n",
    "# Creación de la BD \n",
    "#\n",
    "cur.execute(\"DROP DATABASE IF EXISTS demo_db;\")\n",
    "cur.execute(\"CREATE DATABASE demo_db;\")\n",
    "cur.execute(\"USE demo_db;\")\n",
    "\n",
    "cur.execute(\n",
    "    \"\"\"\n",
    "    DROP TABLE IF EXISTS drivers;\n",
    "    \"\"\"\n",
    ")\n",
    "\n",
    "cur.execute(\n",
    "    \"\"\"\n",
    "    CREATE TABLE drivers (\n",
    "        driverId       INT,\n",
    "        name           VARCHAR(20),\n",
    "        ssn            VARCHAR(20),\n",
    "        location       VARCHAR(40),\n",
    "        certified      VARCHAR(20),\n",
    "        wage_plan      VARCHAR(20)\n",
    "    );\n",
    "    \"\"\"\n",
    ")\n",
    "\n",
    "cur.execute(\n",
    "    \"\"\"\n",
    "    DROP TABLE IF EXISTS timesheet;\n",
    "    \"\"\"\n",
    ")\n",
    "\n",
    "cur.execute(\n",
    "    \"\"\"\n",
    "    CREATE TABLE timesheet (\n",
    "        driverId       INT,\n",
    "        week           INT,\n",
    "        hours_logged   INT,\n",
    "        miles_logged   INT\n",
    "    );\n",
    "    \"\"\"\n",
    ")\n",
    "\n",
    "conn.commit()\n",
    "\n",
    "import pandas as pd\n",
    "drivers = pd.read_csv('/tmp/drivers.csv')\n",
    "\n",
    "for i, row in drivers.iterrows():\n",
    "    sql = \"INSERT INTO drivers VALUES (%s,%s,%s,%s,%s,%s)\"\n",
    "    cur.execute(sql, tuple(row))\n",
    "    conn.commit()\n",
    "\n",
    "cur.execute(\"SELECT * FROM drivers LIMIT 5;\")\n",
    "result = cur.fetchall()\n",
    "\n",
    "\n",
    "#\n",
    "# Creación y permisos para el usuario remoto\n",
    "#\n",
    "cur.execute(\"CREATE USER 'sqoop'@'%' IDENTIFIED BY 'secret'; \")\n",
    "cur.execute(\"GRANT ALL ON demo_db.* TO 'sqoop'@'%';\")\n",
    "\n",
    "\n",
    "conn.close()\n",
    "result"
   ]
  },
  {
   "cell_type": "code",
   "execution_count": 3,
   "id": "8e394b13-1bb3-4148-8979-68acd038f969",
   "metadata": {},
   "outputs": [
    {
     "name": "stdout",
     "output_type": "stream",
     "text": [
      "Overwriting list-databases.sh\n"
     ]
    }
   ],
   "source": [
    "%%writefile list-databases.sh\n",
    "sqoop list-databases \\\n",
    "    --connect jdbc:mysql://localhost:3306/demo_db \\\n",
    "    --username sqoop \\\n",
    "    --password secret"
   ]
  },
  {
   "cell_type": "code",
   "execution_count": 4,
   "id": "b6237597-ed63-49e7-9957-10681ff0906b",
   "metadata": {},
   "outputs": [
    {
     "name": "stdout",
     "output_type": "stream",
     "text": [
      "information_schema\n",
      "demo_db\n"
     ]
    }
   ],
   "source": [
    "#\n",
    "# El error es debido a que SQLite3 no tiene databases internamente.\n",
    "#\n",
    "!bash list-databases.sh"
   ]
  },
  {
   "cell_type": "markdown",
   "id": "85b09bb5-d1f2-4c88-ba70-c2c8c973b25f",
   "metadata": {},
   "source": [
    "Listado de las tablas existentes en la base de datos de MySQL\n",
    "--"
   ]
  },
  {
   "cell_type": "code",
   "execution_count": 5,
   "id": "5bfdf2fa-57a9-4ad9-a6e0-2c7e84b49b3b",
   "metadata": {},
   "outputs": [
    {
     "name": "stdout",
     "output_type": "stream",
     "text": [
      "Overwriting list-tables.sh\n"
     ]
    }
   ],
   "source": [
    "%%writefile list-tables.sh\n",
    "sqoop list-tables \\\n",
    "    --connect jdbc:mysql://localhost:3306/demo_db \\\n",
    "    --username sqoop \\\n",
    "    --password secret"
   ]
  },
  {
   "cell_type": "code",
   "execution_count": 6,
   "id": "0d38e2c6-ca4a-49c2-ba7b-8c8190e9f370",
   "metadata": {},
   "outputs": [
    {
     "name": "stdout",
     "output_type": "stream",
     "text": [
      "timesheet\n",
      "drivers\n"
     ]
    }
   ],
   "source": [
    "!bash list-tables.sh"
   ]
  },
  {
   "cell_type": "markdown",
   "id": "dc30a5f1-0ac3-4624-aece-f782ae4b9864",
   "metadata": {},
   "source": [
    "Verificación de los registros en MySQL con query\n",
    "--"
   ]
  },
  {
   "cell_type": "code",
   "execution_count": 7,
   "id": "858d2993-305c-4dfc-8bb7-ceeed0bcb400",
   "metadata": {},
   "outputs": [
    {
     "name": "stdout",
     "output_type": "stream",
     "text": [
      "Overwriting query.sh\n"
     ]
    }
   ],
   "source": [
    "%%writefile query.sh\n",
    "sqoop eval \\\n",
    "    --connect jdbc:mysql://localhost:3306/demo_db \\\n",
    "    --username sqoop \\\n",
    "    --password secret \\\n",
    "    --query \"SELECT * FROM drivers LIMIT 3\""
   ]
  },
  {
   "cell_type": "code",
   "execution_count": 8,
   "id": "2240ee85-8eaf-458a-820e-5ce7111a5391",
   "metadata": {},
   "outputs": [
    {
     "name": "stdout",
     "output_type": "stream",
     "text": [
      "----------------------------------------------------------------------------------------------------------------------------------\n",
      "| driverId    | name                 | ssn                  | location             | certified            | wage_plan            | \n",
      "----------------------------------------------------------------------------------------------------------------------------------\n",
      "| 10          | George Vetticaden    | 621011971            | 244-4532 Nulla Rd.   | N                    | miles                | \n",
      "| 11          | Jamie Engesser       | 262112338            | 366-4125 Ac Street   | N                    | miles                | \n",
      "| 12          | Paul Coddin          | 198041975            | Ap #622-957 Risus. Street | Y                    | hours                | \n",
      "----------------------------------------------------------------------------------------------------------------------------------\n"
     ]
    }
   ],
   "source": [
    "!bash query.sh"
   ]
  },
  {
   "cell_type": "markdown",
   "id": "9da74f43-44cf-49be-adf0-c0ce86432a7f",
   "metadata": {},
   "source": [
    "Importación de una tabla completa al HDFS\n",
    "--"
   ]
  },
  {
   "cell_type": "code",
   "execution_count": 9,
   "id": "10ef7cd5-b802-4ffd-9180-b5f70650bafc",
   "metadata": {},
   "outputs": [
    {
     "name": "stdout",
     "output_type": "stream",
     "text": [
      "Writing /tmp/full_import.sh\n"
     ]
    }
   ],
   "source": [
    "%%writefile full_import.sh\n",
    "\n",
    "sqoop import \\\n",
    "    --connect jdbc:mysql://localhost:3306/demo_db \\\n",
    "    --username sqoop \\\n",
    "    --password secret \\\n",
    "    --table drivers \\\n",
    "    --target-dir /tmp/drivers \\\n",
    "    --m 1"
   ]
  },
  {
   "cell_type": "code",
   "execution_count": 10,
   "id": "a2195526-d931-4f81-83b8-45ab459ea330",
   "metadata": {},
   "outputs": [
    {
     "name": "stdout",
     "output_type": "stream",
     "text": [
      "Note: /tmp/sqoop-root/compile/a1208aef74d58ca4992fb5cdd2864896/drivers.java uses or overrides a deprecated API.\n",
      "Note: Recompile with -Xlint:deprecation for details.\n"
     ]
    }
   ],
   "source": [
    "!bash full_import.sh"
   ]
  },
  {
   "cell_type": "code",
   "execution_count": 11,
   "id": "e170d5f0-c87a-4a9f-907a-33866b27840a",
   "metadata": {},
   "outputs": [
    {
     "name": "stdout",
     "output_type": "stream",
     "text": [
      "Found 2 items\n",
      "-rw-r--r--   1 root supergroup          0 2022-05-27 15:50 /tmp/drivers/_SUCCESS\n",
      "-rw-r--r--   1 root supergroup       1963 2022-05-27 15:50 /tmp/drivers/part-m-00000\n"
     ]
    }
   ],
   "source": [
    "!hdfs dfs -ls /tmp/drivers"
   ]
  },
  {
   "cell_type": "code",
   "execution_count": 12,
   "id": "024c3003-0cbc-46a4-864b-157733b32d75",
   "metadata": {},
   "outputs": [
    {
     "name": "stdout",
     "output_type": "stream",
     "text": [
      "10,George Vetticaden,621011971,244-4532 Nulla Rd.,N,miles\n",
      "11,Jamie Engesser,262112338,366-4125 Ac Street,N,miles\n",
      "12,Paul Coddin,198041975,Ap #622-957 Risus. Street,Y,hours\n",
      "13,Joe Niemiec,139907145,2071 Hendrerit. Ave,Y,hours\n",
      "14,Adis Cesir,820812209,Ap #810-1228 In St.,Y,hours\n",
      "15,Rohit Bakshi,239005227,648-5681 Dui- Rd.,Y,hours\n",
      "16,Tom McCuch,363303105,P.O. Box 313- 962 Parturient Rd.,Y,hours\n",
      "17,Eric Mizell,123808238,P.O. Box 579- 2191 Gravida. Street,Y,hours\n",
      "18,Grant Liu,171010151,Ap #928-3159 Vestibulum Av.,Y,hours\n",
      "19,Ajay Singh,160005158,592-9430 Nonummy Avenue,Y,hours\n",
      "20,Chris Harris,921812303,883-2691 Proin Avenue,Y,hours\n",
      "21,Jeff Markham,209408086,Ap #852-7966 Facilisis St.,Y,hours\n",
      "22,Nadeem Asghar,783204269,154-9147 Aliquam Ave,Y,hours\n",
      "23,Adam Diaz,928312208,P.O. Box 260- 6127 Vitae Road,Y,hours\n",
      "24,Don Hilborn,254412152,4361 Ac Road,Y,hours\n",
      "25,Jean-Philippe Playe,913310051,P.O. Box 812- 6238 Ac Rd.,Y,hours\n",
      "26,Michael Aube,124705141,P.O. Box 213- 8948 Nec Ave,Y,hours\n",
      "27,Mark Lochbihler,392603159,8355 Ipsum St.,Y,hours\n",
      "28,Olivier Renault,959908181,P.O. Box 243- 6509 Erat. Avenue,Y,hours\n",
      "29,Teddy Choi,185502192,P.O. Box 106- 7003 Amet Rd.,Y,hours\n",
      "30,Dan Rice,282307061,Ap #881-9267 Mollis Avenue,Y,hours\n",
      "31,Rommel Garcia,858912101,P.O. Box 945- 6015 Sociis St.,Y,hours\n",
      "32,Ryan Templeton,290304287,765-6599 Egestas. Av.,Y,hours\n",
      "33,Sridhara Sabbella,967409015,Ap #477-2507 Sagittis Avenue,Y,hours\n",
      "34,Frank Romano,391407216,Ap #753-6814 Quis Ave,Y,hours\n",
      "35,Emil Siemes,971401151,321-2976 Felis Rd.,Y,hours\n",
      "36,Andrew Grande,245303216,Ap #685-9598 Egestas Rd.,Y,hours\n",
      "37,Wes Floyd,190504074,P.O. Box 269- 9611 Nulla Street,Y,hours\n",
      "38,Scott Shaw,386411175,276 Lobortis Road,Y,hours\n",
      "39,David Kaiser,967706052,9185 At Street,Y,hours\n",
      "40,Nicolas Maillard,208510217,1027 Quis Rd.,Y,hours\n",
      "41,Greg Phillips,308103116,P.O. Box 847- 5961 Arcu. Road,Y,hours\n",
      "42,Randy Gelhausen,853302254,145-4200 In- Avenue,Y,hours\n",
      "43,Dave Patton,977706052,3028 A- St.,Y,hours\n"
     ]
    }
   ],
   "source": [
    "!hdfs dfs -cat /tmp/drivers/part-m-00000"
   ]
  },
  {
   "cell_type": "markdown",
   "id": "17b7551c-b223-4dd1-b4b1-d6e978f9c30f",
   "metadata": {},
   "source": [
    "Importación de un subconjunto de datos de una tabla al HDFS\n",
    "--"
   ]
  },
  {
   "cell_type": "code",
   "execution_count": 13,
   "id": "df6dc85c-fb75-4d13-8852-ccccecee4621",
   "metadata": {},
   "outputs": [
    {
     "name": "stdout",
     "output_type": "stream",
     "text": [
      "Overwriting partial-import.sh\n"
     ]
    }
   ],
   "source": [
    "%%writefile partial-import.sh\n",
    "\n",
    "hdfs dfs -rm -r /tmp/drivers\n",
    "\n",
    "sqoop import \\\n",
    "    --connect jdbc:mysql://localhost:3306/demo_db \\\n",
    "    --username sqoop \\\n",
    "    --password secret \\\n",
    "    --table drivers \\\n",
    "    --target-dir /tmp/drivers/ \\\n",
    "    -m 1 \\\n",
    "    --where \"driverId=10\""
   ]
  },
  {
   "cell_type": "code",
   "execution_count": 14,
   "id": "2760045a-e793-46b2-bcc5-45d31600d1f9",
   "metadata": {},
   "outputs": [
    {
     "name": "stdout",
     "output_type": "stream",
     "text": [
      "Deleted /tmp/drivers\n",
      "Note: /tmp/sqoop-root/compile/3edc8ddf5f6c6a3ece00d9a79c112858/drivers.java uses or overrides a deprecated API.\n",
      "Note: Recompile with -Xlint:deprecation for details.\n"
     ]
    }
   ],
   "source": [
    "!bash partial-import.sh"
   ]
  },
  {
   "cell_type": "code",
   "execution_count": 15,
   "id": "66e10081-3a18-454a-97a6-372f8db4c4b1",
   "metadata": {},
   "outputs": [
    {
     "name": "stdout",
     "output_type": "stream",
     "text": [
      "Found 2 items\n",
      "-rw-r--r--   1 root supergroup          0 2022-05-27 15:50 /tmp/drivers/_SUCCESS\n",
      "-rw-r--r--   1 root supergroup         58 2022-05-27 15:50 /tmp/drivers/part-m-00000\n"
     ]
    }
   ],
   "source": [
    "!hdfs dfs -ls /tmp/drivers/"
   ]
  },
  {
   "cell_type": "code",
   "execution_count": 16,
   "id": "d43adbe1-09a6-4310-8717-e13277d4a92d",
   "metadata": {},
   "outputs": [
    {
     "name": "stdout",
     "output_type": "stream",
     "text": [
      "10,George Vetticaden,621011971,244-4532 Nulla Rd.,N,miles\n"
     ]
    }
   ],
   "source": [
    "!hdfs dfs -cat /tmp/drivers/part-m-00000"
   ]
  },
  {
   "cell_type": "markdown",
   "id": "7799b036-34b8-4e98-8bf8-1fe82ee5747b",
   "metadata": {},
   "source": [
    "Movimiento de `timesheet.csv` al HDFS\n",
    "--"
   ]
  },
  {
   "cell_type": "code",
   "execution_count": 17,
   "id": "e512bc9d-fa2a-4c83-9630-330928ce0ece",
   "metadata": {},
   "outputs": [
    {
     "name": "stdout",
     "output_type": "stream",
     "text": [
      "10,1,70,3300\n",
      "10,2,70,3300\n",
      "10,3,60,2800\n",
      "10,4,70,3100\n",
      "10,5,70,3200\n",
      "10,6,70,3300\n",
      "10,7,70,3000\n",
      "10,8,70,3300\n",
      "10,9,70,3200\n",
      "10,10,50,2500\n"
     ]
    }
   ],
   "source": [
    "!tail +2 /tmp/timesheet.csv > /tmp/timesheet1.csv\n",
    "!head /tmp/timesheet1.csv"
   ]
  },
  {
   "cell_type": "code",
   "execution_count": 18,
   "id": "e4d3828d-684c-43ea-ab72-a0e19e963461",
   "metadata": {},
   "outputs": [
    {
     "name": "stdout",
     "output_type": "stream",
     "text": [
      "rm: `/tmp/timesheet.csv': No such file or directory\n",
      "Found 4 items\n",
      "drwxr-xr-x   - root supergroup          0 2022-05-27 15:50 /tmp/drivers\n",
      "drwxrwx---   - root supergroup          0 2022-05-27 15:49 /tmp/hadoop-yarn\n",
      "drwxrwxrwx   - root supergroup          0 2022-05-27 15:49 /tmp/hive\n",
      "-rw-r--r--   1 root supergroup      26164 2022-05-27 15:51 /tmp/timesheet.csv\n"
     ]
    }
   ],
   "source": [
    "!hdfs dfs -rm /tmp/timesheet.csv\n",
    "!hdfs dfs -copyFromLocal /tmp/timesheet1.csv /tmp/timesheet.csv\n",
    "!hdfs dfs -ls /tmp/"
   ]
  },
  {
   "cell_type": "markdown",
   "id": "31c16566-488d-48b6-8add-20ae4bc8f323",
   "metadata": {
    "jp-MarkdownHeadingCollapsed": true,
    "tags": []
   },
   "source": [
    "Exportación de datos del HDFS a MySQL\n",
    "--"
   ]
  },
  {
   "cell_type": "code",
   "execution_count": null,
   "id": "cbb9b16e-37d2-4e69-8d54-f9e7b98244a7",
   "metadata": {},
   "outputs": [],
   "source": [
    "%%writefile export.sh\n",
    "\n",
    "sqoop export \\\n",
    "    --connect jdbc:mysql://localhost:3306/demo_db \\\n",
    "    --username sqoop \\\n",
    "    --password secret \\\n",
    "    --table timesheet \\\n",
    "    --export-dir /tmp/timesheet.csv"
   ]
  },
  {
   "cell_type": "code",
   "execution_count": null,
   "id": "e8381706-7fc7-4e62-80b4-ee950f41f33d",
   "metadata": {},
   "outputs": [],
   "source": [
    "!bash export.sh"
   ]
  },
  {
   "cell_type": "markdown",
   "id": "37d37ef4-e391-46df-9ac6-79e964fa61b7",
   "metadata": {},
   "source": [
    "Verificación\n",
    "---"
   ]
  },
  {
   "cell_type": "code",
   "execution_count": null,
   "id": "af8f3095-955c-4b3e-9c9b-aac7729635bb",
   "metadata": {},
   "outputs": [],
   "source": [
    "conn = mariadb.connect(\n",
    "    user=\"root\",\n",
    "    password=\"\",\n",
    "    database=\"demo_db\"\n",
    ")\n",
    "cur = conn.cursor()\n",
    "\n",
    "cur.execute(\n",
    "    \"\"\"\n",
    "    SELECT * FROM timesheet LIMIT 5;\n",
    "    \"\"\"\n",
    ")\n",
    "result = cur.fetchall()\n",
    "conn.close()\n",
    "result"
   ]
  },
  {
   "cell_type": "markdown",
   "id": "30612921-aedc-416e-bcbe-9af4b72d7d13",
   "metadata": {},
   "source": [
    "---"
   ]
  },
  {
   "cell_type": "code",
   "execution_count": null,
   "id": "9af02962-0773-4cc4-a2be-8236f3f09662",
   "metadata": {},
   "outputs": [],
   "source": [
    "!rm *.java *.sh *.log"
   ]
  }
 ],
 "metadata": {
  "kernelspec": {
   "display_name": "Python 3 (ipykernel)",
   "language": "python",
   "name": "python3"
  },
  "language_info": {
   "codemirror_mode": {
    "name": "ipython",
    "version": 3
   },
   "file_extension": ".py",
   "mimetype": "text/x-python",
   "name": "python",
   "nbconvert_exporter": "python",
   "pygments_lexer": "ipython3",
   "version": "3.8.10"
  }
 },
 "nbformat": 4,
 "nbformat_minor": 5
}
