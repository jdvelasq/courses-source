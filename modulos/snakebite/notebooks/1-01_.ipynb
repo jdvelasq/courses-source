{
 "cells": [
  {
   "cell_type": "markdown",
   "id": "650c172d-f4c1-4778-8149-fd4f536fb3af",
   "metadata": {},
   "source": [
    "Acceso al HDFS con snakebite usando Python\n",
    "===\n",
    "\n",
    "* Última modificación: Mayo 13, 2022"
   ]
  },
  {
   "cell_type": "markdown",
   "id": "4c21e213-b3e0-4349-9633-538b278060e4",
   "metadata": {},
   "source": [
    "Listado de archivos en el HDFS\n",
    "--"
   ]
  },
  {
   "cell_type": "code",
   "execution_count": 1,
   "id": "69219f8d-3c34-4bcd-868b-65b63d0b8b44",
   "metadata": {},
   "outputs": [
    {
     "name": "stdout",
     "output_type": "stream",
     "text": [
      "{'file_type': 'd', 'permission': 511, 'path': '/tmp', 'length': 0, 'owner': 'root', 'group': 'supergroup', 'block_replication': 0, 'modification_time': 1652728033055, 'access_time': 0, 'blocksize': 0}\n",
      "{'file_type': 'd', 'permission': 493, 'path': '/user', 'length': 0, 'owner': 'root', 'group': 'supergroup', 'block_replication': 0, 'modification_time': 1652728036942, 'access_time': 0, 'blocksize': 0}\n"
     ]
    }
   ],
   "source": [
    "from snakebite.client import Client\n",
    "\n",
    "client = Client('localhost', 9000)\n",
    "for x in client.ls(['/']):\n",
    "    print(x)"
   ]
  },
  {
   "cell_type": "code",
   "execution_count": 2,
   "id": "85413927-cf5b-4e93-91b7-a9f7bf5fc894",
   "metadata": {},
   "outputs": [
    {
     "name": "stdout",
     "output_type": "stream",
     "text": [
      "/tmp\n",
      "/user\n"
     ]
    }
   ],
   "source": [
    "for x in client.ls(['/']):\n",
    "    print(x['path'])"
   ]
  },
  {
   "cell_type": "markdown",
   "id": "b85680d9-c0d1-4ca8-bdb0-be322bd612fe",
   "metadata": {},
   "source": [
    "Comandos disponibles\n",
    "---"
   ]
  },
  {
   "cell_type": "markdown",
   "id": "3fa16335-a88d-41c5-a2d6-57ca566f7acf",
   "metadata": {},
   "source": [
    "```\n",
    "  cat [paths]                    copy source paths to stdout\n",
    "  chgrp <grp> [paths]            change group\n",
    "  chmod <mode> [paths]           change file mode (octal)\n",
    "  chown <owner:grp> [paths]      change owner\n",
    "  copyToLocal [paths] dst        copy paths to local file system destination\n",
    "  count [paths]                  display stats for paths\n",
    "  df                             display fs stats\n",
    "  du [paths]                     display disk usage statistics\n",
    "  get file dst                   copy files to local file system destination\n",
    "  getmerge dir dst               concatenates files in source dir into destination local file\n",
    "  ls [paths]                     list a path\n",
    "  mkdir [paths]                  create directories\n",
    "  mkdirp [paths]                 create directories and their parents\n",
    "  mv [paths] dst                 move paths to destination\n",
    "  rm [paths]                     remove paths\n",
    "  rmdir [dirs]                   delete a directory\n",
    "  serverdefaults                 show server information\n",
    "  setrep <rep> [paths]           set replication factor\n",
    "  stat [paths]                   stat information\n",
    "  tail path                      display last kilobyte of the file to stdout\n",
    "  test path                      test a path\n",
    "  text path [paths]              output file in text format\n",
    "  touchz [paths]                 creates a file of zero length\n",
    "  usage <cmd>                    show cmd usage\n",
    "```"
   ]
  },
  {
   "cell_type": "markdown",
   "id": "6e3a5c52-8de9-4b74-b62b-6c950c3fde86",
   "metadata": {},
   "source": [
    "Creación de un directorio en /tmp/\n",
    "--"
   ]
  },
  {
   "cell_type": "code",
   "execution_count": 3,
   "id": "03eab1aa-2f52-4692-b2bc-32df926e0bda",
   "metadata": {},
   "outputs": [
    {
     "name": "stdout",
     "output_type": "stream",
     "text": [
      "{'path': '/tmp/demo', 'result': True}\n"
     ]
    }
   ],
   "source": [
    "from snakebite.client import Client\n",
    "\n",
    "client = Client('localhost', 9000)\n",
    "for x in client.mkdir(['/tmp/demo']):\n",
    "    print(x)"
   ]
  },
  {
   "cell_type": "markdown",
   "id": "177d6434-1f72-483e-b4fd-71024171afc7",
   "metadata": {},
   "source": [
    "Creación de un archivo vacio en el HDFS\n",
    "---"
   ]
  },
  {
   "cell_type": "code",
   "execution_count": 4,
   "id": "5418b44f-791e-4e61-a84d-6a39679f9f0e",
   "metadata": {},
   "outputs": [
    {
     "name": "stdout",
     "output_type": "stream",
     "text": [
      "{'path': '/tmp/demo/text.txt', 'result': True}\n"
     ]
    }
   ],
   "source": [
    "for p in client.touchz(['/tmp/demo/text.txt']):\n",
    "    print(p)"
   ]
  },
  {
   "cell_type": "markdown",
   "id": "bc01aa81-f9c6-4680-a76e-c28f36006070",
   "metadata": {},
   "source": [
    "Listado del contenido de un archivo en el HDFS\n",
    "--"
   ]
  },
  {
   "cell_type": "code",
   "execution_count": 5,
   "id": "7012dbd2-3945-4d36-aeb9-347308e69b05",
   "metadata": {},
   "outputs": [],
   "source": [
    "for p in client.cat(['/tmp/demo/text.txt']):\n",
    "    for line in p:\n",
    "        print(line)"
   ]
  },
  {
   "cell_type": "markdown",
   "id": "a416218b-b000-4e50-b0d6-02d4363399c6",
   "metadata": {},
   "source": [
    "Borrado\n",
    "---"
   ]
  },
  {
   "cell_type": "code",
   "execution_count": 6,
   "id": "5aef39c3-a7da-4705-acaf-155ab8094ff8",
   "metadata": {},
   "outputs": [
    {
     "name": "stdout",
     "output_type": "stream",
     "text": [
      "{'path': '/tmp/demo', 'result': True}\n"
     ]
    }
   ],
   "source": [
    "for p in client.delete(['/tmp/demo'], recurse=True):\n",
    "    print(p)"
   ]
  }
 ],
 "metadata": {
  "kernelspec": {
   "display_name": "Python 3 (ipykernel)",
   "language": "python",
   "name": "python3"
  },
  "language_info": {
   "codemirror_mode": {
    "name": "ipython",
    "version": 3
   },
   "file_extension": ".py",
   "mimetype": "text/x-python",
   "name": "python",
   "nbconvert_exporter": "python",
   "pygments_lexer": "ipython3",
   "version": "3.8.10"
  }
 },
 "nbformat": 4,
 "nbformat_minor": 5
}
