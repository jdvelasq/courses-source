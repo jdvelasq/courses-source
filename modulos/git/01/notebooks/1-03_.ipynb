{
 "cells": [
  {
   "cell_type": "markdown",
   "id": "2685b7dd-9751-496f-977e-09521beff877",
   "metadata": {
    "tags": []
   },
   "source": [
    "Grabación de cambios en repositorios\n",
    "===\n",
    "\n",
    "* Última modificación: Mayo  14, 2022"
   ]
  },
  {
   "cell_type": "markdown",
   "id": "4446f69c-6296-43b1-95c6-a7cffa18c67c",
   "metadata": {},
   "source": [
    "Creación de un proyecto nuevo\n",
    "--"
   ]
  },
  {
   "cell_type": "code",
   "execution_count": 1,
   "id": "1be2835e-76e8-40c3-8369-9188ebf5b27c",
   "metadata": {},
   "outputs": [
    {
     "name": "stdout",
     "output_type": "stream",
     "text": [
      "/workspace/git/git-demo\n"
     ]
    }
   ],
   "source": [
    "!mkdir git-demo\n",
    "%cd git-demo"
   ]
  },
  {
   "cell_type": "code",
   "execution_count": 2,
   "id": "59abf4ea-2e6f-466f-af8d-f126c2b90c0c",
   "metadata": {},
   "outputs": [
    {
     "name": "stdout",
     "output_type": "stream",
     "text": [
      "/workspace/git/git-demo\n"
     ]
    }
   ],
   "source": [
    "!pwd"
   ]
  },
  {
   "cell_type": "markdown",
   "id": "7157f1e6-a0ef-4cf4-913c-4c46186e782f",
   "metadata": {},
   "source": [
    "Inicialización del repositorio\n",
    "--"
   ]
  },
  {
   "cell_type": "code",
   "execution_count": 3,
   "id": "8867d0d7-f26a-49d6-87da-184327e43d7e",
   "metadata": {},
   "outputs": [
    {
     "name": "stdout",
     "output_type": "stream",
     "text": [
      "Initialized empty Git repository in /workspace/git/git-demo/.git/\n"
     ]
    }
   ],
   "source": [
    "!git init"
   ]
  },
  {
   "cell_type": "code",
   "execution_count": 4,
   "id": "a0ccc830-693a-4823-899e-41dbcc7f4579",
   "metadata": {},
   "outputs": [],
   "source": [
    "!git config user.email \"you@example.com\"\n",
    "!git config user.name \"john doe\""
   ]
  },
  {
   "cell_type": "markdown",
   "id": "edf0e0cc-1ea7-4d32-8694-f5a0379dbe75",
   "metadata": {},
   "source": [
    "Estado del repositorio\n",
    "--"
   ]
  },
  {
   "cell_type": "code",
   "execution_count": 5,
   "id": "119cc381-9aab-4b47-9a6b-f35c03129ad9",
   "metadata": {},
   "outputs": [
    {
     "name": "stdout",
     "output_type": "stream",
     "text": [
      "On branch master\n",
      "\n",
      "No commits yet\n",
      "\n",
      "nothing to commit (create/copy files and use \"git add\" to track)\n"
     ]
    }
   ],
   "source": [
    "!git status"
   ]
  },
  {
   "cell_type": "markdown",
   "id": "ceba2e76-7d60-48d9-a3a2-a3c1eba6c3c2",
   "metadata": {},
   "source": [
    "```\n",
    "Working      Staging    .git\n",
    "Tree         Area       directory\n",
    "-------------------------------------------------------------------------------------\n",
    "\n",
    "```"
   ]
  },
  {
   "cell_type": "markdown",
   "id": "26772623-7f23-4ed9-b2a3-c08c7283bbdb",
   "metadata": {},
   "source": [
    "Creación de un archivo\n",
    "--"
   ]
  },
  {
   "cell_type": "code",
   "execution_count": 6,
   "id": "1f8a8884-0212-4171-adae-59ae3dba54a6",
   "metadata": {},
   "outputs": [
    {
     "name": "stdout",
     "output_type": "stream",
     "text": [
      "On branch master\n",
      "\n",
      "No commits yet\n",
      "\n",
      "Untracked files:\n",
      "  (use \"git add <file>...\" to include in what will be committed)\n",
      "\t\u001b[31mfile_1.txt\u001b[m\n",
      "\n",
      "nothing added to commit but untracked files present (use \"git add\" to track)\n"
     ]
    }
   ],
   "source": [
    "!touch file_1.txt\n",
    "!git status"
   ]
  },
  {
   "cell_type": "markdown",
   "id": "2ba2dce6-6410-4d8e-beec-c88a3d0f0e28",
   "metadata": {},
   "source": [
    "```\n",
    "Working       Staging    .git\n",
    "Tree          Area       directory\n",
    "-------------------------------------------------------------------------------------\n",
    "file_1.txt\n",
    "  (empty)\n",
    "```"
   ]
  },
  {
   "cell_type": "markdown",
   "id": "4f6a1c60-556c-4d72-8533-827e33c15135",
   "metadata": {},
   "source": [
    "Tracking del nuevo archivo\n",
    "--"
   ]
  },
  {
   "cell_type": "code",
   "execution_count": 7,
   "id": "fc6ce23d-5c0c-4536-978a-918737f6cf5c",
   "metadata": {},
   "outputs": [],
   "source": [
    "!git add file_1.txt"
   ]
  },
  {
   "cell_type": "code",
   "execution_count": 8,
   "id": "8a5db70e-9213-40d7-9cb9-eab536fa58d7",
   "metadata": {},
   "outputs": [
    {
     "name": "stdout",
     "output_type": "stream",
     "text": [
      "On branch master\n",
      "\n",
      "No commits yet\n",
      "\n",
      "Changes to be committed:\n",
      "  (use \"git rm --cached <file>...\" to unstage)\n",
      "\t\u001b[32mnew file:   file_1.txt\u001b[m\n",
      "\n"
     ]
    }
   ],
   "source": [
    "!git status"
   ]
  },
  {
   "cell_type": "markdown",
   "id": "e00a39fd-758d-4aac-b018-d1e7f2270fe5",
   "metadata": {},
   "source": [
    "```\n",
    "Working       Staging       .git\n",
    "Tree          Area          directory\n",
    "-------------------------------------------------------------------------------------\n",
    "file_1.txt    file_1.txt\n",
    "  (empty)       (empty) \n",
    "```"
   ]
  },
  {
   "cell_type": "markdown",
   "id": "44c68b02-4834-418d-ada2-5a84eba298d0",
   "metadata": {},
   "source": [
    "Creación de un nuevo archivo\n",
    "--"
   ]
  },
  {
   "cell_type": "code",
   "execution_count": 9,
   "id": "aa11168a-cd33-4730-914d-5b32ba6ae6b9",
   "metadata": {},
   "outputs": [
    {
     "name": "stdout",
     "output_type": "stream",
     "text": [
      "On branch master\n",
      "\n",
      "No commits yet\n",
      "\n",
      "Changes to be committed:\n",
      "  (use \"git rm --cached <file>...\" to unstage)\n",
      "\t\u001b[32mnew file:   file_1.txt\u001b[m\n",
      "\n",
      "Untracked files:\n",
      "  (use \"git add <file>...\" to include in what will be committed)\n",
      "\t\u001b[31mfile_2.txt\u001b[m\n",
      "\n"
     ]
    }
   ],
   "source": [
    "!touch file_2.txt\n",
    "!git status"
   ]
  },
  {
   "cell_type": "markdown",
   "id": "37fef6a2-3d0d-4cec-bfea-7b52c4551a19",
   "metadata": {},
   "source": [
    "```\n",
    "Working       Staging       .git\n",
    "Tree          Area          directory\n",
    "-------------------------------------------------------------------------------------\n",
    "file_1.txt    file_1.txt\n",
    "  (empty)       (empty) \n",
    "file_2.txt\n",
    "  (empty)\n",
    "```"
   ]
  },
  {
   "cell_type": "markdown",
   "id": "475e1aea-8c4e-453d-a957-fd5896777dc1",
   "metadata": {},
   "source": [
    "Tracking de file_2.txt\n",
    "--"
   ]
  },
  {
   "cell_type": "code",
   "execution_count": 10,
   "id": "8bd4d00d-4986-427b-b3e5-8023a3c8ea6d",
   "metadata": {},
   "outputs": [
    {
     "name": "stdout",
     "output_type": "stream",
     "text": [
      "On branch master\n",
      "\n",
      "No commits yet\n",
      "\n",
      "Changes to be committed:\n",
      "  (use \"git rm --cached <file>...\" to unstage)\n",
      "\t\u001b[32mnew file:   file_1.txt\u001b[m\n",
      "\t\u001b[32mnew file:   file_2.txt\u001b[m\n",
      "\n"
     ]
    }
   ],
   "source": [
    "!git add file_2.txt\n",
    "!git status"
   ]
  },
  {
   "cell_type": "markdown",
   "id": "9a6a5b50-eb13-4573-973b-07b6e21ee036",
   "metadata": {},
   "source": [
    "```\n",
    "Working       Staging       .git\n",
    "Tree          Area          directory\n",
    "-------------------------------------------------------------------------------------\n",
    "file_1.txt    file_1.txt\n",
    "  (empty)       (empty) \n",
    "file_2.txt    file_2.txt\n",
    "  (empty)       (empty)\n",
    "```"
   ]
  },
  {
   "cell_type": "markdown",
   "id": "26de1d71-ca5a-4eef-a52f-e1da77dc37f8",
   "metadata": {},
   "source": [
    "Modificación de file_2.txt\n",
    "--"
   ]
  },
  {
   "cell_type": "code",
   "execution_count": 11,
   "id": "cbee2dce-94de-4100-9861-b5d341dddd53",
   "metadata": {},
   "outputs": [
    {
     "name": "stdout",
     "output_type": "stream",
     "text": [
      "On branch master\n",
      "\n",
      "No commits yet\n",
      "\n",
      "Changes to be committed:\n",
      "  (use \"git rm --cached <file>...\" to unstage)\n",
      "\t\u001b[32mnew file:   file_1.txt\u001b[m\n",
      "\t\u001b[32mnew file:   file_2.txt\u001b[m\n",
      "\n",
      "Changes not staged for commit:\n",
      "  (use \"git add <file>...\" to update what will be committed)\n",
      "  (use \"git restore <file>...\" to discard changes in working directory)\n",
      "\t\u001b[31mmodified:   file_2.txt\u001b[m\n",
      "\n"
     ]
    }
   ],
   "source": [
    "!echo 'hello world' > file_2.txt\n",
    "!git status"
   ]
  },
  {
   "cell_type": "markdown",
   "id": "d61f3bd9-5ddc-490b-a519-8bb5ab6f0499",
   "metadata": {},
   "source": [
    "```\n",
    "Working          Staging       .git\n",
    "Tree             Area          directory\n",
    "-------------------------------------------------------------------------------------\n",
    "file_1.txt       file_1.txt\n",
    "  (empty)          (empty) \n",
    "file_2.txt       file_2.txt\n",
    "  hello world      (empty)\n",
    "```"
   ]
  },
  {
   "cell_type": "markdown",
   "id": "53883a27-347d-4b00-94fb-e67e79d59a5c",
   "metadata": {},
   "source": [
    "Adición de los cambios\n",
    "--"
   ]
  },
  {
   "cell_type": "code",
   "execution_count": 12,
   "id": "8877b805-9456-438a-b889-6efc9b7fb9e9",
   "metadata": {},
   "outputs": [
    {
     "name": "stdout",
     "output_type": "stream",
     "text": [
      "On branch master\n",
      "\n",
      "No commits yet\n",
      "\n",
      "Changes to be committed:\n",
      "  (use \"git rm --cached <file>...\" to unstage)\n",
      "\t\u001b[32mnew file:   file_1.txt\u001b[m\n",
      "\t\u001b[32mnew file:   file_2.txt\u001b[m\n",
      "\n"
     ]
    }
   ],
   "source": [
    "!git add file_2.txt\n",
    "!git status"
   ]
  },
  {
   "cell_type": "markdown",
   "id": "6c794ed5-0fc0-48f2-9e2d-5c2d2b6591b5",
   "metadata": {},
   "source": [
    "```\n",
    "Working          Staging          .git\n",
    "Tree             Area             directory\n",
    "-------------------------------------------------------------------------------------\n",
    "file_1.txt       file_1.txt\n",
    "  (empty)          (empty) \n",
    "file_2.txt       file_2.txt\n",
    "  hello world      hello world\n",
    "```"
   ]
  },
  {
   "cell_type": "markdown",
   "id": "52e8c7b5-6001-4409-8bfb-ee37df968ae0",
   "metadata": {},
   "source": [
    "Commit de los cambios\n",
    "--"
   ]
  },
  {
   "cell_type": "code",
   "execution_count": 13,
   "id": "1aa0562f-5b80-47a7-b3af-15a0b0bf11d0",
   "metadata": {},
   "outputs": [
    {
     "name": "stdout",
     "output_type": "stream",
     "text": [
      "[master (root-commit) 2874d34] create file_1.txt file_2.txt files\n",
      " 2 files changed, 1 insertion(+)\n",
      " create mode 100644 file_1.txt\n",
      " create mode 100644 file_2.txt\n"
     ]
    }
   ],
   "source": [
    "!git commit -m 'create file_1.txt file_2.txt files'"
   ]
  },
  {
   "cell_type": "markdown",
   "id": "b494f4b2-b0d0-42eb-b86f-c69c4290344a",
   "metadata": {},
   "source": [
    "```\n",
    "Working          Staging    .git\n",
    "Tree             Area       directory\n",
    "-------------------------------------------------------------------------------------\n",
    "file_1.txt                  ### create file_1.txt file_2.txt files\n",
    "  (empty)                   file_1.txt \n",
    "file_2.txt                    (empty) \n",
    "  hello world               file_2.txt\n",
    "                              hello world\n",
    "```"
   ]
  },
  {
   "cell_type": "markdown",
   "id": "55d98f7b-7746-437b-a212-52a810179387",
   "metadata": {},
   "source": [
    "Visualización de cambios\n",
    "--"
   ]
  },
  {
   "cell_type": "code",
   "execution_count": 14,
   "id": "0ff7da72-a91b-48a8-9217-ac7a97839bb1",
   "metadata": {},
   "outputs": [
    {
     "name": "stdout",
     "output_type": "stream",
     "text": [
      "\u001b[1mdiff --git a/file_2.txt b/file_2.txt\u001b[m\n",
      "\u001b[1mindex 3b18e51..2688e04 100644\u001b[m\n",
      "\u001b[1m--- a/file_2.txt\u001b[m\n",
      "\u001b[1m+++ b/file_2.txt\u001b[m\n",
      "\u001b[36m@@ -1 +1,2 @@\u001b[m\n",
      " hello world\u001b[m\n",
      "\u001b[32m+\u001b[m\u001b[32mHola mundo cruel!\u001b[m\n"
     ]
    }
   ],
   "source": [
    "!echo 'Hola mundo cruel!' >> file_2.txt\n",
    "!git diff"
   ]
  },
  {
   "cell_type": "markdown",
   "id": "3bf3cab6-9c4a-4bcd-93ef-0771d6208583",
   "metadata": {},
   "source": [
    "```\n",
    "Working                Staging    .git\n",
    "Tree                   Area       directory\n",
    "-------------------------------------------------------------------------------------\n",
    "file_1.txt                        ### create file_1.txt file_2.txt files\n",
    "  (empty)                         file_1.txt \n",
    "file_2.txt                          (empty) \n",
    "  hello world                     file_2.txt\n",
    "  Hola mundo cruel!                 hello world\n",
    "```"
   ]
  },
  {
   "cell_type": "markdown",
   "id": "bc6f1b90-2ec4-4242-bc70-d3464da11c74",
   "metadata": {},
   "source": [
    "Almacenamiento de cambios\n",
    "--"
   ]
  },
  {
   "cell_type": "code",
   "execution_count": 15,
   "id": "3578fecc-76ce-41b9-9d3a-9946e6e01d75",
   "metadata": {},
   "outputs": [
    {
     "name": "stdout",
     "output_type": "stream",
     "text": [
      "On branch master\n",
      "Changes to be committed:\n",
      "  (use \"git restore --staged <file>...\" to unstage)\n",
      "\t\u001b[32mmodified:   file_2.txt\u001b[m\n",
      "\n"
     ]
    }
   ],
   "source": [
    "!git add file_2.txt\n",
    "!git status"
   ]
  },
  {
   "cell_type": "markdown",
   "id": "1443f240-662d-4b0a-9b21-07bec72e8ab8",
   "metadata": {},
   "source": [
    "```\n",
    "Working                Staging                .git\n",
    "Tree                   Area                   directory\n",
    "-------------------------------------------------------------------------------------\n",
    "file_1.txt             file_2.txt             ### create file_1.txt file_2.txt files\n",
    "  (empty)                hello world          file_1.txt \n",
    "file_2.txt               Hola mundo cruel!      (empty) \n",
    "  hello world                                 file_2.txt\n",
    "  Hola mundo cruel!                             hello world\n",
    "```"
   ]
  },
  {
   "cell_type": "markdown",
   "id": "6dd1a733-1edb-4154-be19-f8a5992f48b2",
   "metadata": {},
   "source": [
    "Visualización de cambios en staged\n",
    "--"
   ]
  },
  {
   "cell_type": "code",
   "execution_count": 16,
   "id": "2cd5388c-af9f-4fd8-8d6b-1caf75859c49",
   "metadata": {},
   "outputs": [],
   "source": [
    "# Note que el siguiente comando no devuelve nada\n",
    "!git diff "
   ]
  },
  {
   "cell_type": "code",
   "execution_count": 17,
   "id": "65c21aea-5799-46fd-a592-342f2001b01a",
   "metadata": {},
   "outputs": [
    {
     "name": "stdout",
     "output_type": "stream",
     "text": [
      "\u001b[1mdiff --git a/file_2.txt b/file_2.txt\u001b[m\n",
      "\u001b[1mindex 3b18e51..2688e04 100644\u001b[m\n",
      "\u001b[1m--- a/file_2.txt\u001b[m\n",
      "\u001b[1m+++ b/file_2.txt\u001b[m\n",
      "\u001b[36m@@ -1 +1,2 @@\u001b[m\n",
      " hello world\u001b[m\n",
      "\u001b[32m+\u001b[m\u001b[32mHola mundo cruel!\u001b[m\n"
     ]
    }
   ],
   "source": [
    "!git diff --staged"
   ]
  },
  {
   "cell_type": "code",
   "execution_count": 18,
   "id": "58044627-32d3-4a7f-944e-ea515be24510",
   "metadata": {},
   "outputs": [
    {
     "name": "stdout",
     "output_type": "stream",
     "text": [
      "On branch master\n",
      "Changes to be committed:\n",
      "  (use \"git restore --staged <file>...\" to unstage)\n",
      "\t\u001b[32mmodified:   file_2.txt\u001b[m\n",
      "\n"
     ]
    }
   ],
   "source": [
    "!git status"
   ]
  },
  {
   "cell_type": "markdown",
   "id": "02abdb98-25ed-4a62-a595-d045b97aec08",
   "metadata": {},
   "source": [
    "Archivos a ignorar\n",
    "--"
   ]
  },
  {
   "cell_type": "code",
   "execution_count": 19,
   "id": "f7d45abc-4fa0-4228-9ef0-a395dbe6e468",
   "metadata": {},
   "outputs": [
    {
     "name": "stdout",
     "output_type": "stream",
     "text": [
      "On branch master\n",
      "Changes to be committed:\n",
      "  (use \"git restore --staged <file>...\" to unstage)\n",
      "\t\u001b[32mmodified:   file_2.txt\u001b[m\n",
      "\n",
      "Untracked files:\n",
      "  (use \"git add <file>...\" to include in what will be committed)\n",
      "\t\u001b[31mfile_to_ignore.txt\u001b[m\n",
      "\n"
     ]
    }
   ],
   "source": [
    "!touch file_to_ignore.txt\n",
    "!git status"
   ]
  },
  {
   "cell_type": "markdown",
   "id": "de703a04-ae87-44c2-b941-b5d639a2f9ae",
   "metadata": {},
   "source": [
    "```\n",
    "Working                Staging                .git\n",
    "Tree                   Area                   directory\n",
    "-------------------------------------------------------------------------------------\n",
    "file_1.txt             file_2.txt             ### create file_1.txt file_2.txt files\n",
    "  (empty)                hello world          file_1.txt \n",
    "file_2.txt               Hola mundo cruel!      (empty) \n",
    "  hello world                                 file_2.txt\n",
    "  Hola mundo cruel!                             hello world\n",
    "file_to_ignore.txt  \n",
    "  (empty) \n",
    "```"
   ]
  },
  {
   "cell_type": "code",
   "execution_count": 20,
   "id": "644cf1f8-cf1e-448e-846b-5f53a65bc882",
   "metadata": {},
   "outputs": [],
   "source": [
    "!echo \"file_to_ignore.txt\" > .gitignore"
   ]
  },
  {
   "cell_type": "markdown",
   "id": "98196442-edd1-4d82-9771-12bb5d1f69c9",
   "metadata": {},
   "source": [
    "```\n",
    "Working                 Staging                .git\n",
    "Tree                    Area                   directory\n",
    "-------------------------------------------------------------------------------------\n",
    "file_1.txt              file_2.txt             ### create file_1.txt file_2.txt files\n",
    "  (empty)                 hello world          file_1.txt \n",
    "file_2.txt                Hola mundo cruel!      (empty) \n",
    "  hello world                                  file_2.txt\n",
    "  Hola mundo cruel!                              hello world\n",
    "file_to_ignore.txt  \n",
    "  (empty) \n",
    ".gitignore\n",
    "  file_to_ignore.txt\n",
    "```"
   ]
  },
  {
   "cell_type": "code",
   "execution_count": 21,
   "id": "2988ead5-1501-4bba-88c2-2e4b8d3d28ec",
   "metadata": {},
   "outputs": [
    {
     "name": "stdout",
     "output_type": "stream",
     "text": [
      "On branch master\n",
      "Changes to be committed:\n",
      "  (use \"git restore --staged <file>...\" to unstage)\n",
      "\t\u001b[32mmodified:   file_2.txt\u001b[m\n",
      "\n",
      "Untracked files:\n",
      "  (use \"git add <file>...\" to include in what will be committed)\n",
      "\t\u001b[31m.gitignore\u001b[m\n",
      "\n"
     ]
    }
   ],
   "source": [
    "#\n",
    "# Note que ya no aparece file_to_ignore.txt\n",
    "#\n",
    "!git status"
   ]
  },
  {
   "cell_type": "markdown",
   "id": "4e0092ec-09a5-4b61-9b7b-6e272b678cf8",
   "metadata": {},
   "source": [
    "```\n",
    "Working                 staging                .git\n",
    "Tree                    Area                   directory\n",
    "-------------------------------------------------------------------------------------\n",
    "file_1.txt              file_2.txt             ### create file_1.txt file_2.txt files\n",
    "  (empty)                 hello world          file_1.txt \n",
    "file_2.txt                Hola mundo cruel!      (empty) \n",
    "  hello world                                  file_2.txt\n",
    "  Hola mundo cruel!                              hello world\n",
    "file_to_ignore.txt  \n",
    "  (empty) \n",
    ".gitignore\n",
    "  file_to_ignore.txt\n",
    "```"
   ]
  },
  {
   "cell_type": "code",
   "execution_count": 22,
   "id": "0dd99ae2-42e0-4d86-843d-baf5bf40ae2c",
   "metadata": {},
   "outputs": [
    {
     "name": "stdout",
     "output_type": "stream",
     "text": [
      "On branch master\n",
      "Changes to be committed:\n",
      "  (use \"git restore --staged <file>...\" to unstage)\n",
      "\t\u001b[32mnew file:   .gitignore\u001b[m\n",
      "\t\u001b[32mmodified:   file_2.txt\u001b[m\n",
      "\n"
     ]
    }
   ],
   "source": [
    "!git add .gitignore\n",
    "!git status"
   ]
  },
  {
   "cell_type": "markdown",
   "id": "2f74db15-ef98-44dd-a9ba-4b6eef0f8ef9",
   "metadata": {},
   "source": [
    "```\n",
    "Working                 Staging                   .git\n",
    "Tree                    Area                      directory\n",
    "-------------------------------------------------------------------------------------\n",
    "file_1.txt              file_2.txt                ### create file_1.txt file_2.txt files\n",
    "  (empty)                 hello world             file_1.txt \n",
    "file_2.txt                Hola mundo cruel!         (empty) \n",
    "  hello world           .gitignore                file_2.txt\n",
    "  Hola mundo cruel!       file_to_ignore.txt         hello world\n",
    "file_to_ignore.txt  \n",
    "  (empty) \n",
    ".gitignore\n",
    "  file_to_ignore.txt\n",
    "```"
   ]
  },
  {
   "cell_type": "markdown",
   "id": "cf76d613-564a-40a7-991c-e63b88d2a054",
   "metadata": {},
   "source": [
    "Reversión de cambios\n",
    "--"
   ]
  },
  {
   "cell_type": "code",
   "execution_count": 23,
   "id": "07da2ddd-b462-42d6-a279-6dc305cc336b",
   "metadata": {},
   "outputs": [
    {
     "name": "stdout",
     "output_type": "stream",
     "text": [
      "hello world\n",
      "Hola mundo cruel!\n",
      "nueva linea\n"
     ]
    }
   ],
   "source": [
    "!echo \"nueva linea\" >> file_2.txt\n",
    "!cat file_2.txt"
   ]
  },
  {
   "cell_type": "markdown",
   "id": "396ffdf1-c148-40ae-a9e4-de6e5918f0b1",
   "metadata": {},
   "source": [
    "```\n",
    "Working                 Staging                 .git\n",
    "Tree                    Area                    directory\n",
    "-------------------------------------------------------------------------------------\n",
    "file_1.txt              file_2.txt              ### create file_1.txt file_2.txt files\n",
    "  (empty)                 hello world           file_1.txt \n",
    "file_2.txt                Hola mundo cruel!       (empty) \n",
    "  hello world           .gitignore              file_2.txt\n",
    "  Hola mundo cruel!       file_to_ignore.txt      hello world\n",
    "  nueva linea\n",
    "file_to_ignore.txt  \n",
    "  (empty) \n",
    ".gitignore\n",
    "  file_to_ignore.txt\n",
    "```"
   ]
  },
  {
   "cell_type": "code",
   "execution_count": 24,
   "id": "e390fbb0-0bb6-4b01-a3ce-f741b5ce09cb",
   "metadata": {},
   "outputs": [],
   "source": [
    "!git restore file_2.txt"
   ]
  },
  {
   "cell_type": "code",
   "execution_count": 25,
   "id": "3e919cbb-4522-42f0-8d17-bf9e74cd5096",
   "metadata": {},
   "outputs": [
    {
     "name": "stdout",
     "output_type": "stream",
     "text": [
      "hello world\n",
      "Hola mundo cruel!\n"
     ]
    }
   ],
   "source": [
    "!cat file_2.txt"
   ]
  },
  {
   "cell_type": "markdown",
   "id": "5e4fd59f-fe43-4e0e-b722-6d040b849752",
   "metadata": {},
   "source": [
    "```\n",
    "Working                 Staging                 .git\n",
    "Tree                    Area                    directory\n",
    "-------------------------------------------------------------------------------------\n",
    "file_1.txt              file_2.txt              ### create file_1.txt file_2.txt files\n",
    "  (empty)                 hello world           file_1.txt \n",
    "file_2.txt                Hola mundo cruel!       (empty) \n",
    "  hello world           .gitignore              file_2.txt\n",
    "  Hola mundo cruel!       file_to_ignore.txt      hello world\n",
    "file_to_ignore.txt  \n",
    "  (empty) \n",
    ".gitignore\n",
    "  file_to_ignore.txt\n",
    "```"
   ]
  },
  {
   "cell_type": "code",
   "execution_count": 26,
   "id": "3efb3a02-bb17-403d-b087-0161655990a1",
   "metadata": {},
   "outputs": [
    {
     "name": "stdout",
     "output_type": "stream",
     "text": [
      "On branch master\n",
      "Changes to be committed:\n",
      "  (use \"git restore --staged <file>...\" to unstage)\n",
      "\t\u001b[32mnew file:   .gitignore\u001b[m\n",
      "\t\u001b[32mmodified:   file_2.txt\u001b[m\n",
      "\n"
     ]
    }
   ],
   "source": [
    "!git status"
   ]
  },
  {
   "cell_type": "markdown",
   "id": "7b01f48c-2a0d-43ba-8e4a-3a2803b0a8a0",
   "metadata": {},
   "source": [
    "Commit\n",
    "---"
   ]
  },
  {
   "cell_type": "code",
   "execution_count": 27,
   "id": "9f8793c2-7d5c-4551-8d8e-495eaf0b0968",
   "metadata": {},
   "outputs": [
    {
     "name": "stdout",
     "output_type": "stream",
     "text": [
      "[master 4218caf] create .gitignore file\n",
      " 2 files changed, 2 insertions(+)\n",
      " create mode 100644 .gitignore\n"
     ]
    }
   ],
   "source": [
    "!git commit  -m 'create .gitignore file'"
   ]
  },
  {
   "cell_type": "markdown",
   "id": "be54753e-940f-412e-918b-cfb06a9879ba",
   "metadata": {},
   "source": [
    "```\n",
    "Working                 Staging    .git\n",
    "Tree                    Area       directory\n",
    "-------------------------------------------------------------------------------------\n",
    "file_1.txt                         ### create file_1.txt file_2.txt files\n",
    "  (empty)                          file_1.txt \n",
    "file_2.txt                           (empty) \n",
    "  hello world                      file_2.txt\n",
    "  Hola mundo cruel!                  hello world\n",
    "file_to_ignore.txt                 ### create .gitignore file\n",
    "  (empty)                          file_2.txt\n",
    ".gitignore                           hello world\n",
    "  file_to_ignore.txt                 Hola mundo cruel!\n",
    "                                   .gitignore\n",
    "                                     file_to_ignore.txt                                   \n",
    "```"
   ]
  },
  {
   "cell_type": "code",
   "execution_count": 28,
   "id": "37439336-1723-4dfa-9490-ae4d78bb36c5",
   "metadata": {},
   "outputs": [
    {
     "name": "stdout",
     "output_type": "stream",
     "text": [
      "On branch master\n",
      "nothing to commit, working tree clean\n"
     ]
    }
   ],
   "source": [
    "!git status"
   ]
  },
  {
   "cell_type": "markdown",
   "id": "fbf65067-99d5-4571-8866-060836b82335",
   "metadata": {},
   "source": [
    "Borrado de archivos de la carpeta actual\n",
    "--"
   ]
  },
  {
   "cell_type": "code",
   "execution_count": 29,
   "id": "0b290b2b-7fa3-49fd-a6c7-2b983c1b3484",
   "metadata": {},
   "outputs": [
    {
     "name": "stdout",
     "output_type": "stream",
     "text": [
      "file_1.txt\n",
      "file_2.txt\n",
      "file_to_ignore.txt\n"
     ]
    }
   ],
   "source": [
    "!ls -1"
   ]
  },
  {
   "cell_type": "code",
   "execution_count": 30,
   "id": "8b1e64f0-a1e0-4a36-aa0c-445a7a37b751",
   "metadata": {},
   "outputs": [
    {
     "name": "stdout",
     "output_type": "stream",
     "text": [
      "On branch master\n",
      "Changes not staged for commit:\n",
      "  (use \"git add/rm <file>...\" to update what will be committed)\n",
      "  (use \"git restore <file>...\" to discard changes in working directory)\n",
      "\t\u001b[31mdeleted:    file_2.txt\u001b[m\n",
      "\n",
      "no changes added to commit (use \"git add\" and/or \"git commit -a\")\n"
     ]
    }
   ],
   "source": [
    "!rm file_2.txt\n",
    "!git status"
   ]
  },
  {
   "cell_type": "markdown",
   "id": "2e589dda-3339-44f6-b68c-2dea8a13f06b",
   "metadata": {},
   "source": [
    "```\n",
    "Working                 Staging                 .git\n",
    "Tree                    Area                    directory\n",
    "-------------------------------------------------------------------------------------\n",
    "file_1.txt              file_2.txt (deleted)    ### create file_1.txt file_2.txt files\n",
    "  (empty)                                       file_1.txt \n",
    "file_to_ignore.txt                                (empty) \n",
    "  (empty)                                       file_2.txt\n",
    ".gitignore                                        hello world\n",
    "  file_to_ignore.txt                            ### create .gitignore file\n",
    "                                                file_2.txt\n",
    "                                                  hello world\n",
    "                                                  Hola mundo cruel!\n",
    "                                                .gitignore\n",
    "                                                  file_to_ignore.txt\n",
    "```"
   ]
  },
  {
   "cell_type": "markdown",
   "id": "bb5d0146-1731-4cb9-9f23-8e56c4378468",
   "metadata": {},
   "source": [
    "Dejar de seguir los cambios de un archivo\n",
    "--"
   ]
  },
  {
   "cell_type": "code",
   "execution_count": 31,
   "id": "8b41dfd5-8f6e-4a31-a379-0808cf74296b",
   "metadata": {},
   "outputs": [
    {
     "name": "stdout",
     "output_type": "stream",
     "text": [
      "rm 'file_2.txt'\n"
     ]
    }
   ],
   "source": [
    "!git rm file_2.txt"
   ]
  },
  {
   "cell_type": "code",
   "execution_count": 32,
   "id": "e8b8a80c-10dc-475d-8af1-3ca8c42030b5",
   "metadata": {},
   "outputs": [
    {
     "name": "stdout",
     "output_type": "stream",
     "text": [
      "On branch master\n",
      "Changes to be committed:\n",
      "  (use \"git restore --staged <file>...\" to unstage)\n",
      "\t\u001b[32mdeleted:    file_2.txt\u001b[m\n",
      "\n"
     ]
    }
   ],
   "source": [
    "!git status"
   ]
  },
  {
   "cell_type": "markdown",
   "id": "2c4483ef-8b47-4f6f-9e39-2f8c0381f543",
   "metadata": {},
   "source": [
    "```\n",
    "Working                 Staging                 .git\n",
    "Tree                    Area                    directory\n",
    "-------------------------------------------------------------------------------------\n",
    "file_1.txt              file_2.txt (deleted)    ### create file_1.txt file_2.txt files\n",
    "  (empty)                                       file_1.txt \n",
    "file_to_ignore.txt                                (empty) \n",
    "  (empty)                                       file_2.txt\n",
    ".gitignore                                        hello world\n",
    "  file_to_ignore.txt                            ### create .gitignore file\n",
    "                                                file_2.txt\n",
    "                                                  hello world\n",
    "                                                  Hola mundo cruel!\n",
    "                                                .gitignore\n",
    "                                                  file_to_ignore.txt\n",
    "```"
   ]
  },
  {
   "cell_type": "code",
   "execution_count": 33,
   "id": "09a8c625-3748-4715-a766-bc8cc427d842",
   "metadata": {},
   "outputs": [
    {
     "name": "stdout",
     "output_type": "stream",
     "text": [
      "[master b6326fe] delete file_2.txt\n",
      " 1 file changed, 2 deletions(-)\n",
      " delete mode 100644 file_2.txt\n"
     ]
    }
   ],
   "source": [
    "!git commit -m \"delete file_2.txt\""
   ]
  },
  {
   "cell_type": "markdown",
   "id": "9d180143-b73b-43c0-b4a9-4c332a58e78e",
   "metadata": {},
   "source": [
    "```\n",
    "Working                 Staging    .git\n",
    "Tree                    Area       directory\n",
    "-------------------------------------------------------------------------------------\n",
    "file_1.txt                         ### create file_1.txt file_2.txt files\n",
    "  (empty)                          file_1.txt \n",
    "file_to_ignore.txt                   (empty) \n",
    "  (empty)                          file_2.txt\n",
    ".gitignore                           hello world\n",
    "  file_to_ignore.txt               ### create .gitignore file\n",
    "                                   file_2.txt\n",
    "                                     hello world\n",
    "                                     Hola mundo cruel!\n",
    "                                   .gitignore\n",
    "                                     file_to_ignore.txt\n",
    "                                   ### delete file_2.txt\n",
    "```"
   ]
  },
  {
   "cell_type": "code",
   "execution_count": 34,
   "id": "bb7f5cdb-4bca-4aee-9b6f-e9a0777c4d4a",
   "metadata": {},
   "outputs": [
    {
     "name": "stdout",
     "output_type": "stream",
     "text": [
      "On branch master\n",
      "nothing to commit, working tree clean\n"
     ]
    }
   ],
   "source": [
    "!git status"
   ]
  },
  {
   "cell_type": "markdown",
   "id": "2ad81296-865c-44e6-9eb3-a593b9937e5c",
   "metadata": {},
   "source": [
    "Movimiento de archivos\n",
    "--"
   ]
  },
  {
   "cell_type": "code",
   "execution_count": 35,
   "id": "5ed5d044-f405-4f2a-a1aa-287e25a8fde7",
   "metadata": {},
   "outputs": [
    {
     "name": "stdout",
     "output_type": "stream",
     "text": [
      "On branch master\n",
      "Changes to be committed:\n",
      "  (use \"git restore --staged <file>...\" to unstage)\n",
      "\t\u001b[32mrenamed:    file_1.txt -> my_new_file.txt\u001b[m\n",
      "\n"
     ]
    }
   ],
   "source": [
    "!git mv file_1.txt my_new_file.txt\n",
    "!git status"
   ]
  },
  {
   "cell_type": "markdown",
   "id": "8369b18a-6b4c-4027-a887-7349ea6fd01e",
   "metadata": {},
   "source": [
    "```\n",
    "Working                 Staging                          .git\n",
    "Tree                    Area                             directory\n",
    "-------------------------------------------------------------------------------------------\n",
    "my_new_file_1.txt       file_1.txt -> my_new_file.txt    ### create file_1.txt file_2.txt files\n",
    "  (empty)                                                file_1.txt \n",
    "file_to_ignore.txt                                         (empty) \n",
    "  (empty)                                                file_2.txt\n",
    ".gitignore                                                 hello world\n",
    "  file_to_ignore.txt                                     ### create .gitignore file\n",
    "                                                         file_2.txt\n",
    "                                                           hello world\n",
    "                                                           Hola mundo cruel!\n",
    "                                                         .gitignore\n",
    "                                                           file_to_ignore.txt\n",
    "                                                         ### delete file_2.txt\n",
    "```"
   ]
  },
  {
   "cell_type": "code",
   "execution_count": 36,
   "id": "4eae31e6-1b94-4d9d-b849-5b8c6c62f90f",
   "metadata": {},
   "outputs": [
    {
     "name": "stdout",
     "output_type": "stream",
     "text": [
      "[master cab78ab] rename file_1.txt -> my_new_file.txt\n",
      " 1 file changed, 0 insertions(+), 0 deletions(-)\n",
      " rename file_1.txt => my_new_file.txt (100%)\n"
     ]
    }
   ],
   "source": [
    "!git commit -m \"rename file_1.txt -> my_new_file.txt\""
   ]
  },
  {
   "cell_type": "markdown",
   "id": "978143ab-a353-47c4-9e91-10b199e2c1f3",
   "metadata": {},
   "source": [
    "```\n",
    "Working                 Staging    .git\n",
    "Tree                    Area       directory\n",
    "-------------------------------------------------------------------------------------------\n",
    "my_new_file_1.txt                  ### create file_1.txt file_2.txt files\n",
    "  (empty)                          file_1.txt \n",
    "file_to_ignore.txt                   (empty) \n",
    "  (empty)                          file_2.txt\n",
    ".gitignore                           hello world\n",
    "  file_to_ignore.txt               ### create .gitignore file\n",
    "                                   file_2.txt\n",
    "                                     hello world\n",
    "                                     Hola mundo cruel!\n",
    "                                   .gitignore\n",
    "                                     file_to_ignore.txt\n",
    "                                   ### delete file_2.txt\n",
    "                                   ### rename file_1.txt -> my_new_file.txt\n",
    "                                   my_new_file.txt\n",
    "                                     (empty)\n",
    "```"
   ]
  },
  {
   "cell_type": "code",
   "execution_count": 37,
   "id": "15930166-b8d1-48e1-b321-ba6a2c5811ff",
   "metadata": {},
   "outputs": [
    {
     "name": "stdout",
     "output_type": "stream",
     "text": [
      "On branch master\n",
      "nothing to commit, working tree clean\n"
     ]
    }
   ],
   "source": [
    "!git status"
   ]
  },
  {
   "cell_type": "code",
   "execution_count": 38,
   "id": "48b8c58d-9346-42e9-8dc6-92a9ee6c1bef",
   "metadata": {},
   "outputs": [
    {
     "name": "stdout",
     "output_type": "stream",
     "text": [
      "file_to_ignore.txt\n",
      "my_new_file.txt\n"
     ]
    }
   ],
   "source": [
    "!ls -1"
   ]
  },
  {
   "cell_type": "code",
   "execution_count": 39,
   "id": "2343ba66-ccdf-4895-8fea-fa99303e401c",
   "metadata": {},
   "outputs": [
    {
     "name": "stdout",
     "output_type": "stream",
     "text": [
      "/workspace/git\n"
     ]
    }
   ],
   "source": [
    "# --< Limpieza del área de trabajo >-------------------------------------------\n",
    "%cd ..\n",
    "!rm -rf git-demo"
   ]
  }
 ],
 "metadata": {
  "kernelspec": {
   "display_name": "Python 3 (ipykernel)",
   "language": "python",
   "name": "python3"
  },
  "language_info": {
   "codemirror_mode": {
    "name": "ipython",
    "version": 3
   },
   "file_extension": ".py",
   "mimetype": "text/x-python",
   "name": "python",
   "nbconvert_exporter": "python",
   "pygments_lexer": "ipython3",
   "version": "3.8.10"
  }
 },
 "nbformat": 4,
 "nbformat_minor": 5
}
