{
 "cells": [
  {
   "cell_type": "markdown",
   "id": "7173bbcb-356a-4ae6-af8d-d1c76167678e",
   "metadata": {
    "tags": []
   },
   "source": [
    "Deshacer cambios\n",
    "===\n",
    "\n",
    "* Última modificación: Mayo  14, 2022"
   ]
  },
  {
   "cell_type": "markdown",
   "id": "5a8ce957-7021-4e22-878c-86b9376d8b8f",
   "metadata": {},
   "source": [
    "Preparación del proyecto\n",
    "--"
   ]
  },
  {
   "cell_type": "code",
   "execution_count": null,
   "id": "2e69648e-8bdb-4fe5-9160-e46c966f4f08",
   "metadata": {},
   "outputs": [],
   "source": [
    "!rm -rf git-demo\n",
    "!mkdir git-demo\n",
    "%cd git-demo"
   ]
  },
  {
   "cell_type": "markdown",
   "id": "f6dff1fa-a2c5-45f3-b441-f46800a59a15",
   "metadata": {},
   "source": [
    "Preparación commits iniciales\n",
    "--"
   ]
  },
  {
   "cell_type": "code",
   "execution_count": null,
   "id": "bc041e0d-945d-4292-a218-0bc0d6612ff4",
   "metadata": {},
   "outputs": [],
   "source": [
    "%%sh\n",
    "\n",
    "git init\n",
    "\n",
    "git config user.email \"you@example.com\"\n",
    "git config user.name \"john doe\"\n",
    "\n",
    "touch file_1.txt file_2.txt\n",
    "git add *.txt\n",
    "git commit -m 'create file_1.txt file_2.txt files'"
   ]
  },
  {
   "cell_type": "markdown",
   "id": "944884cb-8992-4bdb-9a80-1f749faaffdb",
   "metadata": {},
   "source": [
    "```\n",
    "Working      Staging    .git\n",
    "Tree         Area       directory\n",
    "-------------------------------------------------------------------------------------\n",
    "file_1.txt              ## create file_1.txt file_2.txt files\n",
    "  (emtpy)               file_1.txt \n",
    "file_2.txt                (empty) \n",
    "  (empty)               file_2.txt\n",
    "                          (empty)\n",
    "```"
   ]
  },
  {
   "cell_type": "code",
   "execution_count": null,
   "id": "079aed1d-3a90-41fc-858a-d1cfd91d4c39",
   "metadata": {},
   "outputs": [],
   "source": [
    "%%sh\n",
    "echo 'Hola mundo cruel!' > file_2.txt\n",
    "git add file_2.txt\n",
    "git commit -m 'modify file_2.txt file'"
   ]
  },
  {
   "cell_type": "markdown",
   "id": "aa6c3b61-eaba-4614-98fb-f0e394281408",
   "metadata": {},
   "source": [
    "```\n",
    "Working                Staging    .git\n",
    "Tree                   Area       directory\n",
    "-------------------------------------------------------------------------------------\n",
    "file_1.txt                        ### create file_1.txt file_2.txt files\n",
    "  (emtpy)                         file_1.txt \n",
    "file_2.txt                          (empty) \n",
    "  Hola mundo cruel!               file_2.txt\n",
    "                                    (empty)\n",
    "                                  ### modify file_2.txt file\n",
    "                                  file_2.txt\n",
    "                                    Hola mundo cruel!\n",
    "```"
   ]
  },
  {
   "cell_type": "code",
   "execution_count": null,
   "id": "1de7f9e4-5d37-4082-885b-4660a7e5f6b3",
   "metadata": {},
   "outputs": [],
   "source": [
    "%%sh\n",
    "touch file_to_ignore.txt\n",
    "echo \"file_to_ignore.txt\" > .gitignore\n",
    "git add .gitignore\n",
    "git commit -m 'create .gitignore'"
   ]
  },
  {
   "cell_type": "markdown",
   "id": "419e4bf2-ad16-4e3b-b191-19fb0a6802bf",
   "metadata": {},
   "source": [
    "```\n",
    "Working                 Staging    .git\n",
    "Tree                    Area       directory\n",
    "-------------------------------------------------------------------------------------\n",
    "file_1.txt                         ### create file_1.txt file_2.txt files\n",
    "  (emtpy)                          file_1.txt \n",
    "file_2.txt                           (empty) \n",
    "  Hola mundo cruel!                file_2.txt\n",
    "file_to_ignore.txt                   (empty)\n",
    "  (empty)                          ### modify file_2.txt file\n",
    ".gitignore                         file_2.txt\n",
    "  file_to_ignore.txt                 Hola mundo cruel!\n",
    "                                   ### create .gitignore\n",
    "                                   .gitignore\n",
    "                                     file_to_ignore.txt\n",
    "```"
   ]
  },
  {
   "cell_type": "code",
   "execution_count": null,
   "id": "971e64df-670f-4081-bb4f-11f3e9b3b689",
   "metadata": {},
   "outputs": [],
   "source": [
    "!git log"
   ]
  },
  {
   "cell_type": "markdown",
   "id": "58145b73-c1f0-433b-8ad9-0bdf0009bc73",
   "metadata": {},
   "source": [
    "Agregar al último commit\n",
    "--"
   ]
  },
  {
   "cell_type": "code",
   "execution_count": null,
   "id": "4187b2ff-36ff-410e-8e3c-b16dad9152fa",
   "metadata": {},
   "outputs": [],
   "source": [
    "!echo \"other_file_to_ignore.txt\" >> .gitignore\n",
    "!git add .gitignore\n",
    "!git commit --amend -m \"create a new .gitignore\""
   ]
  },
  {
   "cell_type": "markdown",
   "id": "6327989b-e5c0-471d-a171-c1a190e863a0",
   "metadata": {},
   "source": [
    "```\n",
    "Working                       Staging    .git\n",
    "Tree                          Area       directory\n",
    "-------------------------------------------------------------------------------------\n",
    "file_1.txt                               ### create file_1.txt file_2.txt files\n",
    "  (emtpy)                                file_1.txt \n",
    "file_2.txt                                 (empty) \n",
    "  Hola mundo cruel!                      file_2.txt\n",
    "file_to_ignore.txt                         (empty)\n",
    "  (empty)                                ### modify file_2.txt file\n",
    ".gitignore                               file_2.txt\n",
    "  file_to_ignore.txt                       Hola mundo cruel!  \n",
    "  other_file_to_ignore.txt               ### create a new .gitignore\n",
    "other_file_to_ignore.txt                 .gitignore  \n",
    "  (empty)                                  file_to_ignore.txt\n",
    "                                           other_file_to_ignore.txt\n",
    "```"
   ]
  },
  {
   "cell_type": "code",
   "execution_count": null,
   "id": "b126cdf3-69f9-4d43-a3d4-6a97beef5fd6",
   "metadata": {},
   "outputs": [],
   "source": [
    "!git log"
   ]
  },
  {
   "cell_type": "markdown",
   "id": "3ae43643-bf69-49ea-9025-c18a5c5fe48d",
   "metadata": {},
   "source": [
    "Unstaging\n",
    "--"
   ]
  },
  {
   "cell_type": "code",
   "execution_count": null,
   "id": "bda21d72-3252-416e-aeaf-ffc4d077112a",
   "metadata": {},
   "outputs": [],
   "source": [
    "# Se crean los dos archivos y se hace un add con ambos\n",
    "!touch file_3.txt\n",
    "!touch file_4.txt\n",
    "!git add file_3.txt file_4.txt\n",
    "!git status"
   ]
  },
  {
   "cell_type": "markdown",
   "id": "b7ac7373-07b8-491b-aef4-b49750546197",
   "metadata": {},
   "source": [
    "```\n",
    "Working                       Staging       .git\n",
    "Tree                          Area          directory\n",
    "-------------------------------------------------------------------------------------\n",
    "file_1.txt                    file_3.txt    ### create file_1.txt file_2.txt files\n",
    "  (emtpy)                       (empty)     file_1.txt \n",
    "file_2.txt                    file_4.txt      (empty) \n",
    "  Hola mundo cruel!             (empty)     file_2.txt\n",
    "file_to_ignore.txt                            (empty)\n",
    "  (empty)                                   ### modify file_2.txt file\n",
    ".gitignore                                  file_2.txt\n",
    "  file_to_ignore.txt                          Hola mundo cruel!  \n",
    "  other_file_to_ignore.txt                  ### create a new .gitignore\n",
    "other_file_to_ignore.txt                    .gitignore  \n",
    "  (empty)                                     file_to_ignore.txt\n",
    "file_3.txt                                    other_file_to_ignore.txt\n",
    "  (empty)\n",
    "file_4.txt\n",
    "  (empty)\n",
    "```"
   ]
  },
  {
   "cell_type": "code",
   "execution_count": null,
   "id": "e0cc70e1-31ec-4697-b899-2696296f4d05",
   "metadata": {},
   "outputs": [],
   "source": [
    "# Se desea un commit individual para cada archivo.\n",
    "# Se saca file_4.txt\n",
    "!git reset HEAD file_4.txt\n",
    "!git status"
   ]
  },
  {
   "cell_type": "markdown",
   "id": "4a7dff87-80a7-4f5f-83e0-0c732f5eb7b0",
   "metadata": {},
   "source": [
    "```\n",
    "Working                       Staging       .git\n",
    "Tree                          Area          directory\n",
    "-------------------------------------------------------------------------------------\n",
    "file_1.txt                    file_3.txt    ### create file_1.txt file_2.txt files\n",
    "  (emtpy)                       (empty)     file_1.txt \n",
    "file_2.txt                                    (empty) \n",
    "  Hola mundo cruel!                         file_2.txt\n",
    "file_to_ignore.txt                            (empty)\n",
    "  (empty)                                   ### modify file_2.txt file\n",
    ".gitignore                                  file_2.txt\n",
    "  file_to_ignore.txt                          Hola mundo cruel!  \n",
    "  other_file_to_ignore.txt                  ### create a new .gitignore\n",
    "other_file_to_ignore.txt                    .gitignore\n",
    "  (empty)                                     file_to_ignore.txt\n",
    "file_3.txt                                    other_file_to_ignore.txt\n",
    "  (empty)                                   \n",
    "file_4.txt                                  \n",
    "  (empty)                                                                                 \n",
    "```"
   ]
  },
  {
   "cell_type": "code",
   "execution_count": null,
   "id": "3091ce8e-0d13-4b1c-bf56-a0a43b395eb3",
   "metadata": {},
   "outputs": [],
   "source": [
    "!git commit -m \"create file_3.txt\""
   ]
  },
  {
   "cell_type": "markdown",
   "id": "432b68c5-2876-43cb-9077-9cda933820c7",
   "metadata": {},
   "source": [
    "```\n",
    "Working                       Staging    .git\n",
    "Tree                          Area       directory\n",
    "-------------------------------------------------------------------------------------\n",
    "file_1.txt                               ### create file_1.txt file_2.txt files\n",
    "  (emtpy)                                file_1.txt \n",
    "file_2.txt                                 (empty) \n",
    "  Hola mundo cruel!                      file_2.txt\n",
    "file_to_ignore.txt                         (empty)\n",
    "  (empty)                                ### modify file_2.txt file\n",
    ".gitignore                               file_2.txt\n",
    "  file_to_ignore.txt                       Hola mundo cruel!  \n",
    "  other_file_to_ignore.txt               ### create a new .gitignore\n",
    "other_file_to_ignore.txt                 .gitignore\n",
    "  (empty)                                  file_to_ignore.txt\n",
    "file_3.txt                                 other_file_to_ignore.txt\n",
    "  (empty)                                ### create file_3.txt\n",
    "file_4.txt                               file_3.txt\n",
    "  (empty)                                  (empty)     \n",
    "```"
   ]
  },
  {
   "cell_type": "code",
   "execution_count": null,
   "id": "b3222c41-b5f7-41a3-8854-1434d5bf2342",
   "metadata": {},
   "outputs": [],
   "source": [
    "!git add file_4.txt\n",
    "!git commit -m \"create file_4.txt\""
   ]
  },
  {
   "cell_type": "markdown",
   "id": "7c3e0f1c-1c82-45ad-bba4-ec194c4f1512",
   "metadata": {},
   "source": [
    "```\n",
    "Working                       Staging    .git\n",
    "Tree                          Area       directory\n",
    "-------------------------------------------------------------------------------------\n",
    "file_1.txt                               ### create file_1.txt file_2.txt files\n",
    "  (emtpy)                                file_1.txt \n",
    "file_2.txt                                 (empty) \n",
    "  Hola mundo cruel!                      file_2.txt\n",
    "file_to_ignore.txt                         (empty)\n",
    "  (empty)                                ### modify file_2.txt file\n",
    ".gitignore                               file_2.txt\n",
    "  file_to_ignore.txt                       Hola mundo cruel!  \n",
    "  other_file_to_ignore.txt               ### create a new .gitignore\n",
    "other_file_to_ignore.txt                 .gitignore\n",
    "  (empty)                                  file_to_ignore.txt\n",
    "file_3.txt                                 other_file_to_ignore.txt\n",
    "  (empty)                                ### create file_3.txt\n",
    "file_4.txt                               file_3.txt\n",
    "  (empty)                                  (empty)    \n",
    "                                         ### create file_4.txt\n",
    "                                         file_4.txt\n",
    "                                           (empty)\n",
    "```"
   ]
  },
  {
   "cell_type": "code",
   "execution_count": null,
   "id": "5bb08246-0735-4a1b-97d8-42a009b818b4",
   "metadata": {},
   "outputs": [],
   "source": [
    "!git log"
   ]
  },
  {
   "cell_type": "markdown",
   "id": "f5a7b58b-12f8-488b-954d-e82e06ebaee9",
   "metadata": {},
   "source": [
    "Restaurar la última versión guardada\n",
    "--"
   ]
  },
  {
   "cell_type": "code",
   "execution_count": null,
   "id": "40d8a50a-8291-4ea3-a111-e70e34def852",
   "metadata": {},
   "outputs": [],
   "source": [
    "!echo \"linea 1\" >> file_4.txt\n",
    "!git add file_4.txt\n",
    "!cat file_4.txt"
   ]
  },
  {
   "cell_type": "markdown",
   "id": "80ea67e5-f119-4471-9b7b-9c61e13f212f",
   "metadata": {},
   "source": [
    "```\n",
    "Working                       Staging       .git\n",
    "Tree                          Area          directory\n",
    "-------------------------------------------------------------------------------------\n",
    "file_1.txt                    file_4.txt    ### create file_1.txt file_2.txt files\n",
    "  (emtpy)                       linea 1     file_1.txt \n",
    "file_2.txt                                    (empty) \n",
    "  Hola mundo cruel!                         file_2.txt\n",
    "file_to_ignore.txt                            (empty)\n",
    "  (empty)                                   ### modify file_2.txt file\n",
    ".gitignore                                  file_2.txt\n",
    "  file_to_ignore.txt                          Hola mundo cruel!  \n",
    "  other_file_to_ignore.txt                  ### create a new .gitignore\n",
    "other_file_to_ignore.txt                    .gitignore\n",
    "  (empty)                                     file_to_ignore.txt\n",
    "file_3.txt                                    other_file_to_ignore.txt\n",
    "  (empty)                                   ### create file_3.txt\n",
    "file_4.txt                                  file_3.txt\n",
    "  linea 1                                     (empty)    \n",
    "                                            ### create file_4.txt\n",
    "                                            file_4.txt\n",
    "                                              (empty)\n",
    "```"
   ]
  },
  {
   "cell_type": "code",
   "execution_count": null,
   "id": "d4c55a58-6a41-4e99-9d49-2618abda43de",
   "metadata": {},
   "outputs": [],
   "source": [
    "!echo \"linea 2\" >> file_4.txt\n",
    "!git add file_4.txt\n",
    "!cat file_4.txt"
   ]
  },
  {
   "cell_type": "markdown",
   "id": "b535d668-15ef-4c02-9354-7384a1a3317b",
   "metadata": {},
   "source": [
    "```\n",
    "Working                       Staging       .git\n",
    "Tree                          Area          directory\n",
    "-------------------------------------------------------------------------------------\n",
    "file_1.txt                    file_4.txt    ### create file_1.txt file_2.txt files\n",
    "  (emtpy)                       linea 1     file_1.txt \n",
    "file_2.txt                    file_4.txt      (empty) \n",
    "  Hola mundo cruel!             linea 1     file_2.txt\n",
    "file_to_ignore.txt              linea 2       (empty)\n",
    "  (empty)                                   ### modify file_2.txt file\n",
    ".gitignore                                  file_2.txt\n",
    "  file_to_ignore.txt                          Hola mundo cruel!  \n",
    "  other_file_to_ignore.txt                  ### create a new .gitignore\n",
    "other_file_to_ignore.txt                    .gitignore\n",
    "  (empty)                                     file_to_ignore.txt\n",
    "file_3.txt                                    other_file_to_ignore.txt\n",
    "  (empty)                                   ### create file_3.txt\n",
    "file_4.txt                                  file_3.txt\n",
    "  linea 1                                     (empty)    \n",
    "  linea 2                                   ### create file_4.txt\n",
    "                                            file_4.txt\n",
    "                                              (empty)\n",
    "```"
   ]
  },
  {
   "cell_type": "code",
   "execution_count": null,
   "id": "f4acada1-9605-4c4d-be16-65d0ad7b3093",
   "metadata": {},
   "outputs": [],
   "source": [
    "!echo \"linea 3\" >> file_4.txt\n",
    "!cat file_4.txt"
   ]
  },
  {
   "cell_type": "markdown",
   "id": "caf83d4b-37ac-428d-a842-3a170fbf8c8f",
   "metadata": {},
   "source": [
    "```\n",
    "Working                       Staging       .git\n",
    "Tree                          Area          directory\n",
    "-------------------------------------------------------------------------------------\n",
    "file_1.txt                    file_4.txt    ### create file_1.txt file_2.txt files\n",
    "  (emtpy)                       linea 1     file_1.txt \n",
    "file_2.txt                    file_4.txt      (empty) \n",
    "  Hola mundo cruel!             linea 1     file_2.txt\n",
    "file_to_ignore.txt              linea 2       (empty)\n",
    "  (empty)                     file_4.txt    ### modify file_2.txt file\n",
    ".gitignore                      linea 1     file_2.txt\n",
    "  file_to_ignore.txt            linea 2       Hola mundo cruel!  \n",
    "  other_file_to_ignore.txt      linea 3     ### create a new .gitignore\n",
    "other_file_to_ignore.txt                    .gitignore\n",
    "  (empty)                                     file_to_ignore.txt\n",
    "file_3.txt                                    other_file_to_ignore.txt\n",
    "  (empty)                                   ### create file_3.txt\n",
    "file_4.txt                                  file_3.txt\n",
    "  linea 1                                     (empty)    \n",
    "  linea 2                                   ### create file_4.txt\n",
    "  linea 3                                   file_4.txt\n",
    "                                              (empty)\n",
    "```"
   ]
  },
  {
   "cell_type": "code",
   "execution_count": null,
   "id": "91f071a0-29d5-4ee0-ba77-9d53695a6b57",
   "metadata": {},
   "outputs": [],
   "source": [
    "# Se deshace el cambio en el archivo\n",
    "!git checkout -- file_4.txt\n",
    "!cat file_4.txt"
   ]
  },
  {
   "cell_type": "markdown",
   "id": "becbba44-e2a2-4b66-8002-3ee60830793f",
   "metadata": {},
   "source": [
    "```\n",
    "Working                       Staging       .git\n",
    "Tree                          Area          directory\n",
    "-------------------------------------------------------------------------------------\n",
    "file_1.txt                    file_4.txt    ### create file_1.txt file_2.txt files\n",
    "  (emtpy)                       linea 1     file_1.txt \n",
    "file_2.txt                    file_4.txt      (empty) \n",
    "  Hola mundo cruel!             linea 1     file_2.txt\n",
    "file_to_ignore.txt              linea 2       (empty)\n",
    "  (empty)                                   ### modify file_2.txt file\n",
    ".gitignore                                  file_2.txt\n",
    "  file_to_ignore.txt                          Hola mundo cruel!  \n",
    "  other_file_to_ignore.txt                  ### create a new .gitignore\n",
    "other_file_to_ignore.txt                    .gitignore\n",
    "  (empty)                                     file_to_ignore.txt\n",
    "file_3.txt                                    other_file_to_ignore.txt\n",
    "  (empty)                                   ### create file_3.txt\n",
    "file_4.txt                                  file_3.txt\n",
    "  linea 1                                     (empty)    \n",
    "  linea 2                                   ### create file_4.txt\n",
    "                                            file_4.txt\n",
    "                                              (empty)\n",
    "```"
   ]
  },
  {
   "cell_type": "code",
   "execution_count": null,
   "id": "28165d1b-4201-4a5c-a156-cf945104e734",
   "metadata": {},
   "outputs": [],
   "source": [
    "!git status"
   ]
  },
  {
   "cell_type": "markdown",
   "id": "fbcf96cf-be55-4a02-881e-8ccae1997673",
   "metadata": {},
   "source": [
    "Deshacer el útimo add\n",
    "--"
   ]
  },
  {
   "cell_type": "code",
   "execution_count": null,
   "id": "031aafd0-8745-49e7-8b57-9687aeb41aed",
   "metadata": {},
   "outputs": [],
   "source": [
    "!echo \"linea 3\" >> file_4.txt\n",
    "!git add file_4.txt\n",
    "!git status"
   ]
  },
  {
   "cell_type": "markdown",
   "id": "e3c7e7a1-6833-493d-a653-3dfe91239d67",
   "metadata": {},
   "source": [
    "```\n",
    "Working                       Staging       .git\n",
    "Tree                          Area          directory\n",
    "-------------------------------------------------------------------------------------\n",
    "file_1.txt                    file_4.txt    ### create file_1.txt file_2.txt files\n",
    "  (emtpy)                       linea 1     file_1.txt \n",
    "file_2.txt                    file_4.txt      (empty) \n",
    "  Hola mundo cruel!             linea 1     file_2.txt\n",
    "file_to_ignore.txt              linea 2       (empty)\n",
    "  (empty)                     file_4.txt    ### modify file_2.txt file\n",
    ".gitignore                      linea 1     file_2.txt\n",
    "  file_to_ignore.txt            linea 2       Hola mundo cruel!  \n",
    "  other_file_to_ignore.txt      linea 3     ### create a new .gitignore\n",
    "other_file_to_ignore.txt                    .gitignore\n",
    "  (empty)                                     file_to_ignore.txt\n",
    "file_3.txt                                    other_file_to_ignore.txt\n",
    "  (empty)                                   ### create file_3.txt\n",
    "file_4.txt                                  file_3.txt\n",
    "  linea 1                                     (empty)    \n",
    "  linea 2                                   ### create file_4.txt\n",
    "  linea 3                                   file_4.txt\n",
    "                                              (empty)\n",
    "```"
   ]
  },
  {
   "cell_type": "code",
   "execution_count": null,
   "id": "88b18fb1-3371-440b-abb5-4460d7eb5eed",
   "metadata": {},
   "outputs": [],
   "source": [
    "!git restore --staged file_4.txt\n",
    "!git diff -v"
   ]
  },
  {
   "cell_type": "markdown",
   "id": "01e07dd7-cf05-43fa-91db-8c988d61b200",
   "metadata": {},
   "source": [
    "```\n",
    "Working                       Staging       .git\n",
    "Tree                          Area          directory\n",
    "-------------------------------------------------------------------------------------\n",
    "file_1.txt                                  ### create file_1.txt file_2.txt files\n",
    "  (emtpy)                                   file_1.txt \n",
    "file_2.txt                                    (empty) \n",
    "  Hola mundo cruel!                         file_2.txt\n",
    "file_to_ignore.txt                            (empty)\n",
    "  (empty)                                   ### modify file_2.txt file\n",
    ".gitignore                                    file_2.txt\n",
    "  file_to_ignore.txt                          Hola mundo cruel!  \n",
    "  other_file_to_ignore.txt                  ### create a new .gitignore\n",
    "other_file_to_ignore.txt                    .gitignore\n",
    "  (empty)                                     file_to_ignore.txt\n",
    "file_3.txt                                    other_file_to_ignore.txt\n",
    "  (empty)                                   ### create file_3.txt\n",
    "file_4.txt                                  file_3.txt\n",
    "  linea 1                                     (empty)    \n",
    "  linea 2                                   ### create file_4.txt\n",
    "  linea 3                                   file_4.txt\n",
    "                                              (empty)\n",
    "```"
   ]
  },
  {
   "cell_type": "code",
   "execution_count": null,
   "id": "af73900d-4e6a-4459-9f5a-2348758475f4",
   "metadata": {},
   "outputs": [],
   "source": [
    "!git status"
   ]
  },
  {
   "cell_type": "markdown",
   "id": "777471e4-a9a5-4554-bdc3-514d235f7b64",
   "metadata": {},
   "source": [
    "Restaurar el archivo original desde el ultimo commit\n",
    "--"
   ]
  },
  {
   "cell_type": "code",
   "execution_count": null,
   "id": "b4e85c7f-3bdd-4e08-8a5b-e901146dd9a6",
   "metadata": {},
   "outputs": [],
   "source": [
    "!git restore file_4.txt\n",
    "!git status"
   ]
  },
  {
   "cell_type": "markdown",
   "id": "a9df25c8-f0b3-4c77-851b-aeb0d07f31e3",
   "metadata": {},
   "source": [
    "```\n",
    "Working                       Staging       .git\n",
    "Tree                          Area          directory\n",
    "-------------------------------------------------------------------------------------\n",
    "file_1.txt                                  ### create file_1.txt file_2.txt files\n",
    "  (emtpy)                                   file_1.txt \n",
    "file_2.txt                                    (empty) \n",
    "  Hola mundo cruel!                         file_2.txt\n",
    "file_to_ignore.txt                            (empty)\n",
    "  (empty)                                   ### modify file_2.txt file\n",
    ".gitignore                                    file_2.txt\n",
    "  file_to_ignore.txt                          Hola mundo cruel!  \n",
    "  other_file_to_ignore.txt                  ### create a new .gitignore\n",
    "other_file_to_ignore.txt                    .gitignore\n",
    "  (empty)                                     file_to_ignore.txt\n",
    "file_3.txt                                    other_file_to_ignore.txt\n",
    "  (empty)                                   ### create file_3.txt\n",
    "file_4.txt                                  file_3.txt\n",
    "  (empty)                                     (empty)    \n",
    "                                            ### create file_4.txt\n",
    "                                            file_4.txt\n",
    "                                              (empty)\n",
    "```"
   ]
  },
  {
   "cell_type": "code",
   "execution_count": null,
   "id": "0201ce6e-2427-4eec-a7b5-100f2ca35d5b",
   "metadata": {},
   "outputs": [],
   "source": [
    "!cat file_4.txt"
   ]
  },
  {
   "cell_type": "code",
   "execution_count": null,
   "id": "55f3d279-8fad-4f7a-8005-292d3d5e8e28",
   "metadata": {},
   "outputs": [],
   "source": [
    "# --< Limpieza del área de trabajo >-------------------------------------------\n",
    "%cd ..\n",
    "!rm -rf git-demo"
   ]
  }
 ],
 "metadata": {
  "kernelspec": {
   "display_name": "Python 3 (ipykernel)",
   "language": "python",
   "name": "python3"
  },
  "language_info": {
   "codemirror_mode": {
    "name": "ipython",
    "version": 3
   },
   "file_extension": ".py",
   "mimetype": "text/x-python",
   "name": "python",
   "nbconvert_exporter": "python",
   "pygments_lexer": "ipython3",
   "version": "3.8.10"
  }
 },
 "nbformat": 4,
 "nbformat_minor": 5
}
