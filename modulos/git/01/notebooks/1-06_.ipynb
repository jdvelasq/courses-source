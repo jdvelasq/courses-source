{
 "cells": [
  {
   "cell_type": "markdown",
   "id": "775b75ee-20db-4a2f-a548-63d243f9fba3",
   "metadata": {
    "tags": []
   },
   "source": [
    "Tagging\n",
    "===\n",
    "\n",
    "* Última modificación: Mayo  14, 2022"
   ]
  },
  {
   "cell_type": "markdown",
   "id": "5fd25b5a-f0cc-4a3a-b11c-ea78bd654616",
   "metadata": {},
   "source": [
    "Se usan para marcar ciertos puntos de la historia del repositorio como importantes, por ejemplo, versiones."
   ]
  },
  {
   "cell_type": "markdown",
   "id": "15e07a45-4e28-4edd-81a4-778141eac371",
   "metadata": {},
   "source": [
    "Preparación del proyecto\n",
    "--"
   ]
  },
  {
   "cell_type": "code",
   "execution_count": 1,
   "id": "cfbbfb07-d773-4c8d-893d-ac10b399fbeb",
   "metadata": {},
   "outputs": [
    {
     "name": "stdout",
     "output_type": "stream",
     "text": [
      "/workspace/git/git-demo\n"
     ]
    }
   ],
   "source": [
    "!rm -rf git-demo\n",
    "!mkdir git-demo\n",
    "%cd git-demo"
   ]
  },
  {
   "cell_type": "code",
   "execution_count": 2,
   "id": "21f1eb7a-922b-4b79-bef6-bfab6f2eb896",
   "metadata": {},
   "outputs": [
    {
     "name": "stdout",
     "output_type": "stream",
     "text": [
      "Initialized empty Git repository in /workspace/git/git-demo/.git/\n"
     ]
    }
   ],
   "source": [
    "!git init\n",
    "\n",
    "!git config user.email \"you@example.com\"\n",
    "!git config user.name \"john doe\""
   ]
  },
  {
   "cell_type": "markdown",
   "id": "8cdda1fb-e8fa-46e3-8b3a-2b9a9f4c9dee",
   "metadata": {},
   "source": [
    "Tagging de la versión inicial (v0.0)\n",
    "---"
   ]
  },
  {
   "cell_type": "code",
   "execution_count": 3,
   "id": "9a5712f1-0413-42d3-bf06-13b28c1155a4",
   "metadata": {},
   "outputs": [
    {
     "name": "stdout",
     "output_type": "stream",
     "text": [
      "[master (root-commit) 35faa53] create file_1.txt\n",
      " 1 file changed, 0 insertions(+), 0 deletions(-)\n",
      " create mode 100644 file_1.txt\n"
     ]
    }
   ],
   "source": [
    "!touch file_1.txt\n",
    "!git add file_1.txt\n",
    "!git commit -m 'create file_1.txt'"
   ]
  },
  {
   "cell_type": "code",
   "execution_count": 4,
   "id": "7450e627-1a71-4de7-adcc-b456ef18c0c6",
   "metadata": {},
   "outputs": [],
   "source": [
    "!git tag -a v0.0 -m \"version inicial\""
   ]
  },
  {
   "cell_type": "markdown",
   "id": "83c77a92-ba59-46f4-962e-d9bfcccadad8",
   "metadata": {},
   "source": [
    "Adición de cambios\n",
    "---"
   ]
  },
  {
   "cell_type": "code",
   "execution_count": 5,
   "id": "46563ac6-6eb6-4206-97bf-5ecc0309f23b",
   "metadata": {},
   "outputs": [
    {
     "name": "stdout",
     "output_type": "stream",
     "text": [
      "[master 91e7f50] adding \"Line 1\" to file_1.txt\n",
      " 1 file changed, 1 insertion(+)\n"
     ]
    }
   ],
   "source": [
    "!echo 'Line 1' >> file_1.txt\n",
    "!!git add file_1.txt\n",
    "!git commit -m 'adding \"Line 1\" to file_1.txt'"
   ]
  },
  {
   "cell_type": "code",
   "execution_count": 6,
   "id": "f7ba748a-30f6-447b-a092-6ed5c4f68f06",
   "metadata": {},
   "outputs": [
    {
     "name": "stdout",
     "output_type": "stream",
     "text": [
      "[master 9f90bb4] adding \"Line 2\" to file_1.txt\n",
      " 1 file changed, 1 insertion(+)\n"
     ]
    }
   ],
   "source": [
    "!echo 'Line 2' >> file_1.txt\n",
    "!!git add file_1.txt\n",
    "!git commit -m 'adding \"Line 2\" to file_1.txt'"
   ]
  },
  {
   "cell_type": "markdown",
   "id": "5947ea1f-fcbf-4237-858d-8fe4bea21531",
   "metadata": {},
   "source": [
    "Tagging v0.1\n",
    "---"
   ]
  },
  {
   "cell_type": "code",
   "execution_count": 7,
   "id": "40481a78-c84f-432f-aa43-43e3dd8be010",
   "metadata": {},
   "outputs": [],
   "source": [
    "!git tag -a v0.1 -m \"mi version 0.1\""
   ]
  },
  {
   "cell_type": "markdown",
   "id": "f9779627-b445-4a7c-8d85-50de97c40343",
   "metadata": {},
   "source": [
    "Adición de cambios\n",
    "---"
   ]
  },
  {
   "cell_type": "code",
   "execution_count": 8,
   "id": "68961fb4-cee6-43fc-bf20-b696a3b51a57",
   "metadata": {},
   "outputs": [
    {
     "name": "stdout",
     "output_type": "stream",
     "text": [
      "[master 388285b] adding \"Line 3\" to file_1.txt\n",
      " 1 file changed, 1 insertion(+)\n"
     ]
    }
   ],
   "source": [
    "!echo 'Line 3' >> file_1.txt\n",
    "!!git add file_1.txt\n",
    "!git commit -m 'adding \"Line 3\" to file_1.txt'"
   ]
  },
  {
   "cell_type": "code",
   "execution_count": 9,
   "id": "28b44da6-5697-4257-bdf7-9b824d7534b3",
   "metadata": {},
   "outputs": [
    {
     "name": "stdout",
     "output_type": "stream",
     "text": [
      "[master 26fcec4] adding \"Line 4\" to file_1.txt\n",
      " 1 file changed, 1 insertion(+)\n"
     ]
    }
   ],
   "source": [
    "!echo 'Line 4' >> file_1.txt\n",
    "!!git add file_1.txt\n",
    "!git commit -m 'adding \"Line 4\" to file_1.txt'"
   ]
  },
  {
   "cell_type": "markdown",
   "id": "7f09d70d-d4d6-441e-ade5-1dabe2f79fba",
   "metadata": {},
   "source": [
    "Tagging v0.2\n",
    "---"
   ]
  },
  {
   "cell_type": "code",
   "execution_count": 10,
   "id": "d7ab1fb2-32f9-4636-8634-4ec32999ba4b",
   "metadata": {},
   "outputs": [],
   "source": [
    "!git tag -a v0.2 -m \"mi version 0.2\""
   ]
  },
  {
   "cell_type": "markdown",
   "id": "6b541f89-17b0-4808-a83d-547f1aed0fa0",
   "metadata": {},
   "source": [
    "Inspección\n",
    "---"
   ]
  },
  {
   "cell_type": "code",
   "execution_count": 11,
   "id": "41cc43fb-0665-4627-ac3d-76058c4c6bc3",
   "metadata": {},
   "outputs": [
    {
     "name": "stdout",
     "output_type": "stream",
     "text": [
      "\u001b[33mcommit 26fcec4421c94bbfa6ff82084b8351611e6514f7\u001b[m\u001b[33m (\u001b[m\u001b[1;36mHEAD -> \u001b[m\u001b[1;32mmaster\u001b[m\u001b[33m, \u001b[m\u001b[1;33mtag: v0.2\u001b[m\u001b[33m)\u001b[m\n",
      "Author: john doe <you@example.com>\n",
      "Date:   Wed Jun 8 22:53:36 2022 +0000\n",
      "\n",
      "    adding \"Line 4\" to file_1.txt\n",
      "\n",
      "\u001b[1mdiff --git a/file_1.txt b/file_1.txt\u001b[m\n",
      "\u001b[1mindex 6ad36e5..e579141 100644\u001b[m\n",
      "\u001b[1m--- a/file_1.txt\u001b[m\n",
      "\u001b[1m+++ b/file_1.txt\u001b[m\n",
      "\u001b[36m@@ -1,3 +1,4 @@\u001b[m\n",
      " Line 1\u001b[m\n",
      " Line 2\u001b[m\n",
      " Line 3\u001b[m\n",
      "\u001b[32m+\u001b[m\u001b[32mLine 4\u001b[m\n"
     ]
    }
   ],
   "source": [
    "!git show"
   ]
  },
  {
   "cell_type": "code",
   "execution_count": 12,
   "id": "4690b786-b9d9-48f8-abf4-a6658f9bf831",
   "metadata": {},
   "outputs": [
    {
     "name": "stdout",
     "output_type": "stream",
     "text": [
      "\u001b[33mtag v0.2\u001b[m\n",
      "Tagger: john doe <you@example.com>\n",
      "Date:   Wed Jun 8 22:53:37 2022 +0000\n",
      "\n",
      "mi version 0.2\n",
      "\n",
      "\u001b[33mcommit 26fcec4421c94bbfa6ff82084b8351611e6514f7\u001b[m\u001b[33m (\u001b[m\u001b[1;36mHEAD -> \u001b[m\u001b[1;32mmaster\u001b[m\u001b[33m, \u001b[m\u001b[1;33mtag: v0.2\u001b[m\u001b[33m)\u001b[m\n",
      "Author: john doe <you@example.com>\n",
      "Date:   Wed Jun 8 22:53:36 2022 +0000\n",
      "\n",
      "    adding \"Line 4\" to file_1.txt\n",
      "\n",
      "\u001b[1mdiff --git a/file_1.txt b/file_1.txt\u001b[m\n",
      "\u001b[1mindex 6ad36e5..e579141 100644\u001b[m\n",
      "\u001b[1m--- a/file_1.txt\u001b[m\n",
      "\u001b[1m+++ b/file_1.txt\u001b[m\n",
      "\u001b[36m@@ -1,3 +1,4 @@\u001b[m\n",
      " Line 1\u001b[m\n",
      " Line 2\u001b[m\n",
      " Line 3\u001b[m\n",
      "\u001b[32m+\u001b[m\u001b[32mLine 4\u001b[m\n"
     ]
    }
   ],
   "source": [
    "!git show v0.2"
   ]
  },
  {
   "cell_type": "markdown",
   "id": "5088dac7-4f3f-42b8-8005-4d2d00d16531",
   "metadata": {},
   "source": [
    "Adición de cambios\n",
    "---"
   ]
  },
  {
   "cell_type": "code",
   "execution_count": 13,
   "id": "041446e7-514d-418d-8f78-811131fe415a",
   "metadata": {},
   "outputs": [
    {
     "name": "stdout",
     "output_type": "stream",
     "text": [
      "[master 1745ef6] adding \"Line 5\" to file_1.txt\n",
      " 1 file changed, 1 insertion(+)\n"
     ]
    }
   ],
   "source": [
    "!echo 'Line 5' >> file_1.txt\n",
    "!!git add file_1.txt\n",
    "!git commit -m 'adding \"Line 5\" to file_1.txt'"
   ]
  },
  {
   "cell_type": "code",
   "execution_count": 14,
   "id": "6134b179-dabd-473a-8c74-43be5735e19a",
   "metadata": {},
   "outputs": [
    {
     "name": "stdout",
     "output_type": "stream",
     "text": [
      "[master 632ca2e] adding \"Line 6\" to file_1.txt\n",
      " 1 file changed, 1 insertion(+)\n"
     ]
    }
   ],
   "source": [
    "!echo 'Line 6' >> file_1.txt\n",
    "!!git add file_1.txt\n",
    "!git commit -m 'adding \"Line 6\" to file_1.txt'"
   ]
  },
  {
   "cell_type": "markdown",
   "id": "62a9c3f4-d160-42a2-942d-b21f1d378eb4",
   "metadata": {},
   "source": [
    "Tagging retrasado\n",
    "---"
   ]
  },
  {
   "cell_type": "code",
   "execution_count": 15,
   "id": "2ce8537c-9afc-4aa5-8395-a7a2c1cdc8b5",
   "metadata": {},
   "outputs": [
    {
     "name": "stdout",
     "output_type": "stream",
     "text": [
      "\u001b[33m632ca2e6a0d813afd43a593ab8deda70bbccbc88\u001b[m\u001b[33m (\u001b[m\u001b[1;36mHEAD -> \u001b[m\u001b[1;32mmaster\u001b[m\u001b[33m)\u001b[m adding \"Line 6\" to file_1.txt\n",
      "\u001b[33m1745ef6037ea04391cab8cc834dc909d91fbe537\u001b[m adding \"Line 5\" to file_1.txt\n",
      "\u001b[33m26fcec4421c94bbfa6ff82084b8351611e6514f7\u001b[m\u001b[33m (\u001b[m\u001b[1;33mtag: v0.2\u001b[m\u001b[33m)\u001b[m adding \"Line 4\" to file_1.txt\n",
      "\u001b[33m388285ba4a85023b04b5162d0f8c8a883dbc231b\u001b[m adding \"Line 3\" to file_1.txt\n",
      "\u001b[33m9f90bb4fb153c84afa7f03642c0b9416d193472d\u001b[m\u001b[33m (\u001b[m\u001b[1;33mtag: v0.1\u001b[m\u001b[33m)\u001b[m adding \"Line 2\" to file_1.txt\n",
      "\u001b[33m91e7f50442a79582380f65896c89b06c9f895876\u001b[m adding \"Line 1\" to file_1.txt\n",
      "\u001b[33m35faa53f1ea188dc5b8e3b9fdb0f6ee55c0aa2da\u001b[m\u001b[33m (\u001b[m\u001b[1;33mtag: v0.0\u001b[m\u001b[33m)\u001b[m create file_1.txt\n"
     ]
    }
   ],
   "source": [
    "!git log --pretty=oneline"
   ]
  },
  {
   "cell_type": "markdown",
   "id": "7842d5ad-edf7-4017-aa35-56183dc2a2f1",
   "metadata": {},
   "source": [
    "Si se desea taggear un commit intermedio, por ejemplo cuando se hace el commit de la linea 5, se puede usar los primeros digitos del checksum:\n",
    "\n",
    "```bash\n",
    "$ git tag -a v0.3 7cc0a5\n",
    "\n",
    "```"
   ]
  },
  {
   "cell_type": "markdown",
   "id": "b05408f7-239a-46bf-b438-f03e172d3672",
   "metadata": {},
   "source": [
    "Consulta\n",
    "---"
   ]
  },
  {
   "cell_type": "code",
   "execution_count": 16,
   "id": "d049d6e2-2682-4638-9477-e9cbf829a99d",
   "metadata": {},
   "outputs": [
    {
     "name": "stdout",
     "output_type": "stream",
     "text": [
      "v0.0\n",
      "v0.1\n",
      "v0.2\n"
     ]
    }
   ],
   "source": [
    "!git tag"
   ]
  },
  {
   "cell_type": "markdown",
   "id": "9a1c435d-40f6-42d1-9877-f014c04f0afe",
   "metadata": {},
   "source": [
    "Borrado de tags\n",
    "---"
   ]
  },
  {
   "cell_type": "code",
   "execution_count": 17,
   "id": "92f64c55-46f7-4d4f-a78f-e7266a24761d",
   "metadata": {},
   "outputs": [
    {
     "name": "stdout",
     "output_type": "stream",
     "text": [
      "Deleted tag 'v0.2' (was 977855f)\n"
     ]
    }
   ],
   "source": [
    "!git tag -d v0.2"
   ]
  },
  {
   "cell_type": "code",
   "execution_count": 18,
   "id": "e2c0f751-9322-4671-947d-3c5229e3203d",
   "metadata": {},
   "outputs": [
    {
     "name": "stdout",
     "output_type": "stream",
     "text": [
      "v0.0\n",
      "v0.1\n"
     ]
    }
   ],
   "source": [
    "!git tag"
   ]
  },
  {
   "cell_type": "code",
   "execution_count": 19,
   "id": "50d236ec-4c6a-4c4f-86b8-ff7fad3270fd",
   "metadata": {},
   "outputs": [
    {
     "name": "stdout",
     "output_type": "stream",
     "text": [
      "/workspace/git\n"
     ]
    }
   ],
   "source": [
    "# --< Limpieza del área de trabajo >-------------------------------------------\n",
    "%cd ..\n",
    "!rm -rf git-demo"
   ]
  }
 ],
 "metadata": {
  "kernelspec": {
   "display_name": "Python 3 (ipykernel)",
   "language": "python",
   "name": "python3"
  },
  "language_info": {
   "codemirror_mode": {
    "name": "ipython",
    "version": 3
   },
   "file_extension": ".py",
   "mimetype": "text/x-python",
   "name": "python",
   "nbconvert_exporter": "python",
   "pygments_lexer": "ipython3",
   "version": "3.8.10"
  }
 },
 "nbformat": 4,
 "nbformat_minor": 5
}
