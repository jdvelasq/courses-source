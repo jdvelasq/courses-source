{
 "cells": [
  {
   "cell_type": "markdown",
   "id": "2685b7dd-9751-496f-977e-09521beff877",
   "metadata": {
    "tags": []
   },
   "source": [
    "Flujo básico de trabajo\n",
    "===\n",
    "\n",
    "* Última modificación: Mayo  14, 2022"
   ]
  },
  {
   "cell_type": "markdown",
   "id": "4446f69c-6296-43b1-95c6-a7cffa18c67c",
   "metadata": {},
   "source": [
    "Creación de la carpeta de trabajo\n",
    "--"
   ]
  },
  {
   "cell_type": "code",
   "execution_count": 1,
   "id": "1be2835e-76e8-40c3-8369-9188ebf5b27c",
   "metadata": {},
   "outputs": [
    {
     "name": "stdout",
     "output_type": "stream",
     "text": [
      "/workspace/git/git-demo\n"
     ]
    }
   ],
   "source": [
    "!mkdir git-demo\n",
    "%cd git-demo"
   ]
  },
  {
   "cell_type": "markdown",
   "id": "7157f1e6-a0ef-4cf4-913c-4c46186e782f",
   "metadata": {},
   "source": [
    "Inicialización del repositorio\n",
    "--"
   ]
  },
  {
   "cell_type": "code",
   "execution_count": 2,
   "id": "8867d0d7-f26a-49d6-87da-184327e43d7e",
   "metadata": {},
   "outputs": [
    {
     "name": "stdout",
     "output_type": "stream",
     "text": [
      "Initialized empty Git repository in /workspace/git/git-demo/.git/\n"
     ]
    }
   ],
   "source": [
    "!git init"
   ]
  },
  {
   "cell_type": "code",
   "execution_count": 3,
   "id": "a0ccc830-693a-4823-899e-41dbcc7f4579",
   "metadata": {},
   "outputs": [],
   "source": [
    "!git config user.email \"you@example.com\"\n",
    "!git config user.name \"john doe\""
   ]
  },
  {
   "cell_type": "markdown",
   "id": "7b76b928-8620-4edc-a28b-5422e24bdbed",
   "metadata": {},
   "source": [
    "Esquema del flujo de trabajo\n",
    "--"
   ]
  },
  {
   "cell_type": "markdown",
   "id": "2f987904-b221-4b73-9b11-f1b6c5ab43eb",
   "metadata": {},
   "source": [
    "![assets/git-00002.png](assets/git-00002.png)"
   ]
  },
  {
   "cell_type": "markdown",
   "id": "b5718e39-d693-4257-aaed-7a2a8aacf150",
   "metadata": {},
   "source": [
    "Estado del repositorio\n",
    "--"
   ]
  },
  {
   "cell_type": "code",
   "execution_count": 4,
   "id": "119cc381-9aab-4b47-9a6b-f35c03129ad9",
   "metadata": {},
   "outputs": [
    {
     "name": "stdout",
     "output_type": "stream",
     "text": [
      "On branch master\n",
      "\n",
      "No commits yet\n",
      "\n",
      "nothing to commit (create/copy files and use \"git add\" to track)\n"
     ]
    }
   ],
   "source": [
    "!git status"
   ]
  },
  {
   "cell_type": "markdown",
   "id": "26772623-7f23-4ed9-b2a3-c08c7283bbdb",
   "metadata": {},
   "source": [
    "Creación de un archivo\n",
    "---"
   ]
  },
  {
   "cell_type": "markdown",
   "id": "4228b05f-d21e-4a0d-b132-c6fba9720113",
   "metadata": {},
   "source": [
    "```\n",
    "Working                   Staging                   .git\n",
    "Tree                      Area                      directory\n",
    "-------------------------------------------------------------------------------\n",
    "\n",
    "```"
   ]
  },
  {
   "cell_type": "code",
   "execution_count": 5,
   "id": "1f8a8884-0212-4171-adae-59ae3dba54a6",
   "metadata": {},
   "outputs": [
    {
     "name": "stdout",
     "output_type": "stream",
     "text": [
      "On branch master\n",
      "\n",
      "No commits yet\n",
      "\n",
      "Untracked files:\n",
      "  (use \"git add <file>...\" to include in what will be committed)\n",
      "\t\u001b[31mfile_1.txt\u001b[m\n",
      "\n",
      "nothing added to commit but untracked files present (use \"git add\" to track)\n"
     ]
    }
   ],
   "source": [
    "!touch file_1.txt\n",
    "!git status"
   ]
  },
  {
   "cell_type": "markdown",
   "id": "aa9522dc-462c-4e02-8581-2c73704dd2f8",
   "metadata": {},
   "source": [
    "```\n",
    "Working                   Staging             .git\n",
    "Tree                      Area                directory\n",
    "-------------------------------------------------------------------------------\n",
    "file_1.txt\n",
    "  (empty)\n",
    "\n",
    "```"
   ]
  },
  {
   "cell_type": "markdown",
   "id": "7d567f27-88d0-48a2-a28b-e7987ccbc984",
   "metadata": {},
   "source": [
    "Staging del nuevo archivo\n",
    "---"
   ]
  },
  {
   "cell_type": "code",
   "execution_count": 6,
   "id": "fc6ce23d-5c0c-4536-978a-918737f6cf5c",
   "metadata": {},
   "outputs": [
    {
     "name": "stdout",
     "output_type": "stream",
     "text": [
      "On branch master\n",
      "\n",
      "No commits yet\n",
      "\n",
      "Changes to be committed:\n",
      "  (use \"git rm --cached <file>...\" to unstage)\n",
      "\t\u001b[32mnew file:   file_1.txt\u001b[m\n",
      "\n"
     ]
    }
   ],
   "source": [
    "!git add file_1.txt\n",
    "!git status"
   ]
  },
  {
   "cell_type": "markdown",
   "id": "15a99eb8-c5a0-4500-a592-e23b22e59139",
   "metadata": {},
   "source": [
    "```\n",
    "Working                   Staging                   .git\n",
    "Tree                      Area                      directory\n",
    "-------------------------------------------------------------------------------\n",
    "file_1.txt                file_1.txt                \n",
    "  (empty)                   (empty) \n",
    "\n",
    "```"
   ]
  },
  {
   "cell_type": "markdown",
   "id": "955363dc-a8a5-4324-8220-333560bebeeb",
   "metadata": {},
   "source": [
    "Cambios en el nuevo archivo\n",
    "--"
   ]
  },
  {
   "cell_type": "code",
   "execution_count": 7,
   "id": "245b2ac3-6a68-40aa-8710-edcb243acb5d",
   "metadata": {},
   "outputs": [
    {
     "name": "stdout",
     "output_type": "stream",
     "text": [
      "On branch master\n",
      "\n",
      "No commits yet\n",
      "\n",
      "Changes to be committed:\n",
      "  (use \"git rm --cached <file>...\" to unstage)\n",
      "\t\u001b[32mnew file:   file_1.txt\u001b[m\n",
      "\n",
      "Changes not staged for commit:\n",
      "  (use \"git add <file>...\" to update what will be committed)\n",
      "  (use \"git restore <file>...\" to discard changes in working directory)\n",
      "\t\u001b[31mmodified:   file_1.txt\u001b[m\n",
      "\n"
     ]
    }
   ],
   "source": [
    "!echo 'hello world' > file_1.txt\n",
    "!git status"
   ]
  },
  {
   "cell_type": "markdown",
   "id": "bc247f0b-a03b-4dfd-81e9-a9b3be80729d",
   "metadata": {},
   "source": [
    "```\n",
    "Working                   Staging                   .git\n",
    "Tree                      Area                      directory\n",
    "-------------------------------------------------------------------------------\n",
    "file_1.txt                file_1.txt                \n",
    "  hello world               (empty) \n",
    "\n",
    "```"
   ]
  },
  {
   "cell_type": "markdown",
   "id": "f4dde972-b930-4bc2-923b-be528979696b",
   "metadata": {},
   "source": [
    "Staging de los nuevos cambios\n",
    "--"
   ]
  },
  {
   "cell_type": "code",
   "execution_count": 8,
   "id": "d4f47945-db89-432d-81cb-07d9c03ab562",
   "metadata": {},
   "outputs": [
    {
     "name": "stdout",
     "output_type": "stream",
     "text": [
      "On branch master\n",
      "\n",
      "No commits yet\n",
      "\n",
      "Changes to be committed:\n",
      "  (use \"git rm --cached <file>...\" to unstage)\n",
      "\t\u001b[32mnew file:   file_1.txt\u001b[m\n",
      "\n"
     ]
    }
   ],
   "source": [
    "!git add file_1.txt\n",
    "!git status"
   ]
  },
  {
   "cell_type": "markdown",
   "id": "89e67beb-0c11-4b0a-bad0-70a1986215c8",
   "metadata": {},
   "source": [
    "```\n",
    "Working                   Staging                   .git\n",
    "Tree                      Area                      directory\n",
    "-------------------------------------------------------------------------------\n",
    "file_1.txt                file_1.txt                \n",
    "  hello world               hello world \n",
    "\n",
    "```"
   ]
  },
  {
   "cell_type": "markdown",
   "id": "17e92869-5ec6-429a-8d68-3fbc5933bd41",
   "metadata": {},
   "source": [
    "Commit\n",
    "---"
   ]
  },
  {
   "cell_type": "code",
   "execution_count": 9,
   "id": "c014376d-7f7d-49a5-994a-d7778d6407ba",
   "metadata": {},
   "outputs": [
    {
     "name": "stdout",
     "output_type": "stream",
     "text": [
      "[master (root-commit) a35cdbe] create file_1.txt\n",
      " 1 file changed, 1 insertion(+)\n",
      " create mode 100644 file_1.txt\n"
     ]
    }
   ],
   "source": [
    "!git commit -m 'create file_1.txt'"
   ]
  },
  {
   "cell_type": "markdown",
   "id": "1222c309-9914-44e1-85e8-0fb6abefb2c2",
   "metadata": {},
   "source": [
    "```\n",
    "Working                   Staging                   .git\n",
    "Tree                      Area                      directory\n",
    "-------------------------------------------------------------------------------\n",
    "file_1.txt                                          file_1.txt                \n",
    "  hello world                                         hello world \n",
    "```"
   ]
  },
  {
   "cell_type": "markdown",
   "id": "8410a7c2-552b-4518-b8c1-457e227df8dc",
   "metadata": {},
   "source": [
    "Borrado del archivo\n",
    "--"
   ]
  },
  {
   "cell_type": "code",
   "execution_count": 10,
   "id": "9702a675-34ed-4ac0-90d2-482d919a025a",
   "metadata": {},
   "outputs": [],
   "source": [
    "!rm file_1.txt"
   ]
  },
  {
   "cell_type": "markdown",
   "id": "c0c7345a-cb87-4300-951a-ecea4cbccd55",
   "metadata": {},
   "source": [
    "```\n",
    "Working                   Staging                   .git\n",
    "Tree                      Area                      directory\n",
    "-------------------------------------------------------------------------------\n",
    "                                                    file_1.txt                \n",
    "                                                      hello world \n",
    "```"
   ]
  },
  {
   "cell_type": "markdown",
   "id": "82a2f16c-3ca7-4bcc-a51e-6da22ac678c6",
   "metadata": {},
   "source": [
    "Restauración del archivo\n",
    "---"
   ]
  },
  {
   "cell_type": "code",
   "execution_count": 11,
   "id": "5b3d227c-9d14-4751-96ab-c21ad53f6e2e",
   "metadata": {},
   "outputs": [],
   "source": [
    "!git checkout -- file_1.txt"
   ]
  },
  {
   "cell_type": "markdown",
   "id": "771dcfba-9ce2-4bea-9ecb-02cd47d01b4d",
   "metadata": {},
   "source": [
    "```\n",
    "Working                   Staging                   .git\n",
    "Tree                      Area                      directory\n",
    "-------------------------------------------------------------------------------\n",
    "file_1.txt                                          file_1.txt                \n",
    "  hello world                                         hello world \n",
    "```"
   ]
  },
  {
   "cell_type": "code",
   "execution_count": 12,
   "id": "afabdf11-ad3f-4279-91df-97dcc367a50b",
   "metadata": {},
   "outputs": [
    {
     "name": "stdout",
     "output_type": "stream",
     "text": [
      "hello world\n"
     ]
    }
   ],
   "source": [
    "!cat file_1.txt"
   ]
  },
  {
   "cell_type": "code",
   "execution_count": 13,
   "id": "2343ba66-ccdf-4895-8fea-fa99303e401c",
   "metadata": {},
   "outputs": [
    {
     "name": "stdout",
     "output_type": "stream",
     "text": [
      "/workspace/git\n"
     ]
    }
   ],
   "source": [
    "# --< Limpieza del área de trabajo >-------------------------------------------\n",
    "%cd ..\n",
    "!rm -rf git-demo"
   ]
  }
 ],
 "metadata": {
  "kernelspec": {
   "display_name": "Python 3 (ipykernel)",
   "language": "python",
   "name": "python3"
  },
  "language_info": {
   "codemirror_mode": {
    "name": "ipython",
    "version": 3
   },
   "file_extension": ".py",
   "mimetype": "text/x-python",
   "name": "python",
   "nbconvert_exporter": "python",
   "pygments_lexer": "ipython3",
   "version": "3.8.10"
  }
 },
 "nbformat": 4,
 "nbformat_minor": 5
}
