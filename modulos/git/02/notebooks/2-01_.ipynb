{
 "cells": [
  {
   "cell_type": "markdown",
   "id": "12068654-2e18-439c-a8f4-9e971bc786e9",
   "metadata": {
    "tags": []
   },
   "source": [
    "Introducción al manejo de ramas\n",
    "===\n",
    "\n",
    "* Última modificación: Mayo  14, 2022"
   ]
  },
  {
   "cell_type": "markdown",
   "id": "a0ccd380-86a7-436c-8ea2-19492e7b6624",
   "metadata": {},
   "source": [
    "Se usan para marcar ciertos puntos de la historia del repositorio como importantes, por ejemplo, versiones."
   ]
  },
  {
   "cell_type": "markdown",
   "id": "d1618cbf-4f9e-4490-b39b-35ab95eb7122",
   "metadata": {},
   "source": [
    "Preparación del proyecto\n",
    "--"
   ]
  },
  {
   "cell_type": "code",
   "execution_count": 1,
   "id": "707f711c-6aa3-40d0-8d13-0eea5878ddd3",
   "metadata": {},
   "outputs": [
    {
     "name": "stdout",
     "output_type": "stream",
     "text": [
      "/workspace/git/git-demo\n"
     ]
    }
   ],
   "source": [
    "!rm -rf git-demo\n",
    "!mkdir git-demo\n",
    "%cd git-demo"
   ]
  },
  {
   "cell_type": "code",
   "execution_count": 2,
   "id": "a02720a2-c012-4a5f-85a8-699aee643b0e",
   "metadata": {},
   "outputs": [
    {
     "name": "stdout",
     "output_type": "stream",
     "text": [
      "Initialized empty Git repository in /workspace/git/git-demo/.git/\n"
     ]
    }
   ],
   "source": [
    "!git init"
   ]
  },
  {
   "cell_type": "code",
   "execution_count": 3,
   "id": "dd19127c-9003-4ec7-9a15-8ff29efe35c2",
   "metadata": {},
   "outputs": [],
   "source": [
    "!git config user.email \"you@example.com\"\n",
    "!git config user.name \"john doe\""
   ]
  },
  {
   "cell_type": "markdown",
   "id": "f7f4bd53-edd5-47c1-818a-52f01c8a36a7",
   "metadata": {},
   "source": [
    "Rama `master`\n",
    "---"
   ]
  },
  {
   "cell_type": "code",
   "execution_count": 4,
   "id": "b904eac5-2dde-4251-9e9f-028818aff77e",
   "metadata": {},
   "outputs": [
    {
     "name": "stdout",
     "output_type": "stream",
     "text": [
      "[master (root-commit) 061eaf7] create file_1.txt\n",
      " 1 file changed, 0 insertions(+), 0 deletions(-)\n",
      " create mode 100644 file_1.txt\n"
     ]
    }
   ],
   "source": [
    "!touch file_1.txt\n",
    "!git add file_1.txt\n",
    "!git commit -m 'create file_1.txt'"
   ]
  },
  {
   "cell_type": "markdown",
   "id": "54b367b6-221f-43eb-b512-4b2f3f4ebaf7",
   "metadata": {},
   "source": [
    "Creación de una nueva rama\n",
    "---"
   ]
  },
  {
   "cell_type": "code",
   "execution_count": 5,
   "id": "a9b74c10-bcab-4a29-86b8-13c5938343b1",
   "metadata": {},
   "outputs": [],
   "source": [
    "!git branch testing"
   ]
  },
  {
   "cell_type": "code",
   "execution_count": 6,
   "id": "7b7d499c-9cae-438b-8f46-8a9cda698137",
   "metadata": {},
   "outputs": [
    {
     "name": "stdout",
     "output_type": "stream",
     "text": [
      "On branch master\n",
      "nothing to commit, working tree clean\n"
     ]
    }
   ],
   "source": [
    "!git status"
   ]
  },
  {
   "cell_type": "markdown",
   "id": "bd74d083-c1cd-48dc-aca7-63cc1207310f",
   "metadata": {},
   "source": [
    "Creación de un nuevo archivo en la rama `master`\n",
    "--"
   ]
  },
  {
   "cell_type": "code",
   "execution_count": 7,
   "id": "daafa3b4-d8aa-4f62-ac19-b40f59fd4a18",
   "metadata": {},
   "outputs": [
    {
     "name": "stdout",
     "output_type": "stream",
     "text": [
      "[master 258cd0d] create file_2.txt\n",
      " 1 file changed, 0 insertions(+), 0 deletions(-)\n",
      " create mode 100644 file_2.txt\n"
     ]
    }
   ],
   "source": [
    "!touch file_2.txt\n",
    "!git add file_2.txt\n",
    "!git commit -m 'create file_2.txt'"
   ]
  },
  {
   "cell_type": "code",
   "execution_count": 8,
   "id": "3d909200-4ecb-421e-98bf-2b49708c04af",
   "metadata": {},
   "outputs": [
    {
     "name": "stdout",
     "output_type": "stream",
     "text": [
      "file_1.txt\n",
      "file_2.txt\n"
     ]
    }
   ],
   "source": [
    "!ls -1"
   ]
  },
  {
   "cell_type": "code",
   "execution_count": 9,
   "id": "f54d34da-2925-4f4b-9dba-60e3b4740777",
   "metadata": {},
   "outputs": [
    {
     "name": "stdout",
     "output_type": "stream",
     "text": [
      "\u001b[33m258cd0d\u001b[m\u001b[33m (\u001b[m\u001b[1;36mHEAD -> \u001b[m\u001b[1;32mmaster\u001b[m\u001b[33m)\u001b[m create file_2.txt\n",
      "\u001b[33m061eaf7\u001b[m\u001b[33m (\u001b[m\u001b[1;32mtesting\u001b[m\u001b[33m)\u001b[m create file_1.txt\n"
     ]
    }
   ],
   "source": [
    "!git log --oneline --decorate"
   ]
  },
  {
   "cell_type": "markdown",
   "id": "de850eef-69de-4e52-bc2f-d08fa0f4677c",
   "metadata": {},
   "source": [
    "Modificación de un archivo en la rama `master`\n",
    "--"
   ]
  },
  {
   "cell_type": "code",
   "execution_count": 10,
   "id": "e2addaeb-a30b-4853-aa8d-299bddee534a",
   "metadata": {},
   "outputs": [
    {
     "name": "stdout",
     "output_type": "stream",
     "text": [
      "[master 8dad788] modify file_1.txt in master branch\n",
      " 1 file changed, 1 insertion(+)\n"
     ]
    }
   ],
   "source": [
    "!echo \"line 1 in file_1.txt in master branch\" >> file_1.txt\n",
    "!git add file_1.txt\n",
    "!git commit -m 'modify file_1.txt in master branch'"
   ]
  },
  {
   "cell_type": "code",
   "execution_count": 11,
   "id": "5f284cea-7f57-4ad9-bb3b-58eb94b4562e",
   "metadata": {},
   "outputs": [
    {
     "name": "stdout",
     "output_type": "stream",
     "text": [
      "line 1 in file_1.txt in master branch\n"
     ]
    }
   ],
   "source": [
    "!head file_1.txt"
   ]
  },
  {
   "cell_type": "code",
   "execution_count": 12,
   "id": "f3376eb8-502b-4aec-b06c-7cdf0ccc5708",
   "metadata": {},
   "outputs": [
    {
     "name": "stdout",
     "output_type": "stream",
     "text": [
      "\u001b[33m8dad788\u001b[m\u001b[33m (\u001b[m\u001b[1;36mHEAD -> \u001b[m\u001b[1;32mmaster\u001b[m\u001b[33m)\u001b[m modify file_1.txt in master branch\n",
      "\u001b[33m258cd0d\u001b[m create file_2.txt\n",
      "\u001b[33m061eaf7\u001b[m\u001b[33m (\u001b[m\u001b[1;32mtesting\u001b[m\u001b[33m)\u001b[m create file_1.txt\n"
     ]
    }
   ],
   "source": [
    "!git log --oneline --decorate"
   ]
  },
  {
   "cell_type": "markdown",
   "id": "a8a62193-b7fd-460a-ba2f-33ece885c70a",
   "metadata": {},
   "source": [
    "Cambio a la rama `testing`\n",
    "--"
   ]
  },
  {
   "cell_type": "code",
   "execution_count": 13,
   "id": "ab1889bc-a314-43cf-bf35-6f4c0cd67ac8",
   "metadata": {},
   "outputs": [
    {
     "name": "stdout",
     "output_type": "stream",
     "text": [
      "Switched to branch 'testing'\n"
     ]
    }
   ],
   "source": [
    "!git checkout testing"
   ]
  },
  {
   "cell_type": "code",
   "execution_count": 14,
   "id": "21008fd2-e641-4e00-9859-229880f359fe",
   "metadata": {},
   "outputs": [
    {
     "name": "stdout",
     "output_type": "stream",
     "text": [
      "file_1.txt\n"
     ]
    }
   ],
   "source": [
    "!ls -1 "
   ]
  },
  {
   "cell_type": "code",
   "execution_count": 15,
   "id": "0b3de34b-c9cc-4eb2-b9a2-59a64ed95903",
   "metadata": {},
   "outputs": [],
   "source": [
    "!head file_1.txt"
   ]
  },
  {
   "cell_type": "markdown",
   "id": "8218ce77-4fe0-4535-8113-a1ab6ea6a04d",
   "metadata": {},
   "source": [
    "Creación de un nuevo archivo en la rama `testing`\n",
    "--"
   ]
  },
  {
   "cell_type": "code",
   "execution_count": 16,
   "id": "4a273568-785c-4526-89fa-7b7c553900c7",
   "metadata": {},
   "outputs": [
    {
     "name": "stdout",
     "output_type": "stream",
     "text": [
      "[testing a5493a3] create file_3.txt\n",
      " 1 file changed, 0 insertions(+), 0 deletions(-)\n",
      " create mode 100644 file_3.txt\n"
     ]
    }
   ],
   "source": [
    "!touch file_3.txt\n",
    "!git add file_3.txt\n",
    "!git commit -m 'create file_3.txt'"
   ]
  },
  {
   "cell_type": "code",
   "execution_count": 17,
   "id": "4ea8b254-82ad-4644-b691-8041e98897de",
   "metadata": {},
   "outputs": [
    {
     "name": "stdout",
     "output_type": "stream",
     "text": [
      "file_1.txt\n",
      "file_3.txt\n"
     ]
    }
   ],
   "source": [
    "!ls -1"
   ]
  },
  {
   "cell_type": "code",
   "execution_count": 18,
   "id": "7a768005-ee23-4ac2-915f-da21da26194b",
   "metadata": {},
   "outputs": [
    {
     "name": "stdout",
     "output_type": "stream",
     "text": [
      "\u001b[33ma5493a3\u001b[m\u001b[33m (\u001b[m\u001b[1;36mHEAD -> \u001b[m\u001b[1;32mtesting\u001b[m\u001b[33m)\u001b[m create file_3.txt\n",
      "\u001b[33m061eaf7\u001b[m create file_1.txt\n"
     ]
    }
   ],
   "source": [
    "!git log --oneline --decorate"
   ]
  },
  {
   "cell_type": "markdown",
   "id": "4b6732c7-faed-46de-aa80-c938515d5e73",
   "metadata": {},
   "source": [
    "Modificación de un archivo en la rama `testing`\n",
    "--"
   ]
  },
  {
   "cell_type": "code",
   "execution_count": 19,
   "id": "903ba99e-2e9c-4dc8-b823-07dddff40b6c",
   "metadata": {},
   "outputs": [
    {
     "name": "stdout",
     "output_type": "stream",
     "text": [
      "[testing 763e66c] modify file_1.txt in testing branch\n",
      " 1 file changed, 1 insertion(+)\n"
     ]
    }
   ],
   "source": [
    "!echo \"line 1 in file_1.txt in testing branch\" >> file_1.txt\n",
    "!git add file_1.txt\n",
    "!git commit -m 'modify file_1.txt in testing branch'"
   ]
  },
  {
   "cell_type": "code",
   "execution_count": 20,
   "id": "01dea9d2-319c-4fd6-a1f6-2696aa706c26",
   "metadata": {},
   "outputs": [
    {
     "name": "stdout",
     "output_type": "stream",
     "text": [
      "\u001b[33m763e66c\u001b[m\u001b[33m (\u001b[m\u001b[1;36mHEAD -> \u001b[m\u001b[1;32mtesting\u001b[m\u001b[33m)\u001b[m modify file_1.txt in testing branch\n",
      "\u001b[33ma5493a3\u001b[m create file_3.txt\n",
      "\u001b[33m061eaf7\u001b[m create file_1.txt\n"
     ]
    }
   ],
   "source": [
    "!git log --oneline --decorate"
   ]
  },
  {
   "cell_type": "markdown",
   "id": "d5925a1c-8de9-4ea9-8801-0ab0e27c65a4",
   "metadata": {},
   "source": [
    "Cambios\n",
    "---"
   ]
  },
  {
   "cell_type": "code",
   "execution_count": 21,
   "id": "9b82b8a0-a757-4881-b070-9364bd17b2e1",
   "metadata": {},
   "outputs": [
    {
     "name": "stdout",
     "output_type": "stream",
     "text": [
      "* \u001b[33m763e66c\u001b[m\u001b[33m (\u001b[m\u001b[1;36mHEAD -> \u001b[m\u001b[1;32mtesting\u001b[m\u001b[33m)\u001b[m modify file_1.txt in testing branch\n",
      "* \u001b[33ma5493a3\u001b[m create file_3.txt\n",
      "\u001b[31m|\u001b[m * \u001b[33m8dad788\u001b[m\u001b[33m (\u001b[m\u001b[1;32mmaster\u001b[m\u001b[33m)\u001b[m modify file_1.txt in master branch\n",
      "\u001b[31m|\u001b[m * \u001b[33m258cd0d\u001b[m create file_2.txt\n",
      "\u001b[31m|\u001b[m\u001b[31m/\u001b[m  \n",
      "* \u001b[33m061eaf7\u001b[m create file_1.txt\n"
     ]
    }
   ],
   "source": [
    "!git log --oneline --decorate --graph --all"
   ]
  },
  {
   "cell_type": "markdown",
   "id": "e075aa8f-672a-41b4-8275-a9a88f47a647",
   "metadata": {},
   "source": [
    "Cambio a la rama `master`\n",
    "--"
   ]
  },
  {
   "cell_type": "code",
   "execution_count": 22,
   "id": "aee9c9a0-d089-4f46-a2db-e433f8605012",
   "metadata": {},
   "outputs": [
    {
     "name": "stdout",
     "output_type": "stream",
     "text": [
      "Switched to branch 'master'\n"
     ]
    }
   ],
   "source": [
    "!git checkout master"
   ]
  },
  {
   "cell_type": "code",
   "execution_count": 23,
   "id": "8c378f5e-0e74-400d-844e-7ef75b870105",
   "metadata": {},
   "outputs": [
    {
     "name": "stdout",
     "output_type": "stream",
     "text": [
      "file_1.txt\n",
      "file_2.txt\n"
     ]
    }
   ],
   "source": [
    "!ls -1 "
   ]
  },
  {
   "cell_type": "code",
   "execution_count": 24,
   "id": "be2925e6-be65-429c-b144-ebc9591f2e89",
   "metadata": {},
   "outputs": [
    {
     "name": "stdout",
     "output_type": "stream",
     "text": [
      "line 1 in file_1.txt in master branch\n"
     ]
    }
   ],
   "source": [
    "!head file_1.txt"
   ]
  },
  {
   "cell_type": "code",
   "execution_count": 25,
   "id": "50d236ec-4c6a-4c4f-86b8-ff7fad3270fd",
   "metadata": {},
   "outputs": [
    {
     "name": "stdout",
     "output_type": "stream",
     "text": [
      "/workspace/git\n"
     ]
    }
   ],
   "source": [
    "# --< Limpieza del área de trabajo >-------------------------------------------\n",
    "%cd ..\n",
    "!rm -rf git-demo"
   ]
  }
 ],
 "metadata": {
  "kernelspec": {
   "display_name": "Python 3 (ipykernel)",
   "language": "python",
   "name": "python3"
  },
  "language_info": {
   "codemirror_mode": {
    "name": "ipython",
    "version": 3
   },
   "file_extension": ".py",
   "mimetype": "text/x-python",
   "name": "python",
   "nbconvert_exporter": "python",
   "pygments_lexer": "ipython3",
   "version": "3.8.10"
  }
 },
 "nbformat": 4,
 "nbformat_minor": 5
}
