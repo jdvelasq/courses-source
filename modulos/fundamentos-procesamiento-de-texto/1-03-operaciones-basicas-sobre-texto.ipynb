{
 "cells": [
  {
   "cell_type": "markdown",
   "metadata": {},
   "source": [
    "# Operaciones básicas sobre texto\n",
    "\n",
    "* *30 min* | Última modificación: Sept 22, 2020"
   ]
  },
  {
   "cell_type": "code",
   "execution_count": 1,
   "metadata": {},
   "outputs": [
    {
     "data": {
      "text/plain": [
       "Index(['DOI', 'Link', 'Abstract'], dtype='object')"
      ]
     },
     "execution_count": 1,
     "metadata": {},
     "output_type": "execute_result"
    }
   ],
   "source": [
    "##\n",
    "## Preparacion de los datos\n",
    "## \n",
    "import pandas as pd\n",
    "\n",
    "data = pd.read_csv(\n",
    "    \"https://raw.githubusercontent.com/jdvelasq/datalabs/master/datasets/scopus-abstracts.csv\",\n",
    "    sep=\",\",\n",
    "    thousands=None,\n",
    "    decimal=\".\",\n",
    "    encoding=\"utf-8\",\n",
    ")\n",
    "data.columns"
   ]
  },
  {
   "cell_type": "code",
   "execution_count": 2,
   "metadata": {},
   "outputs": [
    {
     "data": {
      "text/plain": [
       "1902"
      ]
     },
     "execution_count": 2,
     "metadata": {},
     "output_type": "execute_result"
    }
   ],
   "source": [
    "##\n",
    "## Numero de registros\n",
    "##\n",
    "len(data)"
   ]
  },
  {
   "cell_type": "code",
   "execution_count": 3,
   "metadata": {},
   "outputs": [
    {
     "data": {
      "text/plain": [
       "'Mobility is one of the fundamental requirements of human life with significant societal impacts including productivity, economy, social wellbeing, adaptation to a changing climate, and so on. Although human movements follow specific patterns during normal periods, there are limited studies on how such patterns change due to extreme events. To quantify the impacts of an extreme event to human movements, we introduce the concept of mobility resilience which is defined as the ability of a mobility system to manage shocks and return to a steady state in response to an extreme event. We present a method to detect extreme events from geo-located movement data and to measure mobility resilience and transient loss of resilience due to those events. Applying this method, we measure resilience metrics from geo-located social media data for multiple types of disasters occurred all over the world. Quantifying mobility resilience may help us to assess the higher-order socio-economic impacts of extreme events and guide policies towards developing resilient infrastructures as well as a nation’s overall disaster resilience strategies. © 2019, The Author(s).'"
      ]
     },
     "execution_count": 3,
     "metadata": {},
     "output_type": "execute_result"
    }
   ],
   "source": [
    "#\n",
    "# Ejemplo de un abstract\n",
    "#\n",
    "data.Abstract[0]"
   ]
  },
  {
   "cell_type": "code",
   "execution_count": 4,
   "metadata": {},
   "outputs": [
    {
     "data": {
      "text/plain": [
       "'Mobility is one of the fundamental requirements of human life with significant societal impacts including productivity, economy, social wellbeing, adaptation to a changing climate, and so on. Although human movements follow specific patterns during normal periods, there are limited studies on how such patterns change due to extreme events. To quantify the impacts of an extreme event to human movements, we introduce the concept of mobility resilience which is defined as the ability of a mobility system to manage shocks and return to a steady state in response to an extreme event. We present a method to detect extreme events from geo-located movement data and to measure mobility resilience and transient loss of resilience due to those events. Applying this method, we measure resilience metrics from geo-located social media data for multiple types of disasters occurred all over the world. Quantifying mobility resilience may help us to assess the higher-order socio-economic impacts of extreme events and guide policies towards developing resilient infrastructures as well as a nation’s overall disaster resilience strategies. '"
      ]
     },
     "execution_count": 4,
     "metadata": {},
     "output_type": "execute_result"
    }
   ],
   "source": [
    "##\n",
    "## Algunos abstracts tienen la marca de copyright + año + 'The Author(s).'\n",
    "## Se remueve\n",
    "##\n",
    "data['Abstract'] = data.Abstract.map(lambda w: w[0: w.find(\"\\u00a9\")], na_action='ignore')\n",
    "data.Abstract[0]"
   ]
  },
  {
   "cell_type": "code",
   "execution_count": 5,
   "metadata": {},
   "outputs": [
    {
     "data": {
      "image/png": "[encoded data removed]",
      "text/plain": [
       "<Figure size 432x288 with 1 Axes>"
      ]
     },
     "metadata": {
      "needs_background": "light"
     },
     "output_type": "display_data"
    }
   ],
   "source": [
    "##\n",
    "## Longitud de los abstracts en caracteres\n",
    "##  colores diponibles en matplotlib: https://matplotlib.org/3.1.0/gallery/color/named_colors.html\n",
    "##\n",
    "import matplotlib.pyplot as plt\n",
    "\n",
    "data.Abstract.map(lambda w: len(w), na_action=\"ignore\").plot.hist(\n",
    "    color=\"darkorange\", alpha=0.6, rwidth=0.8, edgecolor=\"k\"\n",
    ")\n",
    "\n",
    "plt.gca().spines[\"left\"].set_color(\"lightgray\")\n",
    "plt.gca().spines[\"bottom\"].set_color(\"gray\")\n",
    "plt.gca().spines[\"top\"].set_visible(False)\n",
    "plt.gca().spines[\"right\"].set_visible(False)"
   ]
  },
  {
   "cell_type": "code",
   "execution_count": 6,
   "metadata": {},
   "outputs": [
    {
     "data": {
      "image/png": "[encoded data removed]",
      "text/plain": [
       "<Figure size 432x288 with 1 Axes>"
      ]
     },
     "metadata": {
      "needs_background": "light"
     },
     "output_type": "display_data"
    }
   ],
   "source": [
    "##\n",
    "## Longitud de los abstracts en palabras\n",
    "##\n",
    "data.Abstract.map(lambda w: len(w.split()), na_action=\"ignore\").plot.hist(\n",
    "    color=\"darkorange\", alpha=0.6, rwidth=0.8, edgecolor=\"k\"\n",
    ")\n",
    "\n",
    "plt.gca().spines[\"left\"].set_color(\"lightgray\")\n",
    "plt.gca().spines[\"bottom\"].set_color(\"gray\")\n",
    "plt.gca().spines[\"top\"].set_visible(False)\n",
    "plt.gca().spines[\"right\"].set_visible(False)"
   ]
  },
  {
   "cell_type": "code",
   "execution_count": 7,
   "metadata": {},
   "outputs": [
    {
     "data": {
      "text/plain": [
       "'Mobility is one of the fundamental requirements of human life with significant societal impacts including productivity, economy, social wellbeing, adaptation to a changing climate, and so on. Although human movements follow specific patterns during normal periods, there are limited studies on how such patterns change due to extreme events. To quantify the impacts of an extreme event to human movements, we introduce the concept of mobility resilience which is defined as the ability of a mobility system to manage shocks and return to a steady state in response to an extreme event. We present a method to detect extreme events from geo-located movement data and to measure mobility resilience and transient loss of resilience due to those events. Applying this method, we measure resilience metrics from geo-located social media data for multiple types of disasters occurred all over the world. Quantifying mobility resilience may help us to assess the higher-order socio-economic impacts of extreme events and guide policies towards developing resilient infrastructures as well as a nation’s overall disaster resilience strategies. '"
      ]
     },
     "execution_count": 7,
     "metadata": {},
     "output_type": "execute_result"
    }
   ],
   "source": [
    "##\n",
    "## Palabras mas frecuentes\n",
    "##\n",
    "words = data.Abstract.copy()\n",
    "words = words.dropna()\n",
    "words = words.tolist()\n",
    "\n",
    "# Se obtiene una lista de strings\n",
    "words[0]"
   ]
  },
  {
   "cell_type": "code",
   "execution_count": 8,
   "metadata": {},
   "outputs": [
    {
     "data": {
      "text/plain": [
       "0       Mobility is one of the fundamental requirement...\n",
       "10      The tendency of people to form socially cohesi...\n",
       "54      In recent years, mobility data from smart card...\n",
       "95      The influence of urban design on economic vita...\n",
       "111     This study demonstrates the use of mobile phon...\n",
       "188     Customer profiles that include gender and age ...\n",
       "209     To measure job accessibility, person-based app...\n",
       "235     In this research, we exploit repeated parts in...\n",
       "236     Tourist flows in historical cities are continu...\n",
       "239     It is well reported that long commutes have a ...\n",
       "242     Nowadays, Location-Based Social Networks (LBSN...\n",
       "244     In the last decades, the notion that cities ar...\n",
       "251     In Latin America, shopping malls seem to offer...\n",
       "253     Traditional crime prediction models based on c...\n",
       "255     Human mobility always had a great influence on...\n",
       "257     In this paper, we follow the short-ranged Syri...\n",
       "262     Epidemic outbreaks are an important healthcare...\n",
       "263     Billions of users of mobile phones, social med...\n",
       "265     A multi-modal transportation system of a city ...\n",
       "266     Estimating revenue and business demand of a ne...\n",
       "275     Predictive models for human mobility have impo...\n",
       "582     Understanding and modeling the mobility of ind...\n",
       "587     Pokémon Go, a location-based game that uses au...\n",
       "597     Next place prediction algorithms are invaluabl...\n",
       "666     Walking is a form of active transportation wit...\n",
       "845     China’s economic reforms of 1978, which led to...\n",
       "865     Big data is among the most promising research ...\n",
       "870     Predicting human mobility flows at different s...\n",
       "886     Tourism is becoming a significant contributor ...\n",
       "891     Whenever someone makes or receives a call on a...\n",
       "894     The exploration of people’s everyday life has ...\n",
       "946     Cloud storage services have become ubiquitous....\n",
       "1056    In recent years, we have seen scientists attem...\n",
       "1061    One of the greatest concerns related to the po...\n",
       "1065    Transportation planning is strongly influenced...\n",
       "1066    Customers mobility is dependent on the sophist...\n",
       "1102    The wealth of information provided by real-tim...\n",
       "1134    Geospatial big data refers to spatial data set...\n",
       "1164    The consumerization of information technology ...\n",
       "1167    Human mobility in a city represents a fascinat...\n",
       "1169    There is an increasing trend of people leaving...\n",
       "1300    The newly released Orange D4D mobile phone dat...\n",
       "1325    This study leverages mobile phone data to anal...\n",
       "1580    The mobile cellular systems are expected to su...\n",
       "1625    In the age of mobile computing where users can...\n",
       "Name: Abstract, dtype: object"
      ]
     },
     "execution_count": 8,
     "metadata": {},
     "output_type": "execute_result"
    }
   ],
   "source": [
    "data.Abstract[data.Abstract.map(lambda w: 'mobility' in w.lower(), na_action='ignore')]"
   ]
  },
  {
   "cell_type": "code",
   "execution_count": 9,
   "metadata": {},
   "outputs": [
    {
     "data": {
      "text/plain": [
       "['Mobility',\n",
       " 'is',\n",
       " 'one',\n",
       " 'of',\n",
       " 'the',\n",
       " 'fundamental',\n",
       " 'requirements',\n",
       " 'of',\n",
       " 'human',\n",
       " 'life']"
      ]
     },
     "execution_count": 9,
     "metadata": {},
     "output_type": "execute_result"
    }
   ],
   "source": [
    "##\n",
    "## word tokenizer\n",
    "##\n",
    "from nltk.tokenize import word_tokenize\n",
    "\n",
    "tokens = data.Abstract.map(word_tokenize)\n",
    "\n",
    "# primeros 10 tokens del primer abstract\n",
    "tokens[0][:10]"
   ]
  },
  {
   "cell_type": "code",
   "execution_count": 10,
   "metadata": {},
   "outputs": [
    {
     "data": {
      "text/plain": [
       "'Mobility is one of the fundamental requirements of human life with significant societal impacts including productivity, economy, social wellbeing, adaptation to a changing climate, and so on. Although human movements follow specific patterns during normal periods, there are limited studies on how such patterns change due to extreme events. To quantify the impacts of an extreme event to human movements, we introduce the concept of mobility resilience which is defined as the ability of a mobility system to manage shocks and return to a steady state in response to an extreme event. We present a method to detect extreme events from geo-located movement data and to measure mobility resilience and transient loss of resilience due to those events. Applying this method, we measure resilience metrics from geo-located social media data for multiple types of disasters occurred all over the world. Quantifying mobility resilience may help us to assess the higher-order socio-economic impacts of extreme events and guide policies towards developing resilient infrastructures as well as a nation’s overall disaster resilience strategies. '"
      ]
     },
     "execution_count": 10,
     "metadata": {},
     "output_type": "execute_result"
    }
   ],
   "source": [
    "##\n",
    "## Collocations\n",
    "##\n",
    "import nltk \n",
    "\n",
    "# texto original\n",
    "data.Abstract[0]"
   ]
  },
  {
   "cell_type": "code",
   "execution_count": 11,
   "metadata": {},
   "outputs": [
    {
     "name": "stdout",
     "output_type": "stream",
     "text": [
      "extreme events; human movements; mobility resilience; extreme event\n"
     ]
    }
   ],
   "source": [
    "## textos que tienden a aparecer juntos \n",
    "nltk.Text(tokens[0]).collocations()"
   ]
  },
  {
   "cell_type": "code",
   "execution_count": 12,
   "metadata": {},
   "outputs": [
    {
     "data": {
      "text/plain": [
       "'Mobility is one of the fundamental requirements of human life with significant societal impacts including productivity, economy, social wellbeing, adaptation to a changing climate, and so on. Although human movements follow specific patterns during normal periods, there are limited studies on how su'"
      ]
     },
     "execution_count": 12,
     "metadata": {},
     "output_type": "execute_result"
    }
   ],
   "source": [
    "#\n",
    "# Se convierte todo el texto en un unico string\n",
    "#\n",
    "words = ' '.join(words)\n",
    "words[:300]"
   ]
  },
  {
   "cell_type": "code",
   "execution_count": 13,
   "metadata": {},
   "outputs": [
    {
     "data": {
      "text/plain": [
       "['Mobility', 'is', 'one', 'of', 'the', 'fundamental']"
      ]
     },
     "execution_count": 13,
     "metadata": {},
     "output_type": "execute_result"
    }
   ],
   "source": [
    "##\n",
    "## Se separa por palabras\n",
    "## ---> lista de palabras\n",
    "##\n",
    "words = words.split()\n",
    "words[:6]"
   ]
  },
  {
   "cell_type": "code",
   "execution_count": 14,
   "metadata": {},
   "outputs": [
    {
     "data": {
      "text/plain": [
       "['Mobility', 'is', 'one', 'of', 'the', 'fundamental']"
      ]
     },
     "execution_count": 14,
     "metadata": {},
     "output_type": "execute_result"
    }
   ],
   "source": [
    "##\n",
    "## Se remueven todas las palabras que no esten\n",
    "## compuestas por letras\n",
    "## \n",
    "import re\n",
    "\n",
    "words = [re.sub(r'[^A-Za-z]', '', w) for w in words]\n",
    "words = [w for w in words if w != '']\n",
    "words[:6]"
   ]
  },
  {
   "cell_type": "code",
   "execution_count": 15,
   "metadata": {},
   "outputs": [
    {
     "data": {
      "text/plain": [
       "['mobility', 'is', 'one', 'of', 'the', 'fundamental']"
      ]
     },
     "execution_count": 15,
     "metadata": {},
     "output_type": "execute_result"
    }
   ],
   "source": [
    "##\n",
    "## Se transforman las palabras minusculas\n",
    "##\n",
    "words = [w.lower() for w in words]\n",
    "words[:6]"
   ]
  },
  {
   "cell_type": "code",
   "execution_count": 16,
   "metadata": {},
   "outputs": [
    {
     "data": {
      "text/plain": [
       "0        True\n",
       "1       False\n",
       "2       False\n",
       "3       False\n",
       "4       False\n",
       "        ...  \n",
       "1897    False\n",
       "1898    False\n",
       "1899    False\n",
       "1900    False\n",
       "1901    False\n",
       "Name: Abstract, Length: 1902, dtype: bool"
      ]
     },
     "execution_count": 16,
     "metadata": {},
     "output_type": "execute_result"
    }
   ],
   "source": [
    "##\n",
    "## Busqueda de una palabra\n",
    "##\n",
    "data.Abstract.map(lambda w: 'mobility' in w.lower())"
   ]
  },
  {
   "cell_type": "code",
   "execution_count": 17,
   "metadata": {},
   "outputs": [
    {
     "data": {
      "text/plain": [
       "[('the', 19384),\n",
       " ('of', 12890),\n",
       " ('and', 10804),\n",
       " ('to', 8064),\n",
       " ('a', 6694),\n",
       " ('in', 6626),\n",
       " ('data', 4942),\n",
       " ('is', 4126),\n",
       " ('for', 3758),\n",
       " ('that', 3016)]"
      ]
     },
     "execution_count": 17,
     "metadata": {},
     "output_type": "execute_result"
    }
   ],
   "source": [
    "##\n",
    "## Conteo de palabras\n",
    "##   Ver https://docs.python.org/3/library/collections.html\n",
    "##\n",
    "from collections import Counter\n",
    "\n",
    "counter = Counter(words)\n",
    "counter.most_common(10)"
   ]
  },
  {
   "cell_type": "code",
   "execution_count": 18,
   "metadata": {},
   "outputs": [
    {
     "data": {
      "text/plain": [
       "[('data', 4942),\n",
       " ('paper', 1037),\n",
       " ('model', 946),\n",
       " ('using', 920),\n",
       " ('information', 907),\n",
       " ('research', 831),\n",
       " ('results', 827),\n",
       " ('analysis', 806),\n",
       " ('used', 730),\n",
       " ('based', 726)]"
      ]
     },
     "execution_count": 18,
     "metadata": {},
     "output_type": "execute_result"
    }
   ],
   "source": [
    "##\n",
    "## Se removen los stopwords\n",
    "##    pip3 install nltk\n",
    "##    nltk.download('stopwords')\n",
    "##\n",
    "import nltk\n",
    "\n",
    "STOPWORDS = nltk.corpus.stopwords.words('english')\n",
    "\n",
    "words = [w for w in words if w not in STOPWORDS]\n",
    "counter = Counter(words)\n",
    "counter.most_common(10)"
   ]
  }
 ],
 "metadata": {
  "kernelspec": {
   "display_name": "Python 3",
   "language": "python",
   "name": "python3"
  },
  "language_info": {
   "codemirror_mode": {
    "name": "ipython",
    "version": 3
   },
   "file_extension": ".py",
   "mimetype": "text/x-python",
   "name": "python",
   "nbconvert_exporter": "python",
   "pygments_lexer": "ipython3",
   "version": "3.6.9"
  }
 },
 "nbformat": 4,
 "nbformat_minor": 4
}
