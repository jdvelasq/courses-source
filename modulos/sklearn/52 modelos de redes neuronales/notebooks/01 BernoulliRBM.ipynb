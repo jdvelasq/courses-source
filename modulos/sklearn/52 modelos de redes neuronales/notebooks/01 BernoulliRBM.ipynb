{
 "cells": [
  {
   "cell_type": "markdown",
   "id": "90691024-dd67-43ff-8154-5cb4a9cda555",
   "metadata": {
    "slideshow": {
     "slide_type": "slide"
    },
    "tags": []
   },
   "source": [
    "Restricted Boltzmann machines --- 10:25 min\n",
    "===\n",
    "\n",
    "* 10:25 min | Última modificación: Septiembre 22, 2021 | [YouTube](https://youtu.be/bt8TvYkLOdU)"
   ]
  },
  {
   "cell_type": "markdown",
   "id": "97d6aec3-6b58-47ca-b043-a1ba53336936",
   "metadata": {
    "tags": []
   },
   "source": [
    "Este es un modelo de aprendizaje no supervizado (red neuronal) que permite capturar las relaciones probabilisticas entre los datos."
   ]
  },
  {
   "cell_type": "markdown",
   "id": "40331092-9de5-479c-9b42-0dc310726bf1",
   "metadata": {},
   "source": [
    "* Su arquitectura esta compuesta por dos capas: una visible (con nodos $v_i$) y una oculta (con nodos $h_j$). \n",
    "\n",
    "\n",
    "* Las entradas y las salidas son binarias {0, 1}.\n",
    "\n",
    "\n",
    "* La señal se propaga de la capa de entrada a la capa oculta como:\n",
    "\n",
    "$$\n",
    "P(h_j = 1 | \\mathbf{v})  = \\sigma \\left( \\sum_i w_{ij} \\; v_i + c_j \\right)\n",
    "$$\n",
    "\n",
    "* Luego, la señal de salida de la capa oculta se propaga a la capa de entrada como:\n",
    "\n",
    "$$\n",
    "P(v_i = 1 | \\mathbf{h})  = \\sigma \\left( \\sum_j w_{ij} \\; h_j + b_i \\right)\n",
    "$$\n",
    "\n",
    "\n",
    "* El modelo usa la función logistica para la activación de las neuronas:\n",
    "\n",
    "$$\n",
    "\\sigma(u) = \\frac{1}{1 + \\exp(-u)}\n",
    "$$"
   ]
  },
  {
   "cell_type": "markdown",
   "id": "70057de7-5c82-4043-bb97-83eb95c07565",
   "metadata": {},
   "source": [
    "![boltzman.png](assets/boltzman.png)"
   ]
  },
  {
   "cell_type": "markdown",
   "id": "dffbd10a-d6f8-4af1-ab00-eb23c0abae67",
   "metadata": {},
   "source": [
    "Esta red neuronal funciona como un **autoencoder**, donde la red apende a reproducir su salida."
   ]
  },
  {
   "cell_type": "markdown",
   "id": "fdca1dba-2609-4d79-a7ed-9990f40fe0e1",
   "metadata": {},
   "source": [
    "La función de energía de la red esta dada como:\n",
    "\n",
    "$$\n",
    "E(\\mathbf{v}, \\mathbf{h}) = - \\sum_i \\sum_j w_{ij} v_i h_j - \\sum_i b_i v_i - \\sum_j c_j h_j \n",
    "$$"
   ]
  },
  {
   "cell_type": "markdown",
   "id": "2587b30a-1764-429b-a07b-7b84c8918689",
   "metadata": {},
   "source": [
    "El térnino **restringido** se refiere a que está prohibida la intercación directa entre neuronas de la misma capa."
   ]
  },
  {
   "cell_type": "markdown",
   "id": "241f1820-c5fb-496e-a372-58eb9c65d7c6",
   "metadata": {},
   "source": [
    "En el siguiente ejemplo, esta red neuroal es usada para extraer las características no lineales de los datos."
   ]
  },
  {
   "cell_type": "code",
   "execution_count": 1,
   "id": "acab56d7-4411-4e29-86b6-fff35f48474b",
   "metadata": {},
   "outputs": [],
   "source": [
    "import numpy as np\n",
    "from sklearn.datasets import load_digits\n",
    "\n",
    "digits = load_digits(n_class=6, return_X_y=False)\n",
    "X = digits.data\n",
    "y = digits.target"
   ]
  },
  {
   "cell_type": "code",
   "execution_count": 2,
   "id": "9941f993-c880-4256-830d-0cdb6a8f8d9b",
   "metadata": {},
   "outputs": [],
   "source": [
    "from scipy.ndimage import convolve\n",
    "\n",
    "\n",
    "def nudge_dataset(X, Y):\n",
    "\n",
    "    direction_vectors = [\n",
    "        [[0, 1, 0], [0, 0, 0], [0, 0, 0]],\n",
    "        [[0, 0, 0], [1, 0, 0], [0, 0, 0]],\n",
    "        [[0, 0, 0], [0, 0, 1], [0, 0, 0]],\n",
    "        [[0, 0, 0], [0, 0, 0], [0, 1, 0]],\n",
    "    ]\n",
    "\n",
    "    def shift(x, w):\n",
    "        return convolve(x.reshape((8, 8)), mode=\"constant\", weights=w).ravel()\n",
    "\n",
    "    X = np.concatenate(\n",
    "        [X] + [np.apply_along_axis(shift, 1, X, vector) for vector in direction_vectors]\n",
    "    )\n",
    "    Y = np.concatenate([Y for _ in range(5)], axis=0)\n",
    "    return X, Y\n",
    "\n",
    "\n",
    "X = np.asarray(X, \"float32\")\n",
    "X, Y = nudge_dataset(X, y)"
   ]
  },
  {
   "cell_type": "code",
   "execution_count": 3,
   "id": "e1be350c-ceb1-43c3-9c14-440ee2f772c7",
   "metadata": {},
   "outputs": [
    {
     "data": {
      "text/plain": [
       "0.9824561403508771"
      ]
     },
     "metadata": {},
     "output_type": "display_data"
    },
    {
     "data": {
      "text/plain": [
       "0.9732225300092336"
      ]
     },
     "metadata": {},
     "output_type": "display_data"
    }
   ],
   "source": [
    "from sklearn.linear_model import LogisticRegression, LogisticRegressionCV\n",
    "from sklearn.metrics import accuracy_score\n",
    "from sklearn.model_selection import train_test_split\n",
    "from sklearn.neural_network import BernoulliRBM\n",
    "from sklearn.pipeline import Pipeline\n",
    "from sklearn.preprocessing import minmax_scale\n",
    "\n",
    "X = minmax_scale(X, feature_range=(0, 1))\n",
    "\n",
    "X_train, X_test, Y_train, Y_test = train_test_split(X, Y, test_size=0.2, random_state=0)\n",
    "\n",
    "\n",
    "rbm = Pipeline(\n",
    "    steps=[\n",
    "        (\n",
    "            \"rbm\",\n",
    "            BernoulliRBM(\n",
    "                random_state=0,\n",
    "                learning_rate=0.06,\n",
    "                n_iter=10,\n",
    "                n_components=100,\n",
    "            ),\n",
    "        ),\n",
    "        (\n",
    "            \"logistic\",\n",
    "            LogisticRegressionCV(\n",
    "                Cs=20,\n",
    "                solver=\"newton-cg\",\n",
    "                tol=1,\n",
    "            ),\n",
    "        ),\n",
    "    ]\n",
    ")\n",
    "\n",
    "rbm.fit(X_train, Y_train)\n",
    "\n",
    "\n",
    "display(\n",
    "    accuracy_score(Y_train, rbm.predict(X_train)),\n",
    "    accuracy_score(Y_test, rbm.predict(X_test)),\n",
    ")"
   ]
  },
  {
   "cell_type": "code",
   "execution_count": 4,
   "id": "ad9e4bd0-5738-43c8-bb4d-cac5d469005f",
   "metadata": {},
   "outputs": [
    {
     "data": {
      "text/plain": [
       "0.8845798707294552"
      ]
     },
     "metadata": {},
     "output_type": "display_data"
    },
    {
     "data": {
      "text/plain": [
       "0.8559556786703602"
      ]
     },
     "metadata": {},
     "output_type": "display_data"
    }
   ],
   "source": [
    "from sklearn.linear_model import LogisticRegressionCV\n",
    "\n",
    "logisticRegressionCV = LogisticRegressionCV(\n",
    "    solver=\"newton-cg\",\n",
    "    tol=1,\n",
    ")\n",
    "\n",
    "logisticRegressionCV.fit(X_train, Y_train)\n",
    "\n",
    "display(\n",
    "    accuracy_score(Y_train, logisticRegressionCV.predict(X_train)),\n",
    "    accuracy_score(Y_test, logisticRegressionCV.predict(X_test)),\n",
    ")"
   ]
  }
 ],
 "metadata": {
  "kernelspec": {
   "display_name": "Python 3",
   "language": "python",
   "name": "python3"
  },
  "language_info": {
   "codemirror_mode": {
    "name": "ipython",
    "version": 3
   },
   "file_extension": ".py",
   "mimetype": "text/x-python",
   "name": "python",
   "nbconvert_exporter": "python",
   "pygments_lexer": "ipython3",
   "version": "3.6.9"
  }
 },
 "nbformat": 4,
 "nbformat_minor": 5
}
