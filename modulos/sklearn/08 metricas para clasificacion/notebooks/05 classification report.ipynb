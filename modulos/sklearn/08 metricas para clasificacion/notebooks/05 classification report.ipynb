{
 "cells": [
  {
   "cell_type": "markdown",
   "id": "4dfd5c9b-a741-4b65-adea-7356e8287fc4",
   "metadata": {},
   "source": [
    "Classification report\n",
    "==="
   ]
  },
  {
   "cell_type": "code",
   "execution_count": 1,
   "id": "cf103404-2532-4e07-b24e-ace81fd199bf",
   "metadata": {},
   "outputs": [
    {
     "name": "stdout",
     "output_type": "stream",
     "text": [
      "              precision    recall  f1-score   support\n",
      "\n",
      "     class 0       0.67      1.00      0.80         2\n",
      "     class 1       0.00      0.00      0.00         1\n",
      "     class 2       1.00      0.50      0.67         2\n",
      "\n",
      "    accuracy                           0.60         5\n",
      "   macro avg       0.56      0.50      0.49         5\n",
      "weighted avg       0.67      0.60      0.59         5\n",
      "\n"
     ]
    }
   ],
   "source": [
    "from sklearn.metrics import classification_report\n",
    "\n",
    "y_true = [0, 1, 2, 2, 0]\n",
    "y_pred = [0, 0, 2, 1, 0]\n",
    "target_names = [\"class 0\", \"class 1\", \"class 2\"]\n",
    "\n",
    "\n",
    "text = classification_report(\n",
    "    # -------------------------------------------------------------------------\n",
    "    # Ground truth (correct) target values.\n",
    "    y_true=y_true,\n",
    "    # -------------------------------------------------------------------------\n",
    "    # Estimated targets as returned by a classifier.\n",
    "    y_pred=y_pred,\n",
    "    # -------------------------------------------------------------------------\n",
    "    # Optional list of label indices to include in the report.\n",
    "    labels=None,\n",
    "    # -------------------------------------------------------------------------\n",
    "    # Optional display names matching the labels (same order).\n",
    "    target_names=target_names,\n",
    "    # -------------------------------------------------------------------------\n",
    "    # Sample weights.\n",
    "    sample_weight=None,\n",
    "    # -------------------------------------------------------------------------\n",
    "    # Number of digits for formatting output floating point values.\n",
    "    digits=2,\n",
    "    # -------------------------------------------------------------------------\n",
    "    # If True, return output as dict.\n",
    "    output_dict=False,\n",
    ")\n",
    "\n",
    "#\n",
    "#           |  y_pred            y_true = [0, 1, 2, 2, 0]\n",
    "#           |  0  1  2           y_pred = [0, 0, 2, 1, 0]\n",
    "# ----------|-----------\n",
    "#         0 |  2  0  0\n",
    "# y_true  1 |  1  0  0\n",
    "#         2 |  0  1  1\n",
    "#\n",
    "#             precision:       recall:                      f1-score\n",
    "#           TP / (TP + FP)  TP / (TP + FN)  2 * (precision * recall) / (precision + reall) \n",
    "# class 0:    2/3 = 0.67      2/2 = 1.00       2 * 0.67 * 1.00 / (0.67 + 1.00) = 0.80\n",
    "# class 1:    0/1 = 0.00      0/1 = 0.00       2 * 0.00 * 0.00 / (0.00 + 0.00) = 0.00\n",
    "# class 2:    1/1 = 1.00      1/2 = 0.50       2 * 1.00 * 0.50 / (1.00 + 0.50) = 0.67\n",
    "#\n",
    "# accuracy = 3 / 5 = 0.60\n",
    "#\n",
    "#            macro avg                         weighted avg\n",
    "# Precision: (0.67 + 0.00 + 1.00) / 3 = 0.56   (0.67*2/5 + 0.00*1/5 + 1.00*2/5) = 0.67\n",
    "# Recall:    (1.00 + 0.00 + 0.50) / 3 = 0.50   (1.00*2/5 + 0.00*1/5 + 0.50*2/5) = 0.60\n",
    "# f1-score:  (0.80 + 0.00 + 0.67) / 3 = 0.49   (0.80*2/5 + 0.00*1/5 + 0.67*2/5) = 0.59 \n",
    "#\n",
    "print(text)"
   ]
  },
  {
   "cell_type": "code",
   "execution_count": 2,
   "id": "f2de54ed-b591-419a-82c8-022877bc8d41",
   "metadata": {},
   "outputs": [
    {
     "data": {
      "text/plain": [
       "{'class 0': {'precision': 0.6666666666666666,\n",
       "  'recall': 1.0,\n",
       "  'f1-score': 0.8,\n",
       "  'support': 2},\n",
       " 'class 1': {'precision': 0.0, 'recall': 0.0, 'f1-score': 0.0, 'support': 1},\n",
       " 'class 2': {'precision': 1.0,\n",
       "  'recall': 0.5,\n",
       "  'f1-score': 0.6666666666666666,\n",
       "  'support': 2},\n",
       " 'accuracy': 0.6,\n",
       " 'macro avg': {'precision': 0.5555555555555555,\n",
       "  'recall': 0.5,\n",
       "  'f1-score': 0.48888888888888893,\n",
       "  'support': 5},\n",
       " 'weighted avg': {'precision': 0.6666666666666666,\n",
       "  'recall': 0.6,\n",
       "  'f1-score': 0.5866666666666667,\n",
       "  'support': 5}}"
      ]
     },
     "execution_count": 2,
     "metadata": {},
     "output_type": "execute_result"
    }
   ],
   "source": [
    "classification_report(\n",
    "    y_true=y_true,\n",
    "    y_pred=y_pred,\n",
    "    target_names=target_names,\n",
    "    output_dict=True,\n",
    ")"
   ]
  }
 ],
 "metadata": {
  "kernelspec": {
   "display_name": "Python 3 (ipykernel)",
   "language": "python",
   "name": "python3"
  },
  "language_info": {
   "codemirror_mode": {
    "name": "ipython",
    "version": 3
   },
   "file_extension": ".py",
   "mimetype": "text/x-python",
   "name": "python",
   "nbconvert_exporter": "python",
   "pygments_lexer": "ipython3",
   "version": "3.8.10"
  }
 },
 "nbformat": 4,
 "nbformat_minor": 5
}
