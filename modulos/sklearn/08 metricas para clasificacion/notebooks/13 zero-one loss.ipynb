{
 "cells": [
  {
   "cell_type": "markdown",
   "id": "cba2d500-060a-44bb-a93f-8ac7cb387ad5",
   "metadata": {},
   "source": [
    "Zero one loss\n",
    "==="
   ]
  },
  {
   "cell_type": "markdown",
   "id": "0a137ec8-b2e0-4ebe-b63b-bf46a23d315c",
   "metadata": {},
   "source": [
    "* Calcula la suma o el promedio de perdida de clasificación 0-1 sobre $n_\\text{samples}$"
   ]
  },
  {
   "cell_type": "markdown",
   "id": "6c17e4dd-e2ac-4461-9d01-36be3a275877",
   "metadata": {},
   "source": [
    "* Se computa como:\n",
    "\n",
    "$$\n",
    "L_{0-1}(y, \\hat{y})=\n",
    "\\frac{1}{n_\\text{samples}}\n",
    "\\sum_{i=0}^{\\text{samples}-1}\n",
    "1(\\hat{y}_i \\ne y_i) =\n",
    "1 - \\text{accuracy}(y, \\hat{y})\n",
    "$$"
   ]
  },
  {
   "cell_type": "code",
   "execution_count": 1,
   "id": "365987fe-615c-44fe-b4a6-9bbad64d746a",
   "metadata": {},
   "outputs": [
    {
     "data": {
      "text/plain": [
       "0.25"
      ]
     },
     "execution_count": 1,
     "metadata": {},
     "output_type": "execute_result"
    }
   ],
   "source": [
    "from sklearn.metrics import zero_one_loss\n",
    "\n",
    "y_pred = [1, 2, 3, 4]\n",
    "y_true = [2, 2, 3, 4]\n",
    "\n",
    "zero_one_loss(\n",
    "    # -------------------------------------------------------------------------\n",
    "    # Ground truth (correct) target values.    \n",
    "    y_true=y_true,\n",
    "    # -------------------------------------------------------------------------\n",
    "    # Estimated targets as returned by a classifier.\n",
    "    y_pred=y_pred,\n",
    "    # -------------------------------------------------------------------------\n",
    "    # If False, return the number of misclassifications. Otherwise, return the \n",
    "    # fraction of misclassifications.\n",
    "    normalize=True,\n",
    "    # -------------------------------------------------------------------------\n",
    "    # Sample weights.\n",
    "    sample_weight=None,\n",
    "\n",
    ")"
   ]
  },
  {
   "cell_type": "code",
   "execution_count": 2,
   "id": "1dd206b3-bf0b-42c5-8d10-399e1920e282",
   "metadata": {},
   "outputs": [
    {
     "data": {
      "text/plain": [
       "1"
      ]
     },
     "execution_count": 2,
     "metadata": {},
     "output_type": "execute_result"
    }
   ],
   "source": [
    "zero_one_loss(\n",
    "    y_true,\n",
    "    y_pred,\n",
    "    normalize=False,\n",
    ")"
   ]
  }
 ],
 "metadata": {
  "kernelspec": {
   "display_name": "Python 3 (ipykernel)",
   "language": "python",
   "name": "python3"
  },
  "language_info": {
   "codemirror_mode": {
    "name": "ipython",
    "version": 3
   },
   "file_extension": ".py",
   "mimetype": "text/x-python",
   "name": "python",
   "nbconvert_exporter": "python",
   "pygments_lexer": "ipython3",
   "version": "3.8.10"
  }
 },
 "nbformat": 4,
 "nbformat_minor": 5
}
