{
 "cells": [
  {
   "cell_type": "markdown",
   "id": "3a6dedda-6348-4dd3-8691-23c8d0ef8159",
   "metadata": {},
   "source": [
    "Accuracy Score\n",
    "=="
   ]
  },
  {
   "cell_type": "markdown",
   "id": "f0c201de-253b-4863-97a8-5153a6134ee0",
   "metadata": {},
   "source": [
    "* Cómputa la cantidad o porcentaje de predicciones correctas."
   ]
  },
  {
   "cell_type": "markdown",
   "id": "75432cde-28c2-4635-895c-4628d66ef76a",
   "metadata": {},
   "source": [
    "* Se calcula como:"
   ]
  },
  {
   "cell_type": "markdown",
   "id": "cc9842d6-a57e-4755-adf0-28f9dbde96ff",
   "metadata": {},
   "source": [
    "             | Pronóstico\n",
    "             |  PP    PN\n",
    "    ---------|------------\n",
    "          P  |  TP    FN \n",
    "    Real     |\n",
    "          N  |  FP    TN "
   ]
  },
  {
   "cell_type": "markdown",
   "id": "ad438d5c-1dfa-4eb0-8657-762baa6a92bb",
   "metadata": {},
   "source": [
    "$$\n",
    "\\text{accuracy}\n",
    "=\\frac{\\text{TP} +\\text{TN}}{\\text{P} + \\text{N}}\n",
    "=\\frac{\\text{TP}+\\text{TN}}{\\text{TP}+\\text{TN}+\\text{FP}+\\text{FN}}\n",
    "$$"
   ]
  },
  {
   "cell_type": "markdown",
   "id": "cf91a9ae-5626-4181-865e-b74b4c8fe51e",
   "metadata": {},
   "source": [
    "$$\n",
    "\\text{accuracy}(y, \\hat{y})=\\frac{1}{N} \\sum_{i=0}^{N-1} 1(\\hat{y}_i = y_i)\n",
    "$$"
   ]
  },
  {
   "cell_type": "markdown",
   "id": "29b07b52-758c-4e10-81fb-d4a60971b9d0",
   "metadata": {},
   "source": [
    "donde 1($x$) es la función indicador, definida como:\n",
    "\n",
    "$$\n",
    "1_A(x)=\\left\\{\n",
    "    \\begin{array}{c l}\n",
    "        1 & \\quad \\textrm{if } x \\in A \\\\\n",
    "        0 & \\quad \\textrm{otherwise}\n",
    "    \\end{array}\n",
    "\\right.\n",
    "$$"
   ]
  },
  {
   "cell_type": "code",
   "execution_count": 1,
   "id": "07fd55f7-53b9-41bd-b8b3-24f9ee023bac",
   "metadata": {},
   "outputs": [
    {
     "data": {
      "text/plain": [
       "0.5"
      ]
     },
     "execution_count": 1,
     "metadata": {},
     "output_type": "execute_result"
    }
   ],
   "source": [
    "from sklearn.metrics import accuracy_score\n",
    "\n",
    "y_true = [0, 1, 2, 3]\n",
    "y_pred = [0, 2, 1, 3]\n",
    "\n",
    "accuracy_score(\n",
    "    # -------------------------------------------------------------------------\n",
    "    # Ground truth (correct) labels.\n",
    "    y_true=y_true,\n",
    "    # -------------------------------------------------------------------------\n",
    "    # Predicted labels, as returned by a classifier.\n",
    "    y_pred=y_pred,\n",
    "    # -------------------------------------------------------------------------\n",
    "    # If False, return the number of correctly classified samples. Otherwise,\n",
    "    # return the fraction of correctly classified samples.\n",
    "    normalize=True,\n",
    "    # -------------------------------------------------------------------------\n",
    "    # Sample weights.\n",
    "    sample_weight=None,\n",
    ")"
   ]
  },
  {
   "cell_type": "code",
   "execution_count": 2,
   "id": "d216ea9a-1724-4852-b392-14e3054e1229",
   "metadata": {},
   "outputs": [
    {
     "data": {
      "text/plain": [
       "2"
      ]
     },
     "execution_count": 2,
     "metadata": {},
     "output_type": "execute_result"
    }
   ],
   "source": [
    "accuracy_score(\n",
    "    y_true=y_true,\n",
    "    y_pred=y_pred,\n",
    "    normalize=False,\n",
    ")"
   ]
  }
 ],
 "metadata": {
  "kernelspec": {
   "display_name": "Python 3 (ipykernel)",
   "language": "python",
   "name": "python3"
  },
  "language_info": {
   "codemirror_mode": {
    "name": "ipython",
    "version": 3
   },
   "file_extension": ".py",
   "mimetype": "text/x-python",
   "name": "python",
   "nbconvert_exporter": "python",
   "pygments_lexer": "ipython3",
   "version": "3.8.10"
  }
 },
 "nbformat": 4,
 "nbformat_minor": 5
}
