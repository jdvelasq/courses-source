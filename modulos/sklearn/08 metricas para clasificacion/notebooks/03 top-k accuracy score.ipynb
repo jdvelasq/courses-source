{
 "cells": [
  {
   "cell_type": "markdown",
   "id": "3a6dedda-6348-4dd3-8691-23c8d0ef8159",
   "metadata": {},
   "source": [
    "Top-k accuracy Score\n",
    "=="
   ]
  },
  {
   "cell_type": "markdown",
   "id": "111dec07-9907-44ad-84c9-ccc9b365bd3a",
   "metadata": {},
   "source": [
    "* Es una generalización de `accuracy_score`.\n",
    "\n",
    "* La predicción es correcta si la etiqueta verdadera es asociada con uno de los $k$ scores pronosticados más altos."
   ]
  },
  {
   "cell_type": "markdown",
   "id": "cf91a9ae-5626-4181-865e-b74b4c8fe51e",
   "metadata": {},
   "source": [
    "$$\n",
    "\\text{top-k accuracy}(y, \\hat{y})=\n",
    "\\frac{1}{N} \n",
    "\\sum_{i=0}^{N-1} \n",
    "\\sum_{j=1}^k \n",
    "1(\\hat{f}_{i,j} = y_i)\n",
    "$$"
   ]
  },
  {
   "cell_type": "code",
   "execution_count": 1,
   "id": "07fd55f7-53b9-41bd-b8b3-24f9ee023bac",
   "metadata": {},
   "outputs": [
    {
     "data": {
      "text/plain": [
       "0.75"
      ]
     },
     "execution_count": 1,
     "metadata": {},
     "output_type": "execute_result"
    }
   ],
   "source": [
    "import numpy as np\n",
    "from sklearn.metrics import top_k_accuracy_score\n",
    "\n",
    "y_true = np.array([0, 1, 2, 2])\n",
    "y_score = np.array(\n",
    "    [  #   0    1    2\n",
    "        [0.5, 0.2, 0.2],  # [0, 1]: 0 is in top 2\n",
    "        [0.3, 0.4, 0.2],  # [1, 0]: 1 is in top 2\n",
    "        [0.2, 0.4, 0.3],  # [1, 2]: 2 is in top 2\n",
    "        [0.7, 0.2, 0.1],  # [0, 1]: 2 isn't in top 2\n",
    "    ]\n",
    ")\n",
    "\n",
    "top_k_accuracy_score(\n",
    "    # -------------------------------------------------------------------------\n",
    "    # Ground truth (correct) labels.\n",
    "    y_true=y_true,\n",
    "    # -------------------------------------------------------------------------\n",
    "    # Target scores. These can be either probability estimates or\n",
    "    # non-thresholded decision values\n",
    "    y_score=y_score,\n",
    "    # -------------------------------------------------------------------------\n",
    "    # Number of most likely outcomes considered to find the correct label.\n",
    "    k=2,\n",
    "    # -------------------------------------------------------------------------\n",
    "    # If True, return the fraction of correctly classified samples. Otherwise,\n",
    "    # return the number of correctly classified samples.\n",
    "    normalize=True,\n",
    "    # -------------------------------------------------------------------------\n",
    "    # Sample weights.\n",
    "    sample_weight=None,\n",
    "    # -------------------------------------------------------------------------\n",
    "    # Multiclass only. List of labels that index the classes in y_score.\n",
    "    labels=None,\n",
    ")"
   ]
  },
  {
   "cell_type": "code",
   "execution_count": 2,
   "id": "d216ea9a-1724-4852-b392-14e3054e1229",
   "metadata": {},
   "outputs": [
    {
     "data": {
      "text/plain": [
       "3"
      ]
     },
     "execution_count": 2,
     "metadata": {},
     "output_type": "execute_result"
    }
   ],
   "source": [
    "top_k_accuracy_score(\n",
    "    y_true,\n",
    "    y_score,\n",
    "    k=2,\n",
    "    normalize=False,\n",
    ")"
   ]
  }
 ],
 "metadata": {
  "kernelspec": {
   "display_name": "Python 3 (ipykernel)",
   "language": "python",
   "name": "python3"
  },
  "language_info": {
   "codemirror_mode": {
    "name": "ipython",
    "version": 3
   },
   "file_extension": ".py",
   "mimetype": "text/x-python",
   "name": "python",
   "nbconvert_exporter": "python",
   "pygments_lexer": "ipython3",
   "version": "3.8.10"
  }
 },
 "nbformat": 4,
 "nbformat_minor": 5
}
