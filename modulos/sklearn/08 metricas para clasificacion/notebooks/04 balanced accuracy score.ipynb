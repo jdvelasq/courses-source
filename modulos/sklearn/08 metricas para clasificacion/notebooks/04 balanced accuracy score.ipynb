{
 "cells": [
  {
   "cell_type": "markdown",
   "id": "43a1495e-606f-4815-8d78-97bc2286a5c9",
   "metadata": {},
   "source": [
    "Balanced Accuracy Score\n",
    "==="
   ]
  },
  {
   "cell_type": "markdown",
   "id": "a6bef678-5821-49e8-8685-4d09272b6e14",
   "metadata": {},
   "source": [
    "* Esta métrica permite corregir cómputos erroneos sobre la precisión de un clasificador cuando las clases están imbalanceadas."
   ]
  },
  {
   "cell_type": "markdown",
   "id": "c2067de2-f485-4e59-8480-c5d4afafda90",
   "metadata": {},
   "source": [
    "* Cuando la muestra está balanceada equivale a la métrica `accuracy`."
   ]
  },
  {
   "cell_type": "markdown",
   "id": "f88839c8-3318-4355-9e96-273a70391cc9",
   "metadata": {},
   "source": [
    "* Esta medida es facilmente interpretada a partir de la matriz de confusión en el **caso binario** y es igual a:\n",
    "\n",
    "    * La media aritmética de la sensibilidad (True Positive Rate) y la especificidad (True Negative Rate).\n",
    "\n",
    "    * El area bajo la curva ROC con predicciones binarias en vez de scores."
   ]
  },
  {
   "cell_type": "markdown",
   "id": "7a5cb1d7-d2a7-4b6a-83dc-d24cc7dc1ad1",
   "metadata": {},
   "source": [
    "             | Pronóstico\n",
    "             |  PP    PN\n",
    "    ---------|------------\n",
    "          P  |  TP    FN \n",
    "    Real     |\n",
    "          N  |  FP    TN "
   ]
  },
  {
   "cell_type": "markdown",
   "id": "35b7d47b-0c45-48b5-b698-51fc9fce3df2",
   "metadata": {},
   "source": [
    "$$\n",
    "\\text{balanced_accuracy} = \n",
    "\\frac{1}{2} \n",
    "\\left(\n",
    "\\frac{\\text{TP}}{\\text{P}} \n",
    "+\n",
    "\\frac{\\text{TN}}{\\text{N}}\n",
    "\\right)\n",
    "=\n",
    "\\frac{1}{2}\n",
    "\\left(\n",
    "\\frac{\\text{TP}}{\\text{TP}+\\text{FN}}\n",
    "+\n",
    "\\frac{\\text{TN}}{\\text{TN}+\\text{FP}}\n",
    "\\right)\n",
    "=\n",
    "\\frac{1}{2}\n",
    "\\left(\n",
    "\\text{TPR} + \\text{TNR}\n",
    "\\right)\n",
    "$$"
   ]
  },
  {
   "cell_type": "code",
   "execution_count": 1,
   "id": "cca1cc93-1915-490f-86cf-7d78cbe21ce4",
   "metadata": {},
   "outputs": [
    {
     "data": {
      "text/plain": [
       "0.8"
      ]
     },
     "execution_count": 1,
     "metadata": {},
     "output_type": "execute_result"
    }
   ],
   "source": [
    "from sklearn.metrics import accuracy_score, balanced_accuracy_score\n",
    "\n",
    "y_true = [1, 1, 1, 0, 0, 0, 0, 0, 0, 0, 0, 0, 0, 0, 0]\n",
    "y_pred = [0, 0, 0, 0, 0, 0, 0, 0, 0, 0, 0, 0, 0, 0, 0]\n",
    "\n",
    "accuracy_score(\n",
    "    y_true,\n",
    "    y_pred,\n",
    ")"
   ]
  },
  {
   "cell_type": "code",
   "execution_count": 2,
   "id": "56c48224-bf02-4c85-9af3-90fb01b5126d",
   "metadata": {},
   "outputs": [
    {
     "data": {
      "text/plain": [
       "0.5"
      ]
     },
     "execution_count": 2,
     "metadata": {},
     "output_type": "execute_result"
    }
   ],
   "source": [
    "balanced_accuracy_score(\n",
    "    # -------------------------------------------------------------------------\n",
    "    # Ground truth (correct) labels.\n",
    "    y_true=y_true,\n",
    "    # -------------------------------------------------------------------------\n",
    "    # Predicted labels, as returned by a classifier.\n",
    "    y_pred=y_pred,\n",
    "    # -------------------------------------------------------------------------\n",
    "    # Sample weights.\n",
    "    sample_weight=None,\n",
    "    # -------------------------------------------------------------------------\n",
    "    # When true, the result is adjusted for chance, so that random performance \n",
    "    # would score 0, while keeping perfect performance at a score of 1.\n",
    "    adjusted=False,\n",
    ")"
   ]
  },
  {
   "cell_type": "markdown",
   "id": "395d32fe-c120-415f-bdcb-bf706f26b133",
   "metadata": {},
   "source": [
    "* La versión implementada equivale a `accuracy_score` con pesos balanceados por clase."
   ]
  },
  {
   "cell_type": "markdown",
   "id": "1fb38d98-8bb2-4086-97ec-4ab47179dbd3",
   "metadata": {},
   "source": [
    "* Si la precisión convencional está por encima del azar solo porque el clasificador aprovecha un conjunto de prueba desequilibrado, entonces la precisión equilibrada, según corresponda, se reducirá a:\n",
    "\n",
    "$$\n",
    "\\frac{1}{N_{\\text{clases}}}\n",
    "$$"
   ]
  },
  {
   "cell_type": "code",
   "execution_count": 3,
   "id": "00862ae0-bf41-433b-9e91-c154e2d04914",
   "metadata": {},
   "outputs": [
    {
     "data": {
      "text/plain": [
       "0.3333333333333333"
      ]
     },
     "execution_count": 3,
     "metadata": {},
     "output_type": "execute_result"
    }
   ],
   "source": [
    "y_true = [1, 2, 2, 0, 0, 0, 0, 0, 0, 0, 0, 0, 0, 0, 0]\n",
    "y_pred = [0, 0, 0, 0, 0, 0, 0, 0, 0, 0, 0, 0, 0, 0, 0]\n",
    "\n",
    "balanced_accuracy_score(\n",
    "    y_true=y_true,\n",
    "    y_pred=y_pred,\n",
    ")"
   ]
  },
  {
   "cell_type": "markdown",
   "id": "0cc2d436-f748-408d-9e34-e122eca59e3f",
   "metadata": {},
   "source": [
    "* Los scores van de 0 a 1 para `adjusted=False`."
   ]
  },
  {
   "cell_type": "code",
   "execution_count": 4,
   "id": "ea463050-3770-45ea-a278-73b34467f535",
   "metadata": {},
   "outputs": [
    {
     "data": {
      "text/plain": [
       "0.0"
      ]
     },
     "execution_count": 4,
     "metadata": {},
     "output_type": "execute_result"
    }
   ],
   "source": [
    "y_true = [1, 2, 2, 0, 0, 0, 0, 0, 0, 0, 0, 0, 0, 0, 0]\n",
    "y_pred = [0, 0, 0, 1, 1, 1, 1, 1, 1, 1, 1, 1, 1, 1, 1]\n",
    "\n",
    "balanced_accuracy_score(\n",
    "    y_true=y_true,\n",
    "    y_pred=y_pred,\n",
    ")"
   ]
  },
  {
   "cell_type": "markdown",
   "id": "a67d91f5-adf9-4cb1-83e5-3e83ddb06206",
   "metadata": {},
   "source": [
    "* Los scores se reescalan al rango\n",
    "$$\n",
    "\\frac{1}{1-N_\\text{clases}}\n",
    "$$\n",
    "y 1.0, con desempeño 0 para el scoring aleatorio "
   ]
  },
  {
   "cell_type": "code",
   "execution_count": 5,
   "id": "5e4ef642-bd9e-4c01-bfca-3d98b43097a5",
   "metadata": {},
   "outputs": [
    {
     "data": {
      "text/plain": [
       "0.3333333333333333"
      ]
     },
     "execution_count": 5,
     "metadata": {},
     "output_type": "execute_result"
    }
   ],
   "source": [
    "y_true = [1, 1, 2, 2, 0, 0, 0, 0, 0, 0, 0, 0, 0, 0, 0]\n",
    "y_pred = [0, 0, 0, 0, 0, 0, 0, 0, 0, 0, 0, 0, 0, 0, 0]\n",
    "\n",
    "balanced_accuracy_score(\n",
    "    y_true=y_true,\n",
    "    y_pred=y_pred,\n",
    "    adjusted=False,\n",
    ")"
   ]
  },
  {
   "cell_type": "code",
   "execution_count": 6,
   "id": "5ed0128b-8cb3-4c46-a8b0-950063e3c55f",
   "metadata": {},
   "outputs": [
    {
     "data": {
      "text/plain": [
       "0.0"
      ]
     },
     "execution_count": 6,
     "metadata": {},
     "output_type": "execute_result"
    }
   ],
   "source": [
    "balanced_accuracy_score(\n",
    "    y_true=y_true,\n",
    "    y_pred=y_pred,\n",
    "    adjusted=True,\n",
    ")"
   ]
  },
  {
   "cell_type": "code",
   "execution_count": 7,
   "id": "b216d95e-1d50-4a15-bc60-902faac5ea30",
   "metadata": {},
   "outputs": [
    {
     "data": {
      "text/plain": [
       "-0.49999999999999994"
      ]
     },
     "execution_count": 7,
     "metadata": {},
     "output_type": "execute_result"
    }
   ],
   "source": [
    "y_true = [1, 2, 2, 0, 0, 0, 0, 0, 0, 0, 0, 0, 0, 0, 0]\n",
    "y_pred = [0, 0, 0, 1, 1, 1, 1, 1, 1, 1, 1, 1, 1, 1, 1]\n",
    "\n",
    "balanced_accuracy_score(\n",
    "    y_true=y_true,\n",
    "    y_pred=y_pred,\n",
    "    adjusted=True,\n",
    ")"
   ]
  },
  {
   "cell_type": "markdown",
   "id": "a79b96d9-b3ef-4d08-b836-b0bf25affcc0",
   "metadata": {},
   "source": [
    "* Si $y_i$ es el valor verdadero de la $i$-ésima muestra, y $w_i$ es su peso, entonces el peso de la $i$-ésima muestra se ajusta como:\n",
    "\n",
    "$$\n",
    "\\hat{w}_i = \n",
    "\\frac{w_i}\n",
    "{\\sum_j 1(y_j=y_i)w_j}\n",
    "$$"
   ]
  },
  {
   "cell_type": "markdown",
   "id": "72c45fa5-5fcc-4a7b-b42a-8dbdae90a597",
   "metadata": {},
   "source": [
    "* Si $\\hat{y}_i$ es el valor pronósticado para la $i$-ésima muestra, entonces la función de scoring es definida como:\n",
    "\n",
    "$$\n",
    "\\text{balanced_accuracy} = \n",
    "\\frac{1}{\\sum \\hat{w}_i}\n",
    "\\sum_i 1(\\hat{y}_i=y_i)\\hat{w}_i\n",
    "$$"
   ]
  }
 ],
 "metadata": {
  "kernelspec": {
   "display_name": "Python 3 (ipykernel)",
   "language": "python",
   "name": "python3"
  },
  "language_info": {
   "codemirror_mode": {
    "name": "ipython",
    "version": 3
   },
   "file_extension": ".py",
   "mimetype": "text/x-python",
   "name": "python",
   "nbconvert_exporter": "python",
   "pygments_lexer": "ipython3",
   "version": "3.8.10"
  }
 },
 "nbformat": 4,
 "nbformat_minor": 5
}
