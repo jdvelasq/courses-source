{
 "cells": [
  {
   "cell_type": "markdown",
   "id": "8c246c9c-052a-4e5e-8755-ddf4adc3f4f2",
   "metadata": {},
   "source": [
    "Matthews correlation coefficient\n",
    "==="
   ]
  },
  {
   "cell_type": "markdown",
   "id": "d2feab7f-af36-44b5-8c8c-ca3561f25e34",
   "metadata": {},
   "source": [
    "* Es una medida de la calidad de la clasificación binaria que tiene en cuenta falsos positivos y falsos negativos que es robusta ante clases muy desbalanceadas."
   ]
  },
  {
   "cell_type": "markdown",
   "id": "e7d068b2-546e-4447-9a60-e076d91d65ce",
   "metadata": {},
   "source": [
    "* Varia entre $-1$ y $+1$."
   ]
  },
  {
   "cell_type": "markdown",
   "id": "0aa9c103-6aa8-4a66-a6d5-41b7b4158f2e",
   "metadata": {},
   "source": [
    "* Interpretación:\n",
    "\n",
    "    * $+1$ indica predicción perfecta.\n",
    "    \n",
    "    * $0$ indica predicción aleatoria promedio.\n",
    "    \n",
    "    * $-1$ indica predicción inversa."
   ]
  },
  {
   "cell_type": "markdown",
   "id": "96449f0b-d651-4815-a7e0-b539ca8c99f9",
   "metadata": {},
   "source": [
    "* Se computa como:\n",
    "\n",
    "$$\n",
    "\\text{MCC} = \n",
    "\\frac{\\text{TP} \\times \\text{TN} - \\text{FP} \\times \\text{FN}}\n",
    "{\\sqrt{\n",
    "    (\\text{TP} + \\text{FP})\n",
    "    (\\text{FP} + \\text{TN})\n",
    "    (\\text{TP} + \\text{FN})\n",
    "    (\\text{FN} + \\text{TN})\n",
    "}}\n",
    "$$"
   ]
  },
  {
   "cell_type": "code",
   "execution_count": 1,
   "id": "5d68bc43-0550-4940-b18f-6681d5d1b3b2",
   "metadata": {},
   "outputs": [
    {
     "data": {
      "text/plain": [
       "-0.3333333333333333"
      ]
     },
     "execution_count": 1,
     "metadata": {},
     "output_type": "execute_result"
    }
   ],
   "source": [
    "from sklearn.metrics import matthews_corrcoef\n",
    "\n",
    "y_true = [+1, +1, +1, -1]\n",
    "y_pred = [+1, -1, +1, +1]\n",
    "\n",
    "#           |  y_pred\n",
    "#           |  +1  -1\n",
    "# ----------|-----------     |-------- \n",
    "#        +1 |   2  1         | TP  FN\n",
    "# y_true    |                |\n",
    "#        -1 |   1  0         | FP  TN\n",
    "#\n",
    "#                        2 * 0 - 1 * 1                              -1\n",
    "#     MCC = --------------------------------------------- = -------------------\n",
    "#            sqrt((2 + 1) * (1 + 0) * (2 + 1) * (1 + 0))    sqrt(3 * 1 * 3 * 1)\n",
    "#\n",
    "#              -1          1\n",
    "#         = --------- = - ---\n",
    "#            sqrt(9)       3\n",
    "#\n",
    "matthews_corrcoef(\n",
    "    # -------------------------------------------------------------------------\n",
    "    # Ground truth (correct) target values.    \n",
    "    y_true=y_true,\n",
    "    # -------------------------------------------------------------------------\n",
    "    # Estimated targets as returned by a classifier.\n",
    "    y_pred=y_pred,\n",
    "    # -------------------------------------------------------------------------\n",
    "    # Sample weights.\n",
    "    sample_weight=None,\n",
    ")"
   ]
  }
 ],
 "metadata": {
  "kernelspec": {
   "display_name": "Python 3 (ipykernel)",
   "language": "python",
   "name": "python3"
  },
  "language_info": {
   "codemirror_mode": {
    "name": "ipython",
    "version": 3
   },
   "file_extension": ".py",
   "mimetype": "text/x-python",
   "name": "python",
   "nbconvert_exporter": "python",
   "pygments_lexer": "ipython3",
   "version": "3.8.10"
  }
 },
 "nbformat": 4,
 "nbformat_minor": 5
}
