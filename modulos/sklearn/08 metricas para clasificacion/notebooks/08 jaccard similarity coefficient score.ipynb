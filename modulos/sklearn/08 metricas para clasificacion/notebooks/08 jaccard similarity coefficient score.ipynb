{
 "cells": [
  {
   "cell_type": "markdown",
   "id": "a785931b-af40-45ff-be06-c08d856ce163",
   "metadata": {},
   "source": [
    "Jaccard similarity coefficient score\n",
    "==="
   ]
  },
  {
   "cell_type": "markdown",
   "id": "9e9c7fea-76aa-4dc7-924e-d12030e6042d",
   "metadata": {},
   "source": [
    "* Esta función computa el promedio de los coeficientes de similaridad de Jaccard (o índice de Jaccard) entre pares de conjuntos de etiquetas."
   ]
  },
  {
   "cell_type": "markdown",
   "id": "de3943b9-4da7-4a03-ac49-4cd93017b906",
   "metadata": {},
   "source": [
    "* Se calcula como: \n",
    "$$\n",
    "J(y, \\hat{y}) = \n",
    "\\frac{|y \\cup \\hat{y}|}\n",
    "{|y \\cap \\hat{y}|}\n",
    "$$\n",
    "donde:\n",
    "\n",
    "    * $y$ es el conjunto de etiquetas observadas.\n",
    "    \n",
    "    * $\\hat{y}$ es el conjunto de etiquedas pronosticadas.\n",
    "   "
   ]
  },
  {
   "cell_type": "markdown",
   "id": "0a99c0a0-977a-43fe-8d99-7240f5ad6a03",
   "metadata": {},
   "source": [
    "* Esta medida se aplica a problemas binarios."
   ]
  },
  {
   "cell_type": "markdown",
   "id": "1a79751a-d130-4840-9894-6b97bb3cf4f3",
   "metadata": {},
   "source": [
    "* Puede extenderse a problemas de múltiples etiquetas o múltiples clases usando el promedio."
   ]
  },
  {
   "cell_type": "markdown",
   "id": "91a805a5-2d8a-439e-8b0a-6b2abe7c38da",
   "metadata": {},
   "source": [
    "Caso base binario\n",
    "---"
   ]
  },
  {
   "cell_type": "code",
   "execution_count": 1,
   "id": "688b17ef-68a1-4fc2-8fcd-22fe8248fd9f",
   "metadata": {},
   "outputs": [
    {
     "data": {
      "text/plain": [
       "0.3333333333333333"
      ]
     },
     "execution_count": 1,
     "metadata": {},
     "output_type": "execute_result"
    }
   ],
   "source": [
    "import numpy as np\n",
    "from sklearn.metrics import jaccard_score\n",
    "\n",
    "y_true = [0, 1, 1]\n",
    "y_pred = [1, 1, 0]\n",
    "\n",
    "#           | y_pred\n",
    "#           | 1    0\n",
    "#   --------|--------  |---------\n",
    "#         1 | 1    1   | TP   FN             TP             1\n",
    "#   y_true  |          |            J = ------------ = ----------- = 0.33\n",
    "#         0 | 1    0   | FP   TN        TP + FN + FP    1 + 1 + 1\n",
    "#\n",
    "jaccard_score(\n",
    "    # -------------------------------------------------------------------------\n",
    "    # Recibe los mismos parámetros de las métricas anteriores\n",
    "    # -------------------------------------------------------------------------\n",
    "    y_true=y_true,\n",
    "    y_pred=y_pred,\n",
    "    labels=None,\n",
    "    pos_label=1,\n",
    "    average=\"binary\",\n",
    "    sample_weight=None,\n",
    "    zero_division=\"warn,\",\n",
    ")"
   ]
  },
  {
   "cell_type": "markdown",
   "id": "916dd5dc-b586-4db3-9eb7-fff8ebccbfd0",
   "metadata": {},
   "source": [
    "Multiples etiquetas (average=\"samples\")\n",
    "---"
   ]
  },
  {
   "cell_type": "code",
   "execution_count": 2,
   "id": "87a937d0-9e9b-48f4-9215-ab61be7f30df",
   "metadata": {},
   "outputs": [
    {
     "data": {
      "text/plain": [
       "0.5833333333333333"
      ]
     },
     "execution_count": 2,
     "metadata": {},
     "output_type": "execute_result"
    }
   ],
   "source": [
    "y_true = np.array([[0, 1, 1], [1, 1, 0]])\n",
    "y_pred = np.array([[1, 1, 1], [1, 0, 0]])\n",
    "\n",
    "#                                | y_pred\n",
    "# y_true[0] = [0, 1, 1]          | 1    0\n",
    "# y_pred[0] = [1, 1, 1]  --------|--------  |---------\n",
    "#                              1 | 2    0   | TP   FN             2\n",
    "#                        y_true  |          |            J = ----------- = 2/3\n",
    "#                              0 | 1    0   | FP   TN         2 + 1 + 0\n",
    "#\n",
    "#                                | y_pred\n",
    "# y_true[1] = [1, 1, 0]          | 1    0\n",
    "# y_pred[1] = [1, 0, 0]  --------|--------  |---------\n",
    "#                              1 | 1    1   | TP   FN             1\n",
    "#                        y_true  |          |            J = ----------- = 1/2\n",
    "#                              0 | 0    1   | FP   TN         1 + 0 + 1\n",
    "#\n",
    "# (2/3 + 1/2) / 2 = (4/6 + 3/6) / 2 = 7/12 = 0.58333...\n",
    "#\n",
    "jaccard_score(y_true, y_pred, average=\"samples\")"
   ]
  },
  {
   "cell_type": "markdown",
   "id": "c6758487-1aab-405b-8f77-f5da6d080ea8",
   "metadata": {},
   "source": [
    "Multiples etiquetas (average=None)\n",
    "---"
   ]
  },
  {
   "cell_type": "code",
   "execution_count": 5,
   "id": "4f646bf8-f87c-40e7-ae63-0c2fc36c6e8e",
   "metadata": {},
   "outputs": [
    {
     "data": {
      "text/plain": [
       "array([0.5, 0.5, 1. ])"
      ]
     },
     "execution_count": 5,
     "metadata": {},
     "output_type": "execute_result"
    }
   ],
   "source": [
    "#\n",
    "#                   A  B  C    A  B  C\n",
    "y_true = np.array([[0, 1, 1], [1, 1, 0]])\n",
    "y_pred = np.array([[1, 1, 1], [1, 0, 0]])\n",
    "#\n",
    "#             Patrones   Matriz de      Jaccard\n",
    "#                        confusion\n",
    "# Label A:      0 1         1 0         1 / (1 + 1 + 0) = 1/2\n",
    "#               1 1         1 0\n",
    "#\n",
    "# Label B:      1 1         1 1         1 / (1 + 0 + 1) = 1/2\n",
    "#               1 0         0 0\n",
    "#\n",
    "# Label C:      1 0         1 0         1 / (1 + 0 + 0) = 1\n",
    "#               1 0         0 1\n",
    "#\n",
    "jaccard_score(y_true, y_pred, average=None)"
   ]
  },
  {
   "cell_type": "markdown",
   "id": "2aede93a-8bac-4004-9c1f-fbd8cff30d33",
   "metadata": {},
   "source": [
    "Multiples etiquetas (average=\"macro\")\n",
    "---"
   ]
  },
  {
   "cell_type": "code",
   "execution_count": 3,
   "id": "dc00ace3-77a4-4463-a935-7c6962f25681",
   "metadata": {},
   "outputs": [
    {
     "data": {
      "text/plain": [
       "0.6666666666666666"
      ]
     },
     "execution_count": 3,
     "metadata": {},
     "output_type": "execute_result"
    }
   ],
   "source": [
    "#\n",
    "#                   A  B  C    A  B  C\n",
    "y_true = np.array([[0, 1, 1], [1, 1, 0]])\n",
    "y_pred = np.array([[1, 1, 1], [1, 0, 0]])\n",
    "#\n",
    "#             Patrones   Matriz de      Jaccard\n",
    "#                        confusion\n",
    "# Label A:      0 1         1 0         1 / (1 + 1 + 0) = 1/2\n",
    "#               1 1         1 0\n",
    "#\n",
    "# Label B:      1 1         1 1         1 / (1 + 0 + 1) = 1/2\n",
    "#               1 0         0 0\n",
    "#\n",
    "# Label C:      1 0         1 0         1 / (1 + 0 + 0) = 1\n",
    "#               1 0         0 1\n",
    "#\n",
    "# macro -> (1/2 + 1/2 + 1) / 3 = 2/3\n",
    "#\n",
    "jaccard_score(y_true, y_pred, average=\"macro\")"
   ]
  },
  {
   "cell_type": "markdown",
   "id": "134ad38e-733a-405a-a524-22fd2b59336f",
   "metadata": {},
   "source": [
    "Multiples etiquetas (average=\"micro\")\n",
    "---"
   ]
  },
  {
   "cell_type": "code",
   "execution_count": 4,
   "id": "37dee356-66c6-4194-b2b3-50c0d96d5171",
   "metadata": {},
   "outputs": [
    {
     "data": {
      "text/plain": [
       "0.6"
      ]
     },
     "execution_count": 4,
     "metadata": {},
     "output_type": "execute_result"
    }
   ],
   "source": [
    "#\n",
    "#                   A  B  C    A  B  C\n",
    "y_true = np.array([[0, 1, 1], [1, 1, 0]])\n",
    "y_pred = np.array([[1, 1, 1], [1, 0, 0]])\n",
    "#\n",
    "#             Patrones   Matriz de     Num           Den\n",
    "#                        confusion\n",
    "# Label A:      0 1         1 0         1        (1 + 1 + 0) = 2\n",
    "#               1 1         1 0\n",
    "#\n",
    "# Label B:      1 1         1 1         1        (1 + 0 + 1) = 2\n",
    "#               1 0         0 0\n",
    "#\n",
    "# Label C:      1 0         1 0         1        (1 + 0 + 0) = 1\n",
    "#               1 0         0 1\n",
    "#                                   ---------      ----------\n",
    "#                        Jaccard = (1 + 1 + 1)  /  (2 + 2 + 1) = 3/5 = 0.6\n",
    "#\n",
    "jaccard_score(y_true, y_pred, average=\"micro\")"
   ]
  },
  {
   "cell_type": "markdown",
   "id": "537317dc-cd1b-417f-9d47-45e50fb3e13b",
   "metadata": {},
   "source": [
    "Problemas multiclase (average=None)\n",
    "---"
   ]
  },
  {
   "cell_type": "code",
   "execution_count": 6,
   "id": "13e24a2f-2239-4a69-8178-3289a4b020a9",
   "metadata": {},
   "outputs": [
    {
     "data": {
      "text/plain": [
       "array([1.        , 0.        , 0.33333333])"
      ]
     },
     "execution_count": 6,
     "metadata": {},
     "output_type": "execute_result"
    }
   ],
   "source": [
    "#\n",
    "# Clases: 0, 1, 2\n",
    "#\n",
    "y_pred = [0, 2, 1, 2]\n",
    "y_true = [0, 1, 2, 2]\n",
    "#\n",
    "#                           clase  matriz de  jaccard\n",
    "#           |  y_pred              confusion\n",
    "#           | 0  1  2       --------------------------------------\n",
    "# ----------|---------      0      1 0        1 / (1 + 0 + 0) = 1\n",
    "#         0 | 1  0  0              0 3\n",
    "# y_true  1 | 0  0  1\n",
    "#         2 | 0  1  1       1      0 1        0 / (0 + 1 + 1) = 0\n",
    "#                                  1 2\n",
    "#\n",
    "#                           2      1 1        1 / (1 + 1 + 1) = 1/3\n",
    "#                                  1 1\n",
    "#\n",
    "jaccard_score(y_true, y_pred, average=None)"
   ]
  },
  {
   "cell_type": "markdown",
   "id": "17dc6e2b-13aa-4f7c-ad64-cc7c275157e2",
   "metadata": {},
   "source": [
    "Problemas multiclase (average=\"macro\")\n",
    "---"
   ]
  },
  {
   "cell_type": "code",
   "execution_count": 7,
   "id": "9a607ef5-2edd-4cc1-aa57-8aea64a398a9",
   "metadata": {},
   "outputs": [
    {
     "data": {
      "text/plain": [
       "0.4444444444444444"
      ]
     },
     "execution_count": 7,
     "metadata": {},
     "output_type": "execute_result"
    }
   ],
   "source": [
    "#\n",
    "#                           clase  matriz de  jaccard\n",
    "#           |  y_pred              confusion\n",
    "#           | 0  1  2       --------------------------------------\n",
    "# ----------|---------      0      1 0        1 / (1 + 0 + 0) = 1\n",
    "#         0 | 1  0  0              0 3\n",
    "# y_true  1 | 0  0  1\n",
    "#         2 | 0  1  1       1      0 1        0 / (0 + 1 + 1) = 0\n",
    "#                                  1 2\n",
    "#\n",
    "#                           2      1 1        1 / (1 + 1 + 1) = 1/3\n",
    "#                                  1 1\n",
    "#\n",
    "# jaccard = (1 + 0 + 1/3) / 3 = 4/9 = 0.44...\n",
    "#\n",
    "jaccard_score(y_true, y_pred, average=\"macro\")"
   ]
  },
  {
   "cell_type": "code",
   "execution_count": 8,
   "id": "422fdac1-c0ae-495b-a671-cb5b4ee2f61b",
   "metadata": {},
   "outputs": [
    {
     "data": {
      "text/plain": [
       "0.3333333333333333"
      ]
     },
     "execution_count": 8,
     "metadata": {},
     "output_type": "execute_result"
    }
   ],
   "source": [
    "#\n",
    "#                           clase  matriz de  num  den\n",
    "#           |  y_pred              confusion\n",
    "#           | 0  1  2       --------------------------------------\n",
    "# ----------|---------      0      1 0        1    (1 + 0 + 0) = 1\n",
    "#         0 | 1  0  0              0 3\n",
    "# y_true  1 | 0  0  1\n",
    "#         2 | 0  1  1       1      0 1        0    (0 + 1 + 1) = 2\n",
    "#                                  1 2\n",
    "#\n",
    "#                           2      1 1        1    (1 + 1 + 1) = 3\n",
    "#                                  1 1\n",
    "#                                        --------------------------\n",
    "#                                         (1 + 0 + 1) / (1 + 2 + 3) = 2/6\n",
    "#\n",
    "jaccard_score(y_true, y_pred, average=\"micro\")"
   ]
  }
 ],
 "metadata": {
  "kernelspec": {
   "display_name": "Python 3 (ipykernel)",
   "language": "python",
   "name": "python3"
  },
  "language_info": {
   "codemirror_mode": {
    "name": "ipython",
    "version": 3
   },
   "file_extension": ".py",
   "mimetype": "text/x-python",
   "name": "python",
   "nbconvert_exporter": "python",
   "pygments_lexer": "ipython3",
   "version": "3.8.10"
  }
 },
 "nbformat": 4,
 "nbformat_minor": 5
}
