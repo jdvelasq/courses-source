{
 "cells": [
  {
   "cell_type": "markdown",
   "id": "9f757b92-3b1f-48ca-ba05-543cf8166fec",
   "metadata": {
    "tags": []
   },
   "source": [
    "Receiver operating characteristic\n",
    "==="
   ]
  },
  {
   "cell_type": "markdown",
   "id": "14c92362-f83d-4366-a8de-23e798c18011",
   "metadata": {},
   "source": [
    "![curva_roc.png](assets/curva_roc.png)"
   ]
  },
  {
   "cell_type": "markdown",
   "id": "4bf35431-dd00-4be3-a2c9-be5e860db6c1",
   "metadata": {},
   "source": [
    "Es una gráfica que compara el desempeño de un clasificador binario cuando se varia la frontera de decisión. La curva se construye al graficar la tasa de verdaderos positivos (TPR, sensibilidad o recall), en el eje Y, vs la tasa de falsos positivos (FPR), en el eje X, al variar la frontera de decisión del clasificador."
   ]
  },
  {
   "cell_type": "markdown",
   "id": "81fcb347-54ba-405d-a0b8-ee5aab110a9f",
   "metadata": {},
   "source": [
    "Es decir, se expresa la TPR como una función de la FPR."
   ]
  },
  {
   "cell_type": "markdown",
   "id": "c37c8eaa-f2ac-4569-b1e1-5c4ec4fb05c1",
   "metadata": {},
   "source": [
    "A partir de la siguiente matriz de confusión:\n",
    "\n",
    "             | Pronostico\n",
    "             |  N     P\n",
    "    ---------|------------\n",
    "          N  |  TN    FP \n",
    "    Real     |\n",
    "          P  |  FN    TP                        \n",
    "\n",
    "    TP - Verdadero positivo (correcto)\n",
    "    TN - Verdadero negativo (correcto)\n",
    "    FN - Falso negativo (mal clasificado)\n",
    "    FP - Falso positivo (mal clasificado)\n",
    "\n",
    "\n",
    "los valores a graficar se obtienen como:\n",
    "\n",
    "$$\n",
    "\\text{TPR} = \\frac{\\text{TP}}{\\text{TP}+\\text{FP}}\n",
    "$$\n",
    "\n",
    "$$\n",
    "\\text{FPR} = \\frac{\\text{FP}}{\\text{FP}+\\text{TN}}\n",
    "$$"
   ]
  },
  {
   "cell_type": "markdown",
   "id": "56039789-23ab-43f7-99b3-edc0741344b0",
   "metadata": {},
   "source": [
    "* La FPR representa la tasa de falsa alarma, esto es: la cantidad de Falsos Positivos sobre la totalidad de negativos.\n",
    "\n",
    "* La TPR es la tasa de casos declarados como positivos, que verdaderamente presetan la condición."
   ]
  },
  {
   "cell_type": "markdown",
   "id": "7ee1947f-65d7-430b-8772-08f33772012a",
   "metadata": {},
   "source": [
    "De la gráfica, usualmente se computa el área bajo la curva. A mayor área, es mejor el clasificador."
   ]
  },
  {
   "cell_type": "markdown",
   "id": "4ad19d92-cbd3-4f1e-9bdb-d586926556ac",
   "metadata": {},
   "source": [
    "https://scikit-learn.org/stable/auto_examples/model_selection/plot_roc.html#sphx-glr-auto-examples-model-selection-plot-roc-py"
   ]
  },
  {
   "cell_type": "code",
   "execution_count": 1,
   "id": "feed8c0a-f8af-49ba-9e7b-1fc06758afc8",
   "metadata": {},
   "outputs": [],
   "source": [
    "from itertools import cycle\n",
    "\n",
    "import matplotlib.pyplot as plt\n",
    "import numpy as np\n",
    "from scipy import interp\n",
    "from sklearn import datasets, svm\n",
    "from sklearn.metrics import auc, roc_auc_score, roc_curve\n",
    "from sklearn.model_selection import train_test_split\n",
    "from sklearn.multiclass import OneVsRestClassifier\n",
    "from sklearn.preprocessing import label_binarize"
   ]
  },
  {
   "cell_type": "code",
   "execution_count": 2,
   "id": "a31f69d1-9f58-4554-b45f-8442b9a18110",
   "metadata": {},
   "outputs": [
    {
     "data": {
      "text/plain": [
       "array([0, 0, 0, 0, 0, 0, 0, 0, 0, 0, 0, 0, 0, 0, 0, 0, 0, 0, 0, 0, 0, 0,\n",
       "       0, 0, 0, 0, 0, 0, 0, 0, 0, 0, 0, 0, 0, 0, 0, 0, 0, 0, 0, 0, 0, 0,\n",
       "       0, 0, 0, 0, 0, 0, 1, 1, 1, 1, 1, 1, 1, 1, 1, 1, 1, 1, 1, 1, 1, 1,\n",
       "       1, 1, 1, 1, 1, 1, 1, 1, 1, 1, 1, 1, 1, 1, 1, 1, 1, 1, 1, 1, 1, 1,\n",
       "       1, 1, 1, 1, 1, 1, 1, 1, 1, 1, 1, 1, 2, 2, 2, 2, 2, 2, 2, 2, 2, 2,\n",
       "       2, 2, 2, 2, 2, 2, 2, 2, 2, 2, 2, 2, 2, 2, 2, 2, 2, 2, 2, 2, 2, 2,\n",
       "       2, 2, 2, 2, 2, 2, 2, 2, 2, 2, 2, 2, 2, 2, 2, 2, 2, 2])"
      ]
     },
     "execution_count": 2,
     "metadata": {},
     "output_type": "execute_result"
    }
   ],
   "source": [
    "#\n",
    "# Carga del dataset de datos\n",
    "#\n",
    "iris = datasets.load_iris()\n",
    "X = iris.data\n",
    "y = iris.target\n",
    "y"
   ]
  },
  {
   "cell_type": "code",
   "execution_count": 3,
   "id": "6cbab7c6-af5b-4643-8cf8-36f17ae8715e",
   "metadata": {},
   "outputs": [
    {
     "data": {
      "text/plain": [
       "array([[1, 0, 0],\n",
       "       [1, 0, 0],\n",
       "       [1, 0, 0],\n",
       "       [1, 0, 0],\n",
       "       [1, 0, 0]])"
      ]
     },
     "execution_count": 3,
     "metadata": {},
     "output_type": "execute_result"
    }
   ],
   "source": [
    "#\n",
    "# Se binariza la salida para generar tres columnas. La implementación\n",
    "# está restringida al caso binario.\n",
    "#\n",
    "y = label_binarize(y, classes=[0, 1, 2])\n",
    "n_classes = y.shape[1]\n",
    "y[:5, :]"
   ]
  },
  {
   "cell_type": "code",
   "execution_count": 4,
   "id": "68ea11f6-0c55-4e8c-b612-8302ab85274d",
   "metadata": {},
   "outputs": [],
   "source": [
    "#\n",
    "# Adiciona nuevas variables aleatorias\n",
    "#\n",
    "random_state = np.random.RandomState(0)\n",
    "n_samples, n_features = X.shape\n",
    "X = np.c_[X, random_state.randn(n_samples, 200 * n_features)]"
   ]
  },
  {
   "cell_type": "code",
   "execution_count": 5,
   "id": "a5fe6ebd-a2c7-4b11-b831-f53727f18e7b",
   "metadata": {},
   "outputs": [
    {
     "data": {
      "text/plain": [
       "array([[1, 0, 0],\n",
       "       [0, 0, 1],\n",
       "       [0, 1, 0],\n",
       "       [1, 0, 0],\n",
       "       [0, 1, 0],\n",
       "       [0, 0, 1],\n",
       "       [0, 1, 0],\n",
       "       [1, 0, 0],\n",
       "       [0, 0, 1],\n",
       "       [0, 0, 1]])"
      ]
     },
     "execution_count": 5,
     "metadata": {},
     "output_type": "execute_result"
    }
   ],
   "source": [
    "#\n",
    "# Conjuntos de entrenamiento y validación\n",
    "#\n",
    "X_train, X_test, y_train, y_test = train_test_split(\n",
    "    X,\n",
    "    y,\n",
    "    test_size=0.5,\n",
    "    random_state=0,\n",
    ")\n",
    "\n",
    "y_train[:10, :]"
   ]
  },
  {
   "cell_type": "code",
   "execution_count": 6,
   "id": "2bebeb52-6629-4c94-9cc1-0b9e1b89a5ea",
   "metadata": {},
   "outputs": [],
   "source": [
    "#\n",
    "# Construye el clasificador que usa la estrategia OneVsRest\n",
    "#\n",
    "classifier = OneVsRestClassifier(\n",
    "    svm.SVC(\n",
    "        kernel=\"linear\",\n",
    "        probability=True,\n",
    "        random_state=random_state,\n",
    "    )\n",
    ")\n",
    "\n",
    "\n",
    "#\n",
    "# decision_function: Return the distance of each sample from the decision\n",
    "# boundary for each class.\n",
    "#\n",
    "y_score = classifier.fit(X_train, y_train).decision_function(X_test)\n",
    "\n",
    "#\n",
    "# Cálculo de la curva RO\n",
    "#\n",
    "fpr = dict()\n",
    "tpr = dict()\n",
    "roc_auc = dict()\n",
    "\n",
    "for i in range(n_classes):\n",
    "    # -------------------------------------------------------------------------\n",
    "    # fpr: Increasing false positive rates such that element i is the false\n",
    "    #    positive rate of predictions with score >= thresholds[i].\n",
    "    # tpr: Increasing true positive rates such that element i is the true\n",
    "    #    positive rate of predictions with score >= thresholds[i].\n",
    "    # thresholds: Decreasing thresholds on the decision function used to\n",
    "    #   compute fpr and tpr.\n",
    "    fpr[i], tpr[i], _ = roc_curve(\n",
    "        # ---------------------------------------------------------------------\n",
    "        # True binary labels, {-1, 1} or {0, 1}\n",
    "        y_true=y_test[:, i],\n",
    "        # ---------------------------------------------------------------------\n",
    "        # Target scores, can either be probability estimates of the positive\n",
    "        # class, confidence values, or non-thresholded measure of decisions (as\n",
    "        # returned by “decision_function” on some classifiers).\n",
    "        y_score=y_score[:, i],\n",
    "    )\n",
    "\n",
    "    # -------------------------------------------------------------------------\n",
    "    # Compute Area Under the Curve (AUC) using the trapezoidal rule.\n",
    "    roc_auc[i] = auc(\n",
    "        x=fpr[i],\n",
    "        y=tpr[i],\n",
    "    )"
   ]
  },
  {
   "cell_type": "code",
   "execution_count": 7,
   "id": "b44db3bb-84c7-45cb-b17b-0a2404f62f09",
   "metadata": {},
   "outputs": [
    {
     "data": {
      "text/plain": [
       "{0: array([0.        , 0.        , 0.        , 0.01851852, 0.01851852,\n",
       "        0.03703704, 0.03703704, 0.05555556, 0.05555556, 0.07407407,\n",
       "        0.07407407, 0.09259259, 0.09259259, 0.12962963, 0.12962963,\n",
       "        0.14814815, 0.14814815, 0.2037037 , 0.2037037 , 0.27777778,\n",
       "        0.27777778, 1.        ]),\n",
       " 1: array([0.        , 0.        , 0.        , 0.02222222, 0.02222222,\n",
       "        0.11111111, 0.11111111, 0.17777778, 0.17777778, 0.2       ,\n",
       "        0.2       , 0.24444444, 0.24444444, 0.26666667, 0.26666667,\n",
       "        0.37777778, 0.37777778, 0.42222222, 0.42222222, 0.48888889,\n",
       "        0.48888889, 0.55555556, 0.55555556, 0.62222222, 0.62222222,\n",
       "        0.64444444, 0.64444444, 0.66666667, 0.66666667, 0.73333333,\n",
       "        0.73333333, 0.75555556, 0.75555556, 0.88888889, 0.88888889,\n",
       "        1.        ]),\n",
       " 2: array([0.        , 0.        , 0.        , 0.01960784, 0.01960784,\n",
       "        0.07843137, 0.07843137, 0.09803922, 0.09803922, 0.11764706,\n",
       "        0.11764706, 0.1372549 , 0.1372549 , 0.15686275, 0.15686275,\n",
       "        0.17647059, 0.17647059, 0.31372549, 0.31372549, 0.33333333,\n",
       "        0.33333333, 0.35294118, 0.35294118, 0.41176471, 0.41176471,\n",
       "        0.45098039, 0.45098039, 0.47058824, 0.47058824, 0.50980392,\n",
       "        0.50980392, 0.56862745, 0.56862745, 1.        ])}"
      ]
     },
     "execution_count": 7,
     "metadata": {},
     "output_type": "execute_result"
    }
   ],
   "source": [
    "#\n",
    "# False positive rate\n",
    "#\n",
    "fpr"
   ]
  },
  {
   "cell_type": "code",
   "execution_count": 8,
   "id": "135ae7fe-21cf-4aec-8e7e-6fc8a8bc65b4",
   "metadata": {},
   "outputs": [
    {
     "data": {
      "text/plain": [
       "{0: array([0.        , 0.04761905, 0.14285714, 0.14285714, 0.19047619,\n",
       "        0.19047619, 0.33333333, 0.33333333, 0.38095238, 0.38095238,\n",
       "        0.61904762, 0.61904762, 0.66666667, 0.66666667, 0.76190476,\n",
       "        0.76190476, 0.9047619 , 0.9047619 , 0.95238095, 0.95238095,\n",
       "        1.        , 1.        ]),\n",
       " 1: array([0.        , 0.03333333, 0.13333333, 0.13333333, 0.16666667,\n",
       "        0.16666667, 0.2       , 0.2       , 0.26666667, 0.26666667,\n",
       "        0.33333333, 0.33333333, 0.4       , 0.4       , 0.43333333,\n",
       "        0.43333333, 0.5       , 0.5       , 0.56666667, 0.56666667,\n",
       "        0.6       , 0.6       , 0.63333333, 0.63333333, 0.7       ,\n",
       "        0.7       , 0.73333333, 0.73333333, 0.9       , 0.9       ,\n",
       "        0.93333333, 0.93333333, 0.96666667, 0.96666667, 1.        ,\n",
       "        1.        ]),\n",
       " 2: array([0.        , 0.04166667, 0.125     , 0.125     , 0.25      ,\n",
       "        0.25      , 0.29166667, 0.29166667, 0.33333333, 0.33333333,\n",
       "        0.41666667, 0.41666667, 0.5       , 0.5       , 0.54166667,\n",
       "        0.54166667, 0.58333333, 0.58333333, 0.70833333, 0.70833333,\n",
       "        0.75      , 0.75      , 0.79166667, 0.79166667, 0.83333333,\n",
       "        0.83333333, 0.875     , 0.875     , 0.91666667, 0.91666667,\n",
       "        0.95833333, 0.95833333, 1.        , 1.        ])}"
      ]
     },
     "execution_count": 8,
     "metadata": {},
     "output_type": "execute_result"
    }
   ],
   "source": [
    "#\n",
    "# True positive rate\n",
    "#\n",
    "tpr"
   ]
  },
  {
   "cell_type": "code",
   "execution_count": 9,
   "id": "71481731-8bc6-47d2-a3f9-69bad148697d",
   "metadata": {},
   "outputs": [
    {
     "data": {
      "text/plain": [
       "{0: 0.9126984126984127, 1: 0.6037037037037037, 2: 0.7867647058823529}"
      ]
     },
     "execution_count": 9,
     "metadata": {},
     "output_type": "execute_result"
    }
   ],
   "source": [
    "roc_auc"
   ]
  },
  {
   "cell_type": "code",
   "execution_count": 10,
   "id": "9164f33b-2d16-47d5-b5be-0ffd03df6932",
   "metadata": {},
   "outputs": [
    {
     "data": {
      "image/png": "[encoded data removed]",
      "text/plain": [
       "<Figure size 600x600 with 1 Axes>"
      ]
     },
     "metadata": {},
     "output_type": "display_data"
    }
   ],
   "source": [
    "plt.figure(figsize=(6, 6))\n",
    "\n",
    "plt.plot(\n",
    "    fpr[2],\n",
    "    tpr[2],\n",
    "    color=\"darkorange\",\n",
    "    lw=2,\n",
    "    label=\"ROC curve (area = %0.2f)\" % roc_auc[2],\n",
    ")\n",
    "plt.plot([0, 1], [0, 1], color=\"navy\", lw=2, linestyle=\"--\")\n",
    "\n",
    "plt.xlim([0.0, 1.0])\n",
    "plt.ylim([0.0, 1.05])\n",
    "\n",
    "plt.xlabel(\"False Positive Rate\")\n",
    "plt.ylabel(\"True Positive Rate\")\n",
    "\n",
    "plt.title(\"Receiver operating characteristic example\")\n",
    "\n",
    "plt.legend(loc=\"lower right\")\n",
    "plt.show()"
   ]
  }
 ],
 "metadata": {
  "kernelspec": {
   "display_name": "Python 3 (ipykernel)",
   "language": "python",
   "name": "python3"
  },
  "language_info": {
   "codemirror_mode": {
    "name": "ipython",
    "version": 3
   },
   "file_extension": ".py",
   "mimetype": "text/x-python",
   "name": "python",
   "nbconvert_exporter": "python",
   "pygments_lexer": "ipython3",
   "version": "3.8.10"
  }
 },
 "nbformat": 4,
 "nbformat_minor": 5
}
