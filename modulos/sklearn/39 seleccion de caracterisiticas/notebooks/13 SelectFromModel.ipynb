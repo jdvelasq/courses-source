{
 "cells": [
  {
   "attachments": {},
   "cell_type": "markdown",
   "id": "29814a53-91fc-42cc-8374-12dbc6593a78",
   "metadata": {
    "slideshow": {
     "slide_type": "slide"
    },
    "tags": []
   },
   "source": [
    "Reducción de dimensionalidad usando SelectFromModel()\n",
    "===\n",
    "\n",
    "* Ultima modificación: 2023-03-11 | [YouTube](https://www.youtube.com/watch?v=l_orN0tUBe0&list=PLEFpZ3YehTnCx0mS5OhPWb75RIxryBzws&index=13)"
   ]
  },
  {
   "cell_type": "markdown",
   "id": "856a9052-4994-40bd-a4e5-5755fe0f10c6",
   "metadata": {},
   "source": [
    "Modelos lineales\n",
    "---"
   ]
  },
  {
   "cell_type": "markdown",
   "id": "f6e7df8e-e509-43f3-bb61-1aa859159bdd",
   "metadata": {},
   "source": [
    "Los modelos lineales penalizados con una norma L1 tienen a hacer muchos de los coeficientes de las características iguales a cero, por lo que pueden ser usados para la reducción de la dimensionalidad de los datos (selección de variables). Se recomiendan los siguientes tipos de modelos:\n",
    "\n",
    "* Lasso()\n",
    "\n",
    "* LogisticRegress()\n",
    "\n",
    "* LinearSVC()"
   ]
  },
  {
   "cell_type": "code",
   "execution_count": 1,
   "id": "cb21774c-f8f1-4969-9e57-34215ed89767",
   "metadata": {},
   "outputs": [
    {
     "data": {
      "text/plain": [
       "(150, 4)"
      ]
     },
     "execution_count": 1,
     "metadata": {},
     "output_type": "execute_result"
    }
   ],
   "source": [
    "from sklearn.datasets import load_iris\n",
    "\n",
    "X, y = load_iris(return_X_y=True)\n",
    "X.shape"
   ]
  },
  {
   "cell_type": "code",
   "execution_count": 2,
   "id": "1f5ca47c-9f5e-434e-ab63-d349e1fe2ef5",
   "metadata": {},
   "outputs": [
    {
     "data": {
      "text/plain": [
       "(150, 3)"
      ]
     },
     "execution_count": 2,
     "metadata": {},
     "output_type": "execute_result"
    }
   ],
   "source": [
    "from sklearn.feature_selection import SelectFromModel\n",
    "from sklearn.svm import LinearSVC\n",
    "\n",
    "#\n",
    "# Crea y entrena un estimador\n",
    "#\n",
    "linearSVC = LinearSVC(\n",
    "    C=0.01,\n",
    "    penalty=\"l1\",\n",
    "    dual=False,\n",
    "    max_iter=10000,\n",
    ")\n",
    "\n",
    "linearSVC.fit(X, y)\n",
    "\n",
    "#\n",
    "# Selector\n",
    "#\n",
    "model = SelectFromModel(\n",
    "    # -------------------------------------------------------------------------\n",
    "    # The base estimator from which the transformer is built. This can be both\n",
    "    # a fitted (if prefit is set to True) or a non-fitted estimator.\n",
    "    estimator=linearSVC,\n",
    "    # -------------------------------------------------------------------------\n",
    "    # The threshold value to use for feature selection. Features whose\n",
    "    # importance is greater or equal are kept while the others are discarded.\n",
    "    # * float.\n",
    "    # * \"median\": the threshold value is the median of feature importances.\n",
    "    # * \"mean\": the threshold value is the mean of feature importances.\n",
    "    # * \"1.25*mean\": a scaling factor \n",
    "    # * None: if penality is L1, then threshold is 1e-5, otherwise \"mean\"\n",
    "    threshold=None,\n",
    "    # -------------------------------------------------------------------------\n",
    "    # Whether a prefit model is expected to be passed into the constructor\n",
    "    # directly or not.\n",
    "    prefit=True,\n",
    "    # -------------------------------------------------------------------------\n",
    "    # Order of the norm used to filter the vectors of coefficients below\n",
    "    # threshold in the case where the coef_ attribute of the estimator is of\n",
    "    # dimension 2.\n",
    "    norm_order=1,\n",
    "    # -------------------------------------------------------------------------\n",
    "    # The maximum number of features to select.\n",
    "    max_features=None,\n",
    ")\n",
    "\n",
    "X_new = model.transform(X)\n",
    "X_new.shape"
   ]
  },
  {
   "cell_type": "markdown",
   "id": "8c37a89f-1d70-49ce-b4c9-f6c9b5aca798",
   "metadata": {},
   "source": [
    "Usando árboles \n",
    "---"
   ]
  },
  {
   "cell_type": "code",
   "execution_count": 3,
   "id": "a736b1a2-aac4-4243-a7d7-a8108bd721fa",
   "metadata": {},
   "outputs": [
    {
     "data": {
      "text/plain": [
       "array([0.07210089, 0.04735931, 0.42085408, 0.45968572])"
      ]
     },
     "execution_count": 3,
     "metadata": {},
     "output_type": "execute_result"
    }
   ],
   "source": [
    "from sklearn.ensemble import ExtraTreesClassifier\n",
    "\n",
    "treeClassifier = ExtraTreesClassifier(n_estimators=50)\n",
    "treeClassifier = treeClassifier.fit(X, y)\n",
    "treeClassifier.feature_importances_"
   ]
  },
  {
   "cell_type": "code",
   "execution_count": 4,
   "id": "ff452f37-96f3-477a-ab16-4775393d8729",
   "metadata": {},
   "outputs": [
    {
     "data": {
      "text/plain": [
       "(150, 2)"
      ]
     },
     "execution_count": 4,
     "metadata": {},
     "output_type": "execute_result"
    }
   ],
   "source": [
    "from sklearn.feature_selection import SelectFromModel\n",
    "\n",
    "model = SelectFromModel(\n",
    "    estimator=treeClassifier,\n",
    "    prefit=True,\n",
    ")\n",
    "\n",
    "X_new = model.transform(X)\n",
    "X_new.shape"
   ]
  }
 ],
 "metadata": {
  "kernelspec": {
   "display_name": "Python 3 (ipykernel)",
   "language": "python",
   "name": "python3"
  },
  "language_info": {
   "codemirror_mode": {
    "name": "ipython",
    "version": 3
   },
   "file_extension": ".py",
   "mimetype": "text/x-python",
   "name": "python",
   "nbconvert_exporter": "python",
   "pygments_lexer": "ipython3",
   "version": "3.8.10"
  }
 },
 "nbformat": 4,
 "nbformat_minor": 5
}
