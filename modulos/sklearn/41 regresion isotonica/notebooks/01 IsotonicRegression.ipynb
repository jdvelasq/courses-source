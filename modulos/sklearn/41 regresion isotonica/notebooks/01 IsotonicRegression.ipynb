{
 "cells": [
  {
   "attachments": {},
   "cell_type": "markdown",
   "metadata": {},
   "source": [
    "Regresión isotónica\n",
    "===\n",
    "\n",
    "* Ultima modificación: 2023-03-11 | [YouTube](https://www.youtube.com/watch?v=v3ktPwo4QS0&list=PLEFpZ3YehTnC5xAKXPgUE0J_VGZcRWONu=1)"
   ]
  },
  {
   "cell_type": "markdown",
   "metadata": {},
   "source": [
    "Esta es una técnica para construir modelos de regresión unidimensionales, la cual resuelve el siguiente problema:\n",
    "\n",
    "$$\n",
    "\\begin{split} \n",
    "\\text{min  }  & \\sum_i w_i \\; (y_i - \\hat{y}_i)^2 \\\\\n",
    "\\text{s/to:  } \\\\\n",
    "             & \\hat{y}_i \\le \\hat{y}_j \\\\\n",
    "             & x_i \\le x_j \n",
    "\\end{split}\n",
    "$$"
   ]
  },
  {
   "cell_type": "markdown",
   "metadata": {},
   "source": [
    "![isotonic_regression.png](assets/isotonic_regression.png)"
   ]
  },
  {
   "cell_type": "markdown",
   "metadata": {},
   "source": [
    "con $w_i$ > 0.\n",
    "\n",
    "* El modelo produce las predicciones puntuales $\\hat{y}_i$ para el conjunto de entrenamiento suministrado.\n",
    "\n",
    "* El modelo realiza la interpolación para valores de $x$ que no han sido vistos antes.\n",
    "\n",
    "* Las predicciones del modelo generan una función lineal por tramos."
   ]
  },
  {
   "cell_type": "markdown",
   "metadata": {},
   "source": [
    "https://scikit-learn.org/stable/auto_examples/miscellaneous/plot_isotonic_regression.html"
   ]
  },
  {
   "cell_type": "code",
   "execution_count": 1,
   "metadata": {
    "tags": []
   },
   "outputs": [],
   "source": [
    "import matplotlib.pyplot as plt\n",
    "import numpy as np\n",
    "from sklearn.isotonic import IsotonicRegression\n",
    "\n",
    "n_points = 100\n",
    "x_values = np.arange(n_points)\n",
    "\n",
    "seed = 12345\n",
    "rng = np.random.default_rng(seed)\n",
    "y_values = rng.integers(-50, 50, size=(n_points,)) + 50.0 * np.log1p(\n",
    "    np.arange(n_points)\n",
    ")"
   ]
  },
  {
   "cell_type": "code",
   "execution_count": 2,
   "metadata": {
    "tags": []
   },
   "outputs": [],
   "source": [
    "isotonicRegression = IsotonicRegression(\n",
    "    # --------------------------------------------------------------------------\n",
    "    # Lower bound on the lowest predicted value (the minimum value may still be\n",
    "    # higher). If not set, defaults to -inf.\n",
    "    y_min=None,\n",
    "    # --------------------------------------------------------------------------\n",
    "    # Upper bound on the highest predicted value (the maximum may still be\n",
    "    # lower). If not set, defaults to +inf.\n",
    "    y_max=None,\n",
    "    # --------------------------------------------------------------------------\n",
    "    # Determines whether the predictions should be constrained to increase or\n",
    "    # decrease with X. ‘auto’ will decide based on the Spearman correlation\n",
    "    # estimate’s sign.\n",
    "    increasing=True,\n",
    "    # --------------------------------------------------------------------------\n",
    "    # Handles how X values outside of the training domain are handled during\n",
    "    # prediction.\n",
    "    # * ‘nan’, predictions will be NaN.\n",
    "    # * ‘clip’, predictions will be set to the value corresponding to the\n",
    "    #   nearest train interval endpoint.\n",
    "    # * ‘raise’, a ValueError is raised.\n",
    "    out_of_bounds=\"clip\",\n",
    ")\n",
    "\n",
    "isotonicRegression.fit(x_values, y_values)\n",
    "\n",
    "y_pred = isotonicRegression.transform(x_values)"
   ]
  },
  {
   "cell_type": "code",
   "execution_count": 3,
   "metadata": {},
   "outputs": [
    {
     "data": {
      "text/plain": [
       "(0.0, 99.0)"
      ]
     },
     "execution_count": 3,
     "metadata": {},
     "output_type": "execute_result"
    }
   ],
   "source": [
    "isotonicRegression.X_min_, isotonicRegression.X_max_"
   ]
  },
  {
   "cell_type": "code",
   "execution_count": 4,
   "metadata": {},
   "outputs": [
    {
     "data": {
      "text/plain": [
       "array([ 0.,  1.,  2.,  4.,  5.,  6.,  7.,  8., 16., 17., 18., 19., 30.,\n",
       "       31., 36., 37., 43., 44., 58., 59., 60., 64., 65., 98., 99.])"
      ]
     },
     "execution_count": 4,
     "metadata": {},
     "output_type": "execute_result"
    }
   ],
   "source": [
    "isotonicRegression.X_thresholds_"
   ]
  },
  {
   "cell_type": "code",
   "execution_count": 5,
   "metadata": {},
   "outputs": [
    {
     "data": {
      "text/plain": [
       "array([ 12.82867951,  12.82867951,  61.23907604,  61.23907604,\n",
       "       114.94174046, 114.94174046, 120.97207708, 124.89150304,\n",
       "       124.89150304, 159.87026843, 159.87026843, 162.38474736,\n",
       "       162.38474736, 171.65324085, 171.65324085, 179.19041925,\n",
       "       179.19041925, 182.12185904, 182.12185904, 213.71722811,\n",
       "       221.74413329, 221.74413329, 223.0170862 , 223.0170862 ,\n",
       "       242.2585093 ])"
      ]
     },
     "execution_count": 5,
     "metadata": {},
     "output_type": "execute_result"
    }
   ],
   "source": [
    "isotonicRegression.y_thresholds_"
   ]
  },
  {
   "cell_type": "code",
   "execution_count": 6,
   "metadata": {},
   "outputs": [
    {
     "data": {
      "text/plain": [
       "True"
      ]
     },
     "execution_count": 6,
     "metadata": {},
     "output_type": "execute_result"
    }
   ],
   "source": [
    "isotonicRegression.increasing_"
   ]
  },
  {
   "cell_type": "code",
   "execution_count": 7,
   "metadata": {
    "tags": []
   },
   "outputs": [
    {
     "data": {
      "image/png": "[encoded data removed]",
      "text/plain": [
       "<Figure size 800x350 with 1 Axes>"
      ]
     },
     "metadata": {},
     "output_type": "display_data"
    }
   ],
   "source": [
    "plt.figure(figsize=(8, 3.5))\n",
    "\n",
    "plt.plot(x_values, y_values, marker=\".\", color=\"tab:blue\", linestyle=\"\", markersize=12)\n",
    "plt.plot(x_values, y_pred, marker=\".\", color=\"tab:orange\", linestyle=\"-\", markersize=12)\n",
    "\n",
    "plt.gca().spines[\"left\"].set_color(\"gray\")\n",
    "plt.gca().spines[\"bottom\"].set_color(\"gray\")\n",
    "plt.gca().spines[\"top\"].set_visible(False)\n",
    "plt.gca().spines[\"right\"].set_visible(False)\n",
    "\n",
    "plt.show()"
   ]
  }
 ],
 "metadata": {
  "kernelspec": {
   "display_name": "Python 3 (ipykernel)",
   "language": "python",
   "name": "python3"
  },
  "language_info": {
   "codemirror_mode": {
    "name": "ipython",
    "version": 3
   },
   "file_extension": ".py",
   "mimetype": "text/x-python",
   "name": "python",
   "nbconvert_exporter": "python",
   "pygments_lexer": "ipython3",
   "version": "3.8.10"
  }
 },
 "nbformat": 4,
 "nbformat_minor": 4
}
