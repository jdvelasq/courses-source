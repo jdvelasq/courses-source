{
 "cells": [
  {
   "cell_type": "markdown",
   "metadata": {},
   "source": [
    "Vecinos próximos para clasificación --- 10:36 min\n",
    "===\n",
    "\n",
    "* 10:36 min | Ultima modificación: Septiembre 24, 2021 | [YouTube](https://youtu.be/yPP9m_WkLvE)"
   ]
  },
  {
   "cell_type": "markdown",
   "metadata": {},
   "source": [
    "El problema de clasificación en términos matemáticos se define de la siguiente forma. \n",
    "\n",
    "* Se tienen $M$ ejemplos.  \n",
    "* Cada ejemplo esta definido por un conjunto de variables ($x_1$, $x_2$, ..., $x_N$).\n",
    "* Cada ejemplo pertenece a una clase y hay $P$ clases diferentes. \n",
    "* Para un nuevo caso no clasificado y con base en los $M$ ejemplos disponibles, se desea pronosticar a que clase pertenece este. "
   ]
  },
  {
   "cell_type": "markdown",
   "metadata": {},
   "source": [
    "El método k-NN asigna una clase (de las $P$ posibles) al nuevo ejemplo en dos pasos. En el primer paso, determina los $k$ ejemplos más cercanos (distancia) al nuevo ejemplo; en el segundo paso, asigna la clase al nuevo punto por mayoría; es decir, asigna la clase con mayor frecuencia entre los $k$ vecinos más cercanos. Por ejemplo, si se consideran 7 vecinos, de los cuales 5 pertenecen a $P_1$ y 2 pertencen a $P_2$ entonces el nuevo punto es clasificado como $P_1$."
   ]
  },
  {
   "cell_type": "markdown",
   "metadata": {},
   "source": [
    "La lógica de este método se basa en el siguiente razonamiento: Si un nuevo patrón (ejemplo) es más cercano en distancia a los ejemplos de la clase azul que a los ejemplos del resto de clases, entonces pertenece a la clase A. "
   ]
  },
  {
   "cell_type": "markdown",
   "metadata": {},
   "source": [
    "![nearestNeighborsClassifier.png](assets/nearestNeighborsClassifier.png)"
   ]
  },
  {
   "cell_type": "markdown",
   "metadata": {},
   "source": [
    "## Métricas de distancia"
   ]
  },
  {
   "cell_type": "markdown",
   "metadata": {},
   "source": [
    "Existen distintas métricas para computar la distancia entre puntos. "
   ]
  },
  {
   "cell_type": "markdown",
   "metadata": {},
   "source": [
    "Ver: \n",
    "\n",
    "https://scikit-learn.org/stable/modules/generated/sklearn.neighbors.DistanceMetric.html"
   ]
  },
  {
   "cell_type": "markdown",
   "metadata": {},
   "source": [
    "Dataset\n",
    "---"
   ]
  },
  {
   "cell_type": "code",
   "execution_count": 1,
   "metadata": {},
   "outputs": [],
   "source": [
    "import numpy as np\n",
    "from sklearn.datasets import make_blobs\n",
    "\n",
    "#\n",
    "# Dataset\n",
    "#\n",
    "NPOINTS = 60\n",
    "\n",
    "X, y = make_blobs(\n",
    "    n_samples=NPOINTS,\n",
    "    n_features=2,\n",
    "    centers=3,\n",
    "    cluster_std=0.9,\n",
    "    shuffle=False,\n",
    "    random_state=1,\n",
    ")\n",
    "\n",
    "X_new = np.array(\n",
    "    [\n",
    "        [-7.5, 2],\n",
    "        [-5, -4.5],\n",
    "        [-2, 0],\n",
    "    ]\n",
    ")"
   ]
  },
  {
   "cell_type": "markdown",
   "metadata": {},
   "source": [
    "K-Neighbors Classifier\n",
    "---"
   ]
  },
  {
   "cell_type": "code",
   "execution_count": 2,
   "metadata": {},
   "outputs": [
    {
     "data": {
      "text/plain": [
       "array([1, 2, 0])"
      ]
     },
     "execution_count": 2,
     "metadata": {},
     "output_type": "execute_result"
    }
   ],
   "source": [
    "from sklearn.neighbors import KNeighborsClassifier\n",
    "\n",
    "kneighborsClassifier = KNeighborsClassifier(\n",
    "    # -----------------------------------------------------\n",
    "    # Number of neighbors to use by default for kneighbors\n",
    "    # queries.\n",
    "    n_neighbors=5,\n",
    "    # -----------------------------------------------------\n",
    "    # 'auto', 'ball_tree', 'kd_tree', 'brute'\n",
    "    algorithm=\"auto\",\n",
    ")\n",
    "\n",
    "kneighborsClassifier.fit(X, y)\n",
    "\n",
    "kneighborsClassifier.predict(X_new)"
   ]
  },
  {
   "cell_type": "markdown",
   "metadata": {},
   "source": [
    "Radius Neighbors Classifier\n",
    "---"
   ]
  },
  {
   "cell_type": "code",
   "execution_count": 3,
   "metadata": {},
   "outputs": [
    {
     "data": {
      "text/plain": [
       "array([1, 2, 0])"
      ]
     },
     "execution_count": 3,
     "metadata": {},
     "output_type": "execute_result"
    }
   ],
   "source": [
    "from sklearn.neighbors import RadiusNeighborsClassifier\n",
    "\n",
    "radiusNeighborsClassifier = RadiusNeighborsClassifier(\n",
    "    # -----------------------------------------------------\n",
    "    # Range of parameter space to use by default for\n",
    "    # radius_neighbors queries.\n",
    "    radius=5,\n",
    "    # -----------------------------------------------------\n",
    "    # 'auto', 'ball_tree', 'kd_tree', 'brute'\n",
    "    algorithm=\"auto\",\n",
    ")\n",
    "\n",
    "radiusNeighborsClassifier.fit(X, y)\n",
    "\n",
    "radiusNeighborsClassifier.predict(X_new)"
   ]
  },
  {
   "cell_type": "markdown",
   "metadata": {},
   "source": [
    "Nearest Centroid Classifier\n",
    "---"
   ]
  },
  {
   "cell_type": "code",
   "execution_count": 4,
   "metadata": {},
   "outputs": [
    {
     "data": {
      "text/plain": [
       "array([1, 2, 0])"
      ]
     },
     "execution_count": 4,
     "metadata": {},
     "output_type": "execute_result"
    }
   ],
   "source": [
    "from sklearn.neighbors import NearestCentroid\n",
    "\n",
    "nearestCentroid = NearestCentroid()\n",
    "\n",
    "nearestCentroid.fit(X, y)\n",
    "\n",
    "nearestCentroid.predict(X_new)"
   ]
  },
  {
   "cell_type": "markdown",
   "metadata": {},
   "source": [
    "---"
   ]
  },
  {
   "cell_type": "code",
   "execution_count": 5,
   "metadata": {},
   "outputs": [],
   "source": [
    "def fig_nearest_neightbors_classifier():\n",
    "\n",
    "    import matplotlib.pyplot as plt\n",
    "    from sklearn.neighbors import NearestNeighbors\n",
    "\n",
    "    plt.figure(figsize=(8, 8))\n",
    "    plt.scatter(X[:20, 0], X[:20, 1], s=130, color=\"tab:red\", edgecolors=\"k\")\n",
    "    plt.scatter(X[20:40, 0], X[20:40, 1], s=130, color=\"tab:blue\", edgecolors=\"k\")\n",
    "    plt.scatter(X[40:, 0], X[40:, 1], s=130, color=\"tab:green\", edgecolors=\"k\")\n",
    "    plt.axis(\"equal\")\n",
    "\n",
    "    #\n",
    "    # Puntos de prueba\n",
    "    #\n",
    "\n",
    "    colors = [\"tab:blue\", \"tab:green\", \"tab:red\"]\n",
    "    plt.scatter(\n",
    "        X_new[:, 0],\n",
    "        X_new[:, 1],\n",
    "        marker=\"s\",\n",
    "        s=130,\n",
    "        edgecolors=\"black\",\n",
    "        c=colors,\n",
    "        zorder=10,\n",
    "    )\n",
    "\n",
    "    nearestNeighbors = NearestNeighbors(\n",
    "        n_neighbors=5,\n",
    "        algorithm=\"kd_tree\",\n",
    "    ).fit(X)\n",
    "\n",
    "    neighbors = nearestNeighbors.kneighbors(X_new, 5, return_distance=False)\n",
    "\n",
    "    for i_new_point in range(len(X_new)):\n",
    "        for neighbor in neighbors[i_new_point]:\n",
    "            plt.plot(\n",
    "                [X_new[i_new_point][0], X[neighbor, 0]],\n",
    "                [X_new[i_new_point][1], X[neighbor, 1]],\n",
    "                \"--k\",\n",
    "                zorder=0,\n",
    "            )\n",
    "\n",
    "    plt.gca().spines[\"left\"].set_color(\"gray\")\n",
    "    plt.gca().spines[\"bottom\"].set_color(\"gray\")\n",
    "    plt.gca().spines[\"top\"].set_visible(False)\n",
    "    plt.gca().spines[\"right\"].set_visible(False)\n",
    "    plt.tight_layout()\n",
    "    plt.savefig(\"assets/nearestNeighborsClassifier.png\")\n",
    "    plt.close()\n",
    "\n",
    "\n",
    "# fig_nearest_neightbors_classifier()"
   ]
  }
 ],
 "metadata": {
  "kernel_info": {
   "name": "ir"
  },
  "kernelspec": {
   "display_name": "Python 3",
   "language": "python",
   "name": "python3"
  },
  "language_info": {
   "codemirror_mode": {
    "name": "ipython",
    "version": 3
   },
   "file_extension": ".py",
   "mimetype": "text/x-python",
   "name": "python",
   "nbconvert_exporter": "python",
   "pygments_lexer": "ipython3",
   "version": "3.6.9"
  },
  "nteract": {
   "version": "0.8.3"
  },
  "varInspector": {
   "cols": {
    "lenName": 16,
    "lenType": 16,
    "lenVar": 40
   },
   "kernels_config": {
    "python": {
     "delete_cmd_postfix": "",
     "delete_cmd_prefix": "del ",
     "library": "var_list.py",
     "varRefreshCmd": "print(var_dic_list())"
    },
    "r": {
     "delete_cmd_postfix": ") ",
     "delete_cmd_prefix": "rm(",
     "library": "var_list.r",
     "varRefreshCmd": "cat(var_dic_list()) "
    }
   },
   "types_to_exclude": [
    "module",
    "function",
    "builtin_function_or_method",
    "instance",
    "_Feature"
   ],
   "window_display": false
  }
 },
 "nbformat": 4,
 "nbformat_minor": 4
}
