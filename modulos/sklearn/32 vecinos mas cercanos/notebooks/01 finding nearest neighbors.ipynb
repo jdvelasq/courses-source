{
 "cells": [
  {
   "cell_type": "markdown",
   "id": "985c5c75-fc28-464c-be47-f66c7ab33d6c",
   "metadata": {
    "tags": []
   },
   "source": [
    "Búsqueda de los vecinos más cercanos  --- 15:21 min\n",
    "===\n",
    "\n",
    "* 15:21 min | Ultima modificación: Septiembre 25, 2021 | [YouTube](https://youtu.be/-gAkh9H2qRw)"
   ]
  },
  {
   "cell_type": "markdown",
   "id": "50487226-1f12-4c2b-951a-0fe98a4160b0",
   "metadata": {},
   "source": [
    "Las metodologías basadas en vecinos más cercanos, requieren de la computación eficiente de las distancias entre puntos. Scikit-learn implementa un método para el cómputo eficiente de dichas distancias, el cual usa los algoritmos ball-tree y kd-tree."
   ]
  },
  {
   "cell_type": "markdown",
   "id": "8f70f66c-5fa5-424b-8ec9-60292cd72436",
   "metadata": {},
   "source": [
    "Definición del problema\n",
    "---"
   ]
  },
  {
   "cell_type": "markdown",
   "id": "a67e045e-b71b-446c-9acd-0db52beaad2d",
   "metadata": {},
   "source": [
    "A partir de un dataset conformado por los puntos azules de la siguiente gráfica, se desea encontrar el subconjunto de puntos $k$ puntos más cercanos a cada punto de un conjunto arbitrario, representado por los puntos naranja."
   ]
  },
  {
   "cell_type": "markdown",
   "id": "cc2f8b3f-7c5b-4247-b3d2-9ccd27f30d16",
   "metadata": {},
   "source": [
    "![nearestNeighbors.png](assets/nearestNeighbors.png)"
   ]
  },
  {
   "cell_type": "markdown",
   "id": "c8a087ef-cd60-4fd8-b1c0-8c56d03eea9e",
   "metadata": {},
   "source": [
    "Nearest Neighbors\n",
    "---"
   ]
  },
  {
   "cell_type": "code",
   "execution_count": 1,
   "id": "3f7577f4-958c-41db-bf78-b1afec28ace5",
   "metadata": {},
   "outputs": [],
   "source": [
    "#\n",
    "# Matriz de datos para todos los ejemplos\n",
    "#\n",
    "import numpy as np\n",
    "from sklearn.neighbors import NearestNeighbors\n",
    "\n",
    "#\n",
    "# Puntos azules de la gráfica anterior\n",
    "#\n",
    "np.random.seed(2)\n",
    "X = np.random.random((15, 2)) * 2 - 1\n",
    "X[:, 1] *= 0.1\n",
    "X[:, 1] += X[:, 0] ** 2\n",
    "\n",
    "nearestNeighbors = NearestNeighbors(\n",
    "    # -----------------------------------------------------\n",
    "    # Number of neighbors to use by default for kneighbors\n",
    "    # queries\n",
    "    n_neighbors=4,\n",
    "    # -----------------------------------------------------\n",
    "    # Range of parameter space to use by default for\n",
    "    # radius_neighbors queries.\n",
    "    radius=1.0,\n",
    "    # -----------------------------------------------------\n",
    "    # Algorithm used to compute the nearest neighbors:\n",
    "    # 'ball_tree', 'kd_tree', 'brute', 'auto'\n",
    "    algorithm=\"ball_tree\",\n",
    "    # -----------------------------------------------------\n",
    "    # The distance metric to use for the tree.\n",
    "    metric=\"minkowski\",\n",
    ").fit(X)"
   ]
  },
  {
   "cell_type": "code",
   "execution_count": 2,
   "id": "ae43ca2d-db02-48e6-8dd3-ea89d99840f5",
   "metadata": {},
   "outputs": [
    {
     "data": {
      "text/plain": [
       "array([[ 4,  2, 14, 13],\n",
       "       [ 5,  9,  8,  1],\n",
       "       [ 7,  3,  6, 12]])"
      ]
     },
     "execution_count": 2,
     "metadata": {},
     "output_type": "execute_result"
    }
   ],
   "source": [
    "#\n",
    "# Encuentra los k-vecinos un grupo de puntos.\n",
    "#\n",
    "\n",
    "X_new = np.array(\n",
    "    [\n",
    "        [-0.15, 0.4],\n",
    "        [0.43, 0.25],\n",
    "        [-0.60, 0.5],\n",
    "    ]\n",
    ")\n",
    "\n",
    "distances, indices = nearestNeighbors.kneighbors(X_new)\n",
    "indices"
   ]
  },
  {
   "cell_type": "code",
   "execution_count": 3,
   "id": "22615c60-a8b4-49f9-a732-11063811b288",
   "metadata": {},
   "outputs": [
    {
     "data": {
      "text/plain": [
       "array([[0.38037936, 0.40867291, 0.42581141, 0.43610505],\n",
       "       [0.26390434, 0.30108403, 0.37386793, 0.41640179],\n",
       "       [0.05440066, 0.12755537, 0.13592841, 0.16403049]])"
      ]
     },
     "execution_count": 3,
     "metadata": {},
     "output_type": "execute_result"
    }
   ],
   "source": [
    "distances"
   ]
  },
  {
   "cell_type": "code",
   "execution_count": 4,
   "id": "97991d29-a661-48cc-9d73-c3adc167bb50",
   "metadata": {},
   "outputs": [
    {
     "data": {
      "text/plain": [
       "array([[0., 0., 1., 0., 1., 0., 0., 0., 0., 0., 0., 0., 0., 1., 1.],\n",
       "       [0., 1., 0., 0., 0., 1., 0., 0., 1., 1., 0., 0., 0., 0., 0.],\n",
       "       [0., 0., 0., 1., 0., 0., 1., 1., 0., 0., 0., 0., 1., 0., 0.]])"
      ]
     },
     "execution_count": 4,
     "metadata": {},
     "output_type": "execute_result"
    }
   ],
   "source": [
    "import matplotlib.pyplot as plt\n",
    "\n",
    "#\n",
    "# Matriz binaria indicando las conexiones entre puntos\n",
    "#\n",
    "nearestNeighbors.kneighbors_graph(X_new).toarray()"
   ]
  },
  {
   "cell_type": "markdown",
   "id": "ea8cda83-cb8e-40c9-9ec6-a619e04b62d3",
   "metadata": {},
   "source": [
    "Algoritmo Ball-Tree\n",
    "---"
   ]
  },
  {
   "cell_type": "markdown",
   "id": "46b2978a-30b6-4fdb-9120-b4cdb1ce3fcb",
   "metadata": {},
   "source": [
    "Este algoritmo se basa en el particionamiento del espacio de entrada en hiperesferas anidadas. Este modelo es interpretado como un arbol binario donde cada nodo define una esfera D-dimensional, la cual contiene un subconjunto de datos.\n",
    "\n",
    "* Cada nodo interno del arbol parte el subconjunto de datos en dos hiperesferas independientes. \n",
    "\n",
    "* Aunque las hiperesferas pueden intersectarse, cada punto es asignado a una y solo una hiperesfera.\n",
    "\n",
    "* Siguiendo los principios del particioamiento recursivo, cada nodo define una hiperesfera que contiene todos los nodos que pertenecen a dicho subarbol.\n",
    "\n",
    "* En el caso del algoritmo de NearestNeighbors, el algoritmo BallTree genera esferas que contienen todos los puntos cercanos.\n",
    "\n"
   ]
  },
  {
   "cell_type": "markdown",
   "id": "f5103b15-560f-4655-9e81-6811bf0e62f6",
   "metadata": {},
   "source": [
    "![balltree.png](assets/balltree.png)"
   ]
  },
  {
   "cell_type": "code",
   "execution_count": 5,
   "id": "eb8d849b-2dfc-4fc8-a1ce-ae473f87bbea",
   "metadata": {},
   "outputs": [
    {
     "data": {
      "text/plain": [
       "array([[ 4,  2, 14],\n",
       "       [ 5,  9,  8],\n",
       "       [ 7,  3,  6]])"
      ]
     },
     "metadata": {},
     "output_type": "display_data"
    },
    {
     "data": {
      "text/plain": [
       "array([[0.38037936, 0.40867291, 0.42581141],\n",
       "       [0.26390434, 0.30108403, 0.37386793],\n",
       "       [0.05440066, 0.12755537, 0.13592841]])"
      ]
     },
     "metadata": {},
     "output_type": "display_data"
    }
   ],
   "source": [
    "import numpy as np\n",
    "from sklearn.neighbors import BallTree\n",
    "\n",
    "ballTree = BallTree(X, leaf_size=2)\n",
    "\n",
    "dist, ind = ballTree.query(\n",
    "    # -----------------------------------------------------\n",
    "    # Points\n",
    "    X=X_new,\n",
    "    # -----------------------------------------------------\n",
    "    # The number of nearest neighbors to return\n",
    "    k=3,\n",
    "    # -----------------------------------------------------\n",
    "    # f True, return a tuple (d, i) of distances and\n",
    "    # indices if False, return array i\n",
    "    return_distance=True,\n",
    "    # -----------------------------------------------------\n",
    "    # if True, then distances and indices of each point are\n",
    "    # sorted\n",
    "    sort_results=True,\n",
    ")\n",
    "\n",
    "display(\n",
    "    ind,\n",
    "    dist,\n",
    ")"
   ]
  },
  {
   "cell_type": "code",
   "execution_count": 6,
   "id": "174b0a89-92cc-466e-ba9d-73f667d93262",
   "metadata": {},
   "outputs": [
    {
     "data": {
      "text/plain": [
       "array([14])"
      ]
     },
     "execution_count": 6,
     "metadata": {},
     "output_type": "execute_result"
    }
   ],
   "source": [
    "#\n",
    "# Query the tree for neighbors within a radius r\n",
    "#\n",
    "ballTree.query_radius(\n",
    "    # -----------------------------------------------------\n",
    "    # An array of points to query\n",
    "    X[:1],\n",
    "    # -----------------------------------------------------\n",
    "    # distance within which neighbors are returned\n",
    "    r=1.0,\n",
    "    # -----------------------------------------------------\n",
    "    # if True, return only the count of points within\n",
    "    # distance r\n",
    "    count_only=True,\n",
    "    # -----------------------------------------------------\n",
    "    # if True, the distances and indices will be sorted\n",
    "    # before being returned\n",
    "    sort_results=False,\n",
    ")"
   ]
  },
  {
   "cell_type": "code",
   "execution_count": 7,
   "id": "13319fe8-fb82-40b8-86f3-999fe8ded783",
   "metadata": {},
   "outputs": [
    {
     "data": {
      "text/plain": [
       "array([2.01557208e-02, 6.77755878e-01, 3.29235309e+01])"
      ]
     },
     "execution_count": 7,
     "metadata": {},
     "output_type": "execute_result"
    }
   ],
   "source": [
    "#\n",
    "# Compute a gaussian kernel density estimate\n",
    "#\n",
    "ballTree.kernel_density(\n",
    "    # -----------------------------------------------------\n",
    "    # An array of points to query\n",
    "    X=X_new,\n",
    "    # -----------------------------------------------------\n",
    "    # the bandwidth of the kernel\n",
    "    h=0.1,\n",
    "    # -----------------------------------------------------\n",
    "    # 'gaussian', 'tophat', 'epanechnikov', 'exponential',\n",
    "    # 'linear', 'cosine'\n",
    "    kernel=\"gaussian\",\n",
    ")"
   ]
  },
  {
   "cell_type": "markdown",
   "id": "64483095-99ea-4a75-a3f2-c89e7cc6954d",
   "metadata": {},
   "source": [
    "Algoritmo KD-Tree\n",
    "---"
   ]
  },
  {
   "cell_type": "markdown",
   "id": "5318aca1-0726-4b86-87d9-8d8ac5afcdf2",
   "metadata": {},
   "source": [
    "En este algoritmo, la partición del espacio se hace mediante hiperplanos paralelos a los ejes coordenados que dividen el espacio en hipercubos, el cual se interpreta como un árbol binario."
   ]
  },
  {
   "cell_type": "markdown",
   "id": "be117dc0-69b2-41ad-bcd0-21358e2a6266",
   "metadata": {},
   "source": [
    "![kdtree.png](assets/kdtree.png)"
   ]
  },
  {
   "cell_type": "code",
   "execution_count": 8,
   "id": "38f180cb-cfc7-4d96-9ec3-384c3afe9614",
   "metadata": {},
   "outputs": [
    {
     "data": {
      "text/plain": [
       "array([[ 4,  2, 14],\n",
       "       [ 5,  9,  8],\n",
       "       [ 7,  3,  6]])"
      ]
     },
     "metadata": {},
     "output_type": "display_data"
    },
    {
     "data": {
      "text/plain": [
       "array([[0.38037936, 0.40867291, 0.42581141],\n",
       "       [0.26390434, 0.30108403, 0.37386793],\n",
       "       [0.05440066, 0.12755537, 0.13592841]])"
      ]
     },
     "metadata": {},
     "output_type": "display_data"
    }
   ],
   "source": [
    "from sklearn.neighbors import KDTree\n",
    "\n",
    "kdTree = KDTree(X, leaf_size=2)\n",
    "\n",
    "dist, ind = kdTree.query(X_new, k=3)\n",
    "\n",
    "display(\n",
    "    ind,\n",
    "    dist,\n",
    ")"
   ]
  },
  {
   "cell_type": "markdown",
   "id": "ac5a854d-beca-4c77-bcc8-4096a96bcd3e",
   "metadata": {},
   "source": [
    "---"
   ]
  },
  {
   "cell_type": "code",
   "execution_count": 9,
   "id": "9adcbd42-6d96-4c64-9aff-398bd44302cb",
   "metadata": {},
   "outputs": [],
   "source": [
    "def fig_kdtree():\n",
    "\n",
    "    import numpy as np\n",
    "    from matplotlib import pyplot as plt\n",
    "    from matplotlib.patches import Rectangle\n",
    "    from sklearn.neighbors import KDTree\n",
    "\n",
    "    np.random.seed(2)\n",
    "    X = np.random.random((15, 2)) * 2 - 1\n",
    "    X[:, 1] *= 0.1\n",
    "    X[:, 1] += X[:, 0] ** 2\n",
    "\n",
    "    tree = KDTree(X, leaf_size=2)\n",
    "    _, _, _, node_bounds = tree.get_arrays()\n",
    "\n",
    "    hyperplanes = [[0], [1, 2], [3, 4, 5, 6]]\n",
    "\n",
    "    plt.figure(figsize=(16, 5))\n",
    "\n",
    "    for i_plot, plane_indices in enumerate(hyperplanes):\n",
    "\n",
    "        plt.subplot(1, 3, i_plot + 1)\n",
    "\n",
    "        plt.scatter(\n",
    "            X[:, 0], X[:, 1], marker=\"o\", s=130, edgecolors=\"white\", c=\"tab:blue\"\n",
    "        )\n",
    "\n",
    "        for index in plane_indices:\n",
    "\n",
    "            p0 = node_bounds[0][index]\n",
    "            p1 = node_bounds[1][index]\n",
    "\n",
    "            width = p1[0] - p0[0]\n",
    "            height = p1[1] - p0[1]\n",
    "            plt.gca().add_patch(\n",
    "                Rectangle(p0, width, height, fill=False, ec=\"tab:red\", lw=3, fc=\"none\")\n",
    "            )\n",
    "\n",
    "            plt.gca().spines[\"left\"].set_color(\"gray\")\n",
    "            plt.gca().spines[\"bottom\"].set_color(\"gray\")\n",
    "            plt.gca().spines[\"top\"].set_visible(False)\n",
    "            plt.gca().spines[\"right\"].set_visible(False)\n",
    "            plt.axis(\"equal\")\n",
    "\n",
    "    plt.tight_layout()\n",
    "    plt.savefig(\"assets/kdtree.png\")\n",
    "    plt.close()\n",
    "\n",
    "\n",
    "# fig_kdtree()"
   ]
  },
  {
   "cell_type": "code",
   "execution_count": 10,
   "id": "cd8f2a77-2ee4-4d0a-bfda-2886e3dcd379",
   "metadata": {},
   "outputs": [],
   "source": [
    "def fig_balltree():\n",
    "\n",
    "    import numpy as np\n",
    "    from matplotlib import pyplot as plt\n",
    "    from matplotlib.patches import Circle\n",
    "    from sklearn.neighbors import BallTree\n",
    "\n",
    "    #\n",
    "    # Generación de la muestra de datos\n",
    "    #\n",
    "    np.random.seed(2)\n",
    "    X = np.random.random((15, 2)) * 2 - 1\n",
    "    X[:, 1] *= 0.1\n",
    "    X[:, 1] += X[:, 0] ** 2\n",
    "\n",
    "    #\n",
    "    # Generación del arbol\n",
    "    #\n",
    "    tree = BallTree(X, leaf_size=2)\n",
    "    _, _, node_data, node_bounds = tree.get_arrays()\n",
    "\n",
    "    balls = [[0], [1, 2], [3, 4, 5, 6]]\n",
    "\n",
    "    plt.figure(figsize=(16, 5))\n",
    "\n",
    "    for i_plot, ball_indices in enumerate(balls):\n",
    "\n",
    "        plt.subplot(1, 3, i_plot + 1)\n",
    "        plt.scatter(\n",
    "            X[:, 0], X[:, 1], marker=\"o\", s=130, edgecolors=\"white\", c=\"tab:blue\"\n",
    "        )\n",
    "\n",
    "        for index in ball_indices:\n",
    "            center = node_bounds[0][index]\n",
    "            radius = node_data[index][3]\n",
    "            plt.gca().add_patch(Circle(center, radius, ec=\"tab:red\", lw=3, fc=\"none\"))\n",
    "\n",
    "        plt.gca().spines[\"left\"].set_color(\"gray\")\n",
    "        plt.gca().spines[\"bottom\"].set_color(\"gray\")\n",
    "        plt.gca().spines[\"top\"].set_visible(False)\n",
    "        plt.gca().spines[\"right\"].set_visible(False)\n",
    "        plt.axis(\"equal\")\n",
    "\n",
    "    plt.tight_layout()\n",
    "    plt.savefig(\"assets/balltree.png\")\n",
    "    plt.close()\n",
    "\n",
    "\n",
    "# fig_balltree()"
   ]
  },
  {
   "cell_type": "code",
   "execution_count": 11,
   "id": "58a6dc1b-3903-431e-a784-f846db9e9f0c",
   "metadata": {},
   "outputs": [],
   "source": [
    "def fig_nearestNeighbors():\n",
    "\n",
    "    import numpy as np\n",
    "    from matplotlib import pyplot as plt\n",
    "    from sklearn.neighbors import NearestNeighbors\n",
    "\n",
    "    #\n",
    "    # Generación de la muestra de datos\n",
    "    #\n",
    "    np.random.seed(2)\n",
    "    X = np.random.random((15, 2)) * 2 - 1\n",
    "    X[:, 1] *= 0.1\n",
    "    X[:, 1] += X[:, 0] ** 2\n",
    "\n",
    "    plt.figure(figsize=(9, 9))\n",
    "    plt.scatter(X[:, 0], X[:, 1], marker=\"o\", s=130, edgecolors=\"black\", c=\"tab:blue\")\n",
    "\n",
    "    X_new = np.array(\n",
    "        [\n",
    "            [-0.15, 0.4],\n",
    "            [0.43, 0.25],\n",
    "            [-0.60, 0.5],\n",
    "        ]\n",
    "    )\n",
    "    plt.scatter(\n",
    "        X_new[:, 0],\n",
    "        X_new[:, 1],\n",
    "        marker=\"s\",\n",
    "        s=130,\n",
    "        edgecolors=\"black\",\n",
    "        c=\"tab:orange\",\n",
    "        zorder=10,\n",
    "    )\n",
    "\n",
    "    nearestNeighbors = NearestNeighbors(\n",
    "        n_neighbors=3,\n",
    "        algorithm=\"kd_tree\",\n",
    "    ).fit(X)\n",
    "\n",
    "    neighbors = nearestNeighbors.kneighbors(X_new, 5, return_distance=False)\n",
    "\n",
    "    for i_new_point in range(len(X_new)):\n",
    "        for neighbor in neighbors[i_new_point]:\n",
    "            plt.plot(\n",
    "                [X_new[i_new_point][0], X[neighbor, 0]],\n",
    "                [X_new[i_new_point][1], X[neighbor, 1]],\n",
    "                \"--k\",\n",
    "                zorder=0,\n",
    "            )\n",
    "\n",
    "    plt.xlabel(\"$x_1$\")\n",
    "    plt.ylabel(\"$x_2$\")\n",
    "\n",
    "    plt.gca().spines[\"left\"].set_color(\"gray\")\n",
    "    plt.gca().spines[\"bottom\"].set_color(\"gray\")\n",
    "    plt.gca().spines[\"top\"].set_visible(False)\n",
    "    plt.gca().spines[\"right\"].set_visible(False)\n",
    "    plt.axis(\"equal\")\n",
    "    plt.tight_layout()\n",
    "    plt.savefig(\"assets/nearestNeighbors.png\")\n",
    "    plt.close()\n",
    "\n",
    "\n",
    "# fig_nearestNeighbors()"
   ]
  }
 ],
 "metadata": {
  "kernelspec": {
   "display_name": "Python 3",
   "language": "python",
   "name": "python3"
  },
  "language_info": {
   "codemirror_mode": {
    "name": "ipython",
    "version": 3
   },
   "file_extension": ".py",
   "mimetype": "text/x-python",
   "name": "python",
   "nbconvert_exporter": "python",
   "pygments_lexer": "ipython3",
   "version": "3.6.9"
  }
 },
 "nbformat": 4,
 "nbformat_minor": 5
}
