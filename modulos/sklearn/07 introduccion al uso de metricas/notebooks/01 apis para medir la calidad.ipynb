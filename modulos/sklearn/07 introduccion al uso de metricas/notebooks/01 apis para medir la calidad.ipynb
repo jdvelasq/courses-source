{
 "cells": [
  {
   "cell_type": "markdown",
   "id": "d555b1a3-f58d-4532-bdaf-6670ff2abe6f",
   "metadata": {},
   "source": [
    "APIs para medir la calidad de las predicciones de los modelos\n",
    "==="
   ]
  },
  {
   "cell_type": "markdown",
   "id": "6936300a-c781-4a0e-89ba-1b2375e098e9",
   "metadata": {},
   "source": [
    "* Método score en estimadores.\n",
    "\n",
    "* Parámetro scoring en validación cruzada (`GridSearchCV` y `cross_val_score`)\n",
    "\n",
    "* Funciones que computan metricas disponibles en el módulo sklearn.metrics:\n",
    "\n",
    "    * Métricas de clasificación. \n",
    "    \n",
    "    * Métricas de regresión.\n",
    "    \n",
    "    * Métricas de agrupamiento."
   ]
  }
 ],
 "metadata": {
  "kernelspec": {
   "display_name": "Python 3 (ipykernel)",
   "language": "python",
   "name": "python3"
  },
  "language_info": {
   "codemirror_mode": {
    "name": "ipython",
    "version": 3
   },
   "file_extension": ".py",
   "mimetype": "text/x-python",
   "name": "python",
   "nbconvert_exporter": "python",
   "pygments_lexer": "ipython3",
   "version": "3.8.10"
  }
 },
 "nbformat": 4,
 "nbformat_minor": 5
}
