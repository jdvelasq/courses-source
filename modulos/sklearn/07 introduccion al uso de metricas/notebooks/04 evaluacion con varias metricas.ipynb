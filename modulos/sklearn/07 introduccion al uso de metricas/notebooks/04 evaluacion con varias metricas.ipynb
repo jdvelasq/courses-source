{
 "cells": [
  {
   "cell_type": "markdown",
   "id": "b56ad834-6d95-4763-a8b3-ad8c128742d3",
   "metadata": {},
   "source": [
    "Evaluación con varias métricas\n",
    "==="
   ]
  },
  {
   "cell_type": "markdown",
   "id": "b678c01f-92d8-4c9b-b101-7f757c06e843",
   "metadata": {},
   "source": [
    "Scikit-learn permite la evaluacón de varias métricas en `GridSearchCV`, `RandomizedSearchCV` y `cross_validate`."
   ]
  },
  {
   "cell_type": "code",
   "execution_count": 1,
   "id": "a6eedfba-a5cb-4746-85b0-5dddc54b6f7f",
   "metadata": {},
   "outputs": [],
   "source": [
    "#\n",
    "# Como un iterable de strings\n",
    "#\n",
    "scoring = [\"accuracy\", \"precision\"]"
   ]
  },
  {
   "cell_type": "code",
   "execution_count": 2,
   "id": "49a7a6fa-04a8-4a45-a2f1-d88d1f51572f",
   "metadata": {},
   "outputs": [],
   "source": [
    "#\n",
    "# Como un diccionario\n",
    "#\n",
    "from sklearn.metrics import accuracy_score, make_scorer\n",
    "\n",
    "scoring = {\n",
    "    \"accuracy\": make_scorer(accuracy_score),\n",
    "    \"prec\": \"precision\",\n",
    "}"
   ]
  },
  {
   "cell_type": "code",
   "execution_count": 3,
   "id": "5e064875-f568-43de-b58c-76e8a4461560",
   "metadata": {},
   "outputs": [
    {
     "name": "stdout",
     "output_type": "stream",
     "text": [
      "test_tp: [10  9  8  7  8]\n",
      "test_fn: [0 1 2 3 2]\n"
     ]
    }
   ],
   "source": [
    "#\n",
    "# Como una función\n",
    "#\n",
    "from sklearn.datasets import make_classification\n",
    "from sklearn.metrics import confusion_matrix\n",
    "from sklearn.model_selection import cross_validate\n",
    "from sklearn.svm import LinearSVC\n",
    "\n",
    "X, y = make_classification(n_classes=2, random_state=0)\n",
    "svm = LinearSVC(random_state=0)\n",
    "\n",
    "\n",
    "def confusion_matrix_scorer(clf, X, y):\n",
    "    y_pred = clf.predict(X)\n",
    "    cm = confusion_matrix(y, y_pred)\n",
    "    return {\n",
    "        \"tn\": cm[0, 0],\n",
    "        \"fp\": cm[0, 1],\n",
    "        \"fn\": cm[1, 0],\n",
    "        \"tp\": cm[1, 1],\n",
    "    }\n",
    "\n",
    "cv_results = cross_validate(\n",
    "    svm,\n",
    "    X,\n",
    "    y,\n",
    "    cv=5,\n",
    "    scoring=confusion_matrix_scorer,\n",
    ")\n",
    "\n",
    "print(\"test_tp:\", cv_results[\"test_tp\"])\n",
    "print(\"test_fn:\", cv_results[\"test_fn\"])"
   ]
  },
  {
   "cell_type": "code",
   "execution_count": 4,
   "id": "4697eafa-f6c3-4ded-90bb-888c46d0dbb2",
   "metadata": {},
   "outputs": [
    {
     "data": {
      "text/plain": [
       "{'fit_time': array([0.00930333, 0.00801158, 0.01028728, 0.00679255, 0.00621653]),\n",
       " 'score_time': array([0.00314713, 0.00276971, 0.00266457, 0.00219631, 0.00583816]),\n",
       " 'test_tn': array([ 5,  9,  8,  6, 10]),\n",
       " 'test_fp': array([5, 1, 2, 4, 0]),\n",
       " 'test_fn': array([0, 1, 2, 3, 2]),\n",
       " 'test_tp': array([10,  9,  8,  7,  8])}"
      ]
     },
     "execution_count": 4,
     "metadata": {},
     "output_type": "execute_result"
    }
   ],
   "source": [
    "#\n",
    "# Nota\n",
    "#\n",
    "cv_results"
   ]
  }
 ],
 "metadata": {
  "kernelspec": {
   "display_name": "Python 3 (ipykernel)",
   "language": "python",
   "name": "python3"
  },
  "language_info": {
   "codemirror_mode": {
    "name": "ipython",
    "version": 3
   },
   "file_extension": ".py",
   "mimetype": "text/x-python",
   "name": "python",
   "nbconvert_exporter": "python",
   "pygments_lexer": "ipython3",
   "version": "3.8.10"
  }
 },
 "nbformat": 4,
 "nbformat_minor": 5
}
