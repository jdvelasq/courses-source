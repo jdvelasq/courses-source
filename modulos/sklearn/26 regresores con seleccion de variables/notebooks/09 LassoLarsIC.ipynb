{
 "cells": [
  {
   "cell_type": "markdown",
   "id": "c6f334b0-554f-42bf-a03c-78bc185ba912",
   "metadata": {
    "tags": []
   },
   "source": [
    "LassoLarsIC\n",
    "==="
   ]
  },
  {
   "cell_type": "markdown",
   "id": "45977a62-9773-47ef-a3de-ae9544f38074",
   "metadata": {},
   "source": [
    "* Implementa un modelo Lasso con el algoritmo LARS y criterios de información."
   ]
  },
  {
   "cell_type": "markdown",
   "id": "abe7c20f-8807-4671-bed5-49d4080ae5cc",
   "metadata": {},
   "source": [
    "* Para la estimación de los parámetros se minimiza la función objetivo:\n",
    "\n",
    "$$\n",
    "\\min_w \\frac{1}{2n} ||Xw -y||_2^2 \n",
    "+ \\alpha *  ||w||_1\n",
    "$$"
   ]
  },
  {
   "cell_type": "code",
   "execution_count": 1,
   "id": "c92c94be-5ac5-4e68-af80-8f3780f3ad85",
   "metadata": {},
   "outputs": [],
   "source": [
    "from sklearn.linear_model import LassoLarsIC\n",
    "\n",
    "lassoLarsIC = LassoLarsIC(\n",
    "    # --------------------------------------------------------------------------\n",
    "    # The type of criterion to use {'aic', 'bic'}\n",
    "    criterion='aic',    \n",
    "    # --------------------------------------------------------------------------\n",
    "    # Whether to fit the intercept for this model.\n",
    "    fit_intercept=True,    \n",
    "    # --------------------------------------------------------------------------\n",
    "    # The maximum number of iterations.\n",
    "    max_iter=500,\n",
    "    # --------------------------------------------------------------------------\n",
    "    # When set to True, forces the coefficients to be positive.\n",
    "    positive=False,    \n",
    "    # --------------------------------------------------------------------------\n",
    "    # The estimated noise variance of the data. If None, an unbiased estimate is \n",
    "    # computed by an OLS model. However, it is only possible in the case where \n",
    "    # n_samples > n_features + fit_intercept.\n",
    "    noise_variance=None,\n",
    ")"
   ]
  },
  {
   "cell_type": "code",
   "execution_count": 2,
   "id": "eaf15a57-60b1-44a9-90b4-392bc35d8607",
   "metadata": {},
   "outputs": [],
   "source": [
    "from sklearn.datasets import load_diabetes\n",
    "\n",
    "X, y = load_diabetes(return_X_y=True)"
   ]
  },
  {
   "cell_type": "code",
   "execution_count": 3,
   "id": "c1cb76d0-a0d8-44e4-9b71-7f225c511ac0",
   "metadata": {},
   "outputs": [
    {
     "data": {
      "text/plain": [
       "0.5134098914486394"
      ]
     },
     "execution_count": 3,
     "metadata": {},
     "output_type": "execute_result"
    }
   ],
   "source": [
    "lassoLarsIC.fit(X, y)\n",
    "lassoLarsIC.score(X, y)"
   ]
  },
  {
   "cell_type": "code",
   "execution_count": 4,
   "id": "b5ff62ee-e48d-489c-b4be-2432b5a9fa8c",
   "metadata": {},
   "outputs": [
    {
     "data": {
      "text/plain": [
       "0.045206256469784906"
      ]
     },
     "execution_count": 4,
     "metadata": {},
     "output_type": "execute_result"
    }
   ],
   "source": [
    "lassoLarsIC.alpha_"
   ]
  },
  {
   "cell_type": "code",
   "execution_count": 5,
   "id": "7743958f-534b-4089-93cf-8c6e2de63e05",
   "metadata": {},
   "outputs": [
    {
     "data": {
      "text/plain": [
       "array([   0.        , -197.75346667,  522.27003779,  297.15393894,\n",
       "       -103.94552857,    0.        , -223.92409377,    0.        ,\n",
       "        514.7480026 ,   54.76900516])"
      ]
     },
     "execution_count": 5,
     "metadata": {},
     "output_type": "execute_result"
    }
   ],
   "source": [
    "lassoLarsIC.coef_"
   ]
  },
  {
   "cell_type": "code",
   "execution_count": 6,
   "id": "b2fc064e-157f-4ed9-bdc3-a17b77ac5451",
   "metadata": {},
   "outputs": [
    {
     "data": {
      "text/plain": [
       "152.13348416289602"
      ]
     },
     "execution_count": 6,
     "metadata": {},
     "output_type": "execute_result"
    }
   ],
   "source": [
    "lassoLarsIC.intercept_"
   ]
  },
  {
   "cell_type": "code",
   "execution_count": 7,
   "id": "415585bd-6a0e-4cc8-9db9-52b526739fbd",
   "metadata": {},
   "outputs": [
    {
     "data": {
      "text/plain": [
       "array([2.14804358, 2.01202214, 1.02465091, 0.71509814, 0.29441072,\n",
       "       0.20086946, 0.15602894, 0.04520626, 0.01239262, 0.01151185,\n",
       "       0.00493726, 0.0029648 , 0.        ])"
      ]
     },
     "execution_count": 7,
     "metadata": {},
     "output_type": "execute_result"
    }
   ],
   "source": [
    "lassoLarsIC.alphas_"
   ]
  }
 ],
 "metadata": {
  "kernelspec": {
   "display_name": "Python 3 (ipykernel)",
   "language": "python",
   "name": "python3"
  },
  "language_info": {
   "codemirror_mode": {
    "name": "ipython",
    "version": 3
   },
   "file_extension": ".py",
   "mimetype": "text/x-python",
   "name": "python",
   "nbconvert_exporter": "python",
   "pygments_lexer": "ipython3",
   "version": "3.8.10"
  }
 },
 "nbformat": 4,
 "nbformat_minor": 5
}
