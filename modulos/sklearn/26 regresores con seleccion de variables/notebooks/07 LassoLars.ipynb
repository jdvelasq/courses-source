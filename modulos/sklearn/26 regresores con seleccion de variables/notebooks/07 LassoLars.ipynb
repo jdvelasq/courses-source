{
 "cells": [
  {
   "cell_type": "markdown",
   "id": "87e8daba-4701-4037-b375-840812c628f6",
   "metadata": {
    "tags": []
   },
   "source": [
    "LassoLars\n",
    "==="
   ]
  },
  {
   "cell_type": "markdown",
   "id": "989f46ed-ec01-4021-b442-656f51cda61e",
   "metadata": {},
   "source": [
    "* Modelo Lasso ajustado con el algoritmo LARS."
   ]
  },
  {
   "cell_type": "markdown",
   "id": "fd006b48-ae34-44b1-8102-2c21d96a4799",
   "metadata": {},
   "source": [
    "* Para la estimación de los parámetros se minimiza la función objetivo:\n",
    "\n",
    "$$\n",
    "\\min_w \\frac{1}{2n} ||Xw -y||_2^2 \n",
    "+ \\alpha *  ||w||_1\n",
    "$$"
   ]
  },
  {
   "cell_type": "code",
   "execution_count": 1,
   "id": "b6cf1683-1aa4-4085-801b-5146124e0c61",
   "metadata": {},
   "outputs": [],
   "source": [
    "from sklearn.datasets import load_diabetes\n",
    "\n",
    "X, y = load_diabetes(return_X_y=True)"
   ]
  },
  {
   "cell_type": "code",
   "execution_count": 2,
   "id": "02076cdf-6074-47d0-90ee-dcd8d051d419",
   "metadata": {},
   "outputs": [
    {
     "data": {
      "text/plain": [
       "0.3573805394842746"
      ]
     },
     "execution_count": 2,
     "metadata": {},
     "output_type": "execute_result"
    }
   ],
   "source": [
    "from sklearn.linear_model import LassoLars\n",
    "\n",
    "lassoLars = LassoLars(\n",
    "    # --------------------------------------------------------------------------\n",
    "    # Constant that multiplies the L1 term, controlling regularization strength. \n",
    "    # alpha must be a non-negative float i.e. in [0, inf). When alpha = 0, the \n",
    "    # objective is equivalent to ordinary least squares, solved by the \n",
    "    # LinearRegression object. \n",
    "    alpha=1.0,\n",
    "    # ---------------------------------------------------------------------\n",
    "    # Whether to fit the intercept for this model.\n",
    "    fit_intercept=True,\n",
    "    # ---------------------------------------------------------------------\n",
    "    # Maximum number of iterations.\n",
    "    max_iter=1000,    \n",
    "    # ---------------------------------------------------------------------\n",
    "    # If True the full path is stored in the coef_path_ attribute. If you \n",
    "    # compute the solution for a large problem or many targets, setting \n",
    "    # fit_path to False will lead to a speedup, especially with a small \n",
    "    # alpha.\n",
    "    fit_path=True,\n",
    "    # --------------------------------------------------------------------------\n",
    "    # When set to True, forces the coefficients to be positive.\n",
    "    positive=False,    \n",
    "    # ---------------------------------------------------------------------\n",
    "    # Upper bound on a uniform noise parameter to be added to the y values,\n",
    "    # to satisfy the model’s assumption of one-at-a-time computations. \n",
    "    # Might help with stability.\n",
    "    jitter=None,\n",
    "    # --------------------------------------------------------------------------\n",
    "    # Determines random number generation for jittering. Pass an int for \n",
    "    # reproducible output across multiple function calls. Ignored if jitter \n",
    "    # is None.\n",
    "    random_state=None,\n",
    ")\n",
    "\n",
    "lassoLars.fit(X, y)\n",
    "\n",
    "lassoLars.score(X, y)"
   ]
  },
  {
   "cell_type": "code",
   "execution_count": 3,
   "id": "88c5170d-c4f6-48c6-b199-811ef2064b7a",
   "metadata": {},
   "outputs": [
    {
     "data": {
      "text/plain": [
       "array([  0.        ,   0.        , 367.70162582,   6.30970264,\n",
       "         0.        ,   0.        ,   0.        ,   0.        ,\n",
       "       307.60214746,   0.        ])"
      ]
     },
     "execution_count": 3,
     "metadata": {},
     "output_type": "execute_result"
    }
   ],
   "source": [
    "lassoLars.coef_"
   ]
  },
  {
   "cell_type": "code",
   "execution_count": 4,
   "id": "5ec6a1fd-d7ce-4cb8-81ce-93f8a70daef6",
   "metadata": {},
   "outputs": [
    {
     "data": {
      "text/plain": [
       "152.133484162896"
      ]
     },
     "execution_count": 4,
     "metadata": {},
     "output_type": "execute_result"
    }
   ],
   "source": [
    "lassoLars.intercept_"
   ]
  }
 ],
 "metadata": {
  "kernelspec": {
   "display_name": "Python 3 (ipykernel)",
   "language": "python",
   "name": "python3"
  },
  "language_info": {
   "codemirror_mode": {
    "name": "ipython",
    "version": 3
   },
   "file_extension": ".py",
   "mimetype": "text/x-python",
   "name": "python",
   "nbconvert_exporter": "python",
   "pygments_lexer": "ipython3",
   "version": "3.8.10"
  },
  "vscode": {
   "interpreter": {
    "hash": "2482a4565599eda3cd2db35331af39775c1f78a505a9deef48c721423040da5b"
   }
  }
 },
 "nbformat": 4,
 "nbformat_minor": 5
}
