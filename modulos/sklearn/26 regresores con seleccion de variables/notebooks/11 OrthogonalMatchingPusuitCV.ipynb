{
 "cells": [
  {
   "cell_type": "markdown",
   "id": "110c3523-8dc5-410a-bcfb-5e817307133d",
   "metadata": {
    "tags": []
   },
   "source": [
    "Orthogonal Matching Pursuit Crossvalidation\n",
    "==="
   ]
  },
  {
   "cell_type": "markdown",
   "id": "bf902fc7-667a-461e-ab83-ca823ba5e659",
   "metadata": {},
   "source": [
    "* Implementa validación cruzada para el modelo OMP."
   ]
  },
  {
   "cell_type": "code",
   "execution_count": 1,
   "id": "43f591c7-976d-4792-8a45-cca7044d420d",
   "metadata": {},
   "outputs": [],
   "source": [
    "from sklearn.datasets import make_regression\n",
    "\n",
    "X, y = make_regression(n_features=100, n_informative=10, noise=4, random_state=0)"
   ]
  },
  {
   "cell_type": "code",
   "execution_count": 2,
   "id": "6ef75632-0d15-4810-a789-2870647ddaa8",
   "metadata": {},
   "outputs": [],
   "source": [
    "from sklearn.linear_model import OrthogonalMatchingPursuitCV\n",
    "\n",
    "estimator = OrthogonalMatchingPursuitCV(\n",
    "    # --------------------------------------------------------------------------\n",
    "    # Whether to calculate the intercept for this model. If set to false, no \n",
    "    # intercept will be used in calculations (i.e. data is expected to be \n",
    "    # centered).\n",
    "    fit_intercept=True,   \n",
    "    # --------------------------------------------------------------------------\n",
    "    # Maximum numbers of iterations to perform, therefore maximum features to \n",
    "    # include. 10% of n_features but at least 5 if available.\n",
    "    max_iter=None,\n",
    "    # --------------------------------------------------------------------------\n",
    "    # Determines the cross-validation splitting strategy. Possible inputs for \n",
    "    # cv are:\n",
    "    # * None, to use the default 5-fold cross-validation,\n",
    "    # * int, to specify the number of folds.\n",
    "    # * CV splitter,\n",
    "    # * An iterable yielding (train, test) splits as arrays of indices.\n",
    "    cv=None,\n",
    ")"
   ]
  },
  {
   "cell_type": "code",
   "execution_count": 3,
   "id": "2113396e-3730-4068-af96-46f7f910161e",
   "metadata": {},
   "outputs": [
    {
     "data": {
      "text/plain": [
       "0.9991964219358707"
      ]
     },
     "execution_count": 3,
     "metadata": {},
     "output_type": "execute_result"
    }
   ],
   "source": [
    "estimator.fit(X, y)\n",
    "estimator.score(X, y)"
   ]
  },
  {
   "cell_type": "code",
   "execution_count": 4,
   "id": "ed1f1d67-dd1b-47f2-b332-890a49e2db48",
   "metadata": {},
   "outputs": [
    {
     "data": {
      "text/plain": [
       "array([ 0.        ,  0.        ,  8.95641552,  0.        ,  0.        ,\n",
       "        0.        ,  0.        ,  7.92483048,  0.        ,  0.        ,\n",
       "        0.        ,  0.        ,  0.        ,  0.        ,  0.        ,\n",
       "        0.        ,  0.        ,  0.        ,  0.        ,  0.        ,\n",
       "        0.        ,  0.        ,  0.        ,  0.        ,  0.        ,\n",
       "       73.29231324,  0.        ,  0.        ,  0.        ,  0.        ,\n",
       "        0.        ,  0.        ,  0.        ,  0.        ,  0.        ,\n",
       "        0.        ,  0.        ,  0.        ,  0.        ,  0.        ,\n",
       "        0.        , 39.84350172,  0.        ,  0.        , 53.30692171,\n",
       "        0.        , 44.14547422,  0.        ,  0.        ,  0.        ,\n",
       "        0.        ,  0.        ,  0.        ,  0.        ,  0.        ,\n",
       "        0.        , 33.08297514,  0.        ,  0.        ,  0.        ,\n",
       "        0.        ,  0.        , 63.2508195 ,  0.        ,  0.        ,\n",
       "        0.        ,  0.        ,  0.        ,  0.        ,  0.        ,\n",
       "        0.        ,  0.        ,  0.        ,  0.        ,  0.        ,\n",
       "        0.        ,  0.        ,  0.        ,  0.        ,  0.        ,\n",
       "        0.        ,  0.        ,  0.        ,  0.        , 69.40401264,\n",
       "        0.        ,  0.        ,  0.        ,  0.        ,  0.        ,\n",
       "        0.        ,  0.        ,  0.        ,  0.        ,  0.        ,\n",
       "        0.        ,  0.        , 13.3877417 ,  0.        ,  0.        ])"
      ]
     },
     "execution_count": 4,
     "metadata": {},
     "output_type": "execute_result"
    }
   ],
   "source": [
    "estimator.coef_"
   ]
  },
  {
   "cell_type": "code",
   "execution_count": 5,
   "id": "7bea87fc-fa0a-4b48-9450-ef5ba1a4d026",
   "metadata": {},
   "outputs": [
    {
     "data": {
      "text/plain": [
       "10"
      ]
     },
     "execution_count": 5,
     "metadata": {},
     "output_type": "execute_result"
    }
   ],
   "source": [
    "estimator.n_nonzero_coefs_"
   ]
  }
 ],
 "metadata": {
  "kernelspec": {
   "display_name": "Python 3 (ipykernel)",
   "language": "python",
   "name": "python3"
  },
  "language_info": {
   "codemirror_mode": {
    "name": "ipython",
    "version": 3
   },
   "file_extension": ".py",
   "mimetype": "text/x-python",
   "name": "python",
   "nbconvert_exporter": "python",
   "pygments_lexer": "ipython3",
   "version": "3.8.10"
  },
  "vscode": {
   "interpreter": {
    "hash": "2482a4565599eda3cd2db35331af39775c1f78a505a9deef48c721423040da5b"
   }
  }
 },
 "nbformat": 4,
 "nbformat_minor": 5
}
