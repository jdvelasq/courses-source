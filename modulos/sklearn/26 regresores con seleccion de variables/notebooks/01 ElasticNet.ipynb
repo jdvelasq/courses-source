{
 "cells": [
  {
   "cell_type": "markdown",
   "id": "87e8daba-4701-4037-b375-840812c628f6",
   "metadata": {
    "tags": []
   },
   "source": [
    "Elastic-Net\n",
    "==="
   ]
  },
  {
   "cell_type": "markdown",
   "id": "989f46ed-ec01-4021-b442-656f51cda61e",
   "metadata": {},
   "source": [
    "* Es un modelo de regresión lineal que combina los regularizadores L1 y L2."
   ]
  },
  {
   "cell_type": "markdown",
   "id": "6af66ebd-1a04-4ea6-a850-e9c38681482c",
   "metadata": {},
   "source": [
    "* Para la estimación de los parámetros se minimiza la función objetivo:\n",
    "\n",
    "$$\n",
    "\\min_w \\frac{1}{2n} ||Xw -y||_2^2 \n",
    "+ \\alpha * \\text{l1_ratio} * ||w||_1\n",
    "+ 0.5 * \\alpha * (1 - \\text{l1_ratio}) * ||w||_2^2\n",
    "$$"
   ]
  },
  {
   "cell_type": "code",
   "execution_count": 1,
   "id": "b6cf1683-1aa4-4085-801b-5146124e0c61",
   "metadata": {},
   "outputs": [],
   "source": [
    "from sklearn.datasets import load_diabetes\n",
    "\n",
    "X, y = load_diabetes(return_X_y=True)"
   ]
  },
  {
   "cell_type": "code",
   "execution_count": 2,
   "id": "02076cdf-6074-47d0-90ee-dcd8d051d419",
   "metadata": {},
   "outputs": [
    {
     "data": {
      "text/plain": [
       "0.008834748998299613"
      ]
     },
     "execution_count": 2,
     "metadata": {},
     "output_type": "execute_result"
    }
   ],
   "source": [
    "from sklearn.linear_model import ElasticNet\n",
    "\n",
    "elasticNet = ElasticNet(\n",
    "    # --------------------------------------------------------------------------\n",
    "    # Constant that multiplies the penalty terms. alpha = 0 is equivalent to an \n",
    "    # ordinary least square, solved by the LinearRegression object.\n",
    "    alpha=1.0,\n",
    "    # --------------------------------------------------------------------------\n",
    "    # The ElasticNet mixing parameter, with 0 <= l1_ratio <= 1. For l1_ratio = 0\n",
    "    # the penalty is an L2 penalty. For l1_ratio = 1 it is an L1 penalty. For \n",
    "    # 0 < l1_ratio < 1, the penalty is a combination of L1 and L2.\n",
    "    l1_ratio=0.5,\n",
    "    # ---------------------------------------------------------------------\n",
    "    # Whether to fit the intercept for this model.\n",
    "    fit_intercept=True,\n",
    "    # ---------------------------------------------------------------------\n",
    "    # Maximum number of iterations.\n",
    "    max_iter=1000,    \n",
    "    # --------------------------------------------------------------------------\n",
    "    # The tolerance for the optimization\n",
    "    tol=1e-4,\n",
    "    # --------------------------------------------------------------------------\n",
    "    # When set to True, reuse the solution of the previous call to fit as \n",
    "    # initialization, otherwise, just erase the previous solution. \n",
    "    warm_start=False,\n",
    "    # --------------------------------------------------------------------------\n",
    "    # When set to True, forces the coefficients to be positive.\n",
    "    positive=False,\n",
    "    # --------------------------------------------------------------------------\n",
    "    # The seed of the pseudo random number generator that selects a random \n",
    "    # feature to update. Used when selection == ‘random’. Pass an int for \n",
    "    # reproducible output across multiple function calls. \n",
    "    random_state=None,\n",
    "    # --------------------------------------------------------------------------\n",
    "    # If set to ‘random’, a random coefficient is updated every iteration rather\n",
    "    # than looping over features sequentially by default. This (setting to \n",
    "    # ‘random’) often leads to significantly faster convergence especially when\n",
    "    # tol is higher than 1e-4.\n",
    "    selection='cyclic',\n",
    ")\n",
    "\n",
    "elasticNet.fit(X, y)\n",
    "\n",
    "elasticNet.score(X, y)"
   ]
  },
  {
   "cell_type": "code",
   "execution_count": 3,
   "id": "c0164805-109a-4b70-a50d-4a2282d48604",
   "metadata": {},
   "outputs": [
    {
     "data": {
      "text/plain": [
       "array([152.47026911, 151.30027724, 152.28156137, 152.18914366,\n",
       "       151.86848678, 151.33155287, 151.55248058, 152.26126753,\n",
       "       152.27687719, 152.37436142])"
      ]
     },
     "execution_count": 3,
     "metadata": {},
     "output_type": "execute_result"
    }
   ],
   "source": [
    "elasticNet.predict(X)[0:10]"
   ]
  },
  {
   "cell_type": "code",
   "execution_count": 4,
   "id": "88c5170d-c4f6-48c6-b199-811ef2064b7a",
   "metadata": {},
   "outputs": [
    {
     "data": {
      "text/plain": [
       "array([ 0.35901793,  0.        ,  3.25976736,  2.20434042,  0.52864562,\n",
       "        0.25093515, -1.86136322,  2.11445407,  3.10583468,  1.76985102])"
      ]
     },
     "execution_count": 4,
     "metadata": {},
     "output_type": "execute_result"
    }
   ],
   "source": [
    "elasticNet.coef_"
   ]
  },
  {
   "cell_type": "code",
   "execution_count": 5,
   "id": "5ec6a1fd-d7ce-4cb8-81ce-93f8a70daef6",
   "metadata": {},
   "outputs": [
    {
     "data": {
      "text/plain": [
       "152.13348416289594"
      ]
     },
     "execution_count": 5,
     "metadata": {},
     "output_type": "execute_result"
    }
   ],
   "source": [
    "elasticNet.intercept_"
   ]
  }
 ],
 "metadata": {
  "kernelspec": {
   "display_name": "Python 3 (ipykernel)",
   "language": "python",
   "name": "python3"
  },
  "language_info": {
   "codemirror_mode": {
    "name": "ipython",
    "version": 3
   },
   "file_extension": ".py",
   "mimetype": "text/x-python",
   "name": "python",
   "nbconvert_exporter": "python",
   "pygments_lexer": "ipython3",
   "version": "3.8.10"
  },
  "vscode": {
   "interpreter": {
    "hash": "2482a4565599eda3cd2db35331af39775c1f78a505a9deef48c721423040da5b"
   }
  }
 },
 "nbformat": 4,
 "nbformat_minor": 5
}
