{
 "cells": [
  {
   "cell_type": "markdown",
   "id": "c6f334b0-554f-42bf-a03c-78bc185ba912",
   "metadata": {},
   "source": [
    "ElasticNetCV\n",
    "==="
   ]
  },
  {
   "cell_type": "markdown",
   "id": "45977a62-9773-47ef-a3de-ae9544f38074",
   "metadata": {},
   "source": [
    "* Implementa un modelo Elastic Net con ajuste iterativo a lo largo de una trayectoria de regularización."
   ]
  },
  {
   "cell_type": "code",
   "execution_count": 1,
   "id": "eaf15a57-60b1-44a9-90b4-392bc35d8607",
   "metadata": {},
   "outputs": [],
   "source": [
    "from sklearn.datasets import load_diabetes\n",
    "\n",
    "X, y = load_diabetes(return_X_y=True)"
   ]
  },
  {
   "cell_type": "code",
   "execution_count": 2,
   "id": "c92c94be-5ac5-4e68-af80-8f3780f3ad85",
   "metadata": {},
   "outputs": [],
   "source": [
    "from sklearn.linear_model import ElasticNetCV\n",
    "\n",
    "elasticNetCV = ElasticNetCV(\n",
    "    # --------------------------------------------------------------------------\n",
    "    # Float between 0 and 1 passed to ElasticNet (scaling between l1 and l2 \n",
    "    # penalties). For l1_ratio = 0 the penalty is an L2 penalty. \n",
    "    # For l1_ratio = 1 it is an L1 penalty. For 0 < l1_ratio < 1, the penalty is\n",
    "    # a combination of L1 and L2 This parameter can be a list, in which case the\n",
    "    # different values are tested by cross-validation and the one giving the \n",
    "    # best prediction score is used. Note that a good choice of list of values\n",
    "    # for l1_ratio is often to put more values close to 1 (i.e. Lasso) and less\n",
    "    # close to 0 (i.e. Ridge), as in [.1, .5, .7, .9, .95, .99, 1].\n",
    "    l1_ratio=0.5,\n",
    "    # --------------------------------------------------------------------------\n",
    "    # Length of the path. eps=1e-3 means that alpha_min / alpha_max = 1e-3.\n",
    "    eps=1e-3,\n",
    "    # --------------------------------------------------------------------------\n",
    "    # Number of alphas along the regularization path, used for each l1_ratio.\n",
    "    n_alphas=100,\n",
    "    # --------------------------------------------------------------------------\n",
    "    # List of alphas where to compute the models. If None alphas are set \n",
    "    # automatically.\n",
    "    alphas=None,\n",
    "    # ---------------------------------------------------------------------\n",
    "    # Whether to fit the intercept for this model.\n",
    "    fit_intercept=True,    \n",
    "    # --------------------------------------------------------------------------\n",
    "    # The maximum number of iterations.\n",
    "    max_iter=1000,\n",
    "    # --------------------------------------------------------------------------\n",
    "    # The tolerance for the optimization: if the updates are smaller than tol, \n",
    "    # the optimization code checks the dual gap for optimality and continues \n",
    "    # until it is smaller than tol.\n",
    "    tol=1e-4,\n",
    "    # --------------------------------------------------------------------------\n",
    "    # Determines the cross-validation splitting strategy. Possible inputs for \n",
    "    # cv are:\n",
    "    # * None, to use the default 5-fold cross-validation,\n",
    "    # * int, to specify the number of folds.\n",
    "    # * CV splitter,\n",
    "    # * An iterable yielding (train, test) splits as arrays of indices.\n",
    "    cv=None,\n",
    "    # --------------------------------------------------------------------------\n",
    "    # When set to True, forces the coefficients to be positive.\n",
    "    positive=False,    \n",
    "    # --------------------------------------------------------------------------\n",
    "    # The seed of the pseudo random number generator that selects a random \n",
    "    # feature to update. Used when selection == ‘random’. Pass an int for \n",
    "    # reproducible output across multiple function calls. \n",
    "    random_state=None,\n",
    "    # --------------------------------------------------------------------------\n",
    "    # If set to ‘random’, a random coefficient is updated every iteration rather\n",
    "    # than looping over features sequentially by default. This (setting to \n",
    "    # ‘random’) often leads to significantly faster convergence especially when\n",
    "    # tol is higher than 1e-4.\n",
    "    selection='cyclic',    \n",
    ")"
   ]
  },
  {
   "cell_type": "code",
   "execution_count": 3,
   "id": "c1cb76d0-a0d8-44e4-9b71-7f225c511ac0",
   "metadata": {},
   "outputs": [
    {
     "data": {
      "text/plain": [
       "0.45446547279310257"
      ]
     },
     "execution_count": 3,
     "metadata": {},
     "output_type": "execute_result"
    }
   ],
   "source": [
    "elasticNetCV.fit(X, y)\n",
    "\n",
    "elasticNetCV.score(X, y)"
   ]
  },
  {
   "cell_type": "code",
   "execution_count": 4,
   "id": "51248827-36e2-47fa-bc11-809f5b3b1203",
   "metadata": {},
   "outputs": [
    {
     "data": {
      "text/plain": [
       "0.5"
      ]
     },
     "execution_count": 4,
     "metadata": {},
     "output_type": "execute_result"
    }
   ],
   "source": [
    "elasticNetCV.l1_ratio_"
   ]
  },
  {
   "cell_type": "code",
   "execution_count": 5,
   "id": "b5ff62ee-e48d-489c-b4be-2432b5a9fa8c",
   "metadata": {},
   "outputs": [
    {
     "data": {
      "text/plain": [
       "array([4.29608715e+00, 4.00654526e+00, 3.73651751e+00, 3.48468874e+00,\n",
       "       3.24983238e+00, 3.03080456e+00, 2.82653847e+00, 2.63603924e+00,\n",
       "       2.45837902e+00, 2.29269250e+00, 2.13817270e+00, 1.99406701e+00,\n",
       "       1.85967357e+00, 1.73433780e+00, 1.61744923e+00, 1.50843857e+00,\n",
       "       1.40677486e+00, 1.31196294e+00, 1.22354103e+00, 1.14107846e+00,\n",
       "       1.06417359e+00, 9.92451852e-01, 9.25563919e-01, 8.63184009e-01,\n",
       "       8.05008295e-01, 7.50753431e-01, 7.00155162e-01, 6.52967047e-01,\n",
       "       6.08959254e-01, 5.67917438e-01, 5.29641704e-01, 4.93945625e-01,\n",
       "       4.60655343e-01, 4.29608715e-01, 4.00654526e-01, 3.73651751e-01,\n",
       "       3.48468874e-01, 3.24983238e-01, 3.03080456e-01, 2.82653847e-01,\n",
       "       2.63603924e-01, 2.45837902e-01, 2.29269250e-01, 2.13817270e-01,\n",
       "       1.99406701e-01, 1.85967357e-01, 1.73433780e-01, 1.61744923e-01,\n",
       "       1.50843857e-01, 1.40677486e-01, 1.31196294e-01, 1.22354103e-01,\n",
       "       1.14107846e-01, 1.06417359e-01, 9.92451852e-02, 9.25563919e-02,\n",
       "       8.63184009e-02, 8.05008295e-02, 7.50753431e-02, 7.00155162e-02,\n",
       "       6.52967047e-02, 6.08959254e-02, 5.67917438e-02, 5.29641704e-02,\n",
       "       4.93945625e-02, 4.60655343e-02, 4.29608715e-02, 4.00654526e-02,\n",
       "       3.73651751e-02, 3.48468874e-02, 3.24983238e-02, 3.03080456e-02,\n",
       "       2.82653847e-02, 2.63603924e-02, 2.45837902e-02, 2.29269250e-02,\n",
       "       2.13817270e-02, 1.99406701e-02, 1.85967357e-02, 1.73433780e-02,\n",
       "       1.61744923e-02, 1.50843857e-02, 1.40677486e-02, 1.31196294e-02,\n",
       "       1.22354103e-02, 1.14107846e-02, 1.06417359e-02, 9.92451852e-03,\n",
       "       9.25563919e-03, 8.63184009e-03, 8.05008295e-03, 7.50753431e-03,\n",
       "       7.00155162e-03, 6.52967047e-03, 6.08959254e-03, 5.67917438e-03,\n",
       "       5.29641704e-03, 4.93945625e-03, 4.60655343e-03, 4.29608715e-03])"
      ]
     },
     "execution_count": 5,
     "metadata": {},
     "output_type": "execute_result"
    }
   ],
   "source": [
    "elasticNetCV.alphas_"
   ]
  },
  {
   "cell_type": "code",
   "execution_count": 6,
   "id": "7743958f-534b-4089-93cf-8c6e2de63e05",
   "metadata": {},
   "outputs": [
    {
     "data": {
      "text/plain": [
       "array([  28.49978746,  -86.0271142 ,  312.29147591,  204.85390348,\n",
       "          3.74693477,  -30.66162901, -153.60181641,  117.55501783,\n",
       "        267.95924523,  111.98545801])"
      ]
     },
     "execution_count": 6,
     "metadata": {},
     "output_type": "execute_result"
    }
   ],
   "source": [
    "elasticNetCV.coef_"
   ]
  },
  {
   "cell_type": "code",
   "execution_count": 7,
   "id": "b2fc064e-157f-4ed9-bdc3-a17b77ac5451",
   "metadata": {},
   "outputs": [
    {
     "data": {
      "text/plain": [
       "152.133484162896"
      ]
     },
     "execution_count": 7,
     "metadata": {},
     "output_type": "execute_result"
    }
   ],
   "source": [
    "elasticNetCV.intercept_"
   ]
  }
 ],
 "metadata": {
  "kernelspec": {
   "display_name": "Python 3 (ipykernel)",
   "language": "python",
   "name": "python3"
  },
  "language_info": {
   "codemirror_mode": {
    "name": "ipython",
    "version": 3
   },
   "file_extension": ".py",
   "mimetype": "text/x-python",
   "name": "python",
   "nbconvert_exporter": "python",
   "pygments_lexer": "ipython3",
   "version": "3.8.10"
  }
 },
 "nbformat": 4,
 "nbformat_minor": 5
}
