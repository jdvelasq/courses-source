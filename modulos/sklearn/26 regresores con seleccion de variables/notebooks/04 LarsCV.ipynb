{
 "cells": [
  {
   "cell_type": "markdown",
   "id": "c6f334b0-554f-42bf-a03c-78bc185ba912",
   "metadata": {},
   "source": [
    "LarsCV\n",
    "==="
   ]
  },
  {
   "cell_type": "markdown",
   "id": "45977a62-9773-47ef-a3de-ae9544f38074",
   "metadata": {},
   "source": [
    "* Implementa un modelo LARS con validación cruzada."
   ]
  },
  {
   "cell_type": "code",
   "execution_count": 1,
   "id": "eaf15a57-60b1-44a9-90b4-392bc35d8607",
   "metadata": {},
   "outputs": [],
   "source": [
    "from sklearn.datasets import load_diabetes\n",
    "\n",
    "X, y = load_diabetes(return_X_y=True)"
   ]
  },
  {
   "cell_type": "code",
   "execution_count": 2,
   "id": "c92c94be-5ac5-4e68-af80-8f3780f3ad85",
   "metadata": {},
   "outputs": [],
   "source": [
    "from sklearn.linear_model import LarsCV\n",
    "\n",
    "larsCV = LarsCV(\n",
    "    # ---------------------------------------------------------------------\n",
    "    # Whether to fit the intercept for this model.\n",
    "    fit_intercept=True,\n",
    "    # --------------------------------------------------------------------------\n",
    "    # The maximum number of iterations.\n",
    "    max_iter=500,\n",
    "    # --------------------------------------------------------------------------\n",
    "    # Determines the cross-validation splitting strategy. Possible inputs for \n",
    "    # cv are:\n",
    "    # * None, to use the default 5-fold cross-validation,\n",
    "    # * int, to specify the number of folds.\n",
    "    # * CV splitter,\n",
    "    # * An iterable yielding (train, test) splits as arrays of indices.\n",
    "    cv=None,\n",
    "    # --------------------------------------------------------------------------\n",
    "    # The maximum number of points on the path used to compute the residuals in \n",
    "    # the cross-validation.\n",
    "    max_n_alphas=1000,\n",
    ")"
   ]
  },
  {
   "cell_type": "code",
   "execution_count": 3,
   "id": "c1cb76d0-a0d8-44e4-9b71-7f225c511ac0",
   "metadata": {},
   "outputs": [
    {
     "data": {
      "text/plain": [
       "0.5000524336939126"
      ]
     },
     "execution_count": 3,
     "metadata": {},
     "output_type": "execute_result"
    }
   ],
   "source": [
    "larsCV.fit(X, y)\n",
    "\n",
    "larsCV.score(X, y)"
   ]
  },
  {
   "cell_type": "code",
   "execution_count": 4,
   "id": "51248827-36e2-47fa-bc11-809f5b3b1203",
   "metadata": {},
   "outputs": [
    {
     "data": {
      "text/plain": [
       "0.16079438841644006"
      ]
     },
     "execution_count": 4,
     "metadata": {},
     "output_type": "execute_result"
    }
   ],
   "source": [
    "larsCV.alpha_"
   ]
  },
  {
   "cell_type": "code",
   "execution_count": 5,
   "id": "7743958f-534b-4089-93cf-8c6e2de63e05",
   "metadata": {},
   "outputs": [
    {
     "data": {
      "text/plain": [
       "array([   0.        , -108.03748015,  511.97451874,  250.57032169,\n",
       "          0.        ,    0.        , -193.2451994 ,    0.        ,\n",
       "        452.20797343,   10.79581283])"
      ]
     },
     "execution_count": 5,
     "metadata": {},
     "output_type": "execute_result"
    }
   ],
   "source": [
    "larsCV.coef_"
   ]
  },
  {
   "cell_type": "code",
   "execution_count": 6,
   "id": "b2fc064e-157f-4ed9-bdc3-a17b77ac5451",
   "metadata": {},
   "outputs": [
    {
     "data": {
      "text/plain": [
       "152.13348416289602"
      ]
     },
     "execution_count": 6,
     "metadata": {},
     "output_type": "execute_result"
    }
   ],
   "source": [
    "larsCV.intercept_"
   ]
  }
 ],
 "metadata": {
  "kernelspec": {
   "display_name": "Python 3 (ipykernel)",
   "language": "python",
   "name": "python3"
  },
  "language_info": {
   "codemirror_mode": {
    "name": "ipython",
    "version": 3
   },
   "file_extension": ".py",
   "mimetype": "text/x-python",
   "name": "python",
   "nbconvert_exporter": "python",
   "pygments_lexer": "ipython3",
   "version": "3.8.10"
  }
 },
 "nbformat": 4,
 "nbformat_minor": 5
}
