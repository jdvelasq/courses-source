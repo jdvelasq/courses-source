{
 "cells": [
  {
   "cell_type": "markdown",
   "id": "87e8daba-4701-4037-b375-840812c628f6",
   "metadata": {
    "tags": []
   },
   "source": [
    "Lasso\n",
    "==="
   ]
  },
  {
   "cell_type": "markdown",
   "id": "f3556d7b-f301-4885-b291-932ee87fbf91",
   "metadata": {},
   "source": [
    "* Modelo de regresión lineal con penalización L1."
   ]
  },
  {
   "cell_type": "markdown",
   "id": "6c01cdf5-d059-48e1-8ce3-187f2af38114",
   "metadata": {},
   "source": [
    "* Para la estimación de los parámetros se minimiza la función objetivo:\n",
    "\n",
    "$$\n",
    "\\min_w \\frac{1}{2n} ||Xw -y||_2^2 \n",
    "+ \\alpha *  ||w||_1\n",
    "$$"
   ]
  },
  {
   "cell_type": "markdown",
   "id": "e5b434ec-9be7-4fd1-8584-549c29594e48",
   "metadata": {},
   "source": [
    "* Tiende a preferir soluciones con pocos coeficientes diferentes de cero, reduciendo el número de características sobre las cuales la solución es dependiente."
   ]
  },
  {
   "cell_type": "markdown",
   "id": "ddb30aa0-3745-40a0-8119-2b09c926afce",
   "metadata": {},
   "source": [
    "* Bajo ciertas condiciones, puede recuperar el conjunto exacto de coeficientes diferentes de cero."
   ]
  },
  {
   "cell_type": "markdown",
   "id": "1cbfc55c-9c1a-4d70-8988-5e446c8b1358",
   "metadata": {},
   "source": [
    "* La implementación de sklearn usa el algoritmo de coordenadas descendentes para estimar los parámetros del modelo."
   ]
  },
  {
   "cell_type": "code",
   "execution_count": 1,
   "id": "da20e4c3-eeef-41d9-881b-ab6c87b3b1de",
   "metadata": {},
   "outputs": [],
   "source": [
    "from sklearn.linear_model import Lasso\n",
    "\n",
    "lasso = Lasso(\n",
    "    # --------------------------------------------------------------------------\n",
    "    # Constant that multiplies the L1 term, controlling regularization strength. \n",
    "    # alpha must be a non-negative float i.e. in [0, inf). When alpha = 0, the \n",
    "    # objective is equivalent to ordinary least squares, solved by the \n",
    "    # LinearRegression object. \n",
    "    alpha=1.0,\n",
    "    # ---------------------------------------------------------------------\n",
    "    # Whether to fit the intercept for this model.\n",
    "    fit_intercept=True,\n",
    "    # ---------------------------------------------------------------------\n",
    "    # Maximum number of iterations.\n",
    "    max_iter=1000,    \n",
    "    # --------------------------------------------------------------------------\n",
    "    # The tolerance for the optimization\n",
    "    tol=1e-4,\n",
    "    # --------------------------------------------------------------------------\n",
    "    # When set to True, reuse the solution of the previous call to fit as \n",
    "    # initialization, otherwise, just erase the previous solution. \n",
    "    warm_start=False,\n",
    "    # --------------------------------------------------------------------------\n",
    "    # When set to True, forces the coefficients to be positive.\n",
    "    positive=False,\n",
    "    # --------------------------------------------------------------------------\n",
    "    # The seed of the pseudo random number generator that selects a random \n",
    "    # feature to update. Used when selection == ‘random’. Pass an int for \n",
    "    # reproducible output across multiple function calls. \n",
    "    random_state=None,\n",
    "    # --------------------------------------------------------------------------\n",
    "    # If set to ‘random’, a random coefficient is updated every iteration rather\n",
    "    # than looping over features sequentially by default. This (setting to \n",
    "    # ‘random’) often leads to significantly faster convergence especially when\n",
    "    # tol is higher than 1e-4.\n",
    "    selection='cyclic',\n",
    ")"
   ]
  },
  {
   "cell_type": "code",
   "execution_count": 2,
   "id": "b6cf1683-1aa4-4085-801b-5146124e0c61",
   "metadata": {},
   "outputs": [],
   "source": [
    "from sklearn.datasets import load_diabetes\n",
    "\n",
    "X, y = load_diabetes(return_X_y=True)"
   ]
  },
  {
   "cell_type": "code",
   "execution_count": 3,
   "id": "8eea13f4-3f4d-4382-b0c4-263178938a06",
   "metadata": {},
   "outputs": [
    {
     "data": {
      "text/plain": [
       "0.357378738231628"
      ]
     },
     "execution_count": 3,
     "metadata": {},
     "output_type": "execute_result"
    }
   ],
   "source": [
    "lasso.fit(X, y)\n",
    "\n",
    "lasso.score(X, y)"
   ]
  },
  {
   "cell_type": "code",
   "execution_count": 4,
   "id": "a52acc26-c92a-43be-b299-ca4451d2711e",
   "metadata": {},
   "outputs": [
    {
     "data": {
      "text/plain": [
       "array([  0.        ,  -0.        , 367.70385976,   6.29885756,\n",
       "         0.        ,   0.        ,  -0.        ,   0.        ,\n",
       "       307.6054181 ,   0.        ])"
      ]
     },
     "execution_count": 4,
     "metadata": {},
     "output_type": "execute_result"
    }
   ],
   "source": [
    "lasso.coef_"
   ]
  },
  {
   "cell_type": "code",
   "execution_count": 5,
   "id": "98628f06-3627-480b-914d-8ab4fbf94476",
   "metadata": {},
   "outputs": [
    {
     "data": {
      "text/plain": [
       "152.133484162896"
      ]
     },
     "execution_count": 5,
     "metadata": {},
     "output_type": "execute_result"
    }
   ],
   "source": [
    "lasso.intercept_"
   ]
  }
 ],
 "metadata": {
  "kernelspec": {
   "display_name": "Python 3 (ipykernel)",
   "language": "python",
   "name": "python3"
  },
  "language_info": {
   "codemirror_mode": {
    "name": "ipython",
    "version": 3
   },
   "file_extension": ".py",
   "mimetype": "text/x-python",
   "name": "python",
   "nbconvert_exporter": "python",
   "pygments_lexer": "ipython3",
   "version": "3.8.10"
  },
  "vscode": {
   "interpreter": {
    "hash": "2482a4565599eda3cd2db35331af39775c1f78a505a9deef48c721423040da5b"
   }
  }
 },
 "nbformat": 4,
 "nbformat_minor": 5
}
