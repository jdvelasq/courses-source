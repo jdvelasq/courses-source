{
 "cells": [
  {
   "cell_type": "markdown",
   "id": "fcb528d3-f5d7-416e-b4f6-6dc69b9f7637",
   "metadata": {
    "tags": []
   },
   "source": [
    "The 20newsgroups dataset --- 5:34 min\n",
    "===\n",
    "\n",
    "* 5:34 min | Ultima modificación: Septiembre 28, 2021 | [YouTube](https://youtu.be/ckBgRBThVyA)"
   ]
  },
  {
   "cell_type": "markdown",
   "id": "87568e42-4b5b-4135-b305-b3fb5af4b2c0",
   "metadata": {},
   "source": [
    "https://scikit-learn.org/stable/modules/generated/sklearn.datasets.fetch_20newsgroups.html#sklearn.datasets.fetch_20newsgroups"
   ]
  },
  {
   "cell_type": "markdown",
   "id": "9ef00dcd-c932-4c8d-9113-06519eaab6e1",
   "metadata": {},
   "source": [
    "Este dataset contiene la información de 18.846 mensages clasificados en 20 categorías. El dataset se encuentra dividido en un conjunto de entrenamiento y un conjunto de prueba. La partición de los dos conjuntos se baso en la fecha en la cual se publicó el mensaje únicamente."
   ]
  },
  {
   "cell_type": "code",
   "execution_count": 1,
   "id": "0b143722-97bd-420c-bff0-1185f77ffd9b",
   "metadata": {},
   "outputs": [],
   "source": [
    "from sklearn.datasets import fetch_20newsgroups"
   ]
  },
  {
   "cell_type": "code",
   "execution_count": 2,
   "id": "ef72ef9a-e173-4447-8f65-6317b2047625",
   "metadata": {},
   "outputs": [
    {
     "data": {
      "text/plain": [
       "dict_keys(['data', 'filenames', 'target_names', 'target', 'DESCR'])"
      ]
     },
     "execution_count": 2,
     "metadata": {},
     "output_type": "execute_result"
    }
   ],
   "source": [
    "bunch = fetch_20newsgroups(\n",
    "    # -----------------------------------------------------\n",
    "    # Specify another download and cache folder for the\n",
    "    # datasets. By default all scikit-learn data is stored\n",
    "    # in ‘~/scikit_learn_data’ subfolders.\n",
    "    data_home=None,\n",
    "    # -----------------------------------------------------\n",
    "    # Select the dataset to load: ‘train’ for the training\n",
    "    # set, ‘test’ for the test set, ‘all’ for both, with\n",
    "    # shuffled ordering.\n",
    "    subset=\"all\",\n",
    "    # -----------------------------------------------------\n",
    "    # If None (default), load all the categories. If not\n",
    "    # None, list of category names to load (other\n",
    "    # categories ignored).\n",
    "    categories=None,\n",
    "    # -----------------------------------------------------\n",
    "    # Whether or not to shuffle the data\n",
    "    shuffle=False,\n",
    "    # -----------------------------------------------------\n",
    "    # Determines random number generation for dataset\n",
    "    # shuffling.\n",
    "    random_state=None,\n",
    "    # -----------------------------------------------------\n",
    "    # May contain any subset of (‘headers’, ‘footers’,\n",
    "    # ‘quotes’). Each of these are kinds of text that will\n",
    "    # be detected and removed from the newsgroup posts,\n",
    "    # preventing classifiers from overfitting on metadata.\n",
    "    #\n",
    "    # ‘headers’ removes newsgroup headers, ‘footers’ removes\n",
    "    # blocks at the ends of posts that look like signatures,\n",
    "    # and ‘quotes’ removes lines that appear to be quoting\n",
    "    # another post.\n",
    "    #\n",
    "    # ‘headers’ follows an exact standard; the other filters\n",
    "    # are not always correct.\n",
    "    remove=(),\n",
    "    # -----------------------------------------------------\n",
    "    # If True, returns (data, target) instead of a Bunch\n",
    "    # object.\n",
    "    return_X_y=False,\n",
    ")\n",
    "\n",
    "bunch.keys()"
   ]
  },
  {
   "cell_type": "code",
   "execution_count": 3,
   "id": "5e8ef20b-6934-42c2-885e-b2d439e83f47",
   "metadata": {},
   "outputs": [
    {
     "data": {
      "text/plain": [
       "['alt.atheism',\n",
       " 'comp.graphics',\n",
       " 'comp.os.ms-windows.misc',\n",
       " 'comp.sys.ibm.pc.hardware',\n",
       " 'comp.sys.mac.hardware',\n",
       " 'comp.windows.x',\n",
       " 'misc.forsale',\n",
       " 'rec.autos',\n",
       " 'rec.motorcycles',\n",
       " 'rec.sport.baseball',\n",
       " 'rec.sport.hockey',\n",
       " 'sci.crypt',\n",
       " 'sci.electronics',\n",
       " 'sci.med',\n",
       " 'sci.space',\n",
       " 'soc.religion.christian',\n",
       " 'talk.politics.guns',\n",
       " 'talk.politics.mideast',\n",
       " 'talk.politics.misc',\n",
       " 'talk.religion.misc']"
      ]
     },
     "execution_count": 3,
     "metadata": {},
     "output_type": "execute_result"
    }
   ],
   "source": [
    "bunch.target_names"
   ]
  },
  {
   "cell_type": "code",
   "execution_count": 4,
   "id": "624e580e-f8cf-4895-a1d6-35f6be3bfe52",
   "metadata": {},
   "outputs": [
    {
     "data": {
      "text/plain": [
       "array([ 9,  4, 11,  4,  0])"
      ]
     },
     "execution_count": 4,
     "metadata": {},
     "output_type": "execute_result"
    }
   ],
   "source": [
    "bunch.target[:5]"
   ]
  },
  {
   "cell_type": "code",
   "execution_count": 5,
   "id": "f036a7f8-5ee1-4bf2-91b6-f2f79e015f79",
   "metadata": {},
   "outputs": [
    {
     "name": "stdout",
     "output_type": "stream",
     "text": [
      "From: cubbie@garnet.berkeley.edu (                               )\n",
      "Subject: Re: Cubs behind Marlins? How?\n",
      "Article-I.D.: agate.1pt592$f9a\n",
      "Organization: University of California, Berkeley\n",
      "Lines: 12\n",
      "NNTP-Posting-Host: garnet.berkeley.edu\n",
      "\n",
      "\n",
      "gajarsky@pilot.njin.net writes:\n",
      "\n",
      "morgan and guzman will have era's 1 run higher than last year, and\n",
      " the cubs will be idiots and not pitch harkey as much as hibbard.\n",
      " castillo won't be good (i think he's a stud pitcher)\n",
      "\n",
      "       This season so far, Morgan and Guzman helped to lead the Cubs\n",
      "       at top in ERA, even better than THE rotation at Atlanta.\n",
      "       Cubs ERA at 0.056 while Braves at 0.059. We know it is early\n",
      "       in the season, we Cubs fans have learned how to enjoy the\n",
      "       short triumph while it is still there.\n",
      "\n"
     ]
    }
   ],
   "source": [
    "print(bunch.data[0])"
   ]
  },
  {
   "cell_type": "code",
   "execution_count": 6,
   "id": "c7bf08bc-48f6-4a05-a99f-bb85ec582f93",
   "metadata": {},
   "outputs": [
    {
     "data": {
      "text/plain": [
       "[\"From: lerxst@wam.umd.edu (where's my thing)\\nSubject: WHAT car is this!?\\nNntp-Posting-Host: rac3.wam.umd.edu\\nOrganization: University of Maryland, College Park\\nLines: 15\\n\\n I was wondering if anyone out there could enlighten me on this car I saw\\nthe other day. It was a 2-door sports car, looked to be from the late 60s/\\nearly 70s. It was called a Bricklin. The doors were really small. In addition,\\nthe front bumper was separate from the rest of the body. This is \\nall I know. If anyone can tellme a model name, engine specs, years\\nof production, where this car is made, history, or whatever info you\\nhave on this funky looking car, please e-mail.\\n\\nThanks,\\n- IL\\n   ---- brought to you by your neighborhood Lerxst ----\\n\\n\\n\\n\\n\",\n",
       " \"From: guykuo@carson.u.washington.edu (Guy Kuo)\\nSubject: SI Clock Poll - Final Call\\nSummary: Final call for SI clock reports\\nKeywords: SI,acceleration,clock,upgrade\\nArticle-I.D.: shelley.1qvfo9INNc3s\\nOrganization: University of Washington\\nLines: 11\\nNNTP-Posting-Host: carson.u.washington.edu\\n\\nA fair number of brave souls who upgraded their SI clock oscillator have\\nshared their experiences for this poll. Please send a brief message detailing\\nyour experiences with the procedure. Top speed attained, CPU rated speed,\\nadd on cards and adapters, heat sinks, hour of usage per day, floppy disk\\nfunctionality with 800 and 1.4 m floppies are especially requested.\\n\\nI will be summarizing in the next two days, so please add to the network\\nknowledge base if you have done the clock upgrade and haven't answered this\\npoll. Thanks.\\n\\nGuy Kuo <guykuo@u.washington.edu>\\n\"]"
      ]
     },
     "metadata": {},
     "output_type": "display_data"
    },
    {
     "data": {
      "text/plain": [
       "array([7, 4])"
      ]
     },
     "metadata": {},
     "output_type": "display_data"
    }
   ],
   "source": [
    "X, y = fetch_20newsgroups(\n",
    "    # -----------------------------------------------------\n",
    "    # If True, returns (data, target) instead of a Bunch\n",
    "    # object.\n",
    "    return_X_y=True,\n",
    ")\n",
    "\n",
    "display(\n",
    "    X[:2],\n",
    "    y[:2],\n",
    ")"
   ]
  },
  {
   "cell_type": "code",
   "execution_count": 7,
   "id": "f2608a5a-8df8-42f7-850a-2b1a11795e18",
   "metadata": {},
   "outputs": [],
   "source": [
    "from sklearn.datasets import fetch_20newsgroups_vectorized\n",
    "\n",
    "bunch = fetch_20newsgroups_vectorized(\n",
    "    # -----------------------------------------------------\n",
    "    # Specify another download and cache folder for the\n",
    "    # datasets. By default all scikit-learn data is stored\n",
    "    # in ‘~/scikit_learn_data’ subfolders.\n",
    "    data_home=None,\n",
    "    # -----------------------------------------------------\n",
    "    # Select the dataset to load: ‘train’ for the training\n",
    "    # set, ‘test’ for the test set, ‘all’ for both, with\n",
    "    # shuffled ordering.\n",
    "    subset=\"all\",\n",
    "    # -----------------------------------------------------\n",
    "    # May contain any subset of (‘headers’, ‘footers’,\n",
    "    # ‘quotes’). Each of these are kinds of text that will\n",
    "    # be detected and removed from the newsgroup posts,\n",
    "    # preventing classifiers from overfitting on metadata.\n",
    "    #\n",
    "    # ‘headers’ removes newsgroup headers, ‘footers’ removes\n",
    "    # blocks at the ends of posts that look like signatures,\n",
    "    # and ‘quotes’ removes lines that appear to be quoting\n",
    "    # another post.\n",
    "    #\n",
    "    # ‘headers’ follows an exact standard; the other filters\n",
    "    # are not always correct.\n",
    "    remove=(),\n",
    "    # -----------------------------------------------------\n",
    "    # If True, returns (data, target) instead of a Bunch\n",
    "    # object.\n",
    "    return_X_y=False,\n",
    ")"
   ]
  },
  {
   "cell_type": "code",
   "execution_count": 8,
   "id": "4e1b4722-bb3f-4bde-b5c3-11eb003fad86",
   "metadata": {},
   "outputs": [
    {
     "data": {
      "text/plain": [
       "dict_keys(['data', 'target', 'target_names', 'DESCR'])"
      ]
     },
     "execution_count": 8,
     "metadata": {},
     "output_type": "execute_result"
    }
   ],
   "source": [
    "bunch.keys()"
   ]
  },
  {
   "cell_type": "code",
   "execution_count": 9,
   "id": "124ea54e-8d24-465e-97f5-a5b3a26dd6aa",
   "metadata": {},
   "outputs": [
    {
     "data": {
      "text/plain": [
       "(18846, 130107)"
      ]
     },
     "execution_count": 9,
     "metadata": {},
     "output_type": "execute_result"
    }
   ],
   "source": [
    "bunch.data.shape"
   ]
  },
  {
   "cell_type": "code",
   "execution_count": 10,
   "id": "9f39a375-336e-4ea3-bae0-eac10bae12ee",
   "metadata": {},
   "outputs": [
    {
     "data": {
      "text/plain": [
       "array([17,  7, 10, ..., 10, 18,  9])"
      ]
     },
     "execution_count": 10,
     "metadata": {},
     "output_type": "execute_result"
    }
   ],
   "source": [
    "bunch.target"
   ]
  }
 ],
 "metadata": {
  "kernelspec": {
   "display_name": "Python 3",
   "language": "python",
   "name": "python3"
  },
  "language_info": {
   "codemirror_mode": {
    "name": "ipython",
    "version": 3
   },
   "file_extension": ".py",
   "mimetype": "text/x-python",
   "name": "python",
   "nbconvert_exporter": "python",
   "pygments_lexer": "ipython3",
   "version": "3.6.9"
  }
 },
 "nbformat": 4,
 "nbformat_minor": 5
}
