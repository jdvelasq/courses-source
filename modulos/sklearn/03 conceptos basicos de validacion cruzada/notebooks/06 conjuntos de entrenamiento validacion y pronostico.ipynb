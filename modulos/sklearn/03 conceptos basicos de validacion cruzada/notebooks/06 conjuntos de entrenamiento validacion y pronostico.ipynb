{
 "cells": [
  {
   "attachments": {},
   "cell_type": "markdown",
   "metadata": {},
   "source": [
    "Particionamiento de los datos en la práctica --- 10:02\n",
    "===\n",
    "\n",
    "* Ultima modificación: 2023-02-27 | [YouTube](https://www.youtube.com/watch?v=xJ_MpKkxdrI&list=PLEFpZ3YehTnD1Cic9Xx92wWSvEUMYhUBD&index=6)"
   ]
  },
  {
   "cell_type": "markdown",
   "metadata": {},
   "source": [
    "Escenario 1\n",
    "----"
   ]
  },
  {
   "cell_type": "markdown",
   "metadata": {},
   "source": [
    "Se fijan a mano los valores de los hiperparámetros del modelo y se usan todos los datos disponibles para estimar los valores óptimos de los parámetros.\n",
    "\n",
    "* No se determina el valor óptimo de los hiperparámetros.\n",
    "\n",
    "* No se mide la generalización del modelo.\n",
    "\n",
    "* No se puede analizar el comportamiento del modelo ante datos nuevos nunca antes vistos."
   ]
  },
  {
   "cell_type": "markdown",
   "metadata": {},
   "source": [
    "Escenario 2\n",
    "---"
   ]
  },
  {
   "cell_type": "markdown",
   "metadata": {},
   "source": [
    "Los datos disponibles se dividen en dos conjuntos: uno para estimar los valores óptimos de los parámetros y el otro para medir la generalización. \n",
    "\n",
    "* Se tantean diferentes valores de los hiperparámetros del modelo y se escoge la óptima a partir de la generalización del modelo.\n",
    "\n",
    "* No se tiene en cuenta la aleatoridad de los resultados debido a la asignación de los datos a cada conjunto.\n",
    "\n",
    "* No se puede analizar el comportamiento del modelo ante datos nuevos nunca antes vistos."
   ]
  },
  {
   "cell_type": "markdown",
   "metadata": {},
   "source": [
    "Escenario 3\n",
    "----"
   ]
  },
  {
   "cell_type": "markdown",
   "metadata": {},
   "source": [
    "Los datos disponibles se dividen en dos conjuntos: uno de entrenamiento y otro de pronóstico.\n",
    "\n",
    "* El conjunto de entrenamiento se usa para estimar tanto el valor óptimo de los hiperparámetros usando validación cruzada, como de los parámetros para el modelo con configuración óptima.\n",
    "\n",
    "* La muestra de pronóstico se usa para evaluar el comportamiento del modelo ante datos nunca antes vistos, y es una aproximación a como se desempeñaría el modelo en productivo."
   ]
  }
 ],
 "metadata": {
  "kernel_info": {
   "name": "python3"
  },
  "kernelspec": {
   "display_name": ".venv",
   "language": "python",
   "name": "python3"
  },
  "language_info": {
   "codemirror_mode": {
    "name": "ipython",
    "version": 3
   },
   "file_extension": ".py",
   "mimetype": "text/x-python",
   "name": "python",
   "nbconvert_exporter": "python",
   "pygments_lexer": "ipython3",
   "version": "3.9.6"
  },
  "nteract": {
   "version": "0.7.1"
  },
  "vscode": {
   "interpreter": {
    "hash": "c8417958a2afd1d92c64094979b89d5277c2b16f620ce08f575580358c337ec6"
   }
  }
 },
 "nbformat": 4,
 "nbformat_minor": 4
}
