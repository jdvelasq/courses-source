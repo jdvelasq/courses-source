{
 "cells": [
  {
   "cell_type": "markdown",
   "id": "8e33b513-db1c-4416-8254-b8452f0f5e12",
   "metadata": {},
   "source": [
    "Coverage error\n",
    "==="
   ]
  },
  {
   "cell_type": "markdown",
   "id": "91ad46b1-6856-4d82-b280-1142367e7e8e",
   "metadata": {},
   "source": [
    "* Calcula el promedio de etiquetas que han sido incluidas en la predicción, tal que todas las etiquetas verdaderas han sido pronosticadas."
   ]
  },
  {
   "cell_type": "markdown",
   "id": "2bf9d282-5bf1-4329-a57a-4353561bfaba",
   "metadata": {},
   "source": [
    "* Es util cuando se desea conocer cuantas etiquetas han sido pronosticadas en promedio sin perder ninguna de las verdaderas."
   ]
  },
  {
   "cell_type": "markdown",
   "id": "9ceba8b5-bceb-40f2-8d49-7df03619635a",
   "metadata": {},
   "source": [
    "* El mejor valor de la métrica es el número promedio de etiquetas verdaderas."
   ]
  },
  {
   "cell_type": "markdown",
   "id": "0ee02d2d-4bf1-46cf-9e98-6eb278dce41a",
   "metadata": {},
   "source": [
    "* Se computa como:\n",
    "$$\n",
    "\\text{coverage}(y, \\hat{f})=\n",
    "\\frac{1}{n_\\text{samples}}\n",
    "\\sum_{i=0}^{n_\\text{samples}-1}\n",
    "\\max_{j:y_{ij}=1}\n",
    "\\text{rank}_{ij}\n",
    "$$\n",
    "donde:\n",
    "    \n",
    "    * $y \\in \\{0, 1\\}^{n_\\text{samples} \\times n_\\text{labels}}$ es una matriz binaria de indicadores.\n",
    "    \n",
    "    * $\\hat{f} \\in R^{n_\\text{samples} \\times n_\\text{labels}}$ es la matriz de scores asociados a cada etiqueta.\n",
    "    \n",
    "    * $\\text{rank}_{ij}=|\\{k:\\hat{f}_{ik} \\ge \\hat{f}_{ij}  \\}|$"
   ]
  },
  {
   "cell_type": "code",
   "execution_count": 1,
   "id": "875a9d1b-ad70-40fb-9945-fbb0b2d9a291",
   "metadata": {},
   "outputs": [
    {
     "data": {
      "text/plain": [
       "2.5"
      ]
     },
     "execution_count": 1,
     "metadata": {},
     "output_type": "execute_result"
    }
   ],
   "source": [
    "import numpy as np\n",
    "from sklearn.metrics import coverage_error\n",
    "\n",
    "y_true = np.array(\n",
    "    [\n",
    "        # A B  C\n",
    "        [1, 0, 0],\n",
    "        [0, 0, 1],\n",
    "    ]\n",
    ")\n",
    "y_score = np.array(\n",
    "    [\n",
    "        #   A    B    C\n",
    "        [0.75, 0.5, 1.0],\n",
    "        [1.00, 0.2, 0.1],\n",
    "    ]\n",
    ")\n",
    "\n",
    "#\n",
    "#  [0.75, 0.5, 1.0]  ->  C, A*, B  ->  2\n",
    "#  [1.00, 0.2, 0.1]  ->  A, B, C*  ->  3\n",
    "# \n",
    "coverage_error(\n",
    "    # -------------------------------------------------------------------------\n",
    "    # True binary labels in binary indicator format.\n",
    "    y_true=y_true,\n",
    "    # -------------------------------------------------------------------------\n",
    "    # Target scores, can either be probability estimates of the positive class,\n",
    "    # confidence values, or non-thresholded measure of decisions\n",
    "    y_score=y_score,\n",
    "    # -------------------------------------------------------------------------\n",
    "    # Sample weights.\n",
    "    sample_weight=None,\n",
    ")"
   ]
  }
 ],
 "metadata": {
  "kernelspec": {
   "display_name": "Python 3 (ipykernel)",
   "language": "python",
   "name": "python3"
  },
  "language_info": {
   "codemirror_mode": {
    "name": "ipython",
    "version": 3
   },
   "file_extension": ".py",
   "mimetype": "text/x-python",
   "name": "python",
   "nbconvert_exporter": "python",
   "pygments_lexer": "ipython3",
   "version": "3.8.10"
  }
 },
 "nbformat": 4,
 "nbformat_minor": 5
}
