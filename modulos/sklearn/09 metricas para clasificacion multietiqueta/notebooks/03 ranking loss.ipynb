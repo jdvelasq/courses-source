{
 "cells": [
  {
   "cell_type": "markdown",
   "id": "934042bd-2a6c-407f-a2b0-f7f2ff4e72e2",
   "metadata": {},
   "source": [
    "Ranking loss\n",
    "==="
   ]
  },
  {
   "cell_type": "markdown",
   "id": "f6d69805-fc2e-423d-bdc2-033dd01505c3",
   "metadata": {},
   "source": [
    "* Promedia sobre todas las muestras, el número de pares de etiquetas que están ordenadas erroneamente. Es decir, etiquetas verdaderas que tienen un score inferior que etiquetas falsas, ponderado por el inverso del número de pares ordenados de etiquetas falsas y verdaderas."
   ]
  },
  {
   "cell_type": "markdown",
   "id": "78089351-5c95-432e-b769-00a521eb2762",
   "metadata": {},
   "source": [
    "* Se computa como:\n",
    "$$\n",
    "\\text{ranking_loss}(y, \\hat{f}) = \n",
    "\\frac{1}{n_\\text{samples}} \n",
    "\\sum_{i=0}^{n_\\text{samples} - 1}\n",
    "\\frac{1}{||y_i||_0 (n_\\text{labels} - ||y_i||_0)}\n",
    "\\left|\n",
    "\\left\\{\n",
    "(k,l): \\hat{f}_{ik} \\le \\hat{f}_{il}, y_{ik}=1, y_{il}=0\n",
    "\\right\\}\n",
    "\\right|\n",
    "$$\n",
    "donde:\n",
    "\n",
    "    * $|\\cdot|$ es la cantidad de elementos del conjunto.\n",
    "    \n",
    "    * $||\\cdot||_0$ es el número de elementos diferentes de cero en un vector."
   ]
  },
  {
   "cell_type": "code",
   "execution_count": 1,
   "id": "28dbaeb7-aa6f-43bc-8457-321095374cb1",
   "metadata": {},
   "outputs": [
    {
     "data": {
      "text/plain": [
       "0.75"
      ]
     },
     "execution_count": 1,
     "metadata": {},
     "output_type": "execute_result"
    }
   ],
   "source": [
    "import numpy as np\n",
    "from sklearn.metrics import label_ranking_loss\n",
    "\n",
    "y_true = np.array(\n",
    "    [\n",
    "        # A B  C\n",
    "        [1, 0, 0],\n",
    "        [0, 0, 1],\n",
    "    ]\n",
    ")\n",
    "y_score = np.array(\n",
    "    [\n",
    "        #   A    B    C\n",
    "        [0.75, 0.5, 1.0],\n",
    "        [1.00, 0.2, 0.1],\n",
    "    ]\n",
    ")\n",
    "\n",
    "#           1           1\n",
    "# 0.5 * [ ----- * 2 + ----- * 1 ] = 0.75\n",
    "#         1 * 2       1 * 2\n",
    "\n",
    "label_ranking_loss(\n",
    "    # -------------------------------------------------------------------------\n",
    "    # True binary labels in binary indicator format.\n",
    "    y_true=y_true,\n",
    "    # -------------------------------------------------------------------------\n",
    "    # Target scores, can either be probability estimates of the positive class, \n",
    "    # confidence values, or non-thresholded measure of decisions\n",
    "    y_score=y_score,\n",
    "    # -------------------------------------------------------------------------\n",
    "    # Sample weights.\n",
    "    sample_weight=None,\n",
    ")"
   ]
  }
 ],
 "metadata": {
  "kernelspec": {
   "display_name": "Python 3 (ipykernel)",
   "language": "python",
   "name": "python3"
  },
  "language_info": {
   "codemirror_mode": {
    "name": "ipython",
    "version": 3
   },
   "file_extension": ".py",
   "mimetype": "text/x-python",
   "name": "python",
   "nbconvert_exporter": "python",
   "pygments_lexer": "ipython3",
   "version": "3.8.10"
  }
 },
 "nbformat": 4,
 "nbformat_minor": 5
}
