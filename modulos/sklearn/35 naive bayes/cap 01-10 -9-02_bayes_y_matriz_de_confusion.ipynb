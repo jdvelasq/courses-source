{
 "cells": [
  {
   "cell_type": "markdown",
   "id": "5609b43d-529d-4b09-954a-34a178044fa0",
   "metadata": {
    "tags": []
   },
   "source": [
    "Teorema de Bayes y métricas de error en clasificadores ---\n",
    "===\n",
    "\n",
    "* 0:00 min | Ultima modificación: Octubre 15, 2021 | [YouTube]"
   ]
  },
  {
   "cell_type": "markdown",
   "id": "dadd2d13-0757-4b2e-a16f-4dc78550a788",
   "metadata": {},
   "source": [
    "Matriz de confusión\n",
    "---"
   ]
  },
  {
   "cell_type": "markdown",
   "id": "e36bf264-7b8f-4b84-80d1-a6e82d3c44eb",
   "metadata": {},
   "source": [
    "La matriz de confusión es una matriz que permite visualizar el desempeño de un clasificador. La organización típica es la presentada a continuación:"
   ]
  },
  {
   "cell_type": "markdown",
   "id": "ef4a0014-c4e4-49ed-82ed-07cc0b455792",
   "metadata": {},
   "source": [
    "             | Pronóstico\n",
    "             |  PP    PN\n",
    "    ---------|------------\n",
    "          P  |  TP    FN \n",
    "    Real     |\n",
    "          N  |  FP    TN                        \n",
    "    \n",
    "    \n",
    "     P - Positive                 TP - Verdadero positivo (correcto)\n",
    "     N - Negative                 TN - Verdadero negativo (correcto)\n",
    "    PP - Predicted Positive       FN - Falso negativo (mal clasificado)\n",
    "    PN - Predicted Negative       FP - Falso positivo (mal clasificado)    "
   ]
  },
  {
   "cell_type": "markdown",
   "id": "300427a1-d80b-4c08-84eb-2b450699f15a",
   "metadata": {},
   "source": [
    "Considere la siguiente notación para los casos presentados:\n",
    "\n",
    "* $+$ y $-$ son los eventos de que el pronóstico sea positivo o negativo respectivamente.\n",
    "\n",
    "* $D$ y $D^c$ son los eventos reales positivos o negativos respectivamente."
   ]
  },
  {
   "cell_type": "markdown",
   "id": "f0bf9838-edd1-4682-b4d4-4dfb5e7ba260",
   "metadata": {},
   "source": [
    "Métricas derivadas de la matriz de confusión\n",
    "---"
   ]
  },
  {
   "cell_type": "markdown",
   "id": "91132b0e-3fa9-48ee-b2e1-dabd5ac42933",
   "metadata": {},
   "source": [
    "**Sensitivity/recall/hit rate/true positive rate**: Es la probabilidad de que el pronóstico sea positivo dado que el valor real es positivo:\n",
    "\n",
    "$$\n",
    "\\text{Pr}(+ \\; | \\; D) = \\frac{\\text{TP}}{\\text{P}}  = \\frac{\\text{TP}}{\\text{TP}+\\text{FN}}\n",
    "$$"
   ]
  },
  {
   "cell_type": "markdown",
   "id": "6477a4df-f482-4874-b8b1-dfc980951923",
   "metadata": {},
   "source": [
    "**Specificity/selectivity/true negative rate** Es la probabilidad de que el pronóstico sea negativo dada que el valor real es negativo:\n",
    "\n",
    "$$\n",
    "\\text{Pr}(- \\; | \\; D^c) = \\frac{\\text{TN}}{\\text{N}}  = \\frac{\\text{TN}}{\\text{FP}+\\text{TN}}\n",
    "$$"
   ]
  },
  {
   "cell_type": "markdown",
   "id": "b4ef5b63-9897-491a-aeb9-a785f70af10a",
   "metadata": {},
   "source": [
    "**Positive predictive value**: Es la probabilidad de que el valor real sea positivo dado que el pronóstico es positivo:\n",
    "\n",
    "$$\n",
    "\\text{Pr}(D \\; | \\; +) = \\frac{\\text{TP}}{\\text{PP}}  = \\frac{\\text{TP}}{\\text{TP}+\\text{FP}}\n",
    "$$"
   ]
  },
  {
   "cell_type": "markdown",
   "id": "a116f1e4-5723-4295-ad9e-a05f86e5140b",
   "metadata": {},
   "source": [
    "**Negative predictive value**: Es la probabilidad de que el valor real sea negativo cuando el pronóstico es negativo:\n",
    "\n",
    "$$\n",
    "\\text{Pr}(D^c \\; | \\; -) = \\frac{\\text{TN}}{\\text{PN}}  = \\frac{\\text{TN}}{\\text{FN}+\\text{TN}}\n",
    "$$"
   ]
  },
  {
   "cell_type": "markdown",
   "id": "0e4ce3ab-ed03-4f6a-84df-afda028bd1d5",
   "metadata": {},
   "source": [
    "**Prevalencia** Es la probabilidad de $P$."
   ]
  },
  {
   "cell_type": "markdown",
   "id": "09796e4d-fa30-4019-85f1-1ecc8f4fa40f",
   "metadata": {},
   "source": [
    "Radios de verosimilitud y su interpretación\n",
    "---"
   ]
  },
  {
   "cell_type": "markdown",
   "id": "699a3ea0-11d8-4d67-8292-89c6dd196675",
   "metadata": {},
   "source": [
    "**Radio de verosimilitud de un resultado positivo**\n",
    "\n",
    "$$\n",
    "\\text{DLR}_+ = \n",
    "\\frac{\\text{Pr}(+ \\; | \\; D)}\n",
    "{\\text{Pr}(+ \\; | \\; D^c)} = \n",
    "\\frac{\\text{sensitivity}}{1 - \\text{especifity}}\n",
    "$$\n",
    "\n",
    "Cuantas veces es más probable que se pronostique + si efectivamente es D respecto a no D."
   ]
  },
  {
   "cell_type": "markdown",
   "id": "0b4916e9-4e11-4f58-945a-eca2ce8207fd",
   "metadata": {},
   "source": [
    "**Radio de verosimilitud de un resultado negativo**\n",
    "\n",
    "$$\n",
    "\\text{DLR}_- = \n",
    "\\frac{\\text{Pr}(- \\; | \\; D)}\n",
    "{\\text{Pr}(- \\; | \\; D^c)} = \n",
    "\\frac{1 - \\text{sensitivity}}{\\text{especifity}}\n",
    "$$"
   ]
  },
  {
   "cell_type": "markdown",
   "id": "54aeabd0-7827-4002-b01c-a21759903810",
   "metadata": {},
   "source": [
    "Se interpreta como la relación entre probabilidades."
   ]
  },
  {
   "cell_type": "markdown",
   "id": "17d18204-6f3f-4ebf-b57e-96e812e6c9d1",
   "metadata": {
    "tags": []
   },
   "source": [
    "Valores esperados ---\n",
    "===\n",
    "\n",
    "* 0:00 min | Ultima modificación: Octubre 15, 2021 | [YouTube]"
   ]
  },
  {
   "cell_type": "markdown",
   "id": "8f998fbc-045c-4e81-aec9-2028feb2be65",
   "metadata": {},
   "source": [
    "Media poblacional para variables discretas\n",
    "----"
   ]
  },
  {
   "cell_type": "markdown",
   "id": "717b92ef-0b1a-4cdb-aad0-17a548a6c6c3",
   "metadata": {},
   "source": [
    "$$\n",
    "\\text{E}[X] = \\sum_x x \\cdot p(x)\n",
    "$$"
   ]
  },
  {
   "cell_type": "markdown",
   "id": "79d02b73-a301-4a16-8ff0-c9bcebf130d8",
   "metadata": {},
   "source": [
    "Media muestral\n",
    "---"
   ]
  },
  {
   "cell_type": "markdown",
   "id": "8683a8b5-49db-43cc-a6d4-8a9ddc4ba26e",
   "metadata": {},
   "source": [
    "$$\n",
    "\\bar{X} = \\sum_i^n = x_i \\cdot p(x_i)\n",
    "$$\n",
    "\n",
    "con $p(x_i)=1/n$."
   ]
  },
  {
   "cell_type": "markdown",
   "id": "6d4b1f75-c65f-4ba3-8e65-db26004165aa",
   "metadata": {},
   "source": [
    "Calculo de la media para la tirada de una moneda"
   ]
  },
  {
   "cell_type": "markdown",
   "id": "14696781-b319-44ea-ba79-2382b0faed25",
   "metadata": {},
   "source": [
    "Experimentos de simulación\n",
    "----"
   ]
  },
  {
   "cell_type": "code",
   "execution_count": 6,
   "id": "4a239ff3-5832-4286-9ebb-bbc18cff6dd4",
   "metadata": {},
   "outputs": [
    {
     "name": "stdout",
     "output_type": "stream",
     "text": [
      "Object `sns.kde` not found.\n"
     ]
    }
   ],
   "source": [
    "import numpy as np\n",
    "import seaborn as sns\n",
    "\n",
    "n_samples = 500\n",
    "#\n",
    "# Simulación de un gran número de normales\n",
    "#\n",
    "normal_sample = np.random.normal(size=n_samples)\n",
    "\n",
    "#\n",
    "# Simulación de el promedio de 10 normales u su histograma\n",
    "#\n",
    "sample_size = 10\n",
    "means_sample = np.mean(np.random.normal(size=(n_samples, sample_size)), axis=1)"
   ]
  },
  {
   "cell_type": "code",
   "execution_count": 7,
   "id": "9bca13d7-2a52-4234-96c1-e29026cf6d36",
   "metadata": {},
   "outputs": [
    {
     "name": "stdout",
     "output_type": "stream",
     "text": [
      "Object `sns.kde` not found.\n"
     ]
    }
   ],
   "source": []
  },
  {
   "cell_type": "markdown",
   "id": "804536a6-b4e2-4925-b33a-7d3cfd49cb75",
   "metadata": {},
   "source": [
    "**Promedio de la tirada de datos**"
   ]
  },
  {
   "cell_type": "code",
   "execution_count": null,
   "id": "3b58cccf-8cec-46c8-84aa-80e7b29d1b35",
   "metadata": {},
   "outputs": [],
   "source": [
    "#\n",
    "# Gráfica de la frecuencia de cada tirada de datos"
   ]
  }
 ],
 "metadata": {
  "kernelspec": {
   "display_name": "Python 3",
   "language": "python",
   "name": "python3"
  },
  "language_info": {
   "codemirror_mode": {
    "name": "ipython",
    "version": 3
   },
   "file_extension": ".py",
   "mimetype": "text/x-python",
   "name": "python",
   "nbconvert_exporter": "python",
   "pygments_lexer": "ipython3",
   "version": "3.6.9"
  }
 },
 "nbformat": 4,
 "nbformat_minor": 5
}
