{
 "cells": [
  {
   "cell_type": "markdown",
   "id": "6c921c3e-851e-49d2-8c35-e06ec4dbf66a",
   "metadata": {},
   "source": [
    "Mean squared error (MSE)\n",
    "---"
   ]
  },
  {
   "cell_type": "markdown",
   "id": "b9e03ed5-7281-4561-a457-650240612c10",
   "metadata": {},
   "source": [
    "* Corresponde al valor esperado del error o pérdida cuadrática."
   ]
  },
  {
   "cell_type": "markdown",
   "id": "7f72b18d-1143-49cf-9dca-9b1762be2aa5",
   "metadata": {},
   "source": [
    "* Se computa como:\n",
    "$$\n",
    "\\text{MSE}(y, \\hat{y}) = \n",
    "\\frac{1}{n_{\\text{samples}}}\n",
    "\\sum_{i=0}^{n_{\\text{samples}} - 1} (y_i - \\hat{y}_i)^2 =\n",
    "\\frac{1}{n_{\\text{samples}}}\n",
    "\\sum_{i=0}^{n_{\\text{samples}} - 1} \\hat{e}_i^2\n",
    "$$"
   ]
  },
  {
   "cell_type": "code",
   "execution_count": 1,
   "id": "0eef1edd-c3fd-4883-83cf-5c94ba2df9a4",
   "metadata": {},
   "outputs": [
    {
     "data": {
      "text/plain": [
       "0.375"
      ]
     },
     "execution_count": 1,
     "metadata": {},
     "output_type": "execute_result"
    }
   ],
   "source": [
    "from sklearn.metrics import mean_squared_error\n",
    "\n",
    "y_true = [3.0, -0.5, 2, 7]\n",
    "y_pred = [2.5, +0.0, 2, 8]\n",
    "\n",
    "#\n",
    "# 1/4 * ((3.0-2.5)**2 + (-0.5-0)**2 + (2-2)**2 + (7-8)**2) = 0.375\n",
    "#\n",
    "mean_squared_error(\n",
    "    # -------------------------------------------------------------------------\n",
    "    # Ground truth (correct) target values.\n",
    "    y_true=y_true,\n",
    "    # -------------------------------------------------------------------------\n",
    "    # Estimated target values.\n",
    "    y_pred=y_pred,\n",
    "    # -------------------------------------------------------------------------\n",
    "    # Sample weights.\n",
    "    sample_weight=None,\n",
    "    # -------------------------------------------------------------------------\n",
    "    # Defines aggregating of multiple output scores.\n",
    "    # * 'raw_values': Returns a full set of scores in case of multioutput input.\n",
    "    # * 'uniform_average': Scores of all outputs are averaged with uniform\n",
    "    #      weight.\n",
    "    multioutput=\"uniform_average\",\n",
    "    # -------------------------------------------------------------------------\n",
    "    # If True returns MSE value, if False returns RMSE value.\n",
    "    squared=True,\n",
    ")"
   ]
  },
  {
   "cell_type": "code",
   "execution_count": 2,
   "id": "d816c1de-d323-4328-829b-4f6b5eaa53d2",
   "metadata": {},
   "outputs": [
    {
     "data": {
      "text/plain": [
       "0.6123724356957945"
      ]
     },
     "execution_count": 2,
     "metadata": {},
     "output_type": "execute_result"
    }
   ],
   "source": [
    "#\n",
    "# 0.612372 ^2 = 0.375\n",
    "#\n",
    "mean_squared_error(\n",
    "    y_true=y_true,\n",
    "    y_pred=y_pred,\n",
    "    squared=False,\n",
    ")"
   ]
  },
  {
   "cell_type": "code",
   "execution_count": 3,
   "id": "12f5c163-2511-47f2-8ed8-80b04468db76",
   "metadata": {},
   "outputs": [
    {
     "data": {
      "text/plain": [
       "array([0.41666667, 1.        ])"
      ]
     },
     "execution_count": 3,
     "metadata": {},
     "output_type": "execute_result"
    }
   ],
   "source": [
    "y_true = [[0.5, 1], [-1, 1], [7, -6]]\n",
    "y_pred = [[0.0, 2], [-1, 2], [8, -5]]\n",
    "\n",
    "# 1/3 * ((0.5-0)**2 + (-1-(-1))**2 + (7-8)**2) = 0.41666667\n",
    "# 1/3 * ((1-2)**2 + (1-2)**2+(-5-(-6)**2)) = 1.0\n",
    "mean_squared_error(\n",
    "    y_true,\n",
    "    y_pred,\n",
    "    multioutput=\"raw_values\",\n",
    ")"
   ]
  },
  {
   "cell_type": "code",
   "execution_count": 4,
   "id": "e869cf28-41d0-42a0-9d27-b88a50908b83",
   "metadata": {},
   "outputs": [
    {
     "data": {
      "text/plain": [
       "0.7083333333333334"
      ]
     },
     "execution_count": 4,
     "metadata": {},
     "output_type": "execute_result"
    }
   ],
   "source": [
    "#\n",
    "# 0.5 * (0.41666667 + 1.0) = 0.708333\n",
    "#\n",
    "mean_squared_error(\n",
    "    y_true,\n",
    "    y_pred,\n",
    ")"
   ]
  },
  {
   "cell_type": "code",
   "execution_count": 5,
   "id": "2d14f099-1948-44b4-ab6c-e139493c26e4",
   "metadata": {},
   "outputs": [
    {
     "data": {
      "text/plain": [
       "0.8227486121839513"
      ]
     },
     "execution_count": 5,
     "metadata": {},
     "output_type": "execute_result"
    }
   ],
   "source": [
    "#\n",
    "# 0.5 * (sqrt(0.41666667) + 1.0) = 0.822748\n",
    "#\n",
    "mean_squared_error(\n",
    "    y_true,\n",
    "    y_pred,\n",
    "    squared=False,\n",
    ")"
   ]
  },
  {
   "cell_type": "code",
   "execution_count": 6,
   "id": "f3f7f588-f1ec-491e-8368-c8eda2ea5a7e",
   "metadata": {},
   "outputs": [
    {
     "data": {
      "text/plain": [
       "0.825"
      ]
     },
     "execution_count": 6,
     "metadata": {},
     "output_type": "execute_result"
    }
   ],
   "source": [
    "#\n",
    "# 0.3 * 0.41666667 + 0.7 * 1.0 = 0.825\n",
    "#\n",
    "mean_squared_error(\n",
    "    y_true,\n",
    "    y_pred,\n",
    "    multioutput=[0.3, 0.7],\n",
    ")"
   ]
  }
 ],
 "metadata": {
  "kernelspec": {
   "display_name": "Python 3 (ipykernel)",
   "language": "python",
   "name": "python3"
  },
  "language_info": {
   "codemirror_mode": {
    "name": "ipython",
    "version": 3
   },
   "file_extension": ".py",
   "mimetype": "text/x-python",
   "name": "python",
   "nbconvert_exporter": "python",
   "pygments_lexer": "ipython3",
   "version": "3.8.10"
  }
 },
 "nbformat": 4,
 "nbformat_minor": 5
}
