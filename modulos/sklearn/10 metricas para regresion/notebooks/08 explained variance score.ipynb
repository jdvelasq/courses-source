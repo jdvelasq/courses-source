{
 "cells": [
  {
   "cell_type": "markdown",
   "id": "aad87148-6db8-4d60-bddf-0fab08509e92",
   "metadata": {},
   "source": [
    "Explained variance score\n",
    "==="
   ]
  },
  {
   "cell_type": "markdown",
   "id": "866fa7a8-2e82-4251-8f2d-d1ae4064799b",
   "metadata": {},
   "source": [
    "* Se suele preferir R2 en vez de esta metrica, ya que esta no tiene en cuenta la desviación sistemática de las desviaciones."
   ]
  },
  {
   "cell_type": "markdown",
   "id": "5eaa65a0-539a-4fff-8e45-dee604b68c37",
   "metadata": {
    "tags": []
   },
   "source": [
    "* Se computa como:\n",
    "$$\n",
    "\\text{explained_variance}(y, \\hat{y}) = 1 - \n",
    "\\frac{Var\\{y - \\hat{y}\\}}{Var\\{y\\}}\n",
    "= 1 - \n",
    "\\frac{Var\\{\\hat{e}\\}}{Var\\{y\\}}\n",
    "$$"
   ]
  },
  {
   "cell_type": "code",
   "execution_count": 1,
   "id": "d7427199-7ba9-4458-b83d-4570d521c38f",
   "metadata": {},
   "outputs": [
    {
     "data": {
      "text/plain": [
       "0.9571734475374732"
      ]
     },
     "execution_count": 1,
     "metadata": {},
     "output_type": "execute_result"
    }
   ],
   "source": [
    "from sklearn.metrics import explained_variance_score\n",
    "\n",
    "y_true = [3.0, -0.5, 2, 7]\n",
    "y_pred = [2.5, +0.0, 2, 8]\n",
    "\n",
    "# var(y_true) = 7.296875\n",
    "# var(y_pred) = 0.3125\n",
    "# 1 - 0.3125 / 7.296875 = 0.957173\n",
    "\n",
    "explained_variance_score(\n",
    "    # -------------------------------------------------------------------------\n",
    "    # Ground truth (correct) target values.\n",
    "    y_true=y_true,\n",
    "    # -------------------------------------------------------------------------\n",
    "    # Estimated target values.\n",
    "    y_pred=y_pred,\n",
    "    # -------------------------------------------------------------------------\n",
    "    # Sample weights.\n",
    "    sample_weight=None,\n",
    "    # -------------------------------------------------------------------------\n",
    "    # Defines aggregating of multiple output scores.\n",
    "    # * 'raw_values': Returns a full set of scores in case of multioutput input.\n",
    "    # * 'uniform_average': Scores of all outputs are averaged with uniform\n",
    "    #      weight.\n",
    "    # * 'variance_weighted': Scores of all outputs are averaged, weighted by\n",
    "    #      the variances of each individual output.\n",
    "    multioutput=\"uniform_average\",\n",
    "    # -------------------------------------------------------------------------\n",
    "    # Flag indicating if NaN and -Inf scores resulting from constant data\n",
    "    # should be replaced with real numbers (1.0 if prediction is perfect, 0.0\n",
    "    # otherwise).\n",
    "    force_finite=True,\n",
    ")"
   ]
  },
  {
   "cell_type": "code",
   "execution_count": 2,
   "id": "cffe5161-e1ab-480a-93cf-8cc7e752178c",
   "metadata": {},
   "outputs": [
    {
     "data": {
      "text/plain": [
       "array([0.96774194, 1.        ])"
      ]
     },
     "execution_count": 2,
     "metadata": {},
     "output_type": "execute_result"
    }
   ],
   "source": [
    "y_true = [[0.5, 1], [-1, 1], [7, -6]]\n",
    "y_pred = [[0.0, 2], [-1, 2], [8, -5]]\n",
    "\n",
    "# y_true = [0.5, -1, 7]\n",
    "# y_pred = [0.0, -1, 8]\n",
    "# explained_variance_score(y_true, y_pred) = 0.967741\n",
    "#\n",
    "# y_true = [1, 1, -6]\n",
    "# y_pred = [2, 2, -5]\n",
    "# explained_variance_score(y_true, y_pred) = 1.\n",
    "\n",
    "explained_variance_score(\n",
    "    y_true,\n",
    "    y_pred,\n",
    "    multioutput=\"raw_values\",\n",
    ")"
   ]
  },
  {
   "cell_type": "code",
   "execution_count": 3,
   "id": "9d9e98b5-7042-4335-ab3e-ac7c257bc13c",
   "metadata": {},
   "outputs": [
    {
     "data": {
      "text/plain": [
       "0.9838709677419355"
      ]
     },
     "execution_count": 3,
     "metadata": {},
     "output_type": "execute_result"
    }
   ],
   "source": [
    "#\n",
    "# 0.5 * (0.967741 + 1.) = 0.983870\n",
    "#\n",
    "explained_variance_score(\n",
    "    y_true,\n",
    "    y_pred,\n",
    "    multioutput=\"uniform_average\",\n",
    ")"
   ]
  },
  {
   "cell_type": "code",
   "execution_count": 4,
   "id": "75556607-7be3-44d0-a1ab-168419c3398f",
   "metadata": {},
   "outputs": [
    {
     "data": {
      "text/plain": [
       "1.0"
      ]
     },
     "execution_count": 4,
     "metadata": {},
     "output_type": "execute_result"
    }
   ],
   "source": [
    "y_true = [-2, -2, -2]\n",
    "y_pred = [-2, -2, -2]\n",
    "\n",
    "explained_variance_score(\n",
    "    y_true,\n",
    "    y_pred,\n",
    "    # force_finite=True\n",
    ")"
   ]
  },
  {
   "cell_type": "code",
   "execution_count": 5,
   "id": "51df3915-d6be-440c-9a16-3d3f8ce1e260",
   "metadata": {},
   "outputs": [
    {
     "name": "stderr",
     "output_type": "stream",
     "text": [
      "/usr/local/lib/python3.8/dist-packages/sklearn/metrics/_regression.py:624: RuntimeWarning: invalid value encountered in divide\n",
      "  output_scores = 1 - (numerator / denominator)\n"
     ]
    },
    {
     "data": {
      "text/plain": [
       "nan"
      ]
     },
     "execution_count": 5,
     "metadata": {},
     "output_type": "execute_result"
    }
   ],
   "source": [
    "explained_variance_score(y_true, y_pred, force_finite=False)"
   ]
  },
  {
   "cell_type": "code",
   "execution_count": 6,
   "id": "2616803c-87b3-47bf-8b72-2fa291546cf4",
   "metadata": {},
   "outputs": [
    {
     "data": {
      "text/plain": [
       "0.0"
      ]
     },
     "execution_count": 6,
     "metadata": {},
     "output_type": "execute_result"
    }
   ],
   "source": [
    "y_true = [-2, -2, -2]\n",
    "y_pred = [-2, -2, -2 + 1e-8]\n",
    "\n",
    "explained_variance_score(\n",
    "    y_true,\n",
    "    y_pred,\n",
    ")"
   ]
  },
  {
   "cell_type": "code",
   "execution_count": 7,
   "id": "76a50755-aff6-494c-b836-3d4007f1a964",
   "metadata": {},
   "outputs": [
    {
     "name": "stderr",
     "output_type": "stream",
     "text": [
      "/usr/local/lib/python3.8/dist-packages/sklearn/metrics/_regression.py:624: RuntimeWarning: divide by zero encountered in divide\n",
      "  output_scores = 1 - (numerator / denominator)\n"
     ]
    },
    {
     "data": {
      "text/plain": [
       "-inf"
      ]
     },
     "execution_count": 7,
     "metadata": {},
     "output_type": "execute_result"
    }
   ],
   "source": [
    "explained_variance_score(\n",
    "    y_true,\n",
    "    y_pred,\n",
    "    force_finite=False,\n",
    ")"
   ]
  }
 ],
 "metadata": {
  "kernelspec": {
   "display_name": "Python 3 (ipykernel)",
   "language": "python",
   "name": "python3"
  },
  "language_info": {
   "codemirror_mode": {
    "name": "ipython",
    "version": 3
   },
   "file_extension": ".py",
   "mimetype": "text/x-python",
   "name": "python",
   "nbconvert_exporter": "python",
   "pygments_lexer": "ipython3",
   "version": "3.8.10"
  }
 },
 "nbformat": 4,
 "nbformat_minor": 5
}
