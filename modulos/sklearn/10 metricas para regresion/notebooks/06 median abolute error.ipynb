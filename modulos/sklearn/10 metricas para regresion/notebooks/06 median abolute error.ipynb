{
 "cells": [
  {
   "cell_type": "markdown",
   "id": "f0582700-6b73-4f2d-add3-637e296764fc",
   "metadata": {},
   "source": [
    "Median absolute error\n",
    "==="
   ]
  },
  {
   "cell_type": "markdown",
   "id": "480b9916-3ed9-46b5-a111-e3adb87c5ded",
   "metadata": {},
   "source": [
    "* Es robusto a outliers."
   ]
  },
  {
   "cell_type": "markdown",
   "id": "4aa4690c-2a6b-4bf4-b3c6-d91ec6026e2c",
   "metadata": {},
   "source": [
    "* Se computa como:\n",
    "$$\n",
    "\\text{MedAE}(y_i, \\hat{y}_i) =\n",
    "\\text{median}(|y_1 - \\hat{y}_1|, \\dots, |y_n - \\hat{y}_n| = \n",
    "\\text{median}(|\\hat{e}_1|, \\dots, |\\hat{e}_n|) \n",
    "$$"
   ]
  },
  {
   "cell_type": "code",
   "execution_count": 1,
   "id": "99ac2ae1-bb4d-4390-9ce6-3af27d08fefa",
   "metadata": {},
   "outputs": [
    {
     "data": {
      "text/plain": [
       "0.5"
      ]
     },
     "execution_count": 1,
     "metadata": {},
     "output_type": "execute_result"
    }
   ],
   "source": [
    "from sklearn.metrics import median_absolute_error\n",
    "\n",
    "y_true = [3.0, -0.5, 2, 7]\n",
    "y_pred = [2.5, +0.0, 2, 8]\n",
    "\n",
    "# median(0.5, 0.5, 0.0, 1.0) = 0.5\n",
    "\n",
    "median_absolute_error(\n",
    "    # -------------------------------------------------------------------------\n",
    "    # Ground truth (correct) target values.\n",
    "    y_true=y_true,\n",
    "    # -------------------------------------------------------------------------\n",
    "    # Estimated target values.\n",
    "    y_pred=y_pred,\n",
    "    # -------------------------------------------------------------------------\n",
    "    # Sample weights.\n",
    "    sample_weight=None,\n",
    "    # -------------------------------------------------------------------------\n",
    "    # Defines aggregating of multiple output scores.\n",
    "    # * 'raw_values': Returns a full set of scores in case of multioutput input.\n",
    "    # * 'uniform_average': Scores of all outputs are averaged with uniform\n",
    "    #      weight.\n",
    "    multioutput=\"uniform_average\",\n",
    ")"
   ]
  },
  {
   "cell_type": "code",
   "execution_count": 2,
   "id": "b70f7822-823d-47ab-93af-d87c2781b304",
   "metadata": {},
   "outputs": [
    {
     "data": {
      "text/plain": [
       "array([0.5, 1. ])"
      ]
     },
     "execution_count": 2,
     "metadata": {},
     "output_type": "execute_result"
    }
   ],
   "source": [
    "y_true = [[0.5, 1], [-1, 1], [7, -6]]\n",
    "y_pred = [[0.0, 2], [-1, 2], [8, -5]]\n",
    "\n",
    "# median(0.5, 0.0, 1.0) = 0.5\n",
    "# median(1.0, 1.0, 1.0) = 1.0\n",
    "median_absolute_error(\n",
    "    y_true,\n",
    "    y_pred,\n",
    "    multioutput=\"raw_values\",\n",
    ")"
   ]
  },
  {
   "cell_type": "code",
   "execution_count": 3,
   "id": "7da2fbf9-aa73-4597-944a-26c3ba697d90",
   "metadata": {},
   "outputs": [
    {
     "data": {
      "text/plain": [
       "0.75"
      ]
     },
     "execution_count": 3,
     "metadata": {},
     "output_type": "execute_result"
    }
   ],
   "source": [
    "#\n",
    "# 0.5 * (0.5 + 1.0) = 0.75\n",
    "#\n",
    "median_absolute_error(\n",
    "    y_true,\n",
    "    y_pred,\n",
    ")"
   ]
  },
  {
   "cell_type": "code",
   "execution_count": 4,
   "id": "9dabff0e-d9de-4900-9de2-4800a26488b1",
   "metadata": {},
   "outputs": [
    {
     "data": {
      "text/plain": [
       "0.85"
      ]
     },
     "execution_count": 4,
     "metadata": {},
     "output_type": "execute_result"
    }
   ],
   "source": [
    "#\n",
    "# 0.3 * 0.5 + 0.7 * 1.0 = 0.85\n",
    "#\n",
    "median_absolute_error(\n",
    "    y_true,\n",
    "    y_pred,\n",
    "    multioutput=[0.3, 0.7],\n",
    ")"
   ]
  }
 ],
 "metadata": {
  "kernelspec": {
   "display_name": "Python 3 (ipykernel)",
   "language": "python",
   "name": "python3"
  },
  "language_info": {
   "codemirror_mode": {
    "name": "ipython",
    "version": 3
   },
   "file_extension": ".py",
   "mimetype": "text/x-python",
   "name": "python",
   "nbconvert_exporter": "python",
   "pygments_lexer": "ipython3",
   "version": "3.8.10"
  }
 },
 "nbformat": 4,
 "nbformat_minor": 5
}
