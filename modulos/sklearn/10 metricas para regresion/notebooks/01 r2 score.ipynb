{
 "cells": [
  {
   "cell_type": "markdown",
   "id": "601c32f1-a4f6-4c72-82cb-0a0178490798",
   "metadata": {},
   "source": [
    "R2 Score o coeficiente de determinación\n",
    "===="
   ]
  },
  {
   "cell_type": "markdown",
   "id": "b192bbe6-1def-478f-9a83-746eec490bb4",
   "metadata": {},
   "source": [
    "* Representa el porcentaje de la varianza de la variable de salida que es explicado por las variables independientes del modelo."
   ]
  },
  {
   "cell_type": "markdown",
   "id": "4b827eb9-1ebd-4222-89e0-ac587ce5c966",
   "metadata": {},
   "source": [
    "* Es un indicador de la bondad de ajuste."
   ]
  },
  {
   "cell_type": "markdown",
   "id": "f135ae74-d02a-4237-b789-5c3fd74c5d83",
   "metadata": {},
   "source": [
    "* Se calcula como:\n",
    "$$\n",
    "R^2(y, \\hat{y})=\n",
    "1 - \n",
    "\\frac\n",
    "{\\sum (y_i - \\hat{y}_i)^2}\n",
    "{\\sum (y_i - \\bar{y}_i)^2}\n",
    "$$\n",
    "con:\n",
    "\n",
    "    * $\\bar{y} = \\frac{1}{n} \\sum y_i$\n",
    "    \n",
    "    * $\\sum (y_i - \\hat{y}_i)^2 = \\sum e_i^2$"
   ]
  },
  {
   "cell_type": "code",
   "execution_count": 1,
   "id": "83a5d554-78e2-4813-80c3-803159a803fd",
   "metadata": {},
   "outputs": [
    {
     "data": {
      "text/plain": [
       "0.9486081370449679"
      ]
     },
     "execution_count": 1,
     "metadata": {},
     "output_type": "execute_result"
    }
   ],
   "source": [
    "from sklearn.metrics import r2_score\n",
    "\n",
    "y_true = [3.0, -0.5, 2, 7]\n",
    "y_pred = [2.5, +0.0, 2, 8]\n",
    "\n",
    "#\n",
    "#  y_true  y_pred   e^2  (y_true-y_mean)^2\n",
    "# -------------------------------------------\n",
    "#     3.0     2.5  0.25             0.0156\n",
    "#    -0.5     0.0  0.25            11.3906\n",
    "#     2.0     2.0  0.00             0.7656\n",
    "#     7.0     8.0  1.00            17.0156\n",
    "#                 ------         -----------\n",
    "#                  1.50            29.1875\n",
    "#\n",
    "# y_mean = 0.25 * (3.0 - 0.5 + 2.0 + 7.0) = 2.875\n",
    "#\n",
    "# r2 = 1.0 - 1.5 / 29.1875 = 0.9486\n",
    "#\n",
    "\n",
    "r2_score(\n",
    "    # -------------------------------------------------------------------------\n",
    "    # Ground truth (correct) target values.\n",
    "    y_true=y_true,\n",
    "    # -------------------------------------------------------------------------\n",
    "    # Estimated target values.\n",
    "    y_pred=y_pred,\n",
    "    # -------------------------------------------------------------------------\n",
    "    # Sample weights.\n",
    "    sample_weight=None,\n",
    "    # -------------------------------------------------------------------------\n",
    "    # Defines aggregating of multiple output scores.\n",
    "    # * 'raw_values': Returns a full set of scores in case of multioutput input.\n",
    "    # * 'uniform_average': Scores of all outputs are averaged with uniform\n",
    "    #      weight.\n",
    "    # * 'variance_weighted': Scores of all outputs are averaged, weighted by\n",
    "    #      the variances of each individual output.\n",
    "    multioutput=\"uniform_average\",\n",
    "    # -------------------------------------------------------------------------\n",
    "    # Flag indicating if NaN and -Inf scores resulting from constant data\n",
    "    # should be replaced with real numbers (1.0 if prediction is perfect, 0.0\n",
    "    # otherwise).\n",
    "    force_finite=True,\n",
    ")"
   ]
  },
  {
   "cell_type": "code",
   "execution_count": 2,
   "id": "7b336805-b2f3-48f9-ae12-9bc1c4fa5c7d",
   "metadata": {},
   "outputs": [
    {
     "data": {
      "text/plain": [
       "array([0.96543779, 0.90816327])"
      ]
     },
     "execution_count": 2,
     "metadata": {},
     "output_type": "execute_result"
    }
   ],
   "source": [
    "y_true = [[0.5, 1], [-1, 1], [7, -6]]\n",
    "y_pred = [[0, 2], [-1, 2], [8, -5]]\n",
    "\n",
    "#\n",
    "# y_true_0 = [0.5, -1, 7]\n",
    "# y_pred_0 = [0, -1, 8]\n",
    "# r2_score(y_true_0, y_pred_0) = 0.9654\n",
    "#\n",
    "# y_true_1 = [1, 1, -6]\n",
    "# y_pred_1 = [2, 2, -5]\n",
    "# r2_score(y_true_1, y_pred_1) = 0.9081\n",
    "#\n",
    "r2_score(\n",
    "    y_true,\n",
    "    y_pred,\n",
    "    multioutput=\"raw_values\",\n",
    ")"
   ]
  },
  {
   "cell_type": "code",
   "execution_count": 3,
   "id": "d6731fcc-4e38-49d2-81be-ed07a822efae",
   "metadata": {},
   "outputs": [
    {
     "data": {
      "text/plain": [
       "0.9382566585956417"
      ]
     },
     "execution_count": 3,
     "metadata": {},
     "output_type": "execute_result"
    }
   ],
   "source": [
    "y_true = [[0.5, 1], [-1, 1], [7, -6]]\n",
    "y_pred = [[0, 2], [-1, 2], [8, -5]]\n",
    "\n",
    "#\n",
    "# var(y_true_0) = 12.0556\n",
    "# var(y_true_1) = 10.8889\n",
    "#\n",
    "# r2 = 0.9654 * 12.0556 / (12.0556 + 10.8889) +\n",
    "#      0.9081 * 10.8889 / (12.0556 + 10.8889)\n",
    "#    = 0.9383\n",
    "#\n",
    "r2_score(\n",
    "    y_true,\n",
    "    y_pred,\n",
    "    multioutput=\"variance_weighted\",\n",
    ")"
   ]
  },
  {
   "cell_type": "code",
   "execution_count": 4,
   "id": "cd85f1bf-7559-4ae1-a022-13012e17b13f",
   "metadata": {},
   "outputs": [
    {
     "data": {
      "text/plain": [
       "0.9368005266622779"
      ]
     },
     "execution_count": 4,
     "metadata": {},
     "output_type": "execute_result"
    }
   ],
   "source": [
    "y_true = [[0.5, 1], [-1, 1], [7, -6]]\n",
    "y_pred = [[0, 2], [-1, 2], [8, -5]]\n",
    "\n",
    "#\n",
    "# r2 = 0.5 * (0.9654 + 0.9081)\n",
    "#    = 0.9368\n",
    "#\n",
    "r2_score(\n",
    "    y_true,\n",
    "    y_pred,\n",
    "    multioutput=\"uniform_average\",\n",
    ")"
   ]
  },
  {
   "cell_type": "code",
   "execution_count": 5,
   "id": "4963986e-6975-41ee-a84b-e53969406fae",
   "metadata": {},
   "outputs": [
    {
     "data": {
      "text/plain": [
       "0.9253456221198156"
      ]
     },
     "execution_count": 5,
     "metadata": {},
     "output_type": "execute_result"
    }
   ],
   "source": [
    "#\n",
    "# r2 = 0.9654 * 0.3 + 0.9081 * 0.7\n",
    "#    = 0.9253\n",
    "#\n",
    "r2_score(\n",
    "    y_true,\n",
    "    y_pred,\n",
    "    multioutput=[0.3, 0.7],\n",
    ")"
   ]
  },
  {
   "cell_type": "code",
   "execution_count": 6,
   "id": "73f94ca2-2bf2-4489-8722-b41c11a2b638",
   "metadata": {},
   "outputs": [
    {
     "data": {
      "text/plain": [
       "0.9368005266622779"
      ]
     },
     "execution_count": 6,
     "metadata": {},
     "output_type": "execute_result"
    }
   ],
   "source": [
    "r2_score(\n",
    "    y_true,\n",
    "    y_pred,\n",
    "    force_finite=False,\n",
    ")"
   ]
  },
  {
   "cell_type": "code",
   "execution_count": 7,
   "id": "e6b22ec0-8e8a-49a1-84f3-0dc1bd94dc0b",
   "metadata": {},
   "outputs": [
    {
     "data": {
      "text/plain": [
       "0.0"
      ]
     },
     "execution_count": 7,
     "metadata": {},
     "output_type": "execute_result"
    }
   ],
   "source": [
    "y_true = [-2, -2, -2]\n",
    "y_pred = [-2, -2, -2 + 1e-8]\n",
    "\n",
    "r2_score(\n",
    "    y_true,\n",
    "    y_pred,\n",
    ")"
   ]
  },
  {
   "cell_type": "code",
   "execution_count": 8,
   "id": "007d3799-981f-440b-be1b-da5b38a576d9",
   "metadata": {},
   "outputs": [
    {
     "name": "stderr",
     "output_type": "stream",
     "text": [
      "/usr/local/lib/python3.8/dist-packages/sklearn/metrics/_regression.py:624: RuntimeWarning: divide by zero encountered in divide\n",
      "  output_scores = 1 - (numerator / denominator)\n"
     ]
    },
    {
     "data": {
      "text/plain": [
       "-inf"
      ]
     },
     "execution_count": 8,
     "metadata": {},
     "output_type": "execute_result"
    }
   ],
   "source": [
    "r2_score(\n",
    "    y_true,\n",
    "    y_pred,\n",
    "    force_finite=False,\n",
    ")"
   ]
  }
 ],
 "metadata": {
  "kernelspec": {
   "display_name": "Python 3 (ipykernel)",
   "language": "python",
   "name": "python3"
  },
  "language_info": {
   "codemirror_mode": {
    "name": "ipython",
    "version": 3
   },
   "file_extension": ".py",
   "mimetype": "text/x-python",
   "name": "python",
   "nbconvert_exporter": "python",
   "pygments_lexer": "ipython3",
   "version": "3.8.10"
  }
 },
 "nbformat": 4,
 "nbformat_minor": 5
}
