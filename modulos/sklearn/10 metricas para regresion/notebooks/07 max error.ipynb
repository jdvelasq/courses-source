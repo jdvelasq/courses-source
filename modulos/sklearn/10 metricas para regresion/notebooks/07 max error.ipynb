{
 "cells": [
  {
   "cell_type": "markdown",
   "id": "c5044f15-3785-4bd1-9c6c-5988a85b6618",
   "metadata": {},
   "source": [
    "Max error\n",
    "==="
   ]
  },
  {
   "cell_type": "markdown",
   "id": "fe8b927b-f641-429b-8094-ae38eb95fe1c",
   "metadata": {},
   "source": [
    "* Captura el peor caso posible."
   ]
  },
  {
   "cell_type": "markdown",
   "id": "10efcfb3-b1e5-40a7-9576-eff4b6e896c5",
   "metadata": {},
   "source": [
    "* Se computa como:\n",
    "$$\n",
    "\\text{Max error}(y, \\hat{y}) = \\max(|y_i - \\hat{y}_i|) = \\max(|\\hat{e}|)\n",
    "$$"
   ]
  },
  {
   "cell_type": "code",
   "execution_count": 1,
   "id": "b6670ff1-4590-4144-84c8-a1df5accbbd0",
   "metadata": {},
   "outputs": [
    {
     "data": {
      "text/plain": [
       "1"
      ]
     },
     "execution_count": 1,
     "metadata": {},
     "output_type": "execute_result"
    }
   ],
   "source": [
    "from sklearn.metrics import max_error\n",
    "\n",
    "y_true = [3, 2, 7, 1]\n",
    "y_pred = [4, 2, 7, 1]\n",
    "\n",
    "max_error(\n",
    "    # -------------------------------------------------------------------------\n",
    "    # Ground truth (correct) target values.\n",
    "    y_true=y_true,\n",
    "    # -------------------------------------------------------------------------\n",
    "    # Estimated target values.\n",
    "    y_pred=y_pred,\n",
    ")"
   ]
  }
 ],
 "metadata": {
  "kernelspec": {
   "display_name": "Python 3 (ipykernel)",
   "language": "python",
   "name": "python3"
  },
  "language_info": {
   "codemirror_mode": {
    "name": "ipython",
    "version": 3
   },
   "file_extension": ".py",
   "mimetype": "text/x-python",
   "name": "python",
   "nbconvert_exporter": "python",
   "pygments_lexer": "ipython3",
   "version": "3.8.10"
  }
 },
 "nbformat": 4,
 "nbformat_minor": 5
}
