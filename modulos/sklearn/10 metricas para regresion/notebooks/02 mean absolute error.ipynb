{
 "cells": [
  {
   "cell_type": "markdown",
   "id": "8a3cf010-f233-4136-8ae1-812609a3bf84",
   "metadata": {},
   "source": [
    "Mean absolute error (MAE)\n",
    "---"
   ]
  },
  {
   "cell_type": "markdown",
   "id": "94673b36-e51d-439a-9df9-a58b709b07fb",
   "metadata": {},
   "source": [
    "* Es una métrica de riesgo equivalente al valor esperado del error absoluto o norma L1."
   ]
  },
  {
   "cell_type": "markdown",
   "id": "1b819ba4-4f09-433e-88f5-313639162c50",
   "metadata": {},
   "source": [
    "* Esta métrica no es sensitiva hacia los outliers. "
   ]
  },
  {
   "cell_type": "markdown",
   "id": "3ea62dac-8fd3-4555-b83d-57a27ecad040",
   "metadata": {},
   "source": [
    "* Una desventaja de su uso como métrica en optimización es que el gradiente depende del signo del error y no de su magnitud."
   ]
  },
  {
   "cell_type": "markdown",
   "id": "5f510e41-bced-4479-9caf-3dc4255d49c9",
   "metadata": {},
   "source": [
    "* Se computa como:\n",
    "$$\n",
    "\\text{MAE}(y, \\hat{y}) = \n",
    "\\frac{1}{n_{\\text{samples}}}\n",
    "\\sum_{i=0}^{n_{\\text{samples}} - 1} |y_i - \\hat{y}_i| =\n",
    "\\frac{1}{n_{\\text{samples}}}\n",
    "\\sum_{i=0}^{n_{\\text{samples}} - 1} |\\hat{e}_i| \n",
    "$$"
   ]
  },
  {
   "cell_type": "code",
   "execution_count": 1,
   "id": "73ef969b-3abd-49b5-89f8-edd17a229a2e",
   "metadata": {},
   "outputs": [
    {
     "data": {
      "text/plain": [
       "0.5"
      ]
     },
     "execution_count": 1,
     "metadata": {},
     "output_type": "execute_result"
    }
   ],
   "source": [
    "from sklearn.metrics import mean_absolute_error\n",
    "\n",
    "y_true = [3, -0.5, 2, 7]\n",
    "y_pred = [2.5, 0.0, 2, 8]\n",
    "\n",
    "mean_absolute_error(\n",
    "    # -------------------------------------------------------------------------\n",
    "    # Ground truth (correct) target values.\n",
    "    y_true=y_true,\n",
    "    # -------------------------------------------------------------------------\n",
    "    # Estimated target values.\n",
    "    y_pred=y_pred,\n",
    "    # -------------------------------------------------------------------------\n",
    "    # Sample weights.\n",
    "    sample_weight=None,\n",
    "    # -------------------------------------------------------------------------\n",
    "    # Defines aggregating of multiple output scores.\n",
    "    # * 'raw_values': Returns a full set of scores in case of multioutput input.\n",
    "    # * 'uniform_average': Scores of all outputs are averaged with uniform\n",
    "    #      weight.\n",
    "    multioutput=\"uniform_average\",\n",
    ")"
   ]
  },
  {
   "cell_type": "code",
   "execution_count": 2,
   "id": "f7b3de35-466c-44de-93a9-05582a049124",
   "metadata": {},
   "outputs": [
    {
     "data": {
      "text/plain": [
       "array([0.5, 1. ])"
      ]
     },
     "execution_count": 2,
     "metadata": {},
     "output_type": "execute_result"
    }
   ],
   "source": [
    "y_true = [[0.5, 1], [-1, 1], [7, -6]]\n",
    "y_pred = [[0.0, 2], [-1, 2], [8, -5]]\n",
    "\n",
    "mean_absolute_error(\n",
    "    y_true,\n",
    "    y_pred,\n",
    "    multioutput=\"raw_values\",\n",
    ")"
   ]
  },
  {
   "cell_type": "code",
   "execution_count": 3,
   "id": "b281f5f5-800d-46d9-8a72-65f26a79aa9d",
   "metadata": {},
   "outputs": [
    {
     "data": {
      "text/plain": [
       "0.75"
      ]
     },
     "execution_count": 3,
     "metadata": {},
     "output_type": "execute_result"
    }
   ],
   "source": [
    "mean_absolute_error(\n",
    "    y_true,\n",
    "    y_pred,\n",
    ")"
   ]
  },
  {
   "cell_type": "code",
   "execution_count": 4,
   "id": "c4d42c69-c502-4d2b-a767-4ff4e173b8af",
   "metadata": {},
   "outputs": [
    {
     "data": {
      "text/plain": [
       "0.85"
      ]
     },
     "execution_count": 4,
     "metadata": {},
     "output_type": "execute_result"
    }
   ],
   "source": [
    "#\n",
    "# 0.5 * 0.3 + 1.0 * 0.7 = 0.85\n",
    "#\n",
    "mean_absolute_error(\n",
    "    y_true,\n",
    "    y_pred,\n",
    "    multioutput=[0.3, 0.7],\n",
    ")"
   ]
  }
 ],
 "metadata": {
  "kernelspec": {
   "display_name": "Python 3 (ipykernel)",
   "language": "python",
   "name": "python3"
  },
  "language_info": {
   "codemirror_mode": {
    "name": "ipython",
    "version": 3
   },
   "file_extension": ".py",
   "mimetype": "text/x-python",
   "name": "python",
   "nbconvert_exporter": "python",
   "pygments_lexer": "ipython3",
   "version": "3.8.10"
  }
 },
 "nbformat": 4,
 "nbformat_minor": 5
}
