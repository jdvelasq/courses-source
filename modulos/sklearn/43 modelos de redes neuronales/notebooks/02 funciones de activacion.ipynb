{
 "cells": [
  {
   "attachments": {},
   "cell_type": "markdown",
   "id": "ae10eeb3-6671-4304-89a5-213913bd84d6",
   "metadata": {},
   "source": [
    "Funciones de activación para la capa oculta\n",
    "===\n",
    "\n",
    "* Ultima modificación: 2023-03-11 | [YouTube](https://www.youtube.com/watch?v=2yKOSTeDj8I&list=PLEFpZ3YehTnAGufwvy1LltJoPtjz66CsE&index=2)"
   ]
  },
  {
   "cell_type": "markdown",
   "id": "43796e85-21db-491a-bc6a-2c94f0f120aa",
   "metadata": {},
   "source": [
    "* Son las funciones que se aplican a la entrada neta de las capas ocultas."
   ]
  },
  {
   "cell_type": "markdown",
   "id": "89f84bee-8160-434a-be84-6dcd8bdbaca7",
   "metadata": {},
   "source": [
    "* Son responsables de la capacidad no lineal del MLP."
   ]
  },
  {
   "cell_type": "markdown",
   "id": "d0eb1f3a-34de-4f87-8515-83718a62257b",
   "metadata": {},
   "source": [
    "* Son funciones monotonicas crecientes."
   ]
  },
  {
   "cell_type": "markdown",
   "id": "03bdda0d-43d4-4af0-b9da-439167e53a3a",
   "metadata": {},
   "source": [
    "* Las funciones de activación implementadas en sklearn son: \n",
    "    \n",
    "    * `'tanh'`: $g(u) = \\tanh(u)$\n",
    "    \n",
    "    * `'logistic'`: $1 / [1 + \\exp(-x)]$\n",
    "    \n",
    "    * `'relu'`: $\\max (0, x)$"
   ]
  },
  {
   "cell_type": "markdown",
   "id": "1628bdf3-be6a-4c33-a04e-40967cb144a3",
   "metadata": {},
   "source": [
    "![assets/fig1.png](assets/fig1.png)"
   ]
  },
  {
   "cell_type": "markdown",
   "id": "ab8bd29f-8ec6-403d-935c-4e1f25f0c6ef",
   "metadata": {},
   "source": [
    "---"
   ]
  },
  {
   "cell_type": "code",
   "execution_count": 2,
   "id": "36cff5bd-2e38-434b-9e48-3bd20cca312e",
   "metadata": {},
   "outputs": [],
   "source": [
    "def fig1():\n",
    "\n",
    "    import matplotlib.pyplot as plt\n",
    "    import numpy as np\n",
    "\n",
    "    x = np.linspace(-6, 6)\n",
    "\n",
    "    plt.figure(figsize=(10, 3.5))\n",
    "\n",
    "    plt.subplot(1, 3, 1)\n",
    "    plt.plot(x, np.tanh(x))\n",
    "\n",
    "    plt.subplot(1, 3, 2)\n",
    "    plt.plot(x, 1 / (1 + np.exp(-x)))\n",
    "\n",
    "    plt.subplot(1, 3, 3)\n",
    "    plt.plot(x, np.where(x < 0, 0, x))\n",
    "    plt.savefig('assets/fig1.png')\n",
    "    plt.close()\n",
    "\n",
    "## fig1()"
   ]
  }
 ],
 "metadata": {
  "kernelspec": {
   "display_name": "Python 3 (ipykernel)",
   "language": "python",
   "name": "python3"
  },
  "language_info": {
   "codemirror_mode": {
    "name": "ipython",
    "version": 3
   },
   "file_extension": ".py",
   "mimetype": "text/x-python",
   "name": "python",
   "nbconvert_exporter": "python",
   "pygments_lexer": "ipython3",
   "version": "3.8.10"
  }
 },
 "nbformat": 4,
 "nbformat_minor": 5
}
