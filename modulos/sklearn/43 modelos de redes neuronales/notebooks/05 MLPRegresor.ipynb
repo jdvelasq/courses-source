{
 "cells": [
  {
   "attachments": {},
   "cell_type": "markdown",
   "metadata": {},
   "source": [
    "MLPRegressor\n",
    "===\n",
    "\n",
    "* Ultima modificación: 2023-03-11 | [YouTube](https://www.youtube.com/watch?v=2yKOSTeDj8I&list=PLEFpZ3YehTnAGufwvy1LltJoPtjz66CsE&index=5)"
   ]
  },
  {
   "cell_type": "markdown",
   "metadata": {},
   "source": [
    "* Se desea construir un regresor para la siguiente función:"
   ]
  },
  {
   "cell_type": "code",
   "execution_count": 1,
   "metadata": {},
   "outputs": [],
   "source": [
    "x = [-3.5000, -3.2941, -3.0882, -2.8824, -2.6765, \n",
    "     -2.4706, -2.2647, -2.0588, -1.8529, -1.6471, \n",
    "     -1.4412, -1.2353, -1.0294, -0.8235, -0.6176, \n",
    "     -0.4118, -0.2059,  0.0000,  0.2059,  0.4118, \n",
    "      0.6176,  0.8235,  1.0294,  1.2353,  1.4412, \n",
    "      1.6471,  1.8529,  2.0588,  2.2647,  2.4706, \n",
    "      2.6765,  2.8824,  3.0882,  3.2941,  3.5000]\n",
    "\n",
    "y = [ 0.0000,  0.0000,  0.0001,  0.0002,  0.0008,  \n",
    "      0.0022,  0.0059,  0.0144,  0.0323,  0.0664,  \n",
    "      0.1253,  0.2174,  0.3466,  0.5075,  0.6828,  \n",
    "      0.8440,  0.9585,  1.0000,  0.9585,  0.8440,  \n",
    "      0.6828,  0.5075,  0.3466,  0.2174,  0.1253,  \n",
    "      0.0664,  0.0323,  0.0144,  0.0059,  0.0022,  \n",
    "      0.0008,  0.0002,  0.0001,  0.0000,  0.0000]"
   ]
  },
  {
   "cell_type": "code",
   "execution_count": 2,
   "metadata": {
    "scrolled": true
   },
   "outputs": [
    {
     "data": {
      "image/png": "[encoded data removed]",
      "text/plain": [
       "<Figure size 350x350 with 1 Axes>"
      ]
     },
     "metadata": {},
     "output_type": "display_data"
    }
   ],
   "source": [
    "import matplotlib.pyplot as plt\n",
    "\n",
    "plt.figure(figsize=(3.5, 3.5))\n",
    "plt.plot(x, y, 'o')\n",
    "plt.grid()\n",
    "plt.show()"
   ]
  },
  {
   "cell_type": "markdown",
   "metadata": {},
   "source": [
    "* En el caso de regresión, la activación de la neurona de salida es realizada con la función identidad $g(u)=u$."
   ]
  },
  {
   "cell_type": "markdown",
   "metadata": {},
   "source": [
    "* Para problemas de regresión, la función de pérdida es el error cuadrático medio:\n",
    "$$\n",
    "\\text{Loss}(\\hat{y}, y, W) =\n",
    "\\frac{1}{2n} \n",
    "\\sum_{i=0}^n ||\\hat{y}_i - y_i ||_2^2 + \n",
    "\\frac{\\alpha}{2n} ||W||_2^2\n",
    "$$\n",
    "donde el último término es la norma L2."
   ]
  },
  {
   "cell_type": "markdown",
   "metadata": {},
   "source": [
    "* Cuando se usa el gradiente descendente, los pesos son calculados como:\n",
    "$$\n",
    "W^{k+1} = W^k - \\mu \\nabla \\text{loss}_W^k\n",
    "$$"
   ]
  },
  {
   "cell_type": "code",
   "execution_count": 3,
   "metadata": {},
   "outputs": [],
   "source": [
    "from sklearn.neural_network import MLPRegressor\n",
    "\n",
    "mlpRegressor = MLPRegressor(\n",
    "    # --------------------------------------------------------------------------\n",
    "    # The ith element represents the number of neurons in the ith hidden layer.\n",
    "    hidden_layer_sizes=(6,),\n",
    "    # --------------------------------------------------------------------------\n",
    "    # Activation function for the hidden layer.\n",
    "    # * ‘identity’\n",
    "    # * 'logistic'\n",
    "    # * 'tanh'\n",
    "    # * 'relu'\n",
    "    # activation='relu',\n",
    "    activation=\"logistic\",\n",
    "    # --------------------------------------------------------------------------\n",
    "    # The solver for weight optimization.\n",
    "    # * 'lbfgs'\n",
    "    # * 'sgd'\n",
    "    # * 'adam'\n",
    "    solver=\"adam\",\n",
    "    # --------------------------------------------------------------------------\n",
    "    # Strength of the L2 regularization term. \n",
    "    alpha=0.0001,\n",
    "    # --------------------------------------------------------------------------\n",
    "    # Size of minibatches for stochastic optimizers. If the solver is ‘lbfgs’, \n",
    "    # the classifier will not use minibatch. When set to “auto”, \n",
    "    # batch_size=min(200, n_samples).\n",
    "    batch_size='auto',\n",
    "    # --------------------------------------------------------------------------\n",
    "    # Learning rate schedule for weight updates. Only used when solver=’sgd’.\n",
    "    # * ‘constant’ is a constant learning rate given by ‘learning_rate_init’.\n",
    "    # * ‘invscaling’ gradually decreases the learning rate learning_rate_ at \n",
    "    #   each time step ‘t’ using an inverse scaling exponent of ‘power_t’. \n",
    "    #   effective_learning_rate = learning_rate_init / pow(t, power_t)\n",
    "    # * ‘adaptive’ keeps the learning rate constant to ‘learning_rate_init’ as \n",
    "    #   long as training loss keeps decreasing. Each time two consecutive \n",
    "    #   epochs fail to decrease training loss by at least tol, or fail to \n",
    "    #   increase validation score by at least tol if ‘early_stopping’ is on, \n",
    "    #   the current learning rate is divided by 5.\n",
    "    learning_rate='constant',\n",
    "    # --------------------------------------------------------------------------\n",
    "    # The initial learning rate used. It controls the step-size in updating the\n",
    "    # weights. Only used when solver=’sgd’ or ‘adam’.\n",
    "    # learning_rate_init=0.001,\n",
    "    learning_rate_init=0.1,\n",
    "    # --------------------------------------------------------------------------\n",
    "    # The exponent for inverse scaling learning rate. It is used in updating \n",
    "    # effective learning rate when the learning_rate is set to ‘invscaling’. \n",
    "    # Only used when solver=’sgd’.\n",
    "    power_t=0.5,\n",
    "    # --------------------------------------------------------------------------\n",
    "    # Maximum number of iterations. The solver iterates until convergence \n",
    "    # (determined by ‘tol’) or this number of iterations. For stochastic solvers\n",
    "    # (‘sgd’, ‘adam’), note that this determines the number of epochs (how many \n",
    "    # times each data point will be used), not the number of gradient steps.\n",
    "    # default: 200\n",
    "    max_iter=1000,\n",
    "    # --------------------------------------------------------------------------\n",
    "    # Whether to shuffle samples in each iteration. Only used when solver=’sgd’ \n",
    "    # or ‘adam’.\n",
    "    shuffle=True,\n",
    "    # --------------------------------------------------------------------------\n",
    "    # Determines random number generation for weights and bias initialization, \n",
    "    # train-test split if early stopping is used, and batch sampling when \n",
    "    # solver=’sgd’ or ‘adam’.\n",
    "    random_state=None,\n",
    "    # --------------------------------------------------------------------------\n",
    "    # Tolerance for the optimization. When the loss or score is not improving \n",
    "    # by at least tol for n_iter_no_change consecutive iterations, unless \n",
    "    # learning_rate is set to ‘adaptive’, convergence is considered to be \n",
    "    # reached and training stops.\n",
    "    tol=1e-4,\n",
    "    # --------------------------------------------------------------------------\n",
    "    # When set to True, reuse the solution of the previous call to fit as \n",
    "    # initialization, otherwise, just erase the previous solution.\n",
    "    warm_start=False,\n",
    "    # --------------------------------------------------------------------------\n",
    "    # Momentum for gradient descent update. Should be between 0 and 1. Only \n",
    "    # used when solver=’sgd’.\n",
    "    momentum=0.9,\n",
    "    # --------------------------------------------------------------------------\n",
    "    # Whether to use Nesterov’s momentum. Only used when solver=’sgd’ and \n",
    "    # momentum > 0.\n",
    "    nesterovs_momentum=True,\n",
    "    # --------------------------------------------------------------------------\n",
    "    # Whether to use early stopping to terminate training when validation score\n",
    "    # is not improving. If set to true, it will automatically set aside 10% of \n",
    "    # training data as validation and terminate training when validation score \n",
    "    # is not improving by at least tol for n_iter_no_change consecutive epochs. \n",
    "    # Only effective when solver=’sgd’ or ‘adam’.\n",
    "    early_stopping=False,\n",
    "    # --------------------------------------------------------------------------\n",
    "    # The proportion of training data to set aside as validation set for early \n",
    "    # stopping. Must be between 0 and 1. Only used if early_stopping is True.\n",
    "    validation_fraction=0.1,\n",
    "    # --------------------------------------------------------------------------\n",
    "    # Exponential decay rate for estimates of first moment vector in adam, \n",
    "    # should be in [0, 1). Only used when solver=’adam’.\n",
    "    beta_1=0.9,\n",
    "    # --------------------------------------------------------------------------\n",
    "    # Exponential decay rate for estimates of second moment vector in adam, \n",
    "    # should be in [0, 1). Only used when solver=’adam’.\n",
    "    beta_2=0.999,\n",
    "    # --------------------------------------------------------------------------\n",
    "    # Value for numerical stability in adam. Only used when solver=’adam’.\n",
    "    epsilon=1e-8,\n",
    "    # --------------------------------------------------------------------------\n",
    "    # Maximum number of epochs to not meet tol improvement. Only effective when\n",
    "    # solver=’sgd’ or ‘adam’.\n",
    "    n_iter_no_change=10,\n",
    "    # --------------------------------------------------------------------------\n",
    "    # Only used when solver=’lbfgs’. Maximum number of function calls. The \n",
    "    # solver iterates until convergence (determined by ‘tol’), number of \n",
    "    # iterations reaches max_iter, or this number of function calls. \n",
    "    max_fun=15000,\n",
    ")"
   ]
  },
  {
   "cell_type": "code",
   "execution_count": 4,
   "metadata": {},
   "outputs": [
    {
     "data": {
      "text/html": [
       "<style>#sk-container-id-1 {color: black;background-color: white;}#sk-container-id-1 pre{padding: 0;}#sk-container-id-1 div.sk-toggleable {background-color: white;}#sk-container-id-1 label.sk-toggleable__label {cursor: pointer;display: block;width: 100%;margin-bottom: 0;padding: 0.3em;box-sizing: border-box;text-align: center;}#sk-container-id-1 label.sk-toggleable__label-arrow:before {content: \"▸\";float: left;margin-right: 0.25em;color: #696969;}#sk-container-id-1 label.sk-toggleable__label-arrow:hover:before {color: black;}#sk-container-id-1 div.sk-estimator:hover label.sk-toggleable__label-arrow:before {color: black;}#sk-container-id-1 div.sk-toggleable__content {max-height: 0;max-width: 0;overflow: hidden;text-align: left;background-color: #f0f8ff;}#sk-container-id-1 div.sk-toggleable__content pre {margin: 0.2em;color: black;border-radius: 0.25em;background-color: #f0f8ff;}#sk-container-id-1 input.sk-toggleable__control:checked~div.sk-toggleable__content {max-height: 200px;max-width: 100%;overflow: auto;}#sk-container-id-1 input.sk-toggleable__control:checked~label.sk-toggleable__label-arrow:before {content: \"▾\";}#sk-container-id-1 div.sk-estimator input.sk-toggleable__control:checked~label.sk-toggleable__label {background-color: #d4ebff;}#sk-container-id-1 div.sk-label input.sk-toggleable__control:checked~label.sk-toggleable__label {background-color: #d4ebff;}#sk-container-id-1 input.sk-hidden--visually {border: 0;clip: rect(1px 1px 1px 1px);clip: rect(1px, 1px, 1px, 1px);height: 1px;margin: -1px;overflow: hidden;padding: 0;position: absolute;width: 1px;}#sk-container-id-1 div.sk-estimator {font-family: monospace;background-color: #f0f8ff;border: 1px dotted black;border-radius: 0.25em;box-sizing: border-box;margin-bottom: 0.5em;}#sk-container-id-1 div.sk-estimator:hover {background-color: #d4ebff;}#sk-container-id-1 div.sk-parallel-item::after {content: \"\";width: 100%;border-bottom: 1px solid gray;flex-grow: 1;}#sk-container-id-1 div.sk-label:hover label.sk-toggleable__label {background-color: #d4ebff;}#sk-container-id-1 div.sk-serial::before {content: \"\";position: absolute;border-left: 1px solid gray;box-sizing: border-box;top: 0;bottom: 0;left: 50%;z-index: 0;}#sk-container-id-1 div.sk-serial {display: flex;flex-direction: column;align-items: center;background-color: white;padding-right: 0.2em;padding-left: 0.2em;position: relative;}#sk-container-id-1 div.sk-item {position: relative;z-index: 1;}#sk-container-id-1 div.sk-parallel {display: flex;align-items: stretch;justify-content: center;background-color: white;position: relative;}#sk-container-id-1 div.sk-item::before, #sk-container-id-1 div.sk-parallel-item::before {content: \"\";position: absolute;border-left: 1px solid gray;box-sizing: border-box;top: 0;bottom: 0;left: 50%;z-index: -1;}#sk-container-id-1 div.sk-parallel-item {display: flex;flex-direction: column;z-index: 1;position: relative;background-color: white;}#sk-container-id-1 div.sk-parallel-item:first-child::after {align-self: flex-end;width: 50%;}#sk-container-id-1 div.sk-parallel-item:last-child::after {align-self: flex-start;width: 50%;}#sk-container-id-1 div.sk-parallel-item:only-child::after {width: 0;}#sk-container-id-1 div.sk-dashed-wrapped {border: 1px dashed gray;margin: 0 0.4em 0.5em 0.4em;box-sizing: border-box;padding-bottom: 0.4em;background-color: white;}#sk-container-id-1 div.sk-label label {font-family: monospace;font-weight: bold;display: inline-block;line-height: 1.2em;}#sk-container-id-1 div.sk-label-container {text-align: center;}#sk-container-id-1 div.sk-container {/* jupyter's `normalize.less` sets `[hidden] { display: none; }` but bootstrap.min.css set `[hidden] { display: none !important; }` so we also need the `!important` here to be able to override the default hidden behavior on the sphinx rendered scikit-learn.org. See: https://github.com/scikit-learn/scikit-learn/issues/21755 */display: inline-block !important;position: relative;}#sk-container-id-1 div.sk-text-repr-fallback {display: none;}</style><div id=\"sk-container-id-1\" class=\"sk-top-container\"><div class=\"sk-text-repr-fallback\"><pre>MLPRegressor(activation=&#x27;logistic&#x27;, hidden_layer_sizes=(6,),\n",
       "             learning_rate_init=0.1, max_iter=1000)</pre><b>In a Jupyter environment, please rerun this cell to show the HTML representation or trust the notebook. <br />On GitHub, the HTML representation is unable to render, please try loading this page with nbviewer.org.</b></div><div class=\"sk-container\" hidden><div class=\"sk-item\"><div class=\"sk-estimator sk-toggleable\"><input class=\"sk-toggleable__control sk-hidden--visually\" id=\"sk-estimator-id-1\" type=\"checkbox\" checked><label for=\"sk-estimator-id-1\" class=\"sk-toggleable__label sk-toggleable__label-arrow\">MLPRegressor</label><div class=\"sk-toggleable__content\"><pre>MLPRegressor(activation=&#x27;logistic&#x27;, hidden_layer_sizes=(6,),\n",
       "             learning_rate_init=0.1, max_iter=1000)</pre></div></div></div></div></div>"
      ],
      "text/plain": [
       "MLPRegressor(activation='logistic', hidden_layer_sizes=(6,),\n",
       "             learning_rate_init=0.1, max_iter=1000)"
      ]
     },
     "execution_count": 4,
     "metadata": {},
     "output_type": "execute_result"
    }
   ],
   "source": [
    "import numpy as np\n",
    "\n",
    "X = np.array(x).reshape(-1, 1)\n",
    "\n",
    "mlpRegressor.fit(X, y)"
   ]
  },
  {
   "cell_type": "code",
   "execution_count": 5,
   "metadata": {},
   "outputs": [
    {
     "data": {
      "image/png": "[encoded data removed]",
      "text/plain": [
       "<Figure size 350x350 with 1 Axes>"
      ]
     },
     "metadata": {},
     "output_type": "display_data"
    }
   ],
   "source": [
    "plt.figure(figsize=(3.5, 3.5))\n",
    "\n",
    "plt.plot(x, y, \"o\")\n",
    "plt.grid()\n",
    "plt.plot(x, mlpRegressor.predict(X), \"-\");"
   ]
  },
  {
   "cell_type": "code",
   "execution_count": 6,
   "metadata": {},
   "outputs": [
    {
     "data": {
      "text/plain": [
       "0.0013202932082765678"
      ]
     },
     "execution_count": 6,
     "metadata": {},
     "output_type": "execute_result"
    }
   ],
   "source": [
    "#\n",
    "# The current loss computed with the loss function.\n",
    "#\n",
    "mlpRegressor.loss_"
   ]
  },
  {
   "cell_type": "code",
   "execution_count": 7,
   "metadata": {},
   "outputs": [
    {
     "data": {
      "text/plain": [
       "0.0013202932082765678"
      ]
     },
     "execution_count": 7,
     "metadata": {},
     "output_type": "execute_result"
    }
   ],
   "source": [
    "#\n",
    "# The minimum loss reached by the solver throughout fitting.\n",
    "#\n",
    "mlpRegressor.best_loss_"
   ]
  },
  {
   "cell_type": "code",
   "execution_count": 8,
   "metadata": {},
   "outputs": [
    {
     "data": {
      "image/png": "[encoded data removed]",
      "text/plain": [
       "<Figure size 350x350 with 1 Axes>"
      ]
     },
     "metadata": {},
     "output_type": "display_data"
    }
   ],
   "source": [
    "#\n",
    "# Loss value evaluated at the end of each training step. The ith element in the \n",
    "# list represents the loss at the ith iteration.\n",
    "#\n",
    "plt.figure(figsize=(3.5, 3.5))\n",
    "plt.plot(mlpRegressor.loss_curve_, \".-\")\n",
    "plt.show()"
   ]
  },
  {
   "cell_type": "code",
   "execution_count": 9,
   "metadata": {},
   "outputs": [
    {
     "data": {
      "text/plain": [
       "[array([[-3.63690814, -0.21760502,  0.69604339,  4.07849957, -0.73168008,\n",
       "          0.32539158]]),\n",
       " array([[-0.93832195],\n",
       "        [ 0.21881583],\n",
       "        [ 0.41832092],\n",
       "        [-1.36041013],\n",
       "        [ 0.09098164],\n",
       "        [ 0.66700691]])]"
      ]
     },
     "execution_count": 9,
     "metadata": {},
     "output_type": "execute_result"
    }
   ],
   "source": [
    "#\n",
    "# The ith element in the list represents the weight matrix corresponding to \n",
    "# layer i.\n",
    "#\n",
    "mlpRegressor.coefs_"
   ]
  },
  {
   "cell_type": "code",
   "execution_count": 10,
   "metadata": {},
   "outputs": [
    {
     "data": {
      "text/plain": [
       "[array([-2.48656788, -0.56343749,  0.21977004, -3.28103489, -0.30875614,\n",
       "         0.01010745]),\n",
       " array([0.47002911])]"
      ]
     },
     "execution_count": 10,
     "metadata": {},
     "output_type": "execute_result"
    }
   ],
   "source": [
    "#\n",
    "# The ith element in the list represents the bias vector corresponding to layer\n",
    "# i + 1.\n",
    "#\n",
    "mlpRegressor.intercepts_"
   ]
  },
  {
   "cell_type": "code",
   "execution_count": 11,
   "metadata": {},
   "outputs": [
    {
     "data": {
      "image/png": "[encoded data removed]",
      "text/plain": [
       "<Figure size 350x350 with 1 Axes>"
      ]
     },
     "metadata": {},
     "output_type": "display_data"
    }
   ],
   "source": [
    "from sklearn.metrics import mean_squared_error\n",
    "\n",
    "mse = []\n",
    "\n",
    "for h in range(1, 7):\n",
    "\n",
    "    mlpRegressor = MLPRegressor(\n",
    "        hidden_layer_sizes=(h,),\n",
    "        activation=\"logistic\",\n",
    "        solver=\"adam\",\n",
    "        alpha=0.0,\n",
    "        learning_rate='constant',\n",
    "        learning_rate_init=0.1,\n",
    "        max_iter=1000,\n",
    "        random_state=0,\n",
    "    )\n",
    "    \n",
    "    mlpRegressor.fit(X, y)\n",
    "    mse.append(mean_squared_error(y, mlpRegressor.predict(X)))\n",
    "    \n",
    "plt.figure(figsize=(3.5, 3.5))\n",
    "plt.plot(range(1,7), mse, \"-o\")\n",
    "plt.yscale('log')"
   ]
  }
 ],
 "metadata": {
  "kernelspec": {
   "display_name": "Python 3 (ipykernel)",
   "language": "python",
   "name": "python3"
  },
  "language_info": {
   "codemirror_mode": {
    "name": "ipython",
    "version": 3
   },
   "file_extension": ".py",
   "mimetype": "text/x-python",
   "name": "python",
   "nbconvert_exporter": "python",
   "pygments_lexer": "ipython3",
   "version": "3.8.10"
  }
 },
 "nbformat": 4,
 "nbformat_minor": 4
}
