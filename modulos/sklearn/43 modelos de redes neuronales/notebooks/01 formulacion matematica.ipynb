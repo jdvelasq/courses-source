{
 "cells": [
  {
   "attachments": {},
   "cell_type": "markdown",
   "id": "1d34b317-c384-4ee6-85e6-b26d71325f13",
   "metadata": {},
   "source": [
    "Modelo del perceptrones multicapa\n",
    "===\n",
    "\n",
    "* Ultima modificación: 2023-03-11 | [YouTube](https://www.youtube.com/watch?v=2yKOSTeDj8I&list=PLEFpZ3YehTnAGufwvy1LltJoPtjz66CsE&index=1)"
   ]
  },
  {
   "cell_type": "markdown",
   "id": "fc51a0b2-8632-4bc6-94df-ad27b338c9a3",
   "metadata": {},
   "source": [
    "* Es un modelo matemático basado en la representación de las redes de neuronas biológicas."
   ]
  },
  {
   "cell_type": "markdown",
   "id": "6540d5c3-1cd5-4fe6-ac5a-23a2c9bccd93",
   "metadata": {},
   "source": [
    "* Dado un conjunto de características $X=x_1, x_2, \\ldots, x_m$ y una variable dependiente $y$, el modelo puede aprender la relación no lineal y deterministica entre ellas."
   ]
  },
  {
   "cell_type": "markdown",
   "id": "a31c776f-bfa1-4aa6-9969-558a420806c0",
   "metadata": {},
   "source": [
    "* El siguiente diagrama representa un perceptrón multicapa con una capa de entreada, una capa oculta y una de salida."
   ]
  },
  {
   "cell_type": "markdown",
   "id": "1991261f-db34-4856-800e-58f877e204f7",
   "metadata": {},
   "source": [
    "![MulticapaMLParq](assets/MulticapaMLP.png)"
   ]
  },
  {
   "cell_type": "markdown",
   "id": "3c33c7a8-e7d1-46bd-9e3c-68d5d905363f",
   "metadata": {},
   "source": [
    "* Cada neurona de la capa oculta transforma los valores de la capa previa con una suma ponderada $w_0 + w_1 x_1 + \\ldots + w_m x_m$, seguida de una función de activación no lineal $g(\\cdot): R \\rightarrow R$"
   ]
  },
  {
   "cell_type": "markdown",
   "id": "630b30e4-9a8e-40b0-8408-dae57b3bf502",
   "metadata": {},
   "source": [
    "* La capa de salida transforma los valores de la capa oculta usando el mismo modelo matemático de la capa oculta, y usando como función de activación $g(u)=u$."
   ]
  },
  {
   "cell_type": "markdown",
   "id": "4552f4eb-e971-4e27-93e5-bcbd67330ab0",
   "metadata": {},
   "source": [
    "* Propagación de una señal a través del modelo: Sea un MLP con 2 entradas y 3 neuronas en la capa oculta."
   ]
  },
  {
   "cell_type": "code",
   "execution_count": 1,
   "id": "5f44bb99-208f-4783-aa78-73d7df040411",
   "metadata": {},
   "outputs": [],
   "source": [
    "import numpy as np\n",
    "\n",
    "# Entrada al MLP\n",
    "x = np.array([1, 2])\n",
    "\n",
    "# Matriz de pesos de la capa de entrada a la capa oculta\n",
    "Wih = np.array(\n",
    "    [\n",
    "        [0.1, 0.2, 0.3],\n",
    "        [0.4, 0.5, 0.6],\n",
    "    ]\n",
    ")\n",
    "\n",
    "# vector de pesos de las neuronas bias\n",
    "Wh = np.array([0.6, 0.7, 0.8])"
   ]
  },
  {
   "cell_type": "code",
   "execution_count": 2,
   "id": "b5cc93ed-2a90-4737-a567-beb6a003de46",
   "metadata": {},
   "outputs": [
    {
     "data": {
      "text/plain": [
       "array([1.5, 1.9, 2.3])"
      ]
     },
     "execution_count": 2,
     "metadata": {},
     "output_type": "execute_result"
    }
   ],
   "source": [
    "# Entrada a la capa oculta:\n",
    "#   1 * 0.1 + 2 * 0.4 + 0.6 = 1.5\n",
    "#   1 * 0.2 + 2 * 0.5 + 0.7 = 1.9\n",
    "#   1 * 0.3 + 2 * 0.6 + 0.8 = 2.3\n",
    "input_hidden_layer = np.matmul(x, Wih) + Wh\n",
    "input_hidden_layer"
   ]
  },
  {
   "cell_type": "code",
   "execution_count": 3,
   "id": "7e872663-b8fa-4551-af07-b31c178cb1c2",
   "metadata": {},
   "outputs": [
    {
     "data": {
      "text/plain": [
       "array([0.90514825, 0.95623746, 0.9800964 ])"
      ]
     },
     "execution_count": 3,
     "metadata": {},
     "output_type": "execute_result"
    }
   ],
   "source": [
    "# Salida de la capa oculta:\n",
    "#   tanh(1.5) = 0.9051\n",
    "#   tanh(1.9) = 0.9562\n",
    "#   tanh(2.3) = 0.9800\n",
    "output_hidden_layer = np.tanh(input_hidden_layer)\n",
    "output_hidden_layer"
   ]
  },
  {
   "cell_type": "code",
   "execution_count": 4,
   "id": "3f4f22d0-8e23-4fcd-b46b-2f2ca151413e",
   "metadata": {},
   "outputs": [],
   "source": [
    "# matriz de pesos de la capa oculta a la capa de salida\n",
    "Who = np.array([[-1], [0], [1]])\n",
    "\n",
    "# Peso de la neurona bias de la capa de salida\n",
    "Wo = 1"
   ]
  },
  {
   "cell_type": "code",
   "execution_count": 5,
   "id": "3e75044f-5a25-4c9a-89d3-14f97257aafe",
   "metadata": {},
   "outputs": [
    {
     "data": {
      "text/plain": [
       "array([1.07494814])"
      ]
     },
     "execution_count": 5,
     "metadata": {},
     "output_type": "execute_result"
    }
   ],
   "source": [
    "# Salida de la capa oculta (recuerde que g(u) = u):\n",
    "# 1 - 1 * 0.9051 + 0 * 0.9562 + 1 * 0.9800 = 1.0749\n",
    "np.matmul(output_hidden_layer, Who) + Wo"
   ]
  }
 ],
 "metadata": {
  "kernelspec": {
   "display_name": "Python 3 (ipykernel)",
   "language": "python",
   "name": "python3"
  },
  "language_info": {
   "codemirror_mode": {
    "name": "ipython",
    "version": 3
   },
   "file_extension": ".py",
   "mimetype": "text/x-python",
   "name": "python",
   "nbconvert_exporter": "python",
   "pygments_lexer": "ipython3",
   "version": "3.8.10"
  }
 },
 "nbformat": 4,
 "nbformat_minor": 5
}
