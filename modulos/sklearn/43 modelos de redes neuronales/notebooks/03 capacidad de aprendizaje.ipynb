{
 "cells": [
  {
   "attachments": {},
   "cell_type": "markdown",
   "id": "8f5c977f-f469-4e00-87e9-4c50f931aa00",
   "metadata": {},
   "source": [
    "Capacidad de aprendizaje y complejidad del modelo\n",
    "===\n",
    "\n",
    "* Ultima modificación: 2023-03-11 | [YouTube](https://www.youtube.com/watch?v=2yKOSTeDj8I&list=PLEFpZ3YehTnAGufwvy1LltJoPtjz66CsE&index=3)"
   ]
  },
  {
   "cell_type": "markdown",
   "id": "a45166b3-eba0-4a1e-b069-304cf5bd48c4",
   "metadata": {},
   "source": [
    "* Un MLP puede aprender relaciones no lineales."
   ]
  },
  {
   "cell_type": "markdown",
   "id": "14ce36aa-3f40-4b15-87be-f209763dcccd",
   "metadata": {},
   "source": [
    "* Un MLP puede aprender en tiempo real (on-line learning) con el método `partial_fit`"
   ]
  },
  {
   "cell_type": "markdown",
   "id": "efc5e9cf-9fc0-465b-8868-9e0aae6e6284",
   "metadata": {},
   "source": [
    "* **Teorema de aproximación universal**. Una función de la forma:\n",
    "$$\n",
    "f(x) = \\theta + \\sum_h m_i *  \\sigma \\left( \\sum_i w_{i, h} x_i + b_h    \\right) \n",
    "$$\n",
    "donde $\\sigma(\\cdot)$ es una función sigmoidea estrictamente creciente, puede aproximar con una precisión arbitrariamente pequeña, un conjunto de puntos $(x_p, y_p)$ definidos en un dominio compacto "
   ]
  },
  {
   "cell_type": "markdown",
   "id": "64f0d8b7-cee5-4a02-8a55-f2c6cefa7acd",
   "metadata": {},
   "source": [
    "* El teorema indica que existe un modelo de redes neuronales pero no indica como obtener la cantidad de neuronas ocultas ni como estimar los parámetros."
   ]
  },
  {
   "cell_type": "markdown",
   "id": "1d9a232a-f55c-4454-9815-2cc23bff9835",
   "metadata": {},
   "source": [
    "* En problemas de clasificación, la frontera generada por un perceptrón simples es una linea recta."
   ]
  },
  {
   "cell_type": "markdown",
   "id": "d7aaab64-22d5-4bb1-9ce5-c06f7e0fd1c4",
   "metadata": {},
   "source": [
    "![assets/neurona.jpg](assets/neurona.jpg)"
   ]
  },
  {
   "cell_type": "markdown",
   "id": "2673a261-d7bb-4b25-b936-b9a015a7c03d",
   "metadata": {},
   "source": [
    "* Un perceptrón multicapa puede generar una superficie compacta donde la región sombreada representa una clase y el resto de la superficie representa la otra (figura del centro). Cada uno de los bordes del polígono es generado como la frontera de decisión que produce cada perceptrón de la capa oculta. La neurona de salida implementa la función lógica AND o la función lógica OR. Si cada perceptrón de la capa oculta indica la pertenencia de un punto cualquiera a la región sombreda, entonces la neurona de salida representa un AND (todos los perceptrones de la capa oculta deben indicar que el punto pertenece a la región sombreada). De forma análoga, si los perceptrones de la capa oculta indican la no pertenencia a la región sombreada, entonces, la neurona de salida debe representar un OR. Esto implica (de forma intuitiva) que un perceptrón con una capa oculta puede aproximar cualquier función continua definida en un dominio compacto"
   ]
  },
  {
   "cell_type": "markdown",
   "id": "84362f4c-6205-4444-be37-3a350bd19440",
   "metadata": {},
   "source": [
    "* Una red con dos capas ocultas puede resolver problemas de clasificación donde los elementos de la clase de interés están aglomerados en distintas regiones (ya no hay un dominio compacto). Si se tiene en cuenta que cada región compacta puede ser generada por u perceptrón con una capa oculta, entonces se requieren dos percptrones los cuales son unidos mediante una capa adicional (al final) que representa un OR lógico."
   ]
  },
  {
   "cell_type": "markdown",
   "id": "f255f02e-df2b-45e9-8493-37b2db344707",
   "metadata": {},
   "source": [
    "![MulticapaRegresionUniv-02](assets/MulticapaRegresionUniv-02.png)"
   ]
  }
 ],
 "metadata": {
  "kernelspec": {
   "display_name": "Python 3 (ipykernel)",
   "language": "python",
   "name": "python3"
  },
  "language_info": {
   "codemirror_mode": {
    "name": "ipython",
    "version": 3
   },
   "file_extension": ".py",
   "mimetype": "text/x-python",
   "name": "python",
   "nbconvert_exporter": "python",
   "pygments_lexer": "ipython3",
   "version": "3.8.10"
  }
 },
 "nbformat": 4,
 "nbformat_minor": 5
}
