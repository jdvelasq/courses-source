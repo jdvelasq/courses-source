{
 "cells": [
  {
   "attachments": {},
   "cell_type": "markdown",
   "id": "23160ebd-3ae3-47f6-8b71-c289ac5abc60",
   "metadata": {},
   "source": [
    "Dificultad de entrenamiento de un MLP\n",
    "===\n",
    "\n",
    "* Ultima modificación: 2023-03-11 | [YouTube](https://www.youtube.com/watch?v=2yKOSTeDj8I&list=PLEFpZ3YehTnAGufwvy1LltJoPtjz66CsE&index=4)"
   ]
  },
  {
   "cell_type": "markdown",
   "id": "068e791d-cdfb-4d65-a61d-e58842319868",
   "metadata": {},
   "source": [
    "* En sklearn, los parámetros del modelo son obtenidos minimizando el suma de errores cuadrados (SSE):\n",
    "$$\n",
    "\\min_w ||e||_2^2\n",
    "$$\n",
    "utilizando el algoritmo de gradiente descendente (o alguna variación de este)."
   ]
  },
  {
   "cell_type": "markdown",
   "id": "e41d199f-f6bb-44e1-bc34-8ad205be7ba6",
   "metadata": {},
   "source": [
    "* **Dificultad 1**. La forma de la superficie del SSE es irregular y no convexa con muchos puntos de mínima local. El algoritmo de gradiente descendente puede quedar atrapado en los mínimos locales."
   ]
  },
  {
   "cell_type": "markdown",
   "id": "217972cf-4267-435c-9ff6-fe9c88333500",
   "metadata": {},
   "source": [
    "* **Dificultad 2.** Es sensible al preprocesamiento de los datos."
   ]
  },
  {
   "cell_type": "markdown",
   "id": "2fdbe2a8-471d-4064-83d8-c8a95837787c",
   "metadata": {},
   "source": [
    "* **Dificultad 3.** Una misma configuración de red neuronal puede tener multiples puntos de mínima local con el mismo valor del SSE. \n",
    "\n",
    "  * Considere un modelo con una entrada y dos neuronas ocultas con la siguiente notación:\n",
    "  \n",
    "    - b: peso de la neurona bias de la capa de salida.\n",
    "    \n",
    "    - bh {h=1, 2} peso de las neuronas bias de la capa oculta.\n",
    "    \n",
    "    - wih {i=1; h=1,2} pesos de la capa de entrada a la capa oculta.\n",
    "    \n",
    "    - mh {h=1,2} pesos de las neuronas ocultas a la capa de salida.\n",
    "  \n",
    "  * El algoritmo de optimización opera sobre un vector que agrupa los parámetros del modelo:\n",
    "  \n",
    "      [b, b1, b2, w11, w12, m1, m2]\n",
    "      \n",
    "  * Si se intercambian las posiciones de las dos neuronas ocultas, incluyendo los pesos que entran y salen de cada una de ellas, se obtiene un nuevo vector que tiene el mismo SSE del modelo original:\n",
    "  \n",
    "      [b, b2, b1, w12, w11, m2, m1]\n",
    "    "
   ]
  },
  {
   "cell_type": "markdown",
   "id": "d8b67c24-a2aa-44cf-aeae-be4d4feae2b2",
   "metadata": {},
   "source": [
    "* **Dificultad 4.** A medida que se agregan neuronas a la capa oculta, el SSE deberia disminuir para el conjunto de datos de entrenamiento, hasta ser arbitrariamente cercano a cero, pero esto no pasa en la realidad."
   ]
  }
 ],
 "metadata": {
  "kernelspec": {
   "display_name": "Python 3 (ipykernel)",
   "language": "python",
   "name": "python3"
  },
  "language_info": {
   "codemirror_mode": {
    "name": "ipython",
    "version": 3
   },
   "file_extension": ".py",
   "mimetype": "text/x-python",
   "name": "python",
   "nbconvert_exporter": "python",
   "pygments_lexer": "ipython3",
   "version": "3.8.10"
  }
 },
 "nbformat": 4,
 "nbformat_minor": 5
}
