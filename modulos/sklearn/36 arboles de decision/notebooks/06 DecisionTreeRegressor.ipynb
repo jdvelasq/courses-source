{
 "cells": [
  {
   "attachments": {},
   "cell_type": "markdown",
   "id": "81090f0a-74c7-46fe-9850-343233609f36",
   "metadata": {},
   "source": [
    "sklearn.tree.DecisionTreeRegressor\n",
    "===\n",
    "\n",
    "* Ultima modificación: 2023-03-11 | [YouTube](https://www.youtube.com/watch?v=2485ZJz5NZg&list=PLEFpZ3YehTnDwjNNX3D7jjBsVKshZH4Kb&index=6)"
   ]
  },
  {
   "cell_type": "markdown",
   "id": "9f68ab95-47f1-4aca-bb79-fb8f85ac468e",
   "metadata": {},
   "source": [
    "* Arbol de decisión para regresión."
   ]
  },
  {
   "cell_type": "code",
   "execution_count": 1,
   "id": "23f5df4a-8da0-4918-92a2-bee879e568ac",
   "metadata": {},
   "outputs": [],
   "source": [
    "from sklearn.datasets import load_diabetes\n",
    "\n",
    "X, y = load_diabetes(return_X_y=True)"
   ]
  },
  {
   "cell_type": "code",
   "execution_count": 2,
   "id": "dae813ed-6930-42a2-8992-974ca299171b",
   "metadata": {},
   "outputs": [
    {
     "data": {
      "text/plain": [
       "1.0"
      ]
     },
     "execution_count": 2,
     "metadata": {},
     "output_type": "execute_result"
    }
   ],
   "source": [
    "from sklearn.tree import DecisionTreeRegressor\n",
    "\n",
    "decisionTreeRegressor = DecisionTreeRegressor(\n",
    "    # --------------------------------------------------------------------------\n",
    "    # The function to measure the quality of a split.\n",
    "    # * 'squared_error': is equal to variance reduction as feature selection \n",
    "    #    criterion and minimizes the L2 loss using the mean of each terminal \n",
    "    #    node\n",
    "    # * 'friedman_mse': which uses mean squared error with Friedman’s \n",
    "    #   improvement score for potential splits\n",
    "    # * 'absolute_error': for the mean absolute error, which minimizes the\n",
    "    #   L1 loss using the median of each terminal node\n",
    "    # * 'poisson': which uses reduction in Poisson deviance to find splits.\n",
    "    criterion=\"squared_error\",\n",
    "    # --------------------------------------------------------------------------\n",
    "    #\n",
    "    #    El resto de parámetros fueron discutidos en DecisionTreeClassifier\n",
    "    #\n",
    "    # --------------------------------------------------------------------------\n",
    "    # The strategy used to choose the split at each node. Supported strategies \n",
    "    # are “best” to choose the best split and “random” to choose the best \n",
    "    # random split.\n",
    "    splitter=\"best\",\n",
    "    # --------------------------------------------------------------------------\n",
    "    # The maximum depth of the tree. If None, then nodes are expanded until all\n",
    "    # leaves are pure or until all leaves contain less than min_samples_split \n",
    "    # samples.\n",
    "    max_depth=None,\n",
    "    # --------------------------------------------------------------------------\n",
    "    # The minimum number of samples required to split an internal node:\n",
    "    # * If int, then consider min_samples_split as the minimum number.\n",
    "    # * If float, then min_samples_split is a fraction and \n",
    "    #   ceil(min_samples_split * n_samples) are the minimum number of samples\n",
    "    #   for each split.\n",
    "    min_samples_split=2,\n",
    "    # --------------------------------------------------------------------------\n",
    "    # The minimum number of samples required to be at a leaf node. A split \n",
    "    # point at any depth will only be considered if it leaves at least \n",
    "    # min_samples_leaf training samples in each of the left and right branches. \n",
    "    # This may have the effect of smoothing the model, especially in \n",
    "    # regression.\n",
    "    # * If int, then consider min_samples_leaf as the minimum number.\n",
    "    # * If float, then min_samples_leaf is a fraction and \n",
    "    #   ceil(min_samples_leaf * n_samples) are the minimum number of samples\n",
    "    #   for each node.\n",
    "    min_samples_leaf=1,\n",
    "    # --------------------------------------------------------------------------\n",
    "    # The minimum weighted fraction of the sum total of weights (of all the\n",
    "    # input samples) required to be at a leaf node. Samples have equal weight\n",
    "    # when sample_weight is not provided.\n",
    "    min_weight_fraction_leaf=0.0,\n",
    "    # --------------------------------------------------------------------------\n",
    "    # The number of features to consider when looking for the best split:\n",
    "    # * If int, then consider max_features features at each split.\n",
    "    # * If float, then max_features is a fraction and \n",
    "    #   max(1, int(max_features * n_features_in_)) features are considered at \n",
    "    #   each split.\n",
    "    # * If “sqrt”, then max_features=sqrt(n_features).\n",
    "    # * If “log2”, then max_features=log2(n_features).\n",
    "    # * If None, then max_features=n_features.\n",
    "    max_features=None,\n",
    "    # --------------------------------------------------------------------------\n",
    "    # Controls the randomness of the estimator. The features are always \n",
    "    # randomly permuted at each split, even if splitter is set to \"best\". When\n",
    "    # max_features < n_features, the algorithm will select max_features at \n",
    "    # random at each split before finding the best split among them. But the \n",
    "    # best found split may vary across different runs, even if \n",
    "    # max_features=n_features. That is the case, if the improvement of the \n",
    "    # criterion is identical for several splits and one split has to be \n",
    "    # selected at random. To obtain a deterministic behaviour during fitting, \n",
    "    # random_state has to be fixed to an integer.\n",
    "    random_state=None,\n",
    "    # --------------------------------------------------------------------------\n",
    "    # Grow a tree with max_leaf_nodes in best-first fashion. Best nodes are \n",
    "    # defined as relative reduction in impurity. If None then unlimited number\n",
    "    # of leaf nodes.\n",
    "    max_leaf_nodes=None,\n",
    "    # --------------------------------------------------------------------------\n",
    "    # A node will be split if this split induces a decrease of the impurity\n",
    "    # greater than or equal to this value.\n",
    "    #\n",
    "    # The weighted impurity decrease equation is the following:\n",
    "    #\n",
    "    #   N_t / N * (impurity - N_t_R / N_t * right_impurity\n",
    "    #                       - N_t_L / N_t * left_impurity)\n",
    "    #\n",
    "    # where N is the total number of samples, N_t is the number of samples at\n",
    "    # the current node, N_t_L is the number of samples in the left child, and \n",
    "    # N_t_R is the number of samples in the right child.\n",
    "    #\n",
    "    # N, N_t, N_t_R and N_t_L all refer to the weighted sum, if sample_weight\n",
    "    # is passed.\n",
    "    min_impurity_decrease=0.0,\n",
    "    # --------------------------------------------------------------------------\n",
    "    # Complexity parameter used for Minimal Cost-Complexity Pruning. The \n",
    "    # subtree with the largest cost complexity that is smaller than ccp_alpha \n",
    "    # will be chosen. By default, no pruning is performed.\n",
    "    ccp_alpha=0.0,\n",
    ")\n",
    "\n",
    "decisionTreeRegressor.fit(X, y)\n",
    "decisionTreeRegressor.score(X, y)"
   ]
  },
  {
   "cell_type": "code",
   "execution_count": 3,
   "id": "69936d7d-861a-4335-9901-db6c59460af3",
   "metadata": {},
   "outputs": [
    {
     "data": {
      "text/plain": [
       "array([151.,  75., 141., 206., 135.,  97., 138.,  63., 110., 310., 101.,\n",
       "        69., 179., 185., 118., 171., 166., 144.,  97., 168.,  68.,  49.,\n",
       "        68., 245., 184., 202., 137.,  85., 131., 283., 129.,  59., 341.,\n",
       "        87.,  65., 102., 265., 276., 252.,  90., 100.,  55.,  61.,  92.,\n",
       "       259.,  53., 190., 142.,  75., 142., 155., 225.,  59., 104., 182.,\n",
       "       128.,  52.,  37., 170., 170.,  61., 144.,  52., 128.,  71., 163.,\n",
       "       150.,  97., 160., 178.,  48., 270., 202., 111.,  85.,  42., 170.,\n",
       "       200., 252., 113., 143.,  51.,  52., 210.,  65., 141.,  55., 134.,\n",
       "        42., 111.,  98., 164.,  48.,  96.,  90., 162., 150., 279.,  92.,\n",
       "        83., 128., 102., 302., 198.,  95.,  53., 134., 144., 232.,  81.,\n",
       "       104.,  59., 246., 297., 258., 229., 275., 281., 179., 200., 200.,\n",
       "       173., 180.,  84., 121., 161.,  99., 109., 115., 268., 274., 158.,\n",
       "       107.,  83., 103., 272.,  85., 280., 336., 281., 118., 317., 235.,\n",
       "        60., 174., 259., 178., 128.,  96., 126., 288.,  88., 292.,  71.,\n",
       "       197., 186.,  25.,  84.,  96., 195.,  53., 217., 172., 131., 214.,\n",
       "        59.,  70., 220., 268., 152.,  47.,  74., 295., 101., 151., 127.,\n",
       "       237., 225.,  81., 151., 107.,  64., 138., 185., 265., 101., 137.,\n",
       "       143., 141.,  79., 292., 178.,  91., 116.,  86., 122.,  72., 129.,\n",
       "       142.,  90., 158.,  39., 196., 222., 277.,  99., 196., 202., 155.,\n",
       "        77., 191.,  70.,  73.,  49.,  65., 263., 248., 296., 214., 185.,\n",
       "        78.,  93., 252., 150.,  77., 208.,  77., 108., 160.,  53., 220.,\n",
       "       154., 259.,  90., 246., 124.,  67.,  72., 257., 262., 275., 177.,\n",
       "        71.,  47., 187., 125.,  78.,  51., 258., 215., 303., 243.,  91.,\n",
       "       150., 310., 153., 346.,  63.,  89.,  50.,  39., 103., 308., 116.,\n",
       "       145.,  74.,  45., 115., 264.,  87., 202., 127., 182., 241.,  66.,\n",
       "        94., 283.,  64., 102., 200., 265.,  94., 230., 181., 156., 233.,\n",
       "        60., 219.,  80.,  68., 332., 248.,  84., 200.,  55.,  85.,  89.,\n",
       "        31., 129.,  83., 275.,  65., 198., 236., 253., 124.,  44., 172.,\n",
       "       114., 142., 109., 180., 144., 163., 147.,  97., 220., 190., 109.,\n",
       "       191., 122., 230., 242., 248., 249., 192., 131., 237.,  78., 135.,\n",
       "       244., 199., 270., 164.,  72.,  96., 306.,  91., 214.,  95., 216.,\n",
       "       263., 178., 113., 200., 139., 139.,  88., 148.,  88., 243.,  71.,\n",
       "        77., 109., 272.,  60.,  54., 221.,  90., 311., 281., 182., 321.,\n",
       "        58., 262., 206., 233., 242., 123., 167.,  63., 197.,  71., 168.,\n",
       "       140., 217., 121., 235., 245.,  40.,  52., 104., 132.,  88.,  69.,\n",
       "       219.,  72., 201., 110.,  51., 277.,  63., 118.,  69., 273., 258.,\n",
       "        43., 198., 242., 232., 175.,  93., 168., 275., 293., 281.,  72.,\n",
       "       140., 189., 181., 209., 136., 261., 113., 131., 174., 257.,  55.,\n",
       "        84.,  42., 146., 212., 233.,  91., 111., 152., 120.,  67., 310.,\n",
       "        94., 183.,  66., 173.,  72.,  49.,  64.,  48., 178., 104., 132.,\n",
       "       220.,  57.])"
      ]
     },
     "execution_count": 3,
     "metadata": {},
     "output_type": "execute_result"
    }
   ],
   "source": [
    "decisionTreeRegressor.predict(X)"
   ]
  },
  {
   "cell_type": "code",
   "execution_count": 4,
   "id": "c013360d-e213-4ebc-9548-0b35d1c70f97",
   "metadata": {},
   "outputs": [
    {
     "data": {
      "text/plain": [
       "array([0.04278675, 0.00902901, 0.23099855, 0.08696601, 0.08256838,\n",
       "       0.04880831, 0.06316078, 0.01869221, 0.34793949, 0.06905048])"
      ]
     },
     "execution_count": 4,
     "metadata": {},
     "output_type": "execute_result"
    }
   ],
   "source": [
    "decisionTreeRegressor.feature_importances_"
   ]
  }
 ],
 "metadata": {
  "kernelspec": {
   "display_name": "Python 3 (ipykernel)",
   "language": "python",
   "name": "python3"
  },
  "language_info": {
   "codemirror_mode": {
    "name": "ipython",
    "version": 3
   },
   "file_extension": ".py",
   "mimetype": "text/x-python",
   "name": "python",
   "nbconvert_exporter": "python",
   "pygments_lexer": "ipython3",
   "version": "3.8.10"
  }
 },
 "nbformat": 4,
 "nbformat_minor": 5
}
