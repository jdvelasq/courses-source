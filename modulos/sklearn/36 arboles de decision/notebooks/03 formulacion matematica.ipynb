{
 "cells": [
  {
   "attachments": {},
   "cell_type": "markdown",
   "id": "1b1a4c1a-7a22-4de8-bc81-bf0e030e7301",
   "metadata": {},
   "source": [
    "Formulación matemática\n",
    "===\n",
    "\n",
    "* Ultima modificación: 2023-03-11 | [YouTube](https://www.youtube.com/watch?v=2485ZJz5NZg&list=PLEFpZ3YehTnDwjNNX3D7jjBsVKshZH4Kb&index=3)"
   ]
  },
  {
   "cell_type": "markdown",
   "id": "23e7ffa8-2a25-40ac-9998-2e85acdbf7a3",
   "metadata": {},
   "source": [
    "* Un arbol de decisión particiona el espacio de las características, tal que ejemplos pertenecientes a la misma clase o valores similares de la variable dependiente son agrupados en los nodos terminales."
   ]
  },
  {
   "cell_type": "markdown",
   "id": "43460e53-0ddd-4043-a6e7-69da95948974",
   "metadata": {},
   "source": [
    "* La calidad de una posible partición se mide con el indice de Gini."
   ]
  },
  {
   "cell_type": "markdown",
   "id": "633175ff-939a-4c73-96bc-1ea37eb2d0c6",
   "metadata": {},
   "source": [
    "* En clasificación, la **impureza de Gini** mide la probabilidad de que un elemento escogido aleatoriamente de la muestra de datos, le sea asignada una clase incorrecta, de acuerdo con la distribución de clases en el conjunto de datos; esto es, se desea maximizar la probabilidad de que el patrón sea clasificado correctamente. Por tanto, se desea minimizar la probabilidad de asignar una clase errónea. "
   ]
  },
  {
   "cell_type": "markdown",
   "id": "a85a2c98-4305-4d0f-b555-21e68d3e454a",
   "metadata": {},
   "source": [
    "* Si se tienen $J$ clases, y si se denota como $p_i$ la probabilidad de ocurrencia de la clase $i$ (con $i \\in \\{1, ..., J\\}$, la probabilidad de que a un elemento de la clase $i$ se le asigne otra clase es:"
   ]
  },
  {
   "cell_type": "markdown",
   "id": "7fe52b01-cd33-4387-ba11-0671713ab7c3",
   "metadata": {},
   "source": [
    "$$p_i \\cdot \\sum_{k\\ne i} p_k$$"
   ]
  },
  {
   "cell_type": "markdown",
   "id": "dfe3070e-f18b-4a78-bff6-a68caddf6cbc",
   "metadata": {},
   "source": [
    "* Ya que la función de impureza es computada sobre todas las clases, entonces:"
   ]
  },
  {
   "cell_type": "markdown",
   "id": "b78556c9-546e-43fb-9cd8-3b3085f5395b",
   "metadata": {},
   "source": [
    "$$\n",
    "\\begin{split}\n",
    "G & = \\sum_{i=1}^J \\left( p_i \\cdot \\sum_{k\\ne i} p_k \\right) \\\\ \\\\\n",
    "  & = \\sum_{i=1}^J  p_i \\cdot (1 - p_i)  \\\\ \\\\\n",
    "  & = \\sum_{i=1}^J  \\left( p_i - p_i^2 \\right)  \\\\ \\\\\n",
    "  & = \\left(\\sum_{i=1}^J p_i \\right) - \\left(\\sum_{i=1}^J p_i^2 \\right) \\\\ \\\\\n",
    "  & = 1 - \\sum_{i=1}^J p_i^2\n",
    "\\end{split}\n",
    "$$"
   ]
  },
  {
   "cell_type": "markdown",
   "id": "d2bcd19f-c873-46ae-aa40-e624c6c78c84",
   "metadata": {},
   "source": [
    "* En términos prácticos, el siguiente nodo a particionar es el que genera la máxima reducción del índice de Gini."
   ]
  },
  {
   "cell_type": "markdown",
   "id": "8e3692df-02c7-40b6-82cf-dd8de77aea8d",
   "metadata": {},
   "source": [
    "* La entropia se basa en el concepto de ganancia de información, y en términos prácticos, se selecciona el nodo a particionar, como aquel que generare la máxima ganancia de información."
   ]
  }
 ],
 "metadata": {
  "kernelspec": {
   "display_name": "Python 3 (ipykernel)",
   "language": "python",
   "name": "python3"
  },
  "language_info": {
   "codemirror_mode": {
    "name": "ipython",
    "version": 3
   },
   "file_extension": ".py",
   "mimetype": "text/x-python",
   "name": "python",
   "nbconvert_exporter": "python",
   "pygments_lexer": "ipython3",
   "version": "3.8.10"
  }
 },
 "nbformat": 4,
 "nbformat_minor": 5
}
