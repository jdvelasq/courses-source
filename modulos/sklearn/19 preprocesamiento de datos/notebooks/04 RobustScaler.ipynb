{
 "cells": [
  {
   "cell_type": "markdown",
   "id": "31f73883-ddb6-4f4b-b6d5-1a3b67f6a6d3",
   "metadata": {
    "tags": []
   },
   "source": [
    "RobustScaler\n",
    "==="
   ]
  },
  {
   "cell_type": "markdown",
   "id": "1179f5b6-6745-4341-bac2-f2db0eb1b79d",
   "metadata": {},
   "source": [
    "* Remueve la mediana y escala los datos de acuerdo con el rango intercuartil."
   ]
  },
  {
   "cell_type": "markdown",
   "id": "38ca1143-0262-49e9-ac82-1284f434b9ba",
   "metadata": {},
   "source": [
    "* Es un método de escalamiento robusto a outliers."
   ]
  },
  {
   "cell_type": "code",
   "execution_count": 1,
   "id": "0b193b07-fbbf-45f8-9336-9b4f627c3bed",
   "metadata": {},
   "outputs": [],
   "source": [
    "import seaborn as sns\n",
    "\n",
    "penguins = sns.load_dataset(\"penguins\")\n",
    "\n",
    "data = penguins[[\"flipper_length_mm\"]]\n",
    "data = data.rename(columns={\"flipper_length_mm\": \"original\"})"
   ]
  },
  {
   "cell_type": "code",
   "execution_count": 2,
   "id": "00dddcd9-c88c-4830-b8ad-50b39c98241c",
   "metadata": {},
   "outputs": [],
   "source": [
    "from sklearn.preprocessing import RobustScaler\n",
    "\n",
    "robustScaler = RobustScaler(\n",
    "    # -------------------------------------------------------------------------\n",
    "    # If True, center the data before scaling.\n",
    "    with_centering=True,\n",
    "    # -------------------------------------------------------------------------\n",
    "    # If True, scale the data to interquartile range.\n",
    "    with_scaling=True,\n",
    "    # -------------------------------------------------------------------------\n",
    "    # Quantile range used to calculate scale_.\n",
    "    quantile_range=(0.25, 0.75),\n",
    "    # -------------------------------------------------------------------------\n",
    "    # If True, scale data so that normally distributed features have a variance \n",
    "    # of 1.\n",
    "    unit_variance=False,\n",
    ")\n",
    "\n",
    "robustScaler.fit(data[[\"original\"]])\n",
    "\n",
    "data[\"transformed\"] = robustScaler.transform(data[[\"original\"]])"
   ]
  },
  {
   "cell_type": "code",
   "execution_count": 3,
   "id": "f391a67d-57fc-4de6-a6c6-739a6d5e20cb",
   "metadata": {},
   "outputs": [
    {
     "data": {
      "image/png": "[encoded data removed]",
      "text/plain": [
       "<Figure size 300x300 with 3 Axes>"
      ]
     },
     "metadata": {},
     "output_type": "display_data"
    }
   ],
   "source": [
    "g = sns.jointplot(x=\"original\", y=\"transformed\", data=data, kind=\"scatter\")\n",
    "g.fig.set_figwidth(3)\n",
    "g.fig.set_figheight(3)"
   ]
  },
  {
   "cell_type": "code",
   "execution_count": 4,
   "id": "18509ca6-50a7-499f-af38-cc9efa837773",
   "metadata": {},
   "outputs": [
    {
     "data": {
      "text/plain": [
       "array([197.])"
      ]
     },
     "metadata": {},
     "output_type": "display_data"
    },
    {
     "data": {
      "text/plain": [
       "array([3.41])"
      ]
     },
     "metadata": {},
     "output_type": "display_data"
    }
   ],
   "source": [
    "display(\n",
    "    robustScaler.center_,\n",
    "    robustScaler.scale_,\n",
    ")"
   ]
  }
 ],
 "metadata": {
  "kernelspec": {
   "display_name": "Python 3 (ipykernel)",
   "language": "python",
   "name": "python3"
  },
  "language_info": {
   "codemirror_mode": {
    "name": "ipython",
    "version": 3
   },
   "file_extension": ".py",
   "mimetype": "text/x-python",
   "name": "python",
   "nbconvert_exporter": "python",
   "pygments_lexer": "ipython3",
   "version": "3.8.10"
  }
 },
 "nbformat": 4,
 "nbformat_minor": 5
}
