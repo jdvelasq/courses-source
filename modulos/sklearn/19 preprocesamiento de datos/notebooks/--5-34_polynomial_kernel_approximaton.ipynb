{
 "cells": [
  {
   "cell_type": "markdown",
   "id": "7c4c54a5-f8fd-4c39-849b-5e235fd97071",
   "metadata": {
    "tags": []
   },
   "source": [
    "PolynomialCountSketch (Polynomial Kernel Approximation via Tensor Sketch) --- \n",
    "===\n",
    "\n",
    "* 0:00 min | Última modificación: Octubre 4, 2021 | YouTube"
   ]
  },
  {
   "cell_type": "markdown",
   "id": "6241cfca-32fd-4214-b18c-0ff959f8f53e",
   "metadata": {},
   "source": [
    "**Kernel**:\n",
    "\n",
    "$$\n",
    "k(x,y) = (\\gamma x^Ty+c_0)^d\n",
    "$$"
   ]
  },
  {
   "cell_type": "code",
   "execution_count": 1,
   "id": "555202e8-ef7d-4e3d-809e-02942a85163e",
   "metadata": {},
   "outputs": [
    {
     "ename": "ImportError",
     "evalue": "cannot import name 'PolynomialCountSketch'",
     "output_type": "error",
     "traceback": [
      "\u001b[0;31m---------------------------------------------------------------------------\u001b[0m",
      "\u001b[0;31mImportError\u001b[0m                               Traceback (most recent call last)",
      "\u001b[0;32m<ipython-input-1-7055371ad66c>\u001b[0m in \u001b[0;36m<module>\u001b[0;34m\u001b[0m\n\u001b[0;32m----> 1\u001b[0;31m \u001b[0;32mfrom\u001b[0m \u001b[0msklearn\u001b[0m\u001b[0;34m.\u001b[0m\u001b[0mkernel_approximation\u001b[0m \u001b[0;32mimport\u001b[0m \u001b[0mPolynomialCountSketch\u001b[0m\u001b[0;34m\u001b[0m\u001b[0;34m\u001b[0m\u001b[0m\n\u001b[0m\u001b[1;32m      2\u001b[0m \u001b[0;32mfrom\u001b[0m \u001b[0msklearn\u001b[0m\u001b[0;34m.\u001b[0m\u001b[0mlinear_model\u001b[0m \u001b[0;32mimport\u001b[0m \u001b[0mSGDClassifier\u001b[0m\u001b[0;34m\u001b[0m\u001b[0;34m\u001b[0m\u001b[0m\n\u001b[1;32m      3\u001b[0m \u001b[0;34m\u001b[0m\u001b[0m\n\u001b[1;32m      4\u001b[0m X = [\n\u001b[1;32m      5\u001b[0m     \u001b[0;34m[\u001b[0m\u001b[0;36m0\u001b[0m\u001b[0;34m,\u001b[0m \u001b[0;36m0\u001b[0m\u001b[0;34m]\u001b[0m\u001b[0;34m,\u001b[0m\u001b[0;34m\u001b[0m\u001b[0;34m\u001b[0m\u001b[0m\n",
      "\u001b[0;31mImportError\u001b[0m: cannot import name 'PolynomialCountSketch'"
     ]
    }
   ],
   "source": [
    "from sklearn.kernel_approximation import PolynomialCountSketch\n",
    "from sklearn.linear_model import SGDClassifier\n",
    "\n",
    "X = [\n",
    "    [0, 0],\n",
    "    [1, 1],\n",
    "    [1, 0],\n",
    "    [0, 1],\n",
    "]\n",
    "y = [\n",
    "    0,\n",
    "    0,\n",
    "    1,\n",
    "    1,\n",
    "]\n",
    "\n",
    "polynomialCountSketch = PolynomialCountSketch(\n",
    "    degree=3,\n",
    "    random_state=1,\n",
    ")\n",
    "\n",
    "X_features = polynomialCountSketch.fit_transform(X)\n",
    "\n",
    "sgdClassifier = SGDClassifier(max_iter=10, tol=1e-3)\n",
    "sgdClassifier.fit(X_features, y)\n",
    "\n",
    "\n",
    "sgdClassifier.score(X_features, y)"
   ]
  },
  {
   "cell_type": "code",
   "execution_count": null,
   "id": "df592a18-addc-468e-ba18-46a19d577429",
   "metadata": {},
   "outputs": [],
   "source": []
  }
 ],
 "metadata": {
  "kernelspec": {
   "display_name": "Python 3",
   "language": "python",
   "name": "python3"
  },
  "language_info": {
   "codemirror_mode": {
    "name": "ipython",
    "version": 3
   },
   "file_extension": ".py",
   "mimetype": "text/x-python",
   "name": "python",
   "nbconvert_exporter": "python",
   "pygments_lexer": "ipython3",
   "version": "3.6.9"
  }
 },
 "nbformat": 4,
 "nbformat_minor": 5
}
