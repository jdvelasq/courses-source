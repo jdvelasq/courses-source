{
 "cells": [
  {
   "attachments": {},
   "cell_type": "markdown",
   "id": "33e9f1e1-8871-4a16-bd4b-406e9ee29420",
   "metadata": {
    "tags": []
   },
   "source": [
    "TruncatedSVD y Latent Semantic Analysis --- 6:52\n",
    "===\n",
    "\n",
    "* Ultima modificación: 2023-02-27 | [YouTube](https://www.youtube.com/watch?v=UrAVlLl6e8I&list=PLEFpZ3YehTnChLjKfJ4_J7ZqNueH8JU3g&index=3)"
   ]
  },
  {
   "cell_type": "markdown",
   "id": "3044a60b-adf1-46e4-87c7-a43d89311ceb",
   "metadata": {},
   "source": [
    "* El objeto `TruncatedSVD`  implementa una variación de la descomposición en valores singulares (SVD) que computa únicamente los $k$ valores singulares más grandes."
   ]
  },
  {
   "cell_type": "markdown",
   "id": "77a9055a-1344-4da6-8f91-c59ff2c7df07",
   "metadata": {},
   "source": [
    "* Cuando esta metodología (TruncatedSVD) es aplicada a la matriz término-documento, es conocida como análisis semantico latente, ya que transforma la matriz a un espacio semántico de baja dimensionalidad. "
   ]
  },
  {
   "cell_type": "markdown",
   "id": "dd0b9809-8865-4b92-b420-35cbbb1291c2",
   "metadata": {},
   "source": [
    "* Esta metodología es muy similar a PCA pero difiere en que la matriz de termino-documento no necesita ser centrada."
   ]
  },
  {
   "cell_type": "markdown",
   "id": "4fe93729-5e14-4371-b117-29282200a83f",
   "metadata": {},
   "source": [
    "![lsa.png](assets/lsa.png)"
   ]
  },
  {
   "cell_type": "code",
   "execution_count": 1,
   "id": "9bcd5d44-cfcd-4cdc-b917-034875bb1bf0",
   "metadata": {},
   "outputs": [
    {
     "name": "stdout",
     "output_type": "stream",
     "text": [
      " documents: 18846\n",
      "categories: 20\n",
      "\n",
      "['alt.atheism',\n",
      " 'comp.graphics',\n",
      " 'comp.os.ms-windows.misc',\n",
      " 'comp.sys.ibm.pc.hardware',\n",
      " 'comp.sys.mac.hardware',\n",
      " 'comp.windows.x',\n",
      " 'misc.forsale',\n",
      " 'rec.autos',\n",
      " 'rec.motorcycles',\n",
      " 'rec.sport.baseball',\n",
      " 'rec.sport.hockey',\n",
      " 'sci.crypt',\n",
      " 'sci.electronics',\n",
      " 'sci.med',\n",
      " 'sci.space',\n",
      " 'soc.religion.christian',\n",
      " 'talk.politics.guns',\n",
      " 'talk.politics.mideast',\n",
      " 'talk.politics.misc',\n",
      " 'talk.religion.misc']\n"
     ]
    }
   ],
   "source": [
    "#\n",
    "# Carga de datos\n",
    "#\n",
    "\n",
    "from pprint import pprint\n",
    "\n",
    "import numpy as np\n",
    "from sklearn.datasets import fetch_20newsgroups\n",
    "\n",
    "newsgroups = fetch_20newsgroups(\n",
    "    subset=\"all\", categories=None, shuffle=True, random_state=12345\n",
    ")\n",
    "\n",
    "documents = newsgroups.data\n",
    "target = newsgroups.target\n",
    "n_groups = np.unique(target).shape[0]\n",
    "\n",
    "print(\" documents: {:d}\".format(len(newsgroups.data)))\n",
    "print(\"categories: {:d}\".format(len(newsgroups.target_names)))\n",
    "print()\n",
    "pprint(list(newsgroups.target_names))"
   ]
  },
  {
   "cell_type": "code",
   "execution_count": 2,
   "id": "98e23c07-f58a-433e-b0e0-f78d6612b6a5",
   "metadata": {},
   "outputs": [
    {
     "name": "stdout",
     "output_type": "stream",
     "text": [
      "From: grady@netcom.com (1016/2EF221)\n",
      "Subject: Re: freely distributable public key cryptography c++ code:  where?\n",
      "Organization: capriccioso\n",
      "X-Newsreader: TIN [version 1.1 PL6]\n",
      "Lines: 20\n",
      "\n",
      "Victor Iseli (victori@xetron.com) wrote:\n",
      ": \n",
      ": \n",
      ": \"Numerical Recipes in C\"..Fortran..Pascal  has a nice section on\n",
      ": encryption and decryption based on the DES algorithm.  There is\n",
      ": also source code provided (I think some versions of this book are \n",
      ": distributed with the source code on disk; the source code can\n",
      ": also be ordered from the publisher).\n",
      ": \n",
      ": --Victor Iseli\n",
      ": victori@xetron.com\n",
      "\n",
      "Yes I benchmarked the DES implementation in the Recipes in C\n",
      "book.. it is about 1 1/2 orders of magnitude SLOWER than the\n",
      "Outerbridge/Karn/Gillogly/et al implementation.\n",
      "\n",
      "It may be instructional, but it isn't very fast.\n",
      "-- \n",
      "grady@netcom.com  2EF221 / 15 E2 AD D3 D1 C6 F3 FC  58 AC F7 3D 4F 01 1E 2F\n",
      "\n",
      "\n"
     ]
    }
   ],
   "source": [
    "#\n",
    "# Ejemplo del primer documento\n",
    "#\n",
    "print(documents[0])"
   ]
  },
  {
   "cell_type": "code",
   "execution_count": 3,
   "id": "b4f4a156-555e-4cf5-9212-a01e446c51a4",
   "metadata": {},
   "outputs": [
    {
     "data": {
      "text/plain": [
       "(18846, 1000)"
      ]
     },
     "execution_count": 3,
     "metadata": {},
     "output_type": "execute_result"
    }
   ],
   "source": [
    "from sklearn.feature_extraction.text import TfidfVectorizer\n",
    "\n",
    "vectorizer = TfidfVectorizer(\n",
    "    max_df=0.5,\n",
    "    max_features=1000,\n",
    "    min_df=2,\n",
    "    stop_words=\"english\",\n",
    "    use_idf=False,\n",
    "    token_pattern=r\"(?u)\\b[a-zA-Z][a-zA-Z]+\\b\",\n",
    ")\n",
    "\n",
    "dt_matrix = vectorizer.fit_transform(documents)\n",
    "dt_matrix.shape"
   ]
  },
  {
   "cell_type": "code",
   "execution_count": 4,
   "id": "b5e8dd46-c921-45bb-910b-a0890303132e",
   "metadata": {},
   "outputs": [
    {
     "data": {
      "text/plain": [
       "(18846, 600)"
      ]
     },
     "execution_count": 4,
     "metadata": {},
     "output_type": "execute_result"
    }
   ],
   "source": [
    "from sklearn.decomposition import TruncatedSVD\n",
    "from sklearn.pipeline import make_pipeline\n",
    "from sklearn.preprocessing import Normalizer\n",
    "\n",
    "truncatedSVD = TruncatedSVD(\n",
    "    # --------------------------------------------------------------------------\n",
    "    # Desired dimensionality of output data.\n",
    "    n_components=600,\n",
    "    # --------------------------------------------------------------------------\n",
    "    # SVD solver to use.\n",
    "    # * 'arpack'\n",
    "    # * 'randomized'\n",
    "    algorithm='randomized',\n",
    "    # --------------------------------------------------------------------------\n",
    "    # Number of iterations for randomized SVD solver. Not used by ARPACK. \n",
    "    n_iter=5,\n",
    "    # --------------------------------------------------------------------------\n",
    "    # Number of oversamples for randomized SVD solver. Not used by ARPACK. \n",
    "    n_oversamples=10,\n",
    "    # --------------------------------------------------------------------------\n",
    "    # Power iteration normalizer for randomized SVD solver. Not used by ARPACK. \n",
    "    # * 'auto'\n",
    "    # * 'QR'\n",
    "    # * 'LU'\n",
    "    # * 'none'\n",
    "    power_iteration_normalizer='auto',\n",
    "    # --------------------------------------------------------------------------\n",
    "    # Used during randomized svd. Pass an int for reproducible results across\n",
    "    # multiple function calls.\n",
    "    random_state=None,\n",
    "    # --------------------------------------------------------------------------\n",
    "    # Tolerance for ARPACK. 0 means machine precision. Ignored by randomized \n",
    "    # SVD solver.\n",
    "    tol=0.0,\n",
    ")\n",
    "\n",
    "\n",
    "normalizer = Normalizer(copy=False)\n",
    "pipeline = make_pipeline(truncatedSVD, normalizer)\n",
    "\n",
    "dt_svd = pipeline.fit_transform(dt_matrix)\n",
    "dt_svd.shape"
   ]
  },
  {
   "cell_type": "code",
   "execution_count": 5,
   "id": "3d7432cf-74b0-4828-8d49-81f2677a584c",
   "metadata": {},
   "outputs": [
    {
     "name": "stdout",
     "output_type": "stream",
     "text": [
      "Explained variance of the SVD step: 87%\n"
     ]
    }
   ],
   "source": [
    "explained_variance = truncatedSVD.explained_variance_ratio_.sum()\n",
    "print(\"Explained variance of the SVD step: {}%\".format(int(explained_variance * 100)))"
   ]
  },
  {
   "cell_type": "code",
   "execution_count": 6,
   "id": "1c4e9e5e-964e-41e3-b43b-f05755310116",
   "metadata": {},
   "outputs": [
    {
     "data": {
      "text/html": [
       "<style>#sk-container-id-1 {color: black;background-color: white;}#sk-container-id-1 pre{padding: 0;}#sk-container-id-1 div.sk-toggleable {background-color: white;}#sk-container-id-1 label.sk-toggleable__label {cursor: pointer;display: block;width: 100%;margin-bottom: 0;padding: 0.3em;box-sizing: border-box;text-align: center;}#sk-container-id-1 label.sk-toggleable__label-arrow:before {content: \"▸\";float: left;margin-right: 0.25em;color: #696969;}#sk-container-id-1 label.sk-toggleable__label-arrow:hover:before {color: black;}#sk-container-id-1 div.sk-estimator:hover label.sk-toggleable__label-arrow:before {color: black;}#sk-container-id-1 div.sk-toggleable__content {max-height: 0;max-width: 0;overflow: hidden;text-align: left;background-color: #f0f8ff;}#sk-container-id-1 div.sk-toggleable__content pre {margin: 0.2em;color: black;border-radius: 0.25em;background-color: #f0f8ff;}#sk-container-id-1 input.sk-toggleable__control:checked~div.sk-toggleable__content {max-height: 200px;max-width: 100%;overflow: auto;}#sk-container-id-1 input.sk-toggleable__control:checked~label.sk-toggleable__label-arrow:before {content: \"▾\";}#sk-container-id-1 div.sk-estimator input.sk-toggleable__control:checked~label.sk-toggleable__label {background-color: #d4ebff;}#sk-container-id-1 div.sk-label input.sk-toggleable__control:checked~label.sk-toggleable__label {background-color: #d4ebff;}#sk-container-id-1 input.sk-hidden--visually {border: 0;clip: rect(1px 1px 1px 1px);clip: rect(1px, 1px, 1px, 1px);height: 1px;margin: -1px;overflow: hidden;padding: 0;position: absolute;width: 1px;}#sk-container-id-1 div.sk-estimator {font-family: monospace;background-color: #f0f8ff;border: 1px dotted black;border-radius: 0.25em;box-sizing: border-box;margin-bottom: 0.5em;}#sk-container-id-1 div.sk-estimator:hover {background-color: #d4ebff;}#sk-container-id-1 div.sk-parallel-item::after {content: \"\";width: 100%;border-bottom: 1px solid gray;flex-grow: 1;}#sk-container-id-1 div.sk-label:hover label.sk-toggleable__label {background-color: #d4ebff;}#sk-container-id-1 div.sk-serial::before {content: \"\";position: absolute;border-left: 1px solid gray;box-sizing: border-box;top: 0;bottom: 0;left: 50%;z-index: 0;}#sk-container-id-1 div.sk-serial {display: flex;flex-direction: column;align-items: center;background-color: white;padding-right: 0.2em;padding-left: 0.2em;position: relative;}#sk-container-id-1 div.sk-item {position: relative;z-index: 1;}#sk-container-id-1 div.sk-parallel {display: flex;align-items: stretch;justify-content: center;background-color: white;position: relative;}#sk-container-id-1 div.sk-item::before, #sk-container-id-1 div.sk-parallel-item::before {content: \"\";position: absolute;border-left: 1px solid gray;box-sizing: border-box;top: 0;bottom: 0;left: 50%;z-index: -1;}#sk-container-id-1 div.sk-parallel-item {display: flex;flex-direction: column;z-index: 1;position: relative;background-color: white;}#sk-container-id-1 div.sk-parallel-item:first-child::after {align-self: flex-end;width: 50%;}#sk-container-id-1 div.sk-parallel-item:last-child::after {align-self: flex-start;width: 50%;}#sk-container-id-1 div.sk-parallel-item:only-child::after {width: 0;}#sk-container-id-1 div.sk-dashed-wrapped {border: 1px dashed gray;margin: 0 0.4em 0.5em 0.4em;box-sizing: border-box;padding-bottom: 0.4em;background-color: white;}#sk-container-id-1 div.sk-label label {font-family: monospace;font-weight: bold;display: inline-block;line-height: 1.2em;}#sk-container-id-1 div.sk-label-container {text-align: center;}#sk-container-id-1 div.sk-container {/* jupyter's `normalize.less` sets `[hidden] { display: none; }` but bootstrap.min.css set `[hidden] { display: none !important; }` so we also need the `!important` here to be able to override the default hidden behavior on the sphinx rendered scikit-learn.org. See: https://github.com/scikit-learn/scikit-learn/issues/21755 */display: inline-block !important;position: relative;}#sk-container-id-1 div.sk-text-repr-fallback {display: none;}</style><div id=\"sk-container-id-1\" class=\"sk-top-container\"><div class=\"sk-text-repr-fallback\"><pre>KMeans(max_iter=100, n_clusters=20, n_init=1)</pre><b>In a Jupyter environment, please rerun this cell to show the HTML representation or trust the notebook. <br />On GitHub, the HTML representation is unable to render, please try loading this page with nbviewer.org.</b></div><div class=\"sk-container\" hidden><div class=\"sk-item\"><div class=\"sk-estimator sk-toggleable\"><input class=\"sk-toggleable__control sk-hidden--visually\" id=\"sk-estimator-id-1\" type=\"checkbox\" checked><label for=\"sk-estimator-id-1\" class=\"sk-toggleable__label sk-toggleable__label-arrow\">KMeans</label><div class=\"sk-toggleable__content\"><pre>KMeans(max_iter=100, n_clusters=20, n_init=1)</pre></div></div></div></div></div>"
      ],
      "text/plain": [
       "KMeans(max_iter=100, n_clusters=20, n_init=1)"
      ]
     },
     "execution_count": 6,
     "metadata": {},
     "output_type": "execute_result"
    }
   ],
   "source": [
    "from sklearn.cluster import KMeans\n",
    "\n",
    "kmeans = KMeans(\n",
    "    n_clusters=n_groups,\n",
    "    init=\"k-means++\",\n",
    "    max_iter=100,\n",
    "    n_init=1,\n",
    ")\n",
    "\n",
    "kmeans.fit(dt_svd)"
   ]
  },
  {
   "cell_type": "code",
   "execution_count": 7,
   "id": "fbd761c0-c669-4dc3-96f7-7ee41bba7698",
   "metadata": {},
   "outputs": [
    {
     "name": "stdout",
     "output_type": "stream",
     "text": [
      "Cluster 0: uiuc cso university article illinois news com don know think\n",
      "Cluster 1: com article posting host nntp like distribution just don reply\n",
      "Cluster 2: cs article university computer science posting host com nntp pitt\n",
      "Cluster 3: ca article university posting canada host nntp com bnr like\n",
      "Cluster 4: com new does know mail thanks distribution like help reply\n",
      "Cluster 5: god jesus people believe com does don bible say think\n",
      "Cluster 6: windows dos com file university ms use using know does\n",
      "Cluster 7: don like just think com know article good time people\n",
      "Cluster 8: university state thanks know virginia new article like computer just\n",
      "Cluster 9: people don com article just think like government know armenian\n",
      "Cluster 10: andrew cmu pittsburgh posting host nntp pa reply com know\n",
      "Cluster 11: uk ac university article com posting host nntp just know\n",
      "Cluster 12: drive scsi hard ide disk drives com controller university posting\n",
      "Cluster 13: posting host nntp university article distribution know just thanks like\n",
      "Cluster 14: game team games year hockey university article think don players\n",
      "Cluster 15: nasa gov space article posting host nntp com center like\n",
      "Cluster 16: key access clipper com chip encryption digex keys government escrow\n",
      "Cluster 17: article com israel just university state org people did think\n",
      "Cluster 18: use com article used like know don just university does\n",
      "Cluster 19: mit host posting nntp com article internet ai like reply\n"
     ]
    }
   ],
   "source": [
    "original_space_centroids = truncatedSVD.inverse_transform(kmeans.cluster_centers_)\n",
    "\n",
    "order_centroids = original_space_centroids.argsort()[:, ::-1]\n",
    "\n",
    "terms = vectorizer.get_feature_names_out()\n",
    "for i in range(n_groups):\n",
    "    print(\"Cluster %d:\" % i, end=\"\")\n",
    "    for ind in order_centroids[i, :10]:\n",
    "        print(\" %s\" % terms[ind], end=\"\")\n",
    "    print()"
   ]
  }
 ],
 "metadata": {
  "kernelspec": {
   "display_name": ".venv",
   "language": "python",
   "name": "python3"
  },
  "language_info": {
   "codemirror_mode": {
    "name": "ipython",
    "version": 3
   },
   "file_extension": ".py",
   "mimetype": "text/x-python",
   "name": "python",
   "nbconvert_exporter": "python",
   "pygments_lexer": "ipython3",
   "version": "3.9.6"
  },
  "vscode": {
   "interpreter": {
    "hash": "c8417958a2afd1d92c64094979b89d5277c2b16f620ce08f575580358c337ec6"
   }
  }
 },
 "nbformat": 4,
 "nbformat_minor": 5
}
