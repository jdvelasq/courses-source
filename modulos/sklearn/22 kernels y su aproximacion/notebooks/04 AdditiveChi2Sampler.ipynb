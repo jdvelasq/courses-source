{
 "cells": [
  {
   "cell_type": "markdown",
   "id": "7c4c54a5-f8fd-4c39-849b-5e235fd97071",
   "metadata": {
    "tags": []
   },
   "source": [
    "AdditiveChi2Sample (Additive Chi Squared Kernel)\n",
    "==="
   ]
  },
  {
   "cell_type": "markdown",
   "id": "6241cfca-32fd-4214-b18c-0ff959f8f53e",
   "metadata": {},
   "source": [
    "**Kernel**:\n",
    "\n",
    "$$\n",
    "k(x,y) = \\sum_i \\frac{2 x_i y_i}{x_i + y_i}\n",
    "$$"
   ]
  },
  {
   "cell_type": "markdown",
   "id": "b6cf0a38-6cbd-444a-8e63-5f4ba712157d",
   "metadata": {},
   "source": [
    "* Permite el muestreo de un kernel chi2 aditivo."
   ]
  },
  {
   "cell_type": "markdown",
   "id": "7f1fab74-b405-4384-86e2-efcb9b00010e",
   "metadata": {},
   "source": [
    "* Realiza un muestreo de la transformada de Fourier del kernel a intervalos regulares."
   ]
  },
  {
   "cell_type": "markdown",
   "id": "21837bf6-a1d4-411f-a6aa-ca598ae2e99b",
   "metadata": {},
   "source": [
    "* Cada entrada en el espacio original es transformada en 2 * `sample_steps`- 1 características."
   ]
  },
  {
   "cell_type": "code",
   "execution_count": 1,
   "id": "448539af-38ba-4224-87dc-cd5e52147dc7",
   "metadata": {},
   "outputs": [
    {
     "data": {
      "text/plain": [
       "(1797, 192)"
      ]
     },
     "execution_count": 1,
     "metadata": {},
     "output_type": "execute_result"
    }
   ],
   "source": [
    "from sklearn.datasets import load_digits\n",
    "from sklearn.kernel_approximation import AdditiveChi2Sampler\n",
    "from sklearn.linear_model import SGDClassifier\n",
    "\n",
    "X, y = load_digits(return_X_y=True)\n",
    "\n",
    "chi2sampler = AdditiveChi2Sampler(\n",
    "    # -------------------------------------------------------------------------\n",
    "    # Gives the number of (complex) sampling points. 2n+1 points for dimension.\n",
    "    # Typical values = {1, 2, 3}\n",
    "    sample_steps=2,\n",
    "    # -------------------------------------------------------------------------\n",
    "    # Sampling interval. Must be specified when sample_steps not in {1,2,3}.\n",
    "    sample_interval=None,\n",
    ")\n",
    "\n",
    "X_transformed = chi2sampler.fit_transform(X, y)\n",
    "\n",
    "X_transformed.shape"
   ]
  },
  {
   "cell_type": "code",
   "execution_count": 2,
   "id": "84ba4fba-0e6f-48db-8aed-8d1e1a602df5",
   "metadata": {},
   "outputs": [
    {
     "data": {
      "text/plain": [
       "0.9821925431274346"
      ]
     },
     "execution_count": 2,
     "metadata": {},
     "output_type": "execute_result"
    }
   ],
   "source": [
    "clf = SGDClassifier(\n",
    "    max_iter=100,\n",
    "    random_state=0,\n",
    "    tol=1e-3,\n",
    ")\n",
    "\n",
    "clf.fit(X_transformed, y)\n",
    "\n",
    "clf.score(X_transformed, y)"
   ]
  }
 ],
 "metadata": {
  "kernelspec": {
   "display_name": "Python 3 (ipykernel)",
   "language": "python",
   "name": "python3"
  },
  "language_info": {
   "codemirror_mode": {
    "name": "ipython",
    "version": 3
   },
   "file_extension": ".py",
   "mimetype": "text/x-python",
   "name": "python",
   "nbconvert_exporter": "python",
   "pygments_lexer": "ipython3",
   "version": "3.8.10"
  },
  "vscode": {
   "interpreter": {
    "hash": "2482a4565599eda3cd2db35331af39775c1f78a505a9deef48c721423040da5b"
   }
  }
 },
 "nbformat": 4,
 "nbformat_minor": 5
}
