{
 "cells": [
  {
   "cell_type": "markdown",
   "id": "7c4c54a5-f8fd-4c39-849b-5e235fd97071",
   "metadata": {
    "tags": []
   },
   "source": [
    "SkewedChi2Sampler (Skewed Chi Squared Kernel)\n",
    "==="
   ]
  },
  {
   "cell_type": "markdown",
   "id": "6241cfca-32fd-4214-b18c-0ff959f8f53e",
   "metadata": {},
   "source": [
    "**Kernel**:\n",
    "\n",
    "$$\n",
    "k(x,y) = \\prod_i \\frac{2 \\sqrt{x_i + c} \\sqrt{y_i + c}}{x_i + y_i + 2c}\n",
    "$$"
   ]
  },
  {
   "cell_type": "code",
   "execution_count": 1,
   "id": "ba034b7d-6711-4dd1-9287-4d9c9af2ee95",
   "metadata": {},
   "outputs": [
    {
     "data": {
      "text/plain": [
       "(4, 10)"
      ]
     },
     "execution_count": 1,
     "metadata": {},
     "output_type": "execute_result"
    }
   ],
   "source": [
    "from sklearn.kernel_approximation import SkewedChi2Sampler\n",
    "from sklearn.linear_model import SGDClassifier\n",
    "\n",
    "X = [\n",
    "    [0, 0],\n",
    "    [1, 1],\n",
    "    [1, 0],\n",
    "    [0, 1],\n",
    "]\n",
    "y = [\n",
    "    0,\n",
    "    0,\n",
    "    1,\n",
    "    1,\n",
    "]\n",
    "\n",
    "\n",
    "skewedChi2Sampler = SkewedChi2Sampler(\n",
    "    # -------------------------------------------------------------------------\n",
    "    # “skewedness” parameter of the kernel. Needs to be cross-validated.\n",
    "    skewedness=0.01,\n",
    "    # -------------------------------------------------------------------------\n",
    "    # Number of Monte Carlo samples per original feature. Equals the\n",
    "    # dimensionality of the computed feature space.\n",
    "    n_components=10,\n",
    "    # -------------------------------------------------------------------------\n",
    "    # Pseudo-random number generator to control the generation of the random\n",
    "    # weights and random offset when fitting the training data.\n",
    "    random_state=0,\n",
    ")\n",
    "\n",
    "X_features = skewedChi2Sampler.fit_transform(X, y)\n",
    "\n",
    "X_features.shape"
   ]
  },
  {
   "cell_type": "code",
   "execution_count": 2,
   "id": "e4348b4e-436e-48ff-a5c3-238c3069f6d4",
   "metadata": {},
   "outputs": [
    {
     "data": {
      "text/plain": [
       "1.0"
      ]
     },
     "execution_count": 2,
     "metadata": {},
     "output_type": "execute_result"
    }
   ],
   "source": [
    "sgdClassifier = SGDClassifier(max_iter=100, tol=1e-3)\n",
    "\n",
    "sgdClassifier.fit(X_features, y)\n",
    "\n",
    "sgdClassifier.score(X_features, y)"
   ]
  }
 ],
 "metadata": {
  "kernelspec": {
   "display_name": "Python 3 (ipykernel)",
   "language": "python",
   "name": "python3"
  },
  "language_info": {
   "codemirror_mode": {
    "name": "ipython",
    "version": 3
   },
   "file_extension": ".py",
   "mimetype": "text/x-python",
   "name": "python",
   "nbconvert_exporter": "python",
   "pygments_lexer": "ipython3",
   "version": "3.8.10"
  },
  "vscode": {
   "interpreter": {
    "hash": "2482a4565599eda3cd2db35331af39775c1f78a505a9deef48c721423040da5b"
   }
  }
 },
 "nbformat": 4,
 "nbformat_minor": 5
}
