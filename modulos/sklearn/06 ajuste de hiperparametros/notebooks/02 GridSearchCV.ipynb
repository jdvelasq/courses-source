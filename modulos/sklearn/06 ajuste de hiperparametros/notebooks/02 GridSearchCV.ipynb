{
 "cells": [
  {
   "cell_type": "markdown",
   "metadata": {},
   "source": [
    "# Búsqueda Exhaustiva de hiperparámetros usando GridSearchCV"
   ]
  },
  {
   "cell_type": "markdown",
   "metadata": {},
   "source": [
    "En muchos casos, los modelos contienen diferentes hiperparámetros que controlan su configuración y la estimación de los parámetros. Por ejemplo, en el ejemplo del ajuste del polinomio, el grado $n$ es un hiperparámetro. En este tutorial, se presenta como abordar el problema cuando hay más de un hiperparámetro que debe ser ajustado."
   ]
  },
  {
   "cell_type": "markdown",
   "metadata": {},
   "source": [
    "Parametrización de la búsqueda\n",
    "---"
   ]
  },
  {
   "cell_type": "code",
   "execution_count": 1,
   "metadata": {},
   "outputs": [],
   "source": [
    "from sklearn.model_selection import GridSearchCV\n",
    "from sklearn.svm import SVC\n",
    "\n",
    "#\n",
    "# Aca se usara una SVM. Dependiendo del tipo de kernel cambian los parámetros\n",
    "# que pueden ajustarse.\n",
    "#\n",
    "# La variable tuned_parameters es una lista de diccionarios que contiene los\n",
    "# valores que pueden ajustarse.\n",
    "#\n",
    "param_grid = [\n",
    "    # -------------------------------------------------------------------------\n",
    "    # Primera malla de parámetros\n",
    "    {\n",
    "        \"kernel\": [\"rbf\"],\n",
    "        \"gamma\": [1e-3, 1e-4],\n",
    "        \"C\": [1, 10, 100, 1000],\n",
    "    },\n",
    "    # -------------------------------------------------------------------------\n",
    "    # Segunda malla de parámetros\n",
    "    {\n",
    "        \"kernel\": [\"linear\"],\n",
    "        \"C\": [1, 10, 100, 1000],\n",
    "    },\n",
    "]\n",
    "\n",
    "gridSearchCV = GridSearchCV(\n",
    "    # --------------------------------------------------------------------------\n",
    "    # This is assumed to implement the scikit-learn estimator interface.\n",
    "    estimator=SVC(),\n",
    "    # --------------------------------------------------------------------------\n",
    "    # Dictionary with parameters names (str) as keys and lists of parameter\n",
    "    # settings to try as values, or a list of such dictionaries\n",
    "    param_grid=param_grid,\n",
    "    # --------------------------------------------------------------------------\n",
    "    # Determines the cross-validation splitting strategy.\n",
    "    cv=5,\n",
    "    # --------------------------------------------------------------------------\n",
    "    # Strategy to evaluate the performance of the cross-validated model on the\n",
    "    # test set.\n",
    "    scoring=\"accuracy\",\n",
    "    # --------------------------------------------------------------------------\n",
    "    # Refit an estimator using the best found parameters on the whole dataset.\n",
    "    refit=True,\n",
    "    # --------------------------------------------------------------------------\n",
    "    # If False, the cv_results_ attribute will not include training scores.\n",
    "    return_train_score=False,\n",
    ")"
   ]
  },
  {
   "cell_type": "markdown",
   "metadata": {},
   "source": [
    "Principales métricas disponibles para el scoring\n",
    "---"
   ]
  },
  {
   "cell_type": "markdown",
   "metadata": {},
   "source": [
    "Se encuentran disponibles en:\n",
    "\n",
    "https://scikit-learn.org/stable/modules/model_evaluation.html#scoring-parameter"
   ]
  },
  {
   "cell_type": "markdown",
   "metadata": {},
   "source": [
    "* Clasificación:\n",
    "  \n",
    "  *   'accuracy'\n",
    "   \n",
    "  *   'balanced_accuracy'"
   ]
  },
  {
   "cell_type": "markdown",
   "metadata": {},
   "source": [
    "* Regresión:\n",
    "\n",
    "  *    'neg_mean_absolute_error'\n",
    "  \n",
    "  *    'neg_mean_squared_error'\n",
    "  \n",
    "  *    'neg_root_mean_squared_error'\n",
    "  \n",
    "  *    'r2'"
   ]
  },
  {
   "cell_type": "markdown",
   "metadata": {},
   "source": [
    "Preparación de los datos\n",
    "---"
   ]
  },
  {
   "cell_type": "code",
   "execution_count": 2,
   "metadata": {},
   "outputs": [],
   "source": [
    "from sklearn.datasets import load_digits\n",
    "from sklearn.model_selection import train_test_split\n",
    "\n",
    "digits = load_digits()\n",
    "\n",
    "n_samples = len(digits.images)\n",
    "X = digits.images.reshape((n_samples, -1))\n",
    "y = digits.target\n",
    "\n",
    "X_train, X_test, y_train, y_test = train_test_split(\n",
    "    X,\n",
    "    y,\n",
    "    test_size=0.5,\n",
    "    random_state=0,\n",
    ")"
   ]
  },
  {
   "cell_type": "markdown",
   "metadata": {},
   "source": [
    "Realización de la búsqueda\n",
    "---"
   ]
  },
  {
   "cell_type": "code",
   "execution_count": 3,
   "metadata": {},
   "outputs": [
    {
     "data": {
      "text/html": [
       "<style>#sk-container-id-1 {color: black;background-color: white;}#sk-container-id-1 pre{padding: 0;}#sk-container-id-1 div.sk-toggleable {background-color: white;}#sk-container-id-1 label.sk-toggleable__label {cursor: pointer;display: block;width: 100%;margin-bottom: 0;padding: 0.3em;box-sizing: border-box;text-align: center;}#sk-container-id-1 label.sk-toggleable__label-arrow:before {content: \"▸\";float: left;margin-right: 0.25em;color: #696969;}#sk-container-id-1 label.sk-toggleable__label-arrow:hover:before {color: black;}#sk-container-id-1 div.sk-estimator:hover label.sk-toggleable__label-arrow:before {color: black;}#sk-container-id-1 div.sk-toggleable__content {max-height: 0;max-width: 0;overflow: hidden;text-align: left;background-color: #f0f8ff;}#sk-container-id-1 div.sk-toggleable__content pre {margin: 0.2em;color: black;border-radius: 0.25em;background-color: #f0f8ff;}#sk-container-id-1 input.sk-toggleable__control:checked~div.sk-toggleable__content {max-height: 200px;max-width: 100%;overflow: auto;}#sk-container-id-1 input.sk-toggleable__control:checked~label.sk-toggleable__label-arrow:before {content: \"▾\";}#sk-container-id-1 div.sk-estimator input.sk-toggleable__control:checked~label.sk-toggleable__label {background-color: #d4ebff;}#sk-container-id-1 div.sk-label input.sk-toggleable__control:checked~label.sk-toggleable__label {background-color: #d4ebff;}#sk-container-id-1 input.sk-hidden--visually {border: 0;clip: rect(1px 1px 1px 1px);clip: rect(1px, 1px, 1px, 1px);height: 1px;margin: -1px;overflow: hidden;padding: 0;position: absolute;width: 1px;}#sk-container-id-1 div.sk-estimator {font-family: monospace;background-color: #f0f8ff;border: 1px dotted black;border-radius: 0.25em;box-sizing: border-box;margin-bottom: 0.5em;}#sk-container-id-1 div.sk-estimator:hover {background-color: #d4ebff;}#sk-container-id-1 div.sk-parallel-item::after {content: \"\";width: 100%;border-bottom: 1px solid gray;flex-grow: 1;}#sk-container-id-1 div.sk-label:hover label.sk-toggleable__label {background-color: #d4ebff;}#sk-container-id-1 div.sk-serial::before {content: \"\";position: absolute;border-left: 1px solid gray;box-sizing: border-box;top: 0;bottom: 0;left: 50%;z-index: 0;}#sk-container-id-1 div.sk-serial {display: flex;flex-direction: column;align-items: center;background-color: white;padding-right: 0.2em;padding-left: 0.2em;position: relative;}#sk-container-id-1 div.sk-item {position: relative;z-index: 1;}#sk-container-id-1 div.sk-parallel {display: flex;align-items: stretch;justify-content: center;background-color: white;position: relative;}#sk-container-id-1 div.sk-item::before, #sk-container-id-1 div.sk-parallel-item::before {content: \"\";position: absolute;border-left: 1px solid gray;box-sizing: border-box;top: 0;bottom: 0;left: 50%;z-index: -1;}#sk-container-id-1 div.sk-parallel-item {display: flex;flex-direction: column;z-index: 1;position: relative;background-color: white;}#sk-container-id-1 div.sk-parallel-item:first-child::after {align-self: flex-end;width: 50%;}#sk-container-id-1 div.sk-parallel-item:last-child::after {align-self: flex-start;width: 50%;}#sk-container-id-1 div.sk-parallel-item:only-child::after {width: 0;}#sk-container-id-1 div.sk-dashed-wrapped {border: 1px dashed gray;margin: 0 0.4em 0.5em 0.4em;box-sizing: border-box;padding-bottom: 0.4em;background-color: white;}#sk-container-id-1 div.sk-label label {font-family: monospace;font-weight: bold;display: inline-block;line-height: 1.2em;}#sk-container-id-1 div.sk-label-container {text-align: center;}#sk-container-id-1 div.sk-container {/* jupyter's `normalize.less` sets `[hidden] { display: none; }` but bootstrap.min.css set `[hidden] { display: none !important; }` so we also need the `!important` here to be able to override the default hidden behavior on the sphinx rendered scikit-learn.org. See: https://github.com/scikit-learn/scikit-learn/issues/21755 */display: inline-block !important;position: relative;}#sk-container-id-1 div.sk-text-repr-fallback {display: none;}</style><div id=\"sk-container-id-1\" class=\"sk-top-container\"><div class=\"sk-text-repr-fallback\"><pre>GridSearchCV(cv=5, estimator=SVC(),\n",
       "             param_grid=[{&#x27;C&#x27;: [1, 10, 100, 1000], &#x27;gamma&#x27;: [0.001, 0.0001],\n",
       "                          &#x27;kernel&#x27;: [&#x27;rbf&#x27;]},\n",
       "                         {&#x27;C&#x27;: [1, 10, 100, 1000], &#x27;kernel&#x27;: [&#x27;linear&#x27;]}],\n",
       "             scoring=&#x27;accuracy&#x27;)</pre><b>In a Jupyter environment, please rerun this cell to show the HTML representation or trust the notebook. <br />On GitHub, the HTML representation is unable to render, please try loading this page with nbviewer.org.</b></div><div class=\"sk-container\" hidden><div class=\"sk-item sk-dashed-wrapped\"><div class=\"sk-label-container\"><div class=\"sk-label sk-toggleable\"><input class=\"sk-toggleable__control sk-hidden--visually\" id=\"sk-estimator-id-1\" type=\"checkbox\" ><label for=\"sk-estimator-id-1\" class=\"sk-toggleable__label sk-toggleable__label-arrow\">GridSearchCV</label><div class=\"sk-toggleable__content\"><pre>GridSearchCV(cv=5, estimator=SVC(),\n",
       "             param_grid=[{&#x27;C&#x27;: [1, 10, 100, 1000], &#x27;gamma&#x27;: [0.001, 0.0001],\n",
       "                          &#x27;kernel&#x27;: [&#x27;rbf&#x27;]},\n",
       "                         {&#x27;C&#x27;: [1, 10, 100, 1000], &#x27;kernel&#x27;: [&#x27;linear&#x27;]}],\n",
       "             scoring=&#x27;accuracy&#x27;)</pre></div></div></div><div class=\"sk-parallel\"><div class=\"sk-parallel-item\"><div class=\"sk-item\"><div class=\"sk-label-container\"><div class=\"sk-label sk-toggleable\"><input class=\"sk-toggleable__control sk-hidden--visually\" id=\"sk-estimator-id-2\" type=\"checkbox\" ><label for=\"sk-estimator-id-2\" class=\"sk-toggleable__label sk-toggleable__label-arrow\">estimator: SVC</label><div class=\"sk-toggleable__content\"><pre>SVC()</pre></div></div></div><div class=\"sk-serial\"><div class=\"sk-item\"><div class=\"sk-estimator sk-toggleable\"><input class=\"sk-toggleable__control sk-hidden--visually\" id=\"sk-estimator-id-3\" type=\"checkbox\" ><label for=\"sk-estimator-id-3\" class=\"sk-toggleable__label sk-toggleable__label-arrow\">SVC</label><div class=\"sk-toggleable__content\"><pre>SVC()</pre></div></div></div></div></div></div></div></div></div></div>"
      ],
      "text/plain": [
       "GridSearchCV(cv=5, estimator=SVC(),\n",
       "             param_grid=[{'C': [1, 10, 100, 1000], 'gamma': [0.001, 0.0001],\n",
       "                          'kernel': ['rbf']},\n",
       "                         {'C': [1, 10, 100, 1000], 'kernel': ['linear']}],\n",
       "             scoring='accuracy')"
      ]
     },
     "execution_count": 3,
     "metadata": {},
     "output_type": "execute_result"
    }
   ],
   "source": [
    "gridSearchCV.fit(X_train, y_train)"
   ]
  },
  {
   "cell_type": "markdown",
   "metadata": {
    "tags": []
   },
   "source": [
    "Valores retornados\n",
    "---"
   ]
  },
  {
   "cell_type": "code",
   "execution_count": 4,
   "metadata": {
    "tags": []
   },
   "outputs": [
    {
     "data": {
      "text/plain": [
       "{'mean_fit_time': array([0.01856437, 0.01342072, 0.01756868, 0.00850973, 0.01629653,\n",
       "        0.00868969, 0.01653719, 0.00836463, 0.00683012, 0.00677333,\n",
       "        0.00679779, 0.00681438]),\n",
       " 'std_fit_time': array([2.89455612e-03, 3.50194241e-04, 1.72907452e-03, 6.64449268e-05,\n",
       "        1.29181919e-04, 6.61261387e-04, 8.92717381e-04, 1.37359679e-04,\n",
       "        1.62231088e-04, 1.20423768e-04, 1.60550795e-04, 1.62279714e-04]),\n",
       " 'mean_score_time': array([0.00502486, 0.00571933, 0.00491943, 0.00344534, 0.00470152,\n",
       "        0.00343714, 0.00461111, 0.00336585, 0.00163321, 0.00157847,\n",
       "        0.0015861 , 0.00159302]),\n",
       " 'std_score_time': array([5.80807515e-04, 1.87975631e-04, 3.26420638e-04, 2.64588341e-05,\n",
       "        2.11185229e-04, 1.61336117e-04, 7.61566715e-05, 6.71735789e-05,\n",
       "        5.87190450e-05, 2.21226748e-05, 4.56135557e-05, 6.10881441e-05]),\n",
       " 'param_C': masked_array(data=[1, 1, 10, 10, 100, 100, 1000, 1000, 1, 10, 100, 1000],\n",
       "              mask=[False, False, False, False, False, False, False, False,\n",
       "                    False, False, False, False],\n",
       "        fill_value='?',\n",
       "             dtype=object),\n",
       " 'param_gamma': masked_array(data=[0.001, 0.0001, 0.001, 0.0001, 0.001, 0.0001, 0.001,\n",
       "                    0.0001, --, --, --, --],\n",
       "              mask=[False, False, False, False, False, False, False, False,\n",
       "                     True,  True,  True,  True],\n",
       "        fill_value='?',\n",
       "             dtype=object),\n",
       " 'param_kernel': masked_array(data=['rbf', 'rbf', 'rbf', 'rbf', 'rbf', 'rbf', 'rbf', 'rbf',\n",
       "                    'linear', 'linear', 'linear', 'linear'],\n",
       "              mask=[False, False, False, False, False, False, False, False,\n",
       "                    False, False, False, False],\n",
       "        fill_value='?',\n",
       "             dtype=object),\n",
       " 'params': [{'C': 1, 'gamma': 0.001, 'kernel': 'rbf'},\n",
       "  {'C': 1, 'gamma': 0.0001, 'kernel': 'rbf'},\n",
       "  {'C': 10, 'gamma': 0.001, 'kernel': 'rbf'},\n",
       "  {'C': 10, 'gamma': 0.0001, 'kernel': 'rbf'},\n",
       "  {'C': 100, 'gamma': 0.001, 'kernel': 'rbf'},\n",
       "  {'C': 100, 'gamma': 0.0001, 'kernel': 'rbf'},\n",
       "  {'C': 1000, 'gamma': 0.001, 'kernel': 'rbf'},\n",
       "  {'C': 1000, 'gamma': 0.0001, 'kernel': 'rbf'},\n",
       "  {'C': 1, 'kernel': 'linear'},\n",
       "  {'C': 10, 'kernel': 'linear'},\n",
       "  {'C': 100, 'kernel': 'linear'},\n",
       "  {'C': 1000, 'kernel': 'linear'}],\n",
       " 'split0_test_score': array([0.99444444, 0.97777778, 0.99444444, 0.99444444, 0.99444444,\n",
       "        0.98888889, 0.99444444, 0.98888889, 0.97222222, 0.97222222,\n",
       "        0.97222222, 0.97222222]),\n",
       " 'split1_test_score': array([0.98888889, 0.96111111, 0.98888889, 0.97777778, 0.98888889,\n",
       "        0.98333333, 0.98888889, 0.98333333, 0.97777778, 0.97777778,\n",
       "        0.97777778, 0.97777778]),\n",
       " 'split2_test_score': array([0.96666667, 0.94444444, 0.96666667, 0.96111111, 0.96666667,\n",
       "        0.95555556, 0.96666667, 0.95555556, 0.96111111, 0.96111111,\n",
       "        0.96111111, 0.96111111]),\n",
       " 'split3_test_score': array([0.98324022, 0.93854749, 0.98882682, 0.97206704, 0.98882682,\n",
       "        0.98882682, 0.98882682, 0.98882682, 0.97206704, 0.97206704,\n",
       "        0.97206704, 0.97206704]),\n",
       " 'split4_test_score': array([0.99441341, 0.96648045, 0.99441341, 1.        , 0.99441341,\n",
       "        0.99441341, 0.99441341, 0.99441341, 0.97765363, 0.97765363,\n",
       "        0.97765363, 0.97765363]),\n",
       " 'mean_test_score': array([0.98553073, 0.95767225, 0.98664804, 0.98108007, 0.98664804,\n",
       "        0.9822036 , 0.98664804, 0.9822036 , 0.97216636, 0.97216636,\n",
       "        0.97216636, 0.97216636]),\n",
       " 'std_test_score': array([0.01030275, 0.01438314, 0.01029668, 0.01433506, 0.01029668,\n",
       "        0.01377704, 0.01029668, 0.01377704, 0.00606349, 0.00606349,\n",
       "        0.00606349, 0.00606349]),\n",
       " 'rank_test_score': array([ 4, 12,  1,  7,  1,  5,  1,  5,  8,  8,  8,  8], dtype=int32)}"
      ]
     },
     "execution_count": 4,
     "metadata": {},
     "output_type": "execute_result"
    }
   ],
   "source": [
    "gridSearchCV.cv_results_"
   ]
  },
  {
   "cell_type": "code",
   "execution_count": 5,
   "metadata": {},
   "outputs": [
    {
     "data": {
      "text/html": [
       "<style>#sk-container-id-2 {color: black;background-color: white;}#sk-container-id-2 pre{padding: 0;}#sk-container-id-2 div.sk-toggleable {background-color: white;}#sk-container-id-2 label.sk-toggleable__label {cursor: pointer;display: block;width: 100%;margin-bottom: 0;padding: 0.3em;box-sizing: border-box;text-align: center;}#sk-container-id-2 label.sk-toggleable__label-arrow:before {content: \"▸\";float: left;margin-right: 0.25em;color: #696969;}#sk-container-id-2 label.sk-toggleable__label-arrow:hover:before {color: black;}#sk-container-id-2 div.sk-estimator:hover label.sk-toggleable__label-arrow:before {color: black;}#sk-container-id-2 div.sk-toggleable__content {max-height: 0;max-width: 0;overflow: hidden;text-align: left;background-color: #f0f8ff;}#sk-container-id-2 div.sk-toggleable__content pre {margin: 0.2em;color: black;border-radius: 0.25em;background-color: #f0f8ff;}#sk-container-id-2 input.sk-toggleable__control:checked~div.sk-toggleable__content {max-height: 200px;max-width: 100%;overflow: auto;}#sk-container-id-2 input.sk-toggleable__control:checked~label.sk-toggleable__label-arrow:before {content: \"▾\";}#sk-container-id-2 div.sk-estimator input.sk-toggleable__control:checked~label.sk-toggleable__label {background-color: #d4ebff;}#sk-container-id-2 div.sk-label input.sk-toggleable__control:checked~label.sk-toggleable__label {background-color: #d4ebff;}#sk-container-id-2 input.sk-hidden--visually {border: 0;clip: rect(1px 1px 1px 1px);clip: rect(1px, 1px, 1px, 1px);height: 1px;margin: -1px;overflow: hidden;padding: 0;position: absolute;width: 1px;}#sk-container-id-2 div.sk-estimator {font-family: monospace;background-color: #f0f8ff;border: 1px dotted black;border-radius: 0.25em;box-sizing: border-box;margin-bottom: 0.5em;}#sk-container-id-2 div.sk-estimator:hover {background-color: #d4ebff;}#sk-container-id-2 div.sk-parallel-item::after {content: \"\";width: 100%;border-bottom: 1px solid gray;flex-grow: 1;}#sk-container-id-2 div.sk-label:hover label.sk-toggleable__label {background-color: #d4ebff;}#sk-container-id-2 div.sk-serial::before {content: \"\";position: absolute;border-left: 1px solid gray;box-sizing: border-box;top: 0;bottom: 0;left: 50%;z-index: 0;}#sk-container-id-2 div.sk-serial {display: flex;flex-direction: column;align-items: center;background-color: white;padding-right: 0.2em;padding-left: 0.2em;position: relative;}#sk-container-id-2 div.sk-item {position: relative;z-index: 1;}#sk-container-id-2 div.sk-parallel {display: flex;align-items: stretch;justify-content: center;background-color: white;position: relative;}#sk-container-id-2 div.sk-item::before, #sk-container-id-2 div.sk-parallel-item::before {content: \"\";position: absolute;border-left: 1px solid gray;box-sizing: border-box;top: 0;bottom: 0;left: 50%;z-index: -1;}#sk-container-id-2 div.sk-parallel-item {display: flex;flex-direction: column;z-index: 1;position: relative;background-color: white;}#sk-container-id-2 div.sk-parallel-item:first-child::after {align-self: flex-end;width: 50%;}#sk-container-id-2 div.sk-parallel-item:last-child::after {align-self: flex-start;width: 50%;}#sk-container-id-2 div.sk-parallel-item:only-child::after {width: 0;}#sk-container-id-2 div.sk-dashed-wrapped {border: 1px dashed gray;margin: 0 0.4em 0.5em 0.4em;box-sizing: border-box;padding-bottom: 0.4em;background-color: white;}#sk-container-id-2 div.sk-label label {font-family: monospace;font-weight: bold;display: inline-block;line-height: 1.2em;}#sk-container-id-2 div.sk-label-container {text-align: center;}#sk-container-id-2 div.sk-container {/* jupyter's `normalize.less` sets `[hidden] { display: none; }` but bootstrap.min.css set `[hidden] { display: none !important; }` so we also need the `!important` here to be able to override the default hidden behavior on the sphinx rendered scikit-learn.org. See: https://github.com/scikit-learn/scikit-learn/issues/21755 */display: inline-block !important;position: relative;}#sk-container-id-2 div.sk-text-repr-fallback {display: none;}</style><div id=\"sk-container-id-2\" class=\"sk-top-container\"><div class=\"sk-text-repr-fallback\"><pre>SVC(C=10, gamma=0.001)</pre><b>In a Jupyter environment, please rerun this cell to show the HTML representation or trust the notebook. <br />On GitHub, the HTML representation is unable to render, please try loading this page with nbviewer.org.</b></div><div class=\"sk-container\" hidden><div class=\"sk-item\"><div class=\"sk-estimator sk-toggleable\"><input class=\"sk-toggleable__control sk-hidden--visually\" id=\"sk-estimator-id-4\" type=\"checkbox\" checked><label for=\"sk-estimator-id-4\" class=\"sk-toggleable__label sk-toggleable__label-arrow\">SVC</label><div class=\"sk-toggleable__content\"><pre>SVC(C=10, gamma=0.001)</pre></div></div></div></div></div>"
      ],
      "text/plain": [
       "SVC(C=10, gamma=0.001)"
      ]
     },
     "execution_count": 5,
     "metadata": {},
     "output_type": "execute_result"
    }
   ],
   "source": [
    "#\n",
    "# Estimator that was chosen by the search, i.e. estimator which gave highest\n",
    "# score (or smallest loss if specified) on the left out data.\n",
    "#\n",
    "gridSearchCV.best_estimator_"
   ]
  },
  {
   "cell_type": "code",
   "execution_count": 6,
   "metadata": {},
   "outputs": [
    {
     "data": {
      "text/plain": [
       "0.9866480446927375"
      ]
     },
     "execution_count": 6,
     "metadata": {},
     "output_type": "execute_result"
    }
   ],
   "source": [
    "gridSearchCV.best_score_"
   ]
  },
  {
   "cell_type": "code",
   "execution_count": 7,
   "metadata": {},
   "outputs": [
    {
     "data": {
      "text/plain": [
       "{'C': 10, 'gamma': 0.001, 'kernel': 'rbf'}"
      ]
     },
     "execution_count": 7,
     "metadata": {},
     "output_type": "execute_result"
    }
   ],
   "source": [
    "gridSearchCV.best_params_"
   ]
  },
  {
   "cell_type": "markdown",
   "metadata": {},
   "source": [
    "Pronóstico con el mejor modelo\n",
    "---"
   ]
  },
  {
   "cell_type": "code",
   "execution_count": 8,
   "metadata": {},
   "outputs": [
    {
     "data": {
      "text/plain": [
       "array([1, 4, 9, 0, 4, 1, 1, 5, 9, 1, 4, 2, 6, 3, 9, 7, 6, 4, 8, 6, 8, 7,\n",
       "       6, 0, 5, 9, 4, 7, 3, 4, 9, 4, 9, 7, 9, 1, 5, 6, 0, 0, 4, 3, 6, 1,\n",
       "       0, 9, 4, 8, 7, 5, 9, 8, 4, 5, 0, 1, 6, 0, 5, 5, 0, 4, 3, 2, 8, 7,\n",
       "       6, 3, 4, 2, 5, 8, 0, 6, 9, 4, 5, 4, 9, 7, 3, 3, 1, 4, 4, 2, 6, 8,\n",
       "       1, 1, 0, 3, 7, 4, 6, 7, 4, 0, 5, 2, 9, 2, 1, 9, 2, 3, 1, 7, 7, 4,\n",
       "       5, 6, 5, 6, 7, 8, 1, 4, 3, 4, 4, 3, 5, 3, 3, 4, 7, 9, 8, 0, 6, 1,\n",
       "       9, 0, 8, 4, 1, 2, 3, 9, 7, 8, 8, 8, 3, 7, 5, 7, 0, 1, 7, 8, 3, 8,\n",
       "       0, 4, 8, 6, 2, 3, 6, 7, 3, 7, 7, 1, 3, 5, 0, 9, 8, 5, 3, 1, 2, 0,\n",
       "       3, 6, 0, 3, 4, 1, 2, 3, 1, 0, 5, 8, 9, 3, 9, 6, 6, 8, 9, 0, 7, 8,\n",
       "       2, 0, 0, 7, 7, 4, 5, 3, 1, 8, 5, 9, 6, 2, 9, 7, 7, 9, 5, 4, 2, 6,\n",
       "       6, 1, 3, 4, 7, 2, 8, 0, 6, 1, 6, 6, 5, 8, 4, 3, 0, 5, 2, 9, 9, 7,\n",
       "       8, 0, 5, 0, 6, 3, 3, 5, 1, 5, 1, 7, 9, 6, 4, 5, 0, 1, 8, 7, 8, 8,\n",
       "       8, 9, 8, 7, 7, 2, 2, 2, 8, 0, 7, 8, 6, 8, 0, 4, 2, 2, 3, 7, 9, 0,\n",
       "       2, 0, 0, 2, 7, 1, 5, 6, 4, 0, 0, 5, 5, 3, 9, 6, 1, 6, 0, 6, 4, 0,\n",
       "       1, 8, 2, 2, 3, 7, 6, 1, 1, 2, 4, 7, 4, 9, 4, 3, 0, 4, 3, 1, 3, 0,\n",
       "       9, 4, 6, 0, 3, 2, 6, 2, 5, 6, 7, 8, 8, 4, 4, 6, 9, 4, 5, 4, 5, 7,\n",
       "       1, 9, 6, 8, 0, 4, 1, 9, 9, 7, 1, 8, 5, 0, 8, 7, 7, 2, 1, 3, 7, 4,\n",
       "       0, 6, 3, 1, 2, 9, 9, 2, 5, 7, 3, 0, 6, 1, 6, 1, 1, 2, 5, 5, 3, 2,\n",
       "       8, 5, 0, 9, 6, 9, 8, 4, 5, 8, 1, 6, 3, 0, 4, 6, 1, 8, 3, 4, 7, 1,\n",
       "       0, 7, 9, 2, 7, 2, 1, 6, 9, 3, 1, 3, 2, 4, 3, 4, 3, 3, 5, 4, 7, 3,\n",
       "       6, 7, 0, 0, 1, 1, 0, 2, 0, 7, 7, 4, 7, 2, 0, 1, 2, 4, 8, 1, 6, 0,\n",
       "       3, 4, 0, 6, 8, 4, 4, 9, 0, 8, 4, 6, 8, 7, 8, 2, 8, 1, 6, 6, 9, 5,\n",
       "       3, 8, 5, 1, 3, 3, 1, 8, 8, 3, 0, 4, 1, 7, 2, 7, 4, 0, 4, 2, 7, 7,\n",
       "       9, 1, 9, 0, 9, 3, 8, 6, 2, 5, 3, 3, 7, 2, 1, 0, 8, 7, 7, 3, 1, 2,\n",
       "       4, 5, 7, 7, 9, 1, 5, 5, 2, 8, 7, 9, 4, 7, 0, 2, 6, 1, 3, 1, 3, 7,\n",
       "       3, 6, 7, 1, 6, 6, 1, 0, 6, 9, 7, 7, 4, 4, 9, 1, 5, 1, 1, 7, 2, 6,\n",
       "       6, 4, 3, 1, 0, 5, 3, 9, 5, 8, 1, 7, 9, 9, 8, 2, 1, 0, 6, 6, 4, 4,\n",
       "       7, 8, 6, 5, 8, 8, 2, 2, 2, 9, 8, 8, 3, 6, 0, 4, 4, 7, 6, 6, 9, 0,\n",
       "       4, 6, 8, 5, 1, 9, 9, 3, 1, 6, 5, 9, 7, 3, 4, 4, 2, 4, 4, 9, 2, 9,\n",
       "       9, 7, 2, 3, 3, 3, 7, 2, 7, 8, 1, 0, 5, 6, 6, 8, 0, 7, 0, 4, 2, 6,\n",
       "       6, 8, 6, 4, 7, 7, 0, 3, 0, 7, 4, 0, 0, 2, 1, 8, 4, 2, 2, 9, 9, 3,\n",
       "       3, 4, 4, 2, 6, 3, 7, 2, 8, 4, 2, 9, 5, 1, 9, 0, 9, 7, 2, 6, 2, 1,\n",
       "       6, 9, 9, 3, 8, 3, 6, 2, 2, 4, 9, 3, 4, 6, 8, 6, 1, 7, 4, 1, 4, 7,\n",
       "       0, 1, 5, 6, 2, 7, 8, 4, 9, 0, 9, 0, 5, 2, 2, 4, 1, 8, 8, 7, 2, 9,\n",
       "       7, 0, 0, 6, 0, 5, 0, 5, 1, 0, 8, 6, 6, 0, 3, 4, 0, 3, 5, 6, 9, 8,\n",
       "       4, 8, 5, 2, 7, 5, 5, 1, 1, 8, 9, 0, 3, 4, 9, 2, 9, 3, 1, 7, 5, 4,\n",
       "       9, 5, 7, 7, 7, 0, 1, 9, 1, 9, 7, 1, 3, 9, 4, 9, 2, 5, 3, 5, 6, 2,\n",
       "       3, 0, 7, 3, 2, 5, 2, 6, 1, 7, 0, 2, 9, 4, 2, 0, 7, 4, 4, 9, 0, 4,\n",
       "       9, 6, 8, 2, 6, 4, 4, 9, 1, 2, 4, 7, 8, 8, 2, 2, 5, 9, 5, 4, 3, 1,\n",
       "       4, 7, 1, 5, 3, 8, 6, 5, 5, 2, 1, 0, 9, 1, 6, 9, 3, 7, 4, 5, 6, 3,\n",
       "       6, 5, 2, 7, 6, 3, 4, 1, 1, 4, 8, 4, 5, 3, 3, 7, 7, 8])"
      ]
     },
     "execution_count": 8,
     "metadata": {},
     "output_type": "execute_result"
    }
   ],
   "source": [
    "gridSearchCV.predict(X_train)"
   ]
  }
 ],
 "metadata": {
  "kernel_info": {
   "name": "python3"
  },
  "kernelspec": {
   "display_name": "Python 3 (ipykernel)",
   "language": "python",
   "name": "python3"
  },
  "language_info": {
   "codemirror_mode": {
    "name": "ipython",
    "version": 3
   },
   "file_extension": ".py",
   "mimetype": "text/x-python",
   "name": "python",
   "nbconvert_exporter": "python",
   "pygments_lexer": "ipython3",
   "version": "3.8.10"
  },
  "nteract": {
   "version": "0.7.1"
  }
 },
 "nbformat": 4,
 "nbformat_minor": 4
}
