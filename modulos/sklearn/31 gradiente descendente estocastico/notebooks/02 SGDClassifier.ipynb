{
 "cells": [
  {
   "attachments": {},
   "cell_type": "markdown",
   "metadata": {},
   "source": [
    "Gradiente Descendente Estocástico para Clasificación\n",
    "====\n",
    "\n",
    "* Ultima modificación: 2023-03-11 | [YouTube](https://www.youtube.com/watch?v=l2iJAORWxHQ&list=PLEFpZ3YehTnCE1KFgZ4Ru1P9MMLElppNw&index=2)"
   ]
  },
  {
   "cell_type": "markdown",
   "metadata": {},
   "source": [
    "* En un modelo de regresión, la variable dependiente $y$ es una función lineal de las variables independientes $x_i$, tal que:\n",
    "$$\n",
    "f(x)= b + w^T x\n",
    "$$\n",
    "donde: \n",
    "\n",
    "    * $x$ es un patrón o ejemplo del dataset.\n",
    "\n",
    "    * $b$ es el intercepto del modelo.\n",
    "\n",
    "    * $w$ son los coeficientes de las variales independientes.\n"
   ]
  },
  {
   "cell_type": "markdown",
   "metadata": {},
   "source": [
    "* Para el caso de clasificación, se asume que el dataset esta formado por los ejemplos $(x_1, y_1), \\cdots, (x_n, y_n)$, donde cada $x_i$ es un vector $m$ dimensional y $y \\in \\{-1, +1 \\}$."
   ]
  },
  {
   "cell_type": "markdown",
   "metadata": {},
   "source": [
    "* Para determinar la clase, se aplica la función $\\text{sign}(u)$ con $u = b + w^T x$."
   ]
  },
  {
   "cell_type": "markdown",
   "metadata": {},
   "source": [
    "* La estimación de parámetros se realiza utilizando el algoritmo de gradiente descendente estocástico, actualizando los parámetros del modelo a medida que va recorriendo los ejemplos (patrón de entrenamiento)."
   ]
  },
  {
   "cell_type": "markdown",
   "metadata": {},
   "source": [
    "$$\n",
    "w \\leftarrow w - \\eta \n",
    "\\left[\n",
    "\\alpha \\frac{\\partial R(w)}{\\partial w} +\n",
    "\\frac{\\partial L(w^Tx_i + b_i, y_i)}{\\partial w}\n",
    "\\right]\n",
    "$$\n",
    "\n"
   ]
  },
  {
   "cell_type": "markdown",
   "metadata": {},
   "source": [
    "* Función de pérdida L():\n",
    "\n",
    "    * `hinge`: \n",
    "\n",
    "    $$\n",
    "    L\\left(y, f(x_i) \\right) = \n",
    "    \\max (0, 1 -  y_i f(x_i))\n",
    "    $$ \n",
    "\n",
    "    * `squared hinge`: \n",
    "\n",
    "    $$\n",
    "    L\\left(y, f(x_i) \\right) = \n",
    "    [\\max (0, 1 -  y_i f(x_i)]^2\n",
    "    $$ \n",
    "    \n",
    "    * `perceptron`: \n",
    "\n",
    "    $$\n",
    "    L\\left(y, f(x_i) \\right) = \n",
    "    \\max (0, -y_i f(x_i))\n",
    "    $$     \n",
    "    \n",
    "    * `modified_huber`: \n",
    "\n",
    "    $$L\\left(y, f(x_i) \\right) = \n",
    "    \\begin{cases}\n",
    "    \\max(0, 1 - y_i f(x_i))^2 & \\text{Si } y_i f(x_i) \\gt 1 \\\\\n",
    "    \\\\\n",
    "    -4 y_i f(x_i) & \\text{en cualquier otro caso}\n",
    "    \\end{cases}\n",
    "    $$ \n",
    "    \n",
    "    * `log`: logistica\n",
    "\n",
    "    $$\n",
    "    L\\left(y, f(x_i) \\right) = \n",
    "    \\log \\left(1 + \\exp(- y f(x_i)) \\right)\n",
    "    $$\n",
    "    \n",
    "    * Least-squares:\n",
    "\n",
    "    $$\n",
    "    L\\left(y, f(x_i) \\right) = \n",
    "    \\frac{1}{2} [y_i - f(x_i)]^2\n",
    "    $$\n",
    "    \n",
    "    * `huber`: \n",
    "    \n",
    "    $$\n",
    "    L(d, y)=\n",
    "      \\begin{cases}\n",
    "          \\frac{1}{2}[d - y]^2 & \\text{Si } |d-y| \\le \\epsilon \\\\\n",
    "          \\\\\n",
    "          \\epsilon |d-y|-\\frac{1}{2}\\epsilon^2 & \\text{en cualquier otro caso}\n",
    "          \\end{cases}\n",
    "    $$     \n",
    "    \n",
    "    * Cualquiera de las funciones usadas con `SGDRegressor`."
   ]
  },
  {
   "cell_type": "markdown",
   "metadata": {},
   "source": [
    "* $R(w)$ es el término de regularización, el cual puede ser especificado como:\n",
    "\n",
    "    * L2:\n",
    "\n",
    "    $$\n",
    "    R(w) = \\frac{1}{2} \\sum_j w_j^2\n",
    "    $$\n",
    "\n",
    "    * L1:\n",
    "\n",
    "    $$\n",
    "    R(w) = \\frac{1}{2} \\sum_j |w_j|\n",
    "    $$\n",
    "\n",
    "    * ElasticNet:\n",
    "\n",
    "    $$\n",
    "    R(w) = \\frac{\\rho}{2}  \\sum_j w_j^2 + (1 - \\rho)  \\sum_j |w_j|\n",
    "    $$\n"
   ]
  },
  {
   "cell_type": "code",
   "execution_count": 1,
   "metadata": {},
   "outputs": [
    {
     "data": {
      "image/png": "[encoded data removed]",
      "text/plain": [
       "<Figure size 350x350 with 1 Axes>"
      ]
     },
     "metadata": {},
     "output_type": "display_data"
    }
   ],
   "source": [
    "import matplotlib.pyplot as plt\n",
    "from sklearn.datasets import make_blobs\n",
    "\n",
    "NPOINTS = 150\n",
    "\n",
    "X, y = make_blobs(\n",
    "    n_samples=NPOINTS,\n",
    "    n_features=2,\n",
    "    centers=3,\n",
    "    cluster_std=0.8,\n",
    "    shuffle=False,\n",
    "    random_state=12345,\n",
    ")\n",
    "\n",
    "\n",
    "def plot_scatter():\n",
    "    plt.scatter(X[:50, 0], X[:50, 1], color=\"tab:red\", edgecolors=\"k\", s=120)\n",
    "    plt.scatter(X[50:100, 0], X[50:100, 1], color=\"tab:blue\", edgecolors=\"k\", s=120)\n",
    "    plt.scatter(X[100:, 0], X[100:, 1], color=\"tab:green\", edgecolors=\"k\", s=120)\n",
    "    plt.xlabel(\"$x_1$\")\n",
    "    plt.ylabel(\"$x_2$\")\n",
    "    plt.gca().spines[\"left\"].set_color(\"gray\")\n",
    "    plt.gca().spines[\"bottom\"].set_color(\"gray\")\n",
    "    plt.gca().spines[\"top\"].set_visible(False)\n",
    "    plt.gca().spines[\"right\"].set_visible(False)\n",
    "    plt.tight_layout()\n",
    "\n",
    "\n",
    "plt.figure(figsize=(3.5, 3.5))\n",
    "plot_scatter()\n",
    "plt.show()"
   ]
  },
  {
   "cell_type": "code",
   "execution_count": 2,
   "metadata": {},
   "outputs": [
    {
     "data": {
      "text/plain": [
       "array([0, 0, 0, 0, 0, 0, 0, 0, 0, 0, 0, 0, 0, 0, 0, 0, 0, 0, 0, 0, 0, 0,\n",
       "       0, 0, 0, 0, 0, 0, 0, 0, 0, 0, 0, 0, 0, 0, 0, 0, 0, 0, 0, 0, 0, 0,\n",
       "       0, 0, 0, 0, 0, 0, 1, 1, 1, 1, 1, 1, 1, 1, 1, 1, 1, 1, 1, 1, 1, 1,\n",
       "       1, 1, 1, 1, 1, 1, 1, 1, 1, 1, 1, 1, 1, 1, 1, 1, 1, 1, 1, 1, 1, 1,\n",
       "       1, 1, 1, 1, 1, 1, 1, 1, 1, 1, 1, 1, 2, 2, 2, 2, 2, 2, 2, 2, 2, 2,\n",
       "       2, 2, 2, 2, 2, 2, 2, 2, 2, 2, 2, 2, 2, 2, 2, 2, 2, 2, 2, 2, 2, 2,\n",
       "       2, 2, 2, 2, 2, 2, 2, 2, 2, 2, 2, 2, 2, 2, 2, 2, 2, 2])"
      ]
     },
     "execution_count": 2,
     "metadata": {},
     "output_type": "execute_result"
    }
   ],
   "source": [
    "from sklearn.linear_model import SGDClassifier\n",
    "\n",
    "sgdClassifier = SGDClassifier(\n",
    "    # --------------------------------------------------------------------------\n",
    "    # The loss function to be used.\n",
    "    # * ‘hinge’ gives a linear SVM.\n",
    "    # * ‘log_loss’ gives logistic regression, a probabilistic classifier.\n",
    "    # * ‘modified_huber’ is another smooth loss that brings tolerance to \n",
    "    #   outliers as well as probability estimates.\n",
    "    # * ‘squared_hinge’ is like hinge but is quadratically penalized.\n",
    "    # * ‘perceptron’ is the linear loss used by the perceptron algorithm.\n",
    "    # * The other losses, ‘squared_error’, ‘huber’, ‘epsilon_insensitive’\n",
    "    #   and ‘squared_epsilon_insensitive’ are designed for regression but can be\n",
    "    #   useful in classification as well;\n",
    "    loss='hinge',\n",
    "    # --------------------------------------------------------------------------\n",
    "    # The penalty (aka regularization term) to be used. \n",
    "    # * None\n",
    "    # * 'l2'\n",
    "    # * 'l1'\n",
    "    # * 'elasticnet'\n",
    "    penalty='l2',\n",
    "    # --------------------------------------------------------------------------\n",
    "    # Constant that multiplies the regularization term. The higher the value, \n",
    "    # the stronger the regularization. Also used to compute the learning rate \n",
    "    # when set to learning_rate is set to ‘optimal’. Values must be in the \n",
    "    # range [0.0, inf).\n",
    "    alpha=0.0001,\n",
    "    # --------------------------------------------------------------------------\n",
    "    # The Elastic Net mixing parameter, with 0 <= l1_ratio <= 1. l1_ratio=0 \n",
    "    # corresponds to L2 penalty, l1_ratio=1 to L1. Only used if penalty is \n",
    "    # ‘elasticnet’. Values must be in the range [0.0, 1.0].\n",
    "    l1_ratio=0.15,\n",
    "    # --------------------------------------------------------------------------\n",
    "    # Whether to fit the intercept for this model.\n",
    "    fit_intercept=True,\n",
    "    # --------------------------------------------------------------------------\n",
    "    # The maximum number of passes over the training data (aka epochs).\n",
    "    max_iter=1000,\n",
    "    # --------------------------------------------------------------------------\n",
    "    # The stopping criterion.\n",
    "    tol=1e-3,\n",
    "    # --------------------------------------------------------------------------\n",
    "    # Whether or not the training data should be shuffled after each epoch.\n",
    "    shuffle=True,\n",
    "    # --------------------------------------------------------------------------\n",
    "    # * Epsilon in the epsilon-insensitive loss functions; only if loss is \n",
    "    #   ‘huber’, ‘epsilon_insensitive’, or ‘squared_epsilon_insensitive’. \n",
    "    # * For ‘huber’, determines the threshold at which it becomes less important\n",
    "    #   to get the prediction exactly right. \n",
    "    # * For epsilon-insensitive, any differences between the current prediction \n",
    "    #   and the correct label are ignored if they are less than this threshold. \n",
    "    # Values must be in the range [0.0, inf).\n",
    "    epsilon=0.1,\n",
    "    # --------------------------------------------------------------------------\n",
    "    # Used for shuffling the data, when shuffle is set to True.\n",
    "    random_state=None,\n",
    "    # --------------------------------------------------------------------------\n",
    "    # The learning rate schedule:\n",
    "    # * ‘constant’: eta = eta0\n",
    "    # * ‘optimal’: eta = 1.0 / (alpha * (t + t0)) \n",
    "    # * ‘invscaling’: eta = eta0 / pow(t, power_t)\n",
    "    # * ‘adaptive’\n",
    "    learning_rate='optimal',\n",
    "    # --------------------------------------------------------------------------\n",
    "    # The initial learning rate for the ‘constant’, ‘invscaling’ or ‘adaptive’ \n",
    "    # schedules. The default value is 0.0 as eta0 is not used by the default \n",
    "    # schedule ‘optimal’. Values must be in the range (0.0, inf).\n",
    "    eta0=0.0,\n",
    "    # --------------------------------------------------------------------------\n",
    "    # The exponent for inverse scaling learning rate \n",
    "    power_t=0.5,\n",
    "    # --------------------------------------------------------------------------\n",
    "    # Whether to use early stopping to terminate training when validation score\n",
    "    # is not improving.\n",
    "    early_stopping=False,\n",
    "    # --------------------------------------------------------------------------\n",
    "    # The proportion of training data to set aside as validation set for early\n",
    "    # stopping. Must be between 0 and 1. Only used if early_stopping is True.\n",
    "    validation_fraction=0.1,\n",
    "    # --------------------------------------------------------------------------\n",
    "    # Number of iterations with no improvement to wait before stopping fitting.\n",
    "    n_iter_no_change=5,\n",
    "    # ---------------------------------------------------------------------\n",
    "    # Weights associated with classes in the form {class_label: weight}\n",
    "    class_weight=None,\n",
    "    # --------------------------------------------------------------------------\n",
    "    # When set to True, reuse the solution of the previous call to fit as \n",
    "    # initialization, otherwise, just erase the previous solution.\n",
    "    warm_start=False,\n",
    "    # --------------------------------------------------------------------------\n",
    "    # When set to True, computes the averaged SGD weights across all updates \n",
    "    # and stores the result in the coef_ attribute. If set to an int greater \n",
    "    # than 1, averaging will begin once the total number of samples seen \n",
    "    # reaches average. So average=10 will begin averaging after seeing 10 \n",
    "    # samples.\n",
    "    average=False,   \n",
    ")\n",
    "\n",
    "sgdClassifier.fit(X, y)\n",
    "\n",
    "sgdClassifier.predict(X)"
   ]
  },
  {
   "cell_type": "code",
   "execution_count": 3,
   "metadata": {},
   "outputs": [
    {
     "data": {
      "text/plain": [
       "array([[ 24.96547041,  -4.74132087],\n",
       "       [-28.86896993, -31.3886997 ],\n",
       "       [  6.17853975,  43.28232526]])"
      ]
     },
     "execution_count": 3,
     "metadata": {},
     "output_type": "execute_result"
    }
   ],
   "source": [
    "sgdClassifier.coef_"
   ]
  },
  {
   "cell_type": "code",
   "execution_count": 4,
   "metadata": {},
   "outputs": [
    {
     "data": {
      "text/plain": [
       "array([-118.8654999 ,   10.        ,    4.92455655])"
      ]
     },
     "execution_count": 4,
     "metadata": {},
     "output_type": "execute_result"
    }
   ],
   "source": [
    "sgdClassifier.intercept_"
   ]
  },
  {
   "cell_type": "code",
   "execution_count": 5,
   "metadata": {},
   "outputs": [
    {
     "data": {
      "text/plain": [
       "array([[50,  0,  0],\n",
       "       [ 0, 50,  0],\n",
       "       [ 0,  0, 50]])"
      ]
     },
     "execution_count": 5,
     "metadata": {},
     "output_type": "execute_result"
    }
   ],
   "source": [
    "from sklearn.metrics import confusion_matrix\n",
    "\n",
    "y_pred = sgdClassifier.predict(X)\n",
    "\n",
    "confusion_matrix(\n",
    "    y_true=y,\n",
    "    y_pred=y_pred,\n",
    ")"
   ]
  },
  {
   "cell_type": "markdown",
   "metadata": {},
   "source": [
    "* Para graficar las fronteras de decisión, se tiene en cuenta que la frontera entre dos clases se produce en $f(0)$, de tal forma que:\n",
    "$$\n",
    "w_0 + w_1x_1 + w_2x_2 = 0\n",
    "$$\n",
    "Despejando:\n",
    "$$\n",
    "    x_2 = - \\left(  \n",
    "    \\frac{w_0}{w_2} + \\frac{w_1}{w_2} x_1\n",
    "    \\right)\n",
    "$$"
   ]
  },
  {
   "cell_type": "code",
   "execution_count": 6,
   "metadata": {},
   "outputs": [
    {
     "data": {
      "image/png": "[encoded data removed]",
      "text/plain": [
       "<Figure size 350x350 with 1 Axes>"
      ]
     },
     "metadata": {},
     "output_type": "display_data"
    }
   ],
   "source": [
    "import numpy as np\n",
    "\n",
    "plt.figure(figsize=(3.5, 3.5))\n",
    "plot_scatter()\n",
    "\n",
    "xlim = plt.gca().get_xlim()\n",
    "ylim = plt.gca().get_ylim()\n",
    "\n",
    "xplot = np.linspace(start=xlim[0], stop=xlim[1], num=20)\n",
    "\n",
    "fronteraA = (\n",
    "    -sgdClassifier.intercept_[0] / sgdClassifier.coef_[0][1]\n",
    "    - sgdClassifier.coef_[0][0] / sgdClassifier.coef_[0][1] * xplot\n",
    ")\n",
    "\n",
    "fronteraB = (\n",
    "    -sgdClassifier.intercept_[1] / sgdClassifier.coef_[1][1]\n",
    "    - sgdClassifier.coef_[1][0] / sgdClassifier.coef_[1][1] * xplot\n",
    ")\n",
    "\n",
    "fronteraC = (\n",
    "    -sgdClassifier.intercept_[2] / sgdClassifier.coef_[2][1]\n",
    "    - sgdClassifier.coef_[2][0] / sgdClassifier.coef_[2][1] * xplot\n",
    ")\n",
    "\n",
    "\n",
    "plt.plot(xplot, fronteraA, color=\"tab:red\", linewidth=3)\n",
    "plt.plot(xplot, fronteraB, color=\"tab:blue\", linewidth=3)\n",
    "plt.plot(xplot, fronteraC, color=\"tab:green\", linewidth=3)\n",
    "\n",
    "plt.xlim(xlim)\n",
    "plt.ylim(ylim)\n",
    "\n",
    "plt.show()"
   ]
  }
 ],
 "metadata": {
  "kernelspec": {
   "display_name": "Python 3 (ipykernel)",
   "language": "python",
   "name": "python3"
  },
  "language_info": {
   "codemirror_mode": {
    "name": "ipython",
    "version": 3
   },
   "file_extension": ".py",
   "mimetype": "text/x-python",
   "name": "python",
   "nbconvert_exporter": "python",
   "pygments_lexer": "ipython3",
   "version": "3.8.10"
  }
 },
 "nbformat": 4,
 "nbformat_minor": 4
}
