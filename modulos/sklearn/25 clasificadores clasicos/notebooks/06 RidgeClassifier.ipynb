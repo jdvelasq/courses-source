{
 "cells": [
  {
   "cell_type": "markdown",
   "id": "87e8daba-4701-4037-b375-840812c628f6",
   "metadata": {
    "tags": []
   },
   "source": [
    "RidgeClassifier\n",
    "==="
   ]
  },
  {
   "cell_type": "markdown",
   "id": "61a7a101-91cd-4912-8c7f-b170d7703ad4",
   "metadata": {},
   "source": [
    "* Implementa un clasificador usando regresión Ridge"
   ]
  },
  {
   "cell_type": "markdown",
   "id": "83f22585-2c5c-4ced-8b11-b3fcf83f6ae0",
   "metadata": {},
   "source": [
    "* En la regresión ridge, los coeficientes del modelo minimizarn la suma penalizada de residuales al cuadrado:\n",
    "$$\n",
    "\\min_w ||Xw -y||_2^2 + \\alpha ||w||_2^2\n",
    "$$\n",
    "con $\\alpha \\ge 0$"
   ]
  },
  {
   "cell_type": "markdown",
   "id": "c82465dc-98da-491b-b8e4-447e6c0ccddf",
   "metadata": {},
   "source": [
    "* Este modelo impone una penalización al tamaño de los coeficientes."
   ]
  },
  {
   "cell_type": "markdown",
   "id": "cee061eb-3a15-4110-8327-cb9c415062c6",
   "metadata": {},
   "source": [
    "* La penalización se aplica únicamente sobre los coeficientes de $x$."
   ]
  },
  {
   "cell_type": "markdown",
   "id": "5c355cfe-bf04-4a7f-be43-85a473c1be29",
   "metadata": {},
   "source": [
    "* Para adaptar el modelo de regresión al problema de clasificación, primero se convierte $y$ en $\\{-1, 1\\}$, y luego resuelve el problema usando regresión."
   ]
  },
  {
   "cell_type": "code",
   "execution_count": 1,
   "id": "8e8c28a7-cff0-478a-ad57-af4166e60e8c",
   "metadata": {},
   "outputs": [
    {
     "data": {
      "image/png": "[encoded data removed]",
      "text/plain": [
       "<Figure size 640x480 with 1 Axes>"
      ]
     },
     "metadata": {},
     "output_type": "display_data"
    }
   ],
   "source": [
    "import matplotlib.pyplot as plt\n",
    "from sklearn.datasets import make_blobs\n",
    "\n",
    "NPOINTS = 150\n",
    "\n",
    "X, y_true = make_blobs(\n",
    "    n_samples=NPOINTS,\n",
    "    n_features=2,\n",
    "    centers=3,\n",
    "    cluster_std=0.8,\n",
    "    shuffle=False,\n",
    "    random_state=12345,\n",
    ")\n",
    "\n",
    "plt.scatter(X[:50, 0], X[:50, 1], color=\"red\")\n",
    "plt.scatter(X[50:100, 0], X[50:100, 1], color=\"blue\")\n",
    "plt.scatter(X[100:, 0], X[100:, 1], color=\"green\")\n",
    "plt.gca().set_aspect(\"equal\", adjustable=\"box\")"
   ]
  },
  {
   "cell_type": "code",
   "execution_count": 2,
   "id": "db259336-593f-44b1-9919-863de8e38caf",
   "metadata": {},
   "outputs": [
    {
     "data": {
      "text/plain": [
       "array([0, 0, 0, 0, 0, 0, 0, 0, 0, 0, 0, 0, 0, 0, 0, 0, 0, 0, 0, 0, 0, 0,\n",
       "       0, 0, 0, 0, 0, 0, 0, 0, 0, 0, 0, 0, 0, 0, 0, 0, 0, 0, 0, 0, 0, 0,\n",
       "       0, 0, 0, 0, 0, 0, 1, 1, 1, 1, 1, 1, 1, 1, 1, 1, 1, 1, 1, 1, 1, 1,\n",
       "       1, 1, 1, 1, 1, 1, 1, 1, 1, 1, 1, 1, 1, 1, 1, 1, 1, 1, 1, 1, 1, 1,\n",
       "       1, 1, 1, 1, 1, 1, 1, 1, 1, 1, 1, 1, 2, 2, 2, 2, 2, 2, 2, 2, 2, 2,\n",
       "       2, 2, 2, 2, 2, 2, 2, 2, 2, 2, 2, 2, 2, 2, 2, 2, 2, 2, 2, 2, 2, 2,\n",
       "       2, 2, 2, 2, 2, 2, 2, 2, 2, 2, 2, 2, 2, 2, 2, 2, 2, 2])"
      ]
     },
     "execution_count": 2,
     "metadata": {},
     "output_type": "execute_result"
    }
   ],
   "source": [
    "from sklearn.linear_model import RidgeClassifier\n",
    "\n",
    "\n",
    "ridgeClassifier = RidgeClassifier(\n",
    "    # ---------------------------------------------------------------------\n",
    "    # Regularization strength; must be a positive float. Regularization \n",
    "    # improves the conditioning of the problem and reduces the variance of \n",
    "    # the estimates. Larger values specify stronger regularization. Alpha \n",
    "    # corresponds to 1 / (2C) in other linear models such as \n",
    "    # LogisticRegression or LinearSVC.\n",
    "    alpha=1.0,\n",
    "    # ---------------------------------------------------------------------\n",
    "    # Whether to fit the intercept for this model.\n",
    "    fit_intercept=True,\n",
    "    # ---------------------------------------------------------------------\n",
    "    # Maximum number of iterations for conjugate gradient solver.\n",
    "    max_iter=None,\n",
    "    # ---------------------------------------------------------------------\n",
    "    # Precision of the solution. Note that tol has no effect for solvers\n",
    "    # ‘svd’ and ‘cholesky’.\n",
    "    tol=1e-4,\n",
    "    # ---------------------------------------------------------------------\n",
    "    # Solver to use in the computational routines:\n",
    "    # * ‘auto’ chooses the solver automatically based on the type of data.\n",
    "    # * 'svd'\n",
    "    # * 'cholesky'\n",
    "    # * 'sparse_cg'\n",
    "    # * 'lsqr':  regularized least-square\n",
    "    # * 'sag': Stochastic Average Gradient\n",
    "    # * 'lbfgs'\n",
    "    solver=\"auto\",\n",
    "    # ---------------------------------------------------------------------\n",
    "    # When set to True, forces the coefficients to be positive.\n",
    "    positive=False,\n",
    "    # ---------------------------------------------------------------------\n",
    "    # Used when solver == ‘sag’ or ‘saga’ to shuffle the data.\n",
    "    random_state=None,\n",
    ")\n",
    "\n",
    "ridgeClassifier.fit(X, y_true)\n",
    "\n",
    "ridgeClassifier.predict(X)"
   ]
  },
  {
   "cell_type": "code",
   "execution_count": 3,
   "id": "f7069b09-cca6-4bb4-93dd-9a6c581aad55",
   "metadata": {},
   "outputs": [
    {
     "data": {
      "text/plain": [
       "1.0"
      ]
     },
     "execution_count": 3,
     "metadata": {},
     "output_type": "execute_result"
    }
   ],
   "source": [
    "ridgeClassifier.score(X, y_true)"
   ]
  },
  {
   "cell_type": "code",
   "execution_count": 4,
   "id": "74ec8790-6369-4c22-836f-d2717056aa58",
   "metadata": {},
   "outputs": [
    {
     "data": {
      "text/plain": [
       "array([[ 0.15400142, -0.14156887],\n",
       "       [-0.11087184, -0.14212033],\n",
       "       [-0.04312957,  0.2836892 ]])"
      ]
     },
     "execution_count": 4,
     "metadata": {},
     "output_type": "execute_result"
    }
   ],
   "source": [
    "ridgeClassifier.coef_"
   ]
  },
  {
   "cell_type": "code",
   "execution_count": 5,
   "id": "2f3f06f8-4903-43db-a9f6-cb95dc93b5f9",
   "metadata": {},
   "outputs": [
    {
     "data": {
      "text/plain": [
       "array([-0.87017324, -0.57474307,  0.44491631])"
      ]
     },
     "execution_count": 5,
     "metadata": {},
     "output_type": "execute_result"
    }
   ],
   "source": [
    "ridgeClassifier.intercept_"
   ]
  }
 ],
 "metadata": {
  "kernelspec": {
   "display_name": "Python 3 (ipykernel)",
   "language": "python",
   "name": "python3"
  },
  "language_info": {
   "codemirror_mode": {
    "name": "ipython",
    "version": 3
   },
   "file_extension": ".py",
   "mimetype": "text/x-python",
   "name": "python",
   "nbconvert_exporter": "python",
   "pygments_lexer": "ipython3",
   "version": "3.8.10"
  },
  "vscode": {
   "interpreter": {
    "hash": "2482a4565599eda3cd2db35331af39775c1f78a505a9deef48c721423040da5b"
   }
  }
 },
 "nbformat": 4,
 "nbformat_minor": 5
}
