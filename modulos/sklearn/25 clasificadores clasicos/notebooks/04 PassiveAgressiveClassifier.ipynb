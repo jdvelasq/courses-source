{
 "cells": [
  {
   "cell_type": "markdown",
   "metadata": {},
   "source": [
    "Clasificador Pasivo Agresivo\n",
    "==="
   ]
  },
  {
   "cell_type": "markdown",
   "metadata": {},
   "source": [
    "* Implementa una familia de algoritmos para grandes volumenes de datos."
   ]
  },
  {
   "cell_type": "markdown",
   "metadata": {},
   "source": [
    "* Son similares al perceptrón y no requieren tasa de aprendizaje."
   ]
  },
  {
   "cell_type": "markdown",
   "metadata": {},
   "source": [
    "* Incluyen un parámetro de regularización C."
   ]
  },
  {
   "cell_type": "markdown",
   "metadata": {},
   "source": [
    "* Opera bajo el mismo principio del gradiente descendente estocástico."
   ]
  },
  {
   "cell_type": "markdown",
   "metadata": {},
   "source": [
    "* Solo permite las funciones de pérdida Hinge y Hinge2.\n",
    "\n",
    "    * `hinge`: $$\n",
    "L\\left(y, f(x_i) \\right) = \n",
    "\\max (0, 1 -  y_i f(x_i))\n",
    "$$ \n",
    "\n",
    "    * `squared hinge`: \n",
    "$$\n",
    "L\\left(y, f(x_i) \\right) = \n",
    "[\\max (0, 1 -  y_i f(x_i)]^2\n",
    "$$ "
   ]
  },
  {
   "cell_type": "markdown",
   "metadata": {},
   "source": [
    "![assets/hinge.png](assets/hinge.png)"
   ]
  },
  {
   "cell_type": "markdown",
   "metadata": {},
   "source": [
    "![assets/hinge2.png](assets/hinge2.png)"
   ]
  },
  {
   "cell_type": "markdown",
   "metadata": {},
   "source": [
    "* Se asume que $y \\in \\{-1, + 1\\}$."
   ]
  },
  {
   "cell_type": "code",
   "execution_count": 1,
   "metadata": {},
   "outputs": [],
   "source": [
    "from sklearn.datasets import load_breast_cancer\n",
    "\n",
    "X, y = load_breast_cancer(return_X_y=True)"
   ]
  },
  {
   "cell_type": "code",
   "execution_count": 2,
   "metadata": {},
   "outputs": [
    {
     "data": {
      "text/plain": [
       "array([0, 0, 0, 1, 1, 1, 0, 0, 1, 1, 0, 0, 1, 1, 1, 1, 0, 0, 0, 1, 1, 1,\n",
       "       1, 0, 0, 0, 1, 0, 0, 1, 0, 0, 0, 0, 0, 0, 1, 1, 1, 1, 1, 1, 0, 0,\n",
       "       1, 0, 1, 1, 1, 1, 1, 1, 1, 1, 0, 1, 0, 0, 1, 1, 1, 1, 0, 1, 0, 1,\n",
       "       1, 1, 1, 1, 0, 1, 0, 1, 1, 0, 1, 0, 0, 1, 1, 1, 0, 1, 1, 0, 1, 0,\n",
       "       1, 1, 1, 1, 0, 1, 0, 0, 1, 1, 1, 1, 0, 1, 1, 1, 1, 0, 1, 1, 0, 1,\n",
       "       1, 1, 1, 1, 1, 1, 1, 0, 0, 1, 1, 0, 0, 1, 1, 1, 1, 0, 1, 0, 1, 0,\n",
       "       0, 1, 0, 1, 1, 1, 0, 1, 1, 0, 1, 1, 1, 1, 1, 1, 1, 1, 1, 1, 1, 1,\n",
       "       1, 1, 0, 1, 1, 1, 1, 0, 0, 1, 0, 1, 1, 0, 0, 1, 1, 0, 0, 1, 1, 1,\n",
       "       1, 1, 1, 1, 0, 0, 0, 1, 1, 1, 0, 1, 1, 1, 1, 1, 1, 1, 1, 1, 1, 1,\n",
       "       0, 0, 1, 1, 1, 0, 1, 1, 1, 0, 1, 1, 0, 1, 1, 1, 1, 1, 1, 1, 0, 0,\n",
       "       1, 1, 1, 0, 1, 1, 1, 1, 1, 1, 1, 1, 1, 0, 1, 1, 0, 0, 1, 0, 1, 1,\n",
       "       1, 1, 1, 1, 1, 1, 1, 1, 0, 1, 0, 1, 0, 1, 0, 1, 0, 1, 0, 1, 0, 1,\n",
       "       0, 0, 1, 1, 1, 1, 1, 1, 0, 1, 1, 1, 1, 1, 1, 1, 0, 1, 0, 1, 1, 1,\n",
       "       1, 1, 1, 1, 1, 1, 1, 1, 1, 1, 1, 1, 1, 1, 0, 1, 0, 1, 1, 1, 1, 1,\n",
       "       1, 1, 1, 1, 1, 1, 1, 1, 1, 0, 1, 1, 1, 0, 1, 0, 1, 1, 1, 1, 1, 1,\n",
       "       1, 1, 1, 1, 1, 0, 1, 0, 1, 0, 1, 1, 1, 1, 1, 1, 1, 1, 1, 1, 1, 1,\n",
       "       0, 0, 1, 1, 1, 1, 1, 1, 1, 1, 1, 1, 1, 0, 0, 1, 0, 0, 0, 1, 1, 0,\n",
       "       1, 1, 1, 1, 1, 1, 1, 1, 1, 1, 1, 1, 1, 1, 1, 1, 1, 1, 0, 0, 1, 1,\n",
       "       1, 1, 1, 1, 1, 1, 1, 1, 1, 1, 1, 1, 0, 1, 1, 1, 1, 1, 1, 1, 1, 0,\n",
       "       1, 1, 1, 1, 1, 1, 1, 1, 1, 1, 1, 1, 1, 1, 1, 0, 1, 1, 1, 1, 1, 1,\n",
       "       1, 0, 1, 1, 1, 1, 0, 1, 1, 0, 1, 1, 1, 1, 1, 1, 1, 1, 1, 1, 0, 0,\n",
       "       1, 1, 1, 1, 1, 1, 0, 1, 1, 1, 1, 1, 1, 1, 1, 1, 1, 1, 1, 1, 1, 1,\n",
       "       1, 1, 1, 0, 1, 1, 1, 1, 0, 1, 1, 1, 1, 1, 0, 0, 1, 1, 1, 0, 1, 1,\n",
       "       1, 1, 1, 1, 1, 1, 1, 1, 1, 1, 0, 0, 1, 1, 1, 0, 1, 1, 1, 1, 1, 1,\n",
       "       1, 1, 1, 1, 1, 0, 1, 0, 1, 1, 1, 1, 1, 1, 1, 1, 1, 1, 1, 1, 1, 1,\n",
       "       1, 1, 1, 1, 1, 1, 1, 1, 1, 1, 1, 1, 1, 0, 0, 0, 1, 0, 1])"
      ]
     },
     "execution_count": 2,
     "metadata": {},
     "output_type": "execute_result"
    }
   ],
   "source": [
    "from sklearn.linear_model import PassiveAggressiveClassifier\n",
    "\n",
    "passiveAggressiveClassifier = PassiveAggressiveClassifier(\n",
    "    # --------------------------------------------------------------------------\n",
    "    # Maximum step size (regularization).\n",
    "    C=1.0,\n",
    "    # --------------------------------------------------------------------------\n",
    "    # Whether the intercept should be estimated or not. If False, the data is \n",
    "    # assumed to be already centered.\n",
    "    fit_intercept=True,\n",
    "    # --------------------------------------------------------------------------\n",
    "    # The maximum number of passes over the training data (aka epochs). \n",
    "    max_iter=1000,\n",
    "    # --------------------------------------------------------------------------\n",
    "    # Tolerance for stopping criteria.\n",
    "    tol=0.0001,\n",
    "    # --------------------------------------------------------------------------\n",
    "    # Whether to use early stopping to terminate training when validation. \n",
    "    # score is not improving. If set to True, it will automatically set aside a\n",
    "    # stratified fraction of training data as validation and terminate training \n",
    "    # when validation score is not improving by at least tol for n_iter_no_change \n",
    "    # consecutive epochs.\n",
    "    early_stopping=False,\n",
    "    # --------------------------------------------------------------------------\n",
    "    # The proportion of training data to set aside as validation set for early \n",
    "    # stopping. Must be between 0 and 1. Only used if early_stopping is True.\n",
    "    validation_fraction=0.1,\n",
    "    # --------------------------------------------------------------------------\n",
    "    # Number of iterations with no improvement to wait before early stopping.\n",
    "    n_iter_no_change=5,\n",
    "    # --------------------------------------------------------------------------\n",
    "    # Whether or not the training data should be shuffled after each epoch.\n",
    "    shuffle=True,\n",
    "    # --------------------------------------------------------------------------\n",
    "    # The loss function to be used hinge: equivalent to PA-I in the reference \n",
    "    # paper. squared_hinge: equivalent to PA-II in the reference paper.\n",
    "    loss=\"hinge\",\n",
    "    # --------------------------------------------------------------------------\n",
    "    # Used to shuffle the training data, when shuffle is set to True.\n",
    "    random_state=None,\n",
    "    # --------------------------------------------------------------------------\n",
    "    # When set to True, reuse the solution of the previous call to fit as \n",
    "    # initialization, otherwise, just erase the previous solution.\n",
    "    warm_start=False,\n",
    "    # --------------------------------------------------------------------------\n",
    "    # Preset for the class_weight fit parameter. Weights associated with \n",
    "    # classes. If not given, all classes are supposed to have weight one.\n",
    "    #\n",
    "    # The “balanced” mode uses the values of y to automatically adjust weights \n",
    "    # inversely proportional to class frequencies in the input data as \n",
    "    # n_samples / (n_classes * np.bincount(y)).\n",
    "    class_weight=None,\n",
    "    # --------------------------------------------------------------------------\n",
    "    # When set to True, computes the averaged SGD weights and stores the result \n",
    "    # in the coef_ attribute. If set to an int greater than 1, averaging will \n",
    "    # begin once the total number of samples seen reaches average. So \n",
    "    # average=10 will begin averaging after seeing 10 samples.\n",
    "    average=False,\n",
    ")\n",
    "\n",
    "passiveAggressiveClassifier.fit(X, y)\n",
    "\n",
    "passiveAggressiveClassifier.predict(X)"
   ]
  },
  {
   "cell_type": "code",
   "execution_count": 3,
   "metadata": {},
   "outputs": [
    {
     "data": {
      "text/plain": [
       "array([0.00068508])"
      ]
     },
     "execution_count": 3,
     "metadata": {},
     "output_type": "execute_result"
    }
   ],
   "source": [
    "passiveAggressiveClassifier.intercept_"
   ]
  },
  {
   "cell_type": "code",
   "execution_count": 4,
   "metadata": {},
   "outputs": [
    {
     "data": {
      "text/plain": [
       "array([[ 4.63457700e-03,  7.04383499e-03,  2.62210835e-02,\n",
       "         1.13297897e-02,  4.50206338e-05, -3.88603635e-05,\n",
       "        -1.05415563e-04, -4.58620495e-05,  8.91650814e-05,\n",
       "         3.83417044e-05,  8.60646190e-05,  6.08083072e-04,\n",
       "         3.10388565e-04, -4.82872538e-03,  4.65852986e-06,\n",
       "        -8.43339916e-06, -9.72937666e-06, -1.95109607e-06,\n",
       "         1.01797580e-05,  9.52358712e-07,  4.83237856e-03,\n",
       "         7.54592480e-03,  2.54822744e-02, -1.37611604e-02,\n",
       "         5.50130520e-05, -1.96603439e-04, -2.90404168e-04,\n",
       "        -7.80318861e-05,  9.82485882e-05,  2.74353123e-05]])"
      ]
     },
     "execution_count": 4,
     "metadata": {},
     "output_type": "execute_result"
    }
   ],
   "source": [
    "passiveAggressiveClassifier.coef_"
   ]
  },
  {
   "cell_type": "code",
   "execution_count": 5,
   "metadata": {},
   "outputs": [
    {
     "data": {
      "text/plain": [
       "0.8541300527240774"
      ]
     },
     "execution_count": 5,
     "metadata": {},
     "output_type": "execute_result"
    }
   ],
   "source": [
    "passiveAggressiveClassifier.score(X, y)"
   ]
  },
  {
   "cell_type": "markdown",
   "metadata": {},
   "source": [
    "---"
   ]
  },
  {
   "cell_type": "code",
   "execution_count": 5,
   "metadata": {},
   "outputs": [],
   "source": [
    "import matplotlib.pyplot as plt\n",
    "import numpy as np\n",
    "\n",
    "def hinge():\n",
    "\n",
    "    fx = np.linspace(-3, 3, 100)\n",
    "\n",
    "    plt.figure(figsize=(12, 5))\n",
    "\n",
    "    plt.subplot(1, 2, 1)\n",
    "    plt.plot(fx, np.where(1-fx>0,1-fx, 0))\n",
    "    plt.xlabel(\"f(x) con $y_\\text{real}=+1$\")\n",
    "    plt.ylabel(\"$\\max (0, 1 - f(x))$\")\n",
    "\n",
    "    plt.subplot(1, 2, 2)\n",
    "    plt.plot(fx, np.where(1+fx>0,1+fx, 0))\n",
    "    plt.xlabel(\"f(x) con $y_\\text{real}=-1$\")\n",
    "    plt.ylabel(\"$\\max (0, 1 + f(x))$\")\n",
    "\n",
    "    plt.tight_layout()\n",
    "    plt.savefig(\"assets/hinge.png\")\n",
    "    plt.close()\n",
    "\n",
    "# hinge()    "
   ]
  },
  {
   "cell_type": "code",
   "execution_count": 6,
   "metadata": {},
   "outputs": [],
   "source": [
    "def hinge2():\n",
    "\n",
    "    fx = np.linspace(-3, 3, 100)\n",
    "\n",
    "    plt.figure(figsize=(12, 5))\n",
    "\n",
    "    plt.subplot(1, 2, 1)\n",
    "    plt.plot(fx, np.where(1-fx>0,np.power(1-fx, 2), 0))\n",
    "    plt.xlabel(\"f(x) con $y_\\text{real}=+1$\")\n",
    "    plt.ylabel(\"$[\\max (0, 1 - f(x))]^2$\")\n",
    "\n",
    "    plt.subplot(1, 2, 2)\n",
    "    plt.plot(fx, np.where(1+fx>0,np.power(1+fx, 2), 0))\n",
    "    plt.xlabel(\"f(x) con $y_\\text{real}=-1$\")\n",
    "    plt.ylabel(\"$[\\max (0, 1 + f(x))]^2$\")\n",
    "\n",
    "    plt.tight_layout()\n",
    "    plt.savefig(\"assets/hinge2.png\")\n",
    "    plt.close()\n",
    "\n",
    "hinge2()    "
   ]
  }
 ],
 "metadata": {
  "kernel_info": {
   "name": "python3"
  },
  "kernelspec": {
   "display_name": "Python 3 (ipykernel)",
   "language": "python",
   "name": "python3"
  },
  "language_info": {
   "codemirror_mode": {
    "name": "ipython",
    "version": 3
   },
   "file_extension": ".py",
   "mimetype": "text/x-python",
   "name": "python",
   "nbconvert_exporter": "python",
   "pygments_lexer": "ipython3",
   "version": "3.8.10"
  },
  "nteract": {
   "version": "0.7.1"
  },
  "varInspector": {
   "cols": {
    "lenName": 16,
    "lenType": 16,
    "lenVar": 40
   },
   "kernels_config": {
    "python": {
     "delete_cmd_postfix": "",
     "delete_cmd_prefix": "del ",
     "library": "var_list.py",
     "varRefreshCmd": "print(var_dic_list())"
    },
    "r": {
     "delete_cmd_postfix": ") ",
     "delete_cmd_prefix": "rm(",
     "library": "var_list.r",
     "varRefreshCmd": "cat(var_dic_list()) "
    }
   },
   "types_to_exclude": [
    "module",
    "function",
    "builtin_function_or_method",
    "instance",
    "_Feature"
   ],
   "window_display": false
  },
  "vscode": {
   "interpreter": {
    "hash": "2482a4565599eda3cd2db35331af39775c1f78a505a9deef48c721423040da5b"
   }
  }
 },
 "nbformat": 4,
 "nbformat_minor": 4
}
