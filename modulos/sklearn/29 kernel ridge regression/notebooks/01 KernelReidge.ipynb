{
 "cells": [
  {
   "cell_type": "markdown",
   "id": "96dd3c91-d034-4e06-876b-e22d01c85952",
   "metadata": {},
   "source": [
    "Kernel ridge regression (KRR)\n",
    "---"
   ]
  },
  {
   "cell_type": "markdown",
   "id": "ef03bf59-d97b-483c-9aa0-1fe12631f5af",
   "metadata": {},
   "source": [
    "* Combina el modelo  ridge (OLS + regularización L2) con el kernel trick."
   ]
  },
  {
   "cell_type": "markdown",
   "id": "87ed15a2-46f4-4016-8a5d-49ade4d0d05b",
   "metadata": {},
   "source": [
    "* Corresponde a un modelo lineal que aprende en el espacio (no lineal dependiendo del kernel) generado por el kernel y los datos."
   ]
  },
  {
   "cell_type": "markdown",
   "id": "5cd5e46e-870a-419b-bbbb-ace75097ff8e",
   "metadata": {},
   "source": [
    "* Este modelo es equivalente a una SVR con algunas diferencias."
   ]
  },
  {
   "cell_type": "markdown",
   "id": "d662cbcf-14ab-427e-9a89-b4c601bfd6e5",
   "metadata": {},
   "source": [
    "* En las SVR se usa la pérdida $\\epsilon$-insensitiva + regularización L2."
   ]
  },
  {
   "cell_type": "markdown",
   "id": "25f5448a-148d-4630-a3c9-eb16439ebd73",
   "metadata": {},
   "source": [
    "* En el KRR se usa la pérdida cuadrática + regularización L2."
   ]
  },
  {
   "cell_type": "code",
   "execution_count": 1,
   "id": "52e12af0-e4d6-412c-9eaa-0ab6daeb1822",
   "metadata": {},
   "outputs": [],
   "source": [
    "import numpy as np\n",
    "\n",
    "n_samples, n_features = 10, 5\n",
    "\n",
    "rng = np.random.RandomState(0)\n",
    "\n",
    "y = rng.randn(n_samples)\n",
    "X = rng.randn(n_samples, n_features)"
   ]
  },
  {
   "cell_type": "code",
   "execution_count": 2,
   "id": "de38506c-a834-4225-97b2-aad4c360cf00",
   "metadata": {},
   "outputs": [
    {
     "data": {
      "text/html": [
       "<style>#sk-container-id-1 {color: black;background-color: white;}#sk-container-id-1 pre{padding: 0;}#sk-container-id-1 div.sk-toggleable {background-color: white;}#sk-container-id-1 label.sk-toggleable__label {cursor: pointer;display: block;width: 100%;margin-bottom: 0;padding: 0.3em;box-sizing: border-box;text-align: center;}#sk-container-id-1 label.sk-toggleable__label-arrow:before {content: \"▸\";float: left;margin-right: 0.25em;color: #696969;}#sk-container-id-1 label.sk-toggleable__label-arrow:hover:before {color: black;}#sk-container-id-1 div.sk-estimator:hover label.sk-toggleable__label-arrow:before {color: black;}#sk-container-id-1 div.sk-toggleable__content {max-height: 0;max-width: 0;overflow: hidden;text-align: left;background-color: #f0f8ff;}#sk-container-id-1 div.sk-toggleable__content pre {margin: 0.2em;color: black;border-radius: 0.25em;background-color: #f0f8ff;}#sk-container-id-1 input.sk-toggleable__control:checked~div.sk-toggleable__content {max-height: 200px;max-width: 100%;overflow: auto;}#sk-container-id-1 input.sk-toggleable__control:checked~label.sk-toggleable__label-arrow:before {content: \"▾\";}#sk-container-id-1 div.sk-estimator input.sk-toggleable__control:checked~label.sk-toggleable__label {background-color: #d4ebff;}#sk-container-id-1 div.sk-label input.sk-toggleable__control:checked~label.sk-toggleable__label {background-color: #d4ebff;}#sk-container-id-1 input.sk-hidden--visually {border: 0;clip: rect(1px 1px 1px 1px);clip: rect(1px, 1px, 1px, 1px);height: 1px;margin: -1px;overflow: hidden;padding: 0;position: absolute;width: 1px;}#sk-container-id-1 div.sk-estimator {font-family: monospace;background-color: #f0f8ff;border: 1px dotted black;border-radius: 0.25em;box-sizing: border-box;margin-bottom: 0.5em;}#sk-container-id-1 div.sk-estimator:hover {background-color: #d4ebff;}#sk-container-id-1 div.sk-parallel-item::after {content: \"\";width: 100%;border-bottom: 1px solid gray;flex-grow: 1;}#sk-container-id-1 div.sk-label:hover label.sk-toggleable__label {background-color: #d4ebff;}#sk-container-id-1 div.sk-serial::before {content: \"\";position: absolute;border-left: 1px solid gray;box-sizing: border-box;top: 0;bottom: 0;left: 50%;z-index: 0;}#sk-container-id-1 div.sk-serial {display: flex;flex-direction: column;align-items: center;background-color: white;padding-right: 0.2em;padding-left: 0.2em;position: relative;}#sk-container-id-1 div.sk-item {position: relative;z-index: 1;}#sk-container-id-1 div.sk-parallel {display: flex;align-items: stretch;justify-content: center;background-color: white;position: relative;}#sk-container-id-1 div.sk-item::before, #sk-container-id-1 div.sk-parallel-item::before {content: \"\";position: absolute;border-left: 1px solid gray;box-sizing: border-box;top: 0;bottom: 0;left: 50%;z-index: -1;}#sk-container-id-1 div.sk-parallel-item {display: flex;flex-direction: column;z-index: 1;position: relative;background-color: white;}#sk-container-id-1 div.sk-parallel-item:first-child::after {align-self: flex-end;width: 50%;}#sk-container-id-1 div.sk-parallel-item:last-child::after {align-self: flex-start;width: 50%;}#sk-container-id-1 div.sk-parallel-item:only-child::after {width: 0;}#sk-container-id-1 div.sk-dashed-wrapped {border: 1px dashed gray;margin: 0 0.4em 0.5em 0.4em;box-sizing: border-box;padding-bottom: 0.4em;background-color: white;}#sk-container-id-1 div.sk-label label {font-family: monospace;font-weight: bold;display: inline-block;line-height: 1.2em;}#sk-container-id-1 div.sk-label-container {text-align: center;}#sk-container-id-1 div.sk-container {/* jupyter's `normalize.less` sets `[hidden] { display: none; }` but bootstrap.min.css set `[hidden] { display: none !important; }` so we also need the `!important` here to be able to override the default hidden behavior on the sphinx rendered scikit-learn.org. See: https://github.com/scikit-learn/scikit-learn/issues/21755 */display: inline-block !important;position: relative;}#sk-container-id-1 div.sk-text-repr-fallback {display: none;}</style><div id=\"sk-container-id-1\" class=\"sk-top-container\"><div class=\"sk-text-repr-fallback\"><pre>KernelRidge(alpha=1.0)</pre><b>In a Jupyter environment, please rerun this cell to show the HTML representation or trust the notebook. <br />On GitHub, the HTML representation is unable to render, please try loading this page with nbviewer.org.</b></div><div class=\"sk-container\" hidden><div class=\"sk-item\"><div class=\"sk-estimator sk-toggleable\"><input class=\"sk-toggleable__control sk-hidden--visually\" id=\"sk-estimator-id-1\" type=\"checkbox\" checked><label for=\"sk-estimator-id-1\" class=\"sk-toggleable__label sk-toggleable__label-arrow\">KernelRidge</label><div class=\"sk-toggleable__content\"><pre>KernelRidge(alpha=1.0)</pre></div></div></div></div></div>"
      ],
      "text/plain": [
       "KernelRidge(alpha=1.0)"
      ]
     },
     "execution_count": 2,
     "metadata": {},
     "output_type": "execute_result"
    }
   ],
   "source": [
    "from sklearn.kernel_ridge import KernelRidge\n",
    "\n",
    "kernelRidge = KernelRidge(\n",
    "    # --------------------------------------------------------------------------\n",
    "    # Regularization strength; must be a positive float. Regularization improves\n",
    "    # the conditioning of the problem and reduces the variance of the estimates. \n",
    "    # Larger values specify stronger regularization. Alpha corresponds to \n",
    "    # 1 / (2C) in other linear models such as LogisticRegression or LinearSVC.\n",
    "    alpha=1.0,\n",
    "    # --------------------------------------------------------------------------\n",
    "    # Kernel mapping used internally. \n",
    "    # * 'additive_chi2'\n",
    "    # * 'chi2'\n",
    "    # * 'linear'\n",
    "    # * 'poly'\n",
    "    # * 'polynomial'\n",
    "    # * 'rbf'\n",
    "    # * 'laplacian'\n",
    "    # * 'sigmoid'\n",
    "    # * 'cosine'\n",
    "    kernel=\"linear\",\n",
    "    # --------------------------------------------------------------------------\n",
    "    # Gamma parameter for the RBF, laplacian, polynomial, exponential chi2 and \n",
    "    # sigmoid kernels. \n",
    "    gamma=None,\n",
    "    # --------------------------------------------------------------------------\n",
    "    # Degree of the polynomial kernel. Ignored by other kernels.\n",
    "    degree=3,\n",
    "    # --------------------------------------------------------------------------\n",
    "    # Zero coefficient for polynomial and sigmoid kernels. Ignored by other \n",
    "    # kernels.\n",
    "    coef0=1,\n",
    "    # --------------------------------------------------------------------------\n",
    "    # Additional parameters (keyword arguments) for kernel function passed as \n",
    "    # callable object.\n",
    "    kernel_params=None,\n",
    ")\n",
    "\n",
    "kernelRidge.fit(X, y)"
   ]
  },
  {
   "cell_type": "code",
   "execution_count": 3,
   "id": "d427489a-0656-4d62-96c9-03d54d14e24e",
   "metadata": {},
   "outputs": [
    {
     "data": {
      "text/plain": [
       "array([ 1.53839505,  0.20049053, -0.33063188,  1.15477888,  1.28601901,\n",
       "       -0.49046154,  0.46714476,  0.77765325, -0.78298407,  0.82155474])"
      ]
     },
     "execution_count": 3,
     "metadata": {},
     "output_type": "execute_result"
    }
   ],
   "source": [
    "kernelRidge.dual_coef_"
   ]
  }
 ],
 "metadata": {
  "kernelspec": {
   "display_name": "Python 3 (ipykernel)",
   "language": "python",
   "name": "python3"
  },
  "language_info": {
   "codemirror_mode": {
    "name": "ipython",
    "version": 3
   },
   "file_extension": ".py",
   "mimetype": "text/x-python",
   "name": "python",
   "nbconvert_exporter": "python",
   "pygments_lexer": "ipython3",
   "version": "3.8.10"
  }
 },
 "nbformat": 4,
 "nbformat_minor": 5
}
