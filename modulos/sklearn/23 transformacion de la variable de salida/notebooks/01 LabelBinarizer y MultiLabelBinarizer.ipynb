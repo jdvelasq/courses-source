{
 "cells": [
  {
   "cell_type": "markdown",
   "id": "70b19e73-d1b8-4a3d-b4d2-bbd3c78a9d51",
   "metadata": {
    "tags": []
   },
   "source": [
    "LabelBinarizer y MultiLabelBinarizer\n",
    "==="
   ]
  },
  {
   "cell_type": "markdown",
   "id": "23bd8c17-7132-444e-944a-e6ad318092e5",
   "metadata": {},
   "source": [
    "Son utilidades que ayudan a crear un indicador a partir una lista de clases posibles."
   ]
  },
  {
   "cell_type": "code",
   "execution_count": 1,
   "id": "5dd95410-e245-41fb-bc56-3e4463c2baac",
   "metadata": {},
   "outputs": [
    {
     "data": {
      "text/plain": [
       "array([1, 2, 4, 6])"
      ]
     },
     "execution_count": 1,
     "metadata": {},
     "output_type": "execute_result"
    }
   ],
   "source": [
    "from sklearn.preprocessing import LabelBinarizer\n",
    "\n",
    "y = [1, 2, 6, 4, 2]\n",
    "\n",
    "# clases: 1  2  4  6\n",
    "# ---------------------\n",
    "# array([[1, 0, 0, 0],\n",
    "#        [0, 1, 0, 0],\n",
    "#        [0, 0, 0, 1],\n",
    "#        [0, 0, 1, 0],\n",
    "#        [0, 1, 0, 0]])\n",
    "\n",
    "labelBinarizer = LabelBinarizer(\n",
    "    # -------------------------------------------------------------------------\n",
    "    # Value with which negative labels must be encoded.\n",
    "    neg_label=0,\n",
    "    # -------------------------------------------------------------------------\n",
    "    # Value with which positive labels must be encoded.\n",
    "    pos_label=1,\n",
    "    # -------------------------------------------------------------------------\n",
    "    # True if the returned array from transform is desired to be in sparse CSR\n",
    "    # format.\n",
    "    sparse_output=False,\n",
    ")\n",
    "\n",
    "labelBinarizer.fit(y)\n",
    "\n",
    "labelBinarizer.classes_"
   ]
  },
  {
   "cell_type": "code",
   "execution_count": 2,
   "id": "c2622c0b-d1ec-4ac4-80f5-fe48fd4cc5c8",
   "metadata": {},
   "outputs": [
    {
     "data": {
      "text/plain": [
       "array([[1, 0, 0, 0],\n",
       "       [0, 1, 0, 0],\n",
       "       [0, 0, 0, 1],\n",
       "       [0, 0, 1, 0],\n",
       "       [0, 1, 0, 0]])"
      ]
     },
     "execution_count": 2,
     "metadata": {},
     "output_type": "execute_result"
    }
   ],
   "source": [
    "labelBinarizer.transform(y)"
   ]
  },
  {
   "cell_type": "code",
   "execution_count": 3,
   "id": "09dba80f-5556-4947-aeaf-54595bc1f943",
   "metadata": {},
   "outputs": [
    {
     "data": {
      "text/plain": [
       "array([[1, 0, 0, 0],\n",
       "       [0, 0, 0, 1]])"
      ]
     },
     "execution_count": 3,
     "metadata": {},
     "output_type": "execute_result"
    }
   ],
   "source": [
    "labelBinarizer.transform([1, 6])"
   ]
  },
  {
   "cell_type": "code",
   "execution_count": 4,
   "id": "4b98e90b-12ec-4663-9420-e168825240e9",
   "metadata": {},
   "outputs": [
    {
     "data": {
      "text/plain": [
       "array([0, 1, 2, 3, 4])"
      ]
     },
     "execution_count": 4,
     "metadata": {},
     "output_type": "execute_result"
    }
   ],
   "source": [
    "from sklearn.preprocessing import MultiLabelBinarizer\n",
    "\n",
    "y = [\n",
    "    [2, 3, 4],\n",
    "    [2],\n",
    "    [0, 1, 3],\n",
    "    [0, 1, 2, 3, 4],\n",
    "    [0, 1, 2],\n",
    "]\n",
    "\n",
    "multiLabelBinarizer = MultiLabelBinarizer(\n",
    "    # -------------------------------------------------------------------------\n",
    "    # Indicates an ordering for the class labels. All entries should be unique\n",
    "    # (cannot contain duplicate classes).\n",
    "    classes=None,\n",
    "    # -------------------------------------------------------------------------\n",
    "    # True if the returned array from transform is desired to be in sparse CSR\n",
    "    # format.\n",
    "    sparse_output=False,\n",
    ")\n",
    "\n",
    "multiLabelBinarizer.fit(y)\n",
    "\n",
    "multiLabelBinarizer.classes_"
   ]
  },
  {
   "cell_type": "code",
   "execution_count": 5,
   "id": "571fc54f-2900-4e04-a813-6b7ebaf26ba9",
   "metadata": {},
   "outputs": [
    {
     "data": {
      "text/plain": [
       "array([[0, 0, 1, 1, 1],\n",
       "       [0, 0, 1, 0, 0],\n",
       "       [1, 1, 0, 1, 0],\n",
       "       [1, 1, 1, 1, 1],\n",
       "       [1, 1, 1, 0, 0]])"
      ]
     },
     "execution_count": 5,
     "metadata": {},
     "output_type": "execute_result"
    }
   ],
   "source": [
    "multiLabelBinarizer.transform(y)"
   ]
  }
 ],
 "metadata": {
  "kernelspec": {
   "display_name": "Python 3 (ipykernel)",
   "language": "python",
   "name": "python3"
  },
  "language_info": {
   "codemirror_mode": {
    "name": "ipython",
    "version": 3
   },
   "file_extension": ".py",
   "mimetype": "text/x-python",
   "name": "python",
   "nbconvert_exporter": "python",
   "pygments_lexer": "ipython3",
   "version": "3.8.10"
  }
 },
 "nbformat": 4,
 "nbformat_minor": 5
}
