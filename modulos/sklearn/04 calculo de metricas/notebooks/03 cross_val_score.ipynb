{
 "cells": [
  {
   "attachments": {},
   "cell_type": "markdown",
   "id": "cea609ff-6d90-4d96-b66d-62593263433f",
   "metadata": {},
   "source": [
    "Evaluación de scores con cross_val_score --- 2:45\n",
    "===\n",
    "\n",
    "* Ultima modificación: 2023-02-27 | [YouTube](https://www.youtube.com/watch?v=EdOeyRCTDlw&list=PLEFpZ3YehTnCPxLgTaW4WnPZbLeilZERm&index=3)"
   ]
  },
  {
   "cell_type": "markdown",
   "id": "9d2e9638-d60d-49d6-9d49-d13f9a4aecb5",
   "metadata": {},
   "source": [
    "* Evalua una medida de score usando cross-validation."
   ]
  },
  {
   "cell_type": "code",
   "execution_count": 1,
   "id": "061778c7-cd06-47f5-95ef-a4af8885f9c1",
   "metadata": {},
   "outputs": [
    {
     "data": {
      "text/plain": [
       "array([0.3315057 , 0.08022103, 0.03531816])"
      ]
     },
     "execution_count": 1,
     "metadata": {},
     "output_type": "execute_result"
    }
   ],
   "source": [
    "import numpy as np\n",
    "from sklearn import datasets, linear_model\n",
    "from sklearn.model_selection import cross_val_score\n",
    "\n",
    "diabetes = datasets.load_diabetes()\n",
    "X = diabetes.data[:150]\n",
    "y = diabetes.target[:150]\n",
    "\n",
    "lasso = linear_model.Lasso()\n",
    "\n",
    "cross_val_score(\n",
    "    # -------------------------------------------------------------------------\n",
    "    # The object to use to fit the data. Must implement fit()\n",
    "    estimator=lasso,\n",
    "    # -------------------------------------------------------------------------\n",
    "    # The data to fit. Can be for example a list, or an array.\n",
    "    X=X,\n",
    "    # -------------------------------------------------------------------------\n",
    "    # The target variable to try to predict in the case of supervised learning.\n",
    "    y=y,\n",
    "    # -------------------------------------------------------------------------\n",
    "    # Group labels for the samples used while splitting the dataset into\n",
    "    # train/test set. Only used in conjunction with a “Group” cv instance\n",
    "    # (e.g., GroupKFold).\n",
    "    groups=None,\n",
    "    # -------------------------------------------------------------------------\n",
    "    # Determines the cross-validation splitting strategy.\n",
    "    cv=3,\n",
    "    # -------------------------------------------------------------------------\n",
    "    # The verbosity level.\n",
    "    verbose=0,\n",
    "    # -------------------------------------------------------------------------\n",
    "    # Parameters to pass to the fit method of the estimator.\n",
    "    fit_params=None,\n",
    "    # -------------------------------------------------------------------------\n",
    "    #\n",
    "    error_score=np.nan,\n",
    ")"
   ]
  }
 ],
 "metadata": {
  "kernelspec": {
   "display_name": ".venv",
   "language": "python",
   "name": "python3"
  },
  "language_info": {
   "codemirror_mode": {
    "name": "ipython",
    "version": 3
   },
   "file_extension": ".py",
   "mimetype": "text/x-python",
   "name": "python",
   "nbconvert_exporter": "python",
   "pygments_lexer": "ipython3",
   "version": "3.9.6"
  },
  "vscode": {
   "interpreter": {
    "hash": "c8417958a2afd1d92c64094979b89d5277c2b16f620ce08f575580358c337ec6"
   }
  }
 },
 "nbformat": 4,
 "nbformat_minor": 5
}
