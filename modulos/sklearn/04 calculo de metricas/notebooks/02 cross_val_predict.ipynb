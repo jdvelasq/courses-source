{
 "cells": [
  {
   "attachments": {},
   "cell_type": "markdown",
   "id": "695394b1-fbe5-4311-b6e7-258cd38eb421",
   "metadata": {},
   "source": [
    "Generación de estimados por cada entrada con cross_val_predict --- 2:57\n",
    "===\n",
    "\n",
    "* Ultima modificación: 2023-02-27 | [YouTube](https://www.youtube.com/watch?v=EdOeyRCTDlw&list=PLEFpZ3YehTnCPxLgTaW4WnPZbLeilZERm&index=2)"
   ]
  },
  {
   "cell_type": "markdown",
   "id": "108a1963-8f68-4445-81bc-e61ed9b01f37",
   "metadata": {},
   "source": [
    "* Genera estimados usando validación cruzada para cada punto del dataset."
   ]
  },
  {
   "cell_type": "markdown",
   "id": "dbe4fcb4-acb7-4641-94d4-5170501196bd",
   "metadata": {},
   "source": [
    "* Cada muestra pertenece únicamente a un test set, y es pronosticada con estimador entrenado sobre el correspondiente fit test."
   ]
  },
  {
   "cell_type": "markdown",
   "id": "c8ff0b35-a804-4d33-8498-b832522b8e94",
   "metadata": {},
   "source": [
    "* Los resultados no se deben usar con una métrica de evaluación para medir la generalización."
   ]
  },
  {
   "cell_type": "code",
   "execution_count": 1,
   "id": "e17ae2b1-fd77-4130-a212-0696dec245d3",
   "metadata": {},
   "outputs": [
    {
     "data": {
      "text/plain": [
       "array([174.26880804, 117.65351812, 164.60139517, 155.64896614,\n",
       "       132.68760433, 128.49628881, 120.76054246, 141.06973577,\n",
       "       164.18815157, 182.37359235, 111.04089197, 127.94301803,\n",
       "       135.08790036, 162.83048118, 135.35840097, 157.646062  ,\n",
       "       178.95718913, 163.39063561, 143.8537171 , 144.29750064,\n",
       "       133.58233051, 124.77837092, 132.90970661, 208.52815059,\n",
       "       153.61883822, 154.16510156, 118.95406457, 163.50463573,\n",
       "       145.89310221, 168.33041101, 155.87407921, 123.45950035,\n",
       "       185.70488949, 133.38607278, 117.27952346, 150.27889968,\n",
       "       174.15239599, 160.03182658, 192.31482952, 161.58472303,\n",
       "       154.22198208, 119.3542199 , 146.15701123, 133.82133127,\n",
       "       179.68058182, 137.96512787, 146.07828391, 126.77695128,\n",
       "       123.32171096, 166.26579186, 146.41482006, 161.67179165,\n",
       "       147.47956035, 138.44754455, 144.85639621, 113.77894392,\n",
       "       185.54822207, 115.3184268 , 142.23537263, 171.07810595,\n",
       "       132.53792741, 177.804149  , 116.56316924, 134.25390247,\n",
       "       142.88636755, 173.2810216 , 154.3131706 , 149.16866669,\n",
       "       144.88198422, 121.97620921, 110.38264649, 180.256848  ,\n",
       "       199.05936395, 151.12103871, 161.14084613, 153.96825789,\n",
       "       150.77351299, 113.30728681, 165.15799964, 115.85653979,\n",
       "       174.19357338, 150.11981272, 115.47896755, 153.38941372,\n",
       "       115.31491321, 156.50136756,  92.62132743, 178.15703742,\n",
       "       131.59414072, 134.4595406 , 116.97477767, 190.00997209,\n",
       "       166.01073896, 126.26094663, 134.29467801, 144.72144347,\n",
       "       190.97839825, 182.39093099, 154.45282532, 148.30386965,\n",
       "       151.72181945, 124.12933168, 138.60217036, 137.75932827,\n",
       "       123.09198296, 131.74775137, 112.07413774, 124.56829499,\n",
       "       156.78556054, 128.63113028,  93.68261606, 130.54248822,\n",
       "       131.86857136, 154.57121467, 179.8136611 , 165.78203933,\n",
       "       150.04784865, 162.3802658 , 143.92902775, 143.15527739,\n",
       "       125.20186268, 145.99563268, 155.35031858, 145.97631553,\n",
       "       134.66102139, 163.92609605, 101.92269793, 139.32878073,\n",
       "       122.714843  , 152.20573137, 153.36795743, 116.76441525,\n",
       "       131.96912343, 109.7467123 , 132.57442844, 159.38054395,\n",
       "       109.31271822, 147.69895686, 156.36777035, 161.12384083,\n",
       "       128.16629451, 156.784652  , 154.04498872, 124.83843865,\n",
       "       143.85525003, 143.23635903, 147.76264284, 154.21725374,\n",
       "       129.08004207, 157.79641814])"
      ]
     },
     "execution_count": 1,
     "metadata": {},
     "output_type": "execute_result"
    }
   ],
   "source": [
    "from sklearn import datasets, linear_model\n",
    "from sklearn.model_selection import cross_val_predict\n",
    "\n",
    "diabetes = datasets.load_diabetes()\n",
    "X = diabetes.data[:150]\n",
    "y = diabetes.target[:150]\n",
    "\n",
    "lasso = linear_model.Lasso()\n",
    "\n",
    "y_pred = cross_val_predict(\n",
    "    # -------------------------------------------------------------------------\n",
    "    # The object to use to fit the data. Must implement fit() \n",
    "    estimator=lasso,\n",
    "    # -------------------------------------------------------------------------\n",
    "    # The data to fit. Can be for example a list, or an array.\n",
    "    X=X,\n",
    "    # -------------------------------------------------------------------------\n",
    "    # The target variable to try to predict in the case of supervised learning.\n",
    "    y=y,\n",
    "    # -------------------------------------------------------------------------\n",
    "    # Group labels for the samples used while splitting the dataset into \n",
    "    # train/test set. Only used in conjunction with a “Group” cv instance\n",
    "    # (e.g., GroupKFold).\n",
    "    groups=None,\n",
    "    # -------------------------------------------------------------------------\n",
    "    # Determines the cross-validation splitting strategy. \n",
    "    cv=3,\n",
    "    # -------------------------------------------------------------------------\n",
    "    # The verbosity level.\n",
    "    verbose=0,\n",
    "    # -------------------------------------------------------------------------\n",
    "    # Parameters to pass to the fit method of the estimator.\n",
    "    fit_params=None,\n",
    "    # -------------------------------------------------------------------------\n",
    "    # The method to be invoked by estimator.\n",
    "    # * 'predict' \n",
    "    # * 'predict_proba' \n",
    "    # * 'predict_log_proba'\n",
    "    # * 'decision_function'\n",
    "    method='predict',\n",
    ")\n",
    "\n",
    "y_pred"
   ]
  }
 ],
 "metadata": {
  "kernelspec": {
   "display_name": ".venv",
   "language": "python",
   "name": "python3"
  },
  "language_info": {
   "codemirror_mode": {
    "name": "ipython",
    "version": 3
   },
   "file_extension": ".py",
   "mimetype": "text/x-python",
   "name": "python",
   "nbconvert_exporter": "python",
   "pygments_lexer": "ipython3",
   "version": "3.9.6"
  },
  "vscode": {
   "interpreter": {
    "hash": "c8417958a2afd1d92c64094979b89d5277c2b16f620ce08f575580358c337ec6"
   }
  }
 },
 "nbformat": 4,
 "nbformat_minor": 5
}
