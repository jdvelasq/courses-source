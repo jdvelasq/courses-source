{
 "cells": [
  {
   "attachments": {},
   "cell_type": "markdown",
   "id": "70639fcb-cca7-4f82-9eac-6c49becc985a",
   "metadata": {},
   "source": [
    "Evaluación de métricas con cross_validate --- 6:44\n",
    "===\n",
    "\n",
    "* Ultima modificación: 2023-02-27 | [YouTube](https://www.youtube.com/watch?v=EdOeyRCTDlw&list=PLEFpZ3YehTnCPxLgTaW4WnPZbLeilZERm&index=1)"
   ]
  },
  {
   "cell_type": "markdown",
   "id": "3535be06-9e1e-44e8-a17d-95c81be3a94a",
   "metadata": {},
   "source": [
    "Evalua las métricas indicadas para cada uno de los grupos de test generados cuando se usa un esquema de validación cruzada."
   ]
  },
  {
   "cell_type": "markdown",
   "id": "52f84967-efa5-4a4e-8404-00bb93a7b955",
   "metadata": {},
   "source": [
    "* Permite muliples métricas para evaluación."
   ]
  },
  {
   "cell_type": "markdown",
   "id": "62db8c02-40a7-4689-9955-f5792c11e23e",
   "metadata": {},
   "source": [
    "* Retorna un diccionario conteniendo los tiempos de entrenamiento y scoring, y el resultado del test."
   ]
  },
  {
   "cell_type": "code",
   "execution_count": 1,
   "id": "439726c5-6ed2-41e9-b041-4e87647d2786",
   "metadata": {},
   "outputs": [],
   "source": [
    "from sklearn import datasets, linear_model\n",
    "from sklearn.metrics import confusion_matrix, make_scorer\n",
    "from sklearn.model_selection import cross_validate\n",
    "from sklearn.svm import LinearSVC\n",
    "import numpy as np\n",
    "\n",
    "\n",
    "diabetes = datasets.load_diabetes()\n",
    "X = diabetes.data[:150]\n",
    "y = diabetes.target[:150]\n",
    "\n",
    "estimator = linear_model.Lasso()"
   ]
  },
  {
   "cell_type": "code",
   "execution_count": 2,
   "id": "e579e15d-8ac3-4e08-9d96-503e01dd337a",
   "metadata": {},
   "outputs": [
    {
     "data": {
      "text/plain": [
       "['fit_time', 'score_time', 'test_score']"
      ]
     },
     "execution_count": 2,
     "metadata": {},
     "output_type": "execute_result"
    }
   ],
   "source": [
    "cv_results = cross_validate(\n",
    "    # -------------------------------------------------------------------------\n",
    "    # The object to use to fit the data. Must implement fit() \n",
    "    estimator=estimator,\n",
    "    # -------------------------------------------------------------------------\n",
    "    # The data to fit. Can be for example a list, or an array.\n",
    "    X=X,\n",
    "    # -------------------------------------------------------------------------\n",
    "    # The target variable to try to predict in the case of supervised learning.\n",
    "    y=y,\n",
    "    # -------------------------------------------------------------------------\n",
    "    # Group labels for the samples used while splitting the dataset into \n",
    "    # train/test set. Only used in conjunction with a “Group” cv instance\n",
    "    # (e.g., GroupKFold).\n",
    "    groups=None,\n",
    "    # -------------------------------------------------------------------------\n",
    "    # Strategy to evaluate the performance of the cross-validated model on the\n",
    "    # test set.\n",
    "    scoring=None,\n",
    "    # -------------------------------------------------------------------------\n",
    "    # Determines the cross-validation splitting strategy. \n",
    "    cv=3,\n",
    "    # -------------------------------------------------------------------------\n",
    "    # The verbosity level.\n",
    "    verbose=0,\n",
    "    # -------------------------------------------------------------------------\n",
    "    # Parameters to pass to the fit method of the estimator.\n",
    "    fit_params=None,\n",
    "    # -------------------------------------------------------------------------\n",
    "    # Whether to include train scores. \n",
    "    return_train_score=False,\n",
    "    # -------------------------------------------------------------------------\n",
    "    # Whether to return the estimators fitted on each split.\n",
    "    return_estimator=False,\n",
    "    # -------------------------------------------------------------------------\n",
    "    # Value to assign to the score if an error occurs in estimator fitting.\n",
    "    error_score=np.nan,\n",
    ")\n",
    "\n",
    "sorted(cv_results.keys())"
   ]
  },
  {
   "cell_type": "code",
   "execution_count": 3,
   "id": "5155f0af-fdf1-4b95-98f0-ea7eca766e55",
   "metadata": {},
   "outputs": [
    {
     "data": {
      "text/plain": [
       "array([0.3315057 , 0.08022103, 0.03531816])"
      ]
     },
     "execution_count": 3,
     "metadata": {},
     "output_type": "execute_result"
    }
   ],
   "source": [
    "cv_results[\"test_score\"]"
   ]
  },
  {
   "cell_type": "code",
   "execution_count": 4,
   "id": "bf70e8d6-2800-4d09-951b-891277873125",
   "metadata": {},
   "outputs": [
    {
     "data": {
      "text/plain": [
       "array([-3635.52042005, -3573.35050281, -6114.77901585])"
      ]
     },
     "execution_count": 4,
     "metadata": {},
     "output_type": "execute_result"
    }
   ],
   "source": [
    "scores = cross_validate(\n",
    "    estimator,\n",
    "    X,\n",
    "    y,\n",
    "    cv=3,\n",
    "    scoring=(\"r2\", \"neg_mean_squared_error\"),\n",
    "    return_train_score=True,\n",
    ")\n",
    "\n",
    "scores[\"test_neg_mean_squared_error\"]"
   ]
  },
  {
   "cell_type": "code",
   "execution_count": 5,
   "id": "b4d4f721-cb71-4599-be76-15a933a6e94a",
   "metadata": {},
   "outputs": [
    {
     "data": {
      "text/plain": [
       "array([0.28009951, 0.3908844 , 0.22784907])"
      ]
     },
     "execution_count": 5,
     "metadata": {},
     "output_type": "execute_result"
    }
   ],
   "source": [
    "scores[\"train_r2\"]"
   ]
  },
  {
   "cell_type": "code",
   "execution_count": 6,
   "id": "104769fa-523f-4231-92b5-b503cde84056",
   "metadata": {},
   "outputs": [
    {
     "data": {
      "text/plain": [
       "[Lasso(), Lasso(), Lasso()]"
      ]
     },
     "execution_count": 6,
     "metadata": {},
     "output_type": "execute_result"
    }
   ],
   "source": [
    "scores = cross_validate(\n",
    "    estimator,\n",
    "    X,\n",
    "    y,\n",
    "    cv=3,\n",
    "    scoring=(\"r2\", \"neg_mean_squared_error\"),\n",
    "    return_estimator=True,\n",
    ")\n",
    "\n",
    "scores['estimator']"
   ]
  }
 ],
 "metadata": {
  "kernelspec": {
   "display_name": ".venv",
   "language": "python",
   "name": "python3"
  },
  "language_info": {
   "codemirror_mode": {
    "name": "ipython",
    "version": 3
   },
   "file_extension": ".py",
   "mimetype": "text/x-python",
   "name": "python",
   "nbconvert_exporter": "python",
   "pygments_lexer": "ipython3",
   "version": "3.9.6"
  },
  "vscode": {
   "interpreter": {
    "hash": "c8417958a2afd1d92c64094979b89d5277c2b16f620ce08f575580358c337ec6"
   }
  }
 },
 "nbformat": 4,
 "nbformat_minor": 5
}
