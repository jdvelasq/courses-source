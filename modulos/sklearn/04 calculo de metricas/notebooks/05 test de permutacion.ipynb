{
 "cells": [
  {
   "attachments": {},
   "cell_type": "markdown",
   "id": "aab41491-8d36-4678-aa72-536abbdf2f7a",
   "metadata": {},
   "source": [
    "Test de permutación de un score con permutation_test_score --- 7:34\n",
    "===\n",
    "\n",
    "* Ultima modificación: 2023-02-27 | [YouTube](https://www.youtube.com/watch?v=EdOeyRCTDlw&list=PLEFpZ3YehTnCPxLgTaW4WnPZbLeilZERm&index=5)"
   ]
  },
  {
   "cell_type": "markdown",
   "id": "1d6f8960-83c4-4e73-b666-c2d6eb429b80",
   "metadata": {},
   "source": [
    "* Evalua la significancia de un score computado con validación cruzada usando permutaciones."
   ]
  },
  {
   "cell_type": "markdown",
   "id": "cf624185-d369-4b37-bfb9-322acfc969e6",
   "metadata": {},
   "source": [
    "* Se permuta la variable de salida para generar datos aleatorios y computar un valor p empírico en contra de la hipótesis nula de que las variables de entrada y la salida son independientes."
   ]
  },
  {
   "cell_type": "markdown",
   "id": "f88265c9-aadb-4b29-bf65-534b7f3e0dc7",
   "metadata": {},
   "source": [
    "Datos\n",
    "---"
   ]
  },
  {
   "cell_type": "code",
   "execution_count": 1,
   "id": "7f125aad-b1d0-4688-91eb-97946b85a7ba",
   "metadata": {},
   "outputs": [],
   "source": [
    "from sklearn.datasets import load_iris\n",
    "\n",
    "iris = load_iris()\n",
    "X = iris.data\n",
    "y = iris.target"
   ]
  },
  {
   "cell_type": "markdown",
   "id": "9aba0342-93e0-48b9-96eb-24f6154a9d74",
   "metadata": {},
   "source": [
    "Experimento 1\n",
    "---"
   ]
  },
  {
   "cell_type": "code",
   "execution_count": 2,
   "id": "2c7a4f93-78ba-4a87-a4dc-a9e8fac1dd77",
   "metadata": {},
   "outputs": [
    {
     "data": {
      "text/plain": [
       "0.9666666666666667"
      ]
     },
     "execution_count": 2,
     "metadata": {},
     "output_type": "execute_result"
    }
   ],
   "source": [
    "from sklearn.model_selection import StratifiedKFold, permutation_test_score\n",
    "from sklearn.svm import SVC\n",
    "\n",
    "clf = SVC(kernel=\"linear\", random_state=7)\n",
    "cv = StratifiedKFold(2, shuffle=True, random_state=0)\n",
    "\n",
    "score, permutation_scores, pvalue = permutation_test_score(\n",
    "    # -------------------------------------------------------------------------\n",
    "    # The object to use to fit the data.\n",
    "    estimator=clf,\n",
    "    # -------------------------------------------------------------------------\n",
    "    # The data to fit.\n",
    "    X=X,\n",
    "    # -------------------------------------------------------------------------\n",
    "    # The target variable to try to predict in the case of supervised learning.\n",
    "    y=y,\n",
    "    # -------------------------------------------------------------------------\n",
    "    # Labels to constrain permutation within groups, i.e. y values are permuted\n",
    "    # among samples with the same group identifier. When not specified, \n",
    "    # y values are permuted among all samples.\n",
    "    groups=None,\n",
    "    # -------------------------------------------------------------------------\n",
    "    # Metric\n",
    "    scoring=\"accuracy\",\n",
    "    # -------------------------------------------------------------------------\n",
    "    # Determines the cross-validation splitting strategy. \n",
    "    cv=cv,\n",
    "    # -------------------------------------------------------------------------\n",
    "    # Number of times to permute y.\n",
    "    n_permutations=1000,\n",
    "    # -------------------------------------------------------------------------\n",
    "    # Pass an int for reproducible output for permutation of y values among\n",
    "    # samples.\n",
    "    random_state=0,\n",
    "    # -------------------------------------------------------------------------\n",
    "    # The verbosity level.\n",
    "    verbose=0,\n",
    "    # -------------------------------------------------------------------------\n",
    "    # Parameters to pass to the fit method of the estimator.\n",
    "    fit_params=None,\n",
    ")\n",
    "\n",
    "score"
   ]
  },
  {
   "cell_type": "code",
   "execution_count": 3,
   "id": "58e04f10-fbc0-4c54-affd-89f56d211894",
   "metadata": {},
   "outputs": [
    {
     "data": {
      "text/plain": [
       "array([0.33333333, 0.26      , 0.35333333, 0.37333333, 0.33333333,\n",
       "       0.36666667, 0.34      , 0.38      , 0.36666667, 0.34666667])"
      ]
     },
     "execution_count": 3,
     "metadata": {},
     "output_type": "execute_result"
    }
   ],
   "source": [
    "permutation_scores[:10]"
   ]
  },
  {
   "cell_type": "code",
   "execution_count": 4,
   "id": "41f1ab2a-c2a7-41ab-821b-066d25d0a306",
   "metadata": {},
   "outputs": [
    {
     "data": {
      "text/plain": [
       "0.000999000999000999"
      ]
     },
     "execution_count": 4,
     "metadata": {},
     "output_type": "execute_result"
    }
   ],
   "source": [
    "pvalue"
   ]
  },
  {
   "cell_type": "code",
   "execution_count": 5,
   "id": "65b6fc26-1001-48a0-9dca-9a357428f683",
   "metadata": {},
   "outputs": [
    {
     "data": {
      "image/png": "[encoded data removed]",
      "text/plain": [
       "<Figure size 640x480 with 1 Axes>"
      ]
     },
     "metadata": {},
     "output_type": "display_data"
    }
   ],
   "source": [
    "import matplotlib.pyplot as plt\n",
    "\n",
    "fig, ax = plt.subplots()\n",
    "\n",
    "ax.hist(permutation_scores, bins=20, density=True)\n",
    "ax.axvline(score, ls=\"--\", color=\"r\")\n",
    "score_label = f\"Score on original\\ndata: {score:.2f}\\n(p-value: {pvalue:.3f})\"\n",
    "ax.text(0.7, 10, score_label, fontsize=12)\n",
    "ax.set_xlabel(\"Accuracy score\")\n",
    "ax.set_ylabel(\"Probability\")\n",
    "plt.show()"
   ]
  },
  {
   "cell_type": "markdown",
   "id": "17cedfda-3571-4863-83e8-417ddfd38155",
   "metadata": {},
   "source": [
    "Experimento 2\n",
    "---"
   ]
  },
  {
   "cell_type": "code",
   "execution_count": 6,
   "id": "46a2de23-0bf8-448f-b6c7-3a8da8c2e3fd",
   "metadata": {},
   "outputs": [],
   "source": [
    "import numpy as np\n",
    "\n",
    "n_uncorrelated_features = 20\n",
    "rng = np.random.RandomState(seed=0)\n",
    "X_rand = rng.normal(size=(X.shape[0], n_uncorrelated_features))"
   ]
  },
  {
   "cell_type": "code",
   "execution_count": 7,
   "id": "fb1c26b2-2947-4de8-aa8a-0fcd6a1657bd",
   "metadata": {},
   "outputs": [
    {
     "data": {
      "text/plain": [
       "0.30000000000000004"
      ]
     },
     "execution_count": 7,
     "metadata": {},
     "output_type": "execute_result"
    }
   ],
   "source": [
    "score, permutation_scores, pvalue = permutation_test_score(\n",
    "    clf,\n",
    "    X_rand,\n",
    "    y,\n",
    "    scoring=\"accuracy\",\n",
    "    cv=cv,\n",
    "    n_permutations=1000,\n",
    ")\n",
    "\n",
    "score"
   ]
  },
  {
   "cell_type": "code",
   "execution_count": 8,
   "id": "1252631b-a942-4449-9dfd-2e3925c2e7b3",
   "metadata": {},
   "outputs": [
    {
     "data": {
      "text/plain": [
       "array([0.39333333, 0.28666667, 0.34      , 0.28      , 0.32      ,\n",
       "       0.28      , 0.33333333, 0.31333333, 0.34      , 0.29333333])"
      ]
     },
     "execution_count": 8,
     "metadata": {},
     "output_type": "execute_result"
    }
   ],
   "source": [
    "permutation_scores[:10]"
   ]
  },
  {
   "cell_type": "code",
   "execution_count": 9,
   "id": "524e1600-210c-44c5-8fad-60277f5396eb",
   "metadata": {},
   "outputs": [
    {
     "data": {
      "text/plain": [
       "0.7772227772227772"
      ]
     },
     "execution_count": 9,
     "metadata": {},
     "output_type": "execute_result"
    }
   ],
   "source": [
    "pvalue"
   ]
  },
  {
   "cell_type": "code",
   "execution_count": 10,
   "id": "a363fc8e-1ac9-46ea-b57d-fbe38641448a",
   "metadata": {},
   "outputs": [
    {
     "data": {
      "image/png": "[encoded data removed]",
      "text/plain": [
       "<Figure size 640x480 with 1 Axes>"
      ]
     },
     "metadata": {},
     "output_type": "display_data"
    }
   ],
   "source": [
    "import matplotlib.pyplot as plt\n",
    "\n",
    "fig, ax = plt.subplots()\n",
    "\n",
    "ax.hist(permutation_scores, bins=20, density=True)\n",
    "ax.axvline(score, ls=\"--\", color=\"r\")\n",
    "score_label = f\"Score on original\\ndata: {score:.2f}\\n(p-value: {pvalue:.3f})\"\n",
    "ax.text(0.7, 10, score_label, fontsize=12)\n",
    "ax.set_xlabel(\"Accuracy score\")\n",
    "ax.set_ylabel(\"Probability\")\n",
    "plt.show()"
   ]
  }
 ],
 "metadata": {
  "kernelspec": {
   "display_name": ".venv",
   "language": "python",
   "name": "python3"
  },
  "language_info": {
   "codemirror_mode": {
    "name": "ipython",
    "version": 3
   },
   "file_extension": ".py",
   "mimetype": "text/x-python",
   "name": "python",
   "nbconvert_exporter": "python",
   "pygments_lexer": "ipython3",
   "version": "3.9.6"
  },
  "vscode": {
   "interpreter": {
    "hash": "c8417958a2afd1d92c64094979b89d5277c2b16f620ce08f575580358c337ec6"
   }
  }
 },
 "nbformat": 4,
 "nbformat_minor": 5
}
