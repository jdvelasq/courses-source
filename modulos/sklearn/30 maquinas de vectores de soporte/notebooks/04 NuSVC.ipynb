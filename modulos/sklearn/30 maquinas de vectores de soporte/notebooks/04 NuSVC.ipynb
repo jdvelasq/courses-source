{
 "cells": [
  {
   "cell_type": "markdown",
   "id": "6b15d35f-e155-440e-8484-486f8408cc83",
   "metadata": {},
   "source": [
    "NuSVC: Nu-Support Vector Classification\n",
    "=="
   ]
  },
  {
   "cell_type": "markdown",
   "id": "f56896c3-3e59-441d-ac7f-add6bdbfad01",
   "metadata": {},
   "source": [
    "* Es una reparametrización matematicamente equivalente de la $C$-SVC."
   ]
  },
  {
   "cell_type": "markdown",
   "id": "0a69a672-b6fb-4687-b53c-c9ce53f409d9",
   "metadata": {},
   "source": [
    "* El parámetro $\\nu$ reemplaza a $C$ y controla el número de vectors de soporte."
   ]
  },
  {
   "cell_type": "code",
   "execution_count": 1,
   "id": "b34a902e-be4e-467a-a866-67da9dfceb1d",
   "metadata": {},
   "outputs": [],
   "source": [
    "import numpy as np\n",
    "\n",
    "X = np.array([[-1, -1], [-2, -1], [1, 1], [2, 1]])\n",
    "y = np.array([1, 1, 2, 2])"
   ]
  },
  {
   "cell_type": "code",
   "execution_count": 2,
   "id": "c89765bd-4cf6-4f71-bed1-38584eb14785",
   "metadata": {},
   "outputs": [
    {
     "data": {
      "text/plain": [
       "array([1, 1, 2, 2])"
      ]
     },
     "execution_count": 2,
     "metadata": {},
     "output_type": "execute_result"
    }
   ],
   "source": [
    "from sklearn.svm import NuSVC\n",
    "\n",
    "nuSVC = NuSVC(\n",
    "    # ----------------------------------------------------------------------------\n",
    "    # An upper bound on the fraction of margin errors (see User Guide) and a\n",
    "    # lower bound of the fraction of support vectors. Should be in the interval\n",
    "    # (0, 1].\n",
    "    nu=0.5,\n",
    "    # ----------------------------------------------------------------------------\n",
    "    # Specifies the kernel type to be used in the algorithm. If none is given,\n",
    "    # ‘rbf’ will be used.\n",
    "    # * 'linear'\n",
    "    # * 'poly'\n",
    "    # * rbf'\n",
    "    # * 'sigmoid'\n",
    "    kernel=\"rbf\",\n",
    "    # ----------------------------------------------------------------------------\n",
    "    # Degree of the polynomial kernel function (‘poly’). Must be non-negative.\n",
    "    # Ignored by all other kernels.\n",
    "    degree=3,\n",
    "    # ----------------------------------------------------------------------------\n",
    "    # Kernel coefficient for ‘rbf’, ‘poly’ and ‘sigmoid’.\n",
    "    # * if gamma='scale' (default) is passed then it uses\n",
    "    #   1 / (n_features * X.var()) as value of gamma,\n",
    "    # * if ‘auto’, uses 1 / n_features\n",
    "    # * if float, must be non-negative.\n",
    "    gamma=\"scale\",\n",
    "    # ----------------------------------------------------------------------------\n",
    "    # Independent term in kernel function. It is only significant in ‘poly’ and\n",
    "    # ‘sigmoid’.\n",
    "    coef0=0.0,\n",
    "    # ----------------------------------------------------------------------------\n",
    "    # Whether to enable probability estimates. This must be enabled prior to\n",
    "    # calling fit, will slow down that method as it internally uses 5-fold\n",
    "    # cross-validation, and predict_proba may be inconsistent with predict.\n",
    "    probability=False,\n",
    "    # ----------------------------------------------------------------------------\n",
    "    # Tolerance for stopping criterion.\n",
    "    tol=1e-3,\n",
    "    # ----------------------------------------------------------------------------\n",
    "    # Set the parameter C of class i to class_weight[i]*C for SVC. If not given,\n",
    "    #  all classes are supposed to have weight one. The “balanced” mode uses the\n",
    "    # values of y to automatically adjust weights inversely proportional to\n",
    "    # class frequencies as n_samples / (n_classes * np.bincount(y)).\n",
    "    class_weight=None,\n",
    "    # ----------------------------------------------------------------------------\n",
    "    # Hard limit on iterations within solver, or -1 for no limit.\n",
    "    max_iter=-1,\n",
    "    # ----------------------------------------------------------------------------\n",
    "    # Whether to return a one-vs-rest (‘ovr’) decision function of shape\n",
    "    # (n_samples, n_classes) as all other classifiers, or the original\n",
    "    # one-vs-one (‘ovo’) decision function of libsvm which has shape\n",
    "    # (n_samples, n_classes * (n_classes - 1) / 2). However, one-vs-one (‘ovo’)\n",
    "    # is always used as multi-class strategy. The parameter is ignored for\n",
    "    # binary classification.\n",
    "    decision_function_shape=\"ovr\",\n",
    "    # ----------------------------------------------------------------------------\n",
    "    # Controls the pseudo random number generation for shuffling the data for\n",
    "    # probability estimates. Ignored when probability is False. Pass an int for\n",
    "    # reproducible output across multiple function calls.\n",
    "    random_state=None,\n",
    ")\n",
    "\n",
    "nuSVC.fit(X, y)\n",
    "nuSVC.predict(X)"
   ]
  },
  {
   "cell_type": "code",
   "execution_count": 3,
   "id": "728c389a-f0f5-4a65-935e-4425d9167e5a",
   "metadata": {},
   "outputs": [
    {
     "data": {
      "text/plain": [
       "array([[-0.73537894, -0.46684045,  0.73597922,  0.46624018]])"
      ]
     },
     "execution_count": 3,
     "metadata": {},
     "output_type": "execute_result"
    }
   ],
   "source": [
    "nuSVC.dual_coef_"
   ]
  },
  {
   "cell_type": "code",
   "execution_count": 4,
   "id": "ae91eddb-b276-4d98-9da8-e439af49fd14",
   "metadata": {},
   "outputs": [
    {
     "data": {
      "text/plain": [
       "array([-1.47673101e-05])"
      ]
     },
     "execution_count": 4,
     "metadata": {},
     "output_type": "execute_result"
    }
   ],
   "source": [
    "nuSVC.intercept_"
   ]
  },
  {
   "cell_type": "code",
   "execution_count": 5,
   "id": "40a748ad-c562-4235-9931-580e7750282f",
   "metadata": {},
   "outputs": [
    {
     "data": {
      "text/plain": [
       "array([0, 1, 2, 3], dtype=int32)"
      ]
     },
     "execution_count": 5,
     "metadata": {},
     "output_type": "execute_result"
    }
   ],
   "source": [
    "nuSVC.support_"
   ]
  },
  {
   "cell_type": "code",
   "execution_count": 6,
   "id": "71a3992b-dfb2-4c44-8df2-fd3ba8548f5d",
   "metadata": {},
   "outputs": [
    {
     "data": {
      "text/plain": [
       "array([[-1., -1.],\n",
       "       [-2., -1.],\n",
       "       [ 1.,  1.],\n",
       "       [ 2.,  1.]])"
      ]
     },
     "execution_count": 6,
     "metadata": {},
     "output_type": "execute_result"
    }
   ],
   "source": [
    "nuSVC.support_vectors_"
   ]
  },
  {
   "cell_type": "code",
   "execution_count": 7,
   "id": "6ce62017-d37d-4948-8881-4e86d4067c98",
   "metadata": {},
   "outputs": [
    {
     "data": {
      "text/plain": [
       "array([2, 2], dtype=int32)"
      ]
     },
     "execution_count": 7,
     "metadata": {},
     "output_type": "execute_result"
    }
   ],
   "source": [
    "# Number of support vectors for each class.\n",
    "nuSVC.n_support_"
   ]
  }
 ],
 "metadata": {
  "kernelspec": {
   "display_name": "Python 3 (ipykernel)",
   "language": "python",
   "name": "python3"
  },
  "language_info": {
   "codemirror_mode": {
    "name": "ipython",
    "version": 3
   },
   "file_extension": ".py",
   "mimetype": "text/x-python",
   "name": "python",
   "nbconvert_exporter": "python",
   "pygments_lexer": "ipython3",
   "version": "3.8.10"
  }
 },
 "nbformat": 4,
 "nbformat_minor": 5
}
