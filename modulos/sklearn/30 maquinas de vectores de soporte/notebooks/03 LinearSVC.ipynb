{
 "cells": [
  {
   "cell_type": "markdown",
   "id": "7c322504-53b2-45e9-842e-699096309919",
   "metadata": {},
   "source": [
    "LinearSVC\n",
    "=="
   ]
  },
  {
   "cell_type": "markdown",
   "id": "6b30b87f-c884-48a1-aeb4-fded94a74382",
   "metadata": {},
   "source": [
    "* Corresponde al modelo SVC con kernel lineal."
   ]
  },
  {
   "cell_type": "markdown",
   "id": "95a686b7-ba1a-4a48-8786-f3a7da26972c",
   "metadata": {},
   "source": [
    "* Sus parámetros se calculan solucionando la ecuación:\n",
    "\n",
    "$$\n",
    "\\min_{w,b} \\frac{1}{2} w^T w + C \\sum_{i=1}^n \\max \\left(0, 1-y_i \\left( w^T \\phi(x_i)+ b \\right) \\right)\n",
    "$$"
   ]
  },
  {
   "cell_type": "markdown",
   "id": "764a6c76-fe2b-45f7-bd72-1492d30372df",
   "metadata": {},
   "source": [
    "* Se usa la función de hinge (o hinge2) como métrica de error."
   ]
  },
  {
   "cell_type": "code",
   "execution_count": 1,
   "id": "9b5a095b-61b6-4207-9af1-6a5feda0ef1d",
   "metadata": {},
   "outputs": [],
   "source": [
    "from sklearn.datasets import make_blobs\n",
    "\n",
    "NPOINTS = 150\n",
    "\n",
    "X, d = make_blobs(\n",
    "    n_samples=NPOINTS,\n",
    "    n_features=2,\n",
    "    centers=3,\n",
    "    cluster_std=0.8,\n",
    "    shuffle=False,\n",
    "    random_state=12345,\n",
    ")"
   ]
  },
  {
   "cell_type": "code",
   "execution_count": 2,
   "id": "17ea96c7-f446-4293-9a63-33aae992c411",
   "metadata": {},
   "outputs": [
    {
     "data": {
      "text/plain": [
       "array([0, 0, 0, 0, 0, 0, 0, 0, 0, 0, 0, 0, 0, 0, 0, 0, 0, 0, 0, 0, 0, 0,\n",
       "       0, 0, 0, 0, 0, 0, 0, 0, 0, 0, 0, 0, 0, 0, 0, 0, 0, 0, 0, 0, 0, 0,\n",
       "       0, 0, 0, 0, 0, 0, 1, 1, 1, 1, 1, 1, 1, 1, 1, 1, 1, 1, 1, 1, 1, 1,\n",
       "       1, 1, 1, 1, 1, 1, 1, 1, 1, 1, 1, 1, 1, 1, 1, 1, 1, 1, 1, 1, 1, 1,\n",
       "       1, 1, 1, 1, 1, 1, 1, 1, 1, 1, 1, 1, 2, 2, 2, 2, 2, 2, 2, 2, 2, 2,\n",
       "       2, 2, 2, 2, 2, 2, 2, 2, 2, 2, 2, 2, 2, 2, 2, 2, 2, 2, 2, 2, 2, 2,\n",
       "       2, 2, 2, 2, 2, 2, 2, 2, 2, 2, 2, 2, 2, 2, 2, 2, 2, 2])"
      ]
     },
     "execution_count": 2,
     "metadata": {},
     "output_type": "execute_result"
    }
   ],
   "source": [
    "from sklearn.svm import LinearSVC\n",
    "\n",
    "linearSVC = LinearSVC(\n",
    "    # --------------------------------------------------------------------------\n",
    "    # Specifies the norm used in the penalization {'l1', 'l2'}. The ‘l2’ \n",
    "    # penalty is the standard used in SVC. \n",
    "    penalty='l2',\n",
    "    # --------------------------------------------------------------------------\n",
    "    # Specifies the loss function. ‘hinge’ is the standard SVM loss (used e.g. \n",
    "    # by the SVC class) while ‘squared_hinge’ is the square of the hinge loss. \n",
    "    # The combination of penalty='l1' and loss='hinge' is not supported.\n",
    "    loss='hinge',\n",
    "    # --------------------------------------------------------------------------\n",
    "    # Tolerance for stopping criterion.\n",
    "    tol=1e-3,\n",
    "    # --------------------------------------------------------------------------\n",
    "    # Regularization parameter. The strength of the regularization is inversely\n",
    "    # proportional to C. Must be strictly positive.\n",
    "    # penalty.\n",
    "    C=1,\n",
    "    # --------------------------------------------------------------------------\n",
    "    # Whether to calculate the intercept for this model. If set to false, no \n",
    "    # intercept will be used in calculations\n",
    "    fit_intercept=True,\n",
    "    # --------------------------------------------------------------------------\n",
    "    # When self.fit_intercept is True, instance vector x becomes \n",
    "    # [x, self.intercept_scaling], i.e. a “synthetic” feature with constant \n",
    "    # value equals to intercept_scaling is appended to the instance vector. The\n",
    "    # intercept becomes intercept_scaling * synthetic feature weight Note! the\n",
    "    # synthetic feature weight is subject to l1/l2 regularization as all other \n",
    "    # features. To lessen the effect of regularization on synthetic feature \n",
    "    # weight (and therefore on the intercept) intercept_scaling has to be \n",
    "    # increased.\n",
    "    intercept_scaling=1.0,\n",
    "    # --------------------------------------------------------------------------\n",
    "    # Set the parameter C of class i to class_weight[i]*C for SVC. If not\n",
    "    # given, all classes are supposed to have weight one. The “balanced” mode\n",
    "    # uses the values of y to automatically adjust weights inversely\n",
    "    # proportional to class frequencies in the input data as\n",
    "    # n_samples / (n_classes * np.bincount(y)).\n",
    "    class_weight=None,\n",
    "    # --------------------------------------------------------------------------\n",
    "    # The maximum number of iterations to be run.\n",
    "    max_iter=1000,\n",
    ")\n",
    "\n",
    "linearSVC.fit(X, d)\n",
    "linearSVC.predict(X)"
   ]
  },
  {
   "cell_type": "code",
   "execution_count": 3,
   "id": "66468fc6-03a8-4d8a-9dd8-f92f091621f6",
   "metadata": {},
   "outputs": [
    {
     "data": {
      "text/plain": [
       "1.0"
      ]
     },
     "execution_count": 3,
     "metadata": {},
     "output_type": "execute_result"
    }
   ],
   "source": [
    "linearSVC.score(X, d)"
   ]
  },
  {
   "cell_type": "code",
   "execution_count": 4,
   "id": "7c17aa1d-2131-421b-acb9-d1d7b2a47d0d",
   "metadata": {},
   "outputs": [
    {
     "data": {
      "text/plain": [
       "array([[ 0.23076305, -0.21562713],\n",
       "       [-0.33610822, -0.30659105],\n",
       "       [-0.07930195,  0.56635286]])"
      ]
     },
     "execution_count": 4,
     "metadata": {},
     "output_type": "execute_result"
    }
   ],
   "source": [
    "linearSVC.coef_"
   ]
  },
  {
   "cell_type": "code",
   "execution_count": 5,
   "id": "660dffd8-c667-48d1-8102-59be9a417478",
   "metadata": {},
   "outputs": [
    {
     "data": {
      "text/plain": [
       "array([-1.34329076, -0.70744767,  0.79081926])"
      ]
     },
     "execution_count": 5,
     "metadata": {},
     "output_type": "execute_result"
    }
   ],
   "source": [
    "linearSVC.intercept_"
   ]
  },
  {
   "cell_type": "code",
   "execution_count": 6,
   "id": "3cffa02a-496a-419e-8d17-b2c16d1e8b1d",
   "metadata": {},
   "outputs": [
    {
     "data": {
      "text/plain": [
       "array([0, 1, 2])"
      ]
     },
     "execution_count": 6,
     "metadata": {},
     "output_type": "execute_result"
    }
   ],
   "source": [
    "linearSVC.classes_"
   ]
  }
 ],
 "metadata": {
  "kernelspec": {
   "display_name": "Python 3 (ipykernel)",
   "language": "python",
   "name": "python3"
  },
  "language_info": {
   "codemirror_mode": {
    "name": "ipython",
    "version": 3
   },
   "file_extension": ".py",
   "mimetype": "text/x-python",
   "name": "python",
   "nbconvert_exporter": "python",
   "pygments_lexer": "ipython3",
   "version": "3.8.10"
  }
 },
 "nbformat": 4,
 "nbformat_minor": 5
}
