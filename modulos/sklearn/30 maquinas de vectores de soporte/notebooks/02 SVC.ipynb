{
 "cells": [
  {
   "cell_type": "markdown",
   "metadata": {},
   "source": [
    "SVC (Support Vector Classifier)\n",
    "==="
   ]
  },
  {
   "cell_type": "markdown",
   "metadata": {},
   "source": [
    "### Función de riesgo"
   ]
  },
  {
   "cell_type": "markdown",
   "metadata": {},
   "source": [
    "La estimación de los parámetros del modelo y la correspondiente selección de los vectores de soporte se realiza mediante la minimización de la función de riesgo regularizado de la forma:\n",
    "\n",
    "\n",
    "$$\n",
    "R(C, \\epsilon) = C \\sum_i \\text{loss}(d_i, y_i) + \\sum_d w_d^2\n",
    "$$"
   ]
  },
  {
   "cell_type": "markdown",
   "metadata": {},
   "source": [
    "La función de pérdida utilizada depende del tipo de implementación."
   ]
  },
  {
   "cell_type": "markdown",
   "metadata": {},
   "source": [
    "El término\n",
    "\n",
    "$$\n",
    "K(x_i, x_j) = \\phi(x_i)^T \\phi(x_j)\n",
    "$$\n",
    "\n",
    "donde $\\phi(\\cdot)$ es una función kernel, y el término anterior corresponde al Kernel Trick."
   ]
  },
  {
   "cell_type": "markdown",
   "metadata": {},
   "source": [
    "### Estimación de parámetros"
   ]
  },
  {
   "cell_type": "markdown",
   "metadata": {},
   "source": [
    "Sea un conjunto de patrones de entrenamiento $\\mathbf{x}_i \\in \\mathbb{R}^p$, $i=1, \\dots, n$, y $y_i$ la variable dependiente con $y \\in \\{-1, +1 \\}$, el objetivo es encontrar $w \\in \\mathbb{R}^p$ y $b \\in \\mathbb{R}$, tal que la ecuación anterior sea correcta para la mayor cantidad de patrones."
   ]
  },
  {
   "cell_type": "markdown",
   "metadata": {},
   "source": [
    "Para la clasificación, esto equivale a resolver el problema **primal**:\n",
    "\n",
    "$$\n",
    "\\min_{w,b, \\zeta} \\;\\;\\;\n",
    "\\frac{1}{2} w^T w \\; + \\; C \\sum_{i=1}^n \\zeta_i\n",
    "$$\n",
    "\n",
    "sujeto a:\n",
    "\n",
    "\n",
    "\n",
    "$$\n",
    "\\begin{split}\n",
    "y_i \\left( w^T \\phi(x_i)+ b \\right) \\ge \\; & 1 - \\zeta_i \\\\\n",
    "\\\\\n",
    "\\zeta_i \\ge & \\; 0 \\\\\n",
    "\\\\\n",
    "i= & 1, ..., n \\\\\n",
    "\\end{split}\n",
    "$$"
   ]
  },
  {
   "cell_type": "markdown",
   "metadata": {},
   "source": [
    "Una explicación intuitiva es la siguiente:"
   ]
  },
  {
   "cell_type": "markdown",
   "metadata": {},
   "source": [
    "* Para llegar al óptimo se debe minimizar $0.5 w^Tw$, es decir, se desean llevar los coeficientes a cero."
   ]
  },
  {
   "cell_type": "markdown",
   "metadata": {},
   "source": [
    "*  $w^T \\phi(x_i)+ b$ es la frontera de decisión entre las clases"
   ]
  },
  {
   "cell_type": "markdown",
   "metadata": {},
   "source": [
    "* Si un patrón es correctamente clasificado, entonces $\\zeta$ = 0. "
   ]
  },
  {
   "cell_type": "markdown",
   "metadata": {},
   "source": [
    "* Si un patrón es mal clasificado, $\\zeta$ > 0 haciendo crecer el segundo término de la función objetivo.\n"
   ]
  },
  {
   "cell_type": "markdown",
   "metadata": {},
   "source": [
    "![optimizacion_svm.png](assets/optimizacion_svm.png)"
   ]
  },
  {
   "cell_type": "markdown",
   "metadata": {},
   "source": [
    "* El parámetro $C$ controla la fuerza de la penalización, y como resultado, actua como el inverso de un parámetro de regularización."
   ]
  },
  {
   "cell_type": "markdown",
   "metadata": {},
   "source": [
    "### Problema dual"
   ]
  },
  {
   "cell_type": "markdown",
   "metadata": {},
   "source": [
    "El problema **dual** del **primal** es:"
   ]
  },
  {
   "cell_type": "markdown",
   "metadata": {},
   "source": [
    "$$\n",
    "\\min_\\alpha \\frac{1}{2} \\alpha^T  Q \\alpha - e^T \\alpha\n",
    "$$"
   ]
  },
  {
   "cell_type": "markdown",
   "metadata": {},
   "source": [
    "sujeto a:"
   ]
  },
  {
   "cell_type": "markdown",
   "metadata": {},
   "source": [
    "$$\n",
    "y^T\\alpha = 0\n",
    "$$"
   ]
  },
  {
   "cell_type": "markdown",
   "metadata": {},
   "source": [
    "$$\n",
    "0 \\le \\alpha_i \\le C, \\qquad i=1,\\dots n\n",
    "$$"
   ]
  },
  {
   "cell_type": "markdown",
   "metadata": {},
   "source": [
    "donde:\n",
    "\n",
    "* $e$ es un vector de unos.\n",
    "\n",
    "* $Q$ es una matriz semidefinida positiva de $n \\times n$.\n",
    "    \n",
    "* $Q_{ij} = y_i y_j K(x_i, x_j)$\n",
    "    \n",
    "* $K(x_i, x_j) = \\phi(x_i)^T \\phi(x_j)$\n",
    "\n",
    "* $\\alpha_i$ son los coeficientes duales"
   ]
  },
  {
   "cell_type": "markdown",
   "metadata": {},
   "source": [
    "### Frontera de decisión"
   ]
  },
  {
   "cell_type": "markdown",
   "metadata": {},
   "source": [
    "Una vez el problema de optimización ha sido resuelto, la función de decisión se computa para una muestra $x$ como:\n",
    "\n",
    "$$\n",
    "\\sum_{i  \\text{ in } SV} y_i \\alpha_i K(x_i, x) + b\n",
    "$$"
   ]
  },
  {
   "cell_type": "code",
   "execution_count": 1,
   "metadata": {},
   "outputs": [],
   "source": [
    "from sklearn.datasets import make_blobs\n",
    "\n",
    "NPOINTS = 150\n",
    "\n",
    "X, d = make_blobs(\n",
    "    n_samples=NPOINTS,\n",
    "    n_features=2,\n",
    "    centers=3,\n",
    "    cluster_std=0.8,\n",
    "    shuffle=False,\n",
    "    random_state=12345,\n",
    ")"
   ]
  },
  {
   "cell_type": "code",
   "execution_count": 2,
   "metadata": {},
   "outputs": [
    {
     "data": {
      "image/png": "[encoded data removed]",
      "text/plain": [
       "<Figure size 350x350 with 1 Axes>"
      ]
     },
     "metadata": {},
     "output_type": "display_data"
    }
   ],
   "source": [
    "import matplotlib.pyplot as plt\n",
    "\n",
    "plt.figure(figsize=(3.5, 3.5))\n",
    "plt.scatter(X[:50, 0], X[:50, 1], color=\"red\", edgecolors=\"black\", alpha=0.9, s=50)\n",
    "plt.scatter(\n",
    "    X[50:100, 0], X[50:100, 1], color=\"blue\", edgecolors=\"black\", alpha=0.9, s=50\n",
    ")\n",
    "plt.scatter(X[100:, 0], X[100:, 1], color=\"green\", edgecolors=\"black\", alpha=0.9, s=50)\n",
    "\n",
    "plt.gca().spines[\"left\"].set_color(\"gray\")\n",
    "plt.gca().spines[\"bottom\"].set_color(\"gray\")\n",
    "plt.gca().spines[\"top\"].set_visible(False)\n",
    "plt.gca().spines[\"right\"].set_visible(False)\n",
    "plt.axis(\"equal\")\n",
    "plt.show()"
   ]
  },
  {
   "cell_type": "code",
   "execution_count": 3,
   "metadata": {},
   "outputs": [
    {
     "data": {
      "text/plain": [
       "array([0, 0, 0, 0, 0, 0, 0, 0, 0, 0, 0, 0, 0, 0, 0, 0, 0, 0, 0, 0, 0, 0,\n",
       "       0, 0, 0, 0, 0, 0, 0, 0, 0, 0, 0, 0, 0, 0, 0, 0, 0, 0, 0, 0, 0, 0,\n",
       "       0, 0, 0, 0, 0, 0, 1, 1, 1, 1, 1, 1, 1, 1, 1, 1, 1, 1, 1, 1, 1, 1,\n",
       "       1, 1, 1, 1, 1, 1, 1, 1, 1, 1, 1, 1, 1, 1, 1, 1, 1, 1, 1, 1, 1, 1,\n",
       "       1, 1, 1, 1, 1, 1, 1, 1, 1, 1, 1, 1, 2, 2, 2, 2, 2, 2, 2, 2, 2, 2,\n",
       "       2, 2, 2, 2, 2, 2, 2, 2, 2, 2, 2, 2, 2, 2, 2, 2, 2, 2, 2, 2, 2, 2,\n",
       "       2, 2, 2, 2, 2, 2, 2, 2, 2, 2, 2, 2, 2, 2, 2, 2, 2, 2])"
      ]
     },
     "execution_count": 3,
     "metadata": {},
     "output_type": "execute_result"
    }
   ],
   "source": [
    "from sklearn.svm import SVC\n",
    "\n",
    "svc = SVC(\n",
    "    # --------------------------------------------------------------------------\n",
    "    # Regularization parameter. The strength of the regularization is inversely\n",
    "    # proportional to C. Must be strictly positive. The penalty is a squared l2\n",
    "    # penalty.\n",
    "    C=1,\n",
    "    # --------------------------------------------------------------------------\n",
    "    # Specifies the kernel type to be used in the algorithm. If none is given,\n",
    "    # ‘rbf’ will be used.\n",
    "    kernel=\"linear\",\n",
    "    # --------------------------------------------------------------------------\n",
    "    # Degree of the polynomial kernel function (‘poly’). Must be non-negative.\n",
    "    # Ignored by all other kernels.\n",
    "    degree=3,\n",
    "    # --------------------------------------------------------------------------\n",
    "    # Kernel coefficient for ‘rbf’, ‘poly’ and ‘sigmoid’.\n",
    "    # * if gamma='scale' (default) is passed then it uses\n",
    "    #   1 / (n_features * X.var()) as value of gamma,\n",
    "    # * if ‘auto’, uses 1 / n_features\n",
    "    # * if float, must be non-negative.\n",
    "    gamma=\"scale\",\n",
    "    # --------------------------------------------------------------------------\n",
    "    # Independent term in kernel function. It is only significant in ‘poly’ and\n",
    "    # ‘sigmoid’.\n",
    "    coef0=0.0,\n",
    "    # --------------------------------------------------------------------------\n",
    "    # Whether to enable probability estimates. This must be enabled prior to\n",
    "    # calling fit, will slow down that method as it internally uses 5-fold\n",
    "    # cross-validation, and predict_proba may be inconsistent with predict.\n",
    "    probability=False,\n",
    "    # --------------------------------------------------------------------------\n",
    "    # Tolerance for stopping criterion.\n",
    "    tol=1e-3,\n",
    "    # --------------------------------------------------------------------------\n",
    "    # Set the parameter C of class i to class_weight[i]*C for SVC. If not\n",
    "    # given, all classes are supposed to have weight one. The “balanced” mode\n",
    "    # uses the values of y to automatically adjust weights inversely\n",
    "    # proportional to class frequencies in the input data as\n",
    "    # n_samples / (n_classes * np.bincount(y)).\n",
    "    class_weight=None,\n",
    "    # --------------------------------------------------------------------------\n",
    "    # Hard limit on iterations within solver, or -1 for no limit.\n",
    "    max_iter=-1,\n",
    "    # --------------------------------------------------------------------------\n",
    "    # Whether to return a one-vs-rest (‘ovr’) decision function of shape\n",
    "    # (n_samples, n_classes) as all other classifiers, or the original\n",
    "    # one-vs-one (‘ovo’) decision function of libsvm which has shape\n",
    "    # (n_samples, n_classes * (n_classes - 1) / 2). However, note that\n",
    "    # internally, one-vs-one (‘ovo’) is always used as a multi-class strategy\n",
    "    # to train models; an ovr matrix is only constructed from the ovo matrix.\n",
    "    # The parameter is ignored for binary classification.\n",
    "    decision_function_shape=\"ovr\",\n",
    "    # --------------------------------------------------------------------------\n",
    "    # Controls the pseudo random number generation for shuffling the data for\n",
    "    # probability estimates. Ignored when probability is False. Pass an int\n",
    "    # for reproducible output across multiple function calls.\n",
    "    random_state=None,\n",
    ")\n",
    "\n",
    "svc.fit(X, d)\n",
    "svc.predict(X)"
   ]
  },
  {
   "cell_type": "code",
   "execution_count": 4,
   "metadata": {},
   "outputs": [
    {
     "data": {
      "image/png": "[encoded data removed]",
      "text/plain": [
       "<Figure size 350x350 with 1 Axes>"
      ]
     },
     "metadata": {},
     "output_type": "display_data"
    }
   ],
   "source": [
    "import numpy as np\n",
    "\n",
    "plt.figure(figsize=(3.5, 3.5))\n",
    "\n",
    "xx, yy = np.meshgrid(\n",
    "    np.arange(X[:, 0].min() - 1, X[:, 0].max() + 1, 1),\n",
    "    np.arange(X[:, 1].min() - 1, X[:, 1].max() + 1, 1),\n",
    ")\n",
    "\n",
    "zz = svc.predict(np.c_[xx.ravel(), yy.ravel()])\n",
    "zz = zz.reshape(xx.shape)\n",
    "plt.contourf(xx, yy, zz, cmap=plt.cm.coolwarm, alpha=0.7)\n",
    "\n",
    "plt.scatter(X[:50, 0], X[:50, 1], color=\"red\", edgecolors=\"black\", alpha=1.0, s=50)\n",
    "plt.scatter(\n",
    "    X[50:100, 0], X[50:100, 1], color=\"blue\", edgecolors=\"black\", alpha=1.0, s=50\n",
    ")\n",
    "plt.scatter(X[100:, 0], X[100:, 1], color=\"green\", edgecolors=\"black\", alpha=1.0, s=50)\n",
    "\n",
    "plt.gca().set_aspect(\"equal\", adjustable=\"box\")\n",
    "plt.gca().set_xlim(xx.min(), xx.max())\n",
    "plt.gca().set_ylim(yy.min(), yy.max())\n",
    "\n",
    "\n",
    "plt.show()"
   ]
  }
 ],
 "metadata": {
  "kernelspec": {
   "display_name": "Python 3 (ipykernel)",
   "language": "python",
   "name": "python3"
  },
  "language_info": {
   "codemirror_mode": {
    "name": "ipython",
    "version": 3
   },
   "file_extension": ".py",
   "mimetype": "text/x-python",
   "name": "python",
   "nbconvert_exporter": "python",
   "pygments_lexer": "ipython3",
   "version": "3.8.10"
  }
 },
 "nbformat": 4,
 "nbformat_minor": 4
}
