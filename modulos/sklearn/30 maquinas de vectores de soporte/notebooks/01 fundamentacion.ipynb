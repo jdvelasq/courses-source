{
 "cells": [
  {
   "cell_type": "markdown",
   "metadata": {},
   "source": [
    "Máquinas de soporte vectorial (SVM)\n",
    "==="
   ]
  },
  {
   "cell_type": "markdown",
   "metadata": {},
   "source": [
    "* Son un conjunto de métodos para aprendizaje supervizado usados para regresión, clasificación y detección de outliers."
   ]
  },
  {
   "cell_type": "markdown",
   "metadata": {},
   "source": [
    "* Son efectivos en espacios altamente dimensionales, inclusive cuando el número de dimensiones es mayor que el número de muestras."
   ]
  },
  {
   "cell_type": "markdown",
   "metadata": {},
   "source": [
    "* Usan un subconjunto de puntos de entrenamiento en la función de decisión (llamados vectores de soporte), por lo que también son eficientes en el uso de la memoria."
   ]
  },
  {
   "cell_type": "markdown",
   "metadata": {},
   "source": [
    "* No entregan estimados de probabilidad, los cuales deben ser calculados usando 5-fold cross-validation."
   ]
  },
  {
   "cell_type": "markdown",
   "metadata": {},
   "source": [
    "* Construyen un hiperplano o conjunto de hiperplanos en un espacio altamente dimensional."
   ]
  },
  {
   "cell_type": "markdown",
   "metadata": {},
   "source": [
    "* Una máquina de soporte vectorial es un modelo matemático de la siguiente forma:\n",
    "$$\n",
    "y = w_0 + \\sum_d w_d \\times k(\\mathbf{x}, \\mathbf{x}_d)\n",
    "$$\n",
    "donde:\n",
    "\n",
    "    * $w_0$ es una constante.\n",
    "\n",
    "    * $\\mathbf{x}$ es el vector de variables independientes (valor para el cual se desea calcular la salida $y$.\n",
    "\n",
    "    * $w_d$ son los coeficientes del modelo.\n",
    "\n",
    "    * $\\mathbf{x}_d$ son los vectores de soporte.\n",
    "\n",
    "    * $k()$ es una función de núcleo (kernel function).\n",
    "\n",
    "    * $d=1,...,D$ es un índice que itera sobre el conjunto de vectores de soporte.\n",
    "\n",
    "* Los funciones kernel $k()$ son las siguientes:\n",
    "\n",
    "    * Lineal:\n",
    "    $$\n",
    "    k(\\mathbf{x}, \\mathbf{z}) = \\sum_i x_i \\cdot z_i\n",
    "    $$\n",
    "\n",
    "    * Polinomial:\n",
    "    $$\n",
    "    k(\\mathbf{x}, \\mathbf{z}) = 1 + \\left( \\sum_i x_i \\cdot z_i \\right)^d\n",
    "    $$\n",
    "    donde el grado $d$ del polinomio debe ser especificado por el modelador.\n",
    "\n",
    "    * RBF:\n",
    "    $$\n",
    "    k(\\mathbf{x}, \\mathbf{z}) = \\exp( -\\gamma \\cdot ||\\mathbf{x} - \\mathbf{z}||^2)\n",
    "    $$\n",
    "    con $\\gamma > 0$.\n",
    "\n",
    "    * Sigmoid:\n",
    "    $$\n",
    "    k(\\mathbf{x}, \\mathbf{z}) = \\tanh \\left(r + \\gamma \\sum_i x_i \\cdot y_i \\right)\n",
    "    $$"
   ]
  },
  {
   "cell_type": "code",
   "execution_count": 1,
   "metadata": {},
   "outputs": [],
   "source": [
    "import numpy as np\n",
    "\n",
    "# Sea una SVM con kernels lineales:\n",
    "#\n",
    "# y = 0.3 + 0.4 * k(x, [1, 2]) + 0.5 * k(x, [3, 4]) + 0.6 * k(x, [5, 6])\n",
    "#\n",
    "\n",
    "# Los vectores de soporte son:\n",
    "xd = np.array(\n",
    "    [\n",
    "        [1, 2],\n",
    "        [3, 4],\n",
    "        [5, 6],\n",
    "    ]\n",
    ")\n",
    "\n",
    "# El punto x  donde se desea evaluar la SVM es:\n",
    "x = [[0.1, 0.2]]"
   ]
  },
  {
   "cell_type": "code",
   "execution_count": 2,
   "metadata": {},
   "outputs": [
    {
     "data": {
      "text/plain": [
       "array([[0.5],\n",
       "       [1.1],\n",
       "       [1.7]])"
      ]
     },
     "execution_count": 2,
     "metadata": {},
     "output_type": "execute_result"
    }
   ],
   "source": [
    "from sklearn.metrics.pairwise import linear_kernel\n",
    "\n",
    "# linear kernel: f(x, y) = x^T y\n",
    "# 1 * 0.1 + 2 * 0.2 = 0.5\n",
    "# 3 * 0.1 + 4 * 0.2 = 1.1\n",
    "# 5 * 0.1 + 6 * 0.2 = 1.7\n",
    "\n",
    "linear_kernel(xd, x)"
   ]
  },
  {
   "cell_type": "code",
   "execution_count": 3,
   "metadata": {},
   "outputs": [
    {
     "data": {
      "text/plain": [
       "2.0700000000000003"
      ]
     },
     "execution_count": 3,
     "metadata": {},
     "output_type": "execute_result"
    }
   ],
   "source": [
    "# La salida de la SVM será:\n",
    "\n",
    "0.3 + 0.4 * 0.5 + 0.5 * 1.1 + 0.6 * 1.7 "
   ]
  }
 ],
 "metadata": {
  "kernelspec": {
   "display_name": "Python 3 (ipykernel)",
   "language": "python",
   "name": "python3"
  },
  "language_info": {
   "codemirror_mode": {
    "name": "ipython",
    "version": 3
   },
   "file_extension": ".py",
   "mimetype": "text/x-python",
   "name": "python",
   "nbconvert_exporter": "python",
   "pygments_lexer": "ipython3",
   "version": "3.8.10"
  }
 },
 "nbformat": 4,
 "nbformat_minor": 4
}
