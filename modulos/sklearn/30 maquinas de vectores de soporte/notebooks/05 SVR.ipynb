{
 "cells": [
  {
   "cell_type": "markdown",
   "metadata": {
    "tags": []
   },
   "source": [
    "SVR: Support Vector Regression\n",
    "==="
   ]
  },
  {
   "cell_type": "markdown",
   "metadata": {},
   "source": [
    "Para la regresión, el problema **primal** se define como:\n",
    "\n",
    "$$\n",
    "\\min_{w,b, \\zeta, \\zeta^*} \\;\\;\\;\n",
    "\\frac{1}{2} w^T w \\; + \\; C \\sum_{i=1}^n (\\zeta_i + \\zeta_i^*)\n",
    "$$\n",
    "\n",
    "sujeto a:\n",
    "\n",
    "$$\n",
    "\\begin{split}\n",
    "y_i -  \\left( w^T \\phi(x_i) + b \\right) \\le \\; & \\epsilon - \\zeta_i \\\\\n",
    "\\\\\n",
    "- y_i +  \\left( w^T \\phi(x_i) + b \\right) \\le \\; & \\epsilon - \\zeta_i^* \\\\\n",
    "\\\\\n",
    "\\zeta_i, \\zeta_i^* \\ge & \\; 0 \\\\\n",
    "\\\\\n",
    "i= & 1, ..., n \\\\\n",
    "\\end{split}\n",
    "$$"
   ]
  },
  {
   "cell_type": "markdown",
   "metadata": {},
   "source": [
    "El problema **dual** es:\n",
    "\n",
    "$$\n",
    "\\min_{\\alpha, \\alpha^*} \\;\\;\\;\n",
    "\\frac{1}{2} (\\alpha - \\alpha^*)^T Q (\\alpha - \\alpha^*) \\; + \\; \n",
    "\\epsilon e^T (\\alpha + \\alpha^*) - \n",
    "y^T (\\alpha + \\alpha^*)\n",
    "$$\n",
    "\n",
    "sujeto a:\n",
    "\n",
    "$$\n",
    "\\begin{split}\n",
    "e^T (\\alpha - \\alpha^*) = \\; & 0 \\\\\n",
    "\\\\\n",
    "\\alpha_i, \\alpha_i^* \\ge & \\; C \\\\\n",
    "\\\\\n",
    "i= & 1, ..., n \\\\\n",
    "\\end{split}\n",
    "$$"
   ]
  },
  {
   "cell_type": "markdown",
   "metadata": {},
   "source": [
    "La predicción del modelo se calcula como:\n",
    "\n",
    "$$\n",
    "\\sum_{i  \\text{ in } SV} (\\alpha_i - \\alpha_i^*) K(x_i, x) + b\n",
    "$$"
   ]
  },
  {
   "cell_type": "code",
   "execution_count": 1,
   "metadata": {},
   "outputs": [],
   "source": [
    "import numpy as np\n",
    "\n",
    "n_samples, n_features = 10, 5\n",
    "rng = np.random.RandomState(0)\n",
    "y = rng.randn(n_samples)\n",
    "X = rng.randn(n_samples, n_features)"
   ]
  },
  {
   "cell_type": "code",
   "execution_count": 2,
   "metadata": {},
   "outputs": [
    {
     "data": {
      "text/plain": [
       "array([ 0.80693615,  0.5000337 ,  0.88964549,  1.75067062,  0.83376958,\n",
       "        0.3181422 ,  0.94095627, -0.05129545,  0.27037618,  0.31066025])"
      ]
     },
     "execution_count": 2,
     "metadata": {},
     "output_type": "execute_result"
    }
   ],
   "source": [
    "from sklearn.svm import SVR\n",
    "\n",
    "svr = SVR(\n",
    "    # --------------------------------------------------------------------------\n",
    "    # Specifies the kernel type to be used in the algorithm. If none is given, \n",
    "    # ‘rbf’ will be used. \n",
    "    # * 'linear'\n",
    "    # * 'poly'\n",
    "    # * rbf'\n",
    "    # * 'sigmoid'\n",
    "    kernel='rbf',\n",
    "    # --------------------------------------------------------------------------\n",
    "    # Degree of the polynomial kernel function (‘poly’). Must be non-negative. \n",
    "    # Ignored by all other kernels.\n",
    "    degree=3,\n",
    "    # ----------------------------------------------------------------------------\n",
    "    # Kernel coefficient for ‘rbf’, ‘poly’ and ‘sigmoid’.\n",
    "    # * if gamma='scale' (default) is passed then it uses \n",
    "    #   1 / (n_features * X.var()) as value of gamma,\n",
    "    # * if ‘auto’, uses 1 / n_features\n",
    "    # * if float, must be non-negative.\n",
    "    gamma='scale',\n",
    "    # ----------------------------------------------------------------------------\n",
    "    # Independent term in kernel function. It is only significant in ‘poly’ and \n",
    "    # ‘sigmoid’.\n",
    "    coef0=0.0,\n",
    "    # --------------------------------------------------------------------------\n",
    "    # Tolerance for stopping criterion.\n",
    "    tol=1e-3,\n",
    "    # --------------------------------------------------------------------------\n",
    "    # Regularization parameter. The strength of the regularization is inversely \n",
    "    # proportional to C. Must be strictly positive. The penalty is a squared l2 \n",
    "    # penalty.\n",
    "    C=1.0,\n",
    "    # --------------------------------------------------------------------------\n",
    "    # Epsilon in the epsilon-SVR model. It specifies the epsilon-tube within\n",
    "    # which no penalty is associated in the training loss function with points \n",
    "    # predicted within a distance epsilon from the actual value. Must be \n",
    "    # non-negative.\n",
    "    epsilon=0.1,\n",
    "    # --------------------------------------------------------------------------\n",
    "    # Hard limit on iterations within solver, or -1 for no limit.\n",
    "    max_iter=-1,\n",
    ")\n",
    "\n",
    "svr.fit(X, y)\n",
    "svr.predict(X)"
   ]
  },
  {
   "cell_type": "code",
   "execution_count": 3,
   "metadata": {},
   "outputs": [
    {
     "data": {
      "text/plain": [
       "array([[ 1.        , -0.35876841,  1.        ,  1.        , -1.        ,\n",
       "        -0.78118084, -1.        ,  0.13994925]])"
      ]
     },
     "execution_count": 3,
     "metadata": {},
     "output_type": "execute_result"
    }
   ],
   "source": [
    "svr.dual_coef_"
   ]
  },
  {
   "cell_type": "code",
   "execution_count": 4,
   "metadata": {},
   "outputs": [
    {
     "data": {
      "text/plain": [
       "0"
      ]
     },
     "execution_count": 4,
     "metadata": {},
     "output_type": "execute_result"
    }
   ],
   "source": [
    "svr.fit_status_"
   ]
  },
  {
   "cell_type": "code",
   "execution_count": 5,
   "metadata": {},
   "outputs": [
    {
     "data": {
      "text/plain": [
       "array([0.81363927])"
      ]
     },
     "execution_count": 5,
     "metadata": {},
     "output_type": "execute_result"
    }
   ],
   "source": [
    "svr.intercept_"
   ]
  },
  {
   "cell_type": "code",
   "execution_count": 6,
   "metadata": {},
   "outputs": [
    {
     "data": {
      "text/plain": [
       "array([8], dtype=int32)"
      ]
     },
     "execution_count": 6,
     "metadata": {},
     "output_type": "execute_result"
    }
   ],
   "source": [
    "svr.n_support_"
   ]
  },
  {
   "cell_type": "code",
   "execution_count": 7,
   "metadata": {},
   "outputs": [
    {
     "data": {
      "text/plain": [
       "array([0, 1, 3, 4, 5, 7, 8, 9], dtype=int32)"
      ]
     },
     "execution_count": 7,
     "metadata": {},
     "output_type": "execute_result"
    }
   ],
   "source": [
    "svr.support_"
   ]
  },
  {
   "cell_type": "code",
   "execution_count": 8,
   "metadata": {},
   "outputs": [
    {
     "data": {
      "text/plain": [
       "array([[ 0.14404357,  1.45427351,  0.76103773,  0.12167502,  0.44386323],\n",
       "       [ 0.33367433,  1.49407907, -0.20515826,  0.3130677 , -0.85409574],\n",
       "       [-1.45436567,  0.04575852, -0.18718385,  1.53277921,  1.46935877],\n",
       "       [ 0.15494743,  0.37816252, -0.88778575, -1.98079647, -0.34791215],\n",
       "       [ 0.15634897,  1.23029068,  1.20237985, -0.38732682, -0.30230275],\n",
       "       [-0.4380743 , -1.25279536,  0.77749036, -1.61389785, -0.21274028],\n",
       "       [-0.89546656,  0.3869025 , -0.51080514, -1.18063218, -0.02818223],\n",
       "       [ 0.42833187,  0.06651722,  0.3024719 , -0.63432209, -0.36274117]])"
      ]
     },
     "execution_count": 8,
     "metadata": {},
     "output_type": "execute_result"
    }
   ],
   "source": [
    "svr.support_vectors_"
   ]
  }
 ],
 "metadata": {
  "kernelspec": {
   "display_name": "Python 3 (ipykernel)",
   "language": "python",
   "name": "python3"
  },
  "language_info": {
   "codemirror_mode": {
    "name": "ipython",
    "version": 3
   },
   "file_extension": ".py",
   "mimetype": "text/x-python",
   "name": "python",
   "nbconvert_exporter": "python",
   "pygments_lexer": "ipython3",
   "version": "3.8.10"
  }
 },
 "nbformat": 4,
 "nbformat_minor": 4
}
