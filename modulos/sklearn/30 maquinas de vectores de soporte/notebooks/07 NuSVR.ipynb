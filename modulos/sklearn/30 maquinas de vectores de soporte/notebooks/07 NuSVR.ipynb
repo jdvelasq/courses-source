{
 "cells": [
  {
   "cell_type": "markdown",
   "id": "572242f4-7f0e-4df3-840a-0d61f0c7bc1f",
   "metadata": {},
   "source": [
    "NuSVR: Nu-Support Vector Regression\n",
    "==="
   ]
  },
  {
   "cell_type": "markdown",
   "id": "7bb43be3-1a9c-407f-b7e1-77772a6e7cc5",
   "metadata": {},
   "source": [
    "* Es similar a NuSVC."
   ]
  },
  {
   "cell_type": "markdown",
   "id": "06bf425b-abf5-47f9-962f-5ebb71a6701c",
   "metadata": {},
   "source": [
    "* Para regresión, usa un parámetro nu que controla el número de vectores de soporte."
   ]
  },
  {
   "cell_type": "markdown",
   "id": "a011d0fe-19b3-4fa6-a60d-d5e200849321",
   "metadata": {},
   "source": [
    "* Mientras que NuSVC reemplaza el parámetro C, NuSVR reemplaza el parámetro epsilon del modelo epsilon-SVR."
   ]
  },
  {
   "cell_type": "code",
   "execution_count": 1,
   "id": "d43a9521-b118-4fb2-b607-750d13b549d5",
   "metadata": {},
   "outputs": [],
   "source": [
    "import numpy as np\n",
    "\n",
    "n_samples, n_features = 10, 5\n",
    "np.random.seed(0)\n",
    "y = np.random.randn(n_samples)\n",
    "X = np.random.randn(n_samples, n_features)"
   ]
  },
  {
   "cell_type": "code",
   "execution_count": 2,
   "id": "6fa9433d-ef82-4433-b6c8-5ab246aa7565",
   "metadata": {},
   "outputs": [
    {
     "data": {
      "text/plain": [
       "array([1.14053108, 1.02412027, 1.10907372, 1.61648827, 1.22006777,\n",
       "       0.71194418, 1.16836156, 0.47260591, 0.64168051, 0.72338921])"
      ]
     },
     "execution_count": 2,
     "metadata": {},
     "output_type": "execute_result"
    }
   ],
   "source": [
    "from sklearn.svm import NuSVR\n",
    "\n",
    "nuSVR = NuSVR(\n",
    "    # ----------------------------------------------------------------------------\n",
    "    # An upper bound on the fraction of margin errors and a\n",
    "    # lower bound of the fraction of support vectors. Should be in the interval\n",
    "    # (0, 1].\n",
    "    nu=0.5,\n",
    "    # ----------------------------------------------------------------------------\n",
    "    # Specifies the kernel type to be used in the algorithm. If none is given,\n",
    "    # ‘rbf’ will be used.\n",
    "    # * 'linear'\n",
    "    # * 'poly'\n",
    "    # * rbf'\n",
    "    # * 'sigmoid'\n",
    "    kernel=\"rbf\",\n",
    "    # ----------------------------------------------------------------------------\n",
    "    # Degree of the polynomial kernel function (‘poly’). Must be non-negative.\n",
    "    # Ignored by all other kernels.\n",
    "    degree=3,\n",
    "    # ----------------------------------------------------------------------------\n",
    "    # Kernel coefficient for ‘rbf’, ‘poly’ and ‘sigmoid’.\n",
    "    # * if gamma='scale' (default) is passed then it uses\n",
    "    #   1 / (n_features * X.var()) as value of gamma,\n",
    "    # * if ‘auto’, uses 1 / n_features\n",
    "    # * if float, must be non-negative.\n",
    "    gamma=\"scale\",\n",
    "    # ----------------------------------------------------------------------------\n",
    "    # Independent term in kernel function. It is only significant in ‘poly’ and\n",
    "    # ‘sigmoid’.\n",
    "    coef0=0.0,\n",
    "    # ----------------------------------------------------------------------------\n",
    "    # Tolerance for stopping criterion.\n",
    "    tol=1e-3,\n",
    "    # ----------------------------------------------------------------------------\n",
    "    # Hard limit on iterations within solver, or -1 for no limit.\n",
    "    max_iter=-1,\n",
    ")\n",
    "\n",
    "nuSVR.fit(X, y)\n",
    "nuSVR.predict(X)"
   ]
  },
  {
   "cell_type": "code",
   "execution_count": 3,
   "id": "104cff6f-acc3-4192-bf58-31e94dffb36e",
   "metadata": {},
   "outputs": [
    {
     "data": {
      "text/plain": [
       "0.4068511281330819"
      ]
     },
     "execution_count": 3,
     "metadata": {},
     "output_type": "execute_result"
    }
   ],
   "source": [
    "nuSVR.score(X, y)"
   ]
  }
 ],
 "metadata": {
  "kernelspec": {
   "display_name": "Python 3 (ipykernel)",
   "language": "python",
   "name": "python3"
  },
  "language_info": {
   "codemirror_mode": {
    "name": "ipython",
    "version": 3
   },
   "file_extension": ".py",
   "mimetype": "text/x-python",
   "name": "python",
   "nbconvert_exporter": "python",
   "pygments_lexer": "ipython3",
   "version": "3.8.10"
  }
 },
 "nbformat": 4,
 "nbformat_minor": 5
}
