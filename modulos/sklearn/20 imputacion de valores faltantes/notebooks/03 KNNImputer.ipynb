{
 "cells": [
  {
   "cell_type": "markdown",
   "id": "7c4c54a5-f8fd-4c39-849b-5e235fd97071",
   "metadata": {
    "tags": []
   },
   "source": [
    "KNNImputer\n",
    "==="
   ]
  },
  {
   "cell_type": "markdown",
   "id": "5bbcd46e-1440-4f57-b266-4bc494154881",
   "metadata": {},
   "source": [
    "* Completa valores faltantes usando la metodología kNN."
   ]
  },
  {
   "cell_type": "markdown",
   "id": "9f44d125-eaaf-4380-95c3-9ae4cd5bb9a6",
   "metadata": {},
   "source": [
    "* Cada valor faltante es imputado usando la **media** de los **k vecinos más cercanos** en el dataset de entrenamiento."
   ]
  },
  {
   "cell_type": "code",
   "execution_count": 1,
   "id": "7a26042f-a3c0-4141-a9db-e50422f2b2b6",
   "metadata": {
    "tags": []
   },
   "outputs": [],
   "source": [
    "import numpy as np\n",
    "\n",
    "X_train = [\n",
    "    [1, 2, np.nan],\n",
    "    [3, 4, 3],\n",
    "    [np.nan, 6, 5],\n",
    "    [8, 8, 7],\n",
    "]\n",
    "\n",
    "#\n",
    "#       Para la columna 1             Para la columna 2\n",
    "#  --------------------------   --------------------------- \n",
    "#     Data  Puntos     kNN=2       Data  Puntos     kNN=2\n",
    "#                   respecto                     respecto \n",
    "#                      a [6]                        a [2]\n",
    "#  --------------------------   ---------------------------\n",
    "#   [1, 2]     [2]        No     [4, 3]     [4]        Si\n",
    "#   [3, 4]     [4]        Si     [6, 5]     [6]        Si\n",
    "#   [8, 8]     [8]        Si     [8, 7]     [8]        No\n",
    "#\n",
    "#   (3 + 8) / 2 = 5.5 <---        (3 + 5) / 2 = 4.0 <---\n",
    "#"
   ]
  },
  {
   "cell_type": "code",
   "execution_count": 2,
   "id": "36c63c13-2ce7-4abf-8b67-8c9e59af0ff9",
   "metadata": {
    "tags": []
   },
   "outputs": [
    {
     "data": {
      "text/plain": [
       "array([[1. , 2. , 4. ],\n",
       "       [3. , 4. , 3. ],\n",
       "       [5.5, 6. , 5. ],\n",
       "       [8. , 8. , 7. ]])"
      ]
     },
     "execution_count": 2,
     "metadata": {},
     "output_type": "execute_result"
    }
   ],
   "source": [
    "from sklearn.impute import KNNImputer\n",
    "\n",
    "knnImputer = KNNImputer(\n",
    "    # -------------------------------------------------------------------------\n",
    "    # The placeholder for the missing values.\n",
    "    missing_values=np.nan,\n",
    "    # -------------------------------------------------------------------------\n",
    "    # Number of neighboring samples to use for imputation.\n",
    "    n_neighbors=2,\n",
    "    # -------------------------------------------------------------------------\n",
    "    # Weight function used in prediction.\n",
    "    # - 'uniform' : uniform weights. All points in each neighborhood are\n",
    "    #   weighted equally.\n",
    "    # - 'distance' : weight points by the inverse of their distance. in this\n",
    "    # case, closer neighbors of a query point will have a greater influence\n",
    "    # than neighbors which are further away.\n",
    "    weights=\"uniform\",\n",
    "    # -------------------------------------------------------------------------\n",
    "    # Distance metric for searching neighbors.\n",
    "    # - 'nan_euclidean'\n",
    "    # - user defined.\n",
    "    metric=\"nan_euclidean\",\n",
    ")\n",
    "\n",
    "knnImputer.fit(X_train)\n",
    "\n",
    "knnImputer.transform(X_train)"
   ]
  }
 ],
 "metadata": {
  "kernelspec": {
   "display_name": "Python 3 (ipykernel)",
   "language": "python",
   "name": "python3"
  },
  "language_info": {
   "codemirror_mode": {
    "name": "ipython",
    "version": 3
   },
   "file_extension": ".py",
   "mimetype": "text/x-python",
   "name": "python",
   "nbconvert_exporter": "python",
   "pygments_lexer": "ipython3",
   "version": "3.9.6"
  }
 },
 "nbformat": 4,
 "nbformat_minor": 5
}
