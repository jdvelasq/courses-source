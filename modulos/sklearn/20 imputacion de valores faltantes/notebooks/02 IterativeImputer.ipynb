{
 "cells": [
  {
   "cell_type": "markdown",
   "id": "7c4c54a5-f8fd-4c39-849b-5e235fd97071",
   "metadata": {
    "tags": []
   },
   "source": [
    "IterativeImputer\n",
    "==="
   ]
  },
  {
   "cell_type": "markdown",
   "id": "7d8b139f-4046-4217-a314-cabefa681aa8",
   "metadata": {},
   "source": [
    "* Imputador multivariado que estima cada característica de las otras."
   ]
  },
  {
   "cell_type": "markdown",
   "id": "72fcdbbe-bfa7-4bd4-86bb-4f89bcd704a6",
   "metadata": {},
   "source": [
    "* Para cada paso, una columna es designada como `y` y las demás columnas como `X`. Entonces, un regresor es ajustado para `(X, y)`."
   ]
  },
  {
   "cell_type": "markdown",
   "id": "c989c60e-b195-4973-87cc-4e896e78e64b",
   "metadata": {},
   "source": [
    "* El regresor obtenido para cada característica es usado para imputar los valores faltantes."
   ]
  },
  {
   "cell_type": "markdown",
   "id": "3268b4b8-f86f-4eb9-810f-f1a644e4735f",
   "metadata": {},
   "source": [
    "* El proceso es realizado de forma iterativa en `max_iter` rondas de imputación."
   ]
  },
  {
   "cell_type": "code",
   "execution_count": 1,
   "id": "7a26042f-a3c0-4141-a9db-e50422f2b2b6",
   "metadata": {
    "tags": []
   },
   "outputs": [],
   "source": [
    "import numpy as np\n",
    "\n",
    "X_train = np.array(\n",
    "    [\n",
    "        [1, 2],\n",
    "        [3, 6],\n",
    "        [4, 8],\n",
    "        [np.nan, 3],\n",
    "        [7, np.nan],\n",
    "    ]\n",
    ")\n",
    "\n",
    "X_test = np.array(\n",
    "    [\n",
    "        [np.nan, 2],\n",
    "        [6, np.nan],\n",
    "        [np.nan, 6],\n",
    "    ]\n",
    ") "
   ]
  },
  {
   "cell_type": "code",
   "execution_count": 2,
   "id": "9fe1f5be-c568-4522-82e0-6434a74f860b",
   "metadata": {
    "tags": []
   },
   "outputs": [
    {
     "data": {
      "text/plain": [
       "array([[ 1.        ,  2.        ],\n",
       "       [ 3.        ,  6.        ],\n",
       "       [ 4.        ,  8.        ],\n",
       "       [ 1.5       ,  3.        ],\n",
       "       [ 7.        , 13.99999999]])"
      ]
     },
     "execution_count": 2,
     "metadata": {},
     "output_type": "execute_result"
    }
   ],
   "source": [
    "from sklearn.linear_model import LinearRegression\n",
    "\n",
    "#\n",
    "#     X_train\n",
    "# ----------------\n",
    "# [\n",
    "#     [1, 2],       media columna 1: (1 + 3 + 4 + 7) / 4 = 3.75\n",
    "#     [3, 6],\n",
    "#     [4, 8],       media columna 2: (2 + 6 + 8 + 3) / 4 = 4.75\n",
    "#     [np.nan, 3],\n",
    "#     [7, np.nan],\n",
    "# ]\n",
    "#\n",
    "\n",
    "X_train = np.array(\n",
    "    [\n",
    "        [1, 2],\n",
    "        [3, 6],\n",
    "        [4, 8],\n",
    "        [3.75, 3],\n",
    "        [7, 4.75],\n",
    "    ]\n",
    ")\n",
    "\n",
    "for i in range(100):\n",
    "    m = LinearRegression()\n",
    "\n",
    "    #\n",
    "    # completado de la columna 1\n",
    "    #\n",
    "    m.fit(\n",
    "        X_train[:, 0].reshape(-1, 1),\n",
    "        X_train[:, 1],\n",
    "    )\n",
    "\n",
    "    X_train[4, 1] = m.predict(\n",
    "        X_train[4, 0].reshape(-1, 1),\n",
    "    )[0]\n",
    "\n",
    "    #\n",
    "    # completado de la columna 0\n",
    "    #\n",
    "    m.fit(\n",
    "        X_train[:, 1].reshape(-1, 1),\n",
    "        X_train[:, 0],\n",
    "    )\n",
    "    \n",
    "    X_train[3, 0] = m.predict(\n",
    "        X_train[3, 1].reshape(-1, 1),\n",
    "    )[0]\n",
    "\n",
    "X_train"
   ]
  },
  {
   "cell_type": "code",
   "execution_count": 3,
   "id": "7cdee4be-2d8e-4865-9345-95f7272633e5",
   "metadata": {
    "tags": []
   },
   "outputs": [
    {
     "data": {
      "text/plain": [
       "array([[ 1.        ,  2.        ],\n",
       "       [ 6.        , 11.99999999],\n",
       "       [ 3.        ,  6.        ]])"
      ]
     },
     "execution_count": 3,
     "metadata": {},
     "output_type": "execute_result"
    }
   ],
   "source": [
    "#\n",
    "# X_test = np.array(\n",
    "#     [\n",
    "#         [np.nan, 2],\n",
    "#         [6, np.nan],\n",
    "#         [np.nan, 6],\n",
    "#     ]\n",
    "# )\n",
    "#\n",
    "\n",
    "m = LinearRegression()\n",
    "\n",
    "m.fit(X_train[:, 0].reshape(-1, 1), X_train[:, 1])\n",
    "X_test[1, 1] = m.predict([[6]])[0]\n",
    "\n",
    "m.fit(X_train[:, 1].reshape(-1, 1), X_train[:, 0])\n",
    "X_test[0, 0] = m.predict([[2]])[0]\n",
    "X_test[2, 0] = m.predict([[6]])[0]\n",
    "\n",
    "X_test"
   ]
  },
  {
   "cell_type": "code",
   "execution_count": 4,
   "id": "36c63c13-2ce7-4abf-8b67-8c9e59af0ff9",
   "metadata": {
    "tags": []
   },
   "outputs": [
    {
     "data": {
      "text/plain": [
       "array([[ 1.        ,  2.        ],\n",
       "       [ 6.        , 11.99999999],\n",
       "       [ 3.        ,  6.        ]])"
      ]
     },
     "execution_count": 4,
     "metadata": {},
     "output_type": "execute_result"
    }
   ],
   "source": [
    "from sklearn.experimental import enable_iterative_imputer\n",
    "from sklearn.impute import IterativeImputer\n",
    "from sklearn.linear_model import LinearRegression\n",
    "\n",
    "iterativeImputer = IterativeImputer(\n",
    "    # -------------------------------------------------------------------------\n",
    "    # The estimator to use at each step of the round-robin imputation\n",
    "    estimator=LinearRegression(),\n",
    "    # -------------------------------------------------------------------------\n",
    "    # The placeholder for the missing values.\n",
    "    missing_values=np.nan,\n",
    "    # -------------------------------------------------------------------------\n",
    "    # Whether to sample from the (Gaussian) predictive posterior of the fitted\n",
    "    # estimator for each imputation.\n",
    "    sample_posterior=False,\n",
    "    # -------------------------------------------------------------------------\n",
    "    # Maximum number of imputation rounds to perform before returning the\n",
    "    # imputations computed during the final round.  A round is a single\n",
    "    # imputation of each feature with missing values.\n",
    "    max_iter=10,\n",
    "    # -------------------------------------------------------------------------\n",
    "    # Number of other features to use to estimate the missing values of each\n",
    "    # feature column. Nearness between features is measured using the absolute\n",
    "    # correlation coefficient between each feature pair (after initial\n",
    "    # imputation).\n",
    "    n_nearest_features=None,\n",
    "    # -------------------------------------------------------------------------\n",
    "    # Which strategy to use to initialize the missing values.\n",
    "    # - \"mean\"\n",
    "    # - \"median\"\n",
    "    # - \"most_frequent\"\n",
    "    # - \"constant\"\n",
    "    initial_strategy=\"mean\",\n",
    "    # -------------------------------------------------------------------------\n",
    "    # The order in which the features will be imputed. Possible values:\n",
    "    # - \"ascending\": From features with fewest missing values to most.\n",
    "    # - \"decending\": From features with most missing values to fewest.\n",
    "    # - \"roman\": Left to right.\n",
    "    # - \"arabic\": Right to left.\n",
    "    # - \"random\": A random order for each round.\n",
    "    imputation_order=\"ascending\",\n",
    "    # -------------------------------------------------------------------------\n",
    "    # If True then features with missing values during transform which did not\n",
    "    # have any missing values during fit will be imputed with the initial\n",
    "    # imputation method only.\n",
    "    skip_complete=False,\n",
    "    # -------------------------------------------------------------------------\n",
    "    # Minimum possible imputed value.\n",
    "    min_value=-np.inf,\n",
    "    # -------------------------------------------------------------------------\n",
    "    # Maximum possible imputed value.\n",
    "    max_value=np.inf,\n",
    "    # -------------------------------------------------------------------------\n",
    "    # The seed of the pseudo random number generator to use.\n",
    "    random_state=None,\n",
    ")\n",
    "\n",
    "iterativeImputer.fit(X_train)\n",
    "\n",
    "iterativeImputer.transform(X_test)"
   ]
  }
 ],
 "metadata": {
  "kernelspec": {
   "display_name": "Python 3 (ipykernel)",
   "language": "python",
   "name": "python3"
  },
  "language_info": {
   "codemirror_mode": {
    "name": "ipython",
    "version": 3
   },
   "file_extension": ".py",
   "mimetype": "text/x-python",
   "name": "python",
   "nbconvert_exporter": "python",
   "pygments_lexer": "ipython3",
   "version": "3.9.6"
  }
 },
 "nbformat": 4,
 "nbformat_minor": 5
}
