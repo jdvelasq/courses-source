{
 "cells": [
  {
   "attachments": {},
   "cell_type": "markdown",
   "metadata": {},
   "source": [
    "Particionamiento con StratifedKFold\n",
    "===\n",
    "\n",
    "* Ultima modificación: 2023-02-27 | [YouTube]()"
   ]
  },
  {
   "cell_type": "code",
   "execution_count": 1,
   "metadata": {},
   "outputs": [
    {
     "data": {
      "text/plain": [
       "StratifiedKFold(n_splits=4, random_state=None, shuffle=False)"
      ]
     },
     "execution_count": 1,
     "metadata": {},
     "output_type": "execute_result"
    }
   ],
   "source": [
    "from sklearn.model_selection import StratifiedKFold\n",
    "\n",
    "stratifiedKFold = StratifiedKFold(\n",
    "    # --------------------------------------------------------------------------\n",
    "    # Número de grupos\n",
    "    n_splits=4,\n",
    "    # --------------------------------------------------------------------------\n",
    "    # Mezcla los datos antes de crear los grupos?\n",
    "    shuffle=False,\n",
    "    # --------------------------------------------------------------------------\n",
    "    # Semilla del generador aleatorio\n",
    "    random_state=None,\n",
    ")\n",
    "\n",
    "stratifiedKFold"
   ]
  },
  {
   "cell_type": "code",
   "execution_count": 2,
   "metadata": {},
   "outputs": [
    {
     "data": {
      "image/png": "[encoded data removed]",
      "text/plain": [
       "<Figure size 800x160 with 1 Axes>"
      ]
     },
     "metadata": {},
     "output_type": "display_data"
    }
   ],
   "source": [
    "from mymodule import plot_schema\n",
    "\n",
    "y_classes = [0] * 16 + [1] * 4\n",
    "\n",
    "plot_schema(stratifiedKFold, y_classes)"
   ]
  },
  {
   "cell_type": "code",
   "execution_count": 3,
   "metadata": {},
   "outputs": [
    {
     "name": "stdout",
     "output_type": "stream",
     "text": [
      "Fold 0:\n",
      "  Train: index=[1 2 4 5]\n",
      "  Test:  index=[0 3]\n",
      "\n",
      "Fold 1:\n",
      "  Train: index=[0 2 3 5]\n",
      "  Test:  index=[1 4]\n",
      "\n",
      "Fold 2:\n",
      "  Train: index=[0 1 3 4]\n",
      "  Test:  index=[2 5]\n",
      "\n"
     ]
    }
   ],
   "source": [
    "import numpy as np\n",
    "\n",
    "X = np.array([[1, 2], [3, 4], [5, 6], [7, 8], [9, 10], [11, 12]])\n",
    "y = np.array([0, 0, 0, 1, 1, 1])\n",
    "\n",
    "stratifiedKFold = StratifiedKFold(\n",
    "    n_splits=3,\n",
    ")\n",
    "\n",
    "for i, (train_index, test_index) in enumerate(stratifiedKFold.split(X, y)):\n",
    "    print(f\"Fold {i}:\")\n",
    "    print(f\"  Train: index={train_index}\")\n",
    "    print(f\"  Test:  index={test_index}\")\n",
    "    print()"
   ]
  }
 ],
 "metadata": {
  "kernel_info": {
   "name": "python3"
  },
  "kernelspec": {
   "display_name": ".venv",
   "language": "python",
   "name": "python3"
  },
  "language_info": {
   "codemirror_mode": {
    "name": "ipython",
    "version": 3
   },
   "file_extension": ".py",
   "mimetype": "text/x-python",
   "name": "python",
   "nbconvert_exporter": "python",
   "pygments_lexer": "ipython3",
   "version": "3.9.6"
  },
  "nteract": {
   "version": "0.7.1"
  },
  "vscode": {
   "interpreter": {
    "hash": "c8417958a2afd1d92c64094979b89d5277c2b16f620ce08f575580358c337ec6"
   }
  }
 },
 "nbformat": 4,
 "nbformat_minor": 4
}
