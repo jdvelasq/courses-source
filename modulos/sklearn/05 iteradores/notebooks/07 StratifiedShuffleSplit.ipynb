{
 "cells": [
  {
   "attachments": {},
   "cell_type": "markdown",
   "metadata": {
    "tags": []
   },
   "source": [
    "Particionamiento con StratifiedShuffleSplit\n",
    "===\n",
    "\n",
    "* Ultima modificación: 2023-02-27 | [YouTube]()"
   ]
  },
  {
   "cell_type": "code",
   "execution_count": 1,
   "metadata": {
    "tags": []
   },
   "outputs": [
    {
     "data": {
      "text/plain": [
       "StratifiedShuffleSplit(n_splits=8, random_state=0, test_size=4,\n",
       "            train_size=None)"
      ]
     },
     "execution_count": 1,
     "metadata": {},
     "output_type": "execute_result"
    }
   ],
   "source": [
    "from sklearn.model_selection import StratifiedShuffleSplit\n",
    "\n",
    "stratifiedShuffleSplit = StratifiedShuffleSplit(\n",
    "    # --------------------------------------------------------------------------\n",
    "    # Número de grupos    \n",
    "    n_splits=8,\n",
    "    # --------------------------------------------------------------------------\n",
    "    # Tamaño del conjunto de prueba\n",
    "    # int: número de ejemplos\n",
    "    # float: porcentaje de la muestra\n",
    "    test_size=4,\n",
    "    # --------------------------------------------------------------------------\n",
    "    # Tamaño del conjunto de entrenamiento\n",
    "    # int: número de ejemplos\n",
    "    # float: porcentaje de la muestra\n",
    "    train_size=None,\n",
    "    # --------------------------------------------------------------------------\n",
    "    # Semilla del generador de aleatorios\n",
    "    random_state=0,\n",
    ")\n",
    "\n",
    "stratifiedShuffleSplit"
   ]
  },
  {
   "cell_type": "code",
   "execution_count": 2,
   "metadata": {},
   "outputs": [
    {
     "data": {
      "image/png": "[encoded data removed]",
      "text/plain": [
       "<Figure size 800x320 with 1 Axes>"
      ]
     },
     "metadata": {},
     "output_type": "display_data"
    }
   ],
   "source": [
    "from mymodule import plot_schema\n",
    "\n",
    "y_classes = [0] * 16 + [1] * 4\n",
    "\n",
    "plot_schema(stratifiedShuffleSplit, y_classes)"
   ]
  },
  {
   "cell_type": "code",
   "execution_count": 3,
   "metadata": {},
   "outputs": [
    {
     "name": "stdout",
     "output_type": "stream",
     "text": [
      "Fold 0:\n",
      "  Train: index=[0 3 5]\n",
      "  Test:  index=[1 4 2]\n",
      "\n",
      "Fold 1:\n",
      "  Train: index=[2 3 4]\n",
      "  Test:  index=[1 5 0]\n",
      "\n",
      "Fold 2:\n",
      "  Train: index=[4 2 3]\n",
      "  Test:  index=[1 5 0]\n",
      "\n",
      "Fold 3:\n",
      "  Train: index=[4 1 2]\n",
      "  Test:  index=[0 3 5]\n",
      "\n",
      "Fold 4:\n",
      "  Train: index=[5 2 4]\n",
      "  Test:  index=[1 3 0]\n",
      "\n",
      "Fold 5:\n",
      "  Train: index=[4 3 1]\n",
      "  Test:  index=[5 0 2]\n",
      "\n",
      "Fold 6:\n",
      "  Train: index=[2 0 5]\n",
      "  Test:  index=[1 3 4]\n",
      "\n",
      "Fold 7:\n",
      "  Train: index=[2 4 5]\n",
      "  Test:  index=[1 0 3]\n",
      "\n"
     ]
    }
   ],
   "source": [
    "import numpy as np\n",
    "\n",
    "X = np.array([[1, 2], [3, 4], [5, 6], [7, 8], [9, 10], [11, 12]])\n",
    "y = np.array([0, 0, 0, 1, 1, 1])\n",
    "\n",
    "stratifiedShuffleSplit = StratifiedShuffleSplit(\n",
    "    n_splits=8,\n",
    "    test_size=3,\n",
    ")\n",
    "\n",
    "for i, (train_index, test_index) in enumerate(stratifiedShuffleSplit.split(X, y)):\n",
    "    print(f\"Fold {i}:\")\n",
    "    print(f\"  Train: index={train_index}\")\n",
    "    print(f\"  Test:  index={test_index}\")\n",
    "    print()"
   ]
  }
 ],
 "metadata": {
  "kernel_info": {
   "name": "python3"
  },
  "kernelspec": {
   "display_name": ".venv",
   "language": "python",
   "name": "python3"
  },
  "language_info": {
   "codemirror_mode": {
    "name": "ipython",
    "version": 3
   },
   "file_extension": ".py",
   "mimetype": "text/x-python",
   "name": "python",
   "nbconvert_exporter": "python",
   "pygments_lexer": "ipython3",
   "version": "3.9.6"
  },
  "nteract": {
   "version": "0.7.1"
  },
  "vscode": {
   "interpreter": {
    "hash": "c8417958a2afd1d92c64094979b89d5277c2b16f620ce08f575580358c337ec6"
   }
  }
 },
 "nbformat": 4,
 "nbformat_minor": 4
}
