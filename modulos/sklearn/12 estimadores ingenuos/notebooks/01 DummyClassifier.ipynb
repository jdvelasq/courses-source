{
 "cells": [
  {
   "cell_type": "markdown",
   "id": "ad9269ce-8e90-4980-a578-3499d7badefb",
   "metadata": {},
   "source": [
    "DummyClassifier\n",
    "===="
   ]
  },
  {
   "cell_type": "markdown",
   "id": "18be9e50-22ae-43fd-abd4-c1cd813e4bfc",
   "metadata": {},
   "source": [
    "* Implementa modelos ingenuos para la evaluación de modelos de clasificación. "
   ]
  },
  {
   "cell_type": "code",
   "execution_count": 1,
   "id": "08e85f02-a169-4285-80c4-e81c05d62c2b",
   "metadata": {},
   "outputs": [],
   "source": [
    "from sklearn.datasets import load_iris\n",
    "from sklearn.model_selection import train_test_split\n",
    "\n",
    "#\n",
    "# Creación de un dataset imbalanceado\n",
    "#\n",
    "X, y = load_iris(return_X_y=True)\n",
    "\n",
    "y[y != 1] = -1\n",
    "\n",
    "X_train, X_test, y_train, y_test = train_test_split(\n",
    "    X,\n",
    "    y,\n",
    "    random_state=0,\n",
    ")"
   ]
  },
  {
   "cell_type": "code",
   "execution_count": 2,
   "id": "2ad65e91-42c9-4ffc-bd0c-ea4d47257c97",
   "metadata": {},
   "outputs": [
    {
     "data": {
      "text/plain": [
       "0.631578947368421"
      ]
     },
     "execution_count": 2,
     "metadata": {},
     "output_type": "execute_result"
    }
   ],
   "source": [
    "#\n",
    "# Creación de un clasificador\n",
    "#\n",
    "from sklearn.svm import SVC\n",
    "\n",
    "clf = SVC(kernel=\"linear\", C=1).fit(X_train, y_train)\n",
    "clf.score(X_test, y_test)"
   ]
  },
  {
   "cell_type": "code",
   "execution_count": 3,
   "id": "6ec96848-1d14-41c3-9463-c57ef3769a4e",
   "metadata": {},
   "outputs": [
    {
     "data": {
      "text/plain": [
       "0.5789473684210527"
      ]
     },
     "execution_count": 3,
     "metadata": {},
     "output_type": "execute_result"
    }
   ],
   "source": [
    "#\n",
    "# Creación de un clasificador que pronostica la clase mas frecuente\n",
    "#\n",
    "from sklearn.dummy import DummyClassifier\n",
    "\n",
    "dummy_clf = DummyClassifier(\n",
    "    # -------------------------------------------------------------------------\n",
    "    # Strategy to use to generate predictions.\n",
    "    # * 'most_frequent': the predict method always returns the most frequent\n",
    "    #   class label in the observed y argument passed to fit.\n",
    "    # * \"prior\": the predict method always returns the most frequent class\n",
    "    #   label in the observed y argument passed to fit (like “most_frequent”)\n",
    "    # * \"stratified\":  the predict_proba method randomly samples\n",
    "    #   one-hot vectors from a multinomial distribution parametrized by the\n",
    "    #   empirical class prior probabilities.\n",
    "    # * \"uniform\": generates predictions uniformly at random from the list of\n",
    "    #   unique classes observed in y, i.e. each class has equal probability.\n",
    "    # * \"constant\": always predicts a constant label that is provided by\n",
    "    # the user. This is useful for metrics that evaluate a non-majority class.    \n",
    "    strategy=\"most_frequent\",\n",
    "    # -------------------------------------------------------------------------\n",
    "    # Controls the randomness to generate the predictions when\n",
    "    # strategy='stratified' or strategy='uniform'.    \n",
    "    random_state=0,\n",
    "    # -------------------------------------------------------------------------\n",
    "    # The explicit constant as predicted by the “constant” strategy. This\n",
    "    # parameter is useful only for the “constant” strategy.\n",
    "    constant=None,    \n",
    ")\n",
    "\n",
    "dummy_clf.fit(X_train, y_train)\n",
    "dummy_clf.score(X_test, y_test)"
   ]
  },
  {
   "cell_type": "code",
   "execution_count": 4,
   "id": "b5ab244f-7921-4db2-9bba-b87a49f364b4",
   "metadata": {},
   "outputs": [
    {
     "data": {
      "text/plain": [
       "0.9473684210526315"
      ]
     },
     "execution_count": 4,
     "metadata": {},
     "output_type": "execute_result"
    }
   ],
   "source": [
    "clf = SVC(kernel='rbf', C=1).fit(X_train, y_train)\n",
    "clf.score(X_test, y_test)"
   ]
  }
 ],
 "metadata": {
  "kernelspec": {
   "display_name": "Python 3 (ipykernel)",
   "language": "python",
   "name": "python3"
  },
  "language_info": {
   "codemirror_mode": {
    "name": "ipython",
    "version": 3
   },
   "file_extension": ".py",
   "mimetype": "text/x-python",
   "name": "python",
   "nbconvert_exporter": "python",
   "pygments_lexer": "ipython3",
   "version": "3.8.10"
  }
 },
 "nbformat": 4,
 "nbformat_minor": 5
}
