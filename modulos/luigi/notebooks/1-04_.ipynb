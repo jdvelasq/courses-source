{
 "cells": [
  {
   "cell_type": "markdown",
   "id": "849727e6-1878-401a-b8c1-46931fc01890",
   "metadata": {},
   "source": [
    "Parametrización (1)\n",
    "===\n",
    "\n",
    "* Última modificación: Mayo  14, 2022"
   ]
  },
  {
   "cell_type": "code",
   "execution_count": 3,
   "id": "9871e1a1-045d-4fcf-8d39-7d64bbc342f8",
   "metadata": {},
   "outputs": [
    {
     "name": "stdout",
     "output_type": "stream",
     "text": [
      "/tmp\n"
     ]
    }
   ],
   "source": [
    "%cd /tmp\n",
    "!mkdir -p input/"
   ]
  },
  {
   "cell_type": "code",
   "execution_count": 4,
   "id": "4e56ffb3-76f4-4c74-b11f-c1e6730ddb53",
   "metadata": {},
   "outputs": [
    {
     "name": "stdout",
     "output_type": "stream",
     "text": [
      "Writing input/sales1.csv\n"
     ]
    }
   ],
   "source": [
    "%%writefile input/sales1.csv\n",
    "Fance,May,100\n",
    "NA\n",
    "Germany,May,200"
   ]
  },
  {
   "cell_type": "code",
   "execution_count": 5,
   "id": "ae30a60f-4cae-4515-ad52-a5d41b87b3b7",
   "metadata": {},
   "outputs": [
    {
     "name": "stdout",
     "output_type": "stream",
     "text": [
      "Writing input/sales2.csv\n"
     ]
    }
   ],
   "source": [
    "%%writefile input/sales2.csv\n",
    "Fance,June,140\n",
    "Germany,June,180\n",
    "UK,June,180"
   ]
  },
  {
   "cell_type": "code",
   "execution_count": 6,
   "id": "3863e29f-b356-46c2-996c-61bc77b9d31a",
   "metadata": {},
   "outputs": [
    {
     "name": "stdout",
     "output_type": "stream",
     "text": [
      "Writing input/sales3.csv\n"
     ]
    }
   ],
   "source": [
    "%%writefile input/sales3.csv\n",
    "France,June,240\n",
    "None\n",
    "Germany,June,180"
   ]
  },
  {
   "cell_type": "code",
   "execution_count": 9,
   "id": "d1f42ad4-a773-4c99-9057-89afb192a558",
   "metadata": {},
   "outputs": [
    {
     "name": "stdout",
     "output_type": "stream",
     "text": [
      "Overwriting pipeline.py\n"
     ]
    }
   ],
   "source": [
    "%%writefile pipeline.py\n",
    "\n",
    "import os\n",
    "import luigi\n",
    "from luigi import LocalTarget, Task, Parameter\n",
    "\n",
    "\n",
    "INPUT_FOLDER = 'input'\n",
    "OUTPUT_FOLDER = 'output'\n",
    "\n",
    "class DownloadFile(Task):\n",
    "    \n",
    "    file_name = Parameter()\n",
    "    \n",
    "    def output(self):\n",
    "        output_path = os.path.join(OUTPUT_FOLDER, self.file_name)\n",
    "        return LocalTarget(output_path)\n",
    "    \n",
    "    def run(self):\n",
    "        input_path = os.path.join(INPUT_FOLDER, self.file_name)\n",
    "        with open(input_path) as in_file:\n",
    "            with self.output().open('w') as out_file:\n",
    "                for line in in_file:\n",
    "                    if ',' in line:\n",
    "                        out_file.write(line)\n",
    "\n",
    "                        \n",
    "class DownloadSalesData(Task):\n",
    "    def output(self):\n",
    "        return LocalTarget('all_sales.csv')\n",
    "    \n",
    "    def run(self):\n",
    "        processed_files = []\n",
    "        for file in os.listdir(INPUT_FOLDER):\n",
    "            target = yield DownloadFile(file)\n",
    "            processed_files.append(target)\n",
    "            \n",
    "        with self.output().open('w') as out_file:\n",
    "            for file in processed_files:\n",
    "                with file.open() as in_file:\n",
    "                    for line in in_file:\n",
    "                        out_file.write(line)\n",
    "    \n",
    "    \n",
    "if __name__ == \"__main__\":\n",
    "    luigi.run([\"DownloadSalesData\", \"--local-scheduler\"])    "
   ]
  },
  {
   "cell_type": "code",
   "execution_count": 10,
   "id": "1d8cec12-3564-4a80-8dd4-91b2d17a877b",
   "metadata": {},
   "outputs": [
    {
     "name": "stdout",
     "output_type": "stream",
     "text": [
      "DEBUG: Checking if DownloadSalesData() is complete\n",
      "INFO: Informed scheduler that task   DownloadSalesData__99914b932b   has status   PENDING\n",
      "INFO: Done scheduling tasks\n",
      "INFO: Running Worker with 1 processes\n",
      "DEBUG: Asking scheduler for work...\n",
      "DEBUG: Pending tasks: 1\n",
      "INFO: [pid 235] Worker Worker(salt=659667897, workers=1, host=b148b7d2dd75, username=root, pid=235) running   DownloadSalesData()\n",
      "INFO: [pid 235] Worker Worker(salt=659667897, workers=1, host=b148b7d2dd75, username=root, pid=235) new requirements      DownloadSalesData()\n",
      "DEBUG: 1 running tasks, waiting for next task to finish\n",
      "DEBUG: Checking if DownloadFile(file_name=sales3.csv) is complete\n",
      "INFO: Informed scheduler that task   DownloadFile_sales3_csv_3fb93ee78b   has status   PENDING\n",
      "INFO: Informed scheduler that task   DownloadSalesData__99914b932b   has status   PENDING\n",
      "DEBUG: Asking scheduler for work...\n",
      "DEBUG: Pending tasks: 2\n",
      "INFO: [pid 235] Worker Worker(salt=659667897, workers=1, host=b148b7d2dd75, username=root, pid=235) running   DownloadFile(file_name=sales3.csv)\n",
      "INFO: [pid 235] Worker Worker(salt=659667897, workers=1, host=b148b7d2dd75, username=root, pid=235) done      DownloadFile(file_name=sales3.csv)\n",
      "DEBUG: 1 running tasks, waiting for next task to finish\n",
      "INFO: Informed scheduler that task   DownloadFile_sales3_csv_3fb93ee78b   has status   DONE\n",
      "DEBUG: Asking scheduler for work...\n",
      "DEBUG: Pending tasks: 1\n",
      "INFO: [pid 235] Worker Worker(salt=659667897, workers=1, host=b148b7d2dd75, username=root, pid=235) running   DownloadSalesData()\n",
      "INFO: [pid 235] Worker Worker(salt=659667897, workers=1, host=b148b7d2dd75, username=root, pid=235) new requirements      DownloadSalesData()\n",
      "DEBUG: 1 running tasks, waiting for next task to finish\n",
      "DEBUG: Checking if DownloadFile(file_name=sales2.csv) is complete\n",
      "INFO: Informed scheduler that task   DownloadFile_sales2_csv_b92d8cd1c2   has status   PENDING\n",
      "INFO: Informed scheduler that task   DownloadSalesData__99914b932b   has status   PENDING\n",
      "DEBUG: Asking scheduler for work...\n",
      "DEBUG: Pending tasks: 2\n",
      "INFO: [pid 235] Worker Worker(salt=659667897, workers=1, host=b148b7d2dd75, username=root, pid=235) running   DownloadFile(file_name=sales2.csv)\n",
      "INFO: [pid 235] Worker Worker(salt=659667897, workers=1, host=b148b7d2dd75, username=root, pid=235) done      DownloadFile(file_name=sales2.csv)\n",
      "DEBUG: 1 running tasks, waiting for next task to finish\n",
      "INFO: Informed scheduler that task   DownloadFile_sales2_csv_b92d8cd1c2   has status   DONE\n",
      "DEBUG: Asking scheduler for work...\n",
      "DEBUG: Pending tasks: 1\n",
      "INFO: [pid 235] Worker Worker(salt=659667897, workers=1, host=b148b7d2dd75, username=root, pid=235) running   DownloadSalesData()\n",
      "INFO: [pid 235] Worker Worker(salt=659667897, workers=1, host=b148b7d2dd75, username=root, pid=235) new requirements      DownloadSalesData()\n",
      "DEBUG: 1 running tasks, waiting for next task to finish\n",
      "DEBUG: Checking if DownloadFile(file_name=sales1.csv) is complete\n",
      "INFO: Informed scheduler that task   DownloadFile_sales1_csv_955381c3e3   has status   PENDING\n",
      "INFO: Informed scheduler that task   DownloadSalesData__99914b932b   has status   PENDING\n",
      "DEBUG: Asking scheduler for work...\n",
      "DEBUG: Pending tasks: 2\n",
      "INFO: [pid 235] Worker Worker(salt=659667897, workers=1, host=b148b7d2dd75, username=root, pid=235) running   DownloadFile(file_name=sales1.csv)\n",
      "INFO: [pid 235] Worker Worker(salt=659667897, workers=1, host=b148b7d2dd75, username=root, pid=235) done      DownloadFile(file_name=sales1.csv)\n",
      "DEBUG: 1 running tasks, waiting for next task to finish\n",
      "INFO: Informed scheduler that task   DownloadFile_sales1_csv_955381c3e3   has status   DONE\n",
      "DEBUG: Asking scheduler for work...\n",
      "DEBUG: Pending tasks: 1\n",
      "INFO: [pid 235] Worker Worker(salt=659667897, workers=1, host=b148b7d2dd75, username=root, pid=235) running   DownloadSalesData()\n",
      "INFO: [pid 235] Worker Worker(salt=659667897, workers=1, host=b148b7d2dd75, username=root, pid=235) done      DownloadSalesData()\n",
      "DEBUG: 1 running tasks, waiting for next task to finish\n",
      "INFO: Informed scheduler that task   DownloadSalesData__99914b932b   has status   DONE\n",
      "DEBUG: Asking scheduler for work...\n",
      "DEBUG: Done\n",
      "DEBUG: There are no more tasks to run at this time\n",
      "INFO: Worker Worker(salt=659667897, workers=1, host=b148b7d2dd75, username=root, pid=235) was stopped. Shutting down Keep-Alive thread\n",
      "INFO: \n",
      "===== Luigi Execution Summary =====\n",
      "\n",
      "Scheduled 4 tasks of which:\n",
      "* 4 ran successfully:\n",
      "    - 3 DownloadFile(file_name=sales1.csv,sales2.csv,sales3.csv)\n",
      "    - 1 DownloadSalesData()\n",
      "\n",
      "This progress looks :) because there were no failed tasks or missing dependencies\n",
      "\n",
      "===== Luigi Execution Summary =====\n",
      "\n"
     ]
    }
   ],
   "source": [
    "!python3 pipeline.py"
   ]
  },
  {
   "cell_type": "code",
   "execution_count": 12,
   "id": "e5a5e048-cb68-4378-a70c-8c58068f33fe",
   "metadata": {},
   "outputs": [
    {
     "name": "stdout",
     "output_type": "stream",
     "text": [
      "France,June,240\n",
      "Germany,June,180\n",
      "Fance,June,140\n",
      "Germany,June,180\n",
      "UK,June,180\n",
      "Fance,May,100\n",
      "Germany,May,200\n"
     ]
    }
   ],
   "source": [
    "!cat all_sales.csv"
   ]
  }
 ],
 "metadata": {
  "kernelspec": {
   "display_name": "Python 3 (ipykernel)",
   "language": "python",
   "name": "python3"
  },
  "language_info": {
   "codemirror_mode": {
    "name": "ipython",
    "version": 3
   },
   "file_extension": ".py",
   "mimetype": "text/x-python",
   "name": "python",
   "nbconvert_exporter": "python",
   "pygments_lexer": "ipython3",
   "version": "3.8.10"
  }
 },
 "nbformat": 4,
 "nbformat_minor": 5
}
