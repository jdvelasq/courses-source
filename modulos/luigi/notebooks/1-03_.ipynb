{
 "cells": [
  {
   "cell_type": "markdown",
   "id": "ed474d8c-dd8d-43fa-b928-f504eab4f9c8",
   "metadata": {},
   "source": [
    "Pipeline con muchas tareas (WrapperTask)\n",
    "===\n",
    "\n",
    "* Última modificación: Mayo  14, 2022"
   ]
  },
  {
   "cell_type": "code",
   "execution_count": 1,
   "id": "a1c844bd-6570-4895-88ea-6be936477adf",
   "metadata": {},
   "outputs": [
    {
     "name": "stdout",
     "output_type": "stream",
     "text": [
      "/tmp\n"
     ]
    }
   ],
   "source": [
    "%cd /tmp"
   ]
  },
  {
   "cell_type": "code",
   "execution_count": 2,
   "id": "4fd7607f-a6d4-4320-b7eb-e30966f97720",
   "metadata": {},
   "outputs": [
    {
     "name": "stdout",
     "output_type": "stream",
     "text": [
      "Overwriting pipeline.py\n"
     ]
    }
   ],
   "source": [
    "%%writefile pipeline.py\n",
    "\n",
    "\n",
    "import luigi\n",
    "from luigi import LocalTarget, Task, WrapperTask\n",
    "\n",
    "\n",
    "class DownloadFranceSales(Task):\n",
    "    def output(self):\n",
    "        return LocalTarget(\"france.csv\")\n",
    "\n",
    "    def run(self):\n",
    "        with self.output().open(\"w\") as file:\n",
    "            print(\"May,100\", file=file)\n",
    "            print(\"May,200\", file=file)\n",
    "            print(\"Jun,140\", file=file)\n",
    "            print(\"Jun,150\", file=file)\n",
    "\n",
    "\n",
    "class DownloadGermanySales(Task):\n",
    "    def output(self):\n",
    "        return LocalTarget(\"germany.csv\")\n",
    "\n",
    "    def run(self):\n",
    "        with self.output().open(\"w\") as file:\n",
    "            print(\"May,120\", file=file)\n",
    "            print(\"May,210\", file=file)\n",
    "            print(\"Jun,140\", file=file)\n",
    "            print(\"Jun,150\", file=file)\n",
    "\n",
    "\n",
    "class SummarizeFranceSales(Task):\n",
    "    def requires(self):\n",
    "        return DownloadFranceSales()\n",
    "\n",
    "    def output(self):\n",
    "        return LocalTarget(\"summary_france_sales.csv\")\n",
    "\n",
    "    def run(self):\n",
    "        total = 0\n",
    "        with self.input().open() as in_file:\n",
    "            for line in in_file:\n",
    "                value = line.split(\",\")[1]\n",
    "                total += float(value)\n",
    "\n",
    "        with self.output().open(\"w\") as out_file:\n",
    "            out_file.write(str(total))\n",
    "\n",
    "\n",
    "class SummarizeGermanySales(Task):\n",
    "    def requires(self):\n",
    "        return DownloadGermanySales()\n",
    "\n",
    "    def output(self):\n",
    "        return LocalTarget(\"summary_germany_sales.csv\")\n",
    "\n",
    "    def run(self):\n",
    "        total = 0\n",
    "        with self.input().open() as in_file:\n",
    "            for line in in_file:\n",
    "                value = line.split(\",\")[1]\n",
    "                total += float(value)\n",
    "\n",
    "        with self.output().open(\"w\") as out_file:\n",
    "            out_file.write(str(total))\n",
    "\n",
    "\n",
    "class Final(WrapperTask):\n",
    "    def requires(self):\n",
    "        return [\n",
    "            SummarizeFranceSales(),\n",
    "            SummarizeGermanySales(),\n",
    "        ]\n",
    "\n",
    "\n",
    "if __name__ == \"__main__\":\n",
    "    luigi.run([\"Final\", \"--local-scheduler\"])"
   ]
  },
  {
   "cell_type": "code",
   "execution_count": 3,
   "id": "f8fa6368-6e55-437e-a485-12b8bed8c255",
   "metadata": {},
   "outputs": [
    {
     "name": "stdout",
     "output_type": "stream",
     "text": [
      "DEBUG: Checking if Final() is complete\n",
      "DEBUG: Checking if SummarizeFranceSales() is complete\n",
      "DEBUG: Checking if SummarizeGermanySales() is complete\n",
      "INFO: Informed scheduler that task   Final__99914b932b   has status   PENDING\n",
      "DEBUG: Checking if DownloadGermanySales() is complete\n",
      "INFO: Informed scheduler that task   SummarizeGermanySales__99914b932b   has status   PENDING\n",
      "INFO: Informed scheduler that task   DownloadGermanySales__99914b932b   has status   DONE\n",
      "DEBUG: Checking if DownloadFranceSales() is complete\n",
      "INFO: Informed scheduler that task   SummarizeFranceSales__99914b932b   has status   PENDING\n",
      "INFO: Informed scheduler that task   DownloadFranceSales__99914b932b   has status   DONE\n",
      "INFO: Done scheduling tasks\n",
      "INFO: Running Worker with 1 processes\n",
      "DEBUG: Asking scheduler for work...\n",
      "DEBUG: Pending tasks: 3\n",
      "INFO: [pid 200] Worker Worker(salt=131464293, workers=1, host=b148b7d2dd75, username=root, pid=200) running   SummarizeFranceSales()\n",
      "INFO: [pid 200] Worker Worker(salt=131464293, workers=1, host=b148b7d2dd75, username=root, pid=200) done      SummarizeFranceSales()\n",
      "DEBUG: 1 running tasks, waiting for next task to finish\n",
      "INFO: Informed scheduler that task   SummarizeFranceSales__99914b932b   has status   DONE\n",
      "DEBUG: Asking scheduler for work...\n",
      "DEBUG: Pending tasks: 2\n",
      "INFO: [pid 200] Worker Worker(salt=131464293, workers=1, host=b148b7d2dd75, username=root, pid=200) running   SummarizeGermanySales()\n",
      "INFO: [pid 200] Worker Worker(salt=131464293, workers=1, host=b148b7d2dd75, username=root, pid=200) done      SummarizeGermanySales()\n",
      "DEBUG: 1 running tasks, waiting for next task to finish\n",
      "INFO: Informed scheduler that task   SummarizeGermanySales__99914b932b   has status   DONE\n",
      "DEBUG: Asking scheduler for work...\n",
      "DEBUG: Pending tasks: 1\n",
      "INFO: [pid 200] Worker Worker(salt=131464293, workers=1, host=b148b7d2dd75, username=root, pid=200) running   Final()\n",
      "INFO: [pid 200] Worker Worker(salt=131464293, workers=1, host=b148b7d2dd75, username=root, pid=200) done      Final()\n",
      "DEBUG: 1 running tasks, waiting for next task to finish\n",
      "INFO: Informed scheduler that task   Final__99914b932b   has status   DONE\n",
      "DEBUG: Asking scheduler for work...\n",
      "DEBUG: Done\n",
      "DEBUG: There are no more tasks to run at this time\n",
      "INFO: Worker Worker(salt=131464293, workers=1, host=b148b7d2dd75, username=root, pid=200) was stopped. Shutting down Keep-Alive thread\n",
      "INFO: \n",
      "===== Luigi Execution Summary =====\n",
      "\n",
      "Scheduled 5 tasks of which:\n",
      "* 2 complete ones were encountered:\n",
      "    - 1 DownloadFranceSales()\n",
      "    - 1 DownloadGermanySales()\n",
      "* 3 ran successfully:\n",
      "    - 1 Final()\n",
      "    - 1 SummarizeFranceSales()\n",
      "    - 1 SummarizeGermanySales()\n",
      "\n",
      "This progress looks :) because there were no failed tasks or missing dependencies\n",
      "\n",
      "===== Luigi Execution Summary =====\n",
      "\n"
     ]
    }
   ],
   "source": [
    "!python3 pipeline.py"
   ]
  },
  {
   "cell_type": "code",
   "execution_count": 5,
   "id": "276e990e-cd5a-4a58-8a2a-a4970da2e6fc",
   "metadata": {},
   "outputs": [
    {
     "name": "stdout",
     "output_type": "stream",
     "text": [
      "france.csv\n",
      "germany.csv\n",
      "summary_france_sales.csv\n",
      "summary_germany_sales.csv\n"
     ]
    }
   ],
   "source": [
    "!ls -1 *.csv"
   ]
  },
  {
   "cell_type": "code",
   "execution_count": 4,
   "id": "112f5693-21d8-40bb-9458-2e47b1927f4a",
   "metadata": {},
   "outputs": [
    {
     "name": "stdout",
     "output_type": "stream",
     "text": [
      "590.0"
     ]
    }
   ],
   "source": [
    "!cat summary_france_sales.csv"
   ]
  },
  {
   "cell_type": "code",
   "execution_count": 4,
   "id": "1e4b4c9d-5bc3-4b29-9222-ceff409848aa",
   "metadata": {},
   "outputs": [
    {
     "name": "stdout",
     "output_type": "stream",
     "text": [
      "590.0"
     ]
    }
   ],
   "source": [
    "!cat summary_germany_sales.csv"
   ]
  }
 ],
 "metadata": {
  "kernelspec": {
   "display_name": "Python 3 (ipykernel)",
   "language": "python",
   "name": "python3"
  },
  "language_info": {
   "codemirror_mode": {
    "name": "ipython",
    "version": 3
   },
   "file_extension": ".py",
   "mimetype": "text/x-python",
   "name": "python",
   "nbconvert_exporter": "python",
   "pygments_lexer": "ipython3",
   "version": "3.8.10"
  }
 },
 "nbformat": 4,
 "nbformat_minor": 5
}
