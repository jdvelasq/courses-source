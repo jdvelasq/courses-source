{
 "cells": [
  {
   "cell_type": "markdown",
   "id": "fdfab614-8dd8-4973-8f49-12a3b2dbf773",
   "metadata": {},
   "source": [
    "Configuration files (revisar)\n",
    "===\n",
    "\n",
    "* Última modificación: Mayo  14, 2022"
   ]
  },
  {
   "cell_type": "code",
   "execution_count": 1,
   "id": "3e5c8f02-72ac-4253-976c-e8ae8e8e0f1b",
   "metadata": {},
   "outputs": [
    {
     "name": "stdout",
     "output_type": "stream",
     "text": [
      "/tmp\n"
     ]
    }
   ],
   "source": [
    "%cd /tmp\n",
    "!rm -rf output/ all_sales.csv\n",
    "!mkdir -p input/ "
   ]
  },
  {
   "cell_type": "code",
   "execution_count": 2,
   "id": "5518a3fa-d209-4f16-a22f-2598c10f7b8f",
   "metadata": {},
   "outputs": [
    {
     "name": "stdout",
     "output_type": "stream",
     "text": [
      "Overwriting /tmp/luigi.cfg\n"
     ]
    }
   ],
   "source": [
    "%%writefile /tmp/luigi.cfg\n",
    "[DownloadSalesData]\n",
    "params={\"input_folder\": \"input\", \"output\": \"all_sales.csv\"}"
   ]
  },
  {
   "cell_type": "code",
   "execution_count": 3,
   "id": "45c13084-008c-4e97-bde8-b4ae8719d2b6",
   "metadata": {},
   "outputs": [
    {
     "name": "stdout",
     "output_type": "stream",
     "text": [
      "Overwriting input/sales1.csv\n"
     ]
    }
   ],
   "source": [
    "%%writefile input/sales1.csv\n",
    "Fance,May,100\n",
    "NA\n",
    "Germany,May,200"
   ]
  },
  {
   "cell_type": "code",
   "execution_count": 4,
   "id": "a5906f54-17f6-40a8-bb1a-38c8700f8d2b",
   "metadata": {},
   "outputs": [
    {
     "name": "stdout",
     "output_type": "stream",
     "text": [
      "Overwriting input/sales2.csv\n"
     ]
    }
   ],
   "source": [
    "%%writefile input/sales2.csv\n",
    "Fance,June,140\n",
    "Germany,June,180\n",
    "UK,June,180"
   ]
  },
  {
   "cell_type": "code",
   "execution_count": 5,
   "id": "9b0ed3cd-d332-4407-9d0d-3f19d7bff0bf",
   "metadata": {},
   "outputs": [
    {
     "name": "stdout",
     "output_type": "stream",
     "text": [
      "Overwriting input/sales3.csv\n"
     ]
    }
   ],
   "source": [
    "%%writefile input/sales3.csv\n",
    "France,June,240\n",
    "None\n",
    "Germany,June,180"
   ]
  },
  {
   "cell_type": "code",
   "execution_count": 6,
   "id": "53b0f714-e2cb-43cd-ae35-0bce36f50696",
   "metadata": {},
   "outputs": [
    {
     "name": "stdout",
     "output_type": "stream",
     "text": [
      "Overwriting __init__.py\n"
     ]
    }
   ],
   "source": [
    "%%writefile __init__.py\n",
    "#"
   ]
  },
  {
   "cell_type": "code",
   "execution_count": 7,
   "id": "9a919994-7702-4610-b964-ac99471afa58",
   "metadata": {},
   "outputs": [
    {
     "name": "stdout",
     "output_type": "stream",
     "text": [
      "Overwriting pipeline.py\n"
     ]
    }
   ],
   "source": [
    "%%writefile pipeline.py\n",
    "\n",
    "import os\n",
    "\n",
    "import luigi\n",
    "from luigi import IntParameter, LocalTarget, Parameter, Task,  DictParameter\n",
    "\n",
    "OUTPUT_FOLDER = \"output\"\n",
    "\n",
    "\n",
    "class DownloadFile(Task):\n",
    "\n",
    "    input_folder = Parameter()\n",
    "    file_name = Parameter()\n",
    "    index = IntParameter()\n",
    "\n",
    "    def output(self):\n",
    "        output_path = os.path.join(\n",
    "            OUTPUT_FOLDER,\n",
    "            str(self.index),\n",
    "            self.file_name,\n",
    "        )\n",
    "        return LocalTarget(output_path)\n",
    "\n",
    "    def run(self):\n",
    "        input_path = os.path.join(\n",
    "            self.input_folder,\n",
    "            self.file_name,\n",
    "        )\n",
    "        with open(input_path) as in_file:\n",
    "            with self.output().open(\"w\") as out_file:\n",
    "                for line in in_file:\n",
    "                    if \",\" in line:\n",
    "                        out_file.write(line)\n",
    "\n",
    "\n",
    "class DownloadSalesData(Task):\n",
    "    params = DictParameter()\n",
    "\n",
    "    def output(self):\n",
    "        return LocalTarget(self.params['output'])\n",
    "\n",
    "    def run(self):\n",
    "        processed_files = []\n",
    "        counter = 1\n",
    "        for file in sorted(os.listdir(self.params['input_folder'])):\n",
    "            target = yield DownloadFile(\n",
    "                self.params['input_folder'],\n",
    "                file,\n",
    "                counter,\n",
    "            )\n",
    "            counter += 1\n",
    "            processed_files.append(target)\n",
    "\n",
    "        with self.output().open(\"w\") as out_file:\n",
    "            for file in processed_files:\n",
    "                with file.open() as in_file:\n",
    "                    for line in in_file:\n",
    "                        out_file.write(line)\n",
    "\n"
   ]
  },
  {
   "cell_type": "code",
   "execution_count": 8,
   "id": "38fa3c3e-8083-44e8-94cf-f5a3ad21fd08",
   "metadata": {},
   "outputs": [
    {
     "name": "stdout",
     "output_type": "stream",
     "text": [
      "DEBUG: Checking if DownloadSalesData(params={\"input_folder\": \"input\", \"output\": \"all_sales.csv\"}) is complete\n",
      "INFO: Informed scheduler that task   DownloadSalesData___input_folder___85c746fcb6   has status   PENDING\n",
      "INFO: Done scheduling tasks\n",
      "INFO: Running Worker with 1 processes\n",
      "DEBUG: Asking scheduler for work...\n",
      "DEBUG: Pending tasks: 1\n",
      "INFO: [pid 1252] Worker Worker(salt=391761500, workers=1, host=b148b7d2dd75, username=root, pid=1252) running   DownloadSalesData(params={\"input_folder\": \"input\", \"output\": \"all_sales.csv\"})\n",
      "INFO: [pid 1252] Worker Worker(salt=391761500, workers=1, host=b148b7d2dd75, username=root, pid=1252) new requirements      DownloadSalesData(params={\"input_folder\": \"input\", \"output\": \"all_sales.csv\"})\n",
      "DEBUG: 1 running tasks, waiting for next task to finish\n",
      "DEBUG: Checking if DownloadFile(input_folder=input, file_name=sales1.csv, index=1) is complete\n",
      "INFO: Informed scheduler that task   DownloadFile_sales1_csv_1_input_c3a4c863ff   has status   PENDING\n",
      "INFO: Informed scheduler that task   DownloadSalesData___input_folder___85c746fcb6   has status   PENDING\n",
      "DEBUG: Asking scheduler for work...\n",
      "DEBUG: Pending tasks: 2\n",
      "INFO: [pid 1252] Worker Worker(salt=391761500, workers=1, host=b148b7d2dd75, username=root, pid=1252) running   DownloadFile(input_folder=input, file_name=sales1.csv, index=1)\n",
      "INFO: [pid 1252] Worker Worker(salt=391761500, workers=1, host=b148b7d2dd75, username=root, pid=1252) done      DownloadFile(input_folder=input, file_name=sales1.csv, index=1)\n",
      "DEBUG: 1 running tasks, waiting for next task to finish\n",
      "INFO: Informed scheduler that task   DownloadFile_sales1_csv_1_input_c3a4c863ff   has status   DONE\n",
      "DEBUG: Asking scheduler for work...\n",
      "DEBUG: Pending tasks: 1\n",
      "INFO: [pid 1252] Worker Worker(salt=391761500, workers=1, host=b148b7d2dd75, username=root, pid=1252) running   DownloadSalesData(params={\"input_folder\": \"input\", \"output\": \"all_sales.csv\"})\n",
      "INFO: [pid 1252] Worker Worker(salt=391761500, workers=1, host=b148b7d2dd75, username=root, pid=1252) new requirements      DownloadSalesData(params={\"input_folder\": \"input\", \"output\": \"all_sales.csv\"})\n",
      "DEBUG: 1 running tasks, waiting for next task to finish\n",
      "DEBUG: Checking if DownloadFile(input_folder=input, file_name=sales2.csv, index=2) is complete\n",
      "INFO: Informed scheduler that task   DownloadFile_sales2_csv_2_input_83e73fcbf0   has status   PENDING\n",
      "INFO: Informed scheduler that task   DownloadSalesData___input_folder___85c746fcb6   has status   PENDING\n",
      "DEBUG: Asking scheduler for work...\n",
      "DEBUG: Pending tasks: 2\n",
      "INFO: [pid 1252] Worker Worker(salt=391761500, workers=1, host=b148b7d2dd75, username=root, pid=1252) running   DownloadFile(input_folder=input, file_name=sales2.csv, index=2)\n",
      "INFO: [pid 1252] Worker Worker(salt=391761500, workers=1, host=b148b7d2dd75, username=root, pid=1252) done      DownloadFile(input_folder=input, file_name=sales2.csv, index=2)\n",
      "DEBUG: 1 running tasks, waiting for next task to finish\n",
      "INFO: Informed scheduler that task   DownloadFile_sales2_csv_2_input_83e73fcbf0   has status   DONE\n",
      "DEBUG: Asking scheduler for work...\n",
      "DEBUG: Pending tasks: 1\n",
      "INFO: [pid 1252] Worker Worker(salt=391761500, workers=1, host=b148b7d2dd75, username=root, pid=1252) running   DownloadSalesData(params={\"input_folder\": \"input\", \"output\": \"all_sales.csv\"})\n",
      "INFO: [pid 1252] Worker Worker(salt=391761500, workers=1, host=b148b7d2dd75, username=root, pid=1252) new requirements      DownloadSalesData(params={\"input_folder\": \"input\", \"output\": \"all_sales.csv\"})\n",
      "DEBUG: 1 running tasks, waiting for next task to finish\n",
      "DEBUG: Checking if DownloadFile(input_folder=input, file_name=sales3.csv, index=3) is complete\n",
      "INFO: Informed scheduler that task   DownloadFile_sales3_csv_3_input_18bd499a8c   has status   PENDING\n",
      "INFO: Informed scheduler that task   DownloadSalesData___input_folder___85c746fcb6   has status   PENDING\n",
      "DEBUG: Asking scheduler for work...\n",
      "DEBUG: Pending tasks: 2\n",
      "INFO: [pid 1252] Worker Worker(salt=391761500, workers=1, host=b148b7d2dd75, username=root, pid=1252) running   DownloadFile(input_folder=input, file_name=sales3.csv, index=3)\n",
      "INFO: [pid 1252] Worker Worker(salt=391761500, workers=1, host=b148b7d2dd75, username=root, pid=1252) done      DownloadFile(input_folder=input, file_name=sales3.csv, index=3)\n",
      "DEBUG: 1 running tasks, waiting for next task to finish\n",
      "INFO: Informed scheduler that task   DownloadFile_sales3_csv_3_input_18bd499a8c   has status   DONE\n",
      "DEBUG: Asking scheduler for work...\n",
      "DEBUG: Pending tasks: 1\n",
      "INFO: [pid 1252] Worker Worker(salt=391761500, workers=1, host=b148b7d2dd75, username=root, pid=1252) running   DownloadSalesData(params={\"input_folder\": \"input\", \"output\": \"all_sales.csv\"})\n",
      "INFO: [pid 1252] Worker Worker(salt=391761500, workers=1, host=b148b7d2dd75, username=root, pid=1252) done      DownloadSalesData(params={\"input_folder\": \"input\", \"output\": \"all_sales.csv\"})\n",
      "DEBUG: 1 running tasks, waiting for next task to finish\n",
      "INFO: Informed scheduler that task   DownloadSalesData___input_folder___85c746fcb6   has status   DONE\n",
      "DEBUG: Asking scheduler for work...\n",
      "DEBUG: Done\n",
      "DEBUG: There are no more tasks to run at this time\n",
      "INFO: Worker Worker(salt=391761500, workers=1, host=b148b7d2dd75, username=root, pid=1252) was stopped. Shutting down Keep-Alive thread\n",
      "INFO: \n",
      "===== Luigi Execution Summary =====\n",
      "\n",
      "Scheduled 4 tasks of which:\n",
      "* 4 ran successfully:\n",
      "    - 3 DownloadFile(input_folder=input, file_name=sales1.csv, index=1) ...\n",
      "    - 1 DownloadSalesData(params={\"input_folder\": \"input\", \"output\": \"all_sales.csv\"})\n",
      "\n",
      "This progress looks :) because there were no failed tasks or missing dependencies\n",
      "\n",
      "===== Luigi Execution Summary =====\n",
      "\n"
     ]
    }
   ],
   "source": [
    "!LUIGI_CONFIG_PATH=/tmp/luigi.cfg python3 -m luigi --module pipeline DownloadSalesData  --local-scheduler"
   ]
  },
  {
   "cell_type": "code",
   "execution_count": 9,
   "id": "a3ca1842-7fa4-4019-bd34-38f96ac3e6e4",
   "metadata": {},
   "outputs": [
    {
     "name": "stdout",
     "output_type": "stream",
     "text": [
      "Fance,May,100\n",
      "Germany,May,200\n",
      "Fance,June,140\n",
      "Germany,June,180\n",
      "UK,June,180\n",
      "France,June,240\n",
      "Germany,June,180\n"
     ]
    }
   ],
   "source": [
    "!cat all_sales.csv"
   ]
  },
  {
   "cell_type": "code",
   "execution_count": 10,
   "id": "75bfe26d-769d-4c02-ac92-bcc23e5c30de",
   "metadata": {},
   "outputs": [
    {
     "name": "stdout",
     "output_type": "stream",
     "text": [
      "1\n",
      "2\n",
      "3\n"
     ]
    }
   ],
   "source": [
    "!ls -1 /tmp/output"
   ]
  },
  {
   "cell_type": "code",
   "execution_count": 11,
   "id": "30c7ec4b-4f70-404a-8333-2b5614d110a6",
   "metadata": {},
   "outputs": [
    {
     "name": "stdout",
     "output_type": "stream",
     "text": [
      "sales1.csv\n"
     ]
    }
   ],
   "source": [
    "!ls -1 /tmp/output/1/"
   ]
  },
  {
   "cell_type": "code",
   "execution_count": 12,
   "id": "ab69f07d-b9bd-46df-8e9a-46099ec4eb03",
   "metadata": {},
   "outputs": [
    {
     "name": "stdout",
     "output_type": "stream",
     "text": [
      "sales2.csv\n"
     ]
    }
   ],
   "source": [
    "!ls -1 /tmp/output/2/"
   ]
  },
  {
   "cell_type": "code",
   "execution_count": 13,
   "id": "15d3928a-5589-45b9-8ac8-49cab9e68fa3",
   "metadata": {},
   "outputs": [
    {
     "name": "stdout",
     "output_type": "stream",
     "text": [
      "sales3.csv\n"
     ]
    }
   ],
   "source": [
    "!ls -1 /tmp/output/3/"
   ]
  },
  {
   "cell_type": "code",
   "execution_count": 14,
   "id": "e9790a78-d81f-4218-b568-28369a38cb63",
   "metadata": {},
   "outputs": [
    {
     "name": "stdout",
     "output_type": "stream",
     "text": [
      "Fance,May,100\n",
      "Germany,May,200\n"
     ]
    }
   ],
   "source": [
    "!cat /tmp/output/1/sales1.csv"
   ]
  },
  {
   "cell_type": "code",
   "execution_count": null,
   "id": "728133bc-277b-4e24-a81a-bb15f35a99dc",
   "metadata": {},
   "outputs": [],
   "source": []
  }
 ],
 "metadata": {
  "kernelspec": {
   "display_name": "Python 3 (ipykernel)",
   "language": "python",
   "name": "python3"
  },
  "language_info": {
   "codemirror_mode": {
    "name": "ipython",
    "version": 3
   },
   "file_extension": ".py",
   "mimetype": "text/x-python",
   "name": "python",
   "nbconvert_exporter": "python",
   "pygments_lexer": "ipython3",
   "version": "3.8.10"
  }
 },
 "nbformat": 4,
 "nbformat_minor": 5
}
