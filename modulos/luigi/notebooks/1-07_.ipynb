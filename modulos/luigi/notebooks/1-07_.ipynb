{
 "cells": [
  {
   "cell_type": "markdown",
   "id": "b4233bac-9be4-4b4e-beab-47c6da678405",
   "metadata": {},
   "source": [
    "Configuration files\n",
    "===\n",
    "\n",
    "* Última modificación: Mayo  14, 2022"
   ]
  },
  {
   "cell_type": "code",
   "execution_count": 1,
   "id": "9c18642a-7cc1-415a-914b-1d937c63532a",
   "metadata": {},
   "outputs": [
    {
     "name": "stdout",
     "output_type": "stream",
     "text": [
      "/tmp\n"
     ]
    }
   ],
   "source": [
    "%cd /tmp\n",
    "!rm -rf output/ all_sales.csv\n",
    "!mkdir -p input/ "
   ]
  },
  {
   "cell_type": "code",
   "execution_count": 2,
   "id": "16ef0777-832b-45eb-933f-3f52acdf30b4",
   "metadata": {},
   "outputs": [
    {
     "name": "stdout",
     "output_type": "stream",
     "text": [
      "Overwriting /tmp/luigi.cfg\n"
     ]
    }
   ],
   "source": [
    "%%writefile /tmp/luigi.cfg\n",
    "[DownloadSalesData]\n",
    "input_folder=input"
   ]
  },
  {
   "cell_type": "code",
   "execution_count": 3,
   "id": "d6a29dad-5781-4f0f-97fa-b90d8edd6c40",
   "metadata": {},
   "outputs": [
    {
     "name": "stdout",
     "output_type": "stream",
     "text": [
      "Overwriting input/sales1.csv\n"
     ]
    }
   ],
   "source": [
    "%%writefile input/sales1.csv\n",
    "Fance,May,100\n",
    "NA\n",
    "Germany,May,200"
   ]
  },
  {
   "cell_type": "code",
   "execution_count": 4,
   "id": "095b7553-dfa3-45ca-9348-7be0eff94287",
   "metadata": {},
   "outputs": [
    {
     "name": "stdout",
     "output_type": "stream",
     "text": [
      "Overwriting input/sales2.csv\n"
     ]
    }
   ],
   "source": [
    "%%writefile input/sales2.csv\n",
    "Fance,June,140\n",
    "Germany,June,180\n",
    "UK,June,180"
   ]
  },
  {
   "cell_type": "code",
   "execution_count": 5,
   "id": "90855df9-703c-4536-9b33-4676e59aaf85",
   "metadata": {},
   "outputs": [
    {
     "name": "stdout",
     "output_type": "stream",
     "text": [
      "Overwriting input/sales3.csv\n"
     ]
    }
   ],
   "source": [
    "%%writefile input/sales3.csv\n",
    "France,June,240\n",
    "None\n",
    "Germany,June,180"
   ]
  },
  {
   "cell_type": "code",
   "execution_count": 6,
   "id": "a9f4a789-f315-40a9-9ac2-8fe293423542",
   "metadata": {},
   "outputs": [
    {
     "name": "stdout",
     "output_type": "stream",
     "text": [
      "Overwriting __init__.py\n"
     ]
    }
   ],
   "source": [
    "%%writefile __init__.py\n",
    "#"
   ]
  },
  {
   "cell_type": "code",
   "execution_count": 7,
   "id": "0fb3c533-bbb3-4914-b92b-cfaab6dea311",
   "metadata": {},
   "outputs": [
    {
     "name": "stdout",
     "output_type": "stream",
     "text": [
      "Overwriting pipeline.py\n"
     ]
    }
   ],
   "source": [
    "%%writefile pipeline.py\n",
    "\n",
    "import os\n",
    "\n",
    "import luigi\n",
    "from luigi import IntParameter, LocalTarget, Parameter, Task\n",
    "\n",
    "OUTPUT_FOLDER = \"output\"\n",
    "\n",
    "\n",
    "class DownloadFile(Task):\n",
    "\n",
    "    input_folder = Parameter()\n",
    "    file_name = Parameter()\n",
    "    index = IntParameter()\n",
    "\n",
    "    def output(self):\n",
    "        output_path = os.path.join(\n",
    "            OUTPUT_FOLDER,\n",
    "            str(self.index),\n",
    "            self.file_name,\n",
    "        )\n",
    "        return LocalTarget(output_path)\n",
    "\n",
    "    def run(self):\n",
    "        input_path = os.path.join(\n",
    "            self.input_folder,\n",
    "            self.file_name,\n",
    "        )\n",
    "        with open(input_path) as in_file:\n",
    "            with self.output().open(\"w\") as out_file:\n",
    "                for line in in_file:\n",
    "                    if \",\" in line:\n",
    "                        out_file.write(line)\n",
    "\n",
    "\n",
    "class DownloadSalesData(Task):\n",
    "    input_folder = Parameter()\n",
    "\n",
    "    def output(self):\n",
    "        return LocalTarget(\"all_sales.csv\")\n",
    "\n",
    "    def run(self):\n",
    "        processed_files = []\n",
    "        counter = 1\n",
    "        for file in sorted(os.listdir(self.input_folder)):\n",
    "            target = yield DownloadFile(\n",
    "                self.input_folder,\n",
    "                file,\n",
    "                counter,\n",
    "            )\n",
    "            counter += 1\n",
    "            processed_files.append(target)\n",
    "\n",
    "        with self.output().open(\"w\") as out_file:\n",
    "            for file in processed_files:\n",
    "                with file.open() as in_file:\n",
    "                    for line in in_file:\n",
    "                        out_file.write(line)\n",
    "\n"
   ]
  },
  {
   "cell_type": "code",
   "execution_count": 8,
   "id": "0b85e526-8877-4f30-ae6e-919834d441a6",
   "metadata": {},
   "outputs": [
    {
     "name": "stdout",
     "output_type": "stream",
     "text": [
      "DEBUG: Checking if DownloadSalesData(input_folder=input) is complete\n",
      "INFO: Informed scheduler that task   DownloadSalesData_input_3d041dae39   has status   PENDING\n",
      "INFO: Done scheduling tasks\n",
      "INFO: Running Worker with 1 processes\n",
      "DEBUG: Asking scheduler for work...\n",
      "DEBUG: Pending tasks: 1\n",
      "INFO: [pid 890] Worker Worker(salt=049381492, workers=1, host=b148b7d2dd75, username=root, pid=890) running   DownloadSalesData(input_folder=input)\n",
      "INFO: [pid 890] Worker Worker(salt=049381492, workers=1, host=b148b7d2dd75, username=root, pid=890) new requirements      DownloadSalesData(input_folder=input)\n",
      "DEBUG: 1 running tasks, waiting for next task to finish\n",
      "DEBUG: Checking if DownloadFile(input_folder=input, file_name=sales1.csv, index=1) is complete\n",
      "INFO: Informed scheduler that task   DownloadFile_sales1_csv_1_input_c3a4c863ff   has status   PENDING\n",
      "INFO: Informed scheduler that task   DownloadSalesData_input_3d041dae39   has status   PENDING\n",
      "DEBUG: Asking scheduler for work...\n",
      "DEBUG: Pending tasks: 2\n",
      "INFO: [pid 890] Worker Worker(salt=049381492, workers=1, host=b148b7d2dd75, username=root, pid=890) running   DownloadFile(input_folder=input, file_name=sales1.csv, index=1)\n",
      "INFO: [pid 890] Worker Worker(salt=049381492, workers=1, host=b148b7d2dd75, username=root, pid=890) done      DownloadFile(input_folder=input, file_name=sales1.csv, index=1)\n",
      "DEBUG: 1 running tasks, waiting for next task to finish\n",
      "INFO: Informed scheduler that task   DownloadFile_sales1_csv_1_input_c3a4c863ff   has status   DONE\n",
      "DEBUG: Asking scheduler for work...\n",
      "DEBUG: Pending tasks: 1\n",
      "INFO: [pid 890] Worker Worker(salt=049381492, workers=1, host=b148b7d2dd75, username=root, pid=890) running   DownloadSalesData(input_folder=input)\n",
      "INFO: [pid 890] Worker Worker(salt=049381492, workers=1, host=b148b7d2dd75, username=root, pid=890) new requirements      DownloadSalesData(input_folder=input)\n",
      "DEBUG: 1 running tasks, waiting for next task to finish\n",
      "DEBUG: Checking if DownloadFile(input_folder=input, file_name=sales2.csv, index=2) is complete\n",
      "INFO: Informed scheduler that task   DownloadFile_sales2_csv_2_input_83e73fcbf0   has status   PENDING\n",
      "INFO: Informed scheduler that task   DownloadSalesData_input_3d041dae39   has status   PENDING\n",
      "DEBUG: Asking scheduler for work...\n",
      "DEBUG: Pending tasks: 2\n",
      "INFO: [pid 890] Worker Worker(salt=049381492, workers=1, host=b148b7d2dd75, username=root, pid=890) running   DownloadFile(input_folder=input, file_name=sales2.csv, index=2)\n",
      "INFO: [pid 890] Worker Worker(salt=049381492, workers=1, host=b148b7d2dd75, username=root, pid=890) done      DownloadFile(input_folder=input, file_name=sales2.csv, index=2)\n",
      "DEBUG: 1 running tasks, waiting for next task to finish\n",
      "INFO: Informed scheduler that task   DownloadFile_sales2_csv_2_input_83e73fcbf0   has status   DONE\n",
      "DEBUG: Asking scheduler for work...\n",
      "DEBUG: Pending tasks: 1\n",
      "INFO: [pid 890] Worker Worker(salt=049381492, workers=1, host=b148b7d2dd75, username=root, pid=890) running   DownloadSalesData(input_folder=input)\n",
      "INFO: [pid 890] Worker Worker(salt=049381492, workers=1, host=b148b7d2dd75, username=root, pid=890) new requirements      DownloadSalesData(input_folder=input)\n",
      "DEBUG: 1 running tasks, waiting for next task to finish\n",
      "DEBUG: Checking if DownloadFile(input_folder=input, file_name=sales3.csv, index=3) is complete\n",
      "INFO: Informed scheduler that task   DownloadFile_sales3_csv_3_input_18bd499a8c   has status   PENDING\n",
      "INFO: Informed scheduler that task   DownloadSalesData_input_3d041dae39   has status   PENDING\n",
      "DEBUG: Asking scheduler for work...\n",
      "DEBUG: Pending tasks: 2\n",
      "INFO: [pid 890] Worker Worker(salt=049381492, workers=1, host=b148b7d2dd75, username=root, pid=890) running   DownloadFile(input_folder=input, file_name=sales3.csv, index=3)\n",
      "INFO: [pid 890] Worker Worker(salt=049381492, workers=1, host=b148b7d2dd75, username=root, pid=890) done      DownloadFile(input_folder=input, file_name=sales3.csv, index=3)\n",
      "DEBUG: 1 running tasks, waiting for next task to finish\n",
      "INFO: Informed scheduler that task   DownloadFile_sales3_csv_3_input_18bd499a8c   has status   DONE\n",
      "DEBUG: Asking scheduler for work...\n",
      "DEBUG: Pending tasks: 1\n",
      "INFO: [pid 890] Worker Worker(salt=049381492, workers=1, host=b148b7d2dd75, username=root, pid=890) running   DownloadSalesData(input_folder=input)\n",
      "INFO: [pid 890] Worker Worker(salt=049381492, workers=1, host=b148b7d2dd75, username=root, pid=890) done      DownloadSalesData(input_folder=input)\n",
      "DEBUG: 1 running tasks, waiting for next task to finish\n",
      "INFO: Informed scheduler that task   DownloadSalesData_input_3d041dae39   has status   DONE\n",
      "DEBUG: Asking scheduler for work...\n",
      "DEBUG: Done\n",
      "DEBUG: There are no more tasks to run at this time\n",
      "INFO: Worker Worker(salt=049381492, workers=1, host=b148b7d2dd75, username=root, pid=890) was stopped. Shutting down Keep-Alive thread\n",
      "INFO: \n",
      "===== Luigi Execution Summary =====\n",
      "\n",
      "Scheduled 4 tasks of which:\n",
      "* 4 ran successfully:\n",
      "    - 3 DownloadFile(input_folder=input, file_name=sales1.csv, index=1) ...\n",
      "    - 1 DownloadSalesData(input_folder=input)\n",
      "\n",
      "This progress looks :) because there were no failed tasks or missing dependencies\n",
      "\n",
      "===== Luigi Execution Summary =====\n",
      "\n"
     ]
    }
   ],
   "source": [
    "!LUIGI_CONFIG_PATH=/tmp/luigi.cfg python3 -m luigi --module pipeline DownloadSalesData  --local-scheduler"
   ]
  },
  {
   "cell_type": "code",
   "execution_count": 9,
   "id": "79e40435-6b81-45e6-b4bf-fc25c6d297fd",
   "metadata": {},
   "outputs": [
    {
     "name": "stdout",
     "output_type": "stream",
     "text": [
      "Fance,May,100\n",
      "Germany,May,200\n",
      "Fance,June,140\n",
      "Germany,June,180\n",
      "UK,June,180\n",
      "France,June,240\n",
      "Germany,June,180\n"
     ]
    }
   ],
   "source": [
    "!cat all_sales.csv"
   ]
  },
  {
   "cell_type": "code",
   "execution_count": 10,
   "id": "61fc2000-270a-43da-aa86-087793ab51aa",
   "metadata": {},
   "outputs": [
    {
     "name": "stdout",
     "output_type": "stream",
     "text": [
      "1\n",
      "2\n",
      "3\n"
     ]
    }
   ],
   "source": [
    "!ls -1 /tmp/output"
   ]
  },
  {
   "cell_type": "code",
   "execution_count": 11,
   "id": "f76b145f-eb3d-454b-8769-d136749856de",
   "metadata": {},
   "outputs": [
    {
     "name": "stdout",
     "output_type": "stream",
     "text": [
      "sales1.csv\n"
     ]
    }
   ],
   "source": [
    "!ls -1 /tmp/output/1/"
   ]
  },
  {
   "cell_type": "code",
   "execution_count": 12,
   "id": "1e6d0acd-4e85-4246-90e1-4b75aa7ce61d",
   "metadata": {},
   "outputs": [
    {
     "name": "stdout",
     "output_type": "stream",
     "text": [
      "sales2.csv\n"
     ]
    }
   ],
   "source": [
    "!ls -1 /tmp/output/2/"
   ]
  },
  {
   "cell_type": "code",
   "execution_count": 13,
   "id": "d8004ef3-d93a-4210-949b-57272c354bf9",
   "metadata": {},
   "outputs": [
    {
     "name": "stdout",
     "output_type": "stream",
     "text": [
      "sales3.csv\n"
     ]
    }
   ],
   "source": [
    "!ls -1 /tmp/output/3/"
   ]
  },
  {
   "cell_type": "code",
   "execution_count": 14,
   "id": "de284364-2624-464d-97b7-fb85fb58b1f0",
   "metadata": {},
   "outputs": [
    {
     "name": "stdout",
     "output_type": "stream",
     "text": [
      "Fance,May,100\n",
      "Germany,May,200\n"
     ]
    }
   ],
   "source": [
    "!cat /tmp/output/1/sales1.csv"
   ]
  },
  {
   "cell_type": "code",
   "execution_count": null,
   "id": "758ee028-7a72-48bf-ba2a-00757e03f395",
   "metadata": {},
   "outputs": [],
   "source": []
  }
 ],
 "metadata": {
  "kernelspec": {
   "display_name": "Python 3 (ipykernel)",
   "language": "python",
   "name": "python3"
  },
  "language_info": {
   "codemirror_mode": {
    "name": "ipython",
    "version": 3
   },
   "file_extension": ".py",
   "mimetype": "text/x-python",
   "name": "python",
   "nbconvert_exporter": "python",
   "pygments_lexer": "ipython3",
   "version": "3.8.10"
  }
 },
 "nbformat": 4,
 "nbformat_minor": 5
}
