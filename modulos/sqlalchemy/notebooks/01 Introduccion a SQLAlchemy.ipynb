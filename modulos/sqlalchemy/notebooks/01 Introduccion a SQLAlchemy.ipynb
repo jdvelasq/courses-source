{
 "cells": [
  {
   "cell_type": "markdown",
   "metadata": {},
   "source": [
    "Introducción a SQLAlchemy\n",
    "===="
   ]
  },
  {
   "cell_type": "markdown",
   "metadata": {},
   "source": [
    "* La arquitectura de SQLAlchemy es la siguiente:"
   ]
  },
  {
   "cell_type": "markdown",
   "metadata": {},
   "source": [
    "![sqlalchemy](_assets/sqla_arch_small.png)"
   ]
  },
  {
   "cell_type": "markdown",
   "metadata": {},
   "source": [
    "* El **SQLALchemy ORM** se basa en una vista de la base de datos centrada en el dominio que es orientado a estados."
   ]
  },
  {
   "cell_type": "markdown",
   "metadata": {},
   "source": [
    "* El **SQLAlchemy Core** se basa en una vista de la base de datos centrada en el esquema que es orientada a comandos."
   ]
  },
  {
   "cell_type": "markdown",
   "metadata": {},
   "source": [
    "* Existen tres (3) documentos fundamentales para el uso de SQLAlchemy:\n",
    "\n",
    "  * El tutorial unificado.\n",
    "\n",
    "  * El tutorial del SQLALchemy ORM.\n",
    "\n",
    "  * El manual del SQLALchemy Core.\n",
    "\n",
    "  * El manual de referencia para todos los dialectos."
   ]
  }
 ],
 "metadata": {
  "kernelspec": {
   "display_name": "Python 3 (ipykernel)",
   "language": "python",
   "name": "python3"
  },
  "language_info": {
   "codemirror_mode": {
    "name": "ipython",
    "version": 3
   },
   "file_extension": ".py",
   "mimetype": "text/x-python",
   "name": "python",
   "nbconvert_exporter": "python",
   "pygments_lexer": "ipython3",
   "version": "3.9.6"
  },
  "vscode": {
   "interpreter": {
    "hash": "2482a4565599eda3cd2db35331af39775c1f78a505a9deef48c721423040da5b"
   }
  }
 },
 "nbformat": 4,
 "nbformat_minor": 4
}
