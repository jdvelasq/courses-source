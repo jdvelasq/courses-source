{
 "cells": [
  {
   "cell_type": "markdown",
   "metadata": {},
   "source": [
    "Programación Avanzada\n",
    "===\n",
    "\n",
    "* 30 min | Última modificación: Noviembre 07, 2019"
   ]
  },
  {
   "cell_type": "markdown",
   "metadata": {},
   "source": [
    "Cell magic `%%pig`\n",
    "---"
   ]
  },
  {
   "cell_type": "code",
   "execution_count": 1,
   "metadata": {},
   "outputs": [],
   "source": [
    "from IPython.core.magic import Magics, cell_magic, line_magic, magics_class\n",
    "from pexpect import spawn\n",
    "\n",
    "TIMEOUT = 120\n",
    "PROG = \"pig\"\n",
    "PROMPT = [\"\\r\\n>> \", \"\\r\\ngrunt> \"]\n",
    "DISCARD = [\"INFO  org.apache\", \"WARN  org.apache\"]\n",
    "QUIT = \"quit\"\n",
    "\n",
    "\n",
    "@magics_class\n",
    "class Magic(Magics):\n",
    "    def __init__(self, shell):\n",
    "        super().__init__(shell)\n",
    "        self.app = spawn(PROG, timeout=60)\n",
    "        self.app.expect(PROMPT)\n",
    "\n",
    "    @cell_magic\n",
    "    def pig(self, line, cell):\n",
    "        cell_lines = [cell_line.strip() for cell_line in cell.split(\"\\n\")]\n",
    "        cell_lines = [cell_line for cell_line in cell_lines if cell_line != \"\"]\n",
    "        for cell_line in cell_lines:\n",
    "            self.app.sendline(cell_line)\n",
    "            self.app.expect(PROMPT, timeout=TIMEOUT)\n",
    "            output = self.app.before.decode()\n",
    "            output = output.replace(\"\\r\\n\", \"\\n\")\n",
    "            output = output.split(\"\\n\")\n",
    "            output = [output_line.strip() for output_line in output]\n",
    "            for output_line in output:\n",
    "                if output_line not in cell_lines:\n",
    "                    if not any(word in output_line for word in DISCARD):\n",
    "                        print(output_line)\n",
    "        return None\n",
    "\n",
    "    @line_magic\n",
    "    def quit(self, line):\n",
    "        self.app.sendline(QUIT)\n",
    "\n",
    "\n",
    "def load_ipython_extension(ip):\n",
    "    ip.register_magics(Magic(ip))\n",
    "\n",
    "\n",
    "load_ipython_extension(ip=get_ipython())"
   ]
  },
  {
   "cell_type": "markdown",
   "metadata": {},
   "source": [
    "## Actividad"
   ]
  },
  {
   "cell_type": "markdown",
   "metadata": {},
   "source": [
    "Explique el resultado que produce cada uno de los comandos presentados a continuación."
   ]
  },
  {
   "cell_type": "markdown",
   "metadata": {},
   "source": [
    "### COGROUP"
   ]
  },
  {
   "cell_type": "code",
   "execution_count": 2,
   "metadata": {},
   "outputs": [
    {
     "name": "stdout",
     "output_type": "stream",
     "text": [
      "Overwriting /tmp/data0.tsv\n"
     ]
    }
   ],
   "source": [
    "%%writefile /tmp/data0.tsv\n",
    "A\t10\t1\n",
    "B\t20\t2\n",
    "C\t30\t3\n",
    "D\t40\t4"
   ]
  },
  {
   "cell_type": "code",
   "execution_count": 3,
   "metadata": {},
   "outputs": [
    {
     "name": "stdout",
     "output_type": "stream",
     "text": [
      "Overwriting /tmp/data1.tsv\n"
     ]
    }
   ],
   "source": [
    "%%writefile /tmp/data1.tsv\n",
    "A\t50\t5\n",
    "B\t60\t6\n",
    "C\t70\t7\n",
    "D\t80\t8"
   ]
  },
  {
   "cell_type": "code",
   "execution_count": 4,
   "metadata": {},
   "outputs": [
    {
     "name": "stdout",
     "output_type": "stream",
     "text": [
      "put: `data.tsv': File exists\n",
      "put: `data0.tsv': File exists\n",
      "put: `data1.tsv': File exists\n",
      "Found 5 items\n",
      "-rw-r--r--   1 root supergroup         60 2022-05-17 02:15 data.tsv\n",
      "-rw-r--r--   1 root supergroup         28 2022-05-17 02:18 data0.tsv\n",
      "-rw-r--r--   1 root supergroup         28 2022-05-17 02:18 data1.tsv\n",
      "-rw-r--r--   1 root supergroup         27 2022-05-17 02:12 jointable.csv\n",
      "-rw-r--r--   1 root supergroup        616 2022-05-17 02:08 persons.csv\n"
     ]
    }
   ],
   "source": [
    "!hadoop fs -put /tmp/*.tsv .\n",
    "!hadoop fs -ls "
   ]
  },
  {
   "cell_type": "code",
   "execution_count": 5,
   "metadata": {},
   "outputs": [
    {
     "name": "stdout",
     "output_type": "stream",
     "text": [
      "(A,{(A,10,1)},{(A,50,5)})\n",
      "(B,{(B,20,2)},{(B,60,6)})\n",
      "(C,{(C,30,3)},{(C,70,7)})\n",
      "(D,{(D,40,4)},{(D,80,8)})\n"
     ]
    }
   ],
   "source": [
    "%%pig\n",
    "u = LOAD 'data0.tsv' AS (f1:CHARARRAY, f2:INT, f3:INT);\n",
    "v = LOAD 'data1.tsv' AS (f1:CHARARRAY, f4:INT, f5:INT);\n",
    "s = COGROUP u BY f1, v BY f1;\n",
    "DUMP s;"
   ]
  },
  {
   "cell_type": "markdown",
   "metadata": {},
   "source": [
    "### UNION"
   ]
  },
  {
   "cell_type": "code",
   "execution_count": 6,
   "metadata": {},
   "outputs": [
    {
     "name": "stdout",
     "output_type": "stream",
     "text": [
      "(A,10,1)\n",
      "(B,20,2)\n",
      "(C,30,3)\n",
      "(D,40,4)\n",
      "(A,50,5)\n",
      "(B,60,6)\n",
      "(C,70,7)\n",
      "(D,80,8)\n"
     ]
    }
   ],
   "source": [
    "%%pig\n",
    "s = UNION u, v;\n",
    "DUMP s;"
   ]
  },
  {
   "cell_type": "markdown",
   "metadata": {},
   "source": [
    "### CROSS"
   ]
  },
  {
   "cell_type": "code",
   "execution_count": 7,
   "metadata": {},
   "outputs": [
    {
     "name": "stdout",
     "output_type": "stream",
     "text": [
      "(D,40,4,D,80,8)\n",
      "(D,40,4,C,70,7)\n",
      "(D,40,4,B,60,6)\n",
      "(D,40,4,A,50,5)\n",
      "(C,30,3,D,80,8)\n",
      "(C,30,3,C,70,7)\n",
      "(C,30,3,B,60,6)\n",
      "(C,30,3,A,50,5)\n",
      "(B,20,2,D,80,8)\n",
      "(B,20,2,C,70,7)\n",
      "(B,20,2,B,60,6)\n",
      "(B,20,2,A,50,5)\n",
      "(A,10,1,D,80,8)\n",
      "(A,10,1,C,70,7)\n",
      "(A,10,1,B,60,6)\n",
      "(A,10,1,A,50,5)\n"
     ]
    }
   ],
   "source": [
    "%%pig\n",
    "s = CROSS u, v;\n",
    "DUMP s;"
   ]
  },
  {
   "cell_type": "markdown",
   "metadata": {},
   "source": [
    "### RANK"
   ]
  },
  {
   "cell_type": "code",
   "execution_count": 8,
   "metadata": {},
   "outputs": [
    {
     "name": "stdout",
     "output_type": "stream",
     "text": [
      "(1,A,10,1)\n",
      "(2,B,20,2)\n",
      "(3,C,30,3)\n",
      "(4,D,40,4)\n"
     ]
    }
   ],
   "source": [
    "%%pig\n",
    "s = RANK u BY f2;\n",
    "DUMP s;"
   ]
  },
  {
   "cell_type": "markdown",
   "metadata": {},
   "source": [
    "### STREAM"
   ]
  },
  {
   "cell_type": "markdown",
   "metadata": {},
   "source": [
    "Revise la documentación sobre este operador."
   ]
  },
  {
   "cell_type": "code",
   "execution_count": 9,
   "metadata": {},
   "outputs": [
    {
     "name": "stdout",
     "output_type": "stream",
     "text": [
      "(3,C,30,3)\n",
      "(4,D,40,4)\n"
     ]
    }
   ],
   "source": [
    "%%pig\n",
    "w = STREAM s THROUGH  `tail -n 2 `;\n",
    "DUMP w;"
   ]
  },
  {
   "cell_type": "markdown",
   "metadata": {},
   "source": [
    "### CUBE"
   ]
  },
  {
   "cell_type": "code",
   "execution_count": 10,
   "metadata": {},
   "outputs": [
    {
     "name": "stdout",
     "output_type": "stream",
     "text": [
      "(A,10,1)\n",
      "(B,20,2)\n",
      "(C,30,3)\n",
      "(D,40,4)\n"
     ]
    }
   ],
   "source": [
    "%%pig \n",
    "DUMP u;"
   ]
  },
  {
   "cell_type": "code",
   "execution_count": 11,
   "metadata": {},
   "outputs": [
    {
     "name": "stdout",
     "output_type": "stream",
     "text": [
      "((A,10),{(A,10,1)})\n",
      "((A,),{(A,,1)})\n",
      "((B,20),{(B,20,2)})\n",
      "((B,),{(B,,2)})\n",
      "((C,30),{(C,30,3)})\n",
      "((C,),{(C,,3)})\n",
      "((D,40),{(D,40,4)})\n",
      "((D,),{(D,,4)})\n",
      "((,10),{(,10,1)})\n",
      "((,20),{(,20,2)})\n",
      "((,30),{(,30,3)})\n",
      "((,40),{(,40,4)})\n",
      "((,),{(,,4),(,,3),(,,1),(,,2)})\n"
     ]
    }
   ],
   "source": [
    "%%pig \n",
    "s = CUBE u BY cube(f1, f2);\n",
    "DUMP s;"
   ]
  },
  {
   "cell_type": "markdown",
   "metadata": {},
   "source": [
    "### EXPLAIN"
   ]
  },
  {
   "cell_type": "markdown",
   "metadata": {},
   "source": [
    "Revise la documentación sobre este operador."
   ]
  },
  {
   "cell_type": "markdown",
   "metadata": {},
   "source": [
    "### ILLUSTRATE"
   ]
  },
  {
   "cell_type": "code",
   "execution_count": 12,
   "metadata": {},
   "outputs": [
    {
     "name": "stdout",
     "output_type": "stream",
     "text": [
      "(C,30,3)\n",
      "------------------------------------------------------\n",
      "| u     | f1:chararray     | f2:int     | f3:int     |\n",
      "------------------------------------------------------\n",
      "|       | C                | 30         | 3          |\n",
      "|       | D                | 40         | 4          |\n",
      "------------------------------------------------------\n",
      "---------------------------------------------------------\n",
      "| cube     | f1:chararray     | f2:int     | f3:int     |\n",
      "---------------------------------------------------------\n",
      "|          | C                | 30         | 3          |\n",
      "|          | C                |            | 3          |\n",
      "|          |                  | 30         | 3          |\n",
      "|          |                  |            | 3          |\n",
      "|          | D                | 40         | 4          |\n",
      "|          | D                |            | 4          |\n",
      "|          |                  | 40         | 4          |\n",
      "|          |                  |            | 4          |\n",
      "---------------------------------------------------------\n",
      "---------------------------------------------------------------------------------------------------------------------------\n",
      "| s     | group:tuple(f1:chararray,f2:int)             | cube:bag{:tuple(f1:chararray,f2:int,f3:int)}                     |\n",
      "---------------------------------------------------------------------------------------------------------------------------\n",
      "|       | (C, 30)                                      | {(C, 30, 3)}                                                     |\n",
      "|       | (C, )                                        | {(C, , 3)}                                                       |\n",
      "|       | (D, 40)                                      | {(D, 40, 4)}                                                     |\n",
      "|       | (D, )                                        | {(D, , 4)}                                                       |\n",
      "|       | (, 30)                                       | {(, 30, 3)}                                                      |\n",
      "|       | (, 40)                                       | {(, 40, 4)}                                                      |\n",
      "|       | (, )                                         | {(, , 3), (, , 4)}                                               |\n",
      "---------------------------------------------------------------------------------------------------------------------------\n",
      "\n"
     ]
    }
   ],
   "source": [
    "%%pig\n",
    "ILLUSTRATE s;"
   ]
  },
  {
   "cell_type": "code",
   "execution_count": 13,
   "metadata": {},
   "outputs": [],
   "source": [
    "%quit"
   ]
  }
 ],
 "metadata": {
  "kernelspec": {
   "display_name": "Python 3 (ipykernel)",
   "language": "python",
   "name": "python3"
  },
  "language_info": {
   "codemirror_mode": {
    "name": "ipython",
    "version": 3
   },
   "file_extension": ".py",
   "mimetype": "text/x-python",
   "name": "python",
   "nbconvert_exporter": "python",
   "pygments_lexer": "ipython3",
   "version": "3.8.10"
  }
 },
 "nbformat": 4,
 "nbformat_minor": 4
}
