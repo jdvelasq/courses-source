{
 "cells": [
  {
   "cell_type": "markdown",
   "id": "62b084fa-f262-4977-bc2c-d4a82e355e79",
   "metadata": {},
   "source": [
    "Búsqueda de la palabra más frecuente\n",
    "===\n",
    "\n",
    "* Última modificación: Mayo 13, 2022"
   ]
  },
  {
   "cell_type": "markdown",
   "id": "33c33f80-5ba7-4908-9809-c34f5bd42457",
   "metadata": {},
   "source": [
    "Archivos de prueba\n",
    "--"
   ]
  },
  {
   "cell_type": "code",
   "execution_count": 1,
   "id": "23627f6e-6a05-486a-8c94-66d5df3f69d9",
   "metadata": {},
   "outputs": [
    {
     "name": "stdout",
     "output_type": "stream",
     "text": [
      "/tmp/wordcount\n",
      "input\n"
     ]
    }
   ],
   "source": [
    "#\n",
    "# Se crea el directorio de entrada\n",
    "#\n",
    "!rm -rf /tmp/wordcount\n",
    "!mkdir -p /tmp/wordcount/input\n",
    "%cd /tmp/wordcount\n",
    "!ls"
   ]
  },
  {
   "cell_type": "code",
   "execution_count": 2,
   "id": "7c103eca-878c-498a-8513-37f82b9b1cb9",
   "metadata": {},
   "outputs": [
    {
     "name": "stdout",
     "output_type": "stream",
     "text": [
      "Writing input/text0.txt\n"
     ]
    }
   ],
   "source": [
    "%%writefile input/text0.txt\n",
    "Analytics is the discovery, interpretation, and communication of meaningful patterns \n",
    "in data. Especially valuable in areas rich with recorded information, analytics relies \n",
    "on the simultaneous application of statistics, computer programming and operations research \n",
    "to quantify performance.\n",
    "\n",
    "Organizations may apply analytics to business data to describe, predict, and improve business \n",
    "performance. Specifically, areas within analytics include predictive analytics, prescriptive \n",
    "analytics, enterprise decision management, descriptive analytics, cognitive analytics, Big \n",
    "Data Analytics, retail analytics, store assortment and stock-keeping unit optimization, \n",
    "marketing optimization and marketing mix modeling, web analytics, call analytics, speech \n",
    "analytics, sales force sizing and optimization, price and promotion modeling, predictive \n",
    "science, credit risk analysis, and fraud analytics. Since analytics can require extensive \n",
    "computation (see big data), the algorithms and software used for analytics harness the most \n",
    "current methods in computer science, statistics, and mathematics."
   ]
  },
  {
   "cell_type": "code",
   "execution_count": 3,
   "id": "4c88c310-c236-4bca-be20-07b117b27d81",
   "metadata": {},
   "outputs": [
    {
     "name": "stdout",
     "output_type": "stream",
     "text": [
      "Writing input/text1.txt\n"
     ]
    }
   ],
   "source": [
    "%%writefile input/text1.txt\n",
    "The field of data analysis. Analytics often involves studying past historical data to \n",
    "research potential trends, to analyze the effects of certain decisions or events, or to \n",
    "evaluate the performance of a given tool or scenario. The goal of analytics is to improve \n",
    "the business by gaining knowledge which can be used to make improvements or changes."
   ]
  },
  {
   "cell_type": "code",
   "execution_count": 4,
   "id": "efa60359-9b90-4cf5-b5a6-9d9496ea8f09",
   "metadata": {},
   "outputs": [
    {
     "name": "stdout",
     "output_type": "stream",
     "text": [
      "Writing input/text2.txt\n"
     ]
    }
   ],
   "source": [
    "%%writefile input/text2.txt\n",
    "Data analytics (DA) is the process of examining data sets in order to draw conclusions \n",
    "about the information they contain, increasingly with the aid of specialized systems \n",
    "and software. Data analytics technologies and techniques are widely used in commercial \n",
    "industries to enable organizations to make more-informed business decisions and by \n",
    "scientists and researchers to verify or disprove scientific models, theories and \n",
    "hypotheses."
   ]
  },
  {
   "cell_type": "markdown",
   "id": "7f8ee8c3-43c6-41da-9abd-21b639fdb8c8",
   "metadata": {},
   "source": [
    "Implementación del Algoritmo MapReduce con dos jobs\n",
    "---"
   ]
  },
  {
   "cell_type": "code",
   "execution_count": 5,
   "id": "f761710f-8a09-4b17-bf71-764bd83c0b9d",
   "metadata": {},
   "outputs": [
    {
     "name": "stdout",
     "output_type": "stream",
     "text": [
      "Writing most_frequent_words.py\n"
     ]
    }
   ],
   "source": [
    "%%writefile most_frequent_words.py\n",
    "\n",
    "import string\n",
    "\n",
    "from mrjob.job import MRJob\n",
    "from mrjob.step import MRStep\n",
    "\n",
    "from operator import itemgetter\n",
    "\n",
    "class MostFrequentWords(MRJob):\n",
    "    #\n",
    "    def steps(self):\n",
    "        return [\n",
    "            MRStep(\n",
    "                mapper=self.mapper_get_words,\n",
    "                reducer=self.reducer_count_words,\n",
    "            ),\n",
    "            MRStep(\n",
    "                mapper=self.mapper_group_words,\n",
    "                reducer=self.reducer_group_words,\n",
    "            ),\n",
    "        ]\n",
    "\n",
    "    # --< Job 1 >------------------------------------------------------------------------\n",
    "    def preprocessing(self, word):\n",
    "        word = word.lower()\n",
    "        word = word.translate(str.maketrans(\"\", \"\", string.punctuation))\n",
    "        word = word.replace(\"\\n\", \"\")\n",
    "        return word\n",
    "\n",
    "    def mapper_get_words(self, _, line):\n",
    "        for word in line.split():\n",
    "            word = self.preprocessing(word)\n",
    "            yield word, 1\n",
    "\n",
    "    def reducer_count_words(self, word, counts):\n",
    "        yield word, sum(counts)\n",
    "\n",
    "    # --< Job 2 >------------------------------------------------------------------------\n",
    "    def mapper_group_words(self, word, counts):\n",
    "        yield \"COUNTS\", (counts, word)\n",
    "    \n",
    "    def reducer_group_words(self, dummy_key, pairs):        \n",
    "        top = []\n",
    "        for pair in pairs:\n",
    "            top.extend(list(pairs))\n",
    "            top.sort()\n",
    "            top = top[-10:]\n",
    "        \n",
    "        for e in top:\n",
    "            yield e[1], e[0]\n",
    "\n",
    "\n",
    "if __name__ == \"__main__\":\n",
    "    MostFrequentWords.run()"
   ]
  },
  {
   "cell_type": "markdown",
   "id": "2434115c-b72f-44f9-97f2-21de86ee87a8",
   "metadata": {},
   "source": [
    "Ejecución\n",
    "---"
   ]
  },
  {
   "cell_type": "code",
   "execution_count": 6,
   "id": "63a19601-e5c7-45c3-8237-2ff9365c70a9",
   "metadata": {},
   "outputs": [
    {
     "name": "stdout",
     "output_type": "stream",
     "text": [
      "No configs found; falling back on auto-configuration\n",
      "No configs specified for inline runner\n",
      "Creating temp directory /tmp/most_frequent_words.root.20220526.023852.129587\n",
      "Running step 1 of 2...\n",
      "Running step 2 of 2...\n",
      "job output is in /tmp/most_frequent_words.root.20220526.023852.129587/output\n",
      "Streaming final output from /tmp/most_frequent_words.root.20220526.023852.129587/output...\n",
      "Removing temp directory /tmp/most_frequent_words.root.20220526.023852.129587...\n"
     ]
    }
   ],
   "source": [
    "!python3 most_frequent_words.py  input/*.txt > result.txt"
   ]
  },
  {
   "cell_type": "code",
   "execution_count": 7,
   "id": "727c38f3-c083-4f7e-bcab-b8b9a47467f7",
   "metadata": {},
   "outputs": [
    {
     "name": "stdout",
     "output_type": "stream",
     "text": [
      "\"performance\"\t3\n",
      "\"used\"\t3\n",
      "\"in\"\t5\n",
      "\"or\"\t5\n",
      "\"of\"\t8\n",
      "\"data\"\t9\n",
      "\"the\"\t12\n",
      "\"to\"\t12\n",
      "\"and\"\t15\n",
      "\"analytics\"\t20\n"
     ]
    }
   ],
   "source": [
    "!cat result.txt"
   ]
  }
 ],
 "metadata": {
  "kernelspec": {
   "display_name": "Python 3 (ipykernel)",
   "language": "python",
   "name": "python3"
  },
  "language_info": {
   "codemirror_mode": {
    "name": "ipython",
    "version": 3
   },
   "file_extension": ".py",
   "mimetype": "text/x-python",
   "name": "python",
   "nbconvert_exporter": "python",
   "pygments_lexer": "ipython3",
   "version": "3.8.10"
  }
 },
 "nbformat": 4,
 "nbformat_minor": 5
}
