{
 "cells": [
  {
   "cell_type": "markdown",
   "id": "650c172d-f4c1-4778-8149-fd4f536fb3af",
   "metadata": {},
   "source": [
    "Conteo de palabras con mrjob\n",
    "===\n",
    "\n",
    "* Última modificación: Mayo 13, 2022"
   ]
  },
  {
   "cell_type": "markdown",
   "id": "18914804-7787-43ab-8689-3ed4ea92f13a",
   "metadata": {},
   "source": [
    "Archivos de prueba\n",
    "--"
   ]
  },
  {
   "cell_type": "code",
   "execution_count": 1,
   "id": "3d7a1308-bed3-4862-a960-272e99217003",
   "metadata": {},
   "outputs": [
    {
     "name": "stdout",
     "output_type": "stream",
     "text": [
      "/tmp/wordcount\n",
      "input\n"
     ]
    }
   ],
   "source": [
    "#\n",
    "# Se crea el directorio de entrada\n",
    "#\n",
    "!rm -rf /tmp/wordcount\n",
    "!mkdir -p /tmp/wordcount/input\n",
    "%cd /tmp/wordcount\n",
    "!ls"
   ]
  },
  {
   "cell_type": "code",
   "execution_count": 2,
   "id": "7c103eca-878c-498a-8513-37f82b9b1cb9",
   "metadata": {},
   "outputs": [
    {
     "name": "stdout",
     "output_type": "stream",
     "text": [
      "Writing input/text0.txt\n"
     ]
    }
   ],
   "source": [
    "%%writefile input/text0.txt\n",
    "Analytics is the discovery, interpretation, and communication of meaningful patterns \n",
    "in data. Especially valuable in areas rich with recorded information, analytics relies \n",
    "on the simultaneous application of statistics, computer programming and operations research \n",
    "to quantify performance.\n",
    "\n",
    "Organizations may apply analytics to business data to describe, predict, and improve business \n",
    "performance. Specifically, areas within analytics include predictive analytics, prescriptive \n",
    "analytics, enterprise decision management, descriptive analytics, cognitive analytics, Big \n",
    "Data Analytics, retail analytics, store assortment and stock-keeping unit optimization, \n",
    "marketing optimization and marketing mix modeling, web analytics, call analytics, speech \n",
    "analytics, sales force sizing and optimization, price and promotion modeling, predictive \n",
    "science, credit risk analysis, and fraud analytics. Since analytics can require extensive \n",
    "computation (see big data), the algorithms and software used for analytics harness the most \n",
    "current methods in computer science, statistics, and mathematics."
   ]
  },
  {
   "cell_type": "code",
   "execution_count": 3,
   "id": "4c88c310-c236-4bca-be20-07b117b27d81",
   "metadata": {},
   "outputs": [
    {
     "name": "stdout",
     "output_type": "stream",
     "text": [
      "Writing input/text1.txt\n"
     ]
    }
   ],
   "source": [
    "%%writefile input/text1.txt\n",
    "The field of data analysis. Analytics often involves studying past historical data to \n",
    "research potential trends, to analyze the effects of certain decisions or events, or to \n",
    "evaluate the performance of a given tool or scenario. The goal of analytics is to improve \n",
    "the business by gaining knowledge which can be used to make improvements or changes."
   ]
  },
  {
   "cell_type": "code",
   "execution_count": 4,
   "id": "efa60359-9b90-4cf5-b5a6-9d9496ea8f09",
   "metadata": {},
   "outputs": [
    {
     "name": "stdout",
     "output_type": "stream",
     "text": [
      "Writing input/text2.txt\n"
     ]
    }
   ],
   "source": [
    "%%writefile input/text2.txt\n",
    "Data analytics (DA) is the process of examining data sets in order to draw conclusions \n",
    "about the information they contain, increasingly with the aid of specialized systems \n",
    "and software. Data analytics technologies and techniques are widely used in commercial \n",
    "industries to enable organizations to make more-informed business decisions and by \n",
    "scientists and researchers to verify or disprove scientific models, theories and \n",
    "hypotheses."
   ]
  },
  {
   "cell_type": "markdown",
   "id": "50cbd123-e5a1-4499-a40c-6e33836dbce1",
   "metadata": {},
   "source": [
    "Implementación del Algoritmo MapReduce\n",
    "---"
   ]
  },
  {
   "cell_type": "code",
   "execution_count": 5,
   "id": "f761710f-8a09-4b17-bf71-764bd83c0b9d",
   "metadata": {},
   "outputs": [
    {
     "name": "stdout",
     "output_type": "stream",
     "text": [
      "Writing word_counter.py\n"
     ]
    }
   ],
   "source": [
    "%%writefile word_counter.py\n",
    "\n",
    "import string\n",
    "\n",
    "from mrjob.job import MRJob\n",
    "\n",
    "\n",
    "class WordCounter(MRJob):\n",
    "    def preprocessing(self, word):\n",
    "        word = word.lower()\n",
    "        word = word.translate(str.maketrans(\"\", \"\", string.punctuation))\n",
    "        word = word.replace(\"\\n\", \"\")\n",
    "        return word\n",
    "\n",
    "    def mapper(self, _, line):\n",
    "        for word in line.split():\n",
    "            word = self.preprocessing(word)\n",
    "            yield word, 1\n",
    "\n",
    "    def reducer(self, key, values):\n",
    "        yield key, sum(values)\n",
    "\n",
    "\n",
    "if __name__ == \"__main__\":\n",
    "    WordCounter.run()"
   ]
  },
  {
   "cell_type": "markdown",
   "id": "c211a43b-fe2b-4c76-8c8a-f7fcd9be5f9d",
   "metadata": {},
   "source": [
    "Ejecución\n",
    "---"
   ]
  },
  {
   "cell_type": "code",
   "execution_count": 6,
   "id": "cf0f781e-6bfd-45c9-a4a9-31c5ed42cb6c",
   "metadata": {},
   "outputs": [
    {
     "name": "stdout",
     "output_type": "stream",
     "text": [
      "No configs found; falling back on auto-configuration\n",
      "No configs specified for inline runner\n",
      "Creating temp directory /tmp/word_counter.root.20220526.023642.466507\n",
      "Running step 1 of 1...\n",
      "job output is in /tmp/word_counter.root.20220526.023642.466507/output\n",
      "Streaming final output from /tmp/word_counter.root.20220526.023642.466507/output...\n",
      "\"business\"\t4\n",
      "\"by\"\t2\n",
      "\"call\"\t1\n",
      "\"can\"\t2\n",
      "\"draw\"\t1\n",
      "\"effects\"\t1\n",
      "\"enable\"\t1\n",
      "\"enterprise\"\t1\n",
      "\"especially\"\t1\n",
      "\"evaluate\"\t1\n",
      "\"events\"\t1\n",
      "\"examining\"\t1\n",
      "\"a\"\t1\n",
      "\"about\"\t1\n",
      "\"aid\"\t1\n",
      "\"algorithms\"\t1\n",
      "\"analysis\"\t2\n",
      "\"analytics\"\t20\n",
      "\"moreinformed\"\t1\n",
      "\"most\"\t1\n",
      "\"of\"\t8\n",
      "\"often\"\t1\n",
      "\"extensive\"\t1\n",
      "\"field\"\t1\n",
      "\"for\"\t1\n",
      "\"force\"\t1\n",
      "\"fraud\"\t1\n",
      "\"gaining\"\t1\n",
      "\"given\"\t1\n",
      "\"goal\"\t1\n",
      "\"harness\"\t1\n",
      "\"decision\"\t1\n",
      "\"decisions\"\t2\n",
      "\"describe\"\t1\n",
      "\"descriptive\"\t1\n",
      "\"discovery\"\t1\n",
      "\"disprove\"\t1\n",
      "\"certain\"\t1\n",
      "\"changes\"\t1\n",
      "\"cognitive\"\t1\n",
      "\"commercial\"\t1\n",
      "\"communication\"\t1\n",
      "\"computation\"\t1\n",
      "\"computer\"\t2\n",
      "\"involves\"\t1\n",
      "\"is\"\t3\n",
      "\"knowledge\"\t1\n",
      "\"make\"\t2\n",
      "\"management\"\t1\n",
      "\"marketing\"\t2\n",
      "\"application\"\t1\n",
      "\"apply\"\t1\n",
      "\"are\"\t1\n",
      "\"areas\"\t2\n",
      "\"assortment\"\t1\n",
      "\"be\"\t1\n",
      "\"big\"\t2\n",
      "\"analyze\"\t1\n",
      "\"and\"\t15\n",
      "\"include\"\t1\n",
      "\"increasingly\"\t1\n",
      "\"industries\"\t1\n",
      "\"information\"\t2\n",
      "\"interpretation\"\t1\n",
      "\"theories\"\t1\n",
      "\"they\"\t1\n",
      "\"to\"\t12\n",
      "\"which\"\t1\n",
      "\"widely\"\t1\n",
      "\"with\"\t2\n",
      "\"within\"\t1\n",
      "\"on\"\t1\n",
      "\"operations\"\t1\n",
      "\"optimization\"\t3\n",
      "\"or\"\t5\n",
      "\"mathematics\"\t1\n",
      "\"may\"\t1\n",
      "\"meaningful\"\t1\n",
      "\"methods\"\t1\n",
      "\"mix\"\t1\n",
      "\"modeling\"\t2\n",
      "\"models\"\t1\n",
      "\"potential\"\t1\n",
      "\"predict\"\t1\n",
      "\"predictive\"\t2\n",
      "\"prescriptive\"\t1\n",
      "\"price\"\t1\n",
      "\"process\"\t1\n",
      "\"specialized\"\t1\n",
      "\"specifically\"\t1\n",
      "\"speech\"\t1\n",
      "\"statistics\"\t2\n",
      "\"stockkeeping\"\t1\n",
      "\"historical\"\t1\n",
      "\"hypotheses\"\t1\n",
      "\"improve\"\t2\n",
      "\"improvements\"\t1\n",
      "\"in\"\t5\n",
      "\"store\"\t1\n",
      "\"studying\"\t1\n",
      "\"systems\"\t1\n",
      "\"techniques\"\t1\n",
      "\"technologies\"\t1\n",
      "\"the\"\t12\n",
      "\"order\"\t1\n",
      "\"organizations\"\t2\n",
      "\"past\"\t1\n",
      "\"patterns\"\t1\n",
      "\"performance\"\t3\n",
      "\"tool\"\t1\n",
      "\"trends\"\t1\n",
      "\"unit\"\t1\n",
      "\"used\"\t3\n",
      "\"valuable\"\t1\n",
      "\"verify\"\t1\n",
      "\"web\"\t1\n",
      "\"researchers\"\t1\n",
      "\"retail\"\t1\n",
      "\"rich\"\t1\n",
      "\"risk\"\t1\n",
      "\"sales\"\t1\n",
      "\"scenario\"\t1\n",
      "\"science\"\t2\n",
      "\"conclusions\"\t1\n",
      "\"contain\"\t1\n",
      "\"credit\"\t1\n",
      "\"current\"\t1\n",
      "\"da\"\t1\n",
      "\"data\"\t9\n",
      "\"scientific\"\t1\n",
      "\"scientists\"\t1\n",
      "\"see\"\t1\n",
      "\"sets\"\t1\n",
      "\"simultaneous\"\t1\n",
      "\"since\"\t1\n",
      "\"sizing\"\t1\n",
      "\"software\"\t2\n",
      "\"programming\"\t1\n",
      "\"promotion\"\t1\n",
      "\"quantify\"\t1\n",
      "\"recorded\"\t1\n",
      "\"relies\"\t1\n",
      "\"require\"\t1\n",
      "\"research\"\t2\n",
      "Removing temp directory /tmp/word_counter.root.20220526.023642.466507...\n"
     ]
    }
   ],
   "source": [
    "!python3 word_counter.py  input/*.txt"
   ]
  },
  {
   "cell_type": "code",
   "execution_count": 7,
   "id": "63a19601-e5c7-45c3-8237-2ff9365c70a9",
   "metadata": {},
   "outputs": [
    {
     "name": "stdout",
     "output_type": "stream",
     "text": [
      "No configs found; falling back on auto-configuration\n",
      "No configs specified for inline runner\n",
      "Creating temp directory /tmp/word_counter.root.20220526.023643.236983\n",
      "Running step 1 of 1...\n",
      "job output is in /tmp/word_counter.root.20220526.023643.236983/output\n",
      "Streaming final output from /tmp/word_counter.root.20220526.023643.236983/output...\n",
      "Removing temp directory /tmp/word_counter.root.20220526.023643.236983...\n"
     ]
    }
   ],
   "source": [
    "!python3 word_counter.py  input/*.txt > result.txt"
   ]
  },
  {
   "cell_type": "code",
   "execution_count": 8,
   "id": "727c38f3-c083-4f7e-bcab-b8b9a47467f7",
   "metadata": {},
   "outputs": [
    {
     "name": "stdout",
     "output_type": "stream",
     "text": [
      "\"business\"\t4\n",
      "\"by\"\t2\n",
      "\"call\"\t1\n",
      "\"can\"\t2\n",
      "\"draw\"\t1\n",
      "\"effects\"\t1\n",
      "\"enable\"\t1\n",
      "\"enterprise\"\t1\n",
      "\"especially\"\t1\n",
      "\"evaluate\"\t1\n"
     ]
    }
   ],
   "source": [
    "!head result.txt"
   ]
  }
 ],
 "metadata": {
  "kernelspec": {
   "display_name": "Python 3 (ipykernel)",
   "language": "python",
   "name": "python3"
  },
  "language_info": {
   "codemirror_mode": {
    "name": "ipython",
    "version": 3
   },
   "file_extension": ".py",
   "mimetype": "text/x-python",
   "name": "python",
   "nbconvert_exporter": "python",
   "pygments_lexer": "ipython3",
   "version": "3.8.10"
  }
 },
 "nbformat": 4,
 "nbformat_minor": 5
}
