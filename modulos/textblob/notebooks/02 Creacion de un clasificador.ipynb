{
 "cells": [
  {
   "cell_type": "markdown",
   "id": "05badfc6-cd0a-4e3a-bdbc-d73db51c46ee",
   "metadata": {},
   "source": [
    "Creación de un clasificador de texto con TextBlob\n",
    "==="
   ]
  },
  {
   "cell_type": "code",
   "execution_count": 1,
   "id": "6621577f-b5ce-467f-9d0e-c82533d8009e",
   "metadata": {},
   "outputs": [],
   "source": [
    "##\n",
    "## Carga de datos\n",
    "##\n",
    "train = [\n",
    "    (\"I love this sandwich.\", \"pos\"),\n",
    "    (\"this is an amazing place!\", \"pos\"),\n",
    "    (\"I feel very good about these beers.\", \"pos\"),\n",
    "    (\"this is my best work.\", \"pos\"),\n",
    "    (\"what an awesome view\", \"pos\"),\n",
    "    (\"I do not like this restaurant\", \"neg\"),\n",
    "    (\"I am tired of this stuff.\", \"neg\"),\n",
    "    (\"I can't deal with this\", \"neg\"),\n",
    "    (\"he is my sworn enemy!\", \"neg\"),\n",
    "    (\"my boss is horrible.\", \"neg\"),\n",
    "]\n",
    "\n",
    "test = [\n",
    "    (\"the beer was good.\", \"pos\"),\n",
    "    (\"I do not enjoy my job\", \"neg\"),\n",
    "    (\"I ain't feeling dandy today.\", \"neg\"),\n",
    "    (\"I feel amazing!\", \"pos\"),\n",
    "    (\"Gary is a friend of mine.\", \"pos\"),\n",
    "    (\"I can't believe I'm doing this.\", \"neg\"),\n",
    "]"
   ]
  },
  {
   "cell_type": "code",
   "execution_count": 2,
   "id": "78134e2b-d815-4427-a7dd-ca12b3321732",
   "metadata": {},
   "outputs": [],
   "source": [
    "##\n",
    "## Creación y entrenamiento de un clasificador\n",
    "##\n",
    "from textblob.classifiers import NaiveBayesClassifier\n",
    "\n",
    "cl = NaiveBayesClassifier(\n",
    "    # -------------------------------------------------------------------------\n",
    "    # The training set, either a list of tuples of the form \n",
    "    # (text, classification) or a filename. text may be either a string or an \n",
    "    # iterable.\n",
    "    train_set=train,\n",
    "    # -------------------------------------------------------------------------\n",
    "    # If train_set is a filename, the file format, e.g. \"csv\" or \"json\". \n",
    "    # If None, will attempt to detect the file format.\n",
    "    format=None,\n",
    ")"
   ]
  },
  {
   "cell_type": "code",
   "execution_count": 3,
   "id": "41d3deef-1d1c-4b52-876e-cc5d269b203f",
   "metadata": {
    "tags": []
   },
   "outputs": [
    {
     "data": {
      "text/plain": [
       "['pos', 'neg']"
      ]
     },
     "execution_count": 3,
     "metadata": {},
     "output_type": "execute_result"
    }
   ],
   "source": [
    "##\n",
    "## Etiquetas encontradas en la data\n",
    "##\n",
    "cl.labels()"
   ]
  },
  {
   "cell_type": "code",
   "execution_count": 4,
   "id": "64498f5b-9cfa-4002-8018-085b7d2716d8",
   "metadata": {},
   "outputs": [
    {
     "data": {
      "text/plain": [
       "0.8333333333333334"
      ]
     },
     "execution_count": 4,
     "metadata": {},
     "output_type": "execute_result"
    }
   ],
   "source": [
    "##\n",
    "## Evaluación de la precisión\n",
    "##\n",
    "cl.accuracy(\n",
    "    # -------------------------------------------------------------------------\n",
    "    # A list of tuples of the form (text, label), or a file pointer.\n",
    "    test_set=test,\n",
    "    # -------------------------------------------------------------------------\n",
    "    # If test_set is a filename, the file format, e.g. \"csv\" or \"json\". \n",
    "    # If None, will attempt to detect the file format.\n",
    "    format=None,\n",
    ")"
   ]
  },
  {
   "cell_type": "code",
   "execution_count": 5,
   "id": "c7f92e40-ce9f-4a4f-b69b-1f5c21484df9",
   "metadata": {},
   "outputs": [
    {
     "data": {
      "text/plain": [
       "'pos'"
      ]
     },
     "execution_count": 5,
     "metadata": {},
     "output_type": "execute_result"
    }
   ],
   "source": [
    "##\n",
    "## Clasificación de nuevo texto\n",
    "##\n",
    "cl.classify(\n",
    "    # -------------------------------------------------------------------------\n",
    "    # A string of text.\n",
    "    text=\"This is an amazing library!\",\n",
    ")"
   ]
  },
  {
   "cell_type": "code",
   "execution_count": 6,
   "id": "14867661-2def-4c8b-bd4e-7e8801db9787",
   "metadata": {
    "tags": []
   },
   "outputs": [
    {
     "data": {
      "text/plain": [
       "{'contains(these)': False,\n",
       " 'contains(ca)': False,\n",
       " 'contains(he)': False,\n",
       " 'contains(this)': False,\n",
       " 'contains(boss)': False,\n",
       " 'contains(tired)': False,\n",
       " 'contains(good)': False,\n",
       " 'contains(what)': False,\n",
       " 'contains(with)': False,\n",
       " 'contains(best)': False,\n",
       " 'contains(awesome)': False,\n",
       " 'contains(beers)': False,\n",
       " 'contains(place)': False,\n",
       " 'contains(work)': False,\n",
       " 'contains(an)': True,\n",
       " 'contains(feel)': False,\n",
       " 'contains(do)': False,\n",
       " \"contains(n't)\": False,\n",
       " 'contains(I)': False,\n",
       " 'contains(is)': True,\n",
       " 'contains(am)': False,\n",
       " 'contains(like)': False,\n",
       " 'contains(amazing)': True,\n",
       " 'contains(restaurant)': False,\n",
       " 'contains(enemy)': False,\n",
       " 'contains(horrible)': False,\n",
       " 'contains(sworn)': False,\n",
       " 'contains(view)': False,\n",
       " 'contains(my)': False,\n",
       " 'contains(of)': False,\n",
       " 'contains(about)': False,\n",
       " 'contains(stuff)': False,\n",
       " 'contains(sandwich)': False,\n",
       " 'contains(love)': False,\n",
       " 'contains(deal)': False,\n",
       " 'contains(very)': False,\n",
       " 'contains(not)': False}"
      ]
     },
     "execution_count": 6,
     "metadata": {},
     "output_type": "execute_result"
    }
   ],
   "source": [
    "##\n",
    "## Extracción de características\n",
    "##\n",
    "cl.extract_features(text=\"This is an amazing library!\")"
   ]
  },
  {
   "cell_type": "code",
   "execution_count": 7,
   "id": "56b714d0-b7c0-46fc-a8e3-4d240b237d1d",
   "metadata": {},
   "outputs": [
    {
     "data": {
      "text/plain": [
       "0.5"
      ]
     },
     "execution_count": 7,
     "metadata": {},
     "output_type": "execute_result"
    }
   ],
   "source": [
    "##\n",
    "## Creación y entrenamiento de un arbol de decisión\n",
    "##\n",
    "from textblob.classifiers import DecisionTreeClassifier\n",
    "\n",
    "dt = DecisionTreeClassifier(\n",
    "    # -------------------------------------------------------------------------\n",
    "    # The training set, either a list of tuples of the form \n",
    "    # (text, classification) or a filename. text may be either a string or an \n",
    "    # iterable.\n",
    "    train_set=train,\n",
    "    # -------------------------------------------------------------------------\n",
    "    # If train_set is a filename, the file format, e.g. \"csv\" or \"json\". \n",
    "    # If None, will attempt to detect the file format.\n",
    "    format=None,\n",
    ")\n",
    "dt.accuracy(test)"
   ]
  },
  {
   "cell_type": "code",
   "execution_count": 8,
   "id": "052b548d-aa1e-4633-b40a-47ed4aa39d76",
   "metadata": {},
   "outputs": [
    {
     "name": "stdout",
     "output_type": "stream",
     "text": [
      "  ==> Training (100 iterations)\n",
      "\n",
      "      Iteration    Log Likelihood    Accuracy\n",
      "      ---------------------------------------\n",
      "             1          -0.69315        0.500\n",
      "             2          -0.64828        1.000\n",
      "             3          -0.60834        1.000\n",
      "             4          -0.57264        1.000\n",
      "             5          -0.54060        1.000\n",
      "             6          -0.51172        1.000\n",
      "             7          -0.48557        1.000\n",
      "             8          -0.46181        1.000\n",
      "             9          -0.44014        1.000\n",
      "            10          -0.42030        1.000\n",
      "            11          -0.40207        1.000\n",
      "            12          -0.38528        1.000\n",
      "            13          -0.36976        1.000\n",
      "            14          -0.35537        1.000\n",
      "            15          -0.34201        1.000\n",
      "            16          -0.32957        1.000\n",
      "            17          -0.31795        1.000\n",
      "            18          -0.30709        1.000\n",
      "            19          -0.29691        1.000\n",
      "            20          -0.28734        1.000\n",
      "            21          -0.27835        1.000\n",
      "            22          -0.26987        1.000\n",
      "            23          -0.26187        1.000\n",
      "            24          -0.25430        1.000\n",
      "            25          -0.24715        1.000\n",
      "            26          -0.24036        1.000\n",
      "            27          -0.23392        1.000\n",
      "            28          -0.22780        1.000\n",
      "            29          -0.22197        1.000\n",
      "            30          -0.21643        1.000\n",
      "            31          -0.21114        1.000\n",
      "            32          -0.20609        1.000\n",
      "            33          -0.20127        1.000\n",
      "            34          -0.19666        1.000\n",
      "            35          -0.19224        1.000\n",
      "            36          -0.18801        1.000\n",
      "            37          -0.18396        1.000\n",
      "            38          -0.18006        1.000\n",
      "            39          -0.17633        1.000\n",
      "            40          -0.17273        1.000\n",
      "            41          -0.16928        1.000\n",
      "            42          -0.16595        1.000\n",
      "            43          -0.16275        1.000\n",
      "            44          -0.15967        1.000\n",
      "            45          -0.15669        1.000\n",
      "            46          -0.15382        1.000\n",
      "            47          -0.15105        1.000\n",
      "            48          -0.14837        1.000\n",
      "            49          -0.14579        1.000\n",
      "            50          -0.14328        1.000\n",
      "            51          -0.14086        1.000\n",
      "            52          -0.13852        1.000\n",
      "            53          -0.13625        1.000\n",
      "            54          -0.13405        1.000\n",
      "            55          -0.13192        1.000\n",
      "            56          -0.12985        1.000\n",
      "            57          -0.12784        1.000\n",
      "            58          -0.12590        1.000\n",
      "            59          -0.12401        1.000\n",
      "            60          -0.12217        1.000\n",
      "            61          -0.12039        1.000\n",
      "            62          -0.11865        1.000\n",
      "            63          -0.11696        1.000\n",
      "            64          -0.11532        1.000\n",
      "            65          -0.11372        1.000\n",
      "            66          -0.11217        1.000\n",
      "            67          -0.11065        1.000\n",
      "            68          -0.10918        1.000\n",
      "            69          -0.10774        1.000\n",
      "            70          -0.10634        1.000\n",
      "            71          -0.10497        1.000\n",
      "            72          -0.10364        1.000\n",
      "            73          -0.10234        1.000\n",
      "            74          -0.10107        1.000\n",
      "            75          -0.09983        1.000\n",
      "            76          -0.09862        1.000\n",
      "            77          -0.09744        1.000\n",
      "            78          -0.09628        1.000\n",
      "            79          -0.09515        1.000\n",
      "            80          -0.09405        1.000\n",
      "            81          -0.09297        1.000\n",
      "            82          -0.09192        1.000\n",
      "            83          -0.09089        1.000\n",
      "            84          -0.08988        1.000\n",
      "            85          -0.08889        1.000\n",
      "            86          -0.08792        1.000\n",
      "            87          -0.08698        1.000\n",
      "            88          -0.08605        1.000\n",
      "            89          -0.08514        1.000\n",
      "            90          -0.08425        1.000\n",
      "            91          -0.08338        1.000\n",
      "            92          -0.08253        1.000\n",
      "            93          -0.08169        1.000\n",
      "            94          -0.08087        1.000\n",
      "            95          -0.08006        1.000\n",
      "            96          -0.07927        1.000\n",
      "            97          -0.07850        1.000\n",
      "            98          -0.07774        1.000\n",
      "            99          -0.07699        1.000\n",
      "         Final          -0.07626        1.000\n"
     ]
    },
    {
     "data": {
      "text/plain": [
       "0.8333333333333334"
      ]
     },
     "execution_count": 8,
     "metadata": {},
     "output_type": "execute_result"
    }
   ],
   "source": [
    "##\n",
    "## Creación y entrenamiento de un clasificador de maxima entropia\n",
    "##\n",
    "from textblob.classifiers import MaxEntClassifier\n",
    "\n",
    "me = MaxEntClassifier(\n",
    "    # -------------------------------------------------------------------------\n",
    "    # The training set, either a list of tuples of the form \n",
    "    # (text, classification) or a filename. text may be either a string or an \n",
    "    # iterable.\n",
    "    train_set=train,\n",
    "    # -------------------------------------------------------------------------\n",
    "    # If train_set is a filename, the file format, e.g. \"csv\" or \"json\". \n",
    "    # If None, will attempt to detect the file format.\n",
    "    format=None,\n",
    ")\n",
    "\n",
    "me.accuracy(test)"
   ]
  },
  {
   "cell_type": "code",
   "execution_count": 9,
   "id": "db5f38b9-b7d6-49d3-85cb-740eddbe8c7b",
   "metadata": {},
   "outputs": [
    {
     "data": {
      "text/plain": [
       "'pos'"
      ]
     },
     "execution_count": 9,
     "metadata": {},
     "output_type": "execute_result"
    }
   ],
   "source": [
    "##\n",
    "## Clasificación de TextBlobs\n",
    "##\n",
    "from textblob import TextBlob\n",
    "\n",
    "blob = TextBlob(\n",
    "    \"The beer is good. But the hangover is horrible.\",\n",
    "    classifier=cl,\n",
    ")\n",
    "\n",
    "blob.classify()"
   ]
  },
  {
   "cell_type": "code",
   "execution_count": 10,
   "id": "e7c16c74-740c-49af-9d86-53963cb70a7d",
   "metadata": {},
   "outputs": [
    {
     "name": "stdout",
     "output_type": "stream",
     "text": [
      "The beer is good.  --->  pos\n",
      "But the hangover is horrible.  --->  neg\n"
     ]
    }
   ],
   "source": [
    "##\n",
    "## La ventaja de la aproximacion anterior es que el clasificador\n",
    "## queda asociado al objeto TextBlob. Note que en el siguiente\n",
    "## codigo no se usa explicitamente el clasificador cl.\n",
    "##\n",
    "for s in blob.sentences:\n",
    "    print(s, \" ---> \", s.classify())"
   ]
  },
  {
   "cell_type": "code",
   "execution_count": 11,
   "id": "0edbce46-d35f-49d2-942f-5a502dbb5860",
   "metadata": {},
   "outputs": [
    {
     "data": {
      "text/plain": [
       "True"
      ]
     },
     "execution_count": 11,
     "metadata": {},
     "output_type": "execute_result"
    }
   ],
   "source": [
    "##\n",
    "## Actualización con nuevos datos\n",
    "##\n",
    "new_data = [\n",
    "    (\"She is my best friend.\", \"pos\"),\n",
    "    (\"I'm happy to have a new friend.\", \"pos\"),\n",
    "    (\"Stay thirsty, my friend.\", \"pos\"),\n",
    "    (\"He ain't from around here.\", \"neg\"),\n",
    "]\n",
    "\n",
    "cl.update(new_data)"
   ]
  },
  {
   "cell_type": "code",
   "execution_count": 12,
   "id": "671eddc3-6052-4fa3-8969-fbc2c49c594d",
   "metadata": {
    "tags": []
   },
   "outputs": [
    {
     "data": {
      "text/plain": [
       "1.0"
      ]
     },
     "execution_count": 12,
     "metadata": {},
     "output_type": "execute_result"
    }
   ],
   "source": [
    "##\n",
    "## Evaluación de la precisión\n",
    "##\n",
    "cl.accuracy(test)"
   ]
  }
 ],
 "metadata": {
  "kernelspec": {
   "display_name": "Python 3 (ipykernel)",
   "language": "python",
   "name": "python3"
  },
  "language_info": {
   "codemirror_mode": {
    "name": "ipython",
    "version": 3
   },
   "file_extension": ".py",
   "mimetype": "text/x-python",
   "name": "python",
   "nbconvert_exporter": "python",
   "pygments_lexer": "ipython3",
   "version": "3.9.6"
  }
 },
 "nbformat": 4,
 "nbformat_minor": 5
}
