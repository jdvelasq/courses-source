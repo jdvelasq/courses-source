{
 "cells": [
  {
   "cell_type": "markdown",
   "metadata": {},
   "source": [
    "Uso básico\n",
    "==="
   ]
  },
  {
   "cell_type": "markdown",
   "metadata": {},
   "source": [
    "Creación de un objeto TextBlob\n",
    "---"
   ]
  },
  {
   "cell_type": "code",
   "execution_count": 1,
   "metadata": {},
   "outputs": [],
   "source": [
    "raw_text=\"\"\"\n",
    "Analytics is the discovery, interpretation, and communication of meaningful patterns\n",
    "in data. Especially valuable in areas rich with recorded information, analytics relies\n",
    "on the simultaneous application of statistics, computer programming and operations research\n",
    "to quantify performance.\n",
    "\n",
    "Organizations may apply analytics to business data to describe, predict, and improve business\n",
    "performance. Specifically, areas within analytics include predictive analytics, prescriptive\n",
    "analytics, enterprise decision management, descriptive analytics, cognitive analytics, Big\n",
    "Data Analytics, retail analytics, store assortment and stock-keeping unit optimization,\n",
    "marketing optimization and marketing mix modeling, web analytics, call analytics, speech\n",
    "analytics, sales force sizing and optimization, price and promotion modeling, predictive\n",
    "science, credit risk analysis, and fraud analytics. Since analytics can require extensive\n",
    "computation (see big data), the algorithms and software used for analytics harness the most\n",
    "current methods in computer science, statistics, and mathematics.\n",
    "\"\"\"\n",
    "\n",
    "raw_text = raw_text.replace('\\n', ' ')"
   ]
  },
  {
   "cell_type": "markdown",
   "metadata": {},
   "source": [
    "## Procesamiento básico de texto"
   ]
  },
  {
   "cell_type": "code",
   "execution_count": 2,
   "metadata": {},
   "outputs": [
    {
     "data": {
      "text/plain": [
       "TextBlob(\" Analytics is the discovery, interpretation, and communication of meaningful patterns in data. Especially valuable in areas rich with recorded information, analytics relies on the simultaneous application of statistics, computer programming and operations research to quantify performance.  Organizations may apply analytics to business data to describe, predict, and improve business performance. Specifically, areas within analytics include predictive analytics, prescriptive analytics, enterprise decision management, descriptive analytics, cognitive analytics, Big Data Analytics, retail analytics, store assortment and stock-keeping unit optimization, marketing optimization and marketing mix modeling, web analytics, call analytics, speech analytics, sales force sizing and optimization, price and promotion modeling, predictive science, credit risk analysis, and fraud analytics. Since analytics can require extensive computation (see big data), the algorithms and software used for analytics harness the most current methods in computer science, statistics, and mathematics. \")"
      ]
     },
     "execution_count": 2,
     "metadata": {},
     "output_type": "execute_result"
    }
   ],
   "source": [
    "##\n",
    "## Crea un objeto TextBlob a partir del cual se realiza\n",
    "## el procesamiento\n",
    "##\n",
    "from textblob import TextBlob\n",
    "\n",
    "text = TextBlob(raw_text)\n",
    "text"
   ]
  },
  {
   "cell_type": "code",
   "execution_count": 3,
   "metadata": {},
   "outputs": [
    {
     "data": {
      "text/plain": [
       "TextBlob(\" ANALYTICS IS THE DISCOVERY, INTERPRETATION, AND COMMUNICATION OF MEANINGFUL PATTERNS IN DATA. ESPECIALLY VALUABLE IN AREAS RICH WITH RECORDED INFORMATION, ANALYTICS RELIES ON THE SIMULTANEOUS APPLICATION OF STATISTICS, COMPUTER PROGRAMMING AND OPERATIONS RESEARCH TO QUANTIFY PERFORMANCE.  ORGANIZATIONS MAY APPLY ANALYTICS TO BUSINESS DATA TO DESCRIBE, PREDICT, AND IMPROVE BUSINESS PERFORMANCE. SPECIFICALLY, AREAS WITHIN ANALYTICS INCLUDE PREDICTIVE ANALYTICS, PRESCRIPTIVE ANALYTICS, ENTERPRISE DECISION MANAGEMENT, DESCRIPTIVE ANALYTICS, COGNITIVE ANALYTICS, BIG DATA ANALYTICS, RETAIL ANALYTICS, STORE ASSORTMENT AND STOCK-KEEPING UNIT OPTIMIZATION, MARKETING OPTIMIZATION AND MARKETING MIX MODELING, WEB ANALYTICS, CALL ANALYTICS, SPEECH ANALYTICS, SALES FORCE SIZING AND OPTIMIZATION, PRICE AND PROMOTION MODELING, PREDICTIVE SCIENCE, CREDIT RISK ANALYSIS, AND FRAUD ANALYTICS. SINCE ANALYTICS CAN REQUIRE EXTENSIVE COMPUTATION (SEE BIG DATA), THE ALGORITHMS AND SOFTWARE USED FOR ANALYTICS HARNESS THE MOST CURRENT METHODS IN COMPUTER SCIENCE, STATISTICS, AND MATHEMATICS. \")"
      ]
     },
     "execution_count": 3,
     "metadata": {},
     "output_type": "execute_result"
    }
   ],
   "source": [
    "##\n",
    "## Transformaciones básicas usando las funciones propias de\n",
    "## los strings de Python\n",
    "## \n",
    "text.upper()"
   ]
  },
  {
   "cell_type": "code",
   "execution_count": 4,
   "metadata": {},
   "outputs": [
    {
     "data": {
      "text/plain": [
       "TextBlob(\" is the discove\")"
      ]
     },
     "execution_count": 4,
     "metadata": {},
     "output_type": "execute_result"
    }
   ],
   "source": [
    "text[10:25]"
   ]
  },
  {
   "cell_type": "markdown",
   "metadata": {},
   "source": [
    "Part-of-speech Tagging\n",
    "---"
   ]
  },
  {
   "cell_type": "code",
   "execution_count": 5,
   "metadata": {},
   "outputs": [
    {
     "data": {
      "text/plain": [
       "[('Analytics', 'NNS'),\n",
       " ('is', 'VBZ'),\n",
       " ('the', 'DT'),\n",
       " ('discovery', 'NN'),\n",
       " ('interpretation', 'NN'),\n",
       " ('and', 'CC'),\n",
       " ('communication', 'NN'),\n",
       " ('of', 'IN'),\n",
       " ('meaningful', 'JJ'),\n",
       " ('patterns', 'NNS'),\n",
       " ('in', 'IN'),\n",
       " ('data', 'NNS'),\n",
       " ('Especially', 'RB'),\n",
       " ('valuable', 'JJ'),\n",
       " ('in', 'IN'),\n",
       " ('areas', 'NNS'),\n",
       " ('rich', 'VBP'),\n",
       " ('with', 'IN'),\n",
       " ('recorded', 'JJ'),\n",
       " ('information', 'NN')]"
      ]
     },
     "execution_count": 5,
     "metadata": {},
     "output_type": "execute_result"
    }
   ],
   "source": [
    "##\n",
    "## Part-of-speech Tagging (POS-tag)\n",
    "##\n",
    "##    TAG    Descripción                            Ejemplo\n",
    "##    -------------------------------------------------------------------------\n",
    "##    CC     Coordination conjuntion                and, or\n",
    "##    CD     Cardinal number                        one, two, 3\n",
    "##    DT     Determiner                             a, the\n",
    "##    EX     Existential there                      there were two cars \n",
    "##    FW     Foreign word                           hola mundo cruel \n",
    "##    IN     Preposition/subordinating conjunction  of, in, on, that\n",
    "##    JJ     Adjective                              quick, lazy\n",
    "##    JJR    Adjective, comparative                 quicker, lazier\n",
    "##    JJS    Adjective, superlative                 quickest, laziest\n",
    "##    NN     Noun, singular or mass                 fox, dog\n",
    "##    NNS    Noun, plural                           foxes, dogs\n",
    "##    NN PS  Noun, proper singular                  John, Alice  \n",
    "##    NNP    Noun, proper plural                    Vikings, Indians, Germans\n",
    "##    ...\n",
    "## \n",
    "text.tags[:20]"
   ]
  },
  {
   "cell_type": "markdown",
   "metadata": {},
   "source": [
    "Frases Nominales\n",
    "---"
   ]
  },
  {
   "cell_type": "code",
   "execution_count": 6,
   "metadata": {},
   "outputs": [
    {
     "data": {
      "text/plain": [
       "WordList(['analytics', 'meaningful patterns', 'especially', 'analytics relies', 'simultaneous application', 'operations research', 'quantify performance', 'organizations', 'business data', 'business performance', 'specifically', 'predictive analytics', 'prescriptive analytics', 'enterprise decision management', 'descriptive analytics', 'cognitive analytics', 'data analytics', 'retail analytics', 'store assortment', 'unit optimization', 'web analytics', 'speech analytics', 'sales force', 'predictive science', 'credit risk analysis', 'fraud analytics', 'extensive computation', 'big data', 'analytics harness', 'current methods', 'computer science'])"
      ]
     },
     "execution_count": 6,
     "metadata": {},
     "output_type": "execute_result"
    }
   ],
   "source": [
    "##\n",
    "## Noun phrase extraction\n",
    "##\n",
    "text.noun_phrases"
   ]
  },
  {
   "cell_type": "markdown",
   "metadata": {},
   "source": [
    "Analisis de sentimientos\n",
    "---"
   ]
  },
  {
   "cell_type": "code",
   "execution_count": 7,
   "metadata": {},
   "outputs": [
    {
     "data": {
      "text/plain": [
       "Sentiment(polarity=0.171875, subjectivity=0.4604166666666667)"
      ]
     },
     "execution_count": 7,
     "metadata": {},
     "output_type": "execute_result"
    }
   ],
   "source": [
    "##\n",
    "## Sentiment Analysis\n",
    "##\n",
    "text.sentiment"
   ]
  },
  {
   "cell_type": "code",
   "execution_count": 8,
   "metadata": {},
   "outputs": [
    {
     "data": {
      "text/plain": [
       "Sentiment(polarity=0.8, subjectivity=1.0)"
      ]
     },
     "execution_count": 8,
     "metadata": {},
     "output_type": "execute_result"
    }
   ],
   "source": [
    "TextBlob(\"I am happy\").sentiment"
   ]
  },
  {
   "cell_type": "code",
   "execution_count": 9,
   "metadata": {},
   "outputs": [
    {
     "data": {
      "text/plain": [
       "Sentiment(polarity=1.0, subjectivity=1.0)"
      ]
     },
     "execution_count": 9,
     "metadata": {},
     "output_type": "execute_result"
    }
   ],
   "source": [
    "TextBlob(\"I am very happy\").sentiment"
   ]
  },
  {
   "cell_type": "code",
   "execution_count": 10,
   "metadata": {},
   "outputs": [
    {
     "data": {
      "text/plain": [
       "Sentiment(polarity=-0.65, subjectivity=1.0)"
      ]
     },
     "execution_count": 10,
     "metadata": {},
     "output_type": "execute_result"
    }
   ],
   "source": [
    "TextBlob(\"I am very sad\").sentiment"
   ]
  },
  {
   "cell_type": "markdown",
   "metadata": {},
   "source": [
    "Palabras y sentencias\n",
    "---"
   ]
  },
  {
   "cell_type": "code",
   "execution_count": 11,
   "metadata": {},
   "outputs": [
    {
     "data": {
      "text/plain": [
       "WordList(['Analytics', 'is', 'the', 'discovery', 'interpretation', 'and', 'communication', 'of', 'meaningful', 'patterns', 'in', 'data', 'Especially', 'valuable', 'in', 'areas', 'rich', 'with', 'recorded', 'information', 'analytics', 'relies', 'on', 'the', 'simultaneous', 'application', 'of', 'statistics', 'computer', 'programming', 'and', 'operations', 'research', 'to', 'quantify', 'performance', 'Organizations', 'may', 'apply', 'analytics', 'to', 'business', 'data', 'to', 'describe', 'predict', 'and', 'improve', 'business', 'performance', 'Specifically', 'areas', 'within', 'analytics', 'include', 'predictive', 'analytics', 'prescriptive', 'analytics', 'enterprise', 'decision', 'management', 'descriptive', 'analytics', 'cognitive', 'analytics', 'Big', 'Data', 'Analytics', 'retail', 'analytics', 'store', 'assortment', 'and', 'stock-keeping', 'unit', 'optimization', 'marketing', 'optimization', 'and', 'marketing', 'mix', 'modeling', 'web', 'analytics', 'call', 'analytics', 'speech', 'analytics', 'sales', 'force', 'sizing', 'and', 'optimization', 'price', 'and', 'promotion', 'modeling', 'predictive', 'science', 'credit', 'risk', 'analysis', 'and', 'fraud', 'analytics', 'Since', 'analytics', 'can', 'require', 'extensive', 'computation', 'see', 'big', 'data', 'the', 'algorithms', 'and', 'software', 'used', 'for', 'analytics', 'harness', 'the', 'most', 'current', 'methods', 'in', 'computer', 'science', 'statistics', 'and', 'mathematics'])"
      ]
     },
     "execution_count": 11,
     "metadata": {},
     "output_type": "execute_result"
    }
   ],
   "source": [
    "##\n",
    "## Tokenization in words\n",
    "##   Note que elimina los signos de puntuación\n",
    "##\n",
    "text.words"
   ]
  },
  {
   "cell_type": "code",
   "execution_count": 12,
   "metadata": {},
   "outputs": [
    {
     "data": {
      "text/plain": [
       "[Sentence(\" Analytics is the discovery, interpretation, and communication of meaningful patterns in data.\"),\n",
       " Sentence(\"Especially valuable in areas rich with recorded information, analytics relies on the simultaneous application of statistics, computer programming and operations research to quantify performance.\"),\n",
       " Sentence(\"Organizations may apply analytics to business data to describe, predict, and improve business performance.\"),\n",
       " Sentence(\"Specifically, areas within analytics include predictive analytics, prescriptive analytics, enterprise decision management, descriptive analytics, cognitive analytics, Big Data Analytics, retail analytics, store assortment and stock-keeping unit optimization, marketing optimization and marketing mix modeling, web analytics, call analytics, speech analytics, sales force sizing and optimization, price and promotion modeling, predictive science, credit risk analysis, and fraud analytics.\"),\n",
       " Sentence(\"Since analytics can require extensive computation (see big data), the algorithms and software used for analytics harness the most current methods in computer science, statistics, and mathematics.\")]"
      ]
     },
     "execution_count": 12,
     "metadata": {},
     "output_type": "execute_result"
    }
   ],
   "source": [
    "##\n",
    "## Tokenization in sentences\n",
    "##\n",
    "text.sentences"
   ]
  },
  {
   "cell_type": "code",
   "execution_count": 13,
   "metadata": {},
   "outputs": [
    {
     "data": {
      "text/plain": [
       "('patterns', 'pattern')"
      ]
     },
     "execution_count": 13,
     "metadata": {},
     "output_type": "execute_result"
    }
   ],
   "source": [
    "##\n",
    "## Singulares\n",
    "##\n",
    "text.words[9], text.words[9].singularize()"
   ]
  },
  {
   "cell_type": "code",
   "execution_count": 14,
   "metadata": {},
   "outputs": [
    {
     "data": {
      "text/plain": [
       "('discovery', 'discoveries')"
      ]
     },
     "execution_count": 14,
     "metadata": {},
     "output_type": "execute_result"
    }
   ],
   "source": [
    "##\n",
    "## Plurales\n",
    "##\n",
    "text.words[3], text.words[3].pluralize()"
   ]
  },
  {
   "cell_type": "code",
   "execution_count": 15,
   "metadata": {
    "tags": []
   },
   "outputs": [
    {
     "data": {
      "text/plain": [
       "WordList(['Analyticss', 'iss', 'thes', 'discoveries', 'interpretations', 'ands', 'communications', 'ofs', 'meaningfuls', 'patternss', 'ins', 'datas', 'Especiallys', 'valuables', 'ins', 'areass', 'riches', 'withs', 'recordeds', 'information', 'analyticss', 'reliess', 'ons', 'thes', 'simultaneouss', 'applications', 'ofs', 'statisticss', 'computers', 'programmings', 'ands', 'operationss', 'research', 'toes', 'quantifies', 'performances', 'Organizationss', 'mays', 'applies', 'analyticss', 'toes', 'businesses', 'datas', 'toes', 'describes', 'predicts', 'ands', 'improves', 'businesses', 'performances', 'Specificallys', 'areass', 'withins', 'analyticss', 'includes', 'predictives', 'analyticss', 'prescriptives', 'analyticss', 'enterprises', 'decisions', 'managements', 'descriptives', 'analyticss', 'cognitives', 'analyticss', 'Bigs', 'Datas', 'Analyticss', 'retails', 'analyticss', 'stores', 'assortments', 'ands', 'stock-keepings', 'units', 'optimizations', 'marketings', 'optimizations', 'ands', 'marketings', 'mixes', 'modelings', 'webs', 'analyticss', 'calls', 'analyticss', 'speeches', 'analyticss', 'saless', 'forces', 'sizings', 'ands', 'optimizations', 'prices', 'ands', 'promotions', 'modelings', 'predictives', 'sciences', 'credits', 'risks', 'analyses', 'ands', 'frauds', 'analyticss', 'Sinces', 'analyticss', 'cans', 'requires', 'extensives', 'computations', 'sees', 'bigs', 'datas', 'thes', 'algorithmss', 'ands', 'software', 'useds', 'fors', 'analyticss', 'harnesses', 'thes', 'mosts', 'currents', 'methodss', 'ins', 'computers', 'sciences', 'statisticss', 'ands', 'mathematics'])"
      ]
     },
     "execution_count": 15,
     "metadata": {},
     "output_type": "execute_result"
    }
   ],
   "source": [
    "text.words.pluralize()"
   ]
  },
  {
   "cell_type": "code",
   "execution_count": 16,
   "metadata": {},
   "outputs": [
    {
     "data": {
      "text/plain": [
       "('patterns', 'pattern')"
      ]
     },
     "execution_count": 16,
     "metadata": {},
     "output_type": "execute_result"
    }
   ],
   "source": [
    "##\n",
    "## Lemmatization\n",
    "##\n",
    "text.words[9], text.words[9].lemmatize()"
   ]
  },
  {
   "cell_type": "markdown",
   "metadata": {},
   "source": [
    "Wordnet\n",
    "---"
   ]
  },
  {
   "cell_type": "code",
   "execution_count": 17,
   "metadata": {},
   "outputs": [
    {
     "data": {
      "text/plain": [
       "[Synset('wind.n.01'),\n",
       " Synset('wind.n.02'),\n",
       " Synset('wind.n.03'),\n",
       " Synset('wind.n.04'),\n",
       " Synset('tip.n.03'),\n",
       " Synset('wind_instrument.n.01'),\n",
       " Synset('fart.n.01'),\n",
       " Synset('wind.n.08'),\n",
       " Synset('weave.v.04'),\n",
       " Synset('wind.v.02'),\n",
       " Synset('wind.v.03'),\n",
       " Synset('scent.v.02'),\n",
       " Synset('wind.v.05'),\n",
       " Synset('wreathe.v.03'),\n",
       " Synset('hoist.v.01')]"
      ]
     },
     "execution_count": 17,
     "metadata": {},
     "output_type": "execute_result"
    }
   ],
   "source": [
    "##\n",
    "## Wordnet integration.\n",
    "##   Wordnet es una base de datos léxica, donde los sustantivos, verbos,\n",
    "##   adverbios y adjetivos están agrupados en conjuntos de sinónimos\n",
    "##   cognitios (synsets)\n",
    "##\n",
    "##\n",
    "from textblob import Word\n",
    "\n",
    "Word('wind').synsets"
   ]
  },
  {
   "cell_type": "code",
   "execution_count": 18,
   "metadata": {},
   "outputs": [
    {
     "data": {
      "text/plain": [
       "'air moving (sometimes with considerable force) from an area of high pressure to an area of low pressure'"
      ]
     },
     "execution_count": 18,
     "metadata": {},
     "output_type": "execute_result"
    }
   ],
   "source": [
    "##\n",
    "## Synsets\n",
    "##\n",
    "from textblob.wordnet import Synset\n",
    "\n",
    "Synset('wind.n.01').definition()"
   ]
  },
  {
   "cell_type": "code",
   "execution_count": 19,
   "metadata": {},
   "outputs": [
    {
     "name": "stdout",
     "output_type": "stream",
     "text": [
      "air moving (sometimes with considerable force) from an area of high pressure to an area of low pressure\n",
      "a tendency or force that influences events\n",
      "breath\n",
      "empty rhetoric or insincere or exaggerated talk\n",
      "an indication of potential opportunity\n",
      "a musical instrument in which the sound is produced by an enclosed column of air that is moved by the breath\n",
      "a reflex that expels intestinal gas through the anus\n",
      "the act of winding or twisting\n",
      "to move or cause to move in a sinuous, spiral, or circular course\n",
      "extend in curves and turns\n",
      "arrange or or coil around\n",
      "catch the scent of; get wind of\n",
      "coil the spring of (some mechanical device) by turning a stem\n",
      "form into a wreath\n",
      "raise or haul up with or as if with mechanical help\n"
     ]
    }
   ],
   "source": [
    "##\n",
    "## Iteración sobre los synsets usando definition()\n",
    "##\n",
    "for synset in Word('wind').synsets:\n",
    "    print(synset.definition())"
   ]
  },
  {
   "cell_type": "code",
   "execution_count": 20,
   "metadata": {},
   "outputs": [
    {
     "data": {
      "text/plain": [
       "['air moving (sometimes with considerable force) from an area of high pressure to an area of low pressure',\n",
       " 'a tendency or force that influences events',\n",
       " 'breath',\n",
       " 'empty rhetoric or insincere or exaggerated talk',\n",
       " 'an indication of potential opportunity',\n",
       " 'a musical instrument in which the sound is produced by an enclosed column of air that is moved by the breath',\n",
       " 'a reflex that expels intestinal gas through the anus',\n",
       " 'the act of winding or twisting',\n",
       " 'to move or cause to move in a sinuous, spiral, or circular course',\n",
       " 'extend in curves and turns',\n",
       " 'arrange or or coil around',\n",
       " 'catch the scent of; get wind of',\n",
       " 'coil the spring of (some mechanical device) by turning a stem',\n",
       " 'form into a wreath',\n",
       " 'raise or haul up with or as if with mechanical help']"
      ]
     },
     "execution_count": 20,
     "metadata": {},
     "output_type": "execute_result"
    }
   ],
   "source": [
    "##\n",
    "## Acceso directo a las definiciones\n",
    "##\n",
    "Word('wind').definitions"
   ]
  },
  {
   "cell_type": "markdown",
   "metadata": {},
   "source": [
    "Corrección de textos\n",
    "---"
   ]
  },
  {
   "cell_type": "code",
   "execution_count": 21,
   "metadata": {},
   "outputs": [
    {
     "data": {
      "text/plain": [
       "TextBlob(\"I have good spelling!\")"
      ]
     },
     "execution_count": 21,
     "metadata": {},
     "output_type": "execute_result"
    }
   ],
   "source": [
    "##\n",
    "## Corrección de textos.\n",
    "##   corrección de la frase\n",
    "##\n",
    "TextBlob(\"I havv goood speling!\").correct()"
   ]
  },
  {
   "cell_type": "code",
   "execution_count": 22,
   "metadata": {},
   "outputs": [
    {
     "data": {
      "text/plain": [
       "[('fallibility', 1.0)]"
      ]
     },
     "execution_count": 22,
     "metadata": {},
     "output_type": "execute_result"
    }
   ],
   "source": [
    "##\n",
    "## Corrección de textos.\n",
    "##   corrección de una palabra\n",
    "##\n",
    "Word(\"falibility\").spellcheck()"
   ]
  },
  {
   "cell_type": "markdown",
   "metadata": {},
   "source": [
    "Frecuencia de palabras\n",
    "---"
   ]
  },
  {
   "cell_type": "code",
   "execution_count": 23,
   "metadata": {},
   "outputs": [
    {
     "data": {
      "text/plain": [
       "16"
      ]
     },
     "execution_count": 23,
     "metadata": {},
     "output_type": "execute_result"
    }
   ],
   "source": [
    "##\n",
    "## Frecuencia de la palabras con word_counts\n",
    "##\n",
    "text.word_counts['analytics']"
   ]
  },
  {
   "cell_type": "code",
   "execution_count": 24,
   "metadata": {},
   "outputs": [
    {
     "data": {
      "text/plain": [
       "16"
      ]
     },
     "execution_count": 24,
     "metadata": {},
     "output_type": "execute_result"
    }
   ],
   "source": [
    "##\n",
    "## Frecuencia usando count\n",
    "##\n",
    "text.words.count('analytics')"
   ]
  },
  {
   "cell_type": "code",
   "execution_count": 25,
   "metadata": {},
   "outputs": [
    {
     "data": {
      "text/plain": [
       "14"
      ]
     },
     "execution_count": 25,
     "metadata": {},
     "output_type": "execute_result"
    }
   ],
   "source": [
    "##\n",
    "## Conteo sensitivo al caso\n",
    "##\n",
    "text.words.count('analytics', case_sensitive=True)"
   ]
  },
  {
   "cell_type": "code",
   "execution_count": 26,
   "metadata": {},
   "outputs": [
    {
     "data": {
      "text/plain": [
       "1"
      ]
     },
     "execution_count": 26,
     "metadata": {},
     "output_type": "execute_result"
    }
   ],
   "source": [
    "text.noun_phrases.count('analytics')"
   ]
  },
  {
   "cell_type": "markdown",
   "metadata": {},
   "source": [
    "Parsing\n",
    "---"
   ]
  },
  {
   "cell_type": "code",
   "execution_count": 27,
   "metadata": {},
   "outputs": [
    {
     "name": "stdout",
     "output_type": "stream",
     "text": [
      "Analytics/NNP/B-NP/O\n",
      "is/VBZ/B-VP/O\n",
      "the/DT/B-NP/O\n",
      "discovery/NN/I-NP/O\n",
      ",/,/O/O\n",
      "interpretation/NN/B-NP/O\n",
      ",/,/O/O\n",
      "and/CC/O/O\n",
      "communication/NN/B-NP/O\n",
      "of/IN/B-PP/B-PNP\n",
      "meaningful/JJ/B-NP/I-PNP\n",
      "patterns/NNS/I-NP/I-PNP\n",
      "in/IN/B-PP/B-PNP\n",
      "data/NNS/B-NP/I-PNP\n",
      "././O/O\n",
      "Especially/RB/B-ADJP/O\n"
     ]
    }
   ],
   "source": [
    "##\n",
    "## Parsing\n",
    "##\n",
    "for t in text.parse().split(' ')[0:15]:\n",
    "    print(t)"
   ]
  },
  {
   "cell_type": "markdown",
   "metadata": {},
   "source": [
    "N-gramas\n",
    "---"
   ]
  },
  {
   "cell_type": "code",
   "execution_count": 28,
   "metadata": {
    "tags": []
   },
   "outputs": [
    {
     "data": {
      "text/plain": [
       "[WordList(['Now', 'is', 'better']),\n",
       " WordList(['is', 'better', 'than']),\n",
       " WordList(['better', 'than', 'never'])]"
      ]
     },
     "execution_count": 28,
     "metadata": {},
     "output_type": "execute_result"
    }
   ],
   "source": [
    "##\n",
    "## N-gramas\n",
    "##\n",
    "TextBlob(\"Now is better than never.\").ngrams(n=3)"
   ]
  }
 ],
 "metadata": {
  "kernelspec": {
   "display_name": "Python 3 (ipykernel)",
   "language": "python",
   "name": "python3"
  },
  "language_info": {
   "codemirror_mode": {
    "name": "ipython",
    "version": 3
   },
   "file_extension": ".py",
   "mimetype": "text/x-python",
   "name": "python",
   "nbconvert_exporter": "python",
   "pygments_lexer": "ipython3",
   "version": "3.9.6"
  }
 },
 "nbformat": 4,
 "nbformat_minor": 4
}
