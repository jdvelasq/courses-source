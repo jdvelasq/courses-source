{
 "cells": [
  {
   "cell_type": "markdown",
   "metadata": {},
   "source": [
    "Regla de aprendizaje del perceptrón --- 38:07 min\n",
    "===\n",
    "\n",
    "* 38:07 min | Última modificación: Abril 20, 2021 | [YouTube](https://youtu.be/mAleJLqTd94)"
   ]
  },
  {
   "cell_type": "markdown",
   "metadata": {},
   "source": [
    "El perceptrón bipolar simple (con salidas {-1, +1}) es uno de los primeros modelos de redes neuronales y fue diseñado especificamente para resolver problemas de clasificación binaria. En esta lección, se presenta su regla de aprendizaje y cómo este modelo puede ser aplicado a problemas de clasificación de patrones con más de dos clases."
   ]
  },
  {
   "cell_type": "markdown",
   "metadata": {},
   "source": [
    "## Definición del problema"
   ]
  },
  {
   "cell_type": "markdown",
   "metadata": {},
   "source": [
    "Se desea determinar a que clase (de tres posibles) pertence una muestra a partir de sus atributos  $x_1$ = 2.5 y $x_2$ = -4.0. Se usa una muestra artificial de 150 ejemplos."
   ]
  },
  {
   "cell_type": "code",
   "execution_count": 1,
   "metadata": {},
   "outputs": [],
   "source": [
    "from sklearn.datasets import make_blobs\n",
    "\n",
    "NPOINTS = 150\n",
    "\n",
    "X, d = make_blobs(\n",
    "    n_samples=NPOINTS,\n",
    "    n_features=2,\n",
    "    centers=3,\n",
    "    cluster_std=0.8,\n",
    "    shuffle=False,\n",
    "    random_state=12345,\n",
    ")"
   ]
  },
  {
   "cell_type": "code",
   "execution_count": 2,
   "metadata": {},
   "outputs": [
    {
     "data": {
      "image/png": "[encoded data removed]",
      "text/plain": [
       "<Figure size 432x288 with 1 Axes>"
      ]
     },
     "metadata": {
      "needs_background": "light"
     },
     "output_type": "display_data"
    }
   ],
   "source": [
    "import matplotlib.pyplot as plt\n",
    "\n",
    "plt.scatter(X[:50, 0], X[:50, 1], color=\"red\")\n",
    "plt.scatter(X[50:100, 0], X[50:100, 1], color=\"blue\")\n",
    "plt.scatter(X[100:, 0], X[100:, 1], color=\"green\")\n",
    "plt.gca().set_aspect(\"equal\", adjustable=\"box\")"
   ]
  },
  {
   "cell_type": "code",
   "execution_count": 3,
   "metadata": {},
   "outputs": [
    {
     "data": {
      "text/plain": [
       "array([0, 0, 0, 0, 0, 0, 0, 0, 0, 0, 0, 0, 0, 0, 0, 0, 0, 0, 0, 0, 0, 0,\n",
       "       0, 0, 0, 0, 0, 0, 0, 0, 0, 0, 0, 0, 0, 0, 0, 0, 0, 0, 0, 0, 0, 0,\n",
       "       0, 0, 0, 0, 0, 0, 1, 1, 1, 1, 1, 1, 1, 1, 1, 1, 1, 1, 1, 1, 1, 1,\n",
       "       1, 1, 1, 1, 1, 1, 1, 1, 1, 1, 1, 1, 1, 1, 1, 1, 1, 1, 1, 1, 1, 1,\n",
       "       1, 1, 1, 1, 1, 1, 1, 1, 1, 1, 1, 1, 2, 2, 2, 2, 2, 2, 2, 2, 2, 2,\n",
       "       2, 2, 2, 2, 2, 2, 2, 2, 2, 2, 2, 2, 2, 2, 2, 2, 2, 2, 2, 2, 2, 2,\n",
       "       2, 2, 2, 2, 2, 2, 2, 2, 2, 2, 2, 2, 2, 2, 2, 2, 2, 2])"
      ]
     },
     "execution_count": 3,
     "metadata": {},
     "output_type": "execute_result"
    }
   ],
   "source": [
    "#\n",
    "# Codigo de color para las clases\n",
    "#\n",
    "#  0: red\n",
    "#  1: blue\n",
    "#  2: green\n",
    "#\n",
    "d"
   ]
  },
  {
   "cell_type": "markdown",
   "metadata": {},
   "source": [
    "## Definición del problema de clasificación"
   ]
  },
  {
   "cell_type": "markdown",
   "metadata": {},
   "source": [
    "El problema de clasificación binaria (con clases $C_1$ y $C_2$ dicotómicas) se define de la siguiente manera:\n",
    "\n",
    "\n",
    "* Cada patrón de entrada tiene la forma $\\mathbf{x}=[+1,x_1,x_2,…,x_n ]$.\n",
    "\n",
    "\n",
    "* Los parámetros del perceptrón binario son $\\mathbf{w}=[w_0,w_1,…,w_n]$ tal que $y=\\varphi(\\mathbf{w}^T \\mathbf{x})$, donde $\\varphi(.)$ es un conmutador bipolar."
   ]
  },
  {
   "cell_type": "markdown",
   "metadata": {},
   "source": [
    "![assets/PerceptronBipolar.jpg](assets/PerceptronBipolar.jpg)"
   ]
  },
  {
   "cell_type": "markdown",
   "metadata": {},
   "source": [
    "* Se desea encontrar el vector $\\mathbf{w}$ tal que el perceptrón clasifique correctamente todos los patrones de entrenamiento.\n",
    "\n",
    "\n",
    "* El error del perceptrón con parámetros $\\mathbf{w}$, $E(\\mathbf{w})$, es la cantidad de patrones mal clasificados.\n",
    "\n",
    "\n",
    "![assets/PerceptronBipClasificacion-01.png](assets/PerceptronBipClasificacion-01.png)"
   ]
  },
  {
   "cell_type": "markdown",
   "metadata": {},
   "source": [
    "## Regla de aprendizaje del perceptrón\n",
    "\n",
    "La regla de aprendizaje del perceptrón es básicamente el algoritmo de gradiente descendente estocástico (SGD):\n",
    "\n",
    "* $d_k$ es la respuesta deseada para el patrón $\\mathbf{x}_k$ presentado en el instante $k$.\n",
    "\n",
    "\n",
    "* $e_k$ es el error definido como:\n",
    "\n",
    "$$\n",
    "e_k= \n",
    "d_k-y_k = \n",
    "d_k - \\varphi(\\mathbf{w}^T_k \\mathbf{x}_k) =\n",
    "\\begin{cases}      \n",
    "       0,  & \\text{Si $d_k = y_k$}\\\\\n",
    "      +2, & \\text{Si $d_k = +1$ y $y_k = -1$}\\\\\n",
    "      -2, & \\text{Si $d_k = -1$ y $y_k = +1$}\\\\\n",
    "\\end{cases}\n",
    "$$\n",
    "\n",
    "\n",
    "* Se desea calcular unos pesos corregidos $\\mathbf{w}_{k+1}=\\mathbf{w}_k+\\Delta \\mathbf{w}_k$ tal que el perceptrón no se equivoque; es decir:\n",
    "\n",
    "$$\n",
    "\\varphi (\\mathbf{w}^T_{k+1} \\mathbf{x}_k) = \\varphi ([\\mathbf{w}_k + \\Delta \\mathbf{w}_k]^T  \\mathbf{x}_k)=d_k\n",
    "$$\n"
   ]
  },
  {
   "cell_type": "markdown",
   "metadata": {},
   "source": [
    "El cálculo de los pesos se realiza de la siguiente forma. Se requiere que:\n",
    "\n",
    "\n",
    "* Si $e_k=+2$, entonces $d_k=+1$,   $y_k=-1$   y   $\\Delta \\mathbf{w}^T_k  \\mathbf{x}_k>0$ tal que:  $\\varphi (\\mathbf{w}^T_{k+1} \\mathbf{x}_k)=+1$.\n",
    "\n",
    "\n",
    "* Si $e_k=-2$, entonces $d_k=-1$, $y_k =+1$  y  $\\Delta \\mathbf{w}^T_k \\mathbf{x}_k<0$ tal que: $\\varphi (\\mathbf{w}^T_ {k+1} \\mathbf{x}_k)=-1$.\n",
    "\n",
    "\n",
    "Entonces se podría escoger:\n",
    "\n",
    "$$\\Delta \\mathbf{w}_k= \\eta e_k  \\mathbf{x}_k$$\n",
    "\n",
    "$$\\mathbf{w}_{k+1} = \\mathbf{w}_k+\\eta e_k  \\mathbf{x}_k$$\n",
    "\n",
    "donde $\\eta$ es la tasa de aprendizaje. Note que la ecuación presentada es similar a la usada para el ADALINE, pero en el caso del perceptrón, $e_k \\in \\{-2, 0, +2\\}$, tal que la convergencia genera fronteras de decisión que usualmente son muy diferentes a las del ADALINE.  \n",
    "\n",
    "Se inicializa el vector de parámetros $\\mathbf{w}_0 = [w_0,w_1,…,w_n ]^T$ con ceros, o con un valor aleatorio pequeño.\n",
    "\n",
    "Los patrones deberían presentarse en un orden aleatorio. \n",
    "\n"
   ]
  },
  {
   "cell_type": "markdown",
   "metadata": {},
   "source": [
    "El siguiente esquema permite diferenciar entre los algoritmos de aprendizaje del perceptrón y el ADALINE.\n",
    "\n",
    "![assets/PerceptronBipClasificacion-04.png](assets/PerceptronBipClasificacion-04.png)"
   ]
  },
  {
   "cell_type": "markdown",
   "metadata": {},
   "source": [
    "## Implementación del algoritmo"
   ]
  },
  {
   "cell_type": "code",
   "execution_count": 4,
   "metadata": {},
   "outputs": [],
   "source": [
    "class BipolarPerceptronClassifier:\n",
    "    \"\"\"\n",
    "    Bipolar perceptron classifier\n",
    "\n",
    "    Parameters\n",
    "    ----------\n",
    "    learning_rate : float\n",
    "        Learning rate coefficient. Default to 0.1.\n",
    "\n",
    "    max_iter : integer\n",
    "        The maximun number of passes over the training dataset (aka epochs).\n",
    "        Default to 100\n",
    "    \"\"\"\n",
    "\n",
    "    def __init__(self, learning_rate=0.00001, max_iter=100):\n",
    "        self.learning_rate = learning_rate\n",
    "        self.max_iter = max_iter\n",
    "        self.w = None\n",
    "\n",
    "        \n",
    "    def init_weights(self):\n",
    "        #\n",
    "        # Genera un vector de ceros para los pesos iniciales\n",
    "        #\n",
    "        self.intercept_ = 0.0\n",
    "        self.coef_ = np.zeros(len(X[0]))\n",
    "        \n",
    "    def fit(self, X, y):\n",
    "\n",
    "        self.init_weights()\n",
    "        history = []\n",
    "        for epoch in range(self.max_iter):            \n",
    "            #\n",
    "            # Recorre todos los puntos del dataset en\n",
    "            # orden aleatorio\n",
    "            #        \n",
    "            for n in np.random.choice(len(d), len(d), replace=False):\n",
    "                prediction = self.intercept_ + sum(self.coef_ * X[n])\n",
    "                prediction = 1.0 if prediction >=0 else -1.0\n",
    "                error = y[n] - prediction\n",
    "                self.intercept_ += 2.0 * self.learning_rate * error\n",
    "                self.coef_ += 2 * self.learning_rate * error * X[n]\n",
    "                history.append(error ** 2)\n",
    "\n",
    "        return history\n",
    "\n",
    "    def predict(self, X):\n",
    "        y = [self.intercept_ + sum([wi * xi   for wi, xi in zip(self.coef_, X[n])])  for n in  range(len(X))] \n",
    "        return [1 if yi >=0 else -1 for yi in y]"
   ]
  },
  {
   "cell_type": "markdown",
   "metadata": {},
   "source": [
    "## Entrenamiento del modelo"
   ]
  },
  {
   "cell_type": "code",
   "execution_count": 5,
   "metadata": {},
   "outputs": [
    {
     "data": {
      "image/png": "[encoded data removed]",
      "text/plain": [
       "<Figure size 1008x360 with 3 Axes>"
      ]
     },
     "metadata": {
      "needs_background": "light"
     },
     "output_type": "display_data"
    }
   ],
   "source": [
    "import numpy as np\n",
    "\n",
    "#\n",
    "# Solución\n",
    "#    Se codifica un vector para cada clase\n",
    "#\n",
    "#    0: red\n",
    "#    1: blue\n",
    "#    2: green\n",
    "#\n",
    "\n",
    "R = [+1 if u == 0 else -1 for u in d]\n",
    "B = [+1 if u == 1 else -1 for u in d]\n",
    "G = [+1 if u == 2 else -1 for u in d]\n",
    "\n",
    "max_iter = 1000\n",
    "\n",
    "mR = BipolarPerceptronClassifier(learning_rate=0.001, max_iter=max_iter)\n",
    "mB = BipolarPerceptronClassifier(learning_rate=0.001, max_iter=max_iter)\n",
    "mG = BipolarPerceptronClassifier(learning_rate=0.001, max_iter=max_iter)\n",
    "\n",
    "historyR = mR.fit(X, R)\n",
    "historyB = mB.fit(X, B)\n",
    "historyG = mG.fit(X, G)\n",
    "\n",
    "plt.figure(figsize=(14,5))\n",
    "\n",
    "plt.subplot(1, 3, 1)\n",
    "plt.plot(historyR, c='red')\n",
    "plt.legend(\"R\")\n",
    "plt.xlim(0, max_iter)\n",
    "plt.ylim(0, 5)\n",
    "\n",
    "plt.subplot(1, 3, 2)\n",
    "plt.plot(historyB, c='blue')\n",
    "plt.legend(\"B\")\n",
    "plt.xlim(0, max_iter)\n",
    "plt.ylim(0, 5)\n",
    "\n",
    "plt.subplot(1, 3, 3)\n",
    "plt.plot(historyG, c='green')\n",
    "plt.legend(\"G\")\n",
    "plt.xlim(0, max_iter)\n",
    "plt.ylim(0, 5);"
   ]
  },
  {
   "cell_type": "markdown",
   "metadata": {},
   "source": [
    "## Pronóstico"
   ]
  },
  {
   "cell_type": "code",
   "execution_count": 6,
   "metadata": {},
   "outputs": [
    {
     "name": "stdout",
     "output_type": "stream",
     "text": [
      "[1] [-1] [-1]\n"
     ]
    }
   ],
   "source": [
    "#\n",
    "#  Pronostico para un punto que no pertence\n",
    "#  a la muestra de datos\n",
    "#\n",
    "print(\n",
    "    mR.predict([[2.5, -4.0]]),\n",
    "    mB.predict([[2.5, -4.0]]),\n",
    "    mG.predict([[2.5, -4.0]]),\n",
    ")\n",
    "\n",
    "# el punto pertence a la clase A (Rojo)"
   ]
  },
  {
   "cell_type": "markdown",
   "metadata": {},
   "source": [
    "## Fronteras de decisión"
   ]
  },
  {
   "cell_type": "code",
   "execution_count": 7,
   "metadata": {},
   "outputs": [
    {
     "data": {
      "image/png": "[encoded data removed]",
      "text/plain": [
       "<Figure size 432x288 with 1 Axes>"
      ]
     },
     "metadata": {
      "needs_background": "light"
     },
     "output_type": "display_data"
    }
   ],
   "source": [
    "plt.scatter(X[:50, 0], X[:50, 1], color=\"red\")\n",
    "plt.scatter(X[50:100, 0], X[50:100, 1], color=\"blue\")\n",
    "plt.scatter(X[100:, 0], X[100:, 1], color=\"green\")\n",
    "plt.gca().set_aspect(\"equal\", adjustable=\"box\")\n",
    "\n",
    "xlim = plt.gca().get_xlim()\n",
    "ylim = plt.gca().get_ylim()\n",
    "\n",
    "xplot = np.linspace(start=xlim[0], stop=xlim[1], num=20)\n",
    "fronteraR = -mR.intercept_ / mR.coef_[1] - mR.coef_[0] / mR.coef_[1] * xplot\n",
    "fronteraB = -mB.intercept_ / mB.coef_[1] - mB.coef_[0] / mB.coef_[1] * xplot\n",
    "fronteraG = -mG.intercept_ / mG.coef_[1] - mG.coef_[0] / mG.coef_[1] * xplot\n",
    "\n",
    "plt.plot(xplot, fronteraR, color=\"red\", linewidth=3)\n",
    "plt.plot(xplot, fronteraB, color=\"blue\", linewidth=3)\n",
    "plt.plot(xplot, fronteraG, color=\"green\", linewidth=3)\n",
    "\n",
    "plt.xlim(xlim)\n",
    "plt.ylim(ylim);"
   ]
  },
  {
   "cell_type": "markdown",
   "metadata": {},
   "source": [
    "### Variaciones al método del perceptrón\n",
    "\n",
    "La primera variación al método del perceptrón consiste en calcular la corrección neta sobre todos los patrones (aprendizaje batch) e introducir un mecanismo de adaptación en la tasa de aprendizaje:\n",
    "\n",
    "$$\n",
    "\\mathbf{w}_{k+1} = \\mathbf{w}_k + \\eta \\sum_{p=1}^P  e_p \\mathbf{x}_p\n",
    "$$\n"
   ]
  },
  {
   "cell_type": "markdown",
   "metadata": {},
   "source": [
    "La segunda variación consiste en introducir un margen $b$ al realizarse el entrenamiento del perceptrón, tal que:\n",
    "\n",
    "$$\n",
    "y_k = \\varphi \\left( \\mathbf{w}^T_k \\mathbf{x}_k-b * d_k \\right)\n",
    "$$"
   ]
  },
  {
   "cell_type": "markdown",
   "metadata": {},
   "source": [
    "**Actividad.---** Modifique el código del ejercicio anterior para incorporar las dos variaciones indicadas simultaneamente. Para el caso de $\\eta$ considere que si el error disminuye de una iteración a otra, $\\eta$ aumenta; si el error aumenta, se retorna a los pesos anteriores y $\\eta$ disminuye."
   ]
  },
  {
   "cell_type": "markdown",
   "metadata": {},
   "source": [
    "**Actividad.---** Grafique las fronteras de decisión para los problemas propuestos."
   ]
  },
  {
   "cell_type": "markdown",
   "metadata": {},
   "source": [
    "## Solución usando scikit-learn"
   ]
  },
  {
   "cell_type": "code",
   "execution_count": 8,
   "metadata": {},
   "outputs": [
    {
     "data": {
      "text/plain": [
       "1.0"
      ]
     },
     "execution_count": 8,
     "metadata": {},
     "output_type": "execute_result"
    }
   ],
   "source": [
    "from sklearn.linear_model import Perceptron\n",
    "\n",
    "clf = Perceptron(\n",
    "    penalty=None,             # None, 'l1', 'l2', 'elasticnet'\n",
    "    alpha=0.0001,             # parametro regularizacion\n",
    "    fit_intercept=True,       #\n",
    "    max_iter=1000,            #\n",
    "    shuffle=True,             #\n",
    "    verbose=0,                #\n",
    "    eta0=1.0,                 # tasa de aprendizaje\n",
    "    random_state=0,           # para shuffle\n",
    "    early_stopping=False,     # ?early_stopping\n",
    "    validation_fraction=0.1,  # % test set en early_stopping\n",
    "    n_iter_no_change=5,       # máximo de iteraciones sin cambio\n",
    "    class_weight=None,        # peso de las clases\n",
    "    warm_start=False,         # ?usa la solución previa como punto de arranque\n",
    ")\n",
    "\n",
    "clf.fit(X, d)\n",
    "clf.score(X, d)"
   ]
  },
  {
   "cell_type": "code",
   "execution_count": 9,
   "metadata": {},
   "outputs": [
    {
     "data": {
      "text/plain": [
       "array([[50,  0,  0],\n",
       "       [ 0, 50,  0],\n",
       "       [ 0,  0, 50]])"
      ]
     },
     "execution_count": 9,
     "metadata": {},
     "output_type": "execute_result"
    }
   ],
   "source": [
    "from sklearn.metrics import confusion_matrix\n",
    "\n",
    "confusion_matrix(d, clf.predict(X))"
   ]
  },
  {
   "cell_type": "code",
   "execution_count": 10,
   "metadata": {},
   "outputs": [
    {
     "data": {
      "text/plain": [
       "array([[ 3.60924129, -3.87946541],\n",
       "       [-6.64344969, -3.02385523],\n",
       "       [ 0.05183502, 11.07081134]])"
      ]
     },
     "execution_count": 10,
     "metadata": {},
     "output_type": "execute_result"
    }
   ],
   "source": [
    "#\n",
    "# Parametros\n",
    "#\n",
    "clf.coef_"
   ]
  },
  {
   "cell_type": "code",
   "execution_count": 11,
   "metadata": {},
   "outputs": [
    {
     "data": {
      "text/plain": [
       "array([-15.,  -4.,   2.])"
      ]
     },
     "execution_count": 11,
     "metadata": {},
     "output_type": "execute_result"
    }
   ],
   "source": [
    "#\n",
    "# Interceptos\n",
    "#\n",
    "clf.intercept_"
   ]
  },
  {
   "cell_type": "code",
   "execution_count": 12,
   "metadata": {},
   "outputs": [
    {
     "data": {
      "text/plain": [
       "array([0])"
      ]
     },
     "execution_count": 12,
     "metadata": {},
     "output_type": "execute_result"
    }
   ],
   "source": [
    "#\n",
    "# Codigo de color para las clases\n",
    "#\n",
    "#  0: red\n",
    "#  1: blue\n",
    "#  2: green\n",
    "#\n",
    "clf.predict([[2.5, -4.0]])"
   ]
  },
  {
   "cell_type": "code",
   "execution_count": 13,
   "metadata": {},
   "outputs": [
    {
     "data": {
      "image/png": "[encoded data removed]",
      "text/plain": [
       "<Figure size 432x288 with 1 Axes>"
      ]
     },
     "metadata": {
      "needs_background": "light"
     },
     "output_type": "display_data"
    }
   ],
   "source": [
    "plt.scatter(X[:50, 0], X[:50, 1], color=\"red\")\n",
    "plt.scatter(X[50:100, 0], X[50:100, 1], color=\"blue\")\n",
    "plt.scatter(X[100:, 0], X[100:, 1], color=\"green\")\n",
    "plt.gca().set_aspect(\"equal\", adjustable=\"box\")\n",
    "\n",
    "xlim = plt.gca().get_xlim()\n",
    "ylim = plt.gca().get_ylim()\n",
    "\n",
    "xplot = np.linspace(start=xlim[0], stop=xlim[1], num=20)\n",
    "fronteraR = -clf.intercept_[0] / clf.coef_[0][1] - clf.coef_[0][0] / clf.coef_[0][1] * xplot\n",
    "fronteraB = -clf.intercept_[1] / clf.coef_[1][1] - clf.coef_[1][0] / clf.coef_[1][1] * xplot\n",
    "fronteraG = -clf.intercept_[2] / clf.coef_[2][1] - clf.coef_[2][0] / clf.coef_[2][1] * xplot\n",
    "\n",
    "plt.plot(xplot, fronteraR, color=\"red\", linewidth=3)\n",
    "plt.plot(xplot, fronteraB, color=\"blue\", linewidth=3)\n",
    "plt.plot(xplot, fronteraG, color=\"green\", linewidth=3)\n",
    "\n",
    "plt.xlim(xlim)\n",
    "plt.ylim(ylim);"
   ]
  }
 ],
 "metadata": {
  "kernelspec": {
   "display_name": "Python 3 (ipykernel)",
   "language": "python",
   "name": "python3"
  },
  "language_info": {
   "codemirror_mode": {
    "name": "ipython",
    "version": 3
   },
   "file_extension": ".py",
   "mimetype": "text/x-python",
   "name": "python",
   "nbconvert_exporter": "python",
   "pygments_lexer": "ipython3",
   "version": "3.9.10"
  }
 },
 "nbformat": 4,
 "nbformat_minor": 4
}
