{
 "cells": [
  {
   "cell_type": "markdown",
   "metadata": {},
   "source": [
    "Lectura: Clasificación usando perceptrones continuos --- 20:00 min\n",
    "===\n",
    "\n",
    "* Última modificación: Marzo 10, 2022"
   ]
  },
  {
   "cell_type": "markdown",
   "metadata": {},
   "source": [
    "## Definición del problema"
   ]
  },
  {
   "cell_type": "markdown",
   "metadata": {},
   "source": [
    "Se tiene una muestra de 150 ejemplos, con dos variables independientes y tres clases; cada clase tiene 50 ejemplos. Se desea construir un sistema clasificador que permita discriminar a que clase pertenece un nuevo patrón. Los ejemplos son generados artificialmente a continuación."
   ]
  },
  {
   "cell_type": "code",
   "execution_count": 1,
   "metadata": {},
   "outputs": [],
   "source": [
    "from sklearn.datasets import make_blobs\n",
    "\n",
    "NPOINTS = 150\n",
    "\n",
    "X, d = make_blobs(\n",
    "    n_samples=NPOINTS, \n",
    "    n_features=2,\n",
    "    centers=3,\n",
    "    cluster_std=0.8, \n",
    "    shuffle=False,  \n",
    "    random_state=12345)"
   ]
  },
  {
   "cell_type": "markdown",
   "metadata": {},
   "source": [
    "En la siguiente gráfica, cada color representa una clase diferente."
   ]
  },
  {
   "cell_type": "code",
   "execution_count": 2,
   "metadata": {},
   "outputs": [
    {
     "data": {
      "image/png": "[encoded data removed]",
      "text/plain": [
       "<Figure size 432x288 with 1 Axes>"
      ]
     },
     "metadata": {
      "needs_background": "light"
     },
     "output_type": "display_data"
    }
   ],
   "source": [
    "import matplotlib.pyplot as plt\n",
    "\n",
    "plt.scatter(X[:50,0], X[:50,1], color='red')\n",
    "plt.scatter(X[50:100,0], X[50:100,1], color='blue')\n",
    "plt.scatter(X[100:,0], X[100:,1], color='green')\n",
    "plt.gca().set_aspect('equal', adjustable='box')"
   ]
  },
  {
   "cell_type": "markdown",
   "metadata": {},
   "source": [
    "Solución\n",
    "--"
   ]
  },
  {
   "cell_type": "markdown",
   "metadata": {},
   "source": [
    "Se usa la misma implementación del tutorial anterior."
   ]
  },
  {
   "cell_type": "code",
   "execution_count": 3,
   "metadata": {},
   "outputs": [],
   "source": [
    "class ContinuousPerceptron:\n",
    "    def __init__(\n",
    "        self,\n",
    "        # ---------------------------------------------------------------------\n",
    "        # tasa de aprendizaje usada en el metodo de gradiente descendente\n",
    "        learning_rate=0.001,\n",
    "        # ---------------------------------------------------------------------\n",
    "        # número máximo de iteraciones sobre el set de datos\n",
    "        max_epochs=100,\n",
    "        # ---------------------------------------------------------------------\n",
    "        # mezcla patrones para aprendizaje online\n",
    "        shuffle=False,\n",
    "        # ---------------------------------------------------------------------\n",
    "        # ?batch o online\n",
    "        batch=False,\n",
    "        # ---------------------------------------------------------------------\n",
    "        # Semilla del generador de aleatorios\n",
    "        random_state=None,\n",
    "        # ---------------------------------------------------------------------\n",
    "        # ?Genera nuevos pesos aleatorios al realizar la optimización o\n",
    "        # continua con los actuales\n",
    "        warm_start=False,\n",
    "    ):  #\n",
    "\n",
    "        self.learning_rate = learning_rate\n",
    "        self.max_epochs = max_epochs\n",
    "        self.shuffle = shuffle\n",
    "        self.batch = batch\n",
    "        self.random_state = random_state\n",
    "        self.warm_start = warm_start\n",
    "        self.coef_ = None\n",
    "        self.intercept_ = None\n",
    "\n",
    "    def fit(self, X, y):\n",
    "\n",
    "        #\n",
    "        # Si los datos son listas, los convierte a NumPy\n",
    "        #\n",
    "        if not isinstance(X, np.ndarray):\n",
    "            X = np.array(X)\n",
    "        if not isinstance(y, np.ndarray):\n",
    "            d = np.array(y)\n",
    "        else:\n",
    "            d = y.copy()\n",
    "\n",
    "        #\n",
    "        # Semilla del generador de aleatorios\n",
    "        #\n",
    "        if self.random_state is not None:\n",
    "            np.random.RandomState(self.random_state)\n",
    "\n",
    "        #\n",
    "        # ?genera nuevos pesos aleatorios o continua el entrenamiento con los\n",
    "        # actuales\n",
    "        #\n",
    "        if self.coef_ is None or self.warm_start is False:\n",
    "            self.coef_ = np.random.uniform(-1, 1, X.shape[1])\n",
    "\n",
    "        if self.intercept_ is None or self.warm_start is False:\n",
    "            self.intercept_ = np.random.uniform(-1, 1, 1)\n",
    "\n",
    "        #\n",
    "        # Proceso de entrenamiento\n",
    "        #\n",
    "        history = []\n",
    "\n",
    "        if self.batch is True:\n",
    "            #\n",
    "            # Se computa el gradiente neto sobre todo el dataset y luego se\n",
    "            # corrigen los pesos\n",
    "            #\n",
    "            for epoch in range(self.max_epochs):\n",
    "                #\n",
    "                # Note que estas son las ecuaciones de la parte de arriba\n",
    "                #\n",
    "                u = np.dot(X, self.coef_) + self.intercept_\n",
    "                s = 1.0 / (1.0 + np.exp(-u))\n",
    "                e = d - s\n",
    "                self.coef_ += (\n",
    "                    2 * self.learning_rate * np.sum((X.T * e * s * (1.0 - s)).T, axis=0)\n",
    "                )\n",
    "                self.intercept_ += (\n",
    "                    2 * self.learning_rate * np.sum((e * s * (1.0 - s)).T, axis=0)\n",
    "                )\n",
    "                history.append(sum([a**2 for a in e]))\n",
    "        else:\n",
    "\n",
    "            for epoch in range(self.max_epochs):\n",
    "\n",
    "                if self.shuffle is True:\n",
    "                    #\n",
    "                    # Se mezcla aleatoriamente el conjunto de entrenamiento\n",
    "                    #\n",
    "                    n = list(range(X.shape[0]))\n",
    "                    np.random.shuffle(n)\n",
    "                    X = X[n, :]\n",
    "                    d = d[n]\n",
    "\n",
    "                for i in range(X.shape[0]):\n",
    "                    #\n",
    "                    # Para cada patrón se calcula el gradiente instantaneo y se\n",
    "                    # corrigen los pesos\n",
    "                    #\n",
    "                    u = np.dot(X[i, :], self.coef_) + self.intercept_\n",
    "                    s = 1.0 / (1.0 + np.exp(-u))\n",
    "                    e = (d[i] - s)[0]\n",
    "                    self.coef_ += 2 * self.learning_rate * e * s * (1 - s) * X[i, :]\n",
    "                    self.intercept_ += 2 * self.learning_rate * e * s * (1 - s)\n",
    "                    history.append(e**2)\n",
    "\n",
    "        return history\n",
    "\n",
    "    def predict(self, X):\n",
    "        #\n",
    "        # Pronóstico para un nuevo conjunto X\n",
    "        #\n",
    "        if not isinstance(X, np.ndarray):\n",
    "            X = np.array(X)\n",
    "        u = np.dot(X, self.coef_) + self.intercept_\n",
    "        return 1.0 / (1.0 + np.exp(-u))"
   ]
  },
  {
   "cell_type": "markdown",
   "metadata": {},
   "source": [
    "La variable `d` codifica la clase a la que pertenece cada patrón de ejemplo."
   ]
  },
  {
   "cell_type": "code",
   "execution_count": 4,
   "metadata": {},
   "outputs": [
    {
     "data": {
      "text/plain": [
       "array([0, 0, 0, 0, 0, 0, 0, 0, 0, 0, 0, 0, 0, 0, 0, 0, 0, 0, 0, 0, 0, 0,\n",
       "       0, 0, 0, 0, 0, 0, 0, 0, 0, 0, 0, 0, 0, 0, 0, 0, 0, 0, 0, 0, 0, 0,\n",
       "       0, 0, 0, 0, 0, 0, 1, 1, 1, 1, 1, 1, 1, 1, 1, 1, 1, 1, 1, 1, 1, 1,\n",
       "       1, 1, 1, 1, 1, 1, 1, 1, 1, 1, 1, 1, 1, 1, 1, 1, 1, 1, 1, 1, 1, 1,\n",
       "       1, 1, 1, 1, 1, 1, 1, 1, 1, 1, 1, 1, 2, 2, 2, 2, 2, 2, 2, 2, 2, 2,\n",
       "       2, 2, 2, 2, 2, 2, 2, 2, 2, 2, 2, 2, 2, 2, 2, 2, 2, 2, 2, 2, 2, 2,\n",
       "       2, 2, 2, 2, 2, 2, 2, 2, 2, 2, 2, 2, 2, 2, 2, 2, 2, 2])"
      ]
     },
     "execution_count": 4,
     "metadata": {},
     "output_type": "execute_result"
    }
   ],
   "source": [
    "d"
   ]
  },
  {
   "cell_type": "markdown",
   "metadata": {},
   "source": [
    "Sin embargo, la salida del perceptrón es un número entre 0 y 1, donde 0 representa la absoluta certeza de que el patrón no pertence a una clase determinada, y el 1 representa la absoluta certeza de que si pertenece."
   ]
  },
  {
   "cell_type": "markdown",
   "metadata": {},
   "source": [
    "Ya que el problema tiene 3 clases, se crean tres variables `A`, `B` y `C`, que indica respectivamente que el patrón pertence o no a la primera clase, que pertence o no a la segunda clase, y, finalmente, que pertence o no pertence a la tercera clase."
   ]
  },
  {
   "cell_type": "code",
   "execution_count": 5,
   "metadata": {},
   "outputs": [],
   "source": [
    "A = [1 if u == 0 else 0 for u in d]\n",
    "B = [1 if u == 1 else 0 for u in d]\n",
    "C = [1 if u == 2 else 0 for u in d]"
   ]
  },
  {
   "cell_type": "markdown",
   "metadata": {},
   "source": [
    "Esto es, `A` vale 1 si el patrón pertence a la primera clase y cero en caso contrario."
   ]
  },
  {
   "cell_type": "markdown",
   "metadata": {},
   "source": [
    "Se crean tres modelos y se entrenan:"
   ]
  },
  {
   "cell_type": "code",
   "execution_count": 6,
   "metadata": {},
   "outputs": [],
   "source": [
    "max_epochs = 2000\n",
    "\n",
    "\n",
    "mA = ContinuousPerceptron(\n",
    "    learning_rate=0.001, \n",
    "    max_epochs=max_epochs, \n",
    "    batch=True)\n",
    "\n",
    "historyA = mA.fit(X, A)\n",
    "\n",
    "\n",
    "mB = ContinuousPerceptron(\n",
    "    learning_rate=0.001, \n",
    "    max_epochs=max_epochs, \n",
    "    batch=True)\n",
    "\n",
    "historyB = mB.fit(X, B)\n",
    "\n",
    "\n",
    "mC = ContinuousPerceptron(\n",
    "    learning_rate=0.001,\n",
    "    max_epochs=max_epochs,\n",
    "    batch=True)\n",
    "\n",
    "historyC = mC.fit(X, C)"
   ]
  },
  {
   "cell_type": "code",
   "execution_count": 7,
   "metadata": {},
   "outputs": [
    {
     "data": {
      "image/png": "[encoded data removed]",
      "text/plain": [
       "<Figure size 432x288 with 1 Axes>"
      ]
     },
     "metadata": {
      "needs_background": "light"
     },
     "output_type": "display_data"
    }
   ],
   "source": [
    "#\n",
    "# Evolución del error\n",
    "#\n",
    "plt.plot(historyA)\n",
    "plt.plot(historyB)\n",
    "plt.plot(historyC);\n",
    "plt.legend(['A', 'B', 'C']);\n",
    "plt.xlim(0, max_epochs)\n",
    "plt.yscale('log');"
   ]
  },
  {
   "cell_type": "markdown",
   "metadata": {},
   "source": [
    "Con los modelos entrenados, se realiza el pronóstico para el patron `(2.5, -4.0)`, que no pertence a la muestra de datos."
   ]
  },
  {
   "cell_type": "code",
   "execution_count": 8,
   "metadata": {},
   "outputs": [
    {
     "name": "stdout",
     "output_type": "stream",
     "text": [
      "[0.66928125] [0.82642889] [0.00395967]\n"
     ]
    }
   ],
   "source": [
    "print(mA.predict([[2.5, -4.0]]), \n",
    "      mB.predict([[2.5, -4.0]]),\n",
    "      mC.predict([[2.5, -4.0]]))\n",
    "\n",
    "# el punto pertence a la clase B (valor más alto)"
   ]
  },
  {
   "cell_type": "markdown",
   "metadata": {},
   "source": [
    "A contiuación se grafican las fronteras de decisión generadas por cada clasificador."
   ]
  },
  {
   "cell_type": "code",
   "execution_count": 9,
   "metadata": {},
   "outputs": [
    {
     "data": {
      "image/png": "[encoded data removed]",
      "text/plain": [
       "<Figure size 432x288 with 1 Axes>"
      ]
     },
     "metadata": {
      "needs_background": "light"
     },
     "output_type": "display_data"
    }
   ],
   "source": [
    "plt.scatter(X[:50,0], X[:50,1], color='red')\n",
    "plt.scatter(X[50:100,0], X[50:100,1], color='blue')\n",
    "plt.scatter(X[100:,0], X[100:,1], color='green')\n",
    "plt.gca().set_aspect('equal', adjustable='box')\n",
    "\n",
    "xlim = plt.gca().get_xlim()\n",
    "ylim = plt.gca().get_ylim()\n",
    "\n",
    "xplot = np.linspace(start=xlim[0], stop=xlim[1], num=20)\n",
    "fronteraA = - mA.intercept_ / mA.coef_[1] - mA.coef_[0] / mA.coef_[1] * xplot\n",
    "fronteraB = - mB.intercept_ / mB.coef_[1] - mB.coef_[0] / mB.coef_[1] * xplot\n",
    "fronteraC = - mC.intercept_ / mC.coef_[1] - mC.coef_[0] / mC.coef_[1] * xplot\n",
    "\n",
    "plt.plot(xplot, fronteraA, color='red', linewidth=3)\n",
    "plt.plot(xplot, fronteraB, color='blue', linewidth=3)\n",
    "plt.plot(xplot, fronteraC, color='green', linewidth=3);\n",
    "\n",
    "plt.xlim(xlim)\n",
    "plt.ylim(ylim);"
   ]
  },
  {
   "cell_type": "markdown",
   "metadata": {},
   "source": [
    "**Ejercicio.---** ¿Cuál es la región que no es asignada a ninguna clase?"
   ]
  },
  {
   "cell_type": "markdown",
   "metadata": {},
   "source": [
    "**Ejercicio.---** ¿Cuales son las regiones que pertenecen a más de una clase?"
   ]
  },
  {
   "cell_type": "markdown",
   "metadata": {},
   "source": [
    "## Relación entre la regresión logística y el perceptrón continuo"
   ]
  },
  {
   "cell_type": "markdown",
   "metadata": {},
   "source": [
    "La regresión logística usa el mismo modelo matemático del perceptrón continuo, cuyos parámetros óptimos son obtenidos minimizando la función de entropía cruzada:"
   ]
  },
  {
   "cell_type": "markdown",
   "metadata": {},
   "source": [
    "$$ \\frac{1}{P} \\sum_i^P d_i \\cdot \\log(y_i) + \n",
    "(1-d_i) \\cdot \\log(1- y_i)\n",
    "$$ "
   ]
  },
  {
   "cell_type": "markdown",
   "metadata": {},
   "source": [
    "la cual es computada sobre todo el conjunto de datos."
   ]
  }
 ],
 "metadata": {
  "kernelspec": {
   "display_name": "Python 3 (ipykernel)",
   "language": "python",
   "name": "python3"
  },
  "language_info": {
   "codemirror_mode": {
    "name": "ipython",
    "version": 3
   },
   "file_extension": ".py",
   "mimetype": "text/x-python",
   "name": "python",
   "nbconvert_exporter": "python",
   "pygments_lexer": "ipython3",
   "version": "3.9.10"
  }
 },
 "nbformat": 4,
 "nbformat_minor": 4
}
