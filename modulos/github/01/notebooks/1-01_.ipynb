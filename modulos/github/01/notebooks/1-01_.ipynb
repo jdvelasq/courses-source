{
 "cells": [
  {
   "cell_type": "markdown",
   "id": "7cd43e73-150d-4465-9a53-b5faf09d335a",
   "metadata": {
    "tags": []
   },
   "source": [
    "Remotos\n",
    "===\n",
    "\n",
    "* Última modificación: Mayo  14, 2022"
   ]
  },
  {
   "cell_type": "markdown",
   "id": "0b3ce6cc-df14-448c-a994-9c8c27a24e15",
   "metadata": {},
   "source": [
    "Carpeta de trabajo\n",
    "--"
   ]
  },
  {
   "cell_type": "code",
   "execution_count": 1,
   "id": "41399d51-78de-4427-a116-857eef9866a6",
   "metadata": {},
   "outputs": [
    {
     "name": "stdout",
     "output_type": "stream",
     "text": [
      "/workspace/github/git-demo\n"
     ]
    }
   ],
   "source": [
    "!rm -rf git-demo && mkdir git-demo\n",
    "%cd git-demo"
   ]
  },
  {
   "cell_type": "markdown",
   "id": "00c04df4-90a5-480d-9fd9-8291bb5b1933",
   "metadata": {},
   "source": [
    "Creación del repositorio\n",
    "--"
   ]
  },
  {
   "cell_type": "code",
   "execution_count": 2,
   "id": "bc041e0d-945d-4292-a218-0bc0d6612ff4",
   "metadata": {},
   "outputs": [
    {
     "name": "stdout",
     "output_type": "stream",
     "text": [
      "Initialized empty Git repository in /workspace/github/git-demo/.git/\n"
     ]
    }
   ],
   "source": [
    "!git init \n",
    "\n",
    "!git config user.email \"jdvelasq@unal.edu.co\"\n",
    "!git config user.name \"Juan David Velasquez-Henao\""
   ]
  },
  {
   "cell_type": "markdown",
   "id": "5c91a21d-ee5b-4962-a5b0-6de04e7aeb2c",
   "metadata": {},
   "source": [
    "Remotos configurados\n",
    "--"
   ]
  },
  {
   "cell_type": "code",
   "execution_count": 3,
   "id": "efc12666-abf8-44aa-b2c4-0992a1c39914",
   "metadata": {},
   "outputs": [],
   "source": [
    "#\n",
    "# No hay remotos\n",
    "#\n",
    "!git remote"
   ]
  },
  {
   "cell_type": "markdown",
   "id": "db95d58d-6165-46d1-ab5c-a3b59b773c3c",
   "metadata": {},
   "source": [
    "Clonación\n",
    "---"
   ]
  },
  {
   "cell_type": "code",
   "execution_count": 4,
   "id": "04ea52ea-7d0a-40e6-b129-e1a1ed4ea4b3",
   "metadata": {},
   "outputs": [
    {
     "name": "stdout",
     "output_type": "stream",
     "text": [
      "Cloning into 'git-demo-remote-1'...\n",
      "remote: Enumerating objects: 5, done.\u001b[K\n",
      "remote: Counting objects: 100% (5/5), done.\u001b[K\n",
      "remote: Compressing objects: 100% (3/3), done.\u001b[K\n",
      "remote: Total 5 (delta 0), reused 0 (delta 0), pack-reused 0\u001b[K\n",
      "Unpacking objects: 100% (5/5), 1.20 KiB | 29.00 KiB/s, done.\n"
     ]
    }
   ],
   "source": [
    "!git clone https://github.com/jdvelasq/git-demo-remote-1"
   ]
  },
  {
   "cell_type": "code",
   "execution_count": 5,
   "id": "4f989770-8274-4c23-b7ae-4a71da7a801d",
   "metadata": {},
   "outputs": [
    {
     "name": "stdout",
     "output_type": "stream",
     "text": [
      "/workspace/github/git-demo/git-demo-remote-1\n"
     ]
    }
   ],
   "source": [
    "%cd git-demo-remote-1"
   ]
  },
  {
   "cell_type": "code",
   "execution_count": 6,
   "id": "905e258a-51fd-48f8-a00f-a497464242c4",
   "metadata": {},
   "outputs": [
    {
     "name": "stdout",
     "output_type": "stream",
     "text": [
      "origin\n"
     ]
    }
   ],
   "source": [
    "!git remote"
   ]
  },
  {
   "cell_type": "code",
   "execution_count": 7,
   "id": "312f16e0-f1b4-4f5f-a33c-3457798e8876",
   "metadata": {},
   "outputs": [
    {
     "name": "stdout",
     "output_type": "stream",
     "text": [
      "origin\thttps://github.com/jdvelasq/git-demo-remote-1 (fetch)\n",
      "origin\thttps://github.com/jdvelasq/git-demo-remote-1 (push)\n"
     ]
    }
   ],
   "source": [
    "!git remote -v"
   ]
  },
  {
   "cell_type": "code",
   "execution_count": 8,
   "id": "f464dd26-aa60-454c-aed9-a4638bd0cec5",
   "metadata": {},
   "outputs": [
    {
     "name": "stdout",
     "output_type": "stream",
     "text": [
      "* \u001b[32mmain\u001b[m e4d7675 Create file_2.txt\n"
     ]
    }
   ],
   "source": [
    "!git branch -v"
   ]
  },
  {
   "cell_type": "code",
   "execution_count": 9,
   "id": "5bc95b4b-11f5-4f04-b06e-657d0b922d9a",
   "metadata": {},
   "outputs": [
    {
     "name": "stdout",
     "output_type": "stream",
     "text": [
      "/workspace/github/git-demo\n"
     ]
    }
   ],
   "source": [
    "%cd .."
   ]
  },
  {
   "cell_type": "markdown",
   "id": "cd903777-7829-499c-897a-2f3f50835458",
   "metadata": {},
   "source": [
    "Borrado del repositorio clonado\n",
    "---"
   ]
  },
  {
   "cell_type": "code",
   "execution_count": 10,
   "id": "00e1dc95-8bb7-4bbc-b724-7904e4cda87d",
   "metadata": {},
   "outputs": [],
   "source": [
    "!rm -rf git-demo-remote-1 "
   ]
  },
  {
   "cell_type": "code",
   "execution_count": 11,
   "id": "691818b4-d210-46d4-9905-d160ca84f12f",
   "metadata": {},
   "outputs": [
    {
     "name": "stdout",
     "output_type": "stream",
     "text": [
      "/workspace/github/git-demo\n"
     ]
    }
   ],
   "source": [
    "!pwd"
   ]
  },
  {
   "cell_type": "markdown",
   "id": "37faad81-7b1f-41aa-903a-47f7d7c4bef3",
   "metadata": {},
   "source": [
    "Adición de un remoto\n",
    "--"
   ]
  },
  {
   "cell_type": "code",
   "execution_count": 12,
   "id": "9a5165a8-9df4-46d9-a6e3-40c62d24a4c3",
   "metadata": {},
   "outputs": [
    {
     "name": "stdout",
     "output_type": "stream",
     "text": [
      "origin\thttps://github.com/jdvelasq/git-demo-remote-1.git (fetch)\n",
      "origin\thttps://github.com/jdvelasq/git-demo-remote-1.git (push)\n"
     ]
    }
   ],
   "source": [
    "!git remote add origin https://github.com/jdvelasq/git-demo-remote-1.git\n",
    "!git remote -v"
   ]
  },
  {
   "cell_type": "markdown",
   "id": "da780e9b-5790-4f4b-a647-0961383f8fd7",
   "metadata": {},
   "source": [
    "Descarga de archivos del remoto\n",
    "--"
   ]
  },
  {
   "cell_type": "code",
   "execution_count": 13,
   "id": "c319d839-16b4-47ce-b574-0ca1999b00b8",
   "metadata": {},
   "outputs": [],
   "source": [
    "# La carpeta de trabajo esta vacia\n",
    "!ls -1"
   ]
  },
  {
   "cell_type": "code",
   "execution_count": 14,
   "id": "34416d5a-9534-4ba8-9561-05375441f28d",
   "metadata": {},
   "outputs": [
    {
     "name": "stdout",
     "output_type": "stream",
     "text": [
      "remote: Enumerating objects: 5, done.\u001b[K\n",
      "remote: Counting objects: 100% (5/5), done.\u001b[K\n",
      "remote: Compressing objects: 100% (3/3), done.\u001b[K\n",
      "remote: Total 5 (delta 0), reused 0 (delta 0), pack-reused 0\u001b[K\n",
      "Unpacking objects: 100% (5/5), 1.20 KiB | 29.00 KiB/s, done.\n",
      "From https://github.com/jdvelasq/git-demo-remote-1\n",
      " * branch            main       -> FETCH_HEAD\n",
      " * [new branch]      main       -> origin/main\n"
     ]
    }
   ],
   "source": [
    "# Se indica el remoto y la rama\n",
    "!git pull origin main"
   ]
  },
  {
   "cell_type": "code",
   "execution_count": 15,
   "id": "6d634150-bcca-4fc2-a7fd-70e65be29a2f",
   "metadata": {},
   "outputs": [
    {
     "name": "stdout",
     "output_type": "stream",
     "text": [
      "file_1.txt\n",
      "file_2.txt\n"
     ]
    }
   ],
   "source": [
    "!ls  -1"
   ]
  },
  {
   "cell_type": "markdown",
   "id": "268e070c-6647-41e4-a75f-e7726e5d5f96",
   "metadata": {},
   "source": [
    "Adición de archivos\n",
    "--"
   ]
  },
  {
   "cell_type": "code",
   "execution_count": 16,
   "id": "923da2fb-e625-4602-a0b9-a3e42593db89",
   "metadata": {},
   "outputs": [
    {
     "name": "stdout",
     "output_type": "stream",
     "text": [
      "[master 1d382e6] create new_file.txt\n",
      " 1 file changed, 0 insertions(+), 0 deletions(-)\n",
      " create mode 100644 new_file.txt\n"
     ]
    }
   ],
   "source": [
    "!touch new_file.txt\n",
    "!git add new_file.txt\n",
    "!git commit -m \"create new_file.txt\""
   ]
  },
  {
   "cell_type": "code",
   "execution_count": 19,
   "id": "95e8db78-81e4-4908-aace-0da85e515c37",
   "metadata": {},
   "outputs": [
    {
     "name": "stdout",
     "output_type": "stream",
     "text": [
      "Username for 'https://github.com': ^C\n"
     ]
    }
   ],
   "source": [
    "# Autenticación en la linea de comandos (no ejecutar)\n",
    "!git push -u origin master"
   ]
  },
  {
   "cell_type": "code",
   "execution_count": 18,
   "id": "4875777a-923b-4b52-9f7c-27282b14c1ee",
   "metadata": {},
   "outputs": [
    {
     "name": "stdout",
     "output_type": "stream",
     "text": [
      "* \u001b[32mmaster\u001b[m\n"
     ]
    }
   ],
   "source": [
    "!git branch"
   ]
  },
  {
   "cell_type": "markdown",
   "id": "5ccc9ed5-3743-456d-bd89-fc5b6d238cc4",
   "metadata": {},
   "source": [
    "Inspección\n",
    "---"
   ]
  },
  {
   "cell_type": "code",
   "execution_count": null,
   "id": "e2552b2d-7393-44ee-9a67-f8c90e2887fc",
   "metadata": {},
   "outputs": [],
   "source": [
    "!git remote show main"
   ]
  },
  {
   "cell_type": "markdown",
   "id": "db7183f5-508c-43fb-907f-47f68ce85fd6",
   "metadata": {},
   "source": [
    "Renombramiento y remoción de remotos\n",
    "---"
   ]
  },
  {
   "cell_type": "code",
   "execution_count": null,
   "id": "a167cc55-6f8c-4e57-af06-4a30ca2c01d7",
   "metadata": {},
   "outputs": [],
   "source": [
    "!git remote rename pb jdvelasq\n",
    "!git remote -v "
   ]
  },
  {
   "cell_type": "code",
   "execution_count": null,
   "id": "5a057468-e19c-4ace-86b0-318e68cb3830",
   "metadata": {},
   "outputs": [],
   "source": [
    "!git remote remove jdvelasq\n",
    "!git remote -v"
   ]
  },
  {
   "cell_type": "code",
   "execution_count": null,
   "id": "50d236ec-4c6a-4c4f-86b8-ff7fad3270fd",
   "metadata": {},
   "outputs": [],
   "source": [
    "# --< Limpieza del área de trabajo >-------------------------------------------\n",
    "%cd ..\n",
    "!rm -rf git-demo"
   ]
  }
 ],
 "metadata": {
  "kernelspec": {
   "display_name": "Python 3 (ipykernel)",
   "language": "python",
   "name": "python3"
  },
  "language_info": {
   "codemirror_mode": {
    "name": "ipython",
    "version": 3
   },
   "file_extension": ".py",
   "mimetype": "text/x-python",
   "name": "python",
   "nbconvert_exporter": "python",
   "pygments_lexer": "ipython3",
   "version": "3.8.10"
  }
 },
 "nbformat": 4,
 "nbformat_minor": 5
}
