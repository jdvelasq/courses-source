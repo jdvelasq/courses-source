{
 "cells": [
  {
   "cell_type": "markdown",
   "metadata": {},
   "source": [
    "Predicción de la evolución de la diabetes usando PySpark (MLlib: RDD-based)\n",
    "===\n",
    "\n",
    "* *30 min* | Última modificación: Noviembre 6, 2020"
   ]
  },
  {
   "cell_type": "markdown",
   "metadata": {},
   "source": [
    "Definición del problema\n",
    "--"
   ]
  },
  {
   "cell_type": "markdown",
   "metadata": {},
   "source": [
    "Los modelos de regresión son ampliamente usados para la construcción de modelos de pronóstico para toma de decisiones. En este caso particular, el médico desearía tener un pronóstico del progreso de la diabetes con un horizonte de doce meses de sus pacientes con base en variables físicas y pruebas de laboratorio, con el fin de realizar mejores tratamientos. Véase https://www4.stat.ncsu.edu/~boos/var.select/diabetes.html"
   ]
  },
  {
   "cell_type": "markdown",
   "metadata": {},
   "source": [
    "En este problema se tiene una base de datos de diez variables base (edad, sexo, índice de masa corporal, presión arterial, y seis variables medidas en sangre) para 442 pacientes, y un índice que mide el progreso de la diabetes un año después de la prueba. La información se encuentra en el archivo `diabetes.csv`. Se desea construir un modelo de regresión que permita pronosticar la evolución de la enfermedad con la información disponible.Se desea construir un modelo de regresión que permita pronosticar la evolución de la enfermedad con la información disponible."
   ]
  },
  {
   "cell_type": "markdown",
   "metadata": {},
   "source": [
    "Preparación del archivo de datos\n",
    "--"
   ]
  },
  {
   "cell_type": "code",
   "execution_count": 1,
   "metadata": {},
   "outputs": [
    {
     "name": "stdout",
     "output_type": "stream",
     "text": [
      "--2020-11-05 20:26:21--  https://raw.githubusercontent.com/jdvelasq/datalabs/master/datasets/diabetes.csv\n",
      "Resolving raw.githubusercontent.com (raw.githubusercontent.com)... 199.232.48.133\n",
      "Connecting to raw.githubusercontent.com (raw.githubusercontent.com)|199.232.48.133|:443... connected.\n",
      "HTTP request sent, awaiting response... 200 OK\n",
      "Length: 88791 (87K) [text/plain]\n",
      "Saving to: ‘diabetes.csv’\n",
      "\n",
      "diabetes.csv        100%[===================>]  86.71K  --.-KB/s    in 0.1s    \n",
      "\n",
      "2020-11-05 20:26:21 (800 KB/s) - ‘diabetes.csv’ saved [88791/88791]\n",
      "\n"
     ]
    }
   ],
   "source": [
    "#\n",
    "# Descarga\n",
    "#\n",
    "!wget https://raw.githubusercontent.com/jdvelasq/datalabs/master/datasets/diabetes.csv"
   ]
  },
  {
   "cell_type": "code",
   "execution_count": 2,
   "metadata": {},
   "outputs": [
    {
     "name": "stdout",
     "output_type": "stream",
     "text": [
      "age,sex,bmi,bp,s1,s2,s3,s4,s5,s6,Y\n",
      "0.0380759064334241,0.0506801187398187,0.0616962065186885,0.0218723549949558,-0.0442234984244464,-0.0348207628376986,-0.0434008456520269,-0.00259226199818282,0.0199084208763183,-0.0176461251598052,151.0\n",
      "-0.00188201652779104,-0.044641636506989,-0.0514740612388061,-0.0263278347173518,-0.00844872411121698,-0.019163339748222,0.0744115640787594,-0.0394933828740919,-0.0683297436244215,-0.09220404962683,75.0\n",
      "0.0852989062966783,0.0506801187398187,0.0444512133365941,-0.00567061055493425,-0.0455994512826475,-0.0341944659141195,-0.0323559322397657,-0.00259226199818282,0.00286377051894013,-0.0259303389894746,141.0\n",
      "-0.0890629393522603,-0.044641636506989,-0.0115950145052127,-0.0366564467985606,0.0121905687618,0.0249905933641021,-0.0360375700438527,0.0343088588777263,0.0226920225667445,-0.0093619113301358,206.0\n",
      "0.00538306037424807,-0.044641636506989,-0.0363846922044735,0.0218723549949558,0.00393485161259318,0.0155961395104161,0.0081420836051921,-0.00259226199818282,-0.0319914449413559,-0.0466408735636482,135.0\n",
      "-0.0926954778032799,-0.044641636506989,-0.0406959404999971,-0.0194420933298793,-0.0689906498720667,-0.0792878444118122,0.0412768238419757,-0.076394503750001,-0.0411803851880079,-0.0963461565416647,97.0\n",
      "-0.0454724779400257,0.0506801187398187,-0.0471628129432825,-0.015999222636143,-0.040095639849843,-0.0248000120604336,0.000778807997017968,-0.0394933828740919,-0.0629129499162512,-0.0383566597339788,138.0\n",
      "0.063503675590561,0.0506801187398187,-0.00189470584028465,0.0666296740135272,0.0906198816792644,0.108914381123697,0.0228686348215404,0.0177033544835672,-0.0358167281015492,0.00306440941436832,63.0\n",
      "0.0417084448844436,0.0506801187398187,0.0616962065186885,-0.0400993174922969,-0.0139525355440215,0.00620168565673016,-0.0286742944356786,-0.00259226199818282,-0.0149564750249113,0.0113486232440377,110.0\n"
     ]
    }
   ],
   "source": [
    "#\n",
    "# Contenido del archivo\n",
    "#\n",
    "!head diabetes.csv"
   ]
  },
  {
   "cell_type": "code",
   "execution_count": 3,
   "metadata": {},
   "outputs": [],
   "source": [
    "#\n",
    "# Remueve la primera fila del archivo\n",
    "#\n",
    "!sed '1d'  diabetes.csv >  diabetes0.csv"
   ]
  },
  {
   "cell_type": "code",
   "execution_count": 4,
   "metadata": {},
   "outputs": [],
   "source": [
    "#\n",
    "# Mueve el archivo de datos al hdfs\n",
    "#\n",
    "!hdfs dfs -copyFromLocal diabetes0.csv /tmp/diabetes.csv"
   ]
  },
  {
   "cell_type": "markdown",
   "metadata": {},
   "source": [
    "Inicialización de Spark\n",
    "--"
   ]
  },
  {
   "cell_type": "code",
   "execution_count": 5,
   "metadata": {},
   "outputs": [],
   "source": [
    "#\n",
    "# Carga de las librerías de Spark\n",
    "#\n",
    "import findspark\n",
    "from pyspark.sql import SparkSession\n",
    "\n",
    "from pyspark import SparkConf, SparkContext\n",
    "\n",
    "findspark.init()\n",
    "\n",
    "APP_NAME = \"spark-app\"\n",
    "\n",
    "conf = SparkConf().setAppName(APP_NAME)\n",
    "sc = SparkContext(conf=conf)\n",
    "spark = SparkSession(sc)"
   ]
  },
  {
   "cell_type": "markdown",
   "metadata": {},
   "source": [
    "Carga de datos\n",
    "--"
   ]
  },
  {
   "cell_type": "code",
   "execution_count": 6,
   "metadata": {},
   "outputs": [],
   "source": [
    "rdd = sc.textFile(\"/tmp/diabetes.csv\")\n",
    "\n",
    "rdd = rdd.map(lambda w: w.split(\",\"))"
   ]
  },
  {
   "cell_type": "markdown",
   "metadata": {},
   "source": [
    "Análisis exploratorio\n",
    "--"
   ]
  },
  {
   "cell_type": "code",
   "execution_count": 7,
   "metadata": {},
   "outputs": [
    {
     "data": {
      "text/html": [
       "<div>\n",
       "<style scoped>\n",
       "    .dataframe tbody tr th:only-of-type {\n",
       "        vertical-align: middle;\n",
       "    }\n",
       "\n",
       "    .dataframe tbody tr th {\n",
       "        vertical-align: top;\n",
       "    }\n",
       "\n",
       "    .dataframe thead th {\n",
       "        text-align: right;\n",
       "    }\n",
       "</style>\n",
       "<table border=\"1\" class=\"dataframe\">\n",
       "  <thead>\n",
       "    <tr style=\"text-align: right;\">\n",
       "      <th></th>\n",
       "      <th>age</th>\n",
       "      <th>sex</th>\n",
       "      <th>bmi</th>\n",
       "      <th>bp</th>\n",
       "      <th>s1</th>\n",
       "      <th>s2</th>\n",
       "      <th>s3</th>\n",
       "      <th>s4</th>\n",
       "      <th>s5</th>\n",
       "      <th>s6</th>\n",
       "      <th>Y</th>\n",
       "    </tr>\n",
       "  </thead>\n",
       "  <tbody>\n",
       "    <tr>\n",
       "      <th>Mean</th>\n",
       "      <td>-3.642919e-16</td>\n",
       "      <td>1.288032e-16</td>\n",
       "      <td>-8.023096e-16</td>\n",
       "      <td>1.281527e-16</td>\n",
       "      <td>-8.977194e-17</td>\n",
       "      <td>1.322727e-16</td>\n",
       "      <td>-4.565575e-16</td>\n",
       "      <td>3.872770e-16</td>\n",
       "      <td>-3.885781e-16</td>\n",
       "      <td>-3.404395e-16</td>\n",
       "      <td>152.133484</td>\n",
       "    </tr>\n",
       "    <tr>\n",
       "      <th>Var</th>\n",
       "      <td>2.267574e-03</td>\n",
       "      <td>2.267574e-03</td>\n",
       "      <td>2.267574e-03</td>\n",
       "      <td>2.267574e-03</td>\n",
       "      <td>2.267574e-03</td>\n",
       "      <td>2.267574e-03</td>\n",
       "      <td>2.267574e-03</td>\n",
       "      <td>2.267574e-03</td>\n",
       "      <td>2.267574e-03</td>\n",
       "      <td>2.267574e-03</td>\n",
       "      <td>5943.331348</td>\n",
       "    </tr>\n",
       "    <tr>\n",
       "      <th>Max</th>\n",
       "      <td>1.107267e-01</td>\n",
       "      <td>5.068012e-02</td>\n",
       "      <td>1.705552e-01</td>\n",
       "      <td>1.320442e-01</td>\n",
       "      <td>1.539137e-01</td>\n",
       "      <td>1.987880e-01</td>\n",
       "      <td>1.811791e-01</td>\n",
       "      <td>1.852344e-01</td>\n",
       "      <td>1.335990e-01</td>\n",
       "      <td>1.356118e-01</td>\n",
       "      <td>346.000000</td>\n",
       "    </tr>\n",
       "    <tr>\n",
       "      <th>Min</th>\n",
       "      <td>-1.072256e-01</td>\n",
       "      <td>-4.464164e-02</td>\n",
       "      <td>-9.027530e-02</td>\n",
       "      <td>-1.123996e-01</td>\n",
       "      <td>-1.267807e-01</td>\n",
       "      <td>-1.156131e-01</td>\n",
       "      <td>-1.023071e-01</td>\n",
       "      <td>-7.639450e-02</td>\n",
       "      <td>-1.260974e-01</td>\n",
       "      <td>-1.377672e-01</td>\n",
       "      <td>25.000000</td>\n",
       "    </tr>\n",
       "    <tr>\n",
       "      <th>Count</th>\n",
       "      <td>4.420000e+02</td>\n",
       "      <td>4.420000e+02</td>\n",
       "      <td>4.420000e+02</td>\n",
       "      <td>4.420000e+02</td>\n",
       "      <td>4.420000e+02</td>\n",
       "      <td>4.420000e+02</td>\n",
       "      <td>4.420000e+02</td>\n",
       "      <td>4.420000e+02</td>\n",
       "      <td>4.420000e+02</td>\n",
       "      <td>4.420000e+02</td>\n",
       "      <td>442.000000</td>\n",
       "    </tr>\n",
       "    <tr>\n",
       "      <th>numNonZero</th>\n",
       "      <td>4.420000e+02</td>\n",
       "      <td>4.420000e+02</td>\n",
       "      <td>4.420000e+02</td>\n",
       "      <td>4.420000e+02</td>\n",
       "      <td>4.420000e+02</td>\n",
       "      <td>4.420000e+02</td>\n",
       "      <td>4.420000e+02</td>\n",
       "      <td>4.420000e+02</td>\n",
       "      <td>4.420000e+02</td>\n",
       "      <td>4.420000e+02</td>\n",
       "      <td>442.000000</td>\n",
       "    </tr>\n",
       "  </tbody>\n",
       "</table>\n",
       "</div>"
      ],
      "text/plain": [
       "                     age           sex           bmi            bp  \\\n",
       "Mean       -3.642919e-16  1.288032e-16 -8.023096e-16  1.281527e-16   \n",
       "Var         2.267574e-03  2.267574e-03  2.267574e-03  2.267574e-03   \n",
       "Max         1.107267e-01  5.068012e-02  1.705552e-01  1.320442e-01   \n",
       "Min        -1.072256e-01 -4.464164e-02 -9.027530e-02 -1.123996e-01   \n",
       "Count       4.420000e+02  4.420000e+02  4.420000e+02  4.420000e+02   \n",
       "numNonZero  4.420000e+02  4.420000e+02  4.420000e+02  4.420000e+02   \n",
       "\n",
       "                      s1            s2            s3            s4  \\\n",
       "Mean       -8.977194e-17  1.322727e-16 -4.565575e-16  3.872770e-16   \n",
       "Var         2.267574e-03  2.267574e-03  2.267574e-03  2.267574e-03   \n",
       "Max         1.539137e-01  1.987880e-01  1.811791e-01  1.852344e-01   \n",
       "Min        -1.267807e-01 -1.156131e-01 -1.023071e-01 -7.639450e-02   \n",
       "Count       4.420000e+02  4.420000e+02  4.420000e+02  4.420000e+02   \n",
       "numNonZero  4.420000e+02  4.420000e+02  4.420000e+02  4.420000e+02   \n",
       "\n",
       "                      s5            s6            Y  \n",
       "Mean       -3.885781e-16 -3.404395e-16   152.133484  \n",
       "Var         2.267574e-03  2.267574e-03  5943.331348  \n",
       "Max         1.335990e-01  1.356118e-01   346.000000  \n",
       "Min        -1.260974e-01 -1.377672e-01    25.000000  \n",
       "Count       4.420000e+02  4.420000e+02   442.000000  \n",
       "numNonZero  4.420000e+02  4.420000e+02   442.000000  "
      ]
     },
     "execution_count": 7,
     "metadata": {},
     "output_type": "execute_result"
    }
   ],
   "source": [
    "#\n",
    "# Estadísitcas básicas\n",
    "#\n",
    "import numpy as np\n",
    "import pandas as pd\n",
    "from pyspark.mllib.stat import Statistics\n",
    "\n",
    "x = rdd.map(lambda w: np.array(w))\n",
    "summary = Statistics.colStats(x)\n",
    "\n",
    "pd.DataFrame(\n",
    "    {\n",
    "        \"Mean\": summary.mean(),\n",
    "        \"Var\": summary.variance(),\n",
    "        \"Max\": summary.max(),\n",
    "        \"Min\": summary.min(),\n",
    "        \"Count\": summary.count(),\n",
    "        \"numNonZero\": summary.numNonzeros(),\n",
    "    },\n",
    "    index=[\"age\", \"sex\", \"bmi\", \"bp\", \"s1\", \"s2\", \"s3\", \"s4\", \"s5\", \"s6\", \"Y\"],\n",
    ").transpose()"
   ]
  },
  {
   "cell_type": "code",
   "execution_count": 8,
   "metadata": {},
   "outputs": [
    {
     "data": {
      "text/plain": [
       "([25.0,\n",
       "  54.18181818181819,\n",
       "  83.36363636363637,\n",
       "  112.54545454545455,\n",
       "  141.72727272727275,\n",
       "  170.9090909090909,\n",
       "  200.0909090909091,\n",
       "  229.27272727272728,\n",
       "  258.4545454545455,\n",
       "  287.6363636363636,\n",
       "  316.8181818181818,\n",
       "  346.0],\n",
       " [33, 68, 71, 52, 46, 51, 29, 36, 35, 15, 6])"
      ]
     },
     "execution_count": 8,
     "metadata": {},
     "output_type": "execute_result"
    }
   ],
   "source": [
    "#\n",
    "# histograma.\n",
    "# Muestra que la mayor parte de la población tiene\n",
    "# gastos bajos, mientras que disminuye la frecuencia\n",
    "# de costos más altos es más baja.\n",
    "#\n",
    "# La función histogram de pyspark permite computar\n",
    "# los datos de graficación del histograma, pero\n",
    "# no grafica el histograma como tal.\n",
    "#\n",
    "h = rdd.map(lambda w: float(w[10])).histogram(11)\n",
    "h"
   ]
  },
  {
   "cell_type": "code",
   "execution_count": null,
   "metadata": {},
   "outputs": [],
   "source": [
    "!pip3 install -q  matplotlib"
   ]
  },
  {
   "cell_type": "code",
   "execution_count": 9,
   "metadata": {},
   "outputs": [
    {
     "data": {
      "image/png": "[encoded data removed]",
      "text/plain": [
       "<Figure size 432x288 with 1 Axes>"
      ]
     },
     "metadata": {
      "needs_background": "light"
     },
     "output_type": "display_data"
    }
   ],
   "source": [
    "#\n",
    "# Debe recurrise a Pandas para realizar la\n",
    "# graficación\n",
    "#\n",
    "pd.DataFrame(list(zip(*h)), columns=[\"bin\", \"frequency\"]).set_index(\"bin\").plot(\n",
    "    kind=\"bar\"\n",
    ");"
   ]
  },
  {
   "cell_type": "code",
   "execution_count": 10,
   "metadata": {},
   "outputs": [
    {
     "data": {
      "text/plain": [
       "array([[ 1.        ,  0.1737371 ,  0.18508467,  0.33542671,  0.26006082,\n",
       "         0.21924314, -0.07518097,  0.2038409 ,  0.27077678,  0.30173101,\n",
       "         0.18788875],\n",
       "       [ 0.1737371 ,  1.        ,  0.0881614 ,  0.24101317,  0.03527682,\n",
       "         0.14263726, -0.37908963,  0.33211509,  0.14991756,  0.20813322,\n",
       "         0.043062  ],\n",
       "       [ 0.18508467,  0.0881614 ,  1.        ,  0.39541532,  0.24977742,\n",
       "         0.26116991, -0.36681098,  0.4138066 ,  0.44615865,  0.38867999,\n",
       "         0.58645013],\n",
       "       [ 0.33542671,  0.24101317,  0.39541532,  1.        ,  0.24246971,\n",
       "         0.18555783, -0.17876121,  0.25765337,  0.39347814,  0.39042938,\n",
       "         0.44148385],\n",
       "       [ 0.26006082,  0.03527682,  0.24977742,  0.24246971,  1.        ,\n",
       "         0.89666296,  0.05151936,  0.54220728,  0.51550076,  0.32571675,\n",
       "         0.21202248],\n",
       "       [ 0.21924314,  0.14263726,  0.26116991,  0.18555783,  0.89666296,\n",
       "         1.        , -0.19645512,  0.65981689,  0.3183534 ,  0.29060038,\n",
       "         0.17405359],\n",
       "       [-0.07518097, -0.37908963, -0.36681098, -0.17876121,  0.05151936,\n",
       "        -0.19645512,  1.        , -0.73849273, -0.398577  , -0.2736973 ,\n",
       "        -0.39478925],\n",
       "       [ 0.2038409 ,  0.33211509,  0.4138066 ,  0.25765337,  0.54220728,\n",
       "         0.65981689, -0.73849273,  1.        ,  0.61785739,  0.41721211,\n",
       "         0.43045288],\n",
       "       [ 0.27077678,  0.14991756,  0.44615865,  0.39347814,  0.51550076,\n",
       "         0.3183534 , -0.398577  ,  0.61785739,  1.        ,  0.46467046,\n",
       "         0.56588343],\n",
       "       [ 0.30173101,  0.20813322,  0.38867999,  0.39042938,  0.32571675,\n",
       "         0.29060038, -0.2736973 ,  0.41721211,  0.46467046,  1.        ,\n",
       "         0.38248348],\n",
       "       [ 0.18788875,  0.043062  ,  0.58645013,  0.44148385,  0.21202248,\n",
       "         0.17405359, -0.39478925,  0.43045288,  0.56588343,  0.38248348,\n",
       "         1.        ]])"
      ]
     },
     "execution_count": 10,
     "metadata": {},
     "output_type": "execute_result"
    }
   ],
   "source": [
    "#\n",
    "# Cómputo de la correlación entre\n",
    "# las variables numéricas del DataFrame\n",
    "#\n",
    "Statistics.corr(rdd, method=\"pearson\")"
   ]
  },
  {
   "cell_type": "markdown",
   "metadata": {},
   "source": [
    "Preparación de los datos\n",
    "--"
   ]
  },
  {
   "cell_type": "code",
   "execution_count": 12,
   "metadata": {},
   "outputs": [
    {
     "name": "stdout",
     "output_type": "stream",
     "text": [
      "[LabeledPoint(151.0, [0.0380759064334241,0.0506801187398187,0.0616962065186885,0.0218723549949558,-0.0442234984244464,-0.0348207628376986,-0.0434008456520269,-0.00259226199818282,0.0199084208763183,-0.0176461251598052]), LabeledPoint(75.0, [-0.00188201652779104,-0.044641636506989,-0.0514740612388061,-0.0263278347173518,-0.00844872411121698,-0.019163339748222,0.0744115640787594,-0.0394933828740919,-0.0683297436244215,-0.09220404962683]), LabeledPoint(141.0, [0.0852989062966783,0.0506801187398187,0.0444512133365941,-0.00567061055493425,-0.0455994512826475,-0.0341944659141195,-0.0323559322397657,-0.00259226199818282,0.00286377051894013,-0.0259303389894746]), LabeledPoint(206.0, [-0.0890629393522603,-0.044641636506989,-0.0115950145052127,-0.0366564467985606,0.0121905687618,0.0249905933641021,-0.0360375700438527,0.0343088588777263,0.0226920225667445,-0.0093619113301358]), LabeledPoint(135.0, [0.00538306037424807,-0.044641636506989,-0.0363846922044735,0.0218723549949558,0.00393485161259318,0.0155961395104161,0.0081420836051921,-0.00259226199818282,-0.0319914449413559,-0.0466408735636482])]\n"
     ]
    }
   ],
   "source": [
    "from pyspark.mllib.regression import LabeledPoint\n",
    "\n",
    "x = rdd.map(lambda w: LabeledPoint(w[10], w[:10]))\n",
    "print(x.collect()[0:5])"
   ]
  },
  {
   "cell_type": "markdown",
   "metadata": {},
   "source": [
    "Estimación del modelo\n",
    "--"
   ]
  },
  {
   "cell_type": "code",
   "execution_count": 13,
   "metadata": {},
   "outputs": [
    {
     "name": "stdout",
     "output_type": "stream",
     "text": [
      "Parameters:\n",
      "---------------------------------\n",
      "Intercept: 136.51915849333383\n",
      "Weights: [2.509049930309272,1.3287507854099163,5.7661262578376675,4.579821109698119,2.6933893176651207,2.3834423738656616,-2.2049661818403274,4.477153030983179,5.589557700419026,4.091438278742303]\n"
     ]
    },
    {
     "data": {
      "text/plain": [
       "[(151.0, 137.05902197948032),\n",
       " (75.0, 134.86923255784592),\n",
       " (141.0, 136.79619488005662),\n",
       " (206.0, 136.41563914422062),\n",
       " (135.0, 136.01228532658578)]"
      ]
     },
     "execution_count": 13,
     "metadata": {},
     "output_type": "execute_result"
    }
   ],
   "source": [
    "import numpy as np\n",
    "from pyspark.mllib.regression import LinearRegressionWithSGD\n",
    "\n",
    "model = LinearRegressionWithSGD().train(\n",
    "    x,\n",
    "    iterations=1000,\n",
    "    intercept=True,\n",
    "    initialWeights=np.array([1.0] * 10),\n",
    "    step=0.1,\n",
    "    regType=\"l2\",\n",
    "    regParam=0.0,\n",
    ")\n",
    "\n",
    "print(\"Parameters:\")\n",
    "print(\"---------------------------------\")\n",
    "print(\"Intercept:\", model.intercept)\n",
    "print(\"Weights:\", model.weights)\n",
    "print()\n",
    "\n",
    "x.map(lambda lp: (lp.label, model.predict(lp.features))).collect()[:5]"
   ]
  }
 ],
 "metadata": {
  "kernel_info": {
   "name": "python3"
  },
  "kernelspec": {
   "display_name": "Python 3 (ipykernel)",
   "language": "python",
   "name": "python3"
  },
  "language_info": {
   "codemirror_mode": {
    "name": "ipython",
    "version": 3
   },
   "file_extension": ".py",
   "mimetype": "text/x-python",
   "name": "python",
   "nbconvert_exporter": "python",
   "pygments_lexer": "ipython3",
   "version": "3.8.10"
  },
  "nteract": {
   "version": "0.7.1"
  },
  "varInspector": {
   "cols": {
    "lenName": 16,
    "lenType": 16,
    "lenVar": 40
   },
   "kernels_config": {
    "python": {
     "delete_cmd_postfix": "",
     "delete_cmd_prefix": "del ",
     "library": "var_list.py",
     "varRefreshCmd": "print(var_dic_list())"
    },
    "r": {
     "delete_cmd_postfix": ") ",
     "delete_cmd_prefix": "rm(",
     "library": "var_list.r",
     "varRefreshCmd": "cat(var_dic_list()) "
    }
   },
   "types_to_exclude": [
    "module",
    "function",
    "builtin_function_or_method",
    "instance",
    "_Feature"
   ],
   "window_display": false
  }
 },
 "nbformat": 4,
 "nbformat_minor": 4
}
