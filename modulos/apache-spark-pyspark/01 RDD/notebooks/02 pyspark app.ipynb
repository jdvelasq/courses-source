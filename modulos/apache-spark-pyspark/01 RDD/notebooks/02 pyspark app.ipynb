{
 "cells": [
  {
   "cell_type": "markdown",
   "metadata": {},
   "source": [
    "Desarrollo de Aplicaciones en PySpark\n",
    "===\n",
    "\n",
    "* *30 min* | Última modificación: Junio 22, 2019"
   ]
  },
  {
   "cell_type": "markdown",
   "metadata": {},
   "source": [
    "En este tutorial se describe como implementar y ejecutar una aplicación usando PySpark. Al finalizar este tutorial, el lector estará en capacidad de:\n",
    "\n",
    "* Describir el proceso general de desarrollo de una aplicación.\n",
    "\n",
    "* Gestionar los archivos de entrada y salida de la aplicación.\n",
    "\n",
    "* Ejecutar la aplicación en Spark."
   ]
  },
  {
   "cell_type": "markdown",
   "metadata": {},
   "source": [
    "## Descripción de la aplicación"
   ]
  },
  {
   "cell_type": "markdown",
   "metadata": {},
   "source": [
    "La aplicación desarrollada será el conteo de frecuencia de palabras, desarrollado en el tutorial 'WordCount en Spark'. "
   ]
  },
  {
   "cell_type": "markdown",
   "metadata": {},
   "source": [
    "## Preparación de los datos"
   ]
  },
  {
   "cell_type": "markdown",
   "metadata": {},
   "source": [
    "En este proceso, se que los datos originales se encuentran en una carpeta de la máquina local del usuario. Para este ejemplo, se crea el directorio `wordcount`en la carpeta actual y se crean tres archivos dentro de él."
   ]
  },
  {
   "cell_type": "code",
   "execution_count": 1,
   "metadata": {},
   "outputs": [],
   "source": [
    "#\n",
    "# Creación de la carpeta wordcount en la máquina local.\n",
    "#\n",
    "!mkdir -p wordcount/"
   ]
  },
  {
   "cell_type": "markdown",
   "metadata": {},
   "source": [
    "A continuación se crean los tres archivos de prueba."
   ]
  },
  {
   "cell_type": "code",
   "execution_count": 2,
   "metadata": {},
   "outputs": [
    {
     "name": "stdout",
     "output_type": "stream",
     "text": [
      "Writing wordcount/text0.txt\n"
     ]
    }
   ],
   "source": [
    "%%writefile wordcount/text0.txt\n",
    "Analytics is the discovery, interpretation, and communication of meaningful patterns \n",
    "in data. Especially valuable in areas rich with recorded information, analytics relies \n",
    "on the simultaneous application of statistics, computer programming and operations research \n",
    "to quantify performance.\n",
    "\n",
    "Organizations may apply analytics to business data to describe, predict, and improve business \n",
    "performance. Specifically, areas within analytics include predictive analytics, prescriptive \n",
    "analytics, enterprise decision management, descriptive analytics, cognitive analytics, Big \n",
    "Data Analytics, retail analytics, store assortment and stock-keeping unit optimization, \n",
    "marketing optimization and marketing mix modeling, web analytics, call analytics, speech \n",
    "analytics, sales force sizing and optimization, price and promotion modeling, predictive \n",
    "science, credit risk analysis, and fraud analytics. Since analytics can require extensive \n",
    "computation (see big data), the algorithms and software used for analytics harness the most \n",
    "current methods in computer science, statistics, and mathematics."
   ]
  },
  {
   "cell_type": "code",
   "execution_count": 3,
   "metadata": {},
   "outputs": [
    {
     "name": "stdout",
     "output_type": "stream",
     "text": [
      "Writing wordcount/text1.txt\n"
     ]
    }
   ],
   "source": [
    "%%writefile wordcount/text1.txt\n",
    "The field of data analysis. Analytics often involves studying past historical data to \n",
    "research potential trends, to analyze the effects of certain decisions or events, or to \n",
    "evaluate the performance of a given tool or scenario. The goal of analytics is to improve \n",
    "the business by gaining knowledge which can be used to make improvements or changes."
   ]
  },
  {
   "cell_type": "code",
   "execution_count": 4,
   "metadata": {},
   "outputs": [
    {
     "name": "stdout",
     "output_type": "stream",
     "text": [
      "Writing wordcount/text2.txt\n"
     ]
    }
   ],
   "source": [
    "%%writefile wordcount/text2.txt\n",
    "Data analytics (DA) is the process of examining data sets in order to draw conclusions \n",
    "about the information they contain, increasingly with the aid of specialized systems \n",
    "and software. Data analytics technologies and techniques are widely used in commercial \n",
    "industries to enable organizations to make more-informed business decisions and by \n",
    "scientists and researchers to verify or disprove scientific models, theories and \n",
    "hypotheses."
   ]
  },
  {
   "cell_type": "markdown",
   "metadata": {},
   "source": [
    "## Copia de los datos de entrada al sistema HDFS"
   ]
  },
  {
   "cell_type": "markdown",
   "metadata": {},
   "source": [
    "En esta aplicación se supone que los datos siempre estarán en la carpeta `wordcount` del directorio actual de trabajo de la máquina local. El primer paso consisten en mover los archivos de la máquina local al sistema HDFS. Por ahora, este paso se hará manualmente. Se define que la aplicación usará siempre la carpeta `/tmp/wordcount/` del sistema HDFS."
   ]
  },
  {
   "cell_type": "code",
   "execution_count": 5,
   "metadata": {},
   "outputs": [],
   "source": [
    "#\n",
    "# Se crea la carpeta /tmp/wc en el sistema HDFS.\n",
    "#\n",
    "!hdfs dfs -mkdir /tmp/wordcount\n",
    "!hdfs dfs -mkdir /tmp/wordcount/input"
   ]
  },
  {
   "cell_type": "code",
   "execution_count": 6,
   "metadata": {},
   "outputs": [],
   "source": [
    "#\n",
    "# Copia los archvios del directorio local wordcount/\n",
    "# al directorio /tmp/wordcount/input en el hdfs\n",
    "#\n",
    "!hdfs dfs -copyFromLocal wordcount/* /tmp/wordcount/input/"
   ]
  },
  {
   "cell_type": "code",
   "execution_count": 7,
   "metadata": {},
   "outputs": [
    {
     "name": "stdout",
     "output_type": "stream",
     "text": [
      "Found 3 items\n",
      "-rw-r--r--   1 root supergroup       1093 2022-05-18 17:24 /tmp/wordcount/input/text0.txt\n",
      "-rw-r--r--   1 root supergroup        352 2022-05-18 17:24 /tmp/wordcount/input/text1.txt\n",
      "-rw-r--r--   1 root supergroup        440 2022-05-18 17:24 /tmp/wordcount/input/text2.txt\n"
     ]
    }
   ],
   "source": [
    "#\n",
    "# Verifica que los archivos esten copiados\n",
    "# en el hdfs\n",
    "#\n",
    "!hdfs dfs -ls /tmp/wordcount/input"
   ]
  },
  {
   "cell_type": "markdown",
   "metadata": {},
   "source": [
    "## Implementación del programa en PySpark"
   ]
  },
  {
   "cell_type": "markdown",
   "metadata": {},
   "source": [
    "El archivo `wordcount.py` contiene la implementación de la aplicación. El código es el siguiente:"
   ]
  },
  {
   "cell_type": "code",
   "execution_count": 8,
   "metadata": {},
   "outputs": [
    {
     "name": "stdout",
     "output_type": "stream",
     "text": [
      "Writing wordcount.py\n"
     ]
    }
   ],
   "source": [
    "%%writefile wordcount.py\n",
    "\n",
    "import findspark\n",
    "from pyspark import SparkConf, SparkContext\n",
    "from operator import add\n",
    "\n",
    "APP_NAME = \"wordcount-app\"\n",
    "\n",
    "findspark.init()\n",
    "conf = SparkConf().setAppName(APP_NAME) \n",
    "sc = SparkContext(conf=conf)\n",
    "\n",
    "# Lee los archivos de la carpeta de entrada\n",
    "text = sc.textFile(\"/tmp/wordcount/input/*.txt\")\n",
    "\n",
    "# Este es el algoritmo para el conteo de frecuencia\n",
    "words = text.flatMap(lambda x: x.split())\n",
    "wc = words.map(lambda x: (x,1))\n",
    "counts = wc.reduceByKey(add)\n",
    "\n",
    "# Escribe los resultados en la carpeta de salida.\n",
    "counts.saveAsTextFile(\"/tmp/wordcount/output\")"
   ]
  },
  {
   "cell_type": "markdown",
   "metadata": {},
   "source": [
    "## Ejecución de la aplicación"
   ]
  },
  {
   "cell_type": "code",
   "execution_count": 9,
   "metadata": {},
   "outputs": [
    {
     "name": "stdout",
     "output_type": "stream",
     "text": [
      "22/05/18 17:24:35 WARN util.NativeCodeLoader: Unable to load native-hadoop library for your platform... using builtin-java classes where applicable\n",
      "\u001b[22;0t\u001b]0;IPython: workspace/pyspark\u000722/05/18 17:24:36 INFO spark.SparkContext: Running Spark version 3.1.3\n",
      "22/05/18 17:24:36 INFO resource.ResourceUtils: ==============================================================\n",
      "22/05/18 17:24:36 INFO resource.ResourceUtils: No custom resources configured for spark.driver.\n",
      "22/05/18 17:24:36 INFO resource.ResourceUtils: ==============================================================\n",
      "22/05/18 17:24:36 INFO spark.SparkContext: Submitted application: wordcount-app\n",
      "22/05/18 17:24:36 INFO resource.ResourceProfile: Default ResourceProfile created, executor resources: Map(cores -> name: cores, amount: 1, script: , vendor: , memory -> name: memory, amount: 1024, script: , vendor: , offHeap -> name: offHeap, amount: 0, script: , vendor: ), task resources: Map(cpus -> name: cpus, amount: 1.0)\n",
      "22/05/18 17:24:36 INFO resource.ResourceProfile: Limiting resource is cpu\n",
      "22/05/18 17:24:36 INFO resource.ResourceProfileManager: Added ResourceProfile id: 0\n",
      "22/05/18 17:24:36 INFO spark.SecurityManager: Changing view acls to: root\n",
      "22/05/18 17:24:36 INFO spark.SecurityManager: Changing modify acls to: root\n",
      "22/05/18 17:24:36 INFO spark.SecurityManager: Changing view acls groups to: \n",
      "22/05/18 17:24:36 INFO spark.SecurityManager: Changing modify acls groups to: \n",
      "22/05/18 17:24:36 INFO spark.SecurityManager: SecurityManager: authentication disabled; ui acls disabled; users  with view permissions: Set(root); groups with view permissions: Set(); users  with modify permissions: Set(root); groups with modify permissions: Set()\n",
      "22/05/18 17:24:36 INFO util.Utils: Successfully started service 'sparkDriver' on port 36305.\n",
      "22/05/18 17:24:36 INFO spark.SparkEnv: Registering MapOutputTracker\n",
      "22/05/18 17:24:36 INFO spark.SparkEnv: Registering BlockManagerMaster\n",
      "22/05/18 17:24:36 INFO storage.BlockManagerMasterEndpoint: Using org.apache.spark.storage.DefaultTopologyMapper for getting topology information\n",
      "22/05/18 17:24:36 INFO storage.BlockManagerMasterEndpoint: BlockManagerMasterEndpoint up\n",
      "22/05/18 17:24:36 INFO spark.SparkEnv: Registering BlockManagerMasterHeartbeat\n",
      "22/05/18 17:24:36 INFO storage.DiskBlockManager: Created local directory at /tmp/blockmgr-54ca9483-950c-4038-a4dc-1bd364951418\n",
      "22/05/18 17:24:36 INFO memory.MemoryStore: MemoryStore started with capacity 366.3 MiB\n",
      "22/05/18 17:24:36 INFO spark.SparkEnv: Registering OutputCommitCoordinator\n",
      "22/05/18 17:24:36 INFO util.log: Logging initialized @2240ms to org.sparkproject.jetty.util.log.Slf4jLog\n",
      "22/05/18 17:24:36 INFO server.Server: jetty-9.4.40.v20210413; built: 2021-04-13T20:42:42.668Z; git: b881a572662e1943a14ae12e7e1207989f218b74; jvm 1.8.0_312-8u312-b07-0ubuntu1~20.04-b07\n",
      "22/05/18 17:24:36 INFO server.Server: Started @2320ms\n",
      "22/05/18 17:24:37 WARN util.Utils: Service 'SparkUI' could not bind on port 4040. Attempting port 4041.\n",
      "22/05/18 17:24:37 INFO server.AbstractConnector: Started ServerConnector@3814a513{HTTP/1.1, (http/1.1)}{0.0.0.0:4041}\n",
      "22/05/18 17:24:37 INFO util.Utils: Successfully started service 'SparkUI' on port 4041.\n",
      "22/05/18 17:24:37 INFO handler.ContextHandler: Started o.s.j.s.ServletContextHandler@15bfe4c4{/jobs,null,AVAILABLE,@Spark}\n",
      "22/05/18 17:24:37 INFO handler.ContextHandler: Started o.s.j.s.ServletContextHandler@52588fc9{/jobs/json,null,AVAILABLE,@Spark}\n",
      "22/05/18 17:24:37 INFO handler.ContextHandler: Started o.s.j.s.ServletContextHandler@66f1af51{/jobs/job,null,AVAILABLE,@Spark}\n",
      "22/05/18 17:24:37 INFO handler.ContextHandler: Started o.s.j.s.ServletContextHandler@2be720e5{/jobs/job/json,null,AVAILABLE,@Spark}\n",
      "22/05/18 17:24:37 INFO handler.ContextHandler: Started o.s.j.s.ServletContextHandler@3a1a5b4c{/stages,null,AVAILABLE,@Spark}\n",
      "22/05/18 17:24:37 INFO handler.ContextHandler: Started o.s.j.s.ServletContextHandler@54b78325{/stages/json,null,AVAILABLE,@Spark}\n",
      "22/05/18 17:24:37 INFO handler.ContextHandler: Started o.s.j.s.ServletContextHandler@4c500d1c{/stages/stage,null,AVAILABLE,@Spark}\n",
      "22/05/18 17:24:37 INFO handler.ContextHandler: Started o.s.j.s.ServletContextHandler@665ecf71{/stages/stage/json,null,AVAILABLE,@Spark}\n",
      "22/05/18 17:24:37 INFO handler.ContextHandler: Started o.s.j.s.ServletContextHandler@3e4d1140{/stages/pool,null,AVAILABLE,@Spark}\n",
      "22/05/18 17:24:37 INFO handler.ContextHandler: Started o.s.j.s.ServletContextHandler@54569fd1{/stages/pool/json,null,AVAILABLE,@Spark}\n",
      "22/05/18 17:24:37 INFO handler.ContextHandler: Started o.s.j.s.ServletContextHandler@2fb11d69{/storage,null,AVAILABLE,@Spark}\n",
      "22/05/18 17:24:37 INFO handler.ContextHandler: Started o.s.j.s.ServletContextHandler@146acc9b{/storage/json,null,AVAILABLE,@Spark}\n",
      "22/05/18 17:24:37 INFO handler.ContextHandler: Started o.s.j.s.ServletContextHandler@4ce8e870{/storage/rdd,null,AVAILABLE,@Spark}\n",
      "22/05/18 17:24:37 INFO handler.ContextHandler: Started o.s.j.s.ServletContextHandler@698f87e6{/storage/rdd/json,null,AVAILABLE,@Spark}\n",
      "22/05/18 17:24:37 INFO handler.ContextHandler: Started o.s.j.s.ServletContextHandler@262f82da{/environment,null,AVAILABLE,@Spark}\n",
      "22/05/18 17:24:37 INFO handler.ContextHandler: Started o.s.j.s.ServletContextHandler@43e107c{/environment/json,null,AVAILABLE,@Spark}\n",
      "22/05/18 17:24:37 INFO handler.ContextHandler: Started o.s.j.s.ServletContextHandler@9a60124{/executors,null,AVAILABLE,@Spark}\n",
      "22/05/18 17:24:37 INFO handler.ContextHandler: Started o.s.j.s.ServletContextHandler@341583ec{/executors/json,null,AVAILABLE,@Spark}\n",
      "22/05/18 17:24:37 INFO handler.ContextHandler: Started o.s.j.s.ServletContextHandler@75b8817a{/executors/threadDump,null,AVAILABLE,@Spark}\n",
      "22/05/18 17:24:37 INFO handler.ContextHandler: Started o.s.j.s.ServletContextHandler@4be30dc9{/executors/threadDump/json,null,AVAILABLE,@Spark}\n",
      "22/05/18 17:24:37 INFO handler.ContextHandler: Started o.s.j.s.ServletContextHandler@46c4274a{/static,null,AVAILABLE,@Spark}\n",
      "22/05/18 17:24:37 INFO handler.ContextHandler: Started o.s.j.s.ServletContextHandler@666ebb66{/,null,AVAILABLE,@Spark}\n",
      "22/05/18 17:24:37 INFO handler.ContextHandler: Started o.s.j.s.ServletContextHandler@232e2c26{/api,null,AVAILABLE,@Spark}\n",
      "22/05/18 17:24:37 INFO handler.ContextHandler: Started o.s.j.s.ServletContextHandler@4df4077b{/jobs/job/kill,null,AVAILABLE,@Spark}\n",
      "22/05/18 17:24:37 INFO handler.ContextHandler: Started o.s.j.s.ServletContextHandler@176291c4{/stages/stage/kill,null,AVAILABLE,@Spark}\n",
      "22/05/18 17:24:37 INFO ui.SparkUI: Bound SparkUI to 0.0.0.0, and started at http://43d9326c5b5a:4041\n",
      "22/05/18 17:24:37 INFO executor.Executor: Starting executor ID driver on host 43d9326c5b5a\n",
      "22/05/18 17:24:37 INFO util.Utils: Successfully started service 'org.apache.spark.network.netty.NettyBlockTransferService' on port 43145.\n",
      "22/05/18 17:24:37 INFO netty.NettyBlockTransferService: Server created on 43d9326c5b5a:43145\n",
      "22/05/18 17:24:37 INFO storage.BlockManager: Using org.apache.spark.storage.RandomBlockReplicationPolicy for block replication policy\n",
      "22/05/18 17:24:37 INFO storage.BlockManagerMaster: Registering BlockManager BlockManagerId(driver, 43d9326c5b5a, 43145, None)\n",
      "22/05/18 17:24:37 INFO storage.BlockManagerMasterEndpoint: Registering block manager 43d9326c5b5a:43145 with 366.3 MiB RAM, BlockManagerId(driver, 43d9326c5b5a, 43145, None)\n",
      "22/05/18 17:24:37 INFO storage.BlockManagerMaster: Registered BlockManager BlockManagerId(driver, 43d9326c5b5a, 43145, None)\n",
      "22/05/18 17:24:37 INFO storage.BlockManager: Initialized BlockManager: BlockManagerId(driver, 43d9326c5b5a, 43145, None)\n",
      "22/05/18 17:24:37 INFO handler.ContextHandler: Started o.s.j.s.ServletContextHandler@400090da{/metrics/json,null,AVAILABLE,@Spark}\n",
      "22/05/18 17:24:37 INFO memory.MemoryStore: Block broadcast_0 stored as values in memory (estimated size 418.9 KiB, free 365.9 MiB)\n",
      "22/05/18 17:24:38 INFO memory.MemoryStore: Block broadcast_0_piece0 stored as bytes in memory (estimated size 37.9 KiB, free 365.9 MiB)\n",
      "22/05/18 17:24:38 INFO storage.BlockManagerInfo: Added broadcast_0_piece0 in memory on 43d9326c5b5a:43145 (size: 37.9 KiB, free: 366.3 MiB)\n",
      "22/05/18 17:24:38 INFO spark.SparkContext: Created broadcast 0 from textFile at NativeMethodAccessorImpl.java:0\n",
      "22/05/18 17:24:38 INFO mapred.FileInputFormat: Total input files to process : 3\n",
      "22/05/18 17:24:38 INFO Configuration.deprecation: mapred.output.dir is deprecated. Instead, use mapreduce.output.fileoutputformat.outputdir\n",
      "22/05/18 17:24:38 INFO io.HadoopMapRedCommitProtocol: Using output committer class org.apache.hadoop.mapred.FileOutputCommitter\n",
      "22/05/18 17:24:38 INFO output.FileOutputCommitter: File Output Committer Algorithm version is 1\n",
      "22/05/18 17:24:38 INFO output.FileOutputCommitter: FileOutputCommitter skip cleanup _temporary folders under output directory:false, ignore cleanup failures: false\n",
      "22/05/18 17:24:38 INFO spark.SparkContext: Starting job: runJob at SparkHadoopWriter.scala:83\n",
      "22/05/18 17:24:38 INFO scheduler.DAGScheduler: Registering RDD 3 (reduceByKey at /workspace/pyspark/wordcount.py:18) as input to shuffle 0\n",
      "22/05/18 17:24:38 INFO scheduler.DAGScheduler: Got job 0 (runJob at SparkHadoopWriter.scala:83) with 4 output partitions\n",
      "22/05/18 17:24:38 INFO scheduler.DAGScheduler: Final stage: ResultStage 1 (runJob at SparkHadoopWriter.scala:83)\n",
      "22/05/18 17:24:38 INFO scheduler.DAGScheduler: Parents of final stage: List(ShuffleMapStage 0)\n",
      "22/05/18 17:24:38 INFO scheduler.DAGScheduler: Missing parents: List(ShuffleMapStage 0)\n",
      "22/05/18 17:24:38 INFO scheduler.DAGScheduler: Submitting ShuffleMapStage 0 (PairwiseRDD[3] at reduceByKey at /workspace/pyspark/wordcount.py:18), which has no missing parents\n",
      "22/05/18 17:24:38 INFO memory.MemoryStore: Block broadcast_1 stored as values in memory (estimated size 11.8 KiB, free 365.8 MiB)\n",
      "22/05/18 17:24:38 INFO memory.MemoryStore: Block broadcast_1_piece0 stored as bytes in memory (estimated size 7.1 KiB, free 365.8 MiB)\n",
      "22/05/18 17:24:38 INFO storage.BlockManagerInfo: Added broadcast_1_piece0 in memory on 43d9326c5b5a:43145 (size: 7.1 KiB, free: 366.3 MiB)\n",
      "22/05/18 17:24:38 INFO spark.SparkContext: Created broadcast 1 from broadcast at DAGScheduler.scala:1433\n",
      "22/05/18 17:24:38 INFO scheduler.DAGScheduler: Submitting 4 missing tasks from ShuffleMapStage 0 (PairwiseRDD[3] at reduceByKey at /workspace/pyspark/wordcount.py:18) (first 15 tasks are for partitions Vector(0, 1, 2, 3))\n",
      "22/05/18 17:24:38 INFO scheduler.TaskSchedulerImpl: Adding task set 0.0 with 4 tasks resource profile 0\n",
      "22/05/18 17:24:38 INFO scheduler.TaskSetManager: Starting task 0.0 in stage 0.0 (TID 0) (43d9326c5b5a, executor driver, partition 0, NODE_LOCAL, 4507 bytes) taskResourceAssignments Map()\n",
      "22/05/18 17:24:38 INFO scheduler.TaskSetManager: Starting task 1.0 in stage 0.0 (TID 1) (43d9326c5b5a, executor driver, partition 1, NODE_LOCAL, 4507 bytes) taskResourceAssignments Map()\n",
      "22/05/18 17:24:38 INFO scheduler.TaskSetManager: Starting task 2.0 in stage 0.0 (TID 2) (43d9326c5b5a, executor driver, partition 2, NODE_LOCAL, 4507 bytes) taskResourceAssignments Map()\n",
      "22/05/18 17:24:38 INFO scheduler.TaskSetManager: Starting task 3.0 in stage 0.0 (TID 3) (43d9326c5b5a, executor driver, partition 3, NODE_LOCAL, 4507 bytes) taskResourceAssignments Map()\n",
      "22/05/18 17:24:38 INFO executor.Executor: Running task 0.0 in stage 0.0 (TID 0)\n",
      "22/05/18 17:24:38 INFO executor.Executor: Running task 2.0 in stage 0.0 (TID 2)\n",
      "22/05/18 17:24:38 INFO executor.Executor: Running task 1.0 in stage 0.0 (TID 1)\n",
      "22/05/18 17:24:38 INFO executor.Executor: Running task 3.0 in stage 0.0 (TID 3)\n",
      "22/05/18 17:24:39 INFO rdd.HadoopRDD: Input split: hdfs://0.0.0.0:9000/tmp/wordcount/input/text2.txt:0+440\n",
      "22/05/18 17:24:39 INFO rdd.HadoopRDD: Input split: hdfs://0.0.0.0:9000/tmp/wordcount/input/text0.txt:942+151\n",
      "22/05/18 17:24:39 INFO rdd.HadoopRDD: Input split: hdfs://0.0.0.0:9000/tmp/wordcount/input/text1.txt:0+352\n",
      "22/05/18 17:24:39 INFO rdd.HadoopRDD: Input split: hdfs://0.0.0.0:9000/tmp/wordcount/input/text0.txt:0+942\n",
      "22/05/18 17:24:40 INFO python.PythonRunner: Times: total = 660, boot = 527, init = 132, finish = 1\n",
      "22/05/18 17:24:40 INFO python.PythonRunner: Times: total = 694, boot = 514, init = 179, finish = 1\n",
      "22/05/18 17:24:40 INFO python.PythonRunner: Times: total = 640, boot = 506, init = 131, finish = 3\n",
      "22/05/18 17:24:40 INFO python.PythonRunner: Times: total = 576, boot = 447, init = 127, finish = 2\n",
      "22/05/18 17:24:40 INFO executor.Executor: Finished task 2.0 in stage 0.0 (TID 2). 1657 bytes result sent to driver\n",
      "22/05/18 17:24:40 INFO executor.Executor: Finished task 1.0 in stage 0.0 (TID 1). 1614 bytes result sent to driver\n",
      "22/05/18 17:24:40 INFO executor.Executor: Finished task 0.0 in stage 0.0 (TID 0). 1657 bytes result sent to driver\n",
      "22/05/18 17:24:40 INFO executor.Executor: Finished task 3.0 in stage 0.0 (TID 3). 1657 bytes result sent to driver\n",
      "22/05/18 17:24:40 INFO scheduler.TaskSetManager: Finished task 2.0 in stage 0.0 (TID 2) in 1401 ms on 43d9326c5b5a (executor driver) (1/4)\n",
      "22/05/18 17:24:40 INFO scheduler.TaskSetManager: Finished task 1.0 in stage 0.0 (TID 1) in 1404 ms on 43d9326c5b5a (executor driver) (2/4)\n",
      "22/05/18 17:24:40 INFO scheduler.TaskSetManager: Finished task 0.0 in stage 0.0 (TID 0) in 1424 ms on 43d9326c5b5a (executor driver) (3/4)\n",
      "22/05/18 17:24:40 INFO scheduler.TaskSetManager: Finished task 3.0 in stage 0.0 (TID 3) in 1403 ms on 43d9326c5b5a (executor driver) (4/4)\n",
      "22/05/18 17:24:40 INFO scheduler.TaskSchedulerImpl: Removed TaskSet 0.0, whose tasks have all completed, from pool \n",
      "22/05/18 17:24:40 INFO python.PythonAccumulatorV2: Connected to AccumulatorServer at host: 127.0.0.1 port: 55311\n",
      "22/05/18 17:24:40 INFO scheduler.DAGScheduler: ShuffleMapStage 0 (reduceByKey at /workspace/pyspark/wordcount.py:18) finished in 1.538 s\n",
      "22/05/18 17:24:40 INFO scheduler.DAGScheduler: looking for newly runnable stages\n",
      "22/05/18 17:24:40 INFO scheduler.DAGScheduler: running: Set()\n",
      "22/05/18 17:24:40 INFO scheduler.DAGScheduler: waiting: Set(ResultStage 1)\n",
      "22/05/18 17:24:40 INFO scheduler.DAGScheduler: failed: Set()\n",
      "22/05/18 17:24:40 INFO scheduler.DAGScheduler: Submitting ResultStage 1 (MapPartitionsRDD[8] at saveAsTextFile at NativeMethodAccessorImpl.java:0), which has no missing parents\n",
      "22/05/18 17:24:40 INFO memory.MemoryStore: Block broadcast_2 stored as values in memory (estimated size 118.5 KiB, free 365.7 MiB)\n",
      "22/05/18 17:24:40 INFO memory.MemoryStore: Block broadcast_2_piece0 stored as bytes in memory (estimated size 44.8 KiB, free 365.7 MiB)\n",
      "22/05/18 17:24:40 INFO storage.BlockManagerInfo: Added broadcast_2_piece0 in memory on 43d9326c5b5a:43145 (size: 44.8 KiB, free: 366.2 MiB)\n",
      "22/05/18 17:24:40 INFO spark.SparkContext: Created broadcast 2 from broadcast at DAGScheduler.scala:1433\n",
      "22/05/18 17:24:40 INFO scheduler.DAGScheduler: Submitting 4 missing tasks from ResultStage 1 (MapPartitionsRDD[8] at saveAsTextFile at NativeMethodAccessorImpl.java:0) (first 15 tasks are for partitions Vector(0, 1, 2, 3))\n",
      "22/05/18 17:24:40 INFO scheduler.TaskSchedulerImpl: Adding task set 1.0 with 4 tasks resource profile 0\n",
      "22/05/18 17:24:40 INFO scheduler.TaskSetManager: Starting task 0.0 in stage 1.0 (TID 4) (43d9326c5b5a, executor driver, partition 0, NODE_LOCAL, 4271 bytes) taskResourceAssignments Map()\n",
      "22/05/18 17:24:40 INFO scheduler.TaskSetManager: Starting task 1.0 in stage 1.0 (TID 5) (43d9326c5b5a, executor driver, partition 1, NODE_LOCAL, 4271 bytes) taskResourceAssignments Map()\n",
      "22/05/18 17:24:40 INFO scheduler.TaskSetManager: Starting task 2.0 in stage 1.0 (TID 6) (43d9326c5b5a, executor driver, partition 2, NODE_LOCAL, 4271 bytes) taskResourceAssignments Map()\n",
      "22/05/18 17:24:40 INFO scheduler.TaskSetManager: Starting task 3.0 in stage 1.0 (TID 7) (43d9326c5b5a, executor driver, partition 3, NODE_LOCAL, 4271 bytes) taskResourceAssignments Map()\n",
      "22/05/18 17:24:40 INFO executor.Executor: Running task 0.0 in stage 1.0 (TID 4)\n",
      "22/05/18 17:24:40 INFO executor.Executor: Running task 1.0 in stage 1.0 (TID 5)\n",
      "22/05/18 17:24:40 INFO executor.Executor: Running task 2.0 in stage 1.0 (TID 6)\n",
      "22/05/18 17:24:40 INFO executor.Executor: Running task 3.0 in stage 1.0 (TID 7)\n",
      "22/05/18 17:24:40 INFO storage.ShuffleBlockFetcherIterator: Getting 4 (813.0 B) non-empty blocks including 4 (813.0 B) local and 0 (0.0 B) host-local and 0 (0.0 B) remote blocks\n",
      "22/05/18 17:24:40 INFO storage.ShuffleBlockFetcherIterator: Getting 4 (760.0 B) non-empty blocks including 4 (760.0 B) local and 0 (0.0 B) host-local and 0 (0.0 B) remote blocks\n",
      "22/05/18 17:24:40 INFO storage.ShuffleBlockFetcherIterator: Getting 4 (997.0 B) non-empty blocks including 4 (997.0 B) local and 0 (0.0 B) host-local and 0 (0.0 B) remote blocks\n",
      "22/05/18 17:24:40 INFO storage.ShuffleBlockFetcherIterator: Getting 4 (819.0 B) non-empty blocks including 4 (819.0 B) local and 0 (0.0 B) host-local and 0 (0.0 B) remote blocks\n",
      "22/05/18 17:24:40 INFO storage.ShuffleBlockFetcherIterator: Started 0 remote fetches in 6 ms\n",
      "22/05/18 17:24:40 INFO storage.ShuffleBlockFetcherIterator: Started 0 remote fetches in 13 ms\n",
      "22/05/18 17:24:40 INFO storage.ShuffleBlockFetcherIterator: Started 0 remote fetches in 15 ms\n",
      "22/05/18 17:24:40 INFO storage.ShuffleBlockFetcherIterator: Started 0 remote fetches in 15 ms\n",
      "22/05/18 17:24:40 INFO io.HadoopMapRedCommitProtocol: Using output committer class org.apache.hadoop.mapred.FileOutputCommitter\n",
      "22/05/18 17:24:40 INFO io.HadoopMapRedCommitProtocol: Using output committer class org.apache.hadoop.mapred.FileOutputCommitter\n",
      "22/05/18 17:24:40 INFO output.FileOutputCommitter: File Output Committer Algorithm version is 1\n",
      "22/05/18 17:24:40 INFO io.HadoopMapRedCommitProtocol: Using output committer class org.apache.hadoop.mapred.FileOutputCommitter\n",
      "22/05/18 17:24:40 INFO io.HadoopMapRedCommitProtocol: Using output committer class org.apache.hadoop.mapred.FileOutputCommitter\n",
      "22/05/18 17:24:40 INFO output.FileOutputCommitter: File Output Committer Algorithm version is 1\n",
      "22/05/18 17:24:40 INFO output.FileOutputCommitter: FileOutputCommitter skip cleanup _temporary folders under output directory:false, ignore cleanup failures: false\n",
      "22/05/18 17:24:40 INFO output.FileOutputCommitter: FileOutputCommitter skip cleanup _temporary folders under output directory:false, ignore cleanup failures: false\n",
      "22/05/18 17:24:40 INFO output.FileOutputCommitter: File Output Committer Algorithm version is 1\n",
      "22/05/18 17:24:40 INFO output.FileOutputCommitter: FileOutputCommitter skip cleanup _temporary folders under output directory:false, ignore cleanup failures: false\n",
      "22/05/18 17:24:40 INFO output.FileOutputCommitter: File Output Committer Algorithm version is 1\n",
      "22/05/18 17:24:40 INFO output.FileOutputCommitter: FileOutputCommitter skip cleanup _temporary folders under output directory:false, ignore cleanup failures: false\n",
      "22/05/18 17:24:40 INFO python.PythonRunner: Times: total = 29, boot = -470, init = 499, finish = 0\n",
      "22/05/18 17:24:40 INFO python.PythonRunner: Times: total = 14, boot = -464, init = 478, finish = 0\n",
      "22/05/18 17:24:40 INFO python.PythonRunner: Times: total = 14, boot = -494, init = 508, finish = 0\n",
      "22/05/18 17:24:40 INFO python.PythonRunner: Times: total = 14, boot = -461, init = 475, finish = 0\n",
      "22/05/18 17:24:40 INFO output.FileOutputCommitter: Saved output of task 'attempt_202205181724388371454551214250831_0008_m_000001_0' to hdfs://0.0.0.0:9000/tmp/wordcount/output/_temporary/0/task_202205181724388371454551214250831_0008_m_000001\n",
      "22/05/18 17:24:40 INFO output.FileOutputCommitter: Saved output of task 'attempt_202205181724388371454551214250831_0008_m_000000_0' to hdfs://0.0.0.0:9000/tmp/wordcount/output/_temporary/0/task_202205181724388371454551214250831_0008_m_000000\n",
      "22/05/18 17:24:40 INFO mapred.SparkHadoopMapRedUtil: attempt_202205181724388371454551214250831_0008_m_000001_0: Committed\n",
      "22/05/18 17:24:40 INFO executor.Executor: Finished task 1.0 in stage 1.0 (TID 5). 1952 bytes result sent to driver\n",
      "22/05/18 17:24:40 INFO mapred.SparkHadoopMapRedUtil: attempt_202205181724388371454551214250831_0008_m_000000_0: Committed\n",
      "22/05/18 17:24:40 INFO executor.Executor: Finished task 0.0 in stage 1.0 (TID 4). 1909 bytes result sent to driver\n",
      "22/05/18 17:24:40 INFO scheduler.TaskSetManager: Finished task 1.0 in stage 1.0 (TID 5) in 394 ms on 43d9326c5b5a (executor driver) (1/4)\n",
      "22/05/18 17:24:40 INFO scheduler.TaskSetManager: Finished task 0.0 in stage 1.0 (TID 4) in 414 ms on 43d9326c5b5a (executor driver) (2/4)\n",
      "22/05/18 17:24:41 INFO output.FileOutputCommitter: Saved output of task 'attempt_202205181724388371454551214250831_0008_m_000003_0' to hdfs://0.0.0.0:9000/tmp/wordcount/output/_temporary/0/task_202205181724388371454551214250831_0008_m_000003\n",
      "22/05/18 17:24:41 INFO mapred.SparkHadoopMapRedUtil: attempt_202205181724388371454551214250831_0008_m_000003_0: Committed\n",
      "22/05/18 17:24:41 INFO output.FileOutputCommitter: Saved output of task 'attempt_202205181724388371454551214250831_0008_m_000002_0' to hdfs://0.0.0.0:9000/tmp/wordcount/output/_temporary/0/task_202205181724388371454551214250831_0008_m_000002\n",
      "22/05/18 17:24:41 INFO mapred.SparkHadoopMapRedUtil: attempt_202205181724388371454551214250831_0008_m_000002_0: Committed\n",
      "22/05/18 17:24:41 INFO executor.Executor: Finished task 2.0 in stage 1.0 (TID 6). 1909 bytes result sent to driver\n",
      "22/05/18 17:24:41 INFO executor.Executor: Finished task 3.0 in stage 1.0 (TID 7). 1909 bytes result sent to driver\n",
      "22/05/18 17:24:41 INFO scheduler.TaskSetManager: Finished task 3.0 in stage 1.0 (TID 7) in 954 ms on 43d9326c5b5a (executor driver) (3/4)\n",
      "22/05/18 17:24:41 INFO scheduler.TaskSetManager: Finished task 2.0 in stage 1.0 (TID 6) in 956 ms on 43d9326c5b5a (executor driver) (4/4)\n",
      "22/05/18 17:24:41 INFO scheduler.TaskSchedulerImpl: Removed TaskSet 1.0, whose tasks have all completed, from pool \n",
      "22/05/18 17:24:41 INFO scheduler.DAGScheduler: ResultStage 1 (runJob at SparkHadoopWriter.scala:83) finished in 0.992 s\n",
      "22/05/18 17:24:41 INFO scheduler.DAGScheduler: Job 0 is finished. Cancelling potential speculative or zombie tasks for this job\n",
      "22/05/18 17:24:41 INFO scheduler.TaskSchedulerImpl: Killing all running tasks in stage 1: Stage finished\n",
      "22/05/18 17:24:41 INFO scheduler.DAGScheduler: Job 0 finished: runJob at SparkHadoopWriter.scala:83, took 2.706868 s\n",
      "22/05/18 17:24:41 INFO io.SparkHadoopWriter: Job job_202205181724388371454551214250831_0008 committed.\n",
      "22/05/18 17:24:41 INFO spark.SparkContext: Invoking stop() from shutdown hook\n",
      "22/05/18 17:24:41 INFO server.AbstractConnector: Stopped Spark@3814a513{HTTP/1.1, (http/1.1)}{0.0.0.0:4041}\n",
      "22/05/18 17:24:41 INFO ui.SparkUI: Stopped Spark web UI at http://43d9326c5b5a:4041\n",
      "22/05/18 17:24:41 INFO spark.MapOutputTrackerMasterEndpoint: MapOutputTrackerMasterEndpoint stopped!\n",
      "22/05/18 17:24:41 INFO memory.MemoryStore: MemoryStore cleared\n",
      "22/05/18 17:24:41 INFO storage.BlockManager: BlockManager stopped\n",
      "22/05/18 17:24:41 INFO storage.BlockManagerMaster: BlockManagerMaster stopped\n",
      "22/05/18 17:24:41 INFO scheduler.OutputCommitCoordinator$OutputCommitCoordinatorEndpoint: OutputCommitCoordinator stopped!\n",
      "22/05/18 17:24:41 INFO spark.SparkContext: Successfully stopped SparkContext\n",
      "22/05/18 17:24:41 INFO util.ShutdownHookManager: Shutdown hook called\n",
      "22/05/18 17:24:41 INFO util.ShutdownHookManager: Deleting directory /tmp/spark-a3eb68ca-3abb-44db-b04b-acb2600fae89/pyspark-c4d72c4f-34d6-4979-961a-9c3c08659dd4\n",
      "22/05/18 17:24:41 INFO util.ShutdownHookManager: Deleting directory /tmp/spark-452e9c44-fe8c-4971-ae67-67596f9c1868\n",
      "22/05/18 17:24:41 INFO util.ShutdownHookManager: Deleting directory /tmp/spark-a3eb68ca-3abb-44db-b04b-acb2600fae89\n"
     ]
    }
   ],
   "source": [
    "#\n",
    "# La aplicación es ejecutada usando spark-submit,\n",
    "# el cual ejecuta el programa wordcount.py en Spark\n",
    "#\n",
    "!spark-submit wordcount.py"
   ]
  },
  {
   "cell_type": "markdown",
   "metadata": {},
   "source": [
    "## Archivos de resultados"
   ]
  },
  {
   "cell_type": "markdown",
   "metadata": {},
   "source": [
    "La carpeta `/tmp/wordcount/output` contiene los resultados de la ejecución del programa."
   ]
  },
  {
   "cell_type": "code",
   "execution_count": 10,
   "metadata": {},
   "outputs": [
    {
     "name": "stdout",
     "output_type": "stream",
     "text": [
      "Found 5 items\n",
      "-rw-r--r--   1 root supergroup          0 2022-05-18 17:24 /tmp/wordcount/output/_SUCCESS\n",
      "-rw-r--r--   1 root supergroup        778 2022-05-18 17:24 /tmp/wordcount/output/part-00000\n",
      "-rw-r--r--   1 root supergroup        562 2022-05-18 17:24 /tmp/wordcount/output/part-00001\n",
      "-rw-r--r--   1 root supergroup        510 2022-05-18 17:24 /tmp/wordcount/output/part-00002\n",
      "-rw-r--r--   1 root supergroup        594 2022-05-18 17:24 /tmp/wordcount/output/part-00003\n"
     ]
    }
   ],
   "source": [
    "# Archivos con los resultados. Note que se \n",
    "# generan varios archivos de resultados.\n",
    "!hdfs dfs -ls /tmp/wordcount/output/"
   ]
  },
  {
   "cell_type": "markdown",
   "metadata": {},
   "source": [
    "El archivo `output/_SUCCESS` es un archivo vacio que indica que el programa fue ejecutado correctamente."
   ]
  },
  {
   "cell_type": "code",
   "execution_count": 11,
   "metadata": {},
   "outputs": [
    {
     "name": "stdout",
     "output_type": "stream",
     "text": [
      "('interpretation,', 1)\n",
      "('of', 8)\n",
      "('in', 5)\n",
      "('data.', 1)\n",
      "('Especially', 1)\n",
      "('analytics', 8)\n",
      "('simultaneous', 1)\n",
      "('operations', 1)\n",
      "('research', 2)\n",
      "('quantify', 1)\n"
     ]
    }
   ],
   "source": [
    "!hdfs dfs -cat /tmp/wordcount/output/part-00000 | head"
   ]
  },
  {
   "cell_type": "markdown",
   "metadata": {},
   "source": [
    "## Archivo de comandos del sistema operativo"
   ]
  },
  {
   "cell_type": "markdown",
   "metadata": {},
   "source": [
    "Finalmente, se crea un script que copie los archivos y ejecute la aplicación."
   ]
  },
  {
   "cell_type": "code",
   "execution_count": 12,
   "metadata": {},
   "outputs": [
    {
     "name": "stdout",
     "output_type": "stream",
     "text": [
      "Writing wordcountapp\n"
     ]
    }
   ],
   "source": [
    "%%writefile wordcountapp\n",
    "#! /bin/bash\n",
    "\n",
    "# borra la carpeta input si existe\n",
    "!hdfs dfs -rm -r -f /tmp/wordcount/input\n",
    "\n",
    "# crea la carpeta\n",
    "!hdfs dfs -mkdir /tmp/wordcount/input\n",
    "\n",
    "# copia los archivos de entrada de la \n",
    "# maquina local al sistema hdfs\n",
    "!hdfs dfs -copyFromLocal wordcount/* /tmp/wordcount/input/\n",
    "\n",
    "# ejecuta la aplicación de spark\n",
    "spark-submit wordcount.py"
   ]
  },
  {
   "cell_type": "markdown",
   "metadata": {},
   "source": [
    "Esta aplicación sería ejecutada en Terminal con el siguiente comando:\n",
    "\n",
    "    $ bash wordcountapp"
   ]
  },
  {
   "cell_type": "markdown",
   "metadata": {},
   "source": [
    "---"
   ]
  },
  {
   "cell_type": "markdown",
   "metadata": {},
   "source": [
    "**Limpieza de las carpetas de trabajo**"
   ]
  },
  {
   "cell_type": "code",
   "execution_count": 13,
   "metadata": {},
   "outputs": [
    {
     "name": "stdout",
     "output_type": "stream",
     "text": [
      "Deleted /tmp/wordcount\n"
     ]
    }
   ],
   "source": [
    "!rm wordcountapp\n",
    "!rm -rf wordcount\n",
    "!hdfs dfs -rm -r -f /tmp/wordcount/"
   ]
  }
 ],
 "metadata": {
  "kernelspec": {
   "display_name": "Python 3 (ipykernel)",
   "language": "python",
   "name": "python3"
  },
  "language_info": {
   "codemirror_mode": {
    "name": "ipython",
    "version": 3
   },
   "file_extension": ".py",
   "mimetype": "text/x-python",
   "name": "python",
   "nbconvert_exporter": "python",
   "pygments_lexer": "ipython3",
   "version": "3.8.10"
  },
  "toc-autonumbering": false
 },
 "nbformat": 4,
 "nbformat_minor": 4
}
