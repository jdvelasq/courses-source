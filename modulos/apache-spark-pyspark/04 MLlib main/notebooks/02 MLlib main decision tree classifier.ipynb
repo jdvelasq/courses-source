{
 "cells": [
  {
   "cell_type": "markdown",
   "metadata": {},
   "source": [
    "Identificación de créditos riesgosos\n",
    "===\n",
    "\n",
    "* *60 min* | Ultima modificación: Noviembre 5, 2020"
   ]
  },
  {
   "cell_type": "markdown",
   "metadata": {},
   "source": [
    "## Descripción del problema"
   ]
  },
  {
   "cell_type": "markdown",
   "metadata": {},
   "source": [
    "Las entidades financieras desean mejorar sus procedimientos de aprobación de créditos con el fin de disminuir los riesgos de no pago de la deuda, lo que acarrea pérdidas a la entidad. El problema real consiste en poder decidir si se aprueba o no un crédito particular con base en información que puede ser fácilmente recolectada por teléfono o en la web."
   ]
  },
  {
   "cell_type": "markdown",
   "metadata": {},
   "source": [
    "Se tiene una muestra de 1000 observaciones. Cada registro contiene 20 atributos que recopilan información tanto sobre el crédito como sobre la salud financiera del solicitante. La información fue recolectada por una firma alemana y se puede descargar de https://archive.ics.uci.edu/ml/datasets/statlog+(german+credit+data).\n",
    "\n",
    "Los atributos y sus valores son los siguientes:\n",
    "\n",
    "     Attribute 1:  (qualitative)\n",
    "     \t      Status of existing checking account\n",
    "     \t      A11 :      ... <    0 DM\n",
    "     \t      A12 : 0 <= ... <  200 DM\n",
    "     \t      A13 :      ... >= 200 DM /\n",
    "     \t            salary assignments for at least 1 year\n",
    "     \t      A14 : no checking account\n",
    "\n",
    "     Attribute 2:  (numerical)\n",
    "     \t      Duration in month\n",
    "\n",
    "     Attribute 3:  (qualitative)\n",
    "     \t      Credit history\n",
    "     \t      A30 : no credits taken/\n",
    "     \t            all credits paid back duly\n",
    "     \t      A31 : all credits at this bank paid back duly\n",
    "     \t      A32 : existing credits paid back duly till now\n",
    "     \t      A33 : delay in paying off in the past\n",
    "     \t      A34 : critical account/\n",
    "     \t            other credits existing (not at this bank)\n",
    "\n",
    "     Attribute 4:  (qualitative)\n",
    "     \t      Purpose\n",
    "     \t      A40 : car (new)\n",
    "     \t      A41 : car (used)\n",
    "     \t      A42 : furniture/equipment\n",
    "     \t      A43 : radio/television\n",
    "     \t      A44 : domestic appliances\n",
    "     \t      A45 : repairs\n",
    "     \t      A46 : education\n",
    "     \t      A47 : (vacation - does not exist?)\n",
    "     \t      A48 : retraining\n",
    "     \t      A49 : business\n",
    "     \t      A410 : others\n",
    "\n",
    "     Attribute 5:  (numerical)\n",
    "     \t      Credit amount\n",
    "\n",
    "     Attribute 6:  (qualitative)\n",
    "     \t      Savings account/bonds\n",
    "     \t      A61 :          ... <  100 DM\n",
    "     \t      A62 :   100 <= ... <  500 DM\n",
    "     \t      A63 :   500 <= ... < 1000 DM\n",
    "     \t      A64 :          .. >= 1000 DM\n",
    "     \t      A65 :   unknown/ no savings account\n",
    "\n",
    "     Attribute 7:  (qualitative)\n",
    "     \t      Present employment since\n",
    "     \t      A71 : unemployed\n",
    "     \t      A72 :       ... < 1 year\n",
    "     \t      A73 : 1  <= ... < 4 years  \n",
    "     \t      A74 : 4  <= ... < 7 years\n",
    "     \t      A75 :       .. >= 7 years\n",
    "\n",
    "     Attribute 8:  (numerical)\n",
    "     \t      Installment rate in percentage of disposable income\n",
    "\n",
    "     Attribute 9:  (qualitative)\n",
    "     \t      Personal status and sex\n",
    "     \t      A91 : male   : divorced/separated\n",
    "     \t      A92 : female : divorced/separated/married\n",
    "     \t      A93 : male   : single\n",
    "     \t      A94 : male   : married/widowed\n",
    "     \t      A95 : female : single\n",
    "\n",
    "     Attribute 10: (qualitative)\n",
    "     \t      Other debtors / guarantors\n",
    "     \t      A101 : none\n",
    "     \t      A102 : co-applicant\n",
    "     \t      A103 : guarantor\n",
    "\n",
    "     Attribute 11: (numerical)\n",
    "     \t      Present residence since\n",
    "\n",
    "     Attribute 12: (qualitative)\n",
    "     \t      Property\n",
    "     \t      A121 : real estate\n",
    "     \t      A122 : if not A121 : building society savings agreement/\n",
    "     \t\t\t\t   life insurance\n",
    "     \t      A123 : if not A121/A122 : car or other, not in attribute 6\n",
    "     \t      A124 : unknown / no property\n",
    "\n",
    "     Attribute 13: (numerical)\n",
    "     \t      Age in years\n",
    "\n",
    "     Attribute 14: (qualitative)\n",
    "     \t      Other installment plans \n",
    "     \t      A141 : bank\n",
    "     \t      A142 : stores\n",
    "     \t      A143 : none\n",
    "\n",
    "     Attribute 15: (qualitative)\n",
    "     \t      Housing\n",
    "     \t      A151 : rent\n",
    "     \t      A152 : own\n",
    "     \t      A153 : for free\n",
    "\n",
    "     Attribute 16: (numerical)\n",
    "              Number of existing credits at this bank\n",
    "\n",
    "     Attribute 17: (qualitative)\n",
    "     \t      Job\n",
    "     \t      A171 : unemployed/ unskilled  - non-resident\n",
    "     \t      A172 : unskilled - resident\n",
    "     \t      A173 : skilled employee / official\n",
    "     \t      A174 : management/ self-employed/\n",
    "     \t\t         highly qualified employee/ officer\n",
    "\n",
    "     Attribute 18: (numerical)\n",
    "     \t      Number of people being liable to provide maintenance for\n",
    "\n",
    "     Attribute 19: (qualitative)\n",
    "     \t      Telephone\n",
    "     \t      A191 : none\n",
    "     \t      A192 : yes, registered under the customers name\n",
    "\n",
    "     Attribute 20: (qualitative)\n",
    "     \t      foreign worker\n",
    "     \t      A201 : yes\n",
    "     \t      A202 : no\n"
   ]
  },
  {
   "cell_type": "markdown",
   "metadata": {},
   "source": [
    "## Preparación y carga de datos"
   ]
  },
  {
   "cell_type": "code",
   "execution_count": 1,
   "metadata": {},
   "outputs": [
    {
     "name": "stdout",
     "output_type": "stream",
     "text": [
      "--2020-11-01 15:48:59--  https://raw.githubusercontent.com/jdvelasq/datalabs/master/datasets/credit.csv\n",
      "Resolving raw.githubusercontent.com (raw.githubusercontent.com)... 199.232.48.133\n",
      "Connecting to raw.githubusercontent.com (raw.githubusercontent.com)|199.232.48.133|:443... connected.\n",
      "HTTP request sent, awaiting response... 200 OK\n",
      "Length: 133638 (131K) [text/plain]\n",
      "Saving to: ‘credit.csv.2’\n",
      "\n",
      "credit.csv.2        100%[===================>] 130.51K  --.-KB/s    in 0.1s    \n",
      "\n",
      "2020-11-01 15:49:00 (974 KB/s) - ‘credit.csv.2’ saved [133638/133638]\n",
      "\n"
     ]
    }
   ],
   "source": [
    "!wget https://raw.githubusercontent.com/jdvelasq/datalabs/master/datasets/credit.csv"
   ]
  },
  {
   "cell_type": "code",
   "execution_count": 2,
   "metadata": {},
   "outputs": [
    {
     "name": "stdout",
     "output_type": "stream",
     "text": [
      "copyFromLocal: `/tmp/credit.csv': File exists\n"
     ]
    }
   ],
   "source": [
    "##\n",
    "## Mueve el archivo de datos al hdfs\n",
    "##\n",
    "!hdfs dfs -copyFromLocal credit.csv /tmp/credit.csv"
   ]
  },
  {
   "cell_type": "code",
   "execution_count": 3,
   "metadata": {},
   "outputs": [],
   "source": [
    "##\n",
    "## Carga de las librerías de Spark\n",
    "##\n",
    "import findspark\n",
    "from pyspark import SparkConf, SparkContext\n",
    "from pyspark.sql import SparkSession\n",
    "\n",
    "findspark.init()\n",
    "\n",
    "APP_NAME = \"spark-app\"\n",
    "\n",
    "conf = SparkConf().setAppName(APP_NAME)\n",
    "sc = SparkContext(conf=conf)\n",
    "spark = SparkSession(sc)"
   ]
  },
  {
   "cell_type": "code",
   "execution_count": 4,
   "metadata": {},
   "outputs": [
    {
     "data": {
      "text/plain": [
       "1000"
      ]
     },
     "execution_count": 4,
     "metadata": {},
     "output_type": "execute_result"
    }
   ],
   "source": [
    "##\n",
    "## Lectura del archivo.\n",
    "##\n",
    "spark_df = spark.read.load(\n",
    "    \"/tmp/credit.csv\", format=\"csv\", sep=\",\", inferSchema=\"true\", header=\"true\"\n",
    ")\n",
    "\n",
    "##\n",
    "## Número de registros cargados\n",
    "##\n",
    "spark_df.count()"
   ]
  },
  {
   "cell_type": "code",
   "execution_count": 5,
   "metadata": {},
   "outputs": [
    {
     "name": "stdout",
     "output_type": "stream",
     "text": [
      "root\n",
      " |-- checking_balance: string (nullable = true)\n",
      " |-- months_loan_duration: integer (nullable = true)\n",
      " |-- credit_history: string (nullable = true)\n",
      " |-- purpose: string (nullable = true)\n",
      " |-- amount: integer (nullable = true)\n",
      " |-- savings_balance: string (nullable = true)\n",
      " |-- employment_length: string (nullable = true)\n",
      " |-- installment_rate: integer (nullable = true)\n",
      " |-- personal_status: string (nullable = true)\n",
      " |-- other_debtors: string (nullable = true)\n",
      " |-- residence_history: integer (nullable = true)\n",
      " |-- property: string (nullable = true)\n",
      " |-- age: integer (nullable = true)\n",
      " |-- installment_plan: string (nullable = true)\n",
      " |-- housing: string (nullable = true)\n",
      " |-- existing_credits: integer (nullable = true)\n",
      " |-- default: integer (nullable = true)\n",
      " |-- dependents: integer (nullable = true)\n",
      " |-- telephone: string (nullable = true)\n",
      " |-- foreign_worker: string (nullable = true)\n",
      " |-- job: string (nullable = true)\n",
      "\n"
     ]
    }
   ],
   "source": [
    "##\n",
    "## Tipos de datos de los campos del DataFrame\n",
    "##\n",
    "spark_df.printSchema()"
   ]
  },
  {
   "cell_type": "code",
   "execution_count": 6,
   "metadata": {},
   "outputs": [
    {
     "name": "stdout",
     "output_type": "stream",
     "text": [
      "+----------------+--------------------+--------------+----------+------+---------------+-----------------+----------------+---------------+-------------+-----------------+--------------------+---+----------------+--------+----------------+-------+----------+---------+--------------+--------------------+\n",
      "|checking_balance|months_loan_duration|credit_history|   purpose|amount|savings_balance|employment_length|installment_rate|personal_status|other_debtors|residence_history|            property|age|installment_plan| housing|existing_credits|default|dependents|telephone|foreign_worker|                 job|\n",
      "+----------------+--------------------+--------------+----------+------+---------------+-----------------+----------------+---------------+-------------+-----------------+--------------------+---+----------------+--------+----------------+-------+----------+---------+--------------+--------------------+\n",
      "|          < 0 DM|                   6|      critical|  radio/tv|  1169|        unknown|          > 7 yrs|               4|    single male|         none|                4|         real estate| 67|            none|     own|               2|      1|         1|      yes|           yes|    skilled employee|\n",
      "|      1 - 200 DM|                  48|        repaid|  radio/tv|  5951|       < 100 DM|        1 - 4 yrs|               2|         female|         none|                2|         real estate| 22|            none|     own|               1|      2|         1|     none|           yes|    skilled employee|\n",
      "|         unknown|                  12|      critical| education|  2096|       < 100 DM|        4 - 7 yrs|               2|    single male|         none|                3|         real estate| 49|            none|     own|               1|      1|         2|     none|           yes|  unskilled resident|\n",
      "|          < 0 DM|                  42|        repaid| furniture|  7882|       < 100 DM|        4 - 7 yrs|               2|    single male|    guarantor|                4|building society ...| 45|            none|for free|               1|      1|         2|     none|           yes|    skilled employee|\n",
      "|          < 0 DM|                  24|       delayed| car (new)|  4870|       < 100 DM|        1 - 4 yrs|               3|    single male|         none|                4|        unknown/none| 53|            none|for free|               2|      2|         2|     none|           yes|    skilled employee|\n",
      "|         unknown|                  36|        repaid| education|  9055|        unknown|        1 - 4 yrs|               2|    single male|         none|                4|        unknown/none| 35|            none|for free|               1|      1|         2|      yes|           yes|  unskilled resident|\n",
      "|         unknown|                  24|        repaid| furniture|  2835|  501 - 1000 DM|          > 7 yrs|               3|    single male|         none|                4|building society ...| 53|            none|     own|               1|      1|         1|     none|           yes|    skilled employee|\n",
      "|      1 - 200 DM|                  36|        repaid|car (used)|  6948|       < 100 DM|        1 - 4 yrs|               2|    single male|         none|                2|               other| 35|            none|    rent|               1|      1|         1|      yes|           yes|mangement self-em...|\n",
      "|         unknown|                  12|        repaid|  radio/tv|  3059|      > 1000 DM|        4 - 7 yrs|               2|  divorced male|         none|                4|         real estate| 61|            none|     own|               1|      1|         1|     none|           yes|  unskilled resident|\n",
      "|      1 - 200 DM|                  30|      critical| car (new)|  5234|       < 100 DM|       unemployed|               4|   married male|         none|                2|               other| 28|            none|     own|               2|      2|         1|     none|           yes|mangement self-em...|\n",
      "|      1 - 200 DM|                  12|        repaid| car (new)|  1295|       < 100 DM|        0 - 1 yrs|               3|         female|         none|                1|               other| 25|            none|    rent|               1|      2|         1|     none|           yes|    skilled employee|\n",
      "|          < 0 DM|                  48|        repaid|  business|  4308|       < 100 DM|        0 - 1 yrs|               3|         female|         none|                4|building society ...| 24|            none|    rent|               1|      2|         1|     none|           yes|    skilled employee|\n",
      "|      1 - 200 DM|                  12|        repaid|  radio/tv|  1567|       < 100 DM|        1 - 4 yrs|               1|         female|         none|                1|               other| 22|            none|     own|               1|      1|         1|      yes|           yes|    skilled employee|\n",
      "|          < 0 DM|                  24|      critical| car (new)|  1199|       < 100 DM|          > 7 yrs|               4|    single male|         none|                4|               other| 60|            none|     own|               2|      2|         1|     none|           yes|  unskilled resident|\n",
      "|          < 0 DM|                  15|        repaid| car (new)|  1403|       < 100 DM|        1 - 4 yrs|               2|         female|         none|                4|               other| 28|            none|    rent|               1|      1|         1|     none|           yes|    skilled employee|\n",
      "|          < 0 DM|                  24|        repaid|  radio/tv|  1282|   101 - 500 DM|        1 - 4 yrs|               4|         female|         none|                2|               other| 32|            none|     own|               1|      2|         1|     none|           yes|  unskilled resident|\n",
      "|         unknown|                  24|      critical|  radio/tv|  2424|        unknown|          > 7 yrs|               4|    single male|         none|                4|building society ...| 53|            none|     own|               2|      1|         1|     none|           yes|    skilled employee|\n",
      "|          < 0 DM|                  30|  fully repaid|  business|  8072|        unknown|        0 - 1 yrs|               2|    single male|         none|                3|               other| 25|            bank|     own|               3|      1|         1|     none|           yes|    skilled employee|\n",
      "|      1 - 200 DM|                  24|        repaid|car (used)| 12579|       < 100 DM|          > 7 yrs|               4|         female|         none|                2|        unknown/none| 44|            none|for free|               1|      2|         1|      yes|           yes|mangement self-em...|\n",
      "|         unknown|                  24|        repaid|  radio/tv|  3430|  501 - 1000 DM|          > 7 yrs|               3|    single male|         none|                2|               other| 31|            none|     own|               1|      1|         2|      yes|           yes|    skilled employee|\n",
      "+----------------+--------------------+--------------+----------+------+---------------+-----------------+----------------+---------------+-------------+-----------------+--------------------+---+----------------+--------+----------------+-------+----------+---------+--------------+--------------------+\n",
      "only showing top 20 rows\n",
      "\n"
     ]
    }
   ],
   "source": [
    "##\n",
    "## Contenido del archivo\n",
    "##\n",
    "spark_df.show()"
   ]
  },
  {
   "cell_type": "markdown",
   "metadata": {},
   "source": [
    "## Análisis Exploratorio"
   ]
  },
  {
   "cell_type": "code",
   "execution_count": 7,
   "metadata": {},
   "outputs": [],
   "source": [
    "!pip3 -q install pandas"
   ]
  },
  {
   "cell_type": "code",
   "execution_count": 8,
   "metadata": {},
   "outputs": [
    {
     "data": {
      "text/html": [
       "<div>\n",
       "<style scoped>\n",
       "    .dataframe tbody tr th:only-of-type {\n",
       "        vertical-align: middle;\n",
       "    }\n",
       "\n",
       "    .dataframe tbody tr th {\n",
       "        vertical-align: top;\n",
       "    }\n",
       "\n",
       "    .dataframe thead th {\n",
       "        text-align: right;\n",
       "    }\n",
       "</style>\n",
       "<table border=\"1\" class=\"dataframe\">\n",
       "  <thead>\n",
       "    <tr style=\"text-align: right;\">\n",
       "      <th></th>\n",
       "      <th>checking_balance</th>\n",
       "      <th>count</th>\n",
       "    </tr>\n",
       "  </thead>\n",
       "  <tbody>\n",
       "    <tr>\n",
       "      <th>0</th>\n",
       "      <td>unknown</td>\n",
       "      <td>394</td>\n",
       "    </tr>\n",
       "    <tr>\n",
       "      <th>1</th>\n",
       "      <td>&lt; 0 DM</td>\n",
       "      <td>274</td>\n",
       "    </tr>\n",
       "    <tr>\n",
       "      <th>2</th>\n",
       "      <td>&gt; 200 DM</td>\n",
       "      <td>63</td>\n",
       "    </tr>\n",
       "    <tr>\n",
       "      <th>3</th>\n",
       "      <td>1 - 200 DM</td>\n",
       "      <td>269</td>\n",
       "    </tr>\n",
       "  </tbody>\n",
       "</table>\n",
       "</div>"
      ],
      "text/plain": [
       "  checking_balance  count\n",
       "0          unknown    394\n",
       "1           < 0 DM    274\n",
       "2         > 200 DM     63\n",
       "3       1 - 200 DM    269"
      ]
     },
     "execution_count": 8,
     "metadata": {},
     "output_type": "execute_result"
    }
   ],
   "source": [
    "##\n",
    "## Algunas de las columnas son numéricas y\n",
    "## las otras son factores.\n",
    "## DM corresponde a Deutsche Marks\n",
    "## se verifican algunos valores versus el code book.\n",
    "##\n",
    "spark_df.groupBy(\"checking_balance\").count().toPandas()"
   ]
  },
  {
   "cell_type": "code",
   "execution_count": 9,
   "metadata": {},
   "outputs": [
    {
     "data": {
      "text/html": [
       "<div>\n",
       "<style scoped>\n",
       "    .dataframe tbody tr th:only-of-type {\n",
       "        vertical-align: middle;\n",
       "    }\n",
       "\n",
       "    .dataframe tbody tr th {\n",
       "        vertical-align: top;\n",
       "    }\n",
       "\n",
       "    .dataframe thead th {\n",
       "        text-align: right;\n",
       "    }\n",
       "</style>\n",
       "<table border=\"1\" class=\"dataframe\">\n",
       "  <thead>\n",
       "    <tr style=\"text-align: right;\">\n",
       "      <th></th>\n",
       "      <th>savings_balance</th>\n",
       "      <th>count</th>\n",
       "    </tr>\n",
       "  </thead>\n",
       "  <tbody>\n",
       "    <tr>\n",
       "      <th>0</th>\n",
       "      <td>unknown</td>\n",
       "      <td>183</td>\n",
       "    </tr>\n",
       "    <tr>\n",
       "      <th>1</th>\n",
       "      <td>101 - 500 DM</td>\n",
       "      <td>103</td>\n",
       "    </tr>\n",
       "    <tr>\n",
       "      <th>2</th>\n",
       "      <td>&lt; 100 DM</td>\n",
       "      <td>603</td>\n",
       "    </tr>\n",
       "    <tr>\n",
       "      <th>3</th>\n",
       "      <td>501 - 1000 DM</td>\n",
       "      <td>63</td>\n",
       "    </tr>\n",
       "    <tr>\n",
       "      <th>4</th>\n",
       "      <td>&gt; 1000 DM</td>\n",
       "      <td>48</td>\n",
       "    </tr>\n",
       "  </tbody>\n",
       "</table>\n",
       "</div>"
      ],
      "text/plain": [
       "  savings_balance  count\n",
       "0         unknown    183\n",
       "1    101 - 500 DM    103\n",
       "2        < 100 DM    603\n",
       "3   501 - 1000 DM     63\n",
       "4       > 1000 DM     48"
      ]
     },
     "execution_count": 9,
     "metadata": {},
     "output_type": "execute_result"
    }
   ],
   "source": [
    "spark_df.groupBy(\"savings_balance\").count().toPandas()"
   ]
  },
  {
   "cell_type": "code",
   "execution_count": 10,
   "metadata": {},
   "outputs": [
    {
     "data": {
      "text/html": [
       "<div>\n",
       "<style scoped>\n",
       "    .dataframe tbody tr th:only-of-type {\n",
       "        vertical-align: middle;\n",
       "    }\n",
       "\n",
       "    .dataframe tbody tr th {\n",
       "        vertical-align: top;\n",
       "    }\n",
       "\n",
       "    .dataframe thead th {\n",
       "        text-align: right;\n",
       "    }\n",
       "</style>\n",
       "<table border=\"1\" class=\"dataframe\">\n",
       "  <thead>\n",
       "    <tr style=\"text-align: right;\">\n",
       "      <th></th>\n",
       "      <th>summary</th>\n",
       "      <th>amount</th>\n",
       "    </tr>\n",
       "  </thead>\n",
       "  <tbody>\n",
       "    <tr>\n",
       "      <th>0</th>\n",
       "      <td>count</td>\n",
       "      <td>1000</td>\n",
       "    </tr>\n",
       "    <tr>\n",
       "      <th>1</th>\n",
       "      <td>mean</td>\n",
       "      <td>3271.258</td>\n",
       "    </tr>\n",
       "    <tr>\n",
       "      <th>2</th>\n",
       "      <td>stddev</td>\n",
       "      <td>2822.736875960441</td>\n",
       "    </tr>\n",
       "    <tr>\n",
       "      <th>3</th>\n",
       "      <td>min</td>\n",
       "      <td>250</td>\n",
       "    </tr>\n",
       "    <tr>\n",
       "      <th>4</th>\n",
       "      <td>max</td>\n",
       "      <td>18424</td>\n",
       "    </tr>\n",
       "  </tbody>\n",
       "</table>\n",
       "</div>"
      ],
      "text/plain": [
       "  summary             amount\n",
       "0   count               1000\n",
       "1    mean           3271.258\n",
       "2  stddev  2822.736875960441\n",
       "3     min                250\n",
       "4     max              18424"
      ]
     },
     "execution_count": 10,
     "metadata": {},
     "output_type": "execute_result"
    }
   ],
   "source": [
    "##\n",
    "## El monto del préstamo va desde 250 DM hasta 18.424 DM\n",
    "##\n",
    "spark_df.select(\"amount\").describe().toPandas()"
   ]
  },
  {
   "cell_type": "code",
   "execution_count": 11,
   "metadata": {},
   "outputs": [
    {
     "data": {
      "text/html": [
       "<div>\n",
       "<style scoped>\n",
       "    .dataframe tbody tr th:only-of-type {\n",
       "        vertical-align: middle;\n",
       "    }\n",
       "\n",
       "    .dataframe tbody tr th {\n",
       "        vertical-align: top;\n",
       "    }\n",
       "\n",
       "    .dataframe thead th {\n",
       "        text-align: right;\n",
       "    }\n",
       "</style>\n",
       "<table border=\"1\" class=\"dataframe\">\n",
       "  <thead>\n",
       "    <tr style=\"text-align: right;\">\n",
       "      <th></th>\n",
       "      <th>summary</th>\n",
       "      <th>months_loan_duration</th>\n",
       "    </tr>\n",
       "  </thead>\n",
       "  <tbody>\n",
       "    <tr>\n",
       "      <th>0</th>\n",
       "      <td>count</td>\n",
       "      <td>1000</td>\n",
       "    </tr>\n",
       "    <tr>\n",
       "      <th>1</th>\n",
       "      <td>mean</td>\n",
       "      <td>20.903</td>\n",
       "    </tr>\n",
       "    <tr>\n",
       "      <th>2</th>\n",
       "      <td>stddev</td>\n",
       "      <td>12.058814452756371</td>\n",
       "    </tr>\n",
       "    <tr>\n",
       "      <th>3</th>\n",
       "      <td>min</td>\n",
       "      <td>4</td>\n",
       "    </tr>\n",
       "    <tr>\n",
       "      <th>4</th>\n",
       "      <td>max</td>\n",
       "      <td>72</td>\n",
       "    </tr>\n",
       "  </tbody>\n",
       "</table>\n",
       "</div>"
      ],
      "text/plain": [
       "  summary months_loan_duration\n",
       "0   count                 1000\n",
       "1    mean               20.903\n",
       "2  stddev   12.058814452756371\n",
       "3     min                    4\n",
       "4     max                   72"
      ]
     },
     "execution_count": 11,
     "metadata": {},
     "output_type": "execute_result"
    }
   ],
   "source": [
    "##\n",
    "## La duración del préstamo va desde 4 hasta 72 meses\n",
    "##\n",
    "spark_df.select(\"months_loan_duration\").describe().toPandas()"
   ]
  },
  {
   "cell_type": "code",
   "execution_count": 12,
   "metadata": {},
   "outputs": [
    {
     "data": {
      "text/html": [
       "<div>\n",
       "<style scoped>\n",
       "    .dataframe tbody tr th:only-of-type {\n",
       "        vertical-align: middle;\n",
       "    }\n",
       "\n",
       "    .dataframe tbody tr th {\n",
       "        vertical-align: top;\n",
       "    }\n",
       "\n",
       "    .dataframe thead th {\n",
       "        text-align: right;\n",
       "    }\n",
       "</style>\n",
       "<table border=\"1\" class=\"dataframe\">\n",
       "  <thead>\n",
       "    <tr style=\"text-align: right;\">\n",
       "      <th></th>\n",
       "      <th>summary</th>\n",
       "      <th>default</th>\n",
       "    </tr>\n",
       "  </thead>\n",
       "  <tbody>\n",
       "    <tr>\n",
       "      <th>0</th>\n",
       "      <td>count</td>\n",
       "      <td>1000</td>\n",
       "    </tr>\n",
       "    <tr>\n",
       "      <th>1</th>\n",
       "      <td>mean</td>\n",
       "      <td>1.3</td>\n",
       "    </tr>\n",
       "    <tr>\n",
       "      <th>2</th>\n",
       "      <td>stddev</td>\n",
       "      <td>0.4584868702702515</td>\n",
       "    </tr>\n",
       "    <tr>\n",
       "      <th>3</th>\n",
       "      <td>min</td>\n",
       "      <td>1</td>\n",
       "    </tr>\n",
       "    <tr>\n",
       "      <th>4</th>\n",
       "      <td>max</td>\n",
       "      <td>2</td>\n",
       "    </tr>\n",
       "  </tbody>\n",
       "</table>\n",
       "</div>"
      ],
      "text/plain": [
       "  summary             default\n",
       "0   count                1000\n",
       "1    mean                 1.3\n",
       "2  stddev  0.4584868702702515\n",
       "3     min                   1\n",
       "4     max                   2"
      ]
     },
     "execution_count": 12,
     "metadata": {},
     "output_type": "execute_result"
    }
   ],
   "source": [
    "##\n",
    "## La columna default indica si hubo problemas\n",
    "## en el pago del préstamo (1- pago, 2- no pago)\n",
    "## esta es la columna que se desea pronosticar\n",
    "## 1-si, 2-no\n",
    "##\n",
    "spark_df.select(\"default\").describe().toPandas()"
   ]
  },
  {
   "cell_type": "code",
   "execution_count": 13,
   "metadata": {},
   "outputs": [
    {
     "data": {
      "text/html": [
       "<div>\n",
       "<style scoped>\n",
       "    .dataframe tbody tr th:only-of-type {\n",
       "        vertical-align: middle;\n",
       "    }\n",
       "\n",
       "    .dataframe tbody tr th {\n",
       "        vertical-align: top;\n",
       "    }\n",
       "\n",
       "    .dataframe thead th {\n",
       "        text-align: right;\n",
       "    }\n",
       "</style>\n",
       "<table border=\"1\" class=\"dataframe\">\n",
       "  <thead>\n",
       "    <tr style=\"text-align: right;\">\n",
       "      <th></th>\n",
       "      <th>summary</th>\n",
       "      <th>default</th>\n",
       "    </tr>\n",
       "  </thead>\n",
       "  <tbody>\n",
       "    <tr>\n",
       "      <th>0</th>\n",
       "      <td>count</td>\n",
       "      <td>1000</td>\n",
       "    </tr>\n",
       "    <tr>\n",
       "      <th>1</th>\n",
       "      <td>mean</td>\n",
       "      <td>0.3</td>\n",
       "    </tr>\n",
       "    <tr>\n",
       "      <th>2</th>\n",
       "      <td>stddev</td>\n",
       "      <td>0.45848687027025153</td>\n",
       "    </tr>\n",
       "    <tr>\n",
       "      <th>3</th>\n",
       "      <td>min</td>\n",
       "      <td>0</td>\n",
       "    </tr>\n",
       "    <tr>\n",
       "      <th>4</th>\n",
       "      <td>max</td>\n",
       "      <td>1</td>\n",
       "    </tr>\n",
       "  </tbody>\n",
       "</table>\n",
       "</div>"
      ],
      "text/plain": [
       "  summary              default\n",
       "0   count                 1000\n",
       "1    mean                  0.3\n",
       "2  stddev  0.45848687027025153\n",
       "3     min                    0\n",
       "4     max                    1"
      ]
     },
     "execution_count": 13,
     "metadata": {},
     "output_type": "execute_result"
    }
   ],
   "source": [
    "##\n",
    "## Reemplaza {1,2} por {0,1}\n",
    "##\n",
    "from pyspark.sql.functions import when\n",
    "\n",
    "spark_df = spark_df.withColumn('default', when(spark_df['default'] == 1, 0).otherwise(spark_df['default']))\n",
    "spark_df = spark_df.withColumn('default', when(spark_df['default'] == 2, 1).otherwise(spark_df['default']))\n",
    "\n",
    "spark_df.select(\"default\").describe().toPandas()"
   ]
  },
  {
   "cell_type": "markdown",
   "metadata": {},
   "source": [
    "## Preprocesamiento"
   ]
  },
  {
   "cell_type": "code",
   "execution_count": 14,
   "metadata": {},
   "outputs": [
    {
     "data": {
      "text/plain": [
       "[('checking_balance', 'string'),\n",
       " ('months_loan_duration', 'int'),\n",
       " ('credit_history', 'string'),\n",
       " ('purpose', 'string'),\n",
       " ('amount', 'int'),\n",
       " ('savings_balance', 'string'),\n",
       " ('employment_length', 'string'),\n",
       " ('installment_rate', 'int'),\n",
       " ('personal_status', 'string'),\n",
       " ('other_debtors', 'string'),\n",
       " ('residence_history', 'int'),\n",
       " ('property', 'string'),\n",
       " ('age', 'int'),\n",
       " ('installment_plan', 'string'),\n",
       " ('housing', 'string'),\n",
       " ('existing_credits', 'int'),\n",
       " ('default', 'int'),\n",
       " ('dependents', 'int'),\n",
       " ('telephone', 'string'),\n",
       " ('foreign_worker', 'string'),\n",
       " ('job', 'string'),\n",
       " ('checking_balance_', 'double'),\n",
       " ('credit_history_', 'double'),\n",
       " ('purpose_', 'double'),\n",
       " ('savings_balance_', 'double'),\n",
       " ('employment_length_', 'double'),\n",
       " ('personal_status_', 'double'),\n",
       " ('other_debtors_', 'double'),\n",
       " ('property_', 'double'),\n",
       " ('installment_plan_', 'double'),\n",
       " ('housing_', 'double'),\n",
       " ('telephone_', 'double'),\n",
       " ('foreign_worker_', 'double'),\n",
       " ('job_', 'double')]"
      ]
     },
     "execution_count": 14,
     "metadata": {},
     "output_type": "execute_result"
    }
   ],
   "source": [
    "from pyspark.ml.feature import StringIndexer\n",
    "\n",
    "for column in [\n",
    "    \"checking_balance\",\n",
    "    \"credit_history\",\n",
    "    \"purpose\",\n",
    "    \"savings_balance\",\n",
    "    \"employment_length\",\n",
    "    \"personal_status\",\n",
    "    \"other_debtors\",\n",
    "    \"property\",\n",
    "    \"installment_plan\",\n",
    "    \"housing\",\n",
    "    \"telephone\",\n",
    "    \"foreign_worker\",\n",
    "    \"job\",\n",
    "]:\n",
    "\n",
    "    ##\n",
    "    ## Se construye un codificador para transformar\n",
    "    ## los strings a enteros (similar a factores en R)\n",
    "    ##\n",
    "    stringIndexer = StringIndexer(\n",
    "        inputCol=column,\n",
    "        outputCol=column + \"_\",\n",
    "    )\n",
    "\n",
    "    ##\n",
    "    ## Se aplica el codificador a las columnas\n",
    "    ## del dataset\n",
    "    ##\n",
    "    spark_df = stringIndexer.fit(spark_df).transform(spark_df)\n",
    "\n",
    "##\n",
    "## Columnas resultantes\n",
    "##\n",
    "spark_df.dtypes"
   ]
  },
  {
   "cell_type": "markdown",
   "metadata": {},
   "source": [
    "### Nombres de las columnas de interes"
   ]
  },
  {
   "cell_type": "code",
   "execution_count": 15,
   "metadata": {},
   "outputs": [
    {
     "data": {
      "text/plain": [
       "['checking_balance',\n",
       " 'months_loan_duration',\n",
       " 'credit_history',\n",
       " 'purpose',\n",
       " 'amount',\n",
       " 'savings_balance',\n",
       " 'employment_length',\n",
       " 'installment_rate',\n",
       " 'personal_status',\n",
       " 'other_debtors',\n",
       " 'residence_history',\n",
       " 'property',\n",
       " 'age',\n",
       " 'installment_plan',\n",
       " 'housing',\n",
       " 'existing_credits',\n",
       " 'default',\n",
       " 'dependents',\n",
       " 'telephone',\n",
       " 'foreign_worker',\n",
       " 'job',\n",
       " 'checking_balance_',\n",
       " 'credit_history_',\n",
       " 'purpose_',\n",
       " 'savings_balance_',\n",
       " 'employment_length_',\n",
       " 'personal_status_',\n",
       " 'other_debtors_',\n",
       " 'property_',\n",
       " 'installment_plan_',\n",
       " 'housing_',\n",
       " 'telephone_',\n",
       " 'foreign_worker_',\n",
       " 'job_']"
      ]
     },
     "execution_count": 15,
     "metadata": {},
     "output_type": "execute_result"
    }
   ],
   "source": [
    "##\n",
    "## Columnas que contiene el dataframe\n",
    "##\n",
    "inputCols = [a for a, _ in spark_df.dtypes]\n",
    "inputCols"
   ]
  },
  {
   "cell_type": "code",
   "execution_count": 16,
   "metadata": {},
   "outputs": [
    {
     "data": {
      "text/plain": [
       "['months_loan_duration',\n",
       " 'amount',\n",
       " 'installment_rate',\n",
       " 'residence_history',\n",
       " 'age',\n",
       " 'existing_credits',\n",
       " 'default',\n",
       " 'dependents',\n",
       " 'checking_balance_',\n",
       " 'credit_history_',\n",
       " 'purpose_',\n",
       " 'savings_balance_',\n",
       " 'employment_length_',\n",
       " 'personal_status_',\n",
       " 'other_debtors_',\n",
       " 'property_',\n",
       " 'installment_plan_',\n",
       " 'housing_',\n",
       " 'telephone_',\n",
       " 'foreign_worker_',\n",
       " 'job_']"
      ]
     },
     "execution_count": 16,
     "metadata": {},
     "output_type": "execute_result"
    }
   ],
   "source": [
    "##\n",
    "## Elimina las columnas originales y deja solo las transformadas\n",
    "##\n",
    "inputCols = [a for a in inputCols if a + \"_\" not in inputCols]\n",
    "inputCols"
   ]
  },
  {
   "cell_type": "code",
   "execution_count": 17,
   "metadata": {},
   "outputs": [
    {
     "data": {
      "text/plain": [
       "['months_loan_duration',\n",
       " 'amount',\n",
       " 'installment_rate',\n",
       " 'residence_history',\n",
       " 'age',\n",
       " 'existing_credits',\n",
       " 'dependents',\n",
       " 'checking_balance_',\n",
       " 'credit_history_',\n",
       " 'purpose_',\n",
       " 'savings_balance_',\n",
       " 'employment_length_',\n",
       " 'personal_status_',\n",
       " 'other_debtors_',\n",
       " 'property_',\n",
       " 'installment_plan_',\n",
       " 'housing_',\n",
       " 'telephone_',\n",
       " 'foreign_worker_',\n",
       " 'job_']"
      ]
     },
     "execution_count": 17,
     "metadata": {},
     "output_type": "execute_result"
    }
   ],
   "source": [
    "##\n",
    "## Elimina la columna default\n",
    "##\n",
    "inputCols.remove(\"default\")\n",
    "inputCols"
   ]
  },
  {
   "cell_type": "markdown",
   "metadata": {},
   "source": [
    "## Ensamble de las columnas"
   ]
  },
  {
   "cell_type": "code",
   "execution_count": 18,
   "metadata": {},
   "outputs": [
    {
     "name": "stdout",
     "output_type": "stream",
     "text": [
      "+--------------------+\n",
      "|            features|\n",
      "+--------------------+\n",
      "|[6.0,1169.0,4.0,4...|\n",
      "|(20,[0,1,2,3,4,5,...|\n",
      "|(20,[0,1,2,3,4,5,...|\n",
      "|[42.0,7882.0,2.0,...|\n",
      "|(20,[0,1,2,3,4,5,...|\n",
      "|[36.0,9055.0,2.0,...|\n",
      "|(20,[0,1,2,3,4,5,...|\n",
      "|(20,[0,1,2,3,4,5,...|\n",
      "|(20,[0,1,2,3,4,5,...|\n",
      "|[30.0,5234.0,4.0,...|\n",
      "|(20,[0,1,2,3,4,5,...|\n",
      "|[48.0,4308.0,3.0,...|\n",
      "|(20,[0,1,2,3,4,5,...|\n",
      "|(20,[0,1,2,3,4,5,...|\n",
      "|(20,[0,1,2,3,4,5,...|\n",
      "|(20,[0,1,2,3,4,5,...|\n",
      "|(20,[0,1,2,3,4,5,...|\n",
      "|[30.0,8072.0,2.0,...|\n",
      "|[24.0,12579.0,4.0...|\n",
      "|(20,[0,1,2,3,4,5,...|\n",
      "+--------------------+\n",
      "only showing top 20 rows\n",
      "\n"
     ]
    }
   ],
   "source": [
    "from pyspark.ml.feature import VectorAssembler\n",
    "\n",
    "vectorAssembler = VectorAssembler(\n",
    "    inputCols=inputCols,\n",
    "    outputCol=\"features\",\n",
    ")\n",
    "\n",
    "spark_df = vectorAssembler.transform(spark_df)\n",
    "\n",
    "spark_df.select(\"features\").show()"
   ]
  },
  {
   "cell_type": "markdown",
   "metadata": {},
   "source": [
    "### Conjuntos de datos"
   ]
  },
  {
   "cell_type": "code",
   "execution_count": 19,
   "metadata": {},
   "outputs": [],
   "source": [
    "##\n",
    "## Se usa el 90% de los datos para entrenamiento\n",
    "## y el 10% restante para prueba\n",
    "##\n",
    "(train_df, test_df) = spark_df.randomSplit([0.9, 0.1])"
   ]
  },
  {
   "cell_type": "markdown",
   "metadata": {},
   "source": [
    "### Decision tree classifier"
   ]
  },
  {
   "cell_type": "code",
   "execution_count": 20,
   "metadata": {},
   "outputs": [],
   "source": [
    "##\n",
    "## Construcción del arbol de clasificación\n",
    "##\n",
    "from pyspark.ml.classification import DecisionTreeClassifier\n",
    "\n",
    "##\n",
    "## Se construye el arbol\n",
    "##\n",
    "clf = DecisionTreeClassifier(\n",
    "    featuresCol=\"features\",\n",
    "    labelCol=\"default\",\n",
    "    predictionCol=\"prediction_DTC\",\n",
    "    probabilityCol='probability_DTC', \n",
    "    rawPredictionCol='rawPrediction_DTC',\n",
    ")\n",
    "\n",
    "##\n",
    "## Entrenamiento\n",
    "##\n",
    "clf = clf.fit(train_df)\n",
    "\n",
    "##\n",
    "## Pronóstico\n",
    "##\n",
    "train_df = clf.transform(train_df)\n",
    "test_df = clf.transform(test_df)\n"
   ]
  },
  {
   "cell_type": "code",
   "execution_count": 21,
   "metadata": {},
   "outputs": [],
   "source": [
    "##\n",
    "## Métricas de desempeño\n",
    "##\n",
    "import pyspark.sql.functions as F\n",
    "from pyspark.mllib.evaluation import MulticlassMetrics\n",
    "from pyspark.sql.types import FloatType\n",
    "from pyspark.ml.evaluation import MulticlassClassificationEvaluator\n",
    "\n",
    "\n",
    "def print_stats(dataframes, prediction_col):\n",
    "\n",
    "    evaluator = MulticlassClassificationEvaluator(\n",
    "        labelCol=\"default\",\n",
    "        predictionCol=prediction_col,\n",
    "        metricName=\"accuracy\",\n",
    "    )\n",
    "\n",
    "    print(\"Train Error = %g \" % (1.0 - evaluator.evaluate(train_df)))\n",
    "    print(\"Test Error = %g \" % (1.0 - evaluator.evaluate(test_df)))\n",
    "    print()\n",
    "    \n",
    "    for df in dataframes:\n",
    "\n",
    "        predictionAndLabels = df.select([prediction_col, \"default\"])\n",
    "        predictionAndLabels = predictionAndLabels.withColumn(\n",
    "            prediction_col, F.col(prediction_col).cast(FloatType())\n",
    "        )\n",
    "        predictionAndLabels = predictionAndLabels.withColumn(\n",
    "            \"default\", F.col(\"default\").cast(FloatType())\n",
    "        )\n",
    "\n",
    "        metrics = MulticlassMetrics(predictionAndLabels.rdd.map(tuple))\n",
    "\n",
    "        print(metrics.confusionMatrix().toArray())\n",
    "        print()"
   ]
  },
  {
   "cell_type": "code",
   "execution_count": 22,
   "metadata": {},
   "outputs": [
    {
     "name": "stdout",
     "output_type": "stream",
     "text": [
      "Train Error = 0.209071 \n",
      "Test Error = 0.270833 \n",
      "\n",
      "[[604.  32.]\n",
      " [157. 111.]]\n",
      "\n",
      "[[57.  7.]\n",
      " [19. 13.]]\n",
      "\n"
     ]
    }
   ],
   "source": [
    "print_stats(dataframes=[train_df, test_df], prediction_col = 'prediction_DTC')"
   ]
  },
  {
   "cell_type": "markdown",
   "metadata": {},
   "source": [
    "### Random forest classifier"
   ]
  },
  {
   "cell_type": "code",
   "execution_count": 23,
   "metadata": {},
   "outputs": [
    {
     "name": "stdout",
     "output_type": "stream",
     "text": [
      "Train Error = 0.19469 \n",
      "Test Error = 0.25 \n",
      "\n",
      "[[624.  12.]\n",
      " [164. 104.]]\n",
      "\n",
      "[[63.  1.]\n",
      " [23.  9.]]\n",
      "\n"
     ]
    }
   ],
   "source": [
    "##\n",
    "## Construcción del arbol de clasificación\n",
    "##\n",
    "from pyspark.ml.classification import RandomForestClassifier\n",
    "\n",
    "##\n",
    "## Se construye el arbol\n",
    "##\n",
    "clf = RandomForestClassifier(\n",
    "    featuresCol=\"features\",\n",
    "    labelCol=\"default\",\n",
    "    predictionCol=\"prediction_RFC\",\n",
    "    probabilityCol='probability_RFC', \n",
    "    rawPredictionCol='rawPrediction_RFC',    \n",
    "    numTrees = 20,\n",
    ")\n",
    "\n",
    "##\n",
    "## Entrenamiento\n",
    "##\n",
    "clf = clf.fit(train_df)\n",
    "\n",
    "##\n",
    "## Pronóstico\n",
    "##\n",
    "train_df = clf.transform(train_df)\n",
    "test_df = clf.transform(test_df)\n",
    "\n",
    "print_stats(dataframes=[train_df, test_df], prediction_col = 'prediction_RFC')"
   ]
  },
  {
   "cell_type": "markdown",
   "metadata": {},
   "source": [
    "### Gradient-boosted tree classifier"
   ]
  },
  {
   "cell_type": "code",
   "execution_count": 24,
   "metadata": {},
   "outputs": [
    {
     "name": "stdout",
     "output_type": "stream",
     "text": [
      "Train Error = 0.0752212 \n",
      "Test Error = 0.21875 \n",
      "\n",
      "[[616.  20.]\n",
      " [ 48. 220.]]\n",
      "\n",
      "[[56.  8.]\n",
      " [13. 19.]]\n",
      "\n"
     ]
    }
   ],
   "source": [
    "##\n",
    "## Construcción del arbol de clasificación\n",
    "##\n",
    "from pyspark.ml.classification import GBTClassifier\n",
    "\n",
    "##\n",
    "## Se construye el arbol\n",
    "##\n",
    "clf = GBTClassifier(\n",
    "    featuresCol=\"features\",\n",
    "    labelCol=\"default\",\n",
    "    predictionCol=\"prediction_GBTC\", \n",
    "    maxIter = 20,\n",
    ")\n",
    "\n",
    "##\n",
    "## Entrenamiento\n",
    "##\n",
    "clf = clf.fit(train_df)\n",
    "\n",
    "##\n",
    "## Pronóstico\n",
    "##\n",
    "train_df = clf.transform(train_df)\n",
    "test_df = clf.transform(test_df)\n",
    "\n",
    "print_stats(dataframes=[train_df, test_df], prediction_col = 'prediction_GBTC')"
   ]
  }
 ],
 "metadata": {
  "kernel_info": {
   "name": "python3"
  },
  "kernelspec": {
   "display_name": "Python 3 (ipykernel)",
   "language": "python",
   "name": "python3"
  },
  "language_info": {
   "codemirror_mode": {
    "name": "ipython",
    "version": 3
   },
   "file_extension": ".py",
   "mimetype": "text/x-python",
   "name": "python",
   "nbconvert_exporter": "python",
   "pygments_lexer": "ipython3",
   "version": "3.8.10"
  },
  "nteract": {
   "version": "0.7.1"
  },
  "varInspector": {
   "cols": {
    "lenName": 16,
    "lenType": 16,
    "lenVar": 40
   },
   "kernels_config": {
    "python": {
     "delete_cmd_postfix": "",
     "delete_cmd_prefix": "del ",
     "library": "var_list.py",
     "varRefreshCmd": "print(var_dic_list())"
    },
    "r": {
     "delete_cmd_postfix": ") ",
     "delete_cmd_prefix": "rm(",
     "library": "var_list.r",
     "varRefreshCmd": "cat(var_dic_list()) "
    }
   },
   "types_to_exclude": [
    "module",
    "function",
    "builtin_function_or_method",
    "instance",
    "_Feature"
   ],
   "window_display": false
  }
 },
 "nbformat": 4,
 "nbformat_minor": 4
}
