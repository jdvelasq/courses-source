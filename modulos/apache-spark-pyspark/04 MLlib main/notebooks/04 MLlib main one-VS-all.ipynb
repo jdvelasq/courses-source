{
 "cells": [
  {
   "cell_type": "markdown",
   "metadata": {},
   "source": [
    "Estrategías One-Vs-One y One-Vs-Others\n",
    "===\n",
    "\n",
    "* *45 min* | Ultima modificación: Junio 22, 2019"
   ]
  },
  {
   "cell_type": "markdown",
   "metadata": {},
   "source": [
    "La teoría está basada en el supuesto de que únicamente existen dos clases dicotómicas $C_1$ y $C_2$. En la realidad pueden existir más de dos clases, por lo que existen diversas estrategias comúnmente utilizadas para convertir un problema de varias clases en un problema dicotómico.\n",
    "\n",
    "* **One-Vs-The-Rest** (única implementada en Spark): Esta estrategia consiste en construir un clasificador por clase. Para un problema con tres clases, se construye un clasificador que decide si el patrón presentado pertenece a la clase $C_1$ o al resto ($C_2$ o $C_3$, otro si pertenece a $C_2$ o al resto, y finalmente otro para diferenciar entre $C_3$ y el resto. En esta estructura existen puntos del espacio de entrada que no pertencen a ninguna clase. \n",
    "\n",
    "* **One-Vs-One**: Se construye un clasificador por cada par de clases y la clasificación se realiza seleccionando la clase que recibe más votos. Si se tienen tres clases, se constuirian clasificadores para diferenciar entre las siguientes parejas de clases $(C_1, C_2)$, $(C_1, C_3)$ y $(C_2, C_3)$.\n",
    "\n"
   ]
  },
  {
   "cell_type": "code",
   "execution_count": 1,
   "metadata": {},
   "outputs": [
    {
     "name": "stdout",
     "output_type": "stream",
     "text": [
      "Overwriting data.csv\n"
     ]
    }
   ],
   "source": [
    "%%writefile data.csv\n",
    "x,y,label\n",
    "1,1,0\n",
    "1,2,0\n",
    "1,3,0\n",
    "1,4,0\n",
    "2,1,0\n",
    "2,2,1\n",
    "2,3,1\n",
    "2,4,1\n",
    "3,1,1\n",
    "3,2,1\n",
    "3,3,2\n",
    "3,4,2\n",
    "4,1,1\n",
    "4,2,1\n",
    "4,3,2\n",
    "4,4,2"
   ]
  },
  {
   "cell_type": "code",
   "execution_count": 2,
   "metadata": {},
   "outputs": [],
   "source": [
    "!hdfs dfs -copyFromLocal data.csv /tmp/data.csv"
   ]
  },
  {
   "cell_type": "code",
   "execution_count": 3,
   "metadata": {},
   "outputs": [],
   "source": [
    "##\n",
    "## Carga de las librerías de Spark\n",
    "##\n",
    "import findspark\n",
    "from pyspark import SparkConf, SparkContext\n",
    "from pyspark.sql import SparkSession\n",
    "\n",
    "findspark.init()\n",
    "\n",
    "APP_NAME = \"spark-app\"\n",
    "\n",
    "conf = SparkConf().setAppName(APP_NAME)\n",
    "sc = SparkContext(conf=conf)\n",
    "spark = SparkSession(sc)"
   ]
  },
  {
   "cell_type": "code",
   "execution_count": 4,
   "metadata": {},
   "outputs": [
    {
     "data": {
      "text/plain": [
       "16"
      ]
     },
     "execution_count": 4,
     "metadata": {},
     "output_type": "execute_result"
    }
   ],
   "source": [
    "##\n",
    "## Lectura del archivo.\n",
    "##\n",
    "spark_df = spark.read.load(\n",
    "    \"/tmp/data.csv\", format=\"csv\", sep=\",\", inferSchema=\"true\", header=\"true\"\n",
    ")\n",
    "\n",
    "##\n",
    "## Número de registros cargados\n",
    "##\n",
    "spark_df.count()"
   ]
  },
  {
   "cell_type": "code",
   "execution_count": 5,
   "metadata": {},
   "outputs": [
    {
     "name": "stdout",
     "output_type": "stream",
     "text": [
      "+---------+\n",
      "| features|\n",
      "+---------+\n",
      "|[1.0,1.0]|\n",
      "|[1.0,2.0]|\n",
      "|[1.0,3.0]|\n",
      "|[1.0,4.0]|\n",
      "|[2.0,1.0]|\n",
      "|[2.0,2.0]|\n",
      "|[2.0,3.0]|\n",
      "|[2.0,4.0]|\n",
      "|[3.0,1.0]|\n",
      "|[3.0,2.0]|\n",
      "|[3.0,3.0]|\n",
      "|[3.0,4.0]|\n",
      "|[4.0,1.0]|\n",
      "|[4.0,2.0]|\n",
      "|[4.0,3.0]|\n",
      "|[4.0,4.0]|\n",
      "+---------+\n",
      "\n"
     ]
    }
   ],
   "source": [
    "from pyspark.ml.feature import VectorAssembler\n",
    "\n",
    "vectorAssembler = VectorAssembler(\n",
    "    inputCols=['x', 'y'],\n",
    "    outputCol=\"features\",\n",
    ")\n",
    "\n",
    "spark_df = vectorAssembler.transform(spark_df)\n",
    "\n",
    "spark_df.select(\"features\").show()"
   ]
  },
  {
   "cell_type": "code",
   "execution_count": 6,
   "metadata": {},
   "outputs": [
    {
     "name": "stdout",
     "output_type": "stream",
     "text": [
      "Test Error = 0.4\n"
     ]
    }
   ],
   "source": [
    "from pyspark.ml.classification import LogisticRegression, OneVsRest\n",
    "from pyspark.ml.evaluation import MulticlassClassificationEvaluator\n",
    "\n",
    "(train, test) = spark_df.randomSplit([0.8, 0.2])\n",
    "\n",
    "lr = LogisticRegression(maxIter=10, tol=1E-6, fitIntercept=True)\n",
    "\n",
    "ovr = OneVsRest(classifier=lr)\n",
    "ovrModel = ovr.fit(train)\n",
    "predictions = ovrModel.transform(test)\n",
    "\n",
    "evaluator = MulticlassClassificationEvaluator(metricName=\"accuracy\")\n",
    "\n",
    "accuracy = evaluator.evaluate(predictions)\n",
    "print(\"Test Error = %g\" % (1.0 - accuracy))"
   ]
  }
 ],
 "metadata": {
  "kernelspec": {
   "display_name": "Python 3 (ipykernel)",
   "language": "python",
   "name": "python3"
  },
  "language_info": {
   "codemirror_mode": {
    "name": "ipython",
    "version": 3
   },
   "file_extension": ".py",
   "mimetype": "text/x-python",
   "name": "python",
   "nbconvert_exporter": "python",
   "pygments_lexer": "ipython3",
   "version": "3.8.10"
  }
 },
 "nbformat": 4,
 "nbformat_minor": 4
}
