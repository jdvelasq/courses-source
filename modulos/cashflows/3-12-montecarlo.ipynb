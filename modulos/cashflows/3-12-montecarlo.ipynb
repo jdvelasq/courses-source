{
 "cells": [
  {
   "cell_type": "markdown",
   "source": [
    "Análisis bajo riesgo\n",
    "===\n",
    "\n",
    "* 60:00 min | Última modificación: Juno 22, 2019 | YouTube"
   ],
   "metadata": {}
  },
  {
   "cell_type": "markdown",
   "source": [
    "A continuación se desarrolla el mismo caso anterior pero considerando que el precio y la producción son variables aleatorias."
   ],
   "metadata": {}
  },
  {
   "cell_type": "code",
   "execution_count": 1,
   "source": [
    "import numpy as np\n",
    "import numpy.random as rdn\n",
    "import cashflows as cf"
   ],
   "outputs": [],
   "metadata": {
    "collapsed": true
   }
  },
  {
   "cell_type": "code",
   "execution_count": 2,
   "source": [
    "## se construye una función que recibe la información relevante y retorn el npv\n",
    "\n",
    "def project(marr,\n",
    "            costo,\n",
    "            inversion):\n",
    "    \n",
    "    \n",
    "    precio      = rdn.triangular(  8,  10,  12, 10)\n",
    "    produccion  = rdn.triangular( 80, 100, 120, 10)\n",
    "\n",
    "    \n",
    "    ingre = cf.cashflow(const_value = [0] + (precio*produccion).tolist(), start=2018)  \n",
    "    opera = cf.cashflow(const_value = [0] + [costo] * 10, start=2018)\n",
    "    inver = cf.cashflow(const_value = [inversion] + [0] * 10, start=2018)\n",
    "    \n",
    "    asset = cf.cashflow(const_value=[inversion] + [0] * 10, start=2018)\n",
    "    life  = cf.cashflow(const_value=[5] + [0]*10, start=2018)\n",
    "    \n",
    "    dep   = cf.depreciation_sl(costs = asset, life=life)['Depr']\n",
    "    \n",
    "    antes = ingre - opera - inver - dep\n",
    "    desp  = cf.after_tax_cashflow(antes, cf.interest_rate([30] * 11, start=2018))\n",
    "    neto  = antes + dep\n",
    "    \n",
    "    npv   = cf.timevalue(cflo=neto, prate=marr)\n",
    "    \n",
    "    return npv"
   ],
   "outputs": [],
   "metadata": {
    "collapsed": true
   }
  },
  {
   "cell_type": "code",
   "execution_count": 3,
   "source": [
    "marr = cf.interest_rate([10] * 11, start=2018)\n",
    "project(marr, 220, 2000)"
   ],
   "outputs": [
    {
     "output_type": "execute_result",
     "data": {
      "text/plain": [
       "2622.27516893243"
      ]
     },
     "metadata": {},
     "execution_count": 3
    }
   ],
   "metadata": {}
  },
  {
   "cell_type": "code",
   "execution_count": 4,
   "source": [
    "import matplotlib.pyplot as plt"
   ],
   "outputs": [],
   "metadata": {
    "collapsed": true
   }
  },
  {
   "cell_type": "code",
   "execution_count": 5,
   "source": [
    "result = []\n",
    "\n",
    "for sim in range(1000):\n",
    "    result.append(project(marr, 220, 2000))\n",
    "result[1:10]"
   ],
   "outputs": [
    {
     "output_type": "execute_result",
     "data": {
      "text/plain": [
       "[2597.27970768053,\n",
       " 2610.1513068181644,\n",
       " 3052.5482478377694,\n",
       " 2552.1355200855833,\n",
       " 2742.8843000115448,\n",
       " 2474.7929391657253,\n",
       " 2749.3260743851033,\n",
       " 3235.9889184226331,\n",
       " 2462.5773726707012]"
      ]
     },
     "metadata": {},
     "execution_count": 5
    }
   ],
   "metadata": {}
  },
  {
   "cell_type": "code",
   "execution_count": 6,
   "source": [
    "plt.hist(result)\n",
    "plt.show()"
   ],
   "outputs": [
    {
     "output_type": "display_data",
     "data": {
      "text/plain": [
       "<matplotlib.figure.Figure at 0x10d59f8d0>"
      ],
      "image/png": "[encoded data removed]"
     },
     "metadata": {}
    }
   ],
   "metadata": {
    "scrolled": false
   }
  },
  {
   "cell_type": "markdown",
   "source": [
    "**Ejercicio.--** Incluya en la simulación a las variables costo e inversión."
   ],
   "metadata": {}
  }
 ],
 "metadata": {
  "kernelspec": {
   "display_name": "Python 3",
   "language": "python",
   "name": "python3"
  },
  "language_info": {
   "codemirror_mode": {
    "name": "ipython",
    "version": 3
   },
   "file_extension": ".py",
   "mimetype": "text/x-python",
   "name": "python",
   "nbconvert_exporter": "python",
   "pygments_lexer": "ipython3",
   "version": "3.6.8"
  }
 },
 "nbformat": 4,
 "nbformat_minor": 2
}