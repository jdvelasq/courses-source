{
 "cells": [
  {
   "cell_type": "markdown",
   "metadata": {},
   "source": [
    "Distribuciones de probabilidad\n",
    "===\n",
    "\n",
    "* 34:29 min | Ultima modificación: Marzo 21, 2021 | YouTube"
   ]
  },
  {
   "cell_type": "markdown",
   "metadata": {
    "slideshow": {
     "slide_type": "slide"
    }
   },
   "source": [
    "## Representación de la probabilidad para variables continuas\n",
    "\n",
    "Se usa una función matemática para definir la función de densidad de probabilidad. Se nota como $f_X(x)$.\n",
    "\n",
    "![assets/prob-continua.jpg](assets/prob-continua.jpg)\n",
    "\n",
    "La función de densidad de probabilidad acumulada es la integral de $f_X(x)$ entre $-\\infty$ y $x$ y se define como:\n",
    "\n",
    "$$F_X(x)= \\int_{-\\infty}^x f_X(u) du$$"
   ]
  },
  {
   "cell_type": "markdown",
   "metadata": {
    "slideshow": {
     "slide_type": "slide"
    }
   },
   "source": [
    "## Momentos de una distribución\n",
    "\n",
    "Los momentos de una distribución permiten caracterizar sus propiedades. Estos son:\n",
    "\n",
    "**Media o valor esperado**:  \n",
    "\n",
    "$$E[x_t ]= μ_x = \\int f_x (u)\\,du =M_1$$\n",
    "\n",
    "**Varianza**:  \n",
    "\n",
    "$$V[x_t ] = σ_x^2 = E[(x_t-μ_x )^2 ]=M_2-M_1^2$$\n",
    "\n",
    "**Asimetría**:  \n",
    "\n",
    "$$S_x = E[(x_t-μ_x )^3 ]=M_3-3M_2 M_1+2M_1^2$$\n",
    "\n",
    "**Curtosis**: \n",
    "\n",
    "$$K_x = E[(x_t-μ_x )^4 ]=M_4-4M_3 M_1+6M_2 M_1^2-3M_1^4$$\n",
    "\n",
    "Interpretación momentos centrales de una distribución:\n",
    "\n",
    "![assets/eventos-conjuntos.jpg](assets/fdp.png)\n"
   ]
  },
  {
   "cell_type": "markdown",
   "metadata": {
    "slideshow": {
     "slide_type": "slide"
    }
   },
   "source": [
    "## Principales distribuciones continuas\n",
    "\n",
    "* **Distribución normal**:\n",
    "\n",
    "$$f_X(x|\\mu_X, \\sigma_X) = \\frac{1}{\\sigma_X \\sqrt{2\\pi}} \\exp\\Big[ {-\\frac{1}{2}\\Big( \\frac{x-\\mu_X}{\\sigma_X}   \\Big)^2} \\Big]$$\n",
    "\n",
    "\n",
    "* **Distribución normal estandarizada**: es la distribución normal con $\\mu_X=0$ y $\\sigma_X=1$.\n",
    "\n",
    "\n",
    "* **Distribución lognormal**: La variable $y = \\log(x)$ sigue una distribución normal."
   ]
  },
  {
   "cell_type": "markdown",
   "metadata": {},
   "source": [
    "## Distribuciones de probabilidad en Python"
   ]
  },
  {
   "cell_type": "markdown",
   "metadata": {},
   "source": [
    "Se encuentran disponibles en SciPy (https://docs.scipy.org/doc/scipy/reference/stats.html#) y NumPy."
   ]
  },
  {
   "cell_type": "code",
   "execution_count": 2,
   "metadata": {},
   "outputs": [
    {
     "data": {
      "image/png": "[encoded data removed]",
      "text/plain": [
       "<Figure size 432x288 with 1 Axes>"
      ]
     },
     "metadata": {
      "needs_background": "light"
     },
     "output_type": "display_data"
    }
   ],
   "source": [
    "import matplotlib.pyplot as plt\n",
    "import numpy as np\n",
    "from scipy.stats import norm\n",
    "\n",
    "#\n",
    "# Gráfica de la función de densidad de probabilidad (pdf)\n",
    "#\n",
    "#  median(loc=0, scale=1)     Median of the distribution.\n",
    "#  mean(loc=0, scale=1)       Mean of the distribution.\n",
    "#  var(loc=0, scale=1)        Variance of the distribution.\n",
    "#  std(loc=0, scale=1)        Standard deviation of the distribution.\n",
    "#\n",
    "#  rvs(loc=0, scale=1,        Random variates\n",
    "#      size=1, \n",
    "#      random_state=None)\n",
    "#\n",
    "#  fit(data)                  Ajuste de los datos\n",
    "#\n",
    "#  cdf(x, loc=0, scale=1)     Cumulative distribution function.\n",
    "#  ppf(q, loc=0, scale=1)     Percent point function (inverse of cdf — percentiles).\n",
    "#  pdf(x, loc=0, scale=1)     Probability density function.\n",
    "#\n",
    "\n",
    "x = np.linspace(\n",
    "    norm.ppf(0.01),\n",
    "    norm.ppf(0.99),\n",
    "    100,\n",
    ")\n",
    "\n",
    "plt.plot(\n",
    "    x,\n",
    "    norm.pdf(x),\n",
    "    \"r-\",\n",
    "    lw=5,\n",
    "    alpha=0.6,\n",
    "    label=\"norm pdf\",\n",
    ")\n",
    "plt.show()"
   ]
  },
  {
   "cell_type": "markdown",
   "metadata": {
    "slideshow": {
     "slide_type": "slide"
    }
   },
   "source": [
    "**Ejercicio.---** En una misma figura, grafique la función de densidad de probabilidad para las siguientes distribuciones normales:\n",
    "\n",
    "* `loc = 0` y `scale = 0.2`.\n",
    "\n",
    "* `loc = 0` y `scale = 1.0`.\n",
    "\n",
    "* `loc = -2` y `scale = 0.5`.\n"
   ]
  },
  {
   "cell_type": "markdown",
   "metadata": {
    "slideshow": {
     "slide_type": "slide"
    }
   },
   "source": [
    "**Ejercicio.--** Cuál es el valor de $x$ para una distribución normal estándar tal que el área entre $-\\infty$ y $x$ sea:\n",
    "\n",
    "* 0.01\n",
    "* 0.05\n",
    "* 0.10"
   ]
  },
  {
   "cell_type": "markdown",
   "metadata": {
    "slideshow": {
     "slide_type": "slide"
    }
   },
   "source": [
    "**Ejercicio.--** Cuál es el valor de $x$ para una distribución normal estándar tal que el área entre $-x$ y $x$ sea:\n",
    "\n",
    "* 0.90\n",
    "* 0.95\n",
    "* 0.99"
   ]
  },
  {
   "cell_type": "markdown",
   "metadata": {
    "slideshow": {
     "slide_type": "slide"
    }
   },
   "source": [
    "**Ejercicio.--** En una misma figura, grafique la función de densidad de probabilidad para las siguientes distribuciones lognormales:\n",
    "* `mean = 0` y `sigma = 0.25`.\n",
    "* `mean = 0` y `sigma = 0.50`.\n",
    "* `mean = 0` y `sigma = 1.00`."
   ]
  },
  {
   "cell_type": "markdown",
   "metadata": {
    "slideshow": {
     "slide_type": "slide"
    }
   },
   "source": [
    "**Ejercicio.--** Cuál es el valor de $x$ para una distribución lognormal (estándar) tal que el área entre $-\\infty$ y $x$ sea:\n",
    "\n",
    "* 0.01\n",
    "* 0.05\n",
    "* 0.10"
   ]
  },
  {
   "cell_type": "markdown",
   "metadata": {
    "slideshow": {
     "slide_type": "slide"
    }
   },
   "source": [
    "**Ejercicio.--** Cuál es el valor de $x$ para una distribución lognormal (estándar) tal que el área entre $-x$ y $x$ sea:\n",
    "\n",
    "* 0.90\n",
    "* 0.95\n",
    "* 0.99"
   ]
  },
  {
   "cell_type": "markdown",
   "metadata": {},
   "source": [
    "**Ejercicio.--** Para muestras pequeñas, se suele utilizar la distribución t en vez de la normal. El parámetro `df` corresponde a los grados de libertad. En una misma figura, grafique la función de densidad de probabilidad para las siguientes distribuciones:\n",
    "\n",
    "* `df = 10`.\n",
    "* `df = 20`.\n",
    "* `df = 30`.\n",
    "\n",
    "Adicionalmente,  grafique en la misma figura la distribución normal equivalente."
   ]
  },
  {
   "cell_type": "markdown",
   "metadata": {
    "slideshow": {
     "slide_type": "slide"
    }
   },
   "source": [
    "**Ejercicio.--** Cuál es el valor de $x$ para una distribución t con 20 grados de libertad tal que el área entre $-\\infty$ y $x$ sea:\n",
    "\n",
    "* 0.01\n",
    "* 0.05\n",
    "* 0.10"
   ]
  },
  {
   "cell_type": "markdown",
   "metadata": {
    "slideshow": {
     "slide_type": "slide"
    }
   },
   "source": [
    "**Ejercicio.--** Cuál es el valor de $x$ para una distribución t con 20 grados de libertad tal que el área entre $-x$ y $x$ sea:\n",
    "\n",
    "* 0.90\n",
    "* 0.95\n",
    "* 0.99"
   ]
  },
  {
   "cell_type": "markdown",
   "metadata": {
    "slideshow": {
     "slide_type": "slide"
    }
   },
   "source": [
    "## Propiedades útiles de la distribución normal\n",
    "\n",
    "* Sean $x \\sim N(\\mu_X, \\sigma_X^2)$ y $y \\sim N(\\mu_Y, \\sigma_Y^2)$, entonces:\n",
    "\n",
    "$$ x + y \\sim N(~\\mu_X~+~\\mu_Y, ~\\sigma_X^2 + \\sigma_Y^2~)$$\n",
    "\n",
    "* Sea $x \\sim N(\\mu_X, \\sigma_X^2)$ y dos números reales $a$ y $b$, entonces:\n",
    "\n",
    "$$a~+~b~\\sim N(a\\mu_X+b,~ a^2 \\sigma_X^2)$$\n",
    "\n",
    "* Sean $x \\sim N(\\mu_X, \\sigma_X^2)$ y $\\epsilon \\sim N(0, 1)$, entonces:\n",
    "\n",
    "$$x = \\mu_X~+~\\sigma_X \\epsilon$$"
   ]
  },
  {
   "cell_type": "markdown",
   "metadata": {
    "slideshow": {
     "slide_type": "slide"
    }
   },
   "source": [
    "## Teorema del Límite Central\n",
    "\n",
    "Sea ${x_i}$ para ${i=1,…,n}$ una muestra aleatoria $i.i.d.$ con media $μ$ y varianza $σ^2$. Para $n→\\infty$ la variable ${S_n=}$ $\\frac{1}{n}$ $\\sum_{i=1}^{n}x_{i} $, se aproxima a una distribución normal con media $μ$ y varianza $\\frac{σ^2}{n}$"
   ]
  },
  {
   "cell_type": "markdown",
   "metadata": {
    "slideshow": {
     "slide_type": "-"
    }
   },
   "source": [
    "**Ejercicio.--** Genere varias muestras de 300 datos provenientes de una distribución uniforme, y para cada una de ellas calcule la media. Muestre graficamente que la distribución de las medias sigue una distribución normal (grafique la distribución empírica y teórica usando las técnicas ilustradas anteriormente). "
   ]
  }
 ],
 "metadata": {
  "kernelspec": {
   "display_name": "Python 3",
   "language": "python",
   "name": "python3"
  },
  "language_info": {
   "codemirror_mode": {
    "name": "ipython",
    "version": 3
   },
   "file_extension": ".py",
   "mimetype": "text/x-python",
   "name": "python",
   "nbconvert_exporter": "python",
   "pygments_lexer": "ipython3",
   "version": "3.6.9"
  }
 },
 "nbformat": 4,
 "nbformat_minor": 4
}
