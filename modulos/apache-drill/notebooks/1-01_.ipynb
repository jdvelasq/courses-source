{
 "cells": [
  {
   "cell_type": "markdown",
   "id": "7a3425e7-2e68-4e3a-be85-5e673a070091",
   "metadata": {
    "tags": []
   },
   "source": [
    "Introducción rápida a Apache Drill\n",
    "===\n",
    "\n",
    "* Última modificación: Junio 1, 2022"
   ]
  },
  {
   "cell_type": "markdown",
   "id": "3640b19d-87fa-47df-999c-6fb7e31adfec",
   "metadata": {},
   "source": [
    "https://drill.apache.org/docs/drill-in-10-minutes/"
   ]
  }
 ],
 "metadata": {
  "kernelspec": {
   "display_name": "Python 3 (ipykernel)",
   "language": "python",
   "name": "python3"
  },
  "language_info": {
   "codemirror_mode": {
    "name": "ipython",
    "version": 3
   },
   "file_extension": ".py",
   "mimetype": "text/x-python",
   "name": "python",
   "nbconvert_exporter": "python",
   "pygments_lexer": "ipython3",
   "version": "3.8.10"
  }
 },
 "nbformat": 4,
 "nbformat_minor": 5
}
