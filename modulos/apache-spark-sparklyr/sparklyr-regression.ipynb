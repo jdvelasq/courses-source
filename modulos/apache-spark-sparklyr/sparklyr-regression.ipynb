{
 "cells": [
  {
   "cell_type": "markdown",
   "metadata": {},
   "source": [
    "Predicción de gastos médicos en sparklyr\n",
    "===\n",
    "\n",
    "* *30 min* | Última modificación: Junio 22, 2019"
   ]
  },
  {
   "cell_type": "markdown",
   "metadata": {},
   "source": [
    "En este documento se abora como resolver este problema de regresión usando Sparklyr."
   ]
  },
  {
   "cell_type": "markdown",
   "metadata": {},
   "source": [
    "## Definición del problema"
   ]
  },
  {
   "cell_type": "markdown",
   "metadata": {},
   "source": [
    "Una compañía de seguros desea pronósticar los gastos médicos de la población asegurada con el fin de recolectar un valor superior en ingresos, tal que le permita obtener utilidades. Los costos son difíciles de pronósticar ya que las condiciones más costosas son más raras y parecen aleatorias; y que ciertas condiciones son más probables para ciertos segmentos de la población (infarto en personas obesas y cáncer en fumadores)."
   ]
  },
  {
   "cell_type": "markdown",
   "metadata": {},
   "source": [
    "El objetivo es usar una base de datos con 1338 registros de gastos médicos hipotéticos para pacientes de EU con el fin de estimar los costos para determinados segmentos de la población. La información registrada es la siguiente:\n",
    "\n",
    "* Age: entero hasta 64.\n",
    "\n",
    "* Sex: male, female.\n",
    "\n",
    "* bmi: Body mass index.\n",
    "\n",
    "* children: entero indicando la cantidad de hijos/dependientes cubiertos por el plan de salud.\n",
    "\n",
    "* smoker: yes, no.\n",
    "\n",
    "* region: northest, southeast, southwest, northwest.\n",
    "\n",
    "* charges: costos.\n"
   ]
  },
  {
   "cell_type": "markdown",
   "metadata": {},
   "source": [
    "## Solución"
   ]
  },
  {
   "cell_type": "markdown",
   "metadata": {},
   "source": [
    "### Preparación"
   ]
  },
  {
   "cell_type": "code",
   "execution_count": 1,
   "metadata": {},
   "outputs": [],
   "source": [
    "##\n",
    "## Esta función se usará para ejecutar comandos en el \n",
    "## sistema operativo y capturar la salida.\n",
    "##\n",
    "systemp <- function(command) cat(system(command, intern = TRUE), sep = '\\n')"
   ]
  },
  {
   "cell_type": "code",
   "execution_count": 2,
   "metadata": {},
   "outputs": [
    {
     "name": "stderr",
     "output_type": "stream",
     "text": [
      "\n",
      "Attaching package: ‘dplyr’\n",
      "\n",
      "The following objects are masked from ‘package:stats’:\n",
      "\n",
      "    filter, lag\n",
      "\n",
      "The following objects are masked from ‘package:base’:\n",
      "\n",
      "    intersect, setdiff, setequal, union\n",
      "\n"
     ]
    },
    {
     "data": {
      "text/html": [
       "<table>\n",
       "<caption>A data.frame: 1 × 3</caption>\n",
       "<thead>\n",
       "\t<tr><th scope=col>spark</th><th scope=col>hadoop</th><th scope=col>dir</th></tr>\n",
       "\t<tr><th scope=col>&lt;chr&gt;</th><th scope=col>&lt;chr&gt;</th><th scope=col>&lt;chr&gt;</th></tr>\n",
       "</thead>\n",
       "<tbody>\n",
       "\t<tr><td>2.4.3</td><td>2.7</td><td>/home/vagrant/spark/spark-2.4.3-bin-hadoop2.7</td></tr>\n",
       "</tbody>\n",
       "</table>\n"
      ],
      "text/latex": [
       "A data.frame: 1 × 3\n",
       "\\begin{tabular}{r|lll}\n",
       " spark & hadoop & dir\\\\\n",
       " <chr> & <chr> & <chr>\\\\\n",
       "\\hline\n",
       "\t 2.4.3 & 2.7 & /home/vagrant/spark/spark-2.4.3-bin-hadoop2.7\\\\\n",
       "\\end{tabular}\n"
      ],
      "text/markdown": [
       "\n",
       "A data.frame: 1 × 3\n",
       "\n",
       "| spark &lt;chr&gt; | hadoop &lt;chr&gt; | dir &lt;chr&gt; |\n",
       "|---|---|---|\n",
       "| 2.4.3 | 2.7 | /home/vagrant/spark/spark-2.4.3-bin-hadoop2.7 |\n",
       "\n"
      ],
      "text/plain": [
       "  spark hadoop dir                                          \n",
       "1 2.4.3 2.7    /home/vagrant/spark/spark-2.4.3-bin-hadoop2.7"
      ]
     },
     "metadata": {},
     "output_type": "display_data"
    },
    {
     "data": {
      "text/plain": [
       "[1] ‘2.4.3’"
      ]
     },
     "metadata": {},
     "output_type": "display_data"
    }
   ],
   "source": [
    "library(sparklyr)\n",
    "library(dplyr)\n",
    "spark_installed_versions()\n",
    "sc <- spark_connect(master='local', spark_home='/home/vagrant/spark/spark-2.4.3-bin-hadoop2.7')\n",
    "spark_version(sc)"
   ]
  },
  {
   "cell_type": "markdown",
   "metadata": {},
   "source": [
    "### Carga de datos"
   ]
  },
  {
   "cell_type": "markdown",
   "metadata": {},
   "source": [
    "Se mueve el archivo de la máquina local a sistema HDFS."
   ]
  },
  {
   "cell_type": "code",
   "execution_count": 3,
   "metadata": {},
   "outputs": [
    {
     "name": "stderr",
     "output_type": "stream",
     "text": [
      "Warning message:\n",
      "“running command 'hdfs dfs -copyFromLocal insurance.csv /tmp/insurance.csv' had status 1”"
     ]
    },
    {
     "name": "stdout",
     "output_type": "stream",
     "text": [
      "\n"
     ]
    }
   ],
   "source": [
    "## copia el archivo al HDFS\n",
    "systemp('hdfs dfs -copyFromLocal insurance.csv /tmp/insurance.csv') "
   ]
  },
  {
   "cell_type": "markdown",
   "metadata": {},
   "source": [
    "Se realizar la carga de los datos en SparkR, y se verifica la lectura del archivo."
   ]
  },
  {
   "cell_type": "code",
   "execution_count": 4,
   "metadata": {},
   "outputs": [
    {
     "data": {
      "text/plain": [
       "\u001b[38;5;246m# Source: spark<insurance> [?? x 7]\u001b[39m\n",
       "     age sex      bmi children smoker region    charges\n",
       "   \u001b[3m\u001b[38;5;246m<int>\u001b[39m\u001b[23m \u001b[3m\u001b[38;5;246m<chr>\u001b[39m\u001b[23m  \u001b[3m\u001b[38;5;246m<dbl>\u001b[39m\u001b[23m    \u001b[3m\u001b[38;5;246m<int>\u001b[39m\u001b[23m \u001b[3m\u001b[38;5;246m<chr>\u001b[39m\u001b[23m  \u001b[3m\u001b[38;5;246m<chr>\u001b[39m\u001b[23m       \u001b[3m\u001b[38;5;246m<dbl>\u001b[39m\u001b[23m\n",
       "\u001b[38;5;250m 1\u001b[39m    19 female  27.9        0 yes    southwest  \u001b[4m1\u001b[24m\u001b[4m6\u001b[24m885.\n",
       "\u001b[38;5;250m 2\u001b[39m    18 male    33.8        1 no     southeast   \u001b[4m1\u001b[24m726.\n",
       "\u001b[38;5;250m 3\u001b[39m    28 male    33          3 no     southeast   \u001b[4m4\u001b[24m449.\n",
       "\u001b[38;5;250m 4\u001b[39m    33 male    22.7        0 no     northwest  \u001b[4m2\u001b[24m\u001b[4m1\u001b[24m984.\n",
       "\u001b[38;5;250m 5\u001b[39m    32 male    28.9        0 no     northwest   \u001b[4m3\u001b[24m867.\n",
       "\u001b[38;5;250m 6\u001b[39m    31 female  25.7        0 no     southeast   \u001b[4m3\u001b[24m757.\n",
       "\u001b[38;5;250m 7\u001b[39m    46 female  33.4        1 no     southeast   \u001b[4m8\u001b[24m241.\n",
       "\u001b[38;5;250m 8\u001b[39m    37 female  27.7        3 no     northwest   \u001b[4m7\u001b[24m282.\n",
       "\u001b[38;5;250m 9\u001b[39m    37 male    29.8        2 no     northeast   \u001b[4m6\u001b[24m406.\n",
       "\u001b[38;5;250m10\u001b[39m    60 female  25.8        0 no     northwest  \u001b[4m2\u001b[24m\u001b[4m8\u001b[24m923.\n",
       "\u001b[38;5;246m# … with more rows\u001b[39m"
      ]
     },
     "metadata": {},
     "output_type": "display_data"
    }
   ],
   "source": [
    "spark_df <- spark_read_csv(sc,                    ## spark_connection\n",
    "                           'insurance',           ## nombre de la tabla\n",
    "                           '/tmp/insurance.csv')  ## ubicación del archivo\n",
    "                                                  ## en el sistema hdfs\n",
    "spark_df"
   ]
  },
  {
   "cell_type": "code",
   "execution_count": 5,
   "metadata": {},
   "outputs": [
    {
     "data": {
      "text/html": [
       "<dl>\n",
       "\t<dt>$age</dt>\n",
       "\t\t<dd><dl>\n",
       "\t<dt>$name</dt>\n",
       "\t\t<dd>'age'</dd>\n",
       "\t<dt>$type</dt>\n",
       "\t\t<dd>'IntegerType'</dd>\n",
       "</dl>\n",
       "</dd>\n",
       "\t<dt>$sex</dt>\n",
       "\t\t<dd><dl>\n",
       "\t<dt>$name</dt>\n",
       "\t\t<dd>'sex'</dd>\n",
       "\t<dt>$type</dt>\n",
       "\t\t<dd>'StringType'</dd>\n",
       "</dl>\n",
       "</dd>\n",
       "\t<dt>$bmi</dt>\n",
       "\t\t<dd><dl>\n",
       "\t<dt>$name</dt>\n",
       "\t\t<dd>'bmi'</dd>\n",
       "\t<dt>$type</dt>\n",
       "\t\t<dd>'DoubleType'</dd>\n",
       "</dl>\n",
       "</dd>\n",
       "\t<dt>$children</dt>\n",
       "\t\t<dd><dl>\n",
       "\t<dt>$name</dt>\n",
       "\t\t<dd>'children'</dd>\n",
       "\t<dt>$type</dt>\n",
       "\t\t<dd>'IntegerType'</dd>\n",
       "</dl>\n",
       "</dd>\n",
       "\t<dt>$smoker</dt>\n",
       "\t\t<dd><dl>\n",
       "\t<dt>$name</dt>\n",
       "\t\t<dd>'smoker'</dd>\n",
       "\t<dt>$type</dt>\n",
       "\t\t<dd>'StringType'</dd>\n",
       "</dl>\n",
       "</dd>\n",
       "\t<dt>$region</dt>\n",
       "\t\t<dd><dl>\n",
       "\t<dt>$name</dt>\n",
       "\t\t<dd>'region'</dd>\n",
       "\t<dt>$type</dt>\n",
       "\t\t<dd>'StringType'</dd>\n",
       "</dl>\n",
       "</dd>\n",
       "\t<dt>$charges</dt>\n",
       "\t\t<dd><dl>\n",
       "\t<dt>$name</dt>\n",
       "\t\t<dd>'charges'</dd>\n",
       "\t<dt>$type</dt>\n",
       "\t\t<dd>'DoubleType'</dd>\n",
       "</dl>\n",
       "</dd>\n",
       "</dl>\n"
      ],
      "text/latex": [
       "\\begin{description}\n",
       "\\item[\\$age] \\begin{description}\n",
       "\\item[\\$name] 'age'\n",
       "\\item[\\$type] 'IntegerType'\n",
       "\\end{description}\n",
       "\n",
       "\\item[\\$sex] \\begin{description}\n",
       "\\item[\\$name] 'sex'\n",
       "\\item[\\$type] 'StringType'\n",
       "\\end{description}\n",
       "\n",
       "\\item[\\$bmi] \\begin{description}\n",
       "\\item[\\$name] 'bmi'\n",
       "\\item[\\$type] 'DoubleType'\n",
       "\\end{description}\n",
       "\n",
       "\\item[\\$children] \\begin{description}\n",
       "\\item[\\$name] 'children'\n",
       "\\item[\\$type] 'IntegerType'\n",
       "\\end{description}\n",
       "\n",
       "\\item[\\$smoker] \\begin{description}\n",
       "\\item[\\$name] 'smoker'\n",
       "\\item[\\$type] 'StringType'\n",
       "\\end{description}\n",
       "\n",
       "\\item[\\$region] \\begin{description}\n",
       "\\item[\\$name] 'region'\n",
       "\\item[\\$type] 'StringType'\n",
       "\\end{description}\n",
       "\n",
       "\\item[\\$charges] \\begin{description}\n",
       "\\item[\\$name] 'charges'\n",
       "\\item[\\$type] 'DoubleType'\n",
       "\\end{description}\n",
       "\n",
       "\\end{description}\n"
      ],
      "text/markdown": [
       "$age\n",
       ":   $name\n",
       ":   'age'\n",
       "$type\n",
       ":   'IntegerType'\n",
       "\n",
       "\n",
       "\n",
       "$sex\n",
       ":   $name\n",
       ":   'sex'\n",
       "$type\n",
       ":   'StringType'\n",
       "\n",
       "\n",
       "\n",
       "$bmi\n",
       ":   $name\n",
       ":   'bmi'\n",
       "$type\n",
       ":   'DoubleType'\n",
       "\n",
       "\n",
       "\n",
       "$children\n",
       ":   $name\n",
       ":   'children'\n",
       "$type\n",
       ":   'IntegerType'\n",
       "\n",
       "\n",
       "\n",
       "$smoker\n",
       ":   $name\n",
       ":   'smoker'\n",
       "$type\n",
       ":   'StringType'\n",
       "\n",
       "\n",
       "\n",
       "$region\n",
       ":   $name\n",
       ":   'region'\n",
       "$type\n",
       ":   'StringType'\n",
       "\n",
       "\n",
       "\n",
       "$charges\n",
       ":   $name\n",
       ":   'charges'\n",
       "$type\n",
       ":   'DoubleType'\n",
       "\n",
       "\n",
       "\n",
       "\n",
       "\n"
      ],
      "text/plain": [
       "$age\n",
       "$age$name\n",
       "[1] \"age\"\n",
       "\n",
       "$age$type\n",
       "[1] \"IntegerType\"\n",
       "\n",
       "\n",
       "$sex\n",
       "$sex$name\n",
       "[1] \"sex\"\n",
       "\n",
       "$sex$type\n",
       "[1] \"StringType\"\n",
       "\n",
       "\n",
       "$bmi\n",
       "$bmi$name\n",
       "[1] \"bmi\"\n",
       "\n",
       "$bmi$type\n",
       "[1] \"DoubleType\"\n",
       "\n",
       "\n",
       "$children\n",
       "$children$name\n",
       "[1] \"children\"\n",
       "\n",
       "$children$type\n",
       "[1] \"IntegerType\"\n",
       "\n",
       "\n",
       "$smoker\n",
       "$smoker$name\n",
       "[1] \"smoker\"\n",
       "\n",
       "$smoker$type\n",
       "[1] \"StringType\"\n",
       "\n",
       "\n",
       "$region\n",
       "$region$name\n",
       "[1] \"region\"\n",
       "\n",
       "$region$type\n",
       "[1] \"StringType\"\n",
       "\n",
       "\n",
       "$charges\n",
       "$charges$name\n",
       "[1] \"charges\"\n",
       "\n",
       "$charges$type\n",
       "[1] \"DoubleType\"\n",
       "\n"
      ]
     },
     "metadata": {},
     "output_type": "display_data"
    }
   ],
   "source": [
    "##\n",
    "## Se imprime el esquema en formato de arbol\n",
    "##\n",
    "sdf_schema(spark_df)"
   ]
  },
  {
   "cell_type": "markdown",
   "metadata": {},
   "source": [
    "### Análisis exploratorio"
   ]
  },
  {
   "cell_type": "markdown",
   "metadata": {},
   "source": [
    "La función `summary` de SparkR permite obtener los principales estadísticos del DataFrame. Puesto que dicha función retorna un DataFrame de Spark, es necesario usar `collect()` para visualizar la tabla de resultados."
   ]
  },
  {
   "cell_type": "code",
   "execution_count": 6,
   "metadata": {},
   "outputs": [
    {
     "data": {
      "text/plain": [
       "      age            sex                 bmi           children    \n",
       " Min.   :18.00   Length:1338        Min.   :15.96   Min.   :0.000  \n",
       " 1st Qu.:27.00   Class :character   1st Qu.:26.30   1st Qu.:0.000  \n",
       " Median :39.00   Mode  :character   Median :30.40   Median :1.000  \n",
       " Mean   :39.21                      Mean   :30.66   Mean   :1.095  \n",
       " 3rd Qu.:51.00                      3rd Qu.:34.69   3rd Qu.:2.000  \n",
       " Max.   :64.00                      Max.   :53.13   Max.   :5.000  \n",
       "    smoker             region             charges     \n",
       " Length:1338        Length:1338        Min.   : 1122  \n",
       " Class :character   Class :character   1st Qu.: 4740  \n",
       " Mode  :character   Mode  :character   Median : 9382  \n",
       "                                       Mean   :13270  \n",
       "                                       3rd Qu.:16640  \n",
       "                                       Max.   :63770  "
      ]
     },
     "metadata": {},
     "output_type": "display_data"
    }
   ],
   "source": [
    "summary(spark_df %>% collect())"
   ]
  },
  {
   "cell_type": "markdown",
   "metadata": {},
   "source": [
    "Por otra parte, es posible usar la función `summary` para obtener los estadísticos descriptivos de una columna. En este caso, primero se selecciona la columna y luego se aplica `summary`."
   ]
  },
  {
   "cell_type": "markdown",
   "metadata": {},
   "source": [
    "SparkR también implementa la función `histogram` para computar el histograma de una columna de un DataFrame. En este caso, debe usarse la librería `ggplot` para realizar la correspondiente gráfica."
   ]
  },
  {
   "cell_type": "code",
   "execution_count": 9,
   "metadata": {},
   "outputs": [
    {
     "data": {
      "image/png": "[encoded data removed]",
      "text/plain": [
       "Plot with title “Histogram of x$age”"
      ]
     },
     "metadata": {},
     "output_type": "display_data"
    }
   ],
   "source": [
    "x <- spark_df %>% select('age') %>% collect()\n",
    "hist(x$age)"
   ]
  },
  {
   "cell_type": "markdown",
   "metadata": {},
   "source": [
    "Muchas funciones de uso común en R no están disponibles en SparkR, por lo que resulta necesario usar `collect()` para obtener el contenido de la variable y luego aplicar la función requerida."
   ]
  },
  {
   "cell_type": "code",
   "execution_count": 10,
   "metadata": {},
   "outputs": [
    {
     "data": {
      "text/plain": [
       "\u001b[38;5;246m# Source: spark<?> [?? x 2]\u001b[39m\n",
       "  region    count\n",
       "  \u001b[3m\u001b[38;5;246m<chr>\u001b[39m\u001b[23m     \u001b[3m\u001b[38;5;246m<dbl>\u001b[39m\u001b[23m\n",
       "\u001b[38;5;250m1\u001b[39m northwest   325\n",
       "\u001b[38;5;250m2\u001b[39m southwest   325\n",
       "\u001b[38;5;250m3\u001b[39m southeast   364\n",
       "\u001b[38;5;250m4\u001b[39m northeast   324"
      ]
     },
     "metadata": {},
     "output_type": "display_data"
    }
   ],
   "source": [
    "spark_df %>%  group_by(region) %>% summarize(count = n())"
   ]
  },
  {
   "cell_type": "markdown",
   "metadata": {},
   "source": [
    "No obstante, algunas veces es posible utilizar los operadores de agregación de SQL para realizar los cómputos equivalentes. En sl siguiente fragmento de código, se usa la función `groupBy` para calcular la cantidad de registros por región."
   ]
  },
  {
   "cell_type": "markdown",
   "metadata": {},
   "source": [
    "A continuación, se traen los datos al entorno local para calcula la correlación entre las columnas del DataFrame."
   ]
  },
  {
   "cell_type": "code",
   "execution_count": 11,
   "metadata": {},
   "outputs": [
    {
     "data": {
      "text/html": [
       "<table>\n",
       "<caption>A matrix: 4 × 4 of type dbl</caption>\n",
       "<thead>\n",
       "\t<tr><th></th><th scope=col>age</th><th scope=col>bmi</th><th scope=col>children</th><th scope=col>charges</th></tr>\n",
       "</thead>\n",
       "<tbody>\n",
       "\t<tr><th scope=row>age</th><td>1.0000000</td><td>0.1092719</td><td>0.04246900</td><td>0.29900819</td></tr>\n",
       "\t<tr><th scope=row>bmi</th><td>0.1092719</td><td>1.0000000</td><td>0.01275890</td><td>0.19834097</td></tr>\n",
       "\t<tr><th scope=row>children</th><td>0.0424690</td><td>0.0127589</td><td>1.00000000</td><td>0.06799823</td></tr>\n",
       "\t<tr><th scope=row>charges</th><td>0.2990082</td><td>0.1983410</td><td>0.06799823</td><td>1.00000000</td></tr>\n",
       "</tbody>\n",
       "</table>\n"
      ],
      "text/latex": [
       "A matrix: 4 × 4 of type dbl\n",
       "\\begin{tabular}{r|llll}\n",
       "  & age & bmi & children & charges\\\\\n",
       "\\hline\n",
       "\tage & 1.0000000 & 0.1092719 & 0.04246900 & 0.29900819\\\\\n",
       "\tbmi & 0.1092719 & 1.0000000 & 0.01275890 & 0.19834097\\\\\n",
       "\tchildren & 0.0424690 & 0.0127589 & 1.00000000 & 0.06799823\\\\\n",
       "\tcharges & 0.2990082 & 0.1983410 & 0.06799823 & 1.00000000\\\\\n",
       "\\end{tabular}\n"
      ],
      "text/markdown": [
       "\n",
       "A matrix: 4 × 4 of type dbl\n",
       "\n",
       "| <!--/--> | age | bmi | children | charges |\n",
       "|---|---|---|---|---|\n",
       "| age | 1.0000000 | 0.1092719 | 0.04246900 | 0.29900819 |\n",
       "| bmi | 0.1092719 | 1.0000000 | 0.01275890 | 0.19834097 |\n",
       "| children | 0.0424690 | 0.0127589 | 1.00000000 | 0.06799823 |\n",
       "| charges | 0.2990082 | 0.1983410 | 0.06799823 | 1.00000000 |\n",
       "\n"
      ],
      "text/plain": [
       "         age       bmi       children   charges   \n",
       "age      1.0000000 0.1092719 0.04246900 0.29900819\n",
       "bmi      0.1092719 1.0000000 0.01275890 0.19834097\n",
       "children 0.0424690 0.0127589 1.00000000 0.06799823\n",
       "charges  0.2990082 0.1983410 0.06799823 1.00000000"
      ]
     },
     "metadata": {},
     "output_type": "display_data"
    }
   ],
   "source": [
    "cor(spark_df %>% select(c(\"age\", \"bmi\", \"children\", \"charges\")) %>% collect())"
   ]
  },
  {
   "cell_type": "markdown",
   "metadata": {},
   "source": [
    "Este procedimiento de importación de datos, también puede usarse para construir gráficos."
   ]
  },
  {
   "cell_type": "code",
   "execution_count": 12,
   "metadata": {},
   "outputs": [
    {
     "data": {
      "image/png": "[encoded data removed]",
      "text/plain": [
       "plot without title"
      ]
     },
     "metadata": {},
     "output_type": "display_data"
    }
   ],
   "source": [
    "options(repr.plot.width = 4, repr.plot.height = 4)\n",
    "pairs(spark_df %>% select(c(\"age\", \"bmi\", \"children\", \"charges\")) %>% collect())"
   ]
  },
  {
   "cell_type": "markdown",
   "metadata": {},
   "source": [
    "### Construcción del modelo"
   ]
  },
  {
   "cell_type": "markdown",
   "metadata": {},
   "source": [
    "A continuación se usa la función `spark.gml` para la especificación de modelos lineales generalizados. Una lista de los algoritmos disponibles en SparR puede ser consultada en https://spark.apache.org/docs/latest/sparkr.html#algorithms "
   ]
  },
  {
   "cell_type": "code",
   "execution_count": 13,
   "metadata": {},
   "outputs": [],
   "source": [
    "model <- spark_df %>% ml_linear_regression(charges ~ age + children + bmi + sex + smoker + region)"
   ]
  },
  {
   "cell_type": "code",
   "execution_count": 14,
   "metadata": {},
   "outputs": [
    {
     "name": "stdout",
     "output_type": "stream",
     "text": [
      "Deviance Residuals:\n",
      "     Min       1Q   Median       3Q      Max \n",
      "-11304.9  -2848.1   -982.1   1393.9  29992.8 \n",
      "\n",
      "Coefficients:\n",
      "     (Intercept)              age         children              bmi \n",
      "      11909.9960         256.8564         475.5005         339.1935 \n",
      "        sex_male        smoker_no region_southeast region_southwest \n",
      "       -131.3144      -23848.5345       -1035.0220        -960.0510 \n",
      "region_northwest \n",
      "       -352.9639 \n",
      "\n",
      "R-Squared: 0.7509\n",
      "Root Mean Squared Error: 6042\n"
     ]
    }
   ],
   "source": [
    "summary(model)"
   ]
  },
  {
   "cell_type": "markdown",
   "metadata": {},
   "source": [
    "La sintaxis sigue siendo similar a la tradicional en R. A continuación se obtiene el pronóstico del modelo para el conjunto de datos."
   ]
  },
  {
   "cell_type": "code",
   "execution_count": 15,
   "metadata": {},
   "outputs": [
    {
     "data": {
      "text/html": [
       "<table>\n",
       "<caption>A tibble: 6 × 8</caption>\n",
       "<thead>\n",
       "\t<tr><th scope=col>age</th><th scope=col>sex</th><th scope=col>bmi</th><th scope=col>children</th><th scope=col>smoker</th><th scope=col>region</th><th scope=col>charges</th><th scope=col>prediction</th></tr>\n",
       "\t<tr><th scope=col>&lt;int&gt;</th><th scope=col>&lt;chr&gt;</th><th scope=col>&lt;dbl&gt;</th><th scope=col>&lt;int&gt;</th><th scope=col>&lt;chr&gt;</th><th scope=col>&lt;chr&gt;</th><th scope=col>&lt;dbl&gt;</th><th scope=col>&lt;dbl&gt;</th></tr>\n",
       "</thead>\n",
       "<tbody>\n",
       "\t<tr><td>19</td><td>female</td><td>27.900</td><td>0</td><td>yes</td><td>southwest</td><td>16884.924</td><td>25293.713</td></tr>\n",
       "\t<tr><td>18</td><td>male  </td><td>33.770</td><td>1</td><td>no </td><td>southeast</td><td> 1725.552</td><td> 3448.603</td></tr>\n",
       "\t<tr><td>28</td><td>male  </td><td>33.000</td><td>3</td><td>no </td><td>southeast</td><td> 4449.462</td><td> 6706.988</td></tr>\n",
       "\t<tr><td>33</td><td>male  </td><td>22.705</td><td>0</td><td>no </td><td>northwest</td><td>21984.471</td><td> 3754.830</td></tr>\n",
       "\t<tr><td>32</td><td>male  </td><td>28.880</td><td>0</td><td>no </td><td>northwest</td><td> 3866.855</td><td> 5592.493</td></tr>\n",
       "\t<tr><td>31</td><td>female</td><td>25.740</td><td>0</td><td>no </td><td>southeast</td><td> 3756.622</td><td> 3719.826</td></tr>\n",
       "</tbody>\n",
       "</table>\n"
      ],
      "text/latex": [
       "A tibble: 6 × 8\n",
       "\\begin{tabular}{r|llllllll}\n",
       " age & sex & bmi & children & smoker & region & charges & prediction\\\\\n",
       " <int> & <chr> & <dbl> & <int> & <chr> & <chr> & <dbl> & <dbl>\\\\\n",
       "\\hline\n",
       "\t 19 & female & 27.900 & 0 & yes & southwest & 16884.924 & 25293.713\\\\\n",
       "\t 18 & male   & 33.770 & 1 & no  & southeast &  1725.552 &  3448.603\\\\\n",
       "\t 28 & male   & 33.000 & 3 & no  & southeast &  4449.462 &  6706.988\\\\\n",
       "\t 33 & male   & 22.705 & 0 & no  & northwest & 21984.471 &  3754.830\\\\\n",
       "\t 32 & male   & 28.880 & 0 & no  & northwest &  3866.855 &  5592.493\\\\\n",
       "\t 31 & female & 25.740 & 0 & no  & southeast &  3756.622 &  3719.826\\\\\n",
       "\\end{tabular}\n"
      ],
      "text/markdown": [
       "\n",
       "A tibble: 6 × 8\n",
       "\n",
       "| age &lt;int&gt; | sex &lt;chr&gt; | bmi &lt;dbl&gt; | children &lt;int&gt; | smoker &lt;chr&gt; | region &lt;chr&gt; | charges &lt;dbl&gt; | prediction &lt;dbl&gt; |\n",
       "|---|---|---|---|---|---|---|---|\n",
       "| 19 | female | 27.900 | 0 | yes | southwest | 16884.924 | 25293.713 |\n",
       "| 18 | male   | 33.770 | 1 | no  | southeast |  1725.552 |  3448.603 |\n",
       "| 28 | male   | 33.000 | 3 | no  | southeast |  4449.462 |  6706.988 |\n",
       "| 33 | male   | 22.705 | 0 | no  | northwest | 21984.471 |  3754.830 |\n",
       "| 32 | male   | 28.880 | 0 | no  | northwest |  3866.855 |  5592.493 |\n",
       "| 31 | female | 25.740 | 0 | no  | southeast |  3756.622 |  3719.826 |\n",
       "\n"
      ],
      "text/plain": [
       "  age sex    bmi    children smoker region    charges   prediction\n",
       "1 19  female 27.900 0        yes    southwest 16884.924 25293.713 \n",
       "2 18  male   33.770 1        no     southeast  1725.552  3448.603 \n",
       "3 28  male   33.000 3        no     southeast  4449.462  6706.988 \n",
       "4 33  male   22.705 0        no     northwest 21984.471  3754.830 \n",
       "5 32  male   28.880 0        no     northwest  3866.855  5592.493 \n",
       "6 31  female 25.740 0        no     southeast  3756.622  3719.826 "
      ]
     },
     "metadata": {},
     "output_type": "display_data"
    }
   ],
   "source": [
    "fitted <- ml_predict(model, spark_df) %>% collect\n",
    "head(fitted)"
   ]
  },
  {
   "cell_type": "markdown",
   "metadata": {},
   "source": [
    "Finalmente, se grafica los valores reales y los pronosticados para la variable `charges`."
   ]
  },
  {
   "cell_type": "code",
   "execution_count": 16,
   "metadata": {},
   "outputs": [
    {
     "data": {
      "image/png": "[encoded data removed]",
      "text/plain": [
       "plot without title"
      ]
     },
     "metadata": {},
     "output_type": "display_data"
    }
   ],
   "source": [
    "df <- fitted %>% select(c(\"charges\", \"prediction\")) %>% collect\n",
    "\n",
    "options(repr.plot.width = 4, repr.plot.height = 4)\n",
    "plot(x=df$charges, df$prediction)"
   ]
  }
 ],
 "metadata": {
  "kernel_info": {
   "name": "python3"
  },
  "kernelspec": {
   "display_name": "R",
   "language": "R",
   "name": "ir"
  },
  "language_info": {
   "codemirror_mode": "r",
   "file_extension": ".r",
   "mimetype": "text/x-r-source",
   "name": "R",
   "pygments_lexer": "r",
   "version": "3.4.4"
  },
  "nteract": {
   "version": "0.7.1"
  },
  "varInspector": {
   "cols": {
    "lenName": 16,
    "lenType": 16,
    "lenVar": 40
   },
   "kernels_config": {
    "python": {
     "delete_cmd_postfix": "",
     "delete_cmd_prefix": "del ",
     "library": "var_list.py",
     "varRefreshCmd": "print(var_dic_list())"
    },
    "r": {
     "delete_cmd_postfix": ") ",
     "delete_cmd_prefix": "rm(",
     "library": "var_list.r",
     "varRefreshCmd": "cat(var_dic_list()) "
    }
   },
   "types_to_exclude": [
    "module",
    "function",
    "builtin_function_or_method",
    "instance",
    "_Feature"
   ],
   "window_display": false
  }
 },
 "nbformat": 4,
 "nbformat_minor": 2
}
