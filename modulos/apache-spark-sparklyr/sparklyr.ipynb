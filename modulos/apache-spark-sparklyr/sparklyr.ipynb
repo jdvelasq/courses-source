{
 "cells": [
  {
   "cell_type": "markdown",
   "metadata": {},
   "source": [
    "sparklyr\n",
    "===\n",
    "\n",
    "* *30 min* | Última modificación: Junio 22, 2019."
   ]
  },
  {
   "cell_type": "markdown",
   "metadata": {},
   "source": [
    "Spark SQL es una interfaz para el procesamiento de datos estructurados usando el lenguaje SQL. En adición, Spark SQL también puede ser usado para leer datos de Apache Hive. Spark SQL opera sobre DataFrames, los cuales son Datasets (RDD) organizado por columnas identificadas por nombres, los cuales equivalen a tablas en los sistemas de bases de datos relacionales."
   ]
  },
  {
   "cell_type": "markdown",
   "metadata": {},
   "source": [
    "**Test de la implementación**."
   ]
  },
  {
   "cell_type": "code",
   "execution_count": 1,
   "metadata": {},
   "outputs": [],
   "source": [
    "%load_ext rpy2.ipython"
   ]
  },
  {
   "cell_type": "code",
   "execution_count": 2,
   "metadata": {},
   "outputs": [
    {
     "name": "stderr",
     "output_type": "stream",
     "text": [
      "/opt/conda/lib/python3.7/site-packages/rpy2/rinterface/__init__.py:146: RRuntimeWarning: \n",
      "Attaching package: ‘dplyr’\n",
      "\n",
      "\n",
      "  warnings.warn(x, RRuntimeWarning)\n",
      "/opt/conda/lib/python3.7/site-packages/rpy2/rinterface/__init__.py:146: RRuntimeWarning: The following objects are masked from ‘package:stats’:\n",
      "\n",
      "    filter, lag\n",
      "\n",
      "\n",
      "  warnings.warn(x, RRuntimeWarning)\n",
      "/opt/conda/lib/python3.7/site-packages/rpy2/rinterface/__init__.py:146: RRuntimeWarning: The following objects are masked from ‘package:base’:\n",
      "\n",
      "    intersect, setdiff, setequal, union\n",
      "\n",
      "\n",
      "  warnings.warn(x, RRuntimeWarning)\n",
      "/opt/conda/lib/python3.7/site-packages/rpy2/rinterface/__init__.py:146: RRuntimeWarning: Registered S3 method overwritten by 'openssl':\n",
      "  method      from\n",
      "  print.bytes Rcpp\n",
      "\n",
      "  warnings.warn(x, RRuntimeWarning)\n"
     ]
    },
    {
     "data": {
      "text/plain": [
       "NULL\n"
      ]
     },
     "metadata": {},
     "output_type": "display_data"
    }
   ],
   "source": [
    "%%R\n",
    "library(sparklyr)\n",
    "library(dplyr)\n",
    "sc <- spark_connect(master='local', spark_home='/root/spark/spark-2.4.3-bin-hadoop2.7')\n",
    "spark_version(sc)\n",
    "src_tbls(sc)\n",
    "spark_disconnect(sc)"
   ]
  },
  {
   "cell_type": "markdown",
   "metadata": {},
   "source": [
    "## Instalación"
   ]
  },
  {
   "cell_type": "markdown",
   "metadata": {},
   "source": [
    "La librería `sparklyr` se instala normalmente con:"
   ]
  },
  {
   "cell_type": "code",
   "execution_count": 3,
   "metadata": {},
   "outputs": [],
   "source": [
    "## install.packages(\"sparklyr\")"
   ]
  },
  {
   "cell_type": "markdown",
   "metadata": {},
   "source": [
    "`sparklyr` puede trabajar en la máquina local o conectarse a un servidor de Spark. En este tutorial se trabajará en la máquina local usando un modo pseudo-distribuido. "
   ]
  },
  {
   "cell_type": "markdown",
   "metadata": {},
   "source": [
    "* En el sistema hdfs debe existir la carpeta `/tmp/hive` con permisos de lectura y escritura. Si no existe, use:\n",
    "\n",
    "\n",
    "     hdfs dfs -ls /tmp              ## para mostrar el contenido de la carpeta /tmp\n",
    "     hdfs dfs -mkdir /tmp/hive      ## para crear la carpeta hive\n",
    "     hdfs dfs -chmod 777 /tmp/hive  ## para cambiar los permisos sobre la carpeta"
   ]
  },
  {
   "cell_type": "markdown",
   "metadata": {},
   "source": [
    "* `sparklyr` requiere su propia instalación local de Spark para ejecutarse. Las funciones relacionadas son las siguientes:"
   ]
  },
  {
   "cell_type": "code",
   "execution_count": 4,
   "metadata": {},
   "outputs": [
    {
     "data": {
      "text/plain": [
       "  spark\n",
       "1   1.6\n",
       "2   2.0\n",
       "3   2.1\n",
       "4   2.2\n",
       "5   2.3\n",
       "6   2.4\n"
      ]
     },
     "metadata": {},
     "output_type": "display_data"
    }
   ],
   "source": [
    "%%R\n",
    "## Opciones disponibles de Spark para instalar\n",
    "spark_available_versions()"
   ]
  },
  {
   "cell_type": "markdown",
   "metadata": {},
   "source": [
    "La función `spark_install` instala una versión de Spark para usar con conexión local. La versión debe corresponder a una de las versiones listadas arriba, por ejemplo:\n",
    "\n",
    "    spark_install(version = '2.4')\n",
    " \n",
    "Se desinstala con:\n",
    "\n",
    "    spark_uninstall(version = '2.4')\n"
   ]
  },
  {
   "cell_type": "code",
   "execution_count": 5,
   "metadata": {},
   "outputs": [],
   "source": [
    "# spark_install(version = '2.4')"
   ]
  },
  {
   "cell_type": "code",
   "execution_count": 6,
   "metadata": {},
   "outputs": [
    {
     "data": {
      "text/plain": [
       "  spark hadoop                                   dir\n",
       "1 2.4.3    2.7 /root/spark/spark-2.4.3-bin-hadoop2.7\n"
      ]
     },
     "metadata": {},
     "output_type": "display_data"
    }
   ],
   "source": [
    "%%R\n",
    "## Lista de versiones de Spark instaladas en la máquina local\n",
    "spark_installed_versions()"
   ]
  },
  {
   "cell_type": "markdown",
   "metadata": {},
   "source": [
    "La conexión se realiza con la función `spark_connect`. Note que el parámetro `spark_home` debe coincidir con uno de los directorios listados en la celda de arriba.\n",
    "\n",
    "    spark_connect(master='local', spark_home='/home/vagrant/spark/spark-2.4.0-bin-hadoop2.7')"
   ]
  },
  {
   "cell_type": "code",
   "execution_count": 7,
   "metadata": {},
   "outputs": [
    {
     "data": {
      "text/plain": [
       "[1] \"/root/spark\"\n"
      ]
     },
     "metadata": {},
     "output_type": "display_data"
    }
   ],
   "source": [
    "%%R\n",
    "## Carpeta de instalación de Spark\n",
    "spark_install_dir()"
   ]
  },
  {
   "cell_type": "markdown",
   "metadata": {},
   "source": [
    "## Preparación"
   ]
  },
  {
   "cell_type": "code",
   "execution_count": 8,
   "metadata": {},
   "outputs": [],
   "source": [
    "%%R\n",
    "##\n",
    "## Esta función se usará para ejecutar comandos en el sistema operativo\n",
    "## y capturar la salida.\n",
    "##\n",
    "systemp <- function(command) cat(system(command, intern = TRUE), sep = '\\n')"
   ]
  },
  {
   "cell_type": "code",
   "execution_count": 9,
   "metadata": {},
   "outputs": [
    {
     "data": {
      "text/plain": [
       "[1] ‘2.4.3’\n"
      ]
     },
     "metadata": {},
     "output_type": "display_data"
    }
   ],
   "source": [
    "%%R\n",
    "library(sparklyr)\n",
    "library(dplyr)\n",
    "sc <- spark_connect(master='local', spark_home='/root/spark/spark-2.4.3-bin-hadoop2.7')\n",
    "spark_version(sc)"
   ]
  },
  {
   "cell_type": "markdown",
   "metadata": {},
   "source": [
    "## Creación de DataFrames"
   ]
  },
  {
   "cell_type": "markdown",
   "metadata": {},
   "source": [
    "A continuación se presenta la carga de DataFrames desde diferentes formatos."
   ]
  },
  {
   "cell_type": "markdown",
   "metadata": {},
   "source": [
    "### Formato JSON"
   ]
  },
  {
   "cell_type": "markdown",
   "metadata": {},
   "source": [
    "Se crea un archivo en formato JSON en la máquina local."
   ]
  },
  {
   "cell_type": "code",
   "execution_count": 10,
   "metadata": {},
   "outputs": [
    {
     "name": "stdout",
     "output_type": "stream",
     "text": [
      "Writing people.json\n"
     ]
    }
   ],
   "source": [
    "%%writefile people.json\n",
    "{\"id\": 1,  \"firstname\": \"Vivian\",   \"surname\": \"Hamilton\", \"birthdate\": \"1971-07-08\",  \"color\": \"green\",  \"quantity\": 1 }\n",
    "{\"id\": 2,  \"firstname\": \"Karen\",    \"surname\": \"Holcomb\",  \"birthdate\": \"1974-05-23\",  \"color\": \"green\",  \"quantity\": 4 }\n",
    "{\"id\": 3,  \"firstname\": \"Cody\",     \"surname\": \"Garrett\",  \"birthdate\": \"1973-04-22\",  \"color\": \"orange\", \"quantity\": 1 }\n",
    "{\"id\": 4,  \"firstname\": \"Roth\",     \"surname\": \"Fry\",      \"birthdate\": \"1975-01-29\",  \"color\": \"black\",  \"quantity\": 1 }\n",
    "{\"id\": 5,  \"firstname\": \"Zoe\",      \"surname\": \"Conway\",   \"birthdate\": \"1974-07-03\",  \"color\": \"blue\",   \"quantity\": 2 }\n",
    "{\"id\": 6,  \"firstname\": \"Gretchen\", \"surname\": \"Kinney\",   \"birthdate\": \"1974-10-18\",  \"color\": \"violet\", \"quantity\": 1 }\n",
    "{\"id\": 7,  \"firstname\": \"Driscoll\", \"surname\": \"Klein\",    \"birthdate\": \"1970-10-05\",  \"color\": \"blue\",   \"quantity\": 5 }\n",
    "{\"id\": 8,  \"firstname\": \"Karyn\",    \"surname\": \"Diaz\",     \"birthdate\": \"1969-02-24\",  \"color\": \"red\",    \"quantity\": 1 }\n",
    "{\"id\": 9,  \"firstname\": \"Merritt\",  \"surname\": \"Guy\",      \"birthdate\": \"1974-10-17\",  \"color\": \"indigo\", \"quantity\": 4 }\n",
    "{\"id\": 10, \"firstname\": \"Kylan\",    \"surname\": \"Sexton\",   \"birthdate\": \"1975-02-28\",  \"color\": \"black\",  \"quantity\": 4 }\n",
    "{\"id\": 11, \"firstname\": \"Jordan\",   \"surname\": \"Estes\",    \"birthdate\": \"1969-12-07\",  \"color\": \"indigo\", \"quantity\": 4 }\n",
    "{\"id\": 12, \"firstname\": \"Hope\",     \"surname\": \"Coffey\",   \"birthdate\": \"1973-12-24\",  \"color\": \"green\",  \"quantity\": 5 }\n",
    "{\"id\": 13, \"firstname\": \"Vivian\",   \"surname\": \"Crane\",    \"birthdate\": \"1970-08-27\",  \"color\": \"gray\",   \"quantity\": 5 }\n",
    "{\"id\": 14, \"firstname\": \"Clio\",     \"surname\": \"Noel\",     \"birthdate\": \"1972-12-12\",  \"color\": \"red\",    \"quantity\": 5 }\n",
    "{\"id\": 15, \"firstname\": \"Hope\",     \"surname\": \"Silva\",    \"birthdate\": \"1970-07-01\",  \"color\": \"blue\",   \"quantity\": 5 }\n",
    "{\"id\": 16, \"firstname\": \"Ayanna\",   \"surname\": \"Jarvis\",   \"birthdate\": \"1974-02-11\",  \"color\": \"orange\", \"quantity\": 5 }\n",
    "{\"id\": 17, \"firstname\": \"Chanda\",   \"surname\": \"Boyer\",    \"birthdate\": \"1973-04-01\",  \"color\": \"green\",  \"quantity\": 4 }\n",
    "{\"id\": 18, \"firstname\": \"Chadwick\", \"surname\": \"Knight\",   \"birthdate\": \"1973-04-29\",  \"color\": \"yellow\", \"quantity\": 1 }"
   ]
  },
  {
   "cell_type": "code",
   "execution_count": 11,
   "metadata": {},
   "outputs": [],
   "source": [
    "## Copia el archivo al HDFS\n",
    "!hdfs dfs -copyFromLocal people.json /tmp/people.json"
   ]
  },
  {
   "cell_type": "code",
   "execution_count": 12,
   "metadata": {},
   "outputs": [
    {
     "data": {
      "text/plain": [
       "# Source: spark<people> [?? x 6]\n",
       "   birthdate  color  firstname    id quantity surname \n",
       "   <chr>      <chr>  <chr>     <dbl>    <dbl> <chr>   \n",
       " 1 1971-07-08 green  Vivian        1        1 Hamilton\n",
       " 2 1974-05-23 green  Karen         2        4 Holcomb \n",
       " 3 1973-04-22 orange Cody          3        1 Garrett \n",
       " 4 1975-01-29 black  Roth          4        1 Fry     \n",
       " 5 1974-07-03 blue   Zoe           5        2 Conway  \n",
       " 6 1974-10-18 violet Gretchen      6        1 Kinney  \n",
       " 7 1970-10-05 blue   Driscoll      7        5 Klein   \n",
       " 8 1969-02-24 red    Karyn         8        1 Diaz    \n",
       " 9 1974-10-17 indigo Merritt       9        4 Guy     \n",
       "10 1975-02-28 black  Kylan        10        4 Sexton  \n",
       "# … with more rows\n"
      ]
     },
     "metadata": {},
     "output_type": "display_data"
    }
   ],
   "source": [
    "%%R\n",
    "##\n",
    "## La función spark_read_json() carga directamente\n",
    "## el archivo en JSON con un DataFrame.\n",
    "##\n",
    "df <- spark_read_json(sc,                 ## spark_connection\n",
    "                      'people',           ## nombre de la tabla\n",
    "                      '/tmp/people.json') ## ubicación del archivo\n",
    "                                          ## en el sistema hdfs\n",
    "df"
   ]
  },
  {
   "cell_type": "code",
   "execution_count": 13,
   "metadata": {},
   "outputs": [
    {
     "data": {
      "text/plain": [
       "# A tibble: 18 x 6\n",
       "   birthdate  color  firstname    id quantity surname \n",
       "   <chr>      <chr>  <chr>     <dbl>    <dbl> <chr>   \n",
       " 1 1971-07-08 green  Vivian        1        1 Hamilton\n",
       " 2 1974-05-23 green  Karen         2        4 Holcomb \n",
       " 3 1973-04-22 orange Cody          3        1 Garrett \n",
       " 4 1975-01-29 black  Roth          4        1 Fry     \n",
       " 5 1974-07-03 blue   Zoe           5        2 Conway  \n",
       " 6 1974-10-18 violet Gretchen      6        1 Kinney  \n",
       " 7 1970-10-05 blue   Driscoll      7        5 Klein   \n",
       " 8 1969-02-24 red    Karyn         8        1 Diaz    \n",
       " 9 1974-10-17 indigo Merritt       9        4 Guy     \n",
       "10 1975-02-28 black  Kylan        10        4 Sexton  \n",
       "11 1969-12-07 indigo Jordan       11        4 Estes   \n",
       "12 1973-12-24 green  Hope         12        5 Coffey  \n",
       "13 1970-08-27 gray   Vivian       13        5 Crane   \n",
       "14 1972-12-12 red    Clio         14        5 Noel    \n",
       "15 1970-07-01 blue   Hope         15        5 Silva   \n",
       "16 1974-02-11 orange Ayanna       16        5 Jarvis  \n",
       "17 1973-04-01 green  Chanda       17        4 Boyer   \n",
       "18 1973-04-29 yellow Chadwick     18        1 Knight  \n"
      ]
     },
     "metadata": {},
     "output_type": "display_data"
    }
   ],
   "source": [
    "%%R\n",
    "##\n",
    "## La función collect() permite imprimirlo en pantalla\n",
    "##\n",
    "collect(df)"
   ]
  },
  {
   "cell_type": "markdown",
   "metadata": {},
   "source": [
    "### Formato CSV"
   ]
  },
  {
   "cell_type": "markdown",
   "metadata": {},
   "source": [
    "A continuación se ejemplifica como procesar un archivo de texto para convertirlo en un DataFrame. "
   ]
  },
  {
   "cell_type": "code",
   "execution_count": 14,
   "metadata": {},
   "outputs": [
    {
     "name": "stdout",
     "output_type": "stream",
     "text": [
      "Writing people.csv\n"
     ]
    }
   ],
   "source": [
    "%%writefile people.csv\n",
    "id,firstname,surname,birthdate,color,quantity\n",
    "1,Vivian,Hamilton,1971-07-08,green,1\n",
    "2,Karen,Holcomb,1974-05-23,green,4\n",
    "3,Cody,Garrett,1973-04-22,orange,1\n",
    "4,Roth,Fry,1975-01-29,black,1\n",
    "5,Zoe,Conway,1974-07-03,blue,2\n",
    "6,Gretchen,Kinney,1974-10-18,violet,1\n",
    "7,Driscoll,Klein,1970-10-05,blue,5\n",
    "8,Karyn,Diaz,1969-02-24,red,1\n",
    "9,Merritt,Guy,1974-10-17,indigo,4\n",
    "10,Kylan,Sexton,1975-02-28,black,4\n",
    "11,Jordan,Estes,1969-12-07,indigo,4\n",
    "12,Hope,Coffey,1973-12-24,green,5\n",
    "13,Vivian,Crane,1970-08-27,gray,5\n",
    "14,Clio,Noel,1972-12-12,red,5\n",
    "15,Hope,Silva,1970-07-01,blue,5\n",
    "16,Ayanna,Jarvis,1974-02-11,orange,5\n",
    "17,Chanda,Boyer,1973-04-01,green,4\n",
    "18,Chadwick,Knight,1973-04-29,yellow,1"
   ]
  },
  {
   "cell_type": "code",
   "execution_count": 15,
   "metadata": {},
   "outputs": [
    {
     "name": "stdout",
     "output_type": "stream",
     "text": [
      "rm: `/tmp/people.csv': No such file or directory\n"
     ]
    }
   ],
   "source": [
    "## copia el archivo al HDFS\n",
    "!hdfs dfs -rm /tmp/people.csv\n",
    "!hdfs dfs -copyFromLocal people.csv /tmp/people.csv"
   ]
  },
  {
   "cell_type": "code",
   "execution_count": 16,
   "metadata": {},
   "outputs": [
    {
     "data": {
      "text/plain": [
       "# Source: spark<people> [?? x 6]\n",
       "      id firstname surname  birthdate           color  quantity\n",
       "   <int> <chr>     <chr>    <dttm>              <chr>     <int>\n",
       " 1     1 Vivian    Hamilton 1971-07-08 00:00:00 green         1\n",
       " 2     2 Karen     Holcomb  1974-05-23 00:00:00 green         4\n",
       " 3     3 Cody      Garrett  1973-04-22 00:00:00 orange        1\n",
       " 4     4 Roth      Fry      1975-01-29 00:00:00 black         1\n",
       " 5     5 Zoe       Conway   1974-07-03 00:00:00 blue          2\n",
       " 6     6 Gretchen  Kinney   1974-10-18 00:00:00 violet        1\n",
       " 7     7 Driscoll  Klein    1970-10-05 00:00:00 blue          5\n",
       " 8     8 Karyn     Diaz     1969-02-24 00:00:00 red           1\n",
       " 9     9 Merritt   Guy      1974-10-17 00:00:00 indigo        4\n",
       "10    10 Kylan     Sexton   1975-02-28 00:00:00 black         4\n",
       "# … with more rows\n"
      ]
     },
     "metadata": {},
     "output_type": "display_data"
    }
   ],
   "source": [
    "%%R\n",
    "df <- spark_read_csv(sc,                 # spark_connection\n",
    "                     'people',           # nombre de la tabla\n",
    "                     '/tmp/people.csv')  # ubicación del archivo\n",
    "                                         # en el sistema hdfs\n",
    "df"
   ]
  },
  {
   "cell_type": "markdown",
   "metadata": {},
   "source": [
    "## Operaciones sobre DataFrames"
   ]
  },
  {
   "cell_type": "code",
   "execution_count": 17,
   "metadata": {},
   "outputs": [
    {
     "data": {
      "text/plain": [
       "# Source: spark<people> [?? x 6]\n",
       "      id firstname surname  birthdate           color  quantity\n",
       "   <int> <chr>     <chr>    <dttm>              <chr>     <int>\n",
       " 1     1 Vivian    Hamilton 1971-07-08 00:00:00 green         1\n",
       " 2     2 Karen     Holcomb  1974-05-23 00:00:00 green         4\n",
       " 3     3 Cody      Garrett  1973-04-22 00:00:00 orange        1\n",
       " 4     4 Roth      Fry      1975-01-29 00:00:00 black         1\n",
       " 5     5 Zoe       Conway   1974-07-03 00:00:00 blue          2\n",
       " 6     6 Gretchen  Kinney   1974-10-18 00:00:00 violet        1\n",
       " 7     7 Driscoll  Klein    1970-10-05 00:00:00 blue          5\n",
       " 8     8 Karyn     Diaz     1969-02-24 00:00:00 red           1\n",
       " 9     9 Merritt   Guy      1974-10-17 00:00:00 indigo        4\n",
       "10    10 Kylan     Sexton   1975-02-28 00:00:00 black         4\n",
       "# … with more rows\n"
      ]
     },
     "metadata": {},
     "output_type": "display_data"
    }
   ],
   "source": [
    "%%R\n",
    "df <- spark_read_csv(sc,                 # spark_connection\n",
    "                     'people',           # nombre de la tabla\n",
    "                     '/tmp/people.csv')  # ubicación del archivo\n",
    "df"
   ]
  },
  {
   "cell_type": "code",
   "execution_count": 18,
   "metadata": {},
   "outputs": [
    {
     "data": {
      "text/plain": [
       "$id\n",
       "$id$name\n",
       "[1] \"id\"\n",
       "\n",
       "$id$type\n",
       "[1] \"IntegerType\"\n",
       "\n",
       "\n",
       "$firstname\n",
       "$firstname$name\n",
       "[1] \"firstname\"\n",
       "\n",
       "$firstname$type\n",
       "[1] \"StringType\"\n",
       "\n",
       "\n",
       "$surname\n",
       "$surname$name\n",
       "[1] \"surname\"\n",
       "\n",
       "$surname$type\n",
       "[1] \"StringType\"\n",
       "\n",
       "\n",
       "$birthdate\n",
       "$birthdate$name\n",
       "[1] \"birthdate\"\n",
       "\n",
       "$birthdate$type\n",
       "[1] \"TimestampType\"\n",
       "\n",
       "\n",
       "$color\n",
       "$color$name\n",
       "[1] \"color\"\n",
       "\n",
       "$color$type\n",
       "[1] \"StringType\"\n",
       "\n",
       "\n",
       "$quantity\n",
       "$quantity$name\n",
       "[1] \"quantity\"\n",
       "\n",
       "$quantity$type\n",
       "[1] \"IntegerType\"\n",
       "\n",
       "\n"
      ]
     },
     "metadata": {},
     "output_type": "display_data"
    }
   ],
   "source": [
    "%%R\n",
    "##\n",
    "## Imprime el esquema en formato de arbol\n",
    "##\n",
    "sdf_schema(df)"
   ]
  },
  {
   "cell_type": "code",
   "execution_count": 19,
   "metadata": {},
   "outputs": [
    {
     "data": {
      "text/plain": [
       "# Source: spark<?> [?? x 1]\n",
       "   firstname\n",
       "   <chr>    \n",
       " 1 Vivian   \n",
       " 2 Karen    \n",
       " 3 Cody     \n",
       " 4 Roth     \n",
       " 5 Zoe      \n",
       " 6 Gretchen \n",
       " 7 Driscoll \n",
       " 8 Karyn    \n",
       " 9 Merritt  \n",
       "10 Kylan    \n",
       "# … with more rows\n"
      ]
     },
     "metadata": {},
     "output_type": "display_data"
    }
   ],
   "source": [
    "%%R\n",
    "##\n",
    "## Selección de una columna en particular\n",
    "##\n",
    "select(df, 'firstname')"
   ]
  },
  {
   "cell_type": "code",
   "execution_count": 20,
   "metadata": {},
   "outputs": [
    {
     "data": {
      "text/plain": [
       "# Source: spark<?> [?? x 2]\n",
       "   firstname surname \n",
       "   <chr>     <chr>   \n",
       " 1 Vivian    Hamilton\n",
       " 2 Karen     Holcomb \n",
       " 3 Cody      Garrett \n",
       " 4 Roth      Fry     \n",
       " 5 Zoe       Conway  \n",
       " 6 Gretchen  Kinney  \n",
       " 7 Driscoll  Klein   \n",
       " 8 Karyn     Diaz    \n",
       " 9 Merritt   Guy     \n",
       "10 Kylan     Sexton  \n",
       "# … with more rows\n"
      ]
     },
     "metadata": {},
     "output_type": "display_data"
    }
   ],
   "source": [
    "%%R\n",
    "##\n",
    "## Selección de varias columnas\n",
    "##\n",
    "select(df, c('firstname', 'surname'))"
   ]
  },
  {
   "cell_type": "code",
   "execution_count": 21,
   "metadata": {},
   "outputs": [
    {
     "data": {
      "text/plain": [
       "# Source: spark<?> [?? x 6]\n",
       "     id firstname surname birthdate           color quantity\n",
       "  <int> <chr>     <chr>   <dttm>              <chr>    <int>\n",
       "1     5 Zoe       Conway  1974-07-03 00:00:00 blue         2\n",
       "2     7 Driscoll  Klein   1970-10-05 00:00:00 blue         5\n",
       "3    15 Hope      Silva   1970-07-01 00:00:00 blue         5\n"
      ]
     },
     "metadata": {},
     "output_type": "display_data"
    }
   ],
   "source": [
    "%%R\n",
    "##\n",
    "## Filtrado de registros usando condicionales\n",
    "##\n",
    "filter(df, color == 'blue')"
   ]
  },
  {
   "cell_type": "code",
   "execution_count": 22,
   "metadata": {},
   "outputs": [
    {
     "data": {
      "text/plain": [
       "   id firstname  surname  birthdate  color quantity\n",
       "1   1    Vivian Hamilton 1971-07-08  green        1\n",
       "2   2     Karen  Holcomb 1974-05-23  green        4\n",
       "3   3      Cody  Garrett 1973-04-22 orange        1\n",
       "4   4      Roth      Fry 1975-01-29  black        1\n",
       "5   5       Zoe   Conway 1974-07-03   blue        2\n",
       "6   6  Gretchen   Kinney 1974-10-18 violet        1\n",
       "7   7  Driscoll    Klein 1970-10-05   blue        5\n",
       "8   8     Karyn     Diaz 1969-02-24    red        1\n",
       "9   9   Merritt      Guy 1974-10-17 indigo        4\n",
       "10 10     Kylan   Sexton 1975-02-28  black        4\n",
       "11 11    Jordan    Estes 1969-12-07 indigo        4\n",
       "12 12      Hope   Coffey 1973-12-24  green        5\n",
       "13 13    Vivian    Crane 1970-08-27   gray        5\n",
       "14 14      Clio     Noel 1972-12-12    red        5\n",
       "15 15      Hope    Silva 1970-07-01   blue        5\n",
       "16 16    Ayanna   Jarvis 1974-02-11 orange        5\n",
       "17 17    Chanda    Boyer 1973-04-01  green        4\n",
       "18 18  Chadwick   Knight 1973-04-29 yellow        1\n"
      ]
     },
     "metadata": {},
     "output_type": "display_data"
    }
   ],
   "source": [
    "%%R\n",
    "##\n",
    "## Consultas\n",
    "##\n",
    "\n",
    "## Se realiza la consulta usando directamente SQL\n",
    "DBI::dbGetQuery(sc, 'SELECT * FROM people')\n"
   ]
  },
  {
   "cell_type": "code",
   "execution_count": 23,
   "metadata": {},
   "outputs": [
    {
     "data": {
      "text/plain": [
       "# Source:     spark<?> [?? x 6]\n",
       "# Ordered by: desc(firstname)\n",
       "      id firstname surname  birthdate           color  quantity\n",
       "   <int> <chr>     <chr>    <dttm>              <chr>     <int>\n",
       " 1     5 Zoe       Conway   1974-07-03 00:00:00 blue          2\n",
       " 2    13 Vivian    Crane    1970-08-27 00:00:00 gray          5\n",
       " 3     1 Vivian    Hamilton 1971-07-08 00:00:00 green         1\n",
       " 4     4 Roth      Fry      1975-01-29 00:00:00 black         1\n",
       " 5     9 Merritt   Guy      1974-10-17 00:00:00 indigo        4\n",
       " 6    10 Kylan     Sexton   1975-02-28 00:00:00 black         4\n",
       " 7     8 Karyn     Diaz     1969-02-24 00:00:00 red           1\n",
       " 8     2 Karen     Holcomb  1974-05-23 00:00:00 green         4\n",
       " 9    11 Jordan    Estes    1969-12-07 00:00:00 indigo        4\n",
       "10    12 Hope      Coffey   1973-12-24 00:00:00 green         5\n",
       "# … with more rows\n"
      ]
     },
     "metadata": {},
     "output_type": "display_data"
    }
   ],
   "source": [
    "%%R\n",
    "arrange(df, desc(firstname))"
   ]
  },
  {
   "cell_type": "code",
   "execution_count": 24,
   "metadata": {},
   "outputs": [
    {
     "data": {
      "text/plain": [
       "# Source: spark<?> [?? x 6]\n",
       "      id firstname surname  birthdate           color  quantity\n",
       "   <int> <chr>     <chr>    <dttm>              <chr>     <int>\n",
       " 1    18 Chadwick  Knight   1973-04-29 00:00:00 yellow        1\n",
       " 2     3 Cody      Garrett  1973-04-22 00:00:00 orange        1\n",
       " 3     6 Gretchen  Kinney   1974-10-18 00:00:00 violet        1\n",
       " 4     8 Karyn     Diaz     1969-02-24 00:00:00 red           1\n",
       " 5     4 Roth      Fry      1975-01-29 00:00:00 black         1\n",
       " 6     1 Vivian    Hamilton 1971-07-08 00:00:00 green         1\n",
       " 7     5 Zoe       Conway   1974-07-03 00:00:00 blue          2\n",
       " 8    17 Chanda    Boyer    1973-04-01 00:00:00 green         4\n",
       " 9    11 Jordan    Estes    1969-12-07 00:00:00 indigo        4\n",
       "10     2 Karen     Holcomb  1974-05-23 00:00:00 green         4\n",
       "# … with more rows\n"
      ]
     },
     "metadata": {},
     "output_type": "display_data"
    }
   ],
   "source": [
    "%%R\n",
    "sdf_sort(df, c('quantity', 'firstname'))"
   ]
  },
  {
   "cell_type": "code",
   "execution_count": 25,
   "metadata": {},
   "outputs": [
    {
     "data": {
      "text/plain": [
       "# Source: spark<?> [?? x 1]\n",
       "  `mean(quantity)`\n",
       "             <dbl>\n",
       "1             3.22\n"
      ]
     },
     "metadata": {},
     "output_type": "display_data"
    }
   ],
   "source": [
    "%%R\n",
    "summarise(df, mean(quantity))"
   ]
  },
  {
   "cell_type": "code",
   "execution_count": 26,
   "metadata": {},
   "outputs": [
    {
     "data": {
      "text/plain": [
       "# Source: spark<?> [?? x 7]\n",
       "      id firstname surname  birthdate           color  quantity  prod\n",
       "   <int> <chr>     <chr>    <dttm>              <chr>     <int> <dbl>\n",
       " 1     1 Vivian    Hamilton 1971-07-08 00:00:00 green         1    10\n",
       " 2     2 Karen     Holcomb  1974-05-23 00:00:00 green         4    40\n",
       " 3     3 Cody      Garrett  1973-04-22 00:00:00 orange        1    10\n",
       " 4     4 Roth      Fry      1975-01-29 00:00:00 black         1    10\n",
       " 5     5 Zoe       Conway   1974-07-03 00:00:00 blue          2    20\n",
       " 6     6 Gretchen  Kinney   1974-10-18 00:00:00 violet        1    10\n",
       " 7     7 Driscoll  Klein    1970-10-05 00:00:00 blue          5    50\n",
       " 8     8 Karyn     Diaz     1969-02-24 00:00:00 red           1    10\n",
       " 9     9 Merritt   Guy      1974-10-17 00:00:00 indigo        4    40\n",
       "10    10 Kylan     Sexton   1975-02-28 00:00:00 black         4    40\n",
       "# … with more rows\n"
      ]
     },
     "metadata": {},
     "output_type": "display_data"
    }
   ],
   "source": [
    "%%R\n",
    "mutate(df, prod=quantity*10)"
   ]
  },
  {
   "cell_type": "code",
   "execution_count": 27,
   "metadata": {},
   "outputs": [
    {
     "data": {
      "text/plain": [
       "# Source: spark<?> [?? x 3]\n",
       "  color  count mean_quantity\n",
       "  <chr>  <dbl>         <dbl>\n",
       "1 blue       3           4  \n",
       "2 yellow     1           1  \n",
       "3 green      4           3.5\n",
       "4 orange     2           3  \n",
       "5 black      2           2.5\n",
       "6 indigo     2           4  \n",
       "7 violet     1           1  \n",
       "8 red        2           3  \n",
       "9 gray       1           5  \n"
      ]
     },
     "metadata": {},
     "output_type": "display_data"
    }
   ],
   "source": [
    "%%R\n",
    "result <- summarize(group_by(df, color), count=n(), mean_quantity=mean(quantity))\n",
    "result"
   ]
  },
  {
   "cell_type": "code",
   "execution_count": 28,
   "metadata": {},
   "outputs": [
    {
     "data": {
      "text/plain": [
       "SELECT `color`, count(*) AS `count`, AVG(`quantity`) AS `mean_quantity`\n",
       "FROM `people`\n",
       "GROUP BY `color`"
      ]
     },
     "metadata": {},
     "output_type": "display_data"
    }
   ],
   "source": [
    "%%R\n",
    "cat(dbplyr::sql_render(result))"
   ]
  },
  {
   "cell_type": "code",
   "execution_count": 29,
   "metadata": {},
   "outputs": [
    {
     "data": {
      "text/plain": [
       "# Source: spark<?> [?? x 3]\n",
       "  color  count mean_quantity\n",
       "  <chr>  <dbl>         <dbl>\n",
       "1 blue       3           4  \n",
       "2 yellow     1           1  \n",
       "3 green      4           3.5\n",
       "4 orange     2           3  \n",
       "5 black      2           2.5\n",
       "6 indigo     2           4  \n",
       "7 violet     1           1  \n",
       "8 red        2           3  \n",
       "9 gray       1           5  \n"
      ]
     },
     "metadata": {},
     "output_type": "display_data"
    }
   ],
   "source": [
    "%%R\n",
    "df %>% group_by(color) %>% summarize(count = n(), mean_quantity = mean(quantity))"
   ]
  },
  {
   "cell_type": "code",
   "execution_count": 30,
   "metadata": {},
   "outputs": [
    {
     "data": {
      "text/plain": [
       "# Source: spark<?> [?? x 1]\n",
       "  `max(quantity)`\n",
       "            <int>\n",
       "1               5\n"
      ]
     },
     "metadata": {},
     "output_type": "display_data"
    }
   ],
   "source": [
    "%%R\n",
    "summarise(df, max(quantity))"
   ]
  },
  {
   "cell_type": "code",
   "execution_count": 31,
   "metadata": {},
   "outputs": [],
   "source": [
    "!hdfs dfs -rm  -r -f /tmp/demo/"
   ]
  },
  {
   "cell_type": "code",
   "execution_count": 32,
   "metadata": {},
   "outputs": [],
   "source": [
    "%%R\n",
    "spark_write_csv(filter(df, color == 'blue'),\n",
    "                path='/tmp/demo/',\n",
    "                delimiter = \",\",\n",
    "                quote = '\\\"')"
   ]
  },
  {
   "cell_type": "code",
   "execution_count": 33,
   "metadata": {},
   "outputs": [
    {
     "name": "stdout",
     "output_type": "stream",
     "text": [
      "Found 2 items\n",
      "-rw-r--r--   1 root supergroup          0 2019-07-30 21:44 /tmp/demo/_SUCCESS\n",
      "-rw-r--r--   1 root supergroup        186 2019-07-30 21:44 /tmp/demo/part-00000-8186cc5d-f4c1-4edc-8c7f-d855c4dd7acc-c000.csv\n"
     ]
    }
   ],
   "source": [
    "!hdfs dfs -ls /tmp/demo/"
   ]
  },
  {
   "cell_type": "markdown",
   "metadata": {},
   "source": [
    "## Ejemplos"
   ]
  },
  {
   "cell_type": "markdown",
   "metadata": {},
   "source": [
    "Los siguientes ejemplos son realizados usando el archivo `people.json` creado al principio de este tutorial."
   ]
  },
  {
   "cell_type": "code",
   "execution_count": 34,
   "metadata": {},
   "outputs": [],
   "source": [
    "%%R\n",
    "df <- spark_read_csv(sc,                 # spark_connection\n",
    "                     'people',           # nombre de la tabla\n",
    "                     '/tmp/people.csv')  # ubicación del archivo"
   ]
  },
  {
   "cell_type": "markdown",
   "metadata": {},
   "source": [
    "### Ejemplo 1\n",
    "\n",
    "Seleccione las personas cuya fecha de nacimiento sea del año 1974 en adelante."
   ]
  },
  {
   "cell_type": "code",
   "execution_count": 35,
   "metadata": {},
   "outputs": [
    {
     "data": {
      "text/plain": [
       "# Source: spark<?> [?? x 6]\n",
       "     id firstname surname birthdate           color  quantity\n",
       "  <int> <chr>     <chr>   <dttm>              <chr>     <int>\n",
       "1     2 Karen     Holcomb 1974-05-23 00:00:00 green         4\n",
       "2     4 Roth      Fry     1975-01-29 00:00:00 black         1\n",
       "3     5 Zoe       Conway  1974-07-03 00:00:00 blue          2\n",
       "4     6 Gretchen  Kinney  1974-10-18 00:00:00 violet        1\n",
       "5     9 Merritt   Guy     1974-10-17 00:00:00 indigo        4\n",
       "6    10 Kylan     Sexton  1975-02-28 00:00:00 black         4\n",
       "7    16 Ayanna    Jarvis  1974-02-11 00:00:00 orange        5\n"
      ]
     },
     "metadata": {},
     "output_type": "display_data"
    }
   ],
   "source": [
    "%%R\n",
    "##\n",
    "## Se usa la función filter() del DataFrame\n",
    "##\n",
    "filter(df, birthdate >= '1974')"
   ]
  },
  {
   "cell_type": "code",
   "execution_count": 36,
   "metadata": {},
   "outputs": [
    {
     "data": {
      "text/plain": [
       "  id firstname surname  birthdate  color quantity\n",
       "1  2     Karen Holcomb 1974-05-23  green        4\n",
       "2  4      Roth     Fry 1975-01-29  black        1\n",
       "3  5       Zoe  Conway 1974-07-03   blue        2\n",
       "4  6  Gretchen  Kinney 1974-10-18 violet        1\n",
       "5  9   Merritt     Guy 1974-10-17 indigo        4\n",
       "6 10     Kylan  Sexton 1975-02-28  black        4\n",
       "7 16    Ayanna  Jarvis 1974-02-11 orange        5\n"
      ]
     },
     "metadata": {},
     "output_type": "display_data"
    }
   ],
   "source": [
    "%%R\n",
    "##\n",
    "## Se crea una vista temporal para ejecutar\n",
    "## una consulta SQL sobre ella\n",
    "##\n",
    "DBI::dbGetQuery(sc, 'SELECT * FROM people WHERE YEAR(birthdate) >= 1974')"
   ]
  },
  {
   "cell_type": "markdown",
   "metadata": {},
   "source": [
    "### Ejemplo 2\n",
    "\n",
    "Obtenga una lista de colores únicos."
   ]
  },
  {
   "cell_type": "code",
   "execution_count": 37,
   "metadata": {},
   "outputs": [
    {
     "data": {
      "text/plain": [
       "# Source: spark<?> [?? x 1]\n",
       "  color \n",
       "  <chr> \n",
       "1 blue  \n",
       "2 yellow\n",
       "3 green \n",
       "4 orange\n",
       "5 black \n",
       "6 indigo\n",
       "7 violet\n",
       "8 red   \n",
       "9 gray  \n"
      ]
     },
     "metadata": {},
     "output_type": "display_data"
    }
   ],
   "source": [
    "%%R\n",
    "##\n",
    "## Se usa la función distinct() del DataFrame\n",
    "##\n",
    "distinct(select(df, 'color'))"
   ]
  },
  {
   "cell_type": "code",
   "execution_count": 38,
   "metadata": {},
   "outputs": [
    {
     "data": {
      "text/plain": [
       "   color\n",
       "1   blue\n",
       "2 yellow\n",
       "3  green\n",
       "4 orange\n",
       "5  black\n",
       "6 indigo\n",
       "7 violet\n",
       "8    red\n",
       "9   gray\n"
      ]
     },
     "metadata": {},
     "output_type": "display_data"
    }
   ],
   "source": [
    "%%R\n",
    "##\n",
    "## Como una consulta \n",
    "##\n",
    "DBI::dbGetQuery(sc, 'SELECT DISTINCT(color) FROM people')"
   ]
  },
  {
   "cell_type": "markdown",
   "metadata": {},
   "source": [
    "### Ejemplo 3\n",
    "\n",
    "Ordene la tabla por cantidad y luego por color."
   ]
  },
  {
   "cell_type": "code",
   "execution_count": 39,
   "metadata": {},
   "outputs": [
    {
     "data": {
      "text/plain": [
       "# Source: spark<?> [?? x 6]\n",
       "      id firstname surname  birthdate           color quantity\n",
       "   <int> <chr>     <chr>    <dttm>              <chr>    <int>\n",
       " 1     4 Roth      Fry      1975-01-29 00:00:00 black        1\n",
       " 2    10 Kylan     Sexton   1975-02-28 00:00:00 black        4\n",
       " 3     5 Zoe       Conway   1974-07-03 00:00:00 blue         2\n",
       " 4     7 Driscoll  Klein    1970-10-05 00:00:00 blue         5\n",
       " 5    15 Hope      Silva    1970-07-01 00:00:00 blue         5\n",
       " 6    13 Vivian    Crane    1970-08-27 00:00:00 gray         5\n",
       " 7     1 Vivian    Hamilton 1971-07-08 00:00:00 green        1\n",
       " 8     2 Karen     Holcomb  1974-05-23 00:00:00 green        4\n",
       " 9    17 Chanda    Boyer    1973-04-01 00:00:00 green        4\n",
       "10    12 Hope      Coffey   1973-12-24 00:00:00 green        5\n",
       "# … with more rows\n"
      ]
     },
     "metadata": {},
     "output_type": "display_data"
    }
   ],
   "source": [
    "%%R\n",
    "##\n",
    "## Note que las funciones se aplican de derecha \n",
    "## a izquierda -- este ejemplo no corre en sparkR\n",
    "##\n",
    "sdf_sort(df, c('color', 'quantity'))"
   ]
  },
  {
   "cell_type": "code",
   "execution_count": 40,
   "metadata": {},
   "outputs": [
    {
     "data": {
      "text/plain": [
       "   id firstname  surname  birthdate  color quantity\n",
       "1   4      Roth      Fry 1975-01-29  black        1\n",
       "2   1    Vivian Hamilton 1971-07-08  green        1\n",
       "3   3      Cody  Garrett 1973-04-22 orange        1\n",
       "4   8     Karyn     Diaz 1969-02-24    red        1\n",
       "5   6  Gretchen   Kinney 1974-10-18 violet        1\n",
       "6  18  Chadwick   Knight 1973-04-29 yellow        1\n",
       "7   5       Zoe   Conway 1974-07-03   blue        2\n",
       "8  10     Kylan   Sexton 1975-02-28  black        4\n",
       "9   2     Karen  Holcomb 1974-05-23  green        4\n",
       "10 17    Chanda    Boyer 1973-04-01  green        4\n",
       "11  9   Merritt      Guy 1974-10-17 indigo        4\n",
       "12 11    Jordan    Estes 1969-12-07 indigo        4\n",
       "13  7  Driscoll    Klein 1970-10-05   blue        5\n",
       "14 15      Hope    Silva 1970-07-01   blue        5\n",
       "15 13    Vivian    Crane 1970-08-27   gray        5\n",
       "16 12      Hope   Coffey 1973-12-24  green        5\n",
       "17 16    Ayanna   Jarvis 1974-02-11 orange        5\n",
       "18 14      Clio     Noel 1972-12-12    red        5\n"
      ]
     },
     "metadata": {},
     "output_type": "display_data"
    }
   ],
   "source": [
    "%%R\n",
    "##\n",
    "## Como una consulta de SQL\n",
    "##\n",
    "DBI::dbGetQuery(sc, 'SELECT * FROM people ORDER BY quantity, color')"
   ]
  },
  {
   "cell_type": "markdown",
   "metadata": {},
   "source": [
    "**Limpieza del directorio de trabajo**"
   ]
  },
  {
   "cell_type": "code",
   "execution_count": 41,
   "metadata": {},
   "outputs": [
    {
     "name": "stdout",
     "output_type": "stream",
     "text": [
      "Deleted /tmp/demo\n",
      "Deleted /tmp/people.csv\n",
      "Deleted /tmp/people.json\n"
     ]
    }
   ],
   "source": [
    "!rm people.*\n",
    "!hdfs dfs -rm  -r -f /tmp/demo/\n",
    "!hdfs dfs -rm /tmp/people*"
   ]
  }
 ],
 "metadata": {
  "kernelspec": {
   "display_name": "Python 3",
   "language": "python",
   "name": "python3"
  },
  "language_info": {
   "codemirror_mode": {
    "name": "ipython",
    "version": 3
   },
   "file_extension": ".py",
   "mimetype": "text/x-python",
   "name": "python",
   "nbconvert_exporter": "python",
   "pygments_lexer": "ipython3",
   "version": "3.7.3"
  },
  "toc-autonumbering": false
 },
 "nbformat": 4,
 "nbformat_minor": 4
}
