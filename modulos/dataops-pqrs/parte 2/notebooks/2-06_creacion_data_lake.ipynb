{
 "cells": [
  {
   "cell_type": "markdown",
   "id": "7f8fcfa0-86dc-4739-959d-fe5dde256310",
   "metadata": {
    "tags": []
   },
   "source": [
    "Etapa 6 --- Migración a un data lake\n",
    "===\n",
    "\n",
    "* Ultima modificación: Mayo 14, 2022 | YouTube"
   ]
  },
  {
   "cell_type": "markdown",
   "id": "326621d9-1c92-4dde-b87d-fd6cf6e8bae8",
   "metadata": {},
   "source": [
    "Definición de la situación actual\n",
    "---"
   ]
  },
  {
   "cell_type": "markdown",
   "id": "e2b67e49-8ec8-486a-8483-35e6547b9ee3",
   "metadata": {},
   "source": [
    "![assets/luis-ingeniero-de-operaciones.png](assets/luis-ingeniero-de-operaciones.png)"
   ]
  },
  {
   "cell_type": "markdown",
   "id": "6ecb192c-4ba7-47c0-8926-a4a0b1b92db1",
   "metadata": {},
   "source": [
    "![assets/daniel-ingeniero-de-datos.png](assets/daniel-ingeniero-de-datos.png)"
   ]
  },
  {
   "cell_type": "markdown",
   "id": "93833160-9bda-491a-8a8e-53e4aa564a22",
   "metadata": {},
   "source": [
    "* Por el crecimiento de la compañía, se ha decidido migrar a una arquitectura de datos basada en un data lake que, por el momento estará disponible, estará disponible en el sistema local de la empresa.\n",
    "\n",
    "* Daniel, ingeniero de datos, es responsable por la implementación del data lake, y de la creación y automatización de las tuberías de datos para el flujo de la información.\n",
    "\n",
    "* El transaccional del pqrs no se afecta, ya que los sistemas de bases de datos continuan su operación normal.\n",
    "\n",
    "* Se decide modificar las demás aplicaciones existentes para que consuman la información del data lake."
   ]
  },
  {
   "cell_type": "markdown",
   "id": "58c69c86-8bbb-4e5c-b631-3d4a29594cd4",
   "metadata": {},
   "source": [
    "Problemas\n",
    "---"
   ]
  },
  {
   "cell_type": "markdown",
   "id": "2de9c525-8782-4b66-bc99-8d324a234be5",
   "metadata": {},
   "source": [
    "* Hay que automatizar la ejecución de las tuberías de datos.\n",
    "\n",
    "* El uso del data lake obliga a la modificación del código de los aplicativos. Sin embargo, esta tarea puede ser muy dificil si el código no es de calidad industrial.\n",
    "\n",
    "* Hay que garantizar que las modificaciones y adiciones de código en las tuberías de datos, y cambios en las arquitecturas de datos, no hagan fallar los demás aplicativos que consumen información "
   ]
  },
  {
   "cell_type": "markdown",
   "id": "489d8db3-3b9a-4d45-ba5e-904f0e496a9e",
   "metadata": {},
   "source": [
    "Arquitectura del data lake\n",
    "--"
   ]
  },
  {
   "cell_type": "markdown",
   "id": "347054a1-c541-4b12-9af5-6198edf44266",
   "metadata": {},
   "source": [
    "Los nombres de las carpetas pueden cambiar, pero la funcionalidad siempre es similar."
   ]
  },
  {
   "cell_type": "markdown",
   "id": "657cc08b-ca8b-42bc-a368-96fab83870f3",
   "metadata": {},
   "source": [
    "```\n",
    ".\n",
    "|___ data_lake/\n",
    "  |___ landing/             # datos en bruto (validos y no validos) \n",
    "  | |___ data_source_1/\n",
    "  | |___ data_source_2/\n",
    "  | ...\n",
    "  |\n",
    "  |___ raw/ \n",
    "  | |___ data_source_1/     # datos validos (sin limpiar) en formato nativo\n",
    "  | |___ data_source_2/     # posiblemente categorizados segun necesidad\n",
    "  | ...\n",
    "  |\n",
    "  |___ clean/               # datos listos para consumo con un formato \n",
    "  | |___ dir1/              # optimizado para su consumo por otras aplicaciones\n",
    "  | |___ dir2/              # categorizados por area/objetivo y particionados\n",
    "  | |___ dir3/              # si es requerido\n",
    "  | ...\n",
    "  |\n",
    "  |___ business/            # capas especificas para aplicaciones como reporteria\n",
    "    |___ dir1/              # y dashboards, y consumo por equipos de trabajo como\n",
    "    |___ dir2/              # data science y business intelligence.\n",
    "    |___ dir3/\n",
    "    ...\n",
    "```"
   ]
  },
  {
   "cell_type": "markdown",
   "id": "b654e809-a766-475f-ad82-05a5b76f4a40",
   "metadata": {},
   "source": [
    "Tubería full_copy_from_csv.py\n",
    "--"
   ]
  },
  {
   "cell_type": "markdown",
   "id": "cfb1600a-a8d9-48a9-b2c7-0020b2d11528",
   "metadata": {
    "tags": []
   },
   "source": [
    "* Se utiliza para mover archivos completos CSV al data lake.\n",
    "\n",
    "* En la práctica existen tuberías equivalentes para llevar tablas completas de una base de datos al data lake.\n",
    "\n",
    "* Tambien se usan para mover todos los archivos de una carpeta del data lake a otra.\n",
    "\n",
    "* El código es genérico y se parametriza indicando la fuente y el destino, así como la frecuencia de ejecución."
   ]
  },
  {
   "cell_type": "markdown",
   "id": "0b99e782-0e53-4caa-8c7e-16c3e3b673a2",
   "metadata": {},
   "source": [
    "Tubería incremental_copy_from_csv.py\n",
    "--"
   ]
  },
  {
   "cell_type": "markdown",
   "id": "bc247958-3f95-4a69-9381-5f0bbd72901f",
   "metadata": {},
   "source": [
    "* Se usa para mover los datos que se han adicionado en un archivo desde la última copia al destino.\n",
    "\n",
    "* Se suele usar un campo `last_modified` como estrategía para determinar cuales son los registros modificados o los registros nuevos en la tabla de origen.\n",
    "\n",
    "* Se copian únicamente los registros modificados al destino en un archivo nuevo, de tal forma que se pueda llevar el histórico de las copias.\n",
    "\n",
    "* En la práctica exiten tuberías incrementales para mover los registros nuevos o modificados desde fuentes como bases de datos."
   ]
  },
  {
   "cell_type": "markdown",
   "id": "1f8bb0a9-66c2-4f59-beaf-596d69211934",
   "metadata": {},
   "source": [
    "Repositorio en GitHub\n",
    "---"
   ]
  },
  {
   "cell_type": "markdown",
   "id": "d962ad7a-cbf2-4ed4-90f9-82be76f2cc5d",
   "metadata": {},
   "source": [
    "El código completo de este documento se encuentra disponible en:\n",
    "\n",
    "https://github.com/jdvelasq/dataops-pqrs-data-lake"
   ]
  },
  {
   "cell_type": "markdown",
   "id": "c87a7e2c-161d-4038-8f1b-426766498a29",
   "metadata": {},
   "source": [
    "```bash\n",
    "$ make -C user_simulation/ restart\n",
    "\n",
    "$ make -C data_pipelines/ full_ingest\n",
    "\n",
    "$ ls data_lake/landing/pqrs/\n",
    "requests_table.....csv\n",
    "```"
   ]
  },
  {
   "cell_type": "markdown",
   "id": "d5a064bf-7c87-433e-985f-8211db1dd93f",
   "metadata": {},
   "source": [
    "![assets/example-06-00.png](assets/example-06-00.png)"
   ]
  },
  {
   "cell_type": "markdown",
   "id": "5d707a67-12d9-43dd-a590-98c086799d93",
   "metadata": {},
   "source": [
    "```bash\n",
    "$ make -C user_simulation/\n",
    "\n",
    "$ make -C data_pipelines/\n",
    "\n",
    "$ ls data_lake/landing/pqrs/\n",
    "requests_table.....csv\n",
    "requests_table.....csv\n",
    "```"
   ]
  },
  {
   "cell_type": "markdown",
   "id": "d70a2454-df96-4313-a4b0-97147d637f8e",
   "metadata": {},
   "source": [
    "![assets/example-06-01.png](assets/example-06-01.png)"
   ]
  }
 ],
 "metadata": {
  "kernelspec": {
   "display_name": "Python 3 (ipykernel)",
   "language": "python",
   "name": "python3"
  },
  "language_info": {
   "codemirror_mode": {
    "name": "ipython",
    "version": 3
   },
   "file_extension": ".py",
   "mimetype": "text/x-python",
   "name": "python",
   "nbconvert_exporter": "python",
   "pygments_lexer": "ipython3",
   "version": "3.8.10"
  }
 },
 "nbformat": 4,
 "nbformat_minor": 5
}
