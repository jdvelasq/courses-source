{
    "cells": [
        {
            "cell_type": "markdown",
            "id": "7f8fcfa0-86dc-4739-959d-fe5dde256310",
            "metadata": {
                "tags": []
            },
            "source": [
                "Etapa 4 --- Incorporación de los analistas de inteligencia de negocios\n",
                "===\n",
                "\n",
                "* Ultima modificación: Mayo 14, 2022 | YouTube"
            ]
        },
        {
            "cell_type": "markdown",
            "id": "326621d9-1c92-4dde-b87d-fd6cf6e8bae8",
            "metadata": {},
            "source": [
                "Definición de la situación actual\n",
                "---"
            ]
        },
        {
            "cell_type": "markdown",
            "id": "e2b67e49-8ec8-486a-8483-35e6547b9ee3",
            "metadata": {},
            "source": [
                "![assets/laura-atencion-al-cliente.png](assets/laura-atencion-al-cliente.png)"
            ]
        },
        {
            "cell_type": "markdown",
            "id": "6ecb192c-4ba7-47c0-8926-a4a0b1b92db1",
            "metadata": {},
            "source": [
                "![assets/claudia-analista-de-inteligencia-de-negocios.png](assets/claudia-analista-de-inteligencia-de-negocios.png)"
            ]
        },
        {
            "cell_type": "markdown",
            "id": "39e7dc54-0522-4fd6-8950-8185df34fb45",
            "metadata": {},
            "source": [
                "* El trabajo de los analistas de datos ha traido beneficio al equipo y con la llegada de los analistas de inteligencia de negocios se espera tener mejor información para la toma de decisiones."
            ]
        },
        {
            "cell_type": "markdown",
            "id": "f44af4a2-61fd-4e13-bade-05d42cc00819",
            "metadata": {},
            "source": [
                "Desarrollo del nuevo reporte.\n",
                "---"
            ]
        },
        {
            "cell_type": "markdown",
            "id": "a47b02b5-4e8c-4247-b9ff-1f51ed71a311",
            "metadata": {},
            "source": [
                "Claudia desarrollará un nuevo reporte usando Jupyter (u otra herramieta como Tableau o Power BI). El reporte es un avance claro que mejora la información disponibles para tomar decisiones."
            ]
        },
        {
            "cell_type": "markdown",
            "id": "d7a7e3d7-fabb-400e-86d2-93c59e86e422",
            "metadata": {},
            "source": [
                "Sin embargo, muchos de los problemas ya detectados permanecen."
            ]
        },
        {
            "cell_type": "markdown",
            "id": "8c829c23-0997-423d-b2c8-b2b2b288f42f",
            "metadata": {},
            "source": [
                "Adicionalmente, debe construir los reportes el lunes a primera hora, para poder entregar información filedigna de la situación actual en la reunión de las 9:00 am."
            ]
        },
        {
            "cell_type": "markdown",
            "id": "ab6507eb-3ba2-4947-b0e7-f0ff4f677dbd",
            "metadata": {},
            "source": [
                "Otros problemas\n",
                "---"
            ]
        },
        {
            "cell_type": "markdown",
            "id": "aab20e9f-a405-4677-aa1d-3279409d21b1",
            "metadata": {},
            "source": [
                "Qué pasa si:\n",
                "\n",
                "* Claudia se enferma o se retira de la compañía.\n",
                "\n",
                "* Hay cambios en el transaccional, como cambios de nombres de campos, o actualización de librerías.\n",
                "\n",
                "* Se daña la conexión al transaccional.\n",
                "\n",
                "* Falla el equipo de Claudia."
            ]
        },
        {
            "cell_type": "markdown",
            "id": "1f8bb0a9-66c2-4f59-beaf-596d69211934",
            "metadata": {},
            "source": [
                "Repositorio en GitHub\n",
                "---"
            ]
        },
        {
            "cell_type": "markdown",
            "id": "d962ad7a-cbf2-4ed4-90f9-82be76f2cc5d",
            "metadata": {},
            "source": [
                "El código completo de este documento se encuentra disponible en:\n",
                "\n",
                "https://github.com/jdvelasq/dataops-pqrs-example"
            ]
        },
        {
            "cell_type": "markdown",
            "id": "0bdae07a-cbd7-4e25-b936-ec0436603ad4",
            "metadata": {},
            "source": [
                "**Libro de Jupyter Notebook**\n",
                "\n",
                "\n",
                "https://github.com/jdvelasq/dataops-pqrs-example/blob/main/business_intelligence/bi_report.ipynb"
            ]
        },
        {
            "cell_type": "markdown",
            "id": "c8a1c3e0-8558-4985-878b-3b503759c882",
            "metadata": {},
            "source": [
                "![assets/example-04-00.png](assets/example-04-00.png)"
            ]
        }
    ],
    "metadata": {
        "kernelspec": {
            "display_name": "Python 3 (ipykernel)",
            "language": "python",
            "name": "python3"
        },
        "language_info": {
            "codemirror_mode": {
                "name": "ipython",
                "version": 3
            },
            "file_extension": ".py",
            "mimetype": "text/x-python",
            "name": "python",
            "nbconvert_exporter": "python",
            "pygments_lexer": "ipython3",
            "version": "3.8.10"
        }
    },
    "nbformat": 4,
    "nbformat_minor": 5
}
