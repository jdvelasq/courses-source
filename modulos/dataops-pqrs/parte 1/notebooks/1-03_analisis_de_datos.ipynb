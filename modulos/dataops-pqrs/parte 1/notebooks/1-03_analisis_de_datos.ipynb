{
    "cells": [
        {
            "cell_type": "markdown",
            "id": "7f8fcfa0-86dc-4739-959d-fe5dde256310",
            "metadata": {
                "tags": []
            },
            "source": [
                "Etapa 3 --- Incorporación de los analistas de datos\n",
                "===\n",
                "\n",
                "* Ultima modificación: Mayo 14, 2022 | YouTube"
            ]
        },
        {
            "cell_type": "markdown",
            "id": "326621d9-1c92-4dde-b87d-fd6cf6e8bae8",
            "metadata": {},
            "source": [
                "Definición de la situación actual\n",
                "---"
            ]
        },
        {
            "cell_type": "markdown",
            "id": "e2b67e49-8ec8-486a-8483-35e6547b9ee3",
            "metadata": {},
            "source": [
                "![assets/laura-atencion-al-cliente.png](assets/laura-atencion-al-cliente.png)"
            ]
        },
        {
            "cell_type": "markdown",
            "id": "6ecb192c-4ba7-47c0-8926-a4a0b1b92db1",
            "metadata": {},
            "source": [
                "![assets/claudia-analista-de-datos.png](assets/claudia-analista-de-datos.png)"
            ]
        },
        {
            "cell_type": "markdown",
            "id": "39e7dc54-0522-4fd6-8950-8185df34fb45",
            "metadata": {},
            "source": [
                "* Laura se encuentra sofocada con los constantes llamados de antención de Control Interno sobre el equipo.\n",
                "\n",
                "* Recientement, Claudia se incorporó al equipo para ayudar a la gestión de la información y sumar capacidades analíticas a las tareas en línea.\n",
                "\n",
                "* Laura solicita a Clauida que prepare un informe semanal, que debe entregarle el lunes a las 9:00 am sobre el avance de la atención de las PQRS. Claudia espera usar esta información para gestionar mejor el equipo y evitar aliviar los cuellos de botella en la atención de los documentos. La información podría servirle para justificar la incorporación de nuevo personal al departamento de atención al cliente."
            ]
        },
        {
            "cell_type": "markdown",
            "id": "f44af4a2-61fd-4e13-bade-05d42cc00819",
            "metadata": {},
            "source": [
                "Desarrollo del reporte de avance.\n",
                "---"
            ]
        },
        {
            "cell_type": "markdown",
            "id": "a47b02b5-4e8c-4247-b9ff-1f51ed71a311",
            "metadata": {},
            "source": [
                "Claudia desarrollará el reporte usando Python (con Jupyter, pero acá se hará directamente en Python por facilidad). El reporte indicará la cantidad de documentos en los diferentes estados."
            ]
        },
        {
            "cell_type": "markdown",
            "id": "d7a7e3d7-fabb-400e-86d2-93c59e86e422",
            "metadata": {},
            "source": [
                "Se presentan retrazos debido a que:\n",
                "\n",
                "* TI debe configurar la máquina y establecer permisos para que Claudia pueda desarrollar los scripts en su máquina.\n",
                "\n",
                "* Luis debe entregar una copia local de la tabla transaccional para que Clauida desarrolle y pruebe el programa.\n",
                "\n",
                "* Una vez se han desarrollado los scripts, Clauida debe esperar los permisos para consultar directamente el transaccional. Afortunadamente, Luis no es responsable de ejecutar este informe, el cual se realiza con mucha más frecuencia que la prepración de informes para control interno, los cuales también son su responsabilidad."
            ]
        },
        {
            "cell_type": "markdown",
            "id": "8c829c23-0997-423d-b2c8-b2b2b288f42f",
            "metadata": {},
            "source": [
                "Adicionalmente, debe construir los reportes el lunes a primera hora, para poder entregar información filedigna de la situación actual en la reunión de las 9:00 am."
            ]
        },
        {
            "cell_type": "markdown",
            "id": "ab6507eb-3ba2-4947-b0e7-f0ff4f677dbd",
            "metadata": {},
            "source": [
                "Otros problemas\n",
                "---"
            ]
        },
        {
            "cell_type": "markdown",
            "id": "aab20e9f-a405-4677-aa1d-3279409d21b1",
            "metadata": {},
            "source": [
                "Qué pasa si:\n",
                "\n",
                "* Claudia se enferma o se retira de la compañía.\n",
                "\n",
                "* Hay cambios en el transaccional, como cambios de nombres de campos, o actualización de librerías.\n",
                "\n",
                "* Se daña la conexión al transaccional.\n",
                "\n",
                "* Falla el equipo de Claudia."
            ]
        },
        {
            "cell_type": "markdown",
            "id": "1f8bb0a9-66c2-4f59-beaf-596d69211934",
            "metadata": {},
            "source": [
                "Repositorio en GitHub\n",
                "---"
            ]
        },
        {
            "cell_type": "markdown",
            "id": "d962ad7a-cbf2-4ed4-90f9-82be76f2cc5d",
            "metadata": {},
            "source": [
                "El código completo de este documento se encuentra disponible en:\n",
                "\n",
                "https://github.com/jdvelasq/dataops-pqrs-example"
            ]
        },
        {
            "cell_type": "markdown",
            "id": "057d8659-45ab-4609-8779-40f735d17acf",
            "metadata": {},
            "source": [
                "**internal_control/Makefile**\n",
                "\n",
                "https://github.com/jdvelasq/dataops-pqrs-example/blob/main/internal_control/Makefile"
            ]
        },
        {
            "cell_type": "markdown",
            "id": "a075136f-a196-4658-88ca-6c760572fbb8",
            "metadata": {},
            "source": [
                "**data_analysis/data_analysis.py**\n",
                "\n",
                "https://github.com/jdvelasq/dataops-pqrs-example/blob/main/internal_control/data_analysis_report.py"
            ]
        },
        {
            "cell_type": "markdown",
            "id": "47f87dc6-0e48-4e1d-9c3d-88d3b663828f",
            "metadata": {},
            "source": [
                "Ejemplo\n",
                "---"
            ]
        },
        {
            "cell_type": "markdown",
            "id": "24a80734-e9f4-4573-83f6-70b10ca73f32",
            "metadata": {},
            "source": [
                "Se ejecutan en el directorio raíz del repo:"
            ]
        },
        {
            "cell_type": "markdown",
            "id": "d2a8042f-8d84-413f-aea9-ca4ab5266982",
            "metadata": {},
            "source": [
                "```bash\n",
                "$ make -C user_simulation restart\n",
                "```"
            ]
        },
        {
            "cell_type": "markdown",
            "id": "c8a1c3e0-8558-4985-878b-3b503759c882",
            "metadata": {},
            "source": [
                "![assets/example-03-00.png](assets/example-03-00.png)"
            ]
        },
        {
            "cell_type": "markdown",
            "id": "02a90aab-c412-4b8e-bcad-89b164407e12",
            "metadata": {},
            "source": [
                "```bash\n",
                "$ make -C data_analysis\n",
                "```"
            ]
        },
        {
            "cell_type": "markdown",
            "id": "0eddb7d0-5d55-4db7-ab12-a6dbaf5826b6",
            "metadata": {},
            "source": [
                "![assets/example-03-01.png](assets/example-03-01.png)"
            ]
        },
        {
            "cell_type": "markdown",
            "id": "c9fd40f5-73b5-46fa-9731-ca8ddb4d3d71",
            "metadata": {},
            "source": [
                "```bash\n",
                "$ cat reports/status*\n",
                "```"
            ]
        },
        {
            "cell_type": "markdown",
            "id": "3ef7c9d0-389c-419a-9717-70077c726436",
            "metadata": {},
            "source": [
                "![assets/example-03-02.png](assets/example-03-02.png)"
            ]
        },
        {
            "cell_type": "markdown",
            "id": "c1642810-357a-4124-b314-d6f6f1758481",
            "metadata": {},
            "source": [
                "```bash\n",
                "$ cat reports/days*\n",
                "```"
            ]
        },
        {
            "cell_type": "markdown",
            "id": "fd5ec5f8-59b7-4727-b90b-18fe53b88182",
            "metadata": {},
            "source": [
                "![assets/example-03-03.png](assets/example-03-03.png)"
            ]
        }
    ],
    "metadata": {
        "kernelspec": {
            "display_name": "Python 3 (ipykernel)",
            "language": "python",
            "name": "python3"
        },
        "language_info": {
            "codemirror_mode": {
                "name": "ipython",
                "version": 3
            },
            "file_extension": ".py",
            "mimetype": "text/x-python",
            "name": "python",
            "nbconvert_exporter": "python",
            "pygments_lexer": "ipython3",
            "version": "3.8.10"
        }
    },
    "nbformat": 4,
    "nbformat_minor": 5
}
