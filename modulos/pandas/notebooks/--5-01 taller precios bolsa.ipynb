{
 "cells": [
  {
   "cell_type": "markdown",
   "id": "d15fd7a9-a1aa-4ac0-99e8-cac3b53414b5",
   "metadata": {},
   "source": [
    "Taller: Precios de la electricidad en la bolsa de energía\n",
    "===\n",
    "\n",
    "*Diplomado en Analítica para Mercados de Energía*"
   ]
  },
  {
   "cell_type": "markdown",
   "metadata": {},
   "source": [
    "La carpeta `https://raw.githubusercontent.com/jdvelasq/datalabs/master/datasets/precio_bolsa_nacional/csv/*.csv` contiene los precios de la electricidad de la bolsa de energía."
   ]
  },
  {
   "cell_type": "markdown",
   "metadata": {},
   "source": [
    "Punto 1\n",
    "---\n",
    "\n",
    "Lea los archivos directamente desde la web y concatenelos."
   ]
  },
  {
   "cell_type": "markdown",
   "metadata": {},
   "source": [
    "Punto 2\n",
    "----\n",
    "\n",
    "Compute los precios promedios diarios."
   ]
  },
  {
   "cell_type": "markdown",
   "metadata": {},
   "source": [
    "Punto 3\n",
    "---\n",
    "\n",
    "Compute los precios prmedios mensuales."
   ]
  },
  {
   "cell_type": "markdown",
   "metadata": {},
   "source": [
    "Punto 4\n",
    "---\n",
    "\n",
    "Compute el promedio mensual de los dias laborales (lunes a viernes)."
   ]
  },
  {
   "cell_type": "markdown",
   "metadata": {},
   "source": [
    "Punto 5\n",
    "---\n",
    "\n",
    "Compute el valor máximo por dia."
   ]
  },
  {
   "cell_type": "markdown",
   "metadata": {},
   "source": [
    "Punto 6\n",
    "---\n",
    "\n",
    "¿La hora a la que se produce el precio máximo de bolsa en los dias laborales es la misma que en los días sábados y domingos?"
   ]
  },
  {
   "cell_type": "markdown",
   "metadata": {},
   "source": [
    "Punto 7\n",
    "---\n",
    "\n",
    "¿Cuantas veces se produce el precio máximo a las:  a) 19 horas, b) 20 horas, c) 21 horas?"
   ]
  }
 ],
 "metadata": {
  "kernelspec": {
   "display_name": "Python 3.8.9 64-bit",
   "language": "python",
   "name": "python3"
  },
  "language_info": {
   "name": "python",
   "version": "3.8.9"
  },
  "orig_nbformat": 4,
  "vscode": {
   "interpreter": {
    "hash": "31f2aee4e71d21fbe5cf8b01ff0e069b9275f58929596ceb00d14d90e3e16cd6"
   }
  }
 },
 "nbformat": 4,
 "nbformat_minor": 2
}
