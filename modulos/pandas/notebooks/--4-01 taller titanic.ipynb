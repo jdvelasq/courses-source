{
 "cells": [
  {
   "cell_type": "markdown",
   "id": "d15fd7a9-a1aa-4ac0-99e8-cac3b53414b5",
   "metadata": {},
   "source": [
    "Taller: Análisis de la base de datos del Titanic\n",
    "===\n",
    "\n",
    "*Diplomado en Analítica para Mercados de Energía*"
   ]
  },
  {
   "cell_type": "markdown",
   "metadata": {},
   "source": [
    "El archivo 'https://raw.githubusercontent.com/jdvelasq/datalabs/master/datasets/titanic.csv' contiene la información de los pasajeros del Titanic."
   ]
  },
  {
   "cell_type": "markdown",
   "metadata": {},
   "source": [
    "Punto 1\n",
    "---\n",
    "\n",
    "Imprima los primeros 8 registros del archivo."
   ]
  },
  {
   "cell_type": "markdown",
   "metadata": {},
   "source": [
    "Punto 2\n",
    "----\n",
    "\n",
    "Exporte el archivo a formato XLS."
   ]
  },
  {
   "cell_type": "markdown",
   "metadata": {},
   "source": [
    "Punto 3\n",
    "---\n",
    "\n",
    "Imprima los tipos de columnas del dataframe."
   ]
  },
  {
   "cell_type": "markdown",
   "metadata": {},
   "source": [
    "Punto 4\n",
    "---\n",
    "\n",
    "Extraiga la columna 'Age'."
   ]
  },
  {
   "cell_type": "markdown",
   "metadata": {},
   "source": [
    "Punto 5\n",
    "---\n",
    "\n",
    "Extraiga las columnas 'Age' y 'Sex'."
   ]
  },
  {
   "cell_type": "markdown",
   "metadata": {},
   "source": [
    "Punto 6\n",
    "---\n",
    "\n",
    "Imprima los pasageros con edad superior a los 35 años."
   ]
  },
  {
   "cell_type": "markdown",
   "metadata": {},
   "source": [
    "Punto 7\n",
    "---\n",
    "\n",
    "Imprima los pasageros que están en las cabinas clase 2 y 3."
   ]
  },
  {
   "cell_type": "markdown",
   "metadata": {},
   "source": [
    "Punto 8\n",
    "---"
   ]
  },
  {
   "cell_type": "markdown",
   "metadata": {},
   "source": [
    "Cuántos registros no tienen edad?"
   ]
  },
  {
   "cell_type": "markdown",
   "metadata": {},
   "source": [
    "Punto 9\n",
    "----\n",
    "\n",
    "Imprima los nombres de los pasageros con edad mayor a 35"
   ]
  },
  {
   "cell_type": "markdown",
   "metadata": {},
   "source": [
    "Punto 10\n",
    "---\n",
    "\n",
    "Imprima las filas 10 a 25 y las columnas 3 a 5."
   ]
  },
  {
   "cell_type": "markdown",
   "metadata": {},
   "source": [
    "Punto 11\n",
    "---\n",
    "\n",
    "Imprima los pasageros con nombre 'anonymous'."
   ]
  },
  {
   "cell_type": "markdown",
   "metadata": {},
   "source": [
    "Punto 12\n",
    "---\n",
    "\n",
    "Compute la media de la edad de los pasageros."
   ]
  },
  {
   "cell_type": "markdown",
   "metadata": {},
   "source": [
    "Punto 13\n",
    "----\n",
    "\n",
    "Compute la mediana de las columnas \"Age\" y \"Fare\"."
   ]
  },
  {
   "cell_type": "markdown",
   "metadata": {},
   "source": [
    "Punto 14\n",
    "---\n",
    "\n",
    "¿Cuál es la edad promedio de los hombres y las mujeres?"
   ]
  },
  {
   "cell_type": "markdown",
   "metadata": {},
   "source": [
    "Punto 15\n",
    "---\n",
    "\n",
    "¿Cual es el promedio de la columna 'Fare' por sexo ('Sex') y clase de la cabina ('Pclass')?"
   ]
  },
  {
   "cell_type": "markdown",
   "metadata": {},
   "source": [
    "Punto 16\n",
    "---\n",
    "\n",
    "¿Cuántos registros hay por cada clase de cabina ('Pclass')?"
   ]
  },
  {
   "cell_type": "markdown",
   "metadata": {},
   "source": [
    "Punto 17\n",
    "----\n",
    "\n",
    "Ordene el dataset por la edad de los pasageros."
   ]
  },
  {
   "cell_type": "markdown",
   "metadata": {},
   "source": [
    "Punto 18\n",
    "---\n",
    "\n",
    "Ordene el dataset por la clase de la cabina y la edad."
   ]
  },
  {
   "cell_type": "markdown",
   "metadata": {},
   "source": [
    "Punto 19\n",
    "---\n",
    "\n",
    "Cree una nuava columna que contenga unicamente el apellido del pasagero."
   ]
  },
  {
   "cell_type": "markdown",
   "metadata": {},
   "source": [
    "Punto 20\n",
    "---\n",
    "\n",
    "Imprima los diez pasageros con los nombres mas largos."
   ]
  },
  {
   "cell_type": "markdown",
   "metadata": {},
   "source": [
    "En la columna 'Sex' reemplace 'male' por 'M' y 'female' por 'F'."
   ]
  }
 ],
 "metadata": {
  "kernelspec": {
   "display_name": "Python 3.8.9 64-bit",
   "language": "python",
   "name": "python3"
  },
  "language_info": {
   "name": "python",
   "version": "3.8.9"
  },
  "orig_nbformat": 4,
  "vscode": {
   "interpreter": {
    "hash": "31f2aee4e71d21fbe5cf8b01ff0e069b9275f58929596ceb00d14d90e3e16cd6"
   }
  }
 },
 "nbformat": 4,
 "nbformat_minor": 2
}
