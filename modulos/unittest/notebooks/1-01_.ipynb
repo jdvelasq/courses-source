{
 "cells": [
  {
   "cell_type": "markdown",
   "id": "af3eda75-7525-4491-97bf-66dcad0f3284",
   "metadata": {},
   "source": [
    "unittest\n",
    "===\n",
    "\n",
    "* Última modificación: Mayo  14, 2022"
   ]
  },
  {
   "cell_type": "code",
   "execution_count": 1,
   "id": "6410b9fb-63d1-4c80-b046-660fc12cb23c",
   "metadata": {},
   "outputs": [
    {
     "name": "stdout",
     "output_type": "stream",
     "text": [
      "Writing example.py\n"
     ]
    }
   ],
   "source": [
    "%%writefile example.py\n",
    "import unittest\n",
    "\n",
    "class TestStringMethods(unittest.TestCase):\n",
    "\n",
    "    def test_upper(self):\n",
    "        self.assertEqual('foo'.upper(), 'FOO')\n",
    "\n",
    "    def test_isupper(self):\n",
    "        self.assertTrue('FOO'.isupper())\n",
    "        self.assertFalse('Foo'.isupper())\n",
    "\n",
    "    def test_split(self):\n",
    "        s = 'hello world'\n",
    "        self.assertEqual(s.split(), ['hello', 'world'])\n",
    "        # check that s.split fails when the separator is not a string\n",
    "        with self.assertRaises(TypeError):\n",
    "            s.split(2)\n",
    "\n",
    "if __name__ == '__main__':\n",
    "    unittest.main()"
   ]
  },
  {
   "cell_type": "code",
   "execution_count": 2,
   "id": "060107f0-3d12-4b01-a778-1904852b1e57",
   "metadata": {},
   "outputs": [
    {
     "name": "stdout",
     "output_type": "stream",
     "text": [
      "...\n",
      "----------------------------------------------------------------------\n",
      "Ran 3 tests in 0.000s\n",
      "\n",
      "OK\n"
     ]
    }
   ],
   "source": [
    "!python3 example.py"
   ]
  },
  {
   "cell_type": "markdown",
   "id": "845dcc11-f3fa-4b32-a9d2-843be106449c",
   "metadata": {},
   "source": [
    "Interfaz de línea de comandos\n",
    "---"
   ]
  },
  {
   "cell_type": "code",
   "execution_count": 3,
   "id": "7698b351-b4d0-48cb-872e-a415f31a0ce3",
   "metadata": {},
   "outputs": [
    {
     "name": "stdout",
     "output_type": "stream",
     "text": [
      "...\n",
      "----------------------------------------------------------------------\n",
      "Ran 3 tests in 0.000s\n",
      "\n",
      "OK\n"
     ]
    }
   ],
   "source": [
    "!python3 -m unittest example"
   ]
  },
  {
   "cell_type": "code",
   "execution_count": 6,
   "id": "353e2a02-9b1f-40b2-ac53-767c87b69fb4",
   "metadata": {},
   "outputs": [
    {
     "name": "stdout",
     "output_type": "stream",
     "text": [
      "test_isupper (example.TestStringMethods) ... ok\n",
      "test_split (example.TestStringMethods) ... ok\n",
      "test_upper (example.TestStringMethods) ... ok\n",
      "\n",
      "----------------------------------------------------------------------\n",
      "Ran 3 tests in 0.001s\n",
      "\n",
      "OK\n"
     ]
    }
   ],
   "source": [
    "!python3 -m unittest -v example"
   ]
  },
  {
   "cell_type": "code",
   "execution_count": 4,
   "id": "0da9e614-a7a5-4add-95fa-f8f035fda0f3",
   "metadata": {},
   "outputs": [
    {
     "name": "stdout",
     "output_type": "stream",
     "text": [
      "...\n",
      "----------------------------------------------------------------------\n",
      "Ran 3 tests in 0.000s\n",
      "\n",
      "OK\n"
     ]
    }
   ],
   "source": [
    "!python3 -m unittest example.TestStringMethods"
   ]
  },
  {
   "cell_type": "code",
   "execution_count": 5,
   "id": "46bcfd70-0819-4e4d-a534-33cdcf6c0732",
   "metadata": {},
   "outputs": [
    {
     "name": "stdout",
     "output_type": "stream",
     "text": [
      ".\n",
      "----------------------------------------------------------------------\n",
      "Ran 1 test in 0.000s\n",
      "\n",
      "OK\n"
     ]
    }
   ],
   "source": [
    "!python3 -m unittest example.TestStringMethods.test_split"
   ]
  },
  {
   "cell_type": "markdown",
   "id": "bfa00bfe-c0e4-4e60-b8f9-6a47a136cb33",
   "metadata": {},
   "source": [
    "Test discovery\n",
    "---"
   ]
  },
  {
   "cell_type": "code",
   "execution_count": 7,
   "id": "6c2d08fb-93ad-44e5-bf32-86805b9f577f",
   "metadata": {},
   "outputs": [
    {
     "name": "stdout",
     "output_type": "stream",
     "text": [
      "\n",
      "----------------------------------------------------------------------\n",
      "Ran 0 tests in 0.000s\n",
      "\n",
      "OK\n"
     ]
    }
   ],
   "source": [
    "!python3 -m unittest discover"
   ]
  },
  {
   "cell_type": "markdown",
   "id": "aa46c846-b865-4acb-b3ef-939337145884",
   "metadata": {},
   "source": [
    "Organización del código de prueba\n",
    "---"
   ]
  },
  {
   "cell_type": "code",
   "execution_count": 8,
   "id": "af7bd8b8-e4b6-4968-a81f-83336f72b49a",
   "metadata": {},
   "outputs": [],
   "source": [
    "#\n",
    "# Los tests son funciones que empiezan por 'test'.\n",
    "#\n",
    "import unittest\n",
    "\n",
    "class DefaultWidgetSizeTestCase(unittest.TestCase):\n",
    "    def test_default_widget_size(self):\n",
    "        widget = Widget('The widget')\n",
    "        self.assertEqual(widget.size(), (50, 50))"
   ]
  },
  {
   "cell_type": "code",
   "execution_count": 13,
   "id": "407b233f-3803-4919-8185-d27ff739ca83",
   "metadata": {},
   "outputs": [
    {
     "name": "stdout",
     "output_type": "stream",
     "text": [
      "Overwriting example.py\n"
     ]
    }
   ],
   "source": [
    "%%writefile example.py\n",
    "import unittest\n",
    "\n",
    "class TestStringMethods(unittest.TestCase):\n",
    "\n",
    "    def setUp(self):\n",
    "        #\n",
    "        # Esta función se ejecuta a la entrada de cada test\n",
    "        #\n",
    "        print('in setUp()')\n",
    "    \n",
    "    def test_upper(self):\n",
    "        self.assertEqual('foo'.upper(), 'FOO')\n",
    "        print('in test_upper()')\n",
    "\n",
    "    def test_isupper(self):\n",
    "        self.assertTrue('FOO'.isupper())\n",
    "        self.assertFalse('Foo'.isupper())\n",
    "        print('in test_isupper()')\n",
    "\n",
    "    def test_split(self):\n",
    "        s = 'hello world'\n",
    "        self.assertEqual(s.split(), ['hello', 'world'])\n",
    "        with self.assertRaises(TypeError):\n",
    "            s.split(2)\n",
    "        print('in test_split()')\n",
    "        \n",
    "        \n",
    "    def tearDown(self):\n",
    "        #\n",
    "        # Esta función se ejecuta a la salida de cada test\n",
    "        #\n",
    "        print('in tearDown()')"
   ]
  },
  {
   "cell_type": "code",
   "execution_count": 14,
   "id": "7a7461c6-0064-45a1-9933-dc2a1d8563bb",
   "metadata": {},
   "outputs": [
    {
     "name": "stdout",
     "output_type": "stream",
     "text": [
      "in setUp()\n",
      "in test_isupper()\n",
      "in tearDown()\n",
      ".in setUp()\n",
      "in test_split()\n",
      "in tearDown()\n",
      ".in setUp()\n",
      "in test_upper()\n",
      "in tearDown()\n",
      ".\n",
      "----------------------------------------------------------------------\n",
      "Ran 3 tests in 0.000s\n",
      "\n",
      "OK\n"
     ]
    }
   ],
   "source": [
    "!python3 -m unittest example.py"
   ]
  },
  {
   "cell_type": "markdown",
   "id": "4d8bbd1e-5eb3-4fac-9d2c-d08663ef190d",
   "metadata": {},
   "source": [
    "Descarte de tests y fallas\n",
    "---"
   ]
  },
  {
   "cell_type": "code",
   "execution_count": 19,
   "id": "85776ca7-95c6-44d4-9bdb-5cc724e49ac4",
   "metadata": {},
   "outputs": [
    {
     "name": "stdout",
     "output_type": "stream",
     "text": [
      "Overwriting example.py\n"
     ]
    }
   ],
   "source": [
    "%%writefile example.py\n",
    "import unittest\n",
    "\n",
    "class TestStringMethods(unittest.TestCase):\n",
    "\n",
    "    def setUp(self):\n",
    "        #\n",
    "        # Esta función se ejecuta a la entrada de cada test\n",
    "        #\n",
    "        print('in setUp()')\n",
    "    \n",
    "    @unittest.skip(\"skipping test_upper()\")\n",
    "    def test_upper(self):\n",
    "        self.assertEqual('foo'.upper(), 'FOO')\n",
    "        print('in test_upper()')\n",
    "\n",
    "    def test_isupper(self):\n",
    "        self.assertTrue('FOO'.isupper())\n",
    "        self.assertFalse('Foo'.isupper())\n",
    "        print('in test_isupper()')\n",
    "\n",
    "    def test_split(self):\n",
    "        s = 'hello world'\n",
    "        self.assertEqual(s.split(), ['hello', 'world'])\n",
    "        with self.assertRaises(TypeError):\n",
    "            s.split(2)\n",
    "        print('in test_split()')\n",
    "        \n",
    "        \n",
    "    def tearDown(self):\n",
    "        #\n",
    "        # Esta función se ejecuta a la salida de cada test\n",
    "        #\n",
    "        print('in tearDown()')"
   ]
  },
  {
   "cell_type": "code",
   "execution_count": 21,
   "id": "3b0bac53-7a90-437f-a5f7-8a021ed5fa1d",
   "metadata": {},
   "outputs": [
    {
     "name": "stdout",
     "output_type": "stream",
     "text": [
      "test_isupper (example.TestStringMethods) ... in setUp()\n",
      "in test_isupper()\n",
      "in tearDown()\n",
      "ok\n",
      "test_split (example.TestStringMethods) ... in setUp()\n",
      "in test_split()\n",
      "in tearDown()\n",
      "ok\n",
      "test_upper (example.TestStringMethods) ... skipped 'skipping test_upper()'\n",
      "\n",
      "----------------------------------------------------------------------\n",
      "Ran 3 tests in 0.001s\n",
      "\n",
      "OK (skipped=1)\n"
     ]
    }
   ],
   "source": [
    "!python3 -m unittest -v  example.py"
   ]
  },
  {
   "cell_type": "code",
   "execution_count": 22,
   "id": "6119d799-31be-4572-a586-829579c82326",
   "metadata": {},
   "outputs": [
    {
     "name": "stdout",
     "output_type": "stream",
     "text": [
      "Overwriting example.py\n"
     ]
    }
   ],
   "source": [
    "%%writefile example.py\n",
    "import unittest\n",
    "\n",
    "\n",
    "@unittest.skip(\"skipping class()\")\n",
    "class TestStringMethods(unittest.TestCase):\n",
    "\n",
    "    def setUp(self):\n",
    "        #\n",
    "        # Esta función se ejecuta a la entrada de cada test\n",
    "        #\n",
    "        print('in setUp()')\n",
    "    \n",
    "    \n",
    "    def test_upper(self):\n",
    "        self.assertEqual('foo'.upper(), 'FOO')\n",
    "        print('in test_upper()')\n",
    "\n",
    "    def test_isupper(self):\n",
    "        self.assertTrue('FOO'.isupper())\n",
    "        self.assertFalse('Foo'.isupper())\n",
    "        print('in test_isupper()')\n",
    "\n",
    "    def test_split(self):\n",
    "        s = 'hello world'\n",
    "        self.assertEqual(s.split(), ['hello', 'world'])\n",
    "        with self.assertRaises(TypeError):\n",
    "            s.split(2)\n",
    "        print('in test_split()')\n",
    "        \n",
    "        \n",
    "    def tearDown(self):\n",
    "        #\n",
    "        # Esta función se ejecuta a la salida de cada test\n",
    "        #\n",
    "        print('in tearDown()')"
   ]
  },
  {
   "cell_type": "code",
   "execution_count": 23,
   "id": "3747167c-c1e8-4394-9d5c-880d1f58202f",
   "metadata": {},
   "outputs": [
    {
     "name": "stdout",
     "output_type": "stream",
     "text": [
      "test_isupper (example.TestStringMethods) ... skipped 'skipping class()'\n",
      "test_split (example.TestStringMethods) ... skipped 'skipping class()'\n",
      "test_upper (example.TestStringMethods) ... skipped 'skipping class()'\n",
      "\n",
      "----------------------------------------------------------------------\n",
      "Ran 3 tests in 0.000s\n",
      "\n",
      "OK (skipped=3)\n"
     ]
    }
   ],
   "source": [
    "!python3 -m unittest -v  example.py"
   ]
  },
  {
   "cell_type": "code",
   "execution_count": 24,
   "id": "c3b962f7-d6a4-4355-a347-e74e40eac046",
   "metadata": {},
   "outputs": [
    {
     "name": "stdout",
     "output_type": "stream",
     "text": [
      "Overwriting example.py\n"
     ]
    }
   ],
   "source": [
    "%%writefile example.py\n",
    "import unittest\n",
    "\n",
    "\n",
    "class ExpectedFailureTestCase(unittest.TestCase):\n",
    "    @unittest.expectedFailure\n",
    "    def test_fail(self):\n",
    "        self.assertEqual(1, 0, \"broken\")"
   ]
  },
  {
   "cell_type": "code",
   "execution_count": 25,
   "id": "50669bde-17a3-4e14-b1c7-af3be38eb3a4",
   "metadata": {},
   "outputs": [
    {
     "name": "stdout",
     "output_type": "stream",
     "text": [
      "test_fail (example.ExpectedFailureTestCase) ... expected failure\n",
      "\n",
      "----------------------------------------------------------------------\n",
      "Ran 1 test in 0.001s\n",
      "\n",
      "OK (expected failures=1)\n"
     ]
    }
   ],
   "source": [
    "!python3 -m unittest -v  example.py"
   ]
  },
  {
   "cell_type": "markdown",
   "id": "1541370e-105f-41ce-875c-0d2d19f987a7",
   "metadata": {},
   "source": [
    "```\n",
    "@unittest.skip(reason)\n",
    "@unittest.skipIf(condidtion, reason)\n",
    "@unittest.skipUnless(condidtion, reason)\n",
    "@unittest.expectedFailure\n",
    "``` \n"
   ]
  },
  {
   "cell_type": "markdown",
   "id": "d09fb2d0-ed62-4ff2-b2d0-fb665f175603",
   "metadata": {},
   "source": [
    "Métodos disponibles\n",
    "---"
   ]
  },
  {
   "cell_type": "markdown",
   "id": "a05c10c8-f380-4eef-9d5c-4dcc12214b00",
   "metadata": {},
   "source": [
    "* assertEqual(first, second, msg=None)\n",
    "\n",
    "* assertNotEqual(first, second, msg=None)\n",
    "\n",
    "* assertTrue(expr, msg=None)\n",
    "\n",
    "* assertFalse(expr, msg=None)\n",
    "\n",
    "* assertIs(first, second, msg=None)\n",
    "\n",
    "* assertIsNot(first, second, msg=None)\n",
    "\n",
    "* assertIsNone(expr, msg=None)\n",
    "\n",
    "* assertIsNotNone(expr, msg=None)\n",
    "\n",
    "* assertIn(member, container, msg=None)\n",
    "\n",
    "* assertNotIn(member, container, msg=None)\n",
    "\n",
    "* assertIsInstance(obj, cls, msg=None)\n",
    "\n",
    "* assertNotIsInstance(obj, cls, msg=None)\n",
    "\n"
   ]
  },
  {
   "cell_type": "markdown",
   "id": "14d27657-901d-4c26-94e9-a4f333473219",
   "metadata": {},
   "source": [
    "* assertRaises(exception, callable, *args, **kwds)\n",
    "\n",
    "* assertRaises(exception, *, msg=None)\n",
    "\n",
    "* assertRaisesRegex(exception, regex, callable, *args, **kwds)\n",
    "\n",
    "* assertRaisesRegex(exception, regex, *, msg=None)\n",
    "\n",
    "* assertWarns(warning, callable, *args, **kwds)\n",
    "\n",
    "* assertWarns(warning, *, msg=None)\n",
    "\n",
    "* assertWarnsRegex(warning, regex, callable, *args, **kwds)\n",
    "\n",
    "* assertWarnsRegex(warning, regex, *, msg=None)\n",
    "\n",
    "* assertLogs(logger=None, level=None)\n",
    "\n",
    "* assertNoLogs(logger=None, level=None)"
   ]
  },
  {
   "cell_type": "markdown",
   "id": "ac2cfad3-d816-4f9a-bb81-3ffed2ab5537",
   "metadata": {},
   "source": [
    "* assertAlmostEqual(first, second, places=7, msg=None, delta=None)\n",
    "\n",
    "* assertNotAlmostEqual(first, second, places=7, msg=None, delta=None)\n",
    "\n",
    "* assertGreater(first, second, msg=None)\n",
    "\n",
    "* assertGreaterEqual(first, second, msg=None)\n",
    "\n",
    "* assertLess(first, second, msg=None)\n",
    "\n",
    "* assertLessEqual(first, second, msg=None)\n",
    "\n",
    "* assertRegex(text, regex, msg=None)\n",
    "\n",
    "* assertNotRegex(text, regex, msg=None)"
   ]
  }
 ],
 "metadata": {
  "kernelspec": {
   "display_name": "Python 3 (ipykernel)",
   "language": "python",
   "name": "python3"
  },
  "language_info": {
   "codemirror_mode": {
    "name": "ipython",
    "version": 3
   },
   "file_extension": ".py",
   "mimetype": "text/x-python",
   "name": "python",
   "nbconvert_exporter": "python",
   "pygments_lexer": "ipython3",
   "version": "3.8.10"
  }
 },
 "nbformat": 4,
 "nbformat_minor": 5
}
