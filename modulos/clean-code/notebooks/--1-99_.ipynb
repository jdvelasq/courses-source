{
 "cells": [
  {
   "cell_type": "markdown",
   "metadata": {},
   "source": [
    "Asignación de nombres  --- 30:00 min\n",
    "===\n",
    "\n",
    "* Última modificación: Marzo 10, 2022 | YouTube"
   ]
  },
  {
   "cell_type": "markdown",
   "metadata": {},
   "source": [
    "* El código permite comunicar ideas entre desarrolladores.\n",
    "\n",
    "* Otros son responsables del mantenimiento del código.\n",
    "\n",
    "* Razones:\n",
    "    \n",
    "    * Mantenibilidad\n",
    "    \n",
    "    * Reducción del débito técnico (compromisos y malas decisiones: malas decisiones ayer afectan el codigo hoy, y malas decisioes hoy afecta el mantenimiento futuro). Es mas costoso cambiar el \n",
    "    \n",
    "    * Trabajo efectivo y eficiente.\n",
    "    \n",
    "    * Manejo exitoso de proyectos.\n",
    "    \n",
    "* \n",
    "\n",
    "* "
   ]
  },
  {
   "cell_type": "markdown",
   "metadata": {},
   "source": [
    "Debito técnico\n",
    "--"
   ]
  },
  {
   "cell_type": "markdown",
   "metadata": {},
   "source": [
    "* La metafora del auto (proyecto) y la carretera (codigo).\n",
    "\n",
    "* Es un problema silencioso que se manifiesta en el largo plazo.\n",
    "\n",
    "* Se produce por compromisos y malas decisiones: las malas decisiones de ayer afectan la mantenibilidad del código hoy, y las malas decisiones de hoy afectarán el mantenimiento del código mañana.\n",
    "\n",
    "* Es una deuda por que se pagan intereses: es más costoso arreglar código con problemas en el futuro, que invertir mayor tiempo hoy para hacerlo mejor.\n",
    "\n",
    "* La deuda se paga con el retraso en el desarrollo cuando se requiere corregir el código existente.\n",
    "\n",
    "* El ejemplo de la refactorización de codigo defectuoso: un equipo soporta el código defectuoso actual en el productivo, mientras que otro equipo intenta construir un nuevo codebase.\n",
    "\n",
    "* El código es valioso en la medida que pude ser cambiado."
   ]
  },
  {
   "cell_type": "markdown",
   "metadata": {},
   "source": [
    "Formato de código\n",
    "---"
   ]
  },
  {
   "cell_type": "markdown",
   "metadata": {},
   "source": [
    "* Facilita la lectura.\n",
    "\n",
    "* Facilita la detección de errores a simple vista, ya que se siguen patrones específicos.\n",
    "\n",
    "* Facilita la búsqueda:\n",
    "\n",
    "```bash\n",
    "$ grep -nr \"location=\" .\n",
    "./core.py:13: location=current_location,\n",
    "\n",
    "$ grep -nr \"location =\" .\n",
    "./core.py:10: current_location = get_location()\n",
    "```\n",
    "\n"
   ]
  },
  {
   "cell_type": "code",
   "execution_count": null,
   "metadata": {},
   "outputs": [],
   "source": []
  }
 ],
 "metadata": {
  "kernelspec": {
   "display_name": "Python 3 (ipykernel)",
   "language": "python",
   "name": "python3"
  },
  "language_info": {
   "codemirror_mode": {
    "name": "ipython",
    "version": 3
   },
   "file_extension": ".py",
   "mimetype": "text/x-python",
   "name": "python",
   "nbconvert_exporter": "python",
   "pygments_lexer": "ipython3",
   "version": "3.8.10"
  }
 },
 "nbformat": 4,
 "nbformat_minor": 4
}
