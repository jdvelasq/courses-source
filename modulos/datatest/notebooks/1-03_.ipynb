{
 "cells": [
  {
   "cell_type": "markdown",
   "id": "74c82c5c-e595-45e8-823d-13b16fa4cf43",
   "metadata": {
    "tags": []
   },
   "source": [
    "Pipeline Validation\n",
    "===\n",
    "\n",
    "* Ultima modificación: Mayo 14, 2022"
   ]
  },
  {
   "cell_type": "markdown",
   "id": "b033618a-4092-4413-aff7-333486b52df2",
   "metadata": {},
   "source": [
    "Pipeline simple\n",
    "---"
   ]
  },
  {
   "cell_type": "markdown",
   "id": "23136c42-9660-4520-b7bb-f8ad9a519daf",
   "metadata": {},
   "source": [
    "```python\n",
    "def pipeline(file_path):\n",
    "    data = load_from_source(file_path)  # STEP 1\n",
    "    \n",
    "    data = operation_one(data)          # STEP 2\n",
    "    \n",
    "    data = operation_two(data)          # STEP 3\n",
    "    \n",
    "    save_to_destination(data)           # STEP 4\n",
    "```"
   ]
  },
  {
   "cell_type": "markdown",
   "id": "15cc8dae-d95c-4544-ae92-9de3609067a8",
   "metadata": {},
   "source": [
    "```python\n",
    "def pipeline(file_path):\n",
    "    data = load_from_source(file_path)  # STEP 1\n",
    "    \n",
    "    validate(data.columns, ['user_id', 'first_name', 'last_name'])\n",
    "    \n",
    "    data = operation_one(data)          # STEP 2\n",
    "    \n",
    "    validate(data.columns, ['user_id', 'full_name'])\n",
    "    \n",
    "    validate(data, (int, str))\n",
    "    \n",
    "    data = operation_two(data)          # STEP 3\n",
    "\n",
    "    validate.unique(data['user_id'])\n",
    "\n",
    "    save_to_destination(data)           # STEP 4\n",
    "\n",
    "```"
   ]
  },
  {
   "cell_type": "markdown",
   "id": "87e30c4d-605f-44a7-8d56-882026d35e0d",
   "metadata": {},
   "source": [
    "Uso de `__debug__`\n",
    "---"
   ]
  },
  {
   "cell_type": "markdown",
   "id": "28174a3b-6cbd-4500-af5b-24c5b56d9764",
   "metadata": {},
   "source": [
    "```python\n",
    "def pipeline(file_path):\n",
    "    data = load_from_source(file_path)  # STEP 1\n",
    "\n",
    "    if __debug__:\n",
    "        validate(data.columns, ['user_id', 'first_name', 'last_name'])\n",
    "\n",
    "    data = operation_one(data)          # STEP 2\n",
    "\n",
    "    if __debug__:\n",
    "        validate(data.columns, ['user_id', 'full_name'])\n",
    "        validate(data, (int, str))\n",
    "\n",
    "    data = operation_two(data)          # STEP 3\n",
    "\n",
    "    if __debug__:\n",
    "        validate.unique(data['user_id'])\n",
    "\n",
    "    save_to_destination(data)           # STEP 4\n",
    "```"
   ]
  },
  {
   "cell_type": "markdown",
   "id": "2cb3db55-05b5-4f28-bcc0-4818b7e1344c",
   "metadata": {},
   "source": [
    "**Validation On**\n",
    "\n",
    "```bash\n",
    "$ python3 simple_pipeline.py\n",
    "```"
   ]
  },
  {
   "cell_type": "markdown",
   "id": "0256f18c-3c9e-463b-bc72-d21d1a4830c8",
   "metadata": {},
   "source": [
    "**Validation Off**\n",
    "\n",
    "```bash\n",
    "$ python3 -O simple_pipeline.py\n",
    "```"
   ]
  },
  {
   "cell_type": "markdown",
   "id": "ac609e90-dc44-4d93-964d-ea44ded08c9c",
   "metadata": {},
   "source": [
    "Datasets de gran tamaño\n",
    "---"
   ]
  },
  {
   "cell_type": "markdown",
   "id": "9d16b070-b0e1-450f-9c96-76f9ae69a71a",
   "metadata": {},
   "source": [
    "**DataFrame.sample()**"
   ]
  },
  {
   "cell_type": "markdown",
   "id": "f937ab5c-fd46-4b16-863b-b958a6151814",
   "metadata": {},
   "source": [
    "```python\n",
    "def pipeline(file_path):\n",
    "    data = load_from_source(file_path)  # STEP 1\n",
    "\n",
    "    validate(data.columns, ['user_id', 'first_name', 'last_name'])\n",
    "\n",
    "    data = operation_one(data)          # STEP 2\n",
    "\n",
    "    sample = data.sample(n=100)\n",
    "    validate(sample.columns, ['user_id', 'full_name'])\n",
    "    validate(sample, (int, str))\n",
    "\n",
    "    data = operation_two(data)          # STEP 3\n",
    "\n",
    "    sample = data.sample(n=100)\n",
    "    validate.unique(sample['user_id'])\n",
    "\n",
    "    save_to_destination(data)           # STEP 4\n",
    "``` "
   ]
  },
  {
   "cell_type": "markdown",
   "id": "b79232c6-5b52-4e24-9dbd-7c8eec195e35",
   "metadata": {},
   "source": [
    "**Iterator**"
   ]
  },
  {
   "cell_type": "markdown",
   "id": "6838f5e6-290c-4040-9dc9-4fa71cbc8a90",
   "metadata": {},
   "source": [
    "```python\n",
    "import itertools\n",
    "\n",
    "def pipeline(file_path):\n",
    "    iterator = load_from_source(file_path)  # STEP 1\n",
    "\n",
    "    iterator = operation_one(iterator)      # STEP 2\n",
    "\n",
    "    sample = list(itertools.islice(iterator, 100))\n",
    "    validate(sample, (int, str))\n",
    "    iterator = itertools.chain(sample, iterator)\n",
    "\n",
    "    iterator = operation_two(iterator)      # STEP 3\n",
    "\n",
    "    sample = list(itertools.islice(iterator, 100))\n",
    "    validate.unique(item[0] for item in sample)\n",
    "    iterator = itertools.chain(sample, iterator)\n",
    "\n",
    "    save_to_destination(iterator)           # STEP 4\n",
    "```"
   ]
  },
  {
   "cell_type": "markdown",
   "id": "5a515684-f7b9-4673-abb1-fffdaf21a668",
   "metadata": {},
   "source": [
    "**Multiples iterators**"
   ]
  },
  {
   "cell_type": "markdown",
   "id": "a7dc666e-4530-470b-832d-1bd6b2a4b6d1",
   "metadata": {},
   "source": [
    "```python\n",
    "\n",
    "import itertools\n",
    "\n",
    "def get_sample(iterable, n=100):\n",
    "    iterator = iter(iterable)\n",
    "    sample = list(itertools.islice(iterator, n))\n",
    "    iterator = itertools.chain(sample, iterator)\n",
    "    return sample, iterator\n",
    "\n",
    "```\n",
    "...\n",
    "```python\n",
    "sample, iterator = get_sample(iterator)\n",
    "validate(sample, (int, str))\n",
    "\n",
    "```\n",
    "..."
   ]
  }
 ],
 "metadata": {
  "kernelspec": {
   "display_name": "Python 3 (ipykernel)",
   "language": "python",
   "name": "python3"
  },
  "language_info": {
   "codemirror_mode": {
    "name": "ipython",
    "version": 3
   },
   "file_extension": ".py",
   "mimetype": "text/x-python",
   "name": "python",
   "nbconvert_exporter": "python",
   "pygments_lexer": "ipython3",
   "version": "3.8.10"
  }
 },
 "nbformat": 4,
 "nbformat_minor": 5
}
