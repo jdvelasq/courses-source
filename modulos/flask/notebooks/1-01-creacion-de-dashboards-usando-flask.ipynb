{
 "cells": [
  {
   "cell_type": "markdown",
   "metadata": {},
   "source": [
    "Creación de un dashboard interactivo usando Flask\n",
    "===\n",
    "\n",
    "* *60 min* | Última modificación: Febrero 27, 2020."
   ]
  },
  {
   "cell_type": "markdown",
   "metadata": {},
   "source": [
    "## Version 1 --- App mínima"
   ]
  },
  {
   "cell_type": "code",
   "execution_count": 1,
   "metadata": {},
   "outputs": [],
   "source": [
    "!mkdir -p 1"
   ]
  },
  {
   "cell_type": "code",
   "execution_count": 2,
   "metadata": {},
   "outputs": [
    {
     "name": "stdout",
     "output_type": "stream",
     "text": [
      "Writing 01/app.py\n"
     ]
    }
   ],
   "source": [
    "%%writefile 1/app.py\n",
    "\n",
    "from flask import Flask\n",
    "app = Flask(__name__)     # nombre del modulo o paquete\n",
    "\n",
    "@app.route('/')           # indica que dirección dispara la función\n",
    "@app.route('/index')\n",
    "def hello():\n",
    "    return \"Hola Mundo Cruel!\"\n",
    "\n",
    "if __name__ == \"__main__\":\n",
    "    app.run(host='0.0.0.0', debug=True)"
   ]
  },
  {
   "cell_type": "markdown",
   "metadata": {},
   "source": [
    "![flask-01](../../assets/flask-01.png)"
   ]
  },
  {
   "cell_type": "markdown",
   "metadata": {},
   "source": [
    "## Version 2 --- Plantilla "
   ]
  },
  {
   "cell_type": "code",
   "execution_count": 6,
   "metadata": {},
   "outputs": [],
   "source": [
    "!mkdir -p 2\n",
    "!mkdir -p 2/templates"
   ]
  },
  {
   "cell_type": "code",
   "execution_count": 18,
   "metadata": {},
   "outputs": [
    {
     "name": "stdout",
     "output_type": "stream",
     "text": [
      "Overwriting 02/templates/index.html\n"
     ]
    }
   ],
   "source": [
    "%%writefile 2/templates/index.html\n",
    "\n",
    "<!DOCTYPE html>\n",
    "<html lang=\"en\">\n",
    "    <head>\n",
    "        <meta charset=\"utf-8\">\n",
    "        <title>Telephones</title>    \n",
    "    </head>\n",
    "    <body>\n",
    "        \n",
    "        <!--- Menu de seleccion al lado izquierdo --->\n",
    "        <nav>\n",
    "            <form id='myDialog' method=\"POST\">\n",
    "                <p>Region:</p>\n",
    "\n",
    "                <!--- onchange llama la función cuando el elemento cambia --->\n",
    "                <select id=\"region\" name=\"region\"  onchange=\"submitData()\">\n",
    "\n",
    "                    <option value=\"N.Amer\">N.Amer</option>\n",
    "                    <option value=\"Europe\">Europe</option>\n",
    "                    <option value=\"Asia\">Asia</option>\n",
    "                    <option value=\"S.Amer\">S.Amer</option>\n",
    "                    <option value=\"Oceania\">Oceania</option>\n",
    "                    <option value=\"Africa\">Africa</option>\n",
    "                    <option value=\"Mid.Amer\">Mid.Amer</option>\n",
    "\n",
    "                </select>\n",
    "            </form>\n",
    "        </nav>\n",
    "        \n",
    "        <!--- imprime la región seleccionada --->\n",
    "        {% for message in get_flashed_messages() %}\n",
    "            <p> {{ message }} </p>\n",
    "        {% endfor %}\n",
    "        \n",
    "        <!--- remite la información del dialogo al servidor --->\n",
    "        <script>\n",
    "            function submitData() {\n",
    "                document.getElementById(\"myDialog\").submit()\n",
    "            }\n",
    "        </script>\n",
    "    </body>\n",
    "</html>"
   ]
  },
  {
   "cell_type": "code",
   "execution_count": 21,
   "metadata": {},
   "outputs": [
    {
     "name": "stdout",
     "output_type": "stream",
     "text": [
      "Overwriting 02/app.py\n"
     ]
    }
   ],
   "source": [
    "%%writefile 2/app.py\n",
    "\n",
    "from flask import Flask, request, flash, render_template\n",
    "app = Flask(__name__)\n",
    "app.config['SECRET_KEY'] = 'you-will-never-guess'\n",
    "\n",
    "@app.route('/', methods=('GET', 'POST'))           \n",
    "@app.route('/index', methods=('GET', 'POST'))\n",
    "def index():\n",
    "    \n",
    "    selected = None\n",
    "    \n",
    "    if request.method == 'POST':\n",
    "        selected = request.form['region']\n",
    "        flash(selected)\n",
    "    \n",
    "    return render_template('index.html')\n",
    "\n",
    "if __name__ == \"__main__\":\n",
    "    app.run(host='0.0.0.0', debug=True)"
   ]
  },
  {
   "cell_type": "markdown",
   "metadata": {},
   "source": [
    "![flask-02](../../assets/flask-02.png)"
   ]
  },
  {
   "cell_type": "markdown",
   "metadata": {},
   "source": [
    "## Version 3 --- Lógica del menú y datos."
   ]
  },
  {
   "cell_type": "code",
   "execution_count": 22,
   "metadata": {},
   "outputs": [],
   "source": [
    "!mkdir -p 3\n",
    "!mkdir -p 3/templates"
   ]
  },
  {
   "cell_type": "code",
   "execution_count": 25,
   "metadata": {},
   "outputs": [
    {
     "name": "stdout",
     "output_type": "stream",
     "text": [
      "Overwriting 03/app.py\n"
     ]
    }
   ],
   "source": [
    "%%writefile 3/app.py\n",
    "\n",
    "\n",
    "#---------------------------------------------------------------------------\n",
    "#\n",
    "# Datos\n",
    "# \n",
    "import pandas as pd\n",
    "\n",
    "data = [[45939, 21574, 2876, 1815, 1646,   89,  555],\n",
    "        [60423, 29990, 4708, 2568, 2366, 1411,  733],\n",
    "        [64721, 32510, 5230, 2695, 2526, 1546,  773],\n",
    "        [68484, 35218, 6662, 2845, 2691, 1663,  836],\n",
    "        [71799, 37598, 6856, 3000, 2868, 1769,  911],\n",
    "        [76036, 40341, 8220, 3145, 3054, 1905, 1008],\n",
    "        [79831, 43173, 9053, 3338, 3224, 2005, 1076]]\n",
    "\n",
    "data = pd.DataFrame(\n",
    "    data = data,\n",
    "    index = [1951, 1956, 1957, 1958, 1959, 1960, 1961],\n",
    "    columns = ['N.Amer', 'Europe', 'Asia', 'S.Amer', 'Oceania', 'Africa', 'Mid.Amer']\n",
    ")\n",
    "#---------------------------------------------------------------------------\n",
    "\n",
    "from flask import Flask, request, flash, render_template\n",
    "app = Flask(__name__)\n",
    "app.config['SECRET_KEY'] = 'you-will-never-guess'\n",
    "\n",
    "@app.route('/', methods=('GET', 'POST'))           \n",
    "@app.route('/index', methods=('GET', 'POST'))\n",
    "def index():\n",
    "    \n",
    "    selected = data.columns.tolist()[0]\n",
    "    \n",
    "    if request.method == 'POST':\n",
    "        selected = request.form['region']\n",
    "        flash(selected)\n",
    "    \n",
    "    return render_template(\n",
    "        'index.html', \n",
    "        regions=data.columns.tolist(), # nombres de las regiones\n",
    "        selected=selected)             # columna seleccionada)\n",
    "\n",
    "if __name__ == \"__main__\":\n",
    "    app.run(host='0.0.0.0', debug=True)"
   ]
  },
  {
   "cell_type": "code",
   "execution_count": 24,
   "metadata": {},
   "outputs": [
    {
     "name": "stdout",
     "output_type": "stream",
     "text": [
      "Writing 03/templates/index.html\n"
     ]
    }
   ],
   "source": [
    "%%writefile 3/templates/index.html\n",
    "\n",
    "<!DOCTYPE html>\n",
    "<html lang=\"en\">\n",
    "    <head>\n",
    "        <meta charset=\"utf-8\">\n",
    "        <title>Telephones</title>    \n",
    "    </head>\n",
    "    <body>\n",
    "        \n",
    "        <!--- Menu de seleccion al lado izquierdo --->\n",
    "        <nav>\n",
    "            <form id='myDialog' method=\"POST\">\n",
    "                <p>Region:</p>\n",
    "\n",
    "                <!--- onchange llama la función cuando el elemento cambia --->\n",
    "                <select id=\"region\" name=\"region\"  onchange=\"submitData()\">\n",
    "\n",
    "                    {% for i in regions %}\n",
    "                        {% if i == selected %}\n",
    "                            <option value=\"{{ i }}\" selected>{{ i }}</option>\n",
    "                        {% else %}\n",
    "                            <option value=\"{{ i }}\">{{ i }}</option>\n",
    "                        {% endif %}\n",
    "                    {% endfor %}\n",
    "\n",
    "                </select>\n",
    "            </form>\n",
    "        </nav>\n",
    "        \n",
    "        <!--- imprime la región seleccionada --->\n",
    "        {% for message in get_flashed_messages() %}\n",
    "            <p> {{ message }} </p>\n",
    "        {% endfor %}\n",
    "        \n",
    "        <!--- remite la información del dialogo al servidor --->\n",
    "        <script>\n",
    "            function submitData() {\n",
    "                document.getElementById(\"myDialog\").submit()\n",
    "            }\n",
    "        </script>\n",
    "    </body>\n",
    "</html>"
   ]
  },
  {
   "cell_type": "markdown",
   "metadata": {},
   "source": [
    "![flask-03](../../assets/flask-03.png)"
   ]
  },
  {
   "cell_type": "markdown",
   "metadata": {},
   "source": [
    "## Version 4 --- Cómputos y gráfica"
   ]
  },
  {
   "cell_type": "code",
   "execution_count": 26,
   "metadata": {},
   "outputs": [],
   "source": [
    "!mkdir -p 4\n",
    "!mkdir -p 4/templates\n",
    "!mkdir -p 4/static"
   ]
  },
  {
   "cell_type": "code",
   "execution_count": 102,
   "metadata": {},
   "outputs": [
    {
     "name": "stdout",
     "output_type": "stream",
     "text": [
      "Overwriting 4/app.py\n"
     ]
    }
   ],
   "source": [
    "%%writefile 4/app.py\n",
    "\n",
    "#---------------------------------------------------------------------------\n",
    "#\n",
    "# Datos\n",
    "# \n",
    "import pandas as pd\n",
    "\n",
    "import io\n",
    "\n",
    "data = [[45939, 21574, 2876, 1815, 1646,   89,  555],\n",
    "        [60423, 29990, 4708, 2568, 2366, 1411,  733],\n",
    "        [64721, 32510, 5230, 2695, 2526, 1546,  773],\n",
    "        [68484, 35218, 6662, 2845, 2691, 1663,  836],\n",
    "        [71799, 37598, 6856, 3000, 2868, 1769,  911],\n",
    "        [76036, 40341, 8220, 3145, 3054, 1905, 1008],\n",
    "        [79831, 43173, 9053, 3338, 3224, 2005, 1076]]\n",
    "\n",
    "data = pd.DataFrame(\n",
    "    data = data,\n",
    "    index = [1951, 1956, 1957, 1958, 1959, 1960, 1961],\n",
    "    columns = ['N.Amer', 'Europe', 'Asia', 'S.Amer', 'Oceania', 'Africa', 'Mid.Amer']\n",
    ")\n",
    "#---------------------------------------------------------------------------\n",
    "\n",
    "from flask import Flask, request, flash, render_template, g, session, send_file\n",
    "app = Flask(__name__)\n",
    "app.config['SECRET_KEY'] = 'you-will-never-guess'\n",
    "\n",
    "import matplotlib.pyplot as plt\n",
    "\n",
    "\n",
    "@app.route('/', methods=['GET', 'POST'])           \n",
    "@app.route('/index', methods=('GET', 'POST'))\n",
    "def index():\n",
    "\n",
    "    session['selected'] = data.columns.tolist()[0]\n",
    "    \n",
    "    if request.method == 'POST':\n",
    "        session['selected'] = request.form['region']\n",
    "        flash(session['selected'])\n",
    "        \n",
    "    return render_template(\n",
    "        'index.html', \n",
    "        regions=data.columns.tolist(), # nombres de las regiones\n",
    "        selected=session['selected'])  # columna seleccionada)\n",
    "\n",
    "\n",
    "@app.route('/plot0', methods=['GET'])\n",
    "def plot0():\n",
    "\n",
    "    selected = session['selected']\n",
    "    \n",
    "    plt.clf()\n",
    "    plt.bar(\n",
    "        x = list(data.index),\n",
    "        height = data[selected])\n",
    "    plt.title(selected)\n",
    "    \n",
    "    plot_obj = io.BytesIO()\n",
    "    plt.savefig(plot_obj, format='png')\n",
    "    plot_obj.seek(0)\n",
    "\n",
    "    return send_file(\n",
    "        plot_obj,\n",
    "        attachment_filename='plot.png',\n",
    "        mimetype='image/png')\n",
    "\n",
    "\n",
    "if __name__ == \"__main__\":\n",
    "    app.config['TEMPLATES_AUTO_RELOAD'] = True\n",
    "    app.jinja_env.auto_reload = True\n",
    "    app.run(host='0.0.0.0', debug=True)"
   ]
  },
  {
   "cell_type": "code",
   "execution_count": 95,
   "metadata": {},
   "outputs": [
    {
     "name": "stdout",
     "output_type": "stream",
     "text": [
      "Overwriting 4/templates/index.html\n"
     ]
    }
   ],
   "source": [
    "%%writefile 4/templates/index.html\n",
    "\n",
    "<!DOCTYPE html>\n",
    "<html lang=\"en\">\n",
    "    <head>\n",
    "        <meta charset=\"utf-8\">\n",
    "        <title>Telephones</title>    \n",
    "    </head>\n",
    "    <body>\n",
    "        \n",
    "        <!--- Menu de seleccion al lado izquierdo --->\n",
    "        <nav>\n",
    "            <form id='myDialog' method=\"POST\">\n",
    "                <p>Region:</p>\n",
    "\n",
    "                <!--- onchange llama la función cuando el elemento cambia --->\n",
    "                <select id=\"region\" name=\"region\"  onchange=\"submitData()\">\n",
    "\n",
    "                    {% for i in regions %}\n",
    "                        {% if i == selected %}\n",
    "                            <option value=\"{{ i }}\" selected>{{ i }}</option>\n",
    "                        {% else %}\n",
    "                            <option value=\"{{ i }}\">{{ i }}</option>\n",
    "                        {% endif %}\n",
    "                    {% endfor %}\n",
    "\n",
    "                </select>\n",
    "            </form>\n",
    "        </nav>\n",
    "\n",
    "        <!--- Grafica --->\n",
    "        <div> \n",
    "            <img src=\"http://0.0.0.0:5000/plot0\" />\n",
    "        </div> \n",
    "        \n",
    "        <!--- imprime la región seleccionada --->\n",
    "        {% for message in get_flashed_messages() %}\n",
    "            <p> {{ message }} </p>\n",
    "        {% endfor %}\n",
    "        \n",
    "        <!--- remite la información del dialogo al servidor --->\n",
    "        <script>\n",
    "            function submitData() {\n",
    "                document.getElementById(\"myDialog\").submit()\n",
    "            }\n",
    "        </script>\n",
    "    </body>\n",
    "</html>"
   ]
  },
  {
   "cell_type": "markdown",
   "metadata": {},
   "source": [
    "![flask-04](../../assets/flask-04.png)"
   ]
  },
  {
   "cell_type": "markdown",
   "metadata": {},
   "source": [
    "**Ejercicio.---** Agregar formato usando CSS."
   ]
  },
  {
   "cell_type": "markdown",
   "metadata": {},
   "source": [
    "**Ejercicio.---** Construya un demo similar a https://shiny.rstudio.com/gallery/widget-gallery.html"
   ]
  }
 ],
 "metadata": {
  "kernel_info": {
   "name": "python3"
  },
  "kernelspec": {
   "display_name": "Python 3",
   "language": "python",
   "name": "python3"
  },
  "language_info": {
   "codemirror_mode": {
    "name": "ipython",
    "version": 3
   },
   "file_extension": ".py",
   "mimetype": "text/x-python",
   "name": "python",
   "nbconvert_exporter": "python",
   "pygments_lexer": "ipython3",
   "version": "3.6.9"
  },
  "nteract": {
   "version": "0.7.1"
  }
 },
 "nbformat": 4,
 "nbformat_minor": 4
}
