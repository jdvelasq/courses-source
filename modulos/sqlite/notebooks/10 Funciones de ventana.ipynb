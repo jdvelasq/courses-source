{
 "cells": [
  {
   "cell_type": "markdown",
   "id": "47d4700b-20b8-4277-93d3-e94809494efc",
   "metadata": {},
   "source": [
    "Funciones de ventana\n",
    "==="
   ]
  },
  {
   "cell_type": "markdown",
   "id": "00af1a2b-d6bd-49f4-87f7-9caba9e8bdfb",
   "metadata": {},
   "source": [
    "**Preparación**"
   ]
  },
  {
   "cell_type": "code",
   "execution_count": 1,
   "id": "a3a0d120-046a-4695-84c1-2ab0cec90da6",
   "metadata": {
    "tags": []
   },
   "outputs": [],
   "source": [
    "import sqlite3\n",
    "\n",
    "from IPython.core.magic import register_cell_magic, register_line_magic\n",
    "\n",
    "conn = sqlite3.connect(\":memory:\")\n",
    "cur = conn.cursor()\n",
    "\n",
    "\n",
    "@register_line_magic\n",
    "def sql(line):\n",
    "    return cur.execute(line).fetchall()\n",
    "\n",
    "\n",
    "@register_cell_magic\n",
    "def sqlite3(line, cell):\n",
    "    cell = [\n",
    "        l for l in cell.split(\"\\n\") if l[0:2] != \"--\" and l[0:2] not in [\"--\", \"##\"]\n",
    "    ]\n",
    "    cell = \"\\n\".join(cell)\n",
    "    return cur.execute(cell).fetchall()\n",
    "\n",
    "\n",
    "@register_cell_magic\n",
    "def sqlite3script(line, cell):\n",
    "    cell = [l for l in cell.split(\"\\n\") if len(l) >= 2 and l[0:2] not in [\"--\", \"##\"]]\n",
    "    cell = \"\\n\".join(cell)\n",
    "    conn.executescript(cell)\n",
    "    conn.commit()"
   ]
  },
  {
   "cell_type": "markdown",
   "id": "27c1cb29-d22a-4ef9-a8b2-9dba75d589ca",
   "metadata": {},
   "source": [
    "**Datos**"
   ]
  },
  {
   "cell_type": "code",
   "execution_count": 2,
   "id": "f7bc63e7-a9f3-4e4e-9f09-cb26d13776ae",
   "metadata": {
    "tags": []
   },
   "outputs": [],
   "source": [
    "%%sqlite3script\n",
    "\n",
    "DROP TABLE IF EXISTS t1;\n",
    "\n",
    "CREATE TABLE t1(\n",
    "    a INTEGER PRIMARY KEY, \n",
    "    b, \n",
    "    c\n",
    ");\n",
    "\n",
    "INSERT INTO \n",
    "    t1 \n",
    "VALUES   \n",
    "    (1, 'G', 'one'  ),\n",
    "    (2, 'F', 'two'  ),\n",
    "    (3, 'E', 'three'),\n",
    "    (4, 'D', 'one'  ),\n",
    "    (5, 'C', 'two'  ),\n",
    "    (6, 'B', 'three'),\n",
    "    (7, 'A', 'one'  );"
   ]
  },
  {
   "cell_type": "markdown",
   "id": "44d1cc03-c8cc-41d3-8c1c-7d8d3c018128",
   "metadata": {},
   "source": [
    "**Conceptos fundamentales**"
   ]
  },
  {
   "cell_type": "markdown",
   "id": "4af17f17-9a4a-4ed6-bc8f-8868cf14575d",
   "metadata": {},
   "source": [
    "* Son funciones SQL cuyas entradas son tomadas de una \"ventana\" conformada por una o más filas en los resultados de una clausula SELECT."
   ]
  },
  {
   "cell_type": "markdown",
   "id": "a66f88b5-1492-4ccc-8fe0-e14bbaf8e460",
   "metadata": {},
   "source": [
    "* Se distingen de otras funciones SQL porque usan la palabra reservada OVER."
   ]
  },
  {
   "cell_type": "markdown",
   "id": "9ea0c263-534b-47be-9d6c-3e2ad5d68edf",
   "metadata": {},
   "source": [
    "* Las funciones de ventana también pueden tener una clausula FILTER entre la función y la clausula OVER."
   ]
  },
  {
   "cell_type": "markdown",
   "id": "d0388d11-4a1d-4e55-8907-98bbfb629ee9",
   "metadata": {},
   "source": [
    "* No pueden usar DISTINCT"
   ]
  },
  {
   "cell_type": "markdown",
   "id": "e35980e2-ba32-4ebe-a331-86da1fc04df0",
   "metadata": {},
   "source": [
    "* Las funciones de agregación no cambian el número de filas retornadas y agregan a cada fila el resultado de la función de agregación."
   ]
  },
  {
   "cell_type": "code",
   "execution_count": 3,
   "id": "00698b70-c9cc-4b3d-8077-942e9521fe8d",
   "metadata": {
    "tags": []
   },
   "outputs": [
    {
     "data": {
      "text/plain": [
       "[(1, 'G', 'one', 7),\n",
       " (4, 'D', 'one', 7),\n",
       " (7, 'A', 'one', 7),\n",
       " (3, 'E', 'three', 6),\n",
       " (6, 'B', 'three', 6),\n",
       " (2, 'F', 'two', 5),\n",
       " (5, 'C', 'two', 5)]"
      ]
     },
     "execution_count": 3,
     "metadata": {},
     "output_type": "execute_result"
    }
   ],
   "source": [
    "%%sqlite3 \n",
    "\n",
    "SELECT \n",
    "    a, b, c, max(a) \n",
    "OVER \n",
    "(\n",
    "    PARTITION BY c\n",
    ") \n",
    "FROM \n",
    "    t1;"
   ]
  },
  {
   "cell_type": "code",
   "execution_count": 4,
   "id": "9ac5e1e4-8783-4460-a557-c67b39cbb949",
   "metadata": {
    "tags": []
   },
   "outputs": [
    {
     "data": {
      "text/plain": [
       "[(7, 'A', 'one', 1),\n",
       " (4, 'D', 'one', 2),\n",
       " (1, 'G', 'one', 3),\n",
       " (6, 'B', 'three', 1),\n",
       " (3, 'E', 'three', 2),\n",
       " (5, 'C', 'two', 1),\n",
       " (2, 'F', 'two', 2)]"
      ]
     },
     "execution_count": 4,
     "metadata": {},
     "output_type": "execute_result"
    }
   ],
   "source": [
    "%%sqlite3\n",
    "\n",
    "SELECT \n",
    "    a, b, c, rank() \n",
    "OVER \n",
    "(\n",
    "    PARTITION BY c \n",
    "    ORDER BY b\n",
    ") \n",
    "FROM \n",
    "    t1;"
   ]
  },
  {
   "cell_type": "code",
   "execution_count": 6,
   "id": "6f9ec2a6-269f-4d0f-ae06-43f1659134bc",
   "metadata": {
    "tags": []
   },
   "outputs": [
    {
     "data": {
      "text/plain": [
       "[(1, 'G', 'G.F'),\n",
       " (2, 'F', 'G.F.E'),\n",
       " (3, 'E', 'F.E.D'),\n",
       " (4, 'D', 'E.D.C'),\n",
       " (5, 'C', 'D.C.B'),\n",
       " (6, 'B', 'C.B.A'),\n",
       " (7, 'A', 'B.A')]"
      ]
     },
     "execution_count": 6,
     "metadata": {},
     "output_type": "execute_result"
    }
   ],
   "source": [
    "%%sqlite3\n",
    "\n",
    "SELECT \n",
    "    a, b, group_concat(b, '.') \n",
    "OVER \n",
    "(\n",
    "    ORDER BY \n",
    "        a \n",
    "    ROWS BETWEEN 1 PRECEDING AND 1 FOLLOWING\n",
    ") \n",
    "AS \n",
    "    group_concat \n",
    "FROM \n",
    "    t1;"
   ]
  },
  {
   "cell_type": "markdown",
   "id": "53090f7a-9b51-42ca-aac5-01f30e335a6b",
   "metadata": {},
   "source": [
    "* La clausula PARTITION BY permite dividir el resultado de la consulta en una o más particiones. Una partición esta conformada por todas las filas que tienen el mismo valor para todos los terminos de la clausula PARTITION BY."
   ]
  },
  {
   "cell_type": "code",
   "execution_count": 7,
   "id": "581f0cd6-e795-4f5f-810d-70d5e7df12f1",
   "metadata": {
    "tags": []
   },
   "outputs": [
    {
     "data": {
      "text/plain": [
       "[('one', 1, 'G', 'G.D.A'),\n",
       " ('one', 4, 'D', 'D.A'),\n",
       " ('one', 7, 'A', 'A'),\n",
       " ('three', 3, 'E', 'E.B'),\n",
       " ('three', 6, 'B', 'B'),\n",
       " ('two', 2, 'F', 'F.C'),\n",
       " ('two', 5, 'C', 'C')]"
      ]
     },
     "execution_count": 7,
     "metadata": {},
     "output_type": "execute_result"
    }
   ],
   "source": [
    "%%sqlite3\n",
    "\n",
    "SELECT \n",
    "    c, a, b, group_concat(b, '.') \n",
    "OVER \n",
    "(\n",
    "    PARTITION BY c \n",
    "    ORDER BY a \n",
    "    RANGE BETWEEN CURRENT ROW AND UNBOUNDED FOLLOWING\n",
    ") \n",
    "AS \n",
    "    group_concat\n",
    "FROM \n",
    "    t1 \n",
    "ORDER BY \n",
    "    c, a;"
   ]
  },
  {
   "cell_type": "code",
   "execution_count": 8,
   "id": "7f5d01c0-949a-49af-8ce1-ae92fa6057f3",
   "metadata": {
    "tags": []
   },
   "outputs": [
    {
     "data": {
      "text/plain": [
       "[('one', 1, 'G', 'G.D.A'),\n",
       " ('two', 2, 'F', 'F.C'),\n",
       " ('three', 3, 'E', 'E.B'),\n",
       " ('one', 4, 'D', 'D.A'),\n",
       " ('two', 5, 'C', 'C'),\n",
       " ('three', 6, 'B', 'B'),\n",
       " ('one', 7, 'A', 'A')]"
      ]
     },
     "execution_count": 8,
     "metadata": {},
     "output_type": "execute_result"
    }
   ],
   "source": [
    "%%sqlite3\n",
    "\n",
    "SELECT \n",
    "    c, a, b, group_concat(b, '.') \n",
    "OVER \n",
    "(\n",
    "    PARTITION BY c \n",
    "    ORDER BY a \n",
    "    RANGE BETWEEN CURRENT ROW AND UNBOUNDED FOLLOWING\n",
    ") \n",
    "AS \n",
    "    group_concat\n",
    "FROM \n",
    "    t1 \n",
    "ORDER BY \n",
    "    a;"
   ]
  },
  {
   "cell_type": "code",
   "execution_count": 9,
   "id": "0a42c8ec-cff9-4dad-9408-78df93f9893c",
   "metadata": {
    "tags": []
   },
   "outputs": [
    {
     "data": {
      "text/plain": [
       "[(1, 'G', 'one', 'G.D.A'),\n",
       " (4, 'D', 'one', 'G.D.A'),\n",
       " (7, 'A', 'one', 'G.D.A'),\n",
       " (3, 'E', 'three', 'G.D.A.E.B'),\n",
       " (6, 'B', 'three', 'G.D.A.E.B'),\n",
       " (2, 'F', 'two', 'G.D.A.E.B.F.C'),\n",
       " (5, 'C', 'two', 'G.D.A.E.B.F.C')]"
      ]
     },
     "execution_count": 9,
     "metadata": {},
     "output_type": "execute_result"
    }
   ],
   "source": [
    "%%sqlite3\n",
    "\n",
    "SELECT \n",
    "    a, b, c, group_concat(b, '.') \n",
    "OVER \n",
    "(\n",
    "    ORDER BY c\n",
    ") \n",
    "AS \n",
    "    group_concat\n",
    "FROM \n",
    "    t1 \n",
    "ORDER BY \n",
    "    c;"
   ]
  },
  {
   "cell_type": "code",
   "execution_count": 10,
   "id": "e2c9f8f0-b577-4b9b-89fa-c09dc00d0238",
   "metadata": {
    "tags": []
   },
   "outputs": [
    {
     "data": {
      "text/plain": [
       "[('one', 1, 'G', 'G.D.A.E.B.F.C'),\n",
       " ('one', 4, 'D', 'D.A.E.B.F.C'),\n",
       " ('one', 7, 'A', 'A.E.B.F.C'),\n",
       " ('three', 3, 'E', 'E.B.F.C'),\n",
       " ('three', 6, 'B', 'B.F.C'),\n",
       " ('two', 2, 'F', 'F.C'),\n",
       " ('two', 5, 'C', 'C')]"
      ]
     },
     "execution_count": 10,
     "metadata": {},
     "output_type": "execute_result"
    }
   ],
   "source": [
    "%%sqlite3\n",
    "\n",
    "SELECT \n",
    "    c, a, b, group_concat(b, '.') \n",
    "OVER \n",
    "(\n",
    "    ORDER BY c, a \n",
    "    ROWS BETWEEN CURRENT ROW AND UNBOUNDED FOLLOWING\n",
    ") \n",
    "AS \n",
    "    group_concat\n",
    "FROM \n",
    "    t1 \n",
    "ORDER BY \n",
    "    c, a;"
   ]
  },
  {
   "cell_type": "code",
   "execution_count": 11,
   "id": "2353f301-ff00-456a-b9b9-5e79b01e16be",
   "metadata": {
    "tags": []
   },
   "outputs": [
    {
     "data": {
      "text/plain": [
       "[('one', 1, 'G', 'G'),\n",
       " ('two', 2, 'F', 'G'),\n",
       " ('three', 3, 'E', 'G.E'),\n",
       " ('one', 4, 'D', 'G.E.D'),\n",
       " ('two', 5, 'C', 'G.E.D'),\n",
       " ('three', 6, 'B', 'G.E.D.B'),\n",
       " ('one', 7, 'A', 'G.E.D.B.A')]"
      ]
     },
     "execution_count": 11,
     "metadata": {},
     "output_type": "execute_result"
    }
   ],
   "source": [
    "%%sqlite3\n",
    "\n",
    "SELECT \n",
    "    c, a, b, group_concat(b, '.') \n",
    "FILTER \n",
    "(\n",
    "    WHERE c!='two'\n",
    ") \n",
    "OVER \n",
    "(\n",
    "  ORDER BY a\n",
    ") \n",
    "AS \n",
    "    group_concat\n",
    "FROM \n",
    "    t1 \n",
    "ORDER BY \n",
    "    a;"
   ]
  }
 ],
 "metadata": {
  "kernelspec": {
   "display_name": "Python 3 (ipykernel)",
   "language": "python",
   "name": "python3"
  },
  "language_info": {
   "codemirror_mode": {
    "name": "ipython",
    "version": 3
   },
   "file_extension": ".py",
   "mimetype": "text/x-python",
   "name": "python",
   "nbconvert_exporter": "python",
   "pygments_lexer": "ipython3",
   "version": "3.9.6"
  }
 },
 "nbformat": 4,
 "nbformat_minor": 5
}
