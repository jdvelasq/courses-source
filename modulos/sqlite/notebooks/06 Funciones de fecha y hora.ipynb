{
 "cells": [
  {
   "cell_type": "markdown",
   "id": "6a28bac2-3be3-4e54-bb7e-1d80b8fe11d4",
   "metadata": {},
   "source": [
    "Funciones de fecha y hora\n",
    "==="
   ]
  },
  {
   "cell_type": "markdown",
   "id": "b5bbc0bd-2512-4142-b7a6-25c1d5b71a39",
   "metadata": {},
   "source": [
    "**Preparacion**"
   ]
  },
  {
   "cell_type": "code",
   "execution_count": 1,
   "id": "7ee20fe5-fe5f-433e-9fe9-1106d2beb412",
   "metadata": {
    "tags": []
   },
   "outputs": [],
   "source": [
    "import sqlite3\n",
    "\n",
    "from IPython.core.magic import register_cell_magic, register_line_magic\n",
    "\n",
    "conn = sqlite3.connect(\":memory:\")\n",
    "cur = conn.cursor()\n",
    "\n",
    "\n",
    "@register_line_magic\n",
    "def sql(line):\n",
    "    return cur.execute(line).fetchall()"
   ]
  },
  {
   "cell_type": "markdown",
   "id": "bc0116a4-2425-43c0-910b-a25abafdd0e4",
   "metadata": {},
   "source": [
    "**Funciones**"
   ]
  },
  {
   "cell_type": "code",
   "execution_count": 2,
   "id": "49b0afe9-8224-4c36-ac4e-1b1726ea897c",
   "metadata": {
    "tags": []
   },
   "outputs": [
    {
     "data": {
      "text/plain": [
       "[('2023-04-01',)]"
      ]
     },
     "execution_count": 2,
     "metadata": {},
     "output_type": "execute_result"
    }
   ],
   "source": [
    "##\n",
    "## date()\n",
    "##\n",
    "%sql SELECT date()"
   ]
  },
  {
   "cell_type": "code",
   "execution_count": 3,
   "id": "72d0dddf-935b-4053-984f-95660bcad249",
   "metadata": {
    "tags": []
   },
   "outputs": [
    {
     "data": {
      "text/plain": [
       "[('17:12:29',)]"
      ]
     },
     "execution_count": 3,
     "metadata": {},
     "output_type": "execute_result"
    }
   ],
   "source": [
    "##\n",
    "## time()\n",
    "##\n",
    "%sql SELECT time()"
   ]
  },
  {
   "cell_type": "code",
   "execution_count": 4,
   "id": "fc3b7ff5-377f-4d44-a01e-eda3ee1cc33a",
   "metadata": {
    "tags": []
   },
   "outputs": [
    {
     "data": {
      "text/plain": [
       "[('2023-04-01 17:12:29',)]"
      ]
     },
     "execution_count": 4,
     "metadata": {},
     "output_type": "execute_result"
    }
   ],
   "source": [
    "##\n",
    "## datetime()\n",
    "##\n",
    "%sql SELECT datetime()"
   ]
  },
  {
   "cell_type": "code",
   "execution_count": 5,
   "id": "f9737d96-e913-4163-b531-d9768a53aa84",
   "metadata": {
    "tags": []
   },
   "outputs": [
    {
     "data": {
      "text/plain": [
       "[('2023',)]"
      ]
     },
     "execution_count": 5,
     "metadata": {},
     "output_type": "execute_result"
    }
   ],
   "source": [
    "##\n",
    "## strftime(format, date)\n",
    "##\n",
    "##      Caracteres de formato                    Valores de tiempo\n",
    "##     ---------------------------------------------------------------------\n",
    "##      %d  day of month: 00                     YYYY-MM-DD\n",
    "##      %f  fractional seconds: SS.SSS           YYYY-MM-DD HH:MM\n",
    "##      %H  hour: 00-24                          YYYY-MM-DD HH:MM:SS\n",
    "##      %j  day of year: 001-366                 YYYY-MM-DD HH:MM:SS.SSS\n",
    "##      %J  Julian day number (fractional)       YYYY-MM-DDTHH:MM\n",
    "##      %m  month: 01-12                         YYYY-MM-DDTHH:MM:SS\n",
    "##      %M  minute: 00-59                        YYYY-MM-DDTHH:MM:SS.SSS \n",
    "##      %s  seconds since 1970-01-01             HH:MM\n",
    "##      %S  seconds: 00-59                       HH:MM:SS\n",
    "##      %w  day of week 0-6 with Sunday==0       HH:MM:SS.SSS\n",
    "##      %W  week of year: 00-53                  now\n",
    "##      %Y  year: 0000-9999                      DDDDDDDDDD\n",
    "##      %%  %\n",
    "##     \n",
    "%sql SELECT strftime('%Y', 'now')"
   ]
  },
  {
   "cell_type": "code",
   "execution_count": 6,
   "id": "2b757519-1976-496e-bb99-86902016a190",
   "metadata": {
    "tags": []
   },
   "outputs": [
    {
     "data": {
      "text/plain": [
       "[('2023',)]"
      ]
     },
     "execution_count": 6,
     "metadata": {},
     "output_type": "execute_result"
    }
   ],
   "source": [
    "%sql SELECT strftime('%Y', '2023-02-01')"
   ]
  },
  {
   "cell_type": "code",
   "execution_count": 7,
   "id": "5a975e8e-916d-4515-a6da-fc2764898ea6",
   "metadata": {
    "tags": []
   },
   "outputs": [
    {
     "data": {
      "text/plain": [
       "[('3',)]"
      ]
     },
     "execution_count": 7,
     "metadata": {},
     "output_type": "execute_result"
    }
   ],
   "source": [
    "%sql SELECT strftime('%w', '2023-02-01')"
   ]
  },
  {
   "cell_type": "code",
   "execution_count": 8,
   "id": "797939c7-4ef6-431e-b9e6-704a1c143b7a",
   "metadata": {
    "tags": []
   },
   "outputs": [
    {
     "data": {
      "text/plain": [
       "[('2023',)]"
      ]
     },
     "execution_count": 8,
     "metadata": {},
     "output_type": "execute_result"
    }
   ],
   "source": [
    "%sql SELECT strftime('%Y', datetime())"
   ]
  },
  {
   "cell_type": "code",
   "execution_count": 9,
   "id": "a33cf9f0-9542-4db7-9b93-c4282debe0b9",
   "metadata": {
    "tags": []
   },
   "outputs": [
    {
     "data": {
      "text/plain": [
       "[('2023-04-01',)]"
      ]
     },
     "execution_count": 9,
     "metadata": {},
     "output_type": "execute_result"
    }
   ],
   "source": [
    "##\n",
    "## Modificadores\n",
    "##\n",
    "##  NNN days\n",
    "##  NNN hours\n",
    "##  NNN minutes\n",
    "##  NNN.NNNN seconds\n",
    "##  NNN months\n",
    "##  NNN years\n",
    "##  start of month\n",
    "##  start of year\n",
    "##  start of day\n",
    "##  weekday N\n",
    "##  unixepoch\n",
    "##  julianday\n",
    "##  auto\n",
    "##  localtime\n",
    "##  utc\n",
    "##\n",
    "%sql SELECT date('now', 'start of month')"
   ]
  },
  {
   "cell_type": "code",
   "execution_count": 10,
   "id": "97aebd4d-6ae6-401e-b836-cd159b992fdd",
   "metadata": {
    "tags": []
   },
   "outputs": [
    {
     "data": {
      "text/plain": [
       "[('2023-04-30',)]"
      ]
     },
     "execution_count": 10,
     "metadata": {},
     "output_type": "execute_result"
    }
   ],
   "source": [
    "##\n",
    "## Cálculo del último dia del mes\n",
    "##\n",
    "%sql SELECT date('now', 'start of month', '+1 month', '-1 day')"
   ]
  }
 ],
 "metadata": {
  "kernelspec": {
   "display_name": "Python 3 (ipykernel)",
   "language": "python",
   "name": "python3"
  },
  "language_info": {
   "codemirror_mode": {
    "name": "ipython",
    "version": 3
   },
   "file_extension": ".py",
   "mimetype": "text/x-python",
   "name": "python",
   "nbconvert_exporter": "python",
   "pygments_lexer": "ipython3",
   "version": "3.9.6"
  }
 },
 "nbformat": 4,
 "nbformat_minor": 5
}
