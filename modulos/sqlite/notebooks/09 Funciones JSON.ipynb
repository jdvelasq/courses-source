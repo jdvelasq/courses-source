{
 "cells": [
  {
   "cell_type": "markdown",
   "id": "366325fe-2cb1-4d01-b2d1-679e1b2bde27",
   "metadata": {},
   "source": [
    "Funciones JSON\n",
    "==="
   ]
  },
  {
   "cell_type": "markdown",
   "id": "18504d77-878d-40f0-82bc-23fec93ba27d",
   "metadata": {},
   "source": [
    "**Preparacion**"
   ]
  },
  {
   "cell_type": "code",
   "execution_count": 1,
   "id": "ae1a1375-a5a6-426a-83c8-aece4adc96d8",
   "metadata": {
    "tags": []
   },
   "outputs": [],
   "source": [
    "import sqlite3\n",
    "\n",
    "from IPython.core.magic import register_cell_magic, register_line_magic\n",
    "\n",
    "conn = sqlite3.connect(\":memory:\")\n",
    "cur = conn.cursor()\n",
    "\n",
    "\n",
    "@register_line_magic\n",
    "def sql(line):\n",
    "    return cur.execute(line).fetchall()"
   ]
  },
  {
   "cell_type": "markdown",
   "id": "d96156b2-7439-4d22-b2a5-eaa939df9ae3",
   "metadata": {},
   "source": [
    "**Funciones**"
   ]
  },
  {
   "cell_type": "code",
   "execution_count": 2,
   "id": "aa41d140-1bee-4fd5-be0c-dc9a0e248003",
   "metadata": {
    "tags": []
   },
   "outputs": [
    {
     "data": {
      "text/plain": [
       "[('{\"this\":\"is\",\"a\":[\"test\"]}',)]"
      ]
     },
     "execution_count": 2,
     "metadata": {},
     "output_type": "execute_result"
    }
   ],
   "source": [
    "##\n",
    "## json(X)\n",
    "## verifica si su argumento es un string json valido y retorna \n",
    "## una version con los espacios en blanco removidos.\n",
    "##\n",
    "%sql SELECT json(' { \"this\" : \"is\", \"a\": [ \"test\" ] } ')"
   ]
  },
  {
   "cell_type": "code",
   "execution_count": 3,
   "id": "cb09dfae-6069-4112-8bc4-cb4059732ffb",
   "metadata": {
    "tags": []
   },
   "outputs": [
    {
     "data": {
      "text/plain": [
       "[('[1,2,\"3\",4]',)]"
      ]
     },
     "execution_count": 3,
     "metadata": {},
     "output_type": "execute_result"
    }
   ],
   "source": [
    "##\n",
    "## json_array(X1, ...)\n",
    "## recibe 0 o mas argumentos y retorna un string json\n",
    "##\n",
    "%sql SELECT json_array(1,2,'3',4) "
   ]
  },
  {
   "cell_type": "code",
   "execution_count": 4,
   "id": "a0f7979b-3430-4f5b-b351-187c0c01b9bb",
   "metadata": {
    "tags": []
   },
   "outputs": [
    {
     "data": {
      "text/plain": [
       "[('[\"[1,2]\"]',)]"
      ]
     },
     "execution_count": 4,
     "metadata": {},
     "output_type": "execute_result"
    }
   ],
   "source": [
    "%sql SELECT json_array('[1,2]')"
   ]
  },
  {
   "cell_type": "code",
   "execution_count": 5,
   "id": "3855126d-7810-4438-8190-c6d598ba3106",
   "metadata": {
    "tags": []
   },
   "outputs": [
    {
     "data": {
      "text/plain": [
       "[('[[1,2]]',)]"
      ]
     },
     "execution_count": 5,
     "metadata": {},
     "output_type": "execute_result"
    }
   ],
   "source": [
    "%sql SELECT json_array(json_array(1,2))"
   ]
  },
  {
   "cell_type": "code",
   "execution_count": 6,
   "id": "875fca7f-4a07-43cd-b16a-640886608b79",
   "metadata": {
    "tags": []
   },
   "outputs": [
    {
     "data": {
      "text/plain": [
       "[('[1,null,\"3\",\"[4,5]\",\"{\\\\\"six\\\\\":7.7}\"]',)]"
      ]
     },
     "execution_count": 6,
     "metadata": {},
     "output_type": "execute_result"
    }
   ],
   "source": [
    "%sql SELECT json_array(1,null,'3','[4,5]','{\"six\":7.7}')"
   ]
  },
  {
   "cell_type": "code",
   "execution_count": 7,
   "id": "86987eac-68af-47a0-961a-f050b37f7810",
   "metadata": {
    "tags": []
   },
   "outputs": [
    {
     "data": {
      "text/plain": [
       "[('[1,null,\"3\",[4,5],{\"six\":7.7}]',)]"
      ]
     },
     "execution_count": 7,
     "metadata": {},
     "output_type": "execute_result"
    }
   ],
   "source": [
    "%sql SELECT json_array(1,null,'3',json('[4,5]'),json('{\"six\":7.7}'))"
   ]
  },
  {
   "cell_type": "code",
   "execution_count": 8,
   "id": "9afdbceb-c9e4-4bea-a5b1-03c791d95b18",
   "metadata": {
    "tags": []
   },
   "outputs": [
    {
     "data": {
      "text/plain": [
       "[('{\"a\":2,\"c\":[4,5,{\"f\":7}]}',)]"
      ]
     },
     "execution_count": 8,
     "metadata": {},
     "output_type": "execute_result"
    }
   ],
   "source": [
    "##\n",
    "## json_extract(X, P1, P2, ...)\n",
    "##\n",
    "%sql SELECT json_extract('{\"a\":2,\"c\":[4,5,{\"f\":7}]}', '$')"
   ]
  },
  {
   "cell_type": "code",
   "execution_count": 9,
   "id": "32b27dce-dde8-4434-b211-8947c0650bfa",
   "metadata": {
    "tags": []
   },
   "outputs": [
    {
     "data": {
      "text/plain": [
       "[('[4,5,{\"f\":7}]',)]"
      ]
     },
     "execution_count": 9,
     "metadata": {},
     "output_type": "execute_result"
    }
   ],
   "source": [
    "%sql SELECT json_extract('{\"a\":2,\"c\":[4,5,{\"f\":7}]}', '$.c')"
   ]
  },
  {
   "cell_type": "code",
   "execution_count": 10,
   "id": "12cddca9-d523-49e0-a296-2a7086ae059a",
   "metadata": {
    "tags": []
   },
   "outputs": [
    {
     "data": {
      "text/plain": [
       "[('{\"f\":7}',)]"
      ]
     },
     "execution_count": 10,
     "metadata": {},
     "output_type": "execute_result"
    }
   ],
   "source": [
    "%sql SELECT json_extract('{\"a\":2,\"c\":[4,5,{\"f\":7}]}', '$.c[2]')"
   ]
  },
  {
   "cell_type": "code",
   "execution_count": 11,
   "id": "09ff101e-a069-4821-bc47-ee80d3205dfe",
   "metadata": {
    "tags": []
   },
   "outputs": [
    {
     "data": {
      "text/plain": [
       "[(7,)]"
      ]
     },
     "execution_count": 11,
     "metadata": {},
     "output_type": "execute_result"
    }
   ],
   "source": [
    "%sql SELECT json_extract('{\"a\":2,\"c\":[4,5,{\"f\":7}]}', '$.c[2].f') "
   ]
  },
  {
   "cell_type": "code",
   "execution_count": 12,
   "id": "5beddb3c-d6c5-45c6-bb9b-4b702b5b5bff",
   "metadata": {
    "tags": []
   },
   "outputs": [
    {
     "data": {
      "text/plain": [
       "[('[[4,5],2]',)]"
      ]
     },
     "execution_count": 12,
     "metadata": {},
     "output_type": "execute_result"
    }
   ],
   "source": [
    "%sql SELECT json_extract('{\"a\":2,\"c\":[4,5],\"f\":7}','$.c','$.a')"
   ]
  },
  {
   "cell_type": "code",
   "execution_count": 13,
   "id": "9bf5dd28-7096-4b59-acb3-f2eae69f01fe",
   "metadata": {
    "tags": []
   },
   "outputs": [
    {
     "data": {
      "text/plain": [
       "[(5,)]"
      ]
     },
     "execution_count": 13,
     "metadata": {},
     "output_type": "execute_result"
    }
   ],
   "source": [
    "%sql SELECT json_extract('{\"a\":2,\"c\":[4,5],\"f\":7}','$.c[#-1]')"
   ]
  },
  {
   "cell_type": "code",
   "execution_count": 14,
   "id": "d1929e9f-aeb7-4cf5-aa97-91fd117b93a4",
   "metadata": {
    "tags": []
   },
   "outputs": [
    {
     "data": {
      "text/plain": [
       "[(None,)]"
      ]
     },
     "execution_count": 14,
     "metadata": {},
     "output_type": "execute_result"
    }
   ],
   "source": [
    "%sql SELECT json_extract('{\"a\":2,\"c\":[4,5,{\"f\":7}]}', '$.x') "
   ]
  },
  {
   "cell_type": "code",
   "execution_count": 15,
   "id": "dec92e79-85b2-4738-b05e-301daa5946af",
   "metadata": {
    "tags": []
   },
   "outputs": [
    {
     "data": {
      "text/plain": [
       "[('[null,2]',)]"
      ]
     },
     "execution_count": 15,
     "metadata": {},
     "output_type": "execute_result"
    }
   ],
   "source": [
    "%sql SELECT json_extract('{\"a\":2,\"c\":[4,5,{\"f\":7}]}', '$.x', '$.a')"
   ]
  },
  {
   "cell_type": "code",
   "execution_count": 16,
   "id": "1a832226-b04d-4220-827b-6d223e70707d",
   "metadata": {
    "tags": []
   },
   "outputs": [
    {
     "data": {
      "text/plain": [
       "[('xyz',)]"
      ]
     },
     "execution_count": 16,
     "metadata": {},
     "output_type": "execute_result"
    }
   ],
   "source": [
    "%sql SELECT json_extract('{\"a\":\"xyz\"}', '$.a')"
   ]
  },
  {
   "cell_type": "code",
   "execution_count": 17,
   "id": "3c52178f-f490-4ec7-97ac-fc8d23b74e7b",
   "metadata": {
    "tags": []
   },
   "outputs": [
    {
     "data": {
      "text/plain": [
       "[(None,)]"
      ]
     },
     "execution_count": 17,
     "metadata": {},
     "output_type": "execute_result"
    }
   ],
   "source": [
    "%sql SELECT json_extract('{\"a\":null}', '$.a')"
   ]
  },
  {
   "cell_type": "code",
   "execution_count": 18,
   "id": "d9f3939b-2d6a-4b8a-b64b-b1326300fb35",
   "metadata": {
    "tags": []
   },
   "outputs": [
    {
     "data": {
      "text/plain": [
       "[('{\"a\":2,\"c\":[4,5,{\"f\":7}]}',)]"
      ]
     },
     "execution_count": 18,
     "metadata": {},
     "output_type": "execute_result"
    }
   ],
   "source": [
    "##\n",
    "## Operadores -> y ->>\n",
    "## Permiten extraer subcomponentes del json.\n",
    "##\n",
    "%sql SELECT '{\"a\":2,\"c\":[4,5,{\"f\":7}]}' -> '$'"
   ]
  },
  {
   "cell_type": "code",
   "execution_count": 19,
   "id": "37edfca3-a709-41be-a314-648d9a66394a",
   "metadata": {},
   "outputs": [
    {
     "data": {
      "text/plain": [
       "[('[4,5,{\"f\":7}]',)]"
      ]
     },
     "execution_count": 19,
     "metadata": {},
     "output_type": "execute_result"
    }
   ],
   "source": [
    "%sql SELECT '{\"a\":2,\"c\":[4,5,{\"f\":7}]}' -> '$.c' "
   ]
  },
  {
   "cell_type": "code",
   "execution_count": 20,
   "id": "8082a234-aee0-47f7-a4ff-0ea723dd9810",
   "metadata": {},
   "outputs": [
    {
     "data": {
      "text/plain": [
       "[('[4,5,{\"f\":7}]',)]"
      ]
     },
     "execution_count": 20,
     "metadata": {},
     "output_type": "execute_result"
    }
   ],
   "source": [
    "%sql SELECT '{\"a\":2,\"c\":[4,5,{\"f\":7}]}' -> 'c'"
   ]
  },
  {
   "cell_type": "code",
   "execution_count": 21,
   "id": "786b8e07-4b4d-43ee-934f-5072b8af5fff",
   "metadata": {},
   "outputs": [
    {
     "data": {
      "text/plain": [
       "[('{\"f\":7}',)]"
      ]
     },
     "execution_count": 21,
     "metadata": {},
     "output_type": "execute_result"
    }
   ],
   "source": [
    "%sql SELECT '{\"a\":2,\"c\":[4,5,{\"f\":7}]}' -> '$.c[2]'"
   ]
  },
  {
   "cell_type": "code",
   "execution_count": 22,
   "id": "3593ea0e-a33f-428f-9f70-796c29e70900",
   "metadata": {},
   "outputs": [
    {
     "data": {
      "text/plain": [
       "[('7',)]"
      ]
     },
     "execution_count": 22,
     "metadata": {},
     "output_type": "execute_result"
    }
   ],
   "source": [
    "%sql SELECT '{\"a\":2,\"c\":[4,5,{\"f\":7}]}' -> '$.c[2].f'"
   ]
  },
  {
   "cell_type": "code",
   "execution_count": 23,
   "id": "c6abbcb0-8af8-4faa-bcf9-3d82e8693be3",
   "metadata": {},
   "outputs": [
    {
     "data": {
      "text/plain": [
       "[('5',)]"
      ]
     },
     "execution_count": 23,
     "metadata": {},
     "output_type": "execute_result"
    }
   ],
   "source": [
    "%sql SELECT '{\"a\":2,\"c\":[4,5],\"f\":7}' -> '$.c[#-1]'"
   ]
  },
  {
   "cell_type": "code",
   "execution_count": 24,
   "id": "5d55130b-d2e5-4894-8585-da6c9cd21718",
   "metadata": {},
   "outputs": [
    {
     "data": {
      "text/plain": [
       "[(None,)]"
      ]
     },
     "execution_count": 24,
     "metadata": {},
     "output_type": "execute_result"
    }
   ],
   "source": [
    "%sql SELECT '{\"a\":2,\"c\":[4,5,{\"f\":7}]}' -> '$.x' "
   ]
  },
  {
   "cell_type": "code",
   "execution_count": 25,
   "id": "4324eb44-c9d5-48dd-ad6b-9a9c5a1016d3",
   "metadata": {},
   "outputs": [
    {
     "data": {
      "text/plain": [
       "[('44',)]"
      ]
     },
     "execution_count": 25,
     "metadata": {},
     "output_type": "execute_result"
    }
   ],
   "source": [
    "%sql SELECT '[11,22,33,44]' -> 3"
   ]
  },
  {
   "cell_type": "code",
   "execution_count": 26,
   "id": "f4489e41-e24d-48b8-8999-bf2c535fc360",
   "metadata": {},
   "outputs": [
    {
     "data": {
      "text/plain": [
       "[(44,)]"
      ]
     },
     "execution_count": 26,
     "metadata": {},
     "output_type": "execute_result"
    }
   ],
   "source": [
    "%sql SELECT '[11,22,33,44]' ->> 3"
   ]
  },
  {
   "cell_type": "code",
   "execution_count": 27,
   "id": "313a0185-3c9b-43cc-bfb5-568383d1868c",
   "metadata": {},
   "outputs": [
    {
     "data": {
      "text/plain": [
       "[('\"xyz\"',)]"
      ]
     },
     "execution_count": 27,
     "metadata": {},
     "output_type": "execute_result"
    }
   ],
   "source": [
    "%sql SELECT '{\"a\":\"xyz\"}' -> '$.a'"
   ]
  },
  {
   "cell_type": "code",
   "execution_count": 28,
   "id": "c68096b0-d31f-4a15-a296-72762f024562",
   "metadata": {},
   "outputs": [
    {
     "data": {
      "text/plain": [
       "[('xyz',)]"
      ]
     },
     "execution_count": 28,
     "metadata": {},
     "output_type": "execute_result"
    }
   ],
   "source": [
    "%sql SELECT '{\"a\":\"xyz\"}' ->> '$.a'"
   ]
  },
  {
   "cell_type": "code",
   "execution_count": 29,
   "id": "5290ec34-5b1b-450f-91a5-951755398210",
   "metadata": {},
   "outputs": [
    {
     "data": {
      "text/plain": [
       "[('null',)]"
      ]
     },
     "execution_count": 29,
     "metadata": {},
     "output_type": "execute_result"
    }
   ],
   "source": [
    "%sql SELECT '{\"a\":null}' -> '$.a'"
   ]
  },
  {
   "cell_type": "code",
   "execution_count": 30,
   "id": "ba7d75dc-8ca3-4e24-8e7d-2fe3176fd1a5",
   "metadata": {},
   "outputs": [
    {
     "data": {
      "text/plain": [
       "[(None,)]"
      ]
     },
     "execution_count": 30,
     "metadata": {},
     "output_type": "execute_result"
    }
   ],
   "source": [
    "%sql SELECT '{\"a\":null}' ->> '$.a'"
   ]
  },
  {
   "cell_type": "code",
   "execution_count": 31,
   "id": "cf0b0691-039a-4640-85b8-40348f3df9ea",
   "metadata": {},
   "outputs": [
    {
     "data": {
      "text/plain": [
       "[('[1,2,3,4,99]',)]"
      ]
     },
     "execution_count": 31,
     "metadata": {},
     "output_type": "execute_result"
    }
   ],
   "source": [
    "##\n",
    "## json_insert()\n",
    "##\n",
    "%sql SELECT json_insert('[1,2,3,4]','$[#]',99)"
   ]
  },
  {
   "cell_type": "code",
   "execution_count": 32,
   "id": "5a94b8b4-dbe8-4650-824b-08f6343870ce",
   "metadata": {},
   "outputs": [
    {
     "data": {
      "text/plain": [
       "[('[1,[2,3,99],4]',)]"
      ]
     },
     "execution_count": 32,
     "metadata": {},
     "output_type": "execute_result"
    }
   ],
   "source": [
    "%sql SELECT json_insert('[1,[2,3],4]','$[1][#]',99)"
   ]
  },
  {
   "cell_type": "code",
   "execution_count": 33,
   "id": "c931f378-c3a7-47ce-ab02-1463fe7cf55c",
   "metadata": {},
   "outputs": [
    {
     "data": {
      "text/plain": [
       "[('{\"a\":2,\"c\":4}',)]"
      ]
     },
     "execution_count": 33,
     "metadata": {},
     "output_type": "execute_result"
    }
   ],
   "source": [
    "%sql SELECT json_insert('{\"a\":2,\"c\":4}', '$.a', 99)"
   ]
  },
  {
   "cell_type": "code",
   "execution_count": 34,
   "id": "42ee4fc1-fed2-4583-a7ea-6cc62addc01a",
   "metadata": {},
   "outputs": [
    {
     "data": {
      "text/plain": [
       "[('{\"a\":2,\"c\":4,\"e\":99}',)]"
      ]
     },
     "execution_count": 34,
     "metadata": {},
     "output_type": "execute_result"
    }
   ],
   "source": [
    "%sql SELECT json_insert('{\"a\":2,\"c\":4}', '$.e', 99) "
   ]
  },
  {
   "cell_type": "code",
   "execution_count": 35,
   "id": "fb0f0bc7-81fd-4bad-8ab4-bb222dcccfe7",
   "metadata": {},
   "outputs": [
    {
     "data": {
      "text/plain": [
       "[('{\"a\":99,\"c\":4}',)]"
      ]
     },
     "execution_count": 35,
     "metadata": {},
     "output_type": "execute_result"
    }
   ],
   "source": [
    "##\n",
    "## json_replace()\n",
    "##\n",
    "%sql SELECT json_replace('{\"a\":2,\"c\":4}', '$.a', 99)"
   ]
  },
  {
   "cell_type": "code",
   "execution_count": 36,
   "id": "526246f0-8d07-4b65-bd1b-1df38c152ea6",
   "metadata": {},
   "outputs": [
    {
     "data": {
      "text/plain": [
       "[('{\"a\":2,\"c\":4}',)]"
      ]
     },
     "execution_count": 36,
     "metadata": {},
     "output_type": "execute_result"
    }
   ],
   "source": [
    "%sql SELECT json_replace('{\"a\":2,\"c\":4}', '$.e', 99)"
   ]
  },
  {
   "cell_type": "code",
   "execution_count": 37,
   "id": "afde039d-f068-4e82-bb8f-5af924d2c512",
   "metadata": {},
   "outputs": [
    {
     "data": {
      "text/plain": [
       "[('{\"a\":99,\"c\":4}',)]"
      ]
     },
     "execution_count": 37,
     "metadata": {},
     "output_type": "execute_result"
    }
   ],
   "source": [
    "%sql SELECT json_set('{\"a\":2,\"c\":4}', '$.a', 99)"
   ]
  },
  {
   "cell_type": "code",
   "execution_count": 38,
   "id": "cba8967c-155f-4f5f-8b05-98cce8891792",
   "metadata": {},
   "outputs": [
    {
     "data": {
      "text/plain": [
       "[('{\"a\":2,\"c\":4,\"e\":99}',)]"
      ]
     },
     "execution_count": 38,
     "metadata": {},
     "output_type": "execute_result"
    }
   ],
   "source": [
    "%sql SELECT json_set('{\"a\":2,\"c\":4}', '$.e', 99)"
   ]
  },
  {
   "cell_type": "code",
   "execution_count": 39,
   "id": "38cc3ede-04f7-486f-a5e4-2c753f96efbc",
   "metadata": {},
   "outputs": [
    {
     "data": {
      "text/plain": [
       "[('{\"a\":2,\"c\":\"[97,96]\"}',)]"
      ]
     },
     "execution_count": 39,
     "metadata": {},
     "output_type": "execute_result"
    }
   ],
   "source": [
    "%sql SELECT json_set('{\"a\":2,\"c\":4}', '$.c', '[97,96]') "
   ]
  },
  {
   "cell_type": "code",
   "execution_count": 40,
   "id": "5c43d6b7-bd8f-442b-8217-79dcc7bba278",
   "metadata": {},
   "outputs": [
    {
     "data": {
      "text/plain": [
       "[('{\"a\":2,\"c\":[97,96]}',)]"
      ]
     },
     "execution_count": 40,
     "metadata": {},
     "output_type": "execute_result"
    }
   ],
   "source": [
    "%sql SELECT json_set('{\"a\":2,\"c\":4}', '$.c', json('[97,96]'))"
   ]
  },
  {
   "cell_type": "code",
   "execution_count": 41,
   "id": "30a0dffa-a59b-472e-b31c-c3d30778328e",
   "metadata": {},
   "outputs": [
    {
     "data": {
      "text/plain": [
       "[('{\"a\":2,\"c\":[97,96]}',)]"
      ]
     },
     "execution_count": 41,
     "metadata": {},
     "output_type": "execute_result"
    }
   ],
   "source": [
    "%sql SELECT json_set('{\"a\":2,\"c\":4}', '$.c', json_array(97,96))"
   ]
  },
  {
   "cell_type": "code",
   "execution_count": 42,
   "id": "1bcb3400-c6be-49ac-9169-9515964f0520",
   "metadata": {},
   "outputs": [
    {
     "data": {
      "text/plain": [
       "[('{\"a\":2,\"c\":4}',)]"
      ]
     },
     "execution_count": 42,
     "metadata": {},
     "output_type": "execute_result"
    }
   ],
   "source": [
    "##\n",
    "## json_object()\n",
    "## acepta 0 o un número par de argumentos y retorna una cadena json valida\n",
    "##\n",
    "%sql SELECT json_object('a',2,'c',4)"
   ]
  },
  {
   "cell_type": "code",
   "execution_count": 43,
   "id": "7d80577c-e9c0-46b6-9ac2-d869c90e30e7",
   "metadata": {},
   "outputs": [
    {
     "data": {
      "text/plain": [
       "[('{\"a\":2,\"c\":\"{e:5}\"}',)]"
      ]
     },
     "execution_count": 43,
     "metadata": {},
     "output_type": "execute_result"
    }
   ],
   "source": [
    "%sql SELECT json_object('a',2,'c','{e:5}')"
   ]
  },
  {
   "cell_type": "code",
   "execution_count": 44,
   "id": "14421556-9831-45c9-85b8-f1493deeabc7",
   "metadata": {},
   "outputs": [
    {
     "data": {
      "text/plain": [
       "[('{\"a\":2,\"c\":{\"e\":5}}',)]"
      ]
     },
     "execution_count": 44,
     "metadata": {},
     "output_type": "execute_result"
    }
   ],
   "source": [
    "%sql SELECT json_object('a',2,'c',json_object('e',5)) "
   ]
  },
  {
   "cell_type": "code",
   "execution_count": 45,
   "id": "7fed9389-59bd-4b08-90bd-4e57a86422a1",
   "metadata": {},
   "outputs": [
    {
     "data": {
      "text/plain": [
       "[('[0,1,3,4]',)]"
      ]
     },
     "execution_count": 45,
     "metadata": {},
     "output_type": "execute_result"
    }
   ],
   "source": [
    "##\n",
    "## json_remove(X, P, ...)\n",
    "##\n",
    "%sql SELECT json_remove('[0,1,2,3,4]','$[2]')"
   ]
  },
  {
   "cell_type": "code",
   "execution_count": 46,
   "id": "70aef80a-4b03-4a53-9068-1628d24656c2",
   "metadata": {},
   "outputs": [
    {
     "data": {
      "text/plain": [
       "[('[1,3,4]',)]"
      ]
     },
     "execution_count": 46,
     "metadata": {},
     "output_type": "execute_result"
    }
   ],
   "source": [
    "%sql SELECT json_remove('[0,1,2,3,4]','$[2]','$[0]')"
   ]
  },
  {
   "cell_type": "code",
   "execution_count": 47,
   "id": "ed18e3e8-c3ac-419e-9b65-fcb2adf5e41a",
   "metadata": {},
   "outputs": [
    {
     "data": {
      "text/plain": [
       "[('[1,2,4]',)]"
      ]
     },
     "execution_count": 47,
     "metadata": {},
     "output_type": "execute_result"
    }
   ],
   "source": [
    "%sql SELECT json_remove('[0,1,2,3,4]','$[0]','$[2]')"
   ]
  },
  {
   "cell_type": "code",
   "execution_count": 48,
   "id": "1811c869-a981-463a-834b-7725770d0923",
   "metadata": {},
   "outputs": [
    {
     "data": {
      "text/plain": [
       "[('[1,2,3]',)]"
      ]
     },
     "execution_count": 48,
     "metadata": {},
     "output_type": "execute_result"
    }
   ],
   "source": [
    "%sql SELECT json_remove('[0,1,2,3,4]','$[#-1]','$[0]')"
   ]
  },
  {
   "cell_type": "code",
   "execution_count": 49,
   "id": "9ba9e18f-b16c-4578-866c-65acd5f46e3b",
   "metadata": {},
   "outputs": [
    {
     "data": {
      "text/plain": [
       "[('{\"x\":25,\"y\":42}',)]"
      ]
     },
     "execution_count": 49,
     "metadata": {},
     "output_type": "execute_result"
    }
   ],
   "source": [
    "%sql SELECT json_remove('{\"x\":25,\"y\":42}')"
   ]
  },
  {
   "cell_type": "code",
   "execution_count": 50,
   "id": "8dacfd6d-6370-4410-b07f-8d85bf5c3595",
   "metadata": {},
   "outputs": [
    {
     "data": {
      "text/plain": [
       "[('{\"x\":25,\"y\":42}',)]"
      ]
     },
     "execution_count": 50,
     "metadata": {},
     "output_type": "execute_result"
    }
   ],
   "source": [
    "%sql SELECT json_remove('{\"x\":25,\"y\":42}','$.z')"
   ]
  },
  {
   "cell_type": "code",
   "execution_count": 51,
   "id": "4d4d91f6-f400-4424-8ca7-83a50f3a4f42",
   "metadata": {},
   "outputs": [
    {
     "data": {
      "text/plain": [
       "[('{\"x\":25}',)]"
      ]
     },
     "execution_count": 51,
     "metadata": {},
     "output_type": "execute_result"
    }
   ],
   "source": [
    "%sql SELECT json_remove('{\"x\":25,\"y\":42}','$.y')"
   ]
  },
  {
   "cell_type": "code",
   "execution_count": 52,
   "id": "2e74356e-e73f-4313-a48f-5edacbc0ed74",
   "metadata": {},
   "outputs": [
    {
     "data": {
      "text/plain": [
       "[(None,)]"
      ]
     },
     "execution_count": 52,
     "metadata": {},
     "output_type": "execute_result"
    }
   ],
   "source": [
    "%sql SELECT json_remove('{\"x\":25,\"y\":42}','$') "
   ]
  },
  {
   "cell_type": "code",
   "execution_count": 53,
   "id": "12c084e5-d653-40dc-bdd2-44c42bff6a5e",
   "metadata": {},
   "outputs": [
    {
     "data": {
      "text/plain": [
       "[(1,)]"
      ]
     },
     "execution_count": 53,
     "metadata": {},
     "output_type": "execute_result"
    }
   ],
   "source": [
    "##\n",
    "## json_valid(X)\n",
    "##\n",
    "%sql SELECT json_valid('{\"x\":35}')"
   ]
  },
  {
   "cell_type": "code",
   "execution_count": 54,
   "id": "505f24be-d13f-41d2-8dbc-91dedaf63027",
   "metadata": {
    "tags": []
   },
   "outputs": [
    {
     "data": {
      "text/plain": [
       "[(0,)]"
      ]
     },
     "execution_count": 54,
     "metadata": {},
     "output_type": "execute_result"
    }
   ],
   "source": [
    "%sql SELECT json_valid('{\"x\":35') "
   ]
  }
 ],
 "metadata": {
  "kernelspec": {
   "display_name": "Python 3 (ipykernel)",
   "language": "python",
   "name": "python3"
  },
  "language_info": {
   "codemirror_mode": {
    "name": "ipython",
    "version": 3
   },
   "file_extension": ".py",
   "mimetype": "text/x-python",
   "name": "python",
   "nbconvert_exporter": "python",
   "pygments_lexer": "ipython3",
   "version": "3.9.6"
  }
 },
 "nbformat": 4,
 "nbformat_minor": 5
}
