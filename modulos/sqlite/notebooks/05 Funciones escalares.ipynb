{
 "cells": [
  {
   "cell_type": "markdown",
   "id": "97766e56-3633-41ea-81bb-a400dc0eeffa",
   "metadata": {},
   "source": [
    "Funciones escalares\n",
    "==="
   ]
  },
  {
   "cell_type": "markdown",
   "id": "a9d31004-3760-4933-b1b5-f9d49a19a6bd",
   "metadata": {},
   "source": [
    "**Preparacion**"
   ]
  },
  {
   "cell_type": "code",
   "execution_count": 1,
   "id": "894103a4-88fe-4e82-b133-d93cbddb0cf6",
   "metadata": {
    "tags": []
   },
   "outputs": [],
   "source": [
    "import sqlite3\n",
    "\n",
    "from IPython.core.magic import register_cell_magic, register_line_magic\n",
    "\n",
    "conn = sqlite3.connect(\":memory:\")\n",
    "cur = conn.cursor()\n",
    "\n",
    "\n",
    "@register_line_magic\n",
    "def sql(line):\n",
    "    return cur.execute(line).fetchall()\n",
    "\n",
    "\n",
    "@register_cell_magic\n",
    "def sqlite3script(line, cell):\n",
    "    cell = [l for l in cell.split(\"\\n\") if len(l) >= 2 and l[0:2] not in [\"--\", \"##\"]]\n",
    "    cell = \"\\n\".join(cell)\n",
    "    conn.executescript(cell)\n",
    "    conn.commit()"
   ]
  },
  {
   "cell_type": "markdown",
   "id": "12cc4456-ed75-4405-8e6d-8678f5eea9c2",
   "metadata": {},
   "source": [
    "**Uso**"
   ]
  },
  {
   "cell_type": "code",
   "execution_count": 2,
   "id": "07f55593-1e6e-4749-8c2c-09b7fdc38210",
   "metadata": {},
   "outputs": [],
   "source": [
    "%%sqlite3script\n",
    "\n",
    "DROP TABLE IF EXISTS t1;\n",
    "\n",
    "CREATE TABLE t1(a, b);\n",
    "\n",
    "INSERT INTO \n",
    "    t1 \n",
    "VALUES   \n",
    "    (1, 'a'),\n",
    "    (2, 'b'),\n",
    "    (3, 'c');"
   ]
  },
  {
   "cell_type": "code",
   "execution_count": 3,
   "id": "bbc8bd5a-899d-4d33-9179-c5f9e7e92943",
   "metadata": {},
   "outputs": [
    {
     "data": {
      "text/plain": [
       "[(1, 'A'), (2, 'B'), (3, 'C')]"
      ]
     },
     "execution_count": 3,
     "metadata": {},
     "output_type": "execute_result"
    }
   ],
   "source": [
    "%sql SELECT a, upper(b) FROM t1"
   ]
  },
  {
   "cell_type": "markdown",
   "id": "e0b5d2ee-7813-421b-9d30-98a96b6a1dbe",
   "metadata": {},
   "source": [
    "**Funciones**"
   ]
  },
  {
   "cell_type": "code",
   "execution_count": 4,
   "id": "251d88cb-b26b-4187-a6ab-e2b6bed59803",
   "metadata": {
    "tags": []
   },
   "outputs": [
    {
     "data": {
      "text/plain": [
       "[(1,)]"
      ]
     },
     "execution_count": 4,
     "metadata": {},
     "output_type": "execute_result"
    }
   ],
   "source": [
    "##\n",
    "## abs(X)\n",
    "##\n",
    "%sql SELECT abs(-1)"
   ]
  },
  {
   "cell_type": "code",
   "execution_count": 5,
   "id": "3beafeba-5f0d-4059-b8e0-4bc6c4b66f09",
   "metadata": {
    "tags": []
   },
   "outputs": [
    {
     "data": {
      "text/plain": [
       "[('#*2',)]"
      ]
     },
     "execution_count": 5,
     "metadata": {},
     "output_type": "execute_result"
    }
   ],
   "source": [
    "##\n",
    "## char(X1,X2,...,XN)\n",
    "## (unicode)\n",
    "##\n",
    "%sql SELECT char(35,42,50)"
   ]
  },
  {
   "cell_type": "code",
   "execution_count": 6,
   "id": "72b2584a-79e7-4b35-abc8-349e03c7830f",
   "metadata": {
    "tags": []
   },
   "outputs": [
    {
     "data": {
      "text/plain": [
       "[(1,)]"
      ]
     },
     "execution_count": 6,
     "metadata": {},
     "output_type": "execute_result"
    }
   ],
   "source": [
    "##\n",
    "## coalesce(X,Y,...)\n",
    "## retorna una copia del primer argumento no nulo\n",
    "##\n",
    "%sql SELECT coalesce(NULL,1,NULL,2)"
   ]
  },
  {
   "cell_type": "code",
   "execution_count": 7,
   "id": "b169908b-9137-4ab2-b1af-4ce8cc365438",
   "metadata": {
    "tags": []
   },
   "outputs": [
    {
     "data": {
      "text/plain": [
       "[('--> 1 <---',)]"
      ]
     },
     "execution_count": 7,
     "metadata": {},
     "output_type": "execute_result"
    }
   ],
   "source": [
    "##\n",
    "## format(FORMAT,...)\n",
    "## opera como la función printf del lenguage C\n",
    "##\n",
    "%sql SELECT format(\"--> %d <---\", 1)"
   ]
  },
  {
   "cell_type": "code",
   "execution_count": 8,
   "id": "0d499791-86c9-4393-b0cb-0525b0b53683",
   "metadata": {
    "tags": []
   },
   "outputs": [
    {
     "data": {
      "text/plain": [
       "[(1,)]"
      ]
     },
     "execution_count": 8,
     "metadata": {},
     "output_type": "execute_result"
    }
   ],
   "source": [
    "##\n",
    "## glob(X,Y)\n",
    "## opera con wildcards\n",
    "##\n",
    "%sql SELECT glob(\"*ti*\", \"america latina\")"
   ]
  },
  {
   "cell_type": "code",
   "execution_count": 9,
   "id": "3c2b1f6f-bc8d-414e-ae8f-dda7a6cdcdd9",
   "metadata": {
    "tags": []
   },
   "outputs": [
    {
     "data": {
      "text/plain": [
       "[('es nulo',)]"
      ]
     },
     "execution_count": 9,
     "metadata": {},
     "output_type": "execute_result"
    }
   ],
   "source": [
    "##\n",
    "## ifnull(X,Y)\n",
    "## retorna Y si X es NULL\n",
    "##\n",
    "%sql SELECT ifnull(NULL, \"es nulo\")"
   ]
  },
  {
   "cell_type": "code",
   "execution_count": 10,
   "id": "d8cd62cb-caaa-45a1-9344-508a74fa6c53",
   "metadata": {
    "tags": []
   },
   "outputs": [
    {
     "data": {
      "text/plain": [
       "[('parte then',)]"
      ]
     },
     "execution_count": 10,
     "metadata": {},
     "output_type": "execute_result"
    }
   ],
   "source": [
    "##\n",
    "## iif(X,Y,Z)\n",
    "## X es un booleano\n",
    "##\n",
    "%sql SELECT iif(TRUE, \"parte then\", \"parte else\")"
   ]
  },
  {
   "cell_type": "code",
   "execution_count": 11,
   "id": "40313705-3eb3-4737-961e-6c9226a0e1ab",
   "metadata": {
    "tags": []
   },
   "outputs": [
    {
     "data": {
      "text/plain": [
       "[(10,)]"
      ]
     },
     "execution_count": 11,
     "metadata": {},
     "output_type": "execute_result"
    }
   ],
   "source": [
    "##\n",
    "## length(X)\n",
    "##\n",
    "%sql SELECT length(\"hola mundo\")"
   ]
  },
  {
   "cell_type": "code",
   "execution_count": 12,
   "id": "8eb74b08-3be3-4cf6-b67c-c40a88dacd90",
   "metadata": {
    "tags": []
   },
   "outputs": [
    {
     "data": {
      "text/plain": [
       "[(1, 0)]"
      ]
     },
     "execution_count": 12,
     "metadata": {},
     "output_type": "execute_result"
    }
   ],
   "source": [
    "##\n",
    "## like(X,Y)\n",
    "##\n",
    "%sql SELECT like(\"hol%\", \"hola\"), like(\"hol%\", \"mundo\", \"X\")"
   ]
  },
  {
   "cell_type": "code",
   "execution_count": 13,
   "id": "a899be06-5fc7-4512-a978-c92ee91d332c",
   "metadata": {
    "tags": []
   },
   "outputs": [
    {
     "data": {
      "text/plain": [
       "[('hola mundo',)]"
      ]
     },
     "execution_count": 13,
     "metadata": {},
     "output_type": "execute_result"
    }
   ],
   "source": [
    "##\n",
    "## lower(X)\n",
    "##\n",
    "%sql SELECT lower(\"HOLA MUNDO\")"
   ]
  },
  {
   "cell_type": "code",
   "execution_count": 14,
   "id": "9509b8cc-be74-44b3-8e50-e9faedf1d58a",
   "metadata": {
    "tags": []
   },
   "outputs": [
    {
     "data": {
      "text/plain": [
       "[('HOLA MUNDO    ', 'LA MUNDO')]"
      ]
     },
     "execution_count": 14,
     "metadata": {},
     "output_type": "execute_result"
    }
   ],
   "source": [
    "##\n",
    "## ltrim(X)\n",
    "##\n",
    "%sql SELECT ltrim(\"   HOLA MUNDO    \"), ltrim(\"HOLA MUNDO\", \"HO\")"
   ]
  },
  {
   "cell_type": "code",
   "execution_count": 15,
   "id": "18f800c4-e652-41ca-8f0e-b57eea497f7a",
   "metadata": {
    "tags": []
   },
   "outputs": [
    {
     "data": {
      "text/plain": [
       "[(4,)]"
      ]
     },
     "execution_count": 15,
     "metadata": {},
     "output_type": "execute_result"
    }
   ],
   "source": [
    "##\n",
    "## max(X,Y,...)\n",
    "##\n",
    "%sql SELECT max(1, 2, 3, 4)"
   ]
  },
  {
   "cell_type": "code",
   "execution_count": 16,
   "id": "cdf90c96-04a8-4403-85c7-716da2fa4445",
   "metadata": {
    "tags": []
   },
   "outputs": [
    {
     "data": {
      "text/plain": [
       "[(1,)]"
      ]
     },
     "execution_count": 16,
     "metadata": {},
     "output_type": "execute_result"
    }
   ],
   "source": [
    "##\n",
    "## min(X,Y,...)\n",
    "##\n",
    "%sql SELECT min(1, 2, 3, 4)"
   ]
  },
  {
   "cell_type": "code",
   "execution_count": 17,
   "id": "62722307-7ae1-4835-b6a6-4916656d6c78",
   "metadata": {
    "tags": []
   },
   "outputs": [
    {
     "data": {
      "text/plain": [
       "[('a', None)]"
      ]
     },
     "execution_count": 17,
     "metadata": {},
     "output_type": "execute_result"
    }
   ],
   "source": [
    "##\n",
    "## nullif(X,Y)\n",
    "## retorna el primer argumento si X y Y son diferentes\n",
    "## y NULL en caso contrario\n",
    "##\n",
    "%sql SELECT nullif('a', 'b'), nullif('a', 'a')"
   ]
  },
  {
   "cell_type": "code",
   "execution_count": 18,
   "id": "e0ea02c8-82bf-411b-8382-457946f72a37",
   "metadata": {
    "tags": []
   },
   "outputs": [
    {
     "data": {
      "text/plain": [
       "[(-1042884606900829196,)]"
      ]
     },
     "execution_count": 18,
     "metadata": {},
     "output_type": "execute_result"
    }
   ],
   "source": [
    "##\n",
    "## random()\n",
    "##\n",
    "%sql SELECT random()"
   ]
  },
  {
   "cell_type": "code",
   "execution_count": 19,
   "id": "4bac8d29-db0c-4dd1-921a-e9246e2ada85",
   "metadata": {
    "tags": []
   },
   "outputs": [
    {
     "data": {
      "text/plain": [
       "[('-000-000-',)]"
      ]
     },
     "execution_count": 19,
     "metadata": {},
     "output_type": "execute_result"
    }
   ],
   "source": [
    "##\n",
    "## replace(X,Y,Z)\n",
    "## reemplaza el string Y por Z en cada aparción de Y en X\n",
    "##\n",
    "%sql SELECT replace(\"-11-11-\", \"11\", \"000\")"
   ]
  },
  {
   "cell_type": "code",
   "execution_count": 20,
   "id": "e9a4f461-fcf1-422c-8508-6cb9ef657467",
   "metadata": {
    "tags": []
   },
   "outputs": [
    {
     "data": {
      "text/plain": [
       "[(1.0, 1.235)]"
      ]
     },
     "execution_count": 20,
     "metadata": {},
     "output_type": "execute_result"
    }
   ],
   "source": [
    "##\n",
    "## round(X)\n",
    "## round(X,Y)\n",
    "##\n",
    "%sql SELECT round(1.2345678), round(1.2345678, 3)"
   ]
  },
  {
   "cell_type": "code",
   "execution_count": 21,
   "id": "03f3af85-211c-440d-b2fe-af28c20db469",
   "metadata": {
    "tags": []
   },
   "outputs": [
    {
     "data": {
      "text/plain": [
       "[('   HOLA MUNDO', 'HOLA MU')]"
      ]
     },
     "execution_count": 21,
     "metadata": {},
     "output_type": "execute_result"
    }
   ],
   "source": [
    "##\n",
    "## rtrim(X)\n",
    "## rtrim(X, Y)\n",
    "##\n",
    "%sql SELECT rtrim(\"   HOLA MUNDO   \"), rtrim(\"HOLA MUNDO\", \"NDO\")"
   ]
  },
  {
   "cell_type": "code",
   "execution_count": 22,
   "id": "65d38779-f5e0-433b-ae19-32215bcfe59e",
   "metadata": {
    "tags": []
   },
   "outputs": [
    {
     "data": {
      "text/plain": [
       "[(1, -1, 0)]"
      ]
     },
     "execution_count": 22,
     "metadata": {},
     "output_type": "execute_result"
    }
   ],
   "source": [
    "##\n",
    "## sign(X)\n",
    "##\n",
    "%sql SELECT sign(10), sign(-10), sign(0)"
   ]
  },
  {
   "cell_type": "code",
   "execution_count": 23,
   "id": "0f382756-018a-4d17-89bc-5aab481b9e74",
   "metadata": {
    "tags": []
   },
   "outputs": [
    {
     "data": {
      "text/plain": [
       "[('a mundo cruel!', 'a m')]"
      ]
     },
     "execution_count": 23,
     "metadata": {},
     "output_type": "execute_result"
    }
   ],
   "source": [
    "##\n",
    "## substr(X,Y,Z)\n",
    "## substr(X,Y)\n",
    "## substring(X,Y,Z)\n",
    "## substring(X,Y)\n",
    "##\n",
    "%sql SELECT substr(\"hola mundo cruel!\", 4), substr(\"hola mundo cruel!\", 4, 3)"
   ]
  },
  {
   "cell_type": "code",
   "execution_count": 24,
   "id": "e1f76610-bcf8-4271-ab39-26b53852ba15",
   "metadata": {
    "tags": []
   },
   "outputs": [
    {
     "data": {
      "text/plain": [
       "[('a mundo cruel!', 'a m')]"
      ]
     },
     "execution_count": 24,
     "metadata": {},
     "output_type": "execute_result"
    }
   ],
   "source": [
    "%sql SELECT substring(\"hola mundo cruel!\", 4), substring(\"hola mundo cruel!\", 4, 3)"
   ]
  },
  {
   "cell_type": "code",
   "execution_count": 25,
   "id": "e0bffca2-4055-4e1c-b6cf-b47b789caf7d",
   "metadata": {
    "tags": []
   },
   "outputs": [
    {
     "data": {
      "text/plain": [
       "[('hola mundo', 'hola mundo')]"
      ]
     },
     "execution_count": 25,
     "metadata": {},
     "output_type": "execute_result"
    }
   ],
   "source": [
    "##\n",
    "## trim(X)\n",
    "## trim(X,Y)\n",
    "##\n",
    "%sql SELECT trim(\"  hola mundo  \"), trim(\"--hola mundo--\", \"-\")"
   ]
  },
  {
   "cell_type": "code",
   "execution_count": 26,
   "id": "7e7abe54-cf58-4135-99c4-7df36b1cc14a",
   "metadata": {
    "tags": []
   },
   "outputs": [
    {
     "data": {
      "text/plain": [
       "[(65,)]"
      ]
     },
     "execution_count": 26,
     "metadata": {},
     "output_type": "execute_result"
    }
   ],
   "source": [
    "##\n",
    "## unicode(X)\n",
    "##\n",
    "%sql SELECT unicode(\"A\")"
   ]
  },
  {
   "cell_type": "code",
   "execution_count": 27,
   "id": "1b5e3860-f2d8-4768-aced-6efdb5e0a189",
   "metadata": {
    "tags": []
   },
   "outputs": [
    {
     "data": {
      "text/plain": [
       "[('HOLA MUNDO',)]"
      ]
     },
     "execution_count": 27,
     "metadata": {},
     "output_type": "execute_result"
    }
   ],
   "source": [
    "##\n",
    "## upper(X)\n",
    "##\n",
    "%sql SELECT upper(\"hola mundo\")"
   ]
  }
 ],
 "metadata": {
  "kernelspec": {
   "display_name": "Python 3 (ipykernel)",
   "language": "python",
   "name": "python3"
  },
  "language_info": {
   "codemirror_mode": {
    "name": "ipython",
    "version": 3
   },
   "file_extension": ".py",
   "mimetype": "text/x-python",
   "name": "python",
   "nbconvert_exporter": "python",
   "pygments_lexer": "ipython3",
   "version": "3.9.6"
  }
 },
 "nbformat": 4,
 "nbformat_minor": 5
}
