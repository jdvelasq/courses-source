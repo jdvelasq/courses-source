{
 "cells": [
  {
   "cell_type": "markdown",
   "id": "47f4be48-e201-40be-8cf2-5e953471d757",
   "metadata": {},
   "source": [
    "Funciones de agregación\n",
    "==="
   ]
  },
  {
   "cell_type": "markdown",
   "id": "1c2d0680-e97d-49db-960a-bb26ee4ac50c",
   "metadata": {},
   "source": [
    "**Preparación**"
   ]
  },
  {
   "cell_type": "code",
   "execution_count": 1,
   "id": "7584a069-3bd6-463a-874c-e94938e45526",
   "metadata": {
    "tags": []
   },
   "outputs": [],
   "source": [
    "import sqlite3\n",
    "\n",
    "from IPython.core.magic import register_cell_magic, register_line_magic\n",
    "\n",
    "conn = sqlite3.connect(\":memory:\")\n",
    "cur = conn.cursor()\n",
    "\n",
    "\n",
    "@register_line_magic\n",
    "def sql(line):\n",
    "    return cur.execute(line).fetchall()\n",
    "\n",
    "\n",
    "@register_cell_magic\n",
    "def sqlite3script(line, cell):\n",
    "    cell = [l for l in cell.split(\"\\n\") if len(l) >= 2 and l[0:2] not in [\"--\", \"##\"]]\n",
    "    cell = \"\\n\".join(cell)\n",
    "    conn.executescript(cell)\n",
    "    conn.commit()"
   ]
  },
  {
   "cell_type": "markdown",
   "id": "74267322-fb3d-4598-a97a-5cbc92a5f35a",
   "metadata": {},
   "source": [
    "**Datos de prueba**"
   ]
  },
  {
   "cell_type": "code",
   "execution_count": 2,
   "id": "a334d14e-1caf-4c4c-9bb0-c48ee5deb68c",
   "metadata": {
    "tags": []
   },
   "outputs": [],
   "source": [
    "%%sqlite3script\n",
    "\n",
    "DROP TABLE IF EXISTS demo;\n",
    "\n",
    "CREATE TABLE demo (\n",
    "  a STRING,\n",
    "  n FLOAT\n",
    ");\n",
    "\n",
    "INSERT INTO demo\n",
    "VALUES\n",
    "    ('a', 1),\n",
    "    ('a', 2),\n",
    "    ('b', 3),\n",
    "    ('b', 4),\n",
    "    ('b', 5);\n"
   ]
  },
  {
   "cell_type": "markdown",
   "id": "08000f7f-084a-4d39-b145-d80485f73f8d",
   "metadata": {},
   "source": [
    "**Funciones**"
   ]
  },
  {
   "cell_type": "code",
   "execution_count": 3,
   "id": "1b96fc5b-eb60-4cda-8cf6-005722b4ba6d",
   "metadata": {
    "tags": []
   },
   "outputs": [
    {
     "data": {
      "text/plain": [
       "[('a', 1.5), ('b', 4.0)]"
      ]
     },
     "execution_count": 3,
     "metadata": {},
     "output_type": "execute_result"
    }
   ],
   "source": [
    "##\n",
    "## avg(X)\n",
    "##\n",
    "%sql SELECT a, avg(n) FROM demo GROUP BY a;"
   ]
  },
  {
   "cell_type": "code",
   "execution_count": 4,
   "id": "d8bc2b87-cde7-431e-8719-70c469f6666b",
   "metadata": {
    "tags": []
   },
   "outputs": [
    {
     "data": {
      "text/plain": [
       "[('a', 2), ('b', 3)]"
      ]
     },
     "execution_count": 4,
     "metadata": {},
     "output_type": "execute_result"
    }
   ],
   "source": [
    "##\n",
    "## count(*)\n",
    "##   retorna la cantidad de filas en un grupo\n",
    "## count(X)\n",
    "##   count(X) cuenta la cantidad de registros no nulos.\n",
    "##\n",
    "%sql SELECT a, count(*) FROM demo GROUP BY a;"
   ]
  },
  {
   "cell_type": "code",
   "execution_count": 5,
   "id": "f4f95ba2-130d-43fe-ab57-3dee91eddf33",
   "metadata": {
    "tags": []
   },
   "outputs": [
    {
     "data": {
      "text/plain": [
       "[('a', 2.0), ('b', 5.0)]"
      ]
     },
     "execution_count": 5,
     "metadata": {},
     "output_type": "execute_result"
    }
   ],
   "source": [
    "##\n",
    "## max(X)\n",
    "##\n",
    "%sql SELECT a, max(n) FROM demo GROUP BY a;"
   ]
  },
  {
   "cell_type": "code",
   "execution_count": 6,
   "id": "ecc7d854-efe3-4ba4-aa4f-1486c118e12b",
   "metadata": {
    "tags": []
   },
   "outputs": [
    {
     "data": {
      "text/plain": [
       "[('a', 1.0), ('b', 3.0)]"
      ]
     },
     "execution_count": 6,
     "metadata": {},
     "output_type": "execute_result"
    }
   ],
   "source": [
    "##\n",
    "## min(X)\n",
    "##\n",
    "%sql SELECT a, min(n) FROM demo GROUP BY a;"
   ]
  },
  {
   "cell_type": "code",
   "execution_count": 7,
   "id": "05b3452e-0333-4004-bfd1-4fff2a7a0f50",
   "metadata": {
    "tags": []
   },
   "outputs": [
    {
     "data": {
      "text/plain": [
       "[('a', 3.0), ('b', 12.0)]"
      ]
     },
     "execution_count": 7,
     "metadata": {},
     "output_type": "execute_result"
    }
   ],
   "source": [
    "##\n",
    "## sum(X)\n",
    "##\n",
    "%sql SELECT a, sum(n) FROM demo GROUP BY a;"
   ]
  }
 ],
 "metadata": {
  "kernelspec": {
   "display_name": "Python 3 (ipykernel)",
   "language": "python",
   "name": "python3"
  },
  "language_info": {
   "codemirror_mode": {
    "name": "ipython",
    "version": 3
   },
   "file_extension": ".py",
   "mimetype": "text/x-python",
   "name": "python",
   "nbconvert_exporter": "python",
   "pygments_lexer": "ipython3",
   "version": "3.9.6"
  }
 },
 "nbformat": 4,
 "nbformat_minor": 5
}
