{
 "cells": [
  {
   "cell_type": "markdown",
   "id": "14704f35-38b9-4301-a168-9afe9be4c964",
   "metadata": {},
   "source": [
    "Funciones matemáticas en SQLite\n",
    "==="
   ]
  },
  {
   "cell_type": "markdown",
   "id": "898c8bbf-4cf6-41b3-82de-f2fcaa54c0c8",
   "metadata": {},
   "source": [
    "**Preparacion**"
   ]
  },
  {
   "cell_type": "code",
   "execution_count": 2,
   "id": "8671f16c-1d09-40fa-9d62-bb783e9bfa2d",
   "metadata": {
    "tags": []
   },
   "outputs": [],
   "source": [
    "import sqlite3\n",
    "\n",
    "from IPython.core.magic import register_cell_magic, register_line_magic\n",
    "\n",
    "conn = sqlite3.connect(\":memory:\")\n",
    "cur = conn.cursor()\n",
    "\n",
    "\n",
    "@register_line_magic\n",
    "def sql(line):\n",
    "    line = [\n",
    "        l for l in line.split(\"\\n\") if l[0:2] != \"--\" and l[0:2] not in [\"--\", \"##\"]\n",
    "    ]\n",
    "    line = \"\\n\".join(line)\n",
    "    return cur.execute(line).fetchall()"
   ]
  },
  {
   "cell_type": "markdown",
   "id": "572cf39d-d5a7-4204-9905-056ac1bb8b01",
   "metadata": {},
   "source": [
    "**Funciones**"
   ]
  },
  {
   "cell_type": "markdown",
   "id": "0e5e3d5e-527f-4e3e-8fc7-aa4e00ceeeaf",
   "metadata": {},
   "source": [
    "    acos(X)       ceiling(X)      log(X)        sin(X)\n",
    "    acosh(X)      cos(X)          log10(X)      sinh(X)\n",
    "    asin(X)       cosh(X)         log2(X)       sqrt(X)\n",
    "    asinh(X)      degrees(X)      mod(X,Y)      tan(X)\n",
    "    atan(X)       exp(X)          pi()          tanh(X)\n",
    "    atan2(Y,X)    floor(X)        pow(X,Y)      trunc(X)\n",
    "    atanh(X)      ln(X)           power(X,Y)\n",
    "    ceil(X)       log(B,X)        radians(X)"
   ]
  },
  {
   "cell_type": "code",
   "execution_count": 3,
   "id": "1fc869e2-56c3-4725-be06-0943ee62cb43",
   "metadata": {
    "tags": []
   },
   "outputs": [
    {
     "ename": "OperationalError",
     "evalue": "no such function: log10",
     "output_type": "error",
     "traceback": [
      "\u001b[0;31m---------------------------------------------------------------------------\u001b[0m",
      "\u001b[0;31mOperationalError\u001b[0m                          Traceback (most recent call last)",
      "Cell \u001b[0;32mIn[3], line 1\u001b[0m\n\u001b[0;32m----> 1\u001b[0m \u001b[43mget_ipython\u001b[49m\u001b[43m(\u001b[49m\u001b[43m)\u001b[49m\u001b[38;5;241;43m.\u001b[39;49m\u001b[43mrun_line_magic\u001b[49m\u001b[43m(\u001b[49m\u001b[38;5;124;43m'\u001b[39;49m\u001b[38;5;124;43msql\u001b[39;49m\u001b[38;5;124;43m'\u001b[39;49m\u001b[43m,\u001b[49m\u001b[43m \u001b[49m\u001b[38;5;124;43m'\u001b[39;49m\u001b[38;5;124;43mSELECT log10(10)\u001b[39;49m\u001b[38;5;124;43m'\u001b[39;49m\u001b[43m)\u001b[49m\n",
      "File \u001b[0;32m~/Library/Mobile Documents/com~apple~CloudDocs/YouTube/.venv/lib/python3.9/site-packages/IPython/core/interactiveshell.py:2369\u001b[0m, in \u001b[0;36mInteractiveShell.run_line_magic\u001b[0;34m(self, magic_name, line, _stack_depth)\u001b[0m\n\u001b[1;32m   2367\u001b[0m     kwargs[\u001b[38;5;124m'\u001b[39m\u001b[38;5;124mlocal_ns\u001b[39m\u001b[38;5;124m'\u001b[39m] \u001b[38;5;241m=\u001b[39m \u001b[38;5;28mself\u001b[39m\u001b[38;5;241m.\u001b[39mget_local_scope(stack_depth)\n\u001b[1;32m   2368\u001b[0m \u001b[38;5;28;01mwith\u001b[39;00m \u001b[38;5;28mself\u001b[39m\u001b[38;5;241m.\u001b[39mbuiltin_trap:\n\u001b[0;32m-> 2369\u001b[0m     result \u001b[38;5;241m=\u001b[39m \u001b[43mfn\u001b[49m\u001b[43m(\u001b[49m\u001b[38;5;241;43m*\u001b[39;49m\u001b[43margs\u001b[49m\u001b[43m,\u001b[49m\u001b[43m \u001b[49m\u001b[38;5;241;43m*\u001b[39;49m\u001b[38;5;241;43m*\u001b[39;49m\u001b[43mkwargs\u001b[49m\u001b[43m)\u001b[49m\n\u001b[1;32m   2371\u001b[0m \u001b[38;5;66;03m# The code below prevents the output from being displayed\u001b[39;00m\n\u001b[1;32m   2372\u001b[0m \u001b[38;5;66;03m# when using magics with decodator @output_can_be_silenced\u001b[39;00m\n\u001b[1;32m   2373\u001b[0m \u001b[38;5;66;03m# when the last Python token in the expression is a ';'.\u001b[39;00m\n\u001b[1;32m   2374\u001b[0m \u001b[38;5;28;01mif\u001b[39;00m \u001b[38;5;28mgetattr\u001b[39m(fn, magic\u001b[38;5;241m.\u001b[39mMAGIC_OUTPUT_CAN_BE_SILENCED, \u001b[38;5;28;01mFalse\u001b[39;00m):\n",
      "Cell \u001b[0;32mIn[2], line 15\u001b[0m, in \u001b[0;36msql\u001b[0;34m(line)\u001b[0m\n\u001b[1;32m     11\u001b[0m line \u001b[38;5;241m=\u001b[39m [\n\u001b[1;32m     12\u001b[0m     l \u001b[38;5;28;01mfor\u001b[39;00m l \u001b[38;5;129;01min\u001b[39;00m line\u001b[38;5;241m.\u001b[39msplit(\u001b[38;5;124m\"\u001b[39m\u001b[38;5;130;01m\\n\u001b[39;00m\u001b[38;5;124m\"\u001b[39m) \u001b[38;5;28;01mif\u001b[39;00m l[\u001b[38;5;241m0\u001b[39m:\u001b[38;5;241m2\u001b[39m] \u001b[38;5;241m!=\u001b[39m \u001b[38;5;124m\"\u001b[39m\u001b[38;5;124m--\u001b[39m\u001b[38;5;124m\"\u001b[39m \u001b[38;5;129;01mand\u001b[39;00m l[\u001b[38;5;241m0\u001b[39m:\u001b[38;5;241m2\u001b[39m] \u001b[38;5;129;01mnot\u001b[39;00m \u001b[38;5;129;01min\u001b[39;00m [\u001b[38;5;124m\"\u001b[39m\u001b[38;5;124m--\u001b[39m\u001b[38;5;124m\"\u001b[39m, \u001b[38;5;124m\"\u001b[39m\u001b[38;5;124m##\u001b[39m\u001b[38;5;124m\"\u001b[39m]\n\u001b[1;32m     13\u001b[0m ]\n\u001b[1;32m     14\u001b[0m line \u001b[38;5;241m=\u001b[39m \u001b[38;5;124m\"\u001b[39m\u001b[38;5;130;01m\\n\u001b[39;00m\u001b[38;5;124m\"\u001b[39m\u001b[38;5;241m.\u001b[39mjoin(line)\n\u001b[0;32m---> 15\u001b[0m \u001b[38;5;28;01mreturn\u001b[39;00m \u001b[43mcur\u001b[49m\u001b[38;5;241;43m.\u001b[39;49m\u001b[43mexecute\u001b[49m\u001b[43m(\u001b[49m\u001b[43mline\u001b[49m\u001b[43m)\u001b[49m\u001b[38;5;241m.\u001b[39mfetchall()\n",
      "\u001b[0;31mOperationalError\u001b[0m: no such function: log10"
     ]
    }
   ],
   "source": [
    "%sql SELECT log10(10)"
   ]
  },
  {
   "cell_type": "code",
   "execution_count": null,
   "id": "bba4074e-8efa-4389-b683-dcc6a0a88299",
   "metadata": {},
   "outputs": [],
   "source": []
  }
 ],
 "metadata": {
  "kernelspec": {
   "display_name": "Python 3 (ipykernel)",
   "language": "python",
   "name": "python3"
  },
  "language_info": {
   "codemirror_mode": {
    "name": "ipython",
    "version": 3
   },
   "file_extension": ".py",
   "mimetype": "text/x-python",
   "name": "python",
   "nbconvert_exporter": "python",
   "pygments_lexer": "ipython3",
   "version": "3.9.6"
  }
 },
 "nbformat": 4,
 "nbformat_minor": 5
}
