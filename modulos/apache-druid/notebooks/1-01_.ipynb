{
 "cells": [
  {
   "cell_type": "markdown",
   "id": "6e492a15-7cd9-4aa4-b7eb-cae51a817dd8",
   "metadata": {
    "tags": []
   },
   "source": [
    "Procesamiento de datos locales con SQL en Apache Druid\n",
    "===\n",
    "\n",
    "* Ultima modificación: Mayo 24, 2022"
   ]
  },
  {
   "cell_type": "markdown",
   "id": "06b38f2c-bd45-4b1d-a5e9-ae8d953e0e2b",
   "metadata": {},
   "source": [
    "La interfaz está disponible en 127.0.0.0:9999"
   ]
  },
  {
   "cell_type": "markdown",
   "id": "9b54aa79-f8ad-44c2-8bfc-c58f14ae49ca",
   "metadata": {},
   "source": [
    "Carga de datos\n",
    "---"
   ]
  },
  {
   "cell_type": "markdown",
   "id": "538201a3-864c-48da-bbf5-35054b2bcea9",
   "metadata": {},
   "source": [
    "* Haga click en `Load data` en la barra de menu, y luego en `Connect data ->`."
   ]
  },
  {
   "cell_type": "markdown",
   "id": "f8997b81-7adc-4158-9d6f-8cecd9189f75",
   "metadata": {},
   "source": [
    "![assets/druid-00001.png](assets/druid-00001.png)"
   ]
  },
  {
   "cell_type": "markdown",
   "id": "1c5231fc-5b58-4ad5-ac3e-933ccf67bc5d",
   "metadata": {},
   "source": [
    "* Llene los campos indicados (el archivo se encuentra disponible en el sistema de archivos del contenedor de Docker):\n",
    "\n",
    "    - Source type: local\n",
    "    \n",
    "    - Base directory: /opt/druid/quickstar/ttutorial/\n",
    "    \n",
    "    - File filter: wikiticker-2015-09-12-sampled.json.gz\n",
    "    "
   ]
  },
  {
   "cell_type": "markdown",
   "id": "67e33e97-06de-41a7-aedf-ef4a6ebc2d35",
   "metadata": {},
   "source": [
    "* Haga click en el botón `Apply`."
   ]
  },
  {
   "cell_type": "markdown",
   "id": "5f26d57e-3a82-4b96-afa1-6bb193220290",
   "metadata": {},
   "source": [
    "* Se pueden especificar múltiples archivos usando `*`."
   ]
  },
  {
   "cell_type": "markdown",
   "id": "74320c7d-1911-4d12-8f53-b447a5efc8a8",
   "metadata": {},
   "source": [
    "![assets/druid-00002.png](assets/druid-00002.png)"
   ]
  },
  {
   "cell_type": "markdown",
   "id": "882e5b1f-1c66-470c-aa15-31340cc57819",
   "metadata": {},
   "source": [
    "Los datos están disponibles para inspección visual. Use la barra superior para avanzar o retroceder por los pasos del proceso. \n",
    "\n",
    "Cuando esté listo haga click en el botón `Next: Parse data ->`."
   ]
  },
  {
   "cell_type": "markdown",
   "id": "6f6c8ab5-9802-44c9-ba5f-18b64c84186b",
   "metadata": {},
   "source": [
    "![assets/druid-00003.png](assets/druid-00003.png)"
   ]
  },
  {
   "cell_type": "markdown",
   "id": "68d0abe2-3168-4e58-959b-cc8ab42ecd12",
   "metadata": {},
   "source": [
    "* Haga click en `Next: Parse time`. Note que Druid seleccionó automáticamente el formato del archivo."
   ]
  },
  {
   "cell_type": "markdown",
   "id": "e0681c33-f86d-4058-bc28-b577da60f228",
   "metadata": {},
   "source": [
    "![assets/druid-00004.png](assets/druid-00004.png)"
   ]
  },
  {
   "cell_type": "markdown",
   "id": "682b4d42-1f81-4fa5-b8a9-878be2a7718d",
   "metadata": {},
   "source": [
    "* Druid requiere una columna *timestamp* como clave primaria (llamada internamente como `__time`). Si no existe una columna tipo `time` en los datos, se debe seleccionar `Constant value`."
   ]
  },
  {
   "cell_type": "markdown",
   "id": "ad9054a2-a6f7-48bd-9582-2fb300788225",
   "metadata": {},
   "source": [
    "* Seleccione `Next: Transform ->`."
   ]
  },
  {
   "cell_type": "markdown",
   "id": "0c923174-d98a-4b53-bbd4-d63880e92cd2",
   "metadata": {},
   "source": [
    "![assets/druid-00005.png](assets/druid-00005.png)"
   ]
  },
  {
   "cell_type": "markdown",
   "id": "3c78fe18-b6af-4cb9-8e3c-97a7790aece2",
   "metadata": {},
   "source": [
    "* Seleccione `Next: Partition ->`."
   ]
  },
  {
   "cell_type": "markdown",
   "id": "1a13f778-ac60-473c-b320-61270e46b532",
   "metadata": {},
   "source": [
    "* Seleccione `Next: Configure schema ->`."
   ]
  },
  {
   "cell_type": "markdown",
   "id": "641f1979-fefd-488c-b375-03bb010b5892",
   "metadata": {},
   "source": [
    "![assets/druid-00006.png](assets/druid-00006.png)"
   ]
  },
  {
   "cell_type": "markdown",
   "id": "4c6d939b-fade-4392-a574-3104dd4e98ed",
   "metadata": {},
   "source": [
    "* Seleccione `Next: Partition ->`."
   ]
  },
  {
   "cell_type": "markdown",
   "id": "887743a9-364c-4145-b02d-8ff14ca7d9e1",
   "metadata": {},
   "source": [
    "* Seleccione `Next: Tune ->`."
   ]
  },
  {
   "cell_type": "markdown",
   "id": "a89eb3fe-673c-4a2f-bb7f-e2f1dc61dd7d",
   "metadata": {},
   "source": [
    "![assets/druid-00007.png](assets/druid-00007.png)"
   ]
  },
  {
   "cell_type": "markdown",
   "id": "0412f080-6b24-4e67-84fd-060157db5f4d",
   "metadata": {},
   "source": [
    "* Seleccione `Next: Edit spec ->`."
   ]
  },
  {
   "cell_type": "markdown",
   "id": "b9f0ead6-f103-49ee-b5ce-8b523657f0ec",
   "metadata": {},
   "source": [
    "![assets/druid-00008.png](assets/druid-00008.png)"
   ]
  },
  {
   "cell_type": "markdown",
   "id": "17275a04-8202-44f0-8376-cc692b059ec9",
   "metadata": {},
   "source": [
    "Realice consultas sobre los datos\n",
    "---"
   ]
  },
  {
   "cell_type": "markdown",
   "id": "d3956cb5-0ea9-47f9-80e8-d81845a0c8f7",
   "metadata": {},
   "source": [
    "* Seleccione `Datasource` en la barra principal."
   ]
  },
  {
   "cell_type": "markdown",
   "id": "30d856ea-0a92-4e26-bc24-7db57d8645c3",
   "metadata": {},
   "source": [
    "![assets/druid-00009.png](assets/druid-00009.png)"
   ]
  },
  {
   "cell_type": "markdown",
   "id": "2e8fa118-0e73-4975-aeba-e9dbc0e4bb3e",
   "metadata": {},
   "source": [
    "* En el extremo izquierdo de la tabla seleccione el ícono de la llava y luego `Query with SQL`."
   ]
  },
  {
   "cell_type": "markdown",
   "id": "0d703aa4-8404-4f9e-a7c1-0e44bc06903b",
   "metadata": {},
   "source": [
    "![assets/druid-00010.png](assets/druid-00010.png)"
   ]
  },
  {
   "cell_type": "markdown",
   "id": "1425a39f-86fe-46b2-b436-6aec9eb653b9",
   "metadata": {},
   "source": [
    "* Escriba su consulta en el editor y dele click a `Run` para ejecutarla."
   ]
  },
  {
   "cell_type": "markdown",
   "id": "d9ffd02d-5d81-40a6-a523-caca475541da",
   "metadata": {},
   "source": [
    "![assets/druid-00011.png](assets/druid-00011.png)"
   ]
  }
 ],
 "metadata": {
  "kernelspec": {
   "display_name": "Python 3 (ipykernel)",
   "language": "python",
   "name": "python3"
  },
  "language_info": {
   "codemirror_mode": {
    "name": "ipython",
    "version": 3
   },
   "file_extension": ".py",
   "mimetype": "text/x-python",
   "name": "python",
   "nbconvert_exporter": "python",
   "pygments_lexer": "ipython3",
   "version": "3.8.10"
  }
 },
 "nbformat": 4,
 "nbformat_minor": 5
}
