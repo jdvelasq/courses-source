{
 "cells": [
  {
   "cell_type": "markdown",
   "id": "0f51ce6e-9cab-400d-b07a-94dd11aa7cf4",
   "metadata": {
    "tags": []
   },
   "source": [
    "Sumarización usando Roll-up\n",
    "===\n",
    "\n",
    "* Ultima modificación: Mayo 24, 2022"
   ]
  },
  {
   "cell_type": "markdown",
   "id": "8bbb764a-f507-4420-8e7e-ea69d6fc9b6c",
   "metadata": {},
   "source": [
    "Archivo de datos\n",
    "---"
   ]
  },
  {
   "cell_type": "code",
   "execution_count": 1,
   "id": "611b671d-dfec-483c-b2d3-2af19e16219b",
   "metadata": {},
   "outputs": [
    {
     "name": "stdout",
     "output_type": "stream",
     "text": [
      "{\"timestamp\":\"2018-01-01T01:01:35Z\",\"srcIP\":\"1.1.1.1\", \"dstIP\":\"2.2.2.2\",\"packets\":20,\"bytes\":9024}\n",
      "{\"timestamp\":\"2018-01-01T01:01:51Z\",\"srcIP\":\"1.1.1.1\", \"dstIP\":\"2.2.2.2\",\"packets\":255,\"bytes\":21133}\n",
      "{\"timestamp\":\"2018-01-01T01:01:59Z\",\"srcIP\":\"1.1.1.1\", \"dstIP\":\"2.2.2.2\",\"packets\":11,\"bytes\":5780}\n",
      "{\"timestamp\":\"2018-01-01T01:02:14Z\",\"srcIP\":\"1.1.1.1\", \"dstIP\":\"2.2.2.2\",\"packets\":38,\"bytes\":6289}\n",
      "{\"timestamp\":\"2018-01-01T01:02:29Z\",\"srcIP\":\"1.1.1.1\", \"dstIP\":\"2.2.2.2\",\"packets\":377,\"bytes\":359971}\n",
      "{\"timestamp\":\"2018-01-01T01:03:29Z\",\"srcIP\":\"1.1.1.1\", \"dstIP\":\"2.2.2.2\",\"packets\":49,\"bytes\":10204}\n",
      "{\"timestamp\":\"2018-01-02T21:33:14Z\",\"srcIP\":\"7.7.7.7\", \"dstIP\":\"8.8.8.8\",\"packets\":38,\"bytes\":6289}\n",
      "{\"timestamp\":\"2018-01-02T21:33:45Z\",\"srcIP\":\"7.7.7.7\", \"dstIP\":\"8.8.8.8\",\"packets\":123,\"bytes\":93999}\n",
      "{\"timestamp\":\"2018-01-02T21:35:45Z\",\"srcIP\":\"7.7.7.7\", \"dstIP\":\"8.8.8.8\",\"packets\":12,\"bytes\":2818}\n"
     ]
    }
   ],
   "source": [
    "!cat /opt/druid/quickstart/tutorial/rollup-data.json"
   ]
  },
  {
   "cell_type": "markdown",
   "id": "3fe658c0-80fc-4fa1-9d1f-167cf53b037c",
   "metadata": {},
   "source": [
    "Especificación para la ingestión\n",
    "--"
   ]
  },
  {
   "cell_type": "code",
   "execution_count": 2,
   "id": "38247026-ab38-47db-8036-5b7067720510",
   "metadata": {},
   "outputs": [
    {
     "name": "stdout",
     "output_type": "stream",
     "text": [
      "     1\t{\n",
      "     2\t  \"type\" : \"index_parallel\",\n",
      "     3\t  \"spec\" : {\n",
      "     4\t    \"dataSchema\" : {\n",
      "     5\t      \"dataSource\" : \"rollup-tutorial\",\n",
      "     6\t      \"timestampSpec\": {\n",
      "     7\t        \"column\": \"timestamp\",\n",
      "     8\t        \"format\": \"iso\"\n",
      "     9\t      },\n",
      "    10\t      \"dimensionsSpec\" : {\n",
      "    11\t        \"dimensions\" : [\n",
      "    12\t          \"srcIP\",\n",
      "    13\t          \"dstIP\"\n",
      "    14\t        ]\n",
      "    15\t      },\n",
      "    16\t      \"metricsSpec\" : [\n",
      "    17\t        { \"type\" : \"count\", \"name\" : \"count\" },\n",
      "    18\t        { \"type\" : \"longSum\", \"name\" : \"packets\", \"fieldName\" : \"packets\" },\n",
      "    19\t        { \"type\" : \"longSum\", \"name\" : \"bytes\", \"fieldName\" : \"bytes\" }\n",
      "    20\t      ],\n",
      "    21\t      \"granularitySpec\" : {\n",
      "    22\t        \"type\" : \"uniform\",\n",
      "    23\t        \"segmentGranularity\" : \"week\",\n",
      "    24\t        \"queryGranularity\" : \"minute\",\n",
      "    25\t        \"intervals\" : [\"2018-01-01/2018-01-03\"],\n",
      "    26\t        \"rollup\" : true\n",
      "    27\t      }\n",
      "    28\t    },\n",
      "    29\t    \"ioConfig\" : {\n",
      "    30\t      \"type\" : \"index_parallel\",\n",
      "    31\t      \"inputSource\" : {\n",
      "    32\t        \"type\" : \"local\",\n",
      "    33\t        \"baseDir\" : \"quickstart/tutorial\",\n",
      "    34\t        \"filter\" : \"rollup-data.json\"\n",
      "    35\t      },\n",
      "    36\t      \"inputFormat\" : {\n",
      "    37\t        \"type\" : \"json\"\n",
      "    38\t      },\n",
      "    39\t      \"appendToExisting\" : false\n",
      "    40\t    },\n",
      "    41\t    \"tuningConfig\" : {\n",
      "    42\t      \"type\" : \"index_parallel\",\n",
      "    43\t      \"maxRowsPerSegment\" : 5000000,\n",
      "    44\t      \"maxRowsInMemory\" : 25000\n",
      "    45\t    }\n",
      "    46\t  }\n",
      "    47\t}\n"
     ]
    }
   ],
   "source": [
    "#\n",
    "# Note el `\"rollup\" : true`  en la línea 33\n",
    "#\n",
    "!cat /opt/druid/quickstart/tutorial/rollup-index.json | nl"
   ]
  },
  {
   "cell_type": "markdown",
   "id": "4fadfe02-492b-462d-8ad7-9ecd9b5bdec2",
   "metadata": {},
   "source": [
    "Ejecución de la ingestión\n",
    "--"
   ]
  },
  {
   "cell_type": "code",
   "execution_count": 3,
   "id": "d4c31208-4fa2-4fc1-be6e-7fe938737b10",
   "metadata": {},
   "outputs": [
    {
     "name": "stdout",
     "output_type": "stream",
     "text": [
      "Beginning indexing data for rollup-tutorial\n",
      "\u001b[1mTask started: \u001b[0mindex_parallel_rollup-tutorial_hfmlejkb_2022-05-25T04:36:37.719Z\n",
      "\u001b[1mTask log:     \u001b[0mhttp://localhost:8081/druid/indexer/v1/task/index_parallel_rollup-tutorial_hfmlejkb_2022-05-25T04:36:37.719Z/log\n",
      "\u001b[1mTask status:  \u001b[0mhttp://localhost:8081/druid/indexer/v1/task/index_parallel_rollup-tutorial_hfmlejkb_2022-05-25T04:36:37.719Z/status\n",
      "Task index_parallel_rollup-tutorial_hfmlejkb_2022-05-25T04:36:37.719Z still running...\n",
      "Task index_parallel_rollup-tutorial_hfmlejkb_2022-05-25T04:36:37.719Z still running...\n",
      "Task finished with status: SUCCESS\n",
      "Completed indexing data for rollup-tutorial. Now loading indexed data onto the cluster...\n",
      "rollup-tutorial is 0.0% finished loading...\n",
      "rollup-tutorial is 0.0% finished loading...\n",
      "rollup-tutorial is 0.0% finished loading...\n",
      "rollup-tutorial loading complete! You may now query your data\n"
     ]
    }
   ],
   "source": [
    "!post-index-task --file /opt/druid/quickstart/tutorial/rollup-index.json --url http://localhost:8081"
   ]
  },
  {
   "cell_type": "markdown",
   "id": "47c94333-516e-40db-9ea0-0a49b91a7d8b",
   "metadata": {},
   "source": [
    "Datos ingestados\n",
    "--"
   ]
  },
  {
   "cell_type": "code",
   "execution_count": 4,
   "id": "60770dc5-f446-49e8-b2d8-353529c361f6",
   "metadata": {},
   "outputs": [
    {
     "name": "stdout",
     "output_type": "stream",
     "text": [
      "┌──────────────────────────┬────────┬───────┬─────────┬─────────┬─────────┐\n",
      "│ __time                   │ bytes  │ count │ dstIP   │ packets │ srcIP   │\n",
      "├──────────────────────────┼────────┼───────┼─────────┼─────────┼─────────┤\n",
      "│ 2018-01-01T01:01:00.000Z │  35937 │     3 │ 2.2.2.2 │     286 │ 1.1.1.1 │\n",
      "│ 2018-01-01T01:02:00.000Z │ 366260 │     2 │ 2.2.2.2 │     415 │ 1.1.1.1 │\n",
      "│ 2018-01-01T01:03:00.000Z │  10204 │     1 │ 2.2.2.2 │      49 │ 1.1.1.1 │\n",
      "│ 2018-01-02T21:33:00.000Z │ 100288 │     2 │ 8.8.8.8 │     161 │ 7.7.7.7 │\n",
      "│ 2018-01-02T21:35:00.000Z │   2818 │     1 │ 8.8.8.8 │      12 │ 7.7.7.7 │\n",
      "└──────────────────────────┴────────┴───────┴─────────┴─────────┴─────────┘\n",
      "Retrieved 5 rows in 0.13s.\n",
      "\n"
     ]
    }
   ],
   "source": [
    "!dsql -e 'select * from \"rollup-tutorial\"'"
   ]
  },
  {
   "cell_type": "code",
   "execution_count": 5,
   "id": "f65b42d4-1b41-41f5-951f-fd687c1c26ca",
   "metadata": {},
   "outputs": [
    {
     "name": "stdout",
     "output_type": "stream",
     "text": [
      "┌──────────────────────────┬────────┬───────┬─────────┬─────────┬─────────┐\n",
      "│ __time                   │ bytes  │ count │ dstIP   │ packets │ srcIP   │\n",
      "├──────────────────────────┼────────┼───────┼─────────┼─────────┼─────────┤\n",
      "│ 2018-01-01T01:01:00.000Z │  35937 │     3 │ 2.2.2.2 │     286 │ 1.1.1.1 │\n",
      "│ 2018-01-01T01:02:00.000Z │ 366260 │     2 │ 2.2.2.2 │     415 │ 1.1.1.1 │\n",
      "│ 2018-01-01T01:03:00.000Z │  10204 │     1 │ 2.2.2.2 │      49 │ 1.1.1.1 │\n",
      "└──────────────────────────┴────────┴───────┴─────────┴─────────┴─────────┘\n",
      "Retrieved 3 rows in 0.06s.\n",
      "\n"
     ]
    }
   ],
   "source": [
    "#\n",
    "# Note que los primeros registros fueron agregados usando como dimensiones\n",
    "# {timestamp, srcIP, dstIP}.\n",
    "#\n",
    "!dsql -e 'select * from \"rollup-tutorial\" limit 3'"
   ]
  },
  {
   "cell_type": "code",
   "execution_count": 6,
   "id": "1295756b-e402-432f-bf9e-9b2998c6527c",
   "metadata": {},
   "outputs": [],
   "source": [
    "#\n",
    "# Esto mismo pasó para los registros en 2018-01-01T01:02\n",
    "#"
   ]
  }
 ],
 "metadata": {
  "kernelspec": {
   "display_name": "Python 3 (ipykernel)",
   "language": "python",
   "name": "python3"
  },
  "language_info": {
   "codemirror_mode": {
    "name": "ipython",
    "version": 3
   },
   "file_extension": ".py",
   "mimetype": "text/x-python",
   "name": "python",
   "nbconvert_exporter": "python",
   "pygments_lexer": "ipython3",
   "version": "3.8.10"
  }
 },
 "nbformat": 4,
 "nbformat_minor": 5
}
