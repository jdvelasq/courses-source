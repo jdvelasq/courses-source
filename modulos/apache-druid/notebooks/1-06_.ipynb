{
 "cells": [
  {
   "cell_type": "markdown",
   "id": "45d7f171-76ba-4510-acdf-572f1d6d20d6",
   "metadata": {
    "tags": []
   },
   "source": [
    "Transformación de datos de entrada\n",
    "===\n",
    "\n",
    "* Ultima modificación: Mayo 24, 2022"
   ]
  },
  {
   "cell_type": "markdown",
   "id": "8dab6186-87d4-4183-8be8-985bc6050c14",
   "metadata": {},
   "source": [
    "Archivo de datos\n",
    "---"
   ]
  },
  {
   "cell_type": "code",
   "execution_count": 1,
   "id": "bd137572-a635-4d74-b544-6e77f867b4ce",
   "metadata": {},
   "outputs": [
    {
     "name": "stdout",
     "output_type": "stream",
     "text": [
      "{\"timestamp\":\"2018-01-01T07:01:35Z\",\"animal\":\"octopus\",  \"location\":1, \"number\":100}\n",
      "{\"timestamp\":\"2018-01-01T05:01:35Z\",\"animal\":\"mongoose\", \"location\":2,\"number\":200}\n",
      "{\"timestamp\":\"2018-01-01T06:01:35Z\",\"animal\":\"snake\", \"location\":3, \"number\":300}\n",
      "{\"timestamp\":\"2018-01-01T01:01:35Z\",\"animal\":\"lion\", \"location\":4, \"number\":300}\n"
     ]
    }
   ],
   "source": [
    "!cat /opt/druid/quickstart/tutorial/transform-data.json"
   ]
  },
  {
   "cell_type": "markdown",
   "id": "835cb55c-d019-4c9c-b1ca-42da6110fa8d",
   "metadata": {},
   "source": [
    "Especificación\n",
    "---"
   ]
  },
  {
   "cell_type": "code",
   "execution_count": 2,
   "id": "2c154c98-e46e-4565-8cc9-7282f9214b4c",
   "metadata": {},
   "outputs": [
    {
     "name": "stdout",
     "output_type": "stream",
     "text": [
      "     1\t{\n",
      "     2\t  \"type\" : \"index_parallel\",\n",
      "     3\t  \"spec\" : {\n",
      "     4\t    \"dataSchema\" : {\n",
      "     5\t      \"dataSource\" : \"transform-tutorial\",\n",
      "     6\t      \"timestampSpec\": {\n",
      "     7\t        \"column\": \"timestamp\",\n",
      "     8\t        \"format\": \"iso\"\n",
      "     9\t      },\n",
      "    10\t      \"dimensionsSpec\" : {\n",
      "    11\t        \"dimensions\" : [\n",
      "    12\t          \"animal\",\n",
      "    13\t          { \"name\": \"location\", \"type\": \"long\" }\n",
      "    14\t        ]\n",
      "    15\t      },\n",
      "    16\t      \"metricsSpec\" : [\n",
      "    17\t        { \"type\" : \"count\", \"name\" : \"count\" },\n",
      "    18\t        { \"type\" : \"longSum\", \"name\" : \"number\", \"fieldName\" : \"number\" },\n",
      "    19\t        { \"type\" : \"longSum\", \"name\" : \"triple-number\", \"fieldName\" : \"triple-number\" }\n",
      "    20\t      ],\n",
      "    21\t      \"granularitySpec\" : {\n",
      "    22\t        \"type\" : \"uniform\",\n",
      "    23\t        \"segmentGranularity\" : \"week\",\n",
      "    24\t        \"queryGranularity\" : \"minute\",\n",
      "    25\t        \"intervals\" : [\"2018-01-01/2018-01-03\"],\n",
      "    26\t        \"rollup\" : true\n",
      "    27\t      },\n",
      "    28\t      \"transformSpec\": {\n",
      "    29\t        \"transforms\": [\n",
      "    30\t          {\n",
      "    31\t            \"type\": \"expression\",\n",
      "    32\t            \"name\": \"animal\",\n",
      "    33\t            \"expression\": \"concat('super-', animal)\"\n",
      "    34\t          },\n",
      "    35\t          {\n",
      "    36\t            \"type\": \"expression\",\n",
      "    37\t            \"name\": \"triple-number\",\n",
      "    38\t            \"expression\": \"number * 3\"\n",
      "    39\t          }\n",
      "    40\t        ],\n",
      "    41\t        \"filter\": {\n",
      "    42\t          \"type\":\"or\",\n",
      "    43\t          \"fields\": [\n",
      "    44\t            { \"type\": \"selector\", \"dimension\": \"animal\", \"value\": \"super-mongoose\" },\n",
      "    45\t            { \"type\": \"selector\", \"dimension\": \"triple-number\", \"value\": \"300\" },\n",
      "    46\t            { \"type\": \"selector\", \"dimension\": \"location\", \"value\": \"3\" }\n",
      "    47\t          ]\n",
      "    48\t        }\n",
      "    49\t      }\n",
      "    50\t    },\n",
      "    51\t    \"ioConfig\" : {\n",
      "    52\t      \"type\" : \"index_parallel\",\n",
      "    53\t      \"inputSource\" : {\n",
      "    54\t        \"type\" : \"local\",\n",
      "    55\t        \"baseDir\" : \"quickstart/tutorial\",\n",
      "    56\t        \"filter\" : \"transform-data.json\"\n",
      "    57\t      },\n",
      "    58\t      \"inputFormat\" : {\n",
      "    59\t        \"type\" : \"json\"\n",
      "    60\t      },\n",
      "    61\t      \"appendToExisting\" : false\n",
      "    62\t    },\n",
      "    63\t    \"tuningConfig\" : {\n",
      "    64\t      \"type\" : \"index_parallel\",\n",
      "    65\t      \"maxRowsPerSegment\" : 5000000,\n",
      "    66\t      \"maxRowsInMemory\" : 25000\n",
      "    67\t    }\n",
      "    68\t  }\n",
      "    69\t}\n"
     ]
    }
   ],
   "source": [
    "#\n",
    "# Linea 33\n",
    "# Linea 38\n",
    "#\n",
    "!cat /opt/druid/quickstart/tutorial/transform-index.json | nl"
   ]
  },
  {
   "cell_type": "code",
   "execution_count": 3,
   "id": "cad54677-3518-476f-a78a-ec71a00e07cd",
   "metadata": {},
   "outputs": [
    {
     "name": "stdout",
     "output_type": "stream",
     "text": [
      "Beginning indexing data for transform-tutorial\n",
      "\u001b[1mTask started: \u001b[0mindex_parallel_transform-tutorial_aeceionl_2022-05-25T04:38:39.312Z\n",
      "\u001b[1mTask log:     \u001b[0mhttp://localhost:8081/druid/indexer/v1/task/index_parallel_transform-tutorial_aeceionl_2022-05-25T04:38:39.312Z/log\n",
      "\u001b[1mTask status:  \u001b[0mhttp://localhost:8081/druid/indexer/v1/task/index_parallel_transform-tutorial_aeceionl_2022-05-25T04:38:39.312Z/status\n",
      "Task index_parallel_transform-tutorial_aeceionl_2022-05-25T04:38:39.312Z still running...\n",
      "Task index_parallel_transform-tutorial_aeceionl_2022-05-25T04:38:39.312Z still running...\n",
      "Task finished with status: SUCCESS\n",
      "Completed indexing data for transform-tutorial. Now loading indexed data onto the cluster...\n",
      "transform-tutorial is 0.0% finished loading...\n",
      "transform-tutorial is 0.0% finished loading...\n",
      "transform-tutorial is 0.0% finished loading...\n",
      "transform-tutorial loading complete! You may now query your data\n"
     ]
    }
   ],
   "source": [
    "!post-index-task --file /opt/druid/quickstart/tutorial/transform-index.json --url http://localhost:8081"
   ]
  },
  {
   "cell_type": "markdown",
   "id": "c7d15dbd-531a-4982-a38f-34793663ffa7",
   "metadata": {},
   "source": [
    "Consulta de los datos\n",
    "---"
   ]
  },
  {
   "cell_type": "code",
   "execution_count": 4,
   "id": "4e0024f1-ed86-4030-be7c-c8bdfeda8a9f",
   "metadata": {},
   "outputs": [
    {
     "name": "stdout",
     "output_type": "stream",
     "text": [
      "┌──────────────────────────┬────────────────┬───────┬──────────┬────────┬───────────────┐\n",
      "│ __time                   │ animal         │ count │ location │ number │ triple-number │\n",
      "├──────────────────────────┼────────────────┼───────┼──────────┼────────┼───────────────┤\n",
      "│ 2018-01-01T05:01:00.000Z │ super-mongoose │     1 │        2 │    200 │           600 │\n",
      "│ 2018-01-01T06:01:00.000Z │ super-snake    │     1 │        3 │    300 │           900 │\n",
      "│ 2018-01-01T07:01:00.000Z │ super-octopus  │     1 │        1 │    100 │           300 │\n",
      "└──────────────────────────┴────────────────┴───────┴──────────┴────────┴───────────────┘\n",
      "Retrieved 3 rows in 0.02s.\n",
      "\n"
     ]
    }
   ],
   "source": [
    "!dsql -e 'select * from \"transform-tutorial\"'"
   ]
  }
 ],
 "metadata": {
  "kernelspec": {
   "display_name": "Python 3 (ipykernel)",
   "language": "python",
   "name": "python3"
  },
  "language_info": {
   "codemirror_mode": {
    "name": "ipython",
    "version": 3
   },
   "file_extension": ".py",
   "mimetype": "text/x-python",
   "name": "python",
   "nbconvert_exporter": "python",
   "pygments_lexer": "ipython3",
   "version": "3.8.10"
  }
 },
 "nbformat": 4,
 "nbformat_minor": 5
}
