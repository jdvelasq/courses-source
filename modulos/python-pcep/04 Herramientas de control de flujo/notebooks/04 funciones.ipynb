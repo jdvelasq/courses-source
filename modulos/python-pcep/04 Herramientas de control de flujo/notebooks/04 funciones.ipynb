{
 "cells": [
  {
   "cell_type": "markdown",
   "id": "d1e21d00-0d0c-41d1-9b54-32b9aa8cfa34",
   "metadata": {
    "tags": []
   },
   "source": [
    "Creación de funciones de usuario --- 8:44 min\n",
    "===\n",
    "\n",
    "* 8:44 min | Última modificación: Octubre 5, 2021 | [YouTube](https://youtu.be/oub6yjitOH4)"
   ]
  },
  {
   "cell_type": "markdown",
   "id": "b5321cd9-d06e-48e0-be60-b3647c7d2b9d",
   "metadata": {},
   "source": [
    "## Operación de las funciones internas"
   ]
  },
  {
   "cell_type": "code",
   "execution_count": 1,
   "id": "3ca53bb0-b3a0-4750-9865-2564248732d0",
   "metadata": {},
   "outputs": [
    {
     "name": "stdout",
     "output_type": "stream",
     "text": [
      "Hola mundo cruel!\n"
     ]
    }
   ],
   "source": [
    "#\n",
    "# Ejemplo de funciones internas del lenguaje\n",
    "# =============================================================================\n",
    "# La función print() internamente genera\n",
    "# la salida en pantalla de sus argumentos\n",
    "#\n",
    "print(\"Hola mundo cruel!\")"
   ]
  },
  {
   "cell_type": "code",
   "execution_count": 2,
   "id": "51ead632-eef5-4aa9-ad4d-f643e3b0ef6e",
   "metadata": {},
   "outputs": [
    {
     "data": {
      "text/plain": [
       "21"
      ]
     },
     "execution_count": 2,
     "metadata": {},
     "output_type": "execute_result"
    }
   ],
   "source": [
    "#\n",
    "# La función sum() toma una lista y retorna su suma.\n",
    "#\n",
    "sum([1, 2, 3, 4, 5, 6])"
   ]
  },
  {
   "cell_type": "code",
   "execution_count": 3,
   "id": "507122da-3355-4bb3-a678-66cd5c53f211",
   "metadata": {},
   "outputs": [],
   "source": [
    "#\n",
    "# Abstracción del concepto f(x) = x ** 2\n",
    "# =============================================================================\n",
    "#\n",
    "#   x  -> argumento de la función\n",
    "#   return  -> indica que retorna\n",
    "#\n",
    "def square(x):\n",
    "    x_squared = x ** 2\n",
    "    return x_squared"
   ]
  },
  {
   "cell_type": "code",
   "execution_count": 4,
   "id": "d0efd3b0-c902-457f-8686-76cf87ed2b3a",
   "metadata": {},
   "outputs": [
    {
     "data": {
      "text/plain": [
       "4"
      ]
     },
     "metadata": {},
     "output_type": "display_data"
    },
    {
     "data": {
      "text/plain": [
       "4"
      ]
     },
     "metadata": {},
     "output_type": "display_data"
    }
   ],
   "source": [
    "#\n",
    "# Diferencia argumento posicional y nombrado\n",
    "# =============================================================================\n",
    "#\n",
    "display(\n",
    "    square(2),\n",
    "    square(x=2),\n",
    ")"
   ]
  },
  {
   "cell_type": "code",
   "execution_count": 5,
   "id": "e7767d56-9cd8-476a-8914-d6ab81340e0b",
   "metadata": {},
   "outputs": [],
   "source": [
    "#\n",
    "# Las funciones puden ser llamadas dentro de otras\n",
    "# =============================================================================\n",
    "#\n",
    "def sum_of_squares(x, y):\n",
    "    return square(x) + square(y)"
   ]
  },
  {
   "cell_type": "code",
   "execution_count": 6,
   "id": "ebd33e39-6684-4829-b77e-7729dacc27b1",
   "metadata": {},
   "outputs": [
    {
     "data": {
      "text/plain": [
       "5"
      ]
     },
     "execution_count": 6,
     "metadata": {},
     "output_type": "execute_result"
    }
   ],
   "source": [
    "sum_of_squares(1, 2)"
   ]
  },
  {
   "cell_type": "code",
   "execution_count": 7,
   "id": "03671794-1bfe-4a6b-b563-ee08e500e385",
   "metadata": {},
   "outputs": [],
   "source": [
    "#\n",
    "# Error causado cuando el argumento no existe\n",
    "# =============================================================================\n",
    "#"
   ]
  },
  {
   "cell_type": "markdown",
   "id": "3eff5425-3d80-42bc-9f9b-21644ed50b9e",
   "metadata": {},
   "source": [
    "![function_unexpected_keyword_argument.png](assets/function_unexpected_keyword_argument.png)"
   ]
  },
  {
   "cell_type": "code",
   "execution_count": 8,
   "id": "2f29d87f-967b-4bb3-80a0-1c772fd905f2",
   "metadata": {},
   "outputs": [],
   "source": [
    "#\n",
    "# Error causado al usar una variable inexistente\n",
    "# =============================================================================\n",
    "#"
   ]
  },
  {
   "cell_type": "markdown",
   "id": "a9c41299-1134-4986-b90e-d7cb0418cdb4",
   "metadata": {},
   "source": [
    "![function_name_is_not_defined.png](assets/function_name_is_not_defined.png)"
   ]
  },
  {
   "cell_type": "code",
   "execution_count": 9,
   "id": "b1d15a97-8e79-42e3-bc17-2afdf6c74bd6",
   "metadata": {},
   "outputs": [],
   "source": [
    "#\n",
    "# Error causado al llamar la función con un número equivocado de argumentos.\n",
    "# =============================================================================\n",
    "#"
   ]
  },
  {
   "cell_type": "markdown",
   "id": "bfe730fe-e959-413d-a4fc-fb3f6ed6616a",
   "metadata": {
    "tags": []
   },
   "source": [
    "![error_posicional_arg.png](assets/error_posicional_arg.png)"
   ]
  },
  {
   "cell_type": "code",
   "execution_count": 10,
   "id": "68efb090-0aef-4d50-921b-8b19465a30b7",
   "metadata": {},
   "outputs": [
    {
     "name": "stdout",
     "output_type": "stream",
     "text": [
      "a: 1\n",
      "b: 2\n",
      "c: 3\n"
     ]
    }
   ],
   "source": [
    "#\n",
    "# Asignación de los valores de las llamadas a los argumentos de la función.\n",
    "# =============================================================================\n",
    "#\n",
    "def my_function(a, b, c):\n",
    "    print(\"a:\", a)\n",
    "    print(\"b:\", b)\n",
    "    print(\"c:\", c)\n",
    "\n",
    "\n",
    "my_function(1, 2, 3)"
   ]
  },
  {
   "cell_type": "code",
   "execution_count": 11,
   "id": "4ac10222-2ab7-4882-8730-9f2bc27fb8fe",
   "metadata": {},
   "outputs": [
    {
     "data": {
      "text/plain": [
       "None"
      ]
     },
     "metadata": {},
     "output_type": "display_data"
    },
    {
     "data": {
      "text/plain": [
       "NoneType"
      ]
     },
     "metadata": {},
     "output_type": "display_data"
    }
   ],
   "source": [
    "#\n",
    "# Asignación del resultado de una función cuando la función no retorna nada\n",
    "# =============================================================================\n",
    "#\n",
    "def function_returning_nothing(x):\n",
    "    pass\n",
    "\n",
    "\n",
    "y = function_returning_nothing(1)\n",
    "\n",
    "display(\n",
    "    y,\n",
    "    type(y),\n",
    ")"
   ]
  },
  {
   "cell_type": "code",
   "execution_count": 12,
   "id": "608c6158-5f89-49f8-b269-9395e7e42f75",
   "metadata": {},
   "outputs": [
    {
     "data": {
      "text/plain": [
       "(1, 2)"
      ]
     },
     "execution_count": 12,
     "metadata": {},
     "output_type": "execute_result"
    }
   ],
   "source": [
    "#\n",
    "# Retorno de varios valores\n",
    "# =============================================================================\n",
    "#\n",
    "def function_returning_a_tuple(x, y):\n",
    "    return x, y\n",
    "\n",
    "\n",
    "function_returning_a_tuple(1, 2)"
   ]
  },
  {
   "cell_type": "code",
   "execution_count": 13,
   "id": "31651e26-3fad-444d-b688-f0b660b2969a",
   "metadata": {},
   "outputs": [
    {
     "data": {
      "text/plain": [
       "True"
      ]
     },
     "execution_count": 13,
     "metadata": {},
     "output_type": "execute_result"
    }
   ],
   "source": [
    "#\n",
    "# Se debe verificar que la función siempre retorne un valor\n",
    "# =============================================================================\n",
    "#\n",
    "def comparing_function(x, y):\n",
    "    if x > y:\n",
    "        return True\n",
    "\n",
    "\n",
    "comparing_function(2, 1)"
   ]
  },
  {
   "cell_type": "code",
   "execution_count": 14,
   "id": "5b577c05-ff4d-431d-aad1-e76fec201652",
   "metadata": {},
   "outputs": [
    {
     "data": {
      "text/plain": [
       "None"
      ]
     },
     "metadata": {},
     "output_type": "display_data"
    },
    {
     "data": {
      "text/plain": [
       "NoneType"
      ]
     },
     "metadata": {},
     "output_type": "display_data"
    }
   ],
   "source": [
    "#\n",
    "# Esta llamada no retorna un valor\n",
    "# =============================================================================\n",
    "#\n",
    "display(\n",
    "    comparing_function(1, 2),\n",
    "    type(comparing_function(1, 2)),\n",
    ")"
   ]
  },
  {
   "cell_type": "code",
   "execution_count": 15,
   "id": "3fa28868-4943-4353-a493-d2249ee454ec",
   "metadata": {},
   "outputs": [
    {
     "data": {
      "text/plain": [
       "False"
      ]
     },
     "execution_count": 15,
     "metadata": {},
     "output_type": "execute_result"
    }
   ],
   "source": [
    "#\n",
    "# Corrección\n",
    "#\n",
    "def comparing_function(x, y):\n",
    "    if x > y:\n",
    "        return True\n",
    "    return False\n",
    "\n",
    "\n",
    "comparing_function(1, 2)"
   ]
  },
  {
   "cell_type": "code",
   "execution_count": 16,
   "id": "1dbe6894-5607-4609-b135-14bc9235f52c",
   "metadata": {},
   "outputs": [
    {
     "data": {
      "text/plain": [
       "'No hace nada'"
      ]
     },
     "execution_count": 16,
     "metadata": {},
     "output_type": "execute_result"
    }
   ],
   "source": [
    "#\n",
    "# Define una función sin cuerpo pero documentada\n",
    "#\n",
    "def my_function():\n",
    "    \"\"\"No hace nada\"\"\"\n",
    "\n",
    "\n",
    "my_function.__doc__"
   ]
  },
  {
   "cell_type": "code",
   "execution_count": 17,
   "id": "c6a332cf-5e31-4d3d-80d6-9c23297f348e",
   "metadata": {},
   "outputs": [
    {
     "name": "stdout",
     "output_type": "stream",
     "text": [
      "Help on function my_function in module __main__:\n",
      "\n",
      "my_function()\n",
      "    No hace nada\n",
      "\n"
     ]
    }
   ],
   "source": [
    "help(my_function)"
   ]
  },
  {
   "cell_type": "code",
   "execution_count": 24,
   "id": "ae573d67-bcd7-4ad3-9229-d58d0f76e70f",
   "metadata": {},
   "outputs": [
    {
     "name": "stdout",
     "output_type": "stream",
     "text": [
      "Help on built-in function sum in module builtins:\n",
      "\n",
      "sum(iterable, start=0, /)\n",
      "    Return the sum of a 'start' value (default: 0) plus an iterable of numbers\n",
      "    \n",
      "    When the iterable is empty, return the start value.\n",
      "    This function is intended specifically for use with numeric values and may\n",
      "    reject non-numeric types.\n",
      "\n"
     ]
    }
   ],
   "source": [
    "help(sum)"
   ]
  },
  {
   "cell_type": "code",
   "execution_count": null,
   "id": "2d342f46-8101-4d7f-9f27-9de357359473",
   "metadata": {},
   "outputs": [],
   "source": []
  },
  {
   "cell_type": "code",
   "execution_count": null,
   "id": "bab90268-4313-4247-8f78-ba9d66065792",
   "metadata": {},
   "outputs": [],
   "source": []
  },
  {
   "cell_type": "markdown",
   "id": "86b99676-3aff-4f01-9403-c17ff0be1bcd",
   "metadata": {},
   "source": [
    "## Ejemplo"
   ]
  },
  {
   "cell_type": "markdown",
   "id": "66c51814-164a-492f-a298-b43394aa40ee",
   "metadata": {},
   "source": [
    "Se desea construir una función que cuente las ocurrencias de cada elemento en una columna de una tabla."
   ]
  },
  {
   "cell_type": "code",
   "execution_count": 18,
   "id": "d1deeb77-3c7e-460b-b2fd-ff971bdb42e3",
   "metadata": {},
   "outputs": [],
   "source": [
    "#\n",
    "# Se descargan los datos de la tabla\n",
    "#\n",
    "tweets_url = (\n",
    "    \"https://raw.githubusercontent.com/jdvelasq/datalabs/master/datasets/tweets.csv\"\n",
    ")\n",
    "!wget --quiet {tweets_url} -P /tmp/"
   ]
  },
  {
   "cell_type": "code",
   "execution_count": 19,
   "id": "5b6fe6a7-8460-4601-8665-9a94649f94a3",
   "metadata": {},
   "outputs": [
    {
     "name": "stdout",
     "output_type": "stream",
     "text": [
      "contributors\n",
      "coordinates\n",
      "created_at\n",
      "entities\n",
      "extended_entities\n",
      "favorite_count\n",
      "favorited\n",
      "filter_level\n",
      "geo\n",
      "id\n",
      "id_str\n",
      "in_reply_to_screen_name\n",
      "in_reply_to_status_id\n",
      "in_reply_to_status_id_str\n",
      "in_reply_to_user_id\n",
      "in_reply_to_user_id_str\n",
      "is_quote_status\n",
      "lang\n",
      "place\n",
      "possibly_sensitive\n",
      "quoted_status\n",
      "quoted_status_id\n",
      "quoted_status_id_str\n",
      "retweet_count\n",
      "retweeted\n",
      "retweeted_status\n",
      "source\n",
      "text\n",
      "timestamp_ms\n",
      "truncated\n",
      "user\n"
     ]
    }
   ],
   "source": [
    "#\n",
    "# Se cargan los datos en una tabla\n",
    "#\n",
    "import pandas as pd\n",
    "\n",
    "tweets_df = pd.read_csv(\"/tmp/tweets.csv\")\n",
    "\n",
    "for column in sorted(tweets_df.columns):\n",
    "    print(column)"
   ]
  },
  {
   "cell_type": "code",
   "execution_count": 20,
   "id": "a3f33031-05bd-4080-942a-0f054d0ff95c",
   "metadata": {},
   "outputs": [
    {
     "data": {
      "text/html": [
       "<div>\n",
       "<style scoped>\n",
       "    .dataframe tbody tr th:only-of-type {\n",
       "        vertical-align: middle;\n",
       "    }\n",
       "\n",
       "    .dataframe tbody tr th {\n",
       "        vertical-align: top;\n",
       "    }\n",
       "\n",
       "    .dataframe thead th {\n",
       "        text-align: right;\n",
       "    }\n",
       "</style>\n",
       "<table border=\"1\" class=\"dataframe\">\n",
       "  <thead>\n",
       "    <tr style=\"text-align: right;\">\n",
       "      <th></th>\n",
       "      <th>contributors</th>\n",
       "      <th>coordinates</th>\n",
       "      <th>created_at</th>\n",
       "      <th>entities</th>\n",
       "      <th>extended_entities</th>\n",
       "      <th>favorite_count</th>\n",
       "      <th>favorited</th>\n",
       "      <th>filter_level</th>\n",
       "      <th>geo</th>\n",
       "      <th>id</th>\n",
       "      <th>...</th>\n",
       "      <th>quoted_status_id</th>\n",
       "      <th>quoted_status_id_str</th>\n",
       "      <th>retweet_count</th>\n",
       "      <th>retweeted</th>\n",
       "      <th>retweeted_status</th>\n",
       "      <th>source</th>\n",
       "      <th>text</th>\n",
       "      <th>timestamp_ms</th>\n",
       "      <th>truncated</th>\n",
       "      <th>user</th>\n",
       "    </tr>\n",
       "  </thead>\n",
       "  <tbody>\n",
       "    <tr>\n",
       "      <th>0</th>\n",
       "      <td>NaN</td>\n",
       "      <td>NaN</td>\n",
       "      <td>Tue Mar 29 23:40:17 +0000 2016</td>\n",
       "      <td>{'hashtags': [], 'user_mentions': [{'screen_na...</td>\n",
       "      <td>{'media': [{'sizes': {'large': {'w': 1024, 'h'...</td>\n",
       "      <td>0</td>\n",
       "      <td>False</td>\n",
       "      <td>low</td>\n",
       "      <td>NaN</td>\n",
       "      <td>714960401759387648</td>\n",
       "      <td>...</td>\n",
       "      <td>NaN</td>\n",
       "      <td>NaN</td>\n",
       "      <td>0</td>\n",
       "      <td>False</td>\n",
       "      <td>{'retweeted': False, 'text': \".@krollbondratin...</td>\n",
       "      <td>&lt;a href=\"http://twitter.com\" rel=\"nofollow\"&gt;Tw...</td>\n",
       "      <td>RT @bpolitics: .@krollbondrating's Christopher...</td>\n",
       "      <td>1459294817758</td>\n",
       "      <td>False</td>\n",
       "      <td>{'utc_offset': 3600, 'profile_image_url_https'...</td>\n",
       "    </tr>\n",
       "    <tr>\n",
       "      <th>1</th>\n",
       "      <td>NaN</td>\n",
       "      <td>NaN</td>\n",
       "      <td>Tue Mar 29 23:40:17 +0000 2016</td>\n",
       "      <td>{'hashtags': [{'text': 'cruzsexscandal', 'indi...</td>\n",
       "      <td>{'media': [{'sizes': {'large': {'w': 500, 'h':...</td>\n",
       "      <td>0</td>\n",
       "      <td>False</td>\n",
       "      <td>low</td>\n",
       "      <td>NaN</td>\n",
       "      <td>714960401977319424</td>\n",
       "      <td>...</td>\n",
       "      <td>NaN</td>\n",
       "      <td>NaN</td>\n",
       "      <td>0</td>\n",
       "      <td>False</td>\n",
       "      <td>{'retweeted': False, 'text': '@dmartosko Cruz ...</td>\n",
       "      <td>&lt;a href=\"http://twitter.com\" rel=\"nofollow\"&gt;Tw...</td>\n",
       "      <td>RT @HeidiAlpine: @dmartosko Cruz video found.....</td>\n",
       "      <td>1459294817810</td>\n",
       "      <td>False</td>\n",
       "      <td>{'utc_offset': None, 'profile_image_url_https'...</td>\n",
       "    </tr>\n",
       "    <tr>\n",
       "      <th>2</th>\n",
       "      <td>NaN</td>\n",
       "      <td>NaN</td>\n",
       "      <td>Tue Mar 29 23:40:17 +0000 2016</td>\n",
       "      <td>{'hashtags': [], 'user_mentions': [], 'symbols...</td>\n",
       "      <td>NaN</td>\n",
       "      <td>0</td>\n",
       "      <td>False</td>\n",
       "      <td>low</td>\n",
       "      <td>NaN</td>\n",
       "      <td>714960402426236928</td>\n",
       "      <td>...</td>\n",
       "      <td>NaN</td>\n",
       "      <td>NaN</td>\n",
       "      <td>0</td>\n",
       "      <td>False</td>\n",
       "      <td>NaN</td>\n",
       "      <td>&lt;a href=\"http://www.facebook.com/twitter\" rel=...</td>\n",
       "      <td>Njihuni me Zonjën Trump !!! | Ekskluzive https...</td>\n",
       "      <td>1459294817917</td>\n",
       "      <td>False</td>\n",
       "      <td>{'utc_offset': 7200, 'profile_image_url_https'...</td>\n",
       "    </tr>\n",
       "    <tr>\n",
       "      <th>3</th>\n",
       "      <td>NaN</td>\n",
       "      <td>NaN</td>\n",
       "      <td>Tue Mar 29 23:40:17 +0000 2016</td>\n",
       "      <td>{'hashtags': [], 'user_mentions': [], 'symbols...</td>\n",
       "      <td>NaN</td>\n",
       "      <td>0</td>\n",
       "      <td>False</td>\n",
       "      <td>low</td>\n",
       "      <td>NaN</td>\n",
       "      <td>714960402367561730</td>\n",
       "      <td>...</td>\n",
       "      <td>7.149239e+17</td>\n",
       "      <td>7.149239e+17</td>\n",
       "      <td>0</td>\n",
       "      <td>False</td>\n",
       "      <td>NaN</td>\n",
       "      <td>&lt;a href=\"http://twitter.com/download/android\" ...</td>\n",
       "      <td>Your an idiot she shouldn't have tried to grab...</td>\n",
       "      <td>1459294817903</td>\n",
       "      <td>False</td>\n",
       "      <td>{'utc_offset': None, 'profile_image_url_https'...</td>\n",
       "    </tr>\n",
       "    <tr>\n",
       "      <th>4</th>\n",
       "      <td>NaN</td>\n",
       "      <td>NaN</td>\n",
       "      <td>Tue Mar 29 23:40:17 +0000 2016</td>\n",
       "      <td>{'hashtags': [], 'user_mentions': [{'screen_na...</td>\n",
       "      <td>NaN</td>\n",
       "      <td>0</td>\n",
       "      <td>False</td>\n",
       "      <td>low</td>\n",
       "      <td>NaN</td>\n",
       "      <td>714960402149416960</td>\n",
       "      <td>...</td>\n",
       "      <td>NaN</td>\n",
       "      <td>NaN</td>\n",
       "      <td>0</td>\n",
       "      <td>False</td>\n",
       "      <td>{'retweeted': False, 'text': 'The anti-America...</td>\n",
       "      <td>&lt;a href=\"http://twitter.com/download/iphone\" r...</td>\n",
       "      <td>RT @AlanLohner: The anti-American D.C. elites ...</td>\n",
       "      <td>1459294817851</td>\n",
       "      <td>False</td>\n",
       "      <td>{'utc_offset': -18000, 'profile_image_url_http...</td>\n",
       "    </tr>\n",
       "  </tbody>\n",
       "</table>\n",
       "<p>5 rows × 31 columns</p>\n",
       "</div>"
      ],
      "text/plain": [
       "   contributors  coordinates                      created_at  \\\n",
       "0           NaN          NaN  Tue Mar 29 23:40:17 +0000 2016   \n",
       "1           NaN          NaN  Tue Mar 29 23:40:17 +0000 2016   \n",
       "2           NaN          NaN  Tue Mar 29 23:40:17 +0000 2016   \n",
       "3           NaN          NaN  Tue Mar 29 23:40:17 +0000 2016   \n",
       "4           NaN          NaN  Tue Mar 29 23:40:17 +0000 2016   \n",
       "\n",
       "                                            entities  \\\n",
       "0  {'hashtags': [], 'user_mentions': [{'screen_na...   \n",
       "1  {'hashtags': [{'text': 'cruzsexscandal', 'indi...   \n",
       "2  {'hashtags': [], 'user_mentions': [], 'symbols...   \n",
       "3  {'hashtags': [], 'user_mentions': [], 'symbols...   \n",
       "4  {'hashtags': [], 'user_mentions': [{'screen_na...   \n",
       "\n",
       "                                   extended_entities  favorite_count  \\\n",
       "0  {'media': [{'sizes': {'large': {'w': 1024, 'h'...               0   \n",
       "1  {'media': [{'sizes': {'large': {'w': 500, 'h':...               0   \n",
       "2                                                NaN               0   \n",
       "3                                                NaN               0   \n",
       "4                                                NaN               0   \n",
       "\n",
       "   favorited filter_level  geo                  id  ...  quoted_status_id  \\\n",
       "0      False          low  NaN  714960401759387648  ...               NaN   \n",
       "1      False          low  NaN  714960401977319424  ...               NaN   \n",
       "2      False          low  NaN  714960402426236928  ...               NaN   \n",
       "3      False          low  NaN  714960402367561730  ...      7.149239e+17   \n",
       "4      False          low  NaN  714960402149416960  ...               NaN   \n",
       "\n",
       "  quoted_status_id_str  retweet_count  retweeted  \\\n",
       "0                  NaN              0      False   \n",
       "1                  NaN              0      False   \n",
       "2                  NaN              0      False   \n",
       "3         7.149239e+17              0      False   \n",
       "4                  NaN              0      False   \n",
       "\n",
       "                                    retweeted_status  \\\n",
       "0  {'retweeted': False, 'text': \".@krollbondratin...   \n",
       "1  {'retweeted': False, 'text': '@dmartosko Cruz ...   \n",
       "2                                                NaN   \n",
       "3                                                NaN   \n",
       "4  {'retweeted': False, 'text': 'The anti-America...   \n",
       "\n",
       "                                              source  \\\n",
       "0  <a href=\"http://twitter.com\" rel=\"nofollow\">Tw...   \n",
       "1  <a href=\"http://twitter.com\" rel=\"nofollow\">Tw...   \n",
       "2  <a href=\"http://www.facebook.com/twitter\" rel=...   \n",
       "3  <a href=\"http://twitter.com/download/android\" ...   \n",
       "4  <a href=\"http://twitter.com/download/iphone\" r...   \n",
       "\n",
       "                                                text   timestamp_ms truncated  \\\n",
       "0  RT @bpolitics: .@krollbondrating's Christopher...  1459294817758     False   \n",
       "1  RT @HeidiAlpine: @dmartosko Cruz video found.....  1459294817810     False   \n",
       "2  Njihuni me Zonjën Trump !!! | Ekskluzive https...  1459294817917     False   \n",
       "3  Your an idiot she shouldn't have tried to grab...  1459294817903     False   \n",
       "4  RT @AlanLohner: The anti-American D.C. elites ...  1459294817851     False   \n",
       "\n",
       "                                                user  \n",
       "0  {'utc_offset': 3600, 'profile_image_url_https'...  \n",
       "1  {'utc_offset': None, 'profile_image_url_https'...  \n",
       "2  {'utc_offset': 7200, 'profile_image_url_https'...  \n",
       "3  {'utc_offset': None, 'profile_image_url_https'...  \n",
       "4  {'utc_offset': -18000, 'profile_image_url_http...  \n",
       "\n",
       "[5 rows x 31 columns]"
      ]
     },
     "execution_count": 20,
     "metadata": {},
     "output_type": "execute_result"
    }
   ],
   "source": [
    "tweets_df.head()"
   ]
  },
  {
   "cell_type": "code",
   "execution_count": 21,
   "id": "cb76ff73-6600-4768-8b44-fd430b0a1b33",
   "metadata": {},
   "outputs": [
    {
     "data": {
      "text/plain": [
       "0     RT @bpolitics: .@krollbondrating's Christopher...\n",
       "1     RT @HeidiAlpine: @dmartosko Cruz video found.....\n",
       "2     Njihuni me Zonjën Trump !!! | Ekskluzive https...\n",
       "3     Your an idiot she shouldn't have tried to grab...\n",
       "4     RT @AlanLohner: The anti-American D.C. elites ...\n",
       "                            ...                        \n",
       "95    RT @claytoncubitt: Stop asking Bernie supporte...\n",
       "96    Kasich is gonna fuck this up for Ted Cruz  htt...\n",
       "97    RT @akaMaude13: Seriously can't make this up. ...\n",
       "98    Kasich is gonna fuck this up for Ted Cruz  htt...\n",
       "99    @marklevinshow try reporting this truth. https...\n",
       "Name: text, Length: 100, dtype: object"
      ]
     },
     "execution_count": 21,
     "metadata": {},
     "output_type": "execute_result"
    }
   ],
   "source": [
    "#\n",
    "# Se desea analizar los retweets. Estos\n",
    "# Empiezan por RT\n",
    "#\n",
    "tweets_df.text"
   ]
  },
  {
   "cell_type": "code",
   "execution_count": 22,
   "id": "4cb91087-237a-4ede-944c-a8225c5cf0d0",
   "metadata": {},
   "outputs": [
    {
     "data": {
      "text/plain": [
       "[\"RT @bpolitics: .@krollbondrating's Christopher Whalen says Clinton is the weakest Dem candidate in 50 years https://t.co/pLk7rvoRSn https:/…\",\n",
       " 'RT @HeidiAlpine: @dmartosko Cruz video found.....racing from the scene.... #cruzsexscandal https://t.co/zuAPZfQDk3',\n",
       " 'RT @AlanLohner: The anti-American D.C. elites despise Trump for his America-first foreign policy. Trump threatens their gravy train. https:…',\n",
       " 'RT @BIackPplTweets: Young Donald trump meets his neighbor  https://t.co/RFlu17Z1eE',\n",
       " 'RT @trumpresearch: @WaitingInBagdad @thehill Trump supporters have selective amnisia.']"
      ]
     },
     "execution_count": 22,
     "metadata": {},
     "output_type": "execute_result"
    }
   ],
   "source": [
    "#\n",
    "#\n",
    "result = filter(lambda x: x[:2] == \"RT\", tweets_df.text)\n",
    "res_list = list(result)\n",
    "res_list[:5]"
   ]
  },
  {
   "cell_type": "code",
   "execution_count": 23,
   "id": "ad5fc259-124e-49ff-b2ac-7550338dd4d6",
   "metadata": {},
   "outputs": [
    {
     "name": "stdout",
     "output_type": "stream",
     "text": [
      "{\"RT @bpolitics: .@krollbondrating's Christopher Whalen says Clinton is the weakest Dem candidate in 50 years https://t.co/pLk7rvoRSn https:/…\": 1, 'RT @HeidiAlpine: @dmartosko Cruz video found.....racing from the scene.... #cruzsexscandal https://t.co/zuAPZfQDk3': 1, 'Njihuni me Zonjën Trump !!! | Ekskluzive https://t.co/4KmsQi47VD': 1, \"Your an idiot she shouldn't have tried to grab trump after the fact she's an idiot https://t.co/lpASyeNVpG\": 2, 'RT @AlanLohner: The anti-American D.C. elites despise Trump for his America-first foreign policy. Trump threatens their gravy train. https:…': 1, 'RT @BIackPplTweets: Young Donald trump meets his neighbor  https://t.co/RFlu17Z1eE': 1, 'RT @trumpresearch: @WaitingInBagdad @thehill Trump supporters have selective amnisia.': 2, 'RT @HouseCracka: 29,000+ PEOPLE WATCHING TRUMP LIVE ON ONE STREAM!!!\\n\\nhttps://t.co/7QCFz9ehNe': 1, 'RT @urfavandtrump: RT for Brendon Urie\\nFav for Donald Trump https://t.co/PZ5vS94lOg': 2, 'RT @trapgrampa: This is how I see #Trump every time he speaks. https://t.co/fYSiHNS0nT': 2, 'RT @Pjw20161951: NO KIDDING: #SleazyDonald just attacked Scott Walker for NOT RAISING TAXES in WI! #LyinTrump\\n#NeverTrump  #CruzCrew  https…': 2, 'RT @ggreenwald: The media spent all day claiming @SusanSarandon said she might vote for Trump. A total fabrication, but whatever... https:/…': 3, 'RT @mitchellvii: So let me get this straight.  Any reporter can assault Mr Trump at any time and Corey can do nothing?  Michelle is clearly…': 2, 'RT @paulbenedict7: How #Trump Sacks RINO Strongholds by Hitting Positions Held by Dems and GOP https://t.co/D7ulnAJhis   #tcot #PJNET https…': 2, 'RT @DRUDGE_REPORT: VIDEO:  Trump emotional moment with Former Miss Wisconsin who has terminal illness... https://t.co/qt06aG9inT': 2, '#HillYes #ImWithHer #RollHillary @HillaryClinton  https://t.co/OwYXKIalyn': 2, \"RT @DennisApgar: Thank God I seen Trump at first stop in Wisconsin media doesn't know how great he is, advice watch live streaming https://…\": 2, \"Trump won't do a yes ma'am for this.  https://t.co/r3WkGZDjPH\": 1, \"RT @sciam: Trump's idiosyncratic patterns of speech are why people tend either to love or hate him https://t.co/QXwquVgs3c https://t.co/P9N…\": 2, 'RT @Norsu2: Nightmare WI poll for Ted Cruz has Kasich surging: Trump 29, Kasich 27, Cruz 25. https://t.co/lJsgbLYY1P #NeverTrump': 1, 'RT @thehill: WATCH: Protester pepper-sprayed point blank at Trump rally https://t.co/B5f65Al9ld https://t.co/skAfByXuQc': 1, 'Opinion: The big story is -- Sanders https://t.co/9Z9ZVnZ1Zi': 2, 'GOP speechwriter: By November, Ivanka will be voting for Clinton | TheHill https://t.co/tUT7LpEHak': 1, 'This dude must have some serious issues  https://t.co/ojYaDpnSoe': 1, \"RT @DebbieStout5: Wow! Last I checked it was just 12 points &amp; that wasn't more than a day ago. Oh boy Trump ppl might want to rethink🤔 http…\": 1, \"RT @tyleroakley: i'm a messy bitch, but at least i'm not voting for trump\": 1, \"RT @vandives: Trump supporters r tired of justice NOT being served. There's no justice anymore. Hardworking Americans get screwed. That's n…\": 1, 'RT @AP: BREAKING: Trump vows to stand by campaign manager charged with battery, says he does not discard people.': 2, 'It Cometh from the Pit. And Hath a Knout https://t.co/iyF5HPDJNU\\n#Trump\\n#Election2016 https://t.co/W4ZXQfUHi8': 1, '@footlooseracer @hautedamn @z0mgItsHutch So much sadness and pure stupidity from the people who support Trump. Very sad.': 1, 'RT @urfavandtrump: RT for Jerrie (Little Mix)\\nFav for Donald Trump https://t.co/nEVxElW6iG': 2, 'PSA: @piersmorgan is a asshole. https://t.co/2Gjp2NPo0w': 2, 'RT @NoahCRothman: When Walker was fighting for reforms, Trump was defending unions and collective bargaining privileges https://t.co/e1UWNN…': 2, 'RT @RedheadAndRight: Report: Secret Service Says Michelle Fields Touched Trump https://t.co/c5c2sD8VO2\\n\\nThis is the only article you will n…': 2, 'Me listening to DONALD TRUMP saying that he has no small hands ( allegedly ) https://t.co/LhUYdi8Vgf https://t.co/IwD9Lg84HY': 1, 'RT @AIIAmericanGirI: VIDEO=&gt; Anti-Trump Protester SLUGS Elderly Trump Supporter in the Face\\nhttps://t.co/GeEryMDuDY': 2, 'RT @JusticeRanger1: @realDonaldTrump @Pudingtane @DanScavino @GOP @infowars @EricTrump \\nURGENT PUBLIC TRUMP ALERT:\\nCOVERT KILL MEANS https:…': 2, 'Susan Sarandon Shares Interesting Opinion on Donald Trump https://t.co/Gjzkpr5mrH': 2, '@jbrading dude you are annoying af. Deion sanders fucking hates you guys.': 2, 'RT @Schneider_CM: Trump says nobody had ever heard of executive orders before Obama started signing them. Never heard of the Emancipation P…': 2, 'RT @RonBasler1: @DavidWhitDennis @realDonaldTrump @tedcruz \\n\\nCRUZ SCREWS HOOKERS\\n\\nCRUZ / CLINTON': 2, \"@realDonaldTrump Its too bad Cruz doesn't have enough brains to realize he's being led down the primrose lane to be neutered by the Elites!!\": 2, 'RT @DonaldsAngel: Former Ms. WI just said that she is terminally ill but because of Trump pageant, her 7 yr. old son has his college educat…': 2, 'Photo: #Donald #Trump #Protest in #Milwaukee ahead of CNN GOP #Town #Hall with #Trump, Ted #Cruz, ... https://t.co/8NOguZUSCK': 2, 'RT @Dodarey: @DR8801 @SykesCharlie Charlie, let\\'s see you get a straight \"yes\" or \"no\" answer from Cruz a/b being unfaithful to his wife @T…': 2, 'RT @RockCliffOne: Remember when the idea of a diabolical moron holding the world hostage was an idea for a funny movie? #Trump #GOP https:/…': 2, 'RT @HillaryClinton: \"Every day, another Republican bemoans the rise of Donald Trump... but [he] didn’t come out of nowhere.\" —Hillary\\nhttps…': 2, '@realDonaldTrump @MELANIATRUMP Get Them Good Mr.Trump ,Great Picture of You and The First Lady': 2, \"I just saw this. I'm speechless.  https://t.co/cmUYxtrX0Y\": 2, 'Trump campaign chief charged with battery https://t.co/SpIukqj3Rb': 1, 'RT @immigrant4trump: @immigrant4trump msm, cable news attacking trump all day, from 8am to 10pm today, then the reruns come on, repeating t…': 2, '@ErinBurnett @Bakari_Sellers @benfergusonshow @BernieSanders Again @CNN allows Jeff Lord far too much time to spin wacky Trump.': 2, '@noreallyhowcome @TVineberg Learn about Bernie https://t.co/bhaUnQ4jrr Learn about Hillary https://t.co/eAbfWrAG4G https://t.co/W53JJCkDFv': 1, 'RT @GlendaJazzey: Donald Trump’s Campaign Financing Dodge, @rrotunda https://t.co/L8flI4lswG via @VerdictJustia': 1, \"Trump who prides himself on the ability to spot a good deal missed out on a big one in Louisiana. C'est la vie.  https://t.co/MZrvWwTWZV\": 1, 'Judicial Watch: Obama Administration Withholds Draft Whitewater Indictment of Hillary Clinton https://t.co/EuW9J1WVm1': 1, \"I don't understand how anyone can support a hateful person like @realDonaldTrump  https://t.co/BbYMxRWadC\": 1, 'RT @TUSK81: LOUDER FOR THE PEOPLE IN THE BACK https://t.co/hlPVyNLXzx': 1, 'RT @loopzoop: Well...put it back https://t.co/8Yb7BDT5VM': 1, 'Donald Trump: Victim. https://t.co/qvK17ZnUTZ': 1, 'RT @claytoncubitt: Stop asking Bernie supporters if they’ll vote for Hillary against Trump. We got a plan to beat Trump already. Called Ber…': 1, 'Kasich is gonna fuck this up for Ted Cruz  https://t.co/JYYok5qx7R': 2, \"RT @akaMaude13: Seriously can't make this up. What a joke. #NeverTrump  https://t.co/JkTx6mdRgC\": 1, '@marklevinshow try reporting this truth. https://t.co/z76fZzCRK3': 1}\n"
     ]
    }
   ],
   "source": [
    "def count_entries(df, col_name=\"lang\"):\n",
    "    \"\"\"Return a dictionary with counts of\n",
    "    occurrences as value for each key.\"\"\"\n",
    "\n",
    "    cols_count = {}\n",
    "\n",
    "    try:\n",
    "        col = df[col_name]\n",
    "\n",
    "        for entry in col:\n",
    "            if entry in cols_count.keys():\n",
    "                cols_count[entry] += 1\n",
    "            else:\n",
    "                cols_count[entry] = 1\n",
    "\n",
    "        return cols_count\n",
    "\n",
    "    except ValueError:\n",
    "        print(f\"La columna {col_name} no existe!\")\n",
    "\n",
    "\n",
    "counted_entries = count_entries(tweets_df, \"text\")\n",
    "print(counted_entries)"
   ]
  }
 ],
 "metadata": {
  "kernelspec": {
   "display_name": "Python 3",
   "language": "python",
   "name": "python3"
  },
  "language_info": {
   "codemirror_mode": {
    "name": "ipython",
    "version": 3
   },
   "file_extension": ".py",
   "mimetype": "text/x-python",
   "name": "python",
   "nbconvert_exporter": "python",
   "pygments_lexer": "ipython3",
   "version": "3.6.9"
  }
 },
 "nbformat": 4,
 "nbformat_minor": 5
}
