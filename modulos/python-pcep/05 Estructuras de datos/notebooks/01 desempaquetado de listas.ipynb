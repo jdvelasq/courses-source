{
 "cells": [
  {
   "cell_type": "markdown",
   "id": "83bebf55-a809-4e4f-a8b9-dc906eb81ba8",
   "metadata": {
    "tags": []
   },
   "source": [
    "Desempaquetado de listas --- 1:21 min\n",
    "===\n",
    "\n",
    "* 1:21 min | Última modificación: Octubre 4, 2021 | [YouTube](https://youtu.be/9Un9XxYoOb0)"
   ]
  },
  {
   "cell_type": "code",
   "execution_count": 1,
   "id": "6dfe2102-9e81-4c0c-bdc3-401a31472908",
   "metadata": {},
   "outputs": [
    {
     "data": {
      "text/plain": [
       "[2, 3]"
      ]
     },
     "execution_count": 1,
     "metadata": {},
     "output_type": "execute_result"
    }
   ],
   "source": [
    "#\n",
    "# first = 1, rest = [2, 3]\n",
    "#\n",
    "first, *rest = [1, 2, 3]\n",
    "rest"
   ]
  },
  {
   "cell_type": "code",
   "execution_count": 2,
   "id": "4882257e-5099-4c84-94b6-5a6098037b89",
   "metadata": {},
   "outputs": [
    {
     "data": {
      "text/plain": [
       "[2, 3]"
      ]
     },
     "execution_count": 2,
     "metadata": {},
     "output_type": "execute_result"
    }
   ],
   "source": [
    "#\n",
    "# first = 1, middle = [2, 3], last = 4\n",
    "#\n",
    "first, *middle, last = [1, 2, 3, 4]\n",
    "middle"
   ]
  }
 ],
 "metadata": {
  "kernelspec": {
   "display_name": "Python 3",
   "language": "python",
   "name": "python3"
  },
  "language_info": {
   "codemirror_mode": {
    "name": "ipython",
    "version": 3
   },
   "file_extension": ".py",
   "mimetype": "text/x-python",
   "name": "python",
   "nbconvert_exporter": "python",
   "pygments_lexer": "ipython3",
   "version": "3.6.9"
  }
 },
 "nbformat": 4,
 "nbformat_minor": 5
}
