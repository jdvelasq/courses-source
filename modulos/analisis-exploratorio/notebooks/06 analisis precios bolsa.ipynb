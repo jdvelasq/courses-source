{
 "cells": [
  {
   "cell_type": "markdown",
   "id": "d7a485cd-5bcc-44bc-a971-5ab8d58a17fc",
   "metadata": {
    "slideshow": {
     "slide_type": "slide"
    },
    "tags": []
   },
   "source": [
    "Análisis de precios de bolsa\n",
    "==="
   ]
  },
  {
   "cell_type": "markdown",
   "id": "43a1f22c-43ad-413b-a22f-34599b60a07a",
   "metadata": {},
   "source": [
    "La url 'https://raw.githubusercontent.com/jdvelasq/datalabs/master/datasets/precio_bolsa_nacional/csv/*.csv' contiene los archivos de los precios horarios de bolsa para el mercado electrico colombiano. Descargue la data y responda las preguntas planteadas."
   ]
  },
  {
   "cell_type": "markdown",
   "id": "804a90a8-bec2-487e-9e12-868338e65322",
   "metadata": {},
   "source": [
    "![assets/repo_precios_bolsa.png](assets/repo_precios_bolsa.png)"
   ]
  },
  {
   "cell_type": "markdown",
   "id": "9d6e6a87-67a0-4bcc-9d06-4f0098ae34bf",
   "metadata": {},
   "source": [
    "Realice la descarga de los datos\n",
    "---"
   ]
  },
  {
   "cell_type": "code",
   "execution_count": 1,
   "id": "8dd420fc-9ae5-4da8-a50c-5409095a7487",
   "metadata": {
    "tags": []
   },
   "outputs": [
    {
     "name": "stdout",
     "output_type": "stream",
     "text": [
      "['199507.csv', '199508.csv', '199509.csv', '199510.csv', '199511.csv']\n",
      "['202012.csv', '202101.csv', '202102.csv', '202103.csv', '202104.csv']\n"
     ]
    }
   ],
   "source": [
    "#\n",
    "# Parte 1: Prueba del código de descarga\n",
    "#\n",
    "import requests\n",
    "\n",
    "owner = \"jdvelasq\"\n",
    "repo = \"datalabs\"\n",
    "folder = \"datasets/precio_bolsa_nacional/csv/\"\n",
    "\n",
    "url = f\"https://api.github.com/repos/{owner}/{repo}/contents/{folder}\"\n",
    "response = requests.get(url)\n",
    "\n",
    "filenames = [file[\"name\"] for file in response.json()]\n",
    "print(filenames[:5])\n",
    "print(filenames[-5:])"
   ]
  },
  {
   "cell_type": "code",
   "execution_count": 2,
   "id": "7e057c21-a19c-41a8-8f64-a0b4faede621",
   "metadata": {
    "tags": []
   },
   "outputs": [
    {
     "name": "stdout",
     "output_type": "stream",
     "text": [
      "        Fecha      0      1      2     3     4      5      6      7      8   \n",
      "0  1995-07-21  1.073    1.0    1.0   1.0   1.0    1.0    5.0    6.0    6.0  \\\n",
      "1  1995-07-22  1.073  1.073    1.0   1.0   1.0  1.073  1.303  1.303  1.303   \n",
      "2  1995-07-23  1.073    1.0    1.0   1.0   1.0    1.0    0.1    1.0    1.0   \n",
      "3  1995-07-24    1.0    1.0   0.99   1.0   1.0  1.073    3.0    3.0    3.0   \n",
      "4  1995-07-25   0.99   0.99  0.989  0.99  0.99  1.073  1.263  1.263  1.263   \n",
      "\n",
      "   ...     14     15     16     17     18     19      20     21     22     23  \n",
      "0  ...    5.0    1.0    1.0    5.0   12.0  16.67  11.929    5.0    1.0    1.0  \n",
      "1  ...  1.073    1.0    1.0    1.0  1.303    2.5     2.5  1.303  1.073  1.073  \n",
      "2  ...    1.0    0.1    0.1    1.0  1.238  1.238   1.238  1.238  1.073    1.0  \n",
      "3  ...  1.073  1.073    3.0    2.0  18.63   22.5   9.256    3.0  1.073    1.0  \n",
      "4  ...  1.073  1.073  1.073  1.073  1.263    1.5   1.263  1.263  1.073   0.99  \n",
      "\n",
      "[5 rows x 25 columns]\n"
     ]
    }
   ],
   "source": [
    "#\n",
    "# Parte 2: Descarga y concatenacion\n",
    "#\n",
    "import pandas as pd\n",
    "\n",
    "owner = \"jdvelasq\"\n",
    "repo = \"datalabs\"\n",
    "folder = \"datasets/precio_bolsa_nacional/csv/\"\n",
    "\n",
    "url = f\"https://api.github.com/repos/{owner}/{repo}/contents/{folder}\"\n",
    "response = requests.get(url)\n",
    "\n",
    "base_url = f\"https://raw.githubusercontent.com/{owner}/{repo}/master/{folder}\"\n",
    "\n",
    "dfs = []\n",
    "for file in response.json():\n",
    "    file_url = base_url + file[\"name\"]\n",
    "    df = pd.read_csv(file_url)\n",
    "    dfs.append(df)\n",
    "\n",
    "df_concat = pd.concat(dfs, ignore_index=True)\n",
    "print(df_concat.head())"
   ]
  },
  {
   "cell_type": "markdown",
   "id": "35a5ddb5-08ad-460f-9e6c-61a2515b0aa6",
   "metadata": {},
   "source": [
    "Realice la limpieza de los datos\n",
    "---"
   ]
  },
  {
   "cell_type": "code",
   "execution_count": 3,
   "id": "00159029-f67f-4435-be74-550998259159",
   "metadata": {
    "tags": []
   },
   "outputs": [
    {
     "name": "stdout",
     "output_type": "stream",
     "text": [
      "        Fecha  Hora Precio\n",
      "0  1995-07-21     0  1.073\n",
      "1  1995-07-22     0  1.073\n",
      "2  1995-07-23     0  1.073\n",
      "3  1995-07-24     0    1.0\n",
      "4  1995-07-25     0   0.99\n"
     ]
    }
   ],
   "source": [
    "#\n",
    "# Convierte la hora a tipo entero y aplica una operación melt\n",
    "#\n",
    "melted = df_concat.melt(id_vars=[\"Fecha\"], var_name=\"Hora\", value_name=\"Precio\")\n",
    "melted[\"Hora\"] = melted[\"Hora\"].astype(int)\n",
    "print(melted.head())"
   ]
  },
  {
   "cell_type": "code",
   "execution_count": 4,
   "id": "14220310-5dd2-47bc-bd0e-293708120705",
   "metadata": {
    "tags": []
   },
   "outputs": [
    {
     "name": "stdout",
     "output_type": "stream",
     "text": [
      "        Fecha  Hora  Precio\n",
      "0  1995-07-21     0   1.073\n",
      "1  1995-07-22     0   1.073\n",
      "2  1995-07-23     0   1.073\n",
      "3  1995-07-24     0   1.000\n",
      "4  1995-07-25     0   0.990\n"
     ]
    }
   ],
   "source": [
    "#\n",
    "# Convierte datos separado por ',' a separados por '.'\n",
    "#\n",
    "def str_to_float(x):\n",
    "    if isinstance(x, str):\n",
    "        x = x.replace(\".\", \"\").replace(\",\", \".\")\n",
    "        x = float(x)\n",
    "    return x\n",
    "\n",
    "\n",
    "melted[\"Precio\"] = melted[\"Precio\"].apply(str_to_float)\n",
    "print(melted.head())"
   ]
  },
  {
   "cell_type": "code",
   "execution_count": 5,
   "id": "ca87d100-e2ef-4075-b879-905282b9b840",
   "metadata": {
    "tags": []
   },
   "outputs": [
    {
     "name": "stdout",
     "output_type": "stream",
     "text": [
      "        Fecha  Hora  Precio\n",
      "0  1995-07-21     0   1.073\n",
      "1  1995-07-22     0   1.073\n",
      "2  1995-07-23     0   1.073\n",
      "3  1995-07-24     0   1.000\n",
      "4  1995-07-25     0   0.990\n"
     ]
    }
   ],
   "source": [
    "#\n",
    "# Remueve NAs y datos duplicados\n",
    "#\n",
    "melted.dropna(inplace=True)\n",
    "melted = melted.drop_duplicates(subset=['Fecha', 'Hora'])\n",
    "print(melted.head())"
   ]
  },
  {
   "cell_type": "markdown",
   "id": "7d9b67c8-4b25-4e1a-a8c9-d839eecb3d48",
   "metadata": {},
   "source": [
    "Grafique el precio promedio diario\n",
    "---"
   ]
  },
  {
   "cell_type": "code",
   "execution_count": 6,
   "id": "eefef980-b372-4cea-bae5-03c82a05e7d0",
   "metadata": {
    "tags": []
   },
   "outputs": [
    {
     "name": "stdout",
     "output_type": "stream",
     "text": [
      "        Fecha    Precio\n",
      "0  1995-07-21  4.924333\n",
      "1  1995-07-22  1.269500\n",
      "2  1995-07-23  0.953083\n",
      "3  1995-07-24  4.305917\n",
      "4  1995-07-25  1.149167\n"
     ]
    }
   ],
   "source": [
    "precios_diarios = melted.groupby(\"Fecha\")[\"Precio\"].mean().reset_index()\n",
    "print(precios_diarios.head())"
   ]
  },
  {
   "cell_type": "code",
   "execution_count": 7,
   "id": "e14cce9a-754d-4bbf-b40b-83a9b786a50d",
   "metadata": {
    "tags": []
   },
   "outputs": [
    {
     "data": {
      "image/png": "[encoded data removed]",
      "text/plain": [
       "<Figure size 1000x400 with 1 Axes>"
      ]
     },
     "metadata": {},
     "output_type": "display_data"
    }
   ],
   "source": [
    "import matplotlib.pyplot as plt\n",
    "\n",
    "precios_diarios[\"Fecha\"] = pd.to_datetime(precios_diarios[\"Fecha\"])\n",
    "precios_diarios = precios_diarios.set_index(\"Fecha\")\n",
    "\n",
    "fig, ax = plt.subplots(figsize=(10, 4))\n",
    "ax.plot(precios_diarios[\"Precio\"], label=\"Precio diario\", color='tab:blue', linewidth=1)\n",
    "\n",
    "years = pd.date_range(\n",
    "    start=precios_diarios.index.min(),\n",
    "    end=precios_diarios.index.max(),\n",
    "    freq=\"YS\",\n",
    ")\n",
    "ax.set_xticks(years)\n",
    "ax.set_xticklabels(years.strftime(\"%Y\"), rotation=90, ha=\"right\")\n",
    "ax.set_ylabel(\"Precio ($/kWh)\")\n",
    "ax.legend()\n",
    "\n",
    "plt.show()"
   ]
  },
  {
   "cell_type": "markdown",
   "id": "f371ebd0-c388-471c-909d-1757f035915b",
   "metadata": {},
   "source": [
    "Analice el perfil horario de precios por dia \n",
    "---"
   ]
  },
  {
   "cell_type": "code",
   "execution_count": 8,
   "id": "6f849672-54d0-4e12-add0-3141d567bc5e",
   "metadata": {
    "tags": []
   },
   "outputs": [
    {
     "name": "stdout",
     "output_type": "stream",
     "text": [
      "             Fecha  Hora  Precio  maximum\n",
      "0       1995-07-21     0   1.073    16.67\n",
      "9522    1995-07-21     1   1.000    16.67\n",
      "19044   1995-07-21     2   1.000    16.67\n",
      "28566   1995-07-21     3   1.000    16.67\n",
      "38088   1995-07-21     4   1.000    16.67\n",
      "47610   1995-07-21     5   1.000    16.67\n",
      "57132   1995-07-21     6   5.000    16.67\n",
      "66654   1995-07-21     7   6.000    16.67\n",
      "76176   1995-07-21     8   6.000    16.67\n",
      "85698   1995-07-21     9   6.000    16.67\n",
      "95220   1995-07-21    10   6.000    16.67\n",
      "104742  1995-07-21    11   9.256    16.67\n",
      "114264  1995-07-21    12   9.256    16.67\n",
      "123786  1995-07-21    13   5.000    16.67\n",
      "133308  1995-07-21    14   5.000    16.67\n",
      "142830  1995-07-21    15   1.000    16.67\n",
      "152352  1995-07-21    16   1.000    16.67\n",
      "161874  1995-07-21    17   5.000    16.67\n",
      "171396  1995-07-21    18  12.000    16.67\n",
      "180918  1995-07-21    19  16.670    16.67\n",
      "190440  1995-07-21    20  11.929    16.67\n",
      "199962  1995-07-21    21   5.000    16.67\n",
      "209484  1995-07-21    22   1.000    16.67\n",
      "219006  1995-07-21    23   1.000    16.67\n"
     ]
    }
   ],
   "source": [
    "melted[\"maximum\"] = melted.groupby(\"Fecha\")[\"Precio\"].transform(\"max\")\n",
    "print(melted.sort_values([\"Fecha\", \"Hora\"]).head(24))"
   ]
  },
  {
   "cell_type": "code",
   "execution_count": 9,
   "id": "52bd6ac7-0aec-4e58-8161-78df0f414ab1",
   "metadata": {
    "tags": []
   },
   "outputs": [
    {
     "name": "stdout",
     "output_type": "stream",
     "text": [
      "             Fecha  Hora  Precio  maximum    factor\n",
      "0       1995-07-21     0   1.073    16.67  0.064367\n",
      "9522    1995-07-21     1   1.000    16.67  0.059988\n",
      "19044   1995-07-21     2   1.000    16.67  0.059988\n",
      "28566   1995-07-21     3   1.000    16.67  0.059988\n",
      "38088   1995-07-21     4   1.000    16.67  0.059988\n",
      "47610   1995-07-21     5   1.000    16.67  0.059988\n",
      "57132   1995-07-21     6   5.000    16.67  0.299940\n",
      "66654   1995-07-21     7   6.000    16.67  0.359928\n",
      "76176   1995-07-21     8   6.000    16.67  0.359928\n",
      "85698   1995-07-21     9   6.000    16.67  0.359928\n",
      "95220   1995-07-21    10   6.000    16.67  0.359928\n",
      "104742  1995-07-21    11   9.256    16.67  0.555249\n",
      "114264  1995-07-21    12   9.256    16.67  0.555249\n",
      "123786  1995-07-21    13   5.000    16.67  0.299940\n",
      "133308  1995-07-21    14   5.000    16.67  0.299940\n",
      "142830  1995-07-21    15   1.000    16.67  0.059988\n",
      "152352  1995-07-21    16   1.000    16.67  0.059988\n",
      "161874  1995-07-21    17   5.000    16.67  0.299940\n",
      "171396  1995-07-21    18  12.000    16.67  0.719856\n",
      "180918  1995-07-21    19  16.670    16.67  1.000000\n",
      "190440  1995-07-21    20  11.929    16.67  0.715597\n",
      "199962  1995-07-21    21   5.000    16.67  0.299940\n",
      "209484  1995-07-21    22   1.000    16.67  0.059988\n",
      "219006  1995-07-21    23   1.000    16.67  0.059988\n"
     ]
    }
   ],
   "source": [
    "melted[\"factor\"] = melted.apply(lambda row: row.Precio / row.maximum, axis=1)\n",
    "print(melted.sort_values([\"Fecha\", \"Hora\"]).head(24))"
   ]
  },
  {
   "cell_type": "code",
   "execution_count": 10,
   "id": "4d9b7f15-fc8e-49b0-93f5-daab48281b90",
   "metadata": {
    "tags": []
   },
   "outputs": [
    {
     "data": {
      "text/html": [
       "<div>\n",
       "<style scoped>\n",
       "    .dataframe tbody tr th:only-of-type {\n",
       "        vertical-align: middle;\n",
       "    }\n",
       "\n",
       "    .dataframe tbody tr th {\n",
       "        vertical-align: top;\n",
       "    }\n",
       "\n",
       "    .dataframe thead th {\n",
       "        text-align: right;\n",
       "    }\n",
       "</style>\n",
       "<table border=\"1\" class=\"dataframe\">\n",
       "  <thead>\n",
       "    <tr style=\"text-align: right;\">\n",
       "      <th>Hora</th>\n",
       "      <th>0</th>\n",
       "      <th>1</th>\n",
       "      <th>2</th>\n",
       "      <th>3</th>\n",
       "      <th>4</th>\n",
       "      <th>5</th>\n",
       "      <th>6</th>\n",
       "      <th>7</th>\n",
       "      <th>8</th>\n",
       "      <th>9</th>\n",
       "      <th>...</th>\n",
       "      <th>14</th>\n",
       "      <th>15</th>\n",
       "      <th>16</th>\n",
       "      <th>17</th>\n",
       "      <th>18</th>\n",
       "      <th>19</th>\n",
       "      <th>20</th>\n",
       "      <th>21</th>\n",
       "      <th>22</th>\n",
       "      <th>23</th>\n",
       "    </tr>\n",
       "    <tr>\n",
       "      <th>Fecha</th>\n",
       "      <th></th>\n",
       "      <th></th>\n",
       "      <th></th>\n",
       "      <th></th>\n",
       "      <th></th>\n",
       "      <th></th>\n",
       "      <th></th>\n",
       "      <th></th>\n",
       "      <th></th>\n",
       "      <th></th>\n",
       "      <th></th>\n",
       "      <th></th>\n",
       "      <th></th>\n",
       "      <th></th>\n",
       "      <th></th>\n",
       "      <th></th>\n",
       "      <th></th>\n",
       "      <th></th>\n",
       "      <th></th>\n",
       "      <th></th>\n",
       "      <th></th>\n",
       "    </tr>\n",
       "  </thead>\n",
       "  <tbody>\n",
       "    <tr>\n",
       "      <th>1995-07-21</th>\n",
       "      <td>0.064367</td>\n",
       "      <td>0.059988</td>\n",
       "      <td>0.059988</td>\n",
       "      <td>0.059988</td>\n",
       "      <td>0.059988</td>\n",
       "      <td>0.059988</td>\n",
       "      <td>0.299940</td>\n",
       "      <td>0.359928</td>\n",
       "      <td>0.359928</td>\n",
       "      <td>0.359928</td>\n",
       "      <td>...</td>\n",
       "      <td>0.299940</td>\n",
       "      <td>0.059988</td>\n",
       "      <td>0.059988</td>\n",
       "      <td>0.299940</td>\n",
       "      <td>0.719856</td>\n",
       "      <td>1.000000</td>\n",
       "      <td>0.715597</td>\n",
       "      <td>0.299940</td>\n",
       "      <td>0.059988</td>\n",
       "      <td>0.059988</td>\n",
       "    </tr>\n",
       "    <tr>\n",
       "      <th>1995-07-22</th>\n",
       "      <td>0.429200</td>\n",
       "      <td>0.429200</td>\n",
       "      <td>0.400000</td>\n",
       "      <td>0.400000</td>\n",
       "      <td>0.400000</td>\n",
       "      <td>0.429200</td>\n",
       "      <td>0.521200</td>\n",
       "      <td>0.521200</td>\n",
       "      <td>0.521200</td>\n",
       "      <td>0.521200</td>\n",
       "      <td>...</td>\n",
       "      <td>0.429200</td>\n",
       "      <td>0.400000</td>\n",
       "      <td>0.400000</td>\n",
       "      <td>0.400000</td>\n",
       "      <td>0.521200</td>\n",
       "      <td>1.000000</td>\n",
       "      <td>1.000000</td>\n",
       "      <td>0.521200</td>\n",
       "      <td>0.429200</td>\n",
       "      <td>0.429200</td>\n",
       "    </tr>\n",
       "    <tr>\n",
       "      <th>1995-07-23</th>\n",
       "      <td>0.866721</td>\n",
       "      <td>0.807754</td>\n",
       "      <td>0.807754</td>\n",
       "      <td>0.807754</td>\n",
       "      <td>0.807754</td>\n",
       "      <td>0.807754</td>\n",
       "      <td>0.080775</td>\n",
       "      <td>0.807754</td>\n",
       "      <td>0.807754</td>\n",
       "      <td>0.807754</td>\n",
       "      <td>...</td>\n",
       "      <td>0.807754</td>\n",
       "      <td>0.080775</td>\n",
       "      <td>0.080775</td>\n",
       "      <td>0.807754</td>\n",
       "      <td>1.000000</td>\n",
       "      <td>1.000000</td>\n",
       "      <td>1.000000</td>\n",
       "      <td>1.000000</td>\n",
       "      <td>0.866721</td>\n",
       "      <td>0.807754</td>\n",
       "    </tr>\n",
       "    <tr>\n",
       "      <th>1995-07-24</th>\n",
       "      <td>0.044444</td>\n",
       "      <td>0.044444</td>\n",
       "      <td>0.044000</td>\n",
       "      <td>0.044444</td>\n",
       "      <td>0.044444</td>\n",
       "      <td>0.047689</td>\n",
       "      <td>0.133333</td>\n",
       "      <td>0.133333</td>\n",
       "      <td>0.133333</td>\n",
       "      <td>0.155556</td>\n",
       "      <td>...</td>\n",
       "      <td>0.047689</td>\n",
       "      <td>0.047689</td>\n",
       "      <td>0.133333</td>\n",
       "      <td>0.088889</td>\n",
       "      <td>0.828000</td>\n",
       "      <td>1.000000</td>\n",
       "      <td>0.411378</td>\n",
       "      <td>0.133333</td>\n",
       "      <td>0.047689</td>\n",
       "      <td>0.044444</td>\n",
       "    </tr>\n",
       "    <tr>\n",
       "      <th>1995-07-25</th>\n",
       "      <td>0.660000</td>\n",
       "      <td>0.660000</td>\n",
       "      <td>0.659333</td>\n",
       "      <td>0.660000</td>\n",
       "      <td>0.660000</td>\n",
       "      <td>0.715333</td>\n",
       "      <td>0.842000</td>\n",
       "      <td>0.842000</td>\n",
       "      <td>0.842000</td>\n",
       "      <td>0.842000</td>\n",
       "      <td>...</td>\n",
       "      <td>0.715333</td>\n",
       "      <td>0.715333</td>\n",
       "      <td>0.715333</td>\n",
       "      <td>0.715333</td>\n",
       "      <td>0.842000</td>\n",
       "      <td>1.000000</td>\n",
       "      <td>0.842000</td>\n",
       "      <td>0.842000</td>\n",
       "      <td>0.715333</td>\n",
       "      <td>0.660000</td>\n",
       "    </tr>\n",
       "    <tr>\n",
       "      <th>...</th>\n",
       "      <td>...</td>\n",
       "      <td>...</td>\n",
       "      <td>...</td>\n",
       "      <td>...</td>\n",
       "      <td>...</td>\n",
       "      <td>...</td>\n",
       "      <td>...</td>\n",
       "      <td>...</td>\n",
       "      <td>...</td>\n",
       "      <td>...</td>\n",
       "      <td>...</td>\n",
       "      <td>...</td>\n",
       "      <td>...</td>\n",
       "      <td>...</td>\n",
       "      <td>...</td>\n",
       "      <td>...</td>\n",
       "      <td>...</td>\n",
       "      <td>...</td>\n",
       "      <td>...</td>\n",
       "      <td>...</td>\n",
       "      <td>...</td>\n",
       "    </tr>\n",
       "    <tr>\n",
       "      <th>2021-04-26</th>\n",
       "      <td>0.666499</td>\n",
       "      <td>0.748732</td>\n",
       "      <td>0.743478</td>\n",
       "      <td>0.666499</td>\n",
       "      <td>0.748732</td>\n",
       "      <td>0.760656</td>\n",
       "      <td>0.780712</td>\n",
       "      <td>0.867513</td>\n",
       "      <td>0.867513</td>\n",
       "      <td>0.867513</td>\n",
       "      <td>...</td>\n",
       "      <td>1.000000</td>\n",
       "      <td>1.000000</td>\n",
       "      <td>0.922335</td>\n",
       "      <td>0.867513</td>\n",
       "      <td>0.922335</td>\n",
       "      <td>0.922335</td>\n",
       "      <td>0.922335</td>\n",
       "      <td>0.867513</td>\n",
       "      <td>0.867513</td>\n",
       "      <td>0.794417</td>\n",
       "    </tr>\n",
       "    <tr>\n",
       "      <th>2021-04-27</th>\n",
       "      <td>0.897108</td>\n",
       "      <td>0.899747</td>\n",
       "      <td>0.897108</td>\n",
       "      <td>0.897108</td>\n",
       "      <td>0.897108</td>\n",
       "      <td>0.899747</td>\n",
       "      <td>0.910300</td>\n",
       "      <td>0.915576</td>\n",
       "      <td>0.994724</td>\n",
       "      <td>1.000000</td>\n",
       "      <td>...</td>\n",
       "      <td>1.000000</td>\n",
       "      <td>1.000000</td>\n",
       "      <td>1.000000</td>\n",
       "      <td>0.994724</td>\n",
       "      <td>1.000000</td>\n",
       "      <td>1.000000</td>\n",
       "      <td>1.000000</td>\n",
       "      <td>0.989447</td>\n",
       "      <td>0.915576</td>\n",
       "      <td>0.910300</td>\n",
       "    </tr>\n",
       "    <tr>\n",
       "      <th>2021-04-28</th>\n",
       "      <td>0.773982</td>\n",
       "      <td>0.773982</td>\n",
       "      <td>0.773982</td>\n",
       "      <td>0.773982</td>\n",
       "      <td>0.773982</td>\n",
       "      <td>0.836951</td>\n",
       "      <td>0.889619</td>\n",
       "      <td>1.000000</td>\n",
       "      <td>1.000000</td>\n",
       "      <td>1.000000</td>\n",
       "      <td>...</td>\n",
       "      <td>1.000000</td>\n",
       "      <td>1.000000</td>\n",
       "      <td>1.000000</td>\n",
       "      <td>0.926413</td>\n",
       "      <td>1.000000</td>\n",
       "      <td>1.000000</td>\n",
       "      <td>1.000000</td>\n",
       "      <td>1.000000</td>\n",
       "      <td>0.889619</td>\n",
       "      <td>0.773982</td>\n",
       "    </tr>\n",
       "    <tr>\n",
       "      <th>2021-04-29</th>\n",
       "      <td>0.568881</td>\n",
       "      <td>0.632569</td>\n",
       "      <td>0.632569</td>\n",
       "      <td>0.632569</td>\n",
       "      <td>0.632569</td>\n",
       "      <td>0.632569</td>\n",
       "      <td>0.632569</td>\n",
       "      <td>0.823633</td>\n",
       "      <td>0.823633</td>\n",
       "      <td>0.823633</td>\n",
       "      <td>...</td>\n",
       "      <td>0.911817</td>\n",
       "      <td>1.000000</td>\n",
       "      <td>0.823633</td>\n",
       "      <td>0.823633</td>\n",
       "      <td>1.000000</td>\n",
       "      <td>1.000000</td>\n",
       "      <td>0.911817</td>\n",
       "      <td>0.823633</td>\n",
       "      <td>0.823633</td>\n",
       "      <td>0.823633</td>\n",
       "    </tr>\n",
       "    <tr>\n",
       "      <th>2021-04-30</th>\n",
       "      <td>0.707460</td>\n",
       "      <td>0.707460</td>\n",
       "      <td>0.707460</td>\n",
       "      <td>0.707460</td>\n",
       "      <td>0.707460</td>\n",
       "      <td>0.782310</td>\n",
       "      <td>0.782310</td>\n",
       "      <td>0.782310</td>\n",
       "      <td>1.000000</td>\n",
       "      <td>1.000000</td>\n",
       "      <td>...</td>\n",
       "      <td>1.000000</td>\n",
       "      <td>1.000000</td>\n",
       "      <td>0.981786</td>\n",
       "      <td>0.981786</td>\n",
       "      <td>1.000000</td>\n",
       "      <td>1.000000</td>\n",
       "      <td>1.000000</td>\n",
       "      <td>1.000000</td>\n",
       "      <td>1.000000</td>\n",
       "      <td>0.782310</td>\n",
       "    </tr>\n",
       "  </tbody>\n",
       "</table>\n",
       "<p>9413 rows × 24 columns</p>\n",
       "</div>"
      ],
      "text/plain": [
       "Hora              0         1         2         3         4         5    \n",
       "Fecha                                                                    \n",
       "1995-07-21  0.064367  0.059988  0.059988  0.059988  0.059988  0.059988  \\\n",
       "1995-07-22  0.429200  0.429200  0.400000  0.400000  0.400000  0.429200   \n",
       "1995-07-23  0.866721  0.807754  0.807754  0.807754  0.807754  0.807754   \n",
       "1995-07-24  0.044444  0.044444  0.044000  0.044444  0.044444  0.047689   \n",
       "1995-07-25  0.660000  0.660000  0.659333  0.660000  0.660000  0.715333   \n",
       "...              ...       ...       ...       ...       ...       ...   \n",
       "2021-04-26  0.666499  0.748732  0.743478  0.666499  0.748732  0.760656   \n",
       "2021-04-27  0.897108  0.899747  0.897108  0.897108  0.897108  0.899747   \n",
       "2021-04-28  0.773982  0.773982  0.773982  0.773982  0.773982  0.836951   \n",
       "2021-04-29  0.568881  0.632569  0.632569  0.632569  0.632569  0.632569   \n",
       "2021-04-30  0.707460  0.707460  0.707460  0.707460  0.707460  0.782310   \n",
       "\n",
       "Hora              6         7         8         9   ...        14        15   \n",
       "Fecha                                               ...                       \n",
       "1995-07-21  0.299940  0.359928  0.359928  0.359928  ...  0.299940  0.059988  \\\n",
       "1995-07-22  0.521200  0.521200  0.521200  0.521200  ...  0.429200  0.400000   \n",
       "1995-07-23  0.080775  0.807754  0.807754  0.807754  ...  0.807754  0.080775   \n",
       "1995-07-24  0.133333  0.133333  0.133333  0.155556  ...  0.047689  0.047689   \n",
       "1995-07-25  0.842000  0.842000  0.842000  0.842000  ...  0.715333  0.715333   \n",
       "...              ...       ...       ...       ...  ...       ...       ...   \n",
       "2021-04-26  0.780712  0.867513  0.867513  0.867513  ...  1.000000  1.000000   \n",
       "2021-04-27  0.910300  0.915576  0.994724  1.000000  ...  1.000000  1.000000   \n",
       "2021-04-28  0.889619  1.000000  1.000000  1.000000  ...  1.000000  1.000000   \n",
       "2021-04-29  0.632569  0.823633  0.823633  0.823633  ...  0.911817  1.000000   \n",
       "2021-04-30  0.782310  0.782310  1.000000  1.000000  ...  1.000000  1.000000   \n",
       "\n",
       "Hora              16        17        18        19        20        21   \n",
       "Fecha                                                                    \n",
       "1995-07-21  0.059988  0.299940  0.719856  1.000000  0.715597  0.299940  \\\n",
       "1995-07-22  0.400000  0.400000  0.521200  1.000000  1.000000  0.521200   \n",
       "1995-07-23  0.080775  0.807754  1.000000  1.000000  1.000000  1.000000   \n",
       "1995-07-24  0.133333  0.088889  0.828000  1.000000  0.411378  0.133333   \n",
       "1995-07-25  0.715333  0.715333  0.842000  1.000000  0.842000  0.842000   \n",
       "...              ...       ...       ...       ...       ...       ...   \n",
       "2021-04-26  0.922335  0.867513  0.922335  0.922335  0.922335  0.867513   \n",
       "2021-04-27  1.000000  0.994724  1.000000  1.000000  1.000000  0.989447   \n",
       "2021-04-28  1.000000  0.926413  1.000000  1.000000  1.000000  1.000000   \n",
       "2021-04-29  0.823633  0.823633  1.000000  1.000000  0.911817  0.823633   \n",
       "2021-04-30  0.981786  0.981786  1.000000  1.000000  1.000000  1.000000   \n",
       "\n",
       "Hora              22        23  \n",
       "Fecha                           \n",
       "1995-07-21  0.059988  0.059988  \n",
       "1995-07-22  0.429200  0.429200  \n",
       "1995-07-23  0.866721  0.807754  \n",
       "1995-07-24  0.047689  0.044444  \n",
       "1995-07-25  0.715333  0.660000  \n",
       "...              ...       ...  \n",
       "2021-04-26  0.867513  0.794417  \n",
       "2021-04-27  0.915576  0.910300  \n",
       "2021-04-28  0.889619  0.773982  \n",
       "2021-04-29  0.823633  0.823633  \n",
       "2021-04-30  1.000000  0.782310  \n",
       "\n",
       "[9413 rows x 24 columns]"
      ]
     },
     "execution_count": 10,
     "metadata": {},
     "output_type": "execute_result"
    }
   ],
   "source": [
    "precios = melted.copy()\n",
    "precios = precios[['Fecha', 'Hora', 'factor']].pivot(columns='Hora', index='Fecha', values='factor')\n",
    "precios"
   ]
  },
  {
   "cell_type": "code",
   "execution_count": 11,
   "id": "719b730d-0490-4a56-953e-26f692930d47",
   "metadata": {
    "tags": []
   },
   "outputs": [
    {
     "data": {
      "text/plain": [
       "Fecha\n",
       "1995-07-21    4\n",
       "1995-07-22    5\n",
       "1995-07-23    6\n",
       "1995-07-24    0\n",
       "1995-07-25    1\n",
       "Name: dia, dtype: int32"
      ]
     },
     "execution_count": 11,
     "metadata": {},
     "output_type": "execute_result"
    }
   ],
   "source": [
    "#\n",
    "# Tipo de dia: laboral, sabado, domingo\n",
    "# 0: lunes, 6: domingo\n",
    "#\n",
    "precios['dia'] =  pd.to_datetime(precios.index).dayofweek\n",
    "precios['dia'].head() "
   ]
  },
  {
   "cell_type": "code",
   "execution_count": 12,
   "id": "2504510c-8891-4ab9-97c7-3711fa34fffc",
   "metadata": {
    "tags": []
   },
   "outputs": [
    {
     "data": {
      "text/plain": [
       "Fecha\n",
       "1995-07-21    laboral\n",
       "1995-07-22     sabado\n",
       "1995-07-23    domingo\n",
       "1995-07-24    laboral\n",
       "1995-07-25    laboral\n",
       "1995-07-26    laboral\n",
       "1995-07-27    laboral\n",
       "1995-07-28    laboral\n",
       "1995-07-29     sabado\n",
       "1995-07-30    domingo\n",
       "Name: dia, dtype: object"
      ]
     },
     "execution_count": 12,
     "metadata": {},
     "output_type": "execute_result"
    }
   ],
   "source": [
    "precios['dia'] = precios['dia'].map(\n",
    "    {\n",
    "        0: 'laboral',\n",
    "        1: 'laboral',\n",
    "        2: 'laboral',\n",
    "        3: 'laboral',\n",
    "        4: 'laboral',\n",
    "        5: 'sabado',\n",
    "        6: 'domingo',\n",
    "    }\n",
    ")\n",
    "precios['dia'].head(10) "
   ]
  },
  {
   "cell_type": "code",
   "execution_count": 13,
   "id": "6c60f82f-a7e4-4512-be8e-7d2257bee54a",
   "metadata": {
    "tags": []
   },
   "outputs": [
    {
     "data": {
      "text/html": [
       "<div>\n",
       "<style scoped>\n",
       "    .dataframe tbody tr th:only-of-type {\n",
       "        vertical-align: middle;\n",
       "    }\n",
       "\n",
       "    .dataframe tbody tr th {\n",
       "        vertical-align: top;\n",
       "    }\n",
       "\n",
       "    .dataframe thead th {\n",
       "        text-align: right;\n",
       "    }\n",
       "</style>\n",
       "<table border=\"1\" class=\"dataframe\">\n",
       "  <thead>\n",
       "    <tr style=\"text-align: right;\">\n",
       "      <th>Hora</th>\n",
       "      <th>0</th>\n",
       "      <th>1</th>\n",
       "      <th>2</th>\n",
       "      <th>3</th>\n",
       "      <th>4</th>\n",
       "      <th>5</th>\n",
       "      <th>6</th>\n",
       "      <th>7</th>\n",
       "      <th>8</th>\n",
       "      <th>9</th>\n",
       "      <th>...</th>\n",
       "      <th>14</th>\n",
       "      <th>15</th>\n",
       "      <th>16</th>\n",
       "      <th>17</th>\n",
       "      <th>18</th>\n",
       "      <th>19</th>\n",
       "      <th>20</th>\n",
       "      <th>21</th>\n",
       "      <th>22</th>\n",
       "      <th>23</th>\n",
       "    </tr>\n",
       "    <tr>\n",
       "      <th>dia</th>\n",
       "      <th></th>\n",
       "      <th></th>\n",
       "      <th></th>\n",
       "      <th></th>\n",
       "      <th></th>\n",
       "      <th></th>\n",
       "      <th></th>\n",
       "      <th></th>\n",
       "      <th></th>\n",
       "      <th></th>\n",
       "      <th></th>\n",
       "      <th></th>\n",
       "      <th></th>\n",
       "      <th></th>\n",
       "      <th></th>\n",
       "      <th></th>\n",
       "      <th></th>\n",
       "      <th></th>\n",
       "      <th></th>\n",
       "      <th></th>\n",
       "      <th></th>\n",
       "    </tr>\n",
       "  </thead>\n",
       "  <tbody>\n",
       "    <tr>\n",
       "      <th>domingo</th>\n",
       "      <td>0.796706</td>\n",
       "      <td>0.774824</td>\n",
       "      <td>0.759140</td>\n",
       "      <td>0.754517</td>\n",
       "      <td>0.752366</td>\n",
       "      <td>0.751639</td>\n",
       "      <td>0.731909</td>\n",
       "      <td>0.766366</td>\n",
       "      <td>0.802744</td>\n",
       "      <td>0.818715</td>\n",
       "      <td>...</td>\n",
       "      <td>0.820583</td>\n",
       "      <td>0.806305</td>\n",
       "      <td>0.798901</td>\n",
       "      <td>0.816903</td>\n",
       "      <td>0.918235</td>\n",
       "      <td>0.983355</td>\n",
       "      <td>0.947389</td>\n",
       "      <td>0.904405</td>\n",
       "      <td>0.851105</td>\n",
       "      <td>0.796325</td>\n",
       "    </tr>\n",
       "    <tr>\n",
       "      <th>laboral</th>\n",
       "      <td>0.652196</td>\n",
       "      <td>0.638962</td>\n",
       "      <td>0.629404</td>\n",
       "      <td>0.627891</td>\n",
       "      <td>0.645854</td>\n",
       "      <td>0.696874</td>\n",
       "      <td>0.715443</td>\n",
       "      <td>0.737618</td>\n",
       "      <td>0.768536</td>\n",
       "      <td>0.780433</td>\n",
       "      <td>...</td>\n",
       "      <td>0.804756</td>\n",
       "      <td>0.800624</td>\n",
       "      <td>0.789704</td>\n",
       "      <td>0.783875</td>\n",
       "      <td>0.904592</td>\n",
       "      <td>0.971761</td>\n",
       "      <td>0.864399</td>\n",
       "      <td>0.803225</td>\n",
       "      <td>0.741970</td>\n",
       "      <td>0.685922</td>\n",
       "    </tr>\n",
       "    <tr>\n",
       "      <th>sabado</th>\n",
       "      <td>0.735690</td>\n",
       "      <td>0.718502</td>\n",
       "      <td>0.707363</td>\n",
       "      <td>0.700644</td>\n",
       "      <td>0.712506</td>\n",
       "      <td>0.727294</td>\n",
       "      <td>0.735676</td>\n",
       "      <td>0.778595</td>\n",
       "      <td>0.819258</td>\n",
       "      <td>0.835133</td>\n",
       "      <td>...</td>\n",
       "      <td>0.815687</td>\n",
       "      <td>0.801069</td>\n",
       "      <td>0.793155</td>\n",
       "      <td>0.802622</td>\n",
       "      <td>0.918027</td>\n",
       "      <td>0.979776</td>\n",
       "      <td>0.904300</td>\n",
       "      <td>0.853871</td>\n",
       "      <td>0.806726</td>\n",
       "      <td>0.757373</td>\n",
       "    </tr>\n",
       "  </tbody>\n",
       "</table>\n",
       "<p>3 rows × 24 columns</p>\n",
       "</div>"
      ],
      "text/plain": [
       "Hora           0         1         2         3         4         5         6    \n",
       "dia                                                                             \n",
       "domingo  0.796706  0.774824  0.759140  0.754517  0.752366  0.751639  0.731909  \\\n",
       "laboral  0.652196  0.638962  0.629404  0.627891  0.645854  0.696874  0.715443   \n",
       "sabado   0.735690  0.718502  0.707363  0.700644  0.712506  0.727294  0.735676   \n",
       "\n",
       "Hora           7         8         9   ...        14        15        16   \n",
       "dia                                    ...                                 \n",
       "domingo  0.766366  0.802744  0.818715  ...  0.820583  0.806305  0.798901  \\\n",
       "laboral  0.737618  0.768536  0.780433  ...  0.804756  0.800624  0.789704   \n",
       "sabado   0.778595  0.819258  0.835133  ...  0.815687  0.801069  0.793155   \n",
       "\n",
       "Hora           17        18        19        20        21        22        23  \n",
       "dia                                                                            \n",
       "domingo  0.816903  0.918235  0.983355  0.947389  0.904405  0.851105  0.796325  \n",
       "laboral  0.783875  0.904592  0.971761  0.864399  0.803225  0.741970  0.685922  \n",
       "sabado   0.802622  0.918027  0.979776  0.904300  0.853871  0.806726  0.757373  \n",
       "\n",
       "[3 rows x 24 columns]"
      ]
     },
     "execution_count": 13,
     "metadata": {},
     "output_type": "execute_result"
    }
   ],
   "source": [
    "perfil = precios.groupby('dia').mean()\n",
    "perfil"
   ]
  },
  {
   "cell_type": "code",
   "execution_count": 14,
   "id": "155e3799-17a7-4b48-a3ec-1c2e7b64f54b",
   "metadata": {
    "tags": []
   },
   "outputs": [
    {
     "data": {
      "text/plain": [
       "[<matplotlib.lines.Line2D at 0x1251c9250>]"
      ]
     },
     "execution_count": 14,
     "metadata": {},
     "output_type": "execute_result"
    },
    {
     "data": {
      "image/png": "[encoded data removed]",
      "text/plain": [
       "<Figure size 640x480 with 1 Axes>"
      ]
     },
     "metadata": {},
     "output_type": "display_data"
    }
   ],
   "source": [
    "import matplotlib.pyplot as plt\n",
    "\n",
    "plt.plot(perfil.columns, perfil.loc['laboral',:], color='tab:blue', marker='.', linewidth=1, markersize=8)\n",
    "plt.plot(perfil.columns, perfil.loc['sabado',:], color='tab:orange', marker='.', linewidth=1, markersize=8)\n",
    "plt.plot(perfil.columns, perfil.loc['domingo',:], color='tab:green', marker='.', linewidth=1, markersize=8)"
   ]
  },
  {
   "cell_type": "markdown",
   "id": "1fe62ac0-249c-47b4-b441-c2b604f37e15",
   "metadata": {},
   "source": [
    "En que hora se produce el precio máximo?\n",
    "---"
   ]
  },
  {
   "cell_type": "code",
   "execution_count": 15,
   "id": "3faac8fa-7ee4-485e-92c4-00dc5714e328",
   "metadata": {
    "tags": []
   },
   "outputs": [
    {
     "data": {
      "text/html": [
       "<div>\n",
       "<style scoped>\n",
       "    .dataframe tbody tr th:only-of-type {\n",
       "        vertical-align: middle;\n",
       "    }\n",
       "\n",
       "    .dataframe tbody tr th {\n",
       "        vertical-align: top;\n",
       "    }\n",
       "\n",
       "    .dataframe thead th {\n",
       "        text-align: right;\n",
       "    }\n",
       "</style>\n",
       "<table border=\"1\" class=\"dataframe\">\n",
       "  <thead>\n",
       "    <tr style=\"text-align: right;\">\n",
       "      <th></th>\n",
       "      <th>Fecha</th>\n",
       "      <th>Hora</th>\n",
       "      <th>Precio</th>\n",
       "      <th>maximum</th>\n",
       "    </tr>\n",
       "  </thead>\n",
       "  <tbody>\n",
       "    <tr>\n",
       "      <th>31</th>\n",
       "      <td>1995-08-21</td>\n",
       "      <td>0</td>\n",
       "      <td>2.000</td>\n",
       "      <td>2.000</td>\n",
       "    </tr>\n",
       "    <tr>\n",
       "      <th>71</th>\n",
       "      <td>1995-09-30</td>\n",
       "      <td>0</td>\n",
       "      <td>15.000</td>\n",
       "      <td>15.000</td>\n",
       "    </tr>\n",
       "    <tr>\n",
       "      <th>143</th>\n",
       "      <td>1995-12-03</td>\n",
       "      <td>0</td>\n",
       "      <td>130.001</td>\n",
       "      <td>130.001</td>\n",
       "    </tr>\n",
       "    <tr>\n",
       "      <th>144</th>\n",
       "      <td>1995-12-04</td>\n",
       "      <td>0</td>\n",
       "      <td>160.001</td>\n",
       "      <td>160.001</td>\n",
       "    </tr>\n",
       "    <tr>\n",
       "      <th>150</th>\n",
       "      <td>1995-12-10</td>\n",
       "      <td>0</td>\n",
       "      <td>172.660</td>\n",
       "      <td>172.660</td>\n",
       "    </tr>\n",
       "    <tr>\n",
       "      <th>...</th>\n",
       "      <td>...</td>\n",
       "      <td>...</td>\n",
       "      <td>...</td>\n",
       "      <td>...</td>\n",
       "    </tr>\n",
       "    <tr>\n",
       "      <th>228187</th>\n",
       "      <td>2020-05-25</td>\n",
       "      <td>23</td>\n",
       "      <td>497.900</td>\n",
       "      <td>497.900</td>\n",
       "    </tr>\n",
       "    <tr>\n",
       "      <th>228214</th>\n",
       "      <td>2020-06-21</td>\n",
       "      <td>23</td>\n",
       "      <td>242.470</td>\n",
       "      <td>242.470</td>\n",
       "    </tr>\n",
       "    <tr>\n",
       "      <th>228229</th>\n",
       "      <td>2020-07-06</td>\n",
       "      <td>23</td>\n",
       "      <td>211.130</td>\n",
       "      <td>211.130</td>\n",
       "    </tr>\n",
       "    <tr>\n",
       "      <th>228459</th>\n",
       "      <td>2021-02-21</td>\n",
       "      <td>23</td>\n",
       "      <td>266.510</td>\n",
       "      <td>266.510</td>\n",
       "    </tr>\n",
       "    <tr>\n",
       "      <th>228522</th>\n",
       "      <td>2021-04-25</td>\n",
       "      <td>23</td>\n",
       "      <td>187.960</td>\n",
       "      <td>187.960</td>\n",
       "    </tr>\n",
       "  </tbody>\n",
       "</table>\n",
       "<p>30594 rows × 4 columns</p>\n",
       "</div>"
      ],
      "text/plain": [
       "             Fecha  Hora   Precio  maximum\n",
       "31      1995-08-21     0    2.000    2.000\n",
       "71      1995-09-30     0   15.000   15.000\n",
       "143     1995-12-03     0  130.001  130.001\n",
       "144     1995-12-04     0  160.001  160.001\n",
       "150     1995-12-10     0  172.660  172.660\n",
       "...            ...   ...      ...      ...\n",
       "228187  2020-05-25    23  497.900  497.900\n",
       "228214  2020-06-21    23  242.470  242.470\n",
       "228229  2020-07-06    23  211.130  211.130\n",
       "228459  2021-02-21    23  266.510  266.510\n",
       "228522  2021-04-25    23  187.960  187.960\n",
       "\n",
       "[30594 rows x 4 columns]"
      ]
     },
     "execution_count": 15,
     "metadata": {},
     "output_type": "execute_result"
    }
   ],
   "source": [
    "melted_max = melted[['Fecha', 'Hora', 'Precio']].copy()\n",
    "melted_max[\"maximum\"] = melted_max.groupby(\"Fecha\")[\"Precio\"].transform(\"max\")\n",
    "melted_max = melted_max.loc[melted_max.Precio == melted.maximum, :]\n",
    "melted_max"
   ]
  },
  {
   "cell_type": "code",
   "execution_count": 16,
   "id": "0add502c-c866-4abd-a5c6-6fc9dd6ef902",
   "metadata": {
    "tags": []
   },
   "outputs": [
    {
     "data": {
      "text/plain": [
       "Hora\n",
       "19    7998\n",
       "18    4383\n",
       "20    3388\n",
       "11    1872\n",
       "21    1494\n",
       "14    1406\n",
       "12    1390\n",
       "15    1264\n",
       "10    1221\n",
       "13    1187\n",
       "16     872\n",
       "9      797\n",
       "17     721\n",
       "8      563\n",
       "22     480\n",
       "7      314\n",
       "6      237\n",
       "5      187\n",
       "23     175\n",
       "0      174\n",
       "1      131\n",
       "4      117\n",
       "2      117\n",
       "3      106\n",
       "Name: count, dtype: int64"
      ]
     },
     "execution_count": 16,
     "metadata": {},
     "output_type": "execute_result"
    }
   ],
   "source": [
    "#\n",
    "# Numero de veces en que cada hora es el máximo\n",
    "#\n",
    "hist = melted_max.Hora.value_counts()\n",
    "hist"
   ]
  },
  {
   "cell_type": "code",
   "execution_count": 17,
   "id": "2aca1311-a97d-44d6-924b-2ee0910a0345",
   "metadata": {
    "tags": []
   },
   "outputs": [
    {
     "data": {
      "text/plain": [
       "<BarContainer object of 24 artists>"
      ]
     },
     "execution_count": 17,
     "metadata": {},
     "output_type": "execute_result"
    },
    {
     "data": {
      "image/png": "[encoded data removed]",
      "text/plain": [
       "<Figure size 640x480 with 1 Axes>"
      ]
     },
     "metadata": {},
     "output_type": "display_data"
    }
   ],
   "source": [
    "plt.bar(hist.index, hist.values, color='tab:blue')"
   ]
  }
 ],
 "metadata": {
  "kernelspec": {
   "display_name": "Python 3 (ipykernel)",
   "language": "python",
   "name": "python3"
  },
  "language_info": {
   "codemirror_mode": {
    "name": "ipython",
    "version": 3
   },
   "file_extension": ".py",
   "mimetype": "text/x-python",
   "name": "python",
   "nbconvert_exporter": "python",
   "pygments_lexer": "ipython3",
   "version": "3.9.6"
  },
  "vscode": {
   "interpreter": {
    "hash": "31f2aee4e71d21fbe5cf8b01ff0e069b9275f58929596ceb00d14d90e3e16cd6"
   }
  }
 },
 "nbformat": 4,
 "nbformat_minor": 5
}
