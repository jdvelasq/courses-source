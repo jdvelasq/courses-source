{
 "cells": [
  {
   "cell_type": "markdown",
   "id": "a4a702c1-3d64-4554-9f4c-b24f41d2508b",
   "metadata": {
    "slideshow": {
     "slide_type": "slide"
    },
    "tags": []
   },
   "source": [
    "Extracción de características usando PCA --- 7:17 + 7:49 + \n",
    "===\n",
    "\n",
    "* 0:00 min | Última modificación: Ocutbre 13, 2021 | [YouTube]"
   ]
  },
  {
   "cell_type": "markdown",
   "id": "533d551b-eb55-4a94-a282-817cdc155043",
   "metadata": {},
   "source": [
    "La explicacion detallada está disponible en: \n",
    "\n",
    "* Análisis de Componentes Principales: https://youtu.be/mUq-bGMsloE\n",
    "\n",
    "* Caso de Aplicación: https://youtu.be/GrCSscrpAAI"
   ]
  },
  {
   "cell_type": "markdown",
   "id": "5b4691d0-6a20-41c6-8356-9bbc675d7cef",
   "metadata": {},
   "source": [
    "Para el ejemplo que se está desarrollando:"
   ]
  },
  {
   "cell_type": "code",
   "execution_count": 1,
   "id": "fb2dbc1e-3138-4901-b9bd-0a520c5c57c2",
   "metadata": {},
   "outputs": [],
   "source": [
    "import matplotlib.pyplot as plt\n",
    "import seaborn as sns"
   ]
  },
  {
   "cell_type": "code",
   "execution_count": 2,
   "id": "b92a2e2a-0763-4a49-9d3b-a6121cbccc05",
   "metadata": {},
   "outputs": [],
   "source": [
    "iris = sns.load_dataset(\"iris\")"
   ]
  },
  {
   "cell_type": "code",
   "execution_count": 6,
   "id": "4312c928-5c37-4b2e-bfdf-7f1b9ba64afa",
   "metadata": {},
   "outputs": [],
   "source": [
    "from sklearn.preprocessing import StandardScaler\n",
    "\n",
    "X = iris[['sepal_length', 'sepal_width', 'petal_length', 'petal_width']]\n",
    "y = iris.species\n",
    "\n",
    "X_scaled = StandardScaler().fit_transform(X)"
   ]
  },
  {
   "cell_type": "code",
   "execution_count": 7,
   "id": "7051cd6e-93bf-4aed-8231-d062dc21cd4c",
   "metadata": {},
   "outputs": [
    {
     "data": {
      "text/plain": [
       "PCA(copy=True, iterated_power='auto', n_components=2, random_state=None,\n",
       "    svd_solver='auto', tol=0.0, whiten=False)"
      ]
     },
     "execution_count": 7,
     "metadata": {},
     "output_type": "execute_result"
    }
   ],
   "source": [
    "from sklearn.decomposition import PCA\n",
    "\n",
    "pca = PCA(n_components=2)\n",
    "pca.fit(X_scaled)"
   ]
  },
  {
   "cell_type": "code",
   "execution_count": 8,
   "id": "5092ed19-0592-4679-964a-59229e9ab002",
   "metadata": {},
   "outputs": [],
   "source": [
    "import pandas as pd\n",
    "\n",
    "X_pca = pd.DataFrame(\n",
    "    pca.transform(X_scaled),\n",
    "    columns = ['component 1', 'component 2'],\n",
    ")\n",
    "\n",
    "X_pca['species'] = iris.species"
   ]
  },
  {
   "cell_type": "code",
   "execution_count": 9,
   "id": "e048b479-4e29-47e4-a3eb-05bc39e08d74",
   "metadata": {},
   "outputs": [
    {
     "data": {
      "text/html": [
       "<div>\n",
       "<style scoped>\n",
       "    .dataframe tbody tr th:only-of-type {\n",
       "        vertical-align: middle;\n",
       "    }\n",
       "\n",
       "    .dataframe tbody tr th {\n",
       "        vertical-align: top;\n",
       "    }\n",
       "\n",
       "    .dataframe thead th {\n",
       "        text-align: right;\n",
       "    }\n",
       "</style>\n",
       "<table border=\"1\" class=\"dataframe\">\n",
       "  <thead>\n",
       "    <tr style=\"text-align: right;\">\n",
       "      <th></th>\n",
       "      <th>species</th>\n",
       "      <th>Variables</th>\n",
       "      <th>Values</th>\n",
       "    </tr>\n",
       "  </thead>\n",
       "  <tbody>\n",
       "    <tr>\n",
       "      <th>0</th>\n",
       "      <td>setosa</td>\n",
       "      <td>component 1</td>\n",
       "      <td>-2.264703</td>\n",
       "    </tr>\n",
       "    <tr>\n",
       "      <th>1</th>\n",
       "      <td>setosa</td>\n",
       "      <td>component 1</td>\n",
       "      <td>-2.080961</td>\n",
       "    </tr>\n",
       "    <tr>\n",
       "      <th>2</th>\n",
       "      <td>setosa</td>\n",
       "      <td>component 1</td>\n",
       "      <td>-2.364229</td>\n",
       "    </tr>\n",
       "    <tr>\n",
       "      <th>3</th>\n",
       "      <td>setosa</td>\n",
       "      <td>component 1</td>\n",
       "      <td>-2.299384</td>\n",
       "    </tr>\n",
       "    <tr>\n",
       "      <th>4</th>\n",
       "      <td>setosa</td>\n",
       "      <td>component 1</td>\n",
       "      <td>-2.389842</td>\n",
       "    </tr>\n",
       "  </tbody>\n",
       "</table>\n",
       "</div>"
      ],
      "text/plain": [
       "  species    Variables    Values\n",
       "0  setosa  component 1 -2.264703\n",
       "1  setosa  component 1 -2.080961\n",
       "2  setosa  component 1 -2.364229\n",
       "3  setosa  component 1 -2.299384\n",
       "4  setosa  component 1 -2.389842"
      ]
     },
     "execution_count": 9,
     "metadata": {},
     "output_type": "execute_result"
    }
   ],
   "source": [
    "X_pca_melt = X_pca.copy()\n",
    "X_pca_melt = pd.melt(\n",
    "    X_pca_melt,\n",
    "    id_vars=\"species\",\n",
    "    var_name=\"Variables\",\n",
    "    value_name=\"Values\",\n",
    ")\n",
    "X_pca_melt.head()"
   ]
  },
  {
   "cell_type": "code",
   "execution_count": 10,
   "id": "1c5f9b2f-382c-4bc3-8301-5a06aae3451c",
   "metadata": {},
   "outputs": [
    {
     "data": {
      "text/plain": [
       "<seaborn.axisgrid.FacetGrid at 0x7f5c5e8f2cc0>"
      ]
     },
     "execution_count": 10,
     "metadata": {},
     "output_type": "execute_result"
    },
    {
     "data": {
      "image/png": "[encoded data removed]",
      "text/plain": [
       "<Figure size 444.75x360 with 1 Axes>"
      ]
     },
     "metadata": {
      "needs_background": "light"
     },
     "output_type": "display_data"
    }
   ],
   "source": [
    "sns.relplot(\n",
    "    x=\"component 1\",\n",
    "    y=\"component 2\",\n",
    "    data=X_pca,\n",
    "    hue='species',\n",
    "    kind='scatter',\n",
    ")\n",
    "plt.show()"
   ]
  }
 ],
 "metadata": {
  "kernelspec": {
   "display_name": "Python 3",
   "language": "python",
   "name": "python3"
  },
  "language_info": {
   "codemirror_mode": {
    "name": "ipython",
    "version": 3
   },
   "file_extension": ".py",
   "mimetype": "text/x-python",
   "name": "python",
   "nbconvert_exporter": "python",
   "pygments_lexer": "ipython3",
   "version": "3.6.9"
  }
 },
 "nbformat": 4,
 "nbformat_minor": 5
}
