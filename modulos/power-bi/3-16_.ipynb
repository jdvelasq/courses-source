{
 "cells": [
  {
   "cell_type": "markdown",
   "id": "fac51b83-20ca-4080-a512-0b8600ad1add",
   "metadata": {
    "tags": []
   },
   "source": [
    "Caso práctico: Manejo de relaciones\n",
    "===\n",
    "\n",
    "*  Última modificación: 29 de septiembre de 2022"
   ]
  },
  {
   "cell_type": "markdown",
   "metadata": {},
   "source": [
    "Datos de ejemplo\n",
    "---\n",
    "\n",
    "Cargue los datos de ejemplo"
   ]
  },
  {
   "cell_type": "code",
   "execution_count": 1,
   "metadata": {},
   "outputs": [],
   "source": [
    "import pandas as pd\n",
    "\n",
    "files = [\n",
    "    \"truck_event_text_partition.csv\",\n",
    "    \"drivers.csv\",\n",
    "    \"timesheet.csv\",\n",
    "]\n",
    "\n",
    "for file in files:\n",
    "\n",
    "    pd.read_csv(\n",
    "        f\"https://raw.githubusercontent.com/jdvelasq/datalabs/master/datasets/drivers/{file}\",\n",
    "        sep=\",\",\n",
    "        thousands=None,\n",
    "        decimal=\".\",\n",
    "    ).to_csv(f\"../../data/{file}\", index=False, header=True)"
   ]
  },
  {
   "cell_type": "markdown",
   "metadata": {},
   "source": [
    "Relaciones uno a muchos\n",
    "---\n",
    "\n",
    "![creacion_vista_modelo_1.png](assets/creacion_vista_modelo_1.png)"
   ]
  },
  {
   "cell_type": "markdown",
   "metadata": {},
   "source": [
    "Borrado de una relación\n",
    "---\n",
    "\n",
    "Clic derecho en la relación que desea borrar.\n",
    "\n",
    "![creacion_vista_modelo_2.png](assets/creacion_vista_modelo_2.png)\n",
    "\n",
    "![creacion_vista_modelo_2.png](assets/creacion_vista_modelo_2.png)\n",
    "\n",
    "![creacion_vista_modelo_4.png](assets/creacion_vista_modelo_4.png)"
   ]
  },
  {
   "cell_type": "markdown",
   "metadata": {},
   "source": [
    "Creación de una relación\n",
    "---\n",
    "\n",
    "![creacion_vista_modelo_5.png](assets/creacion_vista_modelo_5.png)\n",
    "\n",
    "![creacion_vista_modelo_6.png](assets/creacion_vista_modelo_6.png)\n",
    "\n",
    "![creacion_vista_modelo_7.png](assets/creacion_vista_modelo_7.png)\n",
    "\n",
    "![creacion_vista_modelo_8.png](assets/creacion_vista_modelo_8.png)"
   ]
  }
 ],
 "metadata": {
  "kernelspec": {
   "display_name": "Python 3.9.6 ('.venv': venv)",
   "language": "python",
   "name": "python3"
  },
  "language_info": {
   "codemirror_mode": {
    "name": "ipython",
    "version": 3
   },
   "file_extension": ".py",
   "mimetype": "text/x-python",
   "name": "python",
   "nbconvert_exporter": "python",
   "pygments_lexer": "ipython3",
   "version": "3.9.6"
  },
  "orig_nbformat": 4,
  "vscode": {
   "interpreter": {
    "hash": "2482a4565599eda3cd2db35331af39775c1f78a505a9deef48c721423040da5b"
   }
  }
 },
 "nbformat": 4,
 "nbformat_minor": 2
}
