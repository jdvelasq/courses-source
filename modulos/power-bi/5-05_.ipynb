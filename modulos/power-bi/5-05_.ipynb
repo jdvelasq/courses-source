{
 "cells": [
  {
   "cell_type": "markdown",
   "metadata": {},
   "source": [
    "Caso práctico: Creación de un dashboard en línea\n",
    "===\n",
    "\n",
    "*  Última modificación: 30 de septiembre de 2022"
   ]
  },
  {
   "cell_type": "markdown",
   "metadata": {},
   "source": [
    "![online_dashboard_01.png](assets/online_dashboard_01.png)\n",
    "\n",
    "![online_dashboard_03.png](assets/online_dashboard_02.png)\n",
    "\n",
    "![online_dashboard_03.png](assets/online_dashboard_03.png)\n",
    "\n",
    "![online_dashboard_04.png](assets/online_dashboard_04.png)"
   ]
  }
 ],
 "metadata": {
  "kernelspec": {
   "display_name": "Python 3.9.6 64-bit",
   "language": "python",
   "name": "python3"
  },
  "language_info": {
   "name": "python",
   "version": "3.9.6"
  },
  "orig_nbformat": 4,
  "vscode": {
   "interpreter": {
    "hash": "31f2aee4e71d21fbe5cf8b01ff0e069b9275f58929596ceb00d14d90e3e16cd6"
   }
  }
 },
 "nbformat": 4,
 "nbformat_minor": 2
}
