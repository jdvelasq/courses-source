{
 "cells": [
  {
   "cell_type": "markdown",
   "id": "fac51b83-20ca-4080-a512-0b8600ad1add",
   "metadata": {
    "tags": []
   },
   "source": [
    "Caso práctico: La función IF\n",
    "===\n",
    "\n",
    "*  Última modificación: 11 de noviembre de 2022"
   ]
  },
  {
   "cell_type": "markdown",
   "metadata": {},
   "source": [
    "## Datos\n",
    "\n",
    "Importe el siguiente archivo a Power BI."
   ]
  },
  {
   "cell_type": "code",
   "execution_count": 1,
   "metadata": {},
   "outputs": [
    {
     "name": "stdout",
     "output_type": "stream",
     "text": [
      "Writing ../../data/lookup_table_1.csv\n"
     ]
    }
   ],
   "source": [
    "%%writefile ../../data/lookup_table_1.csv\n",
    "key0\n",
    "a\n",
    "e\n",
    "b\n",
    "c\n",
    "c\n",
    "d\n",
    "d\n",
    "e\n",
    "a\n",
    "d"
   ]
  },
  {
   "cell_type": "markdown",
   "metadata": {},
   "source": [
    "* Seleccione la tabla y haga click en **Nueva columna**. Luego introduzca la siguiente formula.\n",
    "\n",
    "```\n",
    "Columna = if(\n",
    "    [key0]=\"a\",\n",
    "    \"AAA\",\n",
    "     if([key0]=\"b\",\n",
    "        \"BBB\",\n",
    "        if([key0]=\"c\",\n",
    "            \"CCC\",\n",
    "            if([key0]=\"d\",\n",
    "                \"DDD\",\n",
    "                \"EEE\"))))\n",
    "```\n",
    "\n",
    "![if_replace_01.png](assets/if_replace_01.png)"
   ]
  },
  {
   "cell_type": "markdown",
   "metadata": {},
   "source": [
    "* En la vista de datos verifique el resultado de la operación.\n",
    "\n",
    "\n",
    "![if_replace_02.png](assets/if_replace_02.png)"
   ]
  }
 ],
 "metadata": {
  "kernelspec": {
   "display_name": "Python 3.9.6 ('.venv': venv)",
   "language": "python",
   "name": "python3"
  },
  "language_info": {
   "codemirror_mode": {
    "name": "ipython",
    "version": 3
   },
   "file_extension": ".py",
   "mimetype": "text/x-python",
   "name": "python",
   "nbconvert_exporter": "python",
   "pygments_lexer": "ipython3",
   "version": "3.9.6"
  },
  "orig_nbformat": 4,
  "vscode": {
   "interpreter": {
    "hash": "2482a4565599eda3cd2db35331af39775c1f78a505a9deef48c721423040da5b"
   }
  }
 },
 "nbformat": 4,
 "nbformat_minor": 2
}
