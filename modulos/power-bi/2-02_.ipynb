{
 "cells": [
  {
   "cell_type": "markdown",
   "id": "fac51b83-20ca-4080-a512-0b8600ad1add",
   "metadata": {
    "tags": []
   },
   "source": [
    "Caso práctico: Carga de un grupo de archivos\n",
    "===\n",
    "\n",
    "*  Última modificación: 2 de noviembre de 2022"
   ]
  },
  {
   "cell_type": "markdown",
   "id": "f447b9b9",
   "metadata": {},
   "source": [
    "Generación de datos\n",
    "----"
   ]
  },
  {
   "cell_type": "code",
   "execution_count": 1,
   "id": "2007fcb9",
   "metadata": {},
   "outputs": [],
   "source": [
    "import os.path\n",
    "import pandas as pd\n",
    "import numpy as np\n",
    "\n",
    "data = pd.read_csv(\n",
    "    \"https://raw.githubusercontent.com/jdvelasq/datalabs/master/datasets/drivers/timesheet.csv\"\n",
    ")\n",
    "\n",
    "dir_path = \"../../data/folder/\"\n",
    "\n",
    "if not os.path.exists(dir_path):\n",
    "    os.makedirs(dir_path)\n",
    "\n",
    "n_batches = 5\n",
    "batch_indices = np.array_split(np.array(range(len(data))), n_batches)\n",
    "\n",
    "for igroup in range(n_batches):\n",
    "    data.iloc[batch_indices[igroup], :].to_csv(\n",
    "        dir_path + \"timesheet_{}.csv\".format(igroup), index=False\n",
    "    )\n",
    "\n",
    "pd.read_csv(\"https://raw.githubusercontent.com/jdvelasq/datalabs/master/datasets/drivers/drivers.csv\").to_csv(\n",
    "    \"../../data/folder/drivers.csv\", index=False\n",
    ")"
   ]
  },
  {
   "cell_type": "markdown",
   "id": "aea6c2cc",
   "metadata": {},
   "source": [
    "Procedimiento\n",
    "---"
   ]
  },
  {
   "cell_type": "markdown",
   "id": "fd1ddc61",
   "metadata": {},
   "source": [
    "* Seleccione **Obtener Datos**.\n",
    "\n",
    "![get_data_folder_01.png](assets/get_data_folder_01.png)"
   ]
  },
  {
   "cell_type": "markdown",
   "id": "0960e2ea",
   "metadata": {},
   "source": [
    "* En  **Origenes de datos comunes** seleccione **Mas ...**\n",
    "\n",
    "![get_data_folder_02.png](assets/get_data_folder_02.png)"
   ]
  },
  {
   "cell_type": "markdown",
   "id": "102c1227",
   "metadata": {},
   "source": [
    "* Seleccione **Carpeta** y luego haga click en el boton **Conectar**.\n",
    "\n",
    "![get_data_folder_03.png](assets/get_data_folder_03.png)"
   ]
  },
  {
   "cell_type": "markdown",
   "id": "01e7b9bc",
   "metadata": {},
   "source": [
    "* Seleccione la carpeta con los datos y haga click en **Aceptar**.\n",
    "\n",
    "![get_data_folder_04.png](assets/get_data_folder_04.png)"
   ]
  },
  {
   "cell_type": "markdown",
   "id": "d94d448f",
   "metadata": {},
   "source": [
    "* Note que en los archivos seleccionados automáticamente, el archivo **drivers.csv** no pertenece al grupo de archivos que se desean importar. Para corregirlo haga click en **Transformar datos**.\n",
    "\n",
    "![get_data_folder_05.png](assets/get_data_folder_05.png)"
   ]
  },
  {
   "cell_type": "markdown",
   "id": "20c582af",
   "metadata": {},
   "source": [
    "* Haga click en el botón derecho del nombre de la columna, quite la marca de selección del archivo y haga click en **Aceptar**.\n",
    "\n",
    "![get_data_folder_06.png](assets/get_data_folder_06.png)"
   ]
  },
  {
   "cell_type": "markdown",
   "id": "79e27d01",
   "metadata": {},
   "source": [
    "* Para concaternar los archivos haga click en el boton con las dos flechas hacia abajo.\n",
    "\n",
    "![get_data_folder_07.png](assets/get_data_folder_07.png)"
   ]
  },
  {
   "cell_type": "markdown",
   "id": "16f79e79",
   "metadata": {},
   "source": [
    "* Revise la información presentada en la caja de concatenación de archivos.\n",
    "\n",
    "![get_data_folder_08.png](assets/get_data_folder_08.png)"
   ]
  },
  {
   "cell_type": "markdown",
   "id": "effdf449",
   "metadata": {},
   "source": [
    "* Verifique que los archivos ya se encuentran concatenados.\n",
    "\n",
    "![get_data_folder_09.png](assets/get_data_folder_09.png)"
   ]
  }
 ],
 "metadata": {
  "kernelspec": {
   "display_name": "Python 3.9.6 ('.venv': venv)",
   "language": "python",
   "name": "python3"
  },
  "language_info": {
   "codemirror_mode": {
    "name": "ipython",
    "version": 3
   },
   "file_extension": ".py",
   "mimetype": "text/x-python",
   "name": "python",
   "nbconvert_exporter": "python",
   "pygments_lexer": "ipython3",
   "version": "3.9.6"
  },
  "vscode": {
   "interpreter": {
    "hash": "2482a4565599eda3cd2db35331af39775c1f78a505a9deef48c721423040da5b"
   }
  }
 },
 "nbformat": 4,
 "nbformat_minor": 5
}
