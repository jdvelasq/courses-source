{
 "cells": [
  {
   "cell_type": "markdown",
   "id": "fac51b83-20ca-4080-a512-0b8600ad1add",
   "metadata": {
    "tags": []
   },
   "source": [
    "Caso práctico: Medidas. DISTINCTCOUNT\n",
    "===\n",
    "\n",
    "*  Última modificación: 16 de noviembre de 2022"
   ]
  },
  {
   "cell_type": "markdown",
   "metadata": {},
   "source": [
    "## Datos\n",
    "\n",
    "Importe el siguiente archivo a Power BI."
   ]
  },
  {
   "cell_type": "code",
   "execution_count": 3,
   "metadata": {},
   "outputs": [
    {
     "name": "stdout",
     "output_type": "stream",
     "text": [
      "Overwriting ../../data/jerarquias.csv\n"
     ]
    }
   ],
   "source": [
    "%%writefile ../../data/jerarquias.csv\n",
    "pais,dpto,ciudad\n",
    "Colombia,Valle del Cauca,Cali\n",
    "Colombia,Valle del Cauca,Palmira\n",
    "Colombia,Valle del Cauca,Buga\n",
    "Colombia,Antioquia,Medellin\n",
    "Colombia,Antioquia,Bello\n",
    "Colombia,Antioquia,Envigado\n",
    "Colombia,Bogota,Bogota\n",
    "Colombia,Bogota,Soacha"
   ]
  },
  {
   "cell_type": "markdown",
   "metadata": {},
   "source": [
    "* Seleccione **Nueva medida** y copie la siguiente fórmula:\n",
    "\n",
    "```\n",
    "Conteo Dptos = DISTINCTCOUNT(jerarquias[dpto])\n",
    "```\n",
    "\n",
    "\n",
    "![distinctcount_01.png](assets/distinctcount_01.png)\n"
   ]
  }
 ],
 "metadata": {
  "kernelspec": {
   "display_name": "Python 3.9.6 ('.venv': venv)",
   "language": "python",
   "name": "python3"
  },
  "language_info": {
   "codemirror_mode": {
    "name": "ipython",
    "version": 3
   },
   "file_extension": ".py",
   "mimetype": "text/x-python",
   "name": "python",
   "nbconvert_exporter": "python",
   "pygments_lexer": "ipython3",
   "version": "3.9.6"
  },
  "orig_nbformat": 4,
  "vscode": {
   "interpreter": {
    "hash": "2482a4565599eda3cd2db35331af39775c1f78a505a9deef48c721423040da5b"
   }
  }
 },
 "nbformat": 4,
 "nbformat_minor": 2
}
