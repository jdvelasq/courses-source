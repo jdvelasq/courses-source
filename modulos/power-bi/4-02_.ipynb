{
 "cells": [
  {
   "cell_type": "markdown",
   "id": "fac51b83-20ca-4080-a512-0b8600ad1add",
   "metadata": {
    "tags": []
   },
   "source": [
    "Caso práctico: Gráfico de barras (bar chart)\n",
    "===\n",
    "\n",
    "*  Última modificación: 30 de septiembre de 2022"
   ]
  },
  {
   "cell_type": "markdown",
   "metadata": {},
   "source": [
    "Creación del gráfico de barras\n",
    "---\n",
    "\n",
    "Clic en el gráfico y luego:\n",
    "\n",
    "![bar_chart_01.png](assets/bar_chart_01.png)\n",
    "\n",
    "![bar_chart_02.png](assets/bar_chart_02.png)\n",
    "\n",
    "![bar_chart_03.png](assets/bar_chart_03.png)\n",
    "\n",
    "![bar_chart_04.png](assets/bar_chart_04.png)\n",
    "\n",
    "![bar_chart_05.png](assets/bar_chart_05.png)\n",
    "\n",
    "![bar_chart_06.png](assets/bar_chart_06.png)\n",
    "\n",
    "![bar_chart_07.png](assets/bar_chart_07.png)\n",
    "\n",
    "![bar_chart_08.png](assets/bar_chart_08.png)\n"
   ]
  }
 ],
 "metadata": {
  "kernelspec": {
   "display_name": "Python 3.9.6 ('.venv': venv)",
   "language": "python",
   "name": "python3"
  },
  "language_info": {
   "name": "python",
   "version": "3.9.6"
  },
  "orig_nbformat": 4,
  "vscode": {
   "interpreter": {
    "hash": "2482a4565599eda3cd2db35331af39775c1f78a505a9deef48c721423040da5b"
   }
  }
 },
 "nbformat": 4,
 "nbformat_minor": 2
}
