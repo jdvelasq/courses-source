{
 "cells": [
  {
   "cell_type": "markdown",
   "id": "fac51b83-20ca-4080-a512-0b8600ad1add",
   "metadata": {
    "tags": []
   },
   "source": [
    "Caso práctico: Agrupamiento de cosultas\n",
    "===\n",
    "\n",
    "*  Última modificación: 10 de noviembre de 2022"
   ]
  },
  {
   "cell_type": "markdown",
   "metadata": {},
   "source": [
    "* En el Power Query Editor, haga click dereho en las consultas y luego seleccione **Nuevo grupo**.\n",
    "\n",
    "![grouping_queries_01.png](assets/grouping_queries_01.png)"
   ]
  },
  {
   "cell_type": "markdown",
   "metadata": {},
   "source": [
    "* Especifique un nombre del grupo y haga click en **Aceptar**.\n",
    "\n",
    "![grouping_queries_02.png](assets/grouping_queries_02.png)"
   ]
  },
  {
   "cell_type": "markdown",
   "metadata": {},
   "source": [
    "* Para mover una consulta (query) haga click derecho en ella y seleccione **Mover a grupo ...**; luego, haga click en el nombre del grupo que creo en el paso anterior.\n",
    "\n",
    "![grouping_queries_03.png](assets/grouping_queries_03.png)"
   ]
  },
  {
   "cell_type": "markdown",
   "metadata": {},
   "source": [
    "* Verifique que en el lado derecho aparece el nuevo grupo y la consulta que movio.\n",
    "\n",
    "![grouping_queries_04.png](assets/grouping_queries_04.png)"
   ]
  }
 ],
 "metadata": {
  "kernelspec": {
   "display_name": "Python 3.9.6 ('.venv': venv)",
   "language": "python",
   "name": "python3"
  },
  "language_info": {
   "codemirror_mode": {
    "name": "ipython",
    "version": 3
   },
   "file_extension": ".py",
   "mimetype": "text/x-python",
   "name": "python",
   "nbconvert_exporter": "python",
   "pygments_lexer": "ipython3",
   "version": "3.9.6"
  },
  "orig_nbformat": 4,
  "vscode": {
   "interpreter": {
    "hash": "2482a4565599eda3cd2db35331af39775c1f78a505a9deef48c721423040da5b"
   }
  }
 },
 "nbformat": 4,
 "nbformat_minor": 2
}
