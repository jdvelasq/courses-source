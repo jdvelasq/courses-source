{
 "cells": [
  {
   "cell_type": "markdown",
   "id": "fac51b83-20ca-4080-a512-0b8600ad1add",
   "metadata": {
    "tags": []
   },
   "source": [
    "Caso práctico: Jerarquias\n",
    "===\n",
    "\n",
    "*  Última modificación: 16 de noviembre de 2022"
   ]
  },
  {
   "cell_type": "markdown",
   "metadata": {},
   "source": [
    "## Datos\n",
    "\n",
    "Importe el siguiente archivo a Power BI."
   ]
  },
  {
   "cell_type": "code",
   "execution_count": 3,
   "metadata": {},
   "outputs": [
    {
     "name": "stdout",
     "output_type": "stream",
     "text": [
      "Overwriting ../../data/jerarquias.csv\n"
     ]
    }
   ],
   "source": [
    "%%writefile ../../data/jerarquias.csv\n",
    "pais,dpto,ciudad\n",
    "Colombia,Valle del Cauca,Cali\n",
    "Colombia,Valle del Cauca,Palmira\n",
    "Colombia,Valle del Cauca,Buga\n",
    "Colombia,Antioquia,Medellin\n",
    "Colombia,Antioquia,Bello\n",
    "Colombia,Antioquia,Envigado\n",
    "Colombia,Bogota,Bogota\n",
    "Colombia,Bogota,Soacha"
   ]
  },
  {
   "cell_type": "markdown",
   "metadata": {},
   "source": [
    "* En el panel **Campos**, haga click en **País** y luego en **Crear jerarquía**.\n",
    "\n",
    "\n",
    "![jerarquias_01.png](assets/jerarquias_01.png)\n"
   ]
  },
  {
   "cell_type": "markdown",
   "metadata": {},
   "source": [
    "* Para agregar un segundo nivel, haga click en **dpto**, y luego en **Agregar a la jerarquía**.\n",
    "\n",
    "\n",
    "![jerarquias_02.png](assets/jerarquias_02.png)\n"
   ]
  },
  {
   "cell_type": "markdown",
   "metadata": {},
   "source": [
    "* Para agregar un tercer nivel, haga click en **ciudad**, y luego en **Agregar a la jerarquía**.\n",
    "\n",
    "\n",
    "![jerarquias_03.png](assets/jerarquias_03.png)\n"
   ]
  },
  {
   "cell_type": "markdown",
   "metadata": {},
   "source": [
    "* Los niveles de las jerarquias se visualizan en el panel derecho.\n",
    "\n",
    "\n",
    "![jerarquias_04.png](assets/jerarquias_04.png)\n"
   ]
  }
 ],
 "metadata": {
  "kernelspec": {
   "display_name": "Python 3.9.6 ('.venv': venv)",
   "language": "python",
   "name": "python3"
  },
  "language_info": {
   "codemirror_mode": {
    "name": "ipython",
    "version": 3
   },
   "file_extension": ".py",
   "mimetype": "text/x-python",
   "name": "python",
   "nbconvert_exporter": "python",
   "pygments_lexer": "ipython3",
   "version": "3.9.6"
  },
  "orig_nbformat": 4,
  "vscode": {
   "interpreter": {
    "hash": "2482a4565599eda3cd2db35331af39775c1f78a505a9deef48c721423040da5b"
   }
  }
 },
 "nbformat": 4,
 "nbformat_minor": 2
}
