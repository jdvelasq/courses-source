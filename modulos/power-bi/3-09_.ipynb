{
 "cells": [
  {
   "cell_type": "markdown",
   "id": "fac51b83-20ca-4080-a512-0b8600ad1add",
   "metadata": {
    "tags": []
   },
   "source": [
    "Caso práctico: La función RELATED\n",
    "===\n",
    "\n",
    "*  Última modificación: 10 de noviembre de 2022"
   ]
  },
  {
   "cell_type": "markdown",
   "metadata": {},
   "source": [
    "## Datos\n",
    "\n",
    "Importe los siguientes archivos de datos a Power BI."
   ]
  },
  {
   "cell_type": "markdown",
   "metadata": {},
   "source": [
    "![lookup_tables.png](assets/lookup_tables.png)"
   ]
  },
  {
   "cell_type": "code",
   "execution_count": 1,
   "metadata": {},
   "outputs": [
    {
     "name": "stdout",
     "output_type": "stream",
     "text": [
      "Writing ../../data/lookup_table_1.csv\n"
     ]
    }
   ],
   "source": [
    "%%writefile ../../data/lookup_table_1.csv\n",
    "key0\n",
    "a\n",
    "e\n",
    "b\n",
    "c\n",
    "c\n",
    "d\n",
    "d\n",
    "e\n",
    "a\n",
    "d"
   ]
  },
  {
   "cell_type": "code",
   "execution_count": 2,
   "metadata": {},
   "outputs": [
    {
     "name": "stdout",
     "output_type": "stream",
     "text": [
      "Writing ../../data/lookup_table_2.csv\n"
     ]
    }
   ],
   "source": [
    "%%writefile ../../data/lookup_table_2.csv\n",
    "key0,key1\n",
    "a,1\n",
    "b,2\n",
    "c,3\n",
    "d,4\n",
    "e,5"
   ]
  },
  {
   "cell_type": "code",
   "execution_count": 3,
   "metadata": {},
   "outputs": [
    {
     "name": "stdout",
     "output_type": "stream",
     "text": [
      "Writing ../../data/lookup_table_3.csv\n"
     ]
    }
   ],
   "source": [
    "%%writefile ../../data/lookup_table_3.csv\n",
    "key1,key2\n",
    "1,aaa\n",
    "2,bbb\n",
    "3,ccc\n",
    "4,ddd\n",
    "5,eee"
   ]
  },
  {
   "cell_type": "markdown",
   "metadata": {},
   "source": [
    "* Seleccione la tabla 1 y luego **Nueva columna**; agrege la siguiente formula:\n",
    "\n",
    "```\n",
    "NuevaColumna = RELATED(lookup_table_3[key2])\n",
    "```\n",
    "\n",
    "![lookup_table_01.png](assets/lookup_table_01.png)"
   ]
  },
  {
   "cell_type": "markdown",
   "metadata": {},
   "source": [
    "* La nueva columna debe aparecer en la vista del modelo de datos:\n",
    "\n",
    "![lookup_table_02.png](assets/lookup_table_02.png)"
   ]
  },
  {
   "cell_type": "markdown",
   "metadata": {},
   "source": [
    "* Los resultados deben aparecer en la vista de datos.\n",
    "\n",
    "![lookup_table_03.png](assets/lookup_table_03.png)"
   ]
  }
 ],
 "metadata": {
  "kernelspec": {
   "display_name": "Python 3.9.6 ('.venv': venv)",
   "language": "python",
   "name": "python3"
  },
  "language_info": {
   "codemirror_mode": {
    "name": "ipython",
    "version": 3
   },
   "file_extension": ".py",
   "mimetype": "text/x-python",
   "name": "python",
   "nbconvert_exporter": "python",
   "pygments_lexer": "ipython3",
   "version": "3.9.6"
  },
  "orig_nbformat": 4,
  "vscode": {
   "interpreter": {
    "hash": "2482a4565599eda3cd2db35331af39775c1f78a505a9deef48c721423040da5b"
   }
  }
 },
 "nbformat": 4,
 "nbformat_minor": 2
}
