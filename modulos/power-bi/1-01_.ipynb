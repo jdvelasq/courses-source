{
 "cells": [
  {
   "cell_type": "markdown",
   "id": "fac51b83-20ca-4080-a512-0b8600ad1add",
   "metadata": {
    "tags": []
   },
   "source": [
    "Introducción a Power BI\n",
    "===\n",
    "\n",
    "*  Última modificación: 27 de septiembre de 2022"
   ]
  },
  {
   "cell_type": "markdown",
   "metadata": {},
   "source": [
    "Existe organizacionalmente la necesidad de:\n",
    "-----"
   ]
  },
  {
   "cell_type": "markdown",
   "metadata": {},
   "source": [
    "* Explicar el valor de negocio de una decisión (mostrar los datos detras de la decisión).\n",
    "\n",
    "\n",
    "* Explicar la autenticidad de la data.\n",
    "\n",
    "\n",
    "* Explicar la validez (precisión, confianza, ...) de los cálculos detrás de las decisiones.\n",
    "\n",
    "\n",
    "* Sistematizar los análisis, compartir y publicar los resultados a través de diferentes plataformas. "
   ]
  },
  {
   "cell_type": "markdown",
   "metadata": {},
   "source": [
    "La respuesta es el uso de herramientas de visualización:\n",
    "---\n",
    "\n",
    "* Power BI\n",
    "\n",
    "\n",
    "* Tableau\n",
    "\n",
    "\n",
    "* Quilk View\n",
    "\n",
    "\n",
    "* Otros."
   ]
  },
  {
   "cell_type": "markdown",
   "metadata": {},
   "source": [
    "![1-01-analisis-visualizacion-colaborarion.png](assets/1-01-analisis-visualizacion-colaborarion.png)"
   ]
  },
  {
   "cell_type": "markdown",
   "metadata": {},
   "source": [
    "Capacidades\n",
    "----\n",
    "\n",
    "* Conección y consumo de datos provenientes de múltiples fuentes.\n",
    "\n",
    "\n",
    "* Uso de componentes comunes (y generales a muchas herramientas) para visualización y análisis de datos.\n",
    "\n",
    "\n",
    "* Creación simple de dashboards y reportes."
   ]
  },
  {
   "cell_type": "markdown",
   "metadata": {},
   "source": [
    "Bloques componentes\n",
    "----"
   ]
  },
  {
   "cell_type": "markdown",
   "metadata": {},
   "source": [
    "![1-02-bloques-componentes.png](assets/1-02-bloques-componentes.png)"
   ]
  },
  {
   "cell_type": "markdown",
   "metadata": {},
   "source": [
    "Componentes\n",
    "---"
   ]
  },
  {
   "cell_type": "markdown",
   "metadata": {},
   "source": [
    "![1-03_power_bi_components.png](assets/1-03_power_bi_components.png)"
   ]
  },
  {
   "cell_type": "markdown",
   "metadata": {},
   "source": [
    "Beneficios\n",
    "---"
   ]
  },
  {
   "cell_type": "markdown",
   "metadata": {},
   "source": [
    "*  Multiples plataformas de distribución\n",
    "\n",
    "\n",
    "*  Data storytelling\n",
    "\n",
    "\n",
    "*  Rapidez y eficiencia para la creación de visuales y uso de templates\n",
    "\n",
    "\n",
    "* Integración con un ecosistema de herramientas (Sharepoint, Excel, Power BI App, ...)"
   ]
  },
  {
   "cell_type": "markdown",
   "metadata": {},
   "source": [
    "Vistas de datos, modelo e informe\n",
    "---"
   ]
  },
  {
   "cell_type": "markdown",
   "metadata": {},
   "source": [
    "![1-04_vistas.png](assets/1-04_vistas.png)"
   ]
  },
  {
   "cell_type": "markdown",
   "metadata": {},
   "source": [
    "Power BI Editor\n",
    "----"
   ]
  },
  {
   "cell_type": "markdown",
   "metadata": {},
   "source": [
    "![1-05_power-bi-editor-1.png](assets/1-05_power-bi-editor-1.png)"
   ]
  },
  {
   "cell_type": "markdown",
   "metadata": {},
   "source": [
    "![1-06_power-bi-editor-2.png](assets/1-06_power-bi-editor-2.png)"
   ]
  },
  {
   "cell_type": "markdown",
   "metadata": {},
   "source": []
  }
 ],
 "metadata": {
  "kernelspec": {
   "display_name": "Python 3.8.9 ('.venv': venv)",
   "language": "python",
   "name": "python3"
  },
  "language_info": {
   "name": "python",
   "version": "3.8.9"
  },
  "orig_nbformat": 4,
  "vscode": {
   "interpreter": {
    "hash": "2482a4565599eda3cd2db35331af39775c1f78a505a9deef48c721423040da5b"
   }
  }
 },
 "nbformat": 4,
 "nbformat_minor": 2
}
