{
 "cells": [
  {
   "cell_type": "markdown",
   "metadata": {},
   "source": [
    "Caso práctico: Conclusiones rápidas\n",
    "===\n",
    "\n",
    "*  Última modificación: 27 de octubre de 2022"
   ]
  },
  {
   "cell_type": "code",
   "execution_count": null,
   "metadata": {},
   "outputs": [],
   "source": [
    "import pandas as pd\n",
    "\n",
    "pd.read_csv(\"https://raw.githubusercontent.com/jdvelasq/datalabs/master/datasets/drivers/timesheet.csv\").to_csv(\n",
    "    \"../../data/timesheet.csv\", index=False\n",
    ")"
   ]
  },
  {
   "cell_type": "markdown",
   "metadata": {},
   "source": [
    "* Seleccione **Obtener datos**.\n",
    "\n",
    "![server_conclusiones_rapidas_01.png](assets/server_conclusiones_rapidas_01.png)"
   ]
  },
  {
   "cell_type": "markdown",
   "metadata": {},
   "source": [
    "* Seleccione **Crear contenido/Archivos/Obtener**.\n",
    "\n",
    "![server_conclusiones_rapidas_02.png](assets/server_conclusiones_rapidas_02.png)"
   ]
  },
  {
   "cell_type": "markdown",
   "metadata": {},
   "source": [
    "* Seleccione el archivo **timesheet.csv**.\n",
    "\n",
    "![server_conclusiones_rapidas_03.png](assets/server_conclusiones_rapidas_03.png)"
   ]
  },
  {
   "cell_type": "markdown",
   "metadata": {},
   "source": [
    "* Haga click en \"...\" para desplegar el menu. Luego haga click en **Obtener conclusiones rápidas**.\n",
    "\n",
    "![server_conclusiones_rapidas_04.png](assets/server_conclusiones_rapidas_04.png)"
   ]
  },
  {
   "cell_type": "markdown",
   "metadata": {},
   "source": [
    "* Haga click en el botón **Ver conclusiones**.\n",
    "\n",
    "![server_conclusiones_rapidas_05.png](assets/server_conclusiones_rapidas_05.png)"
   ]
  },
  {
   "cell_type": "markdown",
   "metadata": {},
   "source": [
    "* Analice los resultados presentados.\n",
    "\n",
    "![server_conclusiones_rapidas_06.png](assets/server_conclusiones_rapidas_06.png)"
   ]
  },
  {
   "cell_type": "markdown",
   "metadata": {},
   "source": [
    "* Para anclar un análisis a un panel, haga click en el pin.\n",
    "\n",
    "![server_conclusiones_rapidas_07.png](assets/server_conclusiones_rapidas_07.png)"
   ]
  },
  {
   "cell_type": "markdown",
   "metadata": {},
   "source": [
    "* Luego seleccione el panel.\n",
    "\n",
    "![server_conclusiones_rapidas_08.png](assets/server_conclusiones_rapidas_08.png)"
   ]
  }
 ],
 "metadata": {
  "kernelspec": {
   "display_name": "Python 3.9.6 ('.venv': venv)",
   "language": "python",
   "name": "python3"
  },
  "language_info": {
   "codemirror_mode": {
    "name": "ipython",
    "version": 3
   },
   "file_extension": ".py",
   "mimetype": "text/x-python",
   "name": "python",
   "nbconvert_exporter": "python",
   "pygments_lexer": "ipython3",
   "version": "3.9.6"
  },
  "orig_nbformat": 4,
  "vscode": {
   "interpreter": {
    "hash": "2482a4565599eda3cd2db35331af39775c1f78a505a9deef48c721423040da5b"
   }
  }
 },
 "nbformat": 4,
 "nbformat_minor": 2
}
