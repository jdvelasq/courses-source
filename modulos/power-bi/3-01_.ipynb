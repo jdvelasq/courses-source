{
 "cells": [
  {
   "cell_type": "markdown",
   "id": "fac51b83-20ca-4080-a512-0b8600ad1add",
   "metadata": {
    "tags": []
   },
   "source": [
    "Caso práctico: Selección y manejo de filas\n",
    "===\n",
    "\n",
    "*  Última modificación: 27 de septiembre de 2022"
   ]
  },
  {
   "cell_type": "markdown",
   "metadata": {},
   "source": [
    "* Uso de la primera fila como encabezamiento.\n",
    "\n",
    "* Uso del encabezacmiento como primera fila.\n",
    "\n",
    "* Remoción de filas en blanco.\n",
    "\n",
    "* Reemplazo de valores.\n",
    "\n",
    "* Remoción de filas duplicadas.\n",
    "\n",
    "* Remoción de filas.\n",
    "\n",
    "* Filtrado de filas.\n",
    "\n"
   ]
  },
  {
   "cell_type": "markdown",
   "metadata": {},
   "source": [
    "Datos de ejemplo\n",
    "---"
   ]
  },
  {
   "cell_type": "markdown",
   "metadata": {},
   "source": [
    "Cargue el siguiente conjunto de datos de ejemplo."
   ]
  },
  {
   "cell_type": "code",
   "execution_count": 2,
   "metadata": {},
   "outputs": [
    {
     "name": "stdout",
     "output_type": "stream",
     "text": [
      "Writing ../../data/seleccion_y_manejo_de_filas.csv\n"
     ]
    }
   ],
   "source": [
    "%%writefile ../../data/seleccion_y_manejo_de_filas.csv\n",
    "id,fecha,producto,precio,cliente\n",
    "1,2019-01-01,producto_1,100,cliente_1\n",
    "2,2019-01-01,producto_2,200,cliente_2\n",
    "3,2019-01-01,producto_3,300,cliente_3\n",
    "4,2019-01-01,producto_4,400,cliente_4\n",
    "5,2019-01-01,producto_5,500,cliente_5\n",
    "6,2019-01-01,producto_3,600,cliente_6\n",
    "7,2019-01-01,producto_4,700,cliente_7\n",
    "2,2019-01-01,producto_2,200,cliente_2\n",
    "3,2019-01-01,PRODUCTO_3,300,cliente_3\n",
    "4,2019-02-01,PRODUCTO_4,400,cliente_4\n",
    "\n",
    "3,2019-02-01,producto_3,300,cliente_3\n",
    "4,2019-02-01,producto_4,400,cliente_1\n",
    "5,2019-02-01,,,"
   ]
  },
  {
   "cell_type": "markdown",
   "metadata": {},
   "source": [
    "![data_transformation_rows_01.png](assets/data_transformation_rows_01.png)"
   ]
  },
  {
   "cell_type": "markdown",
   "metadata": {},
   "source": [
    "Uso de la primera fila como encabezamiento\n",
    "---\n",
    "\n",
    "![data_transformation_rows_02.png](assets/data_transformation_rows_02.png)"
   ]
  },
  {
   "cell_type": "markdown",
   "metadata": {},
   "source": [
    "Uso del encabezamiento como primera fila\n",
    "---\n",
    "\n",
    "![data_transformation_rows_03.png](assets/data_transformation_rows_03.png)"
   ]
  },
  {
   "cell_type": "markdown",
   "metadata": {},
   "source": [
    "Remoción de filas en blanco\n",
    "---\n",
    "\n",
    "![data_transformation_rows_04.png](assets/data_transformation_rows_04.png)\n",
    "\n",
    "\n",
    "![data_transformation_rows_05.png](assets/data_transformation_rows_05.png)"
   ]
  },
  {
   "cell_type": "markdown",
   "metadata": {},
   "source": [
    "Reemplazar valores\n",
    "---\n",
    "\n",
    "![data_transformation_rows_06.png](assets/data_transformation_rows_06.png)\n",
    "\n",
    "![data_transformation_rows_07.png](assets/data_transformation_rows_07.png)\n",
    "\n",
    "![data_transformation_rows_08.png](assets/data_transformation_rows_08.png)"
   ]
  },
  {
   "cell_type": "markdown",
   "metadata": {},
   "source": [
    "Remoción de filas duplicadas\n",
    "---\n",
    "\n",
    "![data_transformation_rows_09.png](assets/data_transformation_rows_09.png)\n",
    "\n",
    "![data_transformation_rows_10.png](assets/data_transformation_rows_10.png)\n",
    "\n",
    "![data_transformation_rows_11.png](assets/data_transformation_rows_11.png)"
   ]
  },
  {
   "cell_type": "markdown",
   "metadata": {},
   "source": [
    "Remoción de filas \n",
    "---\n",
    "\n",
    "![data_transformation_rows_12.png](assets/data_transformation_rows_12.png)\n",
    "\n",
    "![data_transformation_rows_13.png](assets/data_transformation_rows_13.png)\n",
    "\n",
    "![data_transformation_rows_14.png](assets/data_transformation_rows_14.png)"
   ]
  }
 ],
 "metadata": {
  "kernelspec": {
   "display_name": "Python 3.8.9 ('.venv': venv)",
   "language": "python",
   "name": "python3"
  },
  "language_info": {
   "codemirror_mode": {
    "name": "ipython",
    "version": 3
   },
   "file_extension": ".py",
   "mimetype": "text/x-python",
   "name": "python",
   "nbconvert_exporter": "python",
   "pygments_lexer": "ipython3",
   "version": "3.9.6"
  },
  "orig_nbformat": 4,
  "vscode": {
   "interpreter": {
    "hash": "2482a4565599eda3cd2db35331af39775c1f78a505a9deef48c721423040da5b"
   }
  }
 },
 "nbformat": 4,
 "nbformat_minor": 2
}
