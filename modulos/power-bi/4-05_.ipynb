{
 "cells": [
  {
   "cell_type": "markdown",
   "id": "fac51b83-20ca-4080-a512-0b8600ad1add",
   "metadata": {
    "tags": []
   },
   "source": [
    "Caso práctico: Filled Maps\n",
    "===\n",
    "\n",
    "*  Última modificación: 30 de septiembre de 2022"
   ]
  },
  {
   "cell_type": "code",
   "execution_count": 2,
   "metadata": {},
   "outputs": [],
   "source": [
    "import plotly.express as px\n",
    "\n",
    "px.data.gapminder().query(\"year==2007\").to_csv('../../data/gapminer_2007.csv', index=False)"
   ]
  },
  {
   "cell_type": "markdown",
   "metadata": {},
   "source": [
    "![filled_map_01.png](assets/filled_map_01.png)\n"
   ]
  }
 ],
 "metadata": {
  "kernelspec": {
   "display_name": "Python 3.9.6 64-bit",
   "language": "python",
   "name": "python3"
  },
  "language_info": {
   "codemirror_mode": {
    "name": "ipython",
    "version": 3
   },
   "file_extension": ".py",
   "mimetype": "text/x-python",
   "name": "python",
   "nbconvert_exporter": "python",
   "pygments_lexer": "ipython3",
   "version": "3.9.6"
  },
  "orig_nbformat": 4,
  "vscode": {
   "interpreter": {
    "hash": "31f2aee4e71d21fbe5cf8b01ff0e069b9275f58929596ceb00d14d90e3e16cd6"
   }
  }
 },
 "nbformat": 4,
 "nbformat_minor": 2
}
