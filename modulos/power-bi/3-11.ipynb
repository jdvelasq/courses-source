{
 "cells": [
  {
   "cell_type": "markdown",
   "id": "fac51b83-20ca-4080-a512-0b8600ad1add",
   "metadata": {
    "tags": []
   },
   "source": [
    "Caso práctico: Fechas\n",
    "===\n",
    "\n",
    "*  Última modificación: 15 de noviembre de 2022"
   ]
  },
  {
   "cell_type": "markdown",
   "metadata": {},
   "source": [
    "## Datos\n",
    "\n",
    "Importe el siguiente archivo a Power BI."
   ]
  },
  {
   "cell_type": "code",
   "execution_count": 2,
   "metadata": {},
   "outputs": [
    {
     "name": "stdout",
     "output_type": "stream",
     "text": [
      "Overwriting ../../data/dates.csv\n"
     ]
    }
   ],
   "source": [
    "%%writefile ../../data/dates.csv\n",
    "column0\n",
    "1/1/2011\n",
    "1/2/2011\n",
    "1/3/2011\n",
    "1/4/2011\n",
    "5/1/2011\n",
    "5/2/2011\n",
    "12/1/2011"
   ]
  },
  {
   "cell_type": "markdown",
   "metadata": {},
   "source": [
    "* Seleccione la tabla y haga click en **Nueva columna**. Luego introduzca la siguiente formula.\n",
    "\n",
    "```\n",
    "Year = Year([column0])\n",
    "```\n",
    "\n",
    "![dates_01.png](assets/dates_01.png)\n",
    "\n",
    "![dates_02.png](assets/dates_02.png)"
   ]
  },
  {
   "cell_type": "markdown",
   "metadata": {},
   "source": [
    "* Seleccione la tabla y haga click en **Nueva columna**. Luego introduzca la siguiente formula.\n",
    "\n",
    "```\n",
    "MonthYear = FORMAT([column0], \"MMM YYYY\")\n",
    "```\n",
    "\n",
    "![dates_03.png](assets/dates_03.png)\n",
    "\n",
    "![dates_04.png](assets/dates_04.png)"
   ]
  },
  {
   "cell_type": "markdown",
   "metadata": {},
   "source": [
    "* Seleccione la tabla y haga click en **Nueva columna**. Luego introduzca la siguiente formula.\n",
    "\n",
    "```\n",
    "YearMonth = FORMAT([column0], \"YYYY-MM\")\n",
    "```\n",
    "\n",
    "Tambien se podría usar:\n",
    "\n",
    "```\n",
    "YearMonth = YEAR([column0]) & \"-\" & FORMAT(MONTH([column0]), 00\")\n",
    "```\n",
    "\n",
    "\n",
    "![dates_05.png](assets/dates_05.png)\n",
    "\n",
    "![dates_06.png](assets/dates_06.png)"
   ]
  }
 ],
 "metadata": {
  "kernelspec": {
   "display_name": "Python 3.9.6 ('.venv': venv)",
   "language": "python",
   "name": "python3"
  },
  "language_info": {
   "codemirror_mode": {
    "name": "ipython",
    "version": 3
   },
   "file_extension": ".py",
   "mimetype": "text/x-python",
   "name": "python",
   "nbconvert_exporter": "python",
   "pygments_lexer": "ipython3",
   "version": "3.9.6"
  },
  "orig_nbformat": 4,
  "vscode": {
   "interpreter": {
    "hash": "2482a4565599eda3cd2db35331af39775c1f78a505a9deef48c721423040da5b"
   }
  }
 },
 "nbformat": 4,
 "nbformat_minor": 2
}
