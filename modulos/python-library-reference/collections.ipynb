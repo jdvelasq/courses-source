{
 "cells": [
  {
   "cell_type": "markdown",
   "id": "1ead8e32-b1bd-4383-a4b8-406e6152ea6c",
   "metadata": {},
   "source": [
    "Librería collections--- 0:00 min\n",
    "===\n",
    "\n",
    "* Última modificación: Mayo 13, 2022 | YouTube"
   ]
  },
  {
   "cell_type": "markdown",
   "id": "87117586-bf16-42ea-a976-a58f9889752b",
   "metadata": {},
   "source": [
    "Counter\n",
    "---"
   ]
  },
  {
   "cell_type": "code",
   "execution_count": 1,
   "id": "f99b45a4-ce22-4f30-84c6-baa049812635",
   "metadata": {},
   "outputs": [
    {
     "data": {
      "text/plain": [
       "Counter({'red': 2, 'blue': 3, 'green': 1})"
      ]
     },
     "execution_count": 1,
     "metadata": {},
     "output_type": "execute_result"
    }
   ],
   "source": [
    "from collections import Counter\n",
    "\n",
    "cnt = Counter()\n",
    "for word in ['red', 'blue', 'red', 'green', 'blue', 'blue']:\n",
    "    cnt[word] += 1\n",
    "cnt"
   ]
  },
  {
   "cell_type": "code",
   "execution_count": 2,
   "id": "4a0d5f1d-3b65-4ead-a50a-82b9516e8457",
   "metadata": {},
   "outputs": [
    {
     "data": {
      "text/plain": [
       "[('blue', 3), ('red', 2)]"
      ]
     },
     "execution_count": 2,
     "metadata": {},
     "output_type": "execute_result"
    }
   ],
   "source": [
    "cnt.most_common(2)"
   ]
  },
  {
   "cell_type": "code",
   "execution_count": 3,
   "id": "ddc3cd56-d0a2-4258-b0ed-ed56b4efeeeb",
   "metadata": {},
   "outputs": [
    {
     "data": {
      "text/plain": [
       "0"
      ]
     },
     "execution_count": 3,
     "metadata": {},
     "output_type": "execute_result"
    }
   ],
   "source": [
    "c = Counter(['eggs', 'ham'])\n",
    "c['bacon']"
   ]
  },
  {
   "cell_type": "code",
   "execution_count": 4,
   "id": "00a56153-668d-4f29-9430-ad2006084ce1",
   "metadata": {},
   "outputs": [
    {
     "data": {
      "text/plain": [
       "1"
      ]
     },
     "execution_count": 4,
     "metadata": {},
     "output_type": "execute_result"
    }
   ],
   "source": [
    "c['eggs']"
   ]
  },
  {
   "cell_type": "code",
   "execution_count": 5,
   "id": "e8e99999-5af3-41c9-8bab-368586f6f75e",
   "metadata": {},
   "outputs": [
    {
     "data": {
      "text/plain": [
       "['a', 'a', 'a', 'a', 'b', 'b']"
      ]
     },
     "execution_count": 5,
     "metadata": {},
     "output_type": "execute_result"
    }
   ],
   "source": [
    "#\n",
    "# elements()\n",
    "# \n",
    "c = Counter(a=4, b=2, c=0, d=-2)\n",
    "sorted(c.elements())"
   ]
  },
  {
   "cell_type": "code",
   "execution_count": 6,
   "id": "9479dd8b-f327-4c57-b8df-da83e6eb4d08",
   "metadata": {},
   "outputs": [
    {
     "data": {
      "text/plain": [
       "[('a', 5), ('b', 2), ('r', 2)]"
      ]
     },
     "execution_count": 6,
     "metadata": {},
     "output_type": "execute_result"
    }
   ],
   "source": [
    "#\n",
    "# most_common(n)\n",
    "#\n",
    "Counter('abracadabra').most_common(3)"
   ]
  },
  {
   "cell_type": "code",
   "execution_count": 7,
   "id": "b61f47a5-0669-4a54-9eab-d6ebab634bfa",
   "metadata": {},
   "outputs": [
    {
     "data": {
      "text/plain": [
       "Counter({'a': 3, 'b': 0, 'c': -3, 'd': -6})"
      ]
     },
     "execution_count": 7,
     "metadata": {},
     "output_type": "execute_result"
    }
   ],
   "source": [
    "#\n",
    "# subtract()\n",
    "#\n",
    "c = Counter(a=4, b=2, c=0, d=-2)\n",
    "d = Counter(a=1, b=2, c=3, d=4)\n",
    "c.subtract(d)\n",
    "c"
   ]
  },
  {
   "cell_type": "code",
   "execution_count": 10,
   "id": "a2f72a61-43be-4470-9442-7c6d3e4257c4",
   "metadata": {},
   "outputs": [
    {
     "data": {
      "text/plain": [
       "Counter({'a': 4, 'b': 3})"
      ]
     },
     "execution_count": 10,
     "metadata": {},
     "output_type": "execute_result"
    }
   ],
   "source": [
    "c = Counter(a=3, b=1)\n",
    "d = Counter(a=1, b=2)\n",
    "c + d                  "
   ]
  },
  {
   "cell_type": "code",
   "execution_count": 11,
   "id": "0c446a53-a600-4fdd-8494-33066e3a2dc8",
   "metadata": {},
   "outputs": [
    {
     "data": {
      "text/plain": [
       "Counter({'a': 2})"
      ]
     },
     "execution_count": 11,
     "metadata": {},
     "output_type": "execute_result"
    }
   ],
   "source": [
    "c - d "
   ]
  },
  {
   "cell_type": "code",
   "execution_count": 12,
   "id": "f7e6c0f7-73d5-473c-9a11-36f9135155d5",
   "metadata": {},
   "outputs": [
    {
     "data": {
      "text/plain": [
       "Counter({'a': 1, 'b': 1})"
      ]
     },
     "execution_count": 12,
     "metadata": {},
     "output_type": "execute_result"
    }
   ],
   "source": [
    "c & d"
   ]
  },
  {
   "cell_type": "code",
   "execution_count": 13,
   "id": "05dcd9a0-4886-40c1-9faf-eac48c7c7f6b",
   "metadata": {},
   "outputs": [
    {
     "data": {
      "text/plain": [
       "Counter({'a': 3, 'b': 2})"
      ]
     },
     "execution_count": 13,
     "metadata": {},
     "output_type": "execute_result"
    }
   ],
   "source": [
    "c | d"
   ]
  },
  {
   "cell_type": "code",
   "execution_count": 14,
   "id": "ba4a8326-e99c-4d77-a772-38db08c33c31",
   "metadata": {},
   "outputs": [
    {
     "data": {
      "text/plain": [
       "False"
      ]
     },
     "execution_count": 14,
     "metadata": {},
     "output_type": "execute_result"
    }
   ],
   "source": [
    "c == d"
   ]
  },
  {
   "cell_type": "code",
   "execution_count": 16,
   "id": "30aa945b-4f1e-4381-b96f-8caa9528ab78",
   "metadata": {},
   "outputs": [
    {
     "data": {
      "text/plain": [
       "Counter({'a': 2})"
      ]
     },
     "execution_count": 16,
     "metadata": {},
     "output_type": "execute_result"
    }
   ],
   "source": [
    "c = Counter(a=2, b=-4)\n",
    "+c"
   ]
  },
  {
   "cell_type": "code",
   "execution_count": 17,
   "id": "d01828ab-d21d-4863-8f04-7e972703d9a9",
   "metadata": {},
   "outputs": [
    {
     "data": {
      "text/plain": [
       "Counter({'b': 4})"
      ]
     },
     "execution_count": 17,
     "metadata": {},
     "output_type": "execute_result"
    }
   ],
   "source": [
    "-c"
   ]
  },
  {
   "cell_type": "markdown",
   "id": "d463882f-583f-409e-8725-3a0ef6bce033",
   "metadata": {},
   "source": [
    "Deque\n",
    "---"
   ]
  },
  {
   "cell_type": "code",
   "execution_count": 18,
   "id": "edbf0887-48ec-4077-ab3d-51297fa51c16",
   "metadata": {},
   "outputs": [],
   "source": [
    "from collections import deque"
   ]
  },
  {
   "cell_type": "code",
   "execution_count": 19,
   "id": "f30ab587-f287-4d35-9a19-4904f79fef57",
   "metadata": {},
   "outputs": [
    {
     "name": "stdout",
     "output_type": "stream",
     "text": [
      "G\n",
      "H\n",
      "I\n"
     ]
    }
   ],
   "source": [
    "d = deque(\"ghi\")\n",
    "for elem in d:  # iterate over the deque's elements\n",
    "    print(elem.upper())"
   ]
  },
  {
   "cell_type": "code",
   "execution_count": 20,
   "id": "deca942e-c0ee-4567-8d6b-d3cf4ff5b017",
   "metadata": {},
   "outputs": [
    {
     "data": {
      "text/plain": [
       "deque(['f', 'g', 'h', 'i', 'j'])"
      ]
     },
     "execution_count": 20,
     "metadata": {},
     "output_type": "execute_result"
    }
   ],
   "source": [
    "d.append(\"j\")\n",
    "d.appendleft(\"f\") \n",
    "d "
   ]
  },
  {
   "cell_type": "code",
   "execution_count": 21,
   "id": "91121a24-7ad6-4fce-bf07-2bd13c624bf8",
   "metadata": {},
   "outputs": [
    {
     "data": {
      "text/plain": [
       "'j'"
      ]
     },
     "execution_count": 21,
     "metadata": {},
     "output_type": "execute_result"
    }
   ],
   "source": [
    "d.pop()"
   ]
  },
  {
   "cell_type": "code",
   "execution_count": 22,
   "id": "cb12a4c1-5208-4446-81e2-9d5d982da9a9",
   "metadata": {},
   "outputs": [
    {
     "data": {
      "text/plain": [
       "'f'"
      ]
     },
     "execution_count": 22,
     "metadata": {},
     "output_type": "execute_result"
    }
   ],
   "source": [
    "d.popleft()"
   ]
  },
  {
   "cell_type": "code",
   "execution_count": 23,
   "id": "ab5c8e24-53cf-4bd3-b152-4645e31e1095",
   "metadata": {},
   "outputs": [
    {
     "data": {
      "text/plain": [
       "['g', 'h', 'i']"
      ]
     },
     "execution_count": 23,
     "metadata": {},
     "output_type": "execute_result"
    }
   ],
   "source": [
    "list(d)"
   ]
  },
  {
   "cell_type": "code",
   "execution_count": 24,
   "id": "b67f01d9-d9ec-4984-8fbc-d6776c85c969",
   "metadata": {},
   "outputs": [
    {
     "data": {
      "text/plain": [
       "'g'"
      ]
     },
     "execution_count": 24,
     "metadata": {},
     "output_type": "execute_result"
    }
   ],
   "source": [
    "d[0]"
   ]
  },
  {
   "cell_type": "code",
   "execution_count": 25,
   "id": "299b4bf7-1887-45b4-a94e-12c13d981a5f",
   "metadata": {},
   "outputs": [
    {
     "data": {
      "text/plain": [
       "'i'"
      ]
     },
     "execution_count": 25,
     "metadata": {},
     "output_type": "execute_result"
    }
   ],
   "source": [
    "d[-1]"
   ]
  },
  {
   "cell_type": "code",
   "execution_count": 26,
   "id": "b7887f4d-3f96-4ba7-85af-51eafb18d192",
   "metadata": {},
   "outputs": [
    {
     "data": {
      "text/plain": [
       "['i', 'h', 'g']"
      ]
     },
     "execution_count": 26,
     "metadata": {},
     "output_type": "execute_result"
    }
   ],
   "source": [
    "list(reversed(d))"
   ]
  },
  {
   "cell_type": "code",
   "execution_count": 27,
   "id": "6d697d7d-a606-4cc0-b635-7f53309a32e7",
   "metadata": {},
   "outputs": [
    {
     "data": {
      "text/plain": [
       "True"
      ]
     },
     "execution_count": 27,
     "metadata": {},
     "output_type": "execute_result"
    }
   ],
   "source": [
    "\"h\" in d "
   ]
  },
  {
   "cell_type": "code",
   "execution_count": 28,
   "id": "7cb9a545-09be-4ff5-b0ea-35540cc4b3b5",
   "metadata": {},
   "outputs": [
    {
     "data": {
      "text/plain": [
       "deque(['g', 'h', 'i', 'j', 'k', 'l'])"
      ]
     },
     "execution_count": 28,
     "metadata": {},
     "output_type": "execute_result"
    }
   ],
   "source": [
    "d.extend(\"jkl\")\n",
    "d"
   ]
  },
  {
   "cell_type": "code",
   "execution_count": 29,
   "id": "63082f46-5451-4a20-a67b-79a64aa17a07",
   "metadata": {},
   "outputs": [
    {
     "data": {
      "text/plain": [
       "deque(['l', 'g', 'h', 'i', 'j', 'k'])"
      ]
     },
     "execution_count": 29,
     "metadata": {},
     "output_type": "execute_result"
    }
   ],
   "source": [
    "d.rotate(1)  \n",
    "d"
   ]
  },
  {
   "cell_type": "code",
   "execution_count": 30,
   "id": "c4649197-1471-4c62-803b-8fcee9f5355d",
   "metadata": {},
   "outputs": [
    {
     "data": {
      "text/plain": [
       "deque(['g', 'h', 'i', 'j', 'k', 'l'])"
      ]
     },
     "execution_count": 30,
     "metadata": {},
     "output_type": "execute_result"
    }
   ],
   "source": [
    "d.rotate(-1)\n",
    "d"
   ]
  },
  {
   "cell_type": "code",
   "execution_count": 31,
   "id": "01e267e9-28b3-4116-94ed-3e07a4de2719",
   "metadata": {},
   "outputs": [
    {
     "data": {
      "text/plain": [
       "deque(['l', 'k', 'j', 'i', 'h', 'g'])"
      ]
     },
     "execution_count": 31,
     "metadata": {},
     "output_type": "execute_result"
    }
   ],
   "source": [
    "deque(reversed(d))"
   ]
  },
  {
   "cell_type": "code",
   "execution_count": 32,
   "id": "122818da-fbf0-4c50-a41d-1d5dabbc2e16",
   "metadata": {},
   "outputs": [
    {
     "ename": "IndexError",
     "evalue": "pop from an empty deque",
     "output_type": "error",
     "traceback": [
      "\u001b[0;31m---------------------------------------------------------------------------\u001b[0m",
      "\u001b[0;31mIndexError\u001b[0m                                Traceback (most recent call last)",
      "Input \u001b[0;32mIn [32]\u001b[0m, in \u001b[0;36m<cell line: 2>\u001b[0;34m()\u001b[0m\n\u001b[1;32m      1\u001b[0m d\u001b[38;5;241m.\u001b[39mclear() \n\u001b[0;32m----> 2\u001b[0m \u001b[43md\u001b[49m\u001b[38;5;241;43m.\u001b[39;49m\u001b[43mpop\u001b[49m\u001b[43m(\u001b[49m\u001b[43m)\u001b[49m\n",
      "\u001b[0;31mIndexError\u001b[0m: pop from an empty deque"
     ]
    }
   ],
   "source": [
    "d.clear() \n",
    "d"
   ]
  },
  {
   "cell_type": "code",
   "execution_count": 33,
   "id": "38393389-e621-41c0-a6cd-61fe85fb2f54",
   "metadata": {},
   "outputs": [
    {
     "data": {
      "text/plain": [
       "deque(['c', 'b', 'a'])"
      ]
     },
     "execution_count": 33,
     "metadata": {},
     "output_type": "execute_result"
    }
   ],
   "source": [
    "d.extendleft(\"abc\")\n",
    "d"
   ]
  },
  {
   "cell_type": "code",
   "execution_count": null,
   "id": "7c421f99-b3ab-4474-ab6e-cf7e333d82ba",
   "metadata": {},
   "outputs": [],
   "source": [
    "def tail(filename, n=10):\n",
    "    'Return the last n lines of a file'\n",
    "    with open(filename) as f:\n",
    "        return deque(f, n)"
   ]
  },
  {
   "cell_type": "code",
   "execution_count": null,
   "id": "06ebc8e5-d816-429c-862b-72174e427209",
   "metadata": {},
   "outputs": [],
   "source": [
    "def delete_nth(d, n):\n",
    "    d.rotate(-n)\n",
    "    d.popleft()\n",
    "    d.rotate(n)\n",
    "    \n"
   ]
  },
  {
   "cell_type": "markdown",
   "id": "968b4e1e-1a31-4f5c-bf9d-786f55d89f5d",
   "metadata": {},
   "source": [
    "defaultdict\n",
    "---"
   ]
  },
  {
   "cell_type": "code",
   "execution_count": 36,
   "id": "cd34c5a2-b3ee-43ad-a160-1cac720c1ce5",
   "metadata": {},
   "outputs": [
    {
     "data": {
      "text/plain": [
       "[('blue', [2, 4]), ('red', [1]), ('yellow', [1, 3])]"
      ]
     },
     "execution_count": 36,
     "metadata": {},
     "output_type": "execute_result"
    }
   ],
   "source": [
    "from collections import defaultdict\n",
    "\n",
    "s = [('yellow', 1), ('blue', 2), ('yellow', 3), ('blue', 4), ('red', 1)]\n",
    "d = defaultdict(list)\n",
    "for k, v in s:\n",
    "    d[k].append(v)\n",
    "    \n",
    "sorted(d.items())"
   ]
  },
  {
   "cell_type": "code",
   "execution_count": 38,
   "id": "766c3e97-7835-4279-ab27-5e32857b9df2",
   "metadata": {},
   "outputs": [
    {
     "data": {
      "text/plain": [
       "[('blue', [2, 4]), ('red', [1]), ('yellow', [1, 3])]"
      ]
     },
     "execution_count": 38,
     "metadata": {},
     "output_type": "execute_result"
    }
   ],
   "source": [
    "d = {}\n",
    "for k, v in s:\n",
    "    d.setdefault(k, []).append(v)\n",
    "\n",
    "sorted(d.items())"
   ]
  },
  {
   "cell_type": "code",
   "execution_count": 39,
   "id": "088775b2-ad36-472e-bec1-508528ccb987",
   "metadata": {},
   "outputs": [
    {
     "data": {
      "text/plain": [
       "[('i', 4), ('m', 1), ('p', 2), ('s', 4)]"
      ]
     },
     "execution_count": 39,
     "metadata": {},
     "output_type": "execute_result"
    }
   ],
   "source": [
    "s = 'mississippi'\n",
    "d = defaultdict(int)\n",
    "for k in s:\n",
    "    d[k] += 1\n",
    "\n",
    "sorted(d.items())"
   ]
  },
  {
   "cell_type": "markdown",
   "id": "fd697b5b-c84e-48d8-b839-92e168e3050f",
   "metadata": {},
   "source": [
    "namedtuple\n",
    "---"
   ]
  },
  {
   "cell_type": "code",
   "execution_count": 41,
   "id": "40f87b14-fe28-4d89-bf32-341cc4bdca93",
   "metadata": {},
   "outputs": [
    {
     "data": {
      "text/plain": [
       "33"
      ]
     },
     "execution_count": 41,
     "metadata": {},
     "output_type": "execute_result"
    }
   ],
   "source": [
    "from collections import namedtuple\n",
    "\n",
    "Point = namedtuple('Point', ['x', 'y'])\n",
    "p = Point(11, y=22)  \n",
    "p[0] + p[1]          "
   ]
  },
  {
   "cell_type": "code",
   "execution_count": null,
   "id": "a001bf1b-6a67-460f-ab0b-02a700ffc549",
   "metadata": {},
   "outputs": [],
   "source": [
    "x, y = p             \n",
    "x, y"
   ]
  },
  {
   "cell_type": "code",
   "execution_count": null,
   "id": "96bfb729-7719-4b38-b983-8fdbbe445a19",
   "metadata": {},
   "outputs": [],
   "source": [
    "p.x + p.y            "
   ]
  },
  {
   "cell_type": "code",
   "execution_count": null,
   "id": "6dc1742a-98e8-4231-b05f-3a538e3a7e48",
   "metadata": {},
   "outputs": [],
   "source": [
    "p                    "
   ]
  },
  {
   "cell_type": "code",
   "execution_count": null,
   "id": "0f3b37a6-fc16-4b86-98a3-5b2474d4e5b8",
   "metadata": {},
   "outputs": [],
   "source": []
  },
  {
   "cell_type": "code",
   "execution_count": null,
   "id": "39f5cb47-14f1-429d-8a93-c510b3ce0213",
   "metadata": {},
   "outputs": [],
   "source": []
  },
  {
   "cell_type": "code",
   "execution_count": null,
   "id": "e7619fac-f779-461b-a75f-ebbdd212fd90",
   "metadata": {},
   "outputs": [],
   "source": []
  },
  {
   "cell_type": "code",
   "execution_count": null,
   "id": "9e57a5f3-906d-4cde-8051-caea659e4a55",
   "metadata": {},
   "outputs": [],
   "source": []
  },
  {
   "cell_type": "code",
   "execution_count": null,
   "id": "985c26cd-83fb-4712-a6ec-8ae6b3c58b1d",
   "metadata": {},
   "outputs": [],
   "source": []
  },
  {
   "cell_type": "code",
   "execution_count": null,
   "id": "01d88a14-fe7c-40eb-a7e5-99b0e589cc5a",
   "metadata": {},
   "outputs": [],
   "source": []
  },
  {
   "cell_type": "code",
   "execution_count": null,
   "id": "0a83506e-fcf0-4108-aaf7-a063ade4d15c",
   "metadata": {},
   "outputs": [],
   "source": []
  }
 ],
 "metadata": {
  "kernelspec": {
   "display_name": "Python 3 (ipykernel)",
   "language": "python",
   "name": "python3"
  },
  "language_info": {
   "codemirror_mode": {
    "name": "ipython",
    "version": 3
   },
   "file_extension": ".py",
   "mimetype": "text/x-python",
   "name": "python",
   "nbconvert_exporter": "python",
   "pygments_lexer": "ipython3",
   "version": "3.8.10"
  }
 },
 "nbformat": 4,
 "nbformat_minor": 5
}
