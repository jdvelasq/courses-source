{
 "cells": [
  {
   "cell_type": "markdown",
   "id": "3979a969-d057-4af7-bcaf-c0bdcfceb61f",
   "metadata": {},
   "source": [
    "Librería pathlib (paths orientadas a objetos)\n",
    "===\n",
    "\n",
    "* Última modificación: Mayo 13, 2022"
   ]
  },
  {
   "cell_type": "markdown",
   "id": "4ab1737d-187f-4ff0-95a2-5aa92b840378",
   "metadata": {},
   "source": [
    "Permite representar el path en el sistema de archivos del sistema operativo."
   ]
  },
  {
   "cell_type": "markdown",
   "id": "2131fb89-601a-45ae-add3-282fa0c719d6",
   "metadata": {},
   "source": [
    "Tabla de equivalencias\n",
    "---"
   ]
  },
  {
   "cell_type": "markdown",
   "id": "b627c256-abbb-42c5-ad5a-b580d9a4d5c8",
   "metadata": {},
   "source": [
    "```\n",
    "os & os.path              pathlib\n",
    "------------------------------------------------\n",
    "os.mkdir()                Path.mkdir()\n",
    "os.makedirs()             Path.mkdir()\n",
    "os.rename()               Path.rename()\n",
    "os.replace()              Path.replace()\n",
    "os.rmdir()                Path.rmdir()\n",
    "os.remove()               Path.unlink()\n",
    "os.getcwd()               Path.cwd()\n",
    "os.path.exists()          Path.exists()\n",
    "os.listdir()              Path.iterdir()\n",
    "os.path.isdir()           Path.is_dir()\n",
    "os.path.isfile()          Path.is_file()\n",
    "os.path.join()            PurePath.joinpath()\n",
    "os.path.basename()        PurePath.name()\n",
    "os.path.dirname()         PurePath.parent\n",
    "os.path.splittext()       PurePath.suffix\n",
    "\n",
    "```"
   ]
  },
  {
   "cell_type": "markdown",
   "id": "a1d0fd71-c060-4baa-98ce-b3ee553ca50c",
   "metadata": {},
   "source": [
    "Importación\n",
    "---"
   ]
  },
  {
   "cell_type": "code",
   "execution_count": 1,
   "id": "322c1acc-655b-48de-bf40-8ce94fab1293",
   "metadata": {},
   "outputs": [],
   "source": [
    "from pathlib import Path, PurePath, PureWindowsPath, PurePosixPath, PosixPath"
   ]
  },
  {
   "cell_type": "markdown",
   "id": "819eeddd-aa33-44b5-8882-8215bae140bd",
   "metadata": {},
   "source": [
    "Uso básico\n",
    "---"
   ]
  },
  {
   "cell_type": "code",
   "execution_count": 2,
   "id": "bbfe9a2d-d791-4a99-8a8c-632dd75f4d6f",
   "metadata": {},
   "outputs": [
    {
     "data": {
      "text/plain": [
       "[PosixPath('.ipynb_checkpoints'), PosixPath('assets')]"
      ]
     },
     "execution_count": 2,
     "metadata": {},
     "output_type": "execute_result"
    }
   ],
   "source": [
    "#\n",
    "# Subdirectorios\n",
    "#\n",
    "p = Path(\".\")\n",
    "[x for x in p.iterdir() if x.is_dir()]"
   ]
  },
  {
   "cell_type": "code",
   "execution_count": 3,
   "id": "2f25691d-a6d7-4599-a784-906e3865c777",
   "metadata": {},
   "outputs": [
    {
     "data": {
      "text/plain": [
       "[PosixPath('1-01_datetime.ipynb'),\n",
       " PosixPath('1-02-re.ipynb'),\n",
       " PosixPath('1-03_os.ipynb'),\n",
       " PosixPath('1-04_glob.ipynb'),\n",
       " PosixPath('1-05_collections.ipynb'),\n",
       " PosixPath('1-06_logging.ipynb'),\n",
       " PosixPath('1-07_ppring.ipynb'),\n",
       " PosixPath('1-08_itertools.ipynb'),\n",
       " PosixPath('1-09_pathlib.ipynb'),\n",
       " PosixPath('.ipynb_checkpoints/1-01_datetime-checkpoint.ipynb'),\n",
       " PosixPath('.ipynb_checkpoints/1-02-re-checkpoint.ipynb'),\n",
       " PosixPath('.ipynb_checkpoints/1-03_os-checkpoint.ipynb'),\n",
       " PosixPath('.ipynb_checkpoints/1-04_glob-checkpoint.ipynb'),\n",
       " PosixPath('.ipynb_checkpoints/1-06_logging-checkpoint.ipynb'),\n",
       " PosixPath('.ipynb_checkpoints/1-07_ppring-checkpoint.ipynb'),\n",
       " PosixPath('.ipynb_checkpoints/1-08_itertools-checkpoint.ipynb'),\n",
       " PosixPath('.ipynb_checkpoints/1-09_pathlib-checkpoint.ipynb')]"
      ]
     },
     "execution_count": 3,
     "metadata": {},
     "output_type": "execute_result"
    }
   ],
   "source": [
    "#\n",
    "# Listado de archivos de código fuente en el árbol de directorios\n",
    "#\n",
    "list(p.glob(\"**/*.ipynb\"))"
   ]
  },
  {
   "cell_type": "code",
   "execution_count": 4,
   "id": "02f29ce7-5bcb-41bf-8c24-e04b968a721d",
   "metadata": {},
   "outputs": [
    {
     "data": {
      "text/plain": [
       "PosixPath('/etc/init.d/reboot')"
      ]
     },
     "execution_count": 4,
     "metadata": {},
     "output_type": "execute_result"
    }
   ],
   "source": [
    "#\n",
    "# Navegación\n",
    "#\n",
    "p = Path(\"/etc\")\n",
    "q = p / \"init.d\" / \"reboot\"\n",
    "q"
   ]
  },
  {
   "cell_type": "code",
   "execution_count": 5,
   "id": "75601207-a495-4b36-a17e-79c209daa66e",
   "metadata": {},
   "outputs": [
    {
     "data": {
      "text/plain": [
       "PosixPath('/etc/init.d/reboot')"
      ]
     },
     "execution_count": 5,
     "metadata": {},
     "output_type": "execute_result"
    }
   ],
   "source": [
    "q.resolve()"
   ]
  },
  {
   "cell_type": "code",
   "execution_count": 6,
   "id": "099fbeb5-7df6-49e4-9de5-87d614bf4d55",
   "metadata": {},
   "outputs": [
    {
     "data": {
      "text/plain": [
       "False"
      ]
     },
     "execution_count": 6,
     "metadata": {},
     "output_type": "execute_result"
    }
   ],
   "source": [
    "#\n",
    "# Existe?\n",
    "#\n",
    "q.exists()"
   ]
  },
  {
   "cell_type": "code",
   "execution_count": 7,
   "id": "1a43b53c-d070-4c01-839e-1f8f018c3442",
   "metadata": {},
   "outputs": [
    {
     "data": {
      "text/plain": [
       "False"
      ]
     },
     "execution_count": 7,
     "metadata": {},
     "output_type": "execute_result"
    }
   ],
   "source": [
    "#\n",
    "# Es directorio?\n",
    "#\n",
    "q.is_dir()"
   ]
  },
  {
   "cell_type": "markdown",
   "id": "bc94d718-e2ae-49cf-ae9a-6beed91287b0",
   "metadata": {},
   "source": [
    "Pure paths\n",
    "---"
   ]
  },
  {
   "cell_type": "code",
   "execution_count": 8,
   "id": "10cb5f24-afd0-40f1-aaf6-c243eaa6de59",
   "metadata": {},
   "outputs": [
    {
     "data": {
      "text/plain": [
       "PurePosixPath('setup.py')"
      ]
     },
     "execution_count": 8,
     "metadata": {},
     "output_type": "execute_result"
    }
   ],
   "source": [
    "PurePath(\"setup.py\")"
   ]
  },
  {
   "cell_type": "code",
   "execution_count": 9,
   "id": "b94ddccb-27cb-4904-a4a8-8aed556e86eb",
   "metadata": {},
   "outputs": [
    {
     "data": {
      "text/plain": [
       "PurePosixPath('foo/some/path/bar')"
      ]
     },
     "execution_count": 9,
     "metadata": {},
     "output_type": "execute_result"
    }
   ],
   "source": [
    "PurePath(\"foo\", \"some/path\", \"bar\")"
   ]
  },
  {
   "cell_type": "code",
   "execution_count": 10,
   "id": "76795998-df50-417a-b969-929ff6d26465",
   "metadata": {},
   "outputs": [
    {
     "data": {
      "text/plain": [
       "PurePosixPath('foo/bar')"
      ]
     },
     "execution_count": 10,
     "metadata": {},
     "output_type": "execute_result"
    }
   ],
   "source": [
    "PurePath(\n",
    "    Path(\"foo\"),\n",
    "    Path(\"bar\"),\n",
    ")"
   ]
  },
  {
   "cell_type": "code",
   "execution_count": 11,
   "id": "27579b0a-1bcd-43e2-b815-a110f8577f2a",
   "metadata": {},
   "outputs": [
    {
     "data": {
      "text/plain": [
       "PurePosixPath('.')"
      ]
     },
     "execution_count": 11,
     "metadata": {},
     "output_type": "execute_result"
    }
   ],
   "source": [
    "PurePath()"
   ]
  },
  {
   "cell_type": "code",
   "execution_count": 12,
   "id": "03ca1176-4602-4464-80fd-3f5d1400192d",
   "metadata": {},
   "outputs": [
    {
     "data": {
      "text/plain": [
       "PurePosixPath('/usr/lib64')"
      ]
     },
     "execution_count": 12,
     "metadata": {},
     "output_type": "execute_result"
    }
   ],
   "source": [
    "PurePath('/etc', '/usr', 'lib64')"
   ]
  },
  {
   "cell_type": "code",
   "execution_count": 13,
   "id": "9a466e22-4103-4888-860b-98b56ceea24c",
   "metadata": {},
   "outputs": [
    {
     "data": {
      "text/plain": [
       "PureWindowsPath('d:bar')"
      ]
     },
     "execution_count": 13,
     "metadata": {},
     "output_type": "execute_result"
    }
   ],
   "source": [
    "PureWindowsPath('c:/Windows', 'd:bar')"
   ]
  },
  {
   "cell_type": "code",
   "execution_count": 14,
   "id": "2e2fa6e1-fd29-4f50-a89f-dad171a2a7bc",
   "metadata": {},
   "outputs": [
    {
     "data": {
      "text/plain": [
       "PureWindowsPath('c:/Program Files')"
      ]
     },
     "execution_count": 14,
     "metadata": {},
     "output_type": "execute_result"
    }
   ],
   "source": [
    "PureWindowsPath('c:/Windows', '/Program Files')"
   ]
  },
  {
   "cell_type": "code",
   "execution_count": 15,
   "id": "409b0d75-6c11-4759-80ec-58ba88a5080e",
   "metadata": {},
   "outputs": [
    {
     "data": {
      "text/plain": [
       "PurePosixPath('foo/bar')"
      ]
     },
     "execution_count": 15,
     "metadata": {},
     "output_type": "execute_result"
    }
   ],
   "source": [
    "PurePath('foo//bar')"
   ]
  },
  {
   "cell_type": "code",
   "execution_count": 16,
   "id": "29e2edfd-4621-4c6b-ad6b-4f257b054dbd",
   "metadata": {},
   "outputs": [
    {
     "data": {
      "text/plain": [
       "PurePosixPath('foo/bar')"
      ]
     },
     "execution_count": 16,
     "metadata": {},
     "output_type": "execute_result"
    }
   ],
   "source": [
    "PurePath('foo/./bar')"
   ]
  },
  {
   "cell_type": "code",
   "execution_count": 17,
   "id": "5ecb8da2-ff96-413a-8af5-303bbf5374df",
   "metadata": {},
   "outputs": [
    {
     "data": {
      "text/plain": [
       "PurePosixPath('foo/../bar')"
      ]
     },
     "execution_count": 17,
     "metadata": {},
     "output_type": "execute_result"
    }
   ],
   "source": [
    "PurePath('foo/../bar')"
   ]
  },
  {
   "cell_type": "code",
   "execution_count": 18,
   "id": "bfe24814-0a6c-474d-a0d1-d2dfc329df87",
   "metadata": {},
   "outputs": [
    {
     "data": {
      "text/plain": [
       "PurePosixPath('/etc')"
      ]
     },
     "execution_count": 18,
     "metadata": {},
     "output_type": "execute_result"
    }
   ],
   "source": [
    "PurePosixPath('/etc')"
   ]
  },
  {
   "cell_type": "code",
   "execution_count": 19,
   "id": "fb902685-5bb1-450a-a69b-f238a67c4d92",
   "metadata": {},
   "outputs": [
    {
     "data": {
      "text/plain": [
       "PureWindowsPath('c:/Program Files')"
      ]
     },
     "execution_count": 19,
     "metadata": {},
     "output_type": "execute_result"
    }
   ],
   "source": [
    "PureWindowsPath('c:/Program Files/')"
   ]
  },
  {
   "cell_type": "markdown",
   "id": "eddb6c62-406c-4bb4-be8e-b1eed905eae7",
   "metadata": {},
   "source": [
    "Propiedades Generales\n",
    "--"
   ]
  },
  {
   "cell_type": "code",
   "execution_count": 20,
   "id": "6282e548-49f6-4095-8cc2-f95d6407ad58",
   "metadata": {},
   "outputs": [
    {
     "data": {
      "text/plain": [
       "False"
      ]
     },
     "execution_count": 20,
     "metadata": {},
     "output_type": "execute_result"
    }
   ],
   "source": [
    "PurePosixPath('foo') == PurePosixPath('FOO')"
   ]
  },
  {
   "cell_type": "code",
   "execution_count": 21,
   "id": "84a64dad-7748-45a5-a249-fc5d35d7e3f4",
   "metadata": {},
   "outputs": [
    {
     "data": {
      "text/plain": [
       "True"
      ]
     },
     "execution_count": 21,
     "metadata": {},
     "output_type": "execute_result"
    }
   ],
   "source": [
    "PureWindowsPath('foo') == PureWindowsPath('FOO')"
   ]
  },
  {
   "cell_type": "code",
   "execution_count": 22,
   "id": "112e0362-9d96-4329-be34-bc39920ecf98",
   "metadata": {},
   "outputs": [
    {
     "data": {
      "text/plain": [
       "True"
      ]
     },
     "execution_count": 22,
     "metadata": {},
     "output_type": "execute_result"
    }
   ],
   "source": [
    "PureWindowsPath('FOO') in { PureWindowsPath('foo') }"
   ]
  },
  {
   "cell_type": "code",
   "execution_count": 23,
   "id": "93e59a5e-8ec5-4b33-b600-61241b81933b",
   "metadata": {},
   "outputs": [
    {
     "data": {
      "text/plain": [
       "True"
      ]
     },
     "execution_count": 23,
     "metadata": {},
     "output_type": "execute_result"
    }
   ],
   "source": [
    "PureWindowsPath('C:') < PureWindowsPath('d:')"
   ]
  },
  {
   "cell_type": "markdown",
   "id": "143fed8c-66af-4569-a690-af1f76891ba2",
   "metadata": {},
   "source": [
    "Operadores\n",
    "---"
   ]
  },
  {
   "cell_type": "code",
   "execution_count": 24,
   "id": "c0536d86-c2e1-42d0-be9f-8a4704edfdc2",
   "metadata": {},
   "outputs": [
    {
     "data": {
      "text/plain": [
       "PurePosixPath('/etc')"
      ]
     },
     "execution_count": 24,
     "metadata": {},
     "output_type": "execute_result"
    }
   ],
   "source": [
    "p = PurePath('/etc')\n",
    "p"
   ]
  },
  {
   "cell_type": "code",
   "execution_count": 25,
   "id": "a6ad4b9c-a501-425d-8570-8328cce9766a",
   "metadata": {},
   "outputs": [
    {
     "data": {
      "text/plain": [
       "PurePosixPath('/etc/init.d/apache2')"
      ]
     },
     "execution_count": 25,
     "metadata": {},
     "output_type": "execute_result"
    }
   ],
   "source": [
    "p / 'init.d' / 'apache2'"
   ]
  },
  {
   "cell_type": "code",
   "execution_count": 26,
   "id": "a12859d9-9ea2-46af-9be2-438fbf1270c4",
   "metadata": {},
   "outputs": [
    {
     "data": {
      "text/plain": [
       "PurePosixPath('/usr/bin')"
      ]
     },
     "execution_count": 26,
     "metadata": {},
     "output_type": "execute_result"
    }
   ],
   "source": [
    "q = PurePath('bin')\n",
    "'/usr' / q"
   ]
  },
  {
   "cell_type": "code",
   "execution_count": 27,
   "id": "6fac89a4-15c5-404a-98b8-d4785436cec7",
   "metadata": {},
   "outputs": [
    {
     "data": {
      "text/plain": [
       "'/etc'"
      ]
     },
     "execution_count": 27,
     "metadata": {},
     "output_type": "execute_result"
    }
   ],
   "source": [
    "import os\n",
    "\n",
    "p = PurePath('/etc')\n",
    "os.fspath(p)"
   ]
  },
  {
   "cell_type": "code",
   "execution_count": 28,
   "id": "65162e37-82ed-484b-8ffe-01e3ade2be54",
   "metadata": {},
   "outputs": [
    {
     "data": {
      "text/plain": [
       "'/etc'"
      ]
     },
     "execution_count": 28,
     "metadata": {},
     "output_type": "execute_result"
    }
   ],
   "source": [
    "p = PurePath('/etc')\n",
    "str(p)"
   ]
  },
  {
   "cell_type": "code",
   "execution_count": 29,
   "id": "4c1a8e23-9c81-4be0-bd04-940f5c5e97e1",
   "metadata": {},
   "outputs": [
    {
     "data": {
      "text/plain": [
       "'c:\\\\Program Files'"
      ]
     },
     "execution_count": 29,
     "metadata": {},
     "output_type": "execute_result"
    }
   ],
   "source": [
    "p = PureWindowsPath('c:/Program Files')\n",
    "str(p)"
   ]
  },
  {
   "cell_type": "markdown",
   "id": "903e2a70-f267-485b-8e81-0f8bd74f708b",
   "metadata": {},
   "source": [
    "Acceso a partes individuales\n",
    "---"
   ]
  },
  {
   "cell_type": "code",
   "execution_count": 30,
   "id": "519e46e1-5d75-44ae-b0c2-26abd1654599",
   "metadata": {},
   "outputs": [
    {
     "data": {
      "text/plain": [
       "'c:'"
      ]
     },
     "execution_count": 30,
     "metadata": {},
     "output_type": "execute_result"
    }
   ],
   "source": [
    "PureWindowsPath('c:/Program Files/').drive"
   ]
  },
  {
   "cell_type": "code",
   "execution_count": 31,
   "id": "55acd720-657d-46a6-a298-d8c071c52bff",
   "metadata": {},
   "outputs": [
    {
     "data": {
      "text/plain": [
       "''"
      ]
     },
     "execution_count": 31,
     "metadata": {},
     "output_type": "execute_result"
    }
   ],
   "source": [
    "PureWindowsPath('/Program Files/').drive"
   ]
  },
  {
   "cell_type": "code",
   "execution_count": 32,
   "id": "c8f61bbf-50a4-4499-92be-996aac06ed61",
   "metadata": {},
   "outputs": [
    {
     "data": {
      "text/plain": [
       "''"
      ]
     },
     "execution_count": 32,
     "metadata": {},
     "output_type": "execute_result"
    }
   ],
   "source": [
    "PurePosixPath('/etc').drive"
   ]
  },
  {
   "cell_type": "code",
   "execution_count": 33,
   "id": "a29a4b49-c167-4943-83ca-9b131202969f",
   "metadata": {},
   "outputs": [
    {
     "data": {
      "text/plain": [
       "'\\\\'"
      ]
     },
     "execution_count": 33,
     "metadata": {},
     "output_type": "execute_result"
    }
   ],
   "source": [
    "PureWindowsPath('c:/Program Files/').root"
   ]
  },
  {
   "cell_type": "code",
   "execution_count": 34,
   "id": "abb70f6f-5ef9-48ad-974e-6391257b8311",
   "metadata": {},
   "outputs": [
    {
     "data": {
      "text/plain": [
       "''"
      ]
     },
     "execution_count": 34,
     "metadata": {},
     "output_type": "execute_result"
    }
   ],
   "source": [
    "PureWindowsPath('c:Program Files/').root"
   ]
  },
  {
   "cell_type": "code",
   "execution_count": 35,
   "id": "1c1fa1d3-cf48-4b6b-a2c9-0a5f0a349fdc",
   "metadata": {},
   "outputs": [
    {
     "data": {
      "text/plain": [
       "'\\\\'"
      ]
     },
     "execution_count": 35,
     "metadata": {},
     "output_type": "execute_result"
    }
   ],
   "source": [
    "PureWindowsPath('//host/share').root"
   ]
  },
  {
   "cell_type": "code",
   "execution_count": 36,
   "id": "afc987b9-c39f-4a2e-8f97-3d23eb19681c",
   "metadata": {},
   "outputs": [
    {
     "data": {
      "text/plain": [
       "'c:\\\\'"
      ]
     },
     "execution_count": 36,
     "metadata": {},
     "output_type": "execute_result"
    }
   ],
   "source": [
    "PureWindowsPath('c:/Program Files/').anchor"
   ]
  },
  {
   "cell_type": "code",
   "execution_count": 37,
   "id": "9c85c2e0-4b8f-4697-8d83-7894c75c6aca",
   "metadata": {},
   "outputs": [
    {
     "data": {
      "text/plain": [
       "'c:'"
      ]
     },
     "execution_count": 37,
     "metadata": {},
     "output_type": "execute_result"
    }
   ],
   "source": [
    "PureWindowsPath('c:Program Files/').anchor"
   ]
  },
  {
   "cell_type": "code",
   "execution_count": 38,
   "id": "87a20e06-b706-42c8-b019-2578e41fb4c9",
   "metadata": {},
   "outputs": [
    {
     "data": {
      "text/plain": [
       "'/'"
      ]
     },
     "execution_count": 38,
     "metadata": {},
     "output_type": "execute_result"
    }
   ],
   "source": [
    "PurePosixPath('/etc').anchor"
   ]
  },
  {
   "cell_type": "code",
   "execution_count": 39,
   "id": "c229ad4c-5bbe-41c2-837d-540a61125715",
   "metadata": {},
   "outputs": [
    {
     "data": {
      "text/plain": [
       "'\\\\\\\\host\\\\share\\\\'"
      ]
     },
     "execution_count": 39,
     "metadata": {},
     "output_type": "execute_result"
    }
   ],
   "source": [
    "PureWindowsPath('//host/share').anchor"
   ]
  },
  {
   "cell_type": "code",
   "execution_count": 40,
   "id": "b65140ee-08be-4d33-a5b6-3d61c207d4b9",
   "metadata": {},
   "outputs": [
    {
     "data": {
      "text/plain": [
       "PureWindowsPath('c:/foo/bar')"
      ]
     },
     "execution_count": 40,
     "metadata": {},
     "output_type": "execute_result"
    }
   ],
   "source": [
    "p = PureWindowsPath('c:/foo/bar/setup.py')\n",
    "p.parents[0]"
   ]
  },
  {
   "cell_type": "code",
   "execution_count": 41,
   "id": "089c06a4-d0ff-443b-9228-9d445ef8a15c",
   "metadata": {},
   "outputs": [
    {
     "data": {
      "text/plain": [
       "PureWindowsPath('c:/foo')"
      ]
     },
     "execution_count": 41,
     "metadata": {},
     "output_type": "execute_result"
    }
   ],
   "source": [
    "p.parents[1]"
   ]
  },
  {
   "cell_type": "code",
   "execution_count": 42,
   "id": "ddfd584d-1f2c-4e6d-907f-fb6ff49758a1",
   "metadata": {},
   "outputs": [
    {
     "data": {
      "text/plain": [
       "PureWindowsPath('c:/')"
      ]
     },
     "execution_count": 42,
     "metadata": {},
     "output_type": "execute_result"
    }
   ],
   "source": [
    "p.parents[2]"
   ]
  },
  {
   "cell_type": "code",
   "execution_count": 43,
   "id": "e23843d8-78e5-46f6-ac12-632eb18dfa26",
   "metadata": {},
   "outputs": [
    {
     "data": {
      "text/plain": [
       "PurePosixPath('/a/b/c')"
      ]
     },
     "execution_count": 43,
     "metadata": {},
     "output_type": "execute_result"
    }
   ],
   "source": [
    "p = PurePosixPath('/a/b/c/d')\n",
    "p.parent"
   ]
  },
  {
   "cell_type": "code",
   "execution_count": 44,
   "id": "eb831c8f-6761-4188-b2e7-c6c50cbe8a29",
   "metadata": {},
   "outputs": [
    {
     "data": {
      "text/plain": [
       "PurePosixPath('/')"
      ]
     },
     "execution_count": 44,
     "metadata": {},
     "output_type": "execute_result"
    }
   ],
   "source": [
    "p = PurePosixPath('/')\n",
    "p.parent"
   ]
  },
  {
   "cell_type": "code",
   "execution_count": 45,
   "id": "c8961822-ce50-41cd-860e-967aa47d4e64",
   "metadata": {},
   "outputs": [
    {
     "data": {
      "text/plain": [
       "PurePosixPath('.')"
      ]
     },
     "execution_count": 45,
     "metadata": {},
     "output_type": "execute_result"
    }
   ],
   "source": [
    "p = PurePosixPath('.')\n",
    "p.parent"
   ]
  },
  {
   "cell_type": "code",
   "execution_count": 46,
   "id": "87a9c807-f933-4a0c-b841-ec3e7e50b5f3",
   "metadata": {},
   "outputs": [
    {
     "data": {
      "text/plain": [
       "'setup.py'"
      ]
     },
     "execution_count": 46,
     "metadata": {},
     "output_type": "execute_result"
    }
   ],
   "source": [
    "PurePosixPath('my/library/setup.py').name"
   ]
  },
  {
   "cell_type": "code",
   "execution_count": 47,
   "id": "b144f762-a228-4f8c-b58c-dddb21cef27b",
   "metadata": {},
   "outputs": [
    {
     "data": {
      "text/plain": [
       "'setup.py'"
      ]
     },
     "execution_count": 47,
     "metadata": {},
     "output_type": "execute_result"
    }
   ],
   "source": [
    "PureWindowsPath('//some/share/setup.py').name"
   ]
  },
  {
   "cell_type": "code",
   "execution_count": 48,
   "id": "97a83965-ff52-4e14-9b0a-a922a03aefb2",
   "metadata": {},
   "outputs": [
    {
     "data": {
      "text/plain": [
       "''"
      ]
     },
     "execution_count": 48,
     "metadata": {},
     "output_type": "execute_result"
    }
   ],
   "source": [
    "PureWindowsPath('//some/share').name"
   ]
  },
  {
   "cell_type": "code",
   "execution_count": 49,
   "id": "6b9a3d76-7f33-47e3-a118-c8fabb0b6ae0",
   "metadata": {},
   "outputs": [
    {
     "data": {
      "text/plain": [
       "'.py'"
      ]
     },
     "execution_count": 49,
     "metadata": {},
     "output_type": "execute_result"
    }
   ],
   "source": [
    "PurePosixPath('my/library/setup.py').suffix"
   ]
  },
  {
   "cell_type": "code",
   "execution_count": 50,
   "id": "5d87e128-bfb7-4f92-9e4b-bc158f4468b7",
   "metadata": {},
   "outputs": [
    {
     "data": {
      "text/plain": [
       "'.gz'"
      ]
     },
     "execution_count": 50,
     "metadata": {},
     "output_type": "execute_result"
    }
   ],
   "source": [
    "PurePosixPath('my/library.tar.gz').suffix"
   ]
  },
  {
   "cell_type": "code",
   "execution_count": 51,
   "id": "18979bdd-c38b-455a-8c86-c47a2613c041",
   "metadata": {},
   "outputs": [
    {
     "data": {
      "text/plain": [
       "''"
      ]
     },
     "execution_count": 51,
     "metadata": {},
     "output_type": "execute_result"
    }
   ],
   "source": [
    "PurePosixPath('my/library').suffix"
   ]
  },
  {
   "cell_type": "code",
   "execution_count": 52,
   "id": "be6306cf-48a4-4844-b060-28d7f7b2c74c",
   "metadata": {},
   "outputs": [
    {
     "data": {
      "text/plain": [
       "['.tar', '.gar']"
      ]
     },
     "execution_count": 52,
     "metadata": {},
     "output_type": "execute_result"
    }
   ],
   "source": [
    "PurePosixPath('my/library.tar.gar').suffixes"
   ]
  },
  {
   "cell_type": "code",
   "execution_count": 53,
   "id": "84775cdc-98ed-45eb-90c1-4c57751c05b2",
   "metadata": {},
   "outputs": [
    {
     "data": {
      "text/plain": [
       "['.tar', '.gz']"
      ]
     },
     "execution_count": 53,
     "metadata": {},
     "output_type": "execute_result"
    }
   ],
   "source": [
    "PurePosixPath('my/library.tar.gz').suffixes"
   ]
  },
  {
   "cell_type": "code",
   "execution_count": 54,
   "id": "77febda9-06b3-4fb0-8532-e0abc2ea16df",
   "metadata": {},
   "outputs": [
    {
     "data": {
      "text/plain": [
       "[]"
      ]
     },
     "execution_count": 54,
     "metadata": {},
     "output_type": "execute_result"
    }
   ],
   "source": [
    "PurePosixPath('my/library').suffixes"
   ]
  },
  {
   "cell_type": "code",
   "execution_count": 55,
   "id": "067a8149-202d-4108-9679-6025794db9b4",
   "metadata": {},
   "outputs": [
    {
     "data": {
      "text/plain": [
       "'library.tar'"
      ]
     },
     "execution_count": 55,
     "metadata": {},
     "output_type": "execute_result"
    }
   ],
   "source": [
    "PurePosixPath('my/library.tar.gz').stem"
   ]
  },
  {
   "cell_type": "code",
   "execution_count": 56,
   "id": "c5cd8246-9876-42ef-91c6-efece3cdca87",
   "metadata": {},
   "outputs": [
    {
     "data": {
      "text/plain": [
       "'library'"
      ]
     },
     "execution_count": 56,
     "metadata": {},
     "output_type": "execute_result"
    }
   ],
   "source": [
    "PurePosixPath('my/library.tar').stem"
   ]
  },
  {
   "cell_type": "code",
   "execution_count": 57,
   "id": "8c4fe2b3-672c-450f-8afe-bd26adfb9326",
   "metadata": {},
   "outputs": [
    {
     "data": {
      "text/plain": [
       "'library'"
      ]
     },
     "execution_count": 57,
     "metadata": {},
     "output_type": "execute_result"
    }
   ],
   "source": [
    "PurePosixPath('my/library').stem"
   ]
  },
  {
   "cell_type": "code",
   "execution_count": 58,
   "id": "844820d5-1901-4013-b4e5-9c591116a1d5",
   "metadata": {},
   "outputs": [
    {
     "data": {
      "text/plain": [
       "PurePosixPath('/etc/passwd')"
      ]
     },
     "execution_count": 58,
     "metadata": {},
     "output_type": "execute_result"
    }
   ],
   "source": [
    "PurePosixPath('/etc').joinpath('passwd')"
   ]
  },
  {
   "cell_type": "code",
   "execution_count": 59,
   "id": "5174373b-01af-44f4-8ade-6772fea19320",
   "metadata": {},
   "outputs": [
    {
     "data": {
      "text/plain": [
       "PurePosixPath('/etc/passwd')"
      ]
     },
     "execution_count": 59,
     "metadata": {},
     "output_type": "execute_result"
    }
   ],
   "source": [
    "PurePosixPath('/etc').joinpath(PurePosixPath('passwd'))"
   ]
  },
  {
   "cell_type": "code",
   "execution_count": 60,
   "id": "3e1934e6-c0e0-471c-8048-1b9e435ca2ef",
   "metadata": {},
   "outputs": [
    {
     "data": {
      "text/plain": [
       "PurePosixPath('/etc/init.d/apache2')"
      ]
     },
     "execution_count": 60,
     "metadata": {},
     "output_type": "execute_result"
    }
   ],
   "source": [
    "PurePosixPath('/etc').joinpath('init.d', 'apache2')"
   ]
  },
  {
   "cell_type": "code",
   "execution_count": 61,
   "id": "5eac79a5-d447-4fc3-8a02-d66ecf163af2",
   "metadata": {},
   "outputs": [
    {
     "data": {
      "text/plain": [
       "PureWindowsPath('c:/Program Files')"
      ]
     },
     "execution_count": 61,
     "metadata": {},
     "output_type": "execute_result"
    }
   ],
   "source": [
    "PureWindowsPath('c:').joinpath('/Program Files')"
   ]
  },
  {
   "cell_type": "code",
   "execution_count": 62,
   "id": "c89868eb-70b3-4591-b314-b220cac89b55",
   "metadata": {},
   "outputs": [
    {
     "data": {
      "text/plain": [
       "True"
      ]
     },
     "execution_count": 62,
     "metadata": {},
     "output_type": "execute_result"
    }
   ],
   "source": [
    "PurePath('a/b.py').match('*.py')"
   ]
  },
  {
   "cell_type": "code",
   "execution_count": 63,
   "id": "6c15a22e-6e94-42d2-9125-402fb6780e11",
   "metadata": {},
   "outputs": [
    {
     "data": {
      "text/plain": [
       "True"
      ]
     },
     "execution_count": 63,
     "metadata": {},
     "output_type": "execute_result"
    }
   ],
   "source": [
    "PurePath('/a/b/c.py').match('b/*.py')"
   ]
  },
  {
   "cell_type": "code",
   "execution_count": 64,
   "id": "c26b5dbb-9034-4680-adc3-2702de670839",
   "metadata": {},
   "outputs": [
    {
     "data": {
      "text/plain": [
       "False"
      ]
     },
     "execution_count": 64,
     "metadata": {},
     "output_type": "execute_result"
    }
   ],
   "source": [
    "PurePath('/a/b/c.py').match('a/*.py')"
   ]
  },
  {
   "cell_type": "code",
   "execution_count": 65,
   "id": "ea810830-c58a-47f9-8c5d-57d6d29bce40",
   "metadata": {},
   "outputs": [
    {
     "data": {
      "text/plain": [
       "True"
      ]
     },
     "execution_count": 65,
     "metadata": {},
     "output_type": "execute_result"
    }
   ],
   "source": [
    "PurePath('/a.py').match('/*.py')"
   ]
  },
  {
   "cell_type": "code",
   "execution_count": 66,
   "id": "af2b5696-5dbc-4665-94c2-00abff945f98",
   "metadata": {},
   "outputs": [
    {
     "data": {
      "text/plain": [
       "False"
      ]
     },
     "execution_count": 66,
     "metadata": {},
     "output_type": "execute_result"
    }
   ],
   "source": [
    "PurePath('a/b.py').match('/*.py')"
   ]
  },
  {
   "cell_type": "markdown",
   "id": "44710734-672f-4778-9901-4e670ac2dc37",
   "metadata": {},
   "source": [
    "Métodos\n",
    "---"
   ]
  },
  {
   "cell_type": "code",
   "execution_count": 67,
   "id": "afbf9931-df29-4fc3-9ea2-33841f8fb872",
   "metadata": {},
   "outputs": [
    {
     "data": {
      "text/plain": [
       "PosixPath('/workspace/the_python_tutorial_10_brief_tour_of_the_standard_library')"
      ]
     },
     "execution_count": 67,
     "metadata": {},
     "output_type": "execute_result"
    }
   ],
   "source": [
    "Path.cwd()"
   ]
  },
  {
   "cell_type": "code",
   "execution_count": 68,
   "id": "858e5c57-d98a-4f7c-9f59-a47061abd213",
   "metadata": {},
   "outputs": [
    {
     "data": {
      "text/plain": [
       "PosixPath('/root')"
      ]
     },
     "execution_count": 68,
     "metadata": {},
     "output_type": "execute_result"
    }
   ],
   "source": [
    "Path.home()"
   ]
  },
  {
   "cell_type": "code",
   "execution_count": 69,
   "id": "6f75419b-4de4-42c6-bd64-d3f12383167c",
   "metadata": {},
   "outputs": [
    {
     "data": {
      "text/plain": [
       "True"
      ]
     },
     "execution_count": 69,
     "metadata": {},
     "output_type": "execute_result"
    }
   ],
   "source": [
    "Path('.').exists()"
   ]
  },
  {
   "cell_type": "code",
   "execution_count": 70,
   "id": "ab5fe58d-553b-45e7-aa81-09525abc6e22",
   "metadata": {},
   "outputs": [
    {
     "data": {
      "text/plain": [
       "False"
      ]
     },
     "execution_count": 70,
     "metadata": {},
     "output_type": "execute_result"
    }
   ],
   "source": [
    "Path('setup.py').exists()"
   ]
  },
  {
   "cell_type": "code",
   "execution_count": 71,
   "id": "be80678e-957f-4de6-ac7b-31e72c95bafb",
   "metadata": {},
   "outputs": [
    {
     "data": {
      "text/plain": [
       "True"
      ]
     },
     "execution_count": 71,
     "metadata": {},
     "output_type": "execute_result"
    }
   ],
   "source": [
    "Path('/etc').exists()"
   ]
  },
  {
   "cell_type": "code",
   "execution_count": 72,
   "id": "1993671a-96fb-4dd9-a4a5-66dc13298851",
   "metadata": {},
   "outputs": [
    {
     "data": {
      "text/plain": [
       "False"
      ]
     },
     "execution_count": 72,
     "metadata": {},
     "output_type": "execute_result"
    }
   ],
   "source": [
    "Path('nonexistentfile').exists()"
   ]
  },
  {
   "cell_type": "code",
   "execution_count": 73,
   "id": "6a03ac88-5783-4450-95bd-017ae44fc897",
   "metadata": {},
   "outputs": [
    {
     "data": {
      "text/plain": [
       "PosixPath('/root/films/Monty Python')"
      ]
     },
     "execution_count": 73,
     "metadata": {},
     "output_type": "execute_result"
    }
   ],
   "source": [
    "p = PosixPath('~/films/Monty Python')\n",
    "p.expanduser()"
   ]
  },
  {
   "cell_type": "code",
   "execution_count": 74,
   "id": "7010c366-fcd8-48c7-8ac7-2095d9ffb9b7",
   "metadata": {},
   "outputs": [
    {
     "data": {
      "text/plain": [
       "[PosixPath('1-01_datetime.ipynb'),\n",
       " PosixPath('1-02-re.ipynb'),\n",
       " PosixPath('1-03_os.ipynb'),\n",
       " PosixPath('1-04_glob.ipynb'),\n",
       " PosixPath('1-05_collections.ipynb'),\n",
       " PosixPath('1-06_logging.ipynb'),\n",
       " PosixPath('1-07_ppring.ipynb'),\n",
       " PosixPath('1-08_itertools.ipynb'),\n",
       " PosixPath('1-09_pathlib.ipynb')]"
      ]
     },
     "execution_count": 74,
     "metadata": {},
     "output_type": "execute_result"
    }
   ],
   "source": [
    "sorted(Path('.').glob('*.ipynb'))"
   ]
  },
  {
   "cell_type": "code",
   "execution_count": 75,
   "id": "a2cab0b9-dd38-4381-b3d6-404cbc131f72",
   "metadata": {},
   "outputs": [
    {
     "data": {
      "text/plain": [
       "[PosixPath('.ipynb_checkpoints/1-01_datetime-checkpoint.ipynb'),\n",
       " PosixPath('.ipynb_checkpoints/1-02-re-checkpoint.ipynb'),\n",
       " PosixPath('.ipynb_checkpoints/1-03_os-checkpoint.ipynb'),\n",
       " PosixPath('.ipynb_checkpoints/1-04_glob-checkpoint.ipynb'),\n",
       " PosixPath('.ipynb_checkpoints/1-06_logging-checkpoint.ipynb'),\n",
       " PosixPath('.ipynb_checkpoints/1-07_ppring-checkpoint.ipynb'),\n",
       " PosixPath('.ipynb_checkpoints/1-08_itertools-checkpoint.ipynb'),\n",
       " PosixPath('.ipynb_checkpoints/1-09_pathlib-checkpoint.ipynb')]"
      ]
     },
     "execution_count": 75,
     "metadata": {},
     "output_type": "execute_result"
    }
   ],
   "source": [
    "sorted(Path('.').glob('*/*.ipynb'))"
   ]
  },
  {
   "cell_type": "code",
   "execution_count": 76,
   "id": "d20fa8d1-7c10-4a01-b09e-994a67776c54",
   "metadata": {},
   "outputs": [
    {
     "name": "stdout",
     "output_type": "stream",
     "text": [
      ".DS_Store\n",
      ".ipynb_checkpoints\n",
      "1-01_datetime.ipynb\n",
      "1-02-re.ipynb\n",
      "1-03_os.ipynb\n",
      "1-04_glob.ipynb\n",
      "1-05_collections.ipynb\n",
      "1-06_logging.ipynb\n",
      "1-07_ppring.ipynb\n",
      "1-08_itertools.ipynb\n",
      "1-09_pathlib.ipynb\n",
      "assets\n",
      "bar\n",
      "my_text_file\n",
      "newfile\n"
     ]
    }
   ],
   "source": [
    "p = Path('.')\n",
    "for child in p.iterdir(): \n",
    "    print(child)"
   ]
  },
  {
   "cell_type": "code",
   "execution_count": 77,
   "id": "01aa27a6-00b2-46da-8d8f-193d9ca7c2c1",
   "metadata": {},
   "outputs": [
    {
     "data": {
      "text/plain": [
       "18"
      ]
     },
     "execution_count": 77,
     "metadata": {},
     "output_type": "execute_result"
    }
   ],
   "source": [
    "p = Path('my_text_file')\n",
    "p.write_text('Text file contents')"
   ]
  },
  {
   "cell_type": "code",
   "execution_count": 78,
   "id": "725f803f-37fb-4004-97a4-493c5d268f74",
   "metadata": {},
   "outputs": [
    {
     "data": {
      "text/plain": [
       "'Text file contents'"
      ]
     },
     "execution_count": 78,
     "metadata": {},
     "output_type": "execute_result"
    }
   ],
   "source": [
    "p.read_text()"
   ]
  },
  {
   "cell_type": "code",
   "execution_count": 79,
   "id": "7dfe4c55-b0aa-42bf-939d-d64bb25b9f51",
   "metadata": {},
   "outputs": [
    {
     "data": {
      "text/plain": [
       "9"
      ]
     },
     "execution_count": 79,
     "metadata": {},
     "output_type": "execute_result"
    }
   ],
   "source": [
    "p = Path('foo')\n",
    "p.open('w').write('some text')"
   ]
  },
  {
   "cell_type": "code",
   "execution_count": 80,
   "id": "4adaaa7e-4d89-4a2d-983f-406f1d3dbde4",
   "metadata": {},
   "outputs": [
    {
     "data": {
      "text/plain": [
       "PosixPath('bar')"
      ]
     },
     "execution_count": 80,
     "metadata": {},
     "output_type": "execute_result"
    }
   ],
   "source": [
    "target = Path('bar')\n",
    "p.rename(target)"
   ]
  },
  {
   "cell_type": "code",
   "execution_count": 81,
   "id": "5f73e168-94d5-4268-89d6-5267216fd02b",
   "metadata": {},
   "outputs": [
    {
     "data": {
      "text/plain": [
       "'some text'"
      ]
     },
     "execution_count": 81,
     "metadata": {},
     "output_type": "execute_result"
    }
   ],
   "source": [
    "target.open().read()"
   ]
  },
  {
   "cell_type": "code",
   "execution_count": 82,
   "id": "25e52ef0-c230-4f18-a64d-8e24f3541ab7",
   "metadata": {},
   "outputs": [
    {
     "name": "stdout",
     "output_type": "stream",
     "text": [
      "newfile\n"
     ]
    }
   ],
   "source": [
    "Path('newfile').touch()\n",
    "!ls n*"
   ]
  }
 ],
 "metadata": {
  "kernelspec": {
   "display_name": "Python 3 (ipykernel)",
   "language": "python",
   "name": "python3"
  },
  "language_info": {
   "codemirror_mode": {
    "name": "ipython",
    "version": 3
   },
   "file_extension": ".py",
   "mimetype": "text/x-python",
   "name": "python",
   "nbconvert_exporter": "python",
   "pygments_lexer": "ipython3",
   "version": "3.8.10"
  }
 },
 "nbformat": 4,
 "nbformat_minor": 5
}
