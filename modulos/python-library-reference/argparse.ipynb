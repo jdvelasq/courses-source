{
 "cells": [
  {
   "cell_type": "markdown",
   "id": "02d42dee-b678-455b-b290-25b1d1548728",
   "metadata": {
    "tags": []
   },
   "source": [
    "Librería argparser (programas de linea de comandos)\n",
    "===\n",
    "\n",
    "* Última modificación: Mayo 14, 2022"
   ]
  },
  {
   "cell_type": "markdown",
   "id": "4f594c30-f2d6-4707-80fd-2c3d9653b36f",
   "metadata": {},
   "source": [
    "Ejemplo\n",
    "---"
   ]
  },
  {
   "cell_type": "code",
   "execution_count": 1,
   "id": "79af6636-8434-4825-bece-9a63e53bbaba",
   "metadata": {},
   "outputs": [
    {
     "name": "stdout",
     "output_type": "stream",
     "text": [
      "Overwriting /tmp/prog.py\n"
     ]
    }
   ],
   "source": [
    "%%writefile /tmp/prog.py\n",
    "\n",
    "import argparse\n",
    "\n",
    "#\n",
    "# Creación del parser\n",
    "#\n",
    "parser = argparse.ArgumentParser(\n",
    "    # -------------------------------------------------------------------------\n",
    "    # Text to display before the argument help\n",
    "    description=\"Process some integers.\",\n",
    "    # -------------------------------------------------------------------------\n",
    "    # The global default value for arguments\n",
    "    argument_default=None,\n",
    ")\n",
    "\n",
    "#\n",
    "# Adición de argumentos\n",
    "#\n",
    "parser.add_argument(\n",
    "    \"integers\",\n",
    "    metavar=\"N\",\n",
    "    type=int,\n",
    "    nargs=\"+\",\n",
    "    help=\"an integer for the accumulator\",\n",
    ")\n",
    "\n",
    "parser.add_argument(\n",
    "    \"--sum\",\n",
    "    dest=\"accumulate\",\n",
    "    action=\"store_const\",\n",
    "    const=sum,\n",
    "    default=max,\n",
    "    help=\"sum the integers (default: find the max)\",\n",
    ")\n",
    "\n",
    "args = parser.parse_args()\n",
    "\n",
    "print(args.accumulate(args.integers))"
   ]
  },
  {
   "cell_type": "code",
   "execution_count": 2,
   "id": "33e5c704-f938-44b9-91fe-e28d8cae9a47",
   "metadata": {},
   "outputs": [
    {
     "name": "stdout",
     "output_type": "stream",
     "text": [
      "usage: prog.py [-h] [--sum] N [N ...]\n",
      "\n",
      "Process some integers.\n",
      "\n",
      "positional arguments:\n",
      "  N           an integer for the accumulator\n",
      "\n",
      "optional arguments:\n",
      "  -h, --help  show this help message and exit\n",
      "  --sum       sum the integers (default: find the max)\n"
     ]
    }
   ],
   "source": [
    "!python3 /tmp/prog.py -h"
   ]
  },
  {
   "cell_type": "code",
   "execution_count": 3,
   "id": "22f574e5-fe31-4819-9f1b-0bc05ddc82ee",
   "metadata": {},
   "outputs": [
    {
     "name": "stdout",
     "output_type": "stream",
     "text": [
      "4\n"
     ]
    }
   ],
   "source": [
    "#\n",
    "# Uso de argumentos\n",
    "#\n",
    "!python3 /tmp/prog.py 1 2 3 4"
   ]
  },
  {
   "cell_type": "code",
   "execution_count": 4,
   "id": "a90cab51-9c96-406d-91ac-4ae27462a221",
   "metadata": {},
   "outputs": [
    {
     "name": "stdout",
     "output_type": "stream",
     "text": [
      "10\n"
     ]
    }
   ],
   "source": [
    "#\n",
    "# Uso del flag\n",
    "#\n",
    "!python3 /tmp/prog.py 1 2 3 4 --sum"
   ]
  },
  {
   "cell_type": "code",
   "execution_count": 5,
   "id": "e15dd4e1-ae2a-4871-ad3e-76a17e5ab290",
   "metadata": {},
   "outputs": [
    {
     "name": "stdout",
     "output_type": "stream",
     "text": [
      "usage: prog.py [-h] [--sum] N [N ...]\n",
      "prog.py: error: argument N: invalid int value: 'a'\n"
     ]
    }
   ],
   "source": [
    "#\n",
    "# Uso de argumentos invalidos\n",
    "#\n",
    "!python3 /tmp/prog.py a b c"
   ]
  },
  {
   "cell_type": "markdown",
   "id": "5f2ef925-c039-4b48-bbc9-b42a5935f7d6",
   "metadata": {},
   "source": [
    "prog\n",
    "--"
   ]
  },
  {
   "cell_type": "code",
   "execution_count": 6,
   "id": "4f1acedd-8d4b-4723-9ee7-157195baa12f",
   "metadata": {},
   "outputs": [
    {
     "name": "stdout",
     "output_type": "stream",
     "text": [
      "Overwriting /tmp/myprogram.py\n"
     ]
    }
   ],
   "source": [
    "%%writefile /tmp/myprogram.py\n",
    "\n",
    "import argparse\n",
    "\n",
    "parser = argparse.ArgumentParser()\n",
    "parser.add_argument(\"--foo\", help=\"foo help\")\n",
    "args = parser.parse_args()"
   ]
  },
  {
   "cell_type": "code",
   "execution_count": 7,
   "id": "7f826bc3-6b21-4df4-a09a-aa6e74f6be3e",
   "metadata": {},
   "outputs": [
    {
     "name": "stdout",
     "output_type": "stream",
     "text": [
      "usage: myprogram.py [-h] [--foo FOO]\n",
      "\n",
      "optional arguments:\n",
      "  -h, --help  show this help message and exit\n",
      "  --foo FOO   foo help\n"
     ]
    }
   ],
   "source": [
    "!python3 /tmp/myprogram.py --help"
   ]
  },
  {
   "cell_type": "markdown",
   "id": "f178b1ea-5b76-4d04-b652-fd14ec1c6e0c",
   "metadata": {},
   "source": [
    "Uso dentro de Python\n",
    "---"
   ]
  },
  {
   "cell_type": "code",
   "execution_count": 8,
   "id": "78d38923-21cc-4f74-82bd-be466d8ca840",
   "metadata": {},
   "outputs": [
    {
     "name": "stdout",
     "output_type": "stream",
     "text": [
      "usage: myprogram [-h]\n",
      "\n",
      "optional arguments:\n",
      "  -h, --help  show this help message and exit\n"
     ]
    }
   ],
   "source": [
    "import argparse\n",
    "\n",
    "parser = argparse.ArgumentParser(prog=\"myprogram\")\n",
    "parser.print_help()"
   ]
  },
  {
   "cell_type": "code",
   "execution_count": 9,
   "id": "1eae5ea3-7ccf-4b75-9963-6c22049f2589",
   "metadata": {},
   "outputs": [
    {
     "name": "stdout",
     "output_type": "stream",
     "text": [
      "usage: myprogram [-h] [--foo FOO]\n",
      "\n",
      "optional arguments:\n",
      "  -h, --help  show this help message and exit\n",
      "  --foo FOO   foo of the myprogram program\n"
     ]
    }
   ],
   "source": [
    "parser = argparse.ArgumentParser(prog=\"myprogram\")\n",
    "parser.add_argument(\"--foo\", help=\"foo of the %(prog)s program\")\n",
    "parser.print_help()"
   ]
  },
  {
   "cell_type": "markdown",
   "id": "66bf8d1b-7cae-4b90-bbc8-9a2d57f14b25",
   "metadata": {},
   "source": [
    "Uso\n",
    "---"
   ]
  },
  {
   "cell_type": "code",
   "execution_count": 10,
   "id": "fa8e23ad-e655-45f7-ac31-66c79ada75a7",
   "metadata": {},
   "outputs": [
    {
     "name": "stdout",
     "output_type": "stream",
     "text": [
      "usage: PROG [-h] [--foo [FOO]] bar [bar ...]\n",
      "\n",
      "positional arguments:\n",
      "  bar          bar help\n",
      "\n",
      "optional arguments:\n",
      "  -h, --help   show this help message and exit\n",
      "  --foo [FOO]  foo help\n"
     ]
    }
   ],
   "source": [
    "#\n",
    "# El mesage es obtenido a partir de los argumentos adicionados\n",
    "#\n",
    "parser = argparse.ArgumentParser(prog=\"PROG\")\n",
    "parser.add_argument(\"--foo\", nargs=\"?\", help=\"foo help\")\n",
    "parser.add_argument(\"bar\", nargs=\"+\", help=\"bar help\")\n",
    "parser.print_help()"
   ]
  },
  {
   "cell_type": "code",
   "execution_count": 11,
   "id": "885bddb3-2ccf-4f9a-bd74-ae7734789a12",
   "metadata": {},
   "outputs": [
    {
     "name": "stdout",
     "output_type": "stream",
     "text": [
      "usage: PROG [options]\n",
      "\n",
      "positional arguments:\n",
      "  bar          bar help\n",
      "\n",
      "optional arguments:\n",
      "  -h, --help   show this help message and exit\n",
      "  --foo [FOO]  foo help\n"
     ]
    }
   ],
   "source": [
    "#\n",
    "# Cambio de la cadena usage\n",
    "#\n",
    "parser = argparse.ArgumentParser(prog=\"PROG\", usage=\"%(prog)s [options]\")\n",
    "parser.add_argument(\"--foo\", nargs=\"?\", help=\"foo help\")\n",
    "parser.add_argument(\"bar\", nargs=\"+\", help=\"bar help\")\n",
    "parser.print_help()"
   ]
  },
  {
   "cell_type": "markdown",
   "id": "5ab60cc1-9d9e-4427-a206-0238f968b866",
   "metadata": {},
   "source": [
    "Descripción\n",
    "---"
   ]
  },
  {
   "cell_type": "code",
   "execution_count": 12,
   "id": "d8fe3aaf-2982-4209-9729-d0d6ce83a727",
   "metadata": {},
   "outputs": [
    {
     "name": "stdout",
     "output_type": "stream",
     "text": [
      "usage: ipykernel_launcher.py [-h]\n",
      "\n",
      "A foo that bars\n",
      "\n",
      "optional arguments:\n",
      "  -h, --help  show this help message and exit\n"
     ]
    }
   ],
   "source": [
    "parser = argparse.ArgumentParser(description=\"A foo that bars\")\n",
    "parser.print_help()"
   ]
  },
  {
   "cell_type": "markdown",
   "id": "50e3394a-596a-42d9-bdb1-c309a97d9bcc",
   "metadata": {},
   "source": [
    "Epilogo\n",
    "---"
   ]
  },
  {
   "cell_type": "code",
   "execution_count": 13,
   "id": "92a73066-c139-45fe-8891-d9d2f469eb88",
   "metadata": {},
   "outputs": [
    {
     "name": "stdout",
     "output_type": "stream",
     "text": [
      "usage: ipykernel_launcher.py [-h]\n",
      "\n",
      "A foo that bars\n",
      "\n",
      "optional arguments:\n",
      "  -h, --help  show this help message and exit\n",
      "\n",
      "And that's how you'd foo a bar\n"
     ]
    }
   ],
   "source": [
    "parser = argparse.ArgumentParser(\n",
    "    description=\"A foo that bars\",\n",
    "    epilog=\"And that's how you'd foo a bar\",\n",
    ")\n",
    "parser.print_help()"
   ]
  },
  {
   "cell_type": "markdown",
   "id": "0d42311c-ab2f-49b7-84e2-ce4352824dfd",
   "metadata": {},
   "source": [
    "Acciones\n",
    "---"
   ]
  },
  {
   "cell_type": "code",
   "execution_count": 14,
   "id": "d80a29e7-c502-4f2d-a4d3-07f22058848a",
   "metadata": {},
   "outputs": [
    {
     "data": {
      "text/plain": [
       "Namespace(foo='1')"
      ]
     },
     "execution_count": 14,
     "metadata": {},
     "output_type": "execute_result"
    }
   ],
   "source": [
    "#\n",
    "# 'store'\n",
    "#\n",
    "parser = argparse.ArgumentParser()\n",
    "parser.add_argument(\"--foo\")\n",
    "parser.parse_args(\"--foo 1\".split())"
   ]
  },
  {
   "cell_type": "code",
   "execution_count": 15,
   "id": "a696b554-0557-4cad-9d62-1c28687a645c",
   "metadata": {},
   "outputs": [
    {
     "data": {
      "text/plain": [
       "Namespace(foo=42)"
      ]
     },
     "execution_count": 15,
     "metadata": {},
     "output_type": "execute_result"
    }
   ],
   "source": [
    "#\n",
    "# 'store_const'\n",
    "#\n",
    "parser = argparse.ArgumentParser()\n",
    "parser.add_argument(\"--foo\", action=\"store_const\", const=42)\n",
    "parser.parse_args([\"--foo\"])"
   ]
  },
  {
   "cell_type": "code",
   "execution_count": 16,
   "id": "588d9397-9859-426a-9b91-282e4ae0a0fb",
   "metadata": {},
   "outputs": [
    {
     "data": {
      "text/plain": [
       "Namespace(bar=False, baz=True, foo=True)"
      ]
     },
     "execution_count": 16,
     "metadata": {},
     "output_type": "execute_result"
    }
   ],
   "source": [
    "#\n",
    "# 'store_true' & 'store_false'\n",
    "#\n",
    "parser = argparse.ArgumentParser()\n",
    "parser.add_argument(\"--foo\", action=\"store_true\")\n",
    "parser.add_argument(\"--bar\", action=\"store_false\")\n",
    "parser.add_argument(\"--baz\", action=\"store_false\")\n",
    "parser.parse_args(\"--foo --bar\".split())"
   ]
  },
  {
   "cell_type": "markdown",
   "id": "ab36c512-83c8-4311-bcd2-252914e99ed4",
   "metadata": {},
   "source": [
    "Parámetro choices\n",
    "---"
   ]
  },
  {
   "cell_type": "code",
   "execution_count": 17,
   "id": "99ff265d-eb35-4893-9b89-7f857b956e94",
   "metadata": {},
   "outputs": [
    {
     "name": "stdout",
     "output_type": "stream",
     "text": [
      "Overwriting /tmp/myprogram.py\n"
     ]
    }
   ],
   "source": [
    "%%writefile /tmp/myprogram.py\n",
    "\n",
    "import argparse\n",
    "\n",
    "parser = argparse.ArgumentParser(prog=\"game.py\")\n",
    "parser.add_argument(\"move\", choices=[\"rock\", \"paper\", \"scissors\"])\n",
    "print(parser.parse_args())"
   ]
  },
  {
   "cell_type": "code",
   "execution_count": 18,
   "id": "24b8e38f-bdbf-4d0d-ac5b-77002172b7d2",
   "metadata": {},
   "outputs": [
    {
     "name": "stdout",
     "output_type": "stream",
     "text": [
      "Namespace(move='rock')\n"
     ]
    }
   ],
   "source": [
    "!python3 /tmp/myprogram.py rock"
   ]
  },
  {
   "cell_type": "code",
   "execution_count": 19,
   "id": "e5fd4c26-27a6-4a09-92e7-892afa8c3371",
   "metadata": {},
   "outputs": [
    {
     "name": "stdout",
     "output_type": "stream",
     "text": [
      "usage: game.py [-h] {rock,paper,scissors}\n",
      "game.py: error: argument move: invalid choice: 'fire' (choose from 'rock', 'paper', 'scissors')\n"
     ]
    }
   ],
   "source": [
    "!python3 /tmp/myprogram.py fire"
   ]
  },
  {
   "cell_type": "markdown",
   "id": "93c51816-6733-4e31-8676-a2bdef540cbd",
   "metadata": {},
   "source": [
    "Parámetro required\n",
    "---"
   ]
  },
  {
   "cell_type": "code",
   "execution_count": 20,
   "id": "14a417cb-6243-4c54-8e3a-3346a1691d87",
   "metadata": {},
   "outputs": [
    {
     "name": "stdout",
     "output_type": "stream",
     "text": [
      "Overwriting /tmp/myprogram.py\n"
     ]
    }
   ],
   "source": [
    "%%writefile /tmp/myprogram.py\n",
    "\n",
    "import argparse\n",
    "\n",
    "parser = argparse.ArgumentParser()\n",
    "parser.add_argument(\"--foo\", required=True)\n",
    "print(parser.parse_args())"
   ]
  },
  {
   "cell_type": "code",
   "execution_count": 21,
   "id": "446873e0-bbef-479f-9d0a-a79af52f547d",
   "metadata": {},
   "outputs": [
    {
     "name": "stdout",
     "output_type": "stream",
     "text": [
      "Namespace(foo='BAR')\n"
     ]
    }
   ],
   "source": [
    "!python3 /tmp/myprogram.py --foo BAR"
   ]
  },
  {
   "cell_type": "code",
   "execution_count": 22,
   "id": "9f1913f0-e5e8-4789-a294-6cfbff8675e0",
   "metadata": {},
   "outputs": [
    {
     "name": "stdout",
     "output_type": "stream",
     "text": [
      "usage: myprogram.py [-h] --foo FOO\n",
      "myprogram.py: error: the following arguments are required: --foo\n"
     ]
    }
   ],
   "source": [
    "!python3 /tmp/myprogram.py"
   ]
  },
  {
   "cell_type": "markdown",
   "id": "86f40b80-e94c-4cd1-851c-3dfa5ee15f71",
   "metadata": {},
   "source": [
    "Parámetro dest\n",
    "---"
   ]
  },
  {
   "cell_type": "code",
   "execution_count": 23,
   "id": "edc15e0a-02f5-4e3e-bef6-2878d42f2c73",
   "metadata": {},
   "outputs": [
    {
     "name": "stdout",
     "output_type": "stream",
     "text": [
      "Overwriting /tmp/myprogram.py\n"
     ]
    }
   ],
   "source": [
    "%%writefile /tmp/myprogram.py\n",
    "\n",
    "import argparse\n",
    "\n",
    "parser = argparse.ArgumentParser()\n",
    "parser.add_argument('--foo', dest='bar')\n",
    "\n",
    "print(parser.parse_args())"
   ]
  },
  {
   "cell_type": "code",
   "execution_count": 24,
   "id": "3ac566f5-f9fb-40f6-913b-4cde89bd308c",
   "metadata": {},
   "outputs": [
    {
     "name": "stdout",
     "output_type": "stream",
     "text": [
      "Namespace(bar='XXX')\n"
     ]
    }
   ],
   "source": [
    "!python3 /tmp/myprogram.py --foo XXX"
   ]
  }
 ],
 "metadata": {
  "kernelspec": {
   "display_name": "Python 3 (ipykernel)",
   "language": "python",
   "name": "python3"
  },
  "language_info": {
   "codemirror_mode": {
    "name": "ipython",
    "version": 3
   },
   "file_extension": ".py",
   "mimetype": "text/x-python",
   "name": "python",
   "nbconvert_exporter": "python",
   "pygments_lexer": "ipython3",
   "version": "3.8.10"
  }
 },
 "nbformat": 4,
 "nbformat_minor": 5
}
