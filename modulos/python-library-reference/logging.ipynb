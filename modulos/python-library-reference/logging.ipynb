{
 "cells": [
  {
   "cell_type": "markdown",
   "id": "fddeb66b-4fe2-4ef5-b537-8ad47264105b",
   "metadata": {},
   "source": [
    "Librería logging (Utilidad para registro)\n",
    "===\n",
    "\n",
    "* Última modificación: Mayo 14, 2022"
   ]
  },
  {
   "cell_type": "markdown",
   "id": "eb7cfae8-1199-4efe-b0a9-32db6bb214db",
   "metadata": {},
   "source": [
    "Cuándo usar logging?\n",
    "---"
   ]
  },
  {
   "cell_type": "markdown",
   "id": "16a3f5fe-ca8d-414f-a28a-5d47de8f54a1",
   "metadata": {},
   "source": [
    "* print(): para impresión normal.\n",
    "\n",
    "* logging.info():  para reportar eventos durante la operación normal del programa.\n",
    "\n",
    "* logging.debug(): para reportar información detallada de depuración durante la operación normal del programa.\n",
    "\n",
    "* logging.warn(): si la aplicación cliente puede manejar la situaación.\n",
    "\n",
    "* logging.warning(): si la aplicación cliente no puede manejar la situación y el evento debe registrarse.\n",
    "\n",
    "* logging.error(), logging.exception(), logging.critical(): para reportar la supresión de un error sin generar una excepción."
   ]
  },
  {
   "cell_type": "markdown",
   "id": "86c0578c-0272-4435-86b8-c3efff111749",
   "metadata": {},
   "source": [
    "Niveles\n",
    "---"
   ]
  },
  {
   "cell_type": "markdown",
   "id": "1a268751-4e2f-4bfe-b763-a0f4c8aff45e",
   "metadata": {},
   "source": [
    "* `DEBUG`: Información detallada.\n",
    "\n",
    "* `INFO`: Confirmación de que las cosas están trabajando como es esperado.\n",
    "\n",
    "* `WARNING`: Indicación de que algo inexperado está pasando (Nivel por defecto).\n",
    "\n",
    "* `ERROR`: Error serio, indicando que el software no es capaz de ejecuar alguna función.\n",
    "\n",
    "* `CRITICAL`: Error serio, indicando que el software no se puede seguir ejecutando."
   ]
  },
  {
   "cell_type": "code",
   "execution_count": 1,
   "id": "40f6ae8b-f5bd-4179-b68d-db0a3afd0404",
   "metadata": {},
   "outputs": [
    {
     "name": "stderr",
     "output_type": "stream",
     "text": [
      "WARNING:root:Watch out!\n"
     ]
    }
   ],
   "source": [
    "import logging\n",
    "\n",
    "logging.warning(\"Watch out!\")  # will print a message to the console\n",
    "logging.info(\"I told you so\")  # will not print anything"
   ]
  },
  {
   "cell_type": "markdown",
   "id": "a7762007-cfed-4e08-a3a3-97f854b71248",
   "metadata": {},
   "source": [
    "Logging a un archivo\n",
    "---"
   ]
  },
  {
   "cell_type": "code",
   "execution_count": 2,
   "id": "204645cc-1337-4c7c-9d74-41743dfe366e",
   "metadata": {},
   "outputs": [
    {
     "name": "stdout",
     "output_type": "stream",
     "text": [
      "Overwriting demo.py\n"
     ]
    }
   ],
   "source": [
    "%%writefile demo.py\n",
    "\n",
    "import logging\n",
    "\n",
    "logging.basicConfig(filename=\"./example.log\", level=logging.DEBUG)\n",
    "logging.debug(\"This message should go to the log file\")\n",
    "logging.info(\"So should this\")\n",
    "logging.warning(\"And this, too\")\n",
    "logging.error(\"And non-ASCII stuff, too, like Øresund and Malmö\")"
   ]
  },
  {
   "cell_type": "code",
   "execution_count": 3,
   "id": "83619ac1-0403-4fa8-9fbb-026e80f32ad8",
   "metadata": {},
   "outputs": [],
   "source": [
    "!python3 demo.py"
   ]
  },
  {
   "cell_type": "code",
   "execution_count": 4,
   "id": "fd1cd42f-b3cb-4d87-9c1f-9e1891cb20bd",
   "metadata": {},
   "outputs": [
    {
     "name": "stdout",
     "output_type": "stream",
     "text": [
      "DEBUG:root:This message should go to the log file\n",
      "INFO:root:So should this\n",
      "WARNING:root:And this, too\n",
      "ERROR:root:And non-ASCII stuff, too, like Øresund and Malmö\n",
      "DEBUG:root:This message should go to the log file\n",
      "INFO:root:So should this\n",
      "WARNING:root:And this, too\n",
      "ERROR:root:And non-ASCII stuff, too, like Øresund and Malmö\n"
     ]
    }
   ],
   "source": [
    "!cat example.log"
   ]
  },
  {
   "cell_type": "markdown",
   "id": "0a9dfaef-27c7-4495-b242-5986d48c58a7",
   "metadata": {},
   "source": [
    "Logging desde un módulo\n",
    "---"
   ]
  },
  {
   "cell_type": "code",
   "execution_count": 5,
   "id": "17b22eae-b483-4052-b3e7-932e999b0a04",
   "metadata": {},
   "outputs": [
    {
     "name": "stdout",
     "output_type": "stream",
     "text": [
      "Overwriting myapp.py\n"
     ]
    }
   ],
   "source": [
    "%%writefile myapp.py\n",
    "\n",
    "import logging\n",
    "import mylib\n",
    "\n",
    "def main():\n",
    "    logging.basicConfig(filename='./myapp.log', level=logging.INFO)\n",
    "    logging.info('Started')\n",
    "    mylib.do_something()\n",
    "    logging.info('Finished')\n",
    "\n",
    "if __name__ == '__main__':\n",
    "    main()"
   ]
  },
  {
   "cell_type": "code",
   "execution_count": 6,
   "id": "8f6307d8-10f0-4d93-aeac-5a7b7c96f249",
   "metadata": {},
   "outputs": [
    {
     "name": "stdout",
     "output_type": "stream",
     "text": [
      "Overwriting mylib.py\n"
     ]
    }
   ],
   "source": [
    "%%writefile mylib.py\n",
    "\n",
    "import logging\n",
    "\n",
    "def do_something():\n",
    "    logging.info('Doing something')"
   ]
  },
  {
   "cell_type": "code",
   "execution_count": 7,
   "id": "be8a4b28-0459-4095-bc8f-96e86bf961a7",
   "metadata": {},
   "outputs": [],
   "source": [
    "!python3 myapp.py"
   ]
  },
  {
   "cell_type": "code",
   "execution_count": 8,
   "id": "f6bc5449-1251-4f8d-bc10-1827b7dd2ef1",
   "metadata": {},
   "outputs": [
    {
     "name": "stdout",
     "output_type": "stream",
     "text": [
      "INFO:root:Started\n",
      "INFO:root:Doing something\n",
      "INFO:root:Finished\n",
      "INFO:root:Started\n",
      "INFO:root:Doing something\n",
      "INFO:root:Finished\n"
     ]
    }
   ],
   "source": [
    "!cat ./myapp.log"
   ]
  },
  {
   "cell_type": "markdown",
   "id": "92ab2333-9b49-4777-8b65-bb045d9e7f46",
   "metadata": {},
   "source": [
    "Logging data\n",
    "----"
   ]
  },
  {
   "cell_type": "code",
   "execution_count": 9,
   "id": "a64c4b25-1468-44e3-82c0-f588b85fe9c8",
   "metadata": {},
   "outputs": [
    {
     "name": "stderr",
     "output_type": "stream",
     "text": [
      "WARNING:root:Look before you leap!\n"
     ]
    }
   ],
   "source": [
    "import logging\n",
    "\n",
    "logging.warning('%s before you %s', 'Look', 'leap!')"
   ]
  },
  {
   "cell_type": "markdown",
   "id": "c7a84207-884f-43aa-9135-e0baef5101cc",
   "metadata": {},
   "source": [
    "Formato de los mensajes\n",
    "---"
   ]
  },
  {
   "cell_type": "code",
   "execution_count": 10,
   "id": "81e9cadd-2d2b-4e94-8726-dbe31abd527d",
   "metadata": {},
   "outputs": [
    {
     "name": "stderr",
     "output_type": "stream",
     "text": [
      "DEBUG:This message should appear on the console\n",
      "INFO:So should this\n",
      "WARNING:And this, too\n"
     ]
    }
   ],
   "source": [
    "%%python3 \n",
    "\n",
    "import logging\n",
    "\n",
    "log_format = '%(levelname)s:%(message)s'\n",
    "\n",
    "logging.basicConfig(format=log_format, level=logging.DEBUG)\n",
    "logging.debug(\"This message should appear on the console\")\n",
    "logging.info(\"So should this\")\n",
    "logging.warning(\"And this, too\")"
   ]
  },
  {
   "cell_type": "markdown",
   "id": "69ff6098-5d1b-4853-aded-9ca1bbaf5184",
   "metadata": {},
   "source": [
    "Fecha y hora en mensajes\n",
    "---"
   ]
  },
  {
   "cell_type": "code",
   "execution_count": 11,
   "id": "04a708ce-d105-499f-8314-76f306b244a7",
   "metadata": {},
   "outputs": [
    {
     "name": "stderr",
     "output_type": "stream",
     "text": [
      "2022-04-20 03:11:50,183 is when this event was logged.\n"
     ]
    }
   ],
   "source": [
    "%%python3\n",
    "\n",
    "import logging\n",
    "\n",
    "logging.basicConfig(format='%(asctime)s %(message)s')\n",
    "logging.warning('is when this event was logged.')"
   ]
  },
  {
   "cell_type": "code",
   "execution_count": 12,
   "id": "14ecb198-d85f-4bc0-b51b-e10e5fa91c80",
   "metadata": {},
   "outputs": [
    {
     "name": "stderr",
     "output_type": "stream",
     "text": [
      "04/20/2022 03:11:50 AM is when this event was logged.\n"
     ]
    }
   ],
   "source": [
    "%%python3 \n",
    "\n",
    "import logging\n",
    "\n",
    "logging.basicConfig(format='%(asctime)s %(message)s', datefmt='%m/%d/%Y %I:%M:%S %p')\n",
    "logging.warning('is when this event was logged.')"
   ]
  },
  {
   "cell_type": "markdown",
   "id": "314614de-c8d6-48cb-b5ca-27a02045f74b",
   "metadata": {},
   "source": [
    "Logging flow\n",
    "---"
   ]
  },
  {
   "cell_type": "markdown",
   "id": "ced6a220-3d78-44d0-8698-da489e8c8cce",
   "metadata": {},
   "source": [
    "![assets/logging_flow.png](assets/logging_flow.png)"
   ]
  },
  {
   "cell_type": "markdown",
   "id": "cf00889c-4d62-484a-b70a-457be11495a9",
   "metadata": {},
   "source": [
    "Loggers\n",
    "---"
   ]
  },
  {
   "cell_type": "markdown",
   "id": "e0e82720-2b0c-48d8-838e-58e6f2f42b4a",
   "metadata": {},
   "source": [
    "Los objetos logger tienen tres funciones:\n",
    "\n",
    "* Exponer verios métodos al código de la aplicación tal que ella pueda generar mensajes en ejecución.\n",
    "\n",
    "* Determina las acciones de acuerdo con la severidad del mensaje.\n",
    "\n",
    "* Pasa mensajes a todos los manejadores relevantes."
   ]
  },
  {
   "cell_type": "markdown",
   "id": "27929c2c-41f0-4079-8d5a-7da7713f50ef",
   "metadata": {},
   "source": [
    "Métodos de configuración de los loggers\n",
    "---"
   ]
  },
  {
   "cell_type": "markdown",
   "id": "a2f2f5e5-4ec3-4232-8fe3-7f8bec88346d",
   "metadata": {},
   "source": [
    "* Logger.setLevel(): especifica la severidad mínima a manejar por el logger\n",
    "\n",
    "* Logger.addHandler() / Logger.removeHandler(): adicionan y remueven manejadores.\n",
    "\n",
    "* Logger.addFilter() / Logger.removeFilter(): adicionan y remueven filtros."
   ]
  },
  {
   "cell_type": "markdown",
   "id": "a899e2e6-3f75-4a80-a15b-cb90cbbafe30",
   "metadata": {},
   "source": [
    "Métodos para crear mensajes log\n",
    "---"
   ]
  },
  {
   "cell_type": "markdown",
   "id": "00b06619-9c98-4edb-8cae-511ba0e95bf4",
   "metadata": {},
   "source": [
    "* Logger.debug()\n",
    "\n",
    "* Logger.info()\n",
    "\n",
    "* Logger.warning()\n",
    "\n",
    "* Logger.error()\n",
    "\n",
    "* Logger.critical()\n",
    "\n",
    "* Logger.exception()\n",
    "\n",
    "* Logger.log()"
   ]
  },
  {
   "cell_type": "markdown",
   "id": "02b8d0d2-e747-409c-b571-57124fc05202",
   "metadata": {},
   "source": [
    "Handlers\n",
    "---"
   ]
  },
  {
   "cell_type": "markdown",
   "id": "6cfe709e-33db-440e-acba-7ce82b8c53bd",
   "metadata": {},
   "source": [
    "Responsables de despachar los mensajes de log apropiados a una destinación específica."
   ]
  },
  {
   "cell_type": "markdown",
   "id": "0716c2d0-d814-4163-b4ef-2ed8fe720fdd",
   "metadata": {},
   "source": [
    "Métodos de configuración de los handlers.\n",
    "---"
   ]
  },
  {
   "cell_type": "markdown",
   "id": "7a04d086-ae0c-4971-bd11-d32c008e60a7",
   "metadata": {},
   "source": [
    "* setLevel()\n",
    "\n",
    "* setFormater()\n",
    "\n",
    "* addFilter() / removeFilter()"
   ]
  },
  {
   "cell_type": "markdown",
   "id": "3e6c4ecc-d392-4ca4-99cf-ae3d05386ada",
   "metadata": {},
   "source": [
    "Formatters\n",
    "---"
   ]
  },
  {
   "cell_type": "markdown",
   "id": "963abbb3-c2dd-436e-8a0a-aef55a231a1c",
   "metadata": {},
   "source": [
    "```python\n",
    "logging.Formatter.__init__(fmt=None, datefmt=None, style='%')\n",
    "```"
   ]
  },
  {
   "cell_type": "markdown",
   "id": "3ed7d094-6ce6-49f4-bb4b-48dc8af19ca6",
   "metadata": {},
   "source": [
    "```python\n",
    "'%(asctime)s - %(levelname)s - %(message)s'\n",
    "```"
   ]
  },
  {
   "cell_type": "markdown",
   "id": "33718f67-d114-41e0-8f77-de3b638e6b91",
   "metadata": {},
   "source": [
    "Configuración - ejemplo 1\n",
    "---"
   ]
  },
  {
   "cell_type": "code",
   "execution_count": 13,
   "id": "7951a1b9-6a5b-4582-95e0-7eff687073ba",
   "metadata": {},
   "outputs": [
    {
     "name": "stdout",
     "output_type": "stream",
     "text": [
      "Overwriting simple_logging_module.py\n"
     ]
    }
   ],
   "source": [
    "%%writefile simple_logging_module.py\n",
    "\n",
    "import logging\n",
    "\n",
    "# create logger\n",
    "logger = logging.getLogger('simple_example')\n",
    "logger.setLevel(logging.DEBUG)\n",
    "\n",
    "# create console handler and set level to debug\n",
    "ch = logging.StreamHandler()\n",
    "ch.setLevel(logging.DEBUG)\n",
    "\n",
    "# create formatter\n",
    "formatter = logging.Formatter('%(asctime)s - %(name)s - %(levelname)s - %(message)s')\n",
    "\n",
    "# add formatter to ch\n",
    "ch.setFormatter(formatter)\n",
    "\n",
    "# add ch to logger\n",
    "logger.addHandler(ch)\n",
    "\n",
    "# 'application' code\n",
    "logger.debug('debug message')\n",
    "logger.info('info message')\n",
    "logger.warning('warn message')\n",
    "logger.error('error message')\n",
    "logger.critical('critical message')"
   ]
  },
  {
   "cell_type": "code",
   "execution_count": 14,
   "id": "92819f51-826a-4bf2-9675-6a89166d9c24",
   "metadata": {},
   "outputs": [
    {
     "name": "stdout",
     "output_type": "stream",
     "text": [
      "2022-04-20 03:11:50,458 - simple_example - DEBUG - debug message\n",
      "2022-04-20 03:11:50,458 - simple_example - INFO - info message\n",
      "2022-04-20 03:11:50,458 - simple_example - WARNING - warn message\n",
      "2022-04-20 03:11:50,458 - simple_example - ERROR - error message\n",
      "2022-04-20 03:11:50,458 - simple_example - CRITICAL - critical message\n"
     ]
    }
   ],
   "source": [
    "!python3 simple_logging_module.py"
   ]
  },
  {
   "cell_type": "markdown",
   "id": "fa71eb65-5f7c-4ec2-bb0f-0b13dc48d183",
   "metadata": {},
   "source": [
    "Configuración - ejemplo 2\n",
    "---"
   ]
  },
  {
   "cell_type": "code",
   "execution_count": 15,
   "id": "a824b4ea-a56f-461f-8709-dae51b7c1a21",
   "metadata": {},
   "outputs": [
    {
     "name": "stdout",
     "output_type": "stream",
     "text": [
      "Overwriting logging.conf\n"
     ]
    }
   ],
   "source": [
    "%%writefile logging.conf\n",
    "\n",
    "[loggers]\n",
    "keys=root,simpleExample\n",
    "\n",
    "[handlers]\n",
    "keys=consoleHandler\n",
    "\n",
    "[formatters]\n",
    "keys=simpleFormatter\n",
    "\n",
    "[logger_root]\n",
    "level=DEBUG\n",
    "handlers=consoleHandler\n",
    "\n",
    "[logger_simpleExample]\n",
    "level=DEBUG\n",
    "handlers=consoleHandler\n",
    "qualname=simpleExample\n",
    "propagate=0\n",
    "\n",
    "[handler_consoleHandler]\n",
    "class=StreamHandler\n",
    "level=DEBUG\n",
    "formatter=simpleFormatter\n",
    "args=(sys.stdout,)\n",
    "\n",
    "[formatter_simpleFormatter]\n",
    "format=%(asctime)s - %(name)s - %(levelname)s - %(message)s"
   ]
  },
  {
   "cell_type": "code",
   "execution_count": 16,
   "id": "7cfafe2a-2a35-4d29-9f36-b835195d05f6",
   "metadata": {},
   "outputs": [
    {
     "name": "stdout",
     "output_type": "stream",
     "text": [
      "Overwriting simple_logging_config.py\n"
     ]
    }
   ],
   "source": [
    "%%writefile simple_logging_config.py\n",
    "\n",
    "import logging\n",
    "import logging.config\n",
    "\n",
    "logging.config.fileConfig('logging.conf')\n",
    "\n",
    "# create logger\n",
    "logger = logging.getLogger('simpleExample')\n",
    "\n",
    "# 'application' code\n",
    "logger.debug('debug message')\n",
    "logger.info('info message')\n",
    "logger.warning('warn message')\n",
    "logger.error('error message')\n",
    "logger.critical('critical message')"
   ]
  },
  {
   "cell_type": "code",
   "execution_count": 17,
   "id": "586c4250-e849-425e-88d3-423d36d4fa4f",
   "metadata": {},
   "outputs": [
    {
     "name": "stdout",
     "output_type": "stream",
     "text": [
      "2022-04-20 03:11:50,833 - simpleExample - DEBUG - debug message\n",
      "2022-04-20 03:11:50,833 - simpleExample - INFO - info message\n",
      "2022-04-20 03:11:50,833 - simpleExample - WARNING - warn message\n",
      "2022-04-20 03:11:50,833 - simpleExample - ERROR - error message\n",
      "2022-04-20 03:11:50,833 - simpleExample - CRITICAL - critical message\n"
     ]
    }
   ],
   "source": [
    "!python3 simple_logging_config.py"
   ]
  },
  {
   "cell_type": "code",
   "execution_count": 18,
   "id": "2a21c503-33d3-469b-881a-f17aca2ab8c3",
   "metadata": {},
   "outputs": [],
   "source": [
    "!rm *.py *.log *.conf"
   ]
  }
 ],
 "metadata": {
  "kernelspec": {
   "display_name": "Python 3 (ipykernel)",
   "language": "python",
   "name": "python3"
  },
  "language_info": {
   "codemirror_mode": {
    "name": "ipython",
    "version": 3
   },
   "file_extension": ".py",
   "mimetype": "text/x-python",
   "name": "python",
   "nbconvert_exporter": "python",
   "pygments_lexer": "ipython3",
   "version": "3.8.10"
  }
 },
 "nbformat": 4,
 "nbformat_minor": 5
}
