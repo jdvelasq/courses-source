{
 "cells": [
  {
   "cell_type": "markdown",
   "id": "b313aaf4-0d3d-4525-9a1b-146d6d6eca9b",
   "metadata": {
    "tags": []
   },
   "source": [
    "Capa RandomZoom --- 0:00 min\n",
    "===\n",
    "\n",
    "* Última modificación: Marzo 7, 2022 | YouTube\n",
    "\n",
    "* Adaptado de: https://keras.io/api/layers/preprocessing_layers/image_augmentation/random_zoom/"
   ]
  },
  {
   "cell_type": "markdown",
   "id": "e7b8c26e-0bf3-46fd-9b36-f0c2d7ae76a8",
   "metadata": {
    "tags": []
   },
   "source": [
    "Importación de librerías\n",
    "---"
   ]
  },
  {
   "cell_type": "code",
   "execution_count": 1,
   "id": "0b314137-a6ef-49cf-a50d-e1f49b8add5e",
   "metadata": {},
   "outputs": [
    {
     "data": {
      "text/plain": [
       "'2.8.0'"
      ]
     },
     "execution_count": 1,
     "metadata": {},
     "output_type": "execute_result"
    }
   ],
   "source": [
    "import os\n",
    "\n",
    "os.environ[\"TF_CPP_MIN_LOG_LEVEL\"] = \"2\"\n",
    "\n",
    "import tensorflow as tf\n",
    "\n",
    "tf.__version__"
   ]
  },
  {
   "cell_type": "markdown",
   "id": "8dfcee73-2ade-4754-834b-2ce6066d6e99",
   "metadata": {},
   "source": [
    "Ejemplos de uso\n",
    "---"
   ]
  },
  {
   "cell_type": "markdown",
   "id": "1309ead7-ecf0-4eda-afad-6b10fe3d3998",
   "metadata": {},
   "source": [
    "Amplia aleatoriamente las imágenes durante el entrenamiento."
   ]
  },
  {
   "cell_type": "code",
   "execution_count": null,
   "id": "2083d3cd-b749-4439-8fa0-e192877ef41c",
   "metadata": {},
   "outputs": [],
   "source": []
  }
 ],
 "metadata": {
  "kernelspec": {
   "display_name": "Python 3 (ipykernel)",
   "language": "python",
   "name": "python3"
  },
  "language_info": {
   "codemirror_mode": {
    "name": "ipython",
    "version": 3
   },
   "file_extension": ".py",
   "mimetype": "text/x-python",
   "name": "python",
   "nbconvert_exporter": "python",
   "pygments_lexer": "ipython3",
   "version": "3.9.10"
  }
 },
 "nbformat": 4,
 "nbformat_minor": 5
}
