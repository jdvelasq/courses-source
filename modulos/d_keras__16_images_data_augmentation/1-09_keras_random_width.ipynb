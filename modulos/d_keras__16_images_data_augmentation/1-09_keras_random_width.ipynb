{
 "cells": [
  {
   "cell_type": "markdown",
   "id": "e8f3a9e4-a695-477f-bb7b-4e158d4d49e0",
   "metadata": {
    "tags": []
   },
   "source": [
    "Capa RandomWidth --- 0:00 min\n",
    "===\n",
    "\n",
    "* Última modificación: Marzo 7, 2022 | YouTube\n",
    "\n",
    "* Adaptado de: https://keras.io/api/layers/preprocessing_layers/image_augmentation/random_width/"
   ]
  },
  {
   "cell_type": "markdown",
   "id": "542e4d30-b820-4da9-84c4-023d6c8aa0d4",
   "metadata": {},
   "source": [
    "Varía aleatoriamente el ancho de la imagen durante el entrenamiento."
   ]
  },
  {
   "cell_type": "markdown",
   "id": "2628960e-6ed6-4bc2-b5fb-9f4a1ed305f5",
   "metadata": {
    "tags": []
   },
   "source": [
    "Importación de librerías\n",
    "---"
   ]
  },
  {
   "cell_type": "code",
   "execution_count": 1,
   "id": "0667ac87-dc35-4555-8af4-2fd42a9368e6",
   "metadata": {},
   "outputs": [
    {
     "data": {
      "text/plain": [
       "'2.8.0'"
      ]
     },
     "execution_count": 1,
     "metadata": {},
     "output_type": "execute_result"
    }
   ],
   "source": [
    "import os\n",
    "\n",
    "os.environ[\"TF_CPP_MIN_LOG_LEVEL\"] = \"2\"\n",
    "\n",
    "import tensorflow as tf\n",
    "\n",
    "tf.__version__"
   ]
  },
  {
   "cell_type": "markdown",
   "id": "96ef17cf-39b4-45b7-8ee8-2f7486fa2454",
   "metadata": {},
   "source": [
    "Ejemplos de uso\n",
    "---"
   ]
  },
  {
   "cell_type": "code",
   "execution_count": null,
   "id": "ccec2d43-1c13-469c-b132-c593ec3cc750",
   "metadata": {},
   "outputs": [],
   "source": []
  }
 ],
 "metadata": {
  "kernelspec": {
   "display_name": "Python 3 (ipykernel)",
   "language": "python",
   "name": "python3"
  },
  "language_info": {
   "codemirror_mode": {
    "name": "ipython",
    "version": 3
   },
   "file_extension": ".py",
   "mimetype": "text/x-python",
   "name": "python",
   "nbconvert_exporter": "python",
   "pygments_lexer": "ipython3",
   "version": "3.9.10"
  }
 },
 "nbformat": 4,
 "nbformat_minor": 5
}
