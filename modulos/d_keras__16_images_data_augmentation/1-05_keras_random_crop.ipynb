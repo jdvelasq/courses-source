{
 "cells": [
  {
   "cell_type": "markdown",
   "id": "fbcd01cf-4b85-42e0-b867-8f0531fe7b76",
   "metadata": {
    "tags": []
   },
   "source": [
    "Capa RandomCrop --- 0:00 min\n",
    "===\n",
    "\n",
    "* Última modificación: Marzo 7, 2022 | YouTube\n",
    "\n",
    "* Adaptado de: https://keras.io/api/layers/preprocessing_layers/image_augmentation/random_crop/"
   ]
  },
  {
   "cell_type": "markdown",
   "id": "7ef3242a-e9b8-4248-bb23-74f92928eb33",
   "metadata": {
    "tags": []
   },
   "source": [
    "Importación de librerías\n",
    "---"
   ]
  },
  {
   "cell_type": "code",
   "execution_count": 1,
   "id": "34387c10-8eef-4aad-844f-91dcbbb3afd5",
   "metadata": {},
   "outputs": [
    {
     "data": {
      "text/plain": [
       "'2.8.0'"
      ]
     },
     "execution_count": 1,
     "metadata": {},
     "output_type": "execute_result"
    }
   ],
   "source": [
    "import os\n",
    "\n",
    "os.environ[\"TF_CPP_MIN_LOG_LEVEL\"] = \"2\"\n",
    "\n",
    "import tensorflow as tf\n",
    "\n",
    "tf.__version__"
   ]
  },
  {
   "cell_type": "markdown",
   "id": "b6831574-7514-4054-b90c-c8bf11db4aaf",
   "metadata": {},
   "source": [
    "Ejemplos de uso\n",
    "---"
   ]
  },
  {
   "cell_type": "markdown",
   "id": "a9a37d64-8929-420d-933f-4e8d7c349636",
   "metadata": {},
   "source": [
    "Esta capa recorta aleatoriamente las imágenes durante el entrenamiento."
   ]
  },
  {
   "cell_type": "code",
   "execution_count": null,
   "id": "51fa9264-31a2-4106-9618-12ca5aadf985",
   "metadata": {},
   "outputs": [],
   "source": []
  }
 ],
 "metadata": {
  "kernelspec": {
   "display_name": "Python 3 (ipykernel)",
   "language": "python",
   "name": "python3"
  },
  "language_info": {
   "codemirror_mode": {
    "name": "ipython",
    "version": 3
   },
   "file_extension": ".py",
   "mimetype": "text/x-python",
   "name": "python",
   "nbconvert_exporter": "python",
   "pygments_lexer": "ipython3",
   "version": "3.9.10"
  }
 },
 "nbformat": 4,
 "nbformat_minor": 5
}
