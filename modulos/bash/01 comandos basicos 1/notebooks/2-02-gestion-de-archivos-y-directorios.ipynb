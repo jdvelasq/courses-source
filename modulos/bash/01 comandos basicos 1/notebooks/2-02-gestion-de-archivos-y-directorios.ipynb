{
 "cells": [
  {
   "cell_type": "markdown",
   "metadata": {},
   "source": [
    "# Gestión de archivos y directorios en Bash\n",
    "\n",
    "* *50 min* | Última modificación: Diciembre 16, 2019."
   ]
  },
  {
   "cell_type": "markdown",
   "metadata": {},
   "source": [
    "En este tutorial, aprenderá a:\n",
    "\n",
    "* Obtener ayuda sobre el uso de un comando.\n",
    "\n",
    "* Recorrer la estructura de directorios del disco duro desde el `Terminal`. \n",
    "\n",
    "* Determinar el directorio de trabajo actual.\n",
    "\n",
    "* Crear, borrar, copiar y mover archivos y directorios.\n"
   ]
  },
  {
   "cell_type": "markdown",
   "metadata": {},
   "source": [
    "## Acceso a la terminal de comandos"
   ]
  },
  {
   "cell_type": "markdown",
   "metadata": {
    "inputHidden": false,
    "outputHidden": false
   },
   "source": [
    "<div class=\"alert alert-info\">   \n",
    "    \n",
    "Importante:\n",
    "\n",
    "Para realizar los ejemplos use la VM creada con Vagrant. Vaya al directorio de trabajo donde creo el archivo `Vagrantfile` y arranque la VM usando `vagrant up`; luego entre a la VM con `vagrant ssh`.\n",
    "   \n",
    "</div>"
   ]
  },
  {
   "cell_type": "markdown",
   "metadata": {},
   "source": [
    "## Obtención de ayuda con `man`"
   ]
  },
  {
   "cell_type": "markdown",
   "metadata": {},
   "source": [
    "El prompt de comandos proporcional un manual en línea sobre los comandos del sistema. Para obtener ayuda en línea sobre un determinado comando digite: \n",
    "\n",
    "`    man <comando>`\n",
    "\n",
    "donde `<comando>` es el comando de interés. Para salir de la ayuda digite `q`."
   ]
  },
  {
   "cell_type": "markdown",
   "metadata": {},
   "source": [
    "## Organización del sistema de directorios y archivos"
   ]
  },
  {
   "cell_type": "markdown",
   "metadata": {},
   "source": [
    "En Unix, Linux y OS X, el sistema de archivos está organizado en una estructura de árbol cuyo directorio  inicial es `/`. A partir de este directorio se desprenden varios subdirectorios predefinidos que están organizados de acuerdo a sus funciones y cuyos nombres y organización dependen de cada sistema operativo particular (Haga click [aquí](https://en.wikipedia.org/wiki/Unix_filesystem) para ver una descripción general del sistema de archivos). Por ejemplo, en el caso de Mac OS X,  el directorio de trabajo del usuario `jdvelasq` aparece como\n",
    "\n",
    "\n",
    "``` \n",
    "/Users/jdvelasq\n",
    "```\n",
    "\n",
    "\n",
    "(note el `/` inicial). Si existe un archivo llamado `notas.txt` en el directorio de trabajo de dicho usuario, entonces la dirección absoluta de dicho archivo es\n",
    "\n",
    "```\n",
    "/Users/jdvelasq/notas.txt\n",
    "```\n",
    "\n",
    "En el caso de la VM, la  carpeta de usuario es `/home/vagrant`, mientras que la carpeta compartida con la máquina local es `/vagrant`.  \n",
    "\n",
    "Existen varias convenciones para referirse a un archivo  de forma relativa:\n",
    "\n",
    "*\t`~` indica el directorio de trabajo del usuario actual, tal que el archivo anterior podría referenciarse como `~/notas.txt`.  Aquí `~` indica `/home/vagrant`.\n",
    "*\t`notas.txt` hace referencia al archivo con ese nombre ubicado en el directorio actual.\n",
    "*\t`datos/notas.txt`  corresponde al archivo `notas.txt` ubicado en la subcarpeta datos de la capeta actual.\n",
    "*\t`/datos/notas.txt` se refiere al archivo con ese nombre ubicado en la carpeta datos de la raíz del sistema (no en la carpeta actual). \n",
    "*\tEn algunos casos es necesario referenciar al archivo `notas.txt` que se encuentra en el directorio actual como `./notas.txt`.\n",
    "\n",
    "El siguiente diagrama ejemplifica esta situación:\n",
    "\n",
    "```bash\n",
    "    /                          # directorio raíz\n",
    "    +--- notas.txt             # Este archivo se referencia como /notas.txt\n",
    "    +--- home/                 # \n",
    "         +--- vagrant/         # usuario actual\n",
    "              +--- notas.txt   # /home/vagrant/notas.txt  o ~/notas.txt\n",
    "```\n"
   ]
  },
  {
   "cell_type": "markdown",
   "metadata": {},
   "source": [
    "Es común configurar el prompt para que indique el usuario, el servidor y el directorio actual. Cuando se inicia la VM, el directorioactual es `/home/vagrant`:\n",
    "\n",
    "     vagrant@ubuntu-bionic:~$  \n",
    "\n",
    "El siguiente diagrama expica como cambia el prompt dependiendo de la ubicación\n",
    "\n",
    "```bash\n",
    "/                    <-- vagrant@ubuntu-bionic:/$\n",
    "+--- home/           <-- vagrant@ubuntu-bionic:/home$\n",
    "     +--- vagrant/   <-- vagrant@ubuntu-bionic:~$\n",
    "```"
   ]
  },
  {
   "cell_type": "markdown",
   "metadata": {},
   "source": [
    "## Tareas típicas"
   ]
  },
  {
   "cell_type": "markdown",
   "metadata": {},
   "source": [
    "A continuación se presentan las tareas típicas que se ejecutan en el `Terminal`."
   ]
  },
  {
   "cell_type": "markdown",
   "metadata": {},
   "source": [
    "### Determinación del directorio actual con `pwd`  "
   ]
  },
  {
   "cell_type": "markdown",
   "metadata": {},
   "source": [
    "El comando `pwd` devuelve el nombre del directorio actual de trabajo."
   ]
  },
  {
   "cell_type": "code",
   "execution_count": 1,
   "metadata": {},
   "outputs": [
    {
     "name": "stdout",
     "output_type": "stream",
     "text": [
      "/workspace/bash\n"
     ]
    }
   ],
   "source": [
    "!pwd"
   ]
  },
  {
   "cell_type": "markdown",
   "metadata": {},
   "source": [
    "### Listado del contenido de un directorio con `ls`"
   ]
  },
  {
   "cell_type": "markdown",
   "metadata": {},
   "source": [
    "El comando `ls` imprime el nombre de los archivos y directorios existentes dentro del directorio de trabajo."
   ]
  },
  {
   "cell_type": "code",
   "execution_count": 2,
   "metadata": {},
   "outputs": [
    {
     "name": "stdout",
     "output_type": "stream",
     "text": [
      "1-01-porque-bash.rst\n",
      "2-02-gestion-de-archivos-y-directorios.ipynb\n",
      "2-03-actividad-gestion-de-archivos-y-directorios.rst\n",
      "2-04-actividad-creacion-y-edicion-de-archivos-de-texto.ipynb\n",
      "3-05-comandos-basicos-datos.ipynb\n",
      "3-06-actividad-superstore.rst\n",
      "4-07-uso-interactivo-del-terminal.ipynb\n",
      "5-08-edicion-de-archivos-con-sed.ipynb\n",
      "5-09-edicion-de-archivos-con-awk.ipynb\n",
      "5-10-edicion-de-archivos-con-perl.ipynb\n",
      "6-13-app-interactiva.ipynb\n",
      "7-14-programacion-del-terminal.ipynb\n",
      "data\n"
     ]
    }
   ],
   "source": [
    "!ls"
   ]
  },
  {
   "cell_type": "markdown",
   "metadata": {},
   "source": [
    "La opción `-l` del comando `ls` imprime información detallada del contenido del directorio de trabajo y sus respectivos permisos. "
   ]
  },
  {
   "cell_type": "code",
   "execution_count": 3,
   "metadata": {},
   "outputs": [
    {
     "name": "stdout",
     "output_type": "stream",
     "text": [
      "total 240\n",
      "-rw-r--r-- 1 root root  7428 May  4 04:04 1-01-porque-bash.rst\n",
      "-rwxr-xr-x 1 root root 18081 May 25 22:01 2-02-gestion-de-archivos-y-directorios.ipynb\n",
      "-rw-r--r-- 1 root root  1567 May  7 03:57 2-03-actividad-gestion-de-archivos-y-directorios.rst\n",
      "-rw-r--r-- 1 root root  5564 May 25 21:59 2-04-actividad-creacion-y-edicion-de-archivos-de-texto.ipynb\n",
      "-rw-r--r-- 1 root root 27163 May 25 21:59 3-05-comandos-basicos-datos.ipynb\n",
      "-rw-r--r-- 1 root root   973 May  4 04:04 3-06-actividad-superstore.rst\n",
      "-rw-r--r-- 1 root root 45566 May 25 21:59 4-07-uso-interactivo-del-terminal.ipynb\n",
      "-rw-r--r-- 1 root root 23073 May 25 21:59 5-08-edicion-de-archivos-con-sed.ipynb\n",
      "-rw-r--r-- 1 root root 23486 May 25 21:59 5-09-edicion-de-archivos-con-awk.ipynb\n",
      "-rw-r--r-- 1 root root 20218 May 25 22:00 5-10-edicion-de-archivos-con-perl.ipynb\n",
      "-rw-r--r-- 1 root root  8463 May 25 22:00 6-13-app-interactiva.ipynb\n",
      "-rw-r--r-- 1 root root 39898 May 25 22:00 7-14-programacion-del-terminal.ipynb\n",
      "drwxr-xr-x 2 root root    64 May 25 21:59 data\n"
     ]
    }
   ],
   "source": [
    "!ls -l"
   ]
  },
  {
   "cell_type": "markdown",
   "metadata": {},
   "source": [
    "Al principio de cada línea hay una cadena de diez caracteres, por ejemplo `-rw-r--r--`. El primer carácter indica si el elemento es un archivo (`-`) o un directorio (`d`). Luego siguen tres grupos de tres caracteres que indican: \n",
    "\n",
    "* Permisos de usuario.\n",
    "* Permisos de grupo.\n",
    "* Otros permisos.\n",
    "\n",
    "En su orden, los tres caracteres de cada grupo representan lo siguiente: \n",
    "\n",
    "* Si el archivo tiene permiso de lectura (`r`) o no (`-`). \n",
    "* Si el archivo tiene permiso de escritura (`w`) o no (`-`).\n",
    "* Si el archivo es ejecutable (`x`) o no (`-`); consulte la ayuda de `ls` para obtener más opciones.\n",
    "\n",
    "Por ejemplo, la cadena `-rwxr-xr-x` indica que el elemento es un archivo (`-`), que el usuario (dueño) tiene permisos de lectura y escritura (`rw`), que el archivo es ejecutable (`x`) y que otros usuarios solo pueden leerlo (`r--`).  \n",
    "\n"
   ]
  },
  {
   "cell_type": "markdown",
   "metadata": {},
   "source": [
    "### Creación de directorios con `mkdir`  "
   ]
  },
  {
   "cell_type": "markdown",
   "metadata": {},
   "source": [
    "El comando `mkdir nombredir` crea el directorio llamado `nombredir` dentro del directorio actual."
   ]
  },
  {
   "cell_type": "code",
   "execution_count": 4,
   "metadata": {
    "scrolled": true
   },
   "outputs": [
    {
     "name": "stdout",
     "output_type": "stream",
     "text": [
      "mkdir: cannot create directory ‘data’: File exists\n"
     ]
    }
   ],
   "source": [
    "!mkdir data"
   ]
  },
  {
   "cell_type": "markdown",
   "metadata": {},
   "source": [
    "Para visualizar el contenido del directorio `data` (que está vacío) se utiliza igualmente el comando `ls`."
   ]
  },
  {
   "cell_type": "code",
   "execution_count": 5,
   "metadata": {
    "scrolled": true
   },
   "outputs": [
    {
     "name": "stdout",
     "output_type": "stream",
     "text": [
      "total 0\n"
     ]
    }
   ],
   "source": [
    "!ls -l ./data # no imprime nada porque el directorio './data' está vacío."
   ]
  },
  {
   "cell_type": "markdown",
   "metadata": {},
   "source": [
    "### Cambio del directorio actual con `cd` "
   ]
  },
  {
   "cell_type": "markdown",
   "metadata": {},
   "source": [
    "Para moverse entre la estructura de directorios se usa el comando `cd`. \n",
    "\n",
    "`cd <nombredir>` permite moverse al directorio `<nombredir>` mientras que `cd ..` permite subir al directorio padre. "
   ]
  },
  {
   "cell_type": "code",
   "execution_count": 6,
   "metadata": {
    "scrolled": true
   },
   "outputs": [],
   "source": [
    "!cd data  "
   ]
  },
  {
   "cell_type": "code",
   "execution_count": 7,
   "metadata": {},
   "outputs": [
    {
     "name": "stdout",
     "output_type": "stream",
     "text": [
      "/workspace/bash\n"
     ]
    }
   ],
   "source": [
    "!pwd "
   ]
  },
  {
   "cell_type": "markdown",
   "metadata": {},
   "source": [
    "Ahora, sube al directorio padre"
   ]
  },
  {
   "cell_type": "code",
   "execution_count": 8,
   "metadata": {},
   "outputs": [
    {
     "name": "stdout",
     "output_type": "stream",
     "text": [
      "/workspace/bash\n"
     ]
    }
   ],
   "source": [
    "!cd .. \n",
    "!pwd"
   ]
  },
  {
   "cell_type": "markdown",
   "metadata": {},
   "source": [
    "Al listar el contenido del directorio actual aparece el nuevo directorio `data`."
   ]
  },
  {
   "cell_type": "code",
   "execution_count": 9,
   "metadata": {},
   "outputs": [
    {
     "name": "stdout",
     "output_type": "stream",
     "text": [
      "total 240\n",
      "-rw-r--r-- 1 root root  7428 May  4 04:04 1-01-porque-bash.rst\n",
      "-rwxr-xr-x 1 root root 18081 May 25 22:01 2-02-gestion-de-archivos-y-directorios.ipynb\n",
      "-rw-r--r-- 1 root root  1567 May  7 03:57 2-03-actividad-gestion-de-archivos-y-directorios.rst\n",
      "-rw-r--r-- 1 root root  5564 May 25 21:59 2-04-actividad-creacion-y-edicion-de-archivos-de-texto.ipynb\n",
      "-rw-r--r-- 1 root root 27163 May 25 21:59 3-05-comandos-basicos-datos.ipynb\n",
      "-rw-r--r-- 1 root root   973 May  4 04:04 3-06-actividad-superstore.rst\n",
      "-rw-r--r-- 1 root root 45566 May 25 21:59 4-07-uso-interactivo-del-terminal.ipynb\n",
      "-rw-r--r-- 1 root root 23073 May 25 21:59 5-08-edicion-de-archivos-con-sed.ipynb\n",
      "-rw-r--r-- 1 root root 23486 May 25 21:59 5-09-edicion-de-archivos-con-awk.ipynb\n",
      "-rw-r--r-- 1 root root 20218 May 25 22:00 5-10-edicion-de-archivos-con-perl.ipynb\n",
      "-rw-r--r-- 1 root root  8463 May 25 22:00 6-13-app-interactiva.ipynb\n",
      "-rw-r--r-- 1 root root 39898 May 25 22:00 7-14-programacion-del-terminal.ipynb\n",
      "drwxr-xr-x 2 root root    64 May 25 21:59 data\n"
     ]
    }
   ],
   "source": [
    "!ls -l  "
   ]
  },
  {
   "cell_type": "markdown",
   "metadata": {},
   "source": [
    "`cd` admite direcciones absolutas; por ejemplo, `cd ~` y `cd /home/vagrant`  permiten ir al directorio raíz del usuario. "
   ]
  },
  {
   "cell_type": "markdown",
   "metadata": {},
   "source": [
    "### Eliminación de directorios con `rmdir`"
   ]
  },
  {
   "cell_type": "markdown",
   "metadata": {},
   "source": [
    "El comando `rmdir <nombredir>` borra el directorio `<nombredir>`. El directorio debe estar vacío para poder borrarlo."
   ]
  },
  {
   "cell_type": "code",
   "execution_count": 10,
   "metadata": {
    "scrolled": true
   },
   "outputs": [],
   "source": [
    "!rmdir ./data"
   ]
  },
  {
   "cell_type": "markdown",
   "metadata": {},
   "source": [
    "### Creación de archivos vacíos con `touch`"
   ]
  },
  {
   "cell_type": "markdown",
   "metadata": {},
   "source": [
    "El comando `touch` permite modificar las fechas de creación y acceso de un archivo. Puede ser usado para la creación de archivos ya que si dicho archivo no existe, `touch` lo crea.  "
   ]
  },
  {
   "cell_type": "code",
   "execution_count": 11,
   "metadata": {},
   "outputs": [
    {
     "name": "stdout",
     "output_type": "stream",
     "text": [
      "-rw-r--r-- 1 root root 0 May 25 22:02 out.1\n"
     ]
    }
   ],
   "source": [
    "# crea el archivo out.1\n",
    "!touch out.1\n",
    "\n",
    "# lista los archivos que empiezan por out\n",
    "!ls -l out*"
   ]
  },
  {
   "cell_type": "markdown",
   "metadata": {},
   "source": [
    "### Copia de archivos con `cp`"
   ]
  },
  {
   "cell_type": "markdown",
   "metadata": {},
   "source": [
    "Su sintaxis es `cp <origen> <destino>`. En el siguiente ejemplo se crea una copia de `out.1` llamada `out.2`."
   ]
  },
  {
   "cell_type": "code",
   "execution_count": 12,
   "metadata": {},
   "outputs": [
    {
     "name": "stdout",
     "output_type": "stream",
     "text": [
      "-rw-r--r-- 1 root root 0 May 25 22:02 out.1\n",
      "-rw-r--r-- 1 root root 0 May 25 22:02 out.2\n"
     ]
    }
   ],
   "source": [
    "!cp out.1 out.2\n",
    "!ls -l out*"
   ]
  },
  {
   "cell_type": "markdown",
   "metadata": {},
   "source": [
    "### Renombrado y movimiento de archivos con `mv`"
   ]
  },
  {
   "cell_type": "markdown",
   "metadata": {},
   "source": [
    "`mv` puede cambiar la ubicación y el nombre de un archivo. Su sintaxis es `mv <origen> <destino>`."
   ]
  },
  {
   "cell_type": "markdown",
   "metadata": {},
   "source": [
    "En el siguiente ejemplo se cambia el nombre del archivo `out.2` a `out.3`."
   ]
  },
  {
   "cell_type": "code",
   "execution_count": 13,
   "metadata": {},
   "outputs": [
    {
     "name": "stdout",
     "output_type": "stream",
     "text": [
      "-rw-r--r-- 1 root root 0 May 25 22:02 out.1\n",
      "-rw-r--r-- 1 root root 0 May 25 22:02 out.3\n"
     ]
    }
   ],
   "source": [
    "!mv out.2 out.3\n",
    "!ls -l out*"
   ]
  },
  {
   "cell_type": "markdown",
   "metadata": {},
   "source": [
    "### Borrado de archivos con `rm`   "
   ]
  },
  {
   "cell_type": "markdown",
   "metadata": {},
   "source": [
    "A continuación se borran todos los archivos creados como ejemplos en este libro."
   ]
  },
  {
   "cell_type": "code",
   "execution_count": 14,
   "metadata": {
    "scrolled": true
   },
   "outputs": [],
   "source": [
    "!rm out*"
   ]
  },
  {
   "cell_type": "markdown",
   "metadata": {},
   "source": [
    "Resumen\n",
    "---"
   ]
  },
  {
   "cell_type": "markdown",
   "metadata": {},
   "source": [
    "```bash\n",
    "## ayuda sobre el comando <cmd>\n",
    "man <cmd>\n",
    "\n",
    "## nombre del directorio actual\n",
    "pwd\n",
    "\n",
    "## contenido del directorio\n",
    "ls\n",
    "ls -l\n",
    "\n",
    "## creacion de directorios\n",
    "mkdir <nombredir>\n",
    "\n",
    "## borrado de directorios\n",
    "rmdir <nombredir>\n",
    "\n",
    "## navegación entre directorios\n",
    "cd ..     # directorio padre\n",
    "cd <dir>  # ir al directorio <dir>\n",
    "\n",
    "## creación de un archivo vacio\n",
    "touch <filename>\n",
    "\n",
    "## copia de archivos\n",
    "cp <origen> <destino>\n",
    "\n",
    "## movimiento de archivos\n",
    "mv <origen> <destino>\n",
    "\n",
    "## borrado de archivos\n",
    "rm <filename>\n",
    "```"
   ]
  }
 ],
 "metadata": {
  "kernel_info": {
   "name": "bash"
  },
  "kernelspec": {
   "display_name": "Python 3 (ipykernel)",
   "language": "python",
   "name": "python3"
  },
  "language_info": {
   "codemirror_mode": {
    "name": "ipython",
    "version": 3
   },
   "file_extension": ".py",
   "mimetype": "text/x-python",
   "name": "python",
   "nbconvert_exporter": "python",
   "pygments_lexer": "ipython3",
   "version": "3.8.10"
  },
  "nbpresent": {
   "slides": {
    "940b5fc9-9cdd-41d7-8372-719403fc2bd2": {
     "id": "940b5fc9-9cdd-41d7-8372-719403fc2bd2",
     "prev": null,
     "regions": {
      "395f31a1-eb6e-4371-acb3-490ee879b8b8": {
       "attrs": {
        "height": 0.2,
        "width": 0.4,
        "x": 0.5,
        "y": 0.7
       },
       "id": "395f31a1-eb6e-4371-acb3-490ee879b8b8"
      },
      "92e1a1f9-4ebc-41a2-bfe8-899c8e794d14": {
       "attrs": {
        "height": 0.8,
        "width": 0.8,
        "x": 0.1,
        "y": 0.1
       },
       "id": "92e1a1f9-4ebc-41a2-bfe8-899c8e794d14"
      },
      "ad53a586-a210-4ed7-adb4-961b08e598b8": {
       "attrs": {
        "height": 0.2,
        "width": 0.4,
        "x": 0.1,
        "y": 0.7
       },
       "id": "ad53a586-a210-4ed7-adb4-961b08e598b8"
      },
      "bd4aba0d-fa0b-42e7-81a3-0beac29f2241": {
       "attrs": {
        "height": 0.8,
        "width": 0.8,
        "x": 0.1,
        "y": 0.1
       },
       "id": "bd4aba0d-fa0b-42e7-81a3-0beac29f2241"
      },
      "cefb04b2-32f0-4965-923e-1a6b36c37fd8": {
       "attrs": {
        "height": 0.6,
        "width": 0.8,
        "x": 0.1,
        "y": 0.1
       },
       "content": {
        "cell": "a4b09f9a-453a-4787-83c4-61a43f75d860",
        "part": "source"
       },
       "id": "cefb04b2-32f0-4965-923e-1a6b36c37fd8"
      }
     }
    }
   }
  },
  "nteract": {
   "version": "0.12.3"
  }
 },
 "nbformat": 4,
 "nbformat_minor": 4
}
