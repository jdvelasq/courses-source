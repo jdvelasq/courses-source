{
 "cells": [
  {
   "cell_type": "markdown",
   "metadata": {},
   "source": [
    "Comandos básicos para manejo de archivos de datos\n",
    "====================================================\n",
    "\n",
    "* *60 min* | Última modificación: Diciembre 17, 2019."
   ]
  },
  {
   "cell_type": "markdown",
   "metadata": {},
   "source": [
    "Descarga de datos\n",
    "--"
   ]
  },
  {
   "cell_type": "markdown",
   "metadata": {},
   "source": [
    "El comando `wget` permite la descarga de archivos a la máquina local."
   ]
  },
  {
   "cell_type": "code",
   "execution_count": 1,
   "metadata": {},
   "outputs": [
    {
     "name": "stdout",
     "output_type": "stream",
     "text": [
      "--2022-05-25 22:07:11--  https://raw.githubusercontent.com/jdvelasq/playground/master/datasets/orders.csv\n",
      "Resolving raw.githubusercontent.com (raw.githubusercontent.com)... 185.199.109.133, 185.199.110.133, 185.199.111.133, ...\n",
      "Connecting to raw.githubusercontent.com (raw.githubusercontent.com)|185.199.109.133|:443... connected.\n",
      "HTTP request sent, awaiting response... 200 OK\n",
      "Length: 434349 (424K) [text/plain]\n",
      "Saving to: ‘orders.csv’\n",
      "\n",
      "orders.csv          100%[===================>] 424.17K  --.-KB/s    in 0.1s    \n",
      "\n",
      "2022-05-25 22:07:11 (3.93 MB/s) - ‘orders.csv’ saved [434349/434349]\n",
      "\n"
     ]
    }
   ],
   "source": [
    "!wget https://raw.githubusercontent.com/jdvelasq/playground/master/datasets/orders.csv"
   ]
  },
  {
   "cell_type": "markdown",
   "metadata": {},
   "source": [
    "Visualización del contenido de un archivo con cat\n",
    "--"
   ]
  },
  {
   "cell_type": "markdown",
   "metadata": {},
   "source": [
    "El comando `cat`  *`nombrearchivo`* imprime en pantalla el contenido del archivo."
   ]
  },
  {
   "cell_type": "code",
   "execution_count": 2,
   "metadata": {},
   "outputs": [],
   "source": [
    "# no se usa aca porque la salida es muy larga\n",
    "# !cat orders.csv"
   ]
  },
  {
   "cell_type": "markdown",
   "metadata": {},
   "source": [
    "Visualización del inicio de un archivo con head\n",
    "--"
   ]
  },
  {
   "cell_type": "markdown",
   "metadata": {},
   "source": [
    "El comando `head` se usa para visualizar la porción inicial del contenido de un archivo. `head` imprime por defecto las primeras 10 líneas. La cantidad de líneas visualizadas se puede modificar mediante la opción `-n`."
   ]
  },
  {
   "cell_type": "code",
   "execution_count": 3,
   "metadata": {},
   "outputs": [
    {
     "name": "stdout",
     "output_type": "stream",
     "text": [
      "Order ID;Order Date;Customer Name;City;Country;Region;Segment;Ship Date;Ship Mode;State\n",
      "BN-2011-7407039;1/01/11;Ruby Patel;Stockholm;Sweden;North;Home Office;5/01/11;Economy Plus;Stockholm\n",
      "AZ-2011-9050313;3/01/11;Summer Hayward;Southport;United Kingdom;North;Consumer;7/01/11;Economy;England\n",
      "AZ-2011-6674300;4/01/11;Devin Huddleston;Valence;France;Central;Consumer;8/01/11;Economy;Auvergne-Rh�ne-Alpes\n",
      "BN-2011-2819714;4/01/11;Mary Parker;Birmingham;United Kingdom;North;Corporate;9/01/11;Economy;England\n",
      "AZ-2011-617423;5/01/11;Daniel Burke;Echirolles;France;Central;Home Office;7/01/11;Priority;Auvergne-Rh�ne-Alpes\n",
      "AZ-2011-2918397;7/01/11;Fredrick Beveridge;La Seyne-sur-Mer;France;Central;Corporate;8/01/11;Priority;Provence-Alpes-C�te d'Azur\n",
      "BN-2011-3248724;8/01/11;Archer Hort;Toulouse;France;Central;Consumer;14/01/11;Economy;Languedoc-Roussillon-Midi-Pyr�n�es\n",
      "AZ-2011-6712797;11/01/11;Evie Flockhart;Genoa;Italy;South;Consumer;16/01/11;Economy;Liguria\n",
      "AZ-2011-4827146;11/01/11;Faith Greenwood;Vienna;Austria;Central;Consumer;15/01/11;Economy;Vienna\n"
     ]
    }
   ],
   "source": [
    "!head orders.csv"
   ]
  },
  {
   "cell_type": "code",
   "execution_count": 4,
   "metadata": {},
   "outputs": [
    {
     "name": "stdout",
     "output_type": "stream",
     "text": [
      "Order ID;Order Date;Customer Name;City;Country;Region;Segment;Ship Date;Ship Mode;State\n",
      "BN-2011-7407039;1/01/11;Ruby Patel;Stockholm;Sweden;North;Home Office;5/01/11;Economy Plus;Stockholm\n",
      "AZ-2011-9050313;3/01/11;Summer Hayward;Southport;United Kingdom;North;Consumer;7/01/11;Economy;England\n"
     ]
    }
   ],
   "source": [
    "!head -n 3 orders.csv"
   ]
  },
  {
   "cell_type": "markdown",
   "metadata": {},
   "source": [
    "Visualización del final de un archivo con tail\n",
    "--"
   ]
  },
  {
   "cell_type": "markdown",
   "metadata": {},
   "source": [
    "De forma similar al comando `head`, el comando `tail` permite visualizar las últimas líneas de un archivo."
   ]
  },
  {
   "cell_type": "code",
   "execution_count": 5,
   "metadata": {
    "scrolled": true
   },
   "outputs": [
    {
     "name": "stdout",
     "output_type": "stream",
     "text": [
      "AZ-2014-157670;30/12/14;Max Ludwig;Edinburgh;United Kingdom;North;Home Office;4/01/15;Economy;Scotland\n",
      "AZ-2014-436448;30/12/14;Georgia Arundale;Naples;Italy;South;Corporate;5/01/15;Economy;Campania\n",
      "AZ-2014-3870231;30/12/14;Thomas Thompson;Basel;Switzerland;Central;Corporate;2/01/15;Priority;Basel-Stadt\n",
      "BN-2014-8679573;30/12/14;Dennis Conaway;The Hague;Netherlands;Central;Consumer;1/01/15;Priority;South Holland\n",
      "AZ-2014-4217323;31/12/14;Evie Morton;Caen;France;Central;Consumer;2/01/15;Economy Plus;Normandy\n",
      "AZ-2014-8174835;31/12/14;Eloise Sykes;Bielefeld;Germany;Central;Consumer;4/01/15;Economy;North Rhine-Westphalia\n",
      "AZ-2014-766953;31/12/14;Jose Gambino;Maidenhead;United Kingdom;North;Corporate;5/01/15;Economy;England\n",
      "AZ-2014-1412225;31/12/14;Leon Barnes;Worcester;United Kingdom;North;Consumer;1/01/15;Priority;England\n",
      "AZ-2014-7604524;31/12/14;Rebecca Chamberlain;Hamburg;Germany;Central;Home Office;4/01/15;Economy;Hamburg\n",
      "BN-2014-4140795;31/12/14;Daniel Hamilton;Eindhoven;Netherlands;Central;Home Office;5/01/15;Economy Plus;North Brabant"
     ]
    }
   ],
   "source": [
    "!tail orders.csv"
   ]
  },
  {
   "cell_type": "code",
   "execution_count": 6,
   "metadata": {},
   "outputs": [
    {
     "name": "stdout",
     "output_type": "stream",
     "text": [
      "AZ-2014-1412225;31/12/14;Leon Barnes;Worcester;United Kingdom;North;Consumer;1/01/15;Priority;England\n",
      "AZ-2014-7604524;31/12/14;Rebecca Chamberlain;Hamburg;Germany;Central;Home Office;4/01/15;Economy;Hamburg\n",
      "BN-2014-4140795;31/12/14;Daniel Hamilton;Eindhoven;Netherlands;Central;Home Office;5/01/15;Economy Plus;North Brabant"
     ]
    }
   ],
   "source": [
    "!tail -n 3 orders.csv"
   ]
  },
  {
   "cell_type": "markdown",
   "metadata": {},
   "source": [
    "En el siguiente ejemplo, el argumento `+4115` indica que se imprime desde la línea 4115 hasta el final."
   ]
  },
  {
   "cell_type": "code",
   "execution_count": 7,
   "metadata": {
    "scrolled": true
   },
   "outputs": [
    {
     "name": "stdout",
     "output_type": "stream",
     "text": [
      "AZ-2014-766953;31/12/14;Jose Gambino;Maidenhead;United Kingdom;North;Corporate;5/01/15;Economy;England\n",
      "AZ-2014-1412225;31/12/14;Leon Barnes;Worcester;United Kingdom;North;Consumer;1/01/15;Priority;England\n",
      "AZ-2014-7604524;31/12/14;Rebecca Chamberlain;Hamburg;Germany;Central;Home Office;4/01/15;Economy;Hamburg\n",
      "BN-2014-4140795;31/12/14;Daniel Hamilton;Eindhoven;Netherlands;Central;Home Office;5/01/15;Economy Plus;North Brabant"
     ]
    }
   ],
   "source": [
    "!tail +4115 orders.csv"
   ]
  },
  {
   "cell_type": "markdown",
   "metadata": {},
   "source": [
    "Visualización del contenido de un archivo con more y less\n",
    "--"
   ]
  },
  {
   "cell_type": "markdown",
   "metadata": {},
   "source": [
    "Unix también proporciona los comandos `more` (versión más antigua) y `less` para la visualización del contenido de archivos. Simplemente digite `less` *`nombrearchivo`* para iniciar la visualización."
   ]
  },
  {
   "cell_type": "markdown",
   "metadata": {},
   "source": [
    "* Use la tecla `Space` para avanzar una página.\n",
    "* Use `Ctrl-F` (Forward) y `Ctrl-B`  (Backward) para avanzar o retroceder una página.\n",
    "* Use las teclas arriba y abajo para moverse una línea a la vez.\n",
    "* Digite el número de línea y `G` (go to) para ir a una línea determinada.\n",
    "* Digite `q` para salir de `less`"
   ]
  },
  {
   "cell_type": "markdown",
   "metadata": {},
   "source": [
    "Obtención del nombre de las columnas\n",
    "--"
   ]
  },
  {
   "cell_type": "markdown",
   "metadata": {},
   "source": [
    "Se imprime la primera línea del archivo:"
   ]
  },
  {
   "cell_type": "code",
   "execution_count": 8,
   "metadata": {},
   "outputs": [
    {
     "name": "stdout",
     "output_type": "stream",
     "text": [
      "Order ID;Order Date;Customer Name;City;Country;Region;Segment;Ship Date;Ship Mode;State\n"
     ]
    }
   ],
   "source": [
    "!head -n 1 orders.csv"
   ]
  },
  {
   "cell_type": "markdown",
   "metadata": {},
   "source": [
    "Se reemplaza el `;` por `\\n`  (retorno de carro) para que cada nombre se imprima en una línea."
   ]
  },
  {
   "cell_type": "code",
   "execution_count": 9,
   "metadata": {},
   "outputs": [
    {
     "name": "stdout",
     "output_type": "stream",
     "text": [
      "Order ID\n",
      "Order Date\n",
      "Customer Name\n",
      "City\n",
      "Country\n",
      "Region\n",
      "Segment\n",
      "Ship Date\n",
      "Ship Mode\n",
      "State\n"
     ]
    }
   ],
   "source": [
    "!head -n 1 orders.csv | tr ';' '\\n'"
   ]
  },
  {
   "cell_type": "markdown",
   "metadata": {},
   "source": [
    "Se cuenta la cantidad de columnas, contanto la cantidad de líneas de la salida anterior con `wc`."
   ]
  },
  {
   "cell_type": "code",
   "execution_count": 10,
   "metadata": {},
   "outputs": [
    {
     "name": "stdout",
     "output_type": "stream",
     "text": [
      "10\n"
     ]
    }
   ],
   "source": [
    "!head -n 1 orders.csv | tr ';' '\\n' | wc -l"
   ]
  },
  {
   "cell_type": "markdown",
   "metadata": {},
   "source": [
    "Edición de patrones complejos con sed\n",
    "--"
   ]
  },
  {
   "cell_type": "code",
   "execution_count": 11,
   "metadata": {},
   "outputs": [
    {
     "name": "stdout",
     "output_type": "stream",
     "text": [
      "Order ID,Order Date,Customer Name,City,Country,Region,Segment,Ship Date,Ship Mode,State\n",
      "BN-2011-7407039,1/01/11,Ruby Patel,Stockholm,Sweden,North,Home Office,5/01/11,Economy Plus,Stockholm\n",
      "AZ-2011-9050313,3/01/11,Summer Hayward,Southport,United Kingdom,North,Consumer,7/01/11,Economy,England\n",
      "AZ-2011-6674300,4/01/11,Devin Huddleston,Valence,France,Central,Consumer,8/01/11,Economy,Auvergne-Rh�ne-Alpes\n",
      "BN-2011-2819714,4/01/11,Mary Parker,Birmingham,United Kingdom,North,Corporate,9/01/11,Economy,England\n"
     ]
    }
   ],
   "source": [
    "# se reemplazan el `;` por `,` en todo el archivo\n",
    "!tr ';' ',' < orders.csv > orders-0.csv\n",
    "!head -n 5 orders-0.csv"
   ]
  },
  {
   "cell_type": "code",
   "execution_count": 12,
   "metadata": {},
   "outputs": [
    {
     "name": "stdout",
     "output_type": "stream",
     "text": [
      "Order ID,Order Date,Customer Name,City,Country,Region,Segment,Ship Date,Ship Mode,State\n",
      "BN-2011-7407039,01/01/11,Ruby Patel,Stockholm,Sweden,North,Home Office,05/01/11,Economy Plus,Stockholm\n",
      "AZ-2011-9050313,03/01/11,Summer Hayward,Southport,United Kingdom,North,Consumer,07/01/11,Economy,England\n",
      "AZ-2011-6674300,04/01/11,Devin Huddleston,Valence,France,Central,Consumer,08/01/11,Economy,Auvergne-Rh�ne-Alpes\n",
      "BN-2011-2819714,04/01/11,Mary Parker,Birmingham,United Kingdom,North,Corporate,09/01/11,Economy,England\n",
      "AZ-2011-617423,05/01/11,Daniel Burke,Echirolles,France,Central,Home Office,07/01/11,Priority,Auvergne-Rh�ne-Alpes\n",
      "AZ-2011-2918397,07/01/11,Fredrick Beveridge,La Seyne-sur-Mer,France,Central,Corporate,08/01/11,Priority,Provence-Alpes-C�te d'Azur\n",
      "BN-2011-3248724,08/01/11,Archer Hort,Toulouse,France,Central,Consumer,14/01/11,Economy,Languedoc-Roussillon-Midi-Pyr�n�es\n",
      "AZ-2011-6712797,11/01/11,Evie Flockhart,Genoa,Italy,South,Consumer,16/01/11,Economy,Liguria\n",
      "AZ-2011-4827146,11/01/11,Faith Greenwood,Vienna,Austria,Central,Consumer,15/01/11,Economy,Vienna\n"
     ]
    }
   ],
   "source": [
    "# se agrega el cero inicial al número del dia en la fecha cuando este tiene un solo dígito\n",
    "!sed 's/,\\([0-9]\\)\\//,0\\1\\//g' orders-0.csv > orders-1.csv\n",
    "!head orders-1.csv"
   ]
  },
  {
   "cell_type": "code",
   "execution_count": 13,
   "metadata": {},
   "outputs": [
    {
     "name": "stdout",
     "output_type": "stream",
     "text": [
      "Order ID,Order Date,Customer Name,City,Country,Region,Segment,Ship Date,Ship Mode,State\n",
      "BN-2011-7407039,2011-01-01,Ruby Patel,Stockholm,Sweden,North,Home Office,2011-01-05,Economy Plus,Stockholm\n",
      "AZ-2011-9050313,2011-01-03,Summer Hayward,Southport,United Kingdom,North,Consumer,2011-01-07,Economy,England\n",
      "AZ-2011-6674300,2011-01-04,Devin Huddleston,Valence,France,Central,Consumer,2011-01-08,Economy,Auvergne-Rh�ne-Alpes\n",
      "BN-2011-2819714,2011-01-04,Mary Parker,Birmingham,United Kingdom,North,Corporate,2011-01-09,Economy,England\n",
      "AZ-2011-617423,2011-01-05,Daniel Burke,Echirolles,France,Central,Home Office,2011-01-07,Priority,Auvergne-Rh�ne-Alpes\n",
      "AZ-2011-2918397,2011-01-07,Fredrick Beveridge,La Seyne-sur-Mer,France,Central,Corporate,2011-01-08,Priority,Provence-Alpes-C�te d'Azur\n",
      "BN-2011-3248724,2011-01-08,Archer Hort,Toulouse,France,Central,Consumer,2011-01-14,Economy,Languedoc-Roussillon-Midi-Pyr�n�es\n",
      "AZ-2011-6712797,2011-01-11,Evie Flockhart,Genoa,Italy,South,Consumer,2011-01-16,Economy,Liguria\n",
      "AZ-2011-4827146,2011-01-11,Faith Greenwood,Vienna,Austria,Central,Consumer,2011-01-15,Economy,Vienna\n"
     ]
    }
   ],
   "source": [
    "# se cambia la fecha de DD/MM/YY a YYYY-MM-DD\n",
    "!sed 's/,\\([0-9][0-9]\\)\\/\\([0-9][0-9]\\)\\/\\([0-9][0-9]\\)/,20\\3-\\2-\\1/g' orders-1.csv > orders-2.csv\n",
    "!head orders-2.csv"
   ]
  },
  {
   "cell_type": "markdown",
   "metadata": {},
   "source": [
    "Obtención de un subconjunto de registros al inicio del archivo\n",
    "--"
   ]
  },
  {
   "cell_type": "code",
   "execution_count": 14,
   "metadata": {},
   "outputs": [
    {
     "name": "stdout",
     "output_type": "stream",
     "text": [
      "Order ID,Order Date,Customer Name,City,Country,Region,Segment,Ship Date,Ship Mode,State\n",
      "BN-2011-7407039,2011-01-01,Ruby Patel,Stockholm,Sweden,North,Home Office,2011-01-05,Economy Plus,Stockholm\n",
      "AZ-2011-9050313,2011-01-03,Summer Hayward,Southport,United Kingdom,North,Consumer,2011-01-07,Economy,England\n",
      "AZ-2011-6674300,2011-01-04,Devin Huddleston,Valence,France,Central,Consumer,2011-01-08,Economy,Auvergne-Rh�ne-Alpes\n",
      "BN-2011-2819714,2011-01-04,Mary Parker,Birmingham,United Kingdom,North,Corporate,2011-01-09,Economy,England\n",
      "AZ-2011-617423,2011-01-05,Daniel Burke,Echirolles,France,Central,Home Office,2011-01-07,Priority,Auvergne-Rh�ne-Alpes\n",
      "AZ-2011-2918397,2011-01-07,Fredrick Beveridge,La Seyne-sur-Mer,France,Central,Corporate,2011-01-08,Priority,Provence-Alpes-C�te d'Azur\n",
      "BN-2011-3248724,2011-01-08,Archer Hort,Toulouse,France,Central,Consumer,2011-01-14,Economy,Languedoc-Roussillon-Midi-Pyr�n�es\n",
      "AZ-2011-6712797,2011-01-11,Evie Flockhart,Genoa,Italy,South,Consumer,2011-01-16,Economy,Liguria\n",
      "AZ-2011-4827146,2011-01-11,Faith Greenwood,Vienna,Austria,Central,Consumer,2011-01-15,Economy,Vienna\n",
      "AZ-2011-6439906,2011-01-11,Summer Hayward,Murcia,Spain,South,Consumer,2011-01-15,Economy,Murcia\n"
     ]
    }
   ],
   "source": [
    "# Generación de un csv con los primeros 10 registros. \n",
    "!head -n 11 orders-2.csv > orders-head.csv \n",
    "!cat orders-head.csv"
   ]
  },
  {
   "cell_type": "markdown",
   "metadata": {},
   "source": [
    "Obtención de un subconjunto de registros al final del archivo\n",
    "--"
   ]
  },
  {
   "cell_type": "code",
   "execution_count": 15,
   "metadata": {},
   "outputs": [
    {
     "name": "stdout",
     "output_type": "stream",
     "text": [
      "Order ID,Order Date,Customer Name,City,Country,Region,Segment,Ship Date,Ship Mode,State\n",
      "AZ-2014-157670,2014-12-30,Max Ludwig,Edinburgh,United Kingdom,North,Home Office,2015-01-04,Economy,Scotland\n",
      "AZ-2014-436448,2014-12-30,Georgia Arundale,Naples,Italy,South,Corporate,2015-01-05,Economy,Campania\n",
      "AZ-2014-3870231,2014-12-30,Thomas Thompson,Basel,Switzerland,Central,Corporate,2015-01-02,Priority,Basel-Stadt\n",
      "BN-2014-8679573,2014-12-30,Dennis Conaway,The Hague,Netherlands,Central,Consumer,2015-01-01,Priority,South Holland\n",
      "AZ-2014-4217323,2014-12-31,Evie Morton,Caen,France,Central,Consumer,2015-01-02,Economy Plus,Normandy\n",
      "AZ-2014-8174835,2014-12-31,Eloise Sykes,Bielefeld,Germany,Central,Consumer,2015-01-04,Economy,North Rhine-Westphalia\n",
      "AZ-2014-766953,2014-12-31,Jose Gambino,Maidenhead,United Kingdom,North,Corporate,2015-01-05,Economy,England\n",
      "AZ-2014-1412225,2014-12-31,Leon Barnes,Worcester,United Kingdom,North,Consumer,2015-01-01,Priority,England\n",
      "AZ-2014-7604524,2014-12-31,Rebecca Chamberlain,Hamburg,Germany,Central,Home Office,2015-01-04,Economy,Hamburg\n",
      "BN-2014-4140795,2014-12-31,Daniel Hamilton,Eindhoven,Netherlands,Central,Home Office,2015-01-05,Economy Plus,North Brabant"
     ]
    }
   ],
   "source": [
    "# Generación de un csv con los ultimos 10 registros. \n",
    "!head -n 1 orders-2.csv > orders-tail.csv\n",
    "!tail -n 10 orders-2.csv >> orders-tail.csv \n",
    "!cat orders-tail.csv"
   ]
  },
  {
   "cell_type": "markdown",
   "metadata": {},
   "source": [
    "Obtención de un subconjunto de registros en un punto intermedio\n",
    "--"
   ]
  },
  {
   "cell_type": "code",
   "execution_count": 16,
   "metadata": {},
   "outputs": [
    {
     "name": "stdout",
     "output_type": "stream",
     "text": [
      "Order ID,Order Date,Customer Name,City,Country,Region,Segment,Ship Date,Ship Mode,State\n",
      "AZ-2011-617423,2011-01-05,Daniel Burke,Echirolles,France,Central,Home Office,2011-01-07,Priority,Auvergne-Rh�ne-Alpes\n",
      "AZ-2011-2918397,2011-01-07,Fredrick Beveridge,La Seyne-sur-Mer,France,Central,Corporate,2011-01-08,Priority,Provence-Alpes-C�te d'Azur\n",
      "BN-2011-3248724,2011-01-08,Archer Hort,Toulouse,France,Central,Consumer,2011-01-14,Economy,Languedoc-Roussillon-Midi-Pyr�n�es\n",
      "AZ-2011-6712797,2011-01-11,Evie Flockhart,Genoa,Italy,South,Consumer,2011-01-16,Economy,Liguria\n",
      "AZ-2011-4827146,2011-01-11,Faith Greenwood,Vienna,Austria,Central,Consumer,2011-01-15,Economy,Vienna\n",
      "AZ-2011-6439906,2011-01-11,Summer Hayward,Murcia,Spain,South,Consumer,2011-01-15,Economy,Murcia\n"
     ]
    }
   ],
   "source": [
    "# Generación de un csv con los registros en las posiciones 5 a 10.\n",
    "!head -n 1 orders-2.csv > orders-med.csv\n",
    "!head -n 11 orders-2.csv | tail -n 6 >> orders-med.csv \n",
    "!cat orders-med.csv"
   ]
  },
  {
   "cell_type": "markdown",
   "metadata": {},
   "source": [
    "Obtención de un grupo de columnas con cut\n",
    "--"
   ]
  },
  {
   "cell_type": "code",
   "execution_count": 17,
   "metadata": {},
   "outputs": [
    {
     "name": "stdout",
     "output_type": "stream",
     "text": [
      "Order Date\n",
      "2011-01-01\n",
      "2011-01-03\n",
      "2011-01-04\n",
      "2011-01-04\n",
      "2011-01-05\n",
      "2011-01-07\n",
      "2011-01-08\n",
      "2011-01-11\n",
      "2011-01-11\n",
      "2011-01-11\n"
     ]
    }
   ],
   "source": [
    "!cut -d\",\" -f2 orders-head.csv"
   ]
  },
  {
   "cell_type": "code",
   "execution_count": 18,
   "metadata": {},
   "outputs": [
    {
     "name": "stdout",
     "output_type": "stream",
     "text": [
      "Order Date,City,Country,Region\n",
      "2011-01-01,Stockholm,Sweden,North\n",
      "2011-01-03,Southport,United Kingdom,North\n",
      "2011-01-04,Valence,France,Central\n",
      "2011-01-04,Birmingham,United Kingdom,North\n",
      "2011-01-05,Echirolles,France,Central\n",
      "2011-01-07,La Seyne-sur-Mer,France,Central\n",
      "2011-01-08,Toulouse,France,Central\n",
      "2011-01-11,Genoa,Italy,South\n",
      "2011-01-11,Vienna,Austria,Central\n",
      "2011-01-11,Murcia,Spain,South\n"
     ]
    }
   ],
   "source": [
    "!cut -d\",\" -f2,4-6 orders-head.csv"
   ]
  },
  {
   "cell_type": "code",
   "execution_count": 19,
   "metadata": {},
   "outputs": [
    {
     "name": "stdout",
     "output_type": "stream",
     "text": [
      "Order Date\n",
      "1/01/11\n",
      "3/01/11\n",
      "4/01/11\n",
      "4/01/11\n",
      "5/01/11\n",
      "7/01/11\n",
      "8/01/11\n",
      "11/01/11\n",
      "11/01/11\n"
     ]
    }
   ],
   "source": [
    "!head orders.csv | cut -d\";\" -f2"
   ]
  },
  {
   "cell_type": "markdown",
   "metadata": {},
   "source": [
    "Ordenamiento de líneas\n",
    "--"
   ]
  },
  {
   "cell_type": "code",
   "execution_count": 20,
   "metadata": {},
   "outputs": [
    {
     "name": "stdout",
     "output_type": "stream",
     "text": [
      "Central\n",
      "Central\n",
      "Central\n",
      "Central\n",
      "Central\n",
      "Central\n",
      "Central\n",
      "Central\n",
      "Central\n",
      "North\n",
      "North\n",
      "North\n",
      "North\n",
      "North\n",
      "North\n",
      "North\n",
      "North\n",
      "South\n",
      "South\n"
     ]
    }
   ],
   "source": [
    "!head -n 20 orders.csv | tail +2  | cut -d\";\" -f6 | sort"
   ]
  },
  {
   "cell_type": "markdown",
   "metadata": {},
   "source": [
    "Obtención de líneas únicas\n",
    "--"
   ]
  },
  {
   "cell_type": "code",
   "execution_count": 21,
   "metadata": {},
   "outputs": [
    {
     "name": "stdout",
     "output_type": "stream",
     "text": [
      "North\n",
      "North\n",
      "Central\n",
      "North\n",
      "Central\n",
      "Central\n",
      "Central\n",
      "South\n",
      "Central\n",
      "South\n",
      "North\n",
      "Central\n",
      "North\n",
      "North\n",
      "Central\n",
      "North\n",
      "Central\n",
      "Central\n",
      "North\n"
     ]
    }
   ],
   "source": [
    "!head -n 20 orders.csv | tail +2  | cut -d\";\" -f6 "
   ]
  },
  {
   "cell_type": "code",
   "execution_count": 22,
   "metadata": {},
   "outputs": [
    {
     "name": "stdout",
     "output_type": "stream",
     "text": [
      "North\n",
      "Central\n",
      "North\n",
      "Central\n",
      "South\n",
      "Central\n",
      "South\n",
      "North\n",
      "Central\n",
      "North\n",
      "Central\n",
      "North\n",
      "Central\n",
      "North\n"
     ]
    }
   ],
   "source": [
    "!head -n 20 orders.csv | tail +2  | cut -d\";\" -f6 | uniq"
   ]
  },
  {
   "cell_type": "code",
   "execution_count": 23,
   "metadata": {},
   "outputs": [
    {
     "name": "stdout",
     "output_type": "stream",
     "text": [
      "Central\n",
      "North\n",
      "South\n"
     ]
    }
   ],
   "source": [
    "!head -n 20 orders.csv | tail +2  | cut -d\";\" -f6 | sort | uniq"
   ]
  },
  {
   "cell_type": "markdown",
   "metadata": {},
   "source": [
    "Conteo de la cantidad de regiones\n",
    "--"
   ]
  },
  {
   "cell_type": "code",
   "execution_count": 24,
   "metadata": {},
   "outputs": [
    {
     "name": "stdout",
     "output_type": "stream",
     "text": [
      "3\n"
     ]
    }
   ],
   "source": [
    "!head -n 20 orders.csv | tail +2  | cut -d\";\" -f6 | sort | uniq | wc -l"
   ]
  },
  {
   "cell_type": "markdown",
   "metadata": {},
   "source": [
    "Búsqueda de patrones con grep\n",
    "--"
   ]
  },
  {
   "cell_type": "code",
   "execution_count": 25,
   "metadata": {},
   "outputs": [
    {
     "name": "stdout",
     "output_type": "stream",
     "text": [
      "AZ-2011-4827146,2011-01-11,Faith Greenwood,Vienna,Austria,Central,Consumer,2011-01-15,Economy,Vienna\n",
      "Binary file orders-head.csv matches\n"
     ]
    }
   ],
   "source": [
    "!grep 'Central'  orders-head.csv "
   ]
  },
  {
   "cell_type": "markdown",
   "metadata": {},
   "source": [
    "**Borrado de los archivos temporales generados**"
   ]
  },
  {
   "cell_type": "code",
   "execution_count": 26,
   "metadata": {},
   "outputs": [],
   "source": [
    "!rm *.csv"
   ]
  }
 ],
 "metadata": {
  "kernelspec": {
   "display_name": "Python 3 (ipykernel)",
   "language": "python",
   "name": "python3"
  },
  "language_info": {
   "codemirror_mode": {
    "name": "ipython",
    "version": 3
   },
   "file_extension": ".py",
   "mimetype": "text/x-python",
   "name": "python",
   "nbconvert_exporter": "python",
   "pygments_lexer": "ipython3",
   "version": "3.8.10"
  },
  "nbpresent": {
   "slides": {
    "940b5fc9-9cdd-41d7-8372-719403fc2bd2": {
     "id": "940b5fc9-9cdd-41d7-8372-719403fc2bd2",
     "prev": null,
     "regions": {
      "395f31a1-eb6e-4371-acb3-490ee879b8b8": {
       "attrs": {
        "height": 0.2,
        "width": 0.4,
        "x": 0.5,
        "y": 0.7
       },
       "id": "395f31a1-eb6e-4371-acb3-490ee879b8b8"
      },
      "92e1a1f9-4ebc-41a2-bfe8-899c8e794d14": {
       "attrs": {
        "height": 0.8,
        "width": 0.8,
        "x": 0.1,
        "y": 0.1
       },
       "id": "92e1a1f9-4ebc-41a2-bfe8-899c8e794d14"
      },
      "ad53a586-a210-4ed7-adb4-961b08e598b8": {
       "attrs": {
        "height": 0.2,
        "width": 0.4,
        "x": 0.1,
        "y": 0.7
       },
       "id": "ad53a586-a210-4ed7-adb4-961b08e598b8"
      },
      "bd4aba0d-fa0b-42e7-81a3-0beac29f2241": {
       "attrs": {
        "height": 0.8,
        "width": 0.8,
        "x": 0.1,
        "y": 0.1
       },
       "id": "bd4aba0d-fa0b-42e7-81a3-0beac29f2241"
      },
      "cefb04b2-32f0-4965-923e-1a6b36c37fd8": {
       "attrs": {
        "height": 0.6,
        "width": 0.8,
        "x": 0.1,
        "y": 0.1
       },
       "content": {
        "cell": "a4b09f9a-453a-4787-83c4-61a43f75d860",
        "part": "source"
       },
       "id": "cefb04b2-32f0-4965-923e-1a6b36c37fd8"
      }
     }
    }
   }
  }
 },
 "nbformat": 4,
 "nbformat_minor": 4
}
