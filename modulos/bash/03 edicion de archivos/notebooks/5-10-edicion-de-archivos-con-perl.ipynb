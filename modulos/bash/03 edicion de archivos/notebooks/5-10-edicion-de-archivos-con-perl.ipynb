{
 "cells": [
  {
   "cell_type": "markdown",
   "metadata": {},
   "source": [
    "Edición de archivos con Perl\n",
    "===\n",
    "\n",
    "* *60 min* | Última modificación: Diciembre 16, 2019."
   ]
  },
  {
   "cell_type": "markdown",
   "metadata": {},
   "source": [
    "Descripción\n",
    "--"
   ]
  },
  {
   "cell_type": "markdown",
   "metadata": {},
   "source": [
    "Perl es un lenguaje de programación interpretado que se especializa en el procesamiento de texto y programación web. Se destaca por ser breve, efectivo y dinámico, lo que permite que la codificación sea más sencilla para los programadores.\n",
    "\n",
    "En el área de analítica, su función se enfoca en la extracción, limpieza y procesamiento  de archivos de texto teniendo como ventaja la fácil conexión a bases de datos relacionales."
   ]
  },
  {
   "cell_type": "markdown",
   "metadata": {},
   "source": [
    "Manual y ayuda en línea\n",
    "--"
   ]
  },
  {
   "cell_type": "markdown",
   "metadata": {},
   "source": [
    "* Manual: https://www.perl.org/learn.html\n",
    "\n",
    "* Ayuda:\n",
    "```bash\n",
    "man perl\n",
    "```"
   ]
  },
  {
   "cell_type": "markdown",
   "metadata": {},
   "source": [
    "Impresión de líneas específicas\n",
    "--"
   ]
  },
  {
   "cell_type": "code",
   "execution_count": 1,
   "metadata": {},
   "outputs": [],
   "source": [
    "%%sh\n",
    "## se imprimen los primeros 30 números a un archivo\n",
    "seq 30 > out.1"
   ]
  },
  {
   "cell_type": "code",
   "execution_count": 2,
   "metadata": {},
   "outputs": [
    {
     "name": "stdout",
     "output_type": "stream",
     "text": [
      "3\n"
     ]
    }
   ],
   "source": [
    "%%sh\n",
    "## imprime la línea 3\n",
    "perl -ne 'print if $.==3' out.1"
   ]
  },
  {
   "cell_type": "code",
   "execution_count": 3,
   "metadata": {},
   "outputs": [
    {
     "name": "stdout",
     "output_type": "stream",
     "text": [
      "3\n",
      "4\n",
      "5\n",
      "6\n"
     ]
    }
   ],
   "source": [
    "%%sh\n",
    "## imprime las líneas 3 a 6\n",
    "perl -ne 'print if 3..6' out.1"
   ]
  },
  {
   "cell_type": "code",
   "execution_count": 4,
   "metadata": {},
   "outputs": [
    {
     "name": "stdout",
     "output_type": "stream",
     "text": [
      "3\n",
      "4\n",
      "5\n",
      "6\n",
      "11\n",
      "12\n",
      "13\n"
     ]
    }
   ],
   "source": [
    "%%sh\n",
    "## imprime las líneas 3 a 6 y 11 a 13\n",
    "perl -ne 'print if 3..6; print if 11..13' out.1"
   ]
  },
  {
   "cell_type": "markdown",
   "metadata": {},
   "source": [
    "Filtrado\n",
    "--"
   ]
  },
  {
   "cell_type": "code",
   "execution_count": 5,
   "metadata": {},
   "outputs": [
    {
     "name": "stdout",
     "output_type": "stream",
     "text": [
      "1\n",
      "10\n",
      "11\n",
      "12\n",
      "13\n",
      "14\n",
      "15\n",
      "16\n",
      "17\n",
      "18\n",
      "19\n",
      "21\n"
     ]
    }
   ],
   "source": [
    "%%sh\n",
    "## Imprime las lineas que contengan un 1\n",
    "perl -ne 'print if /1/i' out.1"
   ]
  },
  {
   "cell_type": "markdown",
   "metadata": {},
   "source": [
    "La opción `-n` indica que no debe imprimirse en pantalla cada línea leída del archivo `out.1`. La cadena `/1/` indica la expresión regular (en este caso que la línea contenga un `1` y los `/`  son delimitadores). La `p`  al final indica que se imprima la línea. Nóte que esta funcionalidad es similar a la dada por `grep`."
   ]
  },
  {
   "cell_type": "code",
   "execution_count": 6,
   "metadata": {},
   "outputs": [
    {
     "name": "stdout",
     "output_type": "stream",
     "text": [
      "1\n",
      "11\n",
      "21\n"
     ]
    }
   ],
   "source": [
    "%%sh\n",
    "## Imprime las líneas que tengaun un 1 al final\n",
    "perl -ne 'print if /[1]$/' out.1"
   ]
  },
  {
   "cell_type": "code",
   "execution_count": 7,
   "metadata": {},
   "outputs": [
    {
     "name": "stdout",
     "output_type": "stream",
     "text": [
      "1\n",
      "10\n",
      "11\n",
      "12\n",
      "13\n",
      "14\n",
      "15\n",
      "16\n",
      "17\n",
      "18\n",
      "19\n"
     ]
    }
   ],
   "source": [
    "%%sh\n",
    "## Imprime las líneas que tengan un 1 al inicio\n",
    "perl -ne 'print if /^[1]/' out.1"
   ]
  },
  {
   "cell_type": "code",
   "execution_count": 8,
   "metadata": {},
   "outputs": [
    {
     "name": "stdout",
     "output_type": "stream",
     "text": [
      "10\n",
      "12\n",
      "13\n",
      "14\n",
      "15\n",
      "16\n",
      "17\n",
      "18\n",
      "19\n"
     ]
    }
   ],
   "source": [
    "%%sh\n",
    "## Líneas que tienen un 1 al inicio y no tienen un 1 al final\n",
    "perl -ne 'print if /^[1]/ && !/[1]$/' out.1"
   ]
  },
  {
   "cell_type": "markdown",
   "metadata": {},
   "source": [
    "Sea el siguiente archivo:"
   ]
  },
  {
   "cell_type": "code",
   "execution_count": 9,
   "metadata": {},
   "outputs": [],
   "source": [
    "%%sh\n",
    "cat > out.1 <<EOF\n",
    "1  ABC 11\n",
    "2  BBB 12\n",
    "3  CCC 13\n",
    "4x DDD 2\n",
    "5y EEE 3\n",
    "1x FAF 4\n",
    "2y GAF 4\n",
    "3  HAA 5\n",
    "EOF"
   ]
  },
  {
   "cell_type": "markdown",
   "metadata": {},
   "source": [
    "Para imprimir en pantalla todas las líneas que contienen `A` se usa el comando: "
   ]
  },
  {
   "cell_type": "code",
   "execution_count": 10,
   "metadata": {},
   "outputs": [
    {
     "name": "stdout",
     "output_type": "stream",
     "text": [
      "1  ABC 11\n",
      "1x FAF 4\n",
      "2y GAF 4\n",
      "3  HAA 5\n"
     ]
    }
   ],
   "source": [
    "%%sh\n",
    "## imprime todas las lineas que tengan una A\n",
    "perl -ne 'print if /A/i' out.1"
   ]
  },
  {
   "cell_type": "code",
   "execution_count": 11,
   "metadata": {},
   "outputs": [
    {
     "name": "stdout",
     "output_type": "stream",
     "text": [
      "1  ABC 11\n",
      "1x FAF 4\n",
      "2y GAF 4\n",
      "3  HAA 5\n"
     ]
    }
   ],
   "source": [
    "%%sh\n",
    "perl -ne 'print if m#A#' out.1 "
   ]
  },
  {
   "cell_type": "markdown",
   "metadata": {},
   "source": [
    "Observe que la sintaxis anterior permite buscar de forma literal elementos dentro del texto mientras que en la primera la letra`A` se interpreta como mayúscula o minúscula.\n",
    "\n",
    "El siguiente comando imprime todas las líneas que contienen `1` al inicio de la frase:"
   ]
  },
  {
   "cell_type": "markdown",
   "metadata": {},
   "source": [
    "Para obtener la concatenación de dos condiciones se utiliza el simbolo `&&` y para obtener el complemento de la busqueda el simbolo `!`."
   ]
  },
  {
   "cell_type": "code",
   "execution_count": 12,
   "metadata": {},
   "outputs": [
    {
     "name": "stdout",
     "output_type": "stream",
     "text": [
      "1  ABC 11\n",
      "3  HAA 5\n"
     ]
    }
   ],
   "source": [
    "%%sh\n",
    "## imprime todas las lineas que tengan una A y que\n",
    "## no tengan un 4\n",
    "perl -ne 'print if /A/ && !/4/' out.1"
   ]
  },
  {
   "cell_type": "markdown",
   "metadata": {},
   "source": [
    "Es posible obtener un filtro de los elementos que contienen mas de una expresión a través de la función `index`."
   ]
  },
  {
   "cell_type": "code",
   "execution_count": 13,
   "metadata": {},
   "outputs": [
    {
     "name": "stdout",
     "output_type": "stream",
     "text": [
      "3  CCC 13\n"
     ]
    }
   ],
   "source": [
    "%%sh\n",
    "s='3  C' perl -ne 'print if index($_, $ENV{s})==0' out.1"
   ]
  },
  {
   "cell_type": "markdown",
   "metadata": {},
   "source": [
    "En el caso anterior, se buscó la expresión `3  C` al principio de la frase (`==0`).\n"
   ]
  },
  {
   "cell_type": "code",
   "execution_count": 14,
   "metadata": {},
   "outputs": [
    {
     "name": "stdout",
     "output_type": "stream",
     "text": [
      "1\n",
      "2\n",
      "3\n",
      "4x\n",
      "5y\n",
      "1x\n",
      "2y\n",
      "3\n"
     ]
    }
   ],
   "source": [
    "%%sh\n",
    "## Es posible indexar sobre los elementos de una expresión\n",
    "## reconociendo los espacios como separadores por defecto.\n",
    "perl -lane 'print $F[0]' out.1"
   ]
  },
  {
   "cell_type": "markdown",
   "metadata": {},
   "source": [
    "Para realizar comparaciones entre texto se utiliza `eq` como `==` y `ne` como `!=`, e igualmente para la impresión del resultado es posible establecer el separador deseado."
   ]
  },
  {
   "cell_type": "code",
   "execution_count": 15,
   "metadata": {},
   "outputs": [
    {
     "name": "stdout",
     "output_type": "stream",
     "text": [
      "CCC\n",
      "HAA\n"
     ]
    }
   ],
   "source": [
    "%%sh\n",
    "perl -lane 'print $F[1] if $F[0] eq \"3\"' out.1"
   ]
  },
  {
   "cell_type": "code",
   "execution_count": 16,
   "metadata": {},
   "outputs": [
    {
     "name": "stdout",
     "output_type": "stream",
     "text": [
      "11-\n",
      "12-\n",
      "2-\n",
      "3-\n",
      "4-\n",
      "4-\n"
     ]
    }
   ],
   "source": [
    "%%sh\n",
    "perl -lane '$,=\"-\"; print $F[2],$F[3] if $F[0] ne \"3\"' out.1"
   ]
  },
  {
   "cell_type": "code",
   "execution_count": 17,
   "metadata": {},
   "outputs": [
    {
     "name": "stdout",
     "output_type": "stream",
     "text": [
      "1  ABC 11\n",
      "----\n",
      "2  BBB 12\n",
      "----\n",
      "3  CCC 13\n",
      "----\n",
      "4x DDD 2\n",
      "----\n",
      "5y EEE 3\n",
      "----\n",
      "1x FAF 4\n",
      "----\n",
      "2y GAF 4\n",
      "----\n",
      "3  HAA 5\n",
      "----\n"
     ]
    }
   ],
   "source": [
    "%%sh\n",
    "perl -ne 'BEGIN{$\\=\"----\\n\"} print' out.1"
   ]
  },
  {
   "cell_type": "markdown",
   "metadata": {},
   "source": [
    "Expresiones regulares\n",
    "--"
   ]
  },
  {
   "cell_type": "markdown",
   "metadata": {},
   "source": [
    "Existen expresiones que facilitan la busquedas de patrones especificos. Algunas de ellas son:\n",
    "\n",
    "* `*`  -     Conincide 0 o mas veces\n",
    "* `+`  - Conincide 1 o mas veces\n",
    "* `?`   - Conincide 0 o 1 vez\n",
    "* `\\d` - Elementos numéricos (o `\\D` para el complemento de la búsqueda)\n",
    "* `\\w` - Cualquier caracter de una palabra (o `\\W` ara el complemento de la busqueda)\n",
    "* `$&`  - Parar referirse a todos los elementos que detectados\n",
    "* `{n,}` -  Conincide por lo menos `n` veces."
   ]
  },
  {
   "cell_type": "markdown",
   "metadata": {},
   "source": [
    "Sea el siguiente archivo:"
   ]
  },
  {
   "cell_type": "code",
   "execution_count": 18,
   "metadata": {},
   "outputs": [],
   "source": [
    "%%sh\n",
    "cat > out.2 <<EOF\n",
    "1980-JAN-1+1:0:1.134\n",
    "1980-JAN-5+1:0:1.12\n",
    "1982-JAN-13+10:12:42.33\n",
    "EOF"
   ]
  },
  {
   "cell_type": "markdown",
   "metadata": {},
   "source": [
    "Se desea formatear la fecha y la hora, es decir, la primera línea:\n",
    "\n",
    "```\n",
    "1980-JAN-1+1:0:1.134\n",
    "```\n",
    "\n",
    "debe cambiarse por:\n",
    "\n",
    "```\n",
    "1980-JAN-01 01:00:01\n",
    "```\n"
   ]
  },
  {
   "cell_type": "markdown",
   "metadata": {},
   "source": [
    "Las expresiones regulares siguen una estructura similar a las de sed, teniendo un patrón a identificar y una expresión con la cual reemplazar o editar el elemtno anterior. \n",
    "\n",
    "`s/patrón/reemplazo`\n",
    "\n",
    "Consulte la guía de usuario de las expresiones regulares en Perl [aquí](https://perldoc.perl.org/perlre.html#Regular-Expressions)"
   ]
  },
  {
   "cell_type": "code",
   "execution_count": 19,
   "metadata": {},
   "outputs": [
    {
     "name": "stdout",
     "output_type": "stream",
     "text": [
      "1980-JAN-1 1:0:1.134\n",
      "1980-JAN-5 1:0:1.12\n",
      "1982-JAN-13 10:12:42.33\n"
     ]
    }
   ],
   "source": [
    "%%sh\n",
    "perl -pe 's/\\+/ /' out.2 > out.3\n",
    "cat out.3"
   ]
  },
  {
   "cell_type": "code",
   "execution_count": 20,
   "metadata": {},
   "outputs": [
    {
     "name": "stdout",
     "output_type": "stream",
     "text": [
      "1980-JAN-01 1:0:1.134\n",
      "1980-JAN-05 1:0:1.12\n",
      "1982-JAN-13 10:12:42.33\n"
     ]
    }
   ],
   "source": [
    "%%sh\n",
    "perl -pe 's/-(\\w+)-(\\d)\\b/-$1-0$2/g' out.3 > out.4\n",
    "cat out.4"
   ]
  },
  {
   "cell_type": "markdown",
   "metadata": {},
   "source": [
    "La explicación del comando anterior es la siguiente. El patrón de entrada está conformado por los siguientes elementos:\n",
    "\n",
    "* El caracter `-`.\n",
    "* Una palabra `\\w+`. Las secuencias `(` y `)` especifican que el dígito reconocido debe recordarse. Pueden existir varias cadenas a recordar; la primera cadena es `$1`, la segunda cadena es `$2` y así sucesivamente. `(?1)` se utiliza para recordar una expresión regular anterior.\n",
    "* Un dígito `\\d`.\n",
    "* Un espacio `\\b`.\n",
    "\n",
    "El patrón de salida indica que:\n",
    "\n",
    "* Se imprime el caracter `-`.\n",
    "* Luego `JAN`.\n",
    "* A continuación el caracter `-` seguido de `0` y  del dígito reconocido de `$2`.\n"
   ]
  },
  {
   "cell_type": "code",
   "execution_count": 21,
   "metadata": {},
   "outputs": [
    {
     "name": "stdout",
     "output_type": "stream",
     "text": [
      "1980-JAN-01 01:00:1.134\n",
      "1980-JAN-05 01:00:1.12\n",
      "1982-JAN-13 10:12:42.33\n"
     ]
    }
   ],
   "source": [
    "%%sh\n",
    "perl -pe 's/ (\\d):(\\d):/ 0$1:0$2:/g' out.4 > out.5\n",
    "cat out.5"
   ]
  },
  {
   "cell_type": "code",
   "execution_count": 22,
   "metadata": {},
   "outputs": [
    {
     "name": "stdout",
     "output_type": "stream",
     "text": [
      "1980-JAN-01 01:00:1\n",
      "1980-JAN-05 01:00:1\n",
      "1982-JAN-13 10:12:42\n"
     ]
    }
   ],
   "source": [
    "%%sh\n",
    "perl -pe 's/:(\\d*)\\.(\\d)+/:$1/g' out.5 > out.6\n",
    "cat out.6"
   ]
  },
  {
   "cell_type": "code",
   "execution_count": 23,
   "metadata": {},
   "outputs": [
    {
     "name": "stdout",
     "output_type": "stream",
     "text": [
      "1980-JAN-01 01:00:01\n",
      "1980-JAN-05 01:00:01\n",
      "1982-JAN-13 10:12:42\n"
     ]
    }
   ],
   "source": [
    "%%sh\n",
    "perl -pe 's/:(\\d)\\b/:0$1/g' out.6 > out.7\n",
    "cat out.7"
   ]
  },
  {
   "cell_type": "code",
   "execution_count": 24,
   "metadata": {},
   "outputs": [],
   "source": [
    "!rm out.*"
   ]
  },
  {
   "cell_type": "markdown",
   "metadata": {},
   "source": [
    "Sea el siguiente archivo:"
   ]
  },
  {
   "cell_type": "code",
   "execution_count": 25,
   "metadata": {},
   "outputs": [],
   "source": [
    "%%sh\n",
    "cat > out.3 <<EOF\n",
    "A B C 1\n",
    "E F G 2\n",
    "A D F 3\n",
    "B C H 4 \n",
    "E C A 5\n",
    "E A A 6\n",
    "EOF"
   ]
  },
  {
   "cell_type": "markdown",
   "metadata": {},
   "source": [
    "Es posible utilizar algunos comandos especiales para editar los registros en cuanto a su composición."
   ]
  },
  {
   "cell_type": "code",
   "execution_count": 26,
   "metadata": {},
   "outputs": [
    {
     "name": "stdout",
     "output_type": "stream",
     "text": [
      "A B C 1\n",
      "\n",
      "A D F 3\n",
      "B C H 4 \n",
      "E C A 5\n",
      "E A A 6\n"
     ]
    }
   ],
   "source": [
    "## Detecta la información entre un elemento y otro \n",
    "!perl -pe 's/E.*2//' out.3"
   ]
  },
  {
   "cell_type": "code",
   "execution_count": 27,
   "metadata": {},
   "outputs": [
    {
     "name": "stdout",
     "output_type": "stream",
     "text": [
      "A B C 1\n",
      "E F G 2\n",
      "A D F 3\n",
      "B C H 4 \n",
      "E C A 5\n",
      "E A A 6\n"
     ]
    }
   ],
   "source": [
    "## Permite filtrar elementos de una expresión de acuerdo a su tipo\n",
    "!perl -pe 's/\\w{1}//' out.3"
   ]
  },
  {
   "cell_type": "code",
   "execution_count": 28,
   "metadata": {},
   "outputs": [
    {
     "name": "stdout",
     "output_type": "stream",
     "text": [
      "1\n",
      "2\n",
      "3\n",
      "4\n",
      "5\n",
      "6\n"
     ]
    }
   ],
   "source": [
    "!perl -lane 'print \"@F[-1]\"' out.3"
   ]
  },
  {
   "cell_type": "code",
   "execution_count": 29,
   "metadata": {},
   "outputs": [
    {
     "name": "stdout",
     "output_type": "stream",
     "text": [
      "1 C B A\n",
      "2 G F E\n",
      "3 F D A\n",
      " 4 H C B\n",
      "5 A C E\n",
      "6 A A E\n"
     ]
    }
   ],
   "source": [
    "#Es posible contar los elementos de una frase a través de $.\n",
    "!perl -lne 'print reverse split//' out.3"
   ]
  },
  {
   "cell_type": "markdown",
   "metadata": {},
   "source": [
    "Resumen\n",
    "--"
   ]
  },
  {
   "cell_type": "markdown",
   "metadata": {},
   "source": [
    "```bash\n",
    "## imprime la línea 3\n",
    "perl -ne 'print if $.==3' out.1`\n",
    "\n",
    "## imprime las líneas 3 a 6\n",
    "perl -ne 'print if 3..6' out.1\n",
    "\n",
    "## imprime las líneas 3 a 6 y 11 a 13\n",
    "perl -ne 'print if 3..6; print if 11..13' out.1\n",
    "\n",
    "## Imprime las lineas que contengan un 1\n",
    "perl -ne 'print if /1/i' out.1\n",
    "\n",
    "## Imprime las líneas que tengaun un 1 al final\n",
    "perl -ne 'print if /[1]$/' out.1\n",
    "\n",
    "## Imprime las líneas que tengan un 1 al inicio\n",
    "perl -ne 'print if /^[1]/' out.1\n",
    "\n",
    "## Líneas que tienen un 1 al inicio y no tienen un 1 al final\n",
    "perl -ne 'print if /^[1]/ && !/[1]$/' out.1\n",
    "\n",
    "## imprime todas las lineas que tengan una A\n",
    "perl -ne 'print if /A/i' out.1\n",
    "\n",
    "## imprime todas las lineas que tengan una A y que\n",
    "## no tengan un 4\n",
    "perl -ne 'print if /A/ && !/4/' out.1\n",
    "```"
   ]
  },
  {
   "cell_type": "markdown",
   "metadata": {},
   "source": [
    "## Actividad"
   ]
  },
  {
   "cell_type": "markdown",
   "metadata": {},
   "source": [
    "Cree el archivo `out.1` como se indica a continuación."
   ]
  },
  {
   "cell_type": "code",
   "execution_count": 30,
   "metadata": {},
   "outputs": [],
   "source": [
    "%%sh\n",
    "cat > out.1 <<EOF\n",
    "12/03/13;A;1;100,0\n",
    "05/12/13;A;1;100,0\n",
    "25/02/13;B;2;200,0\n",
    "04/04/13;N;1;\\N\n",
    "21/06/13;\\N;;\n",
    "13/06/14;A;;N\n",
    "12/05/14;C;\\N;\n",
    "05/09/14;\\N;3;150,1\n",
    "12/05/14;a;2;\\N\n",
    "28/02/13;c;\\N;\\N\n",
    "02/08/13;A;2;100;0\n",
    "EOF"
   ]
  },
  {
   "cell_type": "markdown",
   "metadata": {},
   "source": [
    "Los valores válidos para los campos son los siguientes:\n",
    "\n",
    "* Columna 1: `DD/MM/AA`\n",
    "* Columna 2: `A`, `B`, `C`. `\\N` indica NULL.\n",
    "* Columna 3: Número entero. `\\N` indica NULL.\n",
    "* Columna 4: Número decimal. `\\N` indica NULL.\n",
    "    "
   ]
  },
  {
   "cell_type": "markdown",
   "metadata": {},
   "source": [
    "Usando `Perl`:\n",
    "\n",
    "1. Convierta el formato de las fechas de `DD/MM/YY` a `YYYY-MM-DD`.\n",
    "2. Transforme el archivo para que todos los campos nulos aparezcan como `\\N`.\n",
    "3. Reemplace los `;` por `,`.\n",
    "4. Use el `.` para indicar decimales.\n",
    "5. Extraiga los registros que no tienen campos nulos."
   ]
  },
  {
   "cell_type": "markdown",
   "metadata": {},
   "source": [
    "**Borrado de los archivos temporales creados**"
   ]
  },
  {
   "cell_type": "code",
   "execution_count": 31,
   "metadata": {},
   "outputs": [],
   "source": [
    "!rm out.*"
   ]
  }
 ],
 "metadata": {
  "kernel_info": {
   "name": "bash"
  },
  "kernelspec": {
   "display_name": "Python 3 (ipykernel)",
   "language": "python",
   "name": "python3"
  },
  "language_info": {
   "codemirror_mode": {
    "name": "ipython",
    "version": 3
   },
   "file_extension": ".py",
   "mimetype": "text/x-python",
   "name": "python",
   "nbconvert_exporter": "python",
   "pygments_lexer": "ipython3",
   "version": "3.8.10"
  },
  "nteract": {
   "version": "0.12.3"
  }
 },
 "nbformat": 4,
 "nbformat_minor": 4
}
