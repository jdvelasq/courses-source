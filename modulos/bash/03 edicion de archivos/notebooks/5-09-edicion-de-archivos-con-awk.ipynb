{
 "cells": [
  {
   "cell_type": "markdown",
   "metadata": {},
   "source": [
    "Edición de archivos con awk\n",
    "===\n",
    "\n",
    "* *60 min* | Última modificación: Diciembre 17, 2019."
   ]
  },
  {
   "cell_type": "markdown",
   "metadata": {},
   "source": [
    "`awk` es un comando para Unix creado para el procesamiento y reporte de archivos de texto que contengan varios campos de datos en una misma línea. Se considera que `awk` es una evolución de `sed`. Su uso básico es: \n",
    "\n",
    "    awk [condición] '{printf\"formato\", argumentos}' filename\n"
   ]
  },
  {
   "cell_type": "markdown",
   "metadata": {},
   "source": [
    "## Manual y ayuda en línea"
   ]
  },
  {
   "cell_type": "markdown",
   "metadata": {},
   "source": [
    "* Manual: https://www.gnu.org/software/gawk/manual/gawk.html\n",
    "\n",
    "* Ayuda:\n",
    "```bash\n",
    "man awk\n",
    "```"
   ]
  },
  {
   "cell_type": "markdown",
   "metadata": {},
   "source": [
    "Algunos comandos importantes\n",
    "--"
   ]
  },
  {
   "cell_type": "markdown",
   "metadata": {},
   "source": [
    "* `$0`     -> Todos los campos\n",
    "\n",
    "* `FS`     -> Separador de campos (TAB por defecto)\n",
    "* `NF`     -> Número de campos en la linea actual\n",
    "* `NR`     -> Número de lineas en el archivo a procesar\n",
    "* `Length`     -> Longitud de la linea a procesar\n",
    "* `&&`     -> Operación lógica para la intersección\n",
    "* `||`     -> Operación lógica para la unión"
   ]
  },
  {
   "cell_type": "markdown",
   "metadata": {},
   "source": [
    "Impresión de líneas específicias\n",
    "--"
   ]
  },
  {
   "cell_type": "code",
   "execution_count": 1,
   "metadata": {},
   "outputs": [],
   "source": [
    "%%sh\n",
    "## se imprimen los primeros 30 números a un archivo\n",
    "seq 30 > out.1"
   ]
  },
  {
   "cell_type": "code",
   "execution_count": 2,
   "metadata": {},
   "outputs": [
    {
     "name": "stdout",
     "output_type": "stream",
     "text": [
      "3\n"
     ]
    }
   ],
   "source": [
    "%%sh\n",
    "## imprime la línea 3\n",
    "awk 'NR == 3 {print}' out.1"
   ]
  },
  {
   "cell_type": "code",
   "execution_count": 3,
   "metadata": {},
   "outputs": [
    {
     "name": "stdout",
     "output_type": "stream",
     "text": [
      "3\n",
      "4\n",
      "5\n",
      "6\n"
     ]
    }
   ],
   "source": [
    "%%sh\n",
    "## imprime las líneas 3 a 6\n",
    "awk '(NR >= 3) && (NR <= 6) {print $0}' out.1"
   ]
  },
  {
   "cell_type": "code",
   "execution_count": 4,
   "metadata": {},
   "outputs": [
    {
     "name": "stdout",
     "output_type": "stream",
     "text": [
      "3\n",
      "4\n",
      "5\n",
      "6\n",
      "11\n",
      "12\n",
      "13\n"
     ]
    }
   ],
   "source": [
    "%%sh\n",
    "## imprime las líneas 3 a 6 y 11 a 13\n",
    "awk '((NR >= 3) && (NR <= 6) || ((NR >= 11) && (NR <= 13)))  {print $0}' out.1"
   ]
  },
  {
   "cell_type": "markdown",
   "metadata": {},
   "source": [
    "Filtrado\n",
    "--"
   ]
  },
  {
   "cell_type": "code",
   "execution_count": 5,
   "metadata": {},
   "outputs": [
    {
     "name": "stdout",
     "output_type": "stream",
     "text": [
      "1\n",
      "10\n",
      "11\n",
      "12\n",
      "13\n",
      "14\n",
      "15\n",
      "16\n",
      "17\n",
      "18\n",
      "19\n",
      "21\n"
     ]
    }
   ],
   "source": [
    "%%sh\n",
    "## Imprime las lineas que contengan un 1\n",
    "awk '/1/ {print}' out.1"
   ]
  },
  {
   "cell_type": "markdown",
   "metadata": {},
   "source": [
    "La cadena `/1/` indica que la línea contenga un `1`, los `/` son delimitadores y la cadena `{print}` al final indica que se imprima la línea."
   ]
  },
  {
   "cell_type": "code",
   "execution_count": 6,
   "metadata": {},
   "outputs": [
    {
     "name": "stdout",
     "output_type": "stream",
     "text": [
      "1\n",
      "11\n",
      "21\n"
     ]
    }
   ],
   "source": [
    "%%sh\n",
    "## Imprime las líneas que tengaun un 1 al final\n",
    "awk '/1$/ {print}' out.1"
   ]
  },
  {
   "cell_type": "code",
   "execution_count": 7,
   "metadata": {},
   "outputs": [
    {
     "name": "stdout",
     "output_type": "stream",
     "text": [
      "1\n",
      "10\n",
      "11\n",
      "12\n",
      "13\n",
      "14\n",
      "15\n",
      "16\n",
      "17\n",
      "18\n",
      "19\n"
     ]
    }
   ],
   "source": [
    "%%sh\n",
    "## Imprime las líneas que tengan un 1 al inicio\n",
    "awk '/^1/ {print}' out.1"
   ]
  },
  {
   "cell_type": "markdown",
   "metadata": {},
   "source": [
    "Sustitución\n",
    "--"
   ]
  },
  {
   "cell_type": "markdown",
   "metadata": {},
   "source": [
    "En el archivo generado a continuación se desea substituir la `X` por `x`:"
   ]
  },
  {
   "cell_type": "code",
   "execution_count": 8,
   "metadata": {},
   "outputs": [],
   "source": [
    "%%sh\n",
    "cat > out.1 <<EOF\n",
    "FieldA, fieldD, gieldE, FieldG\n",
    "   2, X, 2X, 2XG\n",
    "   2, Y, 2Y, 2YG \n",
    "   3, Y, 3Y, 3YG\n",
    "   3, X, 3X, 3XG\n",
    "   4, Z, 4Z, 3XG\n",
    "EOF"
   ]
  },
  {
   "cell_type": "markdown",
   "metadata": {},
   "source": [
    "`awk` permite realizar sustituciones mediante el comando `gsub()` compuesto por una expresión regular que busca el patrón y el elemento que reemplazará o modificará el elemento encontrado. La `g`  indica que es global, en caso de que se requiera una sustitución local se debe utilizar la función `sub()`."
   ]
  },
  {
   "cell_type": "markdown",
   "metadata": {},
   "source": [
    "En el siguiente código se sustituye únicamente la primera ocurrencia en cada línea del archivo:"
   ]
  },
  {
   "cell_type": "code",
   "execution_count": 9,
   "metadata": {},
   "outputs": [
    {
     "name": "stdout",
     "output_type": "stream",
     "text": [
      "FieldA, fieldD, gieldE, FieldG\n",
      "   2, x, 2X, 2XG\n",
      "   2, Y, 2Y, 2YG \n",
      "   3, Y, 3Y, 3YG\n",
      "   3, x, 3X, 3XG\n",
      "   4, Z, 4Z, 3xG\n"
     ]
    }
   ],
   "source": [
    "%%sh\n",
    "## sustituye la primera ocurrencia de X por x en cada línea\n",
    "awk '{sub(/X/, \"x\"); print}' out.1"
   ]
  },
  {
   "cell_type": "markdown",
   "metadata": {},
   "source": [
    "Si se desean reemplazar todas las ocurrencias se usa `gsub`."
   ]
  },
  {
   "cell_type": "code",
   "execution_count": 10,
   "metadata": {},
   "outputs": [
    {
     "name": "stdout",
     "output_type": "stream",
     "text": [
      "FieldA, fieldD, gieldE, FieldG\n",
      "   2, x, 2x, 2xG\n",
      "   2, Y, 2Y, 2YG \n",
      "   3, Y, 3Y, 3YG\n",
      "   3, x, 3x, 3xG\n",
      "   4, Z, 4Z, 3xG\n"
     ]
    }
   ],
   "source": [
    "%%sh\n",
    "## Sustituye todas las ocurrencias de X por x\n",
    "awk '{gsub(/X/, \"x\"); print}' out.1"
   ]
  },
  {
   "cell_type": "markdown",
   "metadata": {},
   "source": [
    "Se puede utiliza el comando `gsub` para varias sustituciones separandolo por `;`:"
   ]
  },
  {
   "cell_type": "code",
   "execution_count": 11,
   "metadata": {},
   "outputs": [
    {
     "name": "stdout",
     "output_type": "stream",
     "text": [
      "FieldA, fieldD, gieldE, FieldG\n",
      "   2, x, 2x, 2xG\n",
      "   2, y, 2y, 2yG \n",
      "   3, y, 3y, 3yG\n",
      "   3, x, 3x, 3xG\n",
      "   4, Z, 4Z, 3xG\n"
     ]
    }
   ],
   "source": [
    "!awk '{gsub(/X/, \"x\"); gsub(/Y/, \"y\"); print}' out.1"
   ]
  },
  {
   "cell_type": "markdown",
   "metadata": {},
   "source": [
    "Extracción\n",
    "--"
   ]
  },
  {
   "cell_type": "markdown",
   "metadata": {},
   "source": [
    "La función `split` permite separar strings e incluir sus elementos en un array, el cual se recorre de acuerdo con la posición. Sigue la siguiente estructura:\n",
    "\n",
    "      split($0,nombre_arreglo,\"separador\")\n"
   ]
  },
  {
   "cell_type": "markdown",
   "metadata": {},
   "source": [
    "Sea el siguiente archivo:"
   ]
  },
  {
   "cell_type": "code",
   "execution_count": 12,
   "metadata": {},
   "outputs": [],
   "source": [
    "%%sh\n",
    "cat > out.1 <<EOF\n",
    "AAA-BBB-CCC\n",
    "DDD-EEE-FFF\n",
    "GGG-HHH-III\n",
    "EOF"
   ]
  },
  {
   "cell_type": "markdown",
   "metadata": {},
   "source": [
    "La segunda columna puede extraerse con:"
   ]
  },
  {
   "cell_type": "code",
   "execution_count": 13,
   "metadata": {},
   "outputs": [
    {
     "name": "stdout",
     "output_type": "stream",
     "text": [
      "BBB\n",
      "EEE\n",
      "HHH\n"
     ]
    }
   ],
   "source": [
    "## Parte la linea por los caracteres indicados y la asigna a una variable\n",
    "!awk '{split($0,nombre,\"-\")} {print nombre[2]}' out.1"
   ]
  },
  {
   "cell_type": "markdown",
   "metadata": {},
   "source": [
    "A continuación se presenta un ejemplo más complejo de modificación de un patrón. Sea el siguiente archivo:"
   ]
  },
  {
   "cell_type": "code",
   "execution_count": 14,
   "metadata": {},
   "outputs": [],
   "source": [
    "%%sh\n",
    "cat > out.1 <<EOF\n",
    "Maria-1998:feb:2+M19\n",
    "David-1972:nov:25+J45\n",
    "Marco-2000:jun:4+V17\n",
    "EOF"
   ]
  },
  {
   "cell_type": "markdown",
   "metadata": {},
   "source": [
    "Se desea formatear la fecha de nacimiento completa de la persona y su edad, es decir, la primera línea:\n",
    "\n",
    "```\n",
    "Maria-1998:feb:2+M19\n",
    "```\n",
    "\n",
    "debe cambiarse por:\n",
    "\n",
    "```\n",
    "Maria 1998-02-02 M 19\n",
    "```\n"
   ]
  },
  {
   "cell_type": "markdown",
   "metadata": {},
   "source": [
    "La función `gensub` permite realizar busquedas a través de expresiones regulares y reemplazar dichos valores por elementos a elección de acuerdo con la frecuencia de coincidencia del patrón.\n",
    "\n",
    "\n",
    "El primer paso consiste en reemplazar ` : `  por  `-`."
   ]
  },
  {
   "cell_type": "code",
   "execution_count": 15,
   "metadata": {},
   "outputs": [
    {
     "name": "stdout",
     "output_type": "stream",
     "text": [
      "Maria-1998:feb:2+M19\n",
      "David-1972:nov:25+J45\n",
      "Marco-2000:jun:4+V17\n"
     ]
    }
   ],
   "source": [
    "!cat out.1"
   ]
  },
  {
   "cell_type": "code",
   "execution_count": 16,
   "metadata": {
    "scrolled": true
   },
   "outputs": [
    {
     "name": "stderr",
     "output_type": "stream",
     "text": [
      "awk: cmd. line:1: warning: regexp escape sequence `\\:' is not a known regexp operator\n"
     ]
    },
    {
     "name": "stdout",
     "output_type": "stream",
     "text": [
      "Maria-1998-feb:2+M19\n",
      "David-1972-nov:25+J45\n",
      "Marco-2000-jun:4+V17\n"
     ]
    }
   ],
   "source": [
    "%%sh\n",
    "awk '{print gensub(/\\:([a-zA-Z]*)/,\"-\"\"\\\\1\",1)}' out.1 > out.2\n",
    "cat out.2"
   ]
  },
  {
   "cell_type": "markdown",
   "metadata": {},
   "source": [
    "La explicación del comando anterior es la siguiente:\n",
    " \n",
    " \n",
    "Patrón entrada\n",
    "  \n",
    " * El caracter `/`  indica el inicio y el fin de la expresión regular.\n",
    " * Los caracteres `(` y `)` contienen la expresión, caracter o dígito que se desea guardar.\n",
    " * `[a-z]` indica una cadena.\n",
    " * El caracter `*` indica que existen cadenas luego de la expresión regular.\n",
    " \n",
    "Patrón salida\n",
    " * `\\\\\\1` primer elemento de la busqueda que fue guardado.\n",
    " \n",
    "Frecuencia\n",
    " * `1` se debe reemplazar cuando encuentre el patrón por primera vez."
   ]
  },
  {
   "cell_type": "code",
   "execution_count": 17,
   "metadata": {},
   "outputs": [
    {
     "name": "stdout",
     "output_type": "stream",
     "text": [
      "Maria-1998-feb-2+M19\n",
      "David-1972-nov-25+J45\n",
      "Marco-2000-jun-4+V17\n"
     ]
    }
   ],
   "source": [
    "%%sh\n",
    "awk '{print gensub(/:([0-9])/, \"-\\\\1\", 1)}' out.2 > out.3\n",
    "cat out.3"
   ]
  },
  {
   "cell_type": "code",
   "execution_count": 18,
   "metadata": {
    "scrolled": true
   },
   "outputs": [
    {
     "name": "stdout",
     "output_type": "stream",
     "text": [
      "Maria-1998-feb-02+M19\n",
      "David-1972-nov-05+J45\n",
      "Marco-2000-jun-04+V17\n"
     ]
    }
   ],
   "source": [
    "%%sh\n",
    "awk '{print gensub(/-([0-9])*/, \"-0\\\\1\", 3)}' out.3 > out.4\n",
    "cat out.4"
   ]
  },
  {
   "cell_type": "code",
   "execution_count": 19,
   "metadata": {},
   "outputs": [
    {
     "name": "stdout",
     "output_type": "stream",
     "text": [
      "Maria-1998-feb-02 M 19\n",
      "David-1972-nov-05 J 45\n",
      "Marco-2000-jun-04 V 17\n"
     ]
    }
   ],
   "source": [
    "%%sh\n",
    "awk '{print gensub(/+([A-Z])([0-9][0-9])/, \" \\\\1 \\\\2\", 1)}' out.4 > out.5\n",
    "cat out.5"
   ]
  },
  {
   "cell_type": "code",
   "execution_count": 20,
   "metadata": {
    "scrolled": true
   },
   "outputs": [
    {
     "name": "stdout",
     "output_type": "stream",
     "text": [
      "Maria 1998-feb-02 M 19\n",
      "David 1972-nov-05 J 45\n",
      "Marco 2000-jun-04 V 17\n"
     ]
    }
   ],
   "source": [
    "%%sh\n",
    "awk '{sub(/-/, \" \"); print}' out.5 > out.6\n",
    "cat out.6"
   ]
  },
  {
   "cell_type": "code",
   "execution_count": 21,
   "metadata": {},
   "outputs": [
    {
     "name": "stdout",
     "output_type": "stream",
     "text": [
      "Maria 1998-02-02 M 19\n",
      "David 1972-11-05 J 45\n",
      "Marco 2000-06-04 V 17\n"
     ]
    }
   ],
   "source": [
    "%%sh\n",
    "awk '{gsub(/feb/, \"02\"); gsub(/nov/, \"11\"); gsub(/jun/, \"06\"); print}' out.6"
   ]
  },
  {
   "cell_type": "markdown",
   "metadata": {},
   "source": [
    "Agregación de campos\n",
    "--"
   ]
  },
  {
   "cell_type": "markdown",
   "metadata": {},
   "source": [
    "Sea el siguiente archivo:"
   ]
  },
  {
   "cell_type": "code",
   "execution_count": 22,
   "metadata": {},
   "outputs": [],
   "source": [
    "%%sh\n",
    "cat > out.1 <<EOF\n",
    "Date, Price, Quantity, CustomerID\n",
    "2013-01-12, 25, 7, 1\n",
    "2014-05-12, 41, 5, 12\n",
    "2013-02-25, 44, 3, 2\n",
    "2013-04-04, 90, 1, 5\n",
    "2013-06-21, 16, 2, 19\n",
    "2014-05-12, 63, 2, 15\n",
    "2014-05-12, 10, 4, 7\n",
    "2013-02-28, 78, 8, 9\n",
    "2013-08-02, 51, 1, 14\n",
    "EOF"
   ]
  },
  {
   "cell_type": "markdown",
   "metadata": {},
   "source": [
    "Se desea agregar un nuevo campo llamado `Quantity-CustomerID` que contenga la cantidad de producto y el cliente. El siguiente comando une las columnas de interés:"
   ]
  },
  {
   "cell_type": "code",
   "execution_count": 23,
   "metadata": {},
   "outputs": [
    {
     "name": "stdout",
     "output_type": "stream",
     "text": [
      "Date, Price, Quantity, CustomerID\n",
      "2013-01-12, 25, 7-1\n",
      "2014-05-12, 41, 5-12\n",
      "2013-02-25, 44, 3-2\n",
      "2013-04-04, 90, 1-5\n",
      "2013-06-21, 16, 2-19\n",
      "2014-05-12, 63, 2-15\n",
      "2014-05-12, 10, 4-7\n",
      "2013-02-28, 78, 8-9\n",
      "2013-08-02, 51, 1-14\n"
     ]
    }
   ],
   "source": [
    "%%sh\n",
    "awk '{print gensub(/, ([0-9][0-9]), ([0-9]), ([0-9])/, \", \\\\1, \\\\2-\\\\3\", 1)}' out.1 > out.2\n",
    "cat out.2"
   ]
  },
  {
   "cell_type": "markdown",
   "metadata": {},
   "source": [
    "Se agrega el título `Quantity-CustomerID`:"
   ]
  },
  {
   "cell_type": "code",
   "execution_count": 24,
   "metadata": {
    "scrolled": true
   },
   "outputs": [
    {
     "name": "stdout",
     "output_type": "stream",
     "text": [
      "Date, Price, Quantity-CustomerID\n",
      "2013-01-12, 25, 7-1\n",
      "2014-05-12, 41, 5-12\n",
      "2013-02-25, 44, 3-2\n",
      "2013-04-04, 90, 1-5\n",
      "2013-06-21, 16, 2-19\n",
      "2014-05-12, 63, 2-15\n",
      "2014-05-12, 10, 4-7\n",
      "2013-02-28, 78, 8-9\n",
      "2013-08-02, 51, 1-14\n"
     ]
    }
   ],
   "source": [
    "%%sh\n",
    "awk '{print gensub(/([a-zA-Z]*), ([a-zA-Z]*), ([a-zA-Z]*), ([a-zA-Z]*)/, \"\\\\1, \\\\2, \\\\3-\\\\4\", 1)}' out.2"
   ]
  },
  {
   "cell_type": "markdown",
   "metadata": {},
   "source": [
    "A través del comando `BEGIN` y `END` se pueden agregar valores al principio y al final de las columnas o de todo el archivo de texto. \n",
    "\n",
    "El comando `NR>1` indica que se debe tener en cuenta solo filas a partir de la posicion 1 y `{print $0}` que se deben tener en cuenta todas las columnas."
   ]
  },
  {
   "cell_type": "code",
   "execution_count": 25,
   "metadata": {},
   "outputs": [
    {
     "name": "stdout",
     "output_type": "stream",
     "text": [
      "Date, Price, Quantity-CustomerID\n",
      "2013-01-12, 25, 7-1\n",
      "2014-05-12, 41, 5-12\n",
      "2013-02-25, 44, 3-2\n",
      "2013-04-04, 90, 1-5\n",
      "2013-06-21, 16, 2-19\n",
      "2014-05-12, 63, 2-15\n",
      "2014-05-12, 10, 4-7\n",
      "2013-02-28, 78, 8-9\n",
      "2013-08-02, 51, 1-14\n"
     ]
    }
   ],
   "source": [
    "%%sh\n",
    "awk 'BEGIN{print \"Date, Price, Quantity-CustomerID\"}(NR>1){print $0}' out.2"
   ]
  },
  {
   "cell_type": "code",
   "execution_count": 26,
   "metadata": {},
   "outputs": [
    {
     "name": "stdout",
     "output_type": "stream",
     "text": [
      "7-1\n",
      "5-12\n",
      "3-2\n",
      "1-5\n",
      "2-19\n",
      "2-15\n",
      "4-7\n",
      "8-9\n",
      "1-14\n",
      "Hola\n"
     ]
    }
   ],
   "source": [
    "%%sh\n",
    "awk '(NR>1){print $3} END{print \"Hola\"}' out.2"
   ]
  },
  {
   "cell_type": "markdown",
   "metadata": {},
   "source": [
    "Se desea agregar un nuevo campo llamado `Quantity*Price` que contenga el total de la cuenta de cada compra. El comando `{print $1 $2}` concatena e imprime columnas  iniciando el conteo en 1 de izquierda a derecha."
   ]
  },
  {
   "cell_type": "code",
   "execution_count": 27,
   "metadata": {},
   "outputs": [
    {
     "name": "stdout",
     "output_type": "stream",
     "text": [
      "Date, Price, Quantity,  CustomerID, 0\n",
      "2013-01-12, 25, 7,  1, 25\n",
      "2014-05-12, 41, 5,  12, 492\n",
      "2013-02-25, 44, 3,  2, 88\n",
      "2013-04-04, 90, 1,  5, 450\n",
      "2013-06-21, 16, 2,  19, 304\n",
      "2014-05-12, 63, 2,  15, 945\n",
      "2014-05-12, 10, 4,  7, 70\n",
      "2013-02-28, 78, 8,  9, 702\n",
      "2013-08-02, 51, 1,  14, 714\n"
     ]
    }
   ],
   "source": [
    "%%sh\n",
    "awk -F\",\" '{print $1\",\"$2\",\"$3\", \"$4\", \"$2*$4}' out.1 > out.2\n",
    "cat out.2"
   ]
  },
  {
   "cell_type": "markdown",
   "metadata": {},
   "source": [
    "Ahora, se debe agregar el título a la nueva columna:"
   ]
  },
  {
   "cell_type": "code",
   "execution_count": 28,
   "metadata": {
    "scrolled": true
   },
   "outputs": [
    {
     "name": "stdout",
     "output_type": "stream",
     "text": [
      "Date, Price, Quantity,  CustomerID, Total\n",
      "2013-01-12, 25, 7,  1, 25\n",
      "2014-05-12, 41, 5,  12, 492\n",
      "2013-02-25, 44, 3,  2, 88\n",
      "2013-04-04, 90, 1,  5, 450\n",
      "2013-06-21, 16, 2,  19, 304\n",
      "2014-05-12, 63, 2,  15, 945\n",
      "2014-05-12, 10, 4,  7, 70\n",
      "2013-02-28, 78, 8,  9, 702\n",
      "2013-08-02, 51, 1,  14, 714\n"
     ]
    }
   ],
   "source": [
    "%%sh\n",
    "awk '{print gensub(/, 0/, \", Total\", 1)}' out.2"
   ]
  },
  {
   "cell_type": "markdown",
   "metadata": {},
   "source": [
    "Se puede utilizar el comando la opción `-F` y `OFS` para cambiar el separador del archivo de texto:"
   ]
  },
  {
   "cell_type": "code",
   "execution_count": 29,
   "metadata": {},
   "outputs": [
    {
     "name": "stdout",
     "output_type": "stream",
     "text": [
      "Date| Price| Quantity| CustomerID\n",
      "2013-01-12| 25| 7| 1\n",
      "2014-05-12| 41| 5| 12\n",
      "2013-02-25| 44| 3| 2\n",
      "2013-04-04| 90| 1| 5\n",
      "2013-06-21| 16| 2| 19\n",
      "2014-05-12| 63| 2| 15\n",
      "2014-05-12| 10| 4| 7\n",
      "2013-02-28| 78| 8| 9\n",
      "2013-08-02| 51| 1| 14\n"
     ]
    }
   ],
   "source": [
    "%%sh\n",
    "awk -F\",\" 'BEGIN{OFS=\"|\";}{print $1,$2,$3,$4}' out.1"
   ]
  },
  {
   "cell_type": "markdown",
   "metadata": {},
   "source": [
    "Resumen\n",
    "--"
   ]
  },
  {
   "cell_type": "markdown",
   "metadata": {},
   "source": [
    "```bash\n",
    "## imprime la línea 3\n",
    "awk 'NR == 3 {print}' out.1\n",
    "\n",
    "## imprime las líneas 3 a 6\n",
    "awk '(NR >= 3) && (NR <= 6) {print $0}' out.1\n",
    "\n",
    "## imprime las líneas 3 a 6 y 11 a 13\n",
    "awk '((NR >= 3) && (NR <= 6) || ((NR >= 11) && (NR <= 13)))  {print $0}' out.1\n",
    "\n",
    "## Imprime las lineas que contengan un 1\n",
    "awk '/1/ {print}' out.1\n",
    "\n",
    "## Imprime las líneas que tengaun un 1 al final\n",
    "awk '/1$/ {print}' out.1\n",
    "\n",
    "## Imprime las líneas que tengan un 1 al inicio\n",
    "awk '/^1/ {print}' out.1\n",
    "\n",
    "## sustituye la primera ocurrencia de X por x en cada línea\n",
    "awk '{sub(/X/, \"x\"); print}' out.1\n",
    "\n",
    "## Sustituye todas las ocurrencias de X por x\n",
    "awk '{gsub(/X/, \"x\"); print}' out.1\n",
    "\n",
    "## Parte la linea por los caracteres indicados y la asigna a una variable\n",
    "awk '{split($0,nombre,\"-\")} {print nombre[2]}' out.1\n",
    "```"
   ]
  },
  {
   "cell_type": "markdown",
   "metadata": {},
   "source": [
    "## Actividad"
   ]
  },
  {
   "cell_type": "markdown",
   "metadata": {},
   "source": [
    "Cree el archivo `out.1` como se indica a continuación."
   ]
  },
  {
   "cell_type": "code",
   "execution_count": 30,
   "metadata": {},
   "outputs": [],
   "source": [
    "%%sh\n",
    "cat > out.1 <<EOF\n",
    "12/03/13;A;1;100,0\n",
    "05/12/13;A;1;100,0\n",
    "25/02/13;B;2;200,0\n",
    "04/04/13;N;1;\\N\n",
    "21/06/13;\\N;;\n",
    "13/06/14;A;;N\n",
    "12/05/14;C;\\N;\n",
    "05/09/14;\\N;3;150,1\n",
    "12/05/14;a;2;\\N\n",
    "28/02/13;c;\\N;\\N\n",
    "02/08/13;A;2;100;0\n",
    "EOF"
   ]
  },
  {
   "cell_type": "markdown",
   "metadata": {},
   "source": [
    "Los valores válidos para los campos son los siguientes:\n",
    "\n",
    "* Columna 1: `DD/MM/AA`\n",
    "* Columna 2: `A`, `B`, `C`. `\\N` indica NULL.\n",
    "* Columna 3: Número entero. `\\N` indica NULL.\n",
    "* Columna 4: Número decimal. `\\N` indica NULL.\n",
    "    "
   ]
  },
  {
   "cell_type": "markdown",
   "metadata": {},
   "source": [
    "Usando `awk`:\n",
    "\n",
    "1. Convierta el formato de las fechas de `DD/MM/YY` a `YYYY-MM-DD`.\n",
    "2. Transforme el archivo para que todos los campos nulos aparezcan como `\\N`.\n",
    "3. Reemplace los `;` por `,`.\n",
    "4. Use el `.` para indicar decimales.\n",
    "5. Extraiga los registros que no tienen campos nulos."
   ]
  },
  {
   "cell_type": "markdown",
   "metadata": {},
   "source": [
    "**Borrado de los archivos temporales creados**"
   ]
  },
  {
   "cell_type": "code",
   "execution_count": 31,
   "metadata": {},
   "outputs": [],
   "source": [
    "!rm out.*"
   ]
  }
 ],
 "metadata": {
  "kernel_info": {
   "name": "bash"
  },
  "kernelspec": {
   "display_name": "Python 3 (ipykernel)",
   "language": "python",
   "name": "python3"
  },
  "language_info": {
   "codemirror_mode": {
    "name": "ipython",
    "version": 3
   },
   "file_extension": ".py",
   "mimetype": "text/x-python",
   "name": "python",
   "nbconvert_exporter": "python",
   "pygments_lexer": "ipython3",
   "version": "3.8.10"
  },
  "nteract": {
   "version": "0.12.3"
  }
 },
 "nbformat": 4,
 "nbformat_minor": 4
}
