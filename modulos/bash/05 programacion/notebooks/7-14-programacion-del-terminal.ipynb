{
 "cells": [
  {
   "cell_type": "markdown",
   "metadata": {},
   "source": [
    "Programación del Terminal\n",
    "==========================================\n",
    "\n",
    "* *120 min* | Última modificación: Diciembre 17, 2019."
   ]
  },
  {
   "cell_type": "markdown",
   "metadata": {},
   "source": [
    "Variables y arrays\n",
    "--"
   ]
  },
  {
   "cell_type": "markdown",
   "metadata": {},
   "source": [
    "Las variables en Bash funcionan de forma análoga a las variables en otros lenguajes de programación.  "
   ]
  },
  {
   "cell_type": "markdown",
   "metadata": {},
   "source": [
    "Las variables en Bash no necesitan ser declaradas (tal como en el lenguaje C) para ser usadas. Para hacer la asignación se utiliza el símbolo `=`; note que no puede haber espacio alrededor del `=`. En la segunda línea de código es necesario preceder el nombre de la variable por `$` para indicar que var1 es un nombre de variable y no una cadena de texto."
   ]
  },
  {
   "cell_type": "code",
   "execution_count": 1,
   "metadata": {
    "scrolled": true
   },
   "outputs": [
    {
     "name": "stdout",
     "output_type": "stream",
     "text": [
      "hola mundo\n"
     ]
    }
   ],
   "source": [
    "%%bash\n",
    "var1='hola mundo'\n",
    "echo $var1 "
   ]
  },
  {
   "cell_type": "code",
   "execution_count": 2,
   "metadata": {
    "scrolled": true
   },
   "outputs": [
    {
     "name": "stdout",
     "output_type": "stream",
     "text": [
      "var1\n"
     ]
    }
   ],
   "source": [
    "%%bash\n",
    "echo var1"
   ]
  },
  {
   "cell_type": "markdown",
   "metadata": {},
   "source": [
    "A una variable se le puede asignar el resultado de un comando:"
   ]
  },
  {
   "cell_type": "code",
   "execution_count": 3,
   "metadata": {
    "scrolled": true
   },
   "outputs": [
    {
     "name": "stdout",
     "output_type": "stream",
     "text": [
      "hola mundo\n"
     ]
    }
   ],
   "source": [
    "%%bash\n",
    "x=$(echo hola mundo)\n",
    "echo $x"
   ]
  },
  {
   "cell_type": "markdown",
   "metadata": {},
   "source": [
    "El shell solo soporta aritmética entera y está diseñado primariamente para operaciones del sistema operativo y cadenas de caracteres, por lo que en el siguiente código lo que se indica es que se están concatenando cadenas de caracteres."
   ]
  },
  {
   "cell_type": "code",
   "execution_count": 4,
   "metadata": {
    "scrolled": true
   },
   "outputs": [
    {
     "name": "stdout",
     "output_type": "stream",
     "text": [
      "1+1\n"
     ]
    }
   ],
   "source": [
    "%%bash\n",
    "x=1\n",
    "y=$x+1\n",
    "echo $y"
   ]
  },
  {
   "cell_type": "markdown",
   "metadata": {},
   "source": [
    "Para indicar que se están realizando operaciones aritméticas hay dos opciones: la primera es utilizar el operador `$((` ... `))`  y la segunda es usar el comando `let`."
   ]
  },
  {
   "cell_type": "code",
   "execution_count": 5,
   "metadata": {
    "scrolled": true
   },
   "outputs": [
    {
     "name": "stdout",
     "output_type": "stream",
     "text": [
      "2\n"
     ]
    }
   ],
   "source": [
    "%%bash\n",
    "x=1\n",
    "y=$((x+1))\n",
    "echo $y"
   ]
  },
  {
   "cell_type": "code",
   "execution_count": 6,
   "metadata": {
    "scrolled": true
   },
   "outputs": [
    {
     "name": "stdout",
     "output_type": "stream",
     "text": [
      "2\n"
     ]
    }
   ],
   "source": [
    "%%bash\n",
    "let x=1\n",
    "let y=x+1\n",
    "echo $y"
   ]
  },
  {
   "cell_type": "markdown",
   "metadata": {},
   "source": [
    "El shell soporta los `+=`, `-=`, ... similares a los del lenguaje C. No pueden dejarse espacios alrededor de ellos."
   ]
  },
  {
   "cell_type": "code",
   "execution_count": 7,
   "metadata": {},
   "outputs": [
    {
     "name": "stdout",
     "output_type": "stream",
     "text": [
      "2\n"
     ]
    }
   ],
   "source": [
    "%%bash\n",
    "let x=1\n",
    "let x+=1\n",
    "echo $x"
   ]
  },
  {
   "cell_type": "markdown",
   "metadata": {},
   "source": [
    "Bash también permite el uso de arrays. Para crear un array es necesario colocar sus componentes entre `(` y `)`. Note que cuando se imprime con `echo` solo aparece el primer elemento."
   ]
  },
  {
   "cell_type": "code",
   "execution_count": 8,
   "metadata": {
    "scrolled": true
   },
   "outputs": [
    {
     "name": "stdout",
     "output_type": "stream",
     "text": [
      "a\n"
     ]
    }
   ],
   "source": [
    "%%bash\n",
    "x=(a b c d e)\n",
    "echo $x"
   ]
  },
  {
   "cell_type": "markdown",
   "metadata": {},
   "source": [
    "Para acceder a cada uno de los elementos se debe usar el operador `[` ... `]`, teniendo en cuenta que el primer elemento tiene índice cero, el segundo índice uno y así sucesivamente."
   ]
  },
  {
   "cell_type": "code",
   "execution_count": 9,
   "metadata": {
    "scrolled": true
   },
   "outputs": [
    {
     "name": "stdout",
     "output_type": "stream",
     "text": [
      "b\n"
     ]
    }
   ],
   "source": [
    "%%bash\n",
    "x=(a b c d e)\n",
    "echo ${x[1]}"
   ]
  },
  {
   "cell_type": "markdown",
   "metadata": {},
   "source": [
    "Para imprimir todos los elementos se debe usar `[*]`."
   ]
  },
  {
   "cell_type": "code",
   "execution_count": 10,
   "metadata": {
    "scrolled": true
   },
   "outputs": [
    {
     "name": "stdout",
     "output_type": "stream",
     "text": [
      "a b c d e\n"
     ]
    }
   ],
   "source": [
    "%%bash\n",
    "x=(a b c d e)\n",
    "echo ${x[*]}"
   ]
  },
  {
   "cell_type": "markdown",
   "metadata": {},
   "source": [
    "Se pueden usar las estructuras de iteración anteriores para recorrer los elementos del vector."
   ]
  },
  {
   "cell_type": "code",
   "execution_count": 11,
   "metadata": {
    "scrolled": true
   },
   "outputs": [
    {
     "name": "stdout",
     "output_type": "stream",
     "text": [
      "a\n",
      "b\n",
      "c\n",
      "d\n",
      "e\n"
     ]
    }
   ],
   "source": [
    "%%bash\n",
    "x=(a b c d e)\n",
    "for n in ${x[*]}\n",
    "do\n",
    "    echo $n\n",
    "done"
   ]
  },
  {
   "cell_type": "markdown",
   "metadata": {},
   "source": [
    "Los elementos del vector también pueden ser modificados."
   ]
  },
  {
   "cell_type": "code",
   "execution_count": 12,
   "metadata": {
    "scrolled": true
   },
   "outputs": [
    {
     "name": "stdout",
     "output_type": "stream",
     "text": [
      "a\n",
      "b\n",
      "hola\n",
      "d\n",
      "e\n"
     ]
    }
   ],
   "source": [
    "%%bash\n",
    "x=(a b c d e)\n",
    "x[2]='hola'\n",
    "for n in ${x[*]}\n",
    "do\n",
    "    echo $n\n",
    "done"
   ]
  },
  {
   "cell_type": "markdown",
   "metadata": {},
   "source": [
    "Scripts\n",
    "--"
   ]
  },
  {
   "cell_type": "markdown",
   "metadata": {},
   "source": [
    "Los scripts son archivos que contienen secuencias de comandos y que pueden ser ejecutados directamente en la línea de comandos (Bash en este caso). En el siguiente ejemplo, se va a crear un script llamado `demo.sh` el cual imprime `hola mundo` en la pantalla. "
   ]
  },
  {
   "cell_type": "markdown",
   "metadata": {},
   "source": [
    "Se direcciona la salida al archivo en vez de la pantalla."
   ]
  },
  {
   "cell_type": "code",
   "execution_count": 13,
   "metadata": {
    "scrolled": true
   },
   "outputs": [],
   "source": [
    "%%bash\n",
    "echo 'echo hola mundo' > demo.sh  "
   ]
  },
  {
   "cell_type": "markdown",
   "metadata": {},
   "source": [
    "Se imprime en pantalla el contenido de demo.sh"
   ]
  },
  {
   "cell_type": "code",
   "execution_count": 14,
   "metadata": {
    "scrolled": true
   },
   "outputs": [
    {
     "name": "stdout",
     "output_type": "stream",
     "text": [
      "echo hola mundo\n"
     ]
    }
   ],
   "source": [
    "%%bash\n",
    "cat demo.sh  "
   ]
  },
  {
   "cell_type": "markdown",
   "metadata": {},
   "source": [
    "El archivo fue creado en el directorio de trabajo"
   ]
  },
  {
   "cell_type": "code",
   "execution_count": 15,
   "metadata": {
    "scrolled": true
   },
   "outputs": [
    {
     "name": "stdout",
     "output_type": "stream",
     "text": [
      "demo.sh\n"
     ]
    }
   ],
   "source": [
    "!ls *.sh  "
   ]
  },
  {
   "cell_type": "markdown",
   "metadata": {},
   "source": [
    "Para ejecutarlo se usa el comando `bash`."
   ]
  },
  {
   "cell_type": "code",
   "execution_count": 16,
   "metadata": {
    "scrolled": true
   },
   "outputs": [
    {
     "name": "stdout",
     "output_type": "stream",
     "text": [
      "hola mundo\n"
     ]
    }
   ],
   "source": [
    "!bash ./demo.sh  "
   ]
  },
  {
   "cell_type": "markdown",
   "metadata": {},
   "source": [
    "Es posible hacer que el archivo `demo.sh`  sea ejecutable por el sistema operativo. "
   ]
  },
  {
   "cell_type": "markdown",
   "metadata": {},
   "source": [
    "En primer lugar, es necesario agregar la linea: \n",
    "\n",
    "    #! /usr/bin/env bash \n",
    "    \n",
    "la cual indica que el archivo actual puede ser ejecutado usando el comando `bash`; obligatoriamente esta tiene que ser la primera línea del archivo.  La cadena de caracteres `#!` se conoce como *shebang*, *hashbang* o *sharpbang* en la jerga de Unix; después del shebang va el `path` donde se encuentra el programa que puede ejecutar el archivo actual; y finalmente, aparece el nombre del programa como tal.       "
   ]
  },
  {
   "cell_type": "code",
   "execution_count": 17,
   "metadata": {
    "scrolled": true
   },
   "outputs": [],
   "source": [
    "%%bash\n",
    "cat > demo <<EOF\n",
    "#! /usr/bin/env bash\n",
    "echo hola mundo\n",
    "EOF"
   ]
  },
  {
   "cell_type": "markdown",
   "metadata": {},
   "source": [
    "Se imprime el contenido de `demo.sh`."
   ]
  },
  {
   "cell_type": "code",
   "execution_count": 18,
   "metadata": {
    "scrolled": true
   },
   "outputs": [
    {
     "name": "stdout",
     "output_type": "stream",
     "text": [
      "#! /usr/bin/env bash\n",
      "echo hola mundo\n"
     ]
    }
   ],
   "source": [
    "!cat demo"
   ]
  },
  {
   "cell_type": "markdown",
   "metadata": {},
   "source": [
    "En segundo lugar, se modifican las propiedades del archivo `demo.sh` con el comando `chmod` para hacerlo ejecutable (opción `+x`)."
   ]
  },
  {
   "cell_type": "code",
   "execution_count": 19,
   "metadata": {
    "scrolled": true
   },
   "outputs": [],
   "source": [
    "!chmod +x demo"
   ]
  },
  {
   "cell_type": "markdown",
   "metadata": {},
   "source": [
    "Para ejecutar `demo.sh` es necesario precederlo de `./` para indicar que el archivo se encuentra en el directorio actual de trabajo."
   ]
  },
  {
   "cell_type": "code",
   "execution_count": 20,
   "metadata": {
    "scrolled": true
   },
   "outputs": [
    {
     "name": "stdout",
     "output_type": "stream",
     "text": [
      "hola mundo\n"
     ]
    }
   ],
   "source": [
    "%%bash\n",
    "./demo"
   ]
  },
  {
   "cell_type": "markdown",
   "metadata": {},
   "source": [
    "La ventaja de los scripts es que pueden ser usados pasándoles parámetros."
   ]
  },
  {
   "cell_type": "markdown",
   "metadata": {},
   "source": [
    "En este caso se modifica el programa anterior para que salude al usuario, cuyo nombre se pasa como un parámetro al script. `$1` corresponde al primer argumento de la llamada."
   ]
  },
  {
   "cell_type": "code",
   "execution_count": 21,
   "metadata": {
    "scrolled": true
   },
   "outputs": [],
   "source": [
    "%%bash\n",
    "cat > demo.sh <<EOF\n",
    "#! /usr/bin/env bash\n",
    "echo hola \\$1 \\$2\n",
    "EOF"
   ]
  },
  {
   "cell_type": "code",
   "execution_count": 22,
   "metadata": {},
   "outputs": [
    {
     "name": "stdout",
     "output_type": "stream",
     "text": [
      "#! /usr/bin/env bash\n",
      "echo hola $1 $2\n"
     ]
    }
   ],
   "source": [
    "!cat demo.sh"
   ]
  },
  {
   "cell_type": "code",
   "execution_count": 23,
   "metadata": {},
   "outputs": [],
   "source": [
    "!chmod +x demo.sh"
   ]
  },
  {
   "cell_type": "code",
   "execution_count": 24,
   "metadata": {
    "scrolled": true
   },
   "outputs": [
    {
     "name": "stdout",
     "output_type": "stream",
     "text": [
      "hola juan david\n"
     ]
    }
   ],
   "source": [
    "%%bash\n",
    "./demo.sh juan david"
   ]
  },
  {
   "cell_type": "markdown",
   "metadata": {},
   "source": [
    "Como se observó en el ejemplo anterior: \n",
    "* `$1` indica el primer argumento. \n",
    "* `$2` indica el segundo argumento, y así sucesivamente. \n",
    "* `$0` es el nombre del script. \n",
    "* `$*` y `$@` representan la cadena de texto conformada por todos los argumentos. \n",
    "* `$#` indica el número de argumentos pasados al script. "
   ]
  },
  {
   "cell_type": "code",
   "execution_count": 25,
   "metadata": {
    "scrolled": true
   },
   "outputs": [
    {
     "name": "stdout",
     "output_type": "stream",
     "text": [
      "echo $@\n",
      "echo $*\n",
      "echo $0\n",
      "echo $1\n",
      "echo $#\n"
     ]
    }
   ],
   "source": [
    "%%bash\n",
    "echo \"echo \\$@\n",
    "echo \\$*\n",
    "echo \\$0\n",
    "echo \\$1\n",
    "echo \\$#\" > demo.sh\n",
    "cat demo.sh"
   ]
  },
  {
   "cell_type": "code",
   "execution_count": 26,
   "metadata": {},
   "outputs": [
    {
     "name": "stdout",
     "output_type": "stream",
     "text": [
      "a b c d\n",
      "a b c d\n",
      "demo.sh\n",
      "a\n",
      "4\n"
     ]
    }
   ],
   "source": [
    "!bash demo.sh a b c d"
   ]
  },
  {
   "cell_type": "markdown",
   "metadata": {},
   "source": [
    "Funciones\n",
    "--"
   ]
  },
  {
   "cell_type": "markdown",
   "metadata": {},
   "source": [
    "En el siguiente ejemplo se crea una función en Bash. Después del nombre de la función siempre se escribe `()` y se delimita el cuerpo de la función usando llaves (`{`  y `}`)."
   ]
  },
  {
   "cell_type": "code",
   "execution_count": 27,
   "metadata": {
    "scrolled": true
   },
   "outputs": [],
   "source": [
    "%%bash\n",
    "demo(){\n",
    "  echo hola mundo\n",
    "}"
   ]
  },
  {
   "cell_type": "markdown",
   "metadata": {},
   "source": [
    "Para ejecutar la función simplemente se escribe su nombre (sin `()`)."
   ]
  },
  {
   "cell_type": "code",
   "execution_count": 28,
   "metadata": {
    "scrolled": true
   },
   "outputs": [
    {
     "name": "stdout",
     "output_type": "stream",
     "text": [
      "hola mundo\n"
     ]
    }
   ],
   "source": [
    "%%bash\n",
    "demo(){\n",
    "  echo hola mundo\n",
    "}\n",
    "demo"
   ]
  },
  {
   "cell_type": "markdown",
   "metadata": {},
   "source": [
    "Los argumentos se notan como `$1`... al igual que en los scripts. En este caso `$0` es el `bash` y no se puede acceder al nombre de la función. Note que en la llamada a la función no se usan paréntesis, tal como si ocurre en otros lenguajes de programación."
   ]
  },
  {
   "cell_type": "code",
   "execution_count": 29,
   "metadata": {
    "scrolled": true
   },
   "outputs": [
    {
     "name": "stdout",
     "output_type": "stream",
     "text": [
      "a b c d\n",
      "a b c d\n",
      "bash\n",
      "a\n",
      "4\n"
     ]
    }
   ],
   "source": [
    "%%bash\n",
    "demo() {\n",
    "  echo $@\n",
    "  echo $*\n",
    "  echo $0\n",
    "  echo $1\n",
    "  echo $#\n",
    "}\n",
    "demo a b c d"
   ]
  },
  {
   "cell_type": "markdown",
   "metadata": {},
   "source": [
    "Las funciones pueden ser almacenadas y ejecutadas dentro de un script, tal como se muestra a continuación."
   ]
  },
  {
   "cell_type": "code",
   "execution_count": 30,
   "metadata": {},
   "outputs": [],
   "source": [
    "%%bash\n",
    "cat > maxmin.sh <<EOF \n",
    "min2(){\n",
    "    echo 'arg1 (min2): ' \\$1\n",
    "    echo 'arg2 (min2): ' \\$2\n",
    "    if ((\\$1 < \\$2))\n",
    "    then \n",
    "        echo \\$1\n",
    "    else\n",
    "        echo \\$2\n",
    "    fi        \n",
    "}\n",
    "\n",
    "max2(){\n",
    "    echo 'arg1 (max2): ' \\$1\n",
    "    echo 'arg2 (max2): ' \\$2\n",
    "    if ((\\$1 > \\$2))\n",
    "    then \n",
    "        echo \\$1\n",
    "    else\n",
    "        echo \\$2\n",
    "    fi        \n",
    "}\n",
    "\n",
    "max2 \\$3 \\$4\n",
    "min2 \\$1 \\$2\n",
    "EOF"
   ]
  },
  {
   "cell_type": "code",
   "execution_count": 31,
   "metadata": {
    "scrolled": true
   },
   "outputs": [
    {
     "name": "stdout",
     "output_type": "stream",
     "text": [
      "arg1 (max2):  30\n",
      "arg2 (max2):  40\n",
      "40\n",
      "arg1 (min2):  10\n",
      "arg2 (min2):  20\n",
      "10\n"
     ]
    }
   ],
   "source": [
    "%%bash\n",
    "bash maxmin.sh 10 20 30 40"
   ]
  },
  {
   "cell_type": "markdown",
   "metadata": {},
   "source": [
    "Decisión con if-then-else-fi y case-esac\n",
    "--"
   ]
  },
  {
   "cell_type": "markdown",
   "metadata": {},
   "source": [
    "En el siguiente ejemplo se codifica la función `min2` la cual recibe dos números enteros e imprime el menor de ellos. Si ambos números son iguales, se imprimen ambos argumentos. En este ejemplo también se presenta la estructura condicional `if`; para que el condicional sea evaluado correctamente es necesario colocar la expresión entre `((` y `))`. "
   ]
  },
  {
   "cell_type": "code",
   "execution_count": 32,
   "metadata": {
    "scrolled": true
   },
   "outputs": [
    {
     "name": "stdout",
     "output_type": "stream",
     "text": [
      "1\n"
     ]
    }
   ],
   "source": [
    "%%bash\n",
    "min2(){\n",
    "    if (($1 < $2))\n",
    "    then \n",
    "        echo $1\n",
    "    elif (($1 == $2))\n",
    "    then\n",
    "        echo $1 $2\n",
    "    else\n",
    "        echo $2\n",
    "    fi        \n",
    "}\n",
    "min2 1 2"
   ]
  },
  {
   "cell_type": "markdown",
   "metadata": {},
   "source": [
    "El siguiente codigo lee los nombres de los archivos del directorio actual e imprime los que son un jupyter notebook. En la primera línea, `*` indica los archivos y directorios en el directorio actual de trabajo.  En la cuarta línea, `*.ipynb` indica que el nombre de archivo (almacenado en `x`) debe terminar en la extensión `.ipynb`. La expresión `*)` en la quinta línea es el caso por defecto (cualquier nombre de archivo), es decir, se ejecuta si no han cumplido ninguna de las instrucciones especificadas por las sentencias `case` anteriores."
   ]
  },
  {
   "cell_type": "code",
   "execution_count": 33,
   "metadata": {
    "scrolled": true
   },
   "outputs": [
    {
     "name": "stdout",
     "output_type": "stream",
     "text": [
      "1-02-gestion-de-archivos-y-directorios.ipynb  es un Jupyter notebook\n",
      "1-04-actividad-creacion-y-edicion-de-archivos-de-texto.ipynb  es un Jupyter notebook\n",
      "2-05-comandos-basicos-datos.ipynb  es un Jupyter notebook\n",
      "3-07-uso-interactivo-del-terminal.ipynb  es un Jupyter notebook\n",
      "3-08-edicion-de-archivos-con-sed.ipynb  es un Jupyter notebook\n",
      "3-09-edicion-de-archivos-con-awk.ipynb  es un Jupyter notebook\n",
      "3-10-edicion-de-archivos-con-perl.ipynb  es un Jupyter notebook\n",
      "4-11-ejecucion-de-consultas-sql-en-bash.ipynb  es un Jupyter notebook\n",
      "5-13-app-interactiva.ipynb  es un Jupyter notebook\n",
      "5-14-programacion-del-terminal.ipynb  es un Jupyter notebook\n"
     ]
    }
   ],
   "source": [
    "%%bash\n",
    "for x in *\n",
    "do\n",
    "    case $x in\n",
    "        *.ipynb) echo -n -e $x ' es un Jupyter notebook\\n';;\n",
    "        *) \n",
    "    esac\n",
    "done"
   ]
  },
  {
   "cell_type": "markdown",
   "metadata": {},
   "source": [
    "Ciclos definidos con for\n",
    "--"
   ]
  },
  {
   "cell_type": "markdown",
   "metadata": {},
   "source": [
    "A continuación se presentan varios ejemplos de procesos iterativos usando `for`."
   ]
  },
  {
   "cell_type": "code",
   "execution_count": 34,
   "metadata": {
    "scrolled": true
   },
   "outputs": [
    {
     "name": "stdout",
     "output_type": "stream",
     "text": [
      "1 2 3 4 5 "
     ]
    }
   ],
   "source": [
    "%%bash\n",
    "# imprime los números del 1 al 5.\n",
    "for x in 1 2 3 4 5  \n",
    "do\n",
    "    echo -n $x ''\n",
    "done"
   ]
  },
  {
   "cell_type": "code",
   "execution_count": 35,
   "metadata": {
    "scrolled": true
   },
   "outputs": [
    {
     "name": "stdout",
     "output_type": "stream",
     "text": [
      "1 2 3 4 5 "
     ]
    }
   ],
   "source": [
    "%%bash\n",
    "# el mismo ejemplo anterior.\n",
    "for x in $(seq 1 5) \n",
    "do\n",
    "    echo -n $x ''\n",
    "done"
   ]
  },
  {
   "cell_type": "code",
   "execution_count": 36,
   "metadata": {
    "scrolled": true
   },
   "outputs": [
    {
     "name": "stdout",
     "output_type": "stream",
     "text": [
      "1 2 3 4 5 "
     ]
    }
   ],
   "source": [
    "%%bash\n",
    "# de nuevo, el mismo ejemplo anterior\n",
    "for x in {1..5} \n",
    "do\n",
    "    echo -n $x ''\n",
    "done"
   ]
  },
  {
   "cell_type": "code",
   "execution_count": 37,
   "metadata": {
    "scrolled": true
   },
   "outputs": [
    {
     "name": "stdout",
     "output_type": "stream",
     "text": [
      "1 2 3 4 5 "
     ]
    }
   ],
   "source": [
    "%%bash\n",
    "# note que la expresión va entre '(('  y '))'\n",
    "for ((x=1; x <= 5; x++))  \n",
    "do\n",
    "  echo -n $x ''\n",
    "done"
   ]
  },
  {
   "cell_type": "markdown",
   "metadata": {},
   "source": [
    "En el siguiente ejemplo se generarán las cadenas de texto `file1.txt`, `file2.txt` ... hasta `file5.txt` usando un ciclo `for`. El nombre de la variable debe encerrarse entre `${` y `}` para distinguirlo del resto de la cadena de texto. Es decir, si se coloca `echo filex.txt` o `echo file$x.txt` el intérprete no puede diferenciar el nombre de la variable (`x`) del texto restante."
   ]
  },
  {
   "cell_type": "code",
   "execution_count": 38,
   "metadata": {
    "scrolled": true
   },
   "outputs": [
    {
     "name": "stdout",
     "output_type": "stream",
     "text": [
      "file1.txt\n",
      "file2.txt\n",
      "file3.txt\n",
      "file4.txt\n",
      "file5.txt\n"
     ]
    }
   ],
   "source": [
    "%%bash\n",
    "for x in {1..5} \n",
    "do\n",
    "    echo file${x}.txt\n",
    "done"
   ]
  },
  {
   "cell_type": "markdown",
   "metadata": {},
   "source": [
    "De hecho, se pueden generar salidas mucho más complejas, tal como se ilustra a continuación (Ok! no se necesita el for para esto, pero es para ejemplificar)."
   ]
  },
  {
   "cell_type": "code",
   "execution_count": 39,
   "metadata": {
    "scrolled": true
   },
   "outputs": [
    {
     "name": "stdout",
     "output_type": "stream",
     "text": [
      "---> file1.txt\n",
      "---> file2.txt\n",
      "---> file3.txt\n",
      "---> file4.txt\n",
      "---> file5.txt\n"
     ]
    }
   ],
   "source": [
    "%%bash\n",
    "# el for recibe el resultado de ejecutar la expresión entre '$('  y  ')'.\n",
    "for x in $(seq -f'file%g.txt' 5) \n",
    "do\n",
    "    echo '--->' $x\n",
    "done"
   ]
  },
  {
   "cell_type": "markdown",
   "metadata": {},
   "source": [
    "En el siguiente ejemplo se genera un conjunto de archivos llamados `out.1`, `out.2`, ..., `out.5`. "
   ]
  },
  {
   "cell_type": "code",
   "execution_count": 40,
   "metadata": {
    "scrolled": true
   },
   "outputs": [
    {
     "name": "stdout",
     "output_type": "stream",
     "text": [
      "out.1\n",
      "out.2\n",
      "out.3\n",
      "out.4\n",
      "out.5\n"
     ]
    }
   ],
   "source": [
    "%%bash\n",
    "for x in {1..5}\n",
    "do\n",
    "    seq -f'linea %g' 5 > out.${x}\n",
    "done\n",
    "ls out.*"
   ]
  },
  {
   "cell_type": "markdown",
   "metadata": {},
   "source": [
    "A continuación se usa el comando `head` para iterar sobre los archivos e imprimir la primera línea de cada uno de ellos."
   ]
  },
  {
   "cell_type": "code",
   "execution_count": 41,
   "metadata": {
    "scrolled": true
   },
   "outputs": [
    {
     "name": "stdout",
     "output_type": "stream",
     "text": [
      "linea 1\n",
      "linea 1\n",
      "linea 1\n",
      "linea 1\n",
      "linea 1\n"
     ]
    }
   ],
   "source": [
    "%%bash\n",
    "head1(){\n",
    "    for x in out.*\n",
    "    do\n",
    "        head -n 1 $x\n",
    "    done\n",
    "}\n",
    "head1"
   ]
  },
  {
   "cell_type": "markdown",
   "metadata": {},
   "source": [
    "Ciclos condicionales con while\n",
    "--"
   ]
  },
  {
   "cell_type": "markdown",
   "metadata": {},
   "source": [
    "El último ejemplo puede ser realizado usando un ciclo `while` en vez de un ciclo `for`. En este caso, el condicional puede ser especificado con la palabra clave `test` o colocando el condicional entre `((` y `))`.  "
   ]
  },
  {
   "cell_type": "code",
   "execution_count": 42,
   "metadata": {
    "scrolled": true
   },
   "outputs": [
    {
     "name": "stdout",
     "output_type": "stream",
     "text": [
      "file1.txt\n",
      "file2.txt\n",
      "file3.txt\n",
      "file4.txt\n",
      "file5.txt\n"
     ]
    }
   ],
   "source": [
    "%%bash\n",
    "n=1\n",
    "while test $n -le 5\n",
    "do\n",
    "    echo file${n}.txt\n",
    "    n=$((n+1))\n",
    "done"
   ]
  },
  {
   "cell_type": "code",
   "execution_count": 43,
   "metadata": {
    "scrolled": true
   },
   "outputs": [
    {
     "name": "stdout",
     "output_type": "stream",
     "text": [
      "file1.txt\n",
      "file2.txt\n",
      "file3.txt\n",
      "file4.txt\n",
      "file5.txt\n"
     ]
    }
   ],
   "source": [
    "%%bash\n",
    "n=1\n",
    "while (($n <= 5))\n",
    "do\n",
    "    echo file${n}.txt\n",
    "    n=$((n+1))\n",
    "done"
   ]
  },
  {
   "cell_type": "markdown",
   "metadata": {},
   "source": [
    "Ciclos condicionales con until\n",
    "--"
   ]
  },
  {
   "cell_type": "markdown",
   "metadata": {},
   "source": [
    "Otra forma alternativa es usar un ciclo `until`."
   ]
  },
  {
   "cell_type": "code",
   "execution_count": 44,
   "metadata": {
    "scrolled": true
   },
   "outputs": [
    {
     "name": "stdout",
     "output_type": "stream",
     "text": [
      "file1.txt\n",
      "file2.txt\n",
      "file3.txt\n",
      "file4.txt\n",
      "file5.txt\n"
     ]
    }
   ],
   "source": [
    "%%bash\n",
    "n=1\n",
    "until (($n > 5))\n",
    "do\n",
    "    echo file${n}.txt\n",
    "    n=$((n+1))\n",
    "done"
   ]
  },
  {
   "cell_type": "markdown",
   "metadata": {},
   "source": [
    "En el último ejemplo de esta sección, se codifica una función que recibe una lista de enteros e imprime el menor de ellos."
   ]
  },
  {
   "cell_type": "code",
   "execution_count": 45,
   "metadata": {},
   "outputs": [
    {
     "name": "stdout",
     "output_type": "stream",
     "text": [
      "1\n"
     ]
    }
   ],
   "source": [
    "%%bash\n",
    "minimum(){\n",
    "    n=$1\n",
    "    for x in $*\n",
    "    do\n",
    "        if test $x -lt $n \n",
    "        then\n",
    "            n=$x\n",
    "        fi\n",
    "    done\n",
    "    echo $n\n",
    "}\n",
    "minimum 6 1 7 5 1 2  5"
   ]
  },
  {
   "cell_type": "markdown",
   "metadata": {},
   "source": [
    "Implementación de herramientas escritas en otros lenguajes   \n",
    "--"
   ]
  },
  {
   "cell_type": "markdown",
   "metadata": {},
   "source": [
    "Una de las características primordiales del sistema operativo Unix es que los comandos como cat y ls, realmente son programas (almacenados en archivos) que existen en el disco duro del computador y el interprete de comandos los ejecuta en respuesta a las acciones del usuario. Cada uno de estos programas puede estar escrito en un lenguaje de programación y el interprete permite que se ejecuten de una forma transparente. Consecuentemente, la utilidad de la línea de comandos radica en la posibilidad de crear nuevas herramientas con el lenguaje de programación que sea más ventajoso para cada tarea particular, y combinarlas con las herramientas existentes.  "
   ]
  },
  {
   "cell_type": "markdown",
   "metadata": {},
   "source": [
    "Herramientas en Python\n",
    "--"
   ]
  },
  {
   "cell_type": "markdown",
   "metadata": {},
   "source": [
    "Como primer ejemplo, se escribirá una herramienta `seq.py` en el lenguaje Python, la cual  recibe como parámetro un entero `n` e imprima la secuencia de `1` hasta `n`. Si se desea una herramientas que funcione de forma similar a los comandos del sistema operativo se obviaría la extensión del archivo. "
   ]
  },
  {
   "cell_type": "markdown",
   "metadata": {},
   "source": [
    "El primer paso es ubicar el directorio de instalación de Python usando el comando `which`."
   ]
  },
  {
   "cell_type": "code",
   "execution_count": 46,
   "metadata": {
    "scrolled": true
   },
   "outputs": [
    {
     "name": "stdout",
     "output_type": "stream",
     "text": [
      "/usr/bin/python3\n"
     ]
    }
   ],
   "source": [
    "!which -a python3"
   ]
  },
  {
   "cell_type": "markdown",
   "metadata": {},
   "source": [
    "El resultado anterior indica que hay una instalación de Python en la VM en el directorio `/usr/bin/python`. Para determinar que versión de Python se encuentra instalada se llama el interprete con la opción `--version`. "
   ]
  },
  {
   "cell_type": "code",
   "execution_count": 47,
   "metadata": {},
   "outputs": [
    {
     "name": "stdout",
     "output_type": "stream",
     "text": [
      "Python 3.6.9\n"
     ]
    }
   ],
   "source": [
    "!/usr/bin/python3 --version"
   ]
  },
  {
   "cell_type": "markdown",
   "metadata": {},
   "source": [
    "Esto indica que está instalada la versión 2.7.15rc1. Sin embargo, en Ubuntu, el interprete de Python 3 es `python3`: "
   ]
  },
  {
   "cell_type": "code",
   "execution_count": 48,
   "metadata": {},
   "outputs": [
    {
     "name": "stdout",
     "output_type": "stream",
     "text": [
      "/usr/bin/python3\n"
     ]
    }
   ],
   "source": [
    "!which -a python3"
   ]
  },
  {
   "cell_type": "code",
   "execution_count": 49,
   "metadata": {},
   "outputs": [
    {
     "name": "stdout",
     "output_type": "stream",
     "text": [
      "Python 3.6.9\n"
     ]
    }
   ],
   "source": [
    "!python3 --version"
   ]
  },
  {
   "cell_type": "markdown",
   "metadata": {},
   "source": [
    "En la siguiente porción de código se escribe la herramienta `seq.py`."
   ]
  },
  {
   "cell_type": "code",
   "execution_count": 50,
   "metadata": {
    "scrolled": true
   },
   "outputs": [],
   "source": [
    "%%bash\n",
    "cat > seq.py <<EOF\n",
    "import sys\n",
    "x = int(sys.argv[1])\n",
    "for i in range(x):\n",
    "    print (i+1) \n",
    "EOF"
   ]
  },
  {
   "cell_type": "markdown",
   "metadata": {},
   "source": [
    "La sentencia `import sys` indica que se debe cargar la librería con las funciones del sistema. La variable `sys.argv`  es una lista que contiene los argumentos de la llamada; `sys.argv[0]` es el nombre del programa (`seq.py`) y `sys.argv[1]` es el entero `n`."
   ]
  },
  {
   "cell_type": "markdown",
   "metadata": {},
   "source": [
    "Para ejecutarla es invoca el interprete de Python ubicado en el directorio `/usr/bin/python`."
   ]
  },
  {
   "cell_type": "code",
   "execution_count": 51,
   "metadata": {
    "scrolled": true
   },
   "outputs": [
    {
     "name": "stdout",
     "output_type": "stream",
     "text": [
      "1\n",
      "2\n",
      "3\n",
      "4\n",
      "5\n"
     ]
    }
   ],
   "source": [
    "!/usr/bin/python3 seq.py 5"
   ]
  },
  {
   "cell_type": "markdown",
   "metadata": {},
   "source": [
    "Para comvertir el programa anterior en una herramienta del sistema operativo, se adiciona el shebang (`#!`) y se cambian las propiedades del archivo para hacerlo ejecutable usando `chmod`. "
   ]
  },
  {
   "cell_type": "code",
   "execution_count": 52,
   "metadata": {},
   "outputs": [],
   "source": [
    "%%bash\n",
    "cat > seq.py <<EOF\n",
    "#! /usr/bin/python3\n",
    "import sys\n",
    "x = int(sys.argv[1])\n",
    "for i in range(x):\n",
    "    print (i+1)\n",
    "    \n",
    "EOF"
   ]
  },
  {
   "cell_type": "code",
   "execution_count": 53,
   "metadata": {
    "scrolled": true
   },
   "outputs": [],
   "source": [
    "!chmod +x seq.py"
   ]
  },
  {
   "cell_type": "markdown",
   "metadata": {},
   "source": [
    "Para ejecutar el programa ya no es necesario invocar el interprete de Python."
   ]
  },
  {
   "cell_type": "code",
   "execution_count": 54,
   "metadata": {
    "scrolled": true
   },
   "outputs": [
    {
     "name": "stdout",
     "output_type": "stream",
     "text": [
      "1\n",
      "2\n",
      "3\n",
      "4\n"
     ]
    }
   ],
   "source": [
    "!./seq.py 4"
   ]
  },
  {
   "cell_type": "markdown",
   "metadata": {},
   "source": [
    "Herramientas en R (deprecated)\n",
    "--"
   ]
  },
  {
   "cell_type": "markdown",
   "metadata": {},
   "source": [
    "También es posible escribir herramientas en R. En este ejemplo se escribirá una herramienta que genere una secuencia de números aleatorios. En primer lugar (al igual que en el caso anterior), se obtiene la ubicación del interprete del lenguaje R para la consola de comandos."
   ]
  },
  {
   "cell_type": "code",
   "execution_count": 55,
   "metadata": {
    "scrolled": true
   },
   "outputs": [],
   "source": [
    "!which -a Rscript"
   ]
  },
  {
   "cell_type": "markdown",
   "metadata": {},
   "source": [
    "Seguidamente, se escribe el código en R en el archivo `unif.R` y se cambian las propiedades del archivo para hacerlo ejecutable usando `chmod`."
   ]
  },
  {
   "cell_type": "code",
   "execution_count": 56,
   "metadata": {},
   "outputs": [],
   "source": [
    "%%sh\n",
    "cat > unif.R <<-FILE\n",
    "#! /usr/bin/env Rscript\n",
    "args <- commandArgs(trailingOnly=TRUE)  \n",
    "cat(runif(as.numeric(args)), sep='\\n')  \n",
    "FILE"
   ]
  },
  {
   "cell_type": "code",
   "execution_count": 57,
   "metadata": {
    "scrolled": true
   },
   "outputs": [],
   "source": [
    "!chmod +x unif.R"
   ]
  },
  {
   "cell_type": "markdown",
   "metadata": {},
   "source": [
    "En este caso, y de forma similar al programa escrito en Python, args es una variable que almacena los argumentos con que se llama el programa `unif.R`. "
   ]
  },
  {
   "cell_type": "markdown",
   "metadata": {},
   "source": [
    "En este punto ya es posible usar la herramienta para generar secuencias de números aleatorios uniformemente distribuidos."
   ]
  },
  {
   "cell_type": "code",
   "execution_count": 58,
   "metadata": {
    "scrolled": true
   },
   "outputs": [
    {
     "name": "stdout",
     "output_type": "stream",
     "text": [
      "/usr/bin/env: 'Rscript': No such file or directory\n"
     ]
    }
   ],
   "source": [
    "!./unif.R 5"
   ]
  },
  {
   "cell_type": "markdown",
   "metadata": {},
   "source": [
    "La potencia de la línea de comandos radica en que el Bash actua como un pegante que permite usar las herramientas escritas en distintos lenguajes. Como siguiente ejemplo, se desea escribir una función en `bash` llamada `randunif` que genere `n` archivos llamados `out.*` los cuales contienen `m` números aleatorios uniformes. Por ejemplo, la llamada `randunif 2 4` genera 2 archivos con 4 números aletorios cada uno. La función `randunif` es codificada en `bash`:"
   ]
  },
  {
   "cell_type": "code",
   "execution_count": 59,
   "metadata": {
    "scrolled": true
   },
   "outputs": [],
   "source": [
    "%%bash\n",
    "randunif(){\n",
    "    for n in $(seq $1)\n",
    "    do\n",
    "        echo $(./unif.R $2) > aux.${n}\n",
    "        tr ' '  '\\n' < aux.${n} > out.${n}\n",
    "        rm aux.${n}  \n",
    "    done\n",
    "}"
   ]
  },
  {
   "cell_type": "markdown",
   "metadata": {},
   "source": [
    "A continuación se generan los archivos `out.1`, `out.2` y `out.3` con 5 números aleatorios cada uno:"
   ]
  },
  {
   "cell_type": "code",
   "execution_count": 60,
   "metadata": {
    "scrolled": true
   },
   "outputs": [
    {
     "name": "stdout",
     "output_type": "stream",
     "text": [
      "/bin/sh: 1: randunif: not found\n"
     ]
    }
   ],
   "source": [
    "!randunif 3 5"
   ]
  },
  {
   "cell_type": "code",
   "execution_count": 61,
   "metadata": {
    "scrolled": true
   },
   "outputs": [
    {
     "name": "stdout",
     "output_type": "stream",
     "text": [
      "linea 1\n",
      "linea 2\n",
      "linea 3\n",
      "linea 4\n",
      "linea 5\n"
     ]
    }
   ],
   "source": [
    "!cat out.1"
   ]
  },
  {
   "cell_type": "code",
   "execution_count": 62,
   "metadata": {
    "scrolled": true
   },
   "outputs": [
    {
     "name": "stdout",
     "output_type": "stream",
     "text": [
      "linea 1\n",
      "linea 2\n",
      "linea 3\n",
      "linea 4\n",
      "linea 5\n"
     ]
    }
   ],
   "source": [
    "!cat out.2"
   ]
  },
  {
   "cell_type": "code",
   "execution_count": 63,
   "metadata": {
    "scrolled": true
   },
   "outputs": [
    {
     "name": "stdout",
     "output_type": "stream",
     "text": [
      "linea 1\n",
      "linea 2\n",
      "linea 3\n",
      "linea 4\n",
      "linea 5\n"
     ]
    }
   ],
   "source": [
    "!cat out.3"
   ]
  },
  {
   "cell_type": "markdown",
   "metadata": {},
   "source": [
    "**Limpieza del directorio de trabajo.**"
   ]
  },
  {
   "cell_type": "code",
   "execution_count": 64,
   "metadata": {
    "scrolled": true
   },
   "outputs": [],
   "source": [
    "%%sh\n",
    "rm *.sh\n",
    "rm out*\n",
    "rm *.py\n",
    "rm *.R\n",
    "rm demo*"
   ]
  }
 ],
 "metadata": {
  "kernel_info": {
   "name": "bash"
  },
  "kernelspec": {
   "display_name": "Python 3 (ipykernel)",
   "language": "python",
   "name": "python3"
  },
  "language_info": {
   "codemirror_mode": {
    "name": "ipython",
    "version": 3
   },
   "file_extension": ".py",
   "mimetype": "text/x-python",
   "name": "python",
   "nbconvert_exporter": "python",
   "pygments_lexer": "ipython3",
   "version": "3.8.10"
  },
  "nbpresent": {
   "slides": {
    "940b5fc9-9cdd-41d7-8372-719403fc2bd2": {
     "id": "940b5fc9-9cdd-41d7-8372-719403fc2bd2",
     "prev": null,
     "regions": {
      "395f31a1-eb6e-4371-acb3-490ee879b8b8": {
       "attrs": {
        "height": 0.2,
        "width": 0.4,
        "x": 0.5,
        "y": 0.7
       },
       "id": "395f31a1-eb6e-4371-acb3-490ee879b8b8"
      },
      "92e1a1f9-4ebc-41a2-bfe8-899c8e794d14": {
       "attrs": {
        "height": 0.8,
        "width": 0.8,
        "x": 0.1,
        "y": 0.1
       },
       "id": "92e1a1f9-4ebc-41a2-bfe8-899c8e794d14"
      },
      "ad53a586-a210-4ed7-adb4-961b08e598b8": {
       "attrs": {
        "height": 0.2,
        "width": 0.4,
        "x": 0.1,
        "y": 0.7
       },
       "id": "ad53a586-a210-4ed7-adb4-961b08e598b8"
      },
      "bd4aba0d-fa0b-42e7-81a3-0beac29f2241": {
       "attrs": {
        "height": 0.8,
        "width": 0.8,
        "x": 0.1,
        "y": 0.1
       },
       "id": "bd4aba0d-fa0b-42e7-81a3-0beac29f2241"
      },
      "cefb04b2-32f0-4965-923e-1a6b36c37fd8": {
       "attrs": {
        "height": 0.6,
        "width": 0.8,
        "x": 0.1,
        "y": 0.1
       },
       "content": {
        "cell": "a4b09f9a-453a-4787-83c4-61a43f75d860",
        "part": "source"
       },
       "id": "cefb04b2-32f0-4965-923e-1a6b36c37fd8"
      }
     }
    }
   }
  },
  "nteract": {
   "version": "0.12.3"
  }
 },
 "nbformat": 4,
 "nbformat_minor": 4
}
