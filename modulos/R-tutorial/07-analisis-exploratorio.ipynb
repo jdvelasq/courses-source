{
 "cells": [
  {
   "cell_type": "markdown",
   "metadata": {},
   "source": [
    "Análisis Exploratorio de Datos\n",
    "===\n",
    "\n",
    "* *30 min* | Última modificación: Junio 22, 2019"
   ]
  },
  {
   "cell_type": "markdown",
   "metadata": {},
   "source": [
    "**Preparación de los datos**."
   ]
  },
  {
   "cell_type": "code",
   "execution_count": 1,
   "metadata": {},
   "outputs": [],
   "source": [
    "df <- read.csv('files/indicadores-mundiales.csv', stringsAsFactors=FALSE)\n",
    "df$Ano <- strtoi(substring(df$Ano,1, 4))"
   ]
  },
  {
   "cell_type": "code",
   "execution_count": 2,
   "metadata": {
    "scrolled": false
   },
   "outputs": [
    {
     "name": "stdout",
     "output_type": "stream",
     "text": [
      "'data.frame':\t1000 obs. of  26 variables:\n",
      " $ Ano                          : int  2000 2000 2000 2000 2000 2000 2000 2000 2000 2000 ...\n",
      " $ Dias.para.iniciar.un.negocio : int  NA NA NA NA NA NA NA NA NA NA ...\n",
      " $ Emisiones.de.CO2             : int  87931 9542 1617 4276 1041 301 3432 176 84 1646 ...\n",
      " $ Esperanza.de.vida..mujeres.  : int  71 47 57 52 52 49 53 48 59 48 ...\n",
      " $ Esperanza.de.vida..varones.  : int  67 44 53 49 49 47 51 46 56 45 ...\n",
      " $ Facilidad.para.hacer.negocios: logi  NA NA NA NA NA NA ...\n",
      " $ Gasto.en.salud...del.PIB.    : num  3.5 3.4 4.3 4.7 5.1 6.3 4.4 6.3 3.5 4.8 ...\n",
      " $ Gasto.en.salud..per.capita.  : int  60 22 15 152 12 7 26 10 13 14 ...\n",
      " $ Horas.preparar.los.impuestos : logi  NA NA NA NA NA NA ...\n",
      " $ Interes.de.prestamos         : num  10 103.2 NA 15.5 NA ...\n",
      " $ PIB                          : num  5.48e+10 9.13e+09 2.36e+09 5.79e+09 2.61e+09 ...\n",
      " $ Pais                         : chr  \"Algeria\" \"Angola\" \"Benin\" \"Botsuana\" ...\n",
      " $ Poblacion.0.14               : num  34.2 47.6 45.4 38.3 46.8 49 45.3 49 41.5 46.4 ...\n",
      " $ Poblacion.15.64              : num  61.9 49.9 51.7 58.7 50.5 48.1 51.3 48.2 55.4 50.7 ...\n",
      " $ Poblacion.65.                : num  3.9 2.5 2.9 2.9 2.8 2.9 3.4 2.8 3.1 2.8 ...\n",
      " $ Poblacion.total              : int  31719449 13924930 6949366 1755375 11607944 6674286 15927713 8301151 528312 46949244 ...\n",
      " $ Poblacion.urbana             : num  59.9 32.4 38.3 53.2 17.8 8.2 45.5 21.6 28.1 35.1 ...\n",
      " $ Region                       : chr  \"africa\" \"africa\" \"africa\" \"africa\" ...\n",
      " $ Tasa.de.mortalidad.infantil  : num  3.4 12.8 9 5.4 9.6 9.2 9.3 10.6 7.3 11.5 ...\n",
      " $ Tasa.de.natalidad            : num  2 5 4.3 2.7 4.6 4.2 4.1 5.1 3.9 4.8 ...\n",
      " $ Tasa.tributaria.empresarial  : logi  NA NA NA NA NA NA ...\n",
      " $ Turismo.emisor               : num  1.93e+08 1.46e+08 5.00e+07 2.09e+08 3.00e+07 1.40e+07 2.41e+08 5.60e+07 NA NA ...\n",
      " $ Turismo.receptivo            : num  1.02e+08 3.40e+07 7.70e+07 2.27e+08 2.30e+07 1.40e+06 1.32e+08 1.40e+07 1.50e+07 NA ...\n",
      " $ Uso.de.Internet              : num  0 0 0 0 0 0 0 0 0 0 ...\n",
      " $ Uso.de.energia               : int  26998 7499 1983 1836 NA NA 6310 NA NA 16679 ...\n",
      " $ Uso.de.telefonos.celulares   : num  0 0 0 0.1 0 0 0 0 NA 0 ...\n"
     ]
    }
   ],
   "source": [
    "str(df)"
   ]
  },
  {
   "cell_type": "markdown",
   "metadata": {},
   "source": [
    "---"
   ]
  },
  {
   "cell_type": "markdown",
   "metadata": {},
   "source": [
    "El análisis exploratorio se usa para describir propiedades de los datos:\n",
    "\n",
    "* Localización de los datos.\n",
    "* Dispersión de los datos.\n",
    "* Distribución de los datos.\n",
    "* Relaciones entre los datos.\n",
    "\n",
    "Pero en términos de la analítica y la inteligencia de negocios, también se usa para responder preguntas sobre los datos, cuyas respuestas dan insights."
   ]
  },
  {
   "cell_type": "markdown",
   "metadata": {},
   "source": [
    "Realice los siguientes ejercicios:"
   ]
  },
  {
   "cell_type": "markdown",
   "metadata": {},
   "source": [
    "**Ejercicio.--** Construya una tabla de las emisiones de CO2 por continente."
   ]
  },
  {
   "cell_type": "markdown",
   "metadata": {},
   "source": [
    "**Ejercicio.--** Cuántos registros hay con datos faltantes?"
   ]
  },
  {
   "cell_type": "markdown",
   "metadata": {},
   "source": [
    "**Ejercicio.--** Cuáles son los países con menores gastos de salud por región?."
   ]
  },
  {
   "cell_type": "markdown",
   "metadata": {},
   "source": [
    "**Ejercicio.--** Cuál es el país con menor esperanza de vida para las mujeres?"
   ]
  },
  {
   "cell_type": "markdown",
   "metadata": {},
   "source": [
    "**Ejercicio.--** Cuáles son los 10 países con la menor cantidad de población entre 0 y 14 y a cuál región pertenecen?"
   ]
  },
  {
   "cell_type": "markdown",
   "metadata": {},
   "source": [
    "**Ejercicio.--** Haga un diagrama de barras de las emisiones de CO2 por continente (en los siguientes tutoriales son sobre graficación)."
   ]
  },
  {
   "cell_type": "markdown",
   "metadata": {},
   "source": [
    "**Ejercicio.--** Haga un boxplot de las emisiones de CO2 por continente (los siguientes tutoriales son sobre graficación)."
   ]
  }
 ],
 "metadata": {
  "kernelspec": {
   "display_name": "R",
   "language": "R",
   "name": "ir"
  },
  "language_info": {
   "codemirror_mode": "r",
   "file_extension": ".r",
   "mimetype": "text/x-r-source",
   "name": "R",
   "pygments_lexer": "r",
   "version": "3.4.4"
  }
 },
 "nbformat": 4,
 "nbformat_minor": 2
}
