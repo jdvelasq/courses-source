{
 "cells": [
  {
   "cell_type": "markdown",
   "metadata": {},
   "source": [
    "Manejo de Datos Complejos y Tablas Particionadas\n",
    "===\n",
    "\n",
    "* Última modificación: Mayo 17, 2022 | YouTube"
   ]
  },
  {
   "cell_type": "markdown",
   "metadata": {},
   "source": [
    "A diferencia de los gestores tradicionales de bases de datos, Hive permite la creación de datos complejos que pueden ser almacenados en los campos de las tablas. Debido a que las tablas pueden ser muy grandes, Hive también permite hacer la partición de las tablas en archivos separados a partir uno o más campos claves optimizando las consultas, ya que las búsquedas se pueden realizar sobre particiones específicas de una tabla.\n",
    "\n",
    "En este tutorial se ejemplifica:\n",
    "\n",
    "* La creación de un archivo de texto con datos complejos para ser cargado y consultado en Hive.\n",
    "\n",
    "* La creación de tablas con datos complejos.\n",
    "\n",
    "* La construcción de consultas sobre campos complejos.\n",
    "\n",
    "* La creación de tablas particionadas y la inserción de registros en ellas."
   ]
  },
  {
   "cell_type": "markdown",
   "metadata": {},
   "source": [
    "Cell magic `%%hive`\n",
    "---"
   ]
  },
  {
   "cell_type": "code",
   "execution_count": 1,
   "metadata": {},
   "outputs": [],
   "source": [
    "from IPython.core.magic import Magics, cell_magic, line_magic, magics_class\n",
    "from pexpect import spawn\n",
    "\n",
    "TIMEOUT = 60\n",
    "PROG = \"hive\"\n",
    "PROMPT = [\"\\r\\n    > \", \"\\r\\nhive> \"]\n",
    "QUIT = \"quit;\"\n",
    "\n",
    "\n",
    "@magics_class\n",
    "class Magic(Magics):\n",
    "    def __init__(self, shell):\n",
    "        super().__init__(shell)\n",
    "        self.app = spawn(PROG, timeout=60)\n",
    "        self.app.expect(PROMPT)\n",
    "\n",
    "    @cell_magic\n",
    "    def hive(self, line, cell):\n",
    "        cell_lines = [cell_line.strip() for cell_line in cell.split(\"\\n\")]\n",
    "        cell_lines = [cell_line for cell_line in cell_lines if cell_line != \"\"]\n",
    "        for cell_line in cell_lines:\n",
    "            self.app.sendline(cell_line)\n",
    "            self.app.expect(PROMPT, timeout=TIMEOUT)\n",
    "            output = self.app.before.decode()\n",
    "            output = output.replace(\"\\r\\n\", \"\\n\")\n",
    "            output = output.split(\"\\n\")\n",
    "            output = [output_line.strip() for output_line in output]\n",
    "            for output_line in output:\n",
    "                if output_line not in cell_lines:\n",
    "                    print(output_line)\n",
    "        return None\n",
    "\n",
    "    @line_magic\n",
    "    def quit(self, line):\n",
    "        self.app.sendline(QUIT)\n",
    "\n",
    "\n",
    "def load_ipython_extension(ip):\n",
    "    ip.register_magics(Magic(ip))\n",
    "\n",
    "\n",
    "load_ipython_extension(ip=get_ipython())"
   ]
  },
  {
   "cell_type": "markdown",
   "metadata": {},
   "source": [
    "## Información utilizada"
   ]
  },
  {
   "cell_type": "markdown",
   "metadata": {},
   "source": [
    "La información utilizada corresponde al ranking de popularidad de lenguajes de programación publicado por IEEE en sus sitios web:\n",
    "\n",
    "* https://spectrum.ieee.org/at-work/innovation/the-2018-top-programming-languages\n",
    "\n",
    "* http://sites.ieee.org/houston/article-2017-top-programming-languages/\n",
    "\n",
    "* https://spectrum.ieee.org/static/interactive-the-top-programming-languages-2016\n",
    "\n",
    "* https://spectrum.ieee.org/static/interactive-the-top-programming-languages-2015/\n",
    "\n",
    "* https://spectrum.ieee.org/static/interactive-the-top-programming-languages\n",
    "\n",
    "El archivo presentado a continuación fue construído manualmente para propósitos ilustrativos. Las columnas son:\n",
    "\n",
    "* El nombre del lenguaje de programación.\n",
    "\n",
    "* La puntuación obtenida para cada año entre 2014 y 2018.\n",
    "\n",
    "* Las categorías en que aparece el lenguaje (Web, Mobile, Enterprise, Embedded).\n",
    "\n",
    "El formato es explicado más adelante."
   ]
  },
  {
   "cell_type": "code",
   "execution_count": 2,
   "metadata": {},
   "outputs": [
    {
     "name": "stdout",
     "output_type": "stream",
     "text": [
      "--2022-05-17 16:17:05--  https://raw.githubusercontent.com/jdvelasq/datalabs/master/datasets/language-score.tsv\n",
      "Resolving raw.githubusercontent.com (raw.githubusercontent.com)... 185.199.110.133, 185.199.111.133, 185.199.108.133, ...\n",
      "Connecting to raw.githubusercontent.com (raw.githubusercontent.com)|185.199.110.133|:443... connected.\n",
      "HTTP request sent, awaiting response... 200 OK\n",
      "Length: 3490 (3.4K) [text/plain]\n",
      "Saving to: ‘language-score.tsv’\n",
      "\n",
      "language-score.tsv  100%[===================>]   3.41K  --.-KB/s    in 0.002s  \n",
      "\n",
      "2022-05-17 16:17:05 (1.86 MB/s) - ‘language-score.tsv’ saved [3490/3490]\n",
      "\n"
     ]
    }
   ],
   "source": [
    "!wget https://raw.githubusercontent.com/jdvelasq/datalabs/master/datasets/language-score.tsv"
   ]
  },
  {
   "cell_type": "code",
   "execution_count": 3,
   "metadata": {},
   "outputs": [
    {
     "name": "stdout",
     "output_type": "stream",
     "text": [
      "ABAP\t2018#22.8,2017#28.9,2016#15.9,2015#24.6,2014#20.8\tEnterprise\n",
      "Actionscript\t2018#0.6,2017#0.0,2016#3.3,2015#6.8,2014#22.0\tWeb,Mobile\n",
      "Ada\t2018#20.9,2017#29.9,2016#20.5,2015#32.8,2014#30.1\tEnterprise,Embedded\n",
      "Arduino\t2018#69.0,2017#74.4,2016#69.5,2015#63.0,2014#62.9\tEmbedded\n",
      "Assembly\t2018#74.1,2017#73.4,2016#68.0,2015#67.9,2014#66.9\tEmbedded\n",
      "C\t2018#96.7,2017#99.7,2016#100.0,2015#99.9,2014#99.2\tMobile,Enterprise,Embedded\n",
      "C#\t2018#89.4,2017#88.8,2016#86.4,2015#91.8,2014#92.2\tWeb,Mobile,Enterprise\n",
      "C++\t2018#99.7,2017#97.4,2016#95.8,2015#99.6,2014#95.5\tMobile, Enterprise, Embedded\n",
      "Clojure\t2018#25.6,2017#28.8,2016#22.0,2015#30.9,2014#36.0\tWeb,Enterprise\n",
      "Cobol\t2018#24.6,2017#29.2,2016#17.9,2015#19.0,2014#30.6\tEnterprise\n",
      "Cuda\t2018#43.0,2017#56.5,2016#52.3,2015#48.6,2014#\tEnterprise\n",
      "D\t2018#40.6,2017#41.5,2016#37.7,2015#44.6,2014#49.9\tWeb,Embedded\n",
      "Delphi\t2018#38.7,2017#,2016#41.7,2015#39.4,2014#40.2\tMobile,Enterprise\n",
      "Erlang\t2018#26.9,2017#31.5,2016#27.0,2015#30.6,2014#32.1\tEnterprise,Embedded\n",
      "Forth\t2018#0.0,2017#5.7,2016#0.0,2015#8.5,2014#2.3\tEmbedded\n",
      "Fortran\t2018#49.5,2017#43.2,2016#40.9,2015#39.7,2014#45.5\tEnterprise\n",
      "Go\t2018#76.4,2017#77.2,2016#71.5,2015#67.9,2014#59.8\tWeb,Enterprise\n",
      "Haskell\t2018#48.6,2017#50.8,2016#43.0,2015#39.2,2014#44.8\tEnterprise,Embedded\n",
      "HTML\t2018#71.2,2017#68.0,2016#66.7,2015#54.3,2014#64.1\tWeb\n",
      "J\t2018#18.1,2017#14.2,2016#10.4,2015#7.7,2014#13.6\tEnterprise\n",
      "Java\t2018#97.5,2017#99.4,2016#98.1,2015#100,2014#100\tWeb,Mobile,Enterprise\n",
      "JavaScript\t2018#82.6,2017#86.2,2016#81.9,2015#83.0,2014#84.9\tWeb,Mobile\n",
      "Julia\t2018#35.1,2017#40.6,2016#31.4,2015#17.4,2014#\tEnterprise\n",
      "LabView\t2018#32.7,2017#36.4,2016#32.6,2015#30.9\tEnterprise,Embedded\n",
      "Ladder Logic\t2018#11.5,2017#6.0,2016#26.2,2015#21.8,2014#20.2\tEmbedded\n",
      "Lisp\t2018#33.3,2017#33.9,2016#33.6,2015#40.4,2014#43.7\tEnterprise\n",
      "Lua\t2018#49.8,2017#54.9,2016#50.9,2015#45.9,2014#47.8\tWeb,Enterprise\n",
      "Matlab\t2018#72.8,2017#70.4,2016#68.7,2015#72.4,2014#73.1\tEnterprise\n",
      "Objective-C\t2018#50.5,2017#48.4,2016#52.4,2015#58.7,2014#63.7\tMobile,Enterprise\n",
      "Ocaml\t2018#14.4,2017#13.7,2016#3.2,2015#0.0,2014#18.5\tWeb,Enterprise\n",
      "Perl\t2018#57.4,2017#59.1,2016#57.5,2015#66.9,2014#69.6\tWeb,Enterprise\n",
      "PHP\t2018#84.9,2017#82.3,2016#82.4,2015#84.5,2014#84.6\tWeb\n",
      "Processing\t2018#53.1,2017#52.7,2016#50.3,2015#49.2,2014#52.0\tWeb,Enterprise\n",
      "Prolog\t2018#33.2,2017#36.5,2016#25.0,2015#23.2,2014#38.6\tEnterprise\n",
      "Python\t2018#100.0,2017#100,2016#97.9,2015#95.8,2014#93.4\tWeb,Enterprise,Embedded\n",
      "R\t2018#82.9,2017#88.8,2016#87.7,2015#84.7,2014#74.1\tEnterprise\n",
      "Ruby\t2018#71.4,2017#73.9,2016#74.0,2015#75.3,2014#79.3\tWeb,Enterprise\n",
      "Rust\t2018#41.8,2017#55.0,2016#42.2,2015#29.6,2014#\tWeb,Enterprise\n",
      "SAS\t2018#25.6,2017#30.7,2016#21.7,2015#43.7,2014#37.1\tEnterprise\n",
      "Scala\t2018#72.1,2017#70.0,2016#66.3,2015#62.4,2014#62.7\tWeb,Mobile\n",
      "Scheme\t2018#18.8,2017#24.5,2016#14.5,2015#14.8,2014#27.8\tMobile,Enterprise\n",
      "Shell\t2018#66.1,2017#68.6,2016#52.7,2015#71.4,2014#63.3\tEnterprise\n",
      "SQL\t2018#49.3,2017#52.8,2016#48.8,2015#70.9,2014#71.6\tEnterprise\n",
      "Swift\t2018#53.9,2017#76.5,2016#67.6,2015#62.4\tMobile,Enterprise\n",
      "TCL\t2018#21.9,2017#16.2,2016#8.7,2015#11.6,2014#23.1\tEnterprise,Embedded\n",
      "Verilog\t2018#41.2,2017#35.6,2016#25.1,2015#23.7,2014#33.8\tEmbedded\n",
      "VHDL\t2018#45.4,2017#39.9,2016#33.3,2015#35.4,2014#42.6\tEmbedded\n",
      "Visual Basic\t2018#45.1,2017#58.9,2016#55.7,2015#63.4,2014#66.0\tEnterprise\n",
      "ASP.NET\t2014#35.9\tWeb\n",
      "CoffeeScript\t2014#25.5\tWeb\n",
      "Apex Code\t2014#18.0\tEnterprise\n",
      "Eiffel\t2014#6.4\tEnterprise\n",
      "Scilab\t2014#1.0\tEnterprise\n",
      "NetLogo\t2014#0.0\tEnterprise\n"
     ]
    }
   ],
   "source": [
    "!cat language-score.tsv"
   ]
  },
  {
   "cell_type": "markdown",
   "metadata": {},
   "source": [
    "Preparación \n",
    "--"
   ]
  },
  {
   "cell_type": "code",
   "execution_count": 4,
   "metadata": {},
   "outputs": [],
   "source": [
    "#\n",
    "# Se mueve el archivo al HDFS\n",
    "#\n",
    "!hdfs dfs -copyFromLocal language-score.tsv /tmp/language-score.tsv"
   ]
  },
  {
   "cell_type": "markdown",
   "metadata": {},
   "source": [
    "Creación de la tabla `journals`\n",
    "--"
   ]
  },
  {
   "cell_type": "markdown",
   "metadata": {},
   "source": [
    "A continuación se crea la tabla para almacenar la información, con las siguientes características (revise el archivo  `languagescore.tsv`):\n",
    "\n",
    "* El campo `language` es un STRING que contiene el nombre del lenguaje de programación.\n",
    "\n",
    "* El campo `ranking` es un MAP que tiene como clave el año (tipo INT) y como valor asociado el puntaje (popularidad) de dicho año (tipo FLOAT).\n",
    "\n",
    "* El campo `categories` es un ARRAY conformado por una lista de STRINGS separados por comas que corresponden a las categorías a las que está asociado el lenguaje de programación.\n",
    "\n",
    "* Los campos están delimitados por tabulador (`\\t`).\n",
    "\n",
    "* Los registros (líneas) están terminados por `\\n`.\n",
    "\n",
    "* Los elementos (COLLECTION ITEMS) del ARRAY (campo `categories`) y del MAP (campo ranking) están separados entre si por `,`.\n",
    "\n",
    "* Para los campos tipo MAP, las claves y sus valores asociados están separados por `#`.\n",
    "\n",
    "* La tabla se almacenará en la carpeta `/tmp/hive-journals` del HDFS como un archivo de texto. "
   ]
  },
  {
   "cell_type": "code",
   "execution_count": 5,
   "metadata": {},
   "outputs": [
    {
     "name": "stdout",
     "output_type": "stream",
     "text": [
      "OK\n",
      "Time taken: 5.548 seconds\n",
      "OK\n",
      "Time taken: 0.409 seconds\n"
     ]
    }
   ],
   "source": [
    "%%hive\n",
    "DROP TABLE IF EXISTS languages;\n",
    "\n",
    "CREATE TABLE languages (\n",
    "    language   STRING,\n",
    "    ranking    MAP<INT,FLOAT>,\n",
    "    categories ARRAY<STRING>\n",
    ")\n",
    "ROW FORMAT DELIMITED \n",
    "FIELDS TERMINATED BY '\\t'\n",
    "COLLECTION ITEMS TERMINATED BY ','\n",
    "MAP KEYS TERMINATED BY '#'\n",
    "LINES TERMINATED BY '\\n'\n",
    "STORED AS TEXTFILE\n",
    "LOCATION '/tmp/hive-journals';"
   ]
  },
  {
   "cell_type": "markdown",
   "metadata": {},
   "source": [
    "Carga de datos\n",
    "--"
   ]
  },
  {
   "cell_type": "markdown",
   "metadata": {},
   "source": [
    "Se cargan los datos en la forma usual."
   ]
  },
  {
   "cell_type": "code",
   "execution_count": 6,
   "metadata": {},
   "outputs": [
    {
     "name": "stdout",
     "output_type": "stream",
     "text": [
      "Loading data to table default.languages\n",
      "OK\n",
      "Time taken: 0.781 seconds\n"
     ]
    }
   ],
   "source": [
    "%%hive\n",
    "LOAD DATA INPATH '/tmp/language-score.tsv' INTO TABLE languages;"
   ]
  },
  {
   "cell_type": "markdown",
   "metadata": {},
   "source": [
    "Se muestran los primeros 10 registros para verificar que la tabla fue cargada exitósamente. Note que los campos MAP (columna ranking), aparecen delimitados por `{` y `}`, donde las parejas clave-valor están separadas entre si por comas, y la separación entre la clave y el valor se hace mediante `:`.  Los ARRAY están delimitados por `[` y `]`.  "
   ]
  },
  {
   "cell_type": "code",
   "execution_count": 7,
   "metadata": {},
   "outputs": [
    {
     "name": "stdout",
     "output_type": "stream",
     "text": [
      "OK\n",
      "ABAP\t{2018:22.8,2017:28.9,2016:15.9,2015:24.6,2014:20.8}\t[\"Enterprise\"]\n",
      "Actionscript\t{2018:0.6,2017:0.0,2016:3.3,2015:6.8,2014:22.0}\t[\"Web\",\"Mobile\"]\n",
      "Ada\t{2018:20.9,2017:29.9,2016:20.5,2015:32.8,2014:30.1}\t[\"Enterprise\",\"Embedded\"]\n",
      "Arduino\t{2018:69.0,2017:74.4,2016:69.5,2015:63.0,2014:62.9}\t[\"Embedded\"]\n",
      "Assembly\t{2018:74.1,2017:73.4,2016:68.0,2015:67.9,2014:66.9}\t[\"Embedded\"]\n",
      "C\t{2018:96.7,2017:99.7,2016:100.0,2015:99.9,2014:99.2}\t[\"Mobile\",\"Enterprise\",\"Embedded\"]\n",
      "C#\t{2018:89.4,2017:88.8,2016:86.4,2015:91.8,2014:92.2}\t[\"Web\",\"Mobile\",\"Enterprise\"]\n",
      "C++\t{2018:99.7,2017:97.4,2016:95.8,2015:99.6,2014:95.5}\t[\"Mobile\",\" Enterprise\",\" Embedded\"]\n",
      "Clojure\t{2018:25.6,2017:28.8,2016:22.0,2015:30.9,2014:36.0}\t[\"Web\",\"Enterprise\"]\n",
      "Cobol\t{2018:24.6,2017:29.2,2016:17.9,2015:19.0,2014:30.6}\t[\"Enterprise\"]\n",
      "Time taken: 1.041 seconds, Fetched: 10 row(s)\n"
     ]
    }
   ],
   "source": [
    "%%hive\n",
    "SELECT * FROM languages LIMIT 10;"
   ]
  },
  {
   "cell_type": "markdown",
   "metadata": {},
   "source": [
    "Almacenamiento de la tabla en el HDFS\n",
    "--"
   ]
  },
  {
   "cell_type": "markdown",
   "metadata": {},
   "source": [
    "La tabla es almacenada en la carpeta `/tmp/hive-journals`, tal como se indicó en su creación."
   ]
  },
  {
   "cell_type": "code",
   "execution_count": 8,
   "metadata": {},
   "outputs": [
    {
     "name": "stdout",
     "output_type": "stream",
     "text": [
      "Found 1 items\n",
      "-rwxrwxrwx   1 root supergroup       3490 2022-05-17 16:17 /tmp/hive-journals/language-score.tsv\n"
     ]
    }
   ],
   "source": [
    "!hdfs dfs -ls /tmp/hive-journals/"
   ]
  },
  {
   "cell_type": "markdown",
   "metadata": {},
   "source": [
    "La tabla ahora es administrada por Hive y conserva el mismo formato que se indicó en su creación."
   ]
  },
  {
   "cell_type": "code",
   "execution_count": 9,
   "metadata": {},
   "outputs": [
    {
     "name": "stdout",
     "output_type": "stream",
     "text": [
      "8.8,2016#87.7,2015#84.7,2014#74.1\tEnterprise\n",
      "Ruby\t2018#71.4,2017#73.9,2016#74.0,2015#75.3,2014#79.3\tWeb,Enterprise\n",
      "Rust\t2018#41.8,2017#55.0,2016#42.2,2015#29.6,2014#\tWeb,Enterprise\n",
      "SAS\t2018#25.6,2017#30.7,2016#21.7,2015#43.7,2014#37.1\tEnterprise\n",
      "Scala\t2018#72.1,2017#70.0,2016#66.3,2015#62.4,2014#62.7\tWeb,Mobile\n",
      "Scheme\t2018#18.8,2017#24.5,2016#14.5,2015#14.8,2014#27.8\tMobile,Enterprise\n",
      "Shell\t2018#66.1,2017#68.6,2016#52.7,2015#71.4,2014#63.3\tEnterprise\n",
      "SQL\t2018#49.3,2017#52.8,2016#48.8,2015#70.9,2014#71.6\tEnterprise\n",
      "Swift\t2018#53.9,2017#76.5,2016#67.6,2015#62.4\tMobile,Enterprise\n",
      "TCL\t2018#21.9,2017#16.2,2016#8.7,2015#11.6,2014#23.1\tEnterprise,Embedded\n",
      "Verilog\t2018#41.2,2017#35.6,2016#25.1,2015#23.7,2014#33.8\tEmbedded\n",
      "VHDL\t2018#45.4,2017#39.9,2016#33.3,2015#35.4,2014#42.6\tEmbedded\n",
      "Visual Basic\t2018#45.1,2017#58.9,2016#55.7,2015#63.4,2014#66.0\tEnterprise\n",
      "ASP.NET\t2014#35.9\tWeb\n",
      "CoffeeScript\t2014#25.5\tWeb\n",
      "Apex Code\t2014#18.0\tEnterprise\n",
      "Eiffel\t2014#6.4\tEnterprise\n",
      "Scilab\t2014#1.0\tEnterprise\n",
      "NetLogo\t2014#0.0\tEnterprise\n"
     ]
    }
   ],
   "source": [
    "!hdfs dfs -tail /tmp/hive-journals/language-score.tsv"
   ]
  },
  {
   "cell_type": "markdown",
   "metadata": {},
   "source": [
    "Popularidad por año\n",
    "--"
   ]
  },
  {
   "cell_type": "markdown",
   "metadata": {},
   "source": [
    "En la siguiente consulta se obtienen los diez lenguajes de programación más populares para el año 2017. En Hive no es posible aplicar ORDER BY sobre un valor de un MAP, por lo que se crea una subconsulta que crea una tabla, llamada `table1`, en donde el ranking para el año 2017 se nombra como `ranking2017` con el fin de poder realizar el ordenamiento."
   ]
  },
  {
   "cell_type": "code",
   "execution_count": 10,
   "metadata": {},
   "outputs": [
    {
     "name": "stdout",
     "output_type": "stream",
     "text": [
      "WARNING: Hive-on-MR is deprecated in Hive 2 and may not be available in the future versions. Consider using a different execution engine (i.e. spark, tez) or using Hive 1.X releases.\n",
      "Query ID = root_20220517161720_b16a79a0-1833-4f5b-ae74-bfe877e39614\n",
      "Total jobs = 1\n",
      "Launching Job 1 out of 1\n",
      "Number of reduce tasks determined at compile time: 1\n",
      "In order to change the average load for a reducer (in bytes):\n",
      "set hive.exec.reducers.bytes.per.reducer=<number>\n",
      "In order to limit the maximum number of reducers:\n",
      "set hive.exec.reducers.max=<number>\n",
      "In order to set a constant number of reducers:\n",
      "set mapreduce.job.reduces=<number>\n",
      "Starting Job = job_1652793922537_0026, Tracking URL = http://4feb4ed7d52d:8088/proxy/application_1652793922537_0026/\n",
      "Kill Command = /opt/hadoop/bin/hadoop job  -kill job_1652793922537_0026\n",
      "Hadoop job information for Stage-1: number of mappers: 1; number of reducers: 1\n",
      "2022-05-17 16:17:26,022 Stage-1 map = 0%,  reduce = 0%\n",
      "2022-05-17 16:17:30,206 Stage-1 map = 100%,  reduce = 0%, Cumulative CPU 1.76 sec\n",
      "2022-05-17 16:17:35,354 Stage-1 map = 100%,  reduce = 100%, Cumulative CPU 3.19 sec\n",
      "MapReduce Total cumulative CPU time: 3 seconds 190 msec\n",
      "Ended Job = job_1652793922537_0026\n",
      "MapReduce Jobs Launched:\n",
      "Stage-Stage-1: Map: 1  Reduce: 1   Cumulative CPU: 3.19 sec   HDFS Read: 11897 HDFS Write: 305 SUCCESS\n",
      "Total MapReduce CPU Time Spent: 3 seconds 190 msec\n",
      "OK\n",
      "Python\t100.0\n",
      "C\t99.7\n",
      "Java\t99.4\n",
      "C++\t97.4\n",
      "R\t88.8\n",
      "C#\t88.8\n",
      "JavaScript\t86.2\n",
      "PHP\t82.3\n",
      "Go\t77.2\n",
      "Swift\t76.5\n",
      "Time taken: 15.816 seconds, Fetched: 10 row(s)\n"
     ]
    }
   ],
   "source": [
    "%%hive\n",
    "SELECT\n",
    "    language,\n",
    "    ranking2017\n",
    "FROM (\n",
    "    SELECT\n",
    "        language,\n",
    "        ranking[2017] AS ranking2017\n",
    "    FROM\n",
    "        languages\n",
    ") table1    \n",
    "ORDER BY\n",
    "    ranking2017 DESC\n",
    "LIMIT 10;"
   ]
  },
  {
   "cell_type": "markdown",
   "metadata": {},
   "source": [
    "Popularidad por Categoría y por Año\n",
    "--"
   ]
  },
  {
   "cell_type": "markdown",
   "metadata": {},
   "source": [
    "En la siguiente consulta se obtienen los lenguajes más populares para la categoría `Mobile` en el año 2017. En este caso, se usa la función `array_contains(categories, 'Mobile')` que retorna verdadero si `Mobile` aparece en `categories`. Las funciones disponibles pueden ser consultadas en https://cwiki.apache.org/confluence/display/Hive/LanguageManual+UDF#LanguageManualUDF-StringFunctions"
   ]
  },
  {
   "cell_type": "code",
   "execution_count": 11,
   "metadata": {},
   "outputs": [
    {
     "name": "stdout",
     "output_type": "stream",
     "text": [
      "OK\n",
      "Actionscript\t0.6\t0.0\t3.3\n",
      "C\t96.7\t99.7\t100.0\n",
      "C#\t89.4\t88.8\t86.4\n",
      "C++\t99.7\t97.4\t95.8\n",
      "Delphi\t38.7\tNULL\t41.7\n",
      "Java\t97.5\t99.4\t98.1\n",
      "JavaScript\t82.6\t86.2\t81.9\n",
      "Objective-C\t50.5\t48.4\t52.4\n",
      "Scala\t72.1\t70.0\t66.3\n",
      "Scheme\t18.8\t24.5\t14.5\n",
      "Time taken: 0.204 seconds, Fetched: 10 row(s)\n"
     ]
    }
   ],
   "source": [
    "%%hive\n",
    "SELECT\n",
    "    language,\n",
    "    ranking2018,\n",
    "    ranking2017,\n",
    "    ranking2016\n",
    "FROM (\n",
    "    SELECT\n",
    "        language,\n",
    "        ranking[2018] AS ranking2018,\n",
    "        ranking[2017] AS ranking2017,\n",
    "        ranking[2016] AS ranking2016\n",
    "    FROM\n",
    "        languages\n",
    "    WHERE\n",
    "        array_contains(categories, 'Mobile')\n",
    ") table1    \n",
    "LIMIT 10;"
   ]
  },
  {
   "cell_type": "markdown",
   "metadata": {},
   "source": [
    "Expansión de la tabla por categoría\n",
    "--"
   ]
  },
  {
   "cell_type": "markdown",
   "metadata": {},
   "source": [
    "Es posible generar un registro por cada valor de un campo complejo. En el siguiente ejemplo, se expande la tabla por cada valor del campo `categories`. El proceso de expansión es realizado mediante la instrucción `LATERAL VIEW` que genera un valor por cada categoría en el campo `categories`, el cual es combinado con el resto de los campos indicados de la instrucción `SELECT`. "
   ]
  },
  {
   "cell_type": "code",
   "execution_count": 12,
   "metadata": {},
   "outputs": [
    {
     "name": "stdout",
     "output_type": "stream",
     "text": [
      "OK\n",
      "ABAP\t22.8\tEnterprise\n",
      "Actionscript\t0.6\tWeb\n",
      "Actionscript\t0.6\tMobile\n",
      "Ada\t20.9\tEnterprise\n",
      "Ada\t20.9\tEmbedded\n",
      "Arduino\t69.0\tEmbedded\n",
      "Assembly\t74.1\tEmbedded\n",
      "C\t96.7\tMobile\n",
      "C\t96.7\tEnterprise\n",
      "C\t96.7\tEmbedded\n",
      "Time taken: 0.083 seconds, Fetched: 10 row(s)\n"
     ]
    }
   ],
   "source": [
    "%%hive\n",
    "SELECT\n",
    "    language,\n",
    "    ranking[2018],\n",
    "    c0\n",
    "FROM\n",
    "    languages\n",
    "LATERAL VIEW    \n",
    "    explode(categories) languages AS c0\n",
    "LIMIT 10;"
   ]
  },
  {
   "cell_type": "markdown",
   "metadata": {},
   "source": [
    "Expansión de la tabla por categoría y popularidad\n",
    "--"
   ]
  },
  {
   "cell_type": "markdown",
   "metadata": {},
   "source": [
    "En el siguiente código, se genera la tabla `detail` que contiene las columnas:\n",
    "\n",
    "* Lenguaje\n",
    "* Año\n",
    "* Puntaje\n",
    "* Categoría\n",
    "\n",
    "La tabla es llenada mediante la expansión de las columnas `ranking` y `categories`. Note que en este código, primero, se realiza una subconsulta para expandir por el campo `categories` y luego en la consulta principal se expande por el campo `ranking`; "
   ]
  },
  {
   "cell_type": "code",
   "execution_count": 13,
   "metadata": {},
   "outputs": [
    {
     "name": "stdout",
     "output_type": "stream",
     "text": [
      "OK\n",
      "Time taken: 0.025 seconds\n",
      "WARNING: Hive-on-MR is deprecated in Hive 2 and may not be available in the future versions. Consider using a different execution engine (i.e. spark, tez) or using Hive 1.X releases.\n",
      "Query ID = root_20220517161739_b236835c-1691-41bf-bb57-a19ddc622dd8\n",
      "Total jobs = 3\n",
      "Launching Job 1 out of 3\n",
      "Number of reduce tasks is set to 0 since there's no reduce operator\n",
      "Starting Job = job_1652793922537_0027, Tracking URL = http://4feb4ed7d52d:8088/proxy/application_1652793922537_0027/\n",
      "Kill Command = /opt/hadoop/bin/hadoop job  -kill job_1652793922537_0027\n",
      "Hadoop job information for Stage-1: number of mappers: 1; number of reducers: 0\n",
      "2022-05-17 16:17:45,253 Stage-1 map = 0%,  reduce = 0%\n",
      "2022-05-17 16:17:49,549 Stage-1 map = 100%,  reduce = 0%, Cumulative CPU 1.53 sec\n",
      "MapReduce Total cumulative CPU time: 1 seconds 530 msec\n",
      "Ended Job = job_1652793922537_0027\n",
      "Stage-4 is selected by condition resolver.\n",
      "Stage-3 is filtered out by condition resolver.\n",
      "Stage-5 is filtered out by condition resolver.\n",
      "Moving data to directory hdfs://0.0.0.0:9000/user/hive/warehouse/.hive-staging_hive_2022-05-17_16-17-39_393_5248961109886827483-1/-ext-10001\n",
      "Moving data to directory hdfs://0.0.0.0:9000/user/hive/warehouse/detail\n",
      "MapReduce Jobs Launched:\n",
      "Stage-Stage-1: Map: 1   Cumulative CPU: 1.53 sec   HDFS Read: 9857 HDFS Write: 9876 SUCCESS\n",
      "Total MapReduce CPU Time Spent: 1 seconds 530 msec\n",
      "OK\n",
      "Time taken: 11.42 seconds\n",
      "OK\n",
      "ABAP\t2018\t22.8\tEnterprise\n",
      "ABAP\t2017\t28.9\tEnterprise\n",
      "ABAP\t2016\t15.9\tEnterprise\n",
      "ABAP\t2015\t24.6\tEnterprise\n",
      "ABAP\t2014\t20.8\tEnterprise\n",
      "Actionscript\t2018\t0.6\tWeb\n",
      "Actionscript\t2017\t0.0\tWeb\n",
      "Actionscript\t2016\t3.3\tWeb\n",
      "Actionscript\t2015\t6.8\tWeb\n",
      "Actionscript\t2014\t22.0\tWeb\n",
      "Time taken: 0.101 seconds, Fetched: 10 row(s)\n"
     ]
    }
   ],
   "source": [
    "%%hive\n",
    "DROP TABLE IF EXISTS detail;\n",
    "\n",
    "CREATE TABLE detail\n",
    "AS\n",
    "    SELECT \n",
    "        language,\n",
    "        key AS year, \n",
    "        value AS popularity,\n",
    "        category\n",
    "    FROM (\n",
    "        SELECT\n",
    "            language,\n",
    "            ranking,\n",
    "            category\n",
    "        FROM\n",
    "            languages\n",
    "        LATERAL VIEW    \n",
    "            explode(categories) languages AS category\n",
    "    ) t0\n",
    "    LATERAL VIEW\n",
    "        explode(ranking) t0 \n",
    ";\n",
    "    \n",
    "SELECT * FROM detail LIMIT 10;"
   ]
  },
  {
   "cell_type": "markdown",
   "metadata": {},
   "source": [
    "La instrucción `DESCRIBE`  permite ver los tipos de datos de la tabla."
   ]
  },
  {
   "cell_type": "code",
   "execution_count": 14,
   "metadata": {},
   "outputs": [
    {
     "name": "stdout",
     "output_type": "stream",
     "text": [
      "OK\n",
      "language            \tstring\n",
      "year                \tint\n",
      "popularity          \tfloat\n",
      "category            \tstring\n",
      "Time taken: 0.036 seconds, Fetched: 4 row(s)\n"
     ]
    }
   ],
   "source": [
    "%%hive\n",
    "DESCRIBE detail;"
   ]
  },
  {
   "cell_type": "markdown",
   "metadata": {},
   "source": [
    "Construcción de campos compuestos\n",
    "--"
   ]
  },
  {
   "cell_type": "markdown",
   "metadata": {},
   "source": [
    "También es posible crear datos complejos a partir de los campos de una tabla. En la siguiente consulta, se construye un ARRAY mediante la función `collect_set()` agrupando las catetorias por lenguaje de la tabla `detail`."
   ]
  },
  {
   "cell_type": "code",
   "execution_count": 15,
   "metadata": {},
   "outputs": [
    {
     "name": "stdout",
     "output_type": "stream",
     "text": [
      "WARNING: Hive-on-MR is deprecated in Hive 2 and may not be available in the future versions. Consider using a different execution engine (i.e. spark, tez) or using Hive 1.X releases.\n",
      "Query ID = root_20220517161751_ee55cd99-8e19-4e07-8e83-1d0eaf19dbe6\n",
      "Total jobs = 1\n",
      "Launching Job 1 out of 1\n",
      "Number of reduce tasks not specified. Estimated from input data size: 1\n",
      "In order to change the average load for a reducer (in bytes):\n",
      "set hive.exec.reducers.bytes.per.reducer=<number>\n",
      "In order to limit the maximum number of reducers:\n",
      "set hive.exec.reducers.max=<number>\n",
      "In order to set a constant number of reducers:\n",
      "set mapreduce.job.reduces=<number>\n",
      "Starting Job = job_1652793922537_0028, Tracking URL = http://4feb4ed7d52d:8088/proxy/application_1652793922537_0028/\n",
      "Kill Command = /opt/hadoop/bin/hadoop job  -kill job_1652793922537_0028\n",
      "Hadoop job information for Stage-1: number of mappers: 1; number of reducers: 1\n",
      "2022-05-17 16:18:00,072 Stage-1 map = 0%,  reduce = 0%\n",
      "2022-05-17 16:18:04,176 Stage-1 map = 100%,  reduce = 0%, Cumulative CPU 1.43 sec\n",
      "2022-05-17 16:18:08,304 Stage-1 map = 100%,  reduce = 100%, Cumulative CPU 3.01 sec\n",
      "MapReduce Total cumulative CPU time: 3 seconds 10 msec\n",
      "Ended Job = job_1652793922537_0028\n",
      "MapReduce Jobs Launched:\n",
      "Stage-Stage-1: Map: 1  Reduce: 1   Cumulative CPU: 3.01 sec   HDFS Read: 18995 HDFS Write: 426 SUCCESS\n",
      "Total MapReduce CPU Time Spent: 3 seconds 10 msec\n",
      "OK\n",
      "ABAP\t[\"Enterprise\"]\n",
      "ASP.NET\t[\"Web\"]\n",
      "Actionscript\t[\"Web\",\"Mobile\"]\n",
      "Ada\t[\"Enterprise\",\"Embedded\"]\n",
      "Apex Code\t[\"Enterprise\"]\n",
      "Arduino\t[\"Embedded\"]\n",
      "Assembly\t[\"Embedded\"]\n",
      "C\t[\"Mobile\",\"Enterprise\",\"Embedded\"]\n",
      "C#\t[\"Web\",\"Mobile\",\"Enterprise\"]\n",
      "C++\t[\"Mobile\",\" Enterprise\",\" Embedded\"]\n",
      "Time taken: 17.831 seconds, Fetched: 10 row(s)\n"
     ]
    }
   ],
   "source": [
    "%%hive\n",
    "SELECT \n",
    "    language,\n",
    "    collect_set(category)\n",
    "FROM \n",
    "    detail\n",
    "GROUP BY\n",
    "    language    \n",
    "LIMIT 10;"
   ]
  },
  {
   "cell_type": "markdown",
   "metadata": {},
   "source": [
    "En la siguiente consulta, se construye un MAP a partir del año y la popularidad del lenguaje."
   ]
  },
  {
   "cell_type": "code",
   "execution_count": 16,
   "metadata": {},
   "outputs": [
    {
     "name": "stdout",
     "output_type": "stream",
     "text": [
      "OK\n",
      "ABAP\t{2018:22.8}\tEnterprise\n",
      "ABAP\t{2017:28.9}\tEnterprise\n",
      "ABAP\t{2016:15.9}\tEnterprise\n",
      "ABAP\t{2015:24.6}\tEnterprise\n",
      "ABAP\t{2014:20.8}\tEnterprise\n",
      "Actionscript\t{2018:0.6}\tWeb\n",
      "Actionscript\t{2017:0.0}\tWeb\n",
      "Actionscript\t{2016:3.3}\tWeb\n",
      "Actionscript\t{2015:6.8}\tWeb\n",
      "Actionscript\t{2014:22.0}\tWeb\n",
      "Time taken: 0.097 seconds, Fetched: 10 row(s)\n"
     ]
    }
   ],
   "source": [
    "%%hive\n",
    "SELECT \n",
    "    language,\n",
    "    map(year, popularity) as p,\n",
    "    category\n",
    "FROM \n",
    "    detail\n",
    "LIMIT 10;"
   ]
  },
  {
   "cell_type": "markdown",
   "metadata": {},
   "source": [
    "Particionamiento\n",
    "--"
   ]
  },
  {
   "cell_type": "markdown",
   "metadata": {},
   "source": [
    "Como ya se indicó, las tablas pueden partirse físicamente dependiendo del valor de uno o más campos usados como claves. Esto permite que las búsquedas sean más eficientes, ya que las consultas operan sobre las partficiones. En el siguiente código, se  crea la tabla `detailpart` en que la partición está dada por el campo `year`."
   ]
  },
  {
   "cell_type": "code",
   "execution_count": 17,
   "metadata": {},
   "outputs": [
    {
     "name": "stdout",
     "output_type": "stream",
     "text": [
      "OK\n",
      "Time taken: 0.021 seconds\n",
      "OK\n",
      "Time taken: 0.053 seconds\n"
     ]
    }
   ],
   "source": [
    "%%hive\n",
    "DROP TABLE IF EXISTS detailpart;\n",
    "\n",
    "CREATE TABLE detailpart (\n",
    "    language   STRING,\n",
    "    popularity DOUBLE,\n",
    "    category   STRING\n",
    ")\n",
    "PARTITIONED BY (year INT) \n",
    "ROW FORMAT DELIMITED \n",
    "FIELDS TERMINATED BY '\\t'\n",
    "COLLECTION ITEMS TERMINATED BY ','\n",
    "MAP KEYS TERMINATED BY '#'\n",
    "LINES TERMINATED BY '\\n'\n",
    "STORED AS TEXTFILE\n",
    "LOCATION '/tmp/hive-partitioned';\n",
    ";"
   ]
  },
  {
   "cell_type": "markdown",
   "metadata": {},
   "source": [
    "Seguidamente, se llena la tabla `detailpart` con la información almacenada en la tabla `detail`. Note que se indicar una instrucción `INSERT OVERWRITE` por cada valor posible de la partición (columna `year`)."
   ]
  },
  {
   "cell_type": "code",
   "execution_count": 18,
   "metadata": {},
   "outputs": [
    {
     "name": "stdout",
     "output_type": "stream",
     "text": [
      "WARNING: Hive-on-MR is deprecated in Hive 2 and may not be available in the future versions. Consider using a different execution engine (i.e. spark, tez) or using Hive 1.X releases.\n",
      "Query ID = root_20220517161812_09187314-f24b-4ba3-8811-523b83ca14d7\n",
      "Total jobs = 11\n",
      "Launching Job 1 out of 11\n",
      "Number of reduce tasks is set to 0 since there's no reduce operator\n",
      "Starting Job = job_1652793922537_0029, Tracking URL = http://4feb4ed7d52d:8088/proxy/application_1652793922537_0029/\n",
      "Kill Command = /opt/hadoop/bin/hadoop job  -kill job_1652793922537_0029\n",
      "Hadoop job information for Stage-5: number of mappers: 1; number of reducers: 0\n",
      "2022-05-17 16:18:19,471 Stage-5 map = 0%,  reduce = 0%\n",
      "2022-05-17 16:18:23,594 Stage-5 map = 100%,  reduce = 0%, Cumulative CPU 2.5 sec\n",
      "MapReduce Total cumulative CPU time: 2 seconds 500 msec\n",
      "Ended Job = job_1652793922537_0029\n",
      "Stage-8 is selected by condition resolver.\n",
      "Stage-7 is filtered out by condition resolver.\n",
      "Stage-9 is filtered out by condition resolver.\n",
      "Stage-14 is selected by condition resolver.\n",
      "Stage-13 is filtered out by condition resolver.\n",
      "Stage-15 is filtered out by condition resolver.\n",
      "Stage-20 is selected by condition resolver.\n",
      "Stage-19 is filtered out by condition resolver.\n",
      "Stage-21 is filtered out by condition resolver.\n",
      "Stage-26 is selected by condition resolver.\n",
      "Stage-25 is filtered out by condition resolver.\n",
      "Stage-27 is filtered out by condition resolver.\n",
      "Stage-32 is selected by condition resolver.\n",
      "Stage-31 is filtered out by condition resolver.\n",
      "Stage-33 is filtered out by condition resolver.\n",
      "Moving data to directory hdfs://0.0.0.0:9000/tmp/hive-partitioned/year=2018/.hive-staging_hive_2022-05-17_16-18-12_776_6637532130254074137-1/-ext-10000\n",
      "Moving data to directory hdfs://0.0.0.0:9000/tmp/hive-partitioned/year=2017/.hive-staging_hive_2022-05-17_16-18-12_776_6637532130254074137-1/-ext-10002\n",
      "Moving data to directory hdfs://0.0.0.0:9000/tmp/hive-partitioned/year=2016/.hive-staging_hive_2022-05-17_16-18-12_776_6637532130254074137-1/-ext-10004\n",
      "Moving data to directory hdfs://0.0.0.0:9000/tmp/hive-partitioned/year=2015/.hive-staging_hive_2022-05-17_16-18-12_776_6637532130254074137-1/-ext-10006\n",
      "Moving data to directory hdfs://0.0.0.0:9000/tmp/hive-partitioned/year=2014/.hive-staging_hive_2022-05-17_16-18-12_776_6637532130254074137-1/-ext-10008\n",
      "Loading data to table default.detailpart partition (year=2018)\n",
      "Loading data to table default.detailpart partition (year=2017)\n",
      "Loading data to table default.detailpart partition (year=2016)\n",
      "Loading data to table default.detailpart partition (year=2015)\n",
      "Loading data to table default.detailpart partition (year=2014)\n",
      "MapReduce Jobs Launched:\n",
      "Stage-Stage-5: Map: 1   Cumulative CPU: 2.5 sec   HDFS Read: 18799 HDFS Write: 12254 SUCCESS\n",
      "Total MapReduce CPU Time Spent: 2 seconds 500 msec\n",
      "OK\n",
      "Time taken: 12.818 seconds\n"
     ]
    }
   ],
   "source": [
    "%%hive\n",
    "FROM detail\n",
    "INSERT OVERWRITE TABLE detailpart PARTITION(year=2018)\n",
    "SELECT \n",
    "    language,\n",
    "    popularity,\n",
    "    category\n",
    "WHERE\n",
    "    year=2018\n",
    "INSERT OVERWRITE TABLE detailpart PARTITION(year=2017)\n",
    "SELECT \n",
    "    language,\n",
    "    popularity,\n",
    "    category\n",
    "WHERE\n",
    "    year=2017\n",
    "INSERT OVERWRITE TABLE detailpart PARTITION(year=2016)\n",
    "SELECT \n",
    "    language,\n",
    "    popularity,\n",
    "    category\n",
    "WHERE\n",
    "    year=2016\n",
    "INSERT OVERWRITE TABLE detailpart PARTITION(year=2015)\n",
    "SELECT \n",
    "    language,\n",
    "    popularity,\n",
    "    category\n",
    "WHERE\n",
    "    year=2015\n",
    "INSERT OVERWRITE TABLE detailpart PARTITION(year=2014)\n",
    "SELECT \n",
    "    language,\n",
    "    popularity,\n",
    "    category\n",
    "WHERE\n",
    "    year=2014\n",
    ";"
   ]
  },
  {
   "cell_type": "markdown",
   "metadata": {},
   "source": [
    "A conitnuación se verifican las particiones creadas."
   ]
  },
  {
   "cell_type": "code",
   "execution_count": 19,
   "metadata": {},
   "outputs": [
    {
     "name": "stdout",
     "output_type": "stream",
     "text": [
      "OK\n",
      "year=2014\n",
      "year=2015\n",
      "year=2016\n",
      "year=2017\n",
      "year=2018\n",
      "Time taken: 0.059 seconds, Fetched: 5 row(s)\n"
     ]
    }
   ],
   "source": [
    "%%hive\n",
    "SHOW PARTITIONS detailpart;"
   ]
  },
  {
   "cell_type": "markdown",
   "metadata": {},
   "source": [
    "En una tabla particionada, se crea un subdirectorio por cada uno de los valores posibles que puede tomar el campo usado para especificar la partición; es así, como existe un directorio para `year=2014`, otro para `year=2015` y así sucesivamente."
   ]
  },
  {
   "cell_type": "code",
   "execution_count": 20,
   "metadata": {},
   "outputs": [
    {
     "name": "stdout",
     "output_type": "stream",
     "text": [
      "Found 5 items\n",
      "drwxrwxrwx   - root supergroup          0 2022-05-17 16:18 /tmp/hive-partitioned/year=2014\n",
      "drwxrwxrwx   - root supergroup          0 2022-05-17 16:18 /tmp/hive-partitioned/year=2015\n",
      "drwxrwxrwx   - root supergroup          0 2022-05-17 16:18 /tmp/hive-partitioned/year=2016\n",
      "drwxrwxrwx   - root supergroup          0 2022-05-17 16:18 /tmp/hive-partitioned/year=2017\n",
      "drwxrwxrwx   - root supergroup          0 2022-05-17 16:18 /tmp/hive-partitioned/year=2018\n"
     ]
    }
   ],
   "source": [
    "!hdfs dfs -ls /tmp/hive-partitioned"
   ]
  },
  {
   "cell_type": "code",
   "execution_count": 21,
   "metadata": {},
   "outputs": [
    {
     "name": "stdout",
     "output_type": "stream",
     "text": [
      "Found 1 items\n",
      "-rwxrwxrwx   1 root supergroup       2347 2022-05-17 16:18 /tmp/hive-partitioned/year=2014/000000_0\n"
     ]
    }
   ],
   "source": [
    "!hdfs dfs -ls /tmp/hive-partitioned/year=2014"
   ]
  },
  {
   "cell_type": "markdown",
   "metadata": {},
   "source": [
    "Note que `year` ya no es parte del contenido de la tabla."
   ]
  },
  {
   "cell_type": "code",
   "execution_count": 22,
   "metadata": {},
   "outputs": [
    {
     "name": "stdout",
     "output_type": "stream",
     "text": [
      "Mobile\n",
      "Objective-C\t63.70000076293945\tEnterprise\n",
      "Ocaml\t18.5\tWeb\n",
      "Ocaml\t18.5\tEnterprise\n",
      "Perl\t69.5999984741211\tWeb\n",
      "Perl\t69.5999984741211\tEnterprise\n",
      "PHP\t84.5999984741211\tWeb\n",
      "Processing\t52.0\tWeb\n",
      "Processing\t52.0\tEnterprise\n",
      "Prolog\t38.599998474121094\tEnterprise\n",
      "Python\t93.4000015258789\tWeb\n",
      "Python\t93.4000015258789\tEnterprise\n",
      "Python\t93.4000015258789\tEmbedded\n",
      "R\t74.0999984741211\tEnterprise\n",
      "Ruby\t79.30000305175781\tWeb\n",
      "Ruby\t79.30000305175781\tEnterprise\n",
      "Rust\t\\N\tWeb\n",
      "Rust\t\\N\tEnterprise\n",
      "SAS\t37.099998474121094\tEnterprise\n",
      "Scala\t62.70000076293945\tWeb\n",
      "Scala\t62.70000076293945\tMobile\n",
      "Scheme\t27.799999237060547\tMobile\n",
      "Scheme\t27.799999237060547\tEnterprise\n",
      "Shell\t63.29999923706055\tEnterprise\n",
      "SQL\t71.5999984741211\tEnterprise\n",
      "TCL\t23.100000381469727\tEnterprise\n",
      "TCL\t23.100000381469727\tEmbedded\n",
      "Verilog\t33.79999923706055\tEmbedded\n",
      "VHDL\t42.599998474121094\tEmbedded\n",
      "Visual Basic\t66.0\tEnterprise\n",
      "ASP.NET\t35.900001525878906\tWeb\n",
      "CoffeeScript\t25.5\tWeb\n",
      "Apex Code\t18.0\tEnterprise\n",
      "Eiffel\t6.400000095367432\tEnterprise\n",
      "Scilab\t1.0\tEnterprise\n",
      "NetLogo\t0.0\tEnterprise\n"
     ]
    }
   ],
   "source": [
    "!hdfs dfs -tail /tmp/hive-partitioned/year=2014/000000_0"
   ]
  },
  {
   "cell_type": "markdown",
   "metadata": {},
   "source": [
    "Tablas externas\n",
    "--"
   ]
  },
  {
   "cell_type": "markdown",
   "metadata": {},
   "source": [
    "Las tablas creadas hasta el momento son completamente manejadas por `Hive`. Sin embargo, estas tablas no son convenientes para compartir directamente información con otras aplicaciones, ya que `Hive` administra los datos. Para analizar la información generada por otras aplicaciones resulta más conveniente usar tablas externas. "
   ]
  },
  {
   "cell_type": "code",
   "execution_count": 23,
   "metadata": {},
   "outputs": [
    {
     "name": "stdout",
     "output_type": "stream",
     "text": [
      "OK\n",
      "Time taken: 0.056 seconds\n"
     ]
    }
   ],
   "source": [
    "%%hive\n",
    "CREATE EXTERNAL TABLE externaltbl\n",
    "LIKE \n",
    "    languages\n",
    "LOCATION '/tmp/externaltbl';"
   ]
  },
  {
   "cell_type": "markdown",
   "metadata": {},
   "source": [
    "La carga de datos se realizar como en los ejemplos anteriores."
   ]
  },
  {
   "cell_type": "code",
   "execution_count": 24,
   "metadata": {},
   "outputs": [
    {
     "name": "stdout",
     "output_type": "stream",
     "text": [
      "WARNING: Hive-on-MR is deprecated in Hive 2 and may not be available in the future versions. Consider using a different execution engine (i.e. spark, tez) or using Hive 1.X releases.\n",
      "Query ID = root_20220517161831_6e05e846-3ec1-4f4c-9d20-55af50819a37\n",
      "Total jobs = 3\n",
      "Launching Job 1 out of 3\n",
      "Number of reduce tasks is set to 0 since there's no reduce operator\n",
      "Starting Job = job_1652793922537_0030, Tracking URL = http://4feb4ed7d52d:8088/proxy/application_1652793922537_0030/\n",
      "Kill Command = /opt/hadoop/bin/hadoop job  -kill job_1652793922537_0030\n",
      "Hadoop job information for Stage-1: number of mappers: 1; number of reducers: 0\n",
      "2022-05-17 16:18:34,747 Stage-1 map = 0%,  reduce = 0%\n",
      "2022-05-17 16:18:39,045 Stage-1 map = 100%,  reduce = 0%, Cumulative CPU 1.42 sec\n",
      "MapReduce Total cumulative CPU time: 1 seconds 420 msec\n",
      "Ended Job = job_1652793922537_0030\n",
      "Stage-4 is selected by condition resolver.\n",
      "Stage-3 is filtered out by condition resolver.\n",
      "Stage-5 is filtered out by condition resolver.\n",
      "Moving data to directory hdfs://0.0.0.0:9000/tmp/externaltbl/.hive-staging_hive_2022-05-17_16-18-31_221_3581705079924987506-1/-ext-10000\n",
      "Loading data to table default.externaltbl\n",
      "MapReduce Jobs Launched:\n",
      "Stage-Stage-1: Map: 1   Cumulative CPU: 1.42 sec   HDFS Read: 7777 HDFS Write: 3581 SUCCESS\n",
      "Total MapReduce CPU Time Spent: 1 seconds 420 msec\n",
      "OK\n",
      "Time taken: 9.048 seconds\n",
      "OK\n",
      "ABAP\t{2018:22.8,2017:28.9,2016:15.9,2015:24.6,2014:20.8}\t[\"Enterprise\"]\n",
      "Actionscript\t{2018:0.6,2017:0.0,2016:3.3,2015:6.8,2014:22.0}\t[\"Web\",\"Mobile\"]\n",
      "Ada\t{2018:20.9,2017:29.9,2016:20.5,2015:32.8,2014:30.1}\t[\"Enterprise\",\"Embedded\"]\n",
      "Arduino\t{2018:69.0,2017:74.4,2016:69.5,2015:63.0,2014:62.9}\t[\"Embedded\"]\n",
      "Assembly\t{2018:74.1,2017:73.4,2016:68.0,2015:67.9,2014:66.9}\t[\"Embedded\"]\n",
      "C\t{2018:96.7,2017:99.7,2016:100.0,2015:99.9,2014:99.2}\t[\"Mobile\",\"Enterprise\",\"Embedded\"]\n",
      "C#\t{2018:89.4,2017:88.8,2016:86.4,2015:91.8,2014:92.2}\t[\"Web\",\"Mobile\",\"Enterprise\"]\n",
      "C++\t{2018:99.7,2017:97.4,2016:95.8,2015:99.6,2014:95.5}\t[\"Mobile\",\" Enterprise\",\" Embedded\"]\n",
      "Clojure\t{2018:25.6,2017:28.8,2016:22.0,2015:30.9,2014:36.0}\t[\"Web\",\"Enterprise\"]\n",
      "Cobol\t{2018:24.6,2017:29.2,2016:17.9,2015:19.0,2014:30.6}\t[\"Enterprise\"]\n",
      "Time taken: 0.086 seconds, Fetched: 10 row(s)\n"
     ]
    }
   ],
   "source": [
    "%%hive\n",
    "FROM languages\n",
    "INSERT OVERWRITE TABLE externaltbl\n",
    "SELECT \n",
    "    language,\n",
    "    ranking,\n",
    "    categories;\n",
    "    \n",
    "SELECT * FROM externaltbl LIMIT 10;"
   ]
  },
  {
   "cell_type": "code",
   "execution_count": 25,
   "metadata": {},
   "outputs": [
    {
     "name": "stdout",
     "output_type": "stream",
     "text": [
      "Found 1 items\n",
      "-rwxrwxrwx   1 root supergroup       3504 2022-05-17 16:18 /tmp/externaltbl/000000_0\n"
     ]
    }
   ],
   "source": [
    "!hdfs dfs -ls /tmp/externaltbl"
   ]
  },
  {
   "cell_type": "code",
   "execution_count": 26,
   "metadata": {},
   "outputs": [
    {
     "name": "stdout",
     "output_type": "stream",
     "text": [
      "8,2016#87.7,2015#84.7,2014#74.1\tEnterprise\n",
      "Ruby\t2018#71.4,2017#73.9,2016#74.0,2015#75.3,2014#79.3\tWeb,Enterprise\n",
      "Rust\t2018#41.8,2017#55.0,2016#42.2,2015#29.6,2014#\\N\tWeb,Enterprise\n",
      "SAS\t2018#25.6,2017#30.7,2016#21.7,2015#43.7,2014#37.1\tEnterprise\n",
      "Scala\t2018#72.1,2017#70.0,2016#66.3,2015#62.4,2014#62.7\tWeb,Mobile\n",
      "Scheme\t2018#18.8,2017#24.5,2016#14.5,2015#14.8,2014#27.8\tMobile,Enterprise\n",
      "Shell\t2018#66.1,2017#68.6,2016#52.7,2015#71.4,2014#63.3\tEnterprise\n",
      "SQL\t2018#49.3,2017#52.8,2016#48.8,2015#70.9,2014#71.6\tEnterprise\n",
      "Swift\t2018#53.9,2017#76.5,2016#67.6,2015#62.4\tMobile,Enterprise\n",
      "TCL\t2018#21.9,2017#16.2,2016#8.7,2015#11.6,2014#23.1\tEnterprise,Embedded\n",
      "Verilog\t2018#41.2,2017#35.6,2016#25.1,2015#23.7,2014#33.8\tEmbedded\n",
      "VHDL\t2018#45.4,2017#39.9,2016#33.3,2015#35.4,2014#42.6\tEmbedded\n",
      "Visual Basic\t2018#45.1,2017#58.9,2016#55.7,2015#63.4,2014#66.0\tEnterprise\n",
      "ASP.NET\t2014#35.9\tWeb\n",
      "CoffeeScript\t2014#25.5\tWeb\n",
      "Apex Code\t2014#18.0\tEnterprise\n",
      "Eiffel\t2014#6.4\tEnterprise\n",
      "Scilab\t2014#1.0\tEnterprise\n",
      "NetLogo\t2014#0.0\tEnterprise\n"
     ]
    }
   ],
   "source": [
    "!hdfs dfs -tail /tmp/externaltbl/000000_0"
   ]
  },
  {
   "cell_type": "markdown",
   "metadata": {},
   "source": [
    "---"
   ]
  },
  {
   "cell_type": "markdown",
   "metadata": {},
   "source": [
    "Borrado de las tablas\n",
    "--"
   ]
  },
  {
   "cell_type": "markdown",
   "metadata": {},
   "source": [
    "Cuando se borra la tabla `languages`  también se borra la carpeta correspondiente del HDFS."
   ]
  },
  {
   "cell_type": "code",
   "execution_count": 27,
   "metadata": {},
   "outputs": [
    {
     "name": "stdout",
     "output_type": "stream",
     "text": [
      "OK\n",
      "Time taken: 0.229 seconds\n",
      "OK\n",
      "Time taken: 0.05 seconds\n",
      "OK\n",
      "Time taken: 0.187 seconds\n",
      "OK\n",
      "Time taken: 0.048 seconds\n"
     ]
    }
   ],
   "source": [
    "%%hive \n",
    "DROP TABLE languages;\n",
    "DROP TABLE detail;\n",
    "DROP TABLE detailpart;\n",
    "DROP TABLE externaltbl;"
   ]
  },
  {
   "cell_type": "code",
   "execution_count": 28,
   "metadata": {},
   "outputs": [
    {
     "name": "stdout",
     "output_type": "stream",
     "text": [
      "Found 5 items\n",
      "drwxr-xr-x   - root supergroup          0 2022-05-17 16:16 /tmp/drivers\n",
      "drwxrwxrwx   - root supergroup          0 2022-05-17 16:16 /tmp/drivers-json\n",
      "drwxrwxrwx   - root supergroup          0 2022-05-17 16:18 /tmp/externaltbl\n",
      "drwxrwx---   - root supergroup          0 2022-05-17 13:25 /tmp/hadoop-yarn\n",
      "drwxrwxrwx   - root supergroup          0 2022-05-17 13:26 /tmp/hive\n"
     ]
    }
   ],
   "source": [
    "!hdfs dfs -ls /tmp/"
   ]
  },
  {
   "cell_type": "code",
   "execution_count": 29,
   "metadata": {},
   "outputs": [],
   "source": [
    "%quit"
   ]
  },
  {
   "cell_type": "code",
   "execution_count": 30,
   "metadata": {},
   "outputs": [],
   "source": [
    "!rm *.tsv *.log"
   ]
  }
 ],
 "metadata": {
  "kernelspec": {
   "display_name": "Python 3.9.6 64-bit",
   "language": "python",
   "name": "python3"
  },
  "language_info": {
   "codemirror_mode": {
    "name": "ipython",
    "version": 3
   },
   "file_extension": ".py",
   "mimetype": "text/x-python",
   "name": "python",
   "nbconvert_exporter": "python",
   "pygments_lexer": "ipython3",
   "version": "3.9.6"
  },
  "toc": {
   "base_numbering": 1,
   "nav_menu": {},
   "number_sections": false,
   "sideBar": true,
   "skip_h1_title": true,
   "title_cell": "Table of Contents",
   "title_sidebar": "Contents",
   "toc_cell": false,
   "toc_position": {},
   "toc_section_display": true,
   "toc_window_display": true
  },
  "toc-autonumbering": false,
  "vscode": {
   "interpreter": {
    "hash": "31f2aee4e71d21fbe5cf8b01ff0e069b9275f58929596ceb00d14d90e3e16cd6"
   }
  }
 },
 "nbformat": 4,
 "nbformat_minor": 4
}
