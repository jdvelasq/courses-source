{
 "cells": [
  {
   "cell_type": "markdown",
   "id": "e51b7896-b441-456e-a63e-05ed26ac6542",
   "metadata": {},
   "source": [
    "Derivadas parciales y gradiente\n",
    "==="
   ]
  },
  {
   "cell_type": "markdown",
   "id": "27ae23af-c0ea-4813-86c5-e23a95887dc8",
   "metadata": {},
   "source": [
    "Derivada para funciones de una variable\n",
    "--"
   ]
  },
  {
   "cell_type": "markdown",
   "id": "dd10ce77-7541-4ff9-ae5c-3294d5ac4a99",
   "metadata": {},
   "source": [
    "$$\n",
    "\\frac{d}{dx} f(x) = \\lim_{\\Delta x \\to 0} \\frac{f(x + \\Delta x) - f(x)}{\\Delta x}\n",
    "$$"
   ]
  },
  {
   "cell_type": "markdown",
   "id": "a53283e8-2fa1-425a-b161-0eff86de0902",
   "metadata": {},
   "source": [
    "Derivada para una función de dos variables\n",
    "---"
   ]
  },
  {
   "cell_type": "markdown",
   "id": "8300e4b9-9c9d-4fef-b185-d689be566fd8",
   "metadata": {},
   "source": [
    "Se obtiene al tratar la otra variable como una constante:"
   ]
  },
  {
   "cell_type": "markdown",
   "id": "df539421-7a67-4c40-83d2-d9b41b550d82",
   "metadata": {},
   "source": [
    "$$\n",
    "f_x = \\frac{\\partial}{\\partial x} f(x, y) = \\lim_{\\Delta x \\to 0} \\frac{f(x + \\Delta x, y) - f(x, y)}{\\Delta x}\n",
    "$$"
   ]
  },
  {
   "cell_type": "markdown",
   "id": "1fe40f16-351e-4e44-a140-97f2182d148c",
   "metadata": {},
   "source": [
    "$$\n",
    "f_y = \\frac{\\partial}{\\partial y} f(x, y) = \\lim_{\\Delta y \\to 0} \\frac{f(x, y + \\Delta y) - f(x, y)}{\\Delta y}\n",
    "$$"
   ]
  },
  {
   "cell_type": "markdown",
   "id": "5f9e9be4-3ea5-458a-8bd0-6b41b70fe040",
   "metadata": {},
   "source": [
    "**Ejemplo:**\n",
    "$$\n",
    "f(x, y) = x^2 + y^2\n",
    "$$"
   ]
  },
  {
   "cell_type": "markdown",
   "id": "fa222bd3-a19d-4243-b18a-4d364e2d4bd6",
   "metadata": {},
   "source": [
    "$$\n",
    "\\begin{split}\n",
    "f_x \n",
    "  & = \\frac{\\partial}{\\partial x} f(x, y) \\\\ \\\\\n",
    "  & = \\frac{\\partial}{\\partial x} \\left( x^2 + y^2 \\right) \\\\ \\\\\n",
    "  & = \\frac{\\partial}{\\partial x} x^2 + \\frac{\\partial}{\\partial x} y^2\\\\ \\\\\n",
    "  & = 2x\n",
    "\\end{split}\n",
    "$$"
   ]
  },
  {
   "cell_type": "markdown",
   "id": "66d62055-23ca-409b-911e-1e3d2ada6e42",
   "metadata": {},
   "source": [
    "$$\n",
    "\\begin{split}\n",
    "f_y \n",
    "  & = \\frac{\\partial}{\\partial y} f(x, y) \\\\ \\\\\n",
    "  & = \\frac{\\partial}{\\partial y} \\left( x^2 + y^2 \\right) \\\\ \\\\\n",
    "  & = \\frac{\\partial}{\\partial y} x^2 + \\frac{\\partial}{\\partial y} y^2\\\\ \\\\\n",
    "  & = 2y\n",
    "\\end{split}\n",
    "$$"
   ]
  },
  {
   "cell_type": "markdown",
   "id": "6ac7afb4-c75b-413c-88e6-1e9959b16c5e",
   "metadata": {},
   "source": [
    "Gradiente\n",
    "=="
   ]
  },
  {
   "cell_type": "markdown",
   "id": "62889963-1c3d-49c8-a02e-29aa744a4e17",
   "metadata": {},
   "source": [
    "$$\n",
    "\\nabla f(x, y) \n",
    "  = \n",
    "\\left[\n",
    "\\begin{split}\n",
    "  \\frac{\\partial}{\\partial x} f(x, y) \\\\ \\\\\n",
    "  \\frac{\\partial}{\\partial y} f(x, y) \\\\\n",
    "\\end{split}\n",
    "\\right]\n",
    "$$"
   ]
  },
  {
   "cell_type": "markdown",
   "id": "0ac5d2b0-7db2-42b7-a3f3-792060c317fb",
   "metadata": {},
   "source": [
    "**Ejemplo:**"
   ]
  },
  {
   "cell_type": "markdown",
   "id": "424eee13-31b1-4e1c-bdee-c830371949f1",
   "metadata": {},
   "source": [
    "$$\n",
    "\\nabla f(x, y) \n",
    "  = \n",
    "\\left[\n",
    "\\begin{split}\n",
    "  2x \\\\ \\\\\n",
    "  2y \\\\\n",
    "\\end{split}\n",
    "\\right]\n",
    "$$"
   ]
  }
 ],
 "metadata": {
  "kernelspec": {
   "display_name": "Python 3 (ipykernel)",
   "language": "python",
   "name": "python3"
  },
  "language_info": {
   "codemirror_mode": {
    "name": "ipython",
    "version": 3
   },
   "file_extension": ".py",
   "mimetype": "text/x-python",
   "name": "python",
   "nbconvert_exporter": "python",
   "pygments_lexer": "ipython3",
   "version": "3.9.6"
  }
 },
 "nbformat": 4,
 "nbformat_minor": 5
}
