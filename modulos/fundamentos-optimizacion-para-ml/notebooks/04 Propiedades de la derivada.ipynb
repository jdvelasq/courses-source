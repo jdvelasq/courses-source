{
 "cells": [
  {
   "cell_type": "markdown",
   "id": "3a840cc8-f67e-4a39-989c-dd37f1f45bc6",
   "metadata": {},
   "source": [
    "Propiedades de la derivada\n",
    "===="
   ]
  },
  {
   "cell_type": "markdown",
   "id": "1c45800c-03f2-456b-b2c7-d7cb32ba10fc",
   "metadata": {},
   "source": [
    "Derivada de la multiplicación de una función por un escalar\n",
    "---"
   ]
  },
  {
   "cell_type": "markdown",
   "id": "8c1367c8-51f1-4034-a5ae-e1ebbc933121",
   "metadata": {},
   "source": [
    "$$\n",
    "\\begin{split}\n",
    "\\frac{d}{dx} f(x) & = \\frac{d}{dx} C \\cdot g(x) \\\\ \\\\\n",
    "    & = C \\cdot \\frac{d}{dx} g(x) \\\\ \\\\\n",
    "\\end{split}\n",
    "$$"
   ]
  },
  {
   "cell_type": "markdown",
   "id": "c94d9598-ae62-419f-9612-daa3f9b2676a",
   "metadata": {},
   "source": [
    "**Ejemplo**:\n",
    "$$\n",
    "\\begin{split}\n",
    "\\frac{d}{dx} 5x^2 \n",
    "  & = 5 \\cdot \\frac{d}{dx} x^2 \\\\ \\\\\n",
    "  & = 5 \\cdot (2 \\cdot x) \\\\ \\\\\n",
    "  & = 10 x \n",
    "\\end{split}\n",
    "$$"
   ]
  },
  {
   "cell_type": "markdown",
   "id": "4d49e22c-8334-400f-9205-b7f278af7cca",
   "metadata": {},
   "source": [
    "Derivada de una suma de funciones\n",
    "---"
   ]
  },
  {
   "cell_type": "markdown",
   "id": "b9eaafc1-ccce-476b-b4af-a96a1058f3b2",
   "metadata": {},
   "source": [
    "$$\n",
    "\\frac{d}{dx} \\left[ f(x) + g(x) \\right] = \\frac{d}{dx} f(x) + \\frac{d}{dx} g(x)\n",
    "$$"
   ]
  },
  {
   "cell_type": "markdown",
   "id": "c58119f9-94da-4edf-8f20-549e638ff936",
   "metadata": {},
   "source": [
    "**Ejemplo**:\n",
    "$$\n",
    "\\begin{split}\n",
    "\\frac{d}{dx} \\left(5 x^2 + 3x + 2 \\right) \n",
    "  & = \\frac{d}{dx} 5 x^2 +  \\frac{d}{dx} 3 x + \\frac{d}{dx} 2 \\\\ \\\\\n",
    "  & = 5 \\cdot \\frac{d}{dx} x^2 +  3  \\cdot \\frac{d}{dx} x + 0 \\\\ \\\\\n",
    "  & = 5 \\cdot (2 \\cdot x) +  3  \\cdot (1) + 0 \\\\ \\\\\n",
    "  & = 10 x + 3\n",
    "\\end{split}\n",
    "$$"
   ]
  },
  {
   "cell_type": "markdown",
   "id": "035d837e-cfb1-49c9-8739-63f34977e5cb",
   "metadata": {},
   "source": [
    "Derivada del producto de funciones\n",
    "---"
   ]
  },
  {
   "cell_type": "markdown",
   "id": "6aec8297-605d-4343-81a6-94dce87bc225",
   "metadata": {},
   "source": [
    "$$\n",
    "\\frac{d}{dx} \\left[ f(x) \\cdot g(x) \\right] = \\left( f(x) \\frac{d}{dx} g(x) \\right) + \n",
    "\\left( g(x) \\frac{d}{dx} f(x) \\right)\n",
    "$$"
   ]
  },
  {
   "cell_type": "markdown",
   "id": "215df2cc-0285-4fdd-8472-33eaa4ad4f0d",
   "metadata": {},
   "source": [
    "**Ejemplo:**\n",
    "$$\n",
    "\\begin{split}\n",
    "\\frac{d}{dx} \\left[ (4 x^2) \\cdot (3x) \\right] \n",
    "  & = 4 x^2 \\cdot \\frac{d}{dx} (3x) + 3x \\cdot \\frac{d}{dx} (4x^2) \\\\ \\\\\n",
    "  & = 4 x^2 \\cdot (3) + 3x \\cdot (8 x) \\\\ \\\\\n",
    "  & = 12 x^2 + 24 x^2 \\\\ \\\\\n",
    "  & = 36 x^2\n",
    "\\end{split}\n",
    "$$"
   ]
  },
  {
   "cell_type": "markdown",
   "id": "fa18ec4b-83d7-42da-9e56-c949beb5b0c6",
   "metadata": {},
   "source": [
    "**Chequeo:**\n",
    "$$\n",
    "\\begin{split}\n",
    "\\frac{d}{dx} \\left[ (4 x^2) \\cdot (3x) \\right] \n",
    "  & = \\frac{d}{dx} \\left( 12 x^3 \\right) \n",
    "  & = 12 \\frac{d}{dx} x^3 \\\\ \\\\\n",
    "  & = 12 \\cdot 3 \\cdot x^{3-1} \\\\ \\\\\n",
    "  & = 36 x^2\n",
    "\\end{split}\n",
    "$$"
   ]
  },
  {
   "cell_type": "markdown",
   "id": "2ca7e901-32e3-4826-89f0-fd6d2f563fa6",
   "metadata": {},
   "source": [
    "Derivación en cadena\n",
    "---"
   ]
  },
  {
   "cell_type": "markdown",
   "id": "4c0c8a1f-0990-4c9a-bcbc-be19c74ef28f",
   "metadata": {},
   "source": [
    "Si\n",
    "$$\n",
    "y=f(u)\n",
    "$$\n",
    "y\n",
    "$$\n",
    "u = g(x)\n",
    "$$\n",
    "entonces:\n",
    "$$\n",
    "y=f(g(x))\n",
    "$$\n",
    "y\n",
    "$$\n",
    "\\begin{split}\n",
    "\\frac{dy}{dx} \n",
    "  & = \\frac{dy}{du} \\times \\frac{du}{dx} \\\\ \\\\\n",
    "  & = \\frac{d}{du} f(u) \\times \\frac{du}{dx} g(x)\\\\ \\\\\n",
    "\\end{split}\n",
    "$$"
   ]
  },
  {
   "cell_type": "markdown",
   "id": "f0bf1516-34b5-44c9-a924-429c73b75d55",
   "metadata": {},
   "source": [
    "**Ejemplo:** Calcule la derivada respecto a $u$ de:\n",
    "$$\n",
    "\\begin{split}\n",
    "\\sigma(x) \n",
    "  & = \\frac{1}{1 + \\exp(-x)} \\\\ \\\\\n",
    "  & = \\left[1 + \\exp(-x) \\right]^{-1} \\\\\n",
    "\\end{split}\n",
    "$$"
   ]
  },
  {
   "cell_type": "markdown",
   "id": "9033e2ac-666a-4915-b500-2259b3ac0965",
   "metadata": {},
   "source": [
    "En este caso:\n",
    "$$\n",
    "\\begin{split} \n",
    "y  \n",
    "  & = f(u) \\\\ \\\\\n",
    "  & = u^{-1} \\\\ \\\\\n",
    "u \n",
    "  & = g(x) \\\\ \\\\\n",
    "  & = 1 + \\exp(-x)  \n",
    "\\end{split}\n",
    "$$"
   ]
  },
  {
   "cell_type": "markdown",
   "id": "b544db55-8546-432a-95e6-faec147220fd",
   "metadata": {},
   "source": [
    "Entonces:"
   ]
  },
  {
   "cell_type": "markdown",
   "id": "f0047ab3-6826-4900-af14-4ccebd049c65",
   "metadata": {},
   "source": [
    "$$\n",
    "\\begin{split}\n",
    "\\frac{d}{dx} \\sigma (x) \n",
    "  & = \\frac{d}{du} \\left( u^{-1} \\right) \\times \\frac{d}{dx} \\left[ 1 + \\exp(-x) \\right] \\\\ \\\\\n",
    "  & = \\left( - u^{-2} \\right) \\times \\left[ \\frac{d}{dx} (1) + \\frac{d}{dx} \\exp(-x)  \\right] \\\\ \\\\\n",
    "  & = - \\frac{1}{\\left[ 1+\\exp(-x)  \\right]^2} \\times \\left[ - \\exp(-x)  \\right] \\\\ \\\\\n",
    "  & = \\frac{ \\exp(-x) }{\\left[ 1+\\exp(-x)  \\right]^2} \\\\ \\\\\n",
    "  & = \\frac{1}{1+\\exp(-x)} \\times \\frac{\\exp(x)}{1+\\exp(-x)} \\\\ \\\\\n",
    "  & = \\frac{1}{1+\\exp(-x)} \\times \\frac{\\exp(x) + 1 - 1}{1+\\exp(-x)} \\\\ \\\\\n",
    "  & = \\frac{1}{1+\\exp(-x)} \\times \\left[\\frac{1+\\exp(-x)}{1+\\exp(-x)} - \\frac{1}{1+\\exp(-x)} \\right] \\\\ \\\\\n",
    "  & = \\sigma(x) \\left[ 1 - \\sigma(x) \\right] \\\\\n",
    "\\end{split}\n",
    "$$"
   ]
  }
 ],
 "metadata": {
  "kernelspec": {
   "display_name": "Python 3 (ipykernel)",
   "language": "python",
   "name": "python3"
  },
  "language_info": {
   "codemirror_mode": {
    "name": "ipython",
    "version": 3
   },
   "file_extension": ".py",
   "mimetype": "text/x-python",
   "name": "python",
   "nbconvert_exporter": "python",
   "pygments_lexer": "ipython3",
   "version": "3.9.6"
  }
 },
 "nbformat": 4,
 "nbformat_minor": 5
}
