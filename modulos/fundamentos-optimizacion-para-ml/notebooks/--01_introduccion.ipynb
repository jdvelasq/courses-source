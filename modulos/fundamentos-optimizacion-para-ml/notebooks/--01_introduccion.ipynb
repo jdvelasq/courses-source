{
 "cells": [
  {
   "cell_type": "markdown",
   "id": "894a05be-06c4-45d7-9124-1218e69b9aef",
   "metadata": {},
   "source": [
    "Fundamentos de optimización para aprendizaje de máquinas\n",
    "==="
   ]
  },
  {
   "cell_type": "markdown",
   "id": "9219b07b-515a-4b06-8b44-e7bd59ccdd21",
   "metadata": {},
   "source": [
    "Contenido\n",
    "---"
   ]
  },
  {
   "cell_type": "markdown",
   "id": "99c383af-9d22-4adb-98d7-fe82f26fdd29",
   "metadata": {},
   "source": [
    "* Graficación de funciones en 3D."
   ]
  },
  {
   "cell_type": "markdown",
   "id": "fe87cfb0-76af-419d-911f-8af19b44496e",
   "metadata": {
    "tags": []
   },
   "source": [
    "* Método del gradiente descendente."
   ]
  },
  {
   "cell_type": "markdown",
   "id": "1b85b7fe-e14a-44aa-9aa7-2c93403e2cfc",
   "metadata": {},
   "source": [
    "* Aprendizaje batch, online y gradiente descendente estocástico."
   ]
  },
  {
   "cell_type": "markdown",
   "id": "e6b57f0a-8a29-4025-b9ad-8b6f085834ce",
   "metadata": {},
   "source": [
    "* Regla delta generalizada y algoritmos con supermemoria."
   ]
  },
  {
   "cell_type": "markdown",
   "id": "da8e5ca7-c90d-4fb0-b15b-06502122681c",
   "metadata": {},
   "source": [
    "* Algoritmos para modificar la tasa de aprendizaje."
   ]
  }
 ],
 "metadata": {
  "kernelspec": {
   "display_name": "Python 3 (ipykernel)",
   "language": "python",
   "name": "python3"
  },
  "language_info": {
   "codemirror_mode": {
    "name": "ipython",
    "version": 3
   },
   "file_extension": ".py",
   "mimetype": "text/x-python",
   "name": "python",
   "nbconvert_exporter": "python",
   "pygments_lexer": "ipython3",
   "version": "3.8.10"
  }
 },
 "nbformat": 4,
 "nbformat_minor": 5
}
