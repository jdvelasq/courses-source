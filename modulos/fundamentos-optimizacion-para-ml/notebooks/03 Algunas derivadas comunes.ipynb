{
 "cells": [
  {
   "cell_type": "markdown",
   "id": "30d5891f-36c4-47b4-b71e-802d25a8e463",
   "metadata": {},
   "source": [
    "Algunas derivadas comunes\n",
    "==="
   ]
  },
  {
   "cell_type": "markdown",
   "id": "c7e778b2-e5ce-4396-a6b0-2090c3770f78",
   "metadata": {},
   "source": [
    "Derivada de una constante\n",
    "---"
   ]
  },
  {
   "cell_type": "markdown",
   "id": "8b79fa94-eefa-467d-a9b8-cc190fb7de1d",
   "metadata": {},
   "source": [
    "![assets/derivada-constante.png](assets/derivada-constante.png)"
   ]
  },
  {
   "cell_type": "markdown",
   "id": "5cf88886-d987-4cc8-9a10-59c7d768867e",
   "metadata": {},
   "source": [
    "La pendiente entre los puntos $x_k$ y $x_{k+1}$ es:\n",
    "\n",
    "$$\n",
    "\\begin{split}\n",
    "m & = \\frac{y_{k+1} - y_k}{x_{k+1} - x_k} \\\\ \\\\\n",
    "  & = \\frac{f(x_{k+1}) - f(x_k)}{x_{k+1} - x_k} \\\\ \\\\\n",
    "  & = \\frac{C - C}{x_{k+1} - x_k} \\\\ \\\\\n",
    "  & = \\frac{0}{x_{k+1} - x_k} \\\\ \\\\\n",
    "  & = 0\n",
    "\\end{split}\n",
    "$$"
   ]
  },
  {
   "cell_type": "markdown",
   "id": "d3f3bf51-21df-4414-8257-142ce5c5986e",
   "metadata": {},
   "source": [
    "Derivada de una línea\n",
    "---"
   ]
  },
  {
   "cell_type": "markdown",
   "id": "9bfdc178-14b3-4595-a074-a2bea92fffb7",
   "metadata": {},
   "source": [
    "![derivada-linea.png](assets/derivada-linea.png)"
   ]
  },
  {
   "cell_type": "markdown",
   "id": "ab412a95-9877-40e5-8846-5ff9102a219d",
   "metadata": {},
   "source": [
    "La pendiente entre los puntos $x_k$ y $x_{k+1}$ es:\n",
    "\n",
    "$$\n",
    "\\begin{split}\n",
    "m & = \\frac{y_{k+1} - y_k}{x_{k+1} - x_k} \\\\ \\\\\n",
    "  & = \\frac{f(x_{k+1}) - f(x_k)}{x_{k+1} - x_k} \\\\ \\\\\n",
    "  & = \\frac{(a \\cdot x_{k+1} + b) - (a \\cdot x_{k} + b)}{x_{k+1} - x_k} \\\\ \\\\\n",
    "  & = \\frac{a \\cdot x_{k+1} + b - a \\cdot x_{k} - b}{x_{k+1} - x_k} \\\\ \\\\\n",
    "  & = \\frac{a \\cdot x_{k+1} - a \\cdot x_{k} }{x_{k+1} - x_k} \\\\ \\\\\n",
    "  & = a \\cdot \\frac{x_{k+1} - x_{k} }{x_{k+1} - x_k} \\\\ \\\\\n",
    "  & = a\n",
    "\\end{split}\n",
    "$$ "
   ]
  },
  {
   "cell_type": "markdown",
   "id": "0407be7e-5c5c-41ea-9f0e-439392919f94",
   "metadata": {},
   "source": [
    "Derivada de una cuadrática\n",
    "---"
   ]
  },
  {
   "cell_type": "markdown",
   "id": "6b7ee333-c6dc-4e4a-9a86-9c96ef2e7add",
   "metadata": {},
   "source": [
    "![assets/derivada-cuadratica.png](assets/derivada-cuadratica.png)"
   ]
  },
  {
   "cell_type": "markdown",
   "id": "8ff7439f-2735-4b76-aa91-1c164291ff35",
   "metadata": {},
   "source": [
    "La pendiente entre los puntos $x_k$ y $x_{k+1}$ es:\n",
    "\n",
    "$$\n",
    "\\begin{split}\n",
    "m & = \\frac{y_{k+1} - y_k}{x_{k+1} - x_k} \\\\ \\\\\n",
    "  & = \\frac{f(x_{k+1}) - f(x_k)}{x_{k+1} - x_k} \\\\ \\\\\n",
    "  & = \\frac{(x_{k+1})^2 - (x_k)^2}{x_{k+1} - x_k} \\\\ \\\\\n",
    "  & = \\frac{(x_k + \\Delta x)^2 - (x_k)^2}{\\Delta x} \\\\ \\\\\n",
    "  & = \\frac{(x_k)^2 + 2 \\cdot x_k \\cdot \\Delta x + (\\Delta x)^2  - (x_k)^2}{\\Delta x} \\\\ \\\\\n",
    "  & = \\frac{ 2 \\cdot x_k \\cdot \\Delta x + (\\Delta x)^2  }{\\Delta x} \\\\ \\\\\n",
    "  & = 2 \\cdot x_k  + \\Delta x\n",
    "\\end{split}\n",
    "$$"
   ]
  },
  {
   "cell_type": "markdown",
   "id": "04e26c0c-92a8-46ae-82cc-acee79a51918",
   "metadata": {},
   "source": [
    "Tomando el límite:\n",
    "\n",
    "$$\n",
    "\\frac{d}{dx} f(x_k) = \\lim_{\\Delta x \\to 0}  2 \\cdot x_k  + \\Delta x = 2x_k\n",
    "$$"
   ]
  },
  {
   "cell_type": "markdown",
   "id": "23417937-e114-4fa6-9d12-2644e5a33b42",
   "metadata": {},
   "source": [
    "Derivada de $x^n$\n",
    "---"
   ]
  },
  {
   "cell_type": "markdown",
   "id": "36b4871d-2eb8-4438-9a68-ae674e1d8025",
   "metadata": {},
   "source": [
    "$$\n",
    "\\frac{d}{dx} f(x) = \\frac{d}{dx} x^n = n \\cdot x^{n-1}\n",
    "$$"
   ]
  },
  {
   "cell_type": "markdown",
   "id": "169069d3-a9e9-473e-b158-8399a2966224",
   "metadata": {},
   "source": [
    "Derivada de $1/x$\n",
    "---"
   ]
  },
  {
   "cell_type": "markdown",
   "id": "9bac6918-23f8-4e7f-856a-5aef121905b1",
   "metadata": {},
   "source": [
    "$$\n",
    "\\begin{split}\n",
    "\\frac{d}{dx} f(x) & = \\frac{d}{dx} \\frac{1}{x} \\\\ \\\\\n",
    " & = \\frac{d}{dx} x^{-1} \\\\ \\\\\n",
    " & = (-1) \\cdot x^{-1 - 1} \\\\ \\\\\n",
    " & = - x^{-2} \\\\ \\\\\n",
    "\\end{split}\n",
    "$$"
   ]
  },
  {
   "cell_type": "markdown",
   "id": "c891255d-8b0d-4c48-af28-105a35d8803f",
   "metadata": {},
   "source": [
    "Derivada de la inversa de una función\n",
    "---"
   ]
  },
  {
   "cell_type": "markdown",
   "id": "0df18401-0dc7-422e-b260-87024ff9d4ab",
   "metadata": {},
   "source": [
    "* Función:\n",
    "$$\n",
    "y = f(x)\n",
    "$$\n",
    "\n",
    "* Función inversa:\n",
    "$$\n",
    "g(y) = x\n",
    "$$\n",
    "\n",
    "* Por definición:\n",
    "$$\n",
    "g(f(x)) = x\n",
    "$$\n",
    "\n",
    "* Derivada:\n",
    "$$\n",
    "g'(y) = \\frac{1}{f'(x)}\n",
    "$$"
   ]
  },
  {
   "cell_type": "markdown",
   "id": "6b632f26-af84-4d37-a310-7a11e381d4ea",
   "metadata": {},
   "source": [
    "Derivada de funciones trigonométricas\n",
    "---"
   ]
  },
  {
   "cell_type": "markdown",
   "id": "2028a302-7bf1-4a6d-a330-d330d8ec6857",
   "metadata": {},
   "source": [
    "* $f(x) = \\sin(x)$,  $f'(x) = \\cos(x)$\n",
    "\n",
    "* $f(x) = \\cos(x)$,  $f'(x) = - \\sin(x)$"
   ]
  },
  {
   "cell_type": "markdown",
   "id": "fa7c74bc-2948-45ab-aca2-bd9f6b621ce1",
   "metadata": {},
   "source": [
    "Derivada de $e^x$ y $\\log (x)$\n",
    "--"
   ]
  },
  {
   "cell_type": "markdown",
   "id": "260ed25b-2ed6-419e-ae27-24bd97660404",
   "metadata": {},
   "source": [
    "$$\\frac{d}{dx} \\exp (x) = \\exp(x)$$"
   ]
  },
  {
   "cell_type": "markdown",
   "id": "2ea2f5a5-7602-4940-9c1d-798a396ddaa5",
   "metadata": {},
   "source": [
    "$$\n",
    "\\frac{d}{dx} \\log(x) = \\frac{1}{x}\n",
    "$$"
   ]
  }
 ],
 "metadata": {
  "kernelspec": {
   "display_name": "Python 3 (ipykernel)",
   "language": "python",
   "name": "python3"
  },
  "language_info": {
   "codemirror_mode": {
    "name": "ipython",
    "version": 3
   },
   "file_extension": ".py",
   "mimetype": "text/x-python",
   "name": "python",
   "nbconvert_exporter": "python",
   "pygments_lexer": "ipython3",
   "version": "3.9.6"
  }
 },
 "nbformat": 4,
 "nbformat_minor": 5
}
