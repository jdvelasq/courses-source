{
 "cells": [
  {
   "cell_type": "markdown",
   "id": "bd65bffc-4fa7-4fe1-a1fe-3c6e0a3b0aba",
   "metadata": {
    "toc-hr-collapsed": false
   },
   "source": [
    "Aprendizaje Minibatch\n",
    "==="
   ]
  },
  {
   "cell_type": "markdown",
   "id": "fbb31f8c-4382-42c9-8223-e5ecb7f60c7a",
   "metadata": {},
   "source": [
    "Definición del problema de estimación de parámetros y función de pérdida\n",
    "---"
   ]
  },
  {
   "cell_type": "markdown",
   "id": "b8c4b016-9a68-4b22-a4d2-017f6186e304",
   "metadata": {},
   "source": [
    "Se desean encontra los parámetros $w_0$ y $w_1$ del siguiente modelo de regresión entre las variables $x$ y $y$:\n",
    "\n",
    "$$y_i = w_1 x_i + w_0 + e_i$$\n",
    "\n",
    "a partir de un conjunto de observaciones $\\{d_i, x_i\\}$, donde $d_i$ es el valor real (observado), $y_i$ es su aproximación usando el modelo de regresión descrito, y $e_i$ es el error."
   ]
  },
  {
   "cell_type": "markdown",
   "id": "5f0e5b74-3173-4789-8420-68504b5db338",
   "metadata": {},
   "source": [
    "* Error instantáneo:\n",
    "\n",
    "$$\n",
    "e_i = d_i - y_i\n",
    "$$\n",
    "\n",
    "* Sumatoria del error cuadrático instantáneo:\n",
    "\n",
    "$$\n",
    "\\begin{split}\n",
    "\\text{SSE}(w_0, w_1) & = \\sum_i (d_i - y_i)^2 \\\\\n",
    "    & =  \\sum_i e_i^2\n",
    "\\end{split}\n",
    "$$\n"
   ]
  },
  {
   "cell_type": "markdown",
   "id": "28cd11cf-f3e8-48c5-a6c4-39a13da4b353",
   "metadata": {},
   "source": [
    "Método del gradiente\n",
    "---"
   ]
  },
  {
   "cell_type": "markdown",
   "id": "117744c5-50aa-4ad8-90e4-5dfd95625b59",
   "metadata": {},
   "source": [
    "* Aprendizaje Online:\n",
    "\n",
    "$$\n",
    "\\mathbf{w}_k = \\mathbf{w}_{k-1} - \\mu \\left( \\frac{\\partial}{\\partial \\mathbf{w}}  e_i^2 \\right)\n",
    "$$\n",
    "\n",
    "\n",
    "* Aprendizaje Batch:\n",
    "\n",
    "$$\n",
    "\\begin{split}\n",
    "\\mathbf{w}_k \n",
    "  & = \\mathbf{w}_{k-1} - \\mu \\sum_i  \\left( \\frac{\\partial}{\\partial \\mathbf{w}} e_i^2 \\right)\n",
    "\\end{split}\n",
    "$$"
   ]
  },
  {
   "cell_type": "markdown",
   "id": "eea1b0bb-ad86-4d87-8a5b-62f9013f4b8f",
   "metadata": {},
   "source": [
    "Minibatch\n",
    "---"
   ]
  },
  {
   "cell_type": "markdown",
   "id": "1c49318e-5cf6-49cd-8f5a-9ff1cc4c36c8",
   "metadata": {},
   "source": [
    "Para conjuntos de datos muy grandes el aprendizaje batch es muy costoso computacionalmente ya que deben recorrerse todos los datos, mientras que el aprendizaje online es muy lento en converger. Es en este caso, donde se toma un punto intermedio: \n",
    "\n",
    "* El conjunto de datos se divide en varios subconjuntos.\n",
    "\n",
    "* Se ordenan aleatoriamente los subconjuntos de datos y luego se recorren uno a uno, tal como en el caso del gradiente descendente estocástico.\n",
    "\n",
    "* Para el subconjunto actual, se computa el gradiente neto (tal como en el caso del aprendizaje batch) y se corrigen los parámetros.\n",
    "\n",
    "* Se repite nuevamente el proceso hasta que el algoritmo converga."
   ]
  },
  {
   "cell_type": "markdown",
   "id": "cd28da6f-e3ad-4c21-ad6c-570330f04d47",
   "metadata": {},
   "source": [
    "Implementación\n",
    "---"
   ]
  },
  {
   "cell_type": "code",
   "execution_count": 1,
   "id": "56e9ecff-a264-42d2-9bc7-5568f1791f91",
   "metadata": {},
   "outputs": [],
   "source": [
    "import matplotlib.pyplot as plt\n",
    "import numpy as np\n",
    "from matplotlib import cm"
   ]
  },
  {
   "cell_type": "code",
   "execution_count": 2,
   "id": "9b2e7962-ae5c-47ed-a5be-a1aa30d4e8a3",
   "metadata": {},
   "outputs": [],
   "source": [
    "#\n",
    "# Dataset\n",
    "#\n",
    "x_sample = [\n",
    "    0.1087,\n",
    "    0.2698,\n",
    "    0.3765,\n",
    "    0.2146,\n",
    "    0.9155,\n",
    "    0.0246,\n",
    "    0.0221,\n",
    "    0.8632,\n",
    "    0.6460,\n",
    "    0.2092,\n",
    "    0.8567,\n",
    "    0.1591,\n",
    "    0.9647,\n",
    "    0.6231,\n",
    "    0.7460,\n",
    "    0.3654,\n",
    "    0.3065,\n",
    "    0.6886,\n",
    "    0.4966,\n",
    "    0.2008,\n",
    "    0.2618,\n",
    "    0.7607,\n",
    "    0.1563,\n",
    "    0.4424,\n",
    "    0.7731,\n",
    "]\n",
    "\n",
    "y_sample = [\n",
    "    0.9519,\n",
    "    1.1237,\n",
    "    1.2360,\n",
    "    1.0526,\n",
    "    2.0743,\n",
    "    0.7906,\n",
    "    0.7603,\n",
    "    2.0533,\n",
    "    1.6887,\n",
    "    1.0563,\n",
    "    2.0991,\n",
    "    0.8953,\n",
    "    2.1917,\n",
    "    1.6266,\n",
    "    1.8508,\n",
    "    1.2828,\n",
    "    1.2283,\n",
    "    1.8722,\n",
    "    1.4657,\n",
    "    1.0418,\n",
    "    1.1097,\n",
    "    1.7826,\n",
    "    0.9711,\n",
    "    1.4267,\n",
    "    1.8248,\n",
    "]"
   ]
  },
  {
   "cell_type": "code",
   "execution_count": 3,
   "id": "04e4dd7d-c75b-4f3b-aa1a-0bd3ca7f1767",
   "metadata": {},
   "outputs": [],
   "source": [
    "#\n",
    "# Función auxiliar para computar el SSE\n",
    "#\n",
    "#\n",
    "# Sumatoria del error cuadrático o pérdida cuadrática\n",
    "#\n",
    "def sse(w0, w1):\n",
    "    y_forecasts = [w0 + w1 * x_value for x_value in x_sample]\n",
    "    errors = [y_true - y_forecast for y_true, y_forecast in zip(y_sample, y_forecasts)]\n",
    "    squared_errors = [error ** 2 for error in errors]\n",
    "    return sum(squared_errors)"
   ]
  },
  {
   "cell_type": "code",
   "execution_count": 4,
   "id": "ab784d7a-04f5-4d64-a7e8-d8d793aabbc9",
   "metadata": {},
   "outputs": [],
   "source": [
    "#\n",
    "# Función auxililar para graficar el contorno\n",
    "#\n",
    "def plot_contour():\n",
    "\n",
    "    W0 = np.linspace(0.0, 2.0, 50)\n",
    "    W1 = np.linspace(1.5, 3.2, 50)\n",
    "    W0, W1 = np.meshgrid(W0, W1)\n",
    "    F = sse(W0, W1)\n",
    "\n",
    "    levels = [0, 0.2, 0.5, 0.75, 1, 2, 3, 5, 10, 20, 40, 60, 80, 100, 120]\n",
    "\n",
    "    fig, ax = plt.subplots(figsize=(3.5, 3.5))\n",
    "\n",
    "    ax.set_aspect(\"equal\", \"box\")\n",
    "    ax.contourf(W0, W1, F, cmap=cm.Greys, levels=levels, alpha=0.8)\n",
    "    ax.contour(W0, W1, F, colors=\"gray\", levels=levels)\n",
    "    ax.grid()\n",
    "    ax.set_xlabel(\"w0\")\n",
    "    ax.set_ylabel(\"w1\")"
   ]
  },
  {
   "cell_type": "markdown",
   "id": "6686e2e2-c8f0-43f6-88f2-6b3824d86630",
   "metadata": {},
   "source": [
    "Cómputo del gradiente en el algoritmo minibatch y función de mejora\n",
    "---"
   ]
  },
  {
   "cell_type": "code",
   "execution_count": 5,
   "id": "8d069598-a65c-479c-b328-dfb01a7227bc",
   "metadata": {},
   "outputs": [],
   "source": [
    "#\n",
    "# Esta es el mismo computo que el empleado en el\n",
    "# método batch.\n",
    "#\n",
    "def gradient(w0, w1, indices):\n",
    "\n",
    "    x_batch = x_sample[indices]\n",
    "    y_batch = y_sample[indices]\n",
    "\n",
    "    y_forecasts = [w0 + w1 * x_value for x_value in x_batch]\n",
    "\n",
    "    errors = [y_true - y_forecast for y_true, y_forecast in zip(y_batch, y_forecasts)]\n",
    "\n",
    "    gradient_w0 = -2 * sum(errors)\n",
    "    gradient_w1 = -2 * sum([error * x_value for error, x_value in zip(errors, x_batch)])\n",
    "\n",
    "    return gradient_w0, gradient_w1"
   ]
  },
  {
   "cell_type": "code",
   "execution_count": 6,
   "id": "0abf3a06-388e-47f7-8042-5570a38141fd",
   "metadata": {},
   "outputs": [],
   "source": [
    "def improve(w0, w1, mu, indices):\n",
    "\n",
    "    gradient_w0, gradient_w1 = gradient(w0, w1, indices)\n",
    "\n",
    "    w0 = w0 - mu * gradient_w0\n",
    "    w1 = w1 - mu * gradient_w1\n",
    "\n",
    "    return w0, w1"
   ]
  },
  {
   "cell_type": "markdown",
   "id": "02e1919b-538b-4264-91a8-b34dbb9892c4",
   "metadata": {
    "tags": []
   },
   "source": [
    "Particionamiento de los grupos\n",
    "---"
   ]
  },
  {
   "cell_type": "code",
   "execution_count": 7,
   "id": "84ac9aca-bd5a-4668-8cc1-2fafe4c3fa52",
   "metadata": {},
   "outputs": [
    {
     "data": {
      "text/plain": [
       "[array([0, 1, 2, 3, 4]),\n",
       " array([5, 6, 7, 8, 9]),\n",
       " array([10, 11, 12, 13, 14]),\n",
       " array([15, 16, 17, 18, 19]),\n",
       " array([20, 21, 22, 23, 24])]"
      ]
     },
     "execution_count": 7,
     "metadata": {},
     "output_type": "execute_result"
    }
   ],
   "source": [
    "n_batches = 5\n",
    "batch_indices = np.array_split(np.array(range(len(x_sample))), n_batches)\n",
    "batch_indices"
   ]
  },
  {
   "cell_type": "markdown",
   "id": "3840462c-82b6-4ab3-ae47-a5a80168c9c0",
   "metadata": {},
   "source": [
    "Ejecución del algoritmo\n",
    "---"
   ]
  },
  {
   "cell_type": "code",
   "execution_count": 8,
   "id": "8b57b7b8-75ba-4848-b153-cd2abc1f031c",
   "metadata": {},
   "outputs": [
    {
     "name": "stdout",
     "output_type": "stream",
     "text": [
      " w0 = 0.6576\n",
      " w1 = 1.7088\n",
      "SSE = 0.1586\n",
      "\n"
     ]
    },
    {
     "data": {
      "image/png": "[encoded data removed]",
      "text/plain": [
       "<Figure size 350x350 with 1 Axes>"
      ]
     },
     "metadata": {},
     "output_type": "display_data"
    }
   ],
   "source": [
    "#\n",
    "# Punto de inicio\n",
    "#\n",
    "w0 = 0.5\n",
    "w1 = 3.0\n",
    "\n",
    "history = {\n",
    "    \"w0\": [w0],\n",
    "    \"w1\": [w1],\n",
    "    \"sse\": [sse(w0, w1)],\n",
    "}\n",
    "\n",
    "mu = 0.05\n",
    "\n",
    "x_sample = np.array(x_sample)\n",
    "y_sample = np.array(y_sample)\n",
    "\n",
    "for epoch in range(10):\n",
    "\n",
    "    for i_group in np.random.choice(n_batches, n_batches, replace=False):\n",
    "\n",
    "        indices = list(batch_indices[i_group])\n",
    "\n",
    "        w0, w1 = improve(w0, w1, mu, indices)\n",
    "\n",
    "        history[\"w0\"].append(w0)\n",
    "        history[\"w1\"].append(w1)\n",
    "        history[\"sse\"].append(sse(w0, w1))\n",
    "\n",
    "print(\" w0 = {:6.4f}\\n w1 = {:6.4f}\\nSSE = {:6.4f}\\n\".format(w0, w1, sse(w0, w1)))\n",
    "\n",
    "plot_contour()\n",
    "plt.plot(history[\"w0\"], history[\"w1\"], marker=\".\", color=\"black\")\n",
    "plt.show()"
   ]
  },
  {
   "cell_type": "code",
   "execution_count": 9,
   "id": "4f2ab7bd-215d-4796-a4f1-a3922173d851",
   "metadata": {
    "tags": []
   },
   "outputs": [
    {
     "data": {
      "image/png": "[encoded data removed]",
      "text/plain": [
       "<Figure size 1000x350 with 1 Axes>"
      ]
     },
     "metadata": {},
     "output_type": "display_data"
    }
   ],
   "source": [
    "plt.figure(figsize=(10, 3.5))\n",
    "plt.plot(history[\"sse\"], \".-k\")\n",
    "plt.xlabel(\"Iteraciones\")\n",
    "plt.ylabel(\"SSE(w0, w1)\")\n",
    "plt.show()"
   ]
  }
 ],
 "metadata": {
  "kernelspec": {
   "display_name": "Python 3 (ipykernel)",
   "language": "python",
   "name": "python3"
  },
  "language_info": {
   "codemirror_mode": {
    "name": "ipython",
    "version": 3
   },
   "file_extension": ".py",
   "mimetype": "text/x-python",
   "name": "python",
   "nbconvert_exporter": "python",
   "pygments_lexer": "ipython3",
   "version": "3.9.6"
  },
  "vscode": {
   "interpreter": {
    "hash": "2482a4565599eda3cd2db35331af39775c1f78a505a9deef48c721423040da5b"
   }
  }
 },
 "nbformat": 4,
 "nbformat_minor": 5
}
