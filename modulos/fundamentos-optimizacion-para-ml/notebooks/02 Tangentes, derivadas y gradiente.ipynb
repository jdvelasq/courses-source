{
 "cells": [
  {
   "cell_type": "markdown",
   "id": "bdcb4c8c-b747-4b02-8c61-47a70f157e1a",
   "metadata": {},
   "source": [
    "Tangentes, derivadas y gradiente\n",
    "==="
   ]
  },
  {
   "cell_type": "markdown",
   "id": "f079f057-9d0d-4486-8351-c041e8f4e418",
   "metadata": {},
   "source": [
    "Pendiente entre dos puntos de una función\n",
    "---"
   ]
  },
  {
   "cell_type": "markdown",
   "id": "b58c69ba-956b-4b4a-8819-e9ed720cd83f",
   "metadata": {},
   "source": [
    "![pendiente](assets/pendiente.jpg)"
   ]
  },
  {
   "cell_type": "markdown",
   "id": "c30b1dbf-c499-4dd1-9ef9-19b5a6ea0267",
   "metadata": {},
   "source": [
    "La pendiente entre los puntos $x_k$ y $x_{k+1}$ es:\n",
    "\n",
    "$$\n",
    "\\begin{split}\n",
    "m & = \\frac{y_{k+1} - y_k}{x_{k+1} - x_k} \\\\ \\\\\n",
    "  & = \\frac{f(x_{k+1}) - f(x_k)}{x_{k+1} - x_k} \n",
    "\\end{split}\n",
    "$$"
   ]
  },
  {
   "cell_type": "markdown",
   "id": "18255a2a-c610-41a6-9e8e-d69eb2e3505c",
   "metadata": {},
   "source": [
    "Si se tiene en cuenta que $\\Delta x = x_{k+1} - x_k$ y   $x_{k+1} = x_k + \\Delta x$, entonces:"
   ]
  },
  {
   "cell_type": "markdown",
   "id": "c3be7158-fa1e-43ea-a9c8-4cfbaa2c802c",
   "metadata": {},
   "source": [
    "$$\n",
    "\\begin{split}\n",
    "m & = \\frac{f(x_{k+1}) - f(x_k)}{x_{k+1} - x_k} \\\\\n",
    "  \\\\\n",
    "  & = \\frac{f(x_k + \\Delta x) - f(x_k)}{\\Delta x} \\\\\n",
    "\\end{split}\n",
    "$$"
   ]
  },
  {
   "cell_type": "markdown",
   "id": "3ebfed4d-3fb5-4200-a7b9-3cb41c677844",
   "metadata": {},
   "source": [
    "Concepto de derivada\n",
    "---"
   ]
  },
  {
   "cell_type": "markdown",
   "id": "6bab3f04-5fa7-4a7d-840f-40b4caf48185",
   "metadata": {},
   "source": [
    "Se obtiene al hacer $\\Delta x$ tienda a cero. De esta forma, la línea roja se hace tangente a la función $f(x)$ en el punto $x_k$."
   ]
  },
  {
   "cell_type": "markdown",
   "id": "c6a4f39f-b6c5-46a8-a664-610f7ee46d37",
   "metadata": {},
   "source": [
    "![derivada](assets/derivada.jpg)"
   ]
  },
  {
   "cell_type": "markdown",
   "id": "b1b9a0bc-9f5b-4963-a000-920952e9d5bb",
   "metadata": {},
   "source": [
    "En términos matemáticos:\n",
    "\n",
    "$$\n",
    "\\frac{d}{dx} f(x_k) = \\lim_{\\Delta x \\to 0} \\frac{f(x_k + \\Delta x) - f(x_k)}{\\Delta x}\n",
    "$$"
   ]
  },
  {
   "cell_type": "markdown",
   "id": "cd1e3b8a-50a9-4838-b7fe-82f897410742",
   "metadata": {},
   "source": [
    "y por tanto, la derivada es la pendiente de la recta tangente a $f(x)$ en el punto $x$."
   ]
  },
  {
   "cell_type": "markdown",
   "id": "81235a01-e919-42bd-bfe9-c6493309f709",
   "metadata": {},
   "source": [
    "Notación\n",
    "---"
   ]
  },
  {
   "cell_type": "markdown",
   "id": "90a96497-32cd-4d15-8c4b-2834cb3d1cef",
   "metadata": {},
   "source": [
    "![assets/notacion-derivada.png](assets/notacion-derivada.png)"
   ]
  },
  {
   "cell_type": "markdown",
   "id": "82c959b3-727d-4aba-8066-c4172e46849e",
   "metadata": {},
   "source": [
    "Signo de la derivada para distintas formas de f(x)\n",
    "---"
   ]
  },
  {
   "cell_type": "markdown",
   "id": "7859ecf4-cf1a-4e1c-ba6f-50e1d4e172c7",
   "metadata": {},
   "source": [
    "En la siguiente figura se consideran varias formas de $f(x)$ y se desea determinar el signo de la derivada en un punto $x$."
   ]
  },
  {
   "cell_type": "markdown",
   "id": "e6ad28fb-5f13-46ab-9e7c-fd4cb0e76cf4",
   "metadata": {},
   "source": [
    "![dev4](assets/derivada-4-cuadrantes.jpg)"
   ]
  },
  {
   "cell_type": "markdown",
   "id": "729bb53a-b2e8-4159-96ab-c2506a783e75",
   "metadata": {},
   "source": [
    "Dirección de $x + \\Delta x$ si $\\Delta x$ tiene el mismo signo de la derivada \n",
    "---"
   ]
  },
  {
   "cell_type": "markdown",
   "id": "a3be594d-b1b4-49e1-b983-01e8ce17fff8",
   "metadata": {},
   "source": [
    "Si a $x$ se le suma un valor $\\Delta x$ que tiene el mismo signo de la derivada, $x$ se moverá en la dirección del crecimiento de la función. Este es el gradiente de la función."
   ]
  },
  {
   "cell_type": "markdown",
   "id": "31beb223-dd1b-4757-a10f-87d41b9fbb50",
   "metadata": {},
   "source": [
    "![dev5](assets/direccion-gradiente.jpg)"
   ]
  },
  {
   "cell_type": "markdown",
   "id": "3a4acb4a-4a57-4882-a426-fcb46377b60a",
   "metadata": {},
   "source": [
    "Derivada y puntos de máxima y mínima\n",
    "---"
   ]
  },
  {
   "cell_type": "markdown",
   "id": "c381dab4-3db3-4177-8223-3251d1eee4df",
   "metadata": {},
   "source": [
    "![assets/maximo_y_minimo_local.png](assets/maximo_y_minimo_local.png)"
   ]
  }
 ],
 "metadata": {
  "kernelspec": {
   "display_name": "Python 3 (ipykernel)",
   "language": "python",
   "name": "python3"
  },
  "language_info": {
   "codemirror_mode": {
    "name": "ipython",
    "version": 3
   },
   "file_extension": ".py",
   "mimetype": "text/x-python",
   "name": "python",
   "nbconvert_exporter": "python",
   "pygments_lexer": "ipython3",
   "version": "3.9.6"
  }
 },
 "nbformat": 4,
 "nbformat_minor": 5
}
