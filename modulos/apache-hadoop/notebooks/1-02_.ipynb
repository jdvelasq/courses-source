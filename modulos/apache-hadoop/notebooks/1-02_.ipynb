{
 "cells": [
  {
   "cell_type": "markdown",
   "metadata": {},
   "source": [
    "Ejecución de una instancia de Hadoop en Docker\n",
    "===\n",
    "\n",
    "* Última modificación: Mayo 13, 2022"
   ]
  },
  {
   "cell_type": "markdown",
   "metadata": {},
   "source": [
    "En esta lección se explica como tener acceso a contendor de Docker que ejecuta Apache Hadoop."
   ]
  },
  {
   "cell_type": "markdown",
   "metadata": {},
   "source": [
    "Creación del contendor\n",
    "---"
   ]
  },
  {
   "cell_type": "markdown",
   "metadata": {},
   "source": [
    "En el Terminal ejecute el siguiente comando:\n",
    "\n",
    "```bash\n",
    "$ docker run --rm -it -v \"$PWD\":/workspace --name hadoop -p 8888:8888 -p 50070:50070 -p 8088:8088 jdvelasq/hadoop:2.8.5\n",
    "```\n",
    "\n",
    "Como resultado debe ver el siguiente mensaje:\n",
    "\n",
    "```\n",
    "======================================\n",
    "\n",
    "Hadoop NameNode at:\n",
    "\n",
    "    http://127.0.0.1:50070/\n",
    "\n",
    "Yarn ResourceManager at:\n",
    "\n",
    "     http://127.0.0.1:8088/\n",
    "\n",
    "======================================\n",
    "```"
   ]
  },
  {
   "cell_type": "markdown",
   "metadata": {},
   "source": [
    "Verificación de que Hadoop esta ejecutandose correctamente\n",
    "--"
   ]
  },
  {
   "cell_type": "markdown",
   "metadata": {},
   "source": [
    "Para verificar que Hadoop se está ejecutando correctamente abra las siguiente direcciones en un explorador de internet:\n",
    "\n",
    "* http://127.0.0.1:50070/\n",
    "\n",
    "\n",
    "* http://127.0.0.1:8088/\n",
    "\n",
    "Como resultado debe poder ver las siguientes páginas:"
   ]
  },
  {
   "cell_type": "markdown",
   "metadata": {},
   "source": [
    "![assets/hadoop-00001.png](assets/hadoop-00001.png)"
   ]
  },
  {
   "cell_type": "markdown",
   "metadata": {},
   "source": [
    "![assets/hadoop-00002.png](assets/hadoop-00002.png)"
   ]
  },
  {
   "cell_type": "markdown",
   "metadata": {},
   "source": [
    "Salida del contendor\n",
    "---"
   ]
  },
  {
   "cell_type": "markdown",
   "metadata": {},
   "source": [
    "Para salir del contendor use:\n",
    "\n",
    "```bash\n",
    "$ exit\n",
    "```"
   ]
  }
 ],
 "metadata": {
  "kernelspec": {
   "display_name": "Python 3 (ipykernel)",
   "language": "python",
   "name": "python3"
  },
  "language_info": {
   "codemirror_mode": {
    "name": "ipython",
    "version": 3
   },
   "file_extension": ".py",
   "mimetype": "text/x-python",
   "name": "python",
   "nbconvert_exporter": "python",
   "pygments_lexer": "ipython3",
   "version": "3.8.10"
  }
 },
 "nbformat": 4,
 "nbformat_minor": 4
}
