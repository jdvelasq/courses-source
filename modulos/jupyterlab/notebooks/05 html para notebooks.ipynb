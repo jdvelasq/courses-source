{
 "cells": [
  {
   "cell_type": "markdown",
   "metadata": {},
   "source": [
    "HTML para notebooks\n",
    "===\n",
    "\n",
    "* *60 min* | Última modificación: Junio 22, 2019."
   ]
  },
  {
   "cell_type": "markdown",
   "metadata": {},
   "source": [
    "## Introducción\n",
    "\n",
    "* El formato de un libro de Jupyter se realiza usando Markdown. \n",
    "\n",
    "\n",
    "* La sintaxis explicada en este documento se aplica a los documentos creados en RStudio usando RMarkdown. \n",
    "\n",
    "\n",
    "* Haga click [aquí](https://daringfireball.net/projects/markdown/basics) para acceder a una guía de markdown y [aquí](http://jupyter-notebook.readthedocs.org/en/latest/examples/Notebook/rstversions/Working%20With%20Markdown%20Cells.html) a la documentación oficial sobre markdown en Jupyter. \n",
    "\n",
    "\n",
    "* IPython tiene opciones para visualizar salidas en latex y html (entre otros). Haga click [aquí](https://github.com/ipython/ipython-in-depth/blob/1905adca735c567884c5db8c1b6295b0e1d7a218/examples/IPython%20Kernel/Rich%20Output.ipynb) para acceder a un tutorial. \n",
    "\n",
    "\n",
    "* Los libros de Jupyter pueden visualizarse de forma estática en la web usando [nbviewer](http://nbviewer.jupyter.org)\n",
    "\n",
    "\n",
    "* Un tutorial completo sobre HTML se encuentra en [w3Schools](http://www.w3schools.com)\n",
    "\n"
   ]
  },
  {
   "cell_type": "markdown",
   "metadata": {},
   "source": [
    "## Parágrafos, encabezados y citas"
   ]
  },
  {
   "cell_type": "code",
   "execution_count": 1,
   "metadata": {},
   "outputs": [
    {
     "data": {
      "text/html": [
       "\n",
       "<h1>Encabezado de primer nivel</h1>\n",
       "\n",
       "<h1 style=\"font-size:15px;\">Encabezado de primer nivel</h1>\n",
       "\n",
       "<h2>Encabezado de segundo nivel</h2>\n",
       "\n",
       "<h3>Encabezado de tercer nivel</h3>\n"
      ],
      "text/plain": [
       "<IPython.core.display.HTML object>"
      ]
     },
     "metadata": {},
     "output_type": "display_data"
    }
   ],
   "source": [
    "%%html\n",
    "\n",
    "<h1>Encabezado de primer nivel</h1>\n",
    "\n",
    "<h1 style=\"font-size:15px;\">Encabezado de primer nivel</h1>\n",
    "\n",
    "<h2>Encabezado de segundo nivel</h2>\n",
    "\n",
    "<h3>Encabezado de tercer nivel</h3>"
   ]
  },
  {
   "cell_type": "code",
   "execution_count": 2,
   "metadata": {},
   "outputs": [
    {
     "data": {
      "text/html": [
       "<p>Markdown es un lenguaje de marcado ligero creado por John Gruber que \n",
       "trata de conseguir la máxima legibilidad y facilidad de publicación \n",
       "tanto en sus forma de entrada como de salida, inspirándose en \n",
       "muchas convenciones existentes para marcar mensajes de correo \n",
       "electrónico usando texto plano. </p>\n",
       "\n",
       "<q>Markdown es un lenguaje de marcado ligero creado por John Gruber que \n",
       "trata de conseguir la máxima legibilidad y facilidad de publicación \n",
       "tanto en sus forma de entrada como de salida, inspirándose en \n",
       "muchas convenciones existentes para marcar mensajes de correo \n",
       "electrónico usando texto plano. </q>\n",
       "\n",
       "<blockquote>Markdown es un lenguaje de marcado ligero creado por John Gruber que \n",
       "trata de conseguir la máxima legibilidad y facilidad de publicación \n",
       "tanto en sus forma de entrada como de salida, inspirándose en \n",
       "muchas convenciones existentes para marcar mensajes de correo \n",
       "electrónico usando texto plano.\n",
       "</blockquote>\n",
       "\n",
       "<blockquote><div style=\"background-color:#DCDCDC; color:#000000; font-style: normal; font-family: Georgia;\">\n",
       "Markdown es un lenguaje de marcado ligero creado por John Gruber que \n",
       "trata de conseguir la máxima legibilidad y facilidad de publicación \n",
       "tanto en sus forma de entrada como de salida, inspirándose en \n",
       "muchas convenciones existentes para marcar mensajes de correo \n",
       "electrónico usando texto plano.\n",
       "</div></blockquote>\n"
      ],
      "text/plain": [
       "<IPython.core.display.HTML object>"
      ]
     },
     "metadata": {},
     "output_type": "display_data"
    }
   ],
   "source": [
    "%%html\n",
    "<p>Markdown es un lenguaje de marcado ligero creado por John Gruber que \n",
    "trata de conseguir la máxima legibilidad y facilidad de publicación \n",
    "tanto en sus forma de entrada como de salida, inspirándose en \n",
    "muchas convenciones existentes para marcar mensajes de correo \n",
    "electrónico usando texto plano. </p>\n",
    "\n",
    "<q>Markdown es un lenguaje de marcado ligero creado por John Gruber que \n",
    "trata de conseguir la máxima legibilidad y facilidad de publicación \n",
    "tanto en sus forma de entrada como de salida, inspirándose en \n",
    "muchas convenciones existentes para marcar mensajes de correo \n",
    "electrónico usando texto plano. </q>\n",
    "\n",
    "<blockquote>Markdown es un lenguaje de marcado ligero creado por John Gruber que \n",
    "trata de conseguir la máxima legibilidad y facilidad de publicación \n",
    "tanto en sus forma de entrada como de salida, inspirándose en \n",
    "muchas convenciones existentes para marcar mensajes de correo \n",
    "electrónico usando texto plano.\n",
    "</blockquote>\n",
    "\n",
    "<blockquote><div style=\"background-color:#DCDCDC; color:#000000; font-style: normal; font-family: Georgia;\">\n",
    "Markdown es un lenguaje de marcado ligero creado por John Gruber que \n",
    "trata de conseguir la máxima legibilidad y facilidad de publicación \n",
    "tanto en sus forma de entrada como de salida, inspirándose en \n",
    "muchas convenciones existentes para marcar mensajes de correo \n",
    "electrónico usando texto plano.\n",
    "</div></blockquote>\n"
   ]
  },
  {
   "cell_type": "code",
   "execution_count": 3,
   "metadata": {},
   "outputs": [
    {
     "data": {
      "text/html": [
       "<p style=\"color:red\">Texto en rojo</p>\n"
      ],
      "text/plain": [
       "<IPython.core.display.HTML object>"
      ]
     },
     "metadata": {},
     "output_type": "display_data"
    }
   ],
   "source": [
    "%%html\n",
    "<p style=\"color:red\">Texto en rojo</p>"
   ]
  },
  {
   "cell_type": "code",
   "execution_count": 4,
   "metadata": {},
   "outputs": [
    {
     "data": {
      "text/html": [
       "<p title=\"--> tooltip <--\">\n",
       "Parrafo con tooltip.\n",
       "</p>\n"
      ],
      "text/plain": [
       "<IPython.core.display.HTML object>"
      ]
     },
     "metadata": {},
     "output_type": "display_data"
    }
   ],
   "source": [
    "%%html\n",
    "<p title=\"--> tooltip <--\">\n",
    "Parrafo con tooltip.\n",
    "</p>"
   ]
  },
  {
   "cell_type": "code",
   "execution_count": 5,
   "metadata": {},
   "outputs": [
    {
     "data": {
      "text/html": [
       "<pre>\n",
       "texto de ancho fijo\n",
       "texto de ancho fijo\n",
       "texto de ancho fijo\n",
       "</pre>\n"
      ],
      "text/plain": [
       "<IPython.core.display.HTML object>"
      ]
     },
     "metadata": {},
     "output_type": "display_data"
    }
   ],
   "source": [
    "%%html\n",
    "<pre>\n",
    "texto de ancho fijo\n",
    "texto de ancho fijo\n",
    "texto de ancho fijo\n",
    "</pre>"
   ]
  },
  {
   "cell_type": "code",
   "execution_count": 6,
   "metadata": {},
   "outputs": [
    {
     "data": {
      "text/html": [
       "<p style=\"background-color:powderblue;\">\n",
       "Markdown es un lenguaje de marcado ligero creado por John Gruber que \n",
       "trata de conseguir la máxima legibilidad y facilidad de publicación \n",
       "tanto en sus forma de entrada como de salida, inspirándose en \n",
       "muchas convenciones existentes para marcar mensajes de correo \n",
       "electrónico usando texto plano. \n",
       "</p>\n"
      ],
      "text/plain": [
       "<IPython.core.display.HTML object>"
      ]
     },
     "metadata": {},
     "output_type": "display_data"
    }
   ],
   "source": [
    "%%html\n",
    "<p style=\"background-color:powderblue;\">\n",
    "Markdown es un lenguaje de marcado ligero creado por John Gruber que \n",
    "trata de conseguir la máxima legibilidad y facilidad de publicación \n",
    "tanto en sus forma de entrada como de salida, inspirándose en \n",
    "muchas convenciones existentes para marcar mensajes de correo \n",
    "electrónico usando texto plano. \n",
    "</p>"
   ]
  },
  {
   "cell_type": "code",
   "execution_count": 7,
   "metadata": {},
   "outputs": [
    {
     "data": {
      "text/html": [
       "<p style=\"font-family:verdana;>\n",
       "Markdown es un lenguaje de marcado ligero creado por John Gruber que \n",
       "trata de conseguir la máxima legibilidad y facilidad de publicación \n",
       "tanto en sus forma de entrada como de salida, inspirándose en \n",
       "muchas convenciones existentes para marcar mensajes de correo \n",
       "electrónico usando texto plano. \n",
       "</p>\n"
      ],
      "text/plain": [
       "<IPython.core.display.HTML object>"
      ]
     },
     "metadata": {},
     "output_type": "display_data"
    }
   ],
   "source": [
    "%%html\n",
    "<p style=\"font-family:verdana;>\n",
    "Markdown es un lenguaje de marcado ligero creado por John Gruber que \n",
    "trata de conseguir la máxima legibilidad y facilidad de publicación \n",
    "tanto en sus forma de entrada como de salida, inspirándose en \n",
    "muchas convenciones existentes para marcar mensajes de correo \n",
    "electrónico usando texto plano. \n",
    "</p>"
   ]
  },
  {
   "cell_type": "code",
   "execution_count": 8,
   "metadata": {},
   "outputs": [
    {
     "data": {
      "text/html": [
       "<p style=\"font-size:80%;\">\n",
       "Markdown es un lenguaje de marcado ligero creado por John Gruber que \n",
       "trata de conseguir la máxima legibilidad y facilidad de publicación \n",
       "tanto en sus forma de entrada como de salida, inspirándose en \n",
       "muchas convenciones existentes para marcar mensajes de correo \n",
       "electrónico usando texto plano. \n",
       "</p>\n"
      ],
      "text/plain": [
       "<IPython.core.display.HTML object>"
      ]
     },
     "metadata": {},
     "output_type": "display_data"
    }
   ],
   "source": [
    "%%html\n",
    "<p style=\"font-size:80%;\">\n",
    "Markdown es un lenguaje de marcado ligero creado por John Gruber que \n",
    "trata de conseguir la máxima legibilidad y facilidad de publicación \n",
    "tanto en sus forma de entrada como de salida, inspirándose en \n",
    "muchas convenciones existentes para marcar mensajes de correo \n",
    "electrónico usando texto plano. \n",
    "</p>"
   ]
  },
  {
   "cell_type": "markdown",
   "metadata": {},
   "source": [
    "## Enfasis"
   ]
  },
  {
   "cell_type": "code",
   "execution_count": 9,
   "metadata": {},
   "outputs": [
    {
     "data": {
      "text/html": [
       "<p>Algunas de estas palabras son <em>enfatizadas</em>.</p>\n",
       "\n",
       "<p>Algunas de estas palabras son <i>enfatizadas</i>.</p>\n",
       "\n",
       "<p>Algunas de estas palabras también son <em>enfatizadas</em>.</p>\n",
       "\n",
       "<p>Use dos asteriscos para <strong>énfasis fuerte</strong>.</p>\n",
       "\n",
       "<p>O si lo prefiere dos <strong>guiones bajos</strong>.</p>\n"
      ],
      "text/plain": [
       "<IPython.core.display.HTML object>"
      ]
     },
     "metadata": {},
     "output_type": "display_data"
    }
   ],
   "source": [
    "%%html\n",
    "<p>Algunas de estas palabras son <em>enfatizadas</em>.</p>\n",
    "\n",
    "<p>Algunas de estas palabras son <i>enfatizadas</i>.</p>\n",
    "\n",
    "<p>Algunas de estas palabras también son <em>enfatizadas</em>.</p>\n",
    "\n",
    "<p>Use dos asteriscos para <strong>énfasis fuerte</strong>.</p>\n",
    "\n",
    "<p>O si lo prefiere dos <strong>guiones bajos</strong>.</p>"
   ]
  },
  {
   "cell_type": "markdown",
   "metadata": {},
   "source": [
    "## Listas sin numeración"
   ]
  },
  {
   "cell_type": "code",
   "execution_count": 10,
   "metadata": {},
   "outputs": [
    {
     "data": {
      "text/html": [
       "<ul>     \n",
       "  <li>Uno</li>  \n",
       "  <li>Dos</li>   \n",
       "  <li>Tres</li> \n",
       "</ul>\n"
      ],
      "text/plain": [
       "<IPython.core.display.HTML object>"
      ]
     },
     "metadata": {},
     "output_type": "display_data"
    }
   ],
   "source": [
    "%%html\n",
    "<ul>     \n",
    "  <li>Uno</li>  \n",
    "  <li>Dos</li>   \n",
    "  <li>Tres</li> \n",
    "</ul>"
   ]
  },
  {
   "cell_type": "markdown",
   "metadata": {},
   "source": [
    "## Listas enumeradas"
   ]
  },
  {
   "cell_type": "code",
   "execution_count": 11,
   "metadata": {},
   "outputs": [
    {
     "data": {
      "text/html": [
       "<ol> \n",
       "  <li>Uno</li>  \n",
       "  <li>Dos</li>   \n",
       "  <li>Tres</li> \n",
       " </ol>\n"
      ],
      "text/plain": [
       "<IPython.core.display.HTML object>"
      ]
     },
     "metadata": {},
     "output_type": "display_data"
    }
   ],
   "source": [
    "%%html\n",
    "<ol> \n",
    "  <li>Uno</li>  \n",
    "  <li>Dos</li>   \n",
    "  <li>Tres</li> \n",
    " </ol>"
   ]
  },
  {
   "cell_type": "code",
   "execution_count": 12,
   "metadata": {},
   "outputs": [
    {
     "data": {
      "text/html": [
       "<ol>\n",
       "<li> <p>Uno </p>  <p>texto texto texto</p>  </li>\n",
       "<li> <p>Dos </p>  <p>texto texto texto</p>  </li>\n",
       "<li> <p>Tres</p>  <p>texto texto texto</p>  </li>\n",
       "</ol>\n"
      ],
      "text/plain": [
       "<IPython.core.display.HTML object>"
      ]
     },
     "metadata": {},
     "output_type": "display_data"
    }
   ],
   "source": [
    "%%html\n",
    "<ol>\n",
    "<li> <p>Uno </p>  <p>texto texto texto</p>  </li>\n",
    "<li> <p>Dos </p>  <p>texto texto texto</p>  </li>\n",
    "<li> <p>Tres</p>  <p>texto texto texto</p>  </li>\n",
    "</ol>"
   ]
  },
  {
   "cell_type": "code",
   "execution_count": 13,
   "metadata": {},
   "outputs": [
    {
     "data": {
      "text/html": [
       "<ol start=\"50\"> \n",
       "  <li>Uno</li>  \n",
       "  <li>Dos</li>   \n",
       "  <li>Tres</li> \n",
       " </ol>\n"
      ],
      "text/plain": [
       "<IPython.core.display.HTML object>"
      ]
     },
     "metadata": {},
     "output_type": "display_data"
    }
   ],
   "source": [
    "%%html\n",
    "<ol start=\"50\"> \n",
    "  <li>Uno</li>  \n",
    "  <li>Dos</li>   \n",
    "  <li>Tres</li> \n",
    " </ol>"
   ]
  },
  {
   "cell_type": "markdown",
   "metadata": {},
   "source": [
    "## Listas tipo diccionario"
   ]
  },
  {
   "cell_type": "code",
   "execution_count": 14,
   "metadata": {},
   "outputs": [
    {
     "data": {
      "text/html": [
       "<dl>\n",
       "  <dt>Coffee</dt>\n",
       "  <dd>Black hot drink</dd>\n",
       "  <dt>Milk</dt>\n",
       "  <dd>White cold drink</dd>\n",
       "</dl>\n"
      ],
      "text/plain": [
       "<IPython.core.display.HTML object>"
      ]
     },
     "metadata": {},
     "output_type": "display_data"
    }
   ],
   "source": [
    "%%html\n",
    "<dl>\n",
    "  <dt>Coffee</dt>\n",
    "  <dd>Black hot drink</dd>\n",
    "  <dt>Milk</dt>\n",
    "  <dd>White cold drink</dd>\n",
    "</dl>"
   ]
  },
  {
   "cell_type": "markdown",
   "metadata": {},
   "source": [
    "## Vínculos"
   ]
  },
  {
   "cell_type": "code",
   "execution_count": 15,
   "metadata": {},
   "outputs": [
    {
     "data": {
      "text/html": [
       "<p>Este es un vínculo a <a href=\"http://www.google.com\">GOOGLE</a>.</p>\n"
      ],
      "text/plain": [
       "<IPython.core.display.HTML object>"
      ]
     },
     "metadata": {},
     "output_type": "display_data"
    }
   ],
   "source": [
    "%%html\n",
    "<p>Este es un vínculo a <a href=\"http://www.google.com\">GOOGLE</a>.</p>"
   ]
  },
  {
   "cell_type": "code",
   "execution_count": 16,
   "metadata": {},
   "outputs": [
    {
     "data": {
      "text/html": [
       "<footer>\n",
       "  <p>Autor: Juan David Velasquez</p>\n",
       "  <p>Correo: <a href=\"mailto:jdvelasq@unal.edu.co\">\n",
       "  jdvelasq@unal.edu.co</a>.</p>\n",
       "</footer>\n"
      ],
      "text/plain": [
       "<IPython.core.display.HTML object>"
      ]
     },
     "metadata": {},
     "output_type": "display_data"
    }
   ],
   "source": [
    "%%html\n",
    "<footer>\n",
    "  <p>Autor: Juan David Velasquez</p>\n",
    "  <p>Correo: <a href=\"mailto:jdvelasq@unal.edu.co\">\n",
    "  jdvelasq@unal.edu.co</a>.</p>\n",
    "</footer>"
   ]
  },
  {
   "cell_type": "code",
   "execution_count": 17,
   "metadata": {},
   "outputs": [
    {
     "data": {
      "text/html": [
       "<nav>\n",
       "  <a href=\"/html/\">HTML</a> |\n",
       "  <a href=\"/css/\">CSS</a> |\n",
       "  <a href=\"/js/\">JavaScript</a> |\n",
       "  <a href=\"/jquery/\">jQuery</a>\n",
       "</nav>\n"
      ],
      "text/plain": [
       "<IPython.core.display.HTML object>"
      ]
     },
     "metadata": {},
     "output_type": "display_data"
    }
   ],
   "source": [
    "%%html\n",
    "<nav>\n",
    "  <a href=\"/html/\">HTML</a> |\n",
    "  <a href=\"/css/\">CSS</a> |\n",
    "  <a href=\"/js/\">JavaScript</a> |\n",
    "  <a href=\"/jquery/\">jQuery</a>\n",
    "</nav>"
   ]
  },
  {
   "cell_type": "code",
   "execution_count": 18,
   "metadata": {},
   "outputs": [
    {
     "data": {
      "text/html": [
       "<p>The <abbr title=\"World Health Organization\">WHO</abbr> was founded in 1948.</p>\n"
      ],
      "text/plain": [
       "<IPython.core.display.HTML object>"
      ]
     },
     "metadata": {},
     "output_type": "display_data"
    }
   ],
   "source": [
    "%%html\n",
    "<p>The <abbr title=\"World Health Organization\">WHO</abbr> was founded in 1948.</p>"
   ]
  },
  {
   "cell_type": "markdown",
   "metadata": {},
   "source": [
    "## Vínculos tipo referencia "
   ]
  },
  {
   "cell_type": "code",
   "execution_count": 19,
   "metadata": {},
   "outputs": [
    {
     "data": {
      "text/html": [
       "<p>Estos son vinculos referenciados a <a href=\"https://www.continuum.io\" title=\"Anaconda\">Continuum Analytics</a> y <a href=\"https://www.python.org \" title=\"Python\"> Python Software Fundation</a>. <p>\n"
      ],
      "text/plain": [
       "<IPython.core.display.HTML object>"
      ]
     },
     "metadata": {},
     "output_type": "display_data"
    }
   ],
   "source": [
    "%%html\n",
    "<p>Estos son vinculos referenciados a <a href=\"https://www.continuum.io\" title=\"Anaconda\">Continuum Analytics</a> y <a href=\"https://www.python.org \" title=\"Python\"> Python Software Fundation</a>. <p>"
   ]
  },
  {
   "cell_type": "code",
   "execution_count": 20,
   "metadata": {},
   "outputs": [
    {
     "data": {
      "text/html": [
       "Written by <a href=\"mailto:webmaster@example.com\">Jon Doe</a>.\n"
      ],
      "text/plain": [
       "<IPython.core.display.HTML object>"
      ]
     },
     "metadata": {},
     "output_type": "display_data"
    }
   ],
   "source": [
    "%%html\n",
    "Written by <a href=\"mailto:webmaster@example.com\">Jon Doe</a>."
   ]
  },
  {
   "cell_type": "markdown",
   "metadata": {},
   "source": [
    "## Imágenes"
   ]
  },
  {
   "cell_type": "code",
   "execution_count": 21,
   "metadata": {},
   "outputs": [
    {
     "data": {
      "text/html": [
       "<img src=\"assets/img_avatar1.png\" alt=\"assets/img_avatar1.png\" title=\"Titulo\" />  \n"
      ],
      "text/plain": [
       "<IPython.core.display.HTML object>"
      ]
     },
     "metadata": {},
     "output_type": "display_data"
    }
   ],
   "source": [
    "%%html\n",
    "<img src=\"assets/img_avatar1.png\" alt=\"assets/img_avatar1.png\" title=\"Titulo\" />  "
   ]
  },
  {
   "cell_type": "code",
   "execution_count": 22,
   "metadata": {},
   "outputs": [
    {
     "data": {
      "text/html": [
       "<img src=\"assets//img_avatar1.png\" alt=\"alt face\" height=\"150\" width=\"150\">\n"
      ],
      "text/plain": [
       "<IPython.core.display.HTML object>"
      ]
     },
     "metadata": {},
     "output_type": "display_data"
    }
   ],
   "source": [
    "%%html\n",
    "<img src=\"assets//img_avatar1.png\" alt=\"alt face\" height=\"150\" width=\"150\">"
   ]
  },
  {
   "cell_type": "markdown",
   "metadata": {},
   "source": [
    "## Código fuente y salida de programas"
   ]
  },
  {
   "cell_type": "code",
   "execution_count": 23,
   "metadata": {},
   "outputs": [
    {
     "data": {
      "text/html": [
       "<p>Se pueden crear bloques de código:</p>\n",
       "\n",
       "<code>\n",
       "    # agregar cuatro espacios al principio de linea\n",
       "    for (i = 1; i < 5; i++)\n",
       "    {\n",
       "        printf('%d', i)\n",
       "    }\n",
       "</code>\n",
       "\n",
       "O se puede colocar código en linea <code>cat out.1 out.2</code>.\n",
       "\n",
       "<samp>Sample output from a computer program</samp>\n"
      ],
      "text/plain": [
       "<IPython.core.display.HTML object>"
      ]
     },
     "metadata": {},
     "output_type": "display_data"
    }
   ],
   "source": [
    "%%html\n",
    "<p>Se pueden crear bloques de código:</p>\n",
    "\n",
    "<code>\n",
    "    # agregar cuatro espacios al principio de linea\n",
    "    for (i = 1; i < 5; i++)\n",
    "    {\n",
    "        printf('%d', i)\n",
    "    }\n",
    "</code>\n",
    "\n",
    "O se puede colocar código en linea <code>cat out.1 out.2</code>.\n",
    "\n",
    "<samp>Sample output from a computer program</samp>"
   ]
  },
  {
   "cell_type": "markdown",
   "metadata": {},
   "source": [
    "## Tablas"
   ]
  },
  {
   "cell_type": "code",
   "execution_count": 24,
   "metadata": {},
   "outputs": [
    {
     "data": {
      "text/html": [
       "<table>\n",
       "<tr>\n",
       "  <th>January <dialog open>This is an open dialog window</dialog></th>\n",
       "  <th>February</th>\n",
       "  <th>March</th>\n",
       "</tr>\n",
       "<tr>\n",
       "  <td>31</td>\n",
       "  <td>28</td>\n",
       "  <td>31</td>\n",
       "</tr>\n",
       "</table>\n"
      ],
      "text/plain": [
       "<IPython.core.display.HTML object>"
      ]
     },
     "metadata": {},
     "output_type": "display_data"
    }
   ],
   "source": [
    "%%html\n",
    "<table>\n",
    "<tr>\n",
    "  <th>January <dialog open>This is an open dialog window</dialog></th>\n",
    "  <th>February</th>\n",
    "  <th>March</th>\n",
    "</tr>\n",
    "<tr>\n",
    "  <td>31</td>\n",
    "  <td>28</td>\n",
    "  <td>31</td>\n",
    "</tr>\n",
    "</table>"
   ]
  },
  {
   "cell_type": "code",
   "execution_count": 25,
   "metadata": {},
   "outputs": [
    {
     "data": {
      "text/html": [
       "<table>\n",
       "  <colgroup>\n",
       "    <col span=\"2\" style=\"background-color:red\">\n",
       "    <col style=\"background-color:yellow\">\n",
       "  </colgroup>\n",
       "  <tr>\n",
       "    <th>ISBN</th>\n",
       "    <th>Title</th>\n",
       "    <th>Price</th>\n",
       "  </tr>\n",
       "  <tr>\n",
       "    <td>3476896</td>\n",
       "    <td>My first HTML</td>\n",
       "    <td>$53</td>\n",
       "  </tr>\n",
       "</table>\n"
      ],
      "text/plain": [
       "<IPython.core.display.HTML object>"
      ]
     },
     "metadata": {},
     "output_type": "display_data"
    }
   ],
   "source": [
    "%%html\n",
    "<table>\n",
    "  <colgroup>\n",
    "    <col span=\"2\" style=\"background-color:red\">\n",
    "    <col style=\"background-color:yellow\">\n",
    "  </colgroup>\n",
    "  <tr>\n",
    "    <th>ISBN</th>\n",
    "    <th>Title</th>\n",
    "    <th>Price</th>\n",
    "  </tr>\n",
    "  <tr>\n",
    "    <td>3476896</td>\n",
    "    <td>My first HTML</td>\n",
    "    <td>$53</td>\n",
    "  </tr>\n",
    "</table>"
   ]
  },
  {
   "cell_type": "code",
   "execution_count": 26,
   "metadata": {},
   "outputs": [
    {
     "data": {
      "text/html": [
       "<table>\n",
       "  <caption>Monthly savings</caption>\n",
       "  <tr>\n",
       "    <th>Month</th>\n",
       "    <th>Savings</th>\n",
       "  </tr>\n",
       "  <tr>\n",
       "    <td>January</td>\n",
       "    <td>$100</td>\n",
       "  </tr>\n",
       "</table>\n"
      ],
      "text/plain": [
       "<IPython.core.display.HTML object>"
      ]
     },
     "metadata": {},
     "output_type": "display_data"
    }
   ],
   "source": [
    "%%html\n",
    "<table>\n",
    "  <caption>Monthly savings</caption>\n",
    "  <tr>\n",
    "    <th>Month</th>\n",
    "    <th>Savings</th>\n",
    "  </tr>\n",
    "  <tr>\n",
    "    <td>January</td>\n",
    "    <td>$100</td>\n",
    "  </tr>\n",
    "</table>"
   ]
  },
  {
   "cell_type": "markdown",
   "metadata": {},
   "source": [
    "## Lineas horizontales"
   ]
  },
  {
   "cell_type": "code",
   "execution_count": 27,
   "metadata": {},
   "outputs": [
    {
     "data": {
      "text/html": [
       "<hr style=\"height:1px\">\n",
       "\n",
       "<hr style=\"height:1px;background-color:red\">\n",
       "\n",
       "<hr style=\"height:3px;border:3px dotted;color:black;background-color:red;\">\n"
      ],
      "text/plain": [
       "<IPython.core.display.HTML object>"
      ]
     },
     "metadata": {},
     "output_type": "display_data"
    }
   ],
   "source": [
    "%%html\n",
    "<hr style=\"height:1px\">\n",
    "\n",
    "<hr style=\"height:1px;background-color:red\">\n",
    "\n",
    "<hr style=\"height:3px;border:3px dotted;color:black;background-color:red;\">"
   ]
  },
  {
   "cell_type": "markdown",
   "metadata": {},
   "source": [
    "## Alineación del Texto"
   ]
  },
  {
   "cell_type": "code",
   "execution_count": 28,
   "metadata": {},
   "outputs": [
    {
     "data": {
      "text/html": [
       "<center> Texto centrado </center>\n"
      ],
      "text/plain": [
       "<IPython.core.display.HTML object>"
      ]
     },
     "metadata": {},
     "output_type": "display_data"
    }
   ],
   "source": [
    "%%html\n",
    "<center> Texto centrado </center>"
   ]
  },
  {
   "cell_type": "code",
   "execution_count": 29,
   "metadata": {},
   "outputs": [
    {
     "data": {
      "text/html": [
       "<left>Texto a la izquierda</left>\n"
      ],
      "text/plain": [
       "<IPython.core.display.HTML object>"
      ]
     },
     "metadata": {},
     "output_type": "display_data"
    }
   ],
   "source": [
    "%%html\n",
    "<left>Texto a la izquierda</left>"
   ]
  },
  {
   "cell_type": "code",
   "execution_count": 30,
   "metadata": {},
   "outputs": [
    {
     "data": {
      "text/html": [
       "<div align=\"right\">Texto alineado a la derecha.</div>\n"
      ],
      "text/plain": [
       "<IPython.core.display.HTML object>"
      ]
     },
     "metadata": {},
     "output_type": "display_data"
    }
   ],
   "source": [
    "%%html\n",
    "<div align=\"right\">Texto alineado a la derecha.</div>"
   ]
  },
  {
   "cell_type": "markdown",
   "metadata": {},
   "source": [
    "## Líneas en blanco"
   ]
  },
  {
   "cell_type": "code",
   "execution_count": 31,
   "metadata": {},
   "outputs": [
    {
     "data": {
      "text/html": [
       "<br>\n",
       "<br>\n",
       "texto\n",
       "<br>\n",
       "<br>\n"
      ],
      "text/plain": [
       "<IPython.core.display.HTML object>"
      ]
     },
     "metadata": {},
     "output_type": "display_data"
    }
   ],
   "source": [
    "%%html\n",
    "<br>\n",
    "<br>\n",
    "texto\n",
    "<br>\n",
    "<br>"
   ]
  },
  {
   "cell_type": "markdown",
   "metadata": {},
   "source": [
    "## Tamaño del texto"
   ]
  },
  {
   "cell_type": "code",
   "execution_count": 32,
   "metadata": {},
   "outputs": [
    {
     "data": {
      "text/html": [
       "<small><small><small> texto pequeño</small></small></small>\n"
      ],
      "text/plain": [
       "<IPython.core.display.HTML object>"
      ]
     },
     "metadata": {},
     "output_type": "display_data"
    }
   ],
   "source": [
    "%%html\n",
    "<small><small><small> texto pequeño</small></small></small>"
   ]
  },
  {
   "cell_type": "code",
   "execution_count": 33,
   "metadata": {},
   "outputs": [
    {
     "data": {
      "text/html": [
       "<big> BIG </big>\n"
      ],
      "text/plain": [
       "<IPython.core.display.HTML object>"
      ]
     },
     "metadata": {},
     "output_type": "display_data"
    }
   ],
   "source": [
    "%%html\n",
    "<big> BIG </big>"
   ]
  },
  {
   "cell_type": "code",
   "execution_count": 34,
   "metadata": {},
   "outputs": [
    {
     "data": {
      "text/html": [
       "<p> Texto<sub>Texto</sub>   Texto<sup>Texto</sup>  </p>\n"
      ],
      "text/plain": [
       "<IPython.core.display.HTML object>"
      ]
     },
     "metadata": {},
     "output_type": "display_data"
    }
   ],
   "source": [
    "%%html\n",
    "<p> Texto<sub>Texto</sub>   Texto<sup>Texto</sup>  </p>"
   ]
  },
  {
   "cell_type": "markdown",
   "metadata": {},
   "source": [
    "## Comentarios"
   ]
  },
  {
   "cell_type": "code",
   "execution_count": 35,
   "metadata": {},
   "outputs": [
    {
     "data": {
      "text/html": [
       "<!-- comentario -->\n"
      ],
      "text/plain": [
       "<IPython.core.display.HTML object>"
      ]
     },
     "metadata": {},
     "output_type": "display_data"
    }
   ],
   "source": [
    "%%html\n",
    "<!-- comentario -->"
   ]
  },
  {
   "cell_type": "markdown",
   "metadata": {},
   "source": [
    "<!-- comentario -->"
   ]
  },
  {
   "cell_type": "markdown",
   "metadata": {},
   "source": [
    "## Efectos sobre el texto"
   ]
  },
  {
   "cell_type": "code",
   "execution_count": 36,
   "metadata": {},
   "outputs": [
    {
     "data": {
      "text/html": [
       "texto <del>XXX</del>\n"
      ],
      "text/plain": [
       "<IPython.core.display.HTML object>"
      ]
     },
     "metadata": {},
     "output_type": "display_data"
    }
   ],
   "source": [
    "%%html\n",
    "texto <del>XXX</del>"
   ]
  },
  {
   "cell_type": "code",
   "execution_count": 37,
   "metadata": {},
   "outputs": [
    {
     "data": {
      "text/html": [
       "texto <ins>XXX</ins>  \n",
       "texto <u>XXX</u>\n"
      ],
      "text/plain": [
       "<IPython.core.display.HTML object>"
      ]
     },
     "metadata": {},
     "output_type": "display_data"
    }
   ],
   "source": [
    "%%html\n",
    "texto <ins>XXX</ins>  \n",
    "texto <u>XXX</u>"
   ]
  },
  {
   "cell_type": "code",
   "execution_count": 38,
   "metadata": {},
   "outputs": [
    {
     "data": {
      "text/html": [
       "Texto <mark> resaltado </mark>\n"
      ],
      "text/plain": [
       "<IPython.core.display.HTML object>"
      ]
     },
     "metadata": {},
     "output_type": "display_data"
    }
   ],
   "source": [
    "%%html\n",
    "Texto <mark> resaltado </mark>"
   ]
  },
  {
   "cell_type": "code",
   "execution_count": 39,
   "metadata": {},
   "outputs": [
    {
     "data": {
      "text/html": [
       "<p>Texto de color <span style=\"color:blue\">azul</span>.</p>\n"
      ],
      "text/plain": [
       "<IPython.core.display.HTML object>"
      ]
     },
     "metadata": {},
     "output_type": "display_data"
    }
   ],
   "source": [
    "%%html\n",
    "<p>Texto de color <span style=\"color:blue\">azul</span>.</p>"
   ]
  },
  {
   "cell_type": "code",
   "execution_count": 40,
   "metadata": {},
   "outputs": [
    {
     "data": {
      "text/html": [
       "<p>Texto en <i>italica</i>.</p>\n"
      ],
      "text/plain": [
       "<IPython.core.display.HTML object>"
      ]
     },
     "metadata": {},
     "output_type": "display_data"
    }
   ],
   "source": [
    "%%html\n",
    "<p>Texto en <i>italica</i>.</p>"
   ]
  },
  {
   "cell_type": "markdown",
   "metadata": {},
   "source": [
    "## Cajas"
   ]
  },
  {
   "cell_type": "code",
   "execution_count": 41,
   "metadata": {},
   "outputs": [
    {
     "data": {
      "text/html": [
       "<div style=\"width:200px;height:100px;padding:10px;border:1px dotted black;\">\n",
       "Caja con borde punteado\n",
       "</div>\n"
      ],
      "text/plain": [
       "<IPython.core.display.HTML object>"
      ]
     },
     "metadata": {},
     "output_type": "display_data"
    }
   ],
   "source": [
    "%%html\n",
    "<div style=\"width:200px;height:100px;padding:10px;border:1px dotted black;\">\n",
    "Caja con borde punteado\n",
    "</div>"
   ]
  },
  {
   "cell_type": "code",
   "execution_count": 42,
   "metadata": {},
   "outputs": [
    {
     "data": {
      "text/html": [
       "<div style=\"width:200px;height:100px;padding:10px;border:1px dashed yellowgreen;\">\n",
       "Caja con borde punteado verde\n",
       "</div>\n"
      ],
      "text/plain": [
       "<IPython.core.display.HTML object>"
      ]
     },
     "metadata": {},
     "output_type": "display_data"
    }
   ],
   "source": [
    "%%html\n",
    "<div style=\"width:200px;height:100px;padding:10px;border:1px dashed yellowgreen;\">\n",
    "Caja con borde punteado verde\n",
    "</div>"
   ]
  },
  {
   "cell_type": "code",
   "execution_count": 43,
   "metadata": {},
   "outputs": [
    {
     "data": {
      "text/html": [
       "<div style=\"width:200px;height:100px;padding:10px;border:10px double yellowgreen;\">\n",
       "Caja con borde doble\n",
       "</div>\n"
      ],
      "text/plain": [
       "<IPython.core.display.HTML object>"
      ]
     },
     "metadata": {},
     "output_type": "display_data"
    }
   ],
   "source": [
    "%%html\n",
    "<div style=\"width:200px;height:100px;padding:10px;border:10px double yellowgreen;\">\n",
    "Caja con borde doble\n",
    "</div>"
   ]
  },
  {
   "cell_type": "code",
   "execution_count": 44,
   "metadata": {},
   "outputs": [
    {
     "data": {
      "text/html": [
       "<h1 style=\"border:2px solid Tomato;\">Hola mundo cruel</h1>\n",
       "<h1 style=\"border:2px solid DodgerBlue;\">Hola mundo cruel</h1>\n",
       "<h1 style=\"border:2px solid Violet;\">Hola mundo cruel</h1>\n"
      ],
      "text/plain": [
       "<IPython.core.display.HTML object>"
      ]
     },
     "metadata": {},
     "output_type": "display_data"
    }
   ],
   "source": [
    "%%html\n",
    "<h1 style=\"border:2px solid Tomato;\">Hola mundo cruel</h1>\n",
    "<h1 style=\"border:2px solid DodgerBlue;\">Hola mundo cruel</h1>\n",
    "<h1 style=\"border:2px solid Violet;\">Hola mundo cruel</h1>"
   ]
  },
  {
   "cell_type": "markdown",
   "metadata": {},
   "source": [
    "## Teclado"
   ]
  },
  {
   "cell_type": "code",
   "execution_count": 45,
   "metadata": {},
   "outputs": [
    {
     "data": {
      "text/html": [
       "<kbd>Keyboard input</kbd>\n"
      ],
      "text/plain": [
       "<IPython.core.display.HTML object>"
      ]
     },
     "metadata": {},
     "output_type": "display_data"
    }
   ],
   "source": [
    "%%html\n",
    "<kbd>Keyboard input</kbd>"
   ]
  },
  {
   "cell_type": "markdown",
   "metadata": {},
   "source": [
    "## Controles "
   ]
  },
  {
   "cell_type": "code",
   "execution_count": 46,
   "metadata": {},
   "outputs": [
    {
     "data": {
      "text/html": [
       "<button>Click me</button>\n"
      ],
      "text/plain": [
       "<IPython.core.display.HTML object>"
      ]
     },
     "metadata": {},
     "output_type": "display_data"
    }
   ],
   "source": [
    "%%html\n",
    "<button>Click me</button>"
   ]
  },
  {
   "cell_type": "code",
   "execution_count": 47,
   "metadata": {},
   "outputs": [
    {
     "data": {
      "text/html": [
       "<select>\n",
       "  <optgroup label=\"Swedish Cars\">\n",
       "    <option value=\"volvo\">Volvo</option>\n",
       "    <option value=\"saab\">Saab</option>\n",
       "  </optgroup>\n",
       "  <optgroup label=\"German Cars\">\n",
       "    <option value=\"mercedes\">Mercedes</option>\n",
       "    <option value=\"audi\">Audi</option>\n",
       "  </optgroup>\n",
       "</select>\n"
      ],
      "text/plain": [
       "<IPython.core.display.HTML object>"
      ]
     },
     "metadata": {},
     "output_type": "display_data"
    }
   ],
   "source": [
    "%%html\n",
    "<select>\n",
    "  <optgroup label=\"Swedish Cars\">\n",
    "    <option value=\"volvo\">Volvo</option>\n",
    "    <option value=\"saab\">Saab</option>\n",
    "  </optgroup>\n",
    "  <optgroup label=\"German Cars\">\n",
    "    <option value=\"mercedes\">Mercedes</option>\n",
    "    <option value=\"audi\">Audi</option>\n",
    "  </optgroup>\n",
    "</select>"
   ]
  },
  {
   "cell_type": "code",
   "execution_count": 48,
   "metadata": {},
   "outputs": [
    {
     "data": {
      "text/html": [
       "<select>\n",
       "  <option value=\"volvo\">Volvo</option>\n",
       "  <option value=\"saab\">Saab</option>\n",
       "  <option value=\"opel\">Opel</option>\n",
       "  <option value=\"audi\">Audi</option>\n",
       "</select>\n"
      ],
      "text/plain": [
       "<IPython.core.display.HTML object>"
      ]
     },
     "metadata": {},
     "output_type": "display_data"
    }
   ],
   "source": [
    "%%html\n",
    "<select>\n",
    "  <option value=\"volvo\">Volvo</option>\n",
    "  <option value=\"saab\">Saab</option>\n",
    "  <option value=\"opel\">Opel</option>\n",
    "  <option value=\"audi\">Audi</option>\n",
    "</select>"
   ]
  },
  {
   "cell_type": "code",
   "execution_count": 49,
   "metadata": {},
   "outputs": [
    {
     "data": {
      "text/html": [
       "<form oninput=\"x.value=parseInt(a.value)+parseInt(b.value)\">0\n",
       "  <input type=\"range\" id=\"a\" value=\"50\">100\n",
       "  +<input type=\"number\" id=\"b\" value=\"50\">\n",
       "  =<output name=\"x\" for=\"a b\"></output>\n",
       "</form>\n"
      ],
      "text/plain": [
       "<IPython.core.display.HTML object>"
      ]
     },
     "metadata": {},
     "output_type": "display_data"
    }
   ],
   "source": [
    "%%html\n",
    "<form oninput=\"x.value=parseInt(a.value)+parseInt(b.value)\">0\n",
    "  <input type=\"range\" id=\"a\" value=\"50\">100\n",
    "  +<input type=\"number\" id=\"b\" value=\"50\">\n",
    "  =<output name=\"x\" for=\"a b\"></output>\n",
    "</form>"
   ]
  },
  {
   "cell_type": "code",
   "execution_count": 50,
   "metadata": {},
   "outputs": [
    {
     "data": {
      "text/html": [
       "<progress value=\"22\" max=\"100\"></progress>\n"
      ],
      "text/plain": [
       "<IPython.core.display.HTML object>"
      ]
     },
     "metadata": {},
     "output_type": "display_data"
    }
   ],
   "source": [
    "%%html\n",
    "<progress value=\"22\" max=\"100\"></progress>"
   ]
  },
  {
   "cell_type": "code",
   "execution_count": 51,
   "metadata": {},
   "outputs": [
    {
     "data": {
      "text/html": [
       "<details>\n",
       "  <summary>Copyright 2016-2018.</summary>\n",
       "  <p> - by Juan David Velásquez. All Rights Reserved.</p>\n",
       "  <p>All content and graphics on this web site are the property of the author.</p>\n",
       "</details>\n"
      ],
      "text/plain": [
       "<IPython.core.display.HTML object>"
      ]
     },
     "metadata": {},
     "output_type": "display_data"
    }
   ],
   "source": [
    "%%html\n",
    "<details>\n",
    "  <summary>Copyright 2016-2018.</summary>\n",
    "  <p> - by Juan David Velásquez. All Rights Reserved.</p>\n",
    "  <p>All content and graphics on this web site are the property of the author.</p>\n",
    "</details>"
   ]
  },
  {
   "cell_type": "markdown",
   "metadata": {},
   "source": [
    "## Símbolos"
   ]
  },
  {
   "cell_type": "markdown",
   "metadata": {},
   "source": [
    "Haga click [Aquí](https://www.w3schools.com/charsets/ref_utf_symbols.asp)."
   ]
  }
 ],
 "metadata": {
  "kernel_info": {
   "name": "python3"
  },
  "kernelspec": {
   "display_name": "Python 3",
   "language": "python",
   "name": "python3"
  },
  "language_info": {
   "codemirror_mode": {
    "name": "ipython",
    "version": 3
   },
   "file_extension": ".py",
   "mimetype": "text/x-python",
   "name": "python",
   "nbconvert_exporter": "python",
   "pygments_lexer": "ipython3",
   "version": "3.6.9"
  },
  "nteract": {
   "version": "0.7.1"
  }
 },
 "nbformat": 4,
 "nbformat_minor": 4
}
