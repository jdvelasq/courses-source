{
 "cells": [
  {
   "cell_type": "markdown",
   "id": "5c8a3f65-8cdc-4576-a929-c4d58e69c0e8",
   "metadata": {},
   "source": [
    "Uso de básico de Google Colaboratory\n",
    "===\n",
    "\n",
    "* *5:00 min* | Última modificación: Septiembre 13, 2021."
   ]
  },
  {
   "cell_type": "markdown",
   "id": "4c2995bb-0942-4179-8b30-4a3be28ba55c",
   "metadata": {},
   "source": [
    "Este documento resume las principales funcionalidades de Google Colaboratory, conocido simplemente como **colab**."
   ]
  },
  {
   "cell_type": "markdown",
   "id": "754bf208-4d4b-4688-b7fa-7005fc896ac3",
   "metadata": {},
   "source": [
    "## Acceder a Colab"
   ]
  },
  {
   "cell_type": "markdown",
   "id": "120dc213-6896-4439-bc6e-97ef4ecd1fd9",
   "metadata": {},
   "source": [
    "Búsque `google colab` en internet, o si ya lo ha usado digite `colab` en la barra de direcciones del navegador."
   ]
  },
  {
   "cell_type": "markdown",
   "id": "3be87e67-6a7c-4d74-8382-4e82f89ad9e6",
   "metadata": {},
   "source": [
    "## Apertura de un notebook en la máquina local"
   ]
  },
  {
   "cell_type": "markdown",
   "id": "22ff4102-8226-4691-9924-44e09b14b273",
   "metadata": {},
   "source": [
    "![apertura-maquina-local](assets/subida_maquina_local.gif)"
   ]
  },
  {
   "cell_type": "markdown",
   "id": "f9072261-55c8-46f5-a196-7e2129f7fba5",
   "metadata": {},
   "source": [
    "## Carga de archivos de datos desde la máquina local"
   ]
  },
  {
   "cell_type": "markdown",
   "id": "564baf57-f5f2-494d-9615-9b663ec7eb79",
   "metadata": {},
   "source": [
    "![carga_archivo_datos_local](assets/carga_archivo_datos_local.gif)"
   ]
  },
  {
   "cell_type": "markdown",
   "id": "57067262-7a12-4a43-8b11-b3311e3cb499",
   "metadata": {},
   "source": [
    "## Visualización de archivos"
   ]
  },
  {
   "cell_type": "markdown",
   "id": "3eefb4ae-39e8-4598-8448-001e908e7d62",
   "metadata": {},
   "source": [
    "![visualizacion_archivos.gif](assets/visualizacion_archivos.gif)"
   ]
  },
  {
   "cell_type": "markdown",
   "id": "9a9fac02-d99e-4f12-828d-de715b89a63e",
   "metadata": {},
   "source": [
    "## Agregar celdas de código y texto"
   ]
  },
  {
   "cell_type": "markdown",
   "id": "0d2ac93e-8476-4822-84fa-e8e8404ea893",
   "metadata": {},
   "source": [
    "Las celdas de código se ejecutan:\n",
    "\n",
    "* Haciendo click en el boton de play en la parte izquierda de la celda.\n",
    "\n",
    "* Con Ctrl+Enter o Shift+Enter"
   ]
  },
  {
   "cell_type": "markdown",
   "id": "517d3c1f-eda5-4bdf-9579-687660cc9372",
   "metadata": {},
   "source": [
    "![agregar_celdas.gif](assets/agregar_celdas.gif)"
   ]
  },
  {
   "cell_type": "markdown",
   "id": "8e2c1e0c-8499-4295-9c73-87ea49e5fb0d",
   "metadata": {},
   "source": [
    "## Mover y borrar celdas"
   ]
  },
  {
   "cell_type": "markdown",
   "id": "37bb66f6-6068-48aa-8e21-7f368e218750",
   "metadata": {},
   "source": [
    "![mover_y_borrar_celdas.gif](assets/mover_y_borrar_celdas.gif)"
   ]
  }
 ],
 "metadata": {
  "kernelspec": {
   "display_name": "Python 3",
   "language": "python",
   "name": "python3"
  },
  "language_info": {
   "codemirror_mode": {
    "name": "ipython",
    "version": 3
   },
   "file_extension": ".py",
   "mimetype": "text/x-python",
   "name": "python",
   "nbconvert_exporter": "python",
   "pygments_lexer": "ipython3",
   "version": "3.6.9"
  }
 },
 "nbformat": 4,
 "nbformat_minor": 5
}
