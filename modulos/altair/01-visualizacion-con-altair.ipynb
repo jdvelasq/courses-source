{
 "cells": [
  {
   "cell_type": "markdown",
   "metadata": {},
   "source": [
    "Visualización en Python con Altair\n",
    "==========================================\n",
    "\n",
    "* *30 min* | Última modificación: Junio 22, 2019"
   ]
  },
  {
   "cell_type": "markdown",
   "metadata": {},
   "source": [
    "[Altair](https://altair-viz.github.io/index.html) es una librería de visualización de datos para Python, basada en [Vega](http://vega.github.io/vega) y [Vega-Lite](http://vega.github.io/vega-lite), que usa un lenguaje declarativo que busca minimizar la cantidad de código requerido para la construcción de gráficos. En este tutorial se presentan los principios básicos para la construcción de gráficos para análisis exploratorio de datos, a partir de un caso de aplicación."
   ]
  },
  {
   "cell_type": "markdown",
   "metadata": {},
   "source": [
    "## Definición del problema"
   ]
  },
  {
   "cell_type": "markdown",
   "metadata": {},
   "source": [
    "Se desea construir un gráfico que permita comparar la población por rangos de edades para los distintos continentes, a partir de la información suministrada en el archivo `indicadores mundiales.csv`. El gráfico construído debe ser simiar al siguiente, el cual fue preparado usando [Tableau](https://public.tableau.com/en-us/s/).\n",
    "\n",
    "![assets/suma-pob-region-edades-4.png](assets/suma-pob-region-edades-4.png)"
   ]
  },
  {
   "cell_type": "markdown",
   "metadata": {},
   "source": [
    "## Solución"
   ]
  },
  {
   "cell_type": "code",
   "execution_count": 1,
   "metadata": {},
   "outputs": [],
   "source": [
    "##\n",
    "## Preparación\n",
    "##\n",
    "import numpy as np\n",
    "import pandas as pd\n",
    "import altair as alt\n",
    "import matplotlib.pyplot as plt\n",
    "import matplotlib as mpl\n",
    "alt.renderers.enable('notebook');\n",
    "%matplotlib inline\n",
    "\n",
    "##\n",
    "## No funciona en jupyterlab:\n",
    "##\n",
    "##     alt.renderers.enable('jupyterlab')\n",
    "##"
   ]
  },
  {
   "cell_type": "markdown",
   "metadata": {},
   "source": [
    "### Carga de datos"
   ]
  },
  {
   "cell_type": "code",
   "execution_count": 3,
   "metadata": {},
   "outputs": [],
   "source": [
    "df = pd.read_csv(\"https://raw.githubusercontent.com/jdvelasq/playground/master/datasets/indicadores-mundiales.csv\",\n",
    "                 sep = ',',           # separador de campos\n",
    "                 thousands = None,    # separador de miles para números\n",
    "                 decimal = '.',       # separador de los decimales para números\n",
    "                 encoding='latin-1')  # idioma"
   ]
  },
  {
   "cell_type": "markdown",
   "metadata": {},
   "source": [
    "### Preparación de los datos"
   ]
  },
  {
   "cell_type": "markdown",
   "metadata": {},
   "source": [
    "Para obtener los datos requeridos para la construcción del grafico solicitado, es necesario construir una agregación, sumando la población por región."
   ]
  },
  {
   "cell_type": "code",
   "execution_count": 4,
   "metadata": {
    "scrolled": true
   },
   "outputs": [
    {
     "data": {
      "text/html": [
       "<div>\n",
       "<style scoped>\n",
       "    .dataframe tbody tr th:only-of-type {\n",
       "        vertical-align: middle;\n",
       "    }\n",
       "\n",
       "    .dataframe tbody tr th {\n",
       "        vertical-align: top;\n",
       "    }\n",
       "\n",
       "    .dataframe thead th {\n",
       "        text-align: right;\n",
       "    }\n",
       "</style>\n",
       "<table border=\"1\" class=\"dataframe\">\n",
       "  <thead>\n",
       "    <tr style=\"text-align: right;\">\n",
       "      <th></th>\n",
       "      <th>Poblacion 0-14</th>\n",
       "      <th>Poblacion 15-64</th>\n",
       "      <th>Poblacion 65+</th>\n",
       "    </tr>\n",
       "    <tr>\n",
       "      <th>Region</th>\n",
       "      <th></th>\n",
       "      <th></th>\n",
       "      <th></th>\n",
       "    </tr>\n",
       "  </thead>\n",
       "  <tbody>\n",
       "    <tr>\n",
       "      <th>Asia</th>\n",
       "      <td>5318.6</td>\n",
       "      <td>10668.7</td>\n",
       "      <td>1013.0</td>\n",
       "    </tr>\n",
       "    <tr>\n",
       "      <th>Europa</th>\n",
       "      <td>3780.2</td>\n",
       "      <td>13830.6</td>\n",
       "      <td>2890.5</td>\n",
       "    </tr>\n",
       "    <tr>\n",
       "      <th>Las Americas</th>\n",
       "      <td>5375.5</td>\n",
       "      <td>10901.8</td>\n",
       "      <td>1223.1</td>\n",
       "    </tr>\n",
       "    <tr>\n",
       "      <th>Oceania</th>\n",
       "      <td>1784.8</td>\n",
       "      <td>3133.1</td>\n",
       "      <td>282.5</td>\n",
       "    </tr>\n",
       "    <tr>\n",
       "      <th>Oriente Medio</th>\n",
       "      <td>1754.7</td>\n",
       "      <td>3251.1</td>\n",
       "      <td>194.2</td>\n",
       "    </tr>\n",
       "    <tr>\n",
       "      <th>africa</th>\n",
       "      <td>11136.2</td>\n",
       "      <td>14452.7</td>\n",
       "      <td>911.7</td>\n",
       "    </tr>\n",
       "  </tbody>\n",
       "</table>\n",
       "</div>"
      ],
      "text/plain": [
       "               Poblacion 0-14  Poblacion 15-64  Poblacion 65+\n",
       "Region                                                       \n",
       "Asia                   5318.6          10668.7         1013.0\n",
       "Europa                 3780.2          13830.6         2890.5\n",
       "Las Americas           5375.5          10901.8         1223.1\n",
       "Oceania                1784.8           3133.1          282.5\n",
       "Oriente Medio          1754.7           3251.1          194.2\n",
       "africa                11136.2          14452.7          911.7"
      ]
     },
     "execution_count": 4,
     "metadata": {},
     "output_type": "execute_result"
    }
   ],
   "source": [
    "df = df.groupby('Region').sum()[['Poblacion 0-14', 'Poblacion 15-64', 'Poblacion 65+']]\n",
    "df"
   ]
  },
  {
   "cell_type": "markdown",
   "metadata": {},
   "source": [
    "Altair opera directamente sobre los campos del DataFrame. Por ello, para construir el gráfico solicitado, se requiere cambiar la forma del DataFrame mediante una operación de stack(), así:"
   ]
  },
  {
   "cell_type": "code",
   "execution_count": 4,
   "metadata": {},
   "outputs": [
    {
     "data": {
      "text/html": [
       "<div>\n",
       "<style scoped>\n",
       "    .dataframe tbody tr th:only-of-type {\n",
       "        vertical-align: middle;\n",
       "    }\n",
       "\n",
       "    .dataframe tbody tr th {\n",
       "        vertical-align: top;\n",
       "    }\n",
       "\n",
       "    .dataframe thead th {\n",
       "        text-align: right;\n",
       "    }\n",
       "</style>\n",
       "<table border=\"1\" class=\"dataframe\">\n",
       "  <thead>\n",
       "    <tr style=\"text-align: right;\">\n",
       "      <th></th>\n",
       "      <th></th>\n",
       "      <th>0</th>\n",
       "    </tr>\n",
       "    <tr>\n",
       "      <th>Region</th>\n",
       "      <th></th>\n",
       "      <th></th>\n",
       "    </tr>\n",
       "  </thead>\n",
       "  <tbody>\n",
       "    <tr>\n",
       "      <th rowspan=\"3\" valign=\"top\">Asia</th>\n",
       "      <th>Poblacion 0-14</th>\n",
       "      <td>5318.6</td>\n",
       "    </tr>\n",
       "    <tr>\n",
       "      <th>Poblacion 15-64</th>\n",
       "      <td>10668.7</td>\n",
       "    </tr>\n",
       "    <tr>\n",
       "      <th>Poblacion 65+</th>\n",
       "      <td>1013.0</td>\n",
       "    </tr>\n",
       "    <tr>\n",
       "      <th rowspan=\"3\" valign=\"top\">Europa</th>\n",
       "      <th>Poblacion 0-14</th>\n",
       "      <td>3780.2</td>\n",
       "    </tr>\n",
       "    <tr>\n",
       "      <th>Poblacion 15-64</th>\n",
       "      <td>13830.6</td>\n",
       "    </tr>\n",
       "    <tr>\n",
       "      <th>Poblacion 65+</th>\n",
       "      <td>2890.5</td>\n",
       "    </tr>\n",
       "    <tr>\n",
       "      <th rowspan=\"3\" valign=\"top\">Las Americas</th>\n",
       "      <th>Poblacion 0-14</th>\n",
       "      <td>5375.5</td>\n",
       "    </tr>\n",
       "    <tr>\n",
       "      <th>Poblacion 15-64</th>\n",
       "      <td>10901.8</td>\n",
       "    </tr>\n",
       "    <tr>\n",
       "      <th>Poblacion 65+</th>\n",
       "      <td>1223.1</td>\n",
       "    </tr>\n",
       "    <tr>\n",
       "      <th rowspan=\"3\" valign=\"top\">Oceania</th>\n",
       "      <th>Poblacion 0-14</th>\n",
       "      <td>1784.8</td>\n",
       "    </tr>\n",
       "    <tr>\n",
       "      <th>Poblacion 15-64</th>\n",
       "      <td>3133.1</td>\n",
       "    </tr>\n",
       "    <tr>\n",
       "      <th>Poblacion 65+</th>\n",
       "      <td>282.5</td>\n",
       "    </tr>\n",
       "    <tr>\n",
       "      <th rowspan=\"3\" valign=\"top\">Oriente Medio</th>\n",
       "      <th>Poblacion 0-14</th>\n",
       "      <td>1754.7</td>\n",
       "    </tr>\n",
       "    <tr>\n",
       "      <th>Poblacion 15-64</th>\n",
       "      <td>3251.1</td>\n",
       "    </tr>\n",
       "    <tr>\n",
       "      <th>Poblacion 65+</th>\n",
       "      <td>194.2</td>\n",
       "    </tr>\n",
       "    <tr>\n",
       "      <th rowspan=\"3\" valign=\"top\">africa</th>\n",
       "      <th>Poblacion 0-14</th>\n",
       "      <td>11136.2</td>\n",
       "    </tr>\n",
       "    <tr>\n",
       "      <th>Poblacion 15-64</th>\n",
       "      <td>14452.7</td>\n",
       "    </tr>\n",
       "    <tr>\n",
       "      <th>Poblacion 65+</th>\n",
       "      <td>911.7</td>\n",
       "    </tr>\n",
       "  </tbody>\n",
       "</table>\n",
       "</div>"
      ],
      "text/plain": [
       "                                     0\n",
       "Region                                \n",
       "Asia          Poblacion 0-14    5318.6\n",
       "              Poblacion 15-64  10668.7\n",
       "              Poblacion 65+     1013.0\n",
       "Europa        Poblacion 0-14    3780.2\n",
       "              Poblacion 15-64  13830.6\n",
       "              Poblacion 65+     2890.5\n",
       "Las Americas  Poblacion 0-14    5375.5\n",
       "              Poblacion 15-64  10901.8\n",
       "              Poblacion 65+     1223.1\n",
       "Oceania       Poblacion 0-14    1784.8\n",
       "              Poblacion 15-64   3133.1\n",
       "              Poblacion 65+      282.5\n",
       "Oriente Medio Poblacion 0-14    1754.7\n",
       "              Poblacion 15-64   3251.1\n",
       "              Poblacion 65+      194.2\n",
       "africa        Poblacion 0-14   11136.2\n",
       "              Poblacion 15-64  14452.7\n",
       "              Poblacion 65+      911.7"
      ]
     },
     "execution_count": 4,
     "metadata": {},
     "output_type": "execute_result"
    }
   ],
   "source": [
    "df = pd.DataFrame(df.stack())\n",
    "df"
   ]
  },
  {
   "cell_type": "markdown",
   "metadata": {},
   "source": [
    "En el DataFrame generado, la columna numérica no tiene nombre y la región y la edad de la población son parte del índice de la tabla. En el siguiente fragmento de código, se agregan las columnas `Region` y `Edad` a partir de la información de índice de las filas, y se cambia el nombre de la última columna a `Poblacion`."
   ]
  },
  {
   "cell_type": "code",
   "execution_count": 5,
   "metadata": {},
   "outputs": [
    {
     "name": "stdout",
     "output_type": "stream",
     "text": [
      "('Asia', 'Poblacion 0-14')\n",
      "('Asia', 'Poblacion 15-64')\n",
      "('Asia', 'Poblacion 65+')\n",
      "('Europa', 'Poblacion 0-14')\n",
      "('Europa', 'Poblacion 15-64')\n",
      "('Europa', 'Poblacion 65+')\n",
      "('Las Americas', 'Poblacion 0-14')\n",
      "('Las Americas', 'Poblacion 15-64')\n",
      "('Las Americas', 'Poblacion 65+')\n",
      "('Oceania', 'Poblacion 0-14')\n",
      "('Oceania', 'Poblacion 15-64')\n",
      "('Oceania', 'Poblacion 65+')\n",
      "('Oriente Medio', 'Poblacion 0-14')\n",
      "('Oriente Medio', 'Poblacion 15-64')\n",
      "('Oriente Medio', 'Poblacion 65+')\n",
      "('africa', 'Poblacion 0-14')\n",
      "('africa', 'Poblacion 15-64')\n",
      "('africa', 'Poblacion 65+')\n"
     ]
    }
   ],
   "source": [
    "## El índice de cada fila es una tupla con el nombre\n",
    "## de la región y el rango de edad\n",
    "for p in df.index:\n",
    "    print(p)"
   ]
  },
  {
   "cell_type": "code",
   "execution_count": 6,
   "metadata": {},
   "outputs": [
    {
     "data": {
      "text/html": [
       "<div>\n",
       "<style scoped>\n",
       "    .dataframe tbody tr th:only-of-type {\n",
       "        vertical-align: middle;\n",
       "    }\n",
       "\n",
       "    .dataframe tbody tr th {\n",
       "        vertical-align: top;\n",
       "    }\n",
       "\n",
       "    .dataframe thead th {\n",
       "        text-align: right;\n",
       "    }\n",
       "</style>\n",
       "<table border=\"1\" class=\"dataframe\">\n",
       "  <thead>\n",
       "    <tr style=\"text-align: right;\">\n",
       "      <th></th>\n",
       "      <th>Poblacion</th>\n",
       "      <th>Region</th>\n",
       "      <th>Age</th>\n",
       "    </tr>\n",
       "  </thead>\n",
       "  <tbody>\n",
       "    <tr>\n",
       "      <th>0</th>\n",
       "      <td>5318.6</td>\n",
       "      <td>Asia</td>\n",
       "      <td>Poblacion 0-14</td>\n",
       "    </tr>\n",
       "    <tr>\n",
       "      <th>1</th>\n",
       "      <td>10668.7</td>\n",
       "      <td>Asia</td>\n",
       "      <td>Poblacion 15-64</td>\n",
       "    </tr>\n",
       "    <tr>\n",
       "      <th>2</th>\n",
       "      <td>1013.0</td>\n",
       "      <td>Asia</td>\n",
       "      <td>Poblacion 65+</td>\n",
       "    </tr>\n",
       "    <tr>\n",
       "      <th>3</th>\n",
       "      <td>3780.2</td>\n",
       "      <td>Europa</td>\n",
       "      <td>Poblacion 0-14</td>\n",
       "    </tr>\n",
       "    <tr>\n",
       "      <th>4</th>\n",
       "      <td>13830.6</td>\n",
       "      <td>Europa</td>\n",
       "      <td>Poblacion 15-64</td>\n",
       "    </tr>\n",
       "    <tr>\n",
       "      <th>5</th>\n",
       "      <td>2890.5</td>\n",
       "      <td>Europa</td>\n",
       "      <td>Poblacion 65+</td>\n",
       "    </tr>\n",
       "    <tr>\n",
       "      <th>6</th>\n",
       "      <td>5375.5</td>\n",
       "      <td>Las Americas</td>\n",
       "      <td>Poblacion 0-14</td>\n",
       "    </tr>\n",
       "    <tr>\n",
       "      <th>7</th>\n",
       "      <td>10901.8</td>\n",
       "      <td>Las Americas</td>\n",
       "      <td>Poblacion 15-64</td>\n",
       "    </tr>\n",
       "    <tr>\n",
       "      <th>8</th>\n",
       "      <td>1223.1</td>\n",
       "      <td>Las Americas</td>\n",
       "      <td>Poblacion 65+</td>\n",
       "    </tr>\n",
       "    <tr>\n",
       "      <th>9</th>\n",
       "      <td>1784.8</td>\n",
       "      <td>Oceania</td>\n",
       "      <td>Poblacion 0-14</td>\n",
       "    </tr>\n",
       "    <tr>\n",
       "      <th>10</th>\n",
       "      <td>3133.1</td>\n",
       "      <td>Oceania</td>\n",
       "      <td>Poblacion 15-64</td>\n",
       "    </tr>\n",
       "    <tr>\n",
       "      <th>11</th>\n",
       "      <td>282.5</td>\n",
       "      <td>Oceania</td>\n",
       "      <td>Poblacion 65+</td>\n",
       "    </tr>\n",
       "    <tr>\n",
       "      <th>12</th>\n",
       "      <td>1754.7</td>\n",
       "      <td>Oriente Medio</td>\n",
       "      <td>Poblacion 0-14</td>\n",
       "    </tr>\n",
       "    <tr>\n",
       "      <th>13</th>\n",
       "      <td>3251.1</td>\n",
       "      <td>Oriente Medio</td>\n",
       "      <td>Poblacion 15-64</td>\n",
       "    </tr>\n",
       "    <tr>\n",
       "      <th>14</th>\n",
       "      <td>194.2</td>\n",
       "      <td>Oriente Medio</td>\n",
       "      <td>Poblacion 65+</td>\n",
       "    </tr>\n",
       "    <tr>\n",
       "      <th>15</th>\n",
       "      <td>11136.2</td>\n",
       "      <td>africa</td>\n",
       "      <td>Poblacion 0-14</td>\n",
       "    </tr>\n",
       "    <tr>\n",
       "      <th>16</th>\n",
       "      <td>14452.7</td>\n",
       "      <td>africa</td>\n",
       "      <td>Poblacion 15-64</td>\n",
       "    </tr>\n",
       "    <tr>\n",
       "      <th>17</th>\n",
       "      <td>911.7</td>\n",
       "      <td>africa</td>\n",
       "      <td>Poblacion 65+</td>\n",
       "    </tr>\n",
       "  </tbody>\n",
       "</table>\n",
       "</div>"
      ],
      "text/plain": [
       "    Poblacion         Region              Age\n",
       "0      5318.6           Asia   Poblacion 0-14\n",
       "1     10668.7           Asia  Poblacion 15-64\n",
       "2      1013.0           Asia    Poblacion 65+\n",
       "3      3780.2         Europa   Poblacion 0-14\n",
       "4     13830.6         Europa  Poblacion 15-64\n",
       "5      2890.5         Europa    Poblacion 65+\n",
       "6      5375.5   Las Americas   Poblacion 0-14\n",
       "7     10901.8   Las Americas  Poblacion 15-64\n",
       "8      1223.1   Las Americas    Poblacion 65+\n",
       "9      1784.8        Oceania   Poblacion 0-14\n",
       "10     3133.1        Oceania  Poblacion 15-64\n",
       "11      282.5        Oceania    Poblacion 65+\n",
       "12     1754.7  Oriente Medio   Poblacion 0-14\n",
       "13     3251.1  Oriente Medio  Poblacion 15-64\n",
       "14      194.2  Oriente Medio    Poblacion 65+\n",
       "15    11136.2         africa   Poblacion 0-14\n",
       "16    14452.7         africa  Poblacion 15-64\n",
       "17      911.7         africa    Poblacion 65+"
      ]
     },
     "execution_count": 6,
     "metadata": {},
     "output_type": "execute_result"
    }
   ],
   "source": [
    "## Se cambia el nombre de la última columna\n",
    "df.columns = ['Poblacion']\n",
    "\n",
    "## Se agrega la columna Region y se \n",
    "## extrae la región como la primera componente\n",
    "## del índice\n",
    "df['Region'] = [p[0] for p in df.index]\n",
    "\n",
    "## Se agrega la columna Edad y se extrae como\n",
    "## la segunda componente del índice\n",
    "df['Age'] = [p[1] for p in df.index]\n",
    "\n",
    "## Se cambia el índice por un consecutivo\n",
    "df.index = range(len(df))\n",
    "\n",
    "## Se imprime el DataFrame final\n",
    "df"
   ]
  },
  {
   "cell_type": "markdown",
   "metadata": {},
   "source": [
    "### Construcción del gráfico"
   ]
  },
  {
   "cell_type": "markdown",
   "metadata": {},
   "source": [
    "Se realiza la primera interación para construir el gráfico. La estructura de un gráfico en Altair siempre es la misma. La componente `mark_bar()` indica el tipo de gráfico. Los campos se indican mediante su nombre, seguido de `:`, seguido del tipo de dato (N: Nominal, Q: Quantity)."
   ]
  },
  {
   "cell_type": "code",
   "execution_count": 7,
   "metadata": {
    "scrolled": true
   },
   "outputs": [
    {
     "data": {
      "application/javascript": [
       "var spec = {\"config\": {\"view\": {\"width\": 400, \"height\": 300}, \"mark\": {\"tooltip\": null}}, \"data\": {\"name\": \"data-79353f9e73966b76ee648c81c5e15d05\"}, \"mark\": \"bar\", \"encoding\": {\"x\": {\"type\": \"nominal\", \"field\": \"Region\"}, \"y\": {\"type\": \"quantitative\", \"field\": \"Poblacion\"}}, \"$schema\": \"https://vega.github.io/schema/vega-lite/v3.2.1.json\", \"datasets\": {\"data-79353f9e73966b76ee648c81c5e15d05\": [{\"Poblacion\": 5318.5999999999985, \"Region\": \"Asia\", \"Age\": \"Poblacion 0-14\"}, {\"Poblacion\": 10668.699999999999, \"Region\": \"Asia\", \"Age\": \"Poblacion 15-64\"}, {\"Poblacion\": 1013.0000000000001, \"Region\": \"Asia\", \"Age\": \"Poblacion 65+\"}, {\"Poblacion\": 3780.200000000001, \"Region\": \"Europa\", \"Age\": \"Poblacion 0-14\"}, {\"Poblacion\": 13830.599999999999, \"Region\": \"Europa\", \"Age\": \"Poblacion 15-64\"}, {\"Poblacion\": 2890.500000000002, \"Region\": \"Europa\", \"Age\": \"Poblacion 65+\"}, {\"Poblacion\": 5375.500000000002, \"Region\": \"Las Americas\", \"Age\": \"Poblacion 0-14\"}, {\"Poblacion\": 10901.799999999996, \"Region\": \"Las Americas\", \"Age\": \"Poblacion 15-64\"}, {\"Poblacion\": 1223.1, \"Region\": \"Las Americas\", \"Age\": \"Poblacion 65+\"}, {\"Poblacion\": 1784.8, \"Region\": \"Oceania\", \"Age\": \"Poblacion 0-14\"}, {\"Poblacion\": 3133.1000000000004, \"Region\": \"Oceania\", \"Age\": \"Poblacion 15-64\"}, {\"Poblacion\": 282.50000000000006, \"Region\": \"Oceania\", \"Age\": \"Poblacion 65+\"}, {\"Poblacion\": 1754.7000000000003, \"Region\": \"Oriente Medio\", \"Age\": \"Poblacion 0-14\"}, {\"Poblacion\": 3251.1000000000004, \"Region\": \"Oriente Medio\", \"Age\": \"Poblacion 15-64\"}, {\"Poblacion\": 194.20000000000005, \"Region\": \"Oriente Medio\", \"Age\": \"Poblacion 65+\"}, {\"Poblacion\": 11136.2, \"Region\": \"africa\", \"Age\": \"Poblacion 0-14\"}, {\"Poblacion\": 14452.699999999992, \"Region\": \"africa\", \"Age\": \"Poblacion 15-64\"}, {\"Poblacion\": 911.7000000000003, \"Region\": \"africa\", \"Age\": \"Poblacion 65+\"}]}};\n",
       "var opt = {};\n",
       "var type = \"vega-lite\";\n",
       "var id = \"666224e6-6c49-4789-a521-519776de2178\";\n",
       "\n",
       "var output_area = this;\n",
       "\n",
       "require([\"nbextensions/jupyter-vega/index\"], function(vega) {\n",
       "  var target = document.createElement(\"div\");\n",
       "  target.id = id;\n",
       "  target.className = \"vega-embed\";\n",
       "\n",
       "  var style = document.createElement(\"style\");\n",
       "  style.textContent = [\n",
       "    \".vega-embed .error p {\",\n",
       "    \"  color: firebrick;\",\n",
       "    \"  font-size: 14px;\",\n",
       "    \"}\",\n",
       "  ].join(\"\\\\n\");\n",
       "\n",
       "  // element is a jQuery wrapped DOM element inside the output area\n",
       "  // see http://ipython.readthedocs.io/en/stable/api/generated/\\\n",
       "  // IPython.display.html#IPython.display.Javascript.__init__\n",
       "  element[0].appendChild(target);\n",
       "  element[0].appendChild(style);\n",
       "\n",
       "  vega.render(\"#\" + id, spec, type, opt, output_area);\n",
       "}, function (err) {\n",
       "  if (err.requireType !== \"scripterror\") {\n",
       "    throw(err);\n",
       "  }\n",
       "});\n"
      ],
      "text/plain": [
       "<vega.vegalite.VegaLite at 0x7f6cff6e3278>"
      ]
     },
     "metadata": {
      "jupyter-vega": "#666224e6-6c49-4789-a521-519776de2178"
     },
     "output_type": "display_data"
    },
    {
     "data": {
      "text/plain": []
     },
     "execution_count": 7,
     "metadata": {},
     "output_type": "execute_result"
    },
    {
     "data": {
      "image/png": "[encoded data removed]"
     },
     "metadata": {
      "jupyter-vega": "#666224e6-6c49-4789-a521-519776de2178"
     },
     "output_type": "display_data"
    }
   ],
   "source": [
    "##\n",
    "## En este primer gráfico, los valores están apilados.\n",
    "##\n",
    "alt.Chart(df).mark_bar().encode(\n",
    "    x = 'Region:N',          # Columna en el eje X          \n",
    "    y = 'Poblacion:Q'        # Columna en el eje Y\n",
    ")"
   ]
  },
  {
   "cell_type": "code",
   "execution_count": 8,
   "metadata": {
    "scrolled": false
   },
   "outputs": [
    {
     "data": {
      "application/javascript": [
       "var spec = {\"config\": {\"view\": {\"width\": 400, \"height\": 300}, \"mark\": {\"tooltip\": null}}, \"data\": {\"name\": \"data-79353f9e73966b76ee648c81c5e15d05\"}, \"mark\": \"bar\", \"encoding\": {\"color\": {\"type\": \"nominal\", \"field\": \"Age\"}, \"x\": {\"type\": \"nominal\", \"field\": \"Region\"}, \"y\": {\"type\": \"quantitative\", \"field\": \"Poblacion\"}}, \"$schema\": \"https://vega.github.io/schema/vega-lite/v3.2.1.json\", \"datasets\": {\"data-79353f9e73966b76ee648c81c5e15d05\": [{\"Poblacion\": 5318.5999999999985, \"Region\": \"Asia\", \"Age\": \"Poblacion 0-14\"}, {\"Poblacion\": 10668.699999999999, \"Region\": \"Asia\", \"Age\": \"Poblacion 15-64\"}, {\"Poblacion\": 1013.0000000000001, \"Region\": \"Asia\", \"Age\": \"Poblacion 65+\"}, {\"Poblacion\": 3780.200000000001, \"Region\": \"Europa\", \"Age\": \"Poblacion 0-14\"}, {\"Poblacion\": 13830.599999999999, \"Region\": \"Europa\", \"Age\": \"Poblacion 15-64\"}, {\"Poblacion\": 2890.500000000002, \"Region\": \"Europa\", \"Age\": \"Poblacion 65+\"}, {\"Poblacion\": 5375.500000000002, \"Region\": \"Las Americas\", \"Age\": \"Poblacion 0-14\"}, {\"Poblacion\": 10901.799999999996, \"Region\": \"Las Americas\", \"Age\": \"Poblacion 15-64\"}, {\"Poblacion\": 1223.1, \"Region\": \"Las Americas\", \"Age\": \"Poblacion 65+\"}, {\"Poblacion\": 1784.8, \"Region\": \"Oceania\", \"Age\": \"Poblacion 0-14\"}, {\"Poblacion\": 3133.1000000000004, \"Region\": \"Oceania\", \"Age\": \"Poblacion 15-64\"}, {\"Poblacion\": 282.50000000000006, \"Region\": \"Oceania\", \"Age\": \"Poblacion 65+\"}, {\"Poblacion\": 1754.7000000000003, \"Region\": \"Oriente Medio\", \"Age\": \"Poblacion 0-14\"}, {\"Poblacion\": 3251.1000000000004, \"Region\": \"Oriente Medio\", \"Age\": \"Poblacion 15-64\"}, {\"Poblacion\": 194.20000000000005, \"Region\": \"Oriente Medio\", \"Age\": \"Poblacion 65+\"}, {\"Poblacion\": 11136.2, \"Region\": \"africa\", \"Age\": \"Poblacion 0-14\"}, {\"Poblacion\": 14452.699999999992, \"Region\": \"africa\", \"Age\": \"Poblacion 15-64\"}, {\"Poblacion\": 911.7000000000003, \"Region\": \"africa\", \"Age\": \"Poblacion 65+\"}]}};\n",
       "var opt = {};\n",
       "var type = \"vega-lite\";\n",
       "var id = \"04b43a9a-065d-4d6f-8ae1-7516b8fa7a98\";\n",
       "\n",
       "var output_area = this;\n",
       "\n",
       "require([\"nbextensions/jupyter-vega/index\"], function(vega) {\n",
       "  var target = document.createElement(\"div\");\n",
       "  target.id = id;\n",
       "  target.className = \"vega-embed\";\n",
       "\n",
       "  var style = document.createElement(\"style\");\n",
       "  style.textContent = [\n",
       "    \".vega-embed .error p {\",\n",
       "    \"  color: firebrick;\",\n",
       "    \"  font-size: 14px;\",\n",
       "    \"}\",\n",
       "  ].join(\"\\\\n\");\n",
       "\n",
       "  // element is a jQuery wrapped DOM element inside the output area\n",
       "  // see http://ipython.readthedocs.io/en/stable/api/generated/\\\n",
       "  // IPython.display.html#IPython.display.Javascript.__init__\n",
       "  element[0].appendChild(target);\n",
       "  element[0].appendChild(style);\n",
       "\n",
       "  vega.render(\"#\" + id, spec, type, opt, output_area);\n",
       "}, function (err) {\n",
       "  if (err.requireType !== \"scripterror\") {\n",
       "    throw(err);\n",
       "  }\n",
       "});\n"
      ],
      "text/plain": [
       "<vega.vegalite.VegaLite at 0x7f6cfd214a58>"
      ]
     },
     "metadata": {
      "jupyter-vega": "#04b43a9a-065d-4d6f-8ae1-7516b8fa7a98"
     },
     "output_type": "display_data"
    },
    {
     "data": {
      "text/plain": []
     },
     "execution_count": 8,
     "metadata": {},
     "output_type": "execute_result"
    },
    {
     "data": {
      "image/png": "[encoded data removed]"
     },
     "metadata": {
      "jupyter-vega": "#04b43a9a-065d-4d6f-8ae1-7516b8fa7a98"
     },
     "output_type": "display_data"
    }
   ],
   "source": [
    "##\n",
    "## Se cambian los colores para cada rango de edad\n",
    "##\n",
    "alt.Chart(df).mark_bar().encode(\n",
    "    x = 'Region:N',          # Columna en el eje X          \n",
    "    y = 'Poblacion:Q',       # Columna en el eje Y\n",
    "    color = 'Age:N'          # Los colores cambian con el\n",
    ")                            # rango de edad"
   ]
  },
  {
   "cell_type": "code",
   "execution_count": 9,
   "metadata": {
    "scrolled": true
   },
   "outputs": [
    {
     "data": {
      "application/javascript": [
       "var spec = {\"config\": {\"view\": {\"width\": 400, \"height\": 300}, \"mark\": {\"tooltip\": null}}, \"data\": {\"name\": \"data-79353f9e73966b76ee648c81c5e15d05\"}, \"mark\": \"bar\", \"encoding\": {\"color\": {\"type\": \"nominal\", \"field\": \"Age\"}, \"row\": {\"type\": \"nominal\", \"field\": \"Age\"}, \"x\": {\"type\": \"nominal\", \"field\": \"Region\"}, \"y\": {\"type\": \"quantitative\", \"field\": \"Poblacion\"}}, \"$schema\": \"https://vega.github.io/schema/vega-lite/v3.2.1.json\", \"datasets\": {\"data-79353f9e73966b76ee648c81c5e15d05\": [{\"Poblacion\": 5318.5999999999985, \"Region\": \"Asia\", \"Age\": \"Poblacion 0-14\"}, {\"Poblacion\": 10668.699999999999, \"Region\": \"Asia\", \"Age\": \"Poblacion 15-64\"}, {\"Poblacion\": 1013.0000000000001, \"Region\": \"Asia\", \"Age\": \"Poblacion 65+\"}, {\"Poblacion\": 3780.200000000001, \"Region\": \"Europa\", \"Age\": \"Poblacion 0-14\"}, {\"Poblacion\": 13830.599999999999, \"Region\": \"Europa\", \"Age\": \"Poblacion 15-64\"}, {\"Poblacion\": 2890.500000000002, \"Region\": \"Europa\", \"Age\": \"Poblacion 65+\"}, {\"Poblacion\": 5375.500000000002, \"Region\": \"Las Americas\", \"Age\": \"Poblacion 0-14\"}, {\"Poblacion\": 10901.799999999996, \"Region\": \"Las Americas\", \"Age\": \"Poblacion 15-64\"}, {\"Poblacion\": 1223.1, \"Region\": \"Las Americas\", \"Age\": \"Poblacion 65+\"}, {\"Poblacion\": 1784.8, \"Region\": \"Oceania\", \"Age\": \"Poblacion 0-14\"}, {\"Poblacion\": 3133.1000000000004, \"Region\": \"Oceania\", \"Age\": \"Poblacion 15-64\"}, {\"Poblacion\": 282.50000000000006, \"Region\": \"Oceania\", \"Age\": \"Poblacion 65+\"}, {\"Poblacion\": 1754.7000000000003, \"Region\": \"Oriente Medio\", \"Age\": \"Poblacion 0-14\"}, {\"Poblacion\": 3251.1000000000004, \"Region\": \"Oriente Medio\", \"Age\": \"Poblacion 15-64\"}, {\"Poblacion\": 194.20000000000005, \"Region\": \"Oriente Medio\", \"Age\": \"Poblacion 65+\"}, {\"Poblacion\": 11136.2, \"Region\": \"africa\", \"Age\": \"Poblacion 0-14\"}, {\"Poblacion\": 14452.699999999992, \"Region\": \"africa\", \"Age\": \"Poblacion 15-64\"}, {\"Poblacion\": 911.7000000000003, \"Region\": \"africa\", \"Age\": \"Poblacion 65+\"}]}};\n",
       "var opt = {};\n",
       "var type = \"vega-lite\";\n",
       "var id = \"b2733e18-866e-4cc9-b695-636edb6a5f83\";\n",
       "\n",
       "var output_area = this;\n",
       "\n",
       "require([\"nbextensions/jupyter-vega/index\"], function(vega) {\n",
       "  var target = document.createElement(\"div\");\n",
       "  target.id = id;\n",
       "  target.className = \"vega-embed\";\n",
       "\n",
       "  var style = document.createElement(\"style\");\n",
       "  style.textContent = [\n",
       "    \".vega-embed .error p {\",\n",
       "    \"  color: firebrick;\",\n",
       "    \"  font-size: 14px;\",\n",
       "    \"}\",\n",
       "  ].join(\"\\\\n\");\n",
       "\n",
       "  // element is a jQuery wrapped DOM element inside the output area\n",
       "  // see http://ipython.readthedocs.io/en/stable/api/generated/\\\n",
       "  // IPython.display.html#IPython.display.Javascript.__init__\n",
       "  element[0].appendChild(target);\n",
       "  element[0].appendChild(style);\n",
       "\n",
       "  vega.render(\"#\" + id, spec, type, opt, output_area);\n",
       "}, function (err) {\n",
       "  if (err.requireType !== \"scripterror\") {\n",
       "    throw(err);\n",
       "  }\n",
       "});\n"
      ],
      "text/plain": [
       "<vega.vegalite.VegaLite at 0x7f6cfd214cf8>"
      ]
     },
     "metadata": {
      "jupyter-vega": "#b2733e18-866e-4cc9-b695-636edb6a5f83"
     },
     "output_type": "display_data"
    },
    {
     "data": {
      "text/plain": []
     },
     "execution_count": 9,
     "metadata": {},
     "output_type": "execute_result"
    },
    {
     "data": {
      "image/png": "[encoded data removed]"
     },
     "metadata": {
      "jupyter-vega": "#b2733e18-866e-4cc9-b695-636edb6a5f83"
     },
     "output_type": "display_data"
    }
   ],
   "source": [
    "## \n",
    "## Para generar un gráfico por cada rango de edad\n",
    "## se adiciona la propiedad `row` indicando que depende\n",
    "## de la columna `Age`.\n",
    "##\n",
    "alt.Chart(df).mark_bar().encode(\n",
    "    x = 'Region:N',            \n",
    "    y = 'Poblacion:Q',\n",
    "    color = 'Age:N',\n",
    "    row='Age:N'\n",
    ")"
   ]
  },
  {
   "cell_type": "code",
   "execution_count": 10,
   "metadata": {},
   "outputs": [
    {
     "data": {
      "application/javascript": [
       "var spec = {\"config\": {\"view\": {\"width\": 400, \"height\": 300}, \"mark\": {\"tooltip\": null}}, \"data\": {\"name\": \"data-79353f9e73966b76ee648c81c5e15d05\"}, \"mark\": \"bar\", \"encoding\": {\"color\": {\"type\": \"nominal\", \"field\": \"Age\"}, \"row\": {\"type\": \"nominal\", \"field\": \"Age\"}, \"x\": {\"type\": \"nominal\", \"field\": \"Region\"}, \"y\": {\"type\": \"quantitative\", \"field\": \"Poblacion\"}}, \"height\": 200, \"width\": 350, \"$schema\": \"https://vega.github.io/schema/vega-lite/v3.2.1.json\", \"datasets\": {\"data-79353f9e73966b76ee648c81c5e15d05\": [{\"Poblacion\": 5318.5999999999985, \"Region\": \"Asia\", \"Age\": \"Poblacion 0-14\"}, {\"Poblacion\": 10668.699999999999, \"Region\": \"Asia\", \"Age\": \"Poblacion 15-64\"}, {\"Poblacion\": 1013.0000000000001, \"Region\": \"Asia\", \"Age\": \"Poblacion 65+\"}, {\"Poblacion\": 3780.200000000001, \"Region\": \"Europa\", \"Age\": \"Poblacion 0-14\"}, {\"Poblacion\": 13830.599999999999, \"Region\": \"Europa\", \"Age\": \"Poblacion 15-64\"}, {\"Poblacion\": 2890.500000000002, \"Region\": \"Europa\", \"Age\": \"Poblacion 65+\"}, {\"Poblacion\": 5375.500000000002, \"Region\": \"Las Americas\", \"Age\": \"Poblacion 0-14\"}, {\"Poblacion\": 10901.799999999996, \"Region\": \"Las Americas\", \"Age\": \"Poblacion 15-64\"}, {\"Poblacion\": 1223.1, \"Region\": \"Las Americas\", \"Age\": \"Poblacion 65+\"}, {\"Poblacion\": 1784.8, \"Region\": \"Oceania\", \"Age\": \"Poblacion 0-14\"}, {\"Poblacion\": 3133.1000000000004, \"Region\": \"Oceania\", \"Age\": \"Poblacion 15-64\"}, {\"Poblacion\": 282.50000000000006, \"Region\": \"Oceania\", \"Age\": \"Poblacion 65+\"}, {\"Poblacion\": 1754.7000000000003, \"Region\": \"Oriente Medio\", \"Age\": \"Poblacion 0-14\"}, {\"Poblacion\": 3251.1000000000004, \"Region\": \"Oriente Medio\", \"Age\": \"Poblacion 15-64\"}, {\"Poblacion\": 194.20000000000005, \"Region\": \"Oriente Medio\", \"Age\": \"Poblacion 65+\"}, {\"Poblacion\": 11136.2, \"Region\": \"africa\", \"Age\": \"Poblacion 0-14\"}, {\"Poblacion\": 14452.699999999992, \"Region\": \"africa\", \"Age\": \"Poblacion 15-64\"}, {\"Poblacion\": 911.7000000000003, \"Region\": \"africa\", \"Age\": \"Poblacion 65+\"}]}};\n",
       "var opt = {};\n",
       "var type = \"vega-lite\";\n",
       "var id = \"eae975cc-2db2-4ced-af7e-a11d2080e482\";\n",
       "\n",
       "var output_area = this;\n",
       "\n",
       "require([\"nbextensions/jupyter-vega/index\"], function(vega) {\n",
       "  var target = document.createElement(\"div\");\n",
       "  target.id = id;\n",
       "  target.className = \"vega-embed\";\n",
       "\n",
       "  var style = document.createElement(\"style\");\n",
       "  style.textContent = [\n",
       "    \".vega-embed .error p {\",\n",
       "    \"  color: firebrick;\",\n",
       "    \"  font-size: 14px;\",\n",
       "    \"}\",\n",
       "  ].join(\"\\\\n\");\n",
       "\n",
       "  // element is a jQuery wrapped DOM element inside the output area\n",
       "  // see http://ipython.readthedocs.io/en/stable/api/generated/\\\n",
       "  // IPython.display.html#IPython.display.Javascript.__init__\n",
       "  element[0].appendChild(target);\n",
       "  element[0].appendChild(style);\n",
       "\n",
       "  vega.render(\"#\" + id, spec, type, opt, output_area);\n",
       "}, function (err) {\n",
       "  if (err.requireType !== \"scripterror\") {\n",
       "    throw(err);\n",
       "  }\n",
       "});\n"
      ],
      "text/plain": [
       "<vega.vegalite.VegaLite at 0x7f6cfd1c4d30>"
      ]
     },
     "metadata": {
      "jupyter-vega": "#eae975cc-2db2-4ced-af7e-a11d2080e482"
     },
     "output_type": "display_data"
    },
    {
     "data": {
      "text/plain": []
     },
     "execution_count": 10,
     "metadata": {},
     "output_type": "execute_result"
    },
    {
     "data": {
      "image/png": "[encoded data removed]"
     },
     "metadata": {
      "jupyter-vega": "#eae975cc-2db2-4ced-af7e-a11d2080e482"
     },
     "output_type": "display_data"
    }
   ],
   "source": [
    "## \n",
    "## Se procede a cambiar el tamaño del gráfico\n",
    "## usando `properties.\n",
    "##\n",
    "alt.Chart(df).mark_bar().encode(\n",
    "    x = 'Region:N',            \n",
    "    y = 'Poblacion:Q',\n",
    "    color = 'Age:N',\n",
    "    row='Age:N'\n",
    ").properties(width=350, height=200)"
   ]
  },
  {
   "cell_type": "markdown",
   "metadata": {},
   "source": [
    "### Gráfico Alternativo"
   ]
  },
  {
   "cell_type": "markdown",
   "metadata": {},
   "source": [
    "Como alternativa, se propone generar un gráfico horizontal, colocando la region en el eje Y y el tamaño de la población en el eje X. Para esto, se invierten los valores de `x` y `y` y se modifica el tamaño de la gráfica."
   ]
  },
  {
   "cell_type": "code",
   "execution_count": 11,
   "metadata": {},
   "outputs": [
    {
     "data": {
      "application/javascript": [
       "var spec = {\"config\": {\"view\": {\"width\": 400, \"height\": 300}, \"mark\": {\"tooltip\": null}}, \"data\": {\"name\": \"data-79353f9e73966b76ee648c81c5e15d05\"}, \"mark\": \"bar\", \"encoding\": {\"color\": {\"type\": \"nominal\", \"field\": \"Age\"}, \"column\": {\"type\": \"nominal\", \"field\": \"Age\"}, \"x\": {\"type\": \"quantitative\", \"field\": \"Poblacion\"}, \"y\": {\"type\": \"nominal\", \"field\": \"Region\"}}, \"height\": 200, \"width\": 200, \"$schema\": \"https://vega.github.io/schema/vega-lite/v3.2.1.json\", \"datasets\": {\"data-79353f9e73966b76ee648c81c5e15d05\": [{\"Poblacion\": 5318.5999999999985, \"Region\": \"Asia\", \"Age\": \"Poblacion 0-14\"}, {\"Poblacion\": 10668.699999999999, \"Region\": \"Asia\", \"Age\": \"Poblacion 15-64\"}, {\"Poblacion\": 1013.0000000000001, \"Region\": \"Asia\", \"Age\": \"Poblacion 65+\"}, {\"Poblacion\": 3780.200000000001, \"Region\": \"Europa\", \"Age\": \"Poblacion 0-14\"}, {\"Poblacion\": 13830.599999999999, \"Region\": \"Europa\", \"Age\": \"Poblacion 15-64\"}, {\"Poblacion\": 2890.500000000002, \"Region\": \"Europa\", \"Age\": \"Poblacion 65+\"}, {\"Poblacion\": 5375.500000000002, \"Region\": \"Las Americas\", \"Age\": \"Poblacion 0-14\"}, {\"Poblacion\": 10901.799999999996, \"Region\": \"Las Americas\", \"Age\": \"Poblacion 15-64\"}, {\"Poblacion\": 1223.1, \"Region\": \"Las Americas\", \"Age\": \"Poblacion 65+\"}, {\"Poblacion\": 1784.8, \"Region\": \"Oceania\", \"Age\": \"Poblacion 0-14\"}, {\"Poblacion\": 3133.1000000000004, \"Region\": \"Oceania\", \"Age\": \"Poblacion 15-64\"}, {\"Poblacion\": 282.50000000000006, \"Region\": \"Oceania\", \"Age\": \"Poblacion 65+\"}, {\"Poblacion\": 1754.7000000000003, \"Region\": \"Oriente Medio\", \"Age\": \"Poblacion 0-14\"}, {\"Poblacion\": 3251.1000000000004, \"Region\": \"Oriente Medio\", \"Age\": \"Poblacion 15-64\"}, {\"Poblacion\": 194.20000000000005, \"Region\": \"Oriente Medio\", \"Age\": \"Poblacion 65+\"}, {\"Poblacion\": 11136.2, \"Region\": \"africa\", \"Age\": \"Poblacion 0-14\"}, {\"Poblacion\": 14452.699999999992, \"Region\": \"africa\", \"Age\": \"Poblacion 15-64\"}, {\"Poblacion\": 911.7000000000003, \"Region\": \"africa\", \"Age\": \"Poblacion 65+\"}]}};\n",
       "var opt = {};\n",
       "var type = \"vega-lite\";\n",
       "var id = \"59b79cf0-4fcf-4c24-9a7b-0f3250137f98\";\n",
       "\n",
       "var output_area = this;\n",
       "\n",
       "require([\"nbextensions/jupyter-vega/index\"], function(vega) {\n",
       "  var target = document.createElement(\"div\");\n",
       "  target.id = id;\n",
       "  target.className = \"vega-embed\";\n",
       "\n",
       "  var style = document.createElement(\"style\");\n",
       "  style.textContent = [\n",
       "    \".vega-embed .error p {\",\n",
       "    \"  color: firebrick;\",\n",
       "    \"  font-size: 14px;\",\n",
       "    \"}\",\n",
       "  ].join(\"\\\\n\");\n",
       "\n",
       "  // element is a jQuery wrapped DOM element inside the output area\n",
       "  // see http://ipython.readthedocs.io/en/stable/api/generated/\\\n",
       "  // IPython.display.html#IPython.display.Javascript.__init__\n",
       "  element[0].appendChild(target);\n",
       "  element[0].appendChild(style);\n",
       "\n",
       "  vega.render(\"#\" + id, spec, type, opt, output_area);\n",
       "}, function (err) {\n",
       "  if (err.requireType !== \"scripterror\") {\n",
       "    throw(err);\n",
       "  }\n",
       "});\n"
      ],
      "text/plain": [
       "<vega.vegalite.VegaLite at 0x7f6cfd1c4c50>"
      ]
     },
     "metadata": {
      "jupyter-vega": "#59b79cf0-4fcf-4c24-9a7b-0f3250137f98"
     },
     "output_type": "display_data"
    },
    {
     "data": {
      "text/plain": []
     },
     "execution_count": 11,
     "metadata": {},
     "output_type": "execute_result"
    },
    {
     "data": {
      "image/png": "[encoded data removed]"
     },
     "metadata": {
      "jupyter-vega": "#59b79cf0-4fcf-4c24-9a7b-0f3250137f98"
     },
     "output_type": "display_data"
    }
   ],
   "source": [
    "alt.Chart(df).mark_bar().encode(\n",
    "    x = 'Poblacion:Q',\n",
    "    y = 'Region:N',            \n",
    "    color = 'Age:N',\n",
    "    column='Age:N'\n",
    ").properties(width=200, height=200)"
   ]
  }
 ],
 "metadata": {
  "kernel_info": {
   "name": "python3"
  },
  "kernelspec": {
   "display_name": "Python 3",
   "language": "python",
   "name": "python3"
  },
  "language_info": {
   "codemirror_mode": {
    "name": "ipython",
    "version": 3
   },
   "file_extension": ".py",
   "mimetype": "text/x-python",
   "name": "python",
   "nbconvert_exporter": "python",
   "pygments_lexer": "ipython3",
   "version": "3.6.8"
  },
  "nteract": {
   "version": "0.7.1"
  },
  "varInspector": {
   "cols": {
    "lenName": 16,
    "lenType": 16,
    "lenVar": 40
   },
   "kernels_config": {
    "python": {
     "delete_cmd_postfix": "",
     "delete_cmd_prefix": "del ",
     "library": "var_list.py",
     "varRefreshCmd": "print(var_dic_list())"
    },
    "r": {
     "delete_cmd_postfix": ") ",
     "delete_cmd_prefix": "rm(",
     "library": "var_list.r",
     "varRefreshCmd": "cat(var_dic_list()) "
    }
   },
   "types_to_exclude": [
    "module",
    "function",
    "builtin_function_or_method",
    "instance",
    "_Feature"
   ],
   "window_display": false
  }
 },
 "nbformat": 4,
 "nbformat_minor": 2
}
