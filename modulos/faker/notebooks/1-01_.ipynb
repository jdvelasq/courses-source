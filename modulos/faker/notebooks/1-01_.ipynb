{
 "cells": [
  {
   "cell_type": "markdown",
   "id": "e91bf09e-cc1a-49c3-8ef8-267e53247491",
   "metadata": {
    "tags": []
   },
   "source": [
    "Generación de datos con Faker\n",
    "===\n",
    "\n",
    "* Ultima modificación: Mayo 14, 2022"
   ]
  },
  {
   "cell_type": "markdown",
   "id": "527185d7-a145-4680-b021-e7b02b3d8d9e",
   "metadata": {},
   "source": [
    "Uso básico\n",
    "--"
   ]
  },
  {
   "cell_type": "code",
   "execution_count": 1,
   "id": "0cb87fa1-445c-4490-b976-65c75a827edb",
   "metadata": {},
   "outputs": [],
   "source": [
    "from faker import Faker\n",
    "\n",
    "fake = Faker()"
   ]
  },
  {
   "cell_type": "code",
   "execution_count": 2,
   "id": "66197157-c62b-4426-9b8e-0a3b079c0eb7",
   "metadata": {},
   "outputs": [
    {
     "data": {
      "text/plain": [
       "'71380 Lamb Ridges Suite 608\\nRileyview, UT 16034'"
      ]
     },
     "execution_count": 2,
     "metadata": {},
     "output_type": "execute_result"
    }
   ],
   "source": [
    "fake.address()"
   ]
  },
  {
   "cell_type": "code",
   "execution_count": 3,
   "id": "348e708b-5c26-4f4a-857a-72f536499811",
   "metadata": {},
   "outputs": [
    {
     "data": {
      "text/plain": [
       "'Always room short together trip. Lot well explain top per chance.\\nLife red accept. Serious then professor hit memory sport. Understand special mission.'"
      ]
     },
     "execution_count": 3,
     "metadata": {},
     "output_type": "execute_result"
    }
   ],
   "source": [
    "fake.text()"
   ]
  },
  {
   "cell_type": "code",
   "execution_count": 4,
   "id": "315e32b8-1a89-495b-b13c-fd2404edb6cd",
   "metadata": {},
   "outputs": [
    {
     "data": {
      "text/plain": [
       "['Thomas Walker',\n",
       " 'Shane Barrett MD',\n",
       " 'Anthony Dawson',\n",
       " 'Brooke Beasley MD',\n",
       " 'Christina Daniel',\n",
       " 'Taylor Avila',\n",
       " 'Rachel Ramos',\n",
       " 'Michelle Romero',\n",
       " 'Melissa Tate',\n",
       " 'Jamie Castillo']"
      ]
     },
     "execution_count": 4,
     "metadata": {},
     "output_type": "execute_result"
    }
   ],
   "source": [
    "[fake.name() for _ in range(10)]"
   ]
  },
  {
   "cell_type": "markdown",
   "id": "38b4a850-7158-4f0d-be81-cfaff3965610",
   "metadata": {},
   "source": [
    "Providers\n",
    "---"
   ]
  },
  {
   "cell_type": "code",
   "execution_count": 5,
   "id": "5a2911d5-ba02-40e3-8c53-b3f37ce4ec6a",
   "metadata": {},
   "outputs": [
    {
     "data": {
      "text/plain": [
       "'192.168.207.70'"
      ]
     },
     "execution_count": 5,
     "metadata": {},
     "output_type": "execute_result"
    }
   ],
   "source": [
    "from faker.providers import internet\n",
    "\n",
    "fake = Faker()\n",
    "fake.add_provider(internet)\n",
    "\n",
    "fake.ipv4_private()"
   ]
  },
  {
   "cell_type": "markdown",
   "id": "dce94c88-2a48-404d-b991-648203f0bf9d",
   "metadata": {},
   "source": [
    "Localization\n",
    "---"
   ]
  },
  {
   "cell_type": "code",
   "execution_count": 6,
   "id": "6b222fed-3632-4629-9e17-c6d282416374",
   "metadata": {},
   "outputs": [
    {
     "name": "stdout",
     "output_type": "stream",
     "text": [
      "Tonino Maffei\n",
      "Ida Scarlatti\n",
      "Tonia Rubbia\n",
      "Eugenia Cendron-Petrucelli\n",
      "Emma Taliani-Luzi\n",
      "Annalisa Cardano\n",
      "Sig. Giacomo Iannucci\n",
      "Vittoria Curci-Emo\n",
      "Luchino Leopardi\n",
      "Dolores Odescalchi\n"
     ]
    }
   ],
   "source": [
    "fake = Faker('it_IT')\n",
    "for _ in range(10):\n",
    "    print(fake.name())"
   ]
  },
  {
   "cell_type": "code",
   "execution_count": 7,
   "id": "a71942ce-f699-46e2-b5e3-a05667d65d92",
   "metadata": {},
   "outputs": [
    {
     "name": "stdout",
     "output_type": "stream",
     "text": [
      "後藤 涼平\n",
      "森 直樹\n",
      "Cecilia Dandolo\n",
      "Chelsea Mcgee\n",
      "Sig.ra Stella Trapani\n",
      "Mr. Michael Moreno DVM\n",
      "Carmen Lawrence\n",
      "橋本 拓真\n",
      "Dott. Sandro Nosiglia\n",
      "Richard Scott\n"
     ]
    }
   ],
   "source": [
    "fake = Faker(['it_IT', 'en_US', 'ja_JP'])\n",
    "for _ in range(10):\n",
    "    print(fake.name())"
   ]
  },
  {
   "cell_type": "markdown",
   "id": "a21a2455-3cbc-48b3-b876-7d12bdad72dc",
   "metadata": {},
   "source": [
    "Línea de comandos\n",
    "---"
   ]
  },
  {
   "cell_type": "code",
   "execution_count": 8,
   "id": "eb2d6fa1-984c-4587-a97c-8e749a3b64e8",
   "metadata": {},
   "outputs": [
    {
     "name": "stdout",
     "output_type": "stream",
     "text": [
      "usage: faker [-h] [--version] [-v] [-o output] [-l LOCALE] [-r REPEAT]\n",
      "             [-s SEP] [--seed SEED] [-i [INCLUDE [INCLUDE ...]]]\n",
      "             [fake] [fake argument [fake argument ...]]\n",
      "\n",
      "faker version 13.4.0\n",
      "\n",
      "positional arguments:\n",
      "  fake                  name of the fake to generate output for (e.g. profile)\n",
      "  fake argument         optional arguments to pass to the fake (e.g. the\n",
      "                        profile fake takes an optional list of comma separated\n",
      "                        field names as the first argument)\n",
      "\n",
      "optional arguments:\n",
      "  -h, --help            show this help message and exit\n",
      "  --version             show program's version number and exit\n",
      "  -v, --verbose         show INFO logging events instead of CRITICAL, which is\n",
      "                        the default. These logging events provide insight into\n",
      "                        localization of specific providers.\n",
      "  -o output             redirect output to a file\n",
      "  -l LOCALE, --lang LOCALE\n",
      "                        specify the language for a localized provider (e.g.\n",
      "                        de_DE)\n",
      "  -r REPEAT, --repeat REPEAT\n",
      "                        generate the specified number of outputs\n",
      "  -s SEP, --sep SEP     use the specified separator after each output\n",
      "  --seed SEED           specify a seed for the random generator so that\n",
      "                        results are repeatable. Also compatible with 'repeat'\n",
      "                        option\n",
      "  -i [INCLUDE [INCLUDE ...]], --include [INCLUDE [INCLUDE ...]]\n",
      "                        list of additional custom providers to user, given as\n",
      "                        the import path of the module containing your Provider\n",
      "                        class (not the provider class itself)\n",
      "\n",
      "supported locales:\n",
      "\n",
      "  ar_AA, ar_AE, ar_EG, ar_JO, ar_PS, ar_SA, az_AZ, bg_BG, bn_BD, bs_BA, cs_CZ, da_DK, de, de_AT, de_CH, de_DE, dk_DK, el_CY, el_GR, en, en_AU, en_CA, en_GB, en_IE, en_IN, en_NZ, en_PH, en_TH, en_US, es, es_CA, es_CO, es_ES, es_MX, et_EE, fa_IR, fi_FI, fil_PH, fr_CA, fr_CH, fr_FR, fr_QC, ga_IE, he_IL, hi_IN, hr_HR, hu_HU, hy_AM, id_ID, it_CH, it_IT, ja_JP, ka_GE, ko_KR, la, lb_LU, lt_LT, lv_LV, mt_MT, ne_NP, nl_BE, nl_NL, no_NO, or_IN, pl_PL, pt_BR, pt_PT, ro_RO, ru_RU, sk_SK, sl_SI, sv_SE, ta_IN, th, th_TH, tl_PH, tr_TR, tw_GH, uk_UA, zh_CN, zh_TW\n",
      "\n",
      "  Faker can take a locale as an optional argument, to return localized data. If\n",
      "  no locale argument is specified, the factory falls back to the user's OS\n",
      "  locale as long as it is supported by at least one of the providers.\n",
      "     - for this user, the default locale is en_US.\n",
      "\n",
      "  If the optional argument locale and/or user's default locale is not available\n",
      "  for the specified provider, the factory falls back to faker's default locale,\n",
      "  which is en_US.\n",
      "\n",
      "examples:\n",
      "\n",
      "  $ faker address\n",
      "  968 Bahringer Garden Apt. 722\n",
      "  Kristinaland, NJ 09890\n",
      "\n",
      "  $ faker -l de_DE address\n",
      "  Samira-Niemeier-Allee 56\n",
      "  94812 Biedenkopf\n",
      "\n",
      "  $ faker profile ssn,birthdate\n",
      "  {'ssn': u'628-10-1085', 'birthdate': '2008-03-29'}\n",
      "\n",
      "  $ faker -r=3 -s=\";\" name\n",
      "  Willam Kertzmann;\n",
      "  Josiah Maggio;\n",
      "  Gayla Schmitt;\n"
     ]
    }
   ],
   "source": [
    "!faker --help"
   ]
  },
  {
   "cell_type": "markdown",
   "id": "c7c83147-15f7-4e68-bfbc-1c4188292b44",
   "metadata": {},
   "source": [
    "Creación de un provider\n",
    "---"
   ]
  },
  {
   "cell_type": "code",
   "execution_count": 9,
   "id": "ae2e44c0-a07e-4c84-951e-ef42a692b2b0",
   "metadata": {},
   "outputs": [
    {
     "data": {
      "text/plain": [
       "'bar'"
      ]
     },
     "execution_count": 9,
     "metadata": {},
     "output_type": "execute_result"
    }
   ],
   "source": [
    "#\n",
    "# Crea un objeto\n",
    "#\n",
    "fake = Faker()\n",
    "\n",
    "# \n",
    "# Se importa un provider existente o se usa el por defecto\n",
    "#\n",
    "from faker.providers import BaseProvider\n",
    "\n",
    "# \n",
    "# Creación de una nueva clase\n",
    "#\n",
    "class MyProvider(BaseProvider):\n",
    "    def foo(self) -> str:\n",
    "        return 'bar'\n",
    "\n",
    "#\n",
    "# Se adiciona el nuevo provider \n",
    "#\n",
    "fake.add_provider(MyProvider)\n",
    "\n",
    "# \n",
    "# Uso\n",
    "#\n",
    "fake.foo()"
   ]
  },
  {
   "cell_type": "markdown",
   "id": "34bac635-3cee-4abd-bcac-2e77412a9add",
   "metadata": {},
   "source": [
    "Uso de un provider dinámico\n",
    "---"
   ]
  },
  {
   "cell_type": "code",
   "execution_count": 10,
   "id": "5ec81d8f-6ed6-4069-96c4-2169b3a90a3d",
   "metadata": {},
   "outputs": [
    {
     "data": {
      "text/plain": [
       "'surgeon'"
      ]
     },
     "execution_count": 10,
     "metadata": {},
     "output_type": "execute_result"
    }
   ],
   "source": [
    "from faker.providers import DynamicProvider\n",
    "\n",
    "medical_professions_provider = DynamicProvider(\n",
    "    provider_name=\"medical_profession\",\n",
    "    elements=[\"dr.\", \"doctor\", \"nurse\", \"surgeon\", \"clerk\"],\n",
    ")\n",
    "\n",
    "fake = Faker()\n",
    "\n",
    "# \n",
    "# Adición del nuevo provider a la instancia de Faker\n",
    "#\n",
    "fake.add_provider(medical_professions_provider)\n",
    "\n",
    "#\n",
    "# Uso\n",
    "#\n",
    "fake.medical_profession()"
   ]
  },
  {
   "cell_type": "markdown",
   "id": "6000eb28-02d9-41db-a4b6-f5d159021401",
   "metadata": {},
   "source": [
    "Proveedor de texto\n",
    "---"
   ]
  },
  {
   "cell_type": "code",
   "execution_count": 11,
   "id": "c0480331-32ec-4c4f-ac88-28f49fcd9f04",
   "metadata": {},
   "outputs": [
    {
     "data": {
      "text/plain": [
       "'Moment environmental gun.'"
      ]
     },
     "execution_count": 11,
     "metadata": {},
     "output_type": "execute_result"
    }
   ],
   "source": [
    "from faker import Faker\n",
    "\n",
    "fake = Faker()\n",
    "\n",
    "my_word_list = [\n",
    "    \"danish\",\n",
    "    \"cheesecake\",\n",
    "    \"sugar\",\n",
    "    \"Lollipop\",\n",
    "    \"wafer\",\n",
    "    \"Gummies\",\n",
    "    \"sesame\",\n",
    "    \"Jelly\",\n",
    "    \"beans\",\n",
    "    \"pie\",\n",
    "    \"bar\",\n",
    "    \"Ice\",\n",
    "    \"oat\",\n",
    "]\n",
    "\n",
    "fake.sentence()"
   ]
  },
  {
   "cell_type": "code",
   "execution_count": 12,
   "id": "59947a98-186b-407c-b14b-65d007ce02a4",
   "metadata": {},
   "outputs": [
    {
     "data": {
      "text/plain": [
       "'Cheesecake Lollipop Lollipop Ice danish Jelly Lollipop.'"
      ]
     },
     "execution_count": 12,
     "metadata": {},
     "output_type": "execute_result"
    }
   ],
   "source": [
    "fake.sentence(ext_word_list=my_word_list)"
   ]
  },
  {
   "cell_type": "markdown",
   "id": "97d1efb5-a017-441c-bf80-d0ef56bbb52a",
   "metadata": {},
   "source": [
    "Factory boy\n",
    "---"
   ]
  },
  {
   "cell_type": "markdown",
   "id": "5d645738-2597-4848-a24e-28593756bf8a",
   "metadata": {},
   "source": [
    "```python\n",
    "import factory\n",
    "from myapp.models import Book\n",
    "\n",
    "class BookFactory(factory.Factory):\n",
    "    class Meta:\n",
    "        model = Book\n",
    "\n",
    "    title = factory.Faker('sentence', nb_words=4)\n",
    "    author_name = factory.Faker('name')\n",
    "```"
   ]
  },
  {
   "cell_type": "markdown",
   "id": "fdc4aeea-8a3c-451b-a022-fa6108c73f2e",
   "metadata": {},
   "source": [
    "Random instance\n",
    "---"
   ]
  },
  {
   "cell_type": "code",
   "execution_count": 14,
   "id": "1a3a8ffe-6a10-442c-b5ca-fa2b9012f5dc",
   "metadata": {},
   "outputs": [
    {
     "data": {
      "text/plain": [
       "3"
      ]
     },
     "execution_count": 14,
     "metadata": {},
     "output_type": "execute_result"
    }
   ],
   "source": [
    "fake = Faker()\n",
    "fake.random\n",
    "a, b, c = fake.random.getstate()\n",
    "a"
   ]
  },
  {
   "cell_type": "code",
   "execution_count": 15,
   "id": "72c0e033-62b0-4453-8543-882c7b241426",
   "metadata": {},
   "outputs": [
    {
     "data": {
      "text/plain": [
       "(3488433372, 3008820493, 3616184552)"
      ]
     },
     "execution_count": 15,
     "metadata": {},
     "output_type": "execute_result"
    }
   ],
   "source": [
    "b[:3]"
   ]
  },
  {
   "cell_type": "code",
   "execution_count": 16,
   "id": "1d8cc561-62ac-40a2-92fa-1e7deeccc297",
   "metadata": {},
   "outputs": [],
   "source": [
    "c"
   ]
  },
  {
   "cell_type": "markdown",
   "id": "6b2891b2-7723-40ff-8021-1ff54695f7cf",
   "metadata": {},
   "source": [
    "Valores únicos\n",
    "--"
   ]
  },
  {
   "cell_type": "code",
   "execution_count": 17,
   "id": "a6fe44e3-d09d-4029-bb62-ad6e20686254",
   "metadata": {},
   "outputs": [],
   "source": [
    "fake = Faker()\n",
    "names = [fake.unique.first_name() for i in range(500)]\n",
    "assert len(set(names)) == len(names)"
   ]
  },
  {
   "cell_type": "markdown",
   "id": "3b6e1a18-f842-4c7d-b0e3-f1eae6d93bd9",
   "metadata": {},
   "source": [
    "Semilla del generador\n",
    "---"
   ]
  },
  {
   "cell_type": "code",
   "execution_count": 19,
   "id": "442d0029-1064-4759-8d86-eb409d6d41f5",
   "metadata": {},
   "outputs": [
    {
     "name": "stdout",
     "output_type": "stream",
     "text": [
      "Jason Brown\n"
     ]
    }
   ],
   "source": [
    "fake = Faker()\n",
    "Faker.seed(4321)\n",
    "\n",
    "print(fake.name())"
   ]
  },
  {
   "cell_type": "code",
   "execution_count": 20,
   "id": "dcb9e80c-7446-420f-bae0-8a4875cec300",
   "metadata": {},
   "outputs": [
    {
     "name": "stdout",
     "output_type": "stream",
     "text": [
      "Jason Brown\n"
     ]
    }
   ],
   "source": [
    "fake = Faker()\n",
    "fake.seed_instance(4321)\n",
    "\n",
    "print(fake.name())"
   ]
  }
 ],
 "metadata": {
  "kernelspec": {
   "display_name": "Python 3 (ipykernel)",
   "language": "python",
   "name": "python3"
  },
  "language_info": {
   "codemirror_mode": {
    "name": "ipython",
    "version": 3
   },
   "file_extension": ".py",
   "mimetype": "text/x-python",
   "name": "python",
   "nbconvert_exporter": "python",
   "pygments_lexer": "ipython3",
   "version": "3.8.10"
  }
 },
 "nbformat": 4,
 "nbformat_minor": 5
}
