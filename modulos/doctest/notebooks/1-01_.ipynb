{
 "cells": [
  {
   "cell_type": "markdown",
   "id": "0699c21c-c7da-43ab-8f91-d4b204a2fb88",
   "metadata": {},
   "source": [
    "doctest\n",
    "===\n",
    "\n",
    "* Última modificación: Mayo  14, 2022"
   ]
  },
  {
   "cell_type": "code",
   "execution_count": 1,
   "id": "b1480ba7-dfc1-4d6c-b540-881c402bc031",
   "metadata": {},
   "outputs": [
    {
     "name": "stdout",
     "output_type": "stream",
     "text": [
      "Overwriting example.py\n"
     ]
    }
   ],
   "source": [
    "%%writefile example.py\n",
    "\"\"\"\n",
    "This is the \"example\" module.\n",
    "\n",
    "The example module supplies one function, factorial().  For example,\n",
    "\n",
    ">>> factorial(5)\n",
    "120\n",
    "\"\"\"\n",
    "\n",
    "def factorial(n):\n",
    "    \"\"\"Return the factorial of n, an exact integer >= 0.\n",
    "\n",
    "    >>> [factorial(n) for n in range(6)]\n",
    "    [1, 1, 2, 6, 24, 120]\n",
    "    >>> factorial(30)\n",
    "    265252859812191058636308480000000\n",
    "    >>> factorial(-1)\n",
    "    Traceback (most recent call last):\n",
    "        ...\n",
    "    ValueError: n must be >= 0\n",
    "\n",
    "    Factorials of floats are OK, but the float must be an exact integer:\n",
    "    >>> factorial(30.1)\n",
    "    Traceback (most recent call last):\n",
    "        ...\n",
    "    ValueError: n must be exact integer\n",
    "    >>> factorial(30.0)\n",
    "    265252859812191058636308480000000\n",
    "\n",
    "    It must also not be ridiculously large:\n",
    "    >>> factorial(1e100)\n",
    "    Traceback (most recent call last):\n",
    "        ...\n",
    "    OverflowError: n too large\n",
    "    \"\"\"\n",
    "\n",
    "    import math\n",
    "    if not n >= 0:\n",
    "        raise ValueError(\"n must be >= 0\")\n",
    "    if math.floor(n) != n:\n",
    "        raise ValueError(\"n must be exact integer\")\n",
    "    if n+1 == n:  # catch a value like 1e300\n",
    "        raise OverflowError(\"n too large\")\n",
    "    result = 1\n",
    "    factor = 2\n",
    "    while factor <= n:\n",
    "        result *= factor\n",
    "        factor += 1\n",
    "    return result\n",
    "\n",
    "\n",
    "if __name__ == \"__main__\":\n",
    "    import doctest\n",
    "    doctest.testmod()"
   ]
  },
  {
   "cell_type": "code",
   "execution_count": 2,
   "id": "166a7425-f435-44b1-aefa-28c75a77d8e2",
   "metadata": {},
   "outputs": [],
   "source": [
    "#\n",
    "# Ejecución\n",
    "#\n",
    "!python3 example.py"
   ]
  },
  {
   "cell_type": "code",
   "execution_count": 3,
   "id": "d06f7a5f-d4e6-4655-ace3-2e2d1c1faa69",
   "metadata": {},
   "outputs": [
    {
     "name": "stdout",
     "output_type": "stream",
     "text": [
      "Trying:\n",
      "    factorial(5)\n",
      "Expecting:\n",
      "    120\n",
      "ok\n",
      "Trying:\n",
      "    [factorial(n) for n in range(6)]\n",
      "Expecting:\n",
      "    [1, 1, 2, 6, 24, 120]\n",
      "ok\n",
      "Trying:\n",
      "    factorial(30)\n",
      "Expecting:\n",
      "    265252859812191058636308480000000\n",
      "ok\n",
      "Trying:\n",
      "    factorial(-1)\n",
      "Expecting:\n",
      "    Traceback (most recent call last):\n",
      "        ...\n",
      "    ValueError: n must be >= 0\n",
      "ok\n",
      "Trying:\n",
      "    factorial(30.1)\n",
      "Expecting:\n",
      "    Traceback (most recent call last):\n",
      "        ...\n",
      "    ValueError: n must be exact integer\n",
      "ok\n",
      "Trying:\n",
      "    factorial(30.0)\n",
      "Expecting:\n",
      "    265252859812191058636308480000000\n",
      "ok\n",
      "Trying:\n",
      "    factorial(1e100)\n",
      "Expecting:\n",
      "    Traceback (most recent call last):\n",
      "        ...\n",
      "    OverflowError: n too large\n",
      "ok\n",
      "2 items passed all tests:\n",
      "   1 tests in __main__\n",
      "   6 tests in __main__.factorial\n",
      "7 tests in 2 items.\n",
      "7 passed and 0 failed.\n",
      "Test passed.\n"
     ]
    }
   ],
   "source": [
    "#\n",
    "# verbose\n",
    "#\n",
    "!python3 example.py -v"
   ]
  },
  {
   "cell_type": "markdown",
   "id": "b0f0d384-54e2-4867-a52f-974febb25555",
   "metadata": {},
   "source": [
    "Verificación de ejemplos en Docstrings\n",
    "---"
   ]
  },
  {
   "cell_type": "markdown",
   "id": "08a2971d-dba9-434f-8bd6-5a8d5a9c4e0b",
   "metadata": {},
   "source": [
    "**Llamado a DocTest dentro del código**"
   ]
  },
  {
   "cell_type": "markdown",
   "id": "00f3a511-8313-440e-a232-522cc169ab36",
   "metadata": {},
   "source": [
    "```python\n",
    "if __name__ == \"__main__\":\n",
    "    import doctest\n",
    "    doctest.testmod()\n",
    "``` "
   ]
  },
  {
   "cell_type": "markdown",
   "id": "19ca60f5-24c8-4c83-a63f-72ac19c7e65a",
   "metadata": {},
   "source": [
    "**Llamado a DocTest por fuera del código**"
   ]
  },
  {
   "cell_type": "markdown",
   "id": "1462c08e-3ef9-4024-a210-feb86af1450a",
   "metadata": {},
   "source": [
    "```bash\n",
    "$ python3 -m doctest -v example.py\n",
    "```"
   ]
  },
  {
   "cell_type": "markdown",
   "id": "c155913b-e90a-4871-95a3-06eed499b9f7",
   "metadata": {},
   "source": [
    "Verificación de ejemplos en un archivo de texto\n",
    "---"
   ]
  },
  {
   "cell_type": "code",
   "execution_count": 4,
   "id": "4561c382-76e3-4c3b-846f-cd84d09ce44e",
   "metadata": {},
   "outputs": [
    {
     "name": "stdout",
     "output_type": "stream",
     "text": [
      "Overwriting example.txt\n"
     ]
    }
   ],
   "source": [
    "%%writefile example.txt\n",
    "The ``example`` module\n",
    "======================\n",
    "\n",
    "Using ``factorial``\n",
    "-------------------\n",
    "\n",
    "This is an example text file in reStructuredText format.  First import\n",
    "``factorial`` from the ``example`` module:\n",
    "\n",
    "    >>> from example import factorial\n",
    "\n",
    "Now use it:\n",
    "\n",
    "    >>> factorial(6)\n",
    "    120"
   ]
  },
  {
   "cell_type": "code",
   "execution_count": 5,
   "id": "e6e18f67-9367-4065-875a-6ae03d3dea58",
   "metadata": {},
   "outputs": [
    {
     "name": "stdout",
     "output_type": "stream",
     "text": [
      "Overwriting test.py\n"
     ]
    }
   ],
   "source": [
    "%%writefile test.py\n",
    "import doctest\n",
    "\n",
    "doctest.testfile(\"./example.txt\")"
   ]
  },
  {
   "cell_type": "code",
   "execution_count": 6,
   "id": "bdd64497-eba2-47dd-a681-5dc4a6dbf6ad",
   "metadata": {},
   "outputs": [
    {
     "name": "stdout",
     "output_type": "stream",
     "text": [
      "**********************************************************************\n",
      "File \"./example.txt\", line 14, in example.txt\n",
      "Failed example:\n",
      "    factorial(6)\n",
      "Expected:\n",
      "    120\n",
      "Got:\n",
      "    720\n",
      "**********************************************************************\n",
      "1 items had failures:\n",
      "   1 of   2 in example.txt\n",
      "***Test Failed*** 1 failures.\n"
     ]
    }
   ],
   "source": [
    "!python3 test.py"
   ]
  },
  {
   "cell_type": "code",
   "execution_count": 7,
   "id": "442f6974-d0d6-42c9-a934-530756c35755",
   "metadata": {},
   "outputs": [
    {
     "name": "stdout",
     "output_type": "stream",
     "text": [
      "Trying:\n",
      "    from example import factorial\n",
      "Expecting nothing\n",
      "ok\n",
      "Trying:\n",
      "    factorial(6)\n",
      "Expecting:\n",
      "    120\n",
      "**********************************************************************\n",
      "File \"example.txt\", line 14, in example.txt\n",
      "Failed example:\n",
      "    factorial(6)\n",
      "Expected:\n",
      "    120\n",
      "Got:\n",
      "    720\n",
      "**********************************************************************\n",
      "1 items had failures:\n",
      "   1 of   2 in example.txt\n",
      "2 tests in 1 items.\n",
      "1 passed and 1 failed.\n",
      "***Test Failed*** 1 failures.\n"
     ]
    }
   ],
   "source": [
    "!python3 -m doctest -v example.txt"
   ]
  }
 ],
 "metadata": {
  "kernelspec": {
   "display_name": "Python 3 (ipykernel)",
   "language": "python",
   "name": "python3"
  },
  "language_info": {
   "codemirror_mode": {
    "name": "ipython",
    "version": 3
   },
   "file_extension": ".py",
   "mimetype": "text/x-python",
   "name": "python",
   "nbconvert_exporter": "python",
   "pygments_lexer": "ipython3",
   "version": "3.8.10"
  }
 },
 "nbformat": 4,
 "nbformat_minor": 5
}
