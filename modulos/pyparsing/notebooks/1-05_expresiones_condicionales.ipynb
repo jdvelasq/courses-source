{
 "cells": [
  {
   "cell_type": "markdown",
   "metadata": {},
   "source": [
    "# Ejemplo: Reconocimiento de expresiones condicionales"
   ]
  },
  {
   "cell_type": "code",
   "execution_count": 1,
   "metadata": {},
   "outputs": [],
   "source": [
    "import pyparsing as pp"
   ]
  },
  {
   "cell_type": "code",
   "execution_count": 2,
   "metadata": {},
   "outputs": [
    {
     "name": "stdout",
     "output_type": "stream",
     "text": [
      "wood and blue or red\n",
      "[['wood', 'and', 'blue'], 'or', 'red']\n",
      "\n",
      "wood and (blue or red)\n",
      "['wood', 'and', ['blue', 'or', 'red']]\n",
      "\n",
      "(steel or iron) and \"lime green\"\n",
      "[['steel', 'or', 'iron'], 'and', 'lime green']\n",
      "\n",
      "not steel or iron and \"lime green\"\n",
      "[['not', 'steel'], 'or', ['iron', 'and', 'lime green']]\n",
      "\n",
      "not(steel or iron) and \"lime green\"\n",
      "[['not', ['steel', 'or', 'iron']], 'and', 'lime green']\n",
      "\n"
     ]
    }
   ],
   "source": [
    "#\n",
    "# Parser para expresiones de búsqueda\n",
    "#\n",
    "#    wood and blue or red\n",
    "#    wood and (blue or red)\n",
    "#    (steel or iron) and \"lime green\"\n",
    "#    not steel or iron and \"lime green\"\n",
    "#    not(steel or iron) and \"lime green\"\n",
    "#\n",
    "from pyparsing import *\n",
    "\n",
    "and_ = CaselessLiteral(\"and\")\n",
    "or_ = CaselessLiteral(\"or\")\n",
    "not_ = CaselessLiteral(\"not\")\n",
    "searchTerm = Word(alphanums) | quotedString.setParseAction(removeQuotes)\n",
    "searchExpr = pp.infix_notation(\n",
    "    searchTerm,\n",
    "    [\n",
    "        (not_, 1, opAssoc.RIGHT),\n",
    "        (and_, 2, opAssoc.LEFT),\n",
    "        (or_, 2, opAssoc.LEFT),\n",
    "    ],\n",
    ")\n",
    "tests = \"\"\"\\\n",
    "    wood and blue or red\n",
    "    wood and (blue or red)\n",
    "    (steel or iron) and \"lime green\"\n",
    "    not steel or iron and \"lime green\"\n",
    "    not(steel or iron) and \"lime green\" \"\"\".splitlines()\n",
    "\n",
    "for t in tests:\n",
    "    print(t.strip())\n",
    "    print(searchExpr.parseString(t)[0])\n",
    "    print()"
   ]
  }
 ],
 "metadata": {
  "kernelspec": {
   "display_name": "Python 3 (ipykernel)",
   "language": "python",
   "name": "python3"
  },
  "language_info": {
   "codemirror_mode": {
    "name": "ipython",
    "version": 3
   },
   "file_extension": ".py",
   "mimetype": "text/x-python",
   "name": "python",
   "nbconvert_exporter": "python",
   "pygments_lexer": "ipython3",
   "version": "3.8.10"
  }
 },
 "nbformat": 4,
 "nbformat_minor": 4
}
