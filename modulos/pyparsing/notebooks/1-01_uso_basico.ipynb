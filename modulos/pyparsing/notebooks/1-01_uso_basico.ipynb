{
 "cells": [
  {
   "cell_type": "markdown",
   "metadata": {},
   "source": [
    "# Uso básico de Pyparsing"
   ]
  },
  {
   "cell_type": "code",
   "execution_count": 1,
   "metadata": {},
   "outputs": [],
   "source": [
    "import pyparsing as pp"
   ]
  },
  {
   "cell_type": "code",
   "execution_count": 2,
   "metadata": {},
   "outputs": [
    {
     "name": "stdout",
     "output_type": "stream",
     "text": [
      "['Hello', ',', 'World', '!']\n",
      "['Bonjour', ',', 'Monde', '!']\n",
      "['Hola', ',', 'Mundo', '!']\n",
      "['Hallo', ',', 'Welt', '!']\n"
     ]
    }
   ],
   "source": [
    "#\n",
    "# Ejemplo: Hola mundo\n",
    "#\n",
    "\n",
    "#\n",
    "# Define la gramática como:\n",
    "# \n",
    "# greet -> string ',' string '!'\n",
    "#\n",
    "greet = pp.Word(pp.alphas) + \",\" + pp.Word(pp.alphas) + \"!\"\n",
    "\n",
    "\n",
    "# procesa saludos en varios idiomas:\n",
    "for greeting_str in [\n",
    "            \"Hello, World!\",\n",
    "            \"Bonjour, Monde!\",\n",
    "            \"Hola, Mundo!\",\n",
    "            \"Hallo, Welt!\",\n",
    "        ]:\n",
    "    greeting = greet.parseString(greeting_str)\n",
    "    print(greeting)"
   ]
  },
  {
   "cell_type": "code",
   "execution_count": 3,
   "metadata": {},
   "outputs": [
    {
     "name": "stdout",
     "output_type": "stream",
     "text": [
      "['111.222.333.444', '(123)456-7890']\n",
      "['131.322.393.458', '(599)353-7800']\n"
     ]
    }
   ],
   "source": [
    "#\n",
    "# Ejemplo: Pasing de una dirección IP y un número telefonico\n",
    "# en formato US:\n",
    "#\n",
    "#    111.222.333.444(123)456-7890\n",
    "#    131.322.393.458(599)353-7800\n",
    "#\n",
    "\n",
    "ipField = pp.Word(pp.nums, max=3)\n",
    "ipAddr = pp.Combine(ipField + \".\" + ipField + \".\" + ipField + \".\" + ipField)\n",
    "phoneNum = pp.Combine(\n",
    "    \"(\"\n",
    "    + pp.Word(pp.nums, exact=3)\n",
    "    + \")\"\n",
    "    + pp.Word(pp.nums, exact=3)\n",
    "    + \"-\"\n",
    "    + pp.Word(pp.nums, exact=4)\n",
    ")\n",
    "userdata = ipAddr + phoneNum\n",
    "\n",
    "for text in [\n",
    "    \"111.222.333.444(123)456-7890\",\n",
    "    \"131.322.393.458(599)353-7800\",\n",
    "]:\n",
    "    parsed_text = userdata.parseString(text)\n",
    "    print(parsed_text)"
   ]
  },
  {
   "cell_type": "code",
   "execution_count": 4,
   "metadata": {},
   "outputs": [
    {
     "name": "stdout",
     "output_type": "stream",
     "text": [
      "['a', '=', '10']\n",
      "['a_2', '=', '100']\n",
      "['pi', '=', '3.14159']\n",
      "['goldenRatio', '=', '1.61803']\n",
      "['E', '=', 'mc2']\n"
     ]
    }
   ],
   "source": [
    "# \n",
    "# Ejemplo: gramática para asignaciones en lenguajes\n",
    "# de programación.\n",
    "#\n",
    "# Ejemplo:\n",
    "#\n",
    "#    a = 10\n",
    "#    a_2=100\n",
    "#    pi=3.14159\n",
    "#    goldenRatio = 1.61803\n",
    "#    E = mc2\n",
    "#\n",
    "identifier = pp.Word(pp.alphas, pp.alphanums+'_')\n",
    "number = pp.Word(pp.nums+\".\")\n",
    "assignmentExpr = identifier + \"=\" + (identifier | number)\n",
    "\n",
    "for text in [\n",
    "    \"a = 10\",\n",
    "    \"a_2=100\",\n",
    "    \"pi=3.14159\",\n",
    "    \"goldenRatio = 1.61803\",\n",
    "    \"E = mc2\",\n",
    "]:\n",
    "    parsed_text = assignmentExpr.parseString(text)\n",
    "    print(parsed_text)"
   ]
  },
  {
   "cell_type": "code",
   "execution_count": 5,
   "metadata": {},
   "outputs": [
    {
     "name": "stdout",
     "output_type": "stream",
     "text": [
      "3.14159 is assigned to pi\n"
     ]
    }
   ],
   "source": [
    "#\n",
    "# Asignación de nombres a partes de la expresión\n",
    "# usando setResultName()\n",
    "#\n",
    "identifier = pp.Word(pp.alphas, pp.alphanums + \"_\")\n",
    "number = pp.Word(pp.nums + \".\")\n",
    "\n",
    "## define los nombres de las partes\n",
    "assignmentExpr = (\n",
    "    identifier.setResultsName(\"lhs\") + \"=\" + (identifier | number).setResultsName(\"rhs\")\n",
    ")\n",
    "\n",
    "## parser\n",
    "assignmentTokens = assignmentExpr.parseString(\"pi=3.14159\")\n",
    "\n",
    "## imprime las componentes usando los nombres asignados\n",
    "print(assignmentTokens.rhs, \"is assigned to\", assignmentTokens.lhs)"
   ]
  },
  {
   "cell_type": "code",
   "execution_count": 6,
   "metadata": {},
   "outputs": [
    {
     "name": "stdout",
     "output_type": "stream",
     "text": [
      "['Hello', ',', 'World', '!']\n",
      "['Hi', ',', 'Mom', '!']\n",
      "['Good', 'morning', ',', 'Miss', 'Crabtree', '!']\n",
      "['Yo', ',', 'Adrian', '!']\n",
      "['Whattup', ',', 'G', '?']\n",
      "[\"How's\", 'it', \"goin'\", ',', 'Dude', '?']\n",
      "['Hey', ',', 'Jude', '!']\n",
      "['Goodbye', ',', 'Mr.', 'Chips', '!']\n"
     ]
    }
   ],
   "source": [
    "#\n",
    "# Ejemplo de una gramática más compleja para\n",
    "# parsear los siguientes textos:\n",
    "#\n",
    "#    Hello, World!\n",
    "#    Hi, Mom!\n",
    "#    Good morning, Miss Crabtree!\n",
    "#    Yo, Adrian!\n",
    "#    Whattup, G?\n",
    "#    How's it goin', Dude?\n",
    "#    Hey, Jude!\n",
    "#    Goodbye, Mr. Chips!\n",
    "#\n",
    "word = pp.Word(pp.alphas+\"'.\")\n",
    "salutation = pp.OneOrMore(word)\n",
    "comma = pp.Literal(\",\")\n",
    "greetee = pp.OneOrMore(word)\n",
    "endpunc = pp.oneOf(\"! ?\")\n",
    "greeting = salutation + comma + greetee + endpunc\n",
    "\n",
    "for text in [\n",
    "    \"Hello, World!\",\n",
    "    \"Hi, Mom!\",\n",
    "    \"Good morning, Miss Crabtree!\",\n",
    "    \"Yo, Adrian!\",\n",
    "    \"Whattup, G?\",\n",
    "    \"How's it goin', Dude?\",\n",
    "    \"Hey, Jude!\",\n",
    "    \"Goodbye, Mr. Chips!\",\n",
    "]:\n",
    "    parsed_text = greeting.parseString(text)\n",
    "    print(parsed_text)"
   ]
  },
  {
   "cell_type": "code",
   "execution_count": 7,
   "metadata": {},
   "outputs": [
    {
     "name": "stdout",
     "output_type": "stream",
     "text": [
      "['Hello']\n",
      "['Hi']\n",
      "['Good', 'morning']\n",
      "['Yo']\n",
      "['Whattup']\n",
      "[\"How's\", 'it', \"goin'\"]\n",
      "['Hey']\n",
      "['Goodbye']\n"
     ]
    }
   ],
   "source": [
    "#\n",
    "# Extracción de la parte del saludo\n",
    "#\n",
    "for t in [\n",
    "    \"Hello, World!\",\n",
    "    \"Hi, Mom!\",\n",
    "    \"Good morning, Miss Crabtree!\",\n",
    "    \"Yo, Adrian!\",\n",
    "    \"Whattup, G?\",\n",
    "    \"How's it goin', Dude?\",\n",
    "    \"Hey, Jude!\",\n",
    "    \"Goodbye, Mr. Chips!\",\n",
    "]:\n",
    "    results = greeting.parseString(t)\n",
    "    salutation = []\n",
    "    for token in results:\n",
    "        if token == \",\": break\n",
    "        salutation.append(token)\n",
    "    print(salutation)"
   ]
  },
  {
   "cell_type": "code",
   "execution_count": 8,
   "metadata": {},
   "outputs": [
    {
     "name": "stdout",
     "output_type": "stream",
     "text": [
      "[['Hello'], ',', ['World'], '!']\n",
      "[['Hi'], ',', ['Mom'], '!']\n",
      "[['Good', 'morning'], ',', ['Miss', 'Crabtree'], '!']\n",
      "[['Yo'], ',', ['Adrian'], '!']\n",
      "[['Whattup'], ',', ['G'], '?']\n",
      "[[\"How's\", 'it', \"goin'\"], ',', ['Dude'], '?']\n",
      "[['Hey'], ',', ['Jude'], '!']\n",
      "[['Goodbye'], ',', ['Mr.', 'Chips'], '!']\n"
     ]
    }
   ],
   "source": [
    "#\n",
    "# Adición de grupos usando Group()\n",
    "#\n",
    "word = pp.Word(pp.alphas+\"'.\")\n",
    "salutation = pp.Group(pp.OneOrMore(word))  ## <- regla modificada\n",
    "comma = pp.Literal(\",\")\n",
    "greetee = pp.Group( pp.OneOrMore(word) )  ## <- regla modificada\n",
    "endpunc = pp.oneOf(\"! ?\")\n",
    "greeting = salutation + comma + greetee + endpunc\n",
    "\n",
    "for t in [\n",
    "    \"Hello, World!\",\n",
    "    \"Hi, Mom!\",\n",
    "    \"Good morning, Miss Crabtree!\",\n",
    "    \"Yo, Adrian!\",\n",
    "    \"Whattup, G?\",\n",
    "    \"How's it goin', Dude?\",\n",
    "    \"Hey, Jude!\",\n",
    "    \"Goodbye, Mr. Chips!\",\n",
    "]:\n",
    "    parsed_text = greeting.parseString(t)\n",
    "    print(parsed_text)"
   ]
  },
  {
   "cell_type": "code",
   "execution_count": 9,
   "metadata": {},
   "outputs": [
    {
     "name": "stdout",
     "output_type": "stream",
     "text": [
      "['Hello'] ['World'] !\n",
      "['Hi'] ['Mom'] !\n",
      "['Good', 'morning'] ['Miss', 'Crabtree'] !\n",
      "['Yo'] ['Adrian'] !\n",
      "['Whattup'] ['G'] ?\n",
      "[\"How's\", 'it', \"goin'\"] ['Dude'] ?\n",
      "['Hey'] ['Jude'] !\n",
      "['Goodbye'] ['Mr.', 'Chips'] !\n"
     ]
    }
   ],
   "source": [
    "#\n",
    "# Es posible asignar cada parte a una \n",
    "# variable para su uso posterior\n",
    "#\n",
    "for t in [\n",
    "    \"Hello, World!\",\n",
    "    \"Hi, Mom!\",\n",
    "    \"Good morning, Miss Crabtree!\",\n",
    "    \"Yo, Adrian!\",\n",
    "    \"Whattup, G?\",\n",
    "    \"How's it goin', Dude?\",\n",
    "    \"Hey, Jude!\",\n",
    "    \"Goodbye, Mr. Chips!\",\n",
    "]:\n",
    "    salutation, _, greetee, endpunc = greeting.parseString(t)\n",
    "    print(salutation, greetee, endpunc)"
   ]
  },
  {
   "cell_type": "code",
   "execution_count": 10,
   "metadata": {},
   "outputs": [
    {
     "name": "stdout",
     "output_type": "stream",
     "text": [
      "['Hello'] ['World'] !\n",
      "['Hi'] ['Mom'] !\n",
      "['Good', 'morning'] ['Miss', 'Crabtree'] !\n",
      "['Yo'] ['Adrian'] !\n",
      "['Whattup'] ['G'] ?\n",
      "[\"How's\", 'it', \"goin'\"] ['Dude'] ?\n",
      "['Hey'] ['Jude'] !\n",
      "['Goodbye'] ['Mr.', 'Chips'] !\n"
     ]
    }
   ],
   "source": [
    "#\n",
    "# Supresión de elementos con Suppress\n",
    "#\n",
    "word = pp.Word(pp.alphas+\"'.\")\n",
    "salutation = pp.Group(pp.OneOrMore(word))  ## <- regla modificada\n",
    "comma = pp.Suppress(pp.Literal(\",\"))\n",
    "greetee = pp.Group( pp.OneOrMore(word) )  ## <- regla modificada\n",
    "endpunc = pp.oneOf(\"! ?\")\n",
    "greeting = salutation + comma + greetee + endpunc\n",
    "\n",
    "\n",
    "for t in [\n",
    "    \"Hello, World!\",\n",
    "    \"Hi, Mom!\",\n",
    "    \"Good morning, Miss Crabtree!\",\n",
    "    \"Yo, Adrian!\",\n",
    "    \"Whattup, G?\",\n",
    "    \"How's it goin', Dude?\",\n",
    "    \"Hey, Jude!\",\n",
    "    \"Goodbye, Mr. Chips!\",\n",
    "]:\n",
    "    salutation, greetee, endpunc = greeting.parseString(t)\n",
    "    print(salutation, greetee, endpunc)"
   ]
  },
  {
   "cell_type": "code",
   "execution_count": 11,
   "metadata": {},
   "outputs": [
    {
     "name": "stdout",
     "output_type": "stream",
     "text": [
      "[('Hello', '!'), ('Hi', '!'), ('Good morning', '!'), ('Yo', '!'), ('Whattup', '?'), (\"How's it goin'\", '?'), ('Hey', '!'), ('Goodbye', '!')]\n",
      "---\n",
      "['World', 'Mom', 'Miss Crabtree', 'Adrian', 'G', 'Dude', 'Jude', 'Mr. Chips']\n"
     ]
    }
   ],
   "source": [
    "#\n",
    "# Separación en partes usando listas\n",
    "#\n",
    "salutes = []\n",
    "greetees = []\n",
    "\n",
    "for t in [\n",
    "    \"Hello, World!\",\n",
    "    \"Hi, Mom!\",\n",
    "    \"Good morning, Miss Crabtree!\",\n",
    "    \"Yo, Adrian!\",\n",
    "    \"Whattup, G?\",\n",
    "    \"How's it goin', Dude?\",\n",
    "    \"Hey, Jude!\",\n",
    "    \"Goodbye, Mr. Chips!\",\n",
    "]:\n",
    "    salutation, greetee, endpunc = greeting.parseString(t)\n",
    "    salutes.append( ( \" \".join(salutation), endpunc) )\n",
    "    greetees.append( \" \".join(greetee) )\n",
    "    \n",
    "print(salutes)\n",
    "print('---')\n",
    "print(greetees)"
   ]
  },
  {
   "cell_type": "code",
   "execution_count": 12,
   "metadata": {},
   "outputs": [
    {
     "name": "stdout",
     "output_type": "stream",
     "text": [
      "Goodbye, Dude!\n",
      "How's it goin', Mom?\n",
      "How's it goin', Miss Crabtree?\n",
      "How's it goin', Mr. Chips?\n",
      "Goodbye, Mr. Chips!\n",
      "Whattup, Adrian?\n",
      "Hey, Mr. Chips!\n",
      "Yo, Jude!\n",
      "How's it goin', Mr. Chips?\n",
      "Hi, Jude!\n",
      "Hello, Mom!\n",
      "Hey, Jude!\n",
      "Yo, Mr. Chips!\n",
      "Goodbye, Adrian!\n",
      "How's it goin', G?\n",
      "Hi, Mr. Chips!\n",
      "Hey, Mr. Chips!\n",
      "Whattup, World?\n",
      "Whattup, Mom?\n",
      "Goodbye, Dude!\n"
     ]
    }
   ],
   "source": [
    "#\n",
    "# Generación de cadenas aleatorias\n",
    "#\n",
    "import random\n",
    "\n",
    "for i in range(20):\n",
    "    salute = random.choice( salutes )\n",
    "    greetee = random.choice( greetees )\n",
    "    print(\"{:s}, {:s}{:s}\".format( salute[0], greetee, salute[1] ))"
   ]
  },
  {
   "cell_type": "code",
   "execution_count": 13,
   "metadata": {},
   "outputs": [
    {
     "name": "stdout",
     "output_type": "stream",
     "text": [
      "Adrian, say \"Yo!\" to Miss Crabtree.\n",
      "Mom, say \"Goodbye!\" to World.\n",
      "World, say \"Hello!\" to Miss Crabtree.\n",
      "Miss Crabtree, say \"Hi!\" to Dude.\n",
      "Miss Crabtree, say \"Whattup?\" to G.\n",
      "G, say \"Good morning!\" to G.\n",
      "World, say \"Yo!\" to Jude.\n",
      "World, say \"Goodbye!\" to Mom.\n",
      "World, say \"Hello!\" to Mr. Chips.\n",
      "Adrian, say \"Hey!\" to World.\n",
      "World, say \"Yo!\" to Miss Crabtree.\n",
      "Miss Crabtree, say \"Hey!\" to G.\n",
      "Miss Crabtree, say \"Hello!\" to Adrian.\n",
      "G, say \"Whattup?\" to Mr. Chips.\n",
      "Miss Crabtree, say \"Whattup?\" to G.\n",
      "Jude, say \"Whattup?\" to G.\n",
      "Miss Crabtree, say \"Yo!\" to Mr. Chips.\n",
      "Jude, say \"Hello!\" to Adrian.\n",
      "Jude, say \"Good morning!\" to World.\n",
      "Mom, say \"Yo!\" to Adrian.\n"
     ]
    }
   ],
   "source": [
    "#\n",
    "# Otro ejemplo de frases aleatorias\n",
    "#\n",
    "for i in range(20):\n",
    "    print(\n",
    "        '{:s}, say \"{:s}\" to {:s}.'.format(\n",
    "            random.choice(greetees),\n",
    "            \"\".join(random.choice(salutes)),\n",
    "            random.choice(greetees),\n",
    "        )\n",
    "    )"
   ]
  }
 ],
 "metadata": {
  "kernelspec": {
   "display_name": "Python 3 (ipykernel)",
   "language": "python",
   "name": "python3"
  },
  "language_info": {
   "codemirror_mode": {
    "name": "ipython",
    "version": 3
   },
   "file_extension": ".py",
   "mimetype": "text/x-python",
   "name": "python",
   "nbconvert_exporter": "python",
   "pygments_lexer": "ipython3",
   "version": "3.8.10"
  }
 },
 "nbformat": 4,
 "nbformat_minor": 4
}
