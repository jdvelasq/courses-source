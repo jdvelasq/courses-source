{
 "cells": [
  {
   "cell_type": "markdown",
   "metadata": {},
   "source": [
    "# Extracción de texto en cadenas de caracteres"
   ]
  },
  {
   "cell_type": "code",
   "execution_count": 1,
   "metadata": {},
   "outputs": [],
   "source": [
    "import pyparsing as pp"
   ]
  },
  {
   "cell_type": "code",
   "execution_count": 2,
   "metadata": {},
   "outputs": [
    {
     "name": "stdout",
     "output_type": "stream",
     "text": [
      "['09', '/', '04', '/', '2004', 'Virginia', '44', 'Temple', '14']\n",
      "['09', '/', '04', '/', '2004', 'LSU', '22', 'Oregon', 'State', '21']\n",
      "['09', '/', '09', '/', '2004', 'Troy', 'State', '24', 'Missouri', '14']\n",
      "['01', '/', '02', '/', '2003', 'Florida', 'State', '103', 'University', 'of', 'Miami', '2']\n"
     ]
    }
   ],
   "source": [
    "#\n",
    "# Ejemplo de un texto\n",
    "#\n",
    "# 09/04/2004  Virginia        44   Temple             14\n",
    "# 09/04/2004  LSU             22   Oregon State       21\n",
    "# 09/09/2004  Troy State      24   Missouri           14\n",
    "# 01/02/2003  Florida State  103   University of Miami 2\n",
    "#\n",
    "\n",
    "\n",
    "#\n",
    "# Gramática básica para capturar los datos\n",
    "#\n",
    "num = pp.Word(pp.nums)\n",
    "date = num + \"/\" + num + \"/\" + num\n",
    "schoolName = pp.OneOrMore( pp.Word(pp.alphas) )\n",
    "score = pp.Word(pp.nums)\n",
    "schoolAndScore = schoolName + score\n",
    "gameResult = date + schoolAndScore + schoolAndScore\n",
    "\n",
    "tests = \"\"\"\\\n",
    "09/04/2004  Virginia        44   Temple             14\n",
    "09/04/2004  LSU             22   Oregon State       21\n",
    "09/09/2004  Troy State      24   Missouri           14\n",
    "01/02/2003  Florida State  103   University of Miami 2\"\"\".splitlines()\n",
    "\n",
    "for test in tests:\n",
    "    stats = gameResult.parseString(test)\n",
    "    print(stats.asList())"
   ]
  },
  {
   "cell_type": "code",
   "execution_count": 3,
   "metadata": {},
   "outputs": [
    {
     "name": "stdout",
     "output_type": "stream",
     "text": [
      "['09/04/2004', 'Virginia', '44', 'Temple', '14']\n",
      "['09/04/2004', 'LSU', '22', 'Oregon', 'State', '21']\n",
      "['09/09/2004', 'Troy', 'State', '24', 'Missouri', '14']\n",
      "['01/02/2003', 'Florida', 'State', '103', 'University', 'of', 'Miami', '2']\n"
     ]
    }
   ],
   "source": [
    "#\n",
    "# Combina los strings para las fechas\n",
    "# usando Combine\n",
    "#\n",
    "num = pp.Word(pp.nums)\n",
    "date = pp.Combine(num + \"/\" + num + \"/\" + num)\n",
    "schoolName = pp.OneOrMore( pp.Word(pp.alphas) )\n",
    "score = pp.Word(pp.nums)\n",
    "schoolAndScore = schoolName + score\n",
    "gameResult = date + schoolAndScore + schoolAndScore\n",
    "\n",
    "tests = \"\"\"\\\n",
    "09/04/2004  Virginia        44   Temple             14\n",
    "09/04/2004  LSU             22   Oregon State       21\n",
    "09/09/2004  Troy State      24   Missouri           14\n",
    "01/02/2003  Florida State  103   University of Miami 2\"\"\".splitlines()\n",
    "\n",
    "for test in tests:\n",
    "    stats = gameResult.parseString(test)\n",
    "    print(stats.asList())\n"
   ]
  },
  {
   "cell_type": "code",
   "execution_count": 4,
   "metadata": {},
   "outputs": [
    {
     "name": "stdout",
     "output_type": "stream",
     "text": [
      "['09/04/2004', 'Virginia', '44', 'Temple', '14']\n",
      "['09/04/2004', 'LSU', '22', 'Oregon State', '21']\n",
      "['09/09/2004', 'Troy State', '24', 'Missouri', '14']\n",
      "['01/02/2003', 'Florida State', '103', 'University of Miami', '2']\n"
     ]
    }
   ],
   "source": [
    "#\n",
    "# Combina los strings de los nombres\n",
    "#\n",
    "num = pp.Word(pp.nums)\n",
    "date = pp.Combine(num + \"/\" + num + \"/\" + num)\n",
    "schoolName = pp.OneOrMore( pp.Word(pp.alphas) )\n",
    "schoolName.setParseAction( lambda tokens: \" \".join(tokens) ) # <- modificación\n",
    "score = pp.Word(pp.nums)\n",
    "schoolAndScore = schoolName + score\n",
    "gameResult = date + schoolAndScore + schoolAndScore\n",
    "\n",
    "tests = \"\"\"\\\n",
    "09/04/2004  Virginia        44   Temple             14\n",
    "09/04/2004  LSU             22   Oregon State       21\n",
    "09/09/2004  Troy State      24   Missouri           14\n",
    "01/02/2003  Florida State  103   University of Miami 2\"\"\".splitlines()\n",
    "\n",
    "for test in tests:\n",
    "    stats = gameResult.parseString(test)\n",
    "    print(stats.asList())\n",
    "\n"
   ]
  },
  {
   "cell_type": "code",
   "execution_count": 5,
   "metadata": {},
   "outputs": [
    {
     "name": "stdout",
     "output_type": "stream",
     "text": [
      "Date error in: 19/04/2004  Virginia        44   Temple             14\n",
      "['09/04/2004', 'LSU', '22', 'Oregon State', '21']\n",
      "['09/09/2004', 'Troy State', '24', 'Missouri', '14']\n",
      "['01/02/2003', 'Florida State', '103', 'University of Miami', '2']\n"
     ]
    }
   ],
   "source": [
    "#\n",
    "# Validación de las fechas\n",
    "#\n",
    "num = pp.Word(pp.nums)\n",
    "date = pp.Combine(num + \"/\" + num + \"/\" + num)\n",
    "schoolName = pp.OneOrMore( pp.Word(pp.alphas) )\n",
    "schoolName.setParseAction( lambda tokens: \" \".join(tokens) ) # <- modificación\n",
    "score = pp.Word(pp.nums)\n",
    "schoolAndScore = schoolName + score\n",
    "gameResult = date + schoolAndScore + schoolAndScore\n",
    "\n",
    "\n",
    "import time\n",
    "\n",
    "\n",
    "def validateDateString(tokens):\n",
    "    try:\n",
    "        time.strptime(tokens[0], \"%m/%d/%Y\")\n",
    "    except ValueError:\n",
    "        raise pp.ParseException(\"Invalid date string (%s)\" % tokens[0])\n",
    "\n",
    "date.setParseAction(validateDateString)        \n",
    "       \n",
    "# se modifica la primera linea para generar el error    \n",
    "tests = \"\"\"\\\n",
    "19/04/2004  Virginia        44   Temple             14\n",
    "09/04/2004  LSU             22   Oregon State       21\n",
    "09/09/2004  Troy State      24   Missouri           14\n",
    "01/02/2003  Florida State  103   University of Miami 2\"\"\".splitlines()\n",
    "\n",
    "for test in tests:\n",
    "    try: \n",
    "        stats = gameResult.parseString(test)\n",
    "        print(stats.asList())\n",
    "    except:\n",
    "        print(\"Date error in: \" + test )"
   ]
  },
  {
   "cell_type": "code",
   "execution_count": 6,
   "metadata": {},
   "outputs": [
    {
     "name": "stdout",
     "output_type": "stream",
     "text": [
      "['09/04/2004', ['Virginia', 44], ['Temple', 14]]\n",
      "['09/04/2004', ['LSU', 22], ['Oregon State', 21]]\n",
      "['09/09/2004', ['Troy State', 24], ['Missouri', 14]]\n",
      "['01/02/2003', ['Florida State', 103], ['University of Miami', 2]]\n"
     ]
    }
   ],
   "source": [
    "#\n",
    "# Se convierte en entero el score y se agrupa \n",
    "#\n",
    "num = pp.Word(pp.nums)\n",
    "date = pp.Combine(num + \"/\" + num + \"/\" + num)\n",
    "schoolName = pp.OneOrMore( pp.Word(pp.alphas) )\n",
    "schoolName.setParseAction( lambda tokens: \" \".join(tokens) ) \n",
    "score = pp.Word(pp.nums).setParseAction( lambda tokens : int(tokens[0]) ) # <- modificación\n",
    "schoolAndScore = pp.Group(schoolName + score)\n",
    "gameResult = date + schoolAndScore + schoolAndScore\n",
    "\n",
    "import time\n",
    "def validateDateString(tokens):\n",
    "    try:\n",
    "        time.strptime(tokens[0], \"%m/%d/%Y\")\n",
    "    except ValueError:\n",
    "        raise pp.ParseException(\"Invalid date string (%s)\" % tokens[0])\n",
    "\n",
    "date.setParseAction(validateDateString)        \n",
    "       \n",
    "# se modifica la primera linea para generar el error    \n",
    "tests = \"\"\"\\\n",
    "09/04/2004  Virginia        44   Temple             14\n",
    "09/04/2004  LSU             22   Oregon State       21\n",
    "09/09/2004  Troy State      24   Missouri           14\n",
    "01/02/2003  Florida State  103   University of Miami 2\"\"\".splitlines()\n",
    "\n",
    "for test in tests:\n",
    "    stats = gameResult.parseString(test)\n",
    "    print(stats.asList())\n"
   ]
  },
  {
   "cell_type": "code",
   "execution_count": 7,
   "metadata": {},
   "outputs": [
    {
     "name": "stdout",
     "output_type": "stream",
     "text": [
      "09/04/2004 Virginia(44) Temple(14), won by Virginia\n",
      "09/04/2004 LSU(22) Oregon State(21), won by LSU\n",
      "09/09/2004 Troy State(24) Missouri(14), won by Troy State\n",
      "01/02/2003 Florida State(103) University of Miami(2), won by Florida State\n"
     ]
    }
   ],
   "source": [
    "#\n",
    "# Introducción de textos explicativos\n",
    "#\n",
    "for test in tests:\n",
    "    stats = gameResult.parseString(test)\n",
    "    if stats[1][1] != stats[2][1]:\n",
    "        if stats[1][1] > stats[2][1]:\n",
    "            result = \"won by \" + stats[1][0]\n",
    "        else:\n",
    "            result = \"won by \" + stats[2][0]\n",
    "    else:\n",
    "        result = \"tied\"\n",
    "    print(\n",
    "        \"{:s} {:s}({:d}) {:s}({:d}), {:s}\".format(\n",
    "            stats[0], stats[1][0], stats[1][1], stats[2][0], stats[2][1], result\n",
    "        )\n",
    "    )"
   ]
  },
  {
   "cell_type": "code",
   "execution_count": 8,
   "metadata": {},
   "outputs": [
    {
     "name": "stdout",
     "output_type": "stream",
     "text": [
      "09/04/2004 Virginia(44) Temple(14), won by Virginia\n",
      "09/04/2004 LSU(22) Oregon State(21), won by LSU\n",
      "09/09/2004 Troy State(24) Missouri(14), won by Troy State\n",
      "01/02/2003 Florida State(103) University of Miami(2), won by Florida State\n"
     ]
    }
   ],
   "source": [
    "#\n",
    "# Manejo de nombres para aumentar la legibilidad\n",
    "#\n",
    "num = pp.Word(pp.nums)\n",
    "date = pp.Combine(num + \"/\" + num + \"/\" + num)\n",
    "schoolName = pp.OneOrMore(pp.Word(pp.alphas))\n",
    "schoolName.setParseAction(lambda tokens: \" \".join(tokens))\n",
    "score = pp.Word(pp.nums).setParseAction(\n",
    "    lambda tokens: int(tokens[0])\n",
    ") \n",
    "schoolAndScore = pp.Group(\n",
    "    schoolName.setResultsName(\"school\") + score.setResultsName(\"score\")\n",
    ")\n",
    "gameResult = (\n",
    "    date.setResultsName(\"date\")\n",
    "    + schoolAndScore.setResultsName(\"team1\")\n",
    "    + schoolAndScore.setResultsName(\"team2\")\n",
    ")\n",
    "\n",
    "date.setParseAction(validateDateString)\n",
    "\n",
    "\n",
    "for test in tests:\n",
    "    stats = gameResult.parseString(test)\n",
    "    if stats.team1.score != stats.team2.score:\n",
    "        if stats.team1.score > stats.team2.score:\n",
    "            result = \"won by \" + stats.team1.school\n",
    "        else:\n",
    "            result = \"won by \" + stats.team2.school\n",
    "    else:\n",
    "        result = \"tied\"\n",
    "    print(\n",
    "        \"{:s} {:s}({:d}) {:s}({:d}), {:s}\".format(\n",
    "            stats.date,\n",
    "            stats.team1.school,\n",
    "            stats.team1.score,\n",
    "            stats.team2.school,\n",
    "            stats.team2.score,\n",
    "            result,\n",
    "        )\n",
    "    )"
   ]
  },
  {
   "cell_type": "code",
   "execution_count": 9,
   "metadata": {},
   "outputs": [
    {
     "name": "stdout",
     "output_type": "stream",
     "text": [
      "['01/02/2003', ['Florida State', 103], ['University of Miami', 2]]\n",
      "- date: '01/02/2003'\n",
      "- team1: ['Florida State', 103]\n",
      "  - school: 'Florida State'\n",
      "  - score: 103\n",
      "- team2: ['University of Miami', 2]\n",
      "  - school: 'University of Miami'\n",
      "  - score: 2\n",
      "[0]:\n",
      "  01/02/2003\n",
      "[1]:\n",
      "  ['Florida State', 103]\n",
      "  - school: 'Florida State'\n",
      "  - score: 103\n",
      "[2]:\n",
      "  ['University of Miami', 2]\n",
      "  - school: 'University of Miami'\n",
      "  - score: 2\n"
     ]
    }
   ],
   "source": [
    "#\n",
    "# Se puede usar dump() para imprimir la info\n",
    "# y revisar\n",
    "#\n",
    "print(stats.dump())"
   ]
  }
 ],
 "metadata": {
  "kernelspec": {
   "display_name": "Python 3 (ipykernel)",
   "language": "python",
   "name": "python3"
  },
  "language_info": {
   "codemirror_mode": {
    "name": "ipython",
    "version": 3
   },
   "file_extension": ".py",
   "mimetype": "text/x-python",
   "name": "python",
   "nbconvert_exporter": "python",
   "pygments_lexer": "ipython3",
   "version": "3.8.10"
  }
 },
 "nbformat": 4,
 "nbformat_minor": 4
}
