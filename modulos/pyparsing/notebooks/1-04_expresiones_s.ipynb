{
 "cells": [
  {
   "cell_type": "markdown",
   "metadata": {},
   "source": [
    "# Pyparsing"
   ]
  },
  {
   "cell_type": "code",
   "execution_count": 1,
   "metadata": {},
   "outputs": [],
   "source": [
    "import pyparsing as pp"
   ]
  },
  {
   "cell_type": "code",
   "execution_count": 2,
   "metadata": {},
   "outputs": [
    {
     "name": "stdout",
     "output_type": "stream",
     "text": [
      "    red\n",
      "['red']\n",
      "\n",
      "    100\n",
      "['100']\n",
      "\n",
      "    ( red 100 blue )\n",
      "['red', '100', 'blue']\n",
      "\n",
      "    ( green ( ( 1 2 ) mauve ) plaid () )\n",
      "['green', '1', '2', 'mauve', 'plaid']\n",
      "\n"
     ]
    }
   ],
   "source": [
    "#\n",
    "# Ejemplo S-expression Parser\n",
    "#  \n",
    "#   1\n",
    "#   x\n",
    "#   (+ 1 2)\n",
    "#   (* (+ 1 2) (+ 3 4))\n",
    "#\n",
    "\n",
    "alphaword = pp.Word(pp.alphas)\n",
    "integer = pp.Word(pp.nums)\n",
    "\n",
    "sexp = pp.Forward()\n",
    "\n",
    "LPAREN = pp.Suppress(\"(\")\n",
    "RPAREN = pp.Suppress(\")\")\n",
    "\n",
    "sexp << ( alphaword | integer | ( LPAREN + pp.ZeroOrMore(sexp) + RPAREN ))\n",
    "\n",
    "tests = \"\"\"\\\n",
    "    red\n",
    "    100\n",
    "    ( red 100 blue )\n",
    "    ( green ( ( 1 2 ) mauve ) plaid () )\"\"\".splitlines()\n",
    "for t in tests:\n",
    "    print(t)\n",
    "    print(sexp.parseString(t))\n",
    "    print()"
   ]
  },
  {
   "cell_type": "code",
   "execution_count": 3,
   "metadata": {},
   "outputs": [
    {
     "name": "stdout",
     "output_type": "stream",
     "text": [
      "    red\n",
      "['red']\n",
      "\n",
      "    100\n",
      "['100']\n",
      "\n",
      "    ( red 100 blue )\n",
      "[['red', '100', 'blue']]\n",
      "\n",
      "    ( green ( ( 1 2 ) mauve ) plaid () )\n",
      "[['green', [['1', '2'], 'mauve'], 'plaid', []]]\n",
      "\n"
     ]
    }
   ],
   "source": [
    "#\n",
    "# Agrupación de las expresiones S\n",
    "#\n",
    "alphaword = pp.Word(pp.alphas)\n",
    "integer = pp.Word(pp.nums)\n",
    "\n",
    "sexp = pp.Forward()\n",
    "\n",
    "LPAREN = pp.Suppress(\"(\")\n",
    "RPAREN = pp.Suppress(\")\")\n",
    "\n",
    "sexp << ( alphaword | integer | pp.Group( LPAREN + pp.ZeroOrMore(sexp) + RPAREN ) ) # <--\n",
    "\n",
    "tests = \"\"\"\\\n",
    "    red\n",
    "    100\n",
    "    ( red 100 blue )\n",
    "    ( green ( ( 1 2 ) mauve ) plaid () )\"\"\".splitlines()\n",
    "for t in tests:\n",
    "    print(t)\n",
    "    print(sexp.parseString(t))\n",
    "    print()"
   ]
  }
 ],
 "metadata": {
  "kernelspec": {
   "display_name": "Python 3 (ipykernel)",
   "language": "python",
   "name": "python3"
  },
  "language_info": {
   "codemirror_mode": {
    "name": "ipython",
    "version": 3
   },
   "file_extension": ".py",
   "mimetype": "text/x-python",
   "name": "python",
   "nbconvert_exporter": "python",
   "pygments_lexer": "ipython3",
   "version": "3.8.10"
  }
 },
 "nbformat": 4,
 "nbformat_minor": 4
}
