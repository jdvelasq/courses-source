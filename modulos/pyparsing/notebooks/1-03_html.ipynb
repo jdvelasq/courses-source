{
 "cells": [
  {
   "cell_type": "markdown",
   "metadata": {},
   "source": [
    "# Extracción de texto en HTML"
   ]
  },
  {
   "cell_type": "code",
   "execution_count": 1,
   "metadata": {},
   "outputs": [],
   "source": [
    "import pyparsing as pp"
   ]
  },
  {
   "cell_type": "code",
   "execution_count": 2,
   "metadata": {},
   "outputs": [
    {
     "name": "stdout",
     "output_type": "stream",
     "text": [
      "'' : /templates/minas/images/topBg.jpg\n",
      "'' : /images/gral/icon-mejores_promedios.jpg\n"
     ]
    }
   ],
   "source": [
    "#\n",
    "# Lectura de HTML\n",
    "#\n",
    "import urllib\n",
    "from urllib import request\n",
    "\n",
    "from pyparsing import makeHTMLTags\n",
    "\n",
    "url = \"https://minas.medellin.unal.edu.co/formacion/especializaciones/especializacion-en-analitica\"\n",
    "html = request.urlopen(url).read().decode(\"utf8\")\n",
    "\n",
    "# Define la expresión para el tag <img>\n",
    "imgTag, endImgTag = makeHTMLTags(\"img\")\n",
    "\n",
    "# busca el tag e imprime los atributos\n",
    "for img in imgTag.searchString(html):\n",
    "    if img[\"src\"].endswith(\"jpg\"):\n",
    "        print(\"'{:s}' : {:s}\".format(img[\"alt\"], img[\"src\"]))"
   ]
  },
  {
   "cell_type": "code",
   "execution_count": 3,
   "metadata": {},
   "outputs": [
    {
     "name": "stdout",
     "output_type": "stream",
     "text": [
      "Analítica de Grandes Datos : 4\n",
      "Analítica Predictiva : 4\n",
      "Decisiones Bajo Incertidumbre en las Organizaciones : 4\n",
      "Ciencias de los Datos Aplicada : 4\n",
      "Métodos Analíticos De Simulación Y Optimización : 4\n",
      "Simulación Avanzada : 4\n",
      "Optimización Avanzada : 4\n",
      "Inteligencia De Negocios : 4\n",
      "Inteligencia Colectiva Y Analítica De Redes Sociales : 4\n",
      "Sistemas De Bases De Datos Masivos : 4\n",
      "Aprendizaje Estadístico : 4\n",
      "Descubrimiento De Nuevo Conocimiento : 4\n",
      "Gestión del Conocimiento y Bodegas De Datos : 4\n",
      "Descubrimiento de Conocimiento Yy Minería de Datos : 4\n"
     ]
    }
   ],
   "source": [
    "import urllib\n",
    "\n",
    "from pyparsing import *\n",
    "\n",
    "url = \"https://minas.medellin.unal.edu.co/formacion/especializaciones/especializacion-en-analitica\"\n",
    "\n",
    "# abre la pagina y la lee\n",
    "page = urllib.request.urlopen(url)\n",
    "html = page.read().decode('utf-8')\n",
    "page.close()\n",
    "\n",
    "# crea los tags de la tabla\n",
    "tdStart, tdEnd = makeHTMLTags(\"td\")\n",
    "trStart, trEnd = makeHTMLTags(\"tr\")\n",
    "h5Start, h5End = makeHTMLTags(\"h5\")\n",
    "spanStart, spanEnd = makeHTMLTags(\"span\")\n",
    "\n",
    "#\n",
    "# <tr>\n",
    "# <td style=\"width: 485px;\">\n",
    "# <h5><span style=\"font-size: 12pt;\">Simulacion Avanzada</span></h5>\n",
    "# </td>\n",
    "# <td style=\"width: 122px; text-align: center;\">\n",
    "# <h5><span style=\"font-size: 12pt;\">4</span></h5>\n",
    "# </td>\n",
    "# </tr>\n",
    "# <tr>\n",
    "# <td style=\"width: 485px;\">\n",
    "# <h5><span style=\"font-size: 12pt;\">Optimizacion Avanzada</span></h5>\n",
    "# </td>\n",
    "# <td style=\"width: 122px; text-align: center;\">\n",
    "# <h5><span style=\"font-size: 12pt;\">4</span></h5>\n",
    "# </td>\n",
    "# </tr>\n",
    "# \n",
    "word = pp.Word(pp.alphas + \"á é í ó ú\")\n",
    "words = pp.OneOrMore(word).setResultsName(\"asignatura\")\n",
    "joinTokens = lambda tokens: \" \".join(tokens)\n",
    "\n",
    "words.setParseAction(joinTokens)\n",
    "\n",
    "#\n",
    "credits = pp.Word(pp.nums).setResultsName(\"creditos\")\n",
    "\n",
    "conversion = (\n",
    "    trStart\n",
    "    + tdStart \n",
    "    + h5Start\n",
    "    + spanStart\n",
    "    + words \n",
    "    + spanEnd \n",
    "    + h5End\n",
    "    + tdEnd\n",
    "    + tdStart \n",
    "    + h5Start\n",
    "    + spanStart\n",
    "    + credits \n",
    "    + spanEnd \n",
    "    + h5End\n",
    "    + tdEnd\n",
    "    + trEnd\n",
    "\n",
    ")\n",
    "\n",
    "\n",
    "for tokens, start, end in conversion.scanString(html):\n",
    "    print(tokens[\"asignatura\"], \":\",  tokens['creditos'])"
   ]
  }
 ],
 "metadata": {
  "kernelspec": {
   "display_name": "Python 3 (ipykernel)",
   "language": "python",
   "name": "python3"
  },
  "language_info": {
   "codemirror_mode": {
    "name": "ipython",
    "version": 3
   },
   "file_extension": ".py",
   "mimetype": "text/x-python",
   "name": "python",
   "nbconvert_exporter": "python",
   "pygments_lexer": "ipython3",
   "version": "3.8.10"
  }
 },
 "nbformat": 4,
 "nbformat_minor": 4
}
