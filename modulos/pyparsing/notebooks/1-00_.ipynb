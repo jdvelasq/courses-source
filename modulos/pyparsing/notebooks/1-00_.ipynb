{
 "cells": [
  {
   "cell_type": "markdown",
   "id": "8256827b-3446-483b-bf98-e5ffeae170c9",
   "metadata": {},
   "source": [
    "Procesamiento de texto con PyParsing\n",
    "==="
   ]
  },
  {
   "cell_type": "markdown",
   "id": "536da07c-5e06-4a55-a476-54b6b156351a",
   "metadata": {},
   "source": [
    "Contenido\n",
    "---"
   ]
  },
  {
   "cell_type": "markdown",
   "id": "f4ab51ea-5c3b-4c80-8ba7-d28a62186c21",
   "metadata": {},
   "source": [
    "* Uso básico.\n",
    "\n",
    "* Cadenas de caracteres.\n",
    "\n",
    "* Extracción de texto en HTML.\n",
    "\n",
    "* Expresiones S.\n",
    "\n",
    "* Expresiones Condicionales."
   ]
  }
 ],
 "metadata": {
  "kernelspec": {
   "display_name": "Python 3 (ipykernel)",
   "language": "python",
   "name": "python3"
  },
  "language_info": {
   "codemirror_mode": {
    "name": "ipython",
    "version": 3
   },
   "file_extension": ".py",
   "mimetype": "text/x-python",
   "name": "python",
   "nbconvert_exporter": "python",
   "pygments_lexer": "ipython3",
   "version": "3.8.10"
  }
 },
 "nbformat": 4,
 "nbformat_minor": 5
}
