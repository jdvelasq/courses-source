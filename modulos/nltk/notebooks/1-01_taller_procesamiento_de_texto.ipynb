{
 "cells": [
  {
   "cell_type": "markdown",
   "metadata": {},
   "source": [
    "# Taller sobre procesamiento de texto\n",
    "\n",
    "*Diplomado en Analítica para Mercados de Energía*"
   ]
  },
  {
   "cell_type": "markdown",
   "metadata": {},
   "source": [
    "Use el archivo scopus-abstracts.csv (https://github.com/jdvelasq/datalabs/blob/master/datasets/scopus-abstracts.csv) para resolver los siguientes problemas."
   ]
  },
  {
   "cell_type": "markdown",
   "metadata": {},
   "source": [
    "## Parte 1: Librería `TextBlob`"
   ]
  },
  {
   "cell_type": "markdown",
   "metadata": {},
   "source": [
    "**Pregunta 1**\n",
    "\n",
    "\n",
    "Cuente la cantidad de sustantivos, adjetivos, verbos y advervios presentes en el texto usando TextBlob. Preprocese el texto. Esto es, por ejemplo,  llevar las conjugaciones a su infinitivo, llevar las palabras de su plural a su singular, etc."
   ]
  },
  {
   "cell_type": "markdown",
   "metadata": {},
   "source": [
    "**Pregunta 2**\n",
    "\n",
    "Liste las 10 frases nominales (noun phrases) más comunes en el texto."
   ]
  },
  {
   "cell_type": "markdown",
   "metadata": {},
   "source": [
    "**Pregunta 3**\n",
    "\n",
    "\n",
    "Liste los cinco (5) tags más frecuentes en el texto."
   ]
  },
  {
   "cell_type": "markdown",
   "metadata": {},
   "source": [
    "## Parte 2: Librería NLTK"
   ]
  },
  {
   "cell_type": "markdown",
   "metadata": {},
   "source": [
    "**Pregunta 4**\n",
    "\n",
    "Preprocese los abstracts originales usando NLTK."
   ]
  },
  {
   "cell_type": "markdown",
   "metadata": {},
   "source": [
    "**Pregunta 5**\n",
    "\n",
    "Encuentre las collocations más frecuentes en el texto. Tenga en cuenta que debe eliminar collocations que no tienen sentido, por ejemplo, 'results show' es invalido, pero 'big data' es válido."
   ]
  },
  {
   "cell_type": "markdown",
   "metadata": {},
   "source": [
    "**Pregunta 6**\n",
    "\n",
    "Para las collocations en el punto 5, reemplace los espacios en blanco por '_', es decir, el texto 'big data' se transforma a 'big_data'. Use el nuevo texto (collocations) para agregar un paso adicional a la fase de preprocesamiento, tal que se reemplacen las collocations por su equivalente que usa el caracter de subrayado. "
   ]
  },
  {
   "cell_type": "markdown",
   "metadata": {},
   "source": [
    "**Pregunta 7**\n",
    "\n",
    "Limpie el texto de los abstracts dejando únicamente sustantivos, adjetivos, verbos y adverbios. Debe llevar los verbos a su infinitivo, usar lematización, etc. Tenga en cuenta que en el contexto de los textos analizados, por ejemplo, la frase 'this paper presents' (u otras similares) es muy común; sin embargo, el sustativo paper o el verbo to present no son significativos en el texto, y por tanto no deben ser tenidos en cuenta."
   ]
  },
  {
   "cell_type": "markdown",
   "metadata": {},
   "source": [
    "**Pregunta 8**\n",
    "\n",
    "Imprima la cantidad de verbos, adverbios, sustantivos y adjetivos del texto."
   ]
  },
  {
   "cell_type": "markdown",
   "metadata": {},
   "source": [
    "**Pregunta 9**\n",
    "\n",
    "Imprima la lista ordenada por importancia de las palabras significativas (verbos, adverbios, sustantivos y adjetivos) en el texto transformado. Para computar la importancia use el modelo TFIDF."
   ]
  },
  {
   "cell_type": "markdown",
   "metadata": {},
   "source": [
    "**Pregunta 10**\n",
    "\n",
    "Compute la matrix de similaridad entre abstracts y determine la cantidad óptima de clusters. Esta técnica permite detectar los temas dominantes en los trabajos. Puede interpretar que tema representa cada cluster?"
   ]
  }
 ],
 "metadata": {
  "kernelspec": {
   "display_name": "Python 3",
   "language": "python",
   "name": "python3"
  },
  "language_info": {
   "codemirror_mode": {
    "name": "ipython",
    "version": 3
   },
   "file_extension": ".py",
   "mimetype": "text/x-python",
   "name": "python",
   "nbconvert_exporter": "python",
   "pygments_lexer": "ipython3",
   "version": "3.6.9"
  }
 },
 "nbformat": 4,
 "nbformat_minor": 4
}
