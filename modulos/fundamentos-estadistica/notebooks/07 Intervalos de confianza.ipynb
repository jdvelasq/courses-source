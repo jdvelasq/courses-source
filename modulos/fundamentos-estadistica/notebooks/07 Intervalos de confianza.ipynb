{
 "cells": [
  {
   "cell_type": "markdown",
   "id": "1c00aa04-62c6-4a34-83ee-1613e6de1008",
   "metadata": {},
   "source": [
    "Intervalos de confianza\n",
    "==="
   ]
  },
  {
   "cell_type": "markdown",
   "id": "18493c39-aa1f-4708-aa30-7a200448cacf",
   "metadata": {},
   "source": [
    "* El **nivel de confianza** es el porcentaje del intervalo de confianza, construido en la misma forma de la población, para el cual se espera que contenga el estadístico de interés."
   ]
  },
  {
   "cell_type": "markdown",
   "id": "a04114b8-332d-497f-80e2-b36b5f8ec3b8",
   "metadata": {},
   "source": [
    "* Los **límites el intervalo** son los puntos inferior y superor del intervalo de confianza."
   ]
  },
  {
   "cell_type": "code",
   "execution_count": 1,
   "id": "382e302b-6343-4111-a86a-e42da6193d61",
   "metadata": {
    "tags": []
   },
   "outputs": [
    {
     "data": {
      "image/png": "[encoded data removed]",
      "text/plain": [
       "<Figure size 400x400 with 1 Axes>"
      ]
     },
     "metadata": {},
     "output_type": "display_data"
    }
   ],
   "source": [
    "import matplotlib.pyplot as plt\n",
    "import numpy as np\n",
    "import pandas as pd\n",
    "\n",
    "sample_data = pd.Series(np.random.uniform(low=0, high=10, size=1000))\n",
    "\n",
    "sample_mean = sorted([sample_data.sample(20).mean() for _ in range(1000)])\n",
    "\n",
    "confidence = 0.90  # porcentaje de confianza del 90%\n",
    "\n",
    "left_index = int((1 - confidence) / 2 * 1000)\n",
    "right_index = 1000 - left_index\n",
    "\n",
    "left_ci_value = sample_mean[left_index]\n",
    "right_ci_value = sample_mean[right_index]\n",
    "\n",
    "plt.figure(figsize=(4, 4))\n",
    "plt.hist(sample_mean, alpha=0.2)\n",
    "plt.xlim(2, 8)\n",
    "\n",
    "plt.axvline(left_ci_value, linewidth=3, color='tab:blue')\n",
    "plt.axvline(right_ci_value, linewidth=3, color='tab:orange')\n",
    "\n",
    "plt.show()"
   ]
  }
 ],
 "metadata": {
  "kernelspec": {
   "display_name": "Python 3 (ipykernel)",
   "language": "python",
   "name": "python3"
  },
  "language_info": {
   "codemirror_mode": {
    "name": "ipython",
    "version": 3
   },
   "file_extension": ".py",
   "mimetype": "text/x-python",
   "name": "python",
   "nbconvert_exporter": "python",
   "pygments_lexer": "ipython3",
   "version": "3.9.6"
  }
 },
 "nbformat": 4,
 "nbformat_minor": 5
}
