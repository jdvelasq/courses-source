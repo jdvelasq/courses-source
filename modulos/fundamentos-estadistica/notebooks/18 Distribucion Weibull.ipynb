{
 "cells": [
  {
   "cell_type": "markdown",
   "id": "e83d66ef-f816-48d9-86cf-78491f765543",
   "metadata": {},
   "source": [
    "### Distribución de Weibull\n",
    "\n",
    "La distribución de [Weibull](https://es.wikipedia.org/wiki/Distribución_de_Weibull) se usa para modelar la distribución de fallos en sistemas cuando la tasa de fallos es proporcional a una potencia del tiempo. Se define como:\n",
    "\n",
    "$$f(X|\\lambda, k) = \n",
    "   \\begin{cases}\n",
    "      \\frac{k}{\\lambda} \\left( \\frac{X}{\\lambda} \\right)^{k-1} \n",
    "      \\exp \\left( - \\left(\\frac{x}{\\lambda} \\right)^k \\right), & x \\ge 0 \\\\\n",
    "      0, & x < 0\n",
    "   \\end{cases}\n",
    "$$\n",
    "\n",
    "* $k < 1$ indica que la tasa de fallos decrece con el tiempo.\n",
    "* $k=1$ la tasa de fallos es constante en el tiempo.\n",
    "* $k>1$ indica que la tasa de fallos crece en el tiempo."
   ]
  }
 ],
 "metadata": {
  "kernelspec": {
   "display_name": "Python 3 (ipykernel)",
   "language": "python",
   "name": "python3"
  },
  "language_info": {
   "codemirror_mode": {
    "name": "ipython",
    "version": 3
   },
   "file_extension": ".py",
   "mimetype": "text/x-python",
   "name": "python",
   "nbconvert_exporter": "python",
   "pygments_lexer": "ipython3",
   "version": "3.9.6"
  }
 },
 "nbformat": 4,
 "nbformat_minor": 5
}
