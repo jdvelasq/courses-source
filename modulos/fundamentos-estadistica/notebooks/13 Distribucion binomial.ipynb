{
 "cells": [
  {
   "cell_type": "markdown",
   "id": "e18f6f87-f393-4b9f-a732-2f6ac090fff4",
   "metadata": {},
   "source": [
    "Distribución Binomial\n",
    "==="
   ]
  },
  {
   "cell_type": "markdown",
   "id": "5fa9200b-1700-4c6f-8543-1b4d4e9b4b97",
   "metadata": {},
   "source": [
    "* La distribución binomial se obtiene al considerar una secuencia de $n$ experimentos independientes de Bernoulli en los que se obtienen exactamente $Y$ éxitos, es decir, ocurre $X=1$, $y$ veces. "
   ]
  },
  {
   "cell_type": "markdown",
   "id": "eeb9e4bd-d8ed-4941-91d2-10fadad98745",
   "metadata": {},
   "source": [
    "* En otras palabras, si se tiene una secuencia de $n$ experimentos idénticos, cada uno con una probabilidad de éxito $p$, y se definen las variables aleatorias $X_1$, ..., $X_n$ como:\n",
    "$$ \n",
    "X_i =\n",
    "\\begin{cases}\n",
    "1, & \\text{con probabilidad $p$} \\\\\n",
    "0, &\\text{con probabilidad $1-p$}\n",
    "\\end{cases}\n",
    "$$\n",
    "entonces, la variable aleatoria\n",
    "$$\n",
    "Y = \\sum_{i=1}^n X_i\n",
    "$$\n",
    "sigue una distribución binomial($n$, $p$)."
   ]
  },
  {
   "cell_type": "markdown",
   "id": "db904739-e8f7-459e-88e4-ab342e906aa1",
   "metadata": {},
   "source": [
    "----"
   ]
  },
  {
   "cell_type": "code",
   "execution_count": 1,
   "id": "ca07dc45-e476-459e-829d-125c5bc4248e",
   "metadata": {},
   "outputs": [
    {
     "data": {
      "text/plain": [
       "3"
      ]
     },
     "execution_count": 1,
     "metadata": {},
     "output_type": "execute_result"
    }
   ],
   "source": [
    "import numpy as np\n",
    "\n",
    "#\n",
    "# Simulación del número de exitos en 5 tiradas de\n",
    "# una moneda\n",
    "#\n",
    "np.random.binomial(5, 0.5)"
   ]
  },
  {
   "cell_type": "code",
   "execution_count": 2,
   "id": "9d6b2af3-1c0c-4ead-b39b-33fb1228a5fe",
   "metadata": {},
   "outputs": [
    {
     "data": {
      "text/plain": [
       "array([4, 2, 3, 3, 3, 2, 2, 2, 1, 4])"
      ]
     },
     "execution_count": 2,
     "metadata": {},
     "output_type": "execute_result"
    }
   ],
   "source": [
    "#\n",
    "# Simulación del número de éxitos en 5 tiradas de\n",
    "# una moneda repetido 10 veces.\n",
    "#\n",
    "np.random.binomial(5, 0.5, 10)"
   ]
  },
  {
   "cell_type": "markdown",
   "id": "3e81dbb5-459c-4760-abe9-258f5b355c58",
   "metadata": {},
   "source": [
    "---"
   ]
  },
  {
   "cell_type": "markdown",
   "id": "7f109700-2f3b-4bee-87c6-2f2b2840e25f",
   "metadata": {},
   "source": [
    "* Con una cantidad de experimentos $n$ suficientemente grande, y si $p$ no es muy cercano a 0 o 1, la distribución binomial puede ser aproximada por una distribución normal."
   ]
  },
  {
   "cell_type": "markdown",
   "id": "bbf47fc0-d686-4212-bb0f-efef6bf0e631",
   "metadata": {},
   "source": [
    "---"
   ]
  },
  {
   "cell_type": "code",
   "execution_count": 3,
   "id": "976c816b-2090-44fa-86a2-614663777960",
   "metadata": {
    "tags": []
   },
   "outputs": [
    {
     "data": {
      "image/png": "[encoded data removed]",
      "text/plain": [
       "<Figure size 640x480 with 1 Axes>"
      ]
     },
     "metadata": {},
     "output_type": "display_data"
    }
   ],
   "source": [
    "import matplotlib.pyplot as plt\n",
    "import seaborn as sns\n",
    "\n",
    "#\n",
    "# Función de densidad de probabilidad simulada\n",
    "#\n",
    "samples = np.random.binomial(60, 0.5, 10000)\n",
    "sns.histplot(samples, discrete=True, shrink=0.2, stat=\"density\")\n",
    "sns.despine(trim=True, offset=2)\n",
    "plt.show()"
   ]
  }
 ],
 "metadata": {
  "kernelspec": {
   "display_name": "Python 3 (ipykernel)",
   "language": "python",
   "name": "python3"
  },
  "language_info": {
   "codemirror_mode": {
    "name": "ipython",
    "version": 3
   },
   "file_extension": ".py",
   "mimetype": "text/x-python",
   "name": "python",
   "nbconvert_exporter": "python",
   "pygments_lexer": "ipython3",
   "version": "3.9.6"
  }
 },
 "nbformat": 4,
 "nbformat_minor": 5
}
