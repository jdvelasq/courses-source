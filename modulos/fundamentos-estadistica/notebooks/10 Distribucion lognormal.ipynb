{
 "cells": [
  {
   "cell_type": "markdown",
   "id": "b8d59a3b-74e2-4451-9717-fedee1f3d053",
   "metadata": {},
   "source": [
    "### Distribución Lognormal\n",
    "\n",
    "La variable aleatoria $x$ sigue una distribución [lognormal](https://es.wikipedia.org/wiki/Distribución_log-normal) si:\n",
    "\n",
    "$$\\log (x) \\sim \\text{N}(\\mu, \\sigma^2)$$"
   ]
  },
  {
   "cell_type": "markdown",
   "id": "7d17ce88-946b-416f-97ed-8cd0980a7bd6",
   "metadata": {},
   "source": [
    "**Actividad.---** Grafique la función de densidad de probabilidad para la distribución lognormal para:\n",
    "* $\\mu$=1.0 y $\\sigma$ = 0.5\n",
    "* $\\mu$=1.0 y $\\sigma$ = 1.0\n",
    "* $\\mu$=1.5 y $\\sigma$ = 0.5\n",
    "\n",
    "Haga click [aquí](https://docs.scipy.org/doc/scipy/reference/generated/scipy.stats.lognorm.html) para obtener ayuda de las funciones del lenguaje Python para esta distribución."
   ]
  },
  {
   "cell_type": "markdown",
   "id": "740df083-a3e3-463c-97d3-f967f4c8f438",
   "metadata": {},
   "source": [
    "**Actividad.---** Para las tres distribuciones anteriores, grafique la región correspondiente a los intevalos de confianza del 95%."
   ]
  }
 ],
 "metadata": {
  "kernelspec": {
   "display_name": "Python 3 (ipykernel)",
   "language": "python",
   "name": "python3"
  },
  "language_info": {
   "codemirror_mode": {
    "name": "ipython",
    "version": 3
   },
   "file_extension": ".py",
   "mimetype": "text/x-python",
   "name": "python",
   "nbconvert_exporter": "python",
   "pygments_lexer": "ipython3",
   "version": "3.9.6"
  }
 },
 "nbformat": 4,
 "nbformat_minor": 5
}
