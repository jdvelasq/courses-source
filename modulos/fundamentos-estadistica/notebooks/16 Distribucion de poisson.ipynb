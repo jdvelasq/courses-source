{
 "cells": [
  {
   "cell_type": "markdown",
   "id": "d7ade64c-f2f9-412e-8f40-5e647b7fcfb0",
   "metadata": {},
   "source": [
    "Distribución de Poisson y distribuciones relacionadas\n",
    "==="
   ]
  },
  {
   "cell_type": "markdown",
   "id": "eed35b7f-60b7-4c51-846a-9741ea8d96d9",
   "metadata": {},
   "source": [
    "* Estas distribuciones están relacionadas con eventos que ocurren aleatoriamente con una tasa determinada.\n",
    "\n",
    "  * Visitantes que llegan a una página web.\n",
    "  * Vehículos que llegan a una plaza.\n",
    "  * Imperfecciones en un producto.\n",
    "  * Errores por cada n líneas de código.\n",
    "  * Número de infecciones de una enfermedad por año."
   ]
  },
  {
   "cell_type": "markdown",
   "id": "b7dd72c9-5e70-4be8-8d1c-92a4097666f2",
   "metadata": {},
   "source": [
    "* Usualmente se desea calcular el número promedio de eventos por unidad de tiempo o espacio y establecer que tan diferentes son los eventos de una unidad de tiempo/espacio a otra."
   ]
  },
  {
   "cell_type": "markdown",
   "id": "0a5b820a-99f6-4899-83cb-f0de1489f913",
   "metadata": {},
   "source": [
    "* La distribución de Poisson permite representar la distribución de los eventos por unidad de tiempo/espacio cuando se muestrean muchas unidades."
   ]
  },
  {
   "cell_type": "code",
   "execution_count": null,
   "id": "62ec87ca-84c2-46cf-93da-dc02f0651c23",
   "metadata": {},
   "outputs": [],
   "source": []
  }
 ],
 "metadata": {
  "kernelspec": {
   "display_name": "",
   "name": ""
  },
  "language_info": {
   "name": ""
  }
 },
 "nbformat": 4,
 "nbformat_minor": 5
}
