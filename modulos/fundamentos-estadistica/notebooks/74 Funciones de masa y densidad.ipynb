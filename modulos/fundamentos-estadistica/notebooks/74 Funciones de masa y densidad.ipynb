{
 "cells": [
  {
   "cell_type": "markdown",
   "id": "805e0028-c2aa-4a4d-b6ac-f48940b73b1b",
   "metadata": {},
   "source": [
    "Funciones de masa y densidad\n",
    "==="
   ]
  },
  {
   "cell_type": "markdown",
   "id": "78b04d2f-a182-4a46-8487-53941b0fb468",
   "metadata": {},
   "source": [
    "### Función de probabilidad\n",
    "\n",
    "Dado un espacio muestral $S$ y un conjunto de eventos $A_i$ mutuamente exclusivos y colectivamente exhasutivos, una *función de probabilidad* es una función Pr cualquiera que:\n",
    "\n",
    "* $\\text{Pr}(A_i) \\ge 0, \\quad \\forall A \\in S$\n",
    "\n",
    "\n",
    "* $\\text{Pr}(S) = 1$."
   ]
  },
  {
   "cell_type": "markdown",
   "id": "d917c90b-2f6a-4ff1-8406-5100064c5642",
   "metadata": {},
   "source": [
    "### Función de masa de probabilidad\n",
    "\n",
    "La función de masa de probabilidad $f_X(s)$ de una variable aleatoria discreta $X$ es dada por:\n",
    "\n",
    "$$f_X(x) = \\text{Pr}(X=x), \\qquad \\forall x.$$\n"
   ]
  },
  {
   "cell_type": "markdown",
   "id": "a51b75a5-8c08-4c6b-9433-6442e884582c",
   "metadata": {},
   "source": [
    "### Función de densidad de probabilidad\n",
    "\n",
    "La función $f_X(x)$ para una variable aleatoria continua $X$ es una función que satisface con:\n",
    "\n",
    "$$F_X(x) = \\int_{-\\infty}^x f_X(t) dt, \\quad \\forall x.$$"
   ]
  },
  {
   "cell_type": "markdown",
   "id": "09e85537-29d4-44ff-aba1-1a07d9d91629",
   "metadata": {},
   "source": [
    "### Función de distribución acumulada de $X$ o $F_X(x)$\n",
    "\n",
    "Es la función\n",
    "\n",
    "$$F_X(x) = \\text{Pr}_X (X \\le x), \\quad \\forall x$$\n",
    "\n",
    "Tal que:\n",
    "\n",
    "* $\\lim_{x \\to -\\infty} F_X(x) = 0$ y $\\lim_{x \\to \\infty} F_X(x) = 1$\n",
    "* $F_X(x)$ es no una función no decreciente de x.\n",
    "* $F_X(x)$ es continua por la derecha (existencia)."
   ]
  },
  {
   "cell_type": "markdown",
   "id": "86b09912-629f-4c1d-8d96-7c0aaf94882a",
   "metadata": {},
   "source": [
    "**Función de masa de probabilidad.**  Es una función que da el valor exacto de la probabilidad para una variable aleatoria discreta para un valor determinado. Para la tirada de dos dados, la función vale:\n",
    "\n",
    "    Pr(𝑋= 2) = 1 / 36   Pr(𝑋= 6) = 5 / 36   Pr(𝑋=10) = 3 / 36\n",
    "    Pr(𝑋= 3) = 2 / 36   Pr(𝑋= 7) = 6 / 36   Pr(𝑋=11) = 2 / 36\n",
    "    Pr(𝑋= 4) = 3 / 36   Pr(𝑋= 8) = 5 / 36   Pr(𝑋=12) = 1 / 36\n",
    "    Pr(𝑋= 5) = 4 / 36   Pr(𝑋= 9) = 4 / 36"
   ]
  },
  {
   "cell_type": "markdown",
   "id": "43401873-29c0-4fe7-a716-e57f340ee620",
   "metadata": {},
   "source": [
    "**Función de densidad de probabilidad**\n",
    "\n",
    "Es la función de probabilidad asociada a una variable aleatoria continua. "
   ]
  },
  {
   "cell_type": "markdown",
   "id": "90328862-bae7-4564-adf6-64aba9dae97f",
   "metadata": {},
   "source": [
    "El área bajo la función de densidad de probabilidad corresponde a la probabilidad de la variable aletaoria. Debe cumplir con las siguiente propiedadades"
   ]
  },
  {
   "cell_type": "markdown",
   "id": "0101beb4-3eb3-4008-96ed-3ade0e4e3203",
   "metadata": {},
   "source": [
    "$$\n",
    "0 \\le f_X(x) \\le 1\n",
    "$$\n",
    "\n",
    "\n",
    "$$\n",
    "\\int_{-\\infty}^\\infty f_X(x) = 1\n",
    "$$"
   ]
  },
  {
   "cell_type": "markdown",
   "id": "a049b64d-5dc6-4d56-8b7b-63bf73434ccb",
   "metadata": {},
   "source": [
    "**Función de probabilidad acumulada y función de supervivencia**"
   ]
  },
  {
   "cell_type": "markdown",
   "id": "2cff842f-367b-497c-a226-ef4be7b4c595",
   "metadata": {},
   "source": [
    "La función de probabilidad acumulada retorna la probabilidad de que una variable aleaoria sea menor o igual a un valor $x$:\n",
    "\n",
    "$$\n",
    "F(x) = \\text{Pr}(X\\le x)\n",
    "$$"
   ]
  },
  {
   "cell_type": "markdown",
   "id": "f88aed46-1348-4457-bc47-31bf33f3eff5",
   "metadata": {},
   "source": [
    "La función de supervivencia retorna la probabilidad de que una variable sea mayor a un valor $x$:\n",
    "\n",
    "$$\n",
    "S(x) = \\text{Pr}(X > x) \n",
    "$$"
   ]
  }
 ],
 "metadata": {
  "kernelspec": {
   "display_name": "Python 3 (ipykernel)",
   "language": "python",
   "name": "python3"
  },
  "language_info": {
   "codemirror_mode": {
    "name": "ipython",
    "version": 3
   },
   "file_extension": ".py",
   "mimetype": "text/x-python",
   "name": "python",
   "nbconvert_exporter": "python",
   "pygments_lexer": "ipython3",
   "version": "3.9.6"
  }
 },
 "nbformat": 4,
 "nbformat_minor": 5
}
