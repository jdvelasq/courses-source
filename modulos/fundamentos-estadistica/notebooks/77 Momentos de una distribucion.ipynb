{
 "cells": [
  {
   "cell_type": "markdown",
   "id": "ec0dcc54-0460-4613-9dc4-f9c449d18d1c",
   "metadata": {},
   "source": [
    "### Momentos de una distribución\n",
    "\n",
    "El $n$-ésimo momento se define como:\n",
    "\n",
    "$$M_n = \\text{E}(x^n) = \\int u^n f_X(t) dt$$\n",
    "\n",
    "* Media o valor esperado:\n",
    "\n",
    "$$ \\text{E}(x) = \\mu_x=\\int u·f_X(t) dt = M_1$$\n",
    "\n",
    "* Varianza:\n",
    "\n",
    "$$\\text{V}(x)= \\sigma^2_x = \\text{E}[(x-\\mu)^2]=M_2 - M_1^2$$\n",
    "\n",
    "\n",
    "* Simetría:\n",
    "\n",
    "$$\\text{S}_x = \\text{E}[(x-\\mu)^3]=M_3 - 3M_2M_1 + 2M_1^3$$\n",
    "\n",
    "* Curtosis:\n",
    "\n",
    "$$\\text{K}_x = \\text{E}[(x-\\mu)^4]=M_4 - 4M_3M_1 + 6M_2M_1^2 - 3M_1^4$$\n",
    "\n",
    "\n"
   ]
  },
  {
   "cell_type": "markdown",
   "id": "60c1872b-bbcb-46fc-92e4-d95135761d41",
   "metadata": {},
   "source": [
    "**Interpretación gráfica**"
   ]
  },
  {
   "cell_type": "markdown",
   "id": "09a1eaed-a241-46f2-9ac4-f364d5ea87db",
   "metadata": {},
   "source": [
    "![assets/momentos-distribucion.jpg](assets/momentos-distribucion.jpg)"
   ]
  }
 ],
 "metadata": {
  "kernelspec": {
   "display_name": "Python 3 (ipykernel)",
   "language": "python",
   "name": "python3"
  },
  "language_info": {
   "codemirror_mode": {
    "name": "ipython",
    "version": 3
   },
   "file_extension": ".py",
   "mimetype": "text/x-python",
   "name": "python",
   "nbconvert_exporter": "python",
   "pygments_lexer": "ipython3",
   "version": "3.9.6"
  }
 },
 "nbformat": 4,
 "nbformat_minor": 5
}
