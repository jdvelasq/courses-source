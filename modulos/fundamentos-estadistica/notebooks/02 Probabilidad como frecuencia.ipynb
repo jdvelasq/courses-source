{
 "cells": [
  {
   "cell_type": "markdown",
   "id": "cda6d700-d372-4706-96e5-693a3d8b13b5",
   "metadata": {},
   "source": [
    "Definición de probabilidad como frecuencia\n",
    "==="
   ]
  },
  {
   "cell_type": "markdown",
   "id": "ef6ed175-4223-473d-aed8-533c29373f7f",
   "metadata": {},
   "source": [
    "* El **espacio muestral** se define como el conjunto $S$ de todos los posibles resultados de un experimento."
   ]
  },
  {
   "cell_type": "markdown",
   "id": "23c859fc-afe6-4483-aeb3-525784f425c7",
   "metadata": {},
   "source": [
    "* Un **evento** $x_i$ es cualquier colección de posibles resultados de un experimento (subconjunto del espacio muestral)."
   ]
  },
  {
   "cell_type": "markdown",
   "id": "04e993df-79af-46ef-bc08-97e44c967668",
   "metadata": {},
   "source": [
    "* La **probabilidad** es la frecuencia con que ocurren un evento."
   ]
  },
  {
   "cell_type": "markdown",
   "id": "5fd30174-d7f9-4bb8-8677-124006af6589",
   "metadata": {},
   "source": [
    "---"
   ]
  },
  {
   "cell_type": "markdown",
   "id": "4ef66b9d-d8bf-4adb-86c9-90261bfa985d",
   "metadata": {
    "slideshow": {
     "slide_type": "slide"
    }
   },
   "source": [
    "Por ejempo, si en la tirada de dos dados se definen como un evento la suma de los puntos obtenidos, entonces:\n",
    "\n",
    "![tirada-dados](assets/tirada-dados.jpg)\n",
    "\n",
    "\n",
    "    Pr(𝑋= 2) = 1 / 36   Pr(𝑋= 6) = 5 / 36   Pr(𝑋=10) = 3 / 36\n",
    "    Pr(𝑋= 3) = 2 / 36   Pr(𝑋= 7) = 6 / 36   Pr(𝑋=11) = 2 / 36\n",
    "    Pr(𝑋= 4) = 3 / 36   Pr(𝑋= 8) = 5 / 36   Pr(𝑋=12) = 1 / 36\n",
    "    Pr(𝑋= 5) = 4 / 36   Pr(𝑋= 9) = 4 / 36"
   ]
  },
  {
   "cell_type": "markdown",
   "id": "c8f29134-8f97-44ac-890f-7acbcaf8f4fb",
   "metadata": {
    "slideshow": {
     "slide_type": "slide"
    }
   },
   "source": [
    "**Pregunta.---** Los soldados mediavales apostaban con dos dados de la siguiente manera: si el resultado es par {2, 4, 6, 8, 10, 12} ganaba el soldado A; y si el resultado es impar {3, 5, 7, 9, 11} ganaba el soldado B. ¿Quién tiene mayor probabilidad de ganar?"
   ]
  },
  {
   "cell_type": "markdown",
   "id": "a8d86e12-8c7b-42a1-b611-91fd19fa8a79",
   "metadata": {},
   "source": [
    "---"
   ]
  },
  {
   "cell_type": "markdown",
   "id": "2a19ab01-21d5-4ef8-8996-2e91935dd38d",
   "metadata": {
    "slideshow": {
     "slide_type": "slide"
    }
   },
   "source": [
    "* Las probabilidades deben cumplir con las siguientes propiedades:\n",
    "\n",
    "  * Todas las probabilidades deben estar entre $0$ y $1$: \n",
    "  \n",
    "  $$\n",
    "  0 \\le \\text{Pr}(x_i) \\le 1\n",
    "  $$\n",
    "  \n",
    "  * Las probabilidades de eventos mutuamente exclusivos (no pueden ocurrir simultáneamente) y colectivamente exhaustivos (cubren todo el universo de casos posibles) deben sumar la unidad:\n",
    "  \n",
    "  $$\n",
    "  \\sum_{i=1}^n \\text{Pr}(x_i) = 1\n",
    "  $$"
   ]
  },
  {
   "cell_type": "markdown",
   "id": "4e4d0eb7-2077-46cc-86d6-b273cdb1bdab",
   "metadata": {},
   "source": [
    "---"
   ]
  },
  {
   "cell_type": "markdown",
   "id": "91eb5be7-af7e-473f-b425-b7848be399cd",
   "metadata": {
    "slideshow": {
     "slide_type": "slide"
    }
   },
   "source": [
    "En las siguientes figuras, los eventos F1, F2 y F3, y V1 y V2 están definidos sobre el mismo universo; y son mutuamente exclusivos y colectivamente exhaustivos, tal que se cumplen las dos propiedades anteriores. Para facilidad de interpretación, se definen:\n",
    "\n",
    "      F1: Tener camisa amarilla\n",
    "      F2: Tener camisa roja\n",
    "      F3: Tener camisa negra\n",
    "      \n",
    "      V1: Tener tenis azules\n",
    "      V2: Tener tenis grises\n",
    "\n",
    "![assets/eventos-conjuntos-2.jpg](assets/eventos-conjuntos-2.jpg)\n",
    "\n",
    "\n",
    "$$\\text{Pr}(F1) + \\text{Pr}(F2) + \\text{Pr}(F3) = 1, \\quad \\qquad \\text{Pr}(V1) + \\text{Pr}(V2) = 1$$ "
   ]
  },
  {
   "cell_type": "markdown",
   "id": "15e4f846-279a-453e-aa5b-04b90d299bab",
   "metadata": {
    "slideshow": {
     "slide_type": "slide"
    }
   },
   "source": [
    "----"
   ]
  }
 ],
 "metadata": {
  "kernelspec": {
   "display_name": "Python 3 (ipykernel)",
   "language": "python",
   "name": "python3"
  },
  "language_info": {
   "codemirror_mode": {
    "name": "ipython",
    "version": 3
   },
   "file_extension": ".py",
   "mimetype": "text/x-python",
   "name": "python",
   "nbconvert_exporter": "python",
   "pygments_lexer": "ipython3",
   "version": "3.9.6"
  }
 },
 "nbformat": 4,
 "nbformat_minor": 5
}
