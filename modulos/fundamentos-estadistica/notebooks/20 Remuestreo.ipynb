{
 "cells": [
  {
   "cell_type": "markdown",
   "id": "53a6d178-7654-40b4-9ab4-f33c1bb8dead",
   "metadata": {},
   "source": [
    "Remuestreo y test de permutación\n",
    "==="
   ]
  },
  {
   "cell_type": "markdown",
   "id": "dec72788-3b3a-4a00-afd8-69136460b202",
   "metadata": {},
   "source": [
    "* Es muestrear repetidamente datos de la muestra observada con el fin general de estimar la aleatoridad de un estadístico."
   ]
  },
  {
   "cell_type": "markdown",
   "id": "45cd9f67-8159-42e0-a8fe-c3bd8395197b",
   "metadata": {},
   "source": [
    "* Se puede utilizar para medir o mejorar la precisión en algunos modelos de ML (por ejemplo, bagging)"
   ]
  },
  {
   "cell_type": "markdown",
   "id": "ff5069ae-afd6-4f59-85ec-701ab006a3de",
   "metadata": {},
   "source": [
    "* Existe dos técnicas básicas de remuestreo:\n",
    "\n",
    "  * Boostrap, usado para estimar la distribución de probabilidad de un estimado.\n",
    "  \n",
    "  * Permutación, usada para realizar pruebas de hipótesis."
   ]
  },
  {
   "cell_type": "markdown",
   "id": "c739f744-d17f-4871-82c8-9755f86027f8",
   "metadata": {},
   "source": [
    "---"
   ]
  },
  {
   "cell_type": "markdown",
   "id": "69c18d6b-7db4-4dd5-9cb0-2373627e0bc5",
   "metadata": {},
   "source": [
    "**Ejemplo**"
   ]
  },
  {
   "cell_type": "markdown",
   "id": "e6f2a7ca-f3ad-4540-83ad-ecb2e9e30d13",
   "metadata": {},
   "source": [
    "* Supongase que se tiene una tabla con los siguientes datos \n",
    "\n",
    "        x   y\n",
    "      --------\n",
    "       x1  y1\n",
    "       x2  y2\n",
    "        .   .\n",
    "       xn  yn\n",
    "    \n",
    "\n",
    "  y se calcula el coeficiente de correlación entre ellas."
   ]
  },
  {
   "cell_type": "markdown",
   "id": "f391c6df-1329-439e-85cb-ffd26eb4b05b",
   "metadata": {},
   "source": [
    "* Para saber si efectivamente el valor del estadístico es significativo (si existe una relación entre las variables) se puede realizar un test de permutación."
   ]
  },
  {
   "cell_type": "markdown",
   "id": "fc7f4c2b-06de-4b64-9173-ced848a11d70",
   "metadata": {},
   "source": [
    "* El test se basa en obtener una muestra de valores aleatorios posibles del estadistico. Cada valor aleatorio se obtiene de la siguiente manera:\n",
    "\n",
    "  a) Se mezclan los valores de la columna x, por ejemplo:\n",
    "  \n",
    "         x   y\n",
    "      ---------\n",
    "        x5  y1\n",
    "        x1  y2\n",
    "         .   .\n",
    "       x90  yn\n",
    "       \n",
    "  b) Se calcula el estadístico para la muestra obtenida en el paso a)."
   ]
  },
  {
   "cell_type": "markdown",
   "id": "9eba8769-e8ab-4a63-ac42-d20bb595a003",
   "metadata": {},
   "source": [
    "* Se evalua si el estadístico calculado originalmente está en la región del p% de confianza de la distribución de los datos."
   ]
  },
  {
   "cell_type": "markdown",
   "id": "a3ec8136-8e39-4927-81e7-9ccaed5d4207",
   "metadata": {},
   "source": [
    "----"
   ]
  },
  {
   "cell_type": "markdown",
   "id": "134411e7-56e2-4520-8f82-6da370d6e3cc",
   "metadata": {},
   "source": [
    "* Para el test de permutación se pueden considerar dos tipos:\n",
    "\n",
    "  * El test de permutación exhaustivo, donde se generan todas las permutaciones posibles.\n",
    "  \n",
    "  * El test de permutación bootstrap, donde las permutaciones son generadas usando bootstrap."
   ]
  }
 ],
 "metadata": {
  "kernelspec": {
   "display_name": "Python 3 (ipykernel)",
   "language": "python",
   "name": "python3"
  },
  "language_info": {
   "codemirror_mode": {
    "name": "ipython",
    "version": 3
   },
   "file_extension": ".py",
   "mimetype": "text/x-python",
   "name": "python",
   "nbconvert_exporter": "python",
   "pygments_lexer": "ipython3",
   "version": "3.9.6"
  }
 },
 "nbformat": 4,
 "nbformat_minor": 5
}
