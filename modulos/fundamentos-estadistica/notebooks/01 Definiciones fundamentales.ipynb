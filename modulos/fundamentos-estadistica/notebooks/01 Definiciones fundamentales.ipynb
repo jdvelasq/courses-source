{
 "cells": [
  {
   "cell_type": "markdown",
   "id": "4983768b-ee9c-40ef-9ec8-45ba612e4a1a",
   "metadata": {},
   "source": [
    "Definiciones fundamentales ---\n",
    "===\n",
    "\n",
    "* 0:00 min | Ultima modificación: Octubre 15, 2021 | [YouTube]"
   ]
  },
  {
   "cell_type": "markdown",
   "id": "a4e3ff10-6690-41a0-96cb-49eef1cd3527",
   "metadata": {},
   "source": [
    "* La **estadística** tiene como fin **derivar conclusiones** sobre una población a partir de un **experimento**."
   ]
  },
  {
   "cell_type": "markdown",
   "id": "11443061-a582-4600-bdc7-63f73495b4e6",
   "metadata": {},
   "source": [
    "![assets/pob-muestra.jpg](assets/pob-muestra.jpg)"
   ]
  },
  {
   "cell_type": "markdown",
   "id": "ddfeab02-0edc-40bb-b054-39bf4f590773",
   "metadata": {},
   "source": [
    "* Una **población** es una colección de objetos, datos o individuos (reales, teóricos o imaginarios) sobre los cuales se desea obtener información de interés."
   ]
  },
  {
   "cell_type": "markdown",
   "id": "ec467f1a-6136-40c3-9a79-3862de547bc8",
   "metadata": {},
   "source": [
    "* Un **parámetro** es un valor que resume una propiedad o característica de la población entera. "
   ]
  },
  {
   "cell_type": "markdown",
   "id": "c06b865a-88c0-4809-88a6-73ccc347f0d4",
   "metadata": {},
   "source": [
    "* Usualmente no se tiene acceso a la población para realizar calcular el parámetro de interés, por lo que este debe ser calculado sobre una muestra. "
   ]
  },
  {
   "cell_type": "markdown",
   "id": "d64dac9a-0885-4eec-a79f-370867ec9125",
   "metadata": {},
   "source": [
    "* Una **muestra** es un grupo obtenido aleatoriamente que es representativo de la población."
   ]
  },
  {
   "cell_type": "markdown",
   "id": "a83ce5f7-4dcd-4e30-82f3-7fb44b1e4d3b",
   "metadata": {},
   "source": [
    "* El **muestreo aleatorio** es un muestreo de elementos donde cada miembro de la población tiene igual probabilidad de ser seleccionado."
   ]
  },
  {
   "cell_type": "markdown",
   "id": "5f2efd9f-b690-4cfc-8f90-cdd5b77f0f90",
   "metadata": {},
   "source": [
    "* Una **muestra aleatoria simple** resulta de muestrear la población sin estratificar."
   ]
  },
  {
   "cell_type": "markdown",
   "id": "b731651d-6288-41e6-a574-96edf8d8af59",
   "metadata": {},
   "source": [
    "* Una **muestra sesgada** es una muestra que no representa la población."
   ]
  },
  {
   "cell_type": "markdown",
   "id": "6293505f-ce5f-454e-bda3-61eedb9ea657",
   "metadata": {},
   "source": [
    "* En el muestreo aleatorio **con reemplazo**, un elemento seleccionado es devuelto a la población, de tal forma que puede ser seleccionado nuevamente (reemplazado con una copia identica de él)."
   ]
  },
  {
   "cell_type": "markdown",
   "id": "023d3734-757f-47a6-9272-484340fb8e2e",
   "metadata": {},
   "source": [
    "* En el muestreo aleatorio **sin reemplazo**, un elemento que ya ha sido seleccionado, no puede ser seleccionado nuevamente."
   ]
  },
  {
   "cell_type": "markdown",
   "id": "c5bc34a2-7321-40ad-a131-0696ad1c7275",
   "metadata": {},
   "source": [
    "* En el **muestreo estratificado** la población es dividida en estratos y cada estrato es muestreado aleatoriamente. "
   ]
  },
  {
   "cell_type": "markdown",
   "id": "37691836-8f8e-4df0-8fa7-2e3a5f66fa4e",
   "metadata": {},
   "source": [
    "* Un **estrato** es un subgrupo de la población que tiene características comunes."
   ]
  },
  {
   "cell_type": "markdown",
   "id": "ae3b7fe1-071b-47e6-9d40-1821370e5998",
   "metadata": {},
   "source": [
    "* Un **estadístico (muestral)** es un valor que resume una propiedad o característica de una muestra. "
   ]
  },
  {
   "cell_type": "markdown",
   "id": "b83d9a38-6042-4654-9bd3-3c71a7a5cd51",
   "metadata": {},
   "source": [
    "* La **distribución muestral** es la distribución de probabilidad de un estadístico muestral calculado sobre muchas muestras o remuestreos."
   ]
  },
  {
   "cell_type": "markdown",
   "id": "391222b2-d5b6-4ebc-bb25-293d3fb41baa",
   "metadata": {},
   "source": [
    "* El **error estándar** es la desviación estándar del estadístico muestral sobre muchas muestras.\n"
   ]
  },
  {
   "cell_type": "markdown",
   "id": "90dd4ad8-f520-4349-ad85-38199c81d17e",
   "metadata": {},
   "source": [
    "* El **sesgo estadístico** se refiere a los errores de muestreo o medición que son sistemáticos y producidos por la medición o el muestreo mismo."
   ]
  },
  {
   "cell_type": "markdown",
   "id": "bbcac33d-ecea-4c3d-9b93-f1161746a7d9",
   "metadata": {},
   "source": [
    "* El **sesgo de selección** se refiere a la práctica de escoger selectivamente los datos (de forma consciente o inconsciente) en una forma que lleva a una conclusión erronea."
   ]
  },
  {
   "cell_type": "markdown",
   "id": "00587739-ee5d-4aec-a481-6ee23b616ce5",
   "metadata": {},
   "source": [
    "* El término **data snooping** es la investigación intensa de los datos hasta que algo interesante emerge."
   ]
  },
  {
   "cell_type": "markdown",
   "id": "5fdaef7f-ff73-4f7e-815a-3f68e5fe103a",
   "metadata": {},
   "source": [
    "> If you torture the data long enought, sooner or later it will confess."
   ]
  },
  {
   "cell_type": "markdown",
   "id": "55a8886e-e933-4e1f-827c-22943a95ef8a",
   "metadata": {},
   "source": [
    "---"
   ]
  },
  {
   "cell_type": "markdown",
   "id": "7163963d-e107-4e2d-949d-436713feb4a3",
   "metadata": {},
   "source": [
    "Para aclara el término **data snooping** considere el siguiente ejemplo:\n",
    "\n",
    "* Una persona le dice que es capaz de obtener 10 caras al lanzar una moneda; usted lo desafia y esa persona obtiene las 10 caras. Esto indica una habilidad especial de la persona.\n",
    "\n",
    "* Tome un estadio con 20.000 personas y pidales que lancen la moneda 10 veces. Que una persona obtenga 10 caras seguidas no indica que dicha persona tenga una habilidad especial. "
   ]
  },
  {
   "cell_type": "markdown",
   "id": "a043c44b-6086-4681-bf9e-e8ad901fa211",
   "metadata": {},
   "source": [
    "---"
   ]
  },
  {
   "cell_type": "markdown",
   "id": "c1d5a978-e5b7-4ee2-9e7e-ea17ac085e98",
   "metadata": {},
   "source": [
    "* El **sesgo de regresión a la media** se refiere a fenómenos que involucran medidas sucesivas de una variable: observaciones extremas tienden a ser seguidas por observaciones más cercanas a la media."
   ]
  },
  {
   "cell_type": "markdown",
   "id": "7c96c9f4-1ec1-4373-8832-6a37edc37cb2",
   "metadata": {},
   "source": [
    "---"
   ]
  },
  {
   "cell_type": "markdown",
   "id": "77807182-378c-4077-a8b0-6ae8e2a4ee16",
   "metadata": {},
   "source": [
    "Considere los jugadores que inician su vida profesional en una temporada. Uno de ellos sobresalira del resto, pero su desempeño no será el mismo para la segunda temporada. ¿Por qué? Pista/ esto se debe a que el desempeño será una mezcla de habilidades y suerte."
   ]
  },
  {
   "cell_type": "markdown",
   "id": "676c7ab1-55f9-403f-a2b9-86779d0d2568",
   "metadata": {},
   "source": [
    "---"
   ]
  },
  {
   "cell_type": "markdown",
   "id": "ef6716ba-d4fe-4a1f-a512-22b708cc559f",
   "metadata": {},
   "source": [
    "* La **inferencia estadística** tiene como fin generar una conclusión sobre la población a partir de una muestra de datos (ruidosa)."
   ]
  },
  {
   "cell_type": "markdown",
   "id": "2d5f6138-45cf-4fc4-8623-b34868f1ba37",
   "metadata": {},
   "source": [
    "* Los **objetivos** de la **inferencia estadística** son:\n",
    "\n",
    "\n",
    "  * Estimar y cuantificar la incertidumbre de un estimado de un parámetro de la población.\n",
    "\n",
    "  * Determinar cuando una cantidad es un valor benchmark.\n",
    "\n",
    "  * Inferir relaciones enetre cantidades medidas con ruido."
   ]
  }
 ],
 "metadata": {
  "kernelspec": {
   "display_name": "Python 3 (ipykernel)",
   "language": "python",
   "name": "python3"
  },
  "language_info": {
   "codemirror_mode": {
    "name": "ipython",
    "version": 3
   },
   "file_extension": ".py",
   "mimetype": "text/x-python",
   "name": "python",
   "nbconvert_exporter": "python",
   "pygments_lexer": "ipython3",
   "version": "3.9.6"
  }
 },
 "nbformat": 4,
 "nbformat_minor": 5
}
