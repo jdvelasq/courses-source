{
 "cells": [
  {
   "cell_type": "markdown",
   "id": "1d8f215c-bc6b-477b-94be-bbda894171a6",
   "metadata": {},
   "source": [
    "Variable aleatoria\n",
    "--"
   ]
  },
  {
   "cell_type": "markdown",
   "id": "5d3de5ed-3ae6-4789-b837-c5dc7078d38d",
   "metadata": {},
   "source": [
    "### Variable aleatoria\n",
    "\n",
    "Una variable aletaoria $X$ es una función que mapea el espacio muestral en los números reales."
   ]
  },
  {
   "cell_type": "markdown",
   "id": "b6908d93-3779-4aa4-8bd4-ada7243d4658",
   "metadata": {
    "tags": []
   },
   "source": [
    "Una variable aletoria se define como el resultado de un experimento. Esta puede ser discreta o continua."
   ]
  },
  {
   "cell_type": "markdown",
   "id": "e32c61df-9cc1-4837-8090-256f0162c6ac",
   "metadata": {},
   "source": [
    "Ejemplos:\n",
    "\n",
    "* La suma resultante de tirar dos datos.\n",
    "\n",
    "* La temperatura media del mes de enero de este año."
   ]
  }
 ],
 "metadata": {
  "kernelspec": {
   "display_name": "Python 3 (ipykernel)",
   "language": "python",
   "name": "python3"
  },
  "language_info": {
   "codemirror_mode": {
    "name": "ipython",
    "version": 3
   },
   "file_extension": ".py",
   "mimetype": "text/x-python",
   "name": "python",
   "nbconvert_exporter": "python",
   "pygments_lexer": "ipython3",
   "version": "3.9.6"
  }
 },
 "nbformat": 4,
 "nbformat_minor": 5
}
