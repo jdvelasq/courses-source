{
 "cells": [
  {
   "cell_type": "markdown",
   "id": "4743f760-c3cd-493b-b65b-bb907428ab4c",
   "metadata": {},
   "source": [
    "Definición de eventos deterministicos, aleatorios, inciertos y estocásticos\n",
    "===\n"
   ]
  },
  {
   "cell_type": "markdown",
   "id": "2872f01d-ff0e-4c16-ada9-f94e1f442343",
   "metadata": {},
   "source": [
    "* Un evento $S$ es **determinístico** cuando dada una entrada se sabe exactamente su resultado: $f(x)=x+1$ entonces $f(1)=2$."
   ]
  },
  {
   "cell_type": "markdown",
   "id": "894f34e4-9e63-4f8a-8348-182bc08bfb07",
   "metadata": {},
   "source": [
    "* Un evento $S$ es **aleatorio** cuando se conocen todos sus posibles estados pero no se sabe que evento ocurrira, por ejemplo, la tirada de dos dados."
   ]
  },
  {
   "cell_type": "markdown",
   "id": "04fddec8-9d32-48f9-b09f-5e6ccb2553ad",
   "metadata": {},
   "source": [
    "* Un evento $S$ es **incierto** cuando no se conocen todos los estados posibles que pueden ocurrir, por ejemplo, no se sabe cuantas caras tiene el dado. El principio de incertidumbre dice que en esta situación todos los eventos tienen la misma probabilidad."
   ]
  },
  {
   "cell_type": "markdown",
   "id": "b48efc90-65f2-4127-8b0c-bc14653dd5b2",
   "metadata": {},
   "source": [
    "* Un evento $S$ es **estocástico** cuando hay una componente aleatoria más una componente determinística. Por ejemplo: $f(x)=mx+b+e$ donde $e$ sigue una distribución normal $N(0, \\sigma^2)$."
   ]
  }
 ],
 "metadata": {
  "kernelspec": {
   "display_name": "Python 3 (ipykernel)",
   "language": "python",
   "name": "python3"
  },
  "language_info": {
   "codemirror_mode": {
    "name": "ipython",
    "version": 3
   },
   "file_extension": ".py",
   "mimetype": "text/x-python",
   "name": "python",
   "nbconvert_exporter": "python",
   "pygments_lexer": "ipython3",
   "version": "3.9.6"
  }
 },
 "nbformat": 4,
 "nbformat_minor": 5
}
