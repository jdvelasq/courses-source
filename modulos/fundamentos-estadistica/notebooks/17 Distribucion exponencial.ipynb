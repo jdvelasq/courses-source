{
 "cells": [
  {
   "cell_type": "markdown",
   "id": "2471fcda-cde4-4fe7-a61f-c81def2e3ae3",
   "metadata": {},
   "source": [
    "### Distribución Exponencial\n",
    "\n",
    "En esta distribución:\n",
    "\n",
    "$$f(X|\\beta)=\\frac{1}{\\beta}\\exp \\left( \\frac{-x}{\\beta} \\right)$$\n",
    "\n",
    "La cual es usada para modelar tiempos de vida.\n",
    "\n",
    "$$\\text{E}(X)= \\beta$$\n",
    "\n",
    "$$\\text{Var}(X) = \\beta^2$$\n",
    "\n",
    "Ejemplo: El tiempo entre arrivos que siguen una distribución de Poisson sigue una distribución exponencial."
   ]
  }
 ],
 "metadata": {
  "kernelspec": {
   "display_name": "Python 3 (ipykernel)",
   "language": "python",
   "name": "python3"
  },
  "language_info": {
   "codemirror_mode": {
    "name": "ipython",
    "version": 3
   },
   "file_extension": ".py",
   "mimetype": "text/x-python",
   "name": "python",
   "nbconvert_exporter": "python",
   "pygments_lexer": "ipython3",
   "version": "3.9.6"
  }
 },
 "nbformat": 4,
 "nbformat_minor": 5
}
