{
 "cells": [
  {
   "cell_type": "markdown",
   "id": "a89b3079-aec9-4a4c-ad36-1af73d225fd2",
   "metadata": {},
   "source": [
    "Conteo para estimación de probabilidades\n",
    "==="
   ]
  },
  {
   "cell_type": "markdown",
   "id": "c12ea895-95e3-43e9-bc12-b6fdec7b09a6",
   "metadata": {},
   "source": [
    "* Un concepto fundamental en probabilidad es realizar el **conteo de todos los posibles eventos** con el fin de determinar su frecuencia."
   ]
  },
  {
   "cell_type": "markdown",
   "id": "cb853533-5baf-4981-9fd5-f103480a0200",
   "metadata": {},
   "source": [
    "* **Definición**. Si trabajo es compuesto por $k$ tareas individuales, y si tarea $i$ puede ser realizada en $n_i$ formas diferentes, entonces el trabajo puede ser realizado en \n",
    "$$\n",
    "n_1 \\times n_2 \\times \\cdots \\times n_k\n",
    "$$\n",
    "formas diferentes."
   ]
  },
  {
   "cell_type": "markdown",
   "id": "7555765e-c115-4069-9e40-481ee831eb40",
   "metadata": {},
   "source": [
    "---"
   ]
  },
  {
   "cell_type": "markdown",
   "id": "95a33238-74d7-42ed-9fef-370c54459e13",
   "metadata": {},
   "source": [
    "**Ejemplo**. En una loteria, el usuario puede escoger seis números entre 1, 2, ..., 44.\n",
    "\n",
    "* Si el usuario NO puede  seleccionar un número dos veces, entonces los primeros dos números pueden ser seleccionados en $44 \\times 43 = 1,892$ formas diferentes (**Conteo SIN reemplazo**).\n",
    "\n",
    "* Si el usuario SI puede  seleccionar un número dos veces, entonces los primeros dos números pueden ser seleccionados en $44 \\times 44 = 1,936$ formas diferentes (**Conteo CON reemplazo**)."
   ]
  },
  {
   "cell_type": "markdown",
   "id": "668b3bac-7756-49dc-ba26-23afcb30ea26",
   "metadata": {},
   "source": [
    "---"
   ]
  },
  {
   "cell_type": "markdown",
   "id": "7b99c09b-ca52-4625-8383-0ac599b7ae6d",
   "metadata": {},
   "source": [
    "* Considere una loteria en que el usuario debe seleccioar seis (6) números entre 1, 2, ..., 44. En el **conteo ordenado sin reemplazo** el orden de los numeros SI importa, es decir, los resultados\n",
    "$$ \n",
    "\\text{1} \\quad \\text{33} \\quad \\text{7} \\quad \\text{26} \\quad \\text{11} \\quad \\text{9}\n",
    "$$     \n",
    "y\n",
    "$$\n",
    "\\text{33} \\quad \\text{1} \\quad \\text{7} \\quad \\text{26} \\quad \\text{11} \\quad \\text{9}\n",
    "$$     \n",
    "son resultados diferentes. En este caso, el número total de tickets es de\n",
    "$$\n",
    "44 \\times 43 \\times 42 \\times 41 \\times 40 \\times 39 = \\frac{44!}{38!} = 5,082,517,440\n",
    "$$\n",
    "\n"
   ]
  },
  {
   "cell_type": "markdown",
   "id": "6920ad21-c107-4b9e-b100-4877790a18a2",
   "metadata": {},
   "source": [
    "* En el **conteo ordenado con reemplazo**, el número total de tickets es:\n",
    "$$\n",
    "44 \\times 44 \\times 44 \\times 44 \\times 44 \\times 44 = 44^6 = 7,256,313,856\n",
    "$$"
   ]
  },
  {
   "cell_type": "markdown",
   "id": "f83a0638-096a-43c6-925c-158b2984df9c",
   "metadata": {},
   "source": [
    "* En el **conteo no ordenado sin reemplazo**, el denominador se obtiene al considerar cuantas secuencias se pueden armar con seis números diferentes.\n",
    "$$\n",
    "\\frac{44 \\times 43 \\times 42 \\times 41 \\times 40 \\times 39}\n",
    "{6 \\times 5 \\times 4 \\times 3 \\times 2 \\times 1} = \\frac{44!}{6! \\times 38!} = \n",
    "\\binom{44}{6} =\n",
    "7,059,052\n",
    "$$\n",
    "con:\n",
    "$$\n",
    "\\binom{n}{r} = \\frac{n!}{r! \\times (n-r)!}\n",
    "$$"
   ]
  },
  {
   "cell_type": "markdown",
   "id": "9a590384-96c9-4741-94fd-3c78c116f62c",
   "metadata": {},
   "source": [
    "* En el **conteo no ordenado con reemplazo**, el cálculo seria:\n",
    "$$\n",
    "\\binom{n+r-1}{r}\n",
    "$$"
   ]
  },
  {
   "cell_type": "markdown",
   "id": "ffd51296-8085-4c9c-bf1d-62159411a594",
   "metadata": {},
   "source": [
    "---"
   ]
  },
  {
   "cell_type": "markdown",
   "id": "51bd7e8e-520b-497f-b000-491fbb811f75",
   "metadata": {},
   "source": [
    "**Ejercicio.** Considere una baraja inglesa que contiene las siguientes cartas\n",
    "\n",
    "\n",
    "    A  2  3  4  5  6  7  8  9  10  J  Q  K\n",
    "    \n",
    "para cada uno de los cuatro palos:\n",
    "\n",
    "* Picas (o espadas).\n",
    "\n",
    "* Corazones (o copas).\n",
    "\n",
    "* Rombos (o diamantes, oros o cocos).\n",
    "\n",
    "* Tréboles (o flores o bastos).\n",
    "\n",
    "Es decir, 52 cartas en total. Si se realiza un juego con manos de cinco cartas, responda las siguientes preguntas:"
   ]
  },
  {
   "cell_type": "markdown",
   "id": "b1742411-f830-4883-a5b6-bb8d84fd5753",
   "metadata": {},
   "source": [
    "* Cuántas manos diferentes hay?\n",
    "\n",
    "* Cuál es la probabilidad de obtener cuatro aces?\n",
    "\n",
    "* Cuál es la probbilidad de obtener cuatro cartas del mismo palo?\n",
    "\n",
    "* Cuál es la probabilidad de obtener exactamente un par?"
   ]
  },
  {
   "cell_type": "markdown",
   "id": "c8f7ca39-efe6-40ec-808a-a43dbce7c769",
   "metadata": {},
   "source": [
    "---"
   ]
  }
 ],
 "metadata": {
  "kernelspec": {
   "display_name": "Python 3 (ipykernel)",
   "language": "python",
   "name": "python3"
  },
  "language_info": {
   "codemirror_mode": {
    "name": "ipython",
    "version": 3
   },
   "file_extension": ".py",
   "mimetype": "text/x-python",
   "name": "python",
   "nbconvert_exporter": "python",
   "pygments_lexer": "ipython3",
   "version": "3.9.6"
  }
 },
 "nbformat": 4,
 "nbformat_minor": 5
}
