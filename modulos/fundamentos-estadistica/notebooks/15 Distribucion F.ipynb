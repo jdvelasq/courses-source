{
 "cells": [
  {
   "cell_type": "markdown",
   "id": "2743c188-0aa0-430f-8f76-6c3d4887e27c",
   "metadata": {},
   "source": [
    "Distribución F\n",
    "==="
   ]
  },
  {
   "cell_type": "markdown",
   "id": "6dc9c5c8-c8a3-49ef-b363-0b90f1776970",
   "metadata": {},
   "source": [
    "* En términos generales, un problema comun es probar multiples tratamientos sobre grupos, por ejemplo, diferentes fertilizantes sobre diferentes parcelas de un campo con el fin de determinar si hay una diferencia estadisticamente significativa entre ellos."
   ]
  },
  {
   "cell_type": "markdown",
   "id": "edb12f3f-d458-4117-859a-0141a9d665a1",
   "metadata": {},
   "source": [
    "* En términos de ML, se desearía poder establecer la relevancia del impacto que tiene una variable continua $x_i$ sobre una variable dependiente continua $y$."
   ]
  },
  {
   "cell_type": "markdown",
   "id": "14674656-5913-4ef0-8ff2-0bac907c9d2c",
   "metadata": {},
   "source": [
    "* En esta prueba, se desea establecer cual impacto es mayor que el esperado bajo una variación aleatoria normal."
   ]
  },
  {
   "cell_type": "markdown",
   "id": "45d3cd57-c7fc-44e7-9437-fd608ae71a68",
   "metadata": {},
   "source": [
    "* Los puntos anteriores definen el razonamiento en que se basa la prueba F."
   ]
  },
  {
   "cell_type": "markdown",
   "id": "bf10f112-d71a-4e25-9069-67e513ea7b9e",
   "metadata": {},
   "source": [
    "* Formalmente, esta distribución es definida de la siguiente forma: Sean $x_i, y_j \\sim \\text{N}(0, 1)$, para $i=1,..., n$ y $j=1,...,m$, entonces:\n",
    "$$\n",
    "F = \\frac{\\sum_{i=1}^n x_i^2 / n}{\\sum_{j=1}^m y_i^2} \\sim F_{n,m}\n",
    "$$"
   ]
  }
 ],
 "metadata": {
  "kernelspec": {
   "display_name": "Python 3 (ipykernel)",
   "language": "python",
   "name": "python3"
  },
  "language_info": {
   "codemirror_mode": {
    "name": "ipython",
    "version": 3
   },
   "file_extension": ".py",
   "mimetype": "text/x-python",
   "name": "python",
   "nbconvert_exporter": "python",
   "pygments_lexer": "ipython3",
   "version": "3.9.6"
  }
 },
 "nbformat": 4,
 "nbformat_minor": 5
}
