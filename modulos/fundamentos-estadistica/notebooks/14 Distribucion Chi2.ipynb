{
 "cells": [
  {
   "cell_type": "markdown",
   "id": "9b0dc58d-5e70-47f6-9c3a-01585fbce969",
   "metadata": {},
   "source": [
    "Distribución Chi-cuadrada\n",
    "==="
   ]
  },
  {
   "cell_type": "markdown",
   "id": "ecbb38b6-0d01-4078-b8fc-abae26a01b65",
   "metadata": {},
   "source": [
    "* Esta distribución se obtiene al considerar la distribución de probabilidades que sigue la suma de $n$ variables aleatorias normales estandar."
   ]
  },
  {
   "cell_type": "markdown",
   "id": "89cf4c81-a4a2-4365-a606-625a264accc4",
   "metadata": {},
   "source": [
    "* Formalmente, se define así: Sea $z_i \\sim \\text{N}(0, 1)$, para $i=1,..., n$, entonces:\n",
    "$$\n",
    "z_1^2 + z_2^2 + \\ldots + z_n^2 \\sim \\chi_n^2\n",
    "$$"
   ]
  },
  {
   "cell_type": "markdown",
   "id": "56b4ddde-f4bb-4380-b7d4-978003db0711",
   "metadata": {},
   "source": [
    "* De esta distribución se deriva la prueba chi2, que se usa para: \n",
    "\n",
    "  * Medir la bondad de ajuste de los datos a una distribución teórica.\n",
    "  \n",
    "  * Medir la independencia de dos criterios de clasificación sobre datos cualitativos.\n",
    "  \n",
    "  * La estimación de intervalos de confianza de la desviación estándar de una distribución normal obtenida de una muestra."
   ]
  },
  {
   "cell_type": "markdown",
   "id": "114c543d-a04d-40a1-bc48-7a48c185ab70",
   "metadata": {},
   "source": [
    "* "
   ]
  }
 ],
 "metadata": {
  "kernelspec": {
   "display_name": "Python 3 (ipykernel)",
   "language": "python",
   "name": "python3"
  },
  "language_info": {
   "codemirror_mode": {
    "name": "ipython",
    "version": 3
   },
   "file_extension": ".py",
   "mimetype": "text/x-python",
   "name": "python",
   "nbconvert_exporter": "python",
   "pygments_lexer": "ipython3",
   "version": "3.9.6"
  }
 },
 "nbformat": 4,
 "nbformat_minor": 5
}
