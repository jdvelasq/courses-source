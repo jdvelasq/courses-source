{
 "cells": [
  {
   "cell_type": "markdown",
   "metadata": {},
   "source": [
    "Concepto de probabilidad ---\n",
    "===\n",
    "\n",
    "* 0:00 min | Ultima modificación: Octubre 15, 2021 | [YouTube]"
   ]
  },
  {
   "cell_type": "code",
   "execution_count": null,
   "metadata": {},
   "outputs": [],
   "source": []
  },
  {
   "cell_type": "code",
   "execution_count": null,
   "metadata": {},
   "outputs": [],
   "source": []
  },
  {
   "cell_type": "code",
   "execution_count": null,
   "metadata": {},
   "outputs": [],
   "source": []
  },
  {
   "cell_type": "markdown",
   "metadata": {},
   "source": [
    "Cuantil\n",
    "---"
   ]
  },
  {
   "cell_type": "markdown",
   "metadata": {},
   "source": [
    "Matriz de confusión\n",
    "---"
   ]
  },
  {
   "cell_type": "markdown",
   "metadata": {},
   "source": [
    "La matriz de confusión es una matriz que permite visualizar el desempeño de un clasificador. La organización típica es la presentada a continuación:"
   ]
  },
  {
   "cell_type": "markdown",
   "metadata": {},
   "source": [
    "             | Pronóstico\n",
    "             |  PP    PN\n",
    "    ---------|------------\n",
    "          P  |  TP    FN \n",
    "    Real     |\n",
    "          N  |  FP    TN                        \n",
    "    \n",
    "    \n",
    "     P - Positive                 TP - Verdadero positivo (correcto)\n",
    "     N - Negative                 TN - Verdadero negativo (correcto)\n",
    "    PP - Predicted Positive       FN - Falso negativo (mal clasificado)\n",
    "    PN - Predicted Negative       FP - Falso positivo (mal clasificado)    "
   ]
  },
  {
   "cell_type": "markdown",
   "metadata": {},
   "source": [
    "Considere la siguiente notación para los casos presentados:\n",
    "\n",
    "* $+$ y $-$ son los eventos de que el pronóstico sea positivo o negativo respectivamente.\n",
    "\n",
    "* $D$ y $D^c$ son los eventos reales positivos o negativos respectivamente."
   ]
  },
  {
   "cell_type": "markdown",
   "metadata": {},
   "source": [
    "Métricas derivadas de la matriz de confusión\n",
    "---"
   ]
  },
  {
   "cell_type": "markdown",
   "metadata": {},
   "source": [
    "**Sensitivity/recall/hit rate/true positive rate**: Es la probabilidad de que el pronóstico sea positivo dado que el valor real es positivo:\n",
    "\n",
    "$$\n",
    "\\text{Pr}(+ \\; | \\; D) = \\frac{\\text{TP}}{\\text{P}}  = \\frac{\\text{TP}}{\\text{TP}+\\text{FN}}\n",
    "$$"
   ]
  },
  {
   "cell_type": "markdown",
   "metadata": {},
   "source": [
    "**Specificity/selectivity/true negative rate** Es la probabilidad de que el pronóstico sea negativo dada que el valor real es negativo:\n",
    "\n",
    "$$\n",
    "\\text{Pr}(- \\; | \\; D^c) = \\frac{\\text{TN}}{\\text{N}}  = \\frac{\\text{TN}}{\\text{FP}+\\text{TN}}\n",
    "$$"
   ]
  },
  {
   "cell_type": "markdown",
   "metadata": {},
   "source": [
    "**Positive predictive value**: Es la probabilidad de que el valor real sea positivo dado que el pronóstico es positivo:\n",
    "\n",
    "$$\n",
    "\\text{Pr}(D \\; | \\; +) = \\frac{\\text{TP}}{\\text{PP}}  = \\frac{\\text{TP}}{\\text{TP}+\\text{FP}}\n",
    "$$"
   ]
  },
  {
   "cell_type": "markdown",
   "metadata": {},
   "source": [
    "**Negative predictive value**: Es la probabilidad de que el valor real sea negativo cuando el pronóstico es negativo:\n",
    "\n",
    "$$\n",
    "\\text{Pr}(D^c \\; | \\; -) = \\frac{\\text{TN}}{\\text{PN}}  = \\frac{\\text{TN}}{\\text{FN}+\\text{TN}}\n",
    "$$"
   ]
  },
  {
   "cell_type": "markdown",
   "metadata": {},
   "source": [
    "**Prevalencia** Es la probabilidad de $P$."
   ]
  },
  {
   "cell_type": "markdown",
   "metadata": {},
   "source": [
    "Radios de verosimilitud y su interpretación\n",
    "---"
   ]
  },
  {
   "cell_type": "markdown",
   "metadata": {},
   "source": [
    "**Radio de verosimilitud de un resultado positivo**\n",
    "\n",
    "$$\n",
    "\\text{DLR}_+ = \n",
    "\\frac{\\text{Pr}(+ \\; | \\; D)}\n",
    "{\\text{Pr}(+ \\; | \\; D^c)} = \n",
    "\\frac{\\text{sensitivity}}{1 - \\text{especifity}}\n",
    "$$\n",
    "\n",
    "Cuantas veces es más probable que se pronostique + si efectivamente es D respecto a no D."
   ]
  },
  {
   "cell_type": "markdown",
   "metadata": {},
   "source": [
    "**Radio de verosimilitud de un resultado negativo**\n",
    "\n",
    "$$\n",
    "\\text{DLR}_- = \n",
    "\\frac{\\text{Pr}(- \\; | \\; D)}\n",
    "{\\text{Pr}(- \\; | \\; D^c)} = \n",
    "\\frac{1 - \\text{sensitivity}}{\\text{especifity}}\n",
    "$$"
   ]
  },
  {
   "cell_type": "markdown",
   "metadata": {},
   "source": [
    "Se interpreta como la relación entre probabilidades."
   ]
  },
  {
   "cell_type": "markdown",
   "metadata": {},
   "source": [
    "El $\\alpha$-ésimo cuantil de una distribución $F$ es el punto $x_\\alpha$ tal que:\n",
    "\n",
    "$$\n",
    "F(x_\\alpha) = \\alpha\n",
    "$$"
   ]
  }
 ],
 "metadata": {
  "kernel_info": {
   "name": "python3"
  },
  "kernelspec": {
   "display_name": "Python 3 (ipykernel)",
   "language": "python",
   "name": "python3"
  },
  "language_info": {
   "codemirror_mode": {
    "name": "ipython",
    "version": 3
   },
   "file_extension": ".py",
   "mimetype": "text/x-python",
   "name": "python",
   "nbconvert_exporter": "python",
   "pygments_lexer": "ipython3",
   "version": "3.9.6"
  },
  "nteract": {
   "version": "0.7.1"
  },
  "varInspector": {
   "cols": {
    "lenName": 16,
    "lenType": 16,
    "lenVar": 40
   },
   "kernels_config": {
    "python": {
     "delete_cmd_postfix": "",
     "delete_cmd_prefix": "del ",
     "library": "var_list.py",
     "varRefreshCmd": "print(var_dic_list())"
    },
    "r": {
     "delete_cmd_postfix": ") ",
     "delete_cmd_prefix": "rm(",
     "library": "var_list.r",
     "varRefreshCmd": "cat(var_dic_list()) "
    }
   },
   "types_to_exclude": [
    "module",
    "function",
    "builtin_function_or_method",
    "instance",
    "_Feature"
   ],
   "window_display": false
  }
 },
 "nbformat": 4,
 "nbformat_minor": 4
}
