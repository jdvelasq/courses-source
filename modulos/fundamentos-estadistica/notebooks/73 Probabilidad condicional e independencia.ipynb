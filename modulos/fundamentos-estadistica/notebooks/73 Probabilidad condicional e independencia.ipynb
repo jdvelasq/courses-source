{
 "cells": [
  {
   "cell_type": "markdown",
   "id": "8f7ae3b1-920b-4bb1-8aa4-31bba2e3d636",
   "metadata": {},
   "source": [
    "Probabilidad condiconal e independencia\n",
    "==="
   ]
  },
  {
   "cell_type": "markdown",
   "id": "0c0e222b-87e9-47e5-bce3-7243fcf1bd7c",
   "metadata": {
    "jp-MarkdownHeadingCollapsed": true,
    "slideshow": {
     "slide_type": "slide"
    },
    "tags": []
   },
   "source": [
    "### Probabilidad conjunta\n",
    "\n",
    "Los eventos considerados ocurren simultáneamente. En la siguiente figura, los eventos F1 y V2 ocurren simultáneamente (área sombreada de la figura), tal que su probabilidad conjunta es:\n",
    "\n",
    "$$\\text{Pr}(F1~\\text{and}~V2)$$\n",
    "\n",
    "![assets/probabilidad-conjunta-3.jpg](assets/probabilidad-conjunta-3.jpg)\n"
   ]
  },
  {
   "cell_type": "markdown",
   "id": "91c4d601-c8e1-48f6-8a25-d8ab2457256c",
   "metadata": {
    "slideshow": {
     "slide_type": "fragment"
    }
   },
   "source": [
    "### Probabilidad condicional\n",
    "\n",
    "Es la probabilidad de que ocurra un evento sabiendo que el otro ya ocurrio. En la siguiente figura el evento V2 es condicionar a la ocurrencia F1. Noté que en la siguiente figura, el universo no es el rectángulo anterior que cubre todos los eventos, si no el evento F1. De esta forma, la probabilidad condicional es sólo la proporción de V2 que se intercepta con F1, la cual corresponde a la porción sombreada de la figura de abajo. La siguiente expresión matemática permite calcular la probabilidad condicional en términos de la probabilidad conjunta.\n",
    "\n",
    "$$\\text{Pr}(V2 \\; | \\; F1) = \\text{Pr}(F1 \\; \\text{and} \\; V2) \\; / \\; \\text{Pr}(F1)$$\n",
    "\n",
    "En otras palabras, \n",
    "\n",
    "$$\\text{Pr}(A \\; | \\; B) * \\text{Pr}(B) = \\text{Pr}(A \\; \\text{and} \\; B)$$\n",
    "\n",
    "para dos eventos A y B.\n",
    "\n",
    "![assets/probabilidad-condicional.jpg](assets/probabilidad-condicional.jpg)\n"
   ]
  },
  {
   "cell_type": "markdown",
   "id": "5e0ee409-b3c2-4ee3-88a8-3f384a5cecaa",
   "metadata": {
    "slideshow": {
     "slide_type": "slide"
    }
   },
   "source": [
    "### Independencia\n",
    "\n",
    "Si los eventos $A$ y $B$ son independientes, la probabilidad condicional del evento A dado que ocurrio el evento B es igual a la probabilidad del evento A:\n",
    "\n",
    "$$\\text{Pr}(A \\; |  \\; B) = \\text{Pr}(A)$$\n",
    "\n",
    "De la definición de probabilidad condicional:\n",
    "\n",
    "$$\\text{Pr}(A  \\; |  \\; B) = \\text{Pr}(A) = \\frac{\\text{Pr}(A\\text{ and }B)}{\\text{Pr}(B)}$$\n",
    "\n",
    "Entonces:\n",
    "\n",
    "$$\\text{Pr}(A\\text{ and } B) \\; =  \\; \\text{Pr}(A) \\; * \\; \\text{Pr}(B)$$ "
   ]
  },
  {
   "cell_type": "markdown",
   "id": "2fdc92e9-eb5e-48cd-b922-9f0351f9809c",
   "metadata": {
    "slideshow": {
     "slide_type": "slide"
    }
   },
   "source": [
    "### Probabilidad marginal \n",
    "\n",
    "Sea $X_1$ con $i = 1, ... , n$ , un conjunto de eventos mutuamente exclusivos y colectivamente exhaustivos. La probabilidad de un evento $A$ es:\n",
    "\n",
    "$$\\text{Pr}(A) = \\sum_{i=1}^n \\text{Pr}(A\\text{ and }X_i)$$\n",
    "\n",
    "En la siguiente figura se puede observar que para cualquiera de los tres eventos $F_j$ (para $j=1,2,3$)\n",
    "\n",
    "$$\\text{Pr}(F_j) = \\text{Pr}(F_j\\text{ and }V_1) + \\text{Pr}(F_j\\text{ and }V_2)$$\n",
    "\n",
    "y que para los dos eventos $V_i$ ($i=1,2$):\n",
    "\n",
    "$$\\text{Pr}(V_i) = \\text{Pr}(V_i\\text{ and }F_1) + \\text{Pr}(V_i\\text{ and }F_2) + \\text{Pr}(V_i\\text{ and }F_3)$$"
   ]
  },
  {
   "cell_type": "markdown",
   "id": "4e816270-652f-4968-9b0b-e3e2d5306dca",
   "metadata": {
    "slideshow": {
     "slide_type": "slide"
    }
   },
   "source": [
    "![assets/eventos-conjuntos.jpg](assets/eventos-conjuntos.jpg)"
   ]
  },
  {
   "cell_type": "markdown",
   "id": "3e58dcdc-5a4e-4af1-8c8b-79a00e5cb922",
   "metadata": {
    "slideshow": {
     "slide_type": "slide"
    }
   },
   "source": [
    "### Unión (OR)\n",
    "\n",
    "Para dos eventos $A$ y $B$:\n",
    "\n",
    "$$\\text{Pr}(A \\text{ or } B) = \\text{Pr}(A) + \\text{Pr}(B) - \\text{Pr}(A\\text{ and }B)$$\n",
    "\n",
    "En la figura de abajo se observa que al unir las regiones de los eventos F1 y V2, las áreas se traslapan y por tanto hay que restar la intersección.\n",
    "\n",
    "![assets/probabilidad-conjunta.jpg](assets/probabilidad-conjunta-3.jpg)\n"
   ]
  },
  {
   "cell_type": "markdown",
   "id": "ea44a9d2-2da3-4f5b-b771-a60ae980e0c6",
   "metadata": {
    "slideshow": {
     "slide_type": "slide"
    }
   },
   "source": [
    "### Complemento o negación\n",
    "\n",
    "$$\\text{Pr}(\\text{not } A) = 1 - \\text{Pr}(A)$$"
   ]
  },
  {
   "cell_type": "markdown",
   "id": "643b6d30-94ce-48e7-a7af-b624d221e47a",
   "metadata": {
    "slideshow": {
     "slide_type": "fragment"
    }
   },
   "source": [
    "### Probabilidad total\n",
    "\n",
    "La probabilidad total indica que la probabilidad de un evento A puede calcularse como la probabilidad de que ocurran los eventos A y B simultáneamente más la probabilidad de que ocurran los evento A y *not* B (el complemento de B:\n",
    "\n",
    "$$\\text{Pr}(A) = \\text{Pr}(A\\text{ and } B) + \\text{Pr}(A\\text{ and } \\text{not }B) $$ "
   ]
  },
  {
   "cell_type": "markdown",
   "id": "6a084b10-3f3d-4be4-aa81-7ddcda125a4a",
   "metadata": {},
   "source": [
    "Para la siguiente figura: \n",
    "\n",
    "$$\n",
    "\\begin{split}\n",
    "\\text{Pr}(V_2) \n",
    "    & = \\text{Pr}(V_2 \\text{ and } F_1) + \\text{Pr}(V_2 \\text{ and not } F_1) \\\\ \\\\\n",
    "    & = \\text{Pr}(V_2 \\text{ and } F_1) + \\text{Pr}(V_2 \\text{ and } (F_2 \\cup F_3)) \\\\ \\\\\n",
    "\\end{split}\n",
    "$$"
   ]
  },
  {
   "cell_type": "markdown",
   "id": "f9ee6855-e3ee-4c79-9413-185aba603d4b",
   "metadata": {
    "slideshow": {
     "slide_type": "slide"
    }
   },
   "source": [
    "![assets/eventos-conjuntos.jpg](assets/eventos-conjuntos.jpg)"
   ]
  },
  {
   "cell_type": "markdown",
   "id": "480e4650-f7b0-4b65-a1df-8e6671ce240f",
   "metadata": {
    "slideshow": {
     "slide_type": "fragment"
    }
   },
   "source": [
    "La ecuación anterior puede expresarse en términos de probabilidades condicionales, tal que:\n",
    "\n",
    "$$\\text{Pr}(A) = \\text{Pr}(A \\; | \\; B) \\; \\text{Pr}(B)  \\; + \\;  \\text{Pr}(A \\; | \\; \\text{not }B)\\text{ Pr}(\\text{not }B)$$"
   ]
  },
  {
   "cell_type": "markdown",
   "id": "a5ec515e-54e2-4c37-9ad8-9aef9629912f",
   "metadata": {
    "slideshow": {
     "slide_type": "slide"
    }
   },
   "source": [
    "### Teorema de Bayes\n",
    "\n",
    "A partir de \n",
    "\n",
    "$$\\text{Pr}(A  \\; |  \\; B) = \\frac{\\text{Pr}(A\\text{ and }B)}{\\text{Pr}(B)},  \n",
    "\\quad \n",
    "\\text{Pr}(B  \\; |  \\; A) = \\frac{\\text{Pr}(A\\text{ and }B)}{\\text{Pr}(A)} $$\n",
    "\n",
    "Se obtiene que:\n",
    "\n",
    "$$\\text{Pr}(A \\; | \\; B)\\text{ Pr}({B}) =  \\text{Pr}(B \\; | \\; A) \\; \\text{Pr}({A})$$\n",
    "\n",
    "Despejando $\\text{Pr}(B \\; | \\; A)$,\n",
    "\n",
    "$$\\text{Pr}(B \\; | \\; A) = \n",
    "    \\frac{\\text{Pr}(A \\; | \\; B) \\; \\text{Pr}(B)}{\\text{Pr}(A)} = \n",
    "    \\frac{\\text{Pr}(A \\; | \\; B)~\\text{Pr}(B)} {\\text{Pr}(A \\; | \\; B) \\; \\text{Pr}(B)  \\; + \\;  \\text{Pr}(A \\; | \\; \\text{not }B) \\; \\text{Pr}(\\text{not }B)}$$\n",
    "    \n",
    "En la última ecuación, se aplica el teorema de probabilidad total para el evento A."
   ]
  },
  {
   "cell_type": "markdown",
   "id": "34636948-e91f-4542-a15f-4bd45cae6c73",
   "metadata": {
    "slideshow": {
     "slide_type": "slide"
    }
   },
   "source": [
    "**Actividad.---** Complete las siguientes tablas de probabilidades:\n",
    "\n",
    "\n",
    "*Probabilidades totales*:\n",
    "\n",
    "\n",
    "               F1    F2    F3  Prob(V)\n",
    "     ----------------------------------\n",
    "         V1   0.10     ?  0.03       ?\n",
    "         V2      ?  0.26  0.14    0.62\n",
    "     ----------------------------------\n",
    "      Prob(F)    ?     ?     ?        \n",
    "    \n",
    "    \n",
    "*Probabilidades condicionales*:\n",
    "\n",
    "    Prob(F|V)                 Prob(V|F)\n",
    "\n",
    "            F1    F2    F3            F1    F2    F3  \n",
    "    ----------------------    ----------------------\n",
    "      V1 10/38     ?     ?      V1     ? 25/51     ?        \n",
    "      V2     ?     ? 14/62      V2     ?     ?     ?  \n",
    "      "
   ]
  },
  {
   "cell_type": "markdown",
   "id": "b33045c9-4e15-4e28-9f12-b08f8f196dae",
   "metadata": {
    "slideshow": {
     "slide_type": "slide"
    }
   },
   "source": [
    "**Actividad.---** Verifique las dos tablas de probabilidades condicionales calculadas en el ejercicio anterior usando el teorema de Bayes (es decir, calcule `Prob(V|F)` a partir de `Prob(F|V)` y viceversa)."
   ]
  }
 ],
 "metadata": {
  "kernelspec": {
   "display_name": "Python 3 (ipykernel)",
   "language": "python",
   "name": "python3"
  },
  "language_info": {
   "codemirror_mode": {
    "name": "ipython",
    "version": 3
   },
   "file_extension": ".py",
   "mimetype": "text/x-python",
   "name": "python",
   "nbconvert_exporter": "python",
   "pygments_lexer": "ipython3",
   "version": "3.9.6"
  }
 },
 "nbformat": 4,
 "nbformat_minor": 5
}
