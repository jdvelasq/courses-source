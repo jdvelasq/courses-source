{
 "cells": [
  {
   "cell_type": "markdown",
   "id": "4f2cc240-e44c-426b-86ea-a001a26107c2",
   "metadata": {},
   "source": [
    "Distribución de Bernoulli\n",
    "==="
   ]
  },
  {
   "cell_type": "markdown",
   "id": "f6ae0ebe-5b47-4cbd-92bf-8f2a84001213",
   "metadata": {},
   "source": [
    "* En esta distribución se tiene un experiemento en el cual hay dos y solo dos resultados posibles que tienen probabilidades $p$ y $1-p$ respectivamente. "
   ]
  },
  {
   "cell_type": "markdown",
   "id": "4cb57b4d-20b7-422f-b6bd-98bf371b7213",
   "metadata": {},
   "source": [
    "* Permite representar decisiones fundamentales como comprar/no comprar, click/no click, sobrevivir/morir, etc."
   ]
  },
  {
   "cell_type": "markdown",
   "id": "34e2ce86-1021-4638-9e0a-5e403ef80c71",
   "metadata": {},
   "source": [
    "* Una variable aleatoria $X$ sigue una distribución de Bernoulli de orden $p$ si:\n",
    "$$ \n",
    "X =   \n",
    "\\begin{cases}\n",
    "1, & \\text{con probabilidad $p$} \\\\\n",
    "0, &\\text{con probabilidad $1-p$}\n",
    "\\end{cases}\n",
    "$$\n",
    "con:\n",
    "$$\n",
    "\\text{E}(X) = 1p + 0(1-p)=p\n",
    "$$\n",
    "y\n",
    "$$\n",
    "\\text{Var}(X) = (1-p)^2p + (0-p)^2(1-p)=p(1-p)\n",
    "$$"
   ]
  },
  {
   "cell_type": "code",
   "execution_count": 1,
   "id": "cd9c1890-9014-44f7-b844-d18a05c0c698",
   "metadata": {
    "tags": []
   },
   "outputs": [
    {
     "data": {
      "text/plain": [
       "array([0.12696983, 0.96671784, 0.26047601, 0.89723652, 0.37674972])"
      ]
     },
     "metadata": {},
     "output_type": "display_data"
    },
    {
     "data": {
      "text/plain": [
       "array([ True, False,  True, False,  True])"
      ]
     },
     "metadata": {},
     "output_type": "display_data"
    }
   ],
   "source": [
    "import numpy as np\n",
    "#\n",
    "# Simulación de 5 tiradas de una moneda\n",
    "#\n",
    "np.random.seed(123456)\n",
    "\n",
    "random_numbers = np.random.random(size=5)\n",
    "display(random_numbers)\n",
    "heads = random_numbers < 0.5\n",
    "display(heads)"
   ]
  }
 ],
 "metadata": {
  "kernelspec": {
   "display_name": "Python 3 (ipykernel)",
   "language": "python",
   "name": "python3"
  },
  "language_info": {
   "codemirror_mode": {
    "name": "ipython",
    "version": 3
   },
   "file_extension": ".py",
   "mimetype": "text/x-python",
   "name": "python",
   "nbconvert_exporter": "python",
   "pygments_lexer": "ipython3",
   "version": "3.9.6"
  }
 },
 "nbformat": 4,
 "nbformat_minor": 5
}
