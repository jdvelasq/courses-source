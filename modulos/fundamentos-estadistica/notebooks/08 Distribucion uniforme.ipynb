{
 "cells": [
  {
   "cell_type": "markdown",
   "id": "72be0ce8-0a47-44f4-861b-cd0e032125ec",
   "metadata": {
    "jp-MarkdownHeadingCollapsed": true,
    "tags": []
   },
   "source": [
    "### Distribución Uniforme Discreta\n",
    "\n",
    "Una variable aletoria $X$ tiene una [distribución discreta uniforme](https://es.wikipedia.org/wiki/Distribución_uniforme_discreta) (1, $N$) si:\n",
    "\n",
    "$$\\text{Pr}(X=x|N) = \\frac{1}{N}, \\quad x=1,...,N$$\n",
    "\n",
    "donde $N$ es un entero.\n",
    "\n",
    "$$\\text{E}(X) = \\frac{N+1}{2}$$\n",
    "\n",
    "$$\\text{Var}(X) = \\frac{(N+1)(N-1)}{12}$$"
   ]
  }
 ],
 "metadata": {
  "kernelspec": {
   "display_name": "Python 3 (ipykernel)",
   "language": "python",
   "name": "python3"
  },
  "language_info": {
   "codemirror_mode": {
    "name": "ipython",
    "version": 3
   },
   "file_extension": ".py",
   "mimetype": "text/x-python",
   "name": "python",
   "nbconvert_exporter": "python",
   "pygments_lexer": "ipython3",
   "version": "3.9.6"
  }
 },
 "nbformat": 4,
 "nbformat_minor": 5
}
