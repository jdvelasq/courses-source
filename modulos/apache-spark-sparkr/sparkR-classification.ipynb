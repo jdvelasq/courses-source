{
 "cells": [
  {
   "cell_type": "markdown",
   "metadata": {},
   "source": [
    "Diagnóstico del cáncer de mama usando sparkR\n",
    "===\n",
    "\n",
    "* *30 min* | Última modificación: Junio 22, 2019"
   ]
  },
  {
   "cell_type": "markdown",
   "metadata": {},
   "source": [
    "En este documento se ilustra la construcción de modelos de clasificación usando SparkR. El tutorial está centrado en el uso del lenguaje y se supone suficiencia del lector en el uso e interpretación de algoritmos de clasificación. "
   ]
  },
  {
   "cell_type": "markdown",
   "metadata": {},
   "source": [
    "## Definición del problema"
   ]
  },
  {
   "cell_type": "markdown",
   "metadata": {},
   "source": [
    "Se desea determinar si una masa mamaria es un tumor benigno o maligno, a partir de las medidas obtenidas de imágenes digitalizadas de la aspiración con una aguja fina. Los valores representan las características de los núcleos celulares presentes en la imagen digital. "
   ]
  },
  {
   "cell_type": "markdown",
   "metadata": {},
   "source": [
    "Se tiene una muestra de 569 ejemplos de resultados de las biopsias. Cada registro contiene 32 variables, las cuales corresponden a tres medidas (media, desviación estándar, peor caso) de diez características diferentes (radius, texture, ...).\n",
    "\n",
    "* Identification number\n",
    "* Cancer diagnosis (\"M\" para maligno y \"B\" para benigno)\n",
    "* Radius\n",
    "* Texture\n",
    "* Perimeter\n",
    "* Area\n",
    "* Smoothness\n",
    "* Compactness\n",
    "* Concavity\n",
    "* Concave points\n",
    "* Symmetry\n",
    "* Fractal dimension\n",
    "\n",
    "En términos de los datos, se desea pronosticar si una masa es benigna o maligna (clase B o M) a partir de las 30 variables.\n",
    "\n",
    "Fuente de los datos: https://archive.ics.uci.edu/ml/datasets/Breast+Cancer+Wisconsin+(Diagnostic)"
   ]
  },
  {
   "cell_type": "markdown",
   "metadata": {},
   "source": [
    "## Solución"
   ]
  },
  {
   "cell_type": "code",
   "execution_count": 1,
   "metadata": {},
   "outputs": [],
   "source": [
    "##\n",
    "## Esta función se usará para ejecutar comandos en el \n",
    "## sistema operativo y capturar la salida.\n",
    "##\n",
    "systemp <- function(command) cat(system(command, intern = TRUE), sep = '\\n')"
   ]
  },
  {
   "cell_type": "code",
   "execution_count": 2,
   "metadata": {},
   "outputs": [
    {
     "name": "stderr",
     "output_type": "stream",
     "text": [
      "\n",
      "Attaching package: ‘SparkR’\n",
      "\n",
      "The following objects are masked from ‘package:stats’:\n",
      "\n",
      "    cov, filter, lag, na.omit, predict, sd, var, window\n",
      "\n",
      "The following objects are masked from ‘package:base’:\n",
      "\n",
      "    as.data.frame, colnames, colnames<-, drop, endsWith, intersect,\n",
      "    rank, rbind, sample, startsWith, subset, summary, transform, union\n",
      "\n",
      "Spark package found in SPARK_HOME: /usr/local/spark\n"
     ]
    },
    {
     "name": "stdout",
     "output_type": "stream",
     "text": [
      "Launching java with spark-submit command /usr/local/spark/bin/spark-submit   sparkr-shell /tmp/RtmpCgVAK3/backend_port12927997ee89 \n"
     ]
    },
    {
     "data": {
      "text/plain": [
       "Java ref type org.apache.spark.sql.SparkSession id 1 "
      ]
     },
     "metadata": {},
     "output_type": "display_data"
    }
   ],
   "source": [
    "##\n",
    "## Se procede a la carga de la librería\n",
    "##\n",
    "library(SparkR)\n",
    "sparkR.session(enableHiveSupport = FALSE)"
   ]
  },
  {
   "cell_type": "markdown",
   "metadata": {},
   "source": [
    "### Exploración"
   ]
  },
  {
   "cell_type": "markdown",
   "metadata": {},
   "source": [
    "Se mueve el archivo de la máquina local a sistema HDFS."
   ]
  },
  {
   "cell_type": "code",
   "execution_count": 3,
   "metadata": {},
   "outputs": [
    {
     "name": "stdout",
     "output_type": "stream",
     "text": [
      "\n"
     ]
    }
   ],
   "source": [
    "## copia el archivo al HDFS\n",
    "systemp('hdfs dfs -copyFromLocal wisc_bc_data.csv /tmp/wisc_bc_data.csv') "
   ]
  },
  {
   "cell_type": "code",
   "execution_count": 4,
   "metadata": {},
   "outputs": [
    {
     "data": {
      "text/html": [
       "<table>\n",
       "<caption>A data.frame: 6 x 32</caption>\n",
       "<thead>\n",
       "\t<tr><th scope=col>id</th><th scope=col>diagnosis</th><th scope=col>radius_mean</th><th scope=col>texture_mean</th><th scope=col>perimeter_mean</th><th scope=col>area_mean</th><th scope=col>smoothness_mean</th><th scope=col>compactness_mean</th><th scope=col>concavity_mean</th><th scope=col>concave_points_mean</th><th scope=col>...</th><th scope=col>radius_worst</th><th scope=col>texture_worst</th><th scope=col>perimeter_worst</th><th scope=col>area_worst</th><th scope=col>smoothness_worst</th><th scope=col>compactness_worst</th><th scope=col>concavity_worst</th><th scope=col>concave_points_worst</th><th scope=col>symmetry_worst</th><th scope=col>fractal_dimension_worst</th></tr>\n",
       "\t<tr><th scope=col>&lt;chr&gt;</th><th scope=col>&lt;chr&gt;</th><th scope=col>&lt;chr&gt;</th><th scope=col>&lt;chr&gt;</th><th scope=col>&lt;chr&gt;</th><th scope=col>&lt;chr&gt;</th><th scope=col>&lt;chr&gt;</th><th scope=col>&lt;chr&gt;</th><th scope=col>&lt;chr&gt;</th><th scope=col>&lt;chr&gt;</th><th scope=col>...</th><th scope=col>&lt;chr&gt;</th><th scope=col>&lt;chr&gt;</th><th scope=col>&lt;chr&gt;</th><th scope=col>&lt;chr&gt;</th><th scope=col>&lt;chr&gt;</th><th scope=col>&lt;chr&gt;</th><th scope=col>&lt;chr&gt;</th><th scope=col>&lt;chr&gt;</th><th scope=col>&lt;chr&gt;</th><th scope=col>&lt;chr&gt;</th></tr>\n",
       "</thead>\n",
       "<tbody>\n",
       "\t<tr><td>842302  </td><td>M</td><td>17.99</td><td>10.38</td><td>122.8</td><td>1001 </td><td>0.1184 </td><td>0.2776 </td><td>0.3001</td><td>0.1471 </td><td>...</td><td>25.38</td><td>17.33</td><td>184.6</td><td>2019 </td><td>0.1622</td><td>0.6656</td><td>0.7119</td><td>0.2654</td><td>0.4601</td><td>0.1189 </td></tr>\n",
       "\t<tr><td>842517  </td><td>M</td><td>20.57</td><td>17.77</td><td>132.9</td><td>1326 </td><td>0.08474</td><td>0.07864</td><td>0.0869</td><td>0.07017</td><td>...</td><td>24.99</td><td>23.41</td><td>158.8</td><td>1956 </td><td>0.1238</td><td>0.1866</td><td>0.2416</td><td>0.186 </td><td>0.275 </td><td>0.08902</td></tr>\n",
       "\t<tr><td>84300903</td><td>M</td><td>19.69</td><td>21.25</td><td>130  </td><td>1203 </td><td>0.1096 </td><td>0.1599 </td><td>0.1974</td><td>0.1279 </td><td>...</td><td>23.57</td><td>25.53</td><td>152.5</td><td>1709 </td><td>0.1444</td><td>0.4245</td><td>0.4504</td><td>0.243 </td><td>0.3613</td><td>0.08758</td></tr>\n",
       "\t<tr><td>84348301</td><td>M</td><td>11.42</td><td>20.38</td><td>77.58</td><td>386.1</td><td>0.1425 </td><td>0.2839 </td><td>0.2414</td><td>0.1052 </td><td>...</td><td>14.91</td><td>26.5 </td><td>98.87</td><td>567.7</td><td>0.2098</td><td>0.8663</td><td>0.6869</td><td>0.2575</td><td>0.6638</td><td>0.173  </td></tr>\n",
       "\t<tr><td>84358402</td><td>M</td><td>20.29</td><td>14.34</td><td>135.1</td><td>1297 </td><td>0.1003 </td><td>0.1328 </td><td>0.198 </td><td>0.1043 </td><td>...</td><td>22.54</td><td>16.67</td><td>152.2</td><td>1575 </td><td>0.1374</td><td>0.205 </td><td>0.4   </td><td>0.1625</td><td>0.2364</td><td>0.07678</td></tr>\n",
       "\t<tr><td>843786  </td><td>M</td><td>12.45</td><td>15.7 </td><td>82.57</td><td>477.1</td><td>0.1278 </td><td>0.17   </td><td>0.1578</td><td>0.08089</td><td>...</td><td>15.47</td><td>23.75</td><td>103.4</td><td>741.6</td><td>0.1791</td><td>0.5249</td><td>0.5355</td><td>0.1741</td><td>0.3985</td><td>0.1244 </td></tr>\n",
       "</tbody>\n",
       "</table>\n"
      ],
      "text/latex": [
       "A data.frame: 6 x 32\n",
       "\\begin{tabular}{r|llllllllllllllllllllllllllllllll}\n",
       " id & diagnosis & radius\\_mean & texture\\_mean & perimeter\\_mean & area\\_mean & smoothness\\_mean & compactness\\_mean & concavity\\_mean & concave\\_points\\_mean & symmetry\\_mean & fractal\\_dimension\\_mean & radius\\_se & texture\\_se & perimeter\\_se & area\\_se & smoothness\\_se & compactness\\_se & concavity\\_se & concave\\_points\\_se & symmetry\\_se & fractal\\_dimension\\_se & radius\\_worst & texture\\_worst & perimeter\\_worst & area\\_worst & smoothness\\_worst & compactness\\_worst & concavity\\_worst & concave\\_points\\_worst & symmetry\\_worst & fractal\\_dimension\\_worst\\\\\n",
       " <chr> & <chr> & <chr> & <chr> & <chr> & <chr> & <chr> & <chr> & <chr> & <chr> & <chr> & <chr> & <chr> & <chr> & <chr> & <chr> & <chr> & <chr> & <chr> & <chr> & <chr> & <chr> & <chr> & <chr> & <chr> & <chr> & <chr> & <chr> & <chr> & <chr> & <chr> & <chr>\\\\\n",
       "\\hline\n",
       "\t 842302   & M & 17.99 & 10.38 & 122.8 & 1001  & 0.1184  & 0.2776  & 0.3001 & 0.1471  & 0.2419 & 0.07871 & 1.095  & 0.9053 & 8.589 & 153.4 & 0.006399 & 0.04904 & 0.05373 & 0.01587 & 0.03003 & 0.006193 & 25.38 & 17.33 & 184.6 & 2019  & 0.1622 & 0.6656 & 0.7119 & 0.2654 & 0.4601 & 0.1189 \\\\\n",
       "\t 842517   & M & 20.57 & 17.77 & 132.9 & 1326  & 0.08474 & 0.07864 & 0.0869 & 0.07017 & 0.1812 & 0.05667 & 0.5435 & 0.7339 & 3.398 & 74.08 & 0.005225 & 0.01308 & 0.0186  & 0.0134  & 0.01389 & 0.003532 & 24.99 & 23.41 & 158.8 & 1956  & 0.1238 & 0.1866 & 0.2416 & 0.186  & 0.275  & 0.08902\\\\\n",
       "\t 84300903 & M & 19.69 & 21.25 & 130   & 1203  & 0.1096  & 0.1599  & 0.1974 & 0.1279  & 0.2069 & 0.05999 & 0.7456 & 0.7869 & 4.585 & 94.03 & 0.00615  & 0.04006 & 0.03832 & 0.02058 & 0.0225  & 0.004571 & 23.57 & 25.53 & 152.5 & 1709  & 0.1444 & 0.4245 & 0.4504 & 0.243  & 0.3613 & 0.08758\\\\\n",
       "\t 84348301 & M & 11.42 & 20.38 & 77.58 & 386.1 & 0.1425  & 0.2839  & 0.2414 & 0.1052  & 0.2597 & 0.09744 & 0.4956 & 1.156  & 3.445 & 27.23 & 0.00911  & 0.07458 & 0.05661 & 0.01867 & 0.05963 & 0.009208 & 14.91 & 26.5  & 98.87 & 567.7 & 0.2098 & 0.8663 & 0.6869 & 0.2575 & 0.6638 & 0.173  \\\\\n",
       "\t 84358402 & M & 20.29 & 14.34 & 135.1 & 1297  & 0.1003  & 0.1328  & 0.198  & 0.1043  & 0.1809 & 0.05883 & 0.7572 & 0.7813 & 5.438 & 94.44 & 0.01149  & 0.02461 & 0.05688 & 0.01885 & 0.01756 & 0.005115 & 22.54 & 16.67 & 152.2 & 1575  & 0.1374 & 0.205  & 0.4    & 0.1625 & 0.2364 & 0.07678\\\\\n",
       "\t 843786   & M & 12.45 & 15.7  & 82.57 & 477.1 & 0.1278  & 0.17    & 0.1578 & 0.08089 & 0.2087 & 0.07613 & 0.3345 & 0.8902 & 2.217 & 27.19 & 0.00751  & 0.03345 & 0.03672 & 0.01137 & 0.02165 & 0.005082 & 15.47 & 23.75 & 103.4 & 741.6 & 0.1791 & 0.5249 & 0.5355 & 0.1741 & 0.3985 & 0.1244 \\\\\n",
       "\\end{tabular}\n"
      ],
      "text/markdown": [
       "\n",
       "A data.frame: 6 x 32\n",
       "\n",
       "| id &lt;chr&gt; | diagnosis &lt;chr&gt; | radius_mean &lt;chr&gt; | texture_mean &lt;chr&gt; | perimeter_mean &lt;chr&gt; | area_mean &lt;chr&gt; | smoothness_mean &lt;chr&gt; | compactness_mean &lt;chr&gt; | concavity_mean &lt;chr&gt; | concave_points_mean &lt;chr&gt; | ... ... | radius_worst &lt;chr&gt; | texture_worst &lt;chr&gt; | perimeter_worst &lt;chr&gt; | area_worst &lt;chr&gt; | smoothness_worst &lt;chr&gt; | compactness_worst &lt;chr&gt; | concavity_worst &lt;chr&gt; | concave_points_worst &lt;chr&gt; | symmetry_worst &lt;chr&gt; | fractal_dimension_worst &lt;chr&gt; |\n",
       "|---|---|---|---|---|---|---|---|---|---|---|---|---|---|---|---|---|---|---|---|---|\n",
       "| 842302   | M | 17.99 | 10.38 | 122.8 | 1001  | 0.1184  | 0.2776  | 0.3001 | 0.1471  | ... | 25.38 | 17.33 | 184.6 | 2019  | 0.1622 | 0.6656 | 0.7119 | 0.2654 | 0.4601 | 0.1189  |\n",
       "| 842517   | M | 20.57 | 17.77 | 132.9 | 1326  | 0.08474 | 0.07864 | 0.0869 | 0.07017 | ... | 24.99 | 23.41 | 158.8 | 1956  | 0.1238 | 0.1866 | 0.2416 | 0.186  | 0.275  | 0.08902 |\n",
       "| 84300903 | M | 19.69 | 21.25 | 130   | 1203  | 0.1096  | 0.1599  | 0.1974 | 0.1279  | ... | 23.57 | 25.53 | 152.5 | 1709  | 0.1444 | 0.4245 | 0.4504 | 0.243  | 0.3613 | 0.08758 |\n",
       "| 84348301 | M | 11.42 | 20.38 | 77.58 | 386.1 | 0.1425  | 0.2839  | 0.2414 | 0.1052  | ... | 14.91 | 26.5  | 98.87 | 567.7 | 0.2098 | 0.8663 | 0.6869 | 0.2575 | 0.6638 | 0.173   |\n",
       "| 84358402 | M | 20.29 | 14.34 | 135.1 | 1297  | 0.1003  | 0.1328  | 0.198  | 0.1043  | ... | 22.54 | 16.67 | 152.2 | 1575  | 0.1374 | 0.205  | 0.4    | 0.1625 | 0.2364 | 0.07678 |\n",
       "| 843786   | M | 12.45 | 15.7  | 82.57 | 477.1 | 0.1278  | 0.17    | 0.1578 | 0.08089 | ... | 15.47 | 23.75 | 103.4 | 741.6 | 0.1791 | 0.5249 | 0.5355 | 0.1741 | 0.3985 | 0.1244  |\n",
       "\n"
      ],
      "text/plain": [
       "  id       diagnosis radius_mean texture_mean perimeter_mean area_mean\n",
       "1 842302   M         17.99       10.38        122.8          1001     \n",
       "2 842517   M         20.57       17.77        132.9          1326     \n",
       "3 84300903 M         19.69       21.25        130            1203     \n",
       "4 84348301 M         11.42       20.38        77.58          386.1    \n",
       "5 84358402 M         20.29       14.34        135.1          1297     \n",
       "6 843786   M         12.45       15.7         82.57          477.1    \n",
       "  smoothness_mean compactness_mean concavity_mean concave_points_mean ...\n",
       "1 0.1184          0.2776           0.3001         0.1471              ...\n",
       "2 0.08474         0.07864          0.0869         0.07017             ...\n",
       "3 0.1096          0.1599           0.1974         0.1279              ...\n",
       "4 0.1425          0.2839           0.2414         0.1052              ...\n",
       "5 0.1003          0.1328           0.198          0.1043              ...\n",
       "6 0.1278          0.17             0.1578         0.08089             ...\n",
       "  radius_worst texture_worst perimeter_worst area_worst smoothness_worst\n",
       "1 25.38        17.33         184.6           2019       0.1622          \n",
       "2 24.99        23.41         158.8           1956       0.1238          \n",
       "3 23.57        25.53         152.5           1709       0.1444          \n",
       "4 14.91        26.5          98.87           567.7      0.2098          \n",
       "5 22.54        16.67         152.2           1575       0.1374          \n",
       "6 15.47        23.75         103.4           741.6      0.1791          \n",
       "  compactness_worst concavity_worst concave_points_worst symmetry_worst\n",
       "1 0.6656            0.7119          0.2654               0.4601        \n",
       "2 0.1866            0.2416          0.186                0.275         \n",
       "3 0.4245            0.4504          0.243                0.3613        \n",
       "4 0.8663            0.6869          0.2575               0.6638        \n",
       "5 0.205             0.4             0.1625               0.2364        \n",
       "6 0.5249            0.5355          0.1741               0.3985        \n",
       "  fractal_dimension_worst\n",
       "1 0.1189                 \n",
       "2 0.08902                \n",
       "3 0.08758                \n",
       "4 0.173                  \n",
       "5 0.07678                \n",
       "6 0.1244                 "
      ]
     },
     "metadata": {},
     "output_type": "display_data"
    }
   ],
   "source": [
    "df <- \n",
    "read.df(\n",
    "    '/tmp/wisc_bc_data.csv',  # ubicación y nombre del archivo\n",
    "    'csv',                    # formato\n",
    "    header = TRUE)            # encabeamiento\n",
    "\n",
    "head(df)"
   ]
  },
  {
   "cell_type": "code",
   "execution_count": 5,
   "metadata": {},
   "outputs": [
    {
     "name": "stdout",
     "output_type": "stream",
     "text": [
      "root\n",
      " |-- id: string (nullable = true)\n",
      " |-- diagnosis: string (nullable = true)\n",
      " |-- radius_mean: string (nullable = true)\n",
      " |-- texture_mean: string (nullable = true)\n",
      " |-- perimeter_mean: string (nullable = true)\n",
      " |-- area_mean: string (nullable = true)\n",
      " |-- smoothness_mean: string (nullable = true)\n",
      " |-- compactness_mean: string (nullable = true)\n",
      " |-- concavity_mean: string (nullable = true)\n",
      " |-- concave_points_mean: string (nullable = true)\n",
      " |-- symmetry_mean: string (nullable = true)\n",
      " |-- fractal_dimension_mean: string (nullable = true)\n",
      " |-- radius_se: string (nullable = true)\n",
      " |-- texture_se: string (nullable = true)\n",
      " |-- perimeter_se: string (nullable = true)\n",
      " |-- area_se: string (nullable = true)\n",
      " |-- smoothness_se: string (nullable = true)\n",
      " |-- compactness_se: string (nullable = true)\n",
      " |-- concavity_se: string (nullable = true)\n",
      " |-- concave_points_se: string (nullable = true)\n",
      " |-- symmetry_se: string (nullable = true)\n",
      " |-- fractal_dimension_se: string (nullable = true)\n",
      " |-- radius_worst: string (nullable = true)\n",
      " |-- texture_worst: string (nullable = true)\n",
      " |-- perimeter_worst: string (nullable = true)\n",
      " |-- area_worst: string (nullable = true)\n",
      " |-- smoothness_worst: string (nullable = true)\n",
      " |-- compactness_worst: string (nullable = true)\n",
      " |-- concavity_worst: string (nullable = true)\n",
      " |-- concave_points_worst: string (nullable = true)\n",
      " |-- symmetry_worst: string (nullable = true)\n",
      " |-- fractal_dimension_worst: string (nullable = true)\n"
     ]
    }
   ],
   "source": [
    "##\n",
    "## Se imprime el esquema en formato de arbol\n",
    "##\n",
    "printSchema(df)"
   ]
  },
  {
   "cell_type": "markdown",
   "metadata": {},
   "source": [
    "#### Regresión Logística"
   ]
  },
  {
   "cell_type": "code",
   "execution_count": 6,
   "metadata": {},
   "outputs": [
    {
     "data": {
      "text/html": [
       "<table>\n",
       "<caption>A data.frame: 6 x 35</caption>\n",
       "<thead>\n",
       "\t<tr><th scope=col>id</th><th scope=col>diagnosis</th><th scope=col>radius_mean</th><th scope=col>texture_mean</th><th scope=col>perimeter_mean</th><th scope=col>area_mean</th><th scope=col>smoothness_mean</th><th scope=col>compactness_mean</th><th scope=col>concavity_mean</th><th scope=col>concave_points_mean</th><th scope=col>...</th><th scope=col>area_worst</th><th scope=col>smoothness_worst</th><th scope=col>compactness_worst</th><th scope=col>concavity_worst</th><th scope=col>concave_points_worst</th><th scope=col>symmetry_worst</th><th scope=col>fractal_dimension_worst</th><th scope=col>rawPrediction</th><th scope=col>probability</th><th scope=col>prediction</th></tr>\n",
       "\t<tr><th scope=col>&lt;chr&gt;</th><th scope=col>&lt;chr&gt;</th><th scope=col>&lt;chr&gt;</th><th scope=col>&lt;chr&gt;</th><th scope=col>&lt;chr&gt;</th><th scope=col>&lt;chr&gt;</th><th scope=col>&lt;chr&gt;</th><th scope=col>&lt;chr&gt;</th><th scope=col>&lt;chr&gt;</th><th scope=col>&lt;chr&gt;</th><th scope=col>...</th><th scope=col>&lt;chr&gt;</th><th scope=col>&lt;chr&gt;</th><th scope=col>&lt;chr&gt;</th><th scope=col>&lt;chr&gt;</th><th scope=col>&lt;chr&gt;</th><th scope=col>&lt;chr&gt;</th><th scope=col>&lt;chr&gt;</th><th scope=col>&lt;list&gt;</th><th scope=col>&lt;list&gt;</th><th scope=col>&lt;chr&gt;</th></tr>\n",
       "</thead>\n",
       "<tbody>\n",
       "\t<tr><td><span style=white-space:pre-wrap>842302  </span></td><td>M</td><td>17.99</td><td>10.38</td><td>122.8</td><td>1001 </td><td>0.1184 </td><td>0.2776 </td><td>0.3001</td><td>0.1471 </td><td>...</td><td>2019 </td><td>0.1622</td><td>0.6656</td><td>0.7119</td><td>0.2654</td><td>0.4601</td><td>0.1189 </td><td>&lt;environment: 0x55b20360b468&gt;</td><td>&lt;environment: 0x55b20363d6b8&gt;</td><td>M</td></tr>\n",
       "\t<tr><td><span style=white-space:pre-wrap>842517  </span></td><td>M</td><td>20.57</td><td>17.77</td><td>132.9</td><td>1326 </td><td>0.08474</td><td>0.07864</td><td>0.0869</td><td>0.07017</td><td>...</td><td>1956 </td><td>0.1238</td><td>0.1866</td><td>0.2416</td><td>0.186 </td><td>0.275 </td><td>0.08902</td><td>&lt;environment: 0x55b203618eb8&gt;</td><td>&lt;environment: 0x55b203640570&gt;</td><td>M</td></tr>\n",
       "\t<tr><td>84300903</td><td>M</td><td>19.69</td><td>21.25</td><td><span style=white-space:pre-wrap>130  </span></td><td>1203 </td><td>0.1096 </td><td>0.1599 </td><td>0.1974</td><td>0.1279 </td><td>...</td><td>1709 </td><td>0.1444</td><td>0.4245</td><td>0.4504</td><td>0.243 </td><td>0.3613</td><td>0.08758</td><td>&lt;environment: 0x55b20361f7b0&gt;</td><td>&lt;environment: 0x55b203646fb8&gt;</td><td>M</td></tr>\n",
       "\t<tr><td>84348301</td><td>M</td><td>11.42</td><td>20.38</td><td>77.58</td><td>386.1</td><td>0.1425 </td><td>0.2839 </td><td>0.2414</td><td>0.1052 </td><td>...</td><td>567.7</td><td>0.2098</td><td>0.8663</td><td>0.6869</td><td>0.2575</td><td>0.6638</td><td><span style=white-space:pre-wrap>0.173  </span></td><td>&lt;environment: 0x55b2036229b0&gt;</td><td>&lt;environment: 0x55b20364cc70&gt;</td><td>M</td></tr>\n",
       "\t<tr><td>84358402</td><td>M</td><td>20.29</td><td>14.34</td><td>135.1</td><td>1297 </td><td>0.1003 </td><td>0.1328 </td><td>0.198 </td><td>0.1043 </td><td>...</td><td>1575 </td><td>0.1374</td><td>0.205 </td><td><span style=white-space:pre-wrap>0.4   </span></td><td>0.1625</td><td>0.2364</td><td>0.07678</td><td>&lt;environment: 0x55b20362f698&gt;</td><td>&lt;environment: 0x55b203653c08&gt;</td><td>M</td></tr>\n",
       "\t<tr><td><span style=white-space:pre-wrap>843786  </span></td><td>M</td><td>12.45</td><td>15.7 </td><td>82.57</td><td>477.1</td><td>0.1278 </td><td><span style=white-space:pre-wrap>0.17   </span></td><td>0.1578</td><td>0.08089</td><td>...</td><td>741.6</td><td>0.1791</td><td>0.5249</td><td>0.5355</td><td>0.1741</td><td>0.3985</td><td>0.1244 </td><td>&lt;environment: 0x55b203632940&gt;</td><td>&lt;environment: 0x55b203657370&gt;</td><td>M</td></tr>\n",
       "</tbody>\n",
       "</table>\n"
      ],
      "text/latex": [
       "A data.frame: 6 x 35\n",
       "\\begin{tabular}{r|lllllllllllllllllllllllllllllllllll}\n",
       " id & diagnosis & radius\\_mean & texture\\_mean & perimeter\\_mean & area\\_mean & smoothness\\_mean & compactness\\_mean & concavity\\_mean & concave\\_points\\_mean & symmetry\\_mean & fractal\\_dimension\\_mean & radius\\_se & texture\\_se & perimeter\\_se & area\\_se & smoothness\\_se & compactness\\_se & concavity\\_se & concave\\_points\\_se & symmetry\\_se & fractal\\_dimension\\_se & radius\\_worst & texture\\_worst & perimeter\\_worst & area\\_worst & smoothness\\_worst & compactness\\_worst & concavity\\_worst & concave\\_points\\_worst & symmetry\\_worst & fractal\\_dimension\\_worst & rawPrediction & probability & prediction\\\\\n",
       " <chr> & <chr> & <chr> & <chr> & <chr> & <chr> & <chr> & <chr> & <chr> & <chr> & <chr> & <chr> & <chr> & <chr> & <chr> & <chr> & <chr> & <chr> & <chr> & <chr> & <chr> & <chr> & <chr> & <chr> & <chr> & <chr> & <chr> & <chr> & <chr> & <chr> & <chr> & <chr> & <list> & <list> & <chr>\\\\\n",
       "\\hline\n",
       "\t 842302   & M & 17.99 & 10.38 & 122.8 & 1001  & 0.1184  & 0.2776  & 0.3001 & 0.1471  & 0.2419 & 0.07871 & 1.095  & 0.9053 & 8.589 & 153.4 & 0.006399 & 0.04904 & 0.05373 & 0.01587 & 0.03003 & 0.006193 & 25.38 & 17.33 & 184.6 & 2019  & 0.1622 & 0.6656 & 0.7119 & 0.2654 & 0.4601 & 0.1189  & <environment: 0x55b20360b468> & <environment: 0x55b20363d6b8> & M\\\\\n",
       "\t 842517   & M & 20.57 & 17.77 & 132.9 & 1326  & 0.08474 & 0.07864 & 0.0869 & 0.07017 & 0.1812 & 0.05667 & 0.5435 & 0.7339 & 3.398 & 74.08 & 0.005225 & 0.01308 & 0.0186  & 0.0134  & 0.01389 & 0.003532 & 24.99 & 23.41 & 158.8 & 1956  & 0.1238 & 0.1866 & 0.2416 & 0.186  & 0.275  & 0.08902 & <environment: 0x55b203618eb8> & <environment: 0x55b203640570> & M\\\\\n",
       "\t 84300903 & M & 19.69 & 21.25 & 130   & 1203  & 0.1096  & 0.1599  & 0.1974 & 0.1279  & 0.2069 & 0.05999 & 0.7456 & 0.7869 & 4.585 & 94.03 & 0.00615  & 0.04006 & 0.03832 & 0.02058 & 0.0225  & 0.004571 & 23.57 & 25.53 & 152.5 & 1709  & 0.1444 & 0.4245 & 0.4504 & 0.243  & 0.3613 & 0.08758 & <environment: 0x55b20361f7b0> & <environment: 0x55b203646fb8> & M\\\\\n",
       "\t 84348301 & M & 11.42 & 20.38 & 77.58 & 386.1 & 0.1425  & 0.2839  & 0.2414 & 0.1052  & 0.2597 & 0.09744 & 0.4956 & 1.156  & 3.445 & 27.23 & 0.00911  & 0.07458 & 0.05661 & 0.01867 & 0.05963 & 0.009208 & 14.91 & 26.5  & 98.87 & 567.7 & 0.2098 & 0.8663 & 0.6869 & 0.2575 & 0.6638 & 0.173   & <environment: 0x55b2036229b0> & <environment: 0x55b20364cc70> & M\\\\\n",
       "\t 84358402 & M & 20.29 & 14.34 & 135.1 & 1297  & 0.1003  & 0.1328  & 0.198  & 0.1043  & 0.1809 & 0.05883 & 0.7572 & 0.7813 & 5.438 & 94.44 & 0.01149  & 0.02461 & 0.05688 & 0.01885 & 0.01756 & 0.005115 & 22.54 & 16.67 & 152.2 & 1575  & 0.1374 & 0.205  & 0.4    & 0.1625 & 0.2364 & 0.07678 & <environment: 0x55b20362f698> & <environment: 0x55b203653c08> & M\\\\\n",
       "\t 843786   & M & 12.45 & 15.7  & 82.57 & 477.1 & 0.1278  & 0.17    & 0.1578 & 0.08089 & 0.2087 & 0.07613 & 0.3345 & 0.8902 & 2.217 & 27.19 & 0.00751  & 0.03345 & 0.03672 & 0.01137 & 0.02165 & 0.005082 & 15.47 & 23.75 & 103.4 & 741.6 & 0.1791 & 0.5249 & 0.5355 & 0.1741 & 0.3985 & 0.1244  & <environment: 0x55b203632940> & <environment: 0x55b203657370> & M\\\\\n",
       "\\end{tabular}\n"
      ],
      "text/markdown": [
       "\n",
       "A data.frame: 6 x 35\n",
       "\n",
       "| id &lt;chr&gt; | diagnosis &lt;chr&gt; | radius_mean &lt;chr&gt; | texture_mean &lt;chr&gt; | perimeter_mean &lt;chr&gt; | area_mean &lt;chr&gt; | smoothness_mean &lt;chr&gt; | compactness_mean &lt;chr&gt; | concavity_mean &lt;chr&gt; | concave_points_mean &lt;chr&gt; | ... ... | area_worst &lt;chr&gt; | smoothness_worst &lt;chr&gt; | compactness_worst &lt;chr&gt; | concavity_worst &lt;chr&gt; | concave_points_worst &lt;chr&gt; | symmetry_worst &lt;chr&gt; | fractal_dimension_worst &lt;chr&gt; | rawPrediction &lt;list&gt; | probability &lt;list&gt; | prediction &lt;chr&gt; |\n",
       "|---|---|---|---|---|---|---|---|---|---|---|---|---|---|---|---|---|---|---|---|---|\n",
       "| 842302   | M | 17.99 | 10.38 | 122.8 | 1001  | 0.1184  | 0.2776  | 0.3001 | 0.1471  | ... | 2019  | 0.1622 | 0.6656 | 0.7119 | 0.2654 | 0.4601 | 0.1189  | &lt;environment: 0x55b20360b468&gt; | &lt;environment: 0x55b20363d6b8&gt; | M |\n",
       "| 842517   | M | 20.57 | 17.77 | 132.9 | 1326  | 0.08474 | 0.07864 | 0.0869 | 0.07017 | ... | 1956  | 0.1238 | 0.1866 | 0.2416 | 0.186  | 0.275  | 0.08902 | &lt;environment: 0x55b203618eb8&gt; | &lt;environment: 0x55b203640570&gt; | M |\n",
       "| 84300903 | M | 19.69 | 21.25 | 130   | 1203  | 0.1096  | 0.1599  | 0.1974 | 0.1279  | ... | 1709  | 0.1444 | 0.4245 | 0.4504 | 0.243  | 0.3613 | 0.08758 | &lt;environment: 0x55b20361f7b0&gt; | &lt;environment: 0x55b203646fb8&gt; | M |\n",
       "| 84348301 | M | 11.42 | 20.38 | 77.58 | 386.1 | 0.1425  | 0.2839  | 0.2414 | 0.1052  | ... | 567.7 | 0.2098 | 0.8663 | 0.6869 | 0.2575 | 0.6638 | 0.173   | &lt;environment: 0x55b2036229b0&gt; | &lt;environment: 0x55b20364cc70&gt; | M |\n",
       "| 84358402 | M | 20.29 | 14.34 | 135.1 | 1297  | 0.1003  | 0.1328  | 0.198  | 0.1043  | ... | 1575  | 0.1374 | 0.205  | 0.4    | 0.1625 | 0.2364 | 0.07678 | &lt;environment: 0x55b20362f698&gt; | &lt;environment: 0x55b203653c08&gt; | M |\n",
       "| 843786   | M | 12.45 | 15.7  | 82.57 | 477.1 | 0.1278  | 0.17    | 0.1578 | 0.08089 | ... | 741.6 | 0.1791 | 0.5249 | 0.5355 | 0.1741 | 0.3985 | 0.1244  | &lt;environment: 0x55b203632940&gt; | &lt;environment: 0x55b203657370&gt; | M |\n",
       "\n"
      ],
      "text/plain": [
       "  id       diagnosis radius_mean texture_mean perimeter_mean area_mean\n",
       "1 842302   M         17.99       10.38        122.8          1001     \n",
       "2 842517   M         20.57       17.77        132.9          1326     \n",
       "3 84300903 M         19.69       21.25        130            1203     \n",
       "4 84348301 M         11.42       20.38        77.58          386.1    \n",
       "5 84358402 M         20.29       14.34        135.1          1297     \n",
       "6 843786   M         12.45       15.7         82.57          477.1    \n",
       "  smoothness_mean compactness_mean concavity_mean concave_points_mean ...\n",
       "1 0.1184          0.2776           0.3001         0.1471              ...\n",
       "2 0.08474         0.07864          0.0869         0.07017             ...\n",
       "3 0.1096          0.1599           0.1974         0.1279              ...\n",
       "4 0.1425          0.2839           0.2414         0.1052              ...\n",
       "5 0.1003          0.1328           0.198          0.1043              ...\n",
       "6 0.1278          0.17             0.1578         0.08089             ...\n",
       "  area_worst smoothness_worst compactness_worst concavity_worst\n",
       "1 2019       0.1622           0.6656            0.7119         \n",
       "2 1956       0.1238           0.1866            0.2416         \n",
       "3 1709       0.1444           0.4245            0.4504         \n",
       "4 567.7      0.2098           0.8663            0.6869         \n",
       "5 1575       0.1374           0.205             0.4            \n",
       "6 741.6      0.1791           0.5249            0.5355         \n",
       "  concave_points_worst symmetry_worst fractal_dimension_worst\n",
       "1 0.2654               0.4601         0.1189                 \n",
       "2 0.186                0.275          0.08902                \n",
       "3 0.243                0.3613         0.08758                \n",
       "4 0.2575               0.6638         0.173                  \n",
       "5 0.1625               0.2364         0.07678                \n",
       "6 0.1741               0.3985         0.1244                 \n",
       "  rawPrediction                 probability                   prediction\n",
       "1 <environment: 0x55b20360b468> <environment: 0x55b20363d6b8> M         \n",
       "2 <environment: 0x55b203618eb8> <environment: 0x55b203640570> M         \n",
       "3 <environment: 0x55b20361f7b0> <environment: 0x55b203646fb8> M         \n",
       "4 <environment: 0x55b2036229b0> <environment: 0x55b20364cc70> M         \n",
       "5 <environment: 0x55b20362f698> <environment: 0x55b203653c08> M         \n",
       "6 <environment: 0x55b203632940> <environment: 0x55b203657370> M         "
      ]
     },
     "metadata": {},
     "output_type": "display_data"
    }
   ],
   "source": [
    "##\n",
    "## Se especifica el modelo de la forma usual\n",
    "##\n",
    "model <- spark.logit(\n",
    "    df, \n",
    "    diagnosis ~ radius_mean + texture_mean + perimeter_mean + area_mean + \n",
    "                smoothness_mean + compactness_mean + concavity_mean + \n",
    "                concave_points_mean + symmetry_mean + \n",
    "                fractal_dimension_mean + radius_se + texture_se + \n",
    "                perimeter_se + area_se + smoothness_se + compactness_se + \n",
    "                concavity_se + concave_points_se + symmetry_se + \n",
    "                fractal_dimension_se + radius_worst + texture_worst + \n",
    "                perimeter_worst + area_worst + smoothness_worst + \n",
    "                compactness_worst + concavity_worst + \n",
    "                concave_points_worst + symmetry_worst + \n",
    "                fractal_dimension_worst,\n",
    "    maxIter = 100, \n",
    "    regParam = 0.0, \n",
    "    elasticNetParam = 0.0)\n",
    "\n",
    "# Prediction\n",
    "fitted_logit <- predict(model, df)\n",
    "head(fitted_logit)"
   ]
  },
  {
   "cell_type": "markdown",
   "metadata": {},
   "source": [
    "### Random forest classifier"
   ]
  },
  {
   "cell_type": "code",
   "execution_count": 7,
   "metadata": {},
   "outputs": [
    {
     "data": {
      "text/html": [
       "<table>\n",
       "<caption>A data.frame: 6 x 35</caption>\n",
       "<thead>\n",
       "\t<tr><th scope=col>id</th><th scope=col>diagnosis</th><th scope=col>radius_mean</th><th scope=col>texture_mean</th><th scope=col>perimeter_mean</th><th scope=col>area_mean</th><th scope=col>smoothness_mean</th><th scope=col>compactness_mean</th><th scope=col>concavity_mean</th><th scope=col>concave_points_mean</th><th scope=col>...</th><th scope=col>area_worst</th><th scope=col>smoothness_worst</th><th scope=col>compactness_worst</th><th scope=col>concavity_worst</th><th scope=col>concave_points_worst</th><th scope=col>symmetry_worst</th><th scope=col>fractal_dimension_worst</th><th scope=col>rawPrediction</th><th scope=col>probability</th><th scope=col>prediction</th></tr>\n",
       "\t<tr><th scope=col>&lt;chr&gt;</th><th scope=col>&lt;chr&gt;</th><th scope=col>&lt;chr&gt;</th><th scope=col>&lt;chr&gt;</th><th scope=col>&lt;chr&gt;</th><th scope=col>&lt;chr&gt;</th><th scope=col>&lt;chr&gt;</th><th scope=col>&lt;chr&gt;</th><th scope=col>&lt;chr&gt;</th><th scope=col>&lt;chr&gt;</th><th scope=col>...</th><th scope=col>&lt;chr&gt;</th><th scope=col>&lt;chr&gt;</th><th scope=col>&lt;chr&gt;</th><th scope=col>&lt;chr&gt;</th><th scope=col>&lt;chr&gt;</th><th scope=col>&lt;chr&gt;</th><th scope=col>&lt;chr&gt;</th><th scope=col>&lt;list&gt;</th><th scope=col>&lt;list&gt;</th><th scope=col>&lt;chr&gt;</th></tr>\n",
       "</thead>\n",
       "<tbody>\n",
       "\t<tr><td><span style=white-space:pre-wrap>842302  </span></td><td>M</td><td>17.99</td><td>10.38</td><td>122.8</td><td>1001 </td><td>0.1184 </td><td>0.2776 </td><td>0.3001</td><td>0.1471 </td><td>...</td><td>2019 </td><td>0.1622</td><td>0.6656</td><td>0.7119</td><td>0.2654</td><td>0.4601</td><td>0.1189 </td><td>&lt;environment: 0x55b200529670&gt;</td><td>&lt;environment: 0x55b2004990a0&gt;</td><td>B</td></tr>\n",
       "\t<tr><td><span style=white-space:pre-wrap>842517  </span></td><td>M</td><td>20.57</td><td>17.77</td><td>132.9</td><td>1326 </td><td>0.08474</td><td>0.07864</td><td>0.0869</td><td>0.07017</td><td>...</td><td>1956 </td><td>0.1238</td><td>0.1866</td><td>0.2416</td><td>0.186 </td><td>0.275 </td><td>0.08902</td><td>&lt;environment: 0x55b2005145f8&gt;</td><td>&lt;environment: 0x55b2004910d8&gt;</td><td>B</td></tr>\n",
       "\t<tr><td>84300903</td><td>M</td><td>19.69</td><td>21.25</td><td><span style=white-space:pre-wrap>130  </span></td><td>1203 </td><td>0.1096 </td><td>0.1599 </td><td>0.1974</td><td>0.1279 </td><td>...</td><td>1709 </td><td>0.1444</td><td>0.4245</td><td>0.4504</td><td>0.243 </td><td>0.3613</td><td>0.08758</td><td>&lt;environment: 0x55b200503da8&gt;</td><td>&lt;environment: 0x55b1ff5be858&gt;</td><td>B</td></tr>\n",
       "\t<tr><td>84348301</td><td>M</td><td>11.42</td><td>20.38</td><td>77.58</td><td>386.1</td><td>0.1425 </td><td>0.2839 </td><td>0.2414</td><td>0.1052 </td><td>...</td><td>567.7</td><td>0.2098</td><td>0.8663</td><td>0.6869</td><td>0.2575</td><td>0.6638</td><td><span style=white-space:pre-wrap>0.173  </span></td><td>&lt;environment: 0x55b2004fc518&gt;</td><td>&lt;environment: 0x55b1ff635c28&gt;</td><td>B</td></tr>\n",
       "\t<tr><td>84358402</td><td>M</td><td>20.29</td><td>14.34</td><td>135.1</td><td>1297 </td><td>0.1003 </td><td>0.1328 </td><td>0.198 </td><td>0.1043 </td><td>...</td><td>1575 </td><td>0.1374</td><td>0.205 </td><td><span style=white-space:pre-wrap>0.4   </span></td><td>0.1625</td><td>0.2364</td><td>0.07678</td><td>&lt;environment: 0x55b2004f04e0&gt;</td><td>&lt;environment: 0x55b1ff630558&gt;</td><td>B</td></tr>\n",
       "\t<tr><td><span style=white-space:pre-wrap>843786  </span></td><td>M</td><td>12.45</td><td>15.7 </td><td>82.57</td><td>477.1</td><td>0.1278 </td><td><span style=white-space:pre-wrap>0.17   </span></td><td>0.1578</td><td>0.08089</td><td>...</td><td>741.6</td><td>0.1791</td><td>0.5249</td><td>0.5355</td><td>0.1741</td><td>0.3985</td><td>0.1244 </td><td>&lt;environment: 0x55b2004b5ae8&gt;</td><td>&lt;environment: 0x55b1ff119578&gt;</td><td>B</td></tr>\n",
       "</tbody>\n",
       "</table>\n"
      ],
      "text/latex": [
       "A data.frame: 6 x 35\n",
       "\\begin{tabular}{r|lllllllllllllllllllllllllllllllllll}\n",
       " id & diagnosis & radius\\_mean & texture\\_mean & perimeter\\_mean & area\\_mean & smoothness\\_mean & compactness\\_mean & concavity\\_mean & concave\\_points\\_mean & symmetry\\_mean & fractal\\_dimension\\_mean & radius\\_se & texture\\_se & perimeter\\_se & area\\_se & smoothness\\_se & compactness\\_se & concavity\\_se & concave\\_points\\_se & symmetry\\_se & fractal\\_dimension\\_se & radius\\_worst & texture\\_worst & perimeter\\_worst & area\\_worst & smoothness\\_worst & compactness\\_worst & concavity\\_worst & concave\\_points\\_worst & symmetry\\_worst & fractal\\_dimension\\_worst & rawPrediction & probability & prediction\\\\\n",
       " <chr> & <chr> & <chr> & <chr> & <chr> & <chr> & <chr> & <chr> & <chr> & <chr> & <chr> & <chr> & <chr> & <chr> & <chr> & <chr> & <chr> & <chr> & <chr> & <chr> & <chr> & <chr> & <chr> & <chr> & <chr> & <chr> & <chr> & <chr> & <chr> & <chr> & <chr> & <chr> & <list> & <list> & <chr>\\\\\n",
       "\\hline\n",
       "\t 842302   & M & 17.99 & 10.38 & 122.8 & 1001  & 0.1184  & 0.2776  & 0.3001 & 0.1471  & 0.2419 & 0.07871 & 1.095  & 0.9053 & 8.589 & 153.4 & 0.006399 & 0.04904 & 0.05373 & 0.01587 & 0.03003 & 0.006193 & 25.38 & 17.33 & 184.6 & 2019  & 0.1622 & 0.6656 & 0.7119 & 0.2654 & 0.4601 & 0.1189  & <environment: 0x55b200529670> & <environment: 0x55b2004990a0> & B\\\\\n",
       "\t 842517   & M & 20.57 & 17.77 & 132.9 & 1326  & 0.08474 & 0.07864 & 0.0869 & 0.07017 & 0.1812 & 0.05667 & 0.5435 & 0.7339 & 3.398 & 74.08 & 0.005225 & 0.01308 & 0.0186  & 0.0134  & 0.01389 & 0.003532 & 24.99 & 23.41 & 158.8 & 1956  & 0.1238 & 0.1866 & 0.2416 & 0.186  & 0.275  & 0.08902 & <environment: 0x55b2005145f8> & <environment: 0x55b2004910d8> & B\\\\\n",
       "\t 84300903 & M & 19.69 & 21.25 & 130   & 1203  & 0.1096  & 0.1599  & 0.1974 & 0.1279  & 0.2069 & 0.05999 & 0.7456 & 0.7869 & 4.585 & 94.03 & 0.00615  & 0.04006 & 0.03832 & 0.02058 & 0.0225  & 0.004571 & 23.57 & 25.53 & 152.5 & 1709  & 0.1444 & 0.4245 & 0.4504 & 0.243  & 0.3613 & 0.08758 & <environment: 0x55b200503da8> & <environment: 0x55b1ff5be858> & B\\\\\n",
       "\t 84348301 & M & 11.42 & 20.38 & 77.58 & 386.1 & 0.1425  & 0.2839  & 0.2414 & 0.1052  & 0.2597 & 0.09744 & 0.4956 & 1.156  & 3.445 & 27.23 & 0.00911  & 0.07458 & 0.05661 & 0.01867 & 0.05963 & 0.009208 & 14.91 & 26.5  & 98.87 & 567.7 & 0.2098 & 0.8663 & 0.6869 & 0.2575 & 0.6638 & 0.173   & <environment: 0x55b2004fc518> & <environment: 0x55b1ff635c28> & B\\\\\n",
       "\t 84358402 & M & 20.29 & 14.34 & 135.1 & 1297  & 0.1003  & 0.1328  & 0.198  & 0.1043  & 0.1809 & 0.05883 & 0.7572 & 0.7813 & 5.438 & 94.44 & 0.01149  & 0.02461 & 0.05688 & 0.01885 & 0.01756 & 0.005115 & 22.54 & 16.67 & 152.2 & 1575  & 0.1374 & 0.205  & 0.4    & 0.1625 & 0.2364 & 0.07678 & <environment: 0x55b2004f04e0> & <environment: 0x55b1ff630558> & B\\\\\n",
       "\t 843786   & M & 12.45 & 15.7  & 82.57 & 477.1 & 0.1278  & 0.17    & 0.1578 & 0.08089 & 0.2087 & 0.07613 & 0.3345 & 0.8902 & 2.217 & 27.19 & 0.00751  & 0.03345 & 0.03672 & 0.01137 & 0.02165 & 0.005082 & 15.47 & 23.75 & 103.4 & 741.6 & 0.1791 & 0.5249 & 0.5355 & 0.1741 & 0.3985 & 0.1244  & <environment: 0x55b2004b5ae8> & <environment: 0x55b1ff119578> & B\\\\\n",
       "\\end{tabular}\n"
      ],
      "text/markdown": [
       "\n",
       "A data.frame: 6 x 35\n",
       "\n",
       "| id &lt;chr&gt; | diagnosis &lt;chr&gt; | radius_mean &lt;chr&gt; | texture_mean &lt;chr&gt; | perimeter_mean &lt;chr&gt; | area_mean &lt;chr&gt; | smoothness_mean &lt;chr&gt; | compactness_mean &lt;chr&gt; | concavity_mean &lt;chr&gt; | concave_points_mean &lt;chr&gt; | ... ... | area_worst &lt;chr&gt; | smoothness_worst &lt;chr&gt; | compactness_worst &lt;chr&gt; | concavity_worst &lt;chr&gt; | concave_points_worst &lt;chr&gt; | symmetry_worst &lt;chr&gt; | fractal_dimension_worst &lt;chr&gt; | rawPrediction &lt;list&gt; | probability &lt;list&gt; | prediction &lt;chr&gt; |\n",
       "|---|---|---|---|---|---|---|---|---|---|---|---|---|---|---|---|---|---|---|---|---|\n",
       "| 842302   | M | 17.99 | 10.38 | 122.8 | 1001  | 0.1184  | 0.2776  | 0.3001 | 0.1471  | ... | 2019  | 0.1622 | 0.6656 | 0.7119 | 0.2654 | 0.4601 | 0.1189  | &lt;environment: 0x55b200529670&gt; | &lt;environment: 0x55b2004990a0&gt; | B |\n",
       "| 842517   | M | 20.57 | 17.77 | 132.9 | 1326  | 0.08474 | 0.07864 | 0.0869 | 0.07017 | ... | 1956  | 0.1238 | 0.1866 | 0.2416 | 0.186  | 0.275  | 0.08902 | &lt;environment: 0x55b2005145f8&gt; | &lt;environment: 0x55b2004910d8&gt; | B |\n",
       "| 84300903 | M | 19.69 | 21.25 | 130   | 1203  | 0.1096  | 0.1599  | 0.1974 | 0.1279  | ... | 1709  | 0.1444 | 0.4245 | 0.4504 | 0.243  | 0.3613 | 0.08758 | &lt;environment: 0x55b200503da8&gt; | &lt;environment: 0x55b1ff5be858&gt; | B |\n",
       "| 84348301 | M | 11.42 | 20.38 | 77.58 | 386.1 | 0.1425  | 0.2839  | 0.2414 | 0.1052  | ... | 567.7 | 0.2098 | 0.8663 | 0.6869 | 0.2575 | 0.6638 | 0.173   | &lt;environment: 0x55b2004fc518&gt; | &lt;environment: 0x55b1ff635c28&gt; | B |\n",
       "| 84358402 | M | 20.29 | 14.34 | 135.1 | 1297  | 0.1003  | 0.1328  | 0.198  | 0.1043  | ... | 1575  | 0.1374 | 0.205  | 0.4    | 0.1625 | 0.2364 | 0.07678 | &lt;environment: 0x55b2004f04e0&gt; | &lt;environment: 0x55b1ff630558&gt; | B |\n",
       "| 843786   | M | 12.45 | 15.7  | 82.57 | 477.1 | 0.1278  | 0.17    | 0.1578 | 0.08089 | ... | 741.6 | 0.1791 | 0.5249 | 0.5355 | 0.1741 | 0.3985 | 0.1244  | &lt;environment: 0x55b2004b5ae8&gt; | &lt;environment: 0x55b1ff119578&gt; | B |\n",
       "\n"
      ],
      "text/plain": [
       "  id       diagnosis radius_mean texture_mean perimeter_mean area_mean\n",
       "1 842302   M         17.99       10.38        122.8          1001     \n",
       "2 842517   M         20.57       17.77        132.9          1326     \n",
       "3 84300903 M         19.69       21.25        130            1203     \n",
       "4 84348301 M         11.42       20.38        77.58          386.1    \n",
       "5 84358402 M         20.29       14.34        135.1          1297     \n",
       "6 843786   M         12.45       15.7         82.57          477.1    \n",
       "  smoothness_mean compactness_mean concavity_mean concave_points_mean ...\n",
       "1 0.1184          0.2776           0.3001         0.1471              ...\n",
       "2 0.08474         0.07864          0.0869         0.07017             ...\n",
       "3 0.1096          0.1599           0.1974         0.1279              ...\n",
       "4 0.1425          0.2839           0.2414         0.1052              ...\n",
       "5 0.1003          0.1328           0.198          0.1043              ...\n",
       "6 0.1278          0.17             0.1578         0.08089             ...\n",
       "  area_worst smoothness_worst compactness_worst concavity_worst\n",
       "1 2019       0.1622           0.6656            0.7119         \n",
       "2 1956       0.1238           0.1866            0.2416         \n",
       "3 1709       0.1444           0.4245            0.4504         \n",
       "4 567.7      0.2098           0.8663            0.6869         \n",
       "5 1575       0.1374           0.205             0.4            \n",
       "6 741.6      0.1791           0.5249            0.5355         \n",
       "  concave_points_worst symmetry_worst fractal_dimension_worst\n",
       "1 0.2654               0.4601         0.1189                 \n",
       "2 0.186                0.275          0.08902                \n",
       "3 0.243                0.3613         0.08758                \n",
       "4 0.2575               0.6638         0.173                  \n",
       "5 0.1625               0.2364         0.07678                \n",
       "6 0.1741               0.3985         0.1244                 \n",
       "  rawPrediction                 probability                   prediction\n",
       "1 <environment: 0x55b200529670> <environment: 0x55b2004990a0> B         \n",
       "2 <environment: 0x55b2005145f8> <environment: 0x55b2004910d8> B         \n",
       "3 <environment: 0x55b200503da8> <environment: 0x55b1ff5be858> B         \n",
       "4 <environment: 0x55b2004fc518> <environment: 0x55b1ff635c28> B         \n",
       "5 <environment: 0x55b2004f04e0> <environment: 0x55b1ff630558> B         \n",
       "6 <environment: 0x55b2004b5ae8> <environment: 0x55b1ff119578> B         "
      ]
     },
     "metadata": {},
     "output_type": "display_data"
    }
   ],
   "source": [
    "##\n",
    "## Se especifica el modelo de la forma usual\n",
    "##\n",
    "model <- spark.randomForest(\n",
    "    df, \n",
    "    diagnosis ~ radius_mean + texture_mean + perimeter_mean + area_mean + \n",
    "                smoothness_mean + compactness_mean + concavity_mean + \n",
    "                concave_points_mean + symmetry_mean + \n",
    "                fractal_dimension_mean + radius_se + texture_se + \n",
    "                perimeter_se + area_se + smoothness_se + compactness_se + \n",
    "                concavity_se + concave_points_se + symmetry_se + \n",
    "                fractal_dimension_se + radius_worst + texture_worst + \n",
    "                perimeter_worst + area_worst + smoothness_worst + \n",
    "                compactness_worst + concavity_worst + \n",
    "                concave_points_worst + symmetry_worst + \n",
    "                fractal_dimension_worst,    \n",
    "    \"classification\",\n",
    "    numTrees = 10)\n",
    "\n",
    "# Prediction\n",
    "fitted_randomForest <- predict(model, df)\n",
    "head(fitted_randomForest)"
   ]
  },
  {
   "cell_type": "markdown",
   "metadata": {},
   "source": [
    "#### Gradient-boosted tree classifier"
   ]
  },
  {
   "cell_type": "code",
   "execution_count": 8,
   "metadata": {},
   "outputs": [
    {
     "data": {
      "text/html": [
       "<table>\n",
       "<caption>A data.frame: 6 x 35</caption>\n",
       "<thead>\n",
       "\t<tr><th scope=col>id</th><th scope=col>diagnosis</th><th scope=col>radius_mean</th><th scope=col>texture_mean</th><th scope=col>perimeter_mean</th><th scope=col>area_mean</th><th scope=col>smoothness_mean</th><th scope=col>compactness_mean</th><th scope=col>concavity_mean</th><th scope=col>concave_points_mean</th><th scope=col>...</th><th scope=col>area_worst</th><th scope=col>smoothness_worst</th><th scope=col>compactness_worst</th><th scope=col>concavity_worst</th><th scope=col>concave_points_worst</th><th scope=col>symmetry_worst</th><th scope=col>fractal_dimension_worst</th><th scope=col>rawPrediction</th><th scope=col>probability</th><th scope=col>prediction</th></tr>\n",
       "\t<tr><th scope=col>&lt;chr&gt;</th><th scope=col>&lt;chr&gt;</th><th scope=col>&lt;chr&gt;</th><th scope=col>&lt;chr&gt;</th><th scope=col>&lt;chr&gt;</th><th scope=col>&lt;chr&gt;</th><th scope=col>&lt;chr&gt;</th><th scope=col>&lt;chr&gt;</th><th scope=col>&lt;chr&gt;</th><th scope=col>&lt;chr&gt;</th><th scope=col>...</th><th scope=col>&lt;chr&gt;</th><th scope=col>&lt;chr&gt;</th><th scope=col>&lt;chr&gt;</th><th scope=col>&lt;chr&gt;</th><th scope=col>&lt;chr&gt;</th><th scope=col>&lt;chr&gt;</th><th scope=col>&lt;chr&gt;</th><th scope=col>&lt;list&gt;</th><th scope=col>&lt;list&gt;</th><th scope=col>&lt;chr&gt;</th></tr>\n",
       "</thead>\n",
       "<tbody>\n",
       "\t<tr><td><span style=white-space:pre-wrap>842302  </span></td><td>M</td><td>17.99</td><td>10.38</td><td>122.8</td><td>1001 </td><td>0.1184 </td><td>0.2776 </td><td>0.3001</td><td>0.1471 </td><td>...</td><td>2019 </td><td>0.1622</td><td>0.6656</td><td>0.7119</td><td>0.2654</td><td>0.4601</td><td>0.1189 </td><td>&lt;environment: 0x55b201eee528&gt;</td><td>&lt;environment: 0x55b201f1c618&gt;</td><td>M</td></tr>\n",
       "\t<tr><td><span style=white-space:pre-wrap>842517  </span></td><td>M</td><td>20.57</td><td>17.77</td><td>132.9</td><td>1326 </td><td>0.08474</td><td>0.07864</td><td>0.0869</td><td>0.07017</td><td>...</td><td>1956 </td><td>0.1238</td><td>0.1866</td><td>0.2416</td><td>0.186 </td><td>0.275 </td><td>0.08902</td><td>&lt;environment: 0x55b201efded0&gt;</td><td>&lt;environment: 0x55b201f29ea8&gt;</td><td>M</td></tr>\n",
       "\t<tr><td>84300903</td><td>M</td><td>19.69</td><td>21.25</td><td><span style=white-space:pre-wrap>130  </span></td><td>1203 </td><td>0.1096 </td><td>0.1599 </td><td>0.1974</td><td>0.1279 </td><td>...</td><td>1709 </td><td>0.1444</td><td>0.4245</td><td>0.4504</td><td>0.243 </td><td>0.3613</td><td>0.08758</td><td>&lt;environment: 0x55b201f03060&gt;</td><td>&lt;environment: 0x55b201f2ffc0&gt;</td><td>M</td></tr>\n",
       "\t<tr><td>84348301</td><td>M</td><td>11.42</td><td>20.38</td><td>77.58</td><td>386.1</td><td>0.1425 </td><td>0.2839 </td><td>0.2414</td><td>0.1052 </td><td>...</td><td>567.7</td><td>0.2098</td><td>0.8663</td><td>0.6869</td><td>0.2575</td><td>0.6638</td><td><span style=white-space:pre-wrap>0.173  </span></td><td>&lt;environment: 0x55b201f09530&gt;</td><td>&lt;environment: 0x55b201f38ab0&gt;</td><td>B</td></tr>\n",
       "\t<tr><td>84358402</td><td>M</td><td>20.29</td><td>14.34</td><td>135.1</td><td>1297 </td><td>0.1003 </td><td>0.1328 </td><td>0.198 </td><td>0.1043 </td><td>...</td><td>1575 </td><td>0.1374</td><td>0.205 </td><td><span style=white-space:pre-wrap>0.4   </span></td><td>0.1625</td><td>0.2364</td><td>0.07678</td><td>&lt;environment: 0x55b201f0eb90&gt;</td><td>&lt;environment: 0x55b201f3ef80&gt;</td><td>M</td></tr>\n",
       "\t<tr><td><span style=white-space:pre-wrap>843786  </span></td><td>M</td><td>12.45</td><td>15.7 </td><td>82.57</td><td>477.1</td><td>0.1278 </td><td><span style=white-space:pre-wrap>0.17   </span></td><td>0.1578</td><td>0.08089</td><td>...</td><td>741.6</td><td>0.1791</td><td>0.5249</td><td>0.5355</td><td>0.1741</td><td>0.3985</td><td>0.1244 </td><td>&lt;environment: 0x55b201f16f48&gt;</td><td>&lt;environment: 0x55b201f41bd0&gt;</td><td>M</td></tr>\n",
       "</tbody>\n",
       "</table>\n"
      ],
      "text/latex": [
       "A data.frame: 6 x 35\n",
       "\\begin{tabular}{r|lllllllllllllllllllllllllllllllllll}\n",
       " id & diagnosis & radius\\_mean & texture\\_mean & perimeter\\_mean & area\\_mean & smoothness\\_mean & compactness\\_mean & concavity\\_mean & concave\\_points\\_mean & symmetry\\_mean & fractal\\_dimension\\_mean & radius\\_se & texture\\_se & perimeter\\_se & area\\_se & smoothness\\_se & compactness\\_se & concavity\\_se & concave\\_points\\_se & symmetry\\_se & fractal\\_dimension\\_se & radius\\_worst & texture\\_worst & perimeter\\_worst & area\\_worst & smoothness\\_worst & compactness\\_worst & concavity\\_worst & concave\\_points\\_worst & symmetry\\_worst & fractal\\_dimension\\_worst & rawPrediction & probability & prediction\\\\\n",
       " <chr> & <chr> & <chr> & <chr> & <chr> & <chr> & <chr> & <chr> & <chr> & <chr> & <chr> & <chr> & <chr> & <chr> & <chr> & <chr> & <chr> & <chr> & <chr> & <chr> & <chr> & <chr> & <chr> & <chr> & <chr> & <chr> & <chr> & <chr> & <chr> & <chr> & <chr> & <chr> & <list> & <list> & <chr>\\\\\n",
       "\\hline\n",
       "\t 842302   & M & 17.99 & 10.38 & 122.8 & 1001  & 0.1184  & 0.2776  & 0.3001 & 0.1471  & 0.2419 & 0.07871 & 1.095  & 0.9053 & 8.589 & 153.4 & 0.006399 & 0.04904 & 0.05373 & 0.01587 & 0.03003 & 0.006193 & 25.38 & 17.33 & 184.6 & 2019  & 0.1622 & 0.6656 & 0.7119 & 0.2654 & 0.4601 & 0.1189  & <environment: 0x55b201eee528> & <environment: 0x55b201f1c618> & M\\\\\n",
       "\t 842517   & M & 20.57 & 17.77 & 132.9 & 1326  & 0.08474 & 0.07864 & 0.0869 & 0.07017 & 0.1812 & 0.05667 & 0.5435 & 0.7339 & 3.398 & 74.08 & 0.005225 & 0.01308 & 0.0186  & 0.0134  & 0.01389 & 0.003532 & 24.99 & 23.41 & 158.8 & 1956  & 0.1238 & 0.1866 & 0.2416 & 0.186  & 0.275  & 0.08902 & <environment: 0x55b201efded0> & <environment: 0x55b201f29ea8> & M\\\\\n",
       "\t 84300903 & M & 19.69 & 21.25 & 130   & 1203  & 0.1096  & 0.1599  & 0.1974 & 0.1279  & 0.2069 & 0.05999 & 0.7456 & 0.7869 & 4.585 & 94.03 & 0.00615  & 0.04006 & 0.03832 & 0.02058 & 0.0225  & 0.004571 & 23.57 & 25.53 & 152.5 & 1709  & 0.1444 & 0.4245 & 0.4504 & 0.243  & 0.3613 & 0.08758 & <environment: 0x55b201f03060> & <environment: 0x55b201f2ffc0> & M\\\\\n",
       "\t 84348301 & M & 11.42 & 20.38 & 77.58 & 386.1 & 0.1425  & 0.2839  & 0.2414 & 0.1052  & 0.2597 & 0.09744 & 0.4956 & 1.156  & 3.445 & 27.23 & 0.00911  & 0.07458 & 0.05661 & 0.01867 & 0.05963 & 0.009208 & 14.91 & 26.5  & 98.87 & 567.7 & 0.2098 & 0.8663 & 0.6869 & 0.2575 & 0.6638 & 0.173   & <environment: 0x55b201f09530> & <environment: 0x55b201f38ab0> & B\\\\\n",
       "\t 84358402 & M & 20.29 & 14.34 & 135.1 & 1297  & 0.1003  & 0.1328  & 0.198  & 0.1043  & 0.1809 & 0.05883 & 0.7572 & 0.7813 & 5.438 & 94.44 & 0.01149  & 0.02461 & 0.05688 & 0.01885 & 0.01756 & 0.005115 & 22.54 & 16.67 & 152.2 & 1575  & 0.1374 & 0.205  & 0.4    & 0.1625 & 0.2364 & 0.07678 & <environment: 0x55b201f0eb90> & <environment: 0x55b201f3ef80> & M\\\\\n",
       "\t 843786   & M & 12.45 & 15.7  & 82.57 & 477.1 & 0.1278  & 0.17    & 0.1578 & 0.08089 & 0.2087 & 0.07613 & 0.3345 & 0.8902 & 2.217 & 27.19 & 0.00751  & 0.03345 & 0.03672 & 0.01137 & 0.02165 & 0.005082 & 15.47 & 23.75 & 103.4 & 741.6 & 0.1791 & 0.5249 & 0.5355 & 0.1741 & 0.3985 & 0.1244  & <environment: 0x55b201f16f48> & <environment: 0x55b201f41bd0> & M\\\\\n",
       "\\end{tabular}\n"
      ],
      "text/markdown": [
       "\n",
       "A data.frame: 6 x 35\n",
       "\n",
       "| id &lt;chr&gt; | diagnosis &lt;chr&gt; | radius_mean &lt;chr&gt; | texture_mean &lt;chr&gt; | perimeter_mean &lt;chr&gt; | area_mean &lt;chr&gt; | smoothness_mean &lt;chr&gt; | compactness_mean &lt;chr&gt; | concavity_mean &lt;chr&gt; | concave_points_mean &lt;chr&gt; | ... ... | area_worst &lt;chr&gt; | smoothness_worst &lt;chr&gt; | compactness_worst &lt;chr&gt; | concavity_worst &lt;chr&gt; | concave_points_worst &lt;chr&gt; | symmetry_worst &lt;chr&gt; | fractal_dimension_worst &lt;chr&gt; | rawPrediction &lt;list&gt; | probability &lt;list&gt; | prediction &lt;chr&gt; |\n",
       "|---|---|---|---|---|---|---|---|---|---|---|---|---|---|---|---|---|---|---|---|---|\n",
       "| 842302   | M | 17.99 | 10.38 | 122.8 | 1001  | 0.1184  | 0.2776  | 0.3001 | 0.1471  | ... | 2019  | 0.1622 | 0.6656 | 0.7119 | 0.2654 | 0.4601 | 0.1189  | &lt;environment: 0x55b201eee528&gt; | &lt;environment: 0x55b201f1c618&gt; | M |\n",
       "| 842517   | M | 20.57 | 17.77 | 132.9 | 1326  | 0.08474 | 0.07864 | 0.0869 | 0.07017 | ... | 1956  | 0.1238 | 0.1866 | 0.2416 | 0.186  | 0.275  | 0.08902 | &lt;environment: 0x55b201efded0&gt; | &lt;environment: 0x55b201f29ea8&gt; | M |\n",
       "| 84300903 | M | 19.69 | 21.25 | 130   | 1203  | 0.1096  | 0.1599  | 0.1974 | 0.1279  | ... | 1709  | 0.1444 | 0.4245 | 0.4504 | 0.243  | 0.3613 | 0.08758 | &lt;environment: 0x55b201f03060&gt; | &lt;environment: 0x55b201f2ffc0&gt; | M |\n",
       "| 84348301 | M | 11.42 | 20.38 | 77.58 | 386.1 | 0.1425  | 0.2839  | 0.2414 | 0.1052  | ... | 567.7 | 0.2098 | 0.8663 | 0.6869 | 0.2575 | 0.6638 | 0.173   | &lt;environment: 0x55b201f09530&gt; | &lt;environment: 0x55b201f38ab0&gt; | B |\n",
       "| 84358402 | M | 20.29 | 14.34 | 135.1 | 1297  | 0.1003  | 0.1328  | 0.198  | 0.1043  | ... | 1575  | 0.1374 | 0.205  | 0.4    | 0.1625 | 0.2364 | 0.07678 | &lt;environment: 0x55b201f0eb90&gt; | &lt;environment: 0x55b201f3ef80&gt; | M |\n",
       "| 843786   | M | 12.45 | 15.7  | 82.57 | 477.1 | 0.1278  | 0.17    | 0.1578 | 0.08089 | ... | 741.6 | 0.1791 | 0.5249 | 0.5355 | 0.1741 | 0.3985 | 0.1244  | &lt;environment: 0x55b201f16f48&gt; | &lt;environment: 0x55b201f41bd0&gt; | M |\n",
       "\n"
      ],
      "text/plain": [
       "  id       diagnosis radius_mean texture_mean perimeter_mean area_mean\n",
       "1 842302   M         17.99       10.38        122.8          1001     \n",
       "2 842517   M         20.57       17.77        132.9          1326     \n",
       "3 84300903 M         19.69       21.25        130            1203     \n",
       "4 84348301 M         11.42       20.38        77.58          386.1    \n",
       "5 84358402 M         20.29       14.34        135.1          1297     \n",
       "6 843786   M         12.45       15.7         82.57          477.1    \n",
       "  smoothness_mean compactness_mean concavity_mean concave_points_mean ...\n",
       "1 0.1184          0.2776           0.3001         0.1471              ...\n",
       "2 0.08474         0.07864          0.0869         0.07017             ...\n",
       "3 0.1096          0.1599           0.1974         0.1279              ...\n",
       "4 0.1425          0.2839           0.2414         0.1052              ...\n",
       "5 0.1003          0.1328           0.198          0.1043              ...\n",
       "6 0.1278          0.17             0.1578         0.08089             ...\n",
       "  area_worst smoothness_worst compactness_worst concavity_worst\n",
       "1 2019       0.1622           0.6656            0.7119         \n",
       "2 1956       0.1238           0.1866            0.2416         \n",
       "3 1709       0.1444           0.4245            0.4504         \n",
       "4 567.7      0.2098           0.8663            0.6869         \n",
       "5 1575       0.1374           0.205             0.4            \n",
       "6 741.6      0.1791           0.5249            0.5355         \n",
       "  concave_points_worst symmetry_worst fractal_dimension_worst\n",
       "1 0.2654               0.4601         0.1189                 \n",
       "2 0.186                0.275          0.08902                \n",
       "3 0.243                0.3613         0.08758                \n",
       "4 0.2575               0.6638         0.173                  \n",
       "5 0.1625               0.2364         0.07678                \n",
       "6 0.1741               0.3985         0.1244                 \n",
       "  rawPrediction                 probability                   prediction\n",
       "1 <environment: 0x55b201eee528> <environment: 0x55b201f1c618> M         \n",
       "2 <environment: 0x55b201efded0> <environment: 0x55b201f29ea8> M         \n",
       "3 <environment: 0x55b201f03060> <environment: 0x55b201f2ffc0> M         \n",
       "4 <environment: 0x55b201f09530> <environment: 0x55b201f38ab0> B         \n",
       "5 <environment: 0x55b201f0eb90> <environment: 0x55b201f3ef80> M         \n",
       "6 <environment: 0x55b201f16f48> <environment: 0x55b201f41bd0> M         "
      ]
     },
     "metadata": {},
     "output_type": "display_data"
    }
   ],
   "source": [
    "model <- spark.gbt(\n",
    "    df, \n",
    "    diagnosis ~ radius_mean + texture_mean + perimeter_mean + area_mean + \n",
    "                smoothness_mean + compactness_mean + concavity_mean + \n",
    "                concave_points_mean + symmetry_mean + \n",
    "                fractal_dimension_mean + radius_se + texture_se + \n",
    "                perimeter_se + area_se + smoothness_se + compactness_se + \n",
    "                concavity_se + concave_points_se + symmetry_se + \n",
    "                fractal_dimension_se + radius_worst + texture_worst + \n",
    "                perimeter_worst + area_worst + smoothness_worst + \n",
    "                compactness_worst + concavity_worst + \n",
    "                concave_points_worst + symmetry_worst + \n",
    "                fractal_dimension_worst,    \n",
    "    \"classification\",\n",
    "    maxIter = 50)\n",
    "\n",
    "# Prediction\n",
    "fitted_gbt <- predict(model, df)\n",
    "head(fitted_gbt)"
   ]
  }
 ],
 "metadata": {
  "kernel_info": {
   "name": "ir"
  },
  "kernelspec": {
   "display_name": "R",
   "language": "R",
   "name": "ir"
  },
  "language_info": {
   "codemirror_mode": "r",
   "file_extension": ".r",
   "mimetype": "text/x-r-source",
   "name": "R",
   "pygments_lexer": "r",
   "version": "3.6.0"
  },
  "nteract": {
   "version": "0.8.3"
  },
  "varInspector": {
   "cols": {
    "lenName": 16,
    "lenType": 16,
    "lenVar": 40
   },
   "kernels_config": {
    "python": {
     "delete_cmd_postfix": "",
     "delete_cmd_prefix": "del ",
     "library": "var_list.py",
     "varRefreshCmd": "print(var_dic_list())"
    },
    "r": {
     "delete_cmd_postfix": ") ",
     "delete_cmd_prefix": "rm(",
     "library": "var_list.r",
     "varRefreshCmd": "cat(var_dic_list()) "
    }
   },
   "types_to_exclude": [
    "module",
    "function",
    "builtin_function_or_method",
    "instance",
    "_Feature"
   ],
   "window_display": false
  }
 },
 "nbformat": 4,
 "nbformat_minor": 4
}
