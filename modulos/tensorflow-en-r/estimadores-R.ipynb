{
 "cells": [
  {
   "cell_type": "markdown",
   "metadata": {},
   "source": [
    "Preparación de modelos base usando estimadores\n",
    "==="
   ]
  },
  {
   "cell_type": "code",
   "execution_count": 10,
   "metadata": {},
   "outputs": [],
   "source": [
    "##\n",
    "## Preparación\n",
    "##\n",
    "library(tensorflow)\n",
    "library(tfestimators)\n"
   ]
  },
  {
   "cell_type": "code",
   "execution_count": 11,
   "metadata": {},
   "outputs": [
    {
     "data": {
      "image/png": "[encoded data removed]",
      "text/plain": [
       "plot without title"
      ]
     },
     "metadata": {},
     "output_type": "display_data"
    }
   ],
   "source": [
    "##\n",
    "## datos del problema propuesto\n",
    "##\n",
    "x <- c(-0.6525,   2.7287,   1.6849,  -0.1042,  -0.3690,  \n",
    "       -0.0787,   0.4605,  -0.8402,  -0.0701,  -0.4003,   \n",
    "        1.4793,  -1.7196,   1.4982,   0.8647,   0.7583,   \n",
    "        1.9546,   0.1115,  -0.4049,  -0.1491,  -1.0224,  \n",
    "       -0.4326,   0.9082,   1.6299,  -0.1497,  -0.0290)\n",
    "\n",
    "d <- c(-0.2255,   1.5404,   1.1272,   0.2718,   0.1589,\n",
    "        0.0193,   0.2585,  -0.0745,   0.2373,   0.1750,\n",
    "        1.0281,  -0.6345,   0.9896,   0.7177,   0.6843,\n",
    "        0.8840,   0.2178,   0.0518,   0.2091,  -0.0782,\n",
    "        0.0247,   0.6982,   0.8172,   0.0880,   0.2821)\n",
    "\n",
    "options(repr.plot.width=5, repr.plot.height=5)\n",
    "plot(x, d, type = 'p', pch = 21, bg = 'gray', cex = 0.8)"
   ]
  },
  {
   "cell_type": "markdown",
   "metadata": {},
   "source": [
    "## Funciones de entrada a los estimadores"
   ]
  },
  {
   "cell_type": "code",
   "execution_count": 16,
   "metadata": {},
   "outputs": [
    {
     "ename": "ERROR",
     "evalue": "Error in py_get_attr_impl(x, name, silent): AttributeError: 'module' object has no attribute 'numeric_column'\n",
     "output_type": "error",
     "traceback": [
      "Error in py_get_attr_impl(x, name, silent): AttributeError: 'module' object has no attribute 'numeric_column'\nTraceback:\n",
      "1. feature_columns(column_numeric(\"x\"))",
      "2. lapply(quos(...), function(quo) {\n .     expr <- quo_expr(quo)\n .     if (is_formula(expr, lhs = TRUE)) {\n .         lhs <- expr[[2]]\n .         rhs <- expr[[3]]\n .         injected <- as.call(c(node_car(get_expr(rhs)), lhs, node_cdr(get_expr(rhs))))\n .         quo <- set_expr(quo, injected)\n .     }\n .     rlang::eval_tidy(quo)\n . })",
      "3. FUN(X[[i]], ...)",
      "4. rlang::eval_tidy(quo)",
      "5. column_numeric(\"x\")",
      "6. create_columns(..., f = function(column) {\n .     feature_column_lib$numeric_column(key = column, shape = cast_scalar_integer(shape), \n .         default_value = default_value, dtype = dtype, normalizer_fn = normalizer_fn)\n . })",
      "7. lapply(columns, f)",
      "8. FUN(X[[i]], ...)",
      "9. feature_column_lib$numeric_column",
      "10. `$.python.builtin.module`(feature_column_lib, numeric_column)",
      "11. `$.python.builtin.object`(x, name)",
      "12. py_get_attr_or_item(x, name, TRUE)",
      "13. py_get_attr(x, name)",
      "14. py_get_attr_impl(x, name, silent)"
     ]
    }
   ],
   "source": [
    "## Indica que la columna 'x' es numérica\n",
    "cols <- feature_columns(\n",
    "    column_numeric(\"x\")\n",
    ")"
   ]
  },
  {
   "cell_type": "code",
   "execution_count": 12,
   "metadata": {},
   "outputs": [
    {
     "ename": "ERROR",
     "evalue": "Error in py_get_attr_impl(x, name, silent): AttributeError: 'module' object has no attribute 'numeric_column'\n",
     "output_type": "error",
     "traceback": [
      "Error in py_get_attr_impl(x, name, silent): AttributeError: 'module' object has no attribute 'numeric_column'\nTraceback:\n",
      "1. feature_columns(column_numeric(\"x\"))",
      "2. lapply(quos(...), function(quo) {\n .     expr <- quo_expr(quo)\n .     if (is_formula(expr, lhs = TRUE)) {\n .         lhs <- expr[[2]]\n .         rhs <- expr[[3]]\n .         injected <- as.call(c(node_car(get_expr(rhs)), lhs, node_cdr(get_expr(rhs))))\n .         quo <- set_expr(quo, injected)\n .     }\n .     rlang::eval_tidy(quo)\n . })",
      "3. FUN(X[[i]], ...)",
      "4. rlang::eval_tidy(quo)",
      "5. column_numeric(\"x\")",
      "6. create_columns(..., f = function(column) {\n .     feature_column_lib$numeric_column(key = column, shape = cast_scalar_integer(shape), \n .         default_value = default_value, dtype = dtype, normalizer_fn = normalizer_fn)\n . })",
      "7. lapply(columns, f)",
      "8. FUN(X[[i]], ...)",
      "9. feature_column_lib$numeric_column",
      "10. `$.python.builtin.module`(feature_column_lib, numeric_column)",
      "11. `$.python.builtin.object`(x, name)",
      "12. py_get_attr_or_item(x, name, TRUE)",
      "13. py_get_attr(x, name)",
      "14. py_get_attr_impl(x, name, silent)"
     ]
    }
   ],
   "source": [
    "## Función de entrada para el estimador.\n",
    "## Debe retornar una tupla con (entradas, salida).\n",
    "## Note que features es un diccionario que contine \n",
    "## una paraja clave-valor por cada variable \n",
    "## independiente\n",
    "input_fn_train <- function() \n",
    "    {\n",
    "    features <- dict('x'=np.array(x))\n",
    "    labels <- np.array(d)\n",
    "    return(list(features, labels))\n",
    "    }\n",
    "\n",
    "\n",
    "## Esta función es igual que la anterior, pero \n",
    "## retorna únicamente el data.frame de variables\n",
    "## independientes\n",
    "input_fn_predict <- function()\n",
    "    {\n",
    "    feature_columns = list(x=x)\n",
    "    return(features)\n",
    "    }"
   ]
  },
  {
   "cell_type": "markdown",
   "metadata": {},
   "source": [
    "## Linear Regressor"
   ]
  },
  {
   "cell_type": "code",
   "execution_count": 5,
   "metadata": {},
   "outputs": [],
   "source": [
    "## Construye el estimador lineal, cuya salida es\n",
    "## el resultado de la regresión lineal entre\n",
    "## x y y.\n",
    "regressor <- tf.estimator.LinearRegressor(\n",
    "    feature_columns = cols)\n",
    "\n",
    "## Entrenamiento\n",
    "regressor %>% train(\n",
    "    input_fn=input_fn_train,\n",
    "    steps=100)\n",
    "\n",
    "## Pronostica para nuevos valores. En este\n",
    "## caso se usa la misma función de entrada que\n",
    "## para el entrenamiento.\n",
    "results <- regressor %>% predict(\n",
    "    input_fn=input_fn_predict)"
   ]
  },
  {
   "cell_type": "code",
   "execution_count": 5,
   "metadata": {},
   "outputs": [
    {
     "name": "stdout",
     "output_type": "stream",
     "text": [
      "Pronosticos:\n",
      "  -0.6525   -0.0571\n",
      "   2.7287    1.4798\n",
      "   1.6849    1.0054\n",
      "  -0.1042    0.1922\n",
      "  -0.3690    0.0718\n",
      "  -0.0787    0.2038\n",
      "   0.4605    0.4488\n",
      "  -0.8402   -0.1424\n",
      "  -0.0701    0.2077\n",
      "  -0.4003    0.0576\n",
      "   1.4793    0.9119\n",
      "  -1.7196   -0.5421\n",
      "   1.4982    0.9205\n",
      "   0.8647    0.6326\n",
      "   0.7583    0.5842\n",
      "   1.9546    1.1279\n",
      "   0.1115    0.2902\n",
      "  -0.4049    0.0555\n",
      "  -0.1491    0.1718\n",
      "  -1.0224   -0.2252\n",
      "  -0.4326    0.0429\n",
      "   0.9082    0.6523\n",
      "   1.6299    0.9804\n",
      "  -0.1497    0.1715\n",
      "  -0.0290    0.2263\n",
      "\n",
      "Métricas de error\n",
      "  average_loss    :     0.0129\n",
      "  global_step     :   100.0000\n",
      "  label/mean      :     0.3787\n",
      "  loss            :     0.3213\n",
      "  prediction/mean :     0.3787\n",
      "\n"
     ]
    },
    {
     "data": {
      "image/png": "[encoded data removed]",
      "text/plain": [
       "<Figure size 432x288 with 1 Axes>"
      ]
     },
     "metadata": {
      "needs_background": "light"
     },
     "output_type": "display_data"
    }
   ],
   "source": [
    "## Imprime los resultados.\n",
    "forecasts <- c()\n",
    "print('Pronosticos:')\n",
    "for i, value in zip(x, results):\n",
    "    ## Value es un diccionario por cada posible valor de x.\n",
    "    ## El contenido de la clave predictions es un vector.\n",
    "    print('  {:7.4f}   {:7.4f}'.format(i, value['predictions'][0]))\n",
    "    \n",
    "    ## Se almacenan los valores pronosticodos en una lista\n",
    "    ## para poder graficarlos \n",
    "    forecasts += value['predictions'].tolist()\n",
    "\n",
    "## Grafica los puntos de la muestra de datos\n",
    "plot(x, d, 'o')\n",
    "\n",
    "## Grafica los pronósticos del modelo\n",
    "lines(x, forecasts, '-', color = 'red');\n",
    "\n",
    "## Imprime los estadísticos de error.\n",
    "metrics <- regressor.evaluate(input_fn=input_fn_train, steps=1)\n",
    "print('')\n",
    "print('Métricas de error')\n",
    "for key in sorted(metrics.keys()):\n",
    "    print(\"  {:16s}: {:10.4f}\".format(key, metrics[key]))\n",
    "print('')"
   ]
  }
 ],
 "metadata": {
  "kernelspec": {
   "display_name": "R",
   "language": "R",
   "name": "ir"
  },
  "language_info": {
   "codemirror_mode": "r",
   "file_extension": ".r",
   "mimetype": "text/x-r-source",
   "name": "R",
   "pygments_lexer": "r",
   "version": "3.4.4"
  }
 },
 "nbformat": 4,
 "nbformat_minor": 2
}
