{
 "cells": [
  {
   "cell_type": "markdown",
   "id": "7f8fcfa0-86dc-4739-959d-fe5dde256310",
   "metadata": {
    "tags": []
   },
   "source": [
    "Evaluación del modelo\n",
    "===\n",
    "\n",
    "* Ultima modificación: Mayo 14, 2022"
   ]
  },
  {
   "cell_type": "markdown",
   "id": "93b722cb-319d-4642-ac7b-f6117e60ae0b",
   "metadata": {},
   "source": [
    "https://www.mlflow.org/docs/latest/models.html"
   ]
  },
  {
   "cell_type": "markdown",
   "id": "fe20025a-9975-4684-ab92-3025911cd31a",
   "metadata": {},
   "source": [
    "Código base\n",
    "---"
   ]
  },
  {
   "cell_type": "code",
   "execution_count": 1,
   "id": "435ea39e-f3a7-4a43-82d9-dc14a0e69354",
   "metadata": {},
   "outputs": [],
   "source": [
    "def load_data():\n",
    "\n",
    "    import pandas as pd\n",
    "\n",
    "    url = \"http://archive.ics.uci.edu/ml/machine-learning-databases/wine-quality/winequality-red.csv\"\n",
    "    df = pd.read_csv(url, sep=\";\")\n",
    "    df['quality'] = pd.to_numeric(df['quality'])\n",
    "\n",
    "    y = df[\"quality\"]\n",
    "    x = df.copy()\n",
    "    x.pop(\"quality\")\n",
    "\n",
    "    return x, y\n",
    "\n",
    "def make_train_test_split(x, y):\n",
    "\n",
    "    from sklearn.model_selection import train_test_split\n",
    "\n",
    "    (x_train, x_test, y_train, y_test) = train_test_split(\n",
    "        x,\n",
    "        y,\n",
    "        test_size=0.25,\n",
    "        random_state=123456,\n",
    "    )\n",
    "    return x_train, x_test, y_train, y_test\n",
    "\n",
    "def eval_metrics(y_true, y_pred):\n",
    "\n",
    "    from sklearn.metrics import mean_absolute_error, mean_squared_error, r2_score\n",
    "\n",
    "    mse = mean_squared_error(y_true, y_pred)\n",
    "    mae = mean_absolute_error(y_true, y_pred)\n",
    "    r2 = r2_score(y_true, y_pred)\n",
    "\n",
    "    return mse, mae, r2\n",
    "\n",
    "def report(estimator, mse, mae, r2):\n",
    "\n",
    "    print(estimator, \":\", sep=\"\")\n",
    "    print(f\"  MSE: {mse}\")\n",
    "    print(f\"  MAE: {mae}\")\n",
    "    print(f\"  R2: {r2}\")\n",
    "    \n",
    "def train_estimator(alpha=0.5, l1_ratio=0.5, verbose=1):\n",
    "\n",
    "    import mlflow.sklearn\n",
    "    from sklearn.linear_model import ElasticNet\n",
    "\n",
    "    import mlflow\n",
    "\n",
    "    x, y = load_data()\n",
    "    x_train, x_test, y_train, y_test = make_train_test_split(x, y)\n",
    "    \n",
    "    print('Tracking directory:', mlflow.get_tracking_uri())\n",
    "    \n",
    "    with mlflow.start_run():\n",
    "    \n",
    "        estimator = ElasticNet(alpha=alpha, l1_ratio=l1_ratio, random_state=12345)\n",
    "        estimator.fit(x_train, y_train)\n",
    "        mse, mae, r2 = eval_metrics(y_test, y_pred=estimator.predict(x_test))\n",
    "        if verbose > 0:\n",
    "            report(estimator, mse, mae, r2)\n",
    "         \n",
    "        \n",
    "        # -------------------------------------------------------------------------------\n",
    "        # evaluación del modelo\n",
    "        #\n",
    "        eval_data = x_test\n",
    "        eval_data['quality'] = y_test\n",
    "        \n",
    "        # mlflow.sklearn.log_model(estimator, \"model\")\n",
    "        model_info = mlflow.sklearn.log_model(estimator, \"model\")\n",
    "        mlflow.evaluate(\n",
    "            model_info.model_uri,\n",
    "            eval_data,\n",
    "            targets=\"quality\",\n",
    "            model_type=\"regressor\", # \"regressor\" | \"classifier\"\n",
    "            dataset_name=\"wine-quality\",\n",
    "        )"
   ]
  },
  {
   "cell_type": "markdown",
   "id": "9da47c38-37f9-425e-a603-cf0c0b31d211",
   "metadata": {},
   "source": [
    "Almacenamiento del modelo de prueba\n",
    "---"
   ]
  },
  {
   "cell_type": "code",
   "execution_count": 2,
   "id": "3506e0a7-bda7-472a-981b-1f9f6a8b810f",
   "metadata": {},
   "outputs": [
    {
     "name": "stdout",
     "output_type": "stream",
     "text": [
      "Tracking directory: file:///Volumes/GitHub/courses-source/notebooks/mlflow/mlruns\n",
      "ElasticNet(alpha=0.1, l1_ratio=0.05, random_state=12345):\n",
      "  MSE: 0.48683363717622585\n",
      "  MAE: 0.5493759222336462\n",
      "  R2: 0.30150487868829456\n"
     ]
    },
    {
     "name": "stderr",
     "output_type": "stream",
     "text": [
      "/Volumes/GitHub/courses-source/notebooks/mlflow/.venv/lib/python3.8/site-packages/setuptools/distutils_patch.py:25: UserWarning: Distutils was imported before Setuptools. This usage is discouraged and may exhibit undesirable behaviors or errors. Please use Setuptools' objects directly or at least import Setuptools first.\n",
      "  warnings.warn(\n",
      "2022/06/03 22:48:12 INFO mlflow.models.evaluation.base: Evaluating the model with the default evaluator.\n",
      "2022/06/03 22:48:12 WARNING mlflow.models.evaluation.default_evaluator: According to the evaluation dataset label values, the model type looks like classifier, but you specified model type regressor. Please verify that you set the `model_type` and `dataset` arguments correctly.\n",
      "/Volumes/GitHub/courses-source/notebooks/mlflow/.venv/lib/python3.8/site-packages/tqdm/auto.py:22: TqdmWarning: IProgress not found. Please update jupyter and ipywidgets. See https://ipywidgets.readthedocs.io/en/stable/user_install.html\n",
      "  from .autonotebook import tqdm as notebook_tqdm\n",
      "2022/06/03 22:48:13 INFO mlflow.models.evaluation.default_evaluator: Shap explainer Linear is used.\n",
      "Unable to serialize underlying model using MLflow, will use SHAP serialization\n",
      "2022/06/03 22:48:13 WARNING mlflow.models.evaluation.default_evaluator: Log explainer failed. Reason: 'ElasticNet' object has no attribute 'save'\n"
     ]
    }
   ],
   "source": [
    "!rm -rf mlruns\n",
    "train_estimator(0.1, 0.05)"
   ]
  },
  {
   "cell_type": "markdown",
   "id": "d1445b5c-1ef0-4979-9d48-34584a78f05e",
   "metadata": {},
   "source": [
    "Visualización con mlflow ui\n",
    "---"
   ]
  },
  {
   "cell_type": "markdown",
   "id": "735b88d6-1fb4-4bf0-8957-0470af7faa9f",
   "metadata": {},
   "source": [
    "Para visualizar la interfase use:\n",
    "\n",
    "```bash\n",
    "mlflow ui\n",
    "```\n",
    "\n",
    "**Nota:** En docker usar:\n",
    "\n",
    "```bash\n",
    "mlflow ui --host 0.0.0.0 \n",
    "``` \n",
    "\n",
    "con: \n",
    "\n",
    "http://127.0.0.1:5001\n"
   ]
  },
  {
   "cell_type": "markdown",
   "id": "fce62367-52ad-43bd-819f-d7118fe3356a",
   "metadata": {},
   "source": [
    "![assets/mlflow-model-2-valuate-0.png](assets/mlflow-model-2-valuate-0.png)"
   ]
  },
  {
   "cell_type": "markdown",
   "id": "62b000be-04db-4c88-82a1-4a047dbafac8",
   "metadata": {},
   "source": [
    "![assets/mlflow-model-2-valuate-1.png](assets/mlflow-model-2-valuate-1.png)"
   ]
  },
  {
   "cell_type": "markdown",
   "id": "d8b41abf-91fd-415f-9343-97ac2b9bc90a",
   "metadata": {},
   "source": [
    "![assets/mlflow-model-2-valuate-2.png](assets/mlflow-model-2-valuate-2.png)"
   ]
  },
  {
   "cell_type": "markdown",
   "id": "20a201fc-04ed-4db1-bc55-8fda02baf62f",
   "metadata": {},
   "source": [
    "![assets/mlflow-model-2-valuate-3.png](assets/mlflow-model-2-valuate-3.png)"
   ]
  }
 ],
 "metadata": {
  "kernelspec": {
   "display_name": "Python 3 (ipykernel)",
   "language": "python",
   "name": "python3"
  },
  "language_info": {
   "codemirror_mode": {
    "name": "ipython",
    "version": 3
   },
   "file_extension": ".py",
   "mimetype": "text/x-python",
   "name": "python",
   "nbconvert_exporter": "python",
   "pygments_lexer": "ipython3",
   "version": "3.8.9"
  }
 },
 "nbformat": 4,
 "nbformat_minor": 5
}
