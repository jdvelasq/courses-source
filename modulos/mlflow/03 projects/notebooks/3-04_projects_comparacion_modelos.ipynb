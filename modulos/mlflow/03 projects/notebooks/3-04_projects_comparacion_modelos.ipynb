{
 "cells": [
  {
   "cell_type": "markdown",
   "id": "7f8fcfa0-86dc-4739-959d-fe5dde256310",
   "metadata": {
    "tags": []
   },
   "source": [
    "Proyectos con varios modelos\n",
    "===\n",
    "\n",
    "* Ultima modificación: Mayo 14, 2022"
   ]
  },
  {
   "cell_type": "markdown",
   "id": "142bc361-9fd0-448d-bf47-b4bb3a4a3daa",
   "metadata": {},
   "source": [
    "Diretorio para almacenar el proyecto\n",
    "---"
   ]
  },
  {
   "cell_type": "code",
   "execution_count": 1,
   "id": "949ab1cd-d237-4139-9c69-c4a3a3d56168",
   "metadata": {},
   "outputs": [],
   "source": [
    "#\n",
    "# Crea una carpeta para el proyecto. El proyecto también puede estar alojado en\n",
    "# un repositorio de GitHub.\n",
    "#\n",
    "!rm -rf mlruns\n",
    "!rm -rf /tmp/example\n",
    "!mkdir /tmp/example"
   ]
  },
  {
   "cell_type": "markdown",
   "id": "f48ad37b-fa6a-45f9-9b14-22f4ea90e384",
   "metadata": {},
   "source": [
    "Código en Python\n",
    "---"
   ]
  },
  {
   "cell_type": "code",
   "execution_count": 2,
   "id": "b5b94903-b48b-4f10-b695-6311f738c22c",
   "metadata": {},
   "outputs": [
    {
     "name": "stdout",
     "output_type": "stream",
     "text": [
      "Writing /tmp/example/common.py\n"
     ]
    }
   ],
   "source": [
    "%%writefile /tmp/example/common.py\n",
    "\n",
    "# ---------------------------------------------------------------------------------------\n",
    "#\n",
    "# Codigo comun a todos los modelos\n",
    "#\n",
    "# ---------------------------------------------------------------------------------------\n",
    "\n",
    "\n",
    "def load_data():\n",
    "\n",
    "    import pandas as pd\n",
    "\n",
    "    url = \"https://raw.githubusercontent.com/jdvelasq/datalabs/master/datasets/concrete.csv\"\n",
    "    df = pd.read_csv(url)\n",
    "\n",
    "    y = df[\"strength\"]\n",
    "    x = df.copy()\n",
    "    x.pop(\"strength\")\n",
    "\n",
    "    return x, y\n",
    "\n",
    "\n",
    "def make_train_test_split(x, y):\n",
    "\n",
    "    from sklearn.model_selection import train_test_split\n",
    "\n",
    "    (x_train, x_test, y_train, y_test) = train_test_split(\n",
    "        x,\n",
    "        y,\n",
    "        test_size=0.25,\n",
    "        random_state=123456,\n",
    "    )\n",
    "    return x_train, x_test, y_train, y_test\n",
    "\n",
    "\n",
    "def eval_metrics(y_true, y_pred):\n",
    "\n",
    "    from sklearn.metrics import mean_absolute_error, mean_squared_error, r2_score\n",
    "\n",
    "    mse = mean_squared_error(y_true, y_pred)\n",
    "    mae = mean_absolute_error(y_true, y_pred)\n",
    "    r2 = r2_score(y_true, y_pred)\n",
    "\n",
    "    return mse, mae, r2\n",
    "\n",
    "\n",
    "def report(estimator, mse, mae, r2):\n",
    "\n",
    "    print(estimator, \":\", sep=\"\")\n",
    "    print(f\"  MSE: {mse}\")\n",
    "    print(f\"  MAE: {mae}\")\n",
    "    print(f\"  R2: {r2}\")\n",
    "\n",
    "\n",
    "def log_metrics(mse, mae, r2):\n",
    "\n",
    "    import mlflow\n",
    "\n",
    "    mlflow.log_metric(\"mse\", mse)\n",
    "    mlflow.log_metric(\"mae\", mae)\n",
    "    mlflow.log_metric(\"r2\", r2)\n",
    "\n",
    "\n",
    "def make_pipeline(estimator):\n",
    "\n",
    "    from sklearn.pipeline import Pipeline\n",
    "    from sklearn.preprocessing import MinMaxScaler\n",
    "\n",
    "    pipeline = Pipeline(\n",
    "        steps=[\n",
    "            (\"minMaxScaler\", MinMaxScaler()),\n",
    "            (\"estimator\", estimator),\n",
    "        ],\n",
    "    )\n",
    "\n",
    "    return pipeline"
   ]
  },
  {
   "cell_type": "markdown",
   "id": "6498a66c-6d7b-40a6-82f6-7bf6250bf11b",
   "metadata": {},
   "source": [
    "Modelo de regresión lineal\n",
    "---"
   ]
  },
  {
   "cell_type": "code",
   "execution_count": 3,
   "id": "dad0db0c-a286-480e-8736-58ea602dbea2",
   "metadata": {},
   "outputs": [
    {
     "name": "stdout",
     "output_type": "stream",
     "text": [
      "Writing /tmp/example/run_linear_regression.py\n"
     ]
    }
   ],
   "source": [
    "%%writefile /tmp/example/run_linear_regression.py\n",
    "\n",
    "\n",
    "def run():\n",
    "\n",
    "    import sys\n",
    "\n",
    "    import common\n",
    "    from sklearn.linear_model import LinearRegression\n",
    "\n",
    "    import mlflow\n",
    "\n",
    "    x, y = common.load_data()\n",
    "    x_train, x_test, y_train, y_test = common.make_train_test_split(x, y)\n",
    "\n",
    "    mlflow.sklearn.autolog()\n",
    "\n",
    "    estimator = common.make_pipeline(\n",
    "        estimator=LinearRegression(),\n",
    "    )\n",
    "\n",
    "    with mlflow.start_run():\n",
    "        estimator.fit(x_train, y_train)\n",
    "\n",
    "    mse, mae, r2 = common.eval_metrics(\n",
    "        y_true=y_test,\n",
    "        y_pred=estimator.predict(x_test),\n",
    "    )\n",
    "    common.log_metrics(mse, mae, r2)\n",
    "    common.report(estimator, mse, mae, r2)\n",
    "\n",
    "\n",
    "if __name__ == \"__main__\":\n",
    "    run()"
   ]
  },
  {
   "cell_type": "markdown",
   "id": "9d5718a5-1481-4ad4-a9d5-d93ac55d558b",
   "metadata": {},
   "source": [
    "Modelo de regresión con vecinos más cercanos\n",
    "---"
   ]
  },
  {
   "cell_type": "code",
   "execution_count": 4,
   "id": "a0eaeae3-b4fe-4a8c-9dde-65b310c2234a",
   "metadata": {},
   "outputs": [
    {
     "name": "stdout",
     "output_type": "stream",
     "text": [
      "Writing /tmp/example/run_k_neighbors_regressor.py\n"
     ]
    }
   ],
   "source": [
    "%%writefile /tmp/example/run_k_neighbors_regressor.py\n",
    "\n",
    "\n",
    "def run():\n",
    "\n",
    "    import sys\n",
    "\n",
    "    import common\n",
    "    from sklearn.neighbors import KNeighborsRegressor\n",
    "\n",
    "    import mlflow\n",
    "\n",
    "    x, y = common.load_data()\n",
    "    x_train, x_test, y_train, y_test = common.make_train_test_split(x, y)\n",
    "\n",
    "    n_neighbors = int(sys.argv[1])\n",
    "\n",
    "    mlflow.sklearn.autolog()\n",
    "\n",
    "    estimator = common.make_pipeline(\n",
    "        estimator=KNeighborsRegressor(n_neighbors=n_neighbors),\n",
    "    )\n",
    "\n",
    "    with mlflow.start_run():\n",
    "        estimator.fit(x_train, y_train)\n",
    "\n",
    "    mse, mae, r2 = common.eval_metrics(\n",
    "        y_true=y_test,\n",
    "        y_pred=estimator.predict(x_test),\n",
    "    )\n",
    "    common.log_metrics(mse, mae, r2)\n",
    "    common.report(estimator, mse, mae, r2)\n",
    "\n",
    "\n",
    "if __name__ == \"__main__\":\n",
    "    run()"
   ]
  },
  {
   "cell_type": "markdown",
   "id": "c0be612c-d79a-40f7-9884-505899c66c97",
   "metadata": {},
   "source": [
    "MLproject\n",
    "---"
   ]
  },
  {
   "cell_type": "code",
   "execution_count": 5,
   "id": "2507c922-ad2e-4852-bf73-e684b8ed6489",
   "metadata": {},
   "outputs": [
    {
     "name": "stdout",
     "output_type": "stream",
     "text": [
      "Writing /tmp/example/MLproject\n"
     ]
    }
   ],
   "source": [
    "%%writefile /tmp/example/MLproject\n",
    "name: proyecto de demostracion\n",
    "\n",
    "entry_points:\n",
    "    linear_regression:\n",
    "        command: 'python3 run_linear_regression.py'\n",
    "        \n",
    "        \n",
    "    k_neighbors_regressor:\n",
    "        parameters:\n",
    "            n_neighbors: {type: integer, default: 5}\n",
    "        command: 'python3 run_k_neighbors_regressor.py {n_neighbors}'\n",
    "        "
   ]
  },
  {
   "cell_type": "markdown",
   "id": "0537b2bd-ffbc-457f-ae83-25f740ce9ff0",
   "metadata": {
    "tags": []
   },
   "source": [
    "Creación de los experimentos\n",
    "---"
   ]
  },
  {
   "cell_type": "code",
   "execution_count": 6,
   "id": "fe6b8dc1-0811-47d0-bf64-8071290dc026",
   "metadata": {},
   "outputs": [
    {
     "name": "stdout",
     "output_type": "stream",
     "text": [
      "Created experiment 'linear_runs' with id 1\n"
     ]
    }
   ],
   "source": [
    "!mlflow experiments create -n linear_runs"
   ]
  },
  {
   "cell_type": "code",
   "execution_count": 7,
   "id": "64cb414a-dd79-4e75-a419-8a1bf018e169",
   "metadata": {},
   "outputs": [
    {
     "name": "stdout",
     "output_type": "stream",
     "text": [
      "Created experiment 'knn_runs' with id 2\n"
     ]
    }
   ],
   "source": [
    "!mlflow experiments create -n knn_runs"
   ]
  },
  {
   "cell_type": "markdown",
   "id": "dda7ea0e-bd45-4f08-bbc0-761fcac6266a",
   "metadata": {
    "tags": []
   },
   "source": [
    "Ejecución de los experimentos\n",
    "---"
   ]
  },
  {
   "cell_type": "code",
   "execution_count": 8,
   "id": "be25f8dc-42e5-4eb8-8d19-1863a25d4328",
   "metadata": {},
   "outputs": [
    {
     "name": "stdout",
     "output_type": "stream",
     "text": [
      "2022/06/04 03:26:25 INFO mlflow.projects.utils: === Created directory /tmp/tmph275gi_y for downloading remote URIs passed to arguments of type 'path' ===\n",
      "2022/06/04 03:26:25 INFO mlflow.projects.backend.local: === Running command 'python3 run_linear_regression.py' in run with ID 'c5fe221f5585414e9653e2f1b31ea5b3' === \n",
      "2022/06/04 03:26:26 WARNING mlflow.utils.autologging_utils: MLflow autologging encountered a warning: \"/usr/local/lib/python3.8/dist-packages/mlflow/models/signature.py:129: UserWarning: Hint: Inferred schema contains integer column(s). Integer columns in Python cannot represent missing values. If your input data contains missing values at inference time, it will be encoded as floats and will cause a schema enforcement error. The best way to avoid this problem is to infer the model schema based on a realistic data sample (training dataset) that includes missing values. Alternatively, you can declare integer columns as doubles (float64) whenever these columns may have missing values. See `Handling Integers With Missing Values <https://www.mlflow.org/docs/latest/models.html#handling-integers-with-missing-values>`_ for more details.\"\n",
      "Pipeline(steps=[('minMaxScaler', MinMaxScaler()),\n",
      "                ('estimator', LinearRegression())]):\n",
      "  MSE: 117.25636031414096\n",
      "  MAE: 8.526872668000976\n",
      "  R2: 0.6007675607096427\n",
      "2022/06/04 03:26:29 INFO mlflow.projects: === Run (ID 'c5fe221f5585414e9653e2f1b31ea5b3') succeeded ===\n"
     ]
    }
   ],
   "source": [
    "#\n",
    "# Ejecución del modelo de regresión lineal\n",
    "#\n",
    "!mlflow run --env-manager=local -e linear_regression --experiment-id 1 /tmp/example"
   ]
  },
  {
   "cell_type": "code",
   "execution_count": 9,
   "id": "31cb8e03-0b6b-472d-a228-cf9f6be366d3",
   "metadata": {},
   "outputs": [
    {
     "name": "stdout",
     "output_type": "stream",
     "text": [
      "\n",
      "----------------------------- neighbors = 1 -----------------------------\n",
      "2022/06/04 03:26:30 INFO mlflow.projects.utils: === Created directory /tmp/tmpt4sh7i1i for downloading remote URIs passed to arguments of type 'path' ===\n",
      "2022/06/04 03:26:30 INFO mlflow.projects.backend.local: === Running command 'python3 run_k_neighbors_regressor.py 1' in run with ID '0fdb31798713414bbbee9b90fbb08c04' === \n",
      "2022/06/04 03:26:32 WARNING mlflow.utils.autologging_utils: MLflow autologging encountered a warning: \"/usr/local/lib/python3.8/dist-packages/mlflow/models/signature.py:129: UserWarning: Hint: Inferred schema contains integer column(s). Integer columns in Python cannot represent missing values. If your input data contains missing values at inference time, it will be encoded as floats and will cause a schema enforcement error. The best way to avoid this problem is to infer the model schema based on a realistic data sample (training dataset) that includes missing values. Alternatively, you can declare integer columns as doubles (float64) whenever these columns may have missing values. See `Handling Integers With Missing Values <https://www.mlflow.org/docs/latest/models.html#handling-integers-with-missing-values>`_ for more details.\"\n",
      "Pipeline(steps=[('minMaxScaler', MinMaxScaler()),\n",
      "                ('estimator', KNeighborsRegressor(n_neighbors=1))]):\n",
      "  MSE: 85.1262027131783\n",
      "  MAE: 6.625852713178294\n",
      "  R2: 0.7101637688082918\n",
      "2022/06/04 03:26:34 INFO mlflow.projects: === Run (ID '0fdb31798713414bbbee9b90fbb08c04') succeeded ===\n",
      "\n",
      "\n",
      "----------------------------- neighbors = 2 -----------------------------\n",
      "2022/06/04 03:26:36 INFO mlflow.projects.utils: === Created directory /tmp/tmpmc9cmwbl for downloading remote URIs passed to arguments of type 'path' ===\n",
      "2022/06/04 03:26:36 INFO mlflow.projects.backend.local: === Running command 'python3 run_k_neighbors_regressor.py 2' in run with ID '1ed87be96bce4ffbb52093b72c8e2bf4' === \n",
      "2022/06/04 03:26:37 WARNING mlflow.utils.autologging_utils: MLflow autologging encountered a warning: \"/usr/local/lib/python3.8/dist-packages/mlflow/models/signature.py:129: UserWarning: Hint: Inferred schema contains integer column(s). Integer columns in Python cannot represent missing values. If your input data contains missing values at inference time, it will be encoded as floats and will cause a schema enforcement error. The best way to avoid this problem is to infer the model schema based on a realistic data sample (training dataset) that includes missing values. Alternatively, you can declare integer columns as doubles (float64) whenever these columns may have missing values. See `Handling Integers With Missing Values <https://www.mlflow.org/docs/latest/models.html#handling-integers-with-missing-values>`_ for more details.\"\n",
      "Pipeline(steps=[('minMaxScaler', MinMaxScaler()),\n",
      "                ('estimator', KNeighborsRegressor(n_neighbors=2))]):\n",
      "  MSE: 76.61187897286823\n",
      "  MAE: 6.543895348837211\n",
      "  R2: 0.739153191869395\n",
      "2022/06/04 03:26:40 INFO mlflow.projects: === Run (ID '1ed87be96bce4ffbb52093b72c8e2bf4') succeeded ===\n",
      "\n",
      "\n",
      "----------------------------- neighbors = 3 -----------------------------\n",
      "2022/06/04 03:26:41 INFO mlflow.projects.utils: === Created directory /tmp/tmpeo28cfm3 for downloading remote URIs passed to arguments of type 'path' ===\n",
      "2022/06/04 03:26:41 INFO mlflow.projects.backend.local: === Running command 'python3 run_k_neighbors_regressor.py 3' in run with ID 'f72bb96dbd864b57b02de9af1beb1134' === \n",
      "2022/06/04 03:26:43 WARNING mlflow.utils.autologging_utils: MLflow autologging encountered a warning: \"/usr/local/lib/python3.8/dist-packages/mlflow/models/signature.py:129: UserWarning: Hint: Inferred schema contains integer column(s). Integer columns in Python cannot represent missing values. If your input data contains missing values at inference time, it will be encoded as floats and will cause a schema enforcement error. The best way to avoid this problem is to infer the model schema based on a realistic data sample (training dataset) that includes missing values. Alternatively, you can declare integer columns as doubles (float64) whenever these columns may have missing values. See `Handling Integers With Missing Values <https://www.mlflow.org/docs/latest/models.html#handling-integers-with-missing-values>`_ for more details.\"\n",
      "Pipeline(steps=[('minMaxScaler', MinMaxScaler()),\n",
      "                ('estimator', KNeighborsRegressor(n_neighbors=3))]):\n",
      "  MSE: 80.28299621016365\n",
      "  MAE: 6.781472868217055\n",
      "  R2: 0.7266538350273459\n",
      "2022/06/04 03:26:45 INFO mlflow.projects: === Run (ID 'f72bb96dbd864b57b02de9af1beb1134') succeeded ===\n",
      "\n",
      "\n",
      "----------------------------- neighbors = 4 -----------------------------\n",
      "2022/06/04 03:26:46 INFO mlflow.projects.utils: === Created directory /tmp/tmpou8f7dvl for downloading remote URIs passed to arguments of type 'path' ===\n",
      "2022/06/04 03:26:46 INFO mlflow.projects.backend.local: === Running command 'python3 run_k_neighbors_regressor.py 4' in run with ID 'eefd48d5595942c7b0017c3978eb4e85' === \n",
      "2022/06/04 03:26:48 WARNING mlflow.utils.autologging_utils: MLflow autologging encountered a warning: \"/usr/local/lib/python3.8/dist-packages/mlflow/models/signature.py:129: UserWarning: Hint: Inferred schema contains integer column(s). Integer columns in Python cannot represent missing values. If your input data contains missing values at inference time, it will be encoded as floats and will cause a schema enforcement error. The best way to avoid this problem is to infer the model schema based on a realistic data sample (training dataset) that includes missing values. Alternatively, you can declare integer columns as doubles (float64) whenever these columns may have missing values. See `Handling Integers With Missing Values <https://www.mlflow.org/docs/latest/models.html#handling-integers-with-missing-values>`_ for more details.\"\n",
      "Pipeline(steps=[('minMaxScaler', MinMaxScaler()),\n",
      "                ('estimator', KNeighborsRegressor(n_neighbors=4))]):\n",
      "  MSE: 85.25375239825583\n",
      "  MAE: 6.975087209302326\n",
      "  R2: 0.7097294898338481\n",
      "2022/06/04 03:26:50 INFO mlflow.projects: === Run (ID 'eefd48d5595942c7b0017c3978eb4e85') succeeded ===\n",
      "\n"
     ]
    }
   ],
   "source": [
    "#\n",
    "# Ejecución del modelo de vecinos más cercanos\n",
    "#\n",
    "for n in range(1, 5):\n",
    "    print()\n",
    "    print(f\"----------------------------- neighbors = {n} -----------------------------\")\n",
    "    !mlflow run --env-manager=local -e k_neighbors_regressor --experiment-id 2  -P n_neighbors={n}  /tmp/example\n",
    "    print()\n",
    "    "
   ]
  },
  {
   "cell_type": "markdown",
   "id": "d232297e-8232-4b91-af6e-22a8d05d92b4",
   "metadata": {},
   "source": [
    "MLflow ui\n",
    "---"
   ]
  },
  {
   "cell_type": "markdown",
   "id": "229102d0-3581-47f3-a1b7-76328450ff07",
   "metadata": {},
   "source": [
    "Para visualizar la interfase use:\n",
    "\n",
    "```bash\n",
    "mlflow ui\n",
    "```\n",
    "\n",
    "**Nota:** En docker usar:\n",
    "\n",
    "```bash\n",
    "mlflow ui --host 0.0.0.0 \n",
    "``` \n",
    "\n",
    "con: \n",
    "\n",
    "http://127.0.0.1:5001\n"
   ]
  },
  {
   "cell_type": "markdown",
   "id": "23698113-ff0c-473d-a99b-9cba037379fe",
   "metadata": {},
   "source": [
    "![assets/mlflow-project-1-local-part-0](assets/mlflow-project-4-experiments-part-0.png)"
   ]
  },
  {
   "cell_type": "markdown",
   "id": "96f0e9f2-ea39-4296-a4a0-46f040b825f9",
   "metadata": {},
   "source": [
    "**Detalles de la corrida**"
   ]
  },
  {
   "cell_type": "markdown",
   "id": "27b3d550-1b36-4c90-91b8-c68178f0ea2a",
   "metadata": {},
   "source": [
    "![assets/mlflow-project-1-local-part-1](assets/mlflow-project-4-experiments-part-1.png)\n",
    "![assets/mlflow-project-1-local-part-2](assets/mlflow-project-4-experiments-part-2.png)"
   ]
  }
 ],
 "metadata": {
  "kernelspec": {
   "display_name": "Python 3 (ipykernel)",
   "language": "python",
   "name": "python3"
  },
  "language_info": {
   "codemirror_mode": {
    "name": "ipython",
    "version": 3
   },
   "file_extension": ".py",
   "mimetype": "text/x-python",
   "name": "python",
   "nbconvert_exporter": "python",
   "pygments_lexer": "ipython3",
   "version": "3.8.9"
  }
 },
 "nbformat": 4,
 "nbformat_minor": 5
}
