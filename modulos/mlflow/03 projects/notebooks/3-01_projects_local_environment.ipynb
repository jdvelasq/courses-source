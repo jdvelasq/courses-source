{
 "cells": [
  {
   "cell_type": "markdown",
   "id": "7f8fcfa0-86dc-4739-959d-fe5dde256310",
   "metadata": {
    "tags": []
   },
   "source": [
    "Creación de un proyecto básico en ambiente local\n",
    "===\n",
    "\n",
    "* Ultima modificación: Mayo 14, 2022"
   ]
  },
  {
   "cell_type": "markdown",
   "id": "142bc361-9fd0-448d-bf47-b4bb3a4a3daa",
   "metadata": {},
   "source": [
    "Diretorio para almacenar el proyecto\n",
    "---"
   ]
  },
  {
   "cell_type": "code",
   "execution_count": 1,
   "id": "949ab1cd-d237-4139-9c69-c4a3a3d56168",
   "metadata": {},
   "outputs": [],
   "source": [
    "#\n",
    "# Crea una carpeta para el proyecto. El proyecto también puede estar alojado en\n",
    "# un repositorio de GitHub.\n",
    "#\n",
    "!rm -rf mlruns\n",
    "!rm -rf /tmp/wine_prj\n",
    "!mkdir /tmp/wine_prj"
   ]
  },
  {
   "cell_type": "markdown",
   "id": "f48ad37b-fa6a-45f9-9b14-22f4ea90e384",
   "metadata": {},
   "source": [
    "Código en Python\n",
    "---"
   ]
  },
  {
   "cell_type": "code",
   "execution_count": 2,
   "id": "e0defd66-ecb9-451a-a8d8-2757d13bacb9",
   "metadata": {},
   "outputs": [
    {
     "name": "stdout",
     "output_type": "stream",
     "text": [
      "Writing /tmp/wine_prj/train_elasticnet.py\n"
     ]
    }
   ],
   "source": [
    "%%writefile /tmp/wine_prj/train_elasticnet.py\n",
    "\n",
    "#\n",
    "# Puede ejecutarse en la línea de comandos como:\n",
    "# $ python3 train_elasticnet.py {alpha} {l1_ratio} {verbose}\n",
    "#\n",
    "\n",
    "def load_data():\n",
    "\n",
    "    import pandas as pd\n",
    "\n",
    "    url = \"http://archive.ics.uci.edu/ml/machine-learning-databases/wine-quality/winequality-red.csv\"\n",
    "    df = pd.read_csv(url, sep=\";\")\n",
    "\n",
    "    y = df[\"quality\"]\n",
    "    x = df.copy()\n",
    "    x.pop(\"quality\")\n",
    "\n",
    "    return x, y\n",
    "\n",
    "\n",
    "def make_train_test_split(x, y):\n",
    "\n",
    "    from sklearn.model_selection import train_test_split\n",
    "\n",
    "    (x_train, x_test, y_train, y_test) = train_test_split(\n",
    "        x,\n",
    "        y,\n",
    "        test_size=0.25,\n",
    "        random_state=123456,\n",
    "    )\n",
    "    return x_train, x_test, y_train, y_test\n",
    "\n",
    "\n",
    "def eval_metrics(y_true, y_pred):\n",
    "\n",
    "    from sklearn.metrics import mean_absolute_error, mean_squared_error, r2_score\n",
    "\n",
    "    mse = mean_squared_error(y_true, y_pred)\n",
    "    mae = mean_absolute_error(y_true, y_pred)\n",
    "    r2 = r2_score(y_true, y_pred)\n",
    "\n",
    "    return mse, mae, r2\n",
    "\n",
    "\n",
    "def report(estimator, mse, mae, r2):\n",
    "\n",
    "    print(estimator, \":\", sep=\"\")\n",
    "    print(f\"  MSE: {mse}\")\n",
    "    print(f\"  MAE: {mae}\")\n",
    "    print(f\"  R2: {r2}\")\n",
    "\n",
    "\n",
    "def run():\n",
    "    #\n",
    "    # Entrena un modelo sklearn ElasticNet\n",
    "    #\n",
    "\n",
    "    import sys\n",
    "\n",
    "    from sklearn.linear_model import ElasticNet\n",
    "    \n",
    "    import mlflow    \n",
    "\n",
    "    x, y = load_data()\n",
    "    x_train, x_test, y_train, y_test = make_train_test_split(x, y)\n",
    "\n",
    "    alpha = float(sys.argv[1])\n",
    "    l1_ratio = float(sys.argv[2])\n",
    "    verbose = int(sys.argv[3])\n",
    "    \n",
    "    print('Tracking directory:', mlflow.get_tracking_uri())\n",
    "\n",
    "    with mlflow.start_run():\n",
    "    \n",
    "        estimator = ElasticNet(alpha=alpha, l1_ratio=l1_ratio, random_state=12345)\n",
    "        estimator.fit(x_train, y_train)\n",
    "        mse, mae, r2 = eval_metrics(y_test, y_pred=estimator.predict(x_test))\n",
    "        if verbose > 0:\n",
    "            report(estimator, mse, mae, r2)    \n",
    "            \n",
    "        mlflow.log_param(\"alpha\", alpha)\n",
    "        mlflow.log_param(\"l1_ratio\", l1_ratio)\n",
    "        \n",
    "        mlflow.log_metric(\"mse\", mse)\n",
    "        mlflow.log_metric(\"mae\", mae)\n",
    "        mlflow.log_metric(\"r2\", r2)\n",
    "        \n",
    "        mlflow.sklearn.log_model(estimator, \"model\")            \n",
    "\n",
    "\n",
    "if __name__ == \"__main__\":\n",
    "    run()"
   ]
  },
  {
   "cell_type": "markdown",
   "id": "c0be612c-d79a-40f7-9884-505899c66c97",
   "metadata": {},
   "source": [
    "MLproject\n",
    "---"
   ]
  },
  {
   "cell_type": "code",
   "execution_count": 3,
   "id": "2507c922-ad2e-4852-bf73-e684b8ed6489",
   "metadata": {},
   "outputs": [
    {
     "name": "stdout",
     "output_type": "stream",
     "text": [
      "Writing /tmp/wine_prj/MLproject\n"
     ]
    }
   ],
   "source": [
    "%%writefile /tmp/wine_prj/MLproject\n",
    "name: Proyecto de demostracion\n",
    "\n",
    "entry_points:\n",
    "    main:\n",
    "        parameters:\n",
    "            alpha: {type: float, default: 0.1}\n",
    "            l1_ratio: {type: float, default: 0.1}\n",
    "            verbose: {type: integer, default: 1}\n",
    "        command: 'python3 train_elasticnet.py {alpha} {l1_ratio} {verbose}'"
   ]
  },
  {
   "cell_type": "markdown",
   "id": "0537b2bd-ffbc-457f-ae83-25f740ce9ff0",
   "metadata": {},
   "source": [
    "Ejecución en el ambiente local con parámetros por defecto\n",
    "---"
   ]
  },
  {
   "cell_type": "code",
   "execution_count": 4,
   "id": "31cb8e03-0b6b-472d-a228-cf9f6be366d3",
   "metadata": {},
   "outputs": [
    {
     "name": "stdout",
     "output_type": "stream",
     "text": [
      "2022/06/03 22:36:04 INFO mlflow.projects.utils: === Created directory /var/folders/34/8tnnc98d5bv6wy7xzfb0qwhh0000gn/T/tmphbvhg4ba for downloading remote URIs passed to arguments of type 'path' ===\n",
      "2022/06/03 22:36:04 INFO mlflow.projects.backend.local: === Running command 'python3 train_elasticnet.py 0.1 0.1 1' in run with ID 'b8921438f9d147778129d8939cb36155' === \n",
      "Tracking directory: file:///Volumes/GitHub/courses-source/notebooks/mlflow/mlruns\n",
      "ElasticNet(alpha=0.1, l1_ratio=0.1, random_state=12345):\n",
      "  MSE: 0.489021012335199\n",
      "  MAE: 0.551252749110561\n",
      "  R2: 0.29836649473051535\n",
      "/Volumes/GitHub/courses-source/notebooks/mlflow/.venv/lib/python3.8/site-packages/setuptools/distutils_patch.py:25: UserWarning: Distutils was imported before Setuptools. This usage is discouraged and may exhibit undesirable behaviors or errors. Please use Setuptools' objects directly or at least import Setuptools first.\n",
      "  warnings.warn(\n",
      "2022/06/03 22:36:08 INFO mlflow.projects: === Run (ID 'b8921438f9d147778129d8939cb36155') succeeded ===\n"
     ]
    }
   ],
   "source": [
    "#\n",
    "# Ejecución con parámetros por defecto\n",
    "#\n",
    "!mlflow run --env-manager=local /tmp/wine_prj"
   ]
  },
  {
   "cell_type": "markdown",
   "id": "21652134-498e-48ea-b7c0-d879b72bb124",
   "metadata": {},
   "source": [
    "Ejecución en el ambiente local con parámetros suministrados por el usuario\n",
    "---"
   ]
  },
  {
   "cell_type": "code",
   "execution_count": 5,
   "id": "9ba69279-0175-441e-bf2f-55050b7621e6",
   "metadata": {},
   "outputs": [
    {
     "name": "stdout",
     "output_type": "stream",
     "text": [
      "2022/06/03 22:36:09 INFO mlflow.projects.utils: === Created directory /var/folders/34/8tnnc98d5bv6wy7xzfb0qwhh0000gn/T/tmpkhefbxuo for downloading remote URIs passed to arguments of type 'path' ===\n",
      "2022/06/03 22:36:09 INFO mlflow.projects.backend.local: === Running command 'python3 train_elasticnet.py 0.2 0.2 1' in run with ID '178b1fea9e3c496988634f61f929a839' === \n",
      "Tracking directory: file:///Volumes/GitHub/courses-source/notebooks/mlflow/mlruns\n",
      "ElasticNet(alpha=0.2, l1_ratio=0.2, random_state=12345):\n",
      "  MSE: 0.5170837474931838\n",
      "  MAE: 0.5701436798648394\n",
      "  R2: 0.2581028767270219\n",
      "/Volumes/GitHub/courses-source/notebooks/mlflow/.venv/lib/python3.8/site-packages/setuptools/distutils_patch.py:25: UserWarning: Distutils was imported before Setuptools. This usage is discouraged and may exhibit undesirable behaviors or errors. Please use Setuptools' objects directly or at least import Setuptools first.\n",
      "  warnings.warn(\n",
      "2022/06/03 22:36:13 INFO mlflow.projects: === Run (ID '178b1fea9e3c496988634f61f929a839') succeeded ===\n"
     ]
    }
   ],
   "source": [
    "!mlflow run --env-manager=local /tmp/wine_prj -P alpha=0.2 -P l1_ratio=0.2 -P verbose=1"
   ]
  },
  {
   "cell_type": "code",
   "execution_count": 6,
   "id": "20463431-fc33-4711-9103-ed8ba990bde9",
   "metadata": {},
   "outputs": [
    {
     "name": "stdout",
     "output_type": "stream",
     "text": [
      "2022/06/03 22:36:14 INFO mlflow.projects.utils: === Created directory /var/folders/34/8tnnc98d5bv6wy7xzfb0qwhh0000gn/T/tmp9y1qpa3f for downloading remote URIs passed to arguments of type 'path' ===\n",
      "2022/06/03 22:36:14 INFO mlflow.projects.backend.local: === Running command 'python3 train_elasticnet.py 0.1 0.1 1' in run with ID '57b374a3c7304328867d8a2ce8dc6a6f' === \n",
      "Tracking directory: file:///Volumes/GitHub/courses-source/notebooks/mlflow/mlruns\n",
      "ElasticNet(alpha=0.1, l1_ratio=0.1, random_state=12345):\n",
      "  MSE: 0.489021012335199\n",
      "  MAE: 0.551252749110561\n",
      "  R2: 0.29836649473051535\n",
      "/Volumes/GitHub/courses-source/notebooks/mlflow/.venv/lib/python3.8/site-packages/setuptools/distutils_patch.py:25: UserWarning: Distutils was imported before Setuptools. This usage is discouraged and may exhibit undesirable behaviors or errors. Please use Setuptools' objects directly or at least import Setuptools first.\n",
      "  warnings.warn(\n",
      "2022/06/03 22:36:18 INFO mlflow.projects: === Run (ID '57b374a3c7304328867d8a2ce8dc6a6f') succeeded ===\n"
     ]
    }
   ],
   "source": [
    "!mlflow run --env-manager=local /tmp/wine_prj -P alpha=0.1 -P l1_ratio=0.1 -P verbose=1"
   ]
  },
  {
   "cell_type": "code",
   "execution_count": 7,
   "id": "d0131026-f02f-4903-a465-e02f987b1a9e",
   "metadata": {},
   "outputs": [
    {
     "name": "stdout",
     "output_type": "stream",
     "text": [
      "2022/06/03 22:36:19 INFO mlflow.projects.utils: === Created directory /var/folders/34/8tnnc98d5bv6wy7xzfb0qwhh0000gn/T/tmprblrr40u for downloading remote URIs passed to arguments of type 'path' ===\n",
      "2022/06/03 22:36:19 INFO mlflow.projects.backend.local: === Running command 'python3 train_elasticnet.py 0.5 0.5 1' in run with ID '9aae0e2983ca41d28af3f8f9ea7dcecc' === \n",
      "Tracking directory: file:///Volumes/GitHub/courses-source/notebooks/mlflow/mlruns\n",
      "ElasticNet(alpha=0.5, random_state=12345):\n",
      "  MSE: 0.6349429447805036\n",
      "  MAE: 0.6453803508338732\n",
      "  R2: 0.0890018368226928\n",
      "/Volumes/GitHub/courses-source/notebooks/mlflow/.venv/lib/python3.8/site-packages/setuptools/distutils_patch.py:25: UserWarning: Distutils was imported before Setuptools. This usage is discouraged and may exhibit undesirable behaviors or errors. Please use Setuptools' objects directly or at least import Setuptools first.\n",
      "  warnings.warn(\n",
      "2022/06/03 22:36:23 INFO mlflow.projects: === Run (ID '9aae0e2983ca41d28af3f8f9ea7dcecc') succeeded ===\n"
     ]
    }
   ],
   "source": [
    "!mlflow run --env-manager=local /tmp/wine_prj -P alpha=0.5 -P l1_ratio=0.5 -P verbose=1"
   ]
  },
  {
   "cell_type": "markdown",
   "id": "d232297e-8232-4b91-af6e-22a8d05d92b4",
   "metadata": {},
   "source": [
    "MLflow ui\n",
    "---"
   ]
  },
  {
   "cell_type": "markdown",
   "id": "229102d0-3581-47f3-a1b7-76328450ff07",
   "metadata": {},
   "source": [
    "Para visualizar la interfase use:\n",
    "\n",
    "```bash\n",
    "mlflow ui\n",
    "```\n",
    "\n",
    "**Nota:** En docker usar:\n",
    "\n",
    "```bash\n",
    "mlflow ui --host 0.0.0.0 \n",
    "``` \n",
    "\n",
    "con: \n",
    "\n",
    "http://127.0.0.1:5001\n"
   ]
  },
  {
   "cell_type": "markdown",
   "id": "23698113-ff0c-473d-a99b-9cba037379fe",
   "metadata": {},
   "source": [
    "![assets/mlflow-project-1-local-part-0](assets/mlflow-project-1-local-part-0.png)"
   ]
  },
  {
   "cell_type": "markdown",
   "id": "96f0e9f2-ea39-4296-a4a0-46f040b825f9",
   "metadata": {},
   "source": [
    "**Detalles de la corrida**"
   ]
  },
  {
   "cell_type": "markdown",
   "id": "27b3d550-1b36-4c90-91b8-c68178f0ea2a",
   "metadata": {},
   "source": [
    "![assets/mlflow-project-1-local-part-1](assets/mlflow-project-1-local-part-1.png)\n",
    "![assets/mlflow-project-1-local-part-2](assets/mlflow-project-1-local-part-2.png)\n",
    "![assets/mlflow-project-1-local-part-3](assets/mlflow-project-1-local-part-3.png)"
   ]
  }
 ],
 "metadata": {
  "kernelspec": {
   "display_name": "Python 3 (ipykernel)",
   "language": "python",
   "name": "python3"
  },
  "language_info": {
   "codemirror_mode": {
    "name": "ipython",
    "version": 3
   },
   "file_extension": ".py",
   "mimetype": "text/x-python",
   "name": "python",
   "nbconvert_exporter": "python",
   "pygments_lexer": "ipython3",
   "version": "3.8.9"
  }
 },
 "nbformat": 4,
 "nbformat_minor": 5
}
