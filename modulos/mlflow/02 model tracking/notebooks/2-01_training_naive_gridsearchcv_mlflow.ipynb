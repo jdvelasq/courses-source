{
 "cells": [
  {
   "cell_type": "markdown",
   "id": "7f8fcfa0-86dc-4739-959d-fe5dde256310",
   "metadata": {
    "tags": []
   },
   "source": [
    "Tracking con Scikit-Learn usando el sistema local de archivos\n",
    "===\n",
    "\n",
    "* Ultima modificación: Mayo 14, 2022"
   ]
  },
  {
   "cell_type": "markdown",
   "id": "e3be0422-2674-4ed4-aa46-82a79962366e",
   "metadata": {},
   "source": [
    "Código base\n",
    "---"
   ]
  },
  {
   "cell_type": "code",
   "execution_count": 1,
   "id": "435ea39e-f3a7-4a43-82d9-dc14a0e69354",
   "metadata": {},
   "outputs": [],
   "source": [
    "def load_data():\n",
    "\n",
    "    import pandas as pd\n",
    "\n",
    "    url = \"http://archive.ics.uci.edu/ml/machine-learning-databases/wine-quality/winequality-red.csv\"\n",
    "    df = pd.read_csv(url, sep=\";\")\n",
    "\n",
    "    y = df[\"quality\"]\n",
    "    x = df.copy()\n",
    "    x.pop(\"quality\")\n",
    "\n",
    "    return x, y\n",
    "\n",
    "\n",
    "def make_train_test_split(x, y):\n",
    "\n",
    "    from sklearn.model_selection import train_test_split\n",
    "\n",
    "    (x_train, x_test, y_train, y_test) = train_test_split(\n",
    "        x,\n",
    "        y,\n",
    "        test_size=0.25,\n",
    "        random_state=123456,\n",
    "    )\n",
    "    return x_train, x_test, y_train, y_test\n",
    "\n",
    "\n",
    "def eval_metrics(y_true, y_pred):\n",
    "\n",
    "    from sklearn.metrics import mean_absolute_error, mean_squared_error, r2_score\n",
    "\n",
    "    mse = mean_squared_error(y_true, y_pred)\n",
    "    mae = mean_absolute_error(y_true, y_pred)\n",
    "    r2 = r2_score(y_true, y_pred)\n",
    "\n",
    "    return mse, mae, r2\n",
    "\n",
    "\n",
    "def report(estimator, mse, mae, r2):\n",
    "\n",
    "    print(estimator, \":\", sep=\"\")\n",
    "    print(f\"  MSE: {mse}\")\n",
    "    print(f\"  MAE: {mae}\")\n",
    "    print(f\"  R2: {r2}\")"
   ]
  },
  {
   "cell_type": "markdown",
   "id": "23ce5b6b-8375-4364-a26a-ce93047f25ac",
   "metadata": {},
   "source": [
    "MLflow Tracking\n",
    "---"
   ]
  },
  {
   "cell_type": "code",
   "execution_count": 2,
   "id": "13ca8eb5-9ade-4d0c-b8f9-58dd7ca0511d",
   "metadata": {},
   "outputs": [],
   "source": [
    "def make_experiment(experiment_name, alphas, l1_ratios, n_splits=5, verbose=1):\n",
    "\n",
    "    import os\n",
    "\n",
    "    from sklearn.linear_model import ElasticNet\n",
    "    from sklearn.model_selection import GridSearchCV\n",
    "\n",
    "    import mlflow\n",
    "    import mlflow.sklearn\n",
    "\n",
    "    x, y = load_data()\n",
    "    x_train, x_test, y_train, y_test = make_train_test_split(x, y)\n",
    "\n",
    "    param_grid = {\n",
    "        \"alpha\": alphas,\n",
    "        \"l1_ratio\": l1_ratios,\n",
    "    }\n",
    "\n",
    "    estimator = GridSearchCV(\n",
    "        estimator=ElasticNet(\n",
    "            random_state=12345,\n",
    "        ),\n",
    "        param_grid=param_grid,\n",
    "        cv=n_splits,\n",
    "        refit=True,\n",
    "        verbose=0,\n",
    "        return_train_score=False,\n",
    "    )\n",
    "    \n",
    "    #\n",
    "    # Establece el directorio de tracking. Esta es la dirección absoluta al\n",
    "    # directorio actual en este ejemplo.\n",
    "    #\n",
    "    if not os.path.exists(\"corridas\"):\n",
    "        os.makedirs(\"corridas\")\n",
    "    mlflow.set_tracking_uri(\"file:///workspace/mlflow/corridas\")\n",
    "    print(\"Tracking directory:\", mlflow.get_tracking_uri())\n",
    "\n",
    "    \n",
    "    #\n",
    "    # Autotracking\n",
    "    #\n",
    "    mlflow.sklearn.autolog(\n",
    "        log_input_examples=False,\n",
    "        log_model_signatures=True,\n",
    "        log_models=True,\n",
    "        disable=False,\n",
    "        exclusive=False,\n",
    "        disable_for_unsupported_versions=False,\n",
    "        silent=False,\n",
    "        max_tuning_runs=10,\n",
    "        log_post_training_metrics=True,\n",
    "        serialization_format=\"cloudpickle\",\n",
    "        registered_model_name=None,\n",
    "    )\n",
    "\n",
    "    #\n",
    "    # Almancena las corridas  en el experimento indicado\n",
    "    #\n",
    "    mlflow.set_experiment(experiment_name)\n",
    "\n",
    "    with mlflow.start_run() as run:\n",
    "\n",
    "        run = mlflow.active_run()\n",
    "        print(\"Active run_id: {}\".format(run.info.run_id))\n",
    "\n",
    "        estimator.fit(x_train, y_train)\n",
    "        \n",
    "        #\n",
    "        # Reporta el mejor modelo encontrado en la corrida\n",
    "        #\n",
    "        estimator = estimator.best_estimator_\n",
    "        mse, mae, r2 = eval_metrics(y_test, y_pred=estimator.predict(x_test))\n",
    "        if verbose > 0:\n",
    "            report(estimator, mse, mae, r2)\n",
    "            \n",
    "        mlflow.log_metric(\"mse\", mse)\n",
    "        mlflow.log_metric(\"mae\", mae)\n",
    "        mlflow.log_metric(\"r2\", r2)         \n"
   ]
  },
  {
   "cell_type": "code",
   "execution_count": 3,
   "id": "cf099de8-3152-4aa5-a8d1-b85b34bcd652",
   "metadata": {},
   "outputs": [
    {
     "name": "stdout",
     "output_type": "stream",
     "text": [
      "Tracking directory: file:///workspace/mlflow/corridas\n"
     ]
    },
    {
     "name": "stderr",
     "output_type": "stream",
     "text": [
      "2022/06/04 03:05:56 INFO mlflow.tracking.fluent: Experiment with name 'red-wine' does not exist. Creating a new experiment.\n",
      "2022/06/04 03:05:57 WARNING mlflow.utils: Truncated the value of the key `param_grid`. Truncated value: `{'alpha': array([1.00000000e-04, 5.56444444e-02, 1.11188889e-01, 1.66733333e-01,\n",
      "       2.22277778e-01, 2.77822222e-01, 3.33366667e-01, 3.88911111e-01,\n",
      "       4.44455556e-01, 5.00000000e-01]), 'l1_ratio': array([1.00000000e-04, 5.56444444e-02, 1.1...`\n"
     ]
    },
    {
     "name": "stdout",
     "output_type": "stream",
     "text": [
      "Active run_id: f030202219cb413fa80755e476d5dd0b\n"
     ]
    },
    {
     "name": "stderr",
     "output_type": "stream",
     "text": [
      "2022/06/04 03:06:04 INFO mlflow.sklearn.utils: Logging the 10 best runs, 90 runs will be omitted.\n"
     ]
    },
    {
     "name": "stdout",
     "output_type": "stream",
     "text": [
      "ElasticNet(alpha=0.0001, l1_ratio=0.16673333333333332, random_state=12345):\n",
      "  MSE: 0.4555342217989927\n",
      "  MAE: 0.5292810437627216\n",
      "  R2: 0.34641239384627454\n"
     ]
    }
   ],
   "source": [
    "import numpy as np\n",
    "\n",
    "#\n",
    "# Se realizar el primer tanteo\n",
    "#\n",
    "make_experiment(\n",
    "    experiment_name=\"red-wine\",\n",
    "    alphas=np.linspace(0.0001, 0.5, 10),\n",
    "    l1_ratios=np.linspace(0.0001, 0.5, 10),\n",
    "    n_splits=5,\n",
    "    verbose=1,\n",
    ")"
   ]
  },
  {
   "cell_type": "code",
   "execution_count": 4,
   "id": "bd081388-0674-475a-b5f8-e1297ef8f963",
   "metadata": {},
   "outputs": [
    {
     "name": "stdout",
     "output_type": "stream",
     "text": [
      "Tracking directory: file:///workspace/mlflow/corridas\n"
     ]
    },
    {
     "name": "stderr",
     "output_type": "stream",
     "text": [
      "2022/06/04 03:06:06 WARNING mlflow.utils: Truncated the value of the key `param_grid`. Truncated value: `{'alpha': array([1.00000000e-07, 2.23111111e-05, 4.45222222e-05, 6.67333333e-05,\n",
      "       8.89444444e-05, 1.11155556e-04, 1.33366667e-04, 1.55577778e-04,\n",
      "       1.77788889e-04, 2.00000000e-04]), 'l1_ratio': array([0.1       , 0.11111111, 0.12222222,...`\n"
     ]
    },
    {
     "name": "stdout",
     "output_type": "stream",
     "text": [
      "Active run_id: 37eb322f2b1f4c60af70114ad4381f43\n"
     ]
    },
    {
     "name": "stderr",
     "output_type": "stream",
     "text": [
      "2022/06/04 03:06:12 INFO mlflow.sklearn.utils: Logging the 10 best runs, 90 runs will be omitted.\n"
     ]
    },
    {
     "name": "stdout",
     "output_type": "stream",
     "text": [
      "ElasticNet(alpha=0.0002, l1_ratio=0.2, random_state=12345):\n",
      "  MSE: 0.4555784329298052\n",
      "  MAE: 0.5291677556910062\n",
      "  R2: 0.3463489609673155\n"
     ]
    }
   ],
   "source": [
    "#\n",
    "# Se realizar el segundo tanteo\n",
    "#\n",
    "make_experiment(\n",
    "    experiment_name=\"red-wine\",\n",
    "    alphas=np.linspace(0.0000001, 0.0002, 10),\n",
    "    l1_ratios=np.linspace(0.1, 0.2, 10),\n",
    "    n_splits=5,\n",
    "    verbose=1,\n",
    ")"
   ]
  },
  {
   "cell_type": "markdown",
   "id": "d232297e-8232-4b91-af6e-22a8d05d92b4",
   "metadata": {},
   "source": [
    "MLflow ui\n",
    "---"
   ]
  },
  {
   "cell_type": "markdown",
   "id": "229102d0-3581-47f3-a1b7-76328450ff07",
   "metadata": {},
   "source": [
    "Para visualizar la interfase use:\n",
    "\n",
    "```bash\n",
    "mlflow ui\n",
    "```\n",
    "\n",
    "**Nota:** En docker usar:\n",
    "\n",
    "```bash\n",
    "mlflow ui --host 0.0.0.0 \n",
    "``` \n",
    "\n",
    "con: \n",
    "\n",
    "http://127.0.0.1:5001\n"
   ]
  },
  {
   "cell_type": "markdown",
   "id": "23698113-ff0c-473d-a99b-9cba037379fe",
   "metadata": {},
   "source": [
    "![assets/mlflow-tracking-1-sklearn-part-0.png](assets/mlflow-tracking-1-sklearn-part-0.png)"
   ]
  },
  {
   "cell_type": "markdown",
   "id": "96f0e9f2-ea39-4296-a4a0-46f040b825f9",
   "metadata": {},
   "source": [
    "**Detalles de la corrida**"
   ]
  },
  {
   "cell_type": "markdown",
   "id": "27b3d550-1b36-4c90-91b8-c68178f0ea2a",
   "metadata": {},
   "source": [
    "![assets/mlflow-tracking-1-sklearn-part-1.png](assets/mlflow-tracking-1-sklearn-part-1.png)\n",
    "![assets/mlflow-tracking-1-sklearn-part-2.png](assets/mlflow-tracking-1-sklearn-part-2.png)\n",
    "![assets/mlflow-tracking-1-sklearn-part-3.png](assets/mlflow-tracking-1-sklearn-part-3.png)"
   ]
  },
  {
   "cell_type": "markdown",
   "id": "928de67d-5d48-484c-abad-6278224f488b",
   "metadata": {
    "tags": []
   },
   "source": [
    "Chequeo\n",
    "---"
   ]
  },
  {
   "cell_type": "code",
   "execution_count": 5,
   "id": "f524f13f-de2d-41f2-8030-c92fca1bdaa6",
   "metadata": {},
   "outputs": [],
   "source": [
    "# def check_estimator():\n",
    "# \n",
    "#     import mlflow\n",
    "# \n",
    "#     x, y = load_data()\n",
    "#     x_train, x_test, y_train, y_test = make_train_test_split(x, y)\n",
    "# \n",
    "#     # NOTA: este parámetro es copiado directamente de la interfase de MLflow\n",
    "#     estimator_path = \"runs:/41f159a7bf5b48348354b126242d4c23/model\"\n",
    "#     estimator = mlflow.pyfunc.load_model(estimator_path)\n",
    "#     mse, mae, r2 = eval_metrics(y_test, y_pred=estimator.predict(x_test))\n",
    "#     report(estimator, mse, mae, r2)\n",
    "# \n",
    "# \n",
    "# #\n",
    "# # Debe coincidir con el mejor modelo encontrado en la celdas anteriores\n",
    "# #\n",
    "# check_estimator()"
   ]
  },
  {
   "cell_type": "code",
   "execution_count": 6,
   "id": "09f93621-61f9-4821-aa51-eee958d2febf",
   "metadata": {},
   "outputs": [],
   "source": [
    "# -----------------------------------------------------------------------------\n",
    "# No se borran las corridas para comparar resultados con otras librerías\n",
    "# -----------------------------------------------------------------------------\n",
    "# %%bash\n",
    "# rm -rf outputs mlruns models"
   ]
  }
 ],
 "metadata": {
  "kernelspec": {
   "display_name": "Python 3 (ipykernel)",
   "language": "python",
   "name": "python3"
  },
  "language_info": {
   "codemirror_mode": {
    "name": "ipython",
    "version": 3
   },
   "file_extension": ".py",
   "mimetype": "text/x-python",
   "name": "python",
   "nbconvert_exporter": "python",
   "pygments_lexer": "ipython3",
   "version": "3.8.10"
  }
 },
 "nbformat": 4,
 "nbformat_minor": 5
}
