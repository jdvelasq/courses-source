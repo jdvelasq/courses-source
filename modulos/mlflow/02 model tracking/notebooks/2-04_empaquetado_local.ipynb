{
 "cells": [
  {
   "cell_type": "markdown",
   "id": "95fcb232-250d-42fa-8df7-66336a94ee17",
   "metadata": {
    "tags": []
   },
   "source": [
    "Empaquetado para entrenamiento local\n",
    "===\n",
    "\n",
    "* Ultima modificación: Mayo 14, 2022"
   ]
  },
  {
   "cell_type": "markdown",
   "id": "db44b4f3-afe8-4903-a92f-86dfd294ff9d",
   "metadata": {},
   "source": [
    "Preparación del archivo\n",
    "---"
   ]
  },
  {
   "cell_type": "code",
   "execution_count": 1,
   "id": "26bf714b-ffc4-43a3-befb-98509d03bde3",
   "metadata": {},
   "outputs": [
    {
     "name": "stdout",
     "output_type": "stream",
     "text": [
      "Writing train_model.py\n"
     ]
    }
   ],
   "source": [
    "%%writefile train_model.py\n",
    "\n",
    "# -----------------------------------------------------------------------------\n",
    "# El código es identico al usado en los tutoriales anteriores\n",
    "# -----------------------------------------------------------------------------\n",
    "\n",
    "\n",
    "def load_data():\n",
    "\n",
    "    import pandas as pd\n",
    "\n",
    "    url = \"http://archive.ics.uci.edu/ml/machine-learning-databases/wine-quality/winequality-red.csv\"\n",
    "    df = pd.read_csv(url, sep=\";\")\n",
    "\n",
    "    y = df[\"quality\"]\n",
    "    x = df.copy()\n",
    "    x.pop(\"quality\")\n",
    "\n",
    "    return x, y\n",
    "\n",
    "\n",
    "def make_train_test_split(x, y):\n",
    "\n",
    "    from sklearn.model_selection import train_test_split\n",
    "\n",
    "    (x_train, x_test, y_train, y_test) = train_test_split(\n",
    "        x,\n",
    "        y,\n",
    "        test_size=0.25,\n",
    "        random_state=123456,\n",
    "    )\n",
    "    return x_train, x_test, y_train, y_test\n",
    "\n",
    "\n",
    "def eval_metrics(y_true, y_pred):\n",
    "\n",
    "    from sklearn.metrics import mean_absolute_error, mean_squared_error, r2_score\n",
    "\n",
    "    mse = mean_squared_error(y_true, y_pred)\n",
    "    mae = mean_absolute_error(y_true, y_pred)\n",
    "    r2 = r2_score(y_true, y_pred)\n",
    "\n",
    "    return mse, mae, r2\n",
    "\n",
    "\n",
    "def report(estimator, mse, mae, r2):\n",
    "\n",
    "    print(estimator, \":\", sep=\"\")\n",
    "    print(f\"  MSE: {mse}\")\n",
    "    print(f\"  MAE: {mae}\")\n",
    "    print(f\"  R2: {r2}\")\n",
    "\n",
    "\n",
    "def train_estimator(alphas, l1_ratios, n_splits=5, verbose=1):\n",
    "\n",
    "    import mlflow.sklearn\n",
    "    from sklearn.linear_model import ElasticNet\n",
    "    from sklearn.model_selection import GridSearchCV\n",
    "\n",
    "    import mlflow\n",
    "\n",
    "    x, y = load_data()\n",
    "    x_train, x_test, y_train, y_test = make_train_test_split(x, y)\n",
    "\n",
    "    estimator = GridSearchCV(\n",
    "        estimator=ElasticNet(\n",
    "            random_state=12345,\n",
    "        ),\n",
    "        param_grid={\n",
    "            \"alpha\": alphas,\n",
    "            \"l1_ratio\": l1_ratios,\n",
    "        },\n",
    "        cv=n_splits,\n",
    "        refit=True,\n",
    "        verbose=0,\n",
    "        return_train_score=False,\n",
    "    )\n",
    "\n",
    "    estimator.fit(x_train, y_train)\n",
    "\n",
    "    estimator = estimator.best_estimator_\n",
    "\n",
    "    mse, mae, r2 = eval_metrics(y_test, y_pred=estimator.predict(x_test))\n",
    "    if verbose > 0:\n",
    "        report(estimator, mse, mae, r2)\n",
    "\n",
    "    if not os.path.exists(\"mlruns\"):\n",
    "        os.makedirs(\"mlruns\")\n",
    "    mlflow.set_tracking_uri(\"file:///workspace/mlflow/corridas\")\n",
    "\n",
    "    with mlflow.start_run():\n",
    "\n",
    "        params = estimator.get_params()\n",
    "\n",
    "        mlflow.log_param(\"alpha\", params[\"alpha\"])\n",
    "        mlflow.log_param(\"l1_ratio\", params[\"l1_ratio\"])\n",
    "        mlflow.log_metric(\"mse\", mse)\n",
    "        mlflow.log_metric(\"mae\", mae)\n",
    "        mlflow.log_metric(\"r2\", r2)\n",
    "\n",
    "        mlflow.sklearn.log_model(estimator, \"model\")\n",
    "\n",
    "\n",
    "if __name__ == \"__main__\":\n",
    "\n",
    "    import os\n",
    "    import sys\n",
    "\n",
    "    import numpy as np\n",
    "\n",
    "    #\n",
    "    # Ejemplo: python3 train_model.py 0.0001 0.5 10 0.0001 0.5 10\n",
    "    #\n",
    "\n",
    "    alpha_from = float(sys.argv[1])\n",
    "    alpha_to = float(sys.argv[2])\n",
    "    alpha_n = int(sys.argv[3])\n",
    "\n",
    "    l1_ratio_from = float(sys.argv[4])\n",
    "    l1_ratio_to = float(sys.argv[5])\n",
    "    l1_ratio_n = int(sys.argv[6])\n",
    "\n",
    "    train_estimator(\n",
    "        alphas=np.linspace(\n",
    "            alpha_from,\n",
    "            alpha_to,\n",
    "            alpha_n,\n",
    "        ),\n",
    "        l1_ratios=np.linspace(\n",
    "            l1_ratio_from,\n",
    "            l1_ratio_to,\n",
    "            l1_ratio_n,\n",
    "        ),\n",
    "        n_splits=5,\n",
    "        verbose=1,\n",
    "    )"
   ]
  },
  {
   "cell_type": "markdown",
   "id": "ab9b370e-5e56-49ba-9693-accbaed06b66",
   "metadata": {},
   "source": [
    "Ejecución\n",
    "---"
   ]
  },
  {
   "cell_type": "code",
   "execution_count": 2,
   "id": "f57df62d-d956-40a6-89de-4e8cdd1cd358",
   "metadata": {},
   "outputs": [
    {
     "name": "stdout",
     "output_type": "stream",
     "text": [
      "ElasticNet(alpha=0.0001, l1_ratio=0.16673333333333332, random_state=12345):\n",
      "  MSE: 0.4555342217989927\n",
      "  MAE: 0.5292810437627216\n",
      "  R2: 0.34641239384627454\n"
     ]
    }
   ],
   "source": [
    "!python3 train_model.py 0.0001 0.5 10 0.0001 0.5 10"
   ]
  },
  {
   "cell_type": "markdown",
   "id": "9e661cb6-68ab-4c22-9430-0290ca261486",
   "metadata": {},
   "source": [
    "MLflow ui\n",
    "---"
   ]
  },
  {
   "cell_type": "markdown",
   "id": "0e90c3eb-df13-4c2e-bda0-aad87c73c5cc",
   "metadata": {},
   "source": [
    "Para visualizar la interfase use:\n",
    "\n",
    "```bash\n",
    "mlflow ui\n",
    "```\n",
    "\n",
    "**Nota:** En docker usar:\n",
    "\n",
    "```bash\n",
    "mlflow ui --host 0.0.0.0 \n",
    "``` \n",
    "\n",
    "con: \n",
    "\n",
    "http://127.0.0.1:5001\n"
   ]
  },
  {
   "cell_type": "markdown",
   "id": "bac1d3d7-5852-472b-91f3-17e8f5ac481c",
   "metadata": {},
   "source": [
    "![assets/mlflow-basic-example-3-part-A.png](assets/mlflow-basic-example-4-part-A.png)"
   ]
  },
  {
   "cell_type": "markdown",
   "id": "1f470dfc-978f-46db-99b1-9ddc34a5ea0f",
   "metadata": {},
   "source": [
    "**Detalles de la corrida**"
   ]
  },
  {
   "cell_type": "markdown",
   "id": "6e6f5cf8-7ec5-4008-a7c0-ec364fc9cc08",
   "metadata": {},
   "source": [
    "![assets/mlflow-basic-example-4-part-B.png](assets/mlflow-basic-example-3-part-B.png)\n",
    "![assets/mlflow-basic-example-4-part-C.png](assets/mlflow-basic-example-3-part-C.png)\n",
    "![assets/mlflow-basic-example-4-part-D.png](assets/mlflow-basic-example-3-part-D.png)"
   ]
  },
  {
   "cell_type": "code",
   "execution_count": 3,
   "id": "09f93621-61f9-4821-aa51-eee958d2febf",
   "metadata": {},
   "outputs": [],
   "source": [
    "%%bash\n",
    "rm -rf outputs mlruns models corridas\n",
    "rm train_model.py"
   ]
  }
 ],
 "metadata": {
  "kernelspec": {
   "display_name": "Python 3 (ipykernel)",
   "language": "python",
   "name": "python3"
  },
  "language_info": {
   "codemirror_mode": {
    "name": "ipython",
    "version": 3
   },
   "file_extension": ".py",
   "mimetype": "text/x-python",
   "name": "python",
   "nbconvert_exporter": "python",
   "pygments_lexer": "ipython3",
   "version": "3.8.10"
  }
 },
 "nbformat": 4,
 "nbformat_minor": 5
}
