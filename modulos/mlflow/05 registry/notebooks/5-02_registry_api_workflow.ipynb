{
 "cells": [
  {
   "cell_type": "markdown",
   "id": "7f8fcfa0-86dc-4739-959d-fe5dde256310",
   "metadata": {
    "tags": []
   },
   "source": [
    "API Workflow\n",
    "===\n",
    "\n",
    "* Ultima modificación: Mayo 14, 2022"
   ]
  },
  {
   "cell_type": "markdown",
   "id": "142bc361-9fd0-448d-bf47-b4bb3a4a3daa",
   "metadata": {},
   "source": [
    "Diretorio para almacenar el proyecto\n",
    "---"
   ]
  },
  {
   "cell_type": "code",
   "execution_count": 1,
   "id": "949ab1cd-d237-4139-9c69-c4a3a3d56168",
   "metadata": {},
   "outputs": [],
   "source": [
    "#\n",
    "# Borra el directorio de trabajo\n",
    "#\n",
    "!rm -rf mlruns\n",
    "!rm mlruns.db"
   ]
  },
  {
   "cell_type": "markdown",
   "id": "f48ad37b-fa6a-45f9-9b14-22f4ea90e384",
   "metadata": {},
   "source": [
    "Codebase\n",
    "---"
   ]
  },
  {
   "cell_type": "code",
   "execution_count": 2,
   "id": "d33449be-0b6b-4114-ac1f-d75b77f600c5",
   "metadata": {},
   "outputs": [],
   "source": [
    "def load_data():\n",
    "\n",
    "    import pandas as pd\n",
    "\n",
    "    url = \"https://raw.githubusercontent.com/jdvelasq/datalabs/master/datasets/concrete.csv\"\n",
    "    df = pd.read_csv(url)\n",
    "    df = df.astype({'age': 'float'})\n",
    "    \n",
    "    y = df[\"strength\"]\n",
    "    x = df.copy()\n",
    "    x.pop(\"strength\")\n",
    "\n",
    "    return x, y\n",
    "\n",
    "\n",
    "def make_train_test_split(x, y):\n",
    "\n",
    "    from sklearn.model_selection import train_test_split\n",
    "\n",
    "    (x_train, x_test, y_train, y_test) = train_test_split(\n",
    "        x,\n",
    "        y,\n",
    "        test_size=0.25,\n",
    "        random_state=123456,\n",
    "    )\n",
    "    return x_train, x_test, y_train, y_test\n",
    "\n",
    "\n",
    "def eval_metrics(y_true, y_pred):\n",
    "\n",
    "    from sklearn.metrics import mean_absolute_error, mean_squared_error, r2_score\n",
    "\n",
    "    mse = mean_squared_error(y_true, y_pred)\n",
    "    mae = mean_absolute_error(y_true, y_pred)\n",
    "    r2 = r2_score(y_true, y_pred)\n",
    "\n",
    "    return mse, mae, r2\n",
    "\n",
    "\n",
    "def report(estimator, mse, mae, r2):\n",
    "\n",
    "    print(estimator, \":\", sep=\"\")\n",
    "    print(f\"  MSE: {mse}\")\n",
    "    print(f\"  MAE: {mae}\")\n",
    "    print(f\"  R2: {r2}\")\n",
    "\n",
    "\n",
    "# def log_metrics(mse, mae, r2):\n",
    "# \n",
    "#     import mlflow\n",
    "# \n",
    "#     mlflow.log_metric(\"mse\", mse)\n",
    "#     mlflow.log_metric(\"mae\", mae)\n",
    "#     mlflow.log_metric(\"r2\", r2)\n",
    "\n",
    "\n",
    "def make_pipeline(estimator):\n",
    "\n",
    "    from sklearn.pipeline import Pipeline\n",
    "    from sklearn.preprocessing import MinMaxScaler\n",
    "\n",
    "    pipeline = Pipeline(\n",
    "        steps=[\n",
    "            (\"minMaxScaler\", MinMaxScaler()),\n",
    "            (\"estimator\", estimator),\n",
    "        ],\n",
    "    )\n",
    "\n",
    "    return pipeline\n",
    "\n",
    "\n",
    "def set_tracking_uri():\n",
    "    \n",
    "    import mlflow\n",
    "    \n",
    "    mlflow.set_tracking_uri('sqlite:///mlruns.db')\n",
    "    \n",
    "\n",
    "def display_config():\n",
    "    \n",
    "    import mlflow\n",
    "    \n",
    "    print(\"Current model registry uri: {}\".format(mlflow.get_registry_uri()))\n",
    "    print(\"      Current tracking uri: {}\".format(mlflow.get_tracking_uri()))\n",
    "    "
   ]
  },
  {
   "cell_type": "markdown",
   "id": "fec9deb0-769c-4329-b68a-45b2b56e6035",
   "metadata": {},
   "source": [
    "Adición del modelo con mlflow.\\<model_flavor\\>.log_model()\n",
    "---"
   ]
  },
  {
   "cell_type": "code",
   "execution_count": 3,
   "id": "6b80df15-38e9-476b-9672-cd019e4620ca",
   "metadata": {},
   "outputs": [
    {
     "name": "stderr",
     "output_type": "stream",
     "text": [
      "2022/06/03 22:49:22 INFO mlflow.store.db.utils: Creating initial MLflow database tables...\n",
      "2022/06/03 22:49:22 INFO mlflow.store.db.utils: Updating database tables\n",
      "INFO  [alembic.runtime.migration] Context impl SQLiteImpl.\n",
      "INFO  [alembic.runtime.migration] Will assume non-transactional DDL.\n",
      "INFO  [alembic.runtime.migration] Running upgrade  -> 451aebb31d03, add metric step\n",
      "INFO  [alembic.runtime.migration] Running upgrade 451aebb31d03 -> 90e64c465722, migrate user column to tags\n",
      "INFO  [alembic.runtime.migration] Running upgrade 90e64c465722 -> 181f10493468, allow nulls for metric values\n",
      "INFO  [alembic.runtime.migration] Running upgrade 181f10493468 -> df50e92ffc5e, Add Experiment Tags Table\n",
      "INFO  [alembic.runtime.migration] Running upgrade df50e92ffc5e -> 7ac759974ad8, Update run tags with larger limit\n",
      "INFO  [alembic.runtime.migration] Running upgrade 7ac759974ad8 -> 89d4b8295536, create latest metrics table\n",
      "INFO  [89d4b8295536_create_latest_metrics_table_py] Migration complete!\n",
      "INFO  [alembic.runtime.migration] Running upgrade 89d4b8295536 -> 2b4d017a5e9b, add model registry tables to db\n",
      "INFO  [2b4d017a5e9b_add_model_registry_tables_to_db_py] Adding registered_models and model_versions tables to database.\n",
      "INFO  [2b4d017a5e9b_add_model_registry_tables_to_db_py] Migration complete!\n",
      "INFO  [alembic.runtime.migration] Running upgrade 2b4d017a5e9b -> cfd24bdc0731, Update run status constraint with killed\n",
      "INFO  [alembic.runtime.migration] Running upgrade cfd24bdc0731 -> 0a8213491aaa, drop_duplicate_killed_constraint\n",
      "INFO  [alembic.runtime.migration] Running upgrade 0a8213491aaa -> 728d730b5ebd, add registered model tags table\n",
      "INFO  [alembic.runtime.migration] Running upgrade 728d730b5ebd -> 27a6a02d2cf1, add model version tags table\n",
      "INFO  [alembic.runtime.migration] Running upgrade 27a6a02d2cf1 -> 84291f40a231, add run_link to model_version\n",
      "INFO  [alembic.runtime.migration] Running upgrade 84291f40a231 -> a8c4a736bde6, allow nulls for run_id\n",
      "INFO  [alembic.runtime.migration] Running upgrade a8c4a736bde6 -> 39d1c3be5f05, add_is_nan_constraint_for_metrics_tables_if_necessary\n",
      "INFO  [alembic.runtime.migration] Running upgrade 39d1c3be5f05 -> c48cb773bb87, reset_default_value_for_is_nan_in_metrics_table_for_mysql\n",
      "INFO  [alembic.runtime.migration] Running upgrade c48cb773bb87 -> bd07f7e963c5, create index on run_uuid\n",
      "INFO  [alembic.runtime.migration] Context impl SQLiteImpl.\n",
      "INFO  [alembic.runtime.migration] Will assume non-transactional DDL.\n"
     ]
    },
    {
     "name": "stdout",
     "output_type": "stream",
     "text": [
      "MLflow run ID: 1e8edaa87d7b495f92bd5ad32045a7ea\n",
      "Pipeline(steps=[('minMaxScaler', MinMaxScaler()),\n",
      "                ('estimator', KNeighborsRegressor())]):\n",
      "  MSE: 85.34441046511628\n",
      "  MAE: 7.084488372093023\n",
      "  R2: 0.7094208188067321\n"
     ]
    },
    {
     "name": "stderr",
     "output_type": "stream",
     "text": [
      "/Volumes/GitHub/courses-source/notebooks/mlflow/.venv/lib/python3.8/site-packages/setuptools/distutils_patch.py:25: UserWarning: Distutils was imported before Setuptools. This usage is discouraged and may exhibit undesirable behaviors or errors. Please use Setuptools' objects directly or at least import Setuptools first.\n",
      "  warnings.warn(\n",
      "Successfully registered model 'sklearn-5-neighbors-regressor-model'.\n",
      "2022/06/03 22:49:25 INFO mlflow.tracking._model_registry.client: Waiting up to 300 seconds for model version to finish creation.                     Model name: sklearn-5-neighbors-regressor-model, version 1\n",
      "Created version '1' of model 'sklearn-5-neighbors-regressor-model'.\n"
     ]
    }
   ],
   "source": [
    "def make_k_neighbors_regressor(n_neighbors):\n",
    "\n",
    "    from sklearn.neighbors import KNeighborsRegressor\n",
    "\n",
    "    import mlflow\n",
    "\n",
    "    x, y = load_data()\n",
    "    x_train, x_test, y_train, y_test = make_train_test_split(x, y)\n",
    "\n",
    "    estimator = make_pipeline(\n",
    "        estimator=KNeighborsRegressor(n_neighbors=n_neighbors),\n",
    "    )\n",
    "    \n",
    "    set_tracking_uri()\n",
    "\n",
    "    with mlflow.start_run(run_name=\"DEMO_RUN\") as run:\n",
    "\n",
    "        print(f\"MLflow run ID: {run.info.run_id}\")\n",
    "        \n",
    "        estimator.fit(x_train, y_train)\n",
    "\n",
    "        mse, mae, r2 = eval_metrics(\n",
    "            y_true=y_test,\n",
    "            y_pred=estimator.predict(x_test),\n",
    "        )\n",
    "        \n",
    "        report(estimator, mse, mae, r2)\n",
    "        \n",
    "        #\n",
    "        # Parametros y metricas\n",
    "        #\n",
    "        mlflow.log_param('n_neighbors', n_neighbors)\n",
    "        mlflow.log_metric(\"mse\", mse)\n",
    "        mlflow.log_metric(\"mae\", mae)\n",
    "        mlflow.log_metric(\"r2\", r2)\n",
    "        \n",
    "        #\n",
    "        # Registro del modelo como version 1\n",
    "        #\n",
    "        mlflow.sklearn.log_model(\n",
    "            sk_model=estimator,\n",
    "            artifact_path=\"model\",\n",
    "            registered_model_name=f\"sklearn-{n_neighbors}-neighbors-regressor-model\"\n",
    "        )\n",
    "\n",
    "        \n",
    "make_k_neighbors_regressor(n_neighbors=5)"
   ]
  },
  {
   "cell_type": "markdown",
   "id": "af2e8be2-37a6-4767-a949-8d2f16af681b",
   "metadata": {},
   "source": [
    "Adición del modelo con mlflow.register.model()\n",
    "---"
   ]
  },
  {
   "cell_type": "code",
   "execution_count": 4,
   "id": "3950a796-5790-47aa-80ad-54de6c29c711",
   "metadata": {},
   "outputs": [
    {
     "name": "stdout",
     "output_type": "stream",
     "text": [
      "MLflow run ID: afd912e3c5cb46c093e05bfd3d79173c\n",
      "Pipeline(steps=[('minMaxScaler', MinMaxScaler()),\n",
      "                ('estimator', KNeighborsRegressor())]):\n",
      "  MSE: 85.34441046511628\n",
      "  MAE: 7.084488372093023\n",
      "  R2: 0.7094208188067321\n"
     ]
    },
    {
     "name": "stderr",
     "output_type": "stream",
     "text": [
      "Registered model 'sklearn-5-neighbors-regressor-model' already exists. Creating a new version of this model...\n",
      "2022/06/03 22:49:27 INFO mlflow.tracking._model_registry.client: Waiting up to 300 seconds for model version to finish creation.                     Model name: sklearn-5-neighbors-regressor-model, version 2\n",
      "Created version '2' of model 'sklearn-5-neighbors-regressor-model'.\n"
     ]
    }
   ],
   "source": [
    "def make_k_neighbors_regressor(n_neighbors):\n",
    "\n",
    "    from sklearn.neighbors import KNeighborsRegressor\n",
    "\n",
    "    import mlflow\n",
    "\n",
    "    x, y = load_data()\n",
    "    x_train, x_test, y_train, y_test = make_train_test_split(x, y)\n",
    "\n",
    "    estimator = make_pipeline(\n",
    "        estimator=KNeighborsRegressor(n_neighbors=n_neighbors),\n",
    "    )\n",
    "    \n",
    "    set_tracking_uri()\n",
    "\n",
    "    with mlflow.start_run(run_name=\"DEMO_RUN\") as run:\n",
    "\n",
    "        print(f\"MLflow run ID: {run.info.run_id}\")\n",
    "        \n",
    "        estimator.fit(x_train, y_train)\n",
    "\n",
    "        mse, mae, r2 = eval_metrics(\n",
    "            y_true=y_test,\n",
    "            y_pred=estimator.predict(x_test),\n",
    "        )\n",
    "        \n",
    "        report(estimator, mse, mae, r2)\n",
    "        \n",
    "        #\n",
    "        # Parametros y metricas\n",
    "        #\n",
    "        mlflow.log_param('n_neighbors', n_neighbors)\n",
    "        mlflow.log_metric(\"mse\", mse)\n",
    "        mlflow.log_metric(\"mae\", mae)\n",
    "        mlflow.log_metric(\"r2\", r2)\n",
    "        \n",
    "        #\n",
    "        # log del modelo\n",
    "        #\n",
    "        mlflow.sklearn.log_model(estimator, \"model\")\n",
    "              \n",
    "        #\n",
    "        # Despues de realizar muchas corridas, se registra el medelo usando el \n",
    "        # run_id\n",
    "        #\n",
    "        mlflow.register_model(\n",
    "            f\"runs:/{run.info.run_id}\",\n",
    "            f\"sklearn-{n_neighbors}-neighbors-regressor-model\"\n",
    "        )\n",
    "        \n",
    "\n",
    "        \n",
    "make_k_neighbors_regressor(n_neighbors=5)"
   ]
  },
  {
   "cell_type": "markdown",
   "id": "5b6ad8a7-5a15-4667-8e8e-d000d5eb521a",
   "metadata": {},
   "source": [
    "Adición del modelo con create_registered_model()\n",
    "---"
   ]
  },
  {
   "cell_type": "code",
   "execution_count": 5,
   "id": "42443186-93b4-4e9b-8536-f7d94e8eb05f",
   "metadata": {},
   "outputs": [
    {
     "name": "stdout",
     "output_type": "stream",
     "text": [
      "MLflow run ID: 169b0fe18316405992abf4e5b08db6ef\n",
      "Pipeline(steps=[('minMaxScaler', MinMaxScaler()),\n",
      "                ('estimator', KNeighborsRegressor())]):\n",
      "  MSE: 85.34441046511628\n",
      "  MAE: 7.084488372093023\n",
      "  R2: 0.7094208188067321\n"
     ]
    },
    {
     "name": "stderr",
     "output_type": "stream",
     "text": [
      "2022/06/03 22:49:29 INFO mlflow.tracking._model_registry.client: Waiting up to 300 seconds for model version to finish creation.                     Model name: sklearn-5-neighbors-regressor-model, version 3\n"
     ]
    }
   ],
   "source": [
    "def make_k_neighbors_regressor(n_neighbors):\n",
    "\n",
    "    from sklearn.neighbors import KNeighborsRegressor\n",
    "\n",
    "    import mlflow\n",
    "    from mlflow.tracking import MlflowClient\n",
    "\n",
    "    x, y = load_data()\n",
    "    x_train, x_test, y_train, y_test = make_train_test_split(x, y)\n",
    "\n",
    "    estimator = make_pipeline(\n",
    "        estimator=KNeighborsRegressor(n_neighbors=n_neighbors),\n",
    "    )\n",
    "\n",
    "    set_tracking_uri()\n",
    "\n",
    "    with mlflow.start_run(run_name=\"DEMO_RUN\") as run:\n",
    "\n",
    "        print(f\"MLflow run ID: {run.info.run_id}\")\n",
    "\n",
    "        estimator.fit(x_train, y_train)\n",
    "\n",
    "        mse, mae, r2 = eval_metrics(\n",
    "            y_true=y_test,\n",
    "            y_pred=estimator.predict(x_test),\n",
    "        )\n",
    "\n",
    "        report(estimator, mse, mae, r2)\n",
    "\n",
    "        #\n",
    "        # Parametros y metricas\n",
    "        #\n",
    "        mlflow.log_param(\"n_neighbors\", n_neighbors)\n",
    "        mlflow.log_metric(\"mse\", mse)\n",
    "        mlflow.log_metric(\"mae\", mae)\n",
    "        mlflow.log_metric(\"r2\", r2)\n",
    "\n",
    "        #\n",
    "        # log del modelo\n",
    "        #\n",
    "        mlflow.sklearn.log_model(estimator, \"model\")\n",
    "\n",
    "        #\n",
    "        # Despues de realizar muchas corridas, se registra el medelo usando el\n",
    "        # run_id\n",
    "        #\n",
    "        client = MlflowClient()\n",
    "        client.create_model_version(\n",
    "            name=f\"sklearn-{n_neighbors}-neighbors-regressor-model\",\n",
    "            source=f\"mlruns/0/{run.info.run_id}/artifacts/model\",\n",
    "            run_id=run.info.run_id,\n",
    "        )\n",
    "\n",
    "\n",
    "make_k_neighbors_regressor(n_neighbors=5)"
   ]
  },
  {
   "cell_type": "markdown",
   "id": "08fa52ad-3236-4ff0-8cf2-b9bc530bf64e",
   "metadata": {},
   "source": [
    "Carga de una versión específica del modelo\n",
    "---"
   ]
  },
  {
   "cell_type": "code",
   "execution_count": 6,
   "id": "6316dc76-2c35-4ccd-ae29-6feab5dac535",
   "metadata": {},
   "outputs": [
    {
     "data": {
      "text/plain": [
       "array([38.838, 15.852, 11.67 , 26.634, 32.11 , 27.81 , 24.602, 18.056,\n",
       "       18.93 , 42.354])"
      ]
     },
     "execution_count": 6,
     "metadata": {},
     "output_type": "execute_result"
    }
   ],
   "source": [
    "#\n",
    "# Carga de una versión específica del modelo\n",
    "#\n",
    "def predict():\n",
    "    \n",
    "    import mlflow\n",
    "    \n",
    "    x, y = load_data()\n",
    "    x_train, x_test, y_train, y_test = make_train_test_split(x, y)\n",
    "    \n",
    "    model_name = \"sklearn-5-neighbors-regressor-model\"\n",
    "    model_version = 1\n",
    "\n",
    "    model = mlflow.pyfunc.load_model(\n",
    "        model_uri=f\"models:/{model_name}/{model_version}\"\n",
    "    )\n",
    "\n",
    "    return model.predict(x_test[0:10])\n",
    "    \n",
    "    \n",
    "predict()"
   ]
  },
  {
   "cell_type": "markdown",
   "id": "e4247820-bcaf-4794-979c-8b20089d1902",
   "metadata": {},
   "source": [
    "Cambio manual del estado de un modelo\n",
    "---"
   ]
  },
  {
   "cell_type": "markdown",
   "id": "149eff2c-ba9b-46e6-b73b-6a1d644b0a99",
   "metadata": {},
   "source": [
    "* None (cuando se crea)\n",
    "\n",
    "* Staging\n",
    "\n",
    "* Production\n",
    "\n",
    "* Archived"
   ]
  },
  {
   "cell_type": "markdown",
   "id": "4811e40d-d832-481a-bdf1-cf635e47279d",
   "metadata": {},
   "source": [
    "Se entra a mlflow ui y se cambia el estado del modelo."
   ]
  },
  {
   "cell_type": "markdown",
   "id": "ee4732c9-43ce-4853-b11b-258d6ef9e17a",
   "metadata": {},
   "source": [
    "Para visualizar la interfase use:\n",
    "\n",
    "```bash\n",
    "mlflow ui --backend-store-uri sqlite:///mlruns.db\n",
    "```\n",
    "\n",
    "**Nota:** En docker usar:\n",
    "\n",
    "```bash\n",
    "mlflow ui --host 0.0.0.0 --backend-store-uri sqlite:///mlruns.db\n",
    "``` \n",
    "\n",
    "con: \n",
    "\n",
    "http://127.0.0.1:5001\n"
   ]
  },
  {
   "cell_type": "markdown",
   "id": "447dc1e6-10cb-4178-8e3f-3df0fc63967b",
   "metadata": {},
   "source": [
    "**Paso 1**\n",
    "\n",
    "![assets/mlflow-registry-api-workflow-part-0.png](assets/mlflow-registry-api-workflow-part-0.png)"
   ]
  },
  {
   "cell_type": "markdown",
   "id": "3c61feb7-4a7f-4e5d-b986-3586d868a4ad",
   "metadata": {},
   "source": [
    "**Paso 2**\n",
    "\n",
    "![assets/mlflow-registry-api-workflow-part-0.png](assets/mlflow-registry-api-workflow-part-1.png)"
   ]
  },
  {
   "cell_type": "markdown",
   "id": "d9f287aa-43a1-4a2e-a72a-6a2f12028a25",
   "metadata": {},
   "source": [
    "**Paso 3**\n",
    "\n",
    "![assets/mlflow-registry-api-workflow-part-0.png](assets/mlflow-registry-api-workflow-part-2.png)"
   ]
  },
  {
   "cell_type": "markdown",
   "id": "cd591ea1-7d1d-4111-9c58-7027783d47bb",
   "metadata": {},
   "source": [
    "**Paso 4**\n",
    "\n",
    "![assets/mlflow-registry-api-workflow-part-0.png](assets/mlflow-registry-api-workflow-part-3.png)"
   ]
  },
  {
   "cell_type": "markdown",
   "id": "073bb912-0e7b-4d45-aced-65743623f2b7",
   "metadata": {},
   "source": [
    "**Paso 5**\n",
    "\n",
    "![assets/mlflow-registry-api-workflow-part-0.png](assets/mlflow-registry-api-workflow-part-4.png)"
   ]
  },
  {
   "cell_type": "markdown",
   "id": "1357d11e-386e-4f77-870d-6e135b52746e",
   "metadata": {},
   "source": [
    "Carga de un modelo por estado\n",
    "---"
   ]
  },
  {
   "cell_type": "code",
   "execution_count": 7,
   "id": "289b4231-8f58-43f7-8352-87feb634fe39",
   "metadata": {},
   "outputs": [
    {
     "ename": "MlflowException",
     "evalue": "No versions of model with name 'sklearn-5-neighbors-regressor-model' and stage 'Staging' found",
     "output_type": "error",
     "traceback": [
      "\u001b[0;31m---------------------------------------------------------------------------\u001b[0m",
      "\u001b[0;31mMlflowException\u001b[0m                           Traceback (most recent call last)",
      "Input \u001b[0;32mIn [7]\u001b[0m, in \u001b[0;36m<cell line: 18>\u001b[0;34m()\u001b[0m\n\u001b[1;32m     11\u001b[0m     model \u001b[38;5;241m=\u001b[39m mlflow\u001b[38;5;241m.\u001b[39mpyfunc\u001b[38;5;241m.\u001b[39mload_model(\n\u001b[1;32m     12\u001b[0m         model_uri\u001b[38;5;241m=\u001b[39m\u001b[38;5;124mf\u001b[39m\u001b[38;5;124m\"\u001b[39m\u001b[38;5;124mmodels:/\u001b[39m\u001b[38;5;132;01m{\u001b[39;00mmodel_name\u001b[38;5;132;01m}\u001b[39;00m\u001b[38;5;124m/\u001b[39m\u001b[38;5;132;01m{\u001b[39;00mstage\u001b[38;5;132;01m}\u001b[39;00m\u001b[38;5;124m\"\u001b[39m\n\u001b[1;32m     13\u001b[0m     )\n\u001b[1;32m     15\u001b[0m     \u001b[38;5;28;01mreturn\u001b[39;00m model\u001b[38;5;241m.\u001b[39mpredict(x_test[\u001b[38;5;241m0\u001b[39m:\u001b[38;5;241m10\u001b[39m])\n\u001b[0;32m---> 18\u001b[0m \u001b[43mpredict\u001b[49m\u001b[43m(\u001b[49m\u001b[43m)\u001b[49m\n",
      "Input \u001b[0;32mIn [7]\u001b[0m, in \u001b[0;36mpredict\u001b[0;34m()\u001b[0m\n\u001b[1;32m      8\u001b[0m model_name \u001b[38;5;241m=\u001b[39m \u001b[38;5;124m\"\u001b[39m\u001b[38;5;124msklearn-5-neighbors-regressor-model\u001b[39m\u001b[38;5;124m\"\u001b[39m\n\u001b[1;32m      9\u001b[0m stage \u001b[38;5;241m=\u001b[39m \u001b[38;5;124m'\u001b[39m\u001b[38;5;124mStaging\u001b[39m\u001b[38;5;124m'\u001b[39m\n\u001b[0;32m---> 11\u001b[0m model \u001b[38;5;241m=\u001b[39m \u001b[43mmlflow\u001b[49m\u001b[38;5;241;43m.\u001b[39;49m\u001b[43mpyfunc\u001b[49m\u001b[38;5;241;43m.\u001b[39;49m\u001b[43mload_model\u001b[49m\u001b[43m(\u001b[49m\n\u001b[1;32m     12\u001b[0m \u001b[43m    \u001b[49m\u001b[43mmodel_uri\u001b[49m\u001b[38;5;241;43m=\u001b[39;49m\u001b[38;5;124;43mf\u001b[39;49m\u001b[38;5;124;43m\"\u001b[39;49m\u001b[38;5;124;43mmodels:/\u001b[39;49m\u001b[38;5;132;43;01m{\u001b[39;49;00m\u001b[43mmodel_name\u001b[49m\u001b[38;5;132;43;01m}\u001b[39;49;00m\u001b[38;5;124;43m/\u001b[39;49m\u001b[38;5;132;43;01m{\u001b[39;49;00m\u001b[43mstage\u001b[49m\u001b[38;5;132;43;01m}\u001b[39;49;00m\u001b[38;5;124;43m\"\u001b[39;49m\n\u001b[1;32m     13\u001b[0m \u001b[43m\u001b[49m\u001b[43m)\u001b[49m\n\u001b[1;32m     15\u001b[0m \u001b[38;5;28;01mreturn\u001b[39;00m model\u001b[38;5;241m.\u001b[39mpredict(x_test[\u001b[38;5;241m0\u001b[39m:\u001b[38;5;241m10\u001b[39m])\n",
      "File \u001b[0;32m/Volumes/GitHub/courses-source/notebooks/mlflow/.venv/lib/python3.8/site-packages/mlflow/pyfunc/__init__.py:716\u001b[0m, in \u001b[0;36mload_model\u001b[0;34m(model_uri, suppress_warnings, dst_path)\u001b[0m\n\u001b[1;32m    690\u001b[0m \u001b[38;5;28;01mdef\u001b[39;00m \u001b[38;5;21mload_model\u001b[39m(\n\u001b[1;32m    691\u001b[0m     model_uri: \u001b[38;5;28mstr\u001b[39m, suppress_warnings: \u001b[38;5;28mbool\u001b[39m \u001b[38;5;241m=\u001b[39m \u001b[38;5;28;01mFalse\u001b[39;00m, dst_path: \u001b[38;5;28mstr\u001b[39m \u001b[38;5;241m=\u001b[39m \u001b[38;5;28;01mNone\u001b[39;00m\n\u001b[1;32m    692\u001b[0m ) \u001b[38;5;241m-\u001b[39m\u001b[38;5;241m>\u001b[39m PyFuncModel:\n\u001b[1;32m    693\u001b[0m     \u001b[38;5;124;03m\"\"\"\u001b[39;00m\n\u001b[1;32m    694\u001b[0m \u001b[38;5;124;03m    Load a model stored in Python function format.\u001b[39;00m\n\u001b[1;32m    695\u001b[0m \n\u001b[0;32m   (...)\u001b[0m\n\u001b[1;32m    714\u001b[0m \u001b[38;5;124;03m                     path will be created.\u001b[39;00m\n\u001b[1;32m    715\u001b[0m \u001b[38;5;124;03m    \"\"\"\u001b[39;00m\n\u001b[0;32m--> 716\u001b[0m     local_path \u001b[38;5;241m=\u001b[39m \u001b[43m_download_artifact_from_uri\u001b[49m\u001b[43m(\u001b[49m\u001b[43martifact_uri\u001b[49m\u001b[38;5;241;43m=\u001b[39;49m\u001b[43mmodel_uri\u001b[49m\u001b[43m,\u001b[49m\u001b[43m \u001b[49m\u001b[43moutput_path\u001b[49m\u001b[38;5;241;43m=\u001b[39;49m\u001b[43mdst_path\u001b[49m\u001b[43m)\u001b[49m\n\u001b[1;32m    718\u001b[0m     \u001b[38;5;28;01mif\u001b[39;00m \u001b[38;5;129;01mnot\u001b[39;00m suppress_warnings:\n\u001b[1;32m    719\u001b[0m         _warn_dependency_requirement_mismatches(local_path)\n",
      "File \u001b[0;32m/Volumes/GitHub/courses-source/notebooks/mlflow/.venv/lib/python3.8/site-packages/mlflow/tracking/artifact_utils.py:94\u001b[0m, in \u001b[0;36m_download_artifact_from_uri\u001b[0;34m(artifact_uri, output_path)\u001b[0m\n\u001b[1;32m     91\u001b[0m     parsed_uri \u001b[38;5;241m=\u001b[39m parsed_uri\u001b[38;5;241m.\u001b[39m_replace(path\u001b[38;5;241m=\u001b[39mposixpath\u001b[38;5;241m.\u001b[39mdirname(parsed_uri\u001b[38;5;241m.\u001b[39mpath))\n\u001b[1;32m     92\u001b[0m     root_uri \u001b[38;5;241m=\u001b[39m prefix \u001b[38;5;241m+\u001b[39m urllib\u001b[38;5;241m.\u001b[39mparse\u001b[38;5;241m.\u001b[39murlunparse(parsed_uri)\n\u001b[0;32m---> 94\u001b[0m \u001b[38;5;28;01mreturn\u001b[39;00m \u001b[43mget_artifact_repository\u001b[49m\u001b[43m(\u001b[49m\u001b[43martifact_uri\u001b[49m\u001b[38;5;241;43m=\u001b[39;49m\u001b[43mroot_uri\u001b[49m\u001b[43m)\u001b[49m\u001b[38;5;241m.\u001b[39mdownload_artifacts(\n\u001b[1;32m     95\u001b[0m     artifact_path\u001b[38;5;241m=\u001b[39martifact_path, dst_path\u001b[38;5;241m=\u001b[39moutput_path\n\u001b[1;32m     96\u001b[0m )\n",
      "File \u001b[0;32m/Volumes/GitHub/courses-source/notebooks/mlflow/.venv/lib/python3.8/site-packages/mlflow/store/artifact/artifact_repository_registry.py:107\u001b[0m, in \u001b[0;36mget_artifact_repository\u001b[0;34m(artifact_uri)\u001b[0m\n\u001b[1;32m     97\u001b[0m \u001b[38;5;28;01mdef\u001b[39;00m \u001b[38;5;21mget_artifact_repository\u001b[39m(artifact_uri):\n\u001b[1;32m     98\u001b[0m     \u001b[38;5;124;03m\"\"\"Get an artifact repository from the registry based on the scheme of artifact_uri\u001b[39;00m\n\u001b[1;32m     99\u001b[0m \n\u001b[1;32m    100\u001b[0m \u001b[38;5;124;03m    :param artifact_uri: The artifact store URI. This URI is used to select which artifact\u001b[39;00m\n\u001b[0;32m   (...)\u001b[0m\n\u001b[1;32m    105\u001b[0m \u001b[38;5;124;03m             requirements.\u001b[39;00m\n\u001b[1;32m    106\u001b[0m \u001b[38;5;124;03m    \"\"\"\u001b[39;00m\n\u001b[0;32m--> 107\u001b[0m     \u001b[38;5;28;01mreturn\u001b[39;00m \u001b[43m_artifact_repository_registry\u001b[49m\u001b[38;5;241;43m.\u001b[39;49m\u001b[43mget_artifact_repository\u001b[49m\u001b[43m(\u001b[49m\u001b[43martifact_uri\u001b[49m\u001b[43m)\u001b[49m\n",
      "File \u001b[0;32m/Volumes/GitHub/courses-source/notebooks/mlflow/.venv/lib/python3.8/site-packages/mlflow/store/artifact/artifact_repository_registry.py:73\u001b[0m, in \u001b[0;36mArtifactRepositoryRegistry.get_artifact_repository\u001b[0;34m(self, artifact_uri)\u001b[0m\n\u001b[1;32m     66\u001b[0m \u001b[38;5;28;01mif\u001b[39;00m repository \u001b[38;5;129;01mis\u001b[39;00m \u001b[38;5;28;01mNone\u001b[39;00m:\n\u001b[1;32m     67\u001b[0m     \u001b[38;5;28;01mraise\u001b[39;00m MlflowException(\n\u001b[1;32m     68\u001b[0m         \u001b[38;5;124m\"\u001b[39m\u001b[38;5;124mCould not find a registered artifact repository for: \u001b[39m\u001b[38;5;132;01m{}\u001b[39;00m\u001b[38;5;124m. \u001b[39m\u001b[38;5;124m\"\u001b[39m\n\u001b[1;32m     69\u001b[0m         \u001b[38;5;124m\"\u001b[39m\u001b[38;5;124mCurrently registered schemes are: \u001b[39m\u001b[38;5;132;01m{}\u001b[39;00m\u001b[38;5;124m\"\u001b[39m\u001b[38;5;241m.\u001b[39mformat(\n\u001b[1;32m     70\u001b[0m             artifact_uri, \u001b[38;5;28mlist\u001b[39m(\u001b[38;5;28mself\u001b[39m\u001b[38;5;241m.\u001b[39m_registry\u001b[38;5;241m.\u001b[39mkeys())\n\u001b[1;32m     71\u001b[0m         )\n\u001b[1;32m     72\u001b[0m     )\n\u001b[0;32m---> 73\u001b[0m \u001b[38;5;28;01mreturn\u001b[39;00m \u001b[43mrepository\u001b[49m\u001b[43m(\u001b[49m\u001b[43martifact_uri\u001b[49m\u001b[43m)\u001b[49m\n",
      "File \u001b[0;32m/Volumes/GitHub/courses-source/notebooks/mlflow/.venv/lib/python3.8/site-packages/mlflow/store/artifact/models_artifact_repo.py:35\u001b[0m, in \u001b[0;36mModelsArtifactRepository.__init__\u001b[0;34m(self, artifact_uri)\u001b[0m\n\u001b[1;32m     33\u001b[0m     \u001b[38;5;28mself\u001b[39m\u001b[38;5;241m.\u001b[39mrepo \u001b[38;5;241m=\u001b[39m DatabricksModelsArtifactRepository(artifact_uri)\n\u001b[1;32m     34\u001b[0m \u001b[38;5;28;01melse\u001b[39;00m:\n\u001b[0;32m---> 35\u001b[0m     uri \u001b[38;5;241m=\u001b[39m \u001b[43mModelsArtifactRepository\u001b[49m\u001b[38;5;241;43m.\u001b[39;49m\u001b[43mget_underlying_uri\u001b[49m\u001b[43m(\u001b[49m\u001b[43martifact_uri\u001b[49m\u001b[43m)\u001b[49m\n\u001b[1;32m     36\u001b[0m     \u001b[38;5;28mself\u001b[39m\u001b[38;5;241m.\u001b[39mrepo \u001b[38;5;241m=\u001b[39m get_artifact_repository(uri)\n",
      "File \u001b[0;32m/Volumes/GitHub/courses-source/notebooks/mlflow/.venv/lib/python3.8/site-packages/mlflow/store/artifact/models_artifact_repo.py:68\u001b[0m, in \u001b[0;36mModelsArtifactRepository.get_underlying_uri\u001b[0;34m(uri)\u001b[0m\n\u001b[1;32m     64\u001b[0m databricks_profile_uri \u001b[38;5;241m=\u001b[39m (\n\u001b[1;32m     65\u001b[0m     get_databricks_profile_uri_from_artifact_uri(uri) \u001b[38;5;129;01mor\u001b[39;00m mlflow\u001b[38;5;241m.\u001b[39mget_registry_uri()\n\u001b[1;32m     66\u001b[0m )\n\u001b[1;32m     67\u001b[0m client \u001b[38;5;241m=\u001b[39m MlflowClient(registry_uri\u001b[38;5;241m=\u001b[39mdatabricks_profile_uri)\n\u001b[0;32m---> 68\u001b[0m (name, version) \u001b[38;5;241m=\u001b[39m \u001b[43mget_model_name_and_version\u001b[49m\u001b[43m(\u001b[49m\u001b[43mclient\u001b[49m\u001b[43m,\u001b[49m\u001b[43m \u001b[49m\u001b[43muri\u001b[49m\u001b[43m)\u001b[49m\n\u001b[1;32m     69\u001b[0m download_uri \u001b[38;5;241m=\u001b[39m client\u001b[38;5;241m.\u001b[39mget_model_version_download_uri(name, version)\n\u001b[1;32m     70\u001b[0m \u001b[38;5;28;01mreturn\u001b[39;00m add_databricks_profile_info_to_artifact_uri(download_uri, databricks_profile_uri)\n",
      "File \u001b[0;32m/Volumes/GitHub/courses-source/notebooks/mlflow/.venv/lib/python3.8/site-packages/mlflow/store/artifact/utils/models.py:74\u001b[0m, in \u001b[0;36mget_model_name_and_version\u001b[0;34m(client, models_uri)\u001b[0m\n\u001b[1;32m     72\u001b[0m \u001b[38;5;28;01mif\u001b[39;00m model_version \u001b[38;5;129;01mis\u001b[39;00m \u001b[38;5;129;01mnot\u001b[39;00m \u001b[38;5;28;01mNone\u001b[39;00m:\n\u001b[1;32m     73\u001b[0m     \u001b[38;5;28;01mreturn\u001b[39;00m model_name, \u001b[38;5;28mstr\u001b[39m(model_version)\n\u001b[0;32m---> 74\u001b[0m \u001b[38;5;28;01mreturn\u001b[39;00m model_name, \u001b[38;5;28mstr\u001b[39m(\u001b[43m_get_latest_model_version\u001b[49m\u001b[43m(\u001b[49m\u001b[43mclient\u001b[49m\u001b[43m,\u001b[49m\u001b[43m \u001b[49m\u001b[43mmodel_name\u001b[49m\u001b[43m,\u001b[49m\u001b[43m \u001b[49m\u001b[43mmodel_stage\u001b[49m\u001b[43m)\u001b[49m)\n",
      "File \u001b[0;32m/Volumes/GitHub/courses-source/notebooks/mlflow/.venv/lib/python3.8/site-packages/mlflow/store/artifact/utils/models.py:31\u001b[0m, in \u001b[0;36m_get_latest_model_version\u001b[0;34m(client, name, stage)\u001b[0m\n\u001b[1;32m     29\u001b[0m \u001b[38;5;28;01mif\u001b[39;00m \u001b[38;5;28mlen\u001b[39m(latest) \u001b[38;5;241m==\u001b[39m \u001b[38;5;241m0\u001b[39m:\n\u001b[1;32m     30\u001b[0m     stage_str \u001b[38;5;241m=\u001b[39m \u001b[38;5;124m\"\u001b[39m\u001b[38;5;124m\"\u001b[39m \u001b[38;5;28;01mif\u001b[39;00m stage \u001b[38;5;129;01mis\u001b[39;00m \u001b[38;5;28;01mNone\u001b[39;00m \u001b[38;5;28;01melse\u001b[39;00m \u001b[38;5;124m\"\u001b[39m\u001b[38;5;124m and stage \u001b[39m\u001b[38;5;124m'\u001b[39m\u001b[38;5;132;01m{stage}\u001b[39;00m\u001b[38;5;124m'\u001b[39m\u001b[38;5;124m\"\u001b[39m\u001b[38;5;241m.\u001b[39mformat(stage\u001b[38;5;241m=\u001b[39mstage)\n\u001b[0;32m---> 31\u001b[0m     \u001b[38;5;28;01mraise\u001b[39;00m MlflowException(\n\u001b[1;32m     32\u001b[0m         \u001b[38;5;124m\"\u001b[39m\u001b[38;5;124mNo versions of model with name \u001b[39m\u001b[38;5;124m'\u001b[39m\u001b[38;5;132;01m{name}\u001b[39;00m\u001b[38;5;124m'\u001b[39m\u001b[38;5;132;01m{stage_str}\u001b[39;00m\u001b[38;5;124m found\u001b[39m\u001b[38;5;124m\"\u001b[39m\u001b[38;5;241m.\u001b[39mformat(\n\u001b[1;32m     33\u001b[0m             name\u001b[38;5;241m=\u001b[39mname, stage_str\u001b[38;5;241m=\u001b[39mstage_str\n\u001b[1;32m     34\u001b[0m         )\n\u001b[1;32m     35\u001b[0m     )\n\u001b[1;32m     36\u001b[0m \u001b[38;5;28;01mreturn\u001b[39;00m \u001b[38;5;28mmax\u001b[39m(\u001b[38;5;28mmap\u001b[39m(\u001b[38;5;28;01mlambda\u001b[39;00m x: \u001b[38;5;28mint\u001b[39m(x\u001b[38;5;241m.\u001b[39mversion), latest))\n",
      "\u001b[0;31mMlflowException\u001b[0m: No versions of model with name 'sklearn-5-neighbors-regressor-model' and stage 'Staging' found"
     ]
    }
   ],
   "source": [
    "def predict():\n",
    "    \n",
    "    import mlflow\n",
    "    \n",
    "    x, y = load_data()\n",
    "    x_train, x_test, y_train, y_test = make_train_test_split(x, y)\n",
    "    \n",
    "    model_name = \"sklearn-5-neighbors-regressor-model\"\n",
    "    stage = 'Staging'\n",
    "\n",
    "    model = mlflow.pyfunc.load_model(\n",
    "        model_uri=f\"models:/{model_name}/{stage}\"\n",
    "    )\n",
    "\n",
    "    return model.predict(x_test[0:10])\n",
    "    \n",
    "    \n",
    "predict()"
   ]
  },
  {
   "cell_type": "markdown",
   "id": "ece3c9e6-4efb-458c-9b59-05f936f80233",
   "metadata": {},
   "source": [
    "Puesta en productivo como un API\n",
    "---\n",
    "\n",
    "```bash\n",
    "#!/usr/bin/env sh\n",
    "\n",
    "export MLFLOW_TRACKING_URI=http://localhost:5000\n",
    "\n",
    "mlflow models serve -m \"models:/sklearn-5-neighbors-regressor-model/Production\"\n",
    "\n",
    "```"
   ]
  },
  {
   "cell_type": "markdown",
   "id": "dc9b8454-544c-4d8a-8d8a-6cb1c731a7d6",
   "metadata": {},
   "source": [
    "Cambio del estado de un modelo por código\n",
    "---"
   ]
  },
  {
   "cell_type": "code",
   "execution_count": null,
   "id": "abc855e4-d8d3-4774-8e30-6dd035ce5d9e",
   "metadata": {},
   "outputs": [],
   "source": [
    "def change_name():\n",
    "\n",
    "    import mlflow\n",
    "\n",
    "    client = mlflow.tracking.MlflowClient()\n",
    "\n",
    "    client.transition_model_version_stage(\n",
    "        name=\"sklearn-5-neighbors-regressor-model\",\n",
    "        version=1,\n",
    "        #  Staging|Archived|Production|None\n",
    "        stage=\"Production\",\n",
    "    )\n",
    "\n",
    "\n",
    "change_name()"
   ]
  },
  {
   "cell_type": "markdown",
   "id": "25230d53-07c8-40a2-9365-3534532ab381",
   "metadata": {},
   "source": [
    "Listado y búsqueda de modelos\n",
    "--"
   ]
  },
  {
   "cell_type": "code",
   "execution_count": null,
   "id": "9885e12e-04e3-4445-9c98-b7c273c6d263",
   "metadata": {},
   "outputs": [],
   "source": [
    "def list_models():\n",
    "\n",
    "    from pprint import pprint\n",
    "\n",
    "    import mlflow\n",
    "\n",
    "    client = mlflow.tracking.MlflowClient()\n",
    "\n",
    "    for rm in client.list_registered_models():\n",
    "        pprint(dict(rm), indent=4)\n",
    "        \n",
    "        \n",
    "list_models()"
   ]
  },
  {
   "cell_type": "code",
   "execution_count": null,
   "id": "47d1859c-4fe9-411f-9070-1a55aa880eb3",
   "metadata": {},
   "outputs": [],
   "source": [
    "def search_models():\n",
    "    \n",
    "    from pprint import pprint\n",
    "\n",
    "    import mlflow\n",
    "\n",
    "    client = mlflow.tracking.MlflowClient()\n",
    "    \n",
    "    for mv in client.search_model_versions(\"name='sklearn-5-neighbors-regressor-model'\"):\n",
    "        pprint(dict(mv), indent=4)\n",
    "        print()\n",
    "        \n",
    "search_models()"
   ]
  }
 ],
 "metadata": {
  "kernelspec": {
   "display_name": "Python 3 (ipykernel)",
   "language": "python",
   "name": "python3"
  },
  "language_info": {
   "codemirror_mode": {
    "name": "ipython",
    "version": 3
   },
   "file_extension": ".py",
   "mimetype": "text/x-python",
   "name": "python",
   "nbconvert_exporter": "python",
   "pygments_lexer": "ipython3",
   "version": "3.8.9"
  }
 },
 "nbformat": 4,
 "nbformat_minor": 5
}
