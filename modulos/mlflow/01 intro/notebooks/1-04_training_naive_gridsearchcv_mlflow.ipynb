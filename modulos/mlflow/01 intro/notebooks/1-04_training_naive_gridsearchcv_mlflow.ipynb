{
 "cells": [
  {
   "cell_type": "markdown",
   "id": "7f8fcfa0-86dc-4739-959d-fe5dde256310",
   "metadata": {
    "tags": []
   },
   "source": [
    "Entrenamiento de modelos en sklearn con GridSearchCV y MLflow\n",
    "===\n",
    "\n",
    "* Ultima modificación: Mayo 14, 2022"
   ]
  },
  {
   "cell_type": "markdown",
   "id": "e3be0422-2674-4ed4-aa46-82a79962366e",
   "metadata": {},
   "source": [
    "Carga de datos\n",
    "---"
   ]
  },
  {
   "cell_type": "code",
   "execution_count": 1,
   "id": "435ea39e-f3a7-4a43-82d9-dc14a0e69354",
   "metadata": {},
   "outputs": [],
   "source": [
    "def load_data():\n",
    "\n",
    "    import pandas as pd\n",
    "\n",
    "    url = \"http://archive.ics.uci.edu/ml/machine-learning-databases/wine-quality/winequality-red.csv\"\n",
    "    df = pd.read_csv(url, sep=\";\")\n",
    "\n",
    "    y = df[\"quality\"]\n",
    "    x = df.copy()\n",
    "    x.pop(\"quality\")\n",
    "\n",
    "    return x, y"
   ]
  },
  {
   "cell_type": "markdown",
   "id": "eae96446-e173-4d82-98a5-5e79e1bcd41c",
   "metadata": {},
   "source": [
    "Particionamiento de los datos\n",
    "---"
   ]
  },
  {
   "cell_type": "code",
   "execution_count": 2,
   "id": "16052a77-ecfe-4792-80f4-87c83c2ef3c1",
   "metadata": {},
   "outputs": [],
   "source": [
    "def make_train_test_split(x, y):\n",
    "\n",
    "    from sklearn.model_selection import train_test_split\n",
    "\n",
    "    (x_train, x_test, y_train, y_test) = train_test_split(\n",
    "        x,\n",
    "        y,\n",
    "        test_size=0.25,\n",
    "        random_state=123456,\n",
    "    )\n",
    "    return x_train, x_test, y_train, y_test"
   ]
  },
  {
   "cell_type": "markdown",
   "id": "305c577f-3890-40df-afb6-82e43b5dec55",
   "metadata": {},
   "source": [
    "Cálculo de métricas de evaluación\n",
    "---"
   ]
  },
  {
   "cell_type": "code",
   "execution_count": 3,
   "id": "faf87300-2c2a-4fb6-8770-afd008908464",
   "metadata": {},
   "outputs": [],
   "source": [
    "def eval_metrics(y_true, y_pred):\n",
    "\n",
    "    from sklearn.metrics import mean_absolute_error, mean_squared_error, r2_score\n",
    "\n",
    "    mse = mean_squared_error(y_true, y_pred)\n",
    "    mae = mean_absolute_error(y_true, y_pred)\n",
    "    r2 = r2_score(y_true, y_pred)\n",
    "\n",
    "    return mse, mae, r2"
   ]
  },
  {
   "cell_type": "markdown",
   "id": "adabce6c-48d1-40c1-843f-4e3cd51507cd",
   "metadata": {},
   "source": [
    "Reporte de métricas de evaluación\n",
    "---"
   ]
  },
  {
   "cell_type": "code",
   "execution_count": 4,
   "id": "fb165750-dde2-4a24-a966-69c10f63efa3",
   "metadata": {},
   "outputs": [],
   "source": [
    "def report(estimator, mse, mae, r2):\n",
    "\n",
    "    print(estimator, \":\", sep=\"\")\n",
    "    print(f\"  MSE: {mse}\")\n",
    "    print(f\"  MAE: {mae}\")\n",
    "    print(f\"  R2: {r2}\")"
   ]
  },
  {
   "cell_type": "markdown",
   "id": "f53b42f5-7e38-447c-b919-48544f8a39c3",
   "metadata": {},
   "source": [
    "Almacenamiento del modelo\n",
    "---"
   ]
  },
  {
   "cell_type": "code",
   "execution_count": 5,
   "id": "c66cbac7-4027-4ab1-82d9-2d5ef4063fd8",
   "metadata": {},
   "outputs": [],
   "source": [
    "# ----------------------------------------------------------------------------- \n",
    "# Ya no se requiere con MLflow\n",
    "# ----------------------------------------------------------------------------- \n",
    "# \n",
    "# def save_best_estimator(estimator):\n",
    "# \n",
    "#     import os\n",
    "#     import pickle\n",
    "# \n",
    "#     if not os.path.exists(\"models\"):\n",
    "#         os.makedirs(\"models\")\n",
    "#     with open(\"models/estimator.pickle\", \"wb\") as file:\n",
    "#         pickle.dump(estimator, file)\n",
    "#"
   ]
  },
  {
   "cell_type": "markdown",
   "id": "62921a4b-69c5-4ab2-b428-8c06ab206fe2",
   "metadata": {},
   "source": [
    "Carga del modelo\n",
    "---"
   ]
  },
  {
   "cell_type": "code",
   "execution_count": 6,
   "id": "ed4df17b-6b55-47a6-b32f-71b0d71b43fb",
   "metadata": {},
   "outputs": [],
   "source": [
    "# ----------------------------------------------------------------------------- \n",
    "# Ya no se requiere con MLflow\n",
    "# ----------------------------------------------------------------------------- \n",
    "# \n",
    "# def load_best_estimator():\n",
    "# \n",
    "#     import os\n",
    "#     import pickle\n",
    "# \n",
    "#     if not os.path.exists(\"models\"):\n",
    "#         return None\n",
    "#     with open(\"models/estimator.pickle\", \"rb\") as file:\n",
    "#         estimator = pickle.load(file)\n",
    "# \n",
    "#     return estimator\n",
    "#"
   ]
  },
  {
   "cell_type": "markdown",
   "id": "23ce5b6b-8375-4364-a26a-ce93047f25ac",
   "metadata": {},
   "source": [
    "Entrenamiento\n",
    "---"
   ]
  },
  {
   "cell_type": "code",
   "execution_count": 7,
   "id": "13ca8eb5-9ade-4d0c-b8f9-58dd7ca0511d",
   "metadata": {},
   "outputs": [],
   "source": [
    "def train_estimator(alphas, l1_ratios, n_splits=5, verbose=1):\n",
    "\n",
    "    import mlflow.sklearn\n",
    "    from sklearn.linear_model import ElasticNet\n",
    "    from sklearn.model_selection import GridSearchCV\n",
    "\n",
    "    import mlflow\n",
    "\n",
    "    x, y = load_data()\n",
    "    x_train, x_test, y_train, y_test = make_train_test_split(x, y)\n",
    "\n",
    "    # -------------------------------------------------------------------------\n",
    "    # Búsqueda de parámetros con validación cruzada\n",
    "    #\n",
    "    estimator = GridSearchCV(\n",
    "        estimator=ElasticNet(\n",
    "            random_state=12345,\n",
    "        ),\n",
    "        param_grid={\n",
    "            \"alpha\": alphas,\n",
    "            \"l1_ratio\": l1_ratios,\n",
    "        },\n",
    "        cv=n_splits,\n",
    "        refit=True,\n",
    "        verbose=0,\n",
    "        return_train_score=False,\n",
    "    )\n",
    "    # -------------------------------------------------------------------------\n",
    "\n",
    "    estimator.fit(x_train, y_train)\n",
    "\n",
    "    estimator = estimator.best_estimator_\n",
    "\n",
    "    mse, mae, r2 = eval_metrics(y_test, y_pred=estimator.predict(x_test))\n",
    "    if verbose > 0:\n",
    "        report(estimator, mse, mae, r2)\n",
    "\n",
    "    with mlflow.start_run():\n",
    "\n",
    "        params = estimator.get_params()\n",
    "\n",
    "        mlflow.log_param(\"alpha\", params[\"alpha\"])\n",
    "        mlflow.log_param(\"l1_ratio\", params[\"l1_ratio\"])\n",
    "        mlflow.log_metric(\"mse\", mse)\n",
    "        mlflow.log_metric(\"mae\", mae)\n",
    "        mlflow.log_metric(\"r2\", r2)\n",
    "\n",
    "        mlflow.sklearn.log_model(estimator, \"model\")"
   ]
  },
  {
   "cell_type": "code",
   "execution_count": 8,
   "id": "cf099de8-3152-4aa5-a8d1-b85b34bcd652",
   "metadata": {},
   "outputs": [
    {
     "name": "stdout",
     "output_type": "stream",
     "text": [
      "ElasticNet(alpha=0.0001, l1_ratio=0.16673333333333332, random_state=12345):\n",
      "  MSE: 0.4555342217989927\n",
      "  MAE: 0.5292810437627216\n",
      "  R2: 0.34641239384627454\n"
     ]
    }
   ],
   "source": [
    "import numpy as np\n",
    "\n",
    "train_estimator(\n",
    "    alphas=np.linspace(0.0001, 0.5, 10),\n",
    "    l1_ratios=np.linspace(0.0001, 0.5, 10),\n",
    "    n_splits=5,\n",
    "    verbose=1,\n",
    ")"
   ]
  },
  {
   "cell_type": "markdown",
   "id": "d232297e-8232-4b91-af6e-22a8d05d92b4",
   "metadata": {},
   "source": [
    "MLflow ui\n",
    "---"
   ]
  },
  {
   "cell_type": "markdown",
   "id": "229102d0-3581-47f3-a1b7-76328450ff07",
   "metadata": {},
   "source": [
    "Para visualizar la interfase use:\n",
    "\n",
    "```bash\n",
    "mlflow ui\n",
    "```\n",
    "\n",
    "**Nota:** En docker usar:\n",
    "\n",
    "```bash\n",
    "mlflow ui --host 0.0.0.0 \n",
    "``` \n",
    "\n",
    "con: \n",
    "\n",
    "http://127.0.0.1:5001\n"
   ]
  },
  {
   "cell_type": "markdown",
   "id": "23698113-ff0c-473d-a99b-9cba037379fe",
   "metadata": {},
   "source": [
    "![assets/mlflow-basic-example-3-part-A.png](assets/mlflow-basic-example-3-part-A.png)"
   ]
  },
  {
   "cell_type": "markdown",
   "id": "96f0e9f2-ea39-4296-a4a0-46f040b825f9",
   "metadata": {},
   "source": [
    "**Detalles de la corrida**"
   ]
  },
  {
   "cell_type": "markdown",
   "id": "27b3d550-1b36-4c90-91b8-c68178f0ea2a",
   "metadata": {},
   "source": [
    "![assets/mlflow-basic-example-3-part-B.png](assets/mlflow-basic-example-3-part-B.png)\n",
    "![assets/mlflow-basic-example-3-part-C.png](assets/mlflow-basic-example-3-part-C.png)\n",
    "![assets/mlflow-basic-example-3-part-D.png](assets/mlflow-basic-example-3-part-D.png)"
   ]
  },
  {
   "cell_type": "markdown",
   "id": "928de67d-5d48-484c-abad-6278224f488b",
   "metadata": {
    "tags": []
   },
   "source": [
    "Chequeo\n",
    "---"
   ]
  },
  {
   "cell_type": "code",
   "execution_count": null,
   "id": "f524f13f-de2d-41f2-8030-c92fca1bdaa6",
   "metadata": {},
   "outputs": [],
   "source": [
    "def check_estimator():\n",
    "\n",
    "    import mlflow\n",
    "\n",
    "    x, y = load_data()\n",
    "    x_train, x_test, y_train, y_test = make_train_test_split(x, y)\n",
    "\n",
    "    # NOTA: este parámetro es copiado directamente de la interfase de MLflow\n",
    "    estimator_path = \"runs:/3aaec3b8a3724b3d8ca3406a98f47a1a/model\"\n",
    "    estimator = mlflow.pyfunc.load_model(estimator_path)\n",
    "    mse, mae, r2 = eval_metrics(y_test, y_pred=estimator.predict(x_test))\n",
    "    report(estimator, mse, mae, r2)\n",
    "\n",
    "\n",
    "#\n",
    "# Debe coincidir con el mejor modelo encontrado en la celdas anteriores\n",
    "#\n",
    "check_estimator()"
   ]
  },
  {
   "cell_type": "code",
   "execution_count": 10,
   "id": "09f93621-61f9-4821-aa51-eee958d2febf",
   "metadata": {},
   "outputs": [],
   "source": [
    "%%bash\n",
    "rm -rf outputs mlruns models"
   ]
  }
 ],
 "metadata": {
  "kernelspec": {
   "display_name": "Python 3 (ipykernel)",
   "language": "python",
   "name": "python3"
  },
  "language_info": {
   "codemirror_mode": {
    "name": "ipython",
    "version": 3
   },
   "file_extension": ".py",
   "mimetype": "text/x-python",
   "name": "python",
   "nbconvert_exporter": "python",
   "pygments_lexer": "ipython3",
   "version": "3.8.10"
  }
 },
 "nbformat": 4,
 "nbformat_minor": 5
}
