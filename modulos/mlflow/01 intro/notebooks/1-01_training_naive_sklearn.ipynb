{
 "cells": [
  {
   "cell_type": "markdown",
   "id": "7f8fcfa0-86dc-4739-959d-fe5dde256310",
   "metadata": {
    "tags": []
   },
   "source": [
    "Entrenamiento ingenuo de modelos en sklearn\n",
    "===\n",
    "\n",
    "* Ultima modificación: Junio 3, 2022"
   ]
  },
  {
   "cell_type": "markdown",
   "id": "93b722cb-319d-4642-ac7b-f6117e60ae0b",
   "metadata": {},
   "source": [
    "https://www.mlflow.org/docs/latest/quickstart.html"
   ]
  },
  {
   "cell_type": "markdown",
   "id": "fe20025a-9975-4684-ab92-3025911cd31a",
   "metadata": {},
   "source": [
    "Carga de datos\n",
    "---"
   ]
  },
  {
   "cell_type": "code",
   "execution_count": 1,
   "id": "435ea39e-f3a7-4a43-82d9-dc14a0e69354",
   "metadata": {},
   "outputs": [],
   "source": [
    "def load_data():\n",
    "\n",
    "    import pandas as pd\n",
    "\n",
    "    url = \"http://archive.ics.uci.edu/ml/machine-learning-databases/wine-quality/winequality-red.csv\"\n",
    "    df = pd.read_csv(url, sep=\";\")\n",
    "\n",
    "    y = df[\"quality\"]\n",
    "    x = df.copy()\n",
    "    x.pop(\"quality\")\n",
    "\n",
    "    return x, y"
   ]
  },
  {
   "cell_type": "markdown",
   "id": "9664c7d9-c793-46bb-9da2-4cd7ef2b7551",
   "metadata": {},
   "source": [
    "Particionamiento de los datos\n",
    "---"
   ]
  },
  {
   "cell_type": "code",
   "execution_count": 2,
   "id": "16052a77-ecfe-4792-80f4-87c83c2ef3c1",
   "metadata": {},
   "outputs": [],
   "source": [
    "def make_train_test_split(x, y):\n",
    "\n",
    "    from sklearn.model_selection import train_test_split\n",
    "\n",
    "    (x_train, x_test, y_train, y_test) = train_test_split(\n",
    "        x,\n",
    "        y,\n",
    "        test_size=0.25,\n",
    "        random_state=123456,\n",
    "    )\n",
    "    return x_train, x_test, y_train, y_test"
   ]
  },
  {
   "cell_type": "markdown",
   "id": "7effd7ff-7219-4a4d-a025-3ab6ebc30973",
   "metadata": {},
   "source": [
    "Cálculo de métricas de evaluación\n",
    "---"
   ]
  },
  {
   "cell_type": "code",
   "execution_count": 3,
   "id": "faf87300-2c2a-4fb6-8770-afd008908464",
   "metadata": {},
   "outputs": [],
   "source": [
    "def eval_metrics(y_true, y_pred):\n",
    "\n",
    "    from sklearn.metrics import mean_absolute_error, mean_squared_error, r2_score\n",
    "\n",
    "    mse = mean_squared_error(y_true, y_pred)\n",
    "    mae = mean_absolute_error(y_true, y_pred)\n",
    "    r2 = r2_score(y_true, y_pred)\n",
    "\n",
    "    return mse, mae, r2"
   ]
  },
  {
   "cell_type": "markdown",
   "id": "615d586e-44cb-40c9-8bf9-01dac5f7a029",
   "metadata": {},
   "source": [
    "Reporte de métricas de evaluación\n",
    "---"
   ]
  },
  {
   "cell_type": "code",
   "execution_count": 4,
   "id": "fb165750-dde2-4a24-a966-69c10f63efa3",
   "metadata": {},
   "outputs": [],
   "source": [
    "def report(estimator, mse, mae, r2):\n",
    "\n",
    "    print(estimator, \":\", sep=\"\")\n",
    "    print(f\"  MSE: {mse}\")\n",
    "    print(f\"  MAE: {mae}\")\n",
    "    print(f\"  R2: {r2}\")"
   ]
  },
  {
   "cell_type": "markdown",
   "id": "cc12ed84-7877-4112-a7c3-b3358b6f2fbd",
   "metadata": {},
   "source": [
    "Almacenamiento del modelo\n",
    "---"
   ]
  },
  {
   "cell_type": "code",
   "execution_count": 5,
   "id": "c66cbac7-4027-4ab1-82d9-2d5ef4063fd8",
   "metadata": {},
   "outputs": [],
   "source": [
    "def save_best_estimator(estimator):\n",
    "\n",
    "    import os\n",
    "    import pickle\n",
    "\n",
    "    if not os.path.exists(\"models\"):\n",
    "        os.makedirs(\"models\")\n",
    "    with open(\"models/estimator.pickle\", \"wb\") as file:\n",
    "        pickle.dump(estimator, file)"
   ]
  },
  {
   "cell_type": "markdown",
   "id": "d58d7ac8-7141-4651-95ba-a2ede7f9c937",
   "metadata": {},
   "source": [
    "Carga del modelo\n",
    "---"
   ]
  },
  {
   "cell_type": "code",
   "execution_count": 6,
   "id": "ed4df17b-6b55-47a6-b32f-71b0d71b43fb",
   "metadata": {},
   "outputs": [],
   "source": [
    "def load_best_estimator():\n",
    "\n",
    "    import os\n",
    "    import pickle\n",
    "\n",
    "    if not os.path.exists(\"models\"):\n",
    "        return None\n",
    "    with open(\"models/estimator.pickle\", \"rb\") as file:\n",
    "        estimator = pickle.load(file)\n",
    "\n",
    "    return estimator"
   ]
  },
  {
   "cell_type": "markdown",
   "id": "bb62439b-6bf4-427a-bd1a-50751b549d4e",
   "metadata": {},
   "source": [
    "Entrenamiento\n",
    "---"
   ]
  },
  {
   "cell_type": "code",
   "execution_count": 7,
   "id": "a5dc2935-25bf-4719-9f2b-099d7c091ca3",
   "metadata": {},
   "outputs": [],
   "source": [
    "def train_estimator(alpha=0.5, l1_ratio=0.5, verbose=1):\n",
    "\n",
    "    from sklearn.linear_model import ElasticNet\n",
    "\n",
    "    x, y = load_data()\n",
    "    x_train, x_test, y_train, y_test = make_train_test_split(x, y)\n",
    "    estimator = ElasticNet(alpha=alpha, l1_ratio=l1_ratio, random_state=12345)\n",
    "    estimator.fit(x_train, y_train)\n",
    "    mse, mae, r2 = eval_metrics(y_test, y_pred=estimator.predict(x_test))\n",
    "    if verbose > 0:\n",
    "        report(estimator, mse, mae, r2)\n",
    "\n",
    "    best_estimator = load_best_estimator()\n",
    "    if best_estimator is None or estimator.score(x_test, y_test) > best_estimator.score(\n",
    "        x_test, y_test\n",
    "    ):\n",
    "        best_estimator = estimator\n",
    "\n",
    "    save_best_estimator(best_estimator)"
   ]
  },
  {
   "cell_type": "markdown",
   "id": "6207931f-f061-4ff8-b57d-8dd657cd94de",
   "metadata": {},
   "source": [
    "Búsqueda manual de los mejores hiperparámetros\n",
    "---"
   ]
  },
  {
   "cell_type": "code",
   "execution_count": 8,
   "id": "46529e65-5a0b-4ec5-8910-1ce3b64aa233",
   "metadata": {},
   "outputs": [
    {
     "name": "stdout",
     "output_type": "stream",
     "text": [
      "models/estimator.pickle\n"
     ]
    }
   ],
   "source": [
    "!ls -1 models/*"
   ]
  },
  {
   "cell_type": "code",
   "execution_count": 9,
   "id": "683effa9-e5d5-42a1-b19a-006c44fcbf6b",
   "metadata": {},
   "outputs": [
    {
     "name": "stdout",
     "output_type": "stream",
     "text": [
      "ElasticNet(alpha=0.5, random_state=12345):\n",
      "  MSE: 0.6349429447805036\n",
      "  MAE: 0.6453803508338732\n",
      "  R2: 0.0890018368226928\n"
     ]
    }
   ],
   "source": [
    "train_estimator(0.5, 0.5)"
   ]
  },
  {
   "cell_type": "code",
   "execution_count": 10,
   "id": "cb52b931-2dce-4bb9-8292-79260529b7eb",
   "metadata": {},
   "outputs": [
    {
     "name": "stdout",
     "output_type": "stream",
     "text": [
      "ElasticNet(alpha=0.2, l1_ratio=0.2, random_state=12345):\n",
      "  MSE: 0.5170837474931838\n",
      "  MAE: 0.5701436798648394\n",
      "  R2: 0.2581028767270219\n"
     ]
    }
   ],
   "source": [
    "train_estimator(0.2, 0.2)"
   ]
  },
  {
   "cell_type": "code",
   "execution_count": 11,
   "id": "4e6837bd-5a40-4f61-bcee-b97580f9b082",
   "metadata": {},
   "outputs": [
    {
     "name": "stdout",
     "output_type": "stream",
     "text": [
      "ElasticNet(alpha=0.1, l1_ratio=0.1, random_state=12345):\n",
      "  MSE: 0.489021012335199\n",
      "  MAE: 0.551252749110561\n",
      "  R2: 0.29836649473051535\n"
     ]
    }
   ],
   "source": [
    "train_estimator(0.1, 0.1)"
   ]
  },
  {
   "cell_type": "code",
   "execution_count": 12,
   "id": "39605639-bbc4-4527-89b1-91a8df736c30",
   "metadata": {},
   "outputs": [
    {
     "name": "stdout",
     "output_type": "stream",
     "text": [
      "ElasticNet(alpha=0.1, l1_ratio=0.05, random_state=12345):\n",
      "  MSE: 0.48683363717622585\n",
      "  MAE: 0.5493759222336462\n",
      "  R2: 0.30150487868829456\n"
     ]
    }
   ],
   "source": [
    "train_estimator(0.1, 0.05)"
   ]
  },
  {
   "cell_type": "code",
   "execution_count": 13,
   "id": "adb148ec-9a5c-4920-bf14-ef2706aa5357",
   "metadata": {},
   "outputs": [
    {
     "name": "stdout",
     "output_type": "stream",
     "text": [
      "ElasticNet(alpha=0.3, l1_ratio=0.2, random_state=12345):\n",
      "  MSE: 0.5322180010211477\n",
      "  MAE: 0.5793993870194708\n",
      "  R2: 0.23638867818623654\n"
     ]
    }
   ],
   "source": [
    "train_estimator(0.3, 0.2)"
   ]
  },
  {
   "cell_type": "markdown",
   "id": "f3f547d6-55ed-4761-94e5-0cf7cf641d7a",
   "metadata": {},
   "source": [
    "Chequeo\n",
    "---"
   ]
  },
  {
   "cell_type": "code",
   "execution_count": 14,
   "id": "f807a992-85e2-4abe-8097-d4b75661629d",
   "metadata": {},
   "outputs": [
    {
     "name": "stdout",
     "output_type": "stream",
     "text": [
      "ElasticNet(alpha=0.0001, l1_ratio=0.0001, random_state=12345):\n",
      "  MSE: 0.4555137059864613\n",
      "  MAE: 0.5292599144523824\n",
      "  R2: 0.3464418293533321\n"
     ]
    }
   ],
   "source": [
    "def check_estimator():\n",
    "\n",
    "    x, y = load_data()\n",
    "    x_train, x_test, y_train, y_test = make_train_test_split(x, y)\n",
    "    estimator = load_best_estimator()\n",
    "    mse, mae, r2 = eval_metrics(y_test, y_pred=estimator.predict(x_test))\n",
    "    report(estimator, mse, mae, r2)\n",
    "\n",
    "\n",
    "#\n",
    "# Debe coincidir con el mejor modelo encontrado en la celdas anteriores\n",
    "#\n",
    "check_estimator()"
   ]
  },
  {
   "cell_type": "markdown",
   "id": "be44da63-64ba-4ccf-ba78-9b391126e278",
   "metadata": {},
   "source": [
    "Problemas de esta aproximación\n",
    "---"
   ]
  },
  {
   "cell_type": "markdown",
   "id": "e3829d25-144e-4ec1-92bf-ecd210397568",
   "metadata": {},
   "source": [
    "* El usuario tiene que decidir en cada iteración que valores tantear.\n",
    "\n",
    "* No se almacenan los resultados de cada corrida.\n",
    "\n",
    "* La complejidad aumenta exponencialmente para el usuario con el aumento de parámetros elegibles.\n",
    "\n",
    "* No tiene en cuenta aspectos como la validación cruzada."
   ]
  },
  {
   "cell_type": "markdown",
   "id": "cf1a234b-6c35-43c0-a083-015312d36bb6",
   "metadata": {},
   "source": [
    "Búsqueda por código\n",
    "---"
   ]
  },
  {
   "cell_type": "code",
   "execution_count": 15,
   "id": "dc7c1932-31ae-492b-b841-f35bb04b01ef",
   "metadata": {},
   "outputs": [],
   "source": [
    "def make_hyperparameters_search(alphas, l1_ratios):\n",
    "    \n",
    "    for alpha in alphas:\n",
    "        for l1_ratio in l1_ratios:\n",
    "            train_estimator(alpha=alpha, l1_ratio=l1_ratio, verbose=0)"
   ]
  },
  {
   "cell_type": "code",
   "execution_count": 16,
   "id": "4a06c475-7b95-4113-8f89-d1a392c4b0af",
   "metadata": {},
   "outputs": [
    {
     "name": "stdout",
     "output_type": "stream",
     "text": [
      "ElasticNet(alpha=0.0001, l1_ratio=0.0001, random_state=12345):\n",
      "  MSE: 0.4555137059864613\n",
      "  MAE: 0.5292599144523824\n",
      "  R2: 0.3464418293533321\n"
     ]
    }
   ],
   "source": [
    "import numpy as np\n",
    "\n",
    "alphas = np.linspace(0.0001, 0.5, 10)\n",
    "l1_ratios = np.linspace(0.0001, 0.5, 10)\n",
    "make_hyperparameters_search(alphas, l1_ratios)\n",
    "check_estimator()"
   ]
  },
  {
   "cell_type": "markdown",
   "id": "baaa7d85-3b53-4d87-9003-d67966d2efe6",
   "metadata": {},
   "source": [
    "* Esta aproximación es util solo cuando hay pocos hiperparámetros.\n",
    "\n",
    "* Tampoco se almacenan parámetros de las corridas, solo el mejor modelo."
   ]
  },
  {
   "cell_type": "code",
   "execution_count": 17,
   "id": "09f93621-61f9-4821-aa51-eee958d2febf",
   "metadata": {},
   "outputs": [],
   "source": [
    "%%bash\n",
    "rm -rf outputs mlruns models"
   ]
  }
 ],
 "metadata": {
  "kernelspec": {
   "display_name": "Python 3 (ipykernel)",
   "language": "python",
   "name": "python3"
  },
  "language_info": {
   "codemirror_mode": {
    "name": "ipython",
    "version": 3
   },
   "file_extension": ".py",
   "mimetype": "text/x-python",
   "name": "python",
   "nbconvert_exporter": "python",
   "pygments_lexer": "ipython3",
   "version": "3.8.10"
  }
 },
 "nbformat": 4,
 "nbformat_minor": 5
}
