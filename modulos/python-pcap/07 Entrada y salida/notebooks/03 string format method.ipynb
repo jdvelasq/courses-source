{
 "cells": [
  {
   "cell_type": "markdown",
   "id": "4b45c70b-5e68-4dc7-a035-90161d9fc52a",
   "metadata": {
    "tags": []
   },
   "source": [
    "El método format() --- 8:38 min\n",
    "===\n",
    "\n",
    "* 8:38 min | Última modificación: Octubre 4, 2021 | [YouTube](https://youtu.be/VxaxtPZwUvc)"
   ]
  },
  {
   "cell_type": "code",
   "execution_count": 1,
   "id": "e2d2ba2e-ea88-44f9-8f47-a1fc0ffc5617",
   "metadata": {},
   "outputs": [
    {
     "data": {
      "text/plain": [
       "'Este es el argumento -1- y este el \"-2-\"'"
      ]
     },
     "execution_count": 1,
     "metadata": {},
     "output_type": "execute_result"
    }
   ],
   "source": [
    "#\n",
    "# Rellena los {} en forma secuencial\n",
    "#\n",
    "'Este es el argumento {} y este el \"{}\"'.format(\"-1-\", \"-2-\")"
   ]
  },
  {
   "cell_type": "code",
   "execution_count": 2,
   "id": "bb187f44-8167-419a-a16d-934724155590",
   "metadata": {},
   "outputs": [
    {
     "data": {
      "text/plain": [
       "'-0- y -1-'"
      ]
     },
     "execution_count": 2,
     "metadata": {},
     "output_type": "execute_result"
    }
   ],
   "source": [
    "#\n",
    "# Se puede indicar el orden de los argumentos\n",
    "#\n",
    "\"{0} y {1}\".format(\"-0-\", \"-1-\")"
   ]
  },
  {
   "cell_type": "code",
   "execution_count": 3,
   "id": "51e28ec4-2f31-43b1-8287-7914791f4f82",
   "metadata": {},
   "outputs": [
    {
     "data": {
      "text/plain": [
       "'-1- y -0-'"
      ]
     },
     "execution_count": 3,
     "metadata": {},
     "output_type": "execute_result"
    }
   ],
   "source": [
    "#\n",
    "# Se puede indicar el orden de los argumentos\n",
    "#\n",
    "\"{1} y {0}\".format(\"-0-\", \"-1-\")"
   ]
  },
  {
   "cell_type": "code",
   "execution_count": 4,
   "id": "806c3660-70d2-4cef-8a66-0d495a8c6da2",
   "metadata": {},
   "outputs": [
    {
     "data": {
      "text/plain": [
       "'-0- y -1-.'"
      ]
     },
     "execution_count": 4,
     "metadata": {},
     "output_type": "execute_result"
    }
   ],
   "source": [
    "#\n",
    "# Argumentos con nombre\n",
    "#\n",
    "\"{arg0} y {arg1}.\".format(arg1=\"-1-\", arg0=\"-0-\")"
   ]
  },
  {
   "cell_type": "code",
   "execution_count": 5,
   "id": "49d4a360-8e76-4d4c-bcbc-b2b44390d7d0",
   "metadata": {},
   "outputs": [
    {
     "data": {
      "text/plain": [
       "'-0-, -1-, y -2-.'"
      ]
     },
     "execution_count": 5,
     "metadata": {},
     "output_type": "execute_result"
    }
   ],
   "source": [
    "\"{}, {}, y {a}.\".format(\"-0-\", \"-1-\", a=\"-2-\")"
   ]
  },
  {
   "cell_type": "markdown",
   "id": "554ef11e-387a-4c63-a733-979a35c54f9a",
   "metadata": {},
   "source": [
    "Los tipos de caracteres para establecer el formato están disponibles en la documentación oficial. Véase https://docs.python.org/3/library/stdtypes.html#old-string-formatting"
   ]
  },
  {
   "cell_type": "code",
   "execution_count": 6,
   "id": "75701e52-bfe0-469d-a5ee-60e1b8a8868e",
   "metadata": {},
   "outputs": [
    {
     "name": "stdout",
     "output_type": "stream",
     "text": [
      " 1   1    1\n",
      " 2   4    8\n",
      " 3   9   27\n",
      " 4  16   64\n",
      " 5  25  125\n",
      " 6  36  216\n",
      " 7  49  343\n",
      " 8  64  512\n",
      " 9  81  729\n",
      "10 100 1000\n"
     ]
    }
   ],
   "source": [
    "#\n",
    "# Impresión de una tabla con formato\n",
    "#\n",
    "for x in range(1, 11):\n",
    "    print(\"{0:2d} {1:3d} {2:4d}\".format(x, x * x, x * x * x))"
   ]
  },
  {
   "cell_type": "code",
   "execution_count": 7,
   "id": "cd30cfa2-0b6b-4346-8db5-db631128f30f",
   "metadata": {},
   "outputs": [
    {
     "data": {
      "text/plain": [
       "'Este es el argumento 1.'"
      ]
     },
     "execution_count": 7,
     "metadata": {},
     "output_type": "execute_result"
    }
   ],
   "source": [
    "#\n",
    "# String en formato raw\n",
    "#\n",
    "x = 1\n",
    "\"Este es el argumento {!r}.\".format(x)"
   ]
  },
  {
   "cell_type": "code",
   "execution_count": 8,
   "id": "4eb60b36-dfa8-4ed7-810a-06b27f54f8ac",
   "metadata": {},
   "outputs": [
    {
     "data": {
      "text/plain": [
       "'Valor de PI con tres decimales: 3.142.'"
      ]
     },
     "execution_count": 8,
     "metadata": {},
     "output_type": "execute_result"
    }
   ],
   "source": [
    "#\n",
    "# Formato de los valores\n",
    "#\n",
    "import math\n",
    "\n",
    "\"Valor de PI con tres decimales: {0:.3f}.\".format(math.pi)"
   ]
  },
  {
   "cell_type": "code",
   "execution_count": 9,
   "id": "56ba1141-4228-402d-bade-5847b34d643a",
   "metadata": {},
   "outputs": [
    {
     "data": {
      "text/plain": [
       "'hola mundo ---- 1.23456789'"
      ]
     },
     "execution_count": 9,
     "metadata": {},
     "output_type": "execute_result"
    }
   ],
   "source": [
    "\"{} ---- {}\".format(\"hola mundo\", 1.23456789)"
   ]
  },
  {
   "cell_type": "code",
   "execution_count": 10,
   "id": "35c67c0f-87e1-4673-859b-7c6ccdfa2943",
   "metadata": {},
   "outputs": [
    {
     "data": {
      "text/plain": [
       "'hola mundo      ----     1.23'"
      ]
     },
     "execution_count": 10,
     "metadata": {},
     "output_type": "execute_result"
    }
   ],
   "source": [
    "#\n",
    "# String de 15 caracteres, numero flotante de 2 decimales\n",
    "#\n",
    "\"{0:15s} ---- {1:8.2f}\".format(\"hola mundo\", 1.23456789)"
   ]
  },
  {
   "cell_type": "code",
   "execution_count": 11,
   "id": "0338e717-e9e8-4d8c-b835-c04223c345ca",
   "metadata": {},
   "outputs": [
    {
     "data": {
      "text/plain": [
       "'     hola mundo ----     1.23'"
      ]
     },
     "execution_count": 11,
     "metadata": {},
     "output_type": "execute_result"
    }
   ],
   "source": [
    "#\n",
    "# String de 15 caracteres alineado a la derecha\n",
    "#\n",
    "\"{0:>15s} ---- {1:8.2f}\".format(\"hola mundo\", 1.23456789)"
   ]
  },
  {
   "cell_type": "code",
   "execution_count": 12,
   "id": "5e0240e6-288f-4d39-b262-a92e120fb209",
   "metadata": {},
   "outputs": [
    {
     "name": "stdout",
     "output_type": "stream",
     "text": [
      "a: 100; b: 101; c: 102\n"
     ]
    }
   ],
   "source": [
    "#\n",
    "# Impresión de un diccionario\n",
    "#\n",
    "dict_ = {\"a\": 100, \"b\": 101, \"c\": 102}\n",
    "print(\"a: {0[a]:d}; \" \"b: {0[b]:d}; \" \"c: {0[c]:d}\".format(dict_))"
   ]
  },
  {
   "cell_type": "code",
   "execution_count": 13,
   "id": "030620d3-adc6-4bfb-a056-3bb95606e121",
   "metadata": {},
   "outputs": [
    {
     "name": "stdout",
     "output_type": "stream",
     "text": [
      "a: 100; b: 101; c: 102\n"
     ]
    }
   ],
   "source": [
    "#\n",
    "# Otra forma de imprimir un diccionario.\n",
    "#\n",
    "dict_ = {\"a\": 100, \"b\": 101, \"c\": 102}\n",
    "print(\"a: {a:d}; b: {b:d}; c: {c:d}\".format(**dict_))"
   ]
  }
 ],
 "metadata": {
  "kernelspec": {
   "display_name": "Python 3",
   "language": "python",
   "name": "python3"
  },
  "language_info": {
   "codemirror_mode": {
    "name": "ipython",
    "version": 3
   },
   "file_extension": ".py",
   "mimetype": "text/x-python",
   "name": "python",
   "nbconvert_exporter": "python",
   "pygments_lexer": "ipython3",
   "version": "3.6.9"
  }
 },
 "nbformat": 4,
 "nbformat_minor": 5
}
