{
 "cells": [
  {
   "cell_type": "markdown",
   "id": "3c6c201f-c69f-4fee-b138-acb8d3b38560",
   "metadata": {},
   "source": [
    "Estilo\n",
    "===\n",
    "\n",
    "* Última modificación: Mayo  14, 2022"
   ]
  },
  {
   "cell_type": "markdown",
   "id": "0d436156-29a0-46a9-a959-ab4b889d4c17",
   "metadata": {},
   "source": [
    "Los comentarios son más difíciles de mantener que el código\n",
    "---"
   ]
  },
  {
   "cell_type": "code",
   "execution_count": null,
   "id": "e6b5f465-9237-4d20-9b7e-48ab4d8927d1",
   "metadata": {},
   "outputs": [],
   "source": [
    "#\n",
    "# En esta función el código cambio pero los comentarios no.\n",
    "#\n",
    "def append_titles(self, input_df, extract_titles):\n",
    "    df = input_df.copy()\n",
    "    if extract_titles:\n",
    "        # Extract title Mrs and Mr from the title,\n",
    "        # and set everything else to special\n",
    "        df[\"Title\"] = df.Name.apply(\n",
    "            lambda x: re.search(r\" ([A-Z][a-z]+)\\.\", x).group(1)\n",
    "        )\n",
    "        df[\"Title\"] = df[\"Title\"].replace({\"Mlle\": \"Miss\", \"Mme\": \"Mrs\", \"Ms\": \"Miss\"})\n",
    "        df[\"Title\"] = df[\"Title\"].replace(\n",
    "            [\n",
    "                \"Don\",\n",
    "                \"Dona\",\n",
    "                \"Rev\",\n",
    "                \"Dr\",\n",
    "                \"Major\",\n",
    "                \"Lady\",\n",
    "                \"Sir\",\n",
    "                \"Col\",\n",
    "                \"Capt\",\n",
    "                \"Countess\",\n",
    "                \"Jonkheer\",\n",
    "            ],\n",
    "            \"Special\",\n",
    "        )\n",
    "\n",
    "\n",
    "return df"
   ]
  },
  {
   "cell_type": "markdown",
   "id": "89c6d09e-7adf-4e19-baee-71fd4e150131",
   "metadata": {},
   "source": [
    "No esconda mal código detrás de comentarios\n",
    "---"
   ]
  },
  {
   "cell_type": "markdown",
   "id": "31c4550c-e65d-4afa-bfb0-81f08681df18",
   "metadata": {},
   "source": [
    "* El código explica qué se hace.\n",
    "\n",
    "* Los comentarios deben explicar por qué se hace."
   ]
  },
  {
   "cell_type": "markdown",
   "id": "1c554e1e-1a56-4171-9a2e-d9da2e87d6a8",
   "metadata": {},
   "source": [
    "El código debe ser auto-explicativo\n",
    "---"
   ]
  },
  {
   "cell_type": "code",
   "execution_count": null,
   "id": "e434aa2c-0177-46a4-8396-b930edbb7708",
   "metadata": {},
   "outputs": [],
   "source": [
    "# Check to see if the model finished training because of convergence\n",
    "if model.train_epoch != MAX_EPOCH and model.last_loss_difference <= MIN_LOSS_DIFF:\n",
    "    pass\n",
    "\n",
    "\n",
    "if model.training_converged(MAX_EPOCH, MIN_LOSS_DIFF):\n",
    "    pass"
   ]
  },
  {
   "cell_type": "code",
   "execution_count": null,
   "id": "6dd1ac84-61cb-4c33-8aba-204f3cfe547e",
   "metadata": {},
   "outputs": [],
   "source": [
    "# Trains the model in a streaming fashion.\n",
    "def train(input_data, batch_size=100):\n",
    "    pass\n",
    "\n",
    "\n",
    "def train_from_streaming_data(input_data, batch_size=100):\n",
    "    pass"
   ]
  },
  {
   "cell_type": "code",
   "execution_count": null,
   "id": "26a60637-59f2-4256-93b3-94bbdca1a8ca",
   "metadata": {},
   "outputs": [],
   "source": [
    "def append_age_categories(self, input_df, use_cut_points, use_quantiles):\n",
    "    \"\"\"\n",
    "    This function makes a copy of the input dataframe.\n",
    "    If the cut_points arg is true then the age column is bucketized.\n",
    "    If the quantiles arg is true then the age column is quantized.\n",
    "    The new column is assigned and the new dataframe is returned\n",
    "    \"\"\"\n",
    "    df = input_df.copy()\n",
    "    if use_cut_points and not use_quantiles:\n",
    "        cut_points = [-1, 0, 5, 12, 18, 35, 60, 100]\n",
    "        label_names = [\n",
    "            \"Missing\",\n",
    "            \"Infant\",\n",
    "            \"Child\" \"Teenager\",\n",
    "            \"Young Adult\",\n",
    "            \"Adult\",\n",
    "            \"Senior\",\n",
    "        ]\n",
    "        df[\"Age_categories\"] = pd.cut(df[\"Age\"], cut_points, labels=label_names)\n",
    "    elif use_quantiles and not use_cut_points:\n",
    "        df[\"Age_categories\"] = pd.qcut(df.Age, q=4, labels=False)\n",
    "    return df\n",
    "\n",
    "\n",
    "def append_age_categories(self, input_df, use_cut_points, use_quantiles):\n",
    "    df = input_df.copy()\n",
    "    if use_cut_points and not use_quantiles:\n",
    "        df = self.bucketize_age(df)\n",
    "    elif use_quantiles and not use_cut_points:\n",
    "        df = self.quantize_age(df)\n",
    "    return df"
   ]
  },
  {
   "cell_type": "markdown",
   "id": "3d35cbc1-f1a5-4615-ac9b-ec7da27fed6c",
   "metadata": {},
   "source": [
    "Comentarios inutiles\n",
    "---"
   ]
  },
  {
   "cell_type": "code",
   "execution_count": null,
   "id": "f31a43bc-dff5-48aa-a5f7-aada9a6c9aa5",
   "metadata": {},
   "outputs": [],
   "source": [
    "def load_features_from_file(): \n",
    "    try:\n",
    "        df = pandas.read_csv(self.features_filepath)\n",
    "    except:\n",
    "        # No features_filepath means remote not initialized\n",
    "    raise Exception()"
   ]
  },
  {
   "cell_type": "code",
   "execution_count": null,
   "id": "13d9e760-e1c1-4be2-b327-2c96d4a5cd25",
   "metadata": {},
   "outputs": [],
   "source": [
    "def upload_new_model_to_repository(self, input_model, repository, timeout):\n",
    "    # creates a new model location for the model\n",
    "    # if the repository is unable to create a new model location\n",
    "    # raise an exception\n",
    "    # Otherwise attempt to upload, and if that does not fail raise another\n",
    "    # exception\n",
    "    try:\n",
    "        repository.create_new_model_location(input_model.uuid)\n",
    "        if repository.is_model_location_set(input_model.uuid):\n",
    "            self.upload_model_to_repository(input_model, repository)\n",
    "        else:\n",
    "            raise Exception(\"Repository not available\")\n",
    "    except:\n",
    "        raise Exception(\"Unable to upload model to repository\")"
   ]
  },
  {
   "cell_type": "markdown",
   "id": "bbc241af-9631-4fa9-b164-890aa3c048b0",
   "metadata": {},
   "source": [
    "Use PEP-8\n",
    "---"
   ]
  },
  {
   "cell_type": "markdown",
   "id": "c915197a-7ed9-4b39-98ee-7f1410ff2ff0",
   "metadata": {},
   "source": [
    "El código en el material de los cursos fue formateado con:\n",
    "\n",
    "* isort\n",
    "\n",
    "* black"
   ]
  },
  {
   "cell_type": "markdown",
   "id": "95afba89-48e5-4831-bc22-3763f3033e7f",
   "metadata": {},
   "source": [
    "Organización del código en el módulo\n",
    "---"
   ]
  },
  {
   "cell_type": "markdown",
   "id": "76f187dd-21d7-4677-a119-6449365649bc",
   "metadata": {},
   "source": [
    "Se recomienda empezar por lo más general y colocar las funciones en el orden en que se llaman."
   ]
  },
  {
   "cell_type": "code",
   "execution_count": null,
   "id": "cec81ad8-9f47-458d-8d36-15df6530dd8b",
   "metadata": {},
   "outputs": [],
   "source": [
    "def append_age_categories(self, input_df, use_cut_points, use_quantiles):\n",
    "    df = input_df.copy()\n",
    "    if use_cut_points and not use_quantiles:\n",
    "        df = self.bucketize_age(df)\n",
    "    elif use_quantiles and not use_cut_points:\n",
    "        df = self.quantize_age(df)\n",
    "    return df\n",
    "\n",
    "\n",
    "def quantize_age(self, input_df):\n",
    "    df = input_df.copy()\n",
    "    df[\"Age_categories\"] = pd.qcut(df.Age, q=4, labels=False)\n",
    "    return df\n",
    "\n",
    "\n",
    "def bucketize_age(self, input_df):\n",
    "    df = input_df.copy()\n",
    "    cut_points = [-1, 0, 5, 12, 18, 35, 60, 100]\n",
    "    label_names = [\n",
    "        \"Missing\",\n",
    "        \"Infant\",\n",
    "        \"Child\",\n",
    "        \"Teenager\",\n",
    "        \"Young Adult\",\n",
    "        \"Adult\",\n",
    "        \"Senior\",\n",
    "    ]\n",
    "    df[\"Age_categories\"] = pd.cut(df[\"Age\"], cut_points, labels=label_names)\n",
    "    return df"
   ]
  },
  {
   "cell_type": "markdown",
   "id": "6c563132-14ba-4d82-8ca1-07147144d126",
   "metadata": {},
   "source": [
    "Dedentación e indentación\n",
    "---"
   ]
  },
  {
   "cell_type": "code",
   "execution_count": null,
   "id": "5c14422a-5068-49dc-9d66-f0a48d0e570f",
   "metadata": {},
   "outputs": [],
   "source": [
    "#\n",
    "# SQL query hugging the left of the editor\n",
    "#\n",
    "def get_data_from_db():\n",
    "    query = \"\"\"\n",
    "SELECT feature_1, feature_2\n",
    "FROM products\n",
    "WHERE feature_3 IN\n",
    "(\n",
    "    SELECT feature_4\n",
    "    FROM orders\n",
    "    INNER JOIN promotions\n",
    "    ON orders.product_id = promotions.product_id\n",
    ")\n",
    "\"\"\"\n",
    "    part_of_the_function()\n",
    "\n",
    "\n",
    "not_part_of_the_function()"
   ]
  },
  {
   "cell_type": "code",
   "execution_count": null,
   "id": "968a800e-778c-4952-81af-8065f1c255d4",
   "metadata": {},
   "outputs": [],
   "source": [
    "from textwrap import dedent\n",
    "\n",
    "\n",
    "#\n",
    "# SQL query with extra spaces.\n",
    "# If the more readable query creates issue swith the DB,\n",
    "# then we dedent the query to remove the extra indentation.\n",
    "#\n",
    "def get_data_from_db():\n",
    "    query = dedent(\n",
    "        \"\"\"\n",
    "        SELECT feature_1 , feature_2\n",
    "        FROM products\n",
    "        WHERE feature_3 IN\n",
    "        (\n",
    "            SELECT feature_4\n",
    "            FROM orders\n",
    "            INNER JOIN promotions\n",
    "            ON orders.product_id = promotions.product_id\n",
    "            )\n",
    "    \"\"\"\n",
    "    )"
   ]
  }
 ],
 "metadata": {
  "kernelspec": {
   "display_name": "Python 3 (ipykernel)",
   "language": "python",
   "name": "python3"
  },
  "language_info": {
   "codemirror_mode": {
    "name": "ipython",
    "version": 3
   },
   "file_extension": ".py",
   "mimetype": "text/x-python",
   "name": "python",
   "nbconvert_exporter": "python",
   "pygments_lexer": "ipython3",
   "version": "3.8.10"
  }
 },
 "nbformat": 4,
 "nbformat_minor": 5
}
