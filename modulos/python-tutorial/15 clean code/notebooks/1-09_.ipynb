{
 "cells": [
  {
   "cell_type": "markdown",
   "id": "a6ca6d8d-69ba-4baf-b826-7ac91b7bfcd3",
   "metadata": {},
   "source": [
    "Organización del proyecto\n",
    "===\n",
    "\n",
    "* Última modificación: Mayo  14, 2022"
   ]
  },
  {
   "cell_type": "markdown",
   "id": "d01b4ad1-adef-4115-8d67-447889ad3d8a",
   "metadata": {},
   "source": [
    "* Los notebooks de jupyter promueven el desorden.\n",
    "\n",
    "* Los notebooks deben ser usados para la parte explicativa, no para desarrollar código.\n",
    "\n",
    "* Los notebooks deben estar estructurados como los módulos. Tienen un fin específico, tienen un orden de lectura y son primariamente para documentar decisiones.\n",
    "\n",
    "* Todo lo demás debe almacenarse en archivos py, md, etc."
   ]
  },
  {
   "cell_type": "markdown",
   "id": "7125bcd3-07bf-44f0-9d42-be3e627b1d60",
   "metadata": {},
   "source": [
    "Cookiecutter\n",
    "---"
   ]
  },
  {
   "cell_type": "markdown",
   "id": "df5a16da-efe6-42ae-99dc-2c0c572a131e",
   "metadata": {},
   "source": [
    "https://github.com/drivendata/cookiecutter-data-science"
   ]
  },
  {
   "cell_type": "markdown",
   "id": "90d386fb-9ccd-4d1d-bb2d-0b4cdf4712c8",
   "metadata": {
    "tags": []
   },
   "source": [
    "```\n",
    "├── LICENSE\n",
    "│\n",
    "├── Makefile                   <- Makefile with commands like `make data` or \n",
    "│                                 `make train`\n",
    "│\n",
    "├── README.md                  <- The top-level README for developers using this\n",
    "└                                 project.\n",
    "├── data/\n",
    "│   ├── external/              <- Data from third party sources.\n",
    "│   ├── interim/               <- Intermediate data that has been transformed.\n",
    "│   ├── processed/             <- The final, canonical data sets for modeling.\n",
    "│   └── raw/                   <- The original, immutable data dump.\n",
    "│\n",
    "├── docs/                      <- A default Sphinx project; see sphinx-doc.org for\n",
    "│                                 details\n",
    "│\n",
    "├── models/                    <- Trained and serialized models, model predictions, \n",
    "│                                 or model summaries\n",
    "│\n",
    "├── notebooks/                 <- Jupyter notebooks. Naming convention is a number\n",
    "│                                 (for ordering),the creator's initials, and a \n",
    "│                                 short `-` delimited description, e.g.\n",
    "│                                 `1.0-jqp-initial-data-exploration`.\n",
    "│\n",
    "├── references/                <- Data dictionaries, manuals, and all other \n",
    "│                                 explanatory materials.\n",
    "│\n",
    "├── reports/                   <- Generated analysis as HTML, PDF, LaTeX, etc.\n",
    "│   └── figures                <- Generated graphics and figures to be used in \n",
    "│                                 reporting\n",
    "│\n",
    "├── requirements.txt           <- The requirements file for reproducing the analysis \n",
    "│                                 environment, e.g. generated with \n",
    "│                                 `pip freeze > requirements.txt`\n",
    "│\n",
    "├── setup.py                   <- makes project pip installable (`pip install -e .`) \n",
    "│                                 so src can be imported\n",
    "│\n",
    "└── src/                       <- Source code for use in this project.\n",
    "    │\n",
    "    ├── __init__.py            <- Makes src a Python module\n",
    "    │\n",
    "    ├── data/                  <- Scripts to download or generate data\n",
    "    │   └── make_dataset.py\n",
    "    │\n",
    "    ├── features/              <- Scripts to turn raw data into features for modeling\n",
    "    │   └── build_features.py\n",
    "    │\n",
    "    ├── models/                <- Scripts to train models and then use trained models\n",
    "    │   │                         to make predictions\n",
    "    │   ├── predict_model.py\n",
    "    │   └── train_model.py\n",
    "    │\n",
    "    └── visualization/         <- Scripts to create exploratory and results oriented \n",
    "        │                         visualizations\n",
    "        └── visualize.py\n",
    "\n",
    "```"
   ]
  },
  {
   "cell_type": "markdown",
   "id": "22c76d47-6cce-42f2-bc21-791df1c5dae4",
   "metadata": {},
   "source": [
    "¿Dónde colocar los tests?\n",
    "---"
   ]
  },
  {
   "cell_type": "markdown",
   "id": "58274906-455f-46d8-8506-a0d1a7a6843d",
   "metadata": {},
   "source": [
    "**Opción 1:** Un solo archivo de prueba"
   ]
  },
  {
   "cell_type": "markdown",
   "id": "f07476d7-5902-4a05-a7a6-33009a14090f",
   "metadata": {
    "tags": []
   },
   "source": [
    "```\n",
    "├── module/\n",
    "│   ├── lib/\n",
    "│   │   ├── __init__.py\n",
    "│   │   └── module.py\n",
    "│   └── test.py\n",
    "```"
   ]
  },
  {
   "cell_type": "markdown",
   "id": "3563a17e-15ba-4505-a43f-d05fdb630168",
   "metadata": {
    "tags": []
   },
   "source": [
    "y en la línea de comando use:  "
   ]
  },
  {
   "cell_type": "markdown",
   "id": "eaed0fc1-fba4-4240-9f6c-1280f85c9b1d",
   "metadata": {
    "tags": []
   },
   "source": [
    "```bash\n",
    "module/ $ python test.py\n",
    "```"
   ]
  },
  {
   "cell_type": "markdown",
   "id": "9d1c7c32-2028-4472-8ed6-0a152329fbdd",
   "metadata": {},
   "source": [
    "**Opción 2:** Muchos archivos de prueba."
   ]
  },
  {
   "cell_type": "markdown",
   "id": "72e63611-cc7c-4a7f-ac08-0c85d787d263",
   "metadata": {},
   "source": [
    "```\n",
    "├── module/\n",
    "│   ├── lib/\n",
    "│   │   ├── __init__.py\n",
    "│   │   └── module.py\n",
    "│   │\n",
    "│   └── tests/\n",
    "│       ├── test_module.py\n",
    "│       └── test_module_function.py\n",
    "```"
   ]
  },
  {
   "cell_type": "markdown",
   "id": "e7f1b850-3989-43fd-a2f2-901037e80be2",
   "metadata": {},
   "source": [
    "```python\n",
    "# test_module.py\n",
    "\n",
    "import unittest\n",
    "from lib import module\n",
    "\n",
    "class TestModule(unittest.TestCase):\n",
    "    def test_module(self):\n",
    "        pass\n",
    "\n",
    "if __name__ == '__main__':\n",
    "    unittest.main()\n",
    "```\n"
   ]
  },
  {
   "cell_type": "markdown",
   "id": "b12433de-a831-45a0-b1af-982c19137a0a",
   "metadata": {},
   "source": [
    "```bash\n",
    "# In top-level /module/ folder\n",
    "python -m tests.test_module\n",
    "python -m tests.test_module_function\n",
    "\n",
    "``` "
   ]
  },
  {
   "cell_type": "markdown",
   "id": "d6e2502c-e18d-404b-b7fc-c22597cff293",
   "metadata": {},
   "source": [
    "**Use unittest discovery**"
   ]
  },
  {
   "cell_type": "markdown",
   "id": "8f4878ba-7bf2-4fce-9135-7acfcdbb4c24",
   "metadata": {},
   "source": [
    "```\n",
    "├── module/\n",
    "│   ├── lib/\n",
    "│   │   ├── __init__.py\n",
    "│   │   └── module.py\n",
    "│   │\n",
    "│   └── tests/\n",
    "│       ├── __init__.py              <-- indica que es un módulo\n",
    "│       ├── test_module.py\n",
    "│       └── test_module_function.py\n",
    "```"
   ]
  },
  {
   "cell_type": "markdown",
   "id": "83ff0dad-063e-4d57-bf8c-404a9e1078fa",
   "metadata": {},
   "source": [
    "```bash\n",
    "# In top-level /module/ folder\n",
    "\n",
    "# -s, --start-directory (default current directory)\n",
    "# -p, --pattern (default test*.py)\n",
    "\n",
    "$ python -m unittest discover\n",
    "``` "
   ]
  },
  {
   "cell_type": "markdown",
   "id": "a07e0367-1d6f-4d2a-82a1-432c59b7724f",
   "metadata": {},
   "source": [
    "¿Dónde colocar las pipelines?\n",
    "---"
   ]
  },
  {
   "cell_type": "markdown",
   "id": "50dc6af5-2f15-45a3-ae9c-89ad12e0b30c",
   "metadata": {},
   "source": [
    "?"
   ]
  },
  {
   "cell_type": "markdown",
   "id": "a50625bd-4283-4ba5-aed0-6e4c43e958c8",
   "metadata": {},
   "source": [
    "¿Dónde colocar el código para orquestación?\n",
    "---"
   ]
  },
  {
   "cell_type": "markdown",
   "id": "f199521f-413f-4168-a298-cbd7a5bf1242",
   "metadata": {},
   "source": [
    "?"
   ]
  }
 ],
 "metadata": {
  "kernelspec": {
   "display_name": "Python 3 (ipykernel)",
   "language": "python",
   "name": "python3"
  },
  "language_info": {
   "codemirror_mode": {
    "name": "ipython",
    "version": 3
   },
   "file_extension": ".py",
   "mimetype": "text/x-python",
   "name": "python",
   "nbconvert_exporter": "python",
   "pygments_lexer": "ipython3",
   "version": "3.8.10"
  }
 },
 "nbformat": 4,
 "nbformat_minor": 5
}
