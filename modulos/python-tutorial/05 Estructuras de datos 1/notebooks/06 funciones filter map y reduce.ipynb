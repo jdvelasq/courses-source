{
 "cells": [
  {
   "cell_type": "markdown",
   "id": "1a9afac7-efff-4019-b9cd-9647988ff463",
   "metadata": {
    "tags": []
   },
   "source": [
    "Funciones filter(), map() y reduce() --- 2:58 min\n",
    "===\n",
    "\n",
    "* 2:58 min | Última modificación: Octubre 4, 2021 | [YouTube](https://youtu.be/h1DPF9MCzDQ)"
   ]
  },
  {
   "cell_type": "code",
   "execution_count": 1,
   "id": "27bc062b-553a-4f43-8a27-5cb99818cea4",
   "metadata": {},
   "outputs": [
    {
     "data": {
      "text/plain": [
       "[5, 6, 7, 8, 9]"
      ]
     },
     "execution_count": 1,
     "metadata": {},
     "output_type": "execute_result"
    }
   ],
   "source": [
    "#\n",
    "# Filter retorna los elementos para los\n",
    "# cuales el condicional da verdadero\n",
    "#\n",
    "list_a = [0, 1, 2, 3, 4, 5, 6, 7, 8, 9]\n",
    "list(filter(lambda element: element > 4, list_a))"
   ]
  },
  {
   "cell_type": "code",
   "execution_count": 2,
   "id": "e53f714b-61f3-48c7-8bf0-27d89dd6676e",
   "metadata": {},
   "outputs": [
    {
     "data": {
      "text/plain": [
       "[10, 11, 12, 13, 14, 15, 16, 17, 18, 19]"
      ]
     },
     "execution_count": 2,
     "metadata": {},
     "output_type": "execute_result"
    }
   ],
   "source": [
    "#\n",
    "# Map aplica una función a cada elemento\n",
    "# de la lista\n",
    "#\n",
    "list_a = [0, 1, 2, 3, 4, 5, 6, 7, 8, 9]\n",
    "\n",
    "#\n",
    "# La función devuelve un iterador por lo\n",
    "# que se debe usar list() para visualizar\n",
    "# los elementos\n",
    "#\n",
    "list(map(lambda element: element + 10, list_a))"
   ]
  },
  {
   "cell_type": "code",
   "execution_count": 3,
   "id": "f1f0426b-b399-48c3-8425-bcf82247cca7",
   "metadata": {},
   "outputs": [
    {
     "data": {
      "text/plain": [
       "21"
      ]
     },
     "execution_count": 3,
     "metadata": {},
     "output_type": "execute_result"
    }
   ],
   "source": [
    "from functools import reduce\n",
    "\n",
    "my_list = [1, 2, 3, 4, 5, 6]\n",
    "\n",
    "reduce(lambda item_1, item_2: item_1 + item_2, my_list)"
   ]
  }
 ],
 "metadata": {
  "kernelspec": {
   "display_name": "Python 3",
   "language": "python",
   "name": "python3"
  },
  "language_info": {
   "codemirror_mode": {
    "name": "ipython",
    "version": 3
   },
   "file_extension": ".py",
   "mimetype": "text/x-python",
   "name": "python",
   "nbconvert_exporter": "python",
   "pygments_lexer": "ipython3",
   "version": "3.6.9"
  }
 },
 "nbformat": 4,
 "nbformat_minor": 5
}
