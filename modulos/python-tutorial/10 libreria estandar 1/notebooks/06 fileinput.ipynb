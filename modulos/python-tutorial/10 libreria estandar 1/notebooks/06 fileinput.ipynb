{
 "cells": [
  {
   "cell_type": "markdown",
   "id": "81e70623-babd-4feb-a221-491f1cc5bced",
   "metadata": {},
   "source": [
    "Librería fileinput (itera sobre lines de multiples streams)\n",
    "===\n",
    "\n",
    "* Última modificación: Mayo 14, 2022"
   ]
  },
  {
   "cell_type": "code",
   "execution_count": 1,
   "id": "c98c622d-a224-46ef-835f-b4fdd33274ec",
   "metadata": {},
   "outputs": [],
   "source": [
    "import fileinput\n",
    "import glob"
   ]
  },
  {
   "cell_type": "code",
   "execution_count": 2,
   "id": "6836c6ee-5fd8-41fc-87cb-f7b3e7ff224d",
   "metadata": {},
   "outputs": [
    {
     "name": "stdout",
     "output_type": "stream",
     "text": [
      "mkdir: cannot create directory ‘/tmp/demo’: File exists\n"
     ]
    }
   ],
   "source": [
    "!mkdir /tmp/demo"
   ]
  },
  {
   "cell_type": "code",
   "execution_count": 3,
   "id": "17f03fe4-3246-47a6-aa57-cc4b82765613",
   "metadata": {},
   "outputs": [
    {
     "name": "stdout",
     "output_type": "stream",
     "text": [
      "Overwriting /tmp/demo/text0.txt\n"
     ]
    }
   ],
   "source": [
    "%%writefile /tmp/demo/text0.txt\n",
    "line 0 0\n",
    "line 0 1\n",
    "line 0 2\n",
    "line 0 3"
   ]
  },
  {
   "cell_type": "code",
   "execution_count": 4,
   "id": "3a4995e8-d0d1-4771-9982-879189ae7156",
   "metadata": {},
   "outputs": [
    {
     "name": "stdout",
     "output_type": "stream",
     "text": [
      "Overwriting /tmp/demo/text1.txt\n"
     ]
    }
   ],
   "source": [
    "%%writefile /tmp/demo/text1.txt\n",
    "line 1 0\n",
    "line 1 1\n",
    "line 1 2"
   ]
  },
  {
   "cell_type": "code",
   "execution_count": 5,
   "id": "61957a36-8ad0-47da-9fed-e7f93affd3ee",
   "metadata": {},
   "outputs": [
    {
     "name": "stdout",
     "output_type": "stream",
     "text": [
      "Overwriting /tmp/demo/text2.txt\n"
     ]
    }
   ],
   "source": [
    "%%writefile /tmp/demo/text2.txt\n",
    "line 2 0\n",
    "line 2 1"
   ]
  },
  {
   "cell_type": "code",
   "execution_count": 6,
   "id": "4aaadabc-d3f0-4f3e-8f25-2ca711c98a5e",
   "metadata": {},
   "outputs": [
    {
     "data": {
      "text/plain": [
       "['/tmp/demo/text1.txt', '/tmp/demo/text0.txt', '/tmp/demo/text2.txt']"
      ]
     },
     "execution_count": 6,
     "metadata": {},
     "output_type": "execute_result"
    }
   ],
   "source": [
    "files = glob.glob('/tmp/demo/*.txt')\n",
    "files"
   ]
  },
  {
   "cell_type": "code",
   "execution_count": 7,
   "id": "58fbcbc5-7845-4d10-a478-fff958029f38",
   "metadata": {},
   "outputs": [
    {
     "name": "stdout",
     "output_type": "stream",
     "text": [
      "filename                   file  line     file          text\n",
      "                     descriptor    no  line no\n",
      "------------------------------------------------------------\n",
      "/tmp/demo/text1.txt          55     1         1  -> line 1 0\n",
      "/tmp/demo/text1.txt          55     2         2  -> line 1 1\n",
      "/tmp/demo/text1.txt          55     3         3  -> line 1 2\n",
      "/tmp/demo/text0.txt          55     4         1  -> line 0 0\n",
      "/tmp/demo/text0.txt          55     5         2  -> line 0 1\n",
      "/tmp/demo/text0.txt          55     6         3  -> line 0 2\n",
      "/tmp/demo/text0.txt          55     7         4  -> line 0 3\n",
      "/tmp/demo/text2.txt          55     8         1  -> line 2 0\n",
      "/tmp/demo/text2.txt          55     9         2  -> line 2 1\n"
     ]
    }
   ],
   "source": [
    "print('filename                   file  line     file          text')\n",
    "print('                     descriptor    no  line no')\n",
    "print('------------------------------------------------------------')\n",
    "\n",
    "with fileinput.input(files=files) as f:\n",
    "    for line in f:\n",
    "        line = line.replace('\\n', '')\n",
    "        print(\n",
    "            f\"{f.filename()}          {f.fileno()}     {f.lineno()}         {f.filelineno()}  -> {line}\"\n",
    "        )\n",
    "        "
   ]
  }
 ],
 "metadata": {
  "kernelspec": {
   "display_name": "Python 3 (ipykernel)",
   "language": "python",
   "name": "python3"
  },
  "language_info": {
   "codemirror_mode": {
    "name": "ipython",
    "version": 3
   },
   "file_extension": ".py",
   "mimetype": "text/x-python",
   "name": "python",
   "nbconvert_exporter": "python",
   "pygments_lexer": "ipython3",
   "version": "3.8.10"
  }
 },
 "nbformat": 4,
 "nbformat_minor": 5
}
