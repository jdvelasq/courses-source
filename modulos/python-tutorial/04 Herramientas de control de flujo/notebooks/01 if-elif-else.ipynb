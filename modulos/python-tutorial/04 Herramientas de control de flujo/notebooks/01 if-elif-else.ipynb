{
 "cells": [
  {
   "cell_type": "markdown",
   "metadata": {},
   "source": [
    "Declaraciones if-elif-else --- 12:43 min\n",
    "===\n",
    "\n",
    "* 12:43 min | Última modificación: Octubre 5, 2021 | [YouTube](https://youtu.be/e-K6_NnNk7M)"
   ]
  },
  {
   "cell_type": "markdown",
   "metadata": {
    "tags": []
   },
   "source": [
    "## Estructura condicional if"
   ]
  },
  {
   "cell_type": "code",
   "execution_count": 1,
   "metadata": {},
   "outputs": [
    {
     "name": "stdout",
     "output_type": "stream",
     "text": [
      "1 es menor que 2\n"
     ]
    }
   ],
   "source": [
    "if 1 < 2:\n",
    "    print(\"1 es menor que 2\")"
   ]
  },
  {
   "cell_type": "markdown",
   "metadata": {},
   "source": [
    "![if-basico.png](assets/if-basico.png)"
   ]
  },
  {
   "cell_type": "markdown",
   "metadata": {},
   "source": [
    "![if-indented-block-error.png](assets/if-indented-block-error.png)"
   ]
  },
  {
   "cell_type": "code",
   "execution_count": 2,
   "metadata": {},
   "outputs": [],
   "source": [
    "if 1 == 2:\n",
    "    print(\"1 no es igual a 2\")"
   ]
  },
  {
   "cell_type": "code",
   "execution_count": 3,
   "metadata": {},
   "outputs": [
    {
     "name": "stdout",
     "output_type": "stream",
     "text": [
      "1 no es igual a 2\n"
     ]
    }
   ],
   "source": [
    "if not 1 == 2:\n",
    "    print(\"1 no es igual a 2\")"
   ]
  },
  {
   "cell_type": "code",
   "execution_count": 4,
   "metadata": {},
   "outputs": [
    {
     "name": "stdout",
     "output_type": "stream",
     "text": [
      "1 es diferente de 2\n"
     ]
    }
   ],
   "source": [
    "if 1 != 2:\n",
    "    print(\"1 es diferente de 2\")"
   ]
  },
  {
   "cell_type": "markdown",
   "metadata": {},
   "source": [
    "![if-error](assets/if-error.png)"
   ]
  },
  {
   "cell_type": "code",
   "execution_count": 5,
   "metadata": {},
   "outputs": [
    {
     "name": "stdout",
     "output_type": "stream",
     "text": [
      "1 es True\n"
     ]
    }
   ],
   "source": [
    "if 1:\n",
    "    print(\"1 es True\")"
   ]
  },
  {
   "cell_type": "code",
   "execution_count": 6,
   "metadata": {},
   "outputs": [
    {
     "name": "stdout",
     "output_type": "stream",
     "text": [
      "-1 es True\n"
     ]
    }
   ],
   "source": [
    "if -1:\n",
    "    print(\"-1 es True\")"
   ]
  },
  {
   "cell_type": "code",
   "execution_count": 7,
   "metadata": {},
   "outputs": [
    {
     "name": "stdout",
     "output_type": "stream",
     "text": [
      "0 es not False\n"
     ]
    }
   ],
   "source": [
    "if not 0:\n",
    "    print(\"0 es not False\")"
   ]
  },
  {
   "cell_type": "code",
   "execution_count": 8,
   "metadata": {},
   "outputs": [
    {
     "name": "stdout",
     "output_type": "stream",
     "text": [
      "Siempre se ejecuta\n"
     ]
    }
   ],
   "source": [
    "if True:\n",
    "    print(\"Siempre se ejecuta\")"
   ]
  },
  {
   "cell_type": "code",
   "execution_count": 9,
   "metadata": {},
   "outputs": [
    {
     "name": "stdout",
     "output_type": "stream",
     "text": [
      "10 + 20 es igual a 5 + 25\n"
     ]
    }
   ],
   "source": [
    "if 10 + 20 == 5 + 25:\n",
    "    print(\"10 + 20 es igual a 5 + 25\")"
   ]
  },
  {
   "cell_type": "code",
   "execution_count": 10,
   "metadata": {},
   "outputs": [
    {
     "name": "stdout",
     "output_type": "stream",
     "text": [
      "30 > 20 > 10 es correcto!\n"
     ]
    }
   ],
   "source": [
    "if 30 > 20 > 10:\n",
    "    print(\"30 > 20 > 10 es correcto!\")"
   ]
  },
  {
   "cell_type": "code",
   "execution_count": 11,
   "metadata": {},
   "outputs": [
    {
     "name": "stdout",
     "output_type": "stream",
     "text": [
      "2 > 1 es correcto!\n"
     ]
    }
   ],
   "source": [
    "one = 1\n",
    "two = 2\n",
    "is_two_gt_one = two > one\n",
    "\n",
    "if is_two_gt_one:\n",
    "    print(\"2 > 1 es correcto!\")"
   ]
  },
  {
   "cell_type": "code",
   "execution_count": 12,
   "metadata": {},
   "outputs": [
    {
     "name": "stdout",
     "output_type": "stream",
     "text": [
      "2 > 1 es correcto!\n"
     ]
    }
   ],
   "source": [
    "if is_two_gt_one is True:\n",
    "    print(\"2 > 1 es correcto!\")"
   ]
  },
  {
   "cell_type": "markdown",
   "metadata": {},
   "source": [
    "## Estructura condicional if-else"
   ]
  },
  {
   "cell_type": "code",
   "execution_count": 13,
   "metadata": {},
   "outputs": [
    {
     "name": "stdout",
     "output_type": "stream",
     "text": [
      "1 > 2 es incorrecto!\n"
     ]
    }
   ],
   "source": [
    "if 1 > 2:\n",
    "    print(\"1 > 2 es correcto!\")\n",
    "else:\n",
    "    print(\"1 > 2 es incorrecto!\")"
   ]
  },
  {
   "cell_type": "markdown",
   "metadata": {},
   "source": [
    "## Estructura condicional if sobre listas"
   ]
  },
  {
   "cell_type": "code",
   "execution_count": 14,
   "metadata": {},
   "outputs": [
    {
     "name": "stdout",
     "output_type": "stream",
     "text": [
      "El valor mínimo de la lista es menor que cero!\n"
     ]
    }
   ],
   "source": [
    "some_list = [-1, 0, 1, 2]\n",
    "\n",
    "if min(some_list) < 0:\n",
    "    print(\"El valor mínimo de la lista es menor que cero!\")\n",
    "else:\n",
    "    print(\"El valor mínimo de la lista no es menor que cero!\")"
   ]
  },
  {
   "cell_type": "code",
   "execution_count": 15,
   "metadata": {},
   "outputs": [
    {
     "name": "stdout",
     "output_type": "stream",
     "text": [
      "1 está en la lista!\n"
     ]
    }
   ],
   "source": [
    "some_list = [-1, 0, 1, 2]\n",
    "\n",
    "if 1 in some_list:\n",
    "    print(\"1 está en la lista!\")"
   ]
  },
  {
   "cell_type": "code",
   "execution_count": 16,
   "metadata": {},
   "outputs": [
    {
     "name": "stdout",
     "output_type": "stream",
     "text": [
      "3 no está en la lista!\n"
     ]
    }
   ],
   "source": [
    "some_list = [-1, 0, 1, 2]\n",
    "\n",
    "if 3 not in some_list:\n",
    "    print(\"3 no está en la lista!\")"
   ]
  },
  {
   "cell_type": "markdown",
   "metadata": {},
   "source": [
    "## Estructura condicional if sobre diccionarios"
   ]
  },
  {
   "cell_type": "code",
   "execution_count": 17,
   "metadata": {},
   "outputs": [
    {
     "name": "stdout",
     "output_type": "stream",
     "text": [
      "'a' esta en las claves del diccionario!\n"
     ]
    }
   ],
   "source": [
    "my_dict = {\n",
    "    'a': 1,\n",
    "    'b': 2,\n",
    "    'c': 3,\n",
    "}\n",
    "\n",
    "if 'a' in my_dict:\n",
    "    print(\"'a' esta en las claves del diccionario!\")"
   ]
  },
  {
   "cell_type": "code",
   "execution_count": 18,
   "metadata": {},
   "outputs": [
    {
     "name": "stdout",
     "output_type": "stream",
     "text": [
      "'a' esta en las claves del diccionario!\n"
     ]
    }
   ],
   "source": [
    "if 'a' in my_dict.keys():\n",
    "    print(\"'a' esta en las claves del diccionario!\")"
   ]
  },
  {
   "cell_type": "code",
   "execution_count": 19,
   "metadata": {},
   "outputs": [
    {
     "name": "stdout",
     "output_type": "stream",
     "text": [
      "'m' no esta en las claves del diccionario!\n"
     ]
    }
   ],
   "source": [
    "if 'm' not in my_dict:\n",
    "    print(\"'m' no esta en las claves del diccionario!\")"
   ]
  },
  {
   "cell_type": "code",
   "execution_count": 20,
   "metadata": {},
   "outputs": [
    {
     "name": "stdout",
     "output_type": "stream",
     "text": [
      "'1' esta en los valores del diccionario!\n"
     ]
    }
   ],
   "source": [
    "if 1 in my_dict.values():\n",
    "    print(\"'1' esta en los valores del diccionario!\")"
   ]
  },
  {
   "cell_type": "markdown",
   "metadata": {
    "tags": []
   },
   "source": [
    "## Condicional if-elif"
   ]
  },
  {
   "cell_type": "code",
   "execution_count": 21,
   "metadata": {},
   "outputs": [
    {
     "name": "stdout",
     "output_type": "stream",
     "text": [
      "El número es mayor que cero!\n"
     ]
    }
   ],
   "source": [
    "#\n",
    "# Función signo de un número codificada\n",
    "# usando if-else anidados.\n",
    "#\n",
    "num = 8\n",
    "if num > 0:\n",
    "    \n",
    "    print(\"El número es mayor que cero!\")\n",
    "    \n",
    "else:\n",
    "    \n",
    "    if num == 0:\n",
    "        print(\"El número es igual a cero!\")\n",
    "    else:\n",
    "        print(\"El número es menor que cero!\")"
   ]
  },
  {
   "cell_type": "code",
   "execution_count": 22,
   "metadata": {},
   "outputs": [
    {
     "name": "stdout",
     "output_type": "stream",
     "text": [
      "El número es menor que cero!\n"
     ]
    }
   ],
   "source": [
    "#\n",
    "# Codificación usando if-elif\n",
    "#\n",
    "num = -3\n",
    "if num > 0:\n",
    "    print(\"El número es mayor que cero!\")\n",
    "    \n",
    "elif num == 0:\n",
    "    print(\"El número es igual a cero!\")\n",
    "    \n",
    "else:\n",
    "    print(\"El número es menor que cero!\")"
   ]
  },
  {
   "cell_type": "code",
   "execution_count": 23,
   "metadata": {},
   "outputs": [
    {
     "data": {
      "text/plain": [
       "15"
      ]
     },
     "execution_count": 23,
     "metadata": {},
     "output_type": "execute_result"
    }
   ],
   "source": [
    "#\n",
    "# Esta es una estructura muy común donde el if-else\n",
    "# se usa para agregación\n",
    "#\n",
    "num = 2\n",
    "if num == 0:\n",
    "    value = 10\n",
    "else:\n",
    "    value = 15\n",
    "value"
   ]
  },
  {
   "cell_type": "code",
   "execution_count": 24,
   "metadata": {},
   "outputs": [
    {
     "data": {
      "text/plain": [
       "15"
      ]
     },
     "execution_count": 24,
     "metadata": {},
     "output_type": "execute_result"
    }
   ],
   "source": [
    "#\n",
    "# Estructura equivalente\n",
    "#\n",
    "num = 2\n",
    "value = 10 if num == 0 else 15\n",
    "value"
   ]
  },
  {
   "cell_type": "code",
   "execution_count": 25,
   "metadata": {},
   "outputs": [
    {
     "data": {
      "text/plain": [
       "18"
      ]
     },
     "execution_count": 25,
     "metadata": {},
     "output_type": "execute_result"
    }
   ],
   "source": [
    "#\n",
    "# Otra estructura típica de asignación.\n",
    "# Note que este if-elif no tiene else final.\n",
    "#\n",
    "num = 2\n",
    "if num == 0:\n",
    "    value = 10\n",
    "elif num == 1:\n",
    "    value = 15\n",
    "elif num == 2:\n",
    "    value = 18\n",
    "value"
   ]
  },
  {
   "cell_type": "code",
   "execution_count": 26,
   "metadata": {},
   "outputs": [
    {
     "data": {
      "text/plain": [
       "18"
      ]
     },
     "execution_count": 26,
     "metadata": {},
     "output_type": "execute_result"
    }
   ],
   "source": [
    "#\n",
    "# Estructura equivalente\n",
    "#\n",
    "num = 2\n",
    "value = {\n",
    "    0: 10,\n",
    "    1: 15,\n",
    "    2: 18,\n",
    "}[num]\n",
    "value"
   ]
  }
 ],
 "metadata": {
  "kernel_info": {
   "name": "python3"
  },
  "kernelspec": {
   "display_name": "Python 3",
   "language": "python",
   "name": "python3"
  },
  "language_info": {
   "codemirror_mode": {
    "name": "ipython",
    "version": 3
   },
   "file_extension": ".py",
   "mimetype": "text/x-python",
   "name": "python",
   "nbconvert_exporter": "python",
   "pygments_lexer": "ipython3",
   "version": "3.6.9"
  },
  "nteract": {
   "version": "0.12.3"
  },
  "toc-autonumbering": false,
  "toc-showcode": false,
  "toc-showmarkdowntxt": false,
  "toc-showtags": false
 },
 "nbformat": 4,
 "nbformat_minor": 4
}
