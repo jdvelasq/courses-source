{
 "cells": [
  {
   "cell_type": "markdown",
   "id": "ec1d09ef-f59e-48fd-beef-bc7af53ce06f",
   "metadata": {
    "tags": []
   },
   "source": [
    "Reemplazo de elementos en listas --- 3:09 min\n",
    "===\n",
    "\n",
    "* 3:09 min | Última modificación: Octubre 4, 2021 | [YouTube](https://youtu.be/Iv9zafmJXag)"
   ]
  },
  {
   "cell_type": "code",
   "execution_count": 1,
   "id": "9f578df0-a8aa-4abe-821e-29faf25c8598",
   "metadata": {},
   "outputs": [
    {
     "data": {
      "text/plain": [
       "64"
      ]
     },
     "execution_count": 1,
     "metadata": {},
     "output_type": "execute_result"
    }
   ],
   "source": [
    "#\n",
    "# Lista de cubos con un elemento malo\n",
    "#\n",
    "cubes_list = [1, 8, 27, 65, 125]\n",
    "\n",
    "#\n",
    "# El cubo de 4 es 64, no 65!\n",
    "#\n",
    "4 ** 3"
   ]
  },
  {
   "cell_type": "code",
   "execution_count": 2,
   "id": "13950a6a-c6ac-4677-bc62-b5e2f5b0f37e",
   "metadata": {},
   "outputs": [
    {
     "data": {
      "text/plain": [
       "[1, 8, 27, 64, 125]"
      ]
     },
     "execution_count": 2,
     "metadata": {},
     "output_type": "execute_result"
    }
   ],
   "source": [
    "#\n",
    "# Se reemplaza el valor erróneo\n",
    "#\n",
    "cubes_list[3] = 64\n",
    "cubes_list"
   ]
  },
  {
   "cell_type": "code",
   "execution_count": 3,
   "id": "f575d07d-f69a-42b5-a62a-7fe3a643c416",
   "metadata": {},
   "outputs": [
    {
     "data": {
      "text/plain": [
       "['a', 'b', 'c', 'd', 'e', 'f', 'g']"
      ]
     },
     "execution_count": 3,
     "metadata": {},
     "output_type": "execute_result"
    }
   ],
   "source": [
    "letters_list = [\"a\", \"b\", \"c\", \"d\", \"e\", \"f\", \"g\"]\n",
    "letters_list"
   ]
  },
  {
   "cell_type": "code",
   "execution_count": 4,
   "id": "9263fc21-d110-4ef7-88e8-bcbfa69124f1",
   "metadata": {},
   "outputs": [
    {
     "data": {
      "text/plain": [
       "['a', 'b', 'C', 'D', 'E', 'f', 'g']"
      ]
     },
     "execution_count": 4,
     "metadata": {},
     "output_type": "execute_result"
    }
   ],
   "source": [
    "#\n",
    "# Reemplazo por un rango de posiciones\n",
    "#\n",
    "#  +---+---+---+---+---+---+---+\n",
    "#  | a | b | c | d | e | f | g |\n",
    "#  +---+---+---+---+---+---+---+\n",
    "#    0   1   2   3   4   5   6 \n",
    "#   -7  -6  -5  -4  -3  -2  -1\n",
    "#\n",
    "letters_list[2:5] = [\"C\", \"D\", \"E\"]\n",
    "letters_list"
   ]
  },
  {
   "cell_type": "code",
   "execution_count": 5,
   "id": "dd6203f8-c3fd-416e-96b3-a230ebdf2f00",
   "metadata": {},
   "outputs": [
    {
     "data": {
      "text/plain": [
       "['a', 'b', 'f', 'g']"
      ]
     },
     "execution_count": 5,
     "metadata": {},
     "output_type": "execute_result"
    }
   ],
   "source": [
    "#\n",
    "# Borrado de un rango de elementos\n",
    "#\n",
    "#  +---+---+---+---+---+---+---+\n",
    "#  | a | b | C | D | E | f | g |\n",
    "#  +---+---+---+---+---+---+---+\n",
    "#    0   1   2   3   4   5   6 \n",
    "#   -7  -6  -5  -4  -3  -2  -1\n",
    "#\n",
    "letters_list[2:5] = []\n",
    "letters_list"
   ]
  },
  {
   "cell_type": "code",
   "execution_count": 6,
   "id": "f7d392ab-7445-40c9-a034-71ecffa5d151",
   "metadata": {},
   "outputs": [
    {
     "data": {
      "text/plain": [
       "['a', 'c', 'e', 'g']"
      ]
     },
     "execution_count": 6,
     "metadata": {},
     "output_type": "execute_result"
    }
   ],
   "source": [
    "letters_list = [\"a\", \"b\", \"c\", \"d\", \"e\", \"f\", \"g\"]\n",
    "\n",
    "#\n",
    "# Selección cada 2 elementos\n",
    "#\n",
    "#  +---+---+---+---+---+---+---+\n",
    "#  | a | b | c | d | e | f | g |\n",
    "#  +---+---+---+---+---+---+---+\n",
    "#    0   1   2   3   4   5   6 \n",
    "#   -7  -6  -5  -4  -3  -2  -1\n",
    "#\n",
    "letters_list[0:7:2]"
   ]
  },
  {
   "cell_type": "code",
   "execution_count": 7,
   "id": "a59b1d57-51bb-4b4d-9db5-5e6992a44764",
   "metadata": {},
   "outputs": [
    {
     "data": {
      "text/plain": [
       "['A', 'b', 'C', 'd', 'E', 'f', 'G']"
      ]
     },
     "execution_count": 7,
     "metadata": {},
     "output_type": "execute_result"
    }
   ],
   "source": [
    "#\n",
    "# Reemplazo cada 2 elementos\n",
    "#\n",
    "#  +---+---+---+---+---+---+---+\n",
    "#  | a | b | c | d | e | f | g |\n",
    "#  +---+---+---+---+---+---+---+\n",
    "#    0   1   2   3   4   5   6 \n",
    "#   -7  -6  -5  -4  -3  -2  -1\n",
    "#\n",
    "letters_list[0:7:2] = [\"A\", \"C\", \"E\", \"G\"]\n",
    "letters_list"
   ]
  }
 ],
 "metadata": {
  "kernelspec": {
   "display_name": "Python 3",
   "language": "python",
   "name": "python3"
  },
  "language_info": {
   "codemirror_mode": {
    "name": "ipython",
    "version": 3
   },
   "file_extension": ".py",
   "mimetype": "text/x-python",
   "name": "python",
   "nbconvert_exporter": "python",
   "pygments_lexer": "ipython3",
   "version": "3.6.9"
  }
 },
 "nbformat": 4,
 "nbformat_minor": 5
}
