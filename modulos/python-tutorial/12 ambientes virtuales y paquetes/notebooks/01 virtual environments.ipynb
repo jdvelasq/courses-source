{
 "cells": [
  {
   "cell_type": "markdown",
   "id": "18168091-bccb-4c2c-aec2-97eb90c516b0",
   "metadata": {},
   "source": [
    "Ambientes virtuales y paquetes\n",
    "===\n",
    "\n",
    "* Última modificación: Mayo 14, 2022"
   ]
  },
  {
   "cell_type": "markdown",
   "id": "f7c4ebff-01ad-4c78-a541-c318818f0420",
   "metadata": {},
   "source": [
    "Ambientes virtuales\n",
    "--"
   ]
  },
  {
   "cell_type": "markdown",
   "id": "dc8cb785-efac-4845-8309-c9548db9dba6",
   "metadata": {},
   "source": [
    "Permite crear y manejar ambientes virtuales para aislar la versión de python usada y las librerias."
   ]
  },
  {
   "cell_type": "markdown",
   "id": "96dacbd6-e7df-4d87-aead-d900a9ec421d",
   "metadata": {},
   "source": [
    "```bash\n",
    "$ python3 -m venv tutorial-env\n",
    "``` "
   ]
  },
  {
   "cell_type": "markdown",
   "id": "82462639-0e49-43f4-82c8-a607d17b33ce",
   "metadata": {},
   "source": [
    "```bash\n",
    "$ pythone -m venv tutorial-env --python=python3.10\n",
    "```"
   ]
  },
  {
   "cell_type": "markdown",
   "id": "672915de-93cc-47b6-be67-1d5469f64415",
   "metadata": {},
   "source": [
    "**Activación en windows**:\n",
    "\n",
    "```\n",
    "$ tutorial-env\\Scripts\\activate.bat\n",
    "```"
   ]
  },
  {
   "cell_type": "markdown",
   "id": "5411c989-ea16-4184-bee9-2f51e70eaa79",
   "metadata": {},
   "source": [
    "**Activación en MacOS/Linux**:\n",
    "\n",
    "```bash\n",
    "$ source tutorial-env/bin/activate\n",
    "``` "
   ]
  },
  {
   "cell_type": "markdown",
   "id": "4b7253f4-acbd-40cb-b82a-09e137a0c22e",
   "metadata": {},
   "source": [
    "**Desactivación**\n",
    "\n",
    "```bash\n",
    "$ deactivate\n",
    "```"
   ]
  },
  {
   "cell_type": "markdown",
   "id": "c8fbdbec-2c52-413f-af2f-c1eaff224add",
   "metadata": {},
   "source": [
    "Paquetes\n",
    "---"
   ]
  },
  {
   "cell_type": "markdown",
   "id": "3c6441c6-b640-498f-a211-2db16d6ed65e",
   "metadata": {},
   "source": [
    "Una vez activo un ambiente virtual, se puede proceder a instalar los paquetes en el ambiente."
   ]
  },
  {
   "cell_type": "markdown",
   "id": "b4a8d1ea-359c-47ba-acf5-19205f70d154",
   "metadata": {},
   "source": [
    "```bash\n",
    "$ source tutorial-env/bin/activate\n",
    "(tutorial-env) $ python -m pip install novas\n",
    "Collecting novas\n",
    "  Downloading novas-3.1.1.3.tar.gz (136kB)\n",
    "Installing collected packages: novas\n",
    "  Running setup.py install for novas\n",
    "Successfully installed novas-3.1.1.3\n",
    "\n",
    "(tutorial-env) $ python -m pip install requests==2.6.0\n",
    "Collecting requests==2.6.0\n",
    "  Using cached requests-2.6.0-py2.py3-none-any.whl\n",
    "Installing collected packages: requests\n",
    "Successfully installed requests-2.6.0\n",
    "\n",
    "(tutorial-env) $ python -m pip install --upgrade requests\n",
    "Collecting requests\n",
    "Installing collected packages: requests\n",
    "  Found existing installation: requests 2.6.0\n",
    "    Uninstalling requests-2.6.0:\n",
    "      Successfully uninstalled requests-2.6.0\n",
    "Successfully installed requests-2.7.0\n",
    "```"
   ]
  },
  {
   "cell_type": "markdown",
   "id": "0331f137-c632-49b5-988c-078240d195dc",
   "metadata": {},
   "source": [
    "Use:\n",
    "\n",
    "* pip uninstall: para desinstalar un paquete\n",
    "\n",
    "* pip show: para mostra la información relacionada con un paquete:\n",
    "\n",
    "```bash\n",
    "---\n",
    "Metadata-Version: 2.0\n",
    "Name: requests\n",
    "Version: 2.7.0\n",
    "Summary: Python HTTP for Humans.\n",
    "Home-page: http://python-requests.org\n",
    "Author: Kenneth Reitz\n",
    "Author-email: me@kennethreitz.com\n",
    "License: Apache 2.0\n",
    "Location: /Users/akuchling/envs/tutorial-env/lib/python3.4/site-packages\n",
    "```\n",
    "\n",
    "* pip list: para mostrar los paquetes instalados\n",
    "\n",
    "```bash\n",
    "(tutorial-env) $ pip list\n",
    "novas (3.1.1.3)\n",
    "numpy (1.9.2)\n",
    "pip (7.0.3)\n",
    "requests (2.7.0)\n",
    "setuptools (16.0)\n",
    "```\n",
    "\n",
    "* pip freeze: para producir un listado de los paquetes instalados\n",
    "\n",
    "```bash\n",
    "(tutorial-env) $ pip freeze > requirements.txt\n",
    "(tutorial-env) $ cat requirements.txt\n",
    "novas==3.1.1.3\n",
    "numpy==1.9.2\n",
    "requests==2.7.0\n",
    "\n",
    "(tutorial-env) $ python -m pip install -r requirements.txt\n",
    "Collecting novas==3.1.1.3 (from -r requirements.txt (line 1))\n",
    "  ...\n",
    "Collecting numpy==1.9.2 (from -r requirements.txt (line 2))\n",
    "  ...\n",
    "Collecting requests==2.7.0 (from -r requirements.txt (line 3))\n",
    "  ...\n",
    "Installing collected packages: novas, numpy, requests\n",
    "  Running setup.py install for novas\n",
    "Successfully installed novas-3.1.1.3 numpy-1.9.2 requests-2.7.0\n",
    "```"
   ]
  },
  {
   "cell_type": "markdown",
   "id": "66fae562-82a0-4060-a4d0-f6496d7bf899",
   "metadata": {},
   "source": [
    "VS Code\n",
    "----"
   ]
  },
  {
   "cell_type": "markdown",
   "id": "d922a1e9-8983-4866-9e18-286cc3d428a7",
   "metadata": {},
   "source": [
    "En VScode, el ambiente se llama '.venv' y está en la raiz del proyecto."
   ]
  }
 ],
 "metadata": {
  "kernelspec": {
   "display_name": "Python 3 (ipykernel)",
   "language": "python",
   "name": "python3"
  },
  "language_info": {
   "codemirror_mode": {
    "name": "ipython",
    "version": 3
   },
   "file_extension": ".py",
   "mimetype": "text/x-python",
   "name": "python",
   "nbconvert_exporter": "python",
   "pygments_lexer": "ipython3",
   "version": "3.8.10"
  }
 },
 "nbformat": 4,
 "nbformat_minor": 5
}
