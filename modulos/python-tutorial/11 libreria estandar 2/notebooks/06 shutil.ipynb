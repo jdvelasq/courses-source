{
 "cells": [
  {
   "cell_type": "markdown",
   "id": "05701cb0-3ff2-4390-b951-b37e9148e12c",
   "metadata": {},
   "source": [
    "Librería shutil (Operaciones de alto nivel sobre archivos)\n",
    "===\n",
    "\n",
    "* Última modificación: Mayo 14, 2022"
   ]
  },
  {
   "cell_type": "code",
   "execution_count": 1,
   "id": "1c96b66d-4835-46d0-82b3-da71447c63d8",
   "metadata": {},
   "outputs": [],
   "source": [
    "import shutil"
   ]
  },
  {
   "cell_type": "code",
   "execution_count": 2,
   "id": "40820f28-087c-4f24-8ab6-4cf09eebb26a",
   "metadata": {},
   "outputs": [
    {
     "data": {
      "text/plain": [
       "'/tmp/demo-copy.txt'"
      ]
     },
     "execution_count": 2,
     "metadata": {},
     "output_type": "execute_result"
    }
   ],
   "source": [
    "!touch /tmp/demo.txt\n",
    "shutil.copyfile('/tmp/demo.txt', '/tmp/demo-copy.txt')"
   ]
  },
  {
   "cell_type": "code",
   "execution_count": 3,
   "id": "3a7ec38d-04bd-43ae-bfc2-bda398f0fe7e",
   "metadata": {},
   "outputs": [
    {
     "name": "stdout",
     "output_type": "stream",
     "text": [
      "'/tmp/archivo-con-nombre-escapado-*-?.txt'\n",
      "/tmp/demo-copy.txt\n",
      "/tmp/demo.txt\n",
      "/tmp/demo2.txt\n",
      "/tmp/demo3.txt\n"
     ]
    }
   ],
   "source": [
    "!ls -1 /tmp/*.txt"
   ]
  },
  {
   "cell_type": "code",
   "execution_count": 4,
   "id": "919daa87-7532-46e2-821c-cee29675264d",
   "metadata": {},
   "outputs": [
    {
     "data": {
      "text/plain": [
       "'/tmp/demo2.txt'"
      ]
     },
     "execution_count": 4,
     "metadata": {},
     "output_type": "execute_result"
    }
   ],
   "source": [
    "shutil.copy('/tmp/demo.txt', '/tmp/demo2.txt')"
   ]
  },
  {
   "cell_type": "code",
   "execution_count": 5,
   "id": "d41578f0-f382-4e61-a687-00ff9658ff5c",
   "metadata": {},
   "outputs": [],
   "source": [
    "import os\n",
    "\n",
    "!rm -rf \n",
    "os.makedirs('/tmp/branch-0/branch-1/branch-2', exist_ok=True)\n",
    "!touch /tmp/branch-0/branch-1/branch-2.txt"
   ]
  },
  {
   "cell_type": "code",
   "execution_count": 6,
   "id": "97536d0e-6b78-4fe0-b7cd-8bd6b79d2a23",
   "metadata": {},
   "outputs": [
    {
     "data": {
      "text/plain": [
       "'/tmp/copy'"
      ]
     },
     "execution_count": 6,
     "metadata": {},
     "output_type": "execute_result"
    }
   ],
   "source": [
    "shutil.copytree('/tmp/branch-0/', '/tmp/copy')"
   ]
  },
  {
   "cell_type": "code",
   "execution_count": 7,
   "id": "8efcccab-1fe4-4974-bdef-777581e16a78",
   "metadata": {},
   "outputs": [
    {
     "name": "stdout",
     "output_type": "stream",
     "text": [
      "/tmp/copy:\n",
      "branch-0-0  branch-1\n",
      "\n",
      "/tmp/copy/branch-0-0:\n",
      "branch-0-0-0  branch-0-0-1\n",
      "\n",
      "/tmp/copy/branch-0-0/branch-0-0-0:\n",
      "demo-0.txt\n",
      "\n",
      "/tmp/copy/branch-0-0/branch-0-0-1:\n",
      "demo-1.txt\n",
      "\n",
      "/tmp/copy/branch-1:\n",
      "branch-2  branch-2.txt\n",
      "\n",
      "/tmp/copy/branch-1/branch-2:\n"
     ]
    }
   ],
   "source": [
    "!ls -R /tmp/copy"
   ]
  },
  {
   "cell_type": "code",
   "execution_count": 8,
   "id": "c4e86d4f-9757-420a-9024-f66d9e2c315a",
   "metadata": {},
   "outputs": [],
   "source": [
    "shutil.rmtree('/tmp/copy')"
   ]
  },
  {
   "cell_type": "code",
   "execution_count": 9,
   "id": "20a35499-3065-482a-a1fd-942ed4525806",
   "metadata": {},
   "outputs": [
    {
     "name": "stdout",
     "output_type": "stream",
     "text": [
      "'archivo-con-nombre-escapado-*-?.txt'\n",
      "branch-0\n",
      "branch-1\n",
      "demo\n",
      "demo-copy.txt\n",
      "demo.txt\n",
      "demo2.txt\n",
      "demo3.txt\n"
     ]
    }
   ],
   "source": [
    "!ls -1 /tmp"
   ]
  },
  {
   "cell_type": "code",
   "execution_count": 10,
   "id": "415b1d84-81f9-4c81-bd71-510af6c69608",
   "metadata": {},
   "outputs": [
    {
     "name": "stdout",
     "output_type": "stream",
     "text": [
      "'archivo-con-nombre-escapado-*-?.txt'\n",
      "branch-0\n",
      "branch-1\n",
      "demo\n",
      "demo-copy.txt\n",
      "demo.txt\n",
      "demo3.txt\n"
     ]
    }
   ],
   "source": [
    "shutil.move('/tmp/demo2.txt', '/tmp/demo3.txt')\n",
    "!ls -1 /tmp"
   ]
  },
  {
   "cell_type": "code",
   "execution_count": 11,
   "id": "2ce544a5-d39a-4806-9c91-28f78db5fbcc",
   "metadata": {},
   "outputs": [
    {
     "data": {
      "text/plain": [
       "'/usr/bin/python3'"
      ]
     },
     "execution_count": 11,
     "metadata": {},
     "output_type": "execute_result"
    }
   ],
   "source": [
    "shutil.which('python3')"
   ]
  }
 ],
 "metadata": {
  "kernelspec": {
   "display_name": "Python 3 (ipykernel)",
   "language": "python",
   "name": "python3"
  },
  "language_info": {
   "codemirror_mode": {
    "name": "ipython",
    "version": 3
   },
   "file_extension": ".py",
   "mimetype": "text/x-python",
   "name": "python",
   "nbconvert_exporter": "python",
   "pygments_lexer": "ipython3",
   "version": "3.8.10"
  }
 },
 "nbformat": 4,
 "nbformat_minor": 5
}
