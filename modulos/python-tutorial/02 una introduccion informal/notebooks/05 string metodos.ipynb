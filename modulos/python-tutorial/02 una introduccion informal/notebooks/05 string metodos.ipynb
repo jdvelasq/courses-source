{
 "cells": [
  {
   "cell_type": "markdown",
   "id": "cd9e44db-6c0e-44a8-8f46-965ee713cf45",
   "metadata": {
    "tags": []
   },
   "source": [
    "Strings - Métodos disponibles --- 8:42 min\n",
    "===\n",
    "\n",
    "* 8:42 min | Última modificación: Octubre 4, 2021 | [YouTube](https://youtu.be/ia3r6DlPLJg)"
   ]
  },
  {
   "cell_type": "code",
   "execution_count": 1,
   "id": "393d1324-07c8-4c65-8045-6d7a1d377440",
   "metadata": {},
   "outputs": [
    {
     "data": {
      "text/plain": [
       "'hola mundo'"
      ]
     },
     "execution_count": 1,
     "metadata": {},
     "output_type": "execute_result"
    }
   ],
   "source": [
    "#\n",
    "# Método replace\n",
    "# =============================================================================\n",
    "#\n",
    "# Borra los caracteres '-' de la cadena de texto\n",
    "#\n",
    "\"h-o-l-a- -m-u-n-d-o\".replace(\"-\", \"\")"
   ]
  },
  {
   "cell_type": "code",
   "execution_count": 2,
   "id": "7e95e66b-ad06-4f4f-ad84-1279db4d2b69",
   "metadata": {},
   "outputs": [
    {
     "data": {
      "text/plain": [
       "'h=o=l=a= =m=u=n=d=o'"
      ]
     },
     "execution_count": 2,
     "metadata": {},
     "output_type": "execute_result"
    }
   ],
   "source": [
    "#\n",
    "# Cambia los '-'  por '='\n",
    "#\n",
    "\"h-o-l-a- -m-u-n-d-o\".replace(\"-\", \"=\")"
   ]
  },
  {
   "cell_type": "code",
   "execution_count": 3,
   "id": "53736722-e90f-453b-a8d2-61873c0e3791",
   "metadata": {},
   "outputs": [
    {
     "data": {
      "text/plain": [
       "'HOLA MUNDO'"
      ]
     },
     "execution_count": 3,
     "metadata": {},
     "output_type": "execute_result"
    }
   ],
   "source": [
    "#\n",
    "# Método upper\n",
    "# =============================================================================\n",
    "#\n",
    "\"hola mundo\".upper()"
   ]
  },
  {
   "cell_type": "code",
   "execution_count": 4,
   "id": "0af9294d-39b7-4a97-865a-f5c297371529",
   "metadata": {},
   "outputs": [
    {
     "data": {
      "text/plain": [
       "'hola mundo'"
      ]
     },
     "execution_count": 4,
     "metadata": {},
     "output_type": "execute_result"
    }
   ],
   "source": [
    "#\n",
    "# Método lower\n",
    "# =============================================================================\n",
    "#\n",
    "\"HOLA MUNDO\".lower()"
   ]
  },
  {
   "cell_type": "code",
   "execution_count": 5,
   "id": "7f4f96aa-043e-4a44-aff7-a9ea450e6b94",
   "metadata": {},
   "outputs": [
    {
     "data": {
      "text/plain": [
       "'Hola mundo'"
      ]
     },
     "execution_count": 5,
     "metadata": {},
     "output_type": "execute_result"
    }
   ],
   "source": [
    "#\n",
    "# Método capitalize\n",
    "# =============================================================================\n",
    "#\n",
    "\"hola mundo\".capitalize()"
   ]
  },
  {
   "cell_type": "code",
   "execution_count": 6,
   "id": "e61b1aab-8f98-4d58-b9e0-a23f299465fa",
   "metadata": {},
   "outputs": [
    {
     "data": {
      "text/plain": [
       "'hOLA mUNDO cRUEL'"
      ]
     },
     "execution_count": 6,
     "metadata": {},
     "output_type": "execute_result"
    }
   ],
   "source": [
    "#\n",
    "# Método swapcase\n",
    "# =============================================================================\n",
    "#\n",
    "\"Hola Mundo Cruel\".swapcase()"
   ]
  },
  {
   "cell_type": "code",
   "execution_count": 7,
   "id": "696c7fa4-a883-4d81-a17b-8758038b07ba",
   "metadata": {},
   "outputs": [
    {
     "data": {
      "text/plain": [
       "'Hola Mundo Cruel'"
      ]
     },
     "execution_count": 7,
     "metadata": {},
     "output_type": "execute_result"
    }
   ],
   "source": [
    "#\n",
    "# Método title\n",
    "# =============================================================================\n",
    "#\n",
    "\"hola mundo cruel\".title()"
   ]
  },
  {
   "cell_type": "code",
   "execution_count": 8,
   "id": "2c262a4d-b130-474e-b82a-c8da7c7c4caf",
   "metadata": {},
   "outputs": [
    {
     "data": {
      "text/plain": [
       "'-----hola mundo-----'"
      ]
     },
     "execution_count": 8,
     "metadata": {},
     "output_type": "execute_result"
    }
   ],
   "source": [
    "#\n",
    "# Método center\n",
    "# =============================================================================\n",
    "#\n",
    "\"hola mundo\".center(20, \"-\")"
   ]
  },
  {
   "cell_type": "code",
   "execution_count": 9,
   "id": "94e46c7e-0c03-4f89-97d9-022717a7023e",
   "metadata": {},
   "outputs": [
    {
     "data": {
      "text/plain": [
       "'hola mundo----------'"
      ]
     },
     "execution_count": 9,
     "metadata": {},
     "output_type": "execute_result"
    }
   ],
   "source": [
    "#\n",
    "# Método ljust\n",
    "# =============================================================================\n",
    "#\n",
    "\"hola mundo\".ljust(20, \"-\")"
   ]
  },
  {
   "cell_type": "code",
   "execution_count": 10,
   "id": "0a7748a7-1a96-4d1b-a8c0-4aff73637d49",
   "metadata": {},
   "outputs": [
    {
     "data": {
      "text/plain": [
       "'----------hola mundo'"
      ]
     },
     "execution_count": 10,
     "metadata": {},
     "output_type": "execute_result"
    }
   ],
   "source": [
    "#\n",
    "# Método rjust\n",
    "# =============================================================================\n",
    "#\n",
    "\"hola mundo\".rjust(20, \"-\")"
   ]
  },
  {
   "cell_type": "code",
   "execution_count": 11,
   "id": "0c473fbc-bc89-4c9d-b761-04a6ebe4b089",
   "metadata": {},
   "outputs": [
    {
     "data": {
      "text/plain": [
       "3"
      ]
     },
     "execution_count": 11,
     "metadata": {},
     "output_type": "execute_result"
    }
   ],
   "source": [
    "#\n",
    "# Método count\n",
    "# =============================================================================\n",
    "#\n",
    "\"abcdeabcdeabcde\".count(\"ab\")"
   ]
  },
  {
   "cell_type": "code",
   "execution_count": 12,
   "id": "315c4690-8830-45ac-90b1-f2525f9aecc8",
   "metadata": {},
   "outputs": [
    {
     "data": {
      "text/plain": [
       "5"
      ]
     },
     "metadata": {},
     "output_type": "display_data"
    },
    {
     "data": {
      "text/plain": [
       "-1"
      ]
     },
     "metadata": {},
     "output_type": "display_data"
    }
   ],
   "source": [
    "#\n",
    "# Método find\n",
    "# =============================================================================\n",
    "# Posicion de la primera aparación de la cadena 'cd'\n",
    "#\n",
    "display(\n",
    "    \"hola mundo cruel\".find(\"mundo\"),\n",
    "    \"hola mundo cruel\".find(\"mundo\", 10),\n",
    ")"
   ]
  },
  {
   "cell_type": "code",
   "execution_count": 13,
   "id": "9a300336-ed51-467b-affd-fd5cca66e623",
   "metadata": {},
   "outputs": [
    {
     "data": {
      "text/plain": [
       "5"
      ]
     },
     "execution_count": 13,
     "metadata": {},
     "output_type": "execute_result"
    }
   ],
   "source": [
    "#\n",
    "# Método index\n",
    "# =============================================================================\n",
    "# Posicion de la primera aparación de la cadena 'mundo'\n",
    "#\n",
    "\"hola mundo cruel\".index(\"mundo\")"
   ]
  },
  {
   "cell_type": "code",
   "execution_count": 14,
   "id": "b6c9d56a-9a9b-4771-9a49-34a5067958b9",
   "metadata": {},
   "outputs": [
    {
     "data": {
      "text/plain": [
       "('1', ',', '2,3,4,5')"
      ]
     },
     "execution_count": 14,
     "metadata": {},
     "output_type": "execute_result"
    }
   ],
   "source": [
    "#\n",
    "# Método partition\n",
    "# =============================================================================\n",
    "#\n",
    "\"1,2,3,4,5\".partition(\",\")"
   ]
  },
  {
   "cell_type": "code",
   "execution_count": 15,
   "id": "cf52bb2a-c2b2-4846-92d5-eb3ce7c30321",
   "metadata": {},
   "outputs": [
    {
     "data": {
      "text/plain": [
       "['1', '2', '3', '4', '5']"
      ]
     },
     "execution_count": 15,
     "metadata": {},
     "output_type": "execute_result"
    }
   ],
   "source": [
    "#\n",
    "# Método split\n",
    "# =============================================================================\n",
    "#\n",
    "\"1,2,3,4,5\".split(\",\")"
   ]
  },
  {
   "cell_type": "code",
   "execution_count": 16,
   "id": "7707ff91-b04d-49ad-9432-d9352492c472",
   "metadata": {},
   "outputs": [
    {
     "data": {
      "text/plain": [
       "['1', '2', '3', '4', '5']"
      ]
     },
     "metadata": {},
     "output_type": "display_data"
    },
    {
     "data": {
      "text/plain": [
       "['1,2,3', '4', '5']"
      ]
     },
     "metadata": {},
     "output_type": "display_data"
    }
   ],
   "source": [
    "#\n",
    "# Método rsplit\n",
    "# =============================================================================\n",
    "#\n",
    "display(\n",
    "    \"1,2,3,4,5\".rsplit(\",\"),\n",
    "    \"1,2,3,4,5\".rsplit(\",\", maxsplit=2),\n",
    ")"
   ]
  },
  {
   "cell_type": "code",
   "execution_count": 17,
   "id": "fc271613-0c49-4092-9f38-4e4605beda5d",
   "metadata": {},
   "outputs": [
    {
     "data": {
      "text/plain": [
       "'a-b-c'"
      ]
     },
     "execution_count": 17,
     "metadata": {},
     "output_type": "execute_result"
    }
   ],
   "source": [
    "#\n",
    "# Método join\n",
    "# =============================================================================\n",
    "#\n",
    "\"-\".join([\"a\", \"b\", \"c\"])"
   ]
  },
  {
   "cell_type": "code",
   "execution_count": 18,
   "id": "3d09975b-2eaa-4e92-8950-a887b5734ff3",
   "metadata": {},
   "outputs": [
    {
     "data": {
      "text/plain": [
       "['hola', 'mundo', 'cruel']"
      ]
     },
     "execution_count": 18,
     "metadata": {},
     "output_type": "execute_result"
    }
   ],
   "source": [
    "#\n",
    "# Método splitlines\n",
    "# =============================================================================\n",
    "# Parte por los caracteres '\\n'.\n",
    "# Se usa en la lectura de archivos de texto.\n",
    "#\n",
    "\"hola\\nmundo\\ncruel\".splitlines()"
   ]
  },
  {
   "cell_type": "code",
   "execution_count": 19,
   "id": "68085d0c-5915-483f-ab92-bc09ae561e99",
   "metadata": {},
   "outputs": [
    {
     "data": {
      "text/plain": [
       "True"
      ]
     },
     "execution_count": 19,
     "metadata": {},
     "output_type": "execute_result"
    }
   ],
   "source": [
    "#\n",
    "# Método isalnum\n",
    "# =============================================================================\n",
    "#\n",
    "'abc123'.isalnum() # alfanumérico?"
   ]
  },
  {
   "cell_type": "code",
   "execution_count": 20,
   "id": "10b81d5a-debe-411e-9755-44d1c75c3814",
   "metadata": {},
   "outputs": [
    {
     "data": {
      "text/plain": [
       "False"
      ]
     },
     "execution_count": 20,
     "metadata": {},
     "output_type": "execute_result"
    }
   ],
   "source": [
    "#\n",
    "# Método isalnum\n",
    "# =============================================================================\n",
    "#\n",
    "'()#@'.isalnum() # alfanumérico?"
   ]
  },
  {
   "cell_type": "code",
   "execution_count": 21,
   "id": "34ecc524-0557-4c6d-aa87-82df3d851007",
   "metadata": {},
   "outputs": [
    {
     "data": {
      "text/plain": [
       "True"
      ]
     },
     "execution_count": 21,
     "metadata": {},
     "output_type": "execute_result"
    }
   ],
   "source": [
    "#\n",
    "# Método isalpha\n",
    "# =============================================================================\n",
    "#\n",
    "\"abc\".isalpha()"
   ]
  },
  {
   "cell_type": "code",
   "execution_count": 22,
   "id": "bac8e657-bef5-42b1-9125-d00f94fd3f0c",
   "metadata": {},
   "outputs": [
    {
     "data": {
      "text/plain": [
       "True"
      ]
     },
     "execution_count": 22,
     "metadata": {},
     "output_type": "execute_result"
    }
   ],
   "source": [
    "#\n",
    "# Método isdigit\n",
    "# =============================================================================\n",
    "#\n",
    "\"1234\".isdigit()"
   ]
  },
  {
   "cell_type": "code",
   "execution_count": 23,
   "id": "d01b2ab4-5053-4708-b0d5-548a4702d85d",
   "metadata": {},
   "outputs": [
    {
     "data": {
      "text/plain": [
       "False"
      ]
     },
     "execution_count": 23,
     "metadata": {},
     "output_type": "execute_result"
    }
   ],
   "source": [
    "\"1.234\".isdigit()"
   ]
  },
  {
   "cell_type": "code",
   "execution_count": 24,
   "id": "dccc09ad-bc52-4859-a78a-6b9feed64992",
   "metadata": {},
   "outputs": [
    {
     "data": {
      "text/plain": [
       "False"
      ]
     },
     "execution_count": 24,
     "metadata": {},
     "output_type": "execute_result"
    }
   ],
   "source": [
    "#\n",
    "# Método isnumeric\n",
    "# =============================================================================\n",
    "#\n",
    "\"1.234\".isnumeric()"
   ]
  },
  {
   "cell_type": "code",
   "execution_count": 25,
   "id": "fc807453-bbe0-4629-877c-85552b88156a",
   "metadata": {},
   "outputs": [
    {
     "data": {
      "text/plain": [
       "'00012'"
      ]
     },
     "execution_count": 25,
     "metadata": {},
     "output_type": "execute_result"
    }
   ],
   "source": [
    "#\n",
    "# Método zfill\n",
    "# =============================================================================\n",
    "#\n",
    "\"12\".zfill(5)"
   ]
  },
  {
   "cell_type": "code",
   "execution_count": 26,
   "id": "8db12bc3-d3a9-477b-8595-05119cbc00b7",
   "metadata": {},
   "outputs": [
    {
     "data": {
      "text/plain": [
       "'-003.14'"
      ]
     },
     "execution_count": 26,
     "metadata": {},
     "output_type": "execute_result"
    }
   ],
   "source": [
    "\"-3.14\".zfill(7)"
   ]
  },
  {
   "cell_type": "code",
   "execution_count": 27,
   "id": "196386d8-01e7-41c1-9edf-cab29eca349a",
   "metadata": {},
   "outputs": [
    {
     "data": {
      "text/plain": [
       "'3.14159265359'"
      ]
     },
     "execution_count": 27,
     "metadata": {},
     "output_type": "execute_result"
    }
   ],
   "source": [
    "\"3.14159265359\".zfill(5)"
   ]
  }
 ],
 "metadata": {
  "kernelspec": {
   "display_name": "Python 3",
   "language": "python",
   "name": "python3"
  },
  "language_info": {
   "codemirror_mode": {
    "name": "ipython",
    "version": 3
   },
   "file_extension": ".py",
   "mimetype": "text/x-python",
   "name": "python",
   "nbconvert_exporter": "python",
   "pygments_lexer": "ipython3",
   "version": "3.6.9"
  }
 },
 "nbformat": 4,
 "nbformat_minor": 5
}
