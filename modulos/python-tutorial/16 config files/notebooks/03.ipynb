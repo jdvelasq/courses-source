{
 "cells": [
  {
   "cell_type": "markdown",
   "id": "8049cc76-65e0-4532-a2a3-17d6df7ce983",
   "metadata": {
    "tags": []
   },
   "source": [
    "Archivos .json\n",
    "===\n",
    "\n",
    "* Ultima modificación: Mayo 14, 2022"
   ]
  },
  {
   "cell_type": "markdown",
   "id": "779ab54f-1ffe-4123-a444-2a127d548395",
   "metadata": {},
   "source": [
    "Parámetros\n",
    "--"
   ]
  },
  {
   "cell_type": "code",
   "execution_count": 1,
   "id": "23626ac3-1bb6-454e-86c1-e0d6c57aec8f",
   "metadata": {},
   "outputs": [
    {
     "data": {
      "text/plain": [
       "{'as_dict': {'host': 'localhost', 'port': 8082},\n",
       " 'as_list': ['value 0', 'value 1', 'value 2'],\n",
       " 'as_integer': 100,\n",
       " 'as_float': 1.0}"
      ]
     },
     "execution_count": 1,
     "metadata": {},
     "output_type": "execute_result"
    }
   ],
   "source": [
    "#\n",
    "# Se almacenan como diccionarios\n",
    "#\n",
    "params = {\n",
    "    \"as_dict\": {\n",
    "        \"host\": \"localhost\",\n",
    "        \"port\": 8082,\n",
    "    },\n",
    "    \"as_list\": [\n",
    "        \"value 0\",\n",
    "        \"value 1\",\n",
    "        \"value 2\",\n",
    "    ],\n",
    "    \"as_integer\": 100,\n",
    "    \"as_float\": 1.0,\n",
    "}\n",
    "\n",
    "params"
   ]
  },
  {
   "cell_type": "markdown",
   "id": "50d20ba2-429d-45d1-b705-fab728065361",
   "metadata": {},
   "source": [
    "Escritura del archivo de configuración\n",
    "---"
   ]
  },
  {
   "cell_type": "code",
   "execution_count": 2,
   "id": "8283edd1-96ae-4927-b657-d108f2eee264",
   "metadata": {},
   "outputs": [],
   "source": [
    "import json\n",
    "\n",
    "with open(\"config.json\", \"w\") as out_file:\n",
    "    json.dump(params, out_file)"
   ]
  },
  {
   "cell_type": "code",
   "execution_count": 3,
   "id": "f3f4e6a5-8f16-4ede-8212-b8ce144caf1d",
   "metadata": {},
   "outputs": [
    {
     "name": "stdout",
     "output_type": "stream",
     "text": [
      "{\"as_dict\": {\"host\": \"localhost\", \"port\": 8082}, \"as_list\": [\"value 0\", \"value 1\", \"value 2\"], \"as_integer\": 100, \"as_float\": 1.0}"
     ]
    }
   ],
   "source": [
    "!cat config.json"
   ]
  },
  {
   "cell_type": "code",
   "execution_count": 4,
   "id": "15180fb9-188b-4536-bf38-7d8636850482",
   "metadata": {},
   "outputs": [],
   "source": [
    "with open(\"config.json\", \"w\") as out_file:\n",
    "    json.dump(\n",
    "        params,\n",
    "        fp=out_file,\n",
    "        indent=4,\n",
    "        sort_keys=True,\n",
    "    )"
   ]
  },
  {
   "cell_type": "code",
   "execution_count": 5,
   "id": "2f8bd606-d802-4554-b8bf-43cb0ef4ce00",
   "metadata": {},
   "outputs": [
    {
     "name": "stdout",
     "output_type": "stream",
     "text": [
      "{\n",
      "    \"as_dict\": {\n",
      "        \"host\": \"localhost\",\n",
      "        \"port\": 8082\n",
      "    },\n",
      "    \"as_float\": 1.0,\n",
      "    \"as_integer\": 100,\n",
      "    \"as_list\": [\n",
      "        \"value 0\",\n",
      "        \"value 1\",\n",
      "        \"value 2\"\n",
      "    ]\n",
      "}"
     ]
    }
   ],
   "source": [
    "!cat config.json"
   ]
  },
  {
   "cell_type": "markdown",
   "id": "e3a6c4f3-ecd3-426b-8615-8a6119e19417",
   "metadata": {},
   "source": [
    "Lectura desde un archivo\n",
    "---"
   ]
  },
  {
   "cell_type": "code",
   "execution_count": 6,
   "id": "d0e9b366-b59c-4040-b95b-fa99e0526df3",
   "metadata": {},
   "outputs": [
    {
     "data": {
      "text/plain": [
       "{'as_dict': {'host': 'localhost', 'port': 8082},\n",
       " 'as_float': 1.0,\n",
       " 'as_integer': 100,\n",
       " 'as_list': ['value 0', 'value 1', 'value 2']}"
      ]
     },
     "execution_count": 6,
     "metadata": {},
     "output_type": "execute_result"
    }
   ],
   "source": [
    "with open('config.json', 'r') as in_file:\n",
    "    params = json.load(in_file)\n",
    "    \n",
    "params"
   ]
  },
  {
   "cell_type": "markdown",
   "id": "c88a45ae-c7a4-4a7d-8651-e6f792aba5bc",
   "metadata": {},
   "source": [
    "Lectura en la linea de comandos\n",
    "---"
   ]
  },
  {
   "cell_type": "code",
   "execution_count": 7,
   "id": "0eb0eb1e-ebec-4298-a6ed-654570d7c7cc",
   "metadata": {},
   "outputs": [
    {
     "name": "stdout",
     "output_type": "stream",
     "text": [
      "{\n",
      "    \"as_dict\": {\n",
      "        \"host\": \"localhost\",\n",
      "        \"port\": 8082\n",
      "    },\n",
      "    \"as_float\": 1.0,\n",
      "    \"as_integer\": 100,\n",
      "    \"as_list\": [\n",
      "        \"value 0\",\n",
      "        \"value 1\",\n",
      "        \"value 2\"\n",
      "    ]\n",
      "}\n"
     ]
    }
   ],
   "source": [
    "!python3 -m json.tool config.json"
   ]
  },
  {
   "cell_type": "code",
   "execution_count": 8,
   "id": "0c8c531e-3334-437c-a7ff-ae94a6e5dd70",
   "metadata": {},
   "outputs": [],
   "source": [
    "!rm config.json"
   ]
  }
 ],
 "metadata": {
  "kernelspec": {
   "display_name": "Python 3 (ipykernel)",
   "language": "python",
   "name": "python3"
  },
  "language_info": {
   "codemirror_mode": {
    "name": "ipython",
    "version": 3
   },
   "file_extension": ".py",
   "mimetype": "text/x-python",
   "name": "python",
   "nbconvert_exporter": "python",
   "pygments_lexer": "ipython3",
   "version": "3.8.10"
  }
 },
 "nbformat": 4,
 "nbformat_minor": 5
}
